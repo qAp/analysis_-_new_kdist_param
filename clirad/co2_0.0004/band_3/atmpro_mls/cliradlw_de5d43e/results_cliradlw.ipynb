{
 "cells": [
  {
   "cell_type": "code",
   "execution_count": 1,
   "metadata": {
    "collapsed": true
   },
   "outputs": [],
   "source": [
    "%matplotlib inline\n",
    "import os\n",
    "import re\n",
    "import io\n",
    "import itertools\n",
    "import pprint\n",
    "\n",
    "from bokeh.io import output_notebook, show\n",
    "from bokeh.layouts import gridplot\n",
    "from bokeh.plotting import figure\n",
    "from bokeh.models import Range1d, Legend\n",
    "from bokeh.palettes import all_palettes\n",
    "\n",
    "import matplotlib\n",
    "import matplotlib.pyplot as plt\n",
    "import numpy as np\n",
    "import pandas as pd\n",
    "import xarray as xr\n",
    "\n",
    "import climatools.lblnew.bestfit_params as bestfits\n",
    "from climatools.lblnew import setup_bestfit, setup_overlap\n",
    "import climatools.lblnew.pipeline as pipe_lblnew\n",
    "import climatools.cliradlw.setup as setup_cliradlw\n",
    "import climatools.cliradlw.pipeline as pipe_cliradlw\n",
    "\n",
    "import climatools.html.html as climahtml\n",
    "from climatools.lblnew.dataio import *\n",
    "from climatools.plot.plot import *\n",
    "\n",
    "\n",
    "import IPython.display as display"
   ]
  },
  {
   "cell_type": "code",
   "execution_count": 2,
   "metadata": {
    "collapsed": true
   },
   "outputs": [],
   "source": [
    "%run param.py"
   ]
  },
  {
   "cell_type": "code",
   "execution_count": 3,
   "metadata": {
    "collapsed": true
   },
   "outputs": [],
   "source": [
    "def load_output_file(path_csv):\n",
    "    '''\n",
    "    Load lblnew output .csv file to xarray.Dataset\n",
    "    \n",
    "    Parameters\n",
    "    ----------\n",
    "    path_csv: str\n",
    "              Path to the .csv file to be loaded.\n",
    "    ds: xarray.Dataset\n",
    "        Data in the input file in the form of an xarray.Dataset.\n",
    "    '''\n",
    "    toindex = ['band', 'pressure', 'igg', 'g']    \n",
    "    df = pd.read_csv(path_csv, sep=r'\\s+')\n",
    "    df = df.set_index([i for i in toindex if i in df.columns])\n",
    "    df = df.rename(columns={'sfu': 'flug',\n",
    "                            'sfd': 'fldg',\n",
    "                            'fnet': 'fnetg',\n",
    "                            'coolr': 'coolrg'})\n",
    "    ds = xr.Dataset.from_dataframe(df)\n",
    "\n",
    "    for l in ('level', 'layer'):\n",
    "        if l in ds.data_vars:\n",
    "            if len(ds[l].dims) > 1:\n",
    "                surface = {d: 0 for d in ds.dims if d != 'pressure'}\n",
    "                coord_level = ds[l][surface]\n",
    "                ds.coords[l] = ('pressure', coord_level)\n",
    "            else:\n",
    "                ds.coords[l] = ('pressure', ds[l])\n",
    "    \n",
    "    return ds"
   ]
  },
  {
   "cell_type": "code",
   "execution_count": 4,
   "metadata": {
    "collapsed": true
   },
   "outputs": [],
   "source": [
    "def lblnew_setup(param=None):\n",
    "    if 'ng_refs' in param:\n",
    "        return {'setup': setup_bestfit,\n",
    "                'fname_flux_crd': 'output_flux.dat',\n",
    "                'fname_cool_crd': 'output_coolr.dat',\n",
    "                'fname_flux_wgt': 'output_wfluxg.dat',\n",
    "                'fname_cool_wgt': 'output_wcoolrg.dat'}\n",
    "    else:\n",
    "        return {'setup': setup_overlap,\n",
    "                'fname_flux_crd': 'output_flux.dat',\n",
    "                'fname_cool_crd': 'output_coolr.dat',\n",
    "                'fname_flux_wgt': 'output_wflux.dat',\n",
    "                'fname_cool_wgt': 'output_wcoolr.dat'}\n",
    "\n",
    "    \n",
    "def load_lblnew_data(param):\n",
    "    \n",
    "    fname_dsname = [('fname_flux_crd', 'ds_flux_crd'),\n",
    "                    ('fname_cool_crd', 'ds_cool_crd'),\n",
    "                    ('fname_flux_wgt', 'ds_flux_wgt'),\n",
    "                    ('fname_cool_wgt', 'ds_cool_wgt')]\n",
    "    \n",
    "    d = lblnew_setup(param)\n",
    "    dir_fortran = pipe_lblnew.get_dir_case(param, setup=d['setup'])\n",
    "    \n",
    "    data_dict = {}\n",
    "    for fname, dsname in fname_dsname:\n",
    "        fpath = os.path.join(dir_fortran, d[fname])\n",
    "        data_dict[dsname] = load_output_file(fpath)\n",
    "    return data_dict\n",
    "    \n",
    "\n",
    "    \n",
    "    "
   ]
  },
  {
   "cell_type": "code",
   "execution_count": 5,
   "metadata": {
    "collapsed": true
   },
   "outputs": [],
   "source": [
    "d = load_lblnew_data(PARAM_LBLNEW)\n",
    "\n",
    "DS_FLUX_CRD = d['ds_flux_crd']\n",
    "DS_COOL_CRD = d['ds_cool_crd']\n",
    "DS_FLUX_WGT = d['ds_flux_wgt']\n",
    "DS_COOL_WGT = d['ds_cool_wgt']"
   ]
  },
  {
   "cell_type": "code",
   "execution_count": 6,
   "metadata": {
    "collapsed": true
   },
   "outputs": [],
   "source": [
    "DIR_FORTRAN = pipe_cliradlw.get_fortran_dir(PARAM, \n",
    "                                            setup=setup_cliradlw)\n",
    "\n",
    "PATH_FLUX = os.path.join(DIR_FORTRAN, 'output_flux.dat')\n",
    "PATH_COOL = os.path.join(DIR_FORTRAN, 'output_coolr.dat')\n",
    "\n",
    "DS_FLUX = load_output_file(PATH_FLUX)\n",
    "DS_COOL = load_output_file(PATH_COOL)"
   ]
  },
  {
   "cell_type": "code",
   "execution_count": 7,
   "metadata": {
    "collapsed": true
   },
   "outputs": [
    {
     "data": {
      "text/html": [
       "\n",
       "    <div class=\"bk-root\">\n",
       "        <a href=\"https://bokeh.pydata.org\" target=\"_blank\" class=\"bk-logo bk-logo-small bk-logo-notebook\"></a>\n",
       "        <span id=\"b7612a77-f56d-4381-a641-bd0eab2989f9\">Loading BokehJS ...</span>\n",
       "    </div>"
      ]
     },
     "metadata": {},
     "output_type": "display_data"
    },
    {
     "data": {
      "application/javascript": [
       "\n",
       "(function(root) {\n",
       "  function now() {\n",
       "    return new Date();\n",
       "  }\n",
       "\n",
       "  var force = true;\n",
       "\n",
       "  if (typeof (root._bokeh_onload_callbacks) === \"undefined\" || force === true) {\n",
       "    root._bokeh_onload_callbacks = [];\n",
       "    root._bokeh_is_loading = undefined;\n",
       "  }\n",
       "\n",
       "  var JS_MIME_TYPE = 'application/javascript';\n",
       "  var HTML_MIME_TYPE = 'text/html';\n",
       "  var EXEC_MIME_TYPE = 'application/vnd.bokehjs_exec.v0+json';\n",
       "  var CLASS_NAME = 'output_bokeh rendered_html';\n",
       "\n",
       "  /**\n",
       "   * Render data to the DOM node\n",
       "   */\n",
       "  function render(props, node) {\n",
       "    var script = document.createElement(\"script\");\n",
       "    node.appendChild(script);\n",
       "  }\n",
       "\n",
       "  /**\n",
       "   * Handle when an output is cleared or removed\n",
       "   */\n",
       "  function handleClearOutput(event, handle) {\n",
       "    var cell = handle.cell;\n",
       "\n",
       "    var id = cell.output_area._bokeh_element_id;\n",
       "    var server_id = cell.output_area._bokeh_server_id;\n",
       "    // Clean up Bokeh references\n",
       "    if (id !== undefined) {\n",
       "      Bokeh.index[id].model.document.clear();\n",
       "      delete Bokeh.index[id];\n",
       "    }\n",
       "\n",
       "    if (server_id !== undefined) {\n",
       "      // Clean up Bokeh references\n",
       "      var cmd = \"from bokeh.io.state import curstate; print(curstate().uuid_to_server['\" + server_id + \"'].get_sessions()[0].document.roots[0]._id)\";\n",
       "      cell.notebook.kernel.execute(cmd, {\n",
       "        iopub: {\n",
       "          output: function(msg) {\n",
       "            var element_id = msg.content.text.trim();\n",
       "            Bokeh.index[element_id].model.document.clear();\n",
       "            delete Bokeh.index[element_id];\n",
       "          }\n",
       "        }\n",
       "      });\n",
       "      // Destroy server and session\n",
       "      var cmd = \"import bokeh.io.notebook as ion; ion.destroy_server('\" + server_id + \"')\";\n",
       "      cell.notebook.kernel.execute(cmd);\n",
       "    }\n",
       "  }\n",
       "\n",
       "  /**\n",
       "   * Handle when a new output is added\n",
       "   */\n",
       "  function handleAddOutput(event, handle) {\n",
       "    var output_area = handle.output_area;\n",
       "    var output = handle.output;\n",
       "\n",
       "    // limit handleAddOutput to display_data with EXEC_MIME_TYPE content only\n",
       "    if ((output.output_type != \"display_data\") || (!output.data.hasOwnProperty(EXEC_MIME_TYPE))) {\n",
       "      return\n",
       "    }\n",
       "\n",
       "    var toinsert = output_area.element.find(\".\" + CLASS_NAME.split(' ')[0]);\n",
       "\n",
       "    if (output.metadata[EXEC_MIME_TYPE][\"id\"] !== undefined) {\n",
       "      toinsert[toinsert.length - 1].firstChild.textContent = output.data[JS_MIME_TYPE];\n",
       "      // store reference to embed id on output_area\n",
       "      output_area._bokeh_element_id = output.metadata[EXEC_MIME_TYPE][\"id\"];\n",
       "    }\n",
       "    if (output.metadata[EXEC_MIME_TYPE][\"server_id\"] !== undefined) {\n",
       "      var bk_div = document.createElement(\"div\");\n",
       "      bk_div.innerHTML = output.data[HTML_MIME_TYPE];\n",
       "      var script_attrs = bk_div.children[0].attributes;\n",
       "      for (var i = 0; i < script_attrs.length; i++) {\n",
       "        toinsert[toinsert.length - 1].firstChild.setAttribute(script_attrs[i].name, script_attrs[i].value);\n",
       "      }\n",
       "      // store reference to server id on output_area\n",
       "      output_area._bokeh_server_id = output.metadata[EXEC_MIME_TYPE][\"server_id\"];\n",
       "    }\n",
       "  }\n",
       "\n",
       "  function register_renderer(events, OutputArea) {\n",
       "\n",
       "    function append_mime(data, metadata, element) {\n",
       "      // create a DOM node to render to\n",
       "      var toinsert = this.create_output_subarea(\n",
       "        metadata,\n",
       "        CLASS_NAME,\n",
       "        EXEC_MIME_TYPE\n",
       "      );\n",
       "      this.keyboard_manager.register_events(toinsert);\n",
       "      // Render to node\n",
       "      var props = {data: data, metadata: metadata[EXEC_MIME_TYPE]};\n",
       "      render(props, toinsert[toinsert.length - 1]);\n",
       "      element.append(toinsert);\n",
       "      return toinsert\n",
       "    }\n",
       "\n",
       "    /* Handle when an output is cleared or removed */\n",
       "    events.on('clear_output.CodeCell', handleClearOutput);\n",
       "    events.on('delete.Cell', handleClearOutput);\n",
       "\n",
       "    /* Handle when a new output is added */\n",
       "    events.on('output_added.OutputArea', handleAddOutput);\n",
       "\n",
       "    /**\n",
       "     * Register the mime type and append_mime function with output_area\n",
       "     */\n",
       "    OutputArea.prototype.register_mime_type(EXEC_MIME_TYPE, append_mime, {\n",
       "      /* Is output safe? */\n",
       "      safe: true,\n",
       "      /* Index of renderer in `output_area.display_order` */\n",
       "      index: 0\n",
       "    });\n",
       "  }\n",
       "\n",
       "  // register the mime type if in Jupyter Notebook environment and previously unregistered\n",
       "  if (root.Jupyter !== undefined) {\n",
       "    var events = require('base/js/events');\n",
       "    var OutputArea = require('notebook/js/outputarea').OutputArea;\n",
       "\n",
       "    if (OutputArea.prototype.mime_types().indexOf(EXEC_MIME_TYPE) == -1) {\n",
       "      register_renderer(events, OutputArea);\n",
       "    }\n",
       "  }\n",
       "\n",
       "  \n",
       "  if (typeof (root._bokeh_timeout) === \"undefined\" || force === true) {\n",
       "    root._bokeh_timeout = Date.now() + 5000;\n",
       "    root._bokeh_failed_load = false;\n",
       "  }\n",
       "\n",
       "  var NB_LOAD_WARNING = {'data': {'text/html':\n",
       "     \"<div style='background-color: #fdd'>\\n\"+\n",
       "     \"<p>\\n\"+\n",
       "     \"BokehJS does not appear to have successfully loaded. If loading BokehJS from CDN, this \\n\"+\n",
       "     \"may be due to a slow or bad network connection. Possible fixes:\\n\"+\n",
       "     \"</p>\\n\"+\n",
       "     \"<ul>\\n\"+\n",
       "     \"<li>re-rerun `output_notebook()` to attempt to load from CDN again, or</li>\\n\"+\n",
       "     \"<li>use INLINE resources instead, as so:</li>\\n\"+\n",
       "     \"</ul>\\n\"+\n",
       "     \"<code>\\n\"+\n",
       "     \"from bokeh.resources import INLINE\\n\"+\n",
       "     \"output_notebook(resources=INLINE)\\n\"+\n",
       "     \"</code>\\n\"+\n",
       "     \"</div>\"}};\n",
       "\n",
       "  function display_loaded() {\n",
       "    var el = document.getElementById(\"b7612a77-f56d-4381-a641-bd0eab2989f9\");\n",
       "    if (el != null) {\n",
       "      el.textContent = \"BokehJS is loading...\";\n",
       "    }\n",
       "    if (root.Bokeh !== undefined) {\n",
       "      if (el != null) {\n",
       "        el.textContent = \"BokehJS \" + root.Bokeh.version + \" successfully loaded.\";\n",
       "      }\n",
       "    } else if (Date.now() < root._bokeh_timeout) {\n",
       "      setTimeout(display_loaded, 100)\n",
       "    }\n",
       "  }\n",
       "\n",
       "\n",
       "  function run_callbacks() {\n",
       "    try {\n",
       "      root._bokeh_onload_callbacks.forEach(function(callback) { callback() });\n",
       "    }\n",
       "    finally {\n",
       "      delete root._bokeh_onload_callbacks\n",
       "    }\n",
       "    console.info(\"Bokeh: all callbacks have finished\");\n",
       "  }\n",
       "\n",
       "  function load_libs(js_urls, callback) {\n",
       "    root._bokeh_onload_callbacks.push(callback);\n",
       "    if (root._bokeh_is_loading > 0) {\n",
       "      console.log(\"Bokeh: BokehJS is being loaded, scheduling callback at\", now());\n",
       "      return null;\n",
       "    }\n",
       "    if (js_urls == null || js_urls.length === 0) {\n",
       "      run_callbacks();\n",
       "      return null;\n",
       "    }\n",
       "    console.log(\"Bokeh: BokehJS not loaded, scheduling load and callback at\", now());\n",
       "    root._bokeh_is_loading = js_urls.length;\n",
       "    for (var i = 0; i < js_urls.length; i++) {\n",
       "      var url = js_urls[i];\n",
       "      var s = document.createElement('script');\n",
       "      s.src = url;\n",
       "      s.async = false;\n",
       "      s.onreadystatechange = s.onload = function() {\n",
       "        root._bokeh_is_loading--;\n",
       "        if (root._bokeh_is_loading === 0) {\n",
       "          console.log(\"Bokeh: all BokehJS libraries loaded\");\n",
       "          run_callbacks()\n",
       "        }\n",
       "      };\n",
       "      s.onerror = function() {\n",
       "        console.warn(\"failed to load library \" + url);\n",
       "      };\n",
       "      console.log(\"Bokeh: injecting script tag for BokehJS library: \", url);\n",
       "      document.getElementsByTagName(\"head\")[0].appendChild(s);\n",
       "    }\n",
       "  };var element = document.getElementById(\"b7612a77-f56d-4381-a641-bd0eab2989f9\");\n",
       "  if (element == null) {\n",
       "    console.log(\"Bokeh: ERROR: autoload.js configured with elementid 'b7612a77-f56d-4381-a641-bd0eab2989f9' but no matching script tag was found. \")\n",
       "    return false;\n",
       "  }\n",
       "\n",
       "  var js_urls = [\"https://cdn.pydata.org/bokeh/release/bokeh-0.12.16.min.js\", \"https://cdn.pydata.org/bokeh/release/bokeh-widgets-0.12.16.min.js\", \"https://cdn.pydata.org/bokeh/release/bokeh-tables-0.12.16.min.js\", \"https://cdn.pydata.org/bokeh/release/bokeh-gl-0.12.16.min.js\"];\n",
       "\n",
       "  var inline_js = [\n",
       "    function(Bokeh) {\n",
       "      Bokeh.set_log_level(\"info\");\n",
       "    },\n",
       "    \n",
       "    function(Bokeh) {\n",
       "      \n",
       "    },\n",
       "    function(Bokeh) {\n",
       "      console.log(\"Bokeh: injecting CSS: https://cdn.pydata.org/bokeh/release/bokeh-0.12.16.min.css\");\n",
       "      Bokeh.embed.inject_css(\"https://cdn.pydata.org/bokeh/release/bokeh-0.12.16.min.css\");\n",
       "      console.log(\"Bokeh: injecting CSS: https://cdn.pydata.org/bokeh/release/bokeh-widgets-0.12.16.min.css\");\n",
       "      Bokeh.embed.inject_css(\"https://cdn.pydata.org/bokeh/release/bokeh-widgets-0.12.16.min.css\");\n",
       "      console.log(\"Bokeh: injecting CSS: https://cdn.pydata.org/bokeh/release/bokeh-tables-0.12.16.min.css\");\n",
       "      Bokeh.embed.inject_css(\"https://cdn.pydata.org/bokeh/release/bokeh-tables-0.12.16.min.css\");\n",
       "    }\n",
       "  ];\n",
       "\n",
       "  function run_inline_js() {\n",
       "    \n",
       "    if ((root.Bokeh !== undefined) || (force === true)) {\n",
       "      for (var i = 0; i < inline_js.length; i++) {\n",
       "        inline_js[i].call(root, root.Bokeh);\n",
       "      }if (force === true) {\n",
       "        display_loaded();\n",
       "      }} else if (Date.now() < root._bokeh_timeout) {\n",
       "      setTimeout(run_inline_js, 100);\n",
       "    } else if (!root._bokeh_failed_load) {\n",
       "      console.log(\"Bokeh: BokehJS failed to load within specified timeout.\");\n",
       "      root._bokeh_failed_load = true;\n",
       "    } else if (force !== true) {\n",
       "      var cell = $(document.getElementById(\"b7612a77-f56d-4381-a641-bd0eab2989f9\")).parents('.cell').data().cell;\n",
       "      cell.output_area.append_execute_result(NB_LOAD_WARNING)\n",
       "    }\n",
       "\n",
       "  }\n",
       "\n",
       "  if (root._bokeh_is_loading === 0) {\n",
       "    console.log(\"Bokeh: BokehJS loaded, going straight to plotting\");\n",
       "    run_inline_js();\n",
       "  } else {\n",
       "    load_libs(js_urls, function() {\n",
       "      console.log(\"Bokeh: BokehJS plotting callback run at\", now());\n",
       "      run_inline_js();\n",
       "    });\n",
       "  }\n",
       "}(window));"
      ],
      "application/vnd.bokehjs_load.v0+json": "\n(function(root) {\n  function now() {\n    return new Date();\n  }\n\n  var force = true;\n\n  if (typeof (root._bokeh_onload_callbacks) === \"undefined\" || force === true) {\n    root._bokeh_onload_callbacks = [];\n    root._bokeh_is_loading = undefined;\n  }\n\n  \n\n  \n  if (typeof (root._bokeh_timeout) === \"undefined\" || force === true) {\n    root._bokeh_timeout = Date.now() + 5000;\n    root._bokeh_failed_load = false;\n  }\n\n  var NB_LOAD_WARNING = {'data': {'text/html':\n     \"<div style='background-color: #fdd'>\\n\"+\n     \"<p>\\n\"+\n     \"BokehJS does not appear to have successfully loaded. If loading BokehJS from CDN, this \\n\"+\n     \"may be due to a slow or bad network connection. Possible fixes:\\n\"+\n     \"</p>\\n\"+\n     \"<ul>\\n\"+\n     \"<li>re-rerun `output_notebook()` to attempt to load from CDN again, or</li>\\n\"+\n     \"<li>use INLINE resources instead, as so:</li>\\n\"+\n     \"</ul>\\n\"+\n     \"<code>\\n\"+\n     \"from bokeh.resources import INLINE\\n\"+\n     \"output_notebook(resources=INLINE)\\n\"+\n     \"</code>\\n\"+\n     \"</div>\"}};\n\n  function display_loaded() {\n    var el = document.getElementById(\"b7612a77-f56d-4381-a641-bd0eab2989f9\");\n    if (el != null) {\n      el.textContent = \"BokehJS is loading...\";\n    }\n    if (root.Bokeh !== undefined) {\n      if (el != null) {\n        el.textContent = \"BokehJS \" + root.Bokeh.version + \" successfully loaded.\";\n      }\n    } else if (Date.now() < root._bokeh_timeout) {\n      setTimeout(display_loaded, 100)\n    }\n  }\n\n\n  function run_callbacks() {\n    try {\n      root._bokeh_onload_callbacks.forEach(function(callback) { callback() });\n    }\n    finally {\n      delete root._bokeh_onload_callbacks\n    }\n    console.info(\"Bokeh: all callbacks have finished\");\n  }\n\n  function load_libs(js_urls, callback) {\n    root._bokeh_onload_callbacks.push(callback);\n    if (root._bokeh_is_loading > 0) {\n      console.log(\"Bokeh: BokehJS is being loaded, scheduling callback at\", now());\n      return null;\n    }\n    if (js_urls == null || js_urls.length === 0) {\n      run_callbacks();\n      return null;\n    }\n    console.log(\"Bokeh: BokehJS not loaded, scheduling load and callback at\", now());\n    root._bokeh_is_loading = js_urls.length;\n    for (var i = 0; i < js_urls.length; i++) {\n      var url = js_urls[i];\n      var s = document.createElement('script');\n      s.src = url;\n      s.async = false;\n      s.onreadystatechange = s.onload = function() {\n        root._bokeh_is_loading--;\n        if (root._bokeh_is_loading === 0) {\n          console.log(\"Bokeh: all BokehJS libraries loaded\");\n          run_callbacks()\n        }\n      };\n      s.onerror = function() {\n        console.warn(\"failed to load library \" + url);\n      };\n      console.log(\"Bokeh: injecting script tag for BokehJS library: \", url);\n      document.getElementsByTagName(\"head\")[0].appendChild(s);\n    }\n  };var element = document.getElementById(\"b7612a77-f56d-4381-a641-bd0eab2989f9\");\n  if (element == null) {\n    console.log(\"Bokeh: ERROR: autoload.js configured with elementid 'b7612a77-f56d-4381-a641-bd0eab2989f9' but no matching script tag was found. \")\n    return false;\n  }\n\n  var js_urls = [\"https://cdn.pydata.org/bokeh/release/bokeh-0.12.16.min.js\", \"https://cdn.pydata.org/bokeh/release/bokeh-widgets-0.12.16.min.js\", \"https://cdn.pydata.org/bokeh/release/bokeh-tables-0.12.16.min.js\", \"https://cdn.pydata.org/bokeh/release/bokeh-gl-0.12.16.min.js\"];\n\n  var inline_js = [\n    function(Bokeh) {\n      Bokeh.set_log_level(\"info\");\n    },\n    \n    function(Bokeh) {\n      \n    },\n    function(Bokeh) {\n      console.log(\"Bokeh: injecting CSS: https://cdn.pydata.org/bokeh/release/bokeh-0.12.16.min.css\");\n      Bokeh.embed.inject_css(\"https://cdn.pydata.org/bokeh/release/bokeh-0.12.16.min.css\");\n      console.log(\"Bokeh: injecting CSS: https://cdn.pydata.org/bokeh/release/bokeh-widgets-0.12.16.min.css\");\n      Bokeh.embed.inject_css(\"https://cdn.pydata.org/bokeh/release/bokeh-widgets-0.12.16.min.css\");\n      console.log(\"Bokeh: injecting CSS: https://cdn.pydata.org/bokeh/release/bokeh-tables-0.12.16.min.css\");\n      Bokeh.embed.inject_css(\"https://cdn.pydata.org/bokeh/release/bokeh-tables-0.12.16.min.css\");\n    }\n  ];\n\n  function run_inline_js() {\n    \n    if ((root.Bokeh !== undefined) || (force === true)) {\n      for (var i = 0; i < inline_js.length; i++) {\n        inline_js[i].call(root, root.Bokeh);\n      }if (force === true) {\n        display_loaded();\n      }} else if (Date.now() < root._bokeh_timeout) {\n      setTimeout(run_inline_js, 100);\n    } else if (!root._bokeh_failed_load) {\n      console.log(\"Bokeh: BokehJS failed to load within specified timeout.\");\n      root._bokeh_failed_load = true;\n    } else if (force !== true) {\n      var cell = $(document.getElementById(\"b7612a77-f56d-4381-a641-bd0eab2989f9\")).parents('.cell').data().cell;\n      cell.output_area.append_execute_result(NB_LOAD_WARNING)\n    }\n\n  }\n\n  if (root._bokeh_is_loading === 0) {\n    console.log(\"Bokeh: BokehJS loaded, going straight to plotting\");\n    run_inline_js();\n  } else {\n    load_libs(js_urls, function() {\n      console.log(\"Bokeh: BokehJS plotting callback run at\", now());\n      run_inline_js();\n    });\n  }\n}(window));"
     },
     "metadata": {},
     "output_type": "display_data"
    }
   ],
   "source": [
    "output_notebook()"
   ]
  },
  {
   "cell_type": "code",
   "execution_count": 8,
   "metadata": {
    "collapsed": true
   },
   "outputs": [],
   "source": [
    "def fmt_cool(ds_in):\n",
    "    ds = ds_in.copy(deep=True)\n",
    "    if 'igg' in ds.dims:\n",
    "        ds = ds.sel(igg=1)\n",
    "\n",
    "    if 'g' in ds.dims:\n",
    "        ds = ds.sum('g')\n",
    "            \n",
    "    if 'band' in ds.dims:\n",
    "        try:\n",
    "            ds = ds.squeeze('band')\n",
    "        except ValueError:\n",
    "            ds = ds.sum('band')\n",
    "                \n",
    "    return ds['coolrg']\n",
    "\n",
    "\n",
    "def pltdata_cooling_1(ds_cool=None,\n",
    "                      ds_cool_crd=None, ds_cool_wgt=None):\n",
    "    \n",
    "\n",
    "\n",
    "    colors = all_palettes['Set1'][4]\n",
    "    data = [{'label': 'CLIRAD `coolr_bands`',\n",
    "             'srs': fmt_cool(ds_cool),\n",
    "             'line_dash': 'dashed', 'line_width': 5,\n",
    "             'color': colors[0], 'alpha': .6},\n",
    "            {'label': 'CRD',\n",
    "             'srs': fmt_cool(ds_cool_crd),\n",
    "             'line_dash': 'solid', 'line_width': 1.5,\n",
    "             'marker': 'circle', 'marker_size': 5,\n",
    "             'color': colors[2], 'alpha': 1,},\n",
    "            {'label': 'WGT igg=10 wgt_flux=2',\n",
    "             'srs': fmt_cool(ds_cool_wgt),\n",
    "             'line_dash': 'solid', 'line_width': 3,\n",
    "             'marker': 'square', 'marker_size': 5,\n",
    "             'color': colors[3], 'alpha': .6}]\n",
    "    return data\n",
    "\n",
    "\n",
    "def nice_xlims(pltdata=None, prange=None):\n",
    "    \n",
    "    def get_slice(srs):\n",
    "        return srs.sel(pressure=slice(*prange))\n",
    "    \n",
    "    srss = [d['srs'] for d in pltdata]\n",
    "    vmin = min([get_slice(srs).min() for srs in srss])\n",
    "    vmax = max([get_slice(srs).max() for srs in srss])\n",
    "    dv = (vmax - vmin) * .01\n",
    "    return float(vmin - dv), float(vmax + dv)\n",
    "    \n",
    "\n",
    "def plt_cooling_bokeh(pltdata=None):\n",
    "    '''\n",
    "    Plot a list of cooling rate profiles using bokeh.\n",
    "    '''\n",
    "    ymin = 1e-2 \n",
    "    ymax = 1020 \n",
    "        \n",
    "    p1 = figure(title=\"Linear pressure scale\", \n",
    "                plot_width=400)        \n",
    "    xmin, xmax = nice_xlims(pltdata, prange=(50, 1050))\n",
    "    for d in pltdata:\n",
    "        if 'marker' in d:\n",
    "            getattr(p1, d['marker'])(d['srs'].values, \n",
    "                    d['srs'].coords['pressure'].values,\n",
    "                    color=d['color'], alpha=.7)\n",
    "        p1.line(d['srs'].values, \n",
    "                d['srs'].coords['pressure'].values,\n",
    "                color=d['color'], alpha=d['alpha'], \n",
    "                line_width=d['line_width'], line_dash=d['line_dash'])\n",
    "    \n",
    "    p1.y_range = Range1d(ymax, ymin)\n",
    "    p1.yaxis.axis_label = 'pressure [mb]'   \n",
    "    p1.x_range = Range1d(xmin, xmax)\n",
    "    p1.xaxis.axis_label = 'cooling rate [K/day]'\n",
    "            \n",
    "    p2 = figure(title='Log pressure scale', y_axis_type='log',\n",
    "                plot_width=560)\n",
    "    xmin, xmax = nice_xlims(pltdata, prange=(.01, 200))\n",
    "    \n",
    "    rs = []\n",
    "    for d in pltdata:\n",
    "        rd = []\n",
    "        if 'marker' in d:\n",
    "            r_mark = getattr(p2, d['marker'])(d['srs'].values, \n",
    "                        d['srs'].coords['pressure'].values,\n",
    "                        color=d['color'], alpha=.7)\n",
    "            rd.append(r_mark)\n",
    "        r_line = p2.line(d['srs'].values, \n",
    "                    d['srs'].coords['pressure'].values,\n",
    "                    color=d['color'], alpha=d['alpha'], \n",
    "                    line_width=d['line_width'], line_dash=d['line_dash'])\n",
    "        rd.append(r_line)\n",
    "      \n",
    "        rs.append(rd)\n",
    "        \n",
    "    p2.y_range = Range1d(ymax, ymin)  \n",
    "    p2.yaxis.axis_label = 'pressure [mb]'\n",
    "    \n",
    "    p2.x_range = Range1d(xmin, xmax)\n",
    "    p2.xaxis.axis_label = 'cooling rate [K/day]'\n",
    "    \n",
    "    items = [(d['label'], r) for r, d in zip(rs, pltdata)]\n",
    "    legend = Legend(items=items, location=(10, -30))\n",
    "    legend.label_text_font_size = '8pt'\n",
    "    \n",
    "    p2.add_layout(legend, 'right')  \n",
    "    \n",
    "    show(gridplot(p1, p2, ncols=2, plot_height=500))\n",
    "    \n",
    "\n",
    "def script_plt_cooling():\n",
    "    pltdata = pltdata_cooling_1(\n",
    "        ds_cool=DS_COOL,\n",
    "        ds_cool_crd=DS_COOL_CRD,\n",
    "        ds_cool_wgt=DS_COOL_WGT)\n",
    "    plt_cooling_bokeh(pltdata=pltdata)\n",
    "    print('''FIGURE. Cooling rate profiles.''')"
   ]
  },
  {
   "cell_type": "code",
   "execution_count": 9,
   "metadata": {
    "collapsed": true
   },
   "outputs": [],
   "source": [
    "def fmt_flux(ds_in):\n",
    "    ds = ds_in.copy(deep=True)\n",
    "    \n",
    "    for l in ('level', 'layer'):\n",
    "        if l in ds.data_vars:\n",
    "            if len(ds[l].dims) > 1:\n",
    "                surface = {d: 0 for d in ds.dims if d != 'pressure'}\n",
    "                coord_level = ds[l][surface]\n",
    "                ds.coords[l] = ('pressure', coord_level)\n",
    "            else:\n",
    "                ds.coords[l] = ('pressure', ds[l])\n",
    "        \n",
    "    ds = ds.isel(pressure=[0, 23, -1])\n",
    "        \n",
    "    if 'igg' in ds.dims:\n",
    "        ds = ds.sel(igg=[1])\n",
    "        ds = ds.squeeze('igg').drop('igg')\n",
    "    \n",
    "    if 'g' in ds.dims:\n",
    "        ds = ds.sum('g')\n",
    "            \n",
    "    if 'band' in ds.dims:\n",
    "        try:\n",
    "            ds = ds.squeeze('band').drop('band')\n",
    "        except ValueError:\n",
    "            ds = ds.sum('band')\n",
    "                \n",
    "    df = ds.to_dataframe()\n",
    "    df = df.set_index('level', append=True)               \n",
    "    return df\n",
    "\n",
    "\n",
    "def tbdata_flux(ds_flux=None, ds_flux_crd=None, ds_flux_wgt=None):\n",
    "    ilevels = [0, 23, -1]\n",
    "            \n",
    "    benchmark = {'label': 'CRD',\n",
    "                 'df': fmt_flux(ds_flux_crd)}\n",
    "    \n",
    "    tbs = [{'label': 'WGT igg=10 wgt_flux=1',\n",
    "            'df': fmt_flux(ds_flux_wgt)},\n",
    "           {'label': 'CLIRAD',\n",
    "            'df': fmt_flux(ds_flux)}]\n",
    "    \n",
    "    data = {'benchmark': benchmark, 'others': tbs}\n",
    "    return data\n",
    "\n",
    "\n",
    "def tb_flux(tbdata=None):\n",
    "    benchmark = tbdata['benchmark']\n",
    "    others = tbdata['others']\n",
    "    \n",
    "    def show_tb(d=None):\n",
    "        display.display(d['df'])\n",
    "        print('Table.', 'Fluxes.', d['label'])\n",
    "        \n",
    "    def show_tbdiff(d0=None, d=None):\n",
    "        df = d['df']\n",
    "        df.index = d0['df'].index\n",
    "        display.display(df - d0['df'])\n",
    "        print('Table.', 'Fluxes.', \n",
    "              '({}) - ({})'.format(d['label'], d0['label']))\n",
    "        \n",
    "    show_tb(benchmark)\n",
    "    for d in others:\n",
    "        show_tb(d)\n",
    "        \n",
    "    for d in others:\n",
    "        show_tbdiff(d=d, d0=benchmark)\n",
    "        \n",
    "        \n",
    "def script_tb_flux():\n",
    "    data = tbdata_flux(ds_flux=DS_FLUX,\n",
    "                       ds_flux_crd=DS_FLUX_CRD,\n",
    "                       ds_flux_wgt=DS_FLUX_WGT)\n",
    "    tb_flux(tbdata=data)"
   ]
  },
  {
   "cell_type": "code",
   "execution_count": 10,
   "metadata": {
    "collapsed": true
   },
   "outputs": [],
   "source": [
    "def band_map():\n",
    "    '''\n",
    "    Maps spectral bands in lblnew to spectral bands in clirad.\n",
    "    '''\n",
    "    lblnew2clirad = {'1': '1',\n",
    "            '2': '2',\n",
    "            '3a': '3',\n",
    "            '3b': '4',\n",
    "            '3c': '5',\n",
    "            '4': '6', \n",
    "            '5': '7',\n",
    "            '6': '8',\n",
    "            '7': '9', \n",
    "            '8': '10',\n",
    "            '9': '11'}\n",
    "    \n",
    "    clirad2lblnew = {clirad: lblnew \n",
    "                     for lblnew, clirad in lblnew2clirad.items()}\n",
    "    return clirad2lblnew\n",
    "\n",
    "\n",
    "def gasbands():\n",
    "    bmap = band_map()\n",
    "    gases = list(PARAM['molecule'].keys())\n",
    "    \n",
    "    bands = [bmap[str(b)] for b in PARAM['band']]\n",
    "    return list(itertools.product(gases, bands))\n",
    "\n",
    "\n",
    "def print_bestfit_params():\n",
    "    print('Best-fit values for each (gas, band)')\n",
    "    print('------------------------------------')\n",
    "    for gas, band in gasbands():\n",
    "        print('o {} band{}'.format(gas, band))\n",
    "        param = bestfits.kdist_params(molecule=gas, band=band)\n",
    "        for name, value in sorted(param.items()):\n",
    "            print(2 * ' ' + '{} = {}'.format(name, value))\n",
    "\n",
    "        \n",
    "def print_input_param():        \n",
    "    for name, value in PARAM.items():\n",
    "        print('{} = {}'.format(name, value))\n",
    "        \n",
    "        \n",
    "def print_lblnew_param():\n",
    "    for name, value in sorted(PARAM_LBLNEW.items()):\n",
    "        print('{} = {}'.format(name, value))\n"
   ]
  },
  {
   "cell_type": "code",
   "execution_count": 11,
   "metadata": {
    "collapsed": true,
    "scrolled": false
   },
   "outputs": [],
   "source": [
    "def show_html(s):\n",
    "    display.display(display.HTML(s))\n",
    "\n",
    "    \n",
    "def show_markdown(s):\n",
    "    display.display(display.Markdown(s))\n",
    "\n",
    "    \n",
    "def script():\n",
    "    \n",
    "    title = '### CLIRAD-LW'\n",
    "    s_input = 'Input Parameters'\n",
    "    s_lblnew_param = 'LBLNEW case compaired against'\n",
    "    s_bestfits = 'Best-fit Parameters'\n",
    "    s_plt_cooling = 'Cooling Rate Profiles'\n",
    "    s_tb_flux = 'Flux Comparison'\n",
    "    \n",
    "    # title\n",
    "    show_markdown('### CLIRAD-LW')\n",
    "    \n",
    "    # TOC\n",
    "    show_markdown('### Table of Contents')\n",
    "    show_html(climahtml.getHTML_hrefanchor(s_input))\n",
    "    show_html(climahtml.getHTML_hrefanchor(s_lblnew_param))\n",
    "    show_html(climahtml.getHTML_hrefanchor(s_plt_cooling))\n",
    "    show_html(climahtml.getHTML_hrefanchor(s_tb_flux))\n",
    "    show_html(climahtml.getHTML_hrefanchor(s_bestfits))\n",
    "    \n",
    "    # Input parameters\n",
    "    show_html(climahtml.getHTML_idanchor(s_input))\n",
    "    show_markdown(climahtml.getMarkdown_sectitle(s_input))\n",
    "    print_input_param()\n",
    "    \n",
    "    # LBLNEW parameters \n",
    "    show_html(climahtml.getHTML_idanchor(s_lblnew_param))\n",
    "    show_markdown(climahtml.getMarkdown_sectitle(s_lblnew_param))\n",
    "    print_lblnew_param()\n",
    "    \n",
    "    # Cooling rate profiles\n",
    "    show_html(climahtml.getHTML_idanchor(s_plt_cooling))\n",
    "    show_markdown(climahtml.getMarkdown_sectitle(s_plt_cooling))\n",
    "    script_plt_cooling()\n",
    "    \n",
    "    # Flux comparison\n",
    "    show_html(climahtml.getHTML_idanchor(s_tb_flux))\n",
    "    show_markdown(climahtml.getMarkdown_sectitle(s_tb_flux))\n",
    "    script_tb_flux()\n",
    "    \n",
    "    # Best-fit values\n",
    "    show_html(climahtml.getHTML_idanchor(s_bestfits))\n",
    "    show_markdown(climahtml.getMarkdown_sectitle(s_bestfits))\n",
    "    print_bestfit_params()\n",
    "   \n",
    "    "
   ]
  },
  {
   "cell_type": "code",
   "execution_count": 12,
   "metadata": {
    "collapsed": true,
    "scrolled": false
   },
   "outputs": [
    {
     "data": {
      "text/markdown": [
       "### CLIRAD-LW"
      ],
      "text/plain": [
       "<IPython.core.display.Markdown object>"
      ]
     },
     "metadata": {},
     "output_type": "display_data"
    },
    {
     "data": {
      "text/markdown": [
       "### Table of Contents"
      ],
      "text/plain": [
       "<IPython.core.display.Markdown object>"
      ]
     },
     "metadata": {},
     "output_type": "display_data"
    },
    {
     "data": {
      "text/html": [
       "<a href=\"#Input_Parameters\">Input Parameters</a>"
      ],
      "text/plain": [
       "<IPython.core.display.HTML object>"
      ]
     },
     "metadata": {},
     "output_type": "display_data"
    },
    {
     "data": {
      "text/html": [
       "<a href=\"#LBLNEW_case_compaired_against\">LBLNEW case compaired against</a>"
      ],
      "text/plain": [
       "<IPython.core.display.HTML object>"
      ]
     },
     "metadata": {},
     "output_type": "display_data"
    },
    {
     "data": {
      "text/html": [
       "<a href=\"#Cooling_Rate_Profiles\">Cooling Rate Profiles</a>"
      ],
      "text/plain": [
       "<IPython.core.display.HTML object>"
      ]
     },
     "metadata": {},
     "output_type": "display_data"
    },
    {
     "data": {
      "text/html": [
       "<a href=\"#Flux_Comparison\">Flux Comparison</a>"
      ],
      "text/plain": [
       "<IPython.core.display.HTML object>"
      ]
     },
     "metadata": {},
     "output_type": "display_data"
    },
    {
     "data": {
      "text/html": [
       "<a href=\"#Best-fit_Parameters\">Best-fit Parameters</a>"
      ],
      "text/plain": [
       "<IPython.core.display.HTML object>"
      ]
     },
     "metadata": {},
     "output_type": "display_data"
    },
    {
     "data": {
      "text/html": [
       "<a id=\"Input_Parameters\"></a>"
      ],
      "text/plain": [
       "<IPython.core.display.HTML object>"
      ]
     },
     "metadata": {},
     "output_type": "display_data"
    },
    {
     "data": {
      "text/markdown": [
       "# Input Parameters"
      ],
      "text/plain": [
       "<IPython.core.display.Markdown object>"
      ]
     },
     "metadata": {},
     "output_type": "display_data"
    },
    {
     "name": "stdout",
     "output_type": "stream",
     "text": [
      "atmpro = mls\n",
      "band = [3]\n",
      "commitnumber = de5d43e\n",
      "molecule = {'co2': 0.0004}\n",
      "tsfc = 294\n"
     ]
    },
    {
     "data": {
      "text/html": [
       "<a id=\"LBLNEW_case_compaired_against\"></a>"
      ],
      "text/plain": [
       "<IPython.core.display.HTML object>"
      ]
     },
     "metadata": {},
     "output_type": "display_data"
    },
    {
     "data": {
      "text/markdown": [
       "# LBLNEW case compaired against"
      ],
      "text/plain": [
       "<IPython.core.display.Markdown object>"
      ]
     },
     "metadata": {},
     "output_type": "display_data"
    },
    {
     "name": "stdout",
     "output_type": "stream",
     "text": [
      "atmpro = mls\n",
      "band = 3a\n",
      "commitnumber = a06b618\n",
      "conc = 0.0004\n",
      "dv = 0.001\n",
      "klin = 6.375563e-24\n",
      "molecule = co2\n",
      "ng_adju = [0, 0, 0]\n",
      "ng_refs = [3, 2, 4]\n",
      "nv = 1000\n",
      "option_compute_btable = 0\n",
      "option_compute_ktable = 0\n",
      "option_wgt_flux = 1\n",
      "option_wgt_k = 1\n",
      "ref_pts = [(1, 250), (10, 250), (500, 250)]\n",
      "tsfc = 294\n",
      "vmax = 620\n",
      "vmin = 540\n",
      "w_diffuse = [(1.6, 1.6, 1.7), (1.75, 1.75), (1.55, 1.55, 1.6, 1.85)]\n",
      "wgt = [(0.7, 0.3, 0.7), (0.7, 0.6), (0.4, 0.5, 0.8, 0.95)]\n"
     ]
    },
    {
     "data": {
      "text/html": [
       "<a id=\"Cooling_Rate_Profiles\"></a>"
      ],
      "text/plain": [
       "<IPython.core.display.HTML object>"
      ]
     },
     "metadata": {},
     "output_type": "display_data"
    },
    {
     "data": {
      "text/markdown": [
       "# Cooling Rate Profiles"
      ],
      "text/plain": [
       "<IPython.core.display.Markdown object>"
      ]
     },
     "metadata": {},
     "output_type": "display_data"
    },
    {
     "data": {
      "text/html": [
       "\n",
       "<div class=\"bk-root\">\n",
       "    <div class=\"bk-plotdiv\" id=\"57055b86-5f99-4fad-925e-112edff97c3b\"></div>\n",
       "</div>"
      ]
     },
     "metadata": {},
     "output_type": "display_data"
    },
    {
     "data": {
      "application/javascript": [
       "(function(root) {\n",
       "  function embed_document(root) {\n",
       "    \n",
       "  var docs_json = {\"e9d72217-1480-4c06-9bf9-fefe4fda89d0\":{\"roots\":{\"references\":[{\"attributes\":{},\"id\":\"4f1a2cc8-4ce7-44ad-9904-f2342456d61d\",\"type\":\"UnionRenderers\"},{\"attributes\":{},\"id\":\"8817584f-26b1-43fd-89a2-7c4e4e503b11\",\"type\":\"Selection\"},{\"attributes\":{},\"id\":\"510d5e76-15a5-46d2-bbf5-bac353dd49d9\",\"type\":\"UnionRenderers\"},{\"attributes\":{},\"id\":\"85515ad7-4dd5-440c-86fd-a230156e7358\",\"type\":\"Selection\"},{\"attributes\":{},\"id\":\"13a1d997-2ba5-4c39-b5ee-90b828f61876\",\"type\":\"UnionRenderers\"},{\"attributes\":{},\"id\":\"30d90b72-fcaf-4292-aafc-f70501f456ef\",\"type\":\"Selection\"},{\"attributes\":{},\"id\":\"2b711e96-fedb-4479-815d-039a75309eb1\",\"type\":\"UnionRenderers\"},{\"attributes\":{},\"id\":\"a08006e8-d8c6-4215-992d-0d541dabf6a7\",\"type\":\"Selection\"},{\"attributes\":{},\"id\":\"cb038fa3-a6ae-4807-a917-1ea39ea29aa4\",\"type\":\"UnionRenderers\"},{\"attributes\":{},\"id\":\"e1458ffe-75b2-49d4-9897-712f927bf13e\",\"type\":\"Selection\"},{\"attributes\":{\"children\":[{\"id\":\"ca3c682c-48f4-4963-982d-b7c14ff6e7c3\",\"type\":\"ToolbarBox\"},{\"id\":\"4e06dd64-775f-4aa1-a707-cf37446f5020\",\"type\":\"Column\"}]},\"id\":\"52bf830e-9f88-4731-ae8d-6355e81f751b\",\"type\":\"Column\"},{\"attributes\":{\"tools\":[{\"id\":\"685cfd7e-e818-445d-a2ae-46b390ac727b\",\"type\":\"PanTool\"},{\"id\":\"4c64716c-4fb7-4681-9750-ff4f7846ca25\",\"type\":\"WheelZoomTool\"},{\"id\":\"96bcd266-4915-4dc2-8031-a960996aad25\",\"type\":\"BoxZoomTool\"},{\"id\":\"8280b6b3-6172-4943-95bb-1d37aef9f76f\",\"type\":\"SaveTool\"},{\"id\":\"969a37e0-2acc-48e2-af36-da4124a3f350\",\"type\":\"ResetTool\"},{\"id\":\"b11f91ee-bf7a-448a-9dce-6af57f9fa3d9\",\"type\":\"HelpTool\"},{\"id\":\"87eace1b-56ff-448a-a24c-8746393adf54\",\"type\":\"PanTool\"},{\"id\":\"57a10e6c-41ff-4f77-9e67-95e9ca49134f\",\"type\":\"WheelZoomTool\"},{\"id\":\"5961b72e-dfd5-48ff-9077-55e6989a420f\",\"type\":\"BoxZoomTool\"},{\"id\":\"c28543ab-6a82-4c94-83f7-9b733553a209\",\"type\":\"SaveTool\"},{\"id\":\"b4a2fbe1-5e84-4eed-85f8-d2c43ee93968\",\"type\":\"ResetTool\"},{\"id\":\"60acdec0-9522-4670-b0fe-bb696a4d7896\",\"type\":\"HelpTool\"}]},\"id\":\"0074b10e-a38c-47c7-a726-d9424f68567c\",\"type\":\"ProxyToolbar\"},{\"attributes\":{\"toolbar\":{\"id\":\"0074b10e-a38c-47c7-a726-d9424f68567c\",\"type\":\"ProxyToolbar\"},\"toolbar_location\":\"above\"},\"id\":\"ca3c682c-48f4-4963-982d-b7c14ff6e7c3\",\"type\":\"ToolbarBox\"},{\"attributes\":{\"line_alpha\":0.1,\"line_color\":\"#1f77b4\",\"line_dash\":[6],\"line_width\":5,\"x\":{\"field\":\"x\"},\"y\":{\"field\":\"y\"}},\"id\":\"84a721ee-b761-4c9f-9c1d-f369dd8e87c8\",\"type\":\"Line\"},{\"attributes\":{\"callback\":null,\"end\":0.01,\"start\":1020},\"id\":\"60cae099-8dc3-4212-a474-6d5eb70c53ee\",\"type\":\"Range1d\"},{\"attributes\":{\"below\":[{\"id\":\"02b63fe2-0953-4f74-b3b1-9849bbfcf231\",\"type\":\"LinearAxis\"}],\"left\":[{\"id\":\"65306356-c7a7-4bfa-aa94-7f3a452230cf\",\"type\":\"LogAxis\"}],\"plot_height\":500,\"plot_width\":560,\"renderers\":[{\"id\":\"02b63fe2-0953-4f74-b3b1-9849bbfcf231\",\"type\":\"LinearAxis\"},{\"id\":\"dbb1ae33-d256-4a27-9d95-fb495d4789c3\",\"type\":\"Grid\"},{\"id\":\"65306356-c7a7-4bfa-aa94-7f3a452230cf\",\"type\":\"LogAxis\"},{\"id\":\"38220223-f2f7-41ef-a90a-c0f05ef2f5aa\",\"type\":\"Grid\"},{\"id\":\"a1e2cedb-ca48-4131-96ab-4d3aff57c710\",\"type\":\"BoxAnnotation\"},{\"id\":\"d8f2a21b-6fe2-4293-9db4-4446da016cdd\",\"type\":\"GlyphRenderer\"},{\"id\":\"231408ae-8b95-42cd-975b-b823aa56ad05\",\"type\":\"GlyphRenderer\"},{\"id\":\"296602e2-374e-4baf-835c-e6c9943a19a7\",\"type\":\"GlyphRenderer\"},{\"id\":\"df545733-7ba8-436a-ad2b-af6037077013\",\"type\":\"GlyphRenderer\"},{\"id\":\"196ceaf0-6c75-458d-9ef6-1c07fd00216d\",\"type\":\"GlyphRenderer\"},{\"id\":\"7c571162-da82-45ab-8a17-f526024563ae\",\"type\":\"Legend\"}],\"right\":[{\"id\":\"7c571162-da82-45ab-8a17-f526024563ae\",\"type\":\"Legend\"}],\"title\":{\"id\":\"6d2b8bb0-9b72-47fc-b828-7506d513ff1c\",\"type\":\"Title\"},\"toolbar\":{\"id\":\"44eab8ee-a451-4e6f-a727-1f00d9f781d5\",\"type\":\"Toolbar\"},\"toolbar_location\":null,\"x_range\":{\"id\":\"931a7cad-c40c-4d8e-a94a-54cda14408ac\",\"type\":\"Range1d\"},\"x_scale\":{\"id\":\"ddb00442-829c-407e-8009-c422cbedb4da\",\"type\":\"LinearScale\"},\"y_range\":{\"id\":\"60cae099-8dc3-4212-a474-6d5eb70c53ee\",\"type\":\"Range1d\"},\"y_scale\":{\"id\":\"6a2f31f0-e6cc-4725-81a0-6ecf40042eaa\",\"type\":\"LogScale\"}},\"id\":\"6bb01356-1a40-4dca-a5bd-3e5cdcb8dbaa\",\"subtype\":\"Figure\",\"type\":\"Plot\"},{\"attributes\":{\"items\":[{\"id\":\"f8aedb05-29a3-454c-bb04-6e31617aa1ff\",\"type\":\"LegendItem\"},{\"id\":\"b4dd5ccd-d3c0-4c34-8f34-44404677b18d\",\"type\":\"LegendItem\"},{\"id\":\"e48a073c-b400-41f8-86a8-cefc3126a948\",\"type\":\"LegendItem\"}],\"label_text_font_size\":{\"value\":\"8pt\"},\"location\":[10,-30],\"plot\":{\"id\":\"6bb01356-1a40-4dca-a5bd-3e5cdcb8dbaa\",\"subtype\":\"Figure\",\"type\":\"Plot\"}},\"id\":\"7c571162-da82-45ab-8a17-f526024563ae\",\"type\":\"Legend\"},{\"attributes\":{\"data_source\":{\"id\":\"dc615e25-c1e2-4ea7-bd27-aed0c3fb5704\",\"type\":\"ColumnDataSource\"},\"glyph\":{\"id\":\"efdcf792-56c0-449d-b063-b9c48db9090b\",\"type\":\"Line\"},\"hover_glyph\":null,\"muted_glyph\":null,\"nonselection_glyph\":{\"id\":\"7b87704c-7490-483c-a0a2-e8d50057249a\",\"type\":\"Line\"},\"selection_glyph\":null,\"view\":{\"id\":\"f91a8dad-8d0c-4c2e-8180-1dec6cf69e4c\",\"type\":\"CDSView\"}},\"id\":\"71272a1c-fc0f-46d2-9882-fc0fada7db44\",\"type\":\"GlyphRenderer\"},{\"attributes\":{\"callback\":null,\"data\":{\"x\":{\"__ndarray__\":\"+M2DMUGx1T+w60Jjs8PVPzjqTNDff9Y/qV7tJSM11z/WzCPni9PXP6jSnf2OUNg/1cw2ih6j2D+CWHanTbzYP/F7HoeliNg/WoACyUDw1z9AffkQH9XWP9h8UeM9INU/NSRWgq2i0j9ReGlREnPOPzBzuzF1Nsk/+Qp6LLW0yz+DkvcQMXLRP0KpwPsPqdM/VKZ7L8S21D8iyfEKdxnWPwjJ2yMbytk/WDYKQNDv4D8M+CWwc9LlPxKfva9Yd+U/JHFPimj54D+f6Vl9UKXaP4eMbeVglNU/fTdgYXTe0T96VG+WJM/NP6U9WV8MS8g/FylnfwOUwj/e9WRsC0a6P2LQdpmN/7I/ko4BJlDnrj/vhF3MVZupP1qGPWzY4aM/4RDygq21nz9XY5t48vmZPxNzi0PbdY0/0zuU6EHZYT8HZzp+LvlnPwIVfCodyZA/3v/ZZNnsnD+CYut5ozWjPxkZLDleL6c/UmMDy7uiqj//E98yL76tP0E2KoXdT7A/HyG8Lw2usT/8Tj5PIvuyP2KRL47mM7Q/CVPyQPBQtT+3JkTRDEa2Pw5eB+l9Ibc/y9xAKIfntz+Tgark75+4P6JA7BQ7Trk/PuCrVKTxuT/twvbazY26P1lg6HNVIrs/IiF6teqwuz996w6FF0K8P1cccMcrzbw/janGnE9ovT8QOpnJaBK+P4qdwY1bzb4/J5zVHHCMvz8MhMYTww/AP6xfGrU7KsA/31s7K8UWwD9Dc4r1FuO/PxJQIw5+tb8//Ih9upTQvz92qUI2RzfAPyMbO8RPUME/\",\"dtype\":\"float64\",\"shape\":[75]},\"y\":{\"__ndarray__\":\"GhExyth1ND/Sv8nbtpRIP2vylNV0PVE/aTum7souWD/At0SJ8fVgPw3Iuahxymc/MSNhhJWvcD/bTfBN02d3P2zb5nxnaoA/CD5h5MAGhz8NmeH1TyaQP+zrCsc9p5Y/LbKd76fGnz/bLW5ISEmmPww9YvTcQq8/JV2OstnstT8Er5Y7M8G+P0c+r3jqkcU/5h99k6ZBzj88bCIzFzjVP4enV8oyxN0//yH99nXg5D8qOpLLf0jtP5kqGJXUifQ/c9cS8kHP/D+/DpwzojQEQIEmwoanVwxA4lgXt9HgE0BSSZ2AJuIbQAMJih9jjiNA5q4l5INuK0AwTKYKRj0zQNv5fmq8/DpAaCJseHrtQkB/+zpwzoxKQM3MzMzMeFJAZmZmZmZqWEAAAAAAAFxeQM3MzMzMJmJAmpmZmZkfZUBmZmZmZhhoQDMzMzMzEWtAAAAAAAAKbkBmZmZmZoFwQM3MzMzM/XFAMzMzMzN6c0CamZmZmfZ0QAAAAAAAc3ZAZmZmZmbvd0DNzMzMzGt5QDMzMzMz6HpAmpmZmZlkfEAAAAAAAOF9QGZmZmZmXX9AZmZmZuZsgECamZmZGSuBQM3MzMxM6YFAAAAAAICngkAzMzMzs2WDQGZmZmbmI4RAmpmZmRnihEDNzMzMTKCFQAAAAACAXoZAMzMzM7Mch0BmZmZm5tqHQJqZmZkZmYhAzczMzExXiUAAAAAAgBWKQDMzMzOz04pAZmZmZuaRi0CamZmZGVCMQM3MzMxMDo1AAAAAAIDMjUAzMzMzs4qOQGZmZmbmSI9A\",\"dtype\":\"float64\",\"shape\":[75]}},\"selected\":{\"id\":\"e1458ffe-75b2-49d4-9897-712f927bf13e\",\"type\":\"Selection\"},\"selection_policy\":{\"id\":\"cb038fa3-a6ae-4807-a917-1ea39ea29aa4\",\"type\":\"UnionRenderers\"}},\"id\":\"d38c39b9-fd7b-48ff-acca-4d28a9bea659\",\"type\":\"ColumnDataSource\"},{\"attributes\":{\"data_source\":{\"id\":\"2bda0f54-bcc0-4111-aef4-264853b8aff2\",\"type\":\"ColumnDataSource\"},\"glyph\":{\"id\":\"0f5621cb-c6ff-4f71-99ec-a72ccb379de7\",\"type\":\"Circle\"},\"hover_glyph\":null,\"muted_glyph\":null,\"nonselection_glyph\":{\"id\":\"3071415a-fa7b-4434-89a0-523ff47c383c\",\"type\":\"Circle\"},\"selection_glyph\":null,\"view\":{\"id\":\"01503a1c-74a6-4494-bb74-bc612228e9c4\",\"type\":\"CDSView\"}},\"id\":\"231408ae-8b95-42cd-975b-b823aa56ad05\",\"type\":\"GlyphRenderer\"},{\"attributes\":{\"children\":[{\"id\":\"358e4033-0eaf-4187-9c8f-28c7b112bac5\",\"type\":\"Row\"}]},\"id\":\"4e06dd64-775f-4aa1-a707-cf37446f5020\",\"type\":\"Column\"},{\"attributes\":{\"source\":{\"id\":\"2043dd07-fd32-497c-a25d-cdfbb29ce6c0\",\"type\":\"ColumnDataSource\"}},\"id\":\"647af693-1578-488e-8365-a979677a88a6\",\"type\":\"CDSView\"},{\"attributes\":{\"active_drag\":\"auto\",\"active_inspect\":\"auto\",\"active_scroll\":\"auto\",\"active_tap\":\"auto\",\"tools\":[{\"id\":\"685cfd7e-e818-445d-a2ae-46b390ac727b\",\"type\":\"PanTool\"},{\"id\":\"4c64716c-4fb7-4681-9750-ff4f7846ca25\",\"type\":\"WheelZoomTool\"},{\"id\":\"96bcd266-4915-4dc2-8031-a960996aad25\",\"type\":\"BoxZoomTool\"},{\"id\":\"8280b6b3-6172-4943-95bb-1d37aef9f76f\",\"type\":\"SaveTool\"},{\"id\":\"969a37e0-2acc-48e2-af36-da4124a3f350\",\"type\":\"ResetTool\"},{\"id\":\"b11f91ee-bf7a-448a-9dce-6af57f9fa3d9\",\"type\":\"HelpTool\"}]},\"id\":\"2eddea1a-d246-4b20-9c5b-a14119062eca\",\"type\":\"Toolbar\"},{\"attributes\":{\"callback\":null,\"data\":{\"x\":{\"__ndarray__\":\"/E2sfGTt2D/g5+iG4NfYP9nL+O+ojtk/07Brvdc32j+xPhaJpr/aP3qyk6i0Eds/gWzlZxsm2z+x5vhP1OXaP366iXM3PNo/kg2cGgUU2T9NWE2daFPXPx3s6uEN4dQ/OPVg1rSg0T/Mypto/OfKP5gfTS8QiMQ/3ZTyWgndxj8s1UfYnvbOP5GgthUUqdI/emwuq2491T+VBmW3IjPYP+CiUYkEttw/sKXLi+Fk4j8xMtg/FRjnP0ghfx/EJOY/SRQ5yBQh4T9PjxJg/YTaP/fWl9fX29Q/ByrC0X550D+Fs/igqU/KP5SQ3T/1E8U/dkKeEzFbwD/uC9tbORe4P8qro0XeO7I/3lAFlx+crT+f+BOQVLGmPxYHu1SxoJ4/1TDPjHbDlT+rFo+NazyRPw6huI5y6oA/DDNLOn4zV7+h2vzbyr46P6eaub0tI4w/SXHNnn1Fmj/pyLDbfjGiP3qQ2M0Qt6Y/bn+o4GLYqj8msTSIwKWuPx8xIbZZFLE/TBWC2Hazsj9x9Fnn3S20P9PixgzYfrU/fsxx6Nmetj901twOY4u3PxLNSCxFTLg/y6P6UmjuuD+9hEK4jXy5P8lUZu8x/bk/iymBYp50uj8SolszIua6Pz4c6phvVLs/qRnvGjbCuz9zVpeVHjS8Pw8j53HWr7w/k3y69A47vT823bq0RNu9PzmpedhVkr4/CpwRSgRPvz9t1LeKzeC/PxeKbM5eCcA/sSUWvt/kvz8hqAEgepS/Pz/Ytf/5ZL8/hix/fBGGvz9L1U2UShnAP2W04fJQQsE/\",\"dtype\":\"float64\",\"shape\":[75]},\"y\":{\"__ndarray__\":\"GhExyth1ND/Sv8nbtpRIP2vylNV0PVE/aTum7souWD/At0SJ8fVgPw3Iuahxymc/MSNhhJWvcD/bTfBN02d3P2zb5nxnaoA/CD5h5MAGhz8NmeH1TyaQP+zrCsc9p5Y/LbKd76fGnz/bLW5ISEmmPww9YvTcQq8/JV2OstnstT8Er5Y7M8G+P0c+r3jqkcU/5h99k6ZBzj88bCIzFzjVP4enV8oyxN0//yH99nXg5D8qOpLLf0jtP5kqGJXUifQ/c9cS8kHP/D+/DpwzojQEQIEmwoanVwxA4lgXt9HgE0BSSZ2AJuIbQAMJih9jjiNA5q4l5INuK0AwTKYKRj0zQNv5fmq8/DpAaCJseHrtQkB/+zpwzoxKQM3MzMzMeFJAZmZmZmZqWEAAAAAAAFxeQM3MzMzMJmJAmpmZmZkfZUBmZmZmZhhoQDMzMzMzEWtAAAAAAAAKbkBmZmZmZoFwQM3MzMzM/XFAMzMzMzN6c0CamZmZmfZ0QAAAAAAAc3ZAZmZmZmbvd0DNzMzMzGt5QDMzMzMz6HpAmpmZmZlkfEAAAAAAAOF9QGZmZmZmXX9AZmZmZuZsgECamZmZGSuBQM3MzMxM6YFAAAAAAICngkAzMzMzs2WDQGZmZmbmI4RAmpmZmRnihEDNzMzMTKCFQAAAAACAXoZAMzMzM7Mch0BmZmZm5tqHQJqZmZkZmYhAzczMzExXiUAAAAAAgBWKQDMzMzOz04pAZmZmZuaRi0CamZmZGVCMQM3MzMxMDo1AAAAAAIDMjUAzMzMzs4qOQGZmZmbmSI9A\",\"dtype\":\"float64\",\"shape\":[75]}},\"selected\":{\"id\":\"85515ad7-4dd5-440c-86fd-a230156e7358\",\"type\":\"Selection\"},\"selection_policy\":{\"id\":\"510d5e76-15a5-46d2-bbf5-bac353dd49d9\",\"type\":\"UnionRenderers\"}},\"id\":\"2bda0f54-bcc0-4111-aef4-264853b8aff2\",\"type\":\"ColumnDataSource\"},{\"attributes\":{},\"id\":\"6a2f31f0-e6cc-4725-81a0-6ecf40042eaa\",\"type\":\"LogScale\"},{\"attributes\":{\"bottom_units\":\"screen\",\"fill_alpha\":{\"value\":0.5},\"fill_color\":{\"value\":\"lightgrey\"},\"left_units\":\"screen\",\"level\":\"overlay\",\"line_alpha\":{\"value\":1.0},\"line_color\":{\"value\":\"black\"},\"line_dash\":[4,4],\"line_width\":{\"value\":2},\"plot\":null,\"render_mode\":\"css\",\"right_units\":\"screen\",\"top_units\":\"screen\"},\"id\":\"a1e2cedb-ca48-4131-96ab-4d3aff57c710\",\"type\":\"BoxAnnotation\"},{\"attributes\":{\"callback\":null,\"end\":0.728920879055,\"start\":-0.008647144555},\"id\":\"931a7cad-c40c-4d8e-a94a-54cda14408ac\",\"type\":\"Range1d\"},{\"attributes\":{\"plot\":null,\"text\":\"Linear pressure scale\"},\"id\":\"3d2dfb4d-2929-4150-be85-50c3b9e8eb81\",\"type\":\"Title\"},{\"attributes\":{},\"id\":\"685cfd7e-e818-445d-a2ae-46b390ac727b\",\"type\":\"PanTool\"},{\"attributes\":{\"plot\":{\"id\":\"6bb01356-1a40-4dca-a5bd-3e5cdcb8dbaa\",\"subtype\":\"Figure\",\"type\":\"Plot\"},\"ticker\":{\"id\":\"1f3bf765-0ef8-4796-997b-3251f791117c\",\"type\":\"BasicTicker\"}},\"id\":\"dbb1ae33-d256-4a27-9d95-fb495d4789c3\",\"type\":\"Grid\"},{\"attributes\":{\"children\":[{\"id\":\"da2750ad-3637-41b1-86fa-c5192bd15eea\",\"subtype\":\"Figure\",\"type\":\"Plot\"},{\"id\":\"6bb01356-1a40-4dca-a5bd-3e5cdcb8dbaa\",\"subtype\":\"Figure\",\"type\":\"Plot\"}]},\"id\":\"358e4033-0eaf-4187-9c8f-28c7b112bac5\",\"type\":\"Row\"},{\"attributes\":{},\"id\":\"6440b5bc-26e4-455a-b285-488d4da4b1cb\",\"type\":\"BasicTicker\"},{\"attributes\":{\"axis_label\":\"pressure [mb]\",\"formatter\":{\"id\":\"bc1d9344-a222-4370-b6c5-ed99379a8c75\",\"type\":\"LogTickFormatter\"},\"plot\":{\"id\":\"6bb01356-1a40-4dca-a5bd-3e5cdcb8dbaa\",\"subtype\":\"Figure\",\"type\":\"Plot\"},\"ticker\":{\"id\":\"45d7f5d2-fb19-4a4e-b5c4-e4443903bfa5\",\"type\":\"LogTicker\"}},\"id\":\"65306356-c7a7-4bfa-aa94-7f3a452230cf\",\"type\":\"LogAxis\"},{\"attributes\":{\"fill_alpha\":{\"value\":0.7},\"fill_color\":{\"value\":\"#4daf4a\"},\"line_alpha\":{\"value\":0.7},\"line_color\":{\"value\":\"#4daf4a\"},\"x\":{\"field\":\"x\"},\"y\":{\"field\":\"y\"}},\"id\":\"55f9429c-ea82-4617-bcd3-262d91923237\",\"type\":\"Circle\"},{\"attributes\":{\"fill_alpha\":{\"value\":0.1},\"fill_color\":{\"value\":\"#1f77b4\"},\"line_alpha\":{\"value\":0.1},\"line_color\":{\"value\":\"#1f77b4\"},\"x\":{\"field\":\"x\"},\"y\":{\"field\":\"y\"}},\"id\":\"3071415a-fa7b-4434-89a0-523ff47c383c\",\"type\":\"Circle\"},{\"attributes\":{\"axis_label\":\"pressure [mb]\",\"formatter\":{\"id\":\"d1ec6a51-9f4a-4b74-8e8d-027f91b16dc1\",\"type\":\"BasicTickFormatter\"},\"plot\":{\"id\":\"da2750ad-3637-41b1-86fa-c5192bd15eea\",\"subtype\":\"Figure\",\"type\":\"Plot\"},\"ticker\":{\"id\":\"6440b5bc-26e4-455a-b285-488d4da4b1cb\",\"type\":\"BasicTicker\"}},\"id\":\"0e3325a5-5198-4963-a74c-edc937561675\",\"type\":\"LinearAxis\"},{\"attributes\":{\"dimension\":1,\"plot\":{\"id\":\"6bb01356-1a40-4dca-a5bd-3e5cdcb8dbaa\",\"subtype\":\"Figure\",\"type\":\"Plot\"},\"ticker\":{\"id\":\"45d7f5d2-fb19-4a4e-b5c4-e4443903bfa5\",\"type\":\"LogTicker\"}},\"id\":\"38220223-f2f7-41ef-a90a-c0f05ef2f5aa\",\"type\":\"Grid\"},{\"attributes\":{\"dimension\":1,\"plot\":{\"id\":\"da2750ad-3637-41b1-86fa-c5192bd15eea\",\"subtype\":\"Figure\",\"type\":\"Plot\"},\"ticker\":{\"id\":\"6440b5bc-26e4-455a-b285-488d4da4b1cb\",\"type\":\"BasicTicker\"}},\"id\":\"db979af3-2546-4bc4-9d92-045560be25c3\",\"type\":\"Grid\"},{\"attributes\":{\"callback\":null,\"data\":{\"x\":{\"__ndarray__\":\"/E2sfGTt2D/g5+iG4NfYP9nL+O+ojtk/07Brvdc32j+xPhaJpr/aP3qyk6i0Eds/gWzlZxsm2z+x5vhP1OXaP366iXM3PNo/kg2cGgUU2T9NWE2daFPXPx3s6uEN4dQ/OPVg1rSg0T/Mypto/OfKP5gfTS8QiMQ/3ZTyWgndxj8s1UfYnvbOP5GgthUUqdI/emwuq2491T+VBmW3IjPYP+CiUYkEttw/sKXLi+Fk4j8xMtg/FRjnP0ghfx/EJOY/SRQ5yBQh4T9PjxJg/YTaP/fWl9fX29Q/ByrC0X550D+Fs/igqU/KP5SQ3T/1E8U/dkKeEzFbwD/uC9tbORe4P8qro0XeO7I/3lAFlx+crT+f+BOQVLGmPxYHu1SxoJ4/1TDPjHbDlT+rFo+NazyRPw6huI5y6oA/DDNLOn4zV7+h2vzbyr46P6eaub0tI4w/SXHNnn1Fmj/pyLDbfjGiP3qQ2M0Qt6Y/bn+o4GLYqj8msTSIwKWuPx8xIbZZFLE/TBWC2Hazsj9x9Fnn3S20P9PixgzYfrU/fsxx6Nmetj901twOY4u3PxLNSCxFTLg/y6P6UmjuuD+9hEK4jXy5P8lUZu8x/bk/iymBYp50uj8SolszIua6Pz4c6phvVLs/qRnvGjbCuz9zVpeVHjS8Pw8j53HWr7w/k3y69A47vT823bq0RNu9PzmpedhVkr4/CpwRSgRPvz9t1LeKzeC/PxeKbM5eCcA/sSUWvt/kvz8hqAEgepS/Pz/Ytf/5ZL8/hix/fBGGvz9L1U2UShnAP2W04fJQQsE/\",\"dtype\":\"float64\",\"shape\":[75]},\"y\":{\"__ndarray__\":\"GhExyth1ND/Sv8nbtpRIP2vylNV0PVE/aTum7souWD/At0SJ8fVgPw3Iuahxymc/MSNhhJWvcD/bTfBN02d3P2zb5nxnaoA/CD5h5MAGhz8NmeH1TyaQP+zrCsc9p5Y/LbKd76fGnz/bLW5ISEmmPww9YvTcQq8/JV2OstnstT8Er5Y7M8G+P0c+r3jqkcU/5h99k6ZBzj88bCIzFzjVP4enV8oyxN0//yH99nXg5D8qOpLLf0jtP5kqGJXUifQ/c9cS8kHP/D+/DpwzojQEQIEmwoanVwxA4lgXt9HgE0BSSZ2AJuIbQAMJih9jjiNA5q4l5INuK0AwTKYKRj0zQNv5fmq8/DpAaCJseHrtQkB/+zpwzoxKQM3MzMzMeFJAZmZmZmZqWEAAAAAAAFxeQM3MzMzMJmJAmpmZmZkfZUBmZmZmZhhoQDMzMzMzEWtAAAAAAAAKbkBmZmZmZoFwQM3MzMzM/XFAMzMzMzN6c0CamZmZmfZ0QAAAAAAAc3ZAZmZmZmbvd0DNzMzMzGt5QDMzMzMz6HpAmpmZmZlkfEAAAAAAAOF9QGZmZmZmXX9AZmZmZuZsgECamZmZGSuBQM3MzMxM6YFAAAAAAICngkAzMzMzs2WDQGZmZmbmI4RAmpmZmRnihEDNzMzMTKCFQAAAAACAXoZAMzMzM7Mch0BmZmZm5tqHQJqZmZkZmYhAzczMzExXiUAAAAAAgBWKQDMzMzOz04pAZmZmZuaRi0CamZmZGVCMQM3MzMxMDo1AAAAAAIDMjUAzMzMzs4qOQGZmZmbmSI9A\",\"dtype\":\"float64\",\"shape\":[75]}},\"selected\":{\"id\":\"177e432f-d1d5-41db-b0a2-407016c32b5e\",\"type\":\"Selection\"},\"selection_policy\":{\"id\":\"8c685a11-c76b-42b8-8e59-42f769311ba1\",\"type\":\"UnionRenderers\"}},\"id\":\"2043dd07-fd32-497c-a25d-cdfbb29ce6c0\",\"type\":\"ColumnDataSource\"},{\"attributes\":{},\"id\":\"1f3bf765-0ef8-4796-997b-3251f791117c\",\"type\":\"BasicTicker\"},{\"attributes\":{\"line_alpha\":0.1,\"line_color\":\"#1f77b4\",\"line_width\":1.5,\"x\":{\"field\":\"x\"},\"y\":{\"field\":\"y\"}},\"id\":\"6abfbc49-eca7-45cc-943d-2f2aa498978b\",\"type\":\"Line\"},{\"attributes\":{\"data_source\":{\"id\":\"8d94eb8d-7ae4-4007-8b4a-597969ebcaa7\",\"type\":\"ColumnDataSource\"},\"glyph\":{\"id\":\"1bb056c9-f672-443e-9db0-02ee0ab88f34\",\"type\":\"Line\"},\"hover_glyph\":null,\"muted_glyph\":null,\"nonselection_glyph\":{\"id\":\"84a721ee-b761-4c9f-9c1d-f369dd8e87c8\",\"type\":\"Line\"},\"selection_glyph\":null,\"view\":{\"id\":\"35fc1f02-5d65-4b88-8f7d-ac763c326b08\",\"type\":\"CDSView\"}},\"id\":\"b30bfb4a-f9d4-47c2-8d05-e145ae24d234\",\"type\":\"GlyphRenderer\"},{\"attributes\":{\"source\":{\"id\":\"6cc2ce9a-25c9-48fb-994f-b6c602fd7f40\",\"type\":\"ColumnDataSource\"}},\"id\":\"9333d1df-5a01-4180-bcbf-5789b1c9bf62\",\"type\":\"CDSView\"},{\"attributes\":{\"active_drag\":\"auto\",\"active_inspect\":\"auto\",\"active_scroll\":\"auto\",\"active_tap\":\"auto\",\"tools\":[{\"id\":\"87eace1b-56ff-448a-a24c-8746393adf54\",\"type\":\"PanTool\"},{\"id\":\"57a10e6c-41ff-4f77-9e67-95e9ca49134f\",\"type\":\"WheelZoomTool\"},{\"id\":\"5961b72e-dfd5-48ff-9077-55e6989a420f\",\"type\":\"BoxZoomTool\"},{\"id\":\"c28543ab-6a82-4c94-83f7-9b733553a209\",\"type\":\"SaveTool\"},{\"id\":\"b4a2fbe1-5e84-4eed-85f8-d2c43ee93968\",\"type\":\"ResetTool\"},{\"id\":\"60acdec0-9522-4670-b0fe-bb696a4d7896\",\"type\":\"HelpTool\"}]},\"id\":\"44eab8ee-a451-4e6f-a727-1f00d9f781d5\",\"type\":\"Toolbar\"},{\"attributes\":{\"line_alpha\":0.1,\"line_color\":\"#1f77b4\",\"line_width\":3,\"x\":{\"field\":\"x\"},\"y\":{\"field\":\"y\"}},\"id\":\"e8e48a52-eff3-4b53-a95d-f8fea3be00cf\",\"type\":\"Line\"},{\"attributes\":{},\"id\":\"57a10e6c-41ff-4f77-9e67-95e9ca49134f\",\"type\":\"WheelZoomTool\"},{\"attributes\":{},\"id\":\"ea306983-0223-4719-9033-c22860deae56\",\"type\":\"BasicTicker\"},{\"attributes\":{\"plot\":{\"id\":\"da2750ad-3637-41b1-86fa-c5192bd15eea\",\"subtype\":\"Figure\",\"type\":\"Plot\"},\"ticker\":{\"id\":\"ea306983-0223-4719-9033-c22860deae56\",\"type\":\"BasicTicker\"}},\"id\":\"de7fac0e-fe66-4d33-9023-e85fb207a9ca\",\"type\":\"Grid\"},{\"attributes\":{\"axis_label\":\"cooling rate [K/day]\",\"formatter\":{\"id\":\"4d581dc9-eb74-41a6-8d40-7aa070efd3d9\",\"type\":\"BasicTickFormatter\"},\"plot\":{\"id\":\"da2750ad-3637-41b1-86fa-c5192bd15eea\",\"subtype\":\"Figure\",\"type\":\"Plot\"},\"ticker\":{\"id\":\"ea306983-0223-4719-9033-c22860deae56\",\"type\":\"BasicTicker\"}},\"id\":\"cf19bbdb-71a1-42db-8850-32f7e1a18c5d\",\"type\":\"LinearAxis\"},{\"attributes\":{},\"id\":\"969a37e0-2acc-48e2-af36-da4124a3f350\",\"type\":\"ResetTool\"},{\"attributes\":{\"data_source\":{\"id\":\"6cc2ce9a-25c9-48fb-994f-b6c602fd7f40\",\"type\":\"ColumnDataSource\"},\"glyph\":{\"id\":\"93f01af8-342b-40a8-963e-1dfda0bbefbe\",\"type\":\"Line\"},\"hover_glyph\":null,\"muted_glyph\":null,\"nonselection_glyph\":{\"id\":\"ea29aa6d-beaf-4965-a3d9-401f07c2092b\",\"type\":\"Line\"},\"selection_glyph\":null,\"view\":{\"id\":\"9333d1df-5a01-4180-bcbf-5789b1c9bf62\",\"type\":\"CDSView\"}},\"id\":\"d8f2a21b-6fe2-4293-9db4-4446da016cdd\",\"type\":\"GlyphRenderer\"},{\"attributes\":{\"data_source\":{\"id\":\"f7646ac7-fbae-45c0-9d53-e2e5f366ae60\",\"type\":\"ColumnDataSource\"},\"glyph\":{\"id\":\"55f9429c-ea82-4617-bcd3-262d91923237\",\"type\":\"Circle\"},\"hover_glyph\":null,\"muted_glyph\":null,\"nonselection_glyph\":{\"id\":\"6b3a6bbe-2fd4-4a64-8547-f7a4694919bc\",\"type\":\"Circle\"},\"selection_glyph\":null,\"view\":{\"id\":\"ac9ecb6a-2f2d-4575-bcaa-99ad6c5892c3\",\"type\":\"CDSView\"}},\"id\":\"fd928680-1a00-49f4-ac6f-8a7d574ea4eb\",\"type\":\"GlyphRenderer\"},{\"attributes\":{},\"id\":\"ddb00442-829c-407e-8009-c422cbedb4da\",\"type\":\"LinearScale\"},{\"attributes\":{},\"id\":\"4c64716c-4fb7-4681-9750-ff4f7846ca25\",\"type\":\"WheelZoomTool\"},{\"attributes\":{\"source\":{\"id\":\"d38c39b9-fd7b-48ff-acca-4d28a9bea659\",\"type\":\"ColumnDataSource\"}},\"id\":\"f77a3c56-ab75-4815-acb5-58c6f04bc4d3\",\"type\":\"CDSView\"},{\"attributes\":{\"callback\":null,\"data\":{\"x\":{\"__ndarray__\":\"CZzXnnogzz/h0lL1Ap7PP7dO0ORqfdA/fvdUb4kz0T/fDruM7uLRP6eOG59FhtI/pMSu7e0W0z/V8fM6PYrTP4XJ+Qc209M/bSM7wqvd0z8+xbtt8I/TP5sTg9lnwtI/l2eQSPxG0T+TnDz6mdnNP2WTNjTpX8o/AkyV//uZzT80WILWDWXSP/kKue+kR9Q/nQun9Uxp1D+X22IjtbXUP1egq+eD6dc/548GQ18y4D/UpC0RHFXlPyeWpecnJuU/zTBBT/vU4D+Tt/Fh1WTaP78KdBaLmdU/ZbfgVosZ0j87h9eaUoPOP2tWpi3onMg/egXc0u6Awj/qhSHDQXq5P0UfEg8/t7E/rt3CL/9lrD+fp4ACj3KoP2z801ehkqM/Ti7uiAjUnj/NZuXJ+1mYP86delN6bok/aHJQVTtzND8rIS48n6tPP2XHzxG8y4w/bDzTqf1mmj+6BFmvH+uhP3iGL2dE1qU/exxPyQ4xqT+E47XvqjesP9MHDD4/H68/RQHBbYT9sD94Q++U22SyP3ndBNp7w7M/Rrz2fgMQtT8nSYu+eEK2PwPZNLTWV7c/mefzF5tSuD8AzaG+xUC5PwXAmRT2H7o/nRSkIfzuuj+3d9NOSa27P05+i06WWrw/Y/00KHn5vD+qpIjrnI+9P0SVzHcRIr4//B0n2MG5vj+zK+sGI1m/P20tQJlOBMA/6dfWT/9ZwD8IdbJQQpvAP4q+zMF9rsA/KJbfkrGUwD+pz/7VHWrAPyGjTR/LTMA/dTvavJpRwD87195EgJXAP6M/NPPkmsE/\",\"dtype\":\"float64\",\"shape\":[75]},\"y\":{\"__ndarray__\":\"S/O/Q+51ND/Sv8nbtpRIP2vylNV0PVE/aTum7souWD/At0SJ8fVgPw3Iuahxymc/MSNhhJWvcD/bTfBN02d3P2zb5nxnaoA/CD5h5MAGhz8NmeH1TyaQP+zrCsc9p5Y/LbKd76fGnz/bLW5ISEmmPww9YvTcQq8/JV2OstnstT8Er5Y7M8G+P0c+r3jqkcU/5h99k6ZBzj88bCIzFzjVP4enV8oyxN0//yH99nXg5D8qOpLLf0jtP5kqGJXUifQ/c9cS8kHP/D+/DpwzojQEQIEmwoanVwxA4lgXt9HgE0BSSZ2AJuIbQAMJih9jjiNA5q4l5INuK0AwTKYKRj0zQNv5fmq8/DpAaCJseHrtQkB/+zpwzoxKQM3MzMzMeFJAZmZmZmZqWEAAAAAAAFxeQM3MzMzMJmJAmpmZmZkfZUBmZmZmZhhoQDMzMzMzEWtAAAAAAAAKbkBmZmZmZoFwQM3MzMzM/XFAMzMzMzN6c0CamZmZmfZ0QAAAAAAAc3ZAZmZmZmbvd0DNzMzMzGt5QDMzMzMz6HpAmpmZmZlkfEAAAAAAAOF9QGZmZmZmXX9AZmZmZuZsgECamZmZGSuBQM3MzMxM6YFAAAAAAICngkAzMzMzs2WDQGZmZmbmI4RAmpmZmRnihEDNzMzMTKCFQAAAAACAXoZAMzMzM7Mch0BmZmZm5tqHQJqZmZkZmYhAzczMzExXiUAAAAAAgBWKQDMzMzOz04pAZmZmZuaRi0CamZmZGVCMQM3MzMxMDo1AAAAAAIDMjUAzMzMzs4qOQGZmZmbmSI9A\",\"dtype\":\"float64\",\"shape\":[75]}},\"selected\":{\"id\":\"265bc360-bb75-4d35-b1d6-e13bf44e8f48\",\"type\":\"Selection\"},\"selection_policy\":{\"id\":\"d25eb280-55cc-4d04-b7ba-3fc3d74d393e\",\"type\":\"UnionRenderers\"}},\"id\":\"8d94eb8d-7ae4-4007-8b4a-597969ebcaa7\",\"type\":\"ColumnDataSource\"},{\"attributes\":{\"source\":{\"id\":\"2bda0f54-bcc0-4111-aef4-264853b8aff2\",\"type\":\"ColumnDataSource\"}},\"id\":\"01503a1c-74a6-4494-bb74-bc612228e9c4\",\"type\":\"CDSView\"},{\"attributes\":{\"callback\":null,\"end\":0.01,\"start\":1020},\"id\":\"f0610a23-6402-4585-951c-e48967c68a4a\",\"type\":\"Range1d\"},{\"attributes\":{\"line_color\":\"#4daf4a\",\"line_width\":1.5,\"x\":{\"field\":\"x\"},\"y\":{\"field\":\"y\"}},\"id\":\"e346a128-bcab-4588-a776-368c5d7c9397\",\"type\":\"Line\"},{\"attributes\":{\"fill_alpha\":{\"value\":0.7},\"fill_color\":{\"value\":\"#984ea3\"},\"line_alpha\":{\"value\":0.7},\"line_color\":{\"value\":\"#984ea3\"},\"x\":{\"field\":\"x\"},\"y\":{\"field\":\"y\"}},\"id\":\"d820ba4e-11fd-45e7-bc55-2592b54cf5e5\",\"type\":\"Square\"},{\"attributes\":{\"callback\":null,\"data\":{\"x\":{\"__ndarray__\":\"/E2sfGTt2D/g5+iG4NfYP9nL+O+ojtk/07Brvdc32j+xPhaJpr/aP3qyk6i0Eds/gWzlZxsm2z+x5vhP1OXaP366iXM3PNo/kg2cGgUU2T9NWE2daFPXPx3s6uEN4dQ/OPVg1rSg0T/Mypto/OfKP5gfTS8QiMQ/3ZTyWgndxj8s1UfYnvbOP5GgthUUqdI/emwuq2491T+VBmW3IjPYP+CiUYkEttw/sKXLi+Fk4j8xMtg/FRjnP0ghfx/EJOY/SRQ5yBQh4T9PjxJg/YTaP/fWl9fX29Q/ByrC0X550D+Fs/igqU/KP5SQ3T/1E8U/dkKeEzFbwD/uC9tbORe4P8qro0XeO7I/3lAFlx+crT+f+BOQVLGmPxYHu1SxoJ4/1TDPjHbDlT+rFo+NazyRPw6huI5y6oA/DDNLOn4zV7+h2vzbyr46P6eaub0tI4w/SXHNnn1Fmj/pyLDbfjGiP3qQ2M0Qt6Y/bn+o4GLYqj8msTSIwKWuPx8xIbZZFLE/TBWC2Hazsj9x9Fnn3S20P9PixgzYfrU/fsxx6Nmetj901twOY4u3PxLNSCxFTLg/y6P6UmjuuD+9hEK4jXy5P8lUZu8x/bk/iymBYp50uj8SolszIua6Pz4c6phvVLs/qRnvGjbCuz9zVpeVHjS8Pw8j53HWr7w/k3y69A47vT823bq0RNu9PzmpedhVkr4/CpwRSgRPvz9t1LeKzeC/PxeKbM5eCcA/sSUWvt/kvz8hqAEgepS/Pz/Ytf/5ZL8/hix/fBGGvz9L1U2UShnAP2W04fJQQsE/\",\"dtype\":\"float64\",\"shape\":[75]},\"y\":{\"__ndarray__\":\"GhExyth1ND/Sv8nbtpRIP2vylNV0PVE/aTum7souWD/At0SJ8fVgPw3Iuahxymc/MSNhhJWvcD/bTfBN02d3P2zb5nxnaoA/CD5h5MAGhz8NmeH1TyaQP+zrCsc9p5Y/LbKd76fGnz/bLW5ISEmmPww9YvTcQq8/JV2OstnstT8Er5Y7M8G+P0c+r3jqkcU/5h99k6ZBzj88bCIzFzjVP4enV8oyxN0//yH99nXg5D8qOpLLf0jtP5kqGJXUifQ/c9cS8kHP/D+/DpwzojQEQIEmwoanVwxA4lgXt9HgE0BSSZ2AJuIbQAMJih9jjiNA5q4l5INuK0AwTKYKRj0zQNv5fmq8/DpAaCJseHrtQkB/+zpwzoxKQM3MzMzMeFJAZmZmZmZqWEAAAAAAAFxeQM3MzMzMJmJAmpmZmZkfZUBmZmZmZhhoQDMzMzMzEWtAAAAAAAAKbkBmZmZmZoFwQM3MzMzM/XFAMzMzMzN6c0CamZmZmfZ0QAAAAAAAc3ZAZmZmZmbvd0DNzMzMzGt5QDMzMzMz6HpAmpmZmZlkfEAAAAAAAOF9QGZmZmZmXX9AZmZmZuZsgECamZmZGSuBQM3MzMxM6YFAAAAAAICngkAzMzMzs2WDQGZmZmbmI4RAmpmZmRnihEDNzMzMTKCFQAAAAACAXoZAMzMzM7Mch0BmZmZm5tqHQJqZmZkZmYhAzczMzExXiUAAAAAAgBWKQDMzMzOz04pAZmZmZuaRi0CamZmZGVCMQM3MzMxMDo1AAAAAAIDMjUAzMzMzs4qOQGZmZmbmSI9A\",\"dtype\":\"float64\",\"shape\":[75]}},\"selected\":{\"id\":\"5e313b10-100f-46a9-81a4-5c1e8c17d687\",\"type\":\"Selection\"},\"selection_policy\":{\"id\":\"0c50cafb-56d0-4da0-b0ff-82445ab8f458\",\"type\":\"UnionRenderers\"}},\"id\":\"f7646ac7-fbae-45c0-9d53-e2e5f366ae60\",\"type\":\"ColumnDataSource\"},{\"attributes\":{\"line_alpha\":0.1,\"line_color\":\"#1f77b4\",\"line_dash\":[6],\"line_width\":5,\"x\":{\"field\":\"x\"},\"y\":{\"field\":\"y\"}},\"id\":\"ea29aa6d-beaf-4965-a3d9-401f07c2092b\",\"type\":\"Line\"},{\"attributes\":{\"callback\":null,\"data\":{\"x\":{\"__ndarray__\":\"+M2DMUGx1T+w60Jjs8PVPzjqTNDff9Y/qV7tJSM11z/WzCPni9PXP6jSnf2OUNg/1cw2ih6j2D+CWHanTbzYP/F7HoeliNg/WoACyUDw1z9AffkQH9XWP9h8UeM9INU/NSRWgq2i0j9ReGlREnPOPzBzuzF1Nsk/+Qp6LLW0yz+DkvcQMXLRP0KpwPsPqdM/VKZ7L8S21D8iyfEKdxnWPwjJ2yMbytk/WDYKQNDv4D8M+CWwc9LlPxKfva9Yd+U/JHFPimj54D+f6Vl9UKXaP4eMbeVglNU/fTdgYXTe0T96VG+WJM/NP6U9WV8MS8g/FylnfwOUwj/e9WRsC0a6P2LQdpmN/7I/ko4BJlDnrj/vhF3MVZupP1qGPWzY4aM/4RDygq21nz9XY5t48vmZPxNzi0PbdY0/0zuU6EHZYT8HZzp+LvlnPwIVfCodyZA/3v/ZZNnsnD+CYut5ozWjPxkZLDleL6c/UmMDy7uiqj//E98yL76tP0E2KoXdT7A/HyG8Lw2usT/8Tj5PIvuyP2KRL47mM7Q/CVPyQPBQtT+3JkTRDEa2Pw5eB+l9Ibc/y9xAKIfntz+Tgark75+4P6JA7BQ7Trk/PuCrVKTxuT/twvbazY26P1lg6HNVIrs/IiF6teqwuz996w6FF0K8P1cccMcrzbw/janGnE9ovT8QOpnJaBK+P4qdwY1bzb4/J5zVHHCMvz8MhMYTww/AP6xfGrU7KsA/31s7K8UWwD9Dc4r1FuO/PxJQIw5+tb8//Ih9upTQvz92qUI2RzfAPyMbO8RPUME/\",\"dtype\":\"float64\",\"shape\":[75]},\"y\":{\"__ndarray__\":\"GhExyth1ND/Sv8nbtpRIP2vylNV0PVE/aTum7souWD/At0SJ8fVgPw3Iuahxymc/MSNhhJWvcD/bTfBN02d3P2zb5nxnaoA/CD5h5MAGhz8NmeH1TyaQP+zrCsc9p5Y/LbKd76fGnz/bLW5ISEmmPww9YvTcQq8/JV2OstnstT8Er5Y7M8G+P0c+r3jqkcU/5h99k6ZBzj88bCIzFzjVP4enV8oyxN0//yH99nXg5D8qOpLLf0jtP5kqGJXUifQ/c9cS8kHP/D+/DpwzojQEQIEmwoanVwxA4lgXt9HgE0BSSZ2AJuIbQAMJih9jjiNA5q4l5INuK0AwTKYKRj0zQNv5fmq8/DpAaCJseHrtQkB/+zpwzoxKQM3MzMzMeFJAZmZmZmZqWEAAAAAAAFxeQM3MzMzMJmJAmpmZmZkfZUBmZmZmZhhoQDMzMzMzEWtAAAAAAAAKbkBmZmZmZoFwQM3MzMzM/XFAMzMzMzN6c0CamZmZmfZ0QAAAAAAAc3ZAZmZmZmbvd0DNzMzMzGt5QDMzMzMz6HpAmpmZmZlkfEAAAAAAAOF9QGZmZmZmXX9AZmZmZuZsgECamZmZGSuBQM3MzMxM6YFAAAAAAICngkAzMzMzs2WDQGZmZmbmI4RAmpmZmRnihEDNzMzMTKCFQAAAAACAXoZAMzMzM7Mch0BmZmZm5tqHQJqZmZkZmYhAzczMzExXiUAAAAAAgBWKQDMzMzOz04pAZmZmZuaRi0CamZmZGVCMQM3MzMxMDo1AAAAAAIDMjUAzMzMzs4qOQGZmZmbmSI9A\",\"dtype\":\"float64\",\"shape\":[75]}},\"selected\":{\"id\":\"47ea1c3a-ce0b-4916-b3a5-aff4ca03a9ab\",\"type\":\"Selection\"},\"selection_policy\":{\"id\":\"6f9a0455-d43c-474c-a935-ce36ac8be098\",\"type\":\"UnionRenderers\"}},\"id\":\"89463910-82dc-4166-b062-8c9e935876df\",\"type\":\"ColumnDataSource\"},{\"attributes\":{},\"id\":\"b4a2fbe1-5e84-4eed-85f8-d2c43ee93968\",\"type\":\"ResetTool\"},{\"attributes\":{\"fill_alpha\":{\"value\":0.7},\"fill_color\":{\"value\":\"#4daf4a\"},\"line_alpha\":{\"value\":0.7},\"line_color\":{\"value\":\"#4daf4a\"},\"x\":{\"field\":\"x\"},\"y\":{\"field\":\"y\"}},\"id\":\"0f5621cb-c6ff-4f71-99ec-a72ccb379de7\",\"type\":\"Circle\"},{\"attributes\":{\"overlay\":{\"id\":\"e76a330e-f836-464f-b2e8-291048c3d867\",\"type\":\"BoxAnnotation\"}},\"id\":\"96bcd266-4915-4dc2-8031-a960996aad25\",\"type\":\"BoxZoomTool\"},{\"attributes\":{\"fill_alpha\":{\"value\":0.1},\"fill_color\":{\"value\":\"#1f77b4\"},\"line_alpha\":{\"value\":0.1},\"line_color\":{\"value\":\"#1f77b4\"},\"x\":{\"field\":\"x\"},\"y\":{\"field\":\"y\"}},\"id\":\"206a1630-aaf5-44cf-8a8c-6e294f3522c7\",\"type\":\"Square\"},{\"attributes\":{\"fill_alpha\":{\"value\":0.1},\"fill_color\":{\"value\":\"#1f77b4\"},\"line_alpha\":{\"value\":0.1},\"line_color\":{\"value\":\"#1f77b4\"},\"x\":{\"field\":\"x\"},\"y\":{\"field\":\"y\"}},\"id\":\"663371af-5686-4a31-a5e5-e63685d17934\",\"type\":\"Square\"},{\"attributes\":{\"num_minor_ticks\":10},\"id\":\"45d7f5d2-fb19-4a4e-b5c4-e4443903bfa5\",\"type\":\"LogTicker\"},{\"attributes\":{},\"id\":\"b11f91ee-bf7a-448a-9dce-6af57f9fa3d9\",\"type\":\"HelpTool\"},{\"attributes\":{\"data_source\":{\"id\":\"89463910-82dc-4166-b062-8c9e935876df\",\"type\":\"ColumnDataSource\"},\"glyph\":{\"id\":\"012865c8-8882-4a0c-ba9c-4244cd7dfb09\",\"type\":\"Square\"},\"hover_glyph\":null,\"muted_glyph\":null,\"nonselection_glyph\":{\"id\":\"663371af-5686-4a31-a5e5-e63685d17934\",\"type\":\"Square\"},\"selection_glyph\":null,\"view\":{\"id\":\"fa1b9bbb-0f6d-43d3-89a7-c4e917191006\",\"type\":\"CDSView\"}},\"id\":\"8e0e8a66-8a0d-437f-a131-e48ebd0f956a\",\"type\":\"GlyphRenderer\"},{\"attributes\":{\"callback\":null,\"data\":{\"x\":{\"__ndarray__\":\"/E2sfGTt2D/g5+iG4NfYP9nL+O+ojtk/07Brvdc32j+xPhaJpr/aP3qyk6i0Eds/gWzlZxsm2z+x5vhP1OXaP366iXM3PNo/kg2cGgUU2T9NWE2daFPXPx3s6uEN4dQ/OPVg1rSg0T/Mypto/OfKP5gfTS8QiMQ/3ZTyWgndxj8s1UfYnvbOP5GgthUUqdI/emwuq2491T+VBmW3IjPYP+CiUYkEttw/sKXLi+Fk4j8xMtg/FRjnP0ghfx/EJOY/SRQ5yBQh4T9PjxJg/YTaP/fWl9fX29Q/ByrC0X550D+Fs/igqU/KP5SQ3T/1E8U/dkKeEzFbwD/uC9tbORe4P8qro0XeO7I/3lAFlx+crT+f+BOQVLGmPxYHu1SxoJ4/1TDPjHbDlT+rFo+NazyRPw6huI5y6oA/DDNLOn4zV7+h2vzbyr46P6eaub0tI4w/SXHNnn1Fmj/pyLDbfjGiP3qQ2M0Qt6Y/bn+o4GLYqj8msTSIwKWuPx8xIbZZFLE/TBWC2Hazsj9x9Fnn3S20P9PixgzYfrU/fsxx6Nmetj901twOY4u3PxLNSCxFTLg/y6P6UmjuuD+9hEK4jXy5P8lUZu8x/bk/iymBYp50uj8SolszIua6Pz4c6phvVLs/qRnvGjbCuz9zVpeVHjS8Pw8j53HWr7w/k3y69A47vT823bq0RNu9PzmpedhVkr4/CpwRSgRPvz9t1LeKzeC/PxeKbM5eCcA/sSUWvt/kvz8hqAEgepS/Pz/Ytf/5ZL8/hix/fBGGvz9L1U2UShnAP2W04fJQQsE/\",\"dtype\":\"float64\",\"shape\":[75]},\"y\":{\"__ndarray__\":\"GhExyth1ND/Sv8nbtpRIP2vylNV0PVE/aTum7souWD/At0SJ8fVgPw3Iuahxymc/MSNhhJWvcD/bTfBN02d3P2zb5nxnaoA/CD5h5MAGhz8NmeH1TyaQP+zrCsc9p5Y/LbKd76fGnz/bLW5ISEmmPww9YvTcQq8/JV2OstnstT8Er5Y7M8G+P0c+r3jqkcU/5h99k6ZBzj88bCIzFzjVP4enV8oyxN0//yH99nXg5D8qOpLLf0jtP5kqGJXUifQ/c9cS8kHP/D+/DpwzojQEQIEmwoanVwxA4lgXt9HgE0BSSZ2AJuIbQAMJih9jjiNA5q4l5INuK0AwTKYKRj0zQNv5fmq8/DpAaCJseHrtQkB/+zpwzoxKQM3MzMzMeFJAZmZmZmZqWEAAAAAAAFxeQM3MzMzMJmJAmpmZmZkfZUBmZmZmZhhoQDMzMzMzEWtAAAAAAAAKbkBmZmZmZoFwQM3MzMzM/XFAMzMzMzN6c0CamZmZmfZ0QAAAAAAAc3ZAZmZmZmbvd0DNzMzMzGt5QDMzMzMz6HpAmpmZmZlkfEAAAAAAAOF9QGZmZmZmXX9AZmZmZuZsgECamZmZGSuBQM3MzMxM6YFAAAAAAICngkAzMzMzs2WDQGZmZmbmI4RAmpmZmRnihEDNzMzMTKCFQAAAAACAXoZAMzMzM7Mch0BmZmZm5tqHQJqZmZkZmYhAzczMzExXiUAAAAAAgBWKQDMzMzOz04pAZmZmZuaRi0CamZmZGVCMQM3MzMxMDo1AAAAAAIDMjUAzMzMzs4qOQGZmZmbmSI9A\",\"dtype\":\"float64\",\"shape\":[75]}},\"selected\":{\"id\":\"30d90b72-fcaf-4292-aafc-f70501f456ef\",\"type\":\"Selection\"},\"selection_policy\":{\"id\":\"13a1d997-2ba5-4c39-b5ee-90b828f61876\",\"type\":\"UnionRenderers\"}},\"id\":\"c6753e74-f3e4-4fe3-bf39-1cfec7476f08\",\"type\":\"ColumnDataSource\"},{\"attributes\":{\"source\":{\"id\":\"8d94eb8d-7ae4-4007-8b4a-597969ebcaa7\",\"type\":\"ColumnDataSource\"}},\"id\":\"35fc1f02-5d65-4b88-8f7d-ac763c326b08\",\"type\":\"CDSView\"},{\"attributes\":{\"line_alpha\":0.1,\"line_color\":\"#1f77b4\",\"line_width\":1.5,\"x\":{\"field\":\"x\"},\"y\":{\"field\":\"y\"}},\"id\":\"a57e1079-ec16-45cf-97a7-8c5e81cc1afd\",\"type\":\"Line\"},{\"attributes\":{\"data_source\":{\"id\":\"c6753e74-f3e4-4fe3-bf39-1cfec7476f08\",\"type\":\"ColumnDataSource\"},\"glyph\":{\"id\":\"e346a128-bcab-4588-a776-368c5d7c9397\",\"type\":\"Line\"},\"hover_glyph\":null,\"muted_glyph\":null,\"nonselection_glyph\":{\"id\":\"a57e1079-ec16-45cf-97a7-8c5e81cc1afd\",\"type\":\"Line\"},\"selection_glyph\":null,\"view\":{\"id\":\"213f4f31-91a5-439a-b4e9-25ddea41c304\",\"type\":\"CDSView\"}},\"id\":\"296602e2-374e-4baf-835c-e6c9943a19a7\",\"type\":\"GlyphRenderer\"},{\"attributes\":{\"line_alpha\":0.6,\"line_color\":\"#984ea3\",\"line_width\":3,\"x\":{\"field\":\"x\"},\"y\":{\"field\":\"y\"}},\"id\":\"efdcf792-56c0-449d-b063-b9c48db9090b\",\"type\":\"Line\"},{\"attributes\":{},\"id\":\"8280b6b3-6172-4943-95bb-1d37aef9f76f\",\"type\":\"SaveTool\"},{\"attributes\":{\"line_alpha\":0.6,\"line_color\":\"#e41a1c\",\"line_dash\":[6],\"line_width\":5,\"x\":{\"field\":\"x\"},\"y\":{\"field\":\"y\"}},\"id\":\"1bb056c9-f672-443e-9db0-02ee0ab88f34\",\"type\":\"Line\"},{\"attributes\":{\"line_alpha\":0.6,\"line_color\":\"#e41a1c\",\"line_dash\":[6],\"line_width\":5,\"x\":{\"field\":\"x\"},\"y\":{\"field\":\"y\"}},\"id\":\"93f01af8-342b-40a8-963e-1dfda0bbefbe\",\"type\":\"Line\"},{\"attributes\":{\"fill_alpha\":{\"value\":0.7},\"fill_color\":{\"value\":\"#984ea3\"},\"line_alpha\":{\"value\":0.7},\"line_color\":{\"value\":\"#984ea3\"},\"x\":{\"field\":\"x\"},\"y\":{\"field\":\"y\"}},\"id\":\"012865c8-8882-4a0c-ba9c-4244cd7dfb09\",\"type\":\"Square\"},{\"attributes\":{\"source\":{\"id\":\"c6753e74-f3e4-4fe3-bf39-1cfec7476f08\",\"type\":\"ColumnDataSource\"}},\"id\":\"213f4f31-91a5-439a-b4e9-25ddea41c304\",\"type\":\"CDSView\"},{\"attributes\":{\"callback\":null,\"data\":{\"x\":{\"__ndarray__\":\"+M2DMUGx1T+w60Jjs8PVPzjqTNDff9Y/qV7tJSM11z/WzCPni9PXP6jSnf2OUNg/1cw2ih6j2D+CWHanTbzYP/F7HoeliNg/WoACyUDw1z9AffkQH9XWP9h8UeM9INU/NSRWgq2i0j9ReGlREnPOPzBzuzF1Nsk/+Qp6LLW0yz+DkvcQMXLRP0KpwPsPqdM/VKZ7L8S21D8iyfEKdxnWPwjJ2yMbytk/WDYKQNDv4D8M+CWwc9LlPxKfva9Yd+U/JHFPimj54D+f6Vl9UKXaP4eMbeVglNU/fTdgYXTe0T96VG+WJM/NP6U9WV8MS8g/FylnfwOUwj/e9WRsC0a6P2LQdpmN/7I/ko4BJlDnrj/vhF3MVZupP1qGPWzY4aM/4RDygq21nz9XY5t48vmZPxNzi0PbdY0/0zuU6EHZYT8HZzp+LvlnPwIVfCodyZA/3v/ZZNnsnD+CYut5ozWjPxkZLDleL6c/UmMDy7uiqj//E98yL76tP0E2KoXdT7A/HyG8Lw2usT/8Tj5PIvuyP2KRL47mM7Q/CVPyQPBQtT+3JkTRDEa2Pw5eB+l9Ibc/y9xAKIfntz+Tgark75+4P6JA7BQ7Trk/PuCrVKTxuT/twvbazY26P1lg6HNVIrs/IiF6teqwuz996w6FF0K8P1cccMcrzbw/janGnE9ovT8QOpnJaBK+P4qdwY1bzb4/J5zVHHCMvz8MhMYTww/AP6xfGrU7KsA/31s7K8UWwD9Dc4r1FuO/PxJQIw5+tb8//Ih9upTQvz92qUI2RzfAPyMbO8RPUME/\",\"dtype\":\"float64\",\"shape\":[75]},\"y\":{\"__ndarray__\":\"GhExyth1ND/Sv8nbtpRIP2vylNV0PVE/aTum7souWD/At0SJ8fVgPw3Iuahxymc/MSNhhJWvcD/bTfBN02d3P2zb5nxnaoA/CD5h5MAGhz8NmeH1TyaQP+zrCsc9p5Y/LbKd76fGnz/bLW5ISEmmPww9YvTcQq8/JV2OstnstT8Er5Y7M8G+P0c+r3jqkcU/5h99k6ZBzj88bCIzFzjVP4enV8oyxN0//yH99nXg5D8qOpLLf0jtP5kqGJXUifQ/c9cS8kHP/D+/DpwzojQEQIEmwoanVwxA4lgXt9HgE0BSSZ2AJuIbQAMJih9jjiNA5q4l5INuK0AwTKYKRj0zQNv5fmq8/DpAaCJseHrtQkB/+zpwzoxKQM3MzMzMeFJAZmZmZmZqWEAAAAAAAFxeQM3MzMzMJmJAmpmZmZkfZUBmZmZmZhhoQDMzMzMzEWtAAAAAAAAKbkBmZmZmZoFwQM3MzMzM/XFAMzMzMzN6c0CamZmZmfZ0QAAAAAAAc3ZAZmZmZmbvd0DNzMzMzGt5QDMzMzMz6HpAmpmZmZlkfEAAAAAAAOF9QGZmZmZmXX9AZmZmZuZsgECamZmZGSuBQM3MzMxM6YFAAAAAAICngkAzMzMzs2WDQGZmZmbmI4RAmpmZmRnihEDNzMzMTKCFQAAAAACAXoZAMzMzM7Mch0BmZmZm5tqHQJqZmZkZmYhAzczMzExXiUAAAAAAgBWKQDMzMzOz04pAZmZmZuaRi0CamZmZGVCMQM3MzMxMDo1AAAAAAIDMjUAzMzMzs4qOQGZmZmbmSI9A\",\"dtype\":\"float64\",\"shape\":[75]}},\"selected\":{\"id\":\"a08006e8-d8c6-4215-992d-0d541dabf6a7\",\"type\":\"Selection\"},\"selection_policy\":{\"id\":\"2b711e96-fedb-4479-815d-039a75309eb1\",\"type\":\"UnionRenderers\"}},\"id\":\"f941f339-e405-4dcb-b186-a90ec4ab31d5\",\"type\":\"ColumnDataSource\"},{\"attributes\":{\"plot\":null,\"text\":\"Log pressure scale\"},\"id\":\"6d2b8bb0-9b72-47fc-b828-7506d513ff1c\",\"type\":\"Title\"},{\"attributes\":{\"line_alpha\":0.6,\"line_color\":\"#984ea3\",\"line_width\":3,\"x\":{\"field\":\"x\"},\"y\":{\"field\":\"y\"}},\"id\":\"e258123b-7816-464b-962c-3e901ec0a8f0\",\"type\":\"Line\"},{\"attributes\":{\"data_source\":{\"id\":\"f941f339-e405-4dcb-b186-a90ec4ab31d5\",\"type\":\"ColumnDataSource\"},\"glyph\":{\"id\":\"e258123b-7816-464b-962c-3e901ec0a8f0\",\"type\":\"Line\"},\"hover_glyph\":null,\"muted_glyph\":null,\"nonselection_glyph\":{\"id\":\"e8e48a52-eff3-4b53-a95d-f8fea3be00cf\",\"type\":\"Line\"},\"selection_glyph\":null,\"view\":{\"id\":\"5e7b0ad8-e538-4a12-8889-e63cd4fcd1b9\",\"type\":\"CDSView\"}},\"id\":\"196ceaf0-6c75-458d-9ef6-1c07fd00216d\",\"type\":\"GlyphRenderer\"},{\"attributes\":{\"source\":{\"id\":\"f7646ac7-fbae-45c0-9d53-e2e5f366ae60\",\"type\":\"ColumnDataSource\"}},\"id\":\"ac9ecb6a-2f2d-4575-bcaa-99ad6c5892c3\",\"type\":\"CDSView\"},{\"attributes\":{},\"id\":\"47ea1c3a-ce0b-4916-b3a5-aff4ca03a9ab\",\"type\":\"Selection\"},{\"attributes\":{\"source\":{\"id\":\"dc615e25-c1e2-4ea7-bd27-aed0c3fb5704\",\"type\":\"ColumnDataSource\"}},\"id\":\"f91a8dad-8d0c-4c2e-8180-1dec6cf69e4c\",\"type\":\"CDSView\"},{\"attributes\":{\"source\":{\"id\":\"f941f339-e405-4dcb-b186-a90ec4ab31d5\",\"type\":\"ColumnDataSource\"}},\"id\":\"5e7b0ad8-e538-4a12-8889-e63cd4fcd1b9\",\"type\":\"CDSView\"},{\"attributes\":{\"data_source\":{\"id\":\"d38c39b9-fd7b-48ff-acca-4d28a9bea659\",\"type\":\"ColumnDataSource\"},\"glyph\":{\"id\":\"d820ba4e-11fd-45e7-bc55-2592b54cf5e5\",\"type\":\"Square\"},\"hover_glyph\":null,\"muted_glyph\":null,\"nonselection_glyph\":{\"id\":\"206a1630-aaf5-44cf-8a8c-6e294f3522c7\",\"type\":\"Square\"},\"selection_glyph\":null,\"view\":{\"id\":\"f77a3c56-ab75-4815-acb5-58c6f04bc4d3\",\"type\":\"CDSView\"}},\"id\":\"df545733-7ba8-436a-ad2b-af6037077013\",\"type\":\"GlyphRenderer\"},{\"attributes\":{},\"id\":\"d1ec6a51-9f4a-4b74-8e8d-027f91b16dc1\",\"type\":\"BasicTickFormatter\"},{\"attributes\":{},\"id\":\"c28543ab-6a82-4c94-83f7-9b733553a209\",\"type\":\"SaveTool\"},{\"attributes\":{\"label\":{\"value\":\"CLIRAD `coolr_bands`\"},\"renderers\":[{\"id\":\"d8f2a21b-6fe2-4293-9db4-4446da016cdd\",\"type\":\"GlyphRenderer\"}]},\"id\":\"f8aedb05-29a3-454c-bb04-6e31617aa1ff\",\"type\":\"LegendItem\"},{\"attributes\":{\"axis_label\":\"cooling rate [K/day]\",\"formatter\":{\"id\":\"e5664101-3bec-4a19-a6ca-c6592ce71286\",\"type\":\"BasicTickFormatter\"},\"plot\":{\"id\":\"6bb01356-1a40-4dca-a5bd-3e5cdcb8dbaa\",\"subtype\":\"Figure\",\"type\":\"Plot\"},\"ticker\":{\"id\":\"1f3bf765-0ef8-4796-997b-3251f791117c\",\"type\":\"BasicTicker\"}},\"id\":\"02b63fe2-0953-4f74-b3b1-9849bbfcf231\",\"type\":\"LinearAxis\"},{\"attributes\":{},\"id\":\"d25eb280-55cc-4d04-b7ba-3fc3d74d393e\",\"type\":\"UnionRenderers\"},{\"attributes\":{\"overlay\":{\"id\":\"a1e2cedb-ca48-4131-96ab-4d3aff57c710\",\"type\":\"BoxAnnotation\"}},\"id\":\"5961b72e-dfd5-48ff-9077-55e6989a420f\",\"type\":\"BoxZoomTool\"},{\"attributes\":{\"label\":{\"value\":\"CRD\"},\"renderers\":[{\"id\":\"231408ae-8b95-42cd-975b-b823aa56ad05\",\"type\":\"GlyphRenderer\"},{\"id\":\"296602e2-374e-4baf-835c-e6c9943a19a7\",\"type\":\"GlyphRenderer\"}]},\"id\":\"b4dd5ccd-d3c0-4c34-8f34-44404677b18d\",\"type\":\"LegendItem\"},{\"attributes\":{\"ticker\":null},\"id\":\"bc1d9344-a222-4370-b6c5-ed99379a8c75\",\"type\":\"LogTickFormatter\"},{\"attributes\":{},\"id\":\"0c50cafb-56d0-4da0-b0ff-82445ab8f458\",\"type\":\"UnionRenderers\"},{\"attributes\":{\"line_color\":\"#4daf4a\",\"line_width\":1.5,\"x\":{\"field\":\"x\"},\"y\":{\"field\":\"y\"}},\"id\":\"0eadac2a-5c86-425c-9fd0-bfc9e63a6ac1\",\"type\":\"Line\"},{\"attributes\":{\"callback\":null,\"data\":{\"x\":{\"__ndarray__\":\"+M2DMUGx1T+w60Jjs8PVPzjqTNDff9Y/qV7tJSM11z/WzCPni9PXP6jSnf2OUNg/1cw2ih6j2D+CWHanTbzYP/F7HoeliNg/WoACyUDw1z9AffkQH9XWP9h8UeM9INU/NSRWgq2i0j9ReGlREnPOPzBzuzF1Nsk/+Qp6LLW0yz+DkvcQMXLRP0KpwPsPqdM/VKZ7L8S21D8iyfEKdxnWPwjJ2yMbytk/WDYKQNDv4D8M+CWwc9LlPxKfva9Yd+U/JHFPimj54D+f6Vl9UKXaP4eMbeVglNU/fTdgYXTe0T96VG+WJM/NP6U9WV8MS8g/FylnfwOUwj/e9WRsC0a6P2LQdpmN/7I/ko4BJlDnrj/vhF3MVZupP1qGPWzY4aM/4RDygq21nz9XY5t48vmZPxNzi0PbdY0/0zuU6EHZYT8HZzp+LvlnPwIVfCodyZA/3v/ZZNnsnD+CYut5ozWjPxkZLDleL6c/UmMDy7uiqj//E98yL76tP0E2KoXdT7A/HyG8Lw2usT/8Tj5PIvuyP2KRL47mM7Q/CVPyQPBQtT+3JkTRDEa2Pw5eB+l9Ibc/y9xAKIfntz+Tgark75+4P6JA7BQ7Trk/PuCrVKTxuT/twvbazY26P1lg6HNVIrs/IiF6teqwuz996w6FF0K8P1cccMcrzbw/janGnE9ovT8QOpnJaBK+P4qdwY1bzb4/J5zVHHCMvz8MhMYTww/AP6xfGrU7KsA/31s7K8UWwD9Dc4r1FuO/PxJQIw5+tb8//Ih9upTQvz92qUI2RzfAPyMbO8RPUME/\",\"dtype\":\"float64\",\"shape\":[75]},\"y\":{\"__ndarray__\":\"GhExyth1ND/Sv8nbtpRIP2vylNV0PVE/aTum7souWD/At0SJ8fVgPw3Iuahxymc/MSNhhJWvcD/bTfBN02d3P2zb5nxnaoA/CD5h5MAGhz8NmeH1TyaQP+zrCsc9p5Y/LbKd76fGnz/bLW5ISEmmPww9YvTcQq8/JV2OstnstT8Er5Y7M8G+P0c+r3jqkcU/5h99k6ZBzj88bCIzFzjVP4enV8oyxN0//yH99nXg5D8qOpLLf0jtP5kqGJXUifQ/c9cS8kHP/D+/DpwzojQEQIEmwoanVwxA4lgXt9HgE0BSSZ2AJuIbQAMJih9jjiNA5q4l5INuK0AwTKYKRj0zQNv5fmq8/DpAaCJseHrtQkB/+zpwzoxKQM3MzMzMeFJAZmZmZmZqWEAAAAAAAFxeQM3MzMzMJmJAmpmZmZkfZUBmZmZmZhhoQDMzMzMzEWtAAAAAAAAKbkBmZmZmZoFwQM3MzMzM/XFAMzMzMzN6c0CamZmZmfZ0QAAAAAAAc3ZAZmZmZmbvd0DNzMzMzGt5QDMzMzMz6HpAmpmZmZlkfEAAAAAAAOF9QGZmZmZmXX9AZmZmZuZsgECamZmZGSuBQM3MzMxM6YFAAAAAAICngkAzMzMzs2WDQGZmZmbmI4RAmpmZmRnihEDNzMzMTKCFQAAAAACAXoZAMzMzM7Mch0BmZmZm5tqHQJqZmZkZmYhAzczMzExXiUAAAAAAgBWKQDMzMzOz04pAZmZmZuaRi0CamZmZGVCMQM3MzMxMDo1AAAAAAIDMjUAzMzMzs4qOQGZmZmbmSI9A\",\"dtype\":\"float64\",\"shape\":[75]}},\"selected\":{\"id\":\"b28fbf6d-43a1-4eb6-b5e6-5dd75d673f26\",\"type\":\"Selection\"},\"selection_policy\":{\"id\":\"c65af0b9-1093-4293-88d5-f28374a09bff\",\"type\":\"UnionRenderers\"}},\"id\":\"dc615e25-c1e2-4ea7-bd27-aed0c3fb5704\",\"type\":\"ColumnDataSource\"},{\"attributes\":{\"label\":{\"value\":\"WGT igg=10 wgt_flux=2\"},\"renderers\":[{\"id\":\"df545733-7ba8-436a-ad2b-af6037077013\",\"type\":\"GlyphRenderer\"},{\"id\":\"196ceaf0-6c75-458d-9ef6-1c07fd00216d\",\"type\":\"GlyphRenderer\"}]},\"id\":\"e48a073c-b400-41f8-86a8-cefc3126a948\",\"type\":\"LegendItem\"},{\"attributes\":{\"line_alpha\":0.1,\"line_color\":\"#1f77b4\",\"line_width\":3,\"x\":{\"field\":\"x\"},\"y\":{\"field\":\"y\"}},\"id\":\"7b87704c-7490-483c-a0a2-e8d50057249a\",\"type\":\"Line\"},{\"attributes\":{},\"id\":\"b28fbf6d-43a1-4eb6-b5e6-5dd75d673f26\",\"type\":\"Selection\"},{\"attributes\":{},\"id\":\"4d581dc9-eb74-41a6-8d40-7aa070efd3d9\",\"type\":\"BasicTickFormatter\"},{\"attributes\":{\"source\":{\"id\":\"89463910-82dc-4166-b062-8c9e935876df\",\"type\":\"ColumnDataSource\"}},\"id\":\"fa1b9bbb-0f6d-43d3-89a7-c4e917191006\",\"type\":\"CDSView\"},{\"attributes\":{\"data_source\":{\"id\":\"2043dd07-fd32-497c-a25d-cdfbb29ce6c0\",\"type\":\"ColumnDataSource\"},\"glyph\":{\"id\":\"0eadac2a-5c86-425c-9fd0-bfc9e63a6ac1\",\"type\":\"Line\"},\"hover_glyph\":null,\"muted_glyph\":null,\"nonselection_glyph\":{\"id\":\"6abfbc49-eca7-45cc-943d-2f2aa498978b\",\"type\":\"Line\"},\"selection_glyph\":null,\"view\":{\"id\":\"647af693-1578-488e-8365-a979677a88a6\",\"type\":\"CDSView\"}},\"id\":\"8ea2386a-2513-4a1a-ba07-33741da536fe\",\"type\":\"GlyphRenderer\"},{\"attributes\":{},\"id\":\"e5664101-3bec-4a19-a6ca-c6592ce71286\",\"type\":\"BasicTickFormatter\"},{\"attributes\":{\"below\":[{\"id\":\"cf19bbdb-71a1-42db-8850-32f7e1a18c5d\",\"type\":\"LinearAxis\"}],\"left\":[{\"id\":\"0e3325a5-5198-4963-a74c-edc937561675\",\"type\":\"LinearAxis\"}],\"plot_height\":500,\"plot_width\":400,\"renderers\":[{\"id\":\"cf19bbdb-71a1-42db-8850-32f7e1a18c5d\",\"type\":\"LinearAxis\"},{\"id\":\"de7fac0e-fe66-4d33-9023-e85fb207a9ca\",\"type\":\"Grid\"},{\"id\":\"0e3325a5-5198-4963-a74c-edc937561675\",\"type\":\"LinearAxis\"},{\"id\":\"db979af3-2546-4bc4-9d92-045560be25c3\",\"type\":\"Grid\"},{\"id\":\"e76a330e-f836-464f-b2e8-291048c3d867\",\"type\":\"BoxAnnotation\"},{\"id\":\"b30bfb4a-f9d4-47c2-8d05-e145ae24d234\",\"type\":\"GlyphRenderer\"},{\"id\":\"fd928680-1a00-49f4-ac6f-8a7d574ea4eb\",\"type\":\"GlyphRenderer\"},{\"id\":\"8ea2386a-2513-4a1a-ba07-33741da536fe\",\"type\":\"GlyphRenderer\"},{\"id\":\"8e0e8a66-8a0d-437f-a131-e48ebd0f956a\",\"type\":\"GlyphRenderer\"},{\"id\":\"71272a1c-fc0f-46d2-9882-fc0fada7db44\",\"type\":\"GlyphRenderer\"}],\"title\":{\"id\":\"3d2dfb4d-2929-4150-be85-50c3b9e8eb81\",\"type\":\"Title\"},\"toolbar\":{\"id\":\"2eddea1a-d246-4b20-9c5b-a14119062eca\",\"type\":\"Toolbar\"},\"toolbar_location\":null,\"x_range\":{\"id\":\"074c0f94-9250-4ba4-a5f0-f65a8778c4c0\",\"type\":\"Range1d\"},\"x_scale\":{\"id\":\"0ab402b6-a883-484d-9989-5051fd283d39\",\"type\":\"LinearScale\"},\"y_range\":{\"id\":\"f0610a23-6402-4585-951c-e48967c68a4a\",\"type\":\"Range1d\"},\"y_scale\":{\"id\":\"25e077df-418c-4f93-ab87-db2b514d4aa1\",\"type\":\"LinearScale\"}},\"id\":\"da2750ad-3637-41b1-86fa-c5192bd15eea\",\"subtype\":\"Figure\",\"type\":\"Plot\"},{\"attributes\":{},\"id\":\"265bc360-bb75-4d35-b1d6-e13bf44e8f48\",\"type\":\"Selection\"},{\"attributes\":{},\"id\":\"25e077df-418c-4f93-ab87-db2b514d4aa1\",\"type\":\"LinearScale\"},{\"attributes\":{},\"id\":\"5e313b10-100f-46a9-81a4-5c1e8c17d687\",\"type\":\"Selection\"},{\"attributes\":{\"callback\":null,\"end\":0.138929055855,\"start\":-0.002805641355},\"id\":\"074c0f94-9250-4ba4-a5f0-f65a8778c4c0\",\"type\":\"Range1d\"},{\"attributes\":{},\"id\":\"c65af0b9-1093-4293-88d5-f28374a09bff\",\"type\":\"UnionRenderers\"},{\"attributes\":{\"fill_alpha\":{\"value\":0.1},\"fill_color\":{\"value\":\"#1f77b4\"},\"line_alpha\":{\"value\":0.1},\"line_color\":{\"value\":\"#1f77b4\"},\"x\":{\"field\":\"x\"},\"y\":{\"field\":\"y\"}},\"id\":\"6b3a6bbe-2fd4-4a64-8547-f7a4694919bc\",\"type\":\"Circle\"},{\"attributes\":{},\"id\":\"8c685a11-c76b-42b8-8e59-42f769311ba1\",\"type\":\"UnionRenderers\"},{\"attributes\":{},\"id\":\"87eace1b-56ff-448a-a24c-8746393adf54\",\"type\":\"PanTool\"},{\"attributes\":{},\"id\":\"0ab402b6-a883-484d-9989-5051fd283d39\",\"type\":\"LinearScale\"},{\"attributes\":{},\"id\":\"177e432f-d1d5-41db-b0a2-407016c32b5e\",\"type\":\"Selection\"},{\"attributes\":{\"bottom_units\":\"screen\",\"fill_alpha\":{\"value\":0.5},\"fill_color\":{\"value\":\"lightgrey\"},\"left_units\":\"screen\",\"level\":\"overlay\",\"line_alpha\":{\"value\":1.0},\"line_color\":{\"value\":\"black\"},\"line_dash\":[4,4],\"line_width\":{\"value\":2},\"plot\":null,\"render_mode\":\"css\",\"right_units\":\"screen\",\"top_units\":\"screen\"},\"id\":\"e76a330e-f836-464f-b2e8-291048c3d867\",\"type\":\"BoxAnnotation\"},{\"attributes\":{},\"id\":\"6f9a0455-d43c-474c-a935-ce36ac8be098\",\"type\":\"UnionRenderers\"},{\"attributes\":{},\"id\":\"60acdec0-9522-4670-b0fe-bb696a4d7896\",\"type\":\"HelpTool\"},{\"attributes\":{\"callback\":null,\"data\":{\"x\":{\"__ndarray__\":\"CZzXnnogzz/h0lL1Ap7PP7dO0ORqfdA/fvdUb4kz0T/fDruM7uLRP6eOG59FhtI/pMSu7e0W0z/V8fM6PYrTP4XJ+Qc209M/bSM7wqvd0z8+xbtt8I/TP5sTg9lnwtI/l2eQSPxG0T+TnDz6mdnNP2WTNjTpX8o/AkyV//uZzT80WILWDWXSP/kKue+kR9Q/nQun9Uxp1D+X22IjtbXUP1egq+eD6dc/548GQ18y4D/UpC0RHFXlPyeWpecnJuU/zTBBT/vU4D+Tt/Fh1WTaP78KdBaLmdU/ZbfgVosZ0j87h9eaUoPOP2tWpi3onMg/egXc0u6Awj/qhSHDQXq5P0UfEg8/t7E/rt3CL/9lrD+fp4ACj3KoP2z801ehkqM/Ti7uiAjUnj/NZuXJ+1mYP86delN6bok/aHJQVTtzND8rIS48n6tPP2XHzxG8y4w/bDzTqf1mmj+6BFmvH+uhP3iGL2dE1qU/exxPyQ4xqT+E47XvqjesP9MHDD4/H68/RQHBbYT9sD94Q++U22SyP3ndBNp7w7M/Rrz2fgMQtT8nSYu+eEK2PwPZNLTWV7c/mefzF5tSuD8AzaG+xUC5PwXAmRT2H7o/nRSkIfzuuj+3d9NOSa27P05+i06WWrw/Y/00KHn5vD+qpIjrnI+9P0SVzHcRIr4//B0n2MG5vj+zK+sGI1m/P20tQJlOBMA/6dfWT/9ZwD8IdbJQQpvAP4q+zMF9rsA/KJbfkrGUwD+pz/7VHWrAPyGjTR/LTMA/dTvavJpRwD87195EgJXAP6M/NPPkmsE/\",\"dtype\":\"float64\",\"shape\":[75]},\"y\":{\"__ndarray__\":\"S/O/Q+51ND/Sv8nbtpRIP2vylNV0PVE/aTum7souWD/At0SJ8fVgPw3Iuahxymc/MSNhhJWvcD/bTfBN02d3P2zb5nxnaoA/CD5h5MAGhz8NmeH1TyaQP+zrCsc9p5Y/LbKd76fGnz/bLW5ISEmmPww9YvTcQq8/JV2OstnstT8Er5Y7M8G+P0c+r3jqkcU/5h99k6ZBzj88bCIzFzjVP4enV8oyxN0//yH99nXg5D8qOpLLf0jtP5kqGJXUifQ/c9cS8kHP/D+/DpwzojQEQIEmwoanVwxA4lgXt9HgE0BSSZ2AJuIbQAMJih9jjiNA5q4l5INuK0AwTKYKRj0zQNv5fmq8/DpAaCJseHrtQkB/+zpwzoxKQM3MzMzMeFJAZmZmZmZqWEAAAAAAAFxeQM3MzMzMJmJAmpmZmZkfZUBmZmZmZhhoQDMzMzMzEWtAAAAAAAAKbkBmZmZmZoFwQM3MzMzM/XFAMzMzMzN6c0CamZmZmfZ0QAAAAAAAc3ZAZmZmZmbvd0DNzMzMzGt5QDMzMzMz6HpAmpmZmZlkfEAAAAAAAOF9QGZmZmZmXX9AZmZmZuZsgECamZmZGSuBQM3MzMxM6YFAAAAAAICngkAzMzMzs2WDQGZmZmbmI4RAmpmZmRnihEDNzMzMTKCFQAAAAACAXoZAMzMzM7Mch0BmZmZm5tqHQJqZmZkZmYhAzczMzExXiUAAAAAAgBWKQDMzMzOz04pAZmZmZuaRi0CamZmZGVCMQM3MzMxMDo1AAAAAAIDMjUAzMzMzs4qOQGZmZmbmSI9A\",\"dtype\":\"float64\",\"shape\":[75]}},\"selected\":{\"id\":\"8817584f-26b1-43fd-89a2-7c4e4e503b11\",\"type\":\"Selection\"},\"selection_policy\":{\"id\":\"4f1a2cc8-4ce7-44ad-9904-f2342456d61d\",\"type\":\"UnionRenderers\"}},\"id\":\"6cc2ce9a-25c9-48fb-994f-b6c602fd7f40\",\"type\":\"ColumnDataSource\"}],\"root_ids\":[\"52bf830e-9f88-4731-ae8d-6355e81f751b\"]},\"title\":\"Bokeh Application\",\"version\":\"0.12.16\"}};\n",
       "  var render_items = [{\"docid\":\"e9d72217-1480-4c06-9bf9-fefe4fda89d0\",\"elementid\":\"57055b86-5f99-4fad-925e-112edff97c3b\",\"modelid\":\"52bf830e-9f88-4731-ae8d-6355e81f751b\"}];\n",
       "  root.Bokeh.embed.embed_items_notebook(docs_json, render_items);\n",
       "\n",
       "  }\n",
       "  if (root.Bokeh !== undefined) {\n",
       "    embed_document(root);\n",
       "  } else {\n",
       "    var attempts = 0;\n",
       "    var timer = setInterval(function(root) {\n",
       "      if (root.Bokeh !== undefined) {\n",
       "        embed_document(root);\n",
       "        clearInterval(timer);\n",
       "      }\n",
       "      attempts++;\n",
       "      if (attempts > 100) {\n",
       "        console.log(\"Bokeh: ERROR: Unable to run BokehJS code because BokehJS library is missing\")\n",
       "        clearInterval(timer);\n",
       "      }\n",
       "    }, 10, root)\n",
       "  }\n",
       "})(window);"
      ],
      "application/vnd.bokehjs_exec.v0+json": ""
     },
     "metadata": {
      "application/vnd.bokehjs_exec.v0+json": {
       "id": "52bf830e-9f88-4731-ae8d-6355e81f751b"
      }
     },
     "output_type": "display_data"
    },
    {
     "name": "stdout",
     "output_type": "stream",
     "text": [
      "FIGURE. Cooling rate profiles.\n"
     ]
    },
    {
     "data": {
      "text/html": [
       "<a id=\"Flux_Comparison\"></a>"
      ],
      "text/plain": [
       "<IPython.core.display.HTML object>"
      ]
     },
     "metadata": {},
     "output_type": "display_data"
    },
    {
     "data": {
      "text/markdown": [
       "# Flux Comparison"
      ],
      "text/plain": [
       "<IPython.core.display.Markdown object>"
      ]
     },
     "metadata": {},
     "output_type": "display_data"
    },
    {
     "data": {
      "text/html": [
       "<div>\n",
       "<style scoped>\n",
       "    .dataframe tbody tr th:only-of-type {\n",
       "        vertical-align: middle;\n",
       "    }\n",
       "\n",
       "    .dataframe tbody tr th {\n",
       "        vertical-align: top;\n",
       "    }\n",
       "\n",
       "    .dataframe thead th {\n",
       "        text-align: right;\n",
       "    }\n",
       "</style>\n",
       "<table border=\"1\" class=\"dataframe\">\n",
       "  <thead>\n",
       "    <tr style=\"text-align: right;\">\n",
       "      <th></th>\n",
       "      <th></th>\n",
       "      <th>flug</th>\n",
       "      <th>fldg</th>\n",
       "      <th>fnetg</th>\n",
       "    </tr>\n",
       "    <tr>\n",
       "      <th>pressure</th>\n",
       "      <th>level</th>\n",
       "      <th></th>\n",
       "      <th></th>\n",
       "      <th></th>\n",
       "    </tr>\n",
       "  </thead>\n",
       "  <tbody>\n",
       "    <tr>\n",
       "      <th>0.0000</th>\n",
       "      <th>1</th>\n",
       "      <td>-29.581934</td>\n",
       "      <td>0.000000</td>\n",
       "      <td>-29.581934</td>\n",
       "    </tr>\n",
       "    <tr>\n",
       "      <th>1.0685</th>\n",
       "      <th>24</th>\n",
       "      <td>-29.591321</td>\n",
       "      <td>0.072834</td>\n",
       "      <td>-29.518487</td>\n",
       "    </tr>\n",
       "    <tr>\n",
       "      <th>1013.0000</th>\n",
       "      <th>76</th>\n",
       "      <td>-36.235408</td>\n",
       "      <td>16.757329</td>\n",
       "      <td>-19.478079</td>\n",
       "    </tr>\n",
       "  </tbody>\n",
       "</table>\n",
       "</div>"
      ],
      "text/plain": [
       "                      flug       fldg      fnetg\n",
       "pressure  level                                 \n",
       "0.0000    1     -29.581934   0.000000 -29.581934\n",
       "1.0685    24    -29.591321   0.072834 -29.518487\n",
       "1013.0000 76    -36.235408  16.757329 -19.478079"
      ]
     },
     "metadata": {},
     "output_type": "display_data"
    },
    {
     "name": "stdout",
     "output_type": "stream",
     "text": [
      "Table. Fluxes. CRD\n"
     ]
    },
    {
     "data": {
      "text/html": [
       "<div>\n",
       "<style scoped>\n",
       "    .dataframe tbody tr th:only-of-type {\n",
       "        vertical-align: middle;\n",
       "    }\n",
       "\n",
       "    .dataframe tbody tr th {\n",
       "        vertical-align: top;\n",
       "    }\n",
       "\n",
       "    .dataframe thead th {\n",
       "        text-align: right;\n",
       "    }\n",
       "</style>\n",
       "<table border=\"1\" class=\"dataframe\">\n",
       "  <thead>\n",
       "    <tr style=\"text-align: right;\">\n",
       "      <th></th>\n",
       "      <th></th>\n",
       "      <th>flug</th>\n",
       "      <th>fldg</th>\n",
       "      <th>fnetg</th>\n",
       "    </tr>\n",
       "    <tr>\n",
       "      <th>pressure</th>\n",
       "      <th>level</th>\n",
       "      <th></th>\n",
       "      <th></th>\n",
       "      <th></th>\n",
       "    </tr>\n",
       "  </thead>\n",
       "  <tbody>\n",
       "    <tr>\n",
       "      <th>0.0000</th>\n",
       "      <th>1</th>\n",
       "      <td>-29.609843</td>\n",
       "      <td>0.000000</td>\n",
       "      <td>-29.609843</td>\n",
       "    </tr>\n",
       "    <tr>\n",
       "      <th>1.0685</th>\n",
       "      <th>24</th>\n",
       "      <td>-29.617427</td>\n",
       "      <td>0.067539</td>\n",
       "      <td>-29.549889</td>\n",
       "    </tr>\n",
       "    <tr>\n",
       "      <th>1013.0000</th>\n",
       "      <th>76</th>\n",
       "      <td>-36.235408</td>\n",
       "      <td>16.815622</td>\n",
       "      <td>-19.419786</td>\n",
       "    </tr>\n",
       "  </tbody>\n",
       "</table>\n",
       "</div>"
      ],
      "text/plain": [
       "                      flug       fldg      fnetg\n",
       "pressure  level                                 \n",
       "0.0000    1     -29.609843   0.000000 -29.609843\n",
       "1.0685    24    -29.617427   0.067539 -29.549889\n",
       "1013.0000 76    -36.235408  16.815622 -19.419786"
      ]
     },
     "metadata": {},
     "output_type": "display_data"
    },
    {
     "name": "stdout",
     "output_type": "stream",
     "text": [
      "Table. Fluxes. WGT igg=10 wgt_flux=1\n"
     ]
    },
    {
     "data": {
      "text/html": [
       "<div>\n",
       "<style scoped>\n",
       "    .dataframe tbody tr th:only-of-type {\n",
       "        vertical-align: middle;\n",
       "    }\n",
       "\n",
       "    .dataframe tbody tr th {\n",
       "        vertical-align: top;\n",
       "    }\n",
       "\n",
       "    .dataframe thead th {\n",
       "        text-align: right;\n",
       "    }\n",
       "</style>\n",
       "<table border=\"1\" class=\"dataframe\">\n",
       "  <thead>\n",
       "    <tr style=\"text-align: right;\">\n",
       "      <th></th>\n",
       "      <th></th>\n",
       "      <th>flug</th>\n",
       "      <th>fldg</th>\n",
       "      <th>fnetg</th>\n",
       "    </tr>\n",
       "    <tr>\n",
       "      <th>pressure</th>\n",
       "      <th>level</th>\n",
       "      <th></th>\n",
       "      <th></th>\n",
       "      <th></th>\n",
       "    </tr>\n",
       "  </thead>\n",
       "  <tbody>\n",
       "    <tr>\n",
       "      <th>1.000000e-08</th>\n",
       "      <th>1</th>\n",
       "      <td>-29.70236</td>\n",
       "      <td>0.000002</td>\n",
       "      <td>-29.702358</td>\n",
       "    </tr>\n",
       "    <tr>\n",
       "      <th>1.068500e+00</th>\n",
       "      <th>24</th>\n",
       "      <td>-29.70935</td>\n",
       "      <td>0.064914</td>\n",
       "      <td>-29.644436</td>\n",
       "    </tr>\n",
       "    <tr>\n",
       "      <th>1.013000e+03</th>\n",
       "      <th>76</th>\n",
       "      <td>-36.23541</td>\n",
       "      <td>16.839945</td>\n",
       "      <td>-19.395465</td>\n",
       "    </tr>\n",
       "  </tbody>\n",
       "</table>\n",
       "</div>"
      ],
      "text/plain": [
       "                        flug       fldg      fnetg\n",
       "pressure     level                                \n",
       "1.000000e-08 1     -29.70236   0.000002 -29.702358\n",
       "1.068500e+00 24    -29.70935   0.064914 -29.644436\n",
       "1.013000e+03 76    -36.23541  16.839945 -19.395465"
      ]
     },
     "metadata": {},
     "output_type": "display_data"
    },
    {
     "name": "stdout",
     "output_type": "stream",
     "text": [
      "Table. Fluxes. CLIRAD\n"
     ]
    },
    {
     "data": {
      "text/html": [
       "<div>\n",
       "<style scoped>\n",
       "    .dataframe tbody tr th:only-of-type {\n",
       "        vertical-align: middle;\n",
       "    }\n",
       "\n",
       "    .dataframe tbody tr th {\n",
       "        vertical-align: top;\n",
       "    }\n",
       "\n",
       "    .dataframe thead th {\n",
       "        text-align: right;\n",
       "    }\n",
       "</style>\n",
       "<table border=\"1\" class=\"dataframe\">\n",
       "  <thead>\n",
       "    <tr style=\"text-align: right;\">\n",
       "      <th></th>\n",
       "      <th></th>\n",
       "      <th>flug</th>\n",
       "      <th>fldg</th>\n",
       "      <th>fnetg</th>\n",
       "    </tr>\n",
       "    <tr>\n",
       "      <th>pressure</th>\n",
       "      <th>level</th>\n",
       "      <th></th>\n",
       "      <th></th>\n",
       "      <th></th>\n",
       "    </tr>\n",
       "  </thead>\n",
       "  <tbody>\n",
       "    <tr>\n",
       "      <th>0.0000</th>\n",
       "      <th>1</th>\n",
       "      <td>-2.790911e-02</td>\n",
       "      <td>0.000000</td>\n",
       "      <td>-0.027909</td>\n",
       "    </tr>\n",
       "    <tr>\n",
       "      <th>1.0685</th>\n",
       "      <th>24</th>\n",
       "      <td>-2.610649e-02</td>\n",
       "      <td>-0.005295</td>\n",
       "      <td>-0.031402</td>\n",
       "    </tr>\n",
       "    <tr>\n",
       "      <th>1013.0000</th>\n",
       "      <th>76</th>\n",
       "      <td>-4.190000e-07</td>\n",
       "      <td>0.058293</td>\n",
       "      <td>0.058293</td>\n",
       "    </tr>\n",
       "  </tbody>\n",
       "</table>\n",
       "</div>"
      ],
      "text/plain": [
       "                         flug      fldg     fnetg\n",
       "pressure  level                                  \n",
       "0.0000    1     -2.790911e-02  0.000000 -0.027909\n",
       "1.0685    24    -2.610649e-02 -0.005295 -0.031402\n",
       "1013.0000 76    -4.190000e-07  0.058293  0.058293"
      ]
     },
     "metadata": {},
     "output_type": "display_data"
    },
    {
     "name": "stdout",
     "output_type": "stream",
     "text": [
      "Table. Fluxes. (WGT igg=10 wgt_flux=1) - (CRD)\n"
     ]
    },
    {
     "data": {
      "text/html": [
       "<div>\n",
       "<style scoped>\n",
       "    .dataframe tbody tr th:only-of-type {\n",
       "        vertical-align: middle;\n",
       "    }\n",
       "\n",
       "    .dataframe tbody tr th {\n",
       "        vertical-align: top;\n",
       "    }\n",
       "\n",
       "    .dataframe thead th {\n",
       "        text-align: right;\n",
       "    }\n",
       "</style>\n",
       "<table border=\"1\" class=\"dataframe\">\n",
       "  <thead>\n",
       "    <tr style=\"text-align: right;\">\n",
       "      <th></th>\n",
       "      <th></th>\n",
       "      <th>flug</th>\n",
       "      <th>fldg</th>\n",
       "      <th>fnetg</th>\n",
       "    </tr>\n",
       "    <tr>\n",
       "      <th>pressure</th>\n",
       "      <th>level</th>\n",
       "      <th></th>\n",
       "      <th></th>\n",
       "      <th></th>\n",
       "    </tr>\n",
       "  </thead>\n",
       "  <tbody>\n",
       "    <tr>\n",
       "      <th>0.0000</th>\n",
       "      <th>1</th>\n",
       "      <td>-0.120426</td>\n",
       "      <td>0.000002</td>\n",
       "      <td>-0.120424</td>\n",
       "    </tr>\n",
       "    <tr>\n",
       "      <th>1.0685</th>\n",
       "      <th>24</th>\n",
       "      <td>-0.118029</td>\n",
       "      <td>-0.007919</td>\n",
       "      <td>-0.125949</td>\n",
       "    </tr>\n",
       "    <tr>\n",
       "      <th>1013.0000</th>\n",
       "      <th>76</th>\n",
       "      <td>-0.000002</td>\n",
       "      <td>0.082616</td>\n",
       "      <td>0.082614</td>\n",
       "    </tr>\n",
       "  </tbody>\n",
       "</table>\n",
       "</div>"
      ],
      "text/plain": [
       "                     flug      fldg     fnetg\n",
       "pressure  level                              \n",
       "0.0000    1     -0.120426  0.000002 -0.120424\n",
       "1.0685    24    -0.118029 -0.007919 -0.125949\n",
       "1013.0000 76    -0.000002  0.082616  0.082614"
      ]
     },
     "metadata": {},
     "output_type": "display_data"
    },
    {
     "name": "stdout",
     "output_type": "stream",
     "text": [
      "Table. Fluxes. (CLIRAD) - (CRD)\n"
     ]
    },
    {
     "data": {
      "text/html": [
       "<a id=\"Best-fit_Parameters\"></a>"
      ],
      "text/plain": [
       "<IPython.core.display.HTML object>"
      ]
     },
     "metadata": {},
     "output_type": "display_data"
    },
    {
     "data": {
      "text/markdown": [
       "# Best-fit Parameters"
      ],
      "text/plain": [
       "<IPython.core.display.Markdown object>"
      ]
     },
     "metadata": {},
     "output_type": "display_data"
    },
    {
     "name": "stdout",
     "output_type": "stream",
     "text": [
      "Best-fit values for each (gas, band)\n",
      "------------------------------------\n",
      "o co2 band3a\n",
      "  atmpro = mls\n",
      "  band = 3a\n",
      "  commitnumber = a06b618\n",
      "  conc = 0.0004\n",
      "  dv = 0.001\n",
      "  klin = 6.375563e-24\n",
      "  molecule = co2\n",
      "  ng_adju = [0, 0, 0]\n",
      "  ng_refs = [3, 2, 4]\n",
      "  nv = 1000\n",
      "  option_compute_btable = 0\n",
      "  option_compute_ktable = 1\n",
      "  option_wgt_flux = 1\n",
      "  option_wgt_k = 1\n",
      "  ref_pts = [(1, 250), (10, 250), (500, 250)]\n",
      "  tsfc = 294\n",
      "  vmax = 620\n",
      "  vmin = 540\n",
      "  w_diffuse = [(1.6, 1.6, 1.7), (1.75, 1.75), (1.55, 1.55, 1.6, 1.85)]\n",
      "  wgt = [(0.7, 0.3, 0.7), (0.7, 0.6), (0.4, 0.5, 0.8, 0.95)]\n"
     ]
    }
   ],
   "source": [
    "script()"
   ]
  },
  {
   "cell_type": "code",
   "execution_count": 13,
   "metadata": {
    "collapsed": true
   },
   "outputs": [
    {
     "data": {
      "text/html": [
       "<script>\n",
       "code_show=true; \n",
       "function code_toggle() {\n",
       " if (code_show){\n",
       " $('div.input').hide();\n",
       " } else {\n",
       " $('div.input').show();\n",
       " }\n",
       " code_show = !code_show\n",
       "} \n",
       "$( document ).ready(code_toggle);\n",
       "</script>\n",
       "<form action=\"javascript:code_toggle()\"><input type=\"submit\" value=\"Click here to toggle on/off the raw code.\"></form>"
      ],
      "text/plain": [
       "<IPython.core.display.HTML object>"
      ]
     },
     "execution_count": 13,
     "metadata": {},
     "output_type": "execute_result"
    }
   ],
   "source": [
    "display.HTML('''<script>\n",
    "code_show=true; \n",
    "function code_toggle() {\n",
    " if (code_show){\n",
    " $('div.input').hide();\n",
    " } else {\n",
    " $('div.input').show();\n",
    " }\n",
    " code_show = !code_show\n",
    "} \n",
    "$( document ).ready(code_toggle);\n",
    "</script>\n",
    "<form action=\"javascript:code_toggle()\"><input type=\"submit\" value=\"Click here to toggle on/off the raw code.\"></form>''')"
   ]
  }
 ],
 "metadata": {
  "kernelspec": {
   "display_name": "Python 3",
   "language": "python",
   "name": "python3"
  },
  "language_info": {
   "codemirror_mode": {
    "name": "ipython",
    "version": 3
   },
   "file_extension": ".py",
   "mimetype": "text/x-python",
   "name": "python",
   "nbconvert_exporter": "python",
   "pygments_lexer": "ipython3",
   "version": "3.6.1"
  }
 },
 "nbformat": 4,
 "nbformat_minor": 2
}
