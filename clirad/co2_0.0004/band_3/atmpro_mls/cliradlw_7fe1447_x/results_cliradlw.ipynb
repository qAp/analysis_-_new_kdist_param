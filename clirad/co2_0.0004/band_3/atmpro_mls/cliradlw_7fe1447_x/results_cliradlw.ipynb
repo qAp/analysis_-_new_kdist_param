{
 "cells": [
  {
   "cell_type": "code",
   "execution_count": 1,
   "metadata": {
    "collapsed": true
   },
   "outputs": [],
   "source": [
    "%matplotlib inline\n",
    "import os\n",
    "import re\n",
    "import io\n",
    "import itertools\n",
    "import pprint\n",
    "\n",
    "from bokeh.io import output_notebook, show\n",
    "from bokeh.layouts import gridplot\n",
    "from bokeh.plotting import figure\n",
    "from bokeh.models import Range1d, Legend\n",
    "from bokeh.palettes import all_palettes\n",
    "\n",
    "import matplotlib\n",
    "import matplotlib.pyplot as plt\n",
    "import numpy as np\n",
    "import pandas as pd\n",
    "import xarray as xr\n",
    "\n",
    "import climatools.lblnew.bestfit_params as bestfits\n",
    "from climatools.lblnew import setup_bestfit, setup_overlap\n",
    "import climatools.lblnew.pipeline as pipe_lblnew\n",
    "import climatools.cliradlw.setup as setup_cliradlw\n",
    "import climatools.cliradlw.pipeline as pipe_cliradlw\n",
    "\n",
    "import climatools.html.html as climahtml\n",
    "from climatools.lblnew.dataio import *\n",
    "from climatools.plot.plot import *\n",
    "\n",
    "\n",
    "import IPython.display as display"
   ]
  },
  {
   "cell_type": "code",
   "execution_count": 2,
   "metadata": {
    "collapsed": true
   },
   "outputs": [],
   "source": [
    "%run param.py"
   ]
  },
  {
   "cell_type": "code",
   "execution_count": 3,
   "metadata": {
    "collapsed": true
   },
   "outputs": [],
   "source": [
    "def load_output_file(path_csv):\n",
    "    '''\n",
    "    Load lblnew output .csv file to xarray.Dataset\n",
    "    \n",
    "    Parameters\n",
    "    ----------\n",
    "    path_csv: str\n",
    "              Path to the .csv file to be loaded.\n",
    "    ds: xarray.Dataset\n",
    "        Data in the input file in the form of an xarray.Dataset.\n",
    "    '''\n",
    "    toindex = ['band', 'pressure', 'igg', 'g']    \n",
    "    df = pd.read_csv(path_csv, sep=r'\\s+')\n",
    "    df = df.set_index([i for i in toindex if i in df.columns])\n",
    "    df = df.rename(columns={'sfu': 'flug',\n",
    "                            'sfd': 'fldg',\n",
    "                            'fnet': 'fnetg',\n",
    "                            'coolr': 'coolrg'})\n",
    "    ds = xr.Dataset.from_dataframe(df)\n",
    "\n",
    "    for l in ('level', 'layer'):\n",
    "        if l in ds.data_vars:\n",
    "            if len(ds[l].dims) > 1:\n",
    "                surface = {d: 0 for d in ds.dims if d != 'pressure'}\n",
    "                coord_level = ds[l][surface]\n",
    "                ds.coords[l] = ('pressure', coord_level)\n",
    "            else:\n",
    "                ds.coords[l] = ('pressure', ds[l])\n",
    "    \n",
    "    return ds"
   ]
  },
  {
   "cell_type": "code",
   "execution_count": 4,
   "metadata": {
    "collapsed": true
   },
   "outputs": [],
   "source": [
    "def lblnew_setup(param=None):\n",
    "    if 'ng_refs' in param:\n",
    "        return {'setup': setup_bestfit,\n",
    "                'fname_flux_crd': 'output_flux.dat',\n",
    "                'fname_cool_crd': 'output_coolr.dat',\n",
    "                'fname_flux_wgt': 'output_wfluxg.dat',\n",
    "                'fname_cool_wgt': 'output_wcoolrg.dat'}\n",
    "    else:\n",
    "        return {'setup': setup_overlap,\n",
    "                'fname_flux_crd': 'output_flux.dat',\n",
    "                'fname_cool_crd': 'output_coolr.dat',\n",
    "                'fname_flux_wgt': 'output_wflux.dat',\n",
    "                'fname_cool_wgt': 'output_wcoolr.dat'}\n",
    "\n",
    "    \n",
    "def load_lblnew_data(param):\n",
    "    \n",
    "    fname_dsname = [('fname_flux_crd', 'ds_flux_crd'),\n",
    "                    ('fname_cool_crd', 'ds_cool_crd'),\n",
    "                    ('fname_flux_wgt', 'ds_flux_wgt'),\n",
    "                    ('fname_cool_wgt', 'ds_cool_wgt')]\n",
    "    \n",
    "    d = lblnew_setup(param)\n",
    "    dir_fortran = pipe_lblnew.get_dir_case(param, setup=d['setup'])\n",
    "    \n",
    "    data_dict = {}\n",
    "    for fname, dsname in fname_dsname:\n",
    "        fpath = os.path.join(dir_fortran, d[fname])\n",
    "        data_dict[dsname] = load_output_file(fpath)\n",
    "    return data_dict\n",
    "    \n",
    "\n",
    "    \n",
    "    "
   ]
  },
  {
   "cell_type": "code",
   "execution_count": 5,
   "metadata": {
    "collapsed": true
   },
   "outputs": [],
   "source": [
    "d = load_lblnew_data(PARAM_LBLNEW)\n",
    "\n",
    "DS_FLUX_CRD = d['ds_flux_crd']\n",
    "DS_COOL_CRD = d['ds_cool_crd']\n",
    "DS_FLUX_WGT = d['ds_flux_wgt']\n",
    "DS_COOL_WGT = d['ds_cool_wgt']"
   ]
  },
  {
   "cell_type": "code",
   "execution_count": 6,
   "metadata": {
    "collapsed": true
   },
   "outputs": [],
   "source": [
    "DIR_FORTRAN = pipe_cliradlw.get_fortran_dir(PARAM, \n",
    "                                            setup=setup_cliradlw)\n",
    "\n",
    "PATH_FLUX = os.path.join(DIR_FORTRAN, 'output_flux.dat')\n",
    "PATH_COOL = os.path.join(DIR_FORTRAN, 'output_coolr.dat')\n",
    "\n",
    "DS_FLUX = load_output_file(PATH_FLUX)\n",
    "DS_COOL = load_output_file(PATH_COOL)"
   ]
  },
  {
   "cell_type": "code",
   "execution_count": 7,
   "metadata": {
    "collapsed": true
   },
   "outputs": [
    {
     "data": {
      "text/html": [
       "\n",
       "    <div class=\"bk-root\">\n",
       "        <a href=\"https://bokeh.pydata.org\" target=\"_blank\" class=\"bk-logo bk-logo-small bk-logo-notebook\"></a>\n",
       "        <span id=\"7b6b5ba9-8658-4cbb-9b28-5498621358f5\">Loading BokehJS ...</span>\n",
       "    </div>"
      ]
     },
     "metadata": {},
     "output_type": "display_data"
    },
    {
     "data": {
      "application/javascript": [
       "\n",
       "(function(root) {\n",
       "  function now() {\n",
       "    return new Date();\n",
       "  }\n",
       "\n",
       "  var force = true;\n",
       "\n",
       "  if (typeof (root._bokeh_onload_callbacks) === \"undefined\" || force === true) {\n",
       "    root._bokeh_onload_callbacks = [];\n",
       "    root._bokeh_is_loading = undefined;\n",
       "  }\n",
       "\n",
       "  var JS_MIME_TYPE = 'application/javascript';\n",
       "  var HTML_MIME_TYPE = 'text/html';\n",
       "  var EXEC_MIME_TYPE = 'application/vnd.bokehjs_exec.v0+json';\n",
       "  var CLASS_NAME = 'output_bokeh rendered_html';\n",
       "\n",
       "  /**\n",
       "   * Render data to the DOM node\n",
       "   */\n",
       "  function render(props, node) {\n",
       "    var script = document.createElement(\"script\");\n",
       "    node.appendChild(script);\n",
       "  }\n",
       "\n",
       "  /**\n",
       "   * Handle when an output is cleared or removed\n",
       "   */\n",
       "  function handleClearOutput(event, handle) {\n",
       "    var cell = handle.cell;\n",
       "\n",
       "    var id = cell.output_area._bokeh_element_id;\n",
       "    var server_id = cell.output_area._bokeh_server_id;\n",
       "    // Clean up Bokeh references\n",
       "    if (id !== undefined) {\n",
       "      Bokeh.index[id].model.document.clear();\n",
       "      delete Bokeh.index[id];\n",
       "    }\n",
       "\n",
       "    if (server_id !== undefined) {\n",
       "      // Clean up Bokeh references\n",
       "      var cmd = \"from bokeh.io.state import curstate; print(curstate().uuid_to_server['\" + server_id + \"'].get_sessions()[0].document.roots[0]._id)\";\n",
       "      cell.notebook.kernel.execute(cmd, {\n",
       "        iopub: {\n",
       "          output: function(msg) {\n",
       "            var element_id = msg.content.text.trim();\n",
       "            Bokeh.index[element_id].model.document.clear();\n",
       "            delete Bokeh.index[element_id];\n",
       "          }\n",
       "        }\n",
       "      });\n",
       "      // Destroy server and session\n",
       "      var cmd = \"import bokeh.io.notebook as ion; ion.destroy_server('\" + server_id + \"')\";\n",
       "      cell.notebook.kernel.execute(cmd);\n",
       "    }\n",
       "  }\n",
       "\n",
       "  /**\n",
       "   * Handle when a new output is added\n",
       "   */\n",
       "  function handleAddOutput(event, handle) {\n",
       "    var output_area = handle.output_area;\n",
       "    var output = handle.output;\n",
       "\n",
       "    // limit handleAddOutput to display_data with EXEC_MIME_TYPE content only\n",
       "    if ((output.output_type != \"display_data\") || (!output.data.hasOwnProperty(EXEC_MIME_TYPE))) {\n",
       "      return\n",
       "    }\n",
       "\n",
       "    var toinsert = output_area.element.find(\".\" + CLASS_NAME.split(' ')[0]);\n",
       "\n",
       "    if (output.metadata[EXEC_MIME_TYPE][\"id\"] !== undefined) {\n",
       "      toinsert[0].firstChild.textContent = output.data[JS_MIME_TYPE];\n",
       "      // store reference to embed id on output_area\n",
       "      output_area._bokeh_element_id = output.metadata[EXEC_MIME_TYPE][\"id\"];\n",
       "    }\n",
       "    if (output.metadata[EXEC_MIME_TYPE][\"server_id\"] !== undefined) {\n",
       "      var bk_div = document.createElement(\"div\");\n",
       "      bk_div.innerHTML = output.data[HTML_MIME_TYPE];\n",
       "      var script_attrs = bk_div.children[0].attributes;\n",
       "      for (var i = 0; i < script_attrs.length; i++) {\n",
       "        toinsert[0].firstChild.setAttribute(script_attrs[i].name, script_attrs[i].value);\n",
       "      }\n",
       "      // store reference to server id on output_area\n",
       "      output_area._bokeh_server_id = output.metadata[EXEC_MIME_TYPE][\"server_id\"];\n",
       "    }\n",
       "  }\n",
       "\n",
       "  function register_renderer(events, OutputArea) {\n",
       "\n",
       "    function append_mime(data, metadata, element) {\n",
       "      // create a DOM node to render to\n",
       "      var toinsert = this.create_output_subarea(\n",
       "        metadata,\n",
       "        CLASS_NAME,\n",
       "        EXEC_MIME_TYPE\n",
       "      );\n",
       "      this.keyboard_manager.register_events(toinsert);\n",
       "      // Render to node\n",
       "      var props = {data: data, metadata: metadata[EXEC_MIME_TYPE]};\n",
       "      render(props, toinsert[0]);\n",
       "      element.append(toinsert);\n",
       "      return toinsert\n",
       "    }\n",
       "\n",
       "    /* Handle when an output is cleared or removed */\n",
       "    events.on('clear_output.CodeCell', handleClearOutput);\n",
       "    events.on('delete.Cell', handleClearOutput);\n",
       "\n",
       "    /* Handle when a new output is added */\n",
       "    events.on('output_added.OutputArea', handleAddOutput);\n",
       "\n",
       "    /**\n",
       "     * Register the mime type and append_mime function with output_area\n",
       "     */\n",
       "    OutputArea.prototype.register_mime_type(EXEC_MIME_TYPE, append_mime, {\n",
       "      /* Is output safe? */\n",
       "      safe: true,\n",
       "      /* Index of renderer in `output_area.display_order` */\n",
       "      index: 0\n",
       "    });\n",
       "  }\n",
       "\n",
       "  // register the mime type if in Jupyter Notebook environment and previously unregistered\n",
       "  if (root.Jupyter !== undefined) {\n",
       "    var events = require('base/js/events');\n",
       "    var OutputArea = require('notebook/js/outputarea').OutputArea;\n",
       "\n",
       "    if (OutputArea.prototype.mime_types().indexOf(EXEC_MIME_TYPE) == -1) {\n",
       "      register_renderer(events, OutputArea);\n",
       "    }\n",
       "  }\n",
       "\n",
       "  \n",
       "  if (typeof (root._bokeh_timeout) === \"undefined\" || force === true) {\n",
       "    root._bokeh_timeout = Date.now() + 5000;\n",
       "    root._bokeh_failed_load = false;\n",
       "  }\n",
       "\n",
       "  var NB_LOAD_WARNING = {'data': {'text/html':\n",
       "     \"<div style='background-color: #fdd'>\\n\"+\n",
       "     \"<p>\\n\"+\n",
       "     \"BokehJS does not appear to have successfully loaded. If loading BokehJS from CDN, this \\n\"+\n",
       "     \"may be due to a slow or bad network connection. Possible fixes:\\n\"+\n",
       "     \"</p>\\n\"+\n",
       "     \"<ul>\\n\"+\n",
       "     \"<li>re-rerun `output_notebook()` to attempt to load from CDN again, or</li>\\n\"+\n",
       "     \"<li>use INLINE resources instead, as so:</li>\\n\"+\n",
       "     \"</ul>\\n\"+\n",
       "     \"<code>\\n\"+\n",
       "     \"from bokeh.resources import INLINE\\n\"+\n",
       "     \"output_notebook(resources=INLINE)\\n\"+\n",
       "     \"</code>\\n\"+\n",
       "     \"</div>\"}};\n",
       "\n",
       "  function display_loaded() {\n",
       "    var el = document.getElementById(\"7b6b5ba9-8658-4cbb-9b28-5498621358f5\");\n",
       "    if (el != null) {\n",
       "      el.textContent = \"BokehJS is loading...\";\n",
       "    }\n",
       "    if (root.Bokeh !== undefined) {\n",
       "      if (el != null) {\n",
       "        el.textContent = \"BokehJS \" + root.Bokeh.version + \" successfully loaded.\";\n",
       "      }\n",
       "    } else if (Date.now() < root._bokeh_timeout) {\n",
       "      setTimeout(display_loaded, 100)\n",
       "    }\n",
       "  }\n",
       "\n",
       "\n",
       "  function run_callbacks() {\n",
       "    try {\n",
       "      root._bokeh_onload_callbacks.forEach(function(callback) { callback() });\n",
       "    }\n",
       "    finally {\n",
       "      delete root._bokeh_onload_callbacks\n",
       "    }\n",
       "    console.info(\"Bokeh: all callbacks have finished\");\n",
       "  }\n",
       "\n",
       "  function load_libs(js_urls, callback) {\n",
       "    root._bokeh_onload_callbacks.push(callback);\n",
       "    if (root._bokeh_is_loading > 0) {\n",
       "      console.log(\"Bokeh: BokehJS is being loaded, scheduling callback at\", now());\n",
       "      return null;\n",
       "    }\n",
       "    if (js_urls == null || js_urls.length === 0) {\n",
       "      run_callbacks();\n",
       "      return null;\n",
       "    }\n",
       "    console.log(\"Bokeh: BokehJS not loaded, scheduling load and callback at\", now());\n",
       "    root._bokeh_is_loading = js_urls.length;\n",
       "    for (var i = 0; i < js_urls.length; i++) {\n",
       "      var url = js_urls[i];\n",
       "      var s = document.createElement('script');\n",
       "      s.src = url;\n",
       "      s.async = false;\n",
       "      s.onreadystatechange = s.onload = function() {\n",
       "        root._bokeh_is_loading--;\n",
       "        if (root._bokeh_is_loading === 0) {\n",
       "          console.log(\"Bokeh: all BokehJS libraries loaded\");\n",
       "          run_callbacks()\n",
       "        }\n",
       "      };\n",
       "      s.onerror = function() {\n",
       "        console.warn(\"failed to load library \" + url);\n",
       "      };\n",
       "      console.log(\"Bokeh: injecting script tag for BokehJS library: \", url);\n",
       "      document.getElementsByTagName(\"head\")[0].appendChild(s);\n",
       "    }\n",
       "  };var element = document.getElementById(\"7b6b5ba9-8658-4cbb-9b28-5498621358f5\");\n",
       "  if (element == null) {\n",
       "    console.log(\"Bokeh: ERROR: autoload.js configured with elementid '7b6b5ba9-8658-4cbb-9b28-5498621358f5' but no matching script tag was found. \")\n",
       "    return false;\n",
       "  }\n",
       "\n",
       "  var js_urls = [\"https://cdn.pydata.org/bokeh/release/bokeh-0.12.14.min.js\", \"https://cdn.pydata.org/bokeh/release/bokeh-widgets-0.12.14.min.js\", \"https://cdn.pydata.org/bokeh/release/bokeh-tables-0.12.14.min.js\", \"https://cdn.pydata.org/bokeh/release/bokeh-gl-0.12.14.min.js\"];\n",
       "\n",
       "  var inline_js = [\n",
       "    function(Bokeh) {\n",
       "      Bokeh.set_log_level(\"info\");\n",
       "    },\n",
       "    \n",
       "    function(Bokeh) {\n",
       "      \n",
       "    },\n",
       "    function(Bokeh) {\n",
       "      console.log(\"Bokeh: injecting CSS: https://cdn.pydata.org/bokeh/release/bokeh-0.12.14.min.css\");\n",
       "      Bokeh.embed.inject_css(\"https://cdn.pydata.org/bokeh/release/bokeh-0.12.14.min.css\");\n",
       "      console.log(\"Bokeh: injecting CSS: https://cdn.pydata.org/bokeh/release/bokeh-widgets-0.12.14.min.css\");\n",
       "      Bokeh.embed.inject_css(\"https://cdn.pydata.org/bokeh/release/bokeh-widgets-0.12.14.min.css\");\n",
       "      console.log(\"Bokeh: injecting CSS: https://cdn.pydata.org/bokeh/release/bokeh-tables-0.12.14.min.css\");\n",
       "      Bokeh.embed.inject_css(\"https://cdn.pydata.org/bokeh/release/bokeh-tables-0.12.14.min.css\");\n",
       "    }\n",
       "  ];\n",
       "\n",
       "  function run_inline_js() {\n",
       "    \n",
       "    if ((root.Bokeh !== undefined) || (force === true)) {\n",
       "      for (var i = 0; i < inline_js.length; i++) {\n",
       "        inline_js[i].call(root, root.Bokeh);\n",
       "      }if (force === true) {\n",
       "        display_loaded();\n",
       "      }} else if (Date.now() < root._bokeh_timeout) {\n",
       "      setTimeout(run_inline_js, 100);\n",
       "    } else if (!root._bokeh_failed_load) {\n",
       "      console.log(\"Bokeh: BokehJS failed to load within specified timeout.\");\n",
       "      root._bokeh_failed_load = true;\n",
       "    } else if (force !== true) {\n",
       "      var cell = $(document.getElementById(\"7b6b5ba9-8658-4cbb-9b28-5498621358f5\")).parents('.cell').data().cell;\n",
       "      cell.output_area.append_execute_result(NB_LOAD_WARNING)\n",
       "    }\n",
       "\n",
       "  }\n",
       "\n",
       "  if (root._bokeh_is_loading === 0) {\n",
       "    console.log(\"Bokeh: BokehJS loaded, going straight to plotting\");\n",
       "    run_inline_js();\n",
       "  } else {\n",
       "    load_libs(js_urls, function() {\n",
       "      console.log(\"Bokeh: BokehJS plotting callback run at\", now());\n",
       "      run_inline_js();\n",
       "    });\n",
       "  }\n",
       "}(window));"
      ],
      "application/vnd.bokehjs_load.v0+json": "\n(function(root) {\n  function now() {\n    return new Date();\n  }\n\n  var force = true;\n\n  if (typeof (root._bokeh_onload_callbacks) === \"undefined\" || force === true) {\n    root._bokeh_onload_callbacks = [];\n    root._bokeh_is_loading = undefined;\n  }\n\n  \n\n  \n  if (typeof (root._bokeh_timeout) === \"undefined\" || force === true) {\n    root._bokeh_timeout = Date.now() + 5000;\n    root._bokeh_failed_load = false;\n  }\n\n  var NB_LOAD_WARNING = {'data': {'text/html':\n     \"<div style='background-color: #fdd'>\\n\"+\n     \"<p>\\n\"+\n     \"BokehJS does not appear to have successfully loaded. If loading BokehJS from CDN, this \\n\"+\n     \"may be due to a slow or bad network connection. Possible fixes:\\n\"+\n     \"</p>\\n\"+\n     \"<ul>\\n\"+\n     \"<li>re-rerun `output_notebook()` to attempt to load from CDN again, or</li>\\n\"+\n     \"<li>use INLINE resources instead, as so:</li>\\n\"+\n     \"</ul>\\n\"+\n     \"<code>\\n\"+\n     \"from bokeh.resources import INLINE\\n\"+\n     \"output_notebook(resources=INLINE)\\n\"+\n     \"</code>\\n\"+\n     \"</div>\"}};\n\n  function display_loaded() {\n    var el = document.getElementById(\"7b6b5ba9-8658-4cbb-9b28-5498621358f5\");\n    if (el != null) {\n      el.textContent = \"BokehJS is loading...\";\n    }\n    if (root.Bokeh !== undefined) {\n      if (el != null) {\n        el.textContent = \"BokehJS \" + root.Bokeh.version + \" successfully loaded.\";\n      }\n    } else if (Date.now() < root._bokeh_timeout) {\n      setTimeout(display_loaded, 100)\n    }\n  }\n\n\n  function run_callbacks() {\n    try {\n      root._bokeh_onload_callbacks.forEach(function(callback) { callback() });\n    }\n    finally {\n      delete root._bokeh_onload_callbacks\n    }\n    console.info(\"Bokeh: all callbacks have finished\");\n  }\n\n  function load_libs(js_urls, callback) {\n    root._bokeh_onload_callbacks.push(callback);\n    if (root._bokeh_is_loading > 0) {\n      console.log(\"Bokeh: BokehJS is being loaded, scheduling callback at\", now());\n      return null;\n    }\n    if (js_urls == null || js_urls.length === 0) {\n      run_callbacks();\n      return null;\n    }\n    console.log(\"Bokeh: BokehJS not loaded, scheduling load and callback at\", now());\n    root._bokeh_is_loading = js_urls.length;\n    for (var i = 0; i < js_urls.length; i++) {\n      var url = js_urls[i];\n      var s = document.createElement('script');\n      s.src = url;\n      s.async = false;\n      s.onreadystatechange = s.onload = function() {\n        root._bokeh_is_loading--;\n        if (root._bokeh_is_loading === 0) {\n          console.log(\"Bokeh: all BokehJS libraries loaded\");\n          run_callbacks()\n        }\n      };\n      s.onerror = function() {\n        console.warn(\"failed to load library \" + url);\n      };\n      console.log(\"Bokeh: injecting script tag for BokehJS library: \", url);\n      document.getElementsByTagName(\"head\")[0].appendChild(s);\n    }\n  };var element = document.getElementById(\"7b6b5ba9-8658-4cbb-9b28-5498621358f5\");\n  if (element == null) {\n    console.log(\"Bokeh: ERROR: autoload.js configured with elementid '7b6b5ba9-8658-4cbb-9b28-5498621358f5' but no matching script tag was found. \")\n    return false;\n  }\n\n  var js_urls = [\"https://cdn.pydata.org/bokeh/release/bokeh-0.12.14.min.js\", \"https://cdn.pydata.org/bokeh/release/bokeh-widgets-0.12.14.min.js\", \"https://cdn.pydata.org/bokeh/release/bokeh-tables-0.12.14.min.js\", \"https://cdn.pydata.org/bokeh/release/bokeh-gl-0.12.14.min.js\"];\n\n  var inline_js = [\n    function(Bokeh) {\n      Bokeh.set_log_level(\"info\");\n    },\n    \n    function(Bokeh) {\n      \n    },\n    function(Bokeh) {\n      console.log(\"Bokeh: injecting CSS: https://cdn.pydata.org/bokeh/release/bokeh-0.12.14.min.css\");\n      Bokeh.embed.inject_css(\"https://cdn.pydata.org/bokeh/release/bokeh-0.12.14.min.css\");\n      console.log(\"Bokeh: injecting CSS: https://cdn.pydata.org/bokeh/release/bokeh-widgets-0.12.14.min.css\");\n      Bokeh.embed.inject_css(\"https://cdn.pydata.org/bokeh/release/bokeh-widgets-0.12.14.min.css\");\n      console.log(\"Bokeh: injecting CSS: https://cdn.pydata.org/bokeh/release/bokeh-tables-0.12.14.min.css\");\n      Bokeh.embed.inject_css(\"https://cdn.pydata.org/bokeh/release/bokeh-tables-0.12.14.min.css\");\n    }\n  ];\n\n  function run_inline_js() {\n    \n    if ((root.Bokeh !== undefined) || (force === true)) {\n      for (var i = 0; i < inline_js.length; i++) {\n        inline_js[i].call(root, root.Bokeh);\n      }if (force === true) {\n        display_loaded();\n      }} else if (Date.now() < root._bokeh_timeout) {\n      setTimeout(run_inline_js, 100);\n    } else if (!root._bokeh_failed_load) {\n      console.log(\"Bokeh: BokehJS failed to load within specified timeout.\");\n      root._bokeh_failed_load = true;\n    } else if (force !== true) {\n      var cell = $(document.getElementById(\"7b6b5ba9-8658-4cbb-9b28-5498621358f5\")).parents('.cell').data().cell;\n      cell.output_area.append_execute_result(NB_LOAD_WARNING)\n    }\n\n  }\n\n  if (root._bokeh_is_loading === 0) {\n    console.log(\"Bokeh: BokehJS loaded, going straight to plotting\");\n    run_inline_js();\n  } else {\n    load_libs(js_urls, function() {\n      console.log(\"Bokeh: BokehJS plotting callback run at\", now());\n      run_inline_js();\n    });\n  }\n}(window));"
     },
     "metadata": {},
     "output_type": "display_data"
    }
   ],
   "source": [
    "output_notebook()"
   ]
  },
  {
   "cell_type": "code",
   "execution_count": 8,
   "metadata": {
    "collapsed": true
   },
   "outputs": [],
   "source": [
    "def fmt_cool(ds_in):\n",
    "    ds = ds_in.copy(deep=True)\n",
    "    if 'igg' in ds.dims:\n",
    "        ds = ds.sel(igg=1)\n",
    "\n",
    "    if 'g' in ds.dims:\n",
    "        ds = ds.sum('g')\n",
    "            \n",
    "    if 'band' in ds.dims:\n",
    "        try:\n",
    "            ds = ds.squeeze('band')\n",
    "        except ValueError:\n",
    "            ds = ds.sum('band')\n",
    "                \n",
    "    return ds['coolrg']\n",
    "\n",
    "\n",
    "def pltdata_cooling_1(ds_cool=None,\n",
    "                      ds_cool_crd=None, ds_cool_wgt=None):\n",
    "    \n",
    "\n",
    "\n",
    "    colors = all_palettes['Set1'][4]\n",
    "    data = [{'label': 'CLIRAD `coolr_bands`',\n",
    "             'srs': fmt_cool(ds_cool),\n",
    "             'line_dash': 'dashed', 'line_width': 5,\n",
    "             'color': colors[0], 'alpha': .6},\n",
    "            {'label': 'CRD',\n",
    "             'srs': fmt_cool(ds_cool_crd),\n",
    "             'line_dash': 'solid', 'line_width': 1.5,\n",
    "             'marker': 'circle', 'marker_size': 5,\n",
    "             'color': colors[2], 'alpha': 1,},\n",
    "            {'label': 'WGT igg=10 wgt_flux=2',\n",
    "             'srs': fmt_cool(ds_cool_wgt),\n",
    "             'line_dash': 'solid', 'line_width': 3,\n",
    "             'marker': 'square', 'marker_size': 5,\n",
    "             'color': colors[3], 'alpha': .6}]\n",
    "    return data\n",
    "\n",
    "\n",
    "def nice_xlims(pltdata=None, prange=None):\n",
    "    \n",
    "    def get_slice(srs):\n",
    "        return srs.sel(pressure=slice(*prange))\n",
    "    \n",
    "    srss = [d['srs'] for d in pltdata]\n",
    "    vmin = min([get_slice(srs).min() for srs in srss])\n",
    "    vmax = max([get_slice(srs).max() for srs in srss])\n",
    "    dv = (vmax - vmin) * .01\n",
    "    return float(vmin - dv), float(vmax + dv)\n",
    "    \n",
    "\n",
    "def plt_cooling_bokeh(pltdata=None):\n",
    "    '''\n",
    "    Plot a list of cooling rate profiles using bokeh.\n",
    "    '''\n",
    "    ymin = 1e-2 \n",
    "    ymax = 1020 \n",
    "        \n",
    "    p1 = figure(title=\"Linear pressure scale\", \n",
    "                plot_width=400)        \n",
    "    xmin, xmax = nice_xlims(pltdata, prange=(50, 1050))\n",
    "    for d in pltdata:\n",
    "        if 'marker' in d:\n",
    "            getattr(p1, d['marker'])(d['srs'].values, \n",
    "                    d['srs'].coords['pressure'].values,\n",
    "                    color=d['color'], alpha=.7)\n",
    "        p1.line(d['srs'].values, \n",
    "                d['srs'].coords['pressure'].values,\n",
    "                color=d['color'], alpha=d['alpha'], \n",
    "                line_width=d['line_width'], line_dash=d['line_dash'])\n",
    "    \n",
    "    p1.y_range = Range1d(ymax, ymin)\n",
    "    p1.yaxis.axis_label = 'pressure [mb]'   \n",
    "    p1.x_range = Range1d(xmin, xmax)\n",
    "    p1.xaxis.axis_label = 'cooling rate [K/day]'\n",
    "            \n",
    "    p2 = figure(title='Log pressure scale', y_axis_type='log',\n",
    "                plot_width=560)\n",
    "    xmin, xmax = nice_xlims(pltdata, prange=(.01, 200))\n",
    "    \n",
    "    rs = []\n",
    "    for d in pltdata:\n",
    "        rd = []\n",
    "        if 'marker' in d:\n",
    "            r_mark = getattr(p2, d['marker'])(d['srs'].values, \n",
    "                        d['srs'].coords['pressure'].values,\n",
    "                        color=d['color'], alpha=.7)\n",
    "            rd.append(r_mark)\n",
    "        r_line = p2.line(d['srs'].values, \n",
    "                    d['srs'].coords['pressure'].values,\n",
    "                    color=d['color'], alpha=d['alpha'], \n",
    "                    line_width=d['line_width'], line_dash=d['line_dash'])\n",
    "        rd.append(r_line)\n",
    "      \n",
    "        rs.append(rd)\n",
    "        \n",
    "    p2.y_range = Range1d(ymax, ymin)  \n",
    "    p2.yaxis.axis_label = 'pressure [mb]'\n",
    "    \n",
    "    p2.x_range = Range1d(xmin, xmax)\n",
    "    p2.xaxis.axis_label = 'cooling rate [K/day]'\n",
    "    \n",
    "    items = [(d['label'], r) for r, d in zip(rs, pltdata)]\n",
    "    legend = Legend(items=items, location=(10, -30))\n",
    "    legend.label_text_font_size = '8pt'\n",
    "    \n",
    "    p2.add_layout(legend, 'right')  \n",
    "    \n",
    "    show(gridplot(p1, p2, ncols=2, plot_height=500))\n",
    "    \n",
    "\n",
    "def script_plt_cooling():\n",
    "    pltdata = pltdata_cooling_1(\n",
    "        ds_cool=DS_COOL,\n",
    "        ds_cool_crd=DS_COOL_CRD,\n",
    "        ds_cool_wgt=DS_COOL_WGT)\n",
    "    plt_cooling_bokeh(pltdata=pltdata)\n",
    "    print('''FIGURE. Cooling rate profiles.''')"
   ]
  },
  {
   "cell_type": "code",
   "execution_count": 9,
   "metadata": {
    "collapsed": true
   },
   "outputs": [],
   "source": [
    "def fmt_flux(ds_in):\n",
    "    ds = ds_in.copy(deep=True)\n",
    "    \n",
    "    for l in ('level', 'layer'):\n",
    "        if l in ds.data_vars:\n",
    "            if len(ds[l].dims) > 1:\n",
    "                surface = {d: 0 for d in ds.dims if d != 'pressure'}\n",
    "                coord_level = ds[l][surface]\n",
    "                ds.coords[l] = ('pressure', coord_level)\n",
    "            else:\n",
    "                ds.coords[l] = ('pressure', ds[l])\n",
    "        \n",
    "    ds = ds.isel(pressure=[0, 23, -1])\n",
    "        \n",
    "    if 'igg' in ds.dims:\n",
    "        ds = ds.sel(igg=[1])\n",
    "        ds = ds.squeeze('igg').drop('igg')\n",
    "    \n",
    "    if 'g' in ds.dims:\n",
    "        ds = ds.sum('g')\n",
    "            \n",
    "    if 'band' in ds.dims:\n",
    "        try:\n",
    "            ds = ds.squeeze('band').drop('band')\n",
    "        except ValueError:\n",
    "            ds = ds.sum('band')\n",
    "                \n",
    "    df = ds.to_dataframe()\n",
    "    df = df.set_index('level', append=True)               \n",
    "    return df\n",
    "\n",
    "\n",
    "def tbdata_flux(ds_flux=None, ds_flux_crd=None, ds_flux_wgt=None):\n",
    "    ilevels = [0, 23, -1]\n",
    "            \n",
    "    benchmark = {'label': 'WGT igg=10 wgt_flux=1',\n",
    "                 'df': fmt_flux(ds_flux_wgt)}\n",
    "    \n",
    "    tbs = [{'label': 'CRD',\n",
    "            'df': fmt_flux(ds_flux_crd)},\n",
    "           {'label': 'CLIRAD',\n",
    "            'df': fmt_flux(ds_flux)}]\n",
    "    \n",
    "    data = {'benchmark': benchmark, 'others': tbs}\n",
    "    return data\n",
    "\n",
    "\n",
    "def tb_flux(tbdata=None):\n",
    "    benchmark = tbdata['benchmark']\n",
    "    others = tbdata['others']\n",
    "    \n",
    "    def show_tb(d=None):\n",
    "        display.display(d['df'])\n",
    "        print('Table.', 'Fluxes.', d['label'])\n",
    "        \n",
    "    def show_tbdiff(d0=None, d=None):\n",
    "        df = d['df']\n",
    "        df.index = d0['df'].index\n",
    "        display.display(df - d0['df'])\n",
    "        print('Table.', 'Fluxes.', \n",
    "              '({}) - ({})'.format(d['label'], d0['label']))\n",
    "        \n",
    "    show_tb(benchmark)\n",
    "    for d in others:\n",
    "        show_tb(d)\n",
    "        \n",
    "    for d in others:\n",
    "        show_tbdiff(d=d, d0=benchmark)\n",
    "        \n",
    "        \n",
    "def script_tb_flux():\n",
    "    data = tbdata_flux(ds_flux=DS_FLUX,\n",
    "                       ds_flux_crd=DS_FLUX_CRD,\n",
    "                       ds_flux_wgt=DS_FLUX_WGT)\n",
    "    tb_flux(tbdata=data)"
   ]
  },
  {
   "cell_type": "code",
   "execution_count": 10,
   "metadata": {
    "collapsed": true
   },
   "outputs": [],
   "source": [
    "def band_map():\n",
    "    '''\n",
    "    Maps spectral bands in lblnew to spectral bands in clirad.\n",
    "    '''\n",
    "    lblnew2clirad = {'1': '1',\n",
    "            '2': '2',\n",
    "            '3a': '3',\n",
    "            '3b': '4',\n",
    "            '3c': '5',\n",
    "            '4': '6', \n",
    "            '5': '7',\n",
    "            '6': '8',\n",
    "            '7': '9', \n",
    "            '8': '10',\n",
    "            '9': '11'}\n",
    "    \n",
    "    clirad2lblnew = {clirad: lblnew \n",
    "                     for lblnew, clirad in lblnew2clirad.items()}\n",
    "    return clirad2lblnew\n",
    "\n",
    "\n",
    "def gasbands():\n",
    "    bmap = band_map()\n",
    "    gases = list(PARAM['molecule'].keys())\n",
    "    \n",
    "    bands = [bmap[str(b)] for b in PARAM['band']]\n",
    "    return list(itertools.product(gases, bands))\n",
    "\n",
    "\n",
    "def print_bestfit_params():\n",
    "    print('Best-fit values for each (gas, band)')\n",
    "    print('------------------------------------')\n",
    "    for gas, band in gasbands():\n",
    "        print('o {} band{}'.format(gas, band))\n",
    "        param = bestfits.kdist_params(molecule=gas, band=band)\n",
    "        for name, value in sorted(param.items()):\n",
    "            print(2 * ' ' + '{} = {}'.format(name, value))\n",
    "\n",
    "        \n",
    "def print_input_param():        \n",
    "    for name, value in PARAM.items():\n",
    "        print('{} = {}'.format(name, value))\n",
    "        \n",
    "        \n",
    "def print_lblnew_param():\n",
    "    for name, value in sorted(PARAM_LBLNEW.items()):\n",
    "        print('{} = {}'.format(name, value))\n"
   ]
  },
  {
   "cell_type": "code",
   "execution_count": 11,
   "metadata": {
    "collapsed": true,
    "scrolled": false
   },
   "outputs": [],
   "source": [
    "def show_html(s):\n",
    "    display.display(display.HTML(s))\n",
    "\n",
    "    \n",
    "def show_markdown(s):\n",
    "    display.display(display.Markdown(s))\n",
    "\n",
    "    \n",
    "def script():\n",
    "    \n",
    "    title = '### CLIRAD-LW'\n",
    "    s_input = 'Input Parameters'\n",
    "    s_lblnew_param = 'LBLNEW case compaired against'\n",
    "    s_bestfits = 'Best-fit Parameters'\n",
    "    s_plt_cooling = 'Cooling Rate Profiles'\n",
    "    s_tb_flux = 'Flux Comparison'\n",
    "    \n",
    "    # title\n",
    "    show_markdown('### CLIRAD-LW')\n",
    "    \n",
    "    # TOC\n",
    "    show_markdown('### Table of Contents')\n",
    "    show_html(climahtml.getHTML_hrefanchor(s_input))\n",
    "    show_html(climahtml.getHTML_hrefanchor(s_lblnew_param))\n",
    "    show_html(climahtml.getHTML_hrefanchor(s_plt_cooling))\n",
    "    show_html(climahtml.getHTML_hrefanchor(s_tb_flux))\n",
    "    show_html(climahtml.getHTML_hrefanchor(s_bestfits))\n",
    "    \n",
    "    # Input parameters\n",
    "    show_html(climahtml.getHTML_idanchor(s_input))\n",
    "    show_markdown(climahtml.getMarkdown_sectitle(s_input))\n",
    "    print_input_param()\n",
    "    \n",
    "    # LBLNEW parameters \n",
    "    show_html(climahtml.getHTML_idanchor(s_lblnew_param))\n",
    "    show_markdown(climahtml.getMarkdown_sectitle(s_lblnew_param))\n",
    "    print_lblnew_param()\n",
    "    \n",
    "    # Cooling rate profiles\n",
    "    show_html(climahtml.getHTML_idanchor(s_plt_cooling))\n",
    "    show_markdown(climahtml.getMarkdown_sectitle(s_plt_cooling))\n",
    "    script_plt_cooling()\n",
    "    \n",
    "    # Flux comparison\n",
    "    show_html(climahtml.getHTML_idanchor(s_tb_flux))\n",
    "    show_markdown(climahtml.getMarkdown_sectitle(s_tb_flux))\n",
    "    script_tb_flux()\n",
    "    \n",
    "    # Best-fit values\n",
    "    show_html(climahtml.getHTML_idanchor(s_bestfits))\n",
    "    show_markdown(climahtml.getMarkdown_sectitle(s_bestfits))\n",
    "    print_bestfit_params()\n",
    "   \n",
    "    "
   ]
  },
  {
   "cell_type": "code",
   "execution_count": 12,
   "metadata": {
    "collapsed": true,
    "scrolled": false
   },
   "outputs": [
    {
     "data": {
      "text/markdown": [
       "### CLIRAD-LW"
      ],
      "text/plain": [
       "<IPython.core.display.Markdown object>"
      ]
     },
     "metadata": {},
     "output_type": "display_data"
    },
    {
     "data": {
      "text/markdown": [
       "### Table of Contents"
      ],
      "text/plain": [
       "<IPython.core.display.Markdown object>"
      ]
     },
     "metadata": {},
     "output_type": "display_data"
    },
    {
     "data": {
      "text/html": [
       "<a href=\"#Input_Parameters\">Input Parameters</a>"
      ],
      "text/plain": [
       "<IPython.core.display.HTML object>"
      ]
     },
     "metadata": {},
     "output_type": "display_data"
    },
    {
     "data": {
      "text/html": [
       "<a href=\"#LBLNEW_case_compaired_against\">LBLNEW case compaired against</a>"
      ],
      "text/plain": [
       "<IPython.core.display.HTML object>"
      ]
     },
     "metadata": {},
     "output_type": "display_data"
    },
    {
     "data": {
      "text/html": [
       "<a href=\"#Cooling_Rate_Profiles\">Cooling Rate Profiles</a>"
      ],
      "text/plain": [
       "<IPython.core.display.HTML object>"
      ]
     },
     "metadata": {},
     "output_type": "display_data"
    },
    {
     "data": {
      "text/html": [
       "<a href=\"#Flux_Comparison\">Flux Comparison</a>"
      ],
      "text/plain": [
       "<IPython.core.display.HTML object>"
      ]
     },
     "metadata": {},
     "output_type": "display_data"
    },
    {
     "data": {
      "text/html": [
       "<a href=\"#Best-fit_Parameters\">Best-fit Parameters</a>"
      ],
      "text/plain": [
       "<IPython.core.display.HTML object>"
      ]
     },
     "metadata": {},
     "output_type": "display_data"
    },
    {
     "data": {
      "text/html": [
       "<a id=\"Input_Parameters\"></a>"
      ],
      "text/plain": [
       "<IPython.core.display.HTML object>"
      ]
     },
     "metadata": {},
     "output_type": "display_data"
    },
    {
     "data": {
      "text/markdown": [
       "# Input Parameters"
      ],
      "text/plain": [
       "<IPython.core.display.Markdown object>"
      ]
     },
     "metadata": {},
     "output_type": "display_data"
    },
    {
     "name": "stdout",
     "output_type": "stream",
     "text": [
      "atmpro = mls\n",
      "band = [3]\n",
      "commitnumber = 7fe1447_x\n",
      "molecule = {'co2': 0.0004}\n",
      "tsfc = 294\n"
     ]
    },
    {
     "data": {
      "text/html": [
       "<a id=\"LBLNEW_case_compaired_against\"></a>"
      ],
      "text/plain": [
       "<IPython.core.display.HTML object>"
      ]
     },
     "metadata": {},
     "output_type": "display_data"
    },
    {
     "data": {
      "text/markdown": [
       "# LBLNEW case compaired against"
      ],
      "text/plain": [
       "<IPython.core.display.Markdown object>"
      ]
     },
     "metadata": {},
     "output_type": "display_data"
    },
    {
     "name": "stdout",
     "output_type": "stream",
     "text": [
      "atmpro = mls\n",
      "band = 3a\n",
      "commitnumber = a06b618\n",
      "conc = 0.0004\n",
      "dv = 0.001\n",
      "klin = 6.375563e-24\n",
      "molecule = co2\n",
      "ng_adju = [0, 0, 0]\n",
      "ng_refs = [3, 2, 4]\n",
      "nv = 1000\n",
      "option_compute_btable = 0\n",
      "option_compute_ktable = 0\n",
      "option_wgt_flux = 1\n",
      "option_wgt_k = 1\n",
      "ref_pts = [(1, 250), (10, 250), (500, 250)]\n",
      "tsfc = 294\n",
      "vmax = 620\n",
      "vmin = 540\n",
      "w_diffuse = [(1.6, 1.6, 1.7), (1.75, 1.75), (1.55, 1.55, 1.6, 1.85)]\n",
      "wgt = [(0.7, 0.3, 0.7), (0.7, 0.6), (0.4, 0.5, 0.8, 0.95)]\n"
     ]
    },
    {
     "data": {
      "text/html": [
       "<a id=\"Cooling_Rate_Profiles\"></a>"
      ],
      "text/plain": [
       "<IPython.core.display.HTML object>"
      ]
     },
     "metadata": {},
     "output_type": "display_data"
    },
    {
     "data": {
      "text/markdown": [
       "# Cooling Rate Profiles"
      ],
      "text/plain": [
       "<IPython.core.display.Markdown object>"
      ]
     },
     "metadata": {},
     "output_type": "display_data"
    },
    {
     "data": {
      "text/html": [
       "\n",
       "<div class=\"bk-root\">\n",
       "    <div class=\"bk-plotdiv\" id=\"aa8c99fa-e560-4d21-83df-a45d95cc1683\"></div>\n",
       "</div>"
      ]
     },
     "metadata": {},
     "output_type": "display_data"
    },
    {
     "data": {
      "application/javascript": [
       "(function(root) {\n",
       "  function embed_document(root) {\n",
       "    \n",
       "  var docs_json = {\"03851673-78db-4064-9f0d-5e63436b1a9c\":{\"roots\":{\"references\":[{\"attributes\":{\"data_source\":{\"id\":\"c805bbfc-bac1-4e6a-8944-3c46d3ce377a\",\"type\":\"ColumnDataSource\"},\"glyph\":{\"id\":\"b2a95b73-7ce3-4150-83d8-7e23dd01a4e8\",\"type\":\"Line\"},\"hover_glyph\":null,\"muted_glyph\":null,\"nonselection_glyph\":{\"id\":\"0886645f-6ad4-4043-9a30-da61651fd251\",\"type\":\"Line\"},\"selection_glyph\":null,\"view\":{\"id\":\"ed535b5a-0028-4dc0-947d-9422f1211421\",\"type\":\"CDSView\"}},\"id\":\"d902f1be-8127-496c-809e-66932cf368d3\",\"type\":\"GlyphRenderer\"},{\"attributes\":{},\"id\":\"35e6b463-7ecd-4c8a-a502-096e5d8060d4\",\"type\":\"BasicTickFormatter\"},{\"attributes\":{\"source\":{\"id\":\"0a7e10b0-dc17-4d4b-a7f9-3d07f9ccfcb2\",\"type\":\"ColumnDataSource\"}},\"id\":\"f87b99b6-310d-4424-a5a5-4da0414bb89e\",\"type\":\"CDSView\"},{\"attributes\":{\"line_alpha\":0.6,\"line_color\":\"#e41a1c\",\"line_dash\":[6],\"line_width\":5,\"x\":{\"field\":\"x\"},\"y\":{\"field\":\"y\"}},\"id\":\"b2a95b73-7ce3-4150-83d8-7e23dd01a4e8\",\"type\":\"Line\"},{\"attributes\":{},\"id\":\"209b4626-d570-46fc-a1be-56cbbe0822b0\",\"type\":\"SaveTool\"},{\"attributes\":{},\"id\":\"2d7062e5-2c3a-4e5b-90a9-b38f9ba16690\",\"type\":\"SaveTool\"},{\"attributes\":{},\"id\":\"1778f821-6e20-4b59-b877-91623124da3f\",\"type\":\"BasicTicker\"},{\"attributes\":{\"line_alpha\":0.1,\"line_color\":\"#1f77b4\",\"line_width\":1.5,\"x\":{\"field\":\"x\"},\"y\":{\"field\":\"y\"}},\"id\":\"840310f7-95e6-4c7d-83ca-ab1731b7c50b\",\"type\":\"Line\"},{\"attributes\":{\"fill_alpha\":{\"value\":0.1},\"fill_color\":{\"value\":\"#1f77b4\"},\"line_alpha\":{\"value\":0.1},\"line_color\":{\"value\":\"#1f77b4\"},\"x\":{\"field\":\"x\"},\"y\":{\"field\":\"y\"}},\"id\":\"92e8763b-a2dd-474f-9cd9-4ac6a6e370b1\",\"type\":\"Circle\"},{\"attributes\":{},\"id\":\"876aef35-86a0-4dd3-82c8-5d5bfe340ade\",\"type\":\"HelpTool\"},{\"attributes\":{\"callback\":null,\"column_names\":[\"x\",\"y\"],\"data\":{\"x\":{\"__ndarray__\":\"+M2DMUGx1T+w60Jjs8PVPzjqTNDff9Y/qV7tJSM11z/WzCPni9PXP6jSnf2OUNg/1cw2ih6j2D+CWHanTbzYP/F7HoeliNg/WoACyUDw1z9AffkQH9XWP9h8UeM9INU/NSRWgq2i0j9ReGlREnPOPzBzuzF1Nsk/+Qp6LLW0yz+DkvcQMXLRP0KpwPsPqdM/VKZ7L8S21D8iyfEKdxnWPwjJ2yMbytk/WDYKQNDv4D8M+CWwc9LlPxKfva9Yd+U/JHFPimj54D+f6Vl9UKXaP4eMbeVglNU/fTdgYXTe0T96VG+WJM/NP6U9WV8MS8g/FylnfwOUwj/e9WRsC0a6P2LQdpmN/7I/ko4BJlDnrj/vhF3MVZupP1qGPWzY4aM/4RDygq21nz9XY5t48vmZPxNzi0PbdY0/0zuU6EHZYT8HZzp+LvlnPwIVfCodyZA/3v/ZZNnsnD+CYut5ozWjPxkZLDleL6c/UmMDy7uiqj//E98yL76tP0E2KoXdT7A/HyG8Lw2usT/8Tj5PIvuyP2KRL47mM7Q/CVPyQPBQtT+3JkTRDEa2Pw5eB+l9Ibc/y9xAKIfntz+Tgark75+4P6JA7BQ7Trk/PuCrVKTxuT/twvbazY26P1lg6HNVIrs/IiF6teqwuz996w6FF0K8P1cccMcrzbw/janGnE9ovT8QOpnJaBK+P4qdwY1bzb4/J5zVHHCMvz8MhMYTww/AP6xfGrU7KsA/31s7K8UWwD9Dc4r1FuO/PxJQIw5+tb8//Ih9upTQvz92qUI2RzfAPyMbO8RPUME/\",\"dtype\":\"float64\",\"shape\":[75]},\"y\":{\"__ndarray__\":\"GhExyth1ND/Sv8nbtpRIP2vylNV0PVE/aTum7souWD/At0SJ8fVgPw3Iuahxymc/MSNhhJWvcD/bTfBN02d3P2zb5nxnaoA/CD5h5MAGhz8NmeH1TyaQP+zrCsc9p5Y/LbKd76fGnz/bLW5ISEmmPww9YvTcQq8/JV2OstnstT8Er5Y7M8G+P0c+r3jqkcU/5h99k6ZBzj88bCIzFzjVP4enV8oyxN0//yH99nXg5D8qOpLLf0jtP5kqGJXUifQ/c9cS8kHP/D+/DpwzojQEQIEmwoanVwxA4lgXt9HgE0BSSZ2AJuIbQAMJih9jjiNA5q4l5INuK0AwTKYKRj0zQNv5fmq8/DpAaCJseHrtQkB/+zpwzoxKQM3MzMzMeFJAZmZmZmZqWEAAAAAAAFxeQM3MzMzMJmJAmpmZmZkfZUBmZmZmZhhoQDMzMzMzEWtAAAAAAAAKbkBmZmZmZoFwQM3MzMzM/XFAMzMzMzN6c0CamZmZmfZ0QAAAAAAAc3ZAZmZmZmbvd0DNzMzMzGt5QDMzMzMz6HpAmpmZmZlkfEAAAAAAAOF9QGZmZmZmXX9AZmZmZuZsgECamZmZGSuBQM3MzMxM6YFAAAAAAICngkAzMzMzs2WDQGZmZmbmI4RAmpmZmRnihEDNzMzMTKCFQAAAAACAXoZAMzMzM7Mch0BmZmZm5tqHQJqZmZkZmYhAzczMzExXiUAAAAAAgBWKQDMzMzOz04pAZmZmZuaRi0CamZmZGVCMQM3MzMxMDo1AAAAAAIDMjUAzMzMzs4qOQGZmZmbmSI9A\",\"dtype\":\"float64\",\"shape\":[75]}}},\"id\":\"0f3bf839-b8dd-42a8-8a14-10c94d0d93da\",\"type\":\"ColumnDataSource\"},{\"attributes\":{\"overlay\":{\"id\":\"2b1cda71-c6d9-4f01-a1ef-0a80dae4400c\",\"type\":\"BoxAnnotation\"}},\"id\":\"c5dd55b9-49e2-40fd-a9bf-706d5bced78d\",\"type\":\"BoxZoomTool\"},{\"attributes\":{\"plot\":{\"id\":\"93842aac-8a81-4467-b942-4e7c04674c99\",\"subtype\":\"Figure\",\"type\":\"Plot\"},\"ticker\":{\"id\":\"1778f821-6e20-4b59-b877-91623124da3f\",\"type\":\"BasicTicker\"}},\"id\":\"8be5bd5e-7601-4512-845a-fa9139087b6e\",\"type\":\"Grid\"},{\"attributes\":{},\"id\":\"5b8f4df9-8316-44c4-8dfa-877adf031acf\",\"type\":\"ResetTool\"},{\"attributes\":{\"line_alpha\":0.1,\"line_color\":\"#1f77b4\",\"line_dash\":[6],\"line_width\":5,\"x\":{\"field\":\"x\"},\"y\":{\"field\":\"y\"}},\"id\":\"0886645f-6ad4-4043-9a30-da61651fd251\",\"type\":\"Line\"},{\"attributes\":{\"fill_alpha\":{\"value\":0.7},\"fill_color\":{\"value\":\"#984ea3\"},\"line_alpha\":{\"value\":0.7},\"line_color\":{\"value\":\"#984ea3\"},\"x\":{\"field\":\"x\"},\"y\":{\"field\":\"y\"}},\"id\":\"485fe757-24be-4276-82f8-31ab5c0c4abe\",\"type\":\"Square\"},{\"attributes\":{},\"id\":\"d81e4fb3-2112-4559-9fd7-e5c0fde352a7\",\"type\":\"WheelZoomTool\"},{\"attributes\":{},\"id\":\"13812db7-76e5-4173-9fe0-c831c3e901a1\",\"type\":\"LinearScale\"},{\"attributes\":{\"active_drag\":\"auto\",\"active_inspect\":\"auto\",\"active_scroll\":\"auto\",\"active_tap\":\"auto\",\"tools\":[{\"id\":\"692d29c6-c90e-440e-b20d-dc3cf4545ca5\",\"type\":\"PanTool\"},{\"id\":\"61ac6ff7-571b-4759-8cb0-6bb5584aa9b6\",\"type\":\"WheelZoomTool\"},{\"id\":\"5455883a-f293-4a71-9234-a8b08cf352ff\",\"type\":\"BoxZoomTool\"},{\"id\":\"2d7062e5-2c3a-4e5b-90a9-b38f9ba16690\",\"type\":\"SaveTool\"},{\"id\":\"18b3975a-0a0c-4243-8321-2d711382035b\",\"type\":\"ResetTool\"},{\"id\":\"375e8f40-6e6d-4202-b74e-c34b44212717\",\"type\":\"HelpTool\"}]},\"id\":\"f1e63737-b478-4c39-bc97-3c6e5b5ec862\",\"type\":\"Toolbar\"},{\"attributes\":{\"source\":{\"id\":\"d27e325b-0dac-4f3a-a786-1704a7918cc2\",\"type\":\"ColumnDataSource\"}},\"id\":\"d06adb07-bac8-41ee-8752-e1b6300b2ca4\",\"type\":\"CDSView\"},{\"attributes\":{\"callback\":null,\"column_names\":[\"x\",\"y\"],\"data\":{\"x\":{\"__ndarray__\":\"/E2sfGTt2D/g5+iG4NfYP9nL+O+ojtk/07Brvdc32j+xPhaJpr/aP3qyk6i0Eds/gWzlZxsm2z+x5vhP1OXaP366iXM3PNo/kg2cGgUU2T9NWE2daFPXPx3s6uEN4dQ/OPVg1rSg0T/Mypto/OfKP5gfTS8QiMQ/3ZTyWgndxj8s1UfYnvbOP5GgthUUqdI/emwuq2491T+VBmW3IjPYP+CiUYkEttw/sKXLi+Fk4j8xMtg/FRjnP0ghfx/EJOY/SRQ5yBQh4T9PjxJg/YTaP/fWl9fX29Q/ByrC0X550D+Fs/igqU/KP5SQ3T/1E8U/dkKeEzFbwD/uC9tbORe4P8qro0XeO7I/3lAFlx+crT+f+BOQVLGmPxYHu1SxoJ4/1TDPjHbDlT+rFo+NazyRPw6huI5y6oA/DDNLOn4zV7+h2vzbyr46P6eaub0tI4w/SXHNnn1Fmj/pyLDbfjGiP3qQ2M0Qt6Y/bn+o4GLYqj8msTSIwKWuPx8xIbZZFLE/TBWC2Hazsj9x9Fnn3S20P9PixgzYfrU/fsxx6Nmetj901twOY4u3PxLNSCxFTLg/y6P6UmjuuD+9hEK4jXy5P8lUZu8x/bk/iymBYp50uj8SolszIua6Pz4c6phvVLs/qRnvGjbCuz9zVpeVHjS8Pw8j53HWr7w/k3y69A47vT823bq0RNu9PzmpedhVkr4/CpwRSgRPvz9t1LeKzeC/PxeKbM5eCcA/sSUWvt/kvz8hqAEgepS/Pz/Ytf/5ZL8/hix/fBGGvz9L1U2UShnAP2W04fJQQsE/\",\"dtype\":\"float64\",\"shape\":[75]},\"y\":{\"__ndarray__\":\"GhExyth1ND/Sv8nbtpRIP2vylNV0PVE/aTum7souWD/At0SJ8fVgPw3Iuahxymc/MSNhhJWvcD/bTfBN02d3P2zb5nxnaoA/CD5h5MAGhz8NmeH1TyaQP+zrCsc9p5Y/LbKd76fGnz/bLW5ISEmmPww9YvTcQq8/JV2OstnstT8Er5Y7M8G+P0c+r3jqkcU/5h99k6ZBzj88bCIzFzjVP4enV8oyxN0//yH99nXg5D8qOpLLf0jtP5kqGJXUifQ/c9cS8kHP/D+/DpwzojQEQIEmwoanVwxA4lgXt9HgE0BSSZ2AJuIbQAMJih9jjiNA5q4l5INuK0AwTKYKRj0zQNv5fmq8/DpAaCJseHrtQkB/+zpwzoxKQM3MzMzMeFJAZmZmZmZqWEAAAAAAAFxeQM3MzMzMJmJAmpmZmZkfZUBmZmZmZhhoQDMzMzMzEWtAAAAAAAAKbkBmZmZmZoFwQM3MzMzM/XFAMzMzMzN6c0CamZmZmfZ0QAAAAAAAc3ZAZmZmZmbvd0DNzMzMzGt5QDMzMzMz6HpAmpmZmZlkfEAAAAAAAOF9QGZmZmZmXX9AZmZmZuZsgECamZmZGSuBQM3MzMxM6YFAAAAAAICngkAzMzMzs2WDQGZmZmbmI4RAmpmZmRnihEDNzMzMTKCFQAAAAACAXoZAMzMzM7Mch0BmZmZm5tqHQJqZmZkZmYhAzczMzExXiUAAAAAAgBWKQDMzMzOz04pAZmZmZuaRi0CamZmZGVCMQM3MzMxMDo1AAAAAAIDMjUAzMzMzs4qOQGZmZmbmSI9A\",\"dtype\":\"float64\",\"shape\":[75]}}},\"id\":\"f64da94b-0bd2-4cd2-96ba-ba7aa5aac58f\",\"type\":\"ColumnDataSource\"},{\"attributes\":{\"label\":{\"value\":\"WGT igg=10 wgt_flux=2\"},\"renderers\":[{\"id\":\"b13899d7-f6bd-4fbd-a365-c027e7bb0269\",\"type\":\"GlyphRenderer\"},{\"id\":\"487aa77b-a4da-4a30-8a7a-845b77f41339\",\"type\":\"GlyphRenderer\"}]},\"id\":\"d6f6429d-8d02-4332-867a-8db4b72c5ebd\",\"type\":\"LegendItem\"},{\"attributes\":{\"source\":{\"id\":\"0557b39d-3d6c-4247-bfe7-870ac85fa645\",\"type\":\"ColumnDataSource\"}},\"id\":\"94755f35-d340-48ea-8ebe-f415c139930c\",\"type\":\"CDSView\"},{\"attributes\":{\"callback\":null,\"column_names\":[\"x\",\"y\"],\"data\":{\"x\":{\"__ndarray__\":\"+M2DMUGx1T+w60Jjs8PVPzjqTNDff9Y/qV7tJSM11z/WzCPni9PXP6jSnf2OUNg/1cw2ih6j2D+CWHanTbzYP/F7HoeliNg/WoACyUDw1z9AffkQH9XWP9h8UeM9INU/NSRWgq2i0j9ReGlREnPOPzBzuzF1Nsk/+Qp6LLW0yz+DkvcQMXLRP0KpwPsPqdM/VKZ7L8S21D8iyfEKdxnWPwjJ2yMbytk/WDYKQNDv4D8M+CWwc9LlPxKfva9Yd+U/JHFPimj54D+f6Vl9UKXaP4eMbeVglNU/fTdgYXTe0T96VG+WJM/NP6U9WV8MS8g/FylnfwOUwj/e9WRsC0a6P2LQdpmN/7I/ko4BJlDnrj/vhF3MVZupP1qGPWzY4aM/4RDygq21nz9XY5t48vmZPxNzi0PbdY0/0zuU6EHZYT8HZzp+LvlnPwIVfCodyZA/3v/ZZNnsnD+CYut5ozWjPxkZLDleL6c/UmMDy7uiqj//E98yL76tP0E2KoXdT7A/HyG8Lw2usT/8Tj5PIvuyP2KRL47mM7Q/CVPyQPBQtT+3JkTRDEa2Pw5eB+l9Ibc/y9xAKIfntz+Tgark75+4P6JA7BQ7Trk/PuCrVKTxuT/twvbazY26P1lg6HNVIrs/IiF6teqwuz996w6FF0K8P1cccMcrzbw/janGnE9ovT8QOpnJaBK+P4qdwY1bzb4/J5zVHHCMvz8MhMYTww/AP6xfGrU7KsA/31s7K8UWwD9Dc4r1FuO/PxJQIw5+tb8//Ih9upTQvz92qUI2RzfAPyMbO8RPUME/\",\"dtype\":\"float64\",\"shape\":[75]},\"y\":{\"__ndarray__\":\"GhExyth1ND/Sv8nbtpRIP2vylNV0PVE/aTum7souWD/At0SJ8fVgPw3Iuahxymc/MSNhhJWvcD/bTfBN02d3P2zb5nxnaoA/CD5h5MAGhz8NmeH1TyaQP+zrCsc9p5Y/LbKd76fGnz/bLW5ISEmmPww9YvTcQq8/JV2OstnstT8Er5Y7M8G+P0c+r3jqkcU/5h99k6ZBzj88bCIzFzjVP4enV8oyxN0//yH99nXg5D8qOpLLf0jtP5kqGJXUifQ/c9cS8kHP/D+/DpwzojQEQIEmwoanVwxA4lgXt9HgE0BSSZ2AJuIbQAMJih9jjiNA5q4l5INuK0AwTKYKRj0zQNv5fmq8/DpAaCJseHrtQkB/+zpwzoxKQM3MzMzMeFJAZmZmZmZqWEAAAAAAAFxeQM3MzMzMJmJAmpmZmZkfZUBmZmZmZhhoQDMzMzMzEWtAAAAAAAAKbkBmZmZmZoFwQM3MzMzM/XFAMzMzMzN6c0CamZmZmfZ0QAAAAAAAc3ZAZmZmZmbvd0DNzMzMzGt5QDMzMzMz6HpAmpmZmZlkfEAAAAAAAOF9QGZmZmZmXX9AZmZmZuZsgECamZmZGSuBQM3MzMxM6YFAAAAAAICngkAzMzMzs2WDQGZmZmbmI4RAmpmZmRnihEDNzMzMTKCFQAAAAACAXoZAMzMzM7Mch0BmZmZm5tqHQJqZmZkZmYhAzczMzExXiUAAAAAAgBWKQDMzMzOz04pAZmZmZuaRi0CamZmZGVCMQM3MzMxMDo1AAAAAAIDMjUAzMzMzs4qOQGZmZmbmSI9A\",\"dtype\":\"float64\",\"shape\":[75]}}},\"id\":\"6d767bf2-126b-45ac-87c6-72c7b47db46d\",\"type\":\"ColumnDataSource\"},{\"attributes\":{\"fill_alpha\":{\"value\":0.1},\"fill_color\":{\"value\":\"#1f77b4\"},\"line_alpha\":{\"value\":0.1},\"line_color\":{\"value\":\"#1f77b4\"},\"x\":{\"field\":\"x\"},\"y\":{\"field\":\"y\"}},\"id\":\"85c01352-061c-4e31-a707-9d3a6dfeaef3\",\"type\":\"Square\"},{\"attributes\":{},\"id\":\"8bdb14dd-84cd-41ee-8388-9927c408bee8\",\"type\":\"LogScale\"},{\"attributes\":{\"callback\":null,\"column_names\":[\"x\",\"y\"],\"data\":{\"x\":{\"__ndarray__\":\"CZzXnnogzz/h0lL1Ap7PP7dO0ORqfdA/fvdUb4kz0T/fDruM7uLRP6eOG59FhtI/pMSu7e0W0z/V8fM6PYrTP4XJ+Qc209M/bSM7wqvd0z8+xbtt8I/TP5sTg9lnwtI/l2eQSPxG0T+TnDz6mdnNP2WTNjTpX8o/AkyV//uZzT80WILWDWXSP/kKue+kR9Q/nQun9Uxp1D+X22IjtbXUP1egq+eD6dc/548GQ18y4D/UpC0RHFXlPyeWpecnJuU/zTBBT/vU4D+Tt/Fh1WTaP78KdBaLmdU/ZbfgVosZ0j87h9eaUoPOP2tWpi3onMg/egXc0u6Awj/qhSHDQXq5P0UfEg8/t7E/rt3CL/9lrD+fp4ACj3KoP2z801ehkqM/Ti7uiAjUnj/NZuXJ+1mYP86delN6bok/aHJQVTtzND8rIS48n6tPP2XHzxG8y4w/bDzTqf1mmj+6BFmvH+uhP3iGL2dE1qU/exxPyQ4xqT+E47XvqjesP9MHDD4/H68/RQHBbYT9sD94Q++U22SyP3ndBNp7w7M/Rrz2fgMQtT8nSYu+eEK2PwPZNLTWV7c/mefzF5tSuD8AzaG+xUC5PwXAmRT2H7o/nRSkIfzuuj+3d9NOSa27P05+i06WWrw/Y/00KHn5vD+qpIjrnI+9P0SVzHcRIr4//B0n2MG5vj+zK+sGI1m/P20tQJlOBMA/6dfWT/9ZwD8IdbJQQpvAP4q+zMF9rsA/KJbfkrGUwD+pz/7VHWrAPyGjTR/LTMA/dTvavJpRwD87195EgJXAP6M/NPPkmsE/\",\"dtype\":\"float64\",\"shape\":[75]},\"y\":{\"__ndarray__\":\"S/O/Q+51ND/Sv8nbtpRIP2vylNV0PVE/aTum7souWD/At0SJ8fVgPw3Iuahxymc/MSNhhJWvcD/bTfBN02d3P2zb5nxnaoA/CD5h5MAGhz8NmeH1TyaQP+zrCsc9p5Y/LbKd76fGnz/bLW5ISEmmPww9YvTcQq8/JV2OstnstT8Er5Y7M8G+P0c+r3jqkcU/5h99k6ZBzj88bCIzFzjVP4enV8oyxN0//yH99nXg5D8qOpLLf0jtP5kqGJXUifQ/c9cS8kHP/D+/DpwzojQEQIEmwoanVwxA4lgXt9HgE0BSSZ2AJuIbQAMJih9jjiNA5q4l5INuK0AwTKYKRj0zQNv5fmq8/DpAaCJseHrtQkB/+zpwzoxKQM3MzMzMeFJAZmZmZmZqWEAAAAAAAFxeQM3MzMzMJmJAmpmZmZkfZUBmZmZmZhhoQDMzMzMzEWtAAAAAAAAKbkBmZmZmZoFwQM3MzMzM/XFAMzMzMzN6c0CamZmZmfZ0QAAAAAAAc3ZAZmZmZmbvd0DNzMzMzGt5QDMzMzMz6HpAmpmZmZlkfEAAAAAAAOF9QGZmZmZmXX9AZmZmZuZsgECamZmZGSuBQM3MzMxM6YFAAAAAAICngkAzMzMzs2WDQGZmZmbmI4RAmpmZmRnihEDNzMzMTKCFQAAAAACAXoZAMzMzM7Mch0BmZmZm5tqHQJqZmZkZmYhAzczMzExXiUAAAAAAgBWKQDMzMzOz04pAZmZmZuaRi0CamZmZGVCMQM3MzMxMDo1AAAAAAIDMjUAzMzMzs4qOQGZmZmbmSI9A\",\"dtype\":\"float64\",\"shape\":[75]}}},\"id\":\"c805bbfc-bac1-4e6a-8944-3c46d3ce377a\",\"type\":\"ColumnDataSource\"},{\"attributes\":{\"callback\":null,\"column_names\":[\"x\",\"y\"],\"data\":{\"x\":{\"__ndarray__\":\"/E2sfGTt2D/g5+iG4NfYP9nL+O+ojtk/07Brvdc32j+xPhaJpr/aP3qyk6i0Eds/gWzlZxsm2z+x5vhP1OXaP366iXM3PNo/kg2cGgUU2T9NWE2daFPXPx3s6uEN4dQ/OPVg1rSg0T/Mypto/OfKP5gfTS8QiMQ/3ZTyWgndxj8s1UfYnvbOP5GgthUUqdI/emwuq2491T+VBmW3IjPYP+CiUYkEttw/sKXLi+Fk4j8xMtg/FRjnP0ghfx/EJOY/SRQ5yBQh4T9PjxJg/YTaP/fWl9fX29Q/ByrC0X550D+Fs/igqU/KP5SQ3T/1E8U/dkKeEzFbwD/uC9tbORe4P8qro0XeO7I/3lAFlx+crT+f+BOQVLGmPxYHu1SxoJ4/1TDPjHbDlT+rFo+NazyRPw6huI5y6oA/DDNLOn4zV7+h2vzbyr46P6eaub0tI4w/SXHNnn1Fmj/pyLDbfjGiP3qQ2M0Qt6Y/bn+o4GLYqj8msTSIwKWuPx8xIbZZFLE/TBWC2Hazsj9x9Fnn3S20P9PixgzYfrU/fsxx6Nmetj901twOY4u3PxLNSCxFTLg/y6P6UmjuuD+9hEK4jXy5P8lUZu8x/bk/iymBYp50uj8SolszIua6Pz4c6phvVLs/qRnvGjbCuz9zVpeVHjS8Pw8j53HWr7w/k3y69A47vT823bq0RNu9PzmpedhVkr4/CpwRSgRPvz9t1LeKzeC/PxeKbM5eCcA/sSUWvt/kvz8hqAEgepS/Pz/Ytf/5ZL8/hix/fBGGvz9L1U2UShnAP2W04fJQQsE/\",\"dtype\":\"float64\",\"shape\":[75]},\"y\":{\"__ndarray__\":\"GhExyth1ND/Sv8nbtpRIP2vylNV0PVE/aTum7souWD/At0SJ8fVgPw3Iuahxymc/MSNhhJWvcD/bTfBN02d3P2zb5nxnaoA/CD5h5MAGhz8NmeH1TyaQP+zrCsc9p5Y/LbKd76fGnz/bLW5ISEmmPww9YvTcQq8/JV2OstnstT8Er5Y7M8G+P0c+r3jqkcU/5h99k6ZBzj88bCIzFzjVP4enV8oyxN0//yH99nXg5D8qOpLLf0jtP5kqGJXUifQ/c9cS8kHP/D+/DpwzojQEQIEmwoanVwxA4lgXt9HgE0BSSZ2AJuIbQAMJih9jjiNA5q4l5INuK0AwTKYKRj0zQNv5fmq8/DpAaCJseHrtQkB/+zpwzoxKQM3MzMzMeFJAZmZmZmZqWEAAAAAAAFxeQM3MzMzMJmJAmpmZmZkfZUBmZmZmZhhoQDMzMzMzEWtAAAAAAAAKbkBmZmZmZoFwQM3MzMzM/XFAMzMzMzN6c0CamZmZmfZ0QAAAAAAAc3ZAZmZmZmbvd0DNzMzMzGt5QDMzMzMz6HpAmpmZmZlkfEAAAAAAAOF9QGZmZmZmXX9AZmZmZuZsgECamZmZGSuBQM3MzMxM6YFAAAAAAICngkAzMzMzs2WDQGZmZmbmI4RAmpmZmRnihEDNzMzMTKCFQAAAAACAXoZAMzMzM7Mch0BmZmZm5tqHQJqZmZkZmYhAzczMzExXiUAAAAAAgBWKQDMzMzOz04pAZmZmZuaRi0CamZmZGVCMQM3MzMxMDo1AAAAAAIDMjUAzMzMzs4qOQGZmZmbmSI9A\",\"dtype\":\"float64\",\"shape\":[75]}}},\"id\":\"62066e2c-f69d-4e74-ae07-4fa1ed96dc29\",\"type\":\"ColumnDataSource\"},{\"attributes\":{\"fill_alpha\":{\"value\":0.7},\"fill_color\":{\"value\":\"#4daf4a\"},\"line_alpha\":{\"value\":0.7},\"line_color\":{\"value\":\"#4daf4a\"},\"x\":{\"field\":\"x\"},\"y\":{\"field\":\"y\"}},\"id\":\"878f4aaf-60e8-46d0-9e13-19c6dd14114f\",\"type\":\"Circle\"},{\"attributes\":{\"line_alpha\":0.1,\"line_color\":\"#1f77b4\",\"line_dash\":[6],\"line_width\":5,\"x\":{\"field\":\"x\"},\"y\":{\"field\":\"y\"}},\"id\":\"fd6163b1-451c-4e5d-b9a1-6460f501d4b4\",\"type\":\"Line\"},{\"attributes\":{\"fill_alpha\":{\"value\":0.7},\"fill_color\":{\"value\":\"#4daf4a\"},\"line_alpha\":{\"value\":0.7},\"line_color\":{\"value\":\"#4daf4a\"},\"x\":{\"field\":\"x\"},\"y\":{\"field\":\"y\"}},\"id\":\"ed2a790a-2bec-48d0-9e79-c2a95c1c3a37\",\"type\":\"Circle\"},{\"attributes\":{\"callback\":null,\"end\":0.138929055855,\"start\":-0.002805641355},\"id\":\"5215178b-96e8-4856-87b9-5289bb738c24\",\"type\":\"Range1d\"},{\"attributes\":{\"source\":{\"id\":\"f64da94b-0bd2-4cd2-96ba-ba7aa5aac58f\",\"type\":\"ColumnDataSource\"}},\"id\":\"7902b948-9d15-4fb3-9769-3aa3966d619a\",\"type\":\"CDSView\"},{\"attributes\":{},\"id\":\"692d29c6-c90e-440e-b20d-dc3cf4545ca5\",\"type\":\"PanTool\"},{\"attributes\":{\"data_source\":{\"id\":\"567b6317-3e6e-4ca5-929f-8bc6ce54b887\",\"type\":\"ColumnDataSource\"},\"glyph\":{\"id\":\"132ef142-c296-49c6-a1c0-dcbf7f0473de\",\"type\":\"Line\"},\"hover_glyph\":null,\"muted_glyph\":null,\"nonselection_glyph\":{\"id\":\"68f416ff-b9f6-4159-ae0d-653a338883bf\",\"type\":\"Line\"},\"selection_glyph\":null,\"view\":{\"id\":\"4d81887f-6ab8-4460-a155-a60d7e343e73\",\"type\":\"CDSView\"}},\"id\":\"44a85e12-a102-4cb3-9042-d5db1917da0d\",\"type\":\"GlyphRenderer\"},{\"attributes\":{\"ticker\":null},\"id\":\"9e6d03c4-8f2c-461a-b7ee-bafb3ee43873\",\"type\":\"LogTickFormatter\"},{\"attributes\":{\"callback\":null,\"end\":0.01,\"start\":1020},\"id\":\"ffe77caa-e479-4f6d-af9f-c11152e15fe9\",\"type\":\"Range1d\"},{\"attributes\":{\"plot\":null,\"text\":\"Log pressure scale\"},\"id\":\"209d2587-38ac-446c-8c1e-272af94451a3\",\"type\":\"Title\"},{\"attributes\":{\"line_alpha\":0.1,\"line_color\":\"#1f77b4\",\"line_width\":3,\"x\":{\"field\":\"x\"},\"y\":{\"field\":\"y\"}},\"id\":\"68f416ff-b9f6-4159-ae0d-653a338883bf\",\"type\":\"Line\"},{\"attributes\":{\"callback\":null,\"column_names\":[\"x\",\"y\"],\"data\":{\"x\":{\"__ndarray__\":\"/E2sfGTt2D/g5+iG4NfYP9nL+O+ojtk/07Brvdc32j+xPhaJpr/aP3qyk6i0Eds/gWzlZxsm2z+x5vhP1OXaP366iXM3PNo/kg2cGgUU2T9NWE2daFPXPx3s6uEN4dQ/OPVg1rSg0T/Mypto/OfKP5gfTS8QiMQ/3ZTyWgndxj8s1UfYnvbOP5GgthUUqdI/emwuq2491T+VBmW3IjPYP+CiUYkEttw/sKXLi+Fk4j8xMtg/FRjnP0ghfx/EJOY/SRQ5yBQh4T9PjxJg/YTaP/fWl9fX29Q/ByrC0X550D+Fs/igqU/KP5SQ3T/1E8U/dkKeEzFbwD/uC9tbORe4P8qro0XeO7I/3lAFlx+crT+f+BOQVLGmPxYHu1SxoJ4/1TDPjHbDlT+rFo+NazyRPw6huI5y6oA/DDNLOn4zV7+h2vzbyr46P6eaub0tI4w/SXHNnn1Fmj/pyLDbfjGiP3qQ2M0Qt6Y/bn+o4GLYqj8msTSIwKWuPx8xIbZZFLE/TBWC2Hazsj9x9Fnn3S20P9PixgzYfrU/fsxx6Nmetj901twOY4u3PxLNSCxFTLg/y6P6UmjuuD+9hEK4jXy5P8lUZu8x/bk/iymBYp50uj8SolszIua6Pz4c6phvVLs/qRnvGjbCuz9zVpeVHjS8Pw8j53HWr7w/k3y69A47vT823bq0RNu9PzmpedhVkr4/CpwRSgRPvz9t1LeKzeC/PxeKbM5eCcA/sSUWvt/kvz8hqAEgepS/Pz/Ytf/5ZL8/hix/fBGGvz9L1U2UShnAP2W04fJQQsE/\",\"dtype\":\"float64\",\"shape\":[75]},\"y\":{\"__ndarray__\":\"GhExyth1ND/Sv8nbtpRIP2vylNV0PVE/aTum7souWD/At0SJ8fVgPw3Iuahxymc/MSNhhJWvcD/bTfBN02d3P2zb5nxnaoA/CD5h5MAGhz8NmeH1TyaQP+zrCsc9p5Y/LbKd76fGnz/bLW5ISEmmPww9YvTcQq8/JV2OstnstT8Er5Y7M8G+P0c+r3jqkcU/5h99k6ZBzj88bCIzFzjVP4enV8oyxN0//yH99nXg5D8qOpLLf0jtP5kqGJXUifQ/c9cS8kHP/D+/DpwzojQEQIEmwoanVwxA4lgXt9HgE0BSSZ2AJuIbQAMJih9jjiNA5q4l5INuK0AwTKYKRj0zQNv5fmq8/DpAaCJseHrtQkB/+zpwzoxKQM3MzMzMeFJAZmZmZmZqWEAAAAAAAFxeQM3MzMzMJmJAmpmZmZkfZUBmZmZmZhhoQDMzMzMzEWtAAAAAAAAKbkBmZmZmZoFwQM3MzMzM/XFAMzMzMzN6c0CamZmZmfZ0QAAAAAAAc3ZAZmZmZmbvd0DNzMzMzGt5QDMzMzMz6HpAmpmZmZlkfEAAAAAAAOF9QGZmZmZmXX9AZmZmZuZsgECamZmZGSuBQM3MzMxM6YFAAAAAAICngkAzMzMzs2WDQGZmZmbmI4RAmpmZmRnihEDNzMzMTKCFQAAAAACAXoZAMzMzM7Mch0BmZmZm5tqHQJqZmZkZmYhAzczMzExXiUAAAAAAgBWKQDMzMzOz04pAZmZmZuaRi0CamZmZGVCMQM3MzMxMDo1AAAAAAIDMjUAzMzMzs4qOQGZmZmbmSI9A\",\"dtype\":\"float64\",\"shape\":[75]}}},\"id\":\"0de0e17c-fba0-4e34-86ef-5caa48ad52de\",\"type\":\"ColumnDataSource\"},{\"attributes\":{\"axis_label\":\"cooling rate [K/day]\",\"formatter\":{\"id\":\"f73fa75f-2ea9-4b44-86bb-88212a93def1\",\"type\":\"BasicTickFormatter\"},\"plot\":{\"id\":\"93842aac-8a81-4467-b942-4e7c04674c99\",\"subtype\":\"Figure\",\"type\":\"Plot\"},\"ticker\":{\"id\":\"1778f821-6e20-4b59-b877-91623124da3f\",\"type\":\"BasicTicker\"}},\"id\":\"64667628-4dae-4dd0-8b0f-19522bda38f0\",\"type\":\"LinearAxis\"},{\"attributes\":{},\"id\":\"f73fa75f-2ea9-4b44-86bb-88212a93def1\",\"type\":\"BasicTickFormatter\"},{\"attributes\":{\"overlay\":{\"id\":\"477fcf6f-b5d1-46b9-9a4a-6c3b53c51e01\",\"type\":\"BoxAnnotation\"}},\"id\":\"5455883a-f293-4a71-9234-a8b08cf352ff\",\"type\":\"BoxZoomTool\"},{\"attributes\":{\"data_source\":{\"id\":\"62066e2c-f69d-4e74-ae07-4fa1ed96dc29\",\"type\":\"ColumnDataSource\"},\"glyph\":{\"id\":\"ed2a790a-2bec-48d0-9e79-c2a95c1c3a37\",\"type\":\"Circle\"},\"hover_glyph\":null,\"muted_glyph\":null,\"nonselection_glyph\":{\"id\":\"92e8763b-a2dd-474f-9cd9-4ac6a6e370b1\",\"type\":\"Circle\"},\"selection_glyph\":null,\"view\":{\"id\":\"b50f66ed-8643-4743-92c4-95267a016a18\",\"type\":\"CDSView\"}},\"id\":\"f470aa91-7fdc-4b47-8fea-8a286eb39198\",\"type\":\"GlyphRenderer\"},{\"attributes\":{\"source\":{\"id\":\"62066e2c-f69d-4e74-ae07-4fa1ed96dc29\",\"type\":\"ColumnDataSource\"}},\"id\":\"b50f66ed-8643-4743-92c4-95267a016a18\",\"type\":\"CDSView\"},{\"attributes\":{\"dimension\":1,\"plot\":{\"id\":\"93842aac-8a81-4467-b942-4e7c04674c99\",\"subtype\":\"Figure\",\"type\":\"Plot\"},\"ticker\":{\"id\":\"12d6747b-cbc1-414e-b775-ae98d7e47204\",\"type\":\"LogTicker\"}},\"id\":\"ed3faab8-1061-48e4-b11b-6e76f65c35f5\",\"type\":\"Grid\"},{\"attributes\":{\"line_color\":\"#4daf4a\",\"line_width\":1.5,\"x\":{\"field\":\"x\"},\"y\":{\"field\":\"y\"}},\"id\":\"33e76a1b-a322-4b0d-9459-490741f7d5fb\",\"type\":\"Line\"},{\"attributes\":{\"axis_label\":\"pressure [mb]\",\"formatter\":{\"id\":\"9e6d03c4-8f2c-461a-b7ee-bafb3ee43873\",\"type\":\"LogTickFormatter\"},\"plot\":{\"id\":\"93842aac-8a81-4467-b942-4e7c04674c99\",\"subtype\":\"Figure\",\"type\":\"Plot\"},\"ticker\":{\"id\":\"12d6747b-cbc1-414e-b775-ae98d7e47204\",\"type\":\"LogTicker\"}},\"id\":\"5f217cf8-31c4-4936-9bc4-dbb8ef13b6c0\",\"type\":\"LogAxis\"},{\"attributes\":{\"line_alpha\":0.1,\"line_color\":\"#1f77b4\",\"line_width\":1.5,\"x\":{\"field\":\"x\"},\"y\":{\"field\":\"y\"}},\"id\":\"7128c59a-b36c-411e-b5f5-c26d0cd74418\",\"type\":\"Line\"},{\"attributes\":{},\"id\":\"1bad2bea-b37c-4276-9078-68306132b649\",\"type\":\"LinearScale\"},{\"attributes\":{\"callback\":null,\"end\":0.728920879055,\"start\":-0.008647144555},\"id\":\"884cc784-e237-49ec-9847-345ce26382a1\",\"type\":\"Range1d\"},{\"attributes\":{\"data_source\":{\"id\":\"0de0e17c-fba0-4e34-86ef-5caa48ad52de\",\"type\":\"ColumnDataSource\"},\"glyph\":{\"id\":\"33e76a1b-a322-4b0d-9459-490741f7d5fb\",\"type\":\"Line\"},\"hover_glyph\":null,\"muted_glyph\":null,\"nonselection_glyph\":{\"id\":\"7128c59a-b36c-411e-b5f5-c26d0cd74418\",\"type\":\"Line\"},\"selection_glyph\":null,\"view\":{\"id\":\"7086ce51-4e9f-404a-9514-7fb16a9bb928\",\"type\":\"CDSView\"}},\"id\":\"257dd0a5-080a-4680-b218-4feab8040605\",\"type\":\"GlyphRenderer\"},{\"attributes\":{\"below\":[{\"id\":\"64667628-4dae-4dd0-8b0f-19522bda38f0\",\"type\":\"LinearAxis\"}],\"left\":[{\"id\":\"5f217cf8-31c4-4936-9bc4-dbb8ef13b6c0\",\"type\":\"LogAxis\"}],\"plot_height\":500,\"plot_width\":560,\"renderers\":[{\"id\":\"64667628-4dae-4dd0-8b0f-19522bda38f0\",\"type\":\"LinearAxis\"},{\"id\":\"8be5bd5e-7601-4512-845a-fa9139087b6e\",\"type\":\"Grid\"},{\"id\":\"5f217cf8-31c4-4936-9bc4-dbb8ef13b6c0\",\"type\":\"LogAxis\"},{\"id\":\"ed3faab8-1061-48e4-b11b-6e76f65c35f5\",\"type\":\"Grid\"},{\"id\":\"477fcf6f-b5d1-46b9-9a4a-6c3b53c51e01\",\"type\":\"BoxAnnotation\"},{\"id\":\"8d8517ab-5ac7-4c95-bfd1-5420a5a29943\",\"type\":\"GlyphRenderer\"},{\"id\":\"f470aa91-7fdc-4b47-8fea-8a286eb39198\",\"type\":\"GlyphRenderer\"},{\"id\":\"257dd0a5-080a-4680-b218-4feab8040605\",\"type\":\"GlyphRenderer\"},{\"id\":\"b13899d7-f6bd-4fbd-a365-c027e7bb0269\",\"type\":\"GlyphRenderer\"},{\"id\":\"487aa77b-a4da-4a30-8a7a-845b77f41339\",\"type\":\"GlyphRenderer\"},{\"id\":\"6d8fa956-64b5-473f-8d1d-bc1eeadcbdb2\",\"type\":\"Legend\"}],\"right\":[{\"id\":\"6d8fa956-64b5-473f-8d1d-bc1eeadcbdb2\",\"type\":\"Legend\"}],\"title\":{\"id\":\"209d2587-38ac-446c-8c1e-272af94451a3\",\"type\":\"Title\"},\"toolbar\":{\"id\":\"f1e63737-b478-4c39-bc97-3c6e5b5ec862\",\"type\":\"Toolbar\"},\"toolbar_location\":null,\"x_range\":{\"id\":\"884cc784-e237-49ec-9847-345ce26382a1\",\"type\":\"Range1d\"},\"x_scale\":{\"id\":\"13812db7-76e5-4173-9fe0-c831c3e901a1\",\"type\":\"LinearScale\"},\"y_range\":{\"id\":\"45c23df3-cec6-48c1-b2b3-8a5f19d57a34\",\"type\":\"Range1d\"},\"y_scale\":{\"id\":\"8bdb14dd-84cd-41ee-8388-9927c408bee8\",\"type\":\"LogScale\"}},\"id\":\"93842aac-8a81-4467-b942-4e7c04674c99\",\"subtype\":\"Figure\",\"type\":\"Plot\"},{\"attributes\":{},\"id\":\"62bbd904-43eb-4558-b48f-209f7fa061d3\",\"type\":\"LinearScale\"},{\"attributes\":{\"source\":{\"id\":\"c805bbfc-bac1-4e6a-8944-3c46d3ce377a\",\"type\":\"ColumnDataSource\"}},\"id\":\"ed535b5a-0028-4dc0-947d-9422f1211421\",\"type\":\"CDSView\"},{\"attributes\":{\"source\":{\"id\":\"0de0e17c-fba0-4e34-86ef-5caa48ad52de\",\"type\":\"ColumnDataSource\"}},\"id\":\"7086ce51-4e9f-404a-9514-7fb16a9bb928\",\"type\":\"CDSView\"},{\"attributes\":{\"plot\":{\"id\":\"b6f7b277-7d74-417d-af7b-e9ee9a8c6057\",\"subtype\":\"Figure\",\"type\":\"Plot\"},\"ticker\":{\"id\":\"6dc1d53b-2e97-45e5-85b1-4c65d577a66e\",\"type\":\"BasicTicker\"}},\"id\":\"4fa7970a-eed1-4754-a28c-1998f524468a\",\"type\":\"Grid\"},{\"attributes\":{\"fill_alpha\":{\"value\":0.7},\"fill_color\":{\"value\":\"#984ea3\"},\"line_alpha\":{\"value\":0.7},\"line_color\":{\"value\":\"#984ea3\"},\"x\":{\"field\":\"x\"},\"y\":{\"field\":\"y\"}},\"id\":\"4f333bd3-2b09-4d7b-bf71-22b99ecd608e\",\"type\":\"Square\"},{\"attributes\":{\"below\":[{\"id\":\"5f039cf5-6495-478e-9141-d7ea342a168a\",\"type\":\"LinearAxis\"}],\"left\":[{\"id\":\"328d149c-b286-4c62-b472-9f3e23351469\",\"type\":\"LinearAxis\"}],\"plot_height\":500,\"plot_width\":400,\"renderers\":[{\"id\":\"5f039cf5-6495-478e-9141-d7ea342a168a\",\"type\":\"LinearAxis\"},{\"id\":\"4fa7970a-eed1-4754-a28c-1998f524468a\",\"type\":\"Grid\"},{\"id\":\"328d149c-b286-4c62-b472-9f3e23351469\",\"type\":\"LinearAxis\"},{\"id\":\"68ba6473-6096-4565-84b3-6f8f25d38b1b\",\"type\":\"Grid\"},{\"id\":\"2b1cda71-c6d9-4f01-a1ef-0a80dae4400c\",\"type\":\"BoxAnnotation\"},{\"id\":\"d902f1be-8127-496c-809e-66932cf368d3\",\"type\":\"GlyphRenderer\"},{\"id\":\"99c41d1e-3022-434b-ba89-6d49497b49c7\",\"type\":\"GlyphRenderer\"},{\"id\":\"67c92a4a-a658-4962-87cc-fba1d8f1ef8f\",\"type\":\"GlyphRenderer\"},{\"id\":\"c47f733f-bbd5-4118-9e2b-69f39891fccb\",\"type\":\"GlyphRenderer\"},{\"id\":\"44a85e12-a102-4cb3-9042-d5db1917da0d\",\"type\":\"GlyphRenderer\"}],\"title\":{\"id\":\"d033ac63-33b8-48c2-85f2-02d1d11ded11\",\"type\":\"Title\"},\"toolbar\":{\"id\":\"ae39621a-2f9e-442d-933a-d2d3acc914df\",\"type\":\"Toolbar\"},\"toolbar_location\":null,\"x_range\":{\"id\":\"5215178b-96e8-4856-87b9-5289bb738c24\",\"type\":\"Range1d\"},\"x_scale\":{\"id\":\"1bad2bea-b37c-4276-9078-68306132b649\",\"type\":\"LinearScale\"},\"y_range\":{\"id\":\"ffe77caa-e479-4f6d-af9f-c11152e15fe9\",\"type\":\"Range1d\"},\"y_scale\":{\"id\":\"62bbd904-43eb-4558-b48f-209f7fa061d3\",\"type\":\"LinearScale\"}},\"id\":\"b6f7b277-7d74-417d-af7b-e9ee9a8c6057\",\"subtype\":\"Figure\",\"type\":\"Plot\"},{\"attributes\":{\"source\":{\"id\":\"6d767bf2-126b-45ac-87c6-72c7b47db46d\",\"type\":\"ColumnDataSource\"}},\"id\":\"8ea1e51f-8e2c-4ad2-8540-c0c1d0726517\",\"type\":\"CDSView\"},{\"attributes\":{\"children\":[{\"id\":\"3db9f60a-5b81-41f3-918f-3a64cd9140de\",\"type\":\"ToolbarBox\"},{\"id\":\"0af8f291-6167-49e7-bf4c-0595d5eb0dda\",\"type\":\"Column\"}]},\"id\":\"15bffa22-0052-4cb0-8597-3b70f7d66c00\",\"type\":\"Column\"},{\"attributes\":{\"callback\":null,\"end\":0.01,\"start\":1020},\"id\":\"45c23df3-cec6-48c1-b2b3-8a5f19d57a34\",\"type\":\"Range1d\"},{\"attributes\":{\"callback\":null,\"column_names\":[\"x\",\"y\"],\"data\":{\"x\":{\"__ndarray__\":\"+M2DMUGx1T+w60Jjs8PVPzjqTNDff9Y/qV7tJSM11z/WzCPni9PXP6jSnf2OUNg/1cw2ih6j2D+CWHanTbzYP/F7HoeliNg/WoACyUDw1z9AffkQH9XWP9h8UeM9INU/NSRWgq2i0j9ReGlREnPOPzBzuzF1Nsk/+Qp6LLW0yz+DkvcQMXLRP0KpwPsPqdM/VKZ7L8S21D8iyfEKdxnWPwjJ2yMbytk/WDYKQNDv4D8M+CWwc9LlPxKfva9Yd+U/JHFPimj54D+f6Vl9UKXaP4eMbeVglNU/fTdgYXTe0T96VG+WJM/NP6U9WV8MS8g/FylnfwOUwj/e9WRsC0a6P2LQdpmN/7I/ko4BJlDnrj/vhF3MVZupP1qGPWzY4aM/4RDygq21nz9XY5t48vmZPxNzi0PbdY0/0zuU6EHZYT8HZzp+LvlnPwIVfCodyZA/3v/ZZNnsnD+CYut5ozWjPxkZLDleL6c/UmMDy7uiqj//E98yL76tP0E2KoXdT7A/HyG8Lw2usT/8Tj5PIvuyP2KRL47mM7Q/CVPyQPBQtT+3JkTRDEa2Pw5eB+l9Ibc/y9xAKIfntz+Tgark75+4P6JA7BQ7Trk/PuCrVKTxuT/twvbazY26P1lg6HNVIrs/IiF6teqwuz996w6FF0K8P1cccMcrzbw/janGnE9ovT8QOpnJaBK+P4qdwY1bzb4/J5zVHHCMvz8MhMYTww/AP6xfGrU7KsA/31s7K8UWwD9Dc4r1FuO/PxJQIw5+tb8//Ih9upTQvz92qUI2RzfAPyMbO8RPUME/\",\"dtype\":\"float64\",\"shape\":[75]},\"y\":{\"__ndarray__\":\"GhExyth1ND/Sv8nbtpRIP2vylNV0PVE/aTum7souWD/At0SJ8fVgPw3Iuahxymc/MSNhhJWvcD/bTfBN02d3P2zb5nxnaoA/CD5h5MAGhz8NmeH1TyaQP+zrCsc9p5Y/LbKd76fGnz/bLW5ISEmmPww9YvTcQq8/JV2OstnstT8Er5Y7M8G+P0c+r3jqkcU/5h99k6ZBzj88bCIzFzjVP4enV8oyxN0//yH99nXg5D8qOpLLf0jtP5kqGJXUifQ/c9cS8kHP/D+/DpwzojQEQIEmwoanVwxA4lgXt9HgE0BSSZ2AJuIbQAMJih9jjiNA5q4l5INuK0AwTKYKRj0zQNv5fmq8/DpAaCJseHrtQkB/+zpwzoxKQM3MzMzMeFJAZmZmZmZqWEAAAAAAAFxeQM3MzMzMJmJAmpmZmZkfZUBmZmZmZhhoQDMzMzMzEWtAAAAAAAAKbkBmZmZmZoFwQM3MzMzM/XFAMzMzMzN6c0CamZmZmfZ0QAAAAAAAc3ZAZmZmZmbvd0DNzMzMzGt5QDMzMzMz6HpAmpmZmZlkfEAAAAAAAOF9QGZmZmZmXX9AZmZmZuZsgECamZmZGSuBQM3MzMxM6YFAAAAAAICngkAzMzMzs2WDQGZmZmbmI4RAmpmZmRnihEDNzMzMTKCFQAAAAACAXoZAMzMzM7Mch0BmZmZm5tqHQJqZmZkZmYhAzczMzExXiUAAAAAAgBWKQDMzMzOz04pAZmZmZuaRi0CamZmZGVCMQM3MzMxMDo1AAAAAAIDMjUAzMzMzs4qOQGZmZmbmSI9A\",\"dtype\":\"float64\",\"shape\":[75]}}},\"id\":\"d27e325b-0dac-4f3a-a786-1704a7918cc2\",\"type\":\"ColumnDataSource\"},{\"attributes\":{\"callback\":null,\"column_names\":[\"x\",\"y\"],\"data\":{\"x\":{\"__ndarray__\":\"CZzXnnogzz/h0lL1Ap7PP7dO0ORqfdA/fvdUb4kz0T/fDruM7uLRP6eOG59FhtI/pMSu7e0W0z/V8fM6PYrTP4XJ+Qc209M/bSM7wqvd0z8+xbtt8I/TP5sTg9lnwtI/l2eQSPxG0T+TnDz6mdnNP2WTNjTpX8o/AkyV//uZzT80WILWDWXSP/kKue+kR9Q/nQun9Uxp1D+X22IjtbXUP1egq+eD6dc/548GQ18y4D/UpC0RHFXlPyeWpecnJuU/zTBBT/vU4D+Tt/Fh1WTaP78KdBaLmdU/ZbfgVosZ0j87h9eaUoPOP2tWpi3onMg/egXc0u6Awj/qhSHDQXq5P0UfEg8/t7E/rt3CL/9lrD+fp4ACj3KoP2z801ehkqM/Ti7uiAjUnj/NZuXJ+1mYP86delN6bok/aHJQVTtzND8rIS48n6tPP2XHzxG8y4w/bDzTqf1mmj+6BFmvH+uhP3iGL2dE1qU/exxPyQ4xqT+E47XvqjesP9MHDD4/H68/RQHBbYT9sD94Q++U22SyP3ndBNp7w7M/Rrz2fgMQtT8nSYu+eEK2PwPZNLTWV7c/mefzF5tSuD8AzaG+xUC5PwXAmRT2H7o/nRSkIfzuuj+3d9NOSa27P05+i06WWrw/Y/00KHn5vD+qpIjrnI+9P0SVzHcRIr4//B0n2MG5vj+zK+sGI1m/P20tQJlOBMA/6dfWT/9ZwD8IdbJQQpvAP4q+zMF9rsA/KJbfkrGUwD+pz/7VHWrAPyGjTR/LTMA/dTvavJpRwD87195EgJXAP6M/NPPkmsE/\",\"dtype\":\"float64\",\"shape\":[75]},\"y\":{\"__ndarray__\":\"S/O/Q+51ND/Sv8nbtpRIP2vylNV0PVE/aTum7souWD/At0SJ8fVgPw3Iuahxymc/MSNhhJWvcD/bTfBN02d3P2zb5nxnaoA/CD5h5MAGhz8NmeH1TyaQP+zrCsc9p5Y/LbKd76fGnz/bLW5ISEmmPww9YvTcQq8/JV2OstnstT8Er5Y7M8G+P0c+r3jqkcU/5h99k6ZBzj88bCIzFzjVP4enV8oyxN0//yH99nXg5D8qOpLLf0jtP5kqGJXUifQ/c9cS8kHP/D+/DpwzojQEQIEmwoanVwxA4lgXt9HgE0BSSZ2AJuIbQAMJih9jjiNA5q4l5INuK0AwTKYKRj0zQNv5fmq8/DpAaCJseHrtQkB/+zpwzoxKQM3MzMzMeFJAZmZmZmZqWEAAAAAAAFxeQM3MzMzMJmJAmpmZmZkfZUBmZmZmZhhoQDMzMzMzEWtAAAAAAAAKbkBmZmZmZoFwQM3MzMzM/XFAMzMzMzN6c0CamZmZmfZ0QAAAAAAAc3ZAZmZmZmbvd0DNzMzMzGt5QDMzMzMz6HpAmpmZmZlkfEAAAAAAAOF9QGZmZmZmXX9AZmZmZuZsgECamZmZGSuBQM3MzMxM6YFAAAAAAICngkAzMzMzs2WDQGZmZmbmI4RAmpmZmRnihEDNzMzMTKCFQAAAAACAXoZAMzMzM7Mch0BmZmZm5tqHQJqZmZkZmYhAzczMzExXiUAAAAAAgBWKQDMzMzOz04pAZmZmZuaRi0CamZmZGVCMQM3MzMxMDo1AAAAAAIDMjUAzMzMzs4qOQGZmZmbmSI9A\",\"dtype\":\"float64\",\"shape\":[75]}}},\"id\":\"0557b39d-3d6c-4247-bfe7-870ac85fa645\",\"type\":\"ColumnDataSource\"},{\"attributes\":{\"line_alpha\":0.6,\"line_color\":\"#984ea3\",\"line_width\":3,\"x\":{\"field\":\"x\"},\"y\":{\"field\":\"y\"}},\"id\":\"eb9a0d82-0db2-4dae-bef4-01da033df289\",\"type\":\"Line\"},{\"attributes\":{},\"id\":\"e251c2b6-e786-4b42-b3d4-4424bf78871f\",\"type\":\"BasicTickFormatter\"},{\"attributes\":{\"fill_alpha\":{\"value\":0.1},\"fill_color\":{\"value\":\"#1f77b4\"},\"line_alpha\":{\"value\":0.1},\"line_color\":{\"value\":\"#1f77b4\"},\"x\":{\"field\":\"x\"},\"y\":{\"field\":\"y\"}},\"id\":\"2a4df495-ffca-441f-896c-df28ff4b786a\",\"type\":\"Square\"},{\"attributes\":{\"data_source\":{\"id\":\"6d767bf2-126b-45ac-87c6-72c7b47db46d\",\"type\":\"ColumnDataSource\"},\"glyph\":{\"id\":\"4f333bd3-2b09-4d7b-bf71-22b99ecd608e\",\"type\":\"Square\"},\"hover_glyph\":null,\"muted_glyph\":null,\"nonselection_glyph\":{\"id\":\"2a4df495-ffca-441f-896c-df28ff4b786a\",\"type\":\"Square\"},\"selection_glyph\":null,\"view\":{\"id\":\"8ea1e51f-8e2c-4ad2-8540-c0c1d0726517\",\"type\":\"CDSView\"}},\"id\":\"b13899d7-f6bd-4fbd-a365-c027e7bb0269\",\"type\":\"GlyphRenderer\"},{\"attributes\":{},\"id\":\"6dc1d53b-2e97-45e5-85b1-4c65d577a66e\",\"type\":\"BasicTicker\"},{\"attributes\":{},\"id\":\"c9eae47f-26fd-415e-9735-003d181cc004\",\"type\":\"PanTool\"},{\"attributes\":{},\"id\":\"18b3975a-0a0c-4243-8321-2d711382035b\",\"type\":\"ResetTool\"},{\"attributes\":{\"source\":{\"id\":\"0f3bf839-b8dd-42a8-8a14-10c94d0d93da\",\"type\":\"ColumnDataSource\"}},\"id\":\"959d228f-c0c2-416b-8b42-484dc972887f\",\"type\":\"CDSView\"},{\"attributes\":{\"callback\":null,\"column_names\":[\"x\",\"y\"],\"data\":{\"x\":{\"__ndarray__\":\"/E2sfGTt2D/g5+iG4NfYP9nL+O+ojtk/07Brvdc32j+xPhaJpr/aP3qyk6i0Eds/gWzlZxsm2z+x5vhP1OXaP366iXM3PNo/kg2cGgUU2T9NWE2daFPXPx3s6uEN4dQ/OPVg1rSg0T/Mypto/OfKP5gfTS8QiMQ/3ZTyWgndxj8s1UfYnvbOP5GgthUUqdI/emwuq2491T+VBmW3IjPYP+CiUYkEttw/sKXLi+Fk4j8xMtg/FRjnP0ghfx/EJOY/SRQ5yBQh4T9PjxJg/YTaP/fWl9fX29Q/ByrC0X550D+Fs/igqU/KP5SQ3T/1E8U/dkKeEzFbwD/uC9tbORe4P8qro0XeO7I/3lAFlx+crT+f+BOQVLGmPxYHu1SxoJ4/1TDPjHbDlT+rFo+NazyRPw6huI5y6oA/DDNLOn4zV7+h2vzbyr46P6eaub0tI4w/SXHNnn1Fmj/pyLDbfjGiP3qQ2M0Qt6Y/bn+o4GLYqj8msTSIwKWuPx8xIbZZFLE/TBWC2Hazsj9x9Fnn3S20P9PixgzYfrU/fsxx6Nmetj901twOY4u3PxLNSCxFTLg/y6P6UmjuuD+9hEK4jXy5P8lUZu8x/bk/iymBYp50uj8SolszIua6Pz4c6phvVLs/qRnvGjbCuz9zVpeVHjS8Pw8j53HWr7w/k3y69A47vT823bq0RNu9PzmpedhVkr4/CpwRSgRPvz9t1LeKzeC/PxeKbM5eCcA/sSUWvt/kvz8hqAEgepS/Pz/Ytf/5ZL8/hix/fBGGvz9L1U2UShnAP2W04fJQQsE/\",\"dtype\":\"float64\",\"shape\":[75]},\"y\":{\"__ndarray__\":\"GhExyth1ND/Sv8nbtpRIP2vylNV0PVE/aTum7souWD/At0SJ8fVgPw3Iuahxymc/MSNhhJWvcD/bTfBN02d3P2zb5nxnaoA/CD5h5MAGhz8NmeH1TyaQP+zrCsc9p5Y/LbKd76fGnz/bLW5ISEmmPww9YvTcQq8/JV2OstnstT8Er5Y7M8G+P0c+r3jqkcU/5h99k6ZBzj88bCIzFzjVP4enV8oyxN0//yH99nXg5D8qOpLLf0jtP5kqGJXUifQ/c9cS8kHP/D+/DpwzojQEQIEmwoanVwxA4lgXt9HgE0BSSZ2AJuIbQAMJih9jjiNA5q4l5INuK0AwTKYKRj0zQNv5fmq8/DpAaCJseHrtQkB/+zpwzoxKQM3MzMzMeFJAZmZmZmZqWEAAAAAAAFxeQM3MzMzMJmJAmpmZmZkfZUBmZmZmZhhoQDMzMzMzEWtAAAAAAAAKbkBmZmZmZoFwQM3MzMzM/XFAMzMzMzN6c0CamZmZmfZ0QAAAAAAAc3ZAZmZmZmbvd0DNzMzMzGt5QDMzMzMz6HpAmpmZmZlkfEAAAAAAAOF9QGZmZmZmXX9AZmZmZuZsgECamZmZGSuBQM3MzMxM6YFAAAAAAICngkAzMzMzs2WDQGZmZmbmI4RAmpmZmRnihEDNzMzMTKCFQAAAAACAXoZAMzMzM7Mch0BmZmZm5tqHQJqZmZkZmYhAzczMzExXiUAAAAAAgBWKQDMzMzOz04pAZmZmZuaRi0CamZmZGVCMQM3MzMxMDo1AAAAAAIDMjUAzMzMzs4qOQGZmZmbmSI9A\",\"dtype\":\"float64\",\"shape\":[75]}}},\"id\":\"0a7e10b0-dc17-4d4b-a7f9-3d07f9ccfcb2\",\"type\":\"ColumnDataSource\"},{\"attributes\":{\"items\":[{\"id\":\"cb3e6300-1449-426f-8317-2684d50cf639\",\"type\":\"LegendItem\"},{\"id\":\"bbfe557f-beed-4016-b84b-34778ac56558\",\"type\":\"LegendItem\"},{\"id\":\"d6f6429d-8d02-4332-867a-8db4b72c5ebd\",\"type\":\"LegendItem\"}],\"label_text_font_size\":{\"value\":\"8pt\"},\"location\":[10,-30],\"plot\":{\"id\":\"93842aac-8a81-4467-b942-4e7c04674c99\",\"subtype\":\"Figure\",\"type\":\"Plot\"}},\"id\":\"6d8fa956-64b5-473f-8d1d-bc1eeadcbdb2\",\"type\":\"Legend\"},{\"attributes\":{},\"id\":\"7ee62b9f-9972-48e1-b9d3-f764642beb5d\",\"type\":\"BasicTicker\"},{\"attributes\":{\"callback\":null,\"column_names\":[\"x\",\"y\"],\"data\":{\"x\":{\"__ndarray__\":\"+M2DMUGx1T+w60Jjs8PVPzjqTNDff9Y/qV7tJSM11z/WzCPni9PXP6jSnf2OUNg/1cw2ih6j2D+CWHanTbzYP/F7HoeliNg/WoACyUDw1z9AffkQH9XWP9h8UeM9INU/NSRWgq2i0j9ReGlREnPOPzBzuzF1Nsk/+Qp6LLW0yz+DkvcQMXLRP0KpwPsPqdM/VKZ7L8S21D8iyfEKdxnWPwjJ2yMbytk/WDYKQNDv4D8M+CWwc9LlPxKfva9Yd+U/JHFPimj54D+f6Vl9UKXaP4eMbeVglNU/fTdgYXTe0T96VG+WJM/NP6U9WV8MS8g/FylnfwOUwj/e9WRsC0a6P2LQdpmN/7I/ko4BJlDnrj/vhF3MVZupP1qGPWzY4aM/4RDygq21nz9XY5t48vmZPxNzi0PbdY0/0zuU6EHZYT8HZzp+LvlnPwIVfCodyZA/3v/ZZNnsnD+CYut5ozWjPxkZLDleL6c/UmMDy7uiqj//E98yL76tP0E2KoXdT7A/HyG8Lw2usT/8Tj5PIvuyP2KRL47mM7Q/CVPyQPBQtT+3JkTRDEa2Pw5eB+l9Ibc/y9xAKIfntz+Tgark75+4P6JA7BQ7Trk/PuCrVKTxuT/twvbazY26P1lg6HNVIrs/IiF6teqwuz996w6FF0K8P1cccMcrzbw/janGnE9ovT8QOpnJaBK+P4qdwY1bzb4/J5zVHHCMvz8MhMYTww/AP6xfGrU7KsA/31s7K8UWwD9Dc4r1FuO/PxJQIw5+tb8//Ih9upTQvz92qUI2RzfAPyMbO8RPUME/\",\"dtype\":\"float64\",\"shape\":[75]},\"y\":{\"__ndarray__\":\"GhExyth1ND/Sv8nbtpRIP2vylNV0PVE/aTum7souWD/At0SJ8fVgPw3Iuahxymc/MSNhhJWvcD/bTfBN02d3P2zb5nxnaoA/CD5h5MAGhz8NmeH1TyaQP+zrCsc9p5Y/LbKd76fGnz/bLW5ISEmmPww9YvTcQq8/JV2OstnstT8Er5Y7M8G+P0c+r3jqkcU/5h99k6ZBzj88bCIzFzjVP4enV8oyxN0//yH99nXg5D8qOpLLf0jtP5kqGJXUifQ/c9cS8kHP/D+/DpwzojQEQIEmwoanVwxA4lgXt9HgE0BSSZ2AJuIbQAMJih9jjiNA5q4l5INuK0AwTKYKRj0zQNv5fmq8/DpAaCJseHrtQkB/+zpwzoxKQM3MzMzMeFJAZmZmZmZqWEAAAAAAAFxeQM3MzMzMJmJAmpmZmZkfZUBmZmZmZhhoQDMzMzMzEWtAAAAAAAAKbkBmZmZmZoFwQM3MzMzM/XFAMzMzMzN6c0CamZmZmfZ0QAAAAAAAc3ZAZmZmZmbvd0DNzMzMzGt5QDMzMzMz6HpAmpmZmZlkfEAAAAAAAOF9QGZmZmZmXX9AZmZmZuZsgECamZmZGSuBQM3MzMxM6YFAAAAAAICngkAzMzMzs2WDQGZmZmbmI4RAmpmZmRnihEDNzMzMTKCFQAAAAACAXoZAMzMzM7Mch0BmZmZm5tqHQJqZmZkZmYhAzczMzExXiUAAAAAAgBWKQDMzMzOz04pAZmZmZuaRi0CamZmZGVCMQM3MzMxMDo1AAAAAAIDMjUAzMzMzs4qOQGZmZmbmSI9A\",\"dtype\":\"float64\",\"shape\":[75]}}},\"id\":\"567b6317-3e6e-4ca5-929f-8bc6ce54b887\",\"type\":\"ColumnDataSource\"},{\"attributes\":{\"line_alpha\":0.1,\"line_color\":\"#1f77b4\",\"line_width\":3,\"x\":{\"field\":\"x\"},\"y\":{\"field\":\"y\"}},\"id\":\"7fc44cff-657b-47b2-af92-ca7363a41e7a\",\"type\":\"Line\"},{\"attributes\":{},\"id\":\"375e8f40-6e6d-4202-b74e-c34b44212717\",\"type\":\"HelpTool\"},{\"attributes\":{\"data_source\":{\"id\":\"0f3bf839-b8dd-42a8-8a14-10c94d0d93da\",\"type\":\"ColumnDataSource\"},\"glyph\":{\"id\":\"eb9a0d82-0db2-4dae-bef4-01da033df289\",\"type\":\"Line\"},\"hover_glyph\":null,\"muted_glyph\":null,\"nonselection_glyph\":{\"id\":\"7fc44cff-657b-47b2-af92-ca7363a41e7a\",\"type\":\"Line\"},\"selection_glyph\":null,\"view\":{\"id\":\"959d228f-c0c2-416b-8b42-484dc972887f\",\"type\":\"CDSView\"}},\"id\":\"487aa77b-a4da-4a30-8a7a-845b77f41339\",\"type\":\"GlyphRenderer\"},{\"attributes\":{\"num_minor_ticks\":10},\"id\":\"12d6747b-cbc1-414e-b775-ae98d7e47204\",\"type\":\"LogTicker\"},{\"attributes\":{\"tools\":[{\"id\":\"c9eae47f-26fd-415e-9735-003d181cc004\",\"type\":\"PanTool\"},{\"id\":\"d81e4fb3-2112-4559-9fd7-e5c0fde352a7\",\"type\":\"WheelZoomTool\"},{\"id\":\"c5dd55b9-49e2-40fd-a9bf-706d5bced78d\",\"type\":\"BoxZoomTool\"},{\"id\":\"209b4626-d570-46fc-a1be-56cbbe0822b0\",\"type\":\"SaveTool\"},{\"id\":\"5b8f4df9-8316-44c4-8dfa-877adf031acf\",\"type\":\"ResetTool\"},{\"id\":\"876aef35-86a0-4dd3-82c8-5d5bfe340ade\",\"type\":\"HelpTool\"},{\"id\":\"692d29c6-c90e-440e-b20d-dc3cf4545ca5\",\"type\":\"PanTool\"},{\"id\":\"61ac6ff7-571b-4759-8cb0-6bb5584aa9b6\",\"type\":\"WheelZoomTool\"},{\"id\":\"5455883a-f293-4a71-9234-a8b08cf352ff\",\"type\":\"BoxZoomTool\"},{\"id\":\"2d7062e5-2c3a-4e5b-90a9-b38f9ba16690\",\"type\":\"SaveTool\"},{\"id\":\"18b3975a-0a0c-4243-8321-2d711382035b\",\"type\":\"ResetTool\"},{\"id\":\"375e8f40-6e6d-4202-b74e-c34b44212717\",\"type\":\"HelpTool\"}]},\"id\":\"7c17836e-92bb-4828-8ec0-cda22540c481\",\"type\":\"ProxyToolbar\"},{\"attributes\":{\"active_drag\":\"auto\",\"active_inspect\":\"auto\",\"active_scroll\":\"auto\",\"active_tap\":\"auto\",\"tools\":[{\"id\":\"c9eae47f-26fd-415e-9735-003d181cc004\",\"type\":\"PanTool\"},{\"id\":\"d81e4fb3-2112-4559-9fd7-e5c0fde352a7\",\"type\":\"WheelZoomTool\"},{\"id\":\"c5dd55b9-49e2-40fd-a9bf-706d5bced78d\",\"type\":\"BoxZoomTool\"},{\"id\":\"209b4626-d570-46fc-a1be-56cbbe0822b0\",\"type\":\"SaveTool\"},{\"id\":\"5b8f4df9-8316-44c4-8dfa-877adf031acf\",\"type\":\"ResetTool\"},{\"id\":\"876aef35-86a0-4dd3-82c8-5d5bfe340ade\",\"type\":\"HelpTool\"}]},\"id\":\"ae39621a-2f9e-442d-933a-d2d3acc914df\",\"type\":\"Toolbar\"},{\"attributes\":{\"label\":{\"value\":\"CRD\"},\"renderers\":[{\"id\":\"f470aa91-7fdc-4b47-8fea-8a286eb39198\",\"type\":\"GlyphRenderer\"},{\"id\":\"257dd0a5-080a-4680-b218-4feab8040605\",\"type\":\"GlyphRenderer\"}]},\"id\":\"bbfe557f-beed-4016-b84b-34778ac56558\",\"type\":\"LegendItem\"},{\"attributes\":{\"toolbar\":{\"id\":\"7c17836e-92bb-4828-8ec0-cda22540c481\",\"type\":\"ProxyToolbar\"},\"toolbar_location\":\"above\"},\"id\":\"3db9f60a-5b81-41f3-918f-3a64cd9140de\",\"type\":\"ToolbarBox\"},{\"attributes\":{\"axis_label\":\"cooling rate [K/day]\",\"formatter\":{\"id\":\"35e6b463-7ecd-4c8a-a502-096e5d8060d4\",\"type\":\"BasicTickFormatter\"},\"plot\":{\"id\":\"b6f7b277-7d74-417d-af7b-e9ee9a8c6057\",\"subtype\":\"Figure\",\"type\":\"Plot\"},\"ticker\":{\"id\":\"6dc1d53b-2e97-45e5-85b1-4c65d577a66e\",\"type\":\"BasicTicker\"}},\"id\":\"5f039cf5-6495-478e-9141-d7ea342a168a\",\"type\":\"LinearAxis\"},{\"attributes\":{\"children\":[{\"id\":\"f6a69ebe-cd2a-43b0-a627-9ea8a6ca8b21\",\"type\":\"Row\"}]},\"id\":\"0af8f291-6167-49e7-bf4c-0595d5eb0dda\",\"type\":\"Column\"},{\"attributes\":{\"plot\":null,\"text\":\"Linear pressure scale\"},\"id\":\"d033ac63-33b8-48c2-85f2-02d1d11ded11\",\"type\":\"Title\"},{\"attributes\":{\"data_source\":{\"id\":\"d27e325b-0dac-4f3a-a786-1704a7918cc2\",\"type\":\"ColumnDataSource\"},\"glyph\":{\"id\":\"485fe757-24be-4276-82f8-31ab5c0c4abe\",\"type\":\"Square\"},\"hover_glyph\":null,\"muted_glyph\":null,\"nonselection_glyph\":{\"id\":\"85c01352-061c-4e31-a707-9d3a6dfeaef3\",\"type\":\"Square\"},\"selection_glyph\":null,\"view\":{\"id\":\"d06adb07-bac8-41ee-8752-e1b6300b2ca4\",\"type\":\"CDSView\"}},\"id\":\"c47f733f-bbd5-4118-9e2b-69f39891fccb\",\"type\":\"GlyphRenderer\"},{\"attributes\":{\"label\":{\"value\":\"CLIRAD `coolr_bands`\"},\"renderers\":[{\"id\":\"8d8517ab-5ac7-4c95-bfd1-5420a5a29943\",\"type\":\"GlyphRenderer\"}]},\"id\":\"cb3e6300-1449-426f-8317-2684d50cf639\",\"type\":\"LegendItem\"},{\"attributes\":{\"dimension\":1,\"plot\":{\"id\":\"b6f7b277-7d74-417d-af7b-e9ee9a8c6057\",\"subtype\":\"Figure\",\"type\":\"Plot\"},\"ticker\":{\"id\":\"7ee62b9f-9972-48e1-b9d3-f764642beb5d\",\"type\":\"BasicTicker\"}},\"id\":\"68ba6473-6096-4565-84b3-6f8f25d38b1b\",\"type\":\"Grid\"},{\"attributes\":{\"data_source\":{\"id\":\"0557b39d-3d6c-4247-bfe7-870ac85fa645\",\"type\":\"ColumnDataSource\"},\"glyph\":{\"id\":\"e802e4c3-8d89-4e73-b21e-f4560be76e5e\",\"type\":\"Line\"},\"hover_glyph\":null,\"muted_glyph\":null,\"nonselection_glyph\":{\"id\":\"fd6163b1-451c-4e5d-b9a1-6460f501d4b4\",\"type\":\"Line\"},\"selection_glyph\":null,\"view\":{\"id\":\"94755f35-d340-48ea-8ebe-f415c139930c\",\"type\":\"CDSView\"}},\"id\":\"8d8517ab-5ac7-4c95-bfd1-5420a5a29943\",\"type\":\"GlyphRenderer\"},{\"attributes\":{\"bottom_units\":\"screen\",\"fill_alpha\":{\"value\":0.5},\"fill_color\":{\"value\":\"lightgrey\"},\"left_units\":\"screen\",\"level\":\"overlay\",\"line_alpha\":{\"value\":1.0},\"line_color\":{\"value\":\"black\"},\"line_dash\":[4,4],\"line_width\":{\"value\":2},\"plot\":null,\"render_mode\":\"css\",\"right_units\":\"screen\",\"top_units\":\"screen\"},\"id\":\"2b1cda71-c6d9-4f01-a1ef-0a80dae4400c\",\"type\":\"BoxAnnotation\"},{\"attributes\":{\"line_alpha\":0.6,\"line_color\":\"#e41a1c\",\"line_dash\":[6],\"line_width\":5,\"x\":{\"field\":\"x\"},\"y\":{\"field\":\"y\"}},\"id\":\"e802e4c3-8d89-4e73-b21e-f4560be76e5e\",\"type\":\"Line\"},{\"attributes\":{\"line_color\":\"#4daf4a\",\"line_width\":1.5,\"x\":{\"field\":\"x\"},\"y\":{\"field\":\"y\"}},\"id\":\"f05a4bcf-f622-47d9-a331-6dd750d2a47a\",\"type\":\"Line\"},{\"attributes\":{\"line_alpha\":0.6,\"line_color\":\"#984ea3\",\"line_width\":3,\"x\":{\"field\":\"x\"},\"y\":{\"field\":\"y\"}},\"id\":\"132ef142-c296-49c6-a1c0-dcbf7f0473de\",\"type\":\"Line\"},{\"attributes\":{\"children\":[{\"id\":\"b6f7b277-7d74-417d-af7b-e9ee9a8c6057\",\"subtype\":\"Figure\",\"type\":\"Plot\"},{\"id\":\"93842aac-8a81-4467-b942-4e7c04674c99\",\"subtype\":\"Figure\",\"type\":\"Plot\"}]},\"id\":\"f6a69ebe-cd2a-43b0-a627-9ea8a6ca8b21\",\"type\":\"Row\"},{\"attributes\":{\"fill_alpha\":{\"value\":0.1},\"fill_color\":{\"value\":\"#1f77b4\"},\"line_alpha\":{\"value\":0.1},\"line_color\":{\"value\":\"#1f77b4\"},\"x\":{\"field\":\"x\"},\"y\":{\"field\":\"y\"}},\"id\":\"af5d6624-449c-467e-8710-3d0258cc423f\",\"type\":\"Circle\"},{\"attributes\":{\"data_source\":{\"id\":\"f64da94b-0bd2-4cd2-96ba-ba7aa5aac58f\",\"type\":\"ColumnDataSource\"},\"glyph\":{\"id\":\"f05a4bcf-f622-47d9-a331-6dd750d2a47a\",\"type\":\"Line\"},\"hover_glyph\":null,\"muted_glyph\":null,\"nonselection_glyph\":{\"id\":\"840310f7-95e6-4c7d-83ca-ab1731b7c50b\",\"type\":\"Line\"},\"selection_glyph\":null,\"view\":{\"id\":\"7902b948-9d15-4fb3-9769-3aa3966d619a\",\"type\":\"CDSView\"}},\"id\":\"67c92a4a-a658-4962-87cc-fba1d8f1ef8f\",\"type\":\"GlyphRenderer\"},{\"attributes\":{\"bottom_units\":\"screen\",\"fill_alpha\":{\"value\":0.5},\"fill_color\":{\"value\":\"lightgrey\"},\"left_units\":\"screen\",\"level\":\"overlay\",\"line_alpha\":{\"value\":1.0},\"line_color\":{\"value\":\"black\"},\"line_dash\":[4,4],\"line_width\":{\"value\":2},\"plot\":null,\"render_mode\":\"css\",\"right_units\":\"screen\",\"top_units\":\"screen\"},\"id\":\"477fcf6f-b5d1-46b9-9a4a-6c3b53c51e01\",\"type\":\"BoxAnnotation\"},{\"attributes\":{\"axis_label\":\"pressure [mb]\",\"formatter\":{\"id\":\"e251c2b6-e786-4b42-b3d4-4424bf78871f\",\"type\":\"BasicTickFormatter\"},\"plot\":{\"id\":\"b6f7b277-7d74-417d-af7b-e9ee9a8c6057\",\"subtype\":\"Figure\",\"type\":\"Plot\"},\"ticker\":{\"id\":\"7ee62b9f-9972-48e1-b9d3-f764642beb5d\",\"type\":\"BasicTicker\"}},\"id\":\"328d149c-b286-4c62-b472-9f3e23351469\",\"type\":\"LinearAxis\"},{\"attributes\":{\"source\":{\"id\":\"567b6317-3e6e-4ca5-929f-8bc6ce54b887\",\"type\":\"ColumnDataSource\"}},\"id\":\"4d81887f-6ab8-4460-a155-a60d7e343e73\",\"type\":\"CDSView\"},{\"attributes\":{},\"id\":\"61ac6ff7-571b-4759-8cb0-6bb5584aa9b6\",\"type\":\"WheelZoomTool\"},{\"attributes\":{\"data_source\":{\"id\":\"0a7e10b0-dc17-4d4b-a7f9-3d07f9ccfcb2\",\"type\":\"ColumnDataSource\"},\"glyph\":{\"id\":\"878f4aaf-60e8-46d0-9e13-19c6dd14114f\",\"type\":\"Circle\"},\"hover_glyph\":null,\"muted_glyph\":null,\"nonselection_glyph\":{\"id\":\"af5d6624-449c-467e-8710-3d0258cc423f\",\"type\":\"Circle\"},\"selection_glyph\":null,\"view\":{\"id\":\"f87b99b6-310d-4424-a5a5-4da0414bb89e\",\"type\":\"CDSView\"}},\"id\":\"99c41d1e-3022-434b-ba89-6d49497b49c7\",\"type\":\"GlyphRenderer\"}],\"root_ids\":[\"15bffa22-0052-4cb0-8597-3b70f7d66c00\"]},\"title\":\"Bokeh Application\",\"version\":\"0.12.14\"}};\n",
       "  var render_items = [{\"docid\":\"03851673-78db-4064-9f0d-5e63436b1a9c\",\"elementid\":\"aa8c99fa-e560-4d21-83df-a45d95cc1683\",\"modelid\":\"15bffa22-0052-4cb0-8597-3b70f7d66c00\"}];\n",
       "  root.Bokeh.embed.embed_items_notebook(docs_json, render_items);\n",
       "\n",
       "  }\n",
       "  if (root.Bokeh !== undefined) {\n",
       "    embed_document(root);\n",
       "  } else {\n",
       "    var attempts = 0;\n",
       "    var timer = setInterval(function(root) {\n",
       "      if (root.Bokeh !== undefined) {\n",
       "        embed_document(root);\n",
       "        clearInterval(timer);\n",
       "      }\n",
       "      attempts++;\n",
       "      if (attempts > 100) {\n",
       "        console.log(\"Bokeh: ERROR: Unable to run BokehJS code because BokehJS library is missing\")\n",
       "        clearInterval(timer);\n",
       "      }\n",
       "    }, 10, root)\n",
       "  }\n",
       "})(window);"
      ],
      "application/vnd.bokehjs_exec.v0+json": ""
     },
     "metadata": {
      "application/vnd.bokehjs_exec.v0+json": {
       "id": "15bffa22-0052-4cb0-8597-3b70f7d66c00"
      }
     },
     "output_type": "display_data"
    },
    {
     "name": "stdout",
     "output_type": "stream",
     "text": [
      "FIGURE. Cooling rate profiles.\n"
     ]
    },
    {
     "data": {
      "text/html": [
       "<a id=\"Flux_Comparison\"></a>"
      ],
      "text/plain": [
       "<IPython.core.display.HTML object>"
      ]
     },
     "metadata": {},
     "output_type": "display_data"
    },
    {
     "data": {
      "text/markdown": [
       "# Flux Comparison"
      ],
      "text/plain": [
       "<IPython.core.display.Markdown object>"
      ]
     },
     "metadata": {},
     "output_type": "display_data"
    },
    {
     "data": {
      "text/html": [
       "<div>\n",
       "<style>\n",
       "    .dataframe thead tr:only-child th {\n",
       "        text-align: right;\n",
       "    }\n",
       "\n",
       "    .dataframe thead th {\n",
       "        text-align: left;\n",
       "    }\n",
       "\n",
       "    .dataframe tbody tr th {\n",
       "        vertical-align: top;\n",
       "    }\n",
       "</style>\n",
       "<table border=\"1\" class=\"dataframe\">\n",
       "  <thead>\n",
       "    <tr style=\"text-align: right;\">\n",
       "      <th></th>\n",
       "      <th></th>\n",
       "      <th>flug</th>\n",
       "      <th>fldg</th>\n",
       "      <th>fnetg</th>\n",
       "    </tr>\n",
       "    <tr>\n",
       "      <th>pressure</th>\n",
       "      <th>level</th>\n",
       "      <th></th>\n",
       "      <th></th>\n",
       "      <th></th>\n",
       "    </tr>\n",
       "  </thead>\n",
       "  <tbody>\n",
       "    <tr>\n",
       "      <th>0.0000</th>\n",
       "      <th>1</th>\n",
       "      <td>-29.609843</td>\n",
       "      <td>0.000000</td>\n",
       "      <td>-29.609843</td>\n",
       "    </tr>\n",
       "    <tr>\n",
       "      <th>1.0685</th>\n",
       "      <th>24</th>\n",
       "      <td>-29.617427</td>\n",
       "      <td>0.067539</td>\n",
       "      <td>-29.549889</td>\n",
       "    </tr>\n",
       "    <tr>\n",
       "      <th>1013.0000</th>\n",
       "      <th>76</th>\n",
       "      <td>-36.235408</td>\n",
       "      <td>16.815622</td>\n",
       "      <td>-19.419786</td>\n",
       "    </tr>\n",
       "  </tbody>\n",
       "</table>\n",
       "</div>"
      ],
      "text/plain": [
       "                      flug       fldg      fnetg\n",
       "pressure  level                                 \n",
       "0.0000    1     -29.609843   0.000000 -29.609843\n",
       "1.0685    24    -29.617427   0.067539 -29.549889\n",
       "1013.0000 76    -36.235408  16.815622 -19.419786"
      ]
     },
     "metadata": {},
     "output_type": "display_data"
    },
    {
     "name": "stdout",
     "output_type": "stream",
     "text": [
      "Table. Fluxes. WGT igg=10 wgt_flux=1\n"
     ]
    },
    {
     "data": {
      "text/html": [
       "<div>\n",
       "<style>\n",
       "    .dataframe thead tr:only-child th {\n",
       "        text-align: right;\n",
       "    }\n",
       "\n",
       "    .dataframe thead th {\n",
       "        text-align: left;\n",
       "    }\n",
       "\n",
       "    .dataframe tbody tr th {\n",
       "        vertical-align: top;\n",
       "    }\n",
       "</style>\n",
       "<table border=\"1\" class=\"dataframe\">\n",
       "  <thead>\n",
       "    <tr style=\"text-align: right;\">\n",
       "      <th></th>\n",
       "      <th></th>\n",
       "      <th>flug</th>\n",
       "      <th>fldg</th>\n",
       "      <th>fnetg</th>\n",
       "    </tr>\n",
       "    <tr>\n",
       "      <th>pressure</th>\n",
       "      <th>level</th>\n",
       "      <th></th>\n",
       "      <th></th>\n",
       "      <th></th>\n",
       "    </tr>\n",
       "  </thead>\n",
       "  <tbody>\n",
       "    <tr>\n",
       "      <th>0.0000</th>\n",
       "      <th>1</th>\n",
       "      <td>-29.581934</td>\n",
       "      <td>0.000000</td>\n",
       "      <td>-29.581934</td>\n",
       "    </tr>\n",
       "    <tr>\n",
       "      <th>1.0685</th>\n",
       "      <th>24</th>\n",
       "      <td>-29.591321</td>\n",
       "      <td>0.072834</td>\n",
       "      <td>-29.518487</td>\n",
       "    </tr>\n",
       "    <tr>\n",
       "      <th>1013.0000</th>\n",
       "      <th>76</th>\n",
       "      <td>-36.235408</td>\n",
       "      <td>16.757329</td>\n",
       "      <td>-19.478079</td>\n",
       "    </tr>\n",
       "  </tbody>\n",
       "</table>\n",
       "</div>"
      ],
      "text/plain": [
       "                      flug       fldg      fnetg\n",
       "pressure  level                                 \n",
       "0.0000    1     -29.581934   0.000000 -29.581934\n",
       "1.0685    24    -29.591321   0.072834 -29.518487\n",
       "1013.0000 76    -36.235408  16.757329 -19.478079"
      ]
     },
     "metadata": {},
     "output_type": "display_data"
    },
    {
     "name": "stdout",
     "output_type": "stream",
     "text": [
      "Table. Fluxes. CRD\n"
     ]
    },
    {
     "data": {
      "text/html": [
       "<div>\n",
       "<style>\n",
       "    .dataframe thead tr:only-child th {\n",
       "        text-align: right;\n",
       "    }\n",
       "\n",
       "    .dataframe thead th {\n",
       "        text-align: left;\n",
       "    }\n",
       "\n",
       "    .dataframe tbody tr th {\n",
       "        vertical-align: top;\n",
       "    }\n",
       "</style>\n",
       "<table border=\"1\" class=\"dataframe\">\n",
       "  <thead>\n",
       "    <tr style=\"text-align: right;\">\n",
       "      <th></th>\n",
       "      <th></th>\n",
       "      <th>flug</th>\n",
       "      <th>fldg</th>\n",
       "      <th>fnetg</th>\n",
       "    </tr>\n",
       "    <tr>\n",
       "      <th>pressure</th>\n",
       "      <th>level</th>\n",
       "      <th></th>\n",
       "      <th></th>\n",
       "      <th></th>\n",
       "    </tr>\n",
       "  </thead>\n",
       "  <tbody>\n",
       "    <tr>\n",
       "      <th>1.000000e-08</th>\n",
       "      <th>1</th>\n",
       "      <td>-29.70236</td>\n",
       "      <td>0.000002</td>\n",
       "      <td>-29.702358</td>\n",
       "    </tr>\n",
       "    <tr>\n",
       "      <th>1.068500e+00</th>\n",
       "      <th>24</th>\n",
       "      <td>-29.70935</td>\n",
       "      <td>0.064914</td>\n",
       "      <td>-29.644436</td>\n",
       "    </tr>\n",
       "    <tr>\n",
       "      <th>1.013000e+03</th>\n",
       "      <th>76</th>\n",
       "      <td>-36.23541</td>\n",
       "      <td>16.839945</td>\n",
       "      <td>-19.395465</td>\n",
       "    </tr>\n",
       "  </tbody>\n",
       "</table>\n",
       "</div>"
      ],
      "text/plain": [
       "                        flug       fldg      fnetg\n",
       "pressure     level                                \n",
       "1.000000e-08 1     -29.70236   0.000002 -29.702358\n",
       "1.068500e+00 24    -29.70935   0.064914 -29.644436\n",
       "1.013000e+03 76    -36.23541  16.839945 -19.395465"
      ]
     },
     "metadata": {},
     "output_type": "display_data"
    },
    {
     "name": "stdout",
     "output_type": "stream",
     "text": [
      "Table. Fluxes. CLIRAD\n"
     ]
    },
    {
     "data": {
      "text/html": [
       "<div>\n",
       "<style>\n",
       "    .dataframe thead tr:only-child th {\n",
       "        text-align: right;\n",
       "    }\n",
       "\n",
       "    .dataframe thead th {\n",
       "        text-align: left;\n",
       "    }\n",
       "\n",
       "    .dataframe tbody tr th {\n",
       "        vertical-align: top;\n",
       "    }\n",
       "</style>\n",
       "<table border=\"1\" class=\"dataframe\">\n",
       "  <thead>\n",
       "    <tr style=\"text-align: right;\">\n",
       "      <th></th>\n",
       "      <th></th>\n",
       "      <th>flug</th>\n",
       "      <th>fldg</th>\n",
       "      <th>fnetg</th>\n",
       "    </tr>\n",
       "    <tr>\n",
       "      <th>pressure</th>\n",
       "      <th>level</th>\n",
       "      <th></th>\n",
       "      <th></th>\n",
       "      <th></th>\n",
       "    </tr>\n",
       "  </thead>\n",
       "  <tbody>\n",
       "    <tr>\n",
       "      <th>0.0000</th>\n",
       "      <th>1</th>\n",
       "      <td>2.790911e-02</td>\n",
       "      <td>0.000000</td>\n",
       "      <td>0.027909</td>\n",
       "    </tr>\n",
       "    <tr>\n",
       "      <th>1.0685</th>\n",
       "      <th>24</th>\n",
       "      <td>2.610649e-02</td>\n",
       "      <td>0.005295</td>\n",
       "      <td>0.031402</td>\n",
       "    </tr>\n",
       "    <tr>\n",
       "      <th>1013.0000</th>\n",
       "      <th>76</th>\n",
       "      <td>4.190000e-07</td>\n",
       "      <td>-0.058293</td>\n",
       "      <td>-0.058293</td>\n",
       "    </tr>\n",
       "  </tbody>\n",
       "</table>\n",
       "</div>"
      ],
      "text/plain": [
       "                         flug      fldg     fnetg\n",
       "pressure  level                                  \n",
       "0.0000    1      2.790911e-02  0.000000  0.027909\n",
       "1.0685    24     2.610649e-02  0.005295  0.031402\n",
       "1013.0000 76     4.190000e-07 -0.058293 -0.058293"
      ]
     },
     "metadata": {},
     "output_type": "display_data"
    },
    {
     "name": "stdout",
     "output_type": "stream",
     "text": [
      "Table. Fluxes. (CRD) - (WGT igg=10 wgt_flux=1)\n"
     ]
    },
    {
     "data": {
      "text/html": [
       "<div>\n",
       "<style>\n",
       "    .dataframe thead tr:only-child th {\n",
       "        text-align: right;\n",
       "    }\n",
       "\n",
       "    .dataframe thead th {\n",
       "        text-align: left;\n",
       "    }\n",
       "\n",
       "    .dataframe tbody tr th {\n",
       "        vertical-align: top;\n",
       "    }\n",
       "</style>\n",
       "<table border=\"1\" class=\"dataframe\">\n",
       "  <thead>\n",
       "    <tr style=\"text-align: right;\">\n",
       "      <th></th>\n",
       "      <th></th>\n",
       "      <th>flug</th>\n",
       "      <th>fldg</th>\n",
       "      <th>fnetg</th>\n",
       "    </tr>\n",
       "    <tr>\n",
       "      <th>pressure</th>\n",
       "      <th>level</th>\n",
       "      <th></th>\n",
       "      <th></th>\n",
       "      <th></th>\n",
       "    </tr>\n",
       "  </thead>\n",
       "  <tbody>\n",
       "    <tr>\n",
       "      <th>0.0000</th>\n",
       "      <th>1</th>\n",
       "      <td>-0.092517</td>\n",
       "      <td>0.000002</td>\n",
       "      <td>-0.092515</td>\n",
       "    </tr>\n",
       "    <tr>\n",
       "      <th>1.0685</th>\n",
       "      <th>24</th>\n",
       "      <td>-0.091923</td>\n",
       "      <td>-0.002625</td>\n",
       "      <td>-0.094547</td>\n",
       "    </tr>\n",
       "    <tr>\n",
       "      <th>1013.0000</th>\n",
       "      <th>76</th>\n",
       "      <td>-0.000002</td>\n",
       "      <td>0.024323</td>\n",
       "      <td>0.024321</td>\n",
       "    </tr>\n",
       "  </tbody>\n",
       "</table>\n",
       "</div>"
      ],
      "text/plain": [
       "                     flug      fldg     fnetg\n",
       "pressure  level                              \n",
       "0.0000    1     -0.092517  0.000002 -0.092515\n",
       "1.0685    24    -0.091923 -0.002625 -0.094547\n",
       "1013.0000 76    -0.000002  0.024323  0.024321"
      ]
     },
     "metadata": {},
     "output_type": "display_data"
    },
    {
     "name": "stdout",
     "output_type": "stream",
     "text": [
      "Table. Fluxes. (CLIRAD) - (WGT igg=10 wgt_flux=1)\n"
     ]
    },
    {
     "data": {
      "text/html": [
       "<a id=\"Best-fit_Parameters\"></a>"
      ],
      "text/plain": [
       "<IPython.core.display.HTML object>"
      ]
     },
     "metadata": {},
     "output_type": "display_data"
    },
    {
     "data": {
      "text/markdown": [
       "# Best-fit Parameters"
      ],
      "text/plain": [
       "<IPython.core.display.Markdown object>"
      ]
     },
     "metadata": {},
     "output_type": "display_data"
    },
    {
     "name": "stdout",
     "output_type": "stream",
     "text": [
      "Best-fit values for each (gas, band)\n",
      "------------------------------------\n",
      "o co2 band3a\n",
      "  atmpro = mls\n",
      "  band = 3a\n",
      "  commitnumber = a06b618\n",
      "  conc = 0.0004\n",
      "  dv = 0.001\n",
      "  klin = 6.375563e-24\n",
      "  molecule = co2\n",
      "  ng_adju = [0, 0, 0]\n",
      "  ng_refs = [3, 2, 4]\n",
      "  nv = 1000\n",
      "  option_compute_btable = 0\n",
      "  option_compute_ktable = 1\n",
      "  option_wgt_flux = 1\n",
      "  option_wgt_k = 1\n",
      "  ref_pts = [(1, 250), (10, 250), (500, 250)]\n",
      "  tsfc = 294\n",
      "  vmax = 620\n",
      "  vmin = 540\n",
      "  w_diffuse = [(1.6, 1.6, 1.7), (1.75, 1.75), (1.55, 1.55, 1.6, 1.85)]\n",
      "  wgt = [(0.7, 0.3, 0.7), (0.7, 0.6), (0.4, 0.5, 0.8, 0.95)]\n"
     ]
    }
   ],
   "source": [
    "script()"
   ]
  },
  {
   "cell_type": "code",
   "execution_count": 13,
   "metadata": {
    "collapsed": true
   },
   "outputs": [
    {
     "data": {
      "text/html": [
       "<script>\n",
       "code_show=true; \n",
       "function code_toggle() {\n",
       " if (code_show){\n",
       " $('div.input').hide();\n",
       " } else {\n",
       " $('div.input').show();\n",
       " }\n",
       " code_show = !code_show\n",
       "} \n",
       "$( document ).ready(code_toggle);\n",
       "</script>\n",
       "<form action=\"javascript:code_toggle()\"><input type=\"submit\" value=\"Click here to toggle on/off the raw code.\"></form>"
      ],
      "text/plain": [
       "<IPython.core.display.HTML object>"
      ]
     },
     "execution_count": 13,
     "metadata": {},
     "output_type": "execute_result"
    }
   ],
   "source": [
    "display.HTML('''<script>\n",
    "code_show=true; \n",
    "function code_toggle() {\n",
    " if (code_show){\n",
    " $('div.input').hide();\n",
    " } else {\n",
    " $('div.input').show();\n",
    " }\n",
    " code_show = !code_show\n",
    "} \n",
    "$( document ).ready(code_toggle);\n",
    "</script>\n",
    "<form action=\"javascript:code_toggle()\"><input type=\"submit\" value=\"Click here to toggle on/off the raw code.\"></form>''')"
   ]
  }
 ],
 "metadata": {
  "kernelspec": {
   "display_name": "Python 3",
   "language": "python",
   "name": "python3"
  },
  "language_info": {
   "codemirror_mode": {
    "name": "ipython",
    "version": 3
   },
   "file_extension": ".py",
   "mimetype": "text/x-python",
   "name": "python",
   "nbconvert_exporter": "python",
   "pygments_lexer": "ipython3",
   "version": "3.6.1"
  }
 },
 "nbformat": 4,
 "nbformat_minor": 2
}
