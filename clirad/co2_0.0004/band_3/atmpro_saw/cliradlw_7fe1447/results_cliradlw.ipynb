{
 "cells": [
  {
   "cell_type": "code",
   "execution_count": 1,
   "metadata": {
    "collapsed": true
   },
   "outputs": [],
   "source": [
    "%matplotlib inline\n",
    "import os\n",
    "import re\n",
    "import io\n",
    "import itertools\n",
    "import pprint\n",
    "\n",
    "from bokeh.io import output_notebook, show\n",
    "from bokeh.layouts import gridplot\n",
    "from bokeh.plotting import figure\n",
    "from bokeh.models import Range1d, Legend\n",
    "from bokeh.palettes import all_palettes\n",
    "\n",
    "import matplotlib\n",
    "import matplotlib.pyplot as plt\n",
    "import numpy as np\n",
    "import pandas as pd\n",
    "import xarray as xr\n",
    "\n",
    "import climatools.lblnew.bestfit_params as bestfits\n",
    "from climatools.lblnew import setup_bestfit, setup_overlap\n",
    "import climatools.lblnew.pipeline as pipe_lblnew\n",
    "import climatools.cliradlw.setup as setup_cliradlw\n",
    "import climatools.cliradlw.pipeline as pipe_cliradlw\n",
    "\n",
    "import climatools.html.html as climahtml\n",
    "from climatools.lblnew.dataio import *\n",
    "from climatools.plot.plot import *\n",
    "\n",
    "\n",
    "import IPython.display as display"
   ]
  },
  {
   "cell_type": "code",
   "execution_count": 2,
   "metadata": {
    "collapsed": true
   },
   "outputs": [],
   "source": [
    "%run param.py"
   ]
  },
  {
   "cell_type": "code",
   "execution_count": 3,
   "metadata": {
    "collapsed": true
   },
   "outputs": [],
   "source": [
    "def load_output_file(path_csv):\n",
    "    '''\n",
    "    Load lblnew output .csv file to xarray.Dataset\n",
    "    \n",
    "    Parameters\n",
    "    ----------\n",
    "    path_csv: str\n",
    "              Path to the .csv file to be loaded.\n",
    "    ds: xarray.Dataset\n",
    "        Data in the input file in the form of an xarray.Dataset.\n",
    "    '''\n",
    "    toindex = ['band', 'pressure', 'igg', 'g']    \n",
    "    df = pd.read_csv(path_csv, sep=r'\\s+')\n",
    "    df = df.set_index([i for i in toindex if i in df.columns])\n",
    "    df = df.rename(columns={'sfu': 'flug',\n",
    "                            'sfd': 'fldg',\n",
    "                            'fnet': 'fnetg',\n",
    "                            'coolr': 'coolrg'})\n",
    "    ds = xr.Dataset.from_dataframe(df)\n",
    "\n",
    "    for l in ('level', 'layer'):\n",
    "        if l in ds.data_vars:\n",
    "            if len(ds[l].dims) > 1:\n",
    "                surface = {d: 0 for d in ds.dims if d != 'pressure'}\n",
    "                coord_level = ds[l][surface]\n",
    "                ds.coords[l] = ('pressure', coord_level)\n",
    "            else:\n",
    "                ds.coords[l] = ('pressure', ds[l])\n",
    "    \n",
    "    return ds"
   ]
  },
  {
   "cell_type": "code",
   "execution_count": 4,
   "metadata": {
    "collapsed": true
   },
   "outputs": [],
   "source": [
    "def lblnew_setup(param=None):\n",
    "    if 'ng_refs' in param:\n",
    "        return {'setup': setup_bestfit,\n",
    "                'fname_flux_crd': 'output_flux.dat',\n",
    "                'fname_cool_crd': 'output_coolr.dat',\n",
    "                'fname_flux_wgt': 'output_wfluxg.dat',\n",
    "                'fname_cool_wgt': 'output_wcoolrg.dat'}\n",
    "    else:\n",
    "        return {'setup': setup_overlap,\n",
    "                'fname_flux_crd': 'output_flux.dat',\n",
    "                'fname_cool_crd': 'output_coolr.dat',\n",
    "                'fname_flux_wgt': 'output_wflux.dat',\n",
    "                'fname_cool_wgt': 'output_wcoolr.dat'}\n",
    "\n",
    "    \n",
    "def load_lblnew_data(param):\n",
    "    \n",
    "    fname_dsname = [('fname_flux_crd', 'ds_flux_crd'),\n",
    "                    ('fname_cool_crd', 'ds_cool_crd'),\n",
    "                    ('fname_flux_wgt', 'ds_flux_wgt'),\n",
    "                    ('fname_cool_wgt', 'ds_cool_wgt')]\n",
    "    \n",
    "    d = lblnew_setup(param)\n",
    "    dir_fortran = pipe_lblnew.get_dir_case(param, setup=d['setup'])\n",
    "    \n",
    "    data_dict = {}\n",
    "    for fname, dsname in fname_dsname:\n",
    "        fpath = os.path.join(dir_fortran, d[fname])\n",
    "        data_dict[dsname] = load_output_file(fpath)\n",
    "    return data_dict\n",
    "    \n",
    "\n",
    "    \n",
    "    "
   ]
  },
  {
   "cell_type": "code",
   "execution_count": 5,
   "metadata": {
    "collapsed": true
   },
   "outputs": [],
   "source": [
    "d = load_lblnew_data(PARAM_LBLNEW)\n",
    "\n",
    "DS_FLUX_CRD = d['ds_flux_crd']\n",
    "DS_COOL_CRD = d['ds_cool_crd']\n",
    "DS_FLUX_WGT = d['ds_flux_wgt']\n",
    "DS_COOL_WGT = d['ds_cool_wgt']"
   ]
  },
  {
   "cell_type": "code",
   "execution_count": 6,
   "metadata": {
    "collapsed": true
   },
   "outputs": [],
   "source": [
    "DIR_FORTRAN = pipe_cliradlw.get_fortran_dir(PARAM, \n",
    "                                            setup=setup_cliradlw)\n",
    "\n",
    "PATH_FLUX = os.path.join(DIR_FORTRAN, 'output_flux.dat')\n",
    "PATH_COOL = os.path.join(DIR_FORTRAN, 'output_coolr.dat')\n",
    "\n",
    "DS_FLUX = load_output_file(PATH_FLUX)\n",
    "DS_COOL = load_output_file(PATH_COOL)"
   ]
  },
  {
   "cell_type": "code",
   "execution_count": 7,
   "metadata": {
    "collapsed": true
   },
   "outputs": [
    {
     "data": {
      "text/html": [
       "\n",
       "    <div class=\"bk-root\">\n",
       "        <a href=\"https://bokeh.pydata.org\" target=\"_blank\" class=\"bk-logo bk-logo-small bk-logo-notebook\"></a>\n",
       "        <span id=\"abf1ea6b-d994-4c4e-b82c-ebe553677987\">Loading BokehJS ...</span>\n",
       "    </div>"
      ]
     },
     "metadata": {},
     "output_type": "display_data"
    },
    {
     "data": {
      "application/javascript": [
       "\n",
       "(function(root) {\n",
       "  function now() {\n",
       "    return new Date();\n",
       "  }\n",
       "\n",
       "  var force = true;\n",
       "\n",
       "  if (typeof (root._bokeh_onload_callbacks) === \"undefined\" || force === true) {\n",
       "    root._bokeh_onload_callbacks = [];\n",
       "    root._bokeh_is_loading = undefined;\n",
       "  }\n",
       "\n",
       "  var JS_MIME_TYPE = 'application/javascript';\n",
       "  var HTML_MIME_TYPE = 'text/html';\n",
       "  var EXEC_MIME_TYPE = 'application/vnd.bokehjs_exec.v0+json';\n",
       "  var CLASS_NAME = 'output_bokeh rendered_html';\n",
       "\n",
       "  /**\n",
       "   * Render data to the DOM node\n",
       "   */\n",
       "  function render(props, node) {\n",
       "    var script = document.createElement(\"script\");\n",
       "    node.appendChild(script);\n",
       "  }\n",
       "\n",
       "  /**\n",
       "   * Handle when an output is cleared or removed\n",
       "   */\n",
       "  function handleClearOutput(event, handle) {\n",
       "    var cell = handle.cell;\n",
       "\n",
       "    var id = cell.output_area._bokeh_element_id;\n",
       "    var server_id = cell.output_area._bokeh_server_id;\n",
       "    // Clean up Bokeh references\n",
       "    if (id !== undefined) {\n",
       "      Bokeh.index[id].model.document.clear();\n",
       "      delete Bokeh.index[id];\n",
       "    }\n",
       "\n",
       "    if (server_id !== undefined) {\n",
       "      // Clean up Bokeh references\n",
       "      var cmd = \"from bokeh.io.state import curstate; print(curstate().uuid_to_server['\" + server_id + \"'].get_sessions()[0].document.roots[0]._id)\";\n",
       "      cell.notebook.kernel.execute(cmd, {\n",
       "        iopub: {\n",
       "          output: function(msg) {\n",
       "            var element_id = msg.content.text.trim();\n",
       "            Bokeh.index[element_id].model.document.clear();\n",
       "            delete Bokeh.index[element_id];\n",
       "          }\n",
       "        }\n",
       "      });\n",
       "      // Destroy server and session\n",
       "      var cmd = \"import bokeh.io.notebook as ion; ion.destroy_server('\" + server_id + \"')\";\n",
       "      cell.notebook.kernel.execute(cmd);\n",
       "    }\n",
       "  }\n",
       "\n",
       "  /**\n",
       "   * Handle when a new output is added\n",
       "   */\n",
       "  function handleAddOutput(event, handle) {\n",
       "    var output_area = handle.output_area;\n",
       "    var output = handle.output;\n",
       "\n",
       "    // limit handleAddOutput to display_data with EXEC_MIME_TYPE content only\n",
       "    if ((output.output_type != \"display_data\") || (!output.data.hasOwnProperty(EXEC_MIME_TYPE))) {\n",
       "      return\n",
       "    }\n",
       "\n",
       "    var toinsert = output_area.element.find(\".\" + CLASS_NAME.split(' ')[0]);\n",
       "\n",
       "    if (output.metadata[EXEC_MIME_TYPE][\"id\"] !== undefined) {\n",
       "      toinsert[0].firstChild.textContent = output.data[JS_MIME_TYPE];\n",
       "      // store reference to embed id on output_area\n",
       "      output_area._bokeh_element_id = output.metadata[EXEC_MIME_TYPE][\"id\"];\n",
       "    }\n",
       "    if (output.metadata[EXEC_MIME_TYPE][\"server_id\"] !== undefined) {\n",
       "      var bk_div = document.createElement(\"div\");\n",
       "      bk_div.innerHTML = output.data[HTML_MIME_TYPE];\n",
       "      var script_attrs = bk_div.children[0].attributes;\n",
       "      for (var i = 0; i < script_attrs.length; i++) {\n",
       "        toinsert[0].firstChild.setAttribute(script_attrs[i].name, script_attrs[i].value);\n",
       "      }\n",
       "      // store reference to server id on output_area\n",
       "      output_area._bokeh_server_id = output.metadata[EXEC_MIME_TYPE][\"server_id\"];\n",
       "    }\n",
       "  }\n",
       "\n",
       "  function register_renderer(events, OutputArea) {\n",
       "\n",
       "    function append_mime(data, metadata, element) {\n",
       "      // create a DOM node to render to\n",
       "      var toinsert = this.create_output_subarea(\n",
       "        metadata,\n",
       "        CLASS_NAME,\n",
       "        EXEC_MIME_TYPE\n",
       "      );\n",
       "      this.keyboard_manager.register_events(toinsert);\n",
       "      // Render to node\n",
       "      var props = {data: data, metadata: metadata[EXEC_MIME_TYPE]};\n",
       "      render(props, toinsert[0]);\n",
       "      element.append(toinsert);\n",
       "      return toinsert\n",
       "    }\n",
       "\n",
       "    /* Handle when an output is cleared or removed */\n",
       "    events.on('clear_output.CodeCell', handleClearOutput);\n",
       "    events.on('delete.Cell', handleClearOutput);\n",
       "\n",
       "    /* Handle when a new output is added */\n",
       "    events.on('output_added.OutputArea', handleAddOutput);\n",
       "\n",
       "    /**\n",
       "     * Register the mime type and append_mime function with output_area\n",
       "     */\n",
       "    OutputArea.prototype.register_mime_type(EXEC_MIME_TYPE, append_mime, {\n",
       "      /* Is output safe? */\n",
       "      safe: true,\n",
       "      /* Index of renderer in `output_area.display_order` */\n",
       "      index: 0\n",
       "    });\n",
       "  }\n",
       "\n",
       "  // register the mime type if in Jupyter Notebook environment and previously unregistered\n",
       "  if (root.Jupyter !== undefined) {\n",
       "    var events = require('base/js/events');\n",
       "    var OutputArea = require('notebook/js/outputarea').OutputArea;\n",
       "\n",
       "    if (OutputArea.prototype.mime_types().indexOf(EXEC_MIME_TYPE) == -1) {\n",
       "      register_renderer(events, OutputArea);\n",
       "    }\n",
       "  }\n",
       "\n",
       "  \n",
       "  if (typeof (root._bokeh_timeout) === \"undefined\" || force === true) {\n",
       "    root._bokeh_timeout = Date.now() + 5000;\n",
       "    root._bokeh_failed_load = false;\n",
       "  }\n",
       "\n",
       "  var NB_LOAD_WARNING = {'data': {'text/html':\n",
       "     \"<div style='background-color: #fdd'>\\n\"+\n",
       "     \"<p>\\n\"+\n",
       "     \"BokehJS does not appear to have successfully loaded. If loading BokehJS from CDN, this \\n\"+\n",
       "     \"may be due to a slow or bad network connection. Possible fixes:\\n\"+\n",
       "     \"</p>\\n\"+\n",
       "     \"<ul>\\n\"+\n",
       "     \"<li>re-rerun `output_notebook()` to attempt to load from CDN again, or</li>\\n\"+\n",
       "     \"<li>use INLINE resources instead, as so:</li>\\n\"+\n",
       "     \"</ul>\\n\"+\n",
       "     \"<code>\\n\"+\n",
       "     \"from bokeh.resources import INLINE\\n\"+\n",
       "     \"output_notebook(resources=INLINE)\\n\"+\n",
       "     \"</code>\\n\"+\n",
       "     \"</div>\"}};\n",
       "\n",
       "  function display_loaded() {\n",
       "    var el = document.getElementById(\"abf1ea6b-d994-4c4e-b82c-ebe553677987\");\n",
       "    if (el != null) {\n",
       "      el.textContent = \"BokehJS is loading...\";\n",
       "    }\n",
       "    if (root.Bokeh !== undefined) {\n",
       "      if (el != null) {\n",
       "        el.textContent = \"BokehJS \" + root.Bokeh.version + \" successfully loaded.\";\n",
       "      }\n",
       "    } else if (Date.now() < root._bokeh_timeout) {\n",
       "      setTimeout(display_loaded, 100)\n",
       "    }\n",
       "  }\n",
       "\n",
       "\n",
       "  function run_callbacks() {\n",
       "    try {\n",
       "      root._bokeh_onload_callbacks.forEach(function(callback) { callback() });\n",
       "    }\n",
       "    finally {\n",
       "      delete root._bokeh_onload_callbacks\n",
       "    }\n",
       "    console.info(\"Bokeh: all callbacks have finished\");\n",
       "  }\n",
       "\n",
       "  function load_libs(js_urls, callback) {\n",
       "    root._bokeh_onload_callbacks.push(callback);\n",
       "    if (root._bokeh_is_loading > 0) {\n",
       "      console.log(\"Bokeh: BokehJS is being loaded, scheduling callback at\", now());\n",
       "      return null;\n",
       "    }\n",
       "    if (js_urls == null || js_urls.length === 0) {\n",
       "      run_callbacks();\n",
       "      return null;\n",
       "    }\n",
       "    console.log(\"Bokeh: BokehJS not loaded, scheduling load and callback at\", now());\n",
       "    root._bokeh_is_loading = js_urls.length;\n",
       "    for (var i = 0; i < js_urls.length; i++) {\n",
       "      var url = js_urls[i];\n",
       "      var s = document.createElement('script');\n",
       "      s.src = url;\n",
       "      s.async = false;\n",
       "      s.onreadystatechange = s.onload = function() {\n",
       "        root._bokeh_is_loading--;\n",
       "        if (root._bokeh_is_loading === 0) {\n",
       "          console.log(\"Bokeh: all BokehJS libraries loaded\");\n",
       "          run_callbacks()\n",
       "        }\n",
       "      };\n",
       "      s.onerror = function() {\n",
       "        console.warn(\"failed to load library \" + url);\n",
       "      };\n",
       "      console.log(\"Bokeh: injecting script tag for BokehJS library: \", url);\n",
       "      document.getElementsByTagName(\"head\")[0].appendChild(s);\n",
       "    }\n",
       "  };var element = document.getElementById(\"abf1ea6b-d994-4c4e-b82c-ebe553677987\");\n",
       "  if (element == null) {\n",
       "    console.log(\"Bokeh: ERROR: autoload.js configured with elementid 'abf1ea6b-d994-4c4e-b82c-ebe553677987' but no matching script tag was found. \")\n",
       "    return false;\n",
       "  }\n",
       "\n",
       "  var js_urls = [\"https://cdn.pydata.org/bokeh/release/bokeh-0.12.14.min.js\", \"https://cdn.pydata.org/bokeh/release/bokeh-widgets-0.12.14.min.js\", \"https://cdn.pydata.org/bokeh/release/bokeh-tables-0.12.14.min.js\", \"https://cdn.pydata.org/bokeh/release/bokeh-gl-0.12.14.min.js\"];\n",
       "\n",
       "  var inline_js = [\n",
       "    function(Bokeh) {\n",
       "      Bokeh.set_log_level(\"info\");\n",
       "    },\n",
       "    \n",
       "    function(Bokeh) {\n",
       "      \n",
       "    },\n",
       "    function(Bokeh) {\n",
       "      console.log(\"Bokeh: injecting CSS: https://cdn.pydata.org/bokeh/release/bokeh-0.12.14.min.css\");\n",
       "      Bokeh.embed.inject_css(\"https://cdn.pydata.org/bokeh/release/bokeh-0.12.14.min.css\");\n",
       "      console.log(\"Bokeh: injecting CSS: https://cdn.pydata.org/bokeh/release/bokeh-widgets-0.12.14.min.css\");\n",
       "      Bokeh.embed.inject_css(\"https://cdn.pydata.org/bokeh/release/bokeh-widgets-0.12.14.min.css\");\n",
       "      console.log(\"Bokeh: injecting CSS: https://cdn.pydata.org/bokeh/release/bokeh-tables-0.12.14.min.css\");\n",
       "      Bokeh.embed.inject_css(\"https://cdn.pydata.org/bokeh/release/bokeh-tables-0.12.14.min.css\");\n",
       "    }\n",
       "  ];\n",
       "\n",
       "  function run_inline_js() {\n",
       "    \n",
       "    if ((root.Bokeh !== undefined) || (force === true)) {\n",
       "      for (var i = 0; i < inline_js.length; i++) {\n",
       "        inline_js[i].call(root, root.Bokeh);\n",
       "      }if (force === true) {\n",
       "        display_loaded();\n",
       "      }} else if (Date.now() < root._bokeh_timeout) {\n",
       "      setTimeout(run_inline_js, 100);\n",
       "    } else if (!root._bokeh_failed_load) {\n",
       "      console.log(\"Bokeh: BokehJS failed to load within specified timeout.\");\n",
       "      root._bokeh_failed_load = true;\n",
       "    } else if (force !== true) {\n",
       "      var cell = $(document.getElementById(\"abf1ea6b-d994-4c4e-b82c-ebe553677987\")).parents('.cell').data().cell;\n",
       "      cell.output_area.append_execute_result(NB_LOAD_WARNING)\n",
       "    }\n",
       "\n",
       "  }\n",
       "\n",
       "  if (root._bokeh_is_loading === 0) {\n",
       "    console.log(\"Bokeh: BokehJS loaded, going straight to plotting\");\n",
       "    run_inline_js();\n",
       "  } else {\n",
       "    load_libs(js_urls, function() {\n",
       "      console.log(\"Bokeh: BokehJS plotting callback run at\", now());\n",
       "      run_inline_js();\n",
       "    });\n",
       "  }\n",
       "}(window));"
      ],
      "application/vnd.bokehjs_load.v0+json": "\n(function(root) {\n  function now() {\n    return new Date();\n  }\n\n  var force = true;\n\n  if (typeof (root._bokeh_onload_callbacks) === \"undefined\" || force === true) {\n    root._bokeh_onload_callbacks = [];\n    root._bokeh_is_loading = undefined;\n  }\n\n  \n\n  \n  if (typeof (root._bokeh_timeout) === \"undefined\" || force === true) {\n    root._bokeh_timeout = Date.now() + 5000;\n    root._bokeh_failed_load = false;\n  }\n\n  var NB_LOAD_WARNING = {'data': {'text/html':\n     \"<div style='background-color: #fdd'>\\n\"+\n     \"<p>\\n\"+\n     \"BokehJS does not appear to have successfully loaded. If loading BokehJS from CDN, this \\n\"+\n     \"may be due to a slow or bad network connection. Possible fixes:\\n\"+\n     \"</p>\\n\"+\n     \"<ul>\\n\"+\n     \"<li>re-rerun `output_notebook()` to attempt to load from CDN again, or</li>\\n\"+\n     \"<li>use INLINE resources instead, as so:</li>\\n\"+\n     \"</ul>\\n\"+\n     \"<code>\\n\"+\n     \"from bokeh.resources import INLINE\\n\"+\n     \"output_notebook(resources=INLINE)\\n\"+\n     \"</code>\\n\"+\n     \"</div>\"}};\n\n  function display_loaded() {\n    var el = document.getElementById(\"abf1ea6b-d994-4c4e-b82c-ebe553677987\");\n    if (el != null) {\n      el.textContent = \"BokehJS is loading...\";\n    }\n    if (root.Bokeh !== undefined) {\n      if (el != null) {\n        el.textContent = \"BokehJS \" + root.Bokeh.version + \" successfully loaded.\";\n      }\n    } else if (Date.now() < root._bokeh_timeout) {\n      setTimeout(display_loaded, 100)\n    }\n  }\n\n\n  function run_callbacks() {\n    try {\n      root._bokeh_onload_callbacks.forEach(function(callback) { callback() });\n    }\n    finally {\n      delete root._bokeh_onload_callbacks\n    }\n    console.info(\"Bokeh: all callbacks have finished\");\n  }\n\n  function load_libs(js_urls, callback) {\n    root._bokeh_onload_callbacks.push(callback);\n    if (root._bokeh_is_loading > 0) {\n      console.log(\"Bokeh: BokehJS is being loaded, scheduling callback at\", now());\n      return null;\n    }\n    if (js_urls == null || js_urls.length === 0) {\n      run_callbacks();\n      return null;\n    }\n    console.log(\"Bokeh: BokehJS not loaded, scheduling load and callback at\", now());\n    root._bokeh_is_loading = js_urls.length;\n    for (var i = 0; i < js_urls.length; i++) {\n      var url = js_urls[i];\n      var s = document.createElement('script');\n      s.src = url;\n      s.async = false;\n      s.onreadystatechange = s.onload = function() {\n        root._bokeh_is_loading--;\n        if (root._bokeh_is_loading === 0) {\n          console.log(\"Bokeh: all BokehJS libraries loaded\");\n          run_callbacks()\n        }\n      };\n      s.onerror = function() {\n        console.warn(\"failed to load library \" + url);\n      };\n      console.log(\"Bokeh: injecting script tag for BokehJS library: \", url);\n      document.getElementsByTagName(\"head\")[0].appendChild(s);\n    }\n  };var element = document.getElementById(\"abf1ea6b-d994-4c4e-b82c-ebe553677987\");\n  if (element == null) {\n    console.log(\"Bokeh: ERROR: autoload.js configured with elementid 'abf1ea6b-d994-4c4e-b82c-ebe553677987' but no matching script tag was found. \")\n    return false;\n  }\n\n  var js_urls = [\"https://cdn.pydata.org/bokeh/release/bokeh-0.12.14.min.js\", \"https://cdn.pydata.org/bokeh/release/bokeh-widgets-0.12.14.min.js\", \"https://cdn.pydata.org/bokeh/release/bokeh-tables-0.12.14.min.js\", \"https://cdn.pydata.org/bokeh/release/bokeh-gl-0.12.14.min.js\"];\n\n  var inline_js = [\n    function(Bokeh) {\n      Bokeh.set_log_level(\"info\");\n    },\n    \n    function(Bokeh) {\n      \n    },\n    function(Bokeh) {\n      console.log(\"Bokeh: injecting CSS: https://cdn.pydata.org/bokeh/release/bokeh-0.12.14.min.css\");\n      Bokeh.embed.inject_css(\"https://cdn.pydata.org/bokeh/release/bokeh-0.12.14.min.css\");\n      console.log(\"Bokeh: injecting CSS: https://cdn.pydata.org/bokeh/release/bokeh-widgets-0.12.14.min.css\");\n      Bokeh.embed.inject_css(\"https://cdn.pydata.org/bokeh/release/bokeh-widgets-0.12.14.min.css\");\n      console.log(\"Bokeh: injecting CSS: https://cdn.pydata.org/bokeh/release/bokeh-tables-0.12.14.min.css\");\n      Bokeh.embed.inject_css(\"https://cdn.pydata.org/bokeh/release/bokeh-tables-0.12.14.min.css\");\n    }\n  ];\n\n  function run_inline_js() {\n    \n    if ((root.Bokeh !== undefined) || (force === true)) {\n      for (var i = 0; i < inline_js.length; i++) {\n        inline_js[i].call(root, root.Bokeh);\n      }if (force === true) {\n        display_loaded();\n      }} else if (Date.now() < root._bokeh_timeout) {\n      setTimeout(run_inline_js, 100);\n    } else if (!root._bokeh_failed_load) {\n      console.log(\"Bokeh: BokehJS failed to load within specified timeout.\");\n      root._bokeh_failed_load = true;\n    } else if (force !== true) {\n      var cell = $(document.getElementById(\"abf1ea6b-d994-4c4e-b82c-ebe553677987\")).parents('.cell').data().cell;\n      cell.output_area.append_execute_result(NB_LOAD_WARNING)\n    }\n\n  }\n\n  if (root._bokeh_is_loading === 0) {\n    console.log(\"Bokeh: BokehJS loaded, going straight to plotting\");\n    run_inline_js();\n  } else {\n    load_libs(js_urls, function() {\n      console.log(\"Bokeh: BokehJS plotting callback run at\", now());\n      run_inline_js();\n    });\n  }\n}(window));"
     },
     "metadata": {},
     "output_type": "display_data"
    }
   ],
   "source": [
    "output_notebook()"
   ]
  },
  {
   "cell_type": "code",
   "execution_count": 8,
   "metadata": {
    "collapsed": true
   },
   "outputs": [],
   "source": [
    "def fmt_cool(ds_in):\n",
    "    ds = ds_in.copy(deep=True)\n",
    "    if 'igg' in ds.dims:\n",
    "        ds = ds.sel(igg=1)\n",
    "\n",
    "    if 'g' in ds.dims:\n",
    "        ds = ds.sum('g')\n",
    "            \n",
    "    if 'band' in ds.dims:\n",
    "        try:\n",
    "            ds = ds.squeeze('band')\n",
    "        except ValueError:\n",
    "            ds = ds.sum('band')\n",
    "                \n",
    "    return ds['coolrg']\n",
    "\n",
    "\n",
    "def pltdata_cooling_1(ds_cool=None,\n",
    "                      ds_cool_crd=None, ds_cool_wgt=None):\n",
    "    \n",
    "\n",
    "\n",
    "    colors = all_palettes['Set1'][4]\n",
    "    data = [{'label': 'CLIRAD `coolr_bands`',\n",
    "             'srs': fmt_cool(ds_cool),\n",
    "             'line_dash': 'dashed', 'line_width': 5,\n",
    "             'color': colors[0], 'alpha': .6},\n",
    "            {'label': 'CRD',\n",
    "             'srs': fmt_cool(ds_cool_crd),\n",
    "             'line_dash': 'solid', 'line_width': 1.5,\n",
    "             'marker': 'circle', 'marker_size': 5,\n",
    "             'color': colors[2], 'alpha': 1,},\n",
    "            {'label': 'WGT igg=10 wgt_flux=2',\n",
    "             'srs': fmt_cool(ds_cool_wgt),\n",
    "             'line_dash': 'solid', 'line_width': 3,\n",
    "             'marker': 'square', 'marker_size': 5,\n",
    "             'color': colors[3], 'alpha': .6}]\n",
    "    return data\n",
    "\n",
    "\n",
    "def nice_xlims(pltdata=None, prange=None):\n",
    "    \n",
    "    def get_slice(srs):\n",
    "        return srs.sel(pressure=slice(*prange))\n",
    "    \n",
    "    srss = [d['srs'] for d in pltdata]\n",
    "    vmin = min([get_slice(srs).min() for srs in srss])\n",
    "    vmax = max([get_slice(srs).max() for srs in srss])\n",
    "    dv = (vmax - vmin) * .01\n",
    "    return float(vmin - dv), float(vmax + dv)\n",
    "    \n",
    "\n",
    "def plt_cooling_bokeh(pltdata=None):\n",
    "    '''\n",
    "    Plot a list of cooling rate profiles using bokeh.\n",
    "    '''\n",
    "    ymin = 1e-2 \n",
    "    ymax = 1020 \n",
    "        \n",
    "    p1 = figure(title=\"Linear pressure scale\", \n",
    "                plot_width=400)        \n",
    "    xmin, xmax = nice_xlims(pltdata, prange=(50, 1050))\n",
    "    for d in pltdata:\n",
    "        if 'marker' in d:\n",
    "            getattr(p1, d['marker'])(d['srs'].values, \n",
    "                    d['srs'].coords['pressure'].values,\n",
    "                    color=d['color'], alpha=.7)\n",
    "        p1.line(d['srs'].values, \n",
    "                d['srs'].coords['pressure'].values,\n",
    "                color=d['color'], alpha=d['alpha'], \n",
    "                line_width=d['line_width'], line_dash=d['line_dash'])\n",
    "    \n",
    "    p1.y_range = Range1d(ymax, ymin)\n",
    "    p1.yaxis.axis_label = 'pressure [mb]'   \n",
    "    p1.x_range = Range1d(xmin, xmax)\n",
    "    p1.xaxis.axis_label = 'cooling rate [K/day]'\n",
    "            \n",
    "    p2 = figure(title='Log pressure scale', y_axis_type='log',\n",
    "                plot_width=560)\n",
    "    xmin, xmax = nice_xlims(pltdata, prange=(.01, 200))\n",
    "    \n",
    "    rs = []\n",
    "    for d in pltdata:\n",
    "        rd = []\n",
    "        if 'marker' in d:\n",
    "            r_mark = getattr(p2, d['marker'])(d['srs'].values, \n",
    "                        d['srs'].coords['pressure'].values,\n",
    "                        color=d['color'], alpha=.7)\n",
    "            rd.append(r_mark)\n",
    "        r_line = p2.line(d['srs'].values, \n",
    "                    d['srs'].coords['pressure'].values,\n",
    "                    color=d['color'], alpha=d['alpha'], \n",
    "                    line_width=d['line_width'], line_dash=d['line_dash'])\n",
    "        rd.append(r_line)\n",
    "      \n",
    "        rs.append(rd)\n",
    "        \n",
    "    p2.y_range = Range1d(ymax, ymin)  \n",
    "    p2.yaxis.axis_label = 'pressure [mb]'\n",
    "    \n",
    "    p2.x_range = Range1d(xmin, xmax)\n",
    "    p2.xaxis.axis_label = 'cooling rate [K/day]'\n",
    "    \n",
    "    items = [(d['label'], r) for r, d in zip(rs, pltdata)]\n",
    "    legend = Legend(items=items, location=(10, -30))\n",
    "    legend.label_text_font_size = '8pt'\n",
    "    \n",
    "    p2.add_layout(legend, 'right')  \n",
    "    \n",
    "    show(gridplot(p1, p2, ncols=2, plot_height=500))\n",
    "    \n",
    "\n",
    "def script_plt_cooling():\n",
    "    pltdata = pltdata_cooling_1(\n",
    "        ds_cool=DS_COOL,\n",
    "        ds_cool_crd=DS_COOL_CRD,\n",
    "        ds_cool_wgt=DS_COOL_WGT)\n",
    "    plt_cooling_bokeh(pltdata=pltdata)\n",
    "    print('''FIGURE. Cooling rate profiles.''')"
   ]
  },
  {
   "cell_type": "code",
   "execution_count": 9,
   "metadata": {
    "collapsed": true
   },
   "outputs": [],
   "source": [
    "def fmt_flux(ds_in):\n",
    "    ds = ds_in.copy(deep=True)\n",
    "    \n",
    "    for l in ('level', 'layer'):\n",
    "        if l in ds.data_vars:\n",
    "            if len(ds[l].dims) > 1:\n",
    "                surface = {d: 0 for d in ds.dims if d != 'pressure'}\n",
    "                coord_level = ds[l][surface]\n",
    "                ds.coords[l] = ('pressure', coord_level)\n",
    "            else:\n",
    "                ds.coords[l] = ('pressure', ds[l])\n",
    "        \n",
    "    ds = ds.isel(pressure=[0, 23, -1])\n",
    "        \n",
    "    if 'igg' in ds.dims:\n",
    "        ds = ds.sel(igg=[1])\n",
    "        ds = ds.squeeze('igg').drop('igg')\n",
    "    \n",
    "    if 'g' in ds.dims:\n",
    "        ds = ds.sum('g')\n",
    "            \n",
    "    if 'band' in ds.dims:\n",
    "        try:\n",
    "            ds = ds.squeeze('band').drop('band')\n",
    "        except ValueError:\n",
    "            ds = ds.sum('band')\n",
    "                \n",
    "    df = ds.to_dataframe()\n",
    "    df = df.set_index('level', append=True)               \n",
    "    return df\n",
    "\n",
    "\n",
    "def tbdata_flux(ds_flux=None, ds_flux_crd=None, ds_flux_wgt=None):\n",
    "    ilevels = [0, 23, -1]\n",
    "            \n",
    "    benchmark = {'label': 'WGT igg=10 wgt_flux=1',\n",
    "                 'df': fmt_flux(ds_flux_wgt)}\n",
    "    \n",
    "    tbs = [{'label': 'CRD',\n",
    "            'df': fmt_flux(ds_flux_crd)},\n",
    "           {'label': 'CLIRAD',\n",
    "            'df': fmt_flux(ds_flux)}]\n",
    "    \n",
    "    data = {'benchmark': benchmark, 'others': tbs}\n",
    "    return data\n",
    "\n",
    "\n",
    "def tb_flux(tbdata=None):\n",
    "    benchmark = tbdata['benchmark']\n",
    "    others = tbdata['others']\n",
    "    \n",
    "    def show_tb(d=None):\n",
    "        display.display(d['df'])\n",
    "        print('Table.', 'Fluxes.', d['label'])\n",
    "        \n",
    "    def show_tbdiff(d0=None, d=None):\n",
    "        df = d['df']\n",
    "        df.index = d0['df'].index\n",
    "        display.display(df - d0['df'])\n",
    "        print('Table.', 'Fluxes.', \n",
    "              '({}) - ({})'.format(d['label'], d0['label']))\n",
    "        \n",
    "    show_tb(benchmark)\n",
    "    for d in others:\n",
    "        show_tb(d)\n",
    "        \n",
    "    for d in others:\n",
    "        show_tbdiff(d=d, d0=benchmark)\n",
    "        \n",
    "        \n",
    "def script_tb_flux():\n",
    "    data = tbdata_flux(ds_flux=DS_FLUX,\n",
    "                       ds_flux_crd=DS_FLUX_CRD,\n",
    "                       ds_flux_wgt=DS_FLUX_WGT)\n",
    "    tb_flux(tbdata=data)"
   ]
  },
  {
   "cell_type": "code",
   "execution_count": 10,
   "metadata": {
    "collapsed": true
   },
   "outputs": [],
   "source": [
    "def band_map():\n",
    "    '''\n",
    "    Maps spectral bands in lblnew to spectral bands in clirad.\n",
    "    '''\n",
    "    lblnew2clirad = {'1': '1',\n",
    "            '2': '2',\n",
    "            '3a': '3',\n",
    "            '3b': '4',\n",
    "            '3c': '5',\n",
    "            '4': '6', \n",
    "            '5': '7',\n",
    "            '6': '8',\n",
    "            '7': '9', \n",
    "            '8': '10',\n",
    "            '9': '11'}\n",
    "    \n",
    "    clirad2lblnew = {clirad: lblnew \n",
    "                     for lblnew, clirad in lblnew2clirad.items()}\n",
    "    return clirad2lblnew\n",
    "\n",
    "\n",
    "def gasbands():\n",
    "    bmap = band_map()\n",
    "    gases = list(PARAM['molecule'].keys())\n",
    "    \n",
    "    bands = [bmap[str(b)] for b in PARAM['band']]\n",
    "    return list(itertools.product(gases, bands))\n",
    "\n",
    "\n",
    "def print_bestfit_params():\n",
    "    print('Best-fit values for each (gas, band)')\n",
    "    print('------------------------------------')\n",
    "    for gas, band in gasbands():\n",
    "        print('o {} band{}'.format(gas, band))\n",
    "        param = bestfits.kdist_params(molecule=gas, band=band)\n",
    "        for name, value in sorted(param.items()):\n",
    "            print(2 * ' ' + '{} = {}'.format(name, value))\n",
    "\n",
    "        \n",
    "def print_input_param():        \n",
    "    for name, value in PARAM.items():\n",
    "        print('{} = {}'.format(name, value))\n",
    "        \n",
    "        \n",
    "def print_lblnew_param():\n",
    "    for name, value in sorted(PARAM_LBLNEW.items()):\n",
    "        print('{} = {}'.format(name, value))\n"
   ]
  },
  {
   "cell_type": "code",
   "execution_count": 11,
   "metadata": {
    "collapsed": true,
    "scrolled": false
   },
   "outputs": [],
   "source": [
    "def show_html(s):\n",
    "    display.display(display.HTML(s))\n",
    "\n",
    "    \n",
    "def show_markdown(s):\n",
    "    display.display(display.Markdown(s))\n",
    "\n",
    "    \n",
    "def script():\n",
    "    \n",
    "    title = '### CLIRAD-LW'\n",
    "    s_input = 'Input Parameters'\n",
    "    s_lblnew_param = 'LBLNEW case compaired against'\n",
    "    s_bestfits = 'Best-fit Parameters'\n",
    "    s_plt_cooling = 'Cooling Rate Profiles'\n",
    "    s_tb_flux = 'Flux Comparison'\n",
    "    \n",
    "    # title\n",
    "    show_markdown('### CLIRAD-LW')\n",
    "    \n",
    "    # TOC\n",
    "    show_markdown('### Table of Contents')\n",
    "    show_html(climahtml.getHTML_hrefanchor(s_input))\n",
    "    show_html(climahtml.getHTML_hrefanchor(s_lblnew_param))\n",
    "    show_html(climahtml.getHTML_hrefanchor(s_plt_cooling))\n",
    "    show_html(climahtml.getHTML_hrefanchor(s_tb_flux))\n",
    "    show_html(climahtml.getHTML_hrefanchor(s_bestfits))\n",
    "    \n",
    "    # Input parameters\n",
    "    show_html(climahtml.getHTML_idanchor(s_input))\n",
    "    show_markdown(climahtml.getMarkdown_sectitle(s_input))\n",
    "    print_input_param()\n",
    "    \n",
    "    # LBLNEW parameters \n",
    "    show_html(climahtml.getHTML_idanchor(s_lblnew_param))\n",
    "    show_markdown(climahtml.getMarkdown_sectitle(s_lblnew_param))\n",
    "    print_lblnew_param()\n",
    "    \n",
    "    # Cooling rate profiles\n",
    "    show_html(climahtml.getHTML_idanchor(s_plt_cooling))\n",
    "    show_markdown(climahtml.getMarkdown_sectitle(s_plt_cooling))\n",
    "    script_plt_cooling()\n",
    "    \n",
    "    # Flux comparison\n",
    "    show_html(climahtml.getHTML_idanchor(s_tb_flux))\n",
    "    show_markdown(climahtml.getMarkdown_sectitle(s_tb_flux))\n",
    "    script_tb_flux()\n",
    "    \n",
    "    # Best-fit values\n",
    "    show_html(climahtml.getHTML_idanchor(s_bestfits))\n",
    "    show_markdown(climahtml.getMarkdown_sectitle(s_bestfits))\n",
    "    print_bestfit_params()\n",
    "   \n",
    "    "
   ]
  },
  {
   "cell_type": "code",
   "execution_count": 12,
   "metadata": {
    "collapsed": true,
    "scrolled": false
   },
   "outputs": [
    {
     "data": {
      "text/markdown": [
       "### CLIRAD-LW"
      ],
      "text/plain": [
       "<IPython.core.display.Markdown object>"
      ]
     },
     "metadata": {},
     "output_type": "display_data"
    },
    {
     "data": {
      "text/markdown": [
       "### Table of Contents"
      ],
      "text/plain": [
       "<IPython.core.display.Markdown object>"
      ]
     },
     "metadata": {},
     "output_type": "display_data"
    },
    {
     "data": {
      "text/html": [
       "<a href=\"#Input_Parameters\">Input Parameters</a>"
      ],
      "text/plain": [
       "<IPython.core.display.HTML object>"
      ]
     },
     "metadata": {},
     "output_type": "display_data"
    },
    {
     "data": {
      "text/html": [
       "<a href=\"#LBLNEW_case_compaired_against\">LBLNEW case compaired against</a>"
      ],
      "text/plain": [
       "<IPython.core.display.HTML object>"
      ]
     },
     "metadata": {},
     "output_type": "display_data"
    },
    {
     "data": {
      "text/html": [
       "<a href=\"#Cooling_Rate_Profiles\">Cooling Rate Profiles</a>"
      ],
      "text/plain": [
       "<IPython.core.display.HTML object>"
      ]
     },
     "metadata": {},
     "output_type": "display_data"
    },
    {
     "data": {
      "text/html": [
       "<a href=\"#Flux_Comparison\">Flux Comparison</a>"
      ],
      "text/plain": [
       "<IPython.core.display.HTML object>"
      ]
     },
     "metadata": {},
     "output_type": "display_data"
    },
    {
     "data": {
      "text/html": [
       "<a href=\"#Best-fit_Parameters\">Best-fit Parameters</a>"
      ],
      "text/plain": [
       "<IPython.core.display.HTML object>"
      ]
     },
     "metadata": {},
     "output_type": "display_data"
    },
    {
     "data": {
      "text/html": [
       "<a id=\"Input_Parameters\"></a>"
      ],
      "text/plain": [
       "<IPython.core.display.HTML object>"
      ]
     },
     "metadata": {},
     "output_type": "display_data"
    },
    {
     "data": {
      "text/markdown": [
       "# Input Parameters"
      ],
      "text/plain": [
       "<IPython.core.display.Markdown object>"
      ]
     },
     "metadata": {},
     "output_type": "display_data"
    },
    {
     "name": "stdout",
     "output_type": "stream",
     "text": [
      "atmpro = saw\n",
      "band = [3]\n",
      "commitnumber = 7fe1447\n",
      "molecule = {'co2': 0.0004}\n",
      "tsfc = 257\n"
     ]
    },
    {
     "data": {
      "text/html": [
       "<a id=\"LBLNEW_case_compaired_against\"></a>"
      ],
      "text/plain": [
       "<IPython.core.display.HTML object>"
      ]
     },
     "metadata": {},
     "output_type": "display_data"
    },
    {
     "data": {
      "text/markdown": [
       "# LBLNEW case compaired against"
      ],
      "text/plain": [
       "<IPython.core.display.Markdown object>"
      ]
     },
     "metadata": {},
     "output_type": "display_data"
    },
    {
     "name": "stdout",
     "output_type": "stream",
     "text": [
      "atmpro = saw\n",
      "band = 3a\n",
      "commitnumber = a06b618\n",
      "conc = 0.0004\n",
      "dv = 0.001\n",
      "klin = 6.375563e-24\n",
      "molecule = co2\n",
      "ng_adju = [0, 0, 0]\n",
      "ng_refs = [3, 2, 4]\n",
      "nv = 1000\n",
      "option_compute_btable = 0\n",
      "option_compute_ktable = 0\n",
      "option_wgt_flux = 1\n",
      "option_wgt_k = 1\n",
      "ref_pts = [(1, 250), (10, 250), (500, 250)]\n",
      "tsfc = 257\n",
      "vmax = 620\n",
      "vmin = 540\n",
      "w_diffuse = [(1.6, 1.6, 1.7), (1.75, 1.75), (1.55, 1.55, 1.6, 1.85)]\n",
      "wgt = [(0.7, 0.3, 0.7), (0.7, 0.6), (0.4, 0.5, 0.8, 0.95)]\n"
     ]
    },
    {
     "data": {
      "text/html": [
       "<a id=\"Cooling_Rate_Profiles\"></a>"
      ],
      "text/plain": [
       "<IPython.core.display.HTML object>"
      ]
     },
     "metadata": {},
     "output_type": "display_data"
    },
    {
     "data": {
      "text/markdown": [
       "# Cooling Rate Profiles"
      ],
      "text/plain": [
       "<IPython.core.display.Markdown object>"
      ]
     },
     "metadata": {},
     "output_type": "display_data"
    },
    {
     "data": {
      "text/html": [
       "\n",
       "<div class=\"bk-root\">\n",
       "    <div class=\"bk-plotdiv\" id=\"53c966ba-cc4c-4210-94b1-dc5f3b5a2b15\"></div>\n",
       "</div>"
      ]
     },
     "metadata": {},
     "output_type": "display_data"
    },
    {
     "data": {
      "application/javascript": [
       "(function(root) {\n",
       "  function embed_document(root) {\n",
       "    \n",
       "  var docs_json = {\"9f29c31d-1a40-4d8a-951d-11c8d3917e00\":{\"roots\":{\"references\":[{\"attributes\":{\"fill_alpha\":{\"value\":0.7},\"fill_color\":{\"value\":\"#4daf4a\"},\"line_alpha\":{\"value\":0.7},\"line_color\":{\"value\":\"#4daf4a\"},\"x\":{\"field\":\"x\"},\"y\":{\"field\":\"y\"}},\"id\":\"ede85232-bdda-4cc6-ad3f-ac3d127106b4\",\"type\":\"Circle\"},{\"attributes\":{\"fill_alpha\":{\"value\":0.1},\"fill_color\":{\"value\":\"#1f77b4\"},\"line_alpha\":{\"value\":0.1},\"line_color\":{\"value\":\"#1f77b4\"},\"x\":{\"field\":\"x\"},\"y\":{\"field\":\"y\"}},\"id\":\"fff40d2c-cc4b-49ca-b6c3-1bca78dfaa06\",\"type\":\"Square\"},{\"attributes\":{\"label\":{\"value\":\"WGT igg=10 wgt_flux=2\"},\"renderers\":[{\"id\":\"5ae45156-2ebd-4060-8838-3b47dfd67fa5\",\"type\":\"GlyphRenderer\"},{\"id\":\"90c1d692-0a33-4512-bdec-463f52e4f621\",\"type\":\"GlyphRenderer\"}]},\"id\":\"bde18a68-a473-4d66-b2ab-74e99730f3db\",\"type\":\"LegendItem\"},{\"attributes\":{},\"id\":\"37f92eff-6acb-4b6a-80a5-014d162b1207\",\"type\":\"ResetTool\"},{\"attributes\":{\"source\":{\"id\":\"e3107c2b-5c3a-4ebc-9166-ca20c724f636\",\"type\":\"ColumnDataSource\"}},\"id\":\"219bad11-1bfd-44e2-9e05-a5cbc7cfebf5\",\"type\":\"CDSView\"},{\"attributes\":{\"axis_label\":\"cooling rate [K/day]\",\"formatter\":{\"id\":\"fbb74868-c412-492d-8d0a-6cbcb96d58b0\",\"type\":\"BasicTickFormatter\"},\"plot\":{\"id\":\"ed5c2b14-6be9-4699-8dae-bc6c2a487545\",\"subtype\":\"Figure\",\"type\":\"Plot\"},\"ticker\":{\"id\":\"144fb5ed-d66f-4349-b00e-49496065f377\",\"type\":\"BasicTicker\"}},\"id\":\"bbe20bd3-61af-4b17-a818-86ecd8b92474\",\"type\":\"LinearAxis\"},{\"attributes\":{\"data_source\":{\"id\":\"9dc83350-69d8-44ab-ac73-16cb7c675dfc\",\"type\":\"ColumnDataSource\"},\"glyph\":{\"id\":\"68d41058-4c54-43b0-b779-b3df53e4d072\",\"type\":\"Line\"},\"hover_glyph\":null,\"muted_glyph\":null,\"nonselection_glyph\":{\"id\":\"06d9c207-c167-4e27-8929-930a8410666f\",\"type\":\"Line\"},\"selection_glyph\":null,\"view\":{\"id\":\"8d2a1515-cb40-415f-97d7-54e1eb39df3e\",\"type\":\"CDSView\"}},\"id\":\"c692c802-12f3-422f-bba5-f4d053a9c47c\",\"type\":\"GlyphRenderer\"},{\"attributes\":{\"data_source\":{\"id\":\"c277c4de-01bf-4fb8-8bda-0e87b96e9385\",\"type\":\"ColumnDataSource\"},\"glyph\":{\"id\":\"daa1325a-e1bb-4bce-8764-b6c2dffc8fca\",\"type\":\"Line\"},\"hover_glyph\":null,\"muted_glyph\":null,\"nonselection_glyph\":{\"id\":\"d5bcda53-4c75-45ff-b32a-5bc489423395\",\"type\":\"Line\"},\"selection_glyph\":null,\"view\":{\"id\":\"2b71f136-464f-4624-b2ee-278a1c441134\",\"type\":\"CDSView\"}},\"id\":\"8a5d0e61-6ff3-430b-ab26-3b1d4bea8254\",\"type\":\"GlyphRenderer\"},{\"attributes\":{},\"id\":\"8e68f89d-cdd7-47a8-9011-10f9f5b71493\",\"type\":\"LinearScale\"},{\"attributes\":{},\"id\":\"785ea277-8112-4628-9f1f-285c538857e6\",\"type\":\"LinearScale\"},{\"attributes\":{\"plot\":{\"id\":\"7006b7b6-7a1e-465c-b533-628de42d6122\",\"subtype\":\"Figure\",\"type\":\"Plot\"},\"ticker\":{\"id\":\"5f808461-5053-4efb-86cc-2fe29b74e08d\",\"type\":\"BasicTicker\"}},\"id\":\"0fe3afbc-a55e-4b64-aa62-36d902f1e147\",\"type\":\"Grid\"},{\"attributes\":{\"below\":[{\"id\":\"bbe20bd3-61af-4b17-a818-86ecd8b92474\",\"type\":\"LinearAxis\"}],\"left\":[{\"id\":\"29e3a01d-17f7-448b-9c90-be341f3da68a\",\"type\":\"LogAxis\"}],\"plot_height\":500,\"plot_width\":560,\"renderers\":[{\"id\":\"bbe20bd3-61af-4b17-a818-86ecd8b92474\",\"type\":\"LinearAxis\"},{\"id\":\"cd685b12-6082-4ceb-aaec-4f859d887646\",\"type\":\"Grid\"},{\"id\":\"29e3a01d-17f7-448b-9c90-be341f3da68a\",\"type\":\"LogAxis\"},{\"id\":\"3656069c-01b9-4c1a-916a-30dcca66814a\",\"type\":\"Grid\"},{\"id\":\"5eecebe8-93dc-4033-ab9a-c30cd24ce32f\",\"type\":\"BoxAnnotation\"},{\"id\":\"561efcdb-782e-4bc8-805a-da7945b0a88d\",\"type\":\"GlyphRenderer\"},{\"id\":\"3e7b471e-e5fc-432c-a083-5fb84913bb36\",\"type\":\"GlyphRenderer\"},{\"id\":\"12eefaed-70e4-4a6b-b9af-149a51a8ee9d\",\"type\":\"GlyphRenderer\"},{\"id\":\"5ae45156-2ebd-4060-8838-3b47dfd67fa5\",\"type\":\"GlyphRenderer\"},{\"id\":\"90c1d692-0a33-4512-bdec-463f52e4f621\",\"type\":\"GlyphRenderer\"},{\"id\":\"570e416c-e086-4629-9074-d1e42b897027\",\"type\":\"Legend\"}],\"right\":[{\"id\":\"570e416c-e086-4629-9074-d1e42b897027\",\"type\":\"Legend\"}],\"title\":{\"id\":\"597abaf7-c905-494a-8f55-79187d6163c6\",\"type\":\"Title\"},\"toolbar\":{\"id\":\"b74f5d2c-9f2b-4013-88a6-182532136520\",\"type\":\"Toolbar\"},\"toolbar_location\":null,\"x_range\":{\"id\":\"e58f8b07-4a42-4a3a-b20a-61f4775d42df\",\"type\":\"Range1d\"},\"x_scale\":{\"id\":\"8e68f89d-cdd7-47a8-9011-10f9f5b71493\",\"type\":\"LinearScale\"},\"y_range\":{\"id\":\"07672acc-416b-4297-b6ac-afcb5219d105\",\"type\":\"Range1d\"},\"y_scale\":{\"id\":\"0a688bb4-38a3-446f-9715-458953b5355a\",\"type\":\"LogScale\"}},\"id\":\"ed5c2b14-6be9-4699-8dae-bc6c2a487545\",\"subtype\":\"Figure\",\"type\":\"Plot\"},{\"attributes\":{},\"id\":\"a10eaa1e-ed03-499c-9b2d-c8376f6a57f1\",\"type\":\"WheelZoomTool\"},{\"attributes\":{\"axis_label\":\"pressure [mb]\",\"formatter\":{\"id\":\"6f3beeb7-cde1-432d-90d2-05ce31f51010\",\"type\":\"LogTickFormatter\"},\"plot\":{\"id\":\"ed5c2b14-6be9-4699-8dae-bc6c2a487545\",\"subtype\":\"Figure\",\"type\":\"Plot\"},\"ticker\":{\"id\":\"cd009041-19fd-404c-a24e-76e3dde633b1\",\"type\":\"LogTicker\"}},\"id\":\"29e3a01d-17f7-448b-9c90-be341f3da68a\",\"type\":\"LogAxis\"},{\"attributes\":{\"source\":{\"id\":\"aa366385-bfe5-437f-ba35-5e4c7fb92db0\",\"type\":\"ColumnDataSource\"}},\"id\":\"3363f1b4-b023-4f76-b5b8-b68dfa7aec88\",\"type\":\"CDSView\"},{\"attributes\":{},\"id\":\"0a688bb4-38a3-446f-9715-458953b5355a\",\"type\":\"LogScale\"},{\"attributes\":{\"data_source\":{\"id\":\"5e34dbf3-0794-4ce4-9205-5a6a67d2c7cd\",\"type\":\"ColumnDataSource\"},\"glyph\":{\"id\":\"c54213a7-9457-4e0b-9d0d-c771998f279f\",\"type\":\"Circle\"},\"hover_glyph\":null,\"muted_glyph\":null,\"nonselection_glyph\":{\"id\":\"be5c80ca-4365-4d34-93b9-2f80c74460cf\",\"type\":\"Circle\"},\"selection_glyph\":null,\"view\":{\"id\":\"2da18a76-bebe-46d5-a613-80fcdb2c88a4\",\"type\":\"CDSView\"}},\"id\":\"3e7b471e-e5fc-432c-a083-5fb84913bb36\",\"type\":\"GlyphRenderer\"},{\"attributes\":{\"source\":{\"id\":\"c277c4de-01bf-4fb8-8bda-0e87b96e9385\",\"type\":\"ColumnDataSource\"}},\"id\":\"2b71f136-464f-4624-b2ee-278a1c441134\",\"type\":\"CDSView\"},{\"attributes\":{\"ticker\":null},\"id\":\"6f3beeb7-cde1-432d-90d2-05ce31f51010\",\"type\":\"LogTickFormatter\"},{\"attributes\":{},\"id\":\"6a40e92e-58fc-4ed3-bed9-a4b9f0bb8e44\",\"type\":\"SaveTool\"},{\"attributes\":{\"callback\":null,\"column_names\":[\"x\",\"y\"],\"data\":{\"x\":{\"__ndarray__\":\"/kSBVkQ8xj/+fS1J8q3JP3GlM4UtW9E/Hir8e4Fl1j9eZqI3btfbP/mKBeEmz+A/hv7p30PU4z86RZ8LvuDmP0obAT4G3uk/eJrYZ6uf7D/eY3C4mP/uP8NrsEj2YvA/SlqQ1d/g8D+kmVFI2ZHwP/7dbhLSYe4/bHyWSC1x6j/RawDEKV7mP8rLoMGFv+I/yj46qZwt4D9v1yn02znePwbSrmnM3N8/cOJXmuj53T/FgUafRR3XP29sNnPGndE/EC9Nh7O0yz+akR8ENAfGP8Gt/UmMjsE/W+4emjCAvT+ush/KmDa7PxozvpIJ/7g/UkYLzTIqtT8+JIC1JEewP04/oM6Yv6o/I2WtcCg+qj9QqaLKeRWrPxQR5LiXJq0/U8ekWNxjrj80b/42gbmsP8qVSuyNgKk/N9zhmkBapj/4du6mZCejP2+Je+ZTw58/nRqyNvLCmD8vHEzBoIiQP1JT/f1/SXk/SCaBIUzCZT+kjUp2umSFP3Mq1j6RKpU/pK5Qfl5cnT8y+2ro+CuiP84dN/ySTaU/Ukw5zWExqD/h4Ozvf+yqP/7SzWXYh60/B6OMKZADsD8g9RHxLDWxPwiyj2o8TrI/QP299pFOsz8i4t6kEy20Pz6YhXNl5LQ/I9IO87ZytT8cM9mng961P/hyH/51LrY/uP34yhBvtj+RNnGvjq22P2kz2O3N+rY/f+c9peBltz/T9/cpsN+3P2Oohp1VNbg/DAp3eaDhtz9unQ9LAIi2P8Xh7eNHZbQ/vG7a7oz+sT/lwG/dgS2vP7h7FqIM9Kk/\",\"dtype\":\"float64\",\"shape\":[75]},\"y\":{\"__ndarray__\":\"GhExyth1ND/Sv8nbtpRIP2vylNV0PVE/aTum7souWD/At0SJ8fVgPw3Iuahxymc/MSNhhJWvcD/bTfBN02d3P2zb5nxnaoA/CD5h5MAGhz8NmeH1TyaQP+zrCsc9p5Y/LbKd76fGnz/bLW5ISEmmPww9YvTcQq8/JV2OstnstT8Er5Y7M8G+P0c+r3jqkcU/5h99k6ZBzj88bCIzFzjVP4enV8oyxN0//yH99nXg5D8qOpLLf0jtP5kqGJXUifQ/c9cS8kHP/D+/DpwzojQEQIEmwoanVwxA4lgXt9HgE0BSSZ2AJuIbQAMJih9jjiNA5q4l5INuK0AwTKYKRj0zQNv5fmq8/DpAaCJseHrtQkB/+zpwzoxKQM3MzMzMeFJAZmZmZmZqWEAAAAAAAFxeQM3MzMzMJmJAmpmZmZkfZUBmZmZmZhhoQDMzMzMzEWtAAAAAAAAKbkBmZmZmZoFwQM3MzMzM/XFAMzMzMzN6c0CamZmZmfZ0QAAAAAAAc3ZAZmZmZmbvd0DNzMzMzGt5QDMzMzMz6HpAmpmZmZlkfEAAAAAAAOF9QGZmZmZmXX9AZmZmZuZsgECamZmZGSuBQM3MzMxM6YFAAAAAAICngkAzMzMzs2WDQGZmZmbmI4RAmpmZmRnihEDNzMzMTKCFQAAAAACAXoZAMzMzM7Mch0BmZmZm5tqHQJqZmZkZmYhAzczMzExXiUAAAAAAgBWKQDMzMzOz04pAZmZmZuaRi0CamZmZGVCMQM3MzMxMDo1AAAAAAIDMjUAzMzMzs4qOQGZmZmbmSI9A\",\"dtype\":\"float64\",\"shape\":[75]}}},\"id\":\"c509b51d-37cc-4292-82d7-07d4f9dc3e66\",\"type\":\"ColumnDataSource\"},{\"attributes\":{\"dimension\":1,\"plot\":{\"id\":\"ed5c2b14-6be9-4699-8dae-bc6c2a487545\",\"subtype\":\"Figure\",\"type\":\"Plot\"},\"ticker\":{\"id\":\"cd009041-19fd-404c-a24e-76e3dde633b1\",\"type\":\"LogTicker\"}},\"id\":\"3656069c-01b9-4c1a-916a-30dcca66814a\",\"type\":\"Grid\"},{\"attributes\":{\"children\":[{\"id\":\"7006b7b6-7a1e-465c-b533-628de42d6122\",\"subtype\":\"Figure\",\"type\":\"Plot\"},{\"id\":\"ed5c2b14-6be9-4699-8dae-bc6c2a487545\",\"subtype\":\"Figure\",\"type\":\"Plot\"}]},\"id\":\"d0c7e684-d57e-495a-bc05-2a445a75ed1d\",\"type\":\"Row\"},{\"attributes\":{\"data_source\":{\"id\":\"e3107c2b-5c3a-4ebc-9166-ca20c724f636\",\"type\":\"ColumnDataSource\"},\"glyph\":{\"id\":\"50aeec6c-64ea-4e4b-a365-ae5264bb9b2c\",\"type\":\"Line\"},\"hover_glyph\":null,\"muted_glyph\":null,\"nonselection_glyph\":{\"id\":\"4dc547af-37d3-47b4-8f88-f1ec41e8a9d0\",\"type\":\"Line\"},\"selection_glyph\":null,\"view\":{\"id\":\"219bad11-1bfd-44e2-9e05-a5cbc7cfebf5\",\"type\":\"CDSView\"}},\"id\":\"561efcdb-782e-4bc8-805a-da7945b0a88d\",\"type\":\"GlyphRenderer\"},{\"attributes\":{\"num_minor_ticks\":10},\"id\":\"cd009041-19fd-404c-a24e-76e3dde633b1\",\"type\":\"LogTicker\"},{\"attributes\":{},\"id\":\"78c329ec-bcb0-472f-9fe9-46ea70976627\",\"type\":\"LinearScale\"},{\"attributes\":{\"line_alpha\":0.6,\"line_color\":\"#984ea3\",\"line_width\":3,\"x\":{\"field\":\"x\"},\"y\":{\"field\":\"y\"}},\"id\":\"daa1325a-e1bb-4bce-8764-b6c2dffc8fca\",\"type\":\"Line\"},{\"attributes\":{\"children\":[{\"id\":\"d0c7e684-d57e-495a-bc05-2a445a75ed1d\",\"type\":\"Row\"}]},\"id\":\"7dd4bb74-6c9f-42bc-8bb8-c28b1cd9b32c\",\"type\":\"Column\"},{\"attributes\":{\"overlay\":{\"id\":\"bb27f38d-52bf-4e33-813f-b9ceac2ab999\",\"type\":\"BoxAnnotation\"}},\"id\":\"d0115d3c-9c86-4cc7-bb0f-a623402ee292\",\"type\":\"BoxZoomTool\"},{\"attributes\":{\"label\":{\"value\":\"CRD\"},\"renderers\":[{\"id\":\"3e7b471e-e5fc-432c-a083-5fb84913bb36\",\"type\":\"GlyphRenderer\"},{\"id\":\"12eefaed-70e4-4a6b-b9af-149a51a8ee9d\",\"type\":\"GlyphRenderer\"}]},\"id\":\"1262f1da-a29b-440e-a652-10d6eb63bf53\",\"type\":\"LegendItem\"},{\"attributes\":{},\"id\":\"21186f2d-f229-462d-ac5d-2561b7aaef58\",\"type\":\"PanTool\"},{\"attributes\":{\"line_color\":\"#4daf4a\",\"line_width\":1.5,\"x\":{\"field\":\"x\"},\"y\":{\"field\":\"y\"}},\"id\":\"3b7371e8-f29c-4758-8647-3cf6f34cd04b\",\"type\":\"Line\"},{\"attributes\":{},\"id\":\"0239b334-669a-4363-8195-04b18ad79982\",\"type\":\"HelpTool\"},{\"attributes\":{},\"id\":\"fbb74868-c412-492d-8d0a-6cbcb96d58b0\",\"type\":\"BasicTickFormatter\"},{\"attributes\":{},\"id\":\"144fb5ed-d66f-4349-b00e-49496065f377\",\"type\":\"BasicTicker\"},{\"attributes\":{\"axis_label\":\"cooling rate [K/day]\",\"formatter\":{\"id\":\"468f9cda-1fed-4d10-9933-9cec0610a241\",\"type\":\"BasicTickFormatter\"},\"plot\":{\"id\":\"7006b7b6-7a1e-465c-b533-628de42d6122\",\"subtype\":\"Figure\",\"type\":\"Plot\"},\"ticker\":{\"id\":\"5f808461-5053-4efb-86cc-2fe29b74e08d\",\"type\":\"BasicTicker\"}},\"id\":\"68f122f6-6417-47c5-8f7c-7efd0225e089\",\"type\":\"LinearAxis\"},{\"attributes\":{\"data_source\":{\"id\":\"5870373a-d32b-41ad-b4e1-2a9cbd8a6dcd\",\"type\":\"ColumnDataSource\"},\"glyph\":{\"id\":\"3b7371e8-f29c-4758-8647-3cf6f34cd04b\",\"type\":\"Line\"},\"hover_glyph\":null,\"muted_glyph\":null,\"nonselection_glyph\":{\"id\":\"9c441773-ecae-46e2-902e-1c0efe4de957\",\"type\":\"Line\"},\"selection_glyph\":null,\"view\":{\"id\":\"57759822-d693-43d3-b132-617236f261be\",\"type\":\"CDSView\"}},\"id\":\"454d57ca-c7ec-4653-82e7-63906cb526d3\",\"type\":\"GlyphRenderer\"},{\"attributes\":{\"bottom_units\":\"screen\",\"fill_alpha\":{\"value\":0.5},\"fill_color\":{\"value\":\"lightgrey\"},\"left_units\":\"screen\",\"level\":\"overlay\",\"line_alpha\":{\"value\":1.0},\"line_color\":{\"value\":\"black\"},\"line_dash\":[4,4],\"line_width\":{\"value\":2},\"plot\":null,\"render_mode\":\"css\",\"right_units\":\"screen\",\"top_units\":\"screen\"},\"id\":\"5eecebe8-93dc-4033-ab9a-c30cd24ce32f\",\"type\":\"BoxAnnotation\"},{\"attributes\":{\"axis_label\":\"pressure [mb]\",\"formatter\":{\"id\":\"09dc0a92-3ff5-41ec-aefa-9170c54ea8a3\",\"type\":\"BasicTickFormatter\"},\"plot\":{\"id\":\"7006b7b6-7a1e-465c-b533-628de42d6122\",\"subtype\":\"Figure\",\"type\":\"Plot\"},\"ticker\":{\"id\":\"b2d8f575-f636-4d82-aa25-531b8536bc19\",\"type\":\"BasicTicker\"}},\"id\":\"56572643-49ff-47e8-8b5b-a5762c71bbf3\",\"type\":\"LinearAxis\"},{\"attributes\":{\"dimension\":1,\"plot\":{\"id\":\"7006b7b6-7a1e-465c-b533-628de42d6122\",\"subtype\":\"Figure\",\"type\":\"Plot\"},\"ticker\":{\"id\":\"b2d8f575-f636-4d82-aa25-531b8536bc19\",\"type\":\"BasicTicker\"}},\"id\":\"ee3662b4-a5f3-44c9-bdba-691bd1a6896c\",\"type\":\"Grid\"},{\"attributes\":{\"callback\":null,\"end\":0.01,\"start\":1020},\"id\":\"07672acc-416b-4297-b6ac-afcb5219d105\",\"type\":\"Range1d\"},{\"attributes\":{\"source\":{\"id\":\"9dc83350-69d8-44ab-ac73-16cb7c675dfc\",\"type\":\"ColumnDataSource\"}},\"id\":\"8d2a1515-cb40-415f-97d7-54e1eb39df3e\",\"type\":\"CDSView\"},{\"attributes\":{\"data_source\":{\"id\":\"acbdcc5f-51e0-4aa3-80ea-237a2675e65c\",\"type\":\"ColumnDataSource\"},\"glyph\":{\"id\":\"4ccb1238-7f91-4496-a892-0e373a6047b8\",\"type\":\"Line\"},\"hover_glyph\":null,\"muted_glyph\":null,\"nonselection_glyph\":{\"id\":\"e7c4e272-6690-434d-aa16-aa42b1b326c4\",\"type\":\"Line\"},\"selection_glyph\":null,\"view\":{\"id\":\"b29af5fa-9d5e-4c6c-aeb5-eb2c4250ace1\",\"type\":\"CDSView\"}},\"id\":\"12eefaed-70e4-4a6b-b9af-149a51a8ee9d\",\"type\":\"GlyphRenderer\"},{\"attributes\":{},\"id\":\"bf1cb6fd-ba02-4cda-8d07-170e7c71e67b\",\"type\":\"ResetTool\"},{\"attributes\":{\"plot\":{\"id\":\"ed5c2b14-6be9-4699-8dae-bc6c2a487545\",\"subtype\":\"Figure\",\"type\":\"Plot\"},\"ticker\":{\"id\":\"144fb5ed-d66f-4349-b00e-49496065f377\",\"type\":\"BasicTicker\"}},\"id\":\"cd685b12-6082-4ceb-aaec-4f859d887646\",\"type\":\"Grid\"},{\"attributes\":{\"callback\":null,\"end\":0.098772468252,\"start\":0.001115296548},\"id\":\"10497ad9-8053-4e4c-a4d1-f2727a1747e7\",\"type\":\"Range1d\"},{\"attributes\":{},\"id\":\"7ba97115-6c8f-47f9-8079-eaff9b92f05d\",\"type\":\"PanTool\"},{\"attributes\":{\"fill_alpha\":{\"value\":0.7},\"fill_color\":{\"value\":\"#4daf4a\"},\"line_alpha\":{\"value\":0.7},\"line_color\":{\"value\":\"#4daf4a\"},\"x\":{\"field\":\"x\"},\"y\":{\"field\":\"y\"}},\"id\":\"c54213a7-9457-4e0b-9d0d-c771998f279f\",\"type\":\"Circle\"},{\"attributes\":{},\"id\":\"b2d8f575-f636-4d82-aa25-531b8536bc19\",\"type\":\"BasicTicker\"},{\"attributes\":{\"line_alpha\":0.1,\"line_color\":\"#1f77b4\",\"line_dash\":[6],\"line_width\":5,\"x\":{\"field\":\"x\"},\"y\":{\"field\":\"y\"}},\"id\":\"4dc547af-37d3-47b4-8f88-f1ec41e8a9d0\",\"type\":\"Line\"},{\"attributes\":{\"fill_alpha\":{\"value\":0.1},\"fill_color\":{\"value\":\"#1f77b4\"},\"line_alpha\":{\"value\":0.1},\"line_color\":{\"value\":\"#1f77b4\"},\"x\":{\"field\":\"x\"},\"y\":{\"field\":\"y\"}},\"id\":\"be5c80ca-4365-4d34-93b9-2f80c74460cf\",\"type\":\"Circle\"},{\"attributes\":{\"line_alpha\":0.1,\"line_color\":\"#1f77b4\",\"line_width\":3,\"x\":{\"field\":\"x\"},\"y\":{\"field\":\"y\"}},\"id\":\"d5bcda53-4c75-45ff-b32a-5bc489423395\",\"type\":\"Line\"},{\"attributes\":{\"bottom_units\":\"screen\",\"fill_alpha\":{\"value\":0.5},\"fill_color\":{\"value\":\"lightgrey\"},\"left_units\":\"screen\",\"level\":\"overlay\",\"line_alpha\":{\"value\":1.0},\"line_color\":{\"value\":\"black\"},\"line_dash\":[4,4],\"line_width\":{\"value\":2},\"plot\":null,\"render_mode\":\"css\",\"right_units\":\"screen\",\"top_units\":\"screen\"},\"id\":\"bb27f38d-52bf-4e33-813f-b9ceac2ab999\",\"type\":\"BoxAnnotation\"},{\"attributes\":{\"active_drag\":\"auto\",\"active_inspect\":\"auto\",\"active_scroll\":\"auto\",\"active_tap\":\"auto\",\"tools\":[{\"id\":\"21186f2d-f229-462d-ac5d-2561b7aaef58\",\"type\":\"PanTool\"},{\"id\":\"4b029415-9a1a-43d0-90d0-b4d848cdde8f\",\"type\":\"WheelZoomTool\"},{\"id\":\"c66dfccd-5f9e-463d-961d-b1bd3236ba1c\",\"type\":\"BoxZoomTool\"},{\"id\":\"7e15af71-3370-4cb9-98d6-3d68716fd0c1\",\"type\":\"SaveTool\"},{\"id\":\"37f92eff-6acb-4b6a-80a5-014d162b1207\",\"type\":\"ResetTool\"},{\"id\":\"3cde0050-d78b-4ab3-b8ee-e4f674ad565f\",\"type\":\"HelpTool\"}]},\"id\":\"b74f5d2c-9f2b-4013-88a6-182532136520\",\"type\":\"Toolbar\"},{\"attributes\":{},\"id\":\"09dc0a92-3ff5-41ec-aefa-9170c54ea8a3\",\"type\":\"BasicTickFormatter\"},{\"attributes\":{\"callback\":null,\"column_names\":[\"x\",\"y\"],\"data\":{\"x\":{\"__ndarray__\":\"pBQZwtYRyD+8S1YDnHfLPzurw9nGwtI/r90LBrZO2D952q91iEPeP1AlHN21QuI/RC8nkRJ15T+6K2Cn/ZvoPwWVyHAClOs/8Ygjcm4x7j9hK7LnfCLwP8+CUN7H0fA/uoA8YMMY8T/YgXNGlJbwPzUjKCPTJu4/N0b81MJW6j9FetXzA9HmP9HEIiPz6uM/r2soc/ve4T/oxssF9OPgP6VZTZX3auE/oHF+Fo1t3z+cPJ/g5v3WP0IWWLbF69A/wudekpBpyj8DnFqNV+bEPyVh193ZKsA/4xl2ECK2uT8s23XZKYK2P9QMXRQz/rM/4zU9lcTzsD8jFn16dj2rP4ExvSWCNqg/4inc2fTzqD8KnPA7GyypP8++sARr/6g/s3e7aAyWqD9/111ch8OmP8dubGTBPqQ/Rqj2QjEUoj+ttI+MCtmfP2WYuvuBSps/+hAXKkYwlj+1OrrDhqSPPyyyVBnxXX0/YIedqRhucj/fCqVSk7CIP2Al3Z45TpY/m5DWGHRCnj+9ANBoeKGiP6PLm8O12qU/slGHKVLgqD+lLqwqGryrPwA3IzSWca4/TcQH6FGAsD/byEzUmLGxP6QKopVLyLI/Elccboq+sz/S4G/hZI60P6evSpZRNLU/FAvX/imwtT9tKwfENQi2P2PWapOzRbY/k1KEX+B1tj/ix0K73ae2P9bmjQBf67Y/n0/suhpNtz8YR7fufsa3Px9HxKvkF7g/M7GgAO+8tz9W2RQbNVe2P4qIRJysI7Q/yvYX/UWpsT/5+OzPMV+uP4l+crauCKk/\",\"dtype\":\"float64\",\"shape\":[75]},\"y\":{\"__ndarray__\":\"GhExyth1ND/Sv8nbtpRIP2vylNV0PVE/aTum7souWD/At0SJ8fVgPw3Iuahxymc/MSNhhJWvcD/bTfBN02d3P2zb5nxnaoA/CD5h5MAGhz8NmeH1TyaQP+zrCsc9p5Y/LbKd76fGnz/bLW5ISEmmPww9YvTcQq8/JV2OstnstT8Er5Y7M8G+P0c+r3jqkcU/5h99k6ZBzj88bCIzFzjVP4enV8oyxN0//yH99nXg5D8qOpLLf0jtP5kqGJXUifQ/c9cS8kHP/D+/DpwzojQEQIEmwoanVwxA4lgXt9HgE0BSSZ2AJuIbQAMJih9jjiNA5q4l5INuK0AwTKYKRj0zQNv5fmq8/DpAaCJseHrtQkB/+zpwzoxKQM3MzMzMeFJAZmZmZmZqWEAAAAAAAFxeQM3MzMzMJmJAmpmZmZkfZUBmZmZmZhhoQDMzMzMzEWtAAAAAAAAKbkBmZmZmZoFwQM3MzMzM/XFAMzMzMzN6c0CamZmZmfZ0QAAAAAAAc3ZAZmZmZmbvd0DNzMzMzGt5QDMzMzMz6HpAmpmZmZlkfEAAAAAAAOF9QGZmZmZmXX9AZmZmZuZsgECamZmZGSuBQM3MzMxM6YFAAAAAAICngkAzMzMzs2WDQGZmZmbmI4RAmpmZmRnihEDNzMzMTKCFQAAAAACAXoZAMzMzM7Mch0BmZmZm5tqHQJqZmZkZmYhAzczMzExXiUAAAAAAgBWKQDMzMzOz04pAZmZmZuaRi0CamZmZGVCMQM3MzMxMDo1AAAAAAIDMjUAzMzMzs4qOQGZmZmbmSI9A\",\"dtype\":\"float64\",\"shape\":[75]}}},\"id\":\"acbdcc5f-51e0-4aa3-80ea-237a2675e65c\",\"type\":\"ColumnDataSource\"},{\"attributes\":{\"data_source\":{\"id\":\"aa366385-bfe5-437f-ba35-5e4c7fb92db0\",\"type\":\"ColumnDataSource\"},\"glyph\":{\"id\":\"436f238b-55e4-4a8e-be9f-50c8332eeed8\",\"type\":\"Square\"},\"hover_glyph\":null,\"muted_glyph\":null,\"nonselection_glyph\":{\"id\":\"fff40d2c-cc4b-49ca-b6c3-1bca78dfaa06\",\"type\":\"Square\"},\"selection_glyph\":null,\"view\":{\"id\":\"3363f1b4-b023-4f76-b5b8-b68dfa7aec88\",\"type\":\"CDSView\"}},\"id\":\"6874c3f3-e341-44ec-b669-3520b1d3bf16\",\"type\":\"GlyphRenderer\"},{\"attributes\":{},\"id\":\"3cde0050-d78b-4ab3-b8ee-e4f674ad565f\",\"type\":\"HelpTool\"},{\"attributes\":{\"callback\":null,\"column_names\":[\"x\",\"y\"],\"data\":{\"x\":{\"__ndarray__\":\"pBQZwtYRyD+8S1YDnHfLPzurw9nGwtI/r90LBrZO2D952q91iEPeP1AlHN21QuI/RC8nkRJ15T+6K2Cn/ZvoPwWVyHAClOs/8Ygjcm4x7j9hK7LnfCLwP8+CUN7H0fA/uoA8YMMY8T/YgXNGlJbwPzUjKCPTJu4/N0b81MJW6j9FetXzA9HmP9HEIiPz6uM/r2soc/ve4T/oxssF9OPgP6VZTZX3auE/oHF+Fo1t3z+cPJ/g5v3WP0IWWLbF69A/wudekpBpyj8DnFqNV+bEPyVh193ZKsA/4xl2ECK2uT8s23XZKYK2P9QMXRQz/rM/4zU9lcTzsD8jFn16dj2rP4ExvSWCNqg/4inc2fTzqD8KnPA7GyypP8++sARr/6g/s3e7aAyWqD9/111ch8OmP8dubGTBPqQ/Rqj2QjEUoj+ttI+MCtmfP2WYuvuBSps/+hAXKkYwlj+1OrrDhqSPPyyyVBnxXX0/YIedqRhucj/fCqVSk7CIP2Al3Z45TpY/m5DWGHRCnj+9ANBoeKGiP6PLm8O12qU/slGHKVLgqD+lLqwqGryrPwA3IzSWca4/TcQH6FGAsD/byEzUmLGxP6QKopVLyLI/Elccboq+sz/S4G/hZI60P6evSpZRNLU/FAvX/imwtT9tKwfENQi2P2PWapOzRbY/k1KEX+B1tj/ix0K73ae2P9bmjQBf67Y/n0/suhpNtz8YR7fufsa3Px9HxKvkF7g/M7GgAO+8tz9W2RQbNVe2P4qIRJysI7Q/yvYX/UWpsT/5+OzPMV+uP4l+crauCKk/\",\"dtype\":\"float64\",\"shape\":[75]},\"y\":{\"__ndarray__\":\"GhExyth1ND/Sv8nbtpRIP2vylNV0PVE/aTum7souWD/At0SJ8fVgPw3Iuahxymc/MSNhhJWvcD/bTfBN02d3P2zb5nxnaoA/CD5h5MAGhz8NmeH1TyaQP+zrCsc9p5Y/LbKd76fGnz/bLW5ISEmmPww9YvTcQq8/JV2OstnstT8Er5Y7M8G+P0c+r3jqkcU/5h99k6ZBzj88bCIzFzjVP4enV8oyxN0//yH99nXg5D8qOpLLf0jtP5kqGJXUifQ/c9cS8kHP/D+/DpwzojQEQIEmwoanVwxA4lgXt9HgE0BSSZ2AJuIbQAMJih9jjiNA5q4l5INuK0AwTKYKRj0zQNv5fmq8/DpAaCJseHrtQkB/+zpwzoxKQM3MzMzMeFJAZmZmZmZqWEAAAAAAAFxeQM3MzMzMJmJAmpmZmZkfZUBmZmZmZhhoQDMzMzMzEWtAAAAAAAAKbkBmZmZmZoFwQM3MzMzM/XFAMzMzMzN6c0CamZmZmfZ0QAAAAAAAc3ZAZmZmZmbvd0DNzMzMzGt5QDMzMzMz6HpAmpmZmZlkfEAAAAAAAOF9QGZmZmZmXX9AZmZmZuZsgECamZmZGSuBQM3MzMxM6YFAAAAAAICngkAzMzMzs2WDQGZmZmbmI4RAmpmZmRnihEDNzMzMTKCFQAAAAACAXoZAMzMzM7Mch0BmZmZm5tqHQJqZmZkZmYhAzczMzExXiUAAAAAAgBWKQDMzMzOz04pAZmZmZuaRi0CamZmZGVCMQM3MzMxMDo1AAAAAAIDMjUAzMzMzs4qOQGZmZmbmSI9A\",\"dtype\":\"float64\",\"shape\":[75]}}},\"id\":\"5870373a-d32b-41ad-b4e1-2a9cbd8a6dcd\",\"type\":\"ColumnDataSource\"},{\"attributes\":{\"callback\":null,\"column_names\":[\"x\",\"y\"],\"data\":{\"x\":{\"__ndarray__\":\"pBQZwtYRyD+8S1YDnHfLPzurw9nGwtI/r90LBrZO2D952q91iEPeP1AlHN21QuI/RC8nkRJ15T+6K2Cn/ZvoPwWVyHAClOs/8Ygjcm4x7j9hK7LnfCLwP8+CUN7H0fA/uoA8YMMY8T/YgXNGlJbwPzUjKCPTJu4/N0b81MJW6j9FetXzA9HmP9HEIiPz6uM/r2soc/ve4T/oxssF9OPgP6VZTZX3auE/oHF+Fo1t3z+cPJ/g5v3WP0IWWLbF69A/wudekpBpyj8DnFqNV+bEPyVh193ZKsA/4xl2ECK2uT8s23XZKYK2P9QMXRQz/rM/4zU9lcTzsD8jFn16dj2rP4ExvSWCNqg/4inc2fTzqD8KnPA7GyypP8++sARr/6g/s3e7aAyWqD9/111ch8OmP8dubGTBPqQ/Rqj2QjEUoj+ttI+MCtmfP2WYuvuBSps/+hAXKkYwlj+1OrrDhqSPPyyyVBnxXX0/YIedqRhucj/fCqVSk7CIP2Al3Z45TpY/m5DWGHRCnj+9ANBoeKGiP6PLm8O12qU/slGHKVLgqD+lLqwqGryrPwA3IzSWca4/TcQH6FGAsD/byEzUmLGxP6QKopVLyLI/Elccboq+sz/S4G/hZI60P6evSpZRNLU/FAvX/imwtT9tKwfENQi2P2PWapOzRbY/k1KEX+B1tj/ix0K73ae2P9bmjQBf67Y/n0/suhpNtz8YR7fufsa3Px9HxKvkF7g/M7GgAO+8tz9W2RQbNVe2P4qIRJysI7Q/yvYX/UWpsT/5+OzPMV+uP4l+crauCKk/\",\"dtype\":\"float64\",\"shape\":[75]},\"y\":{\"__ndarray__\":\"GhExyth1ND/Sv8nbtpRIP2vylNV0PVE/aTum7souWD/At0SJ8fVgPw3Iuahxymc/MSNhhJWvcD/bTfBN02d3P2zb5nxnaoA/CD5h5MAGhz8NmeH1TyaQP+zrCsc9p5Y/LbKd76fGnz/bLW5ISEmmPww9YvTcQq8/JV2OstnstT8Er5Y7M8G+P0c+r3jqkcU/5h99k6ZBzj88bCIzFzjVP4enV8oyxN0//yH99nXg5D8qOpLLf0jtP5kqGJXUifQ/c9cS8kHP/D+/DpwzojQEQIEmwoanVwxA4lgXt9HgE0BSSZ2AJuIbQAMJih9jjiNA5q4l5INuK0AwTKYKRj0zQNv5fmq8/DpAaCJseHrtQkB/+zpwzoxKQM3MzMzMeFJAZmZmZmZqWEAAAAAAAFxeQM3MzMzMJmJAmpmZmZkfZUBmZmZmZhhoQDMzMzMzEWtAAAAAAAAKbkBmZmZmZoFwQM3MzMzM/XFAMzMzMzN6c0CamZmZmfZ0QAAAAAAAc3ZAZmZmZmbvd0DNzMzMzGt5QDMzMzMz6HpAmpmZmZlkfEAAAAAAAOF9QGZmZmZmXX9AZmZmZuZsgECamZmZGSuBQM3MzMxM6YFAAAAAAICngkAzMzMzs2WDQGZmZmbmI4RAmpmZmRnihEDNzMzMTKCFQAAAAACAXoZAMzMzM7Mch0BmZmZm5tqHQJqZmZkZmYhAzczMzExXiUAAAAAAgBWKQDMzMzOz04pAZmZmZuaRi0CamZmZGVCMQM3MzMxMDo1AAAAAAIDMjUAzMzMzs4qOQGZmZmbmSI9A\",\"dtype\":\"float64\",\"shape\":[75]}}},\"id\":\"5e34dbf3-0794-4ce4-9205-5a6a67d2c7cd\",\"type\":\"ColumnDataSource\"},{\"attributes\":{\"source\":{\"id\":\"5e34dbf3-0794-4ce4-9205-5a6a67d2c7cd\",\"type\":\"ColumnDataSource\"}},\"id\":\"2da18a76-bebe-46d5-a613-80fcdb2c88a4\",\"type\":\"CDSView\"},{\"attributes\":{},\"id\":\"4b029415-9a1a-43d0-90d0-b4d848cdde8f\",\"type\":\"WheelZoomTool\"},{\"attributes\":{\"line_color\":\"#4daf4a\",\"line_width\":1.5,\"x\":{\"field\":\"x\"},\"y\":{\"field\":\"y\"}},\"id\":\"4ccb1238-7f91-4496-a892-0e373a6047b8\",\"type\":\"Line\"},{\"attributes\":{\"callback\":null,\"column_names\":[\"x\",\"y\"],\"data\":{\"x\":{\"__ndarray__\":\"pBQZwtYRyD+8S1YDnHfLPzurw9nGwtI/r90LBrZO2D952q91iEPeP1AlHN21QuI/RC8nkRJ15T+6K2Cn/ZvoPwWVyHAClOs/8Ygjcm4x7j9hK7LnfCLwP8+CUN7H0fA/uoA8YMMY8T/YgXNGlJbwPzUjKCPTJu4/N0b81MJW6j9FetXzA9HmP9HEIiPz6uM/r2soc/ve4T/oxssF9OPgP6VZTZX3auE/oHF+Fo1t3z+cPJ/g5v3WP0IWWLbF69A/wudekpBpyj8DnFqNV+bEPyVh193ZKsA/4xl2ECK2uT8s23XZKYK2P9QMXRQz/rM/4zU9lcTzsD8jFn16dj2rP4ExvSWCNqg/4inc2fTzqD8KnPA7GyypP8++sARr/6g/s3e7aAyWqD9/111ch8OmP8dubGTBPqQ/Rqj2QjEUoj+ttI+MCtmfP2WYuvuBSps/+hAXKkYwlj+1OrrDhqSPPyyyVBnxXX0/YIedqRhucj/fCqVSk7CIP2Al3Z45TpY/m5DWGHRCnj+9ANBoeKGiP6PLm8O12qU/slGHKVLgqD+lLqwqGryrPwA3IzSWca4/TcQH6FGAsD/byEzUmLGxP6QKopVLyLI/Elccboq+sz/S4G/hZI60P6evSpZRNLU/FAvX/imwtT9tKwfENQi2P2PWapOzRbY/k1KEX+B1tj/ix0K73ae2P9bmjQBf67Y/n0/suhpNtz8YR7fufsa3Px9HxKvkF7g/M7GgAO+8tz9W2RQbNVe2P4qIRJysI7Q/yvYX/UWpsT/5+OzPMV+uP4l+crauCKk/\",\"dtype\":\"float64\",\"shape\":[75]},\"y\":{\"__ndarray__\":\"GhExyth1ND/Sv8nbtpRIP2vylNV0PVE/aTum7souWD/At0SJ8fVgPw3Iuahxymc/MSNhhJWvcD/bTfBN02d3P2zb5nxnaoA/CD5h5MAGhz8NmeH1TyaQP+zrCsc9p5Y/LbKd76fGnz/bLW5ISEmmPww9YvTcQq8/JV2OstnstT8Er5Y7M8G+P0c+r3jqkcU/5h99k6ZBzj88bCIzFzjVP4enV8oyxN0//yH99nXg5D8qOpLLf0jtP5kqGJXUifQ/c9cS8kHP/D+/DpwzojQEQIEmwoanVwxA4lgXt9HgE0BSSZ2AJuIbQAMJih9jjiNA5q4l5INuK0AwTKYKRj0zQNv5fmq8/DpAaCJseHrtQkB/+zpwzoxKQM3MzMzMeFJAZmZmZmZqWEAAAAAAAFxeQM3MzMzMJmJAmpmZmZkfZUBmZmZmZhhoQDMzMzMzEWtAAAAAAAAKbkBmZmZmZoFwQM3MzMzM/XFAMzMzMzN6c0CamZmZmfZ0QAAAAAAAc3ZAZmZmZmbvd0DNzMzMzGt5QDMzMzMz6HpAmpmZmZlkfEAAAAAAAOF9QGZmZmZmXX9AZmZmZuZsgECamZmZGSuBQM3MzMxM6YFAAAAAAICngkAzMzMzs2WDQGZmZmbmI4RAmpmZmRnihEDNzMzMTKCFQAAAAACAXoZAMzMzM7Mch0BmZmZm5tqHQJqZmZkZmYhAzczMzExXiUAAAAAAgBWKQDMzMzOz04pAZmZmZuaRi0CamZmZGVCMQM3MzMxMDo1AAAAAAIDMjUAzMzMzs4qOQGZmZmbmSI9A\",\"dtype\":\"float64\",\"shape\":[75]}}},\"id\":\"ffc8cad6-e27e-4ad9-987d-38b968c089c2\",\"type\":\"ColumnDataSource\"},{\"attributes\":{\"callback\":null,\"column_names\":[\"x\",\"y\"],\"data\":{\"x\":{\"__ndarray__\":\"ScK2LPxsvD/INwRcyljBPzVRGTnq7Mg/yOMvTvi80D/DoMhqJXrVP/WwYZfyq9o/msm7E4Ek4D+CZdeDah/jP6ZiIUJ1NuY/jo7trS9P6T85gcimhUDsPwMpTkHA0u4/rUeGwaFc8D8nSkIibYPwP5VPh/zQ+O4/G19iyag06z/70hVLFbXmP5htZZE/W+I/yw0rgTlf3j8Kbt4XG+PbP3OO8KyT6d0/5+tLmUjn3D9QWxsRKdnWPwz/jk2XqtE/UC1LCfvVyz9SjaiaavfFP3z3nvyjkME/sItoXLTXvT9NrACdUQy8PwdyNyWsz7k/UuzacdKatT+mNU9zxyKwP6y96im7Xqk/nd8oYNjtpz/479u/mzapP6tO7V2aWqw/ms+52/XSrT+DyBrcc+yrPzrfNvD2Yqg/ONMpNLURpT8/oV/avuehP67J9+X8r50/tftnY6sflz9+JYihcp+OPx2/eaqxL3Y/5hYn+M76YD/2aFFvq/iDP662rg0fVZQ/VXFzwjWLnD9aE4KK58KhPwYwwJnz56Q/w9VXEDDepz86WSPoU7qqP1bLPSc0fq0/Mbw+5SsQsD8rukTh8lmxP2qKw0NflLI/lMwXn/W1sz+KtVPOcrS0PxpDAyh7iLU/yMnMHssvtj/4zWxzPbO2P0Ak9f48Frc/wcz4cClktz/5GT/WUaq3PyOlVQRq97c/hlDTnvpWuD/ZOozXKce4P8XuVCNoCrk/kuGhvTSkuD94Xr2Ztzu3P5PnoYbUDLU/5r1VyneYsj9vgwqpAyKwP+ZKW2Gc7ao/\",\"dtype\":\"float64\",\"shape\":[75]},\"y\":{\"__ndarray__\":\"S/O/Q+51ND/Sv8nbtpRIP2vylNV0PVE/aTum7souWD/At0SJ8fVgPw3Iuahxymc/MSNhhJWvcD/bTfBN02d3P2zb5nxnaoA/CD5h5MAGhz8NmeH1TyaQP+zrCsc9p5Y/LbKd76fGnz/bLW5ISEmmPww9YvTcQq8/JV2OstnstT8Er5Y7M8G+P0c+r3jqkcU/5h99k6ZBzj88bCIzFzjVP4enV8oyxN0//yH99nXg5D8qOpLLf0jtP5kqGJXUifQ/c9cS8kHP/D+/DpwzojQEQIEmwoanVwxA4lgXt9HgE0BSSZ2AJuIbQAMJih9jjiNA5q4l5INuK0AwTKYKRj0zQNv5fmq8/DpAaCJseHrtQkB/+zpwzoxKQM3MzMzMeFJAZmZmZmZqWEAAAAAAAFxeQM3MzMzMJmJAmpmZmZkfZUBmZmZmZhhoQDMzMzMzEWtAAAAAAAAKbkBmZmZmZoFwQM3MzMzM/XFAMzMzMzN6c0CamZmZmfZ0QAAAAAAAc3ZAZmZmZmbvd0DNzMzMzGt5QDMzMzMz6HpAmpmZmZlkfEAAAAAAAOF9QGZmZmZmXX9AZmZmZuZsgECamZmZGSuBQM3MzMxM6YFAAAAAAICngkAzMzMzs2WDQGZmZmbmI4RAmpmZmRnihEDNzMzMTKCFQAAAAACAXoZAMzMzM7Mch0BmZmZm5tqHQJqZmZkZmYhAzczMzExXiUAAAAAAgBWKQDMzMzOz04pAZmZmZuaRi0CamZmZGVCMQM3MzMxMDo1AAAAAAIDMjUAzMzMzs4qOQGZmZmbmSI9A\",\"dtype\":\"float64\",\"shape\":[75]}}},\"id\":\"e3107c2b-5c3a-4ebc-9166-ca20c724f636\",\"type\":\"ColumnDataSource\"},{\"attributes\":{\"line_alpha\":0.1,\"line_color\":\"#1f77b4\",\"line_width\":1.5,\"x\":{\"field\":\"x\"},\"y\":{\"field\":\"y\"}},\"id\":\"e7c4e272-6690-434d-aa16-aa42b1b326c4\",\"type\":\"Line\"},{\"attributes\":{\"callback\":null,\"column_names\":[\"x\",\"y\"],\"data\":{\"x\":{\"__ndarray__\":\"/kSBVkQ8xj/+fS1J8q3JP3GlM4UtW9E/Hir8e4Fl1j9eZqI3btfbP/mKBeEmz+A/hv7p30PU4z86RZ8LvuDmP0obAT4G3uk/eJrYZ6uf7D/eY3C4mP/uP8NrsEj2YvA/SlqQ1d/g8D+kmVFI2ZHwP/7dbhLSYe4/bHyWSC1x6j/RawDEKV7mP8rLoMGFv+I/yj46qZwt4D9v1yn02znePwbSrmnM3N8/cOJXmuj53T/FgUafRR3XP29sNnPGndE/EC9Nh7O0yz+akR8ENAfGP8Gt/UmMjsE/W+4emjCAvT+ush/KmDa7PxozvpIJ/7g/UkYLzTIqtT8+JIC1JEewP04/oM6Yv6o/I2WtcCg+qj9QqaLKeRWrPxQR5LiXJq0/U8ekWNxjrj80b/42gbmsP8qVSuyNgKk/N9zhmkBapj/4du6mZCejP2+Je+ZTw58/nRqyNvLCmD8vHEzBoIiQP1JT/f1/SXk/SCaBIUzCZT+kjUp2umSFP3Mq1j6RKpU/pK5Qfl5cnT8y+2ro+CuiP84dN/ySTaU/Ukw5zWExqD/h4Ozvf+yqP/7SzWXYh60/B6OMKZADsD8g9RHxLDWxPwiyj2o8TrI/QP299pFOsz8i4t6kEy20Pz6YhXNl5LQ/I9IO87ZytT8cM9mng961P/hyH/51LrY/uP34yhBvtj+RNnGvjq22P2kz2O3N+rY/f+c9peBltz/T9/cpsN+3P2Oohp1VNbg/DAp3eaDhtz9unQ9LAIi2P8Xh7eNHZbQ/vG7a7oz+sT/lwG/dgS2vP7h7FqIM9Kk/\",\"dtype\":\"float64\",\"shape\":[75]},\"y\":{\"__ndarray__\":\"GhExyth1ND/Sv8nbtpRIP2vylNV0PVE/aTum7souWD/At0SJ8fVgPw3Iuahxymc/MSNhhJWvcD/bTfBN02d3P2zb5nxnaoA/CD5h5MAGhz8NmeH1TyaQP+zrCsc9p5Y/LbKd76fGnz/bLW5ISEmmPww9YvTcQq8/JV2OstnstT8Er5Y7M8G+P0c+r3jqkcU/5h99k6ZBzj88bCIzFzjVP4enV8oyxN0//yH99nXg5D8qOpLLf0jtP5kqGJXUifQ/c9cS8kHP/D+/DpwzojQEQIEmwoanVwxA4lgXt9HgE0BSSZ2AJuIbQAMJih9jjiNA5q4l5INuK0AwTKYKRj0zQNv5fmq8/DpAaCJseHrtQkB/+zpwzoxKQM3MzMzMeFJAZmZmZmZqWEAAAAAAAFxeQM3MzMzMJmJAmpmZmZkfZUBmZmZmZhhoQDMzMzMzEWtAAAAAAAAKbkBmZmZmZoFwQM3MzMzM/XFAMzMzMzN6c0CamZmZmfZ0QAAAAAAAc3ZAZmZmZmbvd0DNzMzMzGt5QDMzMzMz6HpAmpmZmZlkfEAAAAAAAOF9QGZmZmZmXX9AZmZmZuZsgECamZmZGSuBQM3MzMxM6YFAAAAAAICngkAzMzMzs2WDQGZmZmbmI4RAmpmZmRnihEDNzMzMTKCFQAAAAACAXoZAMzMzM7Mch0BmZmZm5tqHQJqZmZkZmYhAzczMzExXiUAAAAAAgBWKQDMzMzOz04pAZmZmZuaRi0CamZmZGVCMQM3MzMxMDo1AAAAAAIDMjUAzMzMzs4qOQGZmZmbmSI9A\",\"dtype\":\"float64\",\"shape\":[75]}}},\"id\":\"855c5604-b275-4d2d-aef3-df2243107f25\",\"type\":\"ColumnDataSource\"},{\"attributes\":{\"line_alpha\":0.6,\"line_color\":\"#984ea3\",\"line_width\":3,\"x\":{\"field\":\"x\"},\"y\":{\"field\":\"y\"}},\"id\":\"9c552be2-5da8-4142-ad2c-0dee92e84f83\",\"type\":\"Line\"},{\"attributes\":{\"source\":{\"id\":\"acbdcc5f-51e0-4aa3-80ea-237a2675e65c\",\"type\":\"ColumnDataSource\"}},\"id\":\"b29af5fa-9d5e-4c6c-aeb5-eb2c4250ace1\",\"type\":\"CDSView\"},{\"attributes\":{\"fill_alpha\":{\"value\":0.7},\"fill_color\":{\"value\":\"#984ea3\"},\"line_alpha\":{\"value\":0.7},\"line_color\":{\"value\":\"#984ea3\"},\"x\":{\"field\":\"x\"},\"y\":{\"field\":\"y\"}},\"id\":\"9159c1ba-5277-495d-a75d-795e881d869c\",\"type\":\"Square\"},{\"attributes\":{\"source\":{\"id\":\"c509b51d-37cc-4292-82d7-07d4f9dc3e66\",\"type\":\"ColumnDataSource\"}},\"id\":\"b8a864c7-315b-4a44-8ea2-874c79caf845\",\"type\":\"CDSView\"},{\"attributes\":{},\"id\":\"7e15af71-3370-4cb9-98d6-3d68716fd0c1\",\"type\":\"SaveTool\"},{\"attributes\":{\"callback\":null,\"end\":1.07892014316,\"start\":0.02072694084},\"id\":\"e58f8b07-4a42-4a3a-b20a-61f4775d42df\",\"type\":\"Range1d\"},{\"attributes\":{\"callback\":null,\"column_names\":[\"x\",\"y\"],\"data\":{\"x\":{\"__ndarray__\":\"ScK2LPxsvD/INwRcyljBPzVRGTnq7Mg/yOMvTvi80D/DoMhqJXrVP/WwYZfyq9o/msm7E4Ek4D+CZdeDah/jP6ZiIUJ1NuY/jo7trS9P6T85gcimhUDsPwMpTkHA0u4/rUeGwaFc8D8nSkIibYPwP5VPh/zQ+O4/G19iyag06z/70hVLFbXmP5htZZE/W+I/yw0rgTlf3j8Kbt4XG+PbP3OO8KyT6d0/5+tLmUjn3D9QWxsRKdnWPwz/jk2XqtE/UC1LCfvVyz9SjaiaavfFP3z3nvyjkME/sItoXLTXvT9NrACdUQy8PwdyNyWsz7k/UuzacdKatT+mNU9zxyKwP6y96im7Xqk/nd8oYNjtpz/479u/mzapP6tO7V2aWqw/ms+52/XSrT+DyBrcc+yrPzrfNvD2Yqg/ONMpNLURpT8/oV/avuehP67J9+X8r50/tftnY6sflz9+JYihcp+OPx2/eaqxL3Y/5hYn+M76YD/2aFFvq/iDP662rg0fVZQ/VXFzwjWLnD9aE4KK58KhPwYwwJnz56Q/w9VXEDDepz86WSPoU7qqP1bLPSc0fq0/Mbw+5SsQsD8rukTh8lmxP2qKw0NflLI/lMwXn/W1sz+KtVPOcrS0PxpDAyh7iLU/yMnMHssvtj/4zWxzPbO2P0Ak9f48Frc/wcz4cClktz/5GT/WUaq3PyOlVQRq97c/hlDTnvpWuD/ZOozXKce4P8XuVCNoCrk/kuGhvTSkuD94Xr2Ztzu3P5PnoYbUDLU/5r1VyneYsj9vgwqpAyKwP+ZKW2Gc7ao/\",\"dtype\":\"float64\",\"shape\":[75]},\"y\":{\"__ndarray__\":\"S/O/Q+51ND/Sv8nbtpRIP2vylNV0PVE/aTum7souWD/At0SJ8fVgPw3Iuahxymc/MSNhhJWvcD/bTfBN02d3P2zb5nxnaoA/CD5h5MAGhz8NmeH1TyaQP+zrCsc9p5Y/LbKd76fGnz/bLW5ISEmmPww9YvTcQq8/JV2OstnstT8Er5Y7M8G+P0c+r3jqkcU/5h99k6ZBzj88bCIzFzjVP4enV8oyxN0//yH99nXg5D8qOpLLf0jtP5kqGJXUifQ/c9cS8kHP/D+/DpwzojQEQIEmwoanVwxA4lgXt9HgE0BSSZ2AJuIbQAMJih9jjiNA5q4l5INuK0AwTKYKRj0zQNv5fmq8/DpAaCJseHrtQkB/+zpwzoxKQM3MzMzMeFJAZmZmZmZqWEAAAAAAAFxeQM3MzMzMJmJAmpmZmZkfZUBmZmZmZhhoQDMzMzMzEWtAAAAAAAAKbkBmZmZmZoFwQM3MzMzM/XFAMzMzMzN6c0CamZmZmfZ0QAAAAAAAc3ZAZmZmZmbvd0DNzMzMzGt5QDMzMzMz6HpAmpmZmZlkfEAAAAAAAOF9QGZmZmZmXX9AZmZmZuZsgECamZmZGSuBQM3MzMxM6YFAAAAAAICngkAzMzMzs2WDQGZmZmbmI4RAmpmZmRnihEDNzMzMTKCFQAAAAACAXoZAMzMzM7Mch0BmZmZm5tqHQJqZmZkZmYhAzczMzExXiUAAAAAAgBWKQDMzMzOz04pAZmZmZuaRi0CamZmZGVCMQM3MzMxMDo1AAAAAAIDMjUAzMzMzs4qOQGZmZmbmSI9A\",\"dtype\":\"float64\",\"shape\":[75]}}},\"id\":\"9dc83350-69d8-44ab-ac73-16cb7c675dfc\",\"type\":\"ColumnDataSource\"},{\"attributes\":{\"items\":[{\"id\":\"9bfd258d-484c-4d96-b608-99bb962af9e8\",\"type\":\"LegendItem\"},{\"id\":\"1262f1da-a29b-440e-a652-10d6eb63bf53\",\"type\":\"LegendItem\"},{\"id\":\"bde18a68-a473-4d66-b2ab-74e99730f3db\",\"type\":\"LegendItem\"}],\"label_text_font_size\":{\"value\":\"8pt\"},\"location\":[10,-30],\"plot\":{\"id\":\"ed5c2b14-6be9-4699-8dae-bc6c2a487545\",\"subtype\":\"Figure\",\"type\":\"Plot\"}},\"id\":\"570e416c-e086-4629-9074-d1e42b897027\",\"type\":\"Legend\"},{\"attributes\":{\"fill_alpha\":{\"value\":0.1},\"fill_color\":{\"value\":\"#1f77b4\"},\"line_alpha\":{\"value\":0.1},\"line_color\":{\"value\":\"#1f77b4\"},\"x\":{\"field\":\"x\"},\"y\":{\"field\":\"y\"}},\"id\":\"4e35e49f-806b-461a-ae00-d1e34751d308\",\"type\":\"Circle\"},{\"attributes\":{\"line_alpha\":0.1,\"line_color\":\"#1f77b4\",\"line_width\":1.5,\"x\":{\"field\":\"x\"},\"y\":{\"field\":\"y\"}},\"id\":\"9c441773-ecae-46e2-902e-1c0efe4de957\",\"type\":\"Line\"},{\"attributes\":{\"line_alpha\":0.6,\"line_color\":\"#e41a1c\",\"line_dash\":[6],\"line_width\":5,\"x\":{\"field\":\"x\"},\"y\":{\"field\":\"y\"}},\"id\":\"50aeec6c-64ea-4e4b-a365-ae5264bb9b2c\",\"type\":\"Line\"},{\"attributes\":{\"fill_alpha\":{\"value\":0.1},\"fill_color\":{\"value\":\"#1f77b4\"},\"line_alpha\":{\"value\":0.1},\"line_color\":{\"value\":\"#1f77b4\"},\"x\":{\"field\":\"x\"},\"y\":{\"field\":\"y\"}},\"id\":\"6b95581e-ea86-4683-9721-362ddae88589\",\"type\":\"Square\"},{\"attributes\":{\"data_source\":{\"id\":\"c509b51d-37cc-4292-82d7-07d4f9dc3e66\",\"type\":\"ColumnDataSource\"},\"glyph\":{\"id\":\"9159c1ba-5277-495d-a75d-795e881d869c\",\"type\":\"Square\"},\"hover_glyph\":null,\"muted_glyph\":null,\"nonselection_glyph\":{\"id\":\"6b95581e-ea86-4683-9721-362ddae88589\",\"type\":\"Square\"},\"selection_glyph\":null,\"view\":{\"id\":\"b8a864c7-315b-4a44-8ea2-874c79caf845\",\"type\":\"CDSView\"}},\"id\":\"5ae45156-2ebd-4060-8838-3b47dfd67fa5\",\"type\":\"GlyphRenderer\"},{\"attributes\":{\"line_alpha\":0.6,\"line_color\":\"#e41a1c\",\"line_dash\":[6],\"line_width\":5,\"x\":{\"field\":\"x\"},\"y\":{\"field\":\"y\"}},\"id\":\"68d41058-4c54-43b0-b779-b3df53e4d072\",\"type\":\"Line\"},{\"attributes\":{\"callback\":null,\"column_names\":[\"x\",\"y\"],\"data\":{\"x\":{\"__ndarray__\":\"/kSBVkQ8xj/+fS1J8q3JP3GlM4UtW9E/Hir8e4Fl1j9eZqI3btfbP/mKBeEmz+A/hv7p30PU4z86RZ8LvuDmP0obAT4G3uk/eJrYZ6uf7D/eY3C4mP/uP8NrsEj2YvA/SlqQ1d/g8D+kmVFI2ZHwP/7dbhLSYe4/bHyWSC1x6j/RawDEKV7mP8rLoMGFv+I/yj46qZwt4D9v1yn02znePwbSrmnM3N8/cOJXmuj53T/FgUafRR3XP29sNnPGndE/EC9Nh7O0yz+akR8ENAfGP8Gt/UmMjsE/W+4emjCAvT+ush/KmDa7PxozvpIJ/7g/UkYLzTIqtT8+JIC1JEewP04/oM6Yv6o/I2WtcCg+qj9QqaLKeRWrPxQR5LiXJq0/U8ekWNxjrj80b/42gbmsP8qVSuyNgKk/N9zhmkBapj/4du6mZCejP2+Je+ZTw58/nRqyNvLCmD8vHEzBoIiQP1JT/f1/SXk/SCaBIUzCZT+kjUp2umSFP3Mq1j6RKpU/pK5Qfl5cnT8y+2ro+CuiP84dN/ySTaU/Ukw5zWExqD/h4Ozvf+yqP/7SzWXYh60/B6OMKZADsD8g9RHxLDWxPwiyj2o8TrI/QP299pFOsz8i4t6kEy20Pz6YhXNl5LQ/I9IO87ZytT8cM9mng961P/hyH/51LrY/uP34yhBvtj+RNnGvjq22P2kz2O3N+rY/f+c9peBltz/T9/cpsN+3P2Oohp1VNbg/DAp3eaDhtz9unQ9LAIi2P8Xh7eNHZbQ/vG7a7oz+sT/lwG/dgS2vP7h7FqIM9Kk/\",\"dtype\":\"float64\",\"shape\":[75]},\"y\":{\"__ndarray__\":\"GhExyth1ND/Sv8nbtpRIP2vylNV0PVE/aTum7souWD/At0SJ8fVgPw3Iuahxymc/MSNhhJWvcD/bTfBN02d3P2zb5nxnaoA/CD5h5MAGhz8NmeH1TyaQP+zrCsc9p5Y/LbKd76fGnz/bLW5ISEmmPww9YvTcQq8/JV2OstnstT8Er5Y7M8G+P0c+r3jqkcU/5h99k6ZBzj88bCIzFzjVP4enV8oyxN0//yH99nXg5D8qOpLLf0jtP5kqGJXUifQ/c9cS8kHP/D+/DpwzojQEQIEmwoanVwxA4lgXt9HgE0BSSZ2AJuIbQAMJih9jjiNA5q4l5INuK0AwTKYKRj0zQNv5fmq8/DpAaCJseHrtQkB/+zpwzoxKQM3MzMzMeFJAZmZmZmZqWEAAAAAAAFxeQM3MzMzMJmJAmpmZmZkfZUBmZmZmZhhoQDMzMzMzEWtAAAAAAAAKbkBmZmZmZoFwQM3MzMzM/XFAMzMzMzN6c0CamZmZmfZ0QAAAAAAAc3ZAZmZmZmbvd0DNzMzMzGt5QDMzMzMz6HpAmpmZmZlkfEAAAAAAAOF9QGZmZmZmXX9AZmZmZuZsgECamZmZGSuBQM3MzMxM6YFAAAAAAICngkAzMzMzs2WDQGZmZmbmI4RAmpmZmRnihEDNzMzMTKCFQAAAAACAXoZAMzMzM7Mch0BmZmZm5tqHQJqZmZkZmYhAzczMzExXiUAAAAAAgBWKQDMzMzOz04pAZmZmZuaRi0CamZmZGVCMQM3MzMxMDo1AAAAAAIDMjUAzMzMzs4qOQGZmZmbmSI9A\",\"dtype\":\"float64\",\"shape\":[75]}}},\"id\":\"c277c4de-01bf-4fb8-8bda-0e87b96e9385\",\"type\":\"ColumnDataSource\"},{\"attributes\":{\"source\":{\"id\":\"855c5604-b275-4d2d-aef3-df2243107f25\",\"type\":\"ColumnDataSource\"}},\"id\":\"3772725b-83b9-42b9-8111-e7b362cd98e0\",\"type\":\"CDSView\"},{\"attributes\":{\"source\":{\"id\":\"ffc8cad6-e27e-4ad9-987d-38b968c089c2\",\"type\":\"ColumnDataSource\"}},\"id\":\"f6f00523-da47-488d-abea-28a46c361478\",\"type\":\"CDSView\"},{\"attributes\":{\"overlay\":{\"id\":\"5eecebe8-93dc-4033-ab9a-c30cd24ce32f\",\"type\":\"BoxAnnotation\"}},\"id\":\"c66dfccd-5f9e-463d-961d-b1bd3236ba1c\",\"type\":\"BoxZoomTool\"},{\"attributes\":{\"line_alpha\":0.1,\"line_color\":\"#1f77b4\",\"line_width\":3,\"x\":{\"field\":\"x\"},\"y\":{\"field\":\"y\"}},\"id\":\"874ca038-504a-40ff-87a0-695d53defe26\",\"type\":\"Line\"},{\"attributes\":{\"data_source\":{\"id\":\"855c5604-b275-4d2d-aef3-df2243107f25\",\"type\":\"ColumnDataSource\"},\"glyph\":{\"id\":\"9c552be2-5da8-4142-ad2c-0dee92e84f83\",\"type\":\"Line\"},\"hover_glyph\":null,\"muted_glyph\":null,\"nonselection_glyph\":{\"id\":\"874ca038-504a-40ff-87a0-695d53defe26\",\"type\":\"Line\"},\"selection_glyph\":null,\"view\":{\"id\":\"3772725b-83b9-42b9-8111-e7b362cd98e0\",\"type\":\"CDSView\"}},\"id\":\"90c1d692-0a33-4512-bdec-463f52e4f621\",\"type\":\"GlyphRenderer\"},{\"attributes\":{\"label\":{\"value\":\"CLIRAD `coolr_bands`\"},\"renderers\":[{\"id\":\"561efcdb-782e-4bc8-805a-da7945b0a88d\",\"type\":\"GlyphRenderer\"}]},\"id\":\"9bfd258d-484c-4d96-b608-99bb962af9e8\",\"type\":\"LegendItem\"},{\"attributes\":{\"tools\":[{\"id\":\"7ba97115-6c8f-47f9-8079-eaff9b92f05d\",\"type\":\"PanTool\"},{\"id\":\"a10eaa1e-ed03-499c-9b2d-c8376f6a57f1\",\"type\":\"WheelZoomTool\"},{\"id\":\"d0115d3c-9c86-4cc7-bb0f-a623402ee292\",\"type\":\"BoxZoomTool\"},{\"id\":\"6a40e92e-58fc-4ed3-bed9-a4b9f0bb8e44\",\"type\":\"SaveTool\"},{\"id\":\"bf1cb6fd-ba02-4cda-8d07-170e7c71e67b\",\"type\":\"ResetTool\"},{\"id\":\"0239b334-669a-4363-8195-04b18ad79982\",\"type\":\"HelpTool\"},{\"id\":\"21186f2d-f229-462d-ac5d-2561b7aaef58\",\"type\":\"PanTool\"},{\"id\":\"4b029415-9a1a-43d0-90d0-b4d848cdde8f\",\"type\":\"WheelZoomTool\"},{\"id\":\"c66dfccd-5f9e-463d-961d-b1bd3236ba1c\",\"type\":\"BoxZoomTool\"},{\"id\":\"7e15af71-3370-4cb9-98d6-3d68716fd0c1\",\"type\":\"SaveTool\"},{\"id\":\"37f92eff-6acb-4b6a-80a5-014d162b1207\",\"type\":\"ResetTool\"},{\"id\":\"3cde0050-d78b-4ab3-b8ee-e4f674ad565f\",\"type\":\"HelpTool\"}]},\"id\":\"96cf892c-0c89-44c4-be63-13d49f1d704d\",\"type\":\"ProxyToolbar\"},{\"attributes\":{\"toolbar\":{\"id\":\"96cf892c-0c89-44c4-be63-13d49f1d704d\",\"type\":\"ProxyToolbar\"},\"toolbar_location\":\"above\"},\"id\":\"1a85284a-0016-4fad-a419-d480889876e6\",\"type\":\"ToolbarBox\"},{\"attributes\":{\"children\":[{\"id\":\"1a85284a-0016-4fad-a419-d480889876e6\",\"type\":\"ToolbarBox\"},{\"id\":\"7dd4bb74-6c9f-42bc-8bb8-c28b1cd9b32c\",\"type\":\"Column\"}]},\"id\":\"6e3ec13b-0e38-446a-b90f-ff7ce05336bc\",\"type\":\"Column\"},{\"attributes\":{\"plot\":null,\"text\":\"Log pressure scale\"},\"id\":\"597abaf7-c905-494a-8f55-79187d6163c6\",\"type\":\"Title\"},{\"attributes\":{\"source\":{\"id\":\"5870373a-d32b-41ad-b4e1-2a9cbd8a6dcd\",\"type\":\"ColumnDataSource\"}},\"id\":\"57759822-d693-43d3-b132-617236f261be\",\"type\":\"CDSView\"},{\"attributes\":{\"active_drag\":\"auto\",\"active_inspect\":\"auto\",\"active_scroll\":\"auto\",\"active_tap\":\"auto\",\"tools\":[{\"id\":\"7ba97115-6c8f-47f9-8079-eaff9b92f05d\",\"type\":\"PanTool\"},{\"id\":\"a10eaa1e-ed03-499c-9b2d-c8376f6a57f1\",\"type\":\"WheelZoomTool\"},{\"id\":\"d0115d3c-9c86-4cc7-bb0f-a623402ee292\",\"type\":\"BoxZoomTool\"},{\"id\":\"6a40e92e-58fc-4ed3-bed9-a4b9f0bb8e44\",\"type\":\"SaveTool\"},{\"id\":\"bf1cb6fd-ba02-4cda-8d07-170e7c71e67b\",\"type\":\"ResetTool\"},{\"id\":\"0239b334-669a-4363-8195-04b18ad79982\",\"type\":\"HelpTool\"}]},\"id\":\"89268eef-4b2e-4d67-939b-512476e28096\",\"type\":\"Toolbar\"},{\"attributes\":{\"line_alpha\":0.1,\"line_color\":\"#1f77b4\",\"line_dash\":[6],\"line_width\":5,\"x\":{\"field\":\"x\"},\"y\":{\"field\":\"y\"}},\"id\":\"06d9c207-c167-4e27-8929-930a8410666f\",\"type\":\"Line\"},{\"attributes\":{\"fill_alpha\":{\"value\":0.7},\"fill_color\":{\"value\":\"#984ea3\"},\"line_alpha\":{\"value\":0.7},\"line_color\":{\"value\":\"#984ea3\"},\"x\":{\"field\":\"x\"},\"y\":{\"field\":\"y\"}},\"id\":\"436f238b-55e4-4a8e-be9f-50c8332eeed8\",\"type\":\"Square\"},{\"attributes\":{\"data_source\":{\"id\":\"ffc8cad6-e27e-4ad9-987d-38b968c089c2\",\"type\":\"ColumnDataSource\"},\"glyph\":{\"id\":\"ede85232-bdda-4cc6-ad3f-ac3d127106b4\",\"type\":\"Circle\"},\"hover_glyph\":null,\"muted_glyph\":null,\"nonselection_glyph\":{\"id\":\"4e35e49f-806b-461a-ae00-d1e34751d308\",\"type\":\"Circle\"},\"selection_glyph\":null,\"view\":{\"id\":\"f6f00523-da47-488d-abea-28a46c361478\",\"type\":\"CDSView\"}},\"id\":\"adede066-2c06-48c0-b094-aa351f3a3520\",\"type\":\"GlyphRenderer\"},{\"attributes\":{\"below\":[{\"id\":\"68f122f6-6417-47c5-8f7c-7efd0225e089\",\"type\":\"LinearAxis\"}],\"left\":[{\"id\":\"56572643-49ff-47e8-8b5b-a5762c71bbf3\",\"type\":\"LinearAxis\"}],\"plot_height\":500,\"plot_width\":400,\"renderers\":[{\"id\":\"68f122f6-6417-47c5-8f7c-7efd0225e089\",\"type\":\"LinearAxis\"},{\"id\":\"0fe3afbc-a55e-4b64-aa62-36d902f1e147\",\"type\":\"Grid\"},{\"id\":\"56572643-49ff-47e8-8b5b-a5762c71bbf3\",\"type\":\"LinearAxis\"},{\"id\":\"ee3662b4-a5f3-44c9-bdba-691bd1a6896c\",\"type\":\"Grid\"},{\"id\":\"bb27f38d-52bf-4e33-813f-b9ceac2ab999\",\"type\":\"BoxAnnotation\"},{\"id\":\"c692c802-12f3-422f-bba5-f4d053a9c47c\",\"type\":\"GlyphRenderer\"},{\"id\":\"adede066-2c06-48c0-b094-aa351f3a3520\",\"type\":\"GlyphRenderer\"},{\"id\":\"454d57ca-c7ec-4653-82e7-63906cb526d3\",\"type\":\"GlyphRenderer\"},{\"id\":\"6874c3f3-e341-44ec-b669-3520b1d3bf16\",\"type\":\"GlyphRenderer\"},{\"id\":\"8a5d0e61-6ff3-430b-ab26-3b1d4bea8254\",\"type\":\"GlyphRenderer\"}],\"title\":{\"id\":\"e01ebb28-25bc-4175-a49e-621782a13d1d\",\"type\":\"Title\"},\"toolbar\":{\"id\":\"89268eef-4b2e-4d67-939b-512476e28096\",\"type\":\"Toolbar\"},\"toolbar_location\":null,\"x_range\":{\"id\":\"10497ad9-8053-4e4c-a4d1-f2727a1747e7\",\"type\":\"Range1d\"},\"x_scale\":{\"id\":\"78c329ec-bcb0-472f-9fe9-46ea70976627\",\"type\":\"LinearScale\"},\"y_range\":{\"id\":\"3d97d2ac-8f07-437a-9f1d-a3c1deafcad8\",\"type\":\"Range1d\"},\"y_scale\":{\"id\":\"785ea277-8112-4628-9f1f-285c538857e6\",\"type\":\"LinearScale\"}},\"id\":\"7006b7b6-7a1e-465c-b533-628de42d6122\",\"subtype\":\"Figure\",\"type\":\"Plot\"},{\"attributes\":{\"plot\":null,\"text\":\"Linear pressure scale\"},\"id\":\"e01ebb28-25bc-4175-a49e-621782a13d1d\",\"type\":\"Title\"},{\"attributes\":{\"callback\":null,\"column_names\":[\"x\",\"y\"],\"data\":{\"x\":{\"__ndarray__\":\"/kSBVkQ8xj/+fS1J8q3JP3GlM4UtW9E/Hir8e4Fl1j9eZqI3btfbP/mKBeEmz+A/hv7p30PU4z86RZ8LvuDmP0obAT4G3uk/eJrYZ6uf7D/eY3C4mP/uP8NrsEj2YvA/SlqQ1d/g8D+kmVFI2ZHwP/7dbhLSYe4/bHyWSC1x6j/RawDEKV7mP8rLoMGFv+I/yj46qZwt4D9v1yn02znePwbSrmnM3N8/cOJXmuj53T/FgUafRR3XP29sNnPGndE/EC9Nh7O0yz+akR8ENAfGP8Gt/UmMjsE/W+4emjCAvT+ush/KmDa7PxozvpIJ/7g/UkYLzTIqtT8+JIC1JEewP04/oM6Yv6o/I2WtcCg+qj9QqaLKeRWrPxQR5LiXJq0/U8ekWNxjrj80b/42gbmsP8qVSuyNgKk/N9zhmkBapj/4du6mZCejP2+Je+ZTw58/nRqyNvLCmD8vHEzBoIiQP1JT/f1/SXk/SCaBIUzCZT+kjUp2umSFP3Mq1j6RKpU/pK5Qfl5cnT8y+2ro+CuiP84dN/ySTaU/Ukw5zWExqD/h4Ozvf+yqP/7SzWXYh60/B6OMKZADsD8g9RHxLDWxPwiyj2o8TrI/QP299pFOsz8i4t6kEy20Pz6YhXNl5LQ/I9IO87ZytT8cM9mng961P/hyH/51LrY/uP34yhBvtj+RNnGvjq22P2kz2O3N+rY/f+c9peBltz/T9/cpsN+3P2Oohp1VNbg/DAp3eaDhtz9unQ9LAIi2P8Xh7eNHZbQ/vG7a7oz+sT/lwG/dgS2vP7h7FqIM9Kk/\",\"dtype\":\"float64\",\"shape\":[75]},\"y\":{\"__ndarray__\":\"GhExyth1ND/Sv8nbtpRIP2vylNV0PVE/aTum7souWD/At0SJ8fVgPw3Iuahxymc/MSNhhJWvcD/bTfBN02d3P2zb5nxnaoA/CD5h5MAGhz8NmeH1TyaQP+zrCsc9p5Y/LbKd76fGnz/bLW5ISEmmPww9YvTcQq8/JV2OstnstT8Er5Y7M8G+P0c+r3jqkcU/5h99k6ZBzj88bCIzFzjVP4enV8oyxN0//yH99nXg5D8qOpLLf0jtP5kqGJXUifQ/c9cS8kHP/D+/DpwzojQEQIEmwoanVwxA4lgXt9HgE0BSSZ2AJuIbQAMJih9jjiNA5q4l5INuK0AwTKYKRj0zQNv5fmq8/DpAaCJseHrtQkB/+zpwzoxKQM3MzMzMeFJAZmZmZmZqWEAAAAAAAFxeQM3MzMzMJmJAmpmZmZkfZUBmZmZmZhhoQDMzMzMzEWtAAAAAAAAKbkBmZmZmZoFwQM3MzMzM/XFAMzMzMzN6c0CamZmZmfZ0QAAAAAAAc3ZAZmZmZmbvd0DNzMzMzGt5QDMzMzMz6HpAmpmZmZlkfEAAAAAAAOF9QGZmZmZmXX9AZmZmZuZsgECamZmZGSuBQM3MzMxM6YFAAAAAAICngkAzMzMzs2WDQGZmZmbmI4RAmpmZmRnihEDNzMzMTKCFQAAAAACAXoZAMzMzM7Mch0BmZmZm5tqHQJqZmZkZmYhAzczMzExXiUAAAAAAgBWKQDMzMzOz04pAZmZmZuaRi0CamZmZGVCMQM3MzMxMDo1AAAAAAIDMjUAzMzMzs4qOQGZmZmbmSI9A\",\"dtype\":\"float64\",\"shape\":[75]}}},\"id\":\"aa366385-bfe5-437f-ba35-5e4c7fb92db0\",\"type\":\"ColumnDataSource\"},{\"attributes\":{},\"id\":\"5f808461-5053-4efb-86cc-2fe29b74e08d\",\"type\":\"BasicTicker\"},{\"attributes\":{},\"id\":\"468f9cda-1fed-4d10-9933-9cec0610a241\",\"type\":\"BasicTickFormatter\"},{\"attributes\":{\"callback\":null,\"end\":0.01,\"start\":1020},\"id\":\"3d97d2ac-8f07-437a-9f1d-a3c1deafcad8\",\"type\":\"Range1d\"}],\"root_ids\":[\"6e3ec13b-0e38-446a-b90f-ff7ce05336bc\"]},\"title\":\"Bokeh Application\",\"version\":\"0.12.14\"}};\n",
       "  var render_items = [{\"docid\":\"9f29c31d-1a40-4d8a-951d-11c8d3917e00\",\"elementid\":\"53c966ba-cc4c-4210-94b1-dc5f3b5a2b15\",\"modelid\":\"6e3ec13b-0e38-446a-b90f-ff7ce05336bc\"}];\n",
       "  root.Bokeh.embed.embed_items_notebook(docs_json, render_items);\n",
       "\n",
       "  }\n",
       "  if (root.Bokeh !== undefined) {\n",
       "    embed_document(root);\n",
       "  } else {\n",
       "    var attempts = 0;\n",
       "    var timer = setInterval(function(root) {\n",
       "      if (root.Bokeh !== undefined) {\n",
       "        embed_document(root);\n",
       "        clearInterval(timer);\n",
       "      }\n",
       "      attempts++;\n",
       "      if (attempts > 100) {\n",
       "        console.log(\"Bokeh: ERROR: Unable to run BokehJS code because BokehJS library is missing\")\n",
       "        clearInterval(timer);\n",
       "      }\n",
       "    }, 10, root)\n",
       "  }\n",
       "})(window);"
      ],
      "application/vnd.bokehjs_exec.v0+json": ""
     },
     "metadata": {
      "application/vnd.bokehjs_exec.v0+json": {
       "id": "6e3ec13b-0e38-446a-b90f-ff7ce05336bc"
      }
     },
     "output_type": "display_data"
    },
    {
     "name": "stdout",
     "output_type": "stream",
     "text": [
      "FIGURE. Cooling rate profiles.\n"
     ]
    },
    {
     "data": {
      "text/html": [
       "<a id=\"Flux_Comparison\"></a>"
      ],
      "text/plain": [
       "<IPython.core.display.HTML object>"
      ]
     },
     "metadata": {},
     "output_type": "display_data"
    },
    {
     "data": {
      "text/markdown": [
       "# Flux Comparison"
      ],
      "text/plain": [
       "<IPython.core.display.Markdown object>"
      ]
     },
     "metadata": {},
     "output_type": "display_data"
    },
    {
     "data": {
      "text/html": [
       "<div>\n",
       "<style>\n",
       "    .dataframe thead tr:only-child th {\n",
       "        text-align: right;\n",
       "    }\n",
       "\n",
       "    .dataframe thead th {\n",
       "        text-align: left;\n",
       "    }\n",
       "\n",
       "    .dataframe tbody tr th {\n",
       "        vertical-align: top;\n",
       "    }\n",
       "</style>\n",
       "<table border=\"1\" class=\"dataframe\">\n",
       "  <thead>\n",
       "    <tr style=\"text-align: right;\">\n",
       "      <th></th>\n",
       "      <th></th>\n",
       "      <th>flug</th>\n",
       "      <th>fldg</th>\n",
       "      <th>fnetg</th>\n",
       "    </tr>\n",
       "    <tr>\n",
       "      <th>pressure</th>\n",
       "      <th>level</th>\n",
       "      <th></th>\n",
       "      <th></th>\n",
       "      <th></th>\n",
       "    </tr>\n",
       "  </thead>\n",
       "  <tbody>\n",
       "    <tr>\n",
       "      <th>0.0000</th>\n",
       "      <th>1</th>\n",
       "      <td>-20.792207</td>\n",
       "      <td>0.000000</td>\n",
       "      <td>-20.792207</td>\n",
       "    </tr>\n",
       "    <tr>\n",
       "      <th>1.0685</th>\n",
       "      <th>24</th>\n",
       "      <td>-20.781148</td>\n",
       "      <td>0.052385</td>\n",
       "      <td>-20.728763</td>\n",
       "    </tr>\n",
       "    <tr>\n",
       "      <th>1013.0000</th>\n",
       "      <th>76</th>\n",
       "      <td>-23.591138</td>\n",
       "      <td>10.000005</td>\n",
       "      <td>-13.591133</td>\n",
       "    </tr>\n",
       "  </tbody>\n",
       "</table>\n",
       "</div>"
      ],
      "text/plain": [
       "                      flug       fldg      fnetg\n",
       "pressure  level                                 \n",
       "0.0000    1     -20.792207   0.000000 -20.792207\n",
       "1.0685    24    -20.781148   0.052385 -20.728763\n",
       "1013.0000 76    -23.591138  10.000005 -13.591133"
      ]
     },
     "metadata": {},
     "output_type": "display_data"
    },
    {
     "name": "stdout",
     "output_type": "stream",
     "text": [
      "Table. Fluxes. WGT igg=10 wgt_flux=1\n"
     ]
    },
    {
     "data": {
      "text/html": [
       "<div>\n",
       "<style>\n",
       "    .dataframe thead tr:only-child th {\n",
       "        text-align: right;\n",
       "    }\n",
       "\n",
       "    .dataframe thead th {\n",
       "        text-align: left;\n",
       "    }\n",
       "\n",
       "    .dataframe tbody tr th {\n",
       "        vertical-align: top;\n",
       "    }\n",
       "</style>\n",
       "<table border=\"1\" class=\"dataframe\">\n",
       "  <thead>\n",
       "    <tr style=\"text-align: right;\">\n",
       "      <th></th>\n",
       "      <th></th>\n",
       "      <th>flug</th>\n",
       "      <th>fldg</th>\n",
       "      <th>fnetg</th>\n",
       "    </tr>\n",
       "    <tr>\n",
       "      <th>pressure</th>\n",
       "      <th>level</th>\n",
       "      <th></th>\n",
       "      <th></th>\n",
       "      <th></th>\n",
       "    </tr>\n",
       "  </thead>\n",
       "  <tbody>\n",
       "    <tr>\n",
       "      <th>0.0000</th>\n",
       "      <th>1</th>\n",
       "      <td>-20.835452</td>\n",
       "      <td>0.000000</td>\n",
       "      <td>-20.835452</td>\n",
       "    </tr>\n",
       "    <tr>\n",
       "      <th>1.0685</th>\n",
       "      <th>24</th>\n",
       "      <td>-20.824449</td>\n",
       "      <td>0.055467</td>\n",
       "      <td>-20.768981</td>\n",
       "    </tr>\n",
       "    <tr>\n",
       "      <th>1013.0000</th>\n",
       "      <th>76</th>\n",
       "      <td>-23.591138</td>\n",
       "      <td>9.774630</td>\n",
       "      <td>-13.816508</td>\n",
       "    </tr>\n",
       "  </tbody>\n",
       "</table>\n",
       "</div>"
      ],
      "text/plain": [
       "                      flug      fldg      fnetg\n",
       "pressure  level                                \n",
       "0.0000    1     -20.835452  0.000000 -20.835452\n",
       "1.0685    24    -20.824449  0.055467 -20.768981\n",
       "1013.0000 76    -23.591138  9.774630 -13.816508"
      ]
     },
     "metadata": {},
     "output_type": "display_data"
    },
    {
     "name": "stdout",
     "output_type": "stream",
     "text": [
      "Table. Fluxes. CRD\n"
     ]
    },
    {
     "data": {
      "text/html": [
       "<div>\n",
       "<style>\n",
       "    .dataframe thead tr:only-child th {\n",
       "        text-align: right;\n",
       "    }\n",
       "\n",
       "    .dataframe thead th {\n",
       "        text-align: left;\n",
       "    }\n",
       "\n",
       "    .dataframe tbody tr th {\n",
       "        vertical-align: top;\n",
       "    }\n",
       "</style>\n",
       "<table border=\"1\" class=\"dataframe\">\n",
       "  <thead>\n",
       "    <tr style=\"text-align: right;\">\n",
       "      <th></th>\n",
       "      <th></th>\n",
       "      <th>flug</th>\n",
       "      <th>fldg</th>\n",
       "      <th>fnetg</th>\n",
       "    </tr>\n",
       "    <tr>\n",
       "      <th>pressure</th>\n",
       "      <th>level</th>\n",
       "      <th></th>\n",
       "      <th></th>\n",
       "      <th></th>\n",
       "    </tr>\n",
       "  </thead>\n",
       "  <tbody>\n",
       "    <tr>\n",
       "      <th>1.000000e-08</th>\n",
       "      <th>1</th>\n",
       "      <td>-20.853089</td>\n",
       "      <td>0.000002</td>\n",
       "      <td>-20.853087</td>\n",
       "    </tr>\n",
       "    <tr>\n",
       "      <th>1.068500e+00</th>\n",
       "      <th>24</th>\n",
       "      <td>-20.842195</td>\n",
       "      <td>0.050416</td>\n",
       "      <td>-20.791779</td>\n",
       "    </tr>\n",
       "    <tr>\n",
       "      <th>1.013000e+03</th>\n",
       "      <th>76</th>\n",
       "      <td>-23.591140</td>\n",
       "      <td>10.012655</td>\n",
       "      <td>-13.578485</td>\n",
       "    </tr>\n",
       "  </tbody>\n",
       "</table>\n",
       "</div>"
      ],
      "text/plain": [
       "                         flug       fldg      fnetg\n",
       "pressure     level                                 \n",
       "1.000000e-08 1     -20.853089   0.000002 -20.853087\n",
       "1.068500e+00 24    -20.842195   0.050416 -20.791779\n",
       "1.013000e+03 76    -23.591140  10.012655 -13.578485"
      ]
     },
     "metadata": {},
     "output_type": "display_data"
    },
    {
     "name": "stdout",
     "output_type": "stream",
     "text": [
      "Table. Fluxes. CLIRAD\n"
     ]
    },
    {
     "data": {
      "text/html": [
       "<div>\n",
       "<style>\n",
       "    .dataframe thead tr:only-child th {\n",
       "        text-align: right;\n",
       "    }\n",
       "\n",
       "    .dataframe thead th {\n",
       "        text-align: left;\n",
       "    }\n",
       "\n",
       "    .dataframe tbody tr th {\n",
       "        vertical-align: top;\n",
       "    }\n",
       "</style>\n",
       "<table border=\"1\" class=\"dataframe\">\n",
       "  <thead>\n",
       "    <tr style=\"text-align: right;\">\n",
       "      <th></th>\n",
       "      <th></th>\n",
       "      <th>flug</th>\n",
       "      <th>fldg</th>\n",
       "      <th>fnetg</th>\n",
       "    </tr>\n",
       "    <tr>\n",
       "      <th>pressure</th>\n",
       "      <th>level</th>\n",
       "      <th></th>\n",
       "      <th></th>\n",
       "      <th></th>\n",
       "    </tr>\n",
       "  </thead>\n",
       "  <tbody>\n",
       "    <tr>\n",
       "      <th>0.0000</th>\n",
       "      <th>1</th>\n",
       "      <td>-4.324483e-02</td>\n",
       "      <td>0.000000</td>\n",
       "      <td>-0.043245</td>\n",
       "    </tr>\n",
       "    <tr>\n",
       "      <th>1.0685</th>\n",
       "      <th>24</th>\n",
       "      <td>-4.330092e-02</td>\n",
       "      <td>0.003082</td>\n",
       "      <td>-0.040218</td>\n",
       "    </tr>\n",
       "    <tr>\n",
       "      <th>1013.0000</th>\n",
       "      <th>76</th>\n",
       "      <td>-1.520000e-07</td>\n",
       "      <td>-0.225375</td>\n",
       "      <td>-0.225375</td>\n",
       "    </tr>\n",
       "  </tbody>\n",
       "</table>\n",
       "</div>"
      ],
      "text/plain": [
       "                         flug      fldg     fnetg\n",
       "pressure  level                                  \n",
       "0.0000    1     -4.324483e-02  0.000000 -0.043245\n",
       "1.0685    24    -4.330092e-02  0.003082 -0.040218\n",
       "1013.0000 76    -1.520000e-07 -0.225375 -0.225375"
      ]
     },
     "metadata": {},
     "output_type": "display_data"
    },
    {
     "name": "stdout",
     "output_type": "stream",
     "text": [
      "Table. Fluxes. (CRD) - (WGT igg=10 wgt_flux=1)\n"
     ]
    },
    {
     "data": {
      "text/html": [
       "<div>\n",
       "<style>\n",
       "    .dataframe thead tr:only-child th {\n",
       "        text-align: right;\n",
       "    }\n",
       "\n",
       "    .dataframe thead th {\n",
       "        text-align: left;\n",
       "    }\n",
       "\n",
       "    .dataframe tbody tr th {\n",
       "        vertical-align: top;\n",
       "    }\n",
       "</style>\n",
       "<table border=\"1\" class=\"dataframe\">\n",
       "  <thead>\n",
       "    <tr style=\"text-align: right;\">\n",
       "      <th></th>\n",
       "      <th></th>\n",
       "      <th>flug</th>\n",
       "      <th>fldg</th>\n",
       "      <th>fnetg</th>\n",
       "    </tr>\n",
       "    <tr>\n",
       "      <th>pressure</th>\n",
       "      <th>level</th>\n",
       "      <th></th>\n",
       "      <th></th>\n",
       "      <th></th>\n",
       "    </tr>\n",
       "  </thead>\n",
       "  <tbody>\n",
       "    <tr>\n",
       "      <th>0.0000</th>\n",
       "      <th>1</th>\n",
       "      <td>-0.060882</td>\n",
       "      <td>0.000002</td>\n",
       "      <td>-0.060880</td>\n",
       "    </tr>\n",
       "    <tr>\n",
       "      <th>1.0685</th>\n",
       "      <th>24</th>\n",
       "      <td>-0.061047</td>\n",
       "      <td>-0.001969</td>\n",
       "      <td>-0.063016</td>\n",
       "    </tr>\n",
       "    <tr>\n",
       "      <th>1013.0000</th>\n",
       "      <th>76</th>\n",
       "      <td>-0.000002</td>\n",
       "      <td>0.012650</td>\n",
       "      <td>0.012648</td>\n",
       "    </tr>\n",
       "  </tbody>\n",
       "</table>\n",
       "</div>"
      ],
      "text/plain": [
       "                     flug      fldg     fnetg\n",
       "pressure  level                              \n",
       "0.0000    1     -0.060882  0.000002 -0.060880\n",
       "1.0685    24    -0.061047 -0.001969 -0.063016\n",
       "1013.0000 76    -0.000002  0.012650  0.012648"
      ]
     },
     "metadata": {},
     "output_type": "display_data"
    },
    {
     "name": "stdout",
     "output_type": "stream",
     "text": [
      "Table. Fluxes. (CLIRAD) - (WGT igg=10 wgt_flux=1)\n"
     ]
    },
    {
     "data": {
      "text/html": [
       "<a id=\"Best-fit_Parameters\"></a>"
      ],
      "text/plain": [
       "<IPython.core.display.HTML object>"
      ]
     },
     "metadata": {},
     "output_type": "display_data"
    },
    {
     "data": {
      "text/markdown": [
       "# Best-fit Parameters"
      ],
      "text/plain": [
       "<IPython.core.display.Markdown object>"
      ]
     },
     "metadata": {},
     "output_type": "display_data"
    },
    {
     "name": "stdout",
     "output_type": "stream",
     "text": [
      "Best-fit values for each (gas, band)\n",
      "------------------------------------\n",
      "o co2 band3a\n",
      "  atmpro = mls\n",
      "  band = 3a\n",
      "  commitnumber = a06b618\n",
      "  conc = 0.0004\n",
      "  dv = 0.001\n",
      "  klin = 6.375563e-24\n",
      "  molecule = co2\n",
      "  ng_adju = [0, 0, 0]\n",
      "  ng_refs = [3, 2, 4]\n",
      "  nv = 1000\n",
      "  option_compute_btable = 0\n",
      "  option_compute_ktable = 1\n",
      "  option_wgt_flux = 1\n",
      "  option_wgt_k = 1\n",
      "  ref_pts = [(1, 250), (10, 250), (500, 250)]\n",
      "  tsfc = 294\n",
      "  vmax = 620\n",
      "  vmin = 540\n",
      "  w_diffuse = [(1.6, 1.6, 1.7), (1.75, 1.75), (1.55, 1.55, 1.6, 1.85)]\n",
      "  wgt = [(0.7, 0.3, 0.7), (0.7, 0.6), (0.4, 0.5, 0.8, 0.95)]\n"
     ]
    }
   ],
   "source": [
    "script()"
   ]
  },
  {
   "cell_type": "code",
   "execution_count": 13,
   "metadata": {
    "collapsed": true
   },
   "outputs": [
    {
     "data": {
      "text/html": [
       "<script>\n",
       "code_show=true; \n",
       "function code_toggle() {\n",
       " if (code_show){\n",
       " $('div.input').hide();\n",
       " } else {\n",
       " $('div.input').show();\n",
       " }\n",
       " code_show = !code_show\n",
       "} \n",
       "$( document ).ready(code_toggle);\n",
       "</script>\n",
       "<form action=\"javascript:code_toggle()\"><input type=\"submit\" value=\"Click here to toggle on/off the raw code.\"></form>"
      ],
      "text/plain": [
       "<IPython.core.display.HTML object>"
      ]
     },
     "execution_count": 13,
     "metadata": {},
     "output_type": "execute_result"
    }
   ],
   "source": [
    "display.HTML('''<script>\n",
    "code_show=true; \n",
    "function code_toggle() {\n",
    " if (code_show){\n",
    " $('div.input').hide();\n",
    " } else {\n",
    " $('div.input').show();\n",
    " }\n",
    " code_show = !code_show\n",
    "} \n",
    "$( document ).ready(code_toggle);\n",
    "</script>\n",
    "<form action=\"javascript:code_toggle()\"><input type=\"submit\" value=\"Click here to toggle on/off the raw code.\"></form>''')"
   ]
  }
 ],
 "metadata": {
  "kernelspec": {
   "display_name": "Python 3",
   "language": "python",
   "name": "python3"
  },
  "language_info": {
   "codemirror_mode": {
    "name": "ipython",
    "version": 3
   },
   "file_extension": ".py",
   "mimetype": "text/x-python",
   "name": "python",
   "nbconvert_exporter": "python",
   "pygments_lexer": "ipython3",
   "version": "3.6.1"
  }
 },
 "nbformat": 4,
 "nbformat_minor": 2
}
