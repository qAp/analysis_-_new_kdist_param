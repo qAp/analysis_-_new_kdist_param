{
 "cells": [
  {
   "cell_type": "code",
   "execution_count": 1,
   "metadata": {
    "collapsed": true
   },
   "outputs": [],
   "source": [
    "%matplotlib inline\n",
    "import os\n",
    "import re\n",
    "import io\n",
    "import itertools\n",
    "import pprint\n",
    "\n",
    "from bokeh.io import output_notebook, show\n",
    "from bokeh.layouts import gridplot\n",
    "from bokeh.plotting import figure\n",
    "from bokeh.models import Range1d, Legend\n",
    "from bokeh.palettes import all_palettes\n",
    "\n",
    "import matplotlib\n",
    "import matplotlib.pyplot as plt\n",
    "import numpy as np\n",
    "import pandas as pd\n",
    "import xarray as xr\n",
    "\n",
    "import climatools.lblnew.bestfit_params as bestfits\n",
    "from climatools.lblnew import setup_bestfit, setup_overlap\n",
    "import climatools.lblnew.pipeline as pipe_lblnew\n",
    "import climatools.cliradlw.setup as setup_cliradlw\n",
    "import climatools.cliradlw.pipeline as pipe_cliradlw\n",
    "\n",
    "import climatools.html.html as climahtml\n",
    "from climatools.lblnew.dataio import *\n",
    "from climatools.plot.plot import *\n",
    "\n",
    "\n",
    "import IPython.display as display"
   ]
  },
  {
   "cell_type": "code",
   "execution_count": 2,
   "metadata": {
    "collapsed": true
   },
   "outputs": [],
   "source": [
    "%run param.py"
   ]
  },
  {
   "cell_type": "code",
   "execution_count": 3,
   "metadata": {
    "collapsed": true
   },
   "outputs": [],
   "source": [
    "def load_output_file(path_csv):\n",
    "    '''\n",
    "    Load lblnew output .csv file to xarray.Dataset\n",
    "    \n",
    "    Parameters\n",
    "    ----------\n",
    "    path_csv: str\n",
    "              Path to the .csv file to be loaded.\n",
    "    ds: xarray.Dataset\n",
    "        Data in the input file in the form of an xarray.Dataset.\n",
    "    '''\n",
    "    toindex = ['band', 'pressure', 'igg', 'g']    \n",
    "    df = pd.read_csv(path_csv, sep=r'\\s+')\n",
    "    df = df.set_index([i for i in toindex if i in df.columns])\n",
    "    df = df.rename(columns={'sfu': 'flug',\n",
    "                            'sfd': 'fldg',\n",
    "                            'fnet': 'fnetg',\n",
    "                            'coolr': 'coolrg'})\n",
    "    ds = xr.Dataset.from_dataframe(df)\n",
    "\n",
    "    for l in ('level', 'layer'):\n",
    "        if l in ds.data_vars:\n",
    "            if len(ds[l].dims) > 1:\n",
    "                surface = {d: 0 for d in ds.dims if d != 'pressure'}\n",
    "                coord_level = ds[l][surface]\n",
    "                ds.coords[l] = ('pressure', coord_level)\n",
    "            else:\n",
    "                ds.coords[l] = ('pressure', ds[l])\n",
    "    \n",
    "    return ds"
   ]
  },
  {
   "cell_type": "code",
   "execution_count": 4,
   "metadata": {
    "collapsed": true
   },
   "outputs": [],
   "source": [
    "def lblnew_setup(param=None):\n",
    "    if 'ng_refs' in param:\n",
    "        return {'setup': setup_bestfit,\n",
    "                'fname_flux_crd': 'output_flux.dat',\n",
    "                'fname_cool_crd': 'output_coolr.dat',\n",
    "                'fname_flux_wgt': 'output_wfluxg.dat',\n",
    "                'fname_cool_wgt': 'output_wcoolrg.dat'}\n",
    "    else:\n",
    "        return {'setup': setup_overlap,\n",
    "                'fname_flux_crd': 'output_flux.dat',\n",
    "                'fname_cool_crd': 'output_coolr.dat',\n",
    "                'fname_flux_wgt': 'output_wflux.dat',\n",
    "                'fname_cool_wgt': 'output_wcoolr.dat'}\n",
    "\n",
    "    \n",
    "def load_lblnew_data(param):\n",
    "    \n",
    "    fname_dsname = [('fname_flux_crd', 'ds_flux_crd'),\n",
    "                    ('fname_cool_crd', 'ds_cool_crd'),\n",
    "                    ('fname_flux_wgt', 'ds_flux_wgt'),\n",
    "                    ('fname_cool_wgt', 'ds_cool_wgt')]\n",
    "    \n",
    "    d = lblnew_setup(param)\n",
    "    dir_fortran = pipe_lblnew.get_dir_case(param, setup=d['setup'])\n",
    "    \n",
    "    data_dict = {}\n",
    "    for fname, dsname in fname_dsname:\n",
    "        fpath = os.path.join(dir_fortran, d[fname])\n",
    "        data_dict[dsname] = load_output_file(fpath)\n",
    "    return data_dict\n",
    "    \n",
    "\n",
    "    \n",
    "    "
   ]
  },
  {
   "cell_type": "code",
   "execution_count": 5,
   "metadata": {
    "collapsed": true
   },
   "outputs": [],
   "source": [
    "d = load_lblnew_data(PARAM_LBLNEW)\n",
    "\n",
    "DS_FLUX_CRD = d['ds_flux_crd']\n",
    "DS_COOL_CRD = d['ds_cool_crd']\n",
    "DS_FLUX_WGT = d['ds_flux_wgt']\n",
    "DS_COOL_WGT = d['ds_cool_wgt']"
   ]
  },
  {
   "cell_type": "code",
   "execution_count": 6,
   "metadata": {
    "collapsed": true
   },
   "outputs": [],
   "source": [
    "DIR_FORTRAN = pipe_cliradlw.get_fortran_dir(PARAM, \n",
    "                                            setup=setup_cliradlw)\n",
    "\n",
    "PATH_FLUX = os.path.join(DIR_FORTRAN, 'output_flux.dat')\n",
    "PATH_COOL = os.path.join(DIR_FORTRAN, 'output_coolr.dat')\n",
    "\n",
    "DS_FLUX = load_output_file(PATH_FLUX)\n",
    "DS_COOL = load_output_file(PATH_COOL)"
   ]
  },
  {
   "cell_type": "code",
   "execution_count": 7,
   "metadata": {
    "collapsed": true
   },
   "outputs": [
    {
     "data": {
      "text/html": [
       "\n",
       "    <div class=\"bk-root\">\n",
       "        <a href=\"https://bokeh.pydata.org\" target=\"_blank\" class=\"bk-logo bk-logo-small bk-logo-notebook\"></a>\n",
       "        <span id=\"758074bf-7b82-4250-8437-7a18e5566d9b\">Loading BokehJS ...</span>\n",
       "    </div>"
      ]
     },
     "metadata": {},
     "output_type": "display_data"
    },
    {
     "data": {
      "application/javascript": [
       "\n",
       "(function(root) {\n",
       "  function now() {\n",
       "    return new Date();\n",
       "  }\n",
       "\n",
       "  var force = true;\n",
       "\n",
       "  if (typeof (root._bokeh_onload_callbacks) === \"undefined\" || force === true) {\n",
       "    root._bokeh_onload_callbacks = [];\n",
       "    root._bokeh_is_loading = undefined;\n",
       "  }\n",
       "\n",
       "  var JS_MIME_TYPE = 'application/javascript';\n",
       "  var HTML_MIME_TYPE = 'text/html';\n",
       "  var EXEC_MIME_TYPE = 'application/vnd.bokehjs_exec.v0+json';\n",
       "  var CLASS_NAME = 'output_bokeh rendered_html';\n",
       "\n",
       "  /**\n",
       "   * Render data to the DOM node\n",
       "   */\n",
       "  function render(props, node) {\n",
       "    var script = document.createElement(\"script\");\n",
       "    node.appendChild(script);\n",
       "  }\n",
       "\n",
       "  /**\n",
       "   * Handle when an output is cleared or removed\n",
       "   */\n",
       "  function handleClearOutput(event, handle) {\n",
       "    var cell = handle.cell;\n",
       "\n",
       "    var id = cell.output_area._bokeh_element_id;\n",
       "    var server_id = cell.output_area._bokeh_server_id;\n",
       "    // Clean up Bokeh references\n",
       "    if (id !== undefined) {\n",
       "      Bokeh.index[id].model.document.clear();\n",
       "      delete Bokeh.index[id];\n",
       "    }\n",
       "\n",
       "    if (server_id !== undefined) {\n",
       "      // Clean up Bokeh references\n",
       "      var cmd = \"from bokeh.io.state import curstate; print(curstate().uuid_to_server['\" + server_id + \"'].get_sessions()[0].document.roots[0]._id)\";\n",
       "      cell.notebook.kernel.execute(cmd, {\n",
       "        iopub: {\n",
       "          output: function(msg) {\n",
       "            var element_id = msg.content.text.trim();\n",
       "            Bokeh.index[element_id].model.document.clear();\n",
       "            delete Bokeh.index[element_id];\n",
       "          }\n",
       "        }\n",
       "      });\n",
       "      // Destroy server and session\n",
       "      var cmd = \"import bokeh.io.notebook as ion; ion.destroy_server('\" + server_id + \"')\";\n",
       "      cell.notebook.kernel.execute(cmd);\n",
       "    }\n",
       "  }\n",
       "\n",
       "  /**\n",
       "   * Handle when a new output is added\n",
       "   */\n",
       "  function handleAddOutput(event, handle) {\n",
       "    var output_area = handle.output_area;\n",
       "    var output = handle.output;\n",
       "\n",
       "    // limit handleAddOutput to display_data with EXEC_MIME_TYPE content only\n",
       "    if ((output.output_type != \"display_data\") || (!output.data.hasOwnProperty(EXEC_MIME_TYPE))) {\n",
       "      return\n",
       "    }\n",
       "\n",
       "    var toinsert = output_area.element.find(\".\" + CLASS_NAME.split(' ')[0]);\n",
       "\n",
       "    if (output.metadata[EXEC_MIME_TYPE][\"id\"] !== undefined) {\n",
       "      toinsert[toinsert.length - 1].firstChild.textContent = output.data[JS_MIME_TYPE];\n",
       "      // store reference to embed id on output_area\n",
       "      output_area._bokeh_element_id = output.metadata[EXEC_MIME_TYPE][\"id\"];\n",
       "    }\n",
       "    if (output.metadata[EXEC_MIME_TYPE][\"server_id\"] !== undefined) {\n",
       "      var bk_div = document.createElement(\"div\");\n",
       "      bk_div.innerHTML = output.data[HTML_MIME_TYPE];\n",
       "      var script_attrs = bk_div.children[0].attributes;\n",
       "      for (var i = 0; i < script_attrs.length; i++) {\n",
       "        toinsert[toinsert.length - 1].firstChild.setAttribute(script_attrs[i].name, script_attrs[i].value);\n",
       "      }\n",
       "      // store reference to server id on output_area\n",
       "      output_area._bokeh_server_id = output.metadata[EXEC_MIME_TYPE][\"server_id\"];\n",
       "    }\n",
       "  }\n",
       "\n",
       "  function register_renderer(events, OutputArea) {\n",
       "\n",
       "    function append_mime(data, metadata, element) {\n",
       "      // create a DOM node to render to\n",
       "      var toinsert = this.create_output_subarea(\n",
       "        metadata,\n",
       "        CLASS_NAME,\n",
       "        EXEC_MIME_TYPE\n",
       "      );\n",
       "      this.keyboard_manager.register_events(toinsert);\n",
       "      // Render to node\n",
       "      var props = {data: data, metadata: metadata[EXEC_MIME_TYPE]};\n",
       "      render(props, toinsert[toinsert.length - 1]);\n",
       "      element.append(toinsert);\n",
       "      return toinsert\n",
       "    }\n",
       "\n",
       "    /* Handle when an output is cleared or removed */\n",
       "    events.on('clear_output.CodeCell', handleClearOutput);\n",
       "    events.on('delete.Cell', handleClearOutput);\n",
       "\n",
       "    /* Handle when a new output is added */\n",
       "    events.on('output_added.OutputArea', handleAddOutput);\n",
       "\n",
       "    /**\n",
       "     * Register the mime type and append_mime function with output_area\n",
       "     */\n",
       "    OutputArea.prototype.register_mime_type(EXEC_MIME_TYPE, append_mime, {\n",
       "      /* Is output safe? */\n",
       "      safe: true,\n",
       "      /* Index of renderer in `output_area.display_order` */\n",
       "      index: 0\n",
       "    });\n",
       "  }\n",
       "\n",
       "  // register the mime type if in Jupyter Notebook environment and previously unregistered\n",
       "  if (root.Jupyter !== undefined) {\n",
       "    var events = require('base/js/events');\n",
       "    var OutputArea = require('notebook/js/outputarea').OutputArea;\n",
       "\n",
       "    if (OutputArea.prototype.mime_types().indexOf(EXEC_MIME_TYPE) == -1) {\n",
       "      register_renderer(events, OutputArea);\n",
       "    }\n",
       "  }\n",
       "\n",
       "  \n",
       "  if (typeof (root._bokeh_timeout) === \"undefined\" || force === true) {\n",
       "    root._bokeh_timeout = Date.now() + 5000;\n",
       "    root._bokeh_failed_load = false;\n",
       "  }\n",
       "\n",
       "  var NB_LOAD_WARNING = {'data': {'text/html':\n",
       "     \"<div style='background-color: #fdd'>\\n\"+\n",
       "     \"<p>\\n\"+\n",
       "     \"BokehJS does not appear to have successfully loaded. If loading BokehJS from CDN, this \\n\"+\n",
       "     \"may be due to a slow or bad network connection. Possible fixes:\\n\"+\n",
       "     \"</p>\\n\"+\n",
       "     \"<ul>\\n\"+\n",
       "     \"<li>re-rerun `output_notebook()` to attempt to load from CDN again, or</li>\\n\"+\n",
       "     \"<li>use INLINE resources instead, as so:</li>\\n\"+\n",
       "     \"</ul>\\n\"+\n",
       "     \"<code>\\n\"+\n",
       "     \"from bokeh.resources import INLINE\\n\"+\n",
       "     \"output_notebook(resources=INLINE)\\n\"+\n",
       "     \"</code>\\n\"+\n",
       "     \"</div>\"}};\n",
       "\n",
       "  function display_loaded() {\n",
       "    var el = document.getElementById(\"758074bf-7b82-4250-8437-7a18e5566d9b\");\n",
       "    if (el != null) {\n",
       "      el.textContent = \"BokehJS is loading...\";\n",
       "    }\n",
       "    if (root.Bokeh !== undefined) {\n",
       "      if (el != null) {\n",
       "        el.textContent = \"BokehJS \" + root.Bokeh.version + \" successfully loaded.\";\n",
       "      }\n",
       "    } else if (Date.now() < root._bokeh_timeout) {\n",
       "      setTimeout(display_loaded, 100)\n",
       "    }\n",
       "  }\n",
       "\n",
       "\n",
       "  function run_callbacks() {\n",
       "    try {\n",
       "      root._bokeh_onload_callbacks.forEach(function(callback) { callback() });\n",
       "    }\n",
       "    finally {\n",
       "      delete root._bokeh_onload_callbacks\n",
       "    }\n",
       "    console.info(\"Bokeh: all callbacks have finished\");\n",
       "  }\n",
       "\n",
       "  function load_libs(js_urls, callback) {\n",
       "    root._bokeh_onload_callbacks.push(callback);\n",
       "    if (root._bokeh_is_loading > 0) {\n",
       "      console.log(\"Bokeh: BokehJS is being loaded, scheduling callback at\", now());\n",
       "      return null;\n",
       "    }\n",
       "    if (js_urls == null || js_urls.length === 0) {\n",
       "      run_callbacks();\n",
       "      return null;\n",
       "    }\n",
       "    console.log(\"Bokeh: BokehJS not loaded, scheduling load and callback at\", now());\n",
       "    root._bokeh_is_loading = js_urls.length;\n",
       "    for (var i = 0; i < js_urls.length; i++) {\n",
       "      var url = js_urls[i];\n",
       "      var s = document.createElement('script');\n",
       "      s.src = url;\n",
       "      s.async = false;\n",
       "      s.onreadystatechange = s.onload = function() {\n",
       "        root._bokeh_is_loading--;\n",
       "        if (root._bokeh_is_loading === 0) {\n",
       "          console.log(\"Bokeh: all BokehJS libraries loaded\");\n",
       "          run_callbacks()\n",
       "        }\n",
       "      };\n",
       "      s.onerror = function() {\n",
       "        console.warn(\"failed to load library \" + url);\n",
       "      };\n",
       "      console.log(\"Bokeh: injecting script tag for BokehJS library: \", url);\n",
       "      document.getElementsByTagName(\"head\")[0].appendChild(s);\n",
       "    }\n",
       "  };var element = document.getElementById(\"758074bf-7b82-4250-8437-7a18e5566d9b\");\n",
       "  if (element == null) {\n",
       "    console.log(\"Bokeh: ERROR: autoload.js configured with elementid '758074bf-7b82-4250-8437-7a18e5566d9b' but no matching script tag was found. \")\n",
       "    return false;\n",
       "  }\n",
       "\n",
       "  var js_urls = [\"https://cdn.pydata.org/bokeh/release/bokeh-0.12.16.min.js\", \"https://cdn.pydata.org/bokeh/release/bokeh-widgets-0.12.16.min.js\", \"https://cdn.pydata.org/bokeh/release/bokeh-tables-0.12.16.min.js\", \"https://cdn.pydata.org/bokeh/release/bokeh-gl-0.12.16.min.js\"];\n",
       "\n",
       "  var inline_js = [\n",
       "    function(Bokeh) {\n",
       "      Bokeh.set_log_level(\"info\");\n",
       "    },\n",
       "    \n",
       "    function(Bokeh) {\n",
       "      \n",
       "    },\n",
       "    function(Bokeh) {\n",
       "      console.log(\"Bokeh: injecting CSS: https://cdn.pydata.org/bokeh/release/bokeh-0.12.16.min.css\");\n",
       "      Bokeh.embed.inject_css(\"https://cdn.pydata.org/bokeh/release/bokeh-0.12.16.min.css\");\n",
       "      console.log(\"Bokeh: injecting CSS: https://cdn.pydata.org/bokeh/release/bokeh-widgets-0.12.16.min.css\");\n",
       "      Bokeh.embed.inject_css(\"https://cdn.pydata.org/bokeh/release/bokeh-widgets-0.12.16.min.css\");\n",
       "      console.log(\"Bokeh: injecting CSS: https://cdn.pydata.org/bokeh/release/bokeh-tables-0.12.16.min.css\");\n",
       "      Bokeh.embed.inject_css(\"https://cdn.pydata.org/bokeh/release/bokeh-tables-0.12.16.min.css\");\n",
       "    }\n",
       "  ];\n",
       "\n",
       "  function run_inline_js() {\n",
       "    \n",
       "    if ((root.Bokeh !== undefined) || (force === true)) {\n",
       "      for (var i = 0; i < inline_js.length; i++) {\n",
       "        inline_js[i].call(root, root.Bokeh);\n",
       "      }if (force === true) {\n",
       "        display_loaded();\n",
       "      }} else if (Date.now() < root._bokeh_timeout) {\n",
       "      setTimeout(run_inline_js, 100);\n",
       "    } else if (!root._bokeh_failed_load) {\n",
       "      console.log(\"Bokeh: BokehJS failed to load within specified timeout.\");\n",
       "      root._bokeh_failed_load = true;\n",
       "    } else if (force !== true) {\n",
       "      var cell = $(document.getElementById(\"758074bf-7b82-4250-8437-7a18e5566d9b\")).parents('.cell').data().cell;\n",
       "      cell.output_area.append_execute_result(NB_LOAD_WARNING)\n",
       "    }\n",
       "\n",
       "  }\n",
       "\n",
       "  if (root._bokeh_is_loading === 0) {\n",
       "    console.log(\"Bokeh: BokehJS loaded, going straight to plotting\");\n",
       "    run_inline_js();\n",
       "  } else {\n",
       "    load_libs(js_urls, function() {\n",
       "      console.log(\"Bokeh: BokehJS plotting callback run at\", now());\n",
       "      run_inline_js();\n",
       "    });\n",
       "  }\n",
       "}(window));"
      ],
      "application/vnd.bokehjs_load.v0+json": "\n(function(root) {\n  function now() {\n    return new Date();\n  }\n\n  var force = true;\n\n  if (typeof (root._bokeh_onload_callbacks) === \"undefined\" || force === true) {\n    root._bokeh_onload_callbacks = [];\n    root._bokeh_is_loading = undefined;\n  }\n\n  \n\n  \n  if (typeof (root._bokeh_timeout) === \"undefined\" || force === true) {\n    root._bokeh_timeout = Date.now() + 5000;\n    root._bokeh_failed_load = false;\n  }\n\n  var NB_LOAD_WARNING = {'data': {'text/html':\n     \"<div style='background-color: #fdd'>\\n\"+\n     \"<p>\\n\"+\n     \"BokehJS does not appear to have successfully loaded. If loading BokehJS from CDN, this \\n\"+\n     \"may be due to a slow or bad network connection. Possible fixes:\\n\"+\n     \"</p>\\n\"+\n     \"<ul>\\n\"+\n     \"<li>re-rerun `output_notebook()` to attempt to load from CDN again, or</li>\\n\"+\n     \"<li>use INLINE resources instead, as so:</li>\\n\"+\n     \"</ul>\\n\"+\n     \"<code>\\n\"+\n     \"from bokeh.resources import INLINE\\n\"+\n     \"output_notebook(resources=INLINE)\\n\"+\n     \"</code>\\n\"+\n     \"</div>\"}};\n\n  function display_loaded() {\n    var el = document.getElementById(\"758074bf-7b82-4250-8437-7a18e5566d9b\");\n    if (el != null) {\n      el.textContent = \"BokehJS is loading...\";\n    }\n    if (root.Bokeh !== undefined) {\n      if (el != null) {\n        el.textContent = \"BokehJS \" + root.Bokeh.version + \" successfully loaded.\";\n      }\n    } else if (Date.now() < root._bokeh_timeout) {\n      setTimeout(display_loaded, 100)\n    }\n  }\n\n\n  function run_callbacks() {\n    try {\n      root._bokeh_onload_callbacks.forEach(function(callback) { callback() });\n    }\n    finally {\n      delete root._bokeh_onload_callbacks\n    }\n    console.info(\"Bokeh: all callbacks have finished\");\n  }\n\n  function load_libs(js_urls, callback) {\n    root._bokeh_onload_callbacks.push(callback);\n    if (root._bokeh_is_loading > 0) {\n      console.log(\"Bokeh: BokehJS is being loaded, scheduling callback at\", now());\n      return null;\n    }\n    if (js_urls == null || js_urls.length === 0) {\n      run_callbacks();\n      return null;\n    }\n    console.log(\"Bokeh: BokehJS not loaded, scheduling load and callback at\", now());\n    root._bokeh_is_loading = js_urls.length;\n    for (var i = 0; i < js_urls.length; i++) {\n      var url = js_urls[i];\n      var s = document.createElement('script');\n      s.src = url;\n      s.async = false;\n      s.onreadystatechange = s.onload = function() {\n        root._bokeh_is_loading--;\n        if (root._bokeh_is_loading === 0) {\n          console.log(\"Bokeh: all BokehJS libraries loaded\");\n          run_callbacks()\n        }\n      };\n      s.onerror = function() {\n        console.warn(\"failed to load library \" + url);\n      };\n      console.log(\"Bokeh: injecting script tag for BokehJS library: \", url);\n      document.getElementsByTagName(\"head\")[0].appendChild(s);\n    }\n  };var element = document.getElementById(\"758074bf-7b82-4250-8437-7a18e5566d9b\");\n  if (element == null) {\n    console.log(\"Bokeh: ERROR: autoload.js configured with elementid '758074bf-7b82-4250-8437-7a18e5566d9b' but no matching script tag was found. \")\n    return false;\n  }\n\n  var js_urls = [\"https://cdn.pydata.org/bokeh/release/bokeh-0.12.16.min.js\", \"https://cdn.pydata.org/bokeh/release/bokeh-widgets-0.12.16.min.js\", \"https://cdn.pydata.org/bokeh/release/bokeh-tables-0.12.16.min.js\", \"https://cdn.pydata.org/bokeh/release/bokeh-gl-0.12.16.min.js\"];\n\n  var inline_js = [\n    function(Bokeh) {\n      Bokeh.set_log_level(\"info\");\n    },\n    \n    function(Bokeh) {\n      \n    },\n    function(Bokeh) {\n      console.log(\"Bokeh: injecting CSS: https://cdn.pydata.org/bokeh/release/bokeh-0.12.16.min.css\");\n      Bokeh.embed.inject_css(\"https://cdn.pydata.org/bokeh/release/bokeh-0.12.16.min.css\");\n      console.log(\"Bokeh: injecting CSS: https://cdn.pydata.org/bokeh/release/bokeh-widgets-0.12.16.min.css\");\n      Bokeh.embed.inject_css(\"https://cdn.pydata.org/bokeh/release/bokeh-widgets-0.12.16.min.css\");\n      console.log(\"Bokeh: injecting CSS: https://cdn.pydata.org/bokeh/release/bokeh-tables-0.12.16.min.css\");\n      Bokeh.embed.inject_css(\"https://cdn.pydata.org/bokeh/release/bokeh-tables-0.12.16.min.css\");\n    }\n  ];\n\n  function run_inline_js() {\n    \n    if ((root.Bokeh !== undefined) || (force === true)) {\n      for (var i = 0; i < inline_js.length; i++) {\n        inline_js[i].call(root, root.Bokeh);\n      }if (force === true) {\n        display_loaded();\n      }} else if (Date.now() < root._bokeh_timeout) {\n      setTimeout(run_inline_js, 100);\n    } else if (!root._bokeh_failed_load) {\n      console.log(\"Bokeh: BokehJS failed to load within specified timeout.\");\n      root._bokeh_failed_load = true;\n    } else if (force !== true) {\n      var cell = $(document.getElementById(\"758074bf-7b82-4250-8437-7a18e5566d9b\")).parents('.cell').data().cell;\n      cell.output_area.append_execute_result(NB_LOAD_WARNING)\n    }\n\n  }\n\n  if (root._bokeh_is_loading === 0) {\n    console.log(\"Bokeh: BokehJS loaded, going straight to plotting\");\n    run_inline_js();\n  } else {\n    load_libs(js_urls, function() {\n      console.log(\"Bokeh: BokehJS plotting callback run at\", now());\n      run_inline_js();\n    });\n  }\n}(window));"
     },
     "metadata": {},
     "output_type": "display_data"
    }
   ],
   "source": [
    "output_notebook()"
   ]
  },
  {
   "cell_type": "code",
   "execution_count": 8,
   "metadata": {
    "collapsed": true
   },
   "outputs": [],
   "source": [
    "def fmt_cool(ds_in):\n",
    "    ds = ds_in.copy(deep=True)\n",
    "    if 'igg' in ds.dims:\n",
    "        ds = ds.sel(igg=1)\n",
    "\n",
    "    if 'g' in ds.dims:\n",
    "        ds = ds.sum('g')\n",
    "            \n",
    "    if 'band' in ds.dims:\n",
    "        try:\n",
    "            ds = ds.squeeze('band')\n",
    "        except ValueError:\n",
    "            ds = ds.sum('band')\n",
    "                \n",
    "    return ds['coolrg']\n",
    "\n",
    "\n",
    "def pltdata_cooling_1(ds_cool=None,\n",
    "                      ds_cool_crd=None, ds_cool_wgt=None):\n",
    "    \n",
    "\n",
    "\n",
    "    colors = all_palettes['Set1'][4]\n",
    "    data = [{'label': 'CLIRAD `coolr_bands`',\n",
    "             'srs': fmt_cool(ds_cool),\n",
    "             'line_dash': 'dashed', 'line_width': 5,\n",
    "             'color': colors[0], 'alpha': .6},\n",
    "            {'label': 'CRD',\n",
    "             'srs': fmt_cool(ds_cool_crd),\n",
    "             'line_dash': 'solid', 'line_width': 1.5,\n",
    "             'marker': 'circle', 'marker_size': 5,\n",
    "             'color': colors[2], 'alpha': 1,},\n",
    "            {'label': 'WGT igg=10 wgt_flux=2',\n",
    "             'srs': fmt_cool(ds_cool_wgt),\n",
    "             'line_dash': 'solid', 'line_width': 3,\n",
    "             'marker': 'square', 'marker_size': 5,\n",
    "             'color': colors[3], 'alpha': .6}]\n",
    "    return data\n",
    "\n",
    "\n",
    "def nice_xlims(pltdata=None, prange=None):\n",
    "    \n",
    "    def get_slice(srs):\n",
    "        return srs.sel(pressure=slice(*prange))\n",
    "    \n",
    "    srss = [d['srs'] for d in pltdata]\n",
    "    vmin = min([get_slice(srs).min() for srs in srss])\n",
    "    vmax = max([get_slice(srs).max() for srs in srss])\n",
    "    dv = (vmax - vmin) * .01\n",
    "    return float(vmin - dv), float(vmax + dv)\n",
    "    \n",
    "\n",
    "def plt_cooling_bokeh(pltdata=None):\n",
    "    '''\n",
    "    Plot a list of cooling rate profiles using bokeh.\n",
    "    '''\n",
    "    ymin = 1e-2 \n",
    "    ymax = 1020 \n",
    "        \n",
    "    p1 = figure(title=\"Linear pressure scale\", \n",
    "                plot_width=400)        \n",
    "    xmin, xmax = nice_xlims(pltdata, prange=(50, 1050))\n",
    "    for d in pltdata:\n",
    "        if 'marker' in d:\n",
    "            getattr(p1, d['marker'])(d['srs'].values, \n",
    "                    d['srs'].coords['pressure'].values,\n",
    "                    color=d['color'], alpha=.7)\n",
    "        p1.line(d['srs'].values, \n",
    "                d['srs'].coords['pressure'].values,\n",
    "                color=d['color'], alpha=d['alpha'], \n",
    "                line_width=d['line_width'], line_dash=d['line_dash'])\n",
    "    \n",
    "    p1.y_range = Range1d(ymax, ymin)\n",
    "    p1.yaxis.axis_label = 'pressure [mb]'   \n",
    "    p1.x_range = Range1d(xmin, xmax)\n",
    "    p1.xaxis.axis_label = 'cooling rate [K/day]'\n",
    "            \n",
    "    p2 = figure(title='Log pressure scale', y_axis_type='log',\n",
    "                plot_width=560)\n",
    "    xmin, xmax = nice_xlims(pltdata, prange=(.01, 200))\n",
    "    \n",
    "    rs = []\n",
    "    for d in pltdata:\n",
    "        rd = []\n",
    "        if 'marker' in d:\n",
    "            r_mark = getattr(p2, d['marker'])(d['srs'].values, \n",
    "                        d['srs'].coords['pressure'].values,\n",
    "                        color=d['color'], alpha=.7)\n",
    "            rd.append(r_mark)\n",
    "        r_line = p2.line(d['srs'].values, \n",
    "                    d['srs'].coords['pressure'].values,\n",
    "                    color=d['color'], alpha=d['alpha'], \n",
    "                    line_width=d['line_width'], line_dash=d['line_dash'])\n",
    "        rd.append(r_line)\n",
    "      \n",
    "        rs.append(rd)\n",
    "        \n",
    "    p2.y_range = Range1d(ymax, ymin)  \n",
    "    p2.yaxis.axis_label = 'pressure [mb]'\n",
    "    \n",
    "    p2.x_range = Range1d(xmin, xmax)\n",
    "    p2.xaxis.axis_label = 'cooling rate [K/day]'\n",
    "    \n",
    "    items = [(d['label'], r) for r, d in zip(rs, pltdata)]\n",
    "    legend = Legend(items=items, location=(10, -30))\n",
    "    legend.label_text_font_size = '8pt'\n",
    "    \n",
    "    p2.add_layout(legend, 'right')  \n",
    "    \n",
    "    show(gridplot(p1, p2, ncols=2, plot_height=500))\n",
    "    \n",
    "\n",
    "def script_plt_cooling():\n",
    "    pltdata = pltdata_cooling_1(\n",
    "        ds_cool=DS_COOL,\n",
    "        ds_cool_crd=DS_COOL_CRD,\n",
    "        ds_cool_wgt=DS_COOL_WGT)\n",
    "    plt_cooling_bokeh(pltdata=pltdata)\n",
    "    print('''FIGURE. Cooling rate profiles.''')"
   ]
  },
  {
   "cell_type": "code",
   "execution_count": 9,
   "metadata": {
    "collapsed": true
   },
   "outputs": [],
   "source": [
    "def fmt_flux(ds_in):\n",
    "    ds = ds_in.copy(deep=True)\n",
    "    \n",
    "    for l in ('level', 'layer'):\n",
    "        if l in ds.data_vars:\n",
    "            if len(ds[l].dims) > 1:\n",
    "                surface = {d: 0 for d in ds.dims if d != 'pressure'}\n",
    "                coord_level = ds[l][surface]\n",
    "                ds.coords[l] = ('pressure', coord_level)\n",
    "            else:\n",
    "                ds.coords[l] = ('pressure', ds[l])\n",
    "        \n",
    "    ds = ds.isel(pressure=[0, 23, -1])\n",
    "        \n",
    "    if 'igg' in ds.dims:\n",
    "        ds = ds.sel(igg=[1])\n",
    "        ds = ds.squeeze('igg').drop('igg')\n",
    "    \n",
    "    if 'g' in ds.dims:\n",
    "        ds = ds.sum('g')\n",
    "            \n",
    "    if 'band' in ds.dims:\n",
    "        try:\n",
    "            ds = ds.squeeze('band').drop('band')\n",
    "        except ValueError:\n",
    "            ds = ds.sum('band')\n",
    "                \n",
    "    df = ds.to_dataframe()\n",
    "    df = df.set_index('level', append=True)               \n",
    "    return df\n",
    "\n",
    "\n",
    "def tbdata_flux(ds_flux=None, ds_flux_crd=None, ds_flux_wgt=None):\n",
    "    ilevels = [0, 23, -1]\n",
    "            \n",
    "    benchmark = {'label': 'CRD',\n",
    "                 'df': fmt_flux(ds_flux_crd)}\n",
    "    \n",
    "    tbs = [{'label': 'WGT igg=10 wgt_flux=1',\n",
    "            'df': fmt_flux(ds_flux_wgt)},\n",
    "           {'label': 'CLIRAD',\n",
    "            'df': fmt_flux(ds_flux)}]\n",
    "    \n",
    "    data = {'benchmark': benchmark, 'others': tbs}\n",
    "    return data\n",
    "\n",
    "\n",
    "def tb_flux(tbdata=None):\n",
    "    benchmark = tbdata['benchmark']\n",
    "    others = tbdata['others']\n",
    "    \n",
    "    def show_tb(d=None):\n",
    "        display.display(d['df'])\n",
    "        print('Table.', 'Fluxes.', d['label'])\n",
    "        \n",
    "    def show_tbdiff(d0=None, d=None):\n",
    "        df = d['df']\n",
    "        df.index = d0['df'].index\n",
    "        display.display(df - d0['df'])\n",
    "        print('Table.', 'Fluxes.', \n",
    "              '({}) - ({})'.format(d['label'], d0['label']))\n",
    "        \n",
    "    show_tb(benchmark)\n",
    "    for d in others:\n",
    "        show_tb(d)\n",
    "        \n",
    "    for d in others:\n",
    "        show_tbdiff(d=d, d0=benchmark)\n",
    "        \n",
    "        \n",
    "def script_tb_flux():\n",
    "    data = tbdata_flux(ds_flux=DS_FLUX,\n",
    "                       ds_flux_crd=DS_FLUX_CRD,\n",
    "                       ds_flux_wgt=DS_FLUX_WGT)\n",
    "    tb_flux(tbdata=data)"
   ]
  },
  {
   "cell_type": "code",
   "execution_count": 10,
   "metadata": {
    "collapsed": true
   },
   "outputs": [],
   "source": [
    "def band_map():\n",
    "    '''\n",
    "    Maps spectral bands in lblnew to spectral bands in clirad.\n",
    "    '''\n",
    "    lblnew2clirad = {'1': '1',\n",
    "            '2': '2',\n",
    "            '3a': '3',\n",
    "            '3b': '4',\n",
    "            '3c': '5',\n",
    "            '4': '6', \n",
    "            '5': '7',\n",
    "            '6': '8',\n",
    "            '7': '9', \n",
    "            '8': '10',\n",
    "            '9': '11'}\n",
    "    \n",
    "    clirad2lblnew = {clirad: lblnew \n",
    "                     for lblnew, clirad in lblnew2clirad.items()}\n",
    "    return clirad2lblnew\n",
    "\n",
    "\n",
    "def gasbands():\n",
    "    bmap = band_map()\n",
    "    gases = list(PARAM['molecule'].keys())\n",
    "    \n",
    "    bands = [bmap[str(b)] for b in PARAM['band']]\n",
    "    return list(itertools.product(gases, bands))\n",
    "\n",
    "\n",
    "def print_bestfit_params():\n",
    "    print('Best-fit values for each (gas, band)')\n",
    "    print('------------------------------------')\n",
    "    for gas, band in gasbands():\n",
    "        print('o {} band{}'.format(gas, band))\n",
    "        param = bestfits.kdist_params(molecule=gas, band=band)\n",
    "        for name, value in sorted(param.items()):\n",
    "            print(2 * ' ' + '{} = {}'.format(name, value))\n",
    "\n",
    "        \n",
    "def print_input_param():        \n",
    "    for name, value in PARAM.items():\n",
    "        print('{} = {}'.format(name, value))\n",
    "        \n",
    "        \n",
    "def print_lblnew_param():\n",
    "    for name, value in sorted(PARAM_LBLNEW.items()):\n",
    "        print('{} = {}'.format(name, value))\n"
   ]
  },
  {
   "cell_type": "code",
   "execution_count": 11,
   "metadata": {
    "collapsed": true,
    "scrolled": false
   },
   "outputs": [],
   "source": [
    "def show_html(s):\n",
    "    display.display(display.HTML(s))\n",
    "\n",
    "    \n",
    "def show_markdown(s):\n",
    "    display.display(display.Markdown(s))\n",
    "\n",
    "    \n",
    "def script():\n",
    "    \n",
    "    title = '### CLIRAD-LW'\n",
    "    s_input = 'Input Parameters'\n",
    "    s_lblnew_param = 'LBLNEW case compaired against'\n",
    "    s_bestfits = 'Best-fit Parameters'\n",
    "    s_plt_cooling = 'Cooling Rate Profiles'\n",
    "    s_tb_flux = 'Flux Comparison'\n",
    "    \n",
    "    # title\n",
    "    show_markdown('### CLIRAD-LW')\n",
    "    \n",
    "    # TOC\n",
    "    show_markdown('### Table of Contents')\n",
    "    show_html(climahtml.getHTML_hrefanchor(s_input))\n",
    "    show_html(climahtml.getHTML_hrefanchor(s_lblnew_param))\n",
    "    show_html(climahtml.getHTML_hrefanchor(s_plt_cooling))\n",
    "    show_html(climahtml.getHTML_hrefanchor(s_tb_flux))\n",
    "    show_html(climahtml.getHTML_hrefanchor(s_bestfits))\n",
    "    \n",
    "    # Input parameters\n",
    "    show_html(climahtml.getHTML_idanchor(s_input))\n",
    "    show_markdown(climahtml.getMarkdown_sectitle(s_input))\n",
    "    print_input_param()\n",
    "    \n",
    "    # LBLNEW parameters \n",
    "    show_html(climahtml.getHTML_idanchor(s_lblnew_param))\n",
    "    show_markdown(climahtml.getMarkdown_sectitle(s_lblnew_param))\n",
    "    print_lblnew_param()\n",
    "    \n",
    "    # Cooling rate profiles\n",
    "    show_html(climahtml.getHTML_idanchor(s_plt_cooling))\n",
    "    show_markdown(climahtml.getMarkdown_sectitle(s_plt_cooling))\n",
    "    script_plt_cooling()\n",
    "    \n",
    "    # Flux comparison\n",
    "    show_html(climahtml.getHTML_idanchor(s_tb_flux))\n",
    "    show_markdown(climahtml.getMarkdown_sectitle(s_tb_flux))\n",
    "    script_tb_flux()\n",
    "    \n",
    "    # Best-fit values\n",
    "    show_html(climahtml.getHTML_idanchor(s_bestfits))\n",
    "    show_markdown(climahtml.getMarkdown_sectitle(s_bestfits))\n",
    "    print_bestfit_params()\n",
    "   \n",
    "    "
   ]
  },
  {
   "cell_type": "code",
   "execution_count": 12,
   "metadata": {
    "collapsed": true,
    "scrolled": false
   },
   "outputs": [
    {
     "data": {
      "text/markdown": [
       "### CLIRAD-LW"
      ],
      "text/plain": [
       "<IPython.core.display.Markdown object>"
      ]
     },
     "metadata": {},
     "output_type": "display_data"
    },
    {
     "data": {
      "text/markdown": [
       "### Table of Contents"
      ],
      "text/plain": [
       "<IPython.core.display.Markdown object>"
      ]
     },
     "metadata": {},
     "output_type": "display_data"
    },
    {
     "data": {
      "text/html": [
       "<a href=\"#Input_Parameters\">Input Parameters</a>"
      ],
      "text/plain": [
       "<IPython.core.display.HTML object>"
      ]
     },
     "metadata": {},
     "output_type": "display_data"
    },
    {
     "data": {
      "text/html": [
       "<a href=\"#LBLNEW_case_compaired_against\">LBLNEW case compaired against</a>"
      ],
      "text/plain": [
       "<IPython.core.display.HTML object>"
      ]
     },
     "metadata": {},
     "output_type": "display_data"
    },
    {
     "data": {
      "text/html": [
       "<a href=\"#Cooling_Rate_Profiles\">Cooling Rate Profiles</a>"
      ],
      "text/plain": [
       "<IPython.core.display.HTML object>"
      ]
     },
     "metadata": {},
     "output_type": "display_data"
    },
    {
     "data": {
      "text/html": [
       "<a href=\"#Flux_Comparison\">Flux Comparison</a>"
      ],
      "text/plain": [
       "<IPython.core.display.HTML object>"
      ]
     },
     "metadata": {},
     "output_type": "display_data"
    },
    {
     "data": {
      "text/html": [
       "<a href=\"#Best-fit_Parameters\">Best-fit Parameters</a>"
      ],
      "text/plain": [
       "<IPython.core.display.HTML object>"
      ]
     },
     "metadata": {},
     "output_type": "display_data"
    },
    {
     "data": {
      "text/html": [
       "<a id=\"Input_Parameters\"></a>"
      ],
      "text/plain": [
       "<IPython.core.display.HTML object>"
      ]
     },
     "metadata": {},
     "output_type": "display_data"
    },
    {
     "data": {
      "text/markdown": [
       "# Input Parameters"
      ],
      "text/plain": [
       "<IPython.core.display.Markdown object>"
      ]
     },
     "metadata": {},
     "output_type": "display_data"
    },
    {
     "name": "stdout",
     "output_type": "stream",
     "text": [
      "atmpro = saw\n",
      "band = [3]\n",
      "commitnumber = de5d43e\n",
      "molecule = {'co2': 0.0004}\n",
      "tsfc = 257\n"
     ]
    },
    {
     "data": {
      "text/html": [
       "<a id=\"LBLNEW_case_compaired_against\"></a>"
      ],
      "text/plain": [
       "<IPython.core.display.HTML object>"
      ]
     },
     "metadata": {},
     "output_type": "display_data"
    },
    {
     "data": {
      "text/markdown": [
       "# LBLNEW case compaired against"
      ],
      "text/plain": [
       "<IPython.core.display.Markdown object>"
      ]
     },
     "metadata": {},
     "output_type": "display_data"
    },
    {
     "name": "stdout",
     "output_type": "stream",
     "text": [
      "atmpro = saw\n",
      "band = 3a\n",
      "commitnumber = a06b618\n",
      "conc = 0.0004\n",
      "dv = 0.001\n",
      "klin = 6.375563e-24\n",
      "molecule = co2\n",
      "ng_adju = [0, 0, 0]\n",
      "ng_refs = [3, 2, 4]\n",
      "nv = 1000\n",
      "option_compute_btable = 0\n",
      "option_compute_ktable = 0\n",
      "option_wgt_flux = 1\n",
      "option_wgt_k = 1\n",
      "ref_pts = [(1, 250), (10, 250), (500, 250)]\n",
      "tsfc = 257\n",
      "vmax = 620\n",
      "vmin = 540\n",
      "w_diffuse = [(1.6, 1.6, 1.7), (1.75, 1.75), (1.55, 1.55, 1.6, 1.85)]\n",
      "wgt = [(0.7, 0.3, 0.7), (0.7, 0.6), (0.4, 0.5, 0.8, 0.95)]\n"
     ]
    },
    {
     "data": {
      "text/html": [
       "<a id=\"Cooling_Rate_Profiles\"></a>"
      ],
      "text/plain": [
       "<IPython.core.display.HTML object>"
      ]
     },
     "metadata": {},
     "output_type": "display_data"
    },
    {
     "data": {
      "text/markdown": [
       "# Cooling Rate Profiles"
      ],
      "text/plain": [
       "<IPython.core.display.Markdown object>"
      ]
     },
     "metadata": {},
     "output_type": "display_data"
    },
    {
     "data": {
      "text/html": [
       "\n",
       "<div class=\"bk-root\">\n",
       "    <div class=\"bk-plotdiv\" id=\"a865c84b-b09c-4961-b2b3-40c96a62beda\"></div>\n",
       "</div>"
      ]
     },
     "metadata": {},
     "output_type": "display_data"
    },
    {
     "data": {
      "application/javascript": [
       "(function(root) {\n",
       "  function embed_document(root) {\n",
       "    \n",
       "  var docs_json = {\"61d2944f-f669-45d0-ac1e-1facd05c1806\":{\"roots\":{\"references\":[{\"attributes\":{},\"id\":\"12914c4a-a850-4222-82e1-77ed55585e9a\",\"type\":\"SaveTool\"},{\"attributes\":{\"line_alpha\":0.6,\"line_color\":\"#984ea3\",\"line_width\":3,\"x\":{\"field\":\"x\"},\"y\":{\"field\":\"y\"}},\"id\":\"faf180f8-7fb1-4db8-a943-21386f2fc58c\",\"type\":\"Line\"},{\"attributes\":{\"active_drag\":\"auto\",\"active_inspect\":\"auto\",\"active_scroll\":\"auto\",\"active_tap\":\"auto\",\"tools\":[{\"id\":\"85485e91-fb92-481f-a736-1e78474a34e2\",\"type\":\"PanTool\"},{\"id\":\"8d013c60-46b9-488f-bdc1-98ee2a86b7a7\",\"type\":\"WheelZoomTool\"},{\"id\":\"fbc73fe6-9312-4dee-a3e4-d9ea0aaffffc\",\"type\":\"BoxZoomTool\"},{\"id\":\"12914c4a-a850-4222-82e1-77ed55585e9a\",\"type\":\"SaveTool\"},{\"id\":\"0b4bd07d-4726-4fbd-a184-6a6c60f898a9\",\"type\":\"ResetTool\"},{\"id\":\"7d9dd17e-ecb8-4d71-9f95-eaa4b305f95e\",\"type\":\"HelpTool\"}]},\"id\":\"cd78d8ff-54e7-445c-bea6-7b11921d4994\",\"type\":\"Toolbar\"},{\"attributes\":{},\"id\":\"a078485a-5171-4ac0-8293-49cc6d7c69ee\",\"type\":\"ResetTool\"},{\"attributes\":{\"callback\":null,\"end\":0.01,\"start\":1020},\"id\":\"7aca67bd-dfe0-4be6-b716-e0acd8137284\",\"type\":\"Range1d\"},{\"attributes\":{},\"id\":\"67243332-5831-4101-afc1-63efacf38bd1\",\"type\":\"LinearScale\"},{\"attributes\":{},\"id\":\"7d9dd17e-ecb8-4d71-9f95-eaa4b305f95e\",\"type\":\"HelpTool\"},{\"attributes\":{},\"id\":\"05e49e6e-fdee-454d-b828-d28d5b0edfc3\",\"type\":\"PanTool\"},{\"attributes\":{},\"id\":\"053d3d98-5fa1-4e72-b07e-394f034f7ba3\",\"type\":\"SaveTool\"},{\"attributes\":{\"data_source\":{\"id\":\"9a499db1-583f-4d8b-b0c0-6194f31a97cc\",\"type\":\"ColumnDataSource\"},\"glyph\":{\"id\":\"d5bcaa05-fa02-49be-844d-cd5823da93fd\",\"type\":\"Line\"},\"hover_glyph\":null,\"muted_glyph\":null,\"nonselection_glyph\":{\"id\":\"0c71f324-9e54-4800-bb4d-fcb09a090484\",\"type\":\"Line\"},\"selection_glyph\":null,\"view\":{\"id\":\"df503029-d762-4e38-962f-cb9a59924eb1\",\"type\":\"CDSView\"}},\"id\":\"689a6a6f-0fc9-4009-a7e8-8ca059037bdc\",\"type\":\"GlyphRenderer\"},{\"attributes\":{},\"id\":\"8d013c60-46b9-488f-bdc1-98ee2a86b7a7\",\"type\":\"WheelZoomTool\"},{\"attributes\":{},\"id\":\"b9f742ff-89d2-4d20-90f9-38c3b67301c7\",\"type\":\"LinearScale\"},{\"attributes\":{\"plot\":null,\"text\":\"Linear pressure scale\"},\"id\":\"c8f06ec0-d2f9-4811-b584-4ebc29968d94\",\"type\":\"Title\"},{\"attributes\":{\"callback\":null,\"data\":{\"x\":{\"__ndarray__\":\"pBQZwtYRyD+8S1YDnHfLPzurw9nGwtI/r90LBrZO2D952q91iEPeP1AlHN21QuI/RC8nkRJ15T+6K2Cn/ZvoPwWVyHAClOs/8Ygjcm4x7j9hK7LnfCLwP8+CUN7H0fA/uoA8YMMY8T/YgXNGlJbwPzUjKCPTJu4/N0b81MJW6j9FetXzA9HmP9HEIiPz6uM/r2soc/ve4T/oxssF9OPgP6VZTZX3auE/oHF+Fo1t3z+cPJ/g5v3WP0IWWLbF69A/wudekpBpyj8DnFqNV+bEPyVh193ZKsA/4xl2ECK2uT8s23XZKYK2P9QMXRQz/rM/4zU9lcTzsD8jFn16dj2rP4ExvSWCNqg/4inc2fTzqD8KnPA7GyypP8++sARr/6g/s3e7aAyWqD9/111ch8OmP8dubGTBPqQ/Rqj2QjEUoj+ttI+MCtmfP2WYuvuBSps/+hAXKkYwlj+1OrrDhqSPPyyyVBnxXX0/YIedqRhucj/fCqVSk7CIP2Al3Z45TpY/m5DWGHRCnj+9ANBoeKGiP6PLm8O12qU/slGHKVLgqD+lLqwqGryrPwA3IzSWca4/TcQH6FGAsD/byEzUmLGxP6QKopVLyLI/Elccboq+sz/S4G/hZI60P6evSpZRNLU/FAvX/imwtT9tKwfENQi2P2PWapOzRbY/k1KEX+B1tj/ix0K73ae2P9bmjQBf67Y/n0/suhpNtz8YR7fufsa3Px9HxKvkF7g/M7GgAO+8tz9W2RQbNVe2P4qIRJysI7Q/yvYX/UWpsT/5+OzPMV+uP4l+crauCKk/\",\"dtype\":\"float64\",\"shape\":[75]},\"y\":{\"__ndarray__\":\"GhExyth1ND/Sv8nbtpRIP2vylNV0PVE/aTum7souWD/At0SJ8fVgPw3Iuahxymc/MSNhhJWvcD/bTfBN02d3P2zb5nxnaoA/CD5h5MAGhz8NmeH1TyaQP+zrCsc9p5Y/LbKd76fGnz/bLW5ISEmmPww9YvTcQq8/JV2OstnstT8Er5Y7M8G+P0c+r3jqkcU/5h99k6ZBzj88bCIzFzjVP4enV8oyxN0//yH99nXg5D8qOpLLf0jtP5kqGJXUifQ/c9cS8kHP/D+/DpwzojQEQIEmwoanVwxA4lgXt9HgE0BSSZ2AJuIbQAMJih9jjiNA5q4l5INuK0AwTKYKRj0zQNv5fmq8/DpAaCJseHrtQkB/+zpwzoxKQM3MzMzMeFJAZmZmZmZqWEAAAAAAAFxeQM3MzMzMJmJAmpmZmZkfZUBmZmZmZhhoQDMzMzMzEWtAAAAAAAAKbkBmZmZmZoFwQM3MzMzM/XFAMzMzMzN6c0CamZmZmfZ0QAAAAAAAc3ZAZmZmZmbvd0DNzMzMzGt5QDMzMzMz6HpAmpmZmZlkfEAAAAAAAOF9QGZmZmZmXX9AZmZmZuZsgECamZmZGSuBQM3MzMxM6YFAAAAAAICngkAzMzMzs2WDQGZmZmbmI4RAmpmZmRnihEDNzMzMTKCFQAAAAACAXoZAMzMzM7Mch0BmZmZm5tqHQJqZmZkZmYhAzczMzExXiUAAAAAAgBWKQDMzMzOz04pAZmZmZuaRi0CamZmZGVCMQM3MzMxMDo1AAAAAAIDMjUAzMzMzs4qOQGZmZmbmSI9A\",\"dtype\":\"float64\",\"shape\":[75]}},\"selected\":{\"id\":\"9b69f75c-f0ef-4c2e-a5b8-b7edad61b31b\",\"type\":\"Selection\"},\"selection_policy\":{\"id\":\"8dccd2d7-7aa8-410a-9e94-8d0c329fe411\",\"type\":\"UnionRenderers\"}},\"id\":\"b19ea2cd-0992-4496-a0f8-be09d084d952\",\"type\":\"ColumnDataSource\"},{\"attributes\":{\"line_alpha\":0.6,\"line_color\":\"#e41a1c\",\"line_dash\":[6],\"line_width\":5,\"x\":{\"field\":\"x\"},\"y\":{\"field\":\"y\"}},\"id\":\"6e0e39a3-d813-4cb6-a2d1-9988ab3176f9\",\"type\":\"Line\"},{\"attributes\":{},\"id\":\"c871044b-db6d-49fe-8322-9b861badd378\",\"type\":\"HelpTool\"},{\"attributes\":{\"axis_label\":\"cooling rate [K/day]\",\"formatter\":{\"id\":\"e458dbd3-3b35-4aeb-b05f-c14ab6542cd7\",\"type\":\"BasicTickFormatter\"},\"plot\":{\"id\":\"7fe93b6f-0840-4733-8d9f-42c61b80adb5\",\"subtype\":\"Figure\",\"type\":\"Plot\"},\"ticker\":{\"id\":\"754057f8-52b1-412f-9a5a-3492d6b03d3c\",\"type\":\"BasicTicker\"}},\"id\":\"af340c68-2674-4b16-8ae7-ee27b1150298\",\"type\":\"LinearAxis\"},{\"attributes\":{},\"id\":\"fcef499f-b20d-4c1e-9957-8538eee0358f\",\"type\":\"BasicTicker\"},{\"attributes\":{\"line_alpha\":0.1,\"line_color\":\"#1f77b4\",\"line_dash\":[6],\"line_width\":5,\"x\":{\"field\":\"x\"},\"y\":{\"field\":\"y\"}},\"id\":\"0c71f324-9e54-4800-bb4d-fcb09a090484\",\"type\":\"Line\"},{\"attributes\":{\"bottom_units\":\"screen\",\"fill_alpha\":{\"value\":0.5},\"fill_color\":{\"value\":\"lightgrey\"},\"left_units\":\"screen\",\"level\":\"overlay\",\"line_alpha\":{\"value\":1.0},\"line_color\":{\"value\":\"black\"},\"line_dash\":[4,4],\"line_width\":{\"value\":2},\"plot\":null,\"render_mode\":\"css\",\"right_units\":\"screen\",\"top_units\":\"screen\"},\"id\":\"a2e65c50-a6fa-40f0-a430-531f01535290\",\"type\":\"BoxAnnotation\"},{\"attributes\":{\"fill_alpha\":{\"value\":0.7},\"fill_color\":{\"value\":\"#4daf4a\"},\"line_alpha\":{\"value\":0.7},\"line_color\":{\"value\":\"#4daf4a\"},\"x\":{\"field\":\"x\"},\"y\":{\"field\":\"y\"}},\"id\":\"990b811f-ce58-444e-8252-41781a8934ab\",\"type\":\"Circle\"},{\"attributes\":{\"callback\":null,\"end\":0.098772468251,\"start\":0.001115296649},\"id\":\"4e5fd23e-2a03-4b28-8d3b-0066890fa038\",\"type\":\"Range1d\"},{\"attributes\":{\"dimension\":1,\"plot\":{\"id\":\"e1f58a07-4064-4c5e-a152-6dfe98584a9e\",\"subtype\":\"Figure\",\"type\":\"Plot\"},\"ticker\":{\"id\":\"d25a8bb2-d5a2-4337-b5a5-a622c45a1fc3\",\"type\":\"LogTicker\"}},\"id\":\"37a2797f-5136-438f-9e3a-67983e1e1354\",\"type\":\"Grid\"},{\"attributes\":{},\"id\":\"ba07f3f9-323f-419f-b47d-4bd34e024288\",\"type\":\"WheelZoomTool\"},{\"attributes\":{},\"id\":\"85485e91-fb92-481f-a736-1e78474a34e2\",\"type\":\"PanTool\"},{\"attributes\":{\"axis_label\":\"pressure [mb]\",\"formatter\":{\"id\":\"2c02c679-27fb-4b8e-84fa-acbc7cd09781\",\"type\":\"BasicTickFormatter\"},\"plot\":{\"id\":\"7fe93b6f-0840-4733-8d9f-42c61b80adb5\",\"subtype\":\"Figure\",\"type\":\"Plot\"},\"ticker\":{\"id\":\"fcef499f-b20d-4c1e-9957-8538eee0358f\",\"type\":\"BasicTicker\"}},\"id\":\"ef9fbd75-7ac2-43ac-9429-b9c3c0260a1c\",\"type\":\"LinearAxis\"},{\"attributes\":{\"bottom_units\":\"screen\",\"fill_alpha\":{\"value\":0.5},\"fill_color\":{\"value\":\"lightgrey\"},\"left_units\":\"screen\",\"level\":\"overlay\",\"line_alpha\":{\"value\":1.0},\"line_color\":{\"value\":\"black\"},\"line_dash\":[4,4],\"line_width\":{\"value\":2},\"plot\":null,\"render_mode\":\"css\",\"right_units\":\"screen\",\"top_units\":\"screen\"},\"id\":\"1038753f-c306-47e3-bc9f-e58f4add0509\",\"type\":\"BoxAnnotation\"},{\"attributes\":{},\"id\":\"0b4bd07d-4726-4fbd-a184-6a6c60f898a9\",\"type\":\"ResetTool\"},{\"attributes\":{\"data_source\":{\"id\":\"a1cf7f20-ed5b-4617-aa0e-5b58620ff1cd\",\"type\":\"ColumnDataSource\"},\"glyph\":{\"id\":\"e54818af-3f4b-4790-a7f3-b7d06c25fab6\",\"type\":\"Square\"},\"hover_glyph\":null,\"muted_glyph\":null,\"nonselection_glyph\":{\"id\":\"a19333c9-f3b1-4a91-9945-a132ab9f3525\",\"type\":\"Square\"},\"selection_glyph\":null,\"view\":{\"id\":\"df45c3ab-ab61-4c09-9dc1-aacf575cae2b\",\"type\":\"CDSView\"}},\"id\":\"0623e56d-5702-41c1-be9d-53e1c4fe5c4c\",\"type\":\"GlyphRenderer\"},{\"attributes\":{\"callback\":null,\"data\":{\"x\":{\"__ndarray__\":\"fvnH7yvevD9zYjD7TKjBP5Kchoe0Nsk/cHPPX43Y0D9Ud8DQfn/VP8C+jBgsi9o/5ewhCvsQ4D9wavNBxxXjPyIA9tkaNOY/hQKd5nBP6T+UAqDExkDsPzAC+OH/0u4/wjV39L9c8D+0vLxKiIPwP5BGDb/++O4/33Oa5Ms06z8Hx3YILbXmPxQs5edMW+I/3YGVnkRf3j+pnaOGHePbPywydMuS6d0//9+/Fkfn3D+eND/EJ9nWP3JM3EuWqtE/S7A4nPnVyz98+OjDaffFPy+exXujkME/YjKP27PXvT+Jjg1yUQy8P0NURPqrz7k/oUUFOtKatT/iF1xIxyKwP/SZYPa6Xqk/tdP6Ttjtpz/479u/mzapP59UhGaaWqw/jtVQ5PXSrT93zrHkc+yrPzrfNvD2Yqg/ONMpNLURpT8zp/bivuehP67J9+X8r50/tftnY6sflz9+JYihcp+OPxP3WLGxL3Y/04blBc/6YD/2aFFvq/iDP5fC3B4fVZQ/VXFzwjWLnD9aE4KK58KhPwYwwJnz56Q/w9VXEDDepz86WSPoU7qqP1bLPSc0fq0/Mbw+5SsQsD8rukTh8lmxP2qKw0NflLI/lMwXn/W1sz+KtVPOcrS0PxpDAyh7iLU/yMnMHssvtj/4zWxzPbO2P0Ak9f48Frc/wcz4cClktz/5GT/WUaq3PyOlVQRq97c/hlDTnvpWuD/ZOozXKce4P8XuVCNoCrk/kuGhvTSkuD94Xr2Ztzu3P5PnoYbUDLU/5r1VyneYsj9vgwqpAyKwP+ZKW2Gc7ao/\",\"dtype\":\"float64\",\"shape\":[75]},\"y\":{\"__ndarray__\":\"S/O/Q+51ND/Sv8nbtpRIP2vylNV0PVE/aTum7souWD/At0SJ8fVgPw3Iuahxymc/MSNhhJWvcD/bTfBN02d3P2zb5nxnaoA/CD5h5MAGhz8NmeH1TyaQP+zrCsc9p5Y/LbKd76fGnz/bLW5ISEmmPww9YvTcQq8/JV2OstnstT8Er5Y7M8G+P0c+r3jqkcU/5h99k6ZBzj88bCIzFzjVP4enV8oyxN0//yH99nXg5D8qOpLLf0jtP5kqGJXUifQ/c9cS8kHP/D+/DpwzojQEQIEmwoanVwxA4lgXt9HgE0BSSZ2AJuIbQAMJih9jjiNA5q4l5INuK0AwTKYKRj0zQNv5fmq8/DpAaCJseHrtQkB/+zpwzoxKQM3MzMzMeFJAZmZmZmZqWEAAAAAAAFxeQM3MzMzMJmJAmpmZmZkfZUBmZmZmZhhoQDMzMzMzEWtAAAAAAAAKbkBmZmZmZoFwQM3MzMzM/XFAMzMzMzN6c0CamZmZmfZ0QAAAAAAAc3ZAZmZmZmbvd0DNzMzMzGt5QDMzMzMz6HpAmpmZmZlkfEAAAAAAAOF9QGZmZmZmXX9AZmZmZuZsgECamZmZGSuBQM3MzMxM6YFAAAAAAICngkAzMzMzs2WDQGZmZmbmI4RAmpmZmRnihEDNzMzMTKCFQAAAAACAXoZAMzMzM7Mch0BmZmZm5tqHQJqZmZkZmYhAzczMzExXiUAAAAAAgBWKQDMzMzOz04pAZmZmZuaRi0CamZmZGVCMQM3MzMxMDo1AAAAAAIDMjUAzMzMzs4qOQGZmZmbmSI9A\",\"dtype\":\"float64\",\"shape\":[75]}},\"selected\":{\"id\":\"365bb92a-adb4-440b-8e82-eabd528081da\",\"type\":\"Selection\"},\"selection_policy\":{\"id\":\"9c1b092f-ccaf-4574-8576-659382e2b3df\",\"type\":\"UnionRenderers\"}},\"id\":\"9a499db1-583f-4d8b-b0c0-6194f31a97cc\",\"type\":\"ColumnDataSource\"},{\"attributes\":{\"below\":[{\"id\":\"af340c68-2674-4b16-8ae7-ee27b1150298\",\"type\":\"LinearAxis\"}],\"left\":[{\"id\":\"ef9fbd75-7ac2-43ac-9429-b9c3c0260a1c\",\"type\":\"LinearAxis\"}],\"plot_height\":500,\"plot_width\":400,\"renderers\":[{\"id\":\"af340c68-2674-4b16-8ae7-ee27b1150298\",\"type\":\"LinearAxis\"},{\"id\":\"f77e14d3-3e65-4319-816b-02b9ae05b60b\",\"type\":\"Grid\"},{\"id\":\"ef9fbd75-7ac2-43ac-9429-b9c3c0260a1c\",\"type\":\"LinearAxis\"},{\"id\":\"b81ca179-7a2f-4e06-b28d-d0af485a8bf0\",\"type\":\"Grid\"},{\"id\":\"1038753f-c306-47e3-bc9f-e58f4add0509\",\"type\":\"BoxAnnotation\"},{\"id\":\"689a6a6f-0fc9-4009-a7e8-8ca059037bdc\",\"type\":\"GlyphRenderer\"},{\"id\":\"aeef9bac-27a0-4685-90e6-4a56477d8386\",\"type\":\"GlyphRenderer\"},{\"id\":\"a0d50501-340b-44bc-a308-fff66986e878\",\"type\":\"GlyphRenderer\"},{\"id\":\"f2ad05d6-fa77-499d-9669-e22d7d244f6f\",\"type\":\"GlyphRenderer\"},{\"id\":\"7474b133-5d86-40c5-988c-42175963a839\",\"type\":\"GlyphRenderer\"}],\"title\":{\"id\":\"c8f06ec0-d2f9-4811-b584-4ebc29968d94\",\"type\":\"Title\"},\"toolbar\":{\"id\":\"cd78d8ff-54e7-445c-bea6-7b11921d4994\",\"type\":\"Toolbar\"},\"toolbar_location\":null,\"x_range\":{\"id\":\"4e5fd23e-2a03-4b28-8d3b-0066890fa038\",\"type\":\"Range1d\"},\"x_scale\":{\"id\":\"b9f742ff-89d2-4d20-90f9-38c3b67301c7\",\"type\":\"LinearScale\"},\"y_range\":{\"id\":\"7aca67bd-dfe0-4be6-b716-e0acd8137284\",\"type\":\"Range1d\"},\"y_scale\":{\"id\":\"67243332-5831-4101-afc1-63efacf38bd1\",\"type\":\"LinearScale\"}},\"id\":\"7fe93b6f-0840-4733-8d9f-42c61b80adb5\",\"subtype\":\"Figure\",\"type\":\"Plot\"},{\"attributes\":{\"source\":{\"id\":\"9a499db1-583f-4d8b-b0c0-6194f31a97cc\",\"type\":\"ColumnDataSource\"}},\"id\":\"df503029-d762-4e38-962f-cb9a59924eb1\",\"type\":\"CDSView\"},{\"attributes\":{\"overlay\":{\"id\":\"1038753f-c306-47e3-bc9f-e58f4add0509\",\"type\":\"BoxAnnotation\"}},\"id\":\"fbc73fe6-9312-4dee-a3e4-d9ea0aaffffc\",\"type\":\"BoxZoomTool\"},{\"attributes\":{\"callback\":null,\"data\":{\"x\":{\"__ndarray__\":\"/kSBVkQ8xj/+fS1J8q3JP3GlM4UtW9E/Hir8e4Fl1j9eZqI3btfbP/mKBeEmz+A/hv7p30PU4z86RZ8LvuDmP0obAT4G3uk/eJrYZ6uf7D/eY3C4mP/uP8NrsEj2YvA/SlqQ1d/g8D+kmVFI2ZHwP/7dbhLSYe4/bHyWSC1x6j/RawDEKV7mP8rLoMGFv+I/yj46qZwt4D9v1yn02znePwbSrmnM3N8/cOJXmuj53T/FgUafRR3XP29sNnPGndE/EC9Nh7O0yz+akR8ENAfGP8Gt/UmMjsE/W+4emjCAvT+ush/KmDa7PxozvpIJ/7g/UkYLzTIqtT8+JIC1JEewP04/oM6Yv6o/I2WtcCg+qj9QqaLKeRWrPxQR5LiXJq0/U8ekWNxjrj80b/42gbmsP8qVSuyNgKk/N9zhmkBapj/4du6mZCejP2+Je+ZTw58/nRqyNvLCmD8vHEzBoIiQP1JT/f1/SXk/SCaBIUzCZT+kjUp2umSFP3Mq1j6RKpU/pK5Qfl5cnT8y+2ro+CuiP84dN/ySTaU/Ukw5zWExqD/h4Ozvf+yqP/7SzWXYh60/B6OMKZADsD8g9RHxLDWxPwiyj2o8TrI/QP299pFOsz8i4t6kEy20Pz6YhXNl5LQ/I9IO87ZytT8cM9mng961P/hyH/51LrY/uP34yhBvtj+RNnGvjq22P2kz2O3N+rY/f+c9peBltz/T9/cpsN+3P2Oohp1VNbg/DAp3eaDhtz9unQ9LAIi2P8Xh7eNHZbQ/vG7a7oz+sT/lwG/dgS2vP7h7FqIM9Kk/\",\"dtype\":\"float64\",\"shape\":[75]},\"y\":{\"__ndarray__\":\"GhExyth1ND/Sv8nbtpRIP2vylNV0PVE/aTum7souWD/At0SJ8fVgPw3Iuahxymc/MSNhhJWvcD/bTfBN02d3P2zb5nxnaoA/CD5h5MAGhz8NmeH1TyaQP+zrCsc9p5Y/LbKd76fGnz/bLW5ISEmmPww9YvTcQq8/JV2OstnstT8Er5Y7M8G+P0c+r3jqkcU/5h99k6ZBzj88bCIzFzjVP4enV8oyxN0//yH99nXg5D8qOpLLf0jtP5kqGJXUifQ/c9cS8kHP/D+/DpwzojQEQIEmwoanVwxA4lgXt9HgE0BSSZ2AJuIbQAMJih9jjiNA5q4l5INuK0AwTKYKRj0zQNv5fmq8/DpAaCJseHrtQkB/+zpwzoxKQM3MzMzMeFJAZmZmZmZqWEAAAAAAAFxeQM3MzMzMJmJAmpmZmZkfZUBmZmZmZhhoQDMzMzMzEWtAAAAAAAAKbkBmZmZmZoFwQM3MzMzM/XFAMzMzMzN6c0CamZmZmfZ0QAAAAAAAc3ZAZmZmZmbvd0DNzMzMzGt5QDMzMzMz6HpAmpmZmZlkfEAAAAAAAOF9QGZmZmZmXX9AZmZmZuZsgECamZmZGSuBQM3MzMxM6YFAAAAAAICngkAzMzMzs2WDQGZmZmbmI4RAmpmZmRnihEDNzMzMTKCFQAAAAACAXoZAMzMzM7Mch0BmZmZm5tqHQJqZmZkZmYhAzczMzExXiUAAAAAAgBWKQDMzMzOz04pAZmZmZuaRi0CamZmZGVCMQM3MzMxMDo1AAAAAAIDMjUAzMzMzs4qOQGZmZmbmSI9A\",\"dtype\":\"float64\",\"shape\":[75]}},\"selected\":{\"id\":\"49013c6d-1c4d-477a-bfe9-bb88d6bc25c6\",\"type\":\"Selection\"},\"selection_policy\":{\"id\":\"3a9bfd92-a037-4468-938d-7791c0543a2a\",\"type\":\"UnionRenderers\"}},\"id\":\"770c86b4-f639-4af4-8bc8-6449adf77588\",\"type\":\"ColumnDataSource\"},{\"attributes\":{\"dimension\":1,\"plot\":{\"id\":\"7fe93b6f-0840-4733-8d9f-42c61b80adb5\",\"subtype\":\"Figure\",\"type\":\"Plot\"},\"ticker\":{\"id\":\"fcef499f-b20d-4c1e-9957-8538eee0358f\",\"type\":\"BasicTicker\"}},\"id\":\"b81ca179-7a2f-4e06-b28d-d0af485a8bf0\",\"type\":\"Grid\"},{\"attributes\":{\"source\":{\"id\":\"a1cf7f20-ed5b-4617-aa0e-5b58620ff1cd\",\"type\":\"ColumnDataSource\"}},\"id\":\"df45c3ab-ab61-4c09-9dc1-aacf575cae2b\",\"type\":\"CDSView\"},{\"attributes\":{\"below\":[{\"id\":\"4d4a7943-6142-41bc-a669-4f38a48178b5\",\"type\":\"LinearAxis\"}],\"left\":[{\"id\":\"a31756da-ba5b-43eb-a47b-dbfbc37b7bac\",\"type\":\"LogAxis\"}],\"plot_height\":500,\"plot_width\":560,\"renderers\":[{\"id\":\"4d4a7943-6142-41bc-a669-4f38a48178b5\",\"type\":\"LinearAxis\"},{\"id\":\"a7275ca2-6b0c-41ed-8f56-92c06c2404c6\",\"type\":\"Grid\"},{\"id\":\"a31756da-ba5b-43eb-a47b-dbfbc37b7bac\",\"type\":\"LogAxis\"},{\"id\":\"37a2797f-5136-438f-9e3a-67983e1e1354\",\"type\":\"Grid\"},{\"id\":\"a2e65c50-a6fa-40f0-a430-531f01535290\",\"type\":\"BoxAnnotation\"},{\"id\":\"78ad3ee8-4c4c-4ebd-b9d1-72bf7cc0ea6d\",\"type\":\"GlyphRenderer\"},{\"id\":\"b7d92474-f3da-4a93-ba6d-c5a6539bfaec\",\"type\":\"GlyphRenderer\"},{\"id\":\"1aa90610-9ab6-4945-ae80-768a8b52eeaa\",\"type\":\"GlyphRenderer\"},{\"id\":\"0623e56d-5702-41c1-be9d-53e1c4fe5c4c\",\"type\":\"GlyphRenderer\"},{\"id\":\"d82bd31f-47f7-4007-9866-8430df34db3c\",\"type\":\"GlyphRenderer\"},{\"id\":\"304d751f-f3fb-4a6f-838e-33740a9c221d\",\"type\":\"Legend\"}],\"right\":[{\"id\":\"304d751f-f3fb-4a6f-838e-33740a9c221d\",\"type\":\"Legend\"}],\"title\":{\"id\":\"b6923fc0-a31a-4c36-a057-8140b3c86208\",\"type\":\"Title\"},\"toolbar\":{\"id\":\"d7226add-45e7-40e1-85cc-bb4bbc90e890\",\"type\":\"Toolbar\"},\"toolbar_location\":null,\"x_range\":{\"id\":\"36e9b73d-b4d1-479e-b602-9c7aeb5de1a2\",\"type\":\"Range1d\"},\"x_scale\":{\"id\":\"e2012294-55fd-4d49-aa41-f5d2e5ca31a1\",\"type\":\"LinearScale\"},\"y_range\":{\"id\":\"16c76143-c866-4856-94c6-2bee2152be42\",\"type\":\"Range1d\"},\"y_scale\":{\"id\":\"052ab630-4aef-4c3b-9459-ed3277aa923e\",\"type\":\"LogScale\"}},\"id\":\"e1f58a07-4064-4c5e-a152-6dfe98584a9e\",\"subtype\":\"Figure\",\"type\":\"Plot\"},{\"attributes\":{},\"id\":\"754057f8-52b1-412f-9a5a-3492d6b03d3c\",\"type\":\"BasicTicker\"},{\"attributes\":{\"fill_alpha\":{\"value\":0.1},\"fill_color\":{\"value\":\"#1f77b4\"},\"line_alpha\":{\"value\":0.1},\"line_color\":{\"value\":\"#1f77b4\"},\"x\":{\"field\":\"x\"},\"y\":{\"field\":\"y\"}},\"id\":\"a19333c9-f3b1-4a91-9945-a132ab9f3525\",\"type\":\"Square\"},{\"attributes\":{\"overlay\":{\"id\":\"a2e65c50-a6fa-40f0-a430-531f01535290\",\"type\":\"BoxAnnotation\"}},\"id\":\"56fc63ea-0b5a-48ed-9f8d-ba894c4682bf\",\"type\":\"BoxZoomTool\"},{\"attributes\":{\"plot\":{\"id\":\"7fe93b6f-0840-4733-8d9f-42c61b80adb5\",\"subtype\":\"Figure\",\"type\":\"Plot\"},\"ticker\":{\"id\":\"754057f8-52b1-412f-9a5a-3492d6b03d3c\",\"type\":\"BasicTicker\"}},\"id\":\"f77e14d3-3e65-4319-816b-02b9ae05b60b\",\"type\":\"Grid\"},{\"attributes\":{\"line_alpha\":0.1,\"line_color\":\"#1f77b4\",\"line_dash\":[6],\"line_width\":5,\"x\":{\"field\":\"x\"},\"y\":{\"field\":\"y\"}},\"id\":\"e235ad7e-8372-45f6-9aeb-bf2557af60a8\",\"type\":\"Line\"},{\"attributes\":{\"children\":[{\"id\":\"60acf29a-9098-46c5-a2fe-5a9e353b645e\",\"type\":\"Row\"}]},\"id\":\"d3e8b55f-8130-4ca2-8d4e-a4f8e7a4bf42\",\"type\":\"Column\"},{\"attributes\":{\"callback\":null,\"end\":1.07892014316,\"start\":0.02072694084},\"id\":\"36e9b73d-b4d1-479e-b602-9c7aeb5de1a2\",\"type\":\"Range1d\"},{\"attributes\":{},\"id\":\"ae0e26c1-3e7b-4ca2-b5b3-987b5fb8a4b5\",\"type\":\"Selection\"},{\"attributes\":{\"callback\":null,\"data\":{\"x\":{\"__ndarray__\":\"fvnH7yvevD9zYjD7TKjBP5Kchoe0Nsk/cHPPX43Y0D9Ud8DQfn/VP8C+jBgsi9o/5ewhCvsQ4D9wavNBxxXjPyIA9tkaNOY/hQKd5nBP6T+UAqDExkDsPzAC+OH/0u4/wjV39L9c8D+0vLxKiIPwP5BGDb/++O4/33Oa5Ms06z8Hx3YILbXmPxQs5edMW+I/3YGVnkRf3j+pnaOGHePbPywydMuS6d0//9+/Fkfn3D+eND/EJ9nWP3JM3EuWqtE/S7A4nPnVyz98+OjDaffFPy+exXujkME/YjKP27PXvT+Jjg1yUQy8P0NURPqrz7k/oUUFOtKatT/iF1xIxyKwP/SZYPa6Xqk/tdP6Ttjtpz/479u/mzapP59UhGaaWqw/jtVQ5PXSrT93zrHkc+yrPzrfNvD2Yqg/ONMpNLURpT8zp/bivuehP67J9+X8r50/tftnY6sflz9+JYihcp+OPxP3WLGxL3Y/04blBc/6YD/2aFFvq/iDP5fC3B4fVZQ/VXFzwjWLnD9aE4KK58KhPwYwwJnz56Q/w9VXEDDepz86WSPoU7qqP1bLPSc0fq0/Mbw+5SsQsD8rukTh8lmxP2qKw0NflLI/lMwXn/W1sz+KtVPOcrS0PxpDAyh7iLU/yMnMHssvtj/4zWxzPbO2P0Ak9f48Frc/wcz4cClktz/5GT/WUaq3PyOlVQRq97c/hlDTnvpWuD/ZOozXKce4P8XuVCNoCrk/kuGhvTSkuD94Xr2Ztzu3P5PnoYbUDLU/5r1VyneYsj9vgwqpAyKwP+ZKW2Gc7ao/\",\"dtype\":\"float64\",\"shape\":[75]},\"y\":{\"__ndarray__\":\"S/O/Q+51ND/Sv8nbtpRIP2vylNV0PVE/aTum7souWD/At0SJ8fVgPw3Iuahxymc/MSNhhJWvcD/bTfBN02d3P2zb5nxnaoA/CD5h5MAGhz8NmeH1TyaQP+zrCsc9p5Y/LbKd76fGnz/bLW5ISEmmPww9YvTcQq8/JV2OstnstT8Er5Y7M8G+P0c+r3jqkcU/5h99k6ZBzj88bCIzFzjVP4enV8oyxN0//yH99nXg5D8qOpLLf0jtP5kqGJXUifQ/c9cS8kHP/D+/DpwzojQEQIEmwoanVwxA4lgXt9HgE0BSSZ2AJuIbQAMJih9jjiNA5q4l5INuK0AwTKYKRj0zQNv5fmq8/DpAaCJseHrtQkB/+zpwzoxKQM3MzMzMeFJAZmZmZmZqWEAAAAAAAFxeQM3MzMzMJmJAmpmZmZkfZUBmZmZmZhhoQDMzMzMzEWtAAAAAAAAKbkBmZmZmZoFwQM3MzMzM/XFAMzMzMzN6c0CamZmZmfZ0QAAAAAAAc3ZAZmZmZmbvd0DNzMzMzGt5QDMzMzMz6HpAmpmZmZlkfEAAAAAAAOF9QGZmZmZmXX9AZmZmZuZsgECamZmZGSuBQM3MzMxM6YFAAAAAAICngkAzMzMzs2WDQGZmZmbmI4RAmpmZmRnihEDNzMzMTKCFQAAAAACAXoZAMzMzM7Mch0BmZmZm5tqHQJqZmZkZmYhAzczMzExXiUAAAAAAgBWKQDMzMzOz04pAZmZmZuaRi0CamZmZGVCMQM3MzMxMDo1AAAAAAIDMjUAzMzMzs4qOQGZmZmbmSI9A\",\"dtype\":\"float64\",\"shape\":[75]}},\"selected\":{\"id\":\"6a6ba15d-8144-43f2-a304-eb808174f0e5\",\"type\":\"Selection\"},\"selection_policy\":{\"id\":\"2854aca7-fee1-4f02-a1aa-524c04eefe0c\",\"type\":\"UnionRenderers\"}},\"id\":\"f980212e-b044-4ad2-a5c9-d1c81b0ad88f\",\"type\":\"ColumnDataSource\"},{\"attributes\":{\"source\":{\"id\":\"c262d382-d269-4992-9315-8bf2faf03e85\",\"type\":\"ColumnDataSource\"}},\"id\":\"28d1f950-617c-4df6-83e5-c0a1287651f6\",\"type\":\"CDSView\"},{\"attributes\":{},\"id\":\"3a9bfd92-a037-4468-938d-7791c0543a2a\",\"type\":\"UnionRenderers\"},{\"attributes\":{\"data_source\":{\"id\":\"770c86b4-f639-4af4-8bc8-6449adf77588\",\"type\":\"ColumnDataSource\"},\"glyph\":{\"id\":\"faf180f8-7fb1-4db8-a943-21386f2fc58c\",\"type\":\"Line\"},\"hover_glyph\":null,\"muted_glyph\":null,\"nonselection_glyph\":{\"id\":\"d4840aa3-5933-428e-95c6-2ac21f1c2bbc\",\"type\":\"Line\"},\"selection_glyph\":null,\"view\":{\"id\":\"d5179a11-d650-484e-a498-57fc6d0e43e9\",\"type\":\"CDSView\"}},\"id\":\"d82bd31f-47f7-4007-9866-8430df34db3c\",\"type\":\"GlyphRenderer\"},{\"attributes\":{},\"id\":\"49013c6d-1c4d-477a-bfe9-bb88d6bc25c6\",\"type\":\"Selection\"},{\"attributes\":{\"children\":[{\"id\":\"ce1c6306-df71-4a9b-bff0-dc7b5f1359d3\",\"type\":\"ToolbarBox\"},{\"id\":\"d3e8b55f-8130-4ca2-8d4e-a4f8e7a4bf42\",\"type\":\"Column\"}]},\"id\":\"1859fd8b-c600-4269-b091-f8b549177dad\",\"type\":\"Column\"},{\"attributes\":{\"tools\":[{\"id\":\"85485e91-fb92-481f-a736-1e78474a34e2\",\"type\":\"PanTool\"},{\"id\":\"8d013c60-46b9-488f-bdc1-98ee2a86b7a7\",\"type\":\"WheelZoomTool\"},{\"id\":\"fbc73fe6-9312-4dee-a3e4-d9ea0aaffffc\",\"type\":\"BoxZoomTool\"},{\"id\":\"12914c4a-a850-4222-82e1-77ed55585e9a\",\"type\":\"SaveTool\"},{\"id\":\"0b4bd07d-4726-4fbd-a184-6a6c60f898a9\",\"type\":\"ResetTool\"},{\"id\":\"7d9dd17e-ecb8-4d71-9f95-eaa4b305f95e\",\"type\":\"HelpTool\"},{\"id\":\"05e49e6e-fdee-454d-b828-d28d5b0edfc3\",\"type\":\"PanTool\"},{\"id\":\"ba07f3f9-323f-419f-b47d-4bd34e024288\",\"type\":\"WheelZoomTool\"},{\"id\":\"56fc63ea-0b5a-48ed-9f8d-ba894c4682bf\",\"type\":\"BoxZoomTool\"},{\"id\":\"053d3d98-5fa1-4e72-b07e-394f034f7ba3\",\"type\":\"SaveTool\"},{\"id\":\"a078485a-5171-4ac0-8293-49cc6d7c69ee\",\"type\":\"ResetTool\"},{\"id\":\"c871044b-db6d-49fe-8322-9b861badd378\",\"type\":\"HelpTool\"}]},\"id\":\"7b24a42a-6d5b-4f42-9fba-46c5f05e95ee\",\"type\":\"ProxyToolbar\"},{\"attributes\":{\"toolbar\":{\"id\":\"7b24a42a-6d5b-4f42-9fba-46c5f05e95ee\",\"type\":\"ProxyToolbar\"},\"toolbar_location\":\"above\"},\"id\":\"ce1c6306-df71-4a9b-bff0-dc7b5f1359d3\",\"type\":\"ToolbarBox\"},{\"attributes\":{\"source\":{\"id\":\"8d043ea3-9fbd-45d7-a3fc-6d3ae4bec9d7\",\"type\":\"ColumnDataSource\"}},\"id\":\"09a3bfcf-ea1a-497f-9027-cd288f8a8465\",\"type\":\"CDSView\"},{\"attributes\":{},\"id\":\"8dccd2d7-7aa8-410a-9e94-8d0c329fe411\",\"type\":\"UnionRenderers\"},{\"attributes\":{\"data_source\":{\"id\":\"8d043ea3-9fbd-45d7-a3fc-6d3ae4bec9d7\",\"type\":\"ColumnDataSource\"},\"glyph\":{\"id\":\"42c5197c-10d2-409d-bfb9-682fa5421b21\",\"type\":\"Line\"},\"hover_glyph\":null,\"muted_glyph\":null,\"nonselection_glyph\":{\"id\":\"9b58e036-c37a-4398-81d7-66074d97daea\",\"type\":\"Line\"},\"selection_glyph\":null,\"view\":{\"id\":\"09a3bfcf-ea1a-497f-9027-cd288f8a8465\",\"type\":\"CDSView\"}},\"id\":\"a0d50501-340b-44bc-a308-fff66986e878\",\"type\":\"GlyphRenderer\"},{\"attributes\":{\"callback\":null,\"data\":{\"x\":{\"__ndarray__\":\"pBQZwtYRyD+8S1YDnHfLPzurw9nGwtI/r90LBrZO2D952q91iEPeP1AlHN21QuI/RC8nkRJ15T+6K2Cn/ZvoPwWVyHAClOs/8Ygjcm4x7j9hK7LnfCLwP8+CUN7H0fA/uoA8YMMY8T/YgXNGlJbwPzUjKCPTJu4/N0b81MJW6j9FetXzA9HmP9HEIiPz6uM/r2soc/ve4T/oxssF9OPgP6VZTZX3auE/oHF+Fo1t3z+cPJ/g5v3WP0IWWLbF69A/wudekpBpyj8DnFqNV+bEPyVh193ZKsA/4xl2ECK2uT8s23XZKYK2P9QMXRQz/rM/4zU9lcTzsD8jFn16dj2rP4ExvSWCNqg/4inc2fTzqD8KnPA7GyypP8++sARr/6g/s3e7aAyWqD9/111ch8OmP8dubGTBPqQ/Rqj2QjEUoj+ttI+MCtmfP2WYuvuBSps/+hAXKkYwlj+1OrrDhqSPPyyyVBnxXX0/YIedqRhucj/fCqVSk7CIP2Al3Z45TpY/m5DWGHRCnj+9ANBoeKGiP6PLm8O12qU/slGHKVLgqD+lLqwqGryrPwA3IzSWca4/TcQH6FGAsD/byEzUmLGxP6QKopVLyLI/Elccboq+sz/S4G/hZI60P6evSpZRNLU/FAvX/imwtT9tKwfENQi2P2PWapOzRbY/k1KEX+B1tj/ix0K73ae2P9bmjQBf67Y/n0/suhpNtz8YR7fufsa3Px9HxKvkF7g/M7GgAO+8tz9W2RQbNVe2P4qIRJysI7Q/yvYX/UWpsT/5+OzPMV+uP4l+crauCKk/\",\"dtype\":\"float64\",\"shape\":[75]},\"y\":{\"__ndarray__\":\"GhExyth1ND/Sv8nbtpRIP2vylNV0PVE/aTum7souWD/At0SJ8fVgPw3Iuahxymc/MSNhhJWvcD/bTfBN02d3P2zb5nxnaoA/CD5h5MAGhz8NmeH1TyaQP+zrCsc9p5Y/LbKd76fGnz/bLW5ISEmmPww9YvTcQq8/JV2OstnstT8Er5Y7M8G+P0c+r3jqkcU/5h99k6ZBzj88bCIzFzjVP4enV8oyxN0//yH99nXg5D8qOpLLf0jtP5kqGJXUifQ/c9cS8kHP/D+/DpwzojQEQIEmwoanVwxA4lgXt9HgE0BSSZ2AJuIbQAMJih9jjiNA5q4l5INuK0AwTKYKRj0zQNv5fmq8/DpAaCJseHrtQkB/+zpwzoxKQM3MzMzMeFJAZmZmZmZqWEAAAAAAAFxeQM3MzMzMJmJAmpmZmZkfZUBmZmZmZhhoQDMzMzMzEWtAAAAAAAAKbkBmZmZmZoFwQM3MzMzM/XFAMzMzMzN6c0CamZmZmfZ0QAAAAAAAc3ZAZmZmZmbvd0DNzMzMzGt5QDMzMzMz6HpAmpmZmZlkfEAAAAAAAOF9QGZmZmZmXX9AZmZmZuZsgECamZmZGSuBQM3MzMxM6YFAAAAAAICngkAzMzMzs2WDQGZmZmbmI4RAmpmZmRnihEDNzMzMTKCFQAAAAACAXoZAMzMzM7Mch0BmZmZm5tqHQJqZmZkZmYhAzczMzExXiUAAAAAAgBWKQDMzMzOz04pAZmZmZuaRi0CamZmZGVCMQM3MzMxMDo1AAAAAAIDMjUAzMzMzs4qOQGZmZmbmSI9A\",\"dtype\":\"float64\",\"shape\":[75]}},\"selected\":{\"id\":\"93392f4c-7560-4707-b7c4-5952ea98ed64\",\"type\":\"Selection\"},\"selection_policy\":{\"id\":\"fb5261c9-84d0-49e3-9bc8-8455b1d3e660\",\"type\":\"UnionRenderers\"}},\"id\":\"c262d382-d269-4992-9315-8bf2faf03e85\",\"type\":\"ColumnDataSource\"},{\"attributes\":{\"data_source\":{\"id\":\"f980212e-b044-4ad2-a5c9-d1c81b0ad88f\",\"type\":\"ColumnDataSource\"},\"glyph\":{\"id\":\"6e0e39a3-d813-4cb6-a2d1-9988ab3176f9\",\"type\":\"Line\"},\"hover_glyph\":null,\"muted_glyph\":null,\"nonselection_glyph\":{\"id\":\"e235ad7e-8372-45f6-9aeb-bf2557af60a8\",\"type\":\"Line\"},\"selection_glyph\":null,\"view\":{\"id\":\"39fb557b-ff79-4021-af93-84dcee4aaed3\",\"type\":\"CDSView\"}},\"id\":\"78ad3ee8-4c4c-4ebd-b9d1-72bf7cc0ea6d\",\"type\":\"GlyphRenderer\"},{\"attributes\":{\"callback\":null,\"data\":{\"x\":{\"__ndarray__\":\"/kSBVkQ8xj/+fS1J8q3JP3GlM4UtW9E/Hir8e4Fl1j9eZqI3btfbP/mKBeEmz+A/hv7p30PU4z86RZ8LvuDmP0obAT4G3uk/eJrYZ6uf7D/eY3C4mP/uP8NrsEj2YvA/SlqQ1d/g8D+kmVFI2ZHwP/7dbhLSYe4/bHyWSC1x6j/RawDEKV7mP8rLoMGFv+I/yj46qZwt4D9v1yn02znePwbSrmnM3N8/cOJXmuj53T/FgUafRR3XP29sNnPGndE/EC9Nh7O0yz+akR8ENAfGP8Gt/UmMjsE/W+4emjCAvT+ush/KmDa7PxozvpIJ/7g/UkYLzTIqtT8+JIC1JEewP04/oM6Yv6o/I2WtcCg+qj9QqaLKeRWrPxQR5LiXJq0/U8ekWNxjrj80b/42gbmsP8qVSuyNgKk/N9zhmkBapj/4du6mZCejP2+Je+ZTw58/nRqyNvLCmD8vHEzBoIiQP1JT/f1/SXk/SCaBIUzCZT+kjUp2umSFP3Mq1j6RKpU/pK5Qfl5cnT8y+2ro+CuiP84dN/ySTaU/Ukw5zWExqD/h4Ozvf+yqP/7SzWXYh60/B6OMKZADsD8g9RHxLDWxPwiyj2o8TrI/QP299pFOsz8i4t6kEy20Pz6YhXNl5LQ/I9IO87ZytT8cM9mng961P/hyH/51LrY/uP34yhBvtj+RNnGvjq22P2kz2O3N+rY/f+c9peBltz/T9/cpsN+3P2Oohp1VNbg/DAp3eaDhtz9unQ9LAIi2P8Xh7eNHZbQ/vG7a7oz+sT/lwG/dgS2vP7h7FqIM9Kk/\",\"dtype\":\"float64\",\"shape\":[75]},\"y\":{\"__ndarray__\":\"GhExyth1ND/Sv8nbtpRIP2vylNV0PVE/aTum7souWD/At0SJ8fVgPw3Iuahxymc/MSNhhJWvcD/bTfBN02d3P2zb5nxnaoA/CD5h5MAGhz8NmeH1TyaQP+zrCsc9p5Y/LbKd76fGnz/bLW5ISEmmPww9YvTcQq8/JV2OstnstT8Er5Y7M8G+P0c+r3jqkcU/5h99k6ZBzj88bCIzFzjVP4enV8oyxN0//yH99nXg5D8qOpLLf0jtP5kqGJXUifQ/c9cS8kHP/D+/DpwzojQEQIEmwoanVwxA4lgXt9HgE0BSSZ2AJuIbQAMJih9jjiNA5q4l5INuK0AwTKYKRj0zQNv5fmq8/DpAaCJseHrtQkB/+zpwzoxKQM3MzMzMeFJAZmZmZmZqWEAAAAAAAFxeQM3MzMzMJmJAmpmZmZkfZUBmZmZmZhhoQDMzMzMzEWtAAAAAAAAKbkBmZmZmZoFwQM3MzMzM/XFAMzMzMzN6c0CamZmZmfZ0QAAAAAAAc3ZAZmZmZmbvd0DNzMzMzGt5QDMzMzMz6HpAmpmZmZlkfEAAAAAAAOF9QGZmZmZmXX9AZmZmZuZsgECamZmZGSuBQM3MzMxM6YFAAAAAAICngkAzMzMzs2WDQGZmZmbmI4RAmpmZmRnihEDNzMzMTKCFQAAAAACAXoZAMzMzM7Mch0BmZmZm5tqHQJqZmZkZmYhAzczMzExXiUAAAAAAgBWKQDMzMzOz04pAZmZmZuaRi0CamZmZGVCMQM3MzMxMDo1AAAAAAIDMjUAzMzMzs4qOQGZmZmbmSI9A\",\"dtype\":\"float64\",\"shape\":[75]}},\"selected\":{\"id\":\"ae0e26c1-3e7b-4ca2-b5b3-987b5fb8a4b5\",\"type\":\"Selection\"},\"selection_policy\":{\"id\":\"5ce47b97-124d-4f05-9a00-9a66155cd817\",\"type\":\"UnionRenderers\"}},\"id\":\"a1cf7f20-ed5b-4617-aa0e-5b58620ff1cd\",\"type\":\"ColumnDataSource\"},{\"attributes\":{\"callback\":null,\"data\":{\"x\":{\"__ndarray__\":\"pBQZwtYRyD+8S1YDnHfLPzurw9nGwtI/r90LBrZO2D952q91iEPeP1AlHN21QuI/RC8nkRJ15T+6K2Cn/ZvoPwWVyHAClOs/8Ygjcm4x7j9hK7LnfCLwP8+CUN7H0fA/uoA8YMMY8T/YgXNGlJbwPzUjKCPTJu4/N0b81MJW6j9FetXzA9HmP9HEIiPz6uM/r2soc/ve4T/oxssF9OPgP6VZTZX3auE/oHF+Fo1t3z+cPJ/g5v3WP0IWWLbF69A/wudekpBpyj8DnFqNV+bEPyVh193ZKsA/4xl2ECK2uT8s23XZKYK2P9QMXRQz/rM/4zU9lcTzsD8jFn16dj2rP4ExvSWCNqg/4inc2fTzqD8KnPA7GyypP8++sARr/6g/s3e7aAyWqD9/111ch8OmP8dubGTBPqQ/Rqj2QjEUoj+ttI+MCtmfP2WYuvuBSps/+hAXKkYwlj+1OrrDhqSPPyyyVBnxXX0/YIedqRhucj/fCqVSk7CIP2Al3Z45TpY/m5DWGHRCnj+9ANBoeKGiP6PLm8O12qU/slGHKVLgqD+lLqwqGryrPwA3IzSWca4/TcQH6FGAsD/byEzUmLGxP6QKopVLyLI/Elccboq+sz/S4G/hZI60P6evSpZRNLU/FAvX/imwtT9tKwfENQi2P2PWapOzRbY/k1KEX+B1tj/ix0K73ae2P9bmjQBf67Y/n0/suhpNtz8YR7fufsa3Px9HxKvkF7g/M7GgAO+8tz9W2RQbNVe2P4qIRJysI7Q/yvYX/UWpsT/5+OzPMV+uP4l+crauCKk/\",\"dtype\":\"float64\",\"shape\":[75]},\"y\":{\"__ndarray__\":\"GhExyth1ND/Sv8nbtpRIP2vylNV0PVE/aTum7souWD/At0SJ8fVgPw3Iuahxymc/MSNhhJWvcD/bTfBN02d3P2zb5nxnaoA/CD5h5MAGhz8NmeH1TyaQP+zrCsc9p5Y/LbKd76fGnz/bLW5ISEmmPww9YvTcQq8/JV2OstnstT8Er5Y7M8G+P0c+r3jqkcU/5h99k6ZBzj88bCIzFzjVP4enV8oyxN0//yH99nXg5D8qOpLLf0jtP5kqGJXUifQ/c9cS8kHP/D+/DpwzojQEQIEmwoanVwxA4lgXt9HgE0BSSZ2AJuIbQAMJih9jjiNA5q4l5INuK0AwTKYKRj0zQNv5fmq8/DpAaCJseHrtQkB/+zpwzoxKQM3MzMzMeFJAZmZmZmZqWEAAAAAAAFxeQM3MzMzMJmJAmpmZmZkfZUBmZmZmZhhoQDMzMzMzEWtAAAAAAAAKbkBmZmZmZoFwQM3MzMzM/XFAMzMzMzN6c0CamZmZmfZ0QAAAAAAAc3ZAZmZmZmbvd0DNzMzMzGt5QDMzMzMz6HpAmpmZmZlkfEAAAAAAAOF9QGZmZmZmXX9AZmZmZuZsgECamZmZGSuBQM3MzMxM6YFAAAAAAICngkAzMzMzs2WDQGZmZmbmI4RAmpmZmRnihEDNzMzMTKCFQAAAAACAXoZAMzMzM7Mch0BmZmZm5tqHQJqZmZkZmYhAzczMzExXiUAAAAAAgBWKQDMzMzOz04pAZmZmZuaRi0CamZmZGVCMQM3MzMxMDo1AAAAAAIDMjUAzMzMzs4qOQGZmZmbmSI9A\",\"dtype\":\"float64\",\"shape\":[75]}},\"selected\":{\"id\":\"44f7a63e-0f71-4952-b11e-25fa29670d5a\",\"type\":\"Selection\"},\"selection_policy\":{\"id\":\"252c6237-fa38-453c-ae51-1c88d6b4e7ce\",\"type\":\"UnionRenderers\"}},\"id\":\"3c96ddc0-5d41-4781-8222-8f2f0d3b4c93\",\"type\":\"ColumnDataSource\"},{\"attributes\":{\"fill_alpha\":{\"value\":0.1},\"fill_color\":{\"value\":\"#1f77b4\"},\"line_alpha\":{\"value\":0.1},\"line_color\":{\"value\":\"#1f77b4\"},\"x\":{\"field\":\"x\"},\"y\":{\"field\":\"y\"}},\"id\":\"3dfac5b6-5b17-4d3e-b160-f74a67df24b5\",\"type\":\"Circle\"},{\"attributes\":{\"callback\":null,\"data\":{\"x\":{\"__ndarray__\":\"/kSBVkQ8xj/+fS1J8q3JP3GlM4UtW9E/Hir8e4Fl1j9eZqI3btfbP/mKBeEmz+A/hv7p30PU4z86RZ8LvuDmP0obAT4G3uk/eJrYZ6uf7D/eY3C4mP/uP8NrsEj2YvA/SlqQ1d/g8D+kmVFI2ZHwP/7dbhLSYe4/bHyWSC1x6j/RawDEKV7mP8rLoMGFv+I/yj46qZwt4D9v1yn02znePwbSrmnM3N8/cOJXmuj53T/FgUafRR3XP29sNnPGndE/EC9Nh7O0yz+akR8ENAfGP8Gt/UmMjsE/W+4emjCAvT+ush/KmDa7PxozvpIJ/7g/UkYLzTIqtT8+JIC1JEewP04/oM6Yv6o/I2WtcCg+qj9QqaLKeRWrPxQR5LiXJq0/U8ekWNxjrj80b/42gbmsP8qVSuyNgKk/N9zhmkBapj/4du6mZCejP2+Je+ZTw58/nRqyNvLCmD8vHEzBoIiQP1JT/f1/SXk/SCaBIUzCZT+kjUp2umSFP3Mq1j6RKpU/pK5Qfl5cnT8y+2ro+CuiP84dN/ySTaU/Ukw5zWExqD/h4Ozvf+yqP/7SzWXYh60/B6OMKZADsD8g9RHxLDWxPwiyj2o8TrI/QP299pFOsz8i4t6kEy20Pz6YhXNl5LQ/I9IO87ZytT8cM9mng961P/hyH/51LrY/uP34yhBvtj+RNnGvjq22P2kz2O3N+rY/f+c9peBltz/T9/cpsN+3P2Oohp1VNbg/DAp3eaDhtz9unQ9LAIi2P8Xh7eNHZbQ/vG7a7oz+sT/lwG/dgS2vP7h7FqIM9Kk/\",\"dtype\":\"float64\",\"shape\":[75]},\"y\":{\"__ndarray__\":\"GhExyth1ND/Sv8nbtpRIP2vylNV0PVE/aTum7souWD/At0SJ8fVgPw3Iuahxymc/MSNhhJWvcD/bTfBN02d3P2zb5nxnaoA/CD5h5MAGhz8NmeH1TyaQP+zrCsc9p5Y/LbKd76fGnz/bLW5ISEmmPww9YvTcQq8/JV2OstnstT8Er5Y7M8G+P0c+r3jqkcU/5h99k6ZBzj88bCIzFzjVP4enV8oyxN0//yH99nXg5D8qOpLLf0jtP5kqGJXUifQ/c9cS8kHP/D+/DpwzojQEQIEmwoanVwxA4lgXt9HgE0BSSZ2AJuIbQAMJih9jjiNA5q4l5INuK0AwTKYKRj0zQNv5fmq8/DpAaCJseHrtQkB/+zpwzoxKQM3MzMzMeFJAZmZmZmZqWEAAAAAAAFxeQM3MzMzMJmJAmpmZmZkfZUBmZmZmZhhoQDMzMzMzEWtAAAAAAAAKbkBmZmZmZoFwQM3MzMzM/XFAMzMzMzN6c0CamZmZmfZ0QAAAAAAAc3ZAZmZmZmbvd0DNzMzMzGt5QDMzMzMz6HpAmpmZmZlkfEAAAAAAAOF9QGZmZmZmXX9AZmZmZuZsgECamZmZGSuBQM3MzMxM6YFAAAAAAICngkAzMzMzs2WDQGZmZmbmI4RAmpmZmRnihEDNzMzMTKCFQAAAAACAXoZAMzMzM7Mch0BmZmZm5tqHQJqZmZkZmYhAzczMzExXiUAAAAAAgBWKQDMzMzOz04pAZmZmZuaRi0CamZmZGVCMQM3MzMxMDo1AAAAAAIDMjUAzMzMzs4qOQGZmZmbmSI9A\",\"dtype\":\"float64\",\"shape\":[75]}},\"selected\":{\"id\":\"b16fd2be-2ac9-4ccb-bdb9-c884d81b4477\",\"type\":\"Selection\"},\"selection_policy\":{\"id\":\"e0b9db8d-4c2e-48a1-9d97-aff16d941bdf\",\"type\":\"UnionRenderers\"}},\"id\":\"6e643b2e-aeca-4ea8-a4aa-9696b3280169\",\"type\":\"ColumnDataSource\"},{\"attributes\":{\"data_source\":{\"id\":\"6e643b2e-aeca-4ea8-a4aa-9696b3280169\",\"type\":\"ColumnDataSource\"},\"glyph\":{\"id\":\"6bd91418-c954-4156-a90c-368343b1bdc8\",\"type\":\"Square\"},\"hover_glyph\":null,\"muted_glyph\":null,\"nonselection_glyph\":{\"id\":\"66e168e8-143e-4c9f-a079-a87c0152ba7a\",\"type\":\"Square\"},\"selection_glyph\":null,\"view\":{\"id\":\"f6415621-7a68-409c-9871-87e937e5c9dd\",\"type\":\"CDSView\"}},\"id\":\"f2ad05d6-fa77-499d-9669-e22d7d244f6f\",\"type\":\"GlyphRenderer\"},{\"attributes\":{\"line_color\":\"#4daf4a\",\"line_width\":1.5,\"x\":{\"field\":\"x\"},\"y\":{\"field\":\"y\"}},\"id\":\"98e9497d-a6ad-4764-8362-5236eab89a53\",\"type\":\"Line\"},{\"attributes\":{\"line_alpha\":0.1,\"line_color\":\"#1f77b4\",\"line_width\":1.5,\"x\":{\"field\":\"x\"},\"y\":{\"field\":\"y\"}},\"id\":\"9b58e036-c37a-4398-81d7-66074d97daea\",\"type\":\"Line\"},{\"attributes\":{\"data_source\":{\"id\":\"c262d382-d269-4992-9315-8bf2faf03e85\",\"type\":\"ColumnDataSource\"},\"glyph\":{\"id\":\"5632b214-2f73-41fb-8391-daa4dcbe1598\",\"type\":\"Circle\"},\"hover_glyph\":null,\"muted_glyph\":null,\"nonselection_glyph\":{\"id\":\"3dfac5b6-5b17-4d3e-b160-f74a67df24b5\",\"type\":\"Circle\"},\"selection_glyph\":null,\"view\":{\"id\":\"28d1f950-617c-4df6-83e5-c0a1287651f6\",\"type\":\"CDSView\"}},\"id\":\"b7d92474-f3da-4a93-ba6d-c5a6539bfaec\",\"type\":\"GlyphRenderer\"},{\"attributes\":{\"axis_label\":\"cooling rate [K/day]\",\"formatter\":{\"id\":\"c838bdcd-a079-4b24-852f-5af4b1659610\",\"type\":\"BasicTickFormatter\"},\"plot\":{\"id\":\"e1f58a07-4064-4c5e-a152-6dfe98584a9e\",\"subtype\":\"Figure\",\"type\":\"Plot\"},\"ticker\":{\"id\":\"69680897-4928-424a-abc3-52b6d6ce4743\",\"type\":\"BasicTicker\"}},\"id\":\"4d4a7943-6142-41bc-a669-4f38a48178b5\",\"type\":\"LinearAxis\"},{\"attributes\":{},\"id\":\"44f7a63e-0f71-4952-b11e-25fa29670d5a\",\"type\":\"Selection\"},{\"attributes\":{\"fill_alpha\":{\"value\":0.7},\"fill_color\":{\"value\":\"#4daf4a\"},\"line_alpha\":{\"value\":0.7},\"line_color\":{\"value\":\"#4daf4a\"},\"x\":{\"field\":\"x\"},\"y\":{\"field\":\"y\"}},\"id\":\"5632b214-2f73-41fb-8391-daa4dcbe1598\",\"type\":\"Circle\"},{\"attributes\":{},\"id\":\"93392f4c-7560-4707-b7c4-5952ea98ed64\",\"type\":\"Selection\"},{\"attributes\":{\"line_color\":\"#4daf4a\",\"line_width\":1.5,\"x\":{\"field\":\"x\"},\"y\":{\"field\":\"y\"}},\"id\":\"42c5197c-10d2-409d-bfb9-682fa5421b21\",\"type\":\"Line\"},{\"attributes\":{\"fill_alpha\":{\"value\":0.1},\"fill_color\":{\"value\":\"#1f77b4\"},\"line_alpha\":{\"value\":0.1},\"line_color\":{\"value\":\"#1f77b4\"},\"x\":{\"field\":\"x\"},\"y\":{\"field\":\"y\"}},\"id\":\"f34c3a77-4433-4c99-a681-dc53a997c0d1\",\"type\":\"Circle\"},{\"attributes\":{\"source\":{\"id\":\"f980212e-b044-4ad2-a5c9-d1c81b0ad88f\",\"type\":\"ColumnDataSource\"}},\"id\":\"39fb557b-ff79-4021-af93-84dcee4aaed3\",\"type\":\"CDSView\"},{\"attributes\":{},\"id\":\"052ab630-4aef-4c3b-9459-ed3277aa923e\",\"type\":\"LogScale\"},{\"attributes\":{\"line_alpha\":0.1,\"line_color\":\"#1f77b4\",\"line_width\":1.5,\"x\":{\"field\":\"x\"},\"y\":{\"field\":\"y\"}},\"id\":\"87747064-943d-4e94-ad23-83e8e85f644c\",\"type\":\"Line\"},{\"attributes\":{\"data_source\":{\"id\":\"3c96ddc0-5d41-4781-8222-8f2f0d3b4c93\",\"type\":\"ColumnDataSource\"},\"glyph\":{\"id\":\"98e9497d-a6ad-4764-8362-5236eab89a53\",\"type\":\"Line\"},\"hover_glyph\":null,\"muted_glyph\":null,\"nonselection_glyph\":{\"id\":\"87747064-943d-4e94-ad23-83e8e85f644c\",\"type\":\"Line\"},\"selection_glyph\":null,\"view\":{\"id\":\"10e5c61f-2481-420a-9016-1ec7972e4ba1\",\"type\":\"CDSView\"}},\"id\":\"1aa90610-9ab6-4945-ae80-768a8b52eeaa\",\"type\":\"GlyphRenderer\"},{\"attributes\":{\"callback\":null,\"data\":{\"x\":{\"__ndarray__\":\"pBQZwtYRyD+8S1YDnHfLPzurw9nGwtI/r90LBrZO2D952q91iEPeP1AlHN21QuI/RC8nkRJ15T+6K2Cn/ZvoPwWVyHAClOs/8Ygjcm4x7j9hK7LnfCLwP8+CUN7H0fA/uoA8YMMY8T/YgXNGlJbwPzUjKCPTJu4/N0b81MJW6j9FetXzA9HmP9HEIiPz6uM/r2soc/ve4T/oxssF9OPgP6VZTZX3auE/oHF+Fo1t3z+cPJ/g5v3WP0IWWLbF69A/wudekpBpyj8DnFqNV+bEPyVh193ZKsA/4xl2ECK2uT8s23XZKYK2P9QMXRQz/rM/4zU9lcTzsD8jFn16dj2rP4ExvSWCNqg/4inc2fTzqD8KnPA7GyypP8++sARr/6g/s3e7aAyWqD9/111ch8OmP8dubGTBPqQ/Rqj2QjEUoj+ttI+MCtmfP2WYuvuBSps/+hAXKkYwlj+1OrrDhqSPPyyyVBnxXX0/YIedqRhucj/fCqVSk7CIP2Al3Z45TpY/m5DWGHRCnj+9ANBoeKGiP6PLm8O12qU/slGHKVLgqD+lLqwqGryrPwA3IzSWca4/TcQH6FGAsD/byEzUmLGxP6QKopVLyLI/Elccboq+sz/S4G/hZI60P6evSpZRNLU/FAvX/imwtT9tKwfENQi2P2PWapOzRbY/k1KEX+B1tj/ix0K73ae2P9bmjQBf67Y/n0/suhpNtz8YR7fufsa3Px9HxKvkF7g/M7GgAO+8tz9W2RQbNVe2P4qIRJysI7Q/yvYX/UWpsT/5+OzPMV+uP4l+crauCKk/\",\"dtype\":\"float64\",\"shape\":[75]},\"y\":{\"__ndarray__\":\"GhExyth1ND/Sv8nbtpRIP2vylNV0PVE/aTum7souWD/At0SJ8fVgPw3Iuahxymc/MSNhhJWvcD/bTfBN02d3P2zb5nxnaoA/CD5h5MAGhz8NmeH1TyaQP+zrCsc9p5Y/LbKd76fGnz/bLW5ISEmmPww9YvTcQq8/JV2OstnstT8Er5Y7M8G+P0c+r3jqkcU/5h99k6ZBzj88bCIzFzjVP4enV8oyxN0//yH99nXg5D8qOpLLf0jtP5kqGJXUifQ/c9cS8kHP/D+/DpwzojQEQIEmwoanVwxA4lgXt9HgE0BSSZ2AJuIbQAMJih9jjiNA5q4l5INuK0AwTKYKRj0zQNv5fmq8/DpAaCJseHrtQkB/+zpwzoxKQM3MzMzMeFJAZmZmZmZqWEAAAAAAAFxeQM3MzMzMJmJAmpmZmZkfZUBmZmZmZhhoQDMzMzMzEWtAAAAAAAAKbkBmZmZmZoFwQM3MzMzM/XFAMzMzMzN6c0CamZmZmfZ0QAAAAAAAc3ZAZmZmZmbvd0DNzMzMzGt5QDMzMzMz6HpAmpmZmZlkfEAAAAAAAOF9QGZmZmZmXX9AZmZmZuZsgECamZmZGSuBQM3MzMxM6YFAAAAAAICngkAzMzMzs2WDQGZmZmbmI4RAmpmZmRnihEDNzMzMTKCFQAAAAACAXoZAMzMzM7Mch0BmZmZm5tqHQJqZmZkZmYhAzczMzExXiUAAAAAAgBWKQDMzMzOz04pAZmZmZuaRi0CamZmZGVCMQM3MzMxMDo1AAAAAAIDMjUAzMzMzs4qOQGZmZmbmSI9A\",\"dtype\":\"float64\",\"shape\":[75]}},\"selected\":{\"id\":\"21c20ca4-667c-4a18-a35e-fa7df8cf9433\",\"type\":\"Selection\"},\"selection_policy\":{\"id\":\"4a956364-1d5c-4931-bcb7-12729803be9d\",\"type\":\"UnionRenderers\"}},\"id\":\"8d043ea3-9fbd-45d7-a3fc-6d3ae4bec9d7\",\"type\":\"ColumnDataSource\"},{\"attributes\":{\"source\":{\"id\":\"cce25666-0cd8-41e3-a4e9-f874c8eb65b2\",\"type\":\"ColumnDataSource\"}},\"id\":\"88b2409e-b2d3-4099-9b6a-925a05bfd0ec\",\"type\":\"CDSView\"},{\"attributes\":{\"source\":{\"id\":\"3c96ddc0-5d41-4781-8222-8f2f0d3b4c93\",\"type\":\"ColumnDataSource\"}},\"id\":\"10e5c61f-2481-420a-9016-1ec7972e4ba1\",\"type\":\"CDSView\"},{\"attributes\":{\"data_source\":{\"id\":\"cce25666-0cd8-41e3-a4e9-f874c8eb65b2\",\"type\":\"ColumnDataSource\"},\"glyph\":{\"id\":\"a0196ab3-5196-4021-b62b-c62ba8ea9bb2\",\"type\":\"Line\"},\"hover_glyph\":null,\"muted_glyph\":null,\"nonselection_glyph\":{\"id\":\"91b12015-6eba-4dfd-abdb-8f60abfb19b7\",\"type\":\"Line\"},\"selection_glyph\":null,\"view\":{\"id\":\"88b2409e-b2d3-4099-9b6a-925a05bfd0ec\",\"type\":\"CDSView\"}},\"id\":\"7474b133-5d86-40c5-988c-42175963a839\",\"type\":\"GlyphRenderer\"},{\"attributes\":{\"fill_alpha\":{\"value\":0.7},\"fill_color\":{\"value\":\"#984ea3\"},\"line_alpha\":{\"value\":0.7},\"line_color\":{\"value\":\"#984ea3\"},\"x\":{\"field\":\"x\"},\"y\":{\"field\":\"y\"}},\"id\":\"e54818af-3f4b-4790-a7f3-b7d06c25fab6\",\"type\":\"Square\"},{\"attributes\":{\"line_alpha\":0.1,\"line_color\":\"#1f77b4\",\"line_width\":3,\"x\":{\"field\":\"x\"},\"y\":{\"field\":\"y\"}},\"id\":\"d4840aa3-5933-428e-95c6-2ac21f1c2bbc\",\"type\":\"Line\"},{\"attributes\":{\"fill_alpha\":{\"value\":0.7},\"fill_color\":{\"value\":\"#984ea3\"},\"line_alpha\":{\"value\":0.7},\"line_color\":{\"value\":\"#984ea3\"},\"x\":{\"field\":\"x\"},\"y\":{\"field\":\"y\"}},\"id\":\"6bd91418-c954-4156-a90c-368343b1bdc8\",\"type\":\"Square\"},{\"attributes\":{\"source\":{\"id\":\"770c86b4-f639-4af4-8bc8-6449adf77588\",\"type\":\"ColumnDataSource\"}},\"id\":\"d5179a11-d650-484e-a498-57fc6d0e43e9\",\"type\":\"CDSView\"},{\"attributes\":{},\"id\":\"e458dbd3-3b35-4aeb-b05f-c14ab6542cd7\",\"type\":\"BasicTickFormatter\"},{\"attributes\":{\"children\":[{\"id\":\"7fe93b6f-0840-4733-8d9f-42c61b80adb5\",\"subtype\":\"Figure\",\"type\":\"Plot\"},{\"id\":\"e1f58a07-4064-4c5e-a152-6dfe98584a9e\",\"subtype\":\"Figure\",\"type\":\"Plot\"}]},\"id\":\"60acf29a-9098-46c5-a2fe-5a9e353b645e\",\"type\":\"Row\"},{\"attributes\":{\"line_alpha\":0.6,\"line_color\":\"#e41a1c\",\"line_dash\":[6],\"line_width\":5,\"x\":{\"field\":\"x\"},\"y\":{\"field\":\"y\"}},\"id\":\"d5bcaa05-fa02-49be-844d-cd5823da93fd\",\"type\":\"Line\"},{\"attributes\":{},\"id\":\"69680897-4928-424a-abc3-52b6d6ce4743\",\"type\":\"BasicTicker\"},{\"attributes\":{\"label\":{\"value\":\"CLIRAD `coolr_bands`\"},\"renderers\":[{\"id\":\"78ad3ee8-4c4c-4ebd-b9d1-72bf7cc0ea6d\",\"type\":\"GlyphRenderer\"}]},\"id\":\"8effbbc8-d057-440f-91a5-3f71bfde172c\",\"type\":\"LegendItem\"},{\"attributes\":{\"data_source\":{\"id\":\"b19ea2cd-0992-4496-a0f8-be09d084d952\",\"type\":\"ColumnDataSource\"},\"glyph\":{\"id\":\"990b811f-ce58-444e-8252-41781a8934ab\",\"type\":\"Circle\"},\"hover_glyph\":null,\"muted_glyph\":null,\"nonselection_glyph\":{\"id\":\"f34c3a77-4433-4c99-a681-dc53a997c0d1\",\"type\":\"Circle\"},\"selection_glyph\":null,\"view\":{\"id\":\"35023a70-85d2-411e-967b-4ee0bd7f4676\",\"type\":\"CDSView\"}},\"id\":\"aeef9bac-27a0-4685-90e6-4a56477d8386\",\"type\":\"GlyphRenderer\"},{\"attributes\":{\"plot\":{\"id\":\"e1f58a07-4064-4c5e-a152-6dfe98584a9e\",\"subtype\":\"Figure\",\"type\":\"Plot\"},\"ticker\":{\"id\":\"69680897-4928-424a-abc3-52b6d6ce4743\",\"type\":\"BasicTicker\"}},\"id\":\"a7275ca2-6b0c-41ed-8f56-92c06c2404c6\",\"type\":\"Grid\"},{\"attributes\":{},\"id\":\"9c1b092f-ccaf-4574-8576-659382e2b3df\",\"type\":\"UnionRenderers\"},{\"attributes\":{\"label\":{\"value\":\"CRD\"},\"renderers\":[{\"id\":\"b7d92474-f3da-4a93-ba6d-c5a6539bfaec\",\"type\":\"GlyphRenderer\"},{\"id\":\"1aa90610-9ab6-4945-ae80-768a8b52eeaa\",\"type\":\"GlyphRenderer\"}]},\"id\":\"9373aba8-da67-4dd1-b992-d0bb803ddc95\",\"type\":\"LegendItem\"},{\"attributes\":{\"source\":{\"id\":\"b19ea2cd-0992-4496-a0f8-be09d084d952\",\"type\":\"ColumnDataSource\"}},\"id\":\"35023a70-85d2-411e-967b-4ee0bd7f4676\",\"type\":\"CDSView\"},{\"attributes\":{},\"id\":\"9b69f75c-f0ef-4c2e-a5b8-b7edad61b31b\",\"type\":\"Selection\"},{\"attributes\":{\"label\":{\"value\":\"WGT igg=10 wgt_flux=2\"},\"renderers\":[{\"id\":\"0623e56d-5702-41c1-be9d-53e1c4fe5c4c\",\"type\":\"GlyphRenderer\"},{\"id\":\"d82bd31f-47f7-4007-9866-8430df34db3c\",\"type\":\"GlyphRenderer\"}]},\"id\":\"6c94329e-e4d8-4d31-8788-0474c312f7c1\",\"type\":\"LegendItem\"},{\"attributes\":{},\"id\":\"e2012294-55fd-4d49-aa41-f5d2e5ca31a1\",\"type\":\"LinearScale\"},{\"attributes\":{},\"id\":\"4a956364-1d5c-4931-bcb7-12729803be9d\",\"type\":\"UnionRenderers\"},{\"attributes\":{},\"id\":\"2c02c679-27fb-4b8e-84fa-acbc7cd09781\",\"type\":\"BasicTickFormatter\"},{\"attributes\":{\"callback\":null,\"end\":0.01,\"start\":1020},\"id\":\"16c76143-c866-4856-94c6-2bee2152be42\",\"type\":\"Range1d\"},{\"attributes\":{\"axis_label\":\"pressure [mb]\",\"formatter\":{\"id\":\"85e53c72-565b-454e-ba6b-5c5108e6a1a3\",\"type\":\"LogTickFormatter\"},\"plot\":{\"id\":\"e1f58a07-4064-4c5e-a152-6dfe98584a9e\",\"subtype\":\"Figure\",\"type\":\"Plot\"},\"ticker\":{\"id\":\"d25a8bb2-d5a2-4337-b5a5-a622c45a1fc3\",\"type\":\"LogTicker\"}},\"id\":\"a31756da-ba5b-43eb-a47b-dbfbc37b7bac\",\"type\":\"LogAxis\"},{\"attributes\":{},\"id\":\"b7de5a2b-c445-47d3-9b03-1059d71bb6c8\",\"type\":\"Selection\"},{\"attributes\":{\"callback\":null,\"data\":{\"x\":{\"__ndarray__\":\"/kSBVkQ8xj/+fS1J8q3JP3GlM4UtW9E/Hir8e4Fl1j9eZqI3btfbP/mKBeEmz+A/hv7p30PU4z86RZ8LvuDmP0obAT4G3uk/eJrYZ6uf7D/eY3C4mP/uP8NrsEj2YvA/SlqQ1d/g8D+kmVFI2ZHwP/7dbhLSYe4/bHyWSC1x6j/RawDEKV7mP8rLoMGFv+I/yj46qZwt4D9v1yn02znePwbSrmnM3N8/cOJXmuj53T/FgUafRR3XP29sNnPGndE/EC9Nh7O0yz+akR8ENAfGP8Gt/UmMjsE/W+4emjCAvT+ush/KmDa7PxozvpIJ/7g/UkYLzTIqtT8+JIC1JEewP04/oM6Yv6o/I2WtcCg+qj9QqaLKeRWrPxQR5LiXJq0/U8ekWNxjrj80b/42gbmsP8qVSuyNgKk/N9zhmkBapj/4du6mZCejP2+Je+ZTw58/nRqyNvLCmD8vHEzBoIiQP1JT/f1/SXk/SCaBIUzCZT+kjUp2umSFP3Mq1j6RKpU/pK5Qfl5cnT8y+2ro+CuiP84dN/ySTaU/Ukw5zWExqD/h4Ozvf+yqP/7SzWXYh60/B6OMKZADsD8g9RHxLDWxPwiyj2o8TrI/QP299pFOsz8i4t6kEy20Pz6YhXNl5LQ/I9IO87ZytT8cM9mng961P/hyH/51LrY/uP34yhBvtj+RNnGvjq22P2kz2O3N+rY/f+c9peBltz/T9/cpsN+3P2Oohp1VNbg/DAp3eaDhtz9unQ9LAIi2P8Xh7eNHZbQ/vG7a7oz+sT/lwG/dgS2vP7h7FqIM9Kk/\",\"dtype\":\"float64\",\"shape\":[75]},\"y\":{\"__ndarray__\":\"GhExyth1ND/Sv8nbtpRIP2vylNV0PVE/aTum7souWD/At0SJ8fVgPw3Iuahxymc/MSNhhJWvcD/bTfBN02d3P2zb5nxnaoA/CD5h5MAGhz8NmeH1TyaQP+zrCsc9p5Y/LbKd76fGnz/bLW5ISEmmPww9YvTcQq8/JV2OstnstT8Er5Y7M8G+P0c+r3jqkcU/5h99k6ZBzj88bCIzFzjVP4enV8oyxN0//yH99nXg5D8qOpLLf0jtP5kqGJXUifQ/c9cS8kHP/D+/DpwzojQEQIEmwoanVwxA4lgXt9HgE0BSSZ2AJuIbQAMJih9jjiNA5q4l5INuK0AwTKYKRj0zQNv5fmq8/DpAaCJseHrtQkB/+zpwzoxKQM3MzMzMeFJAZmZmZmZqWEAAAAAAAFxeQM3MzMzMJmJAmpmZmZkfZUBmZmZmZhhoQDMzMzMzEWtAAAAAAAAKbkBmZmZmZoFwQM3MzMzM/XFAMzMzMzN6c0CamZmZmfZ0QAAAAAAAc3ZAZmZmZmbvd0DNzMzMzGt5QDMzMzMz6HpAmpmZmZlkfEAAAAAAAOF9QGZmZmZmXX9AZmZmZuZsgECamZmZGSuBQM3MzMxM6YFAAAAAAICngkAzMzMzs2WDQGZmZmbmI4RAmpmZmRnihEDNzMzMTKCFQAAAAACAXoZAMzMzM7Mch0BmZmZm5tqHQJqZmZkZmYhAzczMzExXiUAAAAAAgBWKQDMzMzOz04pAZmZmZuaRi0CamZmZGVCMQM3MzMxMDo1AAAAAAIDMjUAzMzMzs4qOQGZmZmbmSI9A\",\"dtype\":\"float64\",\"shape\":[75]}},\"selected\":{\"id\":\"b7de5a2b-c445-47d3-9b03-1059d71bb6c8\",\"type\":\"Selection\"},\"selection_policy\":{\"id\":\"aeeed017-47c5-4155-a350-48d09a90d684\",\"type\":\"UnionRenderers\"}},\"id\":\"cce25666-0cd8-41e3-a4e9-f874c8eb65b2\",\"type\":\"ColumnDataSource\"},{\"attributes\":{},\"id\":\"365bb92a-adb4-440b-8e82-eabd528081da\",\"type\":\"Selection\"},{\"attributes\":{\"ticker\":null},\"id\":\"85e53c72-565b-454e-ba6b-5c5108e6a1a3\",\"type\":\"LogTickFormatter\"},{\"attributes\":{\"active_drag\":\"auto\",\"active_inspect\":\"auto\",\"active_scroll\":\"auto\",\"active_tap\":\"auto\",\"tools\":[{\"id\":\"05e49e6e-fdee-454d-b828-d28d5b0edfc3\",\"type\":\"PanTool\"},{\"id\":\"ba07f3f9-323f-419f-b47d-4bd34e024288\",\"type\":\"WheelZoomTool\"},{\"id\":\"56fc63ea-0b5a-48ed-9f8d-ba894c4682bf\",\"type\":\"BoxZoomTool\"},{\"id\":\"053d3d98-5fa1-4e72-b07e-394f034f7ba3\",\"type\":\"SaveTool\"},{\"id\":\"a078485a-5171-4ac0-8293-49cc6d7c69ee\",\"type\":\"ResetTool\"},{\"id\":\"c871044b-db6d-49fe-8322-9b861badd378\",\"type\":\"HelpTool\"}]},\"id\":\"d7226add-45e7-40e1-85cc-bb4bbc90e890\",\"type\":\"Toolbar\"},{\"attributes\":{},\"id\":\"e0b9db8d-4c2e-48a1-9d97-aff16d941bdf\",\"type\":\"UnionRenderers\"},{\"attributes\":{},\"id\":\"21c20ca4-667c-4a18-a35e-fa7df8cf9433\",\"type\":\"Selection\"},{\"attributes\":{\"plot\":null,\"text\":\"Log pressure scale\"},\"id\":\"b6923fc0-a31a-4c36-a057-8140b3c86208\",\"type\":\"Title\"},{\"attributes\":{},\"id\":\"aeeed017-47c5-4155-a350-48d09a90d684\",\"type\":\"UnionRenderers\"},{\"attributes\":{},\"id\":\"b16fd2be-2ac9-4ccb-bdb9-c884d81b4477\",\"type\":\"Selection\"},{\"attributes\":{},\"id\":\"fb5261c9-84d0-49e3-9bc8-8455b1d3e660\",\"type\":\"UnionRenderers\"},{\"attributes\":{\"line_alpha\":0.6,\"line_color\":\"#984ea3\",\"line_width\":3,\"x\":{\"field\":\"x\"},\"y\":{\"field\":\"y\"}},\"id\":\"a0196ab3-5196-4021-b62b-c62ba8ea9bb2\",\"type\":\"Line\"},{\"attributes\":{},\"id\":\"6a6ba15d-8144-43f2-a304-eb808174f0e5\",\"type\":\"Selection\"},{\"attributes\":{\"fill_alpha\":{\"value\":0.1},\"fill_color\":{\"value\":\"#1f77b4\"},\"line_alpha\":{\"value\":0.1},\"line_color\":{\"value\":\"#1f77b4\"},\"x\":{\"field\":\"x\"},\"y\":{\"field\":\"y\"}},\"id\":\"66e168e8-143e-4c9f-a079-a87c0152ba7a\",\"type\":\"Square\"},{\"attributes\":{},\"id\":\"c838bdcd-a079-4b24-852f-5af4b1659610\",\"type\":\"BasicTickFormatter\"},{\"attributes\":{\"line_alpha\":0.1,\"line_color\":\"#1f77b4\",\"line_width\":3,\"x\":{\"field\":\"x\"},\"y\":{\"field\":\"y\"}},\"id\":\"91b12015-6eba-4dfd-abdb-8f60abfb19b7\",\"type\":\"Line\"},{\"attributes\":{},\"id\":\"2854aca7-fee1-4f02-a1aa-524c04eefe0c\",\"type\":\"UnionRenderers\"},{\"attributes\":{},\"id\":\"5ce47b97-124d-4f05-9a00-9a66155cd817\",\"type\":\"UnionRenderers\"},{\"attributes\":{\"num_minor_ticks\":10},\"id\":\"d25a8bb2-d5a2-4337-b5a5-a622c45a1fc3\",\"type\":\"LogTicker\"},{\"attributes\":{},\"id\":\"252c6237-fa38-453c-ae51-1c88d6b4e7ce\",\"type\":\"UnionRenderers\"},{\"attributes\":{\"items\":[{\"id\":\"8effbbc8-d057-440f-91a5-3f71bfde172c\",\"type\":\"LegendItem\"},{\"id\":\"9373aba8-da67-4dd1-b992-d0bb803ddc95\",\"type\":\"LegendItem\"},{\"id\":\"6c94329e-e4d8-4d31-8788-0474c312f7c1\",\"type\":\"LegendItem\"}],\"label_text_font_size\":{\"value\":\"8pt\"},\"location\":[10,-30],\"plot\":{\"id\":\"e1f58a07-4064-4c5e-a152-6dfe98584a9e\",\"subtype\":\"Figure\",\"type\":\"Plot\"}},\"id\":\"304d751f-f3fb-4a6f-838e-33740a9c221d\",\"type\":\"Legend\"},{\"attributes\":{\"source\":{\"id\":\"6e643b2e-aeca-4ea8-a4aa-9696b3280169\",\"type\":\"ColumnDataSource\"}},\"id\":\"f6415621-7a68-409c-9871-87e937e5c9dd\",\"type\":\"CDSView\"}],\"root_ids\":[\"1859fd8b-c600-4269-b091-f8b549177dad\"]},\"title\":\"Bokeh Application\",\"version\":\"0.12.16\"}};\n",
       "  var render_items = [{\"docid\":\"61d2944f-f669-45d0-ac1e-1facd05c1806\",\"elementid\":\"a865c84b-b09c-4961-b2b3-40c96a62beda\",\"modelid\":\"1859fd8b-c600-4269-b091-f8b549177dad\"}];\n",
       "  root.Bokeh.embed.embed_items_notebook(docs_json, render_items);\n",
       "\n",
       "  }\n",
       "  if (root.Bokeh !== undefined) {\n",
       "    embed_document(root);\n",
       "  } else {\n",
       "    var attempts = 0;\n",
       "    var timer = setInterval(function(root) {\n",
       "      if (root.Bokeh !== undefined) {\n",
       "        embed_document(root);\n",
       "        clearInterval(timer);\n",
       "      }\n",
       "      attempts++;\n",
       "      if (attempts > 100) {\n",
       "        console.log(\"Bokeh: ERROR: Unable to run BokehJS code because BokehJS library is missing\")\n",
       "        clearInterval(timer);\n",
       "      }\n",
       "    }, 10, root)\n",
       "  }\n",
       "})(window);"
      ],
      "application/vnd.bokehjs_exec.v0+json": ""
     },
     "metadata": {
      "application/vnd.bokehjs_exec.v0+json": {
       "id": "1859fd8b-c600-4269-b091-f8b549177dad"
      }
     },
     "output_type": "display_data"
    },
    {
     "name": "stdout",
     "output_type": "stream",
     "text": [
      "FIGURE. Cooling rate profiles.\n"
     ]
    },
    {
     "data": {
      "text/html": [
       "<a id=\"Flux_Comparison\"></a>"
      ],
      "text/plain": [
       "<IPython.core.display.HTML object>"
      ]
     },
     "metadata": {},
     "output_type": "display_data"
    },
    {
     "data": {
      "text/markdown": [
       "# Flux Comparison"
      ],
      "text/plain": [
       "<IPython.core.display.Markdown object>"
      ]
     },
     "metadata": {},
     "output_type": "display_data"
    },
    {
     "data": {
      "text/html": [
       "<div>\n",
       "<style scoped>\n",
       "    .dataframe tbody tr th:only-of-type {\n",
       "        vertical-align: middle;\n",
       "    }\n",
       "\n",
       "    .dataframe tbody tr th {\n",
       "        vertical-align: top;\n",
       "    }\n",
       "\n",
       "    .dataframe thead th {\n",
       "        text-align: right;\n",
       "    }\n",
       "</style>\n",
       "<table border=\"1\" class=\"dataframe\">\n",
       "  <thead>\n",
       "    <tr style=\"text-align: right;\">\n",
       "      <th></th>\n",
       "      <th></th>\n",
       "      <th>flug</th>\n",
       "      <th>fldg</th>\n",
       "      <th>fnetg</th>\n",
       "    </tr>\n",
       "    <tr>\n",
       "      <th>pressure</th>\n",
       "      <th>level</th>\n",
       "      <th></th>\n",
       "      <th></th>\n",
       "      <th></th>\n",
       "    </tr>\n",
       "  </thead>\n",
       "  <tbody>\n",
       "    <tr>\n",
       "      <th>0.0000</th>\n",
       "      <th>1</th>\n",
       "      <td>-20.835452</td>\n",
       "      <td>0.000000</td>\n",
       "      <td>-20.835452</td>\n",
       "    </tr>\n",
       "    <tr>\n",
       "      <th>1.0685</th>\n",
       "      <th>24</th>\n",
       "      <td>-20.824449</td>\n",
       "      <td>0.055467</td>\n",
       "      <td>-20.768981</td>\n",
       "    </tr>\n",
       "    <tr>\n",
       "      <th>1013.0000</th>\n",
       "      <th>76</th>\n",
       "      <td>-23.591138</td>\n",
       "      <td>9.774630</td>\n",
       "      <td>-13.816508</td>\n",
       "    </tr>\n",
       "  </tbody>\n",
       "</table>\n",
       "</div>"
      ],
      "text/plain": [
       "                      flug      fldg      fnetg\n",
       "pressure  level                                \n",
       "0.0000    1     -20.835452  0.000000 -20.835452\n",
       "1.0685    24    -20.824449  0.055467 -20.768981\n",
       "1013.0000 76    -23.591138  9.774630 -13.816508"
      ]
     },
     "metadata": {},
     "output_type": "display_data"
    },
    {
     "name": "stdout",
     "output_type": "stream",
     "text": [
      "Table. Fluxes. CRD\n"
     ]
    },
    {
     "data": {
      "text/html": [
       "<div>\n",
       "<style scoped>\n",
       "    .dataframe tbody tr th:only-of-type {\n",
       "        vertical-align: middle;\n",
       "    }\n",
       "\n",
       "    .dataframe tbody tr th {\n",
       "        vertical-align: top;\n",
       "    }\n",
       "\n",
       "    .dataframe thead th {\n",
       "        text-align: right;\n",
       "    }\n",
       "</style>\n",
       "<table border=\"1\" class=\"dataframe\">\n",
       "  <thead>\n",
       "    <tr style=\"text-align: right;\">\n",
       "      <th></th>\n",
       "      <th></th>\n",
       "      <th>flug</th>\n",
       "      <th>fldg</th>\n",
       "      <th>fnetg</th>\n",
       "    </tr>\n",
       "    <tr>\n",
       "      <th>pressure</th>\n",
       "      <th>level</th>\n",
       "      <th></th>\n",
       "      <th></th>\n",
       "      <th></th>\n",
       "    </tr>\n",
       "  </thead>\n",
       "  <tbody>\n",
       "    <tr>\n",
       "      <th>0.0000</th>\n",
       "      <th>1</th>\n",
       "      <td>-20.792207</td>\n",
       "      <td>0.000000</td>\n",
       "      <td>-20.792207</td>\n",
       "    </tr>\n",
       "    <tr>\n",
       "      <th>1.0685</th>\n",
       "      <th>24</th>\n",
       "      <td>-20.781148</td>\n",
       "      <td>0.052385</td>\n",
       "      <td>-20.728763</td>\n",
       "    </tr>\n",
       "    <tr>\n",
       "      <th>1013.0000</th>\n",
       "      <th>76</th>\n",
       "      <td>-23.591138</td>\n",
       "      <td>10.000005</td>\n",
       "      <td>-13.591133</td>\n",
       "    </tr>\n",
       "  </tbody>\n",
       "</table>\n",
       "</div>"
      ],
      "text/plain": [
       "                      flug       fldg      fnetg\n",
       "pressure  level                                 \n",
       "0.0000    1     -20.792207   0.000000 -20.792207\n",
       "1.0685    24    -20.781148   0.052385 -20.728763\n",
       "1013.0000 76    -23.591138  10.000005 -13.591133"
      ]
     },
     "metadata": {},
     "output_type": "display_data"
    },
    {
     "name": "stdout",
     "output_type": "stream",
     "text": [
      "Table. Fluxes. WGT igg=10 wgt_flux=1\n"
     ]
    },
    {
     "data": {
      "text/html": [
       "<div>\n",
       "<style scoped>\n",
       "    .dataframe tbody tr th:only-of-type {\n",
       "        vertical-align: middle;\n",
       "    }\n",
       "\n",
       "    .dataframe tbody tr th {\n",
       "        vertical-align: top;\n",
       "    }\n",
       "\n",
       "    .dataframe thead th {\n",
       "        text-align: right;\n",
       "    }\n",
       "</style>\n",
       "<table border=\"1\" class=\"dataframe\">\n",
       "  <thead>\n",
       "    <tr style=\"text-align: right;\">\n",
       "      <th></th>\n",
       "      <th></th>\n",
       "      <th>flug</th>\n",
       "      <th>fldg</th>\n",
       "      <th>fnetg</th>\n",
       "    </tr>\n",
       "    <tr>\n",
       "      <th>pressure</th>\n",
       "      <th>level</th>\n",
       "      <th></th>\n",
       "      <th></th>\n",
       "      <th></th>\n",
       "    </tr>\n",
       "  </thead>\n",
       "  <tbody>\n",
       "    <tr>\n",
       "      <th>1.000000e-08</th>\n",
       "      <th>1</th>\n",
       "      <td>-20.853089</td>\n",
       "      <td>0.000002</td>\n",
       "      <td>-20.853087</td>\n",
       "    </tr>\n",
       "    <tr>\n",
       "      <th>1.068500e+00</th>\n",
       "      <th>24</th>\n",
       "      <td>-20.842195</td>\n",
       "      <td>0.050416</td>\n",
       "      <td>-20.791779</td>\n",
       "    </tr>\n",
       "    <tr>\n",
       "      <th>1.013000e+03</th>\n",
       "      <th>76</th>\n",
       "      <td>-23.591140</td>\n",
       "      <td>10.012655</td>\n",
       "      <td>-13.578485</td>\n",
       "    </tr>\n",
       "  </tbody>\n",
       "</table>\n",
       "</div>"
      ],
      "text/plain": [
       "                         flug       fldg      fnetg\n",
       "pressure     level                                 \n",
       "1.000000e-08 1     -20.853089   0.000002 -20.853087\n",
       "1.068500e+00 24    -20.842195   0.050416 -20.791779\n",
       "1.013000e+03 76    -23.591140  10.012655 -13.578485"
      ]
     },
     "metadata": {},
     "output_type": "display_data"
    },
    {
     "name": "stdout",
     "output_type": "stream",
     "text": [
      "Table. Fluxes. CLIRAD\n"
     ]
    },
    {
     "data": {
      "text/html": [
       "<div>\n",
       "<style scoped>\n",
       "    .dataframe tbody tr th:only-of-type {\n",
       "        vertical-align: middle;\n",
       "    }\n",
       "\n",
       "    .dataframe tbody tr th {\n",
       "        vertical-align: top;\n",
       "    }\n",
       "\n",
       "    .dataframe thead th {\n",
       "        text-align: right;\n",
       "    }\n",
       "</style>\n",
       "<table border=\"1\" class=\"dataframe\">\n",
       "  <thead>\n",
       "    <tr style=\"text-align: right;\">\n",
       "      <th></th>\n",
       "      <th></th>\n",
       "      <th>flug</th>\n",
       "      <th>fldg</th>\n",
       "      <th>fnetg</th>\n",
       "    </tr>\n",
       "    <tr>\n",
       "      <th>pressure</th>\n",
       "      <th>level</th>\n",
       "      <th></th>\n",
       "      <th></th>\n",
       "      <th></th>\n",
       "    </tr>\n",
       "  </thead>\n",
       "  <tbody>\n",
       "    <tr>\n",
       "      <th>0.0000</th>\n",
       "      <th>1</th>\n",
       "      <td>4.324483e-02</td>\n",
       "      <td>0.000000</td>\n",
       "      <td>0.043245</td>\n",
       "    </tr>\n",
       "    <tr>\n",
       "      <th>1.0685</th>\n",
       "      <th>24</th>\n",
       "      <td>4.330092e-02</td>\n",
       "      <td>-0.003082</td>\n",
       "      <td>0.040218</td>\n",
       "    </tr>\n",
       "    <tr>\n",
       "      <th>1013.0000</th>\n",
       "      <th>76</th>\n",
       "      <td>1.520000e-07</td>\n",
       "      <td>0.225375</td>\n",
       "      <td>0.225375</td>\n",
       "    </tr>\n",
       "  </tbody>\n",
       "</table>\n",
       "</div>"
      ],
      "text/plain": [
       "                         flug      fldg     fnetg\n",
       "pressure  level                                  \n",
       "0.0000    1      4.324483e-02  0.000000  0.043245\n",
       "1.0685    24     4.330092e-02 -0.003082  0.040218\n",
       "1013.0000 76     1.520000e-07  0.225375  0.225375"
      ]
     },
     "metadata": {},
     "output_type": "display_data"
    },
    {
     "name": "stdout",
     "output_type": "stream",
     "text": [
      "Table. Fluxes. (WGT igg=10 wgt_flux=1) - (CRD)\n"
     ]
    },
    {
     "data": {
      "text/html": [
       "<div>\n",
       "<style scoped>\n",
       "    .dataframe tbody tr th:only-of-type {\n",
       "        vertical-align: middle;\n",
       "    }\n",
       "\n",
       "    .dataframe tbody tr th {\n",
       "        vertical-align: top;\n",
       "    }\n",
       "\n",
       "    .dataframe thead th {\n",
       "        text-align: right;\n",
       "    }\n",
       "</style>\n",
       "<table border=\"1\" class=\"dataframe\">\n",
       "  <thead>\n",
       "    <tr style=\"text-align: right;\">\n",
       "      <th></th>\n",
       "      <th></th>\n",
       "      <th>flug</th>\n",
       "      <th>fldg</th>\n",
       "      <th>fnetg</th>\n",
       "    </tr>\n",
       "    <tr>\n",
       "      <th>pressure</th>\n",
       "      <th>level</th>\n",
       "      <th></th>\n",
       "      <th></th>\n",
       "      <th></th>\n",
       "    </tr>\n",
       "  </thead>\n",
       "  <tbody>\n",
       "    <tr>\n",
       "      <th>0.0000</th>\n",
       "      <th>1</th>\n",
       "      <td>-0.017637</td>\n",
       "      <td>0.000002</td>\n",
       "      <td>-0.017635</td>\n",
       "    </tr>\n",
       "    <tr>\n",
       "      <th>1.0685</th>\n",
       "      <th>24</th>\n",
       "      <td>-0.017746</td>\n",
       "      <td>-0.005052</td>\n",
       "      <td>-0.022798</td>\n",
       "    </tr>\n",
       "    <tr>\n",
       "      <th>1013.0000</th>\n",
       "      <th>76</th>\n",
       "      <td>-0.000002</td>\n",
       "      <td>0.238025</td>\n",
       "      <td>0.238023</td>\n",
       "    </tr>\n",
       "  </tbody>\n",
       "</table>\n",
       "</div>"
      ],
      "text/plain": [
       "                     flug      fldg     fnetg\n",
       "pressure  level                              \n",
       "0.0000    1     -0.017637  0.000002 -0.017635\n",
       "1.0685    24    -0.017746 -0.005052 -0.022798\n",
       "1013.0000 76    -0.000002  0.238025  0.238023"
      ]
     },
     "metadata": {},
     "output_type": "display_data"
    },
    {
     "name": "stdout",
     "output_type": "stream",
     "text": [
      "Table. Fluxes. (CLIRAD) - (CRD)\n"
     ]
    },
    {
     "data": {
      "text/html": [
       "<a id=\"Best-fit_Parameters\"></a>"
      ],
      "text/plain": [
       "<IPython.core.display.HTML object>"
      ]
     },
     "metadata": {},
     "output_type": "display_data"
    },
    {
     "data": {
      "text/markdown": [
       "# Best-fit Parameters"
      ],
      "text/plain": [
       "<IPython.core.display.Markdown object>"
      ]
     },
     "metadata": {},
     "output_type": "display_data"
    },
    {
     "name": "stdout",
     "output_type": "stream",
     "text": [
      "Best-fit values for each (gas, band)\n",
      "------------------------------------\n",
      "o co2 band3a\n",
      "  atmpro = mls\n",
      "  band = 3a\n",
      "  commitnumber = a06b618\n",
      "  conc = 0.0004\n",
      "  dv = 0.001\n",
      "  klin = 6.375563e-24\n",
      "  molecule = co2\n",
      "  ng_adju = [0, 0, 0]\n",
      "  ng_refs = [3, 2, 4]\n",
      "  nv = 1000\n",
      "  option_compute_btable = 0\n",
      "  option_compute_ktable = 1\n",
      "  option_wgt_flux = 1\n",
      "  option_wgt_k = 1\n",
      "  ref_pts = [(1, 250), (10, 250), (500, 250)]\n",
      "  tsfc = 294\n",
      "  vmax = 620\n",
      "  vmin = 540\n",
      "  w_diffuse = [(1.6, 1.6, 1.7), (1.75, 1.75), (1.55, 1.55, 1.6, 1.85)]\n",
      "  wgt = [(0.7, 0.3, 0.7), (0.7, 0.6), (0.4, 0.5, 0.8, 0.95)]\n"
     ]
    }
   ],
   "source": [
    "script()"
   ]
  },
  {
   "cell_type": "code",
   "execution_count": 13,
   "metadata": {
    "collapsed": true
   },
   "outputs": [
    {
     "data": {
      "text/html": [
       "<script>\n",
       "code_show=true; \n",
       "function code_toggle() {\n",
       " if (code_show){\n",
       " $('div.input').hide();\n",
       " } else {\n",
       " $('div.input').show();\n",
       " }\n",
       " code_show = !code_show\n",
       "} \n",
       "$( document ).ready(code_toggle);\n",
       "</script>\n",
       "<form action=\"javascript:code_toggle()\"><input type=\"submit\" value=\"Click here to toggle on/off the raw code.\"></form>"
      ],
      "text/plain": [
       "<IPython.core.display.HTML object>"
      ]
     },
     "execution_count": 13,
     "metadata": {},
     "output_type": "execute_result"
    }
   ],
   "source": [
    "display.HTML('''<script>\n",
    "code_show=true; \n",
    "function code_toggle() {\n",
    " if (code_show){\n",
    " $('div.input').hide();\n",
    " } else {\n",
    " $('div.input').show();\n",
    " }\n",
    " code_show = !code_show\n",
    "} \n",
    "$( document ).ready(code_toggle);\n",
    "</script>\n",
    "<form action=\"javascript:code_toggle()\"><input type=\"submit\" value=\"Click here to toggle on/off the raw code.\"></form>''')"
   ]
  }
 ],
 "metadata": {
  "kernelspec": {
   "display_name": "Python 3",
   "language": "python",
   "name": "python3"
  },
  "language_info": {
   "codemirror_mode": {
    "name": "ipython",
    "version": 3
   },
   "file_extension": ".py",
   "mimetype": "text/x-python",
   "name": "python",
   "nbconvert_exporter": "python",
   "pygments_lexer": "ipython3",
   "version": "3.6.1"
  }
 },
 "nbformat": 4,
 "nbformat_minor": 2
}
