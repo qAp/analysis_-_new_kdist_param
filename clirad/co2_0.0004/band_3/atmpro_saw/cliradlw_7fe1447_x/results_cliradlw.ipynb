{
 "cells": [
  {
   "cell_type": "code",
   "execution_count": 1,
   "metadata": {
    "collapsed": true
   },
   "outputs": [],
   "source": [
    "%matplotlib inline\n",
    "import os\n",
    "import re\n",
    "import io\n",
    "import itertools\n",
    "import pprint\n",
    "\n",
    "from bokeh.io import output_notebook, show\n",
    "from bokeh.layouts import gridplot\n",
    "from bokeh.plotting import figure\n",
    "from bokeh.models import Range1d, Legend\n",
    "from bokeh.palettes import all_palettes\n",
    "\n",
    "import matplotlib\n",
    "import matplotlib.pyplot as plt\n",
    "import numpy as np\n",
    "import pandas as pd\n",
    "import xarray as xr\n",
    "\n",
    "import climatools.lblnew.bestfit_params as bestfits\n",
    "from climatools.lblnew import setup_bestfit, setup_overlap\n",
    "import climatools.lblnew.pipeline as pipe_lblnew\n",
    "import climatools.cliradlw.setup as setup_cliradlw\n",
    "import climatools.cliradlw.pipeline as pipe_cliradlw\n",
    "\n",
    "import climatools.html.html as climahtml\n",
    "from climatools.lblnew.dataio import *\n",
    "from climatools.plot.plot import *\n",
    "\n",
    "\n",
    "import IPython.display as display"
   ]
  },
  {
   "cell_type": "code",
   "execution_count": 2,
   "metadata": {
    "collapsed": true
   },
   "outputs": [],
   "source": [
    "%run param.py"
   ]
  },
  {
   "cell_type": "code",
   "execution_count": 3,
   "metadata": {
    "collapsed": true
   },
   "outputs": [],
   "source": [
    "def load_output_file(path_csv):\n",
    "    '''\n",
    "    Load lblnew output .csv file to xarray.Dataset\n",
    "    \n",
    "    Parameters\n",
    "    ----------\n",
    "    path_csv: str\n",
    "              Path to the .csv file to be loaded.\n",
    "    ds: xarray.Dataset\n",
    "        Data in the input file in the form of an xarray.Dataset.\n",
    "    '''\n",
    "    toindex = ['band', 'pressure', 'igg', 'g']    \n",
    "    df = pd.read_csv(path_csv, sep=r'\\s+')\n",
    "    df = df.set_index([i for i in toindex if i in df.columns])\n",
    "    df = df.rename(columns={'sfu': 'flug',\n",
    "                            'sfd': 'fldg',\n",
    "                            'fnet': 'fnetg',\n",
    "                            'coolr': 'coolrg'})\n",
    "    ds = xr.Dataset.from_dataframe(df)\n",
    "\n",
    "    for l in ('level', 'layer'):\n",
    "        if l in ds.data_vars:\n",
    "            if len(ds[l].dims) > 1:\n",
    "                surface = {d: 0 for d in ds.dims if d != 'pressure'}\n",
    "                coord_level = ds[l][surface]\n",
    "                ds.coords[l] = ('pressure', coord_level)\n",
    "            else:\n",
    "                ds.coords[l] = ('pressure', ds[l])\n",
    "    \n",
    "    return ds"
   ]
  },
  {
   "cell_type": "code",
   "execution_count": 4,
   "metadata": {
    "collapsed": true
   },
   "outputs": [],
   "source": [
    "def lblnew_setup(param=None):\n",
    "    if 'ng_refs' in param:\n",
    "        return {'setup': setup_bestfit,\n",
    "                'fname_flux_crd': 'output_flux.dat',\n",
    "                'fname_cool_crd': 'output_coolr.dat',\n",
    "                'fname_flux_wgt': 'output_wfluxg.dat',\n",
    "                'fname_cool_wgt': 'output_wcoolrg.dat'}\n",
    "    else:\n",
    "        return {'setup': setup_overlap,\n",
    "                'fname_flux_crd': 'output_flux.dat',\n",
    "                'fname_cool_crd': 'output_coolr.dat',\n",
    "                'fname_flux_wgt': 'output_wflux.dat',\n",
    "                'fname_cool_wgt': 'output_wcoolr.dat'}\n",
    "\n",
    "    \n",
    "def load_lblnew_data(param):\n",
    "    \n",
    "    fname_dsname = [('fname_flux_crd', 'ds_flux_crd'),\n",
    "                    ('fname_cool_crd', 'ds_cool_crd'),\n",
    "                    ('fname_flux_wgt', 'ds_flux_wgt'),\n",
    "                    ('fname_cool_wgt', 'ds_cool_wgt')]\n",
    "    \n",
    "    d = lblnew_setup(param)\n",
    "    dir_fortran = pipe_lblnew.get_dir_case(param, setup=d['setup'])\n",
    "    \n",
    "    data_dict = {}\n",
    "    for fname, dsname in fname_dsname:\n",
    "        fpath = os.path.join(dir_fortran, d[fname])\n",
    "        data_dict[dsname] = load_output_file(fpath)\n",
    "    return data_dict\n",
    "    \n",
    "\n",
    "    \n",
    "    "
   ]
  },
  {
   "cell_type": "code",
   "execution_count": 5,
   "metadata": {
    "collapsed": true
   },
   "outputs": [],
   "source": [
    "d = load_lblnew_data(PARAM_LBLNEW)\n",
    "\n",
    "DS_FLUX_CRD = d['ds_flux_crd']\n",
    "DS_COOL_CRD = d['ds_cool_crd']\n",
    "DS_FLUX_WGT = d['ds_flux_wgt']\n",
    "DS_COOL_WGT = d['ds_cool_wgt']"
   ]
  },
  {
   "cell_type": "code",
   "execution_count": 6,
   "metadata": {
    "collapsed": true
   },
   "outputs": [],
   "source": [
    "DIR_FORTRAN = pipe_cliradlw.get_fortran_dir(PARAM, \n",
    "                                            setup=setup_cliradlw)\n",
    "\n",
    "PATH_FLUX = os.path.join(DIR_FORTRAN, 'output_flux.dat')\n",
    "PATH_COOL = os.path.join(DIR_FORTRAN, 'output_coolr.dat')\n",
    "\n",
    "DS_FLUX = load_output_file(PATH_FLUX)\n",
    "DS_COOL = load_output_file(PATH_COOL)"
   ]
  },
  {
   "cell_type": "code",
   "execution_count": 7,
   "metadata": {
    "collapsed": true
   },
   "outputs": [
    {
     "data": {
      "text/html": [
       "\n",
       "    <div class=\"bk-root\">\n",
       "        <a href=\"https://bokeh.pydata.org\" target=\"_blank\" class=\"bk-logo bk-logo-small bk-logo-notebook\"></a>\n",
       "        <span id=\"1ee5d9c7-a251-456f-8d50-94fa4dee0404\">Loading BokehJS ...</span>\n",
       "    </div>"
      ]
     },
     "metadata": {},
     "output_type": "display_data"
    },
    {
     "data": {
      "application/javascript": [
       "\n",
       "(function(root) {\n",
       "  function now() {\n",
       "    return new Date();\n",
       "  }\n",
       "\n",
       "  var force = true;\n",
       "\n",
       "  if (typeof (root._bokeh_onload_callbacks) === \"undefined\" || force === true) {\n",
       "    root._bokeh_onload_callbacks = [];\n",
       "    root._bokeh_is_loading = undefined;\n",
       "  }\n",
       "\n",
       "  var JS_MIME_TYPE = 'application/javascript';\n",
       "  var HTML_MIME_TYPE = 'text/html';\n",
       "  var EXEC_MIME_TYPE = 'application/vnd.bokehjs_exec.v0+json';\n",
       "  var CLASS_NAME = 'output_bokeh rendered_html';\n",
       "\n",
       "  /**\n",
       "   * Render data to the DOM node\n",
       "   */\n",
       "  function render(props, node) {\n",
       "    var script = document.createElement(\"script\");\n",
       "    node.appendChild(script);\n",
       "  }\n",
       "\n",
       "  /**\n",
       "   * Handle when an output is cleared or removed\n",
       "   */\n",
       "  function handleClearOutput(event, handle) {\n",
       "    var cell = handle.cell;\n",
       "\n",
       "    var id = cell.output_area._bokeh_element_id;\n",
       "    var server_id = cell.output_area._bokeh_server_id;\n",
       "    // Clean up Bokeh references\n",
       "    if (id !== undefined) {\n",
       "      Bokeh.index[id].model.document.clear();\n",
       "      delete Bokeh.index[id];\n",
       "    }\n",
       "\n",
       "    if (server_id !== undefined) {\n",
       "      // Clean up Bokeh references\n",
       "      var cmd = \"from bokeh.io.state import curstate; print(curstate().uuid_to_server['\" + server_id + \"'].get_sessions()[0].document.roots[0]._id)\";\n",
       "      cell.notebook.kernel.execute(cmd, {\n",
       "        iopub: {\n",
       "          output: function(msg) {\n",
       "            var element_id = msg.content.text.trim();\n",
       "            Bokeh.index[element_id].model.document.clear();\n",
       "            delete Bokeh.index[element_id];\n",
       "          }\n",
       "        }\n",
       "      });\n",
       "      // Destroy server and session\n",
       "      var cmd = \"import bokeh.io.notebook as ion; ion.destroy_server('\" + server_id + \"')\";\n",
       "      cell.notebook.kernel.execute(cmd);\n",
       "    }\n",
       "  }\n",
       "\n",
       "  /**\n",
       "   * Handle when a new output is added\n",
       "   */\n",
       "  function handleAddOutput(event, handle) {\n",
       "    var output_area = handle.output_area;\n",
       "    var output = handle.output;\n",
       "\n",
       "    // limit handleAddOutput to display_data with EXEC_MIME_TYPE content only\n",
       "    if ((output.output_type != \"display_data\") || (!output.data.hasOwnProperty(EXEC_MIME_TYPE))) {\n",
       "      return\n",
       "    }\n",
       "\n",
       "    var toinsert = output_area.element.find(\".\" + CLASS_NAME.split(' ')[0]);\n",
       "\n",
       "    if (output.metadata[EXEC_MIME_TYPE][\"id\"] !== undefined) {\n",
       "      toinsert[0].firstChild.textContent = output.data[JS_MIME_TYPE];\n",
       "      // store reference to embed id on output_area\n",
       "      output_area._bokeh_element_id = output.metadata[EXEC_MIME_TYPE][\"id\"];\n",
       "    }\n",
       "    if (output.metadata[EXEC_MIME_TYPE][\"server_id\"] !== undefined) {\n",
       "      var bk_div = document.createElement(\"div\");\n",
       "      bk_div.innerHTML = output.data[HTML_MIME_TYPE];\n",
       "      var script_attrs = bk_div.children[0].attributes;\n",
       "      for (var i = 0; i < script_attrs.length; i++) {\n",
       "        toinsert[0].firstChild.setAttribute(script_attrs[i].name, script_attrs[i].value);\n",
       "      }\n",
       "      // store reference to server id on output_area\n",
       "      output_area._bokeh_server_id = output.metadata[EXEC_MIME_TYPE][\"server_id\"];\n",
       "    }\n",
       "  }\n",
       "\n",
       "  function register_renderer(events, OutputArea) {\n",
       "\n",
       "    function append_mime(data, metadata, element) {\n",
       "      // create a DOM node to render to\n",
       "      var toinsert = this.create_output_subarea(\n",
       "        metadata,\n",
       "        CLASS_NAME,\n",
       "        EXEC_MIME_TYPE\n",
       "      );\n",
       "      this.keyboard_manager.register_events(toinsert);\n",
       "      // Render to node\n",
       "      var props = {data: data, metadata: metadata[EXEC_MIME_TYPE]};\n",
       "      render(props, toinsert[0]);\n",
       "      element.append(toinsert);\n",
       "      return toinsert\n",
       "    }\n",
       "\n",
       "    /* Handle when an output is cleared or removed */\n",
       "    events.on('clear_output.CodeCell', handleClearOutput);\n",
       "    events.on('delete.Cell', handleClearOutput);\n",
       "\n",
       "    /* Handle when a new output is added */\n",
       "    events.on('output_added.OutputArea', handleAddOutput);\n",
       "\n",
       "    /**\n",
       "     * Register the mime type and append_mime function with output_area\n",
       "     */\n",
       "    OutputArea.prototype.register_mime_type(EXEC_MIME_TYPE, append_mime, {\n",
       "      /* Is output safe? */\n",
       "      safe: true,\n",
       "      /* Index of renderer in `output_area.display_order` */\n",
       "      index: 0\n",
       "    });\n",
       "  }\n",
       "\n",
       "  // register the mime type if in Jupyter Notebook environment and previously unregistered\n",
       "  if (root.Jupyter !== undefined) {\n",
       "    var events = require('base/js/events');\n",
       "    var OutputArea = require('notebook/js/outputarea').OutputArea;\n",
       "\n",
       "    if (OutputArea.prototype.mime_types().indexOf(EXEC_MIME_TYPE) == -1) {\n",
       "      register_renderer(events, OutputArea);\n",
       "    }\n",
       "  }\n",
       "\n",
       "  \n",
       "  if (typeof (root._bokeh_timeout) === \"undefined\" || force === true) {\n",
       "    root._bokeh_timeout = Date.now() + 5000;\n",
       "    root._bokeh_failed_load = false;\n",
       "  }\n",
       "\n",
       "  var NB_LOAD_WARNING = {'data': {'text/html':\n",
       "     \"<div style='background-color: #fdd'>\\n\"+\n",
       "     \"<p>\\n\"+\n",
       "     \"BokehJS does not appear to have successfully loaded. If loading BokehJS from CDN, this \\n\"+\n",
       "     \"may be due to a slow or bad network connection. Possible fixes:\\n\"+\n",
       "     \"</p>\\n\"+\n",
       "     \"<ul>\\n\"+\n",
       "     \"<li>re-rerun `output_notebook()` to attempt to load from CDN again, or</li>\\n\"+\n",
       "     \"<li>use INLINE resources instead, as so:</li>\\n\"+\n",
       "     \"</ul>\\n\"+\n",
       "     \"<code>\\n\"+\n",
       "     \"from bokeh.resources import INLINE\\n\"+\n",
       "     \"output_notebook(resources=INLINE)\\n\"+\n",
       "     \"</code>\\n\"+\n",
       "     \"</div>\"}};\n",
       "\n",
       "  function display_loaded() {\n",
       "    var el = document.getElementById(\"1ee5d9c7-a251-456f-8d50-94fa4dee0404\");\n",
       "    if (el != null) {\n",
       "      el.textContent = \"BokehJS is loading...\";\n",
       "    }\n",
       "    if (root.Bokeh !== undefined) {\n",
       "      if (el != null) {\n",
       "        el.textContent = \"BokehJS \" + root.Bokeh.version + \" successfully loaded.\";\n",
       "      }\n",
       "    } else if (Date.now() < root._bokeh_timeout) {\n",
       "      setTimeout(display_loaded, 100)\n",
       "    }\n",
       "  }\n",
       "\n",
       "\n",
       "  function run_callbacks() {\n",
       "    try {\n",
       "      root._bokeh_onload_callbacks.forEach(function(callback) { callback() });\n",
       "    }\n",
       "    finally {\n",
       "      delete root._bokeh_onload_callbacks\n",
       "    }\n",
       "    console.info(\"Bokeh: all callbacks have finished\");\n",
       "  }\n",
       "\n",
       "  function load_libs(js_urls, callback) {\n",
       "    root._bokeh_onload_callbacks.push(callback);\n",
       "    if (root._bokeh_is_loading > 0) {\n",
       "      console.log(\"Bokeh: BokehJS is being loaded, scheduling callback at\", now());\n",
       "      return null;\n",
       "    }\n",
       "    if (js_urls == null || js_urls.length === 0) {\n",
       "      run_callbacks();\n",
       "      return null;\n",
       "    }\n",
       "    console.log(\"Bokeh: BokehJS not loaded, scheduling load and callback at\", now());\n",
       "    root._bokeh_is_loading = js_urls.length;\n",
       "    for (var i = 0; i < js_urls.length; i++) {\n",
       "      var url = js_urls[i];\n",
       "      var s = document.createElement('script');\n",
       "      s.src = url;\n",
       "      s.async = false;\n",
       "      s.onreadystatechange = s.onload = function() {\n",
       "        root._bokeh_is_loading--;\n",
       "        if (root._bokeh_is_loading === 0) {\n",
       "          console.log(\"Bokeh: all BokehJS libraries loaded\");\n",
       "          run_callbacks()\n",
       "        }\n",
       "      };\n",
       "      s.onerror = function() {\n",
       "        console.warn(\"failed to load library \" + url);\n",
       "      };\n",
       "      console.log(\"Bokeh: injecting script tag for BokehJS library: \", url);\n",
       "      document.getElementsByTagName(\"head\")[0].appendChild(s);\n",
       "    }\n",
       "  };var element = document.getElementById(\"1ee5d9c7-a251-456f-8d50-94fa4dee0404\");\n",
       "  if (element == null) {\n",
       "    console.log(\"Bokeh: ERROR: autoload.js configured with elementid '1ee5d9c7-a251-456f-8d50-94fa4dee0404' but no matching script tag was found. \")\n",
       "    return false;\n",
       "  }\n",
       "\n",
       "  var js_urls = [\"https://cdn.pydata.org/bokeh/release/bokeh-0.12.14.min.js\", \"https://cdn.pydata.org/bokeh/release/bokeh-widgets-0.12.14.min.js\", \"https://cdn.pydata.org/bokeh/release/bokeh-tables-0.12.14.min.js\", \"https://cdn.pydata.org/bokeh/release/bokeh-gl-0.12.14.min.js\"];\n",
       "\n",
       "  var inline_js = [\n",
       "    function(Bokeh) {\n",
       "      Bokeh.set_log_level(\"info\");\n",
       "    },\n",
       "    \n",
       "    function(Bokeh) {\n",
       "      \n",
       "    },\n",
       "    function(Bokeh) {\n",
       "      console.log(\"Bokeh: injecting CSS: https://cdn.pydata.org/bokeh/release/bokeh-0.12.14.min.css\");\n",
       "      Bokeh.embed.inject_css(\"https://cdn.pydata.org/bokeh/release/bokeh-0.12.14.min.css\");\n",
       "      console.log(\"Bokeh: injecting CSS: https://cdn.pydata.org/bokeh/release/bokeh-widgets-0.12.14.min.css\");\n",
       "      Bokeh.embed.inject_css(\"https://cdn.pydata.org/bokeh/release/bokeh-widgets-0.12.14.min.css\");\n",
       "      console.log(\"Bokeh: injecting CSS: https://cdn.pydata.org/bokeh/release/bokeh-tables-0.12.14.min.css\");\n",
       "      Bokeh.embed.inject_css(\"https://cdn.pydata.org/bokeh/release/bokeh-tables-0.12.14.min.css\");\n",
       "    }\n",
       "  ];\n",
       "\n",
       "  function run_inline_js() {\n",
       "    \n",
       "    if ((root.Bokeh !== undefined) || (force === true)) {\n",
       "      for (var i = 0; i < inline_js.length; i++) {\n",
       "        inline_js[i].call(root, root.Bokeh);\n",
       "      }if (force === true) {\n",
       "        display_loaded();\n",
       "      }} else if (Date.now() < root._bokeh_timeout) {\n",
       "      setTimeout(run_inline_js, 100);\n",
       "    } else if (!root._bokeh_failed_load) {\n",
       "      console.log(\"Bokeh: BokehJS failed to load within specified timeout.\");\n",
       "      root._bokeh_failed_load = true;\n",
       "    } else if (force !== true) {\n",
       "      var cell = $(document.getElementById(\"1ee5d9c7-a251-456f-8d50-94fa4dee0404\")).parents('.cell').data().cell;\n",
       "      cell.output_area.append_execute_result(NB_LOAD_WARNING)\n",
       "    }\n",
       "\n",
       "  }\n",
       "\n",
       "  if (root._bokeh_is_loading === 0) {\n",
       "    console.log(\"Bokeh: BokehJS loaded, going straight to plotting\");\n",
       "    run_inline_js();\n",
       "  } else {\n",
       "    load_libs(js_urls, function() {\n",
       "      console.log(\"Bokeh: BokehJS plotting callback run at\", now());\n",
       "      run_inline_js();\n",
       "    });\n",
       "  }\n",
       "}(window));"
      ],
      "application/vnd.bokehjs_load.v0+json": "\n(function(root) {\n  function now() {\n    return new Date();\n  }\n\n  var force = true;\n\n  if (typeof (root._bokeh_onload_callbacks) === \"undefined\" || force === true) {\n    root._bokeh_onload_callbacks = [];\n    root._bokeh_is_loading = undefined;\n  }\n\n  \n\n  \n  if (typeof (root._bokeh_timeout) === \"undefined\" || force === true) {\n    root._bokeh_timeout = Date.now() + 5000;\n    root._bokeh_failed_load = false;\n  }\n\n  var NB_LOAD_WARNING = {'data': {'text/html':\n     \"<div style='background-color: #fdd'>\\n\"+\n     \"<p>\\n\"+\n     \"BokehJS does not appear to have successfully loaded. If loading BokehJS from CDN, this \\n\"+\n     \"may be due to a slow or bad network connection. Possible fixes:\\n\"+\n     \"</p>\\n\"+\n     \"<ul>\\n\"+\n     \"<li>re-rerun `output_notebook()` to attempt to load from CDN again, or</li>\\n\"+\n     \"<li>use INLINE resources instead, as so:</li>\\n\"+\n     \"</ul>\\n\"+\n     \"<code>\\n\"+\n     \"from bokeh.resources import INLINE\\n\"+\n     \"output_notebook(resources=INLINE)\\n\"+\n     \"</code>\\n\"+\n     \"</div>\"}};\n\n  function display_loaded() {\n    var el = document.getElementById(\"1ee5d9c7-a251-456f-8d50-94fa4dee0404\");\n    if (el != null) {\n      el.textContent = \"BokehJS is loading...\";\n    }\n    if (root.Bokeh !== undefined) {\n      if (el != null) {\n        el.textContent = \"BokehJS \" + root.Bokeh.version + \" successfully loaded.\";\n      }\n    } else if (Date.now() < root._bokeh_timeout) {\n      setTimeout(display_loaded, 100)\n    }\n  }\n\n\n  function run_callbacks() {\n    try {\n      root._bokeh_onload_callbacks.forEach(function(callback) { callback() });\n    }\n    finally {\n      delete root._bokeh_onload_callbacks\n    }\n    console.info(\"Bokeh: all callbacks have finished\");\n  }\n\n  function load_libs(js_urls, callback) {\n    root._bokeh_onload_callbacks.push(callback);\n    if (root._bokeh_is_loading > 0) {\n      console.log(\"Bokeh: BokehJS is being loaded, scheduling callback at\", now());\n      return null;\n    }\n    if (js_urls == null || js_urls.length === 0) {\n      run_callbacks();\n      return null;\n    }\n    console.log(\"Bokeh: BokehJS not loaded, scheduling load and callback at\", now());\n    root._bokeh_is_loading = js_urls.length;\n    for (var i = 0; i < js_urls.length; i++) {\n      var url = js_urls[i];\n      var s = document.createElement('script');\n      s.src = url;\n      s.async = false;\n      s.onreadystatechange = s.onload = function() {\n        root._bokeh_is_loading--;\n        if (root._bokeh_is_loading === 0) {\n          console.log(\"Bokeh: all BokehJS libraries loaded\");\n          run_callbacks()\n        }\n      };\n      s.onerror = function() {\n        console.warn(\"failed to load library \" + url);\n      };\n      console.log(\"Bokeh: injecting script tag for BokehJS library: \", url);\n      document.getElementsByTagName(\"head\")[0].appendChild(s);\n    }\n  };var element = document.getElementById(\"1ee5d9c7-a251-456f-8d50-94fa4dee0404\");\n  if (element == null) {\n    console.log(\"Bokeh: ERROR: autoload.js configured with elementid '1ee5d9c7-a251-456f-8d50-94fa4dee0404' but no matching script tag was found. \")\n    return false;\n  }\n\n  var js_urls = [\"https://cdn.pydata.org/bokeh/release/bokeh-0.12.14.min.js\", \"https://cdn.pydata.org/bokeh/release/bokeh-widgets-0.12.14.min.js\", \"https://cdn.pydata.org/bokeh/release/bokeh-tables-0.12.14.min.js\", \"https://cdn.pydata.org/bokeh/release/bokeh-gl-0.12.14.min.js\"];\n\n  var inline_js = [\n    function(Bokeh) {\n      Bokeh.set_log_level(\"info\");\n    },\n    \n    function(Bokeh) {\n      \n    },\n    function(Bokeh) {\n      console.log(\"Bokeh: injecting CSS: https://cdn.pydata.org/bokeh/release/bokeh-0.12.14.min.css\");\n      Bokeh.embed.inject_css(\"https://cdn.pydata.org/bokeh/release/bokeh-0.12.14.min.css\");\n      console.log(\"Bokeh: injecting CSS: https://cdn.pydata.org/bokeh/release/bokeh-widgets-0.12.14.min.css\");\n      Bokeh.embed.inject_css(\"https://cdn.pydata.org/bokeh/release/bokeh-widgets-0.12.14.min.css\");\n      console.log(\"Bokeh: injecting CSS: https://cdn.pydata.org/bokeh/release/bokeh-tables-0.12.14.min.css\");\n      Bokeh.embed.inject_css(\"https://cdn.pydata.org/bokeh/release/bokeh-tables-0.12.14.min.css\");\n    }\n  ];\n\n  function run_inline_js() {\n    \n    if ((root.Bokeh !== undefined) || (force === true)) {\n      for (var i = 0; i < inline_js.length; i++) {\n        inline_js[i].call(root, root.Bokeh);\n      }if (force === true) {\n        display_loaded();\n      }} else if (Date.now() < root._bokeh_timeout) {\n      setTimeout(run_inline_js, 100);\n    } else if (!root._bokeh_failed_load) {\n      console.log(\"Bokeh: BokehJS failed to load within specified timeout.\");\n      root._bokeh_failed_load = true;\n    } else if (force !== true) {\n      var cell = $(document.getElementById(\"1ee5d9c7-a251-456f-8d50-94fa4dee0404\")).parents('.cell').data().cell;\n      cell.output_area.append_execute_result(NB_LOAD_WARNING)\n    }\n\n  }\n\n  if (root._bokeh_is_loading === 0) {\n    console.log(\"Bokeh: BokehJS loaded, going straight to plotting\");\n    run_inline_js();\n  } else {\n    load_libs(js_urls, function() {\n      console.log(\"Bokeh: BokehJS plotting callback run at\", now());\n      run_inline_js();\n    });\n  }\n}(window));"
     },
     "metadata": {},
     "output_type": "display_data"
    }
   ],
   "source": [
    "output_notebook()"
   ]
  },
  {
   "cell_type": "code",
   "execution_count": 8,
   "metadata": {
    "collapsed": true
   },
   "outputs": [],
   "source": [
    "def fmt_cool(ds_in):\n",
    "    ds = ds_in.copy(deep=True)\n",
    "    if 'igg' in ds.dims:\n",
    "        ds = ds.sel(igg=1)\n",
    "\n",
    "    if 'g' in ds.dims:\n",
    "        ds = ds.sum('g')\n",
    "            \n",
    "    if 'band' in ds.dims:\n",
    "        try:\n",
    "            ds = ds.squeeze('band')\n",
    "        except ValueError:\n",
    "            ds = ds.sum('band')\n",
    "                \n",
    "    return ds['coolrg']\n",
    "\n",
    "\n",
    "def pltdata_cooling_1(ds_cool=None,\n",
    "                      ds_cool_crd=None, ds_cool_wgt=None):\n",
    "    \n",
    "\n",
    "\n",
    "    colors = all_palettes['Set1'][4]\n",
    "    data = [{'label': 'CLIRAD `coolr_bands`',\n",
    "             'srs': fmt_cool(ds_cool),\n",
    "             'line_dash': 'dashed', 'line_width': 5,\n",
    "             'color': colors[0], 'alpha': .6},\n",
    "            {'label': 'CRD',\n",
    "             'srs': fmt_cool(ds_cool_crd),\n",
    "             'line_dash': 'solid', 'line_width': 1.5,\n",
    "             'marker': 'circle', 'marker_size': 5,\n",
    "             'color': colors[2], 'alpha': 1,},\n",
    "            {'label': 'WGT igg=10 wgt_flux=2',\n",
    "             'srs': fmt_cool(ds_cool_wgt),\n",
    "             'line_dash': 'solid', 'line_width': 3,\n",
    "             'marker': 'square', 'marker_size': 5,\n",
    "             'color': colors[3], 'alpha': .6}]\n",
    "    return data\n",
    "\n",
    "\n",
    "def nice_xlims(pltdata=None, prange=None):\n",
    "    \n",
    "    def get_slice(srs):\n",
    "        return srs.sel(pressure=slice(*prange))\n",
    "    \n",
    "    srss = [d['srs'] for d in pltdata]\n",
    "    vmin = min([get_slice(srs).min() for srs in srss])\n",
    "    vmax = max([get_slice(srs).max() for srs in srss])\n",
    "    dv = (vmax - vmin) * .01\n",
    "    return float(vmin - dv), float(vmax + dv)\n",
    "    \n",
    "\n",
    "def plt_cooling_bokeh(pltdata=None):\n",
    "    '''\n",
    "    Plot a list of cooling rate profiles using bokeh.\n",
    "    '''\n",
    "    ymin = 1e-2 \n",
    "    ymax = 1020 \n",
    "        \n",
    "    p1 = figure(title=\"Linear pressure scale\", \n",
    "                plot_width=400)        \n",
    "    xmin, xmax = nice_xlims(pltdata, prange=(50, 1050))\n",
    "    for d in pltdata:\n",
    "        if 'marker' in d:\n",
    "            getattr(p1, d['marker'])(d['srs'].values, \n",
    "                    d['srs'].coords['pressure'].values,\n",
    "                    color=d['color'], alpha=.7)\n",
    "        p1.line(d['srs'].values, \n",
    "                d['srs'].coords['pressure'].values,\n",
    "                color=d['color'], alpha=d['alpha'], \n",
    "                line_width=d['line_width'], line_dash=d['line_dash'])\n",
    "    \n",
    "    p1.y_range = Range1d(ymax, ymin)\n",
    "    p1.yaxis.axis_label = 'pressure [mb]'   \n",
    "    p1.x_range = Range1d(xmin, xmax)\n",
    "    p1.xaxis.axis_label = 'cooling rate [K/day]'\n",
    "            \n",
    "    p2 = figure(title='Log pressure scale', y_axis_type='log',\n",
    "                plot_width=560)\n",
    "    xmin, xmax = nice_xlims(pltdata, prange=(.01, 200))\n",
    "    \n",
    "    rs = []\n",
    "    for d in pltdata:\n",
    "        rd = []\n",
    "        if 'marker' in d:\n",
    "            r_mark = getattr(p2, d['marker'])(d['srs'].values, \n",
    "                        d['srs'].coords['pressure'].values,\n",
    "                        color=d['color'], alpha=.7)\n",
    "            rd.append(r_mark)\n",
    "        r_line = p2.line(d['srs'].values, \n",
    "                    d['srs'].coords['pressure'].values,\n",
    "                    color=d['color'], alpha=d['alpha'], \n",
    "                    line_width=d['line_width'], line_dash=d['line_dash'])\n",
    "        rd.append(r_line)\n",
    "      \n",
    "        rs.append(rd)\n",
    "        \n",
    "    p2.y_range = Range1d(ymax, ymin)  \n",
    "    p2.yaxis.axis_label = 'pressure [mb]'\n",
    "    \n",
    "    p2.x_range = Range1d(xmin, xmax)\n",
    "    p2.xaxis.axis_label = 'cooling rate [K/day]'\n",
    "    \n",
    "    items = [(d['label'], r) for r, d in zip(rs, pltdata)]\n",
    "    legend = Legend(items=items, location=(10, -30))\n",
    "    legend.label_text_font_size = '8pt'\n",
    "    \n",
    "    p2.add_layout(legend, 'right')  \n",
    "    \n",
    "    show(gridplot(p1, p2, ncols=2, plot_height=500))\n",
    "    \n",
    "\n",
    "def script_plt_cooling():\n",
    "    pltdata = pltdata_cooling_1(\n",
    "        ds_cool=DS_COOL,\n",
    "        ds_cool_crd=DS_COOL_CRD,\n",
    "        ds_cool_wgt=DS_COOL_WGT)\n",
    "    plt_cooling_bokeh(pltdata=pltdata)\n",
    "    print('''FIGURE. Cooling rate profiles.''')"
   ]
  },
  {
   "cell_type": "code",
   "execution_count": 9,
   "metadata": {
    "collapsed": true
   },
   "outputs": [],
   "source": [
    "def fmt_flux(ds_in):\n",
    "    ds = ds_in.copy(deep=True)\n",
    "    \n",
    "    for l in ('level', 'layer'):\n",
    "        if l in ds.data_vars:\n",
    "            if len(ds[l].dims) > 1:\n",
    "                surface = {d: 0 for d in ds.dims if d != 'pressure'}\n",
    "                coord_level = ds[l][surface]\n",
    "                ds.coords[l] = ('pressure', coord_level)\n",
    "            else:\n",
    "                ds.coords[l] = ('pressure', ds[l])\n",
    "        \n",
    "    ds = ds.isel(pressure=[0, 23, -1])\n",
    "        \n",
    "    if 'igg' in ds.dims:\n",
    "        ds = ds.sel(igg=[1])\n",
    "        ds = ds.squeeze('igg').drop('igg')\n",
    "    \n",
    "    if 'g' in ds.dims:\n",
    "        ds = ds.sum('g')\n",
    "            \n",
    "    if 'band' in ds.dims:\n",
    "        try:\n",
    "            ds = ds.squeeze('band').drop('band')\n",
    "        except ValueError:\n",
    "            ds = ds.sum('band')\n",
    "                \n",
    "    df = ds.to_dataframe()\n",
    "    df = df.set_index('level', append=True)               \n",
    "    return df\n",
    "\n",
    "\n",
    "def tbdata_flux(ds_flux=None, ds_flux_crd=None, ds_flux_wgt=None):\n",
    "    ilevels = [0, 23, -1]\n",
    "            \n",
    "    benchmark = {'label': 'WGT igg=10 wgt_flux=1',\n",
    "                 'df': fmt_flux(ds_flux_wgt)}\n",
    "    \n",
    "    tbs = [{'label': 'CRD',\n",
    "            'df': fmt_flux(ds_flux_crd)},\n",
    "           {'label': 'CLIRAD',\n",
    "            'df': fmt_flux(ds_flux)}]\n",
    "    \n",
    "    data = {'benchmark': benchmark, 'others': tbs}\n",
    "    return data\n",
    "\n",
    "\n",
    "def tb_flux(tbdata=None):\n",
    "    benchmark = tbdata['benchmark']\n",
    "    others = tbdata['others']\n",
    "    \n",
    "    def show_tb(d=None):\n",
    "        display.display(d['df'])\n",
    "        print('Table.', 'Fluxes.', d['label'])\n",
    "        \n",
    "    def show_tbdiff(d0=None, d=None):\n",
    "        df = d['df']\n",
    "        df.index = d0['df'].index\n",
    "        display.display(df - d0['df'])\n",
    "        print('Table.', 'Fluxes.', \n",
    "              '({}) - ({})'.format(d['label'], d0['label']))\n",
    "        \n",
    "    show_tb(benchmark)\n",
    "    for d in others:\n",
    "        show_tb(d)\n",
    "        \n",
    "    for d in others:\n",
    "        show_tbdiff(d=d, d0=benchmark)\n",
    "        \n",
    "        \n",
    "def script_tb_flux():\n",
    "    data = tbdata_flux(ds_flux=DS_FLUX,\n",
    "                       ds_flux_crd=DS_FLUX_CRD,\n",
    "                       ds_flux_wgt=DS_FLUX_WGT)\n",
    "    tb_flux(tbdata=data)"
   ]
  },
  {
   "cell_type": "code",
   "execution_count": 10,
   "metadata": {
    "collapsed": true
   },
   "outputs": [],
   "source": [
    "def band_map():\n",
    "    '''\n",
    "    Maps spectral bands in lblnew to spectral bands in clirad.\n",
    "    '''\n",
    "    lblnew2clirad = {'1': '1',\n",
    "            '2': '2',\n",
    "            '3a': '3',\n",
    "            '3b': '4',\n",
    "            '3c': '5',\n",
    "            '4': '6', \n",
    "            '5': '7',\n",
    "            '6': '8',\n",
    "            '7': '9', \n",
    "            '8': '10',\n",
    "            '9': '11'}\n",
    "    \n",
    "    clirad2lblnew = {clirad: lblnew \n",
    "                     for lblnew, clirad in lblnew2clirad.items()}\n",
    "    return clirad2lblnew\n",
    "\n",
    "\n",
    "def gasbands():\n",
    "    bmap = band_map()\n",
    "    gases = list(PARAM['molecule'].keys())\n",
    "    \n",
    "    bands = [bmap[str(b)] for b in PARAM['band']]\n",
    "    return list(itertools.product(gases, bands))\n",
    "\n",
    "\n",
    "def print_bestfit_params():\n",
    "    print('Best-fit values for each (gas, band)')\n",
    "    print('------------------------------------')\n",
    "    for gas, band in gasbands():\n",
    "        print('o {} band{}'.format(gas, band))\n",
    "        param = bestfits.kdist_params(molecule=gas, band=band)\n",
    "        for name, value in sorted(param.items()):\n",
    "            print(2 * ' ' + '{} = {}'.format(name, value))\n",
    "\n",
    "        \n",
    "def print_input_param():        \n",
    "    for name, value in PARAM.items():\n",
    "        print('{} = {}'.format(name, value))\n",
    "        \n",
    "        \n",
    "def print_lblnew_param():\n",
    "    for name, value in sorted(PARAM_LBLNEW.items()):\n",
    "        print('{} = {}'.format(name, value))\n"
   ]
  },
  {
   "cell_type": "code",
   "execution_count": 11,
   "metadata": {
    "collapsed": true,
    "scrolled": false
   },
   "outputs": [],
   "source": [
    "def show_html(s):\n",
    "    display.display(display.HTML(s))\n",
    "\n",
    "    \n",
    "def show_markdown(s):\n",
    "    display.display(display.Markdown(s))\n",
    "\n",
    "    \n",
    "def script():\n",
    "    \n",
    "    title = '### CLIRAD-LW'\n",
    "    s_input = 'Input Parameters'\n",
    "    s_lblnew_param = 'LBLNEW case compaired against'\n",
    "    s_bestfits = 'Best-fit Parameters'\n",
    "    s_plt_cooling = 'Cooling Rate Profiles'\n",
    "    s_tb_flux = 'Flux Comparison'\n",
    "    \n",
    "    # title\n",
    "    show_markdown('### CLIRAD-LW')\n",
    "    \n",
    "    # TOC\n",
    "    show_markdown('### Table of Contents')\n",
    "    show_html(climahtml.getHTML_hrefanchor(s_input))\n",
    "    show_html(climahtml.getHTML_hrefanchor(s_lblnew_param))\n",
    "    show_html(climahtml.getHTML_hrefanchor(s_plt_cooling))\n",
    "    show_html(climahtml.getHTML_hrefanchor(s_tb_flux))\n",
    "    show_html(climahtml.getHTML_hrefanchor(s_bestfits))\n",
    "    \n",
    "    # Input parameters\n",
    "    show_html(climahtml.getHTML_idanchor(s_input))\n",
    "    show_markdown(climahtml.getMarkdown_sectitle(s_input))\n",
    "    print_input_param()\n",
    "    \n",
    "    # LBLNEW parameters \n",
    "    show_html(climahtml.getHTML_idanchor(s_lblnew_param))\n",
    "    show_markdown(climahtml.getMarkdown_sectitle(s_lblnew_param))\n",
    "    print_lblnew_param()\n",
    "    \n",
    "    # Cooling rate profiles\n",
    "    show_html(climahtml.getHTML_idanchor(s_plt_cooling))\n",
    "    show_markdown(climahtml.getMarkdown_sectitle(s_plt_cooling))\n",
    "    script_plt_cooling()\n",
    "    \n",
    "    # Flux comparison\n",
    "    show_html(climahtml.getHTML_idanchor(s_tb_flux))\n",
    "    show_markdown(climahtml.getMarkdown_sectitle(s_tb_flux))\n",
    "    script_tb_flux()\n",
    "    \n",
    "    # Best-fit values\n",
    "    show_html(climahtml.getHTML_idanchor(s_bestfits))\n",
    "    show_markdown(climahtml.getMarkdown_sectitle(s_bestfits))\n",
    "    print_bestfit_params()\n",
    "   \n",
    "    "
   ]
  },
  {
   "cell_type": "code",
   "execution_count": 12,
   "metadata": {
    "collapsed": true,
    "scrolled": false
   },
   "outputs": [
    {
     "data": {
      "text/markdown": [
       "### CLIRAD-LW"
      ],
      "text/plain": [
       "<IPython.core.display.Markdown object>"
      ]
     },
     "metadata": {},
     "output_type": "display_data"
    },
    {
     "data": {
      "text/markdown": [
       "### Table of Contents"
      ],
      "text/plain": [
       "<IPython.core.display.Markdown object>"
      ]
     },
     "metadata": {},
     "output_type": "display_data"
    },
    {
     "data": {
      "text/html": [
       "<a href=\"#Input_Parameters\">Input Parameters</a>"
      ],
      "text/plain": [
       "<IPython.core.display.HTML object>"
      ]
     },
     "metadata": {},
     "output_type": "display_data"
    },
    {
     "data": {
      "text/html": [
       "<a href=\"#LBLNEW_case_compaired_against\">LBLNEW case compaired against</a>"
      ],
      "text/plain": [
       "<IPython.core.display.HTML object>"
      ]
     },
     "metadata": {},
     "output_type": "display_data"
    },
    {
     "data": {
      "text/html": [
       "<a href=\"#Cooling_Rate_Profiles\">Cooling Rate Profiles</a>"
      ],
      "text/plain": [
       "<IPython.core.display.HTML object>"
      ]
     },
     "metadata": {},
     "output_type": "display_data"
    },
    {
     "data": {
      "text/html": [
       "<a href=\"#Flux_Comparison\">Flux Comparison</a>"
      ],
      "text/plain": [
       "<IPython.core.display.HTML object>"
      ]
     },
     "metadata": {},
     "output_type": "display_data"
    },
    {
     "data": {
      "text/html": [
       "<a href=\"#Best-fit_Parameters\">Best-fit Parameters</a>"
      ],
      "text/plain": [
       "<IPython.core.display.HTML object>"
      ]
     },
     "metadata": {},
     "output_type": "display_data"
    },
    {
     "data": {
      "text/html": [
       "<a id=\"Input_Parameters\"></a>"
      ],
      "text/plain": [
       "<IPython.core.display.HTML object>"
      ]
     },
     "metadata": {},
     "output_type": "display_data"
    },
    {
     "data": {
      "text/markdown": [
       "# Input Parameters"
      ],
      "text/plain": [
       "<IPython.core.display.Markdown object>"
      ]
     },
     "metadata": {},
     "output_type": "display_data"
    },
    {
     "name": "stdout",
     "output_type": "stream",
     "text": [
      "atmpro = saw\n",
      "band = [3]\n",
      "commitnumber = 7fe1447_x\n",
      "molecule = {'co2': 0.0004}\n",
      "tsfc = 257\n"
     ]
    },
    {
     "data": {
      "text/html": [
       "<a id=\"LBLNEW_case_compaired_against\"></a>"
      ],
      "text/plain": [
       "<IPython.core.display.HTML object>"
      ]
     },
     "metadata": {},
     "output_type": "display_data"
    },
    {
     "data": {
      "text/markdown": [
       "# LBLNEW case compaired against"
      ],
      "text/plain": [
       "<IPython.core.display.Markdown object>"
      ]
     },
     "metadata": {},
     "output_type": "display_data"
    },
    {
     "name": "stdout",
     "output_type": "stream",
     "text": [
      "atmpro = saw\n",
      "band = 3a\n",
      "commitnumber = a06b618\n",
      "conc = 0.0004\n",
      "dv = 0.001\n",
      "klin = 6.375563e-24\n",
      "molecule = co2\n",
      "ng_adju = [0, 0, 0]\n",
      "ng_refs = [3, 2, 4]\n",
      "nv = 1000\n",
      "option_compute_btable = 0\n",
      "option_compute_ktable = 0\n",
      "option_wgt_flux = 1\n",
      "option_wgt_k = 1\n",
      "ref_pts = [(1, 250), (10, 250), (500, 250)]\n",
      "tsfc = 257\n",
      "vmax = 620\n",
      "vmin = 540\n",
      "w_diffuse = [(1.6, 1.6, 1.7), (1.75, 1.75), (1.55, 1.55, 1.6, 1.85)]\n",
      "wgt = [(0.7, 0.3, 0.7), (0.7, 0.6), (0.4, 0.5, 0.8, 0.95)]\n"
     ]
    },
    {
     "data": {
      "text/html": [
       "<a id=\"Cooling_Rate_Profiles\"></a>"
      ],
      "text/plain": [
       "<IPython.core.display.HTML object>"
      ]
     },
     "metadata": {},
     "output_type": "display_data"
    },
    {
     "data": {
      "text/markdown": [
       "# Cooling Rate Profiles"
      ],
      "text/plain": [
       "<IPython.core.display.Markdown object>"
      ]
     },
     "metadata": {},
     "output_type": "display_data"
    },
    {
     "data": {
      "text/html": [
       "\n",
       "<div class=\"bk-root\">\n",
       "    <div class=\"bk-plotdiv\" id=\"a6fc78e2-488b-4533-8a93-6dad511dbf47\"></div>\n",
       "</div>"
      ]
     },
     "metadata": {},
     "output_type": "display_data"
    },
    {
     "data": {
      "application/javascript": [
       "(function(root) {\n",
       "  function embed_document(root) {\n",
       "    \n",
       "  var docs_json = {\"53fdfc42-fe9e-488d-9a43-6936d476568f\":{\"roots\":{\"references\":[{\"attributes\":{\"callback\":null,\"column_names\":[\"x\",\"y\"],\"data\":{\"x\":{\"__ndarray__\":\"/kSBVkQ8xj/+fS1J8q3JP3GlM4UtW9E/Hir8e4Fl1j9eZqI3btfbP/mKBeEmz+A/hv7p30PU4z86RZ8LvuDmP0obAT4G3uk/eJrYZ6uf7D/eY3C4mP/uP8NrsEj2YvA/SlqQ1d/g8D+kmVFI2ZHwP/7dbhLSYe4/bHyWSC1x6j/RawDEKV7mP8rLoMGFv+I/yj46qZwt4D9v1yn02znePwbSrmnM3N8/cOJXmuj53T/FgUafRR3XP29sNnPGndE/EC9Nh7O0yz+akR8ENAfGP8Gt/UmMjsE/W+4emjCAvT+ush/KmDa7PxozvpIJ/7g/UkYLzTIqtT8+JIC1JEewP04/oM6Yv6o/I2WtcCg+qj9QqaLKeRWrPxQR5LiXJq0/U8ekWNxjrj80b/42gbmsP8qVSuyNgKk/N9zhmkBapj/4du6mZCejP2+Je+ZTw58/nRqyNvLCmD8vHEzBoIiQP1JT/f1/SXk/SCaBIUzCZT+kjUp2umSFP3Mq1j6RKpU/pK5Qfl5cnT8y+2ro+CuiP84dN/ySTaU/Ukw5zWExqD/h4Ozvf+yqP/7SzWXYh60/B6OMKZADsD8g9RHxLDWxPwiyj2o8TrI/QP299pFOsz8i4t6kEy20Pz6YhXNl5LQ/I9IO87ZytT8cM9mng961P/hyH/51LrY/uP34yhBvtj+RNnGvjq22P2kz2O3N+rY/f+c9peBltz/T9/cpsN+3P2Oohp1VNbg/DAp3eaDhtz9unQ9LAIi2P8Xh7eNHZbQ/vG7a7oz+sT/lwG/dgS2vP7h7FqIM9Kk/\",\"dtype\":\"float64\",\"shape\":[75]},\"y\":{\"__ndarray__\":\"GhExyth1ND/Sv8nbtpRIP2vylNV0PVE/aTum7souWD/At0SJ8fVgPw3Iuahxymc/MSNhhJWvcD/bTfBN02d3P2zb5nxnaoA/CD5h5MAGhz8NmeH1TyaQP+zrCsc9p5Y/LbKd76fGnz/bLW5ISEmmPww9YvTcQq8/JV2OstnstT8Er5Y7M8G+P0c+r3jqkcU/5h99k6ZBzj88bCIzFzjVP4enV8oyxN0//yH99nXg5D8qOpLLf0jtP5kqGJXUifQ/c9cS8kHP/D+/DpwzojQEQIEmwoanVwxA4lgXt9HgE0BSSZ2AJuIbQAMJih9jjiNA5q4l5INuK0AwTKYKRj0zQNv5fmq8/DpAaCJseHrtQkB/+zpwzoxKQM3MzMzMeFJAZmZmZmZqWEAAAAAAAFxeQM3MzMzMJmJAmpmZmZkfZUBmZmZmZhhoQDMzMzMzEWtAAAAAAAAKbkBmZmZmZoFwQM3MzMzM/XFAMzMzMzN6c0CamZmZmfZ0QAAAAAAAc3ZAZmZmZmbvd0DNzMzMzGt5QDMzMzMz6HpAmpmZmZlkfEAAAAAAAOF9QGZmZmZmXX9AZmZmZuZsgECamZmZGSuBQM3MzMxM6YFAAAAAAICngkAzMzMzs2WDQGZmZmbmI4RAmpmZmRnihEDNzMzMTKCFQAAAAACAXoZAMzMzM7Mch0BmZmZm5tqHQJqZmZkZmYhAzczMzExXiUAAAAAAgBWKQDMzMzOz04pAZmZmZuaRi0CamZmZGVCMQM3MzMxMDo1AAAAAAIDMjUAzMzMzs4qOQGZmZmbmSI9A\",\"dtype\":\"float64\",\"shape\":[75]}}},\"id\":\"ea67797e-1ae3-4a94-bda4-e4a702bb4c42\",\"type\":\"ColumnDataSource\"},{\"attributes\":{\"line_color\":\"#4daf4a\",\"line_width\":1.5,\"x\":{\"field\":\"x\"},\"y\":{\"field\":\"y\"}},\"id\":\"ade91f6f-7935-4ce0-804e-2efe292fed7d\",\"type\":\"Line\"},{\"attributes\":{\"fill_alpha\":{\"value\":0.7},\"fill_color\":{\"value\":\"#4daf4a\"},\"line_alpha\":{\"value\":0.7},\"line_color\":{\"value\":\"#4daf4a\"},\"x\":{\"field\":\"x\"},\"y\":{\"field\":\"y\"}},\"id\":\"b3cce1c6-b3cb-4c6c-b250-5ff38254de70\",\"type\":\"Circle\"},{\"attributes\":{\"data_source\":{\"id\":\"87066aff-c4ba-4993-b44a-2368b9aa1b7a\",\"type\":\"ColumnDataSource\"},\"glyph\":{\"id\":\"93b6aa33-46e5-4d16-93d1-34fa7fce85fc\",\"type\":\"Line\"},\"hover_glyph\":null,\"muted_glyph\":null,\"nonselection_glyph\":{\"id\":\"1b82b96f-6f22-4ffe-8cfc-a150e72ef38d\",\"type\":\"Line\"},\"selection_glyph\":null,\"view\":{\"id\":\"917fe8c5-7f9e-4835-85ba-0bab85f58dbe\",\"type\":\"CDSView\"}},\"id\":\"d9ab71bb-afb2-4507-9bc4-9822175acc67\",\"type\":\"GlyphRenderer\"},{\"attributes\":{\"data_source\":{\"id\":\"e1a3b511-e10c-4578-a3d5-97b169ce4647\",\"type\":\"ColumnDataSource\"},\"glyph\":{\"id\":\"ade91f6f-7935-4ce0-804e-2efe292fed7d\",\"type\":\"Line\"},\"hover_glyph\":null,\"muted_glyph\":null,\"nonselection_glyph\":{\"id\":\"1ef2b114-afb0-4d49-9822-ed94af890973\",\"type\":\"Line\"},\"selection_glyph\":null,\"view\":{\"id\":\"a01b6183-d6b8-4024-9e4c-01dc1e0c54a2\",\"type\":\"CDSView\"}},\"id\":\"003a56c6-c70a-459b-b8ed-de05e6dc081a\",\"type\":\"GlyphRenderer\"},{\"attributes\":{\"callback\":null,\"column_names\":[\"x\",\"y\"],\"data\":{\"x\":{\"__ndarray__\":\"pBQZwtYRyD+8S1YDnHfLPzurw9nGwtI/r90LBrZO2D952q91iEPeP1AlHN21QuI/RC8nkRJ15T+6K2Cn/ZvoPwWVyHAClOs/8Ygjcm4x7j9hK7LnfCLwP8+CUN7H0fA/uoA8YMMY8T/YgXNGlJbwPzUjKCPTJu4/N0b81MJW6j9FetXzA9HmP9HEIiPz6uM/r2soc/ve4T/oxssF9OPgP6VZTZX3auE/oHF+Fo1t3z+cPJ/g5v3WP0IWWLbF69A/wudekpBpyj8DnFqNV+bEPyVh193ZKsA/4xl2ECK2uT8s23XZKYK2P9QMXRQz/rM/4zU9lcTzsD8jFn16dj2rP4ExvSWCNqg/4inc2fTzqD8KnPA7GyypP8++sARr/6g/s3e7aAyWqD9/111ch8OmP8dubGTBPqQ/Rqj2QjEUoj+ttI+MCtmfP2WYuvuBSps/+hAXKkYwlj+1OrrDhqSPPyyyVBnxXX0/YIedqRhucj/fCqVSk7CIP2Al3Z45TpY/m5DWGHRCnj+9ANBoeKGiP6PLm8O12qU/slGHKVLgqD+lLqwqGryrPwA3IzSWca4/TcQH6FGAsD/byEzUmLGxP6QKopVLyLI/Elccboq+sz/S4G/hZI60P6evSpZRNLU/FAvX/imwtT9tKwfENQi2P2PWapOzRbY/k1KEX+B1tj/ix0K73ae2P9bmjQBf67Y/n0/suhpNtz8YR7fufsa3Px9HxKvkF7g/M7GgAO+8tz9W2RQbNVe2P4qIRJysI7Q/yvYX/UWpsT/5+OzPMV+uP4l+crauCKk/\",\"dtype\":\"float64\",\"shape\":[75]},\"y\":{\"__ndarray__\":\"GhExyth1ND/Sv8nbtpRIP2vylNV0PVE/aTum7souWD/At0SJ8fVgPw3Iuahxymc/MSNhhJWvcD/bTfBN02d3P2zb5nxnaoA/CD5h5MAGhz8NmeH1TyaQP+zrCsc9p5Y/LbKd76fGnz/bLW5ISEmmPww9YvTcQq8/JV2OstnstT8Er5Y7M8G+P0c+r3jqkcU/5h99k6ZBzj88bCIzFzjVP4enV8oyxN0//yH99nXg5D8qOpLLf0jtP5kqGJXUifQ/c9cS8kHP/D+/DpwzojQEQIEmwoanVwxA4lgXt9HgE0BSSZ2AJuIbQAMJih9jjiNA5q4l5INuK0AwTKYKRj0zQNv5fmq8/DpAaCJseHrtQkB/+zpwzoxKQM3MzMzMeFJAZmZmZmZqWEAAAAAAAFxeQM3MzMzMJmJAmpmZmZkfZUBmZmZmZhhoQDMzMzMzEWtAAAAAAAAKbkBmZmZmZoFwQM3MzMzM/XFAMzMzMzN6c0CamZmZmfZ0QAAAAAAAc3ZAZmZmZmbvd0DNzMzMzGt5QDMzMzMz6HpAmpmZmZlkfEAAAAAAAOF9QGZmZmZmXX9AZmZmZuZsgECamZmZGSuBQM3MzMxM6YFAAAAAAICngkAzMzMzs2WDQGZmZmbmI4RAmpmZmRnihEDNzMzMTKCFQAAAAACAXoZAMzMzM7Mch0BmZmZm5tqHQJqZmZkZmYhAzczMzExXiUAAAAAAgBWKQDMzMzOz04pAZmZmZuaRi0CamZmZGVCMQM3MzMxMDo1AAAAAAIDMjUAzMzMzs4qOQGZmZmbmSI9A\",\"dtype\":\"float64\",\"shape\":[75]}}},\"id\":\"19b09079-9f44-4137-8546-8d0ac9ca6a8e\",\"type\":\"ColumnDataSource\"},{\"attributes\":{\"source\":{\"id\":\"2b980d20-7259-45ea-92dc-ba49e5826dff\",\"type\":\"ColumnDataSource\"}},\"id\":\"4c67170c-a822-4f20-ab94-9d569aae9fdf\",\"type\":\"CDSView\"},{\"attributes\":{\"callback\":null,\"column_names\":[\"x\",\"y\"],\"data\":{\"x\":{\"__ndarray__\":\"fvnH7yvevD9zYjD7TKjBP5Kchoe0Nsk/cHPPX43Y0D9Ud8DQfn/VP8C+jBgsi9o/5ewhCvsQ4D9wavNBxxXjPyIA9tkaNOY/hQKd5nBP6T+UAqDExkDsPzAC+OH/0u4/wjV39L9c8D+0vLxKiIPwP5BGDb/++O4/33Oa5Ms06z8Hx3YILbXmPxQs5edMW+I/3YGVnkRf3j+pnaOGHePbPywydMuS6d0//9+/Fkfn3D+eND/EJ9nWP3JM3EuWqtE/S7A4nPnVyz98+OjDaffFPy+exXujkME/YjKP27PXvT+Jjg1yUQy8P0NURPqrz7k/oUUFOtKatT/iF1xIxyKwP/SZYPa6Xqk/tdP6Ttjtpz/479u/mzapP59UhGaaWqw/jtVQ5PXSrT93zrHkc+yrPzrfNvD2Yqg/ONMpNLURpT8zp/bivuehP67J9+X8r50/tftnY6sflz9+JYihcp+OPxP3WLGxL3Y/04blBc/6YD/2aFFvq/iDP5fC3B4fVZQ/VXFzwjWLnD9aE4KK58KhPwYwwJnz56Q/w9VXEDDepz86WSPoU7qqP1bLPSc0fq0/Mbw+5SsQsD8rukTh8lmxP2qKw0NflLI/lMwXn/W1sz+KtVPOcrS0PxpDAyh7iLU/yMnMHssvtj/4zWxzPbO2P0Ak9f48Frc/wcz4cClktz/5GT/WUaq3PyOlVQRq97c/hlDTnvpWuD/ZOozXKce4P8XuVCNoCrk/kuGhvTSkuD94Xr2Ztzu3P5PnoYbUDLU/5r1VyneYsj9vgwqpAyKwP+ZKW2Gc7ao/\",\"dtype\":\"float64\",\"shape\":[75]},\"y\":{\"__ndarray__\":\"S/O/Q+51ND/Sv8nbtpRIP2vylNV0PVE/aTum7souWD/At0SJ8fVgPw3Iuahxymc/MSNhhJWvcD/bTfBN02d3P2zb5nxnaoA/CD5h5MAGhz8NmeH1TyaQP+zrCsc9p5Y/LbKd76fGnz/bLW5ISEmmPww9YvTcQq8/JV2OstnstT8Er5Y7M8G+P0c+r3jqkcU/5h99k6ZBzj88bCIzFzjVP4enV8oyxN0//yH99nXg5D8qOpLLf0jtP5kqGJXUifQ/c9cS8kHP/D+/DpwzojQEQIEmwoanVwxA4lgXt9HgE0BSSZ2AJuIbQAMJih9jjiNA5q4l5INuK0AwTKYKRj0zQNv5fmq8/DpAaCJseHrtQkB/+zpwzoxKQM3MzMzMeFJAZmZmZmZqWEAAAAAAAFxeQM3MzMzMJmJAmpmZmZkfZUBmZmZmZhhoQDMzMzMzEWtAAAAAAAAKbkBmZmZmZoFwQM3MzMzM/XFAMzMzMzN6c0CamZmZmfZ0QAAAAAAAc3ZAZmZmZmbvd0DNzMzMzGt5QDMzMzMz6HpAmpmZmZlkfEAAAAAAAOF9QGZmZmZmXX9AZmZmZuZsgECamZmZGSuBQM3MzMxM6YFAAAAAAICngkAzMzMzs2WDQGZmZmbmI4RAmpmZmRnihEDNzMzMTKCFQAAAAACAXoZAMzMzM7Mch0BmZmZm5tqHQJqZmZkZmYhAzczMzExXiUAAAAAAgBWKQDMzMzOz04pAZmZmZuaRi0CamZmZGVCMQM3MzMxMDo1AAAAAAIDMjUAzMzMzs4qOQGZmZmbmSI9A\",\"dtype\":\"float64\",\"shape\":[75]}}},\"id\":\"87066aff-c4ba-4993-b44a-2368b9aa1b7a\",\"type\":\"ColumnDataSource\"},{\"attributes\":{\"callback\":null,\"column_names\":[\"x\",\"y\"],\"data\":{\"x\":{\"__ndarray__\":\"pBQZwtYRyD+8S1YDnHfLPzurw9nGwtI/r90LBrZO2D952q91iEPeP1AlHN21QuI/RC8nkRJ15T+6K2Cn/ZvoPwWVyHAClOs/8Ygjcm4x7j9hK7LnfCLwP8+CUN7H0fA/uoA8YMMY8T/YgXNGlJbwPzUjKCPTJu4/N0b81MJW6j9FetXzA9HmP9HEIiPz6uM/r2soc/ve4T/oxssF9OPgP6VZTZX3auE/oHF+Fo1t3z+cPJ/g5v3WP0IWWLbF69A/wudekpBpyj8DnFqNV+bEPyVh193ZKsA/4xl2ECK2uT8s23XZKYK2P9QMXRQz/rM/4zU9lcTzsD8jFn16dj2rP4ExvSWCNqg/4inc2fTzqD8KnPA7GyypP8++sARr/6g/s3e7aAyWqD9/111ch8OmP8dubGTBPqQ/Rqj2QjEUoj+ttI+MCtmfP2WYuvuBSps/+hAXKkYwlj+1OrrDhqSPPyyyVBnxXX0/YIedqRhucj/fCqVSk7CIP2Al3Z45TpY/m5DWGHRCnj+9ANBoeKGiP6PLm8O12qU/slGHKVLgqD+lLqwqGryrPwA3IzSWca4/TcQH6FGAsD/byEzUmLGxP6QKopVLyLI/Elccboq+sz/S4G/hZI60P6evSpZRNLU/FAvX/imwtT9tKwfENQi2P2PWapOzRbY/k1KEX+B1tj/ix0K73ae2P9bmjQBf67Y/n0/suhpNtz8YR7fufsa3Px9HxKvkF7g/M7GgAO+8tz9W2RQbNVe2P4qIRJysI7Q/yvYX/UWpsT/5+OzPMV+uP4l+crauCKk/\",\"dtype\":\"float64\",\"shape\":[75]},\"y\":{\"__ndarray__\":\"GhExyth1ND/Sv8nbtpRIP2vylNV0PVE/aTum7souWD/At0SJ8fVgPw3Iuahxymc/MSNhhJWvcD/bTfBN02d3P2zb5nxnaoA/CD5h5MAGhz8NmeH1TyaQP+zrCsc9p5Y/LbKd76fGnz/bLW5ISEmmPww9YvTcQq8/JV2OstnstT8Er5Y7M8G+P0c+r3jqkcU/5h99k6ZBzj88bCIzFzjVP4enV8oyxN0//yH99nXg5D8qOpLLf0jtP5kqGJXUifQ/c9cS8kHP/D+/DpwzojQEQIEmwoanVwxA4lgXt9HgE0BSSZ2AJuIbQAMJih9jjiNA5q4l5INuK0AwTKYKRj0zQNv5fmq8/DpAaCJseHrtQkB/+zpwzoxKQM3MzMzMeFJAZmZmZmZqWEAAAAAAAFxeQM3MzMzMJmJAmpmZmZkfZUBmZmZmZhhoQDMzMzMzEWtAAAAAAAAKbkBmZmZmZoFwQM3MzMzM/XFAMzMzMzN6c0CamZmZmfZ0QAAAAAAAc3ZAZmZmZmbvd0DNzMzMzGt5QDMzMzMz6HpAmpmZmZlkfEAAAAAAAOF9QGZmZmZmXX9AZmZmZuZsgECamZmZGSuBQM3MzMxM6YFAAAAAAICngkAzMzMzs2WDQGZmZmbmI4RAmpmZmRnihEDNzMzMTKCFQAAAAACAXoZAMzMzM7Mch0BmZmZm5tqHQJqZmZkZmYhAzczMzExXiUAAAAAAgBWKQDMzMzOz04pAZmZmZuaRi0CamZmZGVCMQM3MzMxMDo1AAAAAAIDMjUAzMzMzs4qOQGZmZmbmSI9A\",\"dtype\":\"float64\",\"shape\":[75]}}},\"id\":\"4f259712-4a86-4e5e-8815-f3b3a14115ce\",\"type\":\"ColumnDataSource\"},{\"attributes\":{\"callback\":null,\"end\":0.01,\"start\":1020},\"id\":\"388367a3-5255-4467-88da-3cd700e0a14b\",\"type\":\"Range1d\"},{\"attributes\":{\"data_source\":{\"id\":\"4f259712-4a86-4e5e-8815-f3b3a14115ce\",\"type\":\"ColumnDataSource\"},\"glyph\":{\"id\":\"b3cce1c6-b3cb-4c6c-b250-5ff38254de70\",\"type\":\"Circle\"},\"hover_glyph\":null,\"muted_glyph\":null,\"nonselection_glyph\":{\"id\":\"aa07eff4-761a-4fdf-bb15-4b035c16533b\",\"type\":\"Circle\"},\"selection_glyph\":null,\"view\":{\"id\":\"2827084e-341b-4b65-8a41-8430f79a5616\",\"type\":\"CDSView\"}},\"id\":\"9eb7f75f-dba1-4a90-9ade-bc2047a26f24\",\"type\":\"GlyphRenderer\"},{\"attributes\":{\"callback\":null,\"column_names\":[\"x\",\"y\"],\"data\":{\"x\":{\"__ndarray__\":\"pBQZwtYRyD+8S1YDnHfLPzurw9nGwtI/r90LBrZO2D952q91iEPeP1AlHN21QuI/RC8nkRJ15T+6K2Cn/ZvoPwWVyHAClOs/8Ygjcm4x7j9hK7LnfCLwP8+CUN7H0fA/uoA8YMMY8T/YgXNGlJbwPzUjKCPTJu4/N0b81MJW6j9FetXzA9HmP9HEIiPz6uM/r2soc/ve4T/oxssF9OPgP6VZTZX3auE/oHF+Fo1t3z+cPJ/g5v3WP0IWWLbF69A/wudekpBpyj8DnFqNV+bEPyVh193ZKsA/4xl2ECK2uT8s23XZKYK2P9QMXRQz/rM/4zU9lcTzsD8jFn16dj2rP4ExvSWCNqg/4inc2fTzqD8KnPA7GyypP8++sARr/6g/s3e7aAyWqD9/111ch8OmP8dubGTBPqQ/Rqj2QjEUoj+ttI+MCtmfP2WYuvuBSps/+hAXKkYwlj+1OrrDhqSPPyyyVBnxXX0/YIedqRhucj/fCqVSk7CIP2Al3Z45TpY/m5DWGHRCnj+9ANBoeKGiP6PLm8O12qU/slGHKVLgqD+lLqwqGryrPwA3IzSWca4/TcQH6FGAsD/byEzUmLGxP6QKopVLyLI/Elccboq+sz/S4G/hZI60P6evSpZRNLU/FAvX/imwtT9tKwfENQi2P2PWapOzRbY/k1KEX+B1tj/ix0K73ae2P9bmjQBf67Y/n0/suhpNtz8YR7fufsa3Px9HxKvkF7g/M7GgAO+8tz9W2RQbNVe2P4qIRJysI7Q/yvYX/UWpsT/5+OzPMV+uP4l+crauCKk/\",\"dtype\":\"float64\",\"shape\":[75]},\"y\":{\"__ndarray__\":\"GhExyth1ND/Sv8nbtpRIP2vylNV0PVE/aTum7souWD/At0SJ8fVgPw3Iuahxymc/MSNhhJWvcD/bTfBN02d3P2zb5nxnaoA/CD5h5MAGhz8NmeH1TyaQP+zrCsc9p5Y/LbKd76fGnz/bLW5ISEmmPww9YvTcQq8/JV2OstnstT8Er5Y7M8G+P0c+r3jqkcU/5h99k6ZBzj88bCIzFzjVP4enV8oyxN0//yH99nXg5D8qOpLLf0jtP5kqGJXUifQ/c9cS8kHP/D+/DpwzojQEQIEmwoanVwxA4lgXt9HgE0BSSZ2AJuIbQAMJih9jjiNA5q4l5INuK0AwTKYKRj0zQNv5fmq8/DpAaCJseHrtQkB/+zpwzoxKQM3MzMzMeFJAZmZmZmZqWEAAAAAAAFxeQM3MzMzMJmJAmpmZmZkfZUBmZmZmZhhoQDMzMzMzEWtAAAAAAAAKbkBmZmZmZoFwQM3MzMzM/XFAMzMzMzN6c0CamZmZmfZ0QAAAAAAAc3ZAZmZmZmbvd0DNzMzMzGt5QDMzMzMz6HpAmpmZmZlkfEAAAAAAAOF9QGZmZmZmXX9AZmZmZuZsgECamZmZGSuBQM3MzMxM6YFAAAAAAICngkAzMzMzs2WDQGZmZmbmI4RAmpmZmRnihEDNzMzMTKCFQAAAAACAXoZAMzMzM7Mch0BmZmZm5tqHQJqZmZkZmYhAzczMzExXiUAAAAAAgBWKQDMzMzOz04pAZmZmZuaRi0CamZmZGVCMQM3MzMxMDo1AAAAAAIDMjUAzMzMzs4qOQGZmZmbmSI9A\",\"dtype\":\"float64\",\"shape\":[75]}}},\"id\":\"df8dd660-2bea-49f4-b4c5-57298d6051bc\",\"type\":\"ColumnDataSource\"},{\"attributes\":{},\"id\":\"af45bacb-f862-4e7b-8708-2af98b1d3774\",\"type\":\"PanTool\"},{\"attributes\":{\"callback\":null,\"column_names\":[\"x\",\"y\"],\"data\":{\"x\":{\"__ndarray__\":\"/kSBVkQ8xj/+fS1J8q3JP3GlM4UtW9E/Hir8e4Fl1j9eZqI3btfbP/mKBeEmz+A/hv7p30PU4z86RZ8LvuDmP0obAT4G3uk/eJrYZ6uf7D/eY3C4mP/uP8NrsEj2YvA/SlqQ1d/g8D+kmVFI2ZHwP/7dbhLSYe4/bHyWSC1x6j/RawDEKV7mP8rLoMGFv+I/yj46qZwt4D9v1yn02znePwbSrmnM3N8/cOJXmuj53T/FgUafRR3XP29sNnPGndE/EC9Nh7O0yz+akR8ENAfGP8Gt/UmMjsE/W+4emjCAvT+ush/KmDa7PxozvpIJ/7g/UkYLzTIqtT8+JIC1JEewP04/oM6Yv6o/I2WtcCg+qj9QqaLKeRWrPxQR5LiXJq0/U8ekWNxjrj80b/42gbmsP8qVSuyNgKk/N9zhmkBapj/4du6mZCejP2+Je+ZTw58/nRqyNvLCmD8vHEzBoIiQP1JT/f1/SXk/SCaBIUzCZT+kjUp2umSFP3Mq1j6RKpU/pK5Qfl5cnT8y+2ro+CuiP84dN/ySTaU/Ukw5zWExqD/h4Ozvf+yqP/7SzWXYh60/B6OMKZADsD8g9RHxLDWxPwiyj2o8TrI/QP299pFOsz8i4t6kEy20Pz6YhXNl5LQ/I9IO87ZytT8cM9mng961P/hyH/51LrY/uP34yhBvtj+RNnGvjq22P2kz2O3N+rY/f+c9peBltz/T9/cpsN+3P2Oohp1VNbg/DAp3eaDhtz9unQ9LAIi2P8Xh7eNHZbQ/vG7a7oz+sT/lwG/dgS2vP7h7FqIM9Kk/\",\"dtype\":\"float64\",\"shape\":[75]},\"y\":{\"__ndarray__\":\"GhExyth1ND/Sv8nbtpRIP2vylNV0PVE/aTum7souWD/At0SJ8fVgPw3Iuahxymc/MSNhhJWvcD/bTfBN02d3P2zb5nxnaoA/CD5h5MAGhz8NmeH1TyaQP+zrCsc9p5Y/LbKd76fGnz/bLW5ISEmmPww9YvTcQq8/JV2OstnstT8Er5Y7M8G+P0c+r3jqkcU/5h99k6ZBzj88bCIzFzjVP4enV8oyxN0//yH99nXg5D8qOpLLf0jtP5kqGJXUifQ/c9cS8kHP/D+/DpwzojQEQIEmwoanVwxA4lgXt9HgE0BSSZ2AJuIbQAMJih9jjiNA5q4l5INuK0AwTKYKRj0zQNv5fmq8/DpAaCJseHrtQkB/+zpwzoxKQM3MzMzMeFJAZmZmZmZqWEAAAAAAAFxeQM3MzMzMJmJAmpmZmZkfZUBmZmZmZhhoQDMzMzMzEWtAAAAAAAAKbkBmZmZmZoFwQM3MzMzM/XFAMzMzMzN6c0CamZmZmfZ0QAAAAAAAc3ZAZmZmZmbvd0DNzMzMzGt5QDMzMzMz6HpAmpmZmZlkfEAAAAAAAOF9QGZmZmZmXX9AZmZmZuZsgECamZmZGSuBQM3MzMxM6YFAAAAAAICngkAzMzMzs2WDQGZmZmbmI4RAmpmZmRnihEDNzMzMTKCFQAAAAACAXoZAMzMzM7Mch0BmZmZm5tqHQJqZmZkZmYhAzczMzExXiUAAAAAAgBWKQDMzMzOz04pAZmZmZuaRi0CamZmZGVCMQM3MzMxMDo1AAAAAAIDMjUAzMzMzs4qOQGZmZmbmSI9A\",\"dtype\":\"float64\",\"shape\":[75]}}},\"id\":\"77ee42a3-d2da-4bfb-9082-d9d1878603a1\",\"type\":\"ColumnDataSource\"},{\"attributes\":{},\"id\":\"160c85cf-1678-48e1-9066-c1a608971c28\",\"type\":\"HelpTool\"},{\"attributes\":{\"source\":{\"id\":\"19b09079-9f44-4137-8546-8d0ac9ca6a8e\",\"type\":\"ColumnDataSource\"}},\"id\":\"f0edce06-4b05-48f9-92c6-a1e34fabdf2e\",\"type\":\"CDSView\"},{\"attributes\":{\"below\":[{\"id\":\"2ec8ea78-a3a7-4bad-b28d-1648c5a9aab7\",\"type\":\"LinearAxis\"}],\"left\":[{\"id\":\"322723c1-9453-4594-8742-632a74f45245\",\"type\":\"LinearAxis\"}],\"plot_height\":500,\"plot_width\":400,\"renderers\":[{\"id\":\"2ec8ea78-a3a7-4bad-b28d-1648c5a9aab7\",\"type\":\"LinearAxis\"},{\"id\":\"671d5a36-454c-477f-9e1a-61c79ce8bbba\",\"type\":\"Grid\"},{\"id\":\"322723c1-9453-4594-8742-632a74f45245\",\"type\":\"LinearAxis\"},{\"id\":\"b4fba3fc-3791-4124-a094-a2254cca623f\",\"type\":\"Grid\"},{\"id\":\"1458dd21-b45a-434e-a738-39c0ce076545\",\"type\":\"BoxAnnotation\"},{\"id\":\"d9ab71bb-afb2-4507-9bc4-9822175acc67\",\"type\":\"GlyphRenderer\"},{\"id\":\"6f3ba3db-f207-4d31-86a6-87407de52cc0\",\"type\":\"GlyphRenderer\"},{\"id\":\"003a56c6-c70a-459b-b8ed-de05e6dc081a\",\"type\":\"GlyphRenderer\"},{\"id\":\"44839a5a-6479-4b5b-af9f-73d470577243\",\"type\":\"GlyphRenderer\"},{\"id\":\"d16e1670-5818-4fbd-93aa-69ede52b623c\",\"type\":\"GlyphRenderer\"}],\"title\":{\"id\":\"2d1664d1-3b2c-4df1-be87-958ba6bc6ce9\",\"type\":\"Title\"},\"toolbar\":{\"id\":\"8ca1ebe2-cefd-4bad-9509-e793e78c9699\",\"type\":\"Toolbar\"},\"toolbar_location\":null,\"x_range\":{\"id\":\"5d9f35b5-35e8-4e15-88c6-3fe8acd7ae55\",\"type\":\"Range1d\"},\"x_scale\":{\"id\":\"4cc88011-9ba5-4e7f-93f2-c234c1aa863f\",\"type\":\"LinearScale\"},\"y_range\":{\"id\":\"388367a3-5255-4467-88da-3cd700e0a14b\",\"type\":\"Range1d\"},\"y_scale\":{\"id\":\"85d70d65-f105-440e-a9d9-7f50b550dc85\",\"type\":\"LinearScale\"}},\"id\":\"1c43fa05-5228-4840-9d4f-8a88b0b3dea8\",\"subtype\":\"Figure\",\"type\":\"Plot\"},{\"attributes\":{\"active_drag\":\"auto\",\"active_inspect\":\"auto\",\"active_scroll\":\"auto\",\"active_tap\":\"auto\",\"tools\":[{\"id\":\"af45bacb-f862-4e7b-8708-2af98b1d3774\",\"type\":\"PanTool\"},{\"id\":\"ae326cd2-76da-4665-af0d-40a8eed22769\",\"type\":\"WheelZoomTool\"},{\"id\":\"1f50bf36-8716-4dfa-bcf7-2b9242a5f9ba\",\"type\":\"BoxZoomTool\"},{\"id\":\"ac311d0a-ca54-469a-80f4-f2a2ae6ed8b3\",\"type\":\"SaveTool\"},{\"id\":\"32a8bb52-b7ea-44ad-ba15-6c73653d49a5\",\"type\":\"ResetTool\"},{\"id\":\"160c85cf-1678-48e1-9066-c1a608971c28\",\"type\":\"HelpTool\"}]},\"id\":\"8ca1ebe2-cefd-4bad-9509-e793e78c9699\",\"type\":\"Toolbar\"},{\"attributes\":{\"fill_alpha\":{\"value\":0.1},\"fill_color\":{\"value\":\"#1f77b4\"},\"line_alpha\":{\"value\":0.1},\"line_color\":{\"value\":\"#1f77b4\"},\"x\":{\"field\":\"x\"},\"y\":{\"field\":\"y\"}},\"id\":\"aa07eff4-761a-4fdf-bb15-4b035c16533b\",\"type\":\"Circle\"},{\"attributes\":{},\"id\":\"ac311d0a-ca54-469a-80f4-f2a2ae6ed8b3\",\"type\":\"SaveTool\"},{\"attributes\":{\"overlay\":{\"id\":\"1458dd21-b45a-434e-a738-39c0ce076545\",\"type\":\"BoxAnnotation\"}},\"id\":\"1f50bf36-8716-4dfa-bcf7-2b9242a5f9ba\",\"type\":\"BoxZoomTool\"},{\"attributes\":{},\"id\":\"96e306af-5769-4ad9-b907-1253a8e850fb\",\"type\":\"BasicTickFormatter\"},{\"attributes\":{},\"id\":\"32a8bb52-b7ea-44ad-ba15-6c73653d49a5\",\"type\":\"ResetTool\"},{\"attributes\":{\"plot\":null,\"text\":\"Linear pressure scale\"},\"id\":\"2d1664d1-3b2c-4df1-be87-958ba6bc6ce9\",\"type\":\"Title\"},{\"attributes\":{\"source\":{\"id\":\"4f259712-4a86-4e5e-8815-f3b3a14115ce\",\"type\":\"ColumnDataSource\"}},\"id\":\"2827084e-341b-4b65-8a41-8430f79a5616\",\"type\":\"CDSView\"},{\"attributes\":{\"children\":[{\"id\":\"d1d0c3d8-7d34-403c-843f-6e6c48f985c6\",\"type\":\"Row\"}]},\"id\":\"08ab7f59-e4d4-4284-8f85-bcd6c3a49616\",\"type\":\"Column\"},{\"attributes\":{},\"id\":\"ae326cd2-76da-4665-af0d-40a8eed22769\",\"type\":\"WheelZoomTool\"},{\"attributes\":{\"line_color\":\"#4daf4a\",\"line_width\":1.5,\"x\":{\"field\":\"x\"},\"y\":{\"field\":\"y\"}},\"id\":\"731758e0-5c90-4d48-bcd4-16316c36acdb\",\"type\":\"Line\"},{\"attributes\":{},\"id\":\"4cc88011-9ba5-4e7f-93f2-c234c1aa863f\",\"type\":\"LinearScale\"},{\"attributes\":{\"line_alpha\":0.1,\"line_color\":\"#1f77b4\",\"line_width\":1.5,\"x\":{\"field\":\"x\"},\"y\":{\"field\":\"y\"}},\"id\":\"75714509-b0dd-4d87-a06c-182950ad337c\",\"type\":\"Line\"},{\"attributes\":{\"callback\":null,\"end\":1.07892014316,\"start\":0.02072694084},\"id\":\"8243fa19-ba88-4dde-bb75-4d3da20600a9\",\"type\":\"Range1d\"},{\"attributes\":{\"data_source\":{\"id\":\"df8dd660-2bea-49f4-b4c5-57298d6051bc\",\"type\":\"ColumnDataSource\"},\"glyph\":{\"id\":\"731758e0-5c90-4d48-bcd4-16316c36acdb\",\"type\":\"Line\"},\"hover_glyph\":null,\"muted_glyph\":null,\"nonselection_glyph\":{\"id\":\"75714509-b0dd-4d87-a06c-182950ad337c\",\"type\":\"Line\"},\"selection_glyph\":null,\"view\":{\"id\":\"d824c6c4-e154-47a3-9184-6821a3b36a9b\",\"type\":\"CDSView\"}},\"id\":\"50598199-3ce8-49a9-a689-378bae5b5e01\",\"type\":\"GlyphRenderer\"},{\"attributes\":{\"num_minor_ticks\":10},\"id\":\"435f9917-26a9-4573-8415-bf6c48092933\",\"type\":\"LogTicker\"},{\"attributes\":{\"source\":{\"id\":\"df8dd660-2bea-49f4-b4c5-57298d6051bc\",\"type\":\"ColumnDataSource\"}},\"id\":\"d824c6c4-e154-47a3-9184-6821a3b36a9b\",\"type\":\"CDSView\"},{\"attributes\":{},\"id\":\"85d70d65-f105-440e-a9d9-7f50b550dc85\",\"type\":\"LinearScale\"},{\"attributes\":{\"fill_alpha\":{\"value\":0.7},\"fill_color\":{\"value\":\"#4daf4a\"},\"line_alpha\":{\"value\":0.7},\"line_color\":{\"value\":\"#4daf4a\"},\"x\":{\"field\":\"x\"},\"y\":{\"field\":\"y\"}},\"id\":\"4ec99405-c8d1-4b48-8284-bd0b512b4c8d\",\"type\":\"Circle\"},{\"attributes\":{\"fill_alpha\":{\"value\":0.7},\"fill_color\":{\"value\":\"#984ea3\"},\"line_alpha\":{\"value\":0.7},\"line_color\":{\"value\":\"#984ea3\"},\"x\":{\"field\":\"x\"},\"y\":{\"field\":\"y\"}},\"id\":\"5a18bd7a-388f-407c-8239-fe390d276841\",\"type\":\"Square\"},{\"attributes\":{\"source\":{\"id\":\"ea67797e-1ae3-4a94-bda4-e4a702bb4c42\",\"type\":\"ColumnDataSource\"}},\"id\":\"17cf4612-7db0-46ab-8f60-8f5fb93fef2c\",\"type\":\"CDSView\"},{\"attributes\":{\"toolbar\":{\"id\":\"387acc4e-aaca-468e-a587-0feb7419be4a\",\"type\":\"ProxyToolbar\"},\"toolbar_location\":\"above\"},\"id\":\"11e652e8-ae80-4d45-a3e9-56fd00f29285\",\"type\":\"ToolbarBox\"},{\"attributes\":{\"bottom_units\":\"screen\",\"fill_alpha\":{\"value\":0.5},\"fill_color\":{\"value\":\"lightgrey\"},\"left_units\":\"screen\",\"level\":\"overlay\",\"line_alpha\":{\"value\":1.0},\"line_color\":{\"value\":\"black\"},\"line_dash\":[4,4],\"line_width\":{\"value\":2},\"plot\":null,\"render_mode\":\"css\",\"right_units\":\"screen\",\"top_units\":\"screen\"},\"id\":\"1458dd21-b45a-434e-a738-39c0ce076545\",\"type\":\"BoxAnnotation\"},{\"attributes\":{\"data_source\":{\"id\":\"19b09079-9f44-4137-8546-8d0ac9ca6a8e\",\"type\":\"ColumnDataSource\"},\"glyph\":{\"id\":\"4ec99405-c8d1-4b48-8284-bd0b512b4c8d\",\"type\":\"Circle\"},\"hover_glyph\":null,\"muted_glyph\":null,\"nonselection_glyph\":{\"id\":\"e7ce8565-38ff-4f1d-a9b7-943b07d87bc3\",\"type\":\"Circle\"},\"selection_glyph\":null,\"view\":{\"id\":\"f0edce06-4b05-48f9-92c6-a1e34fabdf2e\",\"type\":\"CDSView\"}},\"id\":\"6f3ba3db-f207-4d31-86a6-87407de52cc0\",\"type\":\"GlyphRenderer\"},{\"attributes\":{\"callback\":null,\"end\":0.01,\"start\":1020},\"id\":\"e1dffe8f-2154-4be2-8c85-7542e2b88db7\",\"type\":\"Range1d\"},{\"attributes\":{\"line_alpha\":0.6,\"line_color\":\"#984ea3\",\"line_width\":3,\"x\":{\"field\":\"x\"},\"y\":{\"field\":\"y\"}},\"id\":\"330d6378-4735-4df3-95d6-2dbc31b70328\",\"type\":\"Line\"},{\"attributes\":{\"fill_alpha\":{\"value\":0.1},\"fill_color\":{\"value\":\"#1f77b4\"},\"line_alpha\":{\"value\":0.1},\"line_color\":{\"value\":\"#1f77b4\"},\"x\":{\"field\":\"x\"},\"y\":{\"field\":\"y\"}},\"id\":\"32f54a3b-e5af-4e9a-a7f4-37843f2ac902\",\"type\":\"Square\"},{\"attributes\":{\"data_source\":{\"id\":\"ea67797e-1ae3-4a94-bda4-e4a702bb4c42\",\"type\":\"ColumnDataSource\"},\"glyph\":{\"id\":\"5a18bd7a-388f-407c-8239-fe390d276841\",\"type\":\"Square\"},\"hover_glyph\":null,\"muted_glyph\":null,\"nonselection_glyph\":{\"id\":\"32f54a3b-e5af-4e9a-a7f4-37843f2ac902\",\"type\":\"Square\"},\"selection_glyph\":null,\"view\":{\"id\":\"17cf4612-7db0-46ab-8f60-8f5fb93fef2c\",\"type\":\"CDSView\"}},\"id\":\"823f8d66-c0ad-480e-8c7c-b541c097c6f3\",\"type\":\"GlyphRenderer\"},{\"attributes\":{\"source\":{\"id\":\"77ee42a3-d2da-4bfb-9082-d9d1878603a1\",\"type\":\"ColumnDataSource\"}},\"id\":\"4cf43f11-ebb2-48eb-8981-46bf9a32c146\",\"type\":\"CDSView\"},{\"attributes\":{\"items\":[{\"id\":\"8f3185e3-4dd8-4e9c-aeaa-f2037917f343\",\"type\":\"LegendItem\"},{\"id\":\"02e7de83-a97d-4f8c-8af6-63f2919c27fa\",\"type\":\"LegendItem\"},{\"id\":\"1db34924-e644-41ab-9427-fef37abcfa71\",\"type\":\"LegendItem\"}],\"label_text_font_size\":{\"value\":\"8pt\"},\"location\":[10,-30],\"plot\":{\"id\":\"f888a157-013c-4249-9d79-5a4d11a5837e\",\"subtype\":\"Figure\",\"type\":\"Plot\"}},\"id\":\"c7635134-9b9a-411e-a79b-bf24380554d7\",\"type\":\"Legend\"},{\"attributes\":{\"line_alpha\":0.1,\"line_color\":\"#1f77b4\",\"line_width\":3,\"x\":{\"field\":\"x\"},\"y\":{\"field\":\"y\"}},\"id\":\"268aa714-fabe-4fa8-89d2-c1d0ef5425ce\",\"type\":\"Line\"},{\"attributes\":{\"data_source\":{\"id\":\"77ee42a3-d2da-4bfb-9082-d9d1878603a1\",\"type\":\"ColumnDataSource\"},\"glyph\":{\"id\":\"330d6378-4735-4df3-95d6-2dbc31b70328\",\"type\":\"Line\"},\"hover_glyph\":null,\"muted_glyph\":null,\"nonselection_glyph\":{\"id\":\"268aa714-fabe-4fa8-89d2-c1d0ef5425ce\",\"type\":\"Line\"},\"selection_glyph\":null,\"view\":{\"id\":\"4cf43f11-ebb2-48eb-8981-46bf9a32c146\",\"type\":\"CDSView\"}},\"id\":\"4a48eb70-7ad9-4f46-bf75-47f4f04654b7\",\"type\":\"GlyphRenderer\"},{\"attributes\":{\"source\":{\"id\":\"e1a3b511-e10c-4578-a3d5-97b169ce4647\",\"type\":\"ColumnDataSource\"}},\"id\":\"a01b6183-d6b8-4024-9e4c-01dc1e0c54a2\",\"type\":\"CDSView\"},{\"attributes\":{\"tools\":[{\"id\":\"af45bacb-f862-4e7b-8708-2af98b1d3774\",\"type\":\"PanTool\"},{\"id\":\"ae326cd2-76da-4665-af0d-40a8eed22769\",\"type\":\"WheelZoomTool\"},{\"id\":\"1f50bf36-8716-4dfa-bcf7-2b9242a5f9ba\",\"type\":\"BoxZoomTool\"},{\"id\":\"ac311d0a-ca54-469a-80f4-f2a2ae6ed8b3\",\"type\":\"SaveTool\"},{\"id\":\"32a8bb52-b7ea-44ad-ba15-6c73653d49a5\",\"type\":\"ResetTool\"},{\"id\":\"160c85cf-1678-48e1-9066-c1a608971c28\",\"type\":\"HelpTool\"},{\"id\":\"1f169f5a-46c8-4c57-b6e1-ef4982c04162\",\"type\":\"PanTool\"},{\"id\":\"05774d7c-38d7-4a4e-9279-b6a88980ee76\",\"type\":\"WheelZoomTool\"},{\"id\":\"39516cc7-d0d0-48b2-9dfa-2e5333524aee\",\"type\":\"BoxZoomTool\"},{\"id\":\"be94f9d4-a563-4b2e-ba9e-fec041b83746\",\"type\":\"SaveTool\"},{\"id\":\"e051a0a1-7acb-49ac-83cb-396bd3b6c9d4\",\"type\":\"ResetTool\"},{\"id\":\"c21314e4-96c3-494a-8754-02971054e1e9\",\"type\":\"HelpTool\"}]},\"id\":\"387acc4e-aaca-468e-a587-0feb7419be4a\",\"type\":\"ProxyToolbar\"},{\"attributes\":{\"axis_label\":\"pressure [mb]\",\"formatter\":{\"id\":\"44297a7c-b2c7-4042-a08f-67817dc0e1e0\",\"type\":\"BasicTickFormatter\"},\"plot\":{\"id\":\"1c43fa05-5228-4840-9d4f-8a88b0b3dea8\",\"subtype\":\"Figure\",\"type\":\"Plot\"},\"ticker\":{\"id\":\"9f1b6ede-ed91-4f9f-9a1c-aedbb0bfec30\",\"type\":\"BasicTicker\"}},\"id\":\"322723c1-9453-4594-8742-632a74f45245\",\"type\":\"LinearAxis\"},{\"attributes\":{},\"id\":\"9f1b6ede-ed91-4f9f-9a1c-aedbb0bfec30\",\"type\":\"BasicTicker\"},{\"attributes\":{\"dimension\":1,\"plot\":{\"id\":\"1c43fa05-5228-4840-9d4f-8a88b0b3dea8\",\"subtype\":\"Figure\",\"type\":\"Plot\"},\"ticker\":{\"id\":\"9f1b6ede-ed91-4f9f-9a1c-aedbb0bfec30\",\"type\":\"BasicTicker\"}},\"id\":\"b4fba3fc-3791-4124-a094-a2254cca623f\",\"type\":\"Grid\"},{\"attributes\":{\"children\":[{\"id\":\"11e652e8-ae80-4d45-a3e9-56fd00f29285\",\"type\":\"ToolbarBox\"},{\"id\":\"08ab7f59-e4d4-4284-8f85-bcd6c3a49616\",\"type\":\"Column\"}]},\"id\":\"25be30a3-cc52-4c2f-8e49-0cb545668348\",\"type\":\"Column\"},{\"attributes\":{\"callback\":null,\"column_names\":[\"x\",\"y\"],\"data\":{\"x\":{\"__ndarray__\":\"pBQZwtYRyD+8S1YDnHfLPzurw9nGwtI/r90LBrZO2D952q91iEPeP1AlHN21QuI/RC8nkRJ15T+6K2Cn/ZvoPwWVyHAClOs/8Ygjcm4x7j9hK7LnfCLwP8+CUN7H0fA/uoA8YMMY8T/YgXNGlJbwPzUjKCPTJu4/N0b81MJW6j9FetXzA9HmP9HEIiPz6uM/r2soc/ve4T/oxssF9OPgP6VZTZX3auE/oHF+Fo1t3z+cPJ/g5v3WP0IWWLbF69A/wudekpBpyj8DnFqNV+bEPyVh193ZKsA/4xl2ECK2uT8s23XZKYK2P9QMXRQz/rM/4zU9lcTzsD8jFn16dj2rP4ExvSWCNqg/4inc2fTzqD8KnPA7GyypP8++sARr/6g/s3e7aAyWqD9/111ch8OmP8dubGTBPqQ/Rqj2QjEUoj+ttI+MCtmfP2WYuvuBSps/+hAXKkYwlj+1OrrDhqSPPyyyVBnxXX0/YIedqRhucj/fCqVSk7CIP2Al3Z45TpY/m5DWGHRCnj+9ANBoeKGiP6PLm8O12qU/slGHKVLgqD+lLqwqGryrPwA3IzSWca4/TcQH6FGAsD/byEzUmLGxP6QKopVLyLI/Elccboq+sz/S4G/hZI60P6evSpZRNLU/FAvX/imwtT9tKwfENQi2P2PWapOzRbY/k1KEX+B1tj/ix0K73ae2P9bmjQBf67Y/n0/suhpNtz8YR7fufsa3Px9HxKvkF7g/M7GgAO+8tz9W2RQbNVe2P4qIRJysI7Q/yvYX/UWpsT/5+OzPMV+uP4l+crauCKk/\",\"dtype\":\"float64\",\"shape\":[75]},\"y\":{\"__ndarray__\":\"GhExyth1ND/Sv8nbtpRIP2vylNV0PVE/aTum7souWD/At0SJ8fVgPw3Iuahxymc/MSNhhJWvcD/bTfBN02d3P2zb5nxnaoA/CD5h5MAGhz8NmeH1TyaQP+zrCsc9p5Y/LbKd76fGnz/bLW5ISEmmPww9YvTcQq8/JV2OstnstT8Er5Y7M8G+P0c+r3jqkcU/5h99k6ZBzj88bCIzFzjVP4enV8oyxN0//yH99nXg5D8qOpLLf0jtP5kqGJXUifQ/c9cS8kHP/D+/DpwzojQEQIEmwoanVwxA4lgXt9HgE0BSSZ2AJuIbQAMJih9jjiNA5q4l5INuK0AwTKYKRj0zQNv5fmq8/DpAaCJseHrtQkB/+zpwzoxKQM3MzMzMeFJAZmZmZmZqWEAAAAAAAFxeQM3MzMzMJmJAmpmZmZkfZUBmZmZmZhhoQDMzMzMzEWtAAAAAAAAKbkBmZmZmZoFwQM3MzMzM/XFAMzMzMzN6c0CamZmZmfZ0QAAAAAAAc3ZAZmZmZmbvd0DNzMzMzGt5QDMzMzMz6HpAmpmZmZlkfEAAAAAAAOF9QGZmZmZmXX9AZmZmZuZsgECamZmZGSuBQM3MzMxM6YFAAAAAAICngkAzMzMzs2WDQGZmZmbmI4RAmpmZmRnihEDNzMzMTKCFQAAAAACAXoZAMzMzM7Mch0BmZmZm5tqHQJqZmZkZmYhAzczMzExXiUAAAAAAgBWKQDMzMzOz04pAZmZmZuaRi0CamZmZGVCMQM3MzMxMDo1AAAAAAIDMjUAzMzMzs4qOQGZmZmbmSI9A\",\"dtype\":\"float64\",\"shape\":[75]}}},\"id\":\"e1a3b511-e10c-4578-a3d5-97b169ce4647\",\"type\":\"ColumnDataSource\"},{\"attributes\":{\"axis_label\":\"cooling rate [K/day]\",\"formatter\":{\"id\":\"3cfcceaa-e11c-4b15-be42-fb535b926ad2\",\"type\":\"BasicTickFormatter\"},\"plot\":{\"id\":\"1c43fa05-5228-4840-9d4f-8a88b0b3dea8\",\"subtype\":\"Figure\",\"type\":\"Plot\"},\"ticker\":{\"id\":\"50f1f2a6-f0bd-4e8e-ae6e-bcd89ac8b3f1\",\"type\":\"BasicTicker\"}},\"id\":\"2ec8ea78-a3a7-4bad-b28d-1648c5a9aab7\",\"type\":\"LinearAxis\"},{\"attributes\":{\"plot\":{\"id\":\"1c43fa05-5228-4840-9d4f-8a88b0b3dea8\",\"subtype\":\"Figure\",\"type\":\"Plot\"},\"ticker\":{\"id\":\"50f1f2a6-f0bd-4e8e-ae6e-bcd89ac8b3f1\",\"type\":\"BasicTicker\"}},\"id\":\"671d5a36-454c-477f-9e1a-61c79ce8bbba\",\"type\":\"Grid\"},{\"attributes\":{},\"id\":\"50f1f2a6-f0bd-4e8e-ae6e-bcd89ac8b3f1\",\"type\":\"BasicTicker\"},{\"attributes\":{\"line_alpha\":0.1,\"line_color\":\"#1f77b4\",\"line_width\":1.5,\"x\":{\"field\":\"x\"},\"y\":{\"field\":\"y\"}},\"id\":\"1ef2b114-afb0-4d49-9822-ed94af890973\",\"type\":\"Line\"},{\"attributes\":{\"ticker\":null},\"id\":\"c5ab5b7a-50f8-421f-863f-6a0ff4b0c31a\",\"type\":\"LogTickFormatter\"},{\"attributes\":{\"source\":{\"id\":\"468474b4-9ae5-4259-b721-bb72f8cd8d99\",\"type\":\"ColumnDataSource\"}},\"id\":\"5424c749-7666-4c4d-841a-98f10fd39e16\",\"type\":\"CDSView\"},{\"attributes\":{\"plot\":null,\"text\":\"Log pressure scale\"},\"id\":\"7a19ca14-108c-4043-8d2a-8e163b0c3586\",\"type\":\"Title\"},{\"attributes\":{},\"id\":\"3cfcceaa-e11c-4b15-be42-fb535b926ad2\",\"type\":\"BasicTickFormatter\"},{\"attributes\":{\"data_source\":{\"id\":\"2f83685f-325b-48a2-9248-6208b1cdd03e\",\"type\":\"ColumnDataSource\"},\"glyph\":{\"id\":\"651d5fab-35a7-4024-a57d-900688717167\",\"type\":\"Line\"},\"hover_glyph\":null,\"muted_glyph\":null,\"nonselection_glyph\":{\"id\":\"423d4f52-d264-4908-92a0-cf6992c14f6c\",\"type\":\"Line\"},\"selection_glyph\":null,\"view\":{\"id\":\"d770db4f-668c-44d5-b013-80111a15d368\",\"type\":\"CDSView\"}},\"id\":\"d16e1670-5818-4fbd-93aa-69ede52b623c\",\"type\":\"GlyphRenderer\"},{\"attributes\":{\"line_alpha\":0.1,\"line_color\":\"#1f77b4\",\"line_dash\":[6],\"line_width\":5,\"x\":{\"field\":\"x\"},\"y\":{\"field\":\"y\"}},\"id\":\"1b82b96f-6f22-4ffe-8cfc-a150e72ef38d\",\"type\":\"Line\"},{\"attributes\":{\"axis_label\":\"cooling rate [K/day]\",\"formatter\":{\"id\":\"96e306af-5769-4ad9-b907-1253a8e850fb\",\"type\":\"BasicTickFormatter\"},\"plot\":{\"id\":\"f888a157-013c-4249-9d79-5a4d11a5837e\",\"subtype\":\"Figure\",\"type\":\"Plot\"},\"ticker\":{\"id\":\"e51469bc-2447-47ce-a323-60d959ab9716\",\"type\":\"BasicTicker\"}},\"id\":\"c090cb5c-07dc-4aa4-b63e-772fac5bda4f\",\"type\":\"LinearAxis\"},{\"attributes\":{\"overlay\":{\"id\":\"fcadd47b-e9fa-4787-888f-37a7f85bebbe\",\"type\":\"BoxAnnotation\"}},\"id\":\"39516cc7-d0d0-48b2-9dfa-2e5333524aee\",\"type\":\"BoxZoomTool\"},{\"attributes\":{\"children\":[{\"id\":\"1c43fa05-5228-4840-9d4f-8a88b0b3dea8\",\"subtype\":\"Figure\",\"type\":\"Plot\"},{\"id\":\"f888a157-013c-4249-9d79-5a4d11a5837e\",\"subtype\":\"Figure\",\"type\":\"Plot\"}]},\"id\":\"d1d0c3d8-7d34-403c-843f-6e6c48f985c6\",\"type\":\"Row\"},{\"attributes\":{\"dimension\":1,\"plot\":{\"id\":\"f888a157-013c-4249-9d79-5a4d11a5837e\",\"subtype\":\"Figure\",\"type\":\"Plot\"},\"ticker\":{\"id\":\"435f9917-26a9-4573-8415-bf6c48092933\",\"type\":\"LogTicker\"}},\"id\":\"e39ae596-aa83-4d06-ab4b-c3da98ca54cd\",\"type\":\"Grid\"},{\"attributes\":{\"fill_alpha\":{\"value\":0.7},\"fill_color\":{\"value\":\"#984ea3\"},\"line_alpha\":{\"value\":0.7},\"line_color\":{\"value\":\"#984ea3\"},\"x\":{\"field\":\"x\"},\"y\":{\"field\":\"y\"}},\"id\":\"218bf5be-6b39-47b4-a590-bc32226b75b9\",\"type\":\"Square\"},{\"attributes\":{\"below\":[{\"id\":\"c090cb5c-07dc-4aa4-b63e-772fac5bda4f\",\"type\":\"LinearAxis\"}],\"left\":[{\"id\":\"2036f65d-94e5-486b-a172-12d73823a8d3\",\"type\":\"LogAxis\"}],\"plot_height\":500,\"plot_width\":560,\"renderers\":[{\"id\":\"c090cb5c-07dc-4aa4-b63e-772fac5bda4f\",\"type\":\"LinearAxis\"},{\"id\":\"07c4f1cf-d5d0-485d-96de-36f78d68fa59\",\"type\":\"Grid\"},{\"id\":\"2036f65d-94e5-486b-a172-12d73823a8d3\",\"type\":\"LogAxis\"},{\"id\":\"e39ae596-aa83-4d06-ab4b-c3da98ca54cd\",\"type\":\"Grid\"},{\"id\":\"fcadd47b-e9fa-4787-888f-37a7f85bebbe\",\"type\":\"BoxAnnotation\"},{\"id\":\"3ea0b1b6-b704-475f-84aa-0bd669cf41a5\",\"type\":\"GlyphRenderer\"},{\"id\":\"9eb7f75f-dba1-4a90-9ade-bc2047a26f24\",\"type\":\"GlyphRenderer\"},{\"id\":\"50598199-3ce8-49a9-a689-378bae5b5e01\",\"type\":\"GlyphRenderer\"},{\"id\":\"823f8d66-c0ad-480e-8c7c-b541c097c6f3\",\"type\":\"GlyphRenderer\"},{\"id\":\"4a48eb70-7ad9-4f46-bf75-47f4f04654b7\",\"type\":\"GlyphRenderer\"},{\"id\":\"c7635134-9b9a-411e-a79b-bf24380554d7\",\"type\":\"Legend\"}],\"right\":[{\"id\":\"c7635134-9b9a-411e-a79b-bf24380554d7\",\"type\":\"Legend\"}],\"title\":{\"id\":\"7a19ca14-108c-4043-8d2a-8e163b0c3586\",\"type\":\"Title\"},\"toolbar\":{\"id\":\"e72173cd-2113-4394-bec1-a7c504ebea0e\",\"type\":\"Toolbar\"},\"toolbar_location\":null,\"x_range\":{\"id\":\"8243fa19-ba88-4dde-bb75-4d3da20600a9\",\"type\":\"Range1d\"},\"x_scale\":{\"id\":\"952bbdba-6cd1-4a8d-bd0d-dc201640ac29\",\"type\":\"LinearScale\"},\"y_range\":{\"id\":\"e1dffe8f-2154-4be2-8c85-7542e2b88db7\",\"type\":\"Range1d\"},\"y_scale\":{\"id\":\"98b62f56-d578-405c-a596-44a586b2c394\",\"type\":\"LogScale\"}},\"id\":\"f888a157-013c-4249-9d79-5a4d11a5837e\",\"subtype\":\"Figure\",\"type\":\"Plot\"},{\"attributes\":{\"bottom_units\":\"screen\",\"fill_alpha\":{\"value\":0.5},\"fill_color\":{\"value\":\"lightgrey\"},\"left_units\":\"screen\",\"level\":\"overlay\",\"line_alpha\":{\"value\":1.0},\"line_color\":{\"value\":\"black\"},\"line_dash\":[4,4],\"line_width\":{\"value\":2},\"plot\":null,\"render_mode\":\"css\",\"right_units\":\"screen\",\"top_units\":\"screen\"},\"id\":\"fcadd47b-e9fa-4787-888f-37a7f85bebbe\",\"type\":\"BoxAnnotation\"},{\"attributes\":{\"callback\":null,\"end\":0.098772468251,\"start\":0.001115296649},\"id\":\"5d9f35b5-35e8-4e15-88c6-3fe8acd7ae55\",\"type\":\"Range1d\"},{\"attributes\":{\"axis_label\":\"pressure [mb]\",\"formatter\":{\"id\":\"c5ab5b7a-50f8-421f-863f-6a0ff4b0c31a\",\"type\":\"LogTickFormatter\"},\"plot\":{\"id\":\"f888a157-013c-4249-9d79-5a4d11a5837e\",\"subtype\":\"Figure\",\"type\":\"Plot\"},\"ticker\":{\"id\":\"435f9917-26a9-4573-8415-bf6c48092933\",\"type\":\"LogTicker\"}},\"id\":\"2036f65d-94e5-486b-a172-12d73823a8d3\",\"type\":\"LogAxis\"},{\"attributes\":{\"label\":{\"value\":\"CRD\"},\"renderers\":[{\"id\":\"9eb7f75f-dba1-4a90-9ade-bc2047a26f24\",\"type\":\"GlyphRenderer\"},{\"id\":\"50598199-3ce8-49a9-a689-378bae5b5e01\",\"type\":\"GlyphRenderer\"}]},\"id\":\"02e7de83-a97d-4f8c-8af6-63f2919c27fa\",\"type\":\"LegendItem\"},{\"attributes\":{\"label\":{\"value\":\"WGT igg=10 wgt_flux=2\"},\"renderers\":[{\"id\":\"823f8d66-c0ad-480e-8c7c-b541c097c6f3\",\"type\":\"GlyphRenderer\"},{\"id\":\"4a48eb70-7ad9-4f46-bf75-47f4f04654b7\",\"type\":\"GlyphRenderer\"}]},\"id\":\"1db34924-e644-41ab-9427-fef37abcfa71\",\"type\":\"LegendItem\"},{\"attributes\":{\"callback\":null,\"column_names\":[\"x\",\"y\"],\"data\":{\"x\":{\"__ndarray__\":\"fvnH7yvevD9zYjD7TKjBP5Kchoe0Nsk/cHPPX43Y0D9Ud8DQfn/VP8C+jBgsi9o/5ewhCvsQ4D9wavNBxxXjPyIA9tkaNOY/hQKd5nBP6T+UAqDExkDsPzAC+OH/0u4/wjV39L9c8D+0vLxKiIPwP5BGDb/++O4/33Oa5Ms06z8Hx3YILbXmPxQs5edMW+I/3YGVnkRf3j+pnaOGHePbPywydMuS6d0//9+/Fkfn3D+eND/EJ9nWP3JM3EuWqtE/S7A4nPnVyz98+OjDaffFPy+exXujkME/YjKP27PXvT+Jjg1yUQy8P0NURPqrz7k/oUUFOtKatT/iF1xIxyKwP/SZYPa6Xqk/tdP6Ttjtpz/479u/mzapP59UhGaaWqw/jtVQ5PXSrT93zrHkc+yrPzrfNvD2Yqg/ONMpNLURpT8zp/bivuehP67J9+X8r50/tftnY6sflz9+JYihcp+OPxP3WLGxL3Y/04blBc/6YD/2aFFvq/iDP5fC3B4fVZQ/VXFzwjWLnD9aE4KK58KhPwYwwJnz56Q/w9VXEDDepz86WSPoU7qqP1bLPSc0fq0/Mbw+5SsQsD8rukTh8lmxP2qKw0NflLI/lMwXn/W1sz+KtVPOcrS0PxpDAyh7iLU/yMnMHssvtj/4zWxzPbO2P0Ak9f48Frc/wcz4cClktz/5GT/WUaq3PyOlVQRq97c/hlDTnvpWuD/ZOozXKce4P8XuVCNoCrk/kuGhvTSkuD94Xr2Ztzu3P5PnoYbUDLU/5r1VyneYsj9vgwqpAyKwP+ZKW2Gc7ao/\",\"dtype\":\"float64\",\"shape\":[75]},\"y\":{\"__ndarray__\":\"S/O/Q+51ND/Sv8nbtpRIP2vylNV0PVE/aTum7souWD/At0SJ8fVgPw3Iuahxymc/MSNhhJWvcD/bTfBN02d3P2zb5nxnaoA/CD5h5MAGhz8NmeH1TyaQP+zrCsc9p5Y/LbKd76fGnz/bLW5ISEmmPww9YvTcQq8/JV2OstnstT8Er5Y7M8G+P0c+r3jqkcU/5h99k6ZBzj88bCIzFzjVP4enV8oyxN0//yH99nXg5D8qOpLLf0jtP5kqGJXUifQ/c9cS8kHP/D+/DpwzojQEQIEmwoanVwxA4lgXt9HgE0BSSZ2AJuIbQAMJih9jjiNA5q4l5INuK0AwTKYKRj0zQNv5fmq8/DpAaCJseHrtQkB/+zpwzoxKQM3MzMzMeFJAZmZmZmZqWEAAAAAAAFxeQM3MzMzMJmJAmpmZmZkfZUBmZmZmZhhoQDMzMzMzEWtAAAAAAAAKbkBmZmZmZoFwQM3MzMzM/XFAMzMzMzN6c0CamZmZmfZ0QAAAAAAAc3ZAZmZmZmbvd0DNzMzMzGt5QDMzMzMz6HpAmpmZmZlkfEAAAAAAAOF9QGZmZmZmXX9AZmZmZuZsgECamZmZGSuBQM3MzMxM6YFAAAAAAICngkAzMzMzs2WDQGZmZmbmI4RAmpmZmRnihEDNzMzMTKCFQAAAAACAXoZAMzMzM7Mch0BmZmZm5tqHQJqZmZkZmYhAzczMzExXiUAAAAAAgBWKQDMzMzOz04pAZmZmZuaRi0CamZmZGVCMQM3MzMxMDo1AAAAAAIDMjUAzMzMzs4qOQGZmZmbmSI9A\",\"dtype\":\"float64\",\"shape\":[75]}}},\"id\":\"2b980d20-7259-45ea-92dc-ba49e5826dff\",\"type\":\"ColumnDataSource\"},{\"attributes\":{},\"id\":\"e051a0a1-7acb-49ac-83cb-396bd3b6c9d4\",\"type\":\"ResetTool\"},{\"attributes\":{},\"id\":\"c21314e4-96c3-494a-8754-02971054e1e9\",\"type\":\"HelpTool\"},{\"attributes\":{\"source\":{\"id\":\"87066aff-c4ba-4993-b44a-2368b9aa1b7a\",\"type\":\"ColumnDataSource\"}},\"id\":\"917fe8c5-7f9e-4835-85ba-0bab85f58dbe\",\"type\":\"CDSView\"},{\"attributes\":{\"line_alpha\":0.1,\"line_color\":\"#1f77b4\",\"line_width\":3,\"x\":{\"field\":\"x\"},\"y\":{\"field\":\"y\"}},\"id\":\"423d4f52-d264-4908-92a0-cf6992c14f6c\",\"type\":\"Line\"},{\"attributes\":{},\"id\":\"952bbdba-6cd1-4a8d-bd0d-dc201640ac29\",\"type\":\"LinearScale\"},{\"attributes\":{\"callback\":null,\"column_names\":[\"x\",\"y\"],\"data\":{\"x\":{\"__ndarray__\":\"/kSBVkQ8xj/+fS1J8q3JP3GlM4UtW9E/Hir8e4Fl1j9eZqI3btfbP/mKBeEmz+A/hv7p30PU4z86RZ8LvuDmP0obAT4G3uk/eJrYZ6uf7D/eY3C4mP/uP8NrsEj2YvA/SlqQ1d/g8D+kmVFI2ZHwP/7dbhLSYe4/bHyWSC1x6j/RawDEKV7mP8rLoMGFv+I/yj46qZwt4D9v1yn02znePwbSrmnM3N8/cOJXmuj53T/FgUafRR3XP29sNnPGndE/EC9Nh7O0yz+akR8ENAfGP8Gt/UmMjsE/W+4emjCAvT+ush/KmDa7PxozvpIJ/7g/UkYLzTIqtT8+JIC1JEewP04/oM6Yv6o/I2WtcCg+qj9QqaLKeRWrPxQR5LiXJq0/U8ekWNxjrj80b/42gbmsP8qVSuyNgKk/N9zhmkBapj/4du6mZCejP2+Je+ZTw58/nRqyNvLCmD8vHEzBoIiQP1JT/f1/SXk/SCaBIUzCZT+kjUp2umSFP3Mq1j6RKpU/pK5Qfl5cnT8y+2ro+CuiP84dN/ySTaU/Ukw5zWExqD/h4Ozvf+yqP/7SzWXYh60/B6OMKZADsD8g9RHxLDWxPwiyj2o8TrI/QP299pFOsz8i4t6kEy20Pz6YhXNl5LQ/I9IO87ZytT8cM9mng961P/hyH/51LrY/uP34yhBvtj+RNnGvjq22P2kz2O3N+rY/f+c9peBltz/T9/cpsN+3P2Oohp1VNbg/DAp3eaDhtz9unQ9LAIi2P8Xh7eNHZbQ/vG7a7oz+sT/lwG/dgS2vP7h7FqIM9Kk/\",\"dtype\":\"float64\",\"shape\":[75]},\"y\":{\"__ndarray__\":\"GhExyth1ND/Sv8nbtpRIP2vylNV0PVE/aTum7souWD/At0SJ8fVgPw3Iuahxymc/MSNhhJWvcD/bTfBN02d3P2zb5nxnaoA/CD5h5MAGhz8NmeH1TyaQP+zrCsc9p5Y/LbKd76fGnz/bLW5ISEmmPww9YvTcQq8/JV2OstnstT8Er5Y7M8G+P0c+r3jqkcU/5h99k6ZBzj88bCIzFzjVP4enV8oyxN0//yH99nXg5D8qOpLLf0jtP5kqGJXUifQ/c9cS8kHP/D+/DpwzojQEQIEmwoanVwxA4lgXt9HgE0BSSZ2AJuIbQAMJih9jjiNA5q4l5INuK0AwTKYKRj0zQNv5fmq8/DpAaCJseHrtQkB/+zpwzoxKQM3MzMzMeFJAZmZmZmZqWEAAAAAAAFxeQM3MzMzMJmJAmpmZmZkfZUBmZmZmZhhoQDMzMzMzEWtAAAAAAAAKbkBmZmZmZoFwQM3MzMzM/XFAMzMzMzN6c0CamZmZmfZ0QAAAAAAAc3ZAZmZmZmbvd0DNzMzMzGt5QDMzMzMz6HpAmpmZmZlkfEAAAAAAAOF9QGZmZmZmXX9AZmZmZuZsgECamZmZGSuBQM3MzMxM6YFAAAAAAICngkAzMzMzs2WDQGZmZmbmI4RAmpmZmRnihEDNzMzMTKCFQAAAAACAXoZAMzMzM7Mch0BmZmZm5tqHQJqZmZkZmYhAzczMzExXiUAAAAAAgBWKQDMzMzOz04pAZmZmZuaRi0CamZmZGVCMQM3MzMxMDo1AAAAAAIDMjUAzMzMzs4qOQGZmZmbmSI9A\",\"dtype\":\"float64\",\"shape\":[75]}}},\"id\":\"468474b4-9ae5-4259-b721-bb72f8cd8d99\",\"type\":\"ColumnDataSource\"},{\"attributes\":{\"fill_alpha\":{\"value\":0.1},\"fill_color\":{\"value\":\"#1f77b4\"},\"line_alpha\":{\"value\":0.1},\"line_color\":{\"value\":\"#1f77b4\"},\"x\":{\"field\":\"x\"},\"y\":{\"field\":\"y\"}},\"id\":\"e7ce8565-38ff-4f1d-a9b7-943b07d87bc3\",\"type\":\"Circle\"},{\"attributes\":{},\"id\":\"05774d7c-38d7-4a4e-9279-b6a88980ee76\",\"type\":\"WheelZoomTool\"},{\"attributes\":{\"line_alpha\":0.1,\"line_color\":\"#1f77b4\",\"line_dash\":[6],\"line_width\":5,\"x\":{\"field\":\"x\"},\"y\":{\"field\":\"y\"}},\"id\":\"6285836f-7fdc-4c35-877c-de05b5355c05\",\"type\":\"Line\"},{\"attributes\":{},\"id\":\"1f169f5a-46c8-4c57-b6e1-ef4982c04162\",\"type\":\"PanTool\"},{\"attributes\":{\"data_source\":{\"id\":\"468474b4-9ae5-4259-b721-bb72f8cd8d99\",\"type\":\"ColumnDataSource\"},\"glyph\":{\"id\":\"218bf5be-6b39-47b4-a590-bc32226b75b9\",\"type\":\"Square\"},\"hover_glyph\":null,\"muted_glyph\":null,\"nonselection_glyph\":{\"id\":\"53ebb575-a9c8-49fd-8e59-563b4b1ac4b1\",\"type\":\"Square\"},\"selection_glyph\":null,\"view\":{\"id\":\"5424c749-7666-4c4d-841a-98f10fd39e16\",\"type\":\"CDSView\"}},\"id\":\"44839a5a-6479-4b5b-af9f-73d470577243\",\"type\":\"GlyphRenderer\"},{\"attributes\":{},\"id\":\"44297a7c-b2c7-4042-a08f-67817dc0e1e0\",\"type\":\"BasicTickFormatter\"},{\"attributes\":{\"data_source\":{\"id\":\"2b980d20-7259-45ea-92dc-ba49e5826dff\",\"type\":\"ColumnDataSource\"},\"glyph\":{\"id\":\"d3f42083-b9a5-4dcf-8731-6894493cd7fa\",\"type\":\"Line\"},\"hover_glyph\":null,\"muted_glyph\":null,\"nonselection_glyph\":{\"id\":\"6285836f-7fdc-4c35-877c-de05b5355c05\",\"type\":\"Line\"},\"selection_glyph\":null,\"view\":{\"id\":\"4c67170c-a822-4f20-ab94-9d569aae9fdf\",\"type\":\"CDSView\"}},\"id\":\"3ea0b1b6-b704-475f-84aa-0bd669cf41a5\",\"type\":\"GlyphRenderer\"},{\"attributes\":{\"active_drag\":\"auto\",\"active_inspect\":\"auto\",\"active_scroll\":\"auto\",\"active_tap\":\"auto\",\"tools\":[{\"id\":\"1f169f5a-46c8-4c57-b6e1-ef4982c04162\",\"type\":\"PanTool\"},{\"id\":\"05774d7c-38d7-4a4e-9279-b6a88980ee76\",\"type\":\"WheelZoomTool\"},{\"id\":\"39516cc7-d0d0-48b2-9dfa-2e5333524aee\",\"type\":\"BoxZoomTool\"},{\"id\":\"be94f9d4-a563-4b2e-ba9e-fec041b83746\",\"type\":\"SaveTool\"},{\"id\":\"e051a0a1-7acb-49ac-83cb-396bd3b6c9d4\",\"type\":\"ResetTool\"},{\"id\":\"c21314e4-96c3-494a-8754-02971054e1e9\",\"type\":\"HelpTool\"}]},\"id\":\"e72173cd-2113-4394-bec1-a7c504ebea0e\",\"type\":\"Toolbar\"},{\"attributes\":{\"source\":{\"id\":\"2f83685f-325b-48a2-9248-6208b1cdd03e\",\"type\":\"ColumnDataSource\"}},\"id\":\"d770db4f-668c-44d5-b013-80111a15d368\",\"type\":\"CDSView\"},{\"attributes\":{\"line_alpha\":0.6,\"line_color\":\"#e41a1c\",\"line_dash\":[6],\"line_width\":5,\"x\":{\"field\":\"x\"},\"y\":{\"field\":\"y\"}},\"id\":\"93b6aa33-46e5-4d16-93d1-34fa7fce85fc\",\"type\":\"Line\"},{\"attributes\":{},\"id\":\"e51469bc-2447-47ce-a323-60d959ab9716\",\"type\":\"BasicTicker\"},{\"attributes\":{\"line_alpha\":0.6,\"line_color\":\"#984ea3\",\"line_width\":3,\"x\":{\"field\":\"x\"},\"y\":{\"field\":\"y\"}},\"id\":\"651d5fab-35a7-4024-a57d-900688717167\",\"type\":\"Line\"},{\"attributes\":{\"line_alpha\":0.6,\"line_color\":\"#e41a1c\",\"line_dash\":[6],\"line_width\":5,\"x\":{\"field\":\"x\"},\"y\":{\"field\":\"y\"}},\"id\":\"d3f42083-b9a5-4dcf-8731-6894493cd7fa\",\"type\":\"Line\"},{\"attributes\":{\"fill_alpha\":{\"value\":0.1},\"fill_color\":{\"value\":\"#1f77b4\"},\"line_alpha\":{\"value\":0.1},\"line_color\":{\"value\":\"#1f77b4\"},\"x\":{\"field\":\"x\"},\"y\":{\"field\":\"y\"}},\"id\":\"53ebb575-a9c8-49fd-8e59-563b4b1ac4b1\",\"type\":\"Square\"},{\"attributes\":{\"plot\":{\"id\":\"f888a157-013c-4249-9d79-5a4d11a5837e\",\"subtype\":\"Figure\",\"type\":\"Plot\"},\"ticker\":{\"id\":\"e51469bc-2447-47ce-a323-60d959ab9716\",\"type\":\"BasicTicker\"}},\"id\":\"07c4f1cf-d5d0-485d-96de-36f78d68fa59\",\"type\":\"Grid\"},{\"attributes\":{},\"id\":\"98b62f56-d578-405c-a596-44a586b2c394\",\"type\":\"LogScale\"},{\"attributes\":{},\"id\":\"be94f9d4-a563-4b2e-ba9e-fec041b83746\",\"type\":\"SaveTool\"},{\"attributes\":{\"callback\":null,\"column_names\":[\"x\",\"y\"],\"data\":{\"x\":{\"__ndarray__\":\"/kSBVkQ8xj/+fS1J8q3JP3GlM4UtW9E/Hir8e4Fl1j9eZqI3btfbP/mKBeEmz+A/hv7p30PU4z86RZ8LvuDmP0obAT4G3uk/eJrYZ6uf7D/eY3C4mP/uP8NrsEj2YvA/SlqQ1d/g8D+kmVFI2ZHwP/7dbhLSYe4/bHyWSC1x6j/RawDEKV7mP8rLoMGFv+I/yj46qZwt4D9v1yn02znePwbSrmnM3N8/cOJXmuj53T/FgUafRR3XP29sNnPGndE/EC9Nh7O0yz+akR8ENAfGP8Gt/UmMjsE/W+4emjCAvT+ush/KmDa7PxozvpIJ/7g/UkYLzTIqtT8+JIC1JEewP04/oM6Yv6o/I2WtcCg+qj9QqaLKeRWrPxQR5LiXJq0/U8ekWNxjrj80b/42gbmsP8qVSuyNgKk/N9zhmkBapj/4du6mZCejP2+Je+ZTw58/nRqyNvLCmD8vHEzBoIiQP1JT/f1/SXk/SCaBIUzCZT+kjUp2umSFP3Mq1j6RKpU/pK5Qfl5cnT8y+2ro+CuiP84dN/ySTaU/Ukw5zWExqD/h4Ozvf+yqP/7SzWXYh60/B6OMKZADsD8g9RHxLDWxPwiyj2o8TrI/QP299pFOsz8i4t6kEy20Pz6YhXNl5LQ/I9IO87ZytT8cM9mng961P/hyH/51LrY/uP34yhBvtj+RNnGvjq22P2kz2O3N+rY/f+c9peBltz/T9/cpsN+3P2Oohp1VNbg/DAp3eaDhtz9unQ9LAIi2P8Xh7eNHZbQ/vG7a7oz+sT/lwG/dgS2vP7h7FqIM9Kk/\",\"dtype\":\"float64\",\"shape\":[75]},\"y\":{\"__ndarray__\":\"GhExyth1ND/Sv8nbtpRIP2vylNV0PVE/aTum7souWD/At0SJ8fVgPw3Iuahxymc/MSNhhJWvcD/bTfBN02d3P2zb5nxnaoA/CD5h5MAGhz8NmeH1TyaQP+zrCsc9p5Y/LbKd76fGnz/bLW5ISEmmPww9YvTcQq8/JV2OstnstT8Er5Y7M8G+P0c+r3jqkcU/5h99k6ZBzj88bCIzFzjVP4enV8oyxN0//yH99nXg5D8qOpLLf0jtP5kqGJXUifQ/c9cS8kHP/D+/DpwzojQEQIEmwoanVwxA4lgXt9HgE0BSSZ2AJuIbQAMJih9jjiNA5q4l5INuK0AwTKYKRj0zQNv5fmq8/DpAaCJseHrtQkB/+zpwzoxKQM3MzMzMeFJAZmZmZmZqWEAAAAAAAFxeQM3MzMzMJmJAmpmZmZkfZUBmZmZmZhhoQDMzMzMzEWtAAAAAAAAKbkBmZmZmZoFwQM3MzMzM/XFAMzMzMzN6c0CamZmZmfZ0QAAAAAAAc3ZAZmZmZmbvd0DNzMzMzGt5QDMzMzMz6HpAmpmZmZlkfEAAAAAAAOF9QGZmZmZmXX9AZmZmZuZsgECamZmZGSuBQM3MzMxM6YFAAAAAAICngkAzMzMzs2WDQGZmZmbmI4RAmpmZmRnihEDNzMzMTKCFQAAAAACAXoZAMzMzM7Mch0BmZmZm5tqHQJqZmZkZmYhAzczMzExXiUAAAAAAgBWKQDMzMzOz04pAZmZmZuaRi0CamZmZGVCMQM3MzMxMDo1AAAAAAIDMjUAzMzMzs4qOQGZmZmbmSI9A\",\"dtype\":\"float64\",\"shape\":[75]}}},\"id\":\"2f83685f-325b-48a2-9248-6208b1cdd03e\",\"type\":\"ColumnDataSource\"},{\"attributes\":{\"label\":{\"value\":\"CLIRAD `coolr_bands`\"},\"renderers\":[{\"id\":\"3ea0b1b6-b704-475f-84aa-0bd669cf41a5\",\"type\":\"GlyphRenderer\"}]},\"id\":\"8f3185e3-4dd8-4e9c-aeaa-f2037917f343\",\"type\":\"LegendItem\"}],\"root_ids\":[\"25be30a3-cc52-4c2f-8e49-0cb545668348\"]},\"title\":\"Bokeh Application\",\"version\":\"0.12.14\"}};\n",
       "  var render_items = [{\"docid\":\"53fdfc42-fe9e-488d-9a43-6936d476568f\",\"elementid\":\"a6fc78e2-488b-4533-8a93-6dad511dbf47\",\"modelid\":\"25be30a3-cc52-4c2f-8e49-0cb545668348\"}];\n",
       "  root.Bokeh.embed.embed_items_notebook(docs_json, render_items);\n",
       "\n",
       "  }\n",
       "  if (root.Bokeh !== undefined) {\n",
       "    embed_document(root);\n",
       "  } else {\n",
       "    var attempts = 0;\n",
       "    var timer = setInterval(function(root) {\n",
       "      if (root.Bokeh !== undefined) {\n",
       "        embed_document(root);\n",
       "        clearInterval(timer);\n",
       "      }\n",
       "      attempts++;\n",
       "      if (attempts > 100) {\n",
       "        console.log(\"Bokeh: ERROR: Unable to run BokehJS code because BokehJS library is missing\")\n",
       "        clearInterval(timer);\n",
       "      }\n",
       "    }, 10, root)\n",
       "  }\n",
       "})(window);"
      ],
      "application/vnd.bokehjs_exec.v0+json": ""
     },
     "metadata": {
      "application/vnd.bokehjs_exec.v0+json": {
       "id": "25be30a3-cc52-4c2f-8e49-0cb545668348"
      }
     },
     "output_type": "display_data"
    },
    {
     "name": "stdout",
     "output_type": "stream",
     "text": [
      "FIGURE. Cooling rate profiles.\n"
     ]
    },
    {
     "data": {
      "text/html": [
       "<a id=\"Flux_Comparison\"></a>"
      ],
      "text/plain": [
       "<IPython.core.display.HTML object>"
      ]
     },
     "metadata": {},
     "output_type": "display_data"
    },
    {
     "data": {
      "text/markdown": [
       "# Flux Comparison"
      ],
      "text/plain": [
       "<IPython.core.display.Markdown object>"
      ]
     },
     "metadata": {},
     "output_type": "display_data"
    },
    {
     "data": {
      "text/html": [
       "<div>\n",
       "<style>\n",
       "    .dataframe thead tr:only-child th {\n",
       "        text-align: right;\n",
       "    }\n",
       "\n",
       "    .dataframe thead th {\n",
       "        text-align: left;\n",
       "    }\n",
       "\n",
       "    .dataframe tbody tr th {\n",
       "        vertical-align: top;\n",
       "    }\n",
       "</style>\n",
       "<table border=\"1\" class=\"dataframe\">\n",
       "  <thead>\n",
       "    <tr style=\"text-align: right;\">\n",
       "      <th></th>\n",
       "      <th></th>\n",
       "      <th>flug</th>\n",
       "      <th>fldg</th>\n",
       "      <th>fnetg</th>\n",
       "    </tr>\n",
       "    <tr>\n",
       "      <th>pressure</th>\n",
       "      <th>level</th>\n",
       "      <th></th>\n",
       "      <th></th>\n",
       "      <th></th>\n",
       "    </tr>\n",
       "  </thead>\n",
       "  <tbody>\n",
       "    <tr>\n",
       "      <th>0.0000</th>\n",
       "      <th>1</th>\n",
       "      <td>-20.792207</td>\n",
       "      <td>0.000000</td>\n",
       "      <td>-20.792207</td>\n",
       "    </tr>\n",
       "    <tr>\n",
       "      <th>1.0685</th>\n",
       "      <th>24</th>\n",
       "      <td>-20.781148</td>\n",
       "      <td>0.052385</td>\n",
       "      <td>-20.728763</td>\n",
       "    </tr>\n",
       "    <tr>\n",
       "      <th>1013.0000</th>\n",
       "      <th>76</th>\n",
       "      <td>-23.591138</td>\n",
       "      <td>10.000005</td>\n",
       "      <td>-13.591133</td>\n",
       "    </tr>\n",
       "  </tbody>\n",
       "</table>\n",
       "</div>"
      ],
      "text/plain": [
       "                      flug       fldg      fnetg\n",
       "pressure  level                                 \n",
       "0.0000    1     -20.792207   0.000000 -20.792207\n",
       "1.0685    24    -20.781148   0.052385 -20.728763\n",
       "1013.0000 76    -23.591138  10.000005 -13.591133"
      ]
     },
     "metadata": {},
     "output_type": "display_data"
    },
    {
     "name": "stdout",
     "output_type": "stream",
     "text": [
      "Table. Fluxes. WGT igg=10 wgt_flux=1\n"
     ]
    },
    {
     "data": {
      "text/html": [
       "<div>\n",
       "<style>\n",
       "    .dataframe thead tr:only-child th {\n",
       "        text-align: right;\n",
       "    }\n",
       "\n",
       "    .dataframe thead th {\n",
       "        text-align: left;\n",
       "    }\n",
       "\n",
       "    .dataframe tbody tr th {\n",
       "        vertical-align: top;\n",
       "    }\n",
       "</style>\n",
       "<table border=\"1\" class=\"dataframe\">\n",
       "  <thead>\n",
       "    <tr style=\"text-align: right;\">\n",
       "      <th></th>\n",
       "      <th></th>\n",
       "      <th>flug</th>\n",
       "      <th>fldg</th>\n",
       "      <th>fnetg</th>\n",
       "    </tr>\n",
       "    <tr>\n",
       "      <th>pressure</th>\n",
       "      <th>level</th>\n",
       "      <th></th>\n",
       "      <th></th>\n",
       "      <th></th>\n",
       "    </tr>\n",
       "  </thead>\n",
       "  <tbody>\n",
       "    <tr>\n",
       "      <th>0.0000</th>\n",
       "      <th>1</th>\n",
       "      <td>-20.835452</td>\n",
       "      <td>0.000000</td>\n",
       "      <td>-20.835452</td>\n",
       "    </tr>\n",
       "    <tr>\n",
       "      <th>1.0685</th>\n",
       "      <th>24</th>\n",
       "      <td>-20.824449</td>\n",
       "      <td>0.055467</td>\n",
       "      <td>-20.768981</td>\n",
       "    </tr>\n",
       "    <tr>\n",
       "      <th>1013.0000</th>\n",
       "      <th>76</th>\n",
       "      <td>-23.591138</td>\n",
       "      <td>9.774630</td>\n",
       "      <td>-13.816508</td>\n",
       "    </tr>\n",
       "  </tbody>\n",
       "</table>\n",
       "</div>"
      ],
      "text/plain": [
       "                      flug      fldg      fnetg\n",
       "pressure  level                                \n",
       "0.0000    1     -20.835452  0.000000 -20.835452\n",
       "1.0685    24    -20.824449  0.055467 -20.768981\n",
       "1013.0000 76    -23.591138  9.774630 -13.816508"
      ]
     },
     "metadata": {},
     "output_type": "display_data"
    },
    {
     "name": "stdout",
     "output_type": "stream",
     "text": [
      "Table. Fluxes. CRD\n"
     ]
    },
    {
     "data": {
      "text/html": [
       "<div>\n",
       "<style>\n",
       "    .dataframe thead tr:only-child th {\n",
       "        text-align: right;\n",
       "    }\n",
       "\n",
       "    .dataframe thead th {\n",
       "        text-align: left;\n",
       "    }\n",
       "\n",
       "    .dataframe tbody tr th {\n",
       "        vertical-align: top;\n",
       "    }\n",
       "</style>\n",
       "<table border=\"1\" class=\"dataframe\">\n",
       "  <thead>\n",
       "    <tr style=\"text-align: right;\">\n",
       "      <th></th>\n",
       "      <th></th>\n",
       "      <th>flug</th>\n",
       "      <th>fldg</th>\n",
       "      <th>fnetg</th>\n",
       "    </tr>\n",
       "    <tr>\n",
       "      <th>pressure</th>\n",
       "      <th>level</th>\n",
       "      <th></th>\n",
       "      <th></th>\n",
       "      <th></th>\n",
       "    </tr>\n",
       "  </thead>\n",
       "  <tbody>\n",
       "    <tr>\n",
       "      <th>1.000000e-08</th>\n",
       "      <th>1</th>\n",
       "      <td>-20.853089</td>\n",
       "      <td>0.000002</td>\n",
       "      <td>-20.853087</td>\n",
       "    </tr>\n",
       "    <tr>\n",
       "      <th>1.068500e+00</th>\n",
       "      <th>24</th>\n",
       "      <td>-20.842195</td>\n",
       "      <td>0.050416</td>\n",
       "      <td>-20.791779</td>\n",
       "    </tr>\n",
       "    <tr>\n",
       "      <th>1.013000e+03</th>\n",
       "      <th>76</th>\n",
       "      <td>-23.591140</td>\n",
       "      <td>10.012655</td>\n",
       "      <td>-13.578485</td>\n",
       "    </tr>\n",
       "  </tbody>\n",
       "</table>\n",
       "</div>"
      ],
      "text/plain": [
       "                         flug       fldg      fnetg\n",
       "pressure     level                                 \n",
       "1.000000e-08 1     -20.853089   0.000002 -20.853087\n",
       "1.068500e+00 24    -20.842195   0.050416 -20.791779\n",
       "1.013000e+03 76    -23.591140  10.012655 -13.578485"
      ]
     },
     "metadata": {},
     "output_type": "display_data"
    },
    {
     "name": "stdout",
     "output_type": "stream",
     "text": [
      "Table. Fluxes. CLIRAD\n"
     ]
    },
    {
     "data": {
      "text/html": [
       "<div>\n",
       "<style>\n",
       "    .dataframe thead tr:only-child th {\n",
       "        text-align: right;\n",
       "    }\n",
       "\n",
       "    .dataframe thead th {\n",
       "        text-align: left;\n",
       "    }\n",
       "\n",
       "    .dataframe tbody tr th {\n",
       "        vertical-align: top;\n",
       "    }\n",
       "</style>\n",
       "<table border=\"1\" class=\"dataframe\">\n",
       "  <thead>\n",
       "    <tr style=\"text-align: right;\">\n",
       "      <th></th>\n",
       "      <th></th>\n",
       "      <th>flug</th>\n",
       "      <th>fldg</th>\n",
       "      <th>fnetg</th>\n",
       "    </tr>\n",
       "    <tr>\n",
       "      <th>pressure</th>\n",
       "      <th>level</th>\n",
       "      <th></th>\n",
       "      <th></th>\n",
       "      <th></th>\n",
       "    </tr>\n",
       "  </thead>\n",
       "  <tbody>\n",
       "    <tr>\n",
       "      <th>0.0000</th>\n",
       "      <th>1</th>\n",
       "      <td>-4.324483e-02</td>\n",
       "      <td>0.000000</td>\n",
       "      <td>-0.043245</td>\n",
       "    </tr>\n",
       "    <tr>\n",
       "      <th>1.0685</th>\n",
       "      <th>24</th>\n",
       "      <td>-4.330092e-02</td>\n",
       "      <td>0.003082</td>\n",
       "      <td>-0.040218</td>\n",
       "    </tr>\n",
       "    <tr>\n",
       "      <th>1013.0000</th>\n",
       "      <th>76</th>\n",
       "      <td>-1.520000e-07</td>\n",
       "      <td>-0.225375</td>\n",
       "      <td>-0.225375</td>\n",
       "    </tr>\n",
       "  </tbody>\n",
       "</table>\n",
       "</div>"
      ],
      "text/plain": [
       "                         flug      fldg     fnetg\n",
       "pressure  level                                  \n",
       "0.0000    1     -4.324483e-02  0.000000 -0.043245\n",
       "1.0685    24    -4.330092e-02  0.003082 -0.040218\n",
       "1013.0000 76    -1.520000e-07 -0.225375 -0.225375"
      ]
     },
     "metadata": {},
     "output_type": "display_data"
    },
    {
     "name": "stdout",
     "output_type": "stream",
     "text": [
      "Table. Fluxes. (CRD) - (WGT igg=10 wgt_flux=1)\n"
     ]
    },
    {
     "data": {
      "text/html": [
       "<div>\n",
       "<style>\n",
       "    .dataframe thead tr:only-child th {\n",
       "        text-align: right;\n",
       "    }\n",
       "\n",
       "    .dataframe thead th {\n",
       "        text-align: left;\n",
       "    }\n",
       "\n",
       "    .dataframe tbody tr th {\n",
       "        vertical-align: top;\n",
       "    }\n",
       "</style>\n",
       "<table border=\"1\" class=\"dataframe\">\n",
       "  <thead>\n",
       "    <tr style=\"text-align: right;\">\n",
       "      <th></th>\n",
       "      <th></th>\n",
       "      <th>flug</th>\n",
       "      <th>fldg</th>\n",
       "      <th>fnetg</th>\n",
       "    </tr>\n",
       "    <tr>\n",
       "      <th>pressure</th>\n",
       "      <th>level</th>\n",
       "      <th></th>\n",
       "      <th></th>\n",
       "      <th></th>\n",
       "    </tr>\n",
       "  </thead>\n",
       "  <tbody>\n",
       "    <tr>\n",
       "      <th>0.0000</th>\n",
       "      <th>1</th>\n",
       "      <td>-0.060882</td>\n",
       "      <td>0.000002</td>\n",
       "      <td>-0.060880</td>\n",
       "    </tr>\n",
       "    <tr>\n",
       "      <th>1.0685</th>\n",
       "      <th>24</th>\n",
       "      <td>-0.061047</td>\n",
       "      <td>-0.001969</td>\n",
       "      <td>-0.063016</td>\n",
       "    </tr>\n",
       "    <tr>\n",
       "      <th>1013.0000</th>\n",
       "      <th>76</th>\n",
       "      <td>-0.000002</td>\n",
       "      <td>0.012650</td>\n",
       "      <td>0.012648</td>\n",
       "    </tr>\n",
       "  </tbody>\n",
       "</table>\n",
       "</div>"
      ],
      "text/plain": [
       "                     flug      fldg     fnetg\n",
       "pressure  level                              \n",
       "0.0000    1     -0.060882  0.000002 -0.060880\n",
       "1.0685    24    -0.061047 -0.001969 -0.063016\n",
       "1013.0000 76    -0.000002  0.012650  0.012648"
      ]
     },
     "metadata": {},
     "output_type": "display_data"
    },
    {
     "name": "stdout",
     "output_type": "stream",
     "text": [
      "Table. Fluxes. (CLIRAD) - (WGT igg=10 wgt_flux=1)\n"
     ]
    },
    {
     "data": {
      "text/html": [
       "<a id=\"Best-fit_Parameters\"></a>"
      ],
      "text/plain": [
       "<IPython.core.display.HTML object>"
      ]
     },
     "metadata": {},
     "output_type": "display_data"
    },
    {
     "data": {
      "text/markdown": [
       "# Best-fit Parameters"
      ],
      "text/plain": [
       "<IPython.core.display.Markdown object>"
      ]
     },
     "metadata": {},
     "output_type": "display_data"
    },
    {
     "name": "stdout",
     "output_type": "stream",
     "text": [
      "Best-fit values for each (gas, band)\n",
      "------------------------------------\n",
      "o co2 band3a\n",
      "  atmpro = mls\n",
      "  band = 3a\n",
      "  commitnumber = a06b618\n",
      "  conc = 0.0004\n",
      "  dv = 0.001\n",
      "  klin = 6.375563e-24\n",
      "  molecule = co2\n",
      "  ng_adju = [0, 0, 0]\n",
      "  ng_refs = [3, 2, 4]\n",
      "  nv = 1000\n",
      "  option_compute_btable = 0\n",
      "  option_compute_ktable = 1\n",
      "  option_wgt_flux = 1\n",
      "  option_wgt_k = 1\n",
      "  ref_pts = [(1, 250), (10, 250), (500, 250)]\n",
      "  tsfc = 294\n",
      "  vmax = 620\n",
      "  vmin = 540\n",
      "  w_diffuse = [(1.6, 1.6, 1.7), (1.75, 1.75), (1.55, 1.55, 1.6, 1.85)]\n",
      "  wgt = [(0.7, 0.3, 0.7), (0.7, 0.6), (0.4, 0.5, 0.8, 0.95)]\n"
     ]
    }
   ],
   "source": [
    "script()"
   ]
  },
  {
   "cell_type": "code",
   "execution_count": 13,
   "metadata": {
    "collapsed": true
   },
   "outputs": [
    {
     "data": {
      "text/html": [
       "<script>\n",
       "code_show=true; \n",
       "function code_toggle() {\n",
       " if (code_show){\n",
       " $('div.input').hide();\n",
       " } else {\n",
       " $('div.input').show();\n",
       " }\n",
       " code_show = !code_show\n",
       "} \n",
       "$( document ).ready(code_toggle);\n",
       "</script>\n",
       "<form action=\"javascript:code_toggle()\"><input type=\"submit\" value=\"Click here to toggle on/off the raw code.\"></form>"
      ],
      "text/plain": [
       "<IPython.core.display.HTML object>"
      ]
     },
     "execution_count": 13,
     "metadata": {},
     "output_type": "execute_result"
    }
   ],
   "source": [
    "display.HTML('''<script>\n",
    "code_show=true; \n",
    "function code_toggle() {\n",
    " if (code_show){\n",
    " $('div.input').hide();\n",
    " } else {\n",
    " $('div.input').show();\n",
    " }\n",
    " code_show = !code_show\n",
    "} \n",
    "$( document ).ready(code_toggle);\n",
    "</script>\n",
    "<form action=\"javascript:code_toggle()\"><input type=\"submit\" value=\"Click here to toggle on/off the raw code.\"></form>''')"
   ]
  }
 ],
 "metadata": {
  "kernelspec": {
   "display_name": "Python 3",
   "language": "python",
   "name": "python3"
  },
  "language_info": {
   "codemirror_mode": {
    "name": "ipython",
    "version": 3
   },
   "file_extension": ".py",
   "mimetype": "text/x-python",
   "name": "python",
   "nbconvert_exporter": "python",
   "pygments_lexer": "ipython3",
   "version": "3.6.1"
  }
 },
 "nbformat": 4,
 "nbformat_minor": 2
}
