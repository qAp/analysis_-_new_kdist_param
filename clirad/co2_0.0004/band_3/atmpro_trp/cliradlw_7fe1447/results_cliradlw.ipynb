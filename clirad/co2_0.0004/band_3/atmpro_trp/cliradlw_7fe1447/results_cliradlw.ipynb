{
 "cells": [
  {
   "cell_type": "code",
   "execution_count": 1,
   "metadata": {
    "collapsed": true
   },
   "outputs": [],
   "source": [
    "%matplotlib inline\n",
    "import os\n",
    "import re\n",
    "import io\n",
    "import itertools\n",
    "import pprint\n",
    "\n",
    "from bokeh.io import output_notebook, show\n",
    "from bokeh.layouts import gridplot\n",
    "from bokeh.plotting import figure\n",
    "from bokeh.models import Range1d, Legend\n",
    "from bokeh.palettes import all_palettes\n",
    "\n",
    "import matplotlib\n",
    "import matplotlib.pyplot as plt\n",
    "import numpy as np\n",
    "import pandas as pd\n",
    "import xarray as xr\n",
    "\n",
    "import climatools.lblnew.bestfit_params as bestfits\n",
    "from climatools.lblnew import setup_bestfit, setup_overlap\n",
    "import climatools.lblnew.pipeline as pipe_lblnew\n",
    "import climatools.cliradlw.setup as setup_cliradlw\n",
    "import climatools.cliradlw.pipeline as pipe_cliradlw\n",
    "\n",
    "import climatools.html.html as climahtml\n",
    "from climatools.lblnew.dataio import *\n",
    "from climatools.plot.plot import *\n",
    "\n",
    "\n",
    "import IPython.display as display"
   ]
  },
  {
   "cell_type": "code",
   "execution_count": 2,
   "metadata": {
    "collapsed": true
   },
   "outputs": [],
   "source": [
    "%run param.py"
   ]
  },
  {
   "cell_type": "code",
   "execution_count": 3,
   "metadata": {
    "collapsed": true
   },
   "outputs": [],
   "source": [
    "def load_output_file(path_csv):\n",
    "    '''\n",
    "    Load lblnew output .csv file to xarray.Dataset\n",
    "    \n",
    "    Parameters\n",
    "    ----------\n",
    "    path_csv: str\n",
    "              Path to the .csv file to be loaded.\n",
    "    ds: xarray.Dataset\n",
    "        Data in the input file in the form of an xarray.Dataset.\n",
    "    '''\n",
    "    toindex = ['band', 'pressure', 'igg', 'g']    \n",
    "    df = pd.read_csv(path_csv, sep=r'\\s+')\n",
    "    df = df.set_index([i for i in toindex if i in df.columns])\n",
    "    df = df.rename(columns={'sfu': 'flug',\n",
    "                            'sfd': 'fldg',\n",
    "                            'fnet': 'fnetg',\n",
    "                            'coolr': 'coolrg'})\n",
    "    ds = xr.Dataset.from_dataframe(df)\n",
    "\n",
    "    for l in ('level', 'layer'):\n",
    "        if l in ds.data_vars:\n",
    "            if len(ds[l].dims) > 1:\n",
    "                surface = {d: 0 for d in ds.dims if d != 'pressure'}\n",
    "                coord_level = ds[l][surface]\n",
    "                ds.coords[l] = ('pressure', coord_level)\n",
    "            else:\n",
    "                ds.coords[l] = ('pressure', ds[l])\n",
    "    \n",
    "    return ds"
   ]
  },
  {
   "cell_type": "code",
   "execution_count": 4,
   "metadata": {
    "collapsed": true
   },
   "outputs": [],
   "source": [
    "def lblnew_setup(param=None):\n",
    "    if 'ng_refs' in param:\n",
    "        return {'setup': setup_bestfit,\n",
    "                'fname_flux_crd': 'output_flux.dat',\n",
    "                'fname_cool_crd': 'output_coolr.dat',\n",
    "                'fname_flux_wgt': 'output_wfluxg.dat',\n",
    "                'fname_cool_wgt': 'output_wcoolrg.dat'}\n",
    "    else:\n",
    "        return {'setup': setup_overlap,\n",
    "                'fname_flux_crd': 'output_flux.dat',\n",
    "                'fname_cool_crd': 'output_coolr.dat',\n",
    "                'fname_flux_wgt': 'output_wflux.dat',\n",
    "                'fname_cool_wgt': 'output_wcoolr.dat'}\n",
    "\n",
    "    \n",
    "def load_lblnew_data(param):\n",
    "    \n",
    "    fname_dsname = [('fname_flux_crd', 'ds_flux_crd'),\n",
    "                    ('fname_cool_crd', 'ds_cool_crd'),\n",
    "                    ('fname_flux_wgt', 'ds_flux_wgt'),\n",
    "                    ('fname_cool_wgt', 'ds_cool_wgt')]\n",
    "    \n",
    "    d = lblnew_setup(param)\n",
    "    dir_fortran = pipe_lblnew.get_dir_case(param, setup=d['setup'])\n",
    "    \n",
    "    data_dict = {}\n",
    "    for fname, dsname in fname_dsname:\n",
    "        fpath = os.path.join(dir_fortran, d[fname])\n",
    "        data_dict[dsname] = load_output_file(fpath)\n",
    "    return data_dict\n",
    "    \n",
    "\n",
    "    \n",
    "    "
   ]
  },
  {
   "cell_type": "code",
   "execution_count": 5,
   "metadata": {
    "collapsed": true
   },
   "outputs": [],
   "source": [
    "d = load_lblnew_data(PARAM_LBLNEW)\n",
    "\n",
    "DS_FLUX_CRD = d['ds_flux_crd']\n",
    "DS_COOL_CRD = d['ds_cool_crd']\n",
    "DS_FLUX_WGT = d['ds_flux_wgt']\n",
    "DS_COOL_WGT = d['ds_cool_wgt']"
   ]
  },
  {
   "cell_type": "code",
   "execution_count": 6,
   "metadata": {
    "collapsed": true
   },
   "outputs": [],
   "source": [
    "DIR_FORTRAN = pipe_cliradlw.get_fortran_dir(PARAM, \n",
    "                                            setup=setup_cliradlw)\n",
    "\n",
    "PATH_FLUX = os.path.join(DIR_FORTRAN, 'output_flux.dat')\n",
    "PATH_COOL = os.path.join(DIR_FORTRAN, 'output_coolr.dat')\n",
    "\n",
    "DS_FLUX = load_output_file(PATH_FLUX)\n",
    "DS_COOL = load_output_file(PATH_COOL)"
   ]
  },
  {
   "cell_type": "code",
   "execution_count": 7,
   "metadata": {
    "collapsed": true
   },
   "outputs": [
    {
     "data": {
      "text/html": [
       "\n",
       "    <div class=\"bk-root\">\n",
       "        <a href=\"https://bokeh.pydata.org\" target=\"_blank\" class=\"bk-logo bk-logo-small bk-logo-notebook\"></a>\n",
       "        <span id=\"6defa2c7-4e4b-492f-a44c-678c8d7f364c\">Loading BokehJS ...</span>\n",
       "    </div>"
      ]
     },
     "metadata": {},
     "output_type": "display_data"
    },
    {
     "data": {
      "application/javascript": [
       "\n",
       "(function(root) {\n",
       "  function now() {\n",
       "    return new Date();\n",
       "  }\n",
       "\n",
       "  var force = true;\n",
       "\n",
       "  if (typeof (root._bokeh_onload_callbacks) === \"undefined\" || force === true) {\n",
       "    root._bokeh_onload_callbacks = [];\n",
       "    root._bokeh_is_loading = undefined;\n",
       "  }\n",
       "\n",
       "  var JS_MIME_TYPE = 'application/javascript';\n",
       "  var HTML_MIME_TYPE = 'text/html';\n",
       "  var EXEC_MIME_TYPE = 'application/vnd.bokehjs_exec.v0+json';\n",
       "  var CLASS_NAME = 'output_bokeh rendered_html';\n",
       "\n",
       "  /**\n",
       "   * Render data to the DOM node\n",
       "   */\n",
       "  function render(props, node) {\n",
       "    var script = document.createElement(\"script\");\n",
       "    node.appendChild(script);\n",
       "  }\n",
       "\n",
       "  /**\n",
       "   * Handle when an output is cleared or removed\n",
       "   */\n",
       "  function handleClearOutput(event, handle) {\n",
       "    var cell = handle.cell;\n",
       "\n",
       "    var id = cell.output_area._bokeh_element_id;\n",
       "    var server_id = cell.output_area._bokeh_server_id;\n",
       "    // Clean up Bokeh references\n",
       "    if (id !== undefined) {\n",
       "      Bokeh.index[id].model.document.clear();\n",
       "      delete Bokeh.index[id];\n",
       "    }\n",
       "\n",
       "    if (server_id !== undefined) {\n",
       "      // Clean up Bokeh references\n",
       "      var cmd = \"from bokeh.io.state import curstate; print(curstate().uuid_to_server['\" + server_id + \"'].get_sessions()[0].document.roots[0]._id)\";\n",
       "      cell.notebook.kernel.execute(cmd, {\n",
       "        iopub: {\n",
       "          output: function(msg) {\n",
       "            var element_id = msg.content.text.trim();\n",
       "            Bokeh.index[element_id].model.document.clear();\n",
       "            delete Bokeh.index[element_id];\n",
       "          }\n",
       "        }\n",
       "      });\n",
       "      // Destroy server and session\n",
       "      var cmd = \"import bokeh.io.notebook as ion; ion.destroy_server('\" + server_id + \"')\";\n",
       "      cell.notebook.kernel.execute(cmd);\n",
       "    }\n",
       "  }\n",
       "\n",
       "  /**\n",
       "   * Handle when a new output is added\n",
       "   */\n",
       "  function handleAddOutput(event, handle) {\n",
       "    var output_area = handle.output_area;\n",
       "    var output = handle.output;\n",
       "\n",
       "    // limit handleAddOutput to display_data with EXEC_MIME_TYPE content only\n",
       "    if ((output.output_type != \"display_data\") || (!output.data.hasOwnProperty(EXEC_MIME_TYPE))) {\n",
       "      return\n",
       "    }\n",
       "\n",
       "    var toinsert = output_area.element.find(\".\" + CLASS_NAME.split(' ')[0]);\n",
       "\n",
       "    if (output.metadata[EXEC_MIME_TYPE][\"id\"] !== undefined) {\n",
       "      toinsert[0].firstChild.textContent = output.data[JS_MIME_TYPE];\n",
       "      // store reference to embed id on output_area\n",
       "      output_area._bokeh_element_id = output.metadata[EXEC_MIME_TYPE][\"id\"];\n",
       "    }\n",
       "    if (output.metadata[EXEC_MIME_TYPE][\"server_id\"] !== undefined) {\n",
       "      var bk_div = document.createElement(\"div\");\n",
       "      bk_div.innerHTML = output.data[HTML_MIME_TYPE];\n",
       "      var script_attrs = bk_div.children[0].attributes;\n",
       "      for (var i = 0; i < script_attrs.length; i++) {\n",
       "        toinsert[0].firstChild.setAttribute(script_attrs[i].name, script_attrs[i].value);\n",
       "      }\n",
       "      // store reference to server id on output_area\n",
       "      output_area._bokeh_server_id = output.metadata[EXEC_MIME_TYPE][\"server_id\"];\n",
       "    }\n",
       "  }\n",
       "\n",
       "  function register_renderer(events, OutputArea) {\n",
       "\n",
       "    function append_mime(data, metadata, element) {\n",
       "      // create a DOM node to render to\n",
       "      var toinsert = this.create_output_subarea(\n",
       "        metadata,\n",
       "        CLASS_NAME,\n",
       "        EXEC_MIME_TYPE\n",
       "      );\n",
       "      this.keyboard_manager.register_events(toinsert);\n",
       "      // Render to node\n",
       "      var props = {data: data, metadata: metadata[EXEC_MIME_TYPE]};\n",
       "      render(props, toinsert[0]);\n",
       "      element.append(toinsert);\n",
       "      return toinsert\n",
       "    }\n",
       "\n",
       "    /* Handle when an output is cleared or removed */\n",
       "    events.on('clear_output.CodeCell', handleClearOutput);\n",
       "    events.on('delete.Cell', handleClearOutput);\n",
       "\n",
       "    /* Handle when a new output is added */\n",
       "    events.on('output_added.OutputArea', handleAddOutput);\n",
       "\n",
       "    /**\n",
       "     * Register the mime type and append_mime function with output_area\n",
       "     */\n",
       "    OutputArea.prototype.register_mime_type(EXEC_MIME_TYPE, append_mime, {\n",
       "      /* Is output safe? */\n",
       "      safe: true,\n",
       "      /* Index of renderer in `output_area.display_order` */\n",
       "      index: 0\n",
       "    });\n",
       "  }\n",
       "\n",
       "  // register the mime type if in Jupyter Notebook environment and previously unregistered\n",
       "  if (root.Jupyter !== undefined) {\n",
       "    var events = require('base/js/events');\n",
       "    var OutputArea = require('notebook/js/outputarea').OutputArea;\n",
       "\n",
       "    if (OutputArea.prototype.mime_types().indexOf(EXEC_MIME_TYPE) == -1) {\n",
       "      register_renderer(events, OutputArea);\n",
       "    }\n",
       "  }\n",
       "\n",
       "  \n",
       "  if (typeof (root._bokeh_timeout) === \"undefined\" || force === true) {\n",
       "    root._bokeh_timeout = Date.now() + 5000;\n",
       "    root._bokeh_failed_load = false;\n",
       "  }\n",
       "\n",
       "  var NB_LOAD_WARNING = {'data': {'text/html':\n",
       "     \"<div style='background-color: #fdd'>\\n\"+\n",
       "     \"<p>\\n\"+\n",
       "     \"BokehJS does not appear to have successfully loaded. If loading BokehJS from CDN, this \\n\"+\n",
       "     \"may be due to a slow or bad network connection. Possible fixes:\\n\"+\n",
       "     \"</p>\\n\"+\n",
       "     \"<ul>\\n\"+\n",
       "     \"<li>re-rerun `output_notebook()` to attempt to load from CDN again, or</li>\\n\"+\n",
       "     \"<li>use INLINE resources instead, as so:</li>\\n\"+\n",
       "     \"</ul>\\n\"+\n",
       "     \"<code>\\n\"+\n",
       "     \"from bokeh.resources import INLINE\\n\"+\n",
       "     \"output_notebook(resources=INLINE)\\n\"+\n",
       "     \"</code>\\n\"+\n",
       "     \"</div>\"}};\n",
       "\n",
       "  function display_loaded() {\n",
       "    var el = document.getElementById(\"6defa2c7-4e4b-492f-a44c-678c8d7f364c\");\n",
       "    if (el != null) {\n",
       "      el.textContent = \"BokehJS is loading...\";\n",
       "    }\n",
       "    if (root.Bokeh !== undefined) {\n",
       "      if (el != null) {\n",
       "        el.textContent = \"BokehJS \" + root.Bokeh.version + \" successfully loaded.\";\n",
       "      }\n",
       "    } else if (Date.now() < root._bokeh_timeout) {\n",
       "      setTimeout(display_loaded, 100)\n",
       "    }\n",
       "  }\n",
       "\n",
       "\n",
       "  function run_callbacks() {\n",
       "    try {\n",
       "      root._bokeh_onload_callbacks.forEach(function(callback) { callback() });\n",
       "    }\n",
       "    finally {\n",
       "      delete root._bokeh_onload_callbacks\n",
       "    }\n",
       "    console.info(\"Bokeh: all callbacks have finished\");\n",
       "  }\n",
       "\n",
       "  function load_libs(js_urls, callback) {\n",
       "    root._bokeh_onload_callbacks.push(callback);\n",
       "    if (root._bokeh_is_loading > 0) {\n",
       "      console.log(\"Bokeh: BokehJS is being loaded, scheduling callback at\", now());\n",
       "      return null;\n",
       "    }\n",
       "    if (js_urls == null || js_urls.length === 0) {\n",
       "      run_callbacks();\n",
       "      return null;\n",
       "    }\n",
       "    console.log(\"Bokeh: BokehJS not loaded, scheduling load and callback at\", now());\n",
       "    root._bokeh_is_loading = js_urls.length;\n",
       "    for (var i = 0; i < js_urls.length; i++) {\n",
       "      var url = js_urls[i];\n",
       "      var s = document.createElement('script');\n",
       "      s.src = url;\n",
       "      s.async = false;\n",
       "      s.onreadystatechange = s.onload = function() {\n",
       "        root._bokeh_is_loading--;\n",
       "        if (root._bokeh_is_loading === 0) {\n",
       "          console.log(\"Bokeh: all BokehJS libraries loaded\");\n",
       "          run_callbacks()\n",
       "        }\n",
       "      };\n",
       "      s.onerror = function() {\n",
       "        console.warn(\"failed to load library \" + url);\n",
       "      };\n",
       "      console.log(\"Bokeh: injecting script tag for BokehJS library: \", url);\n",
       "      document.getElementsByTagName(\"head\")[0].appendChild(s);\n",
       "    }\n",
       "  };var element = document.getElementById(\"6defa2c7-4e4b-492f-a44c-678c8d7f364c\");\n",
       "  if (element == null) {\n",
       "    console.log(\"Bokeh: ERROR: autoload.js configured with elementid '6defa2c7-4e4b-492f-a44c-678c8d7f364c' but no matching script tag was found. \")\n",
       "    return false;\n",
       "  }\n",
       "\n",
       "  var js_urls = [\"https://cdn.pydata.org/bokeh/release/bokeh-0.12.14.min.js\", \"https://cdn.pydata.org/bokeh/release/bokeh-widgets-0.12.14.min.js\", \"https://cdn.pydata.org/bokeh/release/bokeh-tables-0.12.14.min.js\", \"https://cdn.pydata.org/bokeh/release/bokeh-gl-0.12.14.min.js\"];\n",
       "\n",
       "  var inline_js = [\n",
       "    function(Bokeh) {\n",
       "      Bokeh.set_log_level(\"info\");\n",
       "    },\n",
       "    \n",
       "    function(Bokeh) {\n",
       "      \n",
       "    },\n",
       "    function(Bokeh) {\n",
       "      console.log(\"Bokeh: injecting CSS: https://cdn.pydata.org/bokeh/release/bokeh-0.12.14.min.css\");\n",
       "      Bokeh.embed.inject_css(\"https://cdn.pydata.org/bokeh/release/bokeh-0.12.14.min.css\");\n",
       "      console.log(\"Bokeh: injecting CSS: https://cdn.pydata.org/bokeh/release/bokeh-widgets-0.12.14.min.css\");\n",
       "      Bokeh.embed.inject_css(\"https://cdn.pydata.org/bokeh/release/bokeh-widgets-0.12.14.min.css\");\n",
       "      console.log(\"Bokeh: injecting CSS: https://cdn.pydata.org/bokeh/release/bokeh-tables-0.12.14.min.css\");\n",
       "      Bokeh.embed.inject_css(\"https://cdn.pydata.org/bokeh/release/bokeh-tables-0.12.14.min.css\");\n",
       "    }\n",
       "  ];\n",
       "\n",
       "  function run_inline_js() {\n",
       "    \n",
       "    if ((root.Bokeh !== undefined) || (force === true)) {\n",
       "      for (var i = 0; i < inline_js.length; i++) {\n",
       "        inline_js[i].call(root, root.Bokeh);\n",
       "      }if (force === true) {\n",
       "        display_loaded();\n",
       "      }} else if (Date.now() < root._bokeh_timeout) {\n",
       "      setTimeout(run_inline_js, 100);\n",
       "    } else if (!root._bokeh_failed_load) {\n",
       "      console.log(\"Bokeh: BokehJS failed to load within specified timeout.\");\n",
       "      root._bokeh_failed_load = true;\n",
       "    } else if (force !== true) {\n",
       "      var cell = $(document.getElementById(\"6defa2c7-4e4b-492f-a44c-678c8d7f364c\")).parents('.cell').data().cell;\n",
       "      cell.output_area.append_execute_result(NB_LOAD_WARNING)\n",
       "    }\n",
       "\n",
       "  }\n",
       "\n",
       "  if (root._bokeh_is_loading === 0) {\n",
       "    console.log(\"Bokeh: BokehJS loaded, going straight to plotting\");\n",
       "    run_inline_js();\n",
       "  } else {\n",
       "    load_libs(js_urls, function() {\n",
       "      console.log(\"Bokeh: BokehJS plotting callback run at\", now());\n",
       "      run_inline_js();\n",
       "    });\n",
       "  }\n",
       "}(window));"
      ],
      "application/vnd.bokehjs_load.v0+json": "\n(function(root) {\n  function now() {\n    return new Date();\n  }\n\n  var force = true;\n\n  if (typeof (root._bokeh_onload_callbacks) === \"undefined\" || force === true) {\n    root._bokeh_onload_callbacks = [];\n    root._bokeh_is_loading = undefined;\n  }\n\n  \n\n  \n  if (typeof (root._bokeh_timeout) === \"undefined\" || force === true) {\n    root._bokeh_timeout = Date.now() + 5000;\n    root._bokeh_failed_load = false;\n  }\n\n  var NB_LOAD_WARNING = {'data': {'text/html':\n     \"<div style='background-color: #fdd'>\\n\"+\n     \"<p>\\n\"+\n     \"BokehJS does not appear to have successfully loaded. If loading BokehJS from CDN, this \\n\"+\n     \"may be due to a slow or bad network connection. Possible fixes:\\n\"+\n     \"</p>\\n\"+\n     \"<ul>\\n\"+\n     \"<li>re-rerun `output_notebook()` to attempt to load from CDN again, or</li>\\n\"+\n     \"<li>use INLINE resources instead, as so:</li>\\n\"+\n     \"</ul>\\n\"+\n     \"<code>\\n\"+\n     \"from bokeh.resources import INLINE\\n\"+\n     \"output_notebook(resources=INLINE)\\n\"+\n     \"</code>\\n\"+\n     \"</div>\"}};\n\n  function display_loaded() {\n    var el = document.getElementById(\"6defa2c7-4e4b-492f-a44c-678c8d7f364c\");\n    if (el != null) {\n      el.textContent = \"BokehJS is loading...\";\n    }\n    if (root.Bokeh !== undefined) {\n      if (el != null) {\n        el.textContent = \"BokehJS \" + root.Bokeh.version + \" successfully loaded.\";\n      }\n    } else if (Date.now() < root._bokeh_timeout) {\n      setTimeout(display_loaded, 100)\n    }\n  }\n\n\n  function run_callbacks() {\n    try {\n      root._bokeh_onload_callbacks.forEach(function(callback) { callback() });\n    }\n    finally {\n      delete root._bokeh_onload_callbacks\n    }\n    console.info(\"Bokeh: all callbacks have finished\");\n  }\n\n  function load_libs(js_urls, callback) {\n    root._bokeh_onload_callbacks.push(callback);\n    if (root._bokeh_is_loading > 0) {\n      console.log(\"Bokeh: BokehJS is being loaded, scheduling callback at\", now());\n      return null;\n    }\n    if (js_urls == null || js_urls.length === 0) {\n      run_callbacks();\n      return null;\n    }\n    console.log(\"Bokeh: BokehJS not loaded, scheduling load and callback at\", now());\n    root._bokeh_is_loading = js_urls.length;\n    for (var i = 0; i < js_urls.length; i++) {\n      var url = js_urls[i];\n      var s = document.createElement('script');\n      s.src = url;\n      s.async = false;\n      s.onreadystatechange = s.onload = function() {\n        root._bokeh_is_loading--;\n        if (root._bokeh_is_loading === 0) {\n          console.log(\"Bokeh: all BokehJS libraries loaded\");\n          run_callbacks()\n        }\n      };\n      s.onerror = function() {\n        console.warn(\"failed to load library \" + url);\n      };\n      console.log(\"Bokeh: injecting script tag for BokehJS library: \", url);\n      document.getElementsByTagName(\"head\")[0].appendChild(s);\n    }\n  };var element = document.getElementById(\"6defa2c7-4e4b-492f-a44c-678c8d7f364c\");\n  if (element == null) {\n    console.log(\"Bokeh: ERROR: autoload.js configured with elementid '6defa2c7-4e4b-492f-a44c-678c8d7f364c' but no matching script tag was found. \")\n    return false;\n  }\n\n  var js_urls = [\"https://cdn.pydata.org/bokeh/release/bokeh-0.12.14.min.js\", \"https://cdn.pydata.org/bokeh/release/bokeh-widgets-0.12.14.min.js\", \"https://cdn.pydata.org/bokeh/release/bokeh-tables-0.12.14.min.js\", \"https://cdn.pydata.org/bokeh/release/bokeh-gl-0.12.14.min.js\"];\n\n  var inline_js = [\n    function(Bokeh) {\n      Bokeh.set_log_level(\"info\");\n    },\n    \n    function(Bokeh) {\n      \n    },\n    function(Bokeh) {\n      console.log(\"Bokeh: injecting CSS: https://cdn.pydata.org/bokeh/release/bokeh-0.12.14.min.css\");\n      Bokeh.embed.inject_css(\"https://cdn.pydata.org/bokeh/release/bokeh-0.12.14.min.css\");\n      console.log(\"Bokeh: injecting CSS: https://cdn.pydata.org/bokeh/release/bokeh-widgets-0.12.14.min.css\");\n      Bokeh.embed.inject_css(\"https://cdn.pydata.org/bokeh/release/bokeh-widgets-0.12.14.min.css\");\n      console.log(\"Bokeh: injecting CSS: https://cdn.pydata.org/bokeh/release/bokeh-tables-0.12.14.min.css\");\n      Bokeh.embed.inject_css(\"https://cdn.pydata.org/bokeh/release/bokeh-tables-0.12.14.min.css\");\n    }\n  ];\n\n  function run_inline_js() {\n    \n    if ((root.Bokeh !== undefined) || (force === true)) {\n      for (var i = 0; i < inline_js.length; i++) {\n        inline_js[i].call(root, root.Bokeh);\n      }if (force === true) {\n        display_loaded();\n      }} else if (Date.now() < root._bokeh_timeout) {\n      setTimeout(run_inline_js, 100);\n    } else if (!root._bokeh_failed_load) {\n      console.log(\"Bokeh: BokehJS failed to load within specified timeout.\");\n      root._bokeh_failed_load = true;\n    } else if (force !== true) {\n      var cell = $(document.getElementById(\"6defa2c7-4e4b-492f-a44c-678c8d7f364c\")).parents('.cell').data().cell;\n      cell.output_area.append_execute_result(NB_LOAD_WARNING)\n    }\n\n  }\n\n  if (root._bokeh_is_loading === 0) {\n    console.log(\"Bokeh: BokehJS loaded, going straight to plotting\");\n    run_inline_js();\n  } else {\n    load_libs(js_urls, function() {\n      console.log(\"Bokeh: BokehJS plotting callback run at\", now());\n      run_inline_js();\n    });\n  }\n}(window));"
     },
     "metadata": {},
     "output_type": "display_data"
    }
   ],
   "source": [
    "output_notebook()"
   ]
  },
  {
   "cell_type": "code",
   "execution_count": 8,
   "metadata": {
    "collapsed": true
   },
   "outputs": [],
   "source": [
    "def fmt_cool(ds_in):\n",
    "    ds = ds_in.copy(deep=True)\n",
    "    if 'igg' in ds.dims:\n",
    "        ds = ds.sel(igg=1)\n",
    "\n",
    "    if 'g' in ds.dims:\n",
    "        ds = ds.sum('g')\n",
    "            \n",
    "    if 'band' in ds.dims:\n",
    "        try:\n",
    "            ds = ds.squeeze('band')\n",
    "        except ValueError:\n",
    "            ds = ds.sum('band')\n",
    "                \n",
    "    return ds['coolrg']\n",
    "\n",
    "\n",
    "def pltdata_cooling_1(ds_cool=None,\n",
    "                      ds_cool_crd=None, ds_cool_wgt=None):\n",
    "    \n",
    "\n",
    "\n",
    "    colors = all_palettes['Set1'][4]\n",
    "    data = [{'label': 'CLIRAD `coolr_bands`',\n",
    "             'srs': fmt_cool(ds_cool),\n",
    "             'line_dash': 'dashed', 'line_width': 5,\n",
    "             'color': colors[0], 'alpha': .6},\n",
    "            {'label': 'CRD',\n",
    "             'srs': fmt_cool(ds_cool_crd),\n",
    "             'line_dash': 'solid', 'line_width': 1.5,\n",
    "             'marker': 'circle', 'marker_size': 5,\n",
    "             'color': colors[2], 'alpha': 1,},\n",
    "            {'label': 'WGT igg=10 wgt_flux=2',\n",
    "             'srs': fmt_cool(ds_cool_wgt),\n",
    "             'line_dash': 'solid', 'line_width': 3,\n",
    "             'marker': 'square', 'marker_size': 5,\n",
    "             'color': colors[3], 'alpha': .6}]\n",
    "    return data\n",
    "\n",
    "\n",
    "def nice_xlims(pltdata=None, prange=None):\n",
    "    \n",
    "    def get_slice(srs):\n",
    "        return srs.sel(pressure=slice(*prange))\n",
    "    \n",
    "    srss = [d['srs'] for d in pltdata]\n",
    "    vmin = min([get_slice(srs).min() for srs in srss])\n",
    "    vmax = max([get_slice(srs).max() for srs in srss])\n",
    "    dv = (vmax - vmin) * .01\n",
    "    return float(vmin - dv), float(vmax + dv)\n",
    "    \n",
    "\n",
    "def plt_cooling_bokeh(pltdata=None):\n",
    "    '''\n",
    "    Plot a list of cooling rate profiles using bokeh.\n",
    "    '''\n",
    "    ymin = 1e-2 \n",
    "    ymax = 1020 \n",
    "        \n",
    "    p1 = figure(title=\"Linear pressure scale\", \n",
    "                plot_width=400)        \n",
    "    xmin, xmax = nice_xlims(pltdata, prange=(50, 1050))\n",
    "    for d in pltdata:\n",
    "        if 'marker' in d:\n",
    "            getattr(p1, d['marker'])(d['srs'].values, \n",
    "                    d['srs'].coords['pressure'].values,\n",
    "                    color=d['color'], alpha=.7)\n",
    "        p1.line(d['srs'].values, \n",
    "                d['srs'].coords['pressure'].values,\n",
    "                color=d['color'], alpha=d['alpha'], \n",
    "                line_width=d['line_width'], line_dash=d['line_dash'])\n",
    "    \n",
    "    p1.y_range = Range1d(ymax, ymin)\n",
    "    p1.yaxis.axis_label = 'pressure [mb]'   \n",
    "    p1.x_range = Range1d(xmin, xmax)\n",
    "    p1.xaxis.axis_label = 'cooling rate [K/day]'\n",
    "            \n",
    "    p2 = figure(title='Log pressure scale', y_axis_type='log',\n",
    "                plot_width=560)\n",
    "    xmin, xmax = nice_xlims(pltdata, prange=(.01, 200))\n",
    "    \n",
    "    rs = []\n",
    "    for d in pltdata:\n",
    "        rd = []\n",
    "        if 'marker' in d:\n",
    "            r_mark = getattr(p2, d['marker'])(d['srs'].values, \n",
    "                        d['srs'].coords['pressure'].values,\n",
    "                        color=d['color'], alpha=.7)\n",
    "            rd.append(r_mark)\n",
    "        r_line = p2.line(d['srs'].values, \n",
    "                    d['srs'].coords['pressure'].values,\n",
    "                    color=d['color'], alpha=d['alpha'], \n",
    "                    line_width=d['line_width'], line_dash=d['line_dash'])\n",
    "        rd.append(r_line)\n",
    "      \n",
    "        rs.append(rd)\n",
    "        \n",
    "    p2.y_range = Range1d(ymax, ymin)  \n",
    "    p2.yaxis.axis_label = 'pressure [mb]'\n",
    "    \n",
    "    p2.x_range = Range1d(xmin, xmax)\n",
    "    p2.xaxis.axis_label = 'cooling rate [K/day]'\n",
    "    \n",
    "    items = [(d['label'], r) for r, d in zip(rs, pltdata)]\n",
    "    legend = Legend(items=items, location=(10, -30))\n",
    "    legend.label_text_font_size = '8pt'\n",
    "    \n",
    "    p2.add_layout(legend, 'right')  \n",
    "    \n",
    "    show(gridplot(p1, p2, ncols=2, plot_height=500))\n",
    "    \n",
    "\n",
    "def script_plt_cooling():\n",
    "    pltdata = pltdata_cooling_1(\n",
    "        ds_cool=DS_COOL,\n",
    "        ds_cool_crd=DS_COOL_CRD,\n",
    "        ds_cool_wgt=DS_COOL_WGT)\n",
    "    plt_cooling_bokeh(pltdata=pltdata)\n",
    "    print('''FIGURE. Cooling rate profiles.''')"
   ]
  },
  {
   "cell_type": "code",
   "execution_count": 9,
   "metadata": {
    "collapsed": true
   },
   "outputs": [
    {
     "name": "stdout",
     "output_type": "stream",
     "text": [
      "The history saving thread hit an unexpected error (OperationalError('disk I/O error',)).History will not be written to the database.\n"
     ]
    }
   ],
   "source": [
    "def fmt_flux(ds_in):\n",
    "    ds = ds_in.copy(deep=True)\n",
    "    \n",
    "    for l in ('level', 'layer'):\n",
    "        if l in ds.data_vars:\n",
    "            if len(ds[l].dims) > 1:\n",
    "                surface = {d: 0 for d in ds.dims if d != 'pressure'}\n",
    "                coord_level = ds[l][surface]\n",
    "                ds.coords[l] = ('pressure', coord_level)\n",
    "            else:\n",
    "                ds.coords[l] = ('pressure', ds[l])\n",
    "        \n",
    "    ds = ds.isel(pressure=[0, 23, -1])\n",
    "        \n",
    "    if 'igg' in ds.dims:\n",
    "        ds = ds.sel(igg=[1])\n",
    "        ds = ds.squeeze('igg').drop('igg')\n",
    "    \n",
    "    if 'g' in ds.dims:\n",
    "        ds = ds.sum('g')\n",
    "            \n",
    "    if 'band' in ds.dims:\n",
    "        try:\n",
    "            ds = ds.squeeze('band').drop('band')\n",
    "        except ValueError:\n",
    "            ds = ds.sum('band')\n",
    "                \n",
    "    df = ds.to_dataframe()\n",
    "    df = df.set_index('level', append=True)               \n",
    "    return df\n",
    "\n",
    "\n",
    "def tbdata_flux(ds_flux=None, ds_flux_crd=None, ds_flux_wgt=None):\n",
    "    ilevels = [0, 23, -1]\n",
    "            \n",
    "    benchmark = {'label': 'WGT igg=10 wgt_flux=1',\n",
    "                 'df': fmt_flux(ds_flux_wgt)}\n",
    "    \n",
    "    tbs = [{'label': 'CRD',\n",
    "            'df': fmt_flux(ds_flux_crd)},\n",
    "           {'label': 'CLIRAD',\n",
    "            'df': fmt_flux(ds_flux)}]\n",
    "    \n",
    "    data = {'benchmark': benchmark, 'others': tbs}\n",
    "    return data\n",
    "\n",
    "\n",
    "def tb_flux(tbdata=None):\n",
    "    benchmark = tbdata['benchmark']\n",
    "    others = tbdata['others']\n",
    "    \n",
    "    def show_tb(d=None):\n",
    "        display.display(d['df'])\n",
    "        print('Table.', 'Fluxes.', d['label'])\n",
    "        \n",
    "    def show_tbdiff(d0=None, d=None):\n",
    "        df = d['df']\n",
    "        df.index = d0['df'].index\n",
    "        display.display(df - d0['df'])\n",
    "        print('Table.', 'Fluxes.', \n",
    "              '({}) - ({})'.format(d['label'], d0['label']))\n",
    "        \n",
    "    show_tb(benchmark)\n",
    "    for d in others:\n",
    "        show_tb(d)\n",
    "        \n",
    "    for d in others:\n",
    "        show_tbdiff(d=d, d0=benchmark)\n",
    "        \n",
    "        \n",
    "def script_tb_flux():\n",
    "    data = tbdata_flux(ds_flux=DS_FLUX,\n",
    "                       ds_flux_crd=DS_FLUX_CRD,\n",
    "                       ds_flux_wgt=DS_FLUX_WGT)\n",
    "    tb_flux(tbdata=data)"
   ]
  },
  {
   "cell_type": "code",
   "execution_count": 10,
   "metadata": {
    "collapsed": true
   },
   "outputs": [],
   "source": [
    "def band_map():\n",
    "    '''\n",
    "    Maps spectral bands in lblnew to spectral bands in clirad.\n",
    "    '''\n",
    "    lblnew2clirad = {'1': '1',\n",
    "            '2': '2',\n",
    "            '3a': '3',\n",
    "            '3b': '4',\n",
    "            '3c': '5',\n",
    "            '4': '6', \n",
    "            '5': '7',\n",
    "            '6': '8',\n",
    "            '7': '9', \n",
    "            '8': '10',\n",
    "            '9': '11'}\n",
    "    \n",
    "    clirad2lblnew = {clirad: lblnew \n",
    "                     for lblnew, clirad in lblnew2clirad.items()}\n",
    "    return clirad2lblnew\n",
    "\n",
    "\n",
    "def gasbands():\n",
    "    bmap = band_map()\n",
    "    gases = list(PARAM['molecule'].keys())\n",
    "    \n",
    "    bands = [bmap[str(b)] for b in PARAM['band']]\n",
    "    return list(itertools.product(gases, bands))\n",
    "\n",
    "\n",
    "def print_bestfit_params():\n",
    "    print('Best-fit values for each (gas, band)')\n",
    "    print('------------------------------------')\n",
    "    for gas, band in gasbands():\n",
    "        print('o {} band{}'.format(gas, band))\n",
    "        param = bestfits.kdist_params(molecule=gas, band=band)\n",
    "        for name, value in sorted(param.items()):\n",
    "            print(2 * ' ' + '{} = {}'.format(name, value))\n",
    "\n",
    "        \n",
    "def print_input_param():        \n",
    "    for name, value in PARAM.items():\n",
    "        print('{} = {}'.format(name, value))\n",
    "        \n",
    "        \n",
    "def print_lblnew_param():\n",
    "    for name, value in sorted(PARAM_LBLNEW.items()):\n",
    "        print('{} = {}'.format(name, value))\n"
   ]
  },
  {
   "cell_type": "code",
   "execution_count": 11,
   "metadata": {
    "collapsed": true,
    "scrolled": false
   },
   "outputs": [],
   "source": [
    "def show_html(s):\n",
    "    display.display(display.HTML(s))\n",
    "\n",
    "    \n",
    "def show_markdown(s):\n",
    "    display.display(display.Markdown(s))\n",
    "\n",
    "    \n",
    "def script():\n",
    "    \n",
    "    title = '### CLIRAD-LW'\n",
    "    s_input = 'Input Parameters'\n",
    "    s_lblnew_param = 'LBLNEW case compaired against'\n",
    "    s_bestfits = 'Best-fit Parameters'\n",
    "    s_plt_cooling = 'Cooling Rate Profiles'\n",
    "    s_tb_flux = 'Flux Comparison'\n",
    "    \n",
    "    # title\n",
    "    show_markdown('### CLIRAD-LW')\n",
    "    \n",
    "    # TOC\n",
    "    show_markdown('### Table of Contents')\n",
    "    show_html(climahtml.getHTML_hrefanchor(s_input))\n",
    "    show_html(climahtml.getHTML_hrefanchor(s_lblnew_param))\n",
    "    show_html(climahtml.getHTML_hrefanchor(s_plt_cooling))\n",
    "    show_html(climahtml.getHTML_hrefanchor(s_tb_flux))\n",
    "    show_html(climahtml.getHTML_hrefanchor(s_bestfits))\n",
    "    \n",
    "    # Input parameters\n",
    "    show_html(climahtml.getHTML_idanchor(s_input))\n",
    "    show_markdown(climahtml.getMarkdown_sectitle(s_input))\n",
    "    print_input_param()\n",
    "    \n",
    "    # LBLNEW parameters \n",
    "    show_html(climahtml.getHTML_idanchor(s_lblnew_param))\n",
    "    show_markdown(climahtml.getMarkdown_sectitle(s_lblnew_param))\n",
    "    print_lblnew_param()\n",
    "    \n",
    "    # Cooling rate profiles\n",
    "    show_html(climahtml.getHTML_idanchor(s_plt_cooling))\n",
    "    show_markdown(climahtml.getMarkdown_sectitle(s_plt_cooling))\n",
    "    script_plt_cooling()\n",
    "    \n",
    "    # Flux comparison\n",
    "    show_html(climahtml.getHTML_idanchor(s_tb_flux))\n",
    "    show_markdown(climahtml.getMarkdown_sectitle(s_tb_flux))\n",
    "    script_tb_flux()\n",
    "    \n",
    "    # Best-fit values\n",
    "    show_html(climahtml.getHTML_idanchor(s_bestfits))\n",
    "    show_markdown(climahtml.getMarkdown_sectitle(s_bestfits))\n",
    "    print_bestfit_params()\n",
    "   \n",
    "    "
   ]
  },
  {
   "cell_type": "code",
   "execution_count": 12,
   "metadata": {
    "collapsed": true,
    "scrolled": false
   },
   "outputs": [
    {
     "data": {
      "text/markdown": [
       "### CLIRAD-LW"
      ],
      "text/plain": [
       "<IPython.core.display.Markdown object>"
      ]
     },
     "metadata": {},
     "output_type": "display_data"
    },
    {
     "data": {
      "text/markdown": [
       "### Table of Contents"
      ],
      "text/plain": [
       "<IPython.core.display.Markdown object>"
      ]
     },
     "metadata": {},
     "output_type": "display_data"
    },
    {
     "data": {
      "text/html": [
       "<a href=\"#Input_Parameters\">Input Parameters</a>"
      ],
      "text/plain": [
       "<IPython.core.display.HTML object>"
      ]
     },
     "metadata": {},
     "output_type": "display_data"
    },
    {
     "data": {
      "text/html": [
       "<a href=\"#LBLNEW_case_compaired_against\">LBLNEW case compaired against</a>"
      ],
      "text/plain": [
       "<IPython.core.display.HTML object>"
      ]
     },
     "metadata": {},
     "output_type": "display_data"
    },
    {
     "data": {
      "text/html": [
       "<a href=\"#Cooling_Rate_Profiles\">Cooling Rate Profiles</a>"
      ],
      "text/plain": [
       "<IPython.core.display.HTML object>"
      ]
     },
     "metadata": {},
     "output_type": "display_data"
    },
    {
     "data": {
      "text/html": [
       "<a href=\"#Flux_Comparison\">Flux Comparison</a>"
      ],
      "text/plain": [
       "<IPython.core.display.HTML object>"
      ]
     },
     "metadata": {},
     "output_type": "display_data"
    },
    {
     "data": {
      "text/html": [
       "<a href=\"#Best-fit_Parameters\">Best-fit Parameters</a>"
      ],
      "text/plain": [
       "<IPython.core.display.HTML object>"
      ]
     },
     "metadata": {},
     "output_type": "display_data"
    },
    {
     "data": {
      "text/html": [
       "<a id=\"Input_Parameters\"></a>"
      ],
      "text/plain": [
       "<IPython.core.display.HTML object>"
      ]
     },
     "metadata": {},
     "output_type": "display_data"
    },
    {
     "data": {
      "text/markdown": [
       "# Input Parameters"
      ],
      "text/plain": [
       "<IPython.core.display.Markdown object>"
      ]
     },
     "metadata": {},
     "output_type": "display_data"
    },
    {
     "name": "stdout",
     "output_type": "stream",
     "text": [
      "atmpro = trp\n",
      "band = [3]\n",
      "commitnumber = 7fe1447\n",
      "molecule = {'co2': 0.0004}\n",
      "tsfc = 300\n"
     ]
    },
    {
     "data": {
      "text/html": [
       "<a id=\"LBLNEW_case_compaired_against\"></a>"
      ],
      "text/plain": [
       "<IPython.core.display.HTML object>"
      ]
     },
     "metadata": {},
     "output_type": "display_data"
    },
    {
     "data": {
      "text/markdown": [
       "# LBLNEW case compaired against"
      ],
      "text/plain": [
       "<IPython.core.display.Markdown object>"
      ]
     },
     "metadata": {},
     "output_type": "display_data"
    },
    {
     "name": "stdout",
     "output_type": "stream",
     "text": [
      "atmpro = trp\n",
      "band = 3a\n",
      "commitnumber = a06b618\n",
      "conc = 0.0004\n",
      "dv = 0.001\n",
      "klin = 6.375563e-24\n",
      "molecule = co2\n",
      "ng_adju = [0, 0, 0]\n",
      "ng_refs = [3, 2, 4]\n",
      "nv = 1000\n",
      "option_compute_btable = 0\n",
      "option_compute_ktable = 0\n",
      "option_wgt_flux = 1\n",
      "option_wgt_k = 1\n",
      "ref_pts = [(1, 250), (10, 250), (500, 250)]\n",
      "tsfc = 300\n",
      "vmax = 620\n",
      "vmin = 540\n",
      "w_diffuse = [(1.6, 1.6, 1.7), (1.75, 1.75), (1.55, 1.55, 1.6, 1.85)]\n",
      "wgt = [(0.7, 0.3, 0.7), (0.7, 0.6), (0.4, 0.5, 0.8, 0.95)]\n"
     ]
    },
    {
     "data": {
      "text/html": [
       "<a id=\"Cooling_Rate_Profiles\"></a>"
      ],
      "text/plain": [
       "<IPython.core.display.HTML object>"
      ]
     },
     "metadata": {},
     "output_type": "display_data"
    },
    {
     "data": {
      "text/markdown": [
       "# Cooling Rate Profiles"
      ],
      "text/plain": [
       "<IPython.core.display.Markdown object>"
      ]
     },
     "metadata": {},
     "output_type": "display_data"
    },
    {
     "data": {
      "text/html": [
       "\n",
       "<div class=\"bk-root\">\n",
       "    <div class=\"bk-plotdiv\" id=\"946fd83e-840a-4faa-9cbe-80b1d1addd18\"></div>\n",
       "</div>"
      ]
     },
     "metadata": {},
     "output_type": "display_data"
    },
    {
     "data": {
      "application/javascript": [
       "(function(root) {\n",
       "  function embed_document(root) {\n",
       "    \n",
       "  var docs_json = {\"445e176a-339c-44aa-9895-0e981d7c3d66\":{\"roots\":{\"references\":[{\"attributes\":{\"below\":[{\"id\":\"186a1e85-aa6f-4de2-a5f3-6e7e9c02ea52\",\"type\":\"LinearAxis\"}],\"left\":[{\"id\":\"4291a881-d354-4422-8bd4-8308c6756ac2\",\"type\":\"LogAxis\"}],\"plot_height\":500,\"plot_width\":560,\"renderers\":[{\"id\":\"186a1e85-aa6f-4de2-a5f3-6e7e9c02ea52\",\"type\":\"LinearAxis\"},{\"id\":\"21b7e914-dec9-46eb-9ebb-a02d42126861\",\"type\":\"Grid\"},{\"id\":\"4291a881-d354-4422-8bd4-8308c6756ac2\",\"type\":\"LogAxis\"},{\"id\":\"2544ab81-258a-4340-b71b-346b23fa24be\",\"type\":\"Grid\"},{\"id\":\"e305ac95-fe18-4081-87ac-af554440cdd2\",\"type\":\"BoxAnnotation\"},{\"id\":\"bc83a987-143f-448e-b7b4-ed141d018470\",\"type\":\"GlyphRenderer\"},{\"id\":\"66f28dbe-58b1-440f-8e47-2fa96c24ca67\",\"type\":\"GlyphRenderer\"},{\"id\":\"a47ce2ae-a1de-488e-95c3-ac648e1db932\",\"type\":\"GlyphRenderer\"},{\"id\":\"2af958bc-febc-4ecb-a2a5-5119bd2c7c4a\",\"type\":\"GlyphRenderer\"},{\"id\":\"386aa069-861c-49fe-9231-6509e08358dd\",\"type\":\"GlyphRenderer\"},{\"id\":\"36302538-e333-4f66-aef6-8a79b94a504c\",\"type\":\"Legend\"}],\"right\":[{\"id\":\"36302538-e333-4f66-aef6-8a79b94a504c\",\"type\":\"Legend\"}],\"title\":{\"id\":\"4413073a-eb13-4369-88ab-c360773e123a\",\"type\":\"Title\"},\"toolbar\":{\"id\":\"bc9dc129-28dd-4397-9a09-5739928238e9\",\"type\":\"Toolbar\"},\"toolbar_location\":null,\"x_range\":{\"id\":\"9bd979a3-98d1-4d2b-8d36-dc77b767b2cc\",\"type\":\"Range1d\"},\"x_scale\":{\"id\":\"07c8cd67-888e-4543-a353-74a2ee918be5\",\"type\":\"LinearScale\"},\"y_range\":{\"id\":\"7a7c648d-38d5-4f40-b02c-83e0bcd69226\",\"type\":\"Range1d\"},\"y_scale\":{\"id\":\"85d7e203-8a6c-46e3-b93e-d8154fd4ec4e\",\"type\":\"LogScale\"}},\"id\":\"3fda2398-be30-4802-916e-76893cbe1e18\",\"subtype\":\"Figure\",\"type\":\"Plot\"},{\"attributes\":{\"line_alpha\":0.1,\"line_color\":\"#1f77b4\",\"line_width\":3,\"x\":{\"field\":\"x\"},\"y\":{\"field\":\"y\"}},\"id\":\"4dc4470e-745c-4def-b0f7-981c835c3eab\",\"type\":\"Line\"},{\"attributes\":{\"plot\":null,\"text\":\"Log pressure scale\"},\"id\":\"4413073a-eb13-4369-88ab-c360773e123a\",\"type\":\"Title\"},{\"attributes\":{\"callback\":null,\"column_names\":[\"x\",\"y\"],\"data\":{\"x\":{\"__ndarray__\":\"diGPdMOd1T/+lINadMTVP609/a6Jn9Y/2Gj0t8Zr1z+ah2Zv5iDYP3AFNOZps9g/GhwdLpsa2T+49ATZ80XZPxCPNCkEIdk/ULah2/ST2D8KQT+MpHvXP1XOr+wdwtU/REIE3yox0z+1jp3TPLzPPwf9UeW/sc0//mEnOMac0T/E160ROMnUP/8T3JgBV9Y/ybsmdknz1j/OiVHhlT7YP+elXIV/htw/Dvyoshdq4j/mcD00MjPjP95GfqUIu+A/HgHpDUF+3D8HSZvuVkLXP4SQ2tbYc9M/k7f4mjyz0D+sCahE7XLMP3diwNKpSsc/9LrPDhAKwj84xwzi0oS6P4i3+6987LI/kY6dH4/sqz/X90nh7uaeP77x/OboxUO/MUUUUz8Alr+5Xr5dcUySv2sbr+Q7hUw/3OdAC+5Gij8o8XzWS8SXP+xNimU2eKA/KhqDtTtmpD+aGEJFlcinPyQHMyrxxao/9TtbLNV/rT/1hVBkNwewPxRc2uo4QrE/hw1GN8t1sj/NC2E9eaSzPyOQnhyd0LQ/v1TFXxf7tT/eaYfO7CG3P5DWOyRnQbg/QPNx0lhbuT+txI/CVG+6P9+BSZsIf7s/rOgPvVGNvD/llgX3nKG9P9PUZaTAwb4/QH0N72Pmvz/XHKoDimXAP5DyYvmneMA/JerwELYUwD/w7oAVWuG+PxzYSvGTwb0/PgXsBYY7vT92vWvYL2O9P0BO3TAV/b0/mngbpX/Nvj+K0pgIuMK/P038aoT2c8A/Qu5RQ/ovwT+NUCTCfELCPw5wkpuujsQ/\",\"dtype\":\"float64\",\"shape\":[75]},\"y\":{\"__ndarray__\":\"GhExyth1ND/Sv8nbtpRIP2vylNV0PVE/aTum7souWD/At0SJ8fVgPw3Iuahxymc/MSNhhJWvcD/bTfBN02d3P2zb5nxnaoA/CD5h5MAGhz8NmeH1TyaQP+zrCsc9p5Y/LbKd76fGnz/bLW5ISEmmPww9YvTcQq8/JV2OstnstT8Er5Y7M8G+P0c+r3jqkcU/5h99k6ZBzj88bCIzFzjVP4enV8oyxN0//yH99nXg5D8qOpLLf0jtP5kqGJXUifQ/c9cS8kHP/D+/DpwzojQEQIEmwoanVwxA4lgXt9HgE0BSSZ2AJuIbQAMJih9jjiNA5q4l5INuK0AwTKYKRj0zQNv5fmq8/DpAaCJseHrtQkB/+zpwzoxKQM3MzMzMeFJAZmZmZmZqWEAAAAAAAFxeQM3MzMzMJmJAmpmZmZkfZUBmZmZmZhhoQDMzMzMzEWtAAAAAAAAKbkBmZmZmZoFwQM3MzMzM/XFAMzMzMzN6c0CamZmZmfZ0QAAAAAAAc3ZAZmZmZmbvd0DNzMzMzGt5QDMzMzMz6HpAmpmZmZlkfEAAAAAAAOF9QGZmZmZmXX9AZmZmZuZsgECamZmZGSuBQM3MzMxM6YFAAAAAAICngkAzMzMzs2WDQGZmZmbmI4RAmpmZmRnihEDNzMzMTKCFQAAAAACAXoZAMzMzM7Mch0BmZmZm5tqHQJqZmZkZmYhAzczMzExXiUAAAAAAgBWKQDMzMzOz04pAZmZmZuaRi0CamZmZGVCMQM3MzMxMDo1AAAAAAIDMjUAzMzMzs4qOQGZmZmbmSI9A\",\"dtype\":\"float64\",\"shape\":[75]}}},\"id\":\"83446efc-ebe4-4015-a7e9-3e0607adf654\",\"type\":\"ColumnDataSource\"},{\"attributes\":{\"callback\":null,\"column_names\":[\"x\",\"y\"],\"data\":{\"x\":{\"__ndarray__\":\"diGPdMOd1T/+lINadMTVP609/a6Jn9Y/2Gj0t8Zr1z+ah2Zv5iDYP3AFNOZps9g/GhwdLpsa2T+49ATZ80XZPxCPNCkEIdk/ULah2/ST2D8KQT+MpHvXP1XOr+wdwtU/REIE3yox0z+1jp3TPLzPPwf9UeW/sc0//mEnOMac0T/E160ROMnUP/8T3JgBV9Y/ybsmdknz1j/OiVHhlT7YP+elXIV/htw/Dvyoshdq4j/mcD00MjPjP95GfqUIu+A/HgHpDUF+3D8HSZvuVkLXP4SQ2tbYc9M/k7f4mjyz0D+sCahE7XLMP3diwNKpSsc/9LrPDhAKwj84xwzi0oS6P4i3+6987LI/kY6dH4/sqz/X90nh7uaeP77x/OboxUO/MUUUUz8Alr+5Xr5dcUySv2sbr+Q7hUw/3OdAC+5Gij8o8XzWS8SXP+xNimU2eKA/KhqDtTtmpD+aGEJFlcinPyQHMyrxxao/9TtbLNV/rT/1hVBkNwewPxRc2uo4QrE/hw1GN8t1sj/NC2E9eaSzPyOQnhyd0LQ/v1TFXxf7tT/eaYfO7CG3P5DWOyRnQbg/QPNx0lhbuT+txI/CVG+6P9+BSZsIf7s/rOgPvVGNvD/llgX3nKG9P9PUZaTAwb4/QH0N72Pmvz/XHKoDimXAP5DyYvmneMA/JerwELYUwD/w7oAVWuG+PxzYSvGTwb0/PgXsBYY7vT92vWvYL2O9P0BO3TAV/b0/mngbpX/Nvj+K0pgIuMK/P038aoT2c8A/Qu5RQ/ovwT+NUCTCfELCPw5wkpuujsQ/\",\"dtype\":\"float64\",\"shape\":[75]},\"y\":{\"__ndarray__\":\"GhExyth1ND/Sv8nbtpRIP2vylNV0PVE/aTum7souWD/At0SJ8fVgPw3Iuahxymc/MSNhhJWvcD/bTfBN02d3P2zb5nxnaoA/CD5h5MAGhz8NmeH1TyaQP+zrCsc9p5Y/LbKd76fGnz/bLW5ISEmmPww9YvTcQq8/JV2OstnstT8Er5Y7M8G+P0c+r3jqkcU/5h99k6ZBzj88bCIzFzjVP4enV8oyxN0//yH99nXg5D8qOpLLf0jtP5kqGJXUifQ/c9cS8kHP/D+/DpwzojQEQIEmwoanVwxA4lgXt9HgE0BSSZ2AJuIbQAMJih9jjiNA5q4l5INuK0AwTKYKRj0zQNv5fmq8/DpAaCJseHrtQkB/+zpwzoxKQM3MzMzMeFJAZmZmZmZqWEAAAAAAAFxeQM3MzMzMJmJAmpmZmZkfZUBmZmZmZhhoQDMzMzMzEWtAAAAAAAAKbkBmZmZmZoFwQM3MzMzM/XFAMzMzMzN6c0CamZmZmfZ0QAAAAAAAc3ZAZmZmZmbvd0DNzMzMzGt5QDMzMzMz6HpAmpmZmZlkfEAAAAAAAOF9QGZmZmZmXX9AZmZmZuZsgECamZmZGSuBQM3MzMxM6YFAAAAAAICngkAzMzMzs2WDQGZmZmbmI4RAmpmZmRnihEDNzMzMTKCFQAAAAACAXoZAMzMzM7Mch0BmZmZm5tqHQJqZmZkZmYhAzczMzExXiUAAAAAAgBWKQDMzMzOz04pAZmZmZuaRi0CamZmZGVCMQM3MzMxMDo1AAAAAAIDMjUAzMzMzs4qOQGZmZmbmSI9A\",\"dtype\":\"float64\",\"shape\":[75]}}},\"id\":\"18566c42-2fac-4863-ace5-ecdda66a157d\",\"type\":\"ColumnDataSource\"},{\"attributes\":{\"line_alpha\":0.1,\"line_color\":\"#1f77b4\",\"line_width\":1.5,\"x\":{\"field\":\"x\"},\"y\":{\"field\":\"y\"}},\"id\":\"40221f0c-354b-43e9-921d-93aa6d003272\",\"type\":\"Line\"},{\"attributes\":{\"callback\":null,\"column_names\":[\"x\",\"y\"],\"data\":{\"x\":{\"__ndarray__\":\"EJdWItS1zj9NQ55u6k3PPw69pLWSa9A/FNbfdao60T8KECZBjwPSP/VhpLSKwNI/LCD+q9hp0z9s+ZLXlPXTP+ppVYXlU9Q/tC5/z1lw1D/5QWUVmS3UP1/Dwv8MZdM/ET1CMLvl0T8d3+amMGPPPyjcRJD36M4/pRjetDKE0j+mb4inDb3VPx6nCVcX4tY/8SYicOJz1j/0rP/OUaLWP/WXBhO5f9o/Fz2eM/Wc4T+JkladUcriPwlK2TsGmOA/2BJuCStb3D99bUeCuhLXP9RmGE4Ed9M/qKjZh+Xk0D9+VngbxBzNPxlUPKpxocc/oWKDImn5wT80+UWNMrC5PzhuKc7unLE/0Dvo7kdFqT8l9FFLFbqcP1Sv+XNpayW/Ro+EIoIWlb+/1YFGxQySv97GhHHqqDG/51eZRwMahj8VDAoqekWVP2jCsnY0Pp4/KDoedWzroj8wIgPZ6CWmPwip7bwTB6k/MA5hDhiqqz/Lt9EPCTCuPzzKvrRzXbA/KGM6fOumsT+Rq/iJevayP7V3X/g1ULQ/s1YDgKKztT/ETAOIgBi3PwzHd1L0erg/p7Nys2jPuT+zZ+gCCx67P7EJvNVrYbw/JP5yd+eavT+0y1QU8c6+P7DDPTuFAcA/Ke70WjuXwD8Qihg8bQnBPzYb8YVFHME/Go+twsG5wD+k9LfKNBbAP2vwnRwuB78/uGRNE1N1vj+1KtN5nom+Pz6PF/PvCr8/3/Oqa0DGvz/+ddl1kFPAP34kX+iV28A/aO1T4RGNwT+kzEBE7pLCP7kHtoRbwsQ/\",\"dtype\":\"float64\",\"shape\":[75]},\"y\":{\"__ndarray__\":\"S/O/Q+51ND/Sv8nbtpRIP2vylNV0PVE/aTum7souWD/At0SJ8fVgPw3Iuahxymc/MSNhhJWvcD/bTfBN02d3P2zb5nxnaoA/CD5h5MAGhz8NmeH1TyaQP+zrCsc9p5Y/LbKd76fGnz/bLW5ISEmmPww9YvTcQq8/JV2OstnstT8Er5Y7M8G+P0c+r3jqkcU/5h99k6ZBzj88bCIzFzjVP4enV8oyxN0//yH99nXg5D8qOpLLf0jtP5kqGJXUifQ/c9cS8kHP/D+/DpwzojQEQIEmwoanVwxA4lgXt9HgE0BSSZ2AJuIbQAMJih9jjiNA5q4l5INuK0AwTKYKRj0zQNv5fmq8/DpAaCJseHrtQkB/+zpwzoxKQM3MzMzMeFJAZmZmZmZqWEAAAAAAAFxeQM3MzMzMJmJAmpmZmZkfZUBmZmZmZhhoQDMzMzMzEWtAAAAAAAAKbkBmZmZmZoFwQM3MzMzM/XFAMzMzMzN6c0CamZmZmfZ0QAAAAAAAc3ZAZmZmZmbvd0DNzMzMzGt5QDMzMzMz6HpAmpmZmZlkfEAAAAAAAOF9QGZmZmZmXX9AZmZmZuZsgECamZmZGSuBQM3MzMxM6YFAAAAAAICngkAzMzMzs2WDQGZmZmbmI4RAmpmZmRnihEDNzMzMTKCFQAAAAACAXoZAMzMzM7Mch0BmZmZm5tqHQJqZmZkZmYhAzczMzExXiUAAAAAAgBWKQDMzMzOz04pAZmZmZuaRi0CamZmZGVCMQM3MzMxMDo1AAAAAAIDMjUAzMzMzs4qOQGZmZmbmSI9A\",\"dtype\":\"float64\",\"shape\":[75]}}},\"id\":\"b8d8dd8f-291d-4363-9ac7-d0a4763efc6a\",\"type\":\"ColumnDataSource\"},{\"attributes\":{\"active_drag\":\"auto\",\"active_inspect\":\"auto\",\"active_scroll\":\"auto\",\"active_tap\":\"auto\",\"tools\":[{\"id\":\"905cef30-f54d-48b3-b48f-6f593f8159ec\",\"type\":\"PanTool\"},{\"id\":\"4297b40a-b712-4622-9ef3-b917ed622947\",\"type\":\"WheelZoomTool\"},{\"id\":\"e6caf574-906b-4849-a24a-650f177a7d4b\",\"type\":\"BoxZoomTool\"},{\"id\":\"d3701343-15ec-4a9c-a000-8a7ca7d87648\",\"type\":\"SaveTool\"},{\"id\":\"64311b71-059f-4168-a4e9-af528a2be7f2\",\"type\":\"ResetTool\"},{\"id\":\"70ccfcca-12f8-4474-940e-f1e407a65c16\",\"type\":\"HelpTool\"}]},\"id\":\"bc9dc129-28dd-4397-9a09-5739928238e9\",\"type\":\"Toolbar\"},{\"attributes\":{\"data_source\":{\"id\":\"83446efc-ebe4-4015-a7e9-3e0607adf654\",\"type\":\"ColumnDataSource\"},\"glyph\":{\"id\":\"7fa43ff5-3fb0-4a40-9caf-e8cc82b987e2\",\"type\":\"Square\"},\"hover_glyph\":null,\"muted_glyph\":null,\"nonselection_glyph\":{\"id\":\"bd46e09a-0962-4487-8aaf-c0d3883abb47\",\"type\":\"Square\"},\"selection_glyph\":null,\"view\":{\"id\":\"0823a935-e453-48e0-a487-bdc3b40a749a\",\"type\":\"CDSView\"}},\"id\":\"4c00568e-a41e-4d5b-814b-4b50b3d199e7\",\"type\":\"GlyphRenderer\"},{\"attributes\":{\"fill_alpha\":{\"value\":0.7},\"fill_color\":{\"value\":\"#4daf4a\"},\"line_alpha\":{\"value\":0.7},\"line_color\":{\"value\":\"#4daf4a\"},\"x\":{\"field\":\"x\"},\"y\":{\"field\":\"y\"}},\"id\":\"9b28edbd-b573-4477-a44e-3ed80ff42be2\",\"type\":\"Circle\"},{\"attributes\":{\"source\":{\"id\":\"0bd83c4f-38de-42cd-a0ca-a207e34d04f3\",\"type\":\"ColumnDataSource\"}},\"id\":\"857ad00c-86f1-46b2-9080-aa2c0073522b\",\"type\":\"CDSView\"},{\"attributes\":{\"fill_alpha\":{\"value\":0.1},\"fill_color\":{\"value\":\"#1f77b4\"},\"line_alpha\":{\"value\":0.1},\"line_color\":{\"value\":\"#1f77b4\"},\"x\":{\"field\":\"x\"},\"y\":{\"field\":\"y\"}},\"id\":\"bd46e09a-0962-4487-8aaf-c0d3883abb47\",\"type\":\"Square\"},{\"attributes\":{\"fill_alpha\":{\"value\":0.7},\"fill_color\":{\"value\":\"#984ea3\"},\"line_alpha\":{\"value\":0.7},\"line_color\":{\"value\":\"#984ea3\"},\"x\":{\"field\":\"x\"},\"y\":{\"field\":\"y\"}},\"id\":\"7fa43ff5-3fb0-4a40-9caf-e8cc82b987e2\",\"type\":\"Square\"},{\"attributes\":{\"line_alpha\":0.6,\"line_color\":\"#984ea3\",\"line_width\":3,\"x\":{\"field\":\"x\"},\"y\":{\"field\":\"y\"}},\"id\":\"a2d9101f-8b8d-4399-a6cd-faf0a6734203\",\"type\":\"Line\"},{\"attributes\":{\"data_source\":{\"id\":\"0bd83c4f-38de-42cd-a0ca-a207e34d04f3\",\"type\":\"ColumnDataSource\"},\"glyph\":{\"id\":\"8d63662b-71af-4e4f-82d9-b94c61b61d13\",\"type\":\"Line\"},\"hover_glyph\":null,\"muted_glyph\":null,\"nonselection_glyph\":{\"id\":\"40221f0c-354b-43e9-921d-93aa6d003272\",\"type\":\"Line\"},\"selection_glyph\":null,\"view\":{\"id\":\"857ad00c-86f1-46b2-9080-aa2c0073522b\",\"type\":\"CDSView\"}},\"id\":\"6056f51b-dd5e-4383-9ad2-1d9d99f94c6f\",\"type\":\"GlyphRenderer\"},{\"attributes\":{\"callback\":null,\"column_names\":[\"x\",\"y\"],\"data\":{\"x\":{\"__ndarray__\":\"AFv7jiPO2D//gUlcjc3YP0pWsFPNqNk/UNsrmJ1q2j9CP5XLLQrbP/MUQbUkdNs/+xpR87ic2z/LOB0zFm7bP2KdKt8z0to/mEOcmD+w2T8apAE4ze3XP/XQBKtmbdU/ktXnSR0N0j+ON+CQmc3LP+uJMkTjw8g/0ac8V+dazj8adFuFQdfSPxfLPtneeNU/kdM6HvGz1z90zQWqVpHaP0Y/noY9p98/+0u9NGbu4z8wNFMxAPrjPyQHsr9oxuA/syAYMBZA3D9Kx8XmHcbWP1L1ZUiZfdI/1RbHFrxHzj8+wKRChp/IP4bRg+3tt8M/DWWP7Qjpvj8mHJuZcJq3Px7TsmzokbE/dKS5acH4qT/X8l1ZiF+aP20MidUJ6m+/Aa5Kc0Igl7+vyAjYqRqUvxdkm7lfvGm/yYx0nYbjfj/RWCa8N5iRP7ZFGI0c7Jo/MfFy0cPioT+TnFhPyROmP11VD/uxB6o/wfJNvsy8rT9qw2vbU5mwPx7NvhbnNLI/m4ezJSKxsz8Wb4rlmw+1P7WZY6mQU7Y/tFNpR05/tz8ZkC805pS4P1PEwVyNl7k/OAysBAeLuj9Msw6BAnO7P9GqXMkKVbw/EOO55444vT8p+UP5oyS+P3hNQPrDIr8/1++R5vITwD/wUfuEHnfAP+7YnSjoesA/UYxFNgQFwD9dPxYFbpu+P++0kNuKWL0/vI7+uHm6vD9Z5VuCANe8P9Vnvc48b70/PGtUM61Fvj8IBu8vq0W/P5Q/rdzqPcA/QEQwLzwGwT8tFOENBirCP8sMwKuKlcQ/\",\"dtype\":\"float64\",\"shape\":[75]},\"y\":{\"__ndarray__\":\"GhExyth1ND/Sv8nbtpRIP2vylNV0PVE/aTum7souWD/At0SJ8fVgPw3Iuahxymc/MSNhhJWvcD/bTfBN02d3P2zb5nxnaoA/CD5h5MAGhz8NmeH1TyaQP+zrCsc9p5Y/LbKd76fGnz/bLW5ISEmmPww9YvTcQq8/JV2OstnstT8Er5Y7M8G+P0c+r3jqkcU/5h99k6ZBzj88bCIzFzjVP4enV8oyxN0//yH99nXg5D8qOpLLf0jtP5kqGJXUifQ/c9cS8kHP/D+/DpwzojQEQIEmwoanVwxA4lgXt9HgE0BSSZ2AJuIbQAMJih9jjiNA5q4l5INuK0AwTKYKRj0zQNv5fmq8/DpAaCJseHrtQkB/+zpwzoxKQM3MzMzMeFJAZmZmZmZqWEAAAAAAAFxeQM3MzMzMJmJAmpmZmZkfZUBmZmZmZhhoQDMzMzMzEWtAAAAAAAAKbkBmZmZmZoFwQM3MzMzM/XFAMzMzMzN6c0CamZmZmfZ0QAAAAAAAc3ZAZmZmZmbvd0DNzMzMzGt5QDMzMzMz6HpAmpmZmZlkfEAAAAAAAOF9QGZmZmZmXX9AZmZmZuZsgECamZmZGSuBQM3MzMxM6YFAAAAAAICngkAzMzMzs2WDQGZmZmbmI4RAmpmZmRnihEDNzMzMTKCFQAAAAACAXoZAMzMzM7Mch0BmZmZm5tqHQJqZmZkZmYhAzczMzExXiUAAAAAAgBWKQDMzMzOz04pAZmZmZuaRi0CamZmZGVCMQM3MzMxMDo1AAAAAAIDMjUAzMzMzs4qOQGZmZmbmSI9A\",\"dtype\":\"float64\",\"shape\":[75]}}},\"id\":\"a82354f0-8655-4d30-8199-0a5ead1435d4\",\"type\":\"ColumnDataSource\"},{\"attributes\":{\"source\":{\"id\":\"18566c42-2fac-4863-ace5-ecdda66a157d\",\"type\":\"ColumnDataSource\"}},\"id\":\"35c3eca3-1a72-449a-ae6a-a707d37595ec\",\"type\":\"CDSView\"},{\"attributes\":{\"line_alpha\":0.6,\"line_color\":\"#e41a1c\",\"line_dash\":[6],\"line_width\":5,\"x\":{\"field\":\"x\"},\"y\":{\"field\":\"y\"}},\"id\":\"a3cb577b-a628-4b50-b521-a68d8af33f9d\",\"type\":\"Line\"},{\"attributes\":{\"data_source\":{\"id\":\"18566c42-2fac-4863-ace5-ecdda66a157d\",\"type\":\"ColumnDataSource\"},\"glyph\":{\"id\":\"a2d9101f-8b8d-4399-a6cd-faf0a6734203\",\"type\":\"Line\"},\"hover_glyph\":null,\"muted_glyph\":null,\"nonselection_glyph\":{\"id\":\"4dc4470e-745c-4def-b0f7-981c835c3eab\",\"type\":\"Line\"},\"selection_glyph\":null,\"view\":{\"id\":\"35c3eca3-1a72-449a-ae6a-a707d37595ec\",\"type\":\"CDSView\"}},\"id\":\"ba3565fe-c474-4912-9a1b-cbc9bbebe0f7\",\"type\":\"GlyphRenderer\"},{\"attributes\":{\"source\":{\"id\":\"83446efc-ebe4-4015-a7e9-3e0607adf654\",\"type\":\"ColumnDataSource\"}},\"id\":\"0823a935-e453-48e0-a487-bdc3b40a749a\",\"type\":\"CDSView\"},{\"attributes\":{\"callback\":null,\"end\":0.16402897317999998,\"start\":-0.024431651179999996},\"id\":\"0ab61525-43ab-4273-b0a5-e9e7d4ac68c0\",\"type\":\"Range1d\"},{\"attributes\":{\"data_source\":{\"id\":\"a82354f0-8655-4d30-8199-0a5ead1435d4\",\"type\":\"ColumnDataSource\"},\"glyph\":{\"id\":\"9b28edbd-b573-4477-a44e-3ed80ff42be2\",\"type\":\"Circle\"},\"hover_glyph\":null,\"muted_glyph\":null,\"nonselection_glyph\":{\"id\":\"14cf0de1-e11f-4590-88c6-e1d82c9545bd\",\"type\":\"Circle\"},\"selection_glyph\":null,\"view\":{\"id\":\"cf754c79-1945-496d-b71d-d6769d085e9f\",\"type\":\"CDSView\"}},\"id\":\"26694e84-d52b-4275-92d3-427a9df7e957\",\"type\":\"GlyphRenderer\"},{\"attributes\":{\"source\":{\"id\":\"b9b94470-beb6-4d20-be50-2aeb36b8e074\",\"type\":\"ColumnDataSource\"}},\"id\":\"8a788b07-3591-4218-a415-a6aa35d2f5a4\",\"type\":\"CDSView\"},{\"attributes\":{\"overlay\":{\"id\":\"e305ac95-fe18-4081-87ac-af554440cdd2\",\"type\":\"BoxAnnotation\"}},\"id\":\"e6caf574-906b-4849-a24a-650f177a7d4b\",\"type\":\"BoxZoomTool\"},{\"attributes\":{\"plot\":null,\"text\":\"Linear pressure scale\"},\"id\":\"1e5ff0ae-4699-4f51-875f-8ba75879fb0e\",\"type\":\"Title\"},{\"attributes\":{\"num_minor_ticks\":10},\"id\":\"33fcdd89-a547-47ee-b496-3b4dd7daa411\",\"type\":\"LogTicker\"},{\"attributes\":{\"callback\":null,\"column_names\":[\"x\",\"y\"],\"data\":{\"x\":{\"__ndarray__\":\"AFv7jiPO2D//gUlcjc3YP0pWsFPNqNk/UNsrmJ1q2j9CP5XLLQrbP/MUQbUkdNs/+xpR87ic2z/LOB0zFm7bP2KdKt8z0to/mEOcmD+w2T8apAE4ze3XP/XQBKtmbdU/ktXnSR0N0j+ON+CQmc3LP+uJMkTjw8g/0ac8V+dazj8adFuFQdfSPxfLPtneeNU/kdM6HvGz1z90zQWqVpHaP0Y/noY9p98/+0u9NGbu4z8wNFMxAPrjPyQHsr9oxuA/syAYMBZA3D9Kx8XmHcbWP1L1ZUiZfdI/1RbHFrxHzj8+wKRChp/IP4bRg+3tt8M/DWWP7Qjpvj8mHJuZcJq3Px7TsmzokbE/dKS5acH4qT/X8l1ZiF+aP20MidUJ6m+/Aa5Kc0Igl7+vyAjYqRqUvxdkm7lfvGm/yYx0nYbjfj/RWCa8N5iRP7ZFGI0c7Jo/MfFy0cPioT+TnFhPyROmP11VD/uxB6o/wfJNvsy8rT9qw2vbU5mwPx7NvhbnNLI/m4ezJSKxsz8Wb4rlmw+1P7WZY6mQU7Y/tFNpR05/tz8ZkC805pS4P1PEwVyNl7k/OAysBAeLuj9Msw6BAnO7P9GqXMkKVbw/EOO55444vT8p+UP5oyS+P3hNQPrDIr8/1++R5vITwD/wUfuEHnfAP+7YnSjoesA/UYxFNgQFwD9dPxYFbpu+P++0kNuKWL0/vI7+uHm6vD9Z5VuCANe8P9Vnvc48b70/PGtUM61Fvj8IBu8vq0W/P5Q/rdzqPcA/QEQwLzwGwT8tFOENBirCP8sMwKuKlcQ/\",\"dtype\":\"float64\",\"shape\":[75]},\"y\":{\"__ndarray__\":\"GhExyth1ND/Sv8nbtpRIP2vylNV0PVE/aTum7souWD/At0SJ8fVgPw3Iuahxymc/MSNhhJWvcD/bTfBN02d3P2zb5nxnaoA/CD5h5MAGhz8NmeH1TyaQP+zrCsc9p5Y/LbKd76fGnz/bLW5ISEmmPww9YvTcQq8/JV2OstnstT8Er5Y7M8G+P0c+r3jqkcU/5h99k6ZBzj88bCIzFzjVP4enV8oyxN0//yH99nXg5D8qOpLLf0jtP5kqGJXUifQ/c9cS8kHP/D+/DpwzojQEQIEmwoanVwxA4lgXt9HgE0BSSZ2AJuIbQAMJih9jjiNA5q4l5INuK0AwTKYKRj0zQNv5fmq8/DpAaCJseHrtQkB/+zpwzoxKQM3MzMzMeFJAZmZmZmZqWEAAAAAAAFxeQM3MzMzMJmJAmpmZmZkfZUBmZmZmZhhoQDMzMzMzEWtAAAAAAAAKbkBmZmZmZoFwQM3MzMzM/XFAMzMzMzN6c0CamZmZmfZ0QAAAAAAAc3ZAZmZmZmbvd0DNzMzMzGt5QDMzMzMz6HpAmpmZmZlkfEAAAAAAAOF9QGZmZmZmXX9AZmZmZuZsgECamZmZGSuBQM3MzMxM6YFAAAAAAICngkAzMzMzs2WDQGZmZmbmI4RAmpmZmRnihEDNzMzMTKCFQAAAAACAXoZAMzMzM7Mch0BmZmZm5tqHQJqZmZkZmYhAzczMzExXiUAAAAAAgBWKQDMzMzOz04pAZmZmZuaRi0CamZmZGVCMQM3MzMxMDo1AAAAAAIDMjUAzMzMzs4qOQGZmZmbmSI9A\",\"dtype\":\"float64\",\"shape\":[75]}}},\"id\":\"e404baa8-5b99-4ebf-92e7-b9852b138b57\",\"type\":\"ColumnDataSource\"},{\"attributes\":{\"data_source\":{\"id\":\"42ba87fc-c8ff-44dd-93c3-e33edabcdfcd\",\"type\":\"ColumnDataSource\"},\"glyph\":{\"id\":\"a3cb577b-a628-4b50-b521-a68d8af33f9d\",\"type\":\"Line\"},\"hover_glyph\":null,\"muted_glyph\":null,\"nonselection_glyph\":{\"id\":\"db2598ad-46e6-4657-8fec-b512e7eaacd3\",\"type\":\"Line\"},\"selection_glyph\":null,\"view\":{\"id\":\"7a4da36e-5344-4167-95d4-eb77ef637a0e\",\"type\":\"CDSView\"}},\"id\":\"bc12d694-fa14-4c3a-a232-5676e179cca5\",\"type\":\"GlyphRenderer\"},{\"attributes\":{\"data_source\":{\"id\":\"b8d8dd8f-291d-4363-9ac7-d0a4763efc6a\",\"type\":\"ColumnDataSource\"},\"glyph\":{\"id\":\"c78f872f-faf2-4c54-82f8-ea3198f85c54\",\"type\":\"Line\"},\"hover_glyph\":null,\"muted_glyph\":null,\"nonselection_glyph\":{\"id\":\"9a36187b-52fa-4f30-9b16-2d5d37cc396f\",\"type\":\"Line\"},\"selection_glyph\":null,\"view\":{\"id\":\"31499f79-b952-4e25-8799-48e95d698786\",\"type\":\"CDSView\"}},\"id\":\"bc83a987-143f-448e-b7b4-ed141d018470\",\"type\":\"GlyphRenderer\"},{\"attributes\":{\"line_alpha\":0.1,\"line_color\":\"#1f77b4\",\"line_dash\":[6],\"line_width\":5,\"x\":{\"field\":\"x\"},\"y\":{\"field\":\"y\"}},\"id\":\"db2598ad-46e6-4657-8fec-b512e7eaacd3\",\"type\":\"Line\"},{\"attributes\":{\"callback\":null,\"column_names\":[\"x\",\"y\"],\"data\":{\"x\":{\"__ndarray__\":\"diGPdMOd1T/+lINadMTVP609/a6Jn9Y/2Gj0t8Zr1z+ah2Zv5iDYP3AFNOZps9g/GhwdLpsa2T+49ATZ80XZPxCPNCkEIdk/ULah2/ST2D8KQT+MpHvXP1XOr+wdwtU/REIE3yox0z+1jp3TPLzPPwf9UeW/sc0//mEnOMac0T/E160ROMnUP/8T3JgBV9Y/ybsmdknz1j/OiVHhlT7YP+elXIV/htw/Dvyoshdq4j/mcD00MjPjP95GfqUIu+A/HgHpDUF+3D8HSZvuVkLXP4SQ2tbYc9M/k7f4mjyz0D+sCahE7XLMP3diwNKpSsc/9LrPDhAKwj84xwzi0oS6P4i3+6987LI/kY6dH4/sqz/X90nh7uaeP77x/OboxUO/MUUUUz8Alr+5Xr5dcUySv2sbr+Q7hUw/3OdAC+5Gij8o8XzWS8SXP+xNimU2eKA/KhqDtTtmpD+aGEJFlcinPyQHMyrxxao/9TtbLNV/rT/1hVBkNwewPxRc2uo4QrE/hw1GN8t1sj/NC2E9eaSzPyOQnhyd0LQ/v1TFXxf7tT/eaYfO7CG3P5DWOyRnQbg/QPNx0lhbuT+txI/CVG+6P9+BSZsIf7s/rOgPvVGNvD/llgX3nKG9P9PUZaTAwb4/QH0N72Pmvz/XHKoDimXAP5DyYvmneMA/JerwELYUwD/w7oAVWuG+PxzYSvGTwb0/PgXsBYY7vT92vWvYL2O9P0BO3TAV/b0/mngbpX/Nvj+K0pgIuMK/P038aoT2c8A/Qu5RQ/ovwT+NUCTCfELCPw5wkpuujsQ/\",\"dtype\":\"float64\",\"shape\":[75]},\"y\":{\"__ndarray__\":\"GhExyth1ND/Sv8nbtpRIP2vylNV0PVE/aTum7souWD/At0SJ8fVgPw3Iuahxymc/MSNhhJWvcD/bTfBN02d3P2zb5nxnaoA/CD5h5MAGhz8NmeH1TyaQP+zrCsc9p5Y/LbKd76fGnz/bLW5ISEmmPww9YvTcQq8/JV2OstnstT8Er5Y7M8G+P0c+r3jqkcU/5h99k6ZBzj88bCIzFzjVP4enV8oyxN0//yH99nXg5D8qOpLLf0jtP5kqGJXUifQ/c9cS8kHP/D+/DpwzojQEQIEmwoanVwxA4lgXt9HgE0BSSZ2AJuIbQAMJih9jjiNA5q4l5INuK0AwTKYKRj0zQNv5fmq8/DpAaCJseHrtQkB/+zpwzoxKQM3MzMzMeFJAZmZmZmZqWEAAAAAAAFxeQM3MzMzMJmJAmpmZmZkfZUBmZmZmZhhoQDMzMzMzEWtAAAAAAAAKbkBmZmZmZoFwQM3MzMzM/XFAMzMzMzN6c0CamZmZmfZ0QAAAAAAAc3ZAZmZmZmbvd0DNzMzMzGt5QDMzMzMz6HpAmpmZmZlkfEAAAAAAAOF9QGZmZmZmXX9AZmZmZuZsgECamZmZGSuBQM3MzMxM6YFAAAAAAICngkAzMzMzs2WDQGZmZmbmI4RAmpmZmRnihEDNzMzMTKCFQAAAAACAXoZAMzMzM7Mch0BmZmZm5tqHQJqZmZkZmYhAzczMzExXiUAAAAAAgBWKQDMzMzOz04pAZmZmZuaRi0CamZmZGVCMQM3MzMxMDo1AAAAAAIDMjUAzMzMzs4qOQGZmZmbmSI9A\",\"dtype\":\"float64\",\"shape\":[75]}}},\"id\":\"a9292809-148d-4887-9726-b20bb517c333\",\"type\":\"ColumnDataSource\"},{\"attributes\":{},\"id\":\"23041912-c877-4ed6-bd37-c48e63f66300\",\"type\":\"HelpTool\"},{\"attributes\":{\"plot\":{\"id\":\"3fda2398-be30-4802-916e-76893cbe1e18\",\"subtype\":\"Figure\",\"type\":\"Plot\"},\"ticker\":{\"id\":\"a24051e2-f7ce-48ce-9ef7-253383b1d6a2\",\"type\":\"BasicTicker\"}},\"id\":\"21b7e914-dec9-46eb-9ebb-a02d42126861\",\"type\":\"Grid\"},{\"attributes\":{},\"id\":\"07c8cd67-888e-4543-a353-74a2ee918be5\",\"type\":\"LinearScale\"},{\"attributes\":{\"source\":{\"id\":\"b8d8dd8f-291d-4363-9ac7-d0a4763efc6a\",\"type\":\"ColumnDataSource\"}},\"id\":\"31499f79-b952-4e25-8799-48e95d698786\",\"type\":\"CDSView\"},{\"attributes\":{\"fill_alpha\":{\"value\":0.1},\"fill_color\":{\"value\":\"#1f77b4\"},\"line_alpha\":{\"value\":0.1},\"line_color\":{\"value\":\"#1f77b4\"},\"x\":{\"field\":\"x\"},\"y\":{\"field\":\"y\"}},\"id\":\"a01a39e6-5393-464f-9421-880ad2802e02\",\"type\":\"Circle\"},{\"attributes\":{\"source\":{\"id\":\"a82354f0-8655-4d30-8199-0a5ead1435d4\",\"type\":\"ColumnDataSource\"}},\"id\":\"cf754c79-1945-496d-b71d-d6769d085e9f\",\"type\":\"CDSView\"},{\"attributes\":{\"data_source\":{\"id\":\"e404baa8-5b99-4ebf-92e7-b9852b138b57\",\"type\":\"ColumnDataSource\"},\"glyph\":{\"id\":\"1f5d797c-6672-46b7-8655-8ece6d0b3983\",\"type\":\"Line\"},\"hover_glyph\":null,\"muted_glyph\":null,\"nonselection_glyph\":{\"id\":\"6edc2f2b-99b9-4f70-89e1-3aa0340a1c33\",\"type\":\"Line\"},\"selection_glyph\":null,\"view\":{\"id\":\"83cdd1a4-83a5-497d-a659-c66eccdb8e72\",\"type\":\"CDSView\"}},\"id\":\"a47ce2ae-a1de-488e-95c3-ac648e1db932\",\"type\":\"GlyphRenderer\"},{\"attributes\":{},\"id\":\"85d7e203-8a6c-46e3-b93e-d8154fd4ec4e\",\"type\":\"LogScale\"},{\"attributes\":{\"callback\":null,\"end\":0.01,\"start\":1020},\"id\":\"7a7c648d-38d5-4f40-b02c-83e0bcd69226\",\"type\":\"Range1d\"},{\"attributes\":{},\"id\":\"4ee4362e-aec1-4ef5-ad90-e9a5487b8b7f\",\"type\":\"BasicTicker\"},{\"attributes\":{},\"id\":\"ecff2f49-a1f6-463b-a80f-ef580113f282\",\"type\":\"BasicTickFormatter\"},{\"attributes\":{},\"id\":\"c3583dbe-e58b-41bc-aca2-6e79025f2764\",\"type\":\"BasicTickFormatter\"},{\"attributes\":{\"axis_label\":\"cooling rate [K/day]\",\"formatter\":{\"id\":\"ecff2f49-a1f6-463b-a80f-ef580113f282\",\"type\":\"BasicTickFormatter\"},\"plot\":{\"id\":\"3fda2398-be30-4802-916e-76893cbe1e18\",\"subtype\":\"Figure\",\"type\":\"Plot\"},\"ticker\":{\"id\":\"a24051e2-f7ce-48ce-9ef7-253383b1d6a2\",\"type\":\"BasicTicker\"}},\"id\":\"186a1e85-aa6f-4de2-a5f3-6e7e9c02ea52\",\"type\":\"LinearAxis\"},{\"attributes\":{},\"id\":\"64f251d5-f07c-4ef4-aab4-949204407864\",\"type\":\"LinearScale\"},{\"attributes\":{\"data_source\":{\"id\":\"b9b94470-beb6-4d20-be50-2aeb36b8e074\",\"type\":\"ColumnDataSource\"},\"glyph\":{\"id\":\"c98e8d04-6c9a-41ae-87e4-2eb7d0a2bea4\",\"type\":\"Circle\"},\"hover_glyph\":null,\"muted_glyph\":null,\"nonselection_glyph\":{\"id\":\"a01a39e6-5393-464f-9421-880ad2802e02\",\"type\":\"Circle\"},\"selection_glyph\":null,\"view\":{\"id\":\"8a788b07-3591-4218-a415-a6aa35d2f5a4\",\"type\":\"CDSView\"}},\"id\":\"66f28dbe-58b1-440f-8e47-2fa96c24ca67\",\"type\":\"GlyphRenderer\"},{\"attributes\":{\"line_alpha\":0.1,\"line_color\":\"#1f77b4\",\"line_dash\":[6],\"line_width\":5,\"x\":{\"field\":\"x\"},\"y\":{\"field\":\"y\"}},\"id\":\"9a36187b-52fa-4f30-9b16-2d5d37cc396f\",\"type\":\"Line\"},{\"attributes\":{\"axis_label\":\"cooling rate [K/day]\",\"formatter\":{\"id\":\"c3583dbe-e58b-41bc-aca2-6e79025f2764\",\"type\":\"BasicTickFormatter\"},\"plot\":{\"id\":\"5850f6b9-d97f-4fd0-8bb2-34a4661a8342\",\"subtype\":\"Figure\",\"type\":\"Plot\"},\"ticker\":{\"id\":\"459e0211-e42b-4e12-9562-142280f46a25\",\"type\":\"BasicTicker\"}},\"id\":\"bfa253d6-1547-495a-b41a-54adfaecbe1c\",\"type\":\"LinearAxis\"},{\"attributes\":{},\"id\":\"905cef30-f54d-48b3-b48f-6f593f8159ec\",\"type\":\"PanTool\"},{\"attributes\":{\"ticker\":null},\"id\":\"f3597d12-6d17-4d07-95e5-aa9af755aa46\",\"type\":\"LogTickFormatter\"},{\"attributes\":{\"line_color\":\"#4daf4a\",\"line_width\":1.5,\"x\":{\"field\":\"x\"},\"y\":{\"field\":\"y\"}},\"id\":\"1f5d797c-6672-46b7-8655-8ece6d0b3983\",\"type\":\"Line\"},{\"attributes\":{},\"id\":\"a6c35aed-7c36-4a24-aa6a-90b5ab28b3cb\",\"type\":\"ResetTool\"},{\"attributes\":{\"fill_alpha\":{\"value\":0.7},\"fill_color\":{\"value\":\"#4daf4a\"},\"line_alpha\":{\"value\":0.7},\"line_color\":{\"value\":\"#4daf4a\"},\"x\":{\"field\":\"x\"},\"y\":{\"field\":\"y\"}},\"id\":\"c98e8d04-6c9a-41ae-87e4-2eb7d0a2bea4\",\"type\":\"Circle\"},{\"attributes\":{},\"id\":\"4297b40a-b712-4622-9ef3-b917ed622947\",\"type\":\"WheelZoomTool\"},{\"attributes\":{\"active_drag\":\"auto\",\"active_inspect\":\"auto\",\"active_scroll\":\"auto\",\"active_tap\":\"auto\",\"tools\":[{\"id\":\"e27903a5-75ca-4629-a4bf-52bebb18d982\",\"type\":\"PanTool\"},{\"id\":\"8a00b835-13d6-4f54-9d56-78e54689d0fa\",\"type\":\"WheelZoomTool\"},{\"id\":\"55d0c5f8-e25f-4514-bd49-5ebcdbb04648\",\"type\":\"BoxZoomTool\"},{\"id\":\"24be1a18-c30c-4dde-900a-663382760442\",\"type\":\"SaveTool\"},{\"id\":\"a6c35aed-7c36-4a24-aa6a-90b5ab28b3cb\",\"type\":\"ResetTool\"},{\"id\":\"23041912-c877-4ed6-bd37-c48e63f66300\",\"type\":\"HelpTool\"}]},\"id\":\"5dbededf-bc39-4ed7-ba88-d721597f3c44\",\"type\":\"Toolbar\"},{\"attributes\":{\"line_alpha\":0.1,\"line_color\":\"#1f77b4\",\"line_width\":1.5,\"x\":{\"field\":\"x\"},\"y\":{\"field\":\"y\"}},\"id\":\"6edc2f2b-99b9-4f70-89e1-3aa0340a1c33\",\"type\":\"Line\"},{\"attributes\":{\"children\":[{\"id\":\"5850f6b9-d97f-4fd0-8bb2-34a4661a8342\",\"subtype\":\"Figure\",\"type\":\"Plot\"},{\"id\":\"3fda2398-be30-4802-916e-76893cbe1e18\",\"subtype\":\"Figure\",\"type\":\"Plot\"}]},\"id\":\"00de44cd-2a8b-47d4-b7a9-95aabf3671cb\",\"type\":\"Row\"},{\"attributes\":{},\"id\":\"09f8bee7-2bf4-49ae-a983-ad678d341eb5\",\"type\":\"BasicTickFormatter\"},{\"attributes\":{\"callback\":null,\"column_names\":[\"x\",\"y\"],\"data\":{\"x\":{\"__ndarray__\":\"diGPdMOd1T/+lINadMTVP609/a6Jn9Y/2Gj0t8Zr1z+ah2Zv5iDYP3AFNOZps9g/GhwdLpsa2T+49ATZ80XZPxCPNCkEIdk/ULah2/ST2D8KQT+MpHvXP1XOr+wdwtU/REIE3yox0z+1jp3TPLzPPwf9UeW/sc0//mEnOMac0T/E160ROMnUP/8T3JgBV9Y/ybsmdknz1j/OiVHhlT7YP+elXIV/htw/Dvyoshdq4j/mcD00MjPjP95GfqUIu+A/HgHpDUF+3D8HSZvuVkLXP4SQ2tbYc9M/k7f4mjyz0D+sCahE7XLMP3diwNKpSsc/9LrPDhAKwj84xwzi0oS6P4i3+6987LI/kY6dH4/sqz/X90nh7uaeP77x/OboxUO/MUUUUz8Alr+5Xr5dcUySv2sbr+Q7hUw/3OdAC+5Gij8o8XzWS8SXP+xNimU2eKA/KhqDtTtmpD+aGEJFlcinPyQHMyrxxao/9TtbLNV/rT/1hVBkNwewPxRc2uo4QrE/hw1GN8t1sj/NC2E9eaSzPyOQnhyd0LQ/v1TFXxf7tT/eaYfO7CG3P5DWOyRnQbg/QPNx0lhbuT+txI/CVG+6P9+BSZsIf7s/rOgPvVGNvD/llgX3nKG9P9PUZaTAwb4/QH0N72Pmvz/XHKoDimXAP5DyYvmneMA/JerwELYUwD/w7oAVWuG+PxzYSvGTwb0/PgXsBYY7vT92vWvYL2O9P0BO3TAV/b0/mngbpX/Nvj+K0pgIuMK/P038aoT2c8A/Qu5RQ/ovwT+NUCTCfELCPw5wkpuujsQ/\",\"dtype\":\"float64\",\"shape\":[75]},\"y\":{\"__ndarray__\":\"GhExyth1ND/Sv8nbtpRIP2vylNV0PVE/aTum7souWD/At0SJ8fVgPw3Iuahxymc/MSNhhJWvcD/bTfBN02d3P2zb5nxnaoA/CD5h5MAGhz8NmeH1TyaQP+zrCsc9p5Y/LbKd76fGnz/bLW5ISEmmPww9YvTcQq8/JV2OstnstT8Er5Y7M8G+P0c+r3jqkcU/5h99k6ZBzj88bCIzFzjVP4enV8oyxN0//yH99nXg5D8qOpLLf0jtP5kqGJXUifQ/c9cS8kHP/D+/DpwzojQEQIEmwoanVwxA4lgXt9HgE0BSSZ2AJuIbQAMJih9jjiNA5q4l5INuK0AwTKYKRj0zQNv5fmq8/DpAaCJseHrtQkB/+zpwzoxKQM3MzMzMeFJAZmZmZmZqWEAAAAAAAFxeQM3MzMzMJmJAmpmZmZkfZUBmZmZmZhhoQDMzMzMzEWtAAAAAAAAKbkBmZmZmZoFwQM3MzMzM/XFAMzMzMzN6c0CamZmZmfZ0QAAAAAAAc3ZAZmZmZmbvd0DNzMzMzGt5QDMzMzMz6HpAmpmZmZlkfEAAAAAAAOF9QGZmZmZmXX9AZmZmZuZsgECamZmZGSuBQM3MzMxM6YFAAAAAAICngkAzMzMzs2WDQGZmZmbmI4RAmpmZmRnihEDNzMzMTKCFQAAAAACAXoZAMzMzM7Mch0BmZmZm5tqHQJqZmZkZmYhAzczMzExXiUAAAAAAgBWKQDMzMzOz04pAZmZmZuaRi0CamZmZGVCMQM3MzMxMDo1AAAAAAIDMjUAzMzMzs4qOQGZmZmbmSI9A\",\"dtype\":\"float64\",\"shape\":[75]}}},\"id\":\"f3fe654b-1e2f-49b3-a0b4-971c55742f69\",\"type\":\"ColumnDataSource\"},{\"attributes\":{\"bottom_units\":\"screen\",\"fill_alpha\":{\"value\":0.5},\"fill_color\":{\"value\":\"lightgrey\"},\"left_units\":\"screen\",\"level\":\"overlay\",\"line_alpha\":{\"value\":1.0},\"line_color\":{\"value\":\"black\"},\"line_dash\":[4,4],\"line_width\":{\"value\":2},\"plot\":null,\"render_mode\":\"css\",\"right_units\":\"screen\",\"top_units\":\"screen\"},\"id\":\"e305ac95-fe18-4081-87ac-af554440cdd2\",\"type\":\"BoxAnnotation\"},{\"attributes\":{\"axis_label\":\"pressure [mb]\",\"formatter\":{\"id\":\"09f8bee7-2bf4-49ae-a983-ad678d341eb5\",\"type\":\"BasicTickFormatter\"},\"plot\":{\"id\":\"5850f6b9-d97f-4fd0-8bb2-34a4661a8342\",\"subtype\":\"Figure\",\"type\":\"Plot\"},\"ticker\":{\"id\":\"4ee4362e-aec1-4ef5-ad90-e9a5487b8b7f\",\"type\":\"BasicTicker\"}},\"id\":\"ad5b02db-1244-4542-a10b-3e88e96c2c45\",\"type\":\"LinearAxis\"},{\"attributes\":{\"dimension\":1,\"plot\":{\"id\":\"3fda2398-be30-4802-916e-76893cbe1e18\",\"subtype\":\"Figure\",\"type\":\"Plot\"},\"ticker\":{\"id\":\"33fcdd89-a547-47ee-b496-3b4dd7daa411\",\"type\":\"LogTicker\"}},\"id\":\"2544ab81-258a-4340-b71b-346b23fa24be\",\"type\":\"Grid\"},{\"attributes\":{\"source\":{\"id\":\"e404baa8-5b99-4ebf-92e7-b9852b138b57\",\"type\":\"ColumnDataSource\"}},\"id\":\"83cdd1a4-83a5-497d-a659-c66eccdb8e72\",\"type\":\"CDSView\"},{\"attributes\":{\"fill_alpha\":{\"value\":0.7},\"fill_color\":{\"value\":\"#984ea3\"},\"line_alpha\":{\"value\":0.7},\"line_color\":{\"value\":\"#984ea3\"},\"x\":{\"field\":\"x\"},\"y\":{\"field\":\"y\"}},\"id\":\"8c06afd0-66a3-4dfe-8065-d255fcc808df\",\"type\":\"Square\"},{\"attributes\":{\"callback\":null,\"end\":0.6307361866800001,\"start\":-0.02905251468},\"id\":\"9bd979a3-98d1-4d2b-8d36-dc77b767b2cc\",\"type\":\"Range1d\"},{\"attributes\":{\"fill_alpha\":{\"value\":0.1},\"fill_color\":{\"value\":\"#1f77b4\"},\"line_alpha\":{\"value\":0.1},\"line_color\":{\"value\":\"#1f77b4\"},\"x\":{\"field\":\"x\"},\"y\":{\"field\":\"y\"}},\"id\":\"29785a28-5173-4446-bf53-abff9a79a380\",\"type\":\"Square\"},{\"attributes\":{\"bottom_units\":\"screen\",\"fill_alpha\":{\"value\":0.5},\"fill_color\":{\"value\":\"lightgrey\"},\"left_units\":\"screen\",\"level\":\"overlay\",\"line_alpha\":{\"value\":1.0},\"line_color\":{\"value\":\"black\"},\"line_dash\":[4,4],\"line_width\":{\"value\":2},\"plot\":null,\"render_mode\":\"css\",\"right_units\":\"screen\",\"top_units\":\"screen\"},\"id\":\"7f852b03-2bb3-4631-b072-4f94e5f6f0f0\",\"type\":\"BoxAnnotation\"},{\"attributes\":{\"data_source\":{\"id\":\"a9292809-148d-4887-9726-b20bb517c333\",\"type\":\"ColumnDataSource\"},\"glyph\":{\"id\":\"8c06afd0-66a3-4dfe-8065-d255fcc808df\",\"type\":\"Square\"},\"hover_glyph\":null,\"muted_glyph\":null,\"nonselection_glyph\":{\"id\":\"29785a28-5173-4446-bf53-abff9a79a380\",\"type\":\"Square\"},\"selection_glyph\":null,\"view\":{\"id\":\"e5612ee6-f255-4bcc-abd9-aec28ea0757b\",\"type\":\"CDSView\"}},\"id\":\"2af958bc-febc-4ecb-a2a5-5119bd2c7c4a\",\"type\":\"GlyphRenderer\"},{\"attributes\":{\"source\":{\"id\":\"42ba87fc-c8ff-44dd-93c3-e33edabcdfcd\",\"type\":\"ColumnDataSource\"}},\"id\":\"7a4da36e-5344-4167-95d4-eb77ef637a0e\",\"type\":\"CDSView\"},{\"attributes\":{\"source\":{\"id\":\"a9292809-148d-4887-9726-b20bb517c333\",\"type\":\"ColumnDataSource\"}},\"id\":\"e5612ee6-f255-4bcc-abd9-aec28ea0757b\",\"type\":\"CDSView\"},{\"attributes\":{},\"id\":\"459e0211-e42b-4e12-9562-142280f46a25\",\"type\":\"BasicTicker\"},{\"attributes\":{\"line_alpha\":0.6,\"line_color\":\"#984ea3\",\"line_width\":3,\"x\":{\"field\":\"x\"},\"y\":{\"field\":\"y\"}},\"id\":\"ab61c850-40c4-42cf-805f-2a46e834eb40\",\"type\":\"Line\"},{\"attributes\":{\"toolbar\":{\"id\":\"2bdb59e4-1e3d-4e00-8839-82c2d4823bb3\",\"type\":\"ProxyToolbar\"},\"toolbar_location\":\"above\"},\"id\":\"08d033c5-f87e-447e-8ade-2779f3c04b6f\",\"type\":\"ToolbarBox\"},{\"attributes\":{},\"id\":\"8a00b835-13d6-4f54-9d56-78e54689d0fa\",\"type\":\"WheelZoomTool\"},{\"attributes\":{\"line_alpha\":0.1,\"line_color\":\"#1f77b4\",\"line_width\":3,\"x\":{\"field\":\"x\"},\"y\":{\"field\":\"y\"}},\"id\":\"506cb076-c57c-4508-bd74-8df684d5d6ff\",\"type\":\"Line\"},{\"attributes\":{\"dimension\":1,\"plot\":{\"id\":\"5850f6b9-d97f-4fd0-8bb2-34a4661a8342\",\"subtype\":\"Figure\",\"type\":\"Plot\"},\"ticker\":{\"id\":\"4ee4362e-aec1-4ef5-ad90-e9a5487b8b7f\",\"type\":\"BasicTicker\"}},\"id\":\"5387432d-c6f3-4d38-a317-79cb28dadad7\",\"type\":\"Grid\"},{\"attributes\":{\"data_source\":{\"id\":\"f3fe654b-1e2f-49b3-a0b4-971c55742f69\",\"type\":\"ColumnDataSource\"},\"glyph\":{\"id\":\"ab61c850-40c4-42cf-805f-2a46e834eb40\",\"type\":\"Line\"},\"hover_glyph\":null,\"muted_glyph\":null,\"nonselection_glyph\":{\"id\":\"506cb076-c57c-4508-bd74-8df684d5d6ff\",\"type\":\"Line\"},\"selection_glyph\":null,\"view\":{\"id\":\"8765ac60-e070-41d7-8153-9f451532648f\",\"type\":\"CDSView\"}},\"id\":\"386aa069-861c-49fe-9231-6509e08358dd\",\"type\":\"GlyphRenderer\"},{\"attributes\":{\"callback\":null,\"column_names\":[\"x\",\"y\"],\"data\":{\"x\":{\"__ndarray__\":\"AFv7jiPO2D//gUlcjc3YP0pWsFPNqNk/UNsrmJ1q2j9CP5XLLQrbP/MUQbUkdNs/+xpR87ic2z/LOB0zFm7bP2KdKt8z0to/mEOcmD+w2T8apAE4ze3XP/XQBKtmbdU/ktXnSR0N0j+ON+CQmc3LP+uJMkTjw8g/0ac8V+dazj8adFuFQdfSPxfLPtneeNU/kdM6HvGz1z90zQWqVpHaP0Y/noY9p98/+0u9NGbu4z8wNFMxAPrjPyQHsr9oxuA/syAYMBZA3D9Kx8XmHcbWP1L1ZUiZfdI/1RbHFrxHzj8+wKRChp/IP4bRg+3tt8M/DWWP7Qjpvj8mHJuZcJq3Px7TsmzokbE/dKS5acH4qT/X8l1ZiF+aP20MidUJ6m+/Aa5Kc0Igl7+vyAjYqRqUvxdkm7lfvGm/yYx0nYbjfj/RWCa8N5iRP7ZFGI0c7Jo/MfFy0cPioT+TnFhPyROmP11VD/uxB6o/wfJNvsy8rT9qw2vbU5mwPx7NvhbnNLI/m4ezJSKxsz8Wb4rlmw+1P7WZY6mQU7Y/tFNpR05/tz8ZkC805pS4P1PEwVyNl7k/OAysBAeLuj9Msw6BAnO7P9GqXMkKVbw/EOO55444vT8p+UP5oyS+P3hNQPrDIr8/1++R5vITwD/wUfuEHnfAP+7YnSjoesA/UYxFNgQFwD9dPxYFbpu+P++0kNuKWL0/vI7+uHm6vD9Z5VuCANe8P9Vnvc48b70/PGtUM61Fvj8IBu8vq0W/P5Q/rdzqPcA/QEQwLzwGwT8tFOENBirCP8sMwKuKlcQ/\",\"dtype\":\"float64\",\"shape\":[75]},\"y\":{\"__ndarray__\":\"GhExyth1ND/Sv8nbtpRIP2vylNV0PVE/aTum7souWD/At0SJ8fVgPw3Iuahxymc/MSNhhJWvcD/bTfBN02d3P2zb5nxnaoA/CD5h5MAGhz8NmeH1TyaQP+zrCsc9p5Y/LbKd76fGnz/bLW5ISEmmPww9YvTcQq8/JV2OstnstT8Er5Y7M8G+P0c+r3jqkcU/5h99k6ZBzj88bCIzFzjVP4enV8oyxN0//yH99nXg5D8qOpLLf0jtP5kqGJXUifQ/c9cS8kHP/D+/DpwzojQEQIEmwoanVwxA4lgXt9HgE0BSSZ2AJuIbQAMJih9jjiNA5q4l5INuK0AwTKYKRj0zQNv5fmq8/DpAaCJseHrtQkB/+zpwzoxKQM3MzMzMeFJAZmZmZmZqWEAAAAAAAFxeQM3MzMzMJmJAmpmZmZkfZUBmZmZmZhhoQDMzMzMzEWtAAAAAAAAKbkBmZmZmZoFwQM3MzMzM/XFAMzMzMzN6c0CamZmZmfZ0QAAAAAAAc3ZAZmZmZmbvd0DNzMzMzGt5QDMzMzMz6HpAmpmZmZlkfEAAAAAAAOF9QGZmZmZmXX9AZmZmZuZsgECamZmZGSuBQM3MzMxM6YFAAAAAAICngkAzMzMzs2WDQGZmZmbmI4RAmpmZmRnihEDNzMzMTKCFQAAAAACAXoZAMzMzM7Mch0BmZmZm5tqHQJqZmZkZmYhAzczMzExXiUAAAAAAgBWKQDMzMzOz04pAZmZmZuaRi0CamZmZGVCMQM3MzMxMDo1AAAAAAIDMjUAzMzMzs4qOQGZmZmbmSI9A\",\"dtype\":\"float64\",\"shape\":[75]}}},\"id\":\"0bd83c4f-38de-42cd-a0ca-a207e34d04f3\",\"type\":\"ColumnDataSource\"},{\"attributes\":{\"line_alpha\":0.6,\"line_color\":\"#e41a1c\",\"line_dash\":[6],\"line_width\":5,\"x\":{\"field\":\"x\"},\"y\":{\"field\":\"y\"}},\"id\":\"c78f872f-faf2-4c54-82f8-ea3198f85c54\",\"type\":\"Line\"},{\"attributes\":{\"source\":{\"id\":\"f3fe654b-1e2f-49b3-a0b4-971c55742f69\",\"type\":\"ColumnDataSource\"}},\"id\":\"8765ac60-e070-41d7-8153-9f451532648f\",\"type\":\"CDSView\"},{\"attributes\":{\"items\":[{\"id\":\"55583d90-13cc-495b-a29c-725f6953586e\",\"type\":\"LegendItem\"},{\"id\":\"969fe1ee-1e9b-4a12-bab1-2958a6f7a56d\",\"type\":\"LegendItem\"},{\"id\":\"e4985531-ed55-433c-9e34-27cde0a52375\",\"type\":\"LegendItem\"}],\"label_text_font_size\":{\"value\":\"8pt\"},\"location\":[10,-30],\"plot\":{\"id\":\"3fda2398-be30-4802-916e-76893cbe1e18\",\"subtype\":\"Figure\",\"type\":\"Plot\"}},\"id\":\"36302538-e333-4f66-aef6-8a79b94a504c\",\"type\":\"Legend\"},{\"attributes\":{\"tools\":[{\"id\":\"e27903a5-75ca-4629-a4bf-52bebb18d982\",\"type\":\"PanTool\"},{\"id\":\"8a00b835-13d6-4f54-9d56-78e54689d0fa\",\"type\":\"WheelZoomTool\"},{\"id\":\"55d0c5f8-e25f-4514-bd49-5ebcdbb04648\",\"type\":\"BoxZoomTool\"},{\"id\":\"24be1a18-c30c-4dde-900a-663382760442\",\"type\":\"SaveTool\"},{\"id\":\"a6c35aed-7c36-4a24-aa6a-90b5ab28b3cb\",\"type\":\"ResetTool\"},{\"id\":\"23041912-c877-4ed6-bd37-c48e63f66300\",\"type\":\"HelpTool\"},{\"id\":\"905cef30-f54d-48b3-b48f-6f593f8159ec\",\"type\":\"PanTool\"},{\"id\":\"4297b40a-b712-4622-9ef3-b917ed622947\",\"type\":\"WheelZoomTool\"},{\"id\":\"e6caf574-906b-4849-a24a-650f177a7d4b\",\"type\":\"BoxZoomTool\"},{\"id\":\"d3701343-15ec-4a9c-a000-8a7ca7d87648\",\"type\":\"SaveTool\"},{\"id\":\"64311b71-059f-4168-a4e9-af528a2be7f2\",\"type\":\"ResetTool\"},{\"id\":\"70ccfcca-12f8-4474-940e-f1e407a65c16\",\"type\":\"HelpTool\"}]},\"id\":\"2bdb59e4-1e3d-4e00-8839-82c2d4823bb3\",\"type\":\"ProxyToolbar\"},{\"attributes\":{\"fill_alpha\":{\"value\":0.1},\"fill_color\":{\"value\":\"#1f77b4\"},\"line_alpha\":{\"value\":0.1},\"line_color\":{\"value\":\"#1f77b4\"},\"x\":{\"field\":\"x\"},\"y\":{\"field\":\"y\"}},\"id\":\"14cf0de1-e11f-4590-88c6-e1d82c9545bd\",\"type\":\"Circle\"},{\"attributes\":{\"label\":{\"value\":\"CRD\"},\"renderers\":[{\"id\":\"66f28dbe-58b1-440f-8e47-2fa96c24ca67\",\"type\":\"GlyphRenderer\"},{\"id\":\"a47ce2ae-a1de-488e-95c3-ac648e1db932\",\"type\":\"GlyphRenderer\"}]},\"id\":\"969fe1ee-1e9b-4a12-bab1-2958a6f7a56d\",\"type\":\"LegendItem\"},{\"attributes\":{},\"id\":\"24be1a18-c30c-4dde-900a-663382760442\",\"type\":\"SaveTool\"},{\"attributes\":{\"label\":{\"value\":\"CLIRAD `coolr_bands`\"},\"renderers\":[{\"id\":\"bc83a987-143f-448e-b7b4-ed141d018470\",\"type\":\"GlyphRenderer\"}]},\"id\":\"55583d90-13cc-495b-a29c-725f6953586e\",\"type\":\"LegendItem\"},{\"attributes\":{\"children\":[{\"id\":\"08d033c5-f87e-447e-8ade-2779f3c04b6f\",\"type\":\"ToolbarBox\"},{\"id\":\"8eb1263d-dab3-423b-9a07-041bfb2989a0\",\"type\":\"Column\"}]},\"id\":\"89d36a90-c182-434a-8d28-39fc7a21b2fe\",\"type\":\"Column\"},{\"attributes\":{},\"id\":\"70ccfcca-12f8-4474-940e-f1e407a65c16\",\"type\":\"HelpTool\"},{\"attributes\":{\"callback\":null,\"end\":0.01,\"start\":1020},\"id\":\"d3efe53b-a317-483a-b4a6-4beccbd41a6f\",\"type\":\"Range1d\"},{\"attributes\":{\"label\":{\"value\":\"WGT igg=10 wgt_flux=2\"},\"renderers\":[{\"id\":\"2af958bc-febc-4ecb-a2a5-5119bd2c7c4a\",\"type\":\"GlyphRenderer\"},{\"id\":\"386aa069-861c-49fe-9231-6509e08358dd\",\"type\":\"GlyphRenderer\"}]},\"id\":\"e4985531-ed55-433c-9e34-27cde0a52375\",\"type\":\"LegendItem\"},{\"attributes\":{},\"id\":\"a20e550c-42f4-412a-b43f-8ba59119be5a\",\"type\":\"LinearScale\"},{\"attributes\":{\"callback\":null,\"column_names\":[\"x\",\"y\"],\"data\":{\"x\":{\"__ndarray__\":\"AFv7jiPO2D//gUlcjc3YP0pWsFPNqNk/UNsrmJ1q2j9CP5XLLQrbP/MUQbUkdNs/+xpR87ic2z/LOB0zFm7bP2KdKt8z0to/mEOcmD+w2T8apAE4ze3XP/XQBKtmbdU/ktXnSR0N0j+ON+CQmc3LP+uJMkTjw8g/0ac8V+dazj8adFuFQdfSPxfLPtneeNU/kdM6HvGz1z90zQWqVpHaP0Y/noY9p98/+0u9NGbu4z8wNFMxAPrjPyQHsr9oxuA/syAYMBZA3D9Kx8XmHcbWP1L1ZUiZfdI/1RbHFrxHzj8+wKRChp/IP4bRg+3tt8M/DWWP7Qjpvj8mHJuZcJq3Px7TsmzokbE/dKS5acH4qT/X8l1ZiF+aP20MidUJ6m+/Aa5Kc0Igl7+vyAjYqRqUvxdkm7lfvGm/yYx0nYbjfj/RWCa8N5iRP7ZFGI0c7Jo/MfFy0cPioT+TnFhPyROmP11VD/uxB6o/wfJNvsy8rT9qw2vbU5mwPx7NvhbnNLI/m4ezJSKxsz8Wb4rlmw+1P7WZY6mQU7Y/tFNpR05/tz8ZkC805pS4P1PEwVyNl7k/OAysBAeLuj9Msw6BAnO7P9GqXMkKVbw/EOO55444vT8p+UP5oyS+P3hNQPrDIr8/1++R5vITwD/wUfuEHnfAP+7YnSjoesA/UYxFNgQFwD9dPxYFbpu+P++0kNuKWL0/vI7+uHm6vD9Z5VuCANe8P9Vnvc48b70/PGtUM61Fvj8IBu8vq0W/P5Q/rdzqPcA/QEQwLzwGwT8tFOENBirCP8sMwKuKlcQ/\",\"dtype\":\"float64\",\"shape\":[75]},\"y\":{\"__ndarray__\":\"GhExyth1ND/Sv8nbtpRIP2vylNV0PVE/aTum7souWD/At0SJ8fVgPw3Iuahxymc/MSNhhJWvcD/bTfBN02d3P2zb5nxnaoA/CD5h5MAGhz8NmeH1TyaQP+zrCsc9p5Y/LbKd76fGnz/bLW5ISEmmPww9YvTcQq8/JV2OstnstT8Er5Y7M8G+P0c+r3jqkcU/5h99k6ZBzj88bCIzFzjVP4enV8oyxN0//yH99nXg5D8qOpLLf0jtP5kqGJXUifQ/c9cS8kHP/D+/DpwzojQEQIEmwoanVwxA4lgXt9HgE0BSSZ2AJuIbQAMJih9jjiNA5q4l5INuK0AwTKYKRj0zQNv5fmq8/DpAaCJseHrtQkB/+zpwzoxKQM3MzMzMeFJAZmZmZmZqWEAAAAAAAFxeQM3MzMzMJmJAmpmZmZkfZUBmZmZmZhhoQDMzMzMzEWtAAAAAAAAKbkBmZmZmZoFwQM3MzMzM/XFAMzMzMzN6c0CamZmZmfZ0QAAAAAAAc3ZAZmZmZmbvd0DNzMzMzGt5QDMzMzMz6HpAmpmZmZlkfEAAAAAAAOF9QGZmZmZmXX9AZmZmZuZsgECamZmZGSuBQM3MzMxM6YFAAAAAAICngkAzMzMzs2WDQGZmZmbmI4RAmpmZmRnihEDNzMzMTKCFQAAAAACAXoZAMzMzM7Mch0BmZmZm5tqHQJqZmZkZmYhAzczMzExXiUAAAAAAgBWKQDMzMzOz04pAZmZmZuaRi0CamZmZGVCMQM3MzMxMDo1AAAAAAIDMjUAzMzMzs4qOQGZmZmbmSI9A\",\"dtype\":\"float64\",\"shape\":[75]}}},\"id\":\"b9b94470-beb6-4d20-be50-2aeb36b8e074\",\"type\":\"ColumnDataSource\"},{\"attributes\":{\"axis_label\":\"pressure [mb]\",\"formatter\":{\"id\":\"f3597d12-6d17-4d07-95e5-aa9af755aa46\",\"type\":\"LogTickFormatter\"},\"plot\":{\"id\":\"3fda2398-be30-4802-916e-76893cbe1e18\",\"subtype\":\"Figure\",\"type\":\"Plot\"},\"ticker\":{\"id\":\"33fcdd89-a547-47ee-b496-3b4dd7daa411\",\"type\":\"LogTicker\"}},\"id\":\"4291a881-d354-4422-8bd4-8308c6756ac2\",\"type\":\"LogAxis\"},{\"attributes\":{\"plot\":{\"id\":\"5850f6b9-d97f-4fd0-8bb2-34a4661a8342\",\"subtype\":\"Figure\",\"type\":\"Plot\"},\"ticker\":{\"id\":\"459e0211-e42b-4e12-9562-142280f46a25\",\"type\":\"BasicTicker\"}},\"id\":\"be8b3915-2266-4156-9bf8-a19294d49e4a\",\"type\":\"Grid\"},{\"attributes\":{},\"id\":\"a24051e2-f7ce-48ce-9ef7-253383b1d6a2\",\"type\":\"BasicTicker\"},{\"attributes\":{\"callback\":null,\"column_names\":[\"x\",\"y\"],\"data\":{\"x\":{\"__ndarray__\":\"EJdWItS1zj9NQ55u6k3PPw69pLWSa9A/FNbfdao60T8KECZBjwPSP/VhpLSKwNI/LCD+q9hp0z9s+ZLXlPXTP+ppVYXlU9Q/tC5/z1lw1D/5QWUVmS3UP1/Dwv8MZdM/ET1CMLvl0T8d3+amMGPPPyjcRJD36M4/pRjetDKE0j+mb4inDb3VPx6nCVcX4tY/8SYicOJz1j/0rP/OUaLWP/WXBhO5f9o/Fz2eM/Wc4T+JkladUcriPwlK2TsGmOA/2BJuCStb3D99bUeCuhLXP9RmGE4Ed9M/qKjZh+Xk0D9+VngbxBzNPxlUPKpxocc/oWKDImn5wT80+UWNMrC5PzhuKc7unLE/0Dvo7kdFqT8l9FFLFbqcP1Sv+XNpayW/Ro+EIoIWlb+/1YFGxQySv97GhHHqqDG/51eZRwMahj8VDAoqekWVP2jCsnY0Pp4/KDoedWzroj8wIgPZ6CWmPwip7bwTB6k/MA5hDhiqqz/Lt9EPCTCuPzzKvrRzXbA/KGM6fOumsT+Rq/iJevayP7V3X/g1ULQ/s1YDgKKztT/ETAOIgBi3PwzHd1L0erg/p7Nys2jPuT+zZ+gCCx67P7EJvNVrYbw/JP5yd+eavT+0y1QU8c6+P7DDPTuFAcA/Ke70WjuXwD8Qihg8bQnBPzYb8YVFHME/Go+twsG5wD+k9LfKNBbAP2vwnRwuB78/uGRNE1N1vj+1KtN5nom+Pz6PF/PvCr8/3/Oqa0DGvz/+ddl1kFPAP34kX+iV28A/aO1T4RGNwT+kzEBE7pLCP7kHtoRbwsQ/\",\"dtype\":\"float64\",\"shape\":[75]},\"y\":{\"__ndarray__\":\"S/O/Q+51ND/Sv8nbtpRIP2vylNV0PVE/aTum7souWD/At0SJ8fVgPw3Iuahxymc/MSNhhJWvcD/bTfBN02d3P2zb5nxnaoA/CD5h5MAGhz8NmeH1TyaQP+zrCsc9p5Y/LbKd76fGnz/bLW5ISEmmPww9YvTcQq8/JV2OstnstT8Er5Y7M8G+P0c+r3jqkcU/5h99k6ZBzj88bCIzFzjVP4enV8oyxN0//yH99nXg5D8qOpLLf0jtP5kqGJXUifQ/c9cS8kHP/D+/DpwzojQEQIEmwoanVwxA4lgXt9HgE0BSSZ2AJuIbQAMJih9jjiNA5q4l5INuK0AwTKYKRj0zQNv5fmq8/DpAaCJseHrtQkB/+zpwzoxKQM3MzMzMeFJAZmZmZmZqWEAAAAAAAFxeQM3MzMzMJmJAmpmZmZkfZUBmZmZmZhhoQDMzMzMzEWtAAAAAAAAKbkBmZmZmZoFwQM3MzMzM/XFAMzMzMzN6c0CamZmZmfZ0QAAAAAAAc3ZAZmZmZmbvd0DNzMzMzGt5QDMzMzMz6HpAmpmZmZlkfEAAAAAAAOF9QGZmZmZmXX9AZmZmZuZsgECamZmZGSuBQM3MzMxM6YFAAAAAAICngkAzMzMzs2WDQGZmZmbmI4RAmpmZmRnihEDNzMzMTKCFQAAAAACAXoZAMzMzM7Mch0BmZmZm5tqHQJqZmZkZmYhAzczMzExXiUAAAAAAgBWKQDMzMzOz04pAZmZmZuaRi0CamZmZGVCMQM3MzMxMDo1AAAAAAIDMjUAzMzMzs4qOQGZmZmbmSI9A\",\"dtype\":\"float64\",\"shape\":[75]}}},\"id\":\"42ba87fc-c8ff-44dd-93c3-e33edabcdfcd\",\"type\":\"ColumnDataSource\"},{\"attributes\":{},\"id\":\"d3701343-15ec-4a9c-a000-8a7ca7d87648\",\"type\":\"SaveTool\"},{\"attributes\":{\"children\":[{\"id\":\"00de44cd-2a8b-47d4-b7a9-95aabf3671cb\",\"type\":\"Row\"}]},\"id\":\"8eb1263d-dab3-423b-9a07-041bfb2989a0\",\"type\":\"Column\"},{\"attributes\":{\"below\":[{\"id\":\"bfa253d6-1547-495a-b41a-54adfaecbe1c\",\"type\":\"LinearAxis\"}],\"left\":[{\"id\":\"ad5b02db-1244-4542-a10b-3e88e96c2c45\",\"type\":\"LinearAxis\"}],\"plot_height\":500,\"plot_width\":400,\"renderers\":[{\"id\":\"bfa253d6-1547-495a-b41a-54adfaecbe1c\",\"type\":\"LinearAxis\"},{\"id\":\"be8b3915-2266-4156-9bf8-a19294d49e4a\",\"type\":\"Grid\"},{\"id\":\"ad5b02db-1244-4542-a10b-3e88e96c2c45\",\"type\":\"LinearAxis\"},{\"id\":\"5387432d-c6f3-4d38-a317-79cb28dadad7\",\"type\":\"Grid\"},{\"id\":\"7f852b03-2bb3-4631-b072-4f94e5f6f0f0\",\"type\":\"BoxAnnotation\"},{\"id\":\"bc12d694-fa14-4c3a-a232-5676e179cca5\",\"type\":\"GlyphRenderer\"},{\"id\":\"26694e84-d52b-4275-92d3-427a9df7e957\",\"type\":\"GlyphRenderer\"},{\"id\":\"6056f51b-dd5e-4383-9ad2-1d9d99f94c6f\",\"type\":\"GlyphRenderer\"},{\"id\":\"4c00568e-a41e-4d5b-814b-4b50b3d199e7\",\"type\":\"GlyphRenderer\"},{\"id\":\"ba3565fe-c474-4912-9a1b-cbc9bbebe0f7\",\"type\":\"GlyphRenderer\"}],\"title\":{\"id\":\"1e5ff0ae-4699-4f51-875f-8ba75879fb0e\",\"type\":\"Title\"},\"toolbar\":{\"id\":\"5dbededf-bc39-4ed7-ba88-d721597f3c44\",\"type\":\"Toolbar\"},\"toolbar_location\":null,\"x_range\":{\"id\":\"0ab61525-43ab-4273-b0a5-e9e7d4ac68c0\",\"type\":\"Range1d\"},\"x_scale\":{\"id\":\"64f251d5-f07c-4ef4-aab4-949204407864\",\"type\":\"LinearScale\"},\"y_range\":{\"id\":\"d3efe53b-a317-483a-b4a6-4beccbd41a6f\",\"type\":\"Range1d\"},\"y_scale\":{\"id\":\"a20e550c-42f4-412a-b43f-8ba59119be5a\",\"type\":\"LinearScale\"}},\"id\":\"5850f6b9-d97f-4fd0-8bb2-34a4661a8342\",\"subtype\":\"Figure\",\"type\":\"Plot\"},{\"attributes\":{},\"id\":\"64311b71-059f-4168-a4e9-af528a2be7f2\",\"type\":\"ResetTool\"},{\"attributes\":{},\"id\":\"e27903a5-75ca-4629-a4bf-52bebb18d982\",\"type\":\"PanTool\"},{\"attributes\":{\"overlay\":{\"id\":\"7f852b03-2bb3-4631-b072-4f94e5f6f0f0\",\"type\":\"BoxAnnotation\"}},\"id\":\"55d0c5f8-e25f-4514-bd49-5ebcdbb04648\",\"type\":\"BoxZoomTool\"},{\"attributes\":{\"line_color\":\"#4daf4a\",\"line_width\":1.5,\"x\":{\"field\":\"x\"},\"y\":{\"field\":\"y\"}},\"id\":\"8d63662b-71af-4e4f-82d9-b94c61b61d13\",\"type\":\"Line\"}],\"root_ids\":[\"89d36a90-c182-434a-8d28-39fc7a21b2fe\"]},\"title\":\"Bokeh Application\",\"version\":\"0.12.14\"}};\n",
       "  var render_items = [{\"docid\":\"445e176a-339c-44aa-9895-0e981d7c3d66\",\"elementid\":\"946fd83e-840a-4faa-9cbe-80b1d1addd18\",\"modelid\":\"89d36a90-c182-434a-8d28-39fc7a21b2fe\"}];\n",
       "  root.Bokeh.embed.embed_items_notebook(docs_json, render_items);\n",
       "\n",
       "  }\n",
       "  if (root.Bokeh !== undefined) {\n",
       "    embed_document(root);\n",
       "  } else {\n",
       "    var attempts = 0;\n",
       "    var timer = setInterval(function(root) {\n",
       "      if (root.Bokeh !== undefined) {\n",
       "        embed_document(root);\n",
       "        clearInterval(timer);\n",
       "      }\n",
       "      attempts++;\n",
       "      if (attempts > 100) {\n",
       "        console.log(\"Bokeh: ERROR: Unable to run BokehJS code because BokehJS library is missing\")\n",
       "        clearInterval(timer);\n",
       "      }\n",
       "    }, 10, root)\n",
       "  }\n",
       "})(window);"
      ],
      "application/vnd.bokehjs_exec.v0+json": ""
     },
     "metadata": {
      "application/vnd.bokehjs_exec.v0+json": {
       "id": "89d36a90-c182-434a-8d28-39fc7a21b2fe"
      }
     },
     "output_type": "display_data"
    },
    {
     "name": "stdout",
     "output_type": "stream",
     "text": [
      "FIGURE. Cooling rate profiles.\n"
     ]
    },
    {
     "data": {
      "text/html": [
       "<a id=\"Flux_Comparison\"></a>"
      ],
      "text/plain": [
       "<IPython.core.display.HTML object>"
      ]
     },
     "metadata": {},
     "output_type": "display_data"
    },
    {
     "data": {
      "text/markdown": [
       "# Flux Comparison"
      ],
      "text/plain": [
       "<IPython.core.display.Markdown object>"
      ]
     },
     "metadata": {},
     "output_type": "display_data"
    },
    {
     "data": {
      "text/html": [
       "<div>\n",
       "<style>\n",
       "    .dataframe thead tr:only-child th {\n",
       "        text-align: right;\n",
       "    }\n",
       "\n",
       "    .dataframe thead th {\n",
       "        text-align: left;\n",
       "    }\n",
       "\n",
       "    .dataframe tbody tr th {\n",
       "        vertical-align: top;\n",
       "    }\n",
       "</style>\n",
       "<table border=\"1\" class=\"dataframe\">\n",
       "  <thead>\n",
       "    <tr style=\"text-align: right;\">\n",
       "      <th></th>\n",
       "      <th></th>\n",
       "      <th>flug</th>\n",
       "      <th>fldg</th>\n",
       "      <th>fnetg</th>\n",
       "    </tr>\n",
       "    <tr>\n",
       "      <th>pressure</th>\n",
       "      <th>level</th>\n",
       "      <th></th>\n",
       "      <th></th>\n",
       "      <th></th>\n",
       "    </tr>\n",
       "  </thead>\n",
       "  <tbody>\n",
       "    <tr>\n",
       "      <th>0.0000</th>\n",
       "      <th>1</th>\n",
       "      <td>-30.890413</td>\n",
       "      <td>0.000000</td>\n",
       "      <td>-30.890413</td>\n",
       "    </tr>\n",
       "    <tr>\n",
       "      <th>1.0685</th>\n",
       "      <th>24</th>\n",
       "      <td>-30.893925</td>\n",
       "      <td>0.064112</td>\n",
       "      <td>-30.829813</td>\n",
       "    </tr>\n",
       "    <tr>\n",
       "      <th>1013.0000</th>\n",
       "      <th>76</th>\n",
       "      <td>-38.491734</td>\n",
       "      <td>17.979135</td>\n",
       "      <td>-20.512599</td>\n",
       "    </tr>\n",
       "  </tbody>\n",
       "</table>\n",
       "</div>"
      ],
      "text/plain": [
       "                      flug       fldg      fnetg\n",
       "pressure  level                                 \n",
       "0.0000    1     -30.890413   0.000000 -30.890413\n",
       "1.0685    24    -30.893925   0.064112 -30.829813\n",
       "1013.0000 76    -38.491734  17.979135 -20.512599"
      ]
     },
     "metadata": {},
     "output_type": "display_data"
    },
    {
     "name": "stdout",
     "output_type": "stream",
     "text": [
      "Table. Fluxes. WGT igg=10 wgt_flux=1\n"
     ]
    },
    {
     "data": {
      "text/html": [
       "<div>\n",
       "<style>\n",
       "    .dataframe thead tr:only-child th {\n",
       "        text-align: right;\n",
       "    }\n",
       "\n",
       "    .dataframe thead th {\n",
       "        text-align: left;\n",
       "    }\n",
       "\n",
       "    .dataframe tbody tr th {\n",
       "        vertical-align: top;\n",
       "    }\n",
       "</style>\n",
       "<table border=\"1\" class=\"dataframe\">\n",
       "  <thead>\n",
       "    <tr style=\"text-align: right;\">\n",
       "      <th></th>\n",
       "      <th></th>\n",
       "      <th>flug</th>\n",
       "      <th>fldg</th>\n",
       "      <th>fnetg</th>\n",
       "    </tr>\n",
       "    <tr>\n",
       "      <th>pressure</th>\n",
       "      <th>level</th>\n",
       "      <th></th>\n",
       "      <th></th>\n",
       "      <th></th>\n",
       "    </tr>\n",
       "  </thead>\n",
       "  <tbody>\n",
       "    <tr>\n",
       "      <th>0.0000</th>\n",
       "      <th>1</th>\n",
       "      <td>-30.870337</td>\n",
       "      <td>0.000000</td>\n",
       "      <td>-30.870337</td>\n",
       "    </tr>\n",
       "    <tr>\n",
       "      <th>1.0685</th>\n",
       "      <th>24</th>\n",
       "      <td>-30.875457</td>\n",
       "      <td>0.068836</td>\n",
       "      <td>-30.806620</td>\n",
       "    </tr>\n",
       "    <tr>\n",
       "      <th>1013.0000</th>\n",
       "      <th>76</th>\n",
       "      <td>-38.491734</td>\n",
       "      <td>17.949284</td>\n",
       "      <td>-20.542450</td>\n",
       "    </tr>\n",
       "  </tbody>\n",
       "</table>\n",
       "</div>"
      ],
      "text/plain": [
       "                      flug       fldg      fnetg\n",
       "pressure  level                                 \n",
       "0.0000    1     -30.870337   0.000000 -30.870337\n",
       "1.0685    24    -30.875457   0.068836 -30.806620\n",
       "1013.0000 76    -38.491734  17.949284 -20.542450"
      ]
     },
     "metadata": {},
     "output_type": "display_data"
    },
    {
     "name": "stdout",
     "output_type": "stream",
     "text": [
      "Table. Fluxes. CRD\n"
     ]
    },
    {
     "data": {
      "text/html": [
       "<div>\n",
       "<style>\n",
       "    .dataframe thead tr:only-child th {\n",
       "        text-align: right;\n",
       "    }\n",
       "\n",
       "    .dataframe thead th {\n",
       "        text-align: left;\n",
       "    }\n",
       "\n",
       "    .dataframe tbody tr th {\n",
       "        vertical-align: top;\n",
       "    }\n",
       "</style>\n",
       "<table border=\"1\" class=\"dataframe\">\n",
       "  <thead>\n",
       "    <tr style=\"text-align: right;\">\n",
       "      <th></th>\n",
       "      <th></th>\n",
       "      <th>flug</th>\n",
       "      <th>fldg</th>\n",
       "      <th>fnetg</th>\n",
       "    </tr>\n",
       "    <tr>\n",
       "      <th>pressure</th>\n",
       "      <th>level</th>\n",
       "      <th></th>\n",
       "      <th></th>\n",
       "      <th></th>\n",
       "    </tr>\n",
       "  </thead>\n",
       "  <tbody>\n",
       "    <tr>\n",
       "      <th>1.000000e-08</th>\n",
       "      <th>1</th>\n",
       "      <td>-30.990154</td>\n",
       "      <td>0.000002</td>\n",
       "      <td>-30.990152</td>\n",
       "    </tr>\n",
       "    <tr>\n",
       "      <th>1.068500e+00</th>\n",
       "      <th>24</th>\n",
       "      <td>-30.993285</td>\n",
       "      <td>0.061617</td>\n",
       "      <td>-30.931668</td>\n",
       "    </tr>\n",
       "    <tr>\n",
       "      <th>1.013000e+03</th>\n",
       "      <th>76</th>\n",
       "      <td>-38.491730</td>\n",
       "      <td>17.993363</td>\n",
       "      <td>-20.498367</td>\n",
       "    </tr>\n",
       "  </tbody>\n",
       "</table>\n",
       "</div>"
      ],
      "text/plain": [
       "                         flug       fldg      fnetg\n",
       "pressure     level                                 \n",
       "1.000000e-08 1     -30.990154   0.000002 -30.990152\n",
       "1.068500e+00 24    -30.993285   0.061617 -30.931668\n",
       "1.013000e+03 76    -38.491730  17.993363 -20.498367"
      ]
     },
     "metadata": {},
     "output_type": "display_data"
    },
    {
     "name": "stdout",
     "output_type": "stream",
     "text": [
      "Table. Fluxes. CLIRAD\n"
     ]
    },
    {
     "data": {
      "text/html": [
       "<div>\n",
       "<style>\n",
       "    .dataframe thead tr:only-child th {\n",
       "        text-align: right;\n",
       "    }\n",
       "\n",
       "    .dataframe thead th {\n",
       "        text-align: left;\n",
       "    }\n",
       "\n",
       "    .dataframe tbody tr th {\n",
       "        vertical-align: top;\n",
       "    }\n",
       "</style>\n",
       "<table border=\"1\" class=\"dataframe\">\n",
       "  <thead>\n",
       "    <tr style=\"text-align: right;\">\n",
       "      <th></th>\n",
       "      <th></th>\n",
       "      <th>flug</th>\n",
       "      <th>fldg</th>\n",
       "      <th>fnetg</th>\n",
       "    </tr>\n",
       "    <tr>\n",
       "      <th>pressure</th>\n",
       "      <th>level</th>\n",
       "      <th></th>\n",
       "      <th></th>\n",
       "      <th></th>\n",
       "    </tr>\n",
       "  </thead>\n",
       "  <tbody>\n",
       "    <tr>\n",
       "      <th>0.0000</th>\n",
       "      <th>1</th>\n",
       "      <td>2.007593e-02</td>\n",
       "      <td>0.000000</td>\n",
       "      <td>0.020076</td>\n",
       "    </tr>\n",
       "    <tr>\n",
       "      <th>1.0685</th>\n",
       "      <th>24</th>\n",
       "      <td>1.846751e-02</td>\n",
       "      <td>0.004724</td>\n",
       "      <td>0.023193</td>\n",
       "    </tr>\n",
       "    <tr>\n",
       "      <th>1013.0000</th>\n",
       "      <th>76</th>\n",
       "      <td>1.040000e-07</td>\n",
       "      <td>-0.029851</td>\n",
       "      <td>-0.029851</td>\n",
       "    </tr>\n",
       "  </tbody>\n",
       "</table>\n",
       "</div>"
      ],
      "text/plain": [
       "                         flug      fldg     fnetg\n",
       "pressure  level                                  \n",
       "0.0000    1      2.007593e-02  0.000000  0.020076\n",
       "1.0685    24     1.846751e-02  0.004724  0.023193\n",
       "1013.0000 76     1.040000e-07 -0.029851 -0.029851"
      ]
     },
     "metadata": {},
     "output_type": "display_data"
    },
    {
     "name": "stdout",
     "output_type": "stream",
     "text": [
      "Table. Fluxes. (CRD) - (WGT igg=10 wgt_flux=1)\n"
     ]
    },
    {
     "data": {
      "text/html": [
       "<div>\n",
       "<style>\n",
       "    .dataframe thead tr:only-child th {\n",
       "        text-align: right;\n",
       "    }\n",
       "\n",
       "    .dataframe thead th {\n",
       "        text-align: left;\n",
       "    }\n",
       "\n",
       "    .dataframe tbody tr th {\n",
       "        vertical-align: top;\n",
       "    }\n",
       "</style>\n",
       "<table border=\"1\" class=\"dataframe\">\n",
       "  <thead>\n",
       "    <tr style=\"text-align: right;\">\n",
       "      <th></th>\n",
       "      <th></th>\n",
       "      <th>flug</th>\n",
       "      <th>fldg</th>\n",
       "      <th>fnetg</th>\n",
       "    </tr>\n",
       "    <tr>\n",
       "      <th>pressure</th>\n",
       "      <th>level</th>\n",
       "      <th></th>\n",
       "      <th></th>\n",
       "      <th></th>\n",
       "    </tr>\n",
       "  </thead>\n",
       "  <tbody>\n",
       "    <tr>\n",
       "      <th>0.0000</th>\n",
       "      <th>1</th>\n",
       "      <td>-0.099741</td>\n",
       "      <td>0.000002</td>\n",
       "      <td>-0.099739</td>\n",
       "    </tr>\n",
       "    <tr>\n",
       "      <th>1.0685</th>\n",
       "      <th>24</th>\n",
       "      <td>-0.099360</td>\n",
       "      <td>-0.002495</td>\n",
       "      <td>-0.101855</td>\n",
       "    </tr>\n",
       "    <tr>\n",
       "      <th>1013.0000</th>\n",
       "      <th>76</th>\n",
       "      <td>0.000004</td>\n",
       "      <td>0.014228</td>\n",
       "      <td>0.014232</td>\n",
       "    </tr>\n",
       "  </tbody>\n",
       "</table>\n",
       "</div>"
      ],
      "text/plain": [
       "                     flug      fldg     fnetg\n",
       "pressure  level                              \n",
       "0.0000    1     -0.099741  0.000002 -0.099739\n",
       "1.0685    24    -0.099360 -0.002495 -0.101855\n",
       "1013.0000 76     0.000004  0.014228  0.014232"
      ]
     },
     "metadata": {},
     "output_type": "display_data"
    },
    {
     "name": "stdout",
     "output_type": "stream",
     "text": [
      "Table. Fluxes. (CLIRAD) - (WGT igg=10 wgt_flux=1)\n"
     ]
    },
    {
     "data": {
      "text/html": [
       "<a id=\"Best-fit_Parameters\"></a>"
      ],
      "text/plain": [
       "<IPython.core.display.HTML object>"
      ]
     },
     "metadata": {},
     "output_type": "display_data"
    },
    {
     "data": {
      "text/markdown": [
       "# Best-fit Parameters"
      ],
      "text/plain": [
       "<IPython.core.display.Markdown object>"
      ]
     },
     "metadata": {},
     "output_type": "display_data"
    },
    {
     "name": "stdout",
     "output_type": "stream",
     "text": [
      "Best-fit values for each (gas, band)\n",
      "------------------------------------\n",
      "o co2 band3a\n",
      "  atmpro = mls\n",
      "  band = 3a\n",
      "  commitnumber = a06b618\n",
      "  conc = 0.0004\n",
      "  dv = 0.001\n",
      "  klin = 6.375563e-24\n",
      "  molecule = co2\n",
      "  ng_adju = [0, 0, 0]\n",
      "  ng_refs = [3, 2, 4]\n",
      "  nv = 1000\n",
      "  option_compute_btable = 0\n",
      "  option_compute_ktable = 1\n",
      "  option_wgt_flux = 1\n",
      "  option_wgt_k = 1\n",
      "  ref_pts = [(1, 250), (10, 250), (500, 250)]\n",
      "  tsfc = 294\n",
      "  vmax = 620\n",
      "  vmin = 540\n",
      "  w_diffuse = [(1.6, 1.6, 1.7), (1.75, 1.75), (1.55, 1.55, 1.6, 1.85)]\n",
      "  wgt = [(0.7, 0.3, 0.7), (0.7, 0.6), (0.4, 0.5, 0.8, 0.95)]\n"
     ]
    }
   ],
   "source": [
    "script()"
   ]
  },
  {
   "cell_type": "code",
   "execution_count": 13,
   "metadata": {
    "collapsed": true
   },
   "outputs": [
    {
     "data": {
      "text/html": [
       "<script>\n",
       "code_show=true; \n",
       "function code_toggle() {\n",
       " if (code_show){\n",
       " $('div.input').hide();\n",
       " } else {\n",
       " $('div.input').show();\n",
       " }\n",
       " code_show = !code_show\n",
       "} \n",
       "$( document ).ready(code_toggle);\n",
       "</script>\n",
       "<form action=\"javascript:code_toggle()\"><input type=\"submit\" value=\"Click here to toggle on/off the raw code.\"></form>"
      ],
      "text/plain": [
       "<IPython.core.display.HTML object>"
      ]
     },
     "execution_count": 13,
     "metadata": {},
     "output_type": "execute_result"
    }
   ],
   "source": [
    "display.HTML('''<script>\n",
    "code_show=true; \n",
    "function code_toggle() {\n",
    " if (code_show){\n",
    " $('div.input').hide();\n",
    " } else {\n",
    " $('div.input').show();\n",
    " }\n",
    " code_show = !code_show\n",
    "} \n",
    "$( document ).ready(code_toggle);\n",
    "</script>\n",
    "<form action=\"javascript:code_toggle()\"><input type=\"submit\" value=\"Click here to toggle on/off the raw code.\"></form>''')"
   ]
  }
 ],
 "metadata": {
  "kernelspec": {
   "display_name": "Python 3",
   "language": "python",
   "name": "python3"
  },
  "language_info": {
   "codemirror_mode": {
    "name": "ipython",
    "version": 3
   },
   "file_extension": ".py",
   "mimetype": "text/x-python",
   "name": "python",
   "nbconvert_exporter": "python",
   "pygments_lexer": "ipython3",
   "version": "3.6.1"
  }
 },
 "nbformat": 4,
 "nbformat_minor": 2
}
