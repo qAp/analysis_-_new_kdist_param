{
 "cells": [
  {
   "cell_type": "code",
   "execution_count": 1,
   "metadata": {
    "collapsed": true
   },
   "outputs": [],
   "source": [
    "%matplotlib inline\n",
    "import os\n",
    "import re\n",
    "import io\n",
    "import itertools\n",
    "import pprint\n",
    "\n",
    "from bokeh.io import output_notebook, show\n",
    "from bokeh.layouts import gridplot\n",
    "from bokeh.plotting import figure\n",
    "from bokeh.models import Range1d, Legend\n",
    "from bokeh.palettes import all_palettes\n",
    "\n",
    "import matplotlib\n",
    "import matplotlib.pyplot as plt\n",
    "import numpy as np\n",
    "import pandas as pd\n",
    "import xarray as xr\n",
    "\n",
    "import climatools.lblnew.bestfit_params as bestfits\n",
    "from climatools.lblnew import setup_bestfit, setup_overlap\n",
    "import climatools.lblnew.pipeline as pipe_lblnew\n",
    "import climatools.cliradlw.setup as setup_cliradlw\n",
    "import climatools.cliradlw.pipeline as pipe_cliradlw\n",
    "\n",
    "import climatools.html.html as climahtml\n",
    "from climatools.lblnew.dataio import *\n",
    "from climatools.plot.plot import *\n",
    "\n",
    "\n",
    "import IPython.display as display"
   ]
  },
  {
   "cell_type": "code",
   "execution_count": 2,
   "metadata": {
    "collapsed": true
   },
   "outputs": [],
   "source": [
    "%run param.py"
   ]
  },
  {
   "cell_type": "code",
   "execution_count": 3,
   "metadata": {
    "collapsed": true
   },
   "outputs": [],
   "source": [
    "def load_output_file(path_csv):\n",
    "    '''\n",
    "    Load lblnew output .csv file to xarray.Dataset\n",
    "    \n",
    "    Parameters\n",
    "    ----------\n",
    "    path_csv: str\n",
    "              Path to the .csv file to be loaded.\n",
    "    ds: xarray.Dataset\n",
    "        Data in the input file in the form of an xarray.Dataset.\n",
    "    '''\n",
    "    toindex = ['band', 'pressure', 'igg', 'g']    \n",
    "    df = pd.read_csv(path_csv, sep=r'\\s+')\n",
    "    df = df.set_index([i for i in toindex if i in df.columns])\n",
    "    df = df.rename(columns={'sfu': 'flug',\n",
    "                            'sfd': 'fldg',\n",
    "                            'fnet': 'fnetg',\n",
    "                            'coolr': 'coolrg'})\n",
    "    ds = xr.Dataset.from_dataframe(df)\n",
    "\n",
    "    for l in ('level', 'layer'):\n",
    "        if l in ds.data_vars:\n",
    "            if len(ds[l].dims) > 1:\n",
    "                surface = {d: 0 for d in ds.dims if d != 'pressure'}\n",
    "                coord_level = ds[l][surface]\n",
    "                ds.coords[l] = ('pressure', coord_level)\n",
    "            else:\n",
    "                ds.coords[l] = ('pressure', ds[l])\n",
    "    \n",
    "    return ds"
   ]
  },
  {
   "cell_type": "code",
   "execution_count": 4,
   "metadata": {
    "collapsed": true
   },
   "outputs": [],
   "source": [
    "def lblnew_setup(param=None):\n",
    "    if 'ng_refs' in param:\n",
    "        return {'setup': setup_bestfit,\n",
    "                'fname_flux_crd': 'output_flux.dat',\n",
    "                'fname_cool_crd': 'output_coolr.dat',\n",
    "                'fname_flux_wgt': 'output_wfluxg.dat',\n",
    "                'fname_cool_wgt': 'output_wcoolrg.dat'}\n",
    "    else:\n",
    "        return {'setup': setup_overlap,\n",
    "                'fname_flux_crd': 'output_flux.dat',\n",
    "                'fname_cool_crd': 'output_coolr.dat',\n",
    "                'fname_flux_wgt': 'output_wflux.dat',\n",
    "                'fname_cool_wgt': 'output_wcoolr.dat'}\n",
    "\n",
    "    \n",
    "def load_lblnew_data(param):\n",
    "    \n",
    "    fname_dsname = [('fname_flux_crd', 'ds_flux_crd'),\n",
    "                    ('fname_cool_crd', 'ds_cool_crd'),\n",
    "                    ('fname_flux_wgt', 'ds_flux_wgt'),\n",
    "                    ('fname_cool_wgt', 'ds_cool_wgt')]\n",
    "    \n",
    "    d = lblnew_setup(param)\n",
    "    dir_fortran = pipe_lblnew.get_dir_case(param, setup=d['setup'])\n",
    "    \n",
    "    data_dict = {}\n",
    "    for fname, dsname in fname_dsname:\n",
    "        fpath = os.path.join(dir_fortran, d[fname])\n",
    "        data_dict[dsname] = load_output_file(fpath)\n",
    "    return data_dict\n",
    "    \n",
    "\n",
    "    \n",
    "    "
   ]
  },
  {
   "cell_type": "code",
   "execution_count": 5,
   "metadata": {
    "collapsed": true
   },
   "outputs": [],
   "source": [
    "d = load_lblnew_data(PARAM_LBLNEW)\n",
    "\n",
    "DS_FLUX_CRD = d['ds_flux_crd']\n",
    "DS_COOL_CRD = d['ds_cool_crd']\n",
    "DS_FLUX_WGT = d['ds_flux_wgt']\n",
    "DS_COOL_WGT = d['ds_cool_wgt']"
   ]
  },
  {
   "cell_type": "code",
   "execution_count": 6,
   "metadata": {
    "collapsed": true
   },
   "outputs": [],
   "source": [
    "DIR_FORTRAN = pipe_cliradlw.get_fortran_dir(PARAM, \n",
    "                                            setup=setup_cliradlw)\n",
    "\n",
    "PATH_FLUX = os.path.join(DIR_FORTRAN, 'output_flux.dat')\n",
    "PATH_COOL = os.path.join(DIR_FORTRAN, 'output_coolr.dat')\n",
    "\n",
    "DS_FLUX = load_output_file(PATH_FLUX)\n",
    "DS_COOL = load_output_file(PATH_COOL)"
   ]
  },
  {
   "cell_type": "code",
   "execution_count": 7,
   "metadata": {
    "collapsed": true
   },
   "outputs": [
    {
     "data": {
      "text/html": [
       "\n",
       "    <div class=\"bk-root\">\n",
       "        <a href=\"https://bokeh.pydata.org\" target=\"_blank\" class=\"bk-logo bk-logo-small bk-logo-notebook\"></a>\n",
       "        <span id=\"fa64dc53-af22-45e9-9208-79cfc07d75f2\">Loading BokehJS ...</span>\n",
       "    </div>"
      ]
     },
     "metadata": {},
     "output_type": "display_data"
    },
    {
     "data": {
      "application/javascript": [
       "\n",
       "(function(root) {\n",
       "  function now() {\n",
       "    return new Date();\n",
       "  }\n",
       "\n",
       "  var force = true;\n",
       "\n",
       "  if (typeof (root._bokeh_onload_callbacks) === \"undefined\" || force === true) {\n",
       "    root._bokeh_onload_callbacks = [];\n",
       "    root._bokeh_is_loading = undefined;\n",
       "  }\n",
       "\n",
       "  var JS_MIME_TYPE = 'application/javascript';\n",
       "  var HTML_MIME_TYPE = 'text/html';\n",
       "  var EXEC_MIME_TYPE = 'application/vnd.bokehjs_exec.v0+json';\n",
       "  var CLASS_NAME = 'output_bokeh rendered_html';\n",
       "\n",
       "  /**\n",
       "   * Render data to the DOM node\n",
       "   */\n",
       "  function render(props, node) {\n",
       "    var script = document.createElement(\"script\");\n",
       "    node.appendChild(script);\n",
       "  }\n",
       "\n",
       "  /**\n",
       "   * Handle when an output is cleared or removed\n",
       "   */\n",
       "  function handleClearOutput(event, handle) {\n",
       "    var cell = handle.cell;\n",
       "\n",
       "    var id = cell.output_area._bokeh_element_id;\n",
       "    var server_id = cell.output_area._bokeh_server_id;\n",
       "    // Clean up Bokeh references\n",
       "    if (id !== undefined) {\n",
       "      Bokeh.index[id].model.document.clear();\n",
       "      delete Bokeh.index[id];\n",
       "    }\n",
       "\n",
       "    if (server_id !== undefined) {\n",
       "      // Clean up Bokeh references\n",
       "      var cmd = \"from bokeh.io.state import curstate; print(curstate().uuid_to_server['\" + server_id + \"'].get_sessions()[0].document.roots[0]._id)\";\n",
       "      cell.notebook.kernel.execute(cmd, {\n",
       "        iopub: {\n",
       "          output: function(msg) {\n",
       "            var element_id = msg.content.text.trim();\n",
       "            Bokeh.index[element_id].model.document.clear();\n",
       "            delete Bokeh.index[element_id];\n",
       "          }\n",
       "        }\n",
       "      });\n",
       "      // Destroy server and session\n",
       "      var cmd = \"import bokeh.io.notebook as ion; ion.destroy_server('\" + server_id + \"')\";\n",
       "      cell.notebook.kernel.execute(cmd);\n",
       "    }\n",
       "  }\n",
       "\n",
       "  /**\n",
       "   * Handle when a new output is added\n",
       "   */\n",
       "  function handleAddOutput(event, handle) {\n",
       "    var output_area = handle.output_area;\n",
       "    var output = handle.output;\n",
       "\n",
       "    // limit handleAddOutput to display_data with EXEC_MIME_TYPE content only\n",
       "    if ((output.output_type != \"display_data\") || (!output.data.hasOwnProperty(EXEC_MIME_TYPE))) {\n",
       "      return\n",
       "    }\n",
       "\n",
       "    var toinsert = output_area.element.find(\".\" + CLASS_NAME.split(' ')[0]);\n",
       "\n",
       "    if (output.metadata[EXEC_MIME_TYPE][\"id\"] !== undefined) {\n",
       "      toinsert[0].firstChild.textContent = output.data[JS_MIME_TYPE];\n",
       "      // store reference to embed id on output_area\n",
       "      output_area._bokeh_element_id = output.metadata[EXEC_MIME_TYPE][\"id\"];\n",
       "    }\n",
       "    if (output.metadata[EXEC_MIME_TYPE][\"server_id\"] !== undefined) {\n",
       "      var bk_div = document.createElement(\"div\");\n",
       "      bk_div.innerHTML = output.data[HTML_MIME_TYPE];\n",
       "      var script_attrs = bk_div.children[0].attributes;\n",
       "      for (var i = 0; i < script_attrs.length; i++) {\n",
       "        toinsert[0].firstChild.setAttribute(script_attrs[i].name, script_attrs[i].value);\n",
       "      }\n",
       "      // store reference to server id on output_area\n",
       "      output_area._bokeh_server_id = output.metadata[EXEC_MIME_TYPE][\"server_id\"];\n",
       "    }\n",
       "  }\n",
       "\n",
       "  function register_renderer(events, OutputArea) {\n",
       "\n",
       "    function append_mime(data, metadata, element) {\n",
       "      // create a DOM node to render to\n",
       "      var toinsert = this.create_output_subarea(\n",
       "        metadata,\n",
       "        CLASS_NAME,\n",
       "        EXEC_MIME_TYPE\n",
       "      );\n",
       "      this.keyboard_manager.register_events(toinsert);\n",
       "      // Render to node\n",
       "      var props = {data: data, metadata: metadata[EXEC_MIME_TYPE]};\n",
       "      render(props, toinsert[0]);\n",
       "      element.append(toinsert);\n",
       "      return toinsert\n",
       "    }\n",
       "\n",
       "    /* Handle when an output is cleared or removed */\n",
       "    events.on('clear_output.CodeCell', handleClearOutput);\n",
       "    events.on('delete.Cell', handleClearOutput);\n",
       "\n",
       "    /* Handle when a new output is added */\n",
       "    events.on('output_added.OutputArea', handleAddOutput);\n",
       "\n",
       "    /**\n",
       "     * Register the mime type and append_mime function with output_area\n",
       "     */\n",
       "    OutputArea.prototype.register_mime_type(EXEC_MIME_TYPE, append_mime, {\n",
       "      /* Is output safe? */\n",
       "      safe: true,\n",
       "      /* Index of renderer in `output_area.display_order` */\n",
       "      index: 0\n",
       "    });\n",
       "  }\n",
       "\n",
       "  // register the mime type if in Jupyter Notebook environment and previously unregistered\n",
       "  if (root.Jupyter !== undefined) {\n",
       "    var events = require('base/js/events');\n",
       "    var OutputArea = require('notebook/js/outputarea').OutputArea;\n",
       "\n",
       "    if (OutputArea.prototype.mime_types().indexOf(EXEC_MIME_TYPE) == -1) {\n",
       "      register_renderer(events, OutputArea);\n",
       "    }\n",
       "  }\n",
       "\n",
       "  \n",
       "  if (typeof (root._bokeh_timeout) === \"undefined\" || force === true) {\n",
       "    root._bokeh_timeout = Date.now() + 5000;\n",
       "    root._bokeh_failed_load = false;\n",
       "  }\n",
       "\n",
       "  var NB_LOAD_WARNING = {'data': {'text/html':\n",
       "     \"<div style='background-color: #fdd'>\\n\"+\n",
       "     \"<p>\\n\"+\n",
       "     \"BokehJS does not appear to have successfully loaded. If loading BokehJS from CDN, this \\n\"+\n",
       "     \"may be due to a slow or bad network connection. Possible fixes:\\n\"+\n",
       "     \"</p>\\n\"+\n",
       "     \"<ul>\\n\"+\n",
       "     \"<li>re-rerun `output_notebook()` to attempt to load from CDN again, or</li>\\n\"+\n",
       "     \"<li>use INLINE resources instead, as so:</li>\\n\"+\n",
       "     \"</ul>\\n\"+\n",
       "     \"<code>\\n\"+\n",
       "     \"from bokeh.resources import INLINE\\n\"+\n",
       "     \"output_notebook(resources=INLINE)\\n\"+\n",
       "     \"</code>\\n\"+\n",
       "     \"</div>\"}};\n",
       "\n",
       "  function display_loaded() {\n",
       "    var el = document.getElementById(\"fa64dc53-af22-45e9-9208-79cfc07d75f2\");\n",
       "    if (el != null) {\n",
       "      el.textContent = \"BokehJS is loading...\";\n",
       "    }\n",
       "    if (root.Bokeh !== undefined) {\n",
       "      if (el != null) {\n",
       "        el.textContent = \"BokehJS \" + root.Bokeh.version + \" successfully loaded.\";\n",
       "      }\n",
       "    } else if (Date.now() < root._bokeh_timeout) {\n",
       "      setTimeout(display_loaded, 100)\n",
       "    }\n",
       "  }\n",
       "\n",
       "\n",
       "  function run_callbacks() {\n",
       "    try {\n",
       "      root._bokeh_onload_callbacks.forEach(function(callback) { callback() });\n",
       "    }\n",
       "    finally {\n",
       "      delete root._bokeh_onload_callbacks\n",
       "    }\n",
       "    console.info(\"Bokeh: all callbacks have finished\");\n",
       "  }\n",
       "\n",
       "  function load_libs(js_urls, callback) {\n",
       "    root._bokeh_onload_callbacks.push(callback);\n",
       "    if (root._bokeh_is_loading > 0) {\n",
       "      console.log(\"Bokeh: BokehJS is being loaded, scheduling callback at\", now());\n",
       "      return null;\n",
       "    }\n",
       "    if (js_urls == null || js_urls.length === 0) {\n",
       "      run_callbacks();\n",
       "      return null;\n",
       "    }\n",
       "    console.log(\"Bokeh: BokehJS not loaded, scheduling load and callback at\", now());\n",
       "    root._bokeh_is_loading = js_urls.length;\n",
       "    for (var i = 0; i < js_urls.length; i++) {\n",
       "      var url = js_urls[i];\n",
       "      var s = document.createElement('script');\n",
       "      s.src = url;\n",
       "      s.async = false;\n",
       "      s.onreadystatechange = s.onload = function() {\n",
       "        root._bokeh_is_loading--;\n",
       "        if (root._bokeh_is_loading === 0) {\n",
       "          console.log(\"Bokeh: all BokehJS libraries loaded\");\n",
       "          run_callbacks()\n",
       "        }\n",
       "      };\n",
       "      s.onerror = function() {\n",
       "        console.warn(\"failed to load library \" + url);\n",
       "      };\n",
       "      console.log(\"Bokeh: injecting script tag for BokehJS library: \", url);\n",
       "      document.getElementsByTagName(\"head\")[0].appendChild(s);\n",
       "    }\n",
       "  };var element = document.getElementById(\"fa64dc53-af22-45e9-9208-79cfc07d75f2\");\n",
       "  if (element == null) {\n",
       "    console.log(\"Bokeh: ERROR: autoload.js configured with elementid 'fa64dc53-af22-45e9-9208-79cfc07d75f2' but no matching script tag was found. \")\n",
       "    return false;\n",
       "  }\n",
       "\n",
       "  var js_urls = [\"https://cdn.pydata.org/bokeh/release/bokeh-0.12.14.min.js\", \"https://cdn.pydata.org/bokeh/release/bokeh-widgets-0.12.14.min.js\", \"https://cdn.pydata.org/bokeh/release/bokeh-tables-0.12.14.min.js\", \"https://cdn.pydata.org/bokeh/release/bokeh-gl-0.12.14.min.js\"];\n",
       "\n",
       "  var inline_js = [\n",
       "    function(Bokeh) {\n",
       "      Bokeh.set_log_level(\"info\");\n",
       "    },\n",
       "    \n",
       "    function(Bokeh) {\n",
       "      \n",
       "    },\n",
       "    function(Bokeh) {\n",
       "      console.log(\"Bokeh: injecting CSS: https://cdn.pydata.org/bokeh/release/bokeh-0.12.14.min.css\");\n",
       "      Bokeh.embed.inject_css(\"https://cdn.pydata.org/bokeh/release/bokeh-0.12.14.min.css\");\n",
       "      console.log(\"Bokeh: injecting CSS: https://cdn.pydata.org/bokeh/release/bokeh-widgets-0.12.14.min.css\");\n",
       "      Bokeh.embed.inject_css(\"https://cdn.pydata.org/bokeh/release/bokeh-widgets-0.12.14.min.css\");\n",
       "      console.log(\"Bokeh: injecting CSS: https://cdn.pydata.org/bokeh/release/bokeh-tables-0.12.14.min.css\");\n",
       "      Bokeh.embed.inject_css(\"https://cdn.pydata.org/bokeh/release/bokeh-tables-0.12.14.min.css\");\n",
       "    }\n",
       "  ];\n",
       "\n",
       "  function run_inline_js() {\n",
       "    \n",
       "    if ((root.Bokeh !== undefined) || (force === true)) {\n",
       "      for (var i = 0; i < inline_js.length; i++) {\n",
       "        inline_js[i].call(root, root.Bokeh);\n",
       "      }if (force === true) {\n",
       "        display_loaded();\n",
       "      }} else if (Date.now() < root._bokeh_timeout) {\n",
       "      setTimeout(run_inline_js, 100);\n",
       "    } else if (!root._bokeh_failed_load) {\n",
       "      console.log(\"Bokeh: BokehJS failed to load within specified timeout.\");\n",
       "      root._bokeh_failed_load = true;\n",
       "    } else if (force !== true) {\n",
       "      var cell = $(document.getElementById(\"fa64dc53-af22-45e9-9208-79cfc07d75f2\")).parents('.cell').data().cell;\n",
       "      cell.output_area.append_execute_result(NB_LOAD_WARNING)\n",
       "    }\n",
       "\n",
       "  }\n",
       "\n",
       "  if (root._bokeh_is_loading === 0) {\n",
       "    console.log(\"Bokeh: BokehJS loaded, going straight to plotting\");\n",
       "    run_inline_js();\n",
       "  } else {\n",
       "    load_libs(js_urls, function() {\n",
       "      console.log(\"Bokeh: BokehJS plotting callback run at\", now());\n",
       "      run_inline_js();\n",
       "    });\n",
       "  }\n",
       "}(window));"
      ],
      "application/vnd.bokehjs_load.v0+json": "\n(function(root) {\n  function now() {\n    return new Date();\n  }\n\n  var force = true;\n\n  if (typeof (root._bokeh_onload_callbacks) === \"undefined\" || force === true) {\n    root._bokeh_onload_callbacks = [];\n    root._bokeh_is_loading = undefined;\n  }\n\n  \n\n  \n  if (typeof (root._bokeh_timeout) === \"undefined\" || force === true) {\n    root._bokeh_timeout = Date.now() + 5000;\n    root._bokeh_failed_load = false;\n  }\n\n  var NB_LOAD_WARNING = {'data': {'text/html':\n     \"<div style='background-color: #fdd'>\\n\"+\n     \"<p>\\n\"+\n     \"BokehJS does not appear to have successfully loaded. If loading BokehJS from CDN, this \\n\"+\n     \"may be due to a slow or bad network connection. Possible fixes:\\n\"+\n     \"</p>\\n\"+\n     \"<ul>\\n\"+\n     \"<li>re-rerun `output_notebook()` to attempt to load from CDN again, or</li>\\n\"+\n     \"<li>use INLINE resources instead, as so:</li>\\n\"+\n     \"</ul>\\n\"+\n     \"<code>\\n\"+\n     \"from bokeh.resources import INLINE\\n\"+\n     \"output_notebook(resources=INLINE)\\n\"+\n     \"</code>\\n\"+\n     \"</div>\"}};\n\n  function display_loaded() {\n    var el = document.getElementById(\"fa64dc53-af22-45e9-9208-79cfc07d75f2\");\n    if (el != null) {\n      el.textContent = \"BokehJS is loading...\";\n    }\n    if (root.Bokeh !== undefined) {\n      if (el != null) {\n        el.textContent = \"BokehJS \" + root.Bokeh.version + \" successfully loaded.\";\n      }\n    } else if (Date.now() < root._bokeh_timeout) {\n      setTimeout(display_loaded, 100)\n    }\n  }\n\n\n  function run_callbacks() {\n    try {\n      root._bokeh_onload_callbacks.forEach(function(callback) { callback() });\n    }\n    finally {\n      delete root._bokeh_onload_callbacks\n    }\n    console.info(\"Bokeh: all callbacks have finished\");\n  }\n\n  function load_libs(js_urls, callback) {\n    root._bokeh_onload_callbacks.push(callback);\n    if (root._bokeh_is_loading > 0) {\n      console.log(\"Bokeh: BokehJS is being loaded, scheduling callback at\", now());\n      return null;\n    }\n    if (js_urls == null || js_urls.length === 0) {\n      run_callbacks();\n      return null;\n    }\n    console.log(\"Bokeh: BokehJS not loaded, scheduling load and callback at\", now());\n    root._bokeh_is_loading = js_urls.length;\n    for (var i = 0; i < js_urls.length; i++) {\n      var url = js_urls[i];\n      var s = document.createElement('script');\n      s.src = url;\n      s.async = false;\n      s.onreadystatechange = s.onload = function() {\n        root._bokeh_is_loading--;\n        if (root._bokeh_is_loading === 0) {\n          console.log(\"Bokeh: all BokehJS libraries loaded\");\n          run_callbacks()\n        }\n      };\n      s.onerror = function() {\n        console.warn(\"failed to load library \" + url);\n      };\n      console.log(\"Bokeh: injecting script tag for BokehJS library: \", url);\n      document.getElementsByTagName(\"head\")[0].appendChild(s);\n    }\n  };var element = document.getElementById(\"fa64dc53-af22-45e9-9208-79cfc07d75f2\");\n  if (element == null) {\n    console.log(\"Bokeh: ERROR: autoload.js configured with elementid 'fa64dc53-af22-45e9-9208-79cfc07d75f2' but no matching script tag was found. \")\n    return false;\n  }\n\n  var js_urls = [\"https://cdn.pydata.org/bokeh/release/bokeh-0.12.14.min.js\", \"https://cdn.pydata.org/bokeh/release/bokeh-widgets-0.12.14.min.js\", \"https://cdn.pydata.org/bokeh/release/bokeh-tables-0.12.14.min.js\", \"https://cdn.pydata.org/bokeh/release/bokeh-gl-0.12.14.min.js\"];\n\n  var inline_js = [\n    function(Bokeh) {\n      Bokeh.set_log_level(\"info\");\n    },\n    \n    function(Bokeh) {\n      \n    },\n    function(Bokeh) {\n      console.log(\"Bokeh: injecting CSS: https://cdn.pydata.org/bokeh/release/bokeh-0.12.14.min.css\");\n      Bokeh.embed.inject_css(\"https://cdn.pydata.org/bokeh/release/bokeh-0.12.14.min.css\");\n      console.log(\"Bokeh: injecting CSS: https://cdn.pydata.org/bokeh/release/bokeh-widgets-0.12.14.min.css\");\n      Bokeh.embed.inject_css(\"https://cdn.pydata.org/bokeh/release/bokeh-widgets-0.12.14.min.css\");\n      console.log(\"Bokeh: injecting CSS: https://cdn.pydata.org/bokeh/release/bokeh-tables-0.12.14.min.css\");\n      Bokeh.embed.inject_css(\"https://cdn.pydata.org/bokeh/release/bokeh-tables-0.12.14.min.css\");\n    }\n  ];\n\n  function run_inline_js() {\n    \n    if ((root.Bokeh !== undefined) || (force === true)) {\n      for (var i = 0; i < inline_js.length; i++) {\n        inline_js[i].call(root, root.Bokeh);\n      }if (force === true) {\n        display_loaded();\n      }} else if (Date.now() < root._bokeh_timeout) {\n      setTimeout(run_inline_js, 100);\n    } else if (!root._bokeh_failed_load) {\n      console.log(\"Bokeh: BokehJS failed to load within specified timeout.\");\n      root._bokeh_failed_load = true;\n    } else if (force !== true) {\n      var cell = $(document.getElementById(\"fa64dc53-af22-45e9-9208-79cfc07d75f2\")).parents('.cell').data().cell;\n      cell.output_area.append_execute_result(NB_LOAD_WARNING)\n    }\n\n  }\n\n  if (root._bokeh_is_loading === 0) {\n    console.log(\"Bokeh: BokehJS loaded, going straight to plotting\");\n    run_inline_js();\n  } else {\n    load_libs(js_urls, function() {\n      console.log(\"Bokeh: BokehJS plotting callback run at\", now());\n      run_inline_js();\n    });\n  }\n}(window));"
     },
     "metadata": {},
     "output_type": "display_data"
    }
   ],
   "source": [
    "output_notebook()"
   ]
  },
  {
   "cell_type": "code",
   "execution_count": 8,
   "metadata": {
    "collapsed": true
   },
   "outputs": [],
   "source": [
    "def fmt_cool(ds_in):\n",
    "    ds = ds_in.copy(deep=True)\n",
    "    if 'igg' in ds.dims:\n",
    "        ds = ds.sel(igg=1)\n",
    "\n",
    "    if 'g' in ds.dims:\n",
    "        ds = ds.sum('g')\n",
    "            \n",
    "    if 'band' in ds.dims:\n",
    "        try:\n",
    "            ds = ds.squeeze('band')\n",
    "        except ValueError:\n",
    "            ds = ds.sum('band')\n",
    "                \n",
    "    return ds['coolrg']\n",
    "\n",
    "\n",
    "def pltdata_cooling_1(ds_cool=None,\n",
    "                      ds_cool_crd=None, ds_cool_wgt=None):\n",
    "    \n",
    "\n",
    "\n",
    "    colors = all_palettes['Set1'][4]\n",
    "    data = [{'label': 'CLIRAD `coolr_bands`',\n",
    "             'srs': fmt_cool(ds_cool),\n",
    "             'line_dash': 'dashed', 'line_width': 5,\n",
    "             'color': colors[0], 'alpha': .6},\n",
    "            {'label': 'CRD',\n",
    "             'srs': fmt_cool(ds_cool_crd),\n",
    "             'line_dash': 'solid', 'line_width': 1.5,\n",
    "             'marker': 'circle', 'marker_size': 5,\n",
    "             'color': colors[2], 'alpha': 1,},\n",
    "            {'label': 'WGT igg=10 wgt_flux=2',\n",
    "             'srs': fmt_cool(ds_cool_wgt),\n",
    "             'line_dash': 'solid', 'line_width': 3,\n",
    "             'marker': 'square', 'marker_size': 5,\n",
    "             'color': colors[3], 'alpha': .6}]\n",
    "    return data\n",
    "\n",
    "\n",
    "def nice_xlims(pltdata=None, prange=None):\n",
    "    \n",
    "    def get_slice(srs):\n",
    "        return srs.sel(pressure=slice(*prange))\n",
    "    \n",
    "    srss = [d['srs'] for d in pltdata]\n",
    "    vmin = min([get_slice(srs).min() for srs in srss])\n",
    "    vmax = max([get_slice(srs).max() for srs in srss])\n",
    "    dv = (vmax - vmin) * .01\n",
    "    return float(vmin - dv), float(vmax + dv)\n",
    "    \n",
    "\n",
    "def plt_cooling_bokeh(pltdata=None):\n",
    "    '''\n",
    "    Plot a list of cooling rate profiles using bokeh.\n",
    "    '''\n",
    "    ymin = 1e-2 \n",
    "    ymax = 1020 \n",
    "        \n",
    "    p1 = figure(title=\"Linear pressure scale\", \n",
    "                plot_width=400)        \n",
    "    xmin, xmax = nice_xlims(pltdata, prange=(50, 1050))\n",
    "    for d in pltdata:\n",
    "        if 'marker' in d:\n",
    "            getattr(p1, d['marker'])(d['srs'].values, \n",
    "                    d['srs'].coords['pressure'].values,\n",
    "                    color=d['color'], alpha=.7)\n",
    "        p1.line(d['srs'].values, \n",
    "                d['srs'].coords['pressure'].values,\n",
    "                color=d['color'], alpha=d['alpha'], \n",
    "                line_width=d['line_width'], line_dash=d['line_dash'])\n",
    "    \n",
    "    p1.y_range = Range1d(ymax, ymin)\n",
    "    p1.yaxis.axis_label = 'pressure [mb]'   \n",
    "    p1.x_range = Range1d(xmin, xmax)\n",
    "    p1.xaxis.axis_label = 'cooling rate [K/day]'\n",
    "            \n",
    "    p2 = figure(title='Log pressure scale', y_axis_type='log',\n",
    "                plot_width=560)\n",
    "    xmin, xmax = nice_xlims(pltdata, prange=(.01, 200))\n",
    "    \n",
    "    rs = []\n",
    "    for d in pltdata:\n",
    "        rd = []\n",
    "        if 'marker' in d:\n",
    "            r_mark = getattr(p2, d['marker'])(d['srs'].values, \n",
    "                        d['srs'].coords['pressure'].values,\n",
    "                        color=d['color'], alpha=.7)\n",
    "            rd.append(r_mark)\n",
    "        r_line = p2.line(d['srs'].values, \n",
    "                    d['srs'].coords['pressure'].values,\n",
    "                    color=d['color'], alpha=d['alpha'], \n",
    "                    line_width=d['line_width'], line_dash=d['line_dash'])\n",
    "        rd.append(r_line)\n",
    "      \n",
    "        rs.append(rd)\n",
    "        \n",
    "    p2.y_range = Range1d(ymax, ymin)  \n",
    "    p2.yaxis.axis_label = 'pressure [mb]'\n",
    "    \n",
    "    p2.x_range = Range1d(xmin, xmax)\n",
    "    p2.xaxis.axis_label = 'cooling rate [K/day]'\n",
    "    \n",
    "    items = [(d['label'], r) for r, d in zip(rs, pltdata)]\n",
    "    legend = Legend(items=items, location=(10, -30))\n",
    "    legend.label_text_font_size = '8pt'\n",
    "    \n",
    "    p2.add_layout(legend, 'right')  \n",
    "    \n",
    "    show(gridplot(p1, p2, ncols=2, plot_height=500))\n",
    "    \n",
    "\n",
    "def script_plt_cooling():\n",
    "    pltdata = pltdata_cooling_1(\n",
    "        ds_cool=DS_COOL,\n",
    "        ds_cool_crd=DS_COOL_CRD,\n",
    "        ds_cool_wgt=DS_COOL_WGT)\n",
    "    plt_cooling_bokeh(pltdata=pltdata)\n",
    "    print('''FIGURE. Cooling rate profiles.''')"
   ]
  },
  {
   "cell_type": "code",
   "execution_count": 9,
   "metadata": {
    "collapsed": true
   },
   "outputs": [],
   "source": [
    "def fmt_flux(ds_in):\n",
    "    ds = ds_in.copy(deep=True)\n",
    "    \n",
    "    for l in ('level', 'layer'):\n",
    "        if l in ds.data_vars:\n",
    "            if len(ds[l].dims) > 1:\n",
    "                surface = {d: 0 for d in ds.dims if d != 'pressure'}\n",
    "                coord_level = ds[l][surface]\n",
    "                ds.coords[l] = ('pressure', coord_level)\n",
    "            else:\n",
    "                ds.coords[l] = ('pressure', ds[l])\n",
    "        \n",
    "    ds = ds.isel(pressure=[0, 23, -1])\n",
    "        \n",
    "    if 'igg' in ds.dims:\n",
    "        ds = ds.sel(igg=[1])\n",
    "        ds = ds.squeeze('igg').drop('igg')\n",
    "    \n",
    "    if 'g' in ds.dims:\n",
    "        ds = ds.sum('g')\n",
    "            \n",
    "    if 'band' in ds.dims:\n",
    "        try:\n",
    "            ds = ds.squeeze('band').drop('band')\n",
    "        except ValueError:\n",
    "            ds = ds.sum('band')\n",
    "                \n",
    "    df = ds.to_dataframe()\n",
    "    df = df.set_index('level', append=True)               \n",
    "    return df\n",
    "\n",
    "\n",
    "def tbdata_flux(ds_flux=None, ds_flux_crd=None, ds_flux_wgt=None):\n",
    "    ilevels = [0, 23, -1]\n",
    "            \n",
    "    benchmark = {'label': 'WGT igg=10 wgt_flux=1',\n",
    "                 'df': fmt_flux(ds_flux_wgt)}\n",
    "    \n",
    "    tbs = [{'label': 'CRD',\n",
    "            'df': fmt_flux(ds_flux_crd)},\n",
    "           {'label': 'CLIRAD',\n",
    "            'df': fmt_flux(ds_flux)}]\n",
    "    \n",
    "    data = {'benchmark': benchmark, 'others': tbs}\n",
    "    return data\n",
    "\n",
    "\n",
    "def tb_flux(tbdata=None):\n",
    "    benchmark = tbdata['benchmark']\n",
    "    others = tbdata['others']\n",
    "    \n",
    "    def show_tb(d=None):\n",
    "        display.display(d['df'])\n",
    "        print('Table.', 'Fluxes.', d['label'])\n",
    "        \n",
    "    def show_tbdiff(d0=None, d=None):\n",
    "        df = d['df']\n",
    "        df.index = d0['df'].index\n",
    "        display.display(df - d0['df'])\n",
    "        print('Table.', 'Fluxes.', \n",
    "              '({}) - ({})'.format(d['label'], d0['label']))\n",
    "        \n",
    "    show_tb(benchmark)\n",
    "    for d in others:\n",
    "        show_tb(d)\n",
    "        \n",
    "    for d in others:\n",
    "        show_tbdiff(d=d, d0=benchmark)\n",
    "        \n",
    "        \n",
    "def script_tb_flux():\n",
    "    data = tbdata_flux(ds_flux=DS_FLUX,\n",
    "                       ds_flux_crd=DS_FLUX_CRD,\n",
    "                       ds_flux_wgt=DS_FLUX_WGT)\n",
    "    tb_flux(tbdata=data)"
   ]
  },
  {
   "cell_type": "code",
   "execution_count": 10,
   "metadata": {
    "collapsed": true
   },
   "outputs": [],
   "source": [
    "def band_map():\n",
    "    '''\n",
    "    Maps spectral bands in lblnew to spectral bands in clirad.\n",
    "    '''\n",
    "    lblnew2clirad = {'1': '1',\n",
    "            '2': '2',\n",
    "            '3a': '3',\n",
    "            '3b': '4',\n",
    "            '3c': '5',\n",
    "            '4': '6', \n",
    "            '5': '7',\n",
    "            '6': '8',\n",
    "            '7': '9', \n",
    "            '8': '10',\n",
    "            '9': '11'}\n",
    "    \n",
    "    clirad2lblnew = {clirad: lblnew \n",
    "                     for lblnew, clirad in lblnew2clirad.items()}\n",
    "    return clirad2lblnew\n",
    "\n",
    "\n",
    "def gasbands():\n",
    "    bmap = band_map()\n",
    "    gases = list(PARAM['molecule'].keys())\n",
    "    \n",
    "    bands = [bmap[str(b)] for b in PARAM['band']]\n",
    "    return list(itertools.product(gases, bands))\n",
    "\n",
    "\n",
    "def print_bestfit_params():\n",
    "    print('Best-fit values for each (gas, band)')\n",
    "    print('------------------------------------')\n",
    "    for gas, band in gasbands():\n",
    "        print('o {} band{}'.format(gas, band))\n",
    "        param = bestfits.kdist_params(molecule=gas, band=band)\n",
    "        for name, value in sorted(param.items()):\n",
    "            print(2 * ' ' + '{} = {}'.format(name, value))\n",
    "\n",
    "        \n",
    "def print_input_param():        \n",
    "    for name, value in PARAM.items():\n",
    "        print('{} = {}'.format(name, value))\n",
    "        \n",
    "        \n",
    "def print_lblnew_param():\n",
    "    for name, value in sorted(PARAM_LBLNEW.items()):\n",
    "        print('{} = {}'.format(name, value))\n"
   ]
  },
  {
   "cell_type": "code",
   "execution_count": 11,
   "metadata": {
    "collapsed": true,
    "scrolled": false
   },
   "outputs": [],
   "source": [
    "def show_html(s):\n",
    "    display.display(display.HTML(s))\n",
    "\n",
    "    \n",
    "def show_markdown(s):\n",
    "    display.display(display.Markdown(s))\n",
    "\n",
    "    \n",
    "def script():\n",
    "    \n",
    "    title = '### CLIRAD-LW'\n",
    "    s_input = 'Input Parameters'\n",
    "    s_lblnew_param = 'LBLNEW case compaired against'\n",
    "    s_bestfits = 'Best-fit Parameters'\n",
    "    s_plt_cooling = 'Cooling Rate Profiles'\n",
    "    s_tb_flux = 'Flux Comparison'\n",
    "    \n",
    "    # title\n",
    "    show_markdown('### CLIRAD-LW')\n",
    "    \n",
    "    # TOC\n",
    "    show_markdown('### Table of Contents')\n",
    "    show_html(climahtml.getHTML_hrefanchor(s_input))\n",
    "    show_html(climahtml.getHTML_hrefanchor(s_lblnew_param))\n",
    "    show_html(climahtml.getHTML_hrefanchor(s_plt_cooling))\n",
    "    show_html(climahtml.getHTML_hrefanchor(s_tb_flux))\n",
    "    show_html(climahtml.getHTML_hrefanchor(s_bestfits))\n",
    "    \n",
    "    # Input parameters\n",
    "    show_html(climahtml.getHTML_idanchor(s_input))\n",
    "    show_markdown(climahtml.getMarkdown_sectitle(s_input))\n",
    "    print_input_param()\n",
    "    \n",
    "    # LBLNEW parameters \n",
    "    show_html(climahtml.getHTML_idanchor(s_lblnew_param))\n",
    "    show_markdown(climahtml.getMarkdown_sectitle(s_lblnew_param))\n",
    "    print_lblnew_param()\n",
    "    \n",
    "    # Cooling rate profiles\n",
    "    show_html(climahtml.getHTML_idanchor(s_plt_cooling))\n",
    "    show_markdown(climahtml.getMarkdown_sectitle(s_plt_cooling))\n",
    "    script_plt_cooling()\n",
    "    \n",
    "    # Flux comparison\n",
    "    show_html(climahtml.getHTML_idanchor(s_tb_flux))\n",
    "    show_markdown(climahtml.getMarkdown_sectitle(s_tb_flux))\n",
    "    script_tb_flux()\n",
    "    \n",
    "    # Best-fit values\n",
    "    show_html(climahtml.getHTML_idanchor(s_bestfits))\n",
    "    show_markdown(climahtml.getMarkdown_sectitle(s_bestfits))\n",
    "    print_bestfit_params()\n",
    "   \n",
    "    "
   ]
  },
  {
   "cell_type": "code",
   "execution_count": 12,
   "metadata": {
    "collapsed": true,
    "scrolled": false
   },
   "outputs": [
    {
     "data": {
      "text/markdown": [
       "### CLIRAD-LW"
      ],
      "text/plain": [
       "<IPython.core.display.Markdown object>"
      ]
     },
     "metadata": {},
     "output_type": "display_data"
    },
    {
     "data": {
      "text/markdown": [
       "### Table of Contents"
      ],
      "text/plain": [
       "<IPython.core.display.Markdown object>"
      ]
     },
     "metadata": {},
     "output_type": "display_data"
    },
    {
     "data": {
      "text/html": [
       "<a href=\"#Input_Parameters\">Input Parameters</a>"
      ],
      "text/plain": [
       "<IPython.core.display.HTML object>"
      ]
     },
     "metadata": {},
     "output_type": "display_data"
    },
    {
     "data": {
      "text/html": [
       "<a href=\"#LBLNEW_case_compaired_against\">LBLNEW case compaired against</a>"
      ],
      "text/plain": [
       "<IPython.core.display.HTML object>"
      ]
     },
     "metadata": {},
     "output_type": "display_data"
    },
    {
     "data": {
      "text/html": [
       "<a href=\"#Cooling_Rate_Profiles\">Cooling Rate Profiles</a>"
      ],
      "text/plain": [
       "<IPython.core.display.HTML object>"
      ]
     },
     "metadata": {},
     "output_type": "display_data"
    },
    {
     "data": {
      "text/html": [
       "<a href=\"#Flux_Comparison\">Flux Comparison</a>"
      ],
      "text/plain": [
       "<IPython.core.display.HTML object>"
      ]
     },
     "metadata": {},
     "output_type": "display_data"
    },
    {
     "data": {
      "text/html": [
       "<a href=\"#Best-fit_Parameters\">Best-fit Parameters</a>"
      ],
      "text/plain": [
       "<IPython.core.display.HTML object>"
      ]
     },
     "metadata": {},
     "output_type": "display_data"
    },
    {
     "data": {
      "text/html": [
       "<a id=\"Input_Parameters\"></a>"
      ],
      "text/plain": [
       "<IPython.core.display.HTML object>"
      ]
     },
     "metadata": {},
     "output_type": "display_data"
    },
    {
     "data": {
      "text/markdown": [
       "# Input Parameters"
      ],
      "text/plain": [
       "<IPython.core.display.Markdown object>"
      ]
     },
     "metadata": {},
     "output_type": "display_data"
    },
    {
     "name": "stdout",
     "output_type": "stream",
     "text": [
      "atmpro = trp\n",
      "band = [3]\n",
      "commitnumber = 7fe1447_x\n",
      "molecule = {'co2': 0.0004}\n",
      "tsfc = 300\n"
     ]
    },
    {
     "data": {
      "text/html": [
       "<a id=\"LBLNEW_case_compaired_against\"></a>"
      ],
      "text/plain": [
       "<IPython.core.display.HTML object>"
      ]
     },
     "metadata": {},
     "output_type": "display_data"
    },
    {
     "data": {
      "text/markdown": [
       "# LBLNEW case compaired against"
      ],
      "text/plain": [
       "<IPython.core.display.Markdown object>"
      ]
     },
     "metadata": {},
     "output_type": "display_data"
    },
    {
     "name": "stdout",
     "output_type": "stream",
     "text": [
      "atmpro = trp\n",
      "band = 3a\n",
      "commitnumber = a06b618\n",
      "conc = 0.0004\n",
      "dv = 0.001\n",
      "klin = 6.375563e-24\n",
      "molecule = co2\n",
      "ng_adju = [0, 0, 0]\n",
      "ng_refs = [3, 2, 4]\n",
      "nv = 1000\n",
      "option_compute_btable = 0\n",
      "option_compute_ktable = 0\n",
      "option_wgt_flux = 1\n",
      "option_wgt_k = 1\n",
      "ref_pts = [(1, 250), (10, 250), (500, 250)]\n",
      "tsfc = 300\n",
      "vmax = 620\n",
      "vmin = 540\n",
      "w_diffuse = [(1.6, 1.6, 1.7), (1.75, 1.75), (1.55, 1.55, 1.6, 1.85)]\n",
      "wgt = [(0.7, 0.3, 0.7), (0.7, 0.6), (0.4, 0.5, 0.8, 0.95)]\n"
     ]
    },
    {
     "data": {
      "text/html": [
       "<a id=\"Cooling_Rate_Profiles\"></a>"
      ],
      "text/plain": [
       "<IPython.core.display.HTML object>"
      ]
     },
     "metadata": {},
     "output_type": "display_data"
    },
    {
     "data": {
      "text/markdown": [
       "# Cooling Rate Profiles"
      ],
      "text/plain": [
       "<IPython.core.display.Markdown object>"
      ]
     },
     "metadata": {},
     "output_type": "display_data"
    },
    {
     "data": {
      "text/html": [
       "\n",
       "<div class=\"bk-root\">\n",
       "    <div class=\"bk-plotdiv\" id=\"e9a0856b-1d29-4091-88b4-da68379c396d\"></div>\n",
       "</div>"
      ]
     },
     "metadata": {},
     "output_type": "display_data"
    },
    {
     "data": {
      "application/javascript": [
       "(function(root) {\n",
       "  function embed_document(root) {\n",
       "    \n",
       "  var docs_json = {\"793b55dc-56e0-440e-9c21-ff7a2a37b87e\":{\"roots\":{\"references\":[{\"attributes\":{\"fill_alpha\":{\"value\":0.7},\"fill_color\":{\"value\":\"#4daf4a\"},\"line_alpha\":{\"value\":0.7},\"line_color\":{\"value\":\"#4daf4a\"},\"x\":{\"field\":\"x\"},\"y\":{\"field\":\"y\"}},\"id\":\"9089be9e-7d28-4651-9602-9dbcbccea8df\",\"type\":\"Circle\"},{\"attributes\":{},\"id\":\"666a02b3-1f1e-46db-9d4a-2f4000d20eaa\",\"type\":\"BasicTickFormatter\"},{\"attributes\":{\"callback\":null,\"column_names\":[\"x\",\"y\"],\"data\":{\"x\":{\"__ndarray__\":\"AFv7jiPO2D//gUlcjc3YP0pWsFPNqNk/UNsrmJ1q2j9CP5XLLQrbP/MUQbUkdNs/+xpR87ic2z/LOB0zFm7bP2KdKt8z0to/mEOcmD+w2T8apAE4ze3XP/XQBKtmbdU/ktXnSR0N0j+ON+CQmc3LP+uJMkTjw8g/0ac8V+dazj8adFuFQdfSPxfLPtneeNU/kdM6HvGz1z90zQWqVpHaP0Y/noY9p98/+0u9NGbu4z8wNFMxAPrjPyQHsr9oxuA/syAYMBZA3D9Kx8XmHcbWP1L1ZUiZfdI/1RbHFrxHzj8+wKRChp/IP4bRg+3tt8M/DWWP7Qjpvj8mHJuZcJq3Px7TsmzokbE/dKS5acH4qT/X8l1ZiF+aP20MidUJ6m+/Aa5Kc0Igl7+vyAjYqRqUvxdkm7lfvGm/yYx0nYbjfj/RWCa8N5iRP7ZFGI0c7Jo/MfFy0cPioT+TnFhPyROmP11VD/uxB6o/wfJNvsy8rT9qw2vbU5mwPx7NvhbnNLI/m4ezJSKxsz8Wb4rlmw+1P7WZY6mQU7Y/tFNpR05/tz8ZkC805pS4P1PEwVyNl7k/OAysBAeLuj9Msw6BAnO7P9GqXMkKVbw/EOO55444vT8p+UP5oyS+P3hNQPrDIr8/1++R5vITwD/wUfuEHnfAP+7YnSjoesA/UYxFNgQFwD9dPxYFbpu+P++0kNuKWL0/vI7+uHm6vD9Z5VuCANe8P9Vnvc48b70/PGtUM61Fvj8IBu8vq0W/P5Q/rdzqPcA/QEQwLzwGwT8tFOENBirCP8sMwKuKlcQ/\",\"dtype\":\"float64\",\"shape\":[75]},\"y\":{\"__ndarray__\":\"GhExyth1ND/Sv8nbtpRIP2vylNV0PVE/aTum7souWD/At0SJ8fVgPw3Iuahxymc/MSNhhJWvcD/bTfBN02d3P2zb5nxnaoA/CD5h5MAGhz8NmeH1TyaQP+zrCsc9p5Y/LbKd76fGnz/bLW5ISEmmPww9YvTcQq8/JV2OstnstT8Er5Y7M8G+P0c+r3jqkcU/5h99k6ZBzj88bCIzFzjVP4enV8oyxN0//yH99nXg5D8qOpLLf0jtP5kqGJXUifQ/c9cS8kHP/D+/DpwzojQEQIEmwoanVwxA4lgXt9HgE0BSSZ2AJuIbQAMJih9jjiNA5q4l5INuK0AwTKYKRj0zQNv5fmq8/DpAaCJseHrtQkB/+zpwzoxKQM3MzMzMeFJAZmZmZmZqWEAAAAAAAFxeQM3MzMzMJmJAmpmZmZkfZUBmZmZmZhhoQDMzMzMzEWtAAAAAAAAKbkBmZmZmZoFwQM3MzMzM/XFAMzMzMzN6c0CamZmZmfZ0QAAAAAAAc3ZAZmZmZmbvd0DNzMzMzGt5QDMzMzMz6HpAmpmZmZlkfEAAAAAAAOF9QGZmZmZmXX9AZmZmZuZsgECamZmZGSuBQM3MzMxM6YFAAAAAAICngkAzMzMzs2WDQGZmZmbmI4RAmpmZmRnihEDNzMzMTKCFQAAAAACAXoZAMzMzM7Mch0BmZmZm5tqHQJqZmZkZmYhAzczMzExXiUAAAAAAgBWKQDMzMzOz04pAZmZmZuaRi0CamZmZGVCMQM3MzMxMDo1AAAAAAIDMjUAzMzMzs4qOQGZmZmbmSI9A\",\"dtype\":\"float64\",\"shape\":[75]}}},\"id\":\"b6e78929-13cc-4df1-8f1d-4837f41ccf99\",\"type\":\"ColumnDataSource\"},{\"attributes\":{\"toolbar\":{\"id\":\"0f80e3b3-3e6a-4f10-ae18-611591fdc7a6\",\"type\":\"ProxyToolbar\"},\"toolbar_location\":\"above\"},\"id\":\"ee86c361-16cf-4132-8981-140af75d8b38\",\"type\":\"ToolbarBox\"},{\"attributes\":{\"line_alpha\":0.1,\"line_color\":\"#1f77b4\",\"line_dash\":[6],\"line_width\":5,\"x\":{\"field\":\"x\"},\"y\":{\"field\":\"y\"}},\"id\":\"69fc77db-121d-4326-833a-88d92fb6377d\",\"type\":\"Line\"},{\"attributes\":{\"label\":{\"value\":\"WGT igg=10 wgt_flux=2\"},\"renderers\":[{\"id\":\"92513e22-09ff-4c57-aba8-0fc2e85f4626\",\"type\":\"GlyphRenderer\"},{\"id\":\"896e5a04-0f02-4018-ada5-038badcdef27\",\"type\":\"GlyphRenderer\"}]},\"id\":\"28e12126-72af-43f7-8f30-71288c73aa74\",\"type\":\"LegendItem\"},{\"attributes\":{\"data_source\":{\"id\":\"b6e78929-13cc-4df1-8f1d-4837f41ccf99\",\"type\":\"ColumnDataSource\"},\"glyph\":{\"id\":\"9089be9e-7d28-4651-9602-9dbcbccea8df\",\"type\":\"Circle\"},\"hover_glyph\":null,\"muted_glyph\":null,\"nonselection_glyph\":{\"id\":\"f0357363-0059-4a8a-8b07-d570b74093ab\",\"type\":\"Circle\"},\"selection_glyph\":null,\"view\":{\"id\":\"cc02b08b-e151-471a-9a9f-492ac0c329cf\",\"type\":\"CDSView\"}},\"id\":\"505a5da7-88a3-4d4d-836a-a9bb6aee48ca\",\"type\":\"GlyphRenderer\"},{\"attributes\":{\"data_source\":{\"id\":\"d3f486fa-e924-47d0-a49b-8d67987bc413\",\"type\":\"ColumnDataSource\"},\"glyph\":{\"id\":\"ed145d20-957c-4b9d-bf3b-96f85eb1880c\",\"type\":\"Line\"},\"hover_glyph\":null,\"muted_glyph\":null,\"nonselection_glyph\":{\"id\":\"277930ff-2991-4619-a0f2-1d9932147be8\",\"type\":\"Line\"},\"selection_glyph\":null,\"view\":{\"id\":\"0eedb554-c1ea-4c65-a049-bd27a5c01441\",\"type\":\"CDSView\"}},\"id\":\"08e7a86c-723b-4d45-a7fd-d1b16a77cc4a\",\"type\":\"GlyphRenderer\"},{\"attributes\":{\"callback\":null,\"column_names\":[\"x\",\"y\"],\"data\":{\"x\":{\"__ndarray__\":\"AFv7jiPO2D//gUlcjc3YP0pWsFPNqNk/UNsrmJ1q2j9CP5XLLQrbP/MUQbUkdNs/+xpR87ic2z/LOB0zFm7bP2KdKt8z0to/mEOcmD+w2T8apAE4ze3XP/XQBKtmbdU/ktXnSR0N0j+ON+CQmc3LP+uJMkTjw8g/0ac8V+dazj8adFuFQdfSPxfLPtneeNU/kdM6HvGz1z90zQWqVpHaP0Y/noY9p98/+0u9NGbu4z8wNFMxAPrjPyQHsr9oxuA/syAYMBZA3D9Kx8XmHcbWP1L1ZUiZfdI/1RbHFrxHzj8+wKRChp/IP4bRg+3tt8M/DWWP7Qjpvj8mHJuZcJq3Px7TsmzokbE/dKS5acH4qT/X8l1ZiF+aP20MidUJ6m+/Aa5Kc0Igl7+vyAjYqRqUvxdkm7lfvGm/yYx0nYbjfj/RWCa8N5iRP7ZFGI0c7Jo/MfFy0cPioT+TnFhPyROmP11VD/uxB6o/wfJNvsy8rT9qw2vbU5mwPx7NvhbnNLI/m4ezJSKxsz8Wb4rlmw+1P7WZY6mQU7Y/tFNpR05/tz8ZkC805pS4P1PEwVyNl7k/OAysBAeLuj9Msw6BAnO7P9GqXMkKVbw/EOO55444vT8p+UP5oyS+P3hNQPrDIr8/1++R5vITwD/wUfuEHnfAP+7YnSjoesA/UYxFNgQFwD9dPxYFbpu+P++0kNuKWL0/vI7+uHm6vD9Z5VuCANe8P9Vnvc48b70/PGtUM61Fvj8IBu8vq0W/P5Q/rdzqPcA/QEQwLzwGwT8tFOENBirCP8sMwKuKlcQ/\",\"dtype\":\"float64\",\"shape\":[75]},\"y\":{\"__ndarray__\":\"GhExyth1ND/Sv8nbtpRIP2vylNV0PVE/aTum7souWD/At0SJ8fVgPw3Iuahxymc/MSNhhJWvcD/bTfBN02d3P2zb5nxnaoA/CD5h5MAGhz8NmeH1TyaQP+zrCsc9p5Y/LbKd76fGnz/bLW5ISEmmPww9YvTcQq8/JV2OstnstT8Er5Y7M8G+P0c+r3jqkcU/5h99k6ZBzj88bCIzFzjVP4enV8oyxN0//yH99nXg5D8qOpLLf0jtP5kqGJXUifQ/c9cS8kHP/D+/DpwzojQEQIEmwoanVwxA4lgXt9HgE0BSSZ2AJuIbQAMJih9jjiNA5q4l5INuK0AwTKYKRj0zQNv5fmq8/DpAaCJseHrtQkB/+zpwzoxKQM3MzMzMeFJAZmZmZmZqWEAAAAAAAFxeQM3MzMzMJmJAmpmZmZkfZUBmZmZmZhhoQDMzMzMzEWtAAAAAAAAKbkBmZmZmZoFwQM3MzMzM/XFAMzMzMzN6c0CamZmZmfZ0QAAAAAAAc3ZAZmZmZmbvd0DNzMzMzGt5QDMzMzMz6HpAmpmZmZlkfEAAAAAAAOF9QGZmZmZmXX9AZmZmZuZsgECamZmZGSuBQM3MzMxM6YFAAAAAAICngkAzMzMzs2WDQGZmZmbmI4RAmpmZmRnihEDNzMzMTKCFQAAAAACAXoZAMzMzM7Mch0BmZmZm5tqHQJqZmZkZmYhAzczMzExXiUAAAAAAgBWKQDMzMzOz04pAZmZmZuaRi0CamZmZGVCMQM3MzMxMDo1AAAAAAIDMjUAzMzMzs4qOQGZmZmbmSI9A\",\"dtype\":\"float64\",\"shape\":[75]}}},\"id\":\"a5dfaf0d-a9f3-48e0-bd34-b2a0d1211ebb\",\"type\":\"ColumnDataSource\"},{\"attributes\":{\"bottom_units\":\"screen\",\"fill_alpha\":{\"value\":0.5},\"fill_color\":{\"value\":\"lightgrey\"},\"left_units\":\"screen\",\"level\":\"overlay\",\"line_alpha\":{\"value\":1.0},\"line_color\":{\"value\":\"black\"},\"line_dash\":[4,4],\"line_width\":{\"value\":2},\"plot\":null,\"render_mode\":\"css\",\"right_units\":\"screen\",\"top_units\":\"screen\"},\"id\":\"da8fb85d-c1ec-4eaa-a303-ad5616a71ce7\",\"type\":\"BoxAnnotation\"},{\"attributes\":{\"fill_alpha\":{\"value\":0.1},\"fill_color\":{\"value\":\"#1f77b4\"},\"line_alpha\":{\"value\":0.1},\"line_color\":{\"value\":\"#1f77b4\"},\"x\":{\"field\":\"x\"},\"y\":{\"field\":\"y\"}},\"id\":\"f0357363-0059-4a8a-8b07-d570b74093ab\",\"type\":\"Circle\"},{\"attributes\":{\"ticker\":null},\"id\":\"04afb9e7-463e-49c9-9ca6-469c30984249\",\"type\":\"LogTickFormatter\"},{\"attributes\":{},\"id\":\"ae8056e6-4cf9-47da-a04d-d0c4125db995\",\"type\":\"BasicTickFormatter\"},{\"attributes\":{\"active_drag\":\"auto\",\"active_inspect\":\"auto\",\"active_scroll\":\"auto\",\"active_tap\":\"auto\",\"tools\":[{\"id\":\"1fcacef5-2d56-416d-8c4e-e13f8d7b7b87\",\"type\":\"PanTool\"},{\"id\":\"33ad9a83-d784-4bc9-8786-1b7a8583025d\",\"type\":\"WheelZoomTool\"},{\"id\":\"8b839932-be0f-407c-b466-b4e652c22d8d\",\"type\":\"BoxZoomTool\"},{\"id\":\"f8508c12-8025-4067-8bb7-09b4898fd8e9\",\"type\":\"SaveTool\"},{\"id\":\"19c267a4-e774-488d-b2a5-8ad401b88a3d\",\"type\":\"ResetTool\"},{\"id\":\"01412f66-7c2f-4ad1-bfa3-c3b164f66f71\",\"type\":\"HelpTool\"}]},\"id\":\"f9975a3d-2d34-4779-9455-b5b09a5eb50c\",\"type\":\"Toolbar\"},{\"attributes\":{\"data_source\":{\"id\":\"a5dfaf0d-a9f3-48e0-bd34-b2a0d1211ebb\",\"type\":\"ColumnDataSource\"},\"glyph\":{\"id\":\"0810b9c0-321d-4384-9d03-5fa20c799afd\",\"type\":\"Line\"},\"hover_glyph\":null,\"muted_glyph\":null,\"nonselection_glyph\":{\"id\":\"c3442edd-3ac2-467d-a612-923b747eada1\",\"type\":\"Line\"},\"selection_glyph\":null,\"view\":{\"id\":\"6ca42ff7-ab07-46dd-a323-fa3afd8606d4\",\"type\":\"CDSView\"}},\"id\":\"4e024489-a93a-45dc-a030-35f242eec6ae\",\"type\":\"GlyphRenderer\"},{\"attributes\":{},\"id\":\"33ad9a83-d784-4bc9-8786-1b7a8583025d\",\"type\":\"WheelZoomTool\"},{\"attributes\":{\"plot\":null,\"text\":\"Log pressure scale\"},\"id\":\"1fffe4d0-30d4-4dc3-86af-7e211559a583\",\"type\":\"Title\"},{\"attributes\":{\"source\":{\"id\":\"d3f486fa-e924-47d0-a49b-8d67987bc413\",\"type\":\"ColumnDataSource\"}},\"id\":\"0eedb554-c1ea-4c65-a049-bd27a5c01441\",\"type\":\"CDSView\"},{\"attributes\":{\"callback\":null,\"column_names\":[\"x\",\"y\"],\"data\":{\"x\":{\"__ndarray__\":\"diGPdMOd1T/+lINadMTVP609/a6Jn9Y/2Gj0t8Zr1z+ah2Zv5iDYP3AFNOZps9g/GhwdLpsa2T+49ATZ80XZPxCPNCkEIdk/ULah2/ST2D8KQT+MpHvXP1XOr+wdwtU/REIE3yox0z+1jp3TPLzPPwf9UeW/sc0//mEnOMac0T/E160ROMnUP/8T3JgBV9Y/ybsmdknz1j/OiVHhlT7YP+elXIV/htw/Dvyoshdq4j/mcD00MjPjP95GfqUIu+A/HgHpDUF+3D8HSZvuVkLXP4SQ2tbYc9M/k7f4mjyz0D+sCahE7XLMP3diwNKpSsc/9LrPDhAKwj84xwzi0oS6P4i3+6987LI/kY6dH4/sqz/X90nh7uaeP77x/OboxUO/MUUUUz8Alr+5Xr5dcUySv2sbr+Q7hUw/3OdAC+5Gij8o8XzWS8SXP+xNimU2eKA/KhqDtTtmpD+aGEJFlcinPyQHMyrxxao/9TtbLNV/rT/1hVBkNwewPxRc2uo4QrE/hw1GN8t1sj/NC2E9eaSzPyOQnhyd0LQ/v1TFXxf7tT/eaYfO7CG3P5DWOyRnQbg/QPNx0lhbuT+txI/CVG+6P9+BSZsIf7s/rOgPvVGNvD/llgX3nKG9P9PUZaTAwb4/QH0N72Pmvz/XHKoDimXAP5DyYvmneMA/JerwELYUwD/w7oAVWuG+PxzYSvGTwb0/PgXsBYY7vT92vWvYL2O9P0BO3TAV/b0/mngbpX/Nvj+K0pgIuMK/P038aoT2c8A/Qu5RQ/ovwT+NUCTCfELCPw5wkpuujsQ/\",\"dtype\":\"float64\",\"shape\":[75]},\"y\":{\"__ndarray__\":\"GhExyth1ND/Sv8nbtpRIP2vylNV0PVE/aTum7souWD/At0SJ8fVgPw3Iuahxymc/MSNhhJWvcD/bTfBN02d3P2zb5nxnaoA/CD5h5MAGhz8NmeH1TyaQP+zrCsc9p5Y/LbKd76fGnz/bLW5ISEmmPww9YvTcQq8/JV2OstnstT8Er5Y7M8G+P0c+r3jqkcU/5h99k6ZBzj88bCIzFzjVP4enV8oyxN0//yH99nXg5D8qOpLLf0jtP5kqGJXUifQ/c9cS8kHP/D+/DpwzojQEQIEmwoanVwxA4lgXt9HgE0BSSZ2AJuIbQAMJih9jjiNA5q4l5INuK0AwTKYKRj0zQNv5fmq8/DpAaCJseHrtQkB/+zpwzoxKQM3MzMzMeFJAZmZmZmZqWEAAAAAAAFxeQM3MzMzMJmJAmpmZmZkfZUBmZmZmZhhoQDMzMzMzEWtAAAAAAAAKbkBmZmZmZoFwQM3MzMzM/XFAMzMzMzN6c0CamZmZmfZ0QAAAAAAAc3ZAZmZmZmbvd0DNzMzMzGt5QDMzMzMz6HpAmpmZmZlkfEAAAAAAAOF9QGZmZmZmXX9AZmZmZuZsgECamZmZGSuBQM3MzMxM6YFAAAAAAICngkAzMzMzs2WDQGZmZmbmI4RAmpmZmRnihEDNzMzMTKCFQAAAAACAXoZAMzMzM7Mch0BmZmZm5tqHQJqZmZkZmYhAzczMzExXiUAAAAAAgBWKQDMzMzOz04pAZmZmZuaRi0CamZmZGVCMQM3MzMxMDo1AAAAAAIDMjUAzMzMzs4qOQGZmZmbmSI9A\",\"dtype\":\"float64\",\"shape\":[75]}}},\"id\":\"fe6c083e-9848-461b-8258-7d2efd22d9b6\",\"type\":\"ColumnDataSource\"},{\"attributes\":{\"axis_label\":\"cooling rate [K/day]\",\"formatter\":{\"id\":\"ae8056e6-4cf9-47da-a04d-d0c4125db995\",\"type\":\"BasicTickFormatter\"},\"plot\":{\"id\":\"ac7801dd-4c07-4f48-ae3e-b97116f61ab1\",\"subtype\":\"Figure\",\"type\":\"Plot\"},\"ticker\":{\"id\":\"1ff36d2d-bf4f-40de-a31c-de5251b48e82\",\"type\":\"BasicTicker\"}},\"id\":\"416b8a62-aacf-4c81-94c2-c8b7f49dbcec\",\"type\":\"LinearAxis\"},{\"attributes\":{\"source\":{\"id\":\"b6e78929-13cc-4df1-8f1d-4837f41ccf99\",\"type\":\"ColumnDataSource\"}},\"id\":\"cc02b08b-e151-471a-9a9f-492ac0c329cf\",\"type\":\"CDSView\"},{\"attributes\":{\"line_color\":\"#4daf4a\",\"line_width\":1.5,\"x\":{\"field\":\"x\"},\"y\":{\"field\":\"y\"}},\"id\":\"0810b9c0-321d-4384-9d03-5fa20c799afd\",\"type\":\"Line\"},{\"attributes\":{\"line_alpha\":0.1,\"line_color\":\"#1f77b4\",\"line_width\":1.5,\"x\":{\"field\":\"x\"},\"y\":{\"field\":\"y\"}},\"id\":\"c3442edd-3ac2-467d-a612-923b747eada1\",\"type\":\"Line\"},{\"attributes\":{\"fill_alpha\":{\"value\":0.1},\"fill_color\":{\"value\":\"#1f77b4\"},\"line_alpha\":{\"value\":0.1},\"line_color\":{\"value\":\"#1f77b4\"},\"x\":{\"field\":\"x\"},\"y\":{\"field\":\"y\"}},\"id\":\"f44f7aac-a309-4b68-b4e0-a6d89650541e\",\"type\":\"Circle\"},{\"attributes\":{\"callback\":null,\"column_names\":[\"x\",\"y\"],\"data\":{\"x\":{\"__ndarray__\":\"diGPdMOd1T/+lINadMTVP609/a6Jn9Y/2Gj0t8Zr1z+ah2Zv5iDYP3AFNOZps9g/GhwdLpsa2T+49ATZ80XZPxCPNCkEIdk/ULah2/ST2D8KQT+MpHvXP1XOr+wdwtU/REIE3yox0z+1jp3TPLzPPwf9UeW/sc0//mEnOMac0T/E160ROMnUP/8T3JgBV9Y/ybsmdknz1j/OiVHhlT7YP+elXIV/htw/Dvyoshdq4j/mcD00MjPjP95GfqUIu+A/HgHpDUF+3D8HSZvuVkLXP4SQ2tbYc9M/k7f4mjyz0D+sCahE7XLMP3diwNKpSsc/9LrPDhAKwj84xwzi0oS6P4i3+6987LI/kY6dH4/sqz/X90nh7uaeP77x/OboxUO/MUUUUz8Alr+5Xr5dcUySv2sbr+Q7hUw/3OdAC+5Gij8o8XzWS8SXP+xNimU2eKA/KhqDtTtmpD+aGEJFlcinPyQHMyrxxao/9TtbLNV/rT/1hVBkNwewPxRc2uo4QrE/hw1GN8t1sj/NC2E9eaSzPyOQnhyd0LQ/v1TFXxf7tT/eaYfO7CG3P5DWOyRnQbg/QPNx0lhbuT+txI/CVG+6P9+BSZsIf7s/rOgPvVGNvD/llgX3nKG9P9PUZaTAwb4/QH0N72Pmvz/XHKoDimXAP5DyYvmneMA/JerwELYUwD/w7oAVWuG+PxzYSvGTwb0/PgXsBYY7vT92vWvYL2O9P0BO3TAV/b0/mngbpX/Nvj+K0pgIuMK/P038aoT2c8A/Qu5RQ/ovwT+NUCTCfELCPw5wkpuujsQ/\",\"dtype\":\"float64\",\"shape\":[75]},\"y\":{\"__ndarray__\":\"GhExyth1ND/Sv8nbtpRIP2vylNV0PVE/aTum7souWD/At0SJ8fVgPw3Iuahxymc/MSNhhJWvcD/bTfBN02d3P2zb5nxnaoA/CD5h5MAGhz8NmeH1TyaQP+zrCsc9p5Y/LbKd76fGnz/bLW5ISEmmPww9YvTcQq8/JV2OstnstT8Er5Y7M8G+P0c+r3jqkcU/5h99k6ZBzj88bCIzFzjVP4enV8oyxN0//yH99nXg5D8qOpLLf0jtP5kqGJXUifQ/c9cS8kHP/D+/DpwzojQEQIEmwoanVwxA4lgXt9HgE0BSSZ2AJuIbQAMJih9jjiNA5q4l5INuK0AwTKYKRj0zQNv5fmq8/DpAaCJseHrtQkB/+zpwzoxKQM3MzMzMeFJAZmZmZmZqWEAAAAAAAFxeQM3MzMzMJmJAmpmZmZkfZUBmZmZmZhhoQDMzMzMzEWtAAAAAAAAKbkBmZmZmZoFwQM3MzMzM/XFAMzMzMzN6c0CamZmZmfZ0QAAAAAAAc3ZAZmZmZmbvd0DNzMzMzGt5QDMzMzMz6HpAmpmZmZlkfEAAAAAAAOF9QGZmZmZmXX9AZmZmZuZsgECamZmZGSuBQM3MzMxM6YFAAAAAAICngkAzMzMzs2WDQGZmZmbmI4RAmpmZmRnihEDNzMzMTKCFQAAAAACAXoZAMzMzM7Mch0BmZmZm5tqHQJqZmZkZmYhAzczMzExXiUAAAAAAgBWKQDMzMzOz04pAZmZmZuaRi0CamZmZGVCMQM3MzMxMDo1AAAAAAIDMjUAzMzMzs4qOQGZmZmbmSI9A\",\"dtype\":\"float64\",\"shape\":[75]}}},\"id\":\"c5cd7222-9f41-47ec-b2f4-8c853d896ffa\",\"type\":\"ColumnDataSource\"},{\"attributes\":{\"line_alpha\":0.6,\"line_color\":\"#984ea3\",\"line_width\":3,\"x\":{\"field\":\"x\"},\"y\":{\"field\":\"y\"}},\"id\":\"d17b5e48-cca0-4092-a022-3dd6eb29bb3d\",\"type\":\"Line\"},{\"attributes\":{},\"id\":\"1fcacef5-2d56-416d-8c4e-e13f8d7b7b87\",\"type\":\"PanTool\"},{\"attributes\":{\"source\":{\"id\":\"a5dfaf0d-a9f3-48e0-bd34-b2a0d1211ebb\",\"type\":\"ColumnDataSource\"}},\"id\":\"6ca42ff7-ab07-46dd-a323-fa3afd8606d4\",\"type\":\"CDSView\"},{\"attributes\":{\"data_source\":{\"id\":\"5375fbe5-b13b-44a3-a0a4-5228859caa21\",\"type\":\"ColumnDataSource\"},\"glyph\":{\"id\":\"2555e518-f110-45d3-a6a0-41d031c6d989\",\"type\":\"Line\"},\"hover_glyph\":null,\"muted_glyph\":null,\"nonselection_glyph\":{\"id\":\"69fc77db-121d-4326-833a-88d92fb6377d\",\"type\":\"Line\"},\"selection_glyph\":null,\"view\":{\"id\":\"ffa3a913-733c-44d0-bc1a-4a0e8f7ad993\",\"type\":\"CDSView\"}},\"id\":\"ddf11273-9e24-421d-a953-c07d2a43cc11\",\"type\":\"GlyphRenderer\"},{\"attributes\":{\"fill_alpha\":{\"value\":0.7},\"fill_color\":{\"value\":\"#984ea3\"},\"line_alpha\":{\"value\":0.7},\"line_color\":{\"value\":\"#984ea3\"},\"x\":{\"field\":\"x\"},\"y\":{\"field\":\"y\"}},\"id\":\"395ff65d-0da8-40c6-bf96-ca19d5ec70fa\",\"type\":\"Square\"},{\"attributes\":{\"source\":{\"id\":\"fe6c083e-9848-461b-8258-7d2efd22d9b6\",\"type\":\"ColumnDataSource\"}},\"id\":\"9037f1a5-65a3-4f31-b4ea-080ab0c7a168\",\"type\":\"CDSView\"},{\"attributes\":{\"callback\":null,\"end\":0.6307361866800001,\"start\":-0.02905251468},\"id\":\"0308671b-e2ba-44e1-96f0-a0f1adf74cbe\",\"type\":\"Range1d\"},{\"attributes\":{\"callback\":null,\"column_names\":[\"x\",\"y\"],\"data\":{\"x\":{\"__ndarray__\":\"AFv7jiPO2D//gUlcjc3YP0pWsFPNqNk/UNsrmJ1q2j9CP5XLLQrbP/MUQbUkdNs/+xpR87ic2z/LOB0zFm7bP2KdKt8z0to/mEOcmD+w2T8apAE4ze3XP/XQBKtmbdU/ktXnSR0N0j+ON+CQmc3LP+uJMkTjw8g/0ac8V+dazj8adFuFQdfSPxfLPtneeNU/kdM6HvGz1z90zQWqVpHaP0Y/noY9p98/+0u9NGbu4z8wNFMxAPrjPyQHsr9oxuA/syAYMBZA3D9Kx8XmHcbWP1L1ZUiZfdI/1RbHFrxHzj8+wKRChp/IP4bRg+3tt8M/DWWP7Qjpvj8mHJuZcJq3Px7TsmzokbE/dKS5acH4qT/X8l1ZiF+aP20MidUJ6m+/Aa5Kc0Igl7+vyAjYqRqUvxdkm7lfvGm/yYx0nYbjfj/RWCa8N5iRP7ZFGI0c7Jo/MfFy0cPioT+TnFhPyROmP11VD/uxB6o/wfJNvsy8rT9qw2vbU5mwPx7NvhbnNLI/m4ezJSKxsz8Wb4rlmw+1P7WZY6mQU7Y/tFNpR05/tz8ZkC805pS4P1PEwVyNl7k/OAysBAeLuj9Msw6BAnO7P9GqXMkKVbw/EOO55444vT8p+UP5oyS+P3hNQPrDIr8/1++R5vITwD/wUfuEHnfAP+7YnSjoesA/UYxFNgQFwD9dPxYFbpu+P++0kNuKWL0/vI7+uHm6vD9Z5VuCANe8P9Vnvc48b70/PGtUM61Fvj8IBu8vq0W/P5Q/rdzqPcA/QEQwLzwGwT8tFOENBirCP8sMwKuKlcQ/\",\"dtype\":\"float64\",\"shape\":[75]},\"y\":{\"__ndarray__\":\"GhExyth1ND/Sv8nbtpRIP2vylNV0PVE/aTum7souWD/At0SJ8fVgPw3Iuahxymc/MSNhhJWvcD/bTfBN02d3P2zb5nxnaoA/CD5h5MAGhz8NmeH1TyaQP+zrCsc9p5Y/LbKd76fGnz/bLW5ISEmmPww9YvTcQq8/JV2OstnstT8Er5Y7M8G+P0c+r3jqkcU/5h99k6ZBzj88bCIzFzjVP4enV8oyxN0//yH99nXg5D8qOpLLf0jtP5kqGJXUifQ/c9cS8kHP/D+/DpwzojQEQIEmwoanVwxA4lgXt9HgE0BSSZ2AJuIbQAMJih9jjiNA5q4l5INuK0AwTKYKRj0zQNv5fmq8/DpAaCJseHrtQkB/+zpwzoxKQM3MzMzMeFJAZmZmZmZqWEAAAAAAAFxeQM3MzMzMJmJAmpmZmZkfZUBmZmZmZhhoQDMzMzMzEWtAAAAAAAAKbkBmZmZmZoFwQM3MzMzM/XFAMzMzMzN6c0CamZmZmfZ0QAAAAAAAc3ZAZmZmZmbvd0DNzMzMzGt5QDMzMzMz6HpAmpmZmZlkfEAAAAAAAOF9QGZmZmZmXX9AZmZmZuZsgECamZmZGSuBQM3MzMxM6YFAAAAAAICngkAzMzMzs2WDQGZmZmbmI4RAmpmZmRnihEDNzMzMTKCFQAAAAACAXoZAMzMzM7Mch0BmZmZm5tqHQJqZmZkZmYhAzczMzExXiUAAAAAAgBWKQDMzMzOz04pAZmZmZuaRi0CamZmZGVCMQM3MzMxMDo1AAAAAAIDMjUAzMzMzs4qOQGZmZmbmSI9A\",\"dtype\":\"float64\",\"shape\":[75]}}},\"id\":\"719f81cc-9718-4d3b-bab9-fe849dc71a42\",\"type\":\"ColumnDataSource\"},{\"attributes\":{\"items\":[{\"id\":\"144f410e-b692-4c95-b71f-44edd0df4773\",\"type\":\"LegendItem\"},{\"id\":\"2aec70bd-4ba9-4202-962a-fc11d35a71e7\",\"type\":\"LegendItem\"},{\"id\":\"28e12126-72af-43f7-8f30-71288c73aa74\",\"type\":\"LegendItem\"}],\"label_text_font_size\":{\"value\":\"8pt\"},\"location\":[10,-30],\"plot\":{\"id\":\"ac7801dd-4c07-4f48-ae3e-b97116f61ab1\",\"subtype\":\"Figure\",\"type\":\"Plot\"}},\"id\":\"0e5d3afe-807b-4a05-8c98-bd45156a1044\",\"type\":\"Legend\"},{\"attributes\":{\"line_alpha\":0.6,\"line_color\":\"#e41a1c\",\"line_dash\":[6],\"line_width\":5,\"x\":{\"field\":\"x\"},\"y\":{\"field\":\"y\"}},\"id\":\"ed145d20-957c-4b9d-bf3b-96f85eb1880c\",\"type\":\"Line\"},{\"attributes\":{\"fill_alpha\":{\"value\":0.1},\"fill_color\":{\"value\":\"#1f77b4\"},\"line_alpha\":{\"value\":0.1},\"line_color\":{\"value\":\"#1f77b4\"},\"x\":{\"field\":\"x\"},\"y\":{\"field\":\"y\"}},\"id\":\"660e8df7-91f8-4510-becd-131ff46042d5\",\"type\":\"Square\"},{\"attributes\":{\"data_source\":{\"id\":\"fe6c083e-9848-461b-8258-7d2efd22d9b6\",\"type\":\"ColumnDataSource\"},\"glyph\":{\"id\":\"395ff65d-0da8-40c6-bf96-ca19d5ec70fa\",\"type\":\"Square\"},\"hover_glyph\":null,\"muted_glyph\":null,\"nonselection_glyph\":{\"id\":\"660e8df7-91f8-4510-becd-131ff46042d5\",\"type\":\"Square\"},\"selection_glyph\":null,\"view\":{\"id\":\"9037f1a5-65a3-4f31-b4ea-080ab0c7a168\",\"type\":\"CDSView\"}},\"id\":\"92513e22-09ff-4c57-aba8-0fc2e85f4626\",\"type\":\"GlyphRenderer\"},{\"attributes\":{\"line_alpha\":0.1,\"line_color\":\"#1f77b4\",\"line_dash\":[6],\"line_width\":5,\"x\":{\"field\":\"x\"},\"y\":{\"field\":\"y\"}},\"id\":\"277930ff-2991-4619-a0f2-1d9932147be8\",\"type\":\"Line\"},{\"attributes\":{\"axis_label\":\"pressure [mb]\",\"formatter\":{\"id\":\"c582475b-d033-4efd-8b84-4b8b0230b357\",\"type\":\"BasicTickFormatter\"},\"plot\":{\"id\":\"b99bf342-47d5-4432-bc40-5f417b4a16fd\",\"subtype\":\"Figure\",\"type\":\"Plot\"},\"ticker\":{\"id\":\"bc1ccd8a-83bc-4cf9-b681-042d3af174a6\",\"type\":\"BasicTicker\"}},\"id\":\"2a45009c-fb35-48ff-bdd0-0b4266b351eb\",\"type\":\"LinearAxis\"},{\"attributes\":{},\"id\":\"1ff36d2d-bf4f-40de-a31c-de5251b48e82\",\"type\":\"BasicTicker\"},{\"attributes\":{\"source\":{\"id\":\"c5cd7222-9f41-47ec-b2f4-8c853d896ffa\",\"type\":\"ColumnDataSource\"}},\"id\":\"19d17272-1eb2-4e1b-b2bb-9edcdc7ff228\",\"type\":\"CDSView\"},{\"attributes\":{},\"id\":\"7be0c447-6674-4bd7-8642-7e68c878baf2\",\"type\":\"LogScale\"},{\"attributes\":{},\"id\":\"c582475b-d033-4efd-8b84-4b8b0230b357\",\"type\":\"BasicTickFormatter\"},{\"attributes\":{\"line_alpha\":0.1,\"line_color\":\"#1f77b4\",\"line_width\":3,\"x\":{\"field\":\"x\"},\"y\":{\"field\":\"y\"}},\"id\":\"09beb87a-ad0b-47e7-8b5c-9db7375d0a28\",\"type\":\"Line\"},{\"attributes\":{\"data_source\":{\"id\":\"c5cd7222-9f41-47ec-b2f4-8c853d896ffa\",\"type\":\"ColumnDataSource\"},\"glyph\":{\"id\":\"d17b5e48-cca0-4092-a022-3dd6eb29bb3d\",\"type\":\"Line\"},\"hover_glyph\":null,\"muted_glyph\":null,\"nonselection_glyph\":{\"id\":\"09beb87a-ad0b-47e7-8b5c-9db7375d0a28\",\"type\":\"Line\"},\"selection_glyph\":null,\"view\":{\"id\":\"19d17272-1eb2-4e1b-b2bb-9edcdc7ff228\",\"type\":\"CDSView\"}},\"id\":\"896e5a04-0f02-4018-ada5-038badcdef27\",\"type\":\"GlyphRenderer\"},{\"attributes\":{\"children\":[{\"id\":\"b99bf342-47d5-4432-bc40-5f417b4a16fd\",\"subtype\":\"Figure\",\"type\":\"Plot\"},{\"id\":\"ac7801dd-4c07-4f48-ae3e-b97116f61ab1\",\"subtype\":\"Figure\",\"type\":\"Plot\"}]},\"id\":\"4d0626b8-7af0-49b8-b312-f8b1c1fd8801\",\"type\":\"Row\"},{\"attributes\":{\"children\":[{\"id\":\"ee86c361-16cf-4132-8981-140af75d8b38\",\"type\":\"ToolbarBox\"},{\"id\":\"f570c177-a542-45bb-81c6-f2861afd363d\",\"type\":\"Column\"}]},\"id\":\"57973a11-050d-48b6-a8db-ab79c6470bba\",\"type\":\"Column\"},{\"attributes\":{\"tools\":[{\"id\":\"b14d954f-eaf5-4347-be48-63b8c3860a8a\",\"type\":\"PanTool\"},{\"id\":\"29e25f8b-023e-4266-8d1d-be35446c54c5\",\"type\":\"WheelZoomTool\"},{\"id\":\"26f8cd0c-501c-4eac-8c34-12faf859e611\",\"type\":\"BoxZoomTool\"},{\"id\":\"8033d67c-706b-4f52-81ff-ddf28181364e\",\"type\":\"SaveTool\"},{\"id\":\"b32eb47a-7b91-49b8-9415-c67cf0571066\",\"type\":\"ResetTool\"},{\"id\":\"21f2ac5d-b285-4dd7-b2d4-1a75bd47fc1a\",\"type\":\"HelpTool\"},{\"id\":\"1fcacef5-2d56-416d-8c4e-e13f8d7b7b87\",\"type\":\"PanTool\"},{\"id\":\"33ad9a83-d784-4bc9-8786-1b7a8583025d\",\"type\":\"WheelZoomTool\"},{\"id\":\"8b839932-be0f-407c-b466-b4e652c22d8d\",\"type\":\"BoxZoomTool\"},{\"id\":\"f8508c12-8025-4067-8bb7-09b4898fd8e9\",\"type\":\"SaveTool\"},{\"id\":\"19c267a4-e774-488d-b2a5-8ad401b88a3d\",\"type\":\"ResetTool\"},{\"id\":\"01412f66-7c2f-4ad1-bfa3-c3b164f66f71\",\"type\":\"HelpTool\"}]},\"id\":\"0f80e3b3-3e6a-4f10-ae18-611591fdc7a6\",\"type\":\"ProxyToolbar\"},{\"attributes\":{\"plot\":{\"id\":\"ac7801dd-4c07-4f48-ae3e-b97116f61ab1\",\"subtype\":\"Figure\",\"type\":\"Plot\"},\"ticker\":{\"id\":\"1ff36d2d-bf4f-40de-a31c-de5251b48e82\",\"type\":\"BasicTicker\"}},\"id\":\"30e0ead9-5556-4f52-a56f-302fee58866f\",\"type\":\"Grid\"},{\"attributes\":{\"overlay\":{\"id\":\"da8fb85d-c1ec-4eaa-a303-ad5616a71ce7\",\"type\":\"BoxAnnotation\"}},\"id\":\"8b839932-be0f-407c-b466-b4e652c22d8d\",\"type\":\"BoxZoomTool\"},{\"attributes\":{\"line_alpha\":0.6,\"line_color\":\"#e41a1c\",\"line_dash\":[6],\"line_width\":5,\"x\":{\"field\":\"x\"},\"y\":{\"field\":\"y\"}},\"id\":\"2555e518-f110-45d3-a6a0-41d031c6d989\",\"type\":\"Line\"},{\"attributes\":{},\"id\":\"d24794c1-92d9-4a2f-bc4f-7b2233953f58\",\"type\":\"LinearScale\"},{\"attributes\":{\"label\":{\"value\":\"CRD\"},\"renderers\":[{\"id\":\"505a5da7-88a3-4d4d-836a-a9bb6aee48ca\",\"type\":\"GlyphRenderer\"},{\"id\":\"4e024489-a93a-45dc-a030-35f242eec6ae\",\"type\":\"GlyphRenderer\"}]},\"id\":\"2aec70bd-4ba9-4202-962a-fc11d35a71e7\",\"type\":\"LegendItem\"},{\"attributes\":{},\"id\":\"01412f66-7c2f-4ad1-bfa3-c3b164f66f71\",\"type\":\"HelpTool\"},{\"attributes\":{},\"id\":\"19c267a4-e774-488d-b2a5-8ad401b88a3d\",\"type\":\"ResetTool\"},{\"attributes\":{},\"id\":\"f8508c12-8025-4067-8bb7-09b4898fd8e9\",\"type\":\"SaveTool\"},{\"attributes\":{\"label\":{\"value\":\"CLIRAD `coolr_bands`\"},\"renderers\":[{\"id\":\"08e7a86c-723b-4d45-a7fd-d1b16a77cc4a\",\"type\":\"GlyphRenderer\"}]},\"id\":\"144f410e-b692-4c95-b71f-44edd0df4773\",\"type\":\"LegendItem\"},{\"attributes\":{\"axis_label\":\"cooling rate [K/day]\",\"formatter\":{\"id\":\"666a02b3-1f1e-46db-9d4a-2f4000d20eaa\",\"type\":\"BasicTickFormatter\"},\"plot\":{\"id\":\"b99bf342-47d5-4432-bc40-5f417b4a16fd\",\"subtype\":\"Figure\",\"type\":\"Plot\"},\"ticker\":{\"id\":\"a71a3b3f-53a5-4ef3-9b3a-bc8da03655be\",\"type\":\"BasicTicker\"}},\"id\":\"d007b875-140f-49a2-aba3-2b56e503177e\",\"type\":\"LinearAxis\"},{\"attributes\":{\"source\":{\"id\":\"5375fbe5-b13b-44a3-a0a4-5228859caa21\",\"type\":\"ColumnDataSource\"}},\"id\":\"ffa3a913-733c-44d0-bc1a-4a0e8f7ad993\",\"type\":\"CDSView\"},{\"attributes\":{\"callback\":null,\"column_names\":[\"x\",\"y\"],\"data\":{\"x\":{\"__ndarray__\":\"etz5dvnzzj803xwJj5HPP26mY0r7kdA/tkL907Ja0T/wCF14FB3SPy7Vuy6y09I/Q0MYord20z+Mk05mtPzTP60VK3KhVdQ/0Pm+8v9u1D+J0ZQZRizUP4//nxbFY9M/wjRn2IPk0T8V+LPt7mDPP2jFu0zi5s4/Vv6MPUGD0j9fRgyWRbzVP+9i7TGJ4dY/zk1hxpBz1j/dwdvFLKLWP4xQ6Myof9o/f8qlr++c4T8OUb/qTMriPwtKbqACmOA/mbPjKyZb3D8fHeyHtxLXP9XmYoACd9M/StgzW+Tk0D+0u3KDwhzNP50SEJNwocc/cXowjGj5wT8ignnhMbC5P4BKn5runLE/Cx71w0dFqT9s0McXFbqcPzYV1kN8ayW/F6fgRIIWlb+P7d1oxQySvxi9t3zxqDG/FkA9JQMahj8tANwYekWVP2jCsnY0Pp4/KDoedWzroj87HGzQ6CWmPxOjVrQTB6k/MA5hDhiqqz/Lt9EPCTCuPzzKvrRzXbA/KGM6fOumsT+Rq/iJevayP7V3X/g1ULQ/udO3e6KztT/ETAOIgBi3PwzHd1L0erg/p7Nys2jPuT+zZ+gCCx67P7EJvNVrYbw/YOB/TOeavT+0y1QU8c6+P7DDPTuFAcA/Ke70WjuXwD8Qihg8bQnBPzYb8YVFHME/Go+twsG5wD+k9LfKNBbAP2vwnRwuB78/uGRNE1N1vj+1KtN5nom+Pz6PF/PvCr8/3/Oqa0DGvz/+ddl1kFPAP34kX+iV28A/aO1T4RGNwT+kzEBE7pLCP7kHtoRbwsQ/\",\"dtype\":\"float64\",\"shape\":[75]},\"y\":{\"__ndarray__\":\"S/O/Q+51ND/Sv8nbtpRIP2vylNV0PVE/aTum7souWD/At0SJ8fVgPw3Iuahxymc/MSNhhJWvcD/bTfBN02d3P2zb5nxnaoA/CD5h5MAGhz8NmeH1TyaQP+zrCsc9p5Y/LbKd76fGnz/bLW5ISEmmPww9YvTcQq8/JV2OstnstT8Er5Y7M8G+P0c+r3jqkcU/5h99k6ZBzj88bCIzFzjVP4enV8oyxN0//yH99nXg5D8qOpLLf0jtP5kqGJXUifQ/c9cS8kHP/D+/DpwzojQEQIEmwoanVwxA4lgXt9HgE0BSSZ2AJuIbQAMJih9jjiNA5q4l5INuK0AwTKYKRj0zQNv5fmq8/DpAaCJseHrtQkB/+zpwzoxKQM3MzMzMeFJAZmZmZmZqWEAAAAAAAFxeQM3MzMzMJmJAmpmZmZkfZUBmZmZmZhhoQDMzMzMzEWtAAAAAAAAKbkBmZmZmZoFwQM3MzMzM/XFAMzMzMzN6c0CamZmZmfZ0QAAAAAAAc3ZAZmZmZmbvd0DNzMzMzGt5QDMzMzMz6HpAmpmZmZlkfEAAAAAAAOF9QGZmZmZmXX9AZmZmZuZsgECamZmZGSuBQM3MzMxM6YFAAAAAAICngkAzMzMzs2WDQGZmZmbmI4RAmpmZmRnihEDNzMzMTKCFQAAAAACAXoZAMzMzM7Mch0BmZmZm5tqHQJqZmZkZmYhAzczMzExXiUAAAAAAgBWKQDMzMzOz04pAZmZmZuaRi0CamZmZGVCMQM3MzMxMDo1AAAAAAIDMjUAzMzMzs4qOQGZmZmbmSI9A\",\"dtype\":\"float64\",\"shape\":[75]}}},\"id\":\"d3f486fa-e924-47d0-a49b-8d67987bc413\",\"type\":\"ColumnDataSource\"},{\"attributes\":{\"callback\":null,\"column_names\":[\"x\",\"y\"],\"data\":{\"x\":{\"__ndarray__\":\"AFv7jiPO2D//gUlcjc3YP0pWsFPNqNk/UNsrmJ1q2j9CP5XLLQrbP/MUQbUkdNs/+xpR87ic2z/LOB0zFm7bP2KdKt8z0to/mEOcmD+w2T8apAE4ze3XP/XQBKtmbdU/ktXnSR0N0j+ON+CQmc3LP+uJMkTjw8g/0ac8V+dazj8adFuFQdfSPxfLPtneeNU/kdM6HvGz1z90zQWqVpHaP0Y/noY9p98/+0u9NGbu4z8wNFMxAPrjPyQHsr9oxuA/syAYMBZA3D9Kx8XmHcbWP1L1ZUiZfdI/1RbHFrxHzj8+wKRChp/IP4bRg+3tt8M/DWWP7Qjpvj8mHJuZcJq3Px7TsmzokbE/dKS5acH4qT/X8l1ZiF+aP20MidUJ6m+/Aa5Kc0Igl7+vyAjYqRqUvxdkm7lfvGm/yYx0nYbjfj/RWCa8N5iRP7ZFGI0c7Jo/MfFy0cPioT+TnFhPyROmP11VD/uxB6o/wfJNvsy8rT9qw2vbU5mwPx7NvhbnNLI/m4ezJSKxsz8Wb4rlmw+1P7WZY6mQU7Y/tFNpR05/tz8ZkC805pS4P1PEwVyNl7k/OAysBAeLuj9Msw6BAnO7P9GqXMkKVbw/EOO55444vT8p+UP5oyS+P3hNQPrDIr8/1++R5vITwD/wUfuEHnfAP+7YnSjoesA/UYxFNgQFwD9dPxYFbpu+P++0kNuKWL0/vI7+uHm6vD9Z5VuCANe8P9Vnvc48b70/PGtUM61Fvj8IBu8vq0W/P5Q/rdzqPcA/QEQwLzwGwT8tFOENBirCP8sMwKuKlcQ/\",\"dtype\":\"float64\",\"shape\":[75]},\"y\":{\"__ndarray__\":\"GhExyth1ND/Sv8nbtpRIP2vylNV0PVE/aTum7souWD/At0SJ8fVgPw3Iuahxymc/MSNhhJWvcD/bTfBN02d3P2zb5nxnaoA/CD5h5MAGhz8NmeH1TyaQP+zrCsc9p5Y/LbKd76fGnz/bLW5ISEmmPww9YvTcQq8/JV2OstnstT8Er5Y7M8G+P0c+r3jqkcU/5h99k6ZBzj88bCIzFzjVP4enV8oyxN0//yH99nXg5D8qOpLLf0jtP5kqGJXUifQ/c9cS8kHP/D+/DpwzojQEQIEmwoanVwxA4lgXt9HgE0BSSZ2AJuIbQAMJih9jjiNA5q4l5INuK0AwTKYKRj0zQNv5fmq8/DpAaCJseHrtQkB/+zpwzoxKQM3MzMzMeFJAZmZmZmZqWEAAAAAAAFxeQM3MzMzMJmJAmpmZmZkfZUBmZmZmZhhoQDMzMzMzEWtAAAAAAAAKbkBmZmZmZoFwQM3MzMzM/XFAMzMzMzN6c0CamZmZmfZ0QAAAAAAAc3ZAZmZmZmbvd0DNzMzMzGt5QDMzMzMz6HpAmpmZmZlkfEAAAAAAAOF9QGZmZmZmXX9AZmZmZuZsgECamZmZGSuBQM3MzMxM6YFAAAAAAICngkAzMzMzs2WDQGZmZmbmI4RAmpmZmRnihEDNzMzMTKCFQAAAAACAXoZAMzMzM7Mch0BmZmZm5tqHQJqZmZkZmYhAzczMzExXiUAAAAAAgBWKQDMzMzOz04pAZmZmZuaRi0CamZmZGVCMQM3MzMxMDo1AAAAAAIDMjUAzMzMzs4qOQGZmZmbmSI9A\",\"dtype\":\"float64\",\"shape\":[75]}}},\"id\":\"3237d7cd-ecfc-4254-86fc-3264964c39c8\",\"type\":\"ColumnDataSource\"},{\"attributes\":{\"fill_alpha\":{\"value\":0.1},\"fill_color\":{\"value\":\"#1f77b4\"},\"line_alpha\":{\"value\":0.1},\"line_color\":{\"value\":\"#1f77b4\"},\"x\":{\"field\":\"x\"},\"y\":{\"field\":\"y\"}},\"id\":\"089709b0-17b0-410c-bb4a-46cfa96140cd\",\"type\":\"Square\"},{\"attributes\":{\"line_alpha\":0.1,\"line_color\":\"#1f77b4\",\"line_width\":3,\"x\":{\"field\":\"x\"},\"y\":{\"field\":\"y\"}},\"id\":\"8cbade6f-967e-4c8f-9323-796cf0fc3711\",\"type\":\"Line\"},{\"attributes\":{\"source\":{\"id\":\"3237d7cd-ecfc-4254-86fc-3264964c39c8\",\"type\":\"ColumnDataSource\"}},\"id\":\"bf48477e-cd58-4fff-9447-a0c7dc79da00\",\"type\":\"CDSView\"},{\"attributes\":{\"callback\":null,\"column_names\":[\"x\",\"y\"],\"data\":{\"x\":{\"__ndarray__\":\"etz5dvnzzj803xwJj5HPP26mY0r7kdA/tkL907Ja0T/wCF14FB3SPy7Vuy6y09I/Q0MYord20z+Mk05mtPzTP60VK3KhVdQ/0Pm+8v9u1D+J0ZQZRizUP4//nxbFY9M/wjRn2IPk0T8V+LPt7mDPP2jFu0zi5s4/Vv6MPUGD0j9fRgyWRbzVP+9i7TGJ4dY/zk1hxpBz1j/dwdvFLKLWP4xQ6Myof9o/f8qlr++c4T8OUb/qTMriPwtKbqACmOA/mbPjKyZb3D8fHeyHtxLXP9XmYoACd9M/StgzW+Tk0D+0u3KDwhzNP50SEJNwocc/cXowjGj5wT8ignnhMbC5P4BKn5runLE/Cx71w0dFqT9s0McXFbqcPzYV1kN8ayW/F6fgRIIWlb+P7d1oxQySvxi9t3zxqDG/FkA9JQMahj8tANwYekWVP2jCsnY0Pp4/KDoedWzroj87HGzQ6CWmPxOjVrQTB6k/MA5hDhiqqz/Lt9EPCTCuPzzKvrRzXbA/KGM6fOumsT+Rq/iJevayP7V3X/g1ULQ/udO3e6KztT/ETAOIgBi3PwzHd1L0erg/p7Nys2jPuT+zZ+gCCx67P7EJvNVrYbw/YOB/TOeavT+0y1QU8c6+P7DDPTuFAcA/Ke70WjuXwD8Qihg8bQnBPzYb8YVFHME/Go+twsG5wD+k9LfKNBbAP2vwnRwuB78/uGRNE1N1vj+1KtN5nom+Pz6PF/PvCr8/3/Oqa0DGvz/+ddl1kFPAP34kX+iV28A/aO1T4RGNwT+kzEBE7pLCP7kHtoRbwsQ/\",\"dtype\":\"float64\",\"shape\":[75]},\"y\":{\"__ndarray__\":\"S/O/Q+51ND/Sv8nbtpRIP2vylNV0PVE/aTum7souWD/At0SJ8fVgPw3Iuahxymc/MSNhhJWvcD/bTfBN02d3P2zb5nxnaoA/CD5h5MAGhz8NmeH1TyaQP+zrCsc9p5Y/LbKd76fGnz/bLW5ISEmmPww9YvTcQq8/JV2OstnstT8Er5Y7M8G+P0c+r3jqkcU/5h99k6ZBzj88bCIzFzjVP4enV8oyxN0//yH99nXg5D8qOpLLf0jtP5kqGJXUifQ/c9cS8kHP/D+/DpwzojQEQIEmwoanVwxA4lgXt9HgE0BSSZ2AJuIbQAMJih9jjiNA5q4l5INuK0AwTKYKRj0zQNv5fmq8/DpAaCJseHrtQkB/+zpwzoxKQM3MzMzMeFJAZmZmZmZqWEAAAAAAAFxeQM3MzMzMJmJAmpmZmZkfZUBmZmZmZhhoQDMzMzMzEWtAAAAAAAAKbkBmZmZmZoFwQM3MzMzM/XFAMzMzMzN6c0CamZmZmfZ0QAAAAAAAc3ZAZmZmZmbvd0DNzMzMzGt5QDMzMzMz6HpAmpmZmZlkfEAAAAAAAOF9QGZmZmZmXX9AZmZmZuZsgECamZmZGSuBQM3MzMxM6YFAAAAAAICngkAzMzMzs2WDQGZmZmbmI4RAmpmZmRnihEDNzMzMTKCFQAAAAACAXoZAMzMzM7Mch0BmZmZm5tqHQJqZmZkZmYhAzczMzExXiUAAAAAAgBWKQDMzMzOz04pAZmZmZuaRi0CamZmZGVCMQM3MzMxMDo1AAAAAAIDMjUAzMzMzs4qOQGZmZmbmSI9A\",\"dtype\":\"float64\",\"shape\":[75]}}},\"id\":\"5375fbe5-b13b-44a3-a0a4-5228859caa21\",\"type\":\"ColumnDataSource\"},{\"attributes\":{\"num_minor_ticks\":10},\"id\":\"2d0401f1-6519-4674-9c03-b4edd63cb5c8\",\"type\":\"LogTicker\"},{\"attributes\":{},\"id\":\"5c629062-23b5-4b44-9929-db36fb616a42\",\"type\":\"LinearScale\"},{\"attributes\":{\"callback\":null,\"end\":0.16402897317999998,\"start\":-0.024431651179999996},\"id\":\"15ed8dfd-e3d9-461b-a07d-865f2fbeb190\",\"type\":\"Range1d\"},{\"attributes\":{\"axis_label\":\"pressure [mb]\",\"formatter\":{\"id\":\"04afb9e7-463e-49c9-9ca6-469c30984249\",\"type\":\"LogTickFormatter\"},\"plot\":{\"id\":\"ac7801dd-4c07-4f48-ae3e-b97116f61ab1\",\"subtype\":\"Figure\",\"type\":\"Plot\"},\"ticker\":{\"id\":\"2d0401f1-6519-4674-9c03-b4edd63cb5c8\",\"type\":\"LogTicker\"}},\"id\":\"2f61bb7c-7ede-4081-a72a-50e37660e4b5\",\"type\":\"LogAxis\"},{\"attributes\":{\"callback\":null,\"column_names\":[\"x\",\"y\"],\"data\":{\"x\":{\"__ndarray__\":\"diGPdMOd1T/+lINadMTVP609/a6Jn9Y/2Gj0t8Zr1z+ah2Zv5iDYP3AFNOZps9g/GhwdLpsa2T+49ATZ80XZPxCPNCkEIdk/ULah2/ST2D8KQT+MpHvXP1XOr+wdwtU/REIE3yox0z+1jp3TPLzPPwf9UeW/sc0//mEnOMac0T/E160ROMnUP/8T3JgBV9Y/ybsmdknz1j/OiVHhlT7YP+elXIV/htw/Dvyoshdq4j/mcD00MjPjP95GfqUIu+A/HgHpDUF+3D8HSZvuVkLXP4SQ2tbYc9M/k7f4mjyz0D+sCahE7XLMP3diwNKpSsc/9LrPDhAKwj84xwzi0oS6P4i3+6987LI/kY6dH4/sqz/X90nh7uaeP77x/OboxUO/MUUUUz8Alr+5Xr5dcUySv2sbr+Q7hUw/3OdAC+5Gij8o8XzWS8SXP+xNimU2eKA/KhqDtTtmpD+aGEJFlcinPyQHMyrxxao/9TtbLNV/rT/1hVBkNwewPxRc2uo4QrE/hw1GN8t1sj/NC2E9eaSzPyOQnhyd0LQ/v1TFXxf7tT/eaYfO7CG3P5DWOyRnQbg/QPNx0lhbuT+txI/CVG+6P9+BSZsIf7s/rOgPvVGNvD/llgX3nKG9P9PUZaTAwb4/QH0N72Pmvz/XHKoDimXAP5DyYvmneMA/JerwELYUwD/w7oAVWuG+PxzYSvGTwb0/PgXsBYY7vT92vWvYL2O9P0BO3TAV/b0/mngbpX/Nvj+K0pgIuMK/P038aoT2c8A/Qu5RQ/ovwT+NUCTCfELCPw5wkpuujsQ/\",\"dtype\":\"float64\",\"shape\":[75]},\"y\":{\"__ndarray__\":\"GhExyth1ND/Sv8nbtpRIP2vylNV0PVE/aTum7souWD/At0SJ8fVgPw3Iuahxymc/MSNhhJWvcD/bTfBN02d3P2zb5nxnaoA/CD5h5MAGhz8NmeH1TyaQP+zrCsc9p5Y/LbKd76fGnz/bLW5ISEmmPww9YvTcQq8/JV2OstnstT8Er5Y7M8G+P0c+r3jqkcU/5h99k6ZBzj88bCIzFzjVP4enV8oyxN0//yH99nXg5D8qOpLLf0jtP5kqGJXUifQ/c9cS8kHP/D+/DpwzojQEQIEmwoanVwxA4lgXt9HgE0BSSZ2AJuIbQAMJih9jjiNA5q4l5INuK0AwTKYKRj0zQNv5fmq8/DpAaCJseHrtQkB/+zpwzoxKQM3MzMzMeFJAZmZmZmZqWEAAAAAAAFxeQM3MzMzMJmJAmpmZmZkfZUBmZmZmZhhoQDMzMzMzEWtAAAAAAAAKbkBmZmZmZoFwQM3MzMzM/XFAMzMzMzN6c0CamZmZmfZ0QAAAAAAAc3ZAZmZmZmbvd0DNzMzMzGt5QDMzMzMz6HpAmpmZmZlkfEAAAAAAAOF9QGZmZmZmXX9AZmZmZuZsgECamZmZGSuBQM3MzMxM6YFAAAAAAICngkAzMzMzs2WDQGZmZmbmI4RAmpmZmRnihEDNzMzMTKCFQAAAAACAXoZAMzMzM7Mch0BmZmZm5tqHQJqZmZkZmYhAzczMzExXiUAAAAAAgBWKQDMzMzOz04pAZmZmZuaRi0CamZmZGVCMQM3MzMxMDo1AAAAAAIDMjUAzMzMzs4qOQGZmZmbmSI9A\",\"dtype\":\"float64\",\"shape\":[75]}}},\"id\":\"1c4d8728-6923-4765-b644-0c79b721cf18\",\"type\":\"ColumnDataSource\"},{\"attributes\":{},\"id\":\"9e1aeb6f-205d-449d-a7c4-eb1e16583ba6\",\"type\":\"LinearScale\"},{\"attributes\":{\"fill_alpha\":{\"value\":0.7},\"fill_color\":{\"value\":\"#4daf4a\"},\"line_alpha\":{\"value\":0.7},\"line_color\":{\"value\":\"#4daf4a\"},\"x\":{\"field\":\"x\"},\"y\":{\"field\":\"y\"}},\"id\":\"5983b090-6269-401a-be2a-565d8c687c3e\",\"type\":\"Circle\"},{\"attributes\":{\"callback\":null,\"column_names\":[\"x\",\"y\"],\"data\":{\"x\":{\"__ndarray__\":\"diGPdMOd1T/+lINadMTVP609/a6Jn9Y/2Gj0t8Zr1z+ah2Zv5iDYP3AFNOZps9g/GhwdLpsa2T+49ATZ80XZPxCPNCkEIdk/ULah2/ST2D8KQT+MpHvXP1XOr+wdwtU/REIE3yox0z+1jp3TPLzPPwf9UeW/sc0//mEnOMac0T/E160ROMnUP/8T3JgBV9Y/ybsmdknz1j/OiVHhlT7YP+elXIV/htw/Dvyoshdq4j/mcD00MjPjP95GfqUIu+A/HgHpDUF+3D8HSZvuVkLXP4SQ2tbYc9M/k7f4mjyz0D+sCahE7XLMP3diwNKpSsc/9LrPDhAKwj84xwzi0oS6P4i3+6987LI/kY6dH4/sqz/X90nh7uaeP77x/OboxUO/MUUUUz8Alr+5Xr5dcUySv2sbr+Q7hUw/3OdAC+5Gij8o8XzWS8SXP+xNimU2eKA/KhqDtTtmpD+aGEJFlcinPyQHMyrxxao/9TtbLNV/rT/1hVBkNwewPxRc2uo4QrE/hw1GN8t1sj/NC2E9eaSzPyOQnhyd0LQ/v1TFXxf7tT/eaYfO7CG3P5DWOyRnQbg/QPNx0lhbuT+txI/CVG+6P9+BSZsIf7s/rOgPvVGNvD/llgX3nKG9P9PUZaTAwb4/QH0N72Pmvz/XHKoDimXAP5DyYvmneMA/JerwELYUwD/w7oAVWuG+PxzYSvGTwb0/PgXsBYY7vT92vWvYL2O9P0BO3TAV/b0/mngbpX/Nvj+K0pgIuMK/P038aoT2c8A/Qu5RQ/ovwT+NUCTCfELCPw5wkpuujsQ/\",\"dtype\":\"float64\",\"shape\":[75]},\"y\":{\"__ndarray__\":\"GhExyth1ND/Sv8nbtpRIP2vylNV0PVE/aTum7souWD/At0SJ8fVgPw3Iuahxymc/MSNhhJWvcD/bTfBN02d3P2zb5nxnaoA/CD5h5MAGhz8NmeH1TyaQP+zrCsc9p5Y/LbKd76fGnz/bLW5ISEmmPww9YvTcQq8/JV2OstnstT8Er5Y7M8G+P0c+r3jqkcU/5h99k6ZBzj88bCIzFzjVP4enV8oyxN0//yH99nXg5D8qOpLLf0jtP5kqGJXUifQ/c9cS8kHP/D+/DpwzojQEQIEmwoanVwxA4lgXt9HgE0BSSZ2AJuIbQAMJih9jjiNA5q4l5INuK0AwTKYKRj0zQNv5fmq8/DpAaCJseHrtQkB/+zpwzoxKQM3MzMzMeFJAZmZmZmZqWEAAAAAAAFxeQM3MzMzMJmJAmpmZmZkfZUBmZmZmZhhoQDMzMzMzEWtAAAAAAAAKbkBmZmZmZoFwQM3MzMzM/XFAMzMzMzN6c0CamZmZmfZ0QAAAAAAAc3ZAZmZmZmbvd0DNzMzMzGt5QDMzMzMz6HpAmpmZmZlkfEAAAAAAAOF9QGZmZmZmXX9AZmZmZuZsgECamZmZGSuBQM3MzMxM6YFAAAAAAICngkAzMzMzs2WDQGZmZmbmI4RAmpmZmRnihEDNzMzMTKCFQAAAAACAXoZAMzMzM7Mch0BmZmZm5tqHQJqZmZkZmYhAzczMzExXiUAAAAAAgBWKQDMzMzOz04pAZmZmZuaRi0CamZmZGVCMQM3MzMxMDo1AAAAAAIDMjUAzMzMzs4qOQGZmZmbmSI9A\",\"dtype\":\"float64\",\"shape\":[75]}}},\"id\":\"4ef3d143-6fba-4110-8757-555e58990b0c\",\"type\":\"ColumnDataSource\"},{\"attributes\":{\"data_source\":{\"id\":\"719f81cc-9718-4d3b-bab9-fe849dc71a42\",\"type\":\"ColumnDataSource\"},\"glyph\":{\"id\":\"5983b090-6269-401a-be2a-565d8c687c3e\",\"type\":\"Circle\"},\"hover_glyph\":null,\"muted_glyph\":null,\"nonselection_glyph\":{\"id\":\"f44f7aac-a309-4b68-b4e0-a6d89650541e\",\"type\":\"Circle\"},\"selection_glyph\":null,\"view\":{\"id\":\"3d7528f0-9d5d-4021-8001-723b96709240\",\"type\":\"CDSView\"}},\"id\":\"172e934a-be02-4f38-968e-a8458254f370\",\"type\":\"GlyphRenderer\"},{\"attributes\":{\"fill_alpha\":{\"value\":0.7},\"fill_color\":{\"value\":\"#984ea3\"},\"line_alpha\":{\"value\":0.7},\"line_color\":{\"value\":\"#984ea3\"},\"x\":{\"field\":\"x\"},\"y\":{\"field\":\"y\"}},\"id\":\"3c5756ed-3082-4f36-8e66-17122f53f0a8\",\"type\":\"Square\"},{\"attributes\":{\"below\":[{\"id\":\"416b8a62-aacf-4c81-94c2-c8b7f49dbcec\",\"type\":\"LinearAxis\"}],\"left\":[{\"id\":\"2f61bb7c-7ede-4081-a72a-50e37660e4b5\",\"type\":\"LogAxis\"}],\"plot_height\":500,\"plot_width\":560,\"renderers\":[{\"id\":\"416b8a62-aacf-4c81-94c2-c8b7f49dbcec\",\"type\":\"LinearAxis\"},{\"id\":\"30e0ead9-5556-4f52-a56f-302fee58866f\",\"type\":\"Grid\"},{\"id\":\"2f61bb7c-7ede-4081-a72a-50e37660e4b5\",\"type\":\"LogAxis\"},{\"id\":\"759e9823-1275-4f22-8a85-ca8a0525890a\",\"type\":\"Grid\"},{\"id\":\"da8fb85d-c1ec-4eaa-a303-ad5616a71ce7\",\"type\":\"BoxAnnotation\"},{\"id\":\"08e7a86c-723b-4d45-a7fd-d1b16a77cc4a\",\"type\":\"GlyphRenderer\"},{\"id\":\"505a5da7-88a3-4d4d-836a-a9bb6aee48ca\",\"type\":\"GlyphRenderer\"},{\"id\":\"4e024489-a93a-45dc-a030-35f242eec6ae\",\"type\":\"GlyphRenderer\"},{\"id\":\"92513e22-09ff-4c57-aba8-0fc2e85f4626\",\"type\":\"GlyphRenderer\"},{\"id\":\"896e5a04-0f02-4018-ada5-038badcdef27\",\"type\":\"GlyphRenderer\"},{\"id\":\"0e5d3afe-807b-4a05-8c98-bd45156a1044\",\"type\":\"Legend\"}],\"right\":[{\"id\":\"0e5d3afe-807b-4a05-8c98-bd45156a1044\",\"type\":\"Legend\"}],\"title\":{\"id\":\"1fffe4d0-30d4-4dc3-86af-7e211559a583\",\"type\":\"Title\"},\"toolbar\":{\"id\":\"f9975a3d-2d34-4779-9455-b5b09a5eb50c\",\"type\":\"Toolbar\"},\"toolbar_location\":null,\"x_range\":{\"id\":\"0308671b-e2ba-44e1-96f0-a0f1adf74cbe\",\"type\":\"Range1d\"},\"x_scale\":{\"id\":\"d24794c1-92d9-4a2f-bc4f-7b2233953f58\",\"type\":\"LinearScale\"},\"y_range\":{\"id\":\"374e0bc3-21d4-4564-8ada-63ac6395c45d\",\"type\":\"Range1d\"},\"y_scale\":{\"id\":\"7be0c447-6674-4bd7-8642-7e68c878baf2\",\"type\":\"LogScale\"}},\"id\":\"ac7801dd-4c07-4f48-ae3e-b97116f61ab1\",\"subtype\":\"Figure\",\"type\":\"Plot\"},{\"attributes\":{\"active_drag\":\"auto\",\"active_inspect\":\"auto\",\"active_scroll\":\"auto\",\"active_tap\":\"auto\",\"tools\":[{\"id\":\"b14d954f-eaf5-4347-be48-63b8c3860a8a\",\"type\":\"PanTool\"},{\"id\":\"29e25f8b-023e-4266-8d1d-be35446c54c5\",\"type\":\"WheelZoomTool\"},{\"id\":\"26f8cd0c-501c-4eac-8c34-12faf859e611\",\"type\":\"BoxZoomTool\"},{\"id\":\"8033d67c-706b-4f52-81ff-ddf28181364e\",\"type\":\"SaveTool\"},{\"id\":\"b32eb47a-7b91-49b8-9415-c67cf0571066\",\"type\":\"ResetTool\"},{\"id\":\"21f2ac5d-b285-4dd7-b2d4-1a75bd47fc1a\",\"type\":\"HelpTool\"}]},\"id\":\"f6dda983-d34d-4f33-89eb-59fde80d7491\",\"type\":\"Toolbar\"},{\"attributes\":{},\"id\":\"bc1ccd8a-83bc-4cf9-b681-042d3af174a6\",\"type\":\"BasicTicker\"},{\"attributes\":{\"source\":{\"id\":\"1c4d8728-6923-4765-b644-0c79b721cf18\",\"type\":\"ColumnDataSource\"}},\"id\":\"2e13ac8b-936e-41bd-b30d-f622e4fefd96\",\"type\":\"CDSView\"},{\"attributes\":{\"plot\":null,\"text\":\"Linear pressure scale\"},\"id\":\"9e163215-531c-4e2b-b872-56c819670319\",\"type\":\"Title\"},{\"attributes\":{\"data_source\":{\"id\":\"1c4d8728-6923-4765-b644-0c79b721cf18\",\"type\":\"ColumnDataSource\"},\"glyph\":{\"id\":\"cc76a0a5-bc97-48ec-b3c9-67675a823959\",\"type\":\"Line\"},\"hover_glyph\":null,\"muted_glyph\":null,\"nonselection_glyph\":{\"id\":\"8cbade6f-967e-4c8f-9323-796cf0fc3711\",\"type\":\"Line\"},\"selection_glyph\":null,\"view\":{\"id\":\"2e13ac8b-936e-41bd-b30d-f622e4fefd96\",\"type\":\"CDSView\"}},\"id\":\"2b6374ce-39cd-4b74-8381-becfde762433\",\"type\":\"GlyphRenderer\"},{\"attributes\":{\"below\":[{\"id\":\"d007b875-140f-49a2-aba3-2b56e503177e\",\"type\":\"LinearAxis\"}],\"left\":[{\"id\":\"2a45009c-fb35-48ff-bdd0-0b4266b351eb\",\"type\":\"LinearAxis\"}],\"plot_height\":500,\"plot_width\":400,\"renderers\":[{\"id\":\"d007b875-140f-49a2-aba3-2b56e503177e\",\"type\":\"LinearAxis\"},{\"id\":\"b79c333f-383b-4ec9-9bb6-bc407c90bc1c\",\"type\":\"Grid\"},{\"id\":\"2a45009c-fb35-48ff-bdd0-0b4266b351eb\",\"type\":\"LinearAxis\"},{\"id\":\"2a8ed796-9e2c-4fdc-8965-e58ce4d5ecb3\",\"type\":\"Grid\"},{\"id\":\"bd8546c6-1ef9-4035-8491-12579297c706\",\"type\":\"BoxAnnotation\"},{\"id\":\"ddf11273-9e24-421d-a953-c07d2a43cc11\",\"type\":\"GlyphRenderer\"},{\"id\":\"172e934a-be02-4f38-968e-a8458254f370\",\"type\":\"GlyphRenderer\"},{\"id\":\"db806f1a-68a8-43fe-bd20-2d60b78755e8\",\"type\":\"GlyphRenderer\"},{\"id\":\"a9a39bfd-4be6-4bfe-8260-b4923e3daf7d\",\"type\":\"GlyphRenderer\"},{\"id\":\"2b6374ce-39cd-4b74-8381-becfde762433\",\"type\":\"GlyphRenderer\"}],\"title\":{\"id\":\"9e163215-531c-4e2b-b872-56c819670319\",\"type\":\"Title\"},\"toolbar\":{\"id\":\"f6dda983-d34d-4f33-89eb-59fde80d7491\",\"type\":\"Toolbar\"},\"toolbar_location\":null,\"x_range\":{\"id\":\"15ed8dfd-e3d9-461b-a07d-865f2fbeb190\",\"type\":\"Range1d\"},\"x_scale\":{\"id\":\"5c629062-23b5-4b44-9929-db36fb616a42\",\"type\":\"LinearScale\"},\"y_range\":{\"id\":\"ea928c55-43fb-440b-9200-cab4e4220725\",\"type\":\"Range1d\"},\"y_scale\":{\"id\":\"9e1aeb6f-205d-449d-a7c4-eb1e16583ba6\",\"type\":\"LinearScale\"}},\"id\":\"b99bf342-47d5-4432-bc40-5f417b4a16fd\",\"subtype\":\"Figure\",\"type\":\"Plot\"},{\"attributes\":{\"callback\":null,\"end\":0.01,\"start\":1020},\"id\":\"ea928c55-43fb-440b-9200-cab4e4220725\",\"type\":\"Range1d\"},{\"attributes\":{\"line_alpha\":0.1,\"line_color\":\"#1f77b4\",\"line_width\":1.5,\"x\":{\"field\":\"x\"},\"y\":{\"field\":\"y\"}},\"id\":\"42b8554f-b93c-4471-8227-262d1cf68cc5\",\"type\":\"Line\"},{\"attributes\":{\"line_alpha\":0.6,\"line_color\":\"#984ea3\",\"line_width\":3,\"x\":{\"field\":\"x\"},\"y\":{\"field\":\"y\"}},\"id\":\"cc76a0a5-bc97-48ec-b3c9-67675a823959\",\"type\":\"Line\"},{\"attributes\":{\"data_source\":{\"id\":\"3237d7cd-ecfc-4254-86fc-3264964c39c8\",\"type\":\"ColumnDataSource\"},\"glyph\":{\"id\":\"0649e5b1-e7d5-4c51-b653-bf9bb7b5bc62\",\"type\":\"Line\"},\"hover_glyph\":null,\"muted_glyph\":null,\"nonselection_glyph\":{\"id\":\"42b8554f-b93c-4471-8227-262d1cf68cc5\",\"type\":\"Line\"},\"selection_glyph\":null,\"view\":{\"id\":\"bf48477e-cd58-4fff-9447-a0c7dc79da00\",\"type\":\"CDSView\"}},\"id\":\"db806f1a-68a8-43fe-bd20-2d60b78755e8\",\"type\":\"GlyphRenderer\"},{\"attributes\":{\"data_source\":{\"id\":\"4ef3d143-6fba-4110-8757-555e58990b0c\",\"type\":\"ColumnDataSource\"},\"glyph\":{\"id\":\"3c5756ed-3082-4f36-8e66-17122f53f0a8\",\"type\":\"Square\"},\"hover_glyph\":null,\"muted_glyph\":null,\"nonselection_glyph\":{\"id\":\"089709b0-17b0-410c-bb4a-46cfa96140cd\",\"type\":\"Square\"},\"selection_glyph\":null,\"view\":{\"id\":\"a5ebfc8a-dc65-4ab4-b12d-92bb3e6224cb\",\"type\":\"CDSView\"}},\"id\":\"a9a39bfd-4be6-4bfe-8260-b4923e3daf7d\",\"type\":\"GlyphRenderer\"},{\"attributes\":{\"children\":[{\"id\":\"4d0626b8-7af0-49b8-b312-f8b1c1fd8801\",\"type\":\"Row\"}]},\"id\":\"f570c177-a542-45bb-81c6-f2861afd363d\",\"type\":\"Column\"},{\"attributes\":{},\"id\":\"21f2ac5d-b285-4dd7-b2d4-1a75bd47fc1a\",\"type\":\"HelpTool\"},{\"attributes\":{\"bottom_units\":\"screen\",\"fill_alpha\":{\"value\":0.5},\"fill_color\":{\"value\":\"lightgrey\"},\"left_units\":\"screen\",\"level\":\"overlay\",\"line_alpha\":{\"value\":1.0},\"line_color\":{\"value\":\"black\"},\"line_dash\":[4,4],\"line_width\":{\"value\":2},\"plot\":null,\"render_mode\":\"css\",\"right_units\":\"screen\",\"top_units\":\"screen\"},\"id\":\"bd8546c6-1ef9-4035-8491-12579297c706\",\"type\":\"BoxAnnotation\"},{\"attributes\":{\"source\":{\"id\":\"4ef3d143-6fba-4110-8757-555e58990b0c\",\"type\":\"ColumnDataSource\"}},\"id\":\"a5ebfc8a-dc65-4ab4-b12d-92bb3e6224cb\",\"type\":\"CDSView\"},{\"attributes\":{\"dimension\":1,\"plot\":{\"id\":\"b99bf342-47d5-4432-bc40-5f417b4a16fd\",\"subtype\":\"Figure\",\"type\":\"Plot\"},\"ticker\":{\"id\":\"bc1ccd8a-83bc-4cf9-b681-042d3af174a6\",\"type\":\"BasicTicker\"}},\"id\":\"2a8ed796-9e2c-4fdc-8965-e58ce4d5ecb3\",\"type\":\"Grid\"},{\"attributes\":{\"source\":{\"id\":\"719f81cc-9718-4d3b-bab9-fe849dc71a42\",\"type\":\"ColumnDataSource\"}},\"id\":\"3d7528f0-9d5d-4021-8001-723b96709240\",\"type\":\"CDSView\"},{\"attributes\":{},\"id\":\"29e25f8b-023e-4266-8d1d-be35446c54c5\",\"type\":\"WheelZoomTool\"},{\"attributes\":{},\"id\":\"a71a3b3f-53a5-4ef3-9b3a-bc8da03655be\",\"type\":\"BasicTicker\"},{\"attributes\":{\"plot\":{\"id\":\"b99bf342-47d5-4432-bc40-5f417b4a16fd\",\"subtype\":\"Figure\",\"type\":\"Plot\"},\"ticker\":{\"id\":\"a71a3b3f-53a5-4ef3-9b3a-bc8da03655be\",\"type\":\"BasicTicker\"}},\"id\":\"b79c333f-383b-4ec9-9bb6-bc407c90bc1c\",\"type\":\"Grid\"},{\"attributes\":{\"callback\":null,\"end\":0.01,\"start\":1020},\"id\":\"374e0bc3-21d4-4564-8ada-63ac6395c45d\",\"type\":\"Range1d\"},{\"attributes\":{\"line_color\":\"#4daf4a\",\"line_width\":1.5,\"x\":{\"field\":\"x\"},\"y\":{\"field\":\"y\"}},\"id\":\"0649e5b1-e7d5-4c51-b653-bf9bb7b5bc62\",\"type\":\"Line\"},{\"attributes\":{},\"id\":\"b32eb47a-7b91-49b8-9415-c67cf0571066\",\"type\":\"ResetTool\"},{\"attributes\":{\"overlay\":{\"id\":\"bd8546c6-1ef9-4035-8491-12579297c706\",\"type\":\"BoxAnnotation\"}},\"id\":\"26f8cd0c-501c-4eac-8c34-12faf859e611\",\"type\":\"BoxZoomTool\"},{\"attributes\":{},\"id\":\"8033d67c-706b-4f52-81ff-ddf28181364e\",\"type\":\"SaveTool\"},{\"attributes\":{},\"id\":\"b14d954f-eaf5-4347-be48-63b8c3860a8a\",\"type\":\"PanTool\"},{\"attributes\":{\"dimension\":1,\"plot\":{\"id\":\"ac7801dd-4c07-4f48-ae3e-b97116f61ab1\",\"subtype\":\"Figure\",\"type\":\"Plot\"},\"ticker\":{\"id\":\"2d0401f1-6519-4674-9c03-b4edd63cb5c8\",\"type\":\"LogTicker\"}},\"id\":\"759e9823-1275-4f22-8a85-ca8a0525890a\",\"type\":\"Grid\"}],\"root_ids\":[\"57973a11-050d-48b6-a8db-ab79c6470bba\"]},\"title\":\"Bokeh Application\",\"version\":\"0.12.14\"}};\n",
       "  var render_items = [{\"docid\":\"793b55dc-56e0-440e-9c21-ff7a2a37b87e\",\"elementid\":\"e9a0856b-1d29-4091-88b4-da68379c396d\",\"modelid\":\"57973a11-050d-48b6-a8db-ab79c6470bba\"}];\n",
       "  root.Bokeh.embed.embed_items_notebook(docs_json, render_items);\n",
       "\n",
       "  }\n",
       "  if (root.Bokeh !== undefined) {\n",
       "    embed_document(root);\n",
       "  } else {\n",
       "    var attempts = 0;\n",
       "    var timer = setInterval(function(root) {\n",
       "      if (root.Bokeh !== undefined) {\n",
       "        embed_document(root);\n",
       "        clearInterval(timer);\n",
       "      }\n",
       "      attempts++;\n",
       "      if (attempts > 100) {\n",
       "        console.log(\"Bokeh: ERROR: Unable to run BokehJS code because BokehJS library is missing\")\n",
       "        clearInterval(timer);\n",
       "      }\n",
       "    }, 10, root)\n",
       "  }\n",
       "})(window);"
      ],
      "application/vnd.bokehjs_exec.v0+json": ""
     },
     "metadata": {
      "application/vnd.bokehjs_exec.v0+json": {
       "id": "57973a11-050d-48b6-a8db-ab79c6470bba"
      }
     },
     "output_type": "display_data"
    },
    {
     "name": "stdout",
     "output_type": "stream",
     "text": [
      "FIGURE. Cooling rate profiles.\n"
     ]
    },
    {
     "data": {
      "text/html": [
       "<a id=\"Flux_Comparison\"></a>"
      ],
      "text/plain": [
       "<IPython.core.display.HTML object>"
      ]
     },
     "metadata": {},
     "output_type": "display_data"
    },
    {
     "data": {
      "text/markdown": [
       "# Flux Comparison"
      ],
      "text/plain": [
       "<IPython.core.display.Markdown object>"
      ]
     },
     "metadata": {},
     "output_type": "display_data"
    },
    {
     "data": {
      "text/html": [
       "<div>\n",
       "<style>\n",
       "    .dataframe thead tr:only-child th {\n",
       "        text-align: right;\n",
       "    }\n",
       "\n",
       "    .dataframe thead th {\n",
       "        text-align: left;\n",
       "    }\n",
       "\n",
       "    .dataframe tbody tr th {\n",
       "        vertical-align: top;\n",
       "    }\n",
       "</style>\n",
       "<table border=\"1\" class=\"dataframe\">\n",
       "  <thead>\n",
       "    <tr style=\"text-align: right;\">\n",
       "      <th></th>\n",
       "      <th></th>\n",
       "      <th>flug</th>\n",
       "      <th>fldg</th>\n",
       "      <th>fnetg</th>\n",
       "    </tr>\n",
       "    <tr>\n",
       "      <th>pressure</th>\n",
       "      <th>level</th>\n",
       "      <th></th>\n",
       "      <th></th>\n",
       "      <th></th>\n",
       "    </tr>\n",
       "  </thead>\n",
       "  <tbody>\n",
       "    <tr>\n",
       "      <th>0.0000</th>\n",
       "      <th>1</th>\n",
       "      <td>-30.890413</td>\n",
       "      <td>0.000000</td>\n",
       "      <td>-30.890413</td>\n",
       "    </tr>\n",
       "    <tr>\n",
       "      <th>1.0685</th>\n",
       "      <th>24</th>\n",
       "      <td>-30.893925</td>\n",
       "      <td>0.064112</td>\n",
       "      <td>-30.829813</td>\n",
       "    </tr>\n",
       "    <tr>\n",
       "      <th>1013.0000</th>\n",
       "      <th>76</th>\n",
       "      <td>-38.491734</td>\n",
       "      <td>17.979135</td>\n",
       "      <td>-20.512599</td>\n",
       "    </tr>\n",
       "  </tbody>\n",
       "</table>\n",
       "</div>"
      ],
      "text/plain": [
       "                      flug       fldg      fnetg\n",
       "pressure  level                                 \n",
       "0.0000    1     -30.890413   0.000000 -30.890413\n",
       "1.0685    24    -30.893925   0.064112 -30.829813\n",
       "1013.0000 76    -38.491734  17.979135 -20.512599"
      ]
     },
     "metadata": {},
     "output_type": "display_data"
    },
    {
     "name": "stdout",
     "output_type": "stream",
     "text": [
      "Table. Fluxes. WGT igg=10 wgt_flux=1\n"
     ]
    },
    {
     "data": {
      "text/html": [
       "<div>\n",
       "<style>\n",
       "    .dataframe thead tr:only-child th {\n",
       "        text-align: right;\n",
       "    }\n",
       "\n",
       "    .dataframe thead th {\n",
       "        text-align: left;\n",
       "    }\n",
       "\n",
       "    .dataframe tbody tr th {\n",
       "        vertical-align: top;\n",
       "    }\n",
       "</style>\n",
       "<table border=\"1\" class=\"dataframe\">\n",
       "  <thead>\n",
       "    <tr style=\"text-align: right;\">\n",
       "      <th></th>\n",
       "      <th></th>\n",
       "      <th>flug</th>\n",
       "      <th>fldg</th>\n",
       "      <th>fnetg</th>\n",
       "    </tr>\n",
       "    <tr>\n",
       "      <th>pressure</th>\n",
       "      <th>level</th>\n",
       "      <th></th>\n",
       "      <th></th>\n",
       "      <th></th>\n",
       "    </tr>\n",
       "  </thead>\n",
       "  <tbody>\n",
       "    <tr>\n",
       "      <th>0.0000</th>\n",
       "      <th>1</th>\n",
       "      <td>-30.870337</td>\n",
       "      <td>0.000000</td>\n",
       "      <td>-30.870337</td>\n",
       "    </tr>\n",
       "    <tr>\n",
       "      <th>1.0685</th>\n",
       "      <th>24</th>\n",
       "      <td>-30.875457</td>\n",
       "      <td>0.068836</td>\n",
       "      <td>-30.806620</td>\n",
       "    </tr>\n",
       "    <tr>\n",
       "      <th>1013.0000</th>\n",
       "      <th>76</th>\n",
       "      <td>-38.491734</td>\n",
       "      <td>17.949284</td>\n",
       "      <td>-20.542450</td>\n",
       "    </tr>\n",
       "  </tbody>\n",
       "</table>\n",
       "</div>"
      ],
      "text/plain": [
       "                      flug       fldg      fnetg\n",
       "pressure  level                                 \n",
       "0.0000    1     -30.870337   0.000000 -30.870337\n",
       "1.0685    24    -30.875457   0.068836 -30.806620\n",
       "1013.0000 76    -38.491734  17.949284 -20.542450"
      ]
     },
     "metadata": {},
     "output_type": "display_data"
    },
    {
     "name": "stdout",
     "output_type": "stream",
     "text": [
      "Table. Fluxes. CRD\n"
     ]
    },
    {
     "data": {
      "text/html": [
       "<div>\n",
       "<style>\n",
       "    .dataframe thead tr:only-child th {\n",
       "        text-align: right;\n",
       "    }\n",
       "\n",
       "    .dataframe thead th {\n",
       "        text-align: left;\n",
       "    }\n",
       "\n",
       "    .dataframe tbody tr th {\n",
       "        vertical-align: top;\n",
       "    }\n",
       "</style>\n",
       "<table border=\"1\" class=\"dataframe\">\n",
       "  <thead>\n",
       "    <tr style=\"text-align: right;\">\n",
       "      <th></th>\n",
       "      <th></th>\n",
       "      <th>flug</th>\n",
       "      <th>fldg</th>\n",
       "      <th>fnetg</th>\n",
       "    </tr>\n",
       "    <tr>\n",
       "      <th>pressure</th>\n",
       "      <th>level</th>\n",
       "      <th></th>\n",
       "      <th></th>\n",
       "      <th></th>\n",
       "    </tr>\n",
       "  </thead>\n",
       "  <tbody>\n",
       "    <tr>\n",
       "      <th>1.000000e-08</th>\n",
       "      <th>1</th>\n",
       "      <td>-30.990152</td>\n",
       "      <td>0.000002</td>\n",
       "      <td>-30.990151</td>\n",
       "    </tr>\n",
       "    <tr>\n",
       "      <th>1.068500e+00</th>\n",
       "      <th>24</th>\n",
       "      <td>-30.993285</td>\n",
       "      <td>0.061617</td>\n",
       "      <td>-30.931667</td>\n",
       "    </tr>\n",
       "    <tr>\n",
       "      <th>1.013000e+03</th>\n",
       "      <th>76</th>\n",
       "      <td>-38.491730</td>\n",
       "      <td>17.993363</td>\n",
       "      <td>-20.498367</td>\n",
       "    </tr>\n",
       "  </tbody>\n",
       "</table>\n",
       "</div>"
      ],
      "text/plain": [
       "                         flug       fldg      fnetg\n",
       "pressure     level                                 \n",
       "1.000000e-08 1     -30.990152   0.000002 -30.990151\n",
       "1.068500e+00 24    -30.993285   0.061617 -30.931667\n",
       "1.013000e+03 76    -38.491730  17.993363 -20.498367"
      ]
     },
     "metadata": {},
     "output_type": "display_data"
    },
    {
     "name": "stdout",
     "output_type": "stream",
     "text": [
      "Table. Fluxes. CLIRAD\n"
     ]
    },
    {
     "data": {
      "text/html": [
       "<div>\n",
       "<style>\n",
       "    .dataframe thead tr:only-child th {\n",
       "        text-align: right;\n",
       "    }\n",
       "\n",
       "    .dataframe thead th {\n",
       "        text-align: left;\n",
       "    }\n",
       "\n",
       "    .dataframe tbody tr th {\n",
       "        vertical-align: top;\n",
       "    }\n",
       "</style>\n",
       "<table border=\"1\" class=\"dataframe\">\n",
       "  <thead>\n",
       "    <tr style=\"text-align: right;\">\n",
       "      <th></th>\n",
       "      <th></th>\n",
       "      <th>flug</th>\n",
       "      <th>fldg</th>\n",
       "      <th>fnetg</th>\n",
       "    </tr>\n",
       "    <tr>\n",
       "      <th>pressure</th>\n",
       "      <th>level</th>\n",
       "      <th></th>\n",
       "      <th></th>\n",
       "      <th></th>\n",
       "    </tr>\n",
       "  </thead>\n",
       "  <tbody>\n",
       "    <tr>\n",
       "      <th>0.0000</th>\n",
       "      <th>1</th>\n",
       "      <td>2.007593e-02</td>\n",
       "      <td>0.000000</td>\n",
       "      <td>0.020076</td>\n",
       "    </tr>\n",
       "    <tr>\n",
       "      <th>1.0685</th>\n",
       "      <th>24</th>\n",
       "      <td>1.846751e-02</td>\n",
       "      <td>0.004724</td>\n",
       "      <td>0.023193</td>\n",
       "    </tr>\n",
       "    <tr>\n",
       "      <th>1013.0000</th>\n",
       "      <th>76</th>\n",
       "      <td>1.040000e-07</td>\n",
       "      <td>-0.029851</td>\n",
       "      <td>-0.029851</td>\n",
       "    </tr>\n",
       "  </tbody>\n",
       "</table>\n",
       "</div>"
      ],
      "text/plain": [
       "                         flug      fldg     fnetg\n",
       "pressure  level                                  \n",
       "0.0000    1      2.007593e-02  0.000000  0.020076\n",
       "1.0685    24     1.846751e-02  0.004724  0.023193\n",
       "1013.0000 76     1.040000e-07 -0.029851 -0.029851"
      ]
     },
     "metadata": {},
     "output_type": "display_data"
    },
    {
     "name": "stdout",
     "output_type": "stream",
     "text": [
      "Table. Fluxes. (CRD) - (WGT igg=10 wgt_flux=1)\n"
     ]
    },
    {
     "data": {
      "text/html": [
       "<div>\n",
       "<style>\n",
       "    .dataframe thead tr:only-child th {\n",
       "        text-align: right;\n",
       "    }\n",
       "\n",
       "    .dataframe thead th {\n",
       "        text-align: left;\n",
       "    }\n",
       "\n",
       "    .dataframe tbody tr th {\n",
       "        vertical-align: top;\n",
       "    }\n",
       "</style>\n",
       "<table border=\"1\" class=\"dataframe\">\n",
       "  <thead>\n",
       "    <tr style=\"text-align: right;\">\n",
       "      <th></th>\n",
       "      <th></th>\n",
       "      <th>flug</th>\n",
       "      <th>fldg</th>\n",
       "      <th>fnetg</th>\n",
       "    </tr>\n",
       "    <tr>\n",
       "      <th>pressure</th>\n",
       "      <th>level</th>\n",
       "      <th></th>\n",
       "      <th></th>\n",
       "      <th></th>\n",
       "    </tr>\n",
       "  </thead>\n",
       "  <tbody>\n",
       "    <tr>\n",
       "      <th>0.0000</th>\n",
       "      <th>1</th>\n",
       "      <td>-0.099739</td>\n",
       "      <td>0.000002</td>\n",
       "      <td>-0.099738</td>\n",
       "    </tr>\n",
       "    <tr>\n",
       "      <th>1.0685</th>\n",
       "      <th>24</th>\n",
       "      <td>-0.099360</td>\n",
       "      <td>-0.002495</td>\n",
       "      <td>-0.101854</td>\n",
       "    </tr>\n",
       "    <tr>\n",
       "      <th>1013.0000</th>\n",
       "      <th>76</th>\n",
       "      <td>0.000004</td>\n",
       "      <td>0.014228</td>\n",
       "      <td>0.014232</td>\n",
       "    </tr>\n",
       "  </tbody>\n",
       "</table>\n",
       "</div>"
      ],
      "text/plain": [
       "                     flug      fldg     fnetg\n",
       "pressure  level                              \n",
       "0.0000    1     -0.099739  0.000002 -0.099738\n",
       "1.0685    24    -0.099360 -0.002495 -0.101854\n",
       "1013.0000 76     0.000004  0.014228  0.014232"
      ]
     },
     "metadata": {},
     "output_type": "display_data"
    },
    {
     "name": "stdout",
     "output_type": "stream",
     "text": [
      "Table. Fluxes. (CLIRAD) - (WGT igg=10 wgt_flux=1)\n"
     ]
    },
    {
     "data": {
      "text/html": [
       "<a id=\"Best-fit_Parameters\"></a>"
      ],
      "text/plain": [
       "<IPython.core.display.HTML object>"
      ]
     },
     "metadata": {},
     "output_type": "display_data"
    },
    {
     "data": {
      "text/markdown": [
       "# Best-fit Parameters"
      ],
      "text/plain": [
       "<IPython.core.display.Markdown object>"
      ]
     },
     "metadata": {},
     "output_type": "display_data"
    },
    {
     "name": "stdout",
     "output_type": "stream",
     "text": [
      "Best-fit values for each (gas, band)\n",
      "------------------------------------\n",
      "o co2 band3a\n",
      "  atmpro = mls\n",
      "  band = 3a\n",
      "  commitnumber = a06b618\n",
      "  conc = 0.0004\n",
      "  dv = 0.001\n",
      "  klin = 6.375563e-24\n",
      "  molecule = co2\n",
      "  ng_adju = [0, 0, 0]\n",
      "  ng_refs = [3, 2, 4]\n",
      "  nv = 1000\n",
      "  option_compute_btable = 0\n",
      "  option_compute_ktable = 1\n",
      "  option_wgt_flux = 1\n",
      "  option_wgt_k = 1\n",
      "  ref_pts = [(1, 250), (10, 250), (500, 250)]\n",
      "  tsfc = 294\n",
      "  vmax = 620\n",
      "  vmin = 540\n",
      "  w_diffuse = [(1.6, 1.6, 1.7), (1.75, 1.75), (1.55, 1.55, 1.6, 1.85)]\n",
      "  wgt = [(0.7, 0.3, 0.7), (0.7, 0.6), (0.4, 0.5, 0.8, 0.95)]\n"
     ]
    }
   ],
   "source": [
    "script()"
   ]
  },
  {
   "cell_type": "code",
   "execution_count": 13,
   "metadata": {
    "collapsed": true
   },
   "outputs": [
    {
     "data": {
      "text/html": [
       "<script>\n",
       "code_show=true; \n",
       "function code_toggle() {\n",
       " if (code_show){\n",
       " $('div.input').hide();\n",
       " } else {\n",
       " $('div.input').show();\n",
       " }\n",
       " code_show = !code_show\n",
       "} \n",
       "$( document ).ready(code_toggle);\n",
       "</script>\n",
       "<form action=\"javascript:code_toggle()\"><input type=\"submit\" value=\"Click here to toggle on/off the raw code.\"></form>"
      ],
      "text/plain": [
       "<IPython.core.display.HTML object>"
      ]
     },
     "execution_count": 13,
     "metadata": {},
     "output_type": "execute_result"
    }
   ],
   "source": [
    "display.HTML('''<script>\n",
    "code_show=true; \n",
    "function code_toggle() {\n",
    " if (code_show){\n",
    " $('div.input').hide();\n",
    " } else {\n",
    " $('div.input').show();\n",
    " }\n",
    " code_show = !code_show\n",
    "} \n",
    "$( document ).ready(code_toggle);\n",
    "</script>\n",
    "<form action=\"javascript:code_toggle()\"><input type=\"submit\" value=\"Click here to toggle on/off the raw code.\"></form>''')"
   ]
  }
 ],
 "metadata": {
  "kernelspec": {
   "display_name": "Python 3",
   "language": "python",
   "name": "python3"
  },
  "language_info": {
   "codemirror_mode": {
    "name": "ipython",
    "version": 3
   },
   "file_extension": ".py",
   "mimetype": "text/x-python",
   "name": "python",
   "nbconvert_exporter": "python",
   "pygments_lexer": "ipython3",
   "version": "3.6.1"
  }
 },
 "nbformat": 4,
 "nbformat_minor": 2
}
