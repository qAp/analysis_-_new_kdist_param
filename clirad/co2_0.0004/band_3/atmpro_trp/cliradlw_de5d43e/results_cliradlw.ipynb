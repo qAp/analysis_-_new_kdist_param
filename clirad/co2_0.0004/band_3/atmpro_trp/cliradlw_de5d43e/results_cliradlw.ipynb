{
 "cells": [
  {
   "cell_type": "code",
   "execution_count": 1,
   "metadata": {
    "collapsed": true
   },
   "outputs": [],
   "source": [
    "%matplotlib inline\n",
    "import os\n",
    "import re\n",
    "import io\n",
    "import itertools\n",
    "import pprint\n",
    "\n",
    "from bokeh.io import output_notebook, show\n",
    "from bokeh.layouts import gridplot\n",
    "from bokeh.plotting import figure\n",
    "from bokeh.models import Range1d, Legend\n",
    "from bokeh.palettes import all_palettes\n",
    "\n",
    "import matplotlib\n",
    "import matplotlib.pyplot as plt\n",
    "import numpy as np\n",
    "import pandas as pd\n",
    "import xarray as xr\n",
    "\n",
    "import climatools.lblnew.bestfit_params as bestfits\n",
    "from climatools.lblnew import setup_bestfit, setup_overlap\n",
    "import climatools.lblnew.pipeline as pipe_lblnew\n",
    "import climatools.cliradlw.setup as setup_cliradlw\n",
    "import climatools.cliradlw.pipeline as pipe_cliradlw\n",
    "\n",
    "import climatools.html.html as climahtml\n",
    "from climatools.lblnew.dataio import *\n",
    "from climatools.plot.plot import *\n",
    "\n",
    "\n",
    "import IPython.display as display"
   ]
  },
  {
   "cell_type": "code",
   "execution_count": 2,
   "metadata": {
    "collapsed": true
   },
   "outputs": [],
   "source": [
    "%run param.py"
   ]
  },
  {
   "cell_type": "code",
   "execution_count": 3,
   "metadata": {
    "collapsed": true
   },
   "outputs": [],
   "source": [
    "def load_output_file(path_csv):\n",
    "    '''\n",
    "    Load lblnew output .csv file to xarray.Dataset\n",
    "    \n",
    "    Parameters\n",
    "    ----------\n",
    "    path_csv: str\n",
    "              Path to the .csv file to be loaded.\n",
    "    ds: xarray.Dataset\n",
    "        Data in the input file in the form of an xarray.Dataset.\n",
    "    '''\n",
    "    toindex = ['band', 'pressure', 'igg', 'g']    \n",
    "    df = pd.read_csv(path_csv, sep=r'\\s+')\n",
    "    df = df.set_index([i for i in toindex if i in df.columns])\n",
    "    df = df.rename(columns={'sfu': 'flug',\n",
    "                            'sfd': 'fldg',\n",
    "                            'fnet': 'fnetg',\n",
    "                            'coolr': 'coolrg'})\n",
    "    ds = xr.Dataset.from_dataframe(df)\n",
    "\n",
    "    for l in ('level', 'layer'):\n",
    "        if l in ds.data_vars:\n",
    "            if len(ds[l].dims) > 1:\n",
    "                surface = {d: 0 for d in ds.dims if d != 'pressure'}\n",
    "                coord_level = ds[l][surface]\n",
    "                ds.coords[l] = ('pressure', coord_level)\n",
    "            else:\n",
    "                ds.coords[l] = ('pressure', ds[l])\n",
    "    \n",
    "    return ds"
   ]
  },
  {
   "cell_type": "code",
   "execution_count": 4,
   "metadata": {
    "collapsed": true
   },
   "outputs": [],
   "source": [
    "def lblnew_setup(param=None):\n",
    "    if 'ng_refs' in param:\n",
    "        return {'setup': setup_bestfit,\n",
    "                'fname_flux_crd': 'output_flux.dat',\n",
    "                'fname_cool_crd': 'output_coolr.dat',\n",
    "                'fname_flux_wgt': 'output_wfluxg.dat',\n",
    "                'fname_cool_wgt': 'output_wcoolrg.dat'}\n",
    "    else:\n",
    "        return {'setup': setup_overlap,\n",
    "                'fname_flux_crd': 'output_flux.dat',\n",
    "                'fname_cool_crd': 'output_coolr.dat',\n",
    "                'fname_flux_wgt': 'output_wflux.dat',\n",
    "                'fname_cool_wgt': 'output_wcoolr.dat'}\n",
    "\n",
    "    \n",
    "def load_lblnew_data(param):\n",
    "    \n",
    "    fname_dsname = [('fname_flux_crd', 'ds_flux_crd'),\n",
    "                    ('fname_cool_crd', 'ds_cool_crd'),\n",
    "                    ('fname_flux_wgt', 'ds_flux_wgt'),\n",
    "                    ('fname_cool_wgt', 'ds_cool_wgt')]\n",
    "    \n",
    "    d = lblnew_setup(param)\n",
    "    dir_fortran = pipe_lblnew.get_dir_case(param, setup=d['setup'])\n",
    "    \n",
    "    data_dict = {}\n",
    "    for fname, dsname in fname_dsname:\n",
    "        fpath = os.path.join(dir_fortran, d[fname])\n",
    "        data_dict[dsname] = load_output_file(fpath)\n",
    "    return data_dict\n",
    "    \n",
    "\n",
    "    \n",
    "    "
   ]
  },
  {
   "cell_type": "code",
   "execution_count": 5,
   "metadata": {
    "collapsed": true
   },
   "outputs": [],
   "source": [
    "d = load_lblnew_data(PARAM_LBLNEW)\n",
    "\n",
    "DS_FLUX_CRD = d['ds_flux_crd']\n",
    "DS_COOL_CRD = d['ds_cool_crd']\n",
    "DS_FLUX_WGT = d['ds_flux_wgt']\n",
    "DS_COOL_WGT = d['ds_cool_wgt']"
   ]
  },
  {
   "cell_type": "code",
   "execution_count": 6,
   "metadata": {
    "collapsed": true
   },
   "outputs": [],
   "source": [
    "DIR_FORTRAN = pipe_cliradlw.get_fortran_dir(PARAM, \n",
    "                                            setup=setup_cliradlw)\n",
    "\n",
    "PATH_FLUX = os.path.join(DIR_FORTRAN, 'output_flux.dat')\n",
    "PATH_COOL = os.path.join(DIR_FORTRAN, 'output_coolr.dat')\n",
    "\n",
    "DS_FLUX = load_output_file(PATH_FLUX)\n",
    "DS_COOL = load_output_file(PATH_COOL)"
   ]
  },
  {
   "cell_type": "code",
   "execution_count": 7,
   "metadata": {
    "collapsed": true
   },
   "outputs": [
    {
     "data": {
      "text/html": [
       "\n",
       "    <div class=\"bk-root\">\n",
       "        <a href=\"https://bokeh.pydata.org\" target=\"_blank\" class=\"bk-logo bk-logo-small bk-logo-notebook\"></a>\n",
       "        <span id=\"f8b757de-c641-4189-8047-19da11a73737\">Loading BokehJS ...</span>\n",
       "    </div>"
      ]
     },
     "metadata": {},
     "output_type": "display_data"
    },
    {
     "data": {
      "application/javascript": [
       "\n",
       "(function(root) {\n",
       "  function now() {\n",
       "    return new Date();\n",
       "  }\n",
       "\n",
       "  var force = true;\n",
       "\n",
       "  if (typeof (root._bokeh_onload_callbacks) === \"undefined\" || force === true) {\n",
       "    root._bokeh_onload_callbacks = [];\n",
       "    root._bokeh_is_loading = undefined;\n",
       "  }\n",
       "\n",
       "  var JS_MIME_TYPE = 'application/javascript';\n",
       "  var HTML_MIME_TYPE = 'text/html';\n",
       "  var EXEC_MIME_TYPE = 'application/vnd.bokehjs_exec.v0+json';\n",
       "  var CLASS_NAME = 'output_bokeh rendered_html';\n",
       "\n",
       "  /**\n",
       "   * Render data to the DOM node\n",
       "   */\n",
       "  function render(props, node) {\n",
       "    var script = document.createElement(\"script\");\n",
       "    node.appendChild(script);\n",
       "  }\n",
       "\n",
       "  /**\n",
       "   * Handle when an output is cleared or removed\n",
       "   */\n",
       "  function handleClearOutput(event, handle) {\n",
       "    var cell = handle.cell;\n",
       "\n",
       "    var id = cell.output_area._bokeh_element_id;\n",
       "    var server_id = cell.output_area._bokeh_server_id;\n",
       "    // Clean up Bokeh references\n",
       "    if (id !== undefined) {\n",
       "      Bokeh.index[id].model.document.clear();\n",
       "      delete Bokeh.index[id];\n",
       "    }\n",
       "\n",
       "    if (server_id !== undefined) {\n",
       "      // Clean up Bokeh references\n",
       "      var cmd = \"from bokeh.io.state import curstate; print(curstate().uuid_to_server['\" + server_id + \"'].get_sessions()[0].document.roots[0]._id)\";\n",
       "      cell.notebook.kernel.execute(cmd, {\n",
       "        iopub: {\n",
       "          output: function(msg) {\n",
       "            var element_id = msg.content.text.trim();\n",
       "            Bokeh.index[element_id].model.document.clear();\n",
       "            delete Bokeh.index[element_id];\n",
       "          }\n",
       "        }\n",
       "      });\n",
       "      // Destroy server and session\n",
       "      var cmd = \"import bokeh.io.notebook as ion; ion.destroy_server('\" + server_id + \"')\";\n",
       "      cell.notebook.kernel.execute(cmd);\n",
       "    }\n",
       "  }\n",
       "\n",
       "  /**\n",
       "   * Handle when a new output is added\n",
       "   */\n",
       "  function handleAddOutput(event, handle) {\n",
       "    var output_area = handle.output_area;\n",
       "    var output = handle.output;\n",
       "\n",
       "    // limit handleAddOutput to display_data with EXEC_MIME_TYPE content only\n",
       "    if ((output.output_type != \"display_data\") || (!output.data.hasOwnProperty(EXEC_MIME_TYPE))) {\n",
       "      return\n",
       "    }\n",
       "\n",
       "    var toinsert = output_area.element.find(\".\" + CLASS_NAME.split(' ')[0]);\n",
       "\n",
       "    if (output.metadata[EXEC_MIME_TYPE][\"id\"] !== undefined) {\n",
       "      toinsert[toinsert.length - 1].firstChild.textContent = output.data[JS_MIME_TYPE];\n",
       "      // store reference to embed id on output_area\n",
       "      output_area._bokeh_element_id = output.metadata[EXEC_MIME_TYPE][\"id\"];\n",
       "    }\n",
       "    if (output.metadata[EXEC_MIME_TYPE][\"server_id\"] !== undefined) {\n",
       "      var bk_div = document.createElement(\"div\");\n",
       "      bk_div.innerHTML = output.data[HTML_MIME_TYPE];\n",
       "      var script_attrs = bk_div.children[0].attributes;\n",
       "      for (var i = 0; i < script_attrs.length; i++) {\n",
       "        toinsert[toinsert.length - 1].firstChild.setAttribute(script_attrs[i].name, script_attrs[i].value);\n",
       "      }\n",
       "      // store reference to server id on output_area\n",
       "      output_area._bokeh_server_id = output.metadata[EXEC_MIME_TYPE][\"server_id\"];\n",
       "    }\n",
       "  }\n",
       "\n",
       "  function register_renderer(events, OutputArea) {\n",
       "\n",
       "    function append_mime(data, metadata, element) {\n",
       "      // create a DOM node to render to\n",
       "      var toinsert = this.create_output_subarea(\n",
       "        metadata,\n",
       "        CLASS_NAME,\n",
       "        EXEC_MIME_TYPE\n",
       "      );\n",
       "      this.keyboard_manager.register_events(toinsert);\n",
       "      // Render to node\n",
       "      var props = {data: data, metadata: metadata[EXEC_MIME_TYPE]};\n",
       "      render(props, toinsert[toinsert.length - 1]);\n",
       "      element.append(toinsert);\n",
       "      return toinsert\n",
       "    }\n",
       "\n",
       "    /* Handle when an output is cleared or removed */\n",
       "    events.on('clear_output.CodeCell', handleClearOutput);\n",
       "    events.on('delete.Cell', handleClearOutput);\n",
       "\n",
       "    /* Handle when a new output is added */\n",
       "    events.on('output_added.OutputArea', handleAddOutput);\n",
       "\n",
       "    /**\n",
       "     * Register the mime type and append_mime function with output_area\n",
       "     */\n",
       "    OutputArea.prototype.register_mime_type(EXEC_MIME_TYPE, append_mime, {\n",
       "      /* Is output safe? */\n",
       "      safe: true,\n",
       "      /* Index of renderer in `output_area.display_order` */\n",
       "      index: 0\n",
       "    });\n",
       "  }\n",
       "\n",
       "  // register the mime type if in Jupyter Notebook environment and previously unregistered\n",
       "  if (root.Jupyter !== undefined) {\n",
       "    var events = require('base/js/events');\n",
       "    var OutputArea = require('notebook/js/outputarea').OutputArea;\n",
       "\n",
       "    if (OutputArea.prototype.mime_types().indexOf(EXEC_MIME_TYPE) == -1) {\n",
       "      register_renderer(events, OutputArea);\n",
       "    }\n",
       "  }\n",
       "\n",
       "  \n",
       "  if (typeof (root._bokeh_timeout) === \"undefined\" || force === true) {\n",
       "    root._bokeh_timeout = Date.now() + 5000;\n",
       "    root._bokeh_failed_load = false;\n",
       "  }\n",
       "\n",
       "  var NB_LOAD_WARNING = {'data': {'text/html':\n",
       "     \"<div style='background-color: #fdd'>\\n\"+\n",
       "     \"<p>\\n\"+\n",
       "     \"BokehJS does not appear to have successfully loaded. If loading BokehJS from CDN, this \\n\"+\n",
       "     \"may be due to a slow or bad network connection. Possible fixes:\\n\"+\n",
       "     \"</p>\\n\"+\n",
       "     \"<ul>\\n\"+\n",
       "     \"<li>re-rerun `output_notebook()` to attempt to load from CDN again, or</li>\\n\"+\n",
       "     \"<li>use INLINE resources instead, as so:</li>\\n\"+\n",
       "     \"</ul>\\n\"+\n",
       "     \"<code>\\n\"+\n",
       "     \"from bokeh.resources import INLINE\\n\"+\n",
       "     \"output_notebook(resources=INLINE)\\n\"+\n",
       "     \"</code>\\n\"+\n",
       "     \"</div>\"}};\n",
       "\n",
       "  function display_loaded() {\n",
       "    var el = document.getElementById(\"f8b757de-c641-4189-8047-19da11a73737\");\n",
       "    if (el != null) {\n",
       "      el.textContent = \"BokehJS is loading...\";\n",
       "    }\n",
       "    if (root.Bokeh !== undefined) {\n",
       "      if (el != null) {\n",
       "        el.textContent = \"BokehJS \" + root.Bokeh.version + \" successfully loaded.\";\n",
       "      }\n",
       "    } else if (Date.now() < root._bokeh_timeout) {\n",
       "      setTimeout(display_loaded, 100)\n",
       "    }\n",
       "  }\n",
       "\n",
       "\n",
       "  function run_callbacks() {\n",
       "    try {\n",
       "      root._bokeh_onload_callbacks.forEach(function(callback) { callback() });\n",
       "    }\n",
       "    finally {\n",
       "      delete root._bokeh_onload_callbacks\n",
       "    }\n",
       "    console.info(\"Bokeh: all callbacks have finished\");\n",
       "  }\n",
       "\n",
       "  function load_libs(js_urls, callback) {\n",
       "    root._bokeh_onload_callbacks.push(callback);\n",
       "    if (root._bokeh_is_loading > 0) {\n",
       "      console.log(\"Bokeh: BokehJS is being loaded, scheduling callback at\", now());\n",
       "      return null;\n",
       "    }\n",
       "    if (js_urls == null || js_urls.length === 0) {\n",
       "      run_callbacks();\n",
       "      return null;\n",
       "    }\n",
       "    console.log(\"Bokeh: BokehJS not loaded, scheduling load and callback at\", now());\n",
       "    root._bokeh_is_loading = js_urls.length;\n",
       "    for (var i = 0; i < js_urls.length; i++) {\n",
       "      var url = js_urls[i];\n",
       "      var s = document.createElement('script');\n",
       "      s.src = url;\n",
       "      s.async = false;\n",
       "      s.onreadystatechange = s.onload = function() {\n",
       "        root._bokeh_is_loading--;\n",
       "        if (root._bokeh_is_loading === 0) {\n",
       "          console.log(\"Bokeh: all BokehJS libraries loaded\");\n",
       "          run_callbacks()\n",
       "        }\n",
       "      };\n",
       "      s.onerror = function() {\n",
       "        console.warn(\"failed to load library \" + url);\n",
       "      };\n",
       "      console.log(\"Bokeh: injecting script tag for BokehJS library: \", url);\n",
       "      document.getElementsByTagName(\"head\")[0].appendChild(s);\n",
       "    }\n",
       "  };var element = document.getElementById(\"f8b757de-c641-4189-8047-19da11a73737\");\n",
       "  if (element == null) {\n",
       "    console.log(\"Bokeh: ERROR: autoload.js configured with elementid 'f8b757de-c641-4189-8047-19da11a73737' but no matching script tag was found. \")\n",
       "    return false;\n",
       "  }\n",
       "\n",
       "  var js_urls = [\"https://cdn.pydata.org/bokeh/release/bokeh-0.12.16.min.js\", \"https://cdn.pydata.org/bokeh/release/bokeh-widgets-0.12.16.min.js\", \"https://cdn.pydata.org/bokeh/release/bokeh-tables-0.12.16.min.js\", \"https://cdn.pydata.org/bokeh/release/bokeh-gl-0.12.16.min.js\"];\n",
       "\n",
       "  var inline_js = [\n",
       "    function(Bokeh) {\n",
       "      Bokeh.set_log_level(\"info\");\n",
       "    },\n",
       "    \n",
       "    function(Bokeh) {\n",
       "      \n",
       "    },\n",
       "    function(Bokeh) {\n",
       "      console.log(\"Bokeh: injecting CSS: https://cdn.pydata.org/bokeh/release/bokeh-0.12.16.min.css\");\n",
       "      Bokeh.embed.inject_css(\"https://cdn.pydata.org/bokeh/release/bokeh-0.12.16.min.css\");\n",
       "      console.log(\"Bokeh: injecting CSS: https://cdn.pydata.org/bokeh/release/bokeh-widgets-0.12.16.min.css\");\n",
       "      Bokeh.embed.inject_css(\"https://cdn.pydata.org/bokeh/release/bokeh-widgets-0.12.16.min.css\");\n",
       "      console.log(\"Bokeh: injecting CSS: https://cdn.pydata.org/bokeh/release/bokeh-tables-0.12.16.min.css\");\n",
       "      Bokeh.embed.inject_css(\"https://cdn.pydata.org/bokeh/release/bokeh-tables-0.12.16.min.css\");\n",
       "    }\n",
       "  ];\n",
       "\n",
       "  function run_inline_js() {\n",
       "    \n",
       "    if ((root.Bokeh !== undefined) || (force === true)) {\n",
       "      for (var i = 0; i < inline_js.length; i++) {\n",
       "        inline_js[i].call(root, root.Bokeh);\n",
       "      }if (force === true) {\n",
       "        display_loaded();\n",
       "      }} else if (Date.now() < root._bokeh_timeout) {\n",
       "      setTimeout(run_inline_js, 100);\n",
       "    } else if (!root._bokeh_failed_load) {\n",
       "      console.log(\"Bokeh: BokehJS failed to load within specified timeout.\");\n",
       "      root._bokeh_failed_load = true;\n",
       "    } else if (force !== true) {\n",
       "      var cell = $(document.getElementById(\"f8b757de-c641-4189-8047-19da11a73737\")).parents('.cell').data().cell;\n",
       "      cell.output_area.append_execute_result(NB_LOAD_WARNING)\n",
       "    }\n",
       "\n",
       "  }\n",
       "\n",
       "  if (root._bokeh_is_loading === 0) {\n",
       "    console.log(\"Bokeh: BokehJS loaded, going straight to plotting\");\n",
       "    run_inline_js();\n",
       "  } else {\n",
       "    load_libs(js_urls, function() {\n",
       "      console.log(\"Bokeh: BokehJS plotting callback run at\", now());\n",
       "      run_inline_js();\n",
       "    });\n",
       "  }\n",
       "}(window));"
      ],
      "application/vnd.bokehjs_load.v0+json": "\n(function(root) {\n  function now() {\n    return new Date();\n  }\n\n  var force = true;\n\n  if (typeof (root._bokeh_onload_callbacks) === \"undefined\" || force === true) {\n    root._bokeh_onload_callbacks = [];\n    root._bokeh_is_loading = undefined;\n  }\n\n  \n\n  \n  if (typeof (root._bokeh_timeout) === \"undefined\" || force === true) {\n    root._bokeh_timeout = Date.now() + 5000;\n    root._bokeh_failed_load = false;\n  }\n\n  var NB_LOAD_WARNING = {'data': {'text/html':\n     \"<div style='background-color: #fdd'>\\n\"+\n     \"<p>\\n\"+\n     \"BokehJS does not appear to have successfully loaded. If loading BokehJS from CDN, this \\n\"+\n     \"may be due to a slow or bad network connection. Possible fixes:\\n\"+\n     \"</p>\\n\"+\n     \"<ul>\\n\"+\n     \"<li>re-rerun `output_notebook()` to attempt to load from CDN again, or</li>\\n\"+\n     \"<li>use INLINE resources instead, as so:</li>\\n\"+\n     \"</ul>\\n\"+\n     \"<code>\\n\"+\n     \"from bokeh.resources import INLINE\\n\"+\n     \"output_notebook(resources=INLINE)\\n\"+\n     \"</code>\\n\"+\n     \"</div>\"}};\n\n  function display_loaded() {\n    var el = document.getElementById(\"f8b757de-c641-4189-8047-19da11a73737\");\n    if (el != null) {\n      el.textContent = \"BokehJS is loading...\";\n    }\n    if (root.Bokeh !== undefined) {\n      if (el != null) {\n        el.textContent = \"BokehJS \" + root.Bokeh.version + \" successfully loaded.\";\n      }\n    } else if (Date.now() < root._bokeh_timeout) {\n      setTimeout(display_loaded, 100)\n    }\n  }\n\n\n  function run_callbacks() {\n    try {\n      root._bokeh_onload_callbacks.forEach(function(callback) { callback() });\n    }\n    finally {\n      delete root._bokeh_onload_callbacks\n    }\n    console.info(\"Bokeh: all callbacks have finished\");\n  }\n\n  function load_libs(js_urls, callback) {\n    root._bokeh_onload_callbacks.push(callback);\n    if (root._bokeh_is_loading > 0) {\n      console.log(\"Bokeh: BokehJS is being loaded, scheduling callback at\", now());\n      return null;\n    }\n    if (js_urls == null || js_urls.length === 0) {\n      run_callbacks();\n      return null;\n    }\n    console.log(\"Bokeh: BokehJS not loaded, scheduling load and callback at\", now());\n    root._bokeh_is_loading = js_urls.length;\n    for (var i = 0; i < js_urls.length; i++) {\n      var url = js_urls[i];\n      var s = document.createElement('script');\n      s.src = url;\n      s.async = false;\n      s.onreadystatechange = s.onload = function() {\n        root._bokeh_is_loading--;\n        if (root._bokeh_is_loading === 0) {\n          console.log(\"Bokeh: all BokehJS libraries loaded\");\n          run_callbacks()\n        }\n      };\n      s.onerror = function() {\n        console.warn(\"failed to load library \" + url);\n      };\n      console.log(\"Bokeh: injecting script tag for BokehJS library: \", url);\n      document.getElementsByTagName(\"head\")[0].appendChild(s);\n    }\n  };var element = document.getElementById(\"f8b757de-c641-4189-8047-19da11a73737\");\n  if (element == null) {\n    console.log(\"Bokeh: ERROR: autoload.js configured with elementid 'f8b757de-c641-4189-8047-19da11a73737' but no matching script tag was found. \")\n    return false;\n  }\n\n  var js_urls = [\"https://cdn.pydata.org/bokeh/release/bokeh-0.12.16.min.js\", \"https://cdn.pydata.org/bokeh/release/bokeh-widgets-0.12.16.min.js\", \"https://cdn.pydata.org/bokeh/release/bokeh-tables-0.12.16.min.js\", \"https://cdn.pydata.org/bokeh/release/bokeh-gl-0.12.16.min.js\"];\n\n  var inline_js = [\n    function(Bokeh) {\n      Bokeh.set_log_level(\"info\");\n    },\n    \n    function(Bokeh) {\n      \n    },\n    function(Bokeh) {\n      console.log(\"Bokeh: injecting CSS: https://cdn.pydata.org/bokeh/release/bokeh-0.12.16.min.css\");\n      Bokeh.embed.inject_css(\"https://cdn.pydata.org/bokeh/release/bokeh-0.12.16.min.css\");\n      console.log(\"Bokeh: injecting CSS: https://cdn.pydata.org/bokeh/release/bokeh-widgets-0.12.16.min.css\");\n      Bokeh.embed.inject_css(\"https://cdn.pydata.org/bokeh/release/bokeh-widgets-0.12.16.min.css\");\n      console.log(\"Bokeh: injecting CSS: https://cdn.pydata.org/bokeh/release/bokeh-tables-0.12.16.min.css\");\n      Bokeh.embed.inject_css(\"https://cdn.pydata.org/bokeh/release/bokeh-tables-0.12.16.min.css\");\n    }\n  ];\n\n  function run_inline_js() {\n    \n    if ((root.Bokeh !== undefined) || (force === true)) {\n      for (var i = 0; i < inline_js.length; i++) {\n        inline_js[i].call(root, root.Bokeh);\n      }if (force === true) {\n        display_loaded();\n      }} else if (Date.now() < root._bokeh_timeout) {\n      setTimeout(run_inline_js, 100);\n    } else if (!root._bokeh_failed_load) {\n      console.log(\"Bokeh: BokehJS failed to load within specified timeout.\");\n      root._bokeh_failed_load = true;\n    } else if (force !== true) {\n      var cell = $(document.getElementById(\"f8b757de-c641-4189-8047-19da11a73737\")).parents('.cell').data().cell;\n      cell.output_area.append_execute_result(NB_LOAD_WARNING)\n    }\n\n  }\n\n  if (root._bokeh_is_loading === 0) {\n    console.log(\"Bokeh: BokehJS loaded, going straight to plotting\");\n    run_inline_js();\n  } else {\n    load_libs(js_urls, function() {\n      console.log(\"Bokeh: BokehJS plotting callback run at\", now());\n      run_inline_js();\n    });\n  }\n}(window));"
     },
     "metadata": {},
     "output_type": "display_data"
    }
   ],
   "source": [
    "output_notebook()"
   ]
  },
  {
   "cell_type": "code",
   "execution_count": 8,
   "metadata": {
    "collapsed": true
   },
   "outputs": [],
   "source": [
    "def fmt_cool(ds_in):\n",
    "    ds = ds_in.copy(deep=True)\n",
    "    if 'igg' in ds.dims:\n",
    "        ds = ds.sel(igg=1)\n",
    "\n",
    "    if 'g' in ds.dims:\n",
    "        ds = ds.sum('g')\n",
    "            \n",
    "    if 'band' in ds.dims:\n",
    "        try:\n",
    "            ds = ds.squeeze('band')\n",
    "        except ValueError:\n",
    "            ds = ds.sum('band')\n",
    "                \n",
    "    return ds['coolrg']\n",
    "\n",
    "\n",
    "def pltdata_cooling_1(ds_cool=None,\n",
    "                      ds_cool_crd=None, ds_cool_wgt=None):\n",
    "    \n",
    "\n",
    "\n",
    "    colors = all_palettes['Set1'][4]\n",
    "    data = [{'label': 'CLIRAD `coolr_bands`',\n",
    "             'srs': fmt_cool(ds_cool),\n",
    "             'line_dash': 'dashed', 'line_width': 5,\n",
    "             'color': colors[0], 'alpha': .6},\n",
    "            {'label': 'CRD',\n",
    "             'srs': fmt_cool(ds_cool_crd),\n",
    "             'line_dash': 'solid', 'line_width': 1.5,\n",
    "             'marker': 'circle', 'marker_size': 5,\n",
    "             'color': colors[2], 'alpha': 1,},\n",
    "            {'label': 'WGT igg=10 wgt_flux=2',\n",
    "             'srs': fmt_cool(ds_cool_wgt),\n",
    "             'line_dash': 'solid', 'line_width': 3,\n",
    "             'marker': 'square', 'marker_size': 5,\n",
    "             'color': colors[3], 'alpha': .6}]\n",
    "    return data\n",
    "\n",
    "\n",
    "def nice_xlims(pltdata=None, prange=None):\n",
    "    \n",
    "    def get_slice(srs):\n",
    "        return srs.sel(pressure=slice(*prange))\n",
    "    \n",
    "    srss = [d['srs'] for d in pltdata]\n",
    "    vmin = min([get_slice(srs).min() for srs in srss])\n",
    "    vmax = max([get_slice(srs).max() for srs in srss])\n",
    "    dv = (vmax - vmin) * .01\n",
    "    return float(vmin - dv), float(vmax + dv)\n",
    "    \n",
    "\n",
    "def plt_cooling_bokeh(pltdata=None):\n",
    "    '''\n",
    "    Plot a list of cooling rate profiles using bokeh.\n",
    "    '''\n",
    "    ymin = 1e-2 \n",
    "    ymax = 1020 \n",
    "        \n",
    "    p1 = figure(title=\"Linear pressure scale\", \n",
    "                plot_width=400)        \n",
    "    xmin, xmax = nice_xlims(pltdata, prange=(50, 1050))\n",
    "    for d in pltdata:\n",
    "        if 'marker' in d:\n",
    "            getattr(p1, d['marker'])(d['srs'].values, \n",
    "                    d['srs'].coords['pressure'].values,\n",
    "                    color=d['color'], alpha=.7)\n",
    "        p1.line(d['srs'].values, \n",
    "                d['srs'].coords['pressure'].values,\n",
    "                color=d['color'], alpha=d['alpha'], \n",
    "                line_width=d['line_width'], line_dash=d['line_dash'])\n",
    "    \n",
    "    p1.y_range = Range1d(ymax, ymin)\n",
    "    p1.yaxis.axis_label = 'pressure [mb]'   \n",
    "    p1.x_range = Range1d(xmin, xmax)\n",
    "    p1.xaxis.axis_label = 'cooling rate [K/day]'\n",
    "            \n",
    "    p2 = figure(title='Log pressure scale', y_axis_type='log',\n",
    "                plot_width=560)\n",
    "    xmin, xmax = nice_xlims(pltdata, prange=(.01, 200))\n",
    "    \n",
    "    rs = []\n",
    "    for d in pltdata:\n",
    "        rd = []\n",
    "        if 'marker' in d:\n",
    "            r_mark = getattr(p2, d['marker'])(d['srs'].values, \n",
    "                        d['srs'].coords['pressure'].values,\n",
    "                        color=d['color'], alpha=.7)\n",
    "            rd.append(r_mark)\n",
    "        r_line = p2.line(d['srs'].values, \n",
    "                    d['srs'].coords['pressure'].values,\n",
    "                    color=d['color'], alpha=d['alpha'], \n",
    "                    line_width=d['line_width'], line_dash=d['line_dash'])\n",
    "        rd.append(r_line)\n",
    "      \n",
    "        rs.append(rd)\n",
    "        \n",
    "    p2.y_range = Range1d(ymax, ymin)  \n",
    "    p2.yaxis.axis_label = 'pressure [mb]'\n",
    "    \n",
    "    p2.x_range = Range1d(xmin, xmax)\n",
    "    p2.xaxis.axis_label = 'cooling rate [K/day]'\n",
    "    \n",
    "    items = [(d['label'], r) for r, d in zip(rs, pltdata)]\n",
    "    legend = Legend(items=items, location=(10, -30))\n",
    "    legend.label_text_font_size = '8pt'\n",
    "    \n",
    "    p2.add_layout(legend, 'right')  \n",
    "    \n",
    "    show(gridplot(p1, p2, ncols=2, plot_height=500))\n",
    "    \n",
    "\n",
    "def script_plt_cooling():\n",
    "    pltdata = pltdata_cooling_1(\n",
    "        ds_cool=DS_COOL,\n",
    "        ds_cool_crd=DS_COOL_CRD,\n",
    "        ds_cool_wgt=DS_COOL_WGT)\n",
    "    plt_cooling_bokeh(pltdata=pltdata)\n",
    "    print('''FIGURE. Cooling rate profiles.''')"
   ]
  },
  {
   "cell_type": "code",
   "execution_count": 9,
   "metadata": {
    "collapsed": true
   },
   "outputs": [],
   "source": [
    "def fmt_flux(ds_in):\n",
    "    ds = ds_in.copy(deep=True)\n",
    "    \n",
    "    for l in ('level', 'layer'):\n",
    "        if l in ds.data_vars:\n",
    "            if len(ds[l].dims) > 1:\n",
    "                surface = {d: 0 for d in ds.dims if d != 'pressure'}\n",
    "                coord_level = ds[l][surface]\n",
    "                ds.coords[l] = ('pressure', coord_level)\n",
    "            else:\n",
    "                ds.coords[l] = ('pressure', ds[l])\n",
    "        \n",
    "    ds = ds.isel(pressure=[0, 23, -1])\n",
    "        \n",
    "    if 'igg' in ds.dims:\n",
    "        ds = ds.sel(igg=[1])\n",
    "        ds = ds.squeeze('igg').drop('igg')\n",
    "    \n",
    "    if 'g' in ds.dims:\n",
    "        ds = ds.sum('g')\n",
    "            \n",
    "    if 'band' in ds.dims:\n",
    "        try:\n",
    "            ds = ds.squeeze('band').drop('band')\n",
    "        except ValueError:\n",
    "            ds = ds.sum('band')\n",
    "                \n",
    "    df = ds.to_dataframe()\n",
    "    df = df.set_index('level', append=True)               \n",
    "    return df\n",
    "\n",
    "\n",
    "def tbdata_flux(ds_flux=None, ds_flux_crd=None, ds_flux_wgt=None):\n",
    "    ilevels = [0, 23, -1]\n",
    "            \n",
    "    benchmark = {'label': 'CRD',\n",
    "                 'df': fmt_flux(ds_flux_crd)}\n",
    "    \n",
    "    tbs = [{'label': 'WGT igg=10 wgt_flux=1',\n",
    "            'df': fmt_flux(ds_flux_wgt)},\n",
    "           {'label': 'CLIRAD',\n",
    "            'df': fmt_flux(ds_flux)}]\n",
    "    \n",
    "    data = {'benchmark': benchmark, 'others': tbs}\n",
    "    return data\n",
    "\n",
    "\n",
    "def tb_flux(tbdata=None):\n",
    "    benchmark = tbdata['benchmark']\n",
    "    others = tbdata['others']\n",
    "    \n",
    "    def show_tb(d=None):\n",
    "        display.display(d['df'])\n",
    "        print('Table.', 'Fluxes.', d['label'])\n",
    "        \n",
    "    def show_tbdiff(d0=None, d=None):\n",
    "        df = d['df']\n",
    "        df.index = d0['df'].index\n",
    "        display.display(df - d0['df'])\n",
    "        print('Table.', 'Fluxes.', \n",
    "              '({}) - ({})'.format(d['label'], d0['label']))\n",
    "        \n",
    "    show_tb(benchmark)\n",
    "    for d in others:\n",
    "        show_tb(d)\n",
    "        \n",
    "    for d in others:\n",
    "        show_tbdiff(d=d, d0=benchmark)\n",
    "        \n",
    "        \n",
    "def script_tb_flux():\n",
    "    data = tbdata_flux(ds_flux=DS_FLUX,\n",
    "                       ds_flux_crd=DS_FLUX_CRD,\n",
    "                       ds_flux_wgt=DS_FLUX_WGT)\n",
    "    tb_flux(tbdata=data)"
   ]
  },
  {
   "cell_type": "code",
   "execution_count": 10,
   "metadata": {
    "collapsed": true
   },
   "outputs": [],
   "source": [
    "def band_map():\n",
    "    '''\n",
    "    Maps spectral bands in lblnew to spectral bands in clirad.\n",
    "    '''\n",
    "    lblnew2clirad = {'1': '1',\n",
    "            '2': '2',\n",
    "            '3a': '3',\n",
    "            '3b': '4',\n",
    "            '3c': '5',\n",
    "            '4': '6', \n",
    "            '5': '7',\n",
    "            '6': '8',\n",
    "            '7': '9', \n",
    "            '8': '10',\n",
    "            '9': '11'}\n",
    "    \n",
    "    clirad2lblnew = {clirad: lblnew \n",
    "                     for lblnew, clirad in lblnew2clirad.items()}\n",
    "    return clirad2lblnew\n",
    "\n",
    "\n",
    "def gasbands():\n",
    "    bmap = band_map()\n",
    "    gases = list(PARAM['molecule'].keys())\n",
    "    \n",
    "    bands = [bmap[str(b)] for b in PARAM['band']]\n",
    "    return list(itertools.product(gases, bands))\n",
    "\n",
    "\n",
    "def print_bestfit_params():\n",
    "    print('Best-fit values for each (gas, band)')\n",
    "    print('------------------------------------')\n",
    "    for gas, band in gasbands():\n",
    "        print('o {} band{}'.format(gas, band))\n",
    "        param = bestfits.kdist_params(molecule=gas, band=band)\n",
    "        for name, value in sorted(param.items()):\n",
    "            print(2 * ' ' + '{} = {}'.format(name, value))\n",
    "\n",
    "        \n",
    "def print_input_param():        \n",
    "    for name, value in PARAM.items():\n",
    "        print('{} = {}'.format(name, value))\n",
    "        \n",
    "        \n",
    "def print_lblnew_param():\n",
    "    for name, value in sorted(PARAM_LBLNEW.items()):\n",
    "        print('{} = {}'.format(name, value))\n"
   ]
  },
  {
   "cell_type": "code",
   "execution_count": 11,
   "metadata": {
    "collapsed": true,
    "scrolled": false
   },
   "outputs": [],
   "source": [
    "def show_html(s):\n",
    "    display.display(display.HTML(s))\n",
    "\n",
    "    \n",
    "def show_markdown(s):\n",
    "    display.display(display.Markdown(s))\n",
    "\n",
    "    \n",
    "def script():\n",
    "    \n",
    "    title = '### CLIRAD-LW'\n",
    "    s_input = 'Input Parameters'\n",
    "    s_lblnew_param = 'LBLNEW case compaired against'\n",
    "    s_bestfits = 'Best-fit Parameters'\n",
    "    s_plt_cooling = 'Cooling Rate Profiles'\n",
    "    s_tb_flux = 'Flux Comparison'\n",
    "    \n",
    "    # title\n",
    "    show_markdown('### CLIRAD-LW')\n",
    "    \n",
    "    # TOC\n",
    "    show_markdown('### Table of Contents')\n",
    "    show_html(climahtml.getHTML_hrefanchor(s_input))\n",
    "    show_html(climahtml.getHTML_hrefanchor(s_lblnew_param))\n",
    "    show_html(climahtml.getHTML_hrefanchor(s_plt_cooling))\n",
    "    show_html(climahtml.getHTML_hrefanchor(s_tb_flux))\n",
    "    show_html(climahtml.getHTML_hrefanchor(s_bestfits))\n",
    "    \n",
    "    # Input parameters\n",
    "    show_html(climahtml.getHTML_idanchor(s_input))\n",
    "    show_markdown(climahtml.getMarkdown_sectitle(s_input))\n",
    "    print_input_param()\n",
    "    \n",
    "    # LBLNEW parameters \n",
    "    show_html(climahtml.getHTML_idanchor(s_lblnew_param))\n",
    "    show_markdown(climahtml.getMarkdown_sectitle(s_lblnew_param))\n",
    "    print_lblnew_param()\n",
    "    \n",
    "    # Cooling rate profiles\n",
    "    show_html(climahtml.getHTML_idanchor(s_plt_cooling))\n",
    "    show_markdown(climahtml.getMarkdown_sectitle(s_plt_cooling))\n",
    "    script_plt_cooling()\n",
    "    \n",
    "    # Flux comparison\n",
    "    show_html(climahtml.getHTML_idanchor(s_tb_flux))\n",
    "    show_markdown(climahtml.getMarkdown_sectitle(s_tb_flux))\n",
    "    script_tb_flux()\n",
    "    \n",
    "    # Best-fit values\n",
    "    show_html(climahtml.getHTML_idanchor(s_bestfits))\n",
    "    show_markdown(climahtml.getMarkdown_sectitle(s_bestfits))\n",
    "    print_bestfit_params()\n",
    "   \n",
    "    "
   ]
  },
  {
   "cell_type": "code",
   "execution_count": 12,
   "metadata": {
    "collapsed": true,
    "scrolled": false
   },
   "outputs": [
    {
     "data": {
      "text/markdown": [
       "### CLIRAD-LW"
      ],
      "text/plain": [
       "<IPython.core.display.Markdown object>"
      ]
     },
     "metadata": {},
     "output_type": "display_data"
    },
    {
     "data": {
      "text/markdown": [
       "### Table of Contents"
      ],
      "text/plain": [
       "<IPython.core.display.Markdown object>"
      ]
     },
     "metadata": {},
     "output_type": "display_data"
    },
    {
     "data": {
      "text/html": [
       "<a href=\"#Input_Parameters\">Input Parameters</a>"
      ],
      "text/plain": [
       "<IPython.core.display.HTML object>"
      ]
     },
     "metadata": {},
     "output_type": "display_data"
    },
    {
     "data": {
      "text/html": [
       "<a href=\"#LBLNEW_case_compaired_against\">LBLNEW case compaired against</a>"
      ],
      "text/plain": [
       "<IPython.core.display.HTML object>"
      ]
     },
     "metadata": {},
     "output_type": "display_data"
    },
    {
     "data": {
      "text/html": [
       "<a href=\"#Cooling_Rate_Profiles\">Cooling Rate Profiles</a>"
      ],
      "text/plain": [
       "<IPython.core.display.HTML object>"
      ]
     },
     "metadata": {},
     "output_type": "display_data"
    },
    {
     "data": {
      "text/html": [
       "<a href=\"#Flux_Comparison\">Flux Comparison</a>"
      ],
      "text/plain": [
       "<IPython.core.display.HTML object>"
      ]
     },
     "metadata": {},
     "output_type": "display_data"
    },
    {
     "data": {
      "text/html": [
       "<a href=\"#Best-fit_Parameters\">Best-fit Parameters</a>"
      ],
      "text/plain": [
       "<IPython.core.display.HTML object>"
      ]
     },
     "metadata": {},
     "output_type": "display_data"
    },
    {
     "data": {
      "text/html": [
       "<a id=\"Input_Parameters\"></a>"
      ],
      "text/plain": [
       "<IPython.core.display.HTML object>"
      ]
     },
     "metadata": {},
     "output_type": "display_data"
    },
    {
     "data": {
      "text/markdown": [
       "# Input Parameters"
      ],
      "text/plain": [
       "<IPython.core.display.Markdown object>"
      ]
     },
     "metadata": {},
     "output_type": "display_data"
    },
    {
     "name": "stdout",
     "output_type": "stream",
     "text": [
      "atmpro = trp\n",
      "band = [3]\n",
      "commitnumber = de5d43e\n",
      "molecule = {'co2': 0.0004}\n",
      "tsfc = 300\n"
     ]
    },
    {
     "data": {
      "text/html": [
       "<a id=\"LBLNEW_case_compaired_against\"></a>"
      ],
      "text/plain": [
       "<IPython.core.display.HTML object>"
      ]
     },
     "metadata": {},
     "output_type": "display_data"
    },
    {
     "data": {
      "text/markdown": [
       "# LBLNEW case compaired against"
      ],
      "text/plain": [
       "<IPython.core.display.Markdown object>"
      ]
     },
     "metadata": {},
     "output_type": "display_data"
    },
    {
     "name": "stdout",
     "output_type": "stream",
     "text": [
      "atmpro = trp\n",
      "band = 3a\n",
      "commitnumber = a06b618\n",
      "conc = 0.0004\n",
      "dv = 0.001\n",
      "klin = 6.375563e-24\n",
      "molecule = co2\n",
      "ng_adju = [0, 0, 0]\n",
      "ng_refs = [3, 2, 4]\n",
      "nv = 1000\n",
      "option_compute_btable = 0\n",
      "option_compute_ktable = 0\n",
      "option_wgt_flux = 1\n",
      "option_wgt_k = 1\n",
      "ref_pts = [(1, 250), (10, 250), (500, 250)]\n",
      "tsfc = 300\n",
      "vmax = 620\n",
      "vmin = 540\n",
      "w_diffuse = [(1.6, 1.6, 1.7), (1.75, 1.75), (1.55, 1.55, 1.6, 1.85)]\n",
      "wgt = [(0.7, 0.3, 0.7), (0.7, 0.6), (0.4, 0.5, 0.8, 0.95)]\n"
     ]
    },
    {
     "data": {
      "text/html": [
       "<a id=\"Cooling_Rate_Profiles\"></a>"
      ],
      "text/plain": [
       "<IPython.core.display.HTML object>"
      ]
     },
     "metadata": {},
     "output_type": "display_data"
    },
    {
     "data": {
      "text/markdown": [
       "# Cooling Rate Profiles"
      ],
      "text/plain": [
       "<IPython.core.display.Markdown object>"
      ]
     },
     "metadata": {},
     "output_type": "display_data"
    },
    {
     "data": {
      "text/html": [
       "\n",
       "<div class=\"bk-root\">\n",
       "    <div class=\"bk-plotdiv\" id=\"b679c919-395b-4bea-a522-cd95323305b2\"></div>\n",
       "</div>"
      ]
     },
     "metadata": {},
     "output_type": "display_data"
    },
    {
     "data": {
      "application/javascript": [
       "(function(root) {\n",
       "  function embed_document(root) {\n",
       "    \n",
       "  var docs_json = {\"e4ae1ded-170f-4ba3-ada9-547dd88b73bb\":{\"roots\":{\"references\":[{\"attributes\":{\"active_drag\":\"auto\",\"active_inspect\":\"auto\",\"active_scroll\":\"auto\",\"active_tap\":\"auto\",\"tools\":[{\"id\":\"5ce91f28-093c-4f26-9664-88326c47eb84\",\"type\":\"PanTool\"},{\"id\":\"fdc441e7-b7de-4ec6-9b5e-55f07dd04978\",\"type\":\"WheelZoomTool\"},{\"id\":\"c238b31b-b33d-47c6-ad65-b852bcdf9834\",\"type\":\"BoxZoomTool\"},{\"id\":\"4b4fddd9-7727-4f3e-a3c6-f73942160f9f\",\"type\":\"SaveTool\"},{\"id\":\"325e77f7-1ab8-48c2-b82d-14a5a57ec6a2\",\"type\":\"ResetTool\"},{\"id\":\"32d9b90a-b3ca-4fa0-9e8d-d7e172a41582\",\"type\":\"HelpTool\"}]},\"id\":\"7bb8924a-b28e-4a05-8030-03e8aa0b12f9\",\"type\":\"Toolbar\"},{\"attributes\":{},\"id\":\"325e77f7-1ab8-48c2-b82d-14a5a57ec6a2\",\"type\":\"ResetTool\"},{\"attributes\":{\"below\":[{\"id\":\"1af2b295-afb8-4d8a-9c9f-3aa22467b166\",\"type\":\"LinearAxis\"}],\"left\":[{\"id\":\"15b9b306-1dee-434c-ae93-e78dff33ab36\",\"type\":\"LogAxis\"}],\"plot_height\":500,\"plot_width\":560,\"renderers\":[{\"id\":\"1af2b295-afb8-4d8a-9c9f-3aa22467b166\",\"type\":\"LinearAxis\"},{\"id\":\"1a716ba5-fbd1-40f4-9662-1e18dddfea3f\",\"type\":\"Grid\"},{\"id\":\"15b9b306-1dee-434c-ae93-e78dff33ab36\",\"type\":\"LogAxis\"},{\"id\":\"b7eb58c8-702f-4a40-8426-ba79856f4837\",\"type\":\"Grid\"},{\"id\":\"ffc6c971-f85d-45c0-8858-8dd71fc9f78f\",\"type\":\"BoxAnnotation\"},{\"id\":\"47eac09e-0760-4035-96e8-25ff3b5f922d\",\"type\":\"GlyphRenderer\"},{\"id\":\"75c45284-feac-40d7-89de-b65ccba18043\",\"type\":\"GlyphRenderer\"},{\"id\":\"4723e7c1-214c-4b50-ae56-fdd5c0a8a9bd\",\"type\":\"GlyphRenderer\"},{\"id\":\"39b7f6bf-2544-47d5-a87e-604a192729a2\",\"type\":\"GlyphRenderer\"},{\"id\":\"1f8ce4fc-6143-4a14-9c09-a169d7668dd2\",\"type\":\"GlyphRenderer\"},{\"id\":\"a90582be-3acd-495e-96eb-13b3b8cef4f8\",\"type\":\"Legend\"}],\"right\":[{\"id\":\"a90582be-3acd-495e-96eb-13b3b8cef4f8\",\"type\":\"Legend\"}],\"title\":{\"id\":\"d559264b-e5b5-47d4-8e7c-b9ddd6e52abe\",\"type\":\"Title\"},\"toolbar\":{\"id\":\"1f969911-f04d-4881-bfad-ab02203e1c94\",\"type\":\"Toolbar\"},\"toolbar_location\":null,\"x_range\":{\"id\":\"bdd39dcc-5c49-4c87-b015-0262e43c3e7a\",\"type\":\"Range1d\"},\"x_scale\":{\"id\":\"8e566861-c9b5-49a9-9a7e-9343a5d29662\",\"type\":\"LinearScale\"},\"y_range\":{\"id\":\"dbf7847e-e622-4d60-bf81-8fc17238b010\",\"type\":\"Range1d\"},\"y_scale\":{\"id\":\"144e8930-46a3-40b2-af22-434b8b9ab102\",\"type\":\"LogScale\"}},\"id\":\"3a8434e5-39b3-4c8f-b315-95ef86752804\",\"subtype\":\"Figure\",\"type\":\"Plot\"},{\"attributes\":{\"source\":{\"id\":\"92a99bf6-e0f9-442c-91c6-ca049e91bced\",\"type\":\"ColumnDataSource\"}},\"id\":\"7cbd6416-8c68-4a09-8ee0-fd4956160f3f\",\"type\":\"CDSView\"},{\"attributes\":{\"line_alpha\":0.1,\"line_color\":\"#1f77b4\",\"line_width\":3,\"x\":{\"field\":\"x\"},\"y\":{\"field\":\"y\"}},\"id\":\"18d03cf9-e2f7-4651-a7a7-5caec6852a08\",\"type\":\"Line\"},{\"attributes\":{\"callback\":null,\"data\":{\"x\":{\"__ndarray__\":\"etz5dvnzzj803xwJj5HPP26mY0r7kdA/tkL907Ja0T/wCF14FB3SPy7Vuy6y09I/Q0MYord20z+Mk05mtPzTP60VK3KhVdQ/0Pm+8v9u1D+J0ZQZRizUP4//nxbFY9M/wjRn2IPk0T8V+LPt7mDPP2jFu0zi5s4/Vv6MPUGD0j9fRgyWRbzVP+9i7TGJ4dY/zk1hxpBz1j/dwdvFLKLWP4xQ6Myof9o/f8qlr++c4T8OUb/qTMriPwtKbqACmOA/mbPjKyZb3D8fHeyHtxLXP9XmYoACd9M/StgzW+Tk0D+0u3KDwhzNP50SEJNwocc/cXowjGj5wT8ignnhMbC5P4BKn5runLE/Cx71w0dFqT9s0McXFbqcPzYV1kN8ayW/F6fgRIIWlb+P7d1oxQySvxi9t3zxqDG/FkA9JQMahj8tANwYekWVP2jCsnY0Pp4/KDoedWzroj87HGzQ6CWmPxOjVrQTB6k/MA5hDhiqqz/Lt9EPCTCuPzzKvrRzXbA/KGM6fOumsT+Rq/iJevayP7V3X/g1ULQ/udO3e6KztT/ETAOIgBi3PwzHd1L0erg/p7Nys2jPuT+zZ+gCCx67P7EJvNVrYbw/YOB/TOeavT+0y1QU8c6+P7DDPTuFAcA/Ke70WjuXwD8Qihg8bQnBPzYb8YVFHME/Go+twsG5wD+k9LfKNBbAP2vwnRwuB78/uGRNE1N1vj+1KtN5nom+Pz6PF/PvCr8/3/Oqa0DGvz/+ddl1kFPAP34kX+iV28A/aO1T4RGNwT+kzEBE7pLCP7kHtoRbwsQ/\",\"dtype\":\"float64\",\"shape\":[75]},\"y\":{\"__ndarray__\":\"S/O/Q+51ND/Sv8nbtpRIP2vylNV0PVE/aTum7souWD/At0SJ8fVgPw3Iuahxymc/MSNhhJWvcD/bTfBN02d3P2zb5nxnaoA/CD5h5MAGhz8NmeH1TyaQP+zrCsc9p5Y/LbKd76fGnz/bLW5ISEmmPww9YvTcQq8/JV2OstnstT8Er5Y7M8G+P0c+r3jqkcU/5h99k6ZBzj88bCIzFzjVP4enV8oyxN0//yH99nXg5D8qOpLLf0jtP5kqGJXUifQ/c9cS8kHP/D+/DpwzojQEQIEmwoanVwxA4lgXt9HgE0BSSZ2AJuIbQAMJih9jjiNA5q4l5INuK0AwTKYKRj0zQNv5fmq8/DpAaCJseHrtQkB/+zpwzoxKQM3MzMzMeFJAZmZmZmZqWEAAAAAAAFxeQM3MzMzMJmJAmpmZmZkfZUBmZmZmZhhoQDMzMzMzEWtAAAAAAAAKbkBmZmZmZoFwQM3MzMzM/XFAMzMzMzN6c0CamZmZmfZ0QAAAAAAAc3ZAZmZmZmbvd0DNzMzMzGt5QDMzMzMz6HpAmpmZmZlkfEAAAAAAAOF9QGZmZmZmXX9AZmZmZuZsgECamZmZGSuBQM3MzMxM6YFAAAAAAICngkAzMzMzs2WDQGZmZmbmI4RAmpmZmRnihEDNzMzMTKCFQAAAAACAXoZAMzMzM7Mch0BmZmZm5tqHQJqZmZkZmYhAzczMzExXiUAAAAAAgBWKQDMzMzOz04pAZmZmZuaRi0CamZmZGVCMQM3MzMxMDo1AAAAAAIDMjUAzMzMzs4qOQGZmZmbmSI9A\",\"dtype\":\"float64\",\"shape\":[75]}},\"selected\":{\"id\":\"c1c3ce89-5cfc-49bb-95dd-3b83684bb004\",\"type\":\"Selection\"},\"selection_policy\":{\"id\":\"5411bff2-3814-4f01-9a84-188ff42600af\",\"type\":\"UnionRenderers\"}},\"id\":\"fd34dabb-d3ad-4a73-a2f8-f1d2066b500c\",\"type\":\"ColumnDataSource\"},{\"attributes\":{\"line_alpha\":0.1,\"line_color\":\"#1f77b4\",\"line_width\":3,\"x\":{\"field\":\"x\"},\"y\":{\"field\":\"y\"}},\"id\":\"6936a59f-1bfc-409c-91ee-801841427611\",\"type\":\"Line\"},{\"attributes\":{},\"id\":\"5ce91f28-093c-4f26-9664-88326c47eb84\",\"type\":\"PanTool\"},{\"attributes\":{\"plot\":null,\"text\":\"Linear pressure scale\"},\"id\":\"97fa1a88-ea89-4af2-a9f8-6a25c0a9c084\",\"type\":\"Title\"},{\"attributes\":{\"data_source\":{\"id\":\"beddc590-8fa9-4936-9771-530df96c5c46\",\"type\":\"ColumnDataSource\"},\"glyph\":{\"id\":\"45ef7089-6e6d-41b3-a1d9-bc6869f697b4\",\"type\":\"Square\"},\"hover_glyph\":null,\"muted_glyph\":null,\"nonselection_glyph\":{\"id\":\"8dd061b8-5747-4bbf-aa17-d0668935c521\",\"type\":\"Square\"},\"selection_glyph\":null,\"view\":{\"id\":\"b5c3e6c8-6cd6-40c6-8503-e723df2b8b60\",\"type\":\"CDSView\"}},\"id\":\"258272ef-094b-4dad-9cf4-f7a91c3c3a7a\",\"type\":\"GlyphRenderer\"},{\"attributes\":{\"callback\":null,\"data\":{\"x\":{\"__ndarray__\":\"AFv7jiPO2D//gUlcjc3YP0pWsFPNqNk/UNsrmJ1q2j9CP5XLLQrbP/MUQbUkdNs/+xpR87ic2z/LOB0zFm7bP2KdKt8z0to/mEOcmD+w2T8apAE4ze3XP/XQBKtmbdU/ktXnSR0N0j+ON+CQmc3LP+uJMkTjw8g/0ac8V+dazj8adFuFQdfSPxfLPtneeNU/kdM6HvGz1z90zQWqVpHaP0Y/noY9p98/+0u9NGbu4z8wNFMxAPrjPyQHsr9oxuA/syAYMBZA3D9Kx8XmHcbWP1L1ZUiZfdI/1RbHFrxHzj8+wKRChp/IP4bRg+3tt8M/DWWP7Qjpvj8mHJuZcJq3Px7TsmzokbE/dKS5acH4qT/X8l1ZiF+aP20MidUJ6m+/Aa5Kc0Igl7+vyAjYqRqUvxdkm7lfvGm/yYx0nYbjfj/RWCa8N5iRP7ZFGI0c7Jo/MfFy0cPioT+TnFhPyROmP11VD/uxB6o/wfJNvsy8rT9qw2vbU5mwPx7NvhbnNLI/m4ezJSKxsz8Wb4rlmw+1P7WZY6mQU7Y/tFNpR05/tz8ZkC805pS4P1PEwVyNl7k/OAysBAeLuj9Msw6BAnO7P9GqXMkKVbw/EOO55444vT8p+UP5oyS+P3hNQPrDIr8/1++R5vITwD/wUfuEHnfAP+7YnSjoesA/UYxFNgQFwD9dPxYFbpu+P++0kNuKWL0/vI7+uHm6vD9Z5VuCANe8P9Vnvc48b70/PGtUM61Fvj8IBu8vq0W/P5Q/rdzqPcA/QEQwLzwGwT8tFOENBirCP8sMwKuKlcQ/\",\"dtype\":\"float64\",\"shape\":[75]},\"y\":{\"__ndarray__\":\"GhExyth1ND/Sv8nbtpRIP2vylNV0PVE/aTum7souWD/At0SJ8fVgPw3Iuahxymc/MSNhhJWvcD/bTfBN02d3P2zb5nxnaoA/CD5h5MAGhz8NmeH1TyaQP+zrCsc9p5Y/LbKd76fGnz/bLW5ISEmmPww9YvTcQq8/JV2OstnstT8Er5Y7M8G+P0c+r3jqkcU/5h99k6ZBzj88bCIzFzjVP4enV8oyxN0//yH99nXg5D8qOpLLf0jtP5kqGJXUifQ/c9cS8kHP/D+/DpwzojQEQIEmwoanVwxA4lgXt9HgE0BSSZ2AJuIbQAMJih9jjiNA5q4l5INuK0AwTKYKRj0zQNv5fmq8/DpAaCJseHrtQkB/+zpwzoxKQM3MzMzMeFJAZmZmZmZqWEAAAAAAAFxeQM3MzMzMJmJAmpmZmZkfZUBmZmZmZhhoQDMzMzMzEWtAAAAAAAAKbkBmZmZmZoFwQM3MzMzM/XFAMzMzMzN6c0CamZmZmfZ0QAAAAAAAc3ZAZmZmZmbvd0DNzMzMzGt5QDMzMzMz6HpAmpmZmZlkfEAAAAAAAOF9QGZmZmZmXX9AZmZmZuZsgECamZmZGSuBQM3MzMxM6YFAAAAAAICngkAzMzMzs2WDQGZmZmbmI4RAmpmZmRnihEDNzMzMTKCFQAAAAACAXoZAMzMzM7Mch0BmZmZm5tqHQJqZmZkZmYhAzczMzExXiUAAAAAAgBWKQDMzMzOz04pAZmZmZuaRi0CamZmZGVCMQM3MzMxMDo1AAAAAAIDMjUAzMzMzs4qOQGZmZmbmSI9A\",\"dtype\":\"float64\",\"shape\":[75]}},\"selected\":{\"id\":\"37093bf6-8d58-4f01-8ee9-a3397b57c6b4\",\"type\":\"Selection\"},\"selection_policy\":{\"id\":\"0244daf8-48d4-44db-aa64-bad4a6ebdf57\",\"type\":\"UnionRenderers\"}},\"id\":\"4f56d678-a3f1-4f95-b7c7-650a46bc98f0\",\"type\":\"ColumnDataSource\"},{\"attributes\":{\"data_source\":{\"id\":\"92a99bf6-e0f9-442c-91c6-ca049e91bced\",\"type\":\"ColumnDataSource\"},\"glyph\":{\"id\":\"e447d020-9201-4bcc-ba50-958401ef7d7b\",\"type\":\"Circle\"},\"hover_glyph\":null,\"muted_glyph\":null,\"nonselection_glyph\":{\"id\":\"d6535efa-63a4-4ebe-82db-b54e4faebb5c\",\"type\":\"Circle\"},\"selection_glyph\":null,\"view\":{\"id\":\"7cbd6416-8c68-4a09-8ee0-fd4956160f3f\",\"type\":\"CDSView\"}},\"id\":\"dc0b9f34-c39e-4876-b078-8a574a9f6672\",\"type\":\"GlyphRenderer\"},{\"attributes\":{\"line_color\":\"#4daf4a\",\"line_width\":1.5,\"x\":{\"field\":\"x\"},\"y\":{\"field\":\"y\"}},\"id\":\"0be0b5c8-8052-46b9-958a-2c65cc1cb755\",\"type\":\"Line\"},{\"attributes\":{\"fill_alpha\":{\"value\":0.7},\"fill_color\":{\"value\":\"#4daf4a\"},\"line_alpha\":{\"value\":0.7},\"line_color\":{\"value\":\"#4daf4a\"},\"x\":{\"field\":\"x\"},\"y\":{\"field\":\"y\"}},\"id\":\"df64bb91-81db-43cf-953c-bf9556527ed3\",\"type\":\"Circle\"},{\"attributes\":{},\"id\":\"067f7d99-cc0a-4d3f-a2e6-581241c5ea78\",\"type\":\"BasicTicker\"},{\"attributes\":{\"callback\":null,\"data\":{\"x\":{\"__ndarray__\":\"diGPdMOd1T/+lINadMTVP609/a6Jn9Y/2Gj0t8Zr1z+ah2Zv5iDYP3AFNOZps9g/GhwdLpsa2T+49ATZ80XZPxCPNCkEIdk/ULah2/ST2D8KQT+MpHvXP1XOr+wdwtU/REIE3yox0z+1jp3TPLzPPwf9UeW/sc0//mEnOMac0T/E160ROMnUP/8T3JgBV9Y/ybsmdknz1j/OiVHhlT7YP+elXIV/htw/Dvyoshdq4j/mcD00MjPjP95GfqUIu+A/HgHpDUF+3D8HSZvuVkLXP4SQ2tbYc9M/k7f4mjyz0D+sCahE7XLMP3diwNKpSsc/9LrPDhAKwj84xwzi0oS6P4i3+6987LI/kY6dH4/sqz/X90nh7uaeP77x/OboxUO/MUUUUz8Alr+5Xr5dcUySv2sbr+Q7hUw/3OdAC+5Gij8o8XzWS8SXP+xNimU2eKA/KhqDtTtmpD+aGEJFlcinPyQHMyrxxao/9TtbLNV/rT/1hVBkNwewPxRc2uo4QrE/hw1GN8t1sj/NC2E9eaSzPyOQnhyd0LQ/v1TFXxf7tT/eaYfO7CG3P5DWOyRnQbg/QPNx0lhbuT+txI/CVG+6P9+BSZsIf7s/rOgPvVGNvD/llgX3nKG9P9PUZaTAwb4/QH0N72Pmvz/XHKoDimXAP5DyYvmneMA/JerwELYUwD/w7oAVWuG+PxzYSvGTwb0/PgXsBYY7vT92vWvYL2O9P0BO3TAV/b0/mngbpX/Nvj+K0pgIuMK/P038aoT2c8A/Qu5RQ/ovwT+NUCTCfELCPw5wkpuujsQ/\",\"dtype\":\"float64\",\"shape\":[75]},\"y\":{\"__ndarray__\":\"GhExyth1ND/Sv8nbtpRIP2vylNV0PVE/aTum7souWD/At0SJ8fVgPw3Iuahxymc/MSNhhJWvcD/bTfBN02d3P2zb5nxnaoA/CD5h5MAGhz8NmeH1TyaQP+zrCsc9p5Y/LbKd76fGnz/bLW5ISEmmPww9YvTcQq8/JV2OstnstT8Er5Y7M8G+P0c+r3jqkcU/5h99k6ZBzj88bCIzFzjVP4enV8oyxN0//yH99nXg5D8qOpLLf0jtP5kqGJXUifQ/c9cS8kHP/D+/DpwzojQEQIEmwoanVwxA4lgXt9HgE0BSSZ2AJuIbQAMJih9jjiNA5q4l5INuK0AwTKYKRj0zQNv5fmq8/DpAaCJseHrtQkB/+zpwzoxKQM3MzMzMeFJAZmZmZmZqWEAAAAAAAFxeQM3MzMzMJmJAmpmZmZkfZUBmZmZmZhhoQDMzMzMzEWtAAAAAAAAKbkBmZmZmZoFwQM3MzMzM/XFAMzMzMzN6c0CamZmZmfZ0QAAAAAAAc3ZAZmZmZmbvd0DNzMzMzGt5QDMzMzMz6HpAmpmZmZlkfEAAAAAAAOF9QGZmZmZmXX9AZmZmZuZsgECamZmZGSuBQM3MzMxM6YFAAAAAAICngkAzMzMzs2WDQGZmZmbmI4RAmpmZmRnihEDNzMzMTKCFQAAAAACAXoZAMzMzM7Mch0BmZmZm5tqHQJqZmZkZmYhAzczMzExXiUAAAAAAgBWKQDMzMzOz04pAZmZmZuaRi0CamZmZGVCMQM3MzMxMDo1AAAAAAIDMjUAzMzMzs4qOQGZmZmbmSI9A\",\"dtype\":\"float64\",\"shape\":[75]}},\"selected\":{\"id\":\"489143fc-91a8-4d13-8dcd-62ebba1bb851\",\"type\":\"Selection\"},\"selection_policy\":{\"id\":\"6ad755f5-10e6-4873-a726-c2a235223947\",\"type\":\"UnionRenderers\"}},\"id\":\"beddc590-8fa9-4936-9771-530df96c5c46\",\"type\":\"ColumnDataSource\"},{\"attributes\":{\"plot\":{\"id\":\"d7f4810b-5afe-447c-a596-aafaca001b8e\",\"subtype\":\"Figure\",\"type\":\"Plot\"},\"ticker\":{\"id\":\"ca11da23-4249-4f3e-b05a-c2f159ef3fa8\",\"type\":\"BasicTicker\"}},\"id\":\"80de2fc6-d901-44f9-b912-c84ee79a299a\",\"type\":\"Grid\"},{\"attributes\":{\"source\":{\"id\":\"beddc590-8fa9-4936-9771-530df96c5c46\",\"type\":\"ColumnDataSource\"}},\"id\":\"b5c3e6c8-6cd6-40c6-8503-e723df2b8b60\",\"type\":\"CDSView\"},{\"attributes\":{\"bottom_units\":\"screen\",\"fill_alpha\":{\"value\":0.5},\"fill_color\":{\"value\":\"lightgrey\"},\"left_units\":\"screen\",\"level\":\"overlay\",\"line_alpha\":{\"value\":1.0},\"line_color\":{\"value\":\"black\"},\"line_dash\":[4,4],\"line_width\":{\"value\":2},\"plot\":null,\"render_mode\":\"css\",\"right_units\":\"screen\",\"top_units\":\"screen\"},\"id\":\"924ce831-1824-4bd1-8cab-62a5f1246e3b\",\"type\":\"BoxAnnotation\"},{\"attributes\":{\"axis_label\":\"cooling rate [K/day]\",\"formatter\":{\"id\":\"e888c7d7-7dc4-4084-a231-c1394b0d3676\",\"type\":\"BasicTickFormatter\"},\"plot\":{\"id\":\"d7f4810b-5afe-447c-a596-aafaca001b8e\",\"subtype\":\"Figure\",\"type\":\"Plot\"},\"ticker\":{\"id\":\"ca11da23-4249-4f3e-b05a-c2f159ef3fa8\",\"type\":\"BasicTicker\"}},\"id\":\"87da831d-0cfe-48ed-ae3a-db302814b301\",\"type\":\"LinearAxis\"},{\"attributes\":{\"axis_label\":\"pressure [mb]\",\"formatter\":{\"id\":\"6735099c-6d7a-465f-bca1-f0bf90303f41\",\"type\":\"BasicTickFormatter\"},\"plot\":{\"id\":\"d7f4810b-5afe-447c-a596-aafaca001b8e\",\"subtype\":\"Figure\",\"type\":\"Plot\"},\"ticker\":{\"id\":\"067f7d99-cc0a-4d3f-a2e6-581241c5ea78\",\"type\":\"BasicTicker\"}},\"id\":\"f073e9cc-03b4-4e1b-b4f7-a2d30deafac7\",\"type\":\"LinearAxis\"},{\"attributes\":{\"callback\":null,\"data\":{\"x\":{\"__ndarray__\":\"AFv7jiPO2D//gUlcjc3YP0pWsFPNqNk/UNsrmJ1q2j9CP5XLLQrbP/MUQbUkdNs/+xpR87ic2z/LOB0zFm7bP2KdKt8z0to/mEOcmD+w2T8apAE4ze3XP/XQBKtmbdU/ktXnSR0N0j+ON+CQmc3LP+uJMkTjw8g/0ac8V+dazj8adFuFQdfSPxfLPtneeNU/kdM6HvGz1z90zQWqVpHaP0Y/noY9p98/+0u9NGbu4z8wNFMxAPrjPyQHsr9oxuA/syAYMBZA3D9Kx8XmHcbWP1L1ZUiZfdI/1RbHFrxHzj8+wKRChp/IP4bRg+3tt8M/DWWP7Qjpvj8mHJuZcJq3Px7TsmzokbE/dKS5acH4qT/X8l1ZiF+aP20MidUJ6m+/Aa5Kc0Igl7+vyAjYqRqUvxdkm7lfvGm/yYx0nYbjfj/RWCa8N5iRP7ZFGI0c7Jo/MfFy0cPioT+TnFhPyROmP11VD/uxB6o/wfJNvsy8rT9qw2vbU5mwPx7NvhbnNLI/m4ezJSKxsz8Wb4rlmw+1P7WZY6mQU7Y/tFNpR05/tz8ZkC805pS4P1PEwVyNl7k/OAysBAeLuj9Msw6BAnO7P9GqXMkKVbw/EOO55444vT8p+UP5oyS+P3hNQPrDIr8/1++R5vITwD/wUfuEHnfAP+7YnSjoesA/UYxFNgQFwD9dPxYFbpu+P++0kNuKWL0/vI7+uHm6vD9Z5VuCANe8P9Vnvc48b70/PGtUM61Fvj8IBu8vq0W/P5Q/rdzqPcA/QEQwLzwGwT8tFOENBirCP8sMwKuKlcQ/\",\"dtype\":\"float64\",\"shape\":[75]},\"y\":{\"__ndarray__\":\"GhExyth1ND/Sv8nbtpRIP2vylNV0PVE/aTum7souWD/At0SJ8fVgPw3Iuahxymc/MSNhhJWvcD/bTfBN02d3P2zb5nxnaoA/CD5h5MAGhz8NmeH1TyaQP+zrCsc9p5Y/LbKd76fGnz/bLW5ISEmmPww9YvTcQq8/JV2OstnstT8Er5Y7M8G+P0c+r3jqkcU/5h99k6ZBzj88bCIzFzjVP4enV8oyxN0//yH99nXg5D8qOpLLf0jtP5kqGJXUifQ/c9cS8kHP/D+/DpwzojQEQIEmwoanVwxA4lgXt9HgE0BSSZ2AJuIbQAMJih9jjiNA5q4l5INuK0AwTKYKRj0zQNv5fmq8/DpAaCJseHrtQkB/+zpwzoxKQM3MzMzMeFJAZmZmZmZqWEAAAAAAAFxeQM3MzMzMJmJAmpmZmZkfZUBmZmZmZhhoQDMzMzMzEWtAAAAAAAAKbkBmZmZmZoFwQM3MzMzM/XFAMzMzMzN6c0CamZmZmfZ0QAAAAAAAc3ZAZmZmZmbvd0DNzMzMzGt5QDMzMzMz6HpAmpmZmZlkfEAAAAAAAOF9QGZmZmZmXX9AZmZmZuZsgECamZmZGSuBQM3MzMxM6YFAAAAAAICngkAzMzMzs2WDQGZmZmbmI4RAmpmZmRnihEDNzMzMTKCFQAAAAACAXoZAMzMzM7Mch0BmZmZm5tqHQJqZmZkZmYhAzczMzExXiUAAAAAAgBWKQDMzMzOz04pAZmZmZuaRi0CamZmZGVCMQM3MzMxMDo1AAAAAAIDMjUAzMzMzs4qOQGZmZmbmSI9A\",\"dtype\":\"float64\",\"shape\":[75]}},\"selected\":{\"id\":\"b390f023-fe43-4353-93b8-e20568640cce\",\"type\":\"Selection\"},\"selection_policy\":{\"id\":\"881673e0-3f65-4682-8ca9-81814f611c63\",\"type\":\"UnionRenderers\"}},\"id\":\"aa6a62aa-0bd9-4414-96e0-e3d4b9baf8b2\",\"type\":\"ColumnDataSource\"},{\"attributes\":{\"dimension\":1,\"plot\":{\"id\":\"d7f4810b-5afe-447c-a596-aafaca001b8e\",\"subtype\":\"Figure\",\"type\":\"Plot\"},\"ticker\":{\"id\":\"067f7d99-cc0a-4d3f-a2e6-581241c5ea78\",\"type\":\"BasicTicker\"}},\"id\":\"d0255e03-3f15-4982-a0a2-bb8f46fd408e\",\"type\":\"Grid\"},{\"attributes\":{\"line_color\":\"#4daf4a\",\"line_width\":1.5,\"x\":{\"field\":\"x\"},\"y\":{\"field\":\"y\"}},\"id\":\"87a0a60c-67bf-4dcc-81ac-edeef9649047\",\"type\":\"Line\"},{\"attributes\":{},\"id\":\"ca11da23-4249-4f3e-b05a-c2f159ef3fa8\",\"type\":\"BasicTicker\"},{\"attributes\":{\"fill_alpha\":{\"value\":0.1},\"fill_color\":{\"value\":\"#1f77b4\"},\"line_alpha\":{\"value\":0.1},\"line_color\":{\"value\":\"#1f77b4\"},\"x\":{\"field\":\"x\"},\"y\":{\"field\":\"y\"}},\"id\":\"8dd061b8-5747-4bbf-aa17-d0668935c521\",\"type\":\"Square\"},{\"attributes\":{\"fill_alpha\":{\"value\":0.1},\"fill_color\":{\"value\":\"#1f77b4\"},\"line_alpha\":{\"value\":0.1},\"line_color\":{\"value\":\"#1f77b4\"},\"x\":{\"field\":\"x\"},\"y\":{\"field\":\"y\"}},\"id\":\"c1bc30f5-84aa-42ef-85db-60706596b53d\",\"type\":\"Circle\"},{\"attributes\":{\"callback\":null,\"data\":{\"x\":{\"__ndarray__\":\"diGPdMOd1T/+lINadMTVP609/a6Jn9Y/2Gj0t8Zr1z+ah2Zv5iDYP3AFNOZps9g/GhwdLpsa2T+49ATZ80XZPxCPNCkEIdk/ULah2/ST2D8KQT+MpHvXP1XOr+wdwtU/REIE3yox0z+1jp3TPLzPPwf9UeW/sc0//mEnOMac0T/E160ROMnUP/8T3JgBV9Y/ybsmdknz1j/OiVHhlT7YP+elXIV/htw/Dvyoshdq4j/mcD00MjPjP95GfqUIu+A/HgHpDUF+3D8HSZvuVkLXP4SQ2tbYc9M/k7f4mjyz0D+sCahE7XLMP3diwNKpSsc/9LrPDhAKwj84xwzi0oS6P4i3+6987LI/kY6dH4/sqz/X90nh7uaeP77x/OboxUO/MUUUUz8Alr+5Xr5dcUySv2sbr+Q7hUw/3OdAC+5Gij8o8XzWS8SXP+xNimU2eKA/KhqDtTtmpD+aGEJFlcinPyQHMyrxxao/9TtbLNV/rT/1hVBkNwewPxRc2uo4QrE/hw1GN8t1sj/NC2E9eaSzPyOQnhyd0LQ/v1TFXxf7tT/eaYfO7CG3P5DWOyRnQbg/QPNx0lhbuT+txI/CVG+6P9+BSZsIf7s/rOgPvVGNvD/llgX3nKG9P9PUZaTAwb4/QH0N72Pmvz/XHKoDimXAP5DyYvmneMA/JerwELYUwD/w7oAVWuG+PxzYSvGTwb0/PgXsBYY7vT92vWvYL2O9P0BO3TAV/b0/mngbpX/Nvj+K0pgIuMK/P038aoT2c8A/Qu5RQ/ovwT+NUCTCfELCPw5wkpuujsQ/\",\"dtype\":\"float64\",\"shape\":[75]},\"y\":{\"__ndarray__\":\"GhExyth1ND/Sv8nbtpRIP2vylNV0PVE/aTum7souWD/At0SJ8fVgPw3Iuahxymc/MSNhhJWvcD/bTfBN02d3P2zb5nxnaoA/CD5h5MAGhz8NmeH1TyaQP+zrCsc9p5Y/LbKd76fGnz/bLW5ISEmmPww9YvTcQq8/JV2OstnstT8Er5Y7M8G+P0c+r3jqkcU/5h99k6ZBzj88bCIzFzjVP4enV8oyxN0//yH99nXg5D8qOpLLf0jtP5kqGJXUifQ/c9cS8kHP/D+/DpwzojQEQIEmwoanVwxA4lgXt9HgE0BSSZ2AJuIbQAMJih9jjiNA5q4l5INuK0AwTKYKRj0zQNv5fmq8/DpAaCJseHrtQkB/+zpwzoxKQM3MzMzMeFJAZmZmZmZqWEAAAAAAAFxeQM3MzMzMJmJAmpmZmZkfZUBmZmZmZhhoQDMzMzMzEWtAAAAAAAAKbkBmZmZmZoFwQM3MzMzM/XFAMzMzMzN6c0CamZmZmfZ0QAAAAAAAc3ZAZmZmZmbvd0DNzMzMzGt5QDMzMzMz6HpAmpmZmZlkfEAAAAAAAOF9QGZmZmZmXX9AZmZmZuZsgECamZmZGSuBQM3MzMxM6YFAAAAAAICngkAzMzMzs2WDQGZmZmbmI4RAmpmZmRnihEDNzMzMTKCFQAAAAACAXoZAMzMzM7Mch0BmZmZm5tqHQJqZmZkZmYhAzczMzExXiUAAAAAAgBWKQDMzMzOz04pAZmZmZuaRi0CamZmZGVCMQM3MzMxMDo1AAAAAAIDMjUAzMzMzs4qOQGZmZmbmSI9A\",\"dtype\":\"float64\",\"shape\":[75]}},\"selected\":{\"id\":\"591b74d7-77d6-4c42-9ee0-05c23f0e8a0c\",\"type\":\"Selection\"},\"selection_policy\":{\"id\":\"c9e877c8-c467-4f0c-b4cd-6bf0e0bac4d5\",\"type\":\"UnionRenderers\"}},\"id\":\"417d34e3-a459-4140-a6f0-e3615d8ed9e3\",\"type\":\"ColumnDataSource\"},{\"attributes\":{\"callback\":null,\"data\":{\"x\":{\"__ndarray__\":\"AFv7jiPO2D//gUlcjc3YP0pWsFPNqNk/UNsrmJ1q2j9CP5XLLQrbP/MUQbUkdNs/+xpR87ic2z/LOB0zFm7bP2KdKt8z0to/mEOcmD+w2T8apAE4ze3XP/XQBKtmbdU/ktXnSR0N0j+ON+CQmc3LP+uJMkTjw8g/0ac8V+dazj8adFuFQdfSPxfLPtneeNU/kdM6HvGz1z90zQWqVpHaP0Y/noY9p98/+0u9NGbu4z8wNFMxAPrjPyQHsr9oxuA/syAYMBZA3D9Kx8XmHcbWP1L1ZUiZfdI/1RbHFrxHzj8+wKRChp/IP4bRg+3tt8M/DWWP7Qjpvj8mHJuZcJq3Px7TsmzokbE/dKS5acH4qT/X8l1ZiF+aP20MidUJ6m+/Aa5Kc0Igl7+vyAjYqRqUvxdkm7lfvGm/yYx0nYbjfj/RWCa8N5iRP7ZFGI0c7Jo/MfFy0cPioT+TnFhPyROmP11VD/uxB6o/wfJNvsy8rT9qw2vbU5mwPx7NvhbnNLI/m4ezJSKxsz8Wb4rlmw+1P7WZY6mQU7Y/tFNpR05/tz8ZkC805pS4P1PEwVyNl7k/OAysBAeLuj9Msw6BAnO7P9GqXMkKVbw/EOO55444vT8p+UP5oyS+P3hNQPrDIr8/1++R5vITwD/wUfuEHnfAP+7YnSjoesA/UYxFNgQFwD9dPxYFbpu+P++0kNuKWL0/vI7+uHm6vD9Z5VuCANe8P9Vnvc48b70/PGtUM61Fvj8IBu8vq0W/P5Q/rdzqPcA/QEQwLzwGwT8tFOENBirCP8sMwKuKlcQ/\",\"dtype\":\"float64\",\"shape\":[75]},\"y\":{\"__ndarray__\":\"GhExyth1ND/Sv8nbtpRIP2vylNV0PVE/aTum7souWD/At0SJ8fVgPw3Iuahxymc/MSNhhJWvcD/bTfBN02d3P2zb5nxnaoA/CD5h5MAGhz8NmeH1TyaQP+zrCsc9p5Y/LbKd76fGnz/bLW5ISEmmPww9YvTcQq8/JV2OstnstT8Er5Y7M8G+P0c+r3jqkcU/5h99k6ZBzj88bCIzFzjVP4enV8oyxN0//yH99nXg5D8qOpLLf0jtP5kqGJXUifQ/c9cS8kHP/D+/DpwzojQEQIEmwoanVwxA4lgXt9HgE0BSSZ2AJuIbQAMJih9jjiNA5q4l5INuK0AwTKYKRj0zQNv5fmq8/DpAaCJseHrtQkB/+zpwzoxKQM3MzMzMeFJAZmZmZmZqWEAAAAAAAFxeQM3MzMzMJmJAmpmZmZkfZUBmZmZmZhhoQDMzMzMzEWtAAAAAAAAKbkBmZmZmZoFwQM3MzMzM/XFAMzMzMzN6c0CamZmZmfZ0QAAAAAAAc3ZAZmZmZmbvd0DNzMzMzGt5QDMzMzMz6HpAmpmZmZlkfEAAAAAAAOF9QGZmZmZmXX9AZmZmZuZsgECamZmZGSuBQM3MzMxM6YFAAAAAAICngkAzMzMzs2WDQGZmZmbmI4RAmpmZmRnihEDNzMzMTKCFQAAAAACAXoZAMzMzM7Mch0BmZmZm5tqHQJqZmZkZmYhAzczMzExXiUAAAAAAgBWKQDMzMzOz04pAZmZmZuaRi0CamZmZGVCMQM3MzMxMDo1AAAAAAIDMjUAzMzMzs4qOQGZmZmbmSI9A\",\"dtype\":\"float64\",\"shape\":[75]}},\"selected\":{\"id\":\"c72fe2fe-ffa7-4b07-968c-c4653c966a69\",\"type\":\"Selection\"},\"selection_policy\":{\"id\":\"c9807b20-9458-4dc6-93ab-827136eeb8d8\",\"type\":\"UnionRenderers\"}},\"id\":\"3d248584-54eb-47a5-bd37-842769610649\",\"type\":\"ColumnDataSource\"},{\"attributes\":{},\"id\":\"32d9b90a-b3ca-4fa0-9e8d-d7e172a41582\",\"type\":\"HelpTool\"},{\"attributes\":{\"callback\":null,\"data\":{\"x\":{\"__ndarray__\":\"AFv7jiPO2D//gUlcjc3YP0pWsFPNqNk/UNsrmJ1q2j9CP5XLLQrbP/MUQbUkdNs/+xpR87ic2z/LOB0zFm7bP2KdKt8z0to/mEOcmD+w2T8apAE4ze3XP/XQBKtmbdU/ktXnSR0N0j+ON+CQmc3LP+uJMkTjw8g/0ac8V+dazj8adFuFQdfSPxfLPtneeNU/kdM6HvGz1z90zQWqVpHaP0Y/noY9p98/+0u9NGbu4z8wNFMxAPrjPyQHsr9oxuA/syAYMBZA3D9Kx8XmHcbWP1L1ZUiZfdI/1RbHFrxHzj8+wKRChp/IP4bRg+3tt8M/DWWP7Qjpvj8mHJuZcJq3Px7TsmzokbE/dKS5acH4qT/X8l1ZiF+aP20MidUJ6m+/Aa5Kc0Igl7+vyAjYqRqUvxdkm7lfvGm/yYx0nYbjfj/RWCa8N5iRP7ZFGI0c7Jo/MfFy0cPioT+TnFhPyROmP11VD/uxB6o/wfJNvsy8rT9qw2vbU5mwPx7NvhbnNLI/m4ezJSKxsz8Wb4rlmw+1P7WZY6mQU7Y/tFNpR05/tz8ZkC805pS4P1PEwVyNl7k/OAysBAeLuj9Msw6BAnO7P9GqXMkKVbw/EOO55444vT8p+UP5oyS+P3hNQPrDIr8/1++R5vITwD/wUfuEHnfAP+7YnSjoesA/UYxFNgQFwD9dPxYFbpu+P++0kNuKWL0/vI7+uHm6vD9Z5VuCANe8P9Vnvc48b70/PGtUM61Fvj8IBu8vq0W/P5Q/rdzqPcA/QEQwLzwGwT8tFOENBirCP8sMwKuKlcQ/\",\"dtype\":\"float64\",\"shape\":[75]},\"y\":{\"__ndarray__\":\"GhExyth1ND/Sv8nbtpRIP2vylNV0PVE/aTum7souWD/At0SJ8fVgPw3Iuahxymc/MSNhhJWvcD/bTfBN02d3P2zb5nxnaoA/CD5h5MAGhz8NmeH1TyaQP+zrCsc9p5Y/LbKd76fGnz/bLW5ISEmmPww9YvTcQq8/JV2OstnstT8Er5Y7M8G+P0c+r3jqkcU/5h99k6ZBzj88bCIzFzjVP4enV8oyxN0//yH99nXg5D8qOpLLf0jtP5kqGJXUifQ/c9cS8kHP/D+/DpwzojQEQIEmwoanVwxA4lgXt9HgE0BSSZ2AJuIbQAMJih9jjiNA5q4l5INuK0AwTKYKRj0zQNv5fmq8/DpAaCJseHrtQkB/+zpwzoxKQM3MzMzMeFJAZmZmZmZqWEAAAAAAAFxeQM3MzMzMJmJAmpmZmZkfZUBmZmZmZhhoQDMzMzMzEWtAAAAAAAAKbkBmZmZmZoFwQM3MzMzM/XFAMzMzMzN6c0CamZmZmfZ0QAAAAAAAc3ZAZmZmZmbvd0DNzMzMzGt5QDMzMzMz6HpAmpmZmZlkfEAAAAAAAOF9QGZmZmZmXX9AZmZmZuZsgECamZmZGSuBQM3MzMxM6YFAAAAAAICngkAzMzMzs2WDQGZmZmbmI4RAmpmZmRnihEDNzMzMTKCFQAAAAACAXoZAMzMzM7Mch0BmZmZm5tqHQJqZmZkZmYhAzczMzExXiUAAAAAAgBWKQDMzMzOz04pAZmZmZuaRi0CamZmZGVCMQM3MzMxMDo1AAAAAAIDMjUAzMzMzs4qOQGZmZmbmSI9A\",\"dtype\":\"float64\",\"shape\":[75]}},\"selected\":{\"id\":\"b7b20e96-7d81-4091-9226-a775cdfe86d2\",\"type\":\"Selection\"},\"selection_policy\":{\"id\":\"9bd44216-f607-45f0-89a1-3adb6aebcca0\",\"type\":\"UnionRenderers\"}},\"id\":\"92a99bf6-e0f9-442c-91c6-ca049e91bced\",\"type\":\"ColumnDataSource\"},{\"attributes\":{\"source\":{\"id\":\"fd34dabb-d3ad-4a73-a2f8-f1d2066b500c\",\"type\":\"ColumnDataSource\"}},\"id\":\"6b190b01-a193-46a4-ac3f-8b72cfbe76c1\",\"type\":\"CDSView\"},{\"attributes\":{\"data_source\":{\"id\":\"abb2cecd-de94-4623-b5f4-d8149e23b6d0\",\"type\":\"ColumnDataSource\"},\"glyph\":{\"id\":\"45ed3a53-237c-4dfc-b220-c3dd91249635\",\"type\":\"Line\"},\"hover_glyph\":null,\"muted_glyph\":null,\"nonselection_glyph\":{\"id\":\"3a55ad38-bd99-4f90-9a49-2b1f94838406\",\"type\":\"Line\"},\"selection_glyph\":null,\"view\":{\"id\":\"65970113-6a43-4fa6-9fcb-e84c67461b25\",\"type\":\"CDSView\"}},\"id\":\"47eac09e-0760-4035-96e8-25ff3b5f922d\",\"type\":\"GlyphRenderer\"},{\"attributes\":{\"data_source\":{\"id\":\"3d248584-54eb-47a5-bd37-842769610649\",\"type\":\"ColumnDataSource\"},\"glyph\":{\"id\":\"df64bb91-81db-43cf-953c-bf9556527ed3\",\"type\":\"Circle\"},\"hover_glyph\":null,\"muted_glyph\":null,\"nonselection_glyph\":{\"id\":\"c1bc30f5-84aa-42ef-85db-60706596b53d\",\"type\":\"Circle\"},\"selection_glyph\":null,\"view\":{\"id\":\"02501dbf-e486-44f3-8f86-1a323ec1db49\",\"type\":\"CDSView\"}},\"id\":\"75c45284-feac-40d7-89de-b65ccba18043\",\"type\":\"GlyphRenderer\"},{\"attributes\":{\"fill_alpha\":{\"value\":0.1},\"fill_color\":{\"value\":\"#1f77b4\"},\"line_alpha\":{\"value\":0.1},\"line_color\":{\"value\":\"#1f77b4\"},\"x\":{\"field\":\"x\"},\"y\":{\"field\":\"y\"}},\"id\":\"d6535efa-63a4-4ebe-82db-b54e4faebb5c\",\"type\":\"Circle\"},{\"attributes\":{\"source\":{\"id\":\"4f56d678-a3f1-4f95-b7c7-650a46bc98f0\",\"type\":\"ColumnDataSource\"}},\"id\":\"b8f0d147-0959-4bc5-8867-9b1f7069a372\",\"type\":\"CDSView\"},{\"attributes\":{\"source\":{\"id\":\"3d248584-54eb-47a5-bd37-842769610649\",\"type\":\"ColumnDataSource\"}},\"id\":\"02501dbf-e486-44f3-8f86-1a323ec1db49\",\"type\":\"CDSView\"},{\"attributes\":{\"overlay\":{\"id\":\"924ce831-1824-4bd1-8cab-62a5f1246e3b\",\"type\":\"BoxAnnotation\"}},\"id\":\"c238b31b-b33d-47c6-ad65-b852bcdf9834\",\"type\":\"BoxZoomTool\"},{\"attributes\":{\"source\":{\"id\":\"abb2cecd-de94-4623-b5f4-d8149e23b6d0\",\"type\":\"ColumnDataSource\"}},\"id\":\"65970113-6a43-4fa6-9fcb-e84c67461b25\",\"type\":\"CDSView\"},{\"attributes\":{},\"id\":\"4b4fddd9-7727-4f3e-a3c6-f73942160f9f\",\"type\":\"SaveTool\"},{\"attributes\":{\"line_alpha\":0.1,\"line_color\":\"#1f77b4\",\"line_width\":1.5,\"x\":{\"field\":\"x\"},\"y\":{\"field\":\"y\"}},\"id\":\"b8d7274f-2cb6-4cc2-aa6c-be54cabf4917\",\"type\":\"Line\"},{\"attributes\":{},\"id\":\"e888c7d7-7dc4-4084-a231-c1394b0d3676\",\"type\":\"BasicTickFormatter\"},{\"attributes\":{},\"id\":\"fdc441e7-b7de-4ec6-9b5e-55f07dd04978\",\"type\":\"WheelZoomTool\"},{\"attributes\":{\"data_source\":{\"id\":\"aa6a62aa-0bd9-4414-96e0-e3d4b9baf8b2\",\"type\":\"ColumnDataSource\"},\"glyph\":{\"id\":\"0be0b5c8-8052-46b9-958a-2c65cc1cb755\",\"type\":\"Line\"},\"hover_glyph\":null,\"muted_glyph\":null,\"nonselection_glyph\":{\"id\":\"b8d7274f-2cb6-4cc2-aa6c-be54cabf4917\",\"type\":\"Line\"},\"selection_glyph\":null,\"view\":{\"id\":\"75dc270a-7690-4925-9ac9-31069969306d\",\"type\":\"CDSView\"}},\"id\":\"4723e7c1-214c-4b50-ae56-fdd5c0a8a9bd\",\"type\":\"GlyphRenderer\"},{\"attributes\":{\"source\":{\"id\":\"aa6a62aa-0bd9-4414-96e0-e3d4b9baf8b2\",\"type\":\"ColumnDataSource\"}},\"id\":\"75dc270a-7690-4925-9ac9-31069969306d\",\"type\":\"CDSView\"},{\"attributes\":{\"callback\":null,\"data\":{\"x\":{\"__ndarray__\":\"diGPdMOd1T/+lINadMTVP609/a6Jn9Y/2Gj0t8Zr1z+ah2Zv5iDYP3AFNOZps9g/GhwdLpsa2T+49ATZ80XZPxCPNCkEIdk/ULah2/ST2D8KQT+MpHvXP1XOr+wdwtU/REIE3yox0z+1jp3TPLzPPwf9UeW/sc0//mEnOMac0T/E160ROMnUP/8T3JgBV9Y/ybsmdknz1j/OiVHhlT7YP+elXIV/htw/Dvyoshdq4j/mcD00MjPjP95GfqUIu+A/HgHpDUF+3D8HSZvuVkLXP4SQ2tbYc9M/k7f4mjyz0D+sCahE7XLMP3diwNKpSsc/9LrPDhAKwj84xwzi0oS6P4i3+6987LI/kY6dH4/sqz/X90nh7uaeP77x/OboxUO/MUUUUz8Alr+5Xr5dcUySv2sbr+Q7hUw/3OdAC+5Gij8o8XzWS8SXP+xNimU2eKA/KhqDtTtmpD+aGEJFlcinPyQHMyrxxao/9TtbLNV/rT/1hVBkNwewPxRc2uo4QrE/hw1GN8t1sj/NC2E9eaSzPyOQnhyd0LQ/v1TFXxf7tT/eaYfO7CG3P5DWOyRnQbg/QPNx0lhbuT+txI/CVG+6P9+BSZsIf7s/rOgPvVGNvD/llgX3nKG9P9PUZaTAwb4/QH0N72Pmvz/XHKoDimXAP5DyYvmneMA/JerwELYUwD/w7oAVWuG+PxzYSvGTwb0/PgXsBYY7vT92vWvYL2O9P0BO3TAV/b0/mngbpX/Nvj+K0pgIuMK/P038aoT2c8A/Qu5RQ/ovwT+NUCTCfELCPw5wkpuujsQ/\",\"dtype\":\"float64\",\"shape\":[75]},\"y\":{\"__ndarray__\":\"GhExyth1ND/Sv8nbtpRIP2vylNV0PVE/aTum7souWD/At0SJ8fVgPw3Iuahxymc/MSNhhJWvcD/bTfBN02d3P2zb5nxnaoA/CD5h5MAGhz8NmeH1TyaQP+zrCsc9p5Y/LbKd76fGnz/bLW5ISEmmPww9YvTcQq8/JV2OstnstT8Er5Y7M8G+P0c+r3jqkcU/5h99k6ZBzj88bCIzFzjVP4enV8oyxN0//yH99nXg5D8qOpLLf0jtP5kqGJXUifQ/c9cS8kHP/D+/DpwzojQEQIEmwoanVwxA4lgXt9HgE0BSSZ2AJuIbQAMJih9jjiNA5q4l5INuK0AwTKYKRj0zQNv5fmq8/DpAaCJseHrtQkB/+zpwzoxKQM3MzMzMeFJAZmZmZmZqWEAAAAAAAFxeQM3MzMzMJmJAmpmZmZkfZUBmZmZmZhhoQDMzMzMzEWtAAAAAAAAKbkBmZmZmZoFwQM3MzMzM/XFAMzMzMzN6c0CamZmZmfZ0QAAAAAAAc3ZAZmZmZmbvd0DNzMzMzGt5QDMzMzMz6HpAmpmZmZlkfEAAAAAAAOF9QGZmZmZmXX9AZmZmZuZsgECamZmZGSuBQM3MzMxM6YFAAAAAAICngkAzMzMzs2WDQGZmZmbmI4RAmpmZmRnihEDNzMzMTKCFQAAAAACAXoZAMzMzM7Mch0BmZmZm5tqHQJqZmZkZmYhAzczMzExXiUAAAAAAgBWKQDMzMzOz04pAZmZmZuaRi0CamZmZGVCMQM3MzMxMDo1AAAAAAIDMjUAzMzMzs4qOQGZmZmbmSI9A\",\"dtype\":\"float64\",\"shape\":[75]}},\"selected\":{\"id\":\"76bc8176-1829-4a3a-8f5b-62b978064ee5\",\"type\":\"Selection\"},\"selection_policy\":{\"id\":\"5d8b8ead-4a0d-47ed-9d7f-afd02d566cfc\",\"type\":\"UnionRenderers\"}},\"id\":\"f076f055-753e-4ebe-a30a-56e688c6c69b\",\"type\":\"ColumnDataSource\"},{\"attributes\":{\"line_alpha\":0.6,\"line_color\":\"#984ea3\",\"line_width\":3,\"x\":{\"field\":\"x\"},\"y\":{\"field\":\"y\"}},\"id\":\"c86e65b7-c6f0-4e02-a734-ada98bbbd42a\",\"type\":\"Line\"},{\"attributes\":{\"line_alpha\":0.6,\"line_color\":\"#984ea3\",\"line_width\":3,\"x\":{\"field\":\"x\"},\"y\":{\"field\":\"y\"}},\"id\":\"ff37bfb7-d173-4ce0-b45a-9451b7d1fac2\",\"type\":\"Line\"},{\"attributes\":{\"data_source\":{\"id\":\"f076f055-753e-4ebe-a30a-56e688c6c69b\",\"type\":\"ColumnDataSource\"},\"glyph\":{\"id\":\"ff37bfb7-d173-4ce0-b45a-9451b7d1fac2\",\"type\":\"Line\"},\"hover_glyph\":null,\"muted_glyph\":null,\"nonselection_glyph\":{\"id\":\"6936a59f-1bfc-409c-91ee-801841427611\",\"type\":\"Line\"},\"selection_glyph\":null,\"view\":{\"id\":\"d37f4c1b-23d9-4f94-b25a-8b7244b76e67\",\"type\":\"CDSView\"}},\"id\":\"1f8ce4fc-6143-4a14-9c09-a169d7668dd2\",\"type\":\"GlyphRenderer\"},{\"attributes\":{\"callback\":null,\"data\":{\"x\":{\"__ndarray__\":\"diGPdMOd1T/+lINadMTVP609/a6Jn9Y/2Gj0t8Zr1z+ah2Zv5iDYP3AFNOZps9g/GhwdLpsa2T+49ATZ80XZPxCPNCkEIdk/ULah2/ST2D8KQT+MpHvXP1XOr+wdwtU/REIE3yox0z+1jp3TPLzPPwf9UeW/sc0//mEnOMac0T/E160ROMnUP/8T3JgBV9Y/ybsmdknz1j/OiVHhlT7YP+elXIV/htw/Dvyoshdq4j/mcD00MjPjP95GfqUIu+A/HgHpDUF+3D8HSZvuVkLXP4SQ2tbYc9M/k7f4mjyz0D+sCahE7XLMP3diwNKpSsc/9LrPDhAKwj84xwzi0oS6P4i3+6987LI/kY6dH4/sqz/X90nh7uaeP77x/OboxUO/MUUUUz8Alr+5Xr5dcUySv2sbr+Q7hUw/3OdAC+5Gij8o8XzWS8SXP+xNimU2eKA/KhqDtTtmpD+aGEJFlcinPyQHMyrxxao/9TtbLNV/rT/1hVBkNwewPxRc2uo4QrE/hw1GN8t1sj/NC2E9eaSzPyOQnhyd0LQ/v1TFXxf7tT/eaYfO7CG3P5DWOyRnQbg/QPNx0lhbuT+txI/CVG+6P9+BSZsIf7s/rOgPvVGNvD/llgX3nKG9P9PUZaTAwb4/QH0N72Pmvz/XHKoDimXAP5DyYvmneMA/JerwELYUwD/w7oAVWuG+PxzYSvGTwb0/PgXsBYY7vT92vWvYL2O9P0BO3TAV/b0/mngbpX/Nvj+K0pgIuMK/P038aoT2c8A/Qu5RQ/ovwT+NUCTCfELCPw5wkpuujsQ/\",\"dtype\":\"float64\",\"shape\":[75]},\"y\":{\"__ndarray__\":\"GhExyth1ND/Sv8nbtpRIP2vylNV0PVE/aTum7souWD/At0SJ8fVgPw3Iuahxymc/MSNhhJWvcD/bTfBN02d3P2zb5nxnaoA/CD5h5MAGhz8NmeH1TyaQP+zrCsc9p5Y/LbKd76fGnz/bLW5ISEmmPww9YvTcQq8/JV2OstnstT8Er5Y7M8G+P0c+r3jqkcU/5h99k6ZBzj88bCIzFzjVP4enV8oyxN0//yH99nXg5D8qOpLLf0jtP5kqGJXUifQ/c9cS8kHP/D+/DpwzojQEQIEmwoanVwxA4lgXt9HgE0BSSZ2AJuIbQAMJih9jjiNA5q4l5INuK0AwTKYKRj0zQNv5fmq8/DpAaCJseHrtQkB/+zpwzoxKQM3MzMzMeFJAZmZmZmZqWEAAAAAAAFxeQM3MzMzMJmJAmpmZmZkfZUBmZmZmZhhoQDMzMzMzEWtAAAAAAAAKbkBmZmZmZoFwQM3MzMzM/XFAMzMzMzN6c0CamZmZmfZ0QAAAAAAAc3ZAZmZmZmbvd0DNzMzMzGt5QDMzMzMz6HpAmpmZmZlkfEAAAAAAAOF9QGZmZmZmXX9AZmZmZuZsgECamZmZGSuBQM3MzMxM6YFAAAAAAICngkAzMzMzs2WDQGZmZmbmI4RAmpmZmRnihEDNzMzMTKCFQAAAAACAXoZAMzMzM7Mch0BmZmZm5tqHQJqZmZkZmYhAzczMzExXiUAAAAAAgBWKQDMzMzOz04pAZmZmZuaRi0CamZmZGVCMQM3MzMxMDo1AAAAAAIDMjUAzMzMzs4qOQGZmZmbmSI9A\",\"dtype\":\"float64\",\"shape\":[75]}},\"selected\":{\"id\":\"6e311273-92dd-48cd-b08f-4cd1edfa2666\",\"type\":\"Selection\"},\"selection_policy\":{\"id\":\"a597bfd4-8527-4d95-8499-e2d2cf393517\",\"type\":\"UnionRenderers\"}},\"id\":\"03249e9b-c5ca-49f1-b56a-8f6040e718e5\",\"type\":\"ColumnDataSource\"},{\"attributes\":{\"source\":{\"id\":\"f076f055-753e-4ebe-a30a-56e688c6c69b\",\"type\":\"ColumnDataSource\"}},\"id\":\"d37f4c1b-23d9-4f94-b25a-8b7244b76e67\",\"type\":\"CDSView\"},{\"attributes\":{},\"id\":\"b7b20e96-7d81-4091-9226-a775cdfe86d2\",\"type\":\"Selection\"},{\"attributes\":{\"children\":[{\"id\":\"d7f4810b-5afe-447c-a596-aafaca001b8e\",\"subtype\":\"Figure\",\"type\":\"Plot\"},{\"id\":\"3a8434e5-39b3-4c8f-b315-95ef86752804\",\"subtype\":\"Figure\",\"type\":\"Plot\"}]},\"id\":\"b5dbba8b-ed9a-4508-beca-fe2b6a997399\",\"type\":\"Row\"},{\"attributes\":{\"data_source\":{\"id\":\"4f56d678-a3f1-4f95-b7c7-650a46bc98f0\",\"type\":\"ColumnDataSource\"},\"glyph\":{\"id\":\"87a0a60c-67bf-4dcc-81ac-edeef9649047\",\"type\":\"Line\"},\"hover_glyph\":null,\"muted_glyph\":null,\"nonselection_glyph\":{\"id\":\"e601e867-431d-486d-a7ea-1bcfe0b6f958\",\"type\":\"Line\"},\"selection_glyph\":null,\"view\":{\"id\":\"b8f0d147-0959-4bc5-8867-9b1f7069a372\",\"type\":\"CDSView\"}},\"id\":\"3b026430-5a26-4a21-b138-3803cd1075f2\",\"type\":\"GlyphRenderer\"},{\"attributes\":{\"label\":{\"value\":\"CLIRAD `coolr_bands`\"},\"renderers\":[{\"id\":\"47eac09e-0760-4035-96e8-25ff3b5f922d\",\"type\":\"GlyphRenderer\"}]},\"id\":\"b739c172-c5f4-4718-acbb-01d40a0a22e9\",\"type\":\"LegendItem\"},{\"attributes\":{\"fill_alpha\":{\"value\":0.7},\"fill_color\":{\"value\":\"#984ea3\"},\"line_alpha\":{\"value\":0.7},\"line_color\":{\"value\":\"#984ea3\"},\"x\":{\"field\":\"x\"},\"y\":{\"field\":\"y\"}},\"id\":\"45ef7089-6e6d-41b3-a1d9-bc6869f697b4\",\"type\":\"Square\"},{\"attributes\":{},\"id\":\"37093bf6-8d58-4f01-8ee9-a3397b57c6b4\",\"type\":\"Selection\"},{\"attributes\":{\"label\":{\"value\":\"CRD\"},\"renderers\":[{\"id\":\"75c45284-feac-40d7-89de-b65ccba18043\",\"type\":\"GlyphRenderer\"},{\"id\":\"4723e7c1-214c-4b50-ae56-fdd5c0a8a9bd\",\"type\":\"GlyphRenderer\"}]},\"id\":\"3c53931c-4419-46d8-8904-8fa2d91d9243\",\"type\":\"LegendItem\"},{\"attributes\":{},\"id\":\"5411bff2-3814-4f01-9a84-188ff42600af\",\"type\":\"UnionRenderers\"},{\"attributes\":{\"below\":[{\"id\":\"87da831d-0cfe-48ed-ae3a-db302814b301\",\"type\":\"LinearAxis\"}],\"left\":[{\"id\":\"f073e9cc-03b4-4e1b-b4f7-a2d30deafac7\",\"type\":\"LinearAxis\"}],\"plot_height\":500,\"plot_width\":400,\"renderers\":[{\"id\":\"87da831d-0cfe-48ed-ae3a-db302814b301\",\"type\":\"LinearAxis\"},{\"id\":\"80de2fc6-d901-44f9-b912-c84ee79a299a\",\"type\":\"Grid\"},{\"id\":\"f073e9cc-03b4-4e1b-b4f7-a2d30deafac7\",\"type\":\"LinearAxis\"},{\"id\":\"d0255e03-3f15-4982-a0a2-bb8f46fd408e\",\"type\":\"Grid\"},{\"id\":\"924ce831-1824-4bd1-8cab-62a5f1246e3b\",\"type\":\"BoxAnnotation\"},{\"id\":\"5df38d97-12c6-4ab6-b31c-3fb446ded4b4\",\"type\":\"GlyphRenderer\"},{\"id\":\"dc0b9f34-c39e-4876-b078-8a574a9f6672\",\"type\":\"GlyphRenderer\"},{\"id\":\"3b026430-5a26-4a21-b138-3803cd1075f2\",\"type\":\"GlyphRenderer\"},{\"id\":\"258272ef-094b-4dad-9cf4-f7a91c3c3a7a\",\"type\":\"GlyphRenderer\"},{\"id\":\"d0fc633a-3067-4ae0-8909-3ab38b49e1e9\",\"type\":\"GlyphRenderer\"}],\"title\":{\"id\":\"97fa1a88-ea89-4af2-a9f8-6a25c0a9c084\",\"type\":\"Title\"},\"toolbar\":{\"id\":\"7bb8924a-b28e-4a05-8030-03e8aa0b12f9\",\"type\":\"Toolbar\"},\"toolbar_location\":null,\"x_range\":{\"id\":\"13276b6f-8c5f-46a7-9675-1bbf8241558e\",\"type\":\"Range1d\"},\"x_scale\":{\"id\":\"b5b67c0c-f411-4c18-a3f9-10f7df0dafeb\",\"type\":\"LinearScale\"},\"y_range\":{\"id\":\"9583c724-d5c0-4abd-a7cc-789df37a2b43\",\"type\":\"Range1d\"},\"y_scale\":{\"id\":\"89e88cbf-bbb9-4212-96a6-538a3403a7ec\",\"type\":\"LinearScale\"}},\"id\":\"d7f4810b-5afe-447c-a596-aafaca001b8e\",\"subtype\":\"Figure\",\"type\":\"Plot\"},{\"attributes\":{\"label\":{\"value\":\"WGT igg=10 wgt_flux=2\"},\"renderers\":[{\"id\":\"39b7f6bf-2544-47d5-a87e-604a192729a2\",\"type\":\"GlyphRenderer\"},{\"id\":\"1f8ce4fc-6143-4a14-9c09-a169d7668dd2\",\"type\":\"GlyphRenderer\"}]},\"id\":\"d456c88f-75e0-4c1b-b51f-0fc9ce4c4182\",\"type\":\"LegendItem\"},{\"attributes\":{\"ticker\":null},\"id\":\"726e778c-723a-4f76-b6c6-cbf45fa82800\",\"type\":\"LogTickFormatter\"},{\"attributes\":{\"line_alpha\":0.1,\"line_color\":\"#1f77b4\",\"line_width\":1.5,\"x\":{\"field\":\"x\"},\"y\":{\"field\":\"y\"}},\"id\":\"e601e867-431d-486d-a7ea-1bcfe0b6f958\",\"type\":\"Line\"},{\"attributes\":{},\"id\":\"c1c3ce89-5cfc-49bb-95dd-3b83684bb004\",\"type\":\"Selection\"},{\"attributes\":{\"children\":[{\"id\":\"b5dbba8b-ed9a-4508-beca-fe2b6a997399\",\"type\":\"Row\"}]},\"id\":\"f2c126c7-a36e-4a0c-b0ec-3a2d4297cbaa\",\"type\":\"Column\"},{\"attributes\":{},\"id\":\"9bd44216-f607-45f0-89a1-3adb6aebcca0\",\"type\":\"UnionRenderers\"},{\"attributes\":{},\"id\":\"0244daf8-48d4-44db-aa64-bad4a6ebdf57\",\"type\":\"UnionRenderers\"},{\"attributes\":{},\"id\":\"6e311273-92dd-48cd-b08f-4cd1edfa2666\",\"type\":\"Selection\"},{\"attributes\":{},\"id\":\"a597bfd4-8527-4d95-8499-e2d2cf393517\",\"type\":\"UnionRenderers\"},{\"attributes\":{},\"id\":\"489143fc-91a8-4d13-8dcd-62ebba1bb851\",\"type\":\"Selection\"},{\"attributes\":{\"fill_alpha\":{\"value\":0.7},\"fill_color\":{\"value\":\"#4daf4a\"},\"line_alpha\":{\"value\":0.7},\"line_color\":{\"value\":\"#4daf4a\"},\"x\":{\"field\":\"x\"},\"y\":{\"field\":\"y\"}},\"id\":\"e447d020-9201-4bcc-ba50-958401ef7d7b\",\"type\":\"Circle\"},{\"attributes\":{},\"id\":\"6ad755f5-10e6-4873-a726-c2a235223947\",\"type\":\"UnionRenderers\"},{\"attributes\":{},\"id\":\"89e88cbf-bbb9-4212-96a6-538a3403a7ec\",\"type\":\"LinearScale\"},{\"attributes\":{},\"id\":\"9a221fe0-64ec-49af-81ef-11e4f2f88045\",\"type\":\"Selection\"},{\"attributes\":{},\"id\":\"b5b67c0c-f411-4c18-a3f9-10f7df0dafeb\",\"type\":\"LinearScale\"},{\"attributes\":{},\"id\":\"8906bfe5-8cf4-4d4a-ae32-51301b683c84\",\"type\":\"UnionRenderers\"},{\"attributes\":{},\"id\":\"a19c1074-8504-46b8-a072-0ed46967c9f9\",\"type\":\"BasicTickFormatter\"},{\"attributes\":{\"callback\":null,\"end\":0.16402897317999998,\"start\":-0.024431651179999996},\"id\":\"13276b6f-8c5f-46a7-9675-1bbf8241558e\",\"type\":\"Range1d\"},{\"attributes\":{},\"id\":\"c72fe2fe-ffa7-4b07-968c-c4653c966a69\",\"type\":\"Selection\"},{\"attributes\":{\"toolbar\":{\"id\":\"c1527f0e-ee36-4514-9961-5939a22def1f\",\"type\":\"ProxyToolbar\"},\"toolbar_location\":\"above\"},\"id\":\"b2d101d4-9fbd-47d7-bdc5-ce23c8b2e2a3\",\"type\":\"ToolbarBox\"},{\"attributes\":{},\"id\":\"144e8930-46a3-40b2-af22-434b8b9ab102\",\"type\":\"LogScale\"},{\"attributes\":{},\"id\":\"c9807b20-9458-4dc6-93ab-827136eeb8d8\",\"type\":\"UnionRenderers\"},{\"attributes\":{\"active_drag\":\"auto\",\"active_inspect\":\"auto\",\"active_scroll\":\"auto\",\"active_tap\":\"auto\",\"tools\":[{\"id\":\"669093dc-cde6-43c8-8d91-7321c719391a\",\"type\":\"PanTool\"},{\"id\":\"5d88eebc-99a2-4604-a9fa-e95015508d12\",\"type\":\"WheelZoomTool\"},{\"id\":\"9b3de43f-bf27-46a6-b118-3292dfd7928a\",\"type\":\"BoxZoomTool\"},{\"id\":\"7e01ddca-0373-40fe-8ee6-b44aaca56b4b\",\"type\":\"SaveTool\"},{\"id\":\"2a0c390b-bf16-4868-b000-ebccdbf837af\",\"type\":\"ResetTool\"},{\"id\":\"9ff4a59d-f33d-4f0f-a7ed-e2a9f497713e\",\"type\":\"HelpTool\"}]},\"id\":\"1f969911-f04d-4881-bfad-ab02203e1c94\",\"type\":\"Toolbar\"},{\"attributes\":{},\"id\":\"b390f023-fe43-4353-93b8-e20568640cce\",\"type\":\"Selection\"},{\"attributes\":{},\"id\":\"881673e0-3f65-4682-8ca9-81814f611c63\",\"type\":\"UnionRenderers\"},{\"attributes\":{\"fill_alpha\":{\"value\":0.1},\"fill_color\":{\"value\":\"#1f77b4\"},\"line_alpha\":{\"value\":0.1},\"line_color\":{\"value\":\"#1f77b4\"},\"x\":{\"field\":\"x\"},\"y\":{\"field\":\"y\"}},\"id\":\"cfc27687-6fa1-433d-b01b-d9fdf120443d\",\"type\":\"Square\"},{\"attributes\":{},\"id\":\"76bc8176-1829-4a3a-8f5b-62b978064ee5\",\"type\":\"Selection\"},{\"attributes\":{\"bottom_units\":\"screen\",\"fill_alpha\":{\"value\":0.5},\"fill_color\":{\"value\":\"lightgrey\"},\"left_units\":\"screen\",\"level\":\"overlay\",\"line_alpha\":{\"value\":1.0},\"line_color\":{\"value\":\"black\"},\"line_dash\":[4,4],\"line_width\":{\"value\":2},\"plot\":null,\"render_mode\":\"css\",\"right_units\":\"screen\",\"top_units\":\"screen\"},\"id\":\"ffc6c971-f85d-45c0-8858-8dd71fc9f78f\",\"type\":\"BoxAnnotation\"},{\"attributes\":{},\"id\":\"5d8b8ead-4a0d-47ed-9d7f-afd02d566cfc\",\"type\":\"UnionRenderers\"},{\"attributes\":{},\"id\":\"591b74d7-77d6-4c42-9ee0-05c23f0e8a0c\",\"type\":\"Selection\"},{\"attributes\":{\"line_alpha\":0.1,\"line_color\":\"#1f77b4\",\"line_dash\":[6],\"line_width\":5,\"x\":{\"field\":\"x\"},\"y\":{\"field\":\"y\"}},\"id\":\"57a71776-8741-42e1-9cab-b0b50910f5f2\",\"type\":\"Line\"},{\"attributes\":{},\"id\":\"c9e877c8-c467-4f0c-b4cd-6bf0e0bac4d5\",\"type\":\"UnionRenderers\"},{\"attributes\":{\"children\":[{\"id\":\"b2d101d4-9fbd-47d7-bdc5-ce23c8b2e2a3\",\"type\":\"ToolbarBox\"},{\"id\":\"f2c126c7-a36e-4a0c-b0ec-3a2d4297cbaa\",\"type\":\"Column\"}]},\"id\":\"4a53ade2-02d2-4171-9077-d1f53133a68a\",\"type\":\"Column\"},{\"attributes\":{},\"id\":\"6735099c-6d7a-465f-bca1-f0bf90303f41\",\"type\":\"BasicTickFormatter\"},{\"attributes\":{\"tools\":[{\"id\":\"5ce91f28-093c-4f26-9664-88326c47eb84\",\"type\":\"PanTool\"},{\"id\":\"fdc441e7-b7de-4ec6-9b5e-55f07dd04978\",\"type\":\"WheelZoomTool\"},{\"id\":\"c238b31b-b33d-47c6-ad65-b852bcdf9834\",\"type\":\"BoxZoomTool\"},{\"id\":\"4b4fddd9-7727-4f3e-a3c6-f73942160f9f\",\"type\":\"SaveTool\"},{\"id\":\"325e77f7-1ab8-48c2-b82d-14a5a57ec6a2\",\"type\":\"ResetTool\"},{\"id\":\"32d9b90a-b3ca-4fa0-9e8d-d7e172a41582\",\"type\":\"HelpTool\"},{\"id\":\"669093dc-cde6-43c8-8d91-7321c719391a\",\"type\":\"PanTool\"},{\"id\":\"5d88eebc-99a2-4604-a9fa-e95015508d12\",\"type\":\"WheelZoomTool\"},{\"id\":\"9b3de43f-bf27-46a6-b118-3292dfd7928a\",\"type\":\"BoxZoomTool\"},{\"id\":\"7e01ddca-0373-40fe-8ee6-b44aaca56b4b\",\"type\":\"SaveTool\"},{\"id\":\"2a0c390b-bf16-4868-b000-ebccdbf837af\",\"type\":\"ResetTool\"},{\"id\":\"9ff4a59d-f33d-4f0f-a7ed-e2a9f497713e\",\"type\":\"HelpTool\"}]},\"id\":\"c1527f0e-ee36-4514-9961-5939a22def1f\",\"type\":\"ProxyToolbar\"},{\"attributes\":{\"data_source\":{\"id\":\"fd34dabb-d3ad-4a73-a2f8-f1d2066b500c\",\"type\":\"ColumnDataSource\"},\"glyph\":{\"id\":\"11b504d1-2253-45cf-8d95-bc5b267e6154\",\"type\":\"Line\"},\"hover_glyph\":null,\"muted_glyph\":null,\"nonselection_glyph\":{\"id\":\"57a71776-8741-42e1-9cab-b0b50910f5f2\",\"type\":\"Line\"},\"selection_glyph\":null,\"view\":{\"id\":\"6b190b01-a193-46a4-ac3f-8b72cfbe76c1\",\"type\":\"CDSView\"}},\"id\":\"5df38d97-12c6-4ab6-b31c-3fb446ded4b4\",\"type\":\"GlyphRenderer\"},{\"attributes\":{\"callback\":null,\"end\":0.01,\"start\":1020},\"id\":\"dbf7847e-e622-4d60-bf81-8fc17238b010\",\"type\":\"Range1d\"},{\"attributes\":{\"items\":[{\"id\":\"b739c172-c5f4-4718-acbb-01d40a0a22e9\",\"type\":\"LegendItem\"},{\"id\":\"3c53931c-4419-46d8-8904-8fa2d91d9243\",\"type\":\"LegendItem\"},{\"id\":\"d456c88f-75e0-4c1b-b51f-0fc9ce4c4182\",\"type\":\"LegendItem\"}],\"label_text_font_size\":{\"value\":\"8pt\"},\"location\":[10,-30],\"plot\":{\"id\":\"3a8434e5-39b3-4c8f-b315-95ef86752804\",\"subtype\":\"Figure\",\"type\":\"Plot\"}},\"id\":\"a90582be-3acd-495e-96eb-13b3b8cef4f8\",\"type\":\"Legend\"},{\"attributes\":{\"num_minor_ticks\":10},\"id\":\"13a8b23e-60be-4639-bc94-f43db9d6eb50\",\"type\":\"LogTicker\"},{\"attributes\":{},\"id\":\"8e566861-c9b5-49a9-9a7e-9343a5d29662\",\"type\":\"LinearScale\"},{\"attributes\":{\"callback\":null,\"end\":0.01,\"start\":1020},\"id\":\"9583c724-d5c0-4abd-a7cc-789df37a2b43\",\"type\":\"Range1d\"},{\"attributes\":{\"data_source\":{\"id\":\"03249e9b-c5ca-49f1-b56a-8f6040e718e5\",\"type\":\"ColumnDataSource\"},\"glyph\":{\"id\":\"c86e65b7-c6f0-4e02-a734-ada98bbbd42a\",\"type\":\"Line\"},\"hover_glyph\":null,\"muted_glyph\":null,\"nonselection_glyph\":{\"id\":\"18d03cf9-e2f7-4651-a7a7-5caec6852a08\",\"type\":\"Line\"},\"selection_glyph\":null,\"view\":{\"id\":\"8e23263a-9574-4146-b12f-37bc2c3789ef\",\"type\":\"CDSView\"}},\"id\":\"d0fc633a-3067-4ae0-8909-3ab38b49e1e9\",\"type\":\"GlyphRenderer\"},{\"attributes\":{},\"id\":\"6187c52d-f511-4bb9-8c99-2ce0faabfcbb\",\"type\":\"BasicTicker\"},{\"attributes\":{\"callback\":null,\"end\":0.6307361866800001,\"start\":-0.02905251468},\"id\":\"bdd39dcc-5c49-4c87-b015-0262e43c3e7a\",\"type\":\"Range1d\"},{\"attributes\":{\"plot\":{\"id\":\"3a8434e5-39b3-4c8f-b315-95ef86752804\",\"subtype\":\"Figure\",\"type\":\"Plot\"},\"ticker\":{\"id\":\"6187c52d-f511-4bb9-8c99-2ce0faabfcbb\",\"type\":\"BasicTicker\"}},\"id\":\"1a716ba5-fbd1-40f4-9662-1e18dddfea3f\",\"type\":\"Grid\"},{\"attributes\":{\"line_alpha\":0.1,\"line_color\":\"#1f77b4\",\"line_dash\":[6],\"line_width\":5,\"x\":{\"field\":\"x\"},\"y\":{\"field\":\"y\"}},\"id\":\"3a55ad38-bd99-4f90-9a49-2b1f94838406\",\"type\":\"Line\"},{\"attributes\":{},\"id\":\"2a0c390b-bf16-4868-b000-ebccdbf837af\",\"type\":\"ResetTool\"},{\"attributes\":{\"plot\":null,\"text\":\"Log pressure scale\"},\"id\":\"d559264b-e5b5-47d4-8e7c-b9ddd6e52abe\",\"type\":\"Title\"},{\"attributes\":{},\"id\":\"7e01ddca-0373-40fe-8ee6-b44aaca56b4b\",\"type\":\"SaveTool\"},{\"attributes\":{\"line_alpha\":0.6,\"line_color\":\"#e41a1c\",\"line_dash\":[6],\"line_width\":5,\"x\":{\"field\":\"x\"},\"y\":{\"field\":\"y\"}},\"id\":\"45ed3a53-237c-4dfc-b220-c3dd91249635\",\"type\":\"Line\"},{\"attributes\":{\"fill_alpha\":{\"value\":0.7},\"fill_color\":{\"value\":\"#984ea3\"},\"line_alpha\":{\"value\":0.7},\"line_color\":{\"value\":\"#984ea3\"},\"x\":{\"field\":\"x\"},\"y\":{\"field\":\"y\"}},\"id\":\"532a3791-a718-47db-ba0e-7b4b355c01c4\",\"type\":\"Square\"},{\"attributes\":{\"overlay\":{\"id\":\"ffc6c971-f85d-45c0-8858-8dd71fc9f78f\",\"type\":\"BoxAnnotation\"}},\"id\":\"9b3de43f-bf27-46a6-b118-3292dfd7928a\",\"type\":\"BoxZoomTool\"},{\"attributes\":{\"dimension\":1,\"plot\":{\"id\":\"3a8434e5-39b3-4c8f-b315-95ef86752804\",\"subtype\":\"Figure\",\"type\":\"Plot\"},\"ticker\":{\"id\":\"13a8b23e-60be-4639-bc94-f43db9d6eb50\",\"type\":\"LogTicker\"}},\"id\":\"b7eb58c8-702f-4a40-8426-ba79856f4837\",\"type\":\"Grid\"},{\"attributes\":{\"line_alpha\":0.6,\"line_color\":\"#e41a1c\",\"line_dash\":[6],\"line_width\":5,\"x\":{\"field\":\"x\"},\"y\":{\"field\":\"y\"}},\"id\":\"11b504d1-2253-45cf-8d95-bc5b267e6154\",\"type\":\"Line\"},{\"attributes\":{\"source\":{\"id\":\"03249e9b-c5ca-49f1-b56a-8f6040e718e5\",\"type\":\"ColumnDataSource\"}},\"id\":\"8e23263a-9574-4146-b12f-37bc2c3789ef\",\"type\":\"CDSView\"},{\"attributes\":{},\"id\":\"9ff4a59d-f33d-4f0f-a7ed-e2a9f497713e\",\"type\":\"HelpTool\"},{\"attributes\":{\"source\":{\"id\":\"417d34e3-a459-4140-a6f0-e3615d8ed9e3\",\"type\":\"ColumnDataSource\"}},\"id\":\"e24d78bf-012a-45d2-ad7f-ad52426a4bed\",\"type\":\"CDSView\"},{\"attributes\":{\"axis_label\":\"cooling rate [K/day]\",\"formatter\":{\"id\":\"a19c1074-8504-46b8-a072-0ed46967c9f9\",\"type\":\"BasicTickFormatter\"},\"plot\":{\"id\":\"3a8434e5-39b3-4c8f-b315-95ef86752804\",\"subtype\":\"Figure\",\"type\":\"Plot\"},\"ticker\":{\"id\":\"6187c52d-f511-4bb9-8c99-2ce0faabfcbb\",\"type\":\"BasicTicker\"}},\"id\":\"1af2b295-afb8-4d8a-9c9f-3aa22467b166\",\"type\":\"LinearAxis\"},{\"attributes\":{\"data_source\":{\"id\":\"417d34e3-a459-4140-a6f0-e3615d8ed9e3\",\"type\":\"ColumnDataSource\"},\"glyph\":{\"id\":\"532a3791-a718-47db-ba0e-7b4b355c01c4\",\"type\":\"Square\"},\"hover_glyph\":null,\"muted_glyph\":null,\"nonselection_glyph\":{\"id\":\"cfc27687-6fa1-433d-b01b-d9fdf120443d\",\"type\":\"Square\"},\"selection_glyph\":null,\"view\":{\"id\":\"e24d78bf-012a-45d2-ad7f-ad52426a4bed\",\"type\":\"CDSView\"}},\"id\":\"39b7f6bf-2544-47d5-a87e-604a192729a2\",\"type\":\"GlyphRenderer\"},{\"attributes\":{},\"id\":\"5d88eebc-99a2-4604-a9fa-e95015508d12\",\"type\":\"WheelZoomTool\"},{\"attributes\":{\"axis_label\":\"pressure [mb]\",\"formatter\":{\"id\":\"726e778c-723a-4f76-b6c6-cbf45fa82800\",\"type\":\"LogTickFormatter\"},\"plot\":{\"id\":\"3a8434e5-39b3-4c8f-b315-95ef86752804\",\"subtype\":\"Figure\",\"type\":\"Plot\"},\"ticker\":{\"id\":\"13a8b23e-60be-4639-bc94-f43db9d6eb50\",\"type\":\"LogTicker\"}},\"id\":\"15b9b306-1dee-434c-ae93-e78dff33ab36\",\"type\":\"LogAxis\"},{\"attributes\":{},\"id\":\"669093dc-cde6-43c8-8d91-7321c719391a\",\"type\":\"PanTool\"},{\"attributes\":{\"callback\":null,\"data\":{\"x\":{\"__ndarray__\":\"etz5dvnzzj803xwJj5HPP26mY0r7kdA/tkL907Ja0T/wCF14FB3SPy7Vuy6y09I/Q0MYord20z+Mk05mtPzTP60VK3KhVdQ/0Pm+8v9u1D+J0ZQZRizUP4//nxbFY9M/wjRn2IPk0T8V+LPt7mDPP2jFu0zi5s4/Vv6MPUGD0j9fRgyWRbzVP+9i7TGJ4dY/zk1hxpBz1j/dwdvFLKLWP4xQ6Myof9o/f8qlr++c4T8OUb/qTMriPwtKbqACmOA/mbPjKyZb3D8fHeyHtxLXP9XmYoACd9M/StgzW+Tk0D+0u3KDwhzNP50SEJNwocc/cXowjGj5wT8ignnhMbC5P4BKn5runLE/Cx71w0dFqT9s0McXFbqcPzYV1kN8ayW/F6fgRIIWlb+P7d1oxQySvxi9t3zxqDG/FkA9JQMahj8tANwYekWVP2jCsnY0Pp4/KDoedWzroj87HGzQ6CWmPxOjVrQTB6k/MA5hDhiqqz/Lt9EPCTCuPzzKvrRzXbA/KGM6fOumsT+Rq/iJevayP7V3X/g1ULQ/udO3e6KztT/ETAOIgBi3PwzHd1L0erg/p7Nys2jPuT+zZ+gCCx67P7EJvNVrYbw/YOB/TOeavT+0y1QU8c6+P7DDPTuFAcA/Ke70WjuXwD8Qihg8bQnBPzYb8YVFHME/Go+twsG5wD+k9LfKNBbAP2vwnRwuB78/uGRNE1N1vj+1KtN5nom+Pz6PF/PvCr8/3/Oqa0DGvz/+ddl1kFPAP34kX+iV28A/aO1T4RGNwT+kzEBE7pLCP7kHtoRbwsQ/\",\"dtype\":\"float64\",\"shape\":[75]},\"y\":{\"__ndarray__\":\"S/O/Q+51ND/Sv8nbtpRIP2vylNV0PVE/aTum7souWD/At0SJ8fVgPw3Iuahxymc/MSNhhJWvcD/bTfBN02d3P2zb5nxnaoA/CD5h5MAGhz8NmeH1TyaQP+zrCsc9p5Y/LbKd76fGnz/bLW5ISEmmPww9YvTcQq8/JV2OstnstT8Er5Y7M8G+P0c+r3jqkcU/5h99k6ZBzj88bCIzFzjVP4enV8oyxN0//yH99nXg5D8qOpLLf0jtP5kqGJXUifQ/c9cS8kHP/D+/DpwzojQEQIEmwoanVwxA4lgXt9HgE0BSSZ2AJuIbQAMJih9jjiNA5q4l5INuK0AwTKYKRj0zQNv5fmq8/DpAaCJseHrtQkB/+zpwzoxKQM3MzMzMeFJAZmZmZmZqWEAAAAAAAFxeQM3MzMzMJmJAmpmZmZkfZUBmZmZmZhhoQDMzMzMzEWtAAAAAAAAKbkBmZmZmZoFwQM3MzMzM/XFAMzMzMzN6c0CamZmZmfZ0QAAAAAAAc3ZAZmZmZmbvd0DNzMzMzGt5QDMzMzMz6HpAmpmZmZlkfEAAAAAAAOF9QGZmZmZmXX9AZmZmZuZsgECamZmZGSuBQM3MzMxM6YFAAAAAAICngkAzMzMzs2WDQGZmZmbmI4RAmpmZmRnihEDNzMzMTKCFQAAAAACAXoZAMzMzM7Mch0BmZmZm5tqHQJqZmZkZmYhAzczMzExXiUAAAAAAgBWKQDMzMzOz04pAZmZmZuaRi0CamZmZGVCMQM3MzMxMDo1AAAAAAIDMjUAzMzMzs4qOQGZmZmbmSI9A\",\"dtype\":\"float64\",\"shape\":[75]}},\"selected\":{\"id\":\"9a221fe0-64ec-49af-81ef-11e4f2f88045\",\"type\":\"Selection\"},\"selection_policy\":{\"id\":\"8906bfe5-8cf4-4d4a-ae32-51301b683c84\",\"type\":\"UnionRenderers\"}},\"id\":\"abb2cecd-de94-4623-b5f4-d8149e23b6d0\",\"type\":\"ColumnDataSource\"}],\"root_ids\":[\"4a53ade2-02d2-4171-9077-d1f53133a68a\"]},\"title\":\"Bokeh Application\",\"version\":\"0.12.16\"}};\n",
       "  var render_items = [{\"docid\":\"e4ae1ded-170f-4ba3-ada9-547dd88b73bb\",\"elementid\":\"b679c919-395b-4bea-a522-cd95323305b2\",\"modelid\":\"4a53ade2-02d2-4171-9077-d1f53133a68a\"}];\n",
       "  root.Bokeh.embed.embed_items_notebook(docs_json, render_items);\n",
       "\n",
       "  }\n",
       "  if (root.Bokeh !== undefined) {\n",
       "    embed_document(root);\n",
       "  } else {\n",
       "    var attempts = 0;\n",
       "    var timer = setInterval(function(root) {\n",
       "      if (root.Bokeh !== undefined) {\n",
       "        embed_document(root);\n",
       "        clearInterval(timer);\n",
       "      }\n",
       "      attempts++;\n",
       "      if (attempts > 100) {\n",
       "        console.log(\"Bokeh: ERROR: Unable to run BokehJS code because BokehJS library is missing\")\n",
       "        clearInterval(timer);\n",
       "      }\n",
       "    }, 10, root)\n",
       "  }\n",
       "})(window);"
      ],
      "application/vnd.bokehjs_exec.v0+json": ""
     },
     "metadata": {
      "application/vnd.bokehjs_exec.v0+json": {
       "id": "4a53ade2-02d2-4171-9077-d1f53133a68a"
      }
     },
     "output_type": "display_data"
    },
    {
     "name": "stdout",
     "output_type": "stream",
     "text": [
      "FIGURE. Cooling rate profiles.\n"
     ]
    },
    {
     "data": {
      "text/html": [
       "<a id=\"Flux_Comparison\"></a>"
      ],
      "text/plain": [
       "<IPython.core.display.HTML object>"
      ]
     },
     "metadata": {},
     "output_type": "display_data"
    },
    {
     "data": {
      "text/markdown": [
       "# Flux Comparison"
      ],
      "text/plain": [
       "<IPython.core.display.Markdown object>"
      ]
     },
     "metadata": {},
     "output_type": "display_data"
    },
    {
     "data": {
      "text/html": [
       "<div>\n",
       "<style scoped>\n",
       "    .dataframe tbody tr th:only-of-type {\n",
       "        vertical-align: middle;\n",
       "    }\n",
       "\n",
       "    .dataframe tbody tr th {\n",
       "        vertical-align: top;\n",
       "    }\n",
       "\n",
       "    .dataframe thead th {\n",
       "        text-align: right;\n",
       "    }\n",
       "</style>\n",
       "<table border=\"1\" class=\"dataframe\">\n",
       "  <thead>\n",
       "    <tr style=\"text-align: right;\">\n",
       "      <th></th>\n",
       "      <th></th>\n",
       "      <th>flug</th>\n",
       "      <th>fldg</th>\n",
       "      <th>fnetg</th>\n",
       "    </tr>\n",
       "    <tr>\n",
       "      <th>pressure</th>\n",
       "      <th>level</th>\n",
       "      <th></th>\n",
       "      <th></th>\n",
       "      <th></th>\n",
       "    </tr>\n",
       "  </thead>\n",
       "  <tbody>\n",
       "    <tr>\n",
       "      <th>0.0000</th>\n",
       "      <th>1</th>\n",
       "      <td>-30.870337</td>\n",
       "      <td>0.000000</td>\n",
       "      <td>-30.870337</td>\n",
       "    </tr>\n",
       "    <tr>\n",
       "      <th>1.0685</th>\n",
       "      <th>24</th>\n",
       "      <td>-30.875457</td>\n",
       "      <td>0.068836</td>\n",
       "      <td>-30.806620</td>\n",
       "    </tr>\n",
       "    <tr>\n",
       "      <th>1013.0000</th>\n",
       "      <th>76</th>\n",
       "      <td>-38.491734</td>\n",
       "      <td>17.949284</td>\n",
       "      <td>-20.542450</td>\n",
       "    </tr>\n",
       "  </tbody>\n",
       "</table>\n",
       "</div>"
      ],
      "text/plain": [
       "                      flug       fldg      fnetg\n",
       "pressure  level                                 \n",
       "0.0000    1     -30.870337   0.000000 -30.870337\n",
       "1.0685    24    -30.875457   0.068836 -30.806620\n",
       "1013.0000 76    -38.491734  17.949284 -20.542450"
      ]
     },
     "metadata": {},
     "output_type": "display_data"
    },
    {
     "name": "stdout",
     "output_type": "stream",
     "text": [
      "Table. Fluxes. CRD\n"
     ]
    },
    {
     "data": {
      "text/html": [
       "<div>\n",
       "<style scoped>\n",
       "    .dataframe tbody tr th:only-of-type {\n",
       "        vertical-align: middle;\n",
       "    }\n",
       "\n",
       "    .dataframe tbody tr th {\n",
       "        vertical-align: top;\n",
       "    }\n",
       "\n",
       "    .dataframe thead th {\n",
       "        text-align: right;\n",
       "    }\n",
       "</style>\n",
       "<table border=\"1\" class=\"dataframe\">\n",
       "  <thead>\n",
       "    <tr style=\"text-align: right;\">\n",
       "      <th></th>\n",
       "      <th></th>\n",
       "      <th>flug</th>\n",
       "      <th>fldg</th>\n",
       "      <th>fnetg</th>\n",
       "    </tr>\n",
       "    <tr>\n",
       "      <th>pressure</th>\n",
       "      <th>level</th>\n",
       "      <th></th>\n",
       "      <th></th>\n",
       "      <th></th>\n",
       "    </tr>\n",
       "  </thead>\n",
       "  <tbody>\n",
       "    <tr>\n",
       "      <th>0.0000</th>\n",
       "      <th>1</th>\n",
       "      <td>-30.890413</td>\n",
       "      <td>0.000000</td>\n",
       "      <td>-30.890413</td>\n",
       "    </tr>\n",
       "    <tr>\n",
       "      <th>1.0685</th>\n",
       "      <th>24</th>\n",
       "      <td>-30.893925</td>\n",
       "      <td>0.064112</td>\n",
       "      <td>-30.829813</td>\n",
       "    </tr>\n",
       "    <tr>\n",
       "      <th>1013.0000</th>\n",
       "      <th>76</th>\n",
       "      <td>-38.491734</td>\n",
       "      <td>17.979135</td>\n",
       "      <td>-20.512599</td>\n",
       "    </tr>\n",
       "  </tbody>\n",
       "</table>\n",
       "</div>"
      ],
      "text/plain": [
       "                      flug       fldg      fnetg\n",
       "pressure  level                                 \n",
       "0.0000    1     -30.890413   0.000000 -30.890413\n",
       "1.0685    24    -30.893925   0.064112 -30.829813\n",
       "1013.0000 76    -38.491734  17.979135 -20.512599"
      ]
     },
     "metadata": {},
     "output_type": "display_data"
    },
    {
     "name": "stdout",
     "output_type": "stream",
     "text": [
      "Table. Fluxes. WGT igg=10 wgt_flux=1\n"
     ]
    },
    {
     "data": {
      "text/html": [
       "<div>\n",
       "<style scoped>\n",
       "    .dataframe tbody tr th:only-of-type {\n",
       "        vertical-align: middle;\n",
       "    }\n",
       "\n",
       "    .dataframe tbody tr th {\n",
       "        vertical-align: top;\n",
       "    }\n",
       "\n",
       "    .dataframe thead th {\n",
       "        text-align: right;\n",
       "    }\n",
       "</style>\n",
       "<table border=\"1\" class=\"dataframe\">\n",
       "  <thead>\n",
       "    <tr style=\"text-align: right;\">\n",
       "      <th></th>\n",
       "      <th></th>\n",
       "      <th>flug</th>\n",
       "      <th>fldg</th>\n",
       "      <th>fnetg</th>\n",
       "    </tr>\n",
       "    <tr>\n",
       "      <th>pressure</th>\n",
       "      <th>level</th>\n",
       "      <th></th>\n",
       "      <th></th>\n",
       "      <th></th>\n",
       "    </tr>\n",
       "  </thead>\n",
       "  <tbody>\n",
       "    <tr>\n",
       "      <th>1.000000e-08</th>\n",
       "      <th>1</th>\n",
       "      <td>-30.990152</td>\n",
       "      <td>0.000002</td>\n",
       "      <td>-30.990151</td>\n",
       "    </tr>\n",
       "    <tr>\n",
       "      <th>1.068500e+00</th>\n",
       "      <th>24</th>\n",
       "      <td>-30.993285</td>\n",
       "      <td>0.061617</td>\n",
       "      <td>-30.931667</td>\n",
       "    </tr>\n",
       "    <tr>\n",
       "      <th>1.013000e+03</th>\n",
       "      <th>76</th>\n",
       "      <td>-38.491730</td>\n",
       "      <td>17.993363</td>\n",
       "      <td>-20.498367</td>\n",
       "    </tr>\n",
       "  </tbody>\n",
       "</table>\n",
       "</div>"
      ],
      "text/plain": [
       "                         flug       fldg      fnetg\n",
       "pressure     level                                 \n",
       "1.000000e-08 1     -30.990152   0.000002 -30.990151\n",
       "1.068500e+00 24    -30.993285   0.061617 -30.931667\n",
       "1.013000e+03 76    -38.491730  17.993363 -20.498367"
      ]
     },
     "metadata": {},
     "output_type": "display_data"
    },
    {
     "name": "stdout",
     "output_type": "stream",
     "text": [
      "Table. Fluxes. CLIRAD\n"
     ]
    },
    {
     "data": {
      "text/html": [
       "<div>\n",
       "<style scoped>\n",
       "    .dataframe tbody tr th:only-of-type {\n",
       "        vertical-align: middle;\n",
       "    }\n",
       "\n",
       "    .dataframe tbody tr th {\n",
       "        vertical-align: top;\n",
       "    }\n",
       "\n",
       "    .dataframe thead th {\n",
       "        text-align: right;\n",
       "    }\n",
       "</style>\n",
       "<table border=\"1\" class=\"dataframe\">\n",
       "  <thead>\n",
       "    <tr style=\"text-align: right;\">\n",
       "      <th></th>\n",
       "      <th></th>\n",
       "      <th>flug</th>\n",
       "      <th>fldg</th>\n",
       "      <th>fnetg</th>\n",
       "    </tr>\n",
       "    <tr>\n",
       "      <th>pressure</th>\n",
       "      <th>level</th>\n",
       "      <th></th>\n",
       "      <th></th>\n",
       "      <th></th>\n",
       "    </tr>\n",
       "  </thead>\n",
       "  <tbody>\n",
       "    <tr>\n",
       "      <th>0.0000</th>\n",
       "      <th>1</th>\n",
       "      <td>-2.007593e-02</td>\n",
       "      <td>0.000000</td>\n",
       "      <td>-0.020076</td>\n",
       "    </tr>\n",
       "    <tr>\n",
       "      <th>1.0685</th>\n",
       "      <th>24</th>\n",
       "      <td>-1.846751e-02</td>\n",
       "      <td>-0.004724</td>\n",
       "      <td>-0.023193</td>\n",
       "    </tr>\n",
       "    <tr>\n",
       "      <th>1013.0000</th>\n",
       "      <th>76</th>\n",
       "      <td>-1.040000e-07</td>\n",
       "      <td>0.029851</td>\n",
       "      <td>0.029851</td>\n",
       "    </tr>\n",
       "  </tbody>\n",
       "</table>\n",
       "</div>"
      ],
      "text/plain": [
       "                         flug      fldg     fnetg\n",
       "pressure  level                                  \n",
       "0.0000    1     -2.007593e-02  0.000000 -0.020076\n",
       "1.0685    24    -1.846751e-02 -0.004724 -0.023193\n",
       "1013.0000 76    -1.040000e-07  0.029851  0.029851"
      ]
     },
     "metadata": {},
     "output_type": "display_data"
    },
    {
     "name": "stdout",
     "output_type": "stream",
     "text": [
      "Table. Fluxes. (WGT igg=10 wgt_flux=1) - (CRD)\n"
     ]
    },
    {
     "data": {
      "text/html": [
       "<div>\n",
       "<style scoped>\n",
       "    .dataframe tbody tr th:only-of-type {\n",
       "        vertical-align: middle;\n",
       "    }\n",
       "\n",
       "    .dataframe tbody tr th {\n",
       "        vertical-align: top;\n",
       "    }\n",
       "\n",
       "    .dataframe thead th {\n",
       "        text-align: right;\n",
       "    }\n",
       "</style>\n",
       "<table border=\"1\" class=\"dataframe\">\n",
       "  <thead>\n",
       "    <tr style=\"text-align: right;\">\n",
       "      <th></th>\n",
       "      <th></th>\n",
       "      <th>flug</th>\n",
       "      <th>fldg</th>\n",
       "      <th>fnetg</th>\n",
       "    </tr>\n",
       "    <tr>\n",
       "      <th>pressure</th>\n",
       "      <th>level</th>\n",
       "      <th></th>\n",
       "      <th></th>\n",
       "      <th></th>\n",
       "    </tr>\n",
       "  </thead>\n",
       "  <tbody>\n",
       "    <tr>\n",
       "      <th>0.0000</th>\n",
       "      <th>1</th>\n",
       "      <td>-0.119815</td>\n",
       "      <td>0.000002</td>\n",
       "      <td>-0.119814</td>\n",
       "    </tr>\n",
       "    <tr>\n",
       "      <th>1.0685</th>\n",
       "      <th>24</th>\n",
       "      <td>-0.117828</td>\n",
       "      <td>-0.007219</td>\n",
       "      <td>-0.125047</td>\n",
       "    </tr>\n",
       "    <tr>\n",
       "      <th>1013.0000</th>\n",
       "      <th>76</th>\n",
       "      <td>0.000004</td>\n",
       "      <td>0.044079</td>\n",
       "      <td>0.044083</td>\n",
       "    </tr>\n",
       "  </tbody>\n",
       "</table>\n",
       "</div>"
      ],
      "text/plain": [
       "                     flug      fldg     fnetg\n",
       "pressure  level                              \n",
       "0.0000    1     -0.119815  0.000002 -0.119814\n",
       "1.0685    24    -0.117828 -0.007219 -0.125047\n",
       "1013.0000 76     0.000004  0.044079  0.044083"
      ]
     },
     "metadata": {},
     "output_type": "display_data"
    },
    {
     "name": "stdout",
     "output_type": "stream",
     "text": [
      "Table. Fluxes. (CLIRAD) - (CRD)\n"
     ]
    },
    {
     "data": {
      "text/html": [
       "<a id=\"Best-fit_Parameters\"></a>"
      ],
      "text/plain": [
       "<IPython.core.display.HTML object>"
      ]
     },
     "metadata": {},
     "output_type": "display_data"
    },
    {
     "data": {
      "text/markdown": [
       "# Best-fit Parameters"
      ],
      "text/plain": [
       "<IPython.core.display.Markdown object>"
      ]
     },
     "metadata": {},
     "output_type": "display_data"
    },
    {
     "name": "stdout",
     "output_type": "stream",
     "text": [
      "Best-fit values for each (gas, band)\n",
      "------------------------------------\n",
      "o co2 band3a\n",
      "  atmpro = mls\n",
      "  band = 3a\n",
      "  commitnumber = a06b618\n",
      "  conc = 0.0004\n",
      "  dv = 0.001\n",
      "  klin = 6.375563e-24\n",
      "  molecule = co2\n",
      "  ng_adju = [0, 0, 0]\n",
      "  ng_refs = [3, 2, 4]\n",
      "  nv = 1000\n",
      "  option_compute_btable = 0\n",
      "  option_compute_ktable = 1\n",
      "  option_wgt_flux = 1\n",
      "  option_wgt_k = 1\n",
      "  ref_pts = [(1, 250), (10, 250), (500, 250)]\n",
      "  tsfc = 294\n",
      "  vmax = 620\n",
      "  vmin = 540\n",
      "  w_diffuse = [(1.6, 1.6, 1.7), (1.75, 1.75), (1.55, 1.55, 1.6, 1.85)]\n",
      "  wgt = [(0.7, 0.3, 0.7), (0.7, 0.6), (0.4, 0.5, 0.8, 0.95)]\n"
     ]
    }
   ],
   "source": [
    "script()"
   ]
  },
  {
   "cell_type": "code",
   "execution_count": 13,
   "metadata": {
    "collapsed": true
   },
   "outputs": [
    {
     "data": {
      "text/html": [
       "<script>\n",
       "code_show=true; \n",
       "function code_toggle() {\n",
       " if (code_show){\n",
       " $('div.input').hide();\n",
       " } else {\n",
       " $('div.input').show();\n",
       " }\n",
       " code_show = !code_show\n",
       "} \n",
       "$( document ).ready(code_toggle);\n",
       "</script>\n",
       "<form action=\"javascript:code_toggle()\"><input type=\"submit\" value=\"Click here to toggle on/off the raw code.\"></form>"
      ],
      "text/plain": [
       "<IPython.core.display.HTML object>"
      ]
     },
     "execution_count": 13,
     "metadata": {},
     "output_type": "execute_result"
    }
   ],
   "source": [
    "display.HTML('''<script>\n",
    "code_show=true; \n",
    "function code_toggle() {\n",
    " if (code_show){\n",
    " $('div.input').hide();\n",
    " } else {\n",
    " $('div.input').show();\n",
    " }\n",
    " code_show = !code_show\n",
    "} \n",
    "$( document ).ready(code_toggle);\n",
    "</script>\n",
    "<form action=\"javascript:code_toggle()\"><input type=\"submit\" value=\"Click here to toggle on/off the raw code.\"></form>''')"
   ]
  }
 ],
 "metadata": {
  "kernelspec": {
   "display_name": "Python 3",
   "language": "python",
   "name": "python3"
  },
  "language_info": {
   "codemirror_mode": {
    "name": "ipython",
    "version": 3
   },
   "file_extension": ".py",
   "mimetype": "text/x-python",
   "name": "python",
   "nbconvert_exporter": "python",
   "pygments_lexer": "ipython3",
   "version": "3.6.1"
  }
 },
 "nbformat": 4,
 "nbformat_minor": 2
}
