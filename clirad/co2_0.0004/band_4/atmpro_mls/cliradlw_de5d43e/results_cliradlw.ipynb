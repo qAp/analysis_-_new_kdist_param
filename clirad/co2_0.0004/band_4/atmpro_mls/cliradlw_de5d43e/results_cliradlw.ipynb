{
 "cells": [
  {
   "cell_type": "code",
   "execution_count": 1,
   "metadata": {
    "collapsed": true
   },
   "outputs": [],
   "source": [
    "%matplotlib inline\n",
    "import os\n",
    "import re\n",
    "import io\n",
    "import itertools\n",
    "import pprint\n",
    "\n",
    "from bokeh.io import output_notebook, show\n",
    "from bokeh.layouts import gridplot\n",
    "from bokeh.plotting import figure\n",
    "from bokeh.models import Range1d, Legend\n",
    "from bokeh.palettes import all_palettes\n",
    "\n",
    "import matplotlib\n",
    "import matplotlib.pyplot as plt\n",
    "import numpy as np\n",
    "import pandas as pd\n",
    "import xarray as xr\n",
    "\n",
    "import climatools.lblnew.bestfit_params as bestfits\n",
    "from climatools.lblnew import setup_bestfit, setup_overlap\n",
    "import climatools.lblnew.pipeline as pipe_lblnew\n",
    "import climatools.cliradlw.setup as setup_cliradlw\n",
    "import climatools.cliradlw.pipeline as pipe_cliradlw\n",
    "\n",
    "import climatools.html.html as climahtml\n",
    "from climatools.lblnew.dataio import *\n",
    "from climatools.plot.plot import *\n",
    "\n",
    "\n",
    "import IPython.display as display"
   ]
  },
  {
   "cell_type": "code",
   "execution_count": 2,
   "metadata": {
    "collapsed": true
   },
   "outputs": [],
   "source": [
    "%run param.py"
   ]
  },
  {
   "cell_type": "code",
   "execution_count": 3,
   "metadata": {
    "collapsed": true
   },
   "outputs": [],
   "source": [
    "def load_output_file(path_csv):\n",
    "    '''\n",
    "    Load lblnew output .csv file to xarray.Dataset\n",
    "    \n",
    "    Parameters\n",
    "    ----------\n",
    "    path_csv: str\n",
    "              Path to the .csv file to be loaded.\n",
    "    ds: xarray.Dataset\n",
    "        Data in the input file in the form of an xarray.Dataset.\n",
    "    '''\n",
    "    toindex = ['band', 'pressure', 'igg', 'g']    \n",
    "    df = pd.read_csv(path_csv, sep=r'\\s+')\n",
    "    df = df.set_index([i for i in toindex if i in df.columns])\n",
    "    df = df.rename(columns={'sfu': 'flug',\n",
    "                            'sfd': 'fldg',\n",
    "                            'fnet': 'fnetg',\n",
    "                            'coolr': 'coolrg'})\n",
    "    ds = xr.Dataset.from_dataframe(df)\n",
    "\n",
    "    for l in ('level', 'layer'):\n",
    "        if l in ds.data_vars:\n",
    "            if len(ds[l].dims) > 1:\n",
    "                surface = {d: 0 for d in ds.dims if d != 'pressure'}\n",
    "                coord_level = ds[l][surface]\n",
    "                ds.coords[l] = ('pressure', coord_level)\n",
    "            else:\n",
    "                ds.coords[l] = ('pressure', ds[l])\n",
    "    \n",
    "    return ds"
   ]
  },
  {
   "cell_type": "code",
   "execution_count": 4,
   "metadata": {
    "collapsed": true
   },
   "outputs": [],
   "source": [
    "def lblnew_setup(param=None):\n",
    "    if 'ng_refs' in param:\n",
    "        return {'setup': setup_bestfit,\n",
    "                'fname_flux_crd': 'output_flux.dat',\n",
    "                'fname_cool_crd': 'output_coolr.dat',\n",
    "                'fname_flux_wgt': 'output_wfluxg.dat',\n",
    "                'fname_cool_wgt': 'output_wcoolrg.dat'}\n",
    "    else:\n",
    "        return {'setup': setup_overlap,\n",
    "                'fname_flux_crd': 'output_flux.dat',\n",
    "                'fname_cool_crd': 'output_coolr.dat',\n",
    "                'fname_flux_wgt': 'output_wflux.dat',\n",
    "                'fname_cool_wgt': 'output_wcoolr.dat'}\n",
    "\n",
    "    \n",
    "def load_lblnew_data(param):\n",
    "    \n",
    "    fname_dsname = [('fname_flux_crd', 'ds_flux_crd'),\n",
    "                    ('fname_cool_crd', 'ds_cool_crd'),\n",
    "                    ('fname_flux_wgt', 'ds_flux_wgt'),\n",
    "                    ('fname_cool_wgt', 'ds_cool_wgt')]\n",
    "    \n",
    "    d = lblnew_setup(param)\n",
    "    dir_fortran = pipe_lblnew.get_dir_case(param, setup=d['setup'])\n",
    "    \n",
    "    data_dict = {}\n",
    "    for fname, dsname in fname_dsname:\n",
    "        fpath = os.path.join(dir_fortran, d[fname])\n",
    "        data_dict[dsname] = load_output_file(fpath)\n",
    "    return data_dict\n",
    "    \n",
    "\n",
    "    \n",
    "    "
   ]
  },
  {
   "cell_type": "code",
   "execution_count": 5,
   "metadata": {
    "collapsed": true
   },
   "outputs": [],
   "source": [
    "d = load_lblnew_data(PARAM_LBLNEW)\n",
    "\n",
    "DS_FLUX_CRD = d['ds_flux_crd']\n",
    "DS_COOL_CRD = d['ds_cool_crd']\n",
    "DS_FLUX_WGT = d['ds_flux_wgt']\n",
    "DS_COOL_WGT = d['ds_cool_wgt']"
   ]
  },
  {
   "cell_type": "code",
   "execution_count": 6,
   "metadata": {
    "collapsed": true
   },
   "outputs": [],
   "source": [
    "DIR_FORTRAN = pipe_cliradlw.get_fortran_dir(PARAM, \n",
    "                                            setup=setup_cliradlw)\n",
    "\n",
    "PATH_FLUX = os.path.join(DIR_FORTRAN, 'output_flux.dat')\n",
    "PATH_COOL = os.path.join(DIR_FORTRAN, 'output_coolr.dat')\n",
    "\n",
    "DS_FLUX = load_output_file(PATH_FLUX)\n",
    "DS_COOL = load_output_file(PATH_COOL)"
   ]
  },
  {
   "cell_type": "code",
   "execution_count": 7,
   "metadata": {
    "collapsed": true
   },
   "outputs": [
    {
     "data": {
      "text/html": [
       "\n",
       "    <div class=\"bk-root\">\n",
       "        <a href=\"https://bokeh.pydata.org\" target=\"_blank\" class=\"bk-logo bk-logo-small bk-logo-notebook\"></a>\n",
       "        <span id=\"eec2930d-0373-4b0c-b672-74673ab84c9c\">Loading BokehJS ...</span>\n",
       "    </div>"
      ]
     },
     "metadata": {},
     "output_type": "display_data"
    },
    {
     "data": {
      "application/javascript": [
       "\n",
       "(function(root) {\n",
       "  function now() {\n",
       "    return new Date();\n",
       "  }\n",
       "\n",
       "  var force = true;\n",
       "\n",
       "  if (typeof (root._bokeh_onload_callbacks) === \"undefined\" || force === true) {\n",
       "    root._bokeh_onload_callbacks = [];\n",
       "    root._bokeh_is_loading = undefined;\n",
       "  }\n",
       "\n",
       "  var JS_MIME_TYPE = 'application/javascript';\n",
       "  var HTML_MIME_TYPE = 'text/html';\n",
       "  var EXEC_MIME_TYPE = 'application/vnd.bokehjs_exec.v0+json';\n",
       "  var CLASS_NAME = 'output_bokeh rendered_html';\n",
       "\n",
       "  /**\n",
       "   * Render data to the DOM node\n",
       "   */\n",
       "  function render(props, node) {\n",
       "    var script = document.createElement(\"script\");\n",
       "    node.appendChild(script);\n",
       "  }\n",
       "\n",
       "  /**\n",
       "   * Handle when an output is cleared or removed\n",
       "   */\n",
       "  function handleClearOutput(event, handle) {\n",
       "    var cell = handle.cell;\n",
       "\n",
       "    var id = cell.output_area._bokeh_element_id;\n",
       "    var server_id = cell.output_area._bokeh_server_id;\n",
       "    // Clean up Bokeh references\n",
       "    if (id !== undefined) {\n",
       "      Bokeh.index[id].model.document.clear();\n",
       "      delete Bokeh.index[id];\n",
       "    }\n",
       "\n",
       "    if (server_id !== undefined) {\n",
       "      // Clean up Bokeh references\n",
       "      var cmd = \"from bokeh.io.state import curstate; print(curstate().uuid_to_server['\" + server_id + \"'].get_sessions()[0].document.roots[0]._id)\";\n",
       "      cell.notebook.kernel.execute(cmd, {\n",
       "        iopub: {\n",
       "          output: function(msg) {\n",
       "            var element_id = msg.content.text.trim();\n",
       "            Bokeh.index[element_id].model.document.clear();\n",
       "            delete Bokeh.index[element_id];\n",
       "          }\n",
       "        }\n",
       "      });\n",
       "      // Destroy server and session\n",
       "      var cmd = \"import bokeh.io.notebook as ion; ion.destroy_server('\" + server_id + \"')\";\n",
       "      cell.notebook.kernel.execute(cmd);\n",
       "    }\n",
       "  }\n",
       "\n",
       "  /**\n",
       "   * Handle when a new output is added\n",
       "   */\n",
       "  function handleAddOutput(event, handle) {\n",
       "    var output_area = handle.output_area;\n",
       "    var output = handle.output;\n",
       "\n",
       "    // limit handleAddOutput to display_data with EXEC_MIME_TYPE content only\n",
       "    if ((output.output_type != \"display_data\") || (!output.data.hasOwnProperty(EXEC_MIME_TYPE))) {\n",
       "      return\n",
       "    }\n",
       "\n",
       "    var toinsert = output_area.element.find(\".\" + CLASS_NAME.split(' ')[0]);\n",
       "\n",
       "    if (output.metadata[EXEC_MIME_TYPE][\"id\"] !== undefined) {\n",
       "      toinsert[toinsert.length - 1].firstChild.textContent = output.data[JS_MIME_TYPE];\n",
       "      // store reference to embed id on output_area\n",
       "      output_area._bokeh_element_id = output.metadata[EXEC_MIME_TYPE][\"id\"];\n",
       "    }\n",
       "    if (output.metadata[EXEC_MIME_TYPE][\"server_id\"] !== undefined) {\n",
       "      var bk_div = document.createElement(\"div\");\n",
       "      bk_div.innerHTML = output.data[HTML_MIME_TYPE];\n",
       "      var script_attrs = bk_div.children[0].attributes;\n",
       "      for (var i = 0; i < script_attrs.length; i++) {\n",
       "        toinsert[toinsert.length - 1].firstChild.setAttribute(script_attrs[i].name, script_attrs[i].value);\n",
       "      }\n",
       "      // store reference to server id on output_area\n",
       "      output_area._bokeh_server_id = output.metadata[EXEC_MIME_TYPE][\"server_id\"];\n",
       "    }\n",
       "  }\n",
       "\n",
       "  function register_renderer(events, OutputArea) {\n",
       "\n",
       "    function append_mime(data, metadata, element) {\n",
       "      // create a DOM node to render to\n",
       "      var toinsert = this.create_output_subarea(\n",
       "        metadata,\n",
       "        CLASS_NAME,\n",
       "        EXEC_MIME_TYPE\n",
       "      );\n",
       "      this.keyboard_manager.register_events(toinsert);\n",
       "      // Render to node\n",
       "      var props = {data: data, metadata: metadata[EXEC_MIME_TYPE]};\n",
       "      render(props, toinsert[toinsert.length - 1]);\n",
       "      element.append(toinsert);\n",
       "      return toinsert\n",
       "    }\n",
       "\n",
       "    /* Handle when an output is cleared or removed */\n",
       "    events.on('clear_output.CodeCell', handleClearOutput);\n",
       "    events.on('delete.Cell', handleClearOutput);\n",
       "\n",
       "    /* Handle when a new output is added */\n",
       "    events.on('output_added.OutputArea', handleAddOutput);\n",
       "\n",
       "    /**\n",
       "     * Register the mime type and append_mime function with output_area\n",
       "     */\n",
       "    OutputArea.prototype.register_mime_type(EXEC_MIME_TYPE, append_mime, {\n",
       "      /* Is output safe? */\n",
       "      safe: true,\n",
       "      /* Index of renderer in `output_area.display_order` */\n",
       "      index: 0\n",
       "    });\n",
       "  }\n",
       "\n",
       "  // register the mime type if in Jupyter Notebook environment and previously unregistered\n",
       "  if (root.Jupyter !== undefined) {\n",
       "    var events = require('base/js/events');\n",
       "    var OutputArea = require('notebook/js/outputarea').OutputArea;\n",
       "\n",
       "    if (OutputArea.prototype.mime_types().indexOf(EXEC_MIME_TYPE) == -1) {\n",
       "      register_renderer(events, OutputArea);\n",
       "    }\n",
       "  }\n",
       "\n",
       "  \n",
       "  if (typeof (root._bokeh_timeout) === \"undefined\" || force === true) {\n",
       "    root._bokeh_timeout = Date.now() + 5000;\n",
       "    root._bokeh_failed_load = false;\n",
       "  }\n",
       "\n",
       "  var NB_LOAD_WARNING = {'data': {'text/html':\n",
       "     \"<div style='background-color: #fdd'>\\n\"+\n",
       "     \"<p>\\n\"+\n",
       "     \"BokehJS does not appear to have successfully loaded. If loading BokehJS from CDN, this \\n\"+\n",
       "     \"may be due to a slow or bad network connection. Possible fixes:\\n\"+\n",
       "     \"</p>\\n\"+\n",
       "     \"<ul>\\n\"+\n",
       "     \"<li>re-rerun `output_notebook()` to attempt to load from CDN again, or</li>\\n\"+\n",
       "     \"<li>use INLINE resources instead, as so:</li>\\n\"+\n",
       "     \"</ul>\\n\"+\n",
       "     \"<code>\\n\"+\n",
       "     \"from bokeh.resources import INLINE\\n\"+\n",
       "     \"output_notebook(resources=INLINE)\\n\"+\n",
       "     \"</code>\\n\"+\n",
       "     \"</div>\"}};\n",
       "\n",
       "  function display_loaded() {\n",
       "    var el = document.getElementById(\"eec2930d-0373-4b0c-b672-74673ab84c9c\");\n",
       "    if (el != null) {\n",
       "      el.textContent = \"BokehJS is loading...\";\n",
       "    }\n",
       "    if (root.Bokeh !== undefined) {\n",
       "      if (el != null) {\n",
       "        el.textContent = \"BokehJS \" + root.Bokeh.version + \" successfully loaded.\";\n",
       "      }\n",
       "    } else if (Date.now() < root._bokeh_timeout) {\n",
       "      setTimeout(display_loaded, 100)\n",
       "    }\n",
       "  }\n",
       "\n",
       "\n",
       "  function run_callbacks() {\n",
       "    try {\n",
       "      root._bokeh_onload_callbacks.forEach(function(callback) { callback() });\n",
       "    }\n",
       "    finally {\n",
       "      delete root._bokeh_onload_callbacks\n",
       "    }\n",
       "    console.info(\"Bokeh: all callbacks have finished\");\n",
       "  }\n",
       "\n",
       "  function load_libs(js_urls, callback) {\n",
       "    root._bokeh_onload_callbacks.push(callback);\n",
       "    if (root._bokeh_is_loading > 0) {\n",
       "      console.log(\"Bokeh: BokehJS is being loaded, scheduling callback at\", now());\n",
       "      return null;\n",
       "    }\n",
       "    if (js_urls == null || js_urls.length === 0) {\n",
       "      run_callbacks();\n",
       "      return null;\n",
       "    }\n",
       "    console.log(\"Bokeh: BokehJS not loaded, scheduling load and callback at\", now());\n",
       "    root._bokeh_is_loading = js_urls.length;\n",
       "    for (var i = 0; i < js_urls.length; i++) {\n",
       "      var url = js_urls[i];\n",
       "      var s = document.createElement('script');\n",
       "      s.src = url;\n",
       "      s.async = false;\n",
       "      s.onreadystatechange = s.onload = function() {\n",
       "        root._bokeh_is_loading--;\n",
       "        if (root._bokeh_is_loading === 0) {\n",
       "          console.log(\"Bokeh: all BokehJS libraries loaded\");\n",
       "          run_callbacks()\n",
       "        }\n",
       "      };\n",
       "      s.onerror = function() {\n",
       "        console.warn(\"failed to load library \" + url);\n",
       "      };\n",
       "      console.log(\"Bokeh: injecting script tag for BokehJS library: \", url);\n",
       "      document.getElementsByTagName(\"head\")[0].appendChild(s);\n",
       "    }\n",
       "  };var element = document.getElementById(\"eec2930d-0373-4b0c-b672-74673ab84c9c\");\n",
       "  if (element == null) {\n",
       "    console.log(\"Bokeh: ERROR: autoload.js configured with elementid 'eec2930d-0373-4b0c-b672-74673ab84c9c' but no matching script tag was found. \")\n",
       "    return false;\n",
       "  }\n",
       "\n",
       "  var js_urls = [\"https://cdn.pydata.org/bokeh/release/bokeh-0.12.16.min.js\", \"https://cdn.pydata.org/bokeh/release/bokeh-widgets-0.12.16.min.js\", \"https://cdn.pydata.org/bokeh/release/bokeh-tables-0.12.16.min.js\", \"https://cdn.pydata.org/bokeh/release/bokeh-gl-0.12.16.min.js\"];\n",
       "\n",
       "  var inline_js = [\n",
       "    function(Bokeh) {\n",
       "      Bokeh.set_log_level(\"info\");\n",
       "    },\n",
       "    \n",
       "    function(Bokeh) {\n",
       "      \n",
       "    },\n",
       "    function(Bokeh) {\n",
       "      console.log(\"Bokeh: injecting CSS: https://cdn.pydata.org/bokeh/release/bokeh-0.12.16.min.css\");\n",
       "      Bokeh.embed.inject_css(\"https://cdn.pydata.org/bokeh/release/bokeh-0.12.16.min.css\");\n",
       "      console.log(\"Bokeh: injecting CSS: https://cdn.pydata.org/bokeh/release/bokeh-widgets-0.12.16.min.css\");\n",
       "      Bokeh.embed.inject_css(\"https://cdn.pydata.org/bokeh/release/bokeh-widgets-0.12.16.min.css\");\n",
       "      console.log(\"Bokeh: injecting CSS: https://cdn.pydata.org/bokeh/release/bokeh-tables-0.12.16.min.css\");\n",
       "      Bokeh.embed.inject_css(\"https://cdn.pydata.org/bokeh/release/bokeh-tables-0.12.16.min.css\");\n",
       "    }\n",
       "  ];\n",
       "\n",
       "  function run_inline_js() {\n",
       "    \n",
       "    if ((root.Bokeh !== undefined) || (force === true)) {\n",
       "      for (var i = 0; i < inline_js.length; i++) {\n",
       "        inline_js[i].call(root, root.Bokeh);\n",
       "      }if (force === true) {\n",
       "        display_loaded();\n",
       "      }} else if (Date.now() < root._bokeh_timeout) {\n",
       "      setTimeout(run_inline_js, 100);\n",
       "    } else if (!root._bokeh_failed_load) {\n",
       "      console.log(\"Bokeh: BokehJS failed to load within specified timeout.\");\n",
       "      root._bokeh_failed_load = true;\n",
       "    } else if (force !== true) {\n",
       "      var cell = $(document.getElementById(\"eec2930d-0373-4b0c-b672-74673ab84c9c\")).parents('.cell').data().cell;\n",
       "      cell.output_area.append_execute_result(NB_LOAD_WARNING)\n",
       "    }\n",
       "\n",
       "  }\n",
       "\n",
       "  if (root._bokeh_is_loading === 0) {\n",
       "    console.log(\"Bokeh: BokehJS loaded, going straight to plotting\");\n",
       "    run_inline_js();\n",
       "  } else {\n",
       "    load_libs(js_urls, function() {\n",
       "      console.log(\"Bokeh: BokehJS plotting callback run at\", now());\n",
       "      run_inline_js();\n",
       "    });\n",
       "  }\n",
       "}(window));"
      ],
      "application/vnd.bokehjs_load.v0+json": "\n(function(root) {\n  function now() {\n    return new Date();\n  }\n\n  var force = true;\n\n  if (typeof (root._bokeh_onload_callbacks) === \"undefined\" || force === true) {\n    root._bokeh_onload_callbacks = [];\n    root._bokeh_is_loading = undefined;\n  }\n\n  \n\n  \n  if (typeof (root._bokeh_timeout) === \"undefined\" || force === true) {\n    root._bokeh_timeout = Date.now() + 5000;\n    root._bokeh_failed_load = false;\n  }\n\n  var NB_LOAD_WARNING = {'data': {'text/html':\n     \"<div style='background-color: #fdd'>\\n\"+\n     \"<p>\\n\"+\n     \"BokehJS does not appear to have successfully loaded. If loading BokehJS from CDN, this \\n\"+\n     \"may be due to a slow or bad network connection. Possible fixes:\\n\"+\n     \"</p>\\n\"+\n     \"<ul>\\n\"+\n     \"<li>re-rerun `output_notebook()` to attempt to load from CDN again, or</li>\\n\"+\n     \"<li>use INLINE resources instead, as so:</li>\\n\"+\n     \"</ul>\\n\"+\n     \"<code>\\n\"+\n     \"from bokeh.resources import INLINE\\n\"+\n     \"output_notebook(resources=INLINE)\\n\"+\n     \"</code>\\n\"+\n     \"</div>\"}};\n\n  function display_loaded() {\n    var el = document.getElementById(\"eec2930d-0373-4b0c-b672-74673ab84c9c\");\n    if (el != null) {\n      el.textContent = \"BokehJS is loading...\";\n    }\n    if (root.Bokeh !== undefined) {\n      if (el != null) {\n        el.textContent = \"BokehJS \" + root.Bokeh.version + \" successfully loaded.\";\n      }\n    } else if (Date.now() < root._bokeh_timeout) {\n      setTimeout(display_loaded, 100)\n    }\n  }\n\n\n  function run_callbacks() {\n    try {\n      root._bokeh_onload_callbacks.forEach(function(callback) { callback() });\n    }\n    finally {\n      delete root._bokeh_onload_callbacks\n    }\n    console.info(\"Bokeh: all callbacks have finished\");\n  }\n\n  function load_libs(js_urls, callback) {\n    root._bokeh_onload_callbacks.push(callback);\n    if (root._bokeh_is_loading > 0) {\n      console.log(\"Bokeh: BokehJS is being loaded, scheduling callback at\", now());\n      return null;\n    }\n    if (js_urls == null || js_urls.length === 0) {\n      run_callbacks();\n      return null;\n    }\n    console.log(\"Bokeh: BokehJS not loaded, scheduling load and callback at\", now());\n    root._bokeh_is_loading = js_urls.length;\n    for (var i = 0; i < js_urls.length; i++) {\n      var url = js_urls[i];\n      var s = document.createElement('script');\n      s.src = url;\n      s.async = false;\n      s.onreadystatechange = s.onload = function() {\n        root._bokeh_is_loading--;\n        if (root._bokeh_is_loading === 0) {\n          console.log(\"Bokeh: all BokehJS libraries loaded\");\n          run_callbacks()\n        }\n      };\n      s.onerror = function() {\n        console.warn(\"failed to load library \" + url);\n      };\n      console.log(\"Bokeh: injecting script tag for BokehJS library: \", url);\n      document.getElementsByTagName(\"head\")[0].appendChild(s);\n    }\n  };var element = document.getElementById(\"eec2930d-0373-4b0c-b672-74673ab84c9c\");\n  if (element == null) {\n    console.log(\"Bokeh: ERROR: autoload.js configured with elementid 'eec2930d-0373-4b0c-b672-74673ab84c9c' but no matching script tag was found. \")\n    return false;\n  }\n\n  var js_urls = [\"https://cdn.pydata.org/bokeh/release/bokeh-0.12.16.min.js\", \"https://cdn.pydata.org/bokeh/release/bokeh-widgets-0.12.16.min.js\", \"https://cdn.pydata.org/bokeh/release/bokeh-tables-0.12.16.min.js\", \"https://cdn.pydata.org/bokeh/release/bokeh-gl-0.12.16.min.js\"];\n\n  var inline_js = [\n    function(Bokeh) {\n      Bokeh.set_log_level(\"info\");\n    },\n    \n    function(Bokeh) {\n      \n    },\n    function(Bokeh) {\n      console.log(\"Bokeh: injecting CSS: https://cdn.pydata.org/bokeh/release/bokeh-0.12.16.min.css\");\n      Bokeh.embed.inject_css(\"https://cdn.pydata.org/bokeh/release/bokeh-0.12.16.min.css\");\n      console.log(\"Bokeh: injecting CSS: https://cdn.pydata.org/bokeh/release/bokeh-widgets-0.12.16.min.css\");\n      Bokeh.embed.inject_css(\"https://cdn.pydata.org/bokeh/release/bokeh-widgets-0.12.16.min.css\");\n      console.log(\"Bokeh: injecting CSS: https://cdn.pydata.org/bokeh/release/bokeh-tables-0.12.16.min.css\");\n      Bokeh.embed.inject_css(\"https://cdn.pydata.org/bokeh/release/bokeh-tables-0.12.16.min.css\");\n    }\n  ];\n\n  function run_inline_js() {\n    \n    if ((root.Bokeh !== undefined) || (force === true)) {\n      for (var i = 0; i < inline_js.length; i++) {\n        inline_js[i].call(root, root.Bokeh);\n      }if (force === true) {\n        display_loaded();\n      }} else if (Date.now() < root._bokeh_timeout) {\n      setTimeout(run_inline_js, 100);\n    } else if (!root._bokeh_failed_load) {\n      console.log(\"Bokeh: BokehJS failed to load within specified timeout.\");\n      root._bokeh_failed_load = true;\n    } else if (force !== true) {\n      var cell = $(document.getElementById(\"eec2930d-0373-4b0c-b672-74673ab84c9c\")).parents('.cell').data().cell;\n      cell.output_area.append_execute_result(NB_LOAD_WARNING)\n    }\n\n  }\n\n  if (root._bokeh_is_loading === 0) {\n    console.log(\"Bokeh: BokehJS loaded, going straight to plotting\");\n    run_inline_js();\n  } else {\n    load_libs(js_urls, function() {\n      console.log(\"Bokeh: BokehJS plotting callback run at\", now());\n      run_inline_js();\n    });\n  }\n}(window));"
     },
     "metadata": {},
     "output_type": "display_data"
    }
   ],
   "source": [
    "output_notebook()"
   ]
  },
  {
   "cell_type": "code",
   "execution_count": 8,
   "metadata": {
    "collapsed": true
   },
   "outputs": [],
   "source": [
    "def fmt_cool(ds_in):\n",
    "    ds = ds_in.copy(deep=True)\n",
    "    if 'igg' in ds.dims:\n",
    "        ds = ds.sel(igg=1)\n",
    "\n",
    "    if 'g' in ds.dims:\n",
    "        ds = ds.sum('g')\n",
    "            \n",
    "    if 'band' in ds.dims:\n",
    "        try:\n",
    "            ds = ds.squeeze('band')\n",
    "        except ValueError:\n",
    "            ds = ds.sum('band')\n",
    "                \n",
    "    return ds['coolrg']\n",
    "\n",
    "\n",
    "def pltdata_cooling_1(ds_cool=None,\n",
    "                      ds_cool_crd=None, ds_cool_wgt=None):\n",
    "    \n",
    "\n",
    "\n",
    "    colors = all_palettes['Set1'][4]\n",
    "    data = [{'label': 'CLIRAD `coolr_bands`',\n",
    "             'srs': fmt_cool(ds_cool),\n",
    "             'line_dash': 'dashed', 'line_width': 5,\n",
    "             'color': colors[0], 'alpha': .6},\n",
    "            {'label': 'CRD',\n",
    "             'srs': fmt_cool(ds_cool_crd),\n",
    "             'line_dash': 'solid', 'line_width': 1.5,\n",
    "             'marker': 'circle', 'marker_size': 5,\n",
    "             'color': colors[2], 'alpha': 1,},\n",
    "            {'label': 'WGT igg=10 wgt_flux=2',\n",
    "             'srs': fmt_cool(ds_cool_wgt),\n",
    "             'line_dash': 'solid', 'line_width': 3,\n",
    "             'marker': 'square', 'marker_size': 5,\n",
    "             'color': colors[3], 'alpha': .6}]\n",
    "    return data\n",
    "\n",
    "\n",
    "def nice_xlims(pltdata=None, prange=None):\n",
    "    \n",
    "    def get_slice(srs):\n",
    "        return srs.sel(pressure=slice(*prange))\n",
    "    \n",
    "    srss = [d['srs'] for d in pltdata]\n",
    "    vmin = min([get_slice(srs).min() for srs in srss])\n",
    "    vmax = max([get_slice(srs).max() for srs in srss])\n",
    "    dv = (vmax - vmin) * .01\n",
    "    return float(vmin - dv), float(vmax + dv)\n",
    "    \n",
    "\n",
    "def plt_cooling_bokeh(pltdata=None):\n",
    "    '''\n",
    "    Plot a list of cooling rate profiles using bokeh.\n",
    "    '''\n",
    "    ymin = 1e-2 \n",
    "    ymax = 1020 \n",
    "        \n",
    "    p1 = figure(title=\"Linear pressure scale\", \n",
    "                plot_width=400)        \n",
    "    xmin, xmax = nice_xlims(pltdata, prange=(50, 1050))\n",
    "    for d in pltdata:\n",
    "        if 'marker' in d:\n",
    "            getattr(p1, d['marker'])(d['srs'].values, \n",
    "                    d['srs'].coords['pressure'].values,\n",
    "                    color=d['color'], alpha=.7)\n",
    "        p1.line(d['srs'].values, \n",
    "                d['srs'].coords['pressure'].values,\n",
    "                color=d['color'], alpha=d['alpha'], \n",
    "                line_width=d['line_width'], line_dash=d['line_dash'])\n",
    "    \n",
    "    p1.y_range = Range1d(ymax, ymin)\n",
    "    p1.yaxis.axis_label = 'pressure [mb]'   \n",
    "    p1.x_range = Range1d(xmin, xmax)\n",
    "    p1.xaxis.axis_label = 'cooling rate [K/day]'\n",
    "            \n",
    "    p2 = figure(title='Log pressure scale', y_axis_type='log',\n",
    "                plot_width=560)\n",
    "    xmin, xmax = nice_xlims(pltdata, prange=(.01, 200))\n",
    "    \n",
    "    rs = []\n",
    "    for d in pltdata:\n",
    "        rd = []\n",
    "        if 'marker' in d:\n",
    "            r_mark = getattr(p2, d['marker'])(d['srs'].values, \n",
    "                        d['srs'].coords['pressure'].values,\n",
    "                        color=d['color'], alpha=.7)\n",
    "            rd.append(r_mark)\n",
    "        r_line = p2.line(d['srs'].values, \n",
    "                    d['srs'].coords['pressure'].values,\n",
    "                    color=d['color'], alpha=d['alpha'], \n",
    "                    line_width=d['line_width'], line_dash=d['line_dash'])\n",
    "        rd.append(r_line)\n",
    "      \n",
    "        rs.append(rd)\n",
    "        \n",
    "    p2.y_range = Range1d(ymax, ymin)  \n",
    "    p2.yaxis.axis_label = 'pressure [mb]'\n",
    "    \n",
    "    p2.x_range = Range1d(xmin, xmax)\n",
    "    p2.xaxis.axis_label = 'cooling rate [K/day]'\n",
    "    \n",
    "    items = [(d['label'], r) for r, d in zip(rs, pltdata)]\n",
    "    legend = Legend(items=items, location=(10, -30))\n",
    "    legend.label_text_font_size = '8pt'\n",
    "    \n",
    "    p2.add_layout(legend, 'right')  \n",
    "    \n",
    "    show(gridplot(p1, p2, ncols=2, plot_height=500))\n",
    "    \n",
    "\n",
    "def script_plt_cooling():\n",
    "    pltdata = pltdata_cooling_1(\n",
    "        ds_cool=DS_COOL,\n",
    "        ds_cool_crd=DS_COOL_CRD,\n",
    "        ds_cool_wgt=DS_COOL_WGT)\n",
    "    plt_cooling_bokeh(pltdata=pltdata)\n",
    "    print('''FIGURE. Cooling rate profiles.''')"
   ]
  },
  {
   "cell_type": "code",
   "execution_count": 9,
   "metadata": {
    "collapsed": true
   },
   "outputs": [],
   "source": [
    "def fmt_flux(ds_in):\n",
    "    ds = ds_in.copy(deep=True)\n",
    "    \n",
    "    for l in ('level', 'layer'):\n",
    "        if l in ds.data_vars:\n",
    "            if len(ds[l].dims) > 1:\n",
    "                surface = {d: 0 for d in ds.dims if d != 'pressure'}\n",
    "                coord_level = ds[l][surface]\n",
    "                ds.coords[l] = ('pressure', coord_level)\n",
    "            else:\n",
    "                ds.coords[l] = ('pressure', ds[l])\n",
    "        \n",
    "    ds = ds.isel(pressure=[0, 23, -1])\n",
    "        \n",
    "    if 'igg' in ds.dims:\n",
    "        ds = ds.sel(igg=[1])\n",
    "        ds = ds.squeeze('igg').drop('igg')\n",
    "    \n",
    "    if 'g' in ds.dims:\n",
    "        ds = ds.sum('g')\n",
    "            \n",
    "    if 'band' in ds.dims:\n",
    "        try:\n",
    "            ds = ds.squeeze('band').drop('band')\n",
    "        except ValueError:\n",
    "            ds = ds.sum('band')\n",
    "                \n",
    "    df = ds.to_dataframe()\n",
    "    df = df.set_index('level', append=True)               \n",
    "    return df\n",
    "\n",
    "\n",
    "def tbdata_flux(ds_flux=None, ds_flux_crd=None, ds_flux_wgt=None):\n",
    "    ilevels = [0, 23, -1]\n",
    "            \n",
    "    benchmark = {'label': 'CRD',\n",
    "                 'df': fmt_flux(ds_flux_crd)}\n",
    "    \n",
    "    tbs = [{'label': 'WGT igg=10 wgt_flux=1',\n",
    "            'df': fmt_flux(ds_flux_wgt)},\n",
    "           {'label': 'CLIRAD',\n",
    "            'df': fmt_flux(ds_flux)}]\n",
    "    \n",
    "    data = {'benchmark': benchmark, 'others': tbs}\n",
    "    return data\n",
    "\n",
    "\n",
    "def tb_flux(tbdata=None):\n",
    "    benchmark = tbdata['benchmark']\n",
    "    others = tbdata['others']\n",
    "    \n",
    "    def show_tb(d=None):\n",
    "        display.display(d['df'])\n",
    "        print('Table.', 'Fluxes.', d['label'])\n",
    "        \n",
    "    def show_tbdiff(d0=None, d=None):\n",
    "        df = d['df']\n",
    "        df.index = d0['df'].index\n",
    "        display.display(df - d0['df'])\n",
    "        print('Table.', 'Fluxes.', \n",
    "              '({}) - ({})'.format(d['label'], d0['label']))\n",
    "        \n",
    "    show_tb(benchmark)\n",
    "    for d in others:\n",
    "        show_tb(d)\n",
    "        \n",
    "    for d in others:\n",
    "        show_tbdiff(d=d, d0=benchmark)\n",
    "        \n",
    "        \n",
    "def script_tb_flux():\n",
    "    data = tbdata_flux(ds_flux=DS_FLUX,\n",
    "                       ds_flux_crd=DS_FLUX_CRD,\n",
    "                       ds_flux_wgt=DS_FLUX_WGT)\n",
    "    tb_flux(tbdata=data)"
   ]
  },
  {
   "cell_type": "code",
   "execution_count": 10,
   "metadata": {
    "collapsed": true
   },
   "outputs": [],
   "source": [
    "def band_map():\n",
    "    '''\n",
    "    Maps spectral bands in lblnew to spectral bands in clirad.\n",
    "    '''\n",
    "    lblnew2clirad = {'1': '1',\n",
    "            '2': '2',\n",
    "            '3a': '3',\n",
    "            '3b': '4',\n",
    "            '3c': '5',\n",
    "            '4': '6', \n",
    "            '5': '7',\n",
    "            '6': '8',\n",
    "            '7': '9', \n",
    "            '8': '10',\n",
    "            '9': '11'}\n",
    "    \n",
    "    clirad2lblnew = {clirad: lblnew \n",
    "                     for lblnew, clirad in lblnew2clirad.items()}\n",
    "    return clirad2lblnew\n",
    "\n",
    "\n",
    "def gasbands():\n",
    "    bmap = band_map()\n",
    "    gases = list(PARAM['molecule'].keys())\n",
    "    \n",
    "    bands = [bmap[str(b)] for b in PARAM['band']]\n",
    "    return list(itertools.product(gases, bands))\n",
    "\n",
    "\n",
    "def print_bestfit_params():\n",
    "    print('Best-fit values for each (gas, band)')\n",
    "    print('------------------------------------')\n",
    "    for gas, band in gasbands():\n",
    "        print('o {} band{}'.format(gas, band))\n",
    "        param = bestfits.kdist_params(molecule=gas, band=band)\n",
    "        for name, value in sorted(param.items()):\n",
    "            print(2 * ' ' + '{} = {}'.format(name, value))\n",
    "\n",
    "        \n",
    "def print_input_param():        \n",
    "    for name, value in PARAM.items():\n",
    "        print('{} = {}'.format(name, value))\n",
    "        \n",
    "        \n",
    "def print_lblnew_param():\n",
    "    for name, value in sorted(PARAM_LBLNEW.items()):\n",
    "        print('{} = {}'.format(name, value))\n"
   ]
  },
  {
   "cell_type": "code",
   "execution_count": 11,
   "metadata": {
    "collapsed": true,
    "scrolled": false
   },
   "outputs": [],
   "source": [
    "def show_html(s):\n",
    "    display.display(display.HTML(s))\n",
    "\n",
    "    \n",
    "def show_markdown(s):\n",
    "    display.display(display.Markdown(s))\n",
    "\n",
    "    \n",
    "def script():\n",
    "    \n",
    "    title = '### CLIRAD-LW'\n",
    "    s_input = 'Input Parameters'\n",
    "    s_lblnew_param = 'LBLNEW case compaired against'\n",
    "    s_bestfits = 'Best-fit Parameters'\n",
    "    s_plt_cooling = 'Cooling Rate Profiles'\n",
    "    s_tb_flux = 'Flux Comparison'\n",
    "    \n",
    "    # title\n",
    "    show_markdown('### CLIRAD-LW')\n",
    "    \n",
    "    # TOC\n",
    "    show_markdown('### Table of Contents')\n",
    "    show_html(climahtml.getHTML_hrefanchor(s_input))\n",
    "    show_html(climahtml.getHTML_hrefanchor(s_lblnew_param))\n",
    "    show_html(climahtml.getHTML_hrefanchor(s_plt_cooling))\n",
    "    show_html(climahtml.getHTML_hrefanchor(s_tb_flux))\n",
    "    show_html(climahtml.getHTML_hrefanchor(s_bestfits))\n",
    "    \n",
    "    # Input parameters\n",
    "    show_html(climahtml.getHTML_idanchor(s_input))\n",
    "    show_markdown(climahtml.getMarkdown_sectitle(s_input))\n",
    "    print_input_param()\n",
    "    \n",
    "    # LBLNEW parameters \n",
    "    show_html(climahtml.getHTML_idanchor(s_lblnew_param))\n",
    "    show_markdown(climahtml.getMarkdown_sectitle(s_lblnew_param))\n",
    "    print_lblnew_param()\n",
    "    \n",
    "    # Cooling rate profiles\n",
    "    show_html(climahtml.getHTML_idanchor(s_plt_cooling))\n",
    "    show_markdown(climahtml.getMarkdown_sectitle(s_plt_cooling))\n",
    "    script_plt_cooling()\n",
    "    \n",
    "    # Flux comparison\n",
    "    show_html(climahtml.getHTML_idanchor(s_tb_flux))\n",
    "    show_markdown(climahtml.getMarkdown_sectitle(s_tb_flux))\n",
    "    script_tb_flux()\n",
    "    \n",
    "    # Best-fit values\n",
    "    show_html(climahtml.getHTML_idanchor(s_bestfits))\n",
    "    show_markdown(climahtml.getMarkdown_sectitle(s_bestfits))\n",
    "    print_bestfit_params()\n",
    "   \n",
    "    "
   ]
  },
  {
   "cell_type": "code",
   "execution_count": 12,
   "metadata": {
    "collapsed": true,
    "scrolled": false
   },
   "outputs": [
    {
     "data": {
      "text/markdown": [
       "### CLIRAD-LW"
      ],
      "text/plain": [
       "<IPython.core.display.Markdown object>"
      ]
     },
     "metadata": {},
     "output_type": "display_data"
    },
    {
     "data": {
      "text/markdown": [
       "### Table of Contents"
      ],
      "text/plain": [
       "<IPython.core.display.Markdown object>"
      ]
     },
     "metadata": {},
     "output_type": "display_data"
    },
    {
     "data": {
      "text/html": [
       "<a href=\"#Input_Parameters\">Input Parameters</a>"
      ],
      "text/plain": [
       "<IPython.core.display.HTML object>"
      ]
     },
     "metadata": {},
     "output_type": "display_data"
    },
    {
     "data": {
      "text/html": [
       "<a href=\"#LBLNEW_case_compaired_against\">LBLNEW case compaired against</a>"
      ],
      "text/plain": [
       "<IPython.core.display.HTML object>"
      ]
     },
     "metadata": {},
     "output_type": "display_data"
    },
    {
     "data": {
      "text/html": [
       "<a href=\"#Cooling_Rate_Profiles\">Cooling Rate Profiles</a>"
      ],
      "text/plain": [
       "<IPython.core.display.HTML object>"
      ]
     },
     "metadata": {},
     "output_type": "display_data"
    },
    {
     "data": {
      "text/html": [
       "<a href=\"#Flux_Comparison\">Flux Comparison</a>"
      ],
      "text/plain": [
       "<IPython.core.display.HTML object>"
      ]
     },
     "metadata": {},
     "output_type": "display_data"
    },
    {
     "data": {
      "text/html": [
       "<a href=\"#Best-fit_Parameters\">Best-fit Parameters</a>"
      ],
      "text/plain": [
       "<IPython.core.display.HTML object>"
      ]
     },
     "metadata": {},
     "output_type": "display_data"
    },
    {
     "data": {
      "text/html": [
       "<a id=\"Input_Parameters\"></a>"
      ],
      "text/plain": [
       "<IPython.core.display.HTML object>"
      ]
     },
     "metadata": {},
     "output_type": "display_data"
    },
    {
     "data": {
      "text/markdown": [
       "# Input Parameters"
      ],
      "text/plain": [
       "<IPython.core.display.Markdown object>"
      ]
     },
     "metadata": {},
     "output_type": "display_data"
    },
    {
     "name": "stdout",
     "output_type": "stream",
     "text": [
      "atmpro = mls\n",
      "band = [4]\n",
      "commitnumber = de5d43e\n",
      "molecule = {'co2': 0.0004}\n",
      "tsfc = 294\n"
     ]
    },
    {
     "data": {
      "text/html": [
       "<a id=\"LBLNEW_case_compaired_against\"></a>"
      ],
      "text/plain": [
       "<IPython.core.display.HTML object>"
      ]
     },
     "metadata": {},
     "output_type": "display_data"
    },
    {
     "data": {
      "text/markdown": [
       "# LBLNEW case compaired against"
      ],
      "text/plain": [
       "<IPython.core.display.Markdown object>"
      ]
     },
     "metadata": {},
     "output_type": "display_data"
    },
    {
     "name": "stdout",
     "output_type": "stream",
     "text": [
      "atmpro = mls\n",
      "band = 3b\n",
      "commitnumber = a06b618\n",
      "conc = 0.0004\n",
      "dv = 0.001\n",
      "klin = 0\n",
      "molecule = co2\n",
      "ng_adju = [0, 0]\n",
      "ng_refs = [5, 2]\n",
      "nv = 1000\n",
      "option_compute_btable = 0\n",
      "option_compute_ktable = 0\n",
      "option_wgt_flux = 1\n",
      "option_wgt_k = 1\n",
      "ref_pts = [(1, 250), (10, 250)]\n",
      "tsfc = 294\n",
      "vmax = 720\n",
      "vmin = 620\n",
      "w_diffuse = [(1.66, 1.66, 1.66, 1.66, 1.66), (1.66, 1.66)]\n",
      "wgt = [(0, 0.6, 0.5, 0.7, 0.8), (0.8, 0.7)]\n"
     ]
    },
    {
     "data": {
      "text/html": [
       "<a id=\"Cooling_Rate_Profiles\"></a>"
      ],
      "text/plain": [
       "<IPython.core.display.HTML object>"
      ]
     },
     "metadata": {},
     "output_type": "display_data"
    },
    {
     "data": {
      "text/markdown": [
       "# Cooling Rate Profiles"
      ],
      "text/plain": [
       "<IPython.core.display.Markdown object>"
      ]
     },
     "metadata": {},
     "output_type": "display_data"
    },
    {
     "data": {
      "text/html": [
       "\n",
       "<div class=\"bk-root\">\n",
       "    <div class=\"bk-plotdiv\" id=\"8ae9b9fb-02b7-4995-8605-54fb5756424e\"></div>\n",
       "</div>"
      ]
     },
     "metadata": {},
     "output_type": "display_data"
    },
    {
     "data": {
      "application/javascript": [
       "(function(root) {\n",
       "  function embed_document(root) {\n",
       "    \n",
       "  var docs_json = {\"e75ef8cb-22f5-4a50-b65c-371d8c96855d\":{\"roots\":{\"references\":[{\"attributes\":{},\"id\":\"76de39dc-11c3-4be2-9b75-964da66ad803\",\"type\":\"ResetTool\"},{\"attributes\":{},\"id\":\"cbf47212-0d6f-4387-bc8c-166ee69b035a\",\"type\":\"LinearScale\"},{\"attributes\":{\"below\":[{\"id\":\"aa566122-5ce0-4bd8-af78-93e05b02b356\",\"type\":\"LinearAxis\"}],\"left\":[{\"id\":\"e565108d-8797-4ddb-95c2-742b628209ab\",\"type\":\"LinearAxis\"}],\"plot_height\":500,\"plot_width\":400,\"renderers\":[{\"id\":\"aa566122-5ce0-4bd8-af78-93e05b02b356\",\"type\":\"LinearAxis\"},{\"id\":\"3957d629-73c0-45b1-8dbf-ec3809b6603a\",\"type\":\"Grid\"},{\"id\":\"e565108d-8797-4ddb-95c2-742b628209ab\",\"type\":\"LinearAxis\"},{\"id\":\"18045021-a14c-432d-8f4e-e96fcf373c72\",\"type\":\"Grid\"},{\"id\":\"b8164d78-7535-42f0-9bc5-3af54b733de5\",\"type\":\"BoxAnnotation\"},{\"id\":\"9f300d4d-e7aa-4242-97fb-1ffc8d4c8e7f\",\"type\":\"GlyphRenderer\"},{\"id\":\"efa00c59-4af7-4cec-95a5-17d234879c83\",\"type\":\"GlyphRenderer\"},{\"id\":\"94fa62c8-11e0-401a-9d6f-37d36249f17d\",\"type\":\"GlyphRenderer\"},{\"id\":\"e46ec02a-6f6b-4600-bdbf-1bfe657d0aa6\",\"type\":\"GlyphRenderer\"},{\"id\":\"03edb4d0-712a-44db-a225-7141e4ed8d8f\",\"type\":\"GlyphRenderer\"}],\"title\":{\"id\":\"3502d2a3-d4ae-4a42-ab0d-b49a78a4b4fd\",\"type\":\"Title\"},\"toolbar\":{\"id\":\"205b629b-5f00-4554-9d38-9fc76fb84c03\",\"type\":\"Toolbar\"},\"toolbar_location\":null,\"x_range\":{\"id\":\"6e812ac7-4314-4e14-8ca5-fc636ab31a90\",\"type\":\"Range1d\"},\"x_scale\":{\"id\":\"6ed5a5f7-4be8-41cd-a8d5-2074d3aac747\",\"type\":\"LinearScale\"},\"y_range\":{\"id\":\"b179fa41-6d63-4562-8331-94f50a28ec1d\",\"type\":\"Range1d\"},\"y_scale\":{\"id\":\"cbf47212-0d6f-4387-bc8c-166ee69b035a\",\"type\":\"LinearScale\"}},\"id\":\"b4e9ef80-2495-4ac6-99c3-3d02ce63b542\",\"subtype\":\"Figure\",\"type\":\"Plot\"},{\"attributes\":{\"axis_label\":\"cooling rate [K/day]\",\"formatter\":{\"id\":\"1f68e66f-5cb3-43d0-83eb-4cfb7d4d558e\",\"type\":\"BasicTickFormatter\"},\"plot\":{\"id\":\"771b1c69-53c6-4103-932a-ad397139c8e1\",\"subtype\":\"Figure\",\"type\":\"Plot\"},\"ticker\":{\"id\":\"6c77c25f-494b-40de-83b8-f32c4a09bf52\",\"type\":\"BasicTicker\"}},\"id\":\"8efd3a82-76c6-42b3-95ce-707c7eb41efd\",\"type\":\"LinearAxis\"},{\"attributes\":{\"callback\":null,\"data\":{\"x\":{\"__ndarray__\":\"nrKarid0Q0D1o+GUufNAQDFETl/Prz9An62Dg72lPEDgap24HLc4QHXLDvEPEzRAV3OAYI5WLkAIHAk02EwlQPpysEhdtBxA9VIM6yEdFEAz06wikqcPQE+XxcTm8wpAtfrqqkBdBkA/2qRH+CP9P3Isc+OrF+4/2tn8ZDG28j+apEPxdFj+P9xtclNetgJARDS6g9jJBkDnJKXqaNYNQDj/CvTkTRRATHLAribXG0BkJeZZSVMhQAE1ECYgyR9ATaCIRQxrF0CEOCBTiOESQAy9D1GWyxBALa7xmezPC0BJyPYQQ4EFQNS4N79hkgFALiS7LexEAEDZLV0c8FT7P4/25AboY/M/rHUcHkYx6j/jBJ5ictbjP8IzHRG+fds/lWgkndxKzz9hrMoZ5XTBP2tToMapzHO/yBuqc1ZVxL+1BZ1zZKPCvwv/C4M3/Wi/qfhc+W7rrD9kOrHd9mqyP588ImInFbQ/bbGeBH08tT+haJqHfjO2P5JEilzLv7Y/obfW6dABtz8QC+9RA/a2P3nqPQcph7Y/V8u+p0lbtT9XX2LOYa6zP5vfOEJpnLE/9X8vAc8orz8B+zkclU+rP8Wg1N3Dxac/8OwoV0OlpD8POjwSnOuhP9I/k42fd58/XgGHeyXDmz9oAxjlhbOYP8/RcOvqZZY/EHEqVGKXlT9cMfvzb8KVP1gpOhu93Zg/dJkHoZ2CnT/Q8/jU6fSgP32by/uifqA/erK5b1fdmj8iXiW/SN+TP75eAU/Rxo4/d+L9rot/jD+OE0pS3jaRPxRPulCgn7U/\",\"dtype\":\"float64\",\"shape\":[75]},\"y\":{\"__ndarray__\":\"S/O/Q+51ND/Sv8nbtpRIP2vylNV0PVE/aTum7souWD/At0SJ8fVgPw3Iuahxymc/MSNhhJWvcD/bTfBN02d3P2zb5nxnaoA/CD5h5MAGhz8NmeH1TyaQP+zrCsc9p5Y/LbKd76fGnz/bLW5ISEmmPww9YvTcQq8/JV2OstnstT8Er5Y7M8G+P0c+r3jqkcU/5h99k6ZBzj88bCIzFzjVP4enV8oyxN0//yH99nXg5D8qOpLLf0jtP5kqGJXUifQ/c9cS8kHP/D+/DpwzojQEQIEmwoanVwxA4lgXt9HgE0BSSZ2AJuIbQAMJih9jjiNA5q4l5INuK0AwTKYKRj0zQNv5fmq8/DpAaCJseHrtQkB/+zpwzoxKQM3MzMzMeFJAZmZmZmZqWEAAAAAAAFxeQM3MzMzMJmJAmpmZmZkfZUBmZmZmZhhoQDMzMzMzEWtAAAAAAAAKbkBmZmZmZoFwQM3MzMzM/XFAMzMzMzN6c0CamZmZmfZ0QAAAAAAAc3ZAZmZmZmbvd0DNzMzMzGt5QDMzMzMz6HpAmpmZmZlkfEAAAAAAAOF9QGZmZmZmXX9AZmZmZuZsgECamZmZGSuBQM3MzMxM6YFAAAAAAICngkAzMzMzs2WDQGZmZmbmI4RAmpmZmRnihEDNzMzMTKCFQAAAAACAXoZAMzMzM7Mch0BmZmZm5tqHQJqZmZkZmYhAzczMzExXiUAAAAAAgBWKQDMzMzOz04pAZmZmZuaRi0CamZmZGVCMQM3MzMxMDo1AAAAAAIDMjUAzMzMzs4qOQGZmZmbmSI9A\",\"dtype\":\"float64\",\"shape\":[75]}},\"selected\":{\"id\":\"046c0a1f-4cee-47ac-bb1f-64bfd564c742\",\"type\":\"Selection\"},\"selection_policy\":{\"id\":\"f54d74c0-c8ee-402d-9792-f322d5ff3978\",\"type\":\"UnionRenderers\"}},\"id\":\"47f2298a-c5fd-4677-8ba9-bc029309be03\",\"type\":\"ColumnDataSource\"},{\"attributes\":{},\"id\":\"42b45a57-732c-488c-8bd0-68ace696558a\",\"type\":\"PanTool\"},{\"attributes\":{\"items\":[{\"id\":\"bb3023be-23f3-449f-b0de-af46442b8b53\",\"type\":\"LegendItem\"},{\"id\":\"2e500b1b-b998-4682-ae27-674546e0a996\",\"type\":\"LegendItem\"},{\"id\":\"b2714286-9916-477b-89da-095f60630d99\",\"type\":\"LegendItem\"}],\"label_text_font_size\":{\"value\":\"8pt\"},\"location\":[10,-30],\"plot\":{\"id\":\"771b1c69-53c6-4103-932a-ad397139c8e1\",\"subtype\":\"Figure\",\"type\":\"Plot\"}},\"id\":\"199cf720-599a-495e-9b33-d1c3c646d66b\",\"type\":\"Legend\"},{\"attributes\":{},\"id\":\"7d89de02-c733-4d25-ad37-78e265f52321\",\"type\":\"HelpTool\"},{\"attributes\":{\"plot\":{\"id\":\"b4e9ef80-2495-4ac6-99c3-3d02ce63b542\",\"subtype\":\"Figure\",\"type\":\"Plot\"},\"ticker\":{\"id\":\"7527c919-4bcf-4ace-aa5b-9f8d9d4f6261\",\"type\":\"BasicTicker\"}},\"id\":\"3957d629-73c0-45b1-8dbf-ec3809b6603a\",\"type\":\"Grid\"},{\"attributes\":{},\"id\":\"bf256aff-2d98-4a85-a974-bfd5eb8bb576\",\"type\":\"PanTool\"},{\"attributes\":{},\"id\":\"a96e22d4-ac93-4e33-b19f-354506ac36b5\",\"type\":\"LogScale\"},{\"attributes\":{\"data_source\":{\"id\":\"47f2298a-c5fd-4677-8ba9-bc029309be03\",\"type\":\"ColumnDataSource\"},\"glyph\":{\"id\":\"04df3561-04d3-4627-bd51-fb9f20239894\",\"type\":\"Line\"},\"hover_glyph\":null,\"muted_glyph\":null,\"nonselection_glyph\":{\"id\":\"eb05c992-8e6f-4bde-9121-155e8a4f4182\",\"type\":\"Line\"},\"selection_glyph\":null,\"view\":{\"id\":\"0280666d-4552-4146-9866-75743ea49e0f\",\"type\":\"CDSView\"}},\"id\":\"9f300d4d-e7aa-4242-97fb-1ffc8d4c8e7f\",\"type\":\"GlyphRenderer\"},{\"attributes\":{\"callback\":null,\"data\":{\"x\":{\"__ndarray__\":\"JW0VToCuRUBxVi0QY29BQErOgjevwj9ABphXk0sWPEBWsEbppOY3QADGrqVwcDNAYwUhizEaLkC7+CiOUD8mQJTmUDSV7R9ANwAydrMsF0Apzn5dHqsRQIpGWIvyRwxAusWjc0oyBkDIq1TzxUD7P0L6qn6vvOk/ohI1WpDK8T+Npvo1u2v/P56h7puWMgRAkGfVmA7ZCEDdRIQ7q5MPQE3oI6n7qRRAF9gdcj62G0DB3y9my1QhQG/I9sqSSyBAqxW8HWeRGEAzL1b0dXsTQLEJh5p8lhBAMsUVuPm3C0CFZQAoPk8GQHccDf3TZQJAgv37CqjR/z+Vi1YJ7er5P3XoW5H4B/M/zww+K/Id6z8e4urZsSzjPxfiX8KGjNg/cBsVO+lpzT+9OWiGuBXDP/wKWOJDkJA/yLr+3sASwr/ylF8Wh5zBv+gRxrdU622/bPRh/SCCqz94mua/ReKxP/+gidJmirM/gPys6dRntD+9mb6zvw21P+5iYS2Xe7U/vuEZh864tT+c/35YwsW1P5yVqNTLe7U/h9xR+1W0tD8+iM8U9GWzP9kAOrpSvrE/61WonlcJsD+78uL0s9isPyhIosB90qk/780DE+kSpz8yBOjHiZykP5bOiiqAX6I/f4rQQjVvoD/P2t6KHaOdPxlhxWYbLJs/PJoD6fC3mT8KloIL0b+ZP1C28+WbE5w/cMUCn0RJoD+Cz8c+YC6iPyLkLM8op6E/zp8zw1krnT9IuPuTsjOWPwPkvWMw5ZE/k6AaB6RqkD986GNloA6TP5oD09iz9LU/\",\"dtype\":\"float64\",\"shape\":[75]},\"y\":{\"__ndarray__\":\"GhExyth1ND/Sv8nbtpRIP2vylNV0PVE/aTum7souWD/At0SJ8fVgPw3Iuahxymc/MSNhhJWvcD/bTfBN02d3P2zb5nxnaoA/CD5h5MAGhz8NmeH1TyaQP+zrCsc9p5Y/LbKd76fGnz/bLW5ISEmmPww9YvTcQq8/JV2OstnstT8Er5Y7M8G+P0c+r3jqkcU/5h99k6ZBzj88bCIzFzjVP4enV8oyxN0//yH99nXg5D8qOpLLf0jtP5kqGJXUifQ/c9cS8kHP/D+/DpwzojQEQIEmwoanVwxA4lgXt9HgE0BSSZ2AJuIbQAMJih9jjiNA5q4l5INuK0AwTKYKRj0zQNv5fmq8/DpAaCJseHrtQkB/+zpwzoxKQM3MzMzMeFJAZmZmZmZqWEAAAAAAAFxeQM3MzMzMJmJAmpmZmZkfZUBmZmZmZhhoQDMzMzMzEWtAAAAAAAAKbkBmZmZmZoFwQM3MzMzM/XFAMzMzMzN6c0CamZmZmfZ0QAAAAAAAc3ZAZmZmZmbvd0DNzMzMzGt5QDMzMzMz6HpAmpmZmZlkfEAAAAAAAOF9QGZmZmZmXX9AZmZmZuZsgECamZmZGSuBQM3MzMxM6YFAAAAAAICngkAzMzMzs2WDQGZmZmbmI4RAmpmZmRnihEDNzMzMTKCFQAAAAACAXoZAMzMzM7Mch0BmZmZm5tqHQJqZmZkZmYhAzczMzExXiUAAAAAAgBWKQDMzMzOz04pAZmZmZuaRi0CamZmZGVCMQM3MzMxMDo1AAAAAAIDMjUAzMzMzs4qOQGZmZmbmSI9A\",\"dtype\":\"float64\",\"shape\":[75]}},\"selected\":{\"id\":\"523492dd-c9c0-4f0b-8aa4-1d4a46288dc8\",\"type\":\"Selection\"},\"selection_policy\":{\"id\":\"fd25c5c3-4a29-4eec-956a-61c253217c86\",\"type\":\"UnionRenderers\"}},\"id\":\"effb0387-8c7d-4aff-b3fc-fc8d960455e2\",\"type\":\"ColumnDataSource\"},{\"attributes\":{\"source\":{\"id\":\"47752ebb-0c6c-488e-9b5e-ebb139402158\",\"type\":\"ColumnDataSource\"}},\"id\":\"3e3fd795-1e30-4759-9dd3-65e0ba3a3e17\",\"type\":\"CDSView\"},{\"attributes\":{\"callback\":null,\"end\":0.01,\"start\":1020},\"id\":\"601af10f-b85d-424d-a2a9-7a837800dd98\",\"type\":\"Range1d\"},{\"attributes\":{},\"id\":\"2a3196f2-ec94-4458-bbe6-8546fae0ce66\",\"type\":\"BasicTicker\"},{\"attributes\":{\"num_minor_ticks\":10},\"id\":\"b6dc362c-ad31-48f0-9812-b26bd2782504\",\"type\":\"LogTicker\"},{\"attributes\":{},\"id\":\"2fea1742-4dea-4d0a-9985-5bbc8d96fc32\",\"type\":\"LinearScale\"},{\"attributes\":{\"plot\":{\"id\":\"771b1c69-53c6-4103-932a-ad397139c8e1\",\"subtype\":\"Figure\",\"type\":\"Plot\"},\"ticker\":{\"id\":\"6c77c25f-494b-40de-83b8-f32c4a09bf52\",\"type\":\"BasicTicker\"}},\"id\":\"58d4fc60-495a-439f-987e-a7b72dfb7b09\",\"type\":\"Grid\"},{\"attributes\":{\"bottom_units\":\"screen\",\"fill_alpha\":{\"value\":0.5},\"fill_color\":{\"value\":\"lightgrey\"},\"left_units\":\"screen\",\"level\":\"overlay\",\"line_alpha\":{\"value\":1.0},\"line_color\":{\"value\":\"black\"},\"line_dash\":[4,4],\"line_width\":{\"value\":2},\"plot\":null,\"render_mode\":\"css\",\"right_units\":\"screen\",\"top_units\":\"screen\"},\"id\":\"d8cae321-fd21-4677-852b-4c658b70fe84\",\"type\":\"BoxAnnotation\"},{\"attributes\":{\"callback\":null,\"end\":0.01,\"start\":1020},\"id\":\"b179fa41-6d63-4562-8331-94f50a28ec1d\",\"type\":\"Range1d\"},{\"attributes\":{\"active_drag\":\"auto\",\"active_inspect\":\"auto\",\"active_scroll\":\"auto\",\"active_tap\":\"auto\",\"tools\":[{\"id\":\"42b45a57-732c-488c-8bd0-68ace696558a\",\"type\":\"PanTool\"},{\"id\":\"7cce9850-0e59-45a5-93c1-68c4f53dfbfa\",\"type\":\"WheelZoomTool\"},{\"id\":\"e652820a-d827-425f-bfd9-393bdd5b05a2\",\"type\":\"BoxZoomTool\"},{\"id\":\"434ab9a5-0120-436c-85aa-51dbfef0f4c0\",\"type\":\"SaveTool\"},{\"id\":\"76de39dc-11c3-4be2-9b75-964da66ad803\",\"type\":\"ResetTool\"},{\"id\":\"7d89de02-c733-4d25-ad37-78e265f52321\",\"type\":\"HelpTool\"}]},\"id\":\"d0b891ff-aae3-46d6-8bb3-92bfef78ff58\",\"type\":\"Toolbar\"},{\"attributes\":{\"axis_label\":\"pressure [mb]\",\"formatter\":{\"id\":\"04978e8e-8e24-4fbc-8c59-3d8acade2371\",\"type\":\"BasicTickFormatter\"},\"plot\":{\"id\":\"b4e9ef80-2495-4ac6-99c3-3d02ce63b542\",\"subtype\":\"Figure\",\"type\":\"Plot\"},\"ticker\":{\"id\":\"2a3196f2-ec94-4458-bbe6-8546fae0ce66\",\"type\":\"BasicTicker\"}},\"id\":\"e565108d-8797-4ddb-95c2-742b628209ab\",\"type\":\"LinearAxis\"},{\"attributes\":{\"line_alpha\":0.1,\"line_color\":\"#1f77b4\",\"line_dash\":[6],\"line_width\":5,\"x\":{\"field\":\"x\"},\"y\":{\"field\":\"y\"}},\"id\":\"d2a330a6-1127-4a07-be61-48f0e0123f83\",\"type\":\"Line\"},{\"attributes\":{\"axis_label\":\"cooling rate [K/day]\",\"formatter\":{\"id\":\"d97110de-760c-43f5-b66c-3f8c64a68e6b\",\"type\":\"BasicTickFormatter\"},\"plot\":{\"id\":\"b4e9ef80-2495-4ac6-99c3-3d02ce63b542\",\"subtype\":\"Figure\",\"type\":\"Plot\"},\"ticker\":{\"id\":\"7527c919-4bcf-4ace-aa5b-9f8d9d4f6261\",\"type\":\"BasicTicker\"}},\"id\":\"aa566122-5ce0-4bd8-af78-93e05b02b356\",\"type\":\"LinearAxis\"},{\"attributes\":{\"fill_alpha\":{\"value\":0.1},\"fill_color\":{\"value\":\"#1f77b4\"},\"line_alpha\":{\"value\":0.1},\"line_color\":{\"value\":\"#1f77b4\"},\"x\":{\"field\":\"x\"},\"y\":{\"field\":\"y\"}},\"id\":\"a1ff2e36-8b24-4ebc-aebe-db7f9856fd5b\",\"type\":\"Square\"},{\"attributes\":{},\"id\":\"6ed5a5f7-4be8-41cd-a8d5-2074d3aac747\",\"type\":\"LinearScale\"},{\"attributes\":{},\"id\":\"434ab9a5-0120-436c-85aa-51dbfef0f4c0\",\"type\":\"SaveTool\"},{\"attributes\":{\"callback\":null,\"end\":0.6277154089,\"start\":-0.1666421189},\"id\":\"6e812ac7-4314-4e14-8ca5-fc636ab31a90\",\"type\":\"Range1d\"},{\"attributes\":{},\"id\":\"7527c919-4bcf-4ace-aa5b-9f8d9d4f6261\",\"type\":\"BasicTicker\"},{\"attributes\":{\"callback\":null,\"data\":{\"x\":{\"__ndarray__\":\"nrKarid0Q0D1o+GUufNAQDFETl/Prz9An62Dg72lPEDgap24HLc4QHXLDvEPEzRAV3OAYI5WLkAIHAk02EwlQPpysEhdtBxA9VIM6yEdFEAz06wikqcPQE+XxcTm8wpAtfrqqkBdBkA/2qRH+CP9P3Isc+OrF+4/2tn8ZDG28j+apEPxdFj+P9xtclNetgJARDS6g9jJBkDnJKXqaNYNQDj/CvTkTRRATHLAribXG0BkJeZZSVMhQAE1ECYgyR9ATaCIRQxrF0CEOCBTiOESQAy9D1GWyxBALa7xmezPC0BJyPYQQ4EFQNS4N79hkgFALiS7LexEAEDZLV0c8FT7P4/25AboY/M/rHUcHkYx6j/jBJ5ictbjP8IzHRG+fds/lWgkndxKzz9hrMoZ5XTBP2tToMapzHO/yBuqc1ZVxL+1BZ1zZKPCvwv/C4M3/Wi/qfhc+W7rrD9kOrHd9mqyP588ImInFbQ/bbGeBH08tT+haJqHfjO2P5JEilzLv7Y/obfW6dABtz8QC+9RA/a2P3nqPQcph7Y/V8u+p0lbtT9XX2LOYa6zP5vfOEJpnLE/9X8vAc8orz8B+zkclU+rP8Wg1N3Dxac/8OwoV0OlpD8POjwSnOuhP9I/k42fd58/XgGHeyXDmz9oAxjlhbOYP8/RcOvqZZY/EHEqVGKXlT9cMfvzb8KVP1gpOhu93Zg/dJkHoZ2CnT/Q8/jU6fSgP32by/uifqA/erK5b1fdmj8iXiW/SN+TP75eAU/Rxo4/d+L9rot/jD+OE0pS3jaRPxRPulCgn7U/\",\"dtype\":\"float64\",\"shape\":[75]},\"y\":{\"__ndarray__\":\"S/O/Q+51ND/Sv8nbtpRIP2vylNV0PVE/aTum7souWD/At0SJ8fVgPw3Iuahxymc/MSNhhJWvcD/bTfBN02d3P2zb5nxnaoA/CD5h5MAGhz8NmeH1TyaQP+zrCsc9p5Y/LbKd76fGnz/bLW5ISEmmPww9YvTcQq8/JV2OstnstT8Er5Y7M8G+P0c+r3jqkcU/5h99k6ZBzj88bCIzFzjVP4enV8oyxN0//yH99nXg5D8qOpLLf0jtP5kqGJXUifQ/c9cS8kHP/D+/DpwzojQEQIEmwoanVwxA4lgXt9HgE0BSSZ2AJuIbQAMJih9jjiNA5q4l5INuK0AwTKYKRj0zQNv5fmq8/DpAaCJseHrtQkB/+zpwzoxKQM3MzMzMeFJAZmZmZmZqWEAAAAAAAFxeQM3MzMzMJmJAmpmZmZkfZUBmZmZmZhhoQDMzMzMzEWtAAAAAAAAKbkBmZmZmZoFwQM3MzMzM/XFAMzMzMzN6c0CamZmZmfZ0QAAAAAAAc3ZAZmZmZmbvd0DNzMzMzGt5QDMzMzMz6HpAmpmZmZlkfEAAAAAAAOF9QGZmZmZmXX9AZmZmZuZsgECamZmZGSuBQM3MzMxM6YFAAAAAAICngkAzMzMzs2WDQGZmZmbmI4RAmpmZmRnihEDNzMzMTKCFQAAAAACAXoZAMzMzM7Mch0BmZmZm5tqHQJqZmZkZmYhAzczMzExXiUAAAAAAgBWKQDMzMzOz04pAZmZmZuaRi0CamZmZGVCMQM3MzMxMDo1AAAAAAIDMjUAzMzMzs4qOQGZmZmbmSI9A\",\"dtype\":\"float64\",\"shape\":[75]}},\"selected\":{\"id\":\"d115a0ed-37a4-4185-aa29-32ec255af2c5\",\"type\":\"Selection\"},\"selection_policy\":{\"id\":\"c22875ee-e9e3-4235-82b5-9d0c85858470\",\"type\":\"UnionRenderers\"}},\"id\":\"34782166-3371-436d-9384-9010afe4661d\",\"type\":\"ColumnDataSource\"},{\"attributes\":{\"dimension\":1,\"plot\":{\"id\":\"771b1c69-53c6-4103-932a-ad397139c8e1\",\"subtype\":\"Figure\",\"type\":\"Plot\"},\"ticker\":{\"id\":\"b6dc362c-ad31-48f0-9812-b26bd2782504\",\"type\":\"LogTicker\"}},\"id\":\"615a2806-a124-435e-a1f1-9d82b7d55a7d\",\"type\":\"Grid\"},{\"attributes\":{},\"id\":\"7cce9850-0e59-45a5-93c1-68c4f53dfbfa\",\"type\":\"WheelZoomTool\"},{\"attributes\":{\"data_source\":{\"id\":\"47752ebb-0c6c-488e-9b5e-ebb139402158\",\"type\":\"ColumnDataSource\"},\"glyph\":{\"id\":\"e24d559d-2487-4e5b-b05b-791aaf20c498\",\"type\":\"Square\"},\"hover_glyph\":null,\"muted_glyph\":null,\"nonselection_glyph\":{\"id\":\"a1ff2e36-8b24-4ebc-aebe-db7f9856fd5b\",\"type\":\"Square\"},\"selection_glyph\":null,\"view\":{\"id\":\"3e3fd795-1e30-4759-9dd3-65e0ba3a3e17\",\"type\":\"CDSView\"}},\"id\":\"7d8c8b04-b43c-402d-b17b-1e75d8bce1bf\",\"type\":\"GlyphRenderer\"},{\"attributes\":{\"active_drag\":\"auto\",\"active_inspect\":\"auto\",\"active_scroll\":\"auto\",\"active_tap\":\"auto\",\"tools\":[{\"id\":\"bf256aff-2d98-4a85-a974-bfd5eb8bb576\",\"type\":\"PanTool\"},{\"id\":\"ab83b00a-dd40-479f-a203-0c5c3232fd6e\",\"type\":\"WheelZoomTool\"},{\"id\":\"e32e7cac-5d41-47a6-bbbd-7af75a60a2f0\",\"type\":\"BoxZoomTool\"},{\"id\":\"76767a63-0278-4de9-9f4d-f586851e2ab2\",\"type\":\"SaveTool\"},{\"id\":\"9351bbb8-3498-41b9-ae20-3ffb70c88cf7\",\"type\":\"ResetTool\"},{\"id\":\"4996f2cd-da69-4929-811e-3c15061e0102\",\"type\":\"HelpTool\"}]},\"id\":\"205b629b-5f00-4554-9d38-9fc76fb84c03\",\"type\":\"Toolbar\"},{\"attributes\":{\"callback\":null,\"end\":8.753858998624999,\"start\":-0.24709898612499998},\"id\":\"58bbfd7f-9e47-4489-98e6-52777495e6e4\",\"type\":\"Range1d\"},{\"attributes\":{\"plot\":null,\"text\":\"Linear pressure scale\"},\"id\":\"3502d2a3-d4ae-4a42-ab0d-b49a78a4b4fd\",\"type\":\"Title\"},{\"attributes\":{\"data_source\":{\"id\":\"bf3d1b4e-6385-4cea-a5a1-f1713ec8c742\",\"type\":\"ColumnDataSource\"},\"glyph\":{\"id\":\"dbdc8db7-ba20-4cae-b027-9eaa582d1349\",\"type\":\"Line\"},\"hover_glyph\":null,\"muted_glyph\":null,\"nonselection_glyph\":{\"id\":\"2c886e9f-e7f2-4e57-826e-6741c8df6159\",\"type\":\"Line\"},\"selection_glyph\":null,\"view\":{\"id\":\"8205eb43-fa04-47d7-a378-e55122ebb16a\",\"type\":\"CDSView\"}},\"id\":\"03edb4d0-712a-44db-a225-7141e4ed8d8f\",\"type\":\"GlyphRenderer\"},{\"attributes\":{\"plot\":null,\"text\":\"Log pressure scale\"},\"id\":\"4b59e3b6-4b57-468e-8c2f-df9a1c766a2c\",\"type\":\"Title\"},{\"attributes\":{\"axis_label\":\"pressure [mb]\",\"formatter\":{\"id\":\"56b7739a-a8a6-4235-a72b-067b254ffb0d\",\"type\":\"LogTickFormatter\"},\"plot\":{\"id\":\"771b1c69-53c6-4103-932a-ad397139c8e1\",\"subtype\":\"Figure\",\"type\":\"Plot\"},\"ticker\":{\"id\":\"b6dc362c-ad31-48f0-9812-b26bd2782504\",\"type\":\"LogTicker\"}},\"id\":\"c12b1ddf-de34-4e38-993b-04974671a5a5\",\"type\":\"LogAxis\"},{\"attributes\":{\"overlay\":{\"id\":\"b8164d78-7535-42f0-9bc5-3af54b733de5\",\"type\":\"BoxAnnotation\"}},\"id\":\"e32e7cac-5d41-47a6-bbbd-7af75a60a2f0\",\"type\":\"BoxZoomTool\"},{\"attributes\":{\"dimension\":1,\"plot\":{\"id\":\"b4e9ef80-2495-4ac6-99c3-3d02ce63b542\",\"subtype\":\"Figure\",\"type\":\"Plot\"},\"ticker\":{\"id\":\"2a3196f2-ec94-4458-bbe6-8546fae0ce66\",\"type\":\"BasicTicker\"}},\"id\":\"18045021-a14c-432d-8f4e-e96fcf373c72\",\"type\":\"Grid\"},{\"attributes\":{\"overlay\":{\"id\":\"d8cae321-fd21-4677-852b-4c658b70fe84\",\"type\":\"BoxAnnotation\"}},\"id\":\"e652820a-d827-425f-bfd9-393bdd5b05a2\",\"type\":\"BoxZoomTool\"},{\"attributes\":{\"line_alpha\":0.1,\"line_color\":\"#1f77b4\",\"line_dash\":[6],\"line_width\":5,\"x\":{\"field\":\"x\"},\"y\":{\"field\":\"y\"}},\"id\":\"eb05c992-8e6f-4bde-9121-155e8a4f4182\",\"type\":\"Line\"},{\"attributes\":{\"source\":{\"id\":\"47f2298a-c5fd-4677-8ba9-bc029309be03\",\"type\":\"ColumnDataSource\"}},\"id\":\"0280666d-4552-4146-9866-75743ea49e0f\",\"type\":\"CDSView\"},{\"attributes\":{\"below\":[{\"id\":\"8efd3a82-76c6-42b3-95ce-707c7eb41efd\",\"type\":\"LinearAxis\"}],\"left\":[{\"id\":\"c12b1ddf-de34-4e38-993b-04974671a5a5\",\"type\":\"LogAxis\"}],\"plot_height\":500,\"plot_width\":560,\"renderers\":[{\"id\":\"8efd3a82-76c6-42b3-95ce-707c7eb41efd\",\"type\":\"LinearAxis\"},{\"id\":\"58d4fc60-495a-439f-987e-a7b72dfb7b09\",\"type\":\"Grid\"},{\"id\":\"c12b1ddf-de34-4e38-993b-04974671a5a5\",\"type\":\"LogAxis\"},{\"id\":\"615a2806-a124-435e-a1f1-9d82b7d55a7d\",\"type\":\"Grid\"},{\"id\":\"d8cae321-fd21-4677-852b-4c658b70fe84\",\"type\":\"BoxAnnotation\"},{\"id\":\"9872c3e4-2489-434d-b4b5-d0192f2f9b52\",\"type\":\"GlyphRenderer\"},{\"id\":\"e5296423-77d3-4680-b09a-495089a58af9\",\"type\":\"GlyphRenderer\"},{\"id\":\"7fc053c7-b1a5-45a9-a989-77d4711d27d9\",\"type\":\"GlyphRenderer\"},{\"id\":\"7d8c8b04-b43c-402d-b17b-1e75d8bce1bf\",\"type\":\"GlyphRenderer\"},{\"id\":\"703ea084-3709-4264-b46e-731052ee6220\",\"type\":\"GlyphRenderer\"},{\"id\":\"199cf720-599a-495e-9b33-d1c3c646d66b\",\"type\":\"Legend\"}],\"right\":[{\"id\":\"199cf720-599a-495e-9b33-d1c3c646d66b\",\"type\":\"Legend\"}],\"title\":{\"id\":\"4b59e3b6-4b57-468e-8c2f-df9a1c766a2c\",\"type\":\"Title\"},\"toolbar\":{\"id\":\"d0b891ff-aae3-46d6-8bb3-92bfef78ff58\",\"type\":\"Toolbar\"},\"toolbar_location\":null,\"x_range\":{\"id\":\"58bbfd7f-9e47-4489-98e6-52777495e6e4\",\"type\":\"Range1d\"},\"x_scale\":{\"id\":\"2fea1742-4dea-4d0a-9985-5bbc8d96fc32\",\"type\":\"LinearScale\"},\"y_range\":{\"id\":\"601af10f-b85d-424d-a2a9-7a837800dd98\",\"type\":\"Range1d\"},\"y_scale\":{\"id\":\"a96e22d4-ac93-4e33-b19f-354506ac36b5\",\"type\":\"LogScale\"}},\"id\":\"771b1c69-53c6-4103-932a-ad397139c8e1\",\"subtype\":\"Figure\",\"type\":\"Plot\"},{\"attributes\":{\"fill_alpha\":{\"value\":0.7},\"fill_color\":{\"value\":\"#984ea3\"},\"line_alpha\":{\"value\":0.7},\"line_color\":{\"value\":\"#984ea3\"},\"x\":{\"field\":\"x\"},\"y\":{\"field\":\"y\"}},\"id\":\"e24d559d-2487-4e5b-b05b-791aaf20c498\",\"type\":\"Square\"},{\"attributes\":{\"line_alpha\":0.6,\"line_color\":\"#984ea3\",\"line_width\":3,\"x\":{\"field\":\"x\"},\"y\":{\"field\":\"y\"}},\"id\":\"dbdc8db7-ba20-4cae-b027-9eaa582d1349\",\"type\":\"Line\"},{\"attributes\":{\"line_alpha\":0.1,\"line_color\":\"#1f77b4\",\"line_width\":3,\"x\":{\"field\":\"x\"},\"y\":{\"field\":\"y\"}},\"id\":\"2c886e9f-e7f2-4e57-826e-6741c8df6159\",\"type\":\"Line\"},{\"attributes\":{},\"id\":\"76767a63-0278-4de9-9f4d-f586851e2ab2\",\"type\":\"SaveTool\"},{\"attributes\":{\"source\":{\"id\":\"bf3d1b4e-6385-4cea-a5a1-f1713ec8c742\",\"type\":\"ColumnDataSource\"}},\"id\":\"8205eb43-fa04-47d7-a378-e55122ebb16a\",\"type\":\"CDSView\"},{\"attributes\":{},\"id\":\"6c77c25f-494b-40de-83b8-f32c4a09bf52\",\"type\":\"BasicTicker\"},{\"attributes\":{},\"id\":\"ab83b00a-dd40-479f-a203-0c5c3232fd6e\",\"type\":\"WheelZoomTool\"},{\"attributes\":{\"data_source\":{\"id\":\"41853d0c-2e26-4e2e-b0b5-edc8a03b40ec\",\"type\":\"ColumnDataSource\"},\"glyph\":{\"id\":\"a062253f-0657-46d4-ae3b-d9339171bebd\",\"type\":\"Circle\"},\"hover_glyph\":null,\"muted_glyph\":null,\"nonselection_glyph\":{\"id\":\"56bf9623-ec7a-4c33-8085-b6ed0b365d28\",\"type\":\"Circle\"},\"selection_glyph\":null,\"view\":{\"id\":\"a9c24d9d-7272-4869-b30a-f58e818f8186\",\"type\":\"CDSView\"}},\"id\":\"efa00c59-4af7-4cec-95a5-17d234879c83\",\"type\":\"GlyphRenderer\"},{\"attributes\":{},\"id\":\"7b8b677e-7ef6-4b64-9b45-25ac0adcd2d3\",\"type\":\"UnionRenderers\"},{\"attributes\":{\"toolbar\":{\"id\":\"114584f1-a4d5-4f32-a6a0-0448aad51df6\",\"type\":\"ProxyToolbar\"},\"toolbar_location\":\"above\"},\"id\":\"e3e5c5c8-4240-40ce-b356-d7c56709d7e4\",\"type\":\"ToolbarBox\"},{\"attributes\":{},\"id\":\"56904a50-d299-4f56-99ae-7e17999a709c\",\"type\":\"Selection\"},{\"attributes\":{\"fill_alpha\":{\"value\":0.7},\"fill_color\":{\"value\":\"#4daf4a\"},\"line_alpha\":{\"value\":0.7},\"line_color\":{\"value\":\"#4daf4a\"},\"x\":{\"field\":\"x\"},\"y\":{\"field\":\"y\"}},\"id\":\"e4c503d8-1027-4c81-a117-a8f8c7c7cc35\",\"type\":\"Circle\"},{\"attributes\":{},\"id\":\"fd25c5c3-4a29-4eec-956a-61c253217c86\",\"type\":\"UnionRenderers\"},{\"attributes\":{\"line_alpha\":0.1,\"line_color\":\"#1f77b4\",\"line_width\":3,\"x\":{\"field\":\"x\"},\"y\":{\"field\":\"y\"}},\"id\":\"e3a5402c-4d44-459f-8f6f-8153c5bc8ee5\",\"type\":\"Line\"},{\"attributes\":{},\"id\":\"523492dd-c9c0-4f0b-8aa4-1d4a46288dc8\",\"type\":\"Selection\"},{\"attributes\":{\"children\":[{\"id\":\"e3e5c5c8-4240-40ce-b356-d7c56709d7e4\",\"type\":\"ToolbarBox\"},{\"id\":\"61c0123b-e4f2-45ec-8199-976555fd0e62\",\"type\":\"Column\"}]},\"id\":\"c3a47566-c68e-48b1-b7dd-95482f3c4dcd\",\"type\":\"Column\"},{\"attributes\":{},\"id\":\"4996f2cd-da69-4929-811e-3c15061e0102\",\"type\":\"HelpTool\"},{\"attributes\":{\"bottom_units\":\"screen\",\"fill_alpha\":{\"value\":0.5},\"fill_color\":{\"value\":\"lightgrey\"},\"left_units\":\"screen\",\"level\":\"overlay\",\"line_alpha\":{\"value\":1.0},\"line_color\":{\"value\":\"black\"},\"line_dash\":[4,4],\"line_width\":{\"value\":2},\"plot\":null,\"render_mode\":\"css\",\"right_units\":\"screen\",\"top_units\":\"screen\"},\"id\":\"b8164d78-7535-42f0-9bc5-3af54b733de5\",\"type\":\"BoxAnnotation\"},{\"attributes\":{\"tools\":[{\"id\":\"bf256aff-2d98-4a85-a974-bfd5eb8bb576\",\"type\":\"PanTool\"},{\"id\":\"ab83b00a-dd40-479f-a203-0c5c3232fd6e\",\"type\":\"WheelZoomTool\"},{\"id\":\"e32e7cac-5d41-47a6-bbbd-7af75a60a2f0\",\"type\":\"BoxZoomTool\"},{\"id\":\"76767a63-0278-4de9-9f4d-f586851e2ab2\",\"type\":\"SaveTool\"},{\"id\":\"9351bbb8-3498-41b9-ae20-3ffb70c88cf7\",\"type\":\"ResetTool\"},{\"id\":\"4996f2cd-da69-4929-811e-3c15061e0102\",\"type\":\"HelpTool\"},{\"id\":\"42b45a57-732c-488c-8bd0-68ace696558a\",\"type\":\"PanTool\"},{\"id\":\"7cce9850-0e59-45a5-93c1-68c4f53dfbfa\",\"type\":\"WheelZoomTool\"},{\"id\":\"e652820a-d827-425f-bfd9-393bdd5b05a2\",\"type\":\"BoxZoomTool\"},{\"id\":\"434ab9a5-0120-436c-85aa-51dbfef0f4c0\",\"type\":\"SaveTool\"},{\"id\":\"76de39dc-11c3-4be2-9b75-964da66ad803\",\"type\":\"ResetTool\"},{\"id\":\"7d89de02-c733-4d25-ad37-78e265f52321\",\"type\":\"HelpTool\"}]},\"id\":\"114584f1-a4d5-4f32-a6a0-0448aad51df6\",\"type\":\"ProxyToolbar\"},{\"attributes\":{\"callback\":null,\"data\":{\"x\":{\"__ndarray__\":\"rp6T3jcuU0DeyDzyB3tEQH+ismFNhUBAhXzQs1ktOkAI5BJHHnQ0QG9iSE4mxi9AqVDdXPy1KEAdXDrmPFcjQOa7Si1Khx5Abygh/Zs8GECqiyX2GjQTQEgVxaus3Q1ARTni2pruBUAomgewyI/4P1V2bphw4eM/zrv7LUsl8D94exAC8qX/P2OL7moDYQVA7vIIyV3PCkD7QiMzcokQQCMQr+sXhBRAhL5PsFqsGkCtdfOeFNMgQLxkd9xLOSBArBm+KrwwGUDSHFn5ZagTQDHNGfYgeQ9AAvxk1pydCUAOJx9xflkFQGDObFfo8wFAP2q4bYQq/T/3vgLivyr2P/j/ccKE0fA/GakYYzde6j8fdjJ6ZnDiP6Qn+rY/W9Q/QVwg3saoxj/dpYHduN7AP1cKNc6csaA/tU9LnKq1ub/8p66LwZS4vwaZe4CiPZg/35N1op5qsz8FmtcqJI23PxnBRXXaHbk/VuQzgIeHuT/JKYghPFG5P3KESUfywrg/wQlNXtkPuD8O3q3l+023P/k1E4X2Z7Y/lsysA/I1tT+F+7w6q6uzP35eOqva9bE/kUdUzjVRsD+/DHCIi7itPy4Bav08LKs/GuOxCaryqD9cvvgZTACnP88RRb3qRaU/OjHfUrLCoz/pMKN7fX2iPzFQpagrhqE/pqf6WyP+oD/+jCldnCahPwugLD0ZaqI/ECDH/7K1pD+jHAmK2I2mP3mRwiKq46U/gjcbYCOfoj+xmmVRA8adP8JXZ8EzvZg/2UABrkABlz8xgkfNtzuaP8xe/XJCdbc/\",\"dtype\":\"float64\",\"shape\":[75]},\"y\":{\"__ndarray__\":\"GhExyth1ND/Sv8nbtpRIP2vylNV0PVE/aTum7souWD/At0SJ8fVgPw3Iuahxymc/MSNhhJWvcD/bTfBN02d3P2zb5nxnaoA/CD5h5MAGhz8NmeH1TyaQP+zrCsc9p5Y/LbKd76fGnz/bLW5ISEmmPww9YvTcQq8/JV2OstnstT8Er5Y7M8G+P0c+r3jqkcU/5h99k6ZBzj88bCIzFzjVP4enV8oyxN0//yH99nXg5D8qOpLLf0jtP5kqGJXUifQ/c9cS8kHP/D+/DpwzojQEQIEmwoanVwxA4lgXt9HgE0BSSZ2AJuIbQAMJih9jjiNA5q4l5INuK0AwTKYKRj0zQNv5fmq8/DpAaCJseHrtQkB/+zpwzoxKQM3MzMzMeFJAZmZmZmZqWEAAAAAAAFxeQM3MzMzMJmJAmpmZmZkfZUBmZmZmZhhoQDMzMzMzEWtAAAAAAAAKbkBmZmZmZoFwQM3MzMzM/XFAMzMzMzN6c0CamZmZmfZ0QAAAAAAAc3ZAZmZmZmbvd0DNzMzMzGt5QDMzMzMz6HpAmpmZmZlkfEAAAAAAAOF9QGZmZmZmXX9AZmZmZuZsgECamZmZGSuBQM3MzMxM6YFAAAAAAICngkAzMzMzs2WDQGZmZmbmI4RAmpmZmRnihEDNzMzMTKCFQAAAAACAXoZAMzMzM7Mch0BmZmZm5tqHQJqZmZkZmYhAzczMzExXiUAAAAAAgBWKQDMzMzOz04pAZmZmZuaRi0CamZmZGVCMQM3MzMxMDo1AAAAAAIDMjUAzMzMzs4qOQGZmZmbmSI9A\",\"dtype\":\"float64\",\"shape\":[75]}},\"selected\":{\"id\":\"fdee7ff3-7b6a-43cd-be22-d5724eabc75c\",\"type\":\"Selection\"},\"selection_policy\":{\"id\":\"c681a832-6e9d-49d0-8363-57bff392bb69\",\"type\":\"UnionRenderers\"}},\"id\":\"41853d0c-2e26-4e2e-b0b5-edc8a03b40ec\",\"type\":\"ColumnDataSource\"},{\"attributes\":{\"fill_alpha\":{\"value\":0.1},\"fill_color\":{\"value\":\"#1f77b4\"},\"line_alpha\":{\"value\":0.1},\"line_color\":{\"value\":\"#1f77b4\"},\"x\":{\"field\":\"x\"},\"y\":{\"field\":\"y\"}},\"id\":\"56bf9623-ec7a-4c33-8085-b6ed0b365d28\",\"type\":\"Circle\"},{\"attributes\":{\"line_color\":\"#4daf4a\",\"line_width\":1.5,\"x\":{\"field\":\"x\"},\"y\":{\"field\":\"y\"}},\"id\":\"9488ca28-4649-4dca-b4ca-b5ab8fb9b4b5\",\"type\":\"Line\"},{\"attributes\":{\"source\":{\"id\":\"b24d67bd-9296-4d34-a1b8-522773d39272\",\"type\":\"ColumnDataSource\"}},\"id\":\"8d5b6a90-ef1f-44e7-8ab6-f95584cae0b7\",\"type\":\"CDSView\"},{\"attributes\":{\"source\":{\"id\":\"34782166-3371-436d-9384-9010afe4661d\",\"type\":\"ColumnDataSource\"}},\"id\":\"424925ae-63c8-4456-9f77-1baadfcff593\",\"type\":\"CDSView\"},{\"attributes\":{\"callback\":null,\"data\":{\"x\":{\"__ndarray__\":\"rp6T3jcuU0DeyDzyB3tEQH+ismFNhUBAhXzQs1ktOkAI5BJHHnQ0QG9iSE4mxi9AqVDdXPy1KEAdXDrmPFcjQOa7Si1Khx5Abygh/Zs8GECqiyX2GjQTQEgVxaus3Q1ARTni2pruBUAomgewyI/4P1V2bphw4eM/zrv7LUsl8D94exAC8qX/P2OL7moDYQVA7vIIyV3PCkD7QiMzcokQQCMQr+sXhBRAhL5PsFqsGkCtdfOeFNMgQLxkd9xLOSBArBm+KrwwGUDSHFn5ZagTQDHNGfYgeQ9AAvxk1pydCUAOJx9xflkFQGDObFfo8wFAP2q4bYQq/T/3vgLivyr2P/j/ccKE0fA/GakYYzde6j8fdjJ6ZnDiP6Qn+rY/W9Q/QVwg3saoxj/dpYHduN7AP1cKNc6csaA/tU9LnKq1ub/8p66LwZS4vwaZe4CiPZg/35N1op5qsz8FmtcqJI23PxnBRXXaHbk/VuQzgIeHuT/JKYghPFG5P3KESUfywrg/wQlNXtkPuD8O3q3l+023P/k1E4X2Z7Y/lsysA/I1tT+F+7w6q6uzP35eOqva9bE/kUdUzjVRsD+/DHCIi7itPy4Bav08LKs/GuOxCaryqD9cvvgZTACnP88RRb3qRaU/OjHfUrLCoz/pMKN7fX2iPzFQpagrhqE/pqf6WyP+oD/+jCldnCahPwugLD0ZaqI/ECDH/7K1pD+jHAmK2I2mP3mRwiKq46U/gjcbYCOfoj+xmmVRA8adP8JXZ8EzvZg/2UABrkABlz8xgkfNtzuaP8xe/XJCdbc/\",\"dtype\":\"float64\",\"shape\":[75]},\"y\":{\"__ndarray__\":\"GhExyth1ND/Sv8nbtpRIP2vylNV0PVE/aTum7souWD/At0SJ8fVgPw3Iuahxymc/MSNhhJWvcD/bTfBN02d3P2zb5nxnaoA/CD5h5MAGhz8NmeH1TyaQP+zrCsc9p5Y/LbKd76fGnz/bLW5ISEmmPww9YvTcQq8/JV2OstnstT8Er5Y7M8G+P0c+r3jqkcU/5h99k6ZBzj88bCIzFzjVP4enV8oyxN0//yH99nXg5D8qOpLLf0jtP5kqGJXUifQ/c9cS8kHP/D+/DpwzojQEQIEmwoanVwxA4lgXt9HgE0BSSZ2AJuIbQAMJih9jjiNA5q4l5INuK0AwTKYKRj0zQNv5fmq8/DpAaCJseHrtQkB/+zpwzoxKQM3MzMzMeFJAZmZmZmZqWEAAAAAAAFxeQM3MzMzMJmJAmpmZmZkfZUBmZmZmZhhoQDMzMzMzEWtAAAAAAAAKbkBmZmZmZoFwQM3MzMzM/XFAMzMzMzN6c0CamZmZmfZ0QAAAAAAAc3ZAZmZmZmbvd0DNzMzMzGt5QDMzMzMz6HpAmpmZmZlkfEAAAAAAAOF9QGZmZmZmXX9AZmZmZuZsgECamZmZGSuBQM3MzMxM6YFAAAAAAICngkAzMzMzs2WDQGZmZmbmI4RAmpmZmRnihEDNzMzMTKCFQAAAAACAXoZAMzMzM7Mch0BmZmZm5tqHQJqZmZkZmYhAzczMzExXiUAAAAAAgBWKQDMzMzOz04pAZmZmZuaRi0CamZmZGVCMQM3MzMxMDo1AAAAAAIDMjUAzMzMzs4qOQGZmZmbmSI9A\",\"dtype\":\"float64\",\"shape\":[75]}},\"selected\":{\"id\":\"d291ce2a-df5e-4486-bb90-70c2a7e2217a\",\"type\":\"Selection\"},\"selection_policy\":{\"id\":\"b23645ee-af7d-46b7-9cba-4579f0f70b31\",\"type\":\"UnionRenderers\"}},\"id\":\"b24d67bd-9296-4d34-a1b8-522773d39272\",\"type\":\"ColumnDataSource\"},{\"attributes\":{\"data_source\":{\"id\":\"656fe51c-6b1d-48e5-8081-2ddb2a8d1e94\",\"type\":\"ColumnDataSource\"},\"glyph\":{\"id\":\"e4c503d8-1027-4c81-a117-a8f8c7c7cc35\",\"type\":\"Circle\"},\"hover_glyph\":null,\"muted_glyph\":null,\"nonselection_glyph\":{\"id\":\"b6e7cfb7-ff08-4098-a017-84a990b3f2b0\",\"type\":\"Circle\"},\"selection_glyph\":null,\"view\":{\"id\":\"03c08abe-628b-4f79-a749-915295104b93\",\"type\":\"CDSView\"}},\"id\":\"e5296423-77d3-4680-b09a-495089a58af9\",\"type\":\"GlyphRenderer\"},{\"attributes\":{\"callback\":null,\"data\":{\"x\":{\"__ndarray__\":\"rp6T3jcuU0DeyDzyB3tEQH+ismFNhUBAhXzQs1ktOkAI5BJHHnQ0QG9iSE4mxi9AqVDdXPy1KEAdXDrmPFcjQOa7Si1Khx5Abygh/Zs8GECqiyX2GjQTQEgVxaus3Q1ARTni2pruBUAomgewyI/4P1V2bphw4eM/zrv7LUsl8D94exAC8qX/P2OL7moDYQVA7vIIyV3PCkD7QiMzcokQQCMQr+sXhBRAhL5PsFqsGkCtdfOeFNMgQLxkd9xLOSBArBm+KrwwGUDSHFn5ZagTQDHNGfYgeQ9AAvxk1pydCUAOJx9xflkFQGDObFfo8wFAP2q4bYQq/T/3vgLivyr2P/j/ccKE0fA/GakYYzde6j8fdjJ6ZnDiP6Qn+rY/W9Q/QVwg3saoxj/dpYHduN7AP1cKNc6csaA/tU9LnKq1ub/8p66LwZS4vwaZe4CiPZg/35N1op5qsz8FmtcqJI23PxnBRXXaHbk/VuQzgIeHuT/JKYghPFG5P3KESUfywrg/wQlNXtkPuD8O3q3l+023P/k1E4X2Z7Y/lsysA/I1tT+F+7w6q6uzP35eOqva9bE/kUdUzjVRsD+/DHCIi7itPy4Bav08LKs/GuOxCaryqD9cvvgZTACnP88RRb3qRaU/OjHfUrLCoz/pMKN7fX2iPzFQpagrhqE/pqf6WyP+oD/+jCldnCahPwugLD0ZaqI/ECDH/7K1pD+jHAmK2I2mP3mRwiKq46U/gjcbYCOfoj+xmmVRA8adP8JXZ8EzvZg/2UABrkABlz8xgkfNtzuaP8xe/XJCdbc/\",\"dtype\":\"float64\",\"shape\":[75]},\"y\":{\"__ndarray__\":\"GhExyth1ND/Sv8nbtpRIP2vylNV0PVE/aTum7souWD/At0SJ8fVgPw3Iuahxymc/MSNhhJWvcD/bTfBN02d3P2zb5nxnaoA/CD5h5MAGhz8NmeH1TyaQP+zrCsc9p5Y/LbKd76fGnz/bLW5ISEmmPww9YvTcQq8/JV2OstnstT8Er5Y7M8G+P0c+r3jqkcU/5h99k6ZBzj88bCIzFzjVP4enV8oyxN0//yH99nXg5D8qOpLLf0jtP5kqGJXUifQ/c9cS8kHP/D+/DpwzojQEQIEmwoanVwxA4lgXt9HgE0BSSZ2AJuIbQAMJih9jjiNA5q4l5INuK0AwTKYKRj0zQNv5fmq8/DpAaCJseHrtQkB/+zpwzoxKQM3MzMzMeFJAZmZmZmZqWEAAAAAAAFxeQM3MzMzMJmJAmpmZmZkfZUBmZmZmZhhoQDMzMzMzEWtAAAAAAAAKbkBmZmZmZoFwQM3MzMzM/XFAMzMzMzN6c0CamZmZmfZ0QAAAAAAAc3ZAZmZmZmbvd0DNzMzMzGt5QDMzMzMz6HpAmpmZmZlkfEAAAAAAAOF9QGZmZmZmXX9AZmZmZuZsgECamZmZGSuBQM3MzMxM6YFAAAAAAICngkAzMzMzs2WDQGZmZmbmI4RAmpmZmRnihEDNzMzMTKCFQAAAAACAXoZAMzMzM7Mch0BmZmZm5tqHQJqZmZkZmYhAzczMzExXiUAAAAAAgBWKQDMzMzOz04pAZmZmZuaRi0CamZmZGVCMQM3MzMxMDo1AAAAAAIDMjUAzMzMzs4qOQGZmZmbmSI9A\",\"dtype\":\"float64\",\"shape\":[75]}},\"selected\":{\"id\":\"01830337-0fa0-4218-8d6b-155dae28b4ba\",\"type\":\"Selection\"},\"selection_policy\":{\"id\":\"97d6e5de-705a-4ec1-8863-729f174532ec\",\"type\":\"UnionRenderers\"}},\"id\":\"8bd45493-72e9-4c50-91a8-645aed4dd85a\",\"type\":\"ColumnDataSource\"},{\"attributes\":{\"callback\":null,\"data\":{\"x\":{\"__ndarray__\":\"rp6T3jcuU0DeyDzyB3tEQH+ismFNhUBAhXzQs1ktOkAI5BJHHnQ0QG9iSE4mxi9AqVDdXPy1KEAdXDrmPFcjQOa7Si1Khx5Abygh/Zs8GECqiyX2GjQTQEgVxaus3Q1ARTni2pruBUAomgewyI/4P1V2bphw4eM/zrv7LUsl8D94exAC8qX/P2OL7moDYQVA7vIIyV3PCkD7QiMzcokQQCMQr+sXhBRAhL5PsFqsGkCtdfOeFNMgQLxkd9xLOSBArBm+KrwwGUDSHFn5ZagTQDHNGfYgeQ9AAvxk1pydCUAOJx9xflkFQGDObFfo8wFAP2q4bYQq/T/3vgLivyr2P/j/ccKE0fA/GakYYzde6j8fdjJ6ZnDiP6Qn+rY/W9Q/QVwg3saoxj/dpYHduN7AP1cKNc6csaA/tU9LnKq1ub/8p66LwZS4vwaZe4CiPZg/35N1op5qsz8FmtcqJI23PxnBRXXaHbk/VuQzgIeHuT/JKYghPFG5P3KESUfywrg/wQlNXtkPuD8O3q3l+023P/k1E4X2Z7Y/lsysA/I1tT+F+7w6q6uzP35eOqva9bE/kUdUzjVRsD+/DHCIi7itPy4Bav08LKs/GuOxCaryqD9cvvgZTACnP88RRb3qRaU/OjHfUrLCoz/pMKN7fX2iPzFQpagrhqE/pqf6WyP+oD/+jCldnCahPwugLD0ZaqI/ECDH/7K1pD+jHAmK2I2mP3mRwiKq46U/gjcbYCOfoj+xmmVRA8adP8JXZ8EzvZg/2UABrkABlz8xgkfNtzuaP8xe/XJCdbc/\",\"dtype\":\"float64\",\"shape\":[75]},\"y\":{\"__ndarray__\":\"GhExyth1ND/Sv8nbtpRIP2vylNV0PVE/aTum7souWD/At0SJ8fVgPw3Iuahxymc/MSNhhJWvcD/bTfBN02d3P2zb5nxnaoA/CD5h5MAGhz8NmeH1TyaQP+zrCsc9p5Y/LbKd76fGnz/bLW5ISEmmPww9YvTcQq8/JV2OstnstT8Er5Y7M8G+P0c+r3jqkcU/5h99k6ZBzj88bCIzFzjVP4enV8oyxN0//yH99nXg5D8qOpLLf0jtP5kqGJXUifQ/c9cS8kHP/D+/DpwzojQEQIEmwoanVwxA4lgXt9HgE0BSSZ2AJuIbQAMJih9jjiNA5q4l5INuK0AwTKYKRj0zQNv5fmq8/DpAaCJseHrtQkB/+zpwzoxKQM3MzMzMeFJAZmZmZmZqWEAAAAAAAFxeQM3MzMzMJmJAmpmZmZkfZUBmZmZmZhhoQDMzMzMzEWtAAAAAAAAKbkBmZmZmZoFwQM3MzMzM/XFAMzMzMzN6c0CamZmZmfZ0QAAAAAAAc3ZAZmZmZmbvd0DNzMzMzGt5QDMzMzMz6HpAmpmZmZlkfEAAAAAAAOF9QGZmZmZmXX9AZmZmZuZsgECamZmZGSuBQM3MzMxM6YFAAAAAAICngkAzMzMzs2WDQGZmZmbmI4RAmpmZmRnihEDNzMzMTKCFQAAAAACAXoZAMzMzM7Mch0BmZmZm5tqHQJqZmZkZmYhAzczMzExXiUAAAAAAgBWKQDMzMzOz04pAZmZmZuaRi0CamZmZGVCMQM3MzMxMDo1AAAAAAIDMjUAzMzMzs4qOQGZmZmbmSI9A\",\"dtype\":\"float64\",\"shape\":[75]}},\"selected\":{\"id\":\"b791d605-7682-4c66-9e67-90aaf71b94fc\",\"type\":\"Selection\"},\"selection_policy\":{\"id\":\"471d65da-d455-4209-979c-cc601636f557\",\"type\":\"UnionRenderers\"}},\"id\":\"656fe51c-6b1d-48e5-8081-2ddb2a8d1e94\",\"type\":\"ColumnDataSource\"},{\"attributes\":{\"fill_alpha\":{\"value\":0.1},\"fill_color\":{\"value\":\"#1f77b4\"},\"line_alpha\":{\"value\":0.1},\"line_color\":{\"value\":\"#1f77b4\"},\"x\":{\"field\":\"x\"},\"y\":{\"field\":\"y\"}},\"id\":\"b6e7cfb7-ff08-4098-a017-84a990b3f2b0\",\"type\":\"Circle\"},{\"attributes\":{\"line_alpha\":0.1,\"line_color\":\"#1f77b4\",\"line_width\":1.5,\"x\":{\"field\":\"x\"},\"y\":{\"field\":\"y\"}},\"id\":\"1fa8f2ef-c0f7-4dce-9938-29a0dfa052b8\",\"type\":\"Line\"},{\"attributes\":{\"callback\":null,\"data\":{\"x\":{\"__ndarray__\":\"JW0VToCuRUBxVi0QY29BQErOgjevwj9ABphXk0sWPEBWsEbppOY3QADGrqVwcDNAYwUhizEaLkC7+CiOUD8mQJTmUDSV7R9ANwAydrMsF0Apzn5dHqsRQIpGWIvyRwxAusWjc0oyBkDIq1TzxUD7P0L6qn6vvOk/ohI1WpDK8T+Npvo1u2v/P56h7puWMgRAkGfVmA7ZCEDdRIQ7q5MPQE3oI6n7qRRAF9gdcj62G0DB3y9my1QhQG/I9sqSSyBAqxW8HWeRGEAzL1b0dXsTQLEJh5p8lhBAMsUVuPm3C0CFZQAoPk8GQHccDf3TZQJAgv37CqjR/z+Vi1YJ7er5P3XoW5H4B/M/zww+K/Id6z8e4urZsSzjPxfiX8KGjNg/cBsVO+lpzT+9OWiGuBXDP/wKWOJDkJA/yLr+3sASwr/ylF8Wh5zBv+gRxrdU622/bPRh/SCCqz94mua/ReKxP/+gidJmirM/gPys6dRntD+9mb6zvw21P+5iYS2Xe7U/vuEZh864tT+c/35YwsW1P5yVqNTLe7U/h9xR+1W0tD8+iM8U9GWzP9kAOrpSvrE/61WonlcJsD+78uL0s9isPyhIosB90qk/780DE+kSpz8yBOjHiZykP5bOiiqAX6I/f4rQQjVvoD/P2t6KHaOdPxlhxWYbLJs/PJoD6fC3mT8KloIL0b+ZP1C28+WbE5w/cMUCn0RJoD+Cz8c+YC6iPyLkLM8op6E/zp8zw1krnT9IuPuTsjOWPwPkvWMw5ZE/k6AaB6RqkD986GNloA6TP5oD09iz9LU/\",\"dtype\":\"float64\",\"shape\":[75]},\"y\":{\"__ndarray__\":\"GhExyth1ND/Sv8nbtpRIP2vylNV0PVE/aTum7souWD/At0SJ8fVgPw3Iuahxymc/MSNhhJWvcD/bTfBN02d3P2zb5nxnaoA/CD5h5MAGhz8NmeH1TyaQP+zrCsc9p5Y/LbKd76fGnz/bLW5ISEmmPww9YvTcQq8/JV2OstnstT8Er5Y7M8G+P0c+r3jqkcU/5h99k6ZBzj88bCIzFzjVP4enV8oyxN0//yH99nXg5D8qOpLLf0jtP5kqGJXUifQ/c9cS8kHP/D+/DpwzojQEQIEmwoanVwxA4lgXt9HgE0BSSZ2AJuIbQAMJih9jjiNA5q4l5INuK0AwTKYKRj0zQNv5fmq8/DpAaCJseHrtQkB/+zpwzoxKQM3MzMzMeFJAZmZmZmZqWEAAAAAAAFxeQM3MzMzMJmJAmpmZmZkfZUBmZmZmZhhoQDMzMzMzEWtAAAAAAAAKbkBmZmZmZoFwQM3MzMzM/XFAMzMzMzN6c0CamZmZmfZ0QAAAAAAAc3ZAZmZmZmbvd0DNzMzMzGt5QDMzMzMz6HpAmpmZmZlkfEAAAAAAAOF9QGZmZmZmXX9AZmZmZuZsgECamZmZGSuBQM3MzMxM6YFAAAAAAICngkAzMzMzs2WDQGZmZmbmI4RAmpmZmRnihEDNzMzMTKCFQAAAAACAXoZAMzMzM7Mch0BmZmZm5tqHQJqZmZkZmYhAzczMzExXiUAAAAAAgBWKQDMzMzOz04pAZmZmZuaRi0CamZmZGVCMQM3MzMxMDo1AAAAAAIDMjUAzMzMzs4qOQGZmZmbmSI9A\",\"dtype\":\"float64\",\"shape\":[75]}},\"selected\":{\"id\":\"56904a50-d299-4f56-99ae-7e17999a709c\",\"type\":\"Selection\"},\"selection_policy\":{\"id\":\"7b8b677e-7ef6-4b64-9b45-25ac0adcd2d3\",\"type\":\"UnionRenderers\"}},\"id\":\"47752ebb-0c6c-488e-9b5e-ebb139402158\",\"type\":\"ColumnDataSource\"},{\"attributes\":{},\"id\":\"9351bbb8-3498-41b9-ae20-3ffb70c88cf7\",\"type\":\"ResetTool\"},{\"attributes\":{\"data_source\":{\"id\":\"b24d67bd-9296-4d34-a1b8-522773d39272\",\"type\":\"ColumnDataSource\"},\"glyph\":{\"id\":\"1f1dfea4-1b14-43bf-9180-029925cb06bd\",\"type\":\"Line\"},\"hover_glyph\":null,\"muted_glyph\":null,\"nonselection_glyph\":{\"id\":\"1fa8f2ef-c0f7-4dce-9938-29a0dfa052b8\",\"type\":\"Line\"},\"selection_glyph\":null,\"view\":{\"id\":\"8d5b6a90-ef1f-44e7-8ab6-f95584cae0b7\",\"type\":\"CDSView\"}},\"id\":\"94fa62c8-11e0-401a-9d6f-37d36249f17d\",\"type\":\"GlyphRenderer\"},{\"attributes\":{\"source\":{\"id\":\"656fe51c-6b1d-48e5-8081-2ddb2a8d1e94\",\"type\":\"ColumnDataSource\"}},\"id\":\"03c08abe-628b-4f79-a749-915295104b93\",\"type\":\"CDSView\"},{\"attributes\":{\"fill_alpha\":{\"value\":0.7},\"fill_color\":{\"value\":\"#984ea3\"},\"line_alpha\":{\"value\":0.7},\"line_color\":{\"value\":\"#984ea3\"},\"x\":{\"field\":\"x\"},\"y\":{\"field\":\"y\"}},\"id\":\"6dbf7e50-23d9-48fa-a3a2-699e7723aa3b\",\"type\":\"Square\"},{\"attributes\":{\"data_source\":{\"id\":\"34782166-3371-436d-9384-9010afe4661d\",\"type\":\"ColumnDataSource\"},\"glyph\":{\"id\":\"dafa7a8a-ab57-456a-8c8f-abd628bb5a90\",\"type\":\"Line\"},\"hover_glyph\":null,\"muted_glyph\":null,\"nonselection_glyph\":{\"id\":\"d2a330a6-1127-4a07-be61-48f0e0123f83\",\"type\":\"Line\"},\"selection_glyph\":null,\"view\":{\"id\":\"424925ae-63c8-4456-9f77-1baadfcff593\",\"type\":\"CDSView\"}},\"id\":\"9872c3e4-2489-434d-b4b5-d0192f2f9b52\",\"type\":\"GlyphRenderer\"},{\"attributes\":{\"source\":{\"id\":\"33e2fdba-e91f-4d9e-89b5-05623eb9f2c6\",\"type\":\"ColumnDataSource\"}},\"id\":\"ef9c82af-1b29-4908-b84e-204d476bedc3\",\"type\":\"CDSView\"},{\"attributes\":{\"line_alpha\":0.1,\"line_color\":\"#1f77b4\",\"line_width\":1.5,\"x\":{\"field\":\"x\"},\"y\":{\"field\":\"y\"}},\"id\":\"16c717e4-2cff-4352-8d88-bdee164af877\",\"type\":\"Line\"},{\"attributes\":{\"data_source\":{\"id\":\"8bd45493-72e9-4c50-91a8-645aed4dd85a\",\"type\":\"ColumnDataSource\"},\"glyph\":{\"id\":\"9488ca28-4649-4dca-b4ca-b5ab8fb9b4b5\",\"type\":\"Line\"},\"hover_glyph\":null,\"muted_glyph\":null,\"nonselection_glyph\":{\"id\":\"16c717e4-2cff-4352-8d88-bdee164af877\",\"type\":\"Line\"},\"selection_glyph\":null,\"view\":{\"id\":\"ee6dec1a-2e93-4921-b124-07607b75f7ea\",\"type\":\"CDSView\"}},\"id\":\"7fc053c7-b1a5-45a9-a989-77d4711d27d9\",\"type\":\"GlyphRenderer\"},{\"attributes\":{\"source\":{\"id\":\"8bd45493-72e9-4c50-91a8-645aed4dd85a\",\"type\":\"ColumnDataSource\"}},\"id\":\"ee6dec1a-2e93-4921-b124-07607b75f7ea\",\"type\":\"CDSView\"},{\"attributes\":{\"fill_alpha\":{\"value\":0.1},\"fill_color\":{\"value\":\"#1f77b4\"},\"line_alpha\":{\"value\":0.1},\"line_color\":{\"value\":\"#1f77b4\"},\"x\":{\"field\":\"x\"},\"y\":{\"field\":\"y\"}},\"id\":\"e0d49b8b-4faf-4488-b61d-e9c6ca1a72f0\",\"type\":\"Square\"},{\"attributes\":{\"line_alpha\":0.6,\"line_color\":\"#984ea3\",\"line_width\":3,\"x\":{\"field\":\"x\"},\"y\":{\"field\":\"y\"}},\"id\":\"6267e7d3-609d-4ce1-bcbc-80edf6f98978\",\"type\":\"Line\"},{\"attributes\":{\"children\":[{\"id\":\"034506a3-fc02-44ba-ab04-1a6ac2837fae\",\"type\":\"Row\"}]},\"id\":\"61c0123b-e4f2-45ec-8199-976555fd0e62\",\"type\":\"Column\"},{\"attributes\":{\"data_source\":{\"id\":\"effb0387-8c7d-4aff-b3fc-fc8d960455e2\",\"type\":\"ColumnDataSource\"},\"glyph\":{\"id\":\"6267e7d3-609d-4ce1-bcbc-80edf6f98978\",\"type\":\"Line\"},\"hover_glyph\":null,\"muted_glyph\":null,\"nonselection_glyph\":{\"id\":\"e3a5402c-4d44-459f-8f6f-8153c5bc8ee5\",\"type\":\"Line\"},\"selection_glyph\":null,\"view\":{\"id\":\"1cd94889-633f-4dc8-ba38-85eec22ce035\",\"type\":\"CDSView\"}},\"id\":\"703ea084-3709-4264-b46e-731052ee6220\",\"type\":\"GlyphRenderer\"},{\"attributes\":{\"data_source\":{\"id\":\"33e2fdba-e91f-4d9e-89b5-05623eb9f2c6\",\"type\":\"ColumnDataSource\"},\"glyph\":{\"id\":\"6dbf7e50-23d9-48fa-a3a2-699e7723aa3b\",\"type\":\"Square\"},\"hover_glyph\":null,\"muted_glyph\":null,\"nonselection_glyph\":{\"id\":\"e0d49b8b-4faf-4488-b61d-e9c6ca1a72f0\",\"type\":\"Square\"},\"selection_glyph\":null,\"view\":{\"id\":\"ef9c82af-1b29-4908-b84e-204d476bedc3\",\"type\":\"CDSView\"}},\"id\":\"e46ec02a-6f6b-4600-bdbf-1bfe657d0aa6\",\"type\":\"GlyphRenderer\"},{\"attributes\":{\"source\":{\"id\":\"effb0387-8c7d-4aff-b3fc-fc8d960455e2\",\"type\":\"ColumnDataSource\"}},\"id\":\"1cd94889-633f-4dc8-ba38-85eec22ce035\",\"type\":\"CDSView\"},{\"attributes\":{\"children\":[{\"id\":\"b4e9ef80-2495-4ac6-99c3-3d02ce63b542\",\"subtype\":\"Figure\",\"type\":\"Plot\"},{\"id\":\"771b1c69-53c6-4103-932a-ad397139c8e1\",\"subtype\":\"Figure\",\"type\":\"Plot\"}]},\"id\":\"034506a3-fc02-44ba-ab04-1a6ac2837fae\",\"type\":\"Row\"},{\"attributes\":{\"callback\":null,\"data\":{\"x\":{\"__ndarray__\":\"JW0VToCuRUBxVi0QY29BQErOgjevwj9ABphXk0sWPEBWsEbppOY3QADGrqVwcDNAYwUhizEaLkC7+CiOUD8mQJTmUDSV7R9ANwAydrMsF0Apzn5dHqsRQIpGWIvyRwxAusWjc0oyBkDIq1TzxUD7P0L6qn6vvOk/ohI1WpDK8T+Npvo1u2v/P56h7puWMgRAkGfVmA7ZCEDdRIQ7q5MPQE3oI6n7qRRAF9gdcj62G0DB3y9my1QhQG/I9sqSSyBAqxW8HWeRGEAzL1b0dXsTQLEJh5p8lhBAMsUVuPm3C0CFZQAoPk8GQHccDf3TZQJAgv37CqjR/z+Vi1YJ7er5P3XoW5H4B/M/zww+K/Id6z8e4urZsSzjPxfiX8KGjNg/cBsVO+lpzT+9OWiGuBXDP/wKWOJDkJA/yLr+3sASwr/ylF8Wh5zBv+gRxrdU622/bPRh/SCCqz94mua/ReKxP/+gidJmirM/gPys6dRntD+9mb6zvw21P+5iYS2Xe7U/vuEZh864tT+c/35YwsW1P5yVqNTLe7U/h9xR+1W0tD8+iM8U9GWzP9kAOrpSvrE/61WonlcJsD+78uL0s9isPyhIosB90qk/780DE+kSpz8yBOjHiZykP5bOiiqAX6I/f4rQQjVvoD/P2t6KHaOdPxlhxWYbLJs/PJoD6fC3mT8KloIL0b+ZP1C28+WbE5w/cMUCn0RJoD+Cz8c+YC6iPyLkLM8op6E/zp8zw1krnT9IuPuTsjOWPwPkvWMw5ZE/k6AaB6RqkD986GNloA6TP5oD09iz9LU/\",\"dtype\":\"float64\",\"shape\":[75]},\"y\":{\"__ndarray__\":\"GhExyth1ND/Sv8nbtpRIP2vylNV0PVE/aTum7souWD/At0SJ8fVgPw3Iuahxymc/MSNhhJWvcD/bTfBN02d3P2zb5nxnaoA/CD5h5MAGhz8NmeH1TyaQP+zrCsc9p5Y/LbKd76fGnz/bLW5ISEmmPww9YvTcQq8/JV2OstnstT8Er5Y7M8G+P0c+r3jqkcU/5h99k6ZBzj88bCIzFzjVP4enV8oyxN0//yH99nXg5D8qOpLLf0jtP5kqGJXUifQ/c9cS8kHP/D+/DpwzojQEQIEmwoanVwxA4lgXt9HgE0BSSZ2AJuIbQAMJih9jjiNA5q4l5INuK0AwTKYKRj0zQNv5fmq8/DpAaCJseHrtQkB/+zpwzoxKQM3MzMzMeFJAZmZmZmZqWEAAAAAAAFxeQM3MzMzMJmJAmpmZmZkfZUBmZmZmZhhoQDMzMzMzEWtAAAAAAAAKbkBmZmZmZoFwQM3MzMzM/XFAMzMzMzN6c0CamZmZmfZ0QAAAAAAAc3ZAZmZmZmbvd0DNzMzMzGt5QDMzMzMz6HpAmpmZmZlkfEAAAAAAAOF9QGZmZmZmXX9AZmZmZuZsgECamZmZGSuBQM3MzMxM6YFAAAAAAICngkAzMzMzs2WDQGZmZmbmI4RAmpmZmRnihEDNzMzMTKCFQAAAAACAXoZAMzMzM7Mch0BmZmZm5tqHQJqZmZkZmYhAzczMzExXiUAAAAAAgBWKQDMzMzOz04pAZmZmZuaRi0CamZmZGVCMQM3MzMxMDo1AAAAAAIDMjUAzMzMzs4qOQGZmZmbmSI9A\",\"dtype\":\"float64\",\"shape\":[75]}},\"selected\":{\"id\":\"03b136ef-043f-495e-83e1-eb3ca864caac\",\"type\":\"Selection\"},\"selection_policy\":{\"id\":\"c5d12c5e-c10c-4fcb-910f-7b2e431c864c\",\"type\":\"UnionRenderers\"}},\"id\":\"33e2fdba-e91f-4d9e-89b5-05623eb9f2c6\",\"type\":\"ColumnDataSource\"},{\"attributes\":{\"label\":{\"value\":\"CLIRAD `coolr_bands`\"},\"renderers\":[{\"id\":\"9872c3e4-2489-434d-b4b5-d0192f2f9b52\",\"type\":\"GlyphRenderer\"}]},\"id\":\"bb3023be-23f3-449f-b0de-af46442b8b53\",\"type\":\"LegendItem\"},{\"attributes\":{},\"id\":\"04978e8e-8e24-4fbc-8c59-3d8acade2371\",\"type\":\"BasicTickFormatter\"},{\"attributes\":{\"line_alpha\":0.6,\"line_color\":\"#e41a1c\",\"line_dash\":[6],\"line_width\":5,\"x\":{\"field\":\"x\"},\"y\":{\"field\":\"y\"}},\"id\":\"04df3561-04d3-4627-bd51-fb9f20239894\",\"type\":\"Line\"},{\"attributes\":{\"label\":{\"value\":\"CRD\"},\"renderers\":[{\"id\":\"e5296423-77d3-4680-b09a-495089a58af9\",\"type\":\"GlyphRenderer\"},{\"id\":\"7fc053c7-b1a5-45a9-a989-77d4711d27d9\",\"type\":\"GlyphRenderer\"}]},\"id\":\"2e500b1b-b998-4682-ae27-674546e0a996\",\"type\":\"LegendItem\"},{\"attributes\":{},\"id\":\"b23645ee-af7d-46b7-9cba-4579f0f70b31\",\"type\":\"UnionRenderers\"},{\"attributes\":{},\"id\":\"b791d605-7682-4c66-9e67-90aaf71b94fc\",\"type\":\"Selection\"},{\"attributes\":{\"label\":{\"value\":\"WGT igg=10 wgt_flux=2\"},\"renderers\":[{\"id\":\"7d8c8b04-b43c-402d-b17b-1e75d8bce1bf\",\"type\":\"GlyphRenderer\"},{\"id\":\"703ea084-3709-4264-b46e-731052ee6220\",\"type\":\"GlyphRenderer\"}]},\"id\":\"b2714286-9916-477b-89da-095f60630d99\",\"type\":\"LegendItem\"},{\"attributes\":{\"line_alpha\":0.6,\"line_color\":\"#e41a1c\",\"line_dash\":[6],\"line_width\":5,\"x\":{\"field\":\"x\"},\"y\":{\"field\":\"y\"}},\"id\":\"dafa7a8a-ab57-456a-8c8f-abd628bb5a90\",\"type\":\"Line\"},{\"attributes\":{},\"id\":\"f54d74c0-c8ee-402d-9792-f322d5ff3978\",\"type\":\"UnionRenderers\"},{\"attributes\":{},\"id\":\"d97110de-760c-43f5-b66c-3f8c64a68e6b\",\"type\":\"BasicTickFormatter\"},{\"attributes\":{\"fill_alpha\":{\"value\":0.7},\"fill_color\":{\"value\":\"#4daf4a\"},\"line_alpha\":{\"value\":0.7},\"line_color\":{\"value\":\"#4daf4a\"},\"x\":{\"field\":\"x\"},\"y\":{\"field\":\"y\"}},\"id\":\"a062253f-0657-46d4-ae3b-d9339171bebd\",\"type\":\"Circle\"},{\"attributes\":{},\"id\":\"d115a0ed-37a4-4185-aa29-32ec255af2c5\",\"type\":\"Selection\"},{\"attributes\":{},\"id\":\"046c0a1f-4cee-47ac-bb1f-64bfd564c742\",\"type\":\"Selection\"},{\"attributes\":{},\"id\":\"d291ce2a-df5e-4486-bb90-70c2a7e2217a\",\"type\":\"Selection\"},{\"attributes\":{},\"id\":\"c681a832-6e9d-49d0-8363-57bff392bb69\",\"type\":\"UnionRenderers\"},{\"attributes\":{},\"id\":\"fdee7ff3-7b6a-43cd-be22-d5724eabc75c\",\"type\":\"Selection\"},{\"attributes\":{},\"id\":\"9dca7f25-8c5f-44fc-b6ee-9de5f52a7e1f\",\"type\":\"UnionRenderers\"},{\"attributes\":{},\"id\":\"3cd7e82f-d452-41e9-a58d-92697a314597\",\"type\":\"Selection\"},{\"attributes\":{},\"id\":\"c5d12c5e-c10c-4fcb-910f-7b2e431c864c\",\"type\":\"UnionRenderers\"},{\"attributes\":{},\"id\":\"03b136ef-043f-495e-83e1-eb3ca864caac\",\"type\":\"Selection\"},{\"attributes\":{\"line_color\":\"#4daf4a\",\"line_width\":1.5,\"x\":{\"field\":\"x\"},\"y\":{\"field\":\"y\"}},\"id\":\"1f1dfea4-1b14-43bf-9180-029925cb06bd\",\"type\":\"Line\"},{\"attributes\":{},\"id\":\"97d6e5de-705a-4ec1-8863-729f174532ec\",\"type\":\"UnionRenderers\"},{\"attributes\":{},\"id\":\"01830337-0fa0-4218-8d6b-155dae28b4ba\",\"type\":\"Selection\"},{\"attributes\":{},\"id\":\"1f68e66f-5cb3-43d0-83eb-4cfb7d4d558e\",\"type\":\"BasicTickFormatter\"},{\"attributes\":{\"ticker\":null},\"id\":\"56b7739a-a8a6-4235-a72b-067b254ffb0d\",\"type\":\"LogTickFormatter\"},{\"attributes\":{\"source\":{\"id\":\"41853d0c-2e26-4e2e-b0b5-edc8a03b40ec\",\"type\":\"ColumnDataSource\"}},\"id\":\"a9c24d9d-7272-4869-b30a-f58e818f8186\",\"type\":\"CDSView\"},{\"attributes\":{},\"id\":\"c22875ee-e9e3-4235-82b5-9d0c85858470\",\"type\":\"UnionRenderers\"},{\"attributes\":{\"callback\":null,\"data\":{\"x\":{\"__ndarray__\":\"JW0VToCuRUBxVi0QY29BQErOgjevwj9ABphXk0sWPEBWsEbppOY3QADGrqVwcDNAYwUhizEaLkC7+CiOUD8mQJTmUDSV7R9ANwAydrMsF0Apzn5dHqsRQIpGWIvyRwxAusWjc0oyBkDIq1TzxUD7P0L6qn6vvOk/ohI1WpDK8T+Npvo1u2v/P56h7puWMgRAkGfVmA7ZCEDdRIQ7q5MPQE3oI6n7qRRAF9gdcj62G0DB3y9my1QhQG/I9sqSSyBAqxW8HWeRGEAzL1b0dXsTQLEJh5p8lhBAMsUVuPm3C0CFZQAoPk8GQHccDf3TZQJAgv37CqjR/z+Vi1YJ7er5P3XoW5H4B/M/zww+K/Id6z8e4urZsSzjPxfiX8KGjNg/cBsVO+lpzT+9OWiGuBXDP/wKWOJDkJA/yLr+3sASwr/ylF8Wh5zBv+gRxrdU622/bPRh/SCCqz94mua/ReKxP/+gidJmirM/gPys6dRntD+9mb6zvw21P+5iYS2Xe7U/vuEZh864tT+c/35YwsW1P5yVqNTLe7U/h9xR+1W0tD8+iM8U9GWzP9kAOrpSvrE/61WonlcJsD+78uL0s9isPyhIosB90qk/780DE+kSpz8yBOjHiZykP5bOiiqAX6I/f4rQQjVvoD/P2t6KHaOdPxlhxWYbLJs/PJoD6fC3mT8KloIL0b+ZP1C28+WbE5w/cMUCn0RJoD+Cz8c+YC6iPyLkLM8op6E/zp8zw1krnT9IuPuTsjOWPwPkvWMw5ZE/k6AaB6RqkD986GNloA6TP5oD09iz9LU/\",\"dtype\":\"float64\",\"shape\":[75]},\"y\":{\"__ndarray__\":\"GhExyth1ND/Sv8nbtpRIP2vylNV0PVE/aTum7souWD/At0SJ8fVgPw3Iuahxymc/MSNhhJWvcD/bTfBN02d3P2zb5nxnaoA/CD5h5MAGhz8NmeH1TyaQP+zrCsc9p5Y/LbKd76fGnz/bLW5ISEmmPww9YvTcQq8/JV2OstnstT8Er5Y7M8G+P0c+r3jqkcU/5h99k6ZBzj88bCIzFzjVP4enV8oyxN0//yH99nXg5D8qOpLLf0jtP5kqGJXUifQ/c9cS8kHP/D+/DpwzojQEQIEmwoanVwxA4lgXt9HgE0BSSZ2AJuIbQAMJih9jjiNA5q4l5INuK0AwTKYKRj0zQNv5fmq8/DpAaCJseHrtQkB/+zpwzoxKQM3MzMzMeFJAZmZmZmZqWEAAAAAAAFxeQM3MzMzMJmJAmpmZmZkfZUBmZmZmZhhoQDMzMzMzEWtAAAAAAAAKbkBmZmZmZoFwQM3MzMzM/XFAMzMzMzN6c0CamZmZmfZ0QAAAAAAAc3ZAZmZmZmbvd0DNzMzMzGt5QDMzMzMz6HpAmpmZmZlkfEAAAAAAAOF9QGZmZmZmXX9AZmZmZuZsgECamZmZGSuBQM3MzMxM6YFAAAAAAICngkAzMzMzs2WDQGZmZmbmI4RAmpmZmRnihEDNzMzMTKCFQAAAAACAXoZAMzMzM7Mch0BmZmZm5tqHQJqZmZkZmYhAzczMzExXiUAAAAAAgBWKQDMzMzOz04pAZmZmZuaRi0CamZmZGVCMQM3MzMxMDo1AAAAAAIDMjUAzMzMzs4qOQGZmZmbmSI9A\",\"dtype\":\"float64\",\"shape\":[75]}},\"selected\":{\"id\":\"3cd7e82f-d452-41e9-a58d-92697a314597\",\"type\":\"Selection\"},\"selection_policy\":{\"id\":\"9dca7f25-8c5f-44fc-b6ee-9de5f52a7e1f\",\"type\":\"UnionRenderers\"}},\"id\":\"bf3d1b4e-6385-4cea-a5a1-f1713ec8c742\",\"type\":\"ColumnDataSource\"},{\"attributes\":{},\"id\":\"471d65da-d455-4209-979c-cc601636f557\",\"type\":\"UnionRenderers\"}],\"root_ids\":[\"c3a47566-c68e-48b1-b7dd-95482f3c4dcd\"]},\"title\":\"Bokeh Application\",\"version\":\"0.12.16\"}};\n",
       "  var render_items = [{\"docid\":\"e75ef8cb-22f5-4a50-b65c-371d8c96855d\",\"elementid\":\"8ae9b9fb-02b7-4995-8605-54fb5756424e\",\"modelid\":\"c3a47566-c68e-48b1-b7dd-95482f3c4dcd\"}];\n",
       "  root.Bokeh.embed.embed_items_notebook(docs_json, render_items);\n",
       "\n",
       "  }\n",
       "  if (root.Bokeh !== undefined) {\n",
       "    embed_document(root);\n",
       "  } else {\n",
       "    var attempts = 0;\n",
       "    var timer = setInterval(function(root) {\n",
       "      if (root.Bokeh !== undefined) {\n",
       "        embed_document(root);\n",
       "        clearInterval(timer);\n",
       "      }\n",
       "      attempts++;\n",
       "      if (attempts > 100) {\n",
       "        console.log(\"Bokeh: ERROR: Unable to run BokehJS code because BokehJS library is missing\")\n",
       "        clearInterval(timer);\n",
       "      }\n",
       "    }, 10, root)\n",
       "  }\n",
       "})(window);"
      ],
      "application/vnd.bokehjs_exec.v0+json": ""
     },
     "metadata": {
      "application/vnd.bokehjs_exec.v0+json": {
       "id": "c3a47566-c68e-48b1-b7dd-95482f3c4dcd"
      }
     },
     "output_type": "display_data"
    },
    {
     "name": "stdout",
     "output_type": "stream",
     "text": [
      "FIGURE. Cooling rate profiles.\n"
     ]
    },
    {
     "data": {
      "text/html": [
       "<a id=\"Flux_Comparison\"></a>"
      ],
      "text/plain": [
       "<IPython.core.display.HTML object>"
      ]
     },
     "metadata": {},
     "output_type": "display_data"
    },
    {
     "data": {
      "text/markdown": [
       "# Flux Comparison"
      ],
      "text/plain": [
       "<IPython.core.display.Markdown object>"
      ]
     },
     "metadata": {},
     "output_type": "display_data"
    },
    {
     "data": {
      "text/html": [
       "<div>\n",
       "<style scoped>\n",
       "    .dataframe tbody tr th:only-of-type {\n",
       "        vertical-align: middle;\n",
       "    }\n",
       "\n",
       "    .dataframe tbody tr th {\n",
       "        vertical-align: top;\n",
       "    }\n",
       "\n",
       "    .dataframe thead th {\n",
       "        text-align: right;\n",
       "    }\n",
       "</style>\n",
       "<table border=\"1\" class=\"dataframe\">\n",
       "  <thead>\n",
       "    <tr style=\"text-align: right;\">\n",
       "      <th></th>\n",
       "      <th></th>\n",
       "      <th>flug</th>\n",
       "      <th>fldg</th>\n",
       "      <th>fnetg</th>\n",
       "    </tr>\n",
       "    <tr>\n",
       "      <th>pressure</th>\n",
       "      <th>level</th>\n",
       "      <th></th>\n",
       "      <th></th>\n",
       "      <th></th>\n",
       "    </tr>\n",
       "  </thead>\n",
       "  <tbody>\n",
       "    <tr>\n",
       "      <th>0.0000</th>\n",
       "      <th>1</th>\n",
       "      <td>-17.779313</td>\n",
       "      <td>0.000000</td>\n",
       "      <td>-17.779313</td>\n",
       "    </tr>\n",
       "    <tr>\n",
       "      <th>1.0685</th>\n",
       "      <th>24</th>\n",
       "      <td>-17.941817</td>\n",
       "      <td>0.888772</td>\n",
       "      <td>-17.053045</td>\n",
       "    </tr>\n",
       "    <tr>\n",
       "      <th>1013.0000</th>\n",
       "      <th>76</th>\n",
       "      <td>-43.964837</td>\n",
       "      <td>43.534834</td>\n",
       "      <td>-0.430003</td>\n",
       "    </tr>\n",
       "  </tbody>\n",
       "</table>\n",
       "</div>"
      ],
      "text/plain": [
       "                      flug       fldg      fnetg\n",
       "pressure  level                                 \n",
       "0.0000    1     -17.779313   0.000000 -17.779313\n",
       "1.0685    24    -17.941817   0.888772 -17.053045\n",
       "1013.0000 76    -43.964837  43.534834  -0.430003"
      ]
     },
     "metadata": {},
     "output_type": "display_data"
    },
    {
     "name": "stdout",
     "output_type": "stream",
     "text": [
      "Table. Fluxes. CRD\n"
     ]
    },
    {
     "data": {
      "text/html": [
       "<div>\n",
       "<style scoped>\n",
       "    .dataframe tbody tr th:only-of-type {\n",
       "        vertical-align: middle;\n",
       "    }\n",
       "\n",
       "    .dataframe tbody tr th {\n",
       "        vertical-align: top;\n",
       "    }\n",
       "\n",
       "    .dataframe thead th {\n",
       "        text-align: right;\n",
       "    }\n",
       "</style>\n",
       "<table border=\"1\" class=\"dataframe\">\n",
       "  <thead>\n",
       "    <tr style=\"text-align: right;\">\n",
       "      <th></th>\n",
       "      <th></th>\n",
       "      <th>flug</th>\n",
       "      <th>fldg</th>\n",
       "      <th>fnetg</th>\n",
       "    </tr>\n",
       "    <tr>\n",
       "      <th>pressure</th>\n",
       "      <th>level</th>\n",
       "      <th></th>\n",
       "      <th></th>\n",
       "      <th></th>\n",
       "    </tr>\n",
       "  </thead>\n",
       "  <tbody>\n",
       "    <tr>\n",
       "      <th>0.0000</th>\n",
       "      <th>1</th>\n",
       "      <td>-17.561536</td>\n",
       "      <td>0.000000</td>\n",
       "      <td>-17.561536</td>\n",
       "    </tr>\n",
       "    <tr>\n",
       "      <th>1.0685</th>\n",
       "      <th>24</th>\n",
       "      <td>-17.730078</td>\n",
       "      <td>0.905176</td>\n",
       "      <td>-16.824902</td>\n",
       "    </tr>\n",
       "    <tr>\n",
       "      <th>1013.0000</th>\n",
       "      <th>76</th>\n",
       "      <td>-43.964837</td>\n",
       "      <td>43.651683</td>\n",
       "      <td>-0.313154</td>\n",
       "    </tr>\n",
       "  </tbody>\n",
       "</table>\n",
       "</div>"
      ],
      "text/plain": [
       "                      flug       fldg      fnetg\n",
       "pressure  level                                 \n",
       "0.0000    1     -17.561536   0.000000 -17.561536\n",
       "1.0685    24    -17.730078   0.905176 -16.824902\n",
       "1013.0000 76    -43.964837  43.651683  -0.313154"
      ]
     },
     "metadata": {},
     "output_type": "display_data"
    },
    {
     "name": "stdout",
     "output_type": "stream",
     "text": [
      "Table. Fluxes. WGT igg=10 wgt_flux=1\n"
     ]
    },
    {
     "data": {
      "text/html": [
       "<div>\n",
       "<style scoped>\n",
       "    .dataframe tbody tr th:only-of-type {\n",
       "        vertical-align: middle;\n",
       "    }\n",
       "\n",
       "    .dataframe tbody tr th {\n",
       "        vertical-align: top;\n",
       "    }\n",
       "\n",
       "    .dataframe thead th {\n",
       "        text-align: right;\n",
       "    }\n",
       "</style>\n",
       "<table border=\"1\" class=\"dataframe\">\n",
       "  <thead>\n",
       "    <tr style=\"text-align: right;\">\n",
       "      <th></th>\n",
       "      <th></th>\n",
       "      <th>flug</th>\n",
       "      <th>fldg</th>\n",
       "      <th>fnetg</th>\n",
       "    </tr>\n",
       "    <tr>\n",
       "      <th>pressure</th>\n",
       "      <th>level</th>\n",
       "      <th></th>\n",
       "      <th></th>\n",
       "      <th></th>\n",
       "    </tr>\n",
       "  </thead>\n",
       "  <tbody>\n",
       "    <tr>\n",
       "      <th>1.000000e-08</th>\n",
       "      <th>1</th>\n",
       "      <td>-17.458206</td>\n",
       "      <td>0.000182</td>\n",
       "      <td>-17.458024</td>\n",
       "    </tr>\n",
       "    <tr>\n",
       "      <th>1.068500e+00</th>\n",
       "      <th>24</th>\n",
       "      <td>-17.621985</td>\n",
       "      <td>0.892340</td>\n",
       "      <td>-16.729645</td>\n",
       "    </tr>\n",
       "    <tr>\n",
       "      <th>1.013000e+03</th>\n",
       "      <th>76</th>\n",
       "      <td>-43.964840</td>\n",
       "      <td>43.673598</td>\n",
       "      <td>-0.291242</td>\n",
       "    </tr>\n",
       "  </tbody>\n",
       "</table>\n",
       "</div>"
      ],
      "text/plain": [
       "                         flug       fldg      fnetg\n",
       "pressure     level                                 \n",
       "1.000000e-08 1     -17.458206   0.000182 -17.458024\n",
       "1.068500e+00 24    -17.621985   0.892340 -16.729645\n",
       "1.013000e+03 76    -43.964840  43.673598  -0.291242"
      ]
     },
     "metadata": {},
     "output_type": "display_data"
    },
    {
     "name": "stdout",
     "output_type": "stream",
     "text": [
      "Table. Fluxes. CLIRAD\n"
     ]
    },
    {
     "data": {
      "text/html": [
       "<div>\n",
       "<style scoped>\n",
       "    .dataframe tbody tr th:only-of-type {\n",
       "        vertical-align: middle;\n",
       "    }\n",
       "\n",
       "    .dataframe tbody tr th {\n",
       "        vertical-align: top;\n",
       "    }\n",
       "\n",
       "    .dataframe thead th {\n",
       "        text-align: right;\n",
       "    }\n",
       "</style>\n",
       "<table border=\"1\" class=\"dataframe\">\n",
       "  <thead>\n",
       "    <tr style=\"text-align: right;\">\n",
       "      <th></th>\n",
       "      <th></th>\n",
       "      <th>flug</th>\n",
       "      <th>fldg</th>\n",
       "      <th>fnetg</th>\n",
       "    </tr>\n",
       "    <tr>\n",
       "      <th>pressure</th>\n",
       "      <th>level</th>\n",
       "      <th></th>\n",
       "      <th></th>\n",
       "      <th></th>\n",
       "    </tr>\n",
       "  </thead>\n",
       "  <tbody>\n",
       "    <tr>\n",
       "      <th>0.0000</th>\n",
       "      <th>1</th>\n",
       "      <td>2.177766e-01</td>\n",
       "      <td>0.000000</td>\n",
       "      <td>0.217777</td>\n",
       "    </tr>\n",
       "    <tr>\n",
       "      <th>1.0685</th>\n",
       "      <th>24</th>\n",
       "      <td>2.117385e-01</td>\n",
       "      <td>0.016404</td>\n",
       "      <td>0.228143</td>\n",
       "    </tr>\n",
       "    <tr>\n",
       "      <th>1013.0000</th>\n",
       "      <th>76</th>\n",
       "      <td>-2.700000e-08</td>\n",
       "      <td>0.116849</td>\n",
       "      <td>0.116849</td>\n",
       "    </tr>\n",
       "  </tbody>\n",
       "</table>\n",
       "</div>"
      ],
      "text/plain": [
       "                         flug      fldg     fnetg\n",
       "pressure  level                                  \n",
       "0.0000    1      2.177766e-01  0.000000  0.217777\n",
       "1.0685    24     2.117385e-01  0.016404  0.228143\n",
       "1013.0000 76    -2.700000e-08  0.116849  0.116849"
      ]
     },
     "metadata": {},
     "output_type": "display_data"
    },
    {
     "name": "stdout",
     "output_type": "stream",
     "text": [
      "Table. Fluxes. (WGT igg=10 wgt_flux=1) - (CRD)\n"
     ]
    },
    {
     "data": {
      "text/html": [
       "<div>\n",
       "<style scoped>\n",
       "    .dataframe tbody tr th:only-of-type {\n",
       "        vertical-align: middle;\n",
       "    }\n",
       "\n",
       "    .dataframe tbody tr th {\n",
       "        vertical-align: top;\n",
       "    }\n",
       "\n",
       "    .dataframe thead th {\n",
       "        text-align: right;\n",
       "    }\n",
       "</style>\n",
       "<table border=\"1\" class=\"dataframe\">\n",
       "  <thead>\n",
       "    <tr style=\"text-align: right;\">\n",
       "      <th></th>\n",
       "      <th></th>\n",
       "      <th>flug</th>\n",
       "      <th>fldg</th>\n",
       "      <th>fnetg</th>\n",
       "    </tr>\n",
       "    <tr>\n",
       "      <th>pressure</th>\n",
       "      <th>level</th>\n",
       "      <th></th>\n",
       "      <th></th>\n",
       "      <th></th>\n",
       "    </tr>\n",
       "  </thead>\n",
       "  <tbody>\n",
       "    <tr>\n",
       "      <th>0.0000</th>\n",
       "      <th>1</th>\n",
       "      <td>0.321107</td>\n",
       "      <td>0.000182</td>\n",
       "      <td>0.321289</td>\n",
       "    </tr>\n",
       "    <tr>\n",
       "      <th>1.0685</th>\n",
       "      <th>24</th>\n",
       "      <td>0.319832</td>\n",
       "      <td>0.003568</td>\n",
       "      <td>0.323400</td>\n",
       "    </tr>\n",
       "    <tr>\n",
       "      <th>1013.0000</th>\n",
       "      <th>76</th>\n",
       "      <td>-0.000003</td>\n",
       "      <td>0.138764</td>\n",
       "      <td>0.138761</td>\n",
       "    </tr>\n",
       "  </tbody>\n",
       "</table>\n",
       "</div>"
      ],
      "text/plain": [
       "                     flug      fldg     fnetg\n",
       "pressure  level                              \n",
       "0.0000    1      0.321107  0.000182  0.321289\n",
       "1.0685    24     0.319832  0.003568  0.323400\n",
       "1013.0000 76    -0.000003  0.138764  0.138761"
      ]
     },
     "metadata": {},
     "output_type": "display_data"
    },
    {
     "name": "stdout",
     "output_type": "stream",
     "text": [
      "Table. Fluxes. (CLIRAD) - (CRD)\n"
     ]
    },
    {
     "data": {
      "text/html": [
       "<a id=\"Best-fit_Parameters\"></a>"
      ],
      "text/plain": [
       "<IPython.core.display.HTML object>"
      ]
     },
     "metadata": {},
     "output_type": "display_data"
    },
    {
     "data": {
      "text/markdown": [
       "# Best-fit Parameters"
      ],
      "text/plain": [
       "<IPython.core.display.Markdown object>"
      ]
     },
     "metadata": {},
     "output_type": "display_data"
    },
    {
     "name": "stdout",
     "output_type": "stream",
     "text": [
      "Best-fit values for each (gas, band)\n",
      "------------------------------------\n",
      "o co2 band3b\n",
      "  atmpro = mls\n",
      "  band = 3b\n",
      "  commitnumber = a06b618\n",
      "  conc = 0.0004\n",
      "  dv = 0.001\n",
      "  klin = 0\n",
      "  molecule = co2\n",
      "  ng_adju = [0, 0]\n",
      "  ng_refs = [5, 2]\n",
      "  nv = 1000\n",
      "  option_compute_btable = 0\n",
      "  option_compute_ktable = 1\n",
      "  option_wgt_flux = 1\n",
      "  option_wgt_k = 1\n",
      "  ref_pts = [(1, 250), (10, 250)]\n",
      "  tsfc = 294\n",
      "  vmax = 720\n",
      "  vmin = 620\n",
      "  w_diffuse = [(1.66, 1.66, 1.66, 1.66, 1.66), (1.66, 1.66)]\n",
      "  wgt = [(0, 0.6, 0.5, 0.7, 0.8), (0.8, 0.7)]\n"
     ]
    }
   ],
   "source": [
    "script()"
   ]
  },
  {
   "cell_type": "code",
   "execution_count": 13,
   "metadata": {
    "collapsed": true
   },
   "outputs": [
    {
     "data": {
      "text/html": [
       "<script>\n",
       "code_show=true; \n",
       "function code_toggle() {\n",
       " if (code_show){\n",
       " $('div.input').hide();\n",
       " } else {\n",
       " $('div.input').show();\n",
       " }\n",
       " code_show = !code_show\n",
       "} \n",
       "$( document ).ready(code_toggle);\n",
       "</script>\n",
       "<form action=\"javascript:code_toggle()\"><input type=\"submit\" value=\"Click here to toggle on/off the raw code.\"></form>"
      ],
      "text/plain": [
       "<IPython.core.display.HTML object>"
      ]
     },
     "execution_count": 13,
     "metadata": {},
     "output_type": "execute_result"
    }
   ],
   "source": [
    "display.HTML('''<script>\n",
    "code_show=true; \n",
    "function code_toggle() {\n",
    " if (code_show){\n",
    " $('div.input').hide();\n",
    " } else {\n",
    " $('div.input').show();\n",
    " }\n",
    " code_show = !code_show\n",
    "} \n",
    "$( document ).ready(code_toggle);\n",
    "</script>\n",
    "<form action=\"javascript:code_toggle()\"><input type=\"submit\" value=\"Click here to toggle on/off the raw code.\"></form>''')"
   ]
  }
 ],
 "metadata": {
  "kernelspec": {
   "display_name": "Python 3",
   "language": "python",
   "name": "python3"
  },
  "language_info": {
   "codemirror_mode": {
    "name": "ipython",
    "version": 3
   },
   "file_extension": ".py",
   "mimetype": "text/x-python",
   "name": "python",
   "nbconvert_exporter": "python",
   "pygments_lexer": "ipython3",
   "version": "3.6.1"
  }
 },
 "nbformat": 4,
 "nbformat_minor": 2
}
