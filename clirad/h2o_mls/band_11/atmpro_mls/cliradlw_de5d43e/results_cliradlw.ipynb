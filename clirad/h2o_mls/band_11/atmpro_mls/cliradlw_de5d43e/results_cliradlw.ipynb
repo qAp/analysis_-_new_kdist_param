{
 "cells": [
  {
   "cell_type": "code",
   "execution_count": 1,
   "metadata": {
    "collapsed": true
   },
   "outputs": [],
   "source": [
    "%matplotlib inline\n",
    "import os\n",
    "import re\n",
    "import io\n",
    "import itertools\n",
    "import pprint\n",
    "\n",
    "from bokeh.io import output_notebook, show\n",
    "from bokeh.layouts import gridplot\n",
    "from bokeh.plotting import figure\n",
    "from bokeh.models import Range1d, Legend\n",
    "from bokeh.palettes import all_palettes\n",
    "\n",
    "import matplotlib\n",
    "import matplotlib.pyplot as plt\n",
    "import numpy as np\n",
    "import pandas as pd\n",
    "import xarray as xr\n",
    "\n",
    "import climatools.lblnew.bestfit_params as bestfits\n",
    "from climatools.lblnew import setup_bestfit, setup_overlap\n",
    "import climatools.lblnew.pipeline as pipe_lblnew\n",
    "import climatools.cliradlw.setup as setup_cliradlw\n",
    "import climatools.cliradlw.pipeline as pipe_cliradlw\n",
    "\n",
    "import climatools.html.html as climahtml\n",
    "from climatools.lblnew.dataio import *\n",
    "from climatools.plot.plot import *\n",
    "\n",
    "\n",
    "import IPython.display as display"
   ]
  },
  {
   "cell_type": "code",
   "execution_count": 2,
   "metadata": {
    "collapsed": true
   },
   "outputs": [],
   "source": [
    "%run param.py"
   ]
  },
  {
   "cell_type": "code",
   "execution_count": 3,
   "metadata": {
    "collapsed": true
   },
   "outputs": [],
   "source": [
    "def load_output_file(path_csv):\n",
    "    '''\n",
    "    Load lblnew output .csv file to xarray.Dataset\n",
    "    \n",
    "    Parameters\n",
    "    ----------\n",
    "    path_csv: str\n",
    "              Path to the .csv file to be loaded.\n",
    "    ds: xarray.Dataset\n",
    "        Data in the input file in the form of an xarray.Dataset.\n",
    "    '''\n",
    "    toindex = ['band', 'pressure', 'igg', 'g']    \n",
    "    df = pd.read_csv(path_csv, sep=r'\\s+')\n",
    "    df = df.set_index([i for i in toindex if i in df.columns])\n",
    "    df = df.rename(columns={'sfu': 'flug',\n",
    "                            'sfd': 'fldg',\n",
    "                            'fnet': 'fnetg',\n",
    "                            'coolr': 'coolrg'})\n",
    "    ds = xr.Dataset.from_dataframe(df)\n",
    "\n",
    "    for l in ('level', 'layer'):\n",
    "        if l in ds.data_vars:\n",
    "            if len(ds[l].dims) > 1:\n",
    "                surface = {d: 0 for d in ds.dims if d != 'pressure'}\n",
    "                coord_level = ds[l][surface]\n",
    "                ds.coords[l] = ('pressure', coord_level)\n",
    "            else:\n",
    "                ds.coords[l] = ('pressure', ds[l])\n",
    "    \n",
    "    return ds"
   ]
  },
  {
   "cell_type": "code",
   "execution_count": 4,
   "metadata": {
    "collapsed": true
   },
   "outputs": [],
   "source": [
    "def lblnew_setup(param=None):\n",
    "    if 'ng_refs' in param:\n",
    "        return {'setup': setup_bestfit,\n",
    "                'fname_flux_crd': 'output_flux.dat',\n",
    "                'fname_cool_crd': 'output_coolr.dat',\n",
    "                'fname_flux_wgt': 'output_wfluxg.dat',\n",
    "                'fname_cool_wgt': 'output_wcoolrg.dat'}\n",
    "    else:\n",
    "        return {'setup': setup_overlap,\n",
    "                'fname_flux_crd': 'output_flux.dat',\n",
    "                'fname_cool_crd': 'output_coolr.dat',\n",
    "                'fname_flux_wgt': 'output_wflux.dat',\n",
    "                'fname_cool_wgt': 'output_wcoolr.dat'}\n",
    "\n",
    "    \n",
    "def load_lblnew_data(param):\n",
    "    \n",
    "    fname_dsname = [('fname_flux_crd', 'ds_flux_crd'),\n",
    "                    ('fname_cool_crd', 'ds_cool_crd'),\n",
    "                    ('fname_flux_wgt', 'ds_flux_wgt'),\n",
    "                    ('fname_cool_wgt', 'ds_cool_wgt')]\n",
    "    \n",
    "    d = lblnew_setup(param)\n",
    "    dir_fortran = pipe_lblnew.get_dir_case(param, setup=d['setup'])\n",
    "    \n",
    "    data_dict = {}\n",
    "    for fname, dsname in fname_dsname:\n",
    "        fpath = os.path.join(dir_fortran, d[fname])\n",
    "        data_dict[dsname] = load_output_file(fpath)\n",
    "    return data_dict\n",
    "    \n",
    "\n",
    "    \n",
    "    "
   ]
  },
  {
   "cell_type": "code",
   "execution_count": 5,
   "metadata": {
    "collapsed": true
   },
   "outputs": [],
   "source": [
    "d = load_lblnew_data(PARAM_LBLNEW)\n",
    "\n",
    "DS_FLUX_CRD = d['ds_flux_crd']\n",
    "DS_COOL_CRD = d['ds_cool_crd']\n",
    "DS_FLUX_WGT = d['ds_flux_wgt']\n",
    "DS_COOL_WGT = d['ds_cool_wgt']"
   ]
  },
  {
   "cell_type": "code",
   "execution_count": 6,
   "metadata": {
    "collapsed": true
   },
   "outputs": [],
   "source": [
    "DIR_FORTRAN = pipe_cliradlw.get_fortran_dir(PARAM, \n",
    "                                            setup=setup_cliradlw)\n",
    "\n",
    "PATH_FLUX = os.path.join(DIR_FORTRAN, 'output_flux.dat')\n",
    "PATH_COOL = os.path.join(DIR_FORTRAN, 'output_coolr.dat')\n",
    "\n",
    "DS_FLUX = load_output_file(PATH_FLUX)\n",
    "DS_COOL = load_output_file(PATH_COOL)"
   ]
  },
  {
   "cell_type": "code",
   "execution_count": 7,
   "metadata": {
    "collapsed": true
   },
   "outputs": [
    {
     "data": {
      "text/html": [
       "\n",
       "    <div class=\"bk-root\">\n",
       "        <a href=\"https://bokeh.pydata.org\" target=\"_blank\" class=\"bk-logo bk-logo-small bk-logo-notebook\"></a>\n",
       "        <span id=\"c2a0a206-9565-4dbc-9ab7-d726f9339f9e\">Loading BokehJS ...</span>\n",
       "    </div>"
      ]
     },
     "metadata": {},
     "output_type": "display_data"
    },
    {
     "data": {
      "application/javascript": [
       "\n",
       "(function(root) {\n",
       "  function now() {\n",
       "    return new Date();\n",
       "  }\n",
       "\n",
       "  var force = true;\n",
       "\n",
       "  if (typeof (root._bokeh_onload_callbacks) === \"undefined\" || force === true) {\n",
       "    root._bokeh_onload_callbacks = [];\n",
       "    root._bokeh_is_loading = undefined;\n",
       "  }\n",
       "\n",
       "  var JS_MIME_TYPE = 'application/javascript';\n",
       "  var HTML_MIME_TYPE = 'text/html';\n",
       "  var EXEC_MIME_TYPE = 'application/vnd.bokehjs_exec.v0+json';\n",
       "  var CLASS_NAME = 'output_bokeh rendered_html';\n",
       "\n",
       "  /**\n",
       "   * Render data to the DOM node\n",
       "   */\n",
       "  function render(props, node) {\n",
       "    var script = document.createElement(\"script\");\n",
       "    node.appendChild(script);\n",
       "  }\n",
       "\n",
       "  /**\n",
       "   * Handle when an output is cleared or removed\n",
       "   */\n",
       "  function handleClearOutput(event, handle) {\n",
       "    var cell = handle.cell;\n",
       "\n",
       "    var id = cell.output_area._bokeh_element_id;\n",
       "    var server_id = cell.output_area._bokeh_server_id;\n",
       "    // Clean up Bokeh references\n",
       "    if (id !== undefined) {\n",
       "      Bokeh.index[id].model.document.clear();\n",
       "      delete Bokeh.index[id];\n",
       "    }\n",
       "\n",
       "    if (server_id !== undefined) {\n",
       "      // Clean up Bokeh references\n",
       "      var cmd = \"from bokeh.io.state import curstate; print(curstate().uuid_to_server['\" + server_id + \"'].get_sessions()[0].document.roots[0]._id)\";\n",
       "      cell.notebook.kernel.execute(cmd, {\n",
       "        iopub: {\n",
       "          output: function(msg) {\n",
       "            var element_id = msg.content.text.trim();\n",
       "            Bokeh.index[element_id].model.document.clear();\n",
       "            delete Bokeh.index[element_id];\n",
       "          }\n",
       "        }\n",
       "      });\n",
       "      // Destroy server and session\n",
       "      var cmd = \"import bokeh.io.notebook as ion; ion.destroy_server('\" + server_id + \"')\";\n",
       "      cell.notebook.kernel.execute(cmd);\n",
       "    }\n",
       "  }\n",
       "\n",
       "  /**\n",
       "   * Handle when a new output is added\n",
       "   */\n",
       "  function handleAddOutput(event, handle) {\n",
       "    var output_area = handle.output_area;\n",
       "    var output = handle.output;\n",
       "\n",
       "    // limit handleAddOutput to display_data with EXEC_MIME_TYPE content only\n",
       "    if ((output.output_type != \"display_data\") || (!output.data.hasOwnProperty(EXEC_MIME_TYPE))) {\n",
       "      return\n",
       "    }\n",
       "\n",
       "    var toinsert = output_area.element.find(\".\" + CLASS_NAME.split(' ')[0]);\n",
       "\n",
       "    if (output.metadata[EXEC_MIME_TYPE][\"id\"] !== undefined) {\n",
       "      toinsert[toinsert.length - 1].firstChild.textContent = output.data[JS_MIME_TYPE];\n",
       "      // store reference to embed id on output_area\n",
       "      output_area._bokeh_element_id = output.metadata[EXEC_MIME_TYPE][\"id\"];\n",
       "    }\n",
       "    if (output.metadata[EXEC_MIME_TYPE][\"server_id\"] !== undefined) {\n",
       "      var bk_div = document.createElement(\"div\");\n",
       "      bk_div.innerHTML = output.data[HTML_MIME_TYPE];\n",
       "      var script_attrs = bk_div.children[0].attributes;\n",
       "      for (var i = 0; i < script_attrs.length; i++) {\n",
       "        toinsert[toinsert.length - 1].firstChild.setAttribute(script_attrs[i].name, script_attrs[i].value);\n",
       "      }\n",
       "      // store reference to server id on output_area\n",
       "      output_area._bokeh_server_id = output.metadata[EXEC_MIME_TYPE][\"server_id\"];\n",
       "    }\n",
       "  }\n",
       "\n",
       "  function register_renderer(events, OutputArea) {\n",
       "\n",
       "    function append_mime(data, metadata, element) {\n",
       "      // create a DOM node to render to\n",
       "      var toinsert = this.create_output_subarea(\n",
       "        metadata,\n",
       "        CLASS_NAME,\n",
       "        EXEC_MIME_TYPE\n",
       "      );\n",
       "      this.keyboard_manager.register_events(toinsert);\n",
       "      // Render to node\n",
       "      var props = {data: data, metadata: metadata[EXEC_MIME_TYPE]};\n",
       "      render(props, toinsert[toinsert.length - 1]);\n",
       "      element.append(toinsert);\n",
       "      return toinsert\n",
       "    }\n",
       "\n",
       "    /* Handle when an output is cleared or removed */\n",
       "    events.on('clear_output.CodeCell', handleClearOutput);\n",
       "    events.on('delete.Cell', handleClearOutput);\n",
       "\n",
       "    /* Handle when a new output is added */\n",
       "    events.on('output_added.OutputArea', handleAddOutput);\n",
       "\n",
       "    /**\n",
       "     * Register the mime type and append_mime function with output_area\n",
       "     */\n",
       "    OutputArea.prototype.register_mime_type(EXEC_MIME_TYPE, append_mime, {\n",
       "      /* Is output safe? */\n",
       "      safe: true,\n",
       "      /* Index of renderer in `output_area.display_order` */\n",
       "      index: 0\n",
       "    });\n",
       "  }\n",
       "\n",
       "  // register the mime type if in Jupyter Notebook environment and previously unregistered\n",
       "  if (root.Jupyter !== undefined) {\n",
       "    var events = require('base/js/events');\n",
       "    var OutputArea = require('notebook/js/outputarea').OutputArea;\n",
       "\n",
       "    if (OutputArea.prototype.mime_types().indexOf(EXEC_MIME_TYPE) == -1) {\n",
       "      register_renderer(events, OutputArea);\n",
       "    }\n",
       "  }\n",
       "\n",
       "  \n",
       "  if (typeof (root._bokeh_timeout) === \"undefined\" || force === true) {\n",
       "    root._bokeh_timeout = Date.now() + 5000;\n",
       "    root._bokeh_failed_load = false;\n",
       "  }\n",
       "\n",
       "  var NB_LOAD_WARNING = {'data': {'text/html':\n",
       "     \"<div style='background-color: #fdd'>\\n\"+\n",
       "     \"<p>\\n\"+\n",
       "     \"BokehJS does not appear to have successfully loaded. If loading BokehJS from CDN, this \\n\"+\n",
       "     \"may be due to a slow or bad network connection. Possible fixes:\\n\"+\n",
       "     \"</p>\\n\"+\n",
       "     \"<ul>\\n\"+\n",
       "     \"<li>re-rerun `output_notebook()` to attempt to load from CDN again, or</li>\\n\"+\n",
       "     \"<li>use INLINE resources instead, as so:</li>\\n\"+\n",
       "     \"</ul>\\n\"+\n",
       "     \"<code>\\n\"+\n",
       "     \"from bokeh.resources import INLINE\\n\"+\n",
       "     \"output_notebook(resources=INLINE)\\n\"+\n",
       "     \"</code>\\n\"+\n",
       "     \"</div>\"}};\n",
       "\n",
       "  function display_loaded() {\n",
       "    var el = document.getElementById(\"c2a0a206-9565-4dbc-9ab7-d726f9339f9e\");\n",
       "    if (el != null) {\n",
       "      el.textContent = \"BokehJS is loading...\";\n",
       "    }\n",
       "    if (root.Bokeh !== undefined) {\n",
       "      if (el != null) {\n",
       "        el.textContent = \"BokehJS \" + root.Bokeh.version + \" successfully loaded.\";\n",
       "      }\n",
       "    } else if (Date.now() < root._bokeh_timeout) {\n",
       "      setTimeout(display_loaded, 100)\n",
       "    }\n",
       "  }\n",
       "\n",
       "\n",
       "  function run_callbacks() {\n",
       "    try {\n",
       "      root._bokeh_onload_callbacks.forEach(function(callback) { callback() });\n",
       "    }\n",
       "    finally {\n",
       "      delete root._bokeh_onload_callbacks\n",
       "    }\n",
       "    console.info(\"Bokeh: all callbacks have finished\");\n",
       "  }\n",
       "\n",
       "  function load_libs(js_urls, callback) {\n",
       "    root._bokeh_onload_callbacks.push(callback);\n",
       "    if (root._bokeh_is_loading > 0) {\n",
       "      console.log(\"Bokeh: BokehJS is being loaded, scheduling callback at\", now());\n",
       "      return null;\n",
       "    }\n",
       "    if (js_urls == null || js_urls.length === 0) {\n",
       "      run_callbacks();\n",
       "      return null;\n",
       "    }\n",
       "    console.log(\"Bokeh: BokehJS not loaded, scheduling load and callback at\", now());\n",
       "    root._bokeh_is_loading = js_urls.length;\n",
       "    for (var i = 0; i < js_urls.length; i++) {\n",
       "      var url = js_urls[i];\n",
       "      var s = document.createElement('script');\n",
       "      s.src = url;\n",
       "      s.async = false;\n",
       "      s.onreadystatechange = s.onload = function() {\n",
       "        root._bokeh_is_loading--;\n",
       "        if (root._bokeh_is_loading === 0) {\n",
       "          console.log(\"Bokeh: all BokehJS libraries loaded\");\n",
       "          run_callbacks()\n",
       "        }\n",
       "      };\n",
       "      s.onerror = function() {\n",
       "        console.warn(\"failed to load library \" + url);\n",
       "      };\n",
       "      console.log(\"Bokeh: injecting script tag for BokehJS library: \", url);\n",
       "      document.getElementsByTagName(\"head\")[0].appendChild(s);\n",
       "    }\n",
       "  };var element = document.getElementById(\"c2a0a206-9565-4dbc-9ab7-d726f9339f9e\");\n",
       "  if (element == null) {\n",
       "    console.log(\"Bokeh: ERROR: autoload.js configured with elementid 'c2a0a206-9565-4dbc-9ab7-d726f9339f9e' but no matching script tag was found. \")\n",
       "    return false;\n",
       "  }\n",
       "\n",
       "  var js_urls = [\"https://cdn.pydata.org/bokeh/release/bokeh-0.12.16.min.js\", \"https://cdn.pydata.org/bokeh/release/bokeh-widgets-0.12.16.min.js\", \"https://cdn.pydata.org/bokeh/release/bokeh-tables-0.12.16.min.js\", \"https://cdn.pydata.org/bokeh/release/bokeh-gl-0.12.16.min.js\"];\n",
       "\n",
       "  var inline_js = [\n",
       "    function(Bokeh) {\n",
       "      Bokeh.set_log_level(\"info\");\n",
       "    },\n",
       "    \n",
       "    function(Bokeh) {\n",
       "      \n",
       "    },\n",
       "    function(Bokeh) {\n",
       "      console.log(\"Bokeh: injecting CSS: https://cdn.pydata.org/bokeh/release/bokeh-0.12.16.min.css\");\n",
       "      Bokeh.embed.inject_css(\"https://cdn.pydata.org/bokeh/release/bokeh-0.12.16.min.css\");\n",
       "      console.log(\"Bokeh: injecting CSS: https://cdn.pydata.org/bokeh/release/bokeh-widgets-0.12.16.min.css\");\n",
       "      Bokeh.embed.inject_css(\"https://cdn.pydata.org/bokeh/release/bokeh-widgets-0.12.16.min.css\");\n",
       "      console.log(\"Bokeh: injecting CSS: https://cdn.pydata.org/bokeh/release/bokeh-tables-0.12.16.min.css\");\n",
       "      Bokeh.embed.inject_css(\"https://cdn.pydata.org/bokeh/release/bokeh-tables-0.12.16.min.css\");\n",
       "    }\n",
       "  ];\n",
       "\n",
       "  function run_inline_js() {\n",
       "    \n",
       "    if ((root.Bokeh !== undefined) || (force === true)) {\n",
       "      for (var i = 0; i < inline_js.length; i++) {\n",
       "        inline_js[i].call(root, root.Bokeh);\n",
       "      }if (force === true) {\n",
       "        display_loaded();\n",
       "      }} else if (Date.now() < root._bokeh_timeout) {\n",
       "      setTimeout(run_inline_js, 100);\n",
       "    } else if (!root._bokeh_failed_load) {\n",
       "      console.log(\"Bokeh: BokehJS failed to load within specified timeout.\");\n",
       "      root._bokeh_failed_load = true;\n",
       "    } else if (force !== true) {\n",
       "      var cell = $(document.getElementById(\"c2a0a206-9565-4dbc-9ab7-d726f9339f9e\")).parents('.cell').data().cell;\n",
       "      cell.output_area.append_execute_result(NB_LOAD_WARNING)\n",
       "    }\n",
       "\n",
       "  }\n",
       "\n",
       "  if (root._bokeh_is_loading === 0) {\n",
       "    console.log(\"Bokeh: BokehJS loaded, going straight to plotting\");\n",
       "    run_inline_js();\n",
       "  } else {\n",
       "    load_libs(js_urls, function() {\n",
       "      console.log(\"Bokeh: BokehJS plotting callback run at\", now());\n",
       "      run_inline_js();\n",
       "    });\n",
       "  }\n",
       "}(window));"
      ],
      "application/vnd.bokehjs_load.v0+json": "\n(function(root) {\n  function now() {\n    return new Date();\n  }\n\n  var force = true;\n\n  if (typeof (root._bokeh_onload_callbacks) === \"undefined\" || force === true) {\n    root._bokeh_onload_callbacks = [];\n    root._bokeh_is_loading = undefined;\n  }\n\n  \n\n  \n  if (typeof (root._bokeh_timeout) === \"undefined\" || force === true) {\n    root._bokeh_timeout = Date.now() + 5000;\n    root._bokeh_failed_load = false;\n  }\n\n  var NB_LOAD_WARNING = {'data': {'text/html':\n     \"<div style='background-color: #fdd'>\\n\"+\n     \"<p>\\n\"+\n     \"BokehJS does not appear to have successfully loaded. If loading BokehJS from CDN, this \\n\"+\n     \"may be due to a slow or bad network connection. Possible fixes:\\n\"+\n     \"</p>\\n\"+\n     \"<ul>\\n\"+\n     \"<li>re-rerun `output_notebook()` to attempt to load from CDN again, or</li>\\n\"+\n     \"<li>use INLINE resources instead, as so:</li>\\n\"+\n     \"</ul>\\n\"+\n     \"<code>\\n\"+\n     \"from bokeh.resources import INLINE\\n\"+\n     \"output_notebook(resources=INLINE)\\n\"+\n     \"</code>\\n\"+\n     \"</div>\"}};\n\n  function display_loaded() {\n    var el = document.getElementById(\"c2a0a206-9565-4dbc-9ab7-d726f9339f9e\");\n    if (el != null) {\n      el.textContent = \"BokehJS is loading...\";\n    }\n    if (root.Bokeh !== undefined) {\n      if (el != null) {\n        el.textContent = \"BokehJS \" + root.Bokeh.version + \" successfully loaded.\";\n      }\n    } else if (Date.now() < root._bokeh_timeout) {\n      setTimeout(display_loaded, 100)\n    }\n  }\n\n\n  function run_callbacks() {\n    try {\n      root._bokeh_onload_callbacks.forEach(function(callback) { callback() });\n    }\n    finally {\n      delete root._bokeh_onload_callbacks\n    }\n    console.info(\"Bokeh: all callbacks have finished\");\n  }\n\n  function load_libs(js_urls, callback) {\n    root._bokeh_onload_callbacks.push(callback);\n    if (root._bokeh_is_loading > 0) {\n      console.log(\"Bokeh: BokehJS is being loaded, scheduling callback at\", now());\n      return null;\n    }\n    if (js_urls == null || js_urls.length === 0) {\n      run_callbacks();\n      return null;\n    }\n    console.log(\"Bokeh: BokehJS not loaded, scheduling load and callback at\", now());\n    root._bokeh_is_loading = js_urls.length;\n    for (var i = 0; i < js_urls.length; i++) {\n      var url = js_urls[i];\n      var s = document.createElement('script');\n      s.src = url;\n      s.async = false;\n      s.onreadystatechange = s.onload = function() {\n        root._bokeh_is_loading--;\n        if (root._bokeh_is_loading === 0) {\n          console.log(\"Bokeh: all BokehJS libraries loaded\");\n          run_callbacks()\n        }\n      };\n      s.onerror = function() {\n        console.warn(\"failed to load library \" + url);\n      };\n      console.log(\"Bokeh: injecting script tag for BokehJS library: \", url);\n      document.getElementsByTagName(\"head\")[0].appendChild(s);\n    }\n  };var element = document.getElementById(\"c2a0a206-9565-4dbc-9ab7-d726f9339f9e\");\n  if (element == null) {\n    console.log(\"Bokeh: ERROR: autoload.js configured with elementid 'c2a0a206-9565-4dbc-9ab7-d726f9339f9e' but no matching script tag was found. \")\n    return false;\n  }\n\n  var js_urls = [\"https://cdn.pydata.org/bokeh/release/bokeh-0.12.16.min.js\", \"https://cdn.pydata.org/bokeh/release/bokeh-widgets-0.12.16.min.js\", \"https://cdn.pydata.org/bokeh/release/bokeh-tables-0.12.16.min.js\", \"https://cdn.pydata.org/bokeh/release/bokeh-gl-0.12.16.min.js\"];\n\n  var inline_js = [\n    function(Bokeh) {\n      Bokeh.set_log_level(\"info\");\n    },\n    \n    function(Bokeh) {\n      \n    },\n    function(Bokeh) {\n      console.log(\"Bokeh: injecting CSS: https://cdn.pydata.org/bokeh/release/bokeh-0.12.16.min.css\");\n      Bokeh.embed.inject_css(\"https://cdn.pydata.org/bokeh/release/bokeh-0.12.16.min.css\");\n      console.log(\"Bokeh: injecting CSS: https://cdn.pydata.org/bokeh/release/bokeh-widgets-0.12.16.min.css\");\n      Bokeh.embed.inject_css(\"https://cdn.pydata.org/bokeh/release/bokeh-widgets-0.12.16.min.css\");\n      console.log(\"Bokeh: injecting CSS: https://cdn.pydata.org/bokeh/release/bokeh-tables-0.12.16.min.css\");\n      Bokeh.embed.inject_css(\"https://cdn.pydata.org/bokeh/release/bokeh-tables-0.12.16.min.css\");\n    }\n  ];\n\n  function run_inline_js() {\n    \n    if ((root.Bokeh !== undefined) || (force === true)) {\n      for (var i = 0; i < inline_js.length; i++) {\n        inline_js[i].call(root, root.Bokeh);\n      }if (force === true) {\n        display_loaded();\n      }} else if (Date.now() < root._bokeh_timeout) {\n      setTimeout(run_inline_js, 100);\n    } else if (!root._bokeh_failed_load) {\n      console.log(\"Bokeh: BokehJS failed to load within specified timeout.\");\n      root._bokeh_failed_load = true;\n    } else if (force !== true) {\n      var cell = $(document.getElementById(\"c2a0a206-9565-4dbc-9ab7-d726f9339f9e\")).parents('.cell').data().cell;\n      cell.output_area.append_execute_result(NB_LOAD_WARNING)\n    }\n\n  }\n\n  if (root._bokeh_is_loading === 0) {\n    console.log(\"Bokeh: BokehJS loaded, going straight to plotting\");\n    run_inline_js();\n  } else {\n    load_libs(js_urls, function() {\n      console.log(\"Bokeh: BokehJS plotting callback run at\", now());\n      run_inline_js();\n    });\n  }\n}(window));"
     },
     "metadata": {},
     "output_type": "display_data"
    }
   ],
   "source": [
    "output_notebook()"
   ]
  },
  {
   "cell_type": "code",
   "execution_count": 8,
   "metadata": {
    "collapsed": true
   },
   "outputs": [],
   "source": [
    "def fmt_cool(ds_in):\n",
    "    ds = ds_in.copy(deep=True)\n",
    "    if 'igg' in ds.dims:\n",
    "        ds = ds.sel(igg=1)\n",
    "\n",
    "    if 'g' in ds.dims:\n",
    "        ds = ds.sum('g')\n",
    "            \n",
    "    if 'band' in ds.dims:\n",
    "        try:\n",
    "            ds = ds.squeeze('band')\n",
    "        except ValueError:\n",
    "            ds = ds.sum('band')\n",
    "                \n",
    "    return ds['coolrg']\n",
    "\n",
    "\n",
    "def pltdata_cooling_1(ds_cool=None,\n",
    "                      ds_cool_crd=None, ds_cool_wgt=None):\n",
    "    \n",
    "\n",
    "\n",
    "    colors = all_palettes['Set1'][4]\n",
    "    data = [{'label': 'CLIRAD `coolr_bands`',\n",
    "             'srs': fmt_cool(ds_cool),\n",
    "             'line_dash': 'dashed', 'line_width': 5,\n",
    "             'color': colors[0], 'alpha': .6},\n",
    "            {'label': 'CRD',\n",
    "             'srs': fmt_cool(ds_cool_crd),\n",
    "             'line_dash': 'solid', 'line_width': 1.5,\n",
    "             'marker': 'circle', 'marker_size': 5,\n",
    "             'color': colors[2], 'alpha': 1,},\n",
    "            {'label': 'WGT igg=10 wgt_flux=2',\n",
    "             'srs': fmt_cool(ds_cool_wgt),\n",
    "             'line_dash': 'solid', 'line_width': 3,\n",
    "             'marker': 'square', 'marker_size': 5,\n",
    "             'color': colors[3], 'alpha': .6}]\n",
    "    return data\n",
    "\n",
    "\n",
    "def nice_xlims(pltdata=None, prange=None):\n",
    "    \n",
    "    def get_slice(srs):\n",
    "        return srs.sel(pressure=slice(*prange))\n",
    "    \n",
    "    srss = [d['srs'] for d in pltdata]\n",
    "    vmin = min([get_slice(srs).min() for srs in srss])\n",
    "    vmax = max([get_slice(srs).max() for srs in srss])\n",
    "    dv = (vmax - vmin) * .01\n",
    "    return float(vmin - dv), float(vmax + dv)\n",
    "    \n",
    "\n",
    "def plt_cooling_bokeh(pltdata=None):\n",
    "    '''\n",
    "    Plot a list of cooling rate profiles using bokeh.\n",
    "    '''\n",
    "    ymin = 1e-2 \n",
    "    ymax = 1020 \n",
    "        \n",
    "    p1 = figure(title=\"Linear pressure scale\", \n",
    "                plot_width=400)        \n",
    "    xmin, xmax = nice_xlims(pltdata, prange=(50, 1050))\n",
    "    for d in pltdata:\n",
    "        if 'marker' in d:\n",
    "            getattr(p1, d['marker'])(d['srs'].values, \n",
    "                    d['srs'].coords['pressure'].values,\n",
    "                    color=d['color'], alpha=.7)\n",
    "        p1.line(d['srs'].values, \n",
    "                d['srs'].coords['pressure'].values,\n",
    "                color=d['color'], alpha=d['alpha'], \n",
    "                line_width=d['line_width'], line_dash=d['line_dash'])\n",
    "    \n",
    "    p1.y_range = Range1d(ymax, ymin)\n",
    "    p1.yaxis.axis_label = 'pressure [mb]'   \n",
    "    p1.x_range = Range1d(xmin, xmax)\n",
    "    p1.xaxis.axis_label = 'cooling rate [K/day]'\n",
    "            \n",
    "    p2 = figure(title='Log pressure scale', y_axis_type='log',\n",
    "                plot_width=560)\n",
    "    xmin, xmax = nice_xlims(pltdata, prange=(.01, 200))\n",
    "    \n",
    "    rs = []\n",
    "    for d in pltdata:\n",
    "        rd = []\n",
    "        if 'marker' in d:\n",
    "            r_mark = getattr(p2, d['marker'])(d['srs'].values, \n",
    "                        d['srs'].coords['pressure'].values,\n",
    "                        color=d['color'], alpha=.7)\n",
    "            rd.append(r_mark)\n",
    "        r_line = p2.line(d['srs'].values, \n",
    "                    d['srs'].coords['pressure'].values,\n",
    "                    color=d['color'], alpha=d['alpha'], \n",
    "                    line_width=d['line_width'], line_dash=d['line_dash'])\n",
    "        rd.append(r_line)\n",
    "      \n",
    "        rs.append(rd)\n",
    "        \n",
    "    p2.y_range = Range1d(ymax, ymin)  \n",
    "    p2.yaxis.axis_label = 'pressure [mb]'\n",
    "    \n",
    "    p2.x_range = Range1d(xmin, xmax)\n",
    "    p2.xaxis.axis_label = 'cooling rate [K/day]'\n",
    "    \n",
    "    items = [(d['label'], r) for r, d in zip(rs, pltdata)]\n",
    "    legend = Legend(items=items, location=(10, -30))\n",
    "    legend.label_text_font_size = '8pt'\n",
    "    \n",
    "    p2.add_layout(legend, 'right')  \n",
    "    \n",
    "    show(gridplot(p1, p2, ncols=2, plot_height=500))\n",
    "    \n",
    "\n",
    "def script_plt_cooling():\n",
    "    pltdata = pltdata_cooling_1(\n",
    "        ds_cool=DS_COOL,\n",
    "        ds_cool_crd=DS_COOL_CRD,\n",
    "        ds_cool_wgt=DS_COOL_WGT)\n",
    "    plt_cooling_bokeh(pltdata=pltdata)\n",
    "    print('''FIGURE. Cooling rate profiles.''')"
   ]
  },
  {
   "cell_type": "code",
   "execution_count": 9,
   "metadata": {
    "collapsed": true
   },
   "outputs": [],
   "source": [
    "def fmt_flux(ds_in):\n",
    "    ds = ds_in.copy(deep=True)\n",
    "    \n",
    "    for l in ('level', 'layer'):\n",
    "        if l in ds.data_vars:\n",
    "            if len(ds[l].dims) > 1:\n",
    "                surface = {d: 0 for d in ds.dims if d != 'pressure'}\n",
    "                coord_level = ds[l][surface]\n",
    "                ds.coords[l] = ('pressure', coord_level)\n",
    "            else:\n",
    "                ds.coords[l] = ('pressure', ds[l])\n",
    "        \n",
    "    ds = ds.isel(pressure=[0, 23, -1])\n",
    "        \n",
    "    if 'igg' in ds.dims:\n",
    "        ds = ds.sel(igg=[1])\n",
    "        ds = ds.squeeze('igg').drop('igg')\n",
    "    \n",
    "    if 'g' in ds.dims:\n",
    "        ds = ds.sum('g')\n",
    "            \n",
    "    if 'band' in ds.dims:\n",
    "        try:\n",
    "            ds = ds.squeeze('band').drop('band')\n",
    "        except ValueError:\n",
    "            ds = ds.sum('band')\n",
    "                \n",
    "    df = ds.to_dataframe()\n",
    "    df = df.set_index('level', append=True)               \n",
    "    return df\n",
    "\n",
    "\n",
    "def tbdata_flux(ds_flux=None, ds_flux_crd=None, ds_flux_wgt=None):\n",
    "    ilevels = [0, 23, -1]\n",
    "            \n",
    "    benchmark = {'label': 'CRD',\n",
    "                 'df': fmt_flux(ds_flux_crd)}\n",
    "    \n",
    "    tbs = [{'label': 'WGT igg=10 wgt_flux=1',\n",
    "            'df': fmt_flux(ds_flux_wgt)},\n",
    "           {'label': 'CLIRAD',\n",
    "            'df': fmt_flux(ds_flux)}]\n",
    "    \n",
    "    data = {'benchmark': benchmark, 'others': tbs}\n",
    "    return data\n",
    "\n",
    "\n",
    "def tb_flux(tbdata=None):\n",
    "    benchmark = tbdata['benchmark']\n",
    "    others = tbdata['others']\n",
    "    \n",
    "    def show_tb(d=None):\n",
    "        display.display(d['df'])\n",
    "        print('Table.', 'Fluxes.', d['label'])\n",
    "        \n",
    "    def show_tbdiff(d0=None, d=None):\n",
    "        df = d['df']\n",
    "        df.index = d0['df'].index\n",
    "        display.display(df - d0['df'])\n",
    "        print('Table.', 'Fluxes.', \n",
    "              '({}) - ({})'.format(d['label'], d0['label']))\n",
    "        \n",
    "    show_tb(benchmark)\n",
    "    for d in others:\n",
    "        show_tb(d)\n",
    "        \n",
    "    for d in others:\n",
    "        show_tbdiff(d=d, d0=benchmark)\n",
    "        \n",
    "        \n",
    "def script_tb_flux():\n",
    "    data = tbdata_flux(ds_flux=DS_FLUX,\n",
    "                       ds_flux_crd=DS_FLUX_CRD,\n",
    "                       ds_flux_wgt=DS_FLUX_WGT)\n",
    "    tb_flux(tbdata=data)"
   ]
  },
  {
   "cell_type": "code",
   "execution_count": 10,
   "metadata": {
    "collapsed": true
   },
   "outputs": [],
   "source": [
    "def band_map():\n",
    "    '''\n",
    "    Maps spectral bands in lblnew to spectral bands in clirad.\n",
    "    '''\n",
    "    lblnew2clirad = {'1': '1',\n",
    "            '2': '2',\n",
    "            '3a': '3',\n",
    "            '3b': '4',\n",
    "            '3c': '5',\n",
    "            '4': '6', \n",
    "            '5': '7',\n",
    "            '6': '8',\n",
    "            '7': '9', \n",
    "            '8': '10',\n",
    "            '9': '11'}\n",
    "    \n",
    "    clirad2lblnew = {clirad: lblnew \n",
    "                     for lblnew, clirad in lblnew2clirad.items()}\n",
    "    return clirad2lblnew\n",
    "\n",
    "\n",
    "def gasbands():\n",
    "    bmap = band_map()\n",
    "    gases = list(PARAM['molecule'].keys())\n",
    "    \n",
    "    bands = [bmap[str(b)] for b in PARAM['band']]\n",
    "    return list(itertools.product(gases, bands))\n",
    "\n",
    "\n",
    "def print_bestfit_params():\n",
    "    print('Best-fit values for each (gas, band)')\n",
    "    print('------------------------------------')\n",
    "    for gas, band in gasbands():\n",
    "        print('o {} band{}'.format(gas, band))\n",
    "        param = bestfits.kdist_params(molecule=gas, band=band)\n",
    "        for name, value in sorted(param.items()):\n",
    "            print(2 * ' ' + '{} = {}'.format(name, value))\n",
    "\n",
    "        \n",
    "def print_input_param():        \n",
    "    for name, value in PARAM.items():\n",
    "        print('{} = {}'.format(name, value))\n",
    "        \n",
    "        \n",
    "def print_lblnew_param():\n",
    "    for name, value in sorted(PARAM_LBLNEW.items()):\n",
    "        print('{} = {}'.format(name, value))\n"
   ]
  },
  {
   "cell_type": "code",
   "execution_count": 11,
   "metadata": {
    "collapsed": true,
    "scrolled": false
   },
   "outputs": [],
   "source": [
    "def show_html(s):\n",
    "    display.display(display.HTML(s))\n",
    "\n",
    "    \n",
    "def show_markdown(s):\n",
    "    display.display(display.Markdown(s))\n",
    "\n",
    "    \n",
    "def script():\n",
    "    \n",
    "    title = '### CLIRAD-LW'\n",
    "    s_input = 'Input Parameters'\n",
    "    s_lblnew_param = 'LBLNEW case compaired against'\n",
    "    s_bestfits = 'Best-fit Parameters'\n",
    "    s_plt_cooling = 'Cooling Rate Profiles'\n",
    "    s_tb_flux = 'Flux Comparison'\n",
    "    \n",
    "    # title\n",
    "    show_markdown('### CLIRAD-LW')\n",
    "    \n",
    "    # TOC\n",
    "    show_markdown('### Table of Contents')\n",
    "    show_html(climahtml.getHTML_hrefanchor(s_input))\n",
    "    show_html(climahtml.getHTML_hrefanchor(s_lblnew_param))\n",
    "    show_html(climahtml.getHTML_hrefanchor(s_plt_cooling))\n",
    "    show_html(climahtml.getHTML_hrefanchor(s_tb_flux))\n",
    "    show_html(climahtml.getHTML_hrefanchor(s_bestfits))\n",
    "    \n",
    "    # Input parameters\n",
    "    show_html(climahtml.getHTML_idanchor(s_input))\n",
    "    show_markdown(climahtml.getMarkdown_sectitle(s_input))\n",
    "    print_input_param()\n",
    "    \n",
    "    # LBLNEW parameters \n",
    "    show_html(climahtml.getHTML_idanchor(s_lblnew_param))\n",
    "    show_markdown(climahtml.getMarkdown_sectitle(s_lblnew_param))\n",
    "    print_lblnew_param()\n",
    "    \n",
    "    # Cooling rate profiles\n",
    "    show_html(climahtml.getHTML_idanchor(s_plt_cooling))\n",
    "    show_markdown(climahtml.getMarkdown_sectitle(s_plt_cooling))\n",
    "    script_plt_cooling()\n",
    "    \n",
    "    # Flux comparison\n",
    "    show_html(climahtml.getHTML_idanchor(s_tb_flux))\n",
    "    show_markdown(climahtml.getMarkdown_sectitle(s_tb_flux))\n",
    "    script_tb_flux()\n",
    "    \n",
    "    # Best-fit values\n",
    "    show_html(climahtml.getHTML_idanchor(s_bestfits))\n",
    "    show_markdown(climahtml.getMarkdown_sectitle(s_bestfits))\n",
    "    print_bestfit_params()\n",
    "   \n",
    "    "
   ]
  },
  {
   "cell_type": "code",
   "execution_count": 12,
   "metadata": {
    "collapsed": true,
    "scrolled": false
   },
   "outputs": [
    {
     "data": {
      "text/markdown": [
       "### CLIRAD-LW"
      ],
      "text/plain": [
       "<IPython.core.display.Markdown object>"
      ]
     },
     "metadata": {},
     "output_type": "display_data"
    },
    {
     "data": {
      "text/markdown": [
       "### Table of Contents"
      ],
      "text/plain": [
       "<IPython.core.display.Markdown object>"
      ]
     },
     "metadata": {},
     "output_type": "display_data"
    },
    {
     "data": {
      "text/html": [
       "<a href=\"#Input_Parameters\">Input Parameters</a>"
      ],
      "text/plain": [
       "<IPython.core.display.HTML object>"
      ]
     },
     "metadata": {},
     "output_type": "display_data"
    },
    {
     "data": {
      "text/html": [
       "<a href=\"#LBLNEW_case_compaired_against\">LBLNEW case compaired against</a>"
      ],
      "text/plain": [
       "<IPython.core.display.HTML object>"
      ]
     },
     "metadata": {},
     "output_type": "display_data"
    },
    {
     "data": {
      "text/html": [
       "<a href=\"#Cooling_Rate_Profiles\">Cooling Rate Profiles</a>"
      ],
      "text/plain": [
       "<IPython.core.display.HTML object>"
      ]
     },
     "metadata": {},
     "output_type": "display_data"
    },
    {
     "data": {
      "text/html": [
       "<a href=\"#Flux_Comparison\">Flux Comparison</a>"
      ],
      "text/plain": [
       "<IPython.core.display.HTML object>"
      ]
     },
     "metadata": {},
     "output_type": "display_data"
    },
    {
     "data": {
      "text/html": [
       "<a href=\"#Best-fit_Parameters\">Best-fit Parameters</a>"
      ],
      "text/plain": [
       "<IPython.core.display.HTML object>"
      ]
     },
     "metadata": {},
     "output_type": "display_data"
    },
    {
     "data": {
      "text/html": [
       "<a id=\"Input_Parameters\"></a>"
      ],
      "text/plain": [
       "<IPython.core.display.HTML object>"
      ]
     },
     "metadata": {},
     "output_type": "display_data"
    },
    {
     "data": {
      "text/markdown": [
       "# Input Parameters"
      ],
      "text/plain": [
       "<IPython.core.display.Markdown object>"
      ]
     },
     "metadata": {},
     "output_type": "display_data"
    },
    {
     "name": "stdout",
     "output_type": "stream",
     "text": [
      "atmpro = mls\n",
      "band = [11]\n",
      "commitnumber = de5d43e\n",
      "molecule = {'h2o': 'atmpro'}\n",
      "tsfc = 294\n"
     ]
    },
    {
     "data": {
      "text/html": [
       "<a id=\"LBLNEW_case_compaired_against\"></a>"
      ],
      "text/plain": [
       "<IPython.core.display.HTML object>"
      ]
     },
     "metadata": {},
     "output_type": "display_data"
    },
    {
     "data": {
      "text/markdown": [
       "# LBLNEW case compaired against"
      ],
      "text/plain": [
       "<IPython.core.display.Markdown object>"
      ]
     },
     "metadata": {},
     "output_type": "display_data"
    },
    {
     "name": "stdout",
     "output_type": "stream",
     "text": [
      "atmpro = mls\n",
      "band = 9\n",
      "commitnumber = 5014a19\n",
      "conc = None\n",
      "dv = 0.001\n",
      "klin = 1e-24\n",
      "molecule = h2o\n",
      "ng_adju = [0]\n",
      "ng_refs = [5]\n",
      "nv = 1000\n",
      "option_compute_btable = 0\n",
      "option_compute_ktable = 0\n",
      "option_wgt_flux = 1\n",
      "option_wgt_k = 1\n",
      "ref_pts = [(500, 250)]\n",
      "tsfc = 294\n",
      "vmax = 3000\n",
      "vmin = 1900\n",
      "w_diffuse = [(1.66, 1.66, 1.66, 1.66, 1.66)]\n",
      "wgt = [(0.4, 0.4, 0.5, 0.55, 0.85)]\n"
     ]
    },
    {
     "data": {
      "text/html": [
       "<a id=\"Cooling_Rate_Profiles\"></a>"
      ],
      "text/plain": [
       "<IPython.core.display.HTML object>"
      ]
     },
     "metadata": {},
     "output_type": "display_data"
    },
    {
     "data": {
      "text/markdown": [
       "# Cooling Rate Profiles"
      ],
      "text/plain": [
       "<IPython.core.display.Markdown object>"
      ]
     },
     "metadata": {},
     "output_type": "display_data"
    },
    {
     "data": {
      "text/html": [
       "\n",
       "<div class=\"bk-root\">\n",
       "    <div class=\"bk-plotdiv\" id=\"472f15e3-a55a-4c2f-a48b-8021b5fdf33d\"></div>\n",
       "</div>"
      ]
     },
     "metadata": {},
     "output_type": "display_data"
    },
    {
     "data": {
      "application/javascript": [
       "(function(root) {\n",
       "  function embed_document(root) {\n",
       "    \n",
       "  var docs_json = {\"8b1d8fcf-a677-44bf-b580-f1b542fb40b6\":{\"roots\":{\"references\":[{\"attributes\":{\"line_alpha\":0.6,\"line_color\":\"#e41a1c\",\"line_dash\":[6],\"line_width\":5,\"x\":{\"field\":\"x\"},\"y\":{\"field\":\"y\"}},\"id\":\"7dd6de1b-4aa8-4b30-8791-4a79597cdc63\",\"type\":\"Line\"},{\"attributes\":{\"tools\":[{\"id\":\"8e417bd4-4cb9-4d0b-9bc1-0db9276ca4ae\",\"type\":\"PanTool\"},{\"id\":\"132e97ea-7a64-41a4-bed9-6ccbefabe84c\",\"type\":\"WheelZoomTool\"},{\"id\":\"a7dfa78f-b844-45de-88c4-01ceb034614e\",\"type\":\"BoxZoomTool\"},{\"id\":\"3678cfe7-bfa8-42ad-a11d-2da127c246e4\",\"type\":\"SaveTool\"},{\"id\":\"ed95f48d-9f0b-4e9d-bfa3-5c4326d5dab5\",\"type\":\"ResetTool\"},{\"id\":\"e2cb73a3-646f-441d-8b20-21044889e9ca\",\"type\":\"HelpTool\"},{\"id\":\"8b4e216c-5e72-4c45-8156-d6b93d77a4d2\",\"type\":\"PanTool\"},{\"id\":\"cac81bb7-52a2-4406-b1c5-5ca029e5406c\",\"type\":\"WheelZoomTool\"},{\"id\":\"2f1d36ba-5267-4965-b555-4f2322bc5adf\",\"type\":\"BoxZoomTool\"},{\"id\":\"ac9fc380-99cb-47f4-ad00-436f455642d4\",\"type\":\"SaveTool\"},{\"id\":\"5702a1d7-a395-49ad-90fc-b4055092412a\",\"type\":\"ResetTool\"},{\"id\":\"3a76de5c-6a17-4260-a7de-7403ae0257ef\",\"type\":\"HelpTool\"}]},\"id\":\"7cd0ab2f-ac4a-4ad9-b25d-319cbddafcc2\",\"type\":\"ProxyToolbar\"},{\"attributes\":{\"num_minor_ticks\":10},\"id\":\"eebe224e-1b8a-4f18-aa0e-99c1283e4620\",\"type\":\"LogTicker\"},{\"attributes\":{\"line_color\":\"#4daf4a\",\"line_width\":1.5,\"x\":{\"field\":\"x\"},\"y\":{\"field\":\"y\"}},\"id\":\"0358b174-c194-4758-bdaa-46f0b8ae1191\",\"type\":\"Line\"},{\"attributes\":{\"plot\":{\"id\":\"1c3a7190-c0d1-455e-84f1-6c817e9d0ef6\",\"subtype\":\"Figure\",\"type\":\"Plot\"},\"ticker\":{\"id\":\"01c36724-662f-469e-8e28-f36d348f85d1\",\"type\":\"BasicTicker\"}},\"id\":\"bdc69d25-58a9-45c7-ab06-d9527538ef54\",\"type\":\"Grid\"},{\"attributes\":{\"source\":{\"id\":\"9808d309-a373-4da1-81c8-00e6430ee00c\",\"type\":\"ColumnDataSource\"}},\"id\":\"86976378-01b3-4d00-b5a0-17bea25041af\",\"type\":\"CDSView\"},{\"attributes\":{\"toolbar\":{\"id\":\"7cd0ab2f-ac4a-4ad9-b25d-319cbddafcc2\",\"type\":\"ProxyToolbar\"},\"toolbar_location\":\"above\"},\"id\":\"a18584a7-5fbb-46cf-991b-8d4c3b950a3f\",\"type\":\"ToolbarBox\"},{\"attributes\":{\"below\":[{\"id\":\"8299a895-540e-4815-b3dd-8593b5b8ce66\",\"type\":\"LinearAxis\"}],\"left\":[{\"id\":\"b26b64ff-aa2a-42ef-96f4-78a2aa478c32\",\"type\":\"LinearAxis\"}],\"plot_height\":500,\"plot_width\":400,\"renderers\":[{\"id\":\"8299a895-540e-4815-b3dd-8593b5b8ce66\",\"type\":\"LinearAxis\"},{\"id\":\"593f2ae6-2894-4db4-b6c2-46516c812b10\",\"type\":\"Grid\"},{\"id\":\"b26b64ff-aa2a-42ef-96f4-78a2aa478c32\",\"type\":\"LinearAxis\"},{\"id\":\"1c01204f-5cf7-4d9e-a25e-43334b72fddb\",\"type\":\"Grid\"},{\"id\":\"1d87654d-c273-4d24-b13f-a6cdcd75cdd0\",\"type\":\"BoxAnnotation\"},{\"id\":\"0ad37493-2add-4a4f-8cc7-82b951fbe71e\",\"type\":\"GlyphRenderer\"},{\"id\":\"af9bb6c6-64f6-4d4d-947f-d928e1d6812b\",\"type\":\"GlyphRenderer\"},{\"id\":\"490dddec-d834-429e-9d34-c8cfa2e61e79\",\"type\":\"GlyphRenderer\"},{\"id\":\"b57b77cb-7149-4c7c-a3cb-03cff45a59e9\",\"type\":\"GlyphRenderer\"},{\"id\":\"a36f2f56-1261-4b5b-8335-b51634c06361\",\"type\":\"GlyphRenderer\"}],\"title\":{\"id\":\"e3fea3c9-6183-4616-b3ff-70eeef8359f1\",\"type\":\"Title\"},\"toolbar\":{\"id\":\"82aa79b8-1ce5-4ff1-9768-029b0f7720a0\",\"type\":\"Toolbar\"},\"toolbar_location\":null,\"x_range\":{\"id\":\"c83663d1-3908-4e71-857c-7252fe807b79\",\"type\":\"Range1d\"},\"x_scale\":{\"id\":\"09141f48-04a0-478c-8238-67ff802e6633\",\"type\":\"LinearScale\"},\"y_range\":{\"id\":\"1cf7ad39-bfd9-453a-9830-3409f4dc6e20\",\"type\":\"Range1d\"},\"y_scale\":{\"id\":\"61963e57-c11c-4f82-9e6a-ffb0e24d7aa1\",\"type\":\"LinearScale\"}},\"id\":\"13a30190-47f9-40ab-ba4c-312809a837c8\",\"subtype\":\"Figure\",\"type\":\"Plot\"},{\"attributes\":{},\"id\":\"01c36724-662f-469e-8e28-f36d348f85d1\",\"type\":\"BasicTicker\"},{\"attributes\":{\"children\":[{\"id\":\"a18584a7-5fbb-46cf-991b-8d4c3b950a3f\",\"type\":\"ToolbarBox\"},{\"id\":\"862e9ac8-ff32-4ffc-8dc8-5a4ced0baa3b\",\"type\":\"Column\"}]},\"id\":\"29856cce-6db7-4571-ad67-0069f755fab1\",\"type\":\"Column\"},{\"attributes\":{\"axis_label\":\"pressure [mb]\",\"formatter\":{\"id\":\"3292a78d-77d3-4ce0-b324-aa4cbbeb9d1c\",\"type\":\"LogTickFormatter\"},\"plot\":{\"id\":\"1c3a7190-c0d1-455e-84f1-6c817e9d0ef6\",\"subtype\":\"Figure\",\"type\":\"Plot\"},\"ticker\":{\"id\":\"eebe224e-1b8a-4f18-aa0e-99c1283e4620\",\"type\":\"LogTicker\"}},\"id\":\"46bdc808-5645-44dc-88c6-4320126980ff\",\"type\":\"LogAxis\"},{\"attributes\":{},\"id\":\"5702a1d7-a395-49ad-90fc-b4055092412a\",\"type\":\"ResetTool\"},{\"attributes\":{},\"id\":\"3a76de5c-6a17-4260-a7de-7403ae0257ef\",\"type\":\"HelpTool\"},{\"attributes\":{\"callback\":null,\"end\":0.0680272136463,\"start\":-0.0014033342763},\"id\":\"c83663d1-3908-4e71-857c-7252fe807b79\",\"type\":\"Range1d\"},{\"attributes\":{},\"id\":\"cac81bb7-52a2-4406-b1c5-5ca029e5406c\",\"type\":\"WheelZoomTool\"},{\"attributes\":{\"overlay\":{\"id\":\"1de3f7f9-4a4b-43ef-b216-3e84b1878af1\",\"type\":\"BoxAnnotation\"}},\"id\":\"2f1d36ba-5267-4965-b555-4f2322bc5adf\",\"type\":\"BoxZoomTool\"},{\"attributes\":{\"callback\":null,\"data\":{\"x\":{\"__ndarray__\":\"0YvHs6L2Rb8W19o4Q/RFv8GfM/iX60W/Qc4K/0vgRb8SWWKvTNNFv1NB3dutxUW/55i8JEm4Rb+dZFVAqqlFv7VCnuVXnEW/4mofinGPRb9h/xpWu4dFvzfk0RFehkW/W5LubCmORb/6dU0yyKFFv/4N6TVpdUW/3dfBcegERL9BuRSGCBtAv2Ht7Lt4bTK/8q5ujHSEDT9h1yxiJsVCP9Ih0wVs81U/WxNbVQAZZD9MQQsFhMhtP6Eb5xwfmW0/vqn/HLxwZD/aCTCdr4FYPxG9jVvEMks/qZbc1qRePD8bciYuMB4tP0GRCWE+LB4/O2HZWS+RDD9eJLo1pN/yPgWQ5i9Rp84+2KXkAkQ4n75VrNBWpxjkvq1clVyqwvi+w5riAc6EAb/Rr5c4ma4Ev5NmPU4cxQm/cQf3Ym7wDr84X0NSbosTv5scJiiq6Bu/CLdq06cAIL+rSANO8pMkv4RNyN2u0TC/ocHIFz8rNb/ccNdmUHwxvyFfWrkHmhW/14ESOgljLj80hd2WGU1GP9wBbZ9UilQ/xRAVt8WNXz/6PVVw/VVmP7ahkbCwHm4/rmv/POmacz9NBYiGred4P0j4fiRVLX8//YxTuNPSgz9d4So9PTCIPxL2cV3Gh4w/4I2GBVd2kD98RBeXVLSSP9lZ6tyRCpU/VvykryeHlz8a3KbdhzqaPx7vz/FDOJ0/2H0qG5Q4oD+ueqefw76hP1zUKbru4KI/hRRflHCGoz8KS12uVe2jP6jnOBLDaaQ/mHU5BBI9pT+WrGSp8MWmP5ON9XcwDqw/\",\"dtype\":\"float64\",\"shape\":[75]},\"y\":{\"__ndarray__\":\"GhExyth1ND/Sv8nbtpRIP2vylNV0PVE/aTum7souWD/At0SJ8fVgPw3Iuahxymc/MSNhhJWvcD/bTfBN02d3P2zb5nxnaoA/CD5h5MAGhz8NmeH1TyaQP+zrCsc9p5Y/LbKd76fGnz/bLW5ISEmmPww9YvTcQq8/JV2OstnstT8Er5Y7M8G+P0c+r3jqkcU/5h99k6ZBzj88bCIzFzjVP4enV8oyxN0//yH99nXg5D8qOpLLf0jtP5kqGJXUifQ/c9cS8kHP/D+/DpwzojQEQIEmwoanVwxA4lgXt9HgE0BSSZ2AJuIbQAMJih9jjiNA5q4l5INuK0AwTKYKRj0zQNv5fmq8/DpAaCJseHrtQkB/+zpwzoxKQM3MzMzMeFJAZmZmZmZqWEAAAAAAAFxeQM3MzMzMJmJAmpmZmZkfZUBmZmZmZhhoQDMzMzMzEWtAAAAAAAAKbkBmZmZmZoFwQM3MzMzM/XFAMzMzMzN6c0CamZmZmfZ0QAAAAAAAc3ZAZmZmZmbvd0DNzMzMzGt5QDMzMzMz6HpAmpmZmZlkfEAAAAAAAOF9QGZmZmZmXX9AZmZmZuZsgECamZmZGSuBQM3MzMxM6YFAAAAAAICngkAzMzMzs2WDQGZmZmbmI4RAmpmZmRnihEDNzMzMTKCFQAAAAACAXoZAMzMzM7Mch0BmZmZm5tqHQJqZmZkZmYhAzczMzExXiUAAAAAAgBWKQDMzMzOz04pAZmZmZuaRi0CamZmZGVCMQM3MzMxMDo1AAAAAAIDMjUAzMzMzs4qOQGZmZmbmSI9A\",\"dtype\":\"float64\",\"shape\":[75]}},\"selected\":{\"id\":\"47df0c2b-0172-4d28-96c6-0631867590d3\",\"type\":\"Selection\"},\"selection_policy\":{\"id\":\"3eb55fea-69b9-4558-912c-1f6bd4330fb3\",\"type\":\"UnionRenderers\"}},\"id\":\"d31122e2-f34b-48fa-bbf3-627f3daa79e2\",\"type\":\"ColumnDataSource\"},{\"attributes\":{\"below\":[{\"id\":\"4377af98-3698-4353-9acc-b94b6d70f626\",\"type\":\"LinearAxis\"}],\"left\":[{\"id\":\"46bdc808-5645-44dc-88c6-4320126980ff\",\"type\":\"LogAxis\"}],\"plot_height\":500,\"plot_width\":560,\"renderers\":[{\"id\":\"4377af98-3698-4353-9acc-b94b6d70f626\",\"type\":\"LinearAxis\"},{\"id\":\"bdc69d25-58a9-45c7-ab06-d9527538ef54\",\"type\":\"Grid\"},{\"id\":\"46bdc808-5645-44dc-88c6-4320126980ff\",\"type\":\"LogAxis\"},{\"id\":\"f2f3a224-188e-418b-8243-951eed288b00\",\"type\":\"Grid\"},{\"id\":\"1de3f7f9-4a4b-43ef-b216-3e84b1878af1\",\"type\":\"BoxAnnotation\"},{\"id\":\"0334ec9d-086a-46f2-8cba-6af8eb5eeb93\",\"type\":\"GlyphRenderer\"},{\"id\":\"92a8fe83-37e2-4985-9cd9-a7c50752de95\",\"type\":\"GlyphRenderer\"},{\"id\":\"e7e92e95-38bf-4ab9-9845-434ddf6e6d52\",\"type\":\"GlyphRenderer\"},{\"id\":\"9b7eaf6d-0a63-4af7-b806-4c63543e3155\",\"type\":\"GlyphRenderer\"},{\"id\":\"dc22500d-b98e-4f2c-a4f2-00a57641d553\",\"type\":\"GlyphRenderer\"},{\"id\":\"9421346b-6798-493f-b512-6bb4b6ea0846\",\"type\":\"Legend\"}],\"right\":[{\"id\":\"9421346b-6798-493f-b512-6bb4b6ea0846\",\"type\":\"Legend\"}],\"title\":{\"id\":\"63e5c937-5d43-4524-9565-6b17b5a31767\",\"type\":\"Title\"},\"toolbar\":{\"id\":\"6fc8050d-519f-4e90-b0e4-467142533d36\",\"type\":\"Toolbar\"},\"toolbar_location\":null,\"x_range\":{\"id\":\"7eb43707-3683-4dd5-a00c-309b63b801da\",\"type\":\"Range1d\"},\"x_scale\":{\"id\":\"5361e0a4-d629-4d8b-bf07-ebba6c21e0b9\",\"type\":\"LinearScale\"},\"y_range\":{\"id\":\"7bb2b7fd-21e4-416d-b0a9-a5fcedf7ccba\",\"type\":\"Range1d\"},\"y_scale\":{\"id\":\"27b0bdb8-cb6d-4eeb-83be-2835432fba6c\",\"type\":\"LogScale\"}},\"id\":\"1c3a7190-c0d1-455e-84f1-6c817e9d0ef6\",\"subtype\":\"Figure\",\"type\":\"Plot\"},{\"attributes\":{\"data_source\":{\"id\":\"d31122e2-f34b-48fa-bbf3-627f3daa79e2\",\"type\":\"ColumnDataSource\"},\"glyph\":{\"id\":\"1c13d31b-f24e-4a31-b60b-112e59398a6d\",\"type\":\"Circle\"},\"hover_glyph\":null,\"muted_glyph\":null,\"nonselection_glyph\":{\"id\":\"d3f009e6-6b3f-41e0-9658-fa5ea842c4af\",\"type\":\"Circle\"},\"selection_glyph\":null,\"view\":{\"id\":\"83515685-d157-4cf5-8973-af781d57b251\",\"type\":\"CDSView\"}},\"id\":\"92a8fe83-37e2-4985-9cd9-a7c50752de95\",\"type\":\"GlyphRenderer\"},{\"attributes\":{\"axis_label\":\"cooling rate [K/day]\",\"formatter\":{\"id\":\"4c64af2a-2a57-4c7b-863e-3b1a5cb2a60d\",\"type\":\"BasicTickFormatter\"},\"plot\":{\"id\":\"1c3a7190-c0d1-455e-84f1-6c817e9d0ef6\",\"subtype\":\"Figure\",\"type\":\"Plot\"},\"ticker\":{\"id\":\"01c36724-662f-469e-8e28-f36d348f85d1\",\"type\":\"BasicTicker\"}},\"id\":\"4377af98-3698-4353-9acc-b94b6d70f626\",\"type\":\"LinearAxis\"},{\"attributes\":{\"dimension\":1,\"plot\":{\"id\":\"1c3a7190-c0d1-455e-84f1-6c817e9d0ef6\",\"subtype\":\"Figure\",\"type\":\"Plot\"},\"ticker\":{\"id\":\"eebe224e-1b8a-4f18-aa0e-99c1283e4620\",\"type\":\"LogTicker\"}},\"id\":\"f2f3a224-188e-418b-8243-951eed288b00\",\"type\":\"Grid\"},{\"attributes\":{\"callback\":null,\"data\":{\"x\":{\"__ndarray__\":\"YclrqXA2Ab/Jj6SFdEEDv0D/t+UTs/6+LxaIOKxd/L6kykvSIID6vsL97L3lrfi+9Gme20Od9r4YljM55qf0vjnkcjIYaPK+o7WG3ZBB8L5/S6OufLDrvp26MZLH4+a+YTTPV7LF4b47+xtJXSzbvgxVK15Sd7U+4/8Qw8STAD/F/6Z+BG4ZP4JuWcTDgio/WW3lebUCOD9yd9qjoz1EP3daOO4cUFA/galcZN9uWT/77A+7x75hPz4F04DnPWI/McNqHzdrXD9qwpEfLEVUP0mPRJKh+Us/3oP3YFDpQj/ITaOnM145PyY0rfBCuTA/JKWsnoG5JD9uAXqtTcsWP0VbzSeJiAU/t7EWgMmH6D5Gc6NAaJLrvuMlBLwQnAK/Ir+L7hRVCr8lBx0CYgwPv/JSPFT53RG/mkqlWkEQFL/ve5XI2SAbv10/7UOVyCi/yAKrLGH2M7+YkCmxNZBAvzxYEF2oKUa/oH2BHrSURb9V5Oq/XXxEv+nBhmD3d0W/R7A0O/etR7+PfNrOvXVHv4veWoPGrj6/VJRQPSUTJD8xLSVki9hTP6AiyDYpe2U/qLJPj0vmcT/Rv3GRsxt6PzhUzHyggIE/SCqxPUPQhj+PtfHtfpGLP8+SxdLHSY8/pP4Dd2PrkD+r/ApQVcyRP8h6zR+RvpI/9lq8l3xllD/zWwJd7NeWP9YjTNKuopo//9x0JMc4nz89SWGuqjaiP1m4kyXGdKQ/x5GPXIU0pj+8zbNDEKinP9V6SMPsD6k/usIH6wmPqj+1pdn/qmqsP69FfSWfPbE/\",\"dtype\":\"float64\",\"shape\":[75]},\"y\":{\"__ndarray__\":\"S/O/Q+51ND/Sv8nbtpRIP2vylNV0PVE/aTum7souWD/At0SJ8fVgPw3Iuahxymc/MSNhhJWvcD/bTfBN02d3P2zb5nxnaoA/CD5h5MAGhz8NmeH1TyaQP+zrCsc9p5Y/LbKd76fGnz/bLW5ISEmmPww9YvTcQq8/JV2OstnstT8Er5Y7M8G+P0c+r3jqkcU/5h99k6ZBzj88bCIzFzjVP4enV8oyxN0//yH99nXg5D8qOpLLf0jtP5kqGJXUifQ/c9cS8kHP/D+/DpwzojQEQIEmwoanVwxA4lgXt9HgE0BSSZ2AJuIbQAMJih9jjiNA5q4l5INuK0AwTKYKRj0zQNv5fmq8/DpAaCJseHrtQkB/+zpwzoxKQM3MzMzMeFJAZmZmZmZqWEAAAAAAAFxeQM3MzMzMJmJAmpmZmZkfZUBmZmZmZhhoQDMzMzMzEWtAAAAAAAAKbkBmZmZmZoFwQM3MzMzM/XFAMzMzMzN6c0CamZmZmfZ0QAAAAAAAc3ZAZmZmZmbvd0DNzMzMzGt5QDMzMzMz6HpAmpmZmZlkfEAAAAAAAOF9QGZmZmZmXX9AZmZmZuZsgECamZmZGSuBQM3MzMxM6YFAAAAAAICngkAzMzMzs2WDQGZmZmbmI4RAmpmZmRnihEDNzMzMTKCFQAAAAACAXoZAMzMzM7Mch0BmZmZm5tqHQJqZmZkZmYhAzczMzExXiUAAAAAAgBWKQDMzMzOz04pAZmZmZuaRi0CamZmZGVCMQM3MzMxMDo1AAAAAAIDMjUAzMzMzs4qOQGZmZmbmSI9A\",\"dtype\":\"float64\",\"shape\":[75]}},\"selected\":{\"id\":\"dab3a53f-1860-4748-ba9c-26d0251084f4\",\"type\":\"Selection\"},\"selection_policy\":{\"id\":\"5b9c1e3a-694c-4e24-9e9f-dc7b81ef17c7\",\"type\":\"UnionRenderers\"}},\"id\":\"9808d309-a373-4da1-81c8-00e6430ee00c\",\"type\":\"ColumnDataSource\"},{\"attributes\":{},\"id\":\"8b4e216c-5e72-4c45-8156-d6b93d77a4d2\",\"type\":\"PanTool\"},{\"attributes\":{\"data_source\":{\"id\":\"d970c578-491c-4b14-8b37-3eabe2a4f949\",\"type\":\"ColumnDataSource\"},\"glyph\":{\"id\":\"f364e931-2cd9-4689-8294-77bdba4945ab\",\"type\":\"Circle\"},\"hover_glyph\":null,\"muted_glyph\":null,\"nonselection_glyph\":{\"id\":\"d920b214-557a-4bce-b0e4-9210002f1ccb\",\"type\":\"Circle\"},\"selection_glyph\":null,\"view\":{\"id\":\"9028b864-fbd3-43f9-9440-a1b629037cc5\",\"type\":\"CDSView\"}},\"id\":\"af9bb6c6-64f6-4d4d-947f-d928e1d6812b\",\"type\":\"GlyphRenderer\"},{\"attributes\":{\"line_alpha\":0.6,\"line_color\":\"#984ea3\",\"line_width\":3,\"x\":{\"field\":\"x\"},\"y\":{\"field\":\"y\"}},\"id\":\"02698a05-4888-480a-abdd-123d636aab10\",\"type\":\"Line\"},{\"attributes\":{\"bottom_units\":\"screen\",\"fill_alpha\":{\"value\":0.5},\"fill_color\":{\"value\":\"lightgrey\"},\"left_units\":\"screen\",\"level\":\"overlay\",\"line_alpha\":{\"value\":1.0},\"line_color\":{\"value\":\"black\"},\"line_dash\":[4,4],\"line_width\":{\"value\":2},\"plot\":null,\"render_mode\":\"css\",\"right_units\":\"screen\",\"top_units\":\"screen\"},\"id\":\"1de3f7f9-4a4b-43ef-b216-3e84b1878af1\",\"type\":\"BoxAnnotation\"},{\"attributes\":{},\"id\":\"ac9fc380-99cb-47f4-ad00-436f455642d4\",\"type\":\"SaveTool\"},{\"attributes\":{},\"id\":\"132e97ea-7a64-41a4-bed9-6ccbefabe84c\",\"type\":\"WheelZoomTool\"},{\"attributes\":{\"fill_alpha\":{\"value\":0.1},\"fill_color\":{\"value\":\"#1f77b4\"},\"line_alpha\":{\"value\":0.1},\"line_color\":{\"value\":\"#1f77b4\"},\"x\":{\"field\":\"x\"},\"y\":{\"field\":\"y\"}},\"id\":\"d3f009e6-6b3f-41e0-9658-fa5ea842c4af\",\"type\":\"Circle\"},{\"attributes\":{\"callback\":null,\"data\":{\"x\":{\"__ndarray__\":\"+m2e9rNYEL9uyRaEHykQv36jO1c6gA+/RFZex8KVDr9b0QKDJJ4Nv4M6BC8ZmQy//S78KiKGC7/nR7PUvWQKvypzTt57+Ai/v8f6Eg1GB79iF0Z9K/UFv4BGm/lmbQS/sEkAiWShAr97E7wrogEBvw9pAksUnPe+Hez8DZkL6j5Gh+WvHSAXP+20evGd0Cs/5Olam7y+Oj++0LCHkRxHPy7qAHDN8lI/382V0AvbXT/9rsrCFOhkP2335bJyfWU/MJ2WBmKnYD8/2Hs7EItXP2VPM4DvDFA/yERb7flYRT/OQHU/hAw8P2nB0VaZATI/XrM+psV5JT83RqHJxhoWP3buJgWCZAI/Bc0flAAM1T5eyL4PFJrzvgpqeBjE/QS/1BF9eYjtC7/4oUz93vQPv0ef+LWlOhK/S3p18gV+FL9n3eZIglkbv2yvDzZmVSi/dkbQBq7wMr8VCSIAOB8+v1dwKXEFGkW//gbpAl13Rr+xtL5KwgBGvz4CU9ttNUW/Eso/9+pvQ78EbdvK20c9vztPxjYbNh+/t3bpgaUCQD9fQuJXLV9XP3AhVGIq8GU/67Ga7r08cT/vtcGWGHx4P5VcWjvwUYA/blc9ZZtmhT+4wXh/pD+KP2PDhTP/aY4/85bl4LHwkD/0VNMI1W2SP12Tppln8JM/DLeJV5rDlT+k4rTlmDGYP3M2t7wUdZs/QFCKCq+Bnz9Ha3j9GumhPz1fq4POyKM/cRkb3c81pT9XctTJlVymPz1cYbZzkqc/mt6i/EgCqT8wtvAyAwOrP8joq467srA/\",\"dtype\":\"float64\",\"shape\":[75]},\"y\":{\"__ndarray__\":\"GhExyth1ND/Sv8nbtpRIP2vylNV0PVE/aTum7souWD/At0SJ8fVgPw3Iuahxymc/MSNhhJWvcD/bTfBN02d3P2zb5nxnaoA/CD5h5MAGhz8NmeH1TyaQP+zrCsc9p5Y/LbKd76fGnz/bLW5ISEmmPww9YvTcQq8/JV2OstnstT8Er5Y7M8G+P0c+r3jqkcU/5h99k6ZBzj88bCIzFzjVP4enV8oyxN0//yH99nXg5D8qOpLLf0jtP5kqGJXUifQ/c9cS8kHP/D+/DpwzojQEQIEmwoanVwxA4lgXt9HgE0BSSZ2AJuIbQAMJih9jjiNA5q4l5INuK0AwTKYKRj0zQNv5fmq8/DpAaCJseHrtQkB/+zpwzoxKQM3MzMzMeFJAZmZmZmZqWEAAAAAAAFxeQM3MzMzMJmJAmpmZmZkfZUBmZmZmZhhoQDMzMzMzEWtAAAAAAAAKbkBmZmZmZoFwQM3MzMzM/XFAMzMzMzN6c0CamZmZmfZ0QAAAAAAAc3ZAZmZmZmbvd0DNzMzMzGt5QDMzMzMz6HpAmpmZmZlkfEAAAAAAAOF9QGZmZmZmXX9AZmZmZuZsgECamZmZGSuBQM3MzMxM6YFAAAAAAICngkAzMzMzs2WDQGZmZmbmI4RAmpmZmRnihEDNzMzMTKCFQAAAAACAXoZAMzMzM7Mch0BmZmZm5tqHQJqZmZkZmYhAzczMzExXiUAAAAAAgBWKQDMzMzOz04pAZmZmZuaRi0CamZmZGVCMQM3MzMxMDo1AAAAAAIDMjUAzMzMzs4qOQGZmZmbmSI9A\",\"dtype\":\"float64\",\"shape\":[75]}},\"selected\":{\"id\":\"203de22c-c3ab-4b96-a304-4d675f10cbcf\",\"type\":\"Selection\"},\"selection_policy\":{\"id\":\"3ee1f314-80a8-4d8a-8c1a-3bfd61cb43a7\",\"type\":\"UnionRenderers\"}},\"id\":\"7d93d6f7-b910-431e-b192-d1f397c7b7de\",\"type\":\"ColumnDataSource\"},{\"attributes\":{\"source\":{\"id\":\"d31122e2-f34b-48fa-bbf3-627f3daa79e2\",\"type\":\"ColumnDataSource\"}},\"id\":\"83515685-d157-4cf5-8973-af781d57b251\",\"type\":\"CDSView\"},{\"attributes\":{\"fill_alpha\":{\"value\":0.1},\"fill_color\":{\"value\":\"#1f77b4\"},\"line_alpha\":{\"value\":0.1},\"line_color\":{\"value\":\"#1f77b4\"},\"x\":{\"field\":\"x\"},\"y\":{\"field\":\"y\"}},\"id\":\"c7132a9d-bb21-44cd-93a0-a68fe5e95150\",\"type\":\"Square\"},{\"attributes\":{\"axis_label\":\"cooling rate [K/day]\",\"formatter\":{\"id\":\"77bedb69-e4e3-4654-aab2-1c77da7ab816\",\"type\":\"BasicTickFormatter\"},\"plot\":{\"id\":\"13a30190-47f9-40ab-ba4c-312809a837c8\",\"subtype\":\"Figure\",\"type\":\"Plot\"},\"ticker\":{\"id\":\"ebce187c-5c54-41aa-a753-b0195c81a8c4\",\"type\":\"BasicTicker\"}},\"id\":\"8299a895-540e-4815-b3dd-8593b5b8ce66\",\"type\":\"LinearAxis\"},{\"attributes\":{\"line_alpha\":0.1,\"line_color\":\"#1f77b4\",\"line_dash\":[6],\"line_width\":5,\"x\":{\"field\":\"x\"},\"y\":{\"field\":\"y\"}},\"id\":\"913d97dc-3d81-480d-9386-73f87c47d6ed\",\"type\":\"Line\"},{\"attributes\":{\"overlay\":{\"id\":\"1d87654d-c273-4d24-b13f-a6cdcd75cdd0\",\"type\":\"BoxAnnotation\"}},\"id\":\"a7dfa78f-b844-45de-88c4-01ceb034614e\",\"type\":\"BoxZoomTool\"},{\"attributes\":{\"callback\":null,\"data\":{\"x\":{\"__ndarray__\":\"+m2e9rNYEL9uyRaEHykQv36jO1c6gA+/RFZex8KVDr9b0QKDJJ4Nv4M6BC8ZmQy//S78KiKGC7/nR7PUvWQKvypzTt57+Ai/v8f6Eg1GB79iF0Z9K/UFv4BGm/lmbQS/sEkAiWShAr97E7wrogEBvw9pAksUnPe+Hez8DZkL6j5Gh+WvHSAXP+20evGd0Cs/5Olam7y+Oj++0LCHkRxHPy7qAHDN8lI/382V0AvbXT/9rsrCFOhkP2335bJyfWU/MJ2WBmKnYD8/2Hs7EItXP2VPM4DvDFA/yERb7flYRT/OQHU/hAw8P2nB0VaZATI/XrM+psV5JT83RqHJxhoWP3buJgWCZAI/Bc0flAAM1T5eyL4PFJrzvgpqeBjE/QS/1BF9eYjtC7/4oUz93vQPv0ef+LWlOhK/S3p18gV+FL9n3eZIglkbv2yvDzZmVSi/dkbQBq7wMr8VCSIAOB8+v1dwKXEFGkW//gbpAl13Rr+xtL5KwgBGvz4CU9ttNUW/Eso/9+pvQ78EbdvK20c9vztPxjYbNh+/t3bpgaUCQD9fQuJXLV9XP3AhVGIq8GU/67Ga7r08cT/vtcGWGHx4P5VcWjvwUYA/blc9ZZtmhT+4wXh/pD+KP2PDhTP/aY4/85bl4LHwkD/0VNMI1W2SP12Tppln8JM/DLeJV5rDlT+k4rTlmDGYP3M2t7wUdZs/QFCKCq+Bnz9Ha3j9GumhPz1fq4POyKM/cRkb3c81pT9XctTJlVymPz1cYbZzkqc/mt6i/EgCqT8wtvAyAwOrP8joq467srA/\",\"dtype\":\"float64\",\"shape\":[75]},\"y\":{\"__ndarray__\":\"GhExyth1ND/Sv8nbtpRIP2vylNV0PVE/aTum7souWD/At0SJ8fVgPw3Iuahxymc/MSNhhJWvcD/bTfBN02d3P2zb5nxnaoA/CD5h5MAGhz8NmeH1TyaQP+zrCsc9p5Y/LbKd76fGnz/bLW5ISEmmPww9YvTcQq8/JV2OstnstT8Er5Y7M8G+P0c+r3jqkcU/5h99k6ZBzj88bCIzFzjVP4enV8oyxN0//yH99nXg5D8qOpLLf0jtP5kqGJXUifQ/c9cS8kHP/D+/DpwzojQEQIEmwoanVwxA4lgXt9HgE0BSSZ2AJuIbQAMJih9jjiNA5q4l5INuK0AwTKYKRj0zQNv5fmq8/DpAaCJseHrtQkB/+zpwzoxKQM3MzMzMeFJAZmZmZmZqWEAAAAAAAFxeQM3MzMzMJmJAmpmZmZkfZUBmZmZmZhhoQDMzMzMzEWtAAAAAAAAKbkBmZmZmZoFwQM3MzMzM/XFAMzMzMzN6c0CamZmZmfZ0QAAAAAAAc3ZAZmZmZmbvd0DNzMzMzGt5QDMzMzMz6HpAmpmZmZlkfEAAAAAAAOF9QGZmZmZmXX9AZmZmZuZsgECamZmZGSuBQM3MzMxM6YFAAAAAAICngkAzMzMzs2WDQGZmZmbmI4RAmpmZmRnihEDNzMzMTKCFQAAAAACAXoZAMzMzM7Mch0BmZmZm5tqHQJqZmZkZmYhAzczMzExXiUAAAAAAgBWKQDMzMzOz04pAZmZmZuaRi0CamZmZGVCMQM3MzMxMDo1AAAAAAIDMjUAzMzMzs4qOQGZmZmbmSI9A\",\"dtype\":\"float64\",\"shape\":[75]}},\"selected\":{\"id\":\"595c2e5c-021b-4393-bbde-d0642d74aa6e\",\"type\":\"Selection\"},\"selection_policy\":{\"id\":\"26193efa-09fb-42ce-a7c3-63d96106024f\",\"type\":\"UnionRenderers\"}},\"id\":\"d8d9984f-44fc-42c0-a14c-e8dc88536ce1\",\"type\":\"ColumnDataSource\"},{\"attributes\":{\"source\":{\"id\":\"d8d9984f-44fc-42c0-a14c-e8dc88536ce1\",\"type\":\"ColumnDataSource\"}},\"id\":\"441b7fdb-34bd-4edd-b4c3-2e354cfbf9a2\",\"type\":\"CDSView\"},{\"attributes\":{},\"id\":\"3678cfe7-bfa8-42ad-a11d-2da127c246e4\",\"type\":\"SaveTool\"},{\"attributes\":{\"data_source\":{\"id\":\"a861624e-468a-4bcb-8375-b3d00cbbe176\",\"type\":\"ColumnDataSource\"},\"glyph\":{\"id\":\"7dd6de1b-4aa8-4b30-8791-4a79597cdc63\",\"type\":\"Line\"},\"hover_glyph\":null,\"muted_glyph\":null,\"nonselection_glyph\":{\"id\":\"913d97dc-3d81-480d-9386-73f87c47d6ed\",\"type\":\"Line\"},\"selection_glyph\":null,\"view\":{\"id\":\"ee3f71ab-9a1f-4ad2-bf2e-288bfca3301f\",\"type\":\"CDSView\"}},\"id\":\"0ad37493-2add-4a4f-8cc7-82b951fbe71e\",\"type\":\"GlyphRenderer\"},{\"attributes\":{\"source\":{\"id\":\"d970c578-491c-4b14-8b37-3eabe2a4f949\",\"type\":\"ColumnDataSource\"}},\"id\":\"9028b864-fbd3-43f9-9440-a1b629037cc5\",\"type\":\"CDSView\"},{\"attributes\":{\"data_source\":{\"id\":\"7d93d6f7-b910-431e-b192-d1f397c7b7de\",\"type\":\"ColumnDataSource\"},\"glyph\":{\"id\":\"02698a05-4888-480a-abdd-123d636aab10\",\"type\":\"Line\"},\"hover_glyph\":null,\"muted_glyph\":null,\"nonselection_glyph\":{\"id\":\"09d9d6e4-f9e2-4aa6-a5aa-413fad1d4e4a\",\"type\":\"Line\"},\"selection_glyph\":null,\"view\":{\"id\":\"7658ccb5-1b78-41c3-af0c-b634e98deb7c\",\"type\":\"CDSView\"}},\"id\":\"dc22500d-b98e-4f2c-a4f2-00a57641d553\",\"type\":\"GlyphRenderer\"},{\"attributes\":{\"line_alpha\":0.6,\"line_color\":\"#e41a1c\",\"line_dash\":[6],\"line_width\":5,\"x\":{\"field\":\"x\"},\"y\":{\"field\":\"y\"}},\"id\":\"4e863fb6-821c-4071-bcbd-70acb168ecaa\",\"type\":\"Line\"},{\"attributes\":{\"data_source\":{\"id\":\"d8d9984f-44fc-42c0-a14c-e8dc88536ce1\",\"type\":\"ColumnDataSource\"},\"glyph\":{\"id\":\"550c304b-7cb5-479f-8f0c-915c1c89270c\",\"type\":\"Square\"},\"hover_glyph\":null,\"muted_glyph\":null,\"nonselection_glyph\":{\"id\":\"c7132a9d-bb21-44cd-93a0-a68fe5e95150\",\"type\":\"Square\"},\"selection_glyph\":null,\"view\":{\"id\":\"441b7fdb-34bd-4edd-b4c3-2e354cfbf9a2\",\"type\":\"CDSView\"}},\"id\":\"9b7eaf6d-0a63-4af7-b806-4c63543e3155\",\"type\":\"GlyphRenderer\"},{\"attributes\":{\"source\":{\"id\":\"a861624e-468a-4bcb-8375-b3d00cbbe176\",\"type\":\"ColumnDataSource\"}},\"id\":\"ee3f71ab-9a1f-4ad2-bf2e-288bfca3301f\",\"type\":\"CDSView\"},{\"attributes\":{\"callback\":null,\"end\":0.01,\"start\":1020},\"id\":\"1cf7ad39-bfd9-453a-9830-3409f4dc6e20\",\"type\":\"Range1d\"},{\"attributes\":{\"fill_alpha\":{\"value\":0.7},\"fill_color\":{\"value\":\"#4daf4a\"},\"line_alpha\":{\"value\":0.7},\"line_color\":{\"value\":\"#4daf4a\"},\"x\":{\"field\":\"x\"},\"y\":{\"field\":\"y\"}},\"id\":\"1c13d31b-f24e-4a31-b60b-112e59398a6d\",\"type\":\"Circle\"},{\"attributes\":{\"callback\":null,\"end\":0.01,\"start\":1020},\"id\":\"7bb2b7fd-21e4-416d-b0a9-a5fcedf7ccba\",\"type\":\"Range1d\"},{\"attributes\":{},\"id\":\"ebce187c-5c54-41aa-a753-b0195c81a8c4\",\"type\":\"BasicTicker\"},{\"attributes\":{\"data_source\":{\"id\":\"9808d309-a373-4da1-81c8-00e6430ee00c\",\"type\":\"ColumnDataSource\"},\"glyph\":{\"id\":\"4e863fb6-821c-4071-bcbd-70acb168ecaa\",\"type\":\"Line\"},\"hover_glyph\":null,\"muted_glyph\":null,\"nonselection_glyph\":{\"id\":\"3f508364-476c-480c-b4dc-5ce887f09e49\",\"type\":\"Line\"},\"selection_glyph\":null,\"view\":{\"id\":\"86976378-01b3-4d00-b5a0-17bea25041af\",\"type\":\"CDSView\"}},\"id\":\"0334ec9d-086a-46f2-8cba-6af8eb5eeb93\",\"type\":\"GlyphRenderer\"},{\"attributes\":{\"callback\":null,\"data\":{\"x\":{\"__ndarray__\":\"0YvHs6L2Rb8W19o4Q/RFv8GfM/iX60W/Qc4K/0vgRb8SWWKvTNNFv1NB3dutxUW/55i8JEm4Rb+dZFVAqqlFv7VCnuVXnEW/4mofinGPRb9h/xpWu4dFvzfk0RFehkW/W5LubCmORb/6dU0yyKFFv/4N6TVpdUW/3dfBcegERL9BuRSGCBtAv2Ht7Lt4bTK/8q5ujHSEDT9h1yxiJsVCP9Ih0wVs81U/WxNbVQAZZD9MQQsFhMhtP6Eb5xwfmW0/vqn/HLxwZD/aCTCdr4FYPxG9jVvEMks/qZbc1qRePD8bciYuMB4tP0GRCWE+LB4/O2HZWS+RDD9eJLo1pN/yPgWQ5i9Rp84+2KXkAkQ4n75VrNBWpxjkvq1clVyqwvi+w5riAc6EAb/Rr5c4ma4Ev5NmPU4cxQm/cQf3Ym7wDr84X0NSbosTv5scJiiq6Bu/CLdq06cAIL+rSANO8pMkv4RNyN2u0TC/ocHIFz8rNb/ccNdmUHwxvyFfWrkHmhW/14ESOgljLj80hd2WGU1GP9wBbZ9UilQ/xRAVt8WNXz/6PVVw/VVmP7ahkbCwHm4/rmv/POmacz9NBYiGred4P0j4fiRVLX8//YxTuNPSgz9d4So9PTCIPxL2cV3Gh4w/4I2GBVd2kD98RBeXVLSSP9lZ6tyRCpU/VvykryeHlz8a3KbdhzqaPx7vz/FDOJ0/2H0qG5Q4oD+ueqefw76hP1zUKbru4KI/hRRflHCGoz8KS12uVe2jP6jnOBLDaaQ/mHU5BBI9pT+WrGSp8MWmP5ON9XcwDqw/\",\"dtype\":\"float64\",\"shape\":[75]},\"y\":{\"__ndarray__\":\"GhExyth1ND/Sv8nbtpRIP2vylNV0PVE/aTum7souWD/At0SJ8fVgPw3Iuahxymc/MSNhhJWvcD/bTfBN02d3P2zb5nxnaoA/CD5h5MAGhz8NmeH1TyaQP+zrCsc9p5Y/LbKd76fGnz/bLW5ISEmmPww9YvTcQq8/JV2OstnstT8Er5Y7M8G+P0c+r3jqkcU/5h99k6ZBzj88bCIzFzjVP4enV8oyxN0//yH99nXg5D8qOpLLf0jtP5kqGJXUifQ/c9cS8kHP/D+/DpwzojQEQIEmwoanVwxA4lgXt9HgE0BSSZ2AJuIbQAMJih9jjiNA5q4l5INuK0AwTKYKRj0zQNv5fmq8/DpAaCJseHrtQkB/+zpwzoxKQM3MzMzMeFJAZmZmZmZqWEAAAAAAAFxeQM3MzMzMJmJAmpmZmZkfZUBmZmZmZhhoQDMzMzMzEWtAAAAAAAAKbkBmZmZmZoFwQM3MzMzM/XFAMzMzMzN6c0CamZmZmfZ0QAAAAAAAc3ZAZmZmZmbvd0DNzMzMzGt5QDMzMzMz6HpAmpmZmZlkfEAAAAAAAOF9QGZmZmZmXX9AZmZmZuZsgECamZmZGSuBQM3MzMxM6YFAAAAAAICngkAzMzMzs2WDQGZmZmbmI4RAmpmZmRnihEDNzMzMTKCFQAAAAACAXoZAMzMzM7Mch0BmZmZm5tqHQJqZmZkZmYhAzczMzExXiUAAAAAAgBWKQDMzMzOz04pAZmZmZuaRi0CamZmZGVCMQM3MzMxMDo1AAAAAAIDMjUAzMzMzs4qOQGZmZmbmSI9A\",\"dtype\":\"float64\",\"shape\":[75]}},\"selected\":{\"id\":\"76d8c796-3bcc-409c-b409-3ffc12c5c49c\",\"type\":\"Selection\"},\"selection_policy\":{\"id\":\"673120ba-de7f-47fd-9a14-b078cc38a282\",\"type\":\"UnionRenderers\"}},\"id\":\"48025f5b-a8ee-433d-8be8-b2de34ce71f6\",\"type\":\"ColumnDataSource\"},{\"attributes\":{\"line_alpha\":0.1,\"line_color\":\"#1f77b4\",\"line_width\":1.5,\"x\":{\"field\":\"x\"},\"y\":{\"field\":\"y\"}},\"id\":\"cf597887-d704-45e6-94c6-02b68bf40abb\",\"type\":\"Line\"},{\"attributes\":{\"data_source\":{\"id\":\"48025f5b-a8ee-433d-8be8-b2de34ce71f6\",\"type\":\"ColumnDataSource\"},\"glyph\":{\"id\":\"0358b174-c194-4758-bdaa-46f0b8ae1191\",\"type\":\"Line\"},\"hover_glyph\":null,\"muted_glyph\":null,\"nonselection_glyph\":{\"id\":\"cf597887-d704-45e6-94c6-02b68bf40abb\",\"type\":\"Line\"},\"selection_glyph\":null,\"view\":{\"id\":\"4f5872b5-626f-4756-bdf1-4a8cb6eff7ed\",\"type\":\"CDSView\"}},\"id\":\"e7e92e95-38bf-4ab9-9845-434ddf6e6d52\",\"type\":\"GlyphRenderer\"},{\"attributes\":{\"fill_alpha\":{\"value\":0.7},\"fill_color\":{\"value\":\"#984ea3\"},\"line_alpha\":{\"value\":0.7},\"line_color\":{\"value\":\"#984ea3\"},\"x\":{\"field\":\"x\"},\"y\":{\"field\":\"y\"}},\"id\":\"add40c3b-dcc3-4f02-bcd0-30f052fdce6d\",\"type\":\"Square\"},{\"attributes\":{\"source\":{\"id\":\"48025f5b-a8ee-433d-8be8-b2de34ce71f6\",\"type\":\"ColumnDataSource\"}},\"id\":\"4f5872b5-626f-4756-bdf1-4a8cb6eff7ed\",\"type\":\"CDSView\"},{\"attributes\":{},\"id\":\"e2cb73a3-646f-441d-8b20-21044889e9ca\",\"type\":\"HelpTool\"},{\"attributes\":{\"fill_alpha\":{\"value\":0.7},\"fill_color\":{\"value\":\"#984ea3\"},\"line_alpha\":{\"value\":0.7},\"line_color\":{\"value\":\"#984ea3\"},\"x\":{\"field\":\"x\"},\"y\":{\"field\":\"y\"}},\"id\":\"550c304b-7cb5-479f-8f0c-915c1c89270c\",\"type\":\"Square\"},{\"attributes\":{\"line_alpha\":0.1,\"line_color\":\"#1f77b4\",\"line_width\":3,\"x\":{\"field\":\"x\"},\"y\":{\"field\":\"y\"}},\"id\":\"09d9d6e4-f9e2-4aa6-a5aa-413fad1d4e4a\",\"type\":\"Line\"},{\"attributes\":{},\"id\":\"8e417bd4-4cb9-4d0b-9bc1-0db9276ca4ae\",\"type\":\"PanTool\"},{\"attributes\":{\"source\":{\"id\":\"7d93d6f7-b910-431e-b192-d1f397c7b7de\",\"type\":\"ColumnDataSource\"}},\"id\":\"7658ccb5-1b78-41c3-af0c-b634e98deb7c\",\"type\":\"CDSView\"},{\"attributes\":{\"label\":{\"value\":\"CLIRAD `coolr_bands`\"},\"renderers\":[{\"id\":\"0334ec9d-086a-46f2-8cba-6af8eb5eeb93\",\"type\":\"GlyphRenderer\"}]},\"id\":\"e0b2e77b-af0a-4724-892a-534901d856c4\",\"type\":\"LegendItem\"},{\"attributes\":{\"children\":[{\"id\":\"13a30190-47f9-40ab-ba4c-312809a837c8\",\"subtype\":\"Figure\",\"type\":\"Plot\"},{\"id\":\"1c3a7190-c0d1-455e-84f1-6c817e9d0ef6\",\"subtype\":\"Figure\",\"type\":\"Plot\"}]},\"id\":\"18ce9ba6-d826-4a01-8261-3ef6c29f0b20\",\"type\":\"Row\"},{\"attributes\":{\"bottom_units\":\"screen\",\"fill_alpha\":{\"value\":0.5},\"fill_color\":{\"value\":\"lightgrey\"},\"left_units\":\"screen\",\"level\":\"overlay\",\"line_alpha\":{\"value\":1.0},\"line_color\":{\"value\":\"black\"},\"line_dash\":[4,4],\"line_width\":{\"value\":2},\"plot\":null,\"render_mode\":\"css\",\"right_units\":\"screen\",\"top_units\":\"screen\"},\"id\":\"1d87654d-c273-4d24-b13f-a6cdcd75cdd0\",\"type\":\"BoxAnnotation\"},{\"attributes\":{},\"id\":\"09141f48-04a0-478c-8238-67ff802e6633\",\"type\":\"LinearScale\"},{\"attributes\":{},\"id\":\"07da81bb-f887-4b9f-a6ae-e5bd809c6338\",\"type\":\"BasicTickFormatter\"},{\"attributes\":{\"fill_alpha\":{\"value\":0.1},\"fill_color\":{\"value\":\"#1f77b4\"},\"line_alpha\":{\"value\":0.1},\"line_color\":{\"value\":\"#1f77b4\"},\"x\":{\"field\":\"x\"},\"y\":{\"field\":\"y\"}},\"id\":\"d920b214-557a-4bce-b0e4-9210002f1ccb\",\"type\":\"Circle\"},{\"attributes\":{\"callback\":null,\"data\":{\"x\":{\"__ndarray__\":\"+m2e9rNYEL9uyRaEHykQv36jO1c6gA+/RFZex8KVDr9b0QKDJJ4Nv4M6BC8ZmQy//S78KiKGC7/nR7PUvWQKvypzTt57+Ai/v8f6Eg1GB79iF0Z9K/UFv4BGm/lmbQS/sEkAiWShAr97E7wrogEBvw9pAksUnPe+Hez8DZkL6j5Gh+WvHSAXP+20evGd0Cs/5Olam7y+Oj++0LCHkRxHPy7qAHDN8lI/382V0AvbXT/9rsrCFOhkP2335bJyfWU/MJ2WBmKnYD8/2Hs7EItXP2VPM4DvDFA/yERb7flYRT/OQHU/hAw8P2nB0VaZATI/XrM+psV5JT83RqHJxhoWP3buJgWCZAI/Bc0flAAM1T5eyL4PFJrzvgpqeBjE/QS/1BF9eYjtC7/4oUz93vQPv0ef+LWlOhK/S3p18gV+FL9n3eZIglkbv2yvDzZmVSi/dkbQBq7wMr8VCSIAOB8+v1dwKXEFGkW//gbpAl13Rr+xtL5KwgBGvz4CU9ttNUW/Eso/9+pvQ78EbdvK20c9vztPxjYbNh+/t3bpgaUCQD9fQuJXLV9XP3AhVGIq8GU/67Ga7r08cT/vtcGWGHx4P5VcWjvwUYA/blc9ZZtmhT+4wXh/pD+KP2PDhTP/aY4/85bl4LHwkD/0VNMI1W2SP12Tppln8JM/DLeJV5rDlT+k4rTlmDGYP3M2t7wUdZs/QFCKCq+Bnz9Ha3j9GumhPz1fq4POyKM/cRkb3c81pT9XctTJlVymPz1cYbZzkqc/mt6i/EgCqT8wtvAyAwOrP8joq467srA/\",\"dtype\":\"float64\",\"shape\":[75]},\"y\":{\"__ndarray__\":\"GhExyth1ND/Sv8nbtpRIP2vylNV0PVE/aTum7souWD/At0SJ8fVgPw3Iuahxymc/MSNhhJWvcD/bTfBN02d3P2zb5nxnaoA/CD5h5MAGhz8NmeH1TyaQP+zrCsc9p5Y/LbKd76fGnz/bLW5ISEmmPww9YvTcQq8/JV2OstnstT8Er5Y7M8G+P0c+r3jqkcU/5h99k6ZBzj88bCIzFzjVP4enV8oyxN0//yH99nXg5D8qOpLLf0jtP5kqGJXUifQ/c9cS8kHP/D+/DpwzojQEQIEmwoanVwxA4lgXt9HgE0BSSZ2AJuIbQAMJih9jjiNA5q4l5INuK0AwTKYKRj0zQNv5fmq8/DpAaCJseHrtQkB/+zpwzoxKQM3MzMzMeFJAZmZmZmZqWEAAAAAAAFxeQM3MzMzMJmJAmpmZmZkfZUBmZmZmZhhoQDMzMzMzEWtAAAAAAAAKbkBmZmZmZoFwQM3MzMzM/XFAMzMzMzN6c0CamZmZmfZ0QAAAAAAAc3ZAZmZmZmbvd0DNzMzMzGt5QDMzMzMz6HpAmpmZmZlkfEAAAAAAAOF9QGZmZmZmXX9AZmZmZuZsgECamZmZGSuBQM3MzMxM6YFAAAAAAICngkAzMzMzs2WDQGZmZmbmI4RAmpmZmRnihEDNzMzMTKCFQAAAAACAXoZAMzMzM7Mch0BmZmZm5tqHQJqZmZkZmYhAzczMzExXiUAAAAAAgBWKQDMzMzOz04pAZmZmZuaRi0CamZmZGVCMQM3MzMxMDo1AAAAAAIDMjUAzMzMzs4qOQGZmZmbmSI9A\",\"dtype\":\"float64\",\"shape\":[75]}},\"selected\":{\"id\":\"b5fc0ca7-9ef0-4021-96c7-116dac18b4db\",\"type\":\"Selection\"},\"selection_policy\":{\"id\":\"2aacfd6b-93aa-4e5d-a3f0-aec73af18efb\",\"type\":\"UnionRenderers\"}},\"id\":\"8f3f7a6d-bc0b-4918-980a-c480c5ab5048\",\"type\":\"ColumnDataSource\"},{\"attributes\":{\"label\":{\"value\":\"CRD\"},\"renderers\":[{\"id\":\"92a8fe83-37e2-4985-9cd9-a7c50752de95\",\"type\":\"GlyphRenderer\"},{\"id\":\"e7e92e95-38bf-4ab9-9845-434ddf6e6d52\",\"type\":\"GlyphRenderer\"}]},\"id\":\"76f0c41e-42b4-4da0-b455-77841d42f678\",\"type\":\"LegendItem\"},{\"attributes\":{\"source\":{\"id\":\"38e1d29d-7f9c-4dbe-a333-63e57b9c67c6\",\"type\":\"ColumnDataSource\"}},\"id\":\"f8399559-ded6-4b16-a54b-660592c7f427\",\"type\":\"CDSView\"},{\"attributes\":{},\"id\":\"fc1a7771-4c92-4f71-9396-c21efbfe14c5\",\"type\":\"UnionRenderers\"},{\"attributes\":{\"dimension\":1,\"plot\":{\"id\":\"13a30190-47f9-40ab-ba4c-312809a837c8\",\"subtype\":\"Figure\",\"type\":\"Plot\"},\"ticker\":{\"id\":\"11d94498-3f88-4aa2-97c7-ed513d999467\",\"type\":\"BasicTicker\"}},\"id\":\"1c01204f-5cf7-4d9e-a25e-43334b72fddb\",\"type\":\"Grid\"},{\"attributes\":{\"data_source\":{\"id\":\"38e1d29d-7f9c-4dbe-a333-63e57b9c67c6\",\"type\":\"ColumnDataSource\"},\"glyph\":{\"id\":\"add40c3b-dcc3-4f02-bcd0-30f052fdce6d\",\"type\":\"Square\"},\"hover_glyph\":null,\"muted_glyph\":null,\"nonselection_glyph\":{\"id\":\"377b615c-923a-4a7a-9c27-bf266f7f2b78\",\"type\":\"Square\"},\"selection_glyph\":null,\"view\":{\"id\":\"f8399559-ded6-4b16-a54b-660592c7f427\",\"type\":\"CDSView\"}},\"id\":\"b57b77cb-7149-4c7c-a3cb-03cff45a59e9\",\"type\":\"GlyphRenderer\"},{\"attributes\":{\"callback\":null,\"data\":{\"x\":{\"__ndarray__\":\"YclrqXA2Ab/Jj6SFdEEDv0D/t+UTs/6+LxaIOKxd/L6kykvSIID6vsL97L3lrfi+9Gme20Od9r4YljM55qf0vjnkcjIYaPK+o7WG3ZBB8L5/S6OufLDrvp26MZLH4+a+YTTPV7LF4b47+xtJXSzbvgxVK15Sd7U+4/8Qw8STAD/F/6Z+BG4ZP4JuWcTDgio/WW3lebUCOD9yd9qjoz1EP3daOO4cUFA/galcZN9uWT/77A+7x75hPz4F04DnPWI/McNqHzdrXD9qwpEfLEVUP0mPRJKh+Us/3oP3YFDpQj/ITaOnM145PyY0rfBCuTA/JKWsnoG5JD9uAXqtTcsWP0VbzSeJiAU/t7EWgMmH6D5Gc6NAaJLrvuMlBLwQnAK/Ir+L7hRVCr8lBx0CYgwPv/JSPFT53RG/mkqlWkEQFL/ve5XI2SAbv10/7UOVyCi/yAKrLGH2M7+YkCmxNZBAvzxYEF2oKUa/oH2BHrSURb9V5Oq/XXxEv+nBhmD3d0W/R7A0O/etR7+PfNrOvXVHv4veWoPGrj6/VJRQPSUTJD8xLSVki9hTP6AiyDYpe2U/qLJPj0vmcT/Rv3GRsxt6PzhUzHyggIE/SCqxPUPQhj+PtfHtfpGLP8+SxdLHSY8/pP4Dd2PrkD+r/ApQVcyRP8h6zR+RvpI/9lq8l3xllD/zWwJd7NeWP9YjTNKuopo//9x0JMc4nz89SWGuqjaiP1m4kyXGdKQ/x5GPXIU0pj+8zbNDEKinP9V6SMPsD6k/usIH6wmPqj+1pdn/qmqsP69FfSWfPbE/\",\"dtype\":\"float64\",\"shape\":[75]},\"y\":{\"__ndarray__\":\"S/O/Q+51ND/Sv8nbtpRIP2vylNV0PVE/aTum7souWD/At0SJ8fVgPw3Iuahxymc/MSNhhJWvcD/bTfBN02d3P2zb5nxnaoA/CD5h5MAGhz8NmeH1TyaQP+zrCsc9p5Y/LbKd76fGnz/bLW5ISEmmPww9YvTcQq8/JV2OstnstT8Er5Y7M8G+P0c+r3jqkcU/5h99k6ZBzj88bCIzFzjVP4enV8oyxN0//yH99nXg5D8qOpLLf0jtP5kqGJXUifQ/c9cS8kHP/D+/DpwzojQEQIEmwoanVwxA4lgXt9HgE0BSSZ2AJuIbQAMJih9jjiNA5q4l5INuK0AwTKYKRj0zQNv5fmq8/DpAaCJseHrtQkB/+zpwzoxKQM3MzMzMeFJAZmZmZmZqWEAAAAAAAFxeQM3MzMzMJmJAmpmZmZkfZUBmZmZmZhhoQDMzMzMzEWtAAAAAAAAKbkBmZmZmZoFwQM3MzMzM/XFAMzMzMzN6c0CamZmZmfZ0QAAAAAAAc3ZAZmZmZmbvd0DNzMzMzGt5QDMzMzMz6HpAmpmZmZlkfEAAAAAAAOF9QGZmZmZmXX9AZmZmZuZsgECamZmZGSuBQM3MzMxM6YFAAAAAAICngkAzMzMzs2WDQGZmZmbmI4RAmpmZmRnihEDNzMzMTKCFQAAAAACAXoZAMzMzM7Mch0BmZmZm5tqHQJqZmZkZmYhAzczMzExXiUAAAAAAgBWKQDMzMzOz04pAZmZmZuaRi0CamZmZGVCMQM3MzMxMDo1AAAAAAIDMjUAzMzMzs4qOQGZmZmbmSI9A\",\"dtype\":\"float64\",\"shape\":[75]}},\"selected\":{\"id\":\"a8322870-cad4-4db5-b184-f4ff5eb1c014\",\"type\":\"Selection\"},\"selection_policy\":{\"id\":\"fc1a7771-4c92-4f71-9396-c21efbfe14c5\",\"type\":\"UnionRenderers\"}},\"id\":\"a861624e-468a-4bcb-8375-b3d00cbbe176\",\"type\":\"ColumnDataSource\"},{\"attributes\":{\"callback\":null,\"data\":{\"x\":{\"__ndarray__\":\"0YvHs6L2Rb8W19o4Q/RFv8GfM/iX60W/Qc4K/0vgRb8SWWKvTNNFv1NB3dutxUW/55i8JEm4Rb+dZFVAqqlFv7VCnuVXnEW/4mofinGPRb9h/xpWu4dFvzfk0RFehkW/W5LubCmORb/6dU0yyKFFv/4N6TVpdUW/3dfBcegERL9BuRSGCBtAv2Ht7Lt4bTK/8q5ujHSEDT9h1yxiJsVCP9Ih0wVs81U/WxNbVQAZZD9MQQsFhMhtP6Eb5xwfmW0/vqn/HLxwZD/aCTCdr4FYPxG9jVvEMks/qZbc1qRePD8bciYuMB4tP0GRCWE+LB4/O2HZWS+RDD9eJLo1pN/yPgWQ5i9Rp84+2KXkAkQ4n75VrNBWpxjkvq1clVyqwvi+w5riAc6EAb/Rr5c4ma4Ev5NmPU4cxQm/cQf3Ym7wDr84X0NSbosTv5scJiiq6Bu/CLdq06cAIL+rSANO8pMkv4RNyN2u0TC/ocHIFz8rNb/ccNdmUHwxvyFfWrkHmhW/14ESOgljLj80hd2WGU1GP9wBbZ9UilQ/xRAVt8WNXz/6PVVw/VVmP7ahkbCwHm4/rmv/POmacz9NBYiGred4P0j4fiRVLX8//YxTuNPSgz9d4So9PTCIPxL2cV3Gh4w/4I2GBVd2kD98RBeXVLSSP9lZ6tyRCpU/VvykryeHlz8a3KbdhzqaPx7vz/FDOJ0/2H0qG5Q4oD+ueqefw76hP1zUKbru4KI/hRRflHCGoz8KS12uVe2jP6jnOBLDaaQ/mHU5BBI9pT+WrGSp8MWmP5ON9XcwDqw/\",\"dtype\":\"float64\",\"shape\":[75]},\"y\":{\"__ndarray__\":\"GhExyth1ND/Sv8nbtpRIP2vylNV0PVE/aTum7souWD/At0SJ8fVgPw3Iuahxymc/MSNhhJWvcD/bTfBN02d3P2zb5nxnaoA/CD5h5MAGhz8NmeH1TyaQP+zrCsc9p5Y/LbKd76fGnz/bLW5ISEmmPww9YvTcQq8/JV2OstnstT8Er5Y7M8G+P0c+r3jqkcU/5h99k6ZBzj88bCIzFzjVP4enV8oyxN0//yH99nXg5D8qOpLLf0jtP5kqGJXUifQ/c9cS8kHP/D+/DpwzojQEQIEmwoanVwxA4lgXt9HgE0BSSZ2AJuIbQAMJih9jjiNA5q4l5INuK0AwTKYKRj0zQNv5fmq8/DpAaCJseHrtQkB/+zpwzoxKQM3MzMzMeFJAZmZmZmZqWEAAAAAAAFxeQM3MzMzMJmJAmpmZmZkfZUBmZmZmZhhoQDMzMzMzEWtAAAAAAAAKbkBmZmZmZoFwQM3MzMzM/XFAMzMzMzN6c0CamZmZmfZ0QAAAAAAAc3ZAZmZmZmbvd0DNzMzMzGt5QDMzMzMz6HpAmpmZmZlkfEAAAAAAAOF9QGZmZmZmXX9AZmZmZuZsgECamZmZGSuBQM3MzMxM6YFAAAAAAICngkAzMzMzs2WDQGZmZmbmI4RAmpmZmRnihEDNzMzMTKCFQAAAAACAXoZAMzMzM7Mch0BmZmZm5tqHQJqZmZkZmYhAzczMzExXiUAAAAAAgBWKQDMzMzOz04pAZmZmZuaRi0CamZmZGVCMQM3MzMxMDo1AAAAAAIDMjUAzMzMzs4qOQGZmZmbmSI9A\",\"dtype\":\"float64\",\"shape\":[75]}},\"selected\":{\"id\":\"da1f95d3-b6c0-4b1e-97d7-2ac1b068c4d4\",\"type\":\"Selection\"},\"selection_policy\":{\"id\":\"e279ddb3-df7f-4853-9304-1e0c86c48bd9\",\"type\":\"UnionRenderers\"}},\"id\":\"36755f75-52b1-4ca9-9e1c-0492c45769bf\",\"type\":\"ColumnDataSource\"},{\"attributes\":{\"label\":{\"value\":\"WGT igg=10 wgt_flux=2\"},\"renderers\":[{\"id\":\"9b7eaf6d-0a63-4af7-b806-4c63543e3155\",\"type\":\"GlyphRenderer\"},{\"id\":\"dc22500d-b98e-4f2c-a4f2-00a57641d553\",\"type\":\"GlyphRenderer\"}]},\"id\":\"7d2d09f9-3a32-4525-985e-32a10efa3c1e\",\"type\":\"LegendItem\"},{\"attributes\":{},\"id\":\"0cc056bd-d856-401f-a8be-276f0cdaf345\",\"type\":\"UnionRenderers\"},{\"attributes\":{},\"id\":\"61963e57-c11c-4f82-9e6a-ffb0e24d7aa1\",\"type\":\"LinearScale\"},{\"attributes\":{},\"id\":\"77bedb69-e4e3-4654-aab2-1c77da7ab816\",\"type\":\"BasicTickFormatter\"},{\"attributes\":{\"source\":{\"id\":\"36755f75-52b1-4ca9-9e1c-0492c45769bf\",\"type\":\"ColumnDataSource\"}},\"id\":\"19530dd7-7055-43a0-8713-550e3ccbc476\",\"type\":\"CDSView\"},{\"attributes\":{\"children\":[{\"id\":\"18ce9ba6-d826-4a01-8261-3ef6c29f0b20\",\"type\":\"Row\"}]},\"id\":\"862e9ac8-ff32-4ffc-8dc8-5a4ced0baa3b\",\"type\":\"Column\"},{\"attributes\":{},\"id\":\"dab3a53f-1860-4748-ba9c-26d0251084f4\",\"type\":\"Selection\"},{\"attributes\":{},\"id\":\"27b0bdb8-cb6d-4eeb-83be-2835432fba6c\",\"type\":\"LogScale\"},{\"attributes\":{},\"id\":\"ddbaead8-8c47-4951-9e04-8f3d119030da\",\"type\":\"UnionRenderers\"},{\"attributes\":{},\"id\":\"0eea47a5-be81-4009-baa4-310ab318a3f1\",\"type\":\"Selection\"},{\"attributes\":{},\"id\":\"a8322870-cad4-4db5-b184-f4ff5eb1c014\",\"type\":\"Selection\"},{\"attributes\":{\"axis_label\":\"pressure [mb]\",\"formatter\":{\"id\":\"07da81bb-f887-4b9f-a6ae-e5bd809c6338\",\"type\":\"BasicTickFormatter\"},\"plot\":{\"id\":\"13a30190-47f9-40ab-ba4c-312809a837c8\",\"subtype\":\"Figure\",\"type\":\"Plot\"},\"ticker\":{\"id\":\"11d94498-3f88-4aa2-97c7-ed513d999467\",\"type\":\"BasicTicker\"}},\"id\":\"b26b64ff-aa2a-42ef-96f4-78a2aa478c32\",\"type\":\"LinearAxis\"},{\"attributes\":{\"line_alpha\":0.1,\"line_color\":\"#1f77b4\",\"line_dash\":[6],\"line_width\":5,\"x\":{\"field\":\"x\"},\"y\":{\"field\":\"y\"}},\"id\":\"3f508364-476c-480c-b4dc-5ce887f09e49\",\"type\":\"Line\"},{\"attributes\":{},\"id\":\"8af8fe5c-d549-4f5f-8718-53cb9861b268\",\"type\":\"Selection\"},{\"attributes\":{\"plot\":null,\"text\":\"Log pressure scale\"},\"id\":\"63e5c937-5d43-4524-9565-6b17b5a31767\",\"type\":\"Title\"},{\"attributes\":{\"line_alpha\":0.1,\"line_color\":\"#1f77b4\",\"line_width\":1.5,\"x\":{\"field\":\"x\"},\"y\":{\"field\":\"y\"}},\"id\":\"a34bdddd-0aa0-4325-af97-2d867b8d5d59\",\"type\":\"Line\"},{\"attributes\":{},\"id\":\"e279ddb3-df7f-4853-9304-1e0c86c48bd9\",\"type\":\"UnionRenderers\"},{\"attributes\":{\"line_alpha\":0.1,\"line_color\":\"#1f77b4\",\"line_width\":3,\"x\":{\"field\":\"x\"},\"y\":{\"field\":\"y\"}},\"id\":\"50a207c8-5f33-4c08-84d9-d3270640b33d\",\"type\":\"Line\"},{\"attributes\":{},\"id\":\"da1f95d3-b6c0-4b1e-97d7-2ac1b068c4d4\",\"type\":\"Selection\"},{\"attributes\":{},\"id\":\"3ee1f314-80a8-4d8a-8c1a-3bfd61cb43a7\",\"type\":\"UnionRenderers\"},{\"attributes\":{\"plot\":{\"id\":\"13a30190-47f9-40ab-ba4c-312809a837c8\",\"subtype\":\"Figure\",\"type\":\"Plot\"},\"ticker\":{\"id\":\"ebce187c-5c54-41aa-a753-b0195c81a8c4\",\"type\":\"BasicTicker\"}},\"id\":\"593f2ae6-2894-4db4-b6c2-46516c812b10\",\"type\":\"Grid\"},{\"attributes\":{\"data_source\":{\"id\":\"8f3f7a6d-bc0b-4918-980a-c480c5ab5048\",\"type\":\"ColumnDataSource\"},\"glyph\":{\"id\":\"3035114f-040b-43fa-a164-78f98976d9f7\",\"type\":\"Line\"},\"hover_glyph\":null,\"muted_glyph\":null,\"nonselection_glyph\":{\"id\":\"50a207c8-5f33-4c08-84d9-d3270640b33d\",\"type\":\"Line\"},\"selection_glyph\":null,\"view\":{\"id\":\"c1419eb1-8e01-4972-9d93-d065a75e6e41\",\"type\":\"CDSView\"}},\"id\":\"a36f2f56-1261-4b5b-8335-b51634c06361\",\"type\":\"GlyphRenderer\"},{\"attributes\":{\"callback\":null,\"data\":{\"x\":{\"__ndarray__\":\"0YvHs6L2Rb8W19o4Q/RFv8GfM/iX60W/Qc4K/0vgRb8SWWKvTNNFv1NB3dutxUW/55i8JEm4Rb+dZFVAqqlFv7VCnuVXnEW/4mofinGPRb9h/xpWu4dFvzfk0RFehkW/W5LubCmORb/6dU0yyKFFv/4N6TVpdUW/3dfBcegERL9BuRSGCBtAv2Ht7Lt4bTK/8q5ujHSEDT9h1yxiJsVCP9Ih0wVs81U/WxNbVQAZZD9MQQsFhMhtP6Eb5xwfmW0/vqn/HLxwZD/aCTCdr4FYPxG9jVvEMks/qZbc1qRePD8bciYuMB4tP0GRCWE+LB4/O2HZWS+RDD9eJLo1pN/yPgWQ5i9Rp84+2KXkAkQ4n75VrNBWpxjkvq1clVyqwvi+w5riAc6EAb/Rr5c4ma4Ev5NmPU4cxQm/cQf3Ym7wDr84X0NSbosTv5scJiiq6Bu/CLdq06cAIL+rSANO8pMkv4RNyN2u0TC/ocHIFz8rNb/ccNdmUHwxvyFfWrkHmhW/14ESOgljLj80hd2WGU1GP9wBbZ9UilQ/xRAVt8WNXz/6PVVw/VVmP7ahkbCwHm4/rmv/POmacz9NBYiGred4P0j4fiRVLX8//YxTuNPSgz9d4So9PTCIPxL2cV3Gh4w/4I2GBVd2kD98RBeXVLSSP9lZ6tyRCpU/VvykryeHlz8a3KbdhzqaPx7vz/FDOJ0/2H0qG5Q4oD+ueqefw76hP1zUKbru4KI/hRRflHCGoz8KS12uVe2jP6jnOBLDaaQ/mHU5BBI9pT+WrGSp8MWmP5ON9XcwDqw/\",\"dtype\":\"float64\",\"shape\":[75]},\"y\":{\"__ndarray__\":\"GhExyth1ND/Sv8nbtpRIP2vylNV0PVE/aTum7souWD/At0SJ8fVgPw3Iuahxymc/MSNhhJWvcD/bTfBN02d3P2zb5nxnaoA/CD5h5MAGhz8NmeH1TyaQP+zrCsc9p5Y/LbKd76fGnz/bLW5ISEmmPww9YvTcQq8/JV2OstnstT8Er5Y7M8G+P0c+r3jqkcU/5h99k6ZBzj88bCIzFzjVP4enV8oyxN0//yH99nXg5D8qOpLLf0jtP5kqGJXUifQ/c9cS8kHP/D+/DpwzojQEQIEmwoanVwxA4lgXt9HgE0BSSZ2AJuIbQAMJih9jjiNA5q4l5INuK0AwTKYKRj0zQNv5fmq8/DpAaCJseHrtQkB/+zpwzoxKQM3MzMzMeFJAZmZmZmZqWEAAAAAAAFxeQM3MzMzMJmJAmpmZmZkfZUBmZmZmZhhoQDMzMzMzEWtAAAAAAAAKbkBmZmZmZoFwQM3MzMzM/XFAMzMzMzN6c0CamZmZmfZ0QAAAAAAAc3ZAZmZmZmbvd0DNzMzMzGt5QDMzMzMz6HpAmpmZmZlkfEAAAAAAAOF9QGZmZmZmXX9AZmZmZuZsgECamZmZGSuBQM3MzMxM6YFAAAAAAICngkAzMzMzs2WDQGZmZmbmI4RAmpmZmRnihEDNzMzMTKCFQAAAAACAXoZAMzMzM7Mch0BmZmZm5tqHQJqZmZkZmYhAzczMzExXiUAAAAAAgBWKQDMzMzOz04pAZmZmZuaRi0CamZmZGVCMQM3MzMxMDo1AAAAAAIDMjUAzMzMzs4qOQGZmZmbmSI9A\",\"dtype\":\"float64\",\"shape\":[75]}},\"selected\":{\"id\":\"8af8fe5c-d549-4f5f-8718-53cb9861b268\",\"type\":\"Selection\"},\"selection_policy\":{\"id\":\"ddbaead8-8c47-4951-9e04-8f3d119030da\",\"type\":\"UnionRenderers\"}},\"id\":\"d970c578-491c-4b14-8b37-3eabe2a4f949\",\"type\":\"ColumnDataSource\"},{\"attributes\":{},\"id\":\"ed95f48d-9f0b-4e9d-bfa3-5c4326d5dab5\",\"type\":\"ResetTool\"},{\"attributes\":{\"source\":{\"id\":\"8f3f7a6d-bc0b-4918-980a-c480c5ab5048\",\"type\":\"ColumnDataSource\"}},\"id\":\"c1419eb1-8e01-4972-9d93-d065a75e6e41\",\"type\":\"CDSView\"},{\"attributes\":{},\"id\":\"4c64af2a-2a57-4c7b-863e-3b1a5cb2a60d\",\"type\":\"BasicTickFormatter\"},{\"attributes\":{\"ticker\":null},\"id\":\"3292a78d-77d3-4ce0-b324-aa4cbbeb9d1c\",\"type\":\"LogTickFormatter\"},{\"attributes\":{},\"id\":\"5361e0a4-d629-4d8b-bf07-ebba6c21e0b9\",\"type\":\"LinearScale\"},{\"attributes\":{},\"id\":\"11d94498-3f88-4aa2-97c7-ed513d999467\",\"type\":\"BasicTicker\"},{\"attributes\":{},\"id\":\"2aacfd6b-93aa-4e5d-a3f0-aec73af18efb\",\"type\":\"UnionRenderers\"},{\"attributes\":{\"items\":[{\"id\":\"e0b2e77b-af0a-4724-892a-534901d856c4\",\"type\":\"LegendItem\"},{\"id\":\"76f0c41e-42b4-4da0-b455-77841d42f678\",\"type\":\"LegendItem\"},{\"id\":\"7d2d09f9-3a32-4525-985e-32a10efa3c1e\",\"type\":\"LegendItem\"}],\"label_text_font_size\":{\"value\":\"8pt\"},\"location\":[10,-30],\"plot\":{\"id\":\"1c3a7190-c0d1-455e-84f1-6c817e9d0ef6\",\"subtype\":\"Figure\",\"type\":\"Plot\"}},\"id\":\"9421346b-6798-493f-b512-6bb4b6ea0846\",\"type\":\"Legend\"},{\"attributes\":{\"line_color\":\"#4daf4a\",\"line_width\":1.5,\"x\":{\"field\":\"x\"},\"y\":{\"field\":\"y\"}},\"id\":\"06324abe-8aae-45d3-b5b7-6d3883e2daa9\",\"type\":\"Line\"},{\"attributes\":{},\"id\":\"b5fc0ca7-9ef0-4021-96c7-116dac18b4db\",\"type\":\"Selection\"},{\"attributes\":{\"data_source\":{\"id\":\"36755f75-52b1-4ca9-9e1c-0492c45769bf\",\"type\":\"ColumnDataSource\"},\"glyph\":{\"id\":\"06324abe-8aae-45d3-b5b7-6d3883e2daa9\",\"type\":\"Line\"},\"hover_glyph\":null,\"muted_glyph\":null,\"nonselection_glyph\":{\"id\":\"a34bdddd-0aa0-4325-af97-2d867b8d5d59\",\"type\":\"Line\"},\"selection_glyph\":null,\"view\":{\"id\":\"19530dd7-7055-43a0-8713-550e3ccbc476\",\"type\":\"CDSView\"}},\"id\":\"490dddec-d834-429e-9d34-c8cfa2e61e79\",\"type\":\"GlyphRenderer\"},{\"attributes\":{},\"id\":\"5b9c1e3a-694c-4e24-9e9f-dc7b81ef17c7\",\"type\":\"UnionRenderers\"},{\"attributes\":{\"active_drag\":\"auto\",\"active_inspect\":\"auto\",\"active_scroll\":\"auto\",\"active_tap\":\"auto\",\"tools\":[{\"id\":\"8b4e216c-5e72-4c45-8156-d6b93d77a4d2\",\"type\":\"PanTool\"},{\"id\":\"cac81bb7-52a2-4406-b1c5-5ca029e5406c\",\"type\":\"WheelZoomTool\"},{\"id\":\"2f1d36ba-5267-4965-b555-4f2322bc5adf\",\"type\":\"BoxZoomTool\"},{\"id\":\"ac9fc380-99cb-47f4-ad00-436f455642d4\",\"type\":\"SaveTool\"},{\"id\":\"5702a1d7-a395-49ad-90fc-b4055092412a\",\"type\":\"ResetTool\"},{\"id\":\"3a76de5c-6a17-4260-a7de-7403ae0257ef\",\"type\":\"HelpTool\"}]},\"id\":\"6fc8050d-519f-4e90-b0e4-467142533d36\",\"type\":\"Toolbar\"},{\"attributes\":{},\"id\":\"26193efa-09fb-42ce-a7c3-63d96106024f\",\"type\":\"UnionRenderers\"},{\"attributes\":{\"fill_alpha\":{\"value\":0.7},\"fill_color\":{\"value\":\"#4daf4a\"},\"line_alpha\":{\"value\":0.7},\"line_color\":{\"value\":\"#4daf4a\"},\"x\":{\"field\":\"x\"},\"y\":{\"field\":\"y\"}},\"id\":\"f364e931-2cd9-4689-8294-77bdba4945ab\",\"type\":\"Circle\"},{\"attributes\":{\"callback\":null,\"data\":{\"x\":{\"__ndarray__\":\"+m2e9rNYEL9uyRaEHykQv36jO1c6gA+/RFZex8KVDr9b0QKDJJ4Nv4M6BC8ZmQy//S78KiKGC7/nR7PUvWQKvypzTt57+Ai/v8f6Eg1GB79iF0Z9K/UFv4BGm/lmbQS/sEkAiWShAr97E7wrogEBvw9pAksUnPe+Hez8DZkL6j5Gh+WvHSAXP+20evGd0Cs/5Olam7y+Oj++0LCHkRxHPy7qAHDN8lI/382V0AvbXT/9rsrCFOhkP2335bJyfWU/MJ2WBmKnYD8/2Hs7EItXP2VPM4DvDFA/yERb7flYRT/OQHU/hAw8P2nB0VaZATI/XrM+psV5JT83RqHJxhoWP3buJgWCZAI/Bc0flAAM1T5eyL4PFJrzvgpqeBjE/QS/1BF9eYjtC7/4oUz93vQPv0ef+LWlOhK/S3p18gV+FL9n3eZIglkbv2yvDzZmVSi/dkbQBq7wMr8VCSIAOB8+v1dwKXEFGkW//gbpAl13Rr+xtL5KwgBGvz4CU9ttNUW/Eso/9+pvQ78EbdvK20c9vztPxjYbNh+/t3bpgaUCQD9fQuJXLV9XP3AhVGIq8GU/67Ga7r08cT/vtcGWGHx4P5VcWjvwUYA/blc9ZZtmhT+4wXh/pD+KP2PDhTP/aY4/85bl4LHwkD/0VNMI1W2SP12Tppln8JM/DLeJV5rDlT+k4rTlmDGYP3M2t7wUdZs/QFCKCq+Bnz9Ha3j9GumhPz1fq4POyKM/cRkb3c81pT9XctTJlVymPz1cYbZzkqc/mt6i/EgCqT8wtvAyAwOrP8joq467srA/\",\"dtype\":\"float64\",\"shape\":[75]},\"y\":{\"__ndarray__\":\"GhExyth1ND/Sv8nbtpRIP2vylNV0PVE/aTum7souWD/At0SJ8fVgPw3Iuahxymc/MSNhhJWvcD/bTfBN02d3P2zb5nxnaoA/CD5h5MAGhz8NmeH1TyaQP+zrCsc9p5Y/LbKd76fGnz/bLW5ISEmmPww9YvTcQq8/JV2OstnstT8Er5Y7M8G+P0c+r3jqkcU/5h99k6ZBzj88bCIzFzjVP4enV8oyxN0//yH99nXg5D8qOpLLf0jtP5kqGJXUifQ/c9cS8kHP/D+/DpwzojQEQIEmwoanVwxA4lgXt9HgE0BSSZ2AJuIbQAMJih9jjiNA5q4l5INuK0AwTKYKRj0zQNv5fmq8/DpAaCJseHrtQkB/+zpwzoxKQM3MzMzMeFJAZmZmZmZqWEAAAAAAAFxeQM3MzMzMJmJAmpmZmZkfZUBmZmZmZhhoQDMzMzMzEWtAAAAAAAAKbkBmZmZmZoFwQM3MzMzM/XFAMzMzMzN6c0CamZmZmfZ0QAAAAAAAc3ZAZmZmZmbvd0DNzMzMzGt5QDMzMzMz6HpAmpmZmZlkfEAAAAAAAOF9QGZmZmZmXX9AZmZmZuZsgECamZmZGSuBQM3MzMxM6YFAAAAAAICngkAzMzMzs2WDQGZmZmbmI4RAmpmZmRnihEDNzMzMTKCFQAAAAACAXoZAMzMzM7Mch0BmZmZm5tqHQJqZmZkZmYhAzczMzExXiUAAAAAAgBWKQDMzMzOz04pAZmZmZuaRi0CamZmZGVCMQM3MzMxMDo1AAAAAAIDMjUAzMzMzs4qOQGZmZmbmSI9A\",\"dtype\":\"float64\",\"shape\":[75]}},\"selected\":{\"id\":\"0eea47a5-be81-4009-baa4-310ab318a3f1\",\"type\":\"Selection\"},\"selection_policy\":{\"id\":\"0cc056bd-d856-401f-a8be-276f0cdaf345\",\"type\":\"UnionRenderers\"}},\"id\":\"38e1d29d-7f9c-4dbe-a333-63e57b9c67c6\",\"type\":\"ColumnDataSource\"},{\"attributes\":{},\"id\":\"203de22c-c3ab-4b96-a304-4d675f10cbcf\",\"type\":\"Selection\"},{\"attributes\":{\"active_drag\":\"auto\",\"active_inspect\":\"auto\",\"active_scroll\":\"auto\",\"active_tap\":\"auto\",\"tools\":[{\"id\":\"8e417bd4-4cb9-4d0b-9bc1-0db9276ca4ae\",\"type\":\"PanTool\"},{\"id\":\"132e97ea-7a64-41a4-bed9-6ccbefabe84c\",\"type\":\"WheelZoomTool\"},{\"id\":\"a7dfa78f-b844-45de-88c4-01ceb034614e\",\"type\":\"BoxZoomTool\"},{\"id\":\"3678cfe7-bfa8-42ad-a11d-2da127c246e4\",\"type\":\"SaveTool\"},{\"id\":\"ed95f48d-9f0b-4e9d-bfa3-5c4326d5dab5\",\"type\":\"ResetTool\"},{\"id\":\"e2cb73a3-646f-441d-8b20-21044889e9ca\",\"type\":\"HelpTool\"}]},\"id\":\"82aa79b8-1ce5-4ff1-9768-029b0f7720a0\",\"type\":\"Toolbar\"},{\"attributes\":{\"fill_alpha\":{\"value\":0.1},\"fill_color\":{\"value\":\"#1f77b4\"},\"line_alpha\":{\"value\":0.1},\"line_color\":{\"value\":\"#1f77b4\"},\"x\":{\"field\":\"x\"},\"y\":{\"field\":\"y\"}},\"id\":\"377b615c-923a-4a7a-9c27-bf266f7f2b78\",\"type\":\"Square\"},{\"attributes\":{},\"id\":\"3eb55fea-69b9-4558-912c-1f6bd4330fb3\",\"type\":\"UnionRenderers\"},{\"attributes\":{},\"id\":\"595c2e5c-021b-4393-bbde-d0642d74aa6e\",\"type\":\"Selection\"},{\"attributes\":{\"line_alpha\":0.6,\"line_color\":\"#984ea3\",\"line_width\":3,\"x\":{\"field\":\"x\"},\"y\":{\"field\":\"y\"}},\"id\":\"3035114f-040b-43fa-a164-78f98976d9f7\",\"type\":\"Line\"},{\"attributes\":{},\"id\":\"47df0c2b-0172-4d28-96c6-0631867590d3\",\"type\":\"Selection\"},{\"attributes\":{\"plot\":null,\"text\":\"Linear pressure scale\"},\"id\":\"e3fea3c9-6183-4616-b3ff-70eeef8359f1\",\"type\":\"Title\"},{\"attributes\":{},\"id\":\"673120ba-de7f-47fd-9a14-b078cc38a282\",\"type\":\"UnionRenderers\"},{\"attributes\":{},\"id\":\"76d8c796-3bcc-409c-b409-3ffc12c5c49c\",\"type\":\"Selection\"},{\"attributes\":{\"callback\":null,\"end\":0.0036786104745999996,\"start\":-0.0007031131345999999},\"id\":\"7eb43707-3683-4dd5-a00c-309b63b801da\",\"type\":\"Range1d\"}],\"root_ids\":[\"29856cce-6db7-4571-ad67-0069f755fab1\"]},\"title\":\"Bokeh Application\",\"version\":\"0.12.16\"}};\n",
       "  var render_items = [{\"docid\":\"8b1d8fcf-a677-44bf-b580-f1b542fb40b6\",\"elementid\":\"472f15e3-a55a-4c2f-a48b-8021b5fdf33d\",\"modelid\":\"29856cce-6db7-4571-ad67-0069f755fab1\"}];\n",
       "  root.Bokeh.embed.embed_items_notebook(docs_json, render_items);\n",
       "\n",
       "  }\n",
       "  if (root.Bokeh !== undefined) {\n",
       "    embed_document(root);\n",
       "  } else {\n",
       "    var attempts = 0;\n",
       "    var timer = setInterval(function(root) {\n",
       "      if (root.Bokeh !== undefined) {\n",
       "        embed_document(root);\n",
       "        clearInterval(timer);\n",
       "      }\n",
       "      attempts++;\n",
       "      if (attempts > 100) {\n",
       "        console.log(\"Bokeh: ERROR: Unable to run BokehJS code because BokehJS library is missing\")\n",
       "        clearInterval(timer);\n",
       "      }\n",
       "    }, 10, root)\n",
       "  }\n",
       "})(window);"
      ],
      "application/vnd.bokehjs_exec.v0+json": ""
     },
     "metadata": {
      "application/vnd.bokehjs_exec.v0+json": {
       "id": "29856cce-6db7-4571-ad67-0069f755fab1"
      }
     },
     "output_type": "display_data"
    },
    {
     "name": "stdout",
     "output_type": "stream",
     "text": [
      "FIGURE. Cooling rate profiles.\n"
     ]
    },
    {
     "data": {
      "text/html": [
       "<a id=\"Flux_Comparison\"></a>"
      ],
      "text/plain": [
       "<IPython.core.display.HTML object>"
      ]
     },
     "metadata": {},
     "output_type": "display_data"
    },
    {
     "data": {
      "text/markdown": [
       "# Flux Comparison"
      ],
      "text/plain": [
       "<IPython.core.display.Markdown object>"
      ]
     },
     "metadata": {},
     "output_type": "display_data"
    },
    {
     "data": {
      "text/html": [
       "<div>\n",
       "<style scoped>\n",
       "    .dataframe tbody tr th:only-of-type {\n",
       "        vertical-align: middle;\n",
       "    }\n",
       "\n",
       "    .dataframe tbody tr th {\n",
       "        vertical-align: top;\n",
       "    }\n",
       "\n",
       "    .dataframe thead th {\n",
       "        text-align: right;\n",
       "    }\n",
       "</style>\n",
       "<table border=\"1\" class=\"dataframe\">\n",
       "  <thead>\n",
       "    <tr style=\"text-align: right;\">\n",
       "      <th></th>\n",
       "      <th></th>\n",
       "      <th>flug</th>\n",
       "      <th>fldg</th>\n",
       "      <th>fnetg</th>\n",
       "    </tr>\n",
       "    <tr>\n",
       "      <th>pressure</th>\n",
       "      <th>level</th>\n",
       "      <th></th>\n",
       "      <th></th>\n",
       "      <th></th>\n",
       "    </tr>\n",
       "  </thead>\n",
       "  <tbody>\n",
       "    <tr>\n",
       "      <th>0.0000</th>\n",
       "      <th>1</th>\n",
       "      <td>-5.098632</td>\n",
       "      <td>0.000000</td>\n",
       "      <td>-5.098632</td>\n",
       "    </tr>\n",
       "    <tr>\n",
       "      <th>1.0685</th>\n",
       "      <th>24</th>\n",
       "      <td>-5.098598</td>\n",
       "      <td>0.000183</td>\n",
       "      <td>-5.098415</td>\n",
       "    </tr>\n",
       "    <tr>\n",
       "      <th>1013.0000</th>\n",
       "      <th>76</th>\n",
       "      <td>-6.625452</td>\n",
       "      <td>3.092942</td>\n",
       "      <td>-3.532511</td>\n",
       "    </tr>\n",
       "  </tbody>\n",
       "</table>\n",
       "</div>"
      ],
      "text/plain": [
       "                     flug      fldg     fnetg\n",
       "pressure  level                              \n",
       "0.0000    1     -5.098632  0.000000 -5.098632\n",
       "1.0685    24    -5.098598  0.000183 -5.098415\n",
       "1013.0000 76    -6.625452  3.092942 -3.532511"
      ]
     },
     "metadata": {},
     "output_type": "display_data"
    },
    {
     "name": "stdout",
     "output_type": "stream",
     "text": [
      "Table. Fluxes. CRD\n"
     ]
    },
    {
     "data": {
      "text/html": [
       "<div>\n",
       "<style scoped>\n",
       "    .dataframe tbody tr th:only-of-type {\n",
       "        vertical-align: middle;\n",
       "    }\n",
       "\n",
       "    .dataframe tbody tr th {\n",
       "        vertical-align: top;\n",
       "    }\n",
       "\n",
       "    .dataframe thead th {\n",
       "        text-align: right;\n",
       "    }\n",
       "</style>\n",
       "<table border=\"1\" class=\"dataframe\">\n",
       "  <thead>\n",
       "    <tr style=\"text-align: right;\">\n",
       "      <th></th>\n",
       "      <th></th>\n",
       "      <th>flug</th>\n",
       "      <th>fldg</th>\n",
       "      <th>fnetg</th>\n",
       "    </tr>\n",
       "    <tr>\n",
       "      <th>pressure</th>\n",
       "      <th>level</th>\n",
       "      <th></th>\n",
       "      <th></th>\n",
       "      <th></th>\n",
       "    </tr>\n",
       "  </thead>\n",
       "  <tbody>\n",
       "    <tr>\n",
       "      <th>0.0000</th>\n",
       "      <th>1</th>\n",
       "      <td>-4.871817</td>\n",
       "      <td>0.000000</td>\n",
       "      <td>-4.871817</td>\n",
       "    </tr>\n",
       "    <tr>\n",
       "      <th>1.0685</th>\n",
       "      <th>24</th>\n",
       "      <td>-4.871740</td>\n",
       "      <td>0.000099</td>\n",
       "      <td>-4.871641</td>\n",
       "    </tr>\n",
       "    <tr>\n",
       "      <th>1013.0000</th>\n",
       "      <th>76</th>\n",
       "      <td>-6.625452</td>\n",
       "      <td>3.399010</td>\n",
       "      <td>-3.226442</td>\n",
       "    </tr>\n",
       "  </tbody>\n",
       "</table>\n",
       "</div>"
      ],
      "text/plain": [
       "                     flug      fldg     fnetg\n",
       "pressure  level                              \n",
       "0.0000    1     -4.871817  0.000000 -4.871817\n",
       "1.0685    24    -4.871740  0.000099 -4.871641\n",
       "1013.0000 76    -6.625452  3.399010 -3.226442"
      ]
     },
     "metadata": {},
     "output_type": "display_data"
    },
    {
     "name": "stdout",
     "output_type": "stream",
     "text": [
      "Table. Fluxes. WGT igg=10 wgt_flux=1\n"
     ]
    },
    {
     "data": {
      "text/html": [
       "<div>\n",
       "<style scoped>\n",
       "    .dataframe tbody tr th:only-of-type {\n",
       "        vertical-align: middle;\n",
       "    }\n",
       "\n",
       "    .dataframe tbody tr th {\n",
       "        vertical-align: top;\n",
       "    }\n",
       "\n",
       "    .dataframe thead th {\n",
       "        text-align: right;\n",
       "    }\n",
       "</style>\n",
       "<table border=\"1\" class=\"dataframe\">\n",
       "  <thead>\n",
       "    <tr style=\"text-align: right;\">\n",
       "      <th></th>\n",
       "      <th></th>\n",
       "      <th>flug</th>\n",
       "      <th>fldg</th>\n",
       "      <th>fnetg</th>\n",
       "    </tr>\n",
       "    <tr>\n",
       "      <th>pressure</th>\n",
       "      <th>level</th>\n",
       "      <th></th>\n",
       "      <th></th>\n",
       "      <th></th>\n",
       "    </tr>\n",
       "  </thead>\n",
       "  <tbody>\n",
       "    <tr>\n",
       "      <th>1.000000e-08</th>\n",
       "      <th>1</th>\n",
       "      <td>-4.873729</td>\n",
       "      <td>0.000002</td>\n",
       "      <td>-4.873727</td>\n",
       "    </tr>\n",
       "    <tr>\n",
       "      <th>1.068500e+00</th>\n",
       "      <th>24</th>\n",
       "      <td>-4.873661</td>\n",
       "      <td>0.000085</td>\n",
       "      <td>-4.873576</td>\n",
       "    </tr>\n",
       "    <tr>\n",
       "      <th>1.013000e+03</th>\n",
       "      <th>76</th>\n",
       "      <td>-6.625452</td>\n",
       "      <td>3.434232</td>\n",
       "      <td>-3.191220</td>\n",
       "    </tr>\n",
       "  </tbody>\n",
       "</table>\n",
       "</div>"
      ],
      "text/plain": [
       "                        flug      fldg     fnetg\n",
       "pressure     level                              \n",
       "1.000000e-08 1     -4.873729  0.000002 -4.873727\n",
       "1.068500e+00 24    -4.873661  0.000085 -4.873576\n",
       "1.013000e+03 76    -6.625452  3.434232 -3.191220"
      ]
     },
     "metadata": {},
     "output_type": "display_data"
    },
    {
     "name": "stdout",
     "output_type": "stream",
     "text": [
      "Table. Fluxes. CLIRAD\n"
     ]
    },
    {
     "data": {
      "text/html": [
       "<div>\n",
       "<style scoped>\n",
       "    .dataframe tbody tr th:only-of-type {\n",
       "        vertical-align: middle;\n",
       "    }\n",
       "\n",
       "    .dataframe tbody tr th {\n",
       "        vertical-align: top;\n",
       "    }\n",
       "\n",
       "    .dataframe thead th {\n",
       "        text-align: right;\n",
       "    }\n",
       "</style>\n",
       "<table border=\"1\" class=\"dataframe\">\n",
       "  <thead>\n",
       "    <tr style=\"text-align: right;\">\n",
       "      <th></th>\n",
       "      <th></th>\n",
       "      <th>flug</th>\n",
       "      <th>fldg</th>\n",
       "      <th>fnetg</th>\n",
       "    </tr>\n",
       "    <tr>\n",
       "      <th>pressure</th>\n",
       "      <th>level</th>\n",
       "      <th></th>\n",
       "      <th></th>\n",
       "      <th></th>\n",
       "    </tr>\n",
       "  </thead>\n",
       "  <tbody>\n",
       "    <tr>\n",
       "      <th>0.0000</th>\n",
       "      <th>1</th>\n",
       "      <td>2.268145e-01</td>\n",
       "      <td>0.000000</td>\n",
       "      <td>0.226815</td>\n",
       "    </tr>\n",
       "    <tr>\n",
       "      <th>1.0685</th>\n",
       "      <th>24</th>\n",
       "      <td>2.268573e-01</td>\n",
       "      <td>-0.000084</td>\n",
       "      <td>0.226774</td>\n",
       "    </tr>\n",
       "    <tr>\n",
       "      <th>1013.0000</th>\n",
       "      <th>76</th>\n",
       "      <td>3.000001e-09</td>\n",
       "      <td>0.306069</td>\n",
       "      <td>0.306069</td>\n",
       "    </tr>\n",
       "  </tbody>\n",
       "</table>\n",
       "</div>"
      ],
      "text/plain": [
       "                         flug      fldg     fnetg\n",
       "pressure  level                                  \n",
       "0.0000    1      2.268145e-01  0.000000  0.226815\n",
       "1.0685    24     2.268573e-01 -0.000084  0.226774\n",
       "1013.0000 76     3.000001e-09  0.306069  0.306069"
      ]
     },
     "metadata": {},
     "output_type": "display_data"
    },
    {
     "name": "stdout",
     "output_type": "stream",
     "text": [
      "Table. Fluxes. (WGT igg=10 wgt_flux=1) - (CRD)\n"
     ]
    },
    {
     "data": {
      "text/html": [
       "<div>\n",
       "<style scoped>\n",
       "    .dataframe tbody tr th:only-of-type {\n",
       "        vertical-align: middle;\n",
       "    }\n",
       "\n",
       "    .dataframe tbody tr th {\n",
       "        vertical-align: top;\n",
       "    }\n",
       "\n",
       "    .dataframe thead th {\n",
       "        text-align: right;\n",
       "    }\n",
       "</style>\n",
       "<table border=\"1\" class=\"dataframe\">\n",
       "  <thead>\n",
       "    <tr style=\"text-align: right;\">\n",
       "      <th></th>\n",
       "      <th></th>\n",
       "      <th>flug</th>\n",
       "      <th>fldg</th>\n",
       "      <th>fnetg</th>\n",
       "    </tr>\n",
       "    <tr>\n",
       "      <th>pressure</th>\n",
       "      <th>level</th>\n",
       "      <th></th>\n",
       "      <th></th>\n",
       "      <th></th>\n",
       "    </tr>\n",
       "  </thead>\n",
       "  <tbody>\n",
       "    <tr>\n",
       "      <th>0.0000</th>\n",
       "      <th>1</th>\n",
       "      <td>2.249027e-01</td>\n",
       "      <td>0.000002</td>\n",
       "      <td>0.224905</td>\n",
       "    </tr>\n",
       "    <tr>\n",
       "      <th>1.0685</th>\n",
       "      <th>24</th>\n",
       "      <td>2.249362e-01</td>\n",
       "      <td>-0.000097</td>\n",
       "      <td>0.224839</td>\n",
       "    </tr>\n",
       "    <tr>\n",
       "      <th>1013.0000</th>\n",
       "      <th>76</th>\n",
       "      <td>3.000000e-07</td>\n",
       "      <td>0.341291</td>\n",
       "      <td>0.341291</td>\n",
       "    </tr>\n",
       "  </tbody>\n",
       "</table>\n",
       "</div>"
      ],
      "text/plain": [
       "                         flug      fldg     fnetg\n",
       "pressure  level                                  \n",
       "0.0000    1      2.249027e-01  0.000002  0.224905\n",
       "1.0685    24     2.249362e-01 -0.000097  0.224839\n",
       "1013.0000 76     3.000000e-07  0.341291  0.341291"
      ]
     },
     "metadata": {},
     "output_type": "display_data"
    },
    {
     "name": "stdout",
     "output_type": "stream",
     "text": [
      "Table. Fluxes. (CLIRAD) - (CRD)\n"
     ]
    },
    {
     "data": {
      "text/html": [
       "<a id=\"Best-fit_Parameters\"></a>"
      ],
      "text/plain": [
       "<IPython.core.display.HTML object>"
      ]
     },
     "metadata": {},
     "output_type": "display_data"
    },
    {
     "data": {
      "text/markdown": [
       "# Best-fit Parameters"
      ],
      "text/plain": [
       "<IPython.core.display.Markdown object>"
      ]
     },
     "metadata": {},
     "output_type": "display_data"
    },
    {
     "name": "stdout",
     "output_type": "stream",
     "text": [
      "Best-fit values for each (gas, band)\n",
      "------------------------------------\n",
      "o h2o band9\n",
      "  atmpro = mls\n",
      "  band = 9\n",
      "  commitnumber = a06b618\n",
      "  conc = None\n",
      "  dv = 0.001\n",
      "  klin = 1e-24\n",
      "  molecule = h2o\n",
      "  ng_adju = [0]\n",
      "  ng_refs = [5]\n",
      "  nv = 1000\n",
      "  option_compute_btable = 0\n",
      "  option_compute_ktable = 1\n",
      "  option_wgt_flux = 1\n",
      "  option_wgt_k = 1\n",
      "  ref_pts = [(500, 250)]\n",
      "  tsfc = 294\n",
      "  vmax = 3000\n",
      "  vmin = 1900\n",
      "  w_diffuse = [(1.66, 1.66, 1.66, 1.66, 1.66)]\n",
      "  wgt = [(0.4, 0.4, 0.5, 0.55, 0.85)]\n"
     ]
    }
   ],
   "source": [
    "script()"
   ]
  },
  {
   "cell_type": "code",
   "execution_count": 13,
   "metadata": {
    "collapsed": true
   },
   "outputs": [
    {
     "data": {
      "text/html": [
       "<script>\n",
       "code_show=true; \n",
       "function code_toggle() {\n",
       " if (code_show){\n",
       " $('div.input').hide();\n",
       " } else {\n",
       " $('div.input').show();\n",
       " }\n",
       " code_show = !code_show\n",
       "} \n",
       "$( document ).ready(code_toggle);\n",
       "</script>\n",
       "<form action=\"javascript:code_toggle()\"><input type=\"submit\" value=\"Click here to toggle on/off the raw code.\"></form>"
      ],
      "text/plain": [
       "<IPython.core.display.HTML object>"
      ]
     },
     "execution_count": 13,
     "metadata": {},
     "output_type": "execute_result"
    }
   ],
   "source": [
    "display.HTML('''<script>\n",
    "code_show=true; \n",
    "function code_toggle() {\n",
    " if (code_show){\n",
    " $('div.input').hide();\n",
    " } else {\n",
    " $('div.input').show();\n",
    " }\n",
    " code_show = !code_show\n",
    "} \n",
    "$( document ).ready(code_toggle);\n",
    "</script>\n",
    "<form action=\"javascript:code_toggle()\"><input type=\"submit\" value=\"Click here to toggle on/off the raw code.\"></form>''')"
   ]
  }
 ],
 "metadata": {
  "kernelspec": {
   "display_name": "Python 3",
   "language": "python",
   "name": "python3"
  },
  "language_info": {
   "codemirror_mode": {
    "name": "ipython",
    "version": 3
   },
   "file_extension": ".py",
   "mimetype": "text/x-python",
   "name": "python",
   "nbconvert_exporter": "python",
   "pygments_lexer": "ipython3",
   "version": "3.6.1"
  }
 },
 "nbformat": 4,
 "nbformat_minor": 2
}
