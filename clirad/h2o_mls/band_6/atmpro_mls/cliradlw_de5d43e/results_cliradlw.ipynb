{
 "cells": [
  {
   "cell_type": "code",
   "execution_count": 1,
   "metadata": {
    "collapsed": true
   },
   "outputs": [
    {
     "name": "stdout",
     "output_type": "stream",
     "text": [
      "The history saving thread hit an unexpected error (OperationalError('database is locked',)).History will not be written to the database.\n"
     ]
    }
   ],
   "source": [
    "%matplotlib inline\n",
    "import os\n",
    "import re\n",
    "import io\n",
    "import itertools\n",
    "import pprint\n",
    "\n",
    "from bokeh.io import output_notebook, show\n",
    "from bokeh.layouts import gridplot\n",
    "from bokeh.plotting import figure\n",
    "from bokeh.models import Range1d, Legend\n",
    "from bokeh.palettes import all_palettes\n",
    "\n",
    "import matplotlib\n",
    "import matplotlib.pyplot as plt\n",
    "import numpy as np\n",
    "import pandas as pd\n",
    "import xarray as xr\n",
    "\n",
    "import climatools.lblnew.bestfit_params as bestfits\n",
    "from climatools.lblnew import setup_bestfit, setup_overlap\n",
    "import climatools.lblnew.pipeline as pipe_lblnew\n",
    "import climatools.cliradlw.setup as setup_cliradlw\n",
    "import climatools.cliradlw.pipeline as pipe_cliradlw\n",
    "\n",
    "import climatools.html.html as climahtml\n",
    "from climatools.lblnew.dataio import *\n",
    "from climatools.plot.plot import *\n",
    "\n",
    "\n",
    "import IPython.display as display"
   ]
  },
  {
   "cell_type": "code",
   "execution_count": 2,
   "metadata": {
    "collapsed": true
   },
   "outputs": [],
   "source": [
    "%run param.py"
   ]
  },
  {
   "cell_type": "code",
   "execution_count": 3,
   "metadata": {
    "collapsed": true
   },
   "outputs": [],
   "source": [
    "def load_output_file(path_csv):\n",
    "    '''\n",
    "    Load lblnew output .csv file to xarray.Dataset\n",
    "    \n",
    "    Parameters\n",
    "    ----------\n",
    "    path_csv: str\n",
    "              Path to the .csv file to be loaded.\n",
    "    ds: xarray.Dataset\n",
    "        Data in the input file in the form of an xarray.Dataset.\n",
    "    '''\n",
    "    toindex = ['band', 'pressure', 'igg', 'g']    \n",
    "    df = pd.read_csv(path_csv, sep=r'\\s+')\n",
    "    df = df.set_index([i for i in toindex if i in df.columns])\n",
    "    df = df.rename(columns={'sfu': 'flug',\n",
    "                            'sfd': 'fldg',\n",
    "                            'fnet': 'fnetg',\n",
    "                            'coolr': 'coolrg'})\n",
    "    ds = xr.Dataset.from_dataframe(df)\n",
    "\n",
    "    for l in ('level', 'layer'):\n",
    "        if l in ds.data_vars:\n",
    "            if len(ds[l].dims) > 1:\n",
    "                surface = {d: 0 for d in ds.dims if d != 'pressure'}\n",
    "                coord_level = ds[l][surface]\n",
    "                ds.coords[l] = ('pressure', coord_level)\n",
    "            else:\n",
    "                ds.coords[l] = ('pressure', ds[l])\n",
    "    \n",
    "    return ds"
   ]
  },
  {
   "cell_type": "code",
   "execution_count": 4,
   "metadata": {
    "collapsed": true
   },
   "outputs": [],
   "source": [
    "def lblnew_setup(param=None):\n",
    "    if 'ng_refs' in param:\n",
    "        return {'setup': setup_bestfit,\n",
    "                'fname_flux_crd': 'output_flux.dat',\n",
    "                'fname_cool_crd': 'output_coolr.dat',\n",
    "                'fname_flux_wgt': 'output_wfluxg.dat',\n",
    "                'fname_cool_wgt': 'output_wcoolrg.dat'}\n",
    "    else:\n",
    "        return {'setup': setup_overlap,\n",
    "                'fname_flux_crd': 'output_flux.dat',\n",
    "                'fname_cool_crd': 'output_coolr.dat',\n",
    "                'fname_flux_wgt': 'output_wflux.dat',\n",
    "                'fname_cool_wgt': 'output_wcoolr.dat'}\n",
    "\n",
    "    \n",
    "def load_lblnew_data(param):\n",
    "    \n",
    "    fname_dsname = [('fname_flux_crd', 'ds_flux_crd'),\n",
    "                    ('fname_cool_crd', 'ds_cool_crd'),\n",
    "                    ('fname_flux_wgt', 'ds_flux_wgt'),\n",
    "                    ('fname_cool_wgt', 'ds_cool_wgt')]\n",
    "    \n",
    "    d = lblnew_setup(param)\n",
    "    dir_fortran = pipe_lblnew.get_dir_case(param, setup=d['setup'])\n",
    "    \n",
    "    data_dict = {}\n",
    "    for fname, dsname in fname_dsname:\n",
    "        fpath = os.path.join(dir_fortran, d[fname])\n",
    "        data_dict[dsname] = load_output_file(fpath)\n",
    "    return data_dict\n",
    "    \n",
    "\n",
    "    \n",
    "    "
   ]
  },
  {
   "cell_type": "code",
   "execution_count": 5,
   "metadata": {
    "collapsed": true
   },
   "outputs": [],
   "source": [
    "d = load_lblnew_data(PARAM_LBLNEW)\n",
    "\n",
    "DS_FLUX_CRD = d['ds_flux_crd']\n",
    "DS_COOL_CRD = d['ds_cool_crd']\n",
    "DS_FLUX_WGT = d['ds_flux_wgt']\n",
    "DS_COOL_WGT = d['ds_cool_wgt']"
   ]
  },
  {
   "cell_type": "code",
   "execution_count": 6,
   "metadata": {
    "collapsed": true
   },
   "outputs": [],
   "source": [
    "DIR_FORTRAN = pipe_cliradlw.get_fortran_dir(PARAM, \n",
    "                                            setup=setup_cliradlw)\n",
    "\n",
    "PATH_FLUX = os.path.join(DIR_FORTRAN, 'output_flux.dat')\n",
    "PATH_COOL = os.path.join(DIR_FORTRAN, 'output_coolr.dat')\n",
    "\n",
    "DS_FLUX = load_output_file(PATH_FLUX)\n",
    "DS_COOL = load_output_file(PATH_COOL)"
   ]
  },
  {
   "cell_type": "code",
   "execution_count": 7,
   "metadata": {
    "collapsed": true
   },
   "outputs": [
    {
     "data": {
      "text/html": [
       "\n",
       "    <div class=\"bk-root\">\n",
       "        <a href=\"https://bokeh.pydata.org\" target=\"_blank\" class=\"bk-logo bk-logo-small bk-logo-notebook\"></a>\n",
       "        <span id=\"9aeadc83-f81d-43fe-a7f5-33a25a62b180\">Loading BokehJS ...</span>\n",
       "    </div>"
      ]
     },
     "metadata": {},
     "output_type": "display_data"
    },
    {
     "data": {
      "application/javascript": [
       "\n",
       "(function(root) {\n",
       "  function now() {\n",
       "    return new Date();\n",
       "  }\n",
       "\n",
       "  var force = true;\n",
       "\n",
       "  if (typeof (root._bokeh_onload_callbacks) === \"undefined\" || force === true) {\n",
       "    root._bokeh_onload_callbacks = [];\n",
       "    root._bokeh_is_loading = undefined;\n",
       "  }\n",
       "\n",
       "  var JS_MIME_TYPE = 'application/javascript';\n",
       "  var HTML_MIME_TYPE = 'text/html';\n",
       "  var EXEC_MIME_TYPE = 'application/vnd.bokehjs_exec.v0+json';\n",
       "  var CLASS_NAME = 'output_bokeh rendered_html';\n",
       "\n",
       "  /**\n",
       "   * Render data to the DOM node\n",
       "   */\n",
       "  function render(props, node) {\n",
       "    var script = document.createElement(\"script\");\n",
       "    node.appendChild(script);\n",
       "  }\n",
       "\n",
       "  /**\n",
       "   * Handle when an output is cleared or removed\n",
       "   */\n",
       "  function handleClearOutput(event, handle) {\n",
       "    var cell = handle.cell;\n",
       "\n",
       "    var id = cell.output_area._bokeh_element_id;\n",
       "    var server_id = cell.output_area._bokeh_server_id;\n",
       "    // Clean up Bokeh references\n",
       "    if (id !== undefined) {\n",
       "      Bokeh.index[id].model.document.clear();\n",
       "      delete Bokeh.index[id];\n",
       "    }\n",
       "\n",
       "    if (server_id !== undefined) {\n",
       "      // Clean up Bokeh references\n",
       "      var cmd = \"from bokeh.io.state import curstate; print(curstate().uuid_to_server['\" + server_id + \"'].get_sessions()[0].document.roots[0]._id)\";\n",
       "      cell.notebook.kernel.execute(cmd, {\n",
       "        iopub: {\n",
       "          output: function(msg) {\n",
       "            var element_id = msg.content.text.trim();\n",
       "            Bokeh.index[element_id].model.document.clear();\n",
       "            delete Bokeh.index[element_id];\n",
       "          }\n",
       "        }\n",
       "      });\n",
       "      // Destroy server and session\n",
       "      var cmd = \"import bokeh.io.notebook as ion; ion.destroy_server('\" + server_id + \"')\";\n",
       "      cell.notebook.kernel.execute(cmd);\n",
       "    }\n",
       "  }\n",
       "\n",
       "  /**\n",
       "   * Handle when a new output is added\n",
       "   */\n",
       "  function handleAddOutput(event, handle) {\n",
       "    var output_area = handle.output_area;\n",
       "    var output = handle.output;\n",
       "\n",
       "    // limit handleAddOutput to display_data with EXEC_MIME_TYPE content only\n",
       "    if ((output.output_type != \"display_data\") || (!output.data.hasOwnProperty(EXEC_MIME_TYPE))) {\n",
       "      return\n",
       "    }\n",
       "\n",
       "    var toinsert = output_area.element.find(\".\" + CLASS_NAME.split(' ')[0]);\n",
       "\n",
       "    if (output.metadata[EXEC_MIME_TYPE][\"id\"] !== undefined) {\n",
       "      toinsert[toinsert.length - 1].firstChild.textContent = output.data[JS_MIME_TYPE];\n",
       "      // store reference to embed id on output_area\n",
       "      output_area._bokeh_element_id = output.metadata[EXEC_MIME_TYPE][\"id\"];\n",
       "    }\n",
       "    if (output.metadata[EXEC_MIME_TYPE][\"server_id\"] !== undefined) {\n",
       "      var bk_div = document.createElement(\"div\");\n",
       "      bk_div.innerHTML = output.data[HTML_MIME_TYPE];\n",
       "      var script_attrs = bk_div.children[0].attributes;\n",
       "      for (var i = 0; i < script_attrs.length; i++) {\n",
       "        toinsert[toinsert.length - 1].firstChild.setAttribute(script_attrs[i].name, script_attrs[i].value);\n",
       "      }\n",
       "      // store reference to server id on output_area\n",
       "      output_area._bokeh_server_id = output.metadata[EXEC_MIME_TYPE][\"server_id\"];\n",
       "    }\n",
       "  }\n",
       "\n",
       "  function register_renderer(events, OutputArea) {\n",
       "\n",
       "    function append_mime(data, metadata, element) {\n",
       "      // create a DOM node to render to\n",
       "      var toinsert = this.create_output_subarea(\n",
       "        metadata,\n",
       "        CLASS_NAME,\n",
       "        EXEC_MIME_TYPE\n",
       "      );\n",
       "      this.keyboard_manager.register_events(toinsert);\n",
       "      // Render to node\n",
       "      var props = {data: data, metadata: metadata[EXEC_MIME_TYPE]};\n",
       "      render(props, toinsert[toinsert.length - 1]);\n",
       "      element.append(toinsert);\n",
       "      return toinsert\n",
       "    }\n",
       "\n",
       "    /* Handle when an output is cleared or removed */\n",
       "    events.on('clear_output.CodeCell', handleClearOutput);\n",
       "    events.on('delete.Cell', handleClearOutput);\n",
       "\n",
       "    /* Handle when a new output is added */\n",
       "    events.on('output_added.OutputArea', handleAddOutput);\n",
       "\n",
       "    /**\n",
       "     * Register the mime type and append_mime function with output_area\n",
       "     */\n",
       "    OutputArea.prototype.register_mime_type(EXEC_MIME_TYPE, append_mime, {\n",
       "      /* Is output safe? */\n",
       "      safe: true,\n",
       "      /* Index of renderer in `output_area.display_order` */\n",
       "      index: 0\n",
       "    });\n",
       "  }\n",
       "\n",
       "  // register the mime type if in Jupyter Notebook environment and previously unregistered\n",
       "  if (root.Jupyter !== undefined) {\n",
       "    var events = require('base/js/events');\n",
       "    var OutputArea = require('notebook/js/outputarea').OutputArea;\n",
       "\n",
       "    if (OutputArea.prototype.mime_types().indexOf(EXEC_MIME_TYPE) == -1) {\n",
       "      register_renderer(events, OutputArea);\n",
       "    }\n",
       "  }\n",
       "\n",
       "  \n",
       "  if (typeof (root._bokeh_timeout) === \"undefined\" || force === true) {\n",
       "    root._bokeh_timeout = Date.now() + 5000;\n",
       "    root._bokeh_failed_load = false;\n",
       "  }\n",
       "\n",
       "  var NB_LOAD_WARNING = {'data': {'text/html':\n",
       "     \"<div style='background-color: #fdd'>\\n\"+\n",
       "     \"<p>\\n\"+\n",
       "     \"BokehJS does not appear to have successfully loaded. If loading BokehJS from CDN, this \\n\"+\n",
       "     \"may be due to a slow or bad network connection. Possible fixes:\\n\"+\n",
       "     \"</p>\\n\"+\n",
       "     \"<ul>\\n\"+\n",
       "     \"<li>re-rerun `output_notebook()` to attempt to load from CDN again, or</li>\\n\"+\n",
       "     \"<li>use INLINE resources instead, as so:</li>\\n\"+\n",
       "     \"</ul>\\n\"+\n",
       "     \"<code>\\n\"+\n",
       "     \"from bokeh.resources import INLINE\\n\"+\n",
       "     \"output_notebook(resources=INLINE)\\n\"+\n",
       "     \"</code>\\n\"+\n",
       "     \"</div>\"}};\n",
       "\n",
       "  function display_loaded() {\n",
       "    var el = document.getElementById(\"9aeadc83-f81d-43fe-a7f5-33a25a62b180\");\n",
       "    if (el != null) {\n",
       "      el.textContent = \"BokehJS is loading...\";\n",
       "    }\n",
       "    if (root.Bokeh !== undefined) {\n",
       "      if (el != null) {\n",
       "        el.textContent = \"BokehJS \" + root.Bokeh.version + \" successfully loaded.\";\n",
       "      }\n",
       "    } else if (Date.now() < root._bokeh_timeout) {\n",
       "      setTimeout(display_loaded, 100)\n",
       "    }\n",
       "  }\n",
       "\n",
       "\n",
       "  function run_callbacks() {\n",
       "    try {\n",
       "      root._bokeh_onload_callbacks.forEach(function(callback) { callback() });\n",
       "    }\n",
       "    finally {\n",
       "      delete root._bokeh_onload_callbacks\n",
       "    }\n",
       "    console.info(\"Bokeh: all callbacks have finished\");\n",
       "  }\n",
       "\n",
       "  function load_libs(js_urls, callback) {\n",
       "    root._bokeh_onload_callbacks.push(callback);\n",
       "    if (root._bokeh_is_loading > 0) {\n",
       "      console.log(\"Bokeh: BokehJS is being loaded, scheduling callback at\", now());\n",
       "      return null;\n",
       "    }\n",
       "    if (js_urls == null || js_urls.length === 0) {\n",
       "      run_callbacks();\n",
       "      return null;\n",
       "    }\n",
       "    console.log(\"Bokeh: BokehJS not loaded, scheduling load and callback at\", now());\n",
       "    root._bokeh_is_loading = js_urls.length;\n",
       "    for (var i = 0; i < js_urls.length; i++) {\n",
       "      var url = js_urls[i];\n",
       "      var s = document.createElement('script');\n",
       "      s.src = url;\n",
       "      s.async = false;\n",
       "      s.onreadystatechange = s.onload = function() {\n",
       "        root._bokeh_is_loading--;\n",
       "        if (root._bokeh_is_loading === 0) {\n",
       "          console.log(\"Bokeh: all BokehJS libraries loaded\");\n",
       "          run_callbacks()\n",
       "        }\n",
       "      };\n",
       "      s.onerror = function() {\n",
       "        console.warn(\"failed to load library \" + url);\n",
       "      };\n",
       "      console.log(\"Bokeh: injecting script tag for BokehJS library: \", url);\n",
       "      document.getElementsByTagName(\"head\")[0].appendChild(s);\n",
       "    }\n",
       "  };var element = document.getElementById(\"9aeadc83-f81d-43fe-a7f5-33a25a62b180\");\n",
       "  if (element == null) {\n",
       "    console.log(\"Bokeh: ERROR: autoload.js configured with elementid '9aeadc83-f81d-43fe-a7f5-33a25a62b180' but no matching script tag was found. \")\n",
       "    return false;\n",
       "  }\n",
       "\n",
       "  var js_urls = [\"https://cdn.pydata.org/bokeh/release/bokeh-0.12.16.min.js\", \"https://cdn.pydata.org/bokeh/release/bokeh-widgets-0.12.16.min.js\", \"https://cdn.pydata.org/bokeh/release/bokeh-tables-0.12.16.min.js\", \"https://cdn.pydata.org/bokeh/release/bokeh-gl-0.12.16.min.js\"];\n",
       "\n",
       "  var inline_js = [\n",
       "    function(Bokeh) {\n",
       "      Bokeh.set_log_level(\"info\");\n",
       "    },\n",
       "    \n",
       "    function(Bokeh) {\n",
       "      \n",
       "    },\n",
       "    function(Bokeh) {\n",
       "      console.log(\"Bokeh: injecting CSS: https://cdn.pydata.org/bokeh/release/bokeh-0.12.16.min.css\");\n",
       "      Bokeh.embed.inject_css(\"https://cdn.pydata.org/bokeh/release/bokeh-0.12.16.min.css\");\n",
       "      console.log(\"Bokeh: injecting CSS: https://cdn.pydata.org/bokeh/release/bokeh-widgets-0.12.16.min.css\");\n",
       "      Bokeh.embed.inject_css(\"https://cdn.pydata.org/bokeh/release/bokeh-widgets-0.12.16.min.css\");\n",
       "      console.log(\"Bokeh: injecting CSS: https://cdn.pydata.org/bokeh/release/bokeh-tables-0.12.16.min.css\");\n",
       "      Bokeh.embed.inject_css(\"https://cdn.pydata.org/bokeh/release/bokeh-tables-0.12.16.min.css\");\n",
       "    }\n",
       "  ];\n",
       "\n",
       "  function run_inline_js() {\n",
       "    \n",
       "    if ((root.Bokeh !== undefined) || (force === true)) {\n",
       "      for (var i = 0; i < inline_js.length; i++) {\n",
       "        inline_js[i].call(root, root.Bokeh);\n",
       "      }if (force === true) {\n",
       "        display_loaded();\n",
       "      }} else if (Date.now() < root._bokeh_timeout) {\n",
       "      setTimeout(run_inline_js, 100);\n",
       "    } else if (!root._bokeh_failed_load) {\n",
       "      console.log(\"Bokeh: BokehJS failed to load within specified timeout.\");\n",
       "      root._bokeh_failed_load = true;\n",
       "    } else if (force !== true) {\n",
       "      var cell = $(document.getElementById(\"9aeadc83-f81d-43fe-a7f5-33a25a62b180\")).parents('.cell').data().cell;\n",
       "      cell.output_area.append_execute_result(NB_LOAD_WARNING)\n",
       "    }\n",
       "\n",
       "  }\n",
       "\n",
       "  if (root._bokeh_is_loading === 0) {\n",
       "    console.log(\"Bokeh: BokehJS loaded, going straight to plotting\");\n",
       "    run_inline_js();\n",
       "  } else {\n",
       "    load_libs(js_urls, function() {\n",
       "      console.log(\"Bokeh: BokehJS plotting callback run at\", now());\n",
       "      run_inline_js();\n",
       "    });\n",
       "  }\n",
       "}(window));"
      ],
      "application/vnd.bokehjs_load.v0+json": "\n(function(root) {\n  function now() {\n    return new Date();\n  }\n\n  var force = true;\n\n  if (typeof (root._bokeh_onload_callbacks) === \"undefined\" || force === true) {\n    root._bokeh_onload_callbacks = [];\n    root._bokeh_is_loading = undefined;\n  }\n\n  \n\n  \n  if (typeof (root._bokeh_timeout) === \"undefined\" || force === true) {\n    root._bokeh_timeout = Date.now() + 5000;\n    root._bokeh_failed_load = false;\n  }\n\n  var NB_LOAD_WARNING = {'data': {'text/html':\n     \"<div style='background-color: #fdd'>\\n\"+\n     \"<p>\\n\"+\n     \"BokehJS does not appear to have successfully loaded. If loading BokehJS from CDN, this \\n\"+\n     \"may be due to a slow or bad network connection. Possible fixes:\\n\"+\n     \"</p>\\n\"+\n     \"<ul>\\n\"+\n     \"<li>re-rerun `output_notebook()` to attempt to load from CDN again, or</li>\\n\"+\n     \"<li>use INLINE resources instead, as so:</li>\\n\"+\n     \"</ul>\\n\"+\n     \"<code>\\n\"+\n     \"from bokeh.resources import INLINE\\n\"+\n     \"output_notebook(resources=INLINE)\\n\"+\n     \"</code>\\n\"+\n     \"</div>\"}};\n\n  function display_loaded() {\n    var el = document.getElementById(\"9aeadc83-f81d-43fe-a7f5-33a25a62b180\");\n    if (el != null) {\n      el.textContent = \"BokehJS is loading...\";\n    }\n    if (root.Bokeh !== undefined) {\n      if (el != null) {\n        el.textContent = \"BokehJS \" + root.Bokeh.version + \" successfully loaded.\";\n      }\n    } else if (Date.now() < root._bokeh_timeout) {\n      setTimeout(display_loaded, 100)\n    }\n  }\n\n\n  function run_callbacks() {\n    try {\n      root._bokeh_onload_callbacks.forEach(function(callback) { callback() });\n    }\n    finally {\n      delete root._bokeh_onload_callbacks\n    }\n    console.info(\"Bokeh: all callbacks have finished\");\n  }\n\n  function load_libs(js_urls, callback) {\n    root._bokeh_onload_callbacks.push(callback);\n    if (root._bokeh_is_loading > 0) {\n      console.log(\"Bokeh: BokehJS is being loaded, scheduling callback at\", now());\n      return null;\n    }\n    if (js_urls == null || js_urls.length === 0) {\n      run_callbacks();\n      return null;\n    }\n    console.log(\"Bokeh: BokehJS not loaded, scheduling load and callback at\", now());\n    root._bokeh_is_loading = js_urls.length;\n    for (var i = 0; i < js_urls.length; i++) {\n      var url = js_urls[i];\n      var s = document.createElement('script');\n      s.src = url;\n      s.async = false;\n      s.onreadystatechange = s.onload = function() {\n        root._bokeh_is_loading--;\n        if (root._bokeh_is_loading === 0) {\n          console.log(\"Bokeh: all BokehJS libraries loaded\");\n          run_callbacks()\n        }\n      };\n      s.onerror = function() {\n        console.warn(\"failed to load library \" + url);\n      };\n      console.log(\"Bokeh: injecting script tag for BokehJS library: \", url);\n      document.getElementsByTagName(\"head\")[0].appendChild(s);\n    }\n  };var element = document.getElementById(\"9aeadc83-f81d-43fe-a7f5-33a25a62b180\");\n  if (element == null) {\n    console.log(\"Bokeh: ERROR: autoload.js configured with elementid '9aeadc83-f81d-43fe-a7f5-33a25a62b180' but no matching script tag was found. \")\n    return false;\n  }\n\n  var js_urls = [\"https://cdn.pydata.org/bokeh/release/bokeh-0.12.16.min.js\", \"https://cdn.pydata.org/bokeh/release/bokeh-widgets-0.12.16.min.js\", \"https://cdn.pydata.org/bokeh/release/bokeh-tables-0.12.16.min.js\", \"https://cdn.pydata.org/bokeh/release/bokeh-gl-0.12.16.min.js\"];\n\n  var inline_js = [\n    function(Bokeh) {\n      Bokeh.set_log_level(\"info\");\n    },\n    \n    function(Bokeh) {\n      \n    },\n    function(Bokeh) {\n      console.log(\"Bokeh: injecting CSS: https://cdn.pydata.org/bokeh/release/bokeh-0.12.16.min.css\");\n      Bokeh.embed.inject_css(\"https://cdn.pydata.org/bokeh/release/bokeh-0.12.16.min.css\");\n      console.log(\"Bokeh: injecting CSS: https://cdn.pydata.org/bokeh/release/bokeh-widgets-0.12.16.min.css\");\n      Bokeh.embed.inject_css(\"https://cdn.pydata.org/bokeh/release/bokeh-widgets-0.12.16.min.css\");\n      console.log(\"Bokeh: injecting CSS: https://cdn.pydata.org/bokeh/release/bokeh-tables-0.12.16.min.css\");\n      Bokeh.embed.inject_css(\"https://cdn.pydata.org/bokeh/release/bokeh-tables-0.12.16.min.css\");\n    }\n  ];\n\n  function run_inline_js() {\n    \n    if ((root.Bokeh !== undefined) || (force === true)) {\n      for (var i = 0; i < inline_js.length; i++) {\n        inline_js[i].call(root, root.Bokeh);\n      }if (force === true) {\n        display_loaded();\n      }} else if (Date.now() < root._bokeh_timeout) {\n      setTimeout(run_inline_js, 100);\n    } else if (!root._bokeh_failed_load) {\n      console.log(\"Bokeh: BokehJS failed to load within specified timeout.\");\n      root._bokeh_failed_load = true;\n    } else if (force !== true) {\n      var cell = $(document.getElementById(\"9aeadc83-f81d-43fe-a7f5-33a25a62b180\")).parents('.cell').data().cell;\n      cell.output_area.append_execute_result(NB_LOAD_WARNING)\n    }\n\n  }\n\n  if (root._bokeh_is_loading === 0) {\n    console.log(\"Bokeh: BokehJS loaded, going straight to plotting\");\n    run_inline_js();\n  } else {\n    load_libs(js_urls, function() {\n      console.log(\"Bokeh: BokehJS plotting callback run at\", now());\n      run_inline_js();\n    });\n  }\n}(window));"
     },
     "metadata": {},
     "output_type": "display_data"
    }
   ],
   "source": [
    "output_notebook()"
   ]
  },
  {
   "cell_type": "code",
   "execution_count": 8,
   "metadata": {
    "collapsed": true
   },
   "outputs": [],
   "source": [
    "def fmt_cool(ds_in):\n",
    "    ds = ds_in.copy(deep=True)\n",
    "    if 'igg' in ds.dims:\n",
    "        ds = ds.sel(igg=1)\n",
    "\n",
    "    if 'g' in ds.dims:\n",
    "        ds = ds.sum('g')\n",
    "            \n",
    "    if 'band' in ds.dims:\n",
    "        try:\n",
    "            ds = ds.squeeze('band')\n",
    "        except ValueError:\n",
    "            ds = ds.sum('band')\n",
    "                \n",
    "    return ds['coolrg']\n",
    "\n",
    "\n",
    "def pltdata_cooling_1(ds_cool=None,\n",
    "                      ds_cool_crd=None, ds_cool_wgt=None):\n",
    "    \n",
    "\n",
    "\n",
    "    colors = all_palettes['Set1'][4]\n",
    "    data = [{'label': 'CLIRAD `coolr_bands`',\n",
    "             'srs': fmt_cool(ds_cool),\n",
    "             'line_dash': 'dashed', 'line_width': 5,\n",
    "             'color': colors[0], 'alpha': .6},\n",
    "            {'label': 'CRD',\n",
    "             'srs': fmt_cool(ds_cool_crd),\n",
    "             'line_dash': 'solid', 'line_width': 1.5,\n",
    "             'marker': 'circle', 'marker_size': 5,\n",
    "             'color': colors[2], 'alpha': 1,},\n",
    "            {'label': 'WGT igg=10 wgt_flux=2',\n",
    "             'srs': fmt_cool(ds_cool_wgt),\n",
    "             'line_dash': 'solid', 'line_width': 3,\n",
    "             'marker': 'square', 'marker_size': 5,\n",
    "             'color': colors[3], 'alpha': .6}]\n",
    "    return data\n",
    "\n",
    "\n",
    "def nice_xlims(pltdata=None, prange=None):\n",
    "    \n",
    "    def get_slice(srs):\n",
    "        return srs.sel(pressure=slice(*prange))\n",
    "    \n",
    "    srss = [d['srs'] for d in pltdata]\n",
    "    vmin = min([get_slice(srs).min() for srs in srss])\n",
    "    vmax = max([get_slice(srs).max() for srs in srss])\n",
    "    dv = (vmax - vmin) * .01\n",
    "    return float(vmin - dv), float(vmax + dv)\n",
    "    \n",
    "\n",
    "def plt_cooling_bokeh(pltdata=None):\n",
    "    '''\n",
    "    Plot a list of cooling rate profiles using bokeh.\n",
    "    '''\n",
    "    ymin = 1e-2 \n",
    "    ymax = 1020 \n",
    "        \n",
    "    p1 = figure(title=\"Linear pressure scale\", \n",
    "                plot_width=400)        \n",
    "    xmin, xmax = nice_xlims(pltdata, prange=(50, 1050))\n",
    "    for d in pltdata:\n",
    "        if 'marker' in d:\n",
    "            getattr(p1, d['marker'])(d['srs'].values, \n",
    "                    d['srs'].coords['pressure'].values,\n",
    "                    color=d['color'], alpha=.7)\n",
    "        p1.line(d['srs'].values, \n",
    "                d['srs'].coords['pressure'].values,\n",
    "                color=d['color'], alpha=d['alpha'], \n",
    "                line_width=d['line_width'], line_dash=d['line_dash'])\n",
    "    \n",
    "    p1.y_range = Range1d(ymax, ymin)\n",
    "    p1.yaxis.axis_label = 'pressure [mb]'   \n",
    "    p1.x_range = Range1d(xmin, xmax)\n",
    "    p1.xaxis.axis_label = 'cooling rate [K/day]'\n",
    "            \n",
    "    p2 = figure(title='Log pressure scale', y_axis_type='log',\n",
    "                plot_width=560)\n",
    "    xmin, xmax = nice_xlims(pltdata, prange=(.01, 200))\n",
    "    \n",
    "    rs = []\n",
    "    for d in pltdata:\n",
    "        rd = []\n",
    "        if 'marker' in d:\n",
    "            r_mark = getattr(p2, d['marker'])(d['srs'].values, \n",
    "                        d['srs'].coords['pressure'].values,\n",
    "                        color=d['color'], alpha=.7)\n",
    "            rd.append(r_mark)\n",
    "        r_line = p2.line(d['srs'].values, \n",
    "                    d['srs'].coords['pressure'].values,\n",
    "                    color=d['color'], alpha=d['alpha'], \n",
    "                    line_width=d['line_width'], line_dash=d['line_dash'])\n",
    "        rd.append(r_line)\n",
    "      \n",
    "        rs.append(rd)\n",
    "        \n",
    "    p2.y_range = Range1d(ymax, ymin)  \n",
    "    p2.yaxis.axis_label = 'pressure [mb]'\n",
    "    \n",
    "    p2.x_range = Range1d(xmin, xmax)\n",
    "    p2.xaxis.axis_label = 'cooling rate [K/day]'\n",
    "    \n",
    "    items = [(d['label'], r) for r, d in zip(rs, pltdata)]\n",
    "    legend = Legend(items=items, location=(10, -30))\n",
    "    legend.label_text_font_size = '8pt'\n",
    "    \n",
    "    p2.add_layout(legend, 'right')  \n",
    "    \n",
    "    show(gridplot(p1, p2, ncols=2, plot_height=500))\n",
    "    \n",
    "\n",
    "def script_plt_cooling():\n",
    "    pltdata = pltdata_cooling_1(\n",
    "        ds_cool=DS_COOL,\n",
    "        ds_cool_crd=DS_COOL_CRD,\n",
    "        ds_cool_wgt=DS_COOL_WGT)\n",
    "    plt_cooling_bokeh(pltdata=pltdata)\n",
    "    print('''FIGURE. Cooling rate profiles.''')"
   ]
  },
  {
   "cell_type": "code",
   "execution_count": 9,
   "metadata": {
    "collapsed": true
   },
   "outputs": [],
   "source": [
    "def fmt_flux(ds_in):\n",
    "    ds = ds_in.copy(deep=True)\n",
    "    \n",
    "    for l in ('level', 'layer'):\n",
    "        if l in ds.data_vars:\n",
    "            if len(ds[l].dims) > 1:\n",
    "                surface = {d: 0 for d in ds.dims if d != 'pressure'}\n",
    "                coord_level = ds[l][surface]\n",
    "                ds.coords[l] = ('pressure', coord_level)\n",
    "            else:\n",
    "                ds.coords[l] = ('pressure', ds[l])\n",
    "        \n",
    "    ds = ds.isel(pressure=[0, 23, -1])\n",
    "        \n",
    "    if 'igg' in ds.dims:\n",
    "        ds = ds.sel(igg=[1])\n",
    "        ds = ds.squeeze('igg').drop('igg')\n",
    "    \n",
    "    if 'g' in ds.dims:\n",
    "        ds = ds.sum('g')\n",
    "            \n",
    "    if 'band' in ds.dims:\n",
    "        try:\n",
    "            ds = ds.squeeze('band').drop('band')\n",
    "        except ValueError:\n",
    "            ds = ds.sum('band')\n",
    "                \n",
    "    df = ds.to_dataframe()\n",
    "    df = df.set_index('level', append=True)               \n",
    "    return df\n",
    "\n",
    "\n",
    "def tbdata_flux(ds_flux=None, ds_flux_crd=None, ds_flux_wgt=None):\n",
    "    ilevels = [0, 23, -1]\n",
    "            \n",
    "    benchmark = {'label': 'CRD',\n",
    "                 'df': fmt_flux(ds_flux_crd)}\n",
    "    \n",
    "    tbs = [{'label': 'WGT igg=10 wgt_flux=1',\n",
    "            'df': fmt_flux(ds_flux_wgt)},\n",
    "           {'label': 'CLIRAD',\n",
    "            'df': fmt_flux(ds_flux)}]\n",
    "    \n",
    "    data = {'benchmark': benchmark, 'others': tbs}\n",
    "    return data\n",
    "\n",
    "\n",
    "def tb_flux(tbdata=None):\n",
    "    benchmark = tbdata['benchmark']\n",
    "    others = tbdata['others']\n",
    "    \n",
    "    def show_tb(d=None):\n",
    "        display.display(d['df'])\n",
    "        print('Table.', 'Fluxes.', d['label'])\n",
    "        \n",
    "    def show_tbdiff(d0=None, d=None):\n",
    "        df = d['df']\n",
    "        df.index = d0['df'].index\n",
    "        display.display(df - d0['df'])\n",
    "        print('Table.', 'Fluxes.', \n",
    "              '({}) - ({})'.format(d['label'], d0['label']))\n",
    "        \n",
    "    show_tb(benchmark)\n",
    "    for d in others:\n",
    "        show_tb(d)\n",
    "        \n",
    "    for d in others:\n",
    "        show_tbdiff(d=d, d0=benchmark)\n",
    "        \n",
    "        \n",
    "def script_tb_flux():\n",
    "    data = tbdata_flux(ds_flux=DS_FLUX,\n",
    "                       ds_flux_crd=DS_FLUX_CRD,\n",
    "                       ds_flux_wgt=DS_FLUX_WGT)\n",
    "    tb_flux(tbdata=data)"
   ]
  },
  {
   "cell_type": "code",
   "execution_count": 10,
   "metadata": {
    "collapsed": true
   },
   "outputs": [],
   "source": [
    "def band_map():\n",
    "    '''\n",
    "    Maps spectral bands in lblnew to spectral bands in clirad.\n",
    "    '''\n",
    "    lblnew2clirad = {'1': '1',\n",
    "            '2': '2',\n",
    "            '3a': '3',\n",
    "            '3b': '4',\n",
    "            '3c': '5',\n",
    "            '4': '6', \n",
    "            '5': '7',\n",
    "            '6': '8',\n",
    "            '7': '9', \n",
    "            '8': '10',\n",
    "            '9': '11'}\n",
    "    \n",
    "    clirad2lblnew = {clirad: lblnew \n",
    "                     for lblnew, clirad in lblnew2clirad.items()}\n",
    "    return clirad2lblnew\n",
    "\n",
    "\n",
    "def gasbands():\n",
    "    bmap = band_map()\n",
    "    gases = list(PARAM['molecule'].keys())\n",
    "    \n",
    "    bands = [bmap[str(b)] for b in PARAM['band']]\n",
    "    return list(itertools.product(gases, bands))\n",
    "\n",
    "\n",
    "def print_bestfit_params():\n",
    "    print('Best-fit values for each (gas, band)')\n",
    "    print('------------------------------------')\n",
    "    for gas, band in gasbands():\n",
    "        print('o {} band{}'.format(gas, band))\n",
    "        param = bestfits.kdist_params(molecule=gas, band=band)\n",
    "        for name, value in sorted(param.items()):\n",
    "            print(2 * ' ' + '{} = {}'.format(name, value))\n",
    "\n",
    "        \n",
    "def print_input_param():        \n",
    "    for name, value in PARAM.items():\n",
    "        print('{} = {}'.format(name, value))\n",
    "        \n",
    "        \n",
    "def print_lblnew_param():\n",
    "    for name, value in sorted(PARAM_LBLNEW.items()):\n",
    "        print('{} = {}'.format(name, value))\n"
   ]
  },
  {
   "cell_type": "code",
   "execution_count": 11,
   "metadata": {
    "collapsed": true,
    "scrolled": false
   },
   "outputs": [],
   "source": [
    "def show_html(s):\n",
    "    display.display(display.HTML(s))\n",
    "\n",
    "    \n",
    "def show_markdown(s):\n",
    "    display.display(display.Markdown(s))\n",
    "\n",
    "    \n",
    "def script():\n",
    "    \n",
    "    title = '### CLIRAD-LW'\n",
    "    s_input = 'Input Parameters'\n",
    "    s_lblnew_param = 'LBLNEW case compaired against'\n",
    "    s_bestfits = 'Best-fit Parameters'\n",
    "    s_plt_cooling = 'Cooling Rate Profiles'\n",
    "    s_tb_flux = 'Flux Comparison'\n",
    "    \n",
    "    # title\n",
    "    show_markdown('### CLIRAD-LW')\n",
    "    \n",
    "    # TOC\n",
    "    show_markdown('### Table of Contents')\n",
    "    show_html(climahtml.getHTML_hrefanchor(s_input))\n",
    "    show_html(climahtml.getHTML_hrefanchor(s_lblnew_param))\n",
    "    show_html(climahtml.getHTML_hrefanchor(s_plt_cooling))\n",
    "    show_html(climahtml.getHTML_hrefanchor(s_tb_flux))\n",
    "    show_html(climahtml.getHTML_hrefanchor(s_bestfits))\n",
    "    \n",
    "    # Input parameters\n",
    "    show_html(climahtml.getHTML_idanchor(s_input))\n",
    "    show_markdown(climahtml.getMarkdown_sectitle(s_input))\n",
    "    print_input_param()\n",
    "    \n",
    "    # LBLNEW parameters \n",
    "    show_html(climahtml.getHTML_idanchor(s_lblnew_param))\n",
    "    show_markdown(climahtml.getMarkdown_sectitle(s_lblnew_param))\n",
    "    print_lblnew_param()\n",
    "    \n",
    "    # Cooling rate profiles\n",
    "    show_html(climahtml.getHTML_idanchor(s_plt_cooling))\n",
    "    show_markdown(climahtml.getMarkdown_sectitle(s_plt_cooling))\n",
    "    script_plt_cooling()\n",
    "    \n",
    "    # Flux comparison\n",
    "    show_html(climahtml.getHTML_idanchor(s_tb_flux))\n",
    "    show_markdown(climahtml.getMarkdown_sectitle(s_tb_flux))\n",
    "    script_tb_flux()\n",
    "    \n",
    "    # Best-fit values\n",
    "    show_html(climahtml.getHTML_idanchor(s_bestfits))\n",
    "    show_markdown(climahtml.getMarkdown_sectitle(s_bestfits))\n",
    "    print_bestfit_params()\n",
    "   \n",
    "    "
   ]
  },
  {
   "cell_type": "code",
   "execution_count": 12,
   "metadata": {
    "collapsed": true,
    "scrolled": false
   },
   "outputs": [
    {
     "data": {
      "text/markdown": [
       "### CLIRAD-LW"
      ],
      "text/plain": [
       "<IPython.core.display.Markdown object>"
      ]
     },
     "metadata": {},
     "output_type": "display_data"
    },
    {
     "data": {
      "text/markdown": [
       "### Table of Contents"
      ],
      "text/plain": [
       "<IPython.core.display.Markdown object>"
      ]
     },
     "metadata": {},
     "output_type": "display_data"
    },
    {
     "data": {
      "text/html": [
       "<a href=\"#Input_Parameters\">Input Parameters</a>"
      ],
      "text/plain": [
       "<IPython.core.display.HTML object>"
      ]
     },
     "metadata": {},
     "output_type": "display_data"
    },
    {
     "data": {
      "text/html": [
       "<a href=\"#LBLNEW_case_compaired_against\">LBLNEW case compaired against</a>"
      ],
      "text/plain": [
       "<IPython.core.display.HTML object>"
      ]
     },
     "metadata": {},
     "output_type": "display_data"
    },
    {
     "data": {
      "text/html": [
       "<a href=\"#Cooling_Rate_Profiles\">Cooling Rate Profiles</a>"
      ],
      "text/plain": [
       "<IPython.core.display.HTML object>"
      ]
     },
     "metadata": {},
     "output_type": "display_data"
    },
    {
     "data": {
      "text/html": [
       "<a href=\"#Flux_Comparison\">Flux Comparison</a>"
      ],
      "text/plain": [
       "<IPython.core.display.HTML object>"
      ]
     },
     "metadata": {},
     "output_type": "display_data"
    },
    {
     "data": {
      "text/html": [
       "<a href=\"#Best-fit_Parameters\">Best-fit Parameters</a>"
      ],
      "text/plain": [
       "<IPython.core.display.HTML object>"
      ]
     },
     "metadata": {},
     "output_type": "display_data"
    },
    {
     "data": {
      "text/html": [
       "<a id=\"Input_Parameters\"></a>"
      ],
      "text/plain": [
       "<IPython.core.display.HTML object>"
      ]
     },
     "metadata": {},
     "output_type": "display_data"
    },
    {
     "data": {
      "text/markdown": [
       "# Input Parameters"
      ],
      "text/plain": [
       "<IPython.core.display.Markdown object>"
      ]
     },
     "metadata": {},
     "output_type": "display_data"
    },
    {
     "name": "stdout",
     "output_type": "stream",
     "text": [
      "atmpro = mls\n",
      "band = [6]\n",
      "commitnumber = de5d43e\n",
      "molecule = {'h2o': 'atmpro'}\n",
      "tsfc = 294\n"
     ]
    },
    {
     "data": {
      "text/html": [
       "<a id=\"LBLNEW_case_compaired_against\"></a>"
      ],
      "text/plain": [
       "<IPython.core.display.HTML object>"
      ]
     },
     "metadata": {},
     "output_type": "display_data"
    },
    {
     "data": {
      "text/markdown": [
       "# LBLNEW case compaired against"
      ],
      "text/plain": [
       "<IPython.core.display.Markdown object>"
      ]
     },
     "metadata": {},
     "output_type": "display_data"
    },
    {
     "name": "stdout",
     "output_type": "stream",
     "text": [
      "atmpro = mls\n",
      "band = 4\n",
      "commitnumber = 5014a19\n",
      "conc = None\n",
      "dv = 0.001\n",
      "klin = 1e-24\n",
      "molecule = h2o\n",
      "ng_adju = [0]\n",
      "ng_refs = [3]\n",
      "nv = 1000\n",
      "option_compute_btable = 0\n",
      "option_compute_ktable = 0\n",
      "option_wgt_flux = 1\n",
      "option_wgt_k = 1\n",
      "ref_pts = [(600, 250)]\n",
      "tsfc = 294\n",
      "vmax = 980\n",
      "vmin = 800\n",
      "w_diffuse = [(1.66, 1.66, 1.85)]\n",
      "wgt = [(0.5, 0.55, 0.85)]\n"
     ]
    },
    {
     "data": {
      "text/html": [
       "<a id=\"Cooling_Rate_Profiles\"></a>"
      ],
      "text/plain": [
       "<IPython.core.display.HTML object>"
      ]
     },
     "metadata": {},
     "output_type": "display_data"
    },
    {
     "data": {
      "text/markdown": [
       "# Cooling Rate Profiles"
      ],
      "text/plain": [
       "<IPython.core.display.Markdown object>"
      ]
     },
     "metadata": {},
     "output_type": "display_data"
    },
    {
     "data": {
      "text/html": [
       "\n",
       "<div class=\"bk-root\">\n",
       "    <div class=\"bk-plotdiv\" id=\"701f5c96-be52-4d0c-bad1-70e8da52069a\"></div>\n",
       "</div>"
      ]
     },
     "metadata": {},
     "output_type": "display_data"
    },
    {
     "data": {
      "application/javascript": [
       "(function(root) {\n",
       "  function embed_document(root) {\n",
       "    \n",
       "  var docs_json = {\"5a29d8ed-ab5a-4afa-a0f1-4dda232cab6d\":{\"roots\":{\"references\":[{\"attributes\":{\"axis_label\":\"pressure [mb]\",\"formatter\":{\"id\":\"bf646077-a42d-422e-9219-52660632db36\",\"type\":\"BasicTickFormatter\"},\"plot\":{\"id\":\"a4a09392-28e1-4c5b-981c-1f7481e2c7ae\",\"subtype\":\"Figure\",\"type\":\"Plot\"},\"ticker\":{\"id\":\"3c722f9e-1049-4938-b460-f1beb0317a6a\",\"type\":\"BasicTicker\"}},\"id\":\"08db212b-f297-4dae-b682-2b72b21e3f45\",\"type\":\"LinearAxis\"},{\"attributes\":{},\"id\":\"85f51dd0-ca72-4cf0-8c8c-f99bab27383e\",\"type\":\"BasicTicker\"},{\"attributes\":{},\"id\":\"36926e12-75f0-4bb5-be93-47f643d4d1f6\",\"type\":\"ResetTool\"},{\"attributes\":{\"active_drag\":\"auto\",\"active_inspect\":\"auto\",\"active_scroll\":\"auto\",\"active_tap\":\"auto\",\"tools\":[{\"id\":\"04660af5-de41-48c6-b6de-ac7fb3f5fc49\",\"type\":\"PanTool\"},{\"id\":\"82d356e5-8eff-4d5a-9221-a3ad97937618\",\"type\":\"WheelZoomTool\"},{\"id\":\"53d59a78-6ef1-41eb-a948-b002ab6ad9d2\",\"type\":\"BoxZoomTool\"},{\"id\":\"c1993b05-3e39-4770-ada0-065a4477a40b\",\"type\":\"SaveTool\"},{\"id\":\"0fbcb526-c108-49f6-94cf-3b5ee5439a1a\",\"type\":\"ResetTool\"},{\"id\":\"e6065984-fd30-4783-8577-a28fae744f75\",\"type\":\"HelpTool\"}]},\"id\":\"a68a14fd-0e1c-42c9-a682-daa6a0713e6a\",\"type\":\"Toolbar\"},{\"attributes\":{},\"id\":\"d60ca959-b482-4dea-8ad2-0f27a76cc878\",\"type\":\"HelpTool\"},{\"attributes\":{\"data_source\":{\"id\":\"ae4b32e9-23ca-49b3-ac77-c75bb97a2964\",\"type\":\"ColumnDataSource\"},\"glyph\":{\"id\":\"3a036349-a4db-4d09-bdb1-574f79d51514\",\"type\":\"Square\"},\"hover_glyph\":null,\"muted_glyph\":null,\"nonselection_glyph\":{\"id\":\"f7a87b9b-d659-4b01-ac4d-b5e273f9957d\",\"type\":\"Square\"},\"selection_glyph\":null,\"view\":{\"id\":\"968ca3c8-207b-4f0b-ad4f-32583e0c7e5e\",\"type\":\"CDSView\"}},\"id\":\"296291bd-e052-4433-ad7a-e6f6b08f89cb\",\"type\":\"GlyphRenderer\"},{\"attributes\":{\"data_source\":{\"id\":\"8e47b760-d6af-47e7-8630-b0e27daafb12\",\"type\":\"ColumnDataSource\"},\"glyph\":{\"id\":\"4714b97c-354b-43eb-ab6a-b0fbae1a797b\",\"type\":\"Line\"},\"hover_glyph\":null,\"muted_glyph\":null,\"nonselection_glyph\":{\"id\":\"62bbe350-aea8-4617-9e77-75c6808897df\",\"type\":\"Line\"},\"selection_glyph\":null,\"view\":{\"id\":\"31e20a98-ebd5-4511-a992-4c4a0befc959\",\"type\":\"CDSView\"}},\"id\":\"c3215991-9f61-4dbb-8993-9a3ab29d62d7\",\"type\":\"GlyphRenderer\"},{\"attributes\":{},\"id\":\"bf646077-a42d-422e-9219-52660632db36\",\"type\":\"BasicTickFormatter\"},{\"attributes\":{\"line_color\":\"#4daf4a\",\"line_width\":1.5,\"x\":{\"field\":\"x\"},\"y\":{\"field\":\"y\"}},\"id\":\"7017af19-0fd4-418b-84fd-fe032a4e58c6\",\"type\":\"Line\"},{\"attributes\":{\"callback\":null,\"data\":{\"x\":{\"__ndarray__\":\"B1APiohu4b6C7wxMJ3DhvqDFC9ryb+G+eL9wjIBu4b6BLJJgXmrhvoac5bIWZOG+79G1llJb4b5BuMXxF1DhvqzG7bMcQuG+7meJf2wx4b7ef2aN4x3hvuNZBsB6B+G+yntMrg/u4L779s3yj8/gvjsI4WKsXOC+/sK6AM633L5EYKJ8FrbRvq6zOkEEMKk+oM1Xj15l4z7nDCJSvSD4PgtyIbRLUwc/ud7KVOInFD+spgFmTaIdP3q5yFMRjx4/szeh4hTlFj8wsctV8XMOPyMEaFqR0wI/y1IKEr5A9T77MtS6i5nkPiIoYIUgp8c+bfwR08Sgwb7+73V8fhbXvkO04bTf0d++W+kVwiWs4r47/nnmLfrkvpQS6me5Bee+l133fVyF6L5Y/M90YJrpvrma0lp2luq+PHDhENVv7L6ey5H996P1vuXQdvPldwq/Okt7GC/6GL/uN4n+qbQhv8BfW+HEmh+/MoWlq+mjBD+MaEodDMg3P3ITdNi7t00/1xwEzjp8XD9XA5JPjOVnP1mUUeaYjHI/9Jz0BxGMej+2SLOhdhKCPwjywBqa2oc/RzHMS/a2jj9DuND0VVuTP9/gwU6u+5c/wInCWVOanj+ABGrWviWjP0CIx/JsXqc/7TxA4wHmqz/7Cpri5l6wPwx6LfAu+rI/umjz+PC+tT9ker1ZVb+4P1wRJe9W9bs/jNXD8EFqvz+H9LBXJX/BPzjDCD9DSMM/0c9vdxEIxT+E3PBz78XGP9LtfLKvi8g/5VPBleVsyj8fRbx9JnfMP7p3U2EazM4/\",\"dtype\":\"float64\",\"shape\":[75]},\"y\":{\"__ndarray__\":\"GhExyth1ND/Sv8nbtpRIP2vylNV0PVE/aTum7souWD/At0SJ8fVgPw3Iuahxymc/MSNhhJWvcD/bTfBN02d3P2zb5nxnaoA/CD5h5MAGhz8NmeH1TyaQP+zrCsc9p5Y/LbKd76fGnz/bLW5ISEmmPww9YvTcQq8/JV2OstnstT8Er5Y7M8G+P0c+r3jqkcU/5h99k6ZBzj88bCIzFzjVP4enV8oyxN0//yH99nXg5D8qOpLLf0jtP5kqGJXUifQ/c9cS8kHP/D+/DpwzojQEQIEmwoanVwxA4lgXt9HgE0BSSZ2AJuIbQAMJih9jjiNA5q4l5INuK0AwTKYKRj0zQNv5fmq8/DpAaCJseHrtQkB/+zpwzoxKQM3MzMzMeFJAZmZmZmZqWEAAAAAAAFxeQM3MzMzMJmJAmpmZmZkfZUBmZmZmZhhoQDMzMzMzEWtAAAAAAAAKbkBmZmZmZoFwQM3MzMzM/XFAMzMzMzN6c0CamZmZmfZ0QAAAAAAAc3ZAZmZmZmbvd0DNzMzMzGt5QDMzMzMz6HpAmpmZmZlkfEAAAAAAAOF9QGZmZmZmXX9AZmZmZuZsgECamZmZGSuBQM3MzMxM6YFAAAAAAICngkAzMzMzs2WDQGZmZmbmI4RAmpmZmRnihEDNzMzMTKCFQAAAAACAXoZAMzMzM7Mch0BmZmZm5tqHQJqZmZkZmYhAzczMzExXiUAAAAAAgBWKQDMzMzOz04pAZmZmZuaRi0CamZmZGVCMQM3MzMxMDo1AAAAAAIDMjUAzMzMzs4qOQGZmZmbmSI9A\",\"dtype\":\"float64\",\"shape\":[75]}},\"selected\":{\"id\":\"c2ce895d-9835-4e56-8275-ca14103c3def\",\"type\":\"Selection\"},\"selection_policy\":{\"id\":\"c9995c80-2298-4aff-aa77-7c79495e2f86\",\"type\":\"UnionRenderers\"}},\"id\":\"8e47b760-d6af-47e7-8630-b0e27daafb12\",\"type\":\"ColumnDataSource\"},{\"attributes\":{\"source\":{\"id\":\"815458bc-ca66-45c6-8f64-781585e7ea66\",\"type\":\"ColumnDataSource\"}},\"id\":\"9a13128e-017d-4267-b009-d1b6d270d6b1\",\"type\":\"CDSView\"},{\"attributes\":{},\"id\":\"35e54ecb-a4ba-45cd-977e-519dc0c663bd\",\"type\":\"SaveTool\"},{\"attributes\":{\"overlay\":{\"id\":\"854a5bfc-3d71-4496-ab6e-a9f711d9e2c9\",\"type\":\"BoxAnnotation\"}},\"id\":\"be735899-fc32-430d-96f3-f0c3b54ab0a0\",\"type\":\"BoxZoomTool\"},{\"attributes\":{},\"id\":\"187b2082-ad5d-44bd-841c-9a51f48b1c8a\",\"type\":\"WheelZoomTool\"},{\"attributes\":{\"dimension\":1,\"plot\":{\"id\":\"e7d5893a-8ab3-4168-8431-e09557479835\",\"subtype\":\"Figure\",\"type\":\"Plot\"},\"ticker\":{\"id\":\"4b21771d-3893-47fe-bc7e-d6158f8543f5\",\"type\":\"LogTicker\"}},\"id\":\"f57870da-31f5-4417-a8a3-801a54c49732\",\"type\":\"Grid\"},{\"attributes\":{},\"id\":\"dc17b984-d4f6-4b77-accc-7c88e8534ebd\",\"type\":\"PanTool\"},{\"attributes\":{\"callback\":null,\"end\":0.01,\"start\":1020},\"id\":\"c80a56cd-5654-44e0-8a1d-bef83fe2cc3f\",\"type\":\"Range1d\"},{\"attributes\":{\"callback\":null,\"end\":0.01,\"start\":1020},\"id\":\"77c85a3f-e7fa-4fc1-bdde-b6bbf4c1fc43\",\"type\":\"Range1d\"},{\"attributes\":{\"line_alpha\":0.1,\"line_color\":\"#1f77b4\",\"line_width\":3,\"x\":{\"field\":\"x\"},\"y\":{\"field\":\"y\"}},\"id\":\"f88ed2a3-4236-4be0-9f1d-1bd6c7424e40\",\"type\":\"Line\"},{\"attributes\":{\"callback\":null,\"end\":0.00025103560761700005,\"start\":-2.3327829316999997e-05},\"id\":\"db45d617-64ca-4e7c-9087-cce176a51626\",\"type\":\"Range1d\"},{\"attributes\":{\"axis_label\":\"pressure [mb]\",\"formatter\":{\"id\":\"f0fead45-7201-43aa-a794-fb75690a66a3\",\"type\":\"LogTickFormatter\"},\"plot\":{\"id\":\"e7d5893a-8ab3-4168-8431-e09557479835\",\"subtype\":\"Figure\",\"type\":\"Plot\"},\"ticker\":{\"id\":\"4b21771d-3893-47fe-bc7e-d6158f8543f5\",\"type\":\"LogTicker\"}},\"id\":\"bbcadc5d-7ebf-46b1-9761-0103d4aa2a81\",\"type\":\"LogAxis\"},{\"attributes\":{\"source\":{\"id\":\"3b8ea7ed-f6ca-44e2-8391-d3bb14fb2e09\",\"type\":\"ColumnDataSource\"}},\"id\":\"e300b44c-2a25-438f-a983-6c82ea40af18\",\"type\":\"CDSView\"},{\"attributes\":{\"plot\":null,\"text\":\"Log pressure scale\"},\"id\":\"03b20519-af66-4d2f-8fb4-d8105179e6df\",\"type\":\"Title\"},{\"attributes\":{\"callback\":null,\"data\":{\"x\":{\"__ndarray__\":\"B1APiohu4b6C7wxMJ3DhvqDFC9ryb+G+eL9wjIBu4b6BLJJgXmrhvoac5bIWZOG+79G1llJb4b5BuMXxF1DhvqzG7bMcQuG+7meJf2wx4b7ef2aN4x3hvuNZBsB6B+G+yntMrg/u4L779s3yj8/gvjsI4WKsXOC+/sK6AM633L5EYKJ8FrbRvq6zOkEEMKk+oM1Xj15l4z7nDCJSvSD4PgtyIbRLUwc/ud7KVOInFD+spgFmTaIdP3q5yFMRjx4/szeh4hTlFj8wsctV8XMOPyMEaFqR0wI/y1IKEr5A9T77MtS6i5nkPiIoYIUgp8c+bfwR08Sgwb7+73V8fhbXvkO04bTf0d++W+kVwiWs4r47/nnmLfrkvpQS6me5Bee+l133fVyF6L5Y/M90YJrpvrma0lp2luq+PHDhENVv7L6ey5H996P1vuXQdvPldwq/Okt7GC/6GL/uN4n+qbQhv8BfW+HEmh+/MoWlq+mjBD+MaEodDMg3P3ITdNi7t00/1xwEzjp8XD9XA5JPjOVnP1mUUeaYjHI/9Jz0BxGMej+2SLOhdhKCPwjywBqa2oc/RzHMS/a2jj9DuND0VVuTP9/gwU6u+5c/wInCWVOanj+ABGrWviWjP0CIx/JsXqc/7TxA4wHmqz/7Cpri5l6wPwx6LfAu+rI/umjz+PC+tT9ker1ZVb+4P1wRJe9W9bs/jNXD8EFqvz+H9LBXJX/BPzjDCD9DSMM/0c9vdxEIxT+E3PBz78XGP9LtfLKvi8g/5VPBleVsyj8fRbx9JnfMP7p3U2EazM4/\",\"dtype\":\"float64\",\"shape\":[75]},\"y\":{\"__ndarray__\":\"GhExyth1ND/Sv8nbtpRIP2vylNV0PVE/aTum7souWD/At0SJ8fVgPw3Iuahxymc/MSNhhJWvcD/bTfBN02d3P2zb5nxnaoA/CD5h5MAGhz8NmeH1TyaQP+zrCsc9p5Y/LbKd76fGnz/bLW5ISEmmPww9YvTcQq8/JV2OstnstT8Er5Y7M8G+P0c+r3jqkcU/5h99k6ZBzj88bCIzFzjVP4enV8oyxN0//yH99nXg5D8qOpLLf0jtP5kqGJXUifQ/c9cS8kHP/D+/DpwzojQEQIEmwoanVwxA4lgXt9HgE0BSSZ2AJuIbQAMJih9jjiNA5q4l5INuK0AwTKYKRj0zQNv5fmq8/DpAaCJseHrtQkB/+zpwzoxKQM3MzMzMeFJAZmZmZmZqWEAAAAAAAFxeQM3MzMzMJmJAmpmZmZkfZUBmZmZmZhhoQDMzMzMzEWtAAAAAAAAKbkBmZmZmZoFwQM3MzMzM/XFAMzMzMzN6c0CamZmZmfZ0QAAAAAAAc3ZAZmZmZmbvd0DNzMzMzGt5QDMzMzMz6HpAmpmZmZlkfEAAAAAAAOF9QGZmZmZmXX9AZmZmZuZsgECamZmZGSuBQM3MzMxM6YFAAAAAAICngkAzMzMzs2WDQGZmZmbmI4RAmpmZmRnihEDNzMzMTKCFQAAAAACAXoZAMzMzM7Mch0BmZmZm5tqHQJqZmZkZmYhAzczMzExXiUAAAAAAgBWKQDMzMzOz04pAZmZmZuaRi0CamZmZGVCMQM3MzMxMDo1AAAAAAIDMjUAzMzMzs4qOQGZmZmbmSI9A\",\"dtype\":\"float64\",\"shape\":[75]}},\"selected\":{\"id\":\"a28189d8-1639-429d-8343-c6dee48ae771\",\"type\":\"Selection\"},\"selection_policy\":{\"id\":\"4e0ee543-24ed-4d88-95f0-0cd80c44fcb8\",\"type\":\"UnionRenderers\"}},\"id\":\"3b8ea7ed-f6ca-44e2-8391-d3bb14fb2e09\",\"type\":\"ColumnDataSource\"},{\"attributes\":{\"line_alpha\":0.1,\"line_color\":\"#1f77b4\",\"line_width\":3,\"x\":{\"field\":\"x\"},\"y\":{\"field\":\"y\"}},\"id\":\"62bbe350-aea8-4617-9e77-75c6808897df\",\"type\":\"Line\"},{\"attributes\":{},\"id\":\"0fbcb526-c108-49f6-94cf-3b5ee5439a1a\",\"type\":\"ResetTool\"},{\"attributes\":{},\"id\":\"7436b660-4f94-4d4f-8650-f715e8af7d93\",\"type\":\"LinearScale\"},{\"attributes\":{\"line_alpha\":0.1,\"line_color\":\"#1f77b4\",\"line_dash\":[6],\"line_width\":5,\"x\":{\"field\":\"x\"},\"y\":{\"field\":\"y\"}},\"id\":\"d76b19f2-1319-4299-b227-59ed95cfec57\",\"type\":\"Line\"},{\"attributes\":{\"fill_alpha\":{\"value\":0.7},\"fill_color\":{\"value\":\"#984ea3\"},\"line_alpha\":{\"value\":0.7},\"line_color\":{\"value\":\"#984ea3\"},\"x\":{\"field\":\"x\"},\"y\":{\"field\":\"y\"}},\"id\":\"3a036349-a4db-4d09-bdb1-574f79d51514\",\"type\":\"Square\"},{\"attributes\":{},\"id\":\"e6065984-fd30-4783-8577-a28fae744f75\",\"type\":\"HelpTool\"},{\"attributes\":{\"data_source\":{\"id\":\"815458bc-ca66-45c6-8f64-781585e7ea66\",\"type\":\"ColumnDataSource\"},\"glyph\":{\"id\":\"51e8b40a-2665-4277-903b-6d03e38542e3\",\"type\":\"Line\"},\"hover_glyph\":null,\"muted_glyph\":null,\"nonselection_glyph\":{\"id\":\"d76b19f2-1319-4299-b227-59ed95cfec57\",\"type\":\"Line\"},\"selection_glyph\":null,\"view\":{\"id\":\"9a13128e-017d-4267-b009-d1b6d270d6b1\",\"type\":\"CDSView\"}},\"id\":\"5f759bc6-128d-4f27-932c-7eff432ce3a1\",\"type\":\"GlyphRenderer\"},{\"attributes\":{\"callback\":null,\"data\":{\"x\":{\"__ndarray__\":\"KpahiCBH5r7yQhhYNzbmvouH267KCea+uOrHoBHV5b61PlX2XJ3lvpCK5HDmXeW+wvxwN7oa5b6zEzhvwNDkvv5vadA9gOS+yKf8q2oq5L5qZCowl83jvlRaKe4PauO+nGlZHaL/4r7xbcsF2YXivqOXO3lh7OC+Z6skk8rY1b7sScrsvcK5Pi5l/Lxnnus+Q7fpfcO+AD+wNR5MFAgQP1loc39Loxs/trqMYxFdJj/3Y2gdgLcvP6Dw0vWMRjA/Gmo2OhTnKD+tni2kuTAhPxAyEd85hhY/GiXMay0XDD/6k3m5+pkAPydyEEPLqPE+E5PoivzZ2j6X+Yx4n0OrvqxsrUt4UNW+mW9JGriW376AxONQLJrjvp3cwHv5fua+c0+gTeMe6L5JGnwenProvqvTNCKGxem+LS9IGI046775fof6w9bzvuWCZKjJBwa/0/JiExgsEb+hDVt8sbEMv6xe6dYGQhA/2felmQ5fNj+2SpL4zmJKP0aQXt6p6lg/GthbaD3sZD/FjHoNpEBwPz0ArSpQ03c/f2C8VqpagD8nOkytV46FP3dlFwyuuYs/uMHh6bt5kT/TCCbM7qiVP6kO1W6depo/IYslxuG1oD/Z6EtY47ikP39phJCJGqk/VD73KqHXrT+7d4NREXOxP275v1gcJLQ/hL7Gvvz/tj/alyKvvQW6P/7HdK5JM70/j6QHslw+wD/a0ycc7uHBP1hJllmlcMM/4a+Pb2vixD/vukyHLUHGP/npyxRrn8c/Ikz2dBoOyT+wfG1okKPKP4Qo4wjnjcw/\",\"dtype\":\"float64\",\"shape\":[75]},\"y\":{\"__ndarray__\":\"GhExyth1ND/Sv8nbtpRIP2vylNV0PVE/aTum7souWD/At0SJ8fVgPw3Iuahxymc/MSNhhJWvcD/bTfBN02d3P2zb5nxnaoA/CD5h5MAGhz8NmeH1TyaQP+zrCsc9p5Y/LbKd76fGnz/bLW5ISEmmPww9YvTcQq8/JV2OstnstT8Er5Y7M8G+P0c+r3jqkcU/5h99k6ZBzj88bCIzFzjVP4enV8oyxN0//yH99nXg5D8qOpLLf0jtP5kqGJXUifQ/c9cS8kHP/D+/DpwzojQEQIEmwoanVwxA4lgXt9HgE0BSSZ2AJuIbQAMJih9jjiNA5q4l5INuK0AwTKYKRj0zQNv5fmq8/DpAaCJseHrtQkB/+zpwzoxKQM3MzMzMeFJAZmZmZmZqWEAAAAAAAFxeQM3MzMzMJmJAmpmZmZkfZUBmZmZmZhhoQDMzMzMzEWtAAAAAAAAKbkBmZmZmZoFwQM3MzMzM/XFAMzMzMzN6c0CamZmZmfZ0QAAAAAAAc3ZAZmZmZmbvd0DNzMzMzGt5QDMzMzMz6HpAmpmZmZlkfEAAAAAAAOF9QGZmZmZmXX9AZmZmZuZsgECamZmZGSuBQM3MzMxM6YFAAAAAAICngkAzMzMzs2WDQGZmZmbmI4RAmpmZmRnihEDNzMzMTKCFQAAAAACAXoZAMzMzM7Mch0BmZmZm5tqHQJqZmZkZmYhAzczMzExXiUAAAAAAgBWKQDMzMzOz04pAZmZmZuaRi0CamZmZGVCMQM3MzMxMDo1AAAAAAIDMjUAzMzMzs4qOQGZmZmbmSI9A\",\"dtype\":\"float64\",\"shape\":[75]}},\"selected\":{\"id\":\"c98d8005-221d-43d7-95e5-9c8697851faf\",\"type\":\"Selection\"},\"selection_policy\":{\"id\":\"aa44820d-56a6-4bc4-a101-2a6df4f0ab1c\",\"type\":\"UnionRenderers\"}},\"id\":\"6585f46a-7b6d-4d75-ab4c-00b69cace9ba\",\"type\":\"ColumnDataSource\"},{\"attributes\":{\"source\":{\"id\":\"ae4b32e9-23ca-49b3-ac77-c75bb97a2964\",\"type\":\"ColumnDataSource\"}},\"id\":\"968ca3c8-207b-4f0b-ad4f-32583e0c7e5e\",\"type\":\"CDSView\"},{\"attributes\":{\"items\":[{\"id\":\"72d3fdbe-abec-42c6-b6b8-2b158e0d5fe8\",\"type\":\"LegendItem\"},{\"id\":\"0fa892fc-6aec-4636-94a8-e0c42b7ca4e7\",\"type\":\"LegendItem\"},{\"id\":\"fd4ae96d-8296-44c5-89d2-db8833177428\",\"type\":\"LegendItem\"}],\"label_text_font_size\":{\"value\":\"8pt\"},\"location\":[10,-30],\"plot\":{\"id\":\"e7d5893a-8ab3-4168-8431-e09557479835\",\"subtype\":\"Figure\",\"type\":\"Plot\"}},\"id\":\"6c731542-abe9-472d-a076-9c435356f24a\",\"type\":\"Legend\"},{\"attributes\":{\"below\":[{\"id\":\"06d47e13-7719-4581-8264-e1206f2408b8\",\"type\":\"LinearAxis\"}],\"left\":[{\"id\":\"08db212b-f297-4dae-b682-2b72b21e3f45\",\"type\":\"LinearAxis\"}],\"plot_height\":500,\"plot_width\":400,\"renderers\":[{\"id\":\"06d47e13-7719-4581-8264-e1206f2408b8\",\"type\":\"LinearAxis\"},{\"id\":\"c58da17c-8e24-41eb-b84a-74f88551fc25\",\"type\":\"Grid\"},{\"id\":\"08db212b-f297-4dae-b682-2b72b21e3f45\",\"type\":\"LinearAxis\"},{\"id\":\"c86b7544-c415-4982-b28e-3209e0fe1cb4\",\"type\":\"Grid\"},{\"id\":\"854a5bfc-3d71-4496-ab6e-a9f711d9e2c9\",\"type\":\"BoxAnnotation\"},{\"id\":\"5f759bc6-128d-4f27-932c-7eff432ce3a1\",\"type\":\"GlyphRenderer\"},{\"id\":\"0da0eb76-bd93-494f-b11f-4a78e22cd5f8\",\"type\":\"GlyphRenderer\"},{\"id\":\"876687a4-64fb-4ed9-a1a8-8da459432e56\",\"type\":\"GlyphRenderer\"},{\"id\":\"296291bd-e052-4433-ad7a-e6f6b08f89cb\",\"type\":\"GlyphRenderer\"},{\"id\":\"0cc61f64-69ca-4eff-b849-65962c2e967d\",\"type\":\"GlyphRenderer\"}],\"title\":{\"id\":\"12ac0a94-e200-4e85-b419-efa91278f91f\",\"type\":\"Title\"},\"toolbar\":{\"id\":\"1816d1f8-9820-430a-b8d3-8682df196f7a\",\"type\":\"Toolbar\"},\"toolbar_location\":null,\"x_range\":{\"id\":\"753b7e19-4ff6-4ab0-a297-763e87d33632\",\"type\":\"Range1d\"},\"x_scale\":{\"id\":\"fe70355d-8b93-4061-8324-88ac16248895\",\"type\":\"LinearScale\"},\"y_range\":{\"id\":\"c80a56cd-5654-44e0-8a1d-bef83fe2cc3f\",\"type\":\"Range1d\"},\"y_scale\":{\"id\":\"88c1028b-1256-4efd-b5a0-57fae038f0dd\",\"type\":\"LinearScale\"}},\"id\":\"a4a09392-28e1-4c5b-981c-1f7481e2c7ae\",\"subtype\":\"Figure\",\"type\":\"Plot\"},{\"attributes\":{\"axis_label\":\"cooling rate [K/day]\",\"formatter\":{\"id\":\"68459b91-6dcb-4f61-adec-1b9da552bfde\",\"type\":\"BasicTickFormatter\"},\"plot\":{\"id\":\"e7d5893a-8ab3-4168-8431-e09557479835\",\"subtype\":\"Figure\",\"type\":\"Plot\"},\"ticker\":{\"id\":\"85f51dd0-ca72-4cf0-8c8c-f99bab27383e\",\"type\":\"BasicTicker\"}},\"id\":\"33d6e165-5111-4079-ab4f-e3f360587649\",\"type\":\"LinearAxis\"},{\"attributes\":{\"callback\":null,\"data\":{\"x\":{\"__ndarray__\":\"YPdNWFVj9L4taQZerOMEv+htJlTV7+e+VWtCi2954r5pD4Eq/BTivoge/2H+GuK+wOAyVFi94b48il5ujtvhvgNSywtoi+G+oM0uH2Ok4b6eJEzWg4LhvspVpT0DiuG+UsJ8X62u4b6rXVgRbN7mvukQr9FIDOy+MxerhDyx5r69RwkCo0Dbvodfg/+bycG+1Q89e5rw1D4rbif15wvxPt9TowctqgE/yJrhY8haED9szxW5ysQYP7eF9iIiOhk/ItcUycKQEj8U3eM/HEYIP4KIxDvwGP0+LvjiVbzc7j7GgrqsET/ZPtV8wO0dnYs+2DRRVzky0L7eTqxdZ9rbvq+hojWNbOG+kEFxSCuh4753J4RKrIflvhMEoKK/TOe+ZOtdBaes6L78d58fXZTpvpVU01UQDuq+O0kWFp+/677pBWTHdB/1vmbyIlvqHAu/YH/EZ/9lG79XuOnNSuclvzneHbr+GSq/12UKM/M4Gr8sHaE1SYYjPyn8E74meEM/H2aNAzGFVT8a30WGdoFjP5uCEi1Umm8/irflErRxdz+dQ1TDMHeAP1MzLMXcVYY/FolV+D0ujT/5JqGCMKiSP6Q/PmVYbJc/F99XslFAnj8NGZnEfCCjP0q/lrrYcqc/d9GU834JrD/bfc6qvXKwP+fAoLz3BrM/jbveiZvLtT83wdyTLMy4P7TPIXiVGLw/CCwM0++pvz++z8DhaLvBP7sRktzMrsM/ty93mLyixT+ucKLIIJjHP9qUhnU+l8k/etl+S2Ooyz8T+z77FdvNP3dq7BpGJNA/\",\"dtype\":\"float64\",\"shape\":[75]},\"y\":{\"__ndarray__\":\"S/O/Q+51ND/Sv8nbtpRIP2vylNV0PVE/aTum7souWD/At0SJ8fVgPw3Iuahxymc/MSNhhJWvcD/bTfBN02d3P2zb5nxnaoA/CD5h5MAGhz8NmeH1TyaQP+zrCsc9p5Y/LbKd76fGnz/bLW5ISEmmPww9YvTcQq8/JV2OstnstT8Er5Y7M8G+P0c+r3jqkcU/5h99k6ZBzj88bCIzFzjVP4enV8oyxN0//yH99nXg5D8qOpLLf0jtP5kqGJXUifQ/c9cS8kHP/D+/DpwzojQEQIEmwoanVwxA4lgXt9HgE0BSSZ2AJuIbQAMJih9jjiNA5q4l5INuK0AwTKYKRj0zQNv5fmq8/DpAaCJseHrtQkB/+zpwzoxKQM3MzMzMeFJAZmZmZmZqWEAAAAAAAFxeQM3MzMzMJmJAmpmZmZkfZUBmZmZmZhhoQDMzMzMzEWtAAAAAAAAKbkBmZmZmZoFwQM3MzMzM/XFAMzMzMzN6c0CamZmZmfZ0QAAAAAAAc3ZAZmZmZmbvd0DNzMzMzGt5QDMzMzMz6HpAmpmZmZlkfEAAAAAAAOF9QGZmZmZmXX9AZmZmZuZsgECamZmZGSuBQM3MzMxM6YFAAAAAAICngkAzMzMzs2WDQGZmZmbmI4RAmpmZmRnihEDNzMzMTKCFQAAAAACAXoZAMzMzM7Mch0BmZmZm5tqHQJqZmZkZmYhAzczMzExXiUAAAAAAgBWKQDMzMzOz04pAZmZmZuaRi0CamZmZGVCMQM3MzMxMDo1AAAAAAIDMjUAzMzMzs4qOQGZmZmbmSI9A\",\"dtype\":\"float64\",\"shape\":[75]}},\"selected\":{\"id\":\"8e7a51ab-0f78-4681-baad-ee561ef4b722\",\"type\":\"Selection\"},\"selection_policy\":{\"id\":\"ef5fcf57-2c77-453a-aaab-09d8b7a44235\",\"type\":\"UnionRenderers\"}},\"id\":\"815458bc-ca66-45c6-8f64-781585e7ea66\",\"type\":\"ColumnDataSource\"},{\"attributes\":{\"callback\":null,\"end\":0.2547381111897,\"start\":-0.0027232701597000005},\"id\":\"753b7e19-4ff6-4ab0-a297-763e87d33632\",\"type\":\"Range1d\"},{\"attributes\":{\"data_source\":{\"id\":\"3b8ea7ed-f6ca-44e2-8391-d3bb14fb2e09\",\"type\":\"ColumnDataSource\"},\"glyph\":{\"id\":\"9f5ff189-b849-4261-bc34-51a9fef1fb78\",\"type\":\"Line\"},\"hover_glyph\":null,\"muted_glyph\":null,\"nonselection_glyph\":{\"id\":\"f88ed2a3-4236-4be0-9f1d-1bd6c7424e40\",\"type\":\"Line\"},\"selection_glyph\":null,\"view\":{\"id\":\"e300b44c-2a25-438f-a983-6c82ea40af18\",\"type\":\"CDSView\"}},\"id\":\"0cc61f64-69ca-4eff-b849-65962c2e967d\",\"type\":\"GlyphRenderer\"},{\"attributes\":{\"bottom_units\":\"screen\",\"fill_alpha\":{\"value\":0.5},\"fill_color\":{\"value\":\"lightgrey\"},\"left_units\":\"screen\",\"level\":\"overlay\",\"line_alpha\":{\"value\":1.0},\"line_color\":{\"value\":\"black\"},\"line_dash\":[4,4],\"line_width\":{\"value\":2},\"plot\":null,\"render_mode\":\"css\",\"right_units\":\"screen\",\"top_units\":\"screen\"},\"id\":\"c46874a6-53e1-4cf9-bff9-e12beba2d390\",\"type\":\"BoxAnnotation\"},{\"attributes\":{\"data_source\":{\"id\":\"6585f46a-7b6d-4d75-ab4c-00b69cace9ba\",\"type\":\"ColumnDataSource\"},\"glyph\":{\"id\":\"2d082ec0-8025-4c96-bba8-d74ae941df28\",\"type\":\"Circle\"},\"hover_glyph\":null,\"muted_glyph\":null,\"nonselection_glyph\":{\"id\":\"3a691577-20b0-44a4-9592-98cc930ff79c\",\"type\":\"Circle\"},\"selection_glyph\":null,\"view\":{\"id\":\"9f4c207c-e4e4-4c32-80dd-a21df3f6d3f8\",\"type\":\"CDSView\"}},\"id\":\"0da0eb76-bd93-494f-b11f-4a78e22cd5f8\",\"type\":\"GlyphRenderer\"},{\"attributes\":{\"fill_alpha\":{\"value\":0.7},\"fill_color\":{\"value\":\"#4daf4a\"},\"line_alpha\":{\"value\":0.7},\"line_color\":{\"value\":\"#4daf4a\"},\"x\":{\"field\":\"x\"},\"y\":{\"field\":\"y\"}},\"id\":\"2d082ec0-8025-4c96-bba8-d74ae941df28\",\"type\":\"Circle\"},{\"attributes\":{},\"id\":\"c1993b05-3e39-4770-ada0-065a4477a40b\",\"type\":\"SaveTool\"},{\"attributes\":{},\"id\":\"88c1028b-1256-4efd-b5a0-57fae038f0dd\",\"type\":\"LinearScale\"},{\"attributes\":{\"callback\":null,\"data\":{\"x\":{\"__ndarray__\":\"KpahiCBH5r7yQhhYNzbmvouH267KCea+uOrHoBHV5b61PlX2XJ3lvpCK5HDmXeW+wvxwN7oa5b6zEzhvwNDkvv5vadA9gOS+yKf8q2oq5L5qZCowl83jvlRaKe4PauO+nGlZHaL/4r7xbcsF2YXivqOXO3lh7OC+Z6skk8rY1b7sScrsvcK5Pi5l/Lxnnus+Q7fpfcO+AD+wNR5MFAgQP1loc39Loxs/trqMYxFdJj/3Y2gdgLcvP6Dw0vWMRjA/Gmo2OhTnKD+tni2kuTAhPxAyEd85hhY/GiXMay0XDD/6k3m5+pkAPydyEEPLqPE+E5PoivzZ2j6X+Yx4n0OrvqxsrUt4UNW+mW9JGriW376AxONQLJrjvp3cwHv5fua+c0+gTeMe6L5JGnwenProvqvTNCKGxem+LS9IGI046775fof6w9bzvuWCZKjJBwa/0/JiExgsEb+hDVt8sbEMv6xe6dYGQhA/2felmQ5fNj+2SpL4zmJKP0aQXt6p6lg/GthbaD3sZD/FjHoNpEBwPz0ArSpQ03c/f2C8VqpagD8nOkytV46FP3dlFwyuuYs/uMHh6bt5kT/TCCbM7qiVP6kO1W6depo/IYslxuG1oD/Z6EtY47ikP39phJCJGqk/VD73KqHXrT+7d4NREXOxP275v1gcJLQ/hL7Gvvz/tj/alyKvvQW6P/7HdK5JM70/j6QHslw+wD/a0ycc7uHBP1hJllmlcMM/4a+Pb2vixD/vukyHLUHGP/npyxRrn8c/Ikz2dBoOyT+wfG1okKPKP4Qo4wjnjcw/\",\"dtype\":\"float64\",\"shape\":[75]},\"y\":{\"__ndarray__\":\"GhExyth1ND/Sv8nbtpRIP2vylNV0PVE/aTum7souWD/At0SJ8fVgPw3Iuahxymc/MSNhhJWvcD/bTfBN02d3P2zb5nxnaoA/CD5h5MAGhz8NmeH1TyaQP+zrCsc9p5Y/LbKd76fGnz/bLW5ISEmmPww9YvTcQq8/JV2OstnstT8Er5Y7M8G+P0c+r3jqkcU/5h99k6ZBzj88bCIzFzjVP4enV8oyxN0//yH99nXg5D8qOpLLf0jtP5kqGJXUifQ/c9cS8kHP/D+/DpwzojQEQIEmwoanVwxA4lgXt9HgE0BSSZ2AJuIbQAMJih9jjiNA5q4l5INuK0AwTKYKRj0zQNv5fmq8/DpAaCJseHrtQkB/+zpwzoxKQM3MzMzMeFJAZmZmZmZqWEAAAAAAAFxeQM3MzMzMJmJAmpmZmZkfZUBmZmZmZhhoQDMzMzMzEWtAAAAAAAAKbkBmZmZmZoFwQM3MzMzM/XFAMzMzMzN6c0CamZmZmfZ0QAAAAAAAc3ZAZmZmZmbvd0DNzMzMzGt5QDMzMzMz6HpAmpmZmZlkfEAAAAAAAOF9QGZmZmZmXX9AZmZmZuZsgECamZmZGSuBQM3MzMxM6YFAAAAAAICngkAzMzMzs2WDQGZmZmbmI4RAmpmZmRnihEDNzMzMTKCFQAAAAACAXoZAMzMzM7Mch0BmZmZm5tqHQJqZmZkZmYhAzczMzExXiUAAAAAAgBWKQDMzMzOz04pAZmZmZuaRi0CamZmZGVCMQM3MzMxMDo1AAAAAAIDMjUAzMzMzs4qOQGZmZmbmSI9A\",\"dtype\":\"float64\",\"shape\":[75]}},\"selected\":{\"id\":\"3886bda8-4169-4d94-823c-80d4ff6cde92\",\"type\":\"Selection\"},\"selection_policy\":{\"id\":\"5baef41c-358c-491a-a9c4-ebfd8a715937\",\"type\":\"UnionRenderers\"}},\"id\":\"898a7aa3-71de-41d3-9e38-9bcb7fa9456b\",\"type\":\"ColumnDataSource\"},{\"attributes\":{},\"id\":\"82d356e5-8eff-4d5a-9221-a3ad97937618\",\"type\":\"WheelZoomTool\"},{\"attributes\":{\"line_alpha\":0.1,\"line_color\":\"#1f77b4\",\"line_dash\":[6],\"line_width\":5,\"x\":{\"field\":\"x\"},\"y\":{\"field\":\"y\"}},\"id\":\"d52e1880-4e9d-4dfa-add7-74dace492f47\",\"type\":\"Line\"},{\"attributes\":{},\"id\":\"fe70355d-8b93-4061-8324-88ac16248895\",\"type\":\"LinearScale\"},{\"attributes\":{\"data_source\":{\"id\":\"f81a27dc-a021-41af-9c96-7404fb1824e0\",\"type\":\"ColumnDataSource\"},\"glyph\":{\"id\":\"44b807ee-f111-46da-b5ed-97708c1e1646\",\"type\":\"Line\"},\"hover_glyph\":null,\"muted_glyph\":null,\"nonselection_glyph\":{\"id\":\"d52e1880-4e9d-4dfa-add7-74dace492f47\",\"type\":\"Line\"},\"selection_glyph\":null,\"view\":{\"id\":\"1e4e29a3-b924-48d5-83b9-2826b93b9c7b\",\"type\":\"CDSView\"}},\"id\":\"da8f8090-d692-448e-b593-d5eccd7b75ab\",\"type\":\"GlyphRenderer\"},{\"attributes\":{\"line_alpha\":0.6,\"line_color\":\"#984ea3\",\"line_width\":3,\"x\":{\"field\":\"x\"},\"y\":{\"field\":\"y\"}},\"id\":\"4714b97c-354b-43eb-ab6a-b0fbae1a797b\",\"type\":\"Line\"},{\"attributes\":{\"line_alpha\":0.1,\"line_color\":\"#1f77b4\",\"line_width\":1.5,\"x\":{\"field\":\"x\"},\"y\":{\"field\":\"y\"}},\"id\":\"c703ea47-4908-491a-8078-81f5977d78f1\",\"type\":\"Line\"},{\"attributes\":{\"plot\":{\"id\":\"a4a09392-28e1-4c5b-981c-1f7481e2c7ae\",\"subtype\":\"Figure\",\"type\":\"Plot\"},\"ticker\":{\"id\":\"73f94959-08c3-4b2c-b903-f2088ab3519d\",\"type\":\"BasicTicker\"}},\"id\":\"c58da17c-8e24-41eb-b84a-74f88551fc25\",\"type\":\"Grid\"},{\"attributes\":{\"data_source\":{\"id\":\"898a7aa3-71de-41d3-9e38-9bcb7fa9456b\",\"type\":\"ColumnDataSource\"},\"glyph\":{\"id\":\"7017af19-0fd4-418b-84fd-fe032a4e58c6\",\"type\":\"Line\"},\"hover_glyph\":null,\"muted_glyph\":null,\"nonselection_glyph\":{\"id\":\"c703ea47-4908-491a-8078-81f5977d78f1\",\"type\":\"Line\"},\"selection_glyph\":null,\"view\":{\"id\":\"60dcc565-1f9c-4d73-9d3b-6ca6507f7ac2\",\"type\":\"CDSView\"}},\"id\":\"876687a4-64fb-4ed9-a1a8-8da459432e56\",\"type\":\"GlyphRenderer\"},{\"attributes\":{\"line_alpha\":0.6,\"line_color\":\"#e41a1c\",\"line_dash\":[6],\"line_width\":5,\"x\":{\"field\":\"x\"},\"y\":{\"field\":\"y\"}},\"id\":\"44b807ee-f111-46da-b5ed-97708c1e1646\",\"type\":\"Line\"},{\"attributes\":{\"overlay\":{\"id\":\"c46874a6-53e1-4cf9-bff9-e12beba2d390\",\"type\":\"BoxAnnotation\"}},\"id\":\"53d59a78-6ef1-41eb-a948-b002ab6ad9d2\",\"type\":\"BoxZoomTool\"},{\"attributes\":{\"below\":[{\"id\":\"33d6e165-5111-4079-ab4f-e3f360587649\",\"type\":\"LinearAxis\"}],\"left\":[{\"id\":\"bbcadc5d-7ebf-46b1-9761-0103d4aa2a81\",\"type\":\"LogAxis\"}],\"plot_height\":500,\"plot_width\":560,\"renderers\":[{\"id\":\"33d6e165-5111-4079-ab4f-e3f360587649\",\"type\":\"LinearAxis\"},{\"id\":\"a987e4c6-f01b-48fb-b2a4-5ffe79638aca\",\"type\":\"Grid\"},{\"id\":\"bbcadc5d-7ebf-46b1-9761-0103d4aa2a81\",\"type\":\"LogAxis\"},{\"id\":\"f57870da-31f5-4417-a8a3-801a54c49732\",\"type\":\"Grid\"},{\"id\":\"c46874a6-53e1-4cf9-bff9-e12beba2d390\",\"type\":\"BoxAnnotation\"},{\"id\":\"da8f8090-d692-448e-b593-d5eccd7b75ab\",\"type\":\"GlyphRenderer\"},{\"id\":\"339cc3d0-a4af-4b68-9cab-7bea348e0ff1\",\"type\":\"GlyphRenderer\"},{\"id\":\"7d4fbd17-ec3a-48a7-b178-92c75e6f34ab\",\"type\":\"GlyphRenderer\"},{\"id\":\"cb43da2f-9ed2-4407-9eaa-12b9fc2119f8\",\"type\":\"GlyphRenderer\"},{\"id\":\"c3215991-9f61-4dbb-8993-9a3ab29d62d7\",\"type\":\"GlyphRenderer\"},{\"id\":\"6c731542-abe9-472d-a076-9c435356f24a\",\"type\":\"Legend\"}],\"right\":[{\"id\":\"6c731542-abe9-472d-a076-9c435356f24a\",\"type\":\"Legend\"}],\"title\":{\"id\":\"03b20519-af66-4d2f-8fb4-d8105179e6df\",\"type\":\"Title\"},\"toolbar\":{\"id\":\"a68a14fd-0e1c-42c9-a682-daa6a0713e6a\",\"type\":\"Toolbar\"},\"toolbar_location\":null,\"x_range\":{\"id\":\"db45d617-64ca-4e7c-9087-cce176a51626\",\"type\":\"Range1d\"},\"x_scale\":{\"id\":\"7436b660-4f94-4d4f-8650-f715e8af7d93\",\"type\":\"LinearScale\"},\"y_range\":{\"id\":\"77c85a3f-e7fa-4fc1-bdde-b6bbf4c1fc43\",\"type\":\"Range1d\"},\"y_scale\":{\"id\":\"09287e0f-85e7-44c4-8b46-6c5210724599\",\"type\":\"LogScale\"}},\"id\":\"e7d5893a-8ab3-4168-8431-e09557479835\",\"subtype\":\"Figure\",\"type\":\"Plot\"},{\"attributes\":{\"plot\":null,\"text\":\"Linear pressure scale\"},\"id\":\"12ac0a94-e200-4e85-b419-efa91278f91f\",\"type\":\"Title\"},{\"attributes\":{},\"id\":\"04660af5-de41-48c6-b6de-ac7fb3f5fc49\",\"type\":\"PanTool\"},{\"attributes\":{\"fill_alpha\":{\"value\":0.1},\"fill_color\":{\"value\":\"#1f77b4\"},\"line_alpha\":{\"value\":0.1},\"line_color\":{\"value\":\"#1f77b4\"},\"x\":{\"field\":\"x\"},\"y\":{\"field\":\"y\"}},\"id\":\"f7a87b9b-d659-4b01-ac4d-b5e273f9957d\",\"type\":\"Square\"},{\"attributes\":{\"active_drag\":\"auto\",\"active_inspect\":\"auto\",\"active_scroll\":\"auto\",\"active_tap\":\"auto\",\"tools\":[{\"id\":\"dc17b984-d4f6-4b77-accc-7c88e8534ebd\",\"type\":\"PanTool\"},{\"id\":\"187b2082-ad5d-44bd-841c-9a51f48b1c8a\",\"type\":\"WheelZoomTool\"},{\"id\":\"be735899-fc32-430d-96f3-f0c3b54ab0a0\",\"type\":\"BoxZoomTool\"},{\"id\":\"35e54ecb-a4ba-45cd-977e-519dc0c663bd\",\"type\":\"SaveTool\"},{\"id\":\"36926e12-75f0-4bb5-be93-47f643d4d1f6\",\"type\":\"ResetTool\"},{\"id\":\"d60ca959-b482-4dea-8ad2-0f27a76cc878\",\"type\":\"HelpTool\"}]},\"id\":\"1816d1f8-9820-430a-b8d3-8682df196f7a\",\"type\":\"Toolbar\"},{\"attributes\":{\"plot\":{\"id\":\"e7d5893a-8ab3-4168-8431-e09557479835\",\"subtype\":\"Figure\",\"type\":\"Plot\"},\"ticker\":{\"id\":\"85f51dd0-ca72-4cf0-8c8c-f99bab27383e\",\"type\":\"BasicTicker\"}},\"id\":\"a987e4c6-f01b-48fb-b2a4-5ffe79638aca\",\"type\":\"Grid\"},{\"attributes\":{\"fill_alpha\":{\"value\":0.1},\"fill_color\":{\"value\":\"#1f77b4\"},\"line_alpha\":{\"value\":0.1},\"line_color\":{\"value\":\"#1f77b4\"},\"x\":{\"field\":\"x\"},\"y\":{\"field\":\"y\"}},\"id\":\"3a691577-20b0-44a4-9592-98cc930ff79c\",\"type\":\"Circle\"},{\"attributes\":{\"axis_label\":\"cooling rate [K/day]\",\"formatter\":{\"id\":\"c963def6-8eb3-44d5-ac31-5750fdf9a9d0\",\"type\":\"BasicTickFormatter\"},\"plot\":{\"id\":\"a4a09392-28e1-4c5b-981c-1f7481e2c7ae\",\"subtype\":\"Figure\",\"type\":\"Plot\"},\"ticker\":{\"id\":\"73f94959-08c3-4b2c-b903-f2088ab3519d\",\"type\":\"BasicTicker\"}},\"id\":\"06d47e13-7719-4581-8264-e1206f2408b8\",\"type\":\"LinearAxis\"},{\"attributes\":{\"children\":[{\"id\":\"b3e5d0e1-dc24-45f5-ab05-5e616744a597\",\"type\":\"Row\"}]},\"id\":\"502d2dfc-5f8e-416c-8a55-bae2e57249a1\",\"type\":\"Column\"},{\"attributes\":{\"source\":{\"id\":\"6585f46a-7b6d-4d75-ab4c-00b69cace9ba\",\"type\":\"ColumnDataSource\"}},\"id\":\"9f4c207c-e4e4-4c32-80dd-a21df3f6d3f8\",\"type\":\"CDSView\"},{\"attributes\":{\"dimension\":1,\"plot\":{\"id\":\"a4a09392-28e1-4c5b-981c-1f7481e2c7ae\",\"subtype\":\"Figure\",\"type\":\"Plot\"},\"ticker\":{\"id\":\"3c722f9e-1049-4938-b460-f1beb0317a6a\",\"type\":\"BasicTicker\"}},\"id\":\"c86b7544-c415-4982-b28e-3209e0fe1cb4\",\"type\":\"Grid\"},{\"attributes\":{\"callback\":null,\"data\":{\"x\":{\"__ndarray__\":\"YPdNWFVj9L4taQZerOMEv+htJlTV7+e+VWtCi2954r5pD4Eq/BTivoge/2H+GuK+wOAyVFi94b48il5ujtvhvgNSywtoi+G+oM0uH2Ok4b6eJEzWg4LhvspVpT0DiuG+UsJ8X62u4b6rXVgRbN7mvukQr9FIDOy+MxerhDyx5r69RwkCo0Dbvodfg/+bycG+1Q89e5rw1D4rbif15wvxPt9TowctqgE/yJrhY8haED9szxW5ysQYP7eF9iIiOhk/ItcUycKQEj8U3eM/HEYIP4KIxDvwGP0+LvjiVbzc7j7GgrqsET/ZPtV8wO0dnYs+2DRRVzky0L7eTqxdZ9rbvq+hojWNbOG+kEFxSCuh4753J4RKrIflvhMEoKK/TOe+ZOtdBaes6L78d58fXZTpvpVU01UQDuq+O0kWFp+/677pBWTHdB/1vmbyIlvqHAu/YH/EZ/9lG79XuOnNSuclvzneHbr+GSq/12UKM/M4Gr8sHaE1SYYjPyn8E74meEM/H2aNAzGFVT8a30WGdoFjP5uCEi1Umm8/irflErRxdz+dQ1TDMHeAP1MzLMXcVYY/FolV+D0ujT/5JqGCMKiSP6Q/PmVYbJc/F99XslFAnj8NGZnEfCCjP0q/lrrYcqc/d9GU834JrD/bfc6qvXKwP+fAoLz3BrM/jbveiZvLtT83wdyTLMy4P7TPIXiVGLw/CCwM0++pvz++z8DhaLvBP7sRktzMrsM/ty93mLyixT+ucKLIIJjHP9qUhnU+l8k/etl+S2Ooyz8T+z77FdvNP3dq7BpGJNA/\",\"dtype\":\"float64\",\"shape\":[75]},\"y\":{\"__ndarray__\":\"S/O/Q+51ND/Sv8nbtpRIP2vylNV0PVE/aTum7souWD/At0SJ8fVgPw3Iuahxymc/MSNhhJWvcD/bTfBN02d3P2zb5nxnaoA/CD5h5MAGhz8NmeH1TyaQP+zrCsc9p5Y/LbKd76fGnz/bLW5ISEmmPww9YvTcQq8/JV2OstnstT8Er5Y7M8G+P0c+r3jqkcU/5h99k6ZBzj88bCIzFzjVP4enV8oyxN0//yH99nXg5D8qOpLLf0jtP5kqGJXUifQ/c9cS8kHP/D+/DpwzojQEQIEmwoanVwxA4lgXt9HgE0BSSZ2AJuIbQAMJih9jjiNA5q4l5INuK0AwTKYKRj0zQNv5fmq8/DpAaCJseHrtQkB/+zpwzoxKQM3MzMzMeFJAZmZmZmZqWEAAAAAAAFxeQM3MzMzMJmJAmpmZmZkfZUBmZmZmZhhoQDMzMzMzEWtAAAAAAAAKbkBmZmZmZoFwQM3MzMzM/XFAMzMzMzN6c0CamZmZmfZ0QAAAAAAAc3ZAZmZmZmbvd0DNzMzMzGt5QDMzMzMz6HpAmpmZmZlkfEAAAAAAAOF9QGZmZmZmXX9AZmZmZuZsgECamZmZGSuBQM3MzMxM6YFAAAAAAICngkAzMzMzs2WDQGZmZmbmI4RAmpmZmRnihEDNzMzMTKCFQAAAAACAXoZAMzMzM7Mch0BmZmZm5tqHQJqZmZkZmYhAzczMzExXiUAAAAAAgBWKQDMzMzOz04pAZmZmZuaRi0CamZmZGVCMQM3MzMxMDo1AAAAAAIDMjUAzMzMzs4qOQGZmZmbmSI9A\",\"dtype\":\"float64\",\"shape\":[75]}},\"selected\":{\"id\":\"b85ff277-5ecb-4b11-9cda-cd5160fb71ae\",\"type\":\"Selection\"},\"selection_policy\":{\"id\":\"069a183b-6e21-4262-adcb-a4a0e0eec5ea\",\"type\":\"UnionRenderers\"}},\"id\":\"f81a27dc-a021-41af-9c96-7404fb1824e0\",\"type\":\"ColumnDataSource\"},{\"attributes\":{\"line_alpha\":0.6,\"line_color\":\"#984ea3\",\"line_width\":3,\"x\":{\"field\":\"x\"},\"y\":{\"field\":\"y\"}},\"id\":\"9f5ff189-b849-4261-bc34-51a9fef1fb78\",\"type\":\"Line\"},{\"attributes\":{\"num_minor_ticks\":10},\"id\":\"4b21771d-3893-47fe-bc7e-d6158f8543f5\",\"type\":\"LogTicker\"},{\"attributes\":{\"callback\":null,\"data\":{\"x\":{\"__ndarray__\":\"B1APiohu4b6C7wxMJ3DhvqDFC9ryb+G+eL9wjIBu4b6BLJJgXmrhvoac5bIWZOG+79G1llJb4b5BuMXxF1DhvqzG7bMcQuG+7meJf2wx4b7ef2aN4x3hvuNZBsB6B+G+yntMrg/u4L779s3yj8/gvjsI4WKsXOC+/sK6AM633L5EYKJ8FrbRvq6zOkEEMKk+oM1Xj15l4z7nDCJSvSD4PgtyIbRLUwc/ud7KVOInFD+spgFmTaIdP3q5yFMRjx4/szeh4hTlFj8wsctV8XMOPyMEaFqR0wI/y1IKEr5A9T77MtS6i5nkPiIoYIUgp8c+bfwR08Sgwb7+73V8fhbXvkO04bTf0d++W+kVwiWs4r47/nnmLfrkvpQS6me5Bee+l133fVyF6L5Y/M90YJrpvrma0lp2luq+PHDhENVv7L6ey5H996P1vuXQdvPldwq/Okt7GC/6GL/uN4n+qbQhv8BfW+HEmh+/MoWlq+mjBD+MaEodDMg3P3ITdNi7t00/1xwEzjp8XD9XA5JPjOVnP1mUUeaYjHI/9Jz0BxGMej+2SLOhdhKCPwjywBqa2oc/RzHMS/a2jj9DuND0VVuTP9/gwU6u+5c/wInCWVOanj+ABGrWviWjP0CIx/JsXqc/7TxA4wHmqz/7Cpri5l6wPwx6LfAu+rI/umjz+PC+tT9ker1ZVb+4P1wRJe9W9bs/jNXD8EFqvz+H9LBXJX/BPzjDCD9DSMM/0c9vdxEIxT+E3PBz78XGP9LtfLKvi8g/5VPBleVsyj8fRbx9JnfMP7p3U2EazM4/\",\"dtype\":\"float64\",\"shape\":[75]},\"y\":{\"__ndarray__\":\"GhExyth1ND/Sv8nbtpRIP2vylNV0PVE/aTum7souWD/At0SJ8fVgPw3Iuahxymc/MSNhhJWvcD/bTfBN02d3P2zb5nxnaoA/CD5h5MAGhz8NmeH1TyaQP+zrCsc9p5Y/LbKd76fGnz/bLW5ISEmmPww9YvTcQq8/JV2OstnstT8Er5Y7M8G+P0c+r3jqkcU/5h99k6ZBzj88bCIzFzjVP4enV8oyxN0//yH99nXg5D8qOpLLf0jtP5kqGJXUifQ/c9cS8kHP/D+/DpwzojQEQIEmwoanVwxA4lgXt9HgE0BSSZ2AJuIbQAMJih9jjiNA5q4l5INuK0AwTKYKRj0zQNv5fmq8/DpAaCJseHrtQkB/+zpwzoxKQM3MzMzMeFJAZmZmZmZqWEAAAAAAAFxeQM3MzMzMJmJAmpmZmZkfZUBmZmZmZhhoQDMzMzMzEWtAAAAAAAAKbkBmZmZmZoFwQM3MzMzM/XFAMzMzMzN6c0CamZmZmfZ0QAAAAAAAc3ZAZmZmZmbvd0DNzMzMzGt5QDMzMzMz6HpAmpmZmZlkfEAAAAAAAOF9QGZmZmZmXX9AZmZmZuZsgECamZmZGSuBQM3MzMxM6YFAAAAAAICngkAzMzMzs2WDQGZmZmbmI4RAmpmZmRnihEDNzMzMTKCFQAAAAACAXoZAMzMzM7Mch0BmZmZm5tqHQJqZmZkZmYhAzczMzExXiUAAAAAAgBWKQDMzMzOz04pAZmZmZuaRi0CamZmZGVCMQM3MzMxMDo1AAAAAAIDMjUAzMzMzs4qOQGZmZmbmSI9A\",\"dtype\":\"float64\",\"shape\":[75]}},\"selected\":{\"id\":\"2da48d20-067f-4319-90bc-b7827d0eef03\",\"type\":\"Selection\"},\"selection_policy\":{\"id\":\"4a14bad8-85a4-404a-8d54-1a7180f186d0\",\"type\":\"UnionRenderers\"}},\"id\":\"ae4b32e9-23ca-49b3-ac77-c75bb97a2964\",\"type\":\"ColumnDataSource\"},{\"attributes\":{},\"id\":\"09287e0f-85e7-44c4-8b46-6c5210724599\",\"type\":\"LogScale\"},{\"attributes\":{},\"id\":\"3c722f9e-1049-4938-b460-f1beb0317a6a\",\"type\":\"BasicTicker\"},{\"attributes\":{\"source\":{\"id\":\"7a0c29a8-a534-433d-bc90-72e41569e697\",\"type\":\"ColumnDataSource\"}},\"id\":\"533d7504-fc26-4e7f-84d2-ce90ed36a0d1\",\"type\":\"CDSView\"},{\"attributes\":{},\"id\":\"c98d8005-221d-43d7-95e5-9c8697851faf\",\"type\":\"Selection\"},{\"attributes\":{\"bottom_units\":\"screen\",\"fill_alpha\":{\"value\":0.5},\"fill_color\":{\"value\":\"lightgrey\"},\"left_units\":\"screen\",\"level\":\"overlay\",\"line_alpha\":{\"value\":1.0},\"line_color\":{\"value\":\"black\"},\"line_dash\":[4,4],\"line_width\":{\"value\":2},\"plot\":null,\"render_mode\":\"css\",\"right_units\":\"screen\",\"top_units\":\"screen\"},\"id\":\"854a5bfc-3d71-4496-ab6e-a9f711d9e2c9\",\"type\":\"BoxAnnotation\"},{\"attributes\":{\"source\":{\"id\":\"898a7aa3-71de-41d3-9e38-9bcb7fa9456b\",\"type\":\"ColumnDataSource\"}},\"id\":\"60dcc565-1f9c-4d73-9d3b-6ca6507f7ac2\",\"type\":\"CDSView\"},{\"attributes\":{},\"id\":\"73f94959-08c3-4b2c-b903-f2088ab3519d\",\"type\":\"BasicTicker\"},{\"attributes\":{\"source\":{\"id\":\"8e47b760-d6af-47e7-8630-b0e27daafb12\",\"type\":\"ColumnDataSource\"}},\"id\":\"31e20a98-ebd5-4511-a992-4c4a0befc959\",\"type\":\"CDSView\"},{\"attributes\":{\"line_color\":\"#4daf4a\",\"line_width\":1.5,\"x\":{\"field\":\"x\"},\"y\":{\"field\":\"y\"}},\"id\":\"4d054ec5-31f3-4a11-a8dd-8aea4bc4e949\",\"type\":\"Line\"},{\"attributes\":{\"fill_alpha\":{\"value\":0.1},\"fill_color\":{\"value\":\"#1f77b4\"},\"line_alpha\":{\"value\":0.1},\"line_color\":{\"value\":\"#1f77b4\"},\"x\":{\"field\":\"x\"},\"y\":{\"field\":\"y\"}},\"id\":\"260aa1b8-65b5-482f-8944-28440f2af7b1\",\"type\":\"Circle\"},{\"attributes\":{\"callback\":null,\"data\":{\"x\":{\"__ndarray__\":\"B1APiohu4b6C7wxMJ3DhvqDFC9ryb+G+eL9wjIBu4b6BLJJgXmrhvoac5bIWZOG+79G1llJb4b5BuMXxF1DhvqzG7bMcQuG+7meJf2wx4b7ef2aN4x3hvuNZBsB6B+G+yntMrg/u4L779s3yj8/gvjsI4WKsXOC+/sK6AM633L5EYKJ8FrbRvq6zOkEEMKk+oM1Xj15l4z7nDCJSvSD4PgtyIbRLUwc/ud7KVOInFD+spgFmTaIdP3q5yFMRjx4/szeh4hTlFj8wsctV8XMOPyMEaFqR0wI/y1IKEr5A9T77MtS6i5nkPiIoYIUgp8c+bfwR08Sgwb7+73V8fhbXvkO04bTf0d++W+kVwiWs4r47/nnmLfrkvpQS6me5Bee+l133fVyF6L5Y/M90YJrpvrma0lp2luq+PHDhENVv7L6ey5H996P1vuXQdvPldwq/Okt7GC/6GL/uN4n+qbQhv8BfW+HEmh+/MoWlq+mjBD+MaEodDMg3P3ITdNi7t00/1xwEzjp8XD9XA5JPjOVnP1mUUeaYjHI/9Jz0BxGMej+2SLOhdhKCPwjywBqa2oc/RzHMS/a2jj9DuND0VVuTP9/gwU6u+5c/wInCWVOanj+ABGrWviWjP0CIx/JsXqc/7TxA4wHmqz/7Cpri5l6wPwx6LfAu+rI/umjz+PC+tT9ker1ZVb+4P1wRJe9W9bs/jNXD8EFqvz+H9LBXJX/BPzjDCD9DSMM/0c9vdxEIxT+E3PBz78XGP9LtfLKvi8g/5VPBleVsyj8fRbx9JnfMP7p3U2EazM4/\",\"dtype\":\"float64\",\"shape\":[75]},\"y\":{\"__ndarray__\":\"GhExyth1ND/Sv8nbtpRIP2vylNV0PVE/aTum7souWD/At0SJ8fVgPw3Iuahxymc/MSNhhJWvcD/bTfBN02d3P2zb5nxnaoA/CD5h5MAGhz8NmeH1TyaQP+zrCsc9p5Y/LbKd76fGnz/bLW5ISEmmPww9YvTcQq8/JV2OstnstT8Er5Y7M8G+P0c+r3jqkcU/5h99k6ZBzj88bCIzFzjVP4enV8oyxN0//yH99nXg5D8qOpLLf0jtP5kqGJXUifQ/c9cS8kHP/D+/DpwzojQEQIEmwoanVwxA4lgXt9HgE0BSSZ2AJuIbQAMJih9jjiNA5q4l5INuK0AwTKYKRj0zQNv5fmq8/DpAaCJseHrtQkB/+zpwzoxKQM3MzMzMeFJAZmZmZmZqWEAAAAAAAFxeQM3MzMzMJmJAmpmZmZkfZUBmZmZmZhhoQDMzMzMzEWtAAAAAAAAKbkBmZmZmZoFwQM3MzMzM/XFAMzMzMzN6c0CamZmZmfZ0QAAAAAAAc3ZAZmZmZmbvd0DNzMzMzGt5QDMzMzMz6HpAmpmZmZlkfEAAAAAAAOF9QGZmZmZmXX9AZmZmZuZsgECamZmZGSuBQM3MzMxM6YFAAAAAAICngkAzMzMzs2WDQGZmZmbmI4RAmpmZmRnihEDNzMzMTKCFQAAAAACAXoZAMzMzM7Mch0BmZmZm5tqHQJqZmZkZmYhAzczMzExXiUAAAAAAgBWKQDMzMzOz04pAZmZmZuaRi0CamZmZGVCMQM3MzMxMDo1AAAAAAIDMjUAzMzMzs4qOQGZmZmbmSI9A\",\"dtype\":\"float64\",\"shape\":[75]}},\"selected\":{\"id\":\"bd7fad96-e05b-430d-8553-235524c88593\",\"type\":\"Selection\"},\"selection_policy\":{\"id\":\"62272e08-f867-427c-99d1-4b914b1f86a6\",\"type\":\"UnionRenderers\"}},\"id\":\"7a0c29a8-a534-433d-bc90-72e41569e697\",\"type\":\"ColumnDataSource\"},{\"attributes\":{\"data_source\":{\"id\":\"c08936a0-e152-4b6f-be30-7ab0263002fc\",\"type\":\"ColumnDataSource\"},\"glyph\":{\"id\":\"b6361206-367c-41c6-afc0-cb054368f46b\",\"type\":\"Circle\"},\"hover_glyph\":null,\"muted_glyph\":null,\"nonselection_glyph\":{\"id\":\"260aa1b8-65b5-482f-8944-28440f2af7b1\",\"type\":\"Circle\"},\"selection_glyph\":null,\"view\":{\"id\":\"cdf2d0ae-93a3-435f-80a1-b87509806dd5\",\"type\":\"CDSView\"}},\"id\":\"339cc3d0-a4af-4b68-9cab-7bea348e0ff1\",\"type\":\"GlyphRenderer\"},{\"attributes\":{\"source\":{\"id\":\"c08936a0-e152-4b6f-be30-7ab0263002fc\",\"type\":\"ColumnDataSource\"}},\"id\":\"cdf2d0ae-93a3-435f-80a1-b87509806dd5\",\"type\":\"CDSView\"},{\"attributes\":{\"source\":{\"id\":\"f81a27dc-a021-41af-9c96-7404fb1824e0\",\"type\":\"ColumnDataSource\"}},\"id\":\"1e4e29a3-b924-48d5-83b9-2826b93b9c7b\",\"type\":\"CDSView\"},{\"attributes\":{\"callback\":null,\"data\":{\"x\":{\"__ndarray__\":\"KpahiCBH5r7yQhhYNzbmvouH267KCea+uOrHoBHV5b61PlX2XJ3lvpCK5HDmXeW+wvxwN7oa5b6zEzhvwNDkvv5vadA9gOS+yKf8q2oq5L5qZCowl83jvlRaKe4PauO+nGlZHaL/4r7xbcsF2YXivqOXO3lh7OC+Z6skk8rY1b7sScrsvcK5Pi5l/Lxnnus+Q7fpfcO+AD+wNR5MFAgQP1loc39Loxs/trqMYxFdJj/3Y2gdgLcvP6Dw0vWMRjA/Gmo2OhTnKD+tni2kuTAhPxAyEd85hhY/GiXMay0XDD/6k3m5+pkAPydyEEPLqPE+E5PoivzZ2j6X+Yx4n0OrvqxsrUt4UNW+mW9JGriW376AxONQLJrjvp3cwHv5fua+c0+gTeMe6L5JGnwenProvqvTNCKGxem+LS9IGI046775fof6w9bzvuWCZKjJBwa/0/JiExgsEb+hDVt8sbEMv6xe6dYGQhA/2felmQ5fNj+2SpL4zmJKP0aQXt6p6lg/GthbaD3sZD/FjHoNpEBwPz0ArSpQ03c/f2C8VqpagD8nOkytV46FP3dlFwyuuYs/uMHh6bt5kT/TCCbM7qiVP6kO1W6depo/IYslxuG1oD/Z6EtY47ikP39phJCJGqk/VD73KqHXrT+7d4NREXOxP275v1gcJLQ/hL7Gvvz/tj/alyKvvQW6P/7HdK5JM70/j6QHslw+wD/a0ycc7uHBP1hJllmlcMM/4a+Pb2vixD/vukyHLUHGP/npyxRrn8c/Ikz2dBoOyT+wfG1okKPKP4Qo4wjnjcw/\",\"dtype\":\"float64\",\"shape\":[75]},\"y\":{\"__ndarray__\":\"GhExyth1ND/Sv8nbtpRIP2vylNV0PVE/aTum7souWD/At0SJ8fVgPw3Iuahxymc/MSNhhJWvcD/bTfBN02d3P2zb5nxnaoA/CD5h5MAGhz8NmeH1TyaQP+zrCsc9p5Y/LbKd76fGnz/bLW5ISEmmPww9YvTcQq8/JV2OstnstT8Er5Y7M8G+P0c+r3jqkcU/5h99k6ZBzj88bCIzFzjVP4enV8oyxN0//yH99nXg5D8qOpLLf0jtP5kqGJXUifQ/c9cS8kHP/D+/DpwzojQEQIEmwoanVwxA4lgXt9HgE0BSSZ2AJuIbQAMJih9jjiNA5q4l5INuK0AwTKYKRj0zQNv5fmq8/DpAaCJseHrtQkB/+zpwzoxKQM3MzMzMeFJAZmZmZmZqWEAAAAAAAFxeQM3MzMzMJmJAmpmZmZkfZUBmZmZmZhhoQDMzMzMzEWtAAAAAAAAKbkBmZmZmZoFwQM3MzMzM/XFAMzMzMzN6c0CamZmZmfZ0QAAAAAAAc3ZAZmZmZmbvd0DNzMzMzGt5QDMzMzMz6HpAmpmZmZlkfEAAAAAAAOF9QGZmZmZmXX9AZmZmZuZsgECamZmZGSuBQM3MzMxM6YFAAAAAAICngkAzMzMzs2WDQGZmZmbmI4RAmpmZmRnihEDNzMzMTKCFQAAAAACAXoZAMzMzM7Mch0BmZmZm5tqHQJqZmZkZmYhAzczMzExXiUAAAAAAgBWKQDMzMzOz04pAZmZmZuaRi0CamZmZGVCMQM3MzMxMDo1AAAAAAIDMjUAzMzMzs4qOQGZmZmbmSI9A\",\"dtype\":\"float64\",\"shape\":[75]}},\"selected\":{\"id\":\"9ae6d488-78f7-452d-acfd-bfc01422ea4a\",\"type\":\"Selection\"},\"selection_policy\":{\"id\":\"9a7aede3-4f67-4922-9fa4-77f3122e3c0a\",\"type\":\"UnionRenderers\"}},\"id\":\"c08936a0-e152-4b6f-be30-7ab0263002fc\",\"type\":\"ColumnDataSource\"},{\"attributes\":{\"fill_alpha\":{\"value\":0.7},\"fill_color\":{\"value\":\"#4daf4a\"},\"line_alpha\":{\"value\":0.7},\"line_color\":{\"value\":\"#4daf4a\"},\"x\":{\"field\":\"x\"},\"y\":{\"field\":\"y\"}},\"id\":\"b6361206-367c-41c6-afc0-cb054368f46b\",\"type\":\"Circle\"},{\"attributes\":{\"callback\":null,\"data\":{\"x\":{\"__ndarray__\":\"KpahiCBH5r7yQhhYNzbmvouH267KCea+uOrHoBHV5b61PlX2XJ3lvpCK5HDmXeW+wvxwN7oa5b6zEzhvwNDkvv5vadA9gOS+yKf8q2oq5L5qZCowl83jvlRaKe4PauO+nGlZHaL/4r7xbcsF2YXivqOXO3lh7OC+Z6skk8rY1b7sScrsvcK5Pi5l/Lxnnus+Q7fpfcO+AD+wNR5MFAgQP1loc39Loxs/trqMYxFdJj/3Y2gdgLcvP6Dw0vWMRjA/Gmo2OhTnKD+tni2kuTAhPxAyEd85hhY/GiXMay0XDD/6k3m5+pkAPydyEEPLqPE+E5PoivzZ2j6X+Yx4n0OrvqxsrUt4UNW+mW9JGriW376AxONQLJrjvp3cwHv5fua+c0+gTeMe6L5JGnwenProvqvTNCKGxem+LS9IGI046775fof6w9bzvuWCZKjJBwa/0/JiExgsEb+hDVt8sbEMv6xe6dYGQhA/2felmQ5fNj+2SpL4zmJKP0aQXt6p6lg/GthbaD3sZD/FjHoNpEBwPz0ArSpQ03c/f2C8VqpagD8nOkytV46FP3dlFwyuuYs/uMHh6bt5kT/TCCbM7qiVP6kO1W6depo/IYslxuG1oD/Z6EtY47ikP39phJCJGqk/VD73KqHXrT+7d4NREXOxP275v1gcJLQ/hL7Gvvz/tj/alyKvvQW6P/7HdK5JM70/j6QHslw+wD/a0ycc7uHBP1hJllmlcMM/4a+Pb2vixD/vukyHLUHGP/npyxRrn8c/Ikz2dBoOyT+wfG1okKPKP4Qo4wjnjcw/\",\"dtype\":\"float64\",\"shape\":[75]},\"y\":{\"__ndarray__\":\"GhExyth1ND/Sv8nbtpRIP2vylNV0PVE/aTum7souWD/At0SJ8fVgPw3Iuahxymc/MSNhhJWvcD/bTfBN02d3P2zb5nxnaoA/CD5h5MAGhz8NmeH1TyaQP+zrCsc9p5Y/LbKd76fGnz/bLW5ISEmmPww9YvTcQq8/JV2OstnstT8Er5Y7M8G+P0c+r3jqkcU/5h99k6ZBzj88bCIzFzjVP4enV8oyxN0//yH99nXg5D8qOpLLf0jtP5kqGJXUifQ/c9cS8kHP/D+/DpwzojQEQIEmwoanVwxA4lgXt9HgE0BSSZ2AJuIbQAMJih9jjiNA5q4l5INuK0AwTKYKRj0zQNv5fmq8/DpAaCJseHrtQkB/+zpwzoxKQM3MzMzMeFJAZmZmZmZqWEAAAAAAAFxeQM3MzMzMJmJAmpmZmZkfZUBmZmZmZhhoQDMzMzMzEWtAAAAAAAAKbkBmZmZmZoFwQM3MzMzM/XFAMzMzMzN6c0CamZmZmfZ0QAAAAAAAc3ZAZmZmZmbvd0DNzMzMzGt5QDMzMzMz6HpAmpmZmZlkfEAAAAAAAOF9QGZmZmZmXX9AZmZmZuZsgECamZmZGSuBQM3MzMxM6YFAAAAAAICngkAzMzMzs2WDQGZmZmbmI4RAmpmZmRnihEDNzMzMTKCFQAAAAACAXoZAMzMzM7Mch0BmZmZm5tqHQJqZmZkZmYhAzczMzExXiUAAAAAAgBWKQDMzMzOz04pAZmZmZuaRi0CamZmZGVCMQM3MzMxMDo1AAAAAAIDMjUAzMzMzs4qOQGZmZmbmSI9A\",\"dtype\":\"float64\",\"shape\":[75]}},\"selected\":{\"id\":\"fa2f6a39-436d-49f3-9900-95fffffce454\",\"type\":\"Selection\"},\"selection_policy\":{\"id\":\"2a664a2d-c134-4548-a7a8-bb521e873a3e\",\"type\":\"UnionRenderers\"}},\"id\":\"a2c033b7-cd56-42e2-96c4-625f3cc43db1\",\"type\":\"ColumnDataSource\"},{\"attributes\":{\"line_alpha\":0.1,\"line_color\":\"#1f77b4\",\"line_width\":1.5,\"x\":{\"field\":\"x\"},\"y\":{\"field\":\"y\"}},\"id\":\"ca56bf06-1192-4540-ab3d-9fe2a2ea0fcc\",\"type\":\"Line\"},{\"attributes\":{\"data_source\":{\"id\":\"a2c033b7-cd56-42e2-96c4-625f3cc43db1\",\"type\":\"ColumnDataSource\"},\"glyph\":{\"id\":\"4d054ec5-31f3-4a11-a8dd-8aea4bc4e949\",\"type\":\"Line\"},\"hover_glyph\":null,\"muted_glyph\":null,\"nonselection_glyph\":{\"id\":\"ca56bf06-1192-4540-ab3d-9fe2a2ea0fcc\",\"type\":\"Line\"},\"selection_glyph\":null,\"view\":{\"id\":\"931dc442-683f-4f7d-b226-2f1c04d21b7c\",\"type\":\"CDSView\"}},\"id\":\"7d4fbd17-ec3a-48a7-b178-92c75e6f34ab\",\"type\":\"GlyphRenderer\"},{\"attributes\":{\"source\":{\"id\":\"a2c033b7-cd56-42e2-96c4-625f3cc43db1\",\"type\":\"ColumnDataSource\"}},\"id\":\"931dc442-683f-4f7d-b226-2f1c04d21b7c\",\"type\":\"CDSView\"},{\"attributes\":{\"fill_alpha\":{\"value\":0.7},\"fill_color\":{\"value\":\"#984ea3\"},\"line_alpha\":{\"value\":0.7},\"line_color\":{\"value\":\"#984ea3\"},\"x\":{\"field\":\"x\"},\"y\":{\"field\":\"y\"}},\"id\":\"591fc5e5-d1de-4c96-b677-e14e12c8db3b\",\"type\":\"Square\"},{\"attributes\":{},\"id\":\"c963def6-8eb3-44d5-ac31-5750fdf9a9d0\",\"type\":\"BasicTickFormatter\"},{\"attributes\":{\"fill_alpha\":{\"value\":0.1},\"fill_color\":{\"value\":\"#1f77b4\"},\"line_alpha\":{\"value\":0.1},\"line_color\":{\"value\":\"#1f77b4\"},\"x\":{\"field\":\"x\"},\"y\":{\"field\":\"y\"}},\"id\":\"72b0e8d2-9808-46c0-984f-146689475144\",\"type\":\"Square\"},{\"attributes\":{\"data_source\":{\"id\":\"7a0c29a8-a534-433d-bc90-72e41569e697\",\"type\":\"ColumnDataSource\"},\"glyph\":{\"id\":\"591fc5e5-d1de-4c96-b677-e14e12c8db3b\",\"type\":\"Square\"},\"hover_glyph\":null,\"muted_glyph\":null,\"nonselection_glyph\":{\"id\":\"72b0e8d2-9808-46c0-984f-146689475144\",\"type\":\"Square\"},\"selection_glyph\":null,\"view\":{\"id\":\"533d7504-fc26-4e7f-84d2-ce90ed36a0d1\",\"type\":\"CDSView\"}},\"id\":\"cb43da2f-9ed2-4407-9eaa-12b9fc2119f8\",\"type\":\"GlyphRenderer\"},{\"attributes\":{\"children\":[{\"id\":\"a4a09392-28e1-4c5b-981c-1f7481e2c7ae\",\"subtype\":\"Figure\",\"type\":\"Plot\"},{\"id\":\"e7d5893a-8ab3-4168-8431-e09557479835\",\"subtype\":\"Figure\",\"type\":\"Plot\"}]},\"id\":\"b3e5d0e1-dc24-45f5-ab05-5e616744a597\",\"type\":\"Row\"},{\"attributes\":{\"label\":{\"value\":\"CLIRAD `coolr_bands`\"},\"renderers\":[{\"id\":\"da8f8090-d692-448e-b593-d5eccd7b75ab\",\"type\":\"GlyphRenderer\"}]},\"id\":\"72d3fdbe-abec-42c6-b6b8-2b158e0d5fe8\",\"type\":\"LegendItem\"},{\"attributes\":{},\"id\":\"8e7a51ab-0f78-4681-baad-ee561ef4b722\",\"type\":\"Selection\"},{\"attributes\":{\"label\":{\"value\":\"CRD\"},\"renderers\":[{\"id\":\"339cc3d0-a4af-4b68-9cab-7bea348e0ff1\",\"type\":\"GlyphRenderer\"},{\"id\":\"7d4fbd17-ec3a-48a7-b178-92c75e6f34ab\",\"type\":\"GlyphRenderer\"}]},\"id\":\"0fa892fc-6aec-4636-94a8-e0c42b7ca4e7\",\"type\":\"LegendItem\"},{\"attributes\":{},\"id\":\"3886bda8-4169-4d94-823c-80d4ff6cde92\",\"type\":\"Selection\"},{\"attributes\":{\"label\":{\"value\":\"WGT igg=10 wgt_flux=2\"},\"renderers\":[{\"id\":\"cb43da2f-9ed2-4407-9eaa-12b9fc2119f8\",\"type\":\"GlyphRenderer\"},{\"id\":\"c3215991-9f61-4dbb-8993-9a3ab29d62d7\",\"type\":\"GlyphRenderer\"}]},\"id\":\"fd4ae96d-8296-44c5-89d2-db8833177428\",\"type\":\"LegendItem\"},{\"attributes\":{},\"id\":\"4a14bad8-85a4-404a-8d54-1a7180f186d0\",\"type\":\"UnionRenderers\"},{\"attributes\":{},\"id\":\"5baef41c-358c-491a-a9c4-ebfd8a715937\",\"type\":\"UnionRenderers\"},{\"attributes\":{},\"id\":\"ef5fcf57-2c77-453a-aaab-09d8b7a44235\",\"type\":\"UnionRenderers\"},{\"attributes\":{},\"id\":\"aa44820d-56a6-4bc4-a101-2a6df4f0ab1c\",\"type\":\"UnionRenderers\"},{\"attributes\":{},\"id\":\"b85ff277-5ecb-4b11-9cda-cd5160fb71ae\",\"type\":\"Selection\"},{\"attributes\":{\"line_alpha\":0.6,\"line_color\":\"#e41a1c\",\"line_dash\":[6],\"line_width\":5,\"x\":{\"field\":\"x\"},\"y\":{\"field\":\"y\"}},\"id\":\"51e8b40a-2665-4277-903b-6d03e38542e3\",\"type\":\"Line\"},{\"attributes\":{},\"id\":\"4e0ee543-24ed-4d88-95f0-0cd80c44fcb8\",\"type\":\"UnionRenderers\"},{\"attributes\":{},\"id\":\"68459b91-6dcb-4f61-adec-1b9da552bfde\",\"type\":\"BasicTickFormatter\"},{\"attributes\":{},\"id\":\"2da48d20-067f-4319-90bc-b7827d0eef03\",\"type\":\"Selection\"},{\"attributes\":{},\"id\":\"069a183b-6e21-4262-adcb-a4a0e0eec5ea\",\"type\":\"UnionRenderers\"},{\"attributes\":{},\"id\":\"a28189d8-1639-429d-8343-c6dee48ae771\",\"type\":\"Selection\"},{\"attributes\":{\"ticker\":null},\"id\":\"f0fead45-7201-43aa-a794-fb75690a66a3\",\"type\":\"LogTickFormatter\"},{\"attributes\":{},\"id\":\"9a7aede3-4f67-4922-9fa4-77f3122e3c0a\",\"type\":\"UnionRenderers\"},{\"attributes\":{},\"id\":\"2a664a2d-c134-4548-a7a8-bb521e873a3e\",\"type\":\"UnionRenderers\"},{\"attributes\":{},\"id\":\"9ae6d488-78f7-452d-acfd-bfc01422ea4a\",\"type\":\"Selection\"},{\"attributes\":{},\"id\":\"fa2f6a39-436d-49f3-9900-95fffffce454\",\"type\":\"Selection\"},{\"attributes\":{},\"id\":\"62272e08-f867-427c-99d1-4b914b1f86a6\",\"type\":\"UnionRenderers\"},{\"attributes\":{},\"id\":\"c9995c80-2298-4aff-aa77-7c79495e2f86\",\"type\":\"UnionRenderers\"},{\"attributes\":{\"toolbar\":{\"id\":\"72e7072d-6956-49c9-98b5-21c2de0acde2\",\"type\":\"ProxyToolbar\"},\"toolbar_location\":\"above\"},\"id\":\"5fde50d1-d82a-42c8-b860-903acb234fba\",\"type\":\"ToolbarBox\"},{\"attributes\":{},\"id\":\"bd7fad96-e05b-430d-8553-235524c88593\",\"type\":\"Selection\"},{\"attributes\":{\"children\":[{\"id\":\"5fde50d1-d82a-42c8-b860-903acb234fba\",\"type\":\"ToolbarBox\"},{\"id\":\"502d2dfc-5f8e-416c-8a55-bae2e57249a1\",\"type\":\"Column\"}]},\"id\":\"972cf450-c65d-4f0b-af91-1e1044b9b875\",\"type\":\"Column\"},{\"attributes\":{},\"id\":\"c2ce895d-9835-4e56-8275-ca14103c3def\",\"type\":\"Selection\"},{\"attributes\":{\"tools\":[{\"id\":\"dc17b984-d4f6-4b77-accc-7c88e8534ebd\",\"type\":\"PanTool\"},{\"id\":\"187b2082-ad5d-44bd-841c-9a51f48b1c8a\",\"type\":\"WheelZoomTool\"},{\"id\":\"be735899-fc32-430d-96f3-f0c3b54ab0a0\",\"type\":\"BoxZoomTool\"},{\"id\":\"35e54ecb-a4ba-45cd-977e-519dc0c663bd\",\"type\":\"SaveTool\"},{\"id\":\"36926e12-75f0-4bb5-be93-47f643d4d1f6\",\"type\":\"ResetTool\"},{\"id\":\"d60ca959-b482-4dea-8ad2-0f27a76cc878\",\"type\":\"HelpTool\"},{\"id\":\"04660af5-de41-48c6-b6de-ac7fb3f5fc49\",\"type\":\"PanTool\"},{\"id\":\"82d356e5-8eff-4d5a-9221-a3ad97937618\",\"type\":\"WheelZoomTool\"},{\"id\":\"53d59a78-6ef1-41eb-a948-b002ab6ad9d2\",\"type\":\"BoxZoomTool\"},{\"id\":\"c1993b05-3e39-4770-ada0-065a4477a40b\",\"type\":\"SaveTool\"},{\"id\":\"0fbcb526-c108-49f6-94cf-3b5ee5439a1a\",\"type\":\"ResetTool\"},{\"id\":\"e6065984-fd30-4783-8577-a28fae744f75\",\"type\":\"HelpTool\"}]},\"id\":\"72e7072d-6956-49c9-98b5-21c2de0acde2\",\"type\":\"ProxyToolbar\"}],\"root_ids\":[\"972cf450-c65d-4f0b-af91-1e1044b9b875\"]},\"title\":\"Bokeh Application\",\"version\":\"0.12.16\"}};\n",
       "  var render_items = [{\"docid\":\"5a29d8ed-ab5a-4afa-a0f1-4dda232cab6d\",\"elementid\":\"701f5c96-be52-4d0c-bad1-70e8da52069a\",\"modelid\":\"972cf450-c65d-4f0b-af91-1e1044b9b875\"}];\n",
       "  root.Bokeh.embed.embed_items_notebook(docs_json, render_items);\n",
       "\n",
       "  }\n",
       "  if (root.Bokeh !== undefined) {\n",
       "    embed_document(root);\n",
       "  } else {\n",
       "    var attempts = 0;\n",
       "    var timer = setInterval(function(root) {\n",
       "      if (root.Bokeh !== undefined) {\n",
       "        embed_document(root);\n",
       "        clearInterval(timer);\n",
       "      }\n",
       "      attempts++;\n",
       "      if (attempts > 100) {\n",
       "        console.log(\"Bokeh: ERROR: Unable to run BokehJS code because BokehJS library is missing\")\n",
       "        clearInterval(timer);\n",
       "      }\n",
       "    }, 10, root)\n",
       "  }\n",
       "})(window);"
      ],
      "application/vnd.bokehjs_exec.v0+json": ""
     },
     "metadata": {
      "application/vnd.bokehjs_exec.v0+json": {
       "id": "972cf450-c65d-4f0b-af91-1e1044b9b875"
      }
     },
     "output_type": "display_data"
    },
    {
     "name": "stdout",
     "output_type": "stream",
     "text": [
      "FIGURE. Cooling rate profiles.\n"
     ]
    },
    {
     "data": {
      "text/html": [
       "<a id=\"Flux_Comparison\"></a>"
      ],
      "text/plain": [
       "<IPython.core.display.HTML object>"
      ]
     },
     "metadata": {},
     "output_type": "display_data"
    },
    {
     "data": {
      "text/markdown": [
       "# Flux Comparison"
      ],
      "text/plain": [
       "<IPython.core.display.Markdown object>"
      ]
     },
     "metadata": {},
     "output_type": "display_data"
    },
    {
     "data": {
      "text/html": [
       "<div>\n",
       "<style scoped>\n",
       "    .dataframe tbody tr th:only-of-type {\n",
       "        vertical-align: middle;\n",
       "    }\n",
       "\n",
       "    .dataframe tbody tr th {\n",
       "        vertical-align: top;\n",
       "    }\n",
       "\n",
       "    .dataframe thead th {\n",
       "        text-align: right;\n",
       "    }\n",
       "</style>\n",
       "<table border=\"1\" class=\"dataframe\">\n",
       "  <thead>\n",
       "    <tr style=\"text-align: right;\">\n",
       "      <th></th>\n",
       "      <th></th>\n",
       "      <th>flug</th>\n",
       "      <th>fldg</th>\n",
       "      <th>fnetg</th>\n",
       "    </tr>\n",
       "    <tr>\n",
       "      <th>pressure</th>\n",
       "      <th>level</th>\n",
       "      <th></th>\n",
       "      <th></th>\n",
       "      <th></th>\n",
       "    </tr>\n",
       "  </thead>\n",
       "  <tbody>\n",
       "    <tr>\n",
       "      <th>0.0000</th>\n",
       "      <th>1</th>\n",
       "      <td>-60.494102</td>\n",
       "      <td>0.000000</td>\n",
       "      <td>-60.494102</td>\n",
       "    </tr>\n",
       "    <tr>\n",
       "      <th>1.0685</th>\n",
       "      <th>24</th>\n",
       "      <td>-60.494101</td>\n",
       "      <td>0.000016</td>\n",
       "      <td>-60.494085</td>\n",
       "    </tr>\n",
       "    <tr>\n",
       "      <th>1013.0000</th>\n",
       "      <th>76</th>\n",
       "      <td>-61.681246</td>\n",
       "      <td>7.695088</td>\n",
       "      <td>-53.986158</td>\n",
       "    </tr>\n",
       "  </tbody>\n",
       "</table>\n",
       "</div>"
      ],
      "text/plain": [
       "                      flug      fldg      fnetg\n",
       "pressure  level                                \n",
       "0.0000    1     -60.494102  0.000000 -60.494102\n",
       "1.0685    24    -60.494101  0.000016 -60.494085\n",
       "1013.0000 76    -61.681246  7.695088 -53.986158"
      ]
     },
     "metadata": {},
     "output_type": "display_data"
    },
    {
     "name": "stdout",
     "output_type": "stream",
     "text": [
      "Table. Fluxes. CRD\n"
     ]
    },
    {
     "data": {
      "text/html": [
       "<div>\n",
       "<style scoped>\n",
       "    .dataframe tbody tr th:only-of-type {\n",
       "        vertical-align: middle;\n",
       "    }\n",
       "\n",
       "    .dataframe tbody tr th {\n",
       "        vertical-align: top;\n",
       "    }\n",
       "\n",
       "    .dataframe thead th {\n",
       "        text-align: right;\n",
       "    }\n",
       "</style>\n",
       "<table border=\"1\" class=\"dataframe\">\n",
       "  <thead>\n",
       "    <tr style=\"text-align: right;\">\n",
       "      <th></th>\n",
       "      <th></th>\n",
       "      <th>flug</th>\n",
       "      <th>fldg</th>\n",
       "      <th>fnetg</th>\n",
       "    </tr>\n",
       "    <tr>\n",
       "      <th>pressure</th>\n",
       "      <th>level</th>\n",
       "      <th></th>\n",
       "      <th></th>\n",
       "      <th></th>\n",
       "    </tr>\n",
       "  </thead>\n",
       "  <tbody>\n",
       "    <tr>\n",
       "      <th>0.0000</th>\n",
       "      <th>1</th>\n",
       "      <td>-60.527907</td>\n",
       "      <td>0.000000</td>\n",
       "      <td>-60.527907</td>\n",
       "    </tr>\n",
       "    <tr>\n",
       "      <th>1.0685</th>\n",
       "      <th>24</th>\n",
       "      <td>-60.527908</td>\n",
       "      <td>0.000008</td>\n",
       "      <td>-60.527900</td>\n",
       "    </tr>\n",
       "    <tr>\n",
       "      <th>1013.0000</th>\n",
       "      <th>76</th>\n",
       "      <td>-61.681246</td>\n",
       "      <td>7.642350</td>\n",
       "      <td>-54.038897</td>\n",
       "    </tr>\n",
       "  </tbody>\n",
       "</table>\n",
       "</div>"
      ],
      "text/plain": [
       "                      flug      fldg      fnetg\n",
       "pressure  level                                \n",
       "0.0000    1     -60.527907  0.000000 -60.527907\n",
       "1.0685    24    -60.527908  0.000008 -60.527900\n",
       "1013.0000 76    -61.681246  7.642350 -54.038897"
      ]
     },
     "metadata": {},
     "output_type": "display_data"
    },
    {
     "name": "stdout",
     "output_type": "stream",
     "text": [
      "Table. Fluxes. WGT igg=10 wgt_flux=1\n"
     ]
    },
    {
     "data": {
      "text/html": [
       "<div>\n",
       "<style scoped>\n",
       "    .dataframe tbody tr th:only-of-type {\n",
       "        vertical-align: middle;\n",
       "    }\n",
       "\n",
       "    .dataframe tbody tr th {\n",
       "        vertical-align: top;\n",
       "    }\n",
       "\n",
       "    .dataframe thead th {\n",
       "        text-align: right;\n",
       "    }\n",
       "</style>\n",
       "<table border=\"1\" class=\"dataframe\">\n",
       "  <thead>\n",
       "    <tr style=\"text-align: right;\">\n",
       "      <th></th>\n",
       "      <th></th>\n",
       "      <th>flug</th>\n",
       "      <th>fldg</th>\n",
       "      <th>fnetg</th>\n",
       "    </tr>\n",
       "    <tr>\n",
       "      <th>pressure</th>\n",
       "      <th>level</th>\n",
       "      <th></th>\n",
       "      <th></th>\n",
       "      <th></th>\n",
       "    </tr>\n",
       "  </thead>\n",
       "  <tbody>\n",
       "    <tr>\n",
       "      <th>1.000000e-08</th>\n",
       "      <th>1</th>\n",
       "      <td>-60.533611</td>\n",
       "      <td>1.202576e-07</td>\n",
       "      <td>-60.533611</td>\n",
       "    </tr>\n",
       "    <tr>\n",
       "      <th>1.068500e+00</th>\n",
       "      <th>24</th>\n",
       "      <td>-60.533613</td>\n",
       "      <td>7.636253e-06</td>\n",
       "      <td>-60.533605</td>\n",
       "    </tr>\n",
       "    <tr>\n",
       "      <th>1.013000e+03</th>\n",
       "      <th>76</th>\n",
       "      <td>-61.681250</td>\n",
       "      <td>7.784131e+00</td>\n",
       "      <td>-53.897119</td>\n",
       "    </tr>\n",
       "  </tbody>\n",
       "</table>\n",
       "</div>"
      ],
      "text/plain": [
       "                         flug          fldg      fnetg\n",
       "pressure     level                                    \n",
       "1.000000e-08 1     -60.533611  1.202576e-07 -60.533611\n",
       "1.068500e+00 24    -60.533613  7.636253e-06 -60.533605\n",
       "1.013000e+03 76    -61.681250  7.784131e+00 -53.897119"
      ]
     },
     "metadata": {},
     "output_type": "display_data"
    },
    {
     "name": "stdout",
     "output_type": "stream",
     "text": [
      "Table. Fluxes. CLIRAD\n"
     ]
    },
    {
     "data": {
      "text/html": [
       "<div>\n",
       "<style scoped>\n",
       "    .dataframe tbody tr th:only-of-type {\n",
       "        vertical-align: middle;\n",
       "    }\n",
       "\n",
       "    .dataframe tbody tr th {\n",
       "        vertical-align: top;\n",
       "    }\n",
       "\n",
       "    .dataframe thead th {\n",
       "        text-align: right;\n",
       "    }\n",
       "</style>\n",
       "<table border=\"1\" class=\"dataframe\">\n",
       "  <thead>\n",
       "    <tr style=\"text-align: right;\">\n",
       "      <th></th>\n",
       "      <th></th>\n",
       "      <th>flug</th>\n",
       "      <th>fldg</th>\n",
       "      <th>fnetg</th>\n",
       "    </tr>\n",
       "    <tr>\n",
       "      <th>pressure</th>\n",
       "      <th>level</th>\n",
       "      <th></th>\n",
       "      <th></th>\n",
       "      <th></th>\n",
       "    </tr>\n",
       "  </thead>\n",
       "  <tbody>\n",
       "    <tr>\n",
       "      <th>0.0000</th>\n",
       "      <th>1</th>\n",
       "      <td>-3.380518e-02</td>\n",
       "      <td>0.000000</td>\n",
       "      <td>-0.033805</td>\n",
       "    </tr>\n",
       "    <tr>\n",
       "      <th>1.0685</th>\n",
       "      <th>24</th>\n",
       "      <td>-3.380707e-02</td>\n",
       "      <td>-0.000008</td>\n",
       "      <td>-0.033815</td>\n",
       "    </tr>\n",
       "    <tr>\n",
       "      <th>1013.0000</th>\n",
       "      <th>76</th>\n",
       "      <td>-1.000000e-07</td>\n",
       "      <td>-0.052738</td>\n",
       "      <td>-0.052739</td>\n",
       "    </tr>\n",
       "  </tbody>\n",
       "</table>\n",
       "</div>"
      ],
      "text/plain": [
       "                         flug      fldg     fnetg\n",
       "pressure  level                                  \n",
       "0.0000    1     -3.380518e-02  0.000000 -0.033805\n",
       "1.0685    24    -3.380707e-02 -0.000008 -0.033815\n",
       "1013.0000 76    -1.000000e-07 -0.052738 -0.052739"
      ]
     },
     "metadata": {},
     "output_type": "display_data"
    },
    {
     "name": "stdout",
     "output_type": "stream",
     "text": [
      "Table. Fluxes. (WGT igg=10 wgt_flux=1) - (CRD)\n"
     ]
    },
    {
     "data": {
      "text/html": [
       "<div>\n",
       "<style scoped>\n",
       "    .dataframe tbody tr th:only-of-type {\n",
       "        vertical-align: middle;\n",
       "    }\n",
       "\n",
       "    .dataframe tbody tr th {\n",
       "        vertical-align: top;\n",
       "    }\n",
       "\n",
       "    .dataframe thead th {\n",
       "        text-align: right;\n",
       "    }\n",
       "</style>\n",
       "<table border=\"1\" class=\"dataframe\">\n",
       "  <thead>\n",
       "    <tr style=\"text-align: right;\">\n",
       "      <th></th>\n",
       "      <th></th>\n",
       "      <th>flug</th>\n",
       "      <th>fldg</th>\n",
       "      <th>fnetg</th>\n",
       "    </tr>\n",
       "    <tr>\n",
       "      <th>pressure</th>\n",
       "      <th>level</th>\n",
       "      <th></th>\n",
       "      <th></th>\n",
       "      <th></th>\n",
       "    </tr>\n",
       "  </thead>\n",
       "  <tbody>\n",
       "    <tr>\n",
       "      <th>0.0000</th>\n",
       "      <th>1</th>\n",
       "      <td>-0.039509</td>\n",
       "      <td>1.202576e-07</td>\n",
       "      <td>-0.039509</td>\n",
       "    </tr>\n",
       "    <tr>\n",
       "      <th>1.0685</th>\n",
       "      <th>24</th>\n",
       "      <td>-0.039512</td>\n",
       "      <td>-8.123012e-06</td>\n",
       "      <td>-0.039520</td>\n",
       "    </tr>\n",
       "    <tr>\n",
       "      <th>1013.0000</th>\n",
       "      <th>76</th>\n",
       "      <td>-0.000004</td>\n",
       "      <td>8.904320e-02</td>\n",
       "      <td>0.089039</td>\n",
       "    </tr>\n",
       "  </tbody>\n",
       "</table>\n",
       "</div>"
      ],
      "text/plain": [
       "                     flug          fldg     fnetg\n",
       "pressure  level                                  \n",
       "0.0000    1     -0.039509  1.202576e-07 -0.039509\n",
       "1.0685    24    -0.039512 -8.123012e-06 -0.039520\n",
       "1013.0000 76    -0.000004  8.904320e-02  0.089039"
      ]
     },
     "metadata": {},
     "output_type": "display_data"
    },
    {
     "name": "stdout",
     "output_type": "stream",
     "text": [
      "Table. Fluxes. (CLIRAD) - (CRD)\n"
     ]
    },
    {
     "data": {
      "text/html": [
       "<a id=\"Best-fit_Parameters\"></a>"
      ],
      "text/plain": [
       "<IPython.core.display.HTML object>"
      ]
     },
     "metadata": {},
     "output_type": "display_data"
    },
    {
     "data": {
      "text/markdown": [
       "# Best-fit Parameters"
      ],
      "text/plain": [
       "<IPython.core.display.Markdown object>"
      ]
     },
     "metadata": {},
     "output_type": "display_data"
    },
    {
     "name": "stdout",
     "output_type": "stream",
     "text": [
      "Best-fit values for each (gas, band)\n",
      "------------------------------------\n",
      "o h2o band4\n",
      "  atmpro = mls\n",
      "  band = 4\n",
      "  commitnumber = a06b618\n",
      "  conc = None\n",
      "  dv = 0.001\n",
      "  klin = 1e-24\n",
      "  molecule = h2o\n",
      "  ng_adju = [0]\n",
      "  ng_refs = [3]\n",
      "  nv = 1000\n",
      "  option_compute_btable = 0\n",
      "  option_compute_ktable = 1\n",
      "  option_wgt_flux = 1\n",
      "  option_wgt_k = 1\n",
      "  ref_pts = [(600, 250)]\n",
      "  tsfc = 294\n",
      "  vmax = 980\n",
      "  vmin = 800\n",
      "  w_diffuse = [(1.66, 1.66, 1.85)]\n",
      "  wgt = [(0.5, 0.55, 0.85)]\n"
     ]
    }
   ],
   "source": [
    "script()"
   ]
  },
  {
   "cell_type": "code",
   "execution_count": 13,
   "metadata": {
    "collapsed": true
   },
   "outputs": [
    {
     "data": {
      "text/html": [
       "<script>\n",
       "code_show=true; \n",
       "function code_toggle() {\n",
       " if (code_show){\n",
       " $('div.input').hide();\n",
       " } else {\n",
       " $('div.input').show();\n",
       " }\n",
       " code_show = !code_show\n",
       "} \n",
       "$( document ).ready(code_toggle);\n",
       "</script>\n",
       "<form action=\"javascript:code_toggle()\"><input type=\"submit\" value=\"Click here to toggle on/off the raw code.\"></form>"
      ],
      "text/plain": [
       "<IPython.core.display.HTML object>"
      ]
     },
     "execution_count": 13,
     "metadata": {},
     "output_type": "execute_result"
    }
   ],
   "source": [
    "display.HTML('''<script>\n",
    "code_show=true; \n",
    "function code_toggle() {\n",
    " if (code_show){\n",
    " $('div.input').hide();\n",
    " } else {\n",
    " $('div.input').show();\n",
    " }\n",
    " code_show = !code_show\n",
    "} \n",
    "$( document ).ready(code_toggle);\n",
    "</script>\n",
    "<form action=\"javascript:code_toggle()\"><input type=\"submit\" value=\"Click here to toggle on/off the raw code.\"></form>''')"
   ]
  }
 ],
 "metadata": {
  "kernelspec": {
   "display_name": "Python 3",
   "language": "python",
   "name": "python3"
  },
  "language_info": {
   "codemirror_mode": {
    "name": "ipython",
    "version": 3
   },
   "file_extension": ".py",
   "mimetype": "text/x-python",
   "name": "python",
   "nbconvert_exporter": "python",
   "pygments_lexer": "ipython3",
   "version": "3.6.1"
  }
 },
 "nbformat": 4,
 "nbformat_minor": 2
}
