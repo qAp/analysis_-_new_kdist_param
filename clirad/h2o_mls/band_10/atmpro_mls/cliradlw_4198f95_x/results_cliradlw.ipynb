{
 "cells": [
  {
   "cell_type": "code",
   "execution_count": 1,
   "metadata": {
    "collapsed": true
   },
   "outputs": [],
   "source": [
    "%matplotlib inline\n",
    "import os\n",
    "import re\n",
    "import io\n",
    "import itertools\n",
    "import pprint\n",
    "\n",
    "from bokeh.io import output_notebook, show\n",
    "from bokeh.layouts import gridplot\n",
    "from bokeh.plotting import figure\n",
    "from bokeh.models import Range1d, Legend\n",
    "from bokeh.palettes import all_palettes\n",
    "\n",
    "import matplotlib\n",
    "import matplotlib.pyplot as plt\n",
    "import numpy as np\n",
    "import pandas as pd\n",
    "import xarray as xr\n",
    "\n",
    "import climatools.lblnew.bestfit_params as bestfits\n",
    "from climatools.lblnew import setup_bestfit, setup_overlap\n",
    "import climatools.lblnew.pipeline as pipe_lblnew\n",
    "import climatools.cliradlw.setup as setup_cliradlw\n",
    "import climatools.cliradlw.pipeline as pipe_cliradlw\n",
    "\n",
    "import climatools.html.html as climahtml\n",
    "from climatools.lblnew.dataio import *\n",
    "from climatools.plot.plot import *\n",
    "\n",
    "\n",
    "import IPython.display as display"
   ]
  },
  {
   "cell_type": "code",
   "execution_count": 2,
   "metadata": {
    "collapsed": true
   },
   "outputs": [],
   "source": [
    "%run param.py"
   ]
  },
  {
   "cell_type": "code",
   "execution_count": 3,
   "metadata": {
    "collapsed": true
   },
   "outputs": [],
   "source": [
    "def load_output_file(path_csv):\n",
    "    '''\n",
    "    Load lblnew output .csv file to xarray.Dataset\n",
    "    \n",
    "    Parameters\n",
    "    ----------\n",
    "    path_csv: str\n",
    "              Path to the .csv file to be loaded.\n",
    "    ds: xarray.Dataset\n",
    "        Data in the input file in the form of an xarray.Dataset.\n",
    "    '''\n",
    "    toindex = ['band', 'pressure', 'igg', 'g']    \n",
    "    df = pd.read_csv(path_csv, sep=r'\\s+')\n",
    "    df = df.set_index([i for i in toindex if i in df.columns])\n",
    "    df = df.rename(columns={'sfu': 'flug',\n",
    "                            'sfd': 'fldg',\n",
    "                            'fnet': 'fnetg',\n",
    "                            'coolr': 'coolrg'})\n",
    "    ds = xr.Dataset.from_dataframe(df)\n",
    "\n",
    "    for l in ('level', 'layer'):\n",
    "        if l in ds.data_vars:\n",
    "            if len(ds[l].dims) > 1:\n",
    "                surface = {d: 0 for d in ds.dims if d != 'pressure'}\n",
    "                coord_level = ds[l][surface]\n",
    "                ds.coords[l] = ('pressure', coord_level)\n",
    "            else:\n",
    "                ds.coords[l] = ('pressure', ds[l])\n",
    "    \n",
    "    return ds"
   ]
  },
  {
   "cell_type": "code",
   "execution_count": 4,
   "metadata": {
    "collapsed": true
   },
   "outputs": [],
   "source": [
    "def lblnew_setup(param=None):\n",
    "    if 'ng_refs' in param:\n",
    "        return {'setup': setup_bestfit,\n",
    "                'fname_flux_crd': 'output_flux.dat',\n",
    "                'fname_cool_crd': 'output_coolr.dat',\n",
    "                'fname_flux_wgt': 'output_wfluxg.dat',\n",
    "                'fname_cool_wgt': 'output_wcoolrg.dat'}\n",
    "    else:\n",
    "        return {'setup': setup_overlap,\n",
    "                'fname_flux_crd': 'output_flux.dat',\n",
    "                'fname_cool_crd': 'output_coolr.dat',\n",
    "                'fname_flux_wgt': 'output_wflux.dat',\n",
    "                'fname_cool_wgt': 'output_wcoolr.dat'}\n",
    "\n",
    "    \n",
    "def load_lblnew_data(param):\n",
    "    \n",
    "    fname_dsname = [('fname_flux_crd', 'ds_flux_crd'),\n",
    "                    ('fname_cool_crd', 'ds_cool_crd'),\n",
    "                    ('fname_flux_wgt', 'ds_flux_wgt'),\n",
    "                    ('fname_cool_wgt', 'ds_cool_wgt')]\n",
    "    \n",
    "    d = lblnew_setup(param)\n",
    "    dir_fortran = pipe_lblnew.get_dir_case(param, setup=d['setup'])\n",
    "    \n",
    "    data_dict = {}\n",
    "    for fname, dsname in fname_dsname:\n",
    "        fpath = os.path.join(dir_fortran, d[fname])\n",
    "        data_dict[dsname] = load_output_file(fpath)\n",
    "    return data_dict\n",
    "    \n",
    "\n",
    "    \n",
    "    "
   ]
  },
  {
   "cell_type": "code",
   "execution_count": 5,
   "metadata": {
    "collapsed": true
   },
   "outputs": [],
   "source": [
    "d = load_lblnew_data(PARAM_LBLNEW)\n",
    "\n",
    "DS_FLUX_CRD = d['ds_flux_crd']\n",
    "DS_COOL_CRD = d['ds_cool_crd']\n",
    "DS_FLUX_WGT = d['ds_flux_wgt']\n",
    "DS_COOL_WGT = d['ds_cool_wgt']"
   ]
  },
  {
   "cell_type": "code",
   "execution_count": 6,
   "metadata": {
    "collapsed": true
   },
   "outputs": [],
   "source": [
    "DIR_FORTRAN = pipe_cliradlw.get_fortran_dir(PARAM, \n",
    "                                            setup=setup_cliradlw)\n",
    "\n",
    "PATH_FLUX = os.path.join(DIR_FORTRAN, 'output_flux.dat')\n",
    "PATH_COOL = os.path.join(DIR_FORTRAN, 'output_coolr.dat')\n",
    "\n",
    "DS_FLUX = load_output_file(PATH_FLUX)\n",
    "DS_COOL = load_output_file(PATH_COOL)"
   ]
  },
  {
   "cell_type": "code",
   "execution_count": 7,
   "metadata": {
    "collapsed": true
   },
   "outputs": [
    {
     "data": {
      "text/html": [
       "\n",
       "    <div class=\"bk-root\">\n",
       "        <a href=\"https://bokeh.pydata.org\" target=\"_blank\" class=\"bk-logo bk-logo-small bk-logo-notebook\"></a>\n",
       "        <span id=\"b71defd0-5e75-4cd2-8b07-8645bcff8748\">Loading BokehJS ...</span>\n",
       "    </div>"
      ]
     },
     "metadata": {},
     "output_type": "display_data"
    },
    {
     "data": {
      "application/javascript": [
       "\n",
       "(function(root) {\n",
       "  function now() {\n",
       "    return new Date();\n",
       "  }\n",
       "\n",
       "  var force = true;\n",
       "\n",
       "  if (typeof (root._bokeh_onload_callbacks) === \"undefined\" || force === true) {\n",
       "    root._bokeh_onload_callbacks = [];\n",
       "    root._bokeh_is_loading = undefined;\n",
       "  }\n",
       "\n",
       "  var JS_MIME_TYPE = 'application/javascript';\n",
       "  var HTML_MIME_TYPE = 'text/html';\n",
       "  var EXEC_MIME_TYPE = 'application/vnd.bokehjs_exec.v0+json';\n",
       "  var CLASS_NAME = 'output_bokeh rendered_html';\n",
       "\n",
       "  /**\n",
       "   * Render data to the DOM node\n",
       "   */\n",
       "  function render(props, node) {\n",
       "    var script = document.createElement(\"script\");\n",
       "    node.appendChild(script);\n",
       "  }\n",
       "\n",
       "  /**\n",
       "   * Handle when an output is cleared or removed\n",
       "   */\n",
       "  function handleClearOutput(event, handle) {\n",
       "    var cell = handle.cell;\n",
       "\n",
       "    var id = cell.output_area._bokeh_element_id;\n",
       "    var server_id = cell.output_area._bokeh_server_id;\n",
       "    // Clean up Bokeh references\n",
       "    if (id !== undefined) {\n",
       "      Bokeh.index[id].model.document.clear();\n",
       "      delete Bokeh.index[id];\n",
       "    }\n",
       "\n",
       "    if (server_id !== undefined) {\n",
       "      // Clean up Bokeh references\n",
       "      var cmd = \"from bokeh.io.state import curstate; print(curstate().uuid_to_server['\" + server_id + \"'].get_sessions()[0].document.roots[0]._id)\";\n",
       "      cell.notebook.kernel.execute(cmd, {\n",
       "        iopub: {\n",
       "          output: function(msg) {\n",
       "            var element_id = msg.content.text.trim();\n",
       "            Bokeh.index[element_id].model.document.clear();\n",
       "            delete Bokeh.index[element_id];\n",
       "          }\n",
       "        }\n",
       "      });\n",
       "      // Destroy server and session\n",
       "      var cmd = \"import bokeh.io.notebook as ion; ion.destroy_server('\" + server_id + \"')\";\n",
       "      cell.notebook.kernel.execute(cmd);\n",
       "    }\n",
       "  }\n",
       "\n",
       "  /**\n",
       "   * Handle when a new output is added\n",
       "   */\n",
       "  function handleAddOutput(event, handle) {\n",
       "    var output_area = handle.output_area;\n",
       "    var output = handle.output;\n",
       "\n",
       "    // limit handleAddOutput to display_data with EXEC_MIME_TYPE content only\n",
       "    if ((output.output_type != \"display_data\") || (!output.data.hasOwnProperty(EXEC_MIME_TYPE))) {\n",
       "      return\n",
       "    }\n",
       "\n",
       "    var toinsert = output_area.element.find(\".\" + CLASS_NAME.split(' ')[0]);\n",
       "\n",
       "    if (output.metadata[EXEC_MIME_TYPE][\"id\"] !== undefined) {\n",
       "      toinsert[toinsert.length - 1].firstChild.textContent = output.data[JS_MIME_TYPE];\n",
       "      // store reference to embed id on output_area\n",
       "      output_area._bokeh_element_id = output.metadata[EXEC_MIME_TYPE][\"id\"];\n",
       "    }\n",
       "    if (output.metadata[EXEC_MIME_TYPE][\"server_id\"] !== undefined) {\n",
       "      var bk_div = document.createElement(\"div\");\n",
       "      bk_div.innerHTML = output.data[HTML_MIME_TYPE];\n",
       "      var script_attrs = bk_div.children[0].attributes;\n",
       "      for (var i = 0; i < script_attrs.length; i++) {\n",
       "        toinsert[toinsert.length - 1].firstChild.setAttribute(script_attrs[i].name, script_attrs[i].value);\n",
       "      }\n",
       "      // store reference to server id on output_area\n",
       "      output_area._bokeh_server_id = output.metadata[EXEC_MIME_TYPE][\"server_id\"];\n",
       "    }\n",
       "  }\n",
       "\n",
       "  function register_renderer(events, OutputArea) {\n",
       "\n",
       "    function append_mime(data, metadata, element) {\n",
       "      // create a DOM node to render to\n",
       "      var toinsert = this.create_output_subarea(\n",
       "        metadata,\n",
       "        CLASS_NAME,\n",
       "        EXEC_MIME_TYPE\n",
       "      );\n",
       "      this.keyboard_manager.register_events(toinsert);\n",
       "      // Render to node\n",
       "      var props = {data: data, metadata: metadata[EXEC_MIME_TYPE]};\n",
       "      render(props, toinsert[toinsert.length - 1]);\n",
       "      element.append(toinsert);\n",
       "      return toinsert\n",
       "    }\n",
       "\n",
       "    /* Handle when an output is cleared or removed */\n",
       "    events.on('clear_output.CodeCell', handleClearOutput);\n",
       "    events.on('delete.Cell', handleClearOutput);\n",
       "\n",
       "    /* Handle when a new output is added */\n",
       "    events.on('output_added.OutputArea', handleAddOutput);\n",
       "\n",
       "    /**\n",
       "     * Register the mime type and append_mime function with output_area\n",
       "     */\n",
       "    OutputArea.prototype.register_mime_type(EXEC_MIME_TYPE, append_mime, {\n",
       "      /* Is output safe? */\n",
       "      safe: true,\n",
       "      /* Index of renderer in `output_area.display_order` */\n",
       "      index: 0\n",
       "    });\n",
       "  }\n",
       "\n",
       "  // register the mime type if in Jupyter Notebook environment and previously unregistered\n",
       "  if (root.Jupyter !== undefined) {\n",
       "    var events = require('base/js/events');\n",
       "    var OutputArea = require('notebook/js/outputarea').OutputArea;\n",
       "\n",
       "    if (OutputArea.prototype.mime_types().indexOf(EXEC_MIME_TYPE) == -1) {\n",
       "      register_renderer(events, OutputArea);\n",
       "    }\n",
       "  }\n",
       "\n",
       "  \n",
       "  if (typeof (root._bokeh_timeout) === \"undefined\" || force === true) {\n",
       "    root._bokeh_timeout = Date.now() + 5000;\n",
       "    root._bokeh_failed_load = false;\n",
       "  }\n",
       "\n",
       "  var NB_LOAD_WARNING = {'data': {'text/html':\n",
       "     \"<div style='background-color: #fdd'>\\n\"+\n",
       "     \"<p>\\n\"+\n",
       "     \"BokehJS does not appear to have successfully loaded. If loading BokehJS from CDN, this \\n\"+\n",
       "     \"may be due to a slow or bad network connection. Possible fixes:\\n\"+\n",
       "     \"</p>\\n\"+\n",
       "     \"<ul>\\n\"+\n",
       "     \"<li>re-rerun `output_notebook()` to attempt to load from CDN again, or</li>\\n\"+\n",
       "     \"<li>use INLINE resources instead, as so:</li>\\n\"+\n",
       "     \"</ul>\\n\"+\n",
       "     \"<code>\\n\"+\n",
       "     \"from bokeh.resources import INLINE\\n\"+\n",
       "     \"output_notebook(resources=INLINE)\\n\"+\n",
       "     \"</code>\\n\"+\n",
       "     \"</div>\"}};\n",
       "\n",
       "  function display_loaded() {\n",
       "    var el = document.getElementById(\"b71defd0-5e75-4cd2-8b07-8645bcff8748\");\n",
       "    if (el != null) {\n",
       "      el.textContent = \"BokehJS is loading...\";\n",
       "    }\n",
       "    if (root.Bokeh !== undefined) {\n",
       "      if (el != null) {\n",
       "        el.textContent = \"BokehJS \" + root.Bokeh.version + \" successfully loaded.\";\n",
       "      }\n",
       "    } else if (Date.now() < root._bokeh_timeout) {\n",
       "      setTimeout(display_loaded, 100)\n",
       "    }\n",
       "  }\n",
       "\n",
       "\n",
       "  function run_callbacks() {\n",
       "    try {\n",
       "      root._bokeh_onload_callbacks.forEach(function(callback) { callback() });\n",
       "    }\n",
       "    finally {\n",
       "      delete root._bokeh_onload_callbacks\n",
       "    }\n",
       "    console.info(\"Bokeh: all callbacks have finished\");\n",
       "  }\n",
       "\n",
       "  function load_libs(js_urls, callback) {\n",
       "    root._bokeh_onload_callbacks.push(callback);\n",
       "    if (root._bokeh_is_loading > 0) {\n",
       "      console.log(\"Bokeh: BokehJS is being loaded, scheduling callback at\", now());\n",
       "      return null;\n",
       "    }\n",
       "    if (js_urls == null || js_urls.length === 0) {\n",
       "      run_callbacks();\n",
       "      return null;\n",
       "    }\n",
       "    console.log(\"Bokeh: BokehJS not loaded, scheduling load and callback at\", now());\n",
       "    root._bokeh_is_loading = js_urls.length;\n",
       "    for (var i = 0; i < js_urls.length; i++) {\n",
       "      var url = js_urls[i];\n",
       "      var s = document.createElement('script');\n",
       "      s.src = url;\n",
       "      s.async = false;\n",
       "      s.onreadystatechange = s.onload = function() {\n",
       "        root._bokeh_is_loading--;\n",
       "        if (root._bokeh_is_loading === 0) {\n",
       "          console.log(\"Bokeh: all BokehJS libraries loaded\");\n",
       "          run_callbacks()\n",
       "        }\n",
       "      };\n",
       "      s.onerror = function() {\n",
       "        console.warn(\"failed to load library \" + url);\n",
       "      };\n",
       "      console.log(\"Bokeh: injecting script tag for BokehJS library: \", url);\n",
       "      document.getElementsByTagName(\"head\")[0].appendChild(s);\n",
       "    }\n",
       "  };var element = document.getElementById(\"b71defd0-5e75-4cd2-8b07-8645bcff8748\");\n",
       "  if (element == null) {\n",
       "    console.log(\"Bokeh: ERROR: autoload.js configured with elementid 'b71defd0-5e75-4cd2-8b07-8645bcff8748' but no matching script tag was found. \")\n",
       "    return false;\n",
       "  }\n",
       "\n",
       "  var js_urls = [\"https://cdn.pydata.org/bokeh/release/bokeh-0.12.16.min.js\", \"https://cdn.pydata.org/bokeh/release/bokeh-widgets-0.12.16.min.js\", \"https://cdn.pydata.org/bokeh/release/bokeh-tables-0.12.16.min.js\", \"https://cdn.pydata.org/bokeh/release/bokeh-gl-0.12.16.min.js\"];\n",
       "\n",
       "  var inline_js = [\n",
       "    function(Bokeh) {\n",
       "      Bokeh.set_log_level(\"info\");\n",
       "    },\n",
       "    \n",
       "    function(Bokeh) {\n",
       "      \n",
       "    },\n",
       "    function(Bokeh) {\n",
       "      console.log(\"Bokeh: injecting CSS: https://cdn.pydata.org/bokeh/release/bokeh-0.12.16.min.css\");\n",
       "      Bokeh.embed.inject_css(\"https://cdn.pydata.org/bokeh/release/bokeh-0.12.16.min.css\");\n",
       "      console.log(\"Bokeh: injecting CSS: https://cdn.pydata.org/bokeh/release/bokeh-widgets-0.12.16.min.css\");\n",
       "      Bokeh.embed.inject_css(\"https://cdn.pydata.org/bokeh/release/bokeh-widgets-0.12.16.min.css\");\n",
       "      console.log(\"Bokeh: injecting CSS: https://cdn.pydata.org/bokeh/release/bokeh-tables-0.12.16.min.css\");\n",
       "      Bokeh.embed.inject_css(\"https://cdn.pydata.org/bokeh/release/bokeh-tables-0.12.16.min.css\");\n",
       "    }\n",
       "  ];\n",
       "\n",
       "  function run_inline_js() {\n",
       "    \n",
       "    if ((root.Bokeh !== undefined) || (force === true)) {\n",
       "      for (var i = 0; i < inline_js.length; i++) {\n",
       "        inline_js[i].call(root, root.Bokeh);\n",
       "      }if (force === true) {\n",
       "        display_loaded();\n",
       "      }} else if (Date.now() < root._bokeh_timeout) {\n",
       "      setTimeout(run_inline_js, 100);\n",
       "    } else if (!root._bokeh_failed_load) {\n",
       "      console.log(\"Bokeh: BokehJS failed to load within specified timeout.\");\n",
       "      root._bokeh_failed_load = true;\n",
       "    } else if (force !== true) {\n",
       "      var cell = $(document.getElementById(\"b71defd0-5e75-4cd2-8b07-8645bcff8748\")).parents('.cell').data().cell;\n",
       "      cell.output_area.append_execute_result(NB_LOAD_WARNING)\n",
       "    }\n",
       "\n",
       "  }\n",
       "\n",
       "  if (root._bokeh_is_loading === 0) {\n",
       "    console.log(\"Bokeh: BokehJS loaded, going straight to plotting\");\n",
       "    run_inline_js();\n",
       "  } else {\n",
       "    load_libs(js_urls, function() {\n",
       "      console.log(\"Bokeh: BokehJS plotting callback run at\", now());\n",
       "      run_inline_js();\n",
       "    });\n",
       "  }\n",
       "}(window));"
      ],
      "application/vnd.bokehjs_load.v0+json": "\n(function(root) {\n  function now() {\n    return new Date();\n  }\n\n  var force = true;\n\n  if (typeof (root._bokeh_onload_callbacks) === \"undefined\" || force === true) {\n    root._bokeh_onload_callbacks = [];\n    root._bokeh_is_loading = undefined;\n  }\n\n  \n\n  \n  if (typeof (root._bokeh_timeout) === \"undefined\" || force === true) {\n    root._bokeh_timeout = Date.now() + 5000;\n    root._bokeh_failed_load = false;\n  }\n\n  var NB_LOAD_WARNING = {'data': {'text/html':\n     \"<div style='background-color: #fdd'>\\n\"+\n     \"<p>\\n\"+\n     \"BokehJS does not appear to have successfully loaded. If loading BokehJS from CDN, this \\n\"+\n     \"may be due to a slow or bad network connection. Possible fixes:\\n\"+\n     \"</p>\\n\"+\n     \"<ul>\\n\"+\n     \"<li>re-rerun `output_notebook()` to attempt to load from CDN again, or</li>\\n\"+\n     \"<li>use INLINE resources instead, as so:</li>\\n\"+\n     \"</ul>\\n\"+\n     \"<code>\\n\"+\n     \"from bokeh.resources import INLINE\\n\"+\n     \"output_notebook(resources=INLINE)\\n\"+\n     \"</code>\\n\"+\n     \"</div>\"}};\n\n  function display_loaded() {\n    var el = document.getElementById(\"b71defd0-5e75-4cd2-8b07-8645bcff8748\");\n    if (el != null) {\n      el.textContent = \"BokehJS is loading...\";\n    }\n    if (root.Bokeh !== undefined) {\n      if (el != null) {\n        el.textContent = \"BokehJS \" + root.Bokeh.version + \" successfully loaded.\";\n      }\n    } else if (Date.now() < root._bokeh_timeout) {\n      setTimeout(display_loaded, 100)\n    }\n  }\n\n\n  function run_callbacks() {\n    try {\n      root._bokeh_onload_callbacks.forEach(function(callback) { callback() });\n    }\n    finally {\n      delete root._bokeh_onload_callbacks\n    }\n    console.info(\"Bokeh: all callbacks have finished\");\n  }\n\n  function load_libs(js_urls, callback) {\n    root._bokeh_onload_callbacks.push(callback);\n    if (root._bokeh_is_loading > 0) {\n      console.log(\"Bokeh: BokehJS is being loaded, scheduling callback at\", now());\n      return null;\n    }\n    if (js_urls == null || js_urls.length === 0) {\n      run_callbacks();\n      return null;\n    }\n    console.log(\"Bokeh: BokehJS not loaded, scheduling load and callback at\", now());\n    root._bokeh_is_loading = js_urls.length;\n    for (var i = 0; i < js_urls.length; i++) {\n      var url = js_urls[i];\n      var s = document.createElement('script');\n      s.src = url;\n      s.async = false;\n      s.onreadystatechange = s.onload = function() {\n        root._bokeh_is_loading--;\n        if (root._bokeh_is_loading === 0) {\n          console.log(\"Bokeh: all BokehJS libraries loaded\");\n          run_callbacks()\n        }\n      };\n      s.onerror = function() {\n        console.warn(\"failed to load library \" + url);\n      };\n      console.log(\"Bokeh: injecting script tag for BokehJS library: \", url);\n      document.getElementsByTagName(\"head\")[0].appendChild(s);\n    }\n  };var element = document.getElementById(\"b71defd0-5e75-4cd2-8b07-8645bcff8748\");\n  if (element == null) {\n    console.log(\"Bokeh: ERROR: autoload.js configured with elementid 'b71defd0-5e75-4cd2-8b07-8645bcff8748' but no matching script tag was found. \")\n    return false;\n  }\n\n  var js_urls = [\"https://cdn.pydata.org/bokeh/release/bokeh-0.12.16.min.js\", \"https://cdn.pydata.org/bokeh/release/bokeh-widgets-0.12.16.min.js\", \"https://cdn.pydata.org/bokeh/release/bokeh-tables-0.12.16.min.js\", \"https://cdn.pydata.org/bokeh/release/bokeh-gl-0.12.16.min.js\"];\n\n  var inline_js = [\n    function(Bokeh) {\n      Bokeh.set_log_level(\"info\");\n    },\n    \n    function(Bokeh) {\n      \n    },\n    function(Bokeh) {\n      console.log(\"Bokeh: injecting CSS: https://cdn.pydata.org/bokeh/release/bokeh-0.12.16.min.css\");\n      Bokeh.embed.inject_css(\"https://cdn.pydata.org/bokeh/release/bokeh-0.12.16.min.css\");\n      console.log(\"Bokeh: injecting CSS: https://cdn.pydata.org/bokeh/release/bokeh-widgets-0.12.16.min.css\");\n      Bokeh.embed.inject_css(\"https://cdn.pydata.org/bokeh/release/bokeh-widgets-0.12.16.min.css\");\n      console.log(\"Bokeh: injecting CSS: https://cdn.pydata.org/bokeh/release/bokeh-tables-0.12.16.min.css\");\n      Bokeh.embed.inject_css(\"https://cdn.pydata.org/bokeh/release/bokeh-tables-0.12.16.min.css\");\n    }\n  ];\n\n  function run_inline_js() {\n    \n    if ((root.Bokeh !== undefined) || (force === true)) {\n      for (var i = 0; i < inline_js.length; i++) {\n        inline_js[i].call(root, root.Bokeh);\n      }if (force === true) {\n        display_loaded();\n      }} else if (Date.now() < root._bokeh_timeout) {\n      setTimeout(run_inline_js, 100);\n    } else if (!root._bokeh_failed_load) {\n      console.log(\"Bokeh: BokehJS failed to load within specified timeout.\");\n      root._bokeh_failed_load = true;\n    } else if (force !== true) {\n      var cell = $(document.getElementById(\"b71defd0-5e75-4cd2-8b07-8645bcff8748\")).parents('.cell').data().cell;\n      cell.output_area.append_execute_result(NB_LOAD_WARNING)\n    }\n\n  }\n\n  if (root._bokeh_is_loading === 0) {\n    console.log(\"Bokeh: BokehJS loaded, going straight to plotting\");\n    run_inline_js();\n  } else {\n    load_libs(js_urls, function() {\n      console.log(\"Bokeh: BokehJS plotting callback run at\", now());\n      run_inline_js();\n    });\n  }\n}(window));"
     },
     "metadata": {},
     "output_type": "display_data"
    }
   ],
   "source": [
    "output_notebook()"
   ]
  },
  {
   "cell_type": "code",
   "execution_count": 8,
   "metadata": {
    "collapsed": true
   },
   "outputs": [],
   "source": [
    "def fmt_cool(ds_in):\n",
    "    ds = ds_in.copy(deep=True)\n",
    "    if 'igg' in ds.dims:\n",
    "        ds = ds.sel(igg=1)\n",
    "\n",
    "    if 'g' in ds.dims:\n",
    "        ds = ds.sum('g')\n",
    "            \n",
    "    if 'band' in ds.dims:\n",
    "        try:\n",
    "            ds = ds.squeeze('band')\n",
    "        except ValueError:\n",
    "            ds = ds.sum('band')\n",
    "                \n",
    "    return ds['coolrg']\n",
    "\n",
    "\n",
    "def pltdata_cooling_1(ds_cool=None,\n",
    "                      ds_cool_crd=None, ds_cool_wgt=None):\n",
    "    \n",
    "\n",
    "\n",
    "    colors = all_palettes['Set1'][4]\n",
    "    data = [{'label': 'CLIRAD `coolr_bands`',\n",
    "             'srs': fmt_cool(ds_cool),\n",
    "             'line_dash': 'dashed', 'line_width': 5,\n",
    "             'color': colors[0], 'alpha': .6},\n",
    "            {'label': 'CRD',\n",
    "             'srs': fmt_cool(ds_cool_crd),\n",
    "             'line_dash': 'solid', 'line_width': 1.5,\n",
    "             'marker': 'circle', 'marker_size': 5,\n",
    "             'color': colors[2], 'alpha': 1,},\n",
    "            {'label': 'WGT igg=10 wgt_flux=2',\n",
    "             'srs': fmt_cool(ds_cool_wgt),\n",
    "             'line_dash': 'solid', 'line_width': 3,\n",
    "             'marker': 'square', 'marker_size': 5,\n",
    "             'color': colors[3], 'alpha': .6}]\n",
    "    return data\n",
    "\n",
    "\n",
    "def nice_xlims(pltdata=None, prange=None):\n",
    "    \n",
    "    def get_slice(srs):\n",
    "        return srs.sel(pressure=slice(*prange))\n",
    "    \n",
    "    srss = [d['srs'] for d in pltdata]\n",
    "    vmin = min([get_slice(srs).min() for srs in srss])\n",
    "    vmax = max([get_slice(srs).max() for srs in srss])\n",
    "    dv = (vmax - vmin) * .01\n",
    "    return float(vmin - dv), float(vmax + dv)\n",
    "    \n",
    "\n",
    "def plt_cooling_bokeh(pltdata=None):\n",
    "    '''\n",
    "    Plot a list of cooling rate profiles using bokeh.\n",
    "    '''\n",
    "    ymin = 1e-2 \n",
    "    ymax = 1020 \n",
    "        \n",
    "    p1 = figure(title=\"Linear pressure scale\", \n",
    "                plot_width=400)        \n",
    "    xmin, xmax = nice_xlims(pltdata, prange=(50, 1050))\n",
    "    for d in pltdata:\n",
    "        if 'marker' in d:\n",
    "            getattr(p1, d['marker'])(d['srs'].values, \n",
    "                    d['srs'].coords['pressure'].values,\n",
    "                    color=d['color'], alpha=.7)\n",
    "        p1.line(d['srs'].values, \n",
    "                d['srs'].coords['pressure'].values,\n",
    "                color=d['color'], alpha=d['alpha'], \n",
    "                line_width=d['line_width'], line_dash=d['line_dash'])\n",
    "    \n",
    "    p1.y_range = Range1d(ymax, ymin)\n",
    "    p1.yaxis.axis_label = 'pressure [mb]'   \n",
    "    p1.x_range = Range1d(xmin, xmax)\n",
    "    p1.xaxis.axis_label = 'cooling rate [K/day]'\n",
    "            \n",
    "    p2 = figure(title='Log pressure scale', y_axis_type='log',\n",
    "                plot_width=560)\n",
    "    xmin, xmax = nice_xlims(pltdata, prange=(.01, 200))\n",
    "    \n",
    "    rs = []\n",
    "    for d in pltdata:\n",
    "        rd = []\n",
    "        if 'marker' in d:\n",
    "            r_mark = getattr(p2, d['marker'])(d['srs'].values, \n",
    "                        d['srs'].coords['pressure'].values,\n",
    "                        color=d['color'], alpha=.7)\n",
    "            rd.append(r_mark)\n",
    "        r_line = p2.line(d['srs'].values, \n",
    "                    d['srs'].coords['pressure'].values,\n",
    "                    color=d['color'], alpha=d['alpha'], \n",
    "                    line_width=d['line_width'], line_dash=d['line_dash'])\n",
    "        rd.append(r_line)\n",
    "      \n",
    "        rs.append(rd)\n",
    "        \n",
    "    p2.y_range = Range1d(ymax, ymin)  \n",
    "    p2.yaxis.axis_label = 'pressure [mb]'\n",
    "    \n",
    "    p2.x_range = Range1d(xmin, xmax)\n",
    "    p2.xaxis.axis_label = 'cooling rate [K/day]'\n",
    "    \n",
    "    items = [(d['label'], r) for r, d in zip(rs, pltdata)]\n",
    "    legend = Legend(items=items, location=(10, -30))\n",
    "    legend.label_text_font_size = '8pt'\n",
    "    \n",
    "    p2.add_layout(legend, 'right')  \n",
    "    \n",
    "    show(gridplot(p1, p2, ncols=2, plot_height=500))\n",
    "    \n",
    "\n",
    "def script_plt_cooling():\n",
    "    pltdata = pltdata_cooling_1(\n",
    "        ds_cool=DS_COOL,\n",
    "        ds_cool_crd=DS_COOL_CRD,\n",
    "        ds_cool_wgt=DS_COOL_WGT)\n",
    "    plt_cooling_bokeh(pltdata=pltdata)\n",
    "    print('''FIGURE. Cooling rate profiles.''')"
   ]
  },
  {
   "cell_type": "code",
   "execution_count": 9,
   "metadata": {
    "collapsed": true
   },
   "outputs": [],
   "source": [
    "def fmt_flux(ds_in):\n",
    "    ds = ds_in.copy(deep=True)\n",
    "    \n",
    "    for l in ('level', 'layer'):\n",
    "        if l in ds.data_vars:\n",
    "            if len(ds[l].dims) > 1:\n",
    "                surface = {d: 0 for d in ds.dims if d != 'pressure'}\n",
    "                coord_level = ds[l][surface]\n",
    "                ds.coords[l] = ('pressure', coord_level)\n",
    "            else:\n",
    "                ds.coords[l] = ('pressure', ds[l])\n",
    "        \n",
    "    ds = ds.isel(pressure=[0, 23, -1])\n",
    "        \n",
    "    if 'igg' in ds.dims:\n",
    "        ds = ds.sel(igg=[1])\n",
    "        ds = ds.squeeze('igg').drop('igg')\n",
    "    \n",
    "    if 'g' in ds.dims:\n",
    "        ds = ds.sum('g')\n",
    "            \n",
    "    if 'band' in ds.dims:\n",
    "        try:\n",
    "            ds = ds.squeeze('band').drop('band')\n",
    "        except ValueError:\n",
    "            ds = ds.sum('band')\n",
    "                \n",
    "    df = ds.to_dataframe()\n",
    "    df = df.set_index('level', append=True)               \n",
    "    return df\n",
    "\n",
    "\n",
    "def tbdata_flux(ds_flux=None, ds_flux_crd=None, ds_flux_wgt=None):\n",
    "    ilevels = [0, 23, -1]\n",
    "            \n",
    "    benchmark = {'label': 'CRD',\n",
    "                 'df': fmt_flux(ds_flux_crd)}\n",
    "    \n",
    "    tbs = [{'label': 'WGT igg=10 wgt_flux=1',\n",
    "            'df': fmt_flux(ds_flux_wgt)},\n",
    "           {'label': 'CLIRAD',\n",
    "            'df': fmt_flux(ds_flux)}]\n",
    "    \n",
    "    data = {'benchmark': benchmark, 'others': tbs}\n",
    "    return data\n",
    "\n",
    "\n",
    "def tb_flux(tbdata=None):\n",
    "    benchmark = tbdata['benchmark']\n",
    "    others = tbdata['others']\n",
    "    \n",
    "    def show_tb(d=None):\n",
    "        display.display(d['df'])\n",
    "        print('Table.', 'Fluxes.', d['label'])\n",
    "        \n",
    "    def show_tbdiff(d0=None, d=None):\n",
    "        df = d['df']\n",
    "        df.index = d0['df'].index\n",
    "        display.display(df - d0['df'])\n",
    "        print('Table.', 'Fluxes.', \n",
    "              '({}) - ({})'.format(d['label'], d0['label']))\n",
    "        \n",
    "    show_tb(benchmark)\n",
    "    for d in others:\n",
    "        show_tb(d)\n",
    "        \n",
    "    for d in others:\n",
    "        show_tbdiff(d=d, d0=benchmark)\n",
    "        \n",
    "        \n",
    "def script_tb_flux():\n",
    "    data = tbdata_flux(ds_flux=DS_FLUX,\n",
    "                       ds_flux_crd=DS_FLUX_CRD,\n",
    "                       ds_flux_wgt=DS_FLUX_WGT)\n",
    "    tb_flux(tbdata=data)"
   ]
  },
  {
   "cell_type": "code",
   "execution_count": 10,
   "metadata": {
    "collapsed": true
   },
   "outputs": [],
   "source": [
    "def band_map():\n",
    "    '''\n",
    "    Maps spectral bands in lblnew to spectral bands in clirad.\n",
    "    '''\n",
    "    lblnew2clirad = {'1': '1',\n",
    "            '2': '2',\n",
    "            '3a': '3',\n",
    "            '3b': '4',\n",
    "            '3c': '5',\n",
    "            '4': '6', \n",
    "            '5': '7',\n",
    "            '6': '8',\n",
    "            '7': '9', \n",
    "            '8': '10',\n",
    "            '9': '11'}\n",
    "    \n",
    "    clirad2lblnew = {clirad: lblnew \n",
    "                     for lblnew, clirad in lblnew2clirad.items()}\n",
    "    return clirad2lblnew\n",
    "\n",
    "\n",
    "def gasbands():\n",
    "    bmap = band_map()\n",
    "    gases = list(PARAM['molecule'].keys())\n",
    "    \n",
    "    bands = [bmap[str(b)] for b in PARAM['band']]\n",
    "    return list(itertools.product(gases, bands))\n",
    "\n",
    "\n",
    "def print_bestfit_params():\n",
    "    print('Best-fit values for each (gas, band)')\n",
    "    print('------------------------------------')\n",
    "    for gas, band in gasbands():\n",
    "        print('o {} band{}'.format(gas, band))\n",
    "        param = bestfits.kdist_params(molecule=gas, band=band)\n",
    "        for name, value in sorted(param.items()):\n",
    "            print(2 * ' ' + '{} = {}'.format(name, value))\n",
    "\n",
    "        \n",
    "def print_input_param():        \n",
    "    for name, value in PARAM.items():\n",
    "        print('{} = {}'.format(name, value))\n",
    "        \n",
    "        \n",
    "def print_lblnew_param():\n",
    "    for name, value in sorted(PARAM_LBLNEW.items()):\n",
    "        print('{} = {}'.format(name, value))\n"
   ]
  },
  {
   "cell_type": "code",
   "execution_count": 11,
   "metadata": {
    "collapsed": true,
    "scrolled": false
   },
   "outputs": [],
   "source": [
    "def show_html(s):\n",
    "    display.display(display.HTML(s))\n",
    "\n",
    "    \n",
    "def show_markdown(s):\n",
    "    display.display(display.Markdown(s))\n",
    "\n",
    "    \n",
    "def script():\n",
    "    \n",
    "    title = '### CLIRAD-LW'\n",
    "    s_input = 'Input Parameters'\n",
    "    s_lblnew_param = 'LBLNEW case compaired against'\n",
    "    s_bestfits = 'Best-fit Parameters'\n",
    "    s_plt_cooling = 'Cooling Rate Profiles'\n",
    "    s_tb_flux = 'Flux Comparison'\n",
    "    \n",
    "    # title\n",
    "    show_markdown('### CLIRAD-LW')\n",
    "    \n",
    "    # TOC\n",
    "    show_markdown('### Table of Contents')\n",
    "    show_html(climahtml.getHTML_hrefanchor(s_input))\n",
    "    show_html(climahtml.getHTML_hrefanchor(s_lblnew_param))\n",
    "    show_html(climahtml.getHTML_hrefanchor(s_plt_cooling))\n",
    "    show_html(climahtml.getHTML_hrefanchor(s_tb_flux))\n",
    "    show_html(climahtml.getHTML_hrefanchor(s_bestfits))\n",
    "    \n",
    "    # Input parameters\n",
    "    show_html(climahtml.getHTML_idanchor(s_input))\n",
    "    show_markdown(climahtml.getMarkdown_sectitle(s_input))\n",
    "    print_input_param()\n",
    "    \n",
    "    # LBLNEW parameters \n",
    "    show_html(climahtml.getHTML_idanchor(s_lblnew_param))\n",
    "    show_markdown(climahtml.getMarkdown_sectitle(s_lblnew_param))\n",
    "    print_lblnew_param()\n",
    "    \n",
    "    # Cooling rate profiles\n",
    "    show_html(climahtml.getHTML_idanchor(s_plt_cooling))\n",
    "    show_markdown(climahtml.getMarkdown_sectitle(s_plt_cooling))\n",
    "    script_plt_cooling()\n",
    "    \n",
    "    # Flux comparison\n",
    "    show_html(climahtml.getHTML_idanchor(s_tb_flux))\n",
    "    show_markdown(climahtml.getMarkdown_sectitle(s_tb_flux))\n",
    "    script_tb_flux()\n",
    "    \n",
    "    # Best-fit values\n",
    "    show_html(climahtml.getHTML_idanchor(s_bestfits))\n",
    "    show_markdown(climahtml.getMarkdown_sectitle(s_bestfits))\n",
    "    print_bestfit_params()\n",
    "   \n",
    "    "
   ]
  },
  {
   "cell_type": "code",
   "execution_count": 12,
   "metadata": {
    "collapsed": true,
    "scrolled": false
   },
   "outputs": [
    {
     "data": {
      "text/markdown": [
       "### CLIRAD-LW"
      ],
      "text/plain": [
       "<IPython.core.display.Markdown object>"
      ]
     },
     "metadata": {},
     "output_type": "display_data"
    },
    {
     "data": {
      "text/markdown": [
       "### Table of Contents"
      ],
      "text/plain": [
       "<IPython.core.display.Markdown object>"
      ]
     },
     "metadata": {},
     "output_type": "display_data"
    },
    {
     "data": {
      "text/html": [
       "<a href=\"#Input_Parameters\">Input Parameters</a>"
      ],
      "text/plain": [
       "<IPython.core.display.HTML object>"
      ]
     },
     "metadata": {},
     "output_type": "display_data"
    },
    {
     "data": {
      "text/html": [
       "<a href=\"#LBLNEW_case_compaired_against\">LBLNEW case compaired against</a>"
      ],
      "text/plain": [
       "<IPython.core.display.HTML object>"
      ]
     },
     "metadata": {},
     "output_type": "display_data"
    },
    {
     "data": {
      "text/html": [
       "<a href=\"#Cooling_Rate_Profiles\">Cooling Rate Profiles</a>"
      ],
      "text/plain": [
       "<IPython.core.display.HTML object>"
      ]
     },
     "metadata": {},
     "output_type": "display_data"
    },
    {
     "data": {
      "text/html": [
       "<a href=\"#Flux_Comparison\">Flux Comparison</a>"
      ],
      "text/plain": [
       "<IPython.core.display.HTML object>"
      ]
     },
     "metadata": {},
     "output_type": "display_data"
    },
    {
     "data": {
      "text/html": [
       "<a href=\"#Best-fit_Parameters\">Best-fit Parameters</a>"
      ],
      "text/plain": [
       "<IPython.core.display.HTML object>"
      ]
     },
     "metadata": {},
     "output_type": "display_data"
    },
    {
     "data": {
      "text/html": [
       "<a id=\"Input_Parameters\"></a>"
      ],
      "text/plain": [
       "<IPython.core.display.HTML object>"
      ]
     },
     "metadata": {},
     "output_type": "display_data"
    },
    {
     "data": {
      "text/markdown": [
       "# Input Parameters"
      ],
      "text/plain": [
       "<IPython.core.display.Markdown object>"
      ]
     },
     "metadata": {},
     "output_type": "display_data"
    },
    {
     "name": "stdout",
     "output_type": "stream",
     "text": [
      "atmpro = mls\n",
      "band = [10]\n",
      "commitnumber = 4198f95_x\n",
      "molecule = {'h2o': 'atmpro'}\n",
      "tsfc = 294\n"
     ]
    },
    {
     "data": {
      "text/html": [
       "<a id=\"LBLNEW_case_compaired_against\"></a>"
      ],
      "text/plain": [
       "<IPython.core.display.HTML object>"
      ]
     },
     "metadata": {},
     "output_type": "display_data"
    },
    {
     "data": {
      "text/markdown": [
       "# LBLNEW case compaired against"
      ],
      "text/plain": [
       "<IPython.core.display.Markdown object>"
      ]
     },
     "metadata": {},
     "output_type": "display_data"
    },
    {
     "name": "stdout",
     "output_type": "stream",
     "text": [
      "atmpro = mls\n",
      "band = 8\n",
      "commitnumber = 5014a19\n",
      "conc = None\n",
      "dv = 0.001\n",
      "klin = 0\n",
      "molecule = h2o\n",
      "ng_adju = [0, -1, 0]\n",
      "ng_refs = [3, 2, 3]\n",
      "nv = 1000\n",
      "option_compute_btable = 0\n",
      "option_compute_ktable = 0\n",
      "option_wgt_flux = 1\n",
      "option_wgt_k = 1\n",
      "ref_pts = [(1, 250), (10, 250), (500, 250)]\n",
      "tsfc = 294\n",
      "vmax = 1900\n",
      "vmin = 1380\n",
      "w_diffuse = [(1.66, 1.66, 1.66), (1.66, 1.66), (1.66, 1.66, 1.66)]\n",
      "wgt = [(0.55, 0.55, 0.85), (0.85, 0.85), (0, 0.3, 0.55)]\n"
     ]
    },
    {
     "data": {
      "text/html": [
       "<a id=\"Cooling_Rate_Profiles\"></a>"
      ],
      "text/plain": [
       "<IPython.core.display.HTML object>"
      ]
     },
     "metadata": {},
     "output_type": "display_data"
    },
    {
     "data": {
      "text/markdown": [
       "# Cooling Rate Profiles"
      ],
      "text/plain": [
       "<IPython.core.display.Markdown object>"
      ]
     },
     "metadata": {},
     "output_type": "display_data"
    },
    {
     "data": {
      "text/html": [
       "\n",
       "<div class=\"bk-root\">\n",
       "    <div class=\"bk-plotdiv\" id=\"d6ebe488-a95e-4595-8cc5-aa728b825731\"></div>\n",
       "</div>"
      ]
     },
     "metadata": {},
     "output_type": "display_data"
    },
    {
     "data": {
      "application/javascript": [
       "(function(root) {\n",
       "  function embed_document(root) {\n",
       "    \n",
       "  var docs_json = {\"e1fc50c7-3937-494f-8302-7567daa64377\":{\"roots\":{\"references\":[{\"attributes\":{},\"id\":\"8619a125-90c3-469e-8e64-4fb707912993\",\"type\":\"UnionRenderers\"},{\"attributes\":{},\"id\":\"a1c74704-718f-4fb6-b652-9bd5a76ec414\",\"type\":\"Selection\"},{\"attributes\":{\"ticker\":null},\"id\":\"f43e7ebf-8fa1-4cfa-8bc1-2b92f734fcd4\",\"type\":\"LogTickFormatter\"},{\"attributes\":{\"plot\":null,\"text\":\"Linear pressure scale\"},\"id\":\"0081d2b6-b1ef-47e5-9f68-3714f92cda21\",\"type\":\"Title\"},{\"attributes\":{},\"id\":\"994595a4-37c4-4388-bf3f-1ae37f669460\",\"type\":\"BasicTickFormatter\"},{\"attributes\":{},\"id\":\"b2831b89-3874-4406-9299-8fdbf4bf330b\",\"type\":\"Selection\"},{\"attributes\":{},\"id\":\"b293b74b-aada-4ee5-8a51-e68ca79330a5\",\"type\":\"Selection\"},{\"attributes\":{},\"id\":\"553f146a-16d8-4ded-b935-59ca5483674b\",\"type\":\"UnionRenderers\"},{\"attributes\":{\"fill_alpha\":{\"value\":0.1},\"fill_color\":{\"value\":\"#1f77b4\"},\"line_alpha\":{\"value\":0.1},\"line_color\":{\"value\":\"#1f77b4\"},\"x\":{\"field\":\"x\"},\"y\":{\"field\":\"y\"}},\"id\":\"1fda570d-b648-46b3-aaaf-ea7ed2203375\",\"type\":\"Circle\"},{\"attributes\":{},\"id\":\"4815da44-7e2c-4316-816a-00cce723d95c\",\"type\":\"Selection\"},{\"attributes\":{},\"id\":\"c77c91df-c3ca-4cb9-a861-69ae575c98d5\",\"type\":\"Selection\"},{\"attributes\":{},\"id\":\"92692170-5861-42be-94a4-e9912403a3b6\",\"type\":\"Selection\"},{\"attributes\":{\"toolbar\":{\"id\":\"dd4ac6c2-5d17-4e5a-818f-943a5edd7b1d\",\"type\":\"ProxyToolbar\"},\"toolbar_location\":\"above\"},\"id\":\"808153ea-25d8-40c3-9ec0-001ca61d2146\",\"type\":\"ToolbarBox\"},{\"attributes\":{\"source\":{\"id\":\"c3b1a181-8965-492d-9a9f-8a561d670f7d\",\"type\":\"ColumnDataSource\"}},\"id\":\"975233c2-0d01-4686-addf-7b0d2a0b73f1\",\"type\":\"CDSView\"},{\"attributes\":{},\"id\":\"59dfa369-5ea1-4adc-b055-c329ce59da56\",\"type\":\"UnionRenderers\"},{\"attributes\":{\"line_alpha\":0.1,\"line_color\":\"#1f77b4\",\"line_width\":3,\"x\":{\"field\":\"x\"},\"y\":{\"field\":\"y\"}},\"id\":\"38c740fc-3bc6-4ec4-bf6d-edb0c5dd03c1\",\"type\":\"Line\"},{\"attributes\":{},\"id\":\"dfa0ddfe-7f58-4a94-9ed3-c1f3217676f0\",\"type\":\"UnionRenderers\"},{\"attributes\":{\"children\":[{\"id\":\"808153ea-25d8-40c3-9ec0-001ca61d2146\",\"type\":\"ToolbarBox\"},{\"id\":\"dd5659d0-b29a-468a-b11f-dc521848e86d\",\"type\":\"Column\"}]},\"id\":\"bc8bfc53-bf59-4086-ad8c-9a8b07bb983e\",\"type\":\"Column\"},{\"attributes\":{},\"id\":\"047ca13b-ccc6-4b59-8e7a-7485dd1c10b2\",\"type\":\"UnionRenderers\"},{\"attributes\":{\"tools\":[{\"id\":\"fe73d79d-c597-4bbf-a4b1-3439584e0ffd\",\"type\":\"PanTool\"},{\"id\":\"fb243d69-73a2-4415-b83c-5e6e9b3c443b\",\"type\":\"WheelZoomTool\"},{\"id\":\"cfc8e6bb-c3dd-4106-a7ff-8c06a6816683\",\"type\":\"BoxZoomTool\"},{\"id\":\"d583b4d8-aabf-48c1-bcaf-65c6906ca8b8\",\"type\":\"SaveTool\"},{\"id\":\"36e96dc7-c07f-4ada-b16f-9253cf9026b0\",\"type\":\"ResetTool\"},{\"id\":\"cc2f24ed-2078-4ae4-92be-f5c8020b422c\",\"type\":\"HelpTool\"},{\"id\":\"fda817f1-12b9-4cba-b463-d7e91890863d\",\"type\":\"PanTool\"},{\"id\":\"5ab51229-cf5b-42ea-9ba8-eed390b53789\",\"type\":\"WheelZoomTool\"},{\"id\":\"de2ac7a7-ba9b-4aa3-87fe-53e53f653133\",\"type\":\"BoxZoomTool\"},{\"id\":\"25d8a0d1-bd0c-4e04-b071-8f33e8ee21aa\",\"type\":\"SaveTool\"},{\"id\":\"f4ff6640-fe09-47c7-9988-6a476ca923ee\",\"type\":\"ResetTool\"},{\"id\":\"c239616d-921c-4432-8978-a97e46ae8a1b\",\"type\":\"HelpTool\"}]},\"id\":\"dd4ac6c2-5d17-4e5a-818f-943a5edd7b1d\",\"type\":\"ProxyToolbar\"},{\"attributes\":{\"callback\":null,\"data\":{\"x\":{\"__ndarray__\":\"YdrJEVqIw7/w2LpvA2vDv1V6ZYp6HMO//g7ud5rWwr/BXAqOD4PCv27XMehvPsK/p3fVk/P/wb9TX/wF/svBv4QwGgiZqsG/iKu8Y3Khwb+vGyCybLvBvyMQlCfJCcK/ZnWb9HOcwr9ui9xcBJPDvxwjzAaTE8S/C50d/FBHwr9ZpGCdl9G7v9lJxdHp1LC/WjR1sMnUjb++d7mKRq6nP6hhI35x6L4//7JraSpwzD+HzhuSYLPUP9WH7dkLgNI/gXSNyr6UxT9LmnZSw7u4P1fKo9sWf68/YqpOk5OTpT+tSGS2QligPzhXV5WvKZs/+ZuclwB/lj+rDi+5bymRP3WW9b3T4Io/VJwjCCMAhz+QJCpx8MGAPy4lSq/ecW8/VKorLNC6Vj+puNK0iWhLP9vc2Zv/m1C/Nhz68+Bkab+ZD/l532Mwv1qSYDR6VZM/VYsnpSiDqD858olaHvevP0crjouBkbE/gEetUMvRtD8n9PnQUPW4PzoLCun0QLw/hKc9WEdUvj+0WbVlvKS/PwKBD7fNScA/zc3nHSRmwD/OjXce91/AP90PBbIEGcA/nriaqlnDvj+yILbOYai8P5YxxMqEYbo/E8zz+3WXuD9mU2HN0Ju1P40hfu19OrI/CErwJMhwrj/ID8MnIp6pP9rjzV3i5qU/bSlAYmbuoj+3Cr6EYiKhPzBJO8/5A6E/lKs5TpXboj/KFEAvusykP4ZbeROApaM/48VdiXfTnT/KJ7whhiGTP5A4vlXSU4c/ttTHC7wYfz+N6B6n2Hh8PysN2cWMu74/\",\"dtype\":\"float64\",\"shape\":[75]},\"y\":{\"__ndarray__\":\"GhExyth1ND/Sv8nbtpRIP2vylNV0PVE/aTum7souWD/At0SJ8fVgPw3Iuahxymc/MSNhhJWvcD/bTfBN02d3P2zb5nxnaoA/CD5h5MAGhz8NmeH1TyaQP+zrCsc9p5Y/LbKd76fGnz/bLW5ISEmmPww9YvTcQq8/JV2OstnstT8Er5Y7M8G+P0c+r3jqkcU/5h99k6ZBzj88bCIzFzjVP4enV8oyxN0//yH99nXg5D8qOpLLf0jtP5kqGJXUifQ/c9cS8kHP/D+/DpwzojQEQIEmwoanVwxA4lgXt9HgE0BSSZ2AJuIbQAMJih9jjiNA5q4l5INuK0AwTKYKRj0zQNv5fmq8/DpAaCJseHrtQkB/+zpwzoxKQM3MzMzMeFJAZmZmZmZqWEAAAAAAAFxeQM3MzMzMJmJAmpmZmZkfZUBmZmZmZhhoQDMzMzMzEWtAAAAAAAAKbkBmZmZmZoFwQM3MzMzM/XFAMzMzMzN6c0CamZmZmfZ0QAAAAAAAc3ZAZmZmZmbvd0DNzMzMzGt5QDMzMzMz6HpAmpmZmZlkfEAAAAAAAOF9QGZmZmZmXX9AZmZmZuZsgECamZmZGSuBQM3MzMxM6YFAAAAAAICngkAzMzMzs2WDQGZmZmbmI4RAmpmZmRnihEDNzMzMTKCFQAAAAACAXoZAMzMzM7Mch0BmZmZm5tqHQJqZmZkZmYhAzczMzExXiUAAAAAAgBWKQDMzMzOz04pAZmZmZuaRi0CamZmZGVCMQM3MzMxMDo1AAAAAAIDMjUAzMzMzs4qOQGZmZmbmSI9A\",\"dtype\":\"float64\",\"shape\":[75]}},\"selected\":{\"id\":\"92692170-5861-42be-94a4-e9912403a3b6\",\"type\":\"Selection\"},\"selection_policy\":{\"id\":\"dfa0ddfe-7f58-4a94-9ed3-c1f3217676f0\",\"type\":\"UnionRenderers\"}},\"id\":\"94899b06-6054-4b86-a24e-4305c6115e0a\",\"type\":\"ColumnDataSource\"},{\"attributes\":{\"fill_alpha\":{\"value\":0.1},\"fill_color\":{\"value\":\"#1f77b4\"},\"line_alpha\":{\"value\":0.1},\"line_color\":{\"value\":\"#1f77b4\"},\"x\":{\"field\":\"x\"},\"y\":{\"field\":\"y\"}},\"id\":\"ce7d6276-b144-4516-abba-92c7d50d2ffd\",\"type\":\"Square\"},{\"attributes\":{},\"id\":\"94951e79-7fe6-4926-a580-3c98a92722eb\",\"type\":\"LinearScale\"},{\"attributes\":{\"source\":{\"id\":\"5d5a7099-0b50-4624-a236-b0f61691c342\",\"type\":\"ColumnDataSource\"}},\"id\":\"028b4f76-b07b-4998-a152-6792f504ef19\",\"type\":\"CDSView\"},{\"attributes\":{\"callback\":null,\"data\":{\"x\":{\"__ndarray__\":\"qromKG4qwb9XAPhMmxbBv7baolA/vcC/0laASvBhwL9/54t7+wzAv05uiK9+hb+/ObELL1YOv7/l04Rp776+v43xH9rgp76/FX6AIAbbvr+K6FOeq3O/vy2SPPgFS8C/zeD3iPs8wb9ZMZ450rbCv0dr0o6XxcO/2miMGG4nwr/8fnvozIe7v/tRkHx+yLC/f5KOtExtkL8dzBTd9BOmP01DO0Qv5b0/4ZKpo18yzD9jUo2omurUPxg/roncvtI/od+URaOzxT/xJDjhnf23PwWUB5uaAa0/FIizL5Skoz8DtabmY1ieP88WVy+bDZk/49quos/fkz/QqooB9veMP5X6vCbHRIY//K5nS78Egz8zKZ+MU2d8P13eq30SxG4/q8gkvxeBXj+vWK0XvbZSPzvRckZ+U0y/vzAO728Qab8I9hXWPT9Qvy70Vpcy9Iw/xci4ADkDpD8QJTnkjzexPyHGMbNLq7c/3gQ1NTZfuT8X+OUnMPi6P+0cmBbUO70/sCOrroVRvz+xJC8h1WbAP1Rz2s85qsA/4gogY4swwD+CxeHMr+a+P+/myhyiPL0/29iynWtvuz9B38yeuqi5P/l4g5B1Nrg/ISbKpqhvtz9JFEjzQXu1Px5qx0wj37I/Un2yJVUisD/5eVZJmRGrPzhIuCsciqY/tQI2LLX6oj8S5ST36MugP0rJ5x/BsKA/IMNq+W/Ioj8zNjKXbQqlP51pZIWSMaQ/7XfuXmpbnz87Lk+M0d+UPzRSCEc9Aos/x7qYpEIVgz+U5GcJzGiBP4U8J2K2Cb8/\",\"dtype\":\"float64\",\"shape\":[75]},\"y\":{\"__ndarray__\":\"GhExyth1ND/Sv8nbtpRIP2vylNV0PVE/aTum7souWD/At0SJ8fVgPw3Iuahxymc/MSNhhJWvcD/bTfBN02d3P2zb5nxnaoA/CD5h5MAGhz8NmeH1TyaQP+zrCsc9p5Y/LbKd76fGnz/bLW5ISEmmPww9YvTcQq8/JV2OstnstT8Er5Y7M8G+P0c+r3jqkcU/5h99k6ZBzj88bCIzFzjVP4enV8oyxN0//yH99nXg5D8qOpLLf0jtP5kqGJXUifQ/c9cS8kHP/D+/DpwzojQEQIEmwoanVwxA4lgXt9HgE0BSSZ2AJuIbQAMJih9jjiNA5q4l5INuK0AwTKYKRj0zQNv5fmq8/DpAaCJseHrtQkB/+zpwzoxKQM3MzMzMeFJAZmZmZmZqWEAAAAAAAFxeQM3MzMzMJmJAmpmZmZkfZUBmZmZmZhhoQDMzMzMzEWtAAAAAAAAKbkBmZmZmZoFwQM3MzMzM/XFAMzMzMzN6c0CamZmZmfZ0QAAAAAAAc3ZAZmZmZmbvd0DNzMzMzGt5QDMzMzMz6HpAmpmZmZlkfEAAAAAAAOF9QGZmZmZmXX9AZmZmZuZsgECamZmZGSuBQM3MzMxM6YFAAAAAAICngkAzMzMzs2WDQGZmZmbmI4RAmpmZmRnihEDNzMzMTKCFQAAAAACAXoZAMzMzM7Mch0BmZmZm5tqHQJqZmZkZmYhAzczMzExXiUAAAAAAgBWKQDMzMzOz04pAZmZmZuaRi0CamZmZGVCMQM3MzMxMDo1AAAAAAIDMjUAzMzMzs4qOQGZmZmbmSI9A\",\"dtype\":\"float64\",\"shape\":[75]}},\"selected\":{\"id\":\"c77c91df-c3ca-4cb9-a861-69ae575c98d5\",\"type\":\"Selection\"},\"selection_policy\":{\"id\":\"553f146a-16d8-4ded-b935-59ca5483674b\",\"type\":\"UnionRenderers\"}},\"id\":\"c3b1a181-8965-492d-9a9f-8a561d670f7d\",\"type\":\"ColumnDataSource\"},{\"attributes\":{\"line_color\":\"#4daf4a\",\"line_width\":1.5,\"x\":{\"field\":\"x\"},\"y\":{\"field\":\"y\"}},\"id\":\"04ce7e3a-e138-4e6f-9ffb-65261ada2e95\",\"type\":\"Line\"},{\"attributes\":{\"data_source\":{\"id\":\"c3b1a181-8965-492d-9a9f-8a561d670f7d\",\"type\":\"ColumnDataSource\"},\"glyph\":{\"id\":\"3169c400-0948-497f-a0b3-146051ceba4c\",\"type\":\"Circle\"},\"hover_glyph\":null,\"muted_glyph\":null,\"nonselection_glyph\":{\"id\":\"1fda570d-b648-46b3-aaaf-ea7ed2203375\",\"type\":\"Circle\"},\"selection_glyph\":null,\"view\":{\"id\":\"975233c2-0d01-4686-addf-7b0d2a0b73f1\",\"type\":\"CDSView\"}},\"id\":\"843e2014-028b-4162-89ce-917f4b95b6a3\",\"type\":\"GlyphRenderer\"},{\"attributes\":{\"callback\":null,\"end\":0.13740663340536,\"start\":-0.00449101394136},\"id\":\"77e99e65-23c1-4f59-8002-caebb61e453c\",\"type\":\"Range1d\"},{\"attributes\":{\"below\":[{\"id\":\"4c71bbc5-070c-4a3f-b846-3e1b578d1621\",\"type\":\"LinearAxis\"}],\"left\":[{\"id\":\"d38cf5ff-770c-41f8-bc74-cca387bb238b\",\"type\":\"LogAxis\"}],\"plot_height\":500,\"plot_width\":560,\"renderers\":[{\"id\":\"4c71bbc5-070c-4a3f-b846-3e1b578d1621\",\"type\":\"LinearAxis\"},{\"id\":\"4a270595-47e0-469d-a784-cad1c63a11b8\",\"type\":\"Grid\"},{\"id\":\"d38cf5ff-770c-41f8-bc74-cca387bb238b\",\"type\":\"LogAxis\"},{\"id\":\"b5c6eeb3-ddf9-4236-b814-7a36e2c88d6c\",\"type\":\"Grid\"},{\"id\":\"7a2262bc-9fda-4cf5-a4f7-72228ed71695\",\"type\":\"BoxAnnotation\"},{\"id\":\"620a8ed7-4fc1-4b9c-a0ee-450253728f9b\",\"type\":\"GlyphRenderer\"},{\"id\":\"843e2014-028b-4162-89ce-917f4b95b6a3\",\"type\":\"GlyphRenderer\"},{\"id\":\"7fedb3d8-20a5-4be0-87f4-5a5b6ad50a43\",\"type\":\"GlyphRenderer\"},{\"id\":\"d7f6d411-608d-42e6-80d0-802337934478\",\"type\":\"GlyphRenderer\"},{\"id\":\"2c634c08-b10c-4f76-9eee-3135314f42c1\",\"type\":\"GlyphRenderer\"},{\"id\":\"ff8ca395-c912-49b9-ae5f-3d1e94d8a579\",\"type\":\"Legend\"}],\"right\":[{\"id\":\"ff8ca395-c912-49b9-ae5f-3d1e94d8a579\",\"type\":\"Legend\"}],\"title\":{\"id\":\"b77a3f36-4fcc-43a4-b33f-5c55906bc21f\",\"type\":\"Title\"},\"toolbar\":{\"id\":\"dd094f28-487c-4c51-b14e-88b5f0c643fa\",\"type\":\"Toolbar\"},\"toolbar_location\":null,\"x_range\":{\"id\":\"b75c6303-4e9f-4236-8db0-4fecc2441e4d\",\"type\":\"Range1d\"},\"x_scale\":{\"id\":\"684d74ef-a91c-4d8e-b11e-af91c1818ca5\",\"type\":\"LinearScale\"},\"y_range\":{\"id\":\"fb25b207-ff09-4df3-b4cd-2a0d84029fc0\",\"type\":\"Range1d\"},\"y_scale\":{\"id\":\"ee7ee511-2ecc-4fa0-9a14-55118ff1ff1f\",\"type\":\"LogScale\"}},\"id\":\"c1f52295-a558-4052-96ce-a5a95919a55f\",\"subtype\":\"Figure\",\"type\":\"Plot\"},{\"attributes\":{},\"id\":\"08141a80-cbe6-4506-b7dc-a7c8ca42400c\",\"type\":\"LinearScale\"},{\"attributes\":{\"source\":{\"id\":\"6c3b55e3-0d5b-47d6-8a85-25f607dd6a64\",\"type\":\"ColumnDataSource\"}},\"id\":\"a7cbbf0b-e3c9-4dd2-b77a-bc045a7338a8\",\"type\":\"CDSView\"},{\"attributes\":{\"children\":[{\"id\":\"f3b6f217-83d8-49ff-9c4e-46b295c46c35\",\"type\":\"Row\"}]},\"id\":\"dd5659d0-b29a-468a-b11f-dc521848e86d\",\"type\":\"Column\"},{\"attributes\":{\"fill_alpha\":{\"value\":0.7},\"fill_color\":{\"value\":\"#4daf4a\"},\"line_alpha\":{\"value\":0.7},\"line_color\":{\"value\":\"#4daf4a\"},\"x\":{\"field\":\"x\"},\"y\":{\"field\":\"y\"}},\"id\":\"3169c400-0948-497f-a0b3-146051ceba4c\",\"type\":\"Circle\"},{\"attributes\":{\"callback\":null,\"data\":{\"x\":{\"__ndarray__\":\"qromKG4qwb9XAPhMmxbBv7baolA/vcC/0laASvBhwL9/54t7+wzAv05uiK9+hb+/ObELL1YOv7/l04Rp776+v43xH9rgp76/FX6AIAbbvr+K6FOeq3O/vy2SPPgFS8C/zeD3iPs8wb9ZMZ450rbCv0dr0o6XxcO/2miMGG4nwr/8fnvozIe7v/tRkHx+yLC/f5KOtExtkL8dzBTd9BOmP01DO0Qv5b0/4ZKpo18yzD9jUo2omurUPxg/roncvtI/od+URaOzxT/xJDjhnf23PwWUB5uaAa0/FIizL5Skoz8DtabmY1ieP88WVy+bDZk/49quos/fkz/QqooB9veMP5X6vCbHRIY//K5nS78Egz8zKZ+MU2d8P13eq30SxG4/q8gkvxeBXj+vWK0XvbZSPzvRckZ+U0y/vzAO728Qab8I9hXWPT9Qvy70Vpcy9Iw/xci4ADkDpD8QJTnkjzexPyHGMbNLq7c/3gQ1NTZfuT8X+OUnMPi6P+0cmBbUO70/sCOrroVRvz+xJC8h1WbAP1Rz2s85qsA/4gogY4swwD+CxeHMr+a+P+/myhyiPL0/29iynWtvuz9B38yeuqi5P/l4g5B1Nrg/ISbKpqhvtz9JFEjzQXu1Px5qx0wj37I/Un2yJVUisD/5eVZJmRGrPzhIuCsciqY/tQI2LLX6oj8S5ST36MugP0rJ5x/BsKA/IMNq+W/Ioj8zNjKXbQqlP51pZIWSMaQ/7XfuXmpbnz87Lk+M0d+UPzRSCEc9Aos/x7qYpEIVgz+U5GcJzGiBP4U8J2K2Cb8/\",\"dtype\":\"float64\",\"shape\":[75]},\"y\":{\"__ndarray__\":\"GhExyth1ND/Sv8nbtpRIP2vylNV0PVE/aTum7souWD/At0SJ8fVgPw3Iuahxymc/MSNhhJWvcD/bTfBN02d3P2zb5nxnaoA/CD5h5MAGhz8NmeH1TyaQP+zrCsc9p5Y/LbKd76fGnz/bLW5ISEmmPww9YvTcQq8/JV2OstnstT8Er5Y7M8G+P0c+r3jqkcU/5h99k6ZBzj88bCIzFzjVP4enV8oyxN0//yH99nXg5D8qOpLLf0jtP5kqGJXUifQ/c9cS8kHP/D+/DpwzojQEQIEmwoanVwxA4lgXt9HgE0BSSZ2AJuIbQAMJih9jjiNA5q4l5INuK0AwTKYKRj0zQNv5fmq8/DpAaCJseHrtQkB/+zpwzoxKQM3MzMzMeFJAZmZmZmZqWEAAAAAAAFxeQM3MzMzMJmJAmpmZmZkfZUBmZmZmZhhoQDMzMzMzEWtAAAAAAAAKbkBmZmZmZoFwQM3MzMzM/XFAMzMzMzN6c0CamZmZmfZ0QAAAAAAAc3ZAZmZmZmbvd0DNzMzMzGt5QDMzMzMz6HpAmpmZmZlkfEAAAAAAAOF9QGZmZmZmXX9AZmZmZuZsgECamZmZGSuBQM3MzMxM6YFAAAAAAICngkAzMzMzs2WDQGZmZmbmI4RAmpmZmRnihEDNzMzMTKCFQAAAAACAXoZAMzMzM7Mch0BmZmZm5tqHQJqZmZkZmYhAzczMzExXiUAAAAAAgBWKQDMzMzOz04pAZmZmZuaRi0CamZmZGVCMQM3MzMxMDo1AAAAAAIDMjUAzMzMzs4qOQGZmZmbmSI9A\",\"dtype\":\"float64\",\"shape\":[75]}},\"selected\":{\"id\":\"4815da44-7e2c-4316-816a-00cce723d95c\",\"type\":\"Selection\"},\"selection_policy\":{\"id\":\"59dfa369-5ea1-4adc-b055-c329ce59da56\",\"type\":\"UnionRenderers\"}},\"id\":\"76ada769-70c3-4fff-b2f4-74adc5fd62d8\",\"type\":\"ColumnDataSource\"},{\"attributes\":{\"line_alpha\":0.1,\"line_color\":\"#1f77b4\",\"line_width\":1.5,\"x\":{\"field\":\"x\"},\"y\":{\"field\":\"y\"}},\"id\":\"c421a140-2d39-484f-9d20-4a0c673d442f\",\"type\":\"Line\"},{\"attributes\":{\"axis_label\":\"cooling rate [K/day]\",\"formatter\":{\"id\":\"e99ec16f-1def-4812-9f24-1bf32fa0d262\",\"type\":\"BasicTickFormatter\"},\"plot\":{\"id\":\"c5727adb-4538-4ccd-8a8b-c0d28d97d602\",\"subtype\":\"Figure\",\"type\":\"Plot\"},\"ticker\":{\"id\":\"7644fa19-b364-45d9-9c94-cbfc154c376c\",\"type\":\"BasicTicker\"}},\"id\":\"cc0069f2-5907-4554-99e4-2a0971d9a139\",\"type\":\"LinearAxis\"},{\"attributes\":{\"data_source\":{\"id\":\"76ada769-70c3-4fff-b2f4-74adc5fd62d8\",\"type\":\"ColumnDataSource\"},\"glyph\":{\"id\":\"04ce7e3a-e138-4e6f-9ffb-65261ada2e95\",\"type\":\"Line\"},\"hover_glyph\":null,\"muted_glyph\":null,\"nonselection_glyph\":{\"id\":\"c421a140-2d39-484f-9d20-4a0c673d442f\",\"type\":\"Line\"},\"selection_glyph\":null,\"view\":{\"id\":\"fa60415d-7be8-4c16-8590-352479c92052\",\"type\":\"CDSView\"}},\"id\":\"7fedb3d8-20a5-4be0-87f4-5a5b6ad50a43\",\"type\":\"GlyphRenderer\"},{\"attributes\":{\"line_alpha\":0.6,\"line_color\":\"#e41a1c\",\"line_dash\":[6],\"line_width\":5,\"x\":{\"field\":\"x\"},\"y\":{\"field\":\"y\"}},\"id\":\"d1c19389-ce0a-4df2-b3f5-6c471af27a6e\",\"type\":\"Line\"},{\"attributes\":{\"source\":{\"id\":\"76ada769-70c3-4fff-b2f4-74adc5fd62d8\",\"type\":\"ColumnDataSource\"}},\"id\":\"fa60415d-7be8-4c16-8590-352479c92052\",\"type\":\"CDSView\"},{\"attributes\":{\"fill_alpha\":{\"value\":0.7},\"fill_color\":{\"value\":\"#984ea3\"},\"line_alpha\":{\"value\":0.7},\"line_color\":{\"value\":\"#984ea3\"},\"x\":{\"field\":\"x\"},\"y\":{\"field\":\"y\"}},\"id\":\"aca1cb32-56b7-4c2f-b469-ec640e7d8815\",\"type\":\"Square\"},{\"attributes\":{\"data_source\":{\"id\":\"a64abb9d-a61b-4637-b411-0dd6ecb5382e\",\"type\":\"ColumnDataSource\"},\"glyph\":{\"id\":\"4e60fdd7-91b9-42a2-9b9e-5bd701c12134\",\"type\":\"Line\"},\"hover_glyph\":null,\"muted_glyph\":null,\"nonselection_glyph\":{\"id\":\"38c740fc-3bc6-4ec4-bf6d-edb0c5dd03c1\",\"type\":\"Line\"},\"selection_glyph\":null,\"view\":{\"id\":\"3ca026d2-1872-4fa6-9ad9-b94817566a7f\",\"type\":\"CDSView\"}},\"id\":\"2c634c08-b10c-4f76-9eee-3135314f42c1\",\"type\":\"GlyphRenderer\"},{\"attributes\":{\"line_alpha\":0.6,\"line_color\":\"#984ea3\",\"line_width\":3,\"x\":{\"field\":\"x\"},\"y\":{\"field\":\"y\"}},\"id\":\"4e60fdd7-91b9-42a2-9b9e-5bd701c12134\",\"type\":\"Line\"},{\"attributes\":{\"callback\":null,\"end\":0.01,\"start\":1020},\"id\":\"ddc52be2-b058-4af6-b4c5-480f69bff428\",\"type\":\"Range1d\"},{\"attributes\":{\"source\":{\"id\":\"a64abb9d-a61b-4637-b411-0dd6ecb5382e\",\"type\":\"ColumnDataSource\"}},\"id\":\"3ca026d2-1872-4fa6-9ad9-b94817566a7f\",\"type\":\"CDSView\"},{\"attributes\":{\"children\":[{\"id\":\"c5727adb-4538-4ccd-8a8b-c0d28d97d602\",\"subtype\":\"Figure\",\"type\":\"Plot\"},{\"id\":\"c1f52295-a558-4052-96ce-a5a95919a55f\",\"subtype\":\"Figure\",\"type\":\"Plot\"}]},\"id\":\"f3b6f217-83d8-49ff-9c4e-46b295c46c35\",\"type\":\"Row\"},{\"attributes\":{},\"id\":\"7644fa19-b364-45d9-9c94-cbfc154c376c\",\"type\":\"BasicTicker\"},{\"attributes\":{\"label\":{\"value\":\"CLIRAD `coolr_bands`\"},\"renderers\":[{\"id\":\"620a8ed7-4fc1-4b9c-a0ee-450253728f9b\",\"type\":\"GlyphRenderer\"}]},\"id\":\"5d70e5ec-c24a-484e-97b7-670578fb5582\",\"type\":\"LegendItem\"},{\"attributes\":{},\"id\":\"e99ec16f-1def-4812-9f24-1bf32fa0d262\",\"type\":\"BasicTickFormatter\"},{\"attributes\":{\"label\":{\"value\":\"CRD\"},\"renderers\":[{\"id\":\"843e2014-028b-4162-89ce-917f4b95b6a3\",\"type\":\"GlyphRenderer\"},{\"id\":\"7fedb3d8-20a5-4be0-87f4-5a5b6ad50a43\",\"type\":\"GlyphRenderer\"}]},\"id\":\"7b39333b-c0e8-4be8-938d-c77f62c72db9\",\"type\":\"LegendItem\"},{\"attributes\":{},\"id\":\"210ea47d-4140-4bd2-b6b3-8fc41544d04a\",\"type\":\"Selection\"},{\"attributes\":{\"label\":{\"value\":\"WGT igg=10 wgt_flux=2\"},\"renderers\":[{\"id\":\"d7f6d411-608d-42e6-80d0-802337934478\",\"type\":\"GlyphRenderer\"},{\"id\":\"2c634c08-b10c-4f76-9eee-3135314f42c1\",\"type\":\"GlyphRenderer\"}]},\"id\":\"5d4ac64f-98a7-4c19-b511-538e5963d143\",\"type\":\"LegendItem\"},{\"attributes\":{},\"id\":\"96cfaa54-57c9-4a58-ab00-d9247f908ef7\",\"type\":\"UnionRenderers\"},{\"attributes\":{},\"id\":\"61418bee-68df-42c0-a4b0-9c6273ecf0f4\",\"type\":\"BasicTickFormatter\"},{\"attributes\":{\"callback\":null,\"data\":{\"x\":{\"__ndarray__\":\"YdrJEVqIw7/w2LpvA2vDv1V6ZYp6HMO//g7ud5rWwr/BXAqOD4PCv27XMehvPsK/p3fVk/P/wb9TX/wF/svBv4QwGgiZqsG/iKu8Y3Khwb+vGyCybLvBvyMQlCfJCcK/ZnWb9HOcwr9ui9xcBJPDvxwjzAaTE8S/C50d/FBHwr9ZpGCdl9G7v9lJxdHp1LC/WjR1sMnUjb++d7mKRq6nP6hhI35x6L4//7JraSpwzD+HzhuSYLPUP9WH7dkLgNI/gXSNyr6UxT9LmnZSw7u4P1fKo9sWf68/YqpOk5OTpT+tSGS2QligPzhXV5WvKZs/+ZuclwB/lj+rDi+5bymRP3WW9b3T4Io/VJwjCCMAhz+QJCpx8MGAPy4lSq/ecW8/VKorLNC6Vj+puNK0iWhLP9vc2Zv/m1C/Nhz68+Bkab+ZD/l532Mwv1qSYDR6VZM/VYsnpSiDqD858olaHvevP0crjouBkbE/gEetUMvRtD8n9PnQUPW4PzoLCun0QLw/hKc9WEdUvj+0WbVlvKS/PwKBD7fNScA/zc3nHSRmwD/OjXce91/AP90PBbIEGcA/nriaqlnDvj+yILbOYai8P5YxxMqEYbo/E8zz+3WXuD9mU2HN0Ju1P40hfu19OrI/CErwJMhwrj/ID8MnIp6pP9rjzV3i5qU/bSlAYmbuoj+3Cr6EYiKhPzBJO8/5A6E/lKs5TpXboj/KFEAvusykP4ZbeROApaM/48VdiXfTnT/KJ7whhiGTP5A4vlXSU4c/ttTHC7wYfz+N6B6n2Hh8PysN2cWMu74/\",\"dtype\":\"float64\",\"shape\":[75]},\"y\":{\"__ndarray__\":\"GhExyth1ND/Sv8nbtpRIP2vylNV0PVE/aTum7souWD/At0SJ8fVgPw3Iuahxymc/MSNhhJWvcD/bTfBN02d3P2zb5nxnaoA/CD5h5MAGhz8NmeH1TyaQP+zrCsc9p5Y/LbKd76fGnz/bLW5ISEmmPww9YvTcQq8/JV2OstnstT8Er5Y7M8G+P0c+r3jqkcU/5h99k6ZBzj88bCIzFzjVP4enV8oyxN0//yH99nXg5D8qOpLLf0jtP5kqGJXUifQ/c9cS8kHP/D+/DpwzojQEQIEmwoanVwxA4lgXt9HgE0BSSZ2AJuIbQAMJih9jjiNA5q4l5INuK0AwTKYKRj0zQNv5fmq8/DpAaCJseHrtQkB/+zpwzoxKQM3MzMzMeFJAZmZmZmZqWEAAAAAAAFxeQM3MzMzMJmJAmpmZmZkfZUBmZmZmZhhoQDMzMzMzEWtAAAAAAAAKbkBmZmZmZoFwQM3MzMzM/XFAMzMzMzN6c0CamZmZmfZ0QAAAAAAAc3ZAZmZmZmbvd0DNzMzMzGt5QDMzMzMz6HpAmpmZmZlkfEAAAAAAAOF9QGZmZmZmXX9AZmZmZuZsgECamZmZGSuBQM3MzMxM6YFAAAAAAICngkAzMzMzs2WDQGZmZmbmI4RAmpmZmRnihEDNzMzMTKCFQAAAAACAXoZAMzMzM7Mch0BmZmZm5tqHQJqZmZkZmYhAzczMzExXiUAAAAAAgBWKQDMzMzOz04pAZmZmZuaRi0CamZmZGVCMQM3MzMxMDo1AAAAAAIDMjUAzMzMzs4qOQGZmZmbmSI9A\",\"dtype\":\"float64\",\"shape\":[75]}},\"selected\":{\"id\":\"210ea47d-4140-4bd2-b6b3-8fc41544d04a\",\"type\":\"Selection\"},\"selection_policy\":{\"id\":\"c66877db-23b6-4217-bceb-d21d34107eac\",\"type\":\"UnionRenderers\"}},\"id\":\"0a008fdf-833a-4712-9b9e-c451e1e5a5d3\",\"type\":\"ColumnDataSource\"},{\"attributes\":{},\"id\":\"06477fb1-d659-4af2-8901-a12aeebf3b4b\",\"type\":\"Selection\"},{\"attributes\":{},\"id\":\"c66877db-23b6-4217-bceb-d21d34107eac\",\"type\":\"UnionRenderers\"},{\"attributes\":{\"below\":[{\"id\":\"cc0069f2-5907-4554-99e4-2a0971d9a139\",\"type\":\"LinearAxis\"}],\"left\":[{\"id\":\"6500cf06-bb5f-457d-afbe-f04530f99bf5\",\"type\":\"LinearAxis\"}],\"plot_height\":500,\"plot_width\":400,\"renderers\":[{\"id\":\"cc0069f2-5907-4554-99e4-2a0971d9a139\",\"type\":\"LinearAxis\"},{\"id\":\"13954824-b9a6-4d99-bc40-0bbda80dcc38\",\"type\":\"Grid\"},{\"id\":\"6500cf06-bb5f-457d-afbe-f04530f99bf5\",\"type\":\"LinearAxis\"},{\"id\":\"67011442-7ff7-4122-8374-2574502b0c6d\",\"type\":\"Grid\"},{\"id\":\"36b08f18-1f58-4fc9-9370-199487b0f4e6\",\"type\":\"BoxAnnotation\"},{\"id\":\"51878f21-9f48-4d4c-ad7e-b7bfc12ba285\",\"type\":\"GlyphRenderer\"},{\"id\":\"c719ba05-5b93-41b8-bb24-29f6f6013f91\",\"type\":\"GlyphRenderer\"},{\"id\":\"ae4d51f0-9205-434f-bca7-b15efaf6efcb\",\"type\":\"GlyphRenderer\"},{\"id\":\"2d8d930f-9c2e-4f91-a717-95fb19cf99cf\",\"type\":\"GlyphRenderer\"},{\"id\":\"580fb61f-ecc0-49d9-acab-5c1f663e53f4\",\"type\":\"GlyphRenderer\"}],\"title\":{\"id\":\"0081d2b6-b1ef-47e5-9f68-3714f92cda21\",\"type\":\"Title\"},\"toolbar\":{\"id\":\"9c40aff4-3022-4e47-aafe-1232f3edaed5\",\"type\":\"Toolbar\"},\"toolbar_location\":null,\"x_range\":{\"id\":\"77e99e65-23c1-4f59-8002-caebb61e453c\",\"type\":\"Range1d\"},\"x_scale\":{\"id\":\"08141a80-cbe6-4506-b7dc-a7c8ca42400c\",\"type\":\"LinearScale\"},\"y_range\":{\"id\":\"ddc52be2-b058-4af6-b4c5-480f69bff428\",\"type\":\"Range1d\"},\"y_scale\":{\"id\":\"94951e79-7fe6-4926-a580-3c98a92722eb\",\"type\":\"LinearScale\"}},\"id\":\"c5727adb-4538-4ccd-8a8b-c0d28d97d602\",\"subtype\":\"Figure\",\"type\":\"Plot\"},{\"attributes\":{},\"id\":\"5d747721-53f3-4682-875d-727b0d308cc8\",\"type\":\"UnionRenderers\"},{\"attributes\":{},\"id\":\"59cca627-1f97-42cb-bba6-57b8ec995e46\",\"type\":\"Selection\"},{\"attributes\":{},\"id\":\"5a998e26-4cf7-478c-a964-527d146bddae\",\"type\":\"Selection\"},{\"attributes\":{\"active_drag\":\"auto\",\"active_inspect\":\"auto\",\"active_scroll\":\"auto\",\"active_tap\":\"auto\",\"tools\":[{\"id\":\"fe73d79d-c597-4bbf-a4b1-3439584e0ffd\",\"type\":\"PanTool\"},{\"id\":\"fb243d69-73a2-4415-b83c-5e6e9b3c443b\",\"type\":\"WheelZoomTool\"},{\"id\":\"cfc8e6bb-c3dd-4106-a7ff-8c06a6816683\",\"type\":\"BoxZoomTool\"},{\"id\":\"d583b4d8-aabf-48c1-bcaf-65c6906ca8b8\",\"type\":\"SaveTool\"},{\"id\":\"36e96dc7-c07f-4ada-b16f-9253cf9026b0\",\"type\":\"ResetTool\"},{\"id\":\"cc2f24ed-2078-4ae4-92be-f5c8020b422c\",\"type\":\"HelpTool\"}]},\"id\":\"9c40aff4-3022-4e47-aafe-1232f3edaed5\",\"type\":\"Toolbar\"},{\"attributes\":{},\"id\":\"8ea7b235-b710-478a-a4a5-e8dac24526ff\",\"type\":\"UnionRenderers\"},{\"attributes\":{},\"id\":\"6ec4b3f5-ea48-4d8c-a014-c82380a151f6\",\"type\":\"UnionRenderers\"},{\"attributes\":{},\"id\":\"d583b4d8-aabf-48c1-bcaf-65c6906ca8b8\",\"type\":\"SaveTool\"},{\"attributes\":{\"bottom_units\":\"screen\",\"fill_alpha\":{\"value\":0.5},\"fill_color\":{\"value\":\"lightgrey\"},\"left_units\":\"screen\",\"level\":\"overlay\",\"line_alpha\":{\"value\":1.0},\"line_color\":{\"value\":\"black\"},\"line_dash\":[4,4],\"line_width\":{\"value\":2},\"plot\":null,\"render_mode\":\"css\",\"right_units\":\"screen\",\"top_units\":\"screen\"},\"id\":\"36b08f18-1f58-4fc9-9370-199487b0f4e6\",\"type\":\"BoxAnnotation\"},{\"attributes\":{},\"id\":\"c239616d-921c-4432-8978-a97e46ae8a1b\",\"type\":\"HelpTool\"},{\"attributes\":{},\"id\":\"ee7ee511-2ecc-4fa0-9a14-55118ff1ff1f\",\"type\":\"LogScale\"},{\"attributes\":{\"callback\":null,\"data\":{\"x\":{\"__ndarray__\":\"YdrJEVqIw7/w2LpvA2vDv1V6ZYp6HMO//g7ud5rWwr/BXAqOD4PCv27XMehvPsK/p3fVk/P/wb9TX/wF/svBv4QwGgiZqsG/iKu8Y3Khwb+vGyCybLvBvyMQlCfJCcK/ZnWb9HOcwr9ui9xcBJPDvxwjzAaTE8S/C50d/FBHwr9ZpGCdl9G7v9lJxdHp1LC/WjR1sMnUjb++d7mKRq6nP6hhI35x6L4//7JraSpwzD+HzhuSYLPUP9WH7dkLgNI/gXSNyr6UxT9LmnZSw7u4P1fKo9sWf68/YqpOk5OTpT+tSGS2QligPzhXV5WvKZs/+ZuclwB/lj+rDi+5bymRP3WW9b3T4Io/VJwjCCMAhz+QJCpx8MGAPy4lSq/ecW8/VKorLNC6Vj+puNK0iWhLP9vc2Zv/m1C/Nhz68+Bkab+ZD/l532Mwv1qSYDR6VZM/VYsnpSiDqD858olaHvevP0crjouBkbE/gEetUMvRtD8n9PnQUPW4PzoLCun0QLw/hKc9WEdUvj+0WbVlvKS/PwKBD7fNScA/zc3nHSRmwD/OjXce91/AP90PBbIEGcA/nriaqlnDvj+yILbOYai8P5YxxMqEYbo/E8zz+3WXuD9mU2HN0Ju1P40hfu19OrI/CErwJMhwrj/ID8MnIp6pP9rjzV3i5qU/bSlAYmbuoj+3Cr6EYiKhPzBJO8/5A6E/lKs5TpXboj/KFEAvusykP4ZbeROApaM/48VdiXfTnT/KJ7whhiGTP5A4vlXSU4c/ttTHC7wYfz+N6B6n2Hh8PysN2cWMu74/\",\"dtype\":\"float64\",\"shape\":[75]},\"y\":{\"__ndarray__\":\"GhExyth1ND/Sv8nbtpRIP2vylNV0PVE/aTum7souWD/At0SJ8fVgPw3Iuahxymc/MSNhhJWvcD/bTfBN02d3P2zb5nxnaoA/CD5h5MAGhz8NmeH1TyaQP+zrCsc9p5Y/LbKd76fGnz/bLW5ISEmmPww9YvTcQq8/JV2OstnstT8Er5Y7M8G+P0c+r3jqkcU/5h99k6ZBzj88bCIzFzjVP4enV8oyxN0//yH99nXg5D8qOpLLf0jtP5kqGJXUifQ/c9cS8kHP/D+/DpwzojQEQIEmwoanVwxA4lgXt9HgE0BSSZ2AJuIbQAMJih9jjiNA5q4l5INuK0AwTKYKRj0zQNv5fmq8/DpAaCJseHrtQkB/+zpwzoxKQM3MzMzMeFJAZmZmZmZqWEAAAAAAAFxeQM3MzMzMJmJAmpmZmZkfZUBmZmZmZhhoQDMzMzMzEWtAAAAAAAAKbkBmZmZmZoFwQM3MzMzM/XFAMzMzMzN6c0CamZmZmfZ0QAAAAAAAc3ZAZmZmZmbvd0DNzMzMzGt5QDMzMzMz6HpAmpmZmZlkfEAAAAAAAOF9QGZmZmZmXX9AZmZmZuZsgECamZmZGSuBQM3MzMxM6YFAAAAAAICngkAzMzMzs2WDQGZmZmbmI4RAmpmZmRnihEDNzMzMTKCFQAAAAACAXoZAMzMzM7Mch0BmZmZm5tqHQJqZmZkZmYhAzczMzExXiUAAAAAAgBWKQDMzMzOz04pAZmZmZuaRi0CamZmZGVCMQM3MzMxMDo1AAAAAAIDMjUAzMzMzs4qOQGZmZmbmSI9A\",\"dtype\":\"float64\",\"shape\":[75]}},\"selected\":{\"id\":\"b2831b89-3874-4406-9299-8fdbf4bf330b\",\"type\":\"Selection\"},\"selection_policy\":{\"id\":\"047ca13b-ccc6-4b59-8e7a-7485dd1c10b2\",\"type\":\"UnionRenderers\"}},\"id\":\"a64abb9d-a61b-4637-b411-0dd6ecb5382e\",\"type\":\"ColumnDataSource\"},{\"attributes\":{\"callback\":null,\"data\":{\"x\":{\"__ndarray__\":\"meoTir7MxL/0/AZ5f7TEvwVa9C33csS/ODYS00stxL8J9C6D1ujDvzY5neByp8O/jtWccjtqw79jf7gvkDXDv59Bv8ZgC8O/pb7Jwhn0wr8+Qd6C1/TCv/x/avYfHcO/WOSV8957w786It+l1CXEvzCwllTQYcS/HpHn4aF7wr/9Gw8RkmC8v03/lFXRUrG/uY7eYfSLj79EZkUM7/2nPxWLACM/Tb8/v1VL+K1vzD8GBnvZl2jUP3usz4vJEdI/pafhvoLyxD+Ltm9dTXi4P0V0ao9gqK8/CJ1eyVjkpD9oBiG7M1yePwu/ikKBLZk/EKEmB6eWlT/hR4vssK2QP8CnINzw/Yk/TxY9PsHIhj9m9TbIMN+APw+EN+5MXWw/tYv6NDxkSD/ely446W43P8V1toZlOlO/voOYNXyFaL86epjxQy/1vvbcp4IIc5Q/zs+Oze7GqT+VXmabxdKtP+dcCyzgG7A/0koDOvGntT9ShdyY4My6P2SPcUGNrb0/Z2iXyjbLvj/w7J9l5bC/P04hX1uip8A/1elA1lMrwT9ZxCyL9GjBP/LxZJLs7MA/kxay41Slvz9L1MGwsmy8P1MnDSbfG7k/Lt3bL8qstj/oLe6kXYOzPxhundhztLA/YCVrSVGrrD/iEO7x6YGoP6sAy4n3laQ/N9fnbCwhoj8Cqj6rWj+ePz68rxYUEJ8/OBzaI3tUoD+a/Nc46R2jPwlPkvVuCKI/V9D7mVYXmz86/8UfhAGRP4dlz4DjO4Q/vz78Ncdkej9JYZALvWt4P+y3nyFWXr4/\",\"dtype\":\"float64\",\"shape\":[75]},\"y\":{\"__ndarray__\":\"S/O/Q+51ND/Sv8nbtpRIP2vylNV0PVE/aTum7souWD/At0SJ8fVgPw3Iuahxymc/MSNhhJWvcD/bTfBN02d3P2zb5nxnaoA/CD5h5MAGhz8NmeH1TyaQP+zrCsc9p5Y/LbKd76fGnz/bLW5ISEmmPww9YvTcQq8/JV2OstnstT8Er5Y7M8G+P0c+r3jqkcU/5h99k6ZBzj88bCIzFzjVP4enV8oyxN0//yH99nXg5D8qOpLLf0jtP5kqGJXUifQ/c9cS8kHP/D+/DpwzojQEQIEmwoanVwxA4lgXt9HgE0BSSZ2AJuIbQAMJih9jjiNA5q4l5INuK0AwTKYKRj0zQNv5fmq8/DpAaCJseHrtQkB/+zpwzoxKQM3MzMzMeFJAZmZmZmZqWEAAAAAAAFxeQM3MzMzMJmJAmpmZmZkfZUBmZmZmZhhoQDMzMzMzEWtAAAAAAAAKbkBmZmZmZoFwQM3MzMzM/XFAMzMzMzN6c0CamZmZmfZ0QAAAAAAAc3ZAZmZmZmbvd0DNzMzMzGt5QDMzMzMz6HpAmpmZmZlkfEAAAAAAAOF9QGZmZmZmXX9AZmZmZuZsgECamZmZGSuBQM3MzMxM6YFAAAAAAICngkAzMzMzs2WDQGZmZmbmI4RAmpmZmRnihEDNzMzMTKCFQAAAAACAXoZAMzMzM7Mch0BmZmZm5tqHQJqZmZkZmYhAzczMzExXiUAAAAAAgBWKQDMzMzOz04pAZmZmZuaRi0CamZmZGVCMQM3MzMxMDo1AAAAAAIDMjUAzMzMzs4qOQGZmZmbmSI9A\",\"dtype\":\"float64\",\"shape\":[75]}},\"selected\":{\"id\":\"59cca627-1f97-42cb-bba6-57b8ec995e46\",\"type\":\"Selection\"},\"selection_policy\":{\"id\":\"96cfaa54-57c9-4a58-ab00-d9247f908ef7\",\"type\":\"UnionRenderers\"}},\"id\":\"bac39a9f-ca67-4ae9-a7e9-348d191cb28b\",\"type\":\"ColumnDataSource\"},{\"attributes\":{\"source\":{\"id\":\"94899b06-6054-4b86-a24e-4305c6115e0a\",\"type\":\"ColumnDataSource\"}},\"id\":\"89d21369-9cac-47ea-bea2-fae8262817d7\",\"type\":\"CDSView\"},{\"attributes\":{},\"id\":\"36e96dc7-c07f-4ada-b16f-9253cf9026b0\",\"type\":\"ResetTool\"},{\"attributes\":{\"data_source\":{\"id\":\"5d5a7099-0b50-4624-a236-b0f61691c342\",\"type\":\"ColumnDataSource\"},\"glyph\":{\"id\":\"9a2efd01-46d5-458b-9428-988e96d78654\",\"type\":\"Line\"},\"hover_glyph\":null,\"muted_glyph\":null,\"nonselection_glyph\":{\"id\":\"76e2e87a-f3a5-4529-845e-80a6c83e9e45\",\"type\":\"Line\"},\"selection_glyph\":null,\"view\":{\"id\":\"028b4f76-b07b-4998-a152-6792f504ef19\",\"type\":\"CDSView\"}},\"id\":\"ae4d51f0-9205-434f-bca7-b15efaf6efcb\",\"type\":\"GlyphRenderer\"},{\"attributes\":{},\"id\":\"fb243d69-73a2-4415-b83c-5e6e9b3c443b\",\"type\":\"WheelZoomTool\"},{\"attributes\":{\"data_source\":{\"id\":\"6c3b55e3-0d5b-47d6-8a85-25f607dd6a64\",\"type\":\"ColumnDataSource\"},\"glyph\":{\"id\":\"3b5b4196-df33-4b9b-8625-323ee6667b01\",\"type\":\"Line\"},\"hover_glyph\":null,\"muted_glyph\":null,\"nonselection_glyph\":{\"id\":\"663e7e99-a3f8-4e29-a3fe-1ecabdf8356e\",\"type\":\"Line\"},\"selection_glyph\":null,\"view\":{\"id\":\"a7cbbf0b-e3c9-4dd2-b77a-bc045a7338a8\",\"type\":\"CDSView\"}},\"id\":\"620a8ed7-4fc1-4b9c-a0ee-450253728f9b\",\"type\":\"GlyphRenderer\"},{\"attributes\":{},\"id\":\"fe73d79d-c597-4bbf-a4b1-3439584e0ffd\",\"type\":\"PanTool\"},{\"attributes\":{\"dimension\":1,\"plot\":{\"id\":\"c5727adb-4538-4ccd-8a8b-c0d28d97d602\",\"subtype\":\"Figure\",\"type\":\"Plot\"},\"ticker\":{\"id\":\"3008da67-1d96-4135-bd76-0cc5417a0867\",\"type\":\"BasicTicker\"}},\"id\":\"67011442-7ff7-4122-8374-2574502b0c6d\",\"type\":\"Grid\"},{\"attributes\":{\"plot\":{\"id\":\"c1f52295-a558-4052-96ce-a5a95919a55f\",\"subtype\":\"Figure\",\"type\":\"Plot\"},\"ticker\":{\"id\":\"2f6e111b-db07-46d0-9dc3-1ad8f4ffb87d\",\"type\":\"BasicTicker\"}},\"id\":\"4a270595-47e0-469d-a784-cad1c63a11b8\",\"type\":\"Grid\"},{\"attributes\":{\"overlay\":{\"id\":\"36b08f18-1f58-4fc9-9370-199487b0f4e6\",\"type\":\"BoxAnnotation\"}},\"id\":\"cfc8e6bb-c3dd-4106-a7ff-8c06a6816683\",\"type\":\"BoxZoomTool\"},{\"attributes\":{\"plot\":null,\"text\":\"Log pressure scale\"},\"id\":\"b77a3f36-4fcc-43a4-b33f-5c55906bc21f\",\"type\":\"Title\"},{\"attributes\":{\"source\":{\"id\":\"0a008fdf-833a-4712-9b9e-c451e1e5a5d3\",\"type\":\"ColumnDataSource\"}},\"id\":\"12a3f817-3070-4f50-bb27-d07d0649c810\",\"type\":\"CDSView\"},{\"attributes\":{},\"id\":\"2f6e111b-db07-46d0-9dc3-1ad8f4ffb87d\",\"type\":\"BasicTicker\"},{\"attributes\":{\"active_drag\":\"auto\",\"active_inspect\":\"auto\",\"active_scroll\":\"auto\",\"active_tap\":\"auto\",\"tools\":[{\"id\":\"fda817f1-12b9-4cba-b463-d7e91890863d\",\"type\":\"PanTool\"},{\"id\":\"5ab51229-cf5b-42ea-9ba8-eed390b53789\",\"type\":\"WheelZoomTool\"},{\"id\":\"de2ac7a7-ba9b-4aa3-87fe-53e53f653133\",\"type\":\"BoxZoomTool\"},{\"id\":\"25d8a0d1-bd0c-4e04-b071-8f33e8ee21aa\",\"type\":\"SaveTool\"},{\"id\":\"f4ff6640-fe09-47c7-9988-6a476ca923ee\",\"type\":\"ResetTool\"},{\"id\":\"c239616d-921c-4432-8978-a97e46ae8a1b\",\"type\":\"HelpTool\"}]},\"id\":\"dd094f28-487c-4c51-b14e-88b5f0c643fa\",\"type\":\"Toolbar\"},{\"attributes\":{\"plot\":{\"id\":\"c5727adb-4538-4ccd-8a8b-c0d28d97d602\",\"subtype\":\"Figure\",\"type\":\"Plot\"},\"ticker\":{\"id\":\"7644fa19-b364-45d9-9c94-cbfc154c376c\",\"type\":\"BasicTicker\"}},\"id\":\"13954824-b9a6-4d99-bc40-0bbda80dcc38\",\"type\":\"Grid\"},{\"attributes\":{\"callback\":null,\"end\":0.01,\"start\":1020},\"id\":\"fb25b207-ff09-4df3-b4cd-2a0d84029fc0\",\"type\":\"Range1d\"},{\"attributes\":{\"callback\":null,\"end\":0.33167964139999995,\"start\":-0.1640955814},\"id\":\"b75c6303-4e9f-4236-8db0-4fecc2441e4d\",\"type\":\"Range1d\"},{\"attributes\":{},\"id\":\"3008da67-1d96-4135-bd76-0cc5417a0867\",\"type\":\"BasicTicker\"},{\"attributes\":{\"line_alpha\":0.1,\"line_color\":\"#1f77b4\",\"line_width\":3,\"x\":{\"field\":\"x\"},\"y\":{\"field\":\"y\"}},\"id\":\"3d872434-4bda-4bde-a8fc-39955fc0ea9e\",\"type\":\"Line\"},{\"attributes\":{},\"id\":\"684d74ef-a91c-4d8e-b11e-af91c1818ca5\",\"type\":\"LinearScale\"},{\"attributes\":{\"source\":{\"id\":\"bac39a9f-ca67-4ae9-a7e9-348d191cb28b\",\"type\":\"ColumnDataSource\"}},\"id\":\"ea892b57-d647-42fd-af82-481e6f8af597\",\"type\":\"CDSView\"},{\"attributes\":{\"line_alpha\":0.6,\"line_color\":\"#e41a1c\",\"line_dash\":[6],\"line_width\":5,\"x\":{\"field\":\"x\"},\"y\":{\"field\":\"y\"}},\"id\":\"3b5b4196-df33-4b9b-8625-323ee6667b01\",\"type\":\"Line\"},{\"attributes\":{\"items\":[{\"id\":\"5d70e5ec-c24a-484e-97b7-670578fb5582\",\"type\":\"LegendItem\"},{\"id\":\"7b39333b-c0e8-4be8-938d-c77f62c72db9\",\"type\":\"LegendItem\"},{\"id\":\"5d4ac64f-98a7-4c19-b511-538e5963d143\",\"type\":\"LegendItem\"}],\"label_text_font_size\":{\"value\":\"8pt\"},\"location\":[10,-30],\"plot\":{\"id\":\"c1f52295-a558-4052-96ce-a5a95919a55f\",\"subtype\":\"Figure\",\"type\":\"Plot\"}},\"id\":\"ff8ca395-c912-49b9-ae5f-3d1e94d8a579\",\"type\":\"Legend\"},{\"attributes\":{},\"id\":\"5ab51229-cf5b-42ea-9ba8-eed390b53789\",\"type\":\"WheelZoomTool\"},{\"attributes\":{\"fill_alpha\":{\"value\":0.7},\"fill_color\":{\"value\":\"#4daf4a\"},\"line_alpha\":{\"value\":0.7},\"line_color\":{\"value\":\"#4daf4a\"},\"x\":{\"field\":\"x\"},\"y\":{\"field\":\"y\"}},\"id\":\"919b1a5c-fef4-46a3-bca4-cefacc7bcfd3\",\"type\":\"Circle\"},{\"attributes\":{\"bottom_units\":\"screen\",\"fill_alpha\":{\"value\":0.5},\"fill_color\":{\"value\":\"lightgrey\"},\"left_units\":\"screen\",\"level\":\"overlay\",\"line_alpha\":{\"value\":1.0},\"line_color\":{\"value\":\"black\"},\"line_dash\":[4,4],\"line_width\":{\"value\":2},\"plot\":null,\"render_mode\":\"css\",\"right_units\":\"screen\",\"top_units\":\"screen\"},\"id\":\"7a2262bc-9fda-4cf5-a4f7-72228ed71695\",\"type\":\"BoxAnnotation\"},{\"attributes\":{\"source\":{\"id\":\"26a3acd5-e8bd-452f-b565-e2d1e96f5334\",\"type\":\"ColumnDataSource\"}},\"id\":\"0593b505-fc46-4401-bed5-25e533b7125a\",\"type\":\"CDSView\"},{\"attributes\":{\"overlay\":{\"id\":\"7a2262bc-9fda-4cf5-a4f7-72228ed71695\",\"type\":\"BoxAnnotation\"}},\"id\":\"de2ac7a7-ba9b-4aa3-87fe-53e53f653133\",\"type\":\"BoxZoomTool\"},{\"attributes\":{\"line_alpha\":0.1,\"line_color\":\"#1f77b4\",\"line_width\":1.5,\"x\":{\"field\":\"x\"},\"y\":{\"field\":\"y\"}},\"id\":\"76e2e87a-f3a5-4529-845e-80a6c83e9e45\",\"type\":\"Line\"},{\"attributes\":{\"data_source\":{\"id\":\"39e671f6-80c5-4b10-b9a2-09ac4bd87e81\",\"type\":\"ColumnDataSource\"},\"glyph\":{\"id\":\"8adfe285-9205-4293-a65b-bd5bf2df6262\",\"type\":\"Line\"},\"hover_glyph\":null,\"muted_glyph\":null,\"nonselection_glyph\":{\"id\":\"3d872434-4bda-4bde-a8fc-39955fc0ea9e\",\"type\":\"Line\"},\"selection_glyph\":null,\"view\":{\"id\":\"a2ffa495-39c3-4ad0-889d-f9dd6a0e98dd\",\"type\":\"CDSView\"}},\"id\":\"580fb61f-ecc0-49d9-acab-5c1f663e53f4\",\"type\":\"GlyphRenderer\"},{\"attributes\":{},\"id\":\"cc2f24ed-2078-4ae4-92be-f5c8020b422c\",\"type\":\"HelpTool\"},{\"attributes\":{\"fill_alpha\":{\"value\":0.7},\"fill_color\":{\"value\":\"#984ea3\"},\"line_alpha\":{\"value\":0.7},\"line_color\":{\"value\":\"#984ea3\"},\"x\":{\"field\":\"x\"},\"y\":{\"field\":\"y\"}},\"id\":\"9f98d6b1-927a-4b38-8045-5cedc7bd2f7f\",\"type\":\"Square\"},{\"attributes\":{},\"id\":\"fda817f1-12b9-4cba-b463-d7e91890863d\",\"type\":\"PanTool\"},{\"attributes\":{\"line_alpha\":0.1,\"line_color\":\"#1f77b4\",\"line_dash\":[6],\"line_width\":5,\"x\":{\"field\":\"x\"},\"y\":{\"field\":\"y\"}},\"id\":\"663e7e99-a3f8-4e29-a3fe-1ecabdf8356e\",\"type\":\"Line\"},{\"attributes\":{},\"id\":\"f4ff6640-fe09-47c7-9988-6a476ca923ee\",\"type\":\"ResetTool\"},{\"attributes\":{\"data_source\":{\"id\":\"26a3acd5-e8bd-452f-b565-e2d1e96f5334\",\"type\":\"ColumnDataSource\"},\"glyph\":{\"id\":\"919b1a5c-fef4-46a3-bca4-cefacc7bcfd3\",\"type\":\"Circle\"},\"hover_glyph\":null,\"muted_glyph\":null,\"nonselection_glyph\":{\"id\":\"00f2892a-3bd1-4be3-864b-9c29b0f8644e\",\"type\":\"Circle\"},\"selection_glyph\":null,\"view\":{\"id\":\"0593b505-fc46-4401-bed5-25e533b7125a\",\"type\":\"CDSView\"}},\"id\":\"c719ba05-5b93-41b8-bb24-29f6f6013f91\",\"type\":\"GlyphRenderer\"},{\"attributes\":{\"callback\":null,\"data\":{\"x\":{\"__ndarray__\":\"qromKG4qwb9XAPhMmxbBv7baolA/vcC/0laASvBhwL9/54t7+wzAv05uiK9+hb+/ObELL1YOv7/l04Rp776+v43xH9rgp76/FX6AIAbbvr+K6FOeq3O/vy2SPPgFS8C/zeD3iPs8wb9ZMZ450rbCv0dr0o6XxcO/2miMGG4nwr/8fnvozIe7v/tRkHx+yLC/f5KOtExtkL8dzBTd9BOmP01DO0Qv5b0/4ZKpo18yzD9jUo2omurUPxg/roncvtI/od+URaOzxT/xJDjhnf23PwWUB5uaAa0/FIizL5Skoz8DtabmY1ieP88WVy+bDZk/49quos/fkz/QqooB9veMP5X6vCbHRIY//K5nS78Egz8zKZ+MU2d8P13eq30SxG4/q8gkvxeBXj+vWK0XvbZSPzvRckZ+U0y/vzAO728Qab8I9hXWPT9Qvy70Vpcy9Iw/xci4ADkDpD8QJTnkjzexPyHGMbNLq7c/3gQ1NTZfuT8X+OUnMPi6P+0cmBbUO70/sCOrroVRvz+xJC8h1WbAP1Rz2s85qsA/4gogY4swwD+CxeHMr+a+P+/myhyiPL0/29iynWtvuz9B38yeuqi5P/l4g5B1Nrg/ISbKpqhvtz9JFEjzQXu1Px5qx0wj37I/Un2yJVUisD/5eVZJmRGrPzhIuCsciqY/tQI2LLX6oj8S5ST36MugP0rJ5x/BsKA/IMNq+W/Ioj8zNjKXbQqlP51pZIWSMaQ/7XfuXmpbnz87Lk+M0d+UPzRSCEc9Aos/x7qYpEIVgz+U5GcJzGiBP4U8J2K2Cb8/\",\"dtype\":\"float64\",\"shape\":[75]},\"y\":{\"__ndarray__\":\"GhExyth1ND/Sv8nbtpRIP2vylNV0PVE/aTum7souWD/At0SJ8fVgPw3Iuahxymc/MSNhhJWvcD/bTfBN02d3P2zb5nxnaoA/CD5h5MAGhz8NmeH1TyaQP+zrCsc9p5Y/LbKd76fGnz/bLW5ISEmmPww9YvTcQq8/JV2OstnstT8Er5Y7M8G+P0c+r3jqkcU/5h99k6ZBzj88bCIzFzjVP4enV8oyxN0//yH99nXg5D8qOpLLf0jtP5kqGJXUifQ/c9cS8kHP/D+/DpwzojQEQIEmwoanVwxA4lgXt9HgE0BSSZ2AJuIbQAMJih9jjiNA5q4l5INuK0AwTKYKRj0zQNv5fmq8/DpAaCJseHrtQkB/+zpwzoxKQM3MzMzMeFJAZmZmZmZqWEAAAAAAAFxeQM3MzMzMJmJAmpmZmZkfZUBmZmZmZhhoQDMzMzMzEWtAAAAAAAAKbkBmZmZmZoFwQM3MzMzM/XFAMzMzMzN6c0CamZmZmfZ0QAAAAAAAc3ZAZmZmZmbvd0DNzMzMzGt5QDMzMzMz6HpAmpmZmZlkfEAAAAAAAOF9QGZmZmZmXX9AZmZmZuZsgECamZmZGSuBQM3MzMxM6YFAAAAAAICngkAzMzMzs2WDQGZmZmbmI4RAmpmZmRnihEDNzMzMTKCFQAAAAACAXoZAMzMzM7Mch0BmZmZm5tqHQJqZmZkZmYhAzczMzExXiUAAAAAAgBWKQDMzMzOz04pAZmZmZuaRi0CamZmZGVCMQM3MzMxMDo1AAAAAAIDMjUAzMzMzs4qOQGZmZmbmSI9A\",\"dtype\":\"float64\",\"shape\":[75]}},\"selected\":{\"id\":\"5a998e26-4cf7-478c-a964-527d146bddae\",\"type\":\"Selection\"},\"selection_policy\":{\"id\":\"6ec4b3f5-ea48-4d8c-a014-c82380a151f6\",\"type\":\"UnionRenderers\"}},\"id\":\"5d5a7099-0b50-4624-a236-b0f61691c342\",\"type\":\"ColumnDataSource\"},{\"attributes\":{\"callback\":null,\"data\":{\"x\":{\"__ndarray__\":\"meoTir7MxL/0/AZ5f7TEvwVa9C33csS/ODYS00stxL8J9C6D1ujDvzY5neByp8O/jtWccjtqw79jf7gvkDXDv59Bv8ZgC8O/pb7Jwhn0wr8+Qd6C1/TCv/x/avYfHcO/WOSV8957w786It+l1CXEvzCwllTQYcS/HpHn4aF7wr/9Gw8RkmC8v03/lFXRUrG/uY7eYfSLj79EZkUM7/2nPxWLACM/Tb8/v1VL+K1vzD8GBnvZl2jUP3usz4vJEdI/pafhvoLyxD+Ltm9dTXi4P0V0ao9gqK8/CJ1eyVjkpD9oBiG7M1yePwu/ikKBLZk/EKEmB6eWlT/hR4vssK2QP8CnINzw/Yk/TxY9PsHIhj9m9TbIMN+APw+EN+5MXWw/tYv6NDxkSD/ely446W43P8V1toZlOlO/voOYNXyFaL86epjxQy/1vvbcp4IIc5Q/zs+Oze7GqT+VXmabxdKtP+dcCyzgG7A/0koDOvGntT9ShdyY4My6P2SPcUGNrb0/Z2iXyjbLvj/w7J9l5bC/P04hX1uip8A/1elA1lMrwT9ZxCyL9GjBP/LxZJLs7MA/kxay41Slvz9L1MGwsmy8P1MnDSbfG7k/Lt3bL8qstj/oLe6kXYOzPxhundhztLA/YCVrSVGrrD/iEO7x6YGoP6sAy4n3laQ/N9fnbCwhoj8Cqj6rWj+ePz68rxYUEJ8/OBzaI3tUoD+a/Nc46R2jPwlPkvVuCKI/V9D7mVYXmz86/8UfhAGRP4dlz4DjO4Q/vz78Ncdkej9JYZALvWt4P+y3nyFWXr4/\",\"dtype\":\"float64\",\"shape\":[75]},\"y\":{\"__ndarray__\":\"S/O/Q+51ND/Sv8nbtpRIP2vylNV0PVE/aTum7souWD/At0SJ8fVgPw3Iuahxymc/MSNhhJWvcD/bTfBN02d3P2zb5nxnaoA/CD5h5MAGhz8NmeH1TyaQP+zrCsc9p5Y/LbKd76fGnz/bLW5ISEmmPww9YvTcQq8/JV2OstnstT8Er5Y7M8G+P0c+r3jqkcU/5h99k6ZBzj88bCIzFzjVP4enV8oyxN0//yH99nXg5D8qOpLLf0jtP5kqGJXUifQ/c9cS8kHP/D+/DpwzojQEQIEmwoanVwxA4lgXt9HgE0BSSZ2AJuIbQAMJih9jjiNA5q4l5INuK0AwTKYKRj0zQNv5fmq8/DpAaCJseHrtQkB/+zpwzoxKQM3MzMzMeFJAZmZmZmZqWEAAAAAAAFxeQM3MzMzMJmJAmpmZmZkfZUBmZmZmZhhoQDMzMzMzEWtAAAAAAAAKbkBmZmZmZoFwQM3MzMzM/XFAMzMzMzN6c0CamZmZmfZ0QAAAAAAAc3ZAZmZmZmbvd0DNzMzMzGt5QDMzMzMz6HpAmpmZmZlkfEAAAAAAAOF9QGZmZmZmXX9AZmZmZuZsgECamZmZGSuBQM3MzMxM6YFAAAAAAICngkAzMzMzs2WDQGZmZmbmI4RAmpmZmRnihEDNzMzMTKCFQAAAAACAXoZAMzMzM7Mch0BmZmZm5tqHQJqZmZkZmYhAzczMzExXiUAAAAAAgBWKQDMzMzOz04pAZmZmZuaRi0CamZmZGVCMQM3MzMxMDo1AAAAAAIDMjUAzMzMzs4qOQGZmZmbmSI9A\",\"dtype\":\"float64\",\"shape\":[75]}},\"selected\":{\"id\":\"b293b74b-aada-4ee5-8a51-e68ca79330a5\",\"type\":\"Selection\"},\"selection_policy\":{\"id\":\"8619a125-90c3-469e-8e64-4fb707912993\",\"type\":\"UnionRenderers\"}},\"id\":\"6c3b55e3-0d5b-47d6-8a85-25f607dd6a64\",\"type\":\"ColumnDataSource\"},{\"attributes\":{\"data_source\":{\"id\":\"94899b06-6054-4b86-a24e-4305c6115e0a\",\"type\":\"ColumnDataSource\"},\"glyph\":{\"id\":\"aca1cb32-56b7-4c2f-b469-ec640e7d8815\",\"type\":\"Square\"},\"hover_glyph\":null,\"muted_glyph\":null,\"nonselection_glyph\":{\"id\":\"ce7d6276-b144-4516-abba-92c7d50d2ffd\",\"type\":\"Square\"},\"selection_glyph\":null,\"view\":{\"id\":\"89d21369-9cac-47ea-bea2-fae8262817d7\",\"type\":\"CDSView\"}},\"id\":\"d7f6d411-608d-42e6-80d0-802337934478\",\"type\":\"GlyphRenderer\"},{\"attributes\":{\"fill_alpha\":{\"value\":0.1},\"fill_color\":{\"value\":\"#1f77b4\"},\"line_alpha\":{\"value\":0.1},\"line_color\":{\"value\":\"#1f77b4\"},\"x\":{\"field\":\"x\"},\"y\":{\"field\":\"y\"}},\"id\":\"00f2892a-3bd1-4be3-864b-9c29b0f8644e\",\"type\":\"Circle\"},{\"attributes\":{\"axis_label\":\"pressure [mb]\",\"formatter\":{\"id\":\"61418bee-68df-42c0-a4b0-9c6273ecf0f4\",\"type\":\"BasicTickFormatter\"},\"plot\":{\"id\":\"c5727adb-4538-4ccd-8a8b-c0d28d97d602\",\"subtype\":\"Figure\",\"type\":\"Plot\"},\"ticker\":{\"id\":\"3008da67-1d96-4135-bd76-0cc5417a0867\",\"type\":\"BasicTicker\"}},\"id\":\"6500cf06-bb5f-457d-afbe-f04530f99bf5\",\"type\":\"LinearAxis\"},{\"attributes\":{\"source\":{\"id\":\"39e671f6-80c5-4b10-b9a2-09ac4bd87e81\",\"type\":\"ColumnDataSource\"}},\"id\":\"a2ffa495-39c3-4ad0-889d-f9dd6a0e98dd\",\"type\":\"CDSView\"},{\"attributes\":{\"axis_label\":\"pressure [mb]\",\"formatter\":{\"id\":\"f43e7ebf-8fa1-4cfa-8bc1-2b92f734fcd4\",\"type\":\"LogTickFormatter\"},\"plot\":{\"id\":\"c1f52295-a558-4052-96ce-a5a95919a55f\",\"subtype\":\"Figure\",\"type\":\"Plot\"},\"ticker\":{\"id\":\"c46c5aa5-a8b8-46df-b99c-6ef0876835fe\",\"type\":\"LogTicker\"}},\"id\":\"d38cf5ff-770c-41f8-bc74-cca387bb238b\",\"type\":\"LogAxis\"},{\"attributes\":{\"axis_label\":\"cooling rate [K/day]\",\"formatter\":{\"id\":\"994595a4-37c4-4388-bf3f-1ae37f669460\",\"type\":\"BasicTickFormatter\"},\"plot\":{\"id\":\"c1f52295-a558-4052-96ce-a5a95919a55f\",\"subtype\":\"Figure\",\"type\":\"Plot\"},\"ticker\":{\"id\":\"2f6e111b-db07-46d0-9dc3-1ad8f4ffb87d\",\"type\":\"BasicTicker\"}},\"id\":\"4c71bbc5-070c-4a3f-b846-3e1b578d1621\",\"type\":\"LinearAxis\"},{\"attributes\":{\"callback\":null,\"data\":{\"x\":{\"__ndarray__\":\"qromKG4qwb9XAPhMmxbBv7baolA/vcC/0laASvBhwL9/54t7+wzAv05uiK9+hb+/ObELL1YOv7/l04Rp776+v43xH9rgp76/FX6AIAbbvr+K6FOeq3O/vy2SPPgFS8C/zeD3iPs8wb9ZMZ450rbCv0dr0o6XxcO/2miMGG4nwr/8fnvozIe7v/tRkHx+yLC/f5KOtExtkL8dzBTd9BOmP01DO0Qv5b0/4ZKpo18yzD9jUo2omurUPxg/roncvtI/od+URaOzxT/xJDjhnf23PwWUB5uaAa0/FIizL5Skoz8DtabmY1ieP88WVy+bDZk/49quos/fkz/QqooB9veMP5X6vCbHRIY//K5nS78Egz8zKZ+MU2d8P13eq30SxG4/q8gkvxeBXj+vWK0XvbZSPzvRckZ+U0y/vzAO728Qab8I9hXWPT9Qvy70Vpcy9Iw/xci4ADkDpD8QJTnkjzexPyHGMbNLq7c/3gQ1NTZfuT8X+OUnMPi6P+0cmBbUO70/sCOrroVRvz+xJC8h1WbAP1Rz2s85qsA/4gogY4swwD+CxeHMr+a+P+/myhyiPL0/29iynWtvuz9B38yeuqi5P/l4g5B1Nrg/ISbKpqhvtz9JFEjzQXu1Px5qx0wj37I/Un2yJVUisD/5eVZJmRGrPzhIuCsciqY/tQI2LLX6oj8S5ST36MugP0rJ5x/BsKA/IMNq+W/Ioj8zNjKXbQqlP51pZIWSMaQ/7XfuXmpbnz87Lk+M0d+UPzRSCEc9Aos/x7qYpEIVgz+U5GcJzGiBP4U8J2K2Cb8/\",\"dtype\":\"float64\",\"shape\":[75]},\"y\":{\"__ndarray__\":\"GhExyth1ND/Sv8nbtpRIP2vylNV0PVE/aTum7souWD/At0SJ8fVgPw3Iuahxymc/MSNhhJWvcD/bTfBN02d3P2zb5nxnaoA/CD5h5MAGhz8NmeH1TyaQP+zrCsc9p5Y/LbKd76fGnz/bLW5ISEmmPww9YvTcQq8/JV2OstnstT8Er5Y7M8G+P0c+r3jqkcU/5h99k6ZBzj88bCIzFzjVP4enV8oyxN0//yH99nXg5D8qOpLLf0jtP5kqGJXUifQ/c9cS8kHP/D+/DpwzojQEQIEmwoanVwxA4lgXt9HgE0BSSZ2AJuIbQAMJih9jjiNA5q4l5INuK0AwTKYKRj0zQNv5fmq8/DpAaCJseHrtQkB/+zpwzoxKQM3MzMzMeFJAZmZmZmZqWEAAAAAAAFxeQM3MzMzMJmJAmpmZmZkfZUBmZmZmZhhoQDMzMzMzEWtAAAAAAAAKbkBmZmZmZoFwQM3MzMzM/XFAMzMzMzN6c0CamZmZmfZ0QAAAAAAAc3ZAZmZmZmbvd0DNzMzMzGt5QDMzMzMz6HpAmpmZmZlkfEAAAAAAAOF9QGZmZmZmXX9AZmZmZuZsgECamZmZGSuBQM3MzMxM6YFAAAAAAICngkAzMzMzs2WDQGZmZmbmI4RAmpmZmRnihEDNzMzMTKCFQAAAAACAXoZAMzMzM7Mch0BmZmZm5tqHQJqZmZkZmYhAzczMzExXiUAAAAAAgBWKQDMzMzOz04pAZmZmZuaRi0CamZmZGVCMQM3MzMxMDo1AAAAAAIDMjUAzMzMzs4qOQGZmZmbmSI9A\",\"dtype\":\"float64\",\"shape\":[75]}},\"selected\":{\"id\":\"06477fb1-d659-4af2-8901-a12aeebf3b4b\",\"type\":\"Selection\"},\"selection_policy\":{\"id\":\"5d747721-53f3-4682-875d-727b0d308cc8\",\"type\":\"UnionRenderers\"}},\"id\":\"26a3acd5-e8bd-452f-b565-e2d1e96f5334\",\"type\":\"ColumnDataSource\"},{\"attributes\":{\"fill_alpha\":{\"value\":0.1},\"fill_color\":{\"value\":\"#1f77b4\"},\"line_alpha\":{\"value\":0.1},\"line_color\":{\"value\":\"#1f77b4\"},\"x\":{\"field\":\"x\"},\"y\":{\"field\":\"y\"}},\"id\":\"326e0c32-912c-4291-9e7a-407086543d86\",\"type\":\"Square\"},{\"attributes\":{\"line_alpha\":0.6,\"line_color\":\"#984ea3\",\"line_width\":3,\"x\":{\"field\":\"x\"},\"y\":{\"field\":\"y\"}},\"id\":\"8adfe285-9205-4293-a65b-bd5bf2df6262\",\"type\":\"Line\"},{\"attributes\":{\"data_source\":{\"id\":\"bac39a9f-ca67-4ae9-a7e9-348d191cb28b\",\"type\":\"ColumnDataSource\"},\"glyph\":{\"id\":\"d1c19389-ce0a-4df2-b3f5-6c471af27a6e\",\"type\":\"Line\"},\"hover_glyph\":null,\"muted_glyph\":null,\"nonselection_glyph\":{\"id\":\"ac58cd76-c53a-4475-9e03-117507b59800\",\"type\":\"Line\"},\"selection_glyph\":null,\"view\":{\"id\":\"ea892b57-d647-42fd-af82-481e6f8af597\",\"type\":\"CDSView\"}},\"id\":\"51878f21-9f48-4d4c-ad7e-b7bfc12ba285\",\"type\":\"GlyphRenderer\"},{\"attributes\":{\"callback\":null,\"data\":{\"x\":{\"__ndarray__\":\"YdrJEVqIw7/w2LpvA2vDv1V6ZYp6HMO//g7ud5rWwr/BXAqOD4PCv27XMehvPsK/p3fVk/P/wb9TX/wF/svBv4QwGgiZqsG/iKu8Y3Khwb+vGyCybLvBvyMQlCfJCcK/ZnWb9HOcwr9ui9xcBJPDvxwjzAaTE8S/C50d/FBHwr9ZpGCdl9G7v9lJxdHp1LC/WjR1sMnUjb++d7mKRq6nP6hhI35x6L4//7JraSpwzD+HzhuSYLPUP9WH7dkLgNI/gXSNyr6UxT9LmnZSw7u4P1fKo9sWf68/YqpOk5OTpT+tSGS2QligPzhXV5WvKZs/+ZuclwB/lj+rDi+5bymRP3WW9b3T4Io/VJwjCCMAhz+QJCpx8MGAPy4lSq/ecW8/VKorLNC6Vj+puNK0iWhLP9vc2Zv/m1C/Nhz68+Bkab+ZD/l532Mwv1qSYDR6VZM/VYsnpSiDqD858olaHvevP0crjouBkbE/gEetUMvRtD8n9PnQUPW4PzoLCun0QLw/hKc9WEdUvj+0WbVlvKS/PwKBD7fNScA/zc3nHSRmwD/OjXce91/AP90PBbIEGcA/nriaqlnDvj+yILbOYai8P5YxxMqEYbo/E8zz+3WXuD9mU2HN0Ju1P40hfu19OrI/CErwJMhwrj/ID8MnIp6pP9rjzV3i5qU/bSlAYmbuoj+3Cr6EYiKhPzBJO8/5A6E/lKs5TpXboj/KFEAvusykP4ZbeROApaM/48VdiXfTnT/KJ7whhiGTP5A4vlXSU4c/ttTHC7wYfz+N6B6n2Hh8PysN2cWMu74/\",\"dtype\":\"float64\",\"shape\":[75]},\"y\":{\"__ndarray__\":\"GhExyth1ND/Sv8nbtpRIP2vylNV0PVE/aTum7souWD/At0SJ8fVgPw3Iuahxymc/MSNhhJWvcD/bTfBN02d3P2zb5nxnaoA/CD5h5MAGhz8NmeH1TyaQP+zrCsc9p5Y/LbKd76fGnz/bLW5ISEmmPww9YvTcQq8/JV2OstnstT8Er5Y7M8G+P0c+r3jqkcU/5h99k6ZBzj88bCIzFzjVP4enV8oyxN0//yH99nXg5D8qOpLLf0jtP5kqGJXUifQ/c9cS8kHP/D+/DpwzojQEQIEmwoanVwxA4lgXt9HgE0BSSZ2AJuIbQAMJih9jjiNA5q4l5INuK0AwTKYKRj0zQNv5fmq8/DpAaCJseHrtQkB/+zpwzoxKQM3MzMzMeFJAZmZmZmZqWEAAAAAAAFxeQM3MzMzMJmJAmpmZmZkfZUBmZmZmZhhoQDMzMzMzEWtAAAAAAAAKbkBmZmZmZoFwQM3MzMzM/XFAMzMzMzN6c0CamZmZmfZ0QAAAAAAAc3ZAZmZmZmbvd0DNzMzMzGt5QDMzMzMz6HpAmpmZmZlkfEAAAAAAAOF9QGZmZmZmXX9AZmZmZuZsgECamZmZGSuBQM3MzMxM6YFAAAAAAICngkAzMzMzs2WDQGZmZmbmI4RAmpmZmRnihEDNzMzMTKCFQAAAAACAXoZAMzMzM7Mch0BmZmZm5tqHQJqZmZkZmYhAzczMzExXiUAAAAAAgBWKQDMzMzOz04pAZmZmZuaRi0CamZmZGVCMQM3MzMxMDo1AAAAAAIDMjUAzMzMzs4qOQGZmZmbmSI9A\",\"dtype\":\"float64\",\"shape\":[75]}},\"selected\":{\"id\":\"a1c74704-718f-4fb6-b652-9bd5a76ec414\",\"type\":\"Selection\"},\"selection_policy\":{\"id\":\"8ea7b235-b710-478a-a4a5-e8dac24526ff\",\"type\":\"UnionRenderers\"}},\"id\":\"39e671f6-80c5-4b10-b9a2-09ac4bd87e81\",\"type\":\"ColumnDataSource\"},{\"attributes\":{},\"id\":\"25d8a0d1-bd0c-4e04-b071-8f33e8ee21aa\",\"type\":\"SaveTool\"},{\"attributes\":{\"line_alpha\":0.1,\"line_color\":\"#1f77b4\",\"line_dash\":[6],\"line_width\":5,\"x\":{\"field\":\"x\"},\"y\":{\"field\":\"y\"}},\"id\":\"ac58cd76-c53a-4475-9e03-117507b59800\",\"type\":\"Line\"},{\"attributes\":{\"num_minor_ticks\":10},\"id\":\"c46c5aa5-a8b8-46df-b99c-6ef0876835fe\",\"type\":\"LogTicker\"},{\"attributes\":{\"data_source\":{\"id\":\"0a008fdf-833a-4712-9b9e-c451e1e5a5d3\",\"type\":\"ColumnDataSource\"},\"glyph\":{\"id\":\"9f98d6b1-927a-4b38-8045-5cedc7bd2f7f\",\"type\":\"Square\"},\"hover_glyph\":null,\"muted_glyph\":null,\"nonselection_glyph\":{\"id\":\"326e0c32-912c-4291-9e7a-407086543d86\",\"type\":\"Square\"},\"selection_glyph\":null,\"view\":{\"id\":\"12a3f817-3070-4f50-bb27-d07d0649c810\",\"type\":\"CDSView\"}},\"id\":\"2d8d930f-9c2e-4f91-a717-95fb19cf99cf\",\"type\":\"GlyphRenderer\"},{\"attributes\":{\"line_color\":\"#4daf4a\",\"line_width\":1.5,\"x\":{\"field\":\"x\"},\"y\":{\"field\":\"y\"}},\"id\":\"9a2efd01-46d5-458b-9428-988e96d78654\",\"type\":\"Line\"},{\"attributes\":{\"dimension\":1,\"plot\":{\"id\":\"c1f52295-a558-4052-96ce-a5a95919a55f\",\"subtype\":\"Figure\",\"type\":\"Plot\"},\"ticker\":{\"id\":\"c46c5aa5-a8b8-46df-b99c-6ef0876835fe\",\"type\":\"LogTicker\"}},\"id\":\"b5c6eeb3-ddf9-4236-b814-7a36e2c88d6c\",\"type\":\"Grid\"}],\"root_ids\":[\"bc8bfc53-bf59-4086-ad8c-9a8b07bb983e\"]},\"title\":\"Bokeh Application\",\"version\":\"0.12.16\"}};\n",
       "  var render_items = [{\"docid\":\"e1fc50c7-3937-494f-8302-7567daa64377\",\"elementid\":\"d6ebe488-a95e-4595-8cc5-aa728b825731\",\"modelid\":\"bc8bfc53-bf59-4086-ad8c-9a8b07bb983e\"}];\n",
       "  root.Bokeh.embed.embed_items_notebook(docs_json, render_items);\n",
       "\n",
       "  }\n",
       "  if (root.Bokeh !== undefined) {\n",
       "    embed_document(root);\n",
       "  } else {\n",
       "    var attempts = 0;\n",
       "    var timer = setInterval(function(root) {\n",
       "      if (root.Bokeh !== undefined) {\n",
       "        embed_document(root);\n",
       "        clearInterval(timer);\n",
       "      }\n",
       "      attempts++;\n",
       "      if (attempts > 100) {\n",
       "        console.log(\"Bokeh: ERROR: Unable to run BokehJS code because BokehJS library is missing\")\n",
       "        clearInterval(timer);\n",
       "      }\n",
       "    }, 10, root)\n",
       "  }\n",
       "})(window);"
      ],
      "application/vnd.bokehjs_exec.v0+json": ""
     },
     "metadata": {
      "application/vnd.bokehjs_exec.v0+json": {
       "id": "bc8bfc53-bf59-4086-ad8c-9a8b07bb983e"
      }
     },
     "output_type": "display_data"
    },
    {
     "name": "stdout",
     "output_type": "stream",
     "text": [
      "FIGURE. Cooling rate profiles.\n"
     ]
    },
    {
     "data": {
      "text/html": [
       "<a id=\"Flux_Comparison\"></a>"
      ],
      "text/plain": [
       "<IPython.core.display.HTML object>"
      ]
     },
     "metadata": {},
     "output_type": "display_data"
    },
    {
     "data": {
      "text/markdown": [
       "# Flux Comparison"
      ],
      "text/plain": [
       "<IPython.core.display.Markdown object>"
      ]
     },
     "metadata": {},
     "output_type": "display_data"
    },
    {
     "data": {
      "text/html": [
       "<div>\n",
       "<style scoped>\n",
       "    .dataframe tbody tr th:only-of-type {\n",
       "        vertical-align: middle;\n",
       "    }\n",
       "\n",
       "    .dataframe tbody tr th {\n",
       "        vertical-align: top;\n",
       "    }\n",
       "\n",
       "    .dataframe thead th {\n",
       "        text-align: right;\n",
       "    }\n",
       "</style>\n",
       "<table border=\"1\" class=\"dataframe\">\n",
       "  <thead>\n",
       "    <tr style=\"text-align: right;\">\n",
       "      <th></th>\n",
       "      <th></th>\n",
       "      <th>flug</th>\n",
       "      <th>fldg</th>\n",
       "      <th>fnetg</th>\n",
       "    </tr>\n",
       "    <tr>\n",
       "      <th>pressure</th>\n",
       "      <th>level</th>\n",
       "      <th></th>\n",
       "      <th></th>\n",
       "      <th></th>\n",
       "    </tr>\n",
       "  </thead>\n",
       "  <tbody>\n",
       "    <tr>\n",
       "      <th>0.0000</th>\n",
       "      <th>1</th>\n",
       "      <td>-7.292049</td>\n",
       "      <td>0.000000</td>\n",
       "      <td>-7.292049</td>\n",
       "    </tr>\n",
       "    <tr>\n",
       "      <th>1.0685</th>\n",
       "      <th>24</th>\n",
       "      <td>-7.301339</td>\n",
       "      <td>0.026841</td>\n",
       "      <td>-7.274498</td>\n",
       "    </tr>\n",
       "    <tr>\n",
       "      <th>1013.0000</th>\n",
       "      <th>76</th>\n",
       "      <td>-30.729616</td>\n",
       "      <td>30.372401</td>\n",
       "      <td>-0.357216</td>\n",
       "    </tr>\n",
       "  </tbody>\n",
       "</table>\n",
       "</div>"
      ],
      "text/plain": [
       "                      flug       fldg     fnetg\n",
       "pressure  level                                \n",
       "0.0000    1      -7.292049   0.000000 -7.292049\n",
       "1.0685    24     -7.301339   0.026841 -7.274498\n",
       "1013.0000 76    -30.729616  30.372401 -0.357216"
      ]
     },
     "metadata": {},
     "output_type": "display_data"
    },
    {
     "name": "stdout",
     "output_type": "stream",
     "text": [
      "Table. Fluxes. CRD\n"
     ]
    },
    {
     "data": {
      "text/html": [
       "<div>\n",
       "<style scoped>\n",
       "    .dataframe tbody tr th:only-of-type {\n",
       "        vertical-align: middle;\n",
       "    }\n",
       "\n",
       "    .dataframe tbody tr th {\n",
       "        vertical-align: top;\n",
       "    }\n",
       "\n",
       "    .dataframe thead th {\n",
       "        text-align: right;\n",
       "    }\n",
       "</style>\n",
       "<table border=\"1\" class=\"dataframe\">\n",
       "  <thead>\n",
       "    <tr style=\"text-align: right;\">\n",
       "      <th></th>\n",
       "      <th></th>\n",
       "      <th>flug</th>\n",
       "      <th>fldg</th>\n",
       "      <th>fnetg</th>\n",
       "    </tr>\n",
       "    <tr>\n",
       "      <th>pressure</th>\n",
       "      <th>level</th>\n",
       "      <th></th>\n",
       "      <th></th>\n",
       "      <th></th>\n",
       "    </tr>\n",
       "  </thead>\n",
       "  <tbody>\n",
       "    <tr>\n",
       "      <th>0.0000</th>\n",
       "      <th>1</th>\n",
       "      <td>-7.246267</td>\n",
       "      <td>0.000000</td>\n",
       "      <td>-7.246267</td>\n",
       "    </tr>\n",
       "    <tr>\n",
       "      <th>1.0685</th>\n",
       "      <th>24</th>\n",
       "      <td>-7.255041</td>\n",
       "      <td>0.026288</td>\n",
       "      <td>-7.228753</td>\n",
       "    </tr>\n",
       "    <tr>\n",
       "      <th>1013.0000</th>\n",
       "      <th>76</th>\n",
       "      <td>-30.729617</td>\n",
       "      <td>30.383724</td>\n",
       "      <td>-0.345892</td>\n",
       "    </tr>\n",
       "  </tbody>\n",
       "</table>\n",
       "</div>"
      ],
      "text/plain": [
       "                      flug       fldg     fnetg\n",
       "pressure  level                                \n",
       "0.0000    1      -7.246267   0.000000 -7.246267\n",
       "1.0685    24     -7.255041   0.026288 -7.228753\n",
       "1013.0000 76    -30.729617  30.383724 -0.345892"
      ]
     },
     "metadata": {},
     "output_type": "display_data"
    },
    {
     "name": "stdout",
     "output_type": "stream",
     "text": [
      "Table. Fluxes. WGT igg=10 wgt_flux=1\n"
     ]
    },
    {
     "data": {
      "text/html": [
       "<div>\n",
       "<style scoped>\n",
       "    .dataframe tbody tr th:only-of-type {\n",
       "        vertical-align: middle;\n",
       "    }\n",
       "\n",
       "    .dataframe tbody tr th {\n",
       "        vertical-align: top;\n",
       "    }\n",
       "\n",
       "    .dataframe thead th {\n",
       "        text-align: right;\n",
       "    }\n",
       "</style>\n",
       "<table border=\"1\" class=\"dataframe\">\n",
       "  <thead>\n",
       "    <tr style=\"text-align: right;\">\n",
       "      <th></th>\n",
       "      <th></th>\n",
       "      <th>flug</th>\n",
       "      <th>fldg</th>\n",
       "      <th>fnetg</th>\n",
       "    </tr>\n",
       "    <tr>\n",
       "      <th>pressure</th>\n",
       "      <th>level</th>\n",
       "      <th></th>\n",
       "      <th></th>\n",
       "      <th></th>\n",
       "    </tr>\n",
       "  </thead>\n",
       "  <tbody>\n",
       "    <tr>\n",
       "      <th>1.000000e-08</th>\n",
       "      <th>1</th>\n",
       "      <td>-7.160886</td>\n",
       "      <td>1.842825e-09</td>\n",
       "      <td>-7.160886</td>\n",
       "    </tr>\n",
       "    <tr>\n",
       "      <th>1.068500e+00</th>\n",
       "      <th>24</th>\n",
       "      <td>-7.169442</td>\n",
       "      <td>2.585436e-02</td>\n",
       "      <td>-7.143588</td>\n",
       "    </tr>\n",
       "    <tr>\n",
       "      <th>1.013000e+03</th>\n",
       "      <th>76</th>\n",
       "      <td>-30.729620</td>\n",
       "      <td>3.038693e+01</td>\n",
       "      <td>-0.342692</td>\n",
       "    </tr>\n",
       "  </tbody>\n",
       "</table>\n",
       "</div>"
      ],
      "text/plain": [
       "                         flug          fldg     fnetg\n",
       "pressure     level                                   \n",
       "1.000000e-08 1      -7.160886  1.842825e-09 -7.160886\n",
       "1.068500e+00 24     -7.169442  2.585436e-02 -7.143588\n",
       "1.013000e+03 76    -30.729620  3.038693e+01 -0.342692"
      ]
     },
     "metadata": {},
     "output_type": "display_data"
    },
    {
     "name": "stdout",
     "output_type": "stream",
     "text": [
      "Table. Fluxes. CLIRAD\n"
     ]
    },
    {
     "data": {
      "text/html": [
       "<div>\n",
       "<style scoped>\n",
       "    .dataframe tbody tr th:only-of-type {\n",
       "        vertical-align: middle;\n",
       "    }\n",
       "\n",
       "    .dataframe tbody tr th {\n",
       "        vertical-align: top;\n",
       "    }\n",
       "\n",
       "    .dataframe thead th {\n",
       "        text-align: right;\n",
       "    }\n",
       "</style>\n",
       "<table border=\"1\" class=\"dataframe\">\n",
       "  <thead>\n",
       "    <tr style=\"text-align: right;\">\n",
       "      <th></th>\n",
       "      <th></th>\n",
       "      <th>flug</th>\n",
       "      <th>fldg</th>\n",
       "      <th>fnetg</th>\n",
       "    </tr>\n",
       "    <tr>\n",
       "      <th>pressure</th>\n",
       "      <th>level</th>\n",
       "      <th></th>\n",
       "      <th></th>\n",
       "      <th></th>\n",
       "    </tr>\n",
       "  </thead>\n",
       "  <tbody>\n",
       "    <tr>\n",
       "      <th>0.0000</th>\n",
       "      <th>1</th>\n",
       "      <td>4.578202e-02</td>\n",
       "      <td>0.000000</td>\n",
       "      <td>0.045782</td>\n",
       "    </tr>\n",
       "    <tr>\n",
       "      <th>1.0685</th>\n",
       "      <th>24</th>\n",
       "      <td>4.629803e-02</td>\n",
       "      <td>-0.000553</td>\n",
       "      <td>0.045746</td>\n",
       "    </tr>\n",
       "    <tr>\n",
       "      <th>1013.0000</th>\n",
       "      <th>76</th>\n",
       "      <td>-5.090000e-07</td>\n",
       "      <td>0.011323</td>\n",
       "      <td>0.011324</td>\n",
       "    </tr>\n",
       "  </tbody>\n",
       "</table>\n",
       "</div>"
      ],
      "text/plain": [
       "                         flug      fldg     fnetg\n",
       "pressure  level                                  \n",
       "0.0000    1      4.578202e-02  0.000000  0.045782\n",
       "1.0685    24     4.629803e-02 -0.000553  0.045746\n",
       "1013.0000 76    -5.090000e-07  0.011323  0.011324"
      ]
     },
     "metadata": {},
     "output_type": "display_data"
    },
    {
     "name": "stdout",
     "output_type": "stream",
     "text": [
      "Table. Fluxes. (WGT igg=10 wgt_flux=1) - (CRD)\n"
     ]
    },
    {
     "data": {
      "text/html": [
       "<div>\n",
       "<style scoped>\n",
       "    .dataframe tbody tr th:only-of-type {\n",
       "        vertical-align: middle;\n",
       "    }\n",
       "\n",
       "    .dataframe tbody tr th {\n",
       "        vertical-align: top;\n",
       "    }\n",
       "\n",
       "    .dataframe thead th {\n",
       "        text-align: right;\n",
       "    }\n",
       "</style>\n",
       "<table border=\"1\" class=\"dataframe\">\n",
       "  <thead>\n",
       "    <tr style=\"text-align: right;\">\n",
       "      <th></th>\n",
       "      <th></th>\n",
       "      <th>flug</th>\n",
       "      <th>fldg</th>\n",
       "      <th>fnetg</th>\n",
       "    </tr>\n",
       "    <tr>\n",
       "      <th>pressure</th>\n",
       "      <th>level</th>\n",
       "      <th></th>\n",
       "      <th></th>\n",
       "      <th></th>\n",
       "    </tr>\n",
       "  </thead>\n",
       "  <tbody>\n",
       "    <tr>\n",
       "      <th>0.0000</th>\n",
       "      <th>1</th>\n",
       "      <td>0.131163</td>\n",
       "      <td>1.842825e-09</td>\n",
       "      <td>0.131163</td>\n",
       "    </tr>\n",
       "    <tr>\n",
       "      <th>1.0685</th>\n",
       "      <th>24</th>\n",
       "      <td>0.131896</td>\n",
       "      <td>-9.863030e-04</td>\n",
       "      <td>0.130910</td>\n",
       "    </tr>\n",
       "    <tr>\n",
       "      <th>1013.0000</th>\n",
       "      <th>76</th>\n",
       "      <td>-0.000004</td>\n",
       "      <td>1.452700e-02</td>\n",
       "      <td>0.014523</td>\n",
       "    </tr>\n",
       "  </tbody>\n",
       "</table>\n",
       "</div>"
      ],
      "text/plain": [
       "                     flug          fldg     fnetg\n",
       "pressure  level                                  \n",
       "0.0000    1      0.131163  1.842825e-09  0.131163\n",
       "1.0685    24     0.131896 -9.863030e-04  0.130910\n",
       "1013.0000 76    -0.000004  1.452700e-02  0.014523"
      ]
     },
     "metadata": {},
     "output_type": "display_data"
    },
    {
     "name": "stdout",
     "output_type": "stream",
     "text": [
      "Table. Fluxes. (CLIRAD) - (CRD)\n"
     ]
    },
    {
     "data": {
      "text/html": [
       "<a id=\"Best-fit_Parameters\"></a>"
      ],
      "text/plain": [
       "<IPython.core.display.HTML object>"
      ]
     },
     "metadata": {},
     "output_type": "display_data"
    },
    {
     "data": {
      "text/markdown": [
       "# Best-fit Parameters"
      ],
      "text/plain": [
       "<IPython.core.display.Markdown object>"
      ]
     },
     "metadata": {},
     "output_type": "display_data"
    },
    {
     "name": "stdout",
     "output_type": "stream",
     "text": [
      "Best-fit values for each (gas, band)\n",
      "------------------------------------\n",
      "o h2o band8\n",
      "  atmpro = mls\n",
      "  band = 8\n",
      "  commitnumber = a06b618\n",
      "  conc = None\n",
      "  dv = 0.001\n",
      "  klin = 0\n",
      "  molecule = h2o\n",
      "  ng_adju = [0, -1, 0]\n",
      "  ng_refs = [3, 2, 3]\n",
      "  nv = 1000\n",
      "  option_compute_btable = 0\n",
      "  option_compute_ktable = 1\n",
      "  option_wgt_flux = 1\n",
      "  option_wgt_k = 1\n",
      "  ref_pts = [(1, 250), (10, 250), (500, 250)]\n",
      "  tsfc = 294\n",
      "  vmax = 1900\n",
      "  vmin = 1380\n",
      "  w_diffuse = [(1.66, 1.66, 1.66), (1.66, 1.66), (1.66, 1.66, 1.66)]\n",
      "  wgt = [(0.55, 0.55, 0.85), (0.85, 0.85), (0, 0.3, 0.55)]\n"
     ]
    }
   ],
   "source": [
    "script()"
   ]
  },
  {
   "cell_type": "code",
   "execution_count": 13,
   "metadata": {
    "collapsed": true
   },
   "outputs": [
    {
     "data": {
      "text/html": [
       "<script>\n",
       "code_show=true; \n",
       "function code_toggle() {\n",
       " if (code_show){\n",
       " $('div.input').hide();\n",
       " } else {\n",
       " $('div.input').show();\n",
       " }\n",
       " code_show = !code_show\n",
       "} \n",
       "$( document ).ready(code_toggle);\n",
       "</script>\n",
       "<form action=\"javascript:code_toggle()\"><input type=\"submit\" value=\"Click here to toggle on/off the raw code.\"></form>"
      ],
      "text/plain": [
       "<IPython.core.display.HTML object>"
      ]
     },
     "execution_count": 13,
     "metadata": {},
     "output_type": "execute_result"
    }
   ],
   "source": [
    "display.HTML('''<script>\n",
    "code_show=true; \n",
    "function code_toggle() {\n",
    " if (code_show){\n",
    " $('div.input').hide();\n",
    " } else {\n",
    " $('div.input').show();\n",
    " }\n",
    " code_show = !code_show\n",
    "} \n",
    "$( document ).ready(code_toggle);\n",
    "</script>\n",
    "<form action=\"javascript:code_toggle()\"><input type=\"submit\" value=\"Click here to toggle on/off the raw code.\"></form>''')"
   ]
  }
 ],
 "metadata": {
  "kernelspec": {
   "display_name": "Python 3",
   "language": "python",
   "name": "python3"
  },
  "language_info": {
   "codemirror_mode": {
    "name": "ipython",
    "version": 3
   },
   "file_extension": ".py",
   "mimetype": "text/x-python",
   "name": "python",
   "nbconvert_exporter": "python",
   "pygments_lexer": "ipython3",
   "version": "3.6.1"
  }
 },
 "nbformat": 4,
 "nbformat_minor": 2
}
