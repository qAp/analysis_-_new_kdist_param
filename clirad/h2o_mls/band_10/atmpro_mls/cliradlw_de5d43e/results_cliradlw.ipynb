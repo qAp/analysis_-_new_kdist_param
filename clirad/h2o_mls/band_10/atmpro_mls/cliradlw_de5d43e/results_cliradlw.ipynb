{
 "cells": [
  {
   "cell_type": "code",
   "execution_count": 1,
   "metadata": {
    "collapsed": true
   },
   "outputs": [],
   "source": [
    "%matplotlib inline\n",
    "import os\n",
    "import re\n",
    "import io\n",
    "import itertools\n",
    "import pprint\n",
    "\n",
    "from bokeh.io import output_notebook, show\n",
    "from bokeh.layouts import gridplot\n",
    "from bokeh.plotting import figure\n",
    "from bokeh.models import Range1d, Legend\n",
    "from bokeh.palettes import all_palettes\n",
    "\n",
    "import matplotlib\n",
    "import matplotlib.pyplot as plt\n",
    "import numpy as np\n",
    "import pandas as pd\n",
    "import xarray as xr\n",
    "\n",
    "import climatools.lblnew.bestfit_params as bestfits\n",
    "from climatools.lblnew import setup_bestfit, setup_overlap\n",
    "import climatools.lblnew.pipeline as pipe_lblnew\n",
    "import climatools.cliradlw.setup as setup_cliradlw\n",
    "import climatools.cliradlw.pipeline as pipe_cliradlw\n",
    "\n",
    "import climatools.html.html as climahtml\n",
    "from climatools.lblnew.dataio import *\n",
    "from climatools.plot.plot import *\n",
    "\n",
    "\n",
    "import IPython.display as display"
   ]
  },
  {
   "cell_type": "code",
   "execution_count": 2,
   "metadata": {
    "collapsed": true
   },
   "outputs": [],
   "source": [
    "%run param.py"
   ]
  },
  {
   "cell_type": "code",
   "execution_count": 3,
   "metadata": {
    "collapsed": true
   },
   "outputs": [],
   "source": [
    "def load_output_file(path_csv):\n",
    "    '''\n",
    "    Load lblnew output .csv file to xarray.Dataset\n",
    "    \n",
    "    Parameters\n",
    "    ----------\n",
    "    path_csv: str\n",
    "              Path to the .csv file to be loaded.\n",
    "    ds: xarray.Dataset\n",
    "        Data in the input file in the form of an xarray.Dataset.\n",
    "    '''\n",
    "    toindex = ['band', 'pressure', 'igg', 'g']    \n",
    "    df = pd.read_csv(path_csv, sep=r'\\s+')\n",
    "    df = df.set_index([i for i in toindex if i in df.columns])\n",
    "    df = df.rename(columns={'sfu': 'flug',\n",
    "                            'sfd': 'fldg',\n",
    "                            'fnet': 'fnetg',\n",
    "                            'coolr': 'coolrg'})\n",
    "    ds = xr.Dataset.from_dataframe(df)\n",
    "\n",
    "    for l in ('level', 'layer'):\n",
    "        if l in ds.data_vars:\n",
    "            if len(ds[l].dims) > 1:\n",
    "                surface = {d: 0 for d in ds.dims if d != 'pressure'}\n",
    "                coord_level = ds[l][surface]\n",
    "                ds.coords[l] = ('pressure', coord_level)\n",
    "            else:\n",
    "                ds.coords[l] = ('pressure', ds[l])\n",
    "    \n",
    "    return ds"
   ]
  },
  {
   "cell_type": "code",
   "execution_count": 4,
   "metadata": {
    "collapsed": true
   },
   "outputs": [],
   "source": [
    "def lblnew_setup(param=None):\n",
    "    if 'ng_refs' in param:\n",
    "        return {'setup': setup_bestfit,\n",
    "                'fname_flux_crd': 'output_flux.dat',\n",
    "                'fname_cool_crd': 'output_coolr.dat',\n",
    "                'fname_flux_wgt': 'output_wfluxg.dat',\n",
    "                'fname_cool_wgt': 'output_wcoolrg.dat'}\n",
    "    else:\n",
    "        return {'setup': setup_overlap,\n",
    "                'fname_flux_crd': 'output_flux.dat',\n",
    "                'fname_cool_crd': 'output_coolr.dat',\n",
    "                'fname_flux_wgt': 'output_wflux.dat',\n",
    "                'fname_cool_wgt': 'output_wcoolr.dat'}\n",
    "\n",
    "    \n",
    "def load_lblnew_data(param):\n",
    "    \n",
    "    fname_dsname = [('fname_flux_crd', 'ds_flux_crd'),\n",
    "                    ('fname_cool_crd', 'ds_cool_crd'),\n",
    "                    ('fname_flux_wgt', 'ds_flux_wgt'),\n",
    "                    ('fname_cool_wgt', 'ds_cool_wgt')]\n",
    "    \n",
    "    d = lblnew_setup(param)\n",
    "    dir_fortran = pipe_lblnew.get_dir_case(param, setup=d['setup'])\n",
    "    \n",
    "    data_dict = {}\n",
    "    for fname, dsname in fname_dsname:\n",
    "        fpath = os.path.join(dir_fortran, d[fname])\n",
    "        data_dict[dsname] = load_output_file(fpath)\n",
    "    return data_dict\n",
    "    \n",
    "\n",
    "    \n",
    "    "
   ]
  },
  {
   "cell_type": "code",
   "execution_count": 5,
   "metadata": {
    "collapsed": true
   },
   "outputs": [],
   "source": [
    "d = load_lblnew_data(PARAM_LBLNEW)\n",
    "\n",
    "DS_FLUX_CRD = d['ds_flux_crd']\n",
    "DS_COOL_CRD = d['ds_cool_crd']\n",
    "DS_FLUX_WGT = d['ds_flux_wgt']\n",
    "DS_COOL_WGT = d['ds_cool_wgt']"
   ]
  },
  {
   "cell_type": "code",
   "execution_count": 6,
   "metadata": {
    "collapsed": true
   },
   "outputs": [],
   "source": [
    "DIR_FORTRAN = pipe_cliradlw.get_fortran_dir(PARAM, \n",
    "                                            setup=setup_cliradlw)\n",
    "\n",
    "PATH_FLUX = os.path.join(DIR_FORTRAN, 'output_flux.dat')\n",
    "PATH_COOL = os.path.join(DIR_FORTRAN, 'output_coolr.dat')\n",
    "\n",
    "DS_FLUX = load_output_file(PATH_FLUX)\n",
    "DS_COOL = load_output_file(PATH_COOL)"
   ]
  },
  {
   "cell_type": "code",
   "execution_count": 7,
   "metadata": {
    "collapsed": true
   },
   "outputs": [
    {
     "data": {
      "text/html": [
       "\n",
       "    <div class=\"bk-root\">\n",
       "        <a href=\"https://bokeh.pydata.org\" target=\"_blank\" class=\"bk-logo bk-logo-small bk-logo-notebook\"></a>\n",
       "        <span id=\"37c404f5-5ecc-4cc6-9495-f8dca00f3318\">Loading BokehJS ...</span>\n",
       "    </div>"
      ]
     },
     "metadata": {},
     "output_type": "display_data"
    },
    {
     "data": {
      "application/javascript": [
       "\n",
       "(function(root) {\n",
       "  function now() {\n",
       "    return new Date();\n",
       "  }\n",
       "\n",
       "  var force = true;\n",
       "\n",
       "  if (typeof (root._bokeh_onload_callbacks) === \"undefined\" || force === true) {\n",
       "    root._bokeh_onload_callbacks = [];\n",
       "    root._bokeh_is_loading = undefined;\n",
       "  }\n",
       "\n",
       "  var JS_MIME_TYPE = 'application/javascript';\n",
       "  var HTML_MIME_TYPE = 'text/html';\n",
       "  var EXEC_MIME_TYPE = 'application/vnd.bokehjs_exec.v0+json';\n",
       "  var CLASS_NAME = 'output_bokeh rendered_html';\n",
       "\n",
       "  /**\n",
       "   * Render data to the DOM node\n",
       "   */\n",
       "  function render(props, node) {\n",
       "    var script = document.createElement(\"script\");\n",
       "    node.appendChild(script);\n",
       "  }\n",
       "\n",
       "  /**\n",
       "   * Handle when an output is cleared or removed\n",
       "   */\n",
       "  function handleClearOutput(event, handle) {\n",
       "    var cell = handle.cell;\n",
       "\n",
       "    var id = cell.output_area._bokeh_element_id;\n",
       "    var server_id = cell.output_area._bokeh_server_id;\n",
       "    // Clean up Bokeh references\n",
       "    if (id !== undefined) {\n",
       "      Bokeh.index[id].model.document.clear();\n",
       "      delete Bokeh.index[id];\n",
       "    }\n",
       "\n",
       "    if (server_id !== undefined) {\n",
       "      // Clean up Bokeh references\n",
       "      var cmd = \"from bokeh.io.state import curstate; print(curstate().uuid_to_server['\" + server_id + \"'].get_sessions()[0].document.roots[0]._id)\";\n",
       "      cell.notebook.kernel.execute(cmd, {\n",
       "        iopub: {\n",
       "          output: function(msg) {\n",
       "            var element_id = msg.content.text.trim();\n",
       "            Bokeh.index[element_id].model.document.clear();\n",
       "            delete Bokeh.index[element_id];\n",
       "          }\n",
       "        }\n",
       "      });\n",
       "      // Destroy server and session\n",
       "      var cmd = \"import bokeh.io.notebook as ion; ion.destroy_server('\" + server_id + \"')\";\n",
       "      cell.notebook.kernel.execute(cmd);\n",
       "    }\n",
       "  }\n",
       "\n",
       "  /**\n",
       "   * Handle when a new output is added\n",
       "   */\n",
       "  function handleAddOutput(event, handle) {\n",
       "    var output_area = handle.output_area;\n",
       "    var output = handle.output;\n",
       "\n",
       "    // limit handleAddOutput to display_data with EXEC_MIME_TYPE content only\n",
       "    if ((output.output_type != \"display_data\") || (!output.data.hasOwnProperty(EXEC_MIME_TYPE))) {\n",
       "      return\n",
       "    }\n",
       "\n",
       "    var toinsert = output_area.element.find(\".\" + CLASS_NAME.split(' ')[0]);\n",
       "\n",
       "    if (output.metadata[EXEC_MIME_TYPE][\"id\"] !== undefined) {\n",
       "      toinsert[toinsert.length - 1].firstChild.textContent = output.data[JS_MIME_TYPE];\n",
       "      // store reference to embed id on output_area\n",
       "      output_area._bokeh_element_id = output.metadata[EXEC_MIME_TYPE][\"id\"];\n",
       "    }\n",
       "    if (output.metadata[EXEC_MIME_TYPE][\"server_id\"] !== undefined) {\n",
       "      var bk_div = document.createElement(\"div\");\n",
       "      bk_div.innerHTML = output.data[HTML_MIME_TYPE];\n",
       "      var script_attrs = bk_div.children[0].attributes;\n",
       "      for (var i = 0; i < script_attrs.length; i++) {\n",
       "        toinsert[toinsert.length - 1].firstChild.setAttribute(script_attrs[i].name, script_attrs[i].value);\n",
       "      }\n",
       "      // store reference to server id on output_area\n",
       "      output_area._bokeh_server_id = output.metadata[EXEC_MIME_TYPE][\"server_id\"];\n",
       "    }\n",
       "  }\n",
       "\n",
       "  function register_renderer(events, OutputArea) {\n",
       "\n",
       "    function append_mime(data, metadata, element) {\n",
       "      // create a DOM node to render to\n",
       "      var toinsert = this.create_output_subarea(\n",
       "        metadata,\n",
       "        CLASS_NAME,\n",
       "        EXEC_MIME_TYPE\n",
       "      );\n",
       "      this.keyboard_manager.register_events(toinsert);\n",
       "      // Render to node\n",
       "      var props = {data: data, metadata: metadata[EXEC_MIME_TYPE]};\n",
       "      render(props, toinsert[toinsert.length - 1]);\n",
       "      element.append(toinsert);\n",
       "      return toinsert\n",
       "    }\n",
       "\n",
       "    /* Handle when an output is cleared or removed */\n",
       "    events.on('clear_output.CodeCell', handleClearOutput);\n",
       "    events.on('delete.Cell', handleClearOutput);\n",
       "\n",
       "    /* Handle when a new output is added */\n",
       "    events.on('output_added.OutputArea', handleAddOutput);\n",
       "\n",
       "    /**\n",
       "     * Register the mime type and append_mime function with output_area\n",
       "     */\n",
       "    OutputArea.prototype.register_mime_type(EXEC_MIME_TYPE, append_mime, {\n",
       "      /* Is output safe? */\n",
       "      safe: true,\n",
       "      /* Index of renderer in `output_area.display_order` */\n",
       "      index: 0\n",
       "    });\n",
       "  }\n",
       "\n",
       "  // register the mime type if in Jupyter Notebook environment and previously unregistered\n",
       "  if (root.Jupyter !== undefined) {\n",
       "    var events = require('base/js/events');\n",
       "    var OutputArea = require('notebook/js/outputarea').OutputArea;\n",
       "\n",
       "    if (OutputArea.prototype.mime_types().indexOf(EXEC_MIME_TYPE) == -1) {\n",
       "      register_renderer(events, OutputArea);\n",
       "    }\n",
       "  }\n",
       "\n",
       "  \n",
       "  if (typeof (root._bokeh_timeout) === \"undefined\" || force === true) {\n",
       "    root._bokeh_timeout = Date.now() + 5000;\n",
       "    root._bokeh_failed_load = false;\n",
       "  }\n",
       "\n",
       "  var NB_LOAD_WARNING = {'data': {'text/html':\n",
       "     \"<div style='background-color: #fdd'>\\n\"+\n",
       "     \"<p>\\n\"+\n",
       "     \"BokehJS does not appear to have successfully loaded. If loading BokehJS from CDN, this \\n\"+\n",
       "     \"may be due to a slow or bad network connection. Possible fixes:\\n\"+\n",
       "     \"</p>\\n\"+\n",
       "     \"<ul>\\n\"+\n",
       "     \"<li>re-rerun `output_notebook()` to attempt to load from CDN again, or</li>\\n\"+\n",
       "     \"<li>use INLINE resources instead, as so:</li>\\n\"+\n",
       "     \"</ul>\\n\"+\n",
       "     \"<code>\\n\"+\n",
       "     \"from bokeh.resources import INLINE\\n\"+\n",
       "     \"output_notebook(resources=INLINE)\\n\"+\n",
       "     \"</code>\\n\"+\n",
       "     \"</div>\"}};\n",
       "\n",
       "  function display_loaded() {\n",
       "    var el = document.getElementById(\"37c404f5-5ecc-4cc6-9495-f8dca00f3318\");\n",
       "    if (el != null) {\n",
       "      el.textContent = \"BokehJS is loading...\";\n",
       "    }\n",
       "    if (root.Bokeh !== undefined) {\n",
       "      if (el != null) {\n",
       "        el.textContent = \"BokehJS \" + root.Bokeh.version + \" successfully loaded.\";\n",
       "      }\n",
       "    } else if (Date.now() < root._bokeh_timeout) {\n",
       "      setTimeout(display_loaded, 100)\n",
       "    }\n",
       "  }\n",
       "\n",
       "\n",
       "  function run_callbacks() {\n",
       "    try {\n",
       "      root._bokeh_onload_callbacks.forEach(function(callback) { callback() });\n",
       "    }\n",
       "    finally {\n",
       "      delete root._bokeh_onload_callbacks\n",
       "    }\n",
       "    console.info(\"Bokeh: all callbacks have finished\");\n",
       "  }\n",
       "\n",
       "  function load_libs(js_urls, callback) {\n",
       "    root._bokeh_onload_callbacks.push(callback);\n",
       "    if (root._bokeh_is_loading > 0) {\n",
       "      console.log(\"Bokeh: BokehJS is being loaded, scheduling callback at\", now());\n",
       "      return null;\n",
       "    }\n",
       "    if (js_urls == null || js_urls.length === 0) {\n",
       "      run_callbacks();\n",
       "      return null;\n",
       "    }\n",
       "    console.log(\"Bokeh: BokehJS not loaded, scheduling load and callback at\", now());\n",
       "    root._bokeh_is_loading = js_urls.length;\n",
       "    for (var i = 0; i < js_urls.length; i++) {\n",
       "      var url = js_urls[i];\n",
       "      var s = document.createElement('script');\n",
       "      s.src = url;\n",
       "      s.async = false;\n",
       "      s.onreadystatechange = s.onload = function() {\n",
       "        root._bokeh_is_loading--;\n",
       "        if (root._bokeh_is_loading === 0) {\n",
       "          console.log(\"Bokeh: all BokehJS libraries loaded\");\n",
       "          run_callbacks()\n",
       "        }\n",
       "      };\n",
       "      s.onerror = function() {\n",
       "        console.warn(\"failed to load library \" + url);\n",
       "      };\n",
       "      console.log(\"Bokeh: injecting script tag for BokehJS library: \", url);\n",
       "      document.getElementsByTagName(\"head\")[0].appendChild(s);\n",
       "    }\n",
       "  };var element = document.getElementById(\"37c404f5-5ecc-4cc6-9495-f8dca00f3318\");\n",
       "  if (element == null) {\n",
       "    console.log(\"Bokeh: ERROR: autoload.js configured with elementid '37c404f5-5ecc-4cc6-9495-f8dca00f3318' but no matching script tag was found. \")\n",
       "    return false;\n",
       "  }\n",
       "\n",
       "  var js_urls = [\"https://cdn.pydata.org/bokeh/release/bokeh-0.12.16.min.js\", \"https://cdn.pydata.org/bokeh/release/bokeh-widgets-0.12.16.min.js\", \"https://cdn.pydata.org/bokeh/release/bokeh-tables-0.12.16.min.js\", \"https://cdn.pydata.org/bokeh/release/bokeh-gl-0.12.16.min.js\"];\n",
       "\n",
       "  var inline_js = [\n",
       "    function(Bokeh) {\n",
       "      Bokeh.set_log_level(\"info\");\n",
       "    },\n",
       "    \n",
       "    function(Bokeh) {\n",
       "      \n",
       "    },\n",
       "    function(Bokeh) {\n",
       "      console.log(\"Bokeh: injecting CSS: https://cdn.pydata.org/bokeh/release/bokeh-0.12.16.min.css\");\n",
       "      Bokeh.embed.inject_css(\"https://cdn.pydata.org/bokeh/release/bokeh-0.12.16.min.css\");\n",
       "      console.log(\"Bokeh: injecting CSS: https://cdn.pydata.org/bokeh/release/bokeh-widgets-0.12.16.min.css\");\n",
       "      Bokeh.embed.inject_css(\"https://cdn.pydata.org/bokeh/release/bokeh-widgets-0.12.16.min.css\");\n",
       "      console.log(\"Bokeh: injecting CSS: https://cdn.pydata.org/bokeh/release/bokeh-tables-0.12.16.min.css\");\n",
       "      Bokeh.embed.inject_css(\"https://cdn.pydata.org/bokeh/release/bokeh-tables-0.12.16.min.css\");\n",
       "    }\n",
       "  ];\n",
       "\n",
       "  function run_inline_js() {\n",
       "    \n",
       "    if ((root.Bokeh !== undefined) || (force === true)) {\n",
       "      for (var i = 0; i < inline_js.length; i++) {\n",
       "        inline_js[i].call(root, root.Bokeh);\n",
       "      }if (force === true) {\n",
       "        display_loaded();\n",
       "      }} else if (Date.now() < root._bokeh_timeout) {\n",
       "      setTimeout(run_inline_js, 100);\n",
       "    } else if (!root._bokeh_failed_load) {\n",
       "      console.log(\"Bokeh: BokehJS failed to load within specified timeout.\");\n",
       "      root._bokeh_failed_load = true;\n",
       "    } else if (force !== true) {\n",
       "      var cell = $(document.getElementById(\"37c404f5-5ecc-4cc6-9495-f8dca00f3318\")).parents('.cell').data().cell;\n",
       "      cell.output_area.append_execute_result(NB_LOAD_WARNING)\n",
       "    }\n",
       "\n",
       "  }\n",
       "\n",
       "  if (root._bokeh_is_loading === 0) {\n",
       "    console.log(\"Bokeh: BokehJS loaded, going straight to plotting\");\n",
       "    run_inline_js();\n",
       "  } else {\n",
       "    load_libs(js_urls, function() {\n",
       "      console.log(\"Bokeh: BokehJS plotting callback run at\", now());\n",
       "      run_inline_js();\n",
       "    });\n",
       "  }\n",
       "}(window));"
      ],
      "application/vnd.bokehjs_load.v0+json": "\n(function(root) {\n  function now() {\n    return new Date();\n  }\n\n  var force = true;\n\n  if (typeof (root._bokeh_onload_callbacks) === \"undefined\" || force === true) {\n    root._bokeh_onload_callbacks = [];\n    root._bokeh_is_loading = undefined;\n  }\n\n  \n\n  \n  if (typeof (root._bokeh_timeout) === \"undefined\" || force === true) {\n    root._bokeh_timeout = Date.now() + 5000;\n    root._bokeh_failed_load = false;\n  }\n\n  var NB_LOAD_WARNING = {'data': {'text/html':\n     \"<div style='background-color: #fdd'>\\n\"+\n     \"<p>\\n\"+\n     \"BokehJS does not appear to have successfully loaded. If loading BokehJS from CDN, this \\n\"+\n     \"may be due to a slow or bad network connection. Possible fixes:\\n\"+\n     \"</p>\\n\"+\n     \"<ul>\\n\"+\n     \"<li>re-rerun `output_notebook()` to attempt to load from CDN again, or</li>\\n\"+\n     \"<li>use INLINE resources instead, as so:</li>\\n\"+\n     \"</ul>\\n\"+\n     \"<code>\\n\"+\n     \"from bokeh.resources import INLINE\\n\"+\n     \"output_notebook(resources=INLINE)\\n\"+\n     \"</code>\\n\"+\n     \"</div>\"}};\n\n  function display_loaded() {\n    var el = document.getElementById(\"37c404f5-5ecc-4cc6-9495-f8dca00f3318\");\n    if (el != null) {\n      el.textContent = \"BokehJS is loading...\";\n    }\n    if (root.Bokeh !== undefined) {\n      if (el != null) {\n        el.textContent = \"BokehJS \" + root.Bokeh.version + \" successfully loaded.\";\n      }\n    } else if (Date.now() < root._bokeh_timeout) {\n      setTimeout(display_loaded, 100)\n    }\n  }\n\n\n  function run_callbacks() {\n    try {\n      root._bokeh_onload_callbacks.forEach(function(callback) { callback() });\n    }\n    finally {\n      delete root._bokeh_onload_callbacks\n    }\n    console.info(\"Bokeh: all callbacks have finished\");\n  }\n\n  function load_libs(js_urls, callback) {\n    root._bokeh_onload_callbacks.push(callback);\n    if (root._bokeh_is_loading > 0) {\n      console.log(\"Bokeh: BokehJS is being loaded, scheduling callback at\", now());\n      return null;\n    }\n    if (js_urls == null || js_urls.length === 0) {\n      run_callbacks();\n      return null;\n    }\n    console.log(\"Bokeh: BokehJS not loaded, scheduling load and callback at\", now());\n    root._bokeh_is_loading = js_urls.length;\n    for (var i = 0; i < js_urls.length; i++) {\n      var url = js_urls[i];\n      var s = document.createElement('script');\n      s.src = url;\n      s.async = false;\n      s.onreadystatechange = s.onload = function() {\n        root._bokeh_is_loading--;\n        if (root._bokeh_is_loading === 0) {\n          console.log(\"Bokeh: all BokehJS libraries loaded\");\n          run_callbacks()\n        }\n      };\n      s.onerror = function() {\n        console.warn(\"failed to load library \" + url);\n      };\n      console.log(\"Bokeh: injecting script tag for BokehJS library: \", url);\n      document.getElementsByTagName(\"head\")[0].appendChild(s);\n    }\n  };var element = document.getElementById(\"37c404f5-5ecc-4cc6-9495-f8dca00f3318\");\n  if (element == null) {\n    console.log(\"Bokeh: ERROR: autoload.js configured with elementid '37c404f5-5ecc-4cc6-9495-f8dca00f3318' but no matching script tag was found. \")\n    return false;\n  }\n\n  var js_urls = [\"https://cdn.pydata.org/bokeh/release/bokeh-0.12.16.min.js\", \"https://cdn.pydata.org/bokeh/release/bokeh-widgets-0.12.16.min.js\", \"https://cdn.pydata.org/bokeh/release/bokeh-tables-0.12.16.min.js\", \"https://cdn.pydata.org/bokeh/release/bokeh-gl-0.12.16.min.js\"];\n\n  var inline_js = [\n    function(Bokeh) {\n      Bokeh.set_log_level(\"info\");\n    },\n    \n    function(Bokeh) {\n      \n    },\n    function(Bokeh) {\n      console.log(\"Bokeh: injecting CSS: https://cdn.pydata.org/bokeh/release/bokeh-0.12.16.min.css\");\n      Bokeh.embed.inject_css(\"https://cdn.pydata.org/bokeh/release/bokeh-0.12.16.min.css\");\n      console.log(\"Bokeh: injecting CSS: https://cdn.pydata.org/bokeh/release/bokeh-widgets-0.12.16.min.css\");\n      Bokeh.embed.inject_css(\"https://cdn.pydata.org/bokeh/release/bokeh-widgets-0.12.16.min.css\");\n      console.log(\"Bokeh: injecting CSS: https://cdn.pydata.org/bokeh/release/bokeh-tables-0.12.16.min.css\");\n      Bokeh.embed.inject_css(\"https://cdn.pydata.org/bokeh/release/bokeh-tables-0.12.16.min.css\");\n    }\n  ];\n\n  function run_inline_js() {\n    \n    if ((root.Bokeh !== undefined) || (force === true)) {\n      for (var i = 0; i < inline_js.length; i++) {\n        inline_js[i].call(root, root.Bokeh);\n      }if (force === true) {\n        display_loaded();\n      }} else if (Date.now() < root._bokeh_timeout) {\n      setTimeout(run_inline_js, 100);\n    } else if (!root._bokeh_failed_load) {\n      console.log(\"Bokeh: BokehJS failed to load within specified timeout.\");\n      root._bokeh_failed_load = true;\n    } else if (force !== true) {\n      var cell = $(document.getElementById(\"37c404f5-5ecc-4cc6-9495-f8dca00f3318\")).parents('.cell').data().cell;\n      cell.output_area.append_execute_result(NB_LOAD_WARNING)\n    }\n\n  }\n\n  if (root._bokeh_is_loading === 0) {\n    console.log(\"Bokeh: BokehJS loaded, going straight to plotting\");\n    run_inline_js();\n  } else {\n    load_libs(js_urls, function() {\n      console.log(\"Bokeh: BokehJS plotting callback run at\", now());\n      run_inline_js();\n    });\n  }\n}(window));"
     },
     "metadata": {},
     "output_type": "display_data"
    }
   ],
   "source": [
    "output_notebook()"
   ]
  },
  {
   "cell_type": "code",
   "execution_count": 8,
   "metadata": {
    "collapsed": true
   },
   "outputs": [],
   "source": [
    "def fmt_cool(ds_in):\n",
    "    ds = ds_in.copy(deep=True)\n",
    "    if 'igg' in ds.dims:\n",
    "        ds = ds.sel(igg=1)\n",
    "\n",
    "    if 'g' in ds.dims:\n",
    "        ds = ds.sum('g')\n",
    "            \n",
    "    if 'band' in ds.dims:\n",
    "        try:\n",
    "            ds = ds.squeeze('band')\n",
    "        except ValueError:\n",
    "            ds = ds.sum('band')\n",
    "                \n",
    "    return ds['coolrg']\n",
    "\n",
    "\n",
    "def pltdata_cooling_1(ds_cool=None,\n",
    "                      ds_cool_crd=None, ds_cool_wgt=None):\n",
    "    \n",
    "\n",
    "\n",
    "    colors = all_palettes['Set1'][4]\n",
    "    data = [{'label': 'CLIRAD `coolr_bands`',\n",
    "             'srs': fmt_cool(ds_cool),\n",
    "             'line_dash': 'dashed', 'line_width': 5,\n",
    "             'color': colors[0], 'alpha': .6},\n",
    "            {'label': 'CRD',\n",
    "             'srs': fmt_cool(ds_cool_crd),\n",
    "             'line_dash': 'solid', 'line_width': 1.5,\n",
    "             'marker': 'circle', 'marker_size': 5,\n",
    "             'color': colors[2], 'alpha': 1,},\n",
    "            {'label': 'WGT igg=10 wgt_flux=2',\n",
    "             'srs': fmt_cool(ds_cool_wgt),\n",
    "             'line_dash': 'solid', 'line_width': 3,\n",
    "             'marker': 'square', 'marker_size': 5,\n",
    "             'color': colors[3], 'alpha': .6}]\n",
    "    return data\n",
    "\n",
    "\n",
    "def nice_xlims(pltdata=None, prange=None):\n",
    "    \n",
    "    def get_slice(srs):\n",
    "        return srs.sel(pressure=slice(*prange))\n",
    "    \n",
    "    srss = [d['srs'] for d in pltdata]\n",
    "    vmin = min([get_slice(srs).min() for srs in srss])\n",
    "    vmax = max([get_slice(srs).max() for srs in srss])\n",
    "    dv = (vmax - vmin) * .01\n",
    "    return float(vmin - dv), float(vmax + dv)\n",
    "    \n",
    "\n",
    "def plt_cooling_bokeh(pltdata=None):\n",
    "    '''\n",
    "    Plot a list of cooling rate profiles using bokeh.\n",
    "    '''\n",
    "    ymin = 1e-2 \n",
    "    ymax = 1020 \n",
    "        \n",
    "    p1 = figure(title=\"Linear pressure scale\", \n",
    "                plot_width=400)        \n",
    "    xmin, xmax = nice_xlims(pltdata, prange=(50, 1050))\n",
    "    for d in pltdata:\n",
    "        if 'marker' in d:\n",
    "            getattr(p1, d['marker'])(d['srs'].values, \n",
    "                    d['srs'].coords['pressure'].values,\n",
    "                    color=d['color'], alpha=.7)\n",
    "        p1.line(d['srs'].values, \n",
    "                d['srs'].coords['pressure'].values,\n",
    "                color=d['color'], alpha=d['alpha'], \n",
    "                line_width=d['line_width'], line_dash=d['line_dash'])\n",
    "    \n",
    "    p1.y_range = Range1d(ymax, ymin)\n",
    "    p1.yaxis.axis_label = 'pressure [mb]'   \n",
    "    p1.x_range = Range1d(xmin, xmax)\n",
    "    p1.xaxis.axis_label = 'cooling rate [K/day]'\n",
    "            \n",
    "    p2 = figure(title='Log pressure scale', y_axis_type='log',\n",
    "                plot_width=560)\n",
    "    xmin, xmax = nice_xlims(pltdata, prange=(.01, 200))\n",
    "    \n",
    "    rs = []\n",
    "    for d in pltdata:\n",
    "        rd = []\n",
    "        if 'marker' in d:\n",
    "            r_mark = getattr(p2, d['marker'])(d['srs'].values, \n",
    "                        d['srs'].coords['pressure'].values,\n",
    "                        color=d['color'], alpha=.7)\n",
    "            rd.append(r_mark)\n",
    "        r_line = p2.line(d['srs'].values, \n",
    "                    d['srs'].coords['pressure'].values,\n",
    "                    color=d['color'], alpha=d['alpha'], \n",
    "                    line_width=d['line_width'], line_dash=d['line_dash'])\n",
    "        rd.append(r_line)\n",
    "      \n",
    "        rs.append(rd)\n",
    "        \n",
    "    p2.y_range = Range1d(ymax, ymin)  \n",
    "    p2.yaxis.axis_label = 'pressure [mb]'\n",
    "    \n",
    "    p2.x_range = Range1d(xmin, xmax)\n",
    "    p2.xaxis.axis_label = 'cooling rate [K/day]'\n",
    "    \n",
    "    items = [(d['label'], r) for r, d in zip(rs, pltdata)]\n",
    "    legend = Legend(items=items, location=(10, -30))\n",
    "    legend.label_text_font_size = '8pt'\n",
    "    \n",
    "    p2.add_layout(legend, 'right')  \n",
    "    \n",
    "    show(gridplot(p1, p2, ncols=2, plot_height=500))\n",
    "    \n",
    "\n",
    "def script_plt_cooling():\n",
    "    pltdata = pltdata_cooling_1(\n",
    "        ds_cool=DS_COOL,\n",
    "        ds_cool_crd=DS_COOL_CRD,\n",
    "        ds_cool_wgt=DS_COOL_WGT)\n",
    "    plt_cooling_bokeh(pltdata=pltdata)\n",
    "    print('''FIGURE. Cooling rate profiles.''')"
   ]
  },
  {
   "cell_type": "code",
   "execution_count": 9,
   "metadata": {
    "collapsed": true
   },
   "outputs": [],
   "source": [
    "def fmt_flux(ds_in):\n",
    "    ds = ds_in.copy(deep=True)\n",
    "    \n",
    "    for l in ('level', 'layer'):\n",
    "        if l in ds.data_vars:\n",
    "            if len(ds[l].dims) > 1:\n",
    "                surface = {d: 0 for d in ds.dims if d != 'pressure'}\n",
    "                coord_level = ds[l][surface]\n",
    "                ds.coords[l] = ('pressure', coord_level)\n",
    "            else:\n",
    "                ds.coords[l] = ('pressure', ds[l])\n",
    "        \n",
    "    ds = ds.isel(pressure=[0, 23, -1])\n",
    "        \n",
    "    if 'igg' in ds.dims:\n",
    "        ds = ds.sel(igg=[1])\n",
    "        ds = ds.squeeze('igg').drop('igg')\n",
    "    \n",
    "    if 'g' in ds.dims:\n",
    "        ds = ds.sum('g')\n",
    "            \n",
    "    if 'band' in ds.dims:\n",
    "        try:\n",
    "            ds = ds.squeeze('band').drop('band')\n",
    "        except ValueError:\n",
    "            ds = ds.sum('band')\n",
    "                \n",
    "    df = ds.to_dataframe()\n",
    "    df = df.set_index('level', append=True)               \n",
    "    return df\n",
    "\n",
    "\n",
    "def tbdata_flux(ds_flux=None, ds_flux_crd=None, ds_flux_wgt=None):\n",
    "    ilevels = [0, 23, -1]\n",
    "            \n",
    "    benchmark = {'label': 'CRD',\n",
    "                 'df': fmt_flux(ds_flux_crd)}\n",
    "    \n",
    "    tbs = [{'label': 'WGT igg=10 wgt_flux=1',\n",
    "            'df': fmt_flux(ds_flux_wgt)},\n",
    "           {'label': 'CLIRAD',\n",
    "            'df': fmt_flux(ds_flux)}]\n",
    "    \n",
    "    data = {'benchmark': benchmark, 'others': tbs}\n",
    "    return data\n",
    "\n",
    "\n",
    "def tb_flux(tbdata=None):\n",
    "    benchmark = tbdata['benchmark']\n",
    "    others = tbdata['others']\n",
    "    \n",
    "    def show_tb(d=None):\n",
    "        display.display(d['df'])\n",
    "        print('Table.', 'Fluxes.', d['label'])\n",
    "        \n",
    "    def show_tbdiff(d0=None, d=None):\n",
    "        df = d['df']\n",
    "        df.index = d0['df'].index\n",
    "        display.display(df - d0['df'])\n",
    "        print('Table.', 'Fluxes.', \n",
    "              '({}) - ({})'.format(d['label'], d0['label']))\n",
    "        \n",
    "    show_tb(benchmark)\n",
    "    for d in others:\n",
    "        show_tb(d)\n",
    "        \n",
    "    for d in others:\n",
    "        show_tbdiff(d=d, d0=benchmark)\n",
    "        \n",
    "        \n",
    "def script_tb_flux():\n",
    "    data = tbdata_flux(ds_flux=DS_FLUX,\n",
    "                       ds_flux_crd=DS_FLUX_CRD,\n",
    "                       ds_flux_wgt=DS_FLUX_WGT)\n",
    "    tb_flux(tbdata=data)"
   ]
  },
  {
   "cell_type": "code",
   "execution_count": 10,
   "metadata": {
    "collapsed": true
   },
   "outputs": [],
   "source": [
    "def band_map():\n",
    "    '''\n",
    "    Maps spectral bands in lblnew to spectral bands in clirad.\n",
    "    '''\n",
    "    lblnew2clirad = {'1': '1',\n",
    "            '2': '2',\n",
    "            '3a': '3',\n",
    "            '3b': '4',\n",
    "            '3c': '5',\n",
    "            '4': '6', \n",
    "            '5': '7',\n",
    "            '6': '8',\n",
    "            '7': '9', \n",
    "            '8': '10',\n",
    "            '9': '11'}\n",
    "    \n",
    "    clirad2lblnew = {clirad: lblnew \n",
    "                     for lblnew, clirad in lblnew2clirad.items()}\n",
    "    return clirad2lblnew\n",
    "\n",
    "\n",
    "def gasbands():\n",
    "    bmap = band_map()\n",
    "    gases = list(PARAM['molecule'].keys())\n",
    "    \n",
    "    bands = [bmap[str(b)] for b in PARAM['band']]\n",
    "    return list(itertools.product(gases, bands))\n",
    "\n",
    "\n",
    "def print_bestfit_params():\n",
    "    print('Best-fit values for each (gas, band)')\n",
    "    print('------------------------------------')\n",
    "    for gas, band in gasbands():\n",
    "        print('o {} band{}'.format(gas, band))\n",
    "        param = bestfits.kdist_params(molecule=gas, band=band)\n",
    "        for name, value in sorted(param.items()):\n",
    "            print(2 * ' ' + '{} = {}'.format(name, value))\n",
    "\n",
    "        \n",
    "def print_input_param():        \n",
    "    for name, value in PARAM.items():\n",
    "        print('{} = {}'.format(name, value))\n",
    "        \n",
    "        \n",
    "def print_lblnew_param():\n",
    "    for name, value in sorted(PARAM_LBLNEW.items()):\n",
    "        print('{} = {}'.format(name, value))\n"
   ]
  },
  {
   "cell_type": "code",
   "execution_count": 11,
   "metadata": {
    "collapsed": true,
    "scrolled": false
   },
   "outputs": [],
   "source": [
    "def show_html(s):\n",
    "    display.display(display.HTML(s))\n",
    "\n",
    "    \n",
    "def show_markdown(s):\n",
    "    display.display(display.Markdown(s))\n",
    "\n",
    "    \n",
    "def script():\n",
    "    \n",
    "    title = '### CLIRAD-LW'\n",
    "    s_input = 'Input Parameters'\n",
    "    s_lblnew_param = 'LBLNEW case compaired against'\n",
    "    s_bestfits = 'Best-fit Parameters'\n",
    "    s_plt_cooling = 'Cooling Rate Profiles'\n",
    "    s_tb_flux = 'Flux Comparison'\n",
    "    \n",
    "    # title\n",
    "    show_markdown('### CLIRAD-LW')\n",
    "    \n",
    "    # TOC\n",
    "    show_markdown('### Table of Contents')\n",
    "    show_html(climahtml.getHTML_hrefanchor(s_input))\n",
    "    show_html(climahtml.getHTML_hrefanchor(s_lblnew_param))\n",
    "    show_html(climahtml.getHTML_hrefanchor(s_plt_cooling))\n",
    "    show_html(climahtml.getHTML_hrefanchor(s_tb_flux))\n",
    "    show_html(climahtml.getHTML_hrefanchor(s_bestfits))\n",
    "    \n",
    "    # Input parameters\n",
    "    show_html(climahtml.getHTML_idanchor(s_input))\n",
    "    show_markdown(climahtml.getMarkdown_sectitle(s_input))\n",
    "    print_input_param()\n",
    "    \n",
    "    # LBLNEW parameters \n",
    "    show_html(climahtml.getHTML_idanchor(s_lblnew_param))\n",
    "    show_markdown(climahtml.getMarkdown_sectitle(s_lblnew_param))\n",
    "    print_lblnew_param()\n",
    "    \n",
    "    # Cooling rate profiles\n",
    "    show_html(climahtml.getHTML_idanchor(s_plt_cooling))\n",
    "    show_markdown(climahtml.getMarkdown_sectitle(s_plt_cooling))\n",
    "    script_plt_cooling()\n",
    "    \n",
    "    # Flux comparison\n",
    "    show_html(climahtml.getHTML_idanchor(s_tb_flux))\n",
    "    show_markdown(climahtml.getMarkdown_sectitle(s_tb_flux))\n",
    "    script_tb_flux()\n",
    "    \n",
    "    # Best-fit values\n",
    "    show_html(climahtml.getHTML_idanchor(s_bestfits))\n",
    "    show_markdown(climahtml.getMarkdown_sectitle(s_bestfits))\n",
    "    print_bestfit_params()\n",
    "   \n",
    "    "
   ]
  },
  {
   "cell_type": "code",
   "execution_count": 12,
   "metadata": {
    "collapsed": true,
    "scrolled": false
   },
   "outputs": [
    {
     "data": {
      "text/markdown": [
       "### CLIRAD-LW"
      ],
      "text/plain": [
       "<IPython.core.display.Markdown object>"
      ]
     },
     "metadata": {},
     "output_type": "display_data"
    },
    {
     "data": {
      "text/markdown": [
       "### Table of Contents"
      ],
      "text/plain": [
       "<IPython.core.display.Markdown object>"
      ]
     },
     "metadata": {},
     "output_type": "display_data"
    },
    {
     "data": {
      "text/html": [
       "<a href=\"#Input_Parameters\">Input Parameters</a>"
      ],
      "text/plain": [
       "<IPython.core.display.HTML object>"
      ]
     },
     "metadata": {},
     "output_type": "display_data"
    },
    {
     "data": {
      "text/html": [
       "<a href=\"#LBLNEW_case_compaired_against\">LBLNEW case compaired against</a>"
      ],
      "text/plain": [
       "<IPython.core.display.HTML object>"
      ]
     },
     "metadata": {},
     "output_type": "display_data"
    },
    {
     "data": {
      "text/html": [
       "<a href=\"#Cooling_Rate_Profiles\">Cooling Rate Profiles</a>"
      ],
      "text/plain": [
       "<IPython.core.display.HTML object>"
      ]
     },
     "metadata": {},
     "output_type": "display_data"
    },
    {
     "data": {
      "text/html": [
       "<a href=\"#Flux_Comparison\">Flux Comparison</a>"
      ],
      "text/plain": [
       "<IPython.core.display.HTML object>"
      ]
     },
     "metadata": {},
     "output_type": "display_data"
    },
    {
     "data": {
      "text/html": [
       "<a href=\"#Best-fit_Parameters\">Best-fit Parameters</a>"
      ],
      "text/plain": [
       "<IPython.core.display.HTML object>"
      ]
     },
     "metadata": {},
     "output_type": "display_data"
    },
    {
     "data": {
      "text/html": [
       "<a id=\"Input_Parameters\"></a>"
      ],
      "text/plain": [
       "<IPython.core.display.HTML object>"
      ]
     },
     "metadata": {},
     "output_type": "display_data"
    },
    {
     "data": {
      "text/markdown": [
       "# Input Parameters"
      ],
      "text/plain": [
       "<IPython.core.display.Markdown object>"
      ]
     },
     "metadata": {},
     "output_type": "display_data"
    },
    {
     "name": "stdout",
     "output_type": "stream",
     "text": [
      "atmpro = mls\n",
      "band = [10]\n",
      "commitnumber = de5d43e\n",
      "molecule = {'h2o': 'atmpro'}\n",
      "tsfc = 294\n"
     ]
    },
    {
     "data": {
      "text/html": [
       "<a id=\"LBLNEW_case_compaired_against\"></a>"
      ],
      "text/plain": [
       "<IPython.core.display.HTML object>"
      ]
     },
     "metadata": {},
     "output_type": "display_data"
    },
    {
     "data": {
      "text/markdown": [
       "# LBLNEW case compaired against"
      ],
      "text/plain": [
       "<IPython.core.display.Markdown object>"
      ]
     },
     "metadata": {},
     "output_type": "display_data"
    },
    {
     "name": "stdout",
     "output_type": "stream",
     "text": [
      "atmpro = mls\n",
      "band = 8\n",
      "commitnumber = 5014a19\n",
      "conc = None\n",
      "dv = 0.001\n",
      "klin = 0\n",
      "molecule = h2o\n",
      "ng_adju = [0, -1, 0]\n",
      "ng_refs = [3, 2, 3]\n",
      "nv = 1000\n",
      "option_compute_btable = 0\n",
      "option_compute_ktable = 0\n",
      "option_wgt_flux = 1\n",
      "option_wgt_k = 1\n",
      "ref_pts = [(1, 250), (10, 250), (500, 250)]\n",
      "tsfc = 294\n",
      "vmax = 1900\n",
      "vmin = 1380\n",
      "w_diffuse = [(1.66, 1.66, 1.66), (1.66, 1.66), (1.66, 1.66, 1.66)]\n",
      "wgt = [(0.55, 0.55, 0.85), (0.85, 0.85), (0, 0.3, 0.55)]\n"
     ]
    },
    {
     "data": {
      "text/html": [
       "<a id=\"Cooling_Rate_Profiles\"></a>"
      ],
      "text/plain": [
       "<IPython.core.display.HTML object>"
      ]
     },
     "metadata": {},
     "output_type": "display_data"
    },
    {
     "data": {
      "text/markdown": [
       "# Cooling Rate Profiles"
      ],
      "text/plain": [
       "<IPython.core.display.Markdown object>"
      ]
     },
     "metadata": {},
     "output_type": "display_data"
    },
    {
     "data": {
      "text/html": [
       "\n",
       "<div class=\"bk-root\">\n",
       "    <div class=\"bk-plotdiv\" id=\"574c90ef-a1ce-40ab-9f1d-e8e50c7befaf\"></div>\n",
       "</div>"
      ]
     },
     "metadata": {},
     "output_type": "display_data"
    },
    {
     "data": {
      "application/javascript": [
       "(function(root) {\n",
       "  function embed_document(root) {\n",
       "    \n",
       "  var docs_json = {\"5dcad372-dd9c-4852-af56-a40f6cea363a\":{\"roots\":{\"references\":[{\"attributes\":{\"plot\":{\"id\":\"36b5d734-fed6-41c8-96c2-a2f83f78823b\",\"subtype\":\"Figure\",\"type\":\"Plot\"},\"ticker\":{\"id\":\"aa2f32e0-3077-4beb-80a9-0e7a535813f6\",\"type\":\"BasicTicker\"}},\"id\":\"a7adba30-e0b2-4431-8622-875a7be176d9\",\"type\":\"Grid\"},{\"attributes\":{\"data_source\":{\"id\":\"2dfc390e-c419-48a1-b242-13cb37640069\",\"type\":\"ColumnDataSource\"},\"glyph\":{\"id\":\"c8754d87-9f5e-4605-ac84-0883b9a2d18b\",\"type\":\"Square\"},\"hover_glyph\":null,\"muted_glyph\":null,\"nonselection_glyph\":{\"id\":\"e45bfeba-b778-4757-933e-974ded53c0e5\",\"type\":\"Square\"},\"selection_glyph\":null,\"view\":{\"id\":\"278b3bae-a0a4-4ce3-8a01-8a5c840aaf01\",\"type\":\"CDSView\"}},\"id\":\"38aa62f8-1712-4ffd-9df9-5e710f92f2d1\",\"type\":\"GlyphRenderer\"},{\"attributes\":{\"callback\":null,\"end\":0.13740663340536,\"start\":-0.00449101394136},\"id\":\"2691fccf-c5fd-4646-bf55-6ec127251961\",\"type\":\"Range1d\"},{\"attributes\":{\"line_alpha\":0.6,\"line_color\":\"#984ea3\",\"line_width\":3,\"x\":{\"field\":\"x\"},\"y\":{\"field\":\"y\"}},\"id\":\"8351a2c7-77ef-409a-8bff-f5206982323c\",\"type\":\"Line\"},{\"attributes\":{},\"id\":\"2765568f-1e93-43fd-b47f-859e3f71354d\",\"type\":\"LinearScale\"},{\"attributes\":{\"axis_label\":\"cooling rate [K/day]\",\"formatter\":{\"id\":\"11fba533-ad72-44c5-8916-8a3d8535f869\",\"type\":\"BasicTickFormatter\"},\"plot\":{\"id\":\"3573a28f-014b-45ba-92c6-ed8d39b8c61e\",\"subtype\":\"Figure\",\"type\":\"Plot\"},\"ticker\":{\"id\":\"dbd87425-8145-4a02-b7b7-35c044dc7fde\",\"type\":\"BasicTicker\"}},\"id\":\"49ae198d-3a86-470f-ba1e-9d23af6f7bf1\",\"type\":\"LinearAxis\"},{\"attributes\":{\"num_minor_ticks\":10},\"id\":\"653f2742-5a02-45e3-8ab9-da4c1af6be2c\",\"type\":\"LogTicker\"},{\"attributes\":{},\"id\":\"53eb6afa-e34e-48be-a283-bcf5740b9478\",\"type\":\"LinearScale\"},{\"attributes\":{\"source\":{\"id\":\"1c73b9ea-92a2-4932-81fd-cf32ff004d7d\",\"type\":\"ColumnDataSource\"}},\"id\":\"345d433e-1660-4e40-901d-195b9d157f3c\",\"type\":\"CDSView\"},{\"attributes\":{\"callback\":null,\"data\":{\"x\":{\"__ndarray__\":\"qromKG4qwb9XAPhMmxbBv7baolA/vcC/0laASvBhwL9/54t7+wzAv05uiK9+hb+/ObELL1YOv7/l04Rp776+v43xH9rgp76/FX6AIAbbvr+K6FOeq3O/vy2SPPgFS8C/zeD3iPs8wb9ZMZ450rbCv0dr0o6XxcO/2miMGG4nwr/8fnvozIe7v/tRkHx+yLC/f5KOtExtkL8dzBTd9BOmP01DO0Qv5b0/4ZKpo18yzD9jUo2omurUPxg/roncvtI/od+URaOzxT/xJDjhnf23PwWUB5uaAa0/FIizL5Skoz8DtabmY1ieP88WVy+bDZk/49quos/fkz/QqooB9veMP5X6vCbHRIY//K5nS78Egz8zKZ+MU2d8P13eq30SxG4/q8gkvxeBXj+vWK0XvbZSPzvRckZ+U0y/vzAO728Qab8I9hXWPT9Qvy70Vpcy9Iw/xci4ADkDpD8QJTnkjzexPyHGMbNLq7c/3gQ1NTZfuT8X+OUnMPi6P+0cmBbUO70/sCOrroVRvz+xJC8h1WbAP1Rz2s85qsA/4gogY4swwD+CxeHMr+a+P+/myhyiPL0/29iynWtvuz9B38yeuqi5P/l4g5B1Nrg/ISbKpqhvtz9JFEjzQXu1Px5qx0wj37I/Un2yJVUisD/5eVZJmRGrPzhIuCsciqY/tQI2LLX6oj8S5ST36MugP0rJ5x/BsKA/IMNq+W/Ioj8zNjKXbQqlP51pZIWSMaQ/7XfuXmpbnz87Lk+M0d+UPzRSCEc9Aos/x7qYpEIVgz+U5GcJzGiBP4U8J2K2Cb8/\",\"dtype\":\"float64\",\"shape\":[75]},\"y\":{\"__ndarray__\":\"GhExyth1ND/Sv8nbtpRIP2vylNV0PVE/aTum7souWD/At0SJ8fVgPw3Iuahxymc/MSNhhJWvcD/bTfBN02d3P2zb5nxnaoA/CD5h5MAGhz8NmeH1TyaQP+zrCsc9p5Y/LbKd76fGnz/bLW5ISEmmPww9YvTcQq8/JV2OstnstT8Er5Y7M8G+P0c+r3jqkcU/5h99k6ZBzj88bCIzFzjVP4enV8oyxN0//yH99nXg5D8qOpLLf0jtP5kqGJXUifQ/c9cS8kHP/D+/DpwzojQEQIEmwoanVwxA4lgXt9HgE0BSSZ2AJuIbQAMJih9jjiNA5q4l5INuK0AwTKYKRj0zQNv5fmq8/DpAaCJseHrtQkB/+zpwzoxKQM3MzMzMeFJAZmZmZmZqWEAAAAAAAFxeQM3MzMzMJmJAmpmZmZkfZUBmZmZmZhhoQDMzMzMzEWtAAAAAAAAKbkBmZmZmZoFwQM3MzMzM/XFAMzMzMzN6c0CamZmZmfZ0QAAAAAAAc3ZAZmZmZmbvd0DNzMzMzGt5QDMzMzMz6HpAmpmZmZlkfEAAAAAAAOF9QGZmZmZmXX9AZmZmZuZsgECamZmZGSuBQM3MzMxM6YFAAAAAAICngkAzMzMzs2WDQGZmZmbmI4RAmpmZmRnihEDNzMzMTKCFQAAAAACAXoZAMzMzM7Mch0BmZmZm5tqHQJqZmZkZmYhAzczMzExXiUAAAAAAgBWKQDMzMzOz04pAZmZmZuaRi0CamZmZGVCMQM3MzMxMDo1AAAAAAIDMjUAzMzMzs4qOQGZmZmbmSI9A\",\"dtype\":\"float64\",\"shape\":[75]}},\"selected\":{\"id\":\"0bf94b7c-2713-48c5-b8fa-600232bcffc9\",\"type\":\"Selection\"},\"selection_policy\":{\"id\":\"fc14a46c-ca95-4bbc-99d4-a7035e0897b2\",\"type\":\"UnionRenderers\"}},\"id\":\"077e86bb-18f3-488c-b2da-b97c9a8594ed\",\"type\":\"ColumnDataSource\"},{\"attributes\":{\"data_source\":{\"id\":\"077e86bb-18f3-488c-b2da-b97c9a8594ed\",\"type\":\"ColumnDataSource\"},\"glyph\":{\"id\":\"9291b368-3466-40bd-a896-b322f9f23774\",\"type\":\"Circle\"},\"hover_glyph\":null,\"muted_glyph\":null,\"nonselection_glyph\":{\"id\":\"e0bb2dee-ed2c-4946-9212-7e60c4cf550e\",\"type\":\"Circle\"},\"selection_glyph\":null,\"view\":{\"id\":\"e7d65af0-0c08-4a22-b1f0-cd01f928a501\",\"type\":\"CDSView\"}},\"id\":\"bbf174e3-4a86-4bd1-a21f-057240c6ff3a\",\"type\":\"GlyphRenderer\"},{\"attributes\":{\"plot\":{\"id\":\"3573a28f-014b-45ba-92c6-ed8d39b8c61e\",\"subtype\":\"Figure\",\"type\":\"Plot\"},\"ticker\":{\"id\":\"dbd87425-8145-4a02-b7b7-35c044dc7fde\",\"type\":\"BasicTicker\"}},\"id\":\"bbcc6a4e-f68a-4540-8a9a-d61181c321c1\",\"type\":\"Grid\"},{\"attributes\":{},\"id\":\"d74bdbf5-bc7a-44ae-a1c2-c5ba547775b2\",\"type\":\"UnionRenderers\"},{\"attributes\":{},\"id\":\"17a7be49-5055-4d2e-a36c-5f0230d4c054\",\"type\":\"PanTool\"},{\"attributes\":{},\"id\":\"aedcdda2-8de9-4b20-be0e-e3b6d3b6d037\",\"type\":\"SaveTool\"},{\"attributes\":{\"source\":{\"id\":\"2dfc390e-c419-48a1-b242-13cb37640069\",\"type\":\"ColumnDataSource\"}},\"id\":\"278b3bae-a0a4-4ce3-8a01-8a5c840aaf01\",\"type\":\"CDSView\"},{\"attributes\":{},\"id\":\"aa2f32e0-3077-4beb-80a9-0e7a535813f6\",\"type\":\"BasicTicker\"},{\"attributes\":{\"bottom_units\":\"screen\",\"fill_alpha\":{\"value\":0.5},\"fill_color\":{\"value\":\"lightgrey\"},\"left_units\":\"screen\",\"level\":\"overlay\",\"line_alpha\":{\"value\":1.0},\"line_color\":{\"value\":\"black\"},\"line_dash\":[4,4],\"line_width\":{\"value\":2},\"plot\":null,\"render_mode\":\"css\",\"right_units\":\"screen\",\"top_units\":\"screen\"},\"id\":\"3f76c98c-0c3b-457c-8371-a2d20b94fd43\",\"type\":\"BoxAnnotation\"},{\"attributes\":{\"dimension\":1,\"plot\":{\"id\":\"3573a28f-014b-45ba-92c6-ed8d39b8c61e\",\"subtype\":\"Figure\",\"type\":\"Plot\"},\"ticker\":{\"id\":\"653f2742-5a02-45e3-8ab9-da4c1af6be2c\",\"type\":\"LogTicker\"}},\"id\":\"6479c690-df48-46f1-871f-a924ddfee934\",\"type\":\"Grid\"},{\"attributes\":{\"dimension\":1,\"plot\":{\"id\":\"36b5d734-fed6-41c8-96c2-a2f83f78823b\",\"subtype\":\"Figure\",\"type\":\"Plot\"},\"ticker\":{\"id\":\"28fd678e-4b0f-4ccc-be84-84b17bba0f2b\",\"type\":\"BasicTicker\"}},\"id\":\"e28c42de-c4cf-48ad-a1d7-58597b6972f3\",\"type\":\"Grid\"},{\"attributes\":{\"active_drag\":\"auto\",\"active_inspect\":\"auto\",\"active_scroll\":\"auto\",\"active_tap\":\"auto\",\"tools\":[{\"id\":\"17a7be49-5055-4d2e-a36c-5f0230d4c054\",\"type\":\"PanTool\"},{\"id\":\"5f7d051a-7861-47f1-99e6-307949e7474a\",\"type\":\"WheelZoomTool\"},{\"id\":\"888f6c78-6f6f-45ea-b3c9-43f3c10ee0d9\",\"type\":\"BoxZoomTool\"},{\"id\":\"aedcdda2-8de9-4b20-be0e-e3b6d3b6d037\",\"type\":\"SaveTool\"},{\"id\":\"50ce01bc-6e1f-43a5-ba17-09b4c36cfe2b\",\"type\":\"ResetTool\"},{\"id\":\"aa1ca1db-506f-4279-a147-b1c631505886\",\"type\":\"HelpTool\"}]},\"id\":\"a948ee3d-355a-4ca4-9c7c-7d30497c7193\",\"type\":\"Toolbar\"},{\"attributes\":{\"overlay\":{\"id\":\"e2e4f676-5eb3-436b-a20a-3313ac630df3\",\"type\":\"BoxAnnotation\"}},\"id\":\"888f6c78-6f6f-45ea-b3c9-43f3c10ee0d9\",\"type\":\"BoxZoomTool\"},{\"attributes\":{\"axis_label\":\"pressure [mb]\",\"formatter\":{\"id\":\"19303a26-d2c4-4c10-8a90-8d5a4ba78471\",\"type\":\"BasicTickFormatter\"},\"plot\":{\"id\":\"36b5d734-fed6-41c8-96c2-a2f83f78823b\",\"subtype\":\"Figure\",\"type\":\"Plot\"},\"ticker\":{\"id\":\"28fd678e-4b0f-4ccc-be84-84b17bba0f2b\",\"type\":\"BasicTicker\"}},\"id\":\"8709a9db-ca4d-42c3-ac27-0af57aa36572\",\"type\":\"LinearAxis\"},{\"attributes\":{\"below\":[{\"id\":\"49ae198d-3a86-470f-ba1e-9d23af6f7bf1\",\"type\":\"LinearAxis\"}],\"left\":[{\"id\":\"1e7e08cc-053a-4821-b06d-6d34be9491fe\",\"type\":\"LogAxis\"}],\"plot_height\":500,\"plot_width\":560,\"renderers\":[{\"id\":\"49ae198d-3a86-470f-ba1e-9d23af6f7bf1\",\"type\":\"LinearAxis\"},{\"id\":\"bbcc6a4e-f68a-4540-8a9a-d61181c321c1\",\"type\":\"Grid\"},{\"id\":\"1e7e08cc-053a-4821-b06d-6d34be9491fe\",\"type\":\"LogAxis\"},{\"id\":\"6479c690-df48-46f1-871f-a924ddfee934\",\"type\":\"Grid\"},{\"id\":\"e2e4f676-5eb3-436b-a20a-3313ac630df3\",\"type\":\"BoxAnnotation\"},{\"id\":\"9434a31f-45b7-4968-8b03-52e1f379397b\",\"type\":\"GlyphRenderer\"},{\"id\":\"be6def02-f775-4e89-8a19-0927699653ad\",\"type\":\"GlyphRenderer\"},{\"id\":\"19395a06-1041-4f2b-92dc-7c9fe4f8c04e\",\"type\":\"GlyphRenderer\"},{\"id\":\"38aa62f8-1712-4ffd-9df9-5e710f92f2d1\",\"type\":\"GlyphRenderer\"},{\"id\":\"43cc4be7-fd0a-499a-af51-ba17c27a3974\",\"type\":\"GlyphRenderer\"},{\"id\":\"629b6b4b-6a89-427b-9a93-393c5da1943c\",\"type\":\"Legend\"}],\"right\":[{\"id\":\"629b6b4b-6a89-427b-9a93-393c5da1943c\",\"type\":\"Legend\"}],\"title\":{\"id\":\"6b5ffb5d-b9e3-49aa-8382-8cfd3d2f01be\",\"type\":\"Title\"},\"toolbar\":{\"id\":\"a948ee3d-355a-4ca4-9c7c-7d30497c7193\",\"type\":\"Toolbar\"},\"toolbar_location\":null,\"x_range\":{\"id\":\"b7b5e848-b6c8-4b8c-91cf-c735fdcf8a6f\",\"type\":\"Range1d\"},\"x_scale\":{\"id\":\"1d6f2daa-fc69-49ad-8807-cfe4433e892b\",\"type\":\"LinearScale\"},\"y_range\":{\"id\":\"866844b1-2b7a-4622-8814-107212d690d9\",\"type\":\"Range1d\"},\"y_scale\":{\"id\":\"124ef985-9b9d-486b-909e-2a30ff31374e\",\"type\":\"LogScale\"}},\"id\":\"3573a28f-014b-45ba-92c6-ed8d39b8c61e\",\"subtype\":\"Figure\",\"type\":\"Plot\"},{\"attributes\":{\"data_source\":{\"id\":\"1c73b9ea-92a2-4932-81fd-cf32ff004d7d\",\"type\":\"ColumnDataSource\"},\"glyph\":{\"id\":\"8351a2c7-77ef-409a-8bff-f5206982323c\",\"type\":\"Line\"},\"hover_glyph\":null,\"muted_glyph\":null,\"nonselection_glyph\":{\"id\":\"1b99e5a2-94d5-4d70-8f06-f56460e70222\",\"type\":\"Line\"},\"selection_glyph\":null,\"view\":{\"id\":\"345d433e-1660-4e40-901d-195b9d157f3c\",\"type\":\"CDSView\"}},\"id\":\"4f2e45af-0203-4db3-9f32-80df130baa73\",\"type\":\"GlyphRenderer\"},{\"attributes\":{\"axis_label\":\"cooling rate [K/day]\",\"formatter\":{\"id\":\"d2eead3b-d3ba-4264-93c2-1257b2f31d85\",\"type\":\"BasicTickFormatter\"},\"plot\":{\"id\":\"36b5d734-fed6-41c8-96c2-a2f83f78823b\",\"subtype\":\"Figure\",\"type\":\"Plot\"},\"ticker\":{\"id\":\"aa2f32e0-3077-4beb-80a9-0e7a535813f6\",\"type\":\"BasicTicker\"}},\"id\":\"2f6c1b08-622f-4f5e-abfe-d5dab451b7ee\",\"type\":\"LinearAxis\"},{\"attributes\":{\"active_drag\":\"auto\",\"active_inspect\":\"auto\",\"active_scroll\":\"auto\",\"active_tap\":\"auto\",\"tools\":[{\"id\":\"a809ba9a-7bc3-4bb4-bbb3-080582751bce\",\"type\":\"PanTool\"},{\"id\":\"d7893015-1ef9-4b08-bc3b-6f364873ba57\",\"type\":\"WheelZoomTool\"},{\"id\":\"6088fe32-39dc-49fb-bcfa-7edf6886dc4c\",\"type\":\"BoxZoomTool\"},{\"id\":\"2bf7d31b-e5cf-409c-b170-54f224e8eaf2\",\"type\":\"SaveTool\"},{\"id\":\"9c03a1bf-3d28-47ce-a1fd-d686b1d9c02e\",\"type\":\"ResetTool\"},{\"id\":\"88dff9e9-d314-4e12-8a32-0e54d852deec\",\"type\":\"HelpTool\"}]},\"id\":\"1d1f2ae3-8e9f-48aa-9b11-699d1485acf2\",\"type\":\"Toolbar\"},{\"attributes\":{},\"id\":\"dbd87425-8145-4a02-b7b7-35c044dc7fde\",\"type\":\"BasicTicker\"},{\"attributes\":{\"plot\":null,\"text\":\"Linear pressure scale\"},\"id\":\"16f943ce-9bf9-4de8-9b8f-702e2ac38a55\",\"type\":\"Title\"},{\"attributes\":{},\"id\":\"124ef985-9b9d-486b-909e-2a30ff31374e\",\"type\":\"LogScale\"},{\"attributes\":{\"items\":[{\"id\":\"a7762ea5-6ad7-4c7d-b63e-7417aae378f1\",\"type\":\"LegendItem\"},{\"id\":\"86d29daf-ac40-4ba2-ad02-fe380d762117\",\"type\":\"LegendItem\"},{\"id\":\"1b420a16-fdd4-4e5b-a8b5-d2ff98f39fbe\",\"type\":\"LegendItem\"}],\"label_text_font_size\":{\"value\":\"8pt\"},\"location\":[10,-30],\"plot\":{\"id\":\"3573a28f-014b-45ba-92c6-ed8d39b8c61e\",\"subtype\":\"Figure\",\"type\":\"Plot\"}},\"id\":\"629b6b4b-6a89-427b-9a93-393c5da1943c\",\"type\":\"Legend\"},{\"attributes\":{\"fill_alpha\":{\"value\":0.1},\"fill_color\":{\"value\":\"#1f77b4\"},\"line_alpha\":{\"value\":0.1},\"line_color\":{\"value\":\"#1f77b4\"},\"x\":{\"field\":\"x\"},\"y\":{\"field\":\"y\"}},\"id\":\"e0bb2dee-ed2c-4946-9212-7e60c4cf550e\",\"type\":\"Circle\"},{\"attributes\":{\"fill_alpha\":{\"value\":0.7},\"fill_color\":{\"value\":\"#4daf4a\"},\"line_alpha\":{\"value\":0.7},\"line_color\":{\"value\":\"#4daf4a\"},\"x\":{\"field\":\"x\"},\"y\":{\"field\":\"y\"}},\"id\":\"9291b368-3466-40bd-a896-b322f9f23774\",\"type\":\"Circle\"},{\"attributes\":{\"callback\":null,\"data\":{\"x\":{\"__ndarray__\":\"meoTir7MxL/0/AZ5f7TEvwVa9C33csS/ODYS00stxL8J9C6D1ujDvzY5neByp8O/jtWccjtqw79jf7gvkDXDv59Bv8ZgC8O/pb7Jwhn0wr8+Qd6C1/TCv/x/avYfHcO/WOSV8957w786It+l1CXEvzCwllTQYcS/HpHn4aF7wr/9Gw8RkmC8v03/lFXRUrG/uY7eYfSLj79EZkUM7/2nPxWLACM/Tb8/v1VL+K1vzD8GBnvZl2jUP3usz4vJEdI/pafhvoLyxD+Ltm9dTXi4P0V0ao9gqK8/CJ1eyVjkpD9oBiG7M1yePwu/ikKBLZk/EKEmB6eWlT/hR4vssK2QP8CnINzw/Yk/TxY9PsHIhj9m9TbIMN+APw+EN+5MXWw/tYv6NDxkSD/ely446W43P8V1toZlOlO/voOYNXyFaL86epjxQy/1vvbcp4IIc5Q/zs+Oze7GqT+VXmabxdKtP+dcCyzgG7A/0koDOvGntT9ShdyY4My6P2SPcUGNrb0/Z2iXyjbLvj/w7J9l5bC/P04hX1uip8A/1elA1lMrwT9ZxCyL9GjBP/LxZJLs7MA/kxay41Slvz9L1MGwsmy8P1MnDSbfG7k/Lt3bL8qstj/oLe6kXYOzPxhundhztLA/YCVrSVGrrD/iEO7x6YGoP6sAy4n3laQ/N9fnbCwhoj8Cqj6rWj+ePz68rxYUEJ8/OBzaI3tUoD+a/Nc46R2jPwlPkvVuCKI/V9D7mVYXmz86/8UfhAGRP4dlz4DjO4Q/vz78Ncdkej9JYZALvWt4P+y3nyFWXr4/\",\"dtype\":\"float64\",\"shape\":[75]},\"y\":{\"__ndarray__\":\"S/O/Q+51ND/Sv8nbtpRIP2vylNV0PVE/aTum7souWD/At0SJ8fVgPw3Iuahxymc/MSNhhJWvcD/bTfBN02d3P2zb5nxnaoA/CD5h5MAGhz8NmeH1TyaQP+zrCsc9p5Y/LbKd76fGnz/bLW5ISEmmPww9YvTcQq8/JV2OstnstT8Er5Y7M8G+P0c+r3jqkcU/5h99k6ZBzj88bCIzFzjVP4enV8oyxN0//yH99nXg5D8qOpLLf0jtP5kqGJXUifQ/c9cS8kHP/D+/DpwzojQEQIEmwoanVwxA4lgXt9HgE0BSSZ2AJuIbQAMJih9jjiNA5q4l5INuK0AwTKYKRj0zQNv5fmq8/DpAaCJseHrtQkB/+zpwzoxKQM3MzMzMeFJAZmZmZmZqWEAAAAAAAFxeQM3MzMzMJmJAmpmZmZkfZUBmZmZmZhhoQDMzMzMzEWtAAAAAAAAKbkBmZmZmZoFwQM3MzMzM/XFAMzMzMzN6c0CamZmZmfZ0QAAAAAAAc3ZAZmZmZmbvd0DNzMzMzGt5QDMzMzMz6HpAmpmZmZlkfEAAAAAAAOF9QGZmZmZmXX9AZmZmZuZsgECamZmZGSuBQM3MzMxM6YFAAAAAAICngkAzMzMzs2WDQGZmZmbmI4RAmpmZmRnihEDNzMzMTKCFQAAAAACAXoZAMzMzM7Mch0BmZmZm5tqHQJqZmZkZmYhAzczMzExXiUAAAAAAgBWKQDMzMzOz04pAZmZmZuaRi0CamZmZGVCMQM3MzMxMDo1AAAAAAIDMjUAzMzMzs4qOQGZmZmbmSI9A\",\"dtype\":\"float64\",\"shape\":[75]}},\"selected\":{\"id\":\"d2a7175b-fdf6-48ae-aeee-c786b0d5e6c0\",\"type\":\"Selection\"},\"selection_policy\":{\"id\":\"baab88ad-6bba-4aa1-a199-32a8dffc567e\",\"type\":\"UnionRenderers\"}},\"id\":\"df1d8350-6fb5-484e-a12f-462c3a016573\",\"type\":\"ColumnDataSource\"},{\"attributes\":{\"axis_label\":\"pressure [mb]\",\"formatter\":{\"id\":\"191cd775-69a7-4e8c-b659-98e60595ce2a\",\"type\":\"LogTickFormatter\"},\"plot\":{\"id\":\"3573a28f-014b-45ba-92c6-ed8d39b8c61e\",\"subtype\":\"Figure\",\"type\":\"Plot\"},\"ticker\":{\"id\":\"653f2742-5a02-45e3-8ab9-da4c1af6be2c\",\"type\":\"LogTicker\"}},\"id\":\"1e7e08cc-053a-4821-b06d-6d34be9491fe\",\"type\":\"LogAxis\"},{\"attributes\":{},\"id\":\"5f7d051a-7861-47f1-99e6-307949e7474a\",\"type\":\"WheelZoomTool\"},{\"attributes\":{},\"id\":\"aa1ca1db-506f-4279-a147-b1c631505886\",\"type\":\"HelpTool\"},{\"attributes\":{\"plot\":null,\"text\":\"Log pressure scale\"},\"id\":\"6b5ffb5d-b9e3-49aa-8382-8cfd3d2f01be\",\"type\":\"Title\"},{\"attributes\":{\"source\":{\"id\":\"077e86bb-18f3-488c-b2da-b97c9a8594ed\",\"type\":\"ColumnDataSource\"}},\"id\":\"e7d65af0-0c08-4a22-b1f0-cd01f928a501\",\"type\":\"CDSView\"},{\"attributes\":{\"source\":{\"id\":\"9771ddab-6559-4ae8-8c91-11bd7a07e2b3\",\"type\":\"ColumnDataSource\"}},\"id\":\"6a89a3e7-6b3b-487d-8847-150c5b3f3624\",\"type\":\"CDSView\"},{\"attributes\":{},\"id\":\"a809ba9a-7bc3-4bb4-bbb3-080582751bce\",\"type\":\"PanTool\"},{\"attributes\":{},\"id\":\"9c03a1bf-3d28-47ce-a1fd-d686b1d9c02e\",\"type\":\"ResetTool\"},{\"attributes\":{\"line_alpha\":0.1,\"line_color\":\"#1f77b4\",\"line_width\":3,\"x\":{\"field\":\"x\"},\"y\":{\"field\":\"y\"}},\"id\":\"1b99e5a2-94d5-4d70-8f06-f56460e70222\",\"type\":\"Line\"},{\"attributes\":{},\"id\":\"d7893015-1ef9-4b08-bc3b-6f364873ba57\",\"type\":\"WheelZoomTool\"},{\"attributes\":{},\"id\":\"88dff9e9-d314-4e12-8a32-0e54d852deec\",\"type\":\"HelpTool\"},{\"attributes\":{\"fill_alpha\":{\"value\":0.7},\"fill_color\":{\"value\":\"#984ea3\"},\"line_alpha\":{\"value\":0.7},\"line_color\":{\"value\":\"#984ea3\"},\"x\":{\"field\":\"x\"},\"y\":{\"field\":\"y\"}},\"id\":\"c8754d87-9f5e-4605-ac84-0883b9a2d18b\",\"type\":\"Square\"},{\"attributes\":{\"overlay\":{\"id\":\"3f76c98c-0c3b-457c-8371-a2d20b94fd43\",\"type\":\"BoxAnnotation\"}},\"id\":\"6088fe32-39dc-49fb-bcfa-7edf6886dc4c\",\"type\":\"BoxZoomTool\"},{\"attributes\":{},\"id\":\"2bf7d31b-e5cf-409c-b170-54f224e8eaf2\",\"type\":\"SaveTool\"},{\"attributes\":{},\"id\":\"1d6f2daa-fc69-49ad-8807-cfe4433e892b\",\"type\":\"LinearScale\"},{\"attributes\":{\"data_source\":{\"id\":\"7f24c8d7-71b0-46fd-8ab6-73646f409dea\",\"type\":\"ColumnDataSource\"},\"glyph\":{\"id\":\"43cbcabe-aa8e-4c98-a895-e67b54ff1771\",\"type\":\"Line\"},\"hover_glyph\":null,\"muted_glyph\":null,\"nonselection_glyph\":{\"id\":\"f56f8510-14b5-4aab-80d8-bf131de88bf0\",\"type\":\"Line\"},\"selection_glyph\":null,\"view\":{\"id\":\"79bac56a-593d-44dd-a813-b710dcfe8a2b\",\"type\":\"CDSView\"}},\"id\":\"14a4b7ea-58c5-46e9-9ea7-8746f50065dd\",\"type\":\"GlyphRenderer\"},{\"attributes\":{\"bottom_units\":\"screen\",\"fill_alpha\":{\"value\":0.5},\"fill_color\":{\"value\":\"lightgrey\"},\"left_units\":\"screen\",\"level\":\"overlay\",\"line_alpha\":{\"value\":1.0},\"line_color\":{\"value\":\"black\"},\"line_dash\":[4,4],\"line_width\":{\"value\":2},\"plot\":null,\"render_mode\":\"css\",\"right_units\":\"screen\",\"top_units\":\"screen\"},\"id\":\"e2e4f676-5eb3-436b-a20a-3313ac630df3\",\"type\":\"BoxAnnotation\"},{\"attributes\":{\"below\":[{\"id\":\"2f6c1b08-622f-4f5e-abfe-d5dab451b7ee\",\"type\":\"LinearAxis\"}],\"left\":[{\"id\":\"8709a9db-ca4d-42c3-ac27-0af57aa36572\",\"type\":\"LinearAxis\"}],\"plot_height\":500,\"plot_width\":400,\"renderers\":[{\"id\":\"2f6c1b08-622f-4f5e-abfe-d5dab451b7ee\",\"type\":\"LinearAxis\"},{\"id\":\"a7adba30-e0b2-4431-8622-875a7be176d9\",\"type\":\"Grid\"},{\"id\":\"8709a9db-ca4d-42c3-ac27-0af57aa36572\",\"type\":\"LinearAxis\"},{\"id\":\"e28c42de-c4cf-48ad-a1d7-58597b6972f3\",\"type\":\"Grid\"},{\"id\":\"3f76c98c-0c3b-457c-8371-a2d20b94fd43\",\"type\":\"BoxAnnotation\"},{\"id\":\"14a4b7ea-58c5-46e9-9ea7-8746f50065dd\",\"type\":\"GlyphRenderer\"},{\"id\":\"bbf174e3-4a86-4bd1-a21f-057240c6ff3a\",\"type\":\"GlyphRenderer\"},{\"id\":\"894fbfaa-b152-4489-bcae-f34ce5fd9d80\",\"type\":\"GlyphRenderer\"},{\"id\":\"cec842fc-3086-41ac-a81e-888346b62f92\",\"type\":\"GlyphRenderer\"},{\"id\":\"4f2e45af-0203-4db3-9f32-80df130baa73\",\"type\":\"GlyphRenderer\"}],\"title\":{\"id\":\"16f943ce-9bf9-4de8-9b8f-702e2ac38a55\",\"type\":\"Title\"},\"toolbar\":{\"id\":\"1d1f2ae3-8e9f-48aa-9b11-699d1485acf2\",\"type\":\"Toolbar\"},\"toolbar_location\":null,\"x_range\":{\"id\":\"2691fccf-c5fd-4646-bf55-6ec127251961\",\"type\":\"Range1d\"},\"x_scale\":{\"id\":\"2765568f-1e93-43fd-b47f-859e3f71354d\",\"type\":\"LinearScale\"},\"y_range\":{\"id\":\"045a4e72-f6f2-4daf-8279-8595160444b8\",\"type\":\"Range1d\"},\"y_scale\":{\"id\":\"53eb6afa-e34e-48be-a283-bcf5740b9478\",\"type\":\"LinearScale\"}},\"id\":\"36b5d734-fed6-41c8-96c2-a2f83f78823b\",\"subtype\":\"Figure\",\"type\":\"Plot\"},{\"attributes\":{},\"id\":\"50ce01bc-6e1f-43a5-ba17-09b4c36cfe2b\",\"type\":\"ResetTool\"},{\"attributes\":{\"callback\":null,\"end\":0.33167964139999995,\"start\":-0.1640955814},\"id\":\"b7b5e848-b6c8-4b8c-91cf-c735fdcf8a6f\",\"type\":\"Range1d\"},{\"attributes\":{\"fill_alpha\":{\"value\":0.1},\"fill_color\":{\"value\":\"#1f77b4\"},\"line_alpha\":{\"value\":0.1},\"line_color\":{\"value\":\"#1f77b4\"},\"x\":{\"field\":\"x\"},\"y\":{\"field\":\"y\"}},\"id\":\"e45bfeba-b778-4757-933e-974ded53c0e5\",\"type\":\"Square\"},{\"attributes\":{\"line_alpha\":0.1,\"line_color\":\"#1f77b4\",\"line_dash\":[6],\"line_width\":5,\"x\":{\"field\":\"x\"},\"y\":{\"field\":\"y\"}},\"id\":\"809d980d-e08f-4fda-a204-1496cd21578b\",\"type\":\"Line\"},{\"attributes\":{},\"id\":\"28fd678e-4b0f-4ccc-be84-84b17bba0f2b\",\"type\":\"BasicTicker\"},{\"attributes\":{\"callback\":null,\"data\":{\"x\":{\"__ndarray__\":\"YdrJEVqIw7/w2LpvA2vDv1V6ZYp6HMO//g7ud5rWwr/BXAqOD4PCv27XMehvPsK/p3fVk/P/wb9TX/wF/svBv4QwGgiZqsG/iKu8Y3Khwb+vGyCybLvBvyMQlCfJCcK/ZnWb9HOcwr9ui9xcBJPDvxwjzAaTE8S/C50d/FBHwr9ZpGCdl9G7v9lJxdHp1LC/WjR1sMnUjb++d7mKRq6nP6hhI35x6L4//7JraSpwzD+HzhuSYLPUP9WH7dkLgNI/gXSNyr6UxT9LmnZSw7u4P1fKo9sWf68/YqpOk5OTpT+tSGS2QligPzhXV5WvKZs/+ZuclwB/lj+rDi+5bymRP3WW9b3T4Io/VJwjCCMAhz+QJCpx8MGAPy4lSq/ecW8/VKorLNC6Vj+puNK0iWhLP9vc2Zv/m1C/Nhz68+Bkab+ZD/l532Mwv1qSYDR6VZM/VYsnpSiDqD858olaHvevP0crjouBkbE/gEetUMvRtD8n9PnQUPW4PzoLCun0QLw/hKc9WEdUvj+0WbVlvKS/PwKBD7fNScA/zc3nHSRmwD/OjXce91/AP90PBbIEGcA/nriaqlnDvj+yILbOYai8P5YxxMqEYbo/E8zz+3WXuD9mU2HN0Ju1P40hfu19OrI/CErwJMhwrj/ID8MnIp6pP9rjzV3i5qU/bSlAYmbuoj+3Cr6EYiKhPzBJO8/5A6E/lKs5TpXboj/KFEAvusykP4ZbeROApaM/48VdiXfTnT/KJ7whhiGTP5A4vlXSU4c/ttTHC7wYfz+N6B6n2Hh8PysN2cWMu74/\",\"dtype\":\"float64\",\"shape\":[75]},\"y\":{\"__ndarray__\":\"GhExyth1ND/Sv8nbtpRIP2vylNV0PVE/aTum7souWD/At0SJ8fVgPw3Iuahxymc/MSNhhJWvcD/bTfBN02d3P2zb5nxnaoA/CD5h5MAGhz8NmeH1TyaQP+zrCsc9p5Y/LbKd76fGnz/bLW5ISEmmPww9YvTcQq8/JV2OstnstT8Er5Y7M8G+P0c+r3jqkcU/5h99k6ZBzj88bCIzFzjVP4enV8oyxN0//yH99nXg5D8qOpLLf0jtP5kqGJXUifQ/c9cS8kHP/D+/DpwzojQEQIEmwoanVwxA4lgXt9HgE0BSSZ2AJuIbQAMJih9jjiNA5q4l5INuK0AwTKYKRj0zQNv5fmq8/DpAaCJseHrtQkB/+zpwzoxKQM3MzMzMeFJAZmZmZmZqWEAAAAAAAFxeQM3MzMzMJmJAmpmZmZkfZUBmZmZmZhhoQDMzMzMzEWtAAAAAAAAKbkBmZmZmZoFwQM3MzMzM/XFAMzMzMzN6c0CamZmZmfZ0QAAAAAAAc3ZAZmZmZmbvd0DNzMzMzGt5QDMzMzMz6HpAmpmZmZlkfEAAAAAAAOF9QGZmZmZmXX9AZmZmZuZsgECamZmZGSuBQM3MzMxM6YFAAAAAAICngkAzMzMzs2WDQGZmZmbmI4RAmpmZmRnihEDNzMzMTKCFQAAAAACAXoZAMzMzM7Mch0BmZmZm5tqHQJqZmZkZmYhAzczMzExXiUAAAAAAgBWKQDMzMzOz04pAZmZmZuaRi0CamZmZGVCMQM3MzMxMDo1AAAAAAIDMjUAzMzMzs4qOQGZmZmbmSI9A\",\"dtype\":\"float64\",\"shape\":[75]}},\"selected\":{\"id\":\"f9de7645-4a23-48de-bddc-21ec9b99e24e\",\"type\":\"Selection\"},\"selection_policy\":{\"id\":\"b2687b76-5ab3-4b79-9603-98d0d19cb0c5\",\"type\":\"UnionRenderers\"}},\"id\":\"1c73b9ea-92a2-4932-81fd-cf32ff004d7d\",\"type\":\"ColumnDataSource\"},{\"attributes\":{\"line_alpha\":0.6,\"line_color\":\"#e41a1c\",\"line_dash\":[6],\"line_width\":5,\"x\":{\"field\":\"x\"},\"y\":{\"field\":\"y\"}},\"id\":\"2d7e09ee-1433-4d0b-b851-56f95cee3f63\",\"type\":\"Line\"},{\"attributes\":{\"ticker\":null},\"id\":\"191cd775-69a7-4e8c-b659-98e60595ce2a\",\"type\":\"LogTickFormatter\"},{\"attributes\":{},\"id\":\"11fba533-ad72-44c5-8916-8a3d8535f869\",\"type\":\"BasicTickFormatter\"},{\"attributes\":{},\"id\":\"ac097f66-7e1f-4688-9253-8c12d7236e1a\",\"type\":\"Selection\"},{\"attributes\":{\"fill_alpha\":{\"value\":0.7},\"fill_color\":{\"value\":\"#984ea3\"},\"line_alpha\":{\"value\":0.7},\"line_color\":{\"value\":\"#984ea3\"},\"x\":{\"field\":\"x\"},\"y\":{\"field\":\"y\"}},\"id\":\"611f20ba-b908-44a1-9170-8feb239d6fd1\",\"type\":\"Square\"},{\"attributes\":{},\"id\":\"d2a7175b-fdf6-48ae-aeee-c786b0d5e6c0\",\"type\":\"Selection\"},{\"attributes\":{\"line_alpha\":0.1,\"line_color\":\"#1f77b4\",\"line_dash\":[6],\"line_width\":5,\"x\":{\"field\":\"x\"},\"y\":{\"field\":\"y\"}},\"id\":\"f56f8510-14b5-4aab-80d8-bf131de88bf0\",\"type\":\"Line\"},{\"attributes\":{},\"id\":\"22c64ecd-00af-44f5-b75e-8fa494c62eba\",\"type\":\"Selection\"},{\"attributes\":{\"callback\":null,\"data\":{\"x\":{\"__ndarray__\":\"meoTir7MxL/0/AZ5f7TEvwVa9C33csS/ODYS00stxL8J9C6D1ujDvzY5neByp8O/jtWccjtqw79jf7gvkDXDv59Bv8ZgC8O/pb7Jwhn0wr8+Qd6C1/TCv/x/avYfHcO/WOSV8957w786It+l1CXEvzCwllTQYcS/HpHn4aF7wr/9Gw8RkmC8v03/lFXRUrG/uY7eYfSLj79EZkUM7/2nPxWLACM/Tb8/v1VL+K1vzD8GBnvZl2jUP3usz4vJEdI/pafhvoLyxD+Ltm9dTXi4P0V0ao9gqK8/CJ1eyVjkpD9oBiG7M1yePwu/ikKBLZk/EKEmB6eWlT/hR4vssK2QP8CnINzw/Yk/TxY9PsHIhj9m9TbIMN+APw+EN+5MXWw/tYv6NDxkSD/ely446W43P8V1toZlOlO/voOYNXyFaL86epjxQy/1vvbcp4IIc5Q/zs+Oze7GqT+VXmabxdKtP+dcCyzgG7A/0koDOvGntT9ShdyY4My6P2SPcUGNrb0/Z2iXyjbLvj/w7J9l5bC/P04hX1uip8A/1elA1lMrwT9ZxCyL9GjBP/LxZJLs7MA/kxay41Slvz9L1MGwsmy8P1MnDSbfG7k/Lt3bL8qstj/oLe6kXYOzPxhundhztLA/YCVrSVGrrD/iEO7x6YGoP6sAy4n3laQ/N9fnbCwhoj8Cqj6rWj+ePz68rxYUEJ8/OBzaI3tUoD+a/Nc46R2jPwlPkvVuCKI/V9D7mVYXmz86/8UfhAGRP4dlz4DjO4Q/vz78Ncdkej9JYZALvWt4P+y3nyFWXr4/\",\"dtype\":\"float64\",\"shape\":[75]},\"y\":{\"__ndarray__\":\"S/O/Q+51ND/Sv8nbtpRIP2vylNV0PVE/aTum7souWD/At0SJ8fVgPw3Iuahxymc/MSNhhJWvcD/bTfBN02d3P2zb5nxnaoA/CD5h5MAGhz8NmeH1TyaQP+zrCsc9p5Y/LbKd76fGnz/bLW5ISEmmPww9YvTcQq8/JV2OstnstT8Er5Y7M8G+P0c+r3jqkcU/5h99k6ZBzj88bCIzFzjVP4enV8oyxN0//yH99nXg5D8qOpLLf0jtP5kqGJXUifQ/c9cS8kHP/D+/DpwzojQEQIEmwoanVwxA4lgXt9HgE0BSSZ2AJuIbQAMJih9jjiNA5q4l5INuK0AwTKYKRj0zQNv5fmq8/DpAaCJseHrtQkB/+zpwzoxKQM3MzMzMeFJAZmZmZmZqWEAAAAAAAFxeQM3MzMzMJmJAmpmZmZkfZUBmZmZmZhhoQDMzMzMzEWtAAAAAAAAKbkBmZmZmZoFwQM3MzMzM/XFAMzMzMzN6c0CamZmZmfZ0QAAAAAAAc3ZAZmZmZmbvd0DNzMzMzGt5QDMzMzMz6HpAmpmZmZlkfEAAAAAAAOF9QGZmZmZmXX9AZmZmZuZsgECamZmZGSuBQM3MzMxM6YFAAAAAAICngkAzMzMzs2WDQGZmZmbmI4RAmpmZmRnihEDNzMzMTKCFQAAAAACAXoZAMzMzM7Mch0BmZmZm5tqHQJqZmZkZmYhAzczMzExXiUAAAAAAgBWKQDMzMzOz04pAZmZmZuaRi0CamZmZGVCMQM3MzMxMDo1AAAAAAIDMjUAzMzMzs4qOQGZmZmbmSI9A\",\"dtype\":\"float64\",\"shape\":[75]}},\"selected\":{\"id\":\"83527e5c-5827-4a93-90bc-373cd2e4a3fe\",\"type\":\"Selection\"},\"selection_policy\":{\"id\":\"484a4719-271c-4ffc-a1c1-570663d5e86e\",\"type\":\"UnionRenderers\"}},\"id\":\"7f24c8d7-71b0-46fd-8ab6-73646f409dea\",\"type\":\"ColumnDataSource\"},{\"attributes\":{\"callback\":null,\"data\":{\"x\":{\"__ndarray__\":\"qromKG4qwb9XAPhMmxbBv7baolA/vcC/0laASvBhwL9/54t7+wzAv05uiK9+hb+/ObELL1YOv7/l04Rp776+v43xH9rgp76/FX6AIAbbvr+K6FOeq3O/vy2SPPgFS8C/zeD3iPs8wb9ZMZ450rbCv0dr0o6XxcO/2miMGG4nwr/8fnvozIe7v/tRkHx+yLC/f5KOtExtkL8dzBTd9BOmP01DO0Qv5b0/4ZKpo18yzD9jUo2omurUPxg/roncvtI/od+URaOzxT/xJDjhnf23PwWUB5uaAa0/FIizL5Skoz8DtabmY1ieP88WVy+bDZk/49quos/fkz/QqooB9veMP5X6vCbHRIY//K5nS78Egz8zKZ+MU2d8P13eq30SxG4/q8gkvxeBXj+vWK0XvbZSPzvRckZ+U0y/vzAO728Qab8I9hXWPT9Qvy70Vpcy9Iw/xci4ADkDpD8QJTnkjzexPyHGMbNLq7c/3gQ1NTZfuT8X+OUnMPi6P+0cmBbUO70/sCOrroVRvz+xJC8h1WbAP1Rz2s85qsA/4gogY4swwD+CxeHMr+a+P+/myhyiPL0/29iynWtvuz9B38yeuqi5P/l4g5B1Nrg/ISbKpqhvtz9JFEjzQXu1Px5qx0wj37I/Un2yJVUisD/5eVZJmRGrPzhIuCsciqY/tQI2LLX6oj8S5ST36MugP0rJ5x/BsKA/IMNq+W/Ioj8zNjKXbQqlP51pZIWSMaQ/7XfuXmpbnz87Lk+M0d+UPzRSCEc9Aos/x7qYpEIVgz+U5GcJzGiBP4U8J2K2Cb8/\",\"dtype\":\"float64\",\"shape\":[75]},\"y\":{\"__ndarray__\":\"GhExyth1ND/Sv8nbtpRIP2vylNV0PVE/aTum7souWD/At0SJ8fVgPw3Iuahxymc/MSNhhJWvcD/bTfBN02d3P2zb5nxnaoA/CD5h5MAGhz8NmeH1TyaQP+zrCsc9p5Y/LbKd76fGnz/bLW5ISEmmPww9YvTcQq8/JV2OstnstT8Er5Y7M8G+P0c+r3jqkcU/5h99k6ZBzj88bCIzFzjVP4enV8oyxN0//yH99nXg5D8qOpLLf0jtP5kqGJXUifQ/c9cS8kHP/D+/DpwzojQEQIEmwoanVwxA4lgXt9HgE0BSSZ2AJuIbQAMJih9jjiNA5q4l5INuK0AwTKYKRj0zQNv5fmq8/DpAaCJseHrtQkB/+zpwzoxKQM3MzMzMeFJAZmZmZmZqWEAAAAAAAFxeQM3MzMzMJmJAmpmZmZkfZUBmZmZmZhhoQDMzMzMzEWtAAAAAAAAKbkBmZmZmZoFwQM3MzMzM/XFAMzMzMzN6c0CamZmZmfZ0QAAAAAAAc3ZAZmZmZmbvd0DNzMzMzGt5QDMzMzMz6HpAmpmZmZlkfEAAAAAAAOF9QGZmZmZmXX9AZmZmZuZsgECamZmZGSuBQM3MzMxM6YFAAAAAAICngkAzMzMzs2WDQGZmZmbmI4RAmpmZmRnihEDNzMzMTKCFQAAAAACAXoZAMzMzM7Mch0BmZmZm5tqHQJqZmZkZmYhAzczMzExXiUAAAAAAgBWKQDMzMzOz04pAZmZmZuaRi0CamZmZGVCMQM3MzMxMDo1AAAAAAIDMjUAzMzMzs4qOQGZmZmbmSI9A\",\"dtype\":\"float64\",\"shape\":[75]}},\"selected\":{\"id\":\"22c64ecd-00af-44f5-b75e-8fa494c62eba\",\"type\":\"Selection\"},\"selection_policy\":{\"id\":\"a47cc814-bf19-45ee-9b91-857047b4df07\",\"type\":\"UnionRenderers\"}},\"id\":\"35eece70-faef-45e4-bedf-2c8c7a8ad4d8\",\"type\":\"ColumnDataSource\"},{\"attributes\":{\"callback\":null,\"data\":{\"x\":{\"__ndarray__\":\"qromKG4qwb9XAPhMmxbBv7baolA/vcC/0laASvBhwL9/54t7+wzAv05uiK9+hb+/ObELL1YOv7/l04Rp776+v43xH9rgp76/FX6AIAbbvr+K6FOeq3O/vy2SPPgFS8C/zeD3iPs8wb9ZMZ450rbCv0dr0o6XxcO/2miMGG4nwr/8fnvozIe7v/tRkHx+yLC/f5KOtExtkL8dzBTd9BOmP01DO0Qv5b0/4ZKpo18yzD9jUo2omurUPxg/roncvtI/od+URaOzxT/xJDjhnf23PwWUB5uaAa0/FIizL5Skoz8DtabmY1ieP88WVy+bDZk/49quos/fkz/QqooB9veMP5X6vCbHRIY//K5nS78Egz8zKZ+MU2d8P13eq30SxG4/q8gkvxeBXj+vWK0XvbZSPzvRckZ+U0y/vzAO728Qab8I9hXWPT9Qvy70Vpcy9Iw/xci4ADkDpD8QJTnkjzexPyHGMbNLq7c/3gQ1NTZfuT8X+OUnMPi6P+0cmBbUO70/sCOrroVRvz+xJC8h1WbAP1Rz2s85qsA/4gogY4swwD+CxeHMr+a+P+/myhyiPL0/29iynWtvuz9B38yeuqi5P/l4g5B1Nrg/ISbKpqhvtz9JFEjzQXu1Px5qx0wj37I/Un2yJVUisD/5eVZJmRGrPzhIuCsciqY/tQI2LLX6oj8S5ST36MugP0rJ5x/BsKA/IMNq+W/Ioj8zNjKXbQqlP51pZIWSMaQ/7XfuXmpbnz87Lk+M0d+UPzRSCEc9Aos/x7qYpEIVgz+U5GcJzGiBP4U8J2K2Cb8/\",\"dtype\":\"float64\",\"shape\":[75]},\"y\":{\"__ndarray__\":\"GhExyth1ND/Sv8nbtpRIP2vylNV0PVE/aTum7souWD/At0SJ8fVgPw3Iuahxymc/MSNhhJWvcD/bTfBN02d3P2zb5nxnaoA/CD5h5MAGhz8NmeH1TyaQP+zrCsc9p5Y/LbKd76fGnz/bLW5ISEmmPww9YvTcQq8/JV2OstnstT8Er5Y7M8G+P0c+r3jqkcU/5h99k6ZBzj88bCIzFzjVP4enV8oyxN0//yH99nXg5D8qOpLLf0jtP5kqGJXUifQ/c9cS8kHP/D+/DpwzojQEQIEmwoanVwxA4lgXt9HgE0BSSZ2AJuIbQAMJih9jjiNA5q4l5INuK0AwTKYKRj0zQNv5fmq8/DpAaCJseHrtQkB/+zpwzoxKQM3MzMzMeFJAZmZmZmZqWEAAAAAAAFxeQM3MzMzMJmJAmpmZmZkfZUBmZmZmZhhoQDMzMzMzEWtAAAAAAAAKbkBmZmZmZoFwQM3MzMzM/XFAMzMzMzN6c0CamZmZmfZ0QAAAAAAAc3ZAZmZmZmbvd0DNzMzMzGt5QDMzMzMz6HpAmpmZmZlkfEAAAAAAAOF9QGZmZmZmXX9AZmZmZuZsgECamZmZGSuBQM3MzMxM6YFAAAAAAICngkAzMzMzs2WDQGZmZmbmI4RAmpmZmRnihEDNzMzMTKCFQAAAAACAXoZAMzMzM7Mch0BmZmZm5tqHQJqZmZkZmYhAzczMzExXiUAAAAAAgBWKQDMzMzOz04pAZmZmZuaRi0CamZmZGVCMQM3MzMxMDo1AAAAAAIDMjUAzMzMzs4qOQGZmZmbmSI9A\",\"dtype\":\"float64\",\"shape\":[75]}},\"selected\":{\"id\":\"18eefe50-e8e9-4ae8-8d28-137f4d9bf347\",\"type\":\"Selection\"},\"selection_policy\":{\"id\":\"ba61a82c-1c8c-40af-b1b0-3d98510ca060\",\"type\":\"UnionRenderers\"}},\"id\":\"bf1b2e62-e136-49f6-8ef2-4c61810c1b71\",\"type\":\"ColumnDataSource\"},{\"attributes\":{},\"id\":\"baab88ad-6bba-4aa1-a199-32a8dffc567e\",\"type\":\"UnionRenderers\"},{\"attributes\":{\"fill_alpha\":{\"value\":0.1},\"fill_color\":{\"value\":\"#1f77b4\"},\"line_alpha\":{\"value\":0.1},\"line_color\":{\"value\":\"#1f77b4\"},\"x\":{\"field\":\"x\"},\"y\":{\"field\":\"y\"}},\"id\":\"0075c6ef-4054-44b8-ab32-cccec5df0528\",\"type\":\"Circle\"},{\"attributes\":{},\"id\":\"a47cc814-bf19-45ee-9b91-857047b4df07\",\"type\":\"UnionRenderers\"},{\"attributes\":{},\"id\":\"332c324c-f452-4e4d-b553-f084cc28c058\",\"type\":\"UnionRenderers\"},{\"attributes\":{},\"id\":\"de5284b8-b37f-4283-934e-7b6057cebee6\",\"type\":\"Selection\"},{\"attributes\":{},\"id\":\"b09e48ea-c46c-4b6f-9ca3-6122f99f63a2\",\"type\":\"Selection\"},{\"attributes\":{\"toolbar\":{\"id\":\"7760cb46-8aa7-4242-aef5-7b4f8ea18ff9\",\"type\":\"ProxyToolbar\"},\"toolbar_location\":\"above\"},\"id\":\"b7aab5e9-f445-4306-8110-685ead892913\",\"type\":\"ToolbarBox\"},{\"attributes\":{\"callback\":null,\"data\":{\"x\":{\"__ndarray__\":\"qromKG4qwb9XAPhMmxbBv7baolA/vcC/0laASvBhwL9/54t7+wzAv05uiK9+hb+/ObELL1YOv7/l04Rp776+v43xH9rgp76/FX6AIAbbvr+K6FOeq3O/vy2SPPgFS8C/zeD3iPs8wb9ZMZ450rbCv0dr0o6XxcO/2miMGG4nwr/8fnvozIe7v/tRkHx+yLC/f5KOtExtkL8dzBTd9BOmP01DO0Qv5b0/4ZKpo18yzD9jUo2omurUPxg/roncvtI/od+URaOzxT/xJDjhnf23PwWUB5uaAa0/FIizL5Skoz8DtabmY1ieP88WVy+bDZk/49quos/fkz/QqooB9veMP5X6vCbHRIY//K5nS78Egz8zKZ+MU2d8P13eq30SxG4/q8gkvxeBXj+vWK0XvbZSPzvRckZ+U0y/vzAO728Qab8I9hXWPT9Qvy70Vpcy9Iw/xci4ADkDpD8QJTnkjzexPyHGMbNLq7c/3gQ1NTZfuT8X+OUnMPi6P+0cmBbUO70/sCOrroVRvz+xJC8h1WbAP1Rz2s85qsA/4gogY4swwD+CxeHMr+a+P+/myhyiPL0/29iynWtvuz9B38yeuqi5P/l4g5B1Nrg/ISbKpqhvtz9JFEjzQXu1Px5qx0wj37I/Un2yJVUisD/5eVZJmRGrPzhIuCsciqY/tQI2LLX6oj8S5ST36MugP0rJ5x/BsKA/IMNq+W/Ioj8zNjKXbQqlP51pZIWSMaQ/7XfuXmpbnz87Lk+M0d+UPzRSCEc9Aos/x7qYpEIVgz+U5GcJzGiBP4U8J2K2Cb8/\",\"dtype\":\"float64\",\"shape\":[75]},\"y\":{\"__ndarray__\":\"GhExyth1ND/Sv8nbtpRIP2vylNV0PVE/aTum7souWD/At0SJ8fVgPw3Iuahxymc/MSNhhJWvcD/bTfBN02d3P2zb5nxnaoA/CD5h5MAGhz8NmeH1TyaQP+zrCsc9p5Y/LbKd76fGnz/bLW5ISEmmPww9YvTcQq8/JV2OstnstT8Er5Y7M8G+P0c+r3jqkcU/5h99k6ZBzj88bCIzFzjVP4enV8oyxN0//yH99nXg5D8qOpLLf0jtP5kqGJXUifQ/c9cS8kHP/D+/DpwzojQEQIEmwoanVwxA4lgXt9HgE0BSSZ2AJuIbQAMJih9jjiNA5q4l5INuK0AwTKYKRj0zQNv5fmq8/DpAaCJseHrtQkB/+zpwzoxKQM3MzMzMeFJAZmZmZmZqWEAAAAAAAFxeQM3MzMzMJmJAmpmZmZkfZUBmZmZmZhhoQDMzMzMzEWtAAAAAAAAKbkBmZmZmZoFwQM3MzMzM/XFAMzMzMzN6c0CamZmZmfZ0QAAAAAAAc3ZAZmZmZmbvd0DNzMzMzGt5QDMzMzMz6HpAmpmZmZlkfEAAAAAAAOF9QGZmZmZmXX9AZmZmZuZsgECamZmZGSuBQM3MzMxM6YFAAAAAAICngkAzMzMzs2WDQGZmZmbmI4RAmpmZmRnihEDNzMzMTKCFQAAAAACAXoZAMzMzM7Mch0BmZmZm5tqHQJqZmZkZmYhAzczMzExXiUAAAAAAgBWKQDMzMzOz04pAZmZmZuaRi0CamZmZGVCMQM3MzMxMDo1AAAAAAIDMjUAzMzMzs4qOQGZmZmbmSI9A\",\"dtype\":\"float64\",\"shape\":[75]}},\"selected\":{\"id\":\"ac097f66-7e1f-4688-9253-8c12d7236e1a\",\"type\":\"Selection\"},\"selection_policy\":{\"id\":\"332c324c-f452-4e4d-b553-f084cc28c058\",\"type\":\"UnionRenderers\"}},\"id\":\"90af29d4-6bfc-4764-bde8-9c3dc69fcfed\",\"type\":\"ColumnDataSource\"},{\"attributes\":{},\"id\":\"37803070-5f83-4999-9f39-cc7c802809bd\",\"type\":\"UnionRenderers\"},{\"attributes\":{\"children\":[{\"id\":\"b7aab5e9-f445-4306-8110-685ead892913\",\"type\":\"ToolbarBox\"},{\"id\":\"6b8b75c8-6a1c-4d89-b3b4-e369443b1ae7\",\"type\":\"Column\"}]},\"id\":\"4cfebe8b-68ba-4ff6-8bba-269887da2966\",\"type\":\"Column\"},{\"attributes\":{},\"id\":\"3ce7aac7-4b1d-4e47-aec8-0270853ed2fe\",\"type\":\"UnionRenderers\"},{\"attributes\":{\"tools\":[{\"id\":\"a809ba9a-7bc3-4bb4-bbb3-080582751bce\",\"type\":\"PanTool\"},{\"id\":\"d7893015-1ef9-4b08-bc3b-6f364873ba57\",\"type\":\"WheelZoomTool\"},{\"id\":\"6088fe32-39dc-49fb-bcfa-7edf6886dc4c\",\"type\":\"BoxZoomTool\"},{\"id\":\"2bf7d31b-e5cf-409c-b170-54f224e8eaf2\",\"type\":\"SaveTool\"},{\"id\":\"9c03a1bf-3d28-47ce-a1fd-d686b1d9c02e\",\"type\":\"ResetTool\"},{\"id\":\"88dff9e9-d314-4e12-8a32-0e54d852deec\",\"type\":\"HelpTool\"},{\"id\":\"17a7be49-5055-4d2e-a36c-5f0230d4c054\",\"type\":\"PanTool\"},{\"id\":\"5f7d051a-7861-47f1-99e6-307949e7474a\",\"type\":\"WheelZoomTool\"},{\"id\":\"888f6c78-6f6f-45ea-b3c9-43f3c10ee0d9\",\"type\":\"BoxZoomTool\"},{\"id\":\"aedcdda2-8de9-4b20-be0e-e3b6d3b6d037\",\"type\":\"SaveTool\"},{\"id\":\"50ce01bc-6e1f-43a5-ba17-09b4c36cfe2b\",\"type\":\"ResetTool\"},{\"id\":\"aa1ca1db-506f-4279-a147-b1c631505886\",\"type\":\"HelpTool\"}]},\"id\":\"7760cb46-8aa7-4242-aef5-7b4f8ea18ff9\",\"type\":\"ProxyToolbar\"},{\"attributes\":{\"callback\":null,\"data\":{\"x\":{\"__ndarray__\":\"YdrJEVqIw7/w2LpvA2vDv1V6ZYp6HMO//g7ud5rWwr/BXAqOD4PCv27XMehvPsK/p3fVk/P/wb9TX/wF/svBv4QwGgiZqsG/iKu8Y3Khwb+vGyCybLvBvyMQlCfJCcK/ZnWb9HOcwr9ui9xcBJPDvxwjzAaTE8S/C50d/FBHwr9ZpGCdl9G7v9lJxdHp1LC/WjR1sMnUjb++d7mKRq6nP6hhI35x6L4//7JraSpwzD+HzhuSYLPUP9WH7dkLgNI/gXSNyr6UxT9LmnZSw7u4P1fKo9sWf68/YqpOk5OTpT+tSGS2QligPzhXV5WvKZs/+ZuclwB/lj+rDi+5bymRP3WW9b3T4Io/VJwjCCMAhz+QJCpx8MGAPy4lSq/ecW8/VKorLNC6Vj+puNK0iWhLP9vc2Zv/m1C/Nhz68+Bkab+ZD/l532Mwv1qSYDR6VZM/VYsnpSiDqD858olaHvevP0crjouBkbE/gEetUMvRtD8n9PnQUPW4PzoLCun0QLw/hKc9WEdUvj+0WbVlvKS/PwKBD7fNScA/zc3nHSRmwD/OjXce91/AP90PBbIEGcA/nriaqlnDvj+yILbOYai8P5YxxMqEYbo/E8zz+3WXuD9mU2HN0Ju1P40hfu19OrI/CErwJMhwrj/ID8MnIp6pP9rjzV3i5qU/bSlAYmbuoj+3Cr6EYiKhPzBJO8/5A6E/lKs5TpXboj/KFEAvusykP4ZbeROApaM/48VdiXfTnT/KJ7whhiGTP5A4vlXSU4c/ttTHC7wYfz+N6B6n2Hh8PysN2cWMu74/\",\"dtype\":\"float64\",\"shape\":[75]},\"y\":{\"__ndarray__\":\"GhExyth1ND/Sv8nbtpRIP2vylNV0PVE/aTum7souWD/At0SJ8fVgPw3Iuahxymc/MSNhhJWvcD/bTfBN02d3P2zb5nxnaoA/CD5h5MAGhz8NmeH1TyaQP+zrCsc9p5Y/LbKd76fGnz/bLW5ISEmmPww9YvTcQq8/JV2OstnstT8Er5Y7M8G+P0c+r3jqkcU/5h99k6ZBzj88bCIzFzjVP4enV8oyxN0//yH99nXg5D8qOpLLf0jtP5kqGJXUifQ/c9cS8kHP/D+/DpwzojQEQIEmwoanVwxA4lgXt9HgE0BSSZ2AJuIbQAMJih9jjiNA5q4l5INuK0AwTKYKRj0zQNv5fmq8/DpAaCJseHrtQkB/+zpwzoxKQM3MzMzMeFJAZmZmZmZqWEAAAAAAAFxeQM3MzMzMJmJAmpmZmZkfZUBmZmZmZhhoQDMzMzMzEWtAAAAAAAAKbkBmZmZmZoFwQM3MzMzM/XFAMzMzMzN6c0CamZmZmfZ0QAAAAAAAc3ZAZmZmZmbvd0DNzMzMzGt5QDMzMzMz6HpAmpmZmZlkfEAAAAAAAOF9QGZmZmZmXX9AZmZmZuZsgECamZmZGSuBQM3MzMxM6YFAAAAAAICngkAzMzMzs2WDQGZmZmbmI4RAmpmZmRnihEDNzMzMTKCFQAAAAACAXoZAMzMzM7Mch0BmZmZm5tqHQJqZmZkZmYhAzczMzExXiUAAAAAAgBWKQDMzMzOz04pAZmZmZuaRi0CamZmZGVCMQM3MzMxMDo1AAAAAAIDMjUAzMzMzs4qOQGZmZmbmSI9A\",\"dtype\":\"float64\",\"shape\":[75]}},\"selected\":{\"id\":\"84aa312f-70ab-4754-a62f-7c1ef8b1b2f6\",\"type\":\"Selection\"},\"selection_policy\":{\"id\":\"d74bdbf5-bc7a-44ae-a1c2-c5ba547775b2\",\"type\":\"UnionRenderers\"}},\"id\":\"9771ddab-6559-4ae8-8c91-11bd7a07e2b3\",\"type\":\"ColumnDataSource\"},{\"attributes\":{\"callback\":null,\"end\":0.01,\"start\":1020},\"id\":\"045a4e72-f6f2-4daf-8279-8595160444b8\",\"type\":\"Range1d\"},{\"attributes\":{\"line_alpha\":0.6,\"line_color\":\"#e41a1c\",\"line_dash\":[6],\"line_width\":5,\"x\":{\"field\":\"x\"},\"y\":{\"field\":\"y\"}},\"id\":\"43cbcabe-aa8e-4c98-a895-e67b54ff1771\",\"type\":\"Line\"},{\"attributes\":{\"line_alpha\":0.1,\"line_color\":\"#1f77b4\",\"line_width\":3,\"x\":{\"field\":\"x\"},\"y\":{\"field\":\"y\"}},\"id\":\"73b7842e-3056-4d98-9376-c14f577fdc47\",\"type\":\"Line\"},{\"attributes\":{\"children\":[{\"id\":\"6b52acd6-1331-4f6e-a51b-2a57eac8286d\",\"type\":\"Row\"}]},\"id\":\"6b8b75c8-6a1c-4d89-b3b4-e369443b1ae7\",\"type\":\"Column\"},{\"attributes\":{\"data_source\":{\"id\":\"bf1b2e62-e136-49f6-8ef2-4c61810c1b71\",\"type\":\"ColumnDataSource\"},\"glyph\":{\"id\":\"a2c0b907-1318-49f4-a6ff-92c1af018498\",\"type\":\"Line\"},\"hover_glyph\":null,\"muted_glyph\":null,\"nonselection_glyph\":{\"id\":\"5a02cab5-0f45-4084-b9ca-15d53cc7d2a9\",\"type\":\"Line\"},\"selection_glyph\":null,\"view\":{\"id\":\"e85d213c-19aa-4e31-b2cd-2dc971a031db\",\"type\":\"CDSView\"}},\"id\":\"894fbfaa-b152-4489-bcae-f34ce5fd9d80\",\"type\":\"GlyphRenderer\"},{\"attributes\":{\"line_color\":\"#4daf4a\",\"line_width\":1.5,\"x\":{\"field\":\"x\"},\"y\":{\"field\":\"y\"}},\"id\":\"a2c0b907-1318-49f4-a6ff-92c1af018498\",\"type\":\"Line\"},{\"attributes\":{\"data_source\":{\"id\":\"90af29d4-6bfc-4764-bde8-9c3dc69fcfed\",\"type\":\"ColumnDataSource\"},\"glyph\":{\"id\":\"152f454f-b1bc-4c0e-9137-547b52b8e9c5\",\"type\":\"Circle\"},\"hover_glyph\":null,\"muted_glyph\":null,\"nonselection_glyph\":{\"id\":\"0075c6ef-4054-44b8-ab32-cccec5df0528\",\"type\":\"Circle\"},\"selection_glyph\":null,\"view\":{\"id\":\"72c6932b-b085-49c7-b2e2-be35b4bdbf43\",\"type\":\"CDSView\"}},\"id\":\"be6def02-f775-4e89-8a19-0927699653ad\",\"type\":\"GlyphRenderer\"},{\"attributes\":{\"data_source\":{\"id\":\"df1d8350-6fb5-484e-a12f-462c3a016573\",\"type\":\"ColumnDataSource\"},\"glyph\":{\"id\":\"2d7e09ee-1433-4d0b-b851-56f95cee3f63\",\"type\":\"Line\"},\"hover_glyph\":null,\"muted_glyph\":null,\"nonselection_glyph\":{\"id\":\"809d980d-e08f-4fda-a204-1496cd21578b\",\"type\":\"Line\"},\"selection_glyph\":null,\"view\":{\"id\":\"99e975bc-b152-49f2-b97b-b52b6dc1aa61\",\"type\":\"CDSView\"}},\"id\":\"9434a31f-45b7-4968-8b03-52e1f379397b\",\"type\":\"GlyphRenderer\"},{\"attributes\":{\"fill_alpha\":{\"value\":0.1},\"fill_color\":{\"value\":\"#1f77b4\"},\"line_alpha\":{\"value\":0.1},\"line_color\":{\"value\":\"#1f77b4\"},\"x\":{\"field\":\"x\"},\"y\":{\"field\":\"y\"}},\"id\":\"af27cc68-7101-46d1-b7c1-85796d8bff4f\",\"type\":\"Square\"},{\"attributes\":{\"callback\":null,\"data\":{\"x\":{\"__ndarray__\":\"YdrJEVqIw7/w2LpvA2vDv1V6ZYp6HMO//g7ud5rWwr/BXAqOD4PCv27XMehvPsK/p3fVk/P/wb9TX/wF/svBv4QwGgiZqsG/iKu8Y3Khwb+vGyCybLvBvyMQlCfJCcK/ZnWb9HOcwr9ui9xcBJPDvxwjzAaTE8S/C50d/FBHwr9ZpGCdl9G7v9lJxdHp1LC/WjR1sMnUjb++d7mKRq6nP6hhI35x6L4//7JraSpwzD+HzhuSYLPUP9WH7dkLgNI/gXSNyr6UxT9LmnZSw7u4P1fKo9sWf68/YqpOk5OTpT+tSGS2QligPzhXV5WvKZs/+ZuclwB/lj+rDi+5bymRP3WW9b3T4Io/VJwjCCMAhz+QJCpx8MGAPy4lSq/ecW8/VKorLNC6Vj+puNK0iWhLP9vc2Zv/m1C/Nhz68+Bkab+ZD/l532Mwv1qSYDR6VZM/VYsnpSiDqD858olaHvevP0crjouBkbE/gEetUMvRtD8n9PnQUPW4PzoLCun0QLw/hKc9WEdUvj+0WbVlvKS/PwKBD7fNScA/zc3nHSRmwD/OjXce91/AP90PBbIEGcA/nriaqlnDvj+yILbOYai8P5YxxMqEYbo/E8zz+3WXuD9mU2HN0Ju1P40hfu19OrI/CErwJMhwrj/ID8MnIp6pP9rjzV3i5qU/bSlAYmbuoj+3Cr6EYiKhPzBJO8/5A6E/lKs5TpXboj/KFEAvusykP4ZbeROApaM/48VdiXfTnT/KJ7whhiGTP5A4vlXSU4c/ttTHC7wYfz+N6B6n2Hh8PysN2cWMu74/\",\"dtype\":\"float64\",\"shape\":[75]},\"y\":{\"__ndarray__\":\"GhExyth1ND/Sv8nbtpRIP2vylNV0PVE/aTum7souWD/At0SJ8fVgPw3Iuahxymc/MSNhhJWvcD/bTfBN02d3P2zb5nxnaoA/CD5h5MAGhz8NmeH1TyaQP+zrCsc9p5Y/LbKd76fGnz/bLW5ISEmmPww9YvTcQq8/JV2OstnstT8Er5Y7M8G+P0c+r3jqkcU/5h99k6ZBzj88bCIzFzjVP4enV8oyxN0//yH99nXg5D8qOpLLf0jtP5kqGJXUifQ/c9cS8kHP/D+/DpwzojQEQIEmwoanVwxA4lgXt9HgE0BSSZ2AJuIbQAMJih9jjiNA5q4l5INuK0AwTKYKRj0zQNv5fmq8/DpAaCJseHrtQkB/+zpwzoxKQM3MzMzMeFJAZmZmZmZqWEAAAAAAAFxeQM3MzMzMJmJAmpmZmZkfZUBmZmZmZhhoQDMzMzMzEWtAAAAAAAAKbkBmZmZmZoFwQM3MzMzM/XFAMzMzMzN6c0CamZmZmfZ0QAAAAAAAc3ZAZmZmZmbvd0DNzMzMzGt5QDMzMzMz6HpAmpmZmZlkfEAAAAAAAOF9QGZmZmZmXX9AZmZmZuZsgECamZmZGSuBQM3MzMxM6YFAAAAAAICngkAzMzMzs2WDQGZmZmbmI4RAmpmZmRnihEDNzMzMTKCFQAAAAACAXoZAMzMzM7Mch0BmZmZm5tqHQJqZmZkZmYhAzczMzExXiUAAAAAAgBWKQDMzMzOz04pAZmZmZuaRi0CamZmZGVCMQM3MzMxMDo1AAAAAAIDMjUAzMzMzs4qOQGZmZmbmSI9A\",\"dtype\":\"float64\",\"shape\":[75]}},\"selected\":{\"id\":\"de5284b8-b37f-4283-934e-7b6057cebee6\",\"type\":\"Selection\"},\"selection_policy\":{\"id\":\"37803070-5f83-4999-9f39-cc7c802809bd\",\"type\":\"UnionRenderers\"}},\"id\":\"2dfc390e-c419-48a1-b242-13cb37640069\",\"type\":\"ColumnDataSource\"},{\"attributes\":{\"fill_alpha\":{\"value\":0.7},\"fill_color\":{\"value\":\"#4daf4a\"},\"line_alpha\":{\"value\":0.7},\"line_color\":{\"value\":\"#4daf4a\"},\"x\":{\"field\":\"x\"},\"y\":{\"field\":\"y\"}},\"id\":\"152f454f-b1bc-4c0e-9137-547b52b8e9c5\",\"type\":\"Circle\"},{\"attributes\":{\"source\":{\"id\":\"bf1b2e62-e136-49f6-8ef2-4c61810c1b71\",\"type\":\"ColumnDataSource\"}},\"id\":\"e85d213c-19aa-4e31-b2cd-2dc971a031db\",\"type\":\"CDSView\"},{\"attributes\":{\"line_color\":\"#4daf4a\",\"line_width\":1.5,\"x\":{\"field\":\"x\"},\"y\":{\"field\":\"y\"}},\"id\":\"3baa9233-77f8-4e61-843f-07d8640092f3\",\"type\":\"Line\"},{\"attributes\":{\"data_source\":{\"id\":\"9771ddab-6559-4ae8-8c91-11bd7a07e2b3\",\"type\":\"ColumnDataSource\"},\"glyph\":{\"id\":\"611f20ba-b908-44a1-9170-8feb239d6fd1\",\"type\":\"Square\"},\"hover_glyph\":null,\"muted_glyph\":null,\"nonselection_glyph\":{\"id\":\"af27cc68-7101-46d1-b7c1-85796d8bff4f\",\"type\":\"Square\"},\"selection_glyph\":null,\"view\":{\"id\":\"6a89a3e7-6b3b-487d-8847-150c5b3f3624\",\"type\":\"CDSView\"}},\"id\":\"cec842fc-3086-41ac-a81e-888346b62f92\",\"type\":\"GlyphRenderer\"},{\"attributes\":{\"source\":{\"id\":\"90af29d4-6bfc-4764-bde8-9c3dc69fcfed\",\"type\":\"ColumnDataSource\"}},\"id\":\"72c6932b-b085-49c7-b2e2-be35b4bdbf43\",\"type\":\"CDSView\"},{\"attributes\":{\"source\":{\"id\":\"df1d8350-6fb5-484e-a12f-462c3a016573\",\"type\":\"ColumnDataSource\"}},\"id\":\"99e975bc-b152-49f2-b97b-b52b6dc1aa61\",\"type\":\"CDSView\"},{\"attributes\":{\"line_alpha\":0.1,\"line_color\":\"#1f77b4\",\"line_width\":1.5,\"x\":{\"field\":\"x\"},\"y\":{\"field\":\"y\"}},\"id\":\"a8d74e78-0b2b-409e-80c7-f62cf24d743c\",\"type\":\"Line\"},{\"attributes\":{\"data_source\":{\"id\":\"35eece70-faef-45e4-bedf-2c8c7a8ad4d8\",\"type\":\"ColumnDataSource\"},\"glyph\":{\"id\":\"3baa9233-77f8-4e61-843f-07d8640092f3\",\"type\":\"Line\"},\"hover_glyph\":null,\"muted_glyph\":null,\"nonselection_glyph\":{\"id\":\"a8d74e78-0b2b-409e-80c7-f62cf24d743c\",\"type\":\"Line\"},\"selection_glyph\":null,\"view\":{\"id\":\"826d4143-5632-4fe2-8891-19631287da8a\",\"type\":\"CDSView\"}},\"id\":\"19395a06-1041-4f2b-92dc-7c9fe4f8c04e\",\"type\":\"GlyphRenderer\"},{\"attributes\":{\"source\":{\"id\":\"7f24c8d7-71b0-46fd-8ab6-73646f409dea\",\"type\":\"ColumnDataSource\"}},\"id\":\"79bac56a-593d-44dd-a813-b710dcfe8a2b\",\"type\":\"CDSView\"},{\"attributes\":{\"source\":{\"id\":\"35eece70-faef-45e4-bedf-2c8c7a8ad4d8\",\"type\":\"ColumnDataSource\"}},\"id\":\"826d4143-5632-4fe2-8891-19631287da8a\",\"type\":\"CDSView\"},{\"attributes\":{\"callback\":null,\"data\":{\"x\":{\"__ndarray__\":\"YdrJEVqIw7/w2LpvA2vDv1V6ZYp6HMO//g7ud5rWwr/BXAqOD4PCv27XMehvPsK/p3fVk/P/wb9TX/wF/svBv4QwGgiZqsG/iKu8Y3Khwb+vGyCybLvBvyMQlCfJCcK/ZnWb9HOcwr9ui9xcBJPDvxwjzAaTE8S/C50d/FBHwr9ZpGCdl9G7v9lJxdHp1LC/WjR1sMnUjb++d7mKRq6nP6hhI35x6L4//7JraSpwzD+HzhuSYLPUP9WH7dkLgNI/gXSNyr6UxT9LmnZSw7u4P1fKo9sWf68/YqpOk5OTpT+tSGS2QligPzhXV5WvKZs/+ZuclwB/lj+rDi+5bymRP3WW9b3T4Io/VJwjCCMAhz+QJCpx8MGAPy4lSq/ecW8/VKorLNC6Vj+puNK0iWhLP9vc2Zv/m1C/Nhz68+Bkab+ZD/l532Mwv1qSYDR6VZM/VYsnpSiDqD858olaHvevP0crjouBkbE/gEetUMvRtD8n9PnQUPW4PzoLCun0QLw/hKc9WEdUvj+0WbVlvKS/PwKBD7fNScA/zc3nHSRmwD/OjXce91/AP90PBbIEGcA/nriaqlnDvj+yILbOYai8P5YxxMqEYbo/E8zz+3WXuD9mU2HN0Ju1P40hfu19OrI/CErwJMhwrj/ID8MnIp6pP9rjzV3i5qU/bSlAYmbuoj+3Cr6EYiKhPzBJO8/5A6E/lKs5TpXboj/KFEAvusykP4ZbeROApaM/48VdiXfTnT/KJ7whhiGTP5A4vlXSU4c/ttTHC7wYfz+N6B6n2Hh8PysN2cWMu74/\",\"dtype\":\"float64\",\"shape\":[75]},\"y\":{\"__ndarray__\":\"GhExyth1ND/Sv8nbtpRIP2vylNV0PVE/aTum7souWD/At0SJ8fVgPw3Iuahxymc/MSNhhJWvcD/bTfBN02d3P2zb5nxnaoA/CD5h5MAGhz8NmeH1TyaQP+zrCsc9p5Y/LbKd76fGnz/bLW5ISEmmPww9YvTcQq8/JV2OstnstT8Er5Y7M8G+P0c+r3jqkcU/5h99k6ZBzj88bCIzFzjVP4enV8oyxN0//yH99nXg5D8qOpLLf0jtP5kqGJXUifQ/c9cS8kHP/D+/DpwzojQEQIEmwoanVwxA4lgXt9HgE0BSSZ2AJuIbQAMJih9jjiNA5q4l5INuK0AwTKYKRj0zQNv5fmq8/DpAaCJseHrtQkB/+zpwzoxKQM3MzMzMeFJAZmZmZmZqWEAAAAAAAFxeQM3MzMzMJmJAmpmZmZkfZUBmZmZmZhhoQDMzMzMzEWtAAAAAAAAKbkBmZmZmZoFwQM3MzMzM/XFAMzMzMzN6c0CamZmZmfZ0QAAAAAAAc3ZAZmZmZmbvd0DNzMzMzGt5QDMzMzMz6HpAmpmZmZlkfEAAAAAAAOF9QGZmZmZmXX9AZmZmZuZsgECamZmZGSuBQM3MzMxM6YFAAAAAAICngkAzMzMzs2WDQGZmZmbmI4RAmpmZmRnihEDNzMzMTKCFQAAAAACAXoZAMzMzM7Mch0BmZmZm5tqHQJqZmZkZmYhAzczMzExXiUAAAAAAgBWKQDMzMzOz04pAZmZmZuaRi0CamZmZGVCMQM3MzMxMDo1AAAAAAIDMjUAzMzMzs4qOQGZmZmbmSI9A\",\"dtype\":\"float64\",\"shape\":[75]}},\"selected\":{\"id\":\"b09e48ea-c46c-4b6f-9ca3-6122f99f63a2\",\"type\":\"Selection\"},\"selection_policy\":{\"id\":\"3ce7aac7-4b1d-4e47-aec8-0270853ed2fe\",\"type\":\"UnionRenderers\"}},\"id\":\"6bd10ed6-6009-43a7-8425-dd8598f9b005\",\"type\":\"ColumnDataSource\"},{\"attributes\":{\"line_alpha\":0.6,\"line_color\":\"#984ea3\",\"line_width\":3,\"x\":{\"field\":\"x\"},\"y\":{\"field\":\"y\"}},\"id\":\"1dd8898d-1787-44fd-9529-2ddfa00941d3\",\"type\":\"Line\"},{\"attributes\":{\"data_source\":{\"id\":\"6bd10ed6-6009-43a7-8425-dd8598f9b005\",\"type\":\"ColumnDataSource\"},\"glyph\":{\"id\":\"1dd8898d-1787-44fd-9529-2ddfa00941d3\",\"type\":\"Line\"},\"hover_glyph\":null,\"muted_glyph\":null,\"nonselection_glyph\":{\"id\":\"73b7842e-3056-4d98-9376-c14f577fdc47\",\"type\":\"Line\"},\"selection_glyph\":null,\"view\":{\"id\":\"f664c008-8819-44ff-9278-433648f55978\",\"type\":\"CDSView\"}},\"id\":\"43cc4be7-fd0a-499a-af51-ba17c27a3974\",\"type\":\"GlyphRenderer\"},{\"attributes\":{\"source\":{\"id\":\"6bd10ed6-6009-43a7-8425-dd8598f9b005\",\"type\":\"ColumnDataSource\"}},\"id\":\"f664c008-8819-44ff-9278-433648f55978\",\"type\":\"CDSView\"},{\"attributes\":{\"children\":[{\"id\":\"36b5d734-fed6-41c8-96c2-a2f83f78823b\",\"subtype\":\"Figure\",\"type\":\"Plot\"},{\"id\":\"3573a28f-014b-45ba-92c6-ed8d39b8c61e\",\"subtype\":\"Figure\",\"type\":\"Plot\"}]},\"id\":\"6b52acd6-1331-4f6e-a51b-2a57eac8286d\",\"type\":\"Row\"},{\"attributes\":{},\"id\":\"0bf94b7c-2713-48c5-b8fa-600232bcffc9\",\"type\":\"Selection\"},{\"attributes\":{\"label\":{\"value\":\"CLIRAD `coolr_bands`\"},\"renderers\":[{\"id\":\"9434a31f-45b7-4968-8b03-52e1f379397b\",\"type\":\"GlyphRenderer\"}]},\"id\":\"a7762ea5-6ad7-4c7d-b63e-7417aae378f1\",\"type\":\"LegendItem\"},{\"attributes\":{},\"id\":\"d2eead3b-d3ba-4264-93c2-1257b2f31d85\",\"type\":\"BasicTickFormatter\"},{\"attributes\":{\"label\":{\"value\":\"CRD\"},\"renderers\":[{\"id\":\"be6def02-f775-4e89-8a19-0927699653ad\",\"type\":\"GlyphRenderer\"},{\"id\":\"19395a06-1041-4f2b-92dc-7c9fe4f8c04e\",\"type\":\"GlyphRenderer\"}]},\"id\":\"86d29daf-ac40-4ba2-ad02-fe380d762117\",\"type\":\"LegendItem\"},{\"attributes\":{},\"id\":\"83527e5c-5827-4a93-90bc-373cd2e4a3fe\",\"type\":\"Selection\"},{\"attributes\":{\"label\":{\"value\":\"WGT igg=10 wgt_flux=2\"},\"renderers\":[{\"id\":\"38aa62f8-1712-4ffd-9df9-5e710f92f2d1\",\"type\":\"GlyphRenderer\"},{\"id\":\"43cc4be7-fd0a-499a-af51-ba17c27a3974\",\"type\":\"GlyphRenderer\"}]},\"id\":\"1b420a16-fdd4-4e5b-a8b5-d2ff98f39fbe\",\"type\":\"LegendItem\"},{\"attributes\":{},\"id\":\"b2687b76-5ab3-4b79-9603-98d0d19cb0c5\",\"type\":\"UnionRenderers\"},{\"attributes\":{},\"id\":\"19303a26-d2c4-4c10-8a90-8d5a4ba78471\",\"type\":\"BasicTickFormatter\"},{\"attributes\":{\"line_alpha\":0.1,\"line_color\":\"#1f77b4\",\"line_width\":1.5,\"x\":{\"field\":\"x\"},\"y\":{\"field\":\"y\"}},\"id\":\"5a02cab5-0f45-4084-b9ca-15d53cc7d2a9\",\"type\":\"Line\"},{\"attributes\":{},\"id\":\"fc14a46c-ca95-4bbc-99d4-a7035e0897b2\",\"type\":\"UnionRenderers\"},{\"attributes\":{},\"id\":\"18eefe50-e8e9-4ae8-8d28-137f4d9bf347\",\"type\":\"Selection\"},{\"attributes\":{},\"id\":\"484a4719-271c-4ffc-a1c1-570663d5e86e\",\"type\":\"UnionRenderers\"},{\"attributes\":{\"callback\":null,\"end\":0.01,\"start\":1020},\"id\":\"866844b1-2b7a-4622-8814-107212d690d9\",\"type\":\"Range1d\"},{\"attributes\":{},\"id\":\"ba61a82c-1c8c-40af-b1b0-3d98510ca060\",\"type\":\"UnionRenderers\"},{\"attributes\":{},\"id\":\"f9de7645-4a23-48de-bddc-21ec9b99e24e\",\"type\":\"Selection\"},{\"attributes\":{},\"id\":\"84aa312f-70ab-4754-a62f-7c1ef8b1b2f6\",\"type\":\"Selection\"}],\"root_ids\":[\"4cfebe8b-68ba-4ff6-8bba-269887da2966\"]},\"title\":\"Bokeh Application\",\"version\":\"0.12.16\"}};\n",
       "  var render_items = [{\"docid\":\"5dcad372-dd9c-4852-af56-a40f6cea363a\",\"elementid\":\"574c90ef-a1ce-40ab-9f1d-e8e50c7befaf\",\"modelid\":\"4cfebe8b-68ba-4ff6-8bba-269887da2966\"}];\n",
       "  root.Bokeh.embed.embed_items_notebook(docs_json, render_items);\n",
       "\n",
       "  }\n",
       "  if (root.Bokeh !== undefined) {\n",
       "    embed_document(root);\n",
       "  } else {\n",
       "    var attempts = 0;\n",
       "    var timer = setInterval(function(root) {\n",
       "      if (root.Bokeh !== undefined) {\n",
       "        embed_document(root);\n",
       "        clearInterval(timer);\n",
       "      }\n",
       "      attempts++;\n",
       "      if (attempts > 100) {\n",
       "        console.log(\"Bokeh: ERROR: Unable to run BokehJS code because BokehJS library is missing\")\n",
       "        clearInterval(timer);\n",
       "      }\n",
       "    }, 10, root)\n",
       "  }\n",
       "})(window);"
      ],
      "application/vnd.bokehjs_exec.v0+json": ""
     },
     "metadata": {
      "application/vnd.bokehjs_exec.v0+json": {
       "id": "4cfebe8b-68ba-4ff6-8bba-269887da2966"
      }
     },
     "output_type": "display_data"
    },
    {
     "name": "stdout",
     "output_type": "stream",
     "text": [
      "FIGURE. Cooling rate profiles.\n"
     ]
    },
    {
     "data": {
      "text/html": [
       "<a id=\"Flux_Comparison\"></a>"
      ],
      "text/plain": [
       "<IPython.core.display.HTML object>"
      ]
     },
     "metadata": {},
     "output_type": "display_data"
    },
    {
     "data": {
      "text/markdown": [
       "# Flux Comparison"
      ],
      "text/plain": [
       "<IPython.core.display.Markdown object>"
      ]
     },
     "metadata": {},
     "output_type": "display_data"
    },
    {
     "data": {
      "text/html": [
       "<div>\n",
       "<style scoped>\n",
       "    .dataframe tbody tr th:only-of-type {\n",
       "        vertical-align: middle;\n",
       "    }\n",
       "\n",
       "    .dataframe tbody tr th {\n",
       "        vertical-align: top;\n",
       "    }\n",
       "\n",
       "    .dataframe thead th {\n",
       "        text-align: right;\n",
       "    }\n",
       "</style>\n",
       "<table border=\"1\" class=\"dataframe\">\n",
       "  <thead>\n",
       "    <tr style=\"text-align: right;\">\n",
       "      <th></th>\n",
       "      <th></th>\n",
       "      <th>flug</th>\n",
       "      <th>fldg</th>\n",
       "      <th>fnetg</th>\n",
       "    </tr>\n",
       "    <tr>\n",
       "      <th>pressure</th>\n",
       "      <th>level</th>\n",
       "      <th></th>\n",
       "      <th></th>\n",
       "      <th></th>\n",
       "    </tr>\n",
       "  </thead>\n",
       "  <tbody>\n",
       "    <tr>\n",
       "      <th>0.0000</th>\n",
       "      <th>1</th>\n",
       "      <td>-7.292049</td>\n",
       "      <td>0.000000</td>\n",
       "      <td>-7.292049</td>\n",
       "    </tr>\n",
       "    <tr>\n",
       "      <th>1.0685</th>\n",
       "      <th>24</th>\n",
       "      <td>-7.301339</td>\n",
       "      <td>0.026841</td>\n",
       "      <td>-7.274498</td>\n",
       "    </tr>\n",
       "    <tr>\n",
       "      <th>1013.0000</th>\n",
       "      <th>76</th>\n",
       "      <td>-30.729616</td>\n",
       "      <td>30.372401</td>\n",
       "      <td>-0.357216</td>\n",
       "    </tr>\n",
       "  </tbody>\n",
       "</table>\n",
       "</div>"
      ],
      "text/plain": [
       "                      flug       fldg     fnetg\n",
       "pressure  level                                \n",
       "0.0000    1      -7.292049   0.000000 -7.292049\n",
       "1.0685    24     -7.301339   0.026841 -7.274498\n",
       "1013.0000 76    -30.729616  30.372401 -0.357216"
      ]
     },
     "metadata": {},
     "output_type": "display_data"
    },
    {
     "name": "stdout",
     "output_type": "stream",
     "text": [
      "Table. Fluxes. CRD\n"
     ]
    },
    {
     "data": {
      "text/html": [
       "<div>\n",
       "<style scoped>\n",
       "    .dataframe tbody tr th:only-of-type {\n",
       "        vertical-align: middle;\n",
       "    }\n",
       "\n",
       "    .dataframe tbody tr th {\n",
       "        vertical-align: top;\n",
       "    }\n",
       "\n",
       "    .dataframe thead th {\n",
       "        text-align: right;\n",
       "    }\n",
       "</style>\n",
       "<table border=\"1\" class=\"dataframe\">\n",
       "  <thead>\n",
       "    <tr style=\"text-align: right;\">\n",
       "      <th></th>\n",
       "      <th></th>\n",
       "      <th>flug</th>\n",
       "      <th>fldg</th>\n",
       "      <th>fnetg</th>\n",
       "    </tr>\n",
       "    <tr>\n",
       "      <th>pressure</th>\n",
       "      <th>level</th>\n",
       "      <th></th>\n",
       "      <th></th>\n",
       "      <th></th>\n",
       "    </tr>\n",
       "  </thead>\n",
       "  <tbody>\n",
       "    <tr>\n",
       "      <th>0.0000</th>\n",
       "      <th>1</th>\n",
       "      <td>-7.246267</td>\n",
       "      <td>0.000000</td>\n",
       "      <td>-7.246267</td>\n",
       "    </tr>\n",
       "    <tr>\n",
       "      <th>1.0685</th>\n",
       "      <th>24</th>\n",
       "      <td>-7.255041</td>\n",
       "      <td>0.026288</td>\n",
       "      <td>-7.228753</td>\n",
       "    </tr>\n",
       "    <tr>\n",
       "      <th>1013.0000</th>\n",
       "      <th>76</th>\n",
       "      <td>-30.729617</td>\n",
       "      <td>30.383724</td>\n",
       "      <td>-0.345892</td>\n",
       "    </tr>\n",
       "  </tbody>\n",
       "</table>\n",
       "</div>"
      ],
      "text/plain": [
       "                      flug       fldg     fnetg\n",
       "pressure  level                                \n",
       "0.0000    1      -7.246267   0.000000 -7.246267\n",
       "1.0685    24     -7.255041   0.026288 -7.228753\n",
       "1013.0000 76    -30.729617  30.383724 -0.345892"
      ]
     },
     "metadata": {},
     "output_type": "display_data"
    },
    {
     "name": "stdout",
     "output_type": "stream",
     "text": [
      "Table. Fluxes. WGT igg=10 wgt_flux=1\n"
     ]
    },
    {
     "data": {
      "text/html": [
       "<div>\n",
       "<style scoped>\n",
       "    .dataframe tbody tr th:only-of-type {\n",
       "        vertical-align: middle;\n",
       "    }\n",
       "\n",
       "    .dataframe tbody tr th {\n",
       "        vertical-align: top;\n",
       "    }\n",
       "\n",
       "    .dataframe thead th {\n",
       "        text-align: right;\n",
       "    }\n",
       "</style>\n",
       "<table border=\"1\" class=\"dataframe\">\n",
       "  <thead>\n",
       "    <tr style=\"text-align: right;\">\n",
       "      <th></th>\n",
       "      <th></th>\n",
       "      <th>flug</th>\n",
       "      <th>fldg</th>\n",
       "      <th>fnetg</th>\n",
       "    </tr>\n",
       "    <tr>\n",
       "      <th>pressure</th>\n",
       "      <th>level</th>\n",
       "      <th></th>\n",
       "      <th></th>\n",
       "      <th></th>\n",
       "    </tr>\n",
       "  </thead>\n",
       "  <tbody>\n",
       "    <tr>\n",
       "      <th>1.000000e-08</th>\n",
       "      <th>1</th>\n",
       "      <td>-7.160886</td>\n",
       "      <td>1.842825e-09</td>\n",
       "      <td>-7.160886</td>\n",
       "    </tr>\n",
       "    <tr>\n",
       "      <th>1.068500e+00</th>\n",
       "      <th>24</th>\n",
       "      <td>-7.169442</td>\n",
       "      <td>2.585436e-02</td>\n",
       "      <td>-7.143588</td>\n",
       "    </tr>\n",
       "    <tr>\n",
       "      <th>1.013000e+03</th>\n",
       "      <th>76</th>\n",
       "      <td>-30.729620</td>\n",
       "      <td>3.038693e+01</td>\n",
       "      <td>-0.342692</td>\n",
       "    </tr>\n",
       "  </tbody>\n",
       "</table>\n",
       "</div>"
      ],
      "text/plain": [
       "                         flug          fldg     fnetg\n",
       "pressure     level                                   \n",
       "1.000000e-08 1      -7.160886  1.842825e-09 -7.160886\n",
       "1.068500e+00 24     -7.169442  2.585436e-02 -7.143588\n",
       "1.013000e+03 76    -30.729620  3.038693e+01 -0.342692"
      ]
     },
     "metadata": {},
     "output_type": "display_data"
    },
    {
     "name": "stdout",
     "output_type": "stream",
     "text": [
      "Table. Fluxes. CLIRAD\n"
     ]
    },
    {
     "data": {
      "text/html": [
       "<div>\n",
       "<style scoped>\n",
       "    .dataframe tbody tr th:only-of-type {\n",
       "        vertical-align: middle;\n",
       "    }\n",
       "\n",
       "    .dataframe tbody tr th {\n",
       "        vertical-align: top;\n",
       "    }\n",
       "\n",
       "    .dataframe thead th {\n",
       "        text-align: right;\n",
       "    }\n",
       "</style>\n",
       "<table border=\"1\" class=\"dataframe\">\n",
       "  <thead>\n",
       "    <tr style=\"text-align: right;\">\n",
       "      <th></th>\n",
       "      <th></th>\n",
       "      <th>flug</th>\n",
       "      <th>fldg</th>\n",
       "      <th>fnetg</th>\n",
       "    </tr>\n",
       "    <tr>\n",
       "      <th>pressure</th>\n",
       "      <th>level</th>\n",
       "      <th></th>\n",
       "      <th></th>\n",
       "      <th></th>\n",
       "    </tr>\n",
       "  </thead>\n",
       "  <tbody>\n",
       "    <tr>\n",
       "      <th>0.0000</th>\n",
       "      <th>1</th>\n",
       "      <td>4.578202e-02</td>\n",
       "      <td>0.000000</td>\n",
       "      <td>0.045782</td>\n",
       "    </tr>\n",
       "    <tr>\n",
       "      <th>1.0685</th>\n",
       "      <th>24</th>\n",
       "      <td>4.629803e-02</td>\n",
       "      <td>-0.000553</td>\n",
       "      <td>0.045746</td>\n",
       "    </tr>\n",
       "    <tr>\n",
       "      <th>1013.0000</th>\n",
       "      <th>76</th>\n",
       "      <td>-5.090000e-07</td>\n",
       "      <td>0.011323</td>\n",
       "      <td>0.011324</td>\n",
       "    </tr>\n",
       "  </tbody>\n",
       "</table>\n",
       "</div>"
      ],
      "text/plain": [
       "                         flug      fldg     fnetg\n",
       "pressure  level                                  \n",
       "0.0000    1      4.578202e-02  0.000000  0.045782\n",
       "1.0685    24     4.629803e-02 -0.000553  0.045746\n",
       "1013.0000 76    -5.090000e-07  0.011323  0.011324"
      ]
     },
     "metadata": {},
     "output_type": "display_data"
    },
    {
     "name": "stdout",
     "output_type": "stream",
     "text": [
      "Table. Fluxes. (WGT igg=10 wgt_flux=1) - (CRD)\n"
     ]
    },
    {
     "data": {
      "text/html": [
       "<div>\n",
       "<style scoped>\n",
       "    .dataframe tbody tr th:only-of-type {\n",
       "        vertical-align: middle;\n",
       "    }\n",
       "\n",
       "    .dataframe tbody tr th {\n",
       "        vertical-align: top;\n",
       "    }\n",
       "\n",
       "    .dataframe thead th {\n",
       "        text-align: right;\n",
       "    }\n",
       "</style>\n",
       "<table border=\"1\" class=\"dataframe\">\n",
       "  <thead>\n",
       "    <tr style=\"text-align: right;\">\n",
       "      <th></th>\n",
       "      <th></th>\n",
       "      <th>flug</th>\n",
       "      <th>fldg</th>\n",
       "      <th>fnetg</th>\n",
       "    </tr>\n",
       "    <tr>\n",
       "      <th>pressure</th>\n",
       "      <th>level</th>\n",
       "      <th></th>\n",
       "      <th></th>\n",
       "      <th></th>\n",
       "    </tr>\n",
       "  </thead>\n",
       "  <tbody>\n",
       "    <tr>\n",
       "      <th>0.0000</th>\n",
       "      <th>1</th>\n",
       "      <td>0.131163</td>\n",
       "      <td>1.842825e-09</td>\n",
       "      <td>0.131163</td>\n",
       "    </tr>\n",
       "    <tr>\n",
       "      <th>1.0685</th>\n",
       "      <th>24</th>\n",
       "      <td>0.131896</td>\n",
       "      <td>-9.863030e-04</td>\n",
       "      <td>0.130910</td>\n",
       "    </tr>\n",
       "    <tr>\n",
       "      <th>1013.0000</th>\n",
       "      <th>76</th>\n",
       "      <td>-0.000004</td>\n",
       "      <td>1.452700e-02</td>\n",
       "      <td>0.014523</td>\n",
       "    </tr>\n",
       "  </tbody>\n",
       "</table>\n",
       "</div>"
      ],
      "text/plain": [
       "                     flug          fldg     fnetg\n",
       "pressure  level                                  \n",
       "0.0000    1      0.131163  1.842825e-09  0.131163\n",
       "1.0685    24     0.131896 -9.863030e-04  0.130910\n",
       "1013.0000 76    -0.000004  1.452700e-02  0.014523"
      ]
     },
     "metadata": {},
     "output_type": "display_data"
    },
    {
     "name": "stdout",
     "output_type": "stream",
     "text": [
      "Table. Fluxes. (CLIRAD) - (CRD)\n"
     ]
    },
    {
     "data": {
      "text/html": [
       "<a id=\"Best-fit_Parameters\"></a>"
      ],
      "text/plain": [
       "<IPython.core.display.HTML object>"
      ]
     },
     "metadata": {},
     "output_type": "display_data"
    },
    {
     "data": {
      "text/markdown": [
       "# Best-fit Parameters"
      ],
      "text/plain": [
       "<IPython.core.display.Markdown object>"
      ]
     },
     "metadata": {},
     "output_type": "display_data"
    },
    {
     "name": "stdout",
     "output_type": "stream",
     "text": [
      "Best-fit values for each (gas, band)\n",
      "------------------------------------\n",
      "o h2o band8\n",
      "  atmpro = mls\n",
      "  band = 8\n",
      "  commitnumber = a06b618\n",
      "  conc = None\n",
      "  dv = 0.001\n",
      "  klin = 0\n",
      "  molecule = h2o\n",
      "  ng_adju = [0, -1, 0]\n",
      "  ng_refs = [3, 2, 3]\n",
      "  nv = 1000\n",
      "  option_compute_btable = 0\n",
      "  option_compute_ktable = 1\n",
      "  option_wgt_flux = 1\n",
      "  option_wgt_k = 1\n",
      "  ref_pts = [(1, 250), (10, 250), (500, 250)]\n",
      "  tsfc = 294\n",
      "  vmax = 1900\n",
      "  vmin = 1380\n",
      "  w_diffuse = [(1.66, 1.66, 1.66), (1.66, 1.66), (1.66, 1.66, 1.66)]\n",
      "  wgt = [(0.55, 0.55, 0.85), (0.85, 0.85), (0, 0.3, 0.55)]\n"
     ]
    }
   ],
   "source": [
    "script()"
   ]
  },
  {
   "cell_type": "code",
   "execution_count": 13,
   "metadata": {
    "collapsed": true
   },
   "outputs": [
    {
     "data": {
      "text/html": [
       "<script>\n",
       "code_show=true; \n",
       "function code_toggle() {\n",
       " if (code_show){\n",
       " $('div.input').hide();\n",
       " } else {\n",
       " $('div.input').show();\n",
       " }\n",
       " code_show = !code_show\n",
       "} \n",
       "$( document ).ready(code_toggle);\n",
       "</script>\n",
       "<form action=\"javascript:code_toggle()\"><input type=\"submit\" value=\"Click here to toggle on/off the raw code.\"></form>"
      ],
      "text/plain": [
       "<IPython.core.display.HTML object>"
      ]
     },
     "execution_count": 13,
     "metadata": {},
     "output_type": "execute_result"
    }
   ],
   "source": [
    "display.HTML('''<script>\n",
    "code_show=true; \n",
    "function code_toggle() {\n",
    " if (code_show){\n",
    " $('div.input').hide();\n",
    " } else {\n",
    " $('div.input').show();\n",
    " }\n",
    " code_show = !code_show\n",
    "} \n",
    "$( document ).ready(code_toggle);\n",
    "</script>\n",
    "<form action=\"javascript:code_toggle()\"><input type=\"submit\" value=\"Click here to toggle on/off the raw code.\"></form>''')"
   ]
  }
 ],
 "metadata": {
  "kernelspec": {
   "display_name": "Python 3",
   "language": "python",
   "name": "python3"
  },
  "language_info": {
   "codemirror_mode": {
    "name": "ipython",
    "version": 3
   },
   "file_extension": ".py",
   "mimetype": "text/x-python",
   "name": "python",
   "nbconvert_exporter": "python",
   "pygments_lexer": "ipython3",
   "version": "3.6.1"
  }
 },
 "nbformat": 4,
 "nbformat_minor": 2
}
