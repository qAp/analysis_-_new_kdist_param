{
 "cells": [
  {
   "cell_type": "code",
   "execution_count": 1,
   "metadata": {
    "collapsed": true
   },
   "outputs": [],
   "source": [
    "%matplotlib inline\n",
    "import os\n",
    "import re\n",
    "import io\n",
    "import itertools\n",
    "import pprint\n",
    "\n",
    "from bokeh.io import output_notebook, show\n",
    "from bokeh.layouts import gridplot\n",
    "from bokeh.plotting import figure\n",
    "from bokeh.models import Range1d, Legend\n",
    "from bokeh.palettes import all_palettes\n",
    "\n",
    "import matplotlib\n",
    "import matplotlib.pyplot as plt\n",
    "import numpy as np\n",
    "import pandas as pd\n",
    "import xarray as xr\n",
    "\n",
    "import climatools.lblnew.bestfit_params as bestfits\n",
    "from climatools.lblnew import setup_bestfit, setup_overlap\n",
    "import climatools.lblnew.pipeline as pipe_lblnew\n",
    "import climatools.cliradlw.setup as setup_cliradlw\n",
    "import climatools.cliradlw.pipeline as pipe_cliradlw\n",
    "\n",
    "import climatools.html.html as climahtml\n",
    "from climatools.lblnew.dataio import *\n",
    "from climatools.plot.plot import *\n",
    "\n",
    "\n",
    "import IPython.display as display"
   ]
  },
  {
   "cell_type": "code",
   "execution_count": 2,
   "metadata": {
    "collapsed": true
   },
   "outputs": [],
   "source": [
    "%run param.py"
   ]
  },
  {
   "cell_type": "code",
   "execution_count": 3,
   "metadata": {
    "collapsed": true
   },
   "outputs": [],
   "source": [
    "def load_output_file(path_csv):\n",
    "    '''\n",
    "    Load lblnew output .csv file to xarray.Dataset\n",
    "    \n",
    "    Parameters\n",
    "    ----------\n",
    "    path_csv: str\n",
    "              Path to the .csv file to be loaded.\n",
    "    ds: xarray.Dataset\n",
    "        Data in the input file in the form of an xarray.Dataset.\n",
    "    '''\n",
    "    toindex = ['band', 'pressure', 'igg', 'g']    \n",
    "    df = pd.read_csv(path_csv, sep=r'\\s+')\n",
    "    df = df.set_index([i for i in toindex if i in df.columns])\n",
    "    df = df.rename(columns={'sfu': 'flug',\n",
    "                            'sfd': 'fldg',\n",
    "                            'fnet': 'fnetg',\n",
    "                            'coolr': 'coolrg'})\n",
    "    ds = xr.Dataset.from_dataframe(df)\n",
    "\n",
    "    for l in ('level', 'layer'):\n",
    "        if l in ds.data_vars:\n",
    "            if len(ds[l].dims) > 1:\n",
    "                surface = {d: 0 for d in ds.dims if d != 'pressure'}\n",
    "                coord_level = ds[l][surface]\n",
    "                ds.coords[l] = ('pressure', coord_level)\n",
    "            else:\n",
    "                ds.coords[l] = ('pressure', ds[l])\n",
    "    \n",
    "    return ds"
   ]
  },
  {
   "cell_type": "code",
   "execution_count": 4,
   "metadata": {
    "collapsed": true
   },
   "outputs": [],
   "source": [
    "def lblnew_setup(param=None):\n",
    "    if 'ng_refs' in param:\n",
    "        return {'setup': setup_bestfit,\n",
    "                'fname_flux_crd': 'output_flux.dat',\n",
    "                'fname_cool_crd': 'output_coolr.dat',\n",
    "                'fname_flux_wgt': 'output_wfluxg.dat',\n",
    "                'fname_cool_wgt': 'output_wcoolrg.dat'}\n",
    "    else:\n",
    "        return {'setup': setup_overlap,\n",
    "                'fname_flux_crd': 'output_flux.dat',\n",
    "                'fname_cool_crd': 'output_coolr.dat',\n",
    "                'fname_flux_wgt': 'output_wflux.dat',\n",
    "                'fname_cool_wgt': 'output_wcoolr.dat'}\n",
    "\n",
    "    \n",
    "def load_lblnew_data(param):\n",
    "    \n",
    "    fname_dsname = [('fname_flux_crd', 'ds_flux_crd'),\n",
    "                    ('fname_cool_crd', 'ds_cool_crd'),\n",
    "                    ('fname_flux_wgt', 'ds_flux_wgt'),\n",
    "                    ('fname_cool_wgt', 'ds_cool_wgt')]\n",
    "    \n",
    "    d = lblnew_setup(param)\n",
    "    dir_fortran = pipe_lblnew.get_dir_case(param, setup=d['setup'])\n",
    "    \n",
    "    data_dict = {}\n",
    "    for fname, dsname in fname_dsname:\n",
    "        fpath = os.path.join(dir_fortran, d[fname])\n",
    "        data_dict[dsname] = load_output_file(fpath)\n",
    "    return data_dict\n",
    "    \n",
    "\n",
    "    \n",
    "    "
   ]
  },
  {
   "cell_type": "code",
   "execution_count": 5,
   "metadata": {
    "collapsed": true
   },
   "outputs": [],
   "source": [
    "d = load_lblnew_data(PARAM_LBLNEW)\n",
    "\n",
    "DS_FLUX_CRD = d['ds_flux_crd']\n",
    "DS_COOL_CRD = d['ds_cool_crd']\n",
    "DS_FLUX_WGT = d['ds_flux_wgt']\n",
    "DS_COOL_WGT = d['ds_cool_wgt']"
   ]
  },
  {
   "cell_type": "code",
   "execution_count": 6,
   "metadata": {
    "collapsed": true
   },
   "outputs": [],
   "source": [
    "DIR_FORTRAN = pipe_cliradlw.get_fortran_dir(PARAM, \n",
    "                                            setup=setup_cliradlw)\n",
    "\n",
    "PATH_FLUX = os.path.join(DIR_FORTRAN, 'output_flux.dat')\n",
    "PATH_COOL = os.path.join(DIR_FORTRAN, 'output_coolr.dat')\n",
    "\n",
    "DS_FLUX = load_output_file(PATH_FLUX)\n",
    "DS_COOL = load_output_file(PATH_COOL)"
   ]
  },
  {
   "cell_type": "code",
   "execution_count": 7,
   "metadata": {
    "collapsed": true
   },
   "outputs": [
    {
     "data": {
      "text/html": [
       "\n",
       "    <div class=\"bk-root\">\n",
       "        <a href=\"https://bokeh.pydata.org\" target=\"_blank\" class=\"bk-logo bk-logo-small bk-logo-notebook\"></a>\n",
       "        <span id=\"b9ea6d24-a107-4fdf-9254-72bea7679d62\">Loading BokehJS ...</span>\n",
       "    </div>"
      ]
     },
     "metadata": {},
     "output_type": "display_data"
    },
    {
     "data": {
      "application/javascript": [
       "\n",
       "(function(root) {\n",
       "  function now() {\n",
       "    return new Date();\n",
       "  }\n",
       "\n",
       "  var force = true;\n",
       "\n",
       "  if (typeof (root._bokeh_onload_callbacks) === \"undefined\" || force === true) {\n",
       "    root._bokeh_onload_callbacks = [];\n",
       "    root._bokeh_is_loading = undefined;\n",
       "  }\n",
       "\n",
       "  var JS_MIME_TYPE = 'application/javascript';\n",
       "  var HTML_MIME_TYPE = 'text/html';\n",
       "  var EXEC_MIME_TYPE = 'application/vnd.bokehjs_exec.v0+json';\n",
       "  var CLASS_NAME = 'output_bokeh rendered_html';\n",
       "\n",
       "  /**\n",
       "   * Render data to the DOM node\n",
       "   */\n",
       "  function render(props, node) {\n",
       "    var script = document.createElement(\"script\");\n",
       "    node.appendChild(script);\n",
       "  }\n",
       "\n",
       "  /**\n",
       "   * Handle when an output is cleared or removed\n",
       "   */\n",
       "  function handleClearOutput(event, handle) {\n",
       "    var cell = handle.cell;\n",
       "\n",
       "    var id = cell.output_area._bokeh_element_id;\n",
       "    var server_id = cell.output_area._bokeh_server_id;\n",
       "    // Clean up Bokeh references\n",
       "    if (id !== undefined) {\n",
       "      Bokeh.index[id].model.document.clear();\n",
       "      delete Bokeh.index[id];\n",
       "    }\n",
       "\n",
       "    if (server_id !== undefined) {\n",
       "      // Clean up Bokeh references\n",
       "      var cmd = \"from bokeh.io.state import curstate; print(curstate().uuid_to_server['\" + server_id + \"'].get_sessions()[0].document.roots[0]._id)\";\n",
       "      cell.notebook.kernel.execute(cmd, {\n",
       "        iopub: {\n",
       "          output: function(msg) {\n",
       "            var element_id = msg.content.text.trim();\n",
       "            Bokeh.index[element_id].model.document.clear();\n",
       "            delete Bokeh.index[element_id];\n",
       "          }\n",
       "        }\n",
       "      });\n",
       "      // Destroy server and session\n",
       "      var cmd = \"import bokeh.io.notebook as ion; ion.destroy_server('\" + server_id + \"')\";\n",
       "      cell.notebook.kernel.execute(cmd);\n",
       "    }\n",
       "  }\n",
       "\n",
       "  /**\n",
       "   * Handle when a new output is added\n",
       "   */\n",
       "  function handleAddOutput(event, handle) {\n",
       "    var output_area = handle.output_area;\n",
       "    var output = handle.output;\n",
       "\n",
       "    // limit handleAddOutput to display_data with EXEC_MIME_TYPE content only\n",
       "    if ((output.output_type != \"display_data\") || (!output.data.hasOwnProperty(EXEC_MIME_TYPE))) {\n",
       "      return\n",
       "    }\n",
       "\n",
       "    var toinsert = output_area.element.find(\".\" + CLASS_NAME.split(' ')[0]);\n",
       "\n",
       "    if (output.metadata[EXEC_MIME_TYPE][\"id\"] !== undefined) {\n",
       "      toinsert[toinsert.length - 1].firstChild.textContent = output.data[JS_MIME_TYPE];\n",
       "      // store reference to embed id on output_area\n",
       "      output_area._bokeh_element_id = output.metadata[EXEC_MIME_TYPE][\"id\"];\n",
       "    }\n",
       "    if (output.metadata[EXEC_MIME_TYPE][\"server_id\"] !== undefined) {\n",
       "      var bk_div = document.createElement(\"div\");\n",
       "      bk_div.innerHTML = output.data[HTML_MIME_TYPE];\n",
       "      var script_attrs = bk_div.children[0].attributes;\n",
       "      for (var i = 0; i < script_attrs.length; i++) {\n",
       "        toinsert[toinsert.length - 1].firstChild.setAttribute(script_attrs[i].name, script_attrs[i].value);\n",
       "      }\n",
       "      // store reference to server id on output_area\n",
       "      output_area._bokeh_server_id = output.metadata[EXEC_MIME_TYPE][\"server_id\"];\n",
       "    }\n",
       "  }\n",
       "\n",
       "  function register_renderer(events, OutputArea) {\n",
       "\n",
       "    function append_mime(data, metadata, element) {\n",
       "      // create a DOM node to render to\n",
       "      var toinsert = this.create_output_subarea(\n",
       "        metadata,\n",
       "        CLASS_NAME,\n",
       "        EXEC_MIME_TYPE\n",
       "      );\n",
       "      this.keyboard_manager.register_events(toinsert);\n",
       "      // Render to node\n",
       "      var props = {data: data, metadata: metadata[EXEC_MIME_TYPE]};\n",
       "      render(props, toinsert[toinsert.length - 1]);\n",
       "      element.append(toinsert);\n",
       "      return toinsert\n",
       "    }\n",
       "\n",
       "    /* Handle when an output is cleared or removed */\n",
       "    events.on('clear_output.CodeCell', handleClearOutput);\n",
       "    events.on('delete.Cell', handleClearOutput);\n",
       "\n",
       "    /* Handle when a new output is added */\n",
       "    events.on('output_added.OutputArea', handleAddOutput);\n",
       "\n",
       "    /**\n",
       "     * Register the mime type and append_mime function with output_area\n",
       "     */\n",
       "    OutputArea.prototype.register_mime_type(EXEC_MIME_TYPE, append_mime, {\n",
       "      /* Is output safe? */\n",
       "      safe: true,\n",
       "      /* Index of renderer in `output_area.display_order` */\n",
       "      index: 0\n",
       "    });\n",
       "  }\n",
       "\n",
       "  // register the mime type if in Jupyter Notebook environment and previously unregistered\n",
       "  if (root.Jupyter !== undefined) {\n",
       "    var events = require('base/js/events');\n",
       "    var OutputArea = require('notebook/js/outputarea').OutputArea;\n",
       "\n",
       "    if (OutputArea.prototype.mime_types().indexOf(EXEC_MIME_TYPE) == -1) {\n",
       "      register_renderer(events, OutputArea);\n",
       "    }\n",
       "  }\n",
       "\n",
       "  \n",
       "  if (typeof (root._bokeh_timeout) === \"undefined\" || force === true) {\n",
       "    root._bokeh_timeout = Date.now() + 5000;\n",
       "    root._bokeh_failed_load = false;\n",
       "  }\n",
       "\n",
       "  var NB_LOAD_WARNING = {'data': {'text/html':\n",
       "     \"<div style='background-color: #fdd'>\\n\"+\n",
       "     \"<p>\\n\"+\n",
       "     \"BokehJS does not appear to have successfully loaded. If loading BokehJS from CDN, this \\n\"+\n",
       "     \"may be due to a slow or bad network connection. Possible fixes:\\n\"+\n",
       "     \"</p>\\n\"+\n",
       "     \"<ul>\\n\"+\n",
       "     \"<li>re-rerun `output_notebook()` to attempt to load from CDN again, or</li>\\n\"+\n",
       "     \"<li>use INLINE resources instead, as so:</li>\\n\"+\n",
       "     \"</ul>\\n\"+\n",
       "     \"<code>\\n\"+\n",
       "     \"from bokeh.resources import INLINE\\n\"+\n",
       "     \"output_notebook(resources=INLINE)\\n\"+\n",
       "     \"</code>\\n\"+\n",
       "     \"</div>\"}};\n",
       "\n",
       "  function display_loaded() {\n",
       "    var el = document.getElementById(\"b9ea6d24-a107-4fdf-9254-72bea7679d62\");\n",
       "    if (el != null) {\n",
       "      el.textContent = \"BokehJS is loading...\";\n",
       "    }\n",
       "    if (root.Bokeh !== undefined) {\n",
       "      if (el != null) {\n",
       "        el.textContent = \"BokehJS \" + root.Bokeh.version + \" successfully loaded.\";\n",
       "      }\n",
       "    } else if (Date.now() < root._bokeh_timeout) {\n",
       "      setTimeout(display_loaded, 100)\n",
       "    }\n",
       "  }\n",
       "\n",
       "\n",
       "  function run_callbacks() {\n",
       "    try {\n",
       "      root._bokeh_onload_callbacks.forEach(function(callback) { callback() });\n",
       "    }\n",
       "    finally {\n",
       "      delete root._bokeh_onload_callbacks\n",
       "    }\n",
       "    console.info(\"Bokeh: all callbacks have finished\");\n",
       "  }\n",
       "\n",
       "  function load_libs(js_urls, callback) {\n",
       "    root._bokeh_onload_callbacks.push(callback);\n",
       "    if (root._bokeh_is_loading > 0) {\n",
       "      console.log(\"Bokeh: BokehJS is being loaded, scheduling callback at\", now());\n",
       "      return null;\n",
       "    }\n",
       "    if (js_urls == null || js_urls.length === 0) {\n",
       "      run_callbacks();\n",
       "      return null;\n",
       "    }\n",
       "    console.log(\"Bokeh: BokehJS not loaded, scheduling load and callback at\", now());\n",
       "    root._bokeh_is_loading = js_urls.length;\n",
       "    for (var i = 0; i < js_urls.length; i++) {\n",
       "      var url = js_urls[i];\n",
       "      var s = document.createElement('script');\n",
       "      s.src = url;\n",
       "      s.async = false;\n",
       "      s.onreadystatechange = s.onload = function() {\n",
       "        root._bokeh_is_loading--;\n",
       "        if (root._bokeh_is_loading === 0) {\n",
       "          console.log(\"Bokeh: all BokehJS libraries loaded\");\n",
       "          run_callbacks()\n",
       "        }\n",
       "      };\n",
       "      s.onerror = function() {\n",
       "        console.warn(\"failed to load library \" + url);\n",
       "      };\n",
       "      console.log(\"Bokeh: injecting script tag for BokehJS library: \", url);\n",
       "      document.getElementsByTagName(\"head\")[0].appendChild(s);\n",
       "    }\n",
       "  };var element = document.getElementById(\"b9ea6d24-a107-4fdf-9254-72bea7679d62\");\n",
       "  if (element == null) {\n",
       "    console.log(\"Bokeh: ERROR: autoload.js configured with elementid 'b9ea6d24-a107-4fdf-9254-72bea7679d62' but no matching script tag was found. \")\n",
       "    return false;\n",
       "  }\n",
       "\n",
       "  var js_urls = [\"https://cdn.pydata.org/bokeh/release/bokeh-0.12.16.min.js\", \"https://cdn.pydata.org/bokeh/release/bokeh-widgets-0.12.16.min.js\", \"https://cdn.pydata.org/bokeh/release/bokeh-tables-0.12.16.min.js\", \"https://cdn.pydata.org/bokeh/release/bokeh-gl-0.12.16.min.js\"];\n",
       "\n",
       "  var inline_js = [\n",
       "    function(Bokeh) {\n",
       "      Bokeh.set_log_level(\"info\");\n",
       "    },\n",
       "    \n",
       "    function(Bokeh) {\n",
       "      \n",
       "    },\n",
       "    function(Bokeh) {\n",
       "      console.log(\"Bokeh: injecting CSS: https://cdn.pydata.org/bokeh/release/bokeh-0.12.16.min.css\");\n",
       "      Bokeh.embed.inject_css(\"https://cdn.pydata.org/bokeh/release/bokeh-0.12.16.min.css\");\n",
       "      console.log(\"Bokeh: injecting CSS: https://cdn.pydata.org/bokeh/release/bokeh-widgets-0.12.16.min.css\");\n",
       "      Bokeh.embed.inject_css(\"https://cdn.pydata.org/bokeh/release/bokeh-widgets-0.12.16.min.css\");\n",
       "      console.log(\"Bokeh: injecting CSS: https://cdn.pydata.org/bokeh/release/bokeh-tables-0.12.16.min.css\");\n",
       "      Bokeh.embed.inject_css(\"https://cdn.pydata.org/bokeh/release/bokeh-tables-0.12.16.min.css\");\n",
       "    }\n",
       "  ];\n",
       "\n",
       "  function run_inline_js() {\n",
       "    \n",
       "    if ((root.Bokeh !== undefined) || (force === true)) {\n",
       "      for (var i = 0; i < inline_js.length; i++) {\n",
       "        inline_js[i].call(root, root.Bokeh);\n",
       "      }if (force === true) {\n",
       "        display_loaded();\n",
       "      }} else if (Date.now() < root._bokeh_timeout) {\n",
       "      setTimeout(run_inline_js, 100);\n",
       "    } else if (!root._bokeh_failed_load) {\n",
       "      console.log(\"Bokeh: BokehJS failed to load within specified timeout.\");\n",
       "      root._bokeh_failed_load = true;\n",
       "    } else if (force !== true) {\n",
       "      var cell = $(document.getElementById(\"b9ea6d24-a107-4fdf-9254-72bea7679d62\")).parents('.cell').data().cell;\n",
       "      cell.output_area.append_execute_result(NB_LOAD_WARNING)\n",
       "    }\n",
       "\n",
       "  }\n",
       "\n",
       "  if (root._bokeh_is_loading === 0) {\n",
       "    console.log(\"Bokeh: BokehJS loaded, going straight to plotting\");\n",
       "    run_inline_js();\n",
       "  } else {\n",
       "    load_libs(js_urls, function() {\n",
       "      console.log(\"Bokeh: BokehJS plotting callback run at\", now());\n",
       "      run_inline_js();\n",
       "    });\n",
       "  }\n",
       "}(window));"
      ],
      "application/vnd.bokehjs_load.v0+json": "\n(function(root) {\n  function now() {\n    return new Date();\n  }\n\n  var force = true;\n\n  if (typeof (root._bokeh_onload_callbacks) === \"undefined\" || force === true) {\n    root._bokeh_onload_callbacks = [];\n    root._bokeh_is_loading = undefined;\n  }\n\n  \n\n  \n  if (typeof (root._bokeh_timeout) === \"undefined\" || force === true) {\n    root._bokeh_timeout = Date.now() + 5000;\n    root._bokeh_failed_load = false;\n  }\n\n  var NB_LOAD_WARNING = {'data': {'text/html':\n     \"<div style='background-color: #fdd'>\\n\"+\n     \"<p>\\n\"+\n     \"BokehJS does not appear to have successfully loaded. If loading BokehJS from CDN, this \\n\"+\n     \"may be due to a slow or bad network connection. Possible fixes:\\n\"+\n     \"</p>\\n\"+\n     \"<ul>\\n\"+\n     \"<li>re-rerun `output_notebook()` to attempt to load from CDN again, or</li>\\n\"+\n     \"<li>use INLINE resources instead, as so:</li>\\n\"+\n     \"</ul>\\n\"+\n     \"<code>\\n\"+\n     \"from bokeh.resources import INLINE\\n\"+\n     \"output_notebook(resources=INLINE)\\n\"+\n     \"</code>\\n\"+\n     \"</div>\"}};\n\n  function display_loaded() {\n    var el = document.getElementById(\"b9ea6d24-a107-4fdf-9254-72bea7679d62\");\n    if (el != null) {\n      el.textContent = \"BokehJS is loading...\";\n    }\n    if (root.Bokeh !== undefined) {\n      if (el != null) {\n        el.textContent = \"BokehJS \" + root.Bokeh.version + \" successfully loaded.\";\n      }\n    } else if (Date.now() < root._bokeh_timeout) {\n      setTimeout(display_loaded, 100)\n    }\n  }\n\n\n  function run_callbacks() {\n    try {\n      root._bokeh_onload_callbacks.forEach(function(callback) { callback() });\n    }\n    finally {\n      delete root._bokeh_onload_callbacks\n    }\n    console.info(\"Bokeh: all callbacks have finished\");\n  }\n\n  function load_libs(js_urls, callback) {\n    root._bokeh_onload_callbacks.push(callback);\n    if (root._bokeh_is_loading > 0) {\n      console.log(\"Bokeh: BokehJS is being loaded, scheduling callback at\", now());\n      return null;\n    }\n    if (js_urls == null || js_urls.length === 0) {\n      run_callbacks();\n      return null;\n    }\n    console.log(\"Bokeh: BokehJS not loaded, scheduling load and callback at\", now());\n    root._bokeh_is_loading = js_urls.length;\n    for (var i = 0; i < js_urls.length; i++) {\n      var url = js_urls[i];\n      var s = document.createElement('script');\n      s.src = url;\n      s.async = false;\n      s.onreadystatechange = s.onload = function() {\n        root._bokeh_is_loading--;\n        if (root._bokeh_is_loading === 0) {\n          console.log(\"Bokeh: all BokehJS libraries loaded\");\n          run_callbacks()\n        }\n      };\n      s.onerror = function() {\n        console.warn(\"failed to load library \" + url);\n      };\n      console.log(\"Bokeh: injecting script tag for BokehJS library: \", url);\n      document.getElementsByTagName(\"head\")[0].appendChild(s);\n    }\n  };var element = document.getElementById(\"b9ea6d24-a107-4fdf-9254-72bea7679d62\");\n  if (element == null) {\n    console.log(\"Bokeh: ERROR: autoload.js configured with elementid 'b9ea6d24-a107-4fdf-9254-72bea7679d62' but no matching script tag was found. \")\n    return false;\n  }\n\n  var js_urls = [\"https://cdn.pydata.org/bokeh/release/bokeh-0.12.16.min.js\", \"https://cdn.pydata.org/bokeh/release/bokeh-widgets-0.12.16.min.js\", \"https://cdn.pydata.org/bokeh/release/bokeh-tables-0.12.16.min.js\", \"https://cdn.pydata.org/bokeh/release/bokeh-gl-0.12.16.min.js\"];\n\n  var inline_js = [\n    function(Bokeh) {\n      Bokeh.set_log_level(\"info\");\n    },\n    \n    function(Bokeh) {\n      \n    },\n    function(Bokeh) {\n      console.log(\"Bokeh: injecting CSS: https://cdn.pydata.org/bokeh/release/bokeh-0.12.16.min.css\");\n      Bokeh.embed.inject_css(\"https://cdn.pydata.org/bokeh/release/bokeh-0.12.16.min.css\");\n      console.log(\"Bokeh: injecting CSS: https://cdn.pydata.org/bokeh/release/bokeh-widgets-0.12.16.min.css\");\n      Bokeh.embed.inject_css(\"https://cdn.pydata.org/bokeh/release/bokeh-widgets-0.12.16.min.css\");\n      console.log(\"Bokeh: injecting CSS: https://cdn.pydata.org/bokeh/release/bokeh-tables-0.12.16.min.css\");\n      Bokeh.embed.inject_css(\"https://cdn.pydata.org/bokeh/release/bokeh-tables-0.12.16.min.css\");\n    }\n  ];\n\n  function run_inline_js() {\n    \n    if ((root.Bokeh !== undefined) || (force === true)) {\n      for (var i = 0; i < inline_js.length; i++) {\n        inline_js[i].call(root, root.Bokeh);\n      }if (force === true) {\n        display_loaded();\n      }} else if (Date.now() < root._bokeh_timeout) {\n      setTimeout(run_inline_js, 100);\n    } else if (!root._bokeh_failed_load) {\n      console.log(\"Bokeh: BokehJS failed to load within specified timeout.\");\n      root._bokeh_failed_load = true;\n    } else if (force !== true) {\n      var cell = $(document.getElementById(\"b9ea6d24-a107-4fdf-9254-72bea7679d62\")).parents('.cell').data().cell;\n      cell.output_area.append_execute_result(NB_LOAD_WARNING)\n    }\n\n  }\n\n  if (root._bokeh_is_loading === 0) {\n    console.log(\"Bokeh: BokehJS loaded, going straight to plotting\");\n    run_inline_js();\n  } else {\n    load_libs(js_urls, function() {\n      console.log(\"Bokeh: BokehJS plotting callback run at\", now());\n      run_inline_js();\n    });\n  }\n}(window));"
     },
     "metadata": {},
     "output_type": "display_data"
    }
   ],
   "source": [
    "output_notebook()"
   ]
  },
  {
   "cell_type": "code",
   "execution_count": 8,
   "metadata": {
    "collapsed": true
   },
   "outputs": [],
   "source": [
    "def fmt_cool(ds_in):\n",
    "    ds = ds_in.copy(deep=True)\n",
    "    if 'igg' in ds.dims:\n",
    "        ds = ds.sel(igg=1)\n",
    "\n",
    "    if 'g' in ds.dims:\n",
    "        ds = ds.sum('g')\n",
    "            \n",
    "    if 'band' in ds.dims:\n",
    "        try:\n",
    "            ds = ds.squeeze('band')\n",
    "        except ValueError:\n",
    "            ds = ds.sum('band')\n",
    "                \n",
    "    return ds['coolrg']\n",
    "\n",
    "\n",
    "def pltdata_cooling_1(ds_cool=None,\n",
    "                      ds_cool_crd=None, ds_cool_wgt=None):\n",
    "    \n",
    "\n",
    "\n",
    "    colors = all_palettes['Set1'][4]\n",
    "    data = [{'label': 'CLIRAD `coolr_bands`',\n",
    "             'srs': fmt_cool(ds_cool),\n",
    "             'line_dash': 'dashed', 'line_width': 5,\n",
    "             'color': colors[0], 'alpha': .6},\n",
    "            {'label': 'CRD',\n",
    "             'srs': fmt_cool(ds_cool_crd),\n",
    "             'line_dash': 'solid', 'line_width': 1.5,\n",
    "             'marker': 'circle', 'marker_size': 5,\n",
    "             'color': colors[2], 'alpha': 1,},\n",
    "            {'label': 'WGT igg=10 wgt_flux=2',\n",
    "             'srs': fmt_cool(ds_cool_wgt),\n",
    "             'line_dash': 'solid', 'line_width': 3,\n",
    "             'marker': 'square', 'marker_size': 5,\n",
    "             'color': colors[3], 'alpha': .6}]\n",
    "    return data\n",
    "\n",
    "\n",
    "def nice_xlims(pltdata=None, prange=None):\n",
    "    \n",
    "    def get_slice(srs):\n",
    "        return srs.sel(pressure=slice(*prange))\n",
    "    \n",
    "    srss = [d['srs'] for d in pltdata]\n",
    "    vmin = min([get_slice(srs).min() for srs in srss])\n",
    "    vmax = max([get_slice(srs).max() for srs in srss])\n",
    "    dv = (vmax - vmin) * .01\n",
    "    return float(vmin - dv), float(vmax + dv)\n",
    "    \n",
    "\n",
    "def plt_cooling_bokeh(pltdata=None):\n",
    "    '''\n",
    "    Plot a list of cooling rate profiles using bokeh.\n",
    "    '''\n",
    "    ymin = 1e-2 \n",
    "    ymax = 1020 \n",
    "        \n",
    "    p1 = figure(title=\"Linear pressure scale\", \n",
    "                plot_width=400)        \n",
    "    xmin, xmax = nice_xlims(pltdata, prange=(50, 1050))\n",
    "    for d in pltdata:\n",
    "        if 'marker' in d:\n",
    "            getattr(p1, d['marker'])(d['srs'].values, \n",
    "                    d['srs'].coords['pressure'].values,\n",
    "                    color=d['color'], alpha=.7)\n",
    "        p1.line(d['srs'].values, \n",
    "                d['srs'].coords['pressure'].values,\n",
    "                color=d['color'], alpha=d['alpha'], \n",
    "                line_width=d['line_width'], line_dash=d['line_dash'])\n",
    "    \n",
    "    p1.y_range = Range1d(ymax, ymin)\n",
    "    p1.yaxis.axis_label = 'pressure [mb]'   \n",
    "    p1.x_range = Range1d(xmin, xmax)\n",
    "    p1.xaxis.axis_label = 'cooling rate [K/day]'\n",
    "            \n",
    "    p2 = figure(title='Log pressure scale', y_axis_type='log',\n",
    "                plot_width=560)\n",
    "    xmin, xmax = nice_xlims(pltdata, prange=(.01, 200))\n",
    "    \n",
    "    rs = []\n",
    "    for d in pltdata:\n",
    "        rd = []\n",
    "        if 'marker' in d:\n",
    "            r_mark = getattr(p2, d['marker'])(d['srs'].values, \n",
    "                        d['srs'].coords['pressure'].values,\n",
    "                        color=d['color'], alpha=.7)\n",
    "            rd.append(r_mark)\n",
    "        r_line = p2.line(d['srs'].values, \n",
    "                    d['srs'].coords['pressure'].values,\n",
    "                    color=d['color'], alpha=d['alpha'], \n",
    "                    line_width=d['line_width'], line_dash=d['line_dash'])\n",
    "        rd.append(r_line)\n",
    "      \n",
    "        rs.append(rd)\n",
    "        \n",
    "    p2.y_range = Range1d(ymax, ymin)  \n",
    "    p2.yaxis.axis_label = 'pressure [mb]'\n",
    "    \n",
    "    p2.x_range = Range1d(xmin, xmax)\n",
    "    p2.xaxis.axis_label = 'cooling rate [K/day]'\n",
    "    \n",
    "    items = [(d['label'], r) for r, d in zip(rs, pltdata)]\n",
    "    legend = Legend(items=items, location=(10, -30))\n",
    "    legend.label_text_font_size = '8pt'\n",
    "    \n",
    "    p2.add_layout(legend, 'right')  \n",
    "    \n",
    "    show(gridplot(p1, p2, ncols=2, plot_height=500))\n",
    "    \n",
    "\n",
    "def script_plt_cooling():\n",
    "    pltdata = pltdata_cooling_1(\n",
    "        ds_cool=DS_COOL,\n",
    "        ds_cool_crd=DS_COOL_CRD,\n",
    "        ds_cool_wgt=DS_COOL_WGT)\n",
    "    plt_cooling_bokeh(pltdata=pltdata)\n",
    "    print('''FIGURE. Cooling rate profiles.''')"
   ]
  },
  {
   "cell_type": "code",
   "execution_count": 9,
   "metadata": {
    "collapsed": true
   },
   "outputs": [],
   "source": [
    "def fmt_flux(ds_in):\n",
    "    ds = ds_in.copy(deep=True)\n",
    "    \n",
    "    for l in ('level', 'layer'):\n",
    "        if l in ds.data_vars:\n",
    "            if len(ds[l].dims) > 1:\n",
    "                surface = {d: 0 for d in ds.dims if d != 'pressure'}\n",
    "                coord_level = ds[l][surface]\n",
    "                ds.coords[l] = ('pressure', coord_level)\n",
    "            else:\n",
    "                ds.coords[l] = ('pressure', ds[l])\n",
    "        \n",
    "    ds = ds.isel(pressure=[0, 23, -1])\n",
    "        \n",
    "    if 'igg' in ds.dims:\n",
    "        ds = ds.sel(igg=[1])\n",
    "        ds = ds.squeeze('igg').drop('igg')\n",
    "    \n",
    "    if 'g' in ds.dims:\n",
    "        ds = ds.sum('g')\n",
    "            \n",
    "    if 'band' in ds.dims:\n",
    "        try:\n",
    "            ds = ds.squeeze('band').drop('band')\n",
    "        except ValueError:\n",
    "            ds = ds.sum('band')\n",
    "                \n",
    "    df = ds.to_dataframe()\n",
    "    df = df.set_index('level', append=True)               \n",
    "    return df\n",
    "\n",
    "\n",
    "def tbdata_flux(ds_flux=None, ds_flux_crd=None, ds_flux_wgt=None):\n",
    "    ilevels = [0, 23, -1]\n",
    "            \n",
    "    benchmark = {'label': 'CRD',\n",
    "                 'df': fmt_flux(ds_flux_crd)}\n",
    "    \n",
    "    tbs = [{'label': 'WGT igg=10 wgt_flux=1',\n",
    "            'df': fmt_flux(ds_flux_wgt)},\n",
    "           {'label': 'CLIRAD',\n",
    "            'df': fmt_flux(ds_flux)}]\n",
    "    \n",
    "    data = {'benchmark': benchmark, 'others': tbs}\n",
    "    return data\n",
    "\n",
    "\n",
    "def tb_flux(tbdata=None):\n",
    "    benchmark = tbdata['benchmark']\n",
    "    others = tbdata['others']\n",
    "    \n",
    "    def show_tb(d=None):\n",
    "        display.display(d['df'])\n",
    "        print('Table.', 'Fluxes.', d['label'])\n",
    "        \n",
    "    def show_tbdiff(d0=None, d=None):\n",
    "        df = d['df']\n",
    "        df.index = d0['df'].index\n",
    "        display.display(df - d0['df'])\n",
    "        print('Table.', 'Fluxes.', \n",
    "              '({}) - ({})'.format(d['label'], d0['label']))\n",
    "        \n",
    "    show_tb(benchmark)\n",
    "    for d in others:\n",
    "        show_tb(d)\n",
    "        \n",
    "    for d in others:\n",
    "        show_tbdiff(d=d, d0=benchmark)\n",
    "        \n",
    "        \n",
    "def script_tb_flux():\n",
    "    data = tbdata_flux(ds_flux=DS_FLUX,\n",
    "                       ds_flux_crd=DS_FLUX_CRD,\n",
    "                       ds_flux_wgt=DS_FLUX_WGT)\n",
    "    tb_flux(tbdata=data)"
   ]
  },
  {
   "cell_type": "code",
   "execution_count": 10,
   "metadata": {
    "collapsed": true
   },
   "outputs": [],
   "source": [
    "def band_map():\n",
    "    '''\n",
    "    Maps spectral bands in lblnew to spectral bands in clirad.\n",
    "    '''\n",
    "    lblnew2clirad = {'1': '1',\n",
    "            '2': '2',\n",
    "            '3a': '3',\n",
    "            '3b': '4',\n",
    "            '3c': '5',\n",
    "            '4': '6', \n",
    "            '5': '7',\n",
    "            '6': '8',\n",
    "            '7': '9', \n",
    "            '8': '10',\n",
    "            '9': '11'}\n",
    "    \n",
    "    clirad2lblnew = {clirad: lblnew \n",
    "                     for lblnew, clirad in lblnew2clirad.items()}\n",
    "    return clirad2lblnew\n",
    "\n",
    "\n",
    "def gasbands():\n",
    "    bmap = band_map()\n",
    "    gases = list(PARAM['molecule'].keys())\n",
    "    \n",
    "    bands = [bmap[str(b)] for b in PARAM['band']]\n",
    "    return list(itertools.product(gases, bands))\n",
    "\n",
    "\n",
    "def print_bestfit_params():\n",
    "    print('Best-fit values for each (gas, band)')\n",
    "    print('------------------------------------')\n",
    "    for gas, band in gasbands():\n",
    "        print('o {} band{}'.format(gas, band))\n",
    "        param = bestfits.kdist_params(molecule=gas, band=band)\n",
    "        for name, value in sorted(param.items()):\n",
    "            print(2 * ' ' + '{} = {}'.format(name, value))\n",
    "\n",
    "        \n",
    "def print_input_param():        \n",
    "    for name, value in PARAM.items():\n",
    "        print('{} = {}'.format(name, value))\n",
    "        \n",
    "        \n",
    "def print_lblnew_param():\n",
    "    for name, value in sorted(PARAM_LBLNEW.items()):\n",
    "        print('{} = {}'.format(name, value))\n"
   ]
  },
  {
   "cell_type": "code",
   "execution_count": 11,
   "metadata": {
    "collapsed": true,
    "scrolled": false
   },
   "outputs": [],
   "source": [
    "def show_html(s):\n",
    "    display.display(display.HTML(s))\n",
    "\n",
    "    \n",
    "def show_markdown(s):\n",
    "    display.display(display.Markdown(s))\n",
    "\n",
    "    \n",
    "def script():\n",
    "    \n",
    "    title = '### CLIRAD-LW'\n",
    "    s_input = 'Input Parameters'\n",
    "    s_lblnew_param = 'LBLNEW case compaired against'\n",
    "    s_bestfits = 'Best-fit Parameters'\n",
    "    s_plt_cooling = 'Cooling Rate Profiles'\n",
    "    s_tb_flux = 'Flux Comparison'\n",
    "    \n",
    "    # title\n",
    "    show_markdown('### CLIRAD-LW')\n",
    "    \n",
    "    # TOC\n",
    "    show_markdown('### Table of Contents')\n",
    "    show_html(climahtml.getHTML_hrefanchor(s_input))\n",
    "    show_html(climahtml.getHTML_hrefanchor(s_lblnew_param))\n",
    "    show_html(climahtml.getHTML_hrefanchor(s_plt_cooling))\n",
    "    show_html(climahtml.getHTML_hrefanchor(s_tb_flux))\n",
    "    show_html(climahtml.getHTML_hrefanchor(s_bestfits))\n",
    "    \n",
    "    # Input parameters\n",
    "    show_html(climahtml.getHTML_idanchor(s_input))\n",
    "    show_markdown(climahtml.getMarkdown_sectitle(s_input))\n",
    "    print_input_param()\n",
    "    \n",
    "    # LBLNEW parameters \n",
    "    show_html(climahtml.getHTML_idanchor(s_lblnew_param))\n",
    "    show_markdown(climahtml.getMarkdown_sectitle(s_lblnew_param))\n",
    "    print_lblnew_param()\n",
    "    \n",
    "    # Cooling rate profiles\n",
    "    show_html(climahtml.getHTML_idanchor(s_plt_cooling))\n",
    "    show_markdown(climahtml.getMarkdown_sectitle(s_plt_cooling))\n",
    "    script_plt_cooling()\n",
    "    \n",
    "    # Flux comparison\n",
    "    show_html(climahtml.getHTML_idanchor(s_tb_flux))\n",
    "    show_markdown(climahtml.getMarkdown_sectitle(s_tb_flux))\n",
    "    script_tb_flux()\n",
    "    \n",
    "    # Best-fit values\n",
    "    show_html(climahtml.getHTML_idanchor(s_bestfits))\n",
    "    show_markdown(climahtml.getMarkdown_sectitle(s_bestfits))\n",
    "    print_bestfit_params()\n",
    "   \n",
    "    "
   ]
  },
  {
   "cell_type": "code",
   "execution_count": 12,
   "metadata": {
    "collapsed": true,
    "scrolled": false
   },
   "outputs": [
    {
     "data": {
      "text/markdown": [
       "### CLIRAD-LW"
      ],
      "text/plain": [
       "<IPython.core.display.Markdown object>"
      ]
     },
     "metadata": {},
     "output_type": "display_data"
    },
    {
     "data": {
      "text/markdown": [
       "### Table of Contents"
      ],
      "text/plain": [
       "<IPython.core.display.Markdown object>"
      ]
     },
     "metadata": {},
     "output_type": "display_data"
    },
    {
     "data": {
      "text/html": [
       "<a href=\"#Input_Parameters\">Input Parameters</a>"
      ],
      "text/plain": [
       "<IPython.core.display.HTML object>"
      ]
     },
     "metadata": {},
     "output_type": "display_data"
    },
    {
     "data": {
      "text/html": [
       "<a href=\"#LBLNEW_case_compaired_against\">LBLNEW case compaired against</a>"
      ],
      "text/plain": [
       "<IPython.core.display.HTML object>"
      ]
     },
     "metadata": {},
     "output_type": "display_data"
    },
    {
     "data": {
      "text/html": [
       "<a href=\"#Cooling_Rate_Profiles\">Cooling Rate Profiles</a>"
      ],
      "text/plain": [
       "<IPython.core.display.HTML object>"
      ]
     },
     "metadata": {},
     "output_type": "display_data"
    },
    {
     "data": {
      "text/html": [
       "<a href=\"#Flux_Comparison\">Flux Comparison</a>"
      ],
      "text/plain": [
       "<IPython.core.display.HTML object>"
      ]
     },
     "metadata": {},
     "output_type": "display_data"
    },
    {
     "data": {
      "text/html": [
       "<a href=\"#Best-fit_Parameters\">Best-fit Parameters</a>"
      ],
      "text/plain": [
       "<IPython.core.display.HTML object>"
      ]
     },
     "metadata": {},
     "output_type": "display_data"
    },
    {
     "data": {
      "text/html": [
       "<a id=\"Input_Parameters\"></a>"
      ],
      "text/plain": [
       "<IPython.core.display.HTML object>"
      ]
     },
     "metadata": {},
     "output_type": "display_data"
    },
    {
     "data": {
      "text/markdown": [
       "# Input Parameters"
      ],
      "text/plain": [
       "<IPython.core.display.Markdown object>"
      ]
     },
     "metadata": {},
     "output_type": "display_data"
    },
    {
     "name": "stdout",
     "output_type": "stream",
     "text": [
      "atmpro = mls\n",
      "band = [10]\n",
      "commitnumber = de5d43e\n",
      "molecule = {'h2o': 'atmpro'}\n",
      "tsfc = 294\n"
     ]
    },
    {
     "data": {
      "text/html": [
       "<a id=\"LBLNEW_case_compaired_against\"></a>"
      ],
      "text/plain": [
       "<IPython.core.display.HTML object>"
      ]
     },
     "metadata": {},
     "output_type": "display_data"
    },
    {
     "data": {
      "text/markdown": [
       "# LBLNEW case compaired against"
      ],
      "text/plain": [
       "<IPython.core.display.Markdown object>"
      ]
     },
     "metadata": {},
     "output_type": "display_data"
    },
    {
     "name": "stdout",
     "output_type": "stream",
     "text": [
      "atmpro = mls\n",
      "band = 8\n",
      "commitnumber = 5014a19\n",
      "conc = None\n",
      "dv = 0.001\n",
      "klin = 0\n",
      "molecule = h2o\n",
      "ng_adju = [0, -1, 0]\n",
      "ng_refs = [3, 2, 3]\n",
      "nv = 1000\n",
      "option_compute_btable = 0\n",
      "option_compute_ktable = 0\n",
      "option_wgt_flux = 1\n",
      "option_wgt_k = 1\n",
      "ref_pts = [(1, 250), (10, 250), (500, 250)]\n",
      "tsfc = 294\n",
      "vmax = 1900\n",
      "vmin = 1380\n",
      "w_diffuse = [(1.66, 1.66, 1.66), (1.66, 1.66), (1.66, 1.66, 1.66)]\n",
      "wgt = [(0.55, 0.55, 0.85), (0.85, 0.85), (0, 0.3, 0.55)]\n"
     ]
    },
    {
     "data": {
      "text/html": [
       "<a id=\"Cooling_Rate_Profiles\"></a>"
      ],
      "text/plain": [
       "<IPython.core.display.HTML object>"
      ]
     },
     "metadata": {},
     "output_type": "display_data"
    },
    {
     "data": {
      "text/markdown": [
       "# Cooling Rate Profiles"
      ],
      "text/plain": [
       "<IPython.core.display.Markdown object>"
      ]
     },
     "metadata": {},
     "output_type": "display_data"
    },
    {
     "data": {
      "text/html": [
       "\n",
       "<div class=\"bk-root\">\n",
       "    <div class=\"bk-plotdiv\" id=\"b0c8f50f-1c10-48a3-9c8c-ffe8f50267d1\"></div>\n",
       "</div>"
      ]
     },
     "metadata": {},
     "output_type": "display_data"
    },
    {
     "data": {
      "application/javascript": [
       "(function(root) {\n",
       "  function embed_document(root) {\n",
       "    \n",
       "  var docs_json = {\"1ada8de8-63b4-468f-bcfb-db024ca5fb58\":{\"roots\":{\"references\":[{\"attributes\":{},\"id\":\"b90e7df8-46c0-4b28-8d0e-b36d9366556c\",\"type\":\"Selection\"},{\"attributes\":{},\"id\":\"9377dddd-4b5c-4185-bbec-cc923d40508e\",\"type\":\"UnionRenderers\"},{\"attributes\":{},\"id\":\"fdfed140-f82a-4efd-b403-9ea048a1e402\",\"type\":\"UnionRenderers\"},{\"attributes\":{},\"id\":\"1981ceac-f7a6-4710-88a4-908fe4ba3017\",\"type\":\"Selection\"},{\"attributes\":{},\"id\":\"d1fccf2c-cf37-4a1d-a31b-ef373a81c653\",\"type\":\"UnionRenderers\"},{\"attributes\":{},\"id\":\"2fc4af14-73d6-461d-ad8e-b10f0d3eb6b8\",\"type\":\"UnionRenderers\"},{\"attributes\":{},\"id\":\"4fc66396-926a-48d6-a4c7-a0daad8fde24\",\"type\":\"UnionRenderers\"},{\"attributes\":{\"toolbar\":{\"id\":\"b729aa90-656b-4ee3-8614-197c7b551126\",\"type\":\"ProxyToolbar\"},\"toolbar_location\":\"above\"},\"id\":\"019ef0ff-7dad-4e6e-9910-56135dfabace\",\"type\":\"ToolbarBox\"},{\"attributes\":{\"line_color\":\"#4daf4a\",\"line_width\":1.5,\"x\":{\"field\":\"x\"},\"y\":{\"field\":\"y\"}},\"id\":\"f9e78d7b-c967-4c62-9f93-233bf281d870\",\"type\":\"Line\"},{\"attributes\":{},\"id\":\"0d105295-b5a5-4179-98df-a04968d84ce0\",\"type\":\"Selection\"},{\"attributes\":{},\"id\":\"85368707-43a9-4164-b885-4f030f58edfb\",\"type\":\"Selection\"},{\"attributes\":{\"children\":[{\"id\":\"019ef0ff-7dad-4e6e-9910-56135dfabace\",\"type\":\"ToolbarBox\"},{\"id\":\"1d9749ef-1659-48fc-9995-4ad5c7172ef2\",\"type\":\"Column\"}]},\"id\":\"5f660cae-fb7d-40c4-bff2-f518856dab64\",\"type\":\"Column\"},{\"attributes\":{},\"id\":\"2a35440a-ef18-4ea3-8b1d-ab1b6f549a93\",\"type\":\"Selection\"},{\"attributes\":{\"line_alpha\":0.6,\"line_color\":\"#e41a1c\",\"line_dash\":[6],\"line_width\":5,\"x\":{\"field\":\"x\"},\"y\":{\"field\":\"y\"}},\"id\":\"e5e84d4a-aae6-4572-af01-7f4f436d204f\",\"type\":\"Line\"},{\"attributes\":{\"tools\":[{\"id\":\"47494a91-1a2d-453b-8b90-33dd90403550\",\"type\":\"PanTool\"},{\"id\":\"05db5268-12b6-4efc-b06c-9b0d24e1c765\",\"type\":\"WheelZoomTool\"},{\"id\":\"da2eb307-9543-40b5-af23-a31dfd95d82c\",\"type\":\"BoxZoomTool\"},{\"id\":\"7c79ee1d-60d2-4a11-b0ca-62216dc40824\",\"type\":\"SaveTool\"},{\"id\":\"206900a5-06fd-4c42-8ffd-32d228920164\",\"type\":\"ResetTool\"},{\"id\":\"fb859449-d458-4a69-82f9-af6e2223fcc0\",\"type\":\"HelpTool\"},{\"id\":\"02c1c1f1-9852-474c-bd73-b9f202c36daf\",\"type\":\"PanTool\"},{\"id\":\"20bc1375-eb39-4025-9174-b8be37243ef3\",\"type\":\"WheelZoomTool\"},{\"id\":\"b5ad2591-79a0-4de9-9092-064801008332\",\"type\":\"BoxZoomTool\"},{\"id\":\"b5b7d835-dffc-46a7-b5f3-5dcfd2278f56\",\"type\":\"SaveTool\"},{\"id\":\"e7959fc7-a3e3-4f42-9122-f5b46710f159\",\"type\":\"ResetTool\"},{\"id\":\"102a8f7a-403f-48a7-bb88-82343e320fac\",\"type\":\"HelpTool\"}]},\"id\":\"b729aa90-656b-4ee3-8614-197c7b551126\",\"type\":\"ProxyToolbar\"},{\"attributes\":{\"callback\":null,\"data\":{\"x\":{\"__ndarray__\":\"qromKG4qwb9XAPhMmxbBv7baolA/vcC/0laASvBhwL9/54t7+wzAv05uiK9+hb+/ObELL1YOv7/l04Rp776+v43xH9rgp76/FX6AIAbbvr+K6FOeq3O/vy2SPPgFS8C/zeD3iPs8wb9ZMZ450rbCv0dr0o6XxcO/2miMGG4nwr/8fnvozIe7v/tRkHx+yLC/f5KOtExtkL8dzBTd9BOmP01DO0Qv5b0/4ZKpo18yzD9jUo2omurUPxg/roncvtI/od+URaOzxT/xJDjhnf23PwWUB5uaAa0/FIizL5Skoz8DtabmY1ieP88WVy+bDZk/49quos/fkz/QqooB9veMP5X6vCbHRIY//K5nS78Egz8zKZ+MU2d8P13eq30SxG4/q8gkvxeBXj+vWK0XvbZSPzvRckZ+U0y/vzAO728Qab8I9hXWPT9Qvy70Vpcy9Iw/xci4ADkDpD8QJTnkjzexPyHGMbNLq7c/3gQ1NTZfuT8X+OUnMPi6P+0cmBbUO70/sCOrroVRvz+xJC8h1WbAP1Rz2s85qsA/4gogY4swwD+CxeHMr+a+P+/myhyiPL0/29iynWtvuz9B38yeuqi5P/l4g5B1Nrg/ISbKpqhvtz9JFEjzQXu1Px5qx0wj37I/Un2yJVUisD/5eVZJmRGrPzhIuCsciqY/tQI2LLX6oj8S5ST36MugP0rJ5x/BsKA/IMNq+W/Ioj8zNjKXbQqlP51pZIWSMaQ/7XfuXmpbnz87Lk+M0d+UPzRSCEc9Aos/x7qYpEIVgz+U5GcJzGiBP4U8J2K2Cb8/\",\"dtype\":\"float64\",\"shape\":[75]},\"y\":{\"__ndarray__\":\"GhExyth1ND/Sv8nbtpRIP2vylNV0PVE/aTum7souWD/At0SJ8fVgPw3Iuahxymc/MSNhhJWvcD/bTfBN02d3P2zb5nxnaoA/CD5h5MAGhz8NmeH1TyaQP+zrCsc9p5Y/LbKd76fGnz/bLW5ISEmmPww9YvTcQq8/JV2OstnstT8Er5Y7M8G+P0c+r3jqkcU/5h99k6ZBzj88bCIzFzjVP4enV8oyxN0//yH99nXg5D8qOpLLf0jtP5kqGJXUifQ/c9cS8kHP/D+/DpwzojQEQIEmwoanVwxA4lgXt9HgE0BSSZ2AJuIbQAMJih9jjiNA5q4l5INuK0AwTKYKRj0zQNv5fmq8/DpAaCJseHrtQkB/+zpwzoxKQM3MzMzMeFJAZmZmZmZqWEAAAAAAAFxeQM3MzMzMJmJAmpmZmZkfZUBmZmZmZhhoQDMzMzMzEWtAAAAAAAAKbkBmZmZmZoFwQM3MzMzM/XFAMzMzMzN6c0CamZmZmfZ0QAAAAAAAc3ZAZmZmZmbvd0DNzMzMzGt5QDMzMzMz6HpAmpmZmZlkfEAAAAAAAOF9QGZmZmZmXX9AZmZmZuZsgECamZmZGSuBQM3MzMxM6YFAAAAAAICngkAzMzMzs2WDQGZmZmbmI4RAmpmZmRnihEDNzMzMTKCFQAAAAACAXoZAMzMzM7Mch0BmZmZm5tqHQJqZmZkZmYhAzczMzExXiUAAAAAAgBWKQDMzMzOz04pAZmZmZuaRi0CamZmZGVCMQM3MzMxMDo1AAAAAAIDMjUAzMzMzs4qOQGZmZmbmSI9A\",\"dtype\":\"float64\",\"shape\":[75]}},\"selected\":{\"id\":\"1981ceac-f7a6-4710-88a4-908fe4ba3017\",\"type\":\"Selection\"},\"selection_policy\":{\"id\":\"9377dddd-4b5c-4185-bbec-cc923d40508e\",\"type\":\"UnionRenderers\"}},\"id\":\"c4b7728d-f393-4f03-a6b0-f9fa6bb0d93f\",\"type\":\"ColumnDataSource\"},{\"attributes\":{\"data_source\":{\"id\":\"d3a8777d-573f-42ff-9179-b8aa1f278ff4\",\"type\":\"ColumnDataSource\"},\"glyph\":{\"id\":\"fa0626d4-9dae-444a-b142-4b8418122758\",\"type\":\"Line\"},\"hover_glyph\":null,\"muted_glyph\":null,\"nonselection_glyph\":{\"id\":\"287ea8e0-806d-4235-b393-e5686fe1b431\",\"type\":\"Line\"},\"selection_glyph\":null,\"view\":{\"id\":\"f0af2638-3626-4bbd-9bb0-88ceb2fd0e14\",\"type\":\"CDSView\"}},\"id\":\"bac1afba-4d73-4abd-9f00-a73660702f85\",\"type\":\"GlyphRenderer\"},{\"attributes\":{\"data_source\":{\"id\":\"c4b7728d-f393-4f03-a6b0-f9fa6bb0d93f\",\"type\":\"ColumnDataSource\"},\"glyph\":{\"id\":\"63b6c472-8af0-40ff-b996-e5b5cf66e223\",\"type\":\"Circle\"},\"hover_glyph\":null,\"muted_glyph\":null,\"nonselection_glyph\":{\"id\":\"025ccfed-ce29-450d-b3e0-a97916edd20e\",\"type\":\"Circle\"},\"selection_glyph\":null,\"view\":{\"id\":\"7137fd59-faed-49c0-bc08-9a8318a111ff\",\"type\":\"CDSView\"}},\"id\":\"bd134ea2-6da2-4aac-97b4-ffdb5551be4b\",\"type\":\"GlyphRenderer\"},{\"attributes\":{\"fill_alpha\":{\"value\":0.1},\"fill_color\":{\"value\":\"#1f77b4\"},\"line_alpha\":{\"value\":0.1},\"line_color\":{\"value\":\"#1f77b4\"},\"x\":{\"field\":\"x\"},\"y\":{\"field\":\"y\"}},\"id\":\"025ccfed-ce29-450d-b3e0-a97916edd20e\",\"type\":\"Circle\"},{\"attributes\":{\"callback\":null,\"data\":{\"x\":{\"__ndarray__\":\"YdrJEVqIw7/w2LpvA2vDv1V6ZYp6HMO//g7ud5rWwr/BXAqOD4PCv27XMehvPsK/p3fVk/P/wb9TX/wF/svBv4QwGgiZqsG/iKu8Y3Khwb+vGyCybLvBvyMQlCfJCcK/ZnWb9HOcwr9ui9xcBJPDvxwjzAaTE8S/C50d/FBHwr9ZpGCdl9G7v9lJxdHp1LC/WjR1sMnUjb++d7mKRq6nP6hhI35x6L4//7JraSpwzD+HzhuSYLPUP9WH7dkLgNI/gXSNyr6UxT9LmnZSw7u4P1fKo9sWf68/YqpOk5OTpT+tSGS2QligPzhXV5WvKZs/+ZuclwB/lj+rDi+5bymRP3WW9b3T4Io/VJwjCCMAhz+QJCpx8MGAPy4lSq/ecW8/VKorLNC6Vj+puNK0iWhLP9vc2Zv/m1C/Nhz68+Bkab+ZD/l532Mwv1qSYDR6VZM/VYsnpSiDqD858olaHvevP0crjouBkbE/gEetUMvRtD8n9PnQUPW4PzoLCun0QLw/hKc9WEdUvj+0WbVlvKS/PwKBD7fNScA/zc3nHSRmwD/OjXce91/AP90PBbIEGcA/nriaqlnDvj+yILbOYai8P5YxxMqEYbo/E8zz+3WXuD9mU2HN0Ju1P40hfu19OrI/CErwJMhwrj/ID8MnIp6pP9rjzV3i5qU/bSlAYmbuoj+3Cr6EYiKhPzBJO8/5A6E/lKs5TpXboj/KFEAvusykP4ZbeROApaM/48VdiXfTnT/KJ7whhiGTP5A4vlXSU4c/ttTHC7wYfz+N6B6n2Hh8PysN2cWMu74/\",\"dtype\":\"float64\",\"shape\":[75]},\"y\":{\"__ndarray__\":\"GhExyth1ND/Sv8nbtpRIP2vylNV0PVE/aTum7souWD/At0SJ8fVgPw3Iuahxymc/MSNhhJWvcD/bTfBN02d3P2zb5nxnaoA/CD5h5MAGhz8NmeH1TyaQP+zrCsc9p5Y/LbKd76fGnz/bLW5ISEmmPww9YvTcQq8/JV2OstnstT8Er5Y7M8G+P0c+r3jqkcU/5h99k6ZBzj88bCIzFzjVP4enV8oyxN0//yH99nXg5D8qOpLLf0jtP5kqGJXUifQ/c9cS8kHP/D+/DpwzojQEQIEmwoanVwxA4lgXt9HgE0BSSZ2AJuIbQAMJih9jjiNA5q4l5INuK0AwTKYKRj0zQNv5fmq8/DpAaCJseHrtQkB/+zpwzoxKQM3MzMzMeFJAZmZmZmZqWEAAAAAAAFxeQM3MzMzMJmJAmpmZmZkfZUBmZmZmZhhoQDMzMzMzEWtAAAAAAAAKbkBmZmZmZoFwQM3MzMzM/XFAMzMzMzN6c0CamZmZmfZ0QAAAAAAAc3ZAZmZmZmbvd0DNzMzMzGt5QDMzMzMz6HpAmpmZmZlkfEAAAAAAAOF9QGZmZmZmXX9AZmZmZuZsgECamZmZGSuBQM3MzMxM6YFAAAAAAICngkAzMzMzs2WDQGZmZmbmI4RAmpmZmRnihEDNzMzMTKCFQAAAAACAXoZAMzMzM7Mch0BmZmZm5tqHQJqZmZkZmYhAzczMzExXiUAAAAAAgBWKQDMzMzOz04pAZmZmZuaRi0CamZmZGVCMQM3MzMxMDo1AAAAAAIDMjUAzMzMzs4qOQGZmZmbmSI9A\",\"dtype\":\"float64\",\"shape\":[75]}},\"selected\":{\"id\":\"85368707-43a9-4164-b885-4f030f58edfb\",\"type\":\"Selection\"},\"selection_policy\":{\"id\":\"2fc4af14-73d6-461d-ad8e-b10f0d3eb6b8\",\"type\":\"UnionRenderers\"}},\"id\":\"fc191e1f-c9aa-4e4d-b1c2-d2ceb0cd8a9f\",\"type\":\"ColumnDataSource\"},{\"attributes\":{\"line_alpha\":0.1,\"line_color\":\"#1f77b4\",\"line_width\":3,\"x\":{\"field\":\"x\"},\"y\":{\"field\":\"y\"}},\"id\":\"b9b3cfbc-746d-4e52-af77-d0c34bd11bb0\",\"type\":\"Line\"},{\"attributes\":{\"children\":[{\"id\":\"137cbb5d-468a-4727-a384-16e094f11af4\",\"subtype\":\"Figure\",\"type\":\"Plot\"},{\"id\":\"96829b58-3594-41f8-9650-acd231bebced\",\"subtype\":\"Figure\",\"type\":\"Plot\"}]},\"id\":\"dad5c08e-de25-41b6-9ea7-b5a5935ec493\",\"type\":\"Row\"},{\"attributes\":{\"callback\":null,\"data\":{\"x\":{\"__ndarray__\":\"qromKG4qwb9XAPhMmxbBv7baolA/vcC/0laASvBhwL9/54t7+wzAv05uiK9+hb+/ObELL1YOv7/l04Rp776+v43xH9rgp76/FX6AIAbbvr+K6FOeq3O/vy2SPPgFS8C/zeD3iPs8wb9ZMZ450rbCv0dr0o6XxcO/2miMGG4nwr/8fnvozIe7v/tRkHx+yLC/f5KOtExtkL8dzBTd9BOmP01DO0Qv5b0/4ZKpo18yzD9jUo2omurUPxg/roncvtI/od+URaOzxT/xJDjhnf23PwWUB5uaAa0/FIizL5Skoz8DtabmY1ieP88WVy+bDZk/49quos/fkz/QqooB9veMP5X6vCbHRIY//K5nS78Egz8zKZ+MU2d8P13eq30SxG4/q8gkvxeBXj+vWK0XvbZSPzvRckZ+U0y/vzAO728Qab8I9hXWPT9Qvy70Vpcy9Iw/xci4ADkDpD8QJTnkjzexPyHGMbNLq7c/3gQ1NTZfuT8X+OUnMPi6P+0cmBbUO70/sCOrroVRvz+xJC8h1WbAP1Rz2s85qsA/4gogY4swwD+CxeHMr+a+P+/myhyiPL0/29iynWtvuz9B38yeuqi5P/l4g5B1Nrg/ISbKpqhvtz9JFEjzQXu1Px5qx0wj37I/Un2yJVUisD/5eVZJmRGrPzhIuCsciqY/tQI2LLX6oj8S5ST36MugP0rJ5x/BsKA/IMNq+W/Ioj8zNjKXbQqlP51pZIWSMaQ/7XfuXmpbnz87Lk+M0d+UPzRSCEc9Aos/x7qYpEIVgz+U5GcJzGiBP4U8J2K2Cb8/\",\"dtype\":\"float64\",\"shape\":[75]},\"y\":{\"__ndarray__\":\"GhExyth1ND/Sv8nbtpRIP2vylNV0PVE/aTum7souWD/At0SJ8fVgPw3Iuahxymc/MSNhhJWvcD/bTfBN02d3P2zb5nxnaoA/CD5h5MAGhz8NmeH1TyaQP+zrCsc9p5Y/LbKd76fGnz/bLW5ISEmmPww9YvTcQq8/JV2OstnstT8Er5Y7M8G+P0c+r3jqkcU/5h99k6ZBzj88bCIzFzjVP4enV8oyxN0//yH99nXg5D8qOpLLf0jtP5kqGJXUifQ/c9cS8kHP/D+/DpwzojQEQIEmwoanVwxA4lgXt9HgE0BSSZ2AJuIbQAMJih9jjiNA5q4l5INuK0AwTKYKRj0zQNv5fmq8/DpAaCJseHrtQkB/+zpwzoxKQM3MzMzMeFJAZmZmZmZqWEAAAAAAAFxeQM3MzMzMJmJAmpmZmZkfZUBmZmZmZhhoQDMzMzMzEWtAAAAAAAAKbkBmZmZmZoFwQM3MzMzM/XFAMzMzMzN6c0CamZmZmfZ0QAAAAAAAc3ZAZmZmZmbvd0DNzMzMzGt5QDMzMzMz6HpAmpmZmZlkfEAAAAAAAOF9QGZmZmZmXX9AZmZmZuZsgECamZmZGSuBQM3MzMxM6YFAAAAAAICngkAzMzMzs2WDQGZmZmbmI4RAmpmZmRnihEDNzMzMTKCFQAAAAACAXoZAMzMzM7Mch0BmZmZm5tqHQJqZmZkZmYhAzczMzExXiUAAAAAAgBWKQDMzMzOz04pAZmZmZuaRi0CamZmZGVCMQM3MzMxMDo1AAAAAAIDMjUAzMzMzs4qOQGZmZmbmSI9A\",\"dtype\":\"float64\",\"shape\":[75]}},\"selected\":{\"id\":\"0d105295-b5a5-4179-98df-a04968d84ce0\",\"type\":\"Selection\"},\"selection_policy\":{\"id\":\"d1fccf2c-cf37-4a1d-a31b-ef373a81c653\",\"type\":\"UnionRenderers\"}},\"id\":\"c6c31797-a662-4873-bf1c-a63ec9abc1c9\",\"type\":\"ColumnDataSource\"},{\"attributes\":{\"source\":{\"id\":\"c4b7728d-f393-4f03-a6b0-f9fa6bb0d93f\",\"type\":\"ColumnDataSource\"}},\"id\":\"7137fd59-faed-49c0-bc08-9a8318a111ff\",\"type\":\"CDSView\"},{\"attributes\":{\"source\":{\"id\":\"d3a8777d-573f-42ff-9179-b8aa1f278ff4\",\"type\":\"ColumnDataSource\"}},\"id\":\"f0af2638-3626-4bbd-9bb0-88ceb2fd0e14\",\"type\":\"CDSView\"},{\"attributes\":{\"line_alpha\":0.1,\"line_color\":\"#1f77b4\",\"line_width\":1.5,\"x\":{\"field\":\"x\"},\"y\":{\"field\":\"y\"}},\"id\":\"27fbcf30-bbfc-4b75-b701-fe493a5d3674\",\"type\":\"Line\"},{\"attributes\":{\"fill_alpha\":{\"value\":0.7},\"fill_color\":{\"value\":\"#4daf4a\"},\"line_alpha\":{\"value\":0.7},\"line_color\":{\"value\":\"#4daf4a\"},\"x\":{\"field\":\"x\"},\"y\":{\"field\":\"y\"}},\"id\":\"63b6c472-8af0-40ff-b996-e5b5cf66e223\",\"type\":\"Circle\"},{\"attributes\":{\"data_source\":{\"id\":\"c6c31797-a662-4873-bf1c-a63ec9abc1c9\",\"type\":\"ColumnDataSource\"},\"glyph\":{\"id\":\"f9e78d7b-c967-4c62-9f93-233bf281d870\",\"type\":\"Line\"},\"hover_glyph\":null,\"muted_glyph\":null,\"nonselection_glyph\":{\"id\":\"27fbcf30-bbfc-4b75-b701-fe493a5d3674\",\"type\":\"Line\"},\"selection_glyph\":null,\"view\":{\"id\":\"9439a29e-2001-41ae-b215-d34fb2a75bce\",\"type\":\"CDSView\"}},\"id\":\"912e0cc6-365c-4762-9418-9ca55090acc5\",\"type\":\"GlyphRenderer\"},{\"attributes\":{\"source\":{\"id\":\"c6c31797-a662-4873-bf1c-a63ec9abc1c9\",\"type\":\"ColumnDataSource\"}},\"id\":\"9439a29e-2001-41ae-b215-d34fb2a75bce\",\"type\":\"CDSView\"},{\"attributes\":{\"fill_alpha\":{\"value\":0.7},\"fill_color\":{\"value\":\"#984ea3\"},\"line_alpha\":{\"value\":0.7},\"line_color\":{\"value\":\"#984ea3\"},\"x\":{\"field\":\"x\"},\"y\":{\"field\":\"y\"}},\"id\":\"aab4b858-3eb9-4400-b167-654c166a5eb0\",\"type\":\"Square\"},{\"attributes\":{\"data_source\":{\"id\":\"97b63725-f0a6-459e-841f-412da20cecff\",\"type\":\"ColumnDataSource\"},\"glyph\":{\"id\":\"efc0a8cd-3c8b-44f6-b0e6-e35897b106d3\",\"type\":\"Line\"},\"hover_glyph\":null,\"muted_glyph\":null,\"nonselection_glyph\":{\"id\":\"b9b3cfbc-746d-4e52-af77-d0c34bd11bb0\",\"type\":\"Line\"},\"selection_glyph\":null,\"view\":{\"id\":\"1f355caf-e16e-49c9-8dab-4d08e12910b4\",\"type\":\"CDSView\"}},\"id\":\"b30a5d08-f07f-43d3-8f33-d994ea1c1398\",\"type\":\"GlyphRenderer\"},{\"attributes\":{\"line_alpha\":0.1,\"line_color\":\"#1f77b4\",\"line_dash\":[6],\"line_width\":5,\"x\":{\"field\":\"x\"},\"y\":{\"field\":\"y\"}},\"id\":\"7489b0b5-cdea-421d-8353-a5f80a1b14d7\",\"type\":\"Line\"},{\"attributes\":{\"line_alpha\":0.6,\"line_color\":\"#984ea3\",\"line_width\":3,\"x\":{\"field\":\"x\"},\"y\":{\"field\":\"y\"}},\"id\":\"efc0a8cd-3c8b-44f6-b0e6-e35897b106d3\",\"type\":\"Line\"},{\"attributes\":{\"source\":{\"id\":\"97b63725-f0a6-459e-841f-412da20cecff\",\"type\":\"ColumnDataSource\"}},\"id\":\"1f355caf-e16e-49c9-8dab-4d08e12910b4\",\"type\":\"CDSView\"},{\"attributes\":{},\"id\":\"271831f4-0da2-47d8-ad1e-52bf68af95ec\",\"type\":\"BasicTickFormatter\"},{\"attributes\":{\"label\":{\"value\":\"CLIRAD `coolr_bands`\"},\"renderers\":[{\"id\":\"bac1afba-4d73-4abd-9f00-a73660702f85\",\"type\":\"GlyphRenderer\"}]},\"id\":\"6dc46124-443d-459b-b8ad-4731854d7da1\",\"type\":\"LegendItem\"},{\"attributes\":{},\"id\":\"aa7ab2bc-5b20-4a7a-9f4b-b41daa589e2d\",\"type\":\"BasicTickFormatter\"},{\"attributes\":{\"label\":{\"value\":\"CRD\"},\"renderers\":[{\"id\":\"bd134ea2-6da2-4aac-97b4-ffdb5551be4b\",\"type\":\"GlyphRenderer\"},{\"id\":\"912e0cc6-365c-4762-9418-9ca55090acc5\",\"type\":\"GlyphRenderer\"}]},\"id\":\"5b19be14-612c-4e66-aaca-a5e21e7185cf\",\"type\":\"LegendItem\"},{\"attributes\":{},\"id\":\"5e98a89d-060e-4804-87e6-42dd072dde77\",\"type\":\"Selection\"},{\"attributes\":{\"label\":{\"value\":\"WGT igg=10 wgt_flux=2\"},\"renderers\":[{\"id\":\"3664fb2f-de3d-49a5-be4a-cd7f17cdd0c2\",\"type\":\"GlyphRenderer\"},{\"id\":\"b30a5d08-f07f-43d3-8f33-d994ea1c1398\",\"type\":\"GlyphRenderer\"}]},\"id\":\"56cf7469-7a98-4a04-9119-3e25ea8f4629\",\"type\":\"LegendItem\"},{\"attributes\":{},\"id\":\"8b13e110-3856-483d-bba7-fe582ac038b2\",\"type\":\"UnionRenderers\"},{\"attributes\":{},\"id\":\"6694a14f-6f15-4f0f-a84d-0b92d661ce53\",\"type\":\"UnionRenderers\"},{\"attributes\":{},\"id\":\"e27576c0-7da2-4b7b-b823-a60634d6f7ce\",\"type\":\"Selection\"},{\"attributes\":{},\"id\":\"d81c9e0d-4470-43f7-82e3-def9028e6343\",\"type\":\"UnionRenderers\"},{\"attributes\":{},\"id\":\"f4e46932-58c7-41b3-a64a-04fb81418125\",\"type\":\"UnionRenderers\"},{\"attributes\":{},\"id\":\"c53a82e7-7de2-4482-b672-ff37871bccc7\",\"type\":\"UnionRenderers\"},{\"attributes\":{},\"id\":\"18281eed-96ef-46a8-89a0-c6c26768fa8e\",\"type\":\"Selection\"},{\"attributes\":{},\"id\":\"9c304d18-41b3-41bc-84eb-750719d61675\",\"type\":\"Selection\"},{\"attributes\":{\"ticker\":null},\"id\":\"a983f24e-62e3-4361-bdf3-09bab2aa04c9\",\"type\":\"LogTickFormatter\"},{\"attributes\":{},\"id\":\"e92bac6f-1a70-4f5b-9f7b-47cb9350d6e7\",\"type\":\"Selection\"},{\"attributes\":{},\"id\":\"d998338c-2c9f-485d-a607-c96be3a3ad6e\",\"type\":\"BasicTickFormatter\"},{\"attributes\":{\"fill_alpha\":{\"value\":0.7},\"fill_color\":{\"value\":\"#984ea3\"},\"line_alpha\":{\"value\":0.7},\"line_color\":{\"value\":\"#984ea3\"},\"x\":{\"field\":\"x\"},\"y\":{\"field\":\"y\"}},\"id\":\"36ee26dd-511b-4a1b-89c5-f929cd963288\",\"type\":\"Square\"},{\"attributes\":{},\"id\":\"206900a5-06fd-4c42-8ffd-32d228920164\",\"type\":\"ResetTool\"},{\"attributes\":{\"source\":{\"id\":\"694c806f-7b2f-420d-aebc-fc4eeb9dffa9\",\"type\":\"ColumnDataSource\"}},\"id\":\"4ae97b7d-6202-4d6f-a531-7174421f825b\",\"type\":\"CDSView\"},{\"attributes\":{\"active_drag\":\"auto\",\"active_inspect\":\"auto\",\"active_scroll\":\"auto\",\"active_tap\":\"auto\",\"tools\":[{\"id\":\"47494a91-1a2d-453b-8b90-33dd90403550\",\"type\":\"PanTool\"},{\"id\":\"05db5268-12b6-4efc-b06c-9b0d24e1c765\",\"type\":\"WheelZoomTool\"},{\"id\":\"da2eb307-9543-40b5-af23-a31dfd95d82c\",\"type\":\"BoxZoomTool\"},{\"id\":\"7c79ee1d-60d2-4a11-b0ca-62216dc40824\",\"type\":\"SaveTool\"},{\"id\":\"206900a5-06fd-4c42-8ffd-32d228920164\",\"type\":\"ResetTool\"},{\"id\":\"fb859449-d458-4a69-82f9-af6e2223fcc0\",\"type\":\"HelpTool\"}]},\"id\":\"84c735b6-ceb5-4735-9928-f48ea1a1fb15\",\"type\":\"Toolbar\"},{\"attributes\":{\"line_color\":\"#4daf4a\",\"line_width\":1.5,\"x\":{\"field\":\"x\"},\"y\":{\"field\":\"y\"}},\"id\":\"092f731a-53b2-47d5-b4a8-1e2780e993ca\",\"type\":\"Line\"},{\"attributes\":{\"items\":[{\"id\":\"6dc46124-443d-459b-b8ad-4731854d7da1\",\"type\":\"LegendItem\"},{\"id\":\"5b19be14-612c-4e66-aaca-a5e21e7185cf\",\"type\":\"LegendItem\"},{\"id\":\"56cf7469-7a98-4a04-9119-3e25ea8f4629\",\"type\":\"LegendItem\"}],\"label_text_font_size\":{\"value\":\"8pt\"},\"location\":[10,-30],\"plot\":{\"id\":\"96829b58-3594-41f8-9650-acd231bebced\",\"subtype\":\"Figure\",\"type\":\"Plot\"}},\"id\":\"1c0bef54-33ca-4732-a74b-619207aae167\",\"type\":\"Legend\"},{\"attributes\":{\"overlay\":{\"id\":\"870b1778-eba6-42a1-a42f-f529f633c473\",\"type\":\"BoxAnnotation\"}},\"id\":\"da2eb307-9543-40b5-af23-a31dfd95d82c\",\"type\":\"BoxZoomTool\"},{\"attributes\":{\"data_source\":{\"id\":\"db79318f-e8e5-4163-b53b-800706501e55\",\"type\":\"ColumnDataSource\"},\"glyph\":{\"id\":\"924bf059-8fd7-425e-b3dc-b59aedd9a43a\",\"type\":\"Line\"},\"hover_glyph\":null,\"muted_glyph\":null,\"nonselection_glyph\":{\"id\":\"b5bae73f-4e0d-43a8-bbcd-3c3eb8b266d8\",\"type\":\"Line\"},\"selection_glyph\":null,\"view\":{\"id\":\"b09d7e2e-aef1-40b6-a55e-20d12d79524a\",\"type\":\"CDSView\"}},\"id\":\"fcd4bc5c-939f-4270-84a4-90ddf344e5ea\",\"type\":\"GlyphRenderer\"},{\"attributes\":{\"callback\":null,\"data\":{\"x\":{\"__ndarray__\":\"YdrJEVqIw7/w2LpvA2vDv1V6ZYp6HMO//g7ud5rWwr/BXAqOD4PCv27XMehvPsK/p3fVk/P/wb9TX/wF/svBv4QwGgiZqsG/iKu8Y3Khwb+vGyCybLvBvyMQlCfJCcK/ZnWb9HOcwr9ui9xcBJPDvxwjzAaTE8S/C50d/FBHwr9ZpGCdl9G7v9lJxdHp1LC/WjR1sMnUjb++d7mKRq6nP6hhI35x6L4//7JraSpwzD+HzhuSYLPUP9WH7dkLgNI/gXSNyr6UxT9LmnZSw7u4P1fKo9sWf68/YqpOk5OTpT+tSGS2QligPzhXV5WvKZs/+ZuclwB/lj+rDi+5bymRP3WW9b3T4Io/VJwjCCMAhz+QJCpx8MGAPy4lSq/ecW8/VKorLNC6Vj+puNK0iWhLP9vc2Zv/m1C/Nhz68+Bkab+ZD/l532Mwv1qSYDR6VZM/VYsnpSiDqD858olaHvevP0crjouBkbE/gEetUMvRtD8n9PnQUPW4PzoLCun0QLw/hKc9WEdUvj+0WbVlvKS/PwKBD7fNScA/zc3nHSRmwD/OjXce91/AP90PBbIEGcA/nriaqlnDvj+yILbOYai8P5YxxMqEYbo/E8zz+3WXuD9mU2HN0Ju1P40hfu19OrI/CErwJMhwrj/ID8MnIp6pP9rjzV3i5qU/bSlAYmbuoj+3Cr6EYiKhPzBJO8/5A6E/lKs5TpXboj/KFEAvusykP4ZbeROApaM/48VdiXfTnT/KJ7whhiGTP5A4vlXSU4c/ttTHC7wYfz+N6B6n2Hh8PysN2cWMu74/\",\"dtype\":\"float64\",\"shape\":[75]},\"y\":{\"__ndarray__\":\"GhExyth1ND/Sv8nbtpRIP2vylNV0PVE/aTum7souWD/At0SJ8fVgPw3Iuahxymc/MSNhhJWvcD/bTfBN02d3P2zb5nxnaoA/CD5h5MAGhz8NmeH1TyaQP+zrCsc9p5Y/LbKd76fGnz/bLW5ISEmmPww9YvTcQq8/JV2OstnstT8Er5Y7M8G+P0c+r3jqkcU/5h99k6ZBzj88bCIzFzjVP4enV8oyxN0//yH99nXg5D8qOpLLf0jtP5kqGJXUifQ/c9cS8kHP/D+/DpwzojQEQIEmwoanVwxA4lgXt9HgE0BSSZ2AJuIbQAMJih9jjiNA5q4l5INuK0AwTKYKRj0zQNv5fmq8/DpAaCJseHrtQkB/+zpwzoxKQM3MzMzMeFJAZmZmZmZqWEAAAAAAAFxeQM3MzMzMJmJAmpmZmZkfZUBmZmZmZhhoQDMzMzMzEWtAAAAAAAAKbkBmZmZmZoFwQM3MzMzM/XFAMzMzMzN6c0CamZmZmfZ0QAAAAAAAc3ZAZmZmZmbvd0DNzMzMzGt5QDMzMzMz6HpAmpmZmZlkfEAAAAAAAOF9QGZmZmZmXX9AZmZmZuZsgECamZmZGSuBQM3MzMxM6YFAAAAAAICngkAzMzMzs2WDQGZmZmbmI4RAmpmZmRnihEDNzMzMTKCFQAAAAACAXoZAMzMzM7Mch0BmZmZm5tqHQJqZmZkZmYhAzczMzExXiUAAAAAAgBWKQDMzMzOz04pAZmZmZuaRi0CamZmZGVCMQM3MzMxMDo1AAAAAAIDMjUAzMzMzs4qOQGZmZmbmSI9A\",\"dtype\":\"float64\",\"shape\":[75]}},\"selected\":{\"id\":\"18281eed-96ef-46a8-89a0-c6c26768fa8e\",\"type\":\"Selection\"},\"selection_policy\":{\"id\":\"c53a82e7-7de2-4482-b672-ff37871bccc7\",\"type\":\"UnionRenderers\"}},\"id\":\"db79318f-e8e5-4163-b53b-800706501e55\",\"type\":\"ColumnDataSource\"},{\"attributes\":{\"data_source\":{\"id\":\"f95f960a-0266-42dd-855d-4da2424a8b56\",\"type\":\"ColumnDataSource\"},\"glyph\":{\"id\":\"e5e84d4a-aae6-4572-af01-7f4f436d204f\",\"type\":\"Line\"},\"hover_glyph\":null,\"muted_glyph\":null,\"nonselection_glyph\":{\"id\":\"7489b0b5-cdea-421d-8353-a5f80a1b14d7\",\"type\":\"Line\"},\"selection_glyph\":null,\"view\":{\"id\":\"ac04b746-35e2-468f-8bc0-cf62273de4a1\",\"type\":\"CDSView\"}},\"id\":\"04e922d5-94b1-496b-82fb-adafa7bb69b4\",\"type\":\"GlyphRenderer\"},{\"attributes\":{\"data_source\":{\"id\":\"fc191e1f-c9aa-4e4d-b1c2-d2ceb0cd8a9f\",\"type\":\"ColumnDataSource\"},\"glyph\":{\"id\":\"aab4b858-3eb9-4400-b167-654c166a5eb0\",\"type\":\"Square\"},\"hover_glyph\":null,\"muted_glyph\":null,\"nonselection_glyph\":{\"id\":\"fc3c1825-0ea8-4891-aa50-34c54853063d\",\"type\":\"Square\"},\"selection_glyph\":null,\"view\":{\"id\":\"274891da-1480-431d-900f-4a796bb645f7\",\"type\":\"CDSView\"}},\"id\":\"3664fb2f-de3d-49a5-be4a-cd7f17cdd0c2\",\"type\":\"GlyphRenderer\"},{\"attributes\":{\"line_alpha\":0.1,\"line_color\":\"#1f77b4\",\"line_width\":3,\"x\":{\"field\":\"x\"},\"y\":{\"field\":\"y\"}},\"id\":\"b5bae73f-4e0d-43a8-bbcd-3c3eb8b266d8\",\"type\":\"Line\"},{\"attributes\":{},\"id\":\"e869e56e-8e5e-400a-ba61-69f602c6b76b\",\"type\":\"LogScale\"},{\"attributes\":{\"source\":{\"id\":\"3c2aa9f7-43d6-4f3f-9e74-abfcd88b7df6\",\"type\":\"ColumnDataSource\"}},\"id\":\"17fadc6a-6513-42b2-b841-18818a0cf2db\",\"type\":\"CDSView\"},{\"attributes\":{\"bottom_units\":\"screen\",\"fill_alpha\":{\"value\":0.5},\"fill_color\":{\"value\":\"lightgrey\"},\"left_units\":\"screen\",\"level\":\"overlay\",\"line_alpha\":{\"value\":1.0},\"line_color\":{\"value\":\"black\"},\"line_dash\":[4,4],\"line_width\":{\"value\":2},\"plot\":null,\"render_mode\":\"css\",\"right_units\":\"screen\",\"top_units\":\"screen\"},\"id\":\"870b1778-eba6-42a1-a42f-f529f633c473\",\"type\":\"BoxAnnotation\"},{\"attributes\":{\"line_alpha\":0.6,\"line_color\":\"#984ea3\",\"line_width\":3,\"x\":{\"field\":\"x\"},\"y\":{\"field\":\"y\"}},\"id\":\"924bf059-8fd7-425e-b3dc-b59aedd9a43a\",\"type\":\"Line\"},{\"attributes\":{},\"id\":\"62c2c177-ab19-4fcf-96df-d1a0bf77cc7a\",\"type\":\"LinearScale\"},{\"attributes\":{\"data_source\":{\"id\":\"694c806f-7b2f-420d-aebc-fc4eeb9dffa9\",\"type\":\"ColumnDataSource\"},\"glyph\":{\"id\":\"092f731a-53b2-47d5-b4a8-1e2780e993ca\",\"type\":\"Line\"},\"hover_glyph\":null,\"muted_glyph\":null,\"nonselection_glyph\":{\"id\":\"30b9505d-919e-4b6d-9547-ad4dea1bf76e\",\"type\":\"Line\"},\"selection_glyph\":null,\"view\":{\"id\":\"4ae97b7d-6202-4d6f-a531-7174421f825b\",\"type\":\"CDSView\"}},\"id\":\"dd678a2d-5398-4374-a07d-1be32435e446\",\"type\":\"GlyphRenderer\"},{\"attributes\":{\"fill_alpha\":{\"value\":0.1},\"fill_color\":{\"value\":\"#1f77b4\"},\"line_alpha\":{\"value\":0.1},\"line_color\":{\"value\":\"#1f77b4\"},\"x\":{\"field\":\"x\"},\"y\":{\"field\":\"y\"}},\"id\":\"fc3c1825-0ea8-4891-aa50-34c54853063d\",\"type\":\"Square\"},{\"attributes\":{\"callback\":null,\"data\":{\"x\":{\"__ndarray__\":\"qromKG4qwb9XAPhMmxbBv7baolA/vcC/0laASvBhwL9/54t7+wzAv05uiK9+hb+/ObELL1YOv7/l04Rp776+v43xH9rgp76/FX6AIAbbvr+K6FOeq3O/vy2SPPgFS8C/zeD3iPs8wb9ZMZ450rbCv0dr0o6XxcO/2miMGG4nwr/8fnvozIe7v/tRkHx+yLC/f5KOtExtkL8dzBTd9BOmP01DO0Qv5b0/4ZKpo18yzD9jUo2omurUPxg/roncvtI/od+URaOzxT/xJDjhnf23PwWUB5uaAa0/FIizL5Skoz8DtabmY1ieP88WVy+bDZk/49quos/fkz/QqooB9veMP5X6vCbHRIY//K5nS78Egz8zKZ+MU2d8P13eq30SxG4/q8gkvxeBXj+vWK0XvbZSPzvRckZ+U0y/vzAO728Qab8I9hXWPT9Qvy70Vpcy9Iw/xci4ADkDpD8QJTnkjzexPyHGMbNLq7c/3gQ1NTZfuT8X+OUnMPi6P+0cmBbUO70/sCOrroVRvz+xJC8h1WbAP1Rz2s85qsA/4gogY4swwD+CxeHMr+a+P+/myhyiPL0/29iynWtvuz9B38yeuqi5P/l4g5B1Nrg/ISbKpqhvtz9JFEjzQXu1Px5qx0wj37I/Un2yJVUisD/5eVZJmRGrPzhIuCsciqY/tQI2LLX6oj8S5ST36MugP0rJ5x/BsKA/IMNq+W/Ioj8zNjKXbQqlP51pZIWSMaQ/7XfuXmpbnz87Lk+M0d+UPzRSCEc9Aos/x7qYpEIVgz+U5GcJzGiBP4U8J2K2Cb8/\",\"dtype\":\"float64\",\"shape\":[75]},\"y\":{\"__ndarray__\":\"GhExyth1ND/Sv8nbtpRIP2vylNV0PVE/aTum7souWD/At0SJ8fVgPw3Iuahxymc/MSNhhJWvcD/bTfBN02d3P2zb5nxnaoA/CD5h5MAGhz8NmeH1TyaQP+zrCsc9p5Y/LbKd76fGnz/bLW5ISEmmPww9YvTcQq8/JV2OstnstT8Er5Y7M8G+P0c+r3jqkcU/5h99k6ZBzj88bCIzFzjVP4enV8oyxN0//yH99nXg5D8qOpLLf0jtP5kqGJXUifQ/c9cS8kHP/D+/DpwzojQEQIEmwoanVwxA4lgXt9HgE0BSSZ2AJuIbQAMJih9jjiNA5q4l5INuK0AwTKYKRj0zQNv5fmq8/DpAaCJseHrtQkB/+zpwzoxKQM3MzMzMeFJAZmZmZmZqWEAAAAAAAFxeQM3MzMzMJmJAmpmZmZkfZUBmZmZmZhhoQDMzMzMzEWtAAAAAAAAKbkBmZmZmZoFwQM3MzMzM/XFAMzMzMzN6c0CamZmZmfZ0QAAAAAAAc3ZAZmZmZmbvd0DNzMzMzGt5QDMzMzMz6HpAmpmZmZlkfEAAAAAAAOF9QGZmZmZmXX9AZmZmZuZsgECamZmZGSuBQM3MzMxM6YFAAAAAAICngkAzMzMzs2WDQGZmZmbmI4RAmpmZmRnihEDNzMzMTKCFQAAAAACAXoZAMzMzM7Mch0BmZmZm5tqHQJqZmZkZmYhAzczMzExXiUAAAAAAgBWKQDMzMzOz04pAZmZmZuaRi0CamZmZGVCMQM3MzMxMDo1AAAAAAIDMjUAzMzMzs4qOQGZmZmbmSI9A\",\"dtype\":\"float64\",\"shape\":[75]}},\"selected\":{\"id\":\"9c304d18-41b3-41bc-84eb-750719d61675\",\"type\":\"Selection\"},\"selection_policy\":{\"id\":\"f4e46932-58c7-41b3-a64a-04fb81418125\",\"type\":\"UnionRenderers\"}},\"id\":\"694c806f-7b2f-420d-aebc-fc4eeb9dffa9\",\"type\":\"ColumnDataSource\"},{\"attributes\":{\"source\":{\"id\":\"db79318f-e8e5-4163-b53b-800706501e55\",\"type\":\"ColumnDataSource\"}},\"id\":\"b09d7e2e-aef1-40b6-a55e-20d12d79524a\",\"type\":\"CDSView\"},{\"attributes\":{\"axis_label\":\"cooling rate [K/day]\",\"formatter\":{\"id\":\"271831f4-0da2-47d8-ad1e-52bf68af95ec\",\"type\":\"BasicTickFormatter\"},\"plot\":{\"id\":\"137cbb5d-468a-4727-a384-16e094f11af4\",\"subtype\":\"Figure\",\"type\":\"Plot\"},\"ticker\":{\"id\":\"e5791f57-ca07-499b-acf0-73200b654347\",\"type\":\"BasicTicker\"}},\"id\":\"5e623cac-bfc1-450c-8007-1f1481262663\",\"type\":\"LinearAxis\"},{\"attributes\":{\"fill_alpha\":{\"value\":0.7},\"fill_color\":{\"value\":\"#4daf4a\"},\"line_alpha\":{\"value\":0.7},\"line_color\":{\"value\":\"#4daf4a\"},\"x\":{\"field\":\"x\"},\"y\":{\"field\":\"y\"}},\"id\":\"63e870b0-3dbf-4665-bfb9-ffc4dc6d0948\",\"type\":\"Circle\"},{\"attributes\":{\"source\":{\"id\":\"f3a3a663-1901-4e11-9c92-422440896957\",\"type\":\"ColumnDataSource\"}},\"id\":\"96011606-6c83-4791-bbff-5b55bf794ea2\",\"type\":\"CDSView\"},{\"attributes\":{\"callback\":null,\"end\":0.13740663340536,\"start\":-0.00449101394136},\"id\":\"35e9b6c2-b7b1-402e-b9d0-71079454c1de\",\"type\":\"Range1d\"},{\"attributes\":{\"source\":{\"id\":\"fc191e1f-c9aa-4e4d-b1c2-d2ceb0cd8a9f\",\"type\":\"ColumnDataSource\"}},\"id\":\"274891da-1480-431d-900f-4a796bb645f7\",\"type\":\"CDSView\"},{\"attributes\":{},\"id\":\"02c1c1f1-9852-474c-bd73-b9f202c36daf\",\"type\":\"PanTool\"},{\"attributes\":{},\"id\":\"47494a91-1a2d-453b-8b90-33dd90403550\",\"type\":\"PanTool\"},{\"attributes\":{\"fill_alpha\":{\"value\":0.1},\"fill_color\":{\"value\":\"#1f77b4\"},\"line_alpha\":{\"value\":0.1},\"line_color\":{\"value\":\"#1f77b4\"},\"x\":{\"field\":\"x\"},\"y\":{\"field\":\"y\"}},\"id\":\"a8a05dd1-33c9-4af0-a186-01be94d7908c\",\"type\":\"Square\"},{\"attributes\":{},\"id\":\"05db5268-12b6-4efc-b06c-9b0d24e1c765\",\"type\":\"WheelZoomTool\"},{\"attributes\":{\"plot\":null,\"text\":\"Linear pressure scale\"},\"id\":\"b571cf2b-570f-47ba-9421-7bbca9a7a9eb\",\"type\":\"Title\"},{\"attributes\":{},\"id\":\"7c79ee1d-60d2-4a11-b0ca-62216dc40824\",\"type\":\"SaveTool\"},{\"attributes\":{\"line_alpha\":0.1,\"line_color\":\"#1f77b4\",\"line_width\":1.5,\"x\":{\"field\":\"x\"},\"y\":{\"field\":\"y\"}},\"id\":\"30b9505d-919e-4b6d-9547-ad4dea1bf76e\",\"type\":\"Line\"},{\"attributes\":{},\"id\":\"2f568486-6a9f-4c7d-b1ac-27aa5f722e21\",\"type\":\"LinearScale\"},{\"attributes\":{\"bottom_units\":\"screen\",\"fill_alpha\":{\"value\":0.5},\"fill_color\":{\"value\":\"lightgrey\"},\"left_units\":\"screen\",\"level\":\"overlay\",\"line_alpha\":{\"value\":1.0},\"line_color\":{\"value\":\"black\"},\"line_dash\":[4,4],\"line_width\":{\"value\":2},\"plot\":null,\"render_mode\":\"css\",\"right_units\":\"screen\",\"top_units\":\"screen\"},\"id\":\"f3eff031-98ff-406a-8682-8146aef9b4cd\",\"type\":\"BoxAnnotation\"},{\"attributes\":{},\"id\":\"e5791f57-ca07-499b-acf0-73200b654347\",\"type\":\"BasicTicker\"},{\"attributes\":{\"plot\":null,\"text\":\"Log pressure scale\"},\"id\":\"11d6eff8-ccf7-4f1d-97b1-84fa3b3feb82\",\"type\":\"Title\"},{\"attributes\":{\"callback\":null,\"data\":{\"x\":{\"__ndarray__\":\"meoTir7MxL/0/AZ5f7TEvwVa9C33csS/ODYS00stxL8J9C6D1ujDvzY5neByp8O/jtWccjtqw79jf7gvkDXDv59Bv8ZgC8O/pb7Jwhn0wr8+Qd6C1/TCv/x/avYfHcO/WOSV8957w786It+l1CXEvzCwllTQYcS/HpHn4aF7wr/9Gw8RkmC8v03/lFXRUrG/uY7eYfSLj79EZkUM7/2nPxWLACM/Tb8/v1VL+K1vzD8GBnvZl2jUP3usz4vJEdI/pafhvoLyxD+Ltm9dTXi4P0V0ao9gqK8/CJ1eyVjkpD9oBiG7M1yePwu/ikKBLZk/EKEmB6eWlT/hR4vssK2QP8CnINzw/Yk/TxY9PsHIhj9m9TbIMN+APw+EN+5MXWw/tYv6NDxkSD/ely446W43P8V1toZlOlO/voOYNXyFaL86epjxQy/1vvbcp4IIc5Q/zs+Oze7GqT+VXmabxdKtP+dcCyzgG7A/0koDOvGntT9ShdyY4My6P2SPcUGNrb0/Z2iXyjbLvj/w7J9l5bC/P04hX1uip8A/1elA1lMrwT9ZxCyL9GjBP/LxZJLs7MA/kxay41Slvz9L1MGwsmy8P1MnDSbfG7k/Lt3bL8qstj/oLe6kXYOzPxhundhztLA/YCVrSVGrrD/iEO7x6YGoP6sAy4n3laQ/N9fnbCwhoj8Cqj6rWj+ePz68rxYUEJ8/OBzaI3tUoD+a/Nc46R2jPwlPkvVuCKI/V9D7mVYXmz86/8UfhAGRP4dlz4DjO4Q/vz78Ncdkej9JYZALvWt4P+y3nyFWXr4/\",\"dtype\":\"float64\",\"shape\":[75]},\"y\":{\"__ndarray__\":\"S/O/Q+51ND/Sv8nbtpRIP2vylNV0PVE/aTum7souWD/At0SJ8fVgPw3Iuahxymc/MSNhhJWvcD/bTfBN02d3P2zb5nxnaoA/CD5h5MAGhz8NmeH1TyaQP+zrCsc9p5Y/LbKd76fGnz/bLW5ISEmmPww9YvTcQq8/JV2OstnstT8Er5Y7M8G+P0c+r3jqkcU/5h99k6ZBzj88bCIzFzjVP4enV8oyxN0//yH99nXg5D8qOpLLf0jtP5kqGJXUifQ/c9cS8kHP/D+/DpwzojQEQIEmwoanVwxA4lgXt9HgE0BSSZ2AJuIbQAMJih9jjiNA5q4l5INuK0AwTKYKRj0zQNv5fmq8/DpAaCJseHrtQkB/+zpwzoxKQM3MzMzMeFJAZmZmZmZqWEAAAAAAAFxeQM3MzMzMJmJAmpmZmZkfZUBmZmZmZhhoQDMzMzMzEWtAAAAAAAAKbkBmZmZmZoFwQM3MzMzM/XFAMzMzMzN6c0CamZmZmfZ0QAAAAAAAc3ZAZmZmZmbvd0DNzMzMzGt5QDMzMzMz6HpAmpmZmZlkfEAAAAAAAOF9QGZmZmZmXX9AZmZmZuZsgECamZmZGSuBQM3MzMxM6YFAAAAAAICngkAzMzMzs2WDQGZmZmbmI4RAmpmZmRnihEDNzMzMTKCFQAAAAACAXoZAMzMzM7Mch0BmZmZm5tqHQJqZmZkZmYhAzczMzExXiUAAAAAAgBWKQDMzMzOz04pAZmZmZuaRi0CamZmZGVCMQM3MzMxMDo1AAAAAAIDMjUAzMzMzs4qOQGZmZmbmSI9A\",\"dtype\":\"float64\",\"shape\":[75]}},\"selected\":{\"id\":\"e27576c0-7da2-4b7b-b823-a60634d6f7ce\",\"type\":\"Selection\"},\"selection_policy\":{\"id\":\"6694a14f-6f15-4f0f-a84d-0b92d661ce53\",\"type\":\"UnionRenderers\"}},\"id\":\"f95f960a-0266-42dd-855d-4da2424a8b56\",\"type\":\"ColumnDataSource\"},{\"attributes\":{\"fill_alpha\":{\"value\":0.1},\"fill_color\":{\"value\":\"#1f77b4\"},\"line_alpha\":{\"value\":0.1},\"line_color\":{\"value\":\"#1f77b4\"},\"x\":{\"field\":\"x\"},\"y\":{\"field\":\"y\"}},\"id\":\"1b070d09-78f8-49b6-8616-c1816d47f2b0\",\"type\":\"Circle\"},{\"attributes\":{\"data_source\":{\"id\":\"f3a3a663-1901-4e11-9c92-422440896957\",\"type\":\"ColumnDataSource\"},\"glyph\":{\"id\":\"36ee26dd-511b-4a1b-89c5-f929cd963288\",\"type\":\"Square\"},\"hover_glyph\":null,\"muted_glyph\":null,\"nonselection_glyph\":{\"id\":\"a8a05dd1-33c9-4af0-a186-01be94d7908c\",\"type\":\"Square\"},\"selection_glyph\":null,\"view\":{\"id\":\"96011606-6c83-4791-bbff-5b55bf794ea2\",\"type\":\"CDSView\"}},\"id\":\"592c0ba3-948c-43e3-93d2-a8f203d23f0d\",\"type\":\"GlyphRenderer\"},{\"attributes\":{\"callback\":null,\"data\":{\"x\":{\"__ndarray__\":\"qromKG4qwb9XAPhMmxbBv7baolA/vcC/0laASvBhwL9/54t7+wzAv05uiK9+hb+/ObELL1YOv7/l04Rp776+v43xH9rgp76/FX6AIAbbvr+K6FOeq3O/vy2SPPgFS8C/zeD3iPs8wb9ZMZ450rbCv0dr0o6XxcO/2miMGG4nwr/8fnvozIe7v/tRkHx+yLC/f5KOtExtkL8dzBTd9BOmP01DO0Qv5b0/4ZKpo18yzD9jUo2omurUPxg/roncvtI/od+URaOzxT/xJDjhnf23PwWUB5uaAa0/FIizL5Skoz8DtabmY1ieP88WVy+bDZk/49quos/fkz/QqooB9veMP5X6vCbHRIY//K5nS78Egz8zKZ+MU2d8P13eq30SxG4/q8gkvxeBXj+vWK0XvbZSPzvRckZ+U0y/vzAO728Qab8I9hXWPT9Qvy70Vpcy9Iw/xci4ADkDpD8QJTnkjzexPyHGMbNLq7c/3gQ1NTZfuT8X+OUnMPi6P+0cmBbUO70/sCOrroVRvz+xJC8h1WbAP1Rz2s85qsA/4gogY4swwD+CxeHMr+a+P+/myhyiPL0/29iynWtvuz9B38yeuqi5P/l4g5B1Nrg/ISbKpqhvtz9JFEjzQXu1Px5qx0wj37I/Un2yJVUisD/5eVZJmRGrPzhIuCsciqY/tQI2LLX6oj8S5ST36MugP0rJ5x/BsKA/IMNq+W/Ioj8zNjKXbQqlP51pZIWSMaQ/7XfuXmpbnz87Lk+M0d+UPzRSCEc9Aos/x7qYpEIVgz+U5GcJzGiBP4U8J2K2Cb8/\",\"dtype\":\"float64\",\"shape\":[75]},\"y\":{\"__ndarray__\":\"GhExyth1ND/Sv8nbtpRIP2vylNV0PVE/aTum7souWD/At0SJ8fVgPw3Iuahxymc/MSNhhJWvcD/bTfBN02d3P2zb5nxnaoA/CD5h5MAGhz8NmeH1TyaQP+zrCsc9p5Y/LbKd76fGnz/bLW5ISEmmPww9YvTcQq8/JV2OstnstT8Er5Y7M8G+P0c+r3jqkcU/5h99k6ZBzj88bCIzFzjVP4enV8oyxN0//yH99nXg5D8qOpLLf0jtP5kqGJXUifQ/c9cS8kHP/D+/DpwzojQEQIEmwoanVwxA4lgXt9HgE0BSSZ2AJuIbQAMJih9jjiNA5q4l5INuK0AwTKYKRj0zQNv5fmq8/DpAaCJseHrtQkB/+zpwzoxKQM3MzMzMeFJAZmZmZmZqWEAAAAAAAFxeQM3MzMzMJmJAmpmZmZkfZUBmZmZmZhhoQDMzMzMzEWtAAAAAAAAKbkBmZmZmZoFwQM3MzMzM/XFAMzMzMzN6c0CamZmZmfZ0QAAAAAAAc3ZAZmZmZmbvd0DNzMzMzGt5QDMzMzMz6HpAmpmZmZlkfEAAAAAAAOF9QGZmZmZmXX9AZmZmZuZsgECamZmZGSuBQM3MzMxM6YFAAAAAAICngkAzMzMzs2WDQGZmZmbmI4RAmpmZmRnihEDNzMzMTKCFQAAAAACAXoZAMzMzM7Mch0BmZmZm5tqHQJqZmZkZmYhAzczMzExXiUAAAAAAgBWKQDMzMzOz04pAZmZmZuaRi0CamZmZGVCMQM3MzMxMDo1AAAAAAIDMjUAzMzMzs4qOQGZmZmbmSI9A\",\"dtype\":\"float64\",\"shape\":[75]}},\"selected\":{\"id\":\"5e98a89d-060e-4804-87e6-42dd072dde77\",\"type\":\"Selection\"},\"selection_policy\":{\"id\":\"8b13e110-3856-483d-bba7-fe582ac038b2\",\"type\":\"UnionRenderers\"}},\"id\":\"3c2aa9f7-43d6-4f3f-9e74-abfcd88b7df6\",\"type\":\"ColumnDataSource\"},{\"attributes\":{},\"id\":\"102a8f7a-403f-48a7-bb88-82343e320fac\",\"type\":\"HelpTool\"},{\"attributes\":{\"below\":[{\"id\":\"9741f71b-95f1-46f8-9963-d979209b3c5c\",\"type\":\"LinearAxis\"}],\"left\":[{\"id\":\"15596e1d-bfd5-4251-8b2e-59211db797de\",\"type\":\"LogAxis\"}],\"plot_height\":500,\"plot_width\":560,\"renderers\":[{\"id\":\"9741f71b-95f1-46f8-9963-d979209b3c5c\",\"type\":\"LinearAxis\"},{\"id\":\"f2fedfcf-8036-4496-ae28-119fc3281a44\",\"type\":\"Grid\"},{\"id\":\"15596e1d-bfd5-4251-8b2e-59211db797de\",\"type\":\"LogAxis\"},{\"id\":\"5d43aaa2-55e4-4e75-9d91-16986b9b15d2\",\"type\":\"Grid\"},{\"id\":\"f3eff031-98ff-406a-8682-8146aef9b4cd\",\"type\":\"BoxAnnotation\"},{\"id\":\"bac1afba-4d73-4abd-9f00-a73660702f85\",\"type\":\"GlyphRenderer\"},{\"id\":\"bd134ea2-6da2-4aac-97b4-ffdb5551be4b\",\"type\":\"GlyphRenderer\"},{\"id\":\"912e0cc6-365c-4762-9418-9ca55090acc5\",\"type\":\"GlyphRenderer\"},{\"id\":\"3664fb2f-de3d-49a5-be4a-cd7f17cdd0c2\",\"type\":\"GlyphRenderer\"},{\"id\":\"b30a5d08-f07f-43d3-8f33-d994ea1c1398\",\"type\":\"GlyphRenderer\"},{\"id\":\"1c0bef54-33ca-4732-a74b-619207aae167\",\"type\":\"Legend\"}],\"right\":[{\"id\":\"1c0bef54-33ca-4732-a74b-619207aae167\",\"type\":\"Legend\"}],\"title\":{\"id\":\"11d6eff8-ccf7-4f1d-97b1-84fa3b3feb82\",\"type\":\"Title\"},\"toolbar\":{\"id\":\"c5e6c0b2-c582-4d5a-ba23-cd5b33cc282e\",\"type\":\"Toolbar\"},\"toolbar_location\":null,\"x_range\":{\"id\":\"4bb980ff-84f4-40d7-85b8-236b2a11713a\",\"type\":\"Range1d\"},\"x_scale\":{\"id\":\"2f568486-6a9f-4c7d-b1ac-27aa5f722e21\",\"type\":\"LinearScale\"},\"y_range\":{\"id\":\"615d0cfd-8056-4e56-a8aa-16f87b486e9b\",\"type\":\"Range1d\"},\"y_scale\":{\"id\":\"e869e56e-8e5e-400a-ba61-69f602c6b76b\",\"type\":\"LogScale\"}},\"id\":\"96829b58-3594-41f8-9650-acd231bebced\",\"subtype\":\"Figure\",\"type\":\"Plot\"},{\"attributes\":{\"active_drag\":\"auto\",\"active_inspect\":\"auto\",\"active_scroll\":\"auto\",\"active_tap\":\"auto\",\"tools\":[{\"id\":\"02c1c1f1-9852-474c-bd73-b9f202c36daf\",\"type\":\"PanTool\"},{\"id\":\"20bc1375-eb39-4025-9174-b8be37243ef3\",\"type\":\"WheelZoomTool\"},{\"id\":\"b5ad2591-79a0-4de9-9092-064801008332\",\"type\":\"BoxZoomTool\"},{\"id\":\"b5b7d835-dffc-46a7-b5f3-5dcfd2278f56\",\"type\":\"SaveTool\"},{\"id\":\"e7959fc7-a3e3-4f42-9122-f5b46710f159\",\"type\":\"ResetTool\"},{\"id\":\"102a8f7a-403f-48a7-bb88-82343e320fac\",\"type\":\"HelpTool\"}]},\"id\":\"c5e6c0b2-c582-4d5a-ba23-cd5b33cc282e\",\"type\":\"Toolbar\"},{\"attributes\":{\"axis_label\":\"pressure [mb]\",\"formatter\":{\"id\":\"a983f24e-62e3-4361-bdf3-09bab2aa04c9\",\"type\":\"LogTickFormatter\"},\"plot\":{\"id\":\"96829b58-3594-41f8-9650-acd231bebced\",\"subtype\":\"Figure\",\"type\":\"Plot\"},\"ticker\":{\"id\":\"baf10eac-c8df-4020-979b-1d811e6c1c2a\",\"type\":\"LogTicker\"}},\"id\":\"15596e1d-bfd5-4251-8b2e-59211db797de\",\"type\":\"LogAxis\"},{\"attributes\":{\"callback\":null,\"end\":0.01,\"start\":1020},\"id\":\"615d0cfd-8056-4e56-a8aa-16f87b486e9b\",\"type\":\"Range1d\"},{\"attributes\":{\"callback\":null,\"end\":0.01,\"start\":1020},\"id\":\"1e362743-7cf5-4b96-b7f1-9dc83c84fa6d\",\"type\":\"Range1d\"},{\"attributes\":{\"callback\":null,\"end\":0.33167964139999995,\"start\":-0.1640955814},\"id\":\"4bb980ff-84f4-40d7-85b8-236b2a11713a\",\"type\":\"Range1d\"},{\"attributes\":{\"dimension\":1,\"plot\":{\"id\":\"137cbb5d-468a-4727-a384-16e094f11af4\",\"subtype\":\"Figure\",\"type\":\"Plot\"},\"ticker\":{\"id\":\"4bc0e909-3e76-4e1e-aaf4-819c8c37180f\",\"type\":\"BasicTicker\"}},\"id\":\"cf768218-4278-49c6-8a06-368cb40c7403\",\"type\":\"Grid\"},{\"attributes\":{\"axis_label\":\"cooling rate [K/day]\",\"formatter\":{\"id\":\"d998338c-2c9f-485d-a607-c96be3a3ad6e\",\"type\":\"BasicTickFormatter\"},\"plot\":{\"id\":\"96829b58-3594-41f8-9650-acd231bebced\",\"subtype\":\"Figure\",\"type\":\"Plot\"},\"ticker\":{\"id\":\"dcc172f3-d257-46c4-9497-3ce3c22de401\",\"type\":\"BasicTicker\"}},\"id\":\"9741f71b-95f1-46f8-9963-d979209b3c5c\",\"type\":\"LinearAxis\"},{\"attributes\":{\"num_minor_ticks\":10},\"id\":\"baf10eac-c8df-4020-979b-1d811e6c1c2a\",\"type\":\"LogTicker\"},{\"attributes\":{\"dimension\":1,\"plot\":{\"id\":\"96829b58-3594-41f8-9650-acd231bebced\",\"subtype\":\"Figure\",\"type\":\"Plot\"},\"ticker\":{\"id\":\"baf10eac-c8df-4020-979b-1d811e6c1c2a\",\"type\":\"LogTicker\"}},\"id\":\"5d43aaa2-55e4-4e75-9d91-16986b9b15d2\",\"type\":\"Grid\"},{\"attributes\":{},\"id\":\"dcc172f3-d257-46c4-9497-3ce3c22de401\",\"type\":\"BasicTicker\"},{\"attributes\":{\"plot\":{\"id\":\"96829b58-3594-41f8-9650-acd231bebced\",\"subtype\":\"Figure\",\"type\":\"Plot\"},\"ticker\":{\"id\":\"dcc172f3-d257-46c4-9497-3ce3c22de401\",\"type\":\"BasicTicker\"}},\"id\":\"f2fedfcf-8036-4496-ae28-119fc3281a44\",\"type\":\"Grid\"},{\"attributes\":{\"source\":{\"id\":\"f95f960a-0266-42dd-855d-4da2424a8b56\",\"type\":\"ColumnDataSource\"}},\"id\":\"ac04b746-35e2-468f-8bc0-cf62273de4a1\",\"type\":\"CDSView\"},{\"attributes\":{\"line_alpha\":0.1,\"line_color\":\"#1f77b4\",\"line_dash\":[6],\"line_width\":5,\"x\":{\"field\":\"x\"},\"y\":{\"field\":\"y\"}},\"id\":\"287ea8e0-806d-4235-b393-e5686fe1b431\",\"type\":\"Line\"},{\"attributes\":{},\"id\":\"20bc1375-eb39-4025-9174-b8be37243ef3\",\"type\":\"WheelZoomTool\"},{\"attributes\":{},\"id\":\"b5b7d835-dffc-46a7-b5f3-5dcfd2278f56\",\"type\":\"SaveTool\"},{\"attributes\":{},\"id\":\"4bc0e909-3e76-4e1e-aaf4-819c8c37180f\",\"type\":\"BasicTicker\"},{\"attributes\":{\"callback\":null,\"data\":{\"x\":{\"__ndarray__\":\"YdrJEVqIw7/w2LpvA2vDv1V6ZYp6HMO//g7ud5rWwr/BXAqOD4PCv27XMehvPsK/p3fVk/P/wb9TX/wF/svBv4QwGgiZqsG/iKu8Y3Khwb+vGyCybLvBvyMQlCfJCcK/ZnWb9HOcwr9ui9xcBJPDvxwjzAaTE8S/C50d/FBHwr9ZpGCdl9G7v9lJxdHp1LC/WjR1sMnUjb++d7mKRq6nP6hhI35x6L4//7JraSpwzD+HzhuSYLPUP9WH7dkLgNI/gXSNyr6UxT9LmnZSw7u4P1fKo9sWf68/YqpOk5OTpT+tSGS2QligPzhXV5WvKZs/+ZuclwB/lj+rDi+5bymRP3WW9b3T4Io/VJwjCCMAhz+QJCpx8MGAPy4lSq/ecW8/VKorLNC6Vj+puNK0iWhLP9vc2Zv/m1C/Nhz68+Bkab+ZD/l532Mwv1qSYDR6VZM/VYsnpSiDqD858olaHvevP0crjouBkbE/gEetUMvRtD8n9PnQUPW4PzoLCun0QLw/hKc9WEdUvj+0WbVlvKS/PwKBD7fNScA/zc3nHSRmwD/OjXce91/AP90PBbIEGcA/nriaqlnDvj+yILbOYai8P5YxxMqEYbo/E8zz+3WXuD9mU2HN0Ju1P40hfu19OrI/CErwJMhwrj/ID8MnIp6pP9rjzV3i5qU/bSlAYmbuoj+3Cr6EYiKhPzBJO8/5A6E/lKs5TpXboj/KFEAvusykP4ZbeROApaM/48VdiXfTnT/KJ7whhiGTP5A4vlXSU4c/ttTHC7wYfz+N6B6n2Hh8PysN2cWMu74/\",\"dtype\":\"float64\",\"shape\":[75]},\"y\":{\"__ndarray__\":\"GhExyth1ND/Sv8nbtpRIP2vylNV0PVE/aTum7souWD/At0SJ8fVgPw3Iuahxymc/MSNhhJWvcD/bTfBN02d3P2zb5nxnaoA/CD5h5MAGhz8NmeH1TyaQP+zrCsc9p5Y/LbKd76fGnz/bLW5ISEmmPww9YvTcQq8/JV2OstnstT8Er5Y7M8G+P0c+r3jqkcU/5h99k6ZBzj88bCIzFzjVP4enV8oyxN0//yH99nXg5D8qOpLLf0jtP5kqGJXUifQ/c9cS8kHP/D+/DpwzojQEQIEmwoanVwxA4lgXt9HgE0BSSZ2AJuIbQAMJih9jjiNA5q4l5INuK0AwTKYKRj0zQNv5fmq8/DpAaCJseHrtQkB/+zpwzoxKQM3MzMzMeFJAZmZmZmZqWEAAAAAAAFxeQM3MzMzMJmJAmpmZmZkfZUBmZmZmZhhoQDMzMzMzEWtAAAAAAAAKbkBmZmZmZoFwQM3MzMzM/XFAMzMzMzN6c0CamZmZmfZ0QAAAAAAAc3ZAZmZmZmbvd0DNzMzMzGt5QDMzMzMz6HpAmpmZmZlkfEAAAAAAAOF9QGZmZmZmXX9AZmZmZuZsgECamZmZGSuBQM3MzMxM6YFAAAAAAICngkAzMzMzs2WDQGZmZmbmI4RAmpmZmRnihEDNzMzMTKCFQAAAAACAXoZAMzMzM7Mch0BmZmZm5tqHQJqZmZkZmYhAzczMzExXiUAAAAAAgBWKQDMzMzOz04pAZmZmZuaRi0CamZmZGVCMQM3MzMxMDo1AAAAAAIDMjUAzMzMzs4qOQGZmZmbmSI9A\",\"dtype\":\"float64\",\"shape\":[75]}},\"selected\":{\"id\":\"e92bac6f-1a70-4f5b-9f7b-47cb9350d6e7\",\"type\":\"Selection\"},\"selection_policy\":{\"id\":\"d81c9e0d-4470-43f7-82e3-def9028e6343\",\"type\":\"UnionRenderers\"}},\"id\":\"f3a3a663-1901-4e11-9c92-422440896957\",\"type\":\"ColumnDataSource\"},{\"attributes\":{\"line_alpha\":0.6,\"line_color\":\"#e41a1c\",\"line_dash\":[6],\"line_width\":5,\"x\":{\"field\":\"x\"},\"y\":{\"field\":\"y\"}},\"id\":\"fa0626d4-9dae-444a-b142-4b8418122758\",\"type\":\"Line\"},{\"attributes\":{\"callback\":null,\"data\":{\"x\":{\"__ndarray__\":\"meoTir7MxL/0/AZ5f7TEvwVa9C33csS/ODYS00stxL8J9C6D1ujDvzY5neByp8O/jtWccjtqw79jf7gvkDXDv59Bv8ZgC8O/pb7Jwhn0wr8+Qd6C1/TCv/x/avYfHcO/WOSV8957w786It+l1CXEvzCwllTQYcS/HpHn4aF7wr/9Gw8RkmC8v03/lFXRUrG/uY7eYfSLj79EZkUM7/2nPxWLACM/Tb8/v1VL+K1vzD8GBnvZl2jUP3usz4vJEdI/pafhvoLyxD+Ltm9dTXi4P0V0ao9gqK8/CJ1eyVjkpD9oBiG7M1yePwu/ikKBLZk/EKEmB6eWlT/hR4vssK2QP8CnINzw/Yk/TxY9PsHIhj9m9TbIMN+APw+EN+5MXWw/tYv6NDxkSD/ely446W43P8V1toZlOlO/voOYNXyFaL86epjxQy/1vvbcp4IIc5Q/zs+Oze7GqT+VXmabxdKtP+dcCyzgG7A/0koDOvGntT9ShdyY4My6P2SPcUGNrb0/Z2iXyjbLvj/w7J9l5bC/P04hX1uip8A/1elA1lMrwT9ZxCyL9GjBP/LxZJLs7MA/kxay41Slvz9L1MGwsmy8P1MnDSbfG7k/Lt3bL8qstj/oLe6kXYOzPxhundhztLA/YCVrSVGrrD/iEO7x6YGoP6sAy4n3laQ/N9fnbCwhoj8Cqj6rWj+ePz68rxYUEJ8/OBzaI3tUoD+a/Nc46R2jPwlPkvVuCKI/V9D7mVYXmz86/8UfhAGRP4dlz4DjO4Q/vz78Ncdkej9JYZALvWt4P+y3nyFWXr4/\",\"dtype\":\"float64\",\"shape\":[75]},\"y\":{\"__ndarray__\":\"S/O/Q+51ND/Sv8nbtpRIP2vylNV0PVE/aTum7souWD/At0SJ8fVgPw3Iuahxymc/MSNhhJWvcD/bTfBN02d3P2zb5nxnaoA/CD5h5MAGhz8NmeH1TyaQP+zrCsc9p5Y/LbKd76fGnz/bLW5ISEmmPww9YvTcQq8/JV2OstnstT8Er5Y7M8G+P0c+r3jqkcU/5h99k6ZBzj88bCIzFzjVP4enV8oyxN0//yH99nXg5D8qOpLLf0jtP5kqGJXUifQ/c9cS8kHP/D+/DpwzojQEQIEmwoanVwxA4lgXt9HgE0BSSZ2AJuIbQAMJih9jjiNA5q4l5INuK0AwTKYKRj0zQNv5fmq8/DpAaCJseHrtQkB/+zpwzoxKQM3MzMzMeFJAZmZmZmZqWEAAAAAAAFxeQM3MzMzMJmJAmpmZmZkfZUBmZmZmZhhoQDMzMzMzEWtAAAAAAAAKbkBmZmZmZoFwQM3MzMzM/XFAMzMzMzN6c0CamZmZmfZ0QAAAAAAAc3ZAZmZmZmbvd0DNzMzMzGt5QDMzMzMz6HpAmpmZmZlkfEAAAAAAAOF9QGZmZmZmXX9AZmZmZuZsgECamZmZGSuBQM3MzMxM6YFAAAAAAICngkAzMzMzs2WDQGZmZmbmI4RAmpmZmRnihEDNzMzMTKCFQAAAAACAXoZAMzMzM7Mch0BmZmZm5tqHQJqZmZkZmYhAzczMzExXiUAAAAAAgBWKQDMzMzOz04pAZmZmZuaRi0CamZmZGVCMQM3MzMxMDo1AAAAAAIDMjUAzMzMzs4qOQGZmZmbmSI9A\",\"dtype\":\"float64\",\"shape\":[75]}},\"selected\":{\"id\":\"b90e7df8-46c0-4b28-8d0e-b36d9366556c\",\"type\":\"Selection\"},\"selection_policy\":{\"id\":\"fdfed140-f82a-4efd-b403-9ea048a1e402\",\"type\":\"UnionRenderers\"}},\"id\":\"d3a8777d-573f-42ff-9179-b8aa1f278ff4\",\"type\":\"ColumnDataSource\"},{\"attributes\":{},\"id\":\"e7959fc7-a3e3-4f42-9122-f5b46710f159\",\"type\":\"ResetTool\"},{\"attributes\":{\"overlay\":{\"id\":\"f3eff031-98ff-406a-8682-8146aef9b4cd\",\"type\":\"BoxAnnotation\"}},\"id\":\"b5ad2591-79a0-4de9-9092-064801008332\",\"type\":\"BoxZoomTool\"},{\"attributes\":{\"below\":[{\"id\":\"5e623cac-bfc1-450c-8007-1f1481262663\",\"type\":\"LinearAxis\"}],\"left\":[{\"id\":\"f06dfe7e-52a6-49ca-9bb5-bdd75cdbe144\",\"type\":\"LinearAxis\"}],\"plot_height\":500,\"plot_width\":400,\"renderers\":[{\"id\":\"5e623cac-bfc1-450c-8007-1f1481262663\",\"type\":\"LinearAxis\"},{\"id\":\"28c5a300-2a5a-4c47-a46f-7f7ee581bbe4\",\"type\":\"Grid\"},{\"id\":\"f06dfe7e-52a6-49ca-9bb5-bdd75cdbe144\",\"type\":\"LinearAxis\"},{\"id\":\"cf768218-4278-49c6-8a06-368cb40c7403\",\"type\":\"Grid\"},{\"id\":\"870b1778-eba6-42a1-a42f-f529f633c473\",\"type\":\"BoxAnnotation\"},{\"id\":\"04e922d5-94b1-496b-82fb-adafa7bb69b4\",\"type\":\"GlyphRenderer\"},{\"id\":\"a45d6a62-94f1-4d1e-abcd-c9b50415d629\",\"type\":\"GlyphRenderer\"},{\"id\":\"dd678a2d-5398-4374-a07d-1be32435e446\",\"type\":\"GlyphRenderer\"},{\"id\":\"592c0ba3-948c-43e3-93d2-a8f203d23f0d\",\"type\":\"GlyphRenderer\"},{\"id\":\"fcd4bc5c-939f-4270-84a4-90ddf344e5ea\",\"type\":\"GlyphRenderer\"}],\"title\":{\"id\":\"b571cf2b-570f-47ba-9421-7bbca9a7a9eb\",\"type\":\"Title\"},\"toolbar\":{\"id\":\"84c735b6-ceb5-4735-9928-f48ea1a1fb15\",\"type\":\"Toolbar\"},\"toolbar_location\":null,\"x_range\":{\"id\":\"35e9b6c2-b7b1-402e-b9d0-71079454c1de\",\"type\":\"Range1d\"},\"x_scale\":{\"id\":\"62c2c177-ab19-4fcf-96df-d1a0bf77cc7a\",\"type\":\"LinearScale\"},\"y_range\":{\"id\":\"1e362743-7cf5-4b96-b7f1-9dc83c84fa6d\",\"type\":\"Range1d\"},\"y_scale\":{\"id\":\"11833a18-8f97-4990-917b-7bdf5415cedd\",\"type\":\"LinearScale\"}},\"id\":\"137cbb5d-468a-4727-a384-16e094f11af4\",\"subtype\":\"Figure\",\"type\":\"Plot\"},{\"attributes\":{\"axis_label\":\"pressure [mb]\",\"formatter\":{\"id\":\"aa7ab2bc-5b20-4a7a-9f4b-b41daa589e2d\",\"type\":\"BasicTickFormatter\"},\"plot\":{\"id\":\"137cbb5d-468a-4727-a384-16e094f11af4\",\"subtype\":\"Figure\",\"type\":\"Plot\"},\"ticker\":{\"id\":\"4bc0e909-3e76-4e1e-aaf4-819c8c37180f\",\"type\":\"BasicTicker\"}},\"id\":\"f06dfe7e-52a6-49ca-9bb5-bdd75cdbe144\",\"type\":\"LinearAxis\"},{\"attributes\":{\"callback\":null,\"data\":{\"x\":{\"__ndarray__\":\"YdrJEVqIw7/w2LpvA2vDv1V6ZYp6HMO//g7ud5rWwr/BXAqOD4PCv27XMehvPsK/p3fVk/P/wb9TX/wF/svBv4QwGgiZqsG/iKu8Y3Khwb+vGyCybLvBvyMQlCfJCcK/ZnWb9HOcwr9ui9xcBJPDvxwjzAaTE8S/C50d/FBHwr9ZpGCdl9G7v9lJxdHp1LC/WjR1sMnUjb++d7mKRq6nP6hhI35x6L4//7JraSpwzD+HzhuSYLPUP9WH7dkLgNI/gXSNyr6UxT9LmnZSw7u4P1fKo9sWf68/YqpOk5OTpT+tSGS2QligPzhXV5WvKZs/+ZuclwB/lj+rDi+5bymRP3WW9b3T4Io/VJwjCCMAhz+QJCpx8MGAPy4lSq/ecW8/VKorLNC6Vj+puNK0iWhLP9vc2Zv/m1C/Nhz68+Bkab+ZD/l532Mwv1qSYDR6VZM/VYsnpSiDqD858olaHvevP0crjouBkbE/gEetUMvRtD8n9PnQUPW4PzoLCun0QLw/hKc9WEdUvj+0WbVlvKS/PwKBD7fNScA/zc3nHSRmwD/OjXce91/AP90PBbIEGcA/nriaqlnDvj+yILbOYai8P5YxxMqEYbo/E8zz+3WXuD9mU2HN0Ju1P40hfu19OrI/CErwJMhwrj/ID8MnIp6pP9rjzV3i5qU/bSlAYmbuoj+3Cr6EYiKhPzBJO8/5A6E/lKs5TpXboj/KFEAvusykP4ZbeROApaM/48VdiXfTnT/KJ7whhiGTP5A4vlXSU4c/ttTHC7wYfz+N6B6n2Hh8PysN2cWMu74/\",\"dtype\":\"float64\",\"shape\":[75]},\"y\":{\"__ndarray__\":\"GhExyth1ND/Sv8nbtpRIP2vylNV0PVE/aTum7souWD/At0SJ8fVgPw3Iuahxymc/MSNhhJWvcD/bTfBN02d3P2zb5nxnaoA/CD5h5MAGhz8NmeH1TyaQP+zrCsc9p5Y/LbKd76fGnz/bLW5ISEmmPww9YvTcQq8/JV2OstnstT8Er5Y7M8G+P0c+r3jqkcU/5h99k6ZBzj88bCIzFzjVP4enV8oyxN0//yH99nXg5D8qOpLLf0jtP5kqGJXUifQ/c9cS8kHP/D+/DpwzojQEQIEmwoanVwxA4lgXt9HgE0BSSZ2AJuIbQAMJih9jjiNA5q4l5INuK0AwTKYKRj0zQNv5fmq8/DpAaCJseHrtQkB/+zpwzoxKQM3MzMzMeFJAZmZmZmZqWEAAAAAAAFxeQM3MzMzMJmJAmpmZmZkfZUBmZmZmZhhoQDMzMzMzEWtAAAAAAAAKbkBmZmZmZoFwQM3MzMzM/XFAMzMzMzN6c0CamZmZmfZ0QAAAAAAAc3ZAZmZmZmbvd0DNzMzMzGt5QDMzMzMz6HpAmpmZmZlkfEAAAAAAAOF9QGZmZmZmXX9AZmZmZuZsgECamZmZGSuBQM3MzMxM6YFAAAAAAICngkAzMzMzs2WDQGZmZmbmI4RAmpmZmRnihEDNzMzMTKCFQAAAAACAXoZAMzMzM7Mch0BmZmZm5tqHQJqZmZkZmYhAzczMzExXiUAAAAAAgBWKQDMzMzOz04pAZmZmZuaRi0CamZmZGVCMQM3MzMxMDo1AAAAAAIDMjUAzMzMzs4qOQGZmZmbmSI9A\",\"dtype\":\"float64\",\"shape\":[75]}},\"selected\":{\"id\":\"2a35440a-ef18-4ea3-8b1d-ab1b6f549a93\",\"type\":\"Selection\"},\"selection_policy\":{\"id\":\"4fc66396-926a-48d6-a4c7-a0daad8fde24\",\"type\":\"UnionRenderers\"}},\"id\":\"97b63725-f0a6-459e-841f-412da20cecff\",\"type\":\"ColumnDataSource\"},{\"attributes\":{},\"id\":\"fb859449-d458-4a69-82f9-af6e2223fcc0\",\"type\":\"HelpTool\"},{\"attributes\":{\"children\":[{\"id\":\"dad5c08e-de25-41b6-9ea7-b5a5935ec493\",\"type\":\"Row\"}]},\"id\":\"1d9749ef-1659-48fc-9995-4ad5c7172ef2\",\"type\":\"Column\"},{\"attributes\":{\"data_source\":{\"id\":\"3c2aa9f7-43d6-4f3f-9e74-abfcd88b7df6\",\"type\":\"ColumnDataSource\"},\"glyph\":{\"id\":\"63e870b0-3dbf-4665-bfb9-ffc4dc6d0948\",\"type\":\"Circle\"},\"hover_glyph\":null,\"muted_glyph\":null,\"nonselection_glyph\":{\"id\":\"1b070d09-78f8-49b6-8616-c1816d47f2b0\",\"type\":\"Circle\"},\"selection_glyph\":null,\"view\":{\"id\":\"17fadc6a-6513-42b2-b841-18818a0cf2db\",\"type\":\"CDSView\"}},\"id\":\"a45d6a62-94f1-4d1e-abcd-c9b50415d629\",\"type\":\"GlyphRenderer\"},{\"attributes\":{\"plot\":{\"id\":\"137cbb5d-468a-4727-a384-16e094f11af4\",\"subtype\":\"Figure\",\"type\":\"Plot\"},\"ticker\":{\"id\":\"e5791f57-ca07-499b-acf0-73200b654347\",\"type\":\"BasicTicker\"}},\"id\":\"28c5a300-2a5a-4c47-a46f-7f7ee581bbe4\",\"type\":\"Grid\"},{\"attributes\":{},\"id\":\"11833a18-8f97-4990-917b-7bdf5415cedd\",\"type\":\"LinearScale\"}],\"root_ids\":[\"5f660cae-fb7d-40c4-bff2-f518856dab64\"]},\"title\":\"Bokeh Application\",\"version\":\"0.12.16\"}};\n",
       "  var render_items = [{\"docid\":\"1ada8de8-63b4-468f-bcfb-db024ca5fb58\",\"elementid\":\"b0c8f50f-1c10-48a3-9c8c-ffe8f50267d1\",\"modelid\":\"5f660cae-fb7d-40c4-bff2-f518856dab64\"}];\n",
       "  root.Bokeh.embed.embed_items_notebook(docs_json, render_items);\n",
       "\n",
       "  }\n",
       "  if (root.Bokeh !== undefined) {\n",
       "    embed_document(root);\n",
       "  } else {\n",
       "    var attempts = 0;\n",
       "    var timer = setInterval(function(root) {\n",
       "      if (root.Bokeh !== undefined) {\n",
       "        embed_document(root);\n",
       "        clearInterval(timer);\n",
       "      }\n",
       "      attempts++;\n",
       "      if (attempts > 100) {\n",
       "        console.log(\"Bokeh: ERROR: Unable to run BokehJS code because BokehJS library is missing\")\n",
       "        clearInterval(timer);\n",
       "      }\n",
       "    }, 10, root)\n",
       "  }\n",
       "})(window);"
      ],
      "application/vnd.bokehjs_exec.v0+json": ""
     },
     "metadata": {
      "application/vnd.bokehjs_exec.v0+json": {
       "id": "5f660cae-fb7d-40c4-bff2-f518856dab64"
      }
     },
     "output_type": "display_data"
    },
    {
     "name": "stdout",
     "output_type": "stream",
     "text": [
      "FIGURE. Cooling rate profiles.\n"
     ]
    },
    {
     "data": {
      "text/html": [
       "<a id=\"Flux_Comparison\"></a>"
      ],
      "text/plain": [
       "<IPython.core.display.HTML object>"
      ]
     },
     "metadata": {},
     "output_type": "display_data"
    },
    {
     "data": {
      "text/markdown": [
       "# Flux Comparison"
      ],
      "text/plain": [
       "<IPython.core.display.Markdown object>"
      ]
     },
     "metadata": {},
     "output_type": "display_data"
    },
    {
     "data": {
      "text/html": [
       "<div>\n",
       "<style scoped>\n",
       "    .dataframe tbody tr th:only-of-type {\n",
       "        vertical-align: middle;\n",
       "    }\n",
       "\n",
       "    .dataframe tbody tr th {\n",
       "        vertical-align: top;\n",
       "    }\n",
       "\n",
       "    .dataframe thead th {\n",
       "        text-align: right;\n",
       "    }\n",
       "</style>\n",
       "<table border=\"1\" class=\"dataframe\">\n",
       "  <thead>\n",
       "    <tr style=\"text-align: right;\">\n",
       "      <th></th>\n",
       "      <th></th>\n",
       "      <th>flug</th>\n",
       "      <th>fldg</th>\n",
       "      <th>fnetg</th>\n",
       "    </tr>\n",
       "    <tr>\n",
       "      <th>pressure</th>\n",
       "      <th>level</th>\n",
       "      <th></th>\n",
       "      <th></th>\n",
       "      <th></th>\n",
       "    </tr>\n",
       "  </thead>\n",
       "  <tbody>\n",
       "    <tr>\n",
       "      <th>0.0000</th>\n",
       "      <th>1</th>\n",
       "      <td>-7.292049</td>\n",
       "      <td>0.000000</td>\n",
       "      <td>-7.292049</td>\n",
       "    </tr>\n",
       "    <tr>\n",
       "      <th>1.0685</th>\n",
       "      <th>24</th>\n",
       "      <td>-7.301339</td>\n",
       "      <td>0.026841</td>\n",
       "      <td>-7.274498</td>\n",
       "    </tr>\n",
       "    <tr>\n",
       "      <th>1013.0000</th>\n",
       "      <th>76</th>\n",
       "      <td>-30.729616</td>\n",
       "      <td>30.372401</td>\n",
       "      <td>-0.357216</td>\n",
       "    </tr>\n",
       "  </tbody>\n",
       "</table>\n",
       "</div>"
      ],
      "text/plain": [
       "                      flug       fldg     fnetg\n",
       "pressure  level                                \n",
       "0.0000    1      -7.292049   0.000000 -7.292049\n",
       "1.0685    24     -7.301339   0.026841 -7.274498\n",
       "1013.0000 76    -30.729616  30.372401 -0.357216"
      ]
     },
     "metadata": {},
     "output_type": "display_data"
    },
    {
     "name": "stdout",
     "output_type": "stream",
     "text": [
      "Table. Fluxes. CRD\n"
     ]
    },
    {
     "data": {
      "text/html": [
       "<div>\n",
       "<style scoped>\n",
       "    .dataframe tbody tr th:only-of-type {\n",
       "        vertical-align: middle;\n",
       "    }\n",
       "\n",
       "    .dataframe tbody tr th {\n",
       "        vertical-align: top;\n",
       "    }\n",
       "\n",
       "    .dataframe thead th {\n",
       "        text-align: right;\n",
       "    }\n",
       "</style>\n",
       "<table border=\"1\" class=\"dataframe\">\n",
       "  <thead>\n",
       "    <tr style=\"text-align: right;\">\n",
       "      <th></th>\n",
       "      <th></th>\n",
       "      <th>flug</th>\n",
       "      <th>fldg</th>\n",
       "      <th>fnetg</th>\n",
       "    </tr>\n",
       "    <tr>\n",
       "      <th>pressure</th>\n",
       "      <th>level</th>\n",
       "      <th></th>\n",
       "      <th></th>\n",
       "      <th></th>\n",
       "    </tr>\n",
       "  </thead>\n",
       "  <tbody>\n",
       "    <tr>\n",
       "      <th>0.0000</th>\n",
       "      <th>1</th>\n",
       "      <td>-7.246267</td>\n",
       "      <td>0.000000</td>\n",
       "      <td>-7.246267</td>\n",
       "    </tr>\n",
       "    <tr>\n",
       "      <th>1.0685</th>\n",
       "      <th>24</th>\n",
       "      <td>-7.255041</td>\n",
       "      <td>0.026288</td>\n",
       "      <td>-7.228753</td>\n",
       "    </tr>\n",
       "    <tr>\n",
       "      <th>1013.0000</th>\n",
       "      <th>76</th>\n",
       "      <td>-30.729617</td>\n",
       "      <td>30.383724</td>\n",
       "      <td>-0.345892</td>\n",
       "    </tr>\n",
       "  </tbody>\n",
       "</table>\n",
       "</div>"
      ],
      "text/plain": [
       "                      flug       fldg     fnetg\n",
       "pressure  level                                \n",
       "0.0000    1      -7.246267   0.000000 -7.246267\n",
       "1.0685    24     -7.255041   0.026288 -7.228753\n",
       "1013.0000 76    -30.729617  30.383724 -0.345892"
      ]
     },
     "metadata": {},
     "output_type": "display_data"
    },
    {
     "name": "stdout",
     "output_type": "stream",
     "text": [
      "Table. Fluxes. WGT igg=10 wgt_flux=1\n"
     ]
    },
    {
     "data": {
      "text/html": [
       "<div>\n",
       "<style scoped>\n",
       "    .dataframe tbody tr th:only-of-type {\n",
       "        vertical-align: middle;\n",
       "    }\n",
       "\n",
       "    .dataframe tbody tr th {\n",
       "        vertical-align: top;\n",
       "    }\n",
       "\n",
       "    .dataframe thead th {\n",
       "        text-align: right;\n",
       "    }\n",
       "</style>\n",
       "<table border=\"1\" class=\"dataframe\">\n",
       "  <thead>\n",
       "    <tr style=\"text-align: right;\">\n",
       "      <th></th>\n",
       "      <th></th>\n",
       "      <th>flug</th>\n",
       "      <th>fldg</th>\n",
       "      <th>fnetg</th>\n",
       "    </tr>\n",
       "    <tr>\n",
       "      <th>pressure</th>\n",
       "      <th>level</th>\n",
       "      <th></th>\n",
       "      <th></th>\n",
       "      <th></th>\n",
       "    </tr>\n",
       "  </thead>\n",
       "  <tbody>\n",
       "    <tr>\n",
       "      <th>1.000000e-08</th>\n",
       "      <th>1</th>\n",
       "      <td>-7.160886</td>\n",
       "      <td>1.842825e-09</td>\n",
       "      <td>-7.160886</td>\n",
       "    </tr>\n",
       "    <tr>\n",
       "      <th>1.068500e+00</th>\n",
       "      <th>24</th>\n",
       "      <td>-7.169442</td>\n",
       "      <td>2.585436e-02</td>\n",
       "      <td>-7.143588</td>\n",
       "    </tr>\n",
       "    <tr>\n",
       "      <th>1.013000e+03</th>\n",
       "      <th>76</th>\n",
       "      <td>-30.729620</td>\n",
       "      <td>3.038693e+01</td>\n",
       "      <td>-0.342692</td>\n",
       "    </tr>\n",
       "  </tbody>\n",
       "</table>\n",
       "</div>"
      ],
      "text/plain": [
       "                         flug          fldg     fnetg\n",
       "pressure     level                                   \n",
       "1.000000e-08 1      -7.160886  1.842825e-09 -7.160886\n",
       "1.068500e+00 24     -7.169442  2.585436e-02 -7.143588\n",
       "1.013000e+03 76    -30.729620  3.038693e+01 -0.342692"
      ]
     },
     "metadata": {},
     "output_type": "display_data"
    },
    {
     "name": "stdout",
     "output_type": "stream",
     "text": [
      "Table. Fluxes. CLIRAD\n"
     ]
    },
    {
     "data": {
      "text/html": [
       "<div>\n",
       "<style scoped>\n",
       "    .dataframe tbody tr th:only-of-type {\n",
       "        vertical-align: middle;\n",
       "    }\n",
       "\n",
       "    .dataframe tbody tr th {\n",
       "        vertical-align: top;\n",
       "    }\n",
       "\n",
       "    .dataframe thead th {\n",
       "        text-align: right;\n",
       "    }\n",
       "</style>\n",
       "<table border=\"1\" class=\"dataframe\">\n",
       "  <thead>\n",
       "    <tr style=\"text-align: right;\">\n",
       "      <th></th>\n",
       "      <th></th>\n",
       "      <th>flug</th>\n",
       "      <th>fldg</th>\n",
       "      <th>fnetg</th>\n",
       "    </tr>\n",
       "    <tr>\n",
       "      <th>pressure</th>\n",
       "      <th>level</th>\n",
       "      <th></th>\n",
       "      <th></th>\n",
       "      <th></th>\n",
       "    </tr>\n",
       "  </thead>\n",
       "  <tbody>\n",
       "    <tr>\n",
       "      <th>0.0000</th>\n",
       "      <th>1</th>\n",
       "      <td>4.578202e-02</td>\n",
       "      <td>0.000000</td>\n",
       "      <td>0.045782</td>\n",
       "    </tr>\n",
       "    <tr>\n",
       "      <th>1.0685</th>\n",
       "      <th>24</th>\n",
       "      <td>4.629803e-02</td>\n",
       "      <td>-0.000553</td>\n",
       "      <td>0.045746</td>\n",
       "    </tr>\n",
       "    <tr>\n",
       "      <th>1013.0000</th>\n",
       "      <th>76</th>\n",
       "      <td>-5.090000e-07</td>\n",
       "      <td>0.011323</td>\n",
       "      <td>0.011324</td>\n",
       "    </tr>\n",
       "  </tbody>\n",
       "</table>\n",
       "</div>"
      ],
      "text/plain": [
       "                         flug      fldg     fnetg\n",
       "pressure  level                                  \n",
       "0.0000    1      4.578202e-02  0.000000  0.045782\n",
       "1.0685    24     4.629803e-02 -0.000553  0.045746\n",
       "1013.0000 76    -5.090000e-07  0.011323  0.011324"
      ]
     },
     "metadata": {},
     "output_type": "display_data"
    },
    {
     "name": "stdout",
     "output_type": "stream",
     "text": [
      "Table. Fluxes. (WGT igg=10 wgt_flux=1) - (CRD)\n"
     ]
    },
    {
     "data": {
      "text/html": [
       "<div>\n",
       "<style scoped>\n",
       "    .dataframe tbody tr th:only-of-type {\n",
       "        vertical-align: middle;\n",
       "    }\n",
       "\n",
       "    .dataframe tbody tr th {\n",
       "        vertical-align: top;\n",
       "    }\n",
       "\n",
       "    .dataframe thead th {\n",
       "        text-align: right;\n",
       "    }\n",
       "</style>\n",
       "<table border=\"1\" class=\"dataframe\">\n",
       "  <thead>\n",
       "    <tr style=\"text-align: right;\">\n",
       "      <th></th>\n",
       "      <th></th>\n",
       "      <th>flug</th>\n",
       "      <th>fldg</th>\n",
       "      <th>fnetg</th>\n",
       "    </tr>\n",
       "    <tr>\n",
       "      <th>pressure</th>\n",
       "      <th>level</th>\n",
       "      <th></th>\n",
       "      <th></th>\n",
       "      <th></th>\n",
       "    </tr>\n",
       "  </thead>\n",
       "  <tbody>\n",
       "    <tr>\n",
       "      <th>0.0000</th>\n",
       "      <th>1</th>\n",
       "      <td>0.131163</td>\n",
       "      <td>1.842825e-09</td>\n",
       "      <td>0.131163</td>\n",
       "    </tr>\n",
       "    <tr>\n",
       "      <th>1.0685</th>\n",
       "      <th>24</th>\n",
       "      <td>0.131896</td>\n",
       "      <td>-9.863030e-04</td>\n",
       "      <td>0.130910</td>\n",
       "    </tr>\n",
       "    <tr>\n",
       "      <th>1013.0000</th>\n",
       "      <th>76</th>\n",
       "      <td>-0.000004</td>\n",
       "      <td>1.452700e-02</td>\n",
       "      <td>0.014523</td>\n",
       "    </tr>\n",
       "  </tbody>\n",
       "</table>\n",
       "</div>"
      ],
      "text/plain": [
       "                     flug          fldg     fnetg\n",
       "pressure  level                                  \n",
       "0.0000    1      0.131163  1.842825e-09  0.131163\n",
       "1.0685    24     0.131896 -9.863030e-04  0.130910\n",
       "1013.0000 76    -0.000004  1.452700e-02  0.014523"
      ]
     },
     "metadata": {},
     "output_type": "display_data"
    },
    {
     "name": "stdout",
     "output_type": "stream",
     "text": [
      "Table. Fluxes. (CLIRAD) - (CRD)\n"
     ]
    },
    {
     "data": {
      "text/html": [
       "<a id=\"Best-fit_Parameters\"></a>"
      ],
      "text/plain": [
       "<IPython.core.display.HTML object>"
      ]
     },
     "metadata": {},
     "output_type": "display_data"
    },
    {
     "data": {
      "text/markdown": [
       "# Best-fit Parameters"
      ],
      "text/plain": [
       "<IPython.core.display.Markdown object>"
      ]
     },
     "metadata": {},
     "output_type": "display_data"
    },
    {
     "name": "stdout",
     "output_type": "stream",
     "text": [
      "Best-fit values for each (gas, band)\n",
      "------------------------------------\n",
      "o h2o band8\n",
      "  atmpro = mls\n",
      "  band = 8\n",
      "  commitnumber = a06b618\n",
      "  conc = None\n",
      "  dv = 0.001\n",
      "  klin = 0\n",
      "  molecule = h2o\n",
      "  ng_adju = [0, -1, 0]\n",
      "  ng_refs = [3, 2, 3]\n",
      "  nv = 1000\n",
      "  option_compute_btable = 0\n",
      "  option_compute_ktable = 1\n",
      "  option_wgt_flux = 1\n",
      "  option_wgt_k = 1\n",
      "  ref_pts = [(1, 250), (10, 250), (500, 250)]\n",
      "  tsfc = 294\n",
      "  vmax = 1900\n",
      "  vmin = 1380\n",
      "  w_diffuse = [(1.66, 1.66, 1.66), (1.66, 1.66), (1.66, 1.66, 1.66)]\n",
      "  wgt = [(0.55, 0.55, 0.85), (0.85, 0.85), (0, 0.3, 0.55)]\n"
     ]
    }
   ],
   "source": [
    "script()"
   ]
  },
  {
   "cell_type": "code",
   "execution_count": 13,
   "metadata": {
    "collapsed": true
   },
   "outputs": [
    {
     "data": {
      "text/html": [
       "<script>\n",
       "code_show=true; \n",
       "function code_toggle() {\n",
       " if (code_show){\n",
       " $('div.input').hide();\n",
       " } else {\n",
       " $('div.input').show();\n",
       " }\n",
       " code_show = !code_show\n",
       "} \n",
       "$( document ).ready(code_toggle);\n",
       "</script>\n",
       "<form action=\"javascript:code_toggle()\"><input type=\"submit\" value=\"Click here to toggle on/off the raw code.\"></form>"
      ],
      "text/plain": [
       "<IPython.core.display.HTML object>"
      ]
     },
     "execution_count": 13,
     "metadata": {},
     "output_type": "execute_result"
    }
   ],
   "source": [
    "display.HTML('''<script>\n",
    "code_show=true; \n",
    "function code_toggle() {\n",
    " if (code_show){\n",
    " $('div.input').hide();\n",
    " } else {\n",
    " $('div.input').show();\n",
    " }\n",
    " code_show = !code_show\n",
    "} \n",
    "$( document ).ready(code_toggle);\n",
    "</script>\n",
    "<form action=\"javascript:code_toggle()\"><input type=\"submit\" value=\"Click here to toggle on/off the raw code.\"></form>''')"
   ]
  }
 ],
 "metadata": {
  "kernelspec": {
   "display_name": "Python 3",
   "language": "python",
   "name": "python3"
  },
  "language_info": {
   "codemirror_mode": {
    "name": "ipython",
    "version": 3
   },
   "file_extension": ".py",
   "mimetype": "text/x-python",
   "name": "python",
   "nbconvert_exporter": "python",
   "pygments_lexer": "ipython3",
   "version": "3.6.1"
  }
 },
 "nbformat": 4,
 "nbformat_minor": 2
}
