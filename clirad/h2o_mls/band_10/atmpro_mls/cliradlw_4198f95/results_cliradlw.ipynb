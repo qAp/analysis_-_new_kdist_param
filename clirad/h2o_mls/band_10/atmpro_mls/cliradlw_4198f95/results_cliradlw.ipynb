{
 "cells": [
  {
   "cell_type": "code",
   "execution_count": 1,
   "metadata": {
    "collapsed": true
   },
   "outputs": [],
   "source": [
    "%matplotlib inline\n",
    "import os\n",
    "import re\n",
    "import io\n",
    "import itertools\n",
    "import pprint\n",
    "\n",
    "from bokeh.io import output_notebook, show\n",
    "from bokeh.layouts import gridplot\n",
    "from bokeh.plotting import figure\n",
    "from bokeh.models import Range1d, Legend\n",
    "from bokeh.palettes import all_palettes\n",
    "\n",
    "import matplotlib\n",
    "import matplotlib.pyplot as plt\n",
    "import numpy as np\n",
    "import pandas as pd\n",
    "import xarray as xr\n",
    "\n",
    "import climatools.lblnew.bestfit_params as bestfits\n",
    "from climatools.lblnew import setup_bestfit, setup_overlap\n",
    "import climatools.lblnew.pipeline as pipe_lblnew\n",
    "import climatools.cliradlw.setup as setup_cliradlw\n",
    "import climatools.cliradlw.pipeline as pipe_cliradlw\n",
    "\n",
    "import climatools.html.html as climahtml\n",
    "from climatools.lblnew.dataio import *\n",
    "from climatools.plot.plot import *\n",
    "\n",
    "\n",
    "import IPython.display as display"
   ]
  },
  {
   "cell_type": "code",
   "execution_count": 2,
   "metadata": {
    "collapsed": true
   },
   "outputs": [],
   "source": [
    "%run param.py"
   ]
  },
  {
   "cell_type": "code",
   "execution_count": 3,
   "metadata": {
    "collapsed": true
   },
   "outputs": [],
   "source": [
    "def load_output_file(path_csv):\n",
    "    '''\n",
    "    Load lblnew output .csv file to xarray.Dataset\n",
    "    \n",
    "    Parameters\n",
    "    ----------\n",
    "    path_csv: str\n",
    "              Path to the .csv file to be loaded.\n",
    "    ds: xarray.Dataset\n",
    "        Data in the input file in the form of an xarray.Dataset.\n",
    "    '''\n",
    "    toindex = ['band', 'pressure', 'igg', 'g']    \n",
    "    df = pd.read_csv(path_csv, sep=r'\\s+')\n",
    "    df = df.set_index([i for i in toindex if i in df.columns])\n",
    "    df = df.rename(columns={'sfu': 'flug',\n",
    "                            'sfd': 'fldg',\n",
    "                            'fnet': 'fnetg',\n",
    "                            'coolr': 'coolrg'})\n",
    "    ds = xr.Dataset.from_dataframe(df)\n",
    "\n",
    "    for l in ('level', 'layer'):\n",
    "        if l in ds.data_vars:\n",
    "            if len(ds[l].dims) > 1:\n",
    "                surface = {d: 0 for d in ds.dims if d != 'pressure'}\n",
    "                coord_level = ds[l][surface]\n",
    "                ds.coords[l] = ('pressure', coord_level)\n",
    "            else:\n",
    "                ds.coords[l] = ('pressure', ds[l])\n",
    "    \n",
    "    return ds"
   ]
  },
  {
   "cell_type": "code",
   "execution_count": 4,
   "metadata": {
    "collapsed": true
   },
   "outputs": [],
   "source": [
    "def lblnew_setup(param=None):\n",
    "    if 'ng_refs' in param:\n",
    "        return {'setup': setup_bestfit,\n",
    "                'fname_flux_crd': 'output_flux.dat',\n",
    "                'fname_cool_crd': 'output_coolr.dat',\n",
    "                'fname_flux_wgt': 'output_wfluxg.dat',\n",
    "                'fname_cool_wgt': 'output_wcoolrg.dat'}\n",
    "    else:\n",
    "        return {'setup': setup_overlap,\n",
    "                'fname_flux_crd': 'output_flux.dat',\n",
    "                'fname_cool_crd': 'output_coolr.dat',\n",
    "                'fname_flux_wgt': 'output_wflux.dat',\n",
    "                'fname_cool_wgt': 'output_wcoolr.dat'}\n",
    "\n",
    "    \n",
    "def load_lblnew_data(param):\n",
    "    \n",
    "    fname_dsname = [('fname_flux_crd', 'ds_flux_crd'),\n",
    "                    ('fname_cool_crd', 'ds_cool_crd'),\n",
    "                    ('fname_flux_wgt', 'ds_flux_wgt'),\n",
    "                    ('fname_cool_wgt', 'ds_cool_wgt')]\n",
    "    \n",
    "    d = lblnew_setup(param)\n",
    "    dir_fortran = pipe_lblnew.get_dir_case(param, setup=d['setup'])\n",
    "    \n",
    "    data_dict = {}\n",
    "    for fname, dsname in fname_dsname:\n",
    "        fpath = os.path.join(dir_fortran, d[fname])\n",
    "        data_dict[dsname] = load_output_file(fpath)\n",
    "    return data_dict\n",
    "    \n",
    "\n",
    "    \n",
    "    "
   ]
  },
  {
   "cell_type": "code",
   "execution_count": 5,
   "metadata": {
    "collapsed": true
   },
   "outputs": [],
   "source": [
    "d = load_lblnew_data(PARAM_LBLNEW)\n",
    "\n",
    "DS_FLUX_CRD = d['ds_flux_crd']\n",
    "DS_COOL_CRD = d['ds_cool_crd']\n",
    "DS_FLUX_WGT = d['ds_flux_wgt']\n",
    "DS_COOL_WGT = d['ds_cool_wgt']"
   ]
  },
  {
   "cell_type": "code",
   "execution_count": 6,
   "metadata": {
    "collapsed": true
   },
   "outputs": [],
   "source": [
    "DIR_FORTRAN = pipe_cliradlw.get_fortran_dir(PARAM, \n",
    "                                            setup=setup_cliradlw)\n",
    "\n",
    "PATH_FLUX = os.path.join(DIR_FORTRAN, 'output_flux.dat')\n",
    "PATH_COOL = os.path.join(DIR_FORTRAN, 'output_coolr.dat')\n",
    "\n",
    "DS_FLUX = load_output_file(PATH_FLUX)\n",
    "DS_COOL = load_output_file(PATH_COOL)"
   ]
  },
  {
   "cell_type": "code",
   "execution_count": 7,
   "metadata": {
    "collapsed": true
   },
   "outputs": [
    {
     "data": {
      "text/html": [
       "\n",
       "    <div class=\"bk-root\">\n",
       "        <a href=\"https://bokeh.pydata.org\" target=\"_blank\" class=\"bk-logo bk-logo-small bk-logo-notebook\"></a>\n",
       "        <span id=\"a251467b-13bc-4891-ac3d-d8fd9c98c146\">Loading BokehJS ...</span>\n",
       "    </div>"
      ]
     },
     "metadata": {},
     "output_type": "display_data"
    },
    {
     "data": {
      "application/javascript": [
       "\n",
       "(function(root) {\n",
       "  function now() {\n",
       "    return new Date();\n",
       "  }\n",
       "\n",
       "  var force = true;\n",
       "\n",
       "  if (typeof (root._bokeh_onload_callbacks) === \"undefined\" || force === true) {\n",
       "    root._bokeh_onload_callbacks = [];\n",
       "    root._bokeh_is_loading = undefined;\n",
       "  }\n",
       "\n",
       "  var JS_MIME_TYPE = 'application/javascript';\n",
       "  var HTML_MIME_TYPE = 'text/html';\n",
       "  var EXEC_MIME_TYPE = 'application/vnd.bokehjs_exec.v0+json';\n",
       "  var CLASS_NAME = 'output_bokeh rendered_html';\n",
       "\n",
       "  /**\n",
       "   * Render data to the DOM node\n",
       "   */\n",
       "  function render(props, node) {\n",
       "    var script = document.createElement(\"script\");\n",
       "    node.appendChild(script);\n",
       "  }\n",
       "\n",
       "  /**\n",
       "   * Handle when an output is cleared or removed\n",
       "   */\n",
       "  function handleClearOutput(event, handle) {\n",
       "    var cell = handle.cell;\n",
       "\n",
       "    var id = cell.output_area._bokeh_element_id;\n",
       "    var server_id = cell.output_area._bokeh_server_id;\n",
       "    // Clean up Bokeh references\n",
       "    if (id !== undefined) {\n",
       "      Bokeh.index[id].model.document.clear();\n",
       "      delete Bokeh.index[id];\n",
       "    }\n",
       "\n",
       "    if (server_id !== undefined) {\n",
       "      // Clean up Bokeh references\n",
       "      var cmd = \"from bokeh.io.state import curstate; print(curstate().uuid_to_server['\" + server_id + \"'].get_sessions()[0].document.roots[0]._id)\";\n",
       "      cell.notebook.kernel.execute(cmd, {\n",
       "        iopub: {\n",
       "          output: function(msg) {\n",
       "            var element_id = msg.content.text.trim();\n",
       "            Bokeh.index[element_id].model.document.clear();\n",
       "            delete Bokeh.index[element_id];\n",
       "          }\n",
       "        }\n",
       "      });\n",
       "      // Destroy server and session\n",
       "      var cmd = \"import bokeh.io.notebook as ion; ion.destroy_server('\" + server_id + \"')\";\n",
       "      cell.notebook.kernel.execute(cmd);\n",
       "    }\n",
       "  }\n",
       "\n",
       "  /**\n",
       "   * Handle when a new output is added\n",
       "   */\n",
       "  function handleAddOutput(event, handle) {\n",
       "    var output_area = handle.output_area;\n",
       "    var output = handle.output;\n",
       "\n",
       "    // limit handleAddOutput to display_data with EXEC_MIME_TYPE content only\n",
       "    if ((output.output_type != \"display_data\") || (!output.data.hasOwnProperty(EXEC_MIME_TYPE))) {\n",
       "      return\n",
       "    }\n",
       "\n",
       "    var toinsert = output_area.element.find(\".\" + CLASS_NAME.split(' ')[0]);\n",
       "\n",
       "    if (output.metadata[EXEC_MIME_TYPE][\"id\"] !== undefined) {\n",
       "      toinsert[toinsert.length - 1].firstChild.textContent = output.data[JS_MIME_TYPE];\n",
       "      // store reference to embed id on output_area\n",
       "      output_area._bokeh_element_id = output.metadata[EXEC_MIME_TYPE][\"id\"];\n",
       "    }\n",
       "    if (output.metadata[EXEC_MIME_TYPE][\"server_id\"] !== undefined) {\n",
       "      var bk_div = document.createElement(\"div\");\n",
       "      bk_div.innerHTML = output.data[HTML_MIME_TYPE];\n",
       "      var script_attrs = bk_div.children[0].attributes;\n",
       "      for (var i = 0; i < script_attrs.length; i++) {\n",
       "        toinsert[toinsert.length - 1].firstChild.setAttribute(script_attrs[i].name, script_attrs[i].value);\n",
       "      }\n",
       "      // store reference to server id on output_area\n",
       "      output_area._bokeh_server_id = output.metadata[EXEC_MIME_TYPE][\"server_id\"];\n",
       "    }\n",
       "  }\n",
       "\n",
       "  function register_renderer(events, OutputArea) {\n",
       "\n",
       "    function append_mime(data, metadata, element) {\n",
       "      // create a DOM node to render to\n",
       "      var toinsert = this.create_output_subarea(\n",
       "        metadata,\n",
       "        CLASS_NAME,\n",
       "        EXEC_MIME_TYPE\n",
       "      );\n",
       "      this.keyboard_manager.register_events(toinsert);\n",
       "      // Render to node\n",
       "      var props = {data: data, metadata: metadata[EXEC_MIME_TYPE]};\n",
       "      render(props, toinsert[toinsert.length - 1]);\n",
       "      element.append(toinsert);\n",
       "      return toinsert\n",
       "    }\n",
       "\n",
       "    /* Handle when an output is cleared or removed */\n",
       "    events.on('clear_output.CodeCell', handleClearOutput);\n",
       "    events.on('delete.Cell', handleClearOutput);\n",
       "\n",
       "    /* Handle when a new output is added */\n",
       "    events.on('output_added.OutputArea', handleAddOutput);\n",
       "\n",
       "    /**\n",
       "     * Register the mime type and append_mime function with output_area\n",
       "     */\n",
       "    OutputArea.prototype.register_mime_type(EXEC_MIME_TYPE, append_mime, {\n",
       "      /* Is output safe? */\n",
       "      safe: true,\n",
       "      /* Index of renderer in `output_area.display_order` */\n",
       "      index: 0\n",
       "    });\n",
       "  }\n",
       "\n",
       "  // register the mime type if in Jupyter Notebook environment and previously unregistered\n",
       "  if (root.Jupyter !== undefined) {\n",
       "    var events = require('base/js/events');\n",
       "    var OutputArea = require('notebook/js/outputarea').OutputArea;\n",
       "\n",
       "    if (OutputArea.prototype.mime_types().indexOf(EXEC_MIME_TYPE) == -1) {\n",
       "      register_renderer(events, OutputArea);\n",
       "    }\n",
       "  }\n",
       "\n",
       "  \n",
       "  if (typeof (root._bokeh_timeout) === \"undefined\" || force === true) {\n",
       "    root._bokeh_timeout = Date.now() + 5000;\n",
       "    root._bokeh_failed_load = false;\n",
       "  }\n",
       "\n",
       "  var NB_LOAD_WARNING = {'data': {'text/html':\n",
       "     \"<div style='background-color: #fdd'>\\n\"+\n",
       "     \"<p>\\n\"+\n",
       "     \"BokehJS does not appear to have successfully loaded. If loading BokehJS from CDN, this \\n\"+\n",
       "     \"may be due to a slow or bad network connection. Possible fixes:\\n\"+\n",
       "     \"</p>\\n\"+\n",
       "     \"<ul>\\n\"+\n",
       "     \"<li>re-rerun `output_notebook()` to attempt to load from CDN again, or</li>\\n\"+\n",
       "     \"<li>use INLINE resources instead, as so:</li>\\n\"+\n",
       "     \"</ul>\\n\"+\n",
       "     \"<code>\\n\"+\n",
       "     \"from bokeh.resources import INLINE\\n\"+\n",
       "     \"output_notebook(resources=INLINE)\\n\"+\n",
       "     \"</code>\\n\"+\n",
       "     \"</div>\"}};\n",
       "\n",
       "  function display_loaded() {\n",
       "    var el = document.getElementById(\"a251467b-13bc-4891-ac3d-d8fd9c98c146\");\n",
       "    if (el != null) {\n",
       "      el.textContent = \"BokehJS is loading...\";\n",
       "    }\n",
       "    if (root.Bokeh !== undefined) {\n",
       "      if (el != null) {\n",
       "        el.textContent = \"BokehJS \" + root.Bokeh.version + \" successfully loaded.\";\n",
       "      }\n",
       "    } else if (Date.now() < root._bokeh_timeout) {\n",
       "      setTimeout(display_loaded, 100)\n",
       "    }\n",
       "  }\n",
       "\n",
       "\n",
       "  function run_callbacks() {\n",
       "    try {\n",
       "      root._bokeh_onload_callbacks.forEach(function(callback) { callback() });\n",
       "    }\n",
       "    finally {\n",
       "      delete root._bokeh_onload_callbacks\n",
       "    }\n",
       "    console.info(\"Bokeh: all callbacks have finished\");\n",
       "  }\n",
       "\n",
       "  function load_libs(js_urls, callback) {\n",
       "    root._bokeh_onload_callbacks.push(callback);\n",
       "    if (root._bokeh_is_loading > 0) {\n",
       "      console.log(\"Bokeh: BokehJS is being loaded, scheduling callback at\", now());\n",
       "      return null;\n",
       "    }\n",
       "    if (js_urls == null || js_urls.length === 0) {\n",
       "      run_callbacks();\n",
       "      return null;\n",
       "    }\n",
       "    console.log(\"Bokeh: BokehJS not loaded, scheduling load and callback at\", now());\n",
       "    root._bokeh_is_loading = js_urls.length;\n",
       "    for (var i = 0; i < js_urls.length; i++) {\n",
       "      var url = js_urls[i];\n",
       "      var s = document.createElement('script');\n",
       "      s.src = url;\n",
       "      s.async = false;\n",
       "      s.onreadystatechange = s.onload = function() {\n",
       "        root._bokeh_is_loading--;\n",
       "        if (root._bokeh_is_loading === 0) {\n",
       "          console.log(\"Bokeh: all BokehJS libraries loaded\");\n",
       "          run_callbacks()\n",
       "        }\n",
       "      };\n",
       "      s.onerror = function() {\n",
       "        console.warn(\"failed to load library \" + url);\n",
       "      };\n",
       "      console.log(\"Bokeh: injecting script tag for BokehJS library: \", url);\n",
       "      document.getElementsByTagName(\"head\")[0].appendChild(s);\n",
       "    }\n",
       "  };var element = document.getElementById(\"a251467b-13bc-4891-ac3d-d8fd9c98c146\");\n",
       "  if (element == null) {\n",
       "    console.log(\"Bokeh: ERROR: autoload.js configured with elementid 'a251467b-13bc-4891-ac3d-d8fd9c98c146' but no matching script tag was found. \")\n",
       "    return false;\n",
       "  }\n",
       "\n",
       "  var js_urls = [\"https://cdn.pydata.org/bokeh/release/bokeh-0.12.16.min.js\", \"https://cdn.pydata.org/bokeh/release/bokeh-widgets-0.12.16.min.js\", \"https://cdn.pydata.org/bokeh/release/bokeh-tables-0.12.16.min.js\", \"https://cdn.pydata.org/bokeh/release/bokeh-gl-0.12.16.min.js\"];\n",
       "\n",
       "  var inline_js = [\n",
       "    function(Bokeh) {\n",
       "      Bokeh.set_log_level(\"info\");\n",
       "    },\n",
       "    \n",
       "    function(Bokeh) {\n",
       "      \n",
       "    },\n",
       "    function(Bokeh) {\n",
       "      console.log(\"Bokeh: injecting CSS: https://cdn.pydata.org/bokeh/release/bokeh-0.12.16.min.css\");\n",
       "      Bokeh.embed.inject_css(\"https://cdn.pydata.org/bokeh/release/bokeh-0.12.16.min.css\");\n",
       "      console.log(\"Bokeh: injecting CSS: https://cdn.pydata.org/bokeh/release/bokeh-widgets-0.12.16.min.css\");\n",
       "      Bokeh.embed.inject_css(\"https://cdn.pydata.org/bokeh/release/bokeh-widgets-0.12.16.min.css\");\n",
       "      console.log(\"Bokeh: injecting CSS: https://cdn.pydata.org/bokeh/release/bokeh-tables-0.12.16.min.css\");\n",
       "      Bokeh.embed.inject_css(\"https://cdn.pydata.org/bokeh/release/bokeh-tables-0.12.16.min.css\");\n",
       "    }\n",
       "  ];\n",
       "\n",
       "  function run_inline_js() {\n",
       "    \n",
       "    if ((root.Bokeh !== undefined) || (force === true)) {\n",
       "      for (var i = 0; i < inline_js.length; i++) {\n",
       "        inline_js[i].call(root, root.Bokeh);\n",
       "      }if (force === true) {\n",
       "        display_loaded();\n",
       "      }} else if (Date.now() < root._bokeh_timeout) {\n",
       "      setTimeout(run_inline_js, 100);\n",
       "    } else if (!root._bokeh_failed_load) {\n",
       "      console.log(\"Bokeh: BokehJS failed to load within specified timeout.\");\n",
       "      root._bokeh_failed_load = true;\n",
       "    } else if (force !== true) {\n",
       "      var cell = $(document.getElementById(\"a251467b-13bc-4891-ac3d-d8fd9c98c146\")).parents('.cell').data().cell;\n",
       "      cell.output_area.append_execute_result(NB_LOAD_WARNING)\n",
       "    }\n",
       "\n",
       "  }\n",
       "\n",
       "  if (root._bokeh_is_loading === 0) {\n",
       "    console.log(\"Bokeh: BokehJS loaded, going straight to plotting\");\n",
       "    run_inline_js();\n",
       "  } else {\n",
       "    load_libs(js_urls, function() {\n",
       "      console.log(\"Bokeh: BokehJS plotting callback run at\", now());\n",
       "      run_inline_js();\n",
       "    });\n",
       "  }\n",
       "}(window));"
      ],
      "application/vnd.bokehjs_load.v0+json": "\n(function(root) {\n  function now() {\n    return new Date();\n  }\n\n  var force = true;\n\n  if (typeof (root._bokeh_onload_callbacks) === \"undefined\" || force === true) {\n    root._bokeh_onload_callbacks = [];\n    root._bokeh_is_loading = undefined;\n  }\n\n  \n\n  \n  if (typeof (root._bokeh_timeout) === \"undefined\" || force === true) {\n    root._bokeh_timeout = Date.now() + 5000;\n    root._bokeh_failed_load = false;\n  }\n\n  var NB_LOAD_WARNING = {'data': {'text/html':\n     \"<div style='background-color: #fdd'>\\n\"+\n     \"<p>\\n\"+\n     \"BokehJS does not appear to have successfully loaded. If loading BokehJS from CDN, this \\n\"+\n     \"may be due to a slow or bad network connection. Possible fixes:\\n\"+\n     \"</p>\\n\"+\n     \"<ul>\\n\"+\n     \"<li>re-rerun `output_notebook()` to attempt to load from CDN again, or</li>\\n\"+\n     \"<li>use INLINE resources instead, as so:</li>\\n\"+\n     \"</ul>\\n\"+\n     \"<code>\\n\"+\n     \"from bokeh.resources import INLINE\\n\"+\n     \"output_notebook(resources=INLINE)\\n\"+\n     \"</code>\\n\"+\n     \"</div>\"}};\n\n  function display_loaded() {\n    var el = document.getElementById(\"a251467b-13bc-4891-ac3d-d8fd9c98c146\");\n    if (el != null) {\n      el.textContent = \"BokehJS is loading...\";\n    }\n    if (root.Bokeh !== undefined) {\n      if (el != null) {\n        el.textContent = \"BokehJS \" + root.Bokeh.version + \" successfully loaded.\";\n      }\n    } else if (Date.now() < root._bokeh_timeout) {\n      setTimeout(display_loaded, 100)\n    }\n  }\n\n\n  function run_callbacks() {\n    try {\n      root._bokeh_onload_callbacks.forEach(function(callback) { callback() });\n    }\n    finally {\n      delete root._bokeh_onload_callbacks\n    }\n    console.info(\"Bokeh: all callbacks have finished\");\n  }\n\n  function load_libs(js_urls, callback) {\n    root._bokeh_onload_callbacks.push(callback);\n    if (root._bokeh_is_loading > 0) {\n      console.log(\"Bokeh: BokehJS is being loaded, scheduling callback at\", now());\n      return null;\n    }\n    if (js_urls == null || js_urls.length === 0) {\n      run_callbacks();\n      return null;\n    }\n    console.log(\"Bokeh: BokehJS not loaded, scheduling load and callback at\", now());\n    root._bokeh_is_loading = js_urls.length;\n    for (var i = 0; i < js_urls.length; i++) {\n      var url = js_urls[i];\n      var s = document.createElement('script');\n      s.src = url;\n      s.async = false;\n      s.onreadystatechange = s.onload = function() {\n        root._bokeh_is_loading--;\n        if (root._bokeh_is_loading === 0) {\n          console.log(\"Bokeh: all BokehJS libraries loaded\");\n          run_callbacks()\n        }\n      };\n      s.onerror = function() {\n        console.warn(\"failed to load library \" + url);\n      };\n      console.log(\"Bokeh: injecting script tag for BokehJS library: \", url);\n      document.getElementsByTagName(\"head\")[0].appendChild(s);\n    }\n  };var element = document.getElementById(\"a251467b-13bc-4891-ac3d-d8fd9c98c146\");\n  if (element == null) {\n    console.log(\"Bokeh: ERROR: autoload.js configured with elementid 'a251467b-13bc-4891-ac3d-d8fd9c98c146' but no matching script tag was found. \")\n    return false;\n  }\n\n  var js_urls = [\"https://cdn.pydata.org/bokeh/release/bokeh-0.12.16.min.js\", \"https://cdn.pydata.org/bokeh/release/bokeh-widgets-0.12.16.min.js\", \"https://cdn.pydata.org/bokeh/release/bokeh-tables-0.12.16.min.js\", \"https://cdn.pydata.org/bokeh/release/bokeh-gl-0.12.16.min.js\"];\n\n  var inline_js = [\n    function(Bokeh) {\n      Bokeh.set_log_level(\"info\");\n    },\n    \n    function(Bokeh) {\n      \n    },\n    function(Bokeh) {\n      console.log(\"Bokeh: injecting CSS: https://cdn.pydata.org/bokeh/release/bokeh-0.12.16.min.css\");\n      Bokeh.embed.inject_css(\"https://cdn.pydata.org/bokeh/release/bokeh-0.12.16.min.css\");\n      console.log(\"Bokeh: injecting CSS: https://cdn.pydata.org/bokeh/release/bokeh-widgets-0.12.16.min.css\");\n      Bokeh.embed.inject_css(\"https://cdn.pydata.org/bokeh/release/bokeh-widgets-0.12.16.min.css\");\n      console.log(\"Bokeh: injecting CSS: https://cdn.pydata.org/bokeh/release/bokeh-tables-0.12.16.min.css\");\n      Bokeh.embed.inject_css(\"https://cdn.pydata.org/bokeh/release/bokeh-tables-0.12.16.min.css\");\n    }\n  ];\n\n  function run_inline_js() {\n    \n    if ((root.Bokeh !== undefined) || (force === true)) {\n      for (var i = 0; i < inline_js.length; i++) {\n        inline_js[i].call(root, root.Bokeh);\n      }if (force === true) {\n        display_loaded();\n      }} else if (Date.now() < root._bokeh_timeout) {\n      setTimeout(run_inline_js, 100);\n    } else if (!root._bokeh_failed_load) {\n      console.log(\"Bokeh: BokehJS failed to load within specified timeout.\");\n      root._bokeh_failed_load = true;\n    } else if (force !== true) {\n      var cell = $(document.getElementById(\"a251467b-13bc-4891-ac3d-d8fd9c98c146\")).parents('.cell').data().cell;\n      cell.output_area.append_execute_result(NB_LOAD_WARNING)\n    }\n\n  }\n\n  if (root._bokeh_is_loading === 0) {\n    console.log(\"Bokeh: BokehJS loaded, going straight to plotting\");\n    run_inline_js();\n  } else {\n    load_libs(js_urls, function() {\n      console.log(\"Bokeh: BokehJS plotting callback run at\", now());\n      run_inline_js();\n    });\n  }\n}(window));"
     },
     "metadata": {},
     "output_type": "display_data"
    }
   ],
   "source": [
    "output_notebook()"
   ]
  },
  {
   "cell_type": "code",
   "execution_count": 8,
   "metadata": {
    "collapsed": true
   },
   "outputs": [],
   "source": [
    "def fmt_cool(ds_in):\n",
    "    ds = ds_in.copy(deep=True)\n",
    "    if 'igg' in ds.dims:\n",
    "        ds = ds.sel(igg=1)\n",
    "\n",
    "    if 'g' in ds.dims:\n",
    "        ds = ds.sum('g')\n",
    "            \n",
    "    if 'band' in ds.dims:\n",
    "        try:\n",
    "            ds = ds.squeeze('band')\n",
    "        except ValueError:\n",
    "            ds = ds.sum('band')\n",
    "                \n",
    "    return ds['coolrg']\n",
    "\n",
    "\n",
    "def pltdata_cooling_1(ds_cool=None,\n",
    "                      ds_cool_crd=None, ds_cool_wgt=None):\n",
    "    \n",
    "\n",
    "\n",
    "    colors = all_palettes['Set1'][4]\n",
    "    data = [{'label': 'CLIRAD `coolr_bands`',\n",
    "             'srs': fmt_cool(ds_cool),\n",
    "             'line_dash': 'dashed', 'line_width': 5,\n",
    "             'color': colors[0], 'alpha': .6},\n",
    "            {'label': 'CRD',\n",
    "             'srs': fmt_cool(ds_cool_crd),\n",
    "             'line_dash': 'solid', 'line_width': 1.5,\n",
    "             'marker': 'circle', 'marker_size': 5,\n",
    "             'color': colors[2], 'alpha': 1,},\n",
    "            {'label': 'WGT igg=10 wgt_flux=2',\n",
    "             'srs': fmt_cool(ds_cool_wgt),\n",
    "             'line_dash': 'solid', 'line_width': 3,\n",
    "             'marker': 'square', 'marker_size': 5,\n",
    "             'color': colors[3], 'alpha': .6}]\n",
    "    return data\n",
    "\n",
    "\n",
    "def nice_xlims(pltdata=None, prange=None):\n",
    "    \n",
    "    def get_slice(srs):\n",
    "        return srs.sel(pressure=slice(*prange))\n",
    "    \n",
    "    srss = [d['srs'] for d in pltdata]\n",
    "    vmin = min([get_slice(srs).min() for srs in srss])\n",
    "    vmax = max([get_slice(srs).max() for srs in srss])\n",
    "    dv = (vmax - vmin) * .01\n",
    "    return float(vmin - dv), float(vmax + dv)\n",
    "    \n",
    "\n",
    "def plt_cooling_bokeh(pltdata=None):\n",
    "    '''\n",
    "    Plot a list of cooling rate profiles using bokeh.\n",
    "    '''\n",
    "    ymin = 1e-2 \n",
    "    ymax = 1020 \n",
    "        \n",
    "    p1 = figure(title=\"Linear pressure scale\", \n",
    "                plot_width=400)        \n",
    "    xmin, xmax = nice_xlims(pltdata, prange=(50, 1050))\n",
    "    for d in pltdata:\n",
    "        if 'marker' in d:\n",
    "            getattr(p1, d['marker'])(d['srs'].values, \n",
    "                    d['srs'].coords['pressure'].values,\n",
    "                    color=d['color'], alpha=.7)\n",
    "        p1.line(d['srs'].values, \n",
    "                d['srs'].coords['pressure'].values,\n",
    "                color=d['color'], alpha=d['alpha'], \n",
    "                line_width=d['line_width'], line_dash=d['line_dash'])\n",
    "    \n",
    "    p1.y_range = Range1d(ymax, ymin)\n",
    "    p1.yaxis.axis_label = 'pressure [mb]'   \n",
    "    p1.x_range = Range1d(xmin, xmax)\n",
    "    p1.xaxis.axis_label = 'cooling rate [K/day]'\n",
    "            \n",
    "    p2 = figure(title='Log pressure scale', y_axis_type='log',\n",
    "                plot_width=560)\n",
    "    xmin, xmax = nice_xlims(pltdata, prange=(.01, 200))\n",
    "    \n",
    "    rs = []\n",
    "    for d in pltdata:\n",
    "        rd = []\n",
    "        if 'marker' in d:\n",
    "            r_mark = getattr(p2, d['marker'])(d['srs'].values, \n",
    "                        d['srs'].coords['pressure'].values,\n",
    "                        color=d['color'], alpha=.7)\n",
    "            rd.append(r_mark)\n",
    "        r_line = p2.line(d['srs'].values, \n",
    "                    d['srs'].coords['pressure'].values,\n",
    "                    color=d['color'], alpha=d['alpha'], \n",
    "                    line_width=d['line_width'], line_dash=d['line_dash'])\n",
    "        rd.append(r_line)\n",
    "      \n",
    "        rs.append(rd)\n",
    "        \n",
    "    p2.y_range = Range1d(ymax, ymin)  \n",
    "    p2.yaxis.axis_label = 'pressure [mb]'\n",
    "    \n",
    "    p2.x_range = Range1d(xmin, xmax)\n",
    "    p2.xaxis.axis_label = 'cooling rate [K/day]'\n",
    "    \n",
    "    items = [(d['label'], r) for r, d in zip(rs, pltdata)]\n",
    "    legend = Legend(items=items, location=(10, -30))\n",
    "    legend.label_text_font_size = '8pt'\n",
    "    \n",
    "    p2.add_layout(legend, 'right')  \n",
    "    \n",
    "    show(gridplot(p1, p2, ncols=2, plot_height=500))\n",
    "    \n",
    "\n",
    "def script_plt_cooling():\n",
    "    pltdata = pltdata_cooling_1(\n",
    "        ds_cool=DS_COOL,\n",
    "        ds_cool_crd=DS_COOL_CRD,\n",
    "        ds_cool_wgt=DS_COOL_WGT)\n",
    "    plt_cooling_bokeh(pltdata=pltdata)\n",
    "    print('''FIGURE. Cooling rate profiles.''')"
   ]
  },
  {
   "cell_type": "code",
   "execution_count": 9,
   "metadata": {
    "collapsed": true
   },
   "outputs": [],
   "source": [
    "def fmt_flux(ds_in):\n",
    "    ds = ds_in.copy(deep=True)\n",
    "    \n",
    "    for l in ('level', 'layer'):\n",
    "        if l in ds.data_vars:\n",
    "            if len(ds[l].dims) > 1:\n",
    "                surface = {d: 0 for d in ds.dims if d != 'pressure'}\n",
    "                coord_level = ds[l][surface]\n",
    "                ds.coords[l] = ('pressure', coord_level)\n",
    "            else:\n",
    "                ds.coords[l] = ('pressure', ds[l])\n",
    "        \n",
    "    ds = ds.isel(pressure=[0, 23, -1])\n",
    "        \n",
    "    if 'igg' in ds.dims:\n",
    "        ds = ds.sel(igg=[1])\n",
    "        ds = ds.squeeze('igg').drop('igg')\n",
    "    \n",
    "    if 'g' in ds.dims:\n",
    "        ds = ds.sum('g')\n",
    "            \n",
    "    if 'band' in ds.dims:\n",
    "        try:\n",
    "            ds = ds.squeeze('band').drop('band')\n",
    "        except ValueError:\n",
    "            ds = ds.sum('band')\n",
    "                \n",
    "    df = ds.to_dataframe()\n",
    "    df = df.set_index('level', append=True)               \n",
    "    return df\n",
    "\n",
    "\n",
    "def tbdata_flux(ds_flux=None, ds_flux_crd=None, ds_flux_wgt=None):\n",
    "    ilevels = [0, 23, -1]\n",
    "            \n",
    "    benchmark = {'label': 'CRD',\n",
    "                 'df': fmt_flux(ds_flux_crd)}\n",
    "    \n",
    "    tbs = [{'label': 'WGT igg=10 wgt_flux=1',\n",
    "            'df': fmt_flux(ds_flux_wgt)},\n",
    "           {'label': 'CLIRAD',\n",
    "            'df': fmt_flux(ds_flux)}]\n",
    "    \n",
    "    data = {'benchmark': benchmark, 'others': tbs}\n",
    "    return data\n",
    "\n",
    "\n",
    "def tb_flux(tbdata=None):\n",
    "    benchmark = tbdata['benchmark']\n",
    "    others = tbdata['others']\n",
    "    \n",
    "    def show_tb(d=None):\n",
    "        display.display(d['df'])\n",
    "        print('Table.', 'Fluxes.', d['label'])\n",
    "        \n",
    "    def show_tbdiff(d0=None, d=None):\n",
    "        df = d['df']\n",
    "        df.index = d0['df'].index\n",
    "        display.display(df - d0['df'])\n",
    "        print('Table.', 'Fluxes.', \n",
    "              '({}) - ({})'.format(d['label'], d0['label']))\n",
    "        \n",
    "    show_tb(benchmark)\n",
    "    for d in others:\n",
    "        show_tb(d)\n",
    "        \n",
    "    for d in others:\n",
    "        show_tbdiff(d=d, d0=benchmark)\n",
    "        \n",
    "        \n",
    "def script_tb_flux():\n",
    "    data = tbdata_flux(ds_flux=DS_FLUX,\n",
    "                       ds_flux_crd=DS_FLUX_CRD,\n",
    "                       ds_flux_wgt=DS_FLUX_WGT)\n",
    "    tb_flux(tbdata=data)"
   ]
  },
  {
   "cell_type": "code",
   "execution_count": 10,
   "metadata": {
    "collapsed": true
   },
   "outputs": [],
   "source": [
    "def band_map():\n",
    "    '''\n",
    "    Maps spectral bands in lblnew to spectral bands in clirad.\n",
    "    '''\n",
    "    lblnew2clirad = {'1': '1',\n",
    "            '2': '2',\n",
    "            '3a': '3',\n",
    "            '3b': '4',\n",
    "            '3c': '5',\n",
    "            '4': '6', \n",
    "            '5': '7',\n",
    "            '6': '8',\n",
    "            '7': '9', \n",
    "            '8': '10',\n",
    "            '9': '11'}\n",
    "    \n",
    "    clirad2lblnew = {clirad: lblnew \n",
    "                     for lblnew, clirad in lblnew2clirad.items()}\n",
    "    return clirad2lblnew\n",
    "\n",
    "\n",
    "def gasbands():\n",
    "    bmap = band_map()\n",
    "    gases = list(PARAM['molecule'].keys())\n",
    "    \n",
    "    bands = [bmap[str(b)] for b in PARAM['band']]\n",
    "    return list(itertools.product(gases, bands))\n",
    "\n",
    "\n",
    "def print_bestfit_params():\n",
    "    print('Best-fit values for each (gas, band)')\n",
    "    print('------------------------------------')\n",
    "    for gas, band in gasbands():\n",
    "        print('o {} band{}'.format(gas, band))\n",
    "        param = bestfits.kdist_params(molecule=gas, band=band)\n",
    "        for name, value in sorted(param.items()):\n",
    "            print(2 * ' ' + '{} = {}'.format(name, value))\n",
    "\n",
    "        \n",
    "def print_input_param():        \n",
    "    for name, value in PARAM.items():\n",
    "        print('{} = {}'.format(name, value))\n",
    "        \n",
    "        \n",
    "def print_lblnew_param():\n",
    "    for name, value in sorted(PARAM_LBLNEW.items()):\n",
    "        print('{} = {}'.format(name, value))\n"
   ]
  },
  {
   "cell_type": "code",
   "execution_count": 11,
   "metadata": {
    "collapsed": true,
    "scrolled": false
   },
   "outputs": [],
   "source": [
    "def show_html(s):\n",
    "    display.display(display.HTML(s))\n",
    "\n",
    "    \n",
    "def show_markdown(s):\n",
    "    display.display(display.Markdown(s))\n",
    "\n",
    "    \n",
    "def script():\n",
    "    \n",
    "    title = '### CLIRAD-LW'\n",
    "    s_input = 'Input Parameters'\n",
    "    s_lblnew_param = 'LBLNEW case compaired against'\n",
    "    s_bestfits = 'Best-fit Parameters'\n",
    "    s_plt_cooling = 'Cooling Rate Profiles'\n",
    "    s_tb_flux = 'Flux Comparison'\n",
    "    \n",
    "    # title\n",
    "    show_markdown('### CLIRAD-LW')\n",
    "    \n",
    "    # TOC\n",
    "    show_markdown('### Table of Contents')\n",
    "    show_html(climahtml.getHTML_hrefanchor(s_input))\n",
    "    show_html(climahtml.getHTML_hrefanchor(s_lblnew_param))\n",
    "    show_html(climahtml.getHTML_hrefanchor(s_plt_cooling))\n",
    "    show_html(climahtml.getHTML_hrefanchor(s_tb_flux))\n",
    "    show_html(climahtml.getHTML_hrefanchor(s_bestfits))\n",
    "    \n",
    "    # Input parameters\n",
    "    show_html(climahtml.getHTML_idanchor(s_input))\n",
    "    show_markdown(climahtml.getMarkdown_sectitle(s_input))\n",
    "    print_input_param()\n",
    "    \n",
    "    # LBLNEW parameters \n",
    "    show_html(climahtml.getHTML_idanchor(s_lblnew_param))\n",
    "    show_markdown(climahtml.getMarkdown_sectitle(s_lblnew_param))\n",
    "    print_lblnew_param()\n",
    "    \n",
    "    # Cooling rate profiles\n",
    "    show_html(climahtml.getHTML_idanchor(s_plt_cooling))\n",
    "    show_markdown(climahtml.getMarkdown_sectitle(s_plt_cooling))\n",
    "    script_plt_cooling()\n",
    "    \n",
    "    # Flux comparison\n",
    "    show_html(climahtml.getHTML_idanchor(s_tb_flux))\n",
    "    show_markdown(climahtml.getMarkdown_sectitle(s_tb_flux))\n",
    "    script_tb_flux()\n",
    "    \n",
    "    # Best-fit values\n",
    "    show_html(climahtml.getHTML_idanchor(s_bestfits))\n",
    "    show_markdown(climahtml.getMarkdown_sectitle(s_bestfits))\n",
    "    print_bestfit_params()\n",
    "   \n",
    "    "
   ]
  },
  {
   "cell_type": "code",
   "execution_count": 12,
   "metadata": {
    "collapsed": true,
    "scrolled": false
   },
   "outputs": [
    {
     "data": {
      "text/markdown": [
       "### CLIRAD-LW"
      ],
      "text/plain": [
       "<IPython.core.display.Markdown object>"
      ]
     },
     "metadata": {},
     "output_type": "display_data"
    },
    {
     "data": {
      "text/markdown": [
       "### Table of Contents"
      ],
      "text/plain": [
       "<IPython.core.display.Markdown object>"
      ]
     },
     "metadata": {},
     "output_type": "display_data"
    },
    {
     "data": {
      "text/html": [
       "<a href=\"#Input_Parameters\">Input Parameters</a>"
      ],
      "text/plain": [
       "<IPython.core.display.HTML object>"
      ]
     },
     "metadata": {},
     "output_type": "display_data"
    },
    {
     "data": {
      "text/html": [
       "<a href=\"#LBLNEW_case_compaired_against\">LBLNEW case compaired against</a>"
      ],
      "text/plain": [
       "<IPython.core.display.HTML object>"
      ]
     },
     "metadata": {},
     "output_type": "display_data"
    },
    {
     "data": {
      "text/html": [
       "<a href=\"#Cooling_Rate_Profiles\">Cooling Rate Profiles</a>"
      ],
      "text/plain": [
       "<IPython.core.display.HTML object>"
      ]
     },
     "metadata": {},
     "output_type": "display_data"
    },
    {
     "data": {
      "text/html": [
       "<a href=\"#Flux_Comparison\">Flux Comparison</a>"
      ],
      "text/plain": [
       "<IPython.core.display.HTML object>"
      ]
     },
     "metadata": {},
     "output_type": "display_data"
    },
    {
     "data": {
      "text/html": [
       "<a href=\"#Best-fit_Parameters\">Best-fit Parameters</a>"
      ],
      "text/plain": [
       "<IPython.core.display.HTML object>"
      ]
     },
     "metadata": {},
     "output_type": "display_data"
    },
    {
     "data": {
      "text/html": [
       "<a id=\"Input_Parameters\"></a>"
      ],
      "text/plain": [
       "<IPython.core.display.HTML object>"
      ]
     },
     "metadata": {},
     "output_type": "display_data"
    },
    {
     "data": {
      "text/markdown": [
       "# Input Parameters"
      ],
      "text/plain": [
       "<IPython.core.display.Markdown object>"
      ]
     },
     "metadata": {},
     "output_type": "display_data"
    },
    {
     "name": "stdout",
     "output_type": "stream",
     "text": [
      "atmpro = mls\n",
      "band = [10]\n",
      "commitnumber = 4198f95\n",
      "molecule = {'h2o': 'atmpro'}\n",
      "tsfc = 294\n"
     ]
    },
    {
     "data": {
      "text/html": [
       "<a id=\"LBLNEW_case_compaired_against\"></a>"
      ],
      "text/plain": [
       "<IPython.core.display.HTML object>"
      ]
     },
     "metadata": {},
     "output_type": "display_data"
    },
    {
     "data": {
      "text/markdown": [
       "# LBLNEW case compaired against"
      ],
      "text/plain": [
       "<IPython.core.display.Markdown object>"
      ]
     },
     "metadata": {},
     "output_type": "display_data"
    },
    {
     "name": "stdout",
     "output_type": "stream",
     "text": [
      "atmpro = mls\n",
      "band = 8\n",
      "commitnumber = 5014a19\n",
      "conc = None\n",
      "dv = 0.001\n",
      "klin = 0\n",
      "molecule = h2o\n",
      "ng_adju = [0, -1, 0]\n",
      "ng_refs = [3, 2, 3]\n",
      "nv = 1000\n",
      "option_compute_btable = 0\n",
      "option_compute_ktable = 0\n",
      "option_wgt_flux = 1\n",
      "option_wgt_k = 1\n",
      "ref_pts = [(1, 250), (10, 250), (500, 250)]\n",
      "tsfc = 294\n",
      "vmax = 1900\n",
      "vmin = 1380\n",
      "w_diffuse = [(1.66, 1.66, 1.66), (1.66, 1.66), (1.66, 1.66, 1.66)]\n",
      "wgt = [(0.55, 0.55, 0.85), (0.85, 0.85), (0, 0.3, 0.55)]\n"
     ]
    },
    {
     "data": {
      "text/html": [
       "<a id=\"Cooling_Rate_Profiles\"></a>"
      ],
      "text/plain": [
       "<IPython.core.display.HTML object>"
      ]
     },
     "metadata": {},
     "output_type": "display_data"
    },
    {
     "data": {
      "text/markdown": [
       "# Cooling Rate Profiles"
      ],
      "text/plain": [
       "<IPython.core.display.Markdown object>"
      ]
     },
     "metadata": {},
     "output_type": "display_data"
    },
    {
     "data": {
      "text/html": [
       "\n",
       "<div class=\"bk-root\">\n",
       "    <div class=\"bk-plotdiv\" id=\"46ee55d4-7f9d-4ca3-bc7d-fd0ff7fec0c1\"></div>\n",
       "</div>"
      ]
     },
     "metadata": {},
     "output_type": "display_data"
    },
    {
     "data": {
      "application/javascript": [
       "(function(root) {\n",
       "  function embed_document(root) {\n",
       "    \n",
       "  var docs_json = {\"bb592362-f98f-49df-9b76-ad08c7cc81f0\":{\"roots\":{\"references\":[{\"attributes\":{},\"id\":\"9652d56b-5fc0-4bcc-a74d-f8dfe4a956eb\",\"type\":\"LinearScale\"},{\"attributes\":{\"callback\":null,\"end\":0.33165576460915225,\"start\":-0.1616840255243823},\"id\":\"e1b56bff-3289-49ff-8c51-32c7f9cc2616\",\"type\":\"Range1d\"},{\"attributes\":{\"bottom_units\":\"screen\",\"fill_alpha\":{\"value\":0.5},\"fill_color\":{\"value\":\"lightgrey\"},\"left_units\":\"screen\",\"level\":\"overlay\",\"line_alpha\":{\"value\":1.0},\"line_color\":{\"value\":\"black\"},\"line_dash\":[4,4],\"line_width\":{\"value\":2},\"plot\":null,\"render_mode\":\"css\",\"right_units\":\"screen\",\"top_units\":\"screen\"},\"id\":\"dddb7262-bc4f-4297-84f5-67a35c216c3e\",\"type\":\"BoxAnnotation\"},{\"attributes\":{},\"id\":\"196c6f7d-5d7e-40e9-9a64-3b0e4341a3d8\",\"type\":\"LinearScale\"},{\"attributes\":{\"data_source\":{\"id\":\"8b8981e9-ac2e-4a7a-b8e4-18f4c2da4584\",\"type\":\"ColumnDataSource\"},\"glyph\":{\"id\":\"435d1696-6bb5-422c-9f3c-21ff30c50dbe\",\"type\":\"Line\"},\"hover_glyph\":null,\"muted_glyph\":null,\"nonselection_glyph\":{\"id\":\"e242a13d-bb41-44b5-ab80-803b49a6bcfc\",\"type\":\"Line\"},\"selection_glyph\":null,\"view\":{\"id\":\"baf5d07d-611f-43c7-958e-dec9d7fcaa89\",\"type\":\"CDSView\"}},\"id\":\"def6cc28-8637-4426-b570-c4128f5eb26d\",\"type\":\"GlyphRenderer\"},{\"attributes\":{},\"id\":\"617fbb75-ffe8-49a2-9144-f83c2715f3d2\",\"type\":\"BasicTicker\"},{\"attributes\":{\"line_alpha\":0.1,\"line_color\":\"#1f77b4\",\"line_dash\":[6],\"line_width\":5,\"x\":{\"field\":\"x\"},\"y\":{\"field\":\"y\"}},\"id\":\"0aa58fc2-09e7-46ba-b8cd-f988996314b3\",\"type\":\"Line\"},{\"attributes\":{\"callback\":null,\"end\":0.13152782740536,\"start\":-0.00443280794136},\"id\":\"7411226e-7372-4466-bc89-fd40b64625b3\",\"type\":\"Range1d\"},{\"attributes\":{\"line_alpha\":0.1,\"line_color\":\"#1f77b4\",\"line_dash\":[6],\"line_width\":5,\"x\":{\"field\":\"x\"},\"y\":{\"field\":\"y\"}},\"id\":\"e242a13d-bb41-44b5-ab80-803b49a6bcfc\",\"type\":\"Line\"},{\"attributes\":{},\"id\":\"1760d720-5c3b-4c1f-a08e-e9fa2bed2e45\",\"type\":\"WheelZoomTool\"},{\"attributes\":{\"source\":{\"id\":\"8e4f7827-443f-4a96-a462-f5ee42928974\",\"type\":\"ColumnDataSource\"}},\"id\":\"b5d2e601-6f47-4450-b149-62a8a0e8a888\",\"type\":\"CDSView\"},{\"attributes\":{},\"id\":\"e9eacd98-6706-4765-93bb-61c4b6fa1bb3\",\"type\":\"LinearScale\"},{\"attributes\":{\"fill_alpha\":{\"value\":0.1},\"fill_color\":{\"value\":\"#1f77b4\"},\"line_alpha\":{\"value\":0.1},\"line_color\":{\"value\":\"#1f77b4\"},\"x\":{\"field\":\"x\"},\"y\":{\"field\":\"y\"}},\"id\":\"c04d74e4-a31a-40e0-b8d5-836d85136ada\",\"type\":\"Circle\"},{\"attributes\":{\"axis_label\":\"cooling rate [K/day]\",\"formatter\":{\"id\":\"b694e4de-9f80-48c9-8970-3751c713c4c0\",\"type\":\"BasicTickFormatter\"},\"plot\":{\"id\":\"f0cd455e-8269-49cb-b89b-163842e1efbf\",\"subtype\":\"Figure\",\"type\":\"Plot\"},\"ticker\":{\"id\":\"617fbb75-ffe8-49a2-9144-f83c2715f3d2\",\"type\":\"BasicTicker\"}},\"id\":\"2c961744-c2bb-4a6a-bcd7-d88f0d4f553c\",\"type\":\"LinearAxis\"},{\"attributes\":{},\"id\":\"72d6a263-2352-47d0-bf30-246be4dcb2a3\",\"type\":\"BasicTicker\"},{\"attributes\":{\"line_alpha\":0.6,\"line_color\":\"#e41a1c\",\"line_dash\":[6],\"line_width\":5,\"x\":{\"field\":\"x\"},\"y\":{\"field\":\"y\"}},\"id\":\"435d1696-6bb5-422c-9f3c-21ff30c50dbe\",\"type\":\"Line\"},{\"attributes\":{},\"id\":\"f0ed4955-b1a0-4a79-8fc7-363b8b0cdb8e\",\"type\":\"BasicTicker\"},{\"attributes\":{},\"id\":\"1f3814fc-f322-403c-9519-b031891dccc3\",\"type\":\"ResetTool\"},{\"attributes\":{\"plot\":{\"id\":\"39409d38-01bf-43b1-b685-92b5918c0c16\",\"subtype\":\"Figure\",\"type\":\"Plot\"},\"ticker\":{\"id\":\"f0ed4955-b1a0-4a79-8fc7-363b8b0cdb8e\",\"type\":\"BasicTicker\"}},\"id\":\"b8488c93-f510-4d61-b40d-c290e056cae9\",\"type\":\"Grid\"},{\"attributes\":{\"axis_label\":\"pressure [mb]\",\"formatter\":{\"id\":\"a514c68c-90c2-48af-a205-f19536fc1386\",\"type\":\"BasicTickFormatter\"},\"plot\":{\"id\":\"39409d38-01bf-43b1-b685-92b5918c0c16\",\"subtype\":\"Figure\",\"type\":\"Plot\"},\"ticker\":{\"id\":\"72d6a263-2352-47d0-bf30-246be4dcb2a3\",\"type\":\"BasicTicker\"}},\"id\":\"37e618cb-75a9-4173-a678-c8f6c10a2ba4\",\"type\":\"LinearAxis\"},{\"attributes\":{\"data_source\":{\"id\":\"12cacf93-c069-4960-8194-1ea866f09aba\",\"type\":\"ColumnDataSource\"},\"glyph\":{\"id\":\"8309d91a-ec46-4681-b2c9-b6f09124a338\",\"type\":\"Line\"},\"hover_glyph\":null,\"muted_glyph\":null,\"nonselection_glyph\":{\"id\":\"b8c1373a-9051-4e2a-afee-955285ed1d2f\",\"type\":\"Line\"},\"selection_glyph\":null,\"view\":{\"id\":\"6d478b15-7768-4c32-ac8c-9aac8f36a524\",\"type\":\"CDSView\"}},\"id\":\"5acb146a-bb8a-4329-b9e9-7a7de45ecf9a\",\"type\":\"GlyphRenderer\"},{\"attributes\":{\"line_color\":\"#4daf4a\",\"line_width\":1.5,\"x\":{\"field\":\"x\"},\"y\":{\"field\":\"y\"}},\"id\":\"4bab0e83-afb5-4a2c-aadb-436eb4e0d4a9\",\"type\":\"Line\"},{\"attributes\":{\"plot\":{\"id\":\"f0cd455e-8269-49cb-b89b-163842e1efbf\",\"subtype\":\"Figure\",\"type\":\"Plot\"},\"ticker\":{\"id\":\"617fbb75-ffe8-49a2-9144-f83c2715f3d2\",\"type\":\"BasicTicker\"}},\"id\":\"ffc186a5-00e2-4546-8f61-e93ff95d3dfd\",\"type\":\"Grid\"},{\"attributes\":{\"active_drag\":\"auto\",\"active_inspect\":\"auto\",\"active_scroll\":\"auto\",\"active_tap\":\"auto\",\"tools\":[{\"id\":\"0615383c-e923-4778-90b9-e0f534d2fb82\",\"type\":\"PanTool\"},{\"id\":\"1760d720-5c3b-4c1f-a08e-e9fa2bed2e45\",\"type\":\"WheelZoomTool\"},{\"id\":\"04c96b2e-06f6-493b-bbb8-7475d653a53f\",\"type\":\"BoxZoomTool\"},{\"id\":\"adac0ff8-173c-43ce-b180-90bed3fcb010\",\"type\":\"SaveTool\"},{\"id\":\"1f3814fc-f322-403c-9519-b031891dccc3\",\"type\":\"ResetTool\"},{\"id\":\"1ad68e94-8455-43c4-98a3-b6a2265f7d6a\",\"type\":\"HelpTool\"}]},\"id\":\"4ccbdfd8-006e-44a1-903f-dd78e3d360bd\",\"type\":\"Toolbar\"},{\"attributes\":{\"axis_label\":\"cooling rate [K/day]\",\"formatter\":{\"id\":\"3a16eefb-ae72-4bdb-ab0f-957dd52c2d6d\",\"type\":\"BasicTickFormatter\"},\"plot\":{\"id\":\"39409d38-01bf-43b1-b685-92b5918c0c16\",\"subtype\":\"Figure\",\"type\":\"Plot\"},\"ticker\":{\"id\":\"f0ed4955-b1a0-4a79-8fc7-363b8b0cdb8e\",\"type\":\"BasicTicker\"}},\"id\":\"a971390e-7c17-43dc-9fca-e7c7b936f2aa\",\"type\":\"LinearAxis\"},{\"attributes\":{\"callback\":null,\"data\":{\"x\":{\"__ndarray__\":\"qromKG4qwb9XAPhMmxbBv7baolA/vcC/0laASvBhwL9/54t7+wzAv05uiK9+hb+/ObELL1YOv7/l04Rp776+v43xH9rgp76/FX6AIAbbvr+K6FOeq3O/vy2SPPgFS8C/zeD3iPs8wb9ZMZ450rbCv0dr0o6XxcO/2miMGG4nwr/8fnvozIe7v/tRkHx+yLC/f5KOtExtkL8dzBTd9BOmP01DO0Qv5b0/4ZKpo18yzD9jUo2omurUPxg/roncvtI/od+URaOzxT/xJDjhnf23PwWUB5uaAa0/FIizL5Skoz8DtabmY1ieP88WVy+bDZk/49quos/fkz/QqooB9veMP5X6vCbHRIY//K5nS78Egz8zKZ+MU2d8P13eq30SxG4/q8gkvxeBXj+vWK0XvbZSPzvRckZ+U0y/vzAO728Qab8I9hXWPT9Qvy70Vpcy9Iw/xci4ADkDpD8QJTnkjzexPyHGMbNLq7c/3gQ1NTZfuT8X+OUnMPi6P+0cmBbUO70/sCOrroVRvz+xJC8h1WbAP1Rz2s85qsA/4gogY4swwD+CxeHMr+a+P+/myhyiPL0/29iynWtvuz9B38yeuqi5P/l4g5B1Nrg/ISbKpqhvtz9JFEjzQXu1Px5qx0wj37I/Un2yJVUisD/5eVZJmRGrPzhIuCsciqY/tQI2LLX6oj8S5ST36MugP0rJ5x/BsKA/IMNq+W/Ioj8zNjKXbQqlP51pZIWSMaQ/7XfuXmpbnz87Lk+M0d+UPzRSCEc9Aos/x7qYpEIVgz+U5GcJzGiBP4U8J2K2Cb8/\",\"dtype\":\"float64\",\"shape\":[75]},\"y\":{\"__ndarray__\":\"GhExyth1ND/Sv8nbtpRIP2vylNV0PVE/aTum7souWD/At0SJ8fVgPw3Iuahxymc/MSNhhJWvcD/bTfBN02d3P2zb5nxnaoA/CD5h5MAGhz8NmeH1TyaQP+zrCsc9p5Y/LbKd76fGnz/bLW5ISEmmPww9YvTcQq8/JV2OstnstT8Er5Y7M8G+P0c+r3jqkcU/5h99k6ZBzj88bCIzFzjVP4enV8oyxN0//yH99nXg5D8qOpLLf0jtP5kqGJXUifQ/c9cS8kHP/D+/DpwzojQEQIEmwoanVwxA4lgXt9HgE0BSSZ2AJuIbQAMJih9jjiNA5q4l5INuK0AwTKYKRj0zQNv5fmq8/DpAaCJseHrtQkB/+zpwzoxKQM3MzMzMeFJAZmZmZmZqWEAAAAAAAFxeQM3MzMzMJmJAmpmZmZkfZUBmZmZmZhhoQDMzMzMzEWtAAAAAAAAKbkBmZmZmZoFwQM3MzMzM/XFAMzMzMzN6c0CamZmZmfZ0QAAAAAAAc3ZAZmZmZmbvd0DNzMzMzGt5QDMzMzMz6HpAmpmZmZlkfEAAAAAAAOF9QGZmZmZmXX9AZmZmZuZsgECamZmZGSuBQM3MzMxM6YFAAAAAAICngkAzMzMzs2WDQGZmZmbmI4RAmpmZmRnihEDNzMzMTKCFQAAAAACAXoZAMzMzM7Mch0BmZmZm5tqHQJqZmZkZmYhAzczMzExXiUAAAAAAgBWKQDMzMzOz04pAZmZmZuaRi0CamZmZGVCMQM3MzMxMDo1AAAAAAIDMjUAzMzMzs4qOQGZmZmbmSI9A\",\"dtype\":\"float64\",\"shape\":[75]}},\"selected\":{\"id\":\"092e3af2-6954-46b3-98cb-e60eab8392cf\",\"type\":\"Selection\"},\"selection_policy\":{\"id\":\"9f5c443a-4364-4519-b666-92bf55126700\",\"type\":\"UnionRenderers\"}},\"id\":\"4e8eb3d6-8096-4131-b427-190989b5cdd9\",\"type\":\"ColumnDataSource\"},{\"attributes\":{\"data_source\":{\"id\":\"29600acf-e457-483c-83cc-d035e6c68135\",\"type\":\"ColumnDataSource\"},\"glyph\":{\"id\":\"3d5a1937-8742-4ba2-8c96-e1f8ee55578d\",\"type\":\"Line\"},\"hover_glyph\":null,\"muted_glyph\":null,\"nonselection_glyph\":{\"id\":\"7a2c45a7-5169-413a-b5f7-1a81ac9ea647\",\"type\":\"Line\"},\"selection_glyph\":null,\"view\":{\"id\":\"d638681d-5330-492c-bc60-3f4e8cbee3df\",\"type\":\"CDSView\"}},\"id\":\"951b0e7a-7588-48fc-9a57-037f73d0043c\",\"type\":\"GlyphRenderer\"},{\"attributes\":{\"below\":[{\"id\":\"2c961744-c2bb-4a6a-bcd7-d88f0d4f553c\",\"type\":\"LinearAxis\"}],\"left\":[{\"id\":\"abcf650f-a7c5-4a52-89e6-570a924adcbe\",\"type\":\"LogAxis\"}],\"plot_height\":500,\"plot_width\":560,\"renderers\":[{\"id\":\"2c961744-c2bb-4a6a-bcd7-d88f0d4f553c\",\"type\":\"LinearAxis\"},{\"id\":\"ffc186a5-00e2-4546-8f61-e93ff95d3dfd\",\"type\":\"Grid\"},{\"id\":\"abcf650f-a7c5-4a52-89e6-570a924adcbe\",\"type\":\"LogAxis\"},{\"id\":\"312113c1-42f2-47b9-afff-bdc8178e5c40\",\"type\":\"Grid\"},{\"id\":\"dddb7262-bc4f-4297-84f5-67a35c216c3e\",\"type\":\"BoxAnnotation\"},{\"id\":\"def6cc28-8637-4426-b570-c4128f5eb26d\",\"type\":\"GlyphRenderer\"},{\"id\":\"291d474f-a5c5-4836-a296-400dd757005c\",\"type\":\"GlyphRenderer\"},{\"id\":\"706a8feb-4e50-4a76-82f2-64e1a3c5fb05\",\"type\":\"GlyphRenderer\"},{\"id\":\"3d3e162a-0210-475c-ba9e-7b8cc27897f3\",\"type\":\"GlyphRenderer\"},{\"id\":\"951b0e7a-7588-48fc-9a57-037f73d0043c\",\"type\":\"GlyphRenderer\"},{\"id\":\"1d04be2d-ec68-4d6e-99ef-231a2ab5454c\",\"type\":\"Legend\"}],\"right\":[{\"id\":\"1d04be2d-ec68-4d6e-99ef-231a2ab5454c\",\"type\":\"Legend\"}],\"title\":{\"id\":\"c281153f-b3f6-44eb-8b59-c2ce692ea59b\",\"type\":\"Title\"},\"toolbar\":{\"id\":\"4ccbdfd8-006e-44a1-903f-dd78e3d360bd\",\"type\":\"Toolbar\"},\"toolbar_location\":null,\"x_range\":{\"id\":\"e1b56bff-3289-49ff-8c51-32c7f9cc2616\",\"type\":\"Range1d\"},\"x_scale\":{\"id\":\"e9eacd98-6706-4765-93bb-61c4b6fa1bb3\",\"type\":\"LinearScale\"},\"y_range\":{\"id\":\"166e395f-167a-4c41-b63b-487577dfa466\",\"type\":\"Range1d\"},\"y_scale\":{\"id\":\"a5b5321b-4372-49cb-bedb-6387234761ed\",\"type\":\"LogScale\"}},\"id\":\"f0cd455e-8269-49cb-b89b-163842e1efbf\",\"subtype\":\"Figure\",\"type\":\"Plot\"},{\"attributes\":{\"data_source\":{\"id\":\"8e4f7827-443f-4a96-a462-f5ee42928974\",\"type\":\"ColumnDataSource\"},\"glyph\":{\"id\":\"ff301715-ac94-4e96-8797-5b5a012002c9\",\"type\":\"Circle\"},\"hover_glyph\":null,\"muted_glyph\":null,\"nonselection_glyph\":{\"id\":\"addf56f5-3169-4122-adb5-206c24a752e5\",\"type\":\"Circle\"},\"selection_glyph\":null,\"view\":{\"id\":\"b5d2e601-6f47-4450-b149-62a8a0e8a888\",\"type\":\"CDSView\"}},\"id\":\"291d474f-a5c5-4836-a296-400dd757005c\",\"type\":\"GlyphRenderer\"},{\"attributes\":{\"plot\":null,\"text\":\"Linear pressure scale\"},\"id\":\"e52c5e82-52dd-4736-a5ce-45e8794f0400\",\"type\":\"Title\"},{\"attributes\":{\"callback\":null,\"end\":0.01,\"start\":1020},\"id\":\"f4bccb3e-406a-4d83-8500-af8824930aef\",\"type\":\"Range1d\"},{\"attributes\":{\"callback\":null,\"data\":{\"x\":{\"__ndarray__\":\"YdrJEVqIw7/w2LpvA2vDv1V6ZYp6HMO//g7ud5rWwr/BXAqOD4PCv27XMehvPsK/p3fVk/P/wb9TX/wF/svBv4QwGgiZqsG/iKu8Y3Khwb+vGyCybLvBvyMQlCfJCcK/ZnWb9HOcwr9ui9xcBJPDvxwjzAaTE8S/C50d/FBHwr9ZpGCdl9G7v9lJxdHp1LC/WjR1sMnUjb++d7mKRq6nP6hhI35x6L4//7JraSpwzD+HzhuSYLPUP9WH7dkLgNI/gXSNyr6UxT9LmnZSw7u4P1fKo9sWf68/YqpOk5OTpT+tSGS2QligPzhXV5WvKZs/+ZuclwB/lj+rDi+5bymRP3WW9b3T4Io/VJwjCCMAhz+QJCpx8MGAPy4lSq/ecW8/VKorLNC6Vj+puNK0iWhLP9vc2Zv/m1C/Nhz68+Bkab+ZD/l532Mwv1qSYDR6VZM/VYsnpSiDqD858olaHvevP0crjouBkbE/gEetUMvRtD8n9PnQUPW4PzoLCun0QLw/hKc9WEdUvj+0WbVlvKS/PwKBD7fNScA/zc3nHSRmwD/OjXce91/AP90PBbIEGcA/nriaqlnDvj+yILbOYai8P5YxxMqEYbo/E8zz+3WXuD9mU2HN0Ju1P40hfu19OrI/CErwJMhwrj/ID8MnIp6pP9rjzV3i5qU/bSlAYmbuoj+3Cr6EYiKhPzBJO8/5A6E/lKs5TpXboj/KFEAvusykP4ZbeROApaM/48VdiXfTnT/KJ7whhiGTP5A4vlXSU4c/ttTHC7wYfz+N6B6n2Hh8PysN2cWMu74/\",\"dtype\":\"float64\",\"shape\":[75]},\"y\":{\"__ndarray__\":\"GhExyth1ND/Sv8nbtpRIP2vylNV0PVE/aTum7souWD/At0SJ8fVgPw3Iuahxymc/MSNhhJWvcD/bTfBN02d3P2zb5nxnaoA/CD5h5MAGhz8NmeH1TyaQP+zrCsc9p5Y/LbKd76fGnz/bLW5ISEmmPww9YvTcQq8/JV2OstnstT8Er5Y7M8G+P0c+r3jqkcU/5h99k6ZBzj88bCIzFzjVP4enV8oyxN0//yH99nXg5D8qOpLLf0jtP5kqGJXUifQ/c9cS8kHP/D+/DpwzojQEQIEmwoanVwxA4lgXt9HgE0BSSZ2AJuIbQAMJih9jjiNA5q4l5INuK0AwTKYKRj0zQNv5fmq8/DpAaCJseHrtQkB/+zpwzoxKQM3MzMzMeFJAZmZmZmZqWEAAAAAAAFxeQM3MzMzMJmJAmpmZmZkfZUBmZmZmZhhoQDMzMzMzEWtAAAAAAAAKbkBmZmZmZoFwQM3MzMzM/XFAMzMzMzN6c0CamZmZmfZ0QAAAAAAAc3ZAZmZmZmbvd0DNzMzMzGt5QDMzMzMz6HpAmpmZmZlkfEAAAAAAAOF9QGZmZmZmXX9AZmZmZuZsgECamZmZGSuBQM3MzMxM6YFAAAAAAICngkAzMzMzs2WDQGZmZmbmI4RAmpmZmRnihEDNzMzMTKCFQAAAAACAXoZAMzMzM7Mch0BmZmZm5tqHQJqZmZkZmYhAzczMzExXiUAAAAAAgBWKQDMzMzOz04pAZmZmZuaRi0CamZmZGVCMQM3MzMxMDo1AAAAAAIDMjUAzMzMzs4qOQGZmZmbmSI9A\",\"dtype\":\"float64\",\"shape\":[75]}},\"selected\":{\"id\":\"cdeee98c-335b-4edf-8652-ee7b5b49eb8f\",\"type\":\"Selection\"},\"selection_policy\":{\"id\":\"c648291a-5d2f-4838-9f14-e8996f1ca7ed\",\"type\":\"UnionRenderers\"}},\"id\":\"95344bea-91d2-4198-ac4b-0ec64550422d\",\"type\":\"ColumnDataSource\"},{\"attributes\":{\"dimension\":1,\"plot\":{\"id\":\"f0cd455e-8269-49cb-b89b-163842e1efbf\",\"subtype\":\"Figure\",\"type\":\"Plot\"},\"ticker\":{\"id\":\"2f7a7a02-9f3d-457f-917f-95acec6b1d38\",\"type\":\"LogTicker\"}},\"id\":\"312113c1-42f2-47b9-afff-bdc8178e5c40\",\"type\":\"Grid\"},{\"attributes\":{\"dimension\":1,\"plot\":{\"id\":\"39409d38-01bf-43b1-b685-92b5918c0c16\",\"subtype\":\"Figure\",\"type\":\"Plot\"},\"ticker\":{\"id\":\"72d6a263-2352-47d0-bf30-246be4dcb2a3\",\"type\":\"BasicTicker\"}},\"id\":\"5e7bd161-cd32-4f06-b72d-bbc65551b57d\",\"type\":\"Grid\"},{\"attributes\":{\"items\":[{\"id\":\"499c256a-6b75-41eb-adf2-a0b1ec960d11\",\"type\":\"LegendItem\"},{\"id\":\"912012f9-9779-4863-b989-fe036c1283aa\",\"type\":\"LegendItem\"},{\"id\":\"e1f74887-1ed1-4211-b395-4316c1d8c2b0\",\"type\":\"LegendItem\"}],\"label_text_font_size\":{\"value\":\"8pt\"},\"location\":[10,-30],\"plot\":{\"id\":\"f0cd455e-8269-49cb-b89b-163842e1efbf\",\"subtype\":\"Figure\",\"type\":\"Plot\"}},\"id\":\"1d04be2d-ec68-4d6e-99ef-231a2ab5454c\",\"type\":\"Legend\"},{\"attributes\":{\"fill_alpha\":{\"value\":0.7},\"fill_color\":{\"value\":\"#4daf4a\"},\"line_alpha\":{\"value\":0.7},\"line_color\":{\"value\":\"#4daf4a\"},\"x\":{\"field\":\"x\"},\"y\":{\"field\":\"y\"}},\"id\":\"b5988b9b-138f-4daf-9284-efd0e8dcf571\",\"type\":\"Circle\"},{\"attributes\":{\"callback\":null,\"data\":{\"x\":{\"__ndarray__\":\"qromKG4qwb9XAPhMmxbBv7baolA/vcC/0laASvBhwL9/54t7+wzAv05uiK9+hb+/ObELL1YOv7/l04Rp776+v43xH9rgp76/FX6AIAbbvr+K6FOeq3O/vy2SPPgFS8C/zeD3iPs8wb9ZMZ450rbCv0dr0o6XxcO/2miMGG4nwr/8fnvozIe7v/tRkHx+yLC/f5KOtExtkL8dzBTd9BOmP01DO0Qv5b0/4ZKpo18yzD9jUo2omurUPxg/roncvtI/od+URaOzxT/xJDjhnf23PwWUB5uaAa0/FIizL5Skoz8DtabmY1ieP88WVy+bDZk/49quos/fkz/QqooB9veMP5X6vCbHRIY//K5nS78Egz8zKZ+MU2d8P13eq30SxG4/q8gkvxeBXj+vWK0XvbZSPzvRckZ+U0y/vzAO728Qab8I9hXWPT9Qvy70Vpcy9Iw/xci4ADkDpD8QJTnkjzexPyHGMbNLq7c/3gQ1NTZfuT8X+OUnMPi6P+0cmBbUO70/sCOrroVRvz+xJC8h1WbAP1Rz2s85qsA/4gogY4swwD+CxeHMr+a+P+/myhyiPL0/29iynWtvuz9B38yeuqi5P/l4g5B1Nrg/ISbKpqhvtz9JFEjzQXu1Px5qx0wj37I/Un2yJVUisD/5eVZJmRGrPzhIuCsciqY/tQI2LLX6oj8S5ST36MugP0rJ5x/BsKA/IMNq+W/Ioj8zNjKXbQqlP51pZIWSMaQ/7XfuXmpbnz87Lk+M0d+UPzRSCEc9Aos/x7qYpEIVgz+U5GcJzGiBP4U8J2K2Cb8/\",\"dtype\":\"float64\",\"shape\":[75]},\"y\":{\"__ndarray__\":\"GhExyth1ND/Sv8nbtpRIP2vylNV0PVE/aTum7souWD/At0SJ8fVgPw3Iuahxymc/MSNhhJWvcD/bTfBN02d3P2zb5nxnaoA/CD5h5MAGhz8NmeH1TyaQP+zrCsc9p5Y/LbKd76fGnz/bLW5ISEmmPww9YvTcQq8/JV2OstnstT8Er5Y7M8G+P0c+r3jqkcU/5h99k6ZBzj88bCIzFzjVP4enV8oyxN0//yH99nXg5D8qOpLLf0jtP5kqGJXUifQ/c9cS8kHP/D+/DpwzojQEQIEmwoanVwxA4lgXt9HgE0BSSZ2AJuIbQAMJih9jjiNA5q4l5INuK0AwTKYKRj0zQNv5fmq8/DpAaCJseHrtQkB/+zpwzoxKQM3MzMzMeFJAZmZmZmZqWEAAAAAAAFxeQM3MzMzMJmJAmpmZmZkfZUBmZmZmZhhoQDMzMzMzEWtAAAAAAAAKbkBmZmZmZoFwQM3MzMzM/XFAMzMzMzN6c0CamZmZmfZ0QAAAAAAAc3ZAZmZmZmbvd0DNzMzMzGt5QDMzMzMz6HpAmpmZmZlkfEAAAAAAAOF9QGZmZmZmXX9AZmZmZuZsgECamZmZGSuBQM3MzMxM6YFAAAAAAICngkAzMzMzs2WDQGZmZmbmI4RAmpmZmRnihEDNzMzMTKCFQAAAAACAXoZAMzMzM7Mch0BmZmZm5tqHQJqZmZkZmYhAzczMzExXiUAAAAAAgBWKQDMzMzOz04pAZmZmZuaRi0CamZmZGVCMQM3MzMxMDo1AAAAAAIDMjUAzMzMzs4qOQGZmZmbmSI9A\",\"dtype\":\"float64\",\"shape\":[75]}},\"selected\":{\"id\":\"206aafce-b72c-4d51-8801-80fe882e9fc4\",\"type\":\"Selection\"},\"selection_policy\":{\"id\":\"82e638fa-4871-4fc5-a967-0c5e235cef34\",\"type\":\"UnionRenderers\"}},\"id\":\"8e4f7827-443f-4a96-a462-f5ee42928974\",\"type\":\"ColumnDataSource\"},{\"attributes\":{},\"id\":\"890fa4d6-42f4-4c68-8d04-282fd8235301\",\"type\":\"ResetTool\"},{\"attributes\":{\"plot\":null,\"text\":\"Log pressure scale\"},\"id\":\"c281153f-b3f6-44eb-8b59-c2ce692ea59b\",\"type\":\"Title\"},{\"attributes\":{\"fill_alpha\":{\"value\":0.1},\"fill_color\":{\"value\":\"#1f77b4\"},\"line_alpha\":{\"value\":0.1},\"line_color\":{\"value\":\"#1f77b4\"},\"x\":{\"field\":\"x\"},\"y\":{\"field\":\"y\"}},\"id\":\"addf56f5-3169-4122-adb5-206c24a752e5\",\"type\":\"Circle\"},{\"attributes\":{\"overlay\":{\"id\":\"ed6130a4-4930-42bd-8bb0-df6250c6b0b3\",\"type\":\"BoxAnnotation\"}},\"id\":\"326816c6-37cb-4a90-8aee-302a803ebe93\",\"type\":\"BoxZoomTool\"},{\"attributes\":{},\"id\":\"1ad68e94-8455-43c4-98a3-b6a2265f7d6a\",\"type\":\"HelpTool\"},{\"attributes\":{\"callback\":null,\"data\":{\"x\":{\"__ndarray__\":\"qromKG4qwb9XAPhMmxbBv7baolA/vcC/0laASvBhwL9/54t7+wzAv05uiK9+hb+/ObELL1YOv7/l04Rp776+v43xH9rgp76/FX6AIAbbvr+K6FOeq3O/vy2SPPgFS8C/zeD3iPs8wb9ZMZ450rbCv0dr0o6XxcO/2miMGG4nwr/8fnvozIe7v/tRkHx+yLC/f5KOtExtkL8dzBTd9BOmP01DO0Qv5b0/4ZKpo18yzD9jUo2omurUPxg/roncvtI/od+URaOzxT/xJDjhnf23PwWUB5uaAa0/FIizL5Skoz8DtabmY1ieP88WVy+bDZk/49quos/fkz/QqooB9veMP5X6vCbHRIY//K5nS78Egz8zKZ+MU2d8P13eq30SxG4/q8gkvxeBXj+vWK0XvbZSPzvRckZ+U0y/vzAO728Qab8I9hXWPT9Qvy70Vpcy9Iw/xci4ADkDpD8QJTnkjzexPyHGMbNLq7c/3gQ1NTZfuT8X+OUnMPi6P+0cmBbUO70/sCOrroVRvz+xJC8h1WbAP1Rz2s85qsA/4gogY4swwD+CxeHMr+a+P+/myhyiPL0/29iynWtvuz9B38yeuqi5P/l4g5B1Nrg/ISbKpqhvtz9JFEjzQXu1Px5qx0wj37I/Un2yJVUisD/5eVZJmRGrPzhIuCsciqY/tQI2LLX6oj8S5ST36MugP0rJ5x/BsKA/IMNq+W/Ioj8zNjKXbQqlP51pZIWSMaQ/7XfuXmpbnz87Lk+M0d+UPzRSCEc9Aos/x7qYpEIVgz+U5GcJzGiBP4U8J2K2Cb8/\",\"dtype\":\"float64\",\"shape\":[75]},\"y\":{\"__ndarray__\":\"GhExyth1ND/Sv8nbtpRIP2vylNV0PVE/aTum7souWD/At0SJ8fVgPw3Iuahxymc/MSNhhJWvcD/bTfBN02d3P2zb5nxnaoA/CD5h5MAGhz8NmeH1TyaQP+zrCsc9p5Y/LbKd76fGnz/bLW5ISEmmPww9YvTcQq8/JV2OstnstT8Er5Y7M8G+P0c+r3jqkcU/5h99k6ZBzj88bCIzFzjVP4enV8oyxN0//yH99nXg5D8qOpLLf0jtP5kqGJXUifQ/c9cS8kHP/D+/DpwzojQEQIEmwoanVwxA4lgXt9HgE0BSSZ2AJuIbQAMJih9jjiNA5q4l5INuK0AwTKYKRj0zQNv5fmq8/DpAaCJseHrtQkB/+zpwzoxKQM3MzMzMeFJAZmZmZmZqWEAAAAAAAFxeQM3MzMzMJmJAmpmZmZkfZUBmZmZmZhhoQDMzMzMzEWtAAAAAAAAKbkBmZmZmZoFwQM3MzMzM/XFAMzMzMzN6c0CamZmZmfZ0QAAAAAAAc3ZAZmZmZmbvd0DNzMzMzGt5QDMzMzMz6HpAmpmZmZlkfEAAAAAAAOF9QGZmZmZmXX9AZmZmZuZsgECamZmZGSuBQM3MzMxM6YFAAAAAAICngkAzMzMzs2WDQGZmZmbmI4RAmpmZmRnihEDNzMzMTKCFQAAAAACAXoZAMzMzM7Mch0BmZmZm5tqHQJqZmZkZmYhAzczMzExXiUAAAAAAgBWKQDMzMzOz04pAZmZmZuaRi0CamZmZGVCMQM3MzMxMDo1AAAAAAIDMjUAzMzMzs4qOQGZmZmbmSI9A\",\"dtype\":\"float64\",\"shape\":[75]}},\"selected\":{\"id\":\"7c342e6a-647d-419d-bf4d-b0643d921720\",\"type\":\"Selection\"},\"selection_policy\":{\"id\":\"ae8aacea-ff36-4d97-bad8-d09f5ca2933b\",\"type\":\"UnionRenderers\"}},\"id\":\"f80a5016-d143-4e0a-9906-d662c2170b23\",\"type\":\"ColumnDataSource\"},{\"attributes\":{\"data_source\":{\"id\":\"4e8eb3d6-8096-4131-b427-190989b5cdd9\",\"type\":\"ColumnDataSource\"},\"glyph\":{\"id\":\"b5988b9b-138f-4daf-9284-efd0e8dcf571\",\"type\":\"Circle\"},\"hover_glyph\":null,\"muted_glyph\":null,\"nonselection_glyph\":{\"id\":\"c04d74e4-a31a-40e0-b8d5-836d85136ada\",\"type\":\"Circle\"},\"selection_glyph\":null,\"view\":{\"id\":\"42c3d385-da46-4c2f-8ea6-681178a1f715\",\"type\":\"CDSView\"}},\"id\":\"555b44d3-25e7-4c0c-877c-d817232b4900\",\"type\":\"GlyphRenderer\"},{\"attributes\":{\"fill_alpha\":{\"value\":0.7},\"fill_color\":{\"value\":\"#4daf4a\"},\"line_alpha\":{\"value\":0.7},\"line_color\":{\"value\":\"#4daf4a\"},\"x\":{\"field\":\"x\"},\"y\":{\"field\":\"y\"}},\"id\":\"ff301715-ac94-4e96-8797-5b5a012002c9\",\"type\":\"Circle\"},{\"attributes\":{},\"id\":\"76ac779d-3896-4d41-9d36-010ec7147a4a\",\"type\":\"SaveTool\"},{\"attributes\":{\"bottom_units\":\"screen\",\"fill_alpha\":{\"value\":0.5},\"fill_color\":{\"value\":\"lightgrey\"},\"left_units\":\"screen\",\"level\":\"overlay\",\"line_alpha\":{\"value\":1.0},\"line_color\":{\"value\":\"black\"},\"line_dash\":[4,4],\"line_width\":{\"value\":2},\"plot\":null,\"render_mode\":\"css\",\"right_units\":\"screen\",\"top_units\":\"screen\"},\"id\":\"ed6130a4-4930-42bd-8bb0-df6250c6b0b3\",\"type\":\"BoxAnnotation\"},{\"attributes\":{},\"id\":\"0615383c-e923-4778-90b9-e0f534d2fb82\",\"type\":\"PanTool\"},{\"attributes\":{},\"id\":\"50058fa5-c251-4f21-8e62-75102fbf8639\",\"type\":\"HelpTool\"},{\"attributes\":{},\"id\":\"33947e73-1056-4f66-88f6-de6848a42764\",\"type\":\"WheelZoomTool\"},{\"attributes\":{},\"id\":\"adac0ff8-173c-43ce-b180-90bed3fcb010\",\"type\":\"SaveTool\"},{\"attributes\":{\"source\":{\"id\":\"8b8981e9-ac2e-4a7a-b8e4-18f4c2da4584\",\"type\":\"ColumnDataSource\"}},\"id\":\"baf5d07d-611f-43c7-958e-dec9d7fcaa89\",\"type\":\"CDSView\"},{\"attributes\":{},\"id\":\"58a27d52-a578-4f4c-a759-b8b072ce6bc7\",\"type\":\"PanTool\"},{\"attributes\":{\"line_alpha\":0.1,\"line_color\":\"#1f77b4\",\"line_width\":1.5,\"x\":{\"field\":\"x\"},\"y\":{\"field\":\"y\"}},\"id\":\"175320b1-9a87-4398-89a2-f77f820f1478\",\"type\":\"Line\"},{\"attributes\":{\"children\":[{\"id\":\"f81fe4bc-cab0-47d8-8b63-f34da3975bc0\",\"type\":\"Row\"}]},\"id\":\"91624765-79ab-4777-9f1f-c82eeb1975d5\",\"type\":\"Column\"},{\"attributes\":{\"fill_alpha\":{\"value\":0.1},\"fill_color\":{\"value\":\"#1f77b4\"},\"line_alpha\":{\"value\":0.1},\"line_color\":{\"value\":\"#1f77b4\"},\"x\":{\"field\":\"x\"},\"y\":{\"field\":\"y\"}},\"id\":\"353e5575-16e8-458b-939d-da6a9568bfb3\",\"type\":\"Square\"},{\"attributes\":{\"data_source\":{\"id\":\"f80a5016-d143-4e0a-9906-d662c2170b23\",\"type\":\"ColumnDataSource\"},\"glyph\":{\"id\":\"4bab0e83-afb5-4a2c-aadb-436eb4e0d4a9\",\"type\":\"Line\"},\"hover_glyph\":null,\"muted_glyph\":null,\"nonselection_glyph\":{\"id\":\"175320b1-9a87-4398-89a2-f77f820f1478\",\"type\":\"Line\"},\"selection_glyph\":null,\"view\":{\"id\":\"4e841e03-a5fa-41e0-b50d-0c327e54dac9\",\"type\":\"CDSView\"}},\"id\":\"706a8feb-4e50-4a76-82f2-64e1a3c5fb05\",\"type\":\"GlyphRenderer\"},{\"attributes\":{\"source\":{\"id\":\"f80a5016-d143-4e0a-9906-d662c2170b23\",\"type\":\"ColumnDataSource\"}},\"id\":\"4e841e03-a5fa-41e0-b50d-0c327e54dac9\",\"type\":\"CDSView\"},{\"attributes\":{\"fill_alpha\":{\"value\":0.7},\"fill_color\":{\"value\":\"#984ea3\"},\"line_alpha\":{\"value\":0.7},\"line_color\":{\"value\":\"#984ea3\"},\"x\":{\"field\":\"x\"},\"y\":{\"field\":\"y\"}},\"id\":\"c536aa18-252e-4dc6-b5dc-a6091732b2c2\",\"type\":\"Square\"},{\"attributes\":{\"axis_label\":\"pressure [mb]\",\"formatter\":{\"id\":\"9c1a0580-567c-4114-b9b2-041c33164bd4\",\"type\":\"LogTickFormatter\"},\"plot\":{\"id\":\"f0cd455e-8269-49cb-b89b-163842e1efbf\",\"subtype\":\"Figure\",\"type\":\"Plot\"},\"ticker\":{\"id\":\"2f7a7a02-9f3d-457f-917f-95acec6b1d38\",\"type\":\"LogTicker\"}},\"id\":\"abcf650f-a7c5-4a52-89e6-570a924adcbe\",\"type\":\"LogAxis\"},{\"attributes\":{\"source\":{\"id\":\"529d3169-9543-4d9a-ac0a-edc68dfd9f3a\",\"type\":\"ColumnDataSource\"}},\"id\":\"e8eb7414-f494-4e93-bd6d-656b5fccd1e1\",\"type\":\"CDSView\"},{\"attributes\":{\"line_alpha\":0.1,\"line_color\":\"#1f77b4\",\"line_width\":3,\"x\":{\"field\":\"x\"},\"y\":{\"field\":\"y\"}},\"id\":\"7a2c45a7-5169-413a-b5f7-1a81ac9ea647\",\"type\":\"Line\"},{\"attributes\":{\"line_alpha\":0.1,\"line_color\":\"#1f77b4\",\"line_width\":3,\"x\":{\"field\":\"x\"},\"y\":{\"field\":\"y\"}},\"id\":\"b8c1373a-9051-4e2a-afee-955285ed1d2f\",\"type\":\"Line\"},{\"attributes\":{\"source\":{\"id\":\"29600acf-e457-483c-83cc-d035e6c68135\",\"type\":\"ColumnDataSource\"}},\"id\":\"d638681d-5330-492c-bc60-3f4e8cbee3df\",\"type\":\"CDSView\"},{\"attributes\":{\"label\":{\"value\":\"CLIRAD `coolr_bands`\"},\"renderers\":[{\"id\":\"def6cc28-8637-4426-b570-c4128f5eb26d\",\"type\":\"GlyphRenderer\"}]},\"id\":\"499c256a-6b75-41eb-adf2-a0b1ec960d11\",\"type\":\"LegendItem\"},{\"attributes\":{\"children\":[{\"id\":\"39409d38-01bf-43b1-b685-92b5918c0c16\",\"subtype\":\"Figure\",\"type\":\"Plot\"},{\"id\":\"f0cd455e-8269-49cb-b89b-163842e1efbf\",\"subtype\":\"Figure\",\"type\":\"Plot\"}]},\"id\":\"f81fe4bc-cab0-47d8-8b63-f34da3975bc0\",\"type\":\"Row\"},{\"attributes\":{\"line_alpha\":0.6,\"line_color\":\"#984ea3\",\"line_width\":3,\"x\":{\"field\":\"x\"},\"y\":{\"field\":\"y\"}},\"id\":\"3d5a1937-8742-4ba2-8c96-e1f8ee55578d\",\"type\":\"Line\"},{\"attributes\":{},\"id\":\"3a16eefb-ae72-4bdb-ab0f-957dd52c2d6d\",\"type\":\"BasicTickFormatter\"},{\"attributes\":{\"callback\":null,\"data\":{\"x\":{\"__ndarray__\":\"AAAAAAAAAAAAAAAAAAAAAAAAAAAAAAAAAAAAAAAAAAAAAAAAAAAAAAAAAAAAAAAAAAAAAAAAAAAAAAAAAAAAAAAAAAAAAAAAAAAAAAAAAAAAAAAAAAAAAAAAAAAAAAAAAAAAAAAAAAAAAAAAAAAAAAAAAAAAAAAAAAAAAAAAAAAAAAAAAAAAAAAAAAAAAAAAAAAAAAAAAAAAAAAAAAAAAAAAAAAAAAAAAAAAAAAAAAAAAAAAAAAAAAAAAAAAAAAAAAAAAAAAAAAAAAAAAAAAAAAAAAAAAAAAAAAAAAAAAAAAAAAAAAAAAAAAAAAAAAAAAAAAAAAAAAAAAAAAAAAAAAAAAAAAAAAAAAAAAAAAAAAAAAAAAAAAAAAAAAAAAAAAAAAAAAAAAAAAAAAAAAAAAAAAAAAAAAAAAAAAAAAAAAAAAAAAAAAAAAAAAAAAAAAAAAAAAAAAAAAAAAAAAAAAAAAAAAAAAAAAAAAAAAAAAAAAAAAAAAAAAAAAAAAAAAAAAAAAAAAAAAAAAAAAAAAAAAAAAAAAAAAAAAAAAAAAAAAAAAAAAAAAAAAAAAAAAAAAAAAAAAAAAAAAAAAAAAAAAAAAAAAAAAAAAAAAAAAAAAAAAAAAAAAAAAAAAAAAAAAAAAAAAAAAAAAAAAAAAAAAAAAAAAAAAAAAAAAAAAAAAAAAAAAAAAAAAAAAAAAAAAAAAAAAAAAAAAAAAAAAAAAAAAAAAAAAAAAAAAAAAAAAAAAAAAAAAAAAAAAAAAAAAAAAAAAAAAAAAAAAAAAAAAAAAAAAAAAAAAAA\",\"dtype\":\"float64\",\"shape\":[75]},\"y\":{\"__ndarray__\":\"S/O/Q+51ND/Sv8nbtpRIP2vylNV0PVE/aTum7souWD/At0SJ8fVgPw3Iuahxymc/MSNhhJWvcD/bTfBN02d3P2zb5nxnaoA/CD5h5MAGhz8NmeH1TyaQP+zrCsc9p5Y/LbKd76fGnz/bLW5ISEmmPww9YvTcQq8/JV2OstnstT8Er5Y7M8G+P0c+r3jqkcU/5h99k6ZBzj88bCIzFzjVP4enV8oyxN0//yH99nXg5D8qOpLLf0jtP5kqGJXUifQ/c9cS8kHP/D+/DpwzojQEQIEmwoanVwxA4lgXt9HgE0BSSZ2AJuIbQAMJih9jjiNA5q4l5INuK0AwTKYKRj0zQNv5fmq8/DpAaCJseHrtQkB/+zpwzoxKQM3MzMzMeFJAZmZmZmZqWEAAAAAAAFxeQM3MzMzMJmJAmpmZmZkfZUBmZmZmZhhoQDMzMzMzEWtAAAAAAAAKbkBmZmZmZoFwQM3MzMzM/XFAMzMzMzN6c0CamZmZmfZ0QAAAAAAAc3ZAZmZmZmbvd0DNzMzMzGt5QDMzMzMz6HpAmpmZmZlkfEAAAAAAAOF9QGZmZmZmXX9AZmZmZuZsgECamZmZGSuBQM3MzMxM6YFAAAAAAICngkAzMzMzs2WDQGZmZmbmI4RAmpmZmRnihEDNzMzMTKCFQAAAAACAXoZAMzMzM7Mch0BmZmZm5tqHQJqZmZkZmYhAzczMzExXiUAAAAAAgBWKQDMzMzOz04pAZmZmZuaRi0CamZmZGVCMQM3MzMxMDo1AAAAAAIDMjUAzMzMzs4qOQGZmZmbmSI9A\",\"dtype\":\"float64\",\"shape\":[75]}},\"selected\":{\"id\":\"d1e901c9-527f-466d-8b18-039352dfad85\",\"type\":\"Selection\"},\"selection_policy\":{\"id\":\"b6135ec0-dfc6-4053-be6d-841f7304632e\",\"type\":\"UnionRenderers\"}},\"id\":\"8b8981e9-ac2e-4a7a-b8e4-18f4c2da4584\",\"type\":\"ColumnDataSource\"},{\"attributes\":{\"label\":{\"value\":\"CRD\"},\"renderers\":[{\"id\":\"291d474f-a5c5-4836-a296-400dd757005c\",\"type\":\"GlyphRenderer\"},{\"id\":\"706a8feb-4e50-4a76-82f2-64e1a3c5fb05\",\"type\":\"GlyphRenderer\"}]},\"id\":\"912012f9-9779-4863-b989-fe036c1283aa\",\"type\":\"LegendItem\"},{\"attributes\":{\"below\":[{\"id\":\"a971390e-7c17-43dc-9fca-e7c7b936f2aa\",\"type\":\"LinearAxis\"}],\"left\":[{\"id\":\"37e618cb-75a9-4173-a678-c8f6c10a2ba4\",\"type\":\"LinearAxis\"}],\"plot_height\":500,\"plot_width\":400,\"renderers\":[{\"id\":\"a971390e-7c17-43dc-9fca-e7c7b936f2aa\",\"type\":\"LinearAxis\"},{\"id\":\"b8488c93-f510-4d61-b40d-c290e056cae9\",\"type\":\"Grid\"},{\"id\":\"37e618cb-75a9-4173-a678-c8f6c10a2ba4\",\"type\":\"LinearAxis\"},{\"id\":\"5e7bd161-cd32-4f06-b72d-bbc65551b57d\",\"type\":\"Grid\"},{\"id\":\"ed6130a4-4930-42bd-8bb0-df6250c6b0b3\",\"type\":\"BoxAnnotation\"},{\"id\":\"e6a51c79-423c-42c9-9872-a4485f5f1ea1\",\"type\":\"GlyphRenderer\"},{\"id\":\"555b44d3-25e7-4c0c-877c-d817232b4900\",\"type\":\"GlyphRenderer\"},{\"id\":\"ac6ddea1-d6c5-491d-9582-89d3e97f112f\",\"type\":\"GlyphRenderer\"},{\"id\":\"285d9832-ce2f-45dd-ba77-30ae7d040cd7\",\"type\":\"GlyphRenderer\"},{\"id\":\"5acb146a-bb8a-4329-b9e9-7a7de45ecf9a\",\"type\":\"GlyphRenderer\"}],\"title\":{\"id\":\"e52c5e82-52dd-4736-a5ce-45e8794f0400\",\"type\":\"Title\"},\"toolbar\":{\"id\":\"6cd70851-f4a3-4df8-b119-497bec17b15c\",\"type\":\"Toolbar\"},\"toolbar_location\":null,\"x_range\":{\"id\":\"7411226e-7372-4466-bc89-fd40b64625b3\",\"type\":\"Range1d\"},\"x_scale\":{\"id\":\"196c6f7d-5d7e-40e9-9a64-3b0e4341a3d8\",\"type\":\"LinearScale\"},\"y_range\":{\"id\":\"f4bccb3e-406a-4d83-8500-af8824930aef\",\"type\":\"Range1d\"},\"y_scale\":{\"id\":\"9652d56b-5fc0-4bcc-a74d-f8dfe4a956eb\",\"type\":\"LinearScale\"}},\"id\":\"39409d38-01bf-43b1-b685-92b5918c0c16\",\"subtype\":\"Figure\",\"type\":\"Plot\"},{\"attributes\":{\"num_minor_ticks\":10},\"id\":\"2f7a7a02-9f3d-457f-917f-95acec6b1d38\",\"type\":\"LogTicker\"},{\"attributes\":{},\"id\":\"e489cacc-b18d-437f-8281-f4524d89f7ec\",\"type\":\"UnionRenderers\"},{\"attributes\":{\"overlay\":{\"id\":\"dddb7262-bc4f-4297-84f5-67a35c216c3e\",\"type\":\"BoxAnnotation\"}},\"id\":\"04c96b2e-06f6-493b-bbb8-7475d653a53f\",\"type\":\"BoxZoomTool\"},{\"attributes\":{\"label\":{\"value\":\"WGT igg=10 wgt_flux=2\"},\"renderers\":[{\"id\":\"3d3e162a-0210-475c-ba9e-7b8cc27897f3\",\"type\":\"GlyphRenderer\"},{\"id\":\"951b0e7a-7588-48fc-9a57-037f73d0043c\",\"type\":\"GlyphRenderer\"}]},\"id\":\"e1f74887-1ed1-4211-b395-4316c1d8c2b0\",\"type\":\"LegendItem\"},{\"attributes\":{},\"id\":\"fd5cf30d-6f45-4000-b833-155de49bd1b1\",\"type\":\"UnionRenderers\"},{\"attributes\":{},\"id\":\"a514c68c-90c2-48af-a205-f19536fc1386\",\"type\":\"BasicTickFormatter\"},{\"attributes\":{\"data_source\":{\"id\":\"95344bea-91d2-4198-ac4b-0ec64550422d\",\"type\":\"ColumnDataSource\"},\"glyph\":{\"id\":\"c536aa18-252e-4dc6-b5dc-a6091732b2c2\",\"type\":\"Square\"},\"hover_glyph\":null,\"muted_glyph\":null,\"nonselection_glyph\":{\"id\":\"353e5575-16e8-458b-939d-da6a9568bfb3\",\"type\":\"Square\"},\"selection_glyph\":null,\"view\":{\"id\":\"21dde2f4-6920-4636-9076-721cc7a7a017\",\"type\":\"CDSView\"}},\"id\":\"3d3e162a-0210-475c-ba9e-7b8cc27897f3\",\"type\":\"GlyphRenderer\"},{\"attributes\":{},\"id\":\"0bbebc8a-f252-44ef-b5c7-a29508ca1b4a\",\"type\":\"UnionRenderers\"},{\"attributes\":{},\"id\":\"092e3af2-6954-46b3-98cb-e60eab8392cf\",\"type\":\"Selection\"},{\"attributes\":{},\"id\":\"f7183a75-4b31-44bf-842d-724478672794\",\"type\":\"Selection\"},{\"attributes\":{\"callback\":null,\"data\":{\"x\":{\"__ndarray__\":\"YdrJEVqIw7/w2LpvA2vDv1V6ZYp6HMO//g7ud5rWwr/BXAqOD4PCv27XMehvPsK/p3fVk/P/wb9TX/wF/svBv4QwGgiZqsG/iKu8Y3Khwb+vGyCybLvBvyMQlCfJCcK/ZnWb9HOcwr9ui9xcBJPDvxwjzAaTE8S/C50d/FBHwr9ZpGCdl9G7v9lJxdHp1LC/WjR1sMnUjb++d7mKRq6nP6hhI35x6L4//7JraSpwzD+HzhuSYLPUP9WH7dkLgNI/gXSNyr6UxT9LmnZSw7u4P1fKo9sWf68/YqpOk5OTpT+tSGS2QligPzhXV5WvKZs/+ZuclwB/lj+rDi+5bymRP3WW9b3T4Io/VJwjCCMAhz+QJCpx8MGAPy4lSq/ecW8/VKorLNC6Vj+puNK0iWhLP9vc2Zv/m1C/Nhz68+Bkab+ZD/l532Mwv1qSYDR6VZM/VYsnpSiDqD858olaHvevP0crjouBkbE/gEetUMvRtD8n9PnQUPW4PzoLCun0QLw/hKc9WEdUvj+0WbVlvKS/PwKBD7fNScA/zc3nHSRmwD/OjXce91/AP90PBbIEGcA/nriaqlnDvj+yILbOYai8P5YxxMqEYbo/E8zz+3WXuD9mU2HN0Ju1P40hfu19OrI/CErwJMhwrj/ID8MnIp6pP9rjzV3i5qU/bSlAYmbuoj+3Cr6EYiKhPzBJO8/5A6E/lKs5TpXboj/KFEAvusykP4ZbeROApaM/48VdiXfTnT/KJ7whhiGTP5A4vlXSU4c/ttTHC7wYfz+N6B6n2Hh8PysN2cWMu74/\",\"dtype\":\"float64\",\"shape\":[75]},\"y\":{\"__ndarray__\":\"GhExyth1ND/Sv8nbtpRIP2vylNV0PVE/aTum7souWD/At0SJ8fVgPw3Iuahxymc/MSNhhJWvcD/bTfBN02d3P2zb5nxnaoA/CD5h5MAGhz8NmeH1TyaQP+zrCsc9p5Y/LbKd76fGnz/bLW5ISEmmPww9YvTcQq8/JV2OstnstT8Er5Y7M8G+P0c+r3jqkcU/5h99k6ZBzj88bCIzFzjVP4enV8oyxN0//yH99nXg5D8qOpLLf0jtP5kqGJXUifQ/c9cS8kHP/D+/DpwzojQEQIEmwoanVwxA4lgXt9HgE0BSSZ2AJuIbQAMJih9jjiNA5q4l5INuK0AwTKYKRj0zQNv5fmq8/DpAaCJseHrtQkB/+zpwzoxKQM3MzMzMeFJAZmZmZmZqWEAAAAAAAFxeQM3MzMzMJmJAmpmZmZkfZUBmZmZmZhhoQDMzMzMzEWtAAAAAAAAKbkBmZmZmZoFwQM3MzMzM/XFAMzMzMzN6c0CamZmZmfZ0QAAAAAAAc3ZAZmZmZmbvd0DNzMzMzGt5QDMzMzMz6HpAmpmZmZlkfEAAAAAAAOF9QGZmZmZmXX9AZmZmZuZsgECamZmZGSuBQM3MzMxM6YFAAAAAAICngkAzMzMzs2WDQGZmZmbmI4RAmpmZmRnihEDNzMzMTKCFQAAAAACAXoZAMzMzM7Mch0BmZmZm5tqHQJqZmZkZmYhAzczMzExXiUAAAAAAgBWKQDMzMzOz04pAZmZmZuaRi0CamZmZGVCMQM3MzMxMDo1AAAAAAIDMjUAzMzMzs4qOQGZmZmbmSI9A\",\"dtype\":\"float64\",\"shape\":[75]}},\"selected\":{\"id\":\"04ffd741-f4ff-4b7c-b8c4-5c180a990046\",\"type\":\"Selection\"},\"selection_policy\":{\"id\":\"1978c004-e28c-4154-979a-a7814ebd7075\",\"type\":\"UnionRenderers\"}},\"id\":\"29600acf-e457-483c-83cc-d035e6c68135\",\"type\":\"ColumnDataSource\"},{\"attributes\":{},\"id\":\"9f5c443a-4364-4519-b666-92bf55126700\",\"type\":\"UnionRenderers\"},{\"attributes\":{\"source\":{\"id\":\"95344bea-91d2-4198-ac4b-0ec64550422d\",\"type\":\"ColumnDataSource\"}},\"id\":\"21dde2f4-6920-4636-9076-721cc7a7a017\",\"type\":\"CDSView\"},{\"attributes\":{},\"id\":\"a0d87422-70c0-41f8-b476-1c1d371ea0f9\",\"type\":\"Selection\"},{\"attributes\":{\"data_source\":{\"id\":\"bc3fa3ed-d996-4298-ba0b-f99a84acb3d9\",\"type\":\"ColumnDataSource\"},\"glyph\":{\"id\":\"d55eff2a-5a34-48c5-b5b2-d932990e752e\",\"type\":\"Square\"},\"hover_glyph\":null,\"muted_glyph\":null,\"nonselection_glyph\":{\"id\":\"80cee51b-c9df-4cc6-8444-c8cc5970e48a\",\"type\":\"Square\"},\"selection_glyph\":null,\"view\":{\"id\":\"d78fd2fe-fc4e-47d3-93d7-1f59d0930c16\",\"type\":\"CDSView\"}},\"id\":\"285d9832-ce2f-45dd-ba77-30ae7d040cd7\",\"type\":\"GlyphRenderer\"},{\"attributes\":{\"source\":{\"id\":\"12cacf93-c069-4960-8194-1ea866f09aba\",\"type\":\"ColumnDataSource\"}},\"id\":\"6d478b15-7768-4c32-ac8c-9aac8f36a524\",\"type\":\"CDSView\"},{\"attributes\":{},\"id\":\"ed1612c2-10e2-407d-9ac7-fb9194eab6d2\",\"type\":\"Selection\"},{\"attributes\":{},\"id\":\"a5b5321b-4372-49cb-bedb-6387234761ed\",\"type\":\"LogScale\"},{\"attributes\":{},\"id\":\"6206e82d-0a60-4a74-bdf2-baf424c529c0\",\"type\":\"Selection\"},{\"attributes\":{\"ticker\":null},\"id\":\"9c1a0580-567c-4114-b9b2-041c33164bd4\",\"type\":\"LogTickFormatter\"},{\"attributes\":{\"active_drag\":\"auto\",\"active_inspect\":\"auto\",\"active_scroll\":\"auto\",\"active_tap\":\"auto\",\"tools\":[{\"id\":\"58a27d52-a578-4f4c-a759-b8b072ce6bc7\",\"type\":\"PanTool\"},{\"id\":\"33947e73-1056-4f66-88f6-de6848a42764\",\"type\":\"WheelZoomTool\"},{\"id\":\"326816c6-37cb-4a90-8aee-302a803ebe93\",\"type\":\"BoxZoomTool\"},{\"id\":\"76ac779d-3896-4d41-9d36-010ec7147a4a\",\"type\":\"SaveTool\"},{\"id\":\"890fa4d6-42f4-4c68-8d04-282fd8235301\",\"type\":\"ResetTool\"},{\"id\":\"50058fa5-c251-4f21-8e62-75102fbf8639\",\"type\":\"HelpTool\"}]},\"id\":\"6cd70851-f4a3-4df8-b119-497bec17b15c\",\"type\":\"Toolbar\"},{\"attributes\":{},\"id\":\"6b5c642e-24ee-41c1-96a3-0f7edcc52f41\",\"type\":\"UnionRenderers\"},{\"attributes\":{},\"id\":\"b6135ec0-dfc6-4053-be6d-841f7304632e\",\"type\":\"UnionRenderers\"},{\"attributes\":{},\"id\":\"b694e4de-9f80-48c9-8970-3751c713c4c0\",\"type\":\"BasicTickFormatter\"},{\"attributes\":{},\"id\":\"d1e901c9-527f-466d-8b18-039352dfad85\",\"type\":\"Selection\"},{\"attributes\":{},\"id\":\"206aafce-b72c-4d51-8801-80fe882e9fc4\",\"type\":\"Selection\"},{\"attributes\":{},\"id\":\"ae8aacea-ff36-4d97-bad8-d09f5ca2933b\",\"type\":\"UnionRenderers\"},{\"attributes\":{\"callback\":null,\"data\":{\"x\":{\"__ndarray__\":\"YdrJEVqIw7/w2LpvA2vDv1V6ZYp6HMO//g7ud5rWwr/BXAqOD4PCv27XMehvPsK/p3fVk/P/wb9TX/wF/svBv4QwGgiZqsG/iKu8Y3Khwb+vGyCybLvBvyMQlCfJCcK/ZnWb9HOcwr9ui9xcBJPDvxwjzAaTE8S/C50d/FBHwr9ZpGCdl9G7v9lJxdHp1LC/WjR1sMnUjb++d7mKRq6nP6hhI35x6L4//7JraSpwzD+HzhuSYLPUP9WH7dkLgNI/gXSNyr6UxT9LmnZSw7u4P1fKo9sWf68/YqpOk5OTpT+tSGS2QligPzhXV5WvKZs/+ZuclwB/lj+rDi+5bymRP3WW9b3T4Io/VJwjCCMAhz+QJCpx8MGAPy4lSq/ecW8/VKorLNC6Vj+puNK0iWhLP9vc2Zv/m1C/Nhz68+Bkab+ZD/l532Mwv1qSYDR6VZM/VYsnpSiDqD858olaHvevP0crjouBkbE/gEetUMvRtD8n9PnQUPW4PzoLCun0QLw/hKc9WEdUvj+0WbVlvKS/PwKBD7fNScA/zc3nHSRmwD/OjXce91/AP90PBbIEGcA/nriaqlnDvj+yILbOYai8P5YxxMqEYbo/E8zz+3WXuD9mU2HN0Ju1P40hfu19OrI/CErwJMhwrj/ID8MnIp6pP9rjzV3i5qU/bSlAYmbuoj+3Cr6EYiKhPzBJO8/5A6E/lKs5TpXboj/KFEAvusykP4ZbeROApaM/48VdiXfTnT/KJ7whhiGTP5A4vlXSU4c/ttTHC7wYfz+N6B6n2Hh8PysN2cWMu74/\",\"dtype\":\"float64\",\"shape\":[75]},\"y\":{\"__ndarray__\":\"GhExyth1ND/Sv8nbtpRIP2vylNV0PVE/aTum7souWD/At0SJ8fVgPw3Iuahxymc/MSNhhJWvcD/bTfBN02d3P2zb5nxnaoA/CD5h5MAGhz8NmeH1TyaQP+zrCsc9p5Y/LbKd76fGnz/bLW5ISEmmPww9YvTcQq8/JV2OstnstT8Er5Y7M8G+P0c+r3jqkcU/5h99k6ZBzj88bCIzFzjVP4enV8oyxN0//yH99nXg5D8qOpLLf0jtP5kqGJXUifQ/c9cS8kHP/D+/DpwzojQEQIEmwoanVwxA4lgXt9HgE0BSSZ2AJuIbQAMJih9jjiNA5q4l5INuK0AwTKYKRj0zQNv5fmq8/DpAaCJseHrtQkB/+zpwzoxKQM3MzMzMeFJAZmZmZmZqWEAAAAAAAFxeQM3MzMzMJmJAmpmZmZkfZUBmZmZmZhhoQDMzMzMzEWtAAAAAAAAKbkBmZmZmZoFwQM3MzMzM/XFAMzMzMzN6c0CamZmZmfZ0QAAAAAAAc3ZAZmZmZmbvd0DNzMzMzGt5QDMzMzMz6HpAmpmZmZlkfEAAAAAAAOF9QGZmZmZmXX9AZmZmZuZsgECamZmZGSuBQM3MzMxM6YFAAAAAAICngkAzMzMzs2WDQGZmZmbmI4RAmpmZmRnihEDNzMzMTKCFQAAAAACAXoZAMzMzM7Mch0BmZmZm5tqHQJqZmZkZmYhAzczMzExXiUAAAAAAgBWKQDMzMzOz04pAZmZmZuaRi0CamZmZGVCMQM3MzMxMDo1AAAAAAIDMjUAzMzMzs4qOQGZmZmbmSI9A\",\"dtype\":\"float64\",\"shape\":[75]}},\"selected\":{\"id\":\"ed1612c2-10e2-407d-9ac7-fb9194eab6d2\",\"type\":\"Selection\"},\"selection_policy\":{\"id\":\"6b5c642e-24ee-41c1-96a3-0f7edcc52f41\",\"type\":\"UnionRenderers\"}},\"id\":\"bc3fa3ed-d996-4298-ba0b-f99a84acb3d9\",\"type\":\"ColumnDataSource\"},{\"attributes\":{},\"id\":\"82e638fa-4871-4fc5-a967-0c5e235cef34\",\"type\":\"UnionRenderers\"},{\"attributes\":{},\"id\":\"7c342e6a-647d-419d-bf4d-b0643d921720\",\"type\":\"Selection\"},{\"attributes\":{\"callback\":null,\"data\":{\"x\":{\"__ndarray__\":\"AAAAAAAAAAAAAAAAAAAAAAAAAAAAAAAAAAAAAAAAAAAAAAAAAAAAAAAAAAAAAAAAAAAAAAAAAAAAAAAAAAAAAAAAAAAAAAAAAAAAAAAAAAAAAAAAAAAAAAAAAAAAAAAAAAAAAAAAAAAAAAAAAAAAAAAAAAAAAAAAAAAAAAAAAAAAAAAAAAAAAAAAAAAAAAAAAAAAAAAAAAAAAAAAAAAAAAAAAAAAAAAAAAAAAAAAAAAAAAAAAAAAAAAAAAAAAAAAAAAAAAAAAAAAAAAAAAAAAAAAAAAAAAAAAAAAAAAAAAAAAAAAAAAAAAAAAAAAAAAAAAAAAAAAAAAAAAAAAAAAAAAAAAAAAAAAAAAAAAAAAAAAAAAAAAAAAAAAAAAAAAAAAAAAAAAAAAAAAAAAAAAAAAAAAAAAAAAAAAAAAAAAAAAAAAAAAAAAAAAAAAAAAAAAAAAAAAAAAAAAAAAAAAAAAAAAAAAAAAAAAAAAAAAAAAAAAAAAAAAAAAAAAAAAAAAAAAAAAAAAAAAAAAAAAAAAAAAAAAAAAAAAAAAAAAAAAAAAAAAAAAAAAAAAAAAAAAAAAAAAAAAAAAAAAAAAAAAAAAAAAAAAAAAAAAAAAAAAAAAAAAAAAAAAAAAAAAAAAAAAAAAAAAAAAAAAAAAAAAAAAAAAAAAAAAAAAAAAAAAAAAAAAAAAAAAAAAAAAAAAAAAAAAAAAAAAAAAAAAAAAAAAAAAAAAAAAAAAAAAAAAAAAAAAAAAAAAAAAAAAAAAAAAAAAAAAAAAAAAAAAAAAAAAAAAAAAAAAAAAA\",\"dtype\":\"float64\",\"shape\":[75]},\"y\":{\"__ndarray__\":\"S/O/Q+51ND/Sv8nbtpRIP2vylNV0PVE/aTum7souWD/At0SJ8fVgPw3Iuahxymc/MSNhhJWvcD/bTfBN02d3P2zb5nxnaoA/CD5h5MAGhz8NmeH1TyaQP+zrCsc9p5Y/LbKd76fGnz/bLW5ISEmmPww9YvTcQq8/JV2OstnstT8Er5Y7M8G+P0c+r3jqkcU/5h99k6ZBzj88bCIzFzjVP4enV8oyxN0//yH99nXg5D8qOpLLf0jtP5kqGJXUifQ/c9cS8kHP/D+/DpwzojQEQIEmwoanVwxA4lgXt9HgE0BSSZ2AJuIbQAMJih9jjiNA5q4l5INuK0AwTKYKRj0zQNv5fmq8/DpAaCJseHrtQkB/+zpwzoxKQM3MzMzMeFJAZmZmZmZqWEAAAAAAAFxeQM3MzMzMJmJAmpmZmZkfZUBmZmZmZhhoQDMzMzMzEWtAAAAAAAAKbkBmZmZmZoFwQM3MzMzM/XFAMzMzMzN6c0CamZmZmfZ0QAAAAAAAc3ZAZmZmZmbvd0DNzMzMzGt5QDMzMzMz6HpAmpmZmZlkfEAAAAAAAOF9QGZmZmZmXX9AZmZmZuZsgECamZmZGSuBQM3MzMxM6YFAAAAAAICngkAzMzMzs2WDQGZmZmbmI4RAmpmZmRnihEDNzMzMTKCFQAAAAACAXoZAMzMzM7Mch0BmZmZm5tqHQJqZmZkZmYhAzczMzExXiUAAAAAAgBWKQDMzMzOz04pAZmZmZuaRi0CamZmZGVCMQM3MzMxMDo1AAAAAAIDMjUAzMzMzs4qOQGZmZmbmSI9A\",\"dtype\":\"float64\",\"shape\":[75]}},\"selected\":{\"id\":\"f7183a75-4b31-44bf-842d-724478672794\",\"type\":\"Selection\"},\"selection_policy\":{\"id\":\"0bbebc8a-f252-44ef-b5c7-a29508ca1b4a\",\"type\":\"UnionRenderers\"}},\"id\":\"529d3169-9543-4d9a-ac0a-edc68dfd9f3a\",\"type\":\"ColumnDataSource\"},{\"attributes\":{},\"id\":\"cdeee98c-335b-4edf-8652-ee7b5b49eb8f\",\"type\":\"Selection\"},{\"attributes\":{},\"id\":\"04ffd741-f4ff-4b7c-b8c4-5c180a990046\",\"type\":\"Selection\"},{\"attributes\":{\"toolbar\":{\"id\":\"dbe8d8ff-b8ca-426b-a2ea-802493bfa010\",\"type\":\"ProxyToolbar\"},\"toolbar_location\":\"above\"},\"id\":\"196c2c0c-450c-4e56-aca8-4d3b2dc08221\",\"type\":\"ToolbarBox\"},{\"attributes\":{},\"id\":\"c648291a-5d2f-4838-9f14-e8996f1ca7ed\",\"type\":\"UnionRenderers\"},{\"attributes\":{\"children\":[{\"id\":\"196c2c0c-450c-4e56-aca8-4d3b2dc08221\",\"type\":\"ToolbarBox\"},{\"id\":\"91624765-79ab-4777-9f1f-c82eeb1975d5\",\"type\":\"Column\"}]},\"id\":\"0860b4ac-ff55-4620-b057-034369030259\",\"type\":\"Column\"},{\"attributes\":{\"line_alpha\":0.6,\"line_color\":\"#984ea3\",\"line_width\":3,\"x\":{\"field\":\"x\"},\"y\":{\"field\":\"y\"}},\"id\":\"8309d91a-ec46-4681-b2c9-b6f09124a338\",\"type\":\"Line\"},{\"attributes\":{},\"id\":\"1978c004-e28c-4154-979a-a7814ebd7075\",\"type\":\"UnionRenderers\"},{\"attributes\":{\"tools\":[{\"id\":\"58a27d52-a578-4f4c-a759-b8b072ce6bc7\",\"type\":\"PanTool\"},{\"id\":\"33947e73-1056-4f66-88f6-de6848a42764\",\"type\":\"WheelZoomTool\"},{\"id\":\"326816c6-37cb-4a90-8aee-302a803ebe93\",\"type\":\"BoxZoomTool\"},{\"id\":\"76ac779d-3896-4d41-9d36-010ec7147a4a\",\"type\":\"SaveTool\"},{\"id\":\"890fa4d6-42f4-4c68-8d04-282fd8235301\",\"type\":\"ResetTool\"},{\"id\":\"50058fa5-c251-4f21-8e62-75102fbf8639\",\"type\":\"HelpTool\"},{\"id\":\"0615383c-e923-4778-90b9-e0f534d2fb82\",\"type\":\"PanTool\"},{\"id\":\"1760d720-5c3b-4c1f-a08e-e9fa2bed2e45\",\"type\":\"WheelZoomTool\"},{\"id\":\"04c96b2e-06f6-493b-bbb8-7475d653a53f\",\"type\":\"BoxZoomTool\"},{\"id\":\"adac0ff8-173c-43ce-b180-90bed3fcb010\",\"type\":\"SaveTool\"},{\"id\":\"1f3814fc-f322-403c-9519-b031891dccc3\",\"type\":\"ResetTool\"},{\"id\":\"1ad68e94-8455-43c4-98a3-b6a2265f7d6a\",\"type\":\"HelpTool\"}]},\"id\":\"dbe8d8ff-b8ca-426b-a2ea-802493bfa010\",\"type\":\"ProxyToolbar\"},{\"attributes\":{\"line_alpha\":0.1,\"line_color\":\"#1f77b4\",\"line_width\":1.5,\"x\":{\"field\":\"x\"},\"y\":{\"field\":\"y\"}},\"id\":\"9d159c51-9bef-47be-be50-b4868a7a7355\",\"type\":\"Line\"},{\"attributes\":{\"fill_alpha\":{\"value\":0.7},\"fill_color\":{\"value\":\"#984ea3\"},\"line_alpha\":{\"value\":0.7},\"line_color\":{\"value\":\"#984ea3\"},\"x\":{\"field\":\"x\"},\"y\":{\"field\":\"y\"}},\"id\":\"d55eff2a-5a34-48c5-b5b2-d932990e752e\",\"type\":\"Square\"},{\"attributes\":{\"fill_alpha\":{\"value\":0.1},\"fill_color\":{\"value\":\"#1f77b4\"},\"line_alpha\":{\"value\":0.1},\"line_color\":{\"value\":\"#1f77b4\"},\"x\":{\"field\":\"x\"},\"y\":{\"field\":\"y\"}},\"id\":\"80cee51b-c9df-4cc6-8444-c8cc5970e48a\",\"type\":\"Square\"},{\"attributes\":{\"source\":{\"id\":\"4e8eb3d6-8096-4131-b427-190989b5cdd9\",\"type\":\"ColumnDataSource\"}},\"id\":\"42c3d385-da46-4c2f-8ea6-681178a1f715\",\"type\":\"CDSView\"},{\"attributes\":{\"line_color\":\"#4daf4a\",\"line_width\":1.5,\"x\":{\"field\":\"x\"},\"y\":{\"field\":\"y\"}},\"id\":\"7f8ab9ee-5e27-48a0-a070-b24c7c375785\",\"type\":\"Line\"},{\"attributes\":{\"source\":{\"id\":\"bc3fa3ed-d996-4298-ba0b-f99a84acb3d9\",\"type\":\"ColumnDataSource\"}},\"id\":\"d78fd2fe-fc4e-47d3-93d7-1f59d0930c16\",\"type\":\"CDSView\"},{\"attributes\":{\"callback\":null,\"data\":{\"x\":{\"__ndarray__\":\"YdrJEVqIw7/w2LpvA2vDv1V6ZYp6HMO//g7ud5rWwr/BXAqOD4PCv27XMehvPsK/p3fVk/P/wb9TX/wF/svBv4QwGgiZqsG/iKu8Y3Khwb+vGyCybLvBvyMQlCfJCcK/ZnWb9HOcwr9ui9xcBJPDvxwjzAaTE8S/C50d/FBHwr9ZpGCdl9G7v9lJxdHp1LC/WjR1sMnUjb++d7mKRq6nP6hhI35x6L4//7JraSpwzD+HzhuSYLPUP9WH7dkLgNI/gXSNyr6UxT9LmnZSw7u4P1fKo9sWf68/YqpOk5OTpT+tSGS2QligPzhXV5WvKZs/+ZuclwB/lj+rDi+5bymRP3WW9b3T4Io/VJwjCCMAhz+QJCpx8MGAPy4lSq/ecW8/VKorLNC6Vj+puNK0iWhLP9vc2Zv/m1C/Nhz68+Bkab+ZD/l532Mwv1qSYDR6VZM/VYsnpSiDqD858olaHvevP0crjouBkbE/gEetUMvRtD8n9PnQUPW4PzoLCun0QLw/hKc9WEdUvj+0WbVlvKS/PwKBD7fNScA/zc3nHSRmwD/OjXce91/AP90PBbIEGcA/nriaqlnDvj+yILbOYai8P5YxxMqEYbo/E8zz+3WXuD9mU2HN0Ju1P40hfu19OrI/CErwJMhwrj/ID8MnIp6pP9rjzV3i5qU/bSlAYmbuoj+3Cr6EYiKhPzBJO8/5A6E/lKs5TpXboj/KFEAvusykP4ZbeROApaM/48VdiXfTnT/KJ7whhiGTP5A4vlXSU4c/ttTHC7wYfz+N6B6n2Hh8PysN2cWMu74/\",\"dtype\":\"float64\",\"shape\":[75]},\"y\":{\"__ndarray__\":\"GhExyth1ND/Sv8nbtpRIP2vylNV0PVE/aTum7souWD/At0SJ8fVgPw3Iuahxymc/MSNhhJWvcD/bTfBN02d3P2zb5nxnaoA/CD5h5MAGhz8NmeH1TyaQP+zrCsc9p5Y/LbKd76fGnz/bLW5ISEmmPww9YvTcQq8/JV2OstnstT8Er5Y7M8G+P0c+r3jqkcU/5h99k6ZBzj88bCIzFzjVP4enV8oyxN0//yH99nXg5D8qOpLLf0jtP5kqGJXUifQ/c9cS8kHP/D+/DpwzojQEQIEmwoanVwxA4lgXt9HgE0BSSZ2AJuIbQAMJih9jjiNA5q4l5INuK0AwTKYKRj0zQNv5fmq8/DpAaCJseHrtQkB/+zpwzoxKQM3MzMzMeFJAZmZmZmZqWEAAAAAAAFxeQM3MzMzMJmJAmpmZmZkfZUBmZmZmZhhoQDMzMzMzEWtAAAAAAAAKbkBmZmZmZoFwQM3MzMzM/XFAMzMzMzN6c0CamZmZmfZ0QAAAAAAAc3ZAZmZmZmbvd0DNzMzMzGt5QDMzMzMz6HpAmpmZmZlkfEAAAAAAAOF9QGZmZmZmXX9AZmZmZuZsgECamZmZGSuBQM3MzMxM6YFAAAAAAICngkAzMzMzs2WDQGZmZmbmI4RAmpmZmRnihEDNzMzMTKCFQAAAAACAXoZAMzMzM7Mch0BmZmZm5tqHQJqZmZkZmYhAzczMzExXiUAAAAAAgBWKQDMzMzOz04pAZmZmZuaRi0CamZmZGVCMQM3MzMxMDo1AAAAAAIDMjUAzMzMzs4qOQGZmZmbmSI9A\",\"dtype\":\"float64\",\"shape\":[75]}},\"selected\":{\"id\":\"6206e82d-0a60-4a74-bdf2-baf424c529c0\",\"type\":\"Selection\"},\"selection_policy\":{\"id\":\"e489cacc-b18d-437f-8281-f4524d89f7ec\",\"type\":\"UnionRenderers\"}},\"id\":\"12cacf93-c069-4960-8194-1ea866f09aba\",\"type\":\"ColumnDataSource\"},{\"attributes\":{\"line_alpha\":0.6,\"line_color\":\"#e41a1c\",\"line_dash\":[6],\"line_width\":5,\"x\":{\"field\":\"x\"},\"y\":{\"field\":\"y\"}},\"id\":\"ecc48c41-347d-4009-853d-0fb5c27f3615\",\"type\":\"Line\"},{\"attributes\":{\"callback\":null,\"end\":0.01,\"start\":1020},\"id\":\"166e395f-167a-4c41-b63b-487577dfa466\",\"type\":\"Range1d\"},{\"attributes\":{\"data_source\":{\"id\":\"529d3169-9543-4d9a-ac0a-edc68dfd9f3a\",\"type\":\"ColumnDataSource\"},\"glyph\":{\"id\":\"ecc48c41-347d-4009-853d-0fb5c27f3615\",\"type\":\"Line\"},\"hover_glyph\":null,\"muted_glyph\":null,\"nonselection_glyph\":{\"id\":\"0aa58fc2-09e7-46ba-b8cd-f988996314b3\",\"type\":\"Line\"},\"selection_glyph\":null,\"view\":{\"id\":\"e8eb7414-f494-4e93-bd6d-656b5fccd1e1\",\"type\":\"CDSView\"}},\"id\":\"e6a51c79-423c-42c9-9872-a4485f5f1ea1\",\"type\":\"GlyphRenderer\"},{\"attributes\":{\"source\":{\"id\":\"59799051-76c9-4868-bd3b-732bff0aadd8\",\"type\":\"ColumnDataSource\"}},\"id\":\"06faedfe-4a48-445b-9f6a-ef837b0cf719\",\"type\":\"CDSView\"},{\"attributes\":{\"callback\":null,\"data\":{\"x\":{\"__ndarray__\":\"qromKG4qwb9XAPhMmxbBv7baolA/vcC/0laASvBhwL9/54t7+wzAv05uiK9+hb+/ObELL1YOv7/l04Rp776+v43xH9rgp76/FX6AIAbbvr+K6FOeq3O/vy2SPPgFS8C/zeD3iPs8wb9ZMZ450rbCv0dr0o6XxcO/2miMGG4nwr/8fnvozIe7v/tRkHx+yLC/f5KOtExtkL8dzBTd9BOmP01DO0Qv5b0/4ZKpo18yzD9jUo2omurUPxg/roncvtI/od+URaOzxT/xJDjhnf23PwWUB5uaAa0/FIizL5Skoz8DtabmY1ieP88WVy+bDZk/49quos/fkz/QqooB9veMP5X6vCbHRIY//K5nS78Egz8zKZ+MU2d8P13eq30SxG4/q8gkvxeBXj+vWK0XvbZSPzvRckZ+U0y/vzAO728Qab8I9hXWPT9Qvy70Vpcy9Iw/xci4ADkDpD8QJTnkjzexPyHGMbNLq7c/3gQ1NTZfuT8X+OUnMPi6P+0cmBbUO70/sCOrroVRvz+xJC8h1WbAP1Rz2s85qsA/4gogY4swwD+CxeHMr+a+P+/myhyiPL0/29iynWtvuz9B38yeuqi5P/l4g5B1Nrg/ISbKpqhvtz9JFEjzQXu1Px5qx0wj37I/Un2yJVUisD/5eVZJmRGrPzhIuCsciqY/tQI2LLX6oj8S5ST36MugP0rJ5x/BsKA/IMNq+W/Ioj8zNjKXbQqlP51pZIWSMaQ/7XfuXmpbnz87Lk+M0d+UPzRSCEc9Aos/x7qYpEIVgz+U5GcJzGiBP4U8J2K2Cb8/\",\"dtype\":\"float64\",\"shape\":[75]},\"y\":{\"__ndarray__\":\"GhExyth1ND/Sv8nbtpRIP2vylNV0PVE/aTum7souWD/At0SJ8fVgPw3Iuahxymc/MSNhhJWvcD/bTfBN02d3P2zb5nxnaoA/CD5h5MAGhz8NmeH1TyaQP+zrCsc9p5Y/LbKd76fGnz/bLW5ISEmmPww9YvTcQq8/JV2OstnstT8Er5Y7M8G+P0c+r3jqkcU/5h99k6ZBzj88bCIzFzjVP4enV8oyxN0//yH99nXg5D8qOpLLf0jtP5kqGJXUifQ/c9cS8kHP/D+/DpwzojQEQIEmwoanVwxA4lgXt9HgE0BSSZ2AJuIbQAMJih9jjiNA5q4l5INuK0AwTKYKRj0zQNv5fmq8/DpAaCJseHrtQkB/+zpwzoxKQM3MzMzMeFJAZmZmZmZqWEAAAAAAAFxeQM3MzMzMJmJAmpmZmZkfZUBmZmZmZhhoQDMzMzMzEWtAAAAAAAAKbkBmZmZmZoFwQM3MzMzM/XFAMzMzMzN6c0CamZmZmfZ0QAAAAAAAc3ZAZmZmZmbvd0DNzMzMzGt5QDMzMzMz6HpAmpmZmZlkfEAAAAAAAOF9QGZmZmZmXX9AZmZmZuZsgECamZmZGSuBQM3MzMxM6YFAAAAAAICngkAzMzMzs2WDQGZmZmbmI4RAmpmZmRnihEDNzMzMTKCFQAAAAACAXoZAMzMzM7Mch0BmZmZm5tqHQJqZmZkZmYhAzczMzExXiUAAAAAAgBWKQDMzMzOz04pAZmZmZuaRi0CamZmZGVCMQM3MzMxMDo1AAAAAAIDMjUAzMzMzs4qOQGZmZmbmSI9A\",\"dtype\":\"float64\",\"shape\":[75]}},\"selected\":{\"id\":\"a0d87422-70c0-41f8-b476-1c1d371ea0f9\",\"type\":\"Selection\"},\"selection_policy\":{\"id\":\"fd5cf30d-6f45-4000-b833-155de49bd1b1\",\"type\":\"UnionRenderers\"}},\"id\":\"59799051-76c9-4868-bd3b-732bff0aadd8\",\"type\":\"ColumnDataSource\"},{\"attributes\":{\"data_source\":{\"id\":\"59799051-76c9-4868-bd3b-732bff0aadd8\",\"type\":\"ColumnDataSource\"},\"glyph\":{\"id\":\"7f8ab9ee-5e27-48a0-a070-b24c7c375785\",\"type\":\"Line\"},\"hover_glyph\":null,\"muted_glyph\":null,\"nonselection_glyph\":{\"id\":\"9d159c51-9bef-47be-be50-b4868a7a7355\",\"type\":\"Line\"},\"selection_glyph\":null,\"view\":{\"id\":\"06faedfe-4a48-445b-9f6a-ef837b0cf719\",\"type\":\"CDSView\"}},\"id\":\"ac6ddea1-d6c5-491d-9582-89d3e97f112f\",\"type\":\"GlyphRenderer\"}],\"root_ids\":[\"0860b4ac-ff55-4620-b057-034369030259\"]},\"title\":\"Bokeh Application\",\"version\":\"0.12.16\"}};\n",
       "  var render_items = [{\"docid\":\"bb592362-f98f-49df-9b76-ad08c7cc81f0\",\"elementid\":\"46ee55d4-7f9d-4ca3-bc7d-fd0ff7fec0c1\",\"modelid\":\"0860b4ac-ff55-4620-b057-034369030259\"}];\n",
       "  root.Bokeh.embed.embed_items_notebook(docs_json, render_items);\n",
       "\n",
       "  }\n",
       "  if (root.Bokeh !== undefined) {\n",
       "    embed_document(root);\n",
       "  } else {\n",
       "    var attempts = 0;\n",
       "    var timer = setInterval(function(root) {\n",
       "      if (root.Bokeh !== undefined) {\n",
       "        embed_document(root);\n",
       "        clearInterval(timer);\n",
       "      }\n",
       "      attempts++;\n",
       "      if (attempts > 100) {\n",
       "        console.log(\"Bokeh: ERROR: Unable to run BokehJS code because BokehJS library is missing\")\n",
       "        clearInterval(timer);\n",
       "      }\n",
       "    }, 10, root)\n",
       "  }\n",
       "})(window);"
      ],
      "application/vnd.bokehjs_exec.v0+json": ""
     },
     "metadata": {
      "application/vnd.bokehjs_exec.v0+json": {
       "id": "0860b4ac-ff55-4620-b057-034369030259"
      }
     },
     "output_type": "display_data"
    },
    {
     "name": "stdout",
     "output_type": "stream",
     "text": [
      "FIGURE. Cooling rate profiles.\n"
     ]
    },
    {
     "data": {
      "text/html": [
       "<a id=\"Flux_Comparison\"></a>"
      ],
      "text/plain": [
       "<IPython.core.display.HTML object>"
      ]
     },
     "metadata": {},
     "output_type": "display_data"
    },
    {
     "data": {
      "text/markdown": [
       "# Flux Comparison"
      ],
      "text/plain": [
       "<IPython.core.display.Markdown object>"
      ]
     },
     "metadata": {},
     "output_type": "display_data"
    },
    {
     "data": {
      "text/html": [
       "<div>\n",
       "<style scoped>\n",
       "    .dataframe tbody tr th:only-of-type {\n",
       "        vertical-align: middle;\n",
       "    }\n",
       "\n",
       "    .dataframe tbody tr th {\n",
       "        vertical-align: top;\n",
       "    }\n",
       "\n",
       "    .dataframe thead th {\n",
       "        text-align: right;\n",
       "    }\n",
       "</style>\n",
       "<table border=\"1\" class=\"dataframe\">\n",
       "  <thead>\n",
       "    <tr style=\"text-align: right;\">\n",
       "      <th></th>\n",
       "      <th></th>\n",
       "      <th>flug</th>\n",
       "      <th>fldg</th>\n",
       "      <th>fnetg</th>\n",
       "    </tr>\n",
       "    <tr>\n",
       "      <th>pressure</th>\n",
       "      <th>level</th>\n",
       "      <th></th>\n",
       "      <th></th>\n",
       "      <th></th>\n",
       "    </tr>\n",
       "  </thead>\n",
       "  <tbody>\n",
       "    <tr>\n",
       "      <th>0.0000</th>\n",
       "      <th>1</th>\n",
       "      <td>-7.292049</td>\n",
       "      <td>0.000000</td>\n",
       "      <td>-7.292049</td>\n",
       "    </tr>\n",
       "    <tr>\n",
       "      <th>1.0685</th>\n",
       "      <th>24</th>\n",
       "      <td>-7.301339</td>\n",
       "      <td>0.026841</td>\n",
       "      <td>-7.274498</td>\n",
       "    </tr>\n",
       "    <tr>\n",
       "      <th>1013.0000</th>\n",
       "      <th>76</th>\n",
       "      <td>-30.729616</td>\n",
       "      <td>30.372401</td>\n",
       "      <td>-0.357216</td>\n",
       "    </tr>\n",
       "  </tbody>\n",
       "</table>\n",
       "</div>"
      ],
      "text/plain": [
       "                      flug       fldg     fnetg\n",
       "pressure  level                                \n",
       "0.0000    1      -7.292049   0.000000 -7.292049\n",
       "1.0685    24     -7.301339   0.026841 -7.274498\n",
       "1013.0000 76    -30.729616  30.372401 -0.357216"
      ]
     },
     "metadata": {},
     "output_type": "display_data"
    },
    {
     "name": "stdout",
     "output_type": "stream",
     "text": [
      "Table. Fluxes. CRD\n"
     ]
    },
    {
     "data": {
      "text/html": [
       "<div>\n",
       "<style scoped>\n",
       "    .dataframe tbody tr th:only-of-type {\n",
       "        vertical-align: middle;\n",
       "    }\n",
       "\n",
       "    .dataframe tbody tr th {\n",
       "        vertical-align: top;\n",
       "    }\n",
       "\n",
       "    .dataframe thead th {\n",
       "        text-align: right;\n",
       "    }\n",
       "</style>\n",
       "<table border=\"1\" class=\"dataframe\">\n",
       "  <thead>\n",
       "    <tr style=\"text-align: right;\">\n",
       "      <th></th>\n",
       "      <th></th>\n",
       "      <th>flug</th>\n",
       "      <th>fldg</th>\n",
       "      <th>fnetg</th>\n",
       "    </tr>\n",
       "    <tr>\n",
       "      <th>pressure</th>\n",
       "      <th>level</th>\n",
       "      <th></th>\n",
       "      <th></th>\n",
       "      <th></th>\n",
       "    </tr>\n",
       "  </thead>\n",
       "  <tbody>\n",
       "    <tr>\n",
       "      <th>0.0000</th>\n",
       "      <th>1</th>\n",
       "      <td>-7.246267</td>\n",
       "      <td>0.000000</td>\n",
       "      <td>-7.246267</td>\n",
       "    </tr>\n",
       "    <tr>\n",
       "      <th>1.0685</th>\n",
       "      <th>24</th>\n",
       "      <td>-7.255041</td>\n",
       "      <td>0.026288</td>\n",
       "      <td>-7.228753</td>\n",
       "    </tr>\n",
       "    <tr>\n",
       "      <th>1013.0000</th>\n",
       "      <th>76</th>\n",
       "      <td>-30.729617</td>\n",
       "      <td>30.383724</td>\n",
       "      <td>-0.345892</td>\n",
       "    </tr>\n",
       "  </tbody>\n",
       "</table>\n",
       "</div>"
      ],
      "text/plain": [
       "                      flug       fldg     fnetg\n",
       "pressure  level                                \n",
       "0.0000    1      -7.246267   0.000000 -7.246267\n",
       "1.0685    24     -7.255041   0.026288 -7.228753\n",
       "1013.0000 76    -30.729617  30.383724 -0.345892"
      ]
     },
     "metadata": {},
     "output_type": "display_data"
    },
    {
     "name": "stdout",
     "output_type": "stream",
     "text": [
      "Table. Fluxes. WGT igg=10 wgt_flux=1\n"
     ]
    },
    {
     "data": {
      "text/html": [
       "<div>\n",
       "<style scoped>\n",
       "    .dataframe tbody tr th:only-of-type {\n",
       "        vertical-align: middle;\n",
       "    }\n",
       "\n",
       "    .dataframe tbody tr th {\n",
       "        vertical-align: top;\n",
       "    }\n",
       "\n",
       "    .dataframe thead th {\n",
       "        text-align: right;\n",
       "    }\n",
       "</style>\n",
       "<table border=\"1\" class=\"dataframe\">\n",
       "  <thead>\n",
       "    <tr style=\"text-align: right;\">\n",
       "      <th></th>\n",
       "      <th></th>\n",
       "      <th>flug</th>\n",
       "      <th>fldg</th>\n",
       "      <th>fnetg</th>\n",
       "    </tr>\n",
       "    <tr>\n",
       "      <th>pressure</th>\n",
       "      <th>level</th>\n",
       "      <th></th>\n",
       "      <th></th>\n",
       "      <th></th>\n",
       "    </tr>\n",
       "  </thead>\n",
       "  <tbody>\n",
       "    <tr>\n",
       "      <th>1.000000e-08</th>\n",
       "      <th>1</th>\n",
       "      <td>0.0</td>\n",
       "      <td>0.0</td>\n",
       "      <td>0.0</td>\n",
       "    </tr>\n",
       "    <tr>\n",
       "      <th>1.068500e+00</th>\n",
       "      <th>24</th>\n",
       "      <td>0.0</td>\n",
       "      <td>0.0</td>\n",
       "      <td>0.0</td>\n",
       "    </tr>\n",
       "    <tr>\n",
       "      <th>1.013000e+03</th>\n",
       "      <th>76</th>\n",
       "      <td>0.0</td>\n",
       "      <td>0.0</td>\n",
       "      <td>0.0</td>\n",
       "    </tr>\n",
       "  </tbody>\n",
       "</table>\n",
       "</div>"
      ],
      "text/plain": [
       "                    flug  fldg  fnetg\n",
       "pressure     level                   \n",
       "1.000000e-08 1       0.0   0.0    0.0\n",
       "1.068500e+00 24      0.0   0.0    0.0\n",
       "1.013000e+03 76      0.0   0.0    0.0"
      ]
     },
     "metadata": {},
     "output_type": "display_data"
    },
    {
     "name": "stdout",
     "output_type": "stream",
     "text": [
      "Table. Fluxes. CLIRAD\n"
     ]
    },
    {
     "data": {
      "text/html": [
       "<div>\n",
       "<style scoped>\n",
       "    .dataframe tbody tr th:only-of-type {\n",
       "        vertical-align: middle;\n",
       "    }\n",
       "\n",
       "    .dataframe tbody tr th {\n",
       "        vertical-align: top;\n",
       "    }\n",
       "\n",
       "    .dataframe thead th {\n",
       "        text-align: right;\n",
       "    }\n",
       "</style>\n",
       "<table border=\"1\" class=\"dataframe\">\n",
       "  <thead>\n",
       "    <tr style=\"text-align: right;\">\n",
       "      <th></th>\n",
       "      <th></th>\n",
       "      <th>flug</th>\n",
       "      <th>fldg</th>\n",
       "      <th>fnetg</th>\n",
       "    </tr>\n",
       "    <tr>\n",
       "      <th>pressure</th>\n",
       "      <th>level</th>\n",
       "      <th></th>\n",
       "      <th></th>\n",
       "      <th></th>\n",
       "    </tr>\n",
       "  </thead>\n",
       "  <tbody>\n",
       "    <tr>\n",
       "      <th>0.0000</th>\n",
       "      <th>1</th>\n",
       "      <td>4.578202e-02</td>\n",
       "      <td>0.000000</td>\n",
       "      <td>0.045782</td>\n",
       "    </tr>\n",
       "    <tr>\n",
       "      <th>1.0685</th>\n",
       "      <th>24</th>\n",
       "      <td>4.629803e-02</td>\n",
       "      <td>-0.000553</td>\n",
       "      <td>0.045746</td>\n",
       "    </tr>\n",
       "    <tr>\n",
       "      <th>1013.0000</th>\n",
       "      <th>76</th>\n",
       "      <td>-5.090000e-07</td>\n",
       "      <td>0.011323</td>\n",
       "      <td>0.011324</td>\n",
       "    </tr>\n",
       "  </tbody>\n",
       "</table>\n",
       "</div>"
      ],
      "text/plain": [
       "                         flug      fldg     fnetg\n",
       "pressure  level                                  \n",
       "0.0000    1      4.578202e-02  0.000000  0.045782\n",
       "1.0685    24     4.629803e-02 -0.000553  0.045746\n",
       "1013.0000 76    -5.090000e-07  0.011323  0.011324"
      ]
     },
     "metadata": {},
     "output_type": "display_data"
    },
    {
     "name": "stdout",
     "output_type": "stream",
     "text": [
      "Table. Fluxes. (WGT igg=10 wgt_flux=1) - (CRD)\n"
     ]
    },
    {
     "data": {
      "text/html": [
       "<div>\n",
       "<style scoped>\n",
       "    .dataframe tbody tr th:only-of-type {\n",
       "        vertical-align: middle;\n",
       "    }\n",
       "\n",
       "    .dataframe tbody tr th {\n",
       "        vertical-align: top;\n",
       "    }\n",
       "\n",
       "    .dataframe thead th {\n",
       "        text-align: right;\n",
       "    }\n",
       "</style>\n",
       "<table border=\"1\" class=\"dataframe\">\n",
       "  <thead>\n",
       "    <tr style=\"text-align: right;\">\n",
       "      <th></th>\n",
       "      <th></th>\n",
       "      <th>flug</th>\n",
       "      <th>fldg</th>\n",
       "      <th>fnetg</th>\n",
       "    </tr>\n",
       "    <tr>\n",
       "      <th>pressure</th>\n",
       "      <th>level</th>\n",
       "      <th></th>\n",
       "      <th></th>\n",
       "      <th></th>\n",
       "    </tr>\n",
       "  </thead>\n",
       "  <tbody>\n",
       "    <tr>\n",
       "      <th>0.0000</th>\n",
       "      <th>1</th>\n",
       "      <td>7.292049</td>\n",
       "      <td>0.000000</td>\n",
       "      <td>7.292049</td>\n",
       "    </tr>\n",
       "    <tr>\n",
       "      <th>1.0685</th>\n",
       "      <th>24</th>\n",
       "      <td>7.301339</td>\n",
       "      <td>-0.026841</td>\n",
       "      <td>7.274498</td>\n",
       "    </tr>\n",
       "    <tr>\n",
       "      <th>1013.0000</th>\n",
       "      <th>76</th>\n",
       "      <td>30.729616</td>\n",
       "      <td>-30.372401</td>\n",
       "      <td>0.357216</td>\n",
       "    </tr>\n",
       "  </tbody>\n",
       "</table>\n",
       "</div>"
      ],
      "text/plain": [
       "                      flug       fldg     fnetg\n",
       "pressure  level                                \n",
       "0.0000    1       7.292049   0.000000  7.292049\n",
       "1.0685    24      7.301339  -0.026841  7.274498\n",
       "1013.0000 76     30.729616 -30.372401  0.357216"
      ]
     },
     "metadata": {},
     "output_type": "display_data"
    },
    {
     "name": "stdout",
     "output_type": "stream",
     "text": [
      "Table. Fluxes. (CLIRAD) - (CRD)\n"
     ]
    },
    {
     "data": {
      "text/html": [
       "<a id=\"Best-fit_Parameters\"></a>"
      ],
      "text/plain": [
       "<IPython.core.display.HTML object>"
      ]
     },
     "metadata": {},
     "output_type": "display_data"
    },
    {
     "data": {
      "text/markdown": [
       "# Best-fit Parameters"
      ],
      "text/plain": [
       "<IPython.core.display.Markdown object>"
      ]
     },
     "metadata": {},
     "output_type": "display_data"
    },
    {
     "name": "stdout",
     "output_type": "stream",
     "text": [
      "Best-fit values for each (gas, band)\n",
      "------------------------------------\n",
      "o h2o band8\n",
      "  atmpro = mls\n",
      "  band = 8\n",
      "  commitnumber = a06b618\n",
      "  conc = None\n",
      "  dv = 0.001\n",
      "  klin = 0\n",
      "  molecule = h2o\n",
      "  ng_adju = [0, -1, 0]\n",
      "  ng_refs = [3, 2, 3]\n",
      "  nv = 1000\n",
      "  option_compute_btable = 0\n",
      "  option_compute_ktable = 1\n",
      "  option_wgt_flux = 1\n",
      "  option_wgt_k = 1\n",
      "  ref_pts = [(1, 250), (10, 250), (500, 250)]\n",
      "  tsfc = 294\n",
      "  vmax = 1900\n",
      "  vmin = 1380\n",
      "  w_diffuse = [(1.66, 1.66, 1.66), (1.66, 1.66), (1.66, 1.66, 1.66)]\n",
      "  wgt = [(0.55, 0.55, 0.85), (0.85, 0.85), (0, 0.3, 0.55)]\n"
     ]
    }
   ],
   "source": [
    "script()"
   ]
  },
  {
   "cell_type": "code",
   "execution_count": 13,
   "metadata": {
    "collapsed": true
   },
   "outputs": [
    {
     "data": {
      "text/html": [
       "<script>\n",
       "code_show=true; \n",
       "function code_toggle() {\n",
       " if (code_show){\n",
       " $('div.input').hide();\n",
       " } else {\n",
       " $('div.input').show();\n",
       " }\n",
       " code_show = !code_show\n",
       "} \n",
       "$( document ).ready(code_toggle);\n",
       "</script>\n",
       "<form action=\"javascript:code_toggle()\"><input type=\"submit\" value=\"Click here to toggle on/off the raw code.\"></form>"
      ],
      "text/plain": [
       "<IPython.core.display.HTML object>"
      ]
     },
     "execution_count": 13,
     "metadata": {},
     "output_type": "execute_result"
    }
   ],
   "source": [
    "display.HTML('''<script>\n",
    "code_show=true; \n",
    "function code_toggle() {\n",
    " if (code_show){\n",
    " $('div.input').hide();\n",
    " } else {\n",
    " $('div.input').show();\n",
    " }\n",
    " code_show = !code_show\n",
    "} \n",
    "$( document ).ready(code_toggle);\n",
    "</script>\n",
    "<form action=\"javascript:code_toggle()\"><input type=\"submit\" value=\"Click here to toggle on/off the raw code.\"></form>''')"
   ]
  }
 ],
 "metadata": {
  "kernelspec": {
   "display_name": "Python 3",
   "language": "python",
   "name": "python3"
  },
  "language_info": {
   "codemirror_mode": {
    "name": "ipython",
    "version": 3
   },
   "file_extension": ".py",
   "mimetype": "text/x-python",
   "name": "python",
   "nbconvert_exporter": "python",
   "pygments_lexer": "ipython3",
   "version": "3.6.1"
  }
 },
 "nbformat": 4,
 "nbformat_minor": 2
}
