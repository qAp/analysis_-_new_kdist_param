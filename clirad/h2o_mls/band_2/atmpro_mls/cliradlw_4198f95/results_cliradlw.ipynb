{
 "cells": [
  {
   "cell_type": "code",
   "execution_count": 1,
   "metadata": {
    "collapsed": true
   },
   "outputs": [],
   "source": [
    "%matplotlib inline\n",
    "import os\n",
    "import re\n",
    "import io\n",
    "import itertools\n",
    "import pprint\n",
    "\n",
    "from bokeh.io import output_notebook, show\n",
    "from bokeh.layouts import gridplot\n",
    "from bokeh.plotting import figure\n",
    "from bokeh.models import Range1d, Legend\n",
    "from bokeh.palettes import all_palettes\n",
    "\n",
    "import matplotlib\n",
    "import matplotlib.pyplot as plt\n",
    "import numpy as np\n",
    "import pandas as pd\n",
    "import xarray as xr\n",
    "\n",
    "import climatools.lblnew.bestfit_params as bestfits\n",
    "from climatools.lblnew import setup_bestfit, setup_overlap\n",
    "import climatools.lblnew.pipeline as pipe_lblnew\n",
    "import climatools.cliradlw.setup as setup_cliradlw\n",
    "import climatools.cliradlw.pipeline as pipe_cliradlw\n",
    "\n",
    "import climatools.html.html as climahtml\n",
    "from climatools.lblnew.dataio import *\n",
    "from climatools.plot.plot import *\n",
    "\n",
    "\n",
    "import IPython.display as display"
   ]
  },
  {
   "cell_type": "code",
   "execution_count": 2,
   "metadata": {
    "collapsed": true
   },
   "outputs": [],
   "source": [
    "%run param.py"
   ]
  },
  {
   "cell_type": "code",
   "execution_count": 3,
   "metadata": {
    "collapsed": true
   },
   "outputs": [],
   "source": [
    "def load_output_file(path_csv):\n",
    "    '''\n",
    "    Load lblnew output .csv file to xarray.Dataset\n",
    "    \n",
    "    Parameters\n",
    "    ----------\n",
    "    path_csv: str\n",
    "              Path to the .csv file to be loaded.\n",
    "    ds: xarray.Dataset\n",
    "        Data in the input file in the form of an xarray.Dataset.\n",
    "    '''\n",
    "    toindex = ['band', 'pressure', 'igg', 'g']    \n",
    "    df = pd.read_csv(path_csv, sep=r'\\s+')\n",
    "    df = df.set_index([i for i in toindex if i in df.columns])\n",
    "    df = df.rename(columns={'sfu': 'flug',\n",
    "                            'sfd': 'fldg',\n",
    "                            'fnet': 'fnetg',\n",
    "                            'coolr': 'coolrg'})\n",
    "    ds = xr.Dataset.from_dataframe(df)\n",
    "\n",
    "    for l in ('level', 'layer'):\n",
    "        if l in ds.data_vars:\n",
    "            if len(ds[l].dims) > 1:\n",
    "                surface = {d: 0 for d in ds.dims if d != 'pressure'}\n",
    "                coord_level = ds[l][surface]\n",
    "                ds.coords[l] = ('pressure', coord_level)\n",
    "            else:\n",
    "                ds.coords[l] = ('pressure', ds[l])\n",
    "    \n",
    "    return ds"
   ]
  },
  {
   "cell_type": "code",
   "execution_count": 4,
   "metadata": {
    "collapsed": true
   },
   "outputs": [],
   "source": [
    "def lblnew_setup(param=None):\n",
    "    if 'ng_refs' in param:\n",
    "        return {'setup': setup_bestfit,\n",
    "                'fname_flux_crd': 'output_flux.dat',\n",
    "                'fname_cool_crd': 'output_coolr.dat',\n",
    "                'fname_flux_wgt': 'output_wfluxg.dat',\n",
    "                'fname_cool_wgt': 'output_wcoolrg.dat'}\n",
    "    else:\n",
    "        return {'setup': setup_overlap,\n",
    "                'fname_flux_crd': 'output_flux.dat',\n",
    "                'fname_cool_crd': 'output_coolr.dat',\n",
    "                'fname_flux_wgt': 'output_wflux.dat',\n",
    "                'fname_cool_wgt': 'output_wcoolr.dat'}\n",
    "\n",
    "    \n",
    "def load_lblnew_data(param):\n",
    "    \n",
    "    fname_dsname = [('fname_flux_crd', 'ds_flux_crd'),\n",
    "                    ('fname_cool_crd', 'ds_cool_crd'),\n",
    "                    ('fname_flux_wgt', 'ds_flux_wgt'),\n",
    "                    ('fname_cool_wgt', 'ds_cool_wgt')]\n",
    "    \n",
    "    d = lblnew_setup(param)\n",
    "    dir_fortran = pipe_lblnew.get_dir_case(param, setup=d['setup'])\n",
    "    \n",
    "    data_dict = {}\n",
    "    for fname, dsname in fname_dsname:\n",
    "        fpath = os.path.join(dir_fortran, d[fname])\n",
    "        data_dict[dsname] = load_output_file(fpath)\n",
    "    return data_dict\n",
    "    \n",
    "\n",
    "    \n",
    "    "
   ]
  },
  {
   "cell_type": "code",
   "execution_count": 5,
   "metadata": {
    "collapsed": true
   },
   "outputs": [],
   "source": [
    "d = load_lblnew_data(PARAM_LBLNEW)\n",
    "\n",
    "DS_FLUX_CRD = d['ds_flux_crd']\n",
    "DS_COOL_CRD = d['ds_cool_crd']\n",
    "DS_FLUX_WGT = d['ds_flux_wgt']\n",
    "DS_COOL_WGT = d['ds_cool_wgt']"
   ]
  },
  {
   "cell_type": "code",
   "execution_count": 6,
   "metadata": {
    "collapsed": true
   },
   "outputs": [],
   "source": [
    "DIR_FORTRAN = pipe_cliradlw.get_fortran_dir(PARAM, \n",
    "                                            setup=setup_cliradlw)\n",
    "\n",
    "PATH_FLUX = os.path.join(DIR_FORTRAN, 'output_flux.dat')\n",
    "PATH_COOL = os.path.join(DIR_FORTRAN, 'output_coolr.dat')\n",
    "\n",
    "DS_FLUX = load_output_file(PATH_FLUX)\n",
    "DS_COOL = load_output_file(PATH_COOL)"
   ]
  },
  {
   "cell_type": "code",
   "execution_count": 7,
   "metadata": {
    "collapsed": true
   },
   "outputs": [
    {
     "data": {
      "text/html": [
       "\n",
       "    <div class=\"bk-root\">\n",
       "        <a href=\"https://bokeh.pydata.org\" target=\"_blank\" class=\"bk-logo bk-logo-small bk-logo-notebook\"></a>\n",
       "        <span id=\"6bf2e9f0-bfdc-46c2-ba48-4449ccaa3512\">Loading BokehJS ...</span>\n",
       "    </div>"
      ]
     },
     "metadata": {},
     "output_type": "display_data"
    },
    {
     "data": {
      "application/javascript": [
       "\n",
       "(function(root) {\n",
       "  function now() {\n",
       "    return new Date();\n",
       "  }\n",
       "\n",
       "  var force = true;\n",
       "\n",
       "  if (typeof (root._bokeh_onload_callbacks) === \"undefined\" || force === true) {\n",
       "    root._bokeh_onload_callbacks = [];\n",
       "    root._bokeh_is_loading = undefined;\n",
       "  }\n",
       "\n",
       "  var JS_MIME_TYPE = 'application/javascript';\n",
       "  var HTML_MIME_TYPE = 'text/html';\n",
       "  var EXEC_MIME_TYPE = 'application/vnd.bokehjs_exec.v0+json';\n",
       "  var CLASS_NAME = 'output_bokeh rendered_html';\n",
       "\n",
       "  /**\n",
       "   * Render data to the DOM node\n",
       "   */\n",
       "  function render(props, node) {\n",
       "    var script = document.createElement(\"script\");\n",
       "    node.appendChild(script);\n",
       "  }\n",
       "\n",
       "  /**\n",
       "   * Handle when an output is cleared or removed\n",
       "   */\n",
       "  function handleClearOutput(event, handle) {\n",
       "    var cell = handle.cell;\n",
       "\n",
       "    var id = cell.output_area._bokeh_element_id;\n",
       "    var server_id = cell.output_area._bokeh_server_id;\n",
       "    // Clean up Bokeh references\n",
       "    if (id !== undefined) {\n",
       "      Bokeh.index[id].model.document.clear();\n",
       "      delete Bokeh.index[id];\n",
       "    }\n",
       "\n",
       "    if (server_id !== undefined) {\n",
       "      // Clean up Bokeh references\n",
       "      var cmd = \"from bokeh.io.state import curstate; print(curstate().uuid_to_server['\" + server_id + \"'].get_sessions()[0].document.roots[0]._id)\";\n",
       "      cell.notebook.kernel.execute(cmd, {\n",
       "        iopub: {\n",
       "          output: function(msg) {\n",
       "            var element_id = msg.content.text.trim();\n",
       "            Bokeh.index[element_id].model.document.clear();\n",
       "            delete Bokeh.index[element_id];\n",
       "          }\n",
       "        }\n",
       "      });\n",
       "      // Destroy server and session\n",
       "      var cmd = \"import bokeh.io.notebook as ion; ion.destroy_server('\" + server_id + \"')\";\n",
       "      cell.notebook.kernel.execute(cmd);\n",
       "    }\n",
       "  }\n",
       "\n",
       "  /**\n",
       "   * Handle when a new output is added\n",
       "   */\n",
       "  function handleAddOutput(event, handle) {\n",
       "    var output_area = handle.output_area;\n",
       "    var output = handle.output;\n",
       "\n",
       "    // limit handleAddOutput to display_data with EXEC_MIME_TYPE content only\n",
       "    if ((output.output_type != \"display_data\") || (!output.data.hasOwnProperty(EXEC_MIME_TYPE))) {\n",
       "      return\n",
       "    }\n",
       "\n",
       "    var toinsert = output_area.element.find(\".\" + CLASS_NAME.split(' ')[0]);\n",
       "\n",
       "    if (output.metadata[EXEC_MIME_TYPE][\"id\"] !== undefined) {\n",
       "      toinsert[toinsert.length - 1].firstChild.textContent = output.data[JS_MIME_TYPE];\n",
       "      // store reference to embed id on output_area\n",
       "      output_area._bokeh_element_id = output.metadata[EXEC_MIME_TYPE][\"id\"];\n",
       "    }\n",
       "    if (output.metadata[EXEC_MIME_TYPE][\"server_id\"] !== undefined) {\n",
       "      var bk_div = document.createElement(\"div\");\n",
       "      bk_div.innerHTML = output.data[HTML_MIME_TYPE];\n",
       "      var script_attrs = bk_div.children[0].attributes;\n",
       "      for (var i = 0; i < script_attrs.length; i++) {\n",
       "        toinsert[toinsert.length - 1].firstChild.setAttribute(script_attrs[i].name, script_attrs[i].value);\n",
       "      }\n",
       "      // store reference to server id on output_area\n",
       "      output_area._bokeh_server_id = output.metadata[EXEC_MIME_TYPE][\"server_id\"];\n",
       "    }\n",
       "  }\n",
       "\n",
       "  function register_renderer(events, OutputArea) {\n",
       "\n",
       "    function append_mime(data, metadata, element) {\n",
       "      // create a DOM node to render to\n",
       "      var toinsert = this.create_output_subarea(\n",
       "        metadata,\n",
       "        CLASS_NAME,\n",
       "        EXEC_MIME_TYPE\n",
       "      );\n",
       "      this.keyboard_manager.register_events(toinsert);\n",
       "      // Render to node\n",
       "      var props = {data: data, metadata: metadata[EXEC_MIME_TYPE]};\n",
       "      render(props, toinsert[toinsert.length - 1]);\n",
       "      element.append(toinsert);\n",
       "      return toinsert\n",
       "    }\n",
       "\n",
       "    /* Handle when an output is cleared or removed */\n",
       "    events.on('clear_output.CodeCell', handleClearOutput);\n",
       "    events.on('delete.Cell', handleClearOutput);\n",
       "\n",
       "    /* Handle when a new output is added */\n",
       "    events.on('output_added.OutputArea', handleAddOutput);\n",
       "\n",
       "    /**\n",
       "     * Register the mime type and append_mime function with output_area\n",
       "     */\n",
       "    OutputArea.prototype.register_mime_type(EXEC_MIME_TYPE, append_mime, {\n",
       "      /* Is output safe? */\n",
       "      safe: true,\n",
       "      /* Index of renderer in `output_area.display_order` */\n",
       "      index: 0\n",
       "    });\n",
       "  }\n",
       "\n",
       "  // register the mime type if in Jupyter Notebook environment and previously unregistered\n",
       "  if (root.Jupyter !== undefined) {\n",
       "    var events = require('base/js/events');\n",
       "    var OutputArea = require('notebook/js/outputarea').OutputArea;\n",
       "\n",
       "    if (OutputArea.prototype.mime_types().indexOf(EXEC_MIME_TYPE) == -1) {\n",
       "      register_renderer(events, OutputArea);\n",
       "    }\n",
       "  }\n",
       "\n",
       "  \n",
       "  if (typeof (root._bokeh_timeout) === \"undefined\" || force === true) {\n",
       "    root._bokeh_timeout = Date.now() + 5000;\n",
       "    root._bokeh_failed_load = false;\n",
       "  }\n",
       "\n",
       "  var NB_LOAD_WARNING = {'data': {'text/html':\n",
       "     \"<div style='background-color: #fdd'>\\n\"+\n",
       "     \"<p>\\n\"+\n",
       "     \"BokehJS does not appear to have successfully loaded. If loading BokehJS from CDN, this \\n\"+\n",
       "     \"may be due to a slow or bad network connection. Possible fixes:\\n\"+\n",
       "     \"</p>\\n\"+\n",
       "     \"<ul>\\n\"+\n",
       "     \"<li>re-rerun `output_notebook()` to attempt to load from CDN again, or</li>\\n\"+\n",
       "     \"<li>use INLINE resources instead, as so:</li>\\n\"+\n",
       "     \"</ul>\\n\"+\n",
       "     \"<code>\\n\"+\n",
       "     \"from bokeh.resources import INLINE\\n\"+\n",
       "     \"output_notebook(resources=INLINE)\\n\"+\n",
       "     \"</code>\\n\"+\n",
       "     \"</div>\"}};\n",
       "\n",
       "  function display_loaded() {\n",
       "    var el = document.getElementById(\"6bf2e9f0-bfdc-46c2-ba48-4449ccaa3512\");\n",
       "    if (el != null) {\n",
       "      el.textContent = \"BokehJS is loading...\";\n",
       "    }\n",
       "    if (root.Bokeh !== undefined) {\n",
       "      if (el != null) {\n",
       "        el.textContent = \"BokehJS \" + root.Bokeh.version + \" successfully loaded.\";\n",
       "      }\n",
       "    } else if (Date.now() < root._bokeh_timeout) {\n",
       "      setTimeout(display_loaded, 100)\n",
       "    }\n",
       "  }\n",
       "\n",
       "\n",
       "  function run_callbacks() {\n",
       "    try {\n",
       "      root._bokeh_onload_callbacks.forEach(function(callback) { callback() });\n",
       "    }\n",
       "    finally {\n",
       "      delete root._bokeh_onload_callbacks\n",
       "    }\n",
       "    console.info(\"Bokeh: all callbacks have finished\");\n",
       "  }\n",
       "\n",
       "  function load_libs(js_urls, callback) {\n",
       "    root._bokeh_onload_callbacks.push(callback);\n",
       "    if (root._bokeh_is_loading > 0) {\n",
       "      console.log(\"Bokeh: BokehJS is being loaded, scheduling callback at\", now());\n",
       "      return null;\n",
       "    }\n",
       "    if (js_urls == null || js_urls.length === 0) {\n",
       "      run_callbacks();\n",
       "      return null;\n",
       "    }\n",
       "    console.log(\"Bokeh: BokehJS not loaded, scheduling load and callback at\", now());\n",
       "    root._bokeh_is_loading = js_urls.length;\n",
       "    for (var i = 0; i < js_urls.length; i++) {\n",
       "      var url = js_urls[i];\n",
       "      var s = document.createElement('script');\n",
       "      s.src = url;\n",
       "      s.async = false;\n",
       "      s.onreadystatechange = s.onload = function() {\n",
       "        root._bokeh_is_loading--;\n",
       "        if (root._bokeh_is_loading === 0) {\n",
       "          console.log(\"Bokeh: all BokehJS libraries loaded\");\n",
       "          run_callbacks()\n",
       "        }\n",
       "      };\n",
       "      s.onerror = function() {\n",
       "        console.warn(\"failed to load library \" + url);\n",
       "      };\n",
       "      console.log(\"Bokeh: injecting script tag for BokehJS library: \", url);\n",
       "      document.getElementsByTagName(\"head\")[0].appendChild(s);\n",
       "    }\n",
       "  };var element = document.getElementById(\"6bf2e9f0-bfdc-46c2-ba48-4449ccaa3512\");\n",
       "  if (element == null) {\n",
       "    console.log(\"Bokeh: ERROR: autoload.js configured with elementid '6bf2e9f0-bfdc-46c2-ba48-4449ccaa3512' but no matching script tag was found. \")\n",
       "    return false;\n",
       "  }\n",
       "\n",
       "  var js_urls = [\"https://cdn.pydata.org/bokeh/release/bokeh-0.12.16.min.js\", \"https://cdn.pydata.org/bokeh/release/bokeh-widgets-0.12.16.min.js\", \"https://cdn.pydata.org/bokeh/release/bokeh-tables-0.12.16.min.js\", \"https://cdn.pydata.org/bokeh/release/bokeh-gl-0.12.16.min.js\"];\n",
       "\n",
       "  var inline_js = [\n",
       "    function(Bokeh) {\n",
       "      Bokeh.set_log_level(\"info\");\n",
       "    },\n",
       "    \n",
       "    function(Bokeh) {\n",
       "      \n",
       "    },\n",
       "    function(Bokeh) {\n",
       "      console.log(\"Bokeh: injecting CSS: https://cdn.pydata.org/bokeh/release/bokeh-0.12.16.min.css\");\n",
       "      Bokeh.embed.inject_css(\"https://cdn.pydata.org/bokeh/release/bokeh-0.12.16.min.css\");\n",
       "      console.log(\"Bokeh: injecting CSS: https://cdn.pydata.org/bokeh/release/bokeh-widgets-0.12.16.min.css\");\n",
       "      Bokeh.embed.inject_css(\"https://cdn.pydata.org/bokeh/release/bokeh-widgets-0.12.16.min.css\");\n",
       "      console.log(\"Bokeh: injecting CSS: https://cdn.pydata.org/bokeh/release/bokeh-tables-0.12.16.min.css\");\n",
       "      Bokeh.embed.inject_css(\"https://cdn.pydata.org/bokeh/release/bokeh-tables-0.12.16.min.css\");\n",
       "    }\n",
       "  ];\n",
       "\n",
       "  function run_inline_js() {\n",
       "    \n",
       "    if ((root.Bokeh !== undefined) || (force === true)) {\n",
       "      for (var i = 0; i < inline_js.length; i++) {\n",
       "        inline_js[i].call(root, root.Bokeh);\n",
       "      }if (force === true) {\n",
       "        display_loaded();\n",
       "      }} else if (Date.now() < root._bokeh_timeout) {\n",
       "      setTimeout(run_inline_js, 100);\n",
       "    } else if (!root._bokeh_failed_load) {\n",
       "      console.log(\"Bokeh: BokehJS failed to load within specified timeout.\");\n",
       "      root._bokeh_failed_load = true;\n",
       "    } else if (force !== true) {\n",
       "      var cell = $(document.getElementById(\"6bf2e9f0-bfdc-46c2-ba48-4449ccaa3512\")).parents('.cell').data().cell;\n",
       "      cell.output_area.append_execute_result(NB_LOAD_WARNING)\n",
       "    }\n",
       "\n",
       "  }\n",
       "\n",
       "  if (root._bokeh_is_loading === 0) {\n",
       "    console.log(\"Bokeh: BokehJS loaded, going straight to plotting\");\n",
       "    run_inline_js();\n",
       "  } else {\n",
       "    load_libs(js_urls, function() {\n",
       "      console.log(\"Bokeh: BokehJS plotting callback run at\", now());\n",
       "      run_inline_js();\n",
       "    });\n",
       "  }\n",
       "}(window));"
      ],
      "application/vnd.bokehjs_load.v0+json": "\n(function(root) {\n  function now() {\n    return new Date();\n  }\n\n  var force = true;\n\n  if (typeof (root._bokeh_onload_callbacks) === \"undefined\" || force === true) {\n    root._bokeh_onload_callbacks = [];\n    root._bokeh_is_loading = undefined;\n  }\n\n  \n\n  \n  if (typeof (root._bokeh_timeout) === \"undefined\" || force === true) {\n    root._bokeh_timeout = Date.now() + 5000;\n    root._bokeh_failed_load = false;\n  }\n\n  var NB_LOAD_WARNING = {'data': {'text/html':\n     \"<div style='background-color: #fdd'>\\n\"+\n     \"<p>\\n\"+\n     \"BokehJS does not appear to have successfully loaded. If loading BokehJS from CDN, this \\n\"+\n     \"may be due to a slow or bad network connection. Possible fixes:\\n\"+\n     \"</p>\\n\"+\n     \"<ul>\\n\"+\n     \"<li>re-rerun `output_notebook()` to attempt to load from CDN again, or</li>\\n\"+\n     \"<li>use INLINE resources instead, as so:</li>\\n\"+\n     \"</ul>\\n\"+\n     \"<code>\\n\"+\n     \"from bokeh.resources import INLINE\\n\"+\n     \"output_notebook(resources=INLINE)\\n\"+\n     \"</code>\\n\"+\n     \"</div>\"}};\n\n  function display_loaded() {\n    var el = document.getElementById(\"6bf2e9f0-bfdc-46c2-ba48-4449ccaa3512\");\n    if (el != null) {\n      el.textContent = \"BokehJS is loading...\";\n    }\n    if (root.Bokeh !== undefined) {\n      if (el != null) {\n        el.textContent = \"BokehJS \" + root.Bokeh.version + \" successfully loaded.\";\n      }\n    } else if (Date.now() < root._bokeh_timeout) {\n      setTimeout(display_loaded, 100)\n    }\n  }\n\n\n  function run_callbacks() {\n    try {\n      root._bokeh_onload_callbacks.forEach(function(callback) { callback() });\n    }\n    finally {\n      delete root._bokeh_onload_callbacks\n    }\n    console.info(\"Bokeh: all callbacks have finished\");\n  }\n\n  function load_libs(js_urls, callback) {\n    root._bokeh_onload_callbacks.push(callback);\n    if (root._bokeh_is_loading > 0) {\n      console.log(\"Bokeh: BokehJS is being loaded, scheduling callback at\", now());\n      return null;\n    }\n    if (js_urls == null || js_urls.length === 0) {\n      run_callbacks();\n      return null;\n    }\n    console.log(\"Bokeh: BokehJS not loaded, scheduling load and callback at\", now());\n    root._bokeh_is_loading = js_urls.length;\n    for (var i = 0; i < js_urls.length; i++) {\n      var url = js_urls[i];\n      var s = document.createElement('script');\n      s.src = url;\n      s.async = false;\n      s.onreadystatechange = s.onload = function() {\n        root._bokeh_is_loading--;\n        if (root._bokeh_is_loading === 0) {\n          console.log(\"Bokeh: all BokehJS libraries loaded\");\n          run_callbacks()\n        }\n      };\n      s.onerror = function() {\n        console.warn(\"failed to load library \" + url);\n      };\n      console.log(\"Bokeh: injecting script tag for BokehJS library: \", url);\n      document.getElementsByTagName(\"head\")[0].appendChild(s);\n    }\n  };var element = document.getElementById(\"6bf2e9f0-bfdc-46c2-ba48-4449ccaa3512\");\n  if (element == null) {\n    console.log(\"Bokeh: ERROR: autoload.js configured with elementid '6bf2e9f0-bfdc-46c2-ba48-4449ccaa3512' but no matching script tag was found. \")\n    return false;\n  }\n\n  var js_urls = [\"https://cdn.pydata.org/bokeh/release/bokeh-0.12.16.min.js\", \"https://cdn.pydata.org/bokeh/release/bokeh-widgets-0.12.16.min.js\", \"https://cdn.pydata.org/bokeh/release/bokeh-tables-0.12.16.min.js\", \"https://cdn.pydata.org/bokeh/release/bokeh-gl-0.12.16.min.js\"];\n\n  var inline_js = [\n    function(Bokeh) {\n      Bokeh.set_log_level(\"info\");\n    },\n    \n    function(Bokeh) {\n      \n    },\n    function(Bokeh) {\n      console.log(\"Bokeh: injecting CSS: https://cdn.pydata.org/bokeh/release/bokeh-0.12.16.min.css\");\n      Bokeh.embed.inject_css(\"https://cdn.pydata.org/bokeh/release/bokeh-0.12.16.min.css\");\n      console.log(\"Bokeh: injecting CSS: https://cdn.pydata.org/bokeh/release/bokeh-widgets-0.12.16.min.css\");\n      Bokeh.embed.inject_css(\"https://cdn.pydata.org/bokeh/release/bokeh-widgets-0.12.16.min.css\");\n      console.log(\"Bokeh: injecting CSS: https://cdn.pydata.org/bokeh/release/bokeh-tables-0.12.16.min.css\");\n      Bokeh.embed.inject_css(\"https://cdn.pydata.org/bokeh/release/bokeh-tables-0.12.16.min.css\");\n    }\n  ];\n\n  function run_inline_js() {\n    \n    if ((root.Bokeh !== undefined) || (force === true)) {\n      for (var i = 0; i < inline_js.length; i++) {\n        inline_js[i].call(root, root.Bokeh);\n      }if (force === true) {\n        display_loaded();\n      }} else if (Date.now() < root._bokeh_timeout) {\n      setTimeout(run_inline_js, 100);\n    } else if (!root._bokeh_failed_load) {\n      console.log(\"Bokeh: BokehJS failed to load within specified timeout.\");\n      root._bokeh_failed_load = true;\n    } else if (force !== true) {\n      var cell = $(document.getElementById(\"6bf2e9f0-bfdc-46c2-ba48-4449ccaa3512\")).parents('.cell').data().cell;\n      cell.output_area.append_execute_result(NB_LOAD_WARNING)\n    }\n\n  }\n\n  if (root._bokeh_is_loading === 0) {\n    console.log(\"Bokeh: BokehJS loaded, going straight to plotting\");\n    run_inline_js();\n  } else {\n    load_libs(js_urls, function() {\n      console.log(\"Bokeh: BokehJS plotting callback run at\", now());\n      run_inline_js();\n    });\n  }\n}(window));"
     },
     "metadata": {},
     "output_type": "display_data"
    }
   ],
   "source": [
    "output_notebook()"
   ]
  },
  {
   "cell_type": "code",
   "execution_count": 8,
   "metadata": {
    "collapsed": true
   },
   "outputs": [],
   "source": [
    "def fmt_cool(ds_in):\n",
    "    ds = ds_in.copy(deep=True)\n",
    "    if 'igg' in ds.dims:\n",
    "        ds = ds.sel(igg=1)\n",
    "\n",
    "    if 'g' in ds.dims:\n",
    "        ds = ds.sum('g')\n",
    "            \n",
    "    if 'band' in ds.dims:\n",
    "        try:\n",
    "            ds = ds.squeeze('band')\n",
    "        except ValueError:\n",
    "            ds = ds.sum('band')\n",
    "                \n",
    "    return ds['coolrg']\n",
    "\n",
    "\n",
    "def pltdata_cooling_1(ds_cool=None,\n",
    "                      ds_cool_crd=None, ds_cool_wgt=None):\n",
    "    \n",
    "\n",
    "\n",
    "    colors = all_palettes['Set1'][4]\n",
    "    data = [{'label': 'CLIRAD `coolr_bands`',\n",
    "             'srs': fmt_cool(ds_cool),\n",
    "             'line_dash': 'dashed', 'line_width': 5,\n",
    "             'color': colors[0], 'alpha': .6},\n",
    "            {'label': 'CRD',\n",
    "             'srs': fmt_cool(ds_cool_crd),\n",
    "             'line_dash': 'solid', 'line_width': 1.5,\n",
    "             'marker': 'circle', 'marker_size': 5,\n",
    "             'color': colors[2], 'alpha': 1,},\n",
    "            {'label': 'WGT igg=10 wgt_flux=2',\n",
    "             'srs': fmt_cool(ds_cool_wgt),\n",
    "             'line_dash': 'solid', 'line_width': 3,\n",
    "             'marker': 'square', 'marker_size': 5,\n",
    "             'color': colors[3], 'alpha': .6}]\n",
    "    return data\n",
    "\n",
    "\n",
    "def nice_xlims(pltdata=None, prange=None):\n",
    "    \n",
    "    def get_slice(srs):\n",
    "        return srs.sel(pressure=slice(*prange))\n",
    "    \n",
    "    srss = [d['srs'] for d in pltdata]\n",
    "    vmin = min([get_slice(srs).min() for srs in srss])\n",
    "    vmax = max([get_slice(srs).max() for srs in srss])\n",
    "    dv = (vmax - vmin) * .01\n",
    "    return float(vmin - dv), float(vmax + dv)\n",
    "    \n",
    "\n",
    "def plt_cooling_bokeh(pltdata=None):\n",
    "    '''\n",
    "    Plot a list of cooling rate profiles using bokeh.\n",
    "    '''\n",
    "    ymin = 1e-2 \n",
    "    ymax = 1020 \n",
    "        \n",
    "    p1 = figure(title=\"Linear pressure scale\", \n",
    "                plot_width=400)        \n",
    "    xmin, xmax = nice_xlims(pltdata, prange=(50, 1050))\n",
    "    for d in pltdata:\n",
    "        if 'marker' in d:\n",
    "            getattr(p1, d['marker'])(d['srs'].values, \n",
    "                    d['srs'].coords['pressure'].values,\n",
    "                    color=d['color'], alpha=.7)\n",
    "        p1.line(d['srs'].values, \n",
    "                d['srs'].coords['pressure'].values,\n",
    "                color=d['color'], alpha=d['alpha'], \n",
    "                line_width=d['line_width'], line_dash=d['line_dash'])\n",
    "    \n",
    "    p1.y_range = Range1d(ymax, ymin)\n",
    "    p1.yaxis.axis_label = 'pressure [mb]'   \n",
    "    p1.x_range = Range1d(xmin, xmax)\n",
    "    p1.xaxis.axis_label = 'cooling rate [K/day]'\n",
    "            \n",
    "    p2 = figure(title='Log pressure scale', y_axis_type='log',\n",
    "                plot_width=560)\n",
    "    xmin, xmax = nice_xlims(pltdata, prange=(.01, 200))\n",
    "    \n",
    "    rs = []\n",
    "    for d in pltdata:\n",
    "        rd = []\n",
    "        if 'marker' in d:\n",
    "            r_mark = getattr(p2, d['marker'])(d['srs'].values, \n",
    "                        d['srs'].coords['pressure'].values,\n",
    "                        color=d['color'], alpha=.7)\n",
    "            rd.append(r_mark)\n",
    "        r_line = p2.line(d['srs'].values, \n",
    "                    d['srs'].coords['pressure'].values,\n",
    "                    color=d['color'], alpha=d['alpha'], \n",
    "                    line_width=d['line_width'], line_dash=d['line_dash'])\n",
    "        rd.append(r_line)\n",
    "      \n",
    "        rs.append(rd)\n",
    "        \n",
    "    p2.y_range = Range1d(ymax, ymin)  \n",
    "    p2.yaxis.axis_label = 'pressure [mb]'\n",
    "    \n",
    "    p2.x_range = Range1d(xmin, xmax)\n",
    "    p2.xaxis.axis_label = 'cooling rate [K/day]'\n",
    "    \n",
    "    items = [(d['label'], r) for r, d in zip(rs, pltdata)]\n",
    "    legend = Legend(items=items, location=(10, -30))\n",
    "    legend.label_text_font_size = '8pt'\n",
    "    \n",
    "    p2.add_layout(legend, 'right')  \n",
    "    \n",
    "    show(gridplot(p1, p2, ncols=2, plot_height=500))\n",
    "    \n",
    "\n",
    "def script_plt_cooling():\n",
    "    pltdata = pltdata_cooling_1(\n",
    "        ds_cool=DS_COOL,\n",
    "        ds_cool_crd=DS_COOL_CRD,\n",
    "        ds_cool_wgt=DS_COOL_WGT)\n",
    "    plt_cooling_bokeh(pltdata=pltdata)\n",
    "    print('''FIGURE. Cooling rate profiles.''')"
   ]
  },
  {
   "cell_type": "code",
   "execution_count": 9,
   "metadata": {
    "collapsed": true
   },
   "outputs": [],
   "source": [
    "def fmt_flux(ds_in):\n",
    "    ds = ds_in.copy(deep=True)\n",
    "    \n",
    "    for l in ('level', 'layer'):\n",
    "        if l in ds.data_vars:\n",
    "            if len(ds[l].dims) > 1:\n",
    "                surface = {d: 0 for d in ds.dims if d != 'pressure'}\n",
    "                coord_level = ds[l][surface]\n",
    "                ds.coords[l] = ('pressure', coord_level)\n",
    "            else:\n",
    "                ds.coords[l] = ('pressure', ds[l])\n",
    "        \n",
    "    ds = ds.isel(pressure=[0, 23, -1])\n",
    "        \n",
    "    if 'igg' in ds.dims:\n",
    "        ds = ds.sel(igg=[1])\n",
    "        ds = ds.squeeze('igg').drop('igg')\n",
    "    \n",
    "    if 'g' in ds.dims:\n",
    "        ds = ds.sum('g')\n",
    "            \n",
    "    if 'band' in ds.dims:\n",
    "        try:\n",
    "            ds = ds.squeeze('band').drop('band')\n",
    "        except ValueError:\n",
    "            ds = ds.sum('band')\n",
    "                \n",
    "    df = ds.to_dataframe()\n",
    "    df = df.set_index('level', append=True)               \n",
    "    return df\n",
    "\n",
    "\n",
    "def tbdata_flux(ds_flux=None, ds_flux_crd=None, ds_flux_wgt=None):\n",
    "    ilevels = [0, 23, -1]\n",
    "            \n",
    "    benchmark = {'label': 'CRD',\n",
    "                 'df': fmt_flux(ds_flux_crd)}\n",
    "    \n",
    "    tbs = [{'label': 'WGT igg=10 wgt_flux=1',\n",
    "            'df': fmt_flux(ds_flux_wgt)},\n",
    "           {'label': 'CLIRAD',\n",
    "            'df': fmt_flux(ds_flux)}]\n",
    "    \n",
    "    data = {'benchmark': benchmark, 'others': tbs}\n",
    "    return data\n",
    "\n",
    "\n",
    "def tb_flux(tbdata=None):\n",
    "    benchmark = tbdata['benchmark']\n",
    "    others = tbdata['others']\n",
    "    \n",
    "    def show_tb(d=None):\n",
    "        display.display(d['df'])\n",
    "        print('Table.', 'Fluxes.', d['label'])\n",
    "        \n",
    "    def show_tbdiff(d0=None, d=None):\n",
    "        df = d['df']\n",
    "        df.index = d0['df'].index\n",
    "        display.display(df - d0['df'])\n",
    "        print('Table.', 'Fluxes.', \n",
    "              '({}) - ({})'.format(d['label'], d0['label']))\n",
    "        \n",
    "    show_tb(benchmark)\n",
    "    for d in others:\n",
    "        show_tb(d)\n",
    "        \n",
    "    for d in others:\n",
    "        show_tbdiff(d=d, d0=benchmark)\n",
    "        \n",
    "        \n",
    "def script_tb_flux():\n",
    "    data = tbdata_flux(ds_flux=DS_FLUX,\n",
    "                       ds_flux_crd=DS_FLUX_CRD,\n",
    "                       ds_flux_wgt=DS_FLUX_WGT)\n",
    "    tb_flux(tbdata=data)"
   ]
  },
  {
   "cell_type": "code",
   "execution_count": 10,
   "metadata": {
    "collapsed": true
   },
   "outputs": [],
   "source": [
    "def band_map():\n",
    "    '''\n",
    "    Maps spectral bands in lblnew to spectral bands in clirad.\n",
    "    '''\n",
    "    lblnew2clirad = {'1': '1',\n",
    "            '2': '2',\n",
    "            '3a': '3',\n",
    "            '3b': '4',\n",
    "            '3c': '5',\n",
    "            '4': '6', \n",
    "            '5': '7',\n",
    "            '6': '8',\n",
    "            '7': '9', \n",
    "            '8': '10',\n",
    "            '9': '11'}\n",
    "    \n",
    "    clirad2lblnew = {clirad: lblnew \n",
    "                     for lblnew, clirad in lblnew2clirad.items()}\n",
    "    return clirad2lblnew\n",
    "\n",
    "\n",
    "def gasbands():\n",
    "    bmap = band_map()\n",
    "    gases = list(PARAM['molecule'].keys())\n",
    "    \n",
    "    bands = [bmap[str(b)] for b in PARAM['band']]\n",
    "    return list(itertools.product(gases, bands))\n",
    "\n",
    "\n",
    "def print_bestfit_params():\n",
    "    print('Best-fit values for each (gas, band)')\n",
    "    print('------------------------------------')\n",
    "    for gas, band in gasbands():\n",
    "        print('o {} band{}'.format(gas, band))\n",
    "        param = bestfits.kdist_params(molecule=gas, band=band)\n",
    "        for name, value in sorted(param.items()):\n",
    "            print(2 * ' ' + '{} = {}'.format(name, value))\n",
    "\n",
    "        \n",
    "def print_input_param():        \n",
    "    for name, value in PARAM.items():\n",
    "        print('{} = {}'.format(name, value))\n",
    "        \n",
    "        \n",
    "def print_lblnew_param():\n",
    "    for name, value in sorted(PARAM_LBLNEW.items()):\n",
    "        print('{} = {}'.format(name, value))\n"
   ]
  },
  {
   "cell_type": "code",
   "execution_count": 11,
   "metadata": {
    "collapsed": true,
    "scrolled": false
   },
   "outputs": [],
   "source": [
    "def show_html(s):\n",
    "    display.display(display.HTML(s))\n",
    "\n",
    "    \n",
    "def show_markdown(s):\n",
    "    display.display(display.Markdown(s))\n",
    "\n",
    "    \n",
    "def script():\n",
    "    \n",
    "    title = '### CLIRAD-LW'\n",
    "    s_input = 'Input Parameters'\n",
    "    s_lblnew_param = 'LBLNEW case compaired against'\n",
    "    s_bestfits = 'Best-fit Parameters'\n",
    "    s_plt_cooling = 'Cooling Rate Profiles'\n",
    "    s_tb_flux = 'Flux Comparison'\n",
    "    \n",
    "    # title\n",
    "    show_markdown('### CLIRAD-LW')\n",
    "    \n",
    "    # TOC\n",
    "    show_markdown('### Table of Contents')\n",
    "    show_html(climahtml.getHTML_hrefanchor(s_input))\n",
    "    show_html(climahtml.getHTML_hrefanchor(s_lblnew_param))\n",
    "    show_html(climahtml.getHTML_hrefanchor(s_plt_cooling))\n",
    "    show_html(climahtml.getHTML_hrefanchor(s_tb_flux))\n",
    "    show_html(climahtml.getHTML_hrefanchor(s_bestfits))\n",
    "    \n",
    "    # Input parameters\n",
    "    show_html(climahtml.getHTML_idanchor(s_input))\n",
    "    show_markdown(climahtml.getMarkdown_sectitle(s_input))\n",
    "    print_input_param()\n",
    "    \n",
    "    # LBLNEW parameters \n",
    "    show_html(climahtml.getHTML_idanchor(s_lblnew_param))\n",
    "    show_markdown(climahtml.getMarkdown_sectitle(s_lblnew_param))\n",
    "    print_lblnew_param()\n",
    "    \n",
    "    # Cooling rate profiles\n",
    "    show_html(climahtml.getHTML_idanchor(s_plt_cooling))\n",
    "    show_markdown(climahtml.getMarkdown_sectitle(s_plt_cooling))\n",
    "    script_plt_cooling()\n",
    "    \n",
    "    # Flux comparison\n",
    "    show_html(climahtml.getHTML_idanchor(s_tb_flux))\n",
    "    show_markdown(climahtml.getMarkdown_sectitle(s_tb_flux))\n",
    "    script_tb_flux()\n",
    "    \n",
    "    # Best-fit values\n",
    "    show_html(climahtml.getHTML_idanchor(s_bestfits))\n",
    "    show_markdown(climahtml.getMarkdown_sectitle(s_bestfits))\n",
    "    print_bestfit_params()\n",
    "   \n",
    "    "
   ]
  },
  {
   "cell_type": "code",
   "execution_count": 12,
   "metadata": {
    "collapsed": true,
    "scrolled": false
   },
   "outputs": [
    {
     "data": {
      "text/markdown": [
       "### CLIRAD-LW"
      ],
      "text/plain": [
       "<IPython.core.display.Markdown object>"
      ]
     },
     "metadata": {},
     "output_type": "display_data"
    },
    {
     "data": {
      "text/markdown": [
       "### Table of Contents"
      ],
      "text/plain": [
       "<IPython.core.display.Markdown object>"
      ]
     },
     "metadata": {},
     "output_type": "display_data"
    },
    {
     "data": {
      "text/html": [
       "<a href=\"#Input_Parameters\">Input Parameters</a>"
      ],
      "text/plain": [
       "<IPython.core.display.HTML object>"
      ]
     },
     "metadata": {},
     "output_type": "display_data"
    },
    {
     "data": {
      "text/html": [
       "<a href=\"#LBLNEW_case_compaired_against\">LBLNEW case compaired against</a>"
      ],
      "text/plain": [
       "<IPython.core.display.HTML object>"
      ]
     },
     "metadata": {},
     "output_type": "display_data"
    },
    {
     "data": {
      "text/html": [
       "<a href=\"#Cooling_Rate_Profiles\">Cooling Rate Profiles</a>"
      ],
      "text/plain": [
       "<IPython.core.display.HTML object>"
      ]
     },
     "metadata": {},
     "output_type": "display_data"
    },
    {
     "data": {
      "text/html": [
       "<a href=\"#Flux_Comparison\">Flux Comparison</a>"
      ],
      "text/plain": [
       "<IPython.core.display.HTML object>"
      ]
     },
     "metadata": {},
     "output_type": "display_data"
    },
    {
     "data": {
      "text/html": [
       "<a href=\"#Best-fit_Parameters\">Best-fit Parameters</a>"
      ],
      "text/plain": [
       "<IPython.core.display.HTML object>"
      ]
     },
     "metadata": {},
     "output_type": "display_data"
    },
    {
     "data": {
      "text/html": [
       "<a id=\"Input_Parameters\"></a>"
      ],
      "text/plain": [
       "<IPython.core.display.HTML object>"
      ]
     },
     "metadata": {},
     "output_type": "display_data"
    },
    {
     "data": {
      "text/markdown": [
       "# Input Parameters"
      ],
      "text/plain": [
       "<IPython.core.display.Markdown object>"
      ]
     },
     "metadata": {},
     "output_type": "display_data"
    },
    {
     "name": "stdout",
     "output_type": "stream",
     "text": [
      "atmpro = mls\n",
      "band = [2]\n",
      "commitnumber = 4198f95\n",
      "molecule = {'h2o': 'atmpro'}\n",
      "tsfc = 294\n"
     ]
    },
    {
     "data": {
      "text/html": [
       "<a id=\"LBLNEW_case_compaired_against\"></a>"
      ],
      "text/plain": [
       "<IPython.core.display.HTML object>"
      ]
     },
     "metadata": {},
     "output_type": "display_data"
    },
    {
     "data": {
      "text/markdown": [
       "# LBLNEW case compaired against"
      ],
      "text/plain": [
       "<IPython.core.display.Markdown object>"
      ]
     },
     "metadata": {},
     "output_type": "display_data"
    },
    {
     "name": "stdout",
     "output_type": "stream",
     "text": [
      "atmpro = mls\n",
      "band = 2\n",
      "commitnumber = 5014a19\n",
      "conc = None\n",
      "dv = 0.001\n",
      "klin = 0\n",
      "molecule = h2o\n",
      "ng_adju = [-2, -2, 0]\n",
      "ng_refs = [2, 3, 6]\n",
      "nv = 1000\n",
      "option_compute_btable = 0\n",
      "option_compute_ktable = 0\n",
      "option_wgt_flux = 1\n",
      "option_wgt_k = 1\n",
      "ref_pts = [(1, 250), (10, 250), (500, 250)]\n",
      "tsfc = 294\n",
      "vmax = 540\n",
      "vmin = 340\n",
      "w_diffuse = [(1.66, 1.66), (1.8, 1.8, 1.8), (1.8, 1.66, 1.45, 1.45, 1.45, 1.45)]\n",
      "wgt = [(0.6, 0.6), (0.6, 0.6, 0.6), (0.6, 0.6, 0.6, 0.6, 0.6, 0.6)]\n"
     ]
    },
    {
     "data": {
      "text/html": [
       "<a id=\"Cooling_Rate_Profiles\"></a>"
      ],
      "text/plain": [
       "<IPython.core.display.HTML object>"
      ]
     },
     "metadata": {},
     "output_type": "display_data"
    },
    {
     "data": {
      "text/markdown": [
       "# Cooling Rate Profiles"
      ],
      "text/plain": [
       "<IPython.core.display.Markdown object>"
      ]
     },
     "metadata": {},
     "output_type": "display_data"
    },
    {
     "data": {
      "text/html": [
       "\n",
       "<div class=\"bk-root\">\n",
       "    <div class=\"bk-plotdiv\" id=\"3a0b2d60-eb4d-48f5-8d5b-3055fa87e804\"></div>\n",
       "</div>"
      ]
     },
     "metadata": {},
     "output_type": "display_data"
    },
    {
     "data": {
      "application/javascript": [
       "(function(root) {\n",
       "  function embed_document(root) {\n",
       "    \n",
       "  var docs_json = {\"ee42e136-86be-4c4e-8b0c-3f8cc87b3537\":{\"roots\":{\"references\":[{\"attributes\":{\"toolbar\":{\"id\":\"1707ce9a-f7e8-423a-b78c-90bf11df0b87\",\"type\":\"ProxyToolbar\"},\"toolbar_location\":\"above\"},\"id\":\"90090965-b3f4-4878-86b0-56ee99b34aff\",\"type\":\"ToolbarBox\"},{\"attributes\":{},\"id\":\"d53dd0ba-de23-4257-a2e2-14d58f1d539a\",\"type\":\"UnionRenderers\"},{\"attributes\":{},\"id\":\"34c8f64b-c933-4dcc-8c6a-6024f630dec2\",\"type\":\"Selection\"},{\"attributes\":{},\"id\":\"c3db9b01-0a0c-457b-a0df-09f878dda04a\",\"type\":\"UnionRenderers\"},{\"attributes\":{},\"id\":\"1f21b683-1fbe-442e-a9b1-de40fe353eb5\",\"type\":\"Selection\"},{\"attributes\":{\"callback\":null,\"data\":{\"x\":{\"__ndarray__\":\"15tBEcVDwz8BuWnYlFDDP3WyUEIbxsM/Y54yiiczxD9ukKT/QJTEP7mIMeF+3cQ/UYSz3wMJxT9kfPN23wzFP+BXeqfh38Q//tWhogN1xD9tpd/Xq7zDP3NiMPtMqMI/n4hNfYMjwT/dfW2BLUS+Px8MnyHalrs/lQyEjYBEvj/ciYofAETCP5xHzXBm6MQ/eHPAx8Pvxj91gcPyhLHIPytO1iRPxMo/WovkZSwezj8Vwg9z7pvQP25LBZEcm80/46WbxCAwxj8Urf0ZtS3BP4+K/zuiQrw/umBIBVA3uD+DcPjp52m1P5MZHuS9NrM/w49QhOsJsT9PI6lcE5itP54MgWhVZ6o/M1va8o+TqD8qUlyzZ1+mP4pzrgrPqaM/XS6CyQQxoj+c84vGZdKhP+VElUOGs6A/1G7VJGGnoD/o3qIX3nqtP5x4veq3ZcU/sZnwCeHq1D/kGbC7qwTgP9yxAaZGJ+U/VSGS36pE5j/rwpMGTLrmP+UHER3Aquc/dYob2Kbo6D8b+M3UVlLqP7RycUz9ues/fWw/18Zx7D/UIqoJBdnsP8Ig4WLiIu0/4kvybQtA7T8O1sWOQintP/IQndCx5Ow/Sy4QTlWL7T8e4VG2inbtPxdPVm+Bguw/wF+riMPn6j9gqtvR5tXoPxmNIaV+g+Y/GJOjpZcd5D+6qy4SoMfhP/gcWI6QQd8/wq6apWxq2z+XeaM9+93XP/OIuNZqUdQ/c7+/GPzD0D8kljkCXSDLP1SU6Lhc9cU/mYrHJKcfwj/fiDB2qa6/P1bl75w1kcg/\",\"dtype\":\"float64\",\"shape\":[75]},\"y\":{\"__ndarray__\":\"GhExyth1ND/Sv8nbtpRIP2vylNV0PVE/aTum7souWD/At0SJ8fVgPw3Iuahxymc/MSNhhJWvcD/bTfBN02d3P2zb5nxnaoA/CD5h5MAGhz8NmeH1TyaQP+zrCsc9p5Y/LbKd76fGnz/bLW5ISEmmPww9YvTcQq8/JV2OstnstT8Er5Y7M8G+P0c+r3jqkcU/5h99k6ZBzj88bCIzFzjVP4enV8oyxN0//yH99nXg5D8qOpLLf0jtP5kqGJXUifQ/c9cS8kHP/D+/DpwzojQEQIEmwoanVwxA4lgXt9HgE0BSSZ2AJuIbQAMJih9jjiNA5q4l5INuK0AwTKYKRj0zQNv5fmq8/DpAaCJseHrtQkB/+zpwzoxKQM3MzMzMeFJAZmZmZmZqWEAAAAAAAFxeQM3MzMzMJmJAmpmZmZkfZUBmZmZmZhhoQDMzMzMzEWtAAAAAAAAKbkBmZmZmZoFwQM3MzMzM/XFAMzMzMzN6c0CamZmZmfZ0QAAAAAAAc3ZAZmZmZmbvd0DNzMzMzGt5QDMzMzMz6HpAmpmZmZlkfEAAAAAAAOF9QGZmZmZmXX9AZmZmZuZsgECamZmZGSuBQM3MzMxM6YFAAAAAAICngkAzMzMzs2WDQGZmZmbmI4RAmpmZmRnihEDNzMzMTKCFQAAAAACAXoZAMzMzM7Mch0BmZmZm5tqHQJqZmZkZmYhAzczMzExXiUAAAAAAgBWKQDMzMzOz04pAZmZmZuaRi0CamZmZGVCMQM3MzMxMDo1AAAAAAIDMjUAzMzMzs4qOQGZmZmbmSI9A\",\"dtype\":\"float64\",\"shape\":[75]}},\"selected\":{\"id\":\"06fa32a9-cdfc-40ff-89e0-f093fd3011a3\",\"type\":\"Selection\"},\"selection_policy\":{\"id\":\"d53dd0ba-de23-4257-a2e2-14d58f1d539a\",\"type\":\"UnionRenderers\"}},\"id\":\"5f5d1910-5d3a-4f58-b5a8-ed39ca0f2996\",\"type\":\"ColumnDataSource\"},{\"attributes\":{},\"id\":\"ccaaa3ef-2484-457a-a5c1-a7d1cc735bcb\",\"type\":\"UnionRenderers\"},{\"attributes\":{},\"id\":\"2d94b326-310d-4c29-8e94-42c1c2bbce83\",\"type\":\"Selection\"},{\"attributes\":{},\"id\":\"8faf5793-8ade-41cf-a99e-4e18692218c8\",\"type\":\"UnionRenderers\"},{\"attributes\":{\"children\":[{\"id\":\"90090965-b3f4-4878-86b0-56ee99b34aff\",\"type\":\"ToolbarBox\"},{\"id\":\"8bddf71b-4255-469f-bb24-b00f0141085d\",\"type\":\"Column\"}]},\"id\":\"4ff1cb79-7ac6-41dd-a20e-1c5178b2a372\",\"type\":\"Column\"},{\"attributes\":{\"callback\":null,\"data\":{\"x\":{\"__ndarray__\":\"I/ZFULequj9oM21J/h27P5WzvS/rqrs/tOTyRpK/vD/f0N1WlGu9P87ULvMpMr4/Kml4Ad28vj+8pYJBMzG/P2uul1iTVr8/D4ytYJUxvz9xa5wglYa+P/eJ9u3TcL0/2WCvDeCYuz+s5dDG/e24PzJ4bJCYhLc/FN4mD9wMuz/3mDHOzgLBPyipNBYGBcQ/wQFLA/ZCxj/yWuiqOQnIP9zi7jWQKco/kdUSf6L2zT+1cJhIvffQP7kBRyqm8M4/xAAUDZVXxz+5tjMmfMDBPwDPUkOad7w/MvXm5xD0tz81zDsyyue0Pxi8Ab3na7I/oluIgYUOsD9xB7bY49GrP07wqH0IGak/vbrCEVRdpz8fHicENwelP9J8LssPi6I/FIxF8Q2goT/MTWQtQsChP8u9KMtj/aA/KrN/poI8oT9du+LBqtGuPwuA+J7ObsY/o1LqIEdk1T/0DkXhfezfP31guh7AG+U/Z2mD+SYO5j/I4IWqfjbmP/vttOrJQec/DB0RXtS+6D99hs/DPS/qP7jEO3Xnfus/L97GTJRH7D9Z6qN+auzsP3pX0oe5b+0/IBM5AU2c7T8OMuEXjGbtPzjJMXBu+ew/y08jmiGO7T+GfJ94CJLtP+6/nr3v1uw/KMDIvHtq6z8Nrv1U81PpP0dGwa2KqOY/nIFRZxrN4z9UgjpHNQbhP+oca/uzON0/A/QqapdW2T+m1KkxSiLWPyAwowjOG9M/n/73clwN0D+yA5Viq4XKP9JnxAi9acU/KGThgn6RwT8l/OsCwfS9P0fG6+V9jMc/\",\"dtype\":\"float64\",\"shape\":[75]},\"y\":{\"__ndarray__\":\"GhExyth1ND/Sv8nbtpRIP2vylNV0PVE/aTum7souWD/At0SJ8fVgPw3Iuahxymc/MSNhhJWvcD/bTfBN02d3P2zb5nxnaoA/CD5h5MAGhz8NmeH1TyaQP+zrCsc9p5Y/LbKd76fGnz/bLW5ISEmmPww9YvTcQq8/JV2OstnstT8Er5Y7M8G+P0c+r3jqkcU/5h99k6ZBzj88bCIzFzjVP4enV8oyxN0//yH99nXg5D8qOpLLf0jtP5kqGJXUifQ/c9cS8kHP/D+/DpwzojQEQIEmwoanVwxA4lgXt9HgE0BSSZ2AJuIbQAMJih9jjiNA5q4l5INuK0AwTKYKRj0zQNv5fmq8/DpAaCJseHrtQkB/+zpwzoxKQM3MzMzMeFJAZmZmZmZqWEAAAAAAAFxeQM3MzMzMJmJAmpmZmZkfZUBmZmZmZhhoQDMzMzMzEWtAAAAAAAAKbkBmZmZmZoFwQM3MzMzM/XFAMzMzMzN6c0CamZmZmfZ0QAAAAAAAc3ZAZmZmZmbvd0DNzMzMzGt5QDMzMzMz6HpAmpmZmZlkfEAAAAAAAOF9QGZmZmZmXX9AZmZmZuZsgECamZmZGSuBQM3MzMxM6YFAAAAAAICngkAzMzMzs2WDQGZmZmbmI4RAmpmZmRnihEDNzMzMTKCFQAAAAACAXoZAMzMzM7Mch0BmZmZm5tqHQJqZmZkZmYhAzczMzExXiUAAAAAAgBWKQDMzMzOz04pAZmZmZuaRi0CamZmZGVCMQM3MzMxMDo1AAAAAAIDMjUAzMzMzs4qOQGZmZmbmSI9A\",\"dtype\":\"float64\",\"shape\":[75]}},\"selected\":{\"id\":\"0b322e47-d0fb-4299-9ab9-dcdf911be3b3\",\"type\":\"Selection\"},\"selection_policy\":{\"id\":\"1f4d8f9a-7736-4fdd-ab45-4eefa3f3cd4e\",\"type\":\"UnionRenderers\"}},\"id\":\"7df4fbca-00ae-4c44-82f6-8160e569c267\",\"type\":\"ColumnDataSource\"},{\"attributes\":{\"tools\":[{\"id\":\"c3f6c4d8-49ea-4031-81a9-86e11d39e225\",\"type\":\"PanTool\"},{\"id\":\"0193b4aa-fca3-4d77-bff0-6d7e07caefb3\",\"type\":\"WheelZoomTool\"},{\"id\":\"448294d9-8770-4177-912e-3e7d5b9aa015\",\"type\":\"BoxZoomTool\"},{\"id\":\"8646cfc2-2598-4fce-921b-8d5021cc74e8\",\"type\":\"SaveTool\"},{\"id\":\"45f1fcb9-78a3-4a85-bf68-2716159f39c5\",\"type\":\"ResetTool\"},{\"id\":\"f26249d9-fa3e-4f64-9f4a-d221e1bbdc81\",\"type\":\"HelpTool\"},{\"id\":\"94202589-947f-4c0c-a921-93b33e061bda\",\"type\":\"PanTool\"},{\"id\":\"c2539da7-1624-4037-8988-cc1505e64ea4\",\"type\":\"WheelZoomTool\"},{\"id\":\"18ee0b84-e52e-430b-ab61-b913183888fa\",\"type\":\"BoxZoomTool\"},{\"id\":\"87f4fa3a-b156-46e2-958f-64e6f6533eb7\",\"type\":\"SaveTool\"},{\"id\":\"0725d414-7c74-4025-b72a-e54f7ea9ea74\",\"type\":\"ResetTool\"},{\"id\":\"f82b81f1-a23c-41f4-819b-229f30ab614a\",\"type\":\"HelpTool\"}]},\"id\":\"1707ce9a-f7e8-423a-b78c-90bf11df0b87\",\"type\":\"ProxyToolbar\"},{\"attributes\":{\"fill_alpha\":{\"value\":0.1},\"fill_color\":{\"value\":\"#1f77b4\"},\"line_alpha\":{\"value\":0.1},\"line_color\":{\"value\":\"#1f77b4\"},\"x\":{\"field\":\"x\"},\"y\":{\"field\":\"y\"}},\"id\":\"ed3ac183-9863-4781-b9b1-b1079b123380\",\"type\":\"Square\"},{\"attributes\":{\"data_source\":{\"id\":\"66f8c762-7331-47e7-89c7-0eec844ce0b2\",\"type\":\"ColumnDataSource\"},\"glyph\":{\"id\":\"982b3e3c-9806-4185-8104-33d623202f4f\",\"type\":\"Line\"},\"hover_glyph\":null,\"muted_glyph\":null,\"nonselection_glyph\":{\"id\":\"e01a98cf-c544-4819-a5db-5f33d5fddabe\",\"type\":\"Line\"},\"selection_glyph\":null,\"view\":{\"id\":\"04c398ea-c04e-4110-9464-e11bd0e0df1a\",\"type\":\"CDSView\"}},\"id\":\"06ca17ac-e6da-4e8a-9773-9d29d49c8352\",\"type\":\"GlyphRenderer\"},{\"attributes\":{\"callback\":null,\"data\":{\"x\":{\"__ndarray__\":\"I/ZFULequj9oM21J/h27P5WzvS/rqrs/tOTyRpK/vD/f0N1WlGu9P87ULvMpMr4/Kml4Ad28vj+8pYJBMzG/P2uul1iTVr8/D4ytYJUxvz9xa5wglYa+P/eJ9u3TcL0/2WCvDeCYuz+s5dDG/e24PzJ4bJCYhLc/FN4mD9wMuz/3mDHOzgLBPyipNBYGBcQ/wQFLA/ZCxj/yWuiqOQnIP9zi7jWQKco/kdUSf6L2zT+1cJhIvffQP7kBRyqm8M4/xAAUDZVXxz+5tjMmfMDBPwDPUkOad7w/MvXm5xD0tz81zDsyyue0Pxi8Ab3na7I/oluIgYUOsD9xB7bY49GrP07wqH0IGak/vbrCEVRdpz8fHicENwelP9J8LssPi6I/FIxF8Q2goT/MTWQtQsChP8u9KMtj/aA/KrN/poI8oT9du+LBqtGuPwuA+J7ObsY/o1LqIEdk1T/0DkXhfezfP31guh7AG+U/Z2mD+SYO5j/I4IWqfjbmP/vttOrJQec/DB0RXtS+6D99hs/DPS/qP7jEO3Xnfus/L97GTJRH7D9Z6qN+auzsP3pX0oe5b+0/IBM5AU2c7T8OMuEXjGbtPzjJMXBu+ew/y08jmiGO7T+GfJ94CJLtP+6/nr3v1uw/KMDIvHtq6z8Nrv1U81PpP0dGwa2KqOY/nIFRZxrN4z9UgjpHNQbhP+oca/uzON0/A/QqapdW2T+m1KkxSiLWPyAwowjOG9M/n/73clwN0D+yA5Viq4XKP9JnxAi9acU/KGThgn6RwT8l/OsCwfS9P0fG6+V9jMc/\",\"dtype\":\"float64\",\"shape\":[75]},\"y\":{\"__ndarray__\":\"GhExyth1ND/Sv8nbtpRIP2vylNV0PVE/aTum7souWD/At0SJ8fVgPw3Iuahxymc/MSNhhJWvcD/bTfBN02d3P2zb5nxnaoA/CD5h5MAGhz8NmeH1TyaQP+zrCsc9p5Y/LbKd76fGnz/bLW5ISEmmPww9YvTcQq8/JV2OstnstT8Er5Y7M8G+P0c+r3jqkcU/5h99k6ZBzj88bCIzFzjVP4enV8oyxN0//yH99nXg5D8qOpLLf0jtP5kqGJXUifQ/c9cS8kHP/D+/DpwzojQEQIEmwoanVwxA4lgXt9HgE0BSSZ2AJuIbQAMJih9jjiNA5q4l5INuK0AwTKYKRj0zQNv5fmq8/DpAaCJseHrtQkB/+zpwzoxKQM3MzMzMeFJAZmZmZmZqWEAAAAAAAFxeQM3MzMzMJmJAmpmZmZkfZUBmZmZmZhhoQDMzMzMzEWtAAAAAAAAKbkBmZmZmZoFwQM3MzMzM/XFAMzMzMzN6c0CamZmZmfZ0QAAAAAAAc3ZAZmZmZmbvd0DNzMzMzGt5QDMzMzMz6HpAmpmZmZlkfEAAAAAAAOF9QGZmZmZmXX9AZmZmZuZsgECamZmZGSuBQM3MzMxM6YFAAAAAAICngkAzMzMzs2WDQGZmZmbmI4RAmpmZmRnihEDNzMzMTKCFQAAAAACAXoZAMzMzM7Mch0BmZmZm5tqHQJqZmZkZmYhAzczMzExXiUAAAAAAgBWKQDMzMzOz04pAZmZmZuaRi0CamZmZGVCMQM3MzMxMDo1AAAAAAIDMjUAzMzMzs4qOQGZmZmbmSI9A\",\"dtype\":\"float64\",\"shape\":[75]}},\"selected\":{\"id\":\"2d94b326-310d-4c29-8e94-42c1c2bbce83\",\"type\":\"Selection\"},\"selection_policy\":{\"id\":\"8faf5793-8ade-41cf-a99e-4e18692218c8\",\"type\":\"UnionRenderers\"}},\"id\":\"94d1e9e4-c3e2-41a7-b087-588bfd48d4f6\",\"type\":\"ColumnDataSource\"},{\"attributes\":{\"callback\":null,\"data\":{\"x\":{\"__ndarray__\":\"15tBEcVDwz8BuWnYlFDDP3WyUEIbxsM/Y54yiiczxD9ukKT/QJTEP7mIMeF+3cQ/UYSz3wMJxT9kfPN23wzFP+BXeqfh38Q//tWhogN1xD9tpd/Xq7zDP3NiMPtMqMI/n4hNfYMjwT/dfW2BLUS+Px8MnyHalrs/lQyEjYBEvj/ciYofAETCP5xHzXBm6MQ/eHPAx8Pvxj91gcPyhLHIPytO1iRPxMo/WovkZSwezj8Vwg9z7pvQP25LBZEcm80/46WbxCAwxj8Urf0ZtS3BP4+K/zuiQrw/umBIBVA3uD+DcPjp52m1P5MZHuS9NrM/w49QhOsJsT9PI6lcE5itP54MgWhVZ6o/M1va8o+TqD8qUlyzZ1+mP4pzrgrPqaM/XS6CyQQxoj+c84vGZdKhP+VElUOGs6A/1G7VJGGnoD/o3qIX3nqtP5x4veq3ZcU/sZnwCeHq1D/kGbC7qwTgP9yxAaZGJ+U/VSGS36pE5j/rwpMGTLrmP+UHER3Aquc/dYob2Kbo6D8b+M3UVlLqP7RycUz9ues/fWw/18Zx7D/UIqoJBdnsP8Ig4WLiIu0/4kvybQtA7T8O1sWOQintP/IQndCx5Ow/Sy4QTlWL7T8e4VG2inbtPxdPVm+Bguw/wF+riMPn6j9gqtvR5tXoPxmNIaV+g+Y/GJOjpZcd5D+6qy4SoMfhP/gcWI6QQd8/wq6apWxq2z+XeaM9+93XP/OIuNZqUdQ/c7+/GPzD0D8kljkCXSDLP1SU6Lhc9cU/mYrHJKcfwj/fiDB2qa6/P1bl75w1kcg/\",\"dtype\":\"float64\",\"shape\":[75]},\"y\":{\"__ndarray__\":\"GhExyth1ND/Sv8nbtpRIP2vylNV0PVE/aTum7souWD/At0SJ8fVgPw3Iuahxymc/MSNhhJWvcD/bTfBN02d3P2zb5nxnaoA/CD5h5MAGhz8NmeH1TyaQP+zrCsc9p5Y/LbKd76fGnz/bLW5ISEmmPww9YvTcQq8/JV2OstnstT8Er5Y7M8G+P0c+r3jqkcU/5h99k6ZBzj88bCIzFzjVP4enV8oyxN0//yH99nXg5D8qOpLLf0jtP5kqGJXUifQ/c9cS8kHP/D+/DpwzojQEQIEmwoanVwxA4lgXt9HgE0BSSZ2AJuIbQAMJih9jjiNA5q4l5INuK0AwTKYKRj0zQNv5fmq8/DpAaCJseHrtQkB/+zpwzoxKQM3MzMzMeFJAZmZmZmZqWEAAAAAAAFxeQM3MzMzMJmJAmpmZmZkfZUBmZmZmZhhoQDMzMzMzEWtAAAAAAAAKbkBmZmZmZoFwQM3MzMzM/XFAMzMzMzN6c0CamZmZmfZ0QAAAAAAAc3ZAZmZmZmbvd0DNzMzMzGt5QDMzMzMz6HpAmpmZmZlkfEAAAAAAAOF9QGZmZmZmXX9AZmZmZuZsgECamZmZGSuBQM3MzMxM6YFAAAAAAICngkAzMzMzs2WDQGZmZmbmI4RAmpmZmRnihEDNzMzMTKCFQAAAAACAXoZAMzMzM7Mch0BmZmZm5tqHQJqZmZkZmYhAzczMzExXiUAAAAAAgBWKQDMzMzOz04pAZmZmZuaRi0CamZmZGVCMQM3MzMxMDo1AAAAAAIDMjUAzMzMzs4qOQGZmZmbmSI9A\",\"dtype\":\"float64\",\"shape\":[75]}},\"selected\":{\"id\":\"e1bd533d-002a-4533-bf7c-81100702e189\",\"type\":\"Selection\"},\"selection_policy\":{\"id\":\"06809c41-b641-459b-b344-11fb817680cf\",\"type\":\"UnionRenderers\"}},\"id\":\"18c81912-3f54-4a38-af1b-5b8cc42739bd\",\"type\":\"ColumnDataSource\"},{\"attributes\":{\"fill_alpha\":{\"value\":0.1},\"fill_color\":{\"value\":\"#1f77b4\"},\"line_alpha\":{\"value\":0.1},\"line_color\":{\"value\":\"#1f77b4\"},\"x\":{\"field\":\"x\"},\"y\":{\"field\":\"y\"}},\"id\":\"278c592c-223e-4990-8a45-3a03ec059608\",\"type\":\"Circle\"},{\"attributes\":{\"fill_alpha\":{\"value\":0.7},\"fill_color\":{\"value\":\"#4daf4a\"},\"line_alpha\":{\"value\":0.7},\"line_color\":{\"value\":\"#4daf4a\"},\"x\":{\"field\":\"x\"},\"y\":{\"field\":\"y\"}},\"id\":\"92ef7930-684d-40f5-a69f-d3cefb5f624d\",\"type\":\"Circle\"},{\"attributes\":{\"source\":{\"id\":\"23a21344-d388-43a9-aea5-29302f7d45b5\",\"type\":\"ColumnDataSource\"}},\"id\":\"184c9901-e358-43f1-a720-ab1c11fafba4\",\"type\":\"CDSView\"},{\"attributes\":{\"line_alpha\":0.1,\"line_color\":\"#1f77b4\",\"line_width\":3,\"x\":{\"field\":\"x\"},\"y\":{\"field\":\"y\"}},\"id\":\"e01a98cf-c544-4819-a5db-5f33d5fddabe\",\"type\":\"Line\"},{\"attributes\":{\"callback\":null,\"data\":{\"x\":{\"__ndarray__\":\"15tBEcVDwz8BuWnYlFDDP3WyUEIbxsM/Y54yiiczxD9ukKT/QJTEP7mIMeF+3cQ/UYSz3wMJxT9kfPN23wzFP+BXeqfh38Q//tWhogN1xD9tpd/Xq7zDP3NiMPtMqMI/n4hNfYMjwT/dfW2BLUS+Px8MnyHalrs/lQyEjYBEvj/ciYofAETCP5xHzXBm6MQ/eHPAx8Pvxj91gcPyhLHIPytO1iRPxMo/WovkZSwezj8Vwg9z7pvQP25LBZEcm80/46WbxCAwxj8Urf0ZtS3BP4+K/zuiQrw/umBIBVA3uD+DcPjp52m1P5MZHuS9NrM/w49QhOsJsT9PI6lcE5itP54MgWhVZ6o/M1va8o+TqD8qUlyzZ1+mP4pzrgrPqaM/XS6CyQQxoj+c84vGZdKhP+VElUOGs6A/1G7VJGGnoD/o3qIX3nqtP5x4veq3ZcU/sZnwCeHq1D/kGbC7qwTgP9yxAaZGJ+U/VSGS36pE5j/rwpMGTLrmP+UHER3Aquc/dYob2Kbo6D8b+M3UVlLqP7RycUz9ues/fWw/18Zx7D/UIqoJBdnsP8Ig4WLiIu0/4kvybQtA7T8O1sWOQintP/IQndCx5Ow/Sy4QTlWL7T8e4VG2inbtPxdPVm+Bguw/wF+riMPn6j9gqtvR5tXoPxmNIaV+g+Y/GJOjpZcd5D+6qy4SoMfhP/gcWI6QQd8/wq6apWxq2z+XeaM9+93XP/OIuNZqUdQ/c7+/GPzD0D8kljkCXSDLP1SU6Lhc9cU/mYrHJKcfwj/fiDB2qa6/P1bl75w1kcg/\",\"dtype\":\"float64\",\"shape\":[75]},\"y\":{\"__ndarray__\":\"GhExyth1ND/Sv8nbtpRIP2vylNV0PVE/aTum7souWD/At0SJ8fVgPw3Iuahxymc/MSNhhJWvcD/bTfBN02d3P2zb5nxnaoA/CD5h5MAGhz8NmeH1TyaQP+zrCsc9p5Y/LbKd76fGnz/bLW5ISEmmPww9YvTcQq8/JV2OstnstT8Er5Y7M8G+P0c+r3jqkcU/5h99k6ZBzj88bCIzFzjVP4enV8oyxN0//yH99nXg5D8qOpLLf0jtP5kqGJXUifQ/c9cS8kHP/D+/DpwzojQEQIEmwoanVwxA4lgXt9HgE0BSSZ2AJuIbQAMJih9jjiNA5q4l5INuK0AwTKYKRj0zQNv5fmq8/DpAaCJseHrtQkB/+zpwzoxKQM3MzMzMeFJAZmZmZmZqWEAAAAAAAFxeQM3MzMzMJmJAmpmZmZkfZUBmZmZmZhhoQDMzMzMzEWtAAAAAAAAKbkBmZmZmZoFwQM3MzMzM/XFAMzMzMzN6c0CamZmZmfZ0QAAAAAAAc3ZAZmZmZmbvd0DNzMzMzGt5QDMzMzMz6HpAmpmZmZlkfEAAAAAAAOF9QGZmZmZmXX9AZmZmZuZsgECamZmZGSuBQM3MzMxM6YFAAAAAAICngkAzMzMzs2WDQGZmZmbmI4RAmpmZmRnihEDNzMzMTKCFQAAAAACAXoZAMzMzM7Mch0BmZmZm5tqHQJqZmZkZmYhAzczMzExXiUAAAAAAgBWKQDMzMzOz04pAZmZmZuaRi0CamZmZGVCMQM3MzMxMDo1AAAAAAIDMjUAzMzMzs4qOQGZmZmbmSI9A\",\"dtype\":\"float64\",\"shape\":[75]}},\"selected\":{\"id\":\"34c8f64b-c933-4dcc-8c6a-6024f630dec2\",\"type\":\"Selection\"},\"selection_policy\":{\"id\":\"c3db9b01-0a0c-457b-a0df-09f878dda04a\",\"type\":\"UnionRenderers\"}},\"id\":\"071515be-8ea2-460d-bb05-2ed420da3ace\",\"type\":\"ColumnDataSource\"},{\"attributes\":{\"data_source\":{\"id\":\"18c81912-3f54-4a38-af1b-5b8cc42739bd\",\"type\":\"ColumnDataSource\"},\"glyph\":{\"id\":\"4c026e85-5427-4da3-ad12-cc5187a6c8a8\",\"type\":\"Line\"},\"hover_glyph\":null,\"muted_glyph\":null,\"nonselection_glyph\":{\"id\":\"d45cf3f8-928a-4b86-a82a-5fc8b976ee95\",\"type\":\"Line\"},\"selection_glyph\":null,\"view\":{\"id\":\"c7195601-f441-4f21-b1dd-0bf07d8e63d4\",\"type\":\"CDSView\"}},\"id\":\"163769b9-a708-4012-8295-32ecf702ecb8\",\"type\":\"GlyphRenderer\"},{\"attributes\":{\"line_color\":\"#4daf4a\",\"line_width\":1.5,\"x\":{\"field\":\"x\"},\"y\":{\"field\":\"y\"}},\"id\":\"6857a139-e37e-4f7d-976e-8ca4e1157367\",\"type\":\"Line\"},{\"attributes\":{\"line_alpha\":0.1,\"line_color\":\"#1f77b4\",\"line_width\":1.5,\"x\":{\"field\":\"x\"},\"y\":{\"field\":\"y\"}},\"id\":\"d45cf3f8-928a-4b86-a82a-5fc8b976ee95\",\"type\":\"Line\"},{\"attributes\":{\"data_source\":{\"id\":\"8b398a86-af8a-4fd9-91f1-d44a5c3f9dad\",\"type\":\"ColumnDataSource\"},\"glyph\":{\"id\":\"b9069abe-bf22-4ef3-ac3f-c057bd907f37\",\"type\":\"Line\"},\"hover_glyph\":null,\"muted_glyph\":null,\"nonselection_glyph\":{\"id\":\"87547dac-7d21-42b7-b292-85ed1f96af73\",\"type\":\"Line\"},\"selection_glyph\":null,\"view\":{\"id\":\"0ec60f22-939a-4ae0-8951-290bccced7c2\",\"type\":\"CDSView\"}},\"id\":\"4583a861-e79c-4a48-b9b5-df81d032b8e4\",\"type\":\"GlyphRenderer\"},{\"attributes\":{\"data_source\":{\"id\":\"5f5d1910-5d3a-4f58-b5a8-ed39ca0f2996\",\"type\":\"ColumnDataSource\"},\"glyph\":{\"id\":\"92ef7930-684d-40f5-a69f-d3cefb5f624d\",\"type\":\"Circle\"},\"hover_glyph\":null,\"muted_glyph\":null,\"nonselection_glyph\":{\"id\":\"278c592c-223e-4990-8a45-3a03ec059608\",\"type\":\"Circle\"},\"selection_glyph\":null,\"view\":{\"id\":\"c8478d0e-39ba-4ea5-852a-66dd191ecfec\",\"type\":\"CDSView\"}},\"id\":\"93f0e44c-e171-4af9-a854-795ae252daa9\",\"type\":\"GlyphRenderer\"},{\"attributes\":{\"source\":{\"id\":\"5f5d1910-5d3a-4f58-b5a8-ed39ca0f2996\",\"type\":\"ColumnDataSource\"}},\"id\":\"c8478d0e-39ba-4ea5-852a-66dd191ecfec\",\"type\":\"CDSView\"},{\"attributes\":{\"source\":{\"id\":\"8b398a86-af8a-4fd9-91f1-d44a5c3f9dad\",\"type\":\"ColumnDataSource\"}},\"id\":\"0ec60f22-939a-4ae0-8951-290bccced7c2\",\"type\":\"CDSView\"},{\"attributes\":{\"source\":{\"id\":\"18c81912-3f54-4a38-af1b-5b8cc42739bd\",\"type\":\"ColumnDataSource\"}},\"id\":\"c7195601-f441-4f21-b1dd-0bf07d8e63d4\",\"type\":\"CDSView\"},{\"attributes\":{\"line_alpha\":0.1,\"line_color\":\"#1f77b4\",\"line_width\":1.5,\"x\":{\"field\":\"x\"},\"y\":{\"field\":\"y\"}},\"id\":\"c117bb57-9ad7-45f1-99b5-641a71c5be02\",\"type\":\"Line\"},{\"attributes\":{\"ticker\":null},\"id\":\"9b92e0e9-0a52-43b2-8b41-c2e85ae0c837\",\"type\":\"LogTickFormatter\"},{\"attributes\":{\"data_source\":{\"id\":\"071515be-8ea2-460d-bb05-2ed420da3ace\",\"type\":\"ColumnDataSource\"},\"glyph\":{\"id\":\"6857a139-e37e-4f7d-976e-8ca4e1157367\",\"type\":\"Line\"},\"hover_glyph\":null,\"muted_glyph\":null,\"nonselection_glyph\":{\"id\":\"c117bb57-9ad7-45f1-99b5-641a71c5be02\",\"type\":\"Line\"},\"selection_glyph\":null,\"view\":{\"id\":\"5035c0ac-8420-4072-8059-f58215938458\",\"type\":\"CDSView\"}},\"id\":\"1e1ccc7d-7d03-46dd-a773-504f2de25431\",\"type\":\"GlyphRenderer\"},{\"attributes\":{\"source\":{\"id\":\"071515be-8ea2-460d-bb05-2ed420da3ace\",\"type\":\"ColumnDataSource\"}},\"id\":\"5035c0ac-8420-4072-8059-f58215938458\",\"type\":\"CDSView\"},{\"attributes\":{\"fill_alpha\":{\"value\":0.7},\"fill_color\":{\"value\":\"#984ea3\"},\"line_alpha\":{\"value\":0.7},\"line_color\":{\"value\":\"#984ea3\"},\"x\":{\"field\":\"x\"},\"y\":{\"field\":\"y\"}},\"id\":\"94032881-9a1a-4447-b930-eb2c01f2289e\",\"type\":\"Square\"},{\"attributes\":{\"source\":{\"id\":\"66f8c762-7331-47e7-89c7-0eec844ce0b2\",\"type\":\"ColumnDataSource\"}},\"id\":\"04c398ea-c04e-4110-9464-e11bd0e0df1a\",\"type\":\"CDSView\"},{\"attributes\":{\"fill_alpha\":{\"value\":0.1},\"fill_color\":{\"value\":\"#1f77b4\"},\"line_alpha\":{\"value\":0.1},\"line_color\":{\"value\":\"#1f77b4\"},\"x\":{\"field\":\"x\"},\"y\":{\"field\":\"y\"}},\"id\":\"a8d68901-3868-49d9-b8de-dbe2dbe836ad\",\"type\":\"Square\"},{\"attributes\":{\"children\":[{\"id\":\"d1e4dbd0-b3ba-4998-b280-89108c50914e\",\"type\":\"Row\"}]},\"id\":\"8bddf71b-4255-469f-bb24-b00f0141085d\",\"type\":\"Column\"},{\"attributes\":{\"children\":[{\"id\":\"88208a67-9777-4057-9924-3a274182406c\",\"subtype\":\"Figure\",\"type\":\"Plot\"},{\"id\":\"7d9e2a35-71c3-4c18-a25f-f62c13868704\",\"subtype\":\"Figure\",\"type\":\"Plot\"}]},\"id\":\"d1e4dbd0-b3ba-4998-b280-89108c50914e\",\"type\":\"Row\"},{\"attributes\":{\"callback\":null,\"end\":0.01,\"start\":1020},\"id\":\"d17013f8-460b-4f59-9a70-ca26e8308e24\",\"type\":\"Range1d\"},{\"attributes\":{\"callback\":null,\"data\":{\"x\":{\"__ndarray__\":\"I/ZFULequj9oM21J/h27P5WzvS/rqrs/tOTyRpK/vD/f0N1WlGu9P87ULvMpMr4/Kml4Ad28vj+8pYJBMzG/P2uul1iTVr8/D4ytYJUxvz9xa5wglYa+P/eJ9u3TcL0/2WCvDeCYuz+s5dDG/e24PzJ4bJCYhLc/FN4mD9wMuz/3mDHOzgLBPyipNBYGBcQ/wQFLA/ZCxj/yWuiqOQnIP9zi7jWQKco/kdUSf6L2zT+1cJhIvffQP7kBRyqm8M4/xAAUDZVXxz+5tjMmfMDBPwDPUkOad7w/MvXm5xD0tz81zDsyyue0Pxi8Ab3na7I/oluIgYUOsD9xB7bY49GrP07wqH0IGak/vbrCEVRdpz8fHicENwelP9J8LssPi6I/FIxF8Q2goT/MTWQtQsChP8u9KMtj/aA/KrN/poI8oT9du+LBqtGuPwuA+J7ObsY/o1LqIEdk1T/0DkXhfezfP31guh7AG+U/Z2mD+SYO5j/I4IWqfjbmP/vttOrJQec/DB0RXtS+6D99hs/DPS/qP7jEO3Xnfus/L97GTJRH7D9Z6qN+auzsP3pX0oe5b+0/IBM5AU2c7T8OMuEXjGbtPzjJMXBu+ew/y08jmiGO7T+GfJ94CJLtP+6/nr3v1uw/KMDIvHtq6z8Nrv1U81PpP0dGwa2KqOY/nIFRZxrN4z9UgjpHNQbhP+oca/uzON0/A/QqapdW2T+m1KkxSiLWPyAwowjOG9M/n/73clwN0D+yA5Viq4XKP9JnxAi9acU/KGThgn6RwT8l/OsCwfS9P0fG6+V9jMc/\",\"dtype\":\"float64\",\"shape\":[75]},\"y\":{\"__ndarray__\":\"GhExyth1ND/Sv8nbtpRIP2vylNV0PVE/aTum7souWD/At0SJ8fVgPw3Iuahxymc/MSNhhJWvcD/bTfBN02d3P2zb5nxnaoA/CD5h5MAGhz8NmeH1TyaQP+zrCsc9p5Y/LbKd76fGnz/bLW5ISEmmPww9YvTcQq8/JV2OstnstT8Er5Y7M8G+P0c+r3jqkcU/5h99k6ZBzj88bCIzFzjVP4enV8oyxN0//yH99nXg5D8qOpLLf0jtP5kqGJXUifQ/c9cS8kHP/D+/DpwzojQEQIEmwoanVwxA4lgXt9HgE0BSSZ2AJuIbQAMJih9jjiNA5q4l5INuK0AwTKYKRj0zQNv5fmq8/DpAaCJseHrtQkB/+zpwzoxKQM3MzMzMeFJAZmZmZmZqWEAAAAAAAFxeQM3MzMzMJmJAmpmZmZkfZUBmZmZmZhhoQDMzMzMzEWtAAAAAAAAKbkBmZmZmZoFwQM3MzMzM/XFAMzMzMzN6c0CamZmZmfZ0QAAAAAAAc3ZAZmZmZmbvd0DNzMzMzGt5QDMzMzMz6HpAmpmZmZlkfEAAAAAAAOF9QGZmZmZmXX9AZmZmZuZsgECamZmZGSuBQM3MzMxM6YFAAAAAAICngkAzMzMzs2WDQGZmZmbmI4RAmpmZmRnihEDNzMzMTKCFQAAAAACAXoZAMzMzM7Mch0BmZmZm5tqHQJqZmZkZmYhAzczMzExXiUAAAAAAgBWKQDMzMzOz04pAZmZmZuaRi0CamZmZGVCMQM3MzMxMDo1AAAAAAIDMjUAzMzMzs4qOQGZmZmbmSI9A\",\"dtype\":\"float64\",\"shape\":[75]}},\"selected\":{\"id\":\"910ab478-8eeb-4b20-9a71-89ddaac2f4ac\",\"type\":\"Selection\"},\"selection_policy\":{\"id\":\"8efe250e-44b4-47d0-ad6d-a543ec88a455\",\"type\":\"UnionRenderers\"}},\"id\":\"23a21344-d388-43a9-aea5-29302f7d45b5\",\"type\":\"ColumnDataSource\"},{\"attributes\":{},\"id\":\"ce60f35b-47f2-45bd-9dc2-4a0e31e9b289\",\"type\":\"BasicTickFormatter\"},{\"attributes\":{\"label\":{\"value\":\"CLIRAD `coolr_bands`\"},\"renderers\":[{\"id\":\"4583a861-e79c-4a48-b9b5-df81d032b8e4\",\"type\":\"GlyphRenderer\"}]},\"id\":\"7ab636f1-d7d3-47e2-80b1-4f14e932f0c0\",\"type\":\"LegendItem\"},{\"attributes\":{\"data_source\":{\"id\":\"23a21344-d388-43a9-aea5-29302f7d45b5\",\"type\":\"ColumnDataSource\"},\"glyph\":{\"id\":\"d59333b0-0012-47a7-bfb0-64f7af05c42e\",\"type\":\"Square\"},\"hover_glyph\":null,\"muted_glyph\":null,\"nonselection_glyph\":{\"id\":\"ed3ac183-9863-4781-b9b1-b1079b123380\",\"type\":\"Square\"},\"selection_glyph\":null,\"view\":{\"id\":\"184c9901-e358-43f1-a720-ab1c11fafba4\",\"type\":\"CDSView\"}},\"id\":\"3a0d5205-0fa3-4814-876f-de831a21653b\",\"type\":\"GlyphRenderer\"},{\"attributes\":{},\"id\":\"2ba8a768-ea1b-472a-8f5b-dc6f37bfadb9\",\"type\":\"BasicTickFormatter\"},{\"attributes\":{\"label\":{\"value\":\"CRD\"},\"renderers\":[{\"id\":\"93f0e44c-e171-4af9-a854-795ae252daa9\",\"type\":\"GlyphRenderer\"},{\"id\":\"1e1ccc7d-7d03-46dd-a773-504f2de25431\",\"type\":\"GlyphRenderer\"}]},\"id\":\"b4df7a2e-1b75-40ab-bd55-78d31ecb78ca\",\"type\":\"LegendItem\"},{\"attributes\":{},\"id\":\"06809c41-b641-459b-b344-11fb817680cf\",\"type\":\"UnionRenderers\"},{\"attributes\":{\"label\":{\"value\":\"WGT igg=10 wgt_flux=2\"},\"renderers\":[{\"id\":\"6abed746-d1cf-4841-bdaa-8a4464e09498\",\"type\":\"GlyphRenderer\"},{\"id\":\"06ca17ac-e6da-4e8a-9773-9d29d49c8352\",\"type\":\"GlyphRenderer\"}]},\"id\":\"4bf9fae8-2da8-4bb2-b871-e56b71dec5d3\",\"type\":\"LegendItem\"},{\"attributes\":{},\"id\":\"077754ce-1b13-4f68-bbce-9e1200dd57cd\",\"type\":\"Selection\"},{\"attributes\":{},\"id\":\"7330a48c-3132-456d-a115-5f00baf5493b\",\"type\":\"BasicTickFormatter\"},{\"attributes\":{\"line_color\":\"#4daf4a\",\"line_width\":1.5,\"x\":{\"field\":\"x\"},\"y\":{\"field\":\"y\"}},\"id\":\"4c026e85-5427-4da3-ad12-cc5187a6c8a8\",\"type\":\"Line\"},{\"attributes\":{},\"id\":\"c631afcb-0236-4df5-afb9-6cdbb534d8f6\",\"type\":\"Selection\"},{\"attributes\":{},\"id\":\"e1bd533d-002a-4533-bf7c-81100702e189\",\"type\":\"Selection\"},{\"attributes\":{},\"id\":\"ab0b7047-52c2-42b3-aab7-baa3bf061f18\",\"type\":\"UnionRenderers\"},{\"attributes\":{},\"id\":\"4bc60191-4b1a-4b85-8475-3adafd1143cc\",\"type\":\"UnionRenderers\"},{\"attributes\":{},\"id\":\"d150a283-3dfe-443d-834d-76204c69ee3b\",\"type\":\"UnionRenderers\"},{\"attributes\":{\"fill_alpha\":{\"value\":0.7},\"fill_color\":{\"value\":\"#984ea3\"},\"line_alpha\":{\"value\":0.7},\"line_color\":{\"value\":\"#984ea3\"},\"x\":{\"field\":\"x\"},\"y\":{\"field\":\"y\"}},\"id\":\"d59333b0-0012-47a7-bfb0-64f7af05c42e\",\"type\":\"Square\"},{\"attributes\":{},\"id\":\"0b322e47-d0fb-4299-9ab9-dcdf911be3b3\",\"type\":\"Selection\"},{\"attributes\":{\"source\":{\"id\":\"52edcead-3551-4212-9a79-1d0c5f840f9e\",\"type\":\"ColumnDataSource\"}},\"id\":\"799d5116-fdc2-48e3-ae97-8283ac7dfedd\",\"type\":\"CDSView\"},{\"attributes\":{},\"id\":\"1f4d8f9a-7736-4fdd-ab45-4eefa3f3cd4e\",\"type\":\"UnionRenderers\"},{\"attributes\":{},\"id\":\"910ab478-8eeb-4b20-9a71-89ddaac2f4ac\",\"type\":\"Selection\"},{\"attributes\":{},\"id\":\"8efe250e-44b4-47d0-ad6d-a543ec88a455\",\"type\":\"UnionRenderers\"},{\"attributes\":{},\"id\":\"be13b41a-e88d-4168-9b75-0b7d249b848a\",\"type\":\"Selection\"},{\"attributes\":{},\"id\":\"06fa32a9-cdfc-40ff-89e0-f093fd3011a3\",\"type\":\"Selection\"},{\"attributes\":{\"source\":{\"id\":\"94d1e9e4-c3e2-41a7-b087-588bfd48d4f6\",\"type\":\"ColumnDataSource\"}},\"id\":\"daee0604-e72a-4d25-9d21-1924c29ed55e\",\"type\":\"CDSView\"},{\"attributes\":{\"source\":{\"id\":\"7df4fbca-00ae-4c44-82f6-8160e569c267\",\"type\":\"ColumnDataSource\"}},\"id\":\"3520e2a0-bb66-4533-a625-7d7027794a30\",\"type\":\"CDSView\"},{\"attributes\":{},\"id\":\"f82b81f1-a23c-41f4-819b-229f30ab614a\",\"type\":\"HelpTool\"},{\"attributes\":{},\"id\":\"532d8a52-c641-4138-857c-8895d79474c7\",\"type\":\"LinearScale\"},{\"attributes\":{\"data_source\":{\"id\":\"94d1e9e4-c3e2-41a7-b087-588bfd48d4f6\",\"type\":\"ColumnDataSource\"},\"glyph\":{\"id\":\"94032881-9a1a-4447-b930-eb2c01f2289e\",\"type\":\"Square\"},\"hover_glyph\":null,\"muted_glyph\":null,\"nonselection_glyph\":{\"id\":\"a8d68901-3868-49d9-b8de-dbe2dbe836ad\",\"type\":\"Square\"},\"selection_glyph\":null,\"view\":{\"id\":\"daee0604-e72a-4d25-9d21-1924c29ed55e\",\"type\":\"CDSView\"}},\"id\":\"6abed746-d1cf-4841-bdaa-8a4464e09498\",\"type\":\"GlyphRenderer\"},{\"attributes\":{},\"id\":\"c2539da7-1624-4037-8988-cc1505e64ea4\",\"type\":\"WheelZoomTool\"},{\"attributes\":{\"callback\":null,\"end\":0.9718324741600001,\"start\":0.023226949839999997},\"id\":\"cc5a3532-d7df-48a4-9282-1aa52b8625f9\",\"type\":\"Range1d\"},{\"attributes\":{\"dimension\":1,\"plot\":{\"id\":\"7d9e2a35-71c3-4c18-a25f-f62c13868704\",\"subtype\":\"Figure\",\"type\":\"Plot\"},\"ticker\":{\"id\":\"29b82502-c71a-4f17-b7c2-9432e19c3a68\",\"type\":\"LogTicker\"}},\"id\":\"99157359-b331-4a3f-a362-811dde120c81\",\"type\":\"Grid\"},{\"attributes\":{\"plot\":null,\"text\":\"Linear pressure scale\"},\"id\":\"109b7852-6dcd-49a6-b6da-b613de43151e\",\"type\":\"Title\"},{\"attributes\":{},\"id\":\"aee8a693-513f-47c6-8d83-7e15325a69f7\",\"type\":\"LogScale\"},{\"attributes\":{\"fill_alpha\":{\"value\":0.1},\"fill_color\":{\"value\":\"#1f77b4\"},\"line_alpha\":{\"value\":0.1},\"line_color\":{\"value\":\"#1f77b4\"},\"x\":{\"field\":\"x\"},\"y\":{\"field\":\"y\"}},\"id\":\"ad87b412-7703-4e96-89d6-e53926e708f3\",\"type\":\"Circle\"},{\"attributes\":{\"line_alpha\":0.1,\"line_color\":\"#1f77b4\",\"line_width\":3,\"x\":{\"field\":\"x\"},\"y\":{\"field\":\"y\"}},\"id\":\"f719b258-c42b-492a-94f3-9cf568c3cb55\",\"type\":\"Line\"},{\"attributes\":{\"line_alpha\":0.6,\"line_color\":\"#984ea3\",\"line_width\":3,\"x\":{\"field\":\"x\"},\"y\":{\"field\":\"y\"}},\"id\":\"e63f0d66-efad-45fd-9c7a-73ee6df93cf4\",\"type\":\"Line\"},{\"attributes\":{\"below\":[{\"id\":\"94ea42b1-d22c-4fc5-9e2f-0de01f838e82\",\"type\":\"LinearAxis\"}],\"left\":[{\"id\":\"5cad9d4a-3377-40b1-90c1-90745d77fc75\",\"type\":\"LogAxis\"}],\"plot_height\":500,\"plot_width\":560,\"renderers\":[{\"id\":\"94ea42b1-d22c-4fc5-9e2f-0de01f838e82\",\"type\":\"LinearAxis\"},{\"id\":\"057985a3-58e8-4490-a045-005c4903f34d\",\"type\":\"Grid\"},{\"id\":\"5cad9d4a-3377-40b1-90c1-90745d77fc75\",\"type\":\"LogAxis\"},{\"id\":\"99157359-b331-4a3f-a362-811dde120c81\",\"type\":\"Grid\"},{\"id\":\"b6f77fd5-ed94-4fd5-b69a-d4c5575ad159\",\"type\":\"BoxAnnotation\"},{\"id\":\"4583a861-e79c-4a48-b9b5-df81d032b8e4\",\"type\":\"GlyphRenderer\"},{\"id\":\"93f0e44c-e171-4af9-a854-795ae252daa9\",\"type\":\"GlyphRenderer\"},{\"id\":\"1e1ccc7d-7d03-46dd-a773-504f2de25431\",\"type\":\"GlyphRenderer\"},{\"id\":\"6abed746-d1cf-4841-bdaa-8a4464e09498\",\"type\":\"GlyphRenderer\"},{\"id\":\"06ca17ac-e6da-4e8a-9773-9d29d49c8352\",\"type\":\"GlyphRenderer\"},{\"id\":\"6b7ba31a-c70e-4162-9cdc-b3fba0a8c1df\",\"type\":\"Legend\"}],\"right\":[{\"id\":\"6b7ba31a-c70e-4162-9cdc-b3fba0a8c1df\",\"type\":\"Legend\"}],\"title\":{\"id\":\"af69fc96-edb8-4fad-a11c-7c6586175b8f\",\"type\":\"Title\"},\"toolbar\":{\"id\":\"ac8df3da-e8c0-4634-b335-bdb2d86735b2\",\"type\":\"Toolbar\"},\"toolbar_location\":null,\"x_range\":{\"id\":\"f302873e-f88e-40b0-9f82-5624db24d6d0\",\"type\":\"Range1d\"},\"x_scale\":{\"id\":\"4e3b6531-f028-46e6-9c38-8eb8061d60a0\",\"type\":\"LinearScale\"},\"y_range\":{\"id\":\"ba2486de-b5a2-4139-96eb-f67df835eeb5\",\"type\":\"Range1d\"},\"y_scale\":{\"id\":\"aee8a693-513f-47c6-8d83-7e15325a69f7\",\"type\":\"LogScale\"}},\"id\":\"7d9e2a35-71c3-4c18-a25f-f62c13868704\",\"subtype\":\"Figure\",\"type\":\"Plot\"},{\"attributes\":{},\"id\":\"661ddf47-50af-4849-b50d-36575f2e7991\",\"type\":\"LinearScale\"},{\"attributes\":{\"callback\":null,\"end\":0.27191924015999996,\"start\":0.03015678384},\"id\":\"f302873e-f88e-40b0-9f82-5624db24d6d0\",\"type\":\"Range1d\"},{\"attributes\":{},\"id\":\"94202589-947f-4c0c-a921-93b33e061bda\",\"type\":\"PanTool\"},{\"attributes\":{\"dimension\":1,\"plot\":{\"id\":\"88208a67-9777-4057-9924-3a274182406c\",\"subtype\":\"Figure\",\"type\":\"Plot\"},\"ticker\":{\"id\":\"8e3e35e5-bc14-4312-9b77-7bc5bf6369a6\",\"type\":\"BasicTicker\"}},\"id\":\"018f7001-ef32-435b-a6ba-252618b5e5e7\",\"type\":\"Grid\"},{\"attributes\":{\"callback\":null,\"data\":{\"x\":{\"__ndarray__\":\"15tBEcVDwz8BuWnYlFDDP3WyUEIbxsM/Y54yiiczxD9ukKT/QJTEP7mIMeF+3cQ/UYSz3wMJxT9kfPN23wzFP+BXeqfh38Q//tWhogN1xD9tpd/Xq7zDP3NiMPtMqMI/n4hNfYMjwT/dfW2BLUS+Px8MnyHalrs/lQyEjYBEvj/ciYofAETCP5xHzXBm6MQ/eHPAx8Pvxj91gcPyhLHIPytO1iRPxMo/WovkZSwezj8Vwg9z7pvQP25LBZEcm80/46WbxCAwxj8Urf0ZtS3BP4+K/zuiQrw/umBIBVA3uD+DcPjp52m1P5MZHuS9NrM/w49QhOsJsT9PI6lcE5itP54MgWhVZ6o/M1va8o+TqD8qUlyzZ1+mP4pzrgrPqaM/XS6CyQQxoj+c84vGZdKhP+VElUOGs6A/1G7VJGGnoD/o3qIX3nqtP5x4veq3ZcU/sZnwCeHq1D/kGbC7qwTgP9yxAaZGJ+U/VSGS36pE5j/rwpMGTLrmP+UHER3Aquc/dYob2Kbo6D8b+M3UVlLqP7RycUz9ues/fWw/18Zx7D/UIqoJBdnsP8Ig4WLiIu0/4kvybQtA7T8O1sWOQintP/IQndCx5Ow/Sy4QTlWL7T8e4VG2inbtPxdPVm+Bguw/wF+riMPn6j9gqtvR5tXoPxmNIaV+g+Y/GJOjpZcd5D+6qy4SoMfhP/gcWI6QQd8/wq6apWxq2z+XeaM9+93XP/OIuNZqUdQ/c7+/GPzD0D8kljkCXSDLP1SU6Lhc9cU/mYrHJKcfwj/fiDB2qa6/P1bl75w1kcg/\",\"dtype\":\"float64\",\"shape\":[75]},\"y\":{\"__ndarray__\":\"GhExyth1ND/Sv8nbtpRIP2vylNV0PVE/aTum7souWD/At0SJ8fVgPw3Iuahxymc/MSNhhJWvcD/bTfBN02d3P2zb5nxnaoA/CD5h5MAGhz8NmeH1TyaQP+zrCsc9p5Y/LbKd76fGnz/bLW5ISEmmPww9YvTcQq8/JV2OstnstT8Er5Y7M8G+P0c+r3jqkcU/5h99k6ZBzj88bCIzFzjVP4enV8oyxN0//yH99nXg5D8qOpLLf0jtP5kqGJXUifQ/c9cS8kHP/D+/DpwzojQEQIEmwoanVwxA4lgXt9HgE0BSSZ2AJuIbQAMJih9jjiNA5q4l5INuK0AwTKYKRj0zQNv5fmq8/DpAaCJseHrtQkB/+zpwzoxKQM3MzMzMeFJAZmZmZmZqWEAAAAAAAFxeQM3MzMzMJmJAmpmZmZkfZUBmZmZmZhhoQDMzMzMzEWtAAAAAAAAKbkBmZmZmZoFwQM3MzMzM/XFAMzMzMzN6c0CamZmZmfZ0QAAAAAAAc3ZAZmZmZmbvd0DNzMzMzGt5QDMzMzMz6HpAmpmZmZlkfEAAAAAAAOF9QGZmZmZmXX9AZmZmZuZsgECamZmZGSuBQM3MzMxM6YFAAAAAAICngkAzMzMzs2WDQGZmZmbmI4RAmpmZmRnihEDNzMzMTKCFQAAAAACAXoZAMzMzM7Mch0BmZmZm5tqHQJqZmZkZmYhAzczMzExXiUAAAAAAgBWKQDMzMzOz04pAZmZmZuaRi0CamZmZGVCMQM3MzMxMDo1AAAAAAIDMjUAzMzMzs4qOQGZmZmbmSI9A\",\"dtype\":\"float64\",\"shape\":[75]}},\"selected\":{\"id\":\"077754ce-1b13-4f68-bbce-9e1200dd57cd\",\"type\":\"Selection\"},\"selection_policy\":{\"id\":\"d150a283-3dfe-443d-834d-76204c69ee3b\",\"type\":\"UnionRenderers\"}},\"id\":\"52edcead-3551-4212-9a79-1d0c5f840f9e\",\"type\":\"ColumnDataSource\"},{\"attributes\":{\"axis_label\":\"pressure [mb]\",\"formatter\":{\"id\":\"7330a48c-3132-456d-a115-5f00baf5493b\",\"type\":\"BasicTickFormatter\"},\"plot\":{\"id\":\"88208a67-9777-4057-9924-3a274182406c\",\"subtype\":\"Figure\",\"type\":\"Plot\"},\"ticker\":{\"id\":\"8e3e35e5-bc14-4312-9b77-7bc5bf6369a6\",\"type\":\"BasicTicker\"}},\"id\":\"845e88f6-e442-4d25-902b-f446f821f349\",\"type\":\"LinearAxis\"},{\"attributes\":{\"active_drag\":\"auto\",\"active_inspect\":\"auto\",\"active_scroll\":\"auto\",\"active_tap\":\"auto\",\"tools\":[{\"id\":\"c3f6c4d8-49ea-4031-81a9-86e11d39e225\",\"type\":\"PanTool\"},{\"id\":\"0193b4aa-fca3-4d77-bff0-6d7e07caefb3\",\"type\":\"WheelZoomTool\"},{\"id\":\"448294d9-8770-4177-912e-3e7d5b9aa015\",\"type\":\"BoxZoomTool\"},{\"id\":\"8646cfc2-2598-4fce-921b-8d5021cc74e8\",\"type\":\"SaveTool\"},{\"id\":\"45f1fcb9-78a3-4a85-bf68-2716159f39c5\",\"type\":\"ResetTool\"},{\"id\":\"f26249d9-fa3e-4f64-9f4a-d221e1bbdc81\",\"type\":\"HelpTool\"}]},\"id\":\"9640e3bd-dcb0-43bc-b467-4b5420b07bc3\",\"type\":\"Toolbar\"},{\"attributes\":{\"items\":[{\"id\":\"7ab636f1-d7d3-47e2-80b1-4f14e932f0c0\",\"type\":\"LegendItem\"},{\"id\":\"b4df7a2e-1b75-40ab-bd55-78d31ecb78ca\",\"type\":\"LegendItem\"},{\"id\":\"4bf9fae8-2da8-4bb2-b871-e56b71dec5d3\",\"type\":\"LegendItem\"}],\"label_text_font_size\":{\"value\":\"8pt\"},\"location\":[10,-30],\"plot\":{\"id\":\"7d9e2a35-71c3-4c18-a25f-f62c13868704\",\"subtype\":\"Figure\",\"type\":\"Plot\"}},\"id\":\"6b7ba31a-c70e-4162-9cdc-b3fba0a8c1df\",\"type\":\"Legend\"},{\"attributes\":{\"source\":{\"id\":\"c55c50e6-c3ac-43d6-b207-1f2216aa94df\",\"type\":\"ColumnDataSource\"}},\"id\":\"bdc5986f-1161-44f7-85ef-f6fba3ff0677\",\"type\":\"CDSView\"},{\"attributes\":{},\"id\":\"8e3e35e5-bc14-4312-9b77-7bc5bf6369a6\",\"type\":\"BasicTicker\"},{\"attributes\":{\"callback\":null,\"data\":{\"x\":{\"__ndarray__\":\"/0BWQyS7sz/ry8BrEf2zP7/Fn7WW2rQ/2P6Eac6wtT/Yt/trZYG2P4yqaVvwSbc/SW7JgYkFuD9840jAGKy4PxQbIXPNM7k/0HtjCACOuT9YCQ4W66e5P+TUmT7lX7k/6tlibUKQuD9iYW//HRO3P27cymHjubY/lvncQ6Hpuj/AV9cV8SXBP9d1HP03SMQ/BFpXWLJbxj99BpJ/f63HP+DnS7GbgMk/mUz0fWHHzT8JaGSISkDRP172DF1gwc8/8VUClEzvxz+4NKdgx97BPwdcV8wIb7w/Ki1MdNAEuD8NluwDiSC1P4G1sawQY7I/qVsxtB7krz/O3kxe+h2sP9XLVxgOw6k/qctpHNiUpz+mquqUMJukP0v+XylWA6I/s2X+c8ZnoT96VLrDP8+hPyiJ21fUFqE/zRDJu+NHoT/LAuGbinquP4hDPgF3zcU/kYveZ2Qp1D8ybJxm5ODdP40VLSc+CuQ/57Koug1r5D//X1TWX2TkP+ZUtjj4/OU/4Clog+HW5z8a5dNCTT3pP38iw+jBluo/awTJ2Fy36z9B3TgQL9vsP6JZXXeIue0/r5MbwZ0W7j8++tMEWejtP8KePE3ig+0/T5cgfllV7j/sqyfKEM3uP9YeF1Hqne4/dlePXoGG7T+UcDosgVLrPwuL3YDHPug/Jmh6JofR5D9JOyRrw5fhPxGMYj3e+d0/ra/Hp3Qu2j/CM18tkEPXP1J9KTT3bdQ/7AXRICZd0T8ep4Uec5bMPwXDNU51Dsc/Cg1p+SZywj92UKr5AXq+PykdUUYBR8c/\",\"dtype\":\"float64\",\"shape\":[75]},\"y\":{\"__ndarray__\":\"S/O/Q+51ND/Sv8nbtpRIP2vylNV0PVE/aTum7souWD/At0SJ8fVgPw3Iuahxymc/MSNhhJWvcD/bTfBN02d3P2zb5nxnaoA/CD5h5MAGhz8NmeH1TyaQP+zrCsc9p5Y/LbKd76fGnz/bLW5ISEmmPww9YvTcQq8/JV2OstnstT8Er5Y7M8G+P0c+r3jqkcU/5h99k6ZBzj88bCIzFzjVP4enV8oyxN0//yH99nXg5D8qOpLLf0jtP5kqGJXUifQ/c9cS8kHP/D+/DpwzojQEQIEmwoanVwxA4lgXt9HgE0BSSZ2AJuIbQAMJih9jjiNA5q4l5INuK0AwTKYKRj0zQNv5fmq8/DpAaCJseHrtQkB/+zpwzoxKQM3MzMzMeFJAZmZmZmZqWEAAAAAAAFxeQM3MzMzMJmJAmpmZmZkfZUBmZmZmZhhoQDMzMzMzEWtAAAAAAAAKbkBmZmZmZoFwQM3MzMzM/XFAMzMzMzN6c0CamZmZmfZ0QAAAAAAAc3ZAZmZmZmbvd0DNzMzMzGt5QDMzMzMz6HpAmpmZmZlkfEAAAAAAAOF9QGZmZmZmXX9AZmZmZuZsgECamZmZGSuBQM3MzMxM6YFAAAAAAICngkAzMzMzs2WDQGZmZmbmI4RAmpmZmRnihEDNzMzMTKCFQAAAAACAXoZAMzMzM7Mch0BmZmZm5tqHQJqZmZkZmYhAzczMzExXiUAAAAAAgBWKQDMzMzOz04pAZmZmZuaRi0CamZmZGVCMQM3MzMxMDo1AAAAAAIDMjUAzMzMzs4qOQGZmZmbmSI9A\",\"dtype\":\"float64\",\"shape\":[75]}},\"selected\":{\"id\":\"be13b41a-e88d-4168-9b75-0b7d249b848a\",\"type\":\"Selection\"},\"selection_policy\":{\"id\":\"4bc60191-4b1a-4b85-8475-3adafd1143cc\",\"type\":\"UnionRenderers\"}},\"id\":\"8b398a86-af8a-4fd9-91f1-d44a5c3f9dad\",\"type\":\"ColumnDataSource\"},{\"attributes\":{\"data_source\":{\"id\":\"52edcead-3551-4212-9a79-1d0c5f840f9e\",\"type\":\"ColumnDataSource\"},\"glyph\":{\"id\":\"5bdbe08c-d653-405e-849b-fb77ba07f651\",\"type\":\"Circle\"},\"hover_glyph\":null,\"muted_glyph\":null,\"nonselection_glyph\":{\"id\":\"ad87b412-7703-4e96-89d6-e53926e708f3\",\"type\":\"Circle\"},\"selection_glyph\":null,\"view\":{\"id\":\"799d5116-fdc2-48e3-ae97-8283ac7dfedd\",\"type\":\"CDSView\"}},\"id\":\"c1f7c8e8-ed14-4067-8d0a-a54d4d00ab8a\",\"type\":\"GlyphRenderer\"},{\"attributes\":{\"plot\":{\"id\":\"88208a67-9777-4057-9924-3a274182406c\",\"subtype\":\"Figure\",\"type\":\"Plot\"},\"ticker\":{\"id\":\"7b641d86-df0d-41d9-b71f-f9686d8c4cb7\",\"type\":\"BasicTicker\"}},\"id\":\"29a0b2d7-42ce-492f-aa15-cc043beb6fce\",\"type\":\"Grid\"},{\"attributes\":{\"bottom_units\":\"screen\",\"fill_alpha\":{\"value\":0.5},\"fill_color\":{\"value\":\"lightgrey\"},\"left_units\":\"screen\",\"level\":\"overlay\",\"line_alpha\":{\"value\":1.0},\"line_color\":{\"value\":\"black\"},\"line_dash\":[4,4],\"line_width\":{\"value\":2},\"plot\":null,\"render_mode\":\"css\",\"right_units\":\"screen\",\"top_units\":\"screen\"},\"id\":\"c3778a23-3b68-4805-8cfc-76a0e5b0dbf5\",\"type\":\"BoxAnnotation\"},{\"attributes\":{},\"id\":\"749e26f3-7ac2-485e-ac72-99aabfe82d36\",\"type\":\"BasicTicker\"},{\"attributes\":{\"data_source\":{\"id\":\"7df4fbca-00ae-4c44-82f6-8160e569c267\",\"type\":\"ColumnDataSource\"},\"glyph\":{\"id\":\"e63f0d66-efad-45fd-9c7a-73ee6df93cf4\",\"type\":\"Line\"},\"hover_glyph\":null,\"muted_glyph\":null,\"nonselection_glyph\":{\"id\":\"f719b258-c42b-492a-94f3-9cf568c3cb55\",\"type\":\"Line\"},\"selection_glyph\":null,\"view\":{\"id\":\"3520e2a0-bb66-4533-a625-7d7027794a30\",\"type\":\"CDSView\"}},\"id\":\"f5ee8891-f20c-474e-9622-c1dd201cf78e\",\"type\":\"GlyphRenderer\"},{\"attributes\":{},\"id\":\"4e3b6531-f028-46e6-9c38-8eb8061d60a0\",\"type\":\"LinearScale\"},{\"attributes\":{},\"id\":\"7b641d86-df0d-41d9-b71f-f9686d8c4cb7\",\"type\":\"BasicTicker\"},{\"attributes\":{\"data_source\":{\"id\":\"c55c50e6-c3ac-43d6-b207-1f2216aa94df\",\"type\":\"ColumnDataSource\"},\"glyph\":{\"id\":\"7a49c779-795f-446f-9828-4a257d721629\",\"type\":\"Line\"},\"hover_glyph\":null,\"muted_glyph\":null,\"nonselection_glyph\":{\"id\":\"00c455f7-3f9c-41ce-b520-c4499d36e219\",\"type\":\"Line\"},\"selection_glyph\":null,\"view\":{\"id\":\"bdc5986f-1161-44f7-85ef-f6fba3ff0677\",\"type\":\"CDSView\"}},\"id\":\"fc72e9af-e31a-48aa-98da-feb04d5ceb38\",\"type\":\"GlyphRenderer\"},{\"attributes\":{\"line_alpha\":0.1,\"line_color\":\"#1f77b4\",\"line_dash\":[6],\"line_width\":5,\"x\":{\"field\":\"x\"},\"y\":{\"field\":\"y\"}},\"id\":\"87547dac-7d21-42b7-b292-85ed1f96af73\",\"type\":\"Line\"},{\"attributes\":{},\"id\":\"c3f6c4d8-49ea-4031-81a9-86e11d39e225\",\"type\":\"PanTool\"},{\"attributes\":{\"plot\":null,\"text\":\"Log pressure scale\"},\"id\":\"af69fc96-edb8-4fad-a11c-7c6586175b8f\",\"type\":\"Title\"},{\"attributes\":{},\"id\":\"0725d414-7c74-4025-b72a-e54f7ea9ea74\",\"type\":\"ResetTool\"},{\"attributes\":{\"callback\":null,\"data\":{\"x\":{\"__ndarray__\":\"/0BWQyS7sz/ry8BrEf2zP7/Fn7WW2rQ/2P6Eac6wtT/Yt/trZYG2P4yqaVvwSbc/SW7JgYkFuD9840jAGKy4PxQbIXPNM7k/0HtjCACOuT9YCQ4W66e5P+TUmT7lX7k/6tlibUKQuD9iYW//HRO3P27cymHjubY/lvncQ6Hpuj/AV9cV8SXBP9d1HP03SMQ/BFpXWLJbxj99BpJ/f63HP+DnS7GbgMk/mUz0fWHHzT8JaGSISkDRP172DF1gwc8/8VUClEzvxz+4NKdgx97BPwdcV8wIb7w/Ki1MdNAEuD8NluwDiSC1P4G1sawQY7I/qVsxtB7krz/O3kxe+h2sP9XLVxgOw6k/qctpHNiUpz+mquqUMJukP0v+XylWA6I/s2X+c8ZnoT96VLrDP8+hPyiJ21fUFqE/zRDJu+NHoT/LAuGbinquP4hDPgF3zcU/kYveZ2Qp1D8ybJxm5ODdP40VLSc+CuQ/57Koug1r5D//X1TWX2TkP+ZUtjj4/OU/4Clog+HW5z8a5dNCTT3pP38iw+jBluo/awTJ2Fy36z9B3TgQL9vsP6JZXXeIue0/r5MbwZ0W7j8++tMEWejtP8KePE3ig+0/T5cgfllV7j/sqyfKEM3uP9YeF1Hqne4/dlePXoGG7T+UcDosgVLrPwuL3YDHPug/Jmh6JofR5D9JOyRrw5fhPxGMYj3e+d0/ra/Hp3Qu2j/CM18tkEPXP1J9KTT3bdQ/7AXRICZd0T8ep4Uec5bMPwXDNU51Dsc/Cg1p+SZywj92UKr5AXq+PykdUUYBR8c/\",\"dtype\":\"float64\",\"shape\":[75]},\"y\":{\"__ndarray__\":\"S/O/Q+51ND/Sv8nbtpRIP2vylNV0PVE/aTum7souWD/At0SJ8fVgPw3Iuahxymc/MSNhhJWvcD/bTfBN02d3P2zb5nxnaoA/CD5h5MAGhz8NmeH1TyaQP+zrCsc9p5Y/LbKd76fGnz/bLW5ISEmmPww9YvTcQq8/JV2OstnstT8Er5Y7M8G+P0c+r3jqkcU/5h99k6ZBzj88bCIzFzjVP4enV8oyxN0//yH99nXg5D8qOpLLf0jtP5kqGJXUifQ/c9cS8kHP/D+/DpwzojQEQIEmwoanVwxA4lgXt9HgE0BSSZ2AJuIbQAMJih9jjiNA5q4l5INuK0AwTKYKRj0zQNv5fmq8/DpAaCJseHrtQkB/+zpwzoxKQM3MzMzMeFJAZmZmZmZqWEAAAAAAAFxeQM3MzMzMJmJAmpmZmZkfZUBmZmZmZhhoQDMzMzMzEWtAAAAAAAAKbkBmZmZmZoFwQM3MzMzM/XFAMzMzMzN6c0CamZmZmfZ0QAAAAAAAc3ZAZmZmZmbvd0DNzMzMzGt5QDMzMzMz6HpAmpmZmZlkfEAAAAAAAOF9QGZmZmZmXX9AZmZmZuZsgECamZmZGSuBQM3MzMxM6YFAAAAAAICngkAzMzMzs2WDQGZmZmbmI4RAmpmZmRnihEDNzMzMTKCFQAAAAACAXoZAMzMzM7Mch0BmZmZm5tqHQJqZmZkZmYhAzczMzExXiUAAAAAAgBWKQDMzMzOz04pAZmZmZuaRi0CamZmZGVCMQM3MzMxMDo1AAAAAAIDMjUAzMzMzs4qOQGZmZmbmSI9A\",\"dtype\":\"float64\",\"shape\":[75]}},\"selected\":{\"id\":\"c631afcb-0236-4df5-afb9-6cdbb534d8f6\",\"type\":\"Selection\"},\"selection_policy\":{\"id\":\"ab0b7047-52c2-42b3-aab7-baa3bf061f18\",\"type\":\"UnionRenderers\"}},\"id\":\"c55c50e6-c3ac-43d6-b207-1f2216aa94df\",\"type\":\"ColumnDataSource\"},{\"attributes\":{},\"id\":\"8646cfc2-2598-4fce-921b-8d5021cc74e8\",\"type\":\"SaveTool\"},{\"attributes\":{\"line_alpha\":0.1,\"line_color\":\"#1f77b4\",\"line_dash\":[6],\"line_width\":5,\"x\":{\"field\":\"x\"},\"y\":{\"field\":\"y\"}},\"id\":\"00c455f7-3f9c-41ce-b520-c4499d36e219\",\"type\":\"Line\"},{\"attributes\":{\"callback\":null,\"data\":{\"x\":{\"__ndarray__\":\"I/ZFULequj9oM21J/h27P5WzvS/rqrs/tOTyRpK/vD/f0N1WlGu9P87ULvMpMr4/Kml4Ad28vj+8pYJBMzG/P2uul1iTVr8/D4ytYJUxvz9xa5wglYa+P/eJ9u3TcL0/2WCvDeCYuz+s5dDG/e24PzJ4bJCYhLc/FN4mD9wMuz/3mDHOzgLBPyipNBYGBcQ/wQFLA/ZCxj/yWuiqOQnIP9zi7jWQKco/kdUSf6L2zT+1cJhIvffQP7kBRyqm8M4/xAAUDZVXxz+5tjMmfMDBPwDPUkOad7w/MvXm5xD0tz81zDsyyue0Pxi8Ab3na7I/oluIgYUOsD9xB7bY49GrP07wqH0IGak/vbrCEVRdpz8fHicENwelP9J8LssPi6I/FIxF8Q2goT/MTWQtQsChP8u9KMtj/aA/KrN/poI8oT9du+LBqtGuPwuA+J7ObsY/o1LqIEdk1T/0DkXhfezfP31guh7AG+U/Z2mD+SYO5j/I4IWqfjbmP/vttOrJQec/DB0RXtS+6D99hs/DPS/qP7jEO3Xnfus/L97GTJRH7D9Z6qN+auzsP3pX0oe5b+0/IBM5AU2c7T8OMuEXjGbtPzjJMXBu+ew/y08jmiGO7T+GfJ94CJLtP+6/nr3v1uw/KMDIvHtq6z8Nrv1U81PpP0dGwa2KqOY/nIFRZxrN4z9UgjpHNQbhP+oca/uzON0/A/QqapdW2T+m1KkxSiLWPyAwowjOG9M/n/73clwN0D+yA5Viq4XKP9JnxAi9acU/KGThgn6RwT8l/OsCwfS9P0fG6+V9jMc/\",\"dtype\":\"float64\",\"shape\":[75]},\"y\":{\"__ndarray__\":\"GhExyth1ND/Sv8nbtpRIP2vylNV0PVE/aTum7souWD/At0SJ8fVgPw3Iuahxymc/MSNhhJWvcD/bTfBN02d3P2zb5nxnaoA/CD5h5MAGhz8NmeH1TyaQP+zrCsc9p5Y/LbKd76fGnz/bLW5ISEmmPww9YvTcQq8/JV2OstnstT8Er5Y7M8G+P0c+r3jqkcU/5h99k6ZBzj88bCIzFzjVP4enV8oyxN0//yH99nXg5D8qOpLLf0jtP5kqGJXUifQ/c9cS8kHP/D+/DpwzojQEQIEmwoanVwxA4lgXt9HgE0BSSZ2AJuIbQAMJih9jjiNA5q4l5INuK0AwTKYKRj0zQNv5fmq8/DpAaCJseHrtQkB/+zpwzoxKQM3MzMzMeFJAZmZmZmZqWEAAAAAAAFxeQM3MzMzMJmJAmpmZmZkfZUBmZmZmZhhoQDMzMzMzEWtAAAAAAAAKbkBmZmZmZoFwQM3MzMzM/XFAMzMzMzN6c0CamZmZmfZ0QAAAAAAAc3ZAZmZmZmbvd0DNzMzMzGt5QDMzMzMz6HpAmpmZmZlkfEAAAAAAAOF9QGZmZmZmXX9AZmZmZuZsgECamZmZGSuBQM3MzMxM6YFAAAAAAICngkAzMzMzs2WDQGZmZmbmI4RAmpmZmRnihEDNzMzMTKCFQAAAAACAXoZAMzMzM7Mch0BmZmZm5tqHQJqZmZkZmYhAzczMzExXiUAAAAAAgBWKQDMzMzOz04pAZmZmZuaRi0CamZmZGVCMQM3MzMxMDo1AAAAAAIDMjUAzMzMzs4qOQGZmZmbmSI9A\",\"dtype\":\"float64\",\"shape\":[75]}},\"selected\":{\"id\":\"1f21b683-1fbe-442e-a9b1-de40fe353eb5\",\"type\":\"Selection\"},\"selection_policy\":{\"id\":\"ccaaa3ef-2484-457a-a5c1-a7d1cc735bcb\",\"type\":\"UnionRenderers\"}},\"id\":\"66f8c762-7331-47e7-89c7-0eec844ce0b2\",\"type\":\"ColumnDataSource\"},{\"attributes\":{\"line_alpha\":0.6,\"line_color\":\"#984ea3\",\"line_width\":3,\"x\":{\"field\":\"x\"},\"y\":{\"field\":\"y\"}},\"id\":\"982b3e3c-9806-4185-8104-33d623202f4f\",\"type\":\"Line\"},{\"attributes\":{},\"id\":\"0193b4aa-fca3-4d77-bff0-6d7e07caefb3\",\"type\":\"WheelZoomTool\"},{\"attributes\":{\"line_alpha\":0.6,\"line_color\":\"#e41a1c\",\"line_dash\":[6],\"line_width\":5,\"x\":{\"field\":\"x\"},\"y\":{\"field\":\"y\"}},\"id\":\"b9069abe-bf22-4ef3-ac3f-c057bd907f37\",\"type\":\"Line\"},{\"attributes\":{\"axis_label\":\"cooling rate [K/day]\",\"formatter\":{\"id\":\"ce60f35b-47f2-45bd-9dc2-4a0e31e9b289\",\"type\":\"BasicTickFormatter\"},\"plot\":{\"id\":\"7d9e2a35-71c3-4c18-a25f-f62c13868704\",\"subtype\":\"Figure\",\"type\":\"Plot\"},\"ticker\":{\"id\":\"749e26f3-7ac2-485e-ac72-99aabfe82d36\",\"type\":\"BasicTicker\"}},\"id\":\"94ea42b1-d22c-4fc5-9e2f-0de01f838e82\",\"type\":\"LinearAxis\"},{\"attributes\":{\"line_alpha\":0.6,\"line_color\":\"#e41a1c\",\"line_dash\":[6],\"line_width\":5,\"x\":{\"field\":\"x\"},\"y\":{\"field\":\"y\"}},\"id\":\"7a49c779-795f-446f-9828-4a257d721629\",\"type\":\"Line\"},{\"attributes\":{\"fill_alpha\":{\"value\":0.7},\"fill_color\":{\"value\":\"#4daf4a\"},\"line_alpha\":{\"value\":0.7},\"line_color\":{\"value\":\"#4daf4a\"},\"x\":{\"field\":\"x\"},\"y\":{\"field\":\"y\"}},\"id\":\"5bdbe08c-d653-405e-849b-fb77ba07f651\",\"type\":\"Circle\"},{\"attributes\":{},\"id\":\"f26249d9-fa3e-4f64-9f4a-d221e1bbdc81\",\"type\":\"HelpTool\"},{\"attributes\":{\"axis_label\":\"cooling rate [K/day]\",\"formatter\":{\"id\":\"2ba8a768-ea1b-472a-8f5b-dc6f37bfadb9\",\"type\":\"BasicTickFormatter\"},\"plot\":{\"id\":\"88208a67-9777-4057-9924-3a274182406c\",\"subtype\":\"Figure\",\"type\":\"Plot\"},\"ticker\":{\"id\":\"7b641d86-df0d-41d9-b71f-f9686d8c4cb7\",\"type\":\"BasicTicker\"}},\"id\":\"a36ac74c-26c6-40b4-b002-97f0d28dc2cb\",\"type\":\"LinearAxis\"},{\"attributes\":{},\"id\":\"87f4fa3a-b156-46e2-958f-64e6f6533eb7\",\"type\":\"SaveTool\"},{\"attributes\":{},\"id\":\"45f1fcb9-78a3-4a85-bf68-2716159f39c5\",\"type\":\"ResetTool\"},{\"attributes\":{\"overlay\":{\"id\":\"b6f77fd5-ed94-4fd5-b69a-d4c5575ad159\",\"type\":\"BoxAnnotation\"}},\"id\":\"18ee0b84-e52e-430b-ab61-b913183888fa\",\"type\":\"BoxZoomTool\"},{\"attributes\":{\"overlay\":{\"id\":\"c3778a23-3b68-4805-8cfc-76a0e5b0dbf5\",\"type\":\"BoxAnnotation\"}},\"id\":\"448294d9-8770-4177-912e-3e7d5b9aa015\",\"type\":\"BoxZoomTool\"},{\"attributes\":{\"callback\":null,\"end\":0.01,\"start\":1020},\"id\":\"ba2486de-b5a2-4139-96eb-f67df835eeb5\",\"type\":\"Range1d\"},{\"attributes\":{\"axis_label\":\"pressure [mb]\",\"formatter\":{\"id\":\"9b92e0e9-0a52-43b2-8b41-c2e85ae0c837\",\"type\":\"LogTickFormatter\"},\"plot\":{\"id\":\"7d9e2a35-71c3-4c18-a25f-f62c13868704\",\"subtype\":\"Figure\",\"type\":\"Plot\"},\"ticker\":{\"id\":\"29b82502-c71a-4f17-b7c2-9432e19c3a68\",\"type\":\"LogTicker\"}},\"id\":\"5cad9d4a-3377-40b1-90c1-90745d77fc75\",\"type\":\"LogAxis\"},{\"attributes\":{\"num_minor_ticks\":10},\"id\":\"29b82502-c71a-4f17-b7c2-9432e19c3a68\",\"type\":\"LogTicker\"},{\"attributes\":{\"below\":[{\"id\":\"a36ac74c-26c6-40b4-b002-97f0d28dc2cb\",\"type\":\"LinearAxis\"}],\"left\":[{\"id\":\"845e88f6-e442-4d25-902b-f446f821f349\",\"type\":\"LinearAxis\"}],\"plot_height\":500,\"plot_width\":400,\"renderers\":[{\"id\":\"a36ac74c-26c6-40b4-b002-97f0d28dc2cb\",\"type\":\"LinearAxis\"},{\"id\":\"29a0b2d7-42ce-492f-aa15-cc043beb6fce\",\"type\":\"Grid\"},{\"id\":\"845e88f6-e442-4d25-902b-f446f821f349\",\"type\":\"LinearAxis\"},{\"id\":\"018f7001-ef32-435b-a6ba-252618b5e5e7\",\"type\":\"Grid\"},{\"id\":\"c3778a23-3b68-4805-8cfc-76a0e5b0dbf5\",\"type\":\"BoxAnnotation\"},{\"id\":\"fc72e9af-e31a-48aa-98da-feb04d5ceb38\",\"type\":\"GlyphRenderer\"},{\"id\":\"c1f7c8e8-ed14-4067-8d0a-a54d4d00ab8a\",\"type\":\"GlyphRenderer\"},{\"id\":\"163769b9-a708-4012-8295-32ecf702ecb8\",\"type\":\"GlyphRenderer\"},{\"id\":\"3a0d5205-0fa3-4814-876f-de831a21653b\",\"type\":\"GlyphRenderer\"},{\"id\":\"f5ee8891-f20c-474e-9622-c1dd201cf78e\",\"type\":\"GlyphRenderer\"}],\"title\":{\"id\":\"109b7852-6dcd-49a6-b6da-b613de43151e\",\"type\":\"Title\"},\"toolbar\":{\"id\":\"9640e3bd-dcb0-43bc-b467-4b5420b07bc3\",\"type\":\"Toolbar\"},\"toolbar_location\":null,\"x_range\":{\"id\":\"cc5a3532-d7df-48a4-9282-1aa52b8625f9\",\"type\":\"Range1d\"},\"x_scale\":{\"id\":\"532d8a52-c641-4138-857c-8895d79474c7\",\"type\":\"LinearScale\"},\"y_range\":{\"id\":\"d17013f8-460b-4f59-9a70-ca26e8308e24\",\"type\":\"Range1d\"},\"y_scale\":{\"id\":\"661ddf47-50af-4849-b50d-36575f2e7991\",\"type\":\"LinearScale\"}},\"id\":\"88208a67-9777-4057-9924-3a274182406c\",\"subtype\":\"Figure\",\"type\":\"Plot\"},{\"attributes\":{\"active_drag\":\"auto\",\"active_inspect\":\"auto\",\"active_scroll\":\"auto\",\"active_tap\":\"auto\",\"tools\":[{\"id\":\"94202589-947f-4c0c-a921-93b33e061bda\",\"type\":\"PanTool\"},{\"id\":\"c2539da7-1624-4037-8988-cc1505e64ea4\",\"type\":\"WheelZoomTool\"},{\"id\":\"18ee0b84-e52e-430b-ab61-b913183888fa\",\"type\":\"BoxZoomTool\"},{\"id\":\"87f4fa3a-b156-46e2-958f-64e6f6533eb7\",\"type\":\"SaveTool\"},{\"id\":\"0725d414-7c74-4025-b72a-e54f7ea9ea74\",\"type\":\"ResetTool\"},{\"id\":\"f82b81f1-a23c-41f4-819b-229f30ab614a\",\"type\":\"HelpTool\"}]},\"id\":\"ac8df3da-e8c0-4634-b335-bdb2d86735b2\",\"type\":\"Toolbar\"},{\"attributes\":{\"bottom_units\":\"screen\",\"fill_alpha\":{\"value\":0.5},\"fill_color\":{\"value\":\"lightgrey\"},\"left_units\":\"screen\",\"level\":\"overlay\",\"line_alpha\":{\"value\":1.0},\"line_color\":{\"value\":\"black\"},\"line_dash\":[4,4],\"line_width\":{\"value\":2},\"plot\":null,\"render_mode\":\"css\",\"right_units\":\"screen\",\"top_units\":\"screen\"},\"id\":\"b6f77fd5-ed94-4fd5-b69a-d4c5575ad159\",\"type\":\"BoxAnnotation\"},{\"attributes\":{\"plot\":{\"id\":\"7d9e2a35-71c3-4c18-a25f-f62c13868704\",\"subtype\":\"Figure\",\"type\":\"Plot\"},\"ticker\":{\"id\":\"749e26f3-7ac2-485e-ac72-99aabfe82d36\",\"type\":\"BasicTicker\"}},\"id\":\"057985a3-58e8-4490-a045-005c4903f34d\",\"type\":\"Grid\"}],\"root_ids\":[\"4ff1cb79-7ac6-41dd-a20e-1c5178b2a372\"]},\"title\":\"Bokeh Application\",\"version\":\"0.12.16\"}};\n",
       "  var render_items = [{\"docid\":\"ee42e136-86be-4c4e-8b0c-3f8cc87b3537\",\"elementid\":\"3a0b2d60-eb4d-48f5-8d5b-3055fa87e804\",\"modelid\":\"4ff1cb79-7ac6-41dd-a20e-1c5178b2a372\"}];\n",
       "  root.Bokeh.embed.embed_items_notebook(docs_json, render_items);\n",
       "\n",
       "  }\n",
       "  if (root.Bokeh !== undefined) {\n",
       "    embed_document(root);\n",
       "  } else {\n",
       "    var attempts = 0;\n",
       "    var timer = setInterval(function(root) {\n",
       "      if (root.Bokeh !== undefined) {\n",
       "        embed_document(root);\n",
       "        clearInterval(timer);\n",
       "      }\n",
       "      attempts++;\n",
       "      if (attempts > 100) {\n",
       "        console.log(\"Bokeh: ERROR: Unable to run BokehJS code because BokehJS library is missing\")\n",
       "        clearInterval(timer);\n",
       "      }\n",
       "    }, 10, root)\n",
       "  }\n",
       "})(window);"
      ],
      "application/vnd.bokehjs_exec.v0+json": ""
     },
     "metadata": {
      "application/vnd.bokehjs_exec.v0+json": {
       "id": "4ff1cb79-7ac6-41dd-a20e-1c5178b2a372"
      }
     },
     "output_type": "display_data"
    },
    {
     "name": "stdout",
     "output_type": "stream",
     "text": [
      "FIGURE. Cooling rate profiles.\n"
     ]
    },
    {
     "data": {
      "text/html": [
       "<a id=\"Flux_Comparison\"></a>"
      ],
      "text/plain": [
       "<IPython.core.display.HTML object>"
      ]
     },
     "metadata": {},
     "output_type": "display_data"
    },
    {
     "data": {
      "text/markdown": [
       "# Flux Comparison"
      ],
      "text/plain": [
       "<IPython.core.display.Markdown object>"
      ]
     },
     "metadata": {},
     "output_type": "display_data"
    },
    {
     "data": {
      "text/html": [
       "<div>\n",
       "<style scoped>\n",
       "    .dataframe tbody tr th:only-of-type {\n",
       "        vertical-align: middle;\n",
       "    }\n",
       "\n",
       "    .dataframe tbody tr th {\n",
       "        vertical-align: top;\n",
       "    }\n",
       "\n",
       "    .dataframe thead th {\n",
       "        text-align: right;\n",
       "    }\n",
       "</style>\n",
       "<table border=\"1\" class=\"dataframe\">\n",
       "  <thead>\n",
       "    <tr style=\"text-align: right;\">\n",
       "      <th></th>\n",
       "      <th></th>\n",
       "      <th>flug</th>\n",
       "      <th>fldg</th>\n",
       "      <th>fnetg</th>\n",
       "    </tr>\n",
       "    <tr>\n",
       "      <th>pressure</th>\n",
       "      <th>level</th>\n",
       "      <th></th>\n",
       "      <th></th>\n",
       "      <th></th>\n",
       "    </tr>\n",
       "  </thead>\n",
       "  <tbody>\n",
       "    <tr>\n",
       "      <th>0.0000</th>\n",
       "      <th>1</th>\n",
       "      <td>-60.366689</td>\n",
       "      <td>0.00000</td>\n",
       "      <td>-60.366689</td>\n",
       "    </tr>\n",
       "    <tr>\n",
       "      <th>1.0685</th>\n",
       "      <th>24</th>\n",
       "      <td>-60.369588</td>\n",
       "      <td>0.02979</td>\n",
       "      <td>-60.339797</td>\n",
       "    </tr>\n",
       "    <tr>\n",
       "      <th>1013.0000</th>\n",
       "      <th>76</th>\n",
       "      <td>-82.315795</td>\n",
       "      <td>81.20149</td>\n",
       "      <td>-1.114304</td>\n",
       "    </tr>\n",
       "  </tbody>\n",
       "</table>\n",
       "</div>"
      ],
      "text/plain": [
       "                      flug      fldg      fnetg\n",
       "pressure  level                                \n",
       "0.0000    1     -60.366689   0.00000 -60.366689\n",
       "1.0685    24    -60.369588   0.02979 -60.339797\n",
       "1013.0000 76    -82.315795  81.20149  -1.114304"
      ]
     },
     "metadata": {},
     "output_type": "display_data"
    },
    {
     "name": "stdout",
     "output_type": "stream",
     "text": [
      "Table. Fluxes. CRD\n"
     ]
    },
    {
     "data": {
      "text/html": [
       "<div>\n",
       "<style scoped>\n",
       "    .dataframe tbody tr th:only-of-type {\n",
       "        vertical-align: middle;\n",
       "    }\n",
       "\n",
       "    .dataframe tbody tr th {\n",
       "        vertical-align: top;\n",
       "    }\n",
       "\n",
       "    .dataframe thead th {\n",
       "        text-align: right;\n",
       "    }\n",
       "</style>\n",
       "<table border=\"1\" class=\"dataframe\">\n",
       "  <thead>\n",
       "    <tr style=\"text-align: right;\">\n",
       "      <th></th>\n",
       "      <th></th>\n",
       "      <th>flug</th>\n",
       "      <th>fldg</th>\n",
       "      <th>fnetg</th>\n",
       "    </tr>\n",
       "    <tr>\n",
       "      <th>pressure</th>\n",
       "      <th>level</th>\n",
       "      <th></th>\n",
       "      <th></th>\n",
       "      <th></th>\n",
       "    </tr>\n",
       "  </thead>\n",
       "  <tbody>\n",
       "    <tr>\n",
       "      <th>0.0000</th>\n",
       "      <th>1</th>\n",
       "      <td>-59.653067</td>\n",
       "      <td>0.000000</td>\n",
       "      <td>-59.653067</td>\n",
       "    </tr>\n",
       "    <tr>\n",
       "      <th>1.0685</th>\n",
       "      <th>24</th>\n",
       "      <td>-59.655944</td>\n",
       "      <td>0.029380</td>\n",
       "      <td>-59.626565</td>\n",
       "    </tr>\n",
       "    <tr>\n",
       "      <th>1013.0000</th>\n",
       "      <th>76</th>\n",
       "      <td>-82.315794</td>\n",
       "      <td>81.492303</td>\n",
       "      <td>-0.823492</td>\n",
       "    </tr>\n",
       "  </tbody>\n",
       "</table>\n",
       "</div>"
      ],
      "text/plain": [
       "                      flug       fldg      fnetg\n",
       "pressure  level                                 \n",
       "0.0000    1     -59.653067   0.000000 -59.653067\n",
       "1.0685    24    -59.655944   0.029380 -59.626565\n",
       "1013.0000 76    -82.315794  81.492303  -0.823492"
      ]
     },
     "metadata": {},
     "output_type": "display_data"
    },
    {
     "name": "stdout",
     "output_type": "stream",
     "text": [
      "Table. Fluxes. WGT igg=10 wgt_flux=1\n"
     ]
    },
    {
     "data": {
      "text/html": [
       "<div>\n",
       "<style scoped>\n",
       "    .dataframe tbody tr th:only-of-type {\n",
       "        vertical-align: middle;\n",
       "    }\n",
       "\n",
       "    .dataframe tbody tr th {\n",
       "        vertical-align: top;\n",
       "    }\n",
       "\n",
       "    .dataframe thead th {\n",
       "        text-align: right;\n",
       "    }\n",
       "</style>\n",
       "<table border=\"1\" class=\"dataframe\">\n",
       "  <thead>\n",
       "    <tr style=\"text-align: right;\">\n",
       "      <th></th>\n",
       "      <th></th>\n",
       "      <th>flug</th>\n",
       "      <th>fldg</th>\n",
       "      <th>fnetg</th>\n",
       "    </tr>\n",
       "    <tr>\n",
       "      <th>pressure</th>\n",
       "      <th>level</th>\n",
       "      <th></th>\n",
       "      <th></th>\n",
       "      <th></th>\n",
       "    </tr>\n",
       "  </thead>\n",
       "  <tbody>\n",
       "    <tr>\n",
       "      <th>1.000000e-08</th>\n",
       "      <th>1</th>\n",
       "      <td>-60.075015</td>\n",
       "      <td>0.000002</td>\n",
       "      <td>-60.075013</td>\n",
       "    </tr>\n",
       "    <tr>\n",
       "      <th>1.068500e+00</th>\n",
       "      <th>24</th>\n",
       "      <td>-60.077703</td>\n",
       "      <td>0.029112</td>\n",
       "      <td>-60.048591</td>\n",
       "    </tr>\n",
       "    <tr>\n",
       "      <th>1.013000e+03</th>\n",
       "      <th>76</th>\n",
       "      <td>-82.315790</td>\n",
       "      <td>81.576550</td>\n",
       "      <td>-0.739240</td>\n",
       "    </tr>\n",
       "  </tbody>\n",
       "</table>\n",
       "</div>"
      ],
      "text/plain": [
       "                         flug       fldg      fnetg\n",
       "pressure     level                                 \n",
       "1.000000e-08 1     -60.075015   0.000002 -60.075013\n",
       "1.068500e+00 24    -60.077703   0.029112 -60.048591\n",
       "1.013000e+03 76    -82.315790  81.576550  -0.739240"
      ]
     },
     "metadata": {},
     "output_type": "display_data"
    },
    {
     "name": "stdout",
     "output_type": "stream",
     "text": [
      "Table. Fluxes. CLIRAD\n"
     ]
    },
    {
     "data": {
      "text/html": [
       "<div>\n",
       "<style scoped>\n",
       "    .dataframe tbody tr th:only-of-type {\n",
       "        vertical-align: middle;\n",
       "    }\n",
       "\n",
       "    .dataframe tbody tr th {\n",
       "        vertical-align: top;\n",
       "    }\n",
       "\n",
       "    .dataframe thead th {\n",
       "        text-align: right;\n",
       "    }\n",
       "</style>\n",
       "<table border=\"1\" class=\"dataframe\">\n",
       "  <thead>\n",
       "    <tr style=\"text-align: right;\">\n",
       "      <th></th>\n",
       "      <th></th>\n",
       "      <th>flug</th>\n",
       "      <th>fldg</th>\n",
       "      <th>fnetg</th>\n",
       "    </tr>\n",
       "    <tr>\n",
       "      <th>pressure</th>\n",
       "      <th>level</th>\n",
       "      <th></th>\n",
       "      <th></th>\n",
       "      <th></th>\n",
       "    </tr>\n",
       "  </thead>\n",
       "  <tbody>\n",
       "    <tr>\n",
       "      <th>0.0000</th>\n",
       "      <th>1</th>\n",
       "      <td>7.136222e-01</td>\n",
       "      <td>0.000000</td>\n",
       "      <td>0.713622</td>\n",
       "    </tr>\n",
       "    <tr>\n",
       "      <th>1.0685</th>\n",
       "      <th>24</th>\n",
       "      <td>7.136436e-01</td>\n",
       "      <td>-0.000410</td>\n",
       "      <td>0.713232</td>\n",
       "    </tr>\n",
       "    <tr>\n",
       "      <th>1013.0000</th>\n",
       "      <th>76</th>\n",
       "      <td>7.206000e-07</td>\n",
       "      <td>0.290813</td>\n",
       "      <td>0.290812</td>\n",
       "    </tr>\n",
       "  </tbody>\n",
       "</table>\n",
       "</div>"
      ],
      "text/plain": [
       "                         flug      fldg     fnetg\n",
       "pressure  level                                  \n",
       "0.0000    1      7.136222e-01  0.000000  0.713622\n",
       "1.0685    24     7.136436e-01 -0.000410  0.713232\n",
       "1013.0000 76     7.206000e-07  0.290813  0.290812"
      ]
     },
     "metadata": {},
     "output_type": "display_data"
    },
    {
     "name": "stdout",
     "output_type": "stream",
     "text": [
      "Table. Fluxes. (WGT igg=10 wgt_flux=1) - (CRD)\n"
     ]
    },
    {
     "data": {
      "text/html": [
       "<div>\n",
       "<style scoped>\n",
       "    .dataframe tbody tr th:only-of-type {\n",
       "        vertical-align: middle;\n",
       "    }\n",
       "\n",
       "    .dataframe tbody tr th {\n",
       "        vertical-align: top;\n",
       "    }\n",
       "\n",
       "    .dataframe thead th {\n",
       "        text-align: right;\n",
       "    }\n",
       "</style>\n",
       "<table border=\"1\" class=\"dataframe\">\n",
       "  <thead>\n",
       "    <tr style=\"text-align: right;\">\n",
       "      <th></th>\n",
       "      <th></th>\n",
       "      <th>flug</th>\n",
       "      <th>fldg</th>\n",
       "      <th>fnetg</th>\n",
       "    </tr>\n",
       "    <tr>\n",
       "      <th>pressure</th>\n",
       "      <th>level</th>\n",
       "      <th></th>\n",
       "      <th></th>\n",
       "      <th></th>\n",
       "    </tr>\n",
       "  </thead>\n",
       "  <tbody>\n",
       "    <tr>\n",
       "      <th>0.0000</th>\n",
       "      <th>1</th>\n",
       "      <td>0.291674</td>\n",
       "      <td>0.000002</td>\n",
       "      <td>0.291676</td>\n",
       "    </tr>\n",
       "    <tr>\n",
       "      <th>1.0685</th>\n",
       "      <th>24</th>\n",
       "      <td>0.291885</td>\n",
       "      <td>-0.000678</td>\n",
       "      <td>0.291206</td>\n",
       "    </tr>\n",
       "    <tr>\n",
       "      <th>1013.0000</th>\n",
       "      <th>76</th>\n",
       "      <td>0.000005</td>\n",
       "      <td>0.375060</td>\n",
       "      <td>0.375064</td>\n",
       "    </tr>\n",
       "  </tbody>\n",
       "</table>\n",
       "</div>"
      ],
      "text/plain": [
       "                     flug      fldg     fnetg\n",
       "pressure  level                              \n",
       "0.0000    1      0.291674  0.000002  0.291676\n",
       "1.0685    24     0.291885 -0.000678  0.291206\n",
       "1013.0000 76     0.000005  0.375060  0.375064"
      ]
     },
     "metadata": {},
     "output_type": "display_data"
    },
    {
     "name": "stdout",
     "output_type": "stream",
     "text": [
      "Table. Fluxes. (CLIRAD) - (CRD)\n"
     ]
    },
    {
     "data": {
      "text/html": [
       "<a id=\"Best-fit_Parameters\"></a>"
      ],
      "text/plain": [
       "<IPython.core.display.HTML object>"
      ]
     },
     "metadata": {},
     "output_type": "display_data"
    },
    {
     "data": {
      "text/markdown": [
       "# Best-fit Parameters"
      ],
      "text/plain": [
       "<IPython.core.display.Markdown object>"
      ]
     },
     "metadata": {},
     "output_type": "display_data"
    },
    {
     "name": "stdout",
     "output_type": "stream",
     "text": [
      "Best-fit values for each (gas, band)\n",
      "------------------------------------\n",
      "o h2o band2\n",
      "  atmpro = mls\n",
      "  band = 2\n",
      "  commitnumber = a06b618\n",
      "  conc = None\n",
      "  dv = 0.001\n",
      "  klin = 0\n",
      "  molecule = h2o\n",
      "  ng_adju = [-2, -2, 0]\n",
      "  ng_refs = [2, 3, 6]\n",
      "  nv = 1000\n",
      "  option_compute_btable = 0\n",
      "  option_compute_ktable = 1\n",
      "  option_wgt_flux = 1\n",
      "  option_wgt_k = 1\n",
      "  ref_pts = [(1, 250), (10, 250), (500, 250)]\n",
      "  tsfc = 294\n",
      "  vmax = 540\n",
      "  vmin = 340\n",
      "  w_diffuse = [(1.66, 1.66), (1.8, 1.8, 1.8), (1.8, 1.66, 1.45, 1.45, 1.45, 1.45)]\n",
      "  wgt = [(0.6, 0.6), (0.6, 0.6, 0.6), (0.6, 0.6, 0.6, 0.6, 0.6, 0.6)]\n"
     ]
    }
   ],
   "source": [
    "script()"
   ]
  },
  {
   "cell_type": "code",
   "execution_count": 13,
   "metadata": {
    "collapsed": true
   },
   "outputs": [
    {
     "data": {
      "text/html": [
       "<script>\n",
       "code_show=true; \n",
       "function code_toggle() {\n",
       " if (code_show){\n",
       " $('div.input').hide();\n",
       " } else {\n",
       " $('div.input').show();\n",
       " }\n",
       " code_show = !code_show\n",
       "} \n",
       "$( document ).ready(code_toggle);\n",
       "</script>\n",
       "<form action=\"javascript:code_toggle()\"><input type=\"submit\" value=\"Click here to toggle on/off the raw code.\"></form>"
      ],
      "text/plain": [
       "<IPython.core.display.HTML object>"
      ]
     },
     "execution_count": 13,
     "metadata": {},
     "output_type": "execute_result"
    }
   ],
   "source": [
    "display.HTML('''<script>\n",
    "code_show=true; \n",
    "function code_toggle() {\n",
    " if (code_show){\n",
    " $('div.input').hide();\n",
    " } else {\n",
    " $('div.input').show();\n",
    " }\n",
    " code_show = !code_show\n",
    "} \n",
    "$( document ).ready(code_toggle);\n",
    "</script>\n",
    "<form action=\"javascript:code_toggle()\"><input type=\"submit\" value=\"Click here to toggle on/off the raw code.\"></form>''')"
   ]
  }
 ],
 "metadata": {
  "kernelspec": {
   "display_name": "Python 3",
   "language": "python",
   "name": "python3"
  },
  "language_info": {
   "codemirror_mode": {
    "name": "ipython",
    "version": 3
   },
   "file_extension": ".py",
   "mimetype": "text/x-python",
   "name": "python",
   "nbconvert_exporter": "python",
   "pygments_lexer": "ipython3",
   "version": "3.6.1"
  }
 },
 "nbformat": 4,
 "nbformat_minor": 2
}
