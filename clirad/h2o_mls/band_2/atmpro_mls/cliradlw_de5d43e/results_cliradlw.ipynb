{
 "cells": [
  {
   "cell_type": "code",
   "execution_count": 1,
   "metadata": {
    "collapsed": true
   },
   "outputs": [],
   "source": [
    "%matplotlib inline\n",
    "import os\n",
    "import re\n",
    "import io\n",
    "import itertools\n",
    "import pprint\n",
    "\n",
    "from bokeh.io import output_notebook, show\n",
    "from bokeh.layouts import gridplot\n",
    "from bokeh.plotting import figure\n",
    "from bokeh.models import Range1d, Legend\n",
    "from bokeh.palettes import all_palettes\n",
    "\n",
    "import matplotlib\n",
    "import matplotlib.pyplot as plt\n",
    "import numpy as np\n",
    "import pandas as pd\n",
    "import xarray as xr\n",
    "\n",
    "import climatools.lblnew.bestfit_params as bestfits\n",
    "from climatools.lblnew import setup_bestfit, setup_overlap\n",
    "import climatools.lblnew.pipeline as pipe_lblnew\n",
    "import climatools.cliradlw.setup as setup_cliradlw\n",
    "import climatools.cliradlw.pipeline as pipe_cliradlw\n",
    "\n",
    "import climatools.html.html as climahtml\n",
    "from climatools.lblnew.dataio import *\n",
    "from climatools.plot.plot import *\n",
    "\n",
    "\n",
    "import IPython.display as display"
   ]
  },
  {
   "cell_type": "code",
   "execution_count": 2,
   "metadata": {
    "collapsed": true
   },
   "outputs": [],
   "source": [
    "%run param.py"
   ]
  },
  {
   "cell_type": "code",
   "execution_count": 3,
   "metadata": {
    "collapsed": true
   },
   "outputs": [],
   "source": [
    "def load_output_file(path_csv):\n",
    "    '''\n",
    "    Load lblnew output .csv file to xarray.Dataset\n",
    "    \n",
    "    Parameters\n",
    "    ----------\n",
    "    path_csv: str\n",
    "              Path to the .csv file to be loaded.\n",
    "    ds: xarray.Dataset\n",
    "        Data in the input file in the form of an xarray.Dataset.\n",
    "    '''\n",
    "    toindex = ['band', 'pressure', 'igg', 'g']    \n",
    "    df = pd.read_csv(path_csv, sep=r'\\s+')\n",
    "    df = df.set_index([i for i in toindex if i in df.columns])\n",
    "    df = df.rename(columns={'sfu': 'flug',\n",
    "                            'sfd': 'fldg',\n",
    "                            'fnet': 'fnetg',\n",
    "                            'coolr': 'coolrg'})\n",
    "    ds = xr.Dataset.from_dataframe(df)\n",
    "\n",
    "    for l in ('level', 'layer'):\n",
    "        if l in ds.data_vars:\n",
    "            if len(ds[l].dims) > 1:\n",
    "                surface = {d: 0 for d in ds.dims if d != 'pressure'}\n",
    "                coord_level = ds[l][surface]\n",
    "                ds.coords[l] = ('pressure', coord_level)\n",
    "            else:\n",
    "                ds.coords[l] = ('pressure', ds[l])\n",
    "    \n",
    "    return ds"
   ]
  },
  {
   "cell_type": "code",
   "execution_count": 4,
   "metadata": {
    "collapsed": true
   },
   "outputs": [],
   "source": [
    "def lblnew_setup(param=None):\n",
    "    if 'ng_refs' in param:\n",
    "        return {'setup': setup_bestfit,\n",
    "                'fname_flux_crd': 'output_flux.dat',\n",
    "                'fname_cool_crd': 'output_coolr.dat',\n",
    "                'fname_flux_wgt': 'output_wfluxg.dat',\n",
    "                'fname_cool_wgt': 'output_wcoolrg.dat'}\n",
    "    else:\n",
    "        return {'setup': setup_overlap,\n",
    "                'fname_flux_crd': 'output_flux.dat',\n",
    "                'fname_cool_crd': 'output_coolr.dat',\n",
    "                'fname_flux_wgt': 'output_wflux.dat',\n",
    "                'fname_cool_wgt': 'output_wcoolr.dat'}\n",
    "\n",
    "    \n",
    "def load_lblnew_data(param):\n",
    "    \n",
    "    fname_dsname = [('fname_flux_crd', 'ds_flux_crd'),\n",
    "                    ('fname_cool_crd', 'ds_cool_crd'),\n",
    "                    ('fname_flux_wgt', 'ds_flux_wgt'),\n",
    "                    ('fname_cool_wgt', 'ds_cool_wgt')]\n",
    "    \n",
    "    d = lblnew_setup(param)\n",
    "    dir_fortran = pipe_lblnew.get_dir_case(param, setup=d['setup'])\n",
    "    \n",
    "    data_dict = {}\n",
    "    for fname, dsname in fname_dsname:\n",
    "        fpath = os.path.join(dir_fortran, d[fname])\n",
    "        data_dict[dsname] = load_output_file(fpath)\n",
    "    return data_dict\n",
    "    \n",
    "\n",
    "    \n",
    "    "
   ]
  },
  {
   "cell_type": "code",
   "execution_count": 5,
   "metadata": {
    "collapsed": true
   },
   "outputs": [],
   "source": [
    "d = load_lblnew_data(PARAM_LBLNEW)\n",
    "\n",
    "DS_FLUX_CRD = d['ds_flux_crd']\n",
    "DS_COOL_CRD = d['ds_cool_crd']\n",
    "DS_FLUX_WGT = d['ds_flux_wgt']\n",
    "DS_COOL_WGT = d['ds_cool_wgt']"
   ]
  },
  {
   "cell_type": "code",
   "execution_count": 6,
   "metadata": {
    "collapsed": true
   },
   "outputs": [],
   "source": [
    "DIR_FORTRAN = pipe_cliradlw.get_fortran_dir(PARAM, \n",
    "                                            setup=setup_cliradlw)\n",
    "\n",
    "PATH_FLUX = os.path.join(DIR_FORTRAN, 'output_flux.dat')\n",
    "PATH_COOL = os.path.join(DIR_FORTRAN, 'output_coolr.dat')\n",
    "\n",
    "DS_FLUX = load_output_file(PATH_FLUX)\n",
    "DS_COOL = load_output_file(PATH_COOL)"
   ]
  },
  {
   "cell_type": "code",
   "execution_count": 7,
   "metadata": {
    "collapsed": true
   },
   "outputs": [
    {
     "data": {
      "text/html": [
       "\n",
       "    <div class=\"bk-root\">\n",
       "        <a href=\"https://bokeh.pydata.org\" target=\"_blank\" class=\"bk-logo bk-logo-small bk-logo-notebook\"></a>\n",
       "        <span id=\"fba01e56-2b73-48ba-8e55-eccd772e8904\">Loading BokehJS ...</span>\n",
       "    </div>"
      ]
     },
     "metadata": {},
     "output_type": "display_data"
    },
    {
     "data": {
      "application/javascript": [
       "\n",
       "(function(root) {\n",
       "  function now() {\n",
       "    return new Date();\n",
       "  }\n",
       "\n",
       "  var force = true;\n",
       "\n",
       "  if (typeof (root._bokeh_onload_callbacks) === \"undefined\" || force === true) {\n",
       "    root._bokeh_onload_callbacks = [];\n",
       "    root._bokeh_is_loading = undefined;\n",
       "  }\n",
       "\n",
       "  var JS_MIME_TYPE = 'application/javascript';\n",
       "  var HTML_MIME_TYPE = 'text/html';\n",
       "  var EXEC_MIME_TYPE = 'application/vnd.bokehjs_exec.v0+json';\n",
       "  var CLASS_NAME = 'output_bokeh rendered_html';\n",
       "\n",
       "  /**\n",
       "   * Render data to the DOM node\n",
       "   */\n",
       "  function render(props, node) {\n",
       "    var script = document.createElement(\"script\");\n",
       "    node.appendChild(script);\n",
       "  }\n",
       "\n",
       "  /**\n",
       "   * Handle when an output is cleared or removed\n",
       "   */\n",
       "  function handleClearOutput(event, handle) {\n",
       "    var cell = handle.cell;\n",
       "\n",
       "    var id = cell.output_area._bokeh_element_id;\n",
       "    var server_id = cell.output_area._bokeh_server_id;\n",
       "    // Clean up Bokeh references\n",
       "    if (id !== undefined) {\n",
       "      Bokeh.index[id].model.document.clear();\n",
       "      delete Bokeh.index[id];\n",
       "    }\n",
       "\n",
       "    if (server_id !== undefined) {\n",
       "      // Clean up Bokeh references\n",
       "      var cmd = \"from bokeh.io.state import curstate; print(curstate().uuid_to_server['\" + server_id + \"'].get_sessions()[0].document.roots[0]._id)\";\n",
       "      cell.notebook.kernel.execute(cmd, {\n",
       "        iopub: {\n",
       "          output: function(msg) {\n",
       "            var element_id = msg.content.text.trim();\n",
       "            Bokeh.index[element_id].model.document.clear();\n",
       "            delete Bokeh.index[element_id];\n",
       "          }\n",
       "        }\n",
       "      });\n",
       "      // Destroy server and session\n",
       "      var cmd = \"import bokeh.io.notebook as ion; ion.destroy_server('\" + server_id + \"')\";\n",
       "      cell.notebook.kernel.execute(cmd);\n",
       "    }\n",
       "  }\n",
       "\n",
       "  /**\n",
       "   * Handle when a new output is added\n",
       "   */\n",
       "  function handleAddOutput(event, handle) {\n",
       "    var output_area = handle.output_area;\n",
       "    var output = handle.output;\n",
       "\n",
       "    // limit handleAddOutput to display_data with EXEC_MIME_TYPE content only\n",
       "    if ((output.output_type != \"display_data\") || (!output.data.hasOwnProperty(EXEC_MIME_TYPE))) {\n",
       "      return\n",
       "    }\n",
       "\n",
       "    var toinsert = output_area.element.find(\".\" + CLASS_NAME.split(' ')[0]);\n",
       "\n",
       "    if (output.metadata[EXEC_MIME_TYPE][\"id\"] !== undefined) {\n",
       "      toinsert[toinsert.length - 1].firstChild.textContent = output.data[JS_MIME_TYPE];\n",
       "      // store reference to embed id on output_area\n",
       "      output_area._bokeh_element_id = output.metadata[EXEC_MIME_TYPE][\"id\"];\n",
       "    }\n",
       "    if (output.metadata[EXEC_MIME_TYPE][\"server_id\"] !== undefined) {\n",
       "      var bk_div = document.createElement(\"div\");\n",
       "      bk_div.innerHTML = output.data[HTML_MIME_TYPE];\n",
       "      var script_attrs = bk_div.children[0].attributes;\n",
       "      for (var i = 0; i < script_attrs.length; i++) {\n",
       "        toinsert[toinsert.length - 1].firstChild.setAttribute(script_attrs[i].name, script_attrs[i].value);\n",
       "      }\n",
       "      // store reference to server id on output_area\n",
       "      output_area._bokeh_server_id = output.metadata[EXEC_MIME_TYPE][\"server_id\"];\n",
       "    }\n",
       "  }\n",
       "\n",
       "  function register_renderer(events, OutputArea) {\n",
       "\n",
       "    function append_mime(data, metadata, element) {\n",
       "      // create a DOM node to render to\n",
       "      var toinsert = this.create_output_subarea(\n",
       "        metadata,\n",
       "        CLASS_NAME,\n",
       "        EXEC_MIME_TYPE\n",
       "      );\n",
       "      this.keyboard_manager.register_events(toinsert);\n",
       "      // Render to node\n",
       "      var props = {data: data, metadata: metadata[EXEC_MIME_TYPE]};\n",
       "      render(props, toinsert[toinsert.length - 1]);\n",
       "      element.append(toinsert);\n",
       "      return toinsert\n",
       "    }\n",
       "\n",
       "    /* Handle when an output is cleared or removed */\n",
       "    events.on('clear_output.CodeCell', handleClearOutput);\n",
       "    events.on('delete.Cell', handleClearOutput);\n",
       "\n",
       "    /* Handle when a new output is added */\n",
       "    events.on('output_added.OutputArea', handleAddOutput);\n",
       "\n",
       "    /**\n",
       "     * Register the mime type and append_mime function with output_area\n",
       "     */\n",
       "    OutputArea.prototype.register_mime_type(EXEC_MIME_TYPE, append_mime, {\n",
       "      /* Is output safe? */\n",
       "      safe: true,\n",
       "      /* Index of renderer in `output_area.display_order` */\n",
       "      index: 0\n",
       "    });\n",
       "  }\n",
       "\n",
       "  // register the mime type if in Jupyter Notebook environment and previously unregistered\n",
       "  if (root.Jupyter !== undefined) {\n",
       "    var events = require('base/js/events');\n",
       "    var OutputArea = require('notebook/js/outputarea').OutputArea;\n",
       "\n",
       "    if (OutputArea.prototype.mime_types().indexOf(EXEC_MIME_TYPE) == -1) {\n",
       "      register_renderer(events, OutputArea);\n",
       "    }\n",
       "  }\n",
       "\n",
       "  \n",
       "  if (typeof (root._bokeh_timeout) === \"undefined\" || force === true) {\n",
       "    root._bokeh_timeout = Date.now() + 5000;\n",
       "    root._bokeh_failed_load = false;\n",
       "  }\n",
       "\n",
       "  var NB_LOAD_WARNING = {'data': {'text/html':\n",
       "     \"<div style='background-color: #fdd'>\\n\"+\n",
       "     \"<p>\\n\"+\n",
       "     \"BokehJS does not appear to have successfully loaded. If loading BokehJS from CDN, this \\n\"+\n",
       "     \"may be due to a slow or bad network connection. Possible fixes:\\n\"+\n",
       "     \"</p>\\n\"+\n",
       "     \"<ul>\\n\"+\n",
       "     \"<li>re-rerun `output_notebook()` to attempt to load from CDN again, or</li>\\n\"+\n",
       "     \"<li>use INLINE resources instead, as so:</li>\\n\"+\n",
       "     \"</ul>\\n\"+\n",
       "     \"<code>\\n\"+\n",
       "     \"from bokeh.resources import INLINE\\n\"+\n",
       "     \"output_notebook(resources=INLINE)\\n\"+\n",
       "     \"</code>\\n\"+\n",
       "     \"</div>\"}};\n",
       "\n",
       "  function display_loaded() {\n",
       "    var el = document.getElementById(\"fba01e56-2b73-48ba-8e55-eccd772e8904\");\n",
       "    if (el != null) {\n",
       "      el.textContent = \"BokehJS is loading...\";\n",
       "    }\n",
       "    if (root.Bokeh !== undefined) {\n",
       "      if (el != null) {\n",
       "        el.textContent = \"BokehJS \" + root.Bokeh.version + \" successfully loaded.\";\n",
       "      }\n",
       "    } else if (Date.now() < root._bokeh_timeout) {\n",
       "      setTimeout(display_loaded, 100)\n",
       "    }\n",
       "  }\n",
       "\n",
       "\n",
       "  function run_callbacks() {\n",
       "    try {\n",
       "      root._bokeh_onload_callbacks.forEach(function(callback) { callback() });\n",
       "    }\n",
       "    finally {\n",
       "      delete root._bokeh_onload_callbacks\n",
       "    }\n",
       "    console.info(\"Bokeh: all callbacks have finished\");\n",
       "  }\n",
       "\n",
       "  function load_libs(js_urls, callback) {\n",
       "    root._bokeh_onload_callbacks.push(callback);\n",
       "    if (root._bokeh_is_loading > 0) {\n",
       "      console.log(\"Bokeh: BokehJS is being loaded, scheduling callback at\", now());\n",
       "      return null;\n",
       "    }\n",
       "    if (js_urls == null || js_urls.length === 0) {\n",
       "      run_callbacks();\n",
       "      return null;\n",
       "    }\n",
       "    console.log(\"Bokeh: BokehJS not loaded, scheduling load and callback at\", now());\n",
       "    root._bokeh_is_loading = js_urls.length;\n",
       "    for (var i = 0; i < js_urls.length; i++) {\n",
       "      var url = js_urls[i];\n",
       "      var s = document.createElement('script');\n",
       "      s.src = url;\n",
       "      s.async = false;\n",
       "      s.onreadystatechange = s.onload = function() {\n",
       "        root._bokeh_is_loading--;\n",
       "        if (root._bokeh_is_loading === 0) {\n",
       "          console.log(\"Bokeh: all BokehJS libraries loaded\");\n",
       "          run_callbacks()\n",
       "        }\n",
       "      };\n",
       "      s.onerror = function() {\n",
       "        console.warn(\"failed to load library \" + url);\n",
       "      };\n",
       "      console.log(\"Bokeh: injecting script tag for BokehJS library: \", url);\n",
       "      document.getElementsByTagName(\"head\")[0].appendChild(s);\n",
       "    }\n",
       "  };var element = document.getElementById(\"fba01e56-2b73-48ba-8e55-eccd772e8904\");\n",
       "  if (element == null) {\n",
       "    console.log(\"Bokeh: ERROR: autoload.js configured with elementid 'fba01e56-2b73-48ba-8e55-eccd772e8904' but no matching script tag was found. \")\n",
       "    return false;\n",
       "  }\n",
       "\n",
       "  var js_urls = [\"https://cdn.pydata.org/bokeh/release/bokeh-0.12.16.min.js\", \"https://cdn.pydata.org/bokeh/release/bokeh-widgets-0.12.16.min.js\", \"https://cdn.pydata.org/bokeh/release/bokeh-tables-0.12.16.min.js\", \"https://cdn.pydata.org/bokeh/release/bokeh-gl-0.12.16.min.js\"];\n",
       "\n",
       "  var inline_js = [\n",
       "    function(Bokeh) {\n",
       "      Bokeh.set_log_level(\"info\");\n",
       "    },\n",
       "    \n",
       "    function(Bokeh) {\n",
       "      \n",
       "    },\n",
       "    function(Bokeh) {\n",
       "      console.log(\"Bokeh: injecting CSS: https://cdn.pydata.org/bokeh/release/bokeh-0.12.16.min.css\");\n",
       "      Bokeh.embed.inject_css(\"https://cdn.pydata.org/bokeh/release/bokeh-0.12.16.min.css\");\n",
       "      console.log(\"Bokeh: injecting CSS: https://cdn.pydata.org/bokeh/release/bokeh-widgets-0.12.16.min.css\");\n",
       "      Bokeh.embed.inject_css(\"https://cdn.pydata.org/bokeh/release/bokeh-widgets-0.12.16.min.css\");\n",
       "      console.log(\"Bokeh: injecting CSS: https://cdn.pydata.org/bokeh/release/bokeh-tables-0.12.16.min.css\");\n",
       "      Bokeh.embed.inject_css(\"https://cdn.pydata.org/bokeh/release/bokeh-tables-0.12.16.min.css\");\n",
       "    }\n",
       "  ];\n",
       "\n",
       "  function run_inline_js() {\n",
       "    \n",
       "    if ((root.Bokeh !== undefined) || (force === true)) {\n",
       "      for (var i = 0; i < inline_js.length; i++) {\n",
       "        inline_js[i].call(root, root.Bokeh);\n",
       "      }if (force === true) {\n",
       "        display_loaded();\n",
       "      }} else if (Date.now() < root._bokeh_timeout) {\n",
       "      setTimeout(run_inline_js, 100);\n",
       "    } else if (!root._bokeh_failed_load) {\n",
       "      console.log(\"Bokeh: BokehJS failed to load within specified timeout.\");\n",
       "      root._bokeh_failed_load = true;\n",
       "    } else if (force !== true) {\n",
       "      var cell = $(document.getElementById(\"fba01e56-2b73-48ba-8e55-eccd772e8904\")).parents('.cell').data().cell;\n",
       "      cell.output_area.append_execute_result(NB_LOAD_WARNING)\n",
       "    }\n",
       "\n",
       "  }\n",
       "\n",
       "  if (root._bokeh_is_loading === 0) {\n",
       "    console.log(\"Bokeh: BokehJS loaded, going straight to plotting\");\n",
       "    run_inline_js();\n",
       "  } else {\n",
       "    load_libs(js_urls, function() {\n",
       "      console.log(\"Bokeh: BokehJS plotting callback run at\", now());\n",
       "      run_inline_js();\n",
       "    });\n",
       "  }\n",
       "}(window));"
      ],
      "application/vnd.bokehjs_load.v0+json": "\n(function(root) {\n  function now() {\n    return new Date();\n  }\n\n  var force = true;\n\n  if (typeof (root._bokeh_onload_callbacks) === \"undefined\" || force === true) {\n    root._bokeh_onload_callbacks = [];\n    root._bokeh_is_loading = undefined;\n  }\n\n  \n\n  \n  if (typeof (root._bokeh_timeout) === \"undefined\" || force === true) {\n    root._bokeh_timeout = Date.now() + 5000;\n    root._bokeh_failed_load = false;\n  }\n\n  var NB_LOAD_WARNING = {'data': {'text/html':\n     \"<div style='background-color: #fdd'>\\n\"+\n     \"<p>\\n\"+\n     \"BokehJS does not appear to have successfully loaded. If loading BokehJS from CDN, this \\n\"+\n     \"may be due to a slow or bad network connection. Possible fixes:\\n\"+\n     \"</p>\\n\"+\n     \"<ul>\\n\"+\n     \"<li>re-rerun `output_notebook()` to attempt to load from CDN again, or</li>\\n\"+\n     \"<li>use INLINE resources instead, as so:</li>\\n\"+\n     \"</ul>\\n\"+\n     \"<code>\\n\"+\n     \"from bokeh.resources import INLINE\\n\"+\n     \"output_notebook(resources=INLINE)\\n\"+\n     \"</code>\\n\"+\n     \"</div>\"}};\n\n  function display_loaded() {\n    var el = document.getElementById(\"fba01e56-2b73-48ba-8e55-eccd772e8904\");\n    if (el != null) {\n      el.textContent = \"BokehJS is loading...\";\n    }\n    if (root.Bokeh !== undefined) {\n      if (el != null) {\n        el.textContent = \"BokehJS \" + root.Bokeh.version + \" successfully loaded.\";\n      }\n    } else if (Date.now() < root._bokeh_timeout) {\n      setTimeout(display_loaded, 100)\n    }\n  }\n\n\n  function run_callbacks() {\n    try {\n      root._bokeh_onload_callbacks.forEach(function(callback) { callback() });\n    }\n    finally {\n      delete root._bokeh_onload_callbacks\n    }\n    console.info(\"Bokeh: all callbacks have finished\");\n  }\n\n  function load_libs(js_urls, callback) {\n    root._bokeh_onload_callbacks.push(callback);\n    if (root._bokeh_is_loading > 0) {\n      console.log(\"Bokeh: BokehJS is being loaded, scheduling callback at\", now());\n      return null;\n    }\n    if (js_urls == null || js_urls.length === 0) {\n      run_callbacks();\n      return null;\n    }\n    console.log(\"Bokeh: BokehJS not loaded, scheduling load and callback at\", now());\n    root._bokeh_is_loading = js_urls.length;\n    for (var i = 0; i < js_urls.length; i++) {\n      var url = js_urls[i];\n      var s = document.createElement('script');\n      s.src = url;\n      s.async = false;\n      s.onreadystatechange = s.onload = function() {\n        root._bokeh_is_loading--;\n        if (root._bokeh_is_loading === 0) {\n          console.log(\"Bokeh: all BokehJS libraries loaded\");\n          run_callbacks()\n        }\n      };\n      s.onerror = function() {\n        console.warn(\"failed to load library \" + url);\n      };\n      console.log(\"Bokeh: injecting script tag for BokehJS library: \", url);\n      document.getElementsByTagName(\"head\")[0].appendChild(s);\n    }\n  };var element = document.getElementById(\"fba01e56-2b73-48ba-8e55-eccd772e8904\");\n  if (element == null) {\n    console.log(\"Bokeh: ERROR: autoload.js configured with elementid 'fba01e56-2b73-48ba-8e55-eccd772e8904' but no matching script tag was found. \")\n    return false;\n  }\n\n  var js_urls = [\"https://cdn.pydata.org/bokeh/release/bokeh-0.12.16.min.js\", \"https://cdn.pydata.org/bokeh/release/bokeh-widgets-0.12.16.min.js\", \"https://cdn.pydata.org/bokeh/release/bokeh-tables-0.12.16.min.js\", \"https://cdn.pydata.org/bokeh/release/bokeh-gl-0.12.16.min.js\"];\n\n  var inline_js = [\n    function(Bokeh) {\n      Bokeh.set_log_level(\"info\");\n    },\n    \n    function(Bokeh) {\n      \n    },\n    function(Bokeh) {\n      console.log(\"Bokeh: injecting CSS: https://cdn.pydata.org/bokeh/release/bokeh-0.12.16.min.css\");\n      Bokeh.embed.inject_css(\"https://cdn.pydata.org/bokeh/release/bokeh-0.12.16.min.css\");\n      console.log(\"Bokeh: injecting CSS: https://cdn.pydata.org/bokeh/release/bokeh-widgets-0.12.16.min.css\");\n      Bokeh.embed.inject_css(\"https://cdn.pydata.org/bokeh/release/bokeh-widgets-0.12.16.min.css\");\n      console.log(\"Bokeh: injecting CSS: https://cdn.pydata.org/bokeh/release/bokeh-tables-0.12.16.min.css\");\n      Bokeh.embed.inject_css(\"https://cdn.pydata.org/bokeh/release/bokeh-tables-0.12.16.min.css\");\n    }\n  ];\n\n  function run_inline_js() {\n    \n    if ((root.Bokeh !== undefined) || (force === true)) {\n      for (var i = 0; i < inline_js.length; i++) {\n        inline_js[i].call(root, root.Bokeh);\n      }if (force === true) {\n        display_loaded();\n      }} else if (Date.now() < root._bokeh_timeout) {\n      setTimeout(run_inline_js, 100);\n    } else if (!root._bokeh_failed_load) {\n      console.log(\"Bokeh: BokehJS failed to load within specified timeout.\");\n      root._bokeh_failed_load = true;\n    } else if (force !== true) {\n      var cell = $(document.getElementById(\"fba01e56-2b73-48ba-8e55-eccd772e8904\")).parents('.cell').data().cell;\n      cell.output_area.append_execute_result(NB_LOAD_WARNING)\n    }\n\n  }\n\n  if (root._bokeh_is_loading === 0) {\n    console.log(\"Bokeh: BokehJS loaded, going straight to plotting\");\n    run_inline_js();\n  } else {\n    load_libs(js_urls, function() {\n      console.log(\"Bokeh: BokehJS plotting callback run at\", now());\n      run_inline_js();\n    });\n  }\n}(window));"
     },
     "metadata": {},
     "output_type": "display_data"
    }
   ],
   "source": [
    "output_notebook()"
   ]
  },
  {
   "cell_type": "code",
   "execution_count": 8,
   "metadata": {
    "collapsed": true
   },
   "outputs": [],
   "source": [
    "def fmt_cool(ds_in):\n",
    "    ds = ds_in.copy(deep=True)\n",
    "    if 'igg' in ds.dims:\n",
    "        ds = ds.sel(igg=1)\n",
    "\n",
    "    if 'g' in ds.dims:\n",
    "        ds = ds.sum('g')\n",
    "            \n",
    "    if 'band' in ds.dims:\n",
    "        try:\n",
    "            ds = ds.squeeze('band')\n",
    "        except ValueError:\n",
    "            ds = ds.sum('band')\n",
    "                \n",
    "    return ds['coolrg']\n",
    "\n",
    "\n",
    "def pltdata_cooling_1(ds_cool=None,\n",
    "                      ds_cool_crd=None, ds_cool_wgt=None):\n",
    "    \n",
    "\n",
    "\n",
    "    colors = all_palettes['Set1'][4]\n",
    "    data = [{'label': 'CLIRAD `coolr_bands`',\n",
    "             'srs': fmt_cool(ds_cool),\n",
    "             'line_dash': 'dashed', 'line_width': 5,\n",
    "             'color': colors[0], 'alpha': .6},\n",
    "            {'label': 'CRD',\n",
    "             'srs': fmt_cool(ds_cool_crd),\n",
    "             'line_dash': 'solid', 'line_width': 1.5,\n",
    "             'marker': 'circle', 'marker_size': 5,\n",
    "             'color': colors[2], 'alpha': 1,},\n",
    "            {'label': 'WGT igg=10 wgt_flux=2',\n",
    "             'srs': fmt_cool(ds_cool_wgt),\n",
    "             'line_dash': 'solid', 'line_width': 3,\n",
    "             'marker': 'square', 'marker_size': 5,\n",
    "             'color': colors[3], 'alpha': .6}]\n",
    "    return data\n",
    "\n",
    "\n",
    "def nice_xlims(pltdata=None, prange=None):\n",
    "    \n",
    "    def get_slice(srs):\n",
    "        return srs.sel(pressure=slice(*prange))\n",
    "    \n",
    "    srss = [d['srs'] for d in pltdata]\n",
    "    vmin = min([get_slice(srs).min() for srs in srss])\n",
    "    vmax = max([get_slice(srs).max() for srs in srss])\n",
    "    dv = (vmax - vmin) * .01\n",
    "    return float(vmin - dv), float(vmax + dv)\n",
    "    \n",
    "\n",
    "def plt_cooling_bokeh(pltdata=None):\n",
    "    '''\n",
    "    Plot a list of cooling rate profiles using bokeh.\n",
    "    '''\n",
    "    ymin = 1e-2 \n",
    "    ymax = 1020 \n",
    "        \n",
    "    p1 = figure(title=\"Linear pressure scale\", \n",
    "                plot_width=400)        \n",
    "    xmin, xmax = nice_xlims(pltdata, prange=(50, 1050))\n",
    "    for d in pltdata:\n",
    "        if 'marker' in d:\n",
    "            getattr(p1, d['marker'])(d['srs'].values, \n",
    "                    d['srs'].coords['pressure'].values,\n",
    "                    color=d['color'], alpha=.7)\n",
    "        p1.line(d['srs'].values, \n",
    "                d['srs'].coords['pressure'].values,\n",
    "                color=d['color'], alpha=d['alpha'], \n",
    "                line_width=d['line_width'], line_dash=d['line_dash'])\n",
    "    \n",
    "    p1.y_range = Range1d(ymax, ymin)\n",
    "    p1.yaxis.axis_label = 'pressure [mb]'   \n",
    "    p1.x_range = Range1d(xmin, xmax)\n",
    "    p1.xaxis.axis_label = 'cooling rate [K/day]'\n",
    "            \n",
    "    p2 = figure(title='Log pressure scale', y_axis_type='log',\n",
    "                plot_width=560)\n",
    "    xmin, xmax = nice_xlims(pltdata, prange=(.01, 200))\n",
    "    \n",
    "    rs = []\n",
    "    for d in pltdata:\n",
    "        rd = []\n",
    "        if 'marker' in d:\n",
    "            r_mark = getattr(p2, d['marker'])(d['srs'].values, \n",
    "                        d['srs'].coords['pressure'].values,\n",
    "                        color=d['color'], alpha=.7)\n",
    "            rd.append(r_mark)\n",
    "        r_line = p2.line(d['srs'].values, \n",
    "                    d['srs'].coords['pressure'].values,\n",
    "                    color=d['color'], alpha=d['alpha'], \n",
    "                    line_width=d['line_width'], line_dash=d['line_dash'])\n",
    "        rd.append(r_line)\n",
    "      \n",
    "        rs.append(rd)\n",
    "        \n",
    "    p2.y_range = Range1d(ymax, ymin)  \n",
    "    p2.yaxis.axis_label = 'pressure [mb]'\n",
    "    \n",
    "    p2.x_range = Range1d(xmin, xmax)\n",
    "    p2.xaxis.axis_label = 'cooling rate [K/day]'\n",
    "    \n",
    "    items = [(d['label'], r) for r, d in zip(rs, pltdata)]\n",
    "    legend = Legend(items=items, location=(10, -30))\n",
    "    legend.label_text_font_size = '8pt'\n",
    "    \n",
    "    p2.add_layout(legend, 'right')  \n",
    "    \n",
    "    show(gridplot(p1, p2, ncols=2, plot_height=500))\n",
    "    \n",
    "\n",
    "def script_plt_cooling():\n",
    "    pltdata = pltdata_cooling_1(\n",
    "        ds_cool=DS_COOL,\n",
    "        ds_cool_crd=DS_COOL_CRD,\n",
    "        ds_cool_wgt=DS_COOL_WGT)\n",
    "    plt_cooling_bokeh(pltdata=pltdata)\n",
    "    print('''FIGURE. Cooling rate profiles.''')"
   ]
  },
  {
   "cell_type": "code",
   "execution_count": 9,
   "metadata": {
    "collapsed": true
   },
   "outputs": [],
   "source": [
    "def fmt_flux(ds_in):\n",
    "    ds = ds_in.copy(deep=True)\n",
    "    \n",
    "    for l in ('level', 'layer'):\n",
    "        if l in ds.data_vars:\n",
    "            if len(ds[l].dims) > 1:\n",
    "                surface = {d: 0 for d in ds.dims if d != 'pressure'}\n",
    "                coord_level = ds[l][surface]\n",
    "                ds.coords[l] = ('pressure', coord_level)\n",
    "            else:\n",
    "                ds.coords[l] = ('pressure', ds[l])\n",
    "        \n",
    "    ds = ds.isel(pressure=[0, 23, -1])\n",
    "        \n",
    "    if 'igg' in ds.dims:\n",
    "        ds = ds.sel(igg=[1])\n",
    "        ds = ds.squeeze('igg').drop('igg')\n",
    "    \n",
    "    if 'g' in ds.dims:\n",
    "        ds = ds.sum('g')\n",
    "            \n",
    "    if 'band' in ds.dims:\n",
    "        try:\n",
    "            ds = ds.squeeze('band').drop('band')\n",
    "        except ValueError:\n",
    "            ds = ds.sum('band')\n",
    "                \n",
    "    df = ds.to_dataframe()\n",
    "    df = df.set_index('level', append=True)               \n",
    "    return df\n",
    "\n",
    "\n",
    "def tbdata_flux(ds_flux=None, ds_flux_crd=None, ds_flux_wgt=None):\n",
    "    ilevels = [0, 23, -1]\n",
    "            \n",
    "    benchmark = {'label': 'CRD',\n",
    "                 'df': fmt_flux(ds_flux_crd)}\n",
    "    \n",
    "    tbs = [{'label': 'WGT igg=10 wgt_flux=1',\n",
    "            'df': fmt_flux(ds_flux_wgt)},\n",
    "           {'label': 'CLIRAD',\n",
    "            'df': fmt_flux(ds_flux)}]\n",
    "    \n",
    "    data = {'benchmark': benchmark, 'others': tbs}\n",
    "    return data\n",
    "\n",
    "\n",
    "def tb_flux(tbdata=None):\n",
    "    benchmark = tbdata['benchmark']\n",
    "    others = tbdata['others']\n",
    "    \n",
    "    def show_tb(d=None):\n",
    "        display.display(d['df'])\n",
    "        print('Table.', 'Fluxes.', d['label'])\n",
    "        \n",
    "    def show_tbdiff(d0=None, d=None):\n",
    "        df = d['df']\n",
    "        df.index = d0['df'].index\n",
    "        display.display(df - d0['df'])\n",
    "        print('Table.', 'Fluxes.', \n",
    "              '({}) - ({})'.format(d['label'], d0['label']))\n",
    "        \n",
    "    show_tb(benchmark)\n",
    "    for d in others:\n",
    "        show_tb(d)\n",
    "        \n",
    "    for d in others:\n",
    "        show_tbdiff(d=d, d0=benchmark)\n",
    "        \n",
    "        \n",
    "def script_tb_flux():\n",
    "    data = tbdata_flux(ds_flux=DS_FLUX,\n",
    "                       ds_flux_crd=DS_FLUX_CRD,\n",
    "                       ds_flux_wgt=DS_FLUX_WGT)\n",
    "    tb_flux(tbdata=data)"
   ]
  },
  {
   "cell_type": "code",
   "execution_count": 10,
   "metadata": {
    "collapsed": true
   },
   "outputs": [],
   "source": [
    "def band_map():\n",
    "    '''\n",
    "    Maps spectral bands in lblnew to spectral bands in clirad.\n",
    "    '''\n",
    "    lblnew2clirad = {'1': '1',\n",
    "            '2': '2',\n",
    "            '3a': '3',\n",
    "            '3b': '4',\n",
    "            '3c': '5',\n",
    "            '4': '6', \n",
    "            '5': '7',\n",
    "            '6': '8',\n",
    "            '7': '9', \n",
    "            '8': '10',\n",
    "            '9': '11'}\n",
    "    \n",
    "    clirad2lblnew = {clirad: lblnew \n",
    "                     for lblnew, clirad in lblnew2clirad.items()}\n",
    "    return clirad2lblnew\n",
    "\n",
    "\n",
    "def gasbands():\n",
    "    bmap = band_map()\n",
    "    gases = list(PARAM['molecule'].keys())\n",
    "    \n",
    "    bands = [bmap[str(b)] for b in PARAM['band']]\n",
    "    return list(itertools.product(gases, bands))\n",
    "\n",
    "\n",
    "def print_bestfit_params():\n",
    "    print('Best-fit values for each (gas, band)')\n",
    "    print('------------------------------------')\n",
    "    for gas, band in gasbands():\n",
    "        print('o {} band{}'.format(gas, band))\n",
    "        param = bestfits.kdist_params(molecule=gas, band=band)\n",
    "        for name, value in sorted(param.items()):\n",
    "            print(2 * ' ' + '{} = {}'.format(name, value))\n",
    "\n",
    "        \n",
    "def print_input_param():        \n",
    "    for name, value in PARAM.items():\n",
    "        print('{} = {}'.format(name, value))\n",
    "        \n",
    "        \n",
    "def print_lblnew_param():\n",
    "    for name, value in sorted(PARAM_LBLNEW.items()):\n",
    "        print('{} = {}'.format(name, value))\n"
   ]
  },
  {
   "cell_type": "code",
   "execution_count": 11,
   "metadata": {
    "collapsed": true,
    "scrolled": false
   },
   "outputs": [],
   "source": [
    "def show_html(s):\n",
    "    display.display(display.HTML(s))\n",
    "\n",
    "    \n",
    "def show_markdown(s):\n",
    "    display.display(display.Markdown(s))\n",
    "\n",
    "    \n",
    "def script():\n",
    "    \n",
    "    title = '### CLIRAD-LW'\n",
    "    s_input = 'Input Parameters'\n",
    "    s_lblnew_param = 'LBLNEW case compaired against'\n",
    "    s_bestfits = 'Best-fit Parameters'\n",
    "    s_plt_cooling = 'Cooling Rate Profiles'\n",
    "    s_tb_flux = 'Flux Comparison'\n",
    "    \n",
    "    # title\n",
    "    show_markdown('### CLIRAD-LW')\n",
    "    \n",
    "    # TOC\n",
    "    show_markdown('### Table of Contents')\n",
    "    show_html(climahtml.getHTML_hrefanchor(s_input))\n",
    "    show_html(climahtml.getHTML_hrefanchor(s_lblnew_param))\n",
    "    show_html(climahtml.getHTML_hrefanchor(s_plt_cooling))\n",
    "    show_html(climahtml.getHTML_hrefanchor(s_tb_flux))\n",
    "    show_html(climahtml.getHTML_hrefanchor(s_bestfits))\n",
    "    \n",
    "    # Input parameters\n",
    "    show_html(climahtml.getHTML_idanchor(s_input))\n",
    "    show_markdown(climahtml.getMarkdown_sectitle(s_input))\n",
    "    print_input_param()\n",
    "    \n",
    "    # LBLNEW parameters \n",
    "    show_html(climahtml.getHTML_idanchor(s_lblnew_param))\n",
    "    show_markdown(climahtml.getMarkdown_sectitle(s_lblnew_param))\n",
    "    print_lblnew_param()\n",
    "    \n",
    "    # Cooling rate profiles\n",
    "    show_html(climahtml.getHTML_idanchor(s_plt_cooling))\n",
    "    show_markdown(climahtml.getMarkdown_sectitle(s_plt_cooling))\n",
    "    script_plt_cooling()\n",
    "    \n",
    "    # Flux comparison\n",
    "    show_html(climahtml.getHTML_idanchor(s_tb_flux))\n",
    "    show_markdown(climahtml.getMarkdown_sectitle(s_tb_flux))\n",
    "    script_tb_flux()\n",
    "    \n",
    "    # Best-fit values\n",
    "    show_html(climahtml.getHTML_idanchor(s_bestfits))\n",
    "    show_markdown(climahtml.getMarkdown_sectitle(s_bestfits))\n",
    "    print_bestfit_params()\n",
    "   \n",
    "    "
   ]
  },
  {
   "cell_type": "code",
   "execution_count": 12,
   "metadata": {
    "collapsed": true,
    "scrolled": false
   },
   "outputs": [
    {
     "data": {
      "text/markdown": [
       "### CLIRAD-LW"
      ],
      "text/plain": [
       "<IPython.core.display.Markdown object>"
      ]
     },
     "metadata": {},
     "output_type": "display_data"
    },
    {
     "data": {
      "text/markdown": [
       "### Table of Contents"
      ],
      "text/plain": [
       "<IPython.core.display.Markdown object>"
      ]
     },
     "metadata": {},
     "output_type": "display_data"
    },
    {
     "data": {
      "text/html": [
       "<a href=\"#Input_Parameters\">Input Parameters</a>"
      ],
      "text/plain": [
       "<IPython.core.display.HTML object>"
      ]
     },
     "metadata": {},
     "output_type": "display_data"
    },
    {
     "data": {
      "text/html": [
       "<a href=\"#LBLNEW_case_compaired_against\">LBLNEW case compaired against</a>"
      ],
      "text/plain": [
       "<IPython.core.display.HTML object>"
      ]
     },
     "metadata": {},
     "output_type": "display_data"
    },
    {
     "data": {
      "text/html": [
       "<a href=\"#Cooling_Rate_Profiles\">Cooling Rate Profiles</a>"
      ],
      "text/plain": [
       "<IPython.core.display.HTML object>"
      ]
     },
     "metadata": {},
     "output_type": "display_data"
    },
    {
     "data": {
      "text/html": [
       "<a href=\"#Flux_Comparison\">Flux Comparison</a>"
      ],
      "text/plain": [
       "<IPython.core.display.HTML object>"
      ]
     },
     "metadata": {},
     "output_type": "display_data"
    },
    {
     "data": {
      "text/html": [
       "<a href=\"#Best-fit_Parameters\">Best-fit Parameters</a>"
      ],
      "text/plain": [
       "<IPython.core.display.HTML object>"
      ]
     },
     "metadata": {},
     "output_type": "display_data"
    },
    {
     "data": {
      "text/html": [
       "<a id=\"Input_Parameters\"></a>"
      ],
      "text/plain": [
       "<IPython.core.display.HTML object>"
      ]
     },
     "metadata": {},
     "output_type": "display_data"
    },
    {
     "data": {
      "text/markdown": [
       "# Input Parameters"
      ],
      "text/plain": [
       "<IPython.core.display.Markdown object>"
      ]
     },
     "metadata": {},
     "output_type": "display_data"
    },
    {
     "name": "stdout",
     "output_type": "stream",
     "text": [
      "atmpro = mls\n",
      "band = [2]\n",
      "commitnumber = de5d43e\n",
      "molecule = {'h2o': 'atmpro'}\n",
      "tsfc = 294\n"
     ]
    },
    {
     "data": {
      "text/html": [
       "<a id=\"LBLNEW_case_compaired_against\"></a>"
      ],
      "text/plain": [
       "<IPython.core.display.HTML object>"
      ]
     },
     "metadata": {},
     "output_type": "display_data"
    },
    {
     "data": {
      "text/markdown": [
       "# LBLNEW case compaired against"
      ],
      "text/plain": [
       "<IPython.core.display.Markdown object>"
      ]
     },
     "metadata": {},
     "output_type": "display_data"
    },
    {
     "name": "stdout",
     "output_type": "stream",
     "text": [
      "atmpro = mls\n",
      "band = 2\n",
      "commitnumber = 5014a19\n",
      "conc = None\n",
      "dv = 0.001\n",
      "klin = 0\n",
      "molecule = h2o\n",
      "ng_adju = [-2, -2, 0]\n",
      "ng_refs = [2, 3, 6]\n",
      "nv = 1000\n",
      "option_compute_btable = 0\n",
      "option_compute_ktable = 0\n",
      "option_wgt_flux = 1\n",
      "option_wgt_k = 1\n",
      "ref_pts = [(1, 250), (10, 250), (500, 250)]\n",
      "tsfc = 294\n",
      "vmax = 540\n",
      "vmin = 340\n",
      "w_diffuse = [(1.66, 1.66), (1.8, 1.8, 1.8), (1.8, 1.66, 1.45, 1.45, 1.45, 1.45)]\n",
      "wgt = [(0.6, 0.6), (0.6, 0.6, 0.6), (0.6, 0.6, 0.6, 0.6, 0.6, 0.6)]\n"
     ]
    },
    {
     "data": {
      "text/html": [
       "<a id=\"Cooling_Rate_Profiles\"></a>"
      ],
      "text/plain": [
       "<IPython.core.display.HTML object>"
      ]
     },
     "metadata": {},
     "output_type": "display_data"
    },
    {
     "data": {
      "text/markdown": [
       "# Cooling Rate Profiles"
      ],
      "text/plain": [
       "<IPython.core.display.Markdown object>"
      ]
     },
     "metadata": {},
     "output_type": "display_data"
    },
    {
     "data": {
      "text/html": [
       "\n",
       "<div class=\"bk-root\">\n",
       "    <div class=\"bk-plotdiv\" id=\"872071be-48ee-4f96-b555-98e48bb03b7f\"></div>\n",
       "</div>"
      ]
     },
     "metadata": {},
     "output_type": "display_data"
    },
    {
     "data": {
      "application/javascript": [
       "(function(root) {\n",
       "  function embed_document(root) {\n",
       "    \n",
       "  var docs_json = {\"6b76d55a-a200-4fe8-9324-e80a859de77e\":{\"roots\":{\"references\":[{\"attributes\":{\"fill_alpha\":{\"value\":0.1},\"fill_color\":{\"value\":\"#1f77b4\"},\"line_alpha\":{\"value\":0.1},\"line_color\":{\"value\":\"#1f77b4\"},\"x\":{\"field\":\"x\"},\"y\":{\"field\":\"y\"}},\"id\":\"e95c7168-be93-4818-b806-9f45928d3d31\",\"type\":\"Square\"},{\"attributes\":{\"children\":[{\"id\":\"e56f986b-6c04-45b9-87af-958608a89794\",\"subtype\":\"Figure\",\"type\":\"Plot\"},{\"id\":\"366cf3be-8da2-4963-978b-228a57896d20\",\"subtype\":\"Figure\",\"type\":\"Plot\"}]},\"id\":\"e13dc97e-cc6d-43d6-9d6b-5d55b0139f06\",\"type\":\"Row\"},{\"attributes\":{\"below\":[{\"id\":\"0d35e75f-071c-4952-9024-ae5282f9b944\",\"type\":\"LinearAxis\"}],\"left\":[{\"id\":\"5bc82727-007c-45a0-96ec-e467a29f8ba3\",\"type\":\"LogAxis\"}],\"plot_height\":500,\"plot_width\":560,\"renderers\":[{\"id\":\"0d35e75f-071c-4952-9024-ae5282f9b944\",\"type\":\"LinearAxis\"},{\"id\":\"8d335496-039e-4564-bb95-93ae7bf0adea\",\"type\":\"Grid\"},{\"id\":\"5bc82727-007c-45a0-96ec-e467a29f8ba3\",\"type\":\"LogAxis\"},{\"id\":\"1a0fdb7c-7141-4c04-93fe-c32fd5392e8a\",\"type\":\"Grid\"},{\"id\":\"f589e96b-eff8-4bd1-9a0e-9ab8c4cfb89c\",\"type\":\"BoxAnnotation\"},{\"id\":\"0f446f82-27c5-4214-b7e4-79b697c5ed3e\",\"type\":\"GlyphRenderer\"},{\"id\":\"e0af3a29-e2e1-40a8-a0dc-598eb01a4d39\",\"type\":\"GlyphRenderer\"},{\"id\":\"831dbf25-16b4-4277-b9b4-e25527b08dca\",\"type\":\"GlyphRenderer\"},{\"id\":\"af755217-b0ce-429d-839b-db8ff69594b4\",\"type\":\"GlyphRenderer\"},{\"id\":\"1f2c32de-7633-4c55-951f-564b053c8af3\",\"type\":\"GlyphRenderer\"},{\"id\":\"ea8574f4-8927-49c6-b12f-14b465e2697c\",\"type\":\"Legend\"}],\"right\":[{\"id\":\"ea8574f4-8927-49c6-b12f-14b465e2697c\",\"type\":\"Legend\"}],\"title\":{\"id\":\"4c55f306-a12c-4aba-8f0d-e4828fb4c771\",\"type\":\"Title\"},\"toolbar\":{\"id\":\"1f47bd25-8288-4af3-861e-523f68344d43\",\"type\":\"Toolbar\"},\"toolbar_location\":null,\"x_range\":{\"id\":\"6d288cb2-b5f6-4250-ab50-e40a9021cde2\",\"type\":\"Range1d\"},\"x_scale\":{\"id\":\"5a599545-863f-4eb9-b533-a55f24d1cd1d\",\"type\":\"LinearScale\"},\"y_range\":{\"id\":\"ad68c8d1-b221-4103-9ca7-65ef9f912e4a\",\"type\":\"Range1d\"},\"y_scale\":{\"id\":\"72d00f1b-9961-4a09-bbb4-c83154d0d76a\",\"type\":\"LogScale\"}},\"id\":\"366cf3be-8da2-4963-978b-228a57896d20\",\"subtype\":\"Figure\",\"type\":\"Plot\"},{\"attributes\":{\"callback\":null,\"data\":{\"x\":{\"__ndarray__\":\"I/ZFULequj9oM21J/h27P5WzvS/rqrs/tOTyRpK/vD/f0N1WlGu9P87ULvMpMr4/Kml4Ad28vj+8pYJBMzG/P2uul1iTVr8/D4ytYJUxvz9xa5wglYa+P/eJ9u3TcL0/2WCvDeCYuz+s5dDG/e24PzJ4bJCYhLc/FN4mD9wMuz/3mDHOzgLBPyipNBYGBcQ/wQFLA/ZCxj/yWuiqOQnIP9zi7jWQKco/kdUSf6L2zT+1cJhIvffQP7kBRyqm8M4/xAAUDZVXxz+5tjMmfMDBPwDPUkOad7w/MvXm5xD0tz81zDsyyue0Pxi8Ab3na7I/oluIgYUOsD9xB7bY49GrP07wqH0IGak/vbrCEVRdpz8fHicENwelP9J8LssPi6I/FIxF8Q2goT/MTWQtQsChP8u9KMtj/aA/KrN/poI8oT9du+LBqtGuPwuA+J7ObsY/o1LqIEdk1T/0DkXhfezfP31guh7AG+U/Z2mD+SYO5j/I4IWqfjbmP/vttOrJQec/DB0RXtS+6D99hs/DPS/qP7jEO3Xnfus/L97GTJRH7D9Z6qN+auzsP3pX0oe5b+0/IBM5AU2c7T8OMuEXjGbtPzjJMXBu+ew/y08jmiGO7T+GfJ94CJLtP+6/nr3v1uw/KMDIvHtq6z8Nrv1U81PpP0dGwa2KqOY/nIFRZxrN4z9UgjpHNQbhP+oca/uzON0/A/QqapdW2T+m1KkxSiLWPyAwowjOG9M/n/73clwN0D+yA5Viq4XKP9JnxAi9acU/KGThgn6RwT8l/OsCwfS9P0fG6+V9jMc/\",\"dtype\":\"float64\",\"shape\":[75]},\"y\":{\"__ndarray__\":\"GhExyth1ND/Sv8nbtpRIP2vylNV0PVE/aTum7souWD/At0SJ8fVgPw3Iuahxymc/MSNhhJWvcD/bTfBN02d3P2zb5nxnaoA/CD5h5MAGhz8NmeH1TyaQP+zrCsc9p5Y/LbKd76fGnz/bLW5ISEmmPww9YvTcQq8/JV2OstnstT8Er5Y7M8G+P0c+r3jqkcU/5h99k6ZBzj88bCIzFzjVP4enV8oyxN0//yH99nXg5D8qOpLLf0jtP5kqGJXUifQ/c9cS8kHP/D+/DpwzojQEQIEmwoanVwxA4lgXt9HgE0BSSZ2AJuIbQAMJih9jjiNA5q4l5INuK0AwTKYKRj0zQNv5fmq8/DpAaCJseHrtQkB/+zpwzoxKQM3MzMzMeFJAZmZmZmZqWEAAAAAAAFxeQM3MzMzMJmJAmpmZmZkfZUBmZmZmZhhoQDMzMzMzEWtAAAAAAAAKbkBmZmZmZoFwQM3MzMzM/XFAMzMzMzN6c0CamZmZmfZ0QAAAAAAAc3ZAZmZmZmbvd0DNzMzMzGt5QDMzMzMz6HpAmpmZmZlkfEAAAAAAAOF9QGZmZmZmXX9AZmZmZuZsgECamZmZGSuBQM3MzMxM6YFAAAAAAICngkAzMzMzs2WDQGZmZmbmI4RAmpmZmRnihEDNzMzMTKCFQAAAAACAXoZAMzMzM7Mch0BmZmZm5tqHQJqZmZkZmYhAzczMzExXiUAAAAAAgBWKQDMzMzOz04pAZmZmZuaRi0CamZmZGVCMQM3MzMxMDo1AAAAAAIDMjUAzMzMzs4qOQGZmZmbmSI9A\",\"dtype\":\"float64\",\"shape\":[75]}},\"selected\":{\"id\":\"a130fe1a-65be-4979-a352-ff23e93ae1e1\",\"type\":\"Selection\"},\"selection_policy\":{\"id\":\"60c98494-cd7d-492b-b591-efd78f53387e\",\"type\":\"UnionRenderers\"}},\"id\":\"05b31ea7-7ca4-4691-a11a-91e539975c7b\",\"type\":\"ColumnDataSource\"},{\"attributes\":{},\"id\":\"f070c1d4-f1ce-4f16-9217-844e83a1344c\",\"type\":\"WheelZoomTool\"},{\"attributes\":{},\"id\":\"71ad4683-dc5b-477b-a548-addf38a25f0a\",\"type\":\"PanTool\"},{\"attributes\":{},\"id\":\"04b13600-f3d4-4791-9285-399fc5293882\",\"type\":\"UnionRenderers\"},{\"attributes\":{\"axis_label\":\"cooling rate [K/day]\",\"formatter\":{\"id\":\"fe1fd3f6-5f83-4f1e-af47-446abff4a665\",\"type\":\"BasicTickFormatter\"},\"plot\":{\"id\":\"366cf3be-8da2-4963-978b-228a57896d20\",\"subtype\":\"Figure\",\"type\":\"Plot\"},\"ticker\":{\"id\":\"215b989b-5b74-472a-8cbd-ddaa8e173024\",\"type\":\"BasicTicker\"}},\"id\":\"0d35e75f-071c-4952-9024-ae5282f9b944\",\"type\":\"LinearAxis\"},{\"attributes\":{\"callback\":null,\"data\":{\"x\":{\"__ndarray__\":\"15tBEcVDwz8BuWnYlFDDP3WyUEIbxsM/Y54yiiczxD9ukKT/QJTEP7mIMeF+3cQ/UYSz3wMJxT9kfPN23wzFP+BXeqfh38Q//tWhogN1xD9tpd/Xq7zDP3NiMPtMqMI/n4hNfYMjwT/dfW2BLUS+Px8MnyHalrs/lQyEjYBEvj/ciYofAETCP5xHzXBm6MQ/eHPAx8Pvxj91gcPyhLHIPytO1iRPxMo/WovkZSwezj8Vwg9z7pvQP25LBZEcm80/46WbxCAwxj8Urf0ZtS3BP4+K/zuiQrw/umBIBVA3uD+DcPjp52m1P5MZHuS9NrM/w49QhOsJsT9PI6lcE5itP54MgWhVZ6o/M1va8o+TqD8qUlyzZ1+mP4pzrgrPqaM/XS6CyQQxoj+c84vGZdKhP+VElUOGs6A/1G7VJGGnoD/o3qIX3nqtP5x4veq3ZcU/sZnwCeHq1D/kGbC7qwTgP9yxAaZGJ+U/VSGS36pE5j/rwpMGTLrmP+UHER3Aquc/dYob2Kbo6D8b+M3UVlLqP7RycUz9ues/fWw/18Zx7D/UIqoJBdnsP8Ig4WLiIu0/4kvybQtA7T8O1sWOQintP/IQndCx5Ow/Sy4QTlWL7T8e4VG2inbtPxdPVm+Bguw/wF+riMPn6j9gqtvR5tXoPxmNIaV+g+Y/GJOjpZcd5D+6qy4SoMfhP/gcWI6QQd8/wq6apWxq2z+XeaM9+93XP/OIuNZqUdQ/c7+/GPzD0D8kljkCXSDLP1SU6Lhc9cU/mYrHJKcfwj/fiDB2qa6/P1bl75w1kcg/\",\"dtype\":\"float64\",\"shape\":[75]},\"y\":{\"__ndarray__\":\"GhExyth1ND/Sv8nbtpRIP2vylNV0PVE/aTum7souWD/At0SJ8fVgPw3Iuahxymc/MSNhhJWvcD/bTfBN02d3P2zb5nxnaoA/CD5h5MAGhz8NmeH1TyaQP+zrCsc9p5Y/LbKd76fGnz/bLW5ISEmmPww9YvTcQq8/JV2OstnstT8Er5Y7M8G+P0c+r3jqkcU/5h99k6ZBzj88bCIzFzjVP4enV8oyxN0//yH99nXg5D8qOpLLf0jtP5kqGJXUifQ/c9cS8kHP/D+/DpwzojQEQIEmwoanVwxA4lgXt9HgE0BSSZ2AJuIbQAMJih9jjiNA5q4l5INuK0AwTKYKRj0zQNv5fmq8/DpAaCJseHrtQkB/+zpwzoxKQM3MzMzMeFJAZmZmZmZqWEAAAAAAAFxeQM3MzMzMJmJAmpmZmZkfZUBmZmZmZhhoQDMzMzMzEWtAAAAAAAAKbkBmZmZmZoFwQM3MzMzM/XFAMzMzMzN6c0CamZmZmfZ0QAAAAAAAc3ZAZmZmZmbvd0DNzMzMzGt5QDMzMzMz6HpAmpmZmZlkfEAAAAAAAOF9QGZmZmZmXX9AZmZmZuZsgECamZmZGSuBQM3MzMxM6YFAAAAAAICngkAzMzMzs2WDQGZmZmbmI4RAmpmZmRnihEDNzMzMTKCFQAAAAACAXoZAMzMzM7Mch0BmZmZm5tqHQJqZmZkZmYhAzczMzExXiUAAAAAAgBWKQDMzMzOz04pAZmZmZuaRi0CamZmZGVCMQM3MzMxMDo1AAAAAAIDMjUAzMzMzs4qOQGZmZmbmSI9A\",\"dtype\":\"float64\",\"shape\":[75]}},\"selected\":{\"id\":\"a0344ec3-24b2-40dc-bba2-9b9fbbd1fa75\",\"type\":\"Selection\"},\"selection_policy\":{\"id\":\"8e268139-18f5-4059-87a0-2e3071cf26d8\",\"type\":\"UnionRenderers\"}},\"id\":\"784bf420-ee59-4f1a-ac08-bca4d6c487c8\",\"type\":\"ColumnDataSource\"},{\"attributes\":{\"dimension\":1,\"plot\":{\"id\":\"366cf3be-8da2-4963-978b-228a57896d20\",\"subtype\":\"Figure\",\"type\":\"Plot\"},\"ticker\":{\"id\":\"31bd1181-c0d1-46b7-b75c-f4477ee3f51a\",\"type\":\"LogTicker\"}},\"id\":\"1a0fdb7c-7141-4c04-93fe-c32fd5392e8a\",\"type\":\"Grid\"},{\"attributes\":{\"fill_alpha\":{\"value\":0.1},\"fill_color\":{\"value\":\"#1f77b4\"},\"line_alpha\":{\"value\":0.1},\"line_color\":{\"value\":\"#1f77b4\"},\"x\":{\"field\":\"x\"},\"y\":{\"field\":\"y\"}},\"id\":\"00b9d103-40b5-4878-898a-9b5da45fe7da\",\"type\":\"Circle\"},{\"attributes\":{},\"id\":\"57479e98-d656-4d7b-a500-fecc657fad9e\",\"type\":\"SaveTool\"},{\"attributes\":{},\"id\":\"781c6830-9d00-4806-9e1b-b40f5ada2ebb\",\"type\":\"LinearScale\"},{\"attributes\":{\"overlay\":{\"id\":\"f589e96b-eff8-4bd1-9a0e-9ab8c4cfb89c\",\"type\":\"BoxAnnotation\"}},\"id\":\"1d2d9b2e-800c-4c25-9830-62d7e5550fd7\",\"type\":\"BoxZoomTool\"},{\"attributes\":{\"source\":{\"id\":\"361aee88-a842-4633-bc5e-056064723be9\",\"type\":\"ColumnDataSource\"}},\"id\":\"30eee448-8aa7-4925-99a0-77bbc990d6a9\",\"type\":\"CDSView\"},{\"attributes\":{},\"id\":\"53ef57e1-860e-419e-a48d-638af3f09bee\",\"type\":\"ResetTool\"},{\"attributes\":{},\"id\":\"bc1c6dcd-31b8-43eb-ade5-872cf42e65bf\",\"type\":\"BasicTicker\"},{\"attributes\":{\"line_alpha\":0.1,\"line_color\":\"#1f77b4\",\"line_width\":3,\"x\":{\"field\":\"x\"},\"y\":{\"field\":\"y\"}},\"id\":\"aaf2c1f1-0ac5-4cbe-ae87-c01f20b87b23\",\"type\":\"Line\"},{\"attributes\":{},\"id\":\"43576747-5320-4bae-9163-99e0f2945e99\",\"type\":\"LinearScale\"},{\"attributes\":{\"callback\":null,\"data\":{\"x\":{\"__ndarray__\":\"I/ZFULequj9oM21J/h27P5WzvS/rqrs/tOTyRpK/vD/f0N1WlGu9P87ULvMpMr4/Kml4Ad28vj+8pYJBMzG/P2uul1iTVr8/D4ytYJUxvz9xa5wglYa+P/eJ9u3TcL0/2WCvDeCYuz+s5dDG/e24PzJ4bJCYhLc/FN4mD9wMuz/3mDHOzgLBPyipNBYGBcQ/wQFLA/ZCxj/yWuiqOQnIP9zi7jWQKco/kdUSf6L2zT+1cJhIvffQP7kBRyqm8M4/xAAUDZVXxz+5tjMmfMDBPwDPUkOad7w/MvXm5xD0tz81zDsyyue0Pxi8Ab3na7I/oluIgYUOsD9xB7bY49GrP07wqH0IGak/vbrCEVRdpz8fHicENwelP9J8LssPi6I/FIxF8Q2goT/MTWQtQsChP8u9KMtj/aA/KrN/poI8oT9du+LBqtGuPwuA+J7ObsY/o1LqIEdk1T/0DkXhfezfP31guh7AG+U/Z2mD+SYO5j/I4IWqfjbmP/vttOrJQec/DB0RXtS+6D99hs/DPS/qP7jEO3Xnfus/L97GTJRH7D9Z6qN+auzsP3pX0oe5b+0/IBM5AU2c7T8OMuEXjGbtPzjJMXBu+ew/y08jmiGO7T+GfJ94CJLtP+6/nr3v1uw/KMDIvHtq6z8Nrv1U81PpP0dGwa2KqOY/nIFRZxrN4z9UgjpHNQbhP+oca/uzON0/A/QqapdW2T+m1KkxSiLWPyAwowjOG9M/n/73clwN0D+yA5Viq4XKP9JnxAi9acU/KGThgn6RwT8l/OsCwfS9P0fG6+V9jMc/\",\"dtype\":\"float64\",\"shape\":[75]},\"y\":{\"__ndarray__\":\"GhExyth1ND/Sv8nbtpRIP2vylNV0PVE/aTum7souWD/At0SJ8fVgPw3Iuahxymc/MSNhhJWvcD/bTfBN02d3P2zb5nxnaoA/CD5h5MAGhz8NmeH1TyaQP+zrCsc9p5Y/LbKd76fGnz/bLW5ISEmmPww9YvTcQq8/JV2OstnstT8Er5Y7M8G+P0c+r3jqkcU/5h99k6ZBzj88bCIzFzjVP4enV8oyxN0//yH99nXg5D8qOpLLf0jtP5kqGJXUifQ/c9cS8kHP/D+/DpwzojQEQIEmwoanVwxA4lgXt9HgE0BSSZ2AJuIbQAMJih9jjiNA5q4l5INuK0AwTKYKRj0zQNv5fmq8/DpAaCJseHrtQkB/+zpwzoxKQM3MzMzMeFJAZmZmZmZqWEAAAAAAAFxeQM3MzMzMJmJAmpmZmZkfZUBmZmZmZhhoQDMzMzMzEWtAAAAAAAAKbkBmZmZmZoFwQM3MzMzM/XFAMzMzMzN6c0CamZmZmfZ0QAAAAAAAc3ZAZmZmZmbvd0DNzMzMzGt5QDMzMzMz6HpAmpmZmZlkfEAAAAAAAOF9QGZmZmZmXX9AZmZmZuZsgECamZmZGSuBQM3MzMxM6YFAAAAAAICngkAzMzMzs2WDQGZmZmbmI4RAmpmZmRnihEDNzMzMTKCFQAAAAACAXoZAMzMzM7Mch0BmZmZm5tqHQJqZmZkZmYhAzczMzExXiUAAAAAAgBWKQDMzMzOz04pAZmZmZuaRi0CamZmZGVCMQM3MzMxMDo1AAAAAAIDMjUAzMzMzs4qOQGZmZmbmSI9A\",\"dtype\":\"float64\",\"shape\":[75]}},\"selected\":{\"id\":\"d04c6d7f-3a78-49fc-a313-0b4b29a44ecb\",\"type\":\"Selection\"},\"selection_policy\":{\"id\":\"fe4a9a5a-3aee-438b-88ea-82c3059490c3\",\"type\":\"UnionRenderers\"}},\"id\":\"dedca28a-c94e-4817-9b76-a18ebc5143dd\",\"type\":\"ColumnDataSource\"},{\"attributes\":{\"data_source\":{\"id\":\"361aee88-a842-4633-bc5e-056064723be9\",\"type\":\"ColumnDataSource\"},\"glyph\":{\"id\":\"c5b031df-550f-4696-aead-97791e37961b\",\"type\":\"Circle\"},\"hover_glyph\":null,\"muted_glyph\":null,\"nonselection_glyph\":{\"id\":\"00b9d103-40b5-4878-898a-9b5da45fe7da\",\"type\":\"Circle\"},\"selection_glyph\":null,\"view\":{\"id\":\"30eee448-8aa7-4925-99a0-77bbc990d6a9\",\"type\":\"CDSView\"}},\"id\":\"e0af3a29-e2e1-40a8-a0dc-598eb01a4d39\",\"type\":\"GlyphRenderer\"},{\"attributes\":{\"line_alpha\":0.6,\"line_color\":\"#984ea3\",\"line_width\":3,\"x\":{\"field\":\"x\"},\"y\":{\"field\":\"y\"}},\"id\":\"d3b04a36-5137-469c-ba4b-6092801f8980\",\"type\":\"Line\"},{\"attributes\":{\"callback\":null,\"data\":{\"x\":{\"__ndarray__\":\"/0BWQyS7sz/ry8BrEf2zP7/Fn7WW2rQ/2P6Eac6wtT/Yt/trZYG2P4yqaVvwSbc/SW7JgYkFuD9840jAGKy4PxQbIXPNM7k/0HtjCACOuT9YCQ4W66e5P+TUmT7lX7k/6tlibUKQuD9iYW//HRO3P27cymHjubY/lvncQ6Hpuj/AV9cV8SXBP9d1HP03SMQ/BFpXWLJbxj99BpJ/f63HP+DnS7GbgMk/mUz0fWHHzT8JaGSISkDRP172DF1gwc8/8VUClEzvxz+4NKdgx97BPwdcV8wIb7w/Ki1MdNAEuD8NluwDiSC1P4G1sawQY7I/qVsxtB7krz/O3kxe+h2sP9XLVxgOw6k/qctpHNiUpz+mquqUMJukP0v+XylWA6I/s2X+c8ZnoT96VLrDP8+hPyiJ21fUFqE/zRDJu+NHoT/LAuGbinquP4hDPgF3zcU/kYveZ2Qp1D8ybJxm5ODdP40VLSc+CuQ/57Koug1r5D//X1TWX2TkP+ZUtjj4/OU/4Clog+HW5z8a5dNCTT3pP38iw+jBluo/awTJ2Fy36z9B3TgQL9vsP6JZXXeIue0/r5MbwZ0W7j8++tMEWejtP8KePE3ig+0/T5cgfllV7j/sqyfKEM3uP9YeF1Hqne4/dlePXoGG7T+UcDosgVLrPwuL3YDHPug/Jmh6JofR5D9JOyRrw5fhPxGMYj3e+d0/ra/Hp3Qu2j/CM18tkEPXP1J9KTT3bdQ/7AXRICZd0T8ep4Uec5bMPwXDNU51Dsc/Cg1p+SZywj92UKr5AXq+PykdUUYBR8c/\",\"dtype\":\"float64\",\"shape\":[75]},\"y\":{\"__ndarray__\":\"S/O/Q+51ND/Sv8nbtpRIP2vylNV0PVE/aTum7souWD/At0SJ8fVgPw3Iuahxymc/MSNhhJWvcD/bTfBN02d3P2zb5nxnaoA/CD5h5MAGhz8NmeH1TyaQP+zrCsc9p5Y/LbKd76fGnz/bLW5ISEmmPww9YvTcQq8/JV2OstnstT8Er5Y7M8G+P0c+r3jqkcU/5h99k6ZBzj88bCIzFzjVP4enV8oyxN0//yH99nXg5D8qOpLLf0jtP5kqGJXUifQ/c9cS8kHP/D+/DpwzojQEQIEmwoanVwxA4lgXt9HgE0BSSZ2AJuIbQAMJih9jjiNA5q4l5INuK0AwTKYKRj0zQNv5fmq8/DpAaCJseHrtQkB/+zpwzoxKQM3MzMzMeFJAZmZmZmZqWEAAAAAAAFxeQM3MzMzMJmJAmpmZmZkfZUBmZmZmZhhoQDMzMzMzEWtAAAAAAAAKbkBmZmZmZoFwQM3MzMzM/XFAMzMzMzN6c0CamZmZmfZ0QAAAAAAAc3ZAZmZmZmbvd0DNzMzMzGt5QDMzMzMz6HpAmpmZmZlkfEAAAAAAAOF9QGZmZmZmXX9AZmZmZuZsgECamZmZGSuBQM3MzMxM6YFAAAAAAICngkAzMzMzs2WDQGZmZmbmI4RAmpmZmRnihEDNzMzMTKCFQAAAAACAXoZAMzMzM7Mch0BmZmZm5tqHQJqZmZkZmYhAzczMzExXiUAAAAAAgBWKQDMzMzOz04pAZmZmZuaRi0CamZmZGVCMQM3MzMxMDo1AAAAAAIDMjUAzMzMzs4qOQGZmZmbmSI9A\",\"dtype\":\"float64\",\"shape\":[75]}},\"selected\":{\"id\":\"3d188aeb-14db-4d47-856a-15fc1a40b786\",\"type\":\"Selection\"},\"selection_policy\":{\"id\":\"8198352d-d2f6-4c2a-a8a6-6591feaadcf7\",\"type\":\"UnionRenderers\"}},\"id\":\"9ed0ea2b-76c2-4382-918e-263ff812eee3\",\"type\":\"ColumnDataSource\"},{\"attributes\":{\"plot\":null,\"text\":\"Linear pressure scale\"},\"id\":\"b2ea51a9-0c27-498d-8588-3953e5652920\",\"type\":\"Title\"},{\"attributes\":{\"axis_label\":\"pressure [mb]\",\"formatter\":{\"id\":\"24d27a6f-21e9-46f6-9c0b-1dd5d695c128\",\"type\":\"BasicTickFormatter\"},\"plot\":{\"id\":\"e56f986b-6c04-45b9-87af-958608a89794\",\"subtype\":\"Figure\",\"type\":\"Plot\"},\"ticker\":{\"id\":\"bc1c6dcd-31b8-43eb-ade5-872cf42e65bf\",\"type\":\"BasicTicker\"}},\"id\":\"18c6a753-db9c-41e3-99c6-0fcd05de7481\",\"type\":\"LinearAxis\"},{\"attributes\":{\"line_color\":\"#4daf4a\",\"line_width\":1.5,\"x\":{\"field\":\"x\"},\"y\":{\"field\":\"y\"}},\"id\":\"4c455c74-9887-448d-8b18-cb56c4024a1f\",\"type\":\"Line\"},{\"attributes\":{\"num_minor_ticks\":10},\"id\":\"31bd1181-c0d1-46b7-b75c-f4477ee3f51a\",\"type\":\"LogTicker\"},{\"attributes\":{\"below\":[{\"id\":\"1e785249-51a1-4dc9-b648-730226156f75\",\"type\":\"LinearAxis\"}],\"left\":[{\"id\":\"18c6a753-db9c-41e3-99c6-0fcd05de7481\",\"type\":\"LinearAxis\"}],\"plot_height\":500,\"plot_width\":400,\"renderers\":[{\"id\":\"1e785249-51a1-4dc9-b648-730226156f75\",\"type\":\"LinearAxis\"},{\"id\":\"0d77b521-ff4e-46b6-baf6-d35cc0c6f018\",\"type\":\"Grid\"},{\"id\":\"18c6a753-db9c-41e3-99c6-0fcd05de7481\",\"type\":\"LinearAxis\"},{\"id\":\"ca987fd4-c82d-4d33-aa89-11e1656f04fe\",\"type\":\"Grid\"},{\"id\":\"a1e7bfe0-c5cd-464f-b6ab-592da151f091\",\"type\":\"BoxAnnotation\"},{\"id\":\"e1571559-32bf-4f10-b71d-136532d5f9fc\",\"type\":\"GlyphRenderer\"},{\"id\":\"9dd02da4-b987-473e-821f-bea7153c20c0\",\"type\":\"GlyphRenderer\"},{\"id\":\"04990114-7880-408c-9a57-c9a0d948cb5d\",\"type\":\"GlyphRenderer\"},{\"id\":\"1a2f601c-abbb-43ad-a3ed-3aa1cdf1bd8b\",\"type\":\"GlyphRenderer\"},{\"id\":\"e5a23aa6-f55c-41a7-b38a-94b6d2417296\",\"type\":\"GlyphRenderer\"}],\"title\":{\"id\":\"b2ea51a9-0c27-498d-8588-3953e5652920\",\"type\":\"Title\"},\"toolbar\":{\"id\":\"9d04e901-6c1d-49c7-86ff-b5f6baff078e\",\"type\":\"Toolbar\"},\"toolbar_location\":null,\"x_range\":{\"id\":\"6b39e83b-d839-406b-9bac-d36062166ada\",\"type\":\"Range1d\"},\"x_scale\":{\"id\":\"781c6830-9d00-4806-9e1b-b40f5ada2ebb\",\"type\":\"LinearScale\"},\"y_range\":{\"id\":\"67669e5c-5b00-4dc0-9a74-50add612a791\",\"type\":\"Range1d\"},\"y_scale\":{\"id\":\"43576747-5320-4bae-9163-99e0f2945e99\",\"type\":\"LinearScale\"}},\"id\":\"e56f986b-6c04-45b9-87af-958608a89794\",\"subtype\":\"Figure\",\"type\":\"Plot\"},{\"attributes\":{\"line_alpha\":0.6,\"line_color\":\"#e41a1c\",\"line_dash\":[6],\"line_width\":5,\"x\":{\"field\":\"x\"},\"y\":{\"field\":\"y\"}},\"id\":\"7fe5d03a-1058-4c6f-aabb-e15d632d1ef8\",\"type\":\"Line\"},{\"attributes\":{},\"id\":\"5a599545-863f-4eb9-b533-a55f24d1cd1d\",\"type\":\"LinearScale\"},{\"attributes\":{},\"id\":\"1ecc6b79-4b71-4b96-bb69-431fd3a6e360\",\"type\":\"BasicTicker\"},{\"attributes\":{\"callback\":null,\"data\":{\"x\":{\"__ndarray__\":\"15tBEcVDwz8BuWnYlFDDP3WyUEIbxsM/Y54yiiczxD9ukKT/QJTEP7mIMeF+3cQ/UYSz3wMJxT9kfPN23wzFP+BXeqfh38Q//tWhogN1xD9tpd/Xq7zDP3NiMPtMqMI/n4hNfYMjwT/dfW2BLUS+Px8MnyHalrs/lQyEjYBEvj/ciYofAETCP5xHzXBm6MQ/eHPAx8Pvxj91gcPyhLHIPytO1iRPxMo/WovkZSwezj8Vwg9z7pvQP25LBZEcm80/46WbxCAwxj8Urf0ZtS3BP4+K/zuiQrw/umBIBVA3uD+DcPjp52m1P5MZHuS9NrM/w49QhOsJsT9PI6lcE5itP54MgWhVZ6o/M1va8o+TqD8qUlyzZ1+mP4pzrgrPqaM/XS6CyQQxoj+c84vGZdKhP+VElUOGs6A/1G7VJGGnoD/o3qIX3nqtP5x4veq3ZcU/sZnwCeHq1D/kGbC7qwTgP9yxAaZGJ+U/VSGS36pE5j/rwpMGTLrmP+UHER3Aquc/dYob2Kbo6D8b+M3UVlLqP7RycUz9ues/fWw/18Zx7D/UIqoJBdnsP8Ig4WLiIu0/4kvybQtA7T8O1sWOQintP/IQndCx5Ow/Sy4QTlWL7T8e4VG2inbtPxdPVm+Bguw/wF+riMPn6j9gqtvR5tXoPxmNIaV+g+Y/GJOjpZcd5D+6qy4SoMfhP/gcWI6QQd8/wq6apWxq2z+XeaM9+93XP/OIuNZqUdQ/c7+/GPzD0D8kljkCXSDLP1SU6Lhc9cU/mYrHJKcfwj/fiDB2qa6/P1bl75w1kcg/\",\"dtype\":\"float64\",\"shape\":[75]},\"y\":{\"__ndarray__\":\"GhExyth1ND/Sv8nbtpRIP2vylNV0PVE/aTum7souWD/At0SJ8fVgPw3Iuahxymc/MSNhhJWvcD/bTfBN02d3P2zb5nxnaoA/CD5h5MAGhz8NmeH1TyaQP+zrCsc9p5Y/LbKd76fGnz/bLW5ISEmmPww9YvTcQq8/JV2OstnstT8Er5Y7M8G+P0c+r3jqkcU/5h99k6ZBzj88bCIzFzjVP4enV8oyxN0//yH99nXg5D8qOpLLf0jtP5kqGJXUifQ/c9cS8kHP/D+/DpwzojQEQIEmwoanVwxA4lgXt9HgE0BSSZ2AJuIbQAMJih9jjiNA5q4l5INuK0AwTKYKRj0zQNv5fmq8/DpAaCJseHrtQkB/+zpwzoxKQM3MzMzMeFJAZmZmZmZqWEAAAAAAAFxeQM3MzMzMJmJAmpmZmZkfZUBmZmZmZhhoQDMzMzMzEWtAAAAAAAAKbkBmZmZmZoFwQM3MzMzM/XFAMzMzMzN6c0CamZmZmfZ0QAAAAAAAc3ZAZmZmZmbvd0DNzMzMzGt5QDMzMzMz6HpAmpmZmZlkfEAAAAAAAOF9QGZmZmZmXX9AZmZmZuZsgECamZmZGSuBQM3MzMxM6YFAAAAAAICngkAzMzMzs2WDQGZmZmbmI4RAmpmZmRnihEDNzMzMTKCFQAAAAACAXoZAMzMzM7Mch0BmZmZm5tqHQJqZmZkZmYhAzczMzExXiUAAAAAAgBWKQDMzMzOz04pAZmZmZuaRi0CamZmZGVCMQM3MzMxMDo1AAAAAAIDMjUAzMzMzs4qOQGZmZmbmSI9A\",\"dtype\":\"float64\",\"shape\":[75]}},\"selected\":{\"id\":\"d55bec61-7c01-482b-b613-d7a712cc1f13\",\"type\":\"Selection\"},\"selection_policy\":{\"id\":\"98d10013-08be-4389-80a7-0ac08e5671e5\",\"type\":\"UnionRenderers\"}},\"id\":\"361aee88-a842-4633-bc5e-056064723be9\",\"type\":\"ColumnDataSource\"},{\"attributes\":{\"plot\":{\"id\":\"366cf3be-8da2-4963-978b-228a57896d20\",\"subtype\":\"Figure\",\"type\":\"Plot\"},\"ticker\":{\"id\":\"215b989b-5b74-472a-8cbd-ddaa8e173024\",\"type\":\"BasicTicker\"}},\"id\":\"8d335496-039e-4564-bb95-93ae7bf0adea\",\"type\":\"Grid\"},{\"attributes\":{\"bottom_units\":\"screen\",\"fill_alpha\":{\"value\":0.5},\"fill_color\":{\"value\":\"lightgrey\"},\"left_units\":\"screen\",\"level\":\"overlay\",\"line_alpha\":{\"value\":1.0},\"line_color\":{\"value\":\"black\"},\"line_dash\":[4,4],\"line_width\":{\"value\":2},\"plot\":null,\"render_mode\":\"css\",\"right_units\":\"screen\",\"top_units\":\"screen\"},\"id\":\"f589e96b-eff8-4bd1-9a0e-9ab8c4cfb89c\",\"type\":\"BoxAnnotation\"},{\"attributes\":{\"line_alpha\":0.1,\"line_color\":\"#1f77b4\",\"line_width\":3,\"x\":{\"field\":\"x\"},\"y\":{\"field\":\"y\"}},\"id\":\"349bc032-aa5d-4d36-8398-815e9ea28a13\",\"type\":\"Line\"},{\"attributes\":{\"callback\":null,\"data\":{\"x\":{\"__ndarray__\":\"15tBEcVDwz8BuWnYlFDDP3WyUEIbxsM/Y54yiiczxD9ukKT/QJTEP7mIMeF+3cQ/UYSz3wMJxT9kfPN23wzFP+BXeqfh38Q//tWhogN1xD9tpd/Xq7zDP3NiMPtMqMI/n4hNfYMjwT/dfW2BLUS+Px8MnyHalrs/lQyEjYBEvj/ciYofAETCP5xHzXBm6MQ/eHPAx8Pvxj91gcPyhLHIPytO1iRPxMo/WovkZSwezj8Vwg9z7pvQP25LBZEcm80/46WbxCAwxj8Urf0ZtS3BP4+K/zuiQrw/umBIBVA3uD+DcPjp52m1P5MZHuS9NrM/w49QhOsJsT9PI6lcE5itP54MgWhVZ6o/M1va8o+TqD8qUlyzZ1+mP4pzrgrPqaM/XS6CyQQxoj+c84vGZdKhP+VElUOGs6A/1G7VJGGnoD/o3qIX3nqtP5x4veq3ZcU/sZnwCeHq1D/kGbC7qwTgP9yxAaZGJ+U/VSGS36pE5j/rwpMGTLrmP+UHER3Aquc/dYob2Kbo6D8b+M3UVlLqP7RycUz9ues/fWw/18Zx7D/UIqoJBdnsP8Ig4WLiIu0/4kvybQtA7T8O1sWOQintP/IQndCx5Ow/Sy4QTlWL7T8e4VG2inbtPxdPVm+Bguw/wF+riMPn6j9gqtvR5tXoPxmNIaV+g+Y/GJOjpZcd5D+6qy4SoMfhP/gcWI6QQd8/wq6apWxq2z+XeaM9+93XP/OIuNZqUdQ/c7+/GPzD0D8kljkCXSDLP1SU6Lhc9cU/mYrHJKcfwj/fiDB2qa6/P1bl75w1kcg/\",\"dtype\":\"float64\",\"shape\":[75]},\"y\":{\"__ndarray__\":\"GhExyth1ND/Sv8nbtpRIP2vylNV0PVE/aTum7souWD/At0SJ8fVgPw3Iuahxymc/MSNhhJWvcD/bTfBN02d3P2zb5nxnaoA/CD5h5MAGhz8NmeH1TyaQP+zrCsc9p5Y/LbKd76fGnz/bLW5ISEmmPww9YvTcQq8/JV2OstnstT8Er5Y7M8G+P0c+r3jqkcU/5h99k6ZBzj88bCIzFzjVP4enV8oyxN0//yH99nXg5D8qOpLLf0jtP5kqGJXUifQ/c9cS8kHP/D+/DpwzojQEQIEmwoanVwxA4lgXt9HgE0BSSZ2AJuIbQAMJih9jjiNA5q4l5INuK0AwTKYKRj0zQNv5fmq8/DpAaCJseHrtQkB/+zpwzoxKQM3MzMzMeFJAZmZmZmZqWEAAAAAAAFxeQM3MzMzMJmJAmpmZmZkfZUBmZmZmZhhoQDMzMzMzEWtAAAAAAAAKbkBmZmZmZoFwQM3MzMzM/XFAMzMzMzN6c0CamZmZmfZ0QAAAAAAAc3ZAZmZmZmbvd0DNzMzMzGt5QDMzMzMz6HpAmpmZmZlkfEAAAAAAAOF9QGZmZmZmXX9AZmZmZuZsgECamZmZGSuBQM3MzMxM6YFAAAAAAICngkAzMzMzs2WDQGZmZmbmI4RAmpmZmRnihEDNzMzMTKCFQAAAAACAXoZAMzMzM7Mch0BmZmZm5tqHQJqZmZkZmYhAzczMzExXiUAAAAAAgBWKQDMzMzOz04pAZmZmZuaRi0CamZmZGVCMQM3MzMxMDo1AAAAAAIDMjUAzMzMzs4qOQGZmZmbmSI9A\",\"dtype\":\"float64\",\"shape\":[75]}},\"selected\":{\"id\":\"4f18dffa-db7b-48c6-8758-e44ca2b1e0a0\",\"type\":\"Selection\"},\"selection_policy\":{\"id\":\"cbef143b-8fec-4ddd-98cc-bf4dfc69ab75\",\"type\":\"UnionRenderers\"}},\"id\":\"c551a32c-7e26-4b5d-b248-e4e1a507d537\",\"type\":\"ColumnDataSource\"},{\"attributes\":{\"callback\":null,\"end\":0.01,\"start\":1020},\"id\":\"67669e5c-5b00-4dc0-9a74-50add612a791\",\"type\":\"Range1d\"},{\"attributes\":{\"data_source\":{\"id\":\"9ed0ea2b-76c2-4382-918e-263ff812eee3\",\"type\":\"ColumnDataSource\"},\"glyph\":{\"id\":\"7fe5d03a-1058-4c6f-aabb-e15d632d1ef8\",\"type\":\"Line\"},\"hover_glyph\":null,\"muted_glyph\":null,\"nonselection_glyph\":{\"id\":\"838dc341-594d-44d3-8f7b-ba5587cbeef2\",\"type\":\"Line\"},\"selection_glyph\":null,\"view\":{\"id\":\"743a39f9-6a4e-43c2-91b7-24622289822f\",\"type\":\"CDSView\"}},\"id\":\"0f446f82-27c5-4214-b7e4-79b697c5ed3e\",\"type\":\"GlyphRenderer\"},{\"attributes\":{},\"id\":\"72d00f1b-9961-4a09-bbb4-c83154d0d76a\",\"type\":\"LogScale\"},{\"attributes\":{\"axis_label\":\"pressure [mb]\",\"formatter\":{\"id\":\"27514137-cc43-47c6-ada7-e625d1840762\",\"type\":\"LogTickFormatter\"},\"plot\":{\"id\":\"366cf3be-8da2-4963-978b-228a57896d20\",\"subtype\":\"Figure\",\"type\":\"Plot\"},\"ticker\":{\"id\":\"31bd1181-c0d1-46b7-b75c-f4477ee3f51a\",\"type\":\"LogTicker\"}},\"id\":\"5bc82727-007c-45a0-96ec-e467a29f8ba3\",\"type\":\"LogAxis\"},{\"attributes\":{\"source\":{\"id\":\"9ed0ea2b-76c2-4382-918e-263ff812eee3\",\"type\":\"ColumnDataSource\"}},\"id\":\"743a39f9-6a4e-43c2-91b7-24622289822f\",\"type\":\"CDSView\"},{\"attributes\":{\"data_source\":{\"id\":\"26b04cc1-62c3-4c64-a911-f8fd454b8e8f\",\"type\":\"ColumnDataSource\"},\"glyph\":{\"id\":\"d3b04a36-5137-469c-ba4b-6092801f8980\",\"type\":\"Line\"},\"hover_glyph\":null,\"muted_glyph\":null,\"nonselection_glyph\":{\"id\":\"349bc032-aa5d-4d36-8398-815e9ea28a13\",\"type\":\"Line\"},\"selection_glyph\":null,\"view\":{\"id\":\"be1c35d0-ec95-4082-998c-2241f294a450\",\"type\":\"CDSView\"}},\"id\":\"e5a23aa6-f55c-41a7-b38a-94b6d2417296\",\"type\":\"GlyphRenderer\"},{\"attributes\":{\"line_alpha\":0.1,\"line_color\":\"#1f77b4\",\"line_width\":1.5,\"x\":{\"field\":\"x\"},\"y\":{\"field\":\"y\"}},\"id\":\"97841ff0-eca5-401c-9a19-687de9a41761\",\"type\":\"Line\"},{\"attributes\":{\"data_source\":{\"id\":\"c551a32c-7e26-4b5d-b248-e4e1a507d537\",\"type\":\"ColumnDataSource\"},\"glyph\":{\"id\":\"4c455c74-9887-448d-8b18-cb56c4024a1f\",\"type\":\"Line\"},\"hover_glyph\":null,\"muted_glyph\":null,\"nonselection_glyph\":{\"id\":\"97841ff0-eca5-401c-9a19-687de9a41761\",\"type\":\"Line\"},\"selection_glyph\":null,\"view\":{\"id\":\"28b04117-6d8c-4d99-9401-319aa9539405\",\"type\":\"CDSView\"}},\"id\":\"831dbf25-16b4-4277-b9b4-e25527b08dca\",\"type\":\"GlyphRenderer\"},{\"attributes\":{\"fill_alpha\":{\"value\":0.7},\"fill_color\":{\"value\":\"#4daf4a\"},\"line_alpha\":{\"value\":0.7},\"line_color\":{\"value\":\"#4daf4a\"},\"x\":{\"field\":\"x\"},\"y\":{\"field\":\"y\"}},\"id\":\"c5b031df-550f-4696-aead-97791e37961b\",\"type\":\"Circle\"},{\"attributes\":{\"source\":{\"id\":\"c551a32c-7e26-4b5d-b248-e4e1a507d537\",\"type\":\"ColumnDataSource\"}},\"id\":\"28b04117-6d8c-4d99-9401-319aa9539405\",\"type\":\"CDSView\"},{\"attributes\":{\"axis_label\":\"cooling rate [K/day]\",\"formatter\":{\"id\":\"c98305ab-40ff-4f73-8f4c-f49af3f3d11c\",\"type\":\"BasicTickFormatter\"},\"plot\":{\"id\":\"e56f986b-6c04-45b9-87af-958608a89794\",\"subtype\":\"Figure\",\"type\":\"Plot\"},\"ticker\":{\"id\":\"1ecc6b79-4b71-4b96-bb69-431fd3a6e360\",\"type\":\"BasicTicker\"}},\"id\":\"1e785249-51a1-4dc9-b648-730226156f75\",\"type\":\"LinearAxis\"},{\"attributes\":{},\"id\":\"215b989b-5b74-472a-8cbd-ddaa8e173024\",\"type\":\"BasicTicker\"},{\"attributes\":{\"fill_alpha\":{\"value\":0.7},\"fill_color\":{\"value\":\"#984ea3\"},\"line_alpha\":{\"value\":0.7},\"line_color\":{\"value\":\"#984ea3\"},\"x\":{\"field\":\"x\"},\"y\":{\"field\":\"y\"}},\"id\":\"9b34c9d1-19cb-4d1e-a053-e848f75c1412\",\"type\":\"Square\"},{\"attributes\":{\"data_source\":{\"id\":\"05b31ea7-7ca4-4691-a11a-91e539975c7b\",\"type\":\"ColumnDataSource\"},\"glyph\":{\"id\":\"371c6dbd-6702-4225-b3f6-d2d123cfeafc\",\"type\":\"Line\"},\"hover_glyph\":null,\"muted_glyph\":null,\"nonselection_glyph\":{\"id\":\"aaf2c1f1-0ac5-4cbe-ae87-c01f20b87b23\",\"type\":\"Line\"},\"selection_glyph\":null,\"view\":{\"id\":\"fb79ba41-e52a-4b8c-8e38-7da7d55535c4\",\"type\":\"CDSView\"}},\"id\":\"1f2c32de-7633-4c55-951f-564b053c8af3\",\"type\":\"GlyphRenderer\"},{\"attributes\":{\"callback\":null,\"end\":0.27191924015999996,\"start\":0.03015678384},\"id\":\"6d288cb2-b5f6-4250-ab50-e40a9021cde2\",\"type\":\"Range1d\"},{\"attributes\":{\"line_alpha\":0.6,\"line_color\":\"#984ea3\",\"line_width\":3,\"x\":{\"field\":\"x\"},\"y\":{\"field\":\"y\"}},\"id\":\"371c6dbd-6702-4225-b3f6-d2d123cfeafc\",\"type\":\"Line\"},{\"attributes\":{\"source\":{\"id\":\"dedca28a-c94e-4817-9b76-a18ebc5143dd\",\"type\":\"ColumnDataSource\"}},\"id\":\"868741a8-bd77-4830-8ecd-e73580de96d7\",\"type\":\"CDSView\"},{\"attributes\":{\"source\":{\"id\":\"05b31ea7-7ca4-4691-a11a-91e539975c7b\",\"type\":\"ColumnDataSource\"}},\"id\":\"fb79ba41-e52a-4b8c-8e38-7da7d55535c4\",\"type\":\"CDSView\"},{\"attributes\":{\"items\":[{\"id\":\"60fcf0cd-1608-402d-be94-0bfdd019f314\",\"type\":\"LegendItem\"},{\"id\":\"d0dc90a7-ce9c-40c6-a15f-fd42a9a08604\",\"type\":\"LegendItem\"},{\"id\":\"7d907521-08fd-44da-99ff-8ba0dac1799d\",\"type\":\"LegendItem\"}],\"label_text_font_size\":{\"value\":\"8pt\"},\"location\":[10,-30],\"plot\":{\"id\":\"366cf3be-8da2-4963-978b-228a57896d20\",\"subtype\":\"Figure\",\"type\":\"Plot\"}},\"id\":\"ea8574f4-8927-49c6-b12f-14b465e2697c\",\"type\":\"Legend\"},{\"attributes\":{},\"id\":\"c98305ab-40ff-4f73-8f4c-f49af3f3d11c\",\"type\":\"BasicTickFormatter\"},{\"attributes\":{\"line_alpha\":0.6,\"line_color\":\"#e41a1c\",\"line_dash\":[6],\"line_width\":5,\"x\":{\"field\":\"x\"},\"y\":{\"field\":\"y\"}},\"id\":\"0abe5c13-a476-4377-b80f-e666e35f57cb\",\"type\":\"Line\"},{\"attributes\":{\"label\":{\"value\":\"CLIRAD `coolr_bands`\"},\"renderers\":[{\"id\":\"0f446f82-27c5-4214-b7e4-79b697c5ed3e\",\"type\":\"GlyphRenderer\"}]},\"id\":\"60fcf0cd-1608-402d-be94-0bfdd019f314\",\"type\":\"LegendItem\"},{\"attributes\":{},\"id\":\"04aa226d-61ff-46ea-a9a9-bfbc2f5e2aac\",\"type\":\"UnionRenderers\"},{\"attributes\":{\"source\":{\"id\":\"26b04cc1-62c3-4c64-a911-f8fd454b8e8f\",\"type\":\"ColumnDataSource\"}},\"id\":\"be1c35d0-ec95-4082-998c-2241f294a450\",\"type\":\"CDSView\"},{\"attributes\":{\"label\":{\"value\":\"CRD\"},\"renderers\":[{\"id\":\"e0af3a29-e2e1-40a8-a0dc-598eb01a4d39\",\"type\":\"GlyphRenderer\"},{\"id\":\"831dbf25-16b4-4277-b9b4-e25527b08dca\",\"type\":\"GlyphRenderer\"}]},\"id\":\"d0dc90a7-ce9c-40c6-a15f-fd42a9a08604\",\"type\":\"LegendItem\"},{\"attributes\":{\"callback\":null,\"data\":{\"x\":{\"__ndarray__\":\"I/ZFULequj9oM21J/h27P5WzvS/rqrs/tOTyRpK/vD/f0N1WlGu9P87ULvMpMr4/Kml4Ad28vj+8pYJBMzG/P2uul1iTVr8/D4ytYJUxvz9xa5wglYa+P/eJ9u3TcL0/2WCvDeCYuz+s5dDG/e24PzJ4bJCYhLc/FN4mD9wMuz/3mDHOzgLBPyipNBYGBcQ/wQFLA/ZCxj/yWuiqOQnIP9zi7jWQKco/kdUSf6L2zT+1cJhIvffQP7kBRyqm8M4/xAAUDZVXxz+5tjMmfMDBPwDPUkOad7w/MvXm5xD0tz81zDsyyue0Pxi8Ab3na7I/oluIgYUOsD9xB7bY49GrP07wqH0IGak/vbrCEVRdpz8fHicENwelP9J8LssPi6I/FIxF8Q2goT/MTWQtQsChP8u9KMtj/aA/KrN/poI8oT9du+LBqtGuPwuA+J7ObsY/o1LqIEdk1T/0DkXhfezfP31guh7AG+U/Z2mD+SYO5j/I4IWqfjbmP/vttOrJQec/DB0RXtS+6D99hs/DPS/qP7jEO3Xnfus/L97GTJRH7D9Z6qN+auzsP3pX0oe5b+0/IBM5AU2c7T8OMuEXjGbtPzjJMXBu+ew/y08jmiGO7T+GfJ94CJLtP+6/nr3v1uw/KMDIvHtq6z8Nrv1U81PpP0dGwa2KqOY/nIFRZxrN4z9UgjpHNQbhP+oca/uzON0/A/QqapdW2T+m1KkxSiLWPyAwowjOG9M/n/73clwN0D+yA5Viq4XKP9JnxAi9acU/KGThgn6RwT8l/OsCwfS9P0fG6+V9jMc/\",\"dtype\":\"float64\",\"shape\":[75]},\"y\":{\"__ndarray__\":\"GhExyth1ND/Sv8nbtpRIP2vylNV0PVE/aTum7souWD/At0SJ8fVgPw3Iuahxymc/MSNhhJWvcD/bTfBN02d3P2zb5nxnaoA/CD5h5MAGhz8NmeH1TyaQP+zrCsc9p5Y/LbKd76fGnz/bLW5ISEmmPww9YvTcQq8/JV2OstnstT8Er5Y7M8G+P0c+r3jqkcU/5h99k6ZBzj88bCIzFzjVP4enV8oyxN0//yH99nXg5D8qOpLLf0jtP5kqGJXUifQ/c9cS8kHP/D+/DpwzojQEQIEmwoanVwxA4lgXt9HgE0BSSZ2AJuIbQAMJih9jjiNA5q4l5INuK0AwTKYKRj0zQNv5fmq8/DpAaCJseHrtQkB/+zpwzoxKQM3MzMzMeFJAZmZmZmZqWEAAAAAAAFxeQM3MzMzMJmJAmpmZmZkfZUBmZmZmZhhoQDMzMzMzEWtAAAAAAAAKbkBmZmZmZoFwQM3MzMzM/XFAMzMzMzN6c0CamZmZmfZ0QAAAAAAAc3ZAZmZmZmbvd0DNzMzMzGt5QDMzMzMz6HpAmpmZmZlkfEAAAAAAAOF9QGZmZmZmXX9AZmZmZuZsgECamZmZGSuBQM3MzMxM6YFAAAAAAICngkAzMzMzs2WDQGZmZmbmI4RAmpmZmRnihEDNzMzMTKCFQAAAAACAXoZAMzMzM7Mch0BmZmZm5tqHQJqZmZkZmYhAzczMzExXiUAAAAAAgBWKQDMzMzOz04pAZmZmZuaRi0CamZmZGVCMQM3MzMxMDo1AAAAAAIDMjUAzMzMzs4qOQGZmZmbmSI9A\",\"dtype\":\"float64\",\"shape\":[75]}},\"selected\":{\"id\":\"6c93f85f-4681-45a8-89a9-80ca4cca66eb\",\"type\":\"Selection\"},\"selection_policy\":{\"id\":\"70b8950a-857c-48a9-a372-2631c893c85e\",\"type\":\"UnionRenderers\"}},\"id\":\"26b04cc1-62c3-4c64-a911-f8fd454b8e8f\",\"type\":\"ColumnDataSource\"},{\"attributes\":{},\"id\":\"a0344ec3-24b2-40dc-bba2-9b9fbbd1fa75\",\"type\":\"Selection\"},{\"attributes\":{\"label\":{\"value\":\"WGT igg=10 wgt_flux=2\"},\"renderers\":[{\"id\":\"af755217-b0ce-429d-839b-db8ff69594b4\",\"type\":\"GlyphRenderer\"},{\"id\":\"1f2c32de-7633-4c55-951f-564b053c8af3\",\"type\":\"GlyphRenderer\"}]},\"id\":\"7d907521-08fd-44da-99ff-8ba0dac1799d\",\"type\":\"LegendItem\"},{\"attributes\":{},\"id\":\"d361000b-dcbe-4793-a728-271665f34354\",\"type\":\"Selection\"},{\"attributes\":{},\"id\":\"24d27a6f-21e9-46f6-9c0b-1dd5d695c128\",\"type\":\"BasicTickFormatter\"},{\"attributes\":{\"line_alpha\":0.1,\"line_color\":\"#1f77b4\",\"line_dash\":[6],\"line_width\":5,\"x\":{\"field\":\"x\"},\"y\":{\"field\":\"y\"}},\"id\":\"838dc341-594d-44d3-8f7b-ba5587cbeef2\",\"type\":\"Line\"},{\"attributes\":{},\"id\":\"6c93f85f-4681-45a8-89a9-80ca4cca66eb\",\"type\":\"Selection\"},{\"attributes\":{\"plot\":{\"id\":\"e56f986b-6c04-45b9-87af-958608a89794\",\"subtype\":\"Figure\",\"type\":\"Plot\"},\"ticker\":{\"id\":\"1ecc6b79-4b71-4b96-bb69-431fd3a6e360\",\"type\":\"BasicTicker\"}},\"id\":\"0d77b521-ff4e-46b6-baf6-d35cc0c6f018\",\"type\":\"Grid\"},{\"attributes\":{},\"id\":\"8198352d-d2f6-4c2a-a8a6-6591feaadcf7\",\"type\":\"UnionRenderers\"},{\"attributes\":{\"active_drag\":\"auto\",\"active_inspect\":\"auto\",\"active_scroll\":\"auto\",\"active_tap\":\"auto\",\"tools\":[{\"id\":\"8b94339c-0816-4edc-88f6-336b893aa82f\",\"type\":\"PanTool\"},{\"id\":\"0eeeaf77-d983-4302-912c-81e9e36f0e88\",\"type\":\"WheelZoomTool\"},{\"id\":\"39f6e125-957e-4738-8655-be23725521e9\",\"type\":\"BoxZoomTool\"},{\"id\":\"6b91931d-28f8-4a4c-96df-b95cbdafcf60\",\"type\":\"SaveTool\"},{\"id\":\"5b1267e4-2337-4113-bbd2-073e49e391d7\",\"type\":\"ResetTool\"},{\"id\":\"48b7ba04-f178-4f6d-b8df-429738f062a6\",\"type\":\"HelpTool\"}]},\"id\":\"9d04e901-6c1d-49c7-86ff-b5f6baff078e\",\"type\":\"Toolbar\"},{\"attributes\":{},\"id\":\"2504bbc8-54e5-4efe-9c06-e5428a0a8671\",\"type\":\"Selection\"},{\"attributes\":{\"active_drag\":\"auto\",\"active_inspect\":\"auto\",\"active_scroll\":\"auto\",\"active_tap\":\"auto\",\"tools\":[{\"id\":\"71ad4683-dc5b-477b-a548-addf38a25f0a\",\"type\":\"PanTool\"},{\"id\":\"f070c1d4-f1ce-4f16-9217-844e83a1344c\",\"type\":\"WheelZoomTool\"},{\"id\":\"1d2d9b2e-800c-4c25-9830-62d7e5550fd7\",\"type\":\"BoxZoomTool\"},{\"id\":\"57479e98-d656-4d7b-a500-fecc657fad9e\",\"type\":\"SaveTool\"},{\"id\":\"53ef57e1-860e-419e-a48d-638af3f09bee\",\"type\":\"ResetTool\"},{\"id\":\"c604ec54-8905-49ab-9872-96ead0fa3469\",\"type\":\"HelpTool\"}]},\"id\":\"1f47bd25-8288-4af3-861e-523f68344d43\",\"type\":\"Toolbar\"},{\"attributes\":{},\"id\":\"8e268139-18f5-4059-87a0-2e3071cf26d8\",\"type\":\"UnionRenderers\"},{\"attributes\":{\"ticker\":null},\"id\":\"27514137-cc43-47c6-ada7-e625d1840762\",\"type\":\"LogTickFormatter\"},{\"attributes\":{},\"id\":\"7244074a-35f5-4cc4-8bf4-80c7b529aa9b\",\"type\":\"Selection\"},{\"attributes\":{\"children\":[{\"id\":\"e13dc97e-cc6d-43d6-9d6b-5d55b0139f06\",\"type\":\"Row\"}]},\"id\":\"7262f20b-1809-4229-85e2-34a5222c0f91\",\"type\":\"Column\"},{\"attributes\":{},\"id\":\"03079753-e9e0-4266-83a4-c7fc27fd6fa4\",\"type\":\"UnionRenderers\"},{\"attributes\":{\"callback\":null,\"end\":0.01,\"start\":1020},\"id\":\"ad68c8d1-b221-4103-9ca7-65ef9f912e4a\",\"type\":\"Range1d\"},{\"attributes\":{},\"id\":\"98d10013-08be-4389-80a7-0ac08e5671e5\",\"type\":\"UnionRenderers\"},{\"attributes\":{\"fill_alpha\":{\"value\":0.1},\"fill_color\":{\"value\":\"#1f77b4\"},\"line_alpha\":{\"value\":0.1},\"line_color\":{\"value\":\"#1f77b4\"},\"x\":{\"field\":\"x\"},\"y\":{\"field\":\"y\"}},\"id\":\"7fca1bff-4ae3-427b-b7b1-54bdbf5917ac\",\"type\":\"Square\"},{\"attributes\":{},\"id\":\"70b8950a-857c-48a9-a372-2631c893c85e\",\"type\":\"UnionRenderers\"},{\"attributes\":{\"callback\":null,\"end\":0.9718324741600001,\"start\":0.023226949839999997},\"id\":\"6b39e83b-d839-406b-9bac-d36062166ada\",\"type\":\"Range1d\"},{\"attributes\":{},\"id\":\"3d188aeb-14db-4d47-856a-15fc1a40b786\",\"type\":\"Selection\"},{\"attributes\":{},\"id\":\"c604ec54-8905-49ab-9872-96ead0fa3469\",\"type\":\"HelpTool\"},{\"attributes\":{\"line_alpha\":0.1,\"line_color\":\"#1f77b4\",\"line_dash\":[6],\"line_width\":5,\"x\":{\"field\":\"x\"},\"y\":{\"field\":\"y\"}},\"id\":\"49a339d3-45b1-4dc3-8634-1fc5a0ede081\",\"type\":\"Line\"},{\"attributes\":{},\"id\":\"fe1fd3f6-5f83-4f1e-af47-446abff4a665\",\"type\":\"BasicTickFormatter\"},{\"attributes\":{},\"id\":\"cbef143b-8fec-4ddd-98cc-bf4dfc69ab75\",\"type\":\"UnionRenderers\"},{\"attributes\":{},\"id\":\"fe4a9a5a-3aee-438b-88ea-82c3059490c3\",\"type\":\"UnionRenderers\"},{\"attributes\":{\"data_source\":{\"id\":\"dedca28a-c94e-4817-9b76-a18ebc5143dd\",\"type\":\"ColumnDataSource\"},\"glyph\":{\"id\":\"9b34c9d1-19cb-4d1e-a053-e848f75c1412\",\"type\":\"Square\"},\"hover_glyph\":null,\"muted_glyph\":null,\"nonselection_glyph\":{\"id\":\"7fca1bff-4ae3-427b-b7b1-54bdbf5917ac\",\"type\":\"Square\"},\"selection_glyph\":null,\"view\":{\"id\":\"868741a8-bd77-4830-8ecd-e73580de96d7\",\"type\":\"CDSView\"}},\"id\":\"af755217-b0ce-429d-839b-db8ff69594b4\",\"type\":\"GlyphRenderer\"},{\"attributes\":{},\"id\":\"4f18dffa-db7b-48c6-8758-e44ca2b1e0a0\",\"type\":\"Selection\"},{\"attributes\":{},\"id\":\"d55bec61-7c01-482b-b613-d7a712cc1f13\",\"type\":\"Selection\"},{\"attributes\":{},\"id\":\"0eeeaf77-d983-4302-912c-81e9e36f0e88\",\"type\":\"WheelZoomTool\"},{\"attributes\":{},\"id\":\"d04c6d7f-3a78-49fc-a313-0b4b29a44ecb\",\"type\":\"Selection\"},{\"attributes\":{\"bottom_units\":\"screen\",\"fill_alpha\":{\"value\":0.5},\"fill_color\":{\"value\":\"lightgrey\"},\"left_units\":\"screen\",\"level\":\"overlay\",\"line_alpha\":{\"value\":1.0},\"line_color\":{\"value\":\"black\"},\"line_dash\":[4,4],\"line_width\":{\"value\":2},\"plot\":null,\"render_mode\":\"css\",\"right_units\":\"screen\",\"top_units\":\"screen\"},\"id\":\"a1e7bfe0-c5cd-464f-b6ab-592da151f091\",\"type\":\"BoxAnnotation\"},{\"attributes\":{},\"id\":\"a130fe1a-65be-4979-a352-ff23e93ae1e1\",\"type\":\"Selection\"},{\"attributes\":{\"fill_alpha\":{\"value\":0.1},\"fill_color\":{\"value\":\"#1f77b4\"},\"line_alpha\":{\"value\":0.1},\"line_color\":{\"value\":\"#1f77b4\"},\"x\":{\"field\":\"x\"},\"y\":{\"field\":\"y\"}},\"id\":\"cb8b20c5-e026-43b5-8b8d-cd26303a0473\",\"type\":\"Circle\"},{\"attributes\":{},\"id\":\"60c98494-cd7d-492b-b591-efd78f53387e\",\"type\":\"UnionRenderers\"},{\"attributes\":{\"toolbar\":{\"id\":\"84dcebd8-6dcd-4d13-8b5a-6597702985af\",\"type\":\"ProxyToolbar\"},\"toolbar_location\":\"above\"},\"id\":\"a46d5fb2-42b0-4f46-b5e2-1bdaf4eb2fcc\",\"type\":\"ToolbarBox\"},{\"attributes\":{},\"id\":\"8b94339c-0816-4edc-88f6-336b893aa82f\",\"type\":\"PanTool\"},{\"attributes\":{\"children\":[{\"id\":\"a46d5fb2-42b0-4f46-b5e2-1bdaf4eb2fcc\",\"type\":\"ToolbarBox\"},{\"id\":\"7262f20b-1809-4229-85e2-34a5222c0f91\",\"type\":\"Column\"}]},\"id\":\"63309ee3-1f81-470b-a5c3-f6311d0139ab\",\"type\":\"Column\"},{\"attributes\":{\"tools\":[{\"id\":\"8b94339c-0816-4edc-88f6-336b893aa82f\",\"type\":\"PanTool\"},{\"id\":\"0eeeaf77-d983-4302-912c-81e9e36f0e88\",\"type\":\"WheelZoomTool\"},{\"id\":\"39f6e125-957e-4738-8655-be23725521e9\",\"type\":\"BoxZoomTool\"},{\"id\":\"6b91931d-28f8-4a4c-96df-b95cbdafcf60\",\"type\":\"SaveTool\"},{\"id\":\"5b1267e4-2337-4113-bbd2-073e49e391d7\",\"type\":\"ResetTool\"},{\"id\":\"48b7ba04-f178-4f6d-b8df-429738f062a6\",\"type\":\"HelpTool\"},{\"id\":\"71ad4683-dc5b-477b-a548-addf38a25f0a\",\"type\":\"PanTool\"},{\"id\":\"f070c1d4-f1ce-4f16-9217-844e83a1344c\",\"type\":\"WheelZoomTool\"},{\"id\":\"1d2d9b2e-800c-4c25-9830-62d7e5550fd7\",\"type\":\"BoxZoomTool\"},{\"id\":\"57479e98-d656-4d7b-a500-fecc657fad9e\",\"type\":\"SaveTool\"},{\"id\":\"53ef57e1-860e-419e-a48d-638af3f09bee\",\"type\":\"ResetTool\"},{\"id\":\"c604ec54-8905-49ab-9872-96ead0fa3469\",\"type\":\"HelpTool\"}]},\"id\":\"84dcebd8-6dcd-4d13-8b5a-6597702985af\",\"type\":\"ProxyToolbar\"},{\"attributes\":{\"callback\":null,\"data\":{\"x\":{\"__ndarray__\":\"I/ZFULequj9oM21J/h27P5WzvS/rqrs/tOTyRpK/vD/f0N1WlGu9P87ULvMpMr4/Kml4Ad28vj+8pYJBMzG/P2uul1iTVr8/D4ytYJUxvz9xa5wglYa+P/eJ9u3TcL0/2WCvDeCYuz+s5dDG/e24PzJ4bJCYhLc/FN4mD9wMuz/3mDHOzgLBPyipNBYGBcQ/wQFLA/ZCxj/yWuiqOQnIP9zi7jWQKco/kdUSf6L2zT+1cJhIvffQP7kBRyqm8M4/xAAUDZVXxz+5tjMmfMDBPwDPUkOad7w/MvXm5xD0tz81zDsyyue0Pxi8Ab3na7I/oluIgYUOsD9xB7bY49GrP07wqH0IGak/vbrCEVRdpz8fHicENwelP9J8LssPi6I/FIxF8Q2goT/MTWQtQsChP8u9KMtj/aA/KrN/poI8oT9du+LBqtGuPwuA+J7ObsY/o1LqIEdk1T/0DkXhfezfP31guh7AG+U/Z2mD+SYO5j/I4IWqfjbmP/vttOrJQec/DB0RXtS+6D99hs/DPS/qP7jEO3Xnfus/L97GTJRH7D9Z6qN+auzsP3pX0oe5b+0/IBM5AU2c7T8OMuEXjGbtPzjJMXBu+ew/y08jmiGO7T+GfJ94CJLtP+6/nr3v1uw/KMDIvHtq6z8Nrv1U81PpP0dGwa2KqOY/nIFRZxrN4z9UgjpHNQbhP+oca/uzON0/A/QqapdW2T+m1KkxSiLWPyAwowjOG9M/n/73clwN0D+yA5Viq4XKP9JnxAi9acU/KGThgn6RwT8l/OsCwfS9P0fG6+V9jMc/\",\"dtype\":\"float64\",\"shape\":[75]},\"y\":{\"__ndarray__\":\"GhExyth1ND/Sv8nbtpRIP2vylNV0PVE/aTum7souWD/At0SJ8fVgPw3Iuahxymc/MSNhhJWvcD/bTfBN02d3P2zb5nxnaoA/CD5h5MAGhz8NmeH1TyaQP+zrCsc9p5Y/LbKd76fGnz/bLW5ISEmmPww9YvTcQq8/JV2OstnstT8Er5Y7M8G+P0c+r3jqkcU/5h99k6ZBzj88bCIzFzjVP4enV8oyxN0//yH99nXg5D8qOpLLf0jtP5kqGJXUifQ/c9cS8kHP/D+/DpwzojQEQIEmwoanVwxA4lgXt9HgE0BSSZ2AJuIbQAMJih9jjiNA5q4l5INuK0AwTKYKRj0zQNv5fmq8/DpAaCJseHrtQkB/+zpwzoxKQM3MzMzMeFJAZmZmZmZqWEAAAAAAAFxeQM3MzMzMJmJAmpmZmZkfZUBmZmZmZhhoQDMzMzMzEWtAAAAAAAAKbkBmZmZmZoFwQM3MzMzM/XFAMzMzMzN6c0CamZmZmfZ0QAAAAAAAc3ZAZmZmZmbvd0DNzMzMzGt5QDMzMzMz6HpAmpmZmZlkfEAAAAAAAOF9QGZmZmZmXX9AZmZmZuZsgECamZmZGSuBQM3MzMxM6YFAAAAAAICngkAzMzMzs2WDQGZmZmbmI4RAmpmZmRnihEDNzMzMTKCFQAAAAACAXoZAMzMzM7Mch0BmZmZm5tqHQJqZmZkZmYhAzczMzExXiUAAAAAAgBWKQDMzMzOz04pAZmZmZuaRi0CamZmZGVCMQM3MzMxMDo1AAAAAAIDMjUAzMzMzs4qOQGZmZmbmSI9A\",\"dtype\":\"float64\",\"shape\":[75]}},\"selected\":{\"id\":\"2504bbc8-54e5-4efe-9c06-e5428a0a8671\",\"type\":\"Selection\"},\"selection_policy\":{\"id\":\"03079753-e9e0-4266-83a4-c7fc27fd6fa4\",\"type\":\"UnionRenderers\"}},\"id\":\"ef2072fa-18c3-4774-8c08-6f159e173a33\",\"type\":\"ColumnDataSource\"},{\"attributes\":{\"line_color\":\"#4daf4a\",\"line_width\":1.5,\"x\":{\"field\":\"x\"},\"y\":{\"field\":\"y\"}},\"id\":\"0f8e061e-3c91-4036-bd1f-bb3c9b829cba\",\"type\":\"Line\"},{\"attributes\":{},\"id\":\"48b7ba04-f178-4f6d-b8df-429738f062a6\",\"type\":\"HelpTool\"},{\"attributes\":{},\"id\":\"6b91931d-28f8-4a4c-96df-b95cbdafcf60\",\"type\":\"SaveTool\"},{\"attributes\":{\"dimension\":1,\"plot\":{\"id\":\"e56f986b-6c04-45b9-87af-958608a89794\",\"subtype\":\"Figure\",\"type\":\"Plot\"},\"ticker\":{\"id\":\"bc1c6dcd-31b8-43eb-ade5-872cf42e65bf\",\"type\":\"BasicTicker\"}},\"id\":\"ca987fd4-c82d-4d33-aa89-11e1656f04fe\",\"type\":\"Grid\"},{\"attributes\":{\"line_alpha\":0.1,\"line_color\":\"#1f77b4\",\"line_width\":1.5,\"x\":{\"field\":\"x\"},\"y\":{\"field\":\"y\"}},\"id\":\"3a3e2095-4263-4e34-8536-1fc3e7ee6dd6\",\"type\":\"Line\"},{\"attributes\":{\"overlay\":{\"id\":\"a1e7bfe0-c5cd-464f-b6ab-592da151f091\",\"type\":\"BoxAnnotation\"}},\"id\":\"39f6e125-957e-4738-8655-be23725521e9\",\"type\":\"BoxZoomTool\"},{\"attributes\":{\"source\":{\"id\":\"ef2072fa-18c3-4774-8c08-6f159e173a33\",\"type\":\"ColumnDataSource\"}},\"id\":\"bcd7bc21-55a2-4007-9e64-6de09bd890c4\",\"type\":\"CDSView\"},{\"attributes\":{},\"id\":\"5b1267e4-2337-4113-bbd2-073e49e391d7\",\"type\":\"ResetTool\"},{\"attributes\":{\"data_source\":{\"id\":\"ef2072fa-18c3-4774-8c08-6f159e173a33\",\"type\":\"ColumnDataSource\"},\"glyph\":{\"id\":\"4f63f953-abb8-4289-abc5-3a44f6f4f42e\",\"type\":\"Square\"},\"hover_glyph\":null,\"muted_glyph\":null,\"nonselection_glyph\":{\"id\":\"e95c7168-be93-4818-b806-9f45928d3d31\",\"type\":\"Square\"},\"selection_glyph\":null,\"view\":{\"id\":\"bcd7bc21-55a2-4007-9e64-6de09bd890c4\",\"type\":\"CDSView\"}},\"id\":\"1a2f601c-abbb-43ad-a3ed-3aa1cdf1bd8b\",\"type\":\"GlyphRenderer\"},{\"attributes\":{\"callback\":null,\"data\":{\"x\":{\"__ndarray__\":\"/0BWQyS7sz/ry8BrEf2zP7/Fn7WW2rQ/2P6Eac6wtT/Yt/trZYG2P4yqaVvwSbc/SW7JgYkFuD9840jAGKy4PxQbIXPNM7k/0HtjCACOuT9YCQ4W66e5P+TUmT7lX7k/6tlibUKQuD9iYW//HRO3P27cymHjubY/lvncQ6Hpuj/AV9cV8SXBP9d1HP03SMQ/BFpXWLJbxj99BpJ/f63HP+DnS7GbgMk/mUz0fWHHzT8JaGSISkDRP172DF1gwc8/8VUClEzvxz+4NKdgx97BPwdcV8wIb7w/Ki1MdNAEuD8NluwDiSC1P4G1sawQY7I/qVsxtB7krz/O3kxe+h2sP9XLVxgOw6k/qctpHNiUpz+mquqUMJukP0v+XylWA6I/s2X+c8ZnoT96VLrDP8+hPyiJ21fUFqE/zRDJu+NHoT/LAuGbinquP4hDPgF3zcU/kYveZ2Qp1D8ybJxm5ODdP40VLSc+CuQ/57Koug1r5D//X1TWX2TkP+ZUtjj4/OU/4Clog+HW5z8a5dNCTT3pP38iw+jBluo/awTJ2Fy36z9B3TgQL9vsP6JZXXeIue0/r5MbwZ0W7j8++tMEWejtP8KePE3ig+0/T5cgfllV7j/sqyfKEM3uP9YeF1Hqne4/dlePXoGG7T+UcDosgVLrPwuL3YDHPug/Jmh6JofR5D9JOyRrw5fhPxGMYj3e+d0/ra/Hp3Qu2j/CM18tkEPXP1J9KTT3bdQ/7AXRICZd0T8ep4Uec5bMPwXDNU51Dsc/Cg1p+SZywj92UKr5AXq+PykdUUYBR8c/\",\"dtype\":\"float64\",\"shape\":[75]},\"y\":{\"__ndarray__\":\"S/O/Q+51ND/Sv8nbtpRIP2vylNV0PVE/aTum7souWD/At0SJ8fVgPw3Iuahxymc/MSNhhJWvcD/bTfBN02d3P2zb5nxnaoA/CD5h5MAGhz8NmeH1TyaQP+zrCsc9p5Y/LbKd76fGnz/bLW5ISEmmPww9YvTcQq8/JV2OstnstT8Er5Y7M8G+P0c+r3jqkcU/5h99k6ZBzj88bCIzFzjVP4enV8oyxN0//yH99nXg5D8qOpLLf0jtP5kqGJXUifQ/c9cS8kHP/D+/DpwzojQEQIEmwoanVwxA4lgXt9HgE0BSSZ2AJuIbQAMJih9jjiNA5q4l5INuK0AwTKYKRj0zQNv5fmq8/DpAaCJseHrtQkB/+zpwzoxKQM3MzMzMeFJAZmZmZmZqWEAAAAAAAFxeQM3MzMzMJmJAmpmZmZkfZUBmZmZmZhhoQDMzMzMzEWtAAAAAAAAKbkBmZmZmZoFwQM3MzMzM/XFAMzMzMzN6c0CamZmZmfZ0QAAAAAAAc3ZAZmZmZmbvd0DNzMzMzGt5QDMzMzMz6HpAmpmZmZlkfEAAAAAAAOF9QGZmZmZmXX9AZmZmZuZsgECamZmZGSuBQM3MzMxM6YFAAAAAAICngkAzMzMzs2WDQGZmZmbmI4RAmpmZmRnihEDNzMzMTKCFQAAAAACAXoZAMzMzM7Mch0BmZmZm5tqHQJqZmZkZmYhAzczMzExXiUAAAAAAgBWKQDMzMzOz04pAZmZmZuaRi0CamZmZGVCMQM3MzMxMDo1AAAAAAIDMjUAzMzMzs4qOQGZmZmbmSI9A\",\"dtype\":\"float64\",\"shape\":[75]}},\"selected\":{\"id\":\"d361000b-dcbe-4793-a728-271665f34354\",\"type\":\"Selection\"},\"selection_policy\":{\"id\":\"04aa226d-61ff-46ea-a9a9-bfbc2f5e2aac\",\"type\":\"UnionRenderers\"}},\"id\":\"a750b7ae-4457-4012-b351-9b592fb4553f\",\"type\":\"ColumnDataSource\"},{\"attributes\":{\"fill_alpha\":{\"value\":0.7},\"fill_color\":{\"value\":\"#984ea3\"},\"line_alpha\":{\"value\":0.7},\"line_color\":{\"value\":\"#984ea3\"},\"x\":{\"field\":\"x\"},\"y\":{\"field\":\"y\"}},\"id\":\"4f63f953-abb8-4289-abc5-3a44f6f4f42e\",\"type\":\"Square\"},{\"attributes\":{\"data_source\":{\"id\":\"97c55187-2b40-4d9f-b567-0165955ea4ff\",\"type\":\"ColumnDataSource\"},\"glyph\":{\"id\":\"0f8e061e-3c91-4036-bd1f-bb3c9b829cba\",\"type\":\"Line\"},\"hover_glyph\":null,\"muted_glyph\":null,\"nonselection_glyph\":{\"id\":\"3a3e2095-4263-4e34-8536-1fc3e7ee6dd6\",\"type\":\"Line\"},\"selection_glyph\":null,\"view\":{\"id\":\"cdd80e7c-3b22-4f7e-87bb-83a852754d2d\",\"type\":\"CDSView\"}},\"id\":\"04990114-7880-408c-9a57-c9a0d948cb5d\",\"type\":\"GlyphRenderer\"},{\"attributes\":{\"source\":{\"id\":\"a750b7ae-4457-4012-b351-9b592fb4553f\",\"type\":\"ColumnDataSource\"}},\"id\":\"952c8172-31e1-447a-8d52-bfeeb62d79f5\",\"type\":\"CDSView\"},{\"attributes\":{\"callback\":null,\"data\":{\"x\":{\"__ndarray__\":\"15tBEcVDwz8BuWnYlFDDP3WyUEIbxsM/Y54yiiczxD9ukKT/QJTEP7mIMeF+3cQ/UYSz3wMJxT9kfPN23wzFP+BXeqfh38Q//tWhogN1xD9tpd/Xq7zDP3NiMPtMqMI/n4hNfYMjwT/dfW2BLUS+Px8MnyHalrs/lQyEjYBEvj/ciYofAETCP5xHzXBm6MQ/eHPAx8Pvxj91gcPyhLHIPytO1iRPxMo/WovkZSwezj8Vwg9z7pvQP25LBZEcm80/46WbxCAwxj8Urf0ZtS3BP4+K/zuiQrw/umBIBVA3uD+DcPjp52m1P5MZHuS9NrM/w49QhOsJsT9PI6lcE5itP54MgWhVZ6o/M1va8o+TqD8qUlyzZ1+mP4pzrgrPqaM/XS6CyQQxoj+c84vGZdKhP+VElUOGs6A/1G7VJGGnoD/o3qIX3nqtP5x4veq3ZcU/sZnwCeHq1D/kGbC7qwTgP9yxAaZGJ+U/VSGS36pE5j/rwpMGTLrmP+UHER3Aquc/dYob2Kbo6D8b+M3UVlLqP7RycUz9ues/fWw/18Zx7D/UIqoJBdnsP8Ig4WLiIu0/4kvybQtA7T8O1sWOQintP/IQndCx5Ow/Sy4QTlWL7T8e4VG2inbtPxdPVm+Bguw/wF+riMPn6j9gqtvR5tXoPxmNIaV+g+Y/GJOjpZcd5D+6qy4SoMfhP/gcWI6QQd8/wq6apWxq2z+XeaM9+93XP/OIuNZqUdQ/c7+/GPzD0D8kljkCXSDLP1SU6Lhc9cU/mYrHJKcfwj/fiDB2qa6/P1bl75w1kcg/\",\"dtype\":\"float64\",\"shape\":[75]},\"y\":{\"__ndarray__\":\"GhExyth1ND/Sv8nbtpRIP2vylNV0PVE/aTum7souWD/At0SJ8fVgPw3Iuahxymc/MSNhhJWvcD/bTfBN02d3P2zb5nxnaoA/CD5h5MAGhz8NmeH1TyaQP+zrCsc9p5Y/LbKd76fGnz/bLW5ISEmmPww9YvTcQq8/JV2OstnstT8Er5Y7M8G+P0c+r3jqkcU/5h99k6ZBzj88bCIzFzjVP4enV8oyxN0//yH99nXg5D8qOpLLf0jtP5kqGJXUifQ/c9cS8kHP/D+/DpwzojQEQIEmwoanVwxA4lgXt9HgE0BSSZ2AJuIbQAMJih9jjiNA5q4l5INuK0AwTKYKRj0zQNv5fmq8/DpAaCJseHrtQkB/+zpwzoxKQM3MzMzMeFJAZmZmZmZqWEAAAAAAAFxeQM3MzMzMJmJAmpmZmZkfZUBmZmZmZhhoQDMzMzMzEWtAAAAAAAAKbkBmZmZmZoFwQM3MzMzM/XFAMzMzMzN6c0CamZmZmfZ0QAAAAAAAc3ZAZmZmZmbvd0DNzMzMzGt5QDMzMzMz6HpAmpmZmZlkfEAAAAAAAOF9QGZmZmZmXX9AZmZmZuZsgECamZmZGSuBQM3MzMxM6YFAAAAAAICngkAzMzMzs2WDQGZmZmbmI4RAmpmZmRnihEDNzMzMTKCFQAAAAACAXoZAMzMzM7Mch0BmZmZm5tqHQJqZmZkZmYhAzczMzExXiUAAAAAAgBWKQDMzMzOz04pAZmZmZuaRi0CamZmZGVCMQM3MzMxMDo1AAAAAAIDMjUAzMzMzs4qOQGZmZmbmSI9A\",\"dtype\":\"float64\",\"shape\":[75]}},\"selected\":{\"id\":\"7244074a-35f5-4cc4-8bf4-80c7b529aa9b\",\"type\":\"Selection\"},\"selection_policy\":{\"id\":\"04b13600-f3d4-4791-9285-399fc5293882\",\"type\":\"UnionRenderers\"}},\"id\":\"97c55187-2b40-4d9f-b567-0165955ea4ff\",\"type\":\"ColumnDataSource\"},{\"attributes\":{\"source\":{\"id\":\"784bf420-ee59-4f1a-ac08-bca4d6c487c8\",\"type\":\"ColumnDataSource\"}},\"id\":\"3cc357c0-5b7e-4303-9f2e-709bc735b4f9\",\"type\":\"CDSView\"},{\"attributes\":{\"data_source\":{\"id\":\"784bf420-ee59-4f1a-ac08-bca4d6c487c8\",\"type\":\"ColumnDataSource\"},\"glyph\":{\"id\":\"6b6dc357-d0ea-447e-9419-45826745c24f\",\"type\":\"Circle\"},\"hover_glyph\":null,\"muted_glyph\":null,\"nonselection_glyph\":{\"id\":\"cb8b20c5-e026-43b5-8b8d-cd26303a0473\",\"type\":\"Circle\"},\"selection_glyph\":null,\"view\":{\"id\":\"3cc357c0-5b7e-4303-9f2e-709bc735b4f9\",\"type\":\"CDSView\"}},\"id\":\"9dd02da4-b987-473e-821f-bea7153c20c0\",\"type\":\"GlyphRenderer\"},{\"attributes\":{\"source\":{\"id\":\"97c55187-2b40-4d9f-b567-0165955ea4ff\",\"type\":\"ColumnDataSource\"}},\"id\":\"cdd80e7c-3b22-4f7e-87bb-83a852754d2d\",\"type\":\"CDSView\"},{\"attributes\":{\"fill_alpha\":{\"value\":0.7},\"fill_color\":{\"value\":\"#4daf4a\"},\"line_alpha\":{\"value\":0.7},\"line_color\":{\"value\":\"#4daf4a\"},\"x\":{\"field\":\"x\"},\"y\":{\"field\":\"y\"}},\"id\":\"6b6dc357-d0ea-447e-9419-45826745c24f\",\"type\":\"Circle\"},{\"attributes\":{\"data_source\":{\"id\":\"a750b7ae-4457-4012-b351-9b592fb4553f\",\"type\":\"ColumnDataSource\"},\"glyph\":{\"id\":\"0abe5c13-a476-4377-b80f-e666e35f57cb\",\"type\":\"Line\"},\"hover_glyph\":null,\"muted_glyph\":null,\"nonselection_glyph\":{\"id\":\"49a339d3-45b1-4dc3-8634-1fc5a0ede081\",\"type\":\"Line\"},\"selection_glyph\":null,\"view\":{\"id\":\"952c8172-31e1-447a-8d52-bfeeb62d79f5\",\"type\":\"CDSView\"}},\"id\":\"e1571559-32bf-4f10-b71d-136532d5f9fc\",\"type\":\"GlyphRenderer\"},{\"attributes\":{\"plot\":null,\"text\":\"Log pressure scale\"},\"id\":\"4c55f306-a12c-4aba-8f0d-e4828fb4c771\",\"type\":\"Title\"}],\"root_ids\":[\"63309ee3-1f81-470b-a5c3-f6311d0139ab\"]},\"title\":\"Bokeh Application\",\"version\":\"0.12.16\"}};\n",
       "  var render_items = [{\"docid\":\"6b76d55a-a200-4fe8-9324-e80a859de77e\",\"elementid\":\"872071be-48ee-4f96-b555-98e48bb03b7f\",\"modelid\":\"63309ee3-1f81-470b-a5c3-f6311d0139ab\"}];\n",
       "  root.Bokeh.embed.embed_items_notebook(docs_json, render_items);\n",
       "\n",
       "  }\n",
       "  if (root.Bokeh !== undefined) {\n",
       "    embed_document(root);\n",
       "  } else {\n",
       "    var attempts = 0;\n",
       "    var timer = setInterval(function(root) {\n",
       "      if (root.Bokeh !== undefined) {\n",
       "        embed_document(root);\n",
       "        clearInterval(timer);\n",
       "      }\n",
       "      attempts++;\n",
       "      if (attempts > 100) {\n",
       "        console.log(\"Bokeh: ERROR: Unable to run BokehJS code because BokehJS library is missing\")\n",
       "        clearInterval(timer);\n",
       "      }\n",
       "    }, 10, root)\n",
       "  }\n",
       "})(window);"
      ],
      "application/vnd.bokehjs_exec.v0+json": ""
     },
     "metadata": {
      "application/vnd.bokehjs_exec.v0+json": {
       "id": "63309ee3-1f81-470b-a5c3-f6311d0139ab"
      }
     },
     "output_type": "display_data"
    },
    {
     "name": "stdout",
     "output_type": "stream",
     "text": [
      "FIGURE. Cooling rate profiles.\n"
     ]
    },
    {
     "data": {
      "text/html": [
       "<a id=\"Flux_Comparison\"></a>"
      ],
      "text/plain": [
       "<IPython.core.display.HTML object>"
      ]
     },
     "metadata": {},
     "output_type": "display_data"
    },
    {
     "data": {
      "text/markdown": [
       "# Flux Comparison"
      ],
      "text/plain": [
       "<IPython.core.display.Markdown object>"
      ]
     },
     "metadata": {},
     "output_type": "display_data"
    },
    {
     "data": {
      "text/html": [
       "<div>\n",
       "<style scoped>\n",
       "    .dataframe tbody tr th:only-of-type {\n",
       "        vertical-align: middle;\n",
       "    }\n",
       "\n",
       "    .dataframe tbody tr th {\n",
       "        vertical-align: top;\n",
       "    }\n",
       "\n",
       "    .dataframe thead th {\n",
       "        text-align: right;\n",
       "    }\n",
       "</style>\n",
       "<table border=\"1\" class=\"dataframe\">\n",
       "  <thead>\n",
       "    <tr style=\"text-align: right;\">\n",
       "      <th></th>\n",
       "      <th></th>\n",
       "      <th>flug</th>\n",
       "      <th>fldg</th>\n",
       "      <th>fnetg</th>\n",
       "    </tr>\n",
       "    <tr>\n",
       "      <th>pressure</th>\n",
       "      <th>level</th>\n",
       "      <th></th>\n",
       "      <th></th>\n",
       "      <th></th>\n",
       "    </tr>\n",
       "  </thead>\n",
       "  <tbody>\n",
       "    <tr>\n",
       "      <th>0.0000</th>\n",
       "      <th>1</th>\n",
       "      <td>-60.366689</td>\n",
       "      <td>0.00000</td>\n",
       "      <td>-60.366689</td>\n",
       "    </tr>\n",
       "    <tr>\n",
       "      <th>1.0685</th>\n",
       "      <th>24</th>\n",
       "      <td>-60.369588</td>\n",
       "      <td>0.02979</td>\n",
       "      <td>-60.339797</td>\n",
       "    </tr>\n",
       "    <tr>\n",
       "      <th>1013.0000</th>\n",
       "      <th>76</th>\n",
       "      <td>-82.315795</td>\n",
       "      <td>81.20149</td>\n",
       "      <td>-1.114304</td>\n",
       "    </tr>\n",
       "  </tbody>\n",
       "</table>\n",
       "</div>"
      ],
      "text/plain": [
       "                      flug      fldg      fnetg\n",
       "pressure  level                                \n",
       "0.0000    1     -60.366689   0.00000 -60.366689\n",
       "1.0685    24    -60.369588   0.02979 -60.339797\n",
       "1013.0000 76    -82.315795  81.20149  -1.114304"
      ]
     },
     "metadata": {},
     "output_type": "display_data"
    },
    {
     "name": "stdout",
     "output_type": "stream",
     "text": [
      "Table. Fluxes. CRD\n"
     ]
    },
    {
     "data": {
      "text/html": [
       "<div>\n",
       "<style scoped>\n",
       "    .dataframe tbody tr th:only-of-type {\n",
       "        vertical-align: middle;\n",
       "    }\n",
       "\n",
       "    .dataframe tbody tr th {\n",
       "        vertical-align: top;\n",
       "    }\n",
       "\n",
       "    .dataframe thead th {\n",
       "        text-align: right;\n",
       "    }\n",
       "</style>\n",
       "<table border=\"1\" class=\"dataframe\">\n",
       "  <thead>\n",
       "    <tr style=\"text-align: right;\">\n",
       "      <th></th>\n",
       "      <th></th>\n",
       "      <th>flug</th>\n",
       "      <th>fldg</th>\n",
       "      <th>fnetg</th>\n",
       "    </tr>\n",
       "    <tr>\n",
       "      <th>pressure</th>\n",
       "      <th>level</th>\n",
       "      <th></th>\n",
       "      <th></th>\n",
       "      <th></th>\n",
       "    </tr>\n",
       "  </thead>\n",
       "  <tbody>\n",
       "    <tr>\n",
       "      <th>0.0000</th>\n",
       "      <th>1</th>\n",
       "      <td>-59.653067</td>\n",
       "      <td>0.000000</td>\n",
       "      <td>-59.653067</td>\n",
       "    </tr>\n",
       "    <tr>\n",
       "      <th>1.0685</th>\n",
       "      <th>24</th>\n",
       "      <td>-59.655944</td>\n",
       "      <td>0.029380</td>\n",
       "      <td>-59.626565</td>\n",
       "    </tr>\n",
       "    <tr>\n",
       "      <th>1013.0000</th>\n",
       "      <th>76</th>\n",
       "      <td>-82.315794</td>\n",
       "      <td>81.492303</td>\n",
       "      <td>-0.823492</td>\n",
       "    </tr>\n",
       "  </tbody>\n",
       "</table>\n",
       "</div>"
      ],
      "text/plain": [
       "                      flug       fldg      fnetg\n",
       "pressure  level                                 \n",
       "0.0000    1     -59.653067   0.000000 -59.653067\n",
       "1.0685    24    -59.655944   0.029380 -59.626565\n",
       "1013.0000 76    -82.315794  81.492303  -0.823492"
      ]
     },
     "metadata": {},
     "output_type": "display_data"
    },
    {
     "name": "stdout",
     "output_type": "stream",
     "text": [
      "Table. Fluxes. WGT igg=10 wgt_flux=1\n"
     ]
    },
    {
     "data": {
      "text/html": [
       "<div>\n",
       "<style scoped>\n",
       "    .dataframe tbody tr th:only-of-type {\n",
       "        vertical-align: middle;\n",
       "    }\n",
       "\n",
       "    .dataframe tbody tr th {\n",
       "        vertical-align: top;\n",
       "    }\n",
       "\n",
       "    .dataframe thead th {\n",
       "        text-align: right;\n",
       "    }\n",
       "</style>\n",
       "<table border=\"1\" class=\"dataframe\">\n",
       "  <thead>\n",
       "    <tr style=\"text-align: right;\">\n",
       "      <th></th>\n",
       "      <th></th>\n",
       "      <th>flug</th>\n",
       "      <th>fldg</th>\n",
       "      <th>fnetg</th>\n",
       "    </tr>\n",
       "    <tr>\n",
       "      <th>pressure</th>\n",
       "      <th>level</th>\n",
       "      <th></th>\n",
       "      <th></th>\n",
       "      <th></th>\n",
       "    </tr>\n",
       "  </thead>\n",
       "  <tbody>\n",
       "    <tr>\n",
       "      <th>1.000000e-08</th>\n",
       "      <th>1</th>\n",
       "      <td>-60.075015</td>\n",
       "      <td>0.000002</td>\n",
       "      <td>-60.075013</td>\n",
       "    </tr>\n",
       "    <tr>\n",
       "      <th>1.068500e+00</th>\n",
       "      <th>24</th>\n",
       "      <td>-60.077703</td>\n",
       "      <td>0.029112</td>\n",
       "      <td>-60.048591</td>\n",
       "    </tr>\n",
       "    <tr>\n",
       "      <th>1.013000e+03</th>\n",
       "      <th>76</th>\n",
       "      <td>-82.315790</td>\n",
       "      <td>81.576550</td>\n",
       "      <td>-0.739240</td>\n",
       "    </tr>\n",
       "  </tbody>\n",
       "</table>\n",
       "</div>"
      ],
      "text/plain": [
       "                         flug       fldg      fnetg\n",
       "pressure     level                                 \n",
       "1.000000e-08 1     -60.075015   0.000002 -60.075013\n",
       "1.068500e+00 24    -60.077703   0.029112 -60.048591\n",
       "1.013000e+03 76    -82.315790  81.576550  -0.739240"
      ]
     },
     "metadata": {},
     "output_type": "display_data"
    },
    {
     "name": "stdout",
     "output_type": "stream",
     "text": [
      "Table. Fluxes. CLIRAD\n"
     ]
    },
    {
     "data": {
      "text/html": [
       "<div>\n",
       "<style scoped>\n",
       "    .dataframe tbody tr th:only-of-type {\n",
       "        vertical-align: middle;\n",
       "    }\n",
       "\n",
       "    .dataframe tbody tr th {\n",
       "        vertical-align: top;\n",
       "    }\n",
       "\n",
       "    .dataframe thead th {\n",
       "        text-align: right;\n",
       "    }\n",
       "</style>\n",
       "<table border=\"1\" class=\"dataframe\">\n",
       "  <thead>\n",
       "    <tr style=\"text-align: right;\">\n",
       "      <th></th>\n",
       "      <th></th>\n",
       "      <th>flug</th>\n",
       "      <th>fldg</th>\n",
       "      <th>fnetg</th>\n",
       "    </tr>\n",
       "    <tr>\n",
       "      <th>pressure</th>\n",
       "      <th>level</th>\n",
       "      <th></th>\n",
       "      <th></th>\n",
       "      <th></th>\n",
       "    </tr>\n",
       "  </thead>\n",
       "  <tbody>\n",
       "    <tr>\n",
       "      <th>0.0000</th>\n",
       "      <th>1</th>\n",
       "      <td>7.136222e-01</td>\n",
       "      <td>0.000000</td>\n",
       "      <td>0.713622</td>\n",
       "    </tr>\n",
       "    <tr>\n",
       "      <th>1.0685</th>\n",
       "      <th>24</th>\n",
       "      <td>7.136436e-01</td>\n",
       "      <td>-0.000410</td>\n",
       "      <td>0.713232</td>\n",
       "    </tr>\n",
       "    <tr>\n",
       "      <th>1013.0000</th>\n",
       "      <th>76</th>\n",
       "      <td>7.206000e-07</td>\n",
       "      <td>0.290813</td>\n",
       "      <td>0.290812</td>\n",
       "    </tr>\n",
       "  </tbody>\n",
       "</table>\n",
       "</div>"
      ],
      "text/plain": [
       "                         flug      fldg     fnetg\n",
       "pressure  level                                  \n",
       "0.0000    1      7.136222e-01  0.000000  0.713622\n",
       "1.0685    24     7.136436e-01 -0.000410  0.713232\n",
       "1013.0000 76     7.206000e-07  0.290813  0.290812"
      ]
     },
     "metadata": {},
     "output_type": "display_data"
    },
    {
     "name": "stdout",
     "output_type": "stream",
     "text": [
      "Table. Fluxes. (WGT igg=10 wgt_flux=1) - (CRD)\n"
     ]
    },
    {
     "data": {
      "text/html": [
       "<div>\n",
       "<style scoped>\n",
       "    .dataframe tbody tr th:only-of-type {\n",
       "        vertical-align: middle;\n",
       "    }\n",
       "\n",
       "    .dataframe tbody tr th {\n",
       "        vertical-align: top;\n",
       "    }\n",
       "\n",
       "    .dataframe thead th {\n",
       "        text-align: right;\n",
       "    }\n",
       "</style>\n",
       "<table border=\"1\" class=\"dataframe\">\n",
       "  <thead>\n",
       "    <tr style=\"text-align: right;\">\n",
       "      <th></th>\n",
       "      <th></th>\n",
       "      <th>flug</th>\n",
       "      <th>fldg</th>\n",
       "      <th>fnetg</th>\n",
       "    </tr>\n",
       "    <tr>\n",
       "      <th>pressure</th>\n",
       "      <th>level</th>\n",
       "      <th></th>\n",
       "      <th></th>\n",
       "      <th></th>\n",
       "    </tr>\n",
       "  </thead>\n",
       "  <tbody>\n",
       "    <tr>\n",
       "      <th>0.0000</th>\n",
       "      <th>1</th>\n",
       "      <td>0.291674</td>\n",
       "      <td>0.000002</td>\n",
       "      <td>0.291676</td>\n",
       "    </tr>\n",
       "    <tr>\n",
       "      <th>1.0685</th>\n",
       "      <th>24</th>\n",
       "      <td>0.291885</td>\n",
       "      <td>-0.000678</td>\n",
       "      <td>0.291206</td>\n",
       "    </tr>\n",
       "    <tr>\n",
       "      <th>1013.0000</th>\n",
       "      <th>76</th>\n",
       "      <td>0.000005</td>\n",
       "      <td>0.375060</td>\n",
       "      <td>0.375064</td>\n",
       "    </tr>\n",
       "  </tbody>\n",
       "</table>\n",
       "</div>"
      ],
      "text/plain": [
       "                     flug      fldg     fnetg\n",
       "pressure  level                              \n",
       "0.0000    1      0.291674  0.000002  0.291676\n",
       "1.0685    24     0.291885 -0.000678  0.291206\n",
       "1013.0000 76     0.000005  0.375060  0.375064"
      ]
     },
     "metadata": {},
     "output_type": "display_data"
    },
    {
     "name": "stdout",
     "output_type": "stream",
     "text": [
      "Table. Fluxes. (CLIRAD) - (CRD)\n"
     ]
    },
    {
     "data": {
      "text/html": [
       "<a id=\"Best-fit_Parameters\"></a>"
      ],
      "text/plain": [
       "<IPython.core.display.HTML object>"
      ]
     },
     "metadata": {},
     "output_type": "display_data"
    },
    {
     "data": {
      "text/markdown": [
       "# Best-fit Parameters"
      ],
      "text/plain": [
       "<IPython.core.display.Markdown object>"
      ]
     },
     "metadata": {},
     "output_type": "display_data"
    },
    {
     "name": "stdout",
     "output_type": "stream",
     "text": [
      "Best-fit values for each (gas, band)\n",
      "------------------------------------\n",
      "o h2o band2\n",
      "  atmpro = mls\n",
      "  band = 2\n",
      "  commitnumber = a06b618\n",
      "  conc = None\n",
      "  dv = 0.001\n",
      "  klin = 0\n",
      "  molecule = h2o\n",
      "  ng_adju = [-2, -2, 0]\n",
      "  ng_refs = [2, 3, 6]\n",
      "  nv = 1000\n",
      "  option_compute_btable = 0\n",
      "  option_compute_ktable = 1\n",
      "  option_wgt_flux = 1\n",
      "  option_wgt_k = 1\n",
      "  ref_pts = [(1, 250), (10, 250), (500, 250)]\n",
      "  tsfc = 294\n",
      "  vmax = 540\n",
      "  vmin = 340\n",
      "  w_diffuse = [(1.66, 1.66), (1.8, 1.8, 1.8), (1.8, 1.66, 1.45, 1.45, 1.45, 1.45)]\n",
      "  wgt = [(0.6, 0.6), (0.6, 0.6, 0.6), (0.6, 0.6, 0.6, 0.6, 0.6, 0.6)]\n"
     ]
    }
   ],
   "source": [
    "script()"
   ]
  },
  {
   "cell_type": "code",
   "execution_count": 13,
   "metadata": {
    "collapsed": true
   },
   "outputs": [
    {
     "data": {
      "text/html": [
       "<script>\n",
       "code_show=true; \n",
       "function code_toggle() {\n",
       " if (code_show){\n",
       " $('div.input').hide();\n",
       " } else {\n",
       " $('div.input').show();\n",
       " }\n",
       " code_show = !code_show\n",
       "} \n",
       "$( document ).ready(code_toggle);\n",
       "</script>\n",
       "<form action=\"javascript:code_toggle()\"><input type=\"submit\" value=\"Click here to toggle on/off the raw code.\"></form>"
      ],
      "text/plain": [
       "<IPython.core.display.HTML object>"
      ]
     },
     "execution_count": 13,
     "metadata": {},
     "output_type": "execute_result"
    }
   ],
   "source": [
    "display.HTML('''<script>\n",
    "code_show=true; \n",
    "function code_toggle() {\n",
    " if (code_show){\n",
    " $('div.input').hide();\n",
    " } else {\n",
    " $('div.input').show();\n",
    " }\n",
    " code_show = !code_show\n",
    "} \n",
    "$( document ).ready(code_toggle);\n",
    "</script>\n",
    "<form action=\"javascript:code_toggle()\"><input type=\"submit\" value=\"Click here to toggle on/off the raw code.\"></form>''')"
   ]
  }
 ],
 "metadata": {
  "kernelspec": {
   "display_name": "Python 3",
   "language": "python",
   "name": "python3"
  },
  "language_info": {
   "codemirror_mode": {
    "name": "ipython",
    "version": 3
   },
   "file_extension": ".py",
   "mimetype": "text/x-python",
   "name": "python",
   "nbconvert_exporter": "python",
   "pygments_lexer": "ipython3",
   "version": "3.6.1"
  }
 },
 "nbformat": 4,
 "nbformat_minor": 2
}
