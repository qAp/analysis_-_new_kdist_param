{
 "cells": [
  {
   "cell_type": "code",
   "execution_count": 1,
   "metadata": {
    "collapsed": true
   },
   "outputs": [
    {
     "name": "stdout",
     "output_type": "stream",
     "text": [
      "The history saving thread hit an unexpected error (OperationalError('database is locked',)).History will not be written to the database.\n"
     ]
    }
   ],
   "source": [
    "%matplotlib inline\n",
    "import os\n",
    "import re\n",
    "import io\n",
    "import itertools\n",
    "import pprint\n",
    "\n",
    "from bokeh.io import output_notebook, show\n",
    "from bokeh.layouts import gridplot\n",
    "from bokeh.plotting import figure\n",
    "from bokeh.models import Range1d, Legend\n",
    "from bokeh.palettes import all_palettes\n",
    "\n",
    "import matplotlib\n",
    "import matplotlib.pyplot as plt\n",
    "import numpy as np\n",
    "import pandas as pd\n",
    "import xarray as xr\n",
    "\n",
    "import climatools.lblnew.bestfit_params as bestfits\n",
    "from climatools.lblnew import setup_bestfit, setup_overlap\n",
    "import climatools.lblnew.pipeline as pipe_lblnew\n",
    "import climatools.cliradlw.setup as setup_cliradlw\n",
    "import climatools.cliradlw.pipeline as pipe_cliradlw\n",
    "\n",
    "import climatools.html.html as climahtml\n",
    "from climatools.lblnew.dataio import *\n",
    "from climatools.plot.plot import *\n",
    "\n",
    "\n",
    "import IPython.display as display"
   ]
  },
  {
   "cell_type": "code",
   "execution_count": 2,
   "metadata": {
    "collapsed": true
   },
   "outputs": [],
   "source": [
    "%run param.py"
   ]
  },
  {
   "cell_type": "code",
   "execution_count": 3,
   "metadata": {
    "collapsed": true
   },
   "outputs": [],
   "source": [
    "def load_output_file(path_csv):\n",
    "    '''\n",
    "    Load lblnew output .csv file to xarray.Dataset\n",
    "    \n",
    "    Parameters\n",
    "    ----------\n",
    "    path_csv: str\n",
    "              Path to the .csv file to be loaded.\n",
    "    ds: xarray.Dataset\n",
    "        Data in the input file in the form of an xarray.Dataset.\n",
    "    '''\n",
    "    toindex = ['band', 'pressure', 'igg', 'g']    \n",
    "    df = pd.read_csv(path_csv, sep=r'\\s+')\n",
    "    df = df.set_index([i for i in toindex if i in df.columns])\n",
    "    df = df.rename(columns={'sfu': 'flug',\n",
    "                            'sfd': 'fldg',\n",
    "                            'fnet': 'fnetg',\n",
    "                            'coolr': 'coolrg'})\n",
    "    ds = xr.Dataset.from_dataframe(df)\n",
    "\n",
    "    for l in ('level', 'layer'):\n",
    "        if l in ds.data_vars:\n",
    "            if len(ds[l].dims) > 1:\n",
    "                surface = {d: 0 for d in ds.dims if d != 'pressure'}\n",
    "                coord_level = ds[l][surface]\n",
    "                ds.coords[l] = ('pressure', coord_level)\n",
    "            else:\n",
    "                ds.coords[l] = ('pressure', ds[l])\n",
    "    \n",
    "    return ds"
   ]
  },
  {
   "cell_type": "code",
   "execution_count": 4,
   "metadata": {
    "collapsed": true
   },
   "outputs": [],
   "source": [
    "def lblnew_setup(param=None):\n",
    "    if 'ng_refs' in param:\n",
    "        return {'setup': setup_bestfit,\n",
    "                'fname_flux_crd': 'output_flux.dat',\n",
    "                'fname_cool_crd': 'output_coolr.dat',\n",
    "                'fname_flux_wgt': 'output_wfluxg.dat',\n",
    "                'fname_cool_wgt': 'output_wcoolrg.dat'}\n",
    "    else:\n",
    "        return {'setup': setup_overlap,\n",
    "                'fname_flux_crd': 'output_flux.dat',\n",
    "                'fname_cool_crd': 'output_coolr.dat',\n",
    "                'fname_flux_wgt': 'output_wflux.dat',\n",
    "                'fname_cool_wgt': 'output_wcoolr.dat'}\n",
    "\n",
    "    \n",
    "def load_lblnew_data(param):\n",
    "    \n",
    "    fname_dsname = [('fname_flux_crd', 'ds_flux_crd'),\n",
    "                    ('fname_cool_crd', 'ds_cool_crd'),\n",
    "                    ('fname_flux_wgt', 'ds_flux_wgt'),\n",
    "                    ('fname_cool_wgt', 'ds_cool_wgt')]\n",
    "    \n",
    "    d = lblnew_setup(param)\n",
    "    dir_fortran = pipe_lblnew.get_dir_case(param, setup=d['setup'])\n",
    "    \n",
    "    data_dict = {}\n",
    "    for fname, dsname in fname_dsname:\n",
    "        fpath = os.path.join(dir_fortran, d[fname])\n",
    "        data_dict[dsname] = load_output_file(fpath)\n",
    "    return data_dict\n",
    "    \n",
    "\n",
    "    \n",
    "    "
   ]
  },
  {
   "cell_type": "code",
   "execution_count": 5,
   "metadata": {
    "collapsed": true
   },
   "outputs": [],
   "source": [
    "d = load_lblnew_data(PARAM_LBLNEW)\n",
    "\n",
    "DS_FLUX_CRD = d['ds_flux_crd']\n",
    "DS_COOL_CRD = d['ds_cool_crd']\n",
    "DS_FLUX_WGT = d['ds_flux_wgt']\n",
    "DS_COOL_WGT = d['ds_cool_wgt']"
   ]
  },
  {
   "cell_type": "code",
   "execution_count": 6,
   "metadata": {
    "collapsed": true
   },
   "outputs": [],
   "source": [
    "DIR_FORTRAN = pipe_cliradlw.get_fortran_dir(PARAM, \n",
    "                                            setup=setup_cliradlw)\n",
    "\n",
    "PATH_FLUX = os.path.join(DIR_FORTRAN, 'output_flux.dat')\n",
    "PATH_COOL = os.path.join(DIR_FORTRAN, 'output_coolr.dat')\n",
    "\n",
    "DS_FLUX = load_output_file(PATH_FLUX)\n",
    "DS_COOL = load_output_file(PATH_COOL)"
   ]
  },
  {
   "cell_type": "code",
   "execution_count": 7,
   "metadata": {
    "collapsed": true
   },
   "outputs": [
    {
     "data": {
      "text/html": [
       "\n",
       "    <div class=\"bk-root\">\n",
       "        <a href=\"https://bokeh.pydata.org\" target=\"_blank\" class=\"bk-logo bk-logo-small bk-logo-notebook\"></a>\n",
       "        <span id=\"2ea9d175-c83f-4038-b97c-a59c3682ebe7\">Loading BokehJS ...</span>\n",
       "    </div>"
      ]
     },
     "metadata": {},
     "output_type": "display_data"
    },
    {
     "data": {
      "application/javascript": [
       "\n",
       "(function(root) {\n",
       "  function now() {\n",
       "    return new Date();\n",
       "  }\n",
       "\n",
       "  var force = true;\n",
       "\n",
       "  if (typeof (root._bokeh_onload_callbacks) === \"undefined\" || force === true) {\n",
       "    root._bokeh_onload_callbacks = [];\n",
       "    root._bokeh_is_loading = undefined;\n",
       "  }\n",
       "\n",
       "  var JS_MIME_TYPE = 'application/javascript';\n",
       "  var HTML_MIME_TYPE = 'text/html';\n",
       "  var EXEC_MIME_TYPE = 'application/vnd.bokehjs_exec.v0+json';\n",
       "  var CLASS_NAME = 'output_bokeh rendered_html';\n",
       "\n",
       "  /**\n",
       "   * Render data to the DOM node\n",
       "   */\n",
       "  function render(props, node) {\n",
       "    var script = document.createElement(\"script\");\n",
       "    node.appendChild(script);\n",
       "  }\n",
       "\n",
       "  /**\n",
       "   * Handle when an output is cleared or removed\n",
       "   */\n",
       "  function handleClearOutput(event, handle) {\n",
       "    var cell = handle.cell;\n",
       "\n",
       "    var id = cell.output_area._bokeh_element_id;\n",
       "    var server_id = cell.output_area._bokeh_server_id;\n",
       "    // Clean up Bokeh references\n",
       "    if (id !== undefined) {\n",
       "      Bokeh.index[id].model.document.clear();\n",
       "      delete Bokeh.index[id];\n",
       "    }\n",
       "\n",
       "    if (server_id !== undefined) {\n",
       "      // Clean up Bokeh references\n",
       "      var cmd = \"from bokeh.io.state import curstate; print(curstate().uuid_to_server['\" + server_id + \"'].get_sessions()[0].document.roots[0]._id)\";\n",
       "      cell.notebook.kernel.execute(cmd, {\n",
       "        iopub: {\n",
       "          output: function(msg) {\n",
       "            var element_id = msg.content.text.trim();\n",
       "            Bokeh.index[element_id].model.document.clear();\n",
       "            delete Bokeh.index[element_id];\n",
       "          }\n",
       "        }\n",
       "      });\n",
       "      // Destroy server and session\n",
       "      var cmd = \"import bokeh.io.notebook as ion; ion.destroy_server('\" + server_id + \"')\";\n",
       "      cell.notebook.kernel.execute(cmd);\n",
       "    }\n",
       "  }\n",
       "\n",
       "  /**\n",
       "   * Handle when a new output is added\n",
       "   */\n",
       "  function handleAddOutput(event, handle) {\n",
       "    var output_area = handle.output_area;\n",
       "    var output = handle.output;\n",
       "\n",
       "    // limit handleAddOutput to display_data with EXEC_MIME_TYPE content only\n",
       "    if ((output.output_type != \"display_data\") || (!output.data.hasOwnProperty(EXEC_MIME_TYPE))) {\n",
       "      return\n",
       "    }\n",
       "\n",
       "    var toinsert = output_area.element.find(\".\" + CLASS_NAME.split(' ')[0]);\n",
       "\n",
       "    if (output.metadata[EXEC_MIME_TYPE][\"id\"] !== undefined) {\n",
       "      toinsert[toinsert.length - 1].firstChild.textContent = output.data[JS_MIME_TYPE];\n",
       "      // store reference to embed id on output_area\n",
       "      output_area._bokeh_element_id = output.metadata[EXEC_MIME_TYPE][\"id\"];\n",
       "    }\n",
       "    if (output.metadata[EXEC_MIME_TYPE][\"server_id\"] !== undefined) {\n",
       "      var bk_div = document.createElement(\"div\");\n",
       "      bk_div.innerHTML = output.data[HTML_MIME_TYPE];\n",
       "      var script_attrs = bk_div.children[0].attributes;\n",
       "      for (var i = 0; i < script_attrs.length; i++) {\n",
       "        toinsert[toinsert.length - 1].firstChild.setAttribute(script_attrs[i].name, script_attrs[i].value);\n",
       "      }\n",
       "      // store reference to server id on output_area\n",
       "      output_area._bokeh_server_id = output.metadata[EXEC_MIME_TYPE][\"server_id\"];\n",
       "    }\n",
       "  }\n",
       "\n",
       "  function register_renderer(events, OutputArea) {\n",
       "\n",
       "    function append_mime(data, metadata, element) {\n",
       "      // create a DOM node to render to\n",
       "      var toinsert = this.create_output_subarea(\n",
       "        metadata,\n",
       "        CLASS_NAME,\n",
       "        EXEC_MIME_TYPE\n",
       "      );\n",
       "      this.keyboard_manager.register_events(toinsert);\n",
       "      // Render to node\n",
       "      var props = {data: data, metadata: metadata[EXEC_MIME_TYPE]};\n",
       "      render(props, toinsert[toinsert.length - 1]);\n",
       "      element.append(toinsert);\n",
       "      return toinsert\n",
       "    }\n",
       "\n",
       "    /* Handle when an output is cleared or removed */\n",
       "    events.on('clear_output.CodeCell', handleClearOutput);\n",
       "    events.on('delete.Cell', handleClearOutput);\n",
       "\n",
       "    /* Handle when a new output is added */\n",
       "    events.on('output_added.OutputArea', handleAddOutput);\n",
       "\n",
       "    /**\n",
       "     * Register the mime type and append_mime function with output_area\n",
       "     */\n",
       "    OutputArea.prototype.register_mime_type(EXEC_MIME_TYPE, append_mime, {\n",
       "      /* Is output safe? */\n",
       "      safe: true,\n",
       "      /* Index of renderer in `output_area.display_order` */\n",
       "      index: 0\n",
       "    });\n",
       "  }\n",
       "\n",
       "  // register the mime type if in Jupyter Notebook environment and previously unregistered\n",
       "  if (root.Jupyter !== undefined) {\n",
       "    var events = require('base/js/events');\n",
       "    var OutputArea = require('notebook/js/outputarea').OutputArea;\n",
       "\n",
       "    if (OutputArea.prototype.mime_types().indexOf(EXEC_MIME_TYPE) == -1) {\n",
       "      register_renderer(events, OutputArea);\n",
       "    }\n",
       "  }\n",
       "\n",
       "  \n",
       "  if (typeof (root._bokeh_timeout) === \"undefined\" || force === true) {\n",
       "    root._bokeh_timeout = Date.now() + 5000;\n",
       "    root._bokeh_failed_load = false;\n",
       "  }\n",
       "\n",
       "  var NB_LOAD_WARNING = {'data': {'text/html':\n",
       "     \"<div style='background-color: #fdd'>\\n\"+\n",
       "     \"<p>\\n\"+\n",
       "     \"BokehJS does not appear to have successfully loaded. If loading BokehJS from CDN, this \\n\"+\n",
       "     \"may be due to a slow or bad network connection. Possible fixes:\\n\"+\n",
       "     \"</p>\\n\"+\n",
       "     \"<ul>\\n\"+\n",
       "     \"<li>re-rerun `output_notebook()` to attempt to load from CDN again, or</li>\\n\"+\n",
       "     \"<li>use INLINE resources instead, as so:</li>\\n\"+\n",
       "     \"</ul>\\n\"+\n",
       "     \"<code>\\n\"+\n",
       "     \"from bokeh.resources import INLINE\\n\"+\n",
       "     \"output_notebook(resources=INLINE)\\n\"+\n",
       "     \"</code>\\n\"+\n",
       "     \"</div>\"}};\n",
       "\n",
       "  function display_loaded() {\n",
       "    var el = document.getElementById(\"2ea9d175-c83f-4038-b97c-a59c3682ebe7\");\n",
       "    if (el != null) {\n",
       "      el.textContent = \"BokehJS is loading...\";\n",
       "    }\n",
       "    if (root.Bokeh !== undefined) {\n",
       "      if (el != null) {\n",
       "        el.textContent = \"BokehJS \" + root.Bokeh.version + \" successfully loaded.\";\n",
       "      }\n",
       "    } else if (Date.now() < root._bokeh_timeout) {\n",
       "      setTimeout(display_loaded, 100)\n",
       "    }\n",
       "  }\n",
       "\n",
       "\n",
       "  function run_callbacks() {\n",
       "    try {\n",
       "      root._bokeh_onload_callbacks.forEach(function(callback) { callback() });\n",
       "    }\n",
       "    finally {\n",
       "      delete root._bokeh_onload_callbacks\n",
       "    }\n",
       "    console.info(\"Bokeh: all callbacks have finished\");\n",
       "  }\n",
       "\n",
       "  function load_libs(js_urls, callback) {\n",
       "    root._bokeh_onload_callbacks.push(callback);\n",
       "    if (root._bokeh_is_loading > 0) {\n",
       "      console.log(\"Bokeh: BokehJS is being loaded, scheduling callback at\", now());\n",
       "      return null;\n",
       "    }\n",
       "    if (js_urls == null || js_urls.length === 0) {\n",
       "      run_callbacks();\n",
       "      return null;\n",
       "    }\n",
       "    console.log(\"Bokeh: BokehJS not loaded, scheduling load and callback at\", now());\n",
       "    root._bokeh_is_loading = js_urls.length;\n",
       "    for (var i = 0; i < js_urls.length; i++) {\n",
       "      var url = js_urls[i];\n",
       "      var s = document.createElement('script');\n",
       "      s.src = url;\n",
       "      s.async = false;\n",
       "      s.onreadystatechange = s.onload = function() {\n",
       "        root._bokeh_is_loading--;\n",
       "        if (root._bokeh_is_loading === 0) {\n",
       "          console.log(\"Bokeh: all BokehJS libraries loaded\");\n",
       "          run_callbacks()\n",
       "        }\n",
       "      };\n",
       "      s.onerror = function() {\n",
       "        console.warn(\"failed to load library \" + url);\n",
       "      };\n",
       "      console.log(\"Bokeh: injecting script tag for BokehJS library: \", url);\n",
       "      document.getElementsByTagName(\"head\")[0].appendChild(s);\n",
       "    }\n",
       "  };var element = document.getElementById(\"2ea9d175-c83f-4038-b97c-a59c3682ebe7\");\n",
       "  if (element == null) {\n",
       "    console.log(\"Bokeh: ERROR: autoload.js configured with elementid '2ea9d175-c83f-4038-b97c-a59c3682ebe7' but no matching script tag was found. \")\n",
       "    return false;\n",
       "  }\n",
       "\n",
       "  var js_urls = [\"https://cdn.pydata.org/bokeh/release/bokeh-0.12.16.min.js\", \"https://cdn.pydata.org/bokeh/release/bokeh-widgets-0.12.16.min.js\", \"https://cdn.pydata.org/bokeh/release/bokeh-tables-0.12.16.min.js\", \"https://cdn.pydata.org/bokeh/release/bokeh-gl-0.12.16.min.js\"];\n",
       "\n",
       "  var inline_js = [\n",
       "    function(Bokeh) {\n",
       "      Bokeh.set_log_level(\"info\");\n",
       "    },\n",
       "    \n",
       "    function(Bokeh) {\n",
       "      \n",
       "    },\n",
       "    function(Bokeh) {\n",
       "      console.log(\"Bokeh: injecting CSS: https://cdn.pydata.org/bokeh/release/bokeh-0.12.16.min.css\");\n",
       "      Bokeh.embed.inject_css(\"https://cdn.pydata.org/bokeh/release/bokeh-0.12.16.min.css\");\n",
       "      console.log(\"Bokeh: injecting CSS: https://cdn.pydata.org/bokeh/release/bokeh-widgets-0.12.16.min.css\");\n",
       "      Bokeh.embed.inject_css(\"https://cdn.pydata.org/bokeh/release/bokeh-widgets-0.12.16.min.css\");\n",
       "      console.log(\"Bokeh: injecting CSS: https://cdn.pydata.org/bokeh/release/bokeh-tables-0.12.16.min.css\");\n",
       "      Bokeh.embed.inject_css(\"https://cdn.pydata.org/bokeh/release/bokeh-tables-0.12.16.min.css\");\n",
       "    }\n",
       "  ];\n",
       "\n",
       "  function run_inline_js() {\n",
       "    \n",
       "    if ((root.Bokeh !== undefined) || (force === true)) {\n",
       "      for (var i = 0; i < inline_js.length; i++) {\n",
       "        inline_js[i].call(root, root.Bokeh);\n",
       "      }if (force === true) {\n",
       "        display_loaded();\n",
       "      }} else if (Date.now() < root._bokeh_timeout) {\n",
       "      setTimeout(run_inline_js, 100);\n",
       "    } else if (!root._bokeh_failed_load) {\n",
       "      console.log(\"Bokeh: BokehJS failed to load within specified timeout.\");\n",
       "      root._bokeh_failed_load = true;\n",
       "    } else if (force !== true) {\n",
       "      var cell = $(document.getElementById(\"2ea9d175-c83f-4038-b97c-a59c3682ebe7\")).parents('.cell').data().cell;\n",
       "      cell.output_area.append_execute_result(NB_LOAD_WARNING)\n",
       "    }\n",
       "\n",
       "  }\n",
       "\n",
       "  if (root._bokeh_is_loading === 0) {\n",
       "    console.log(\"Bokeh: BokehJS loaded, going straight to plotting\");\n",
       "    run_inline_js();\n",
       "  } else {\n",
       "    load_libs(js_urls, function() {\n",
       "      console.log(\"Bokeh: BokehJS plotting callback run at\", now());\n",
       "      run_inline_js();\n",
       "    });\n",
       "  }\n",
       "}(window));"
      ],
      "application/vnd.bokehjs_load.v0+json": "\n(function(root) {\n  function now() {\n    return new Date();\n  }\n\n  var force = true;\n\n  if (typeof (root._bokeh_onload_callbacks) === \"undefined\" || force === true) {\n    root._bokeh_onload_callbacks = [];\n    root._bokeh_is_loading = undefined;\n  }\n\n  \n\n  \n  if (typeof (root._bokeh_timeout) === \"undefined\" || force === true) {\n    root._bokeh_timeout = Date.now() + 5000;\n    root._bokeh_failed_load = false;\n  }\n\n  var NB_LOAD_WARNING = {'data': {'text/html':\n     \"<div style='background-color: #fdd'>\\n\"+\n     \"<p>\\n\"+\n     \"BokehJS does not appear to have successfully loaded. If loading BokehJS from CDN, this \\n\"+\n     \"may be due to a slow or bad network connection. Possible fixes:\\n\"+\n     \"</p>\\n\"+\n     \"<ul>\\n\"+\n     \"<li>re-rerun `output_notebook()` to attempt to load from CDN again, or</li>\\n\"+\n     \"<li>use INLINE resources instead, as so:</li>\\n\"+\n     \"</ul>\\n\"+\n     \"<code>\\n\"+\n     \"from bokeh.resources import INLINE\\n\"+\n     \"output_notebook(resources=INLINE)\\n\"+\n     \"</code>\\n\"+\n     \"</div>\"}};\n\n  function display_loaded() {\n    var el = document.getElementById(\"2ea9d175-c83f-4038-b97c-a59c3682ebe7\");\n    if (el != null) {\n      el.textContent = \"BokehJS is loading...\";\n    }\n    if (root.Bokeh !== undefined) {\n      if (el != null) {\n        el.textContent = \"BokehJS \" + root.Bokeh.version + \" successfully loaded.\";\n      }\n    } else if (Date.now() < root._bokeh_timeout) {\n      setTimeout(display_loaded, 100)\n    }\n  }\n\n\n  function run_callbacks() {\n    try {\n      root._bokeh_onload_callbacks.forEach(function(callback) { callback() });\n    }\n    finally {\n      delete root._bokeh_onload_callbacks\n    }\n    console.info(\"Bokeh: all callbacks have finished\");\n  }\n\n  function load_libs(js_urls, callback) {\n    root._bokeh_onload_callbacks.push(callback);\n    if (root._bokeh_is_loading > 0) {\n      console.log(\"Bokeh: BokehJS is being loaded, scheduling callback at\", now());\n      return null;\n    }\n    if (js_urls == null || js_urls.length === 0) {\n      run_callbacks();\n      return null;\n    }\n    console.log(\"Bokeh: BokehJS not loaded, scheduling load and callback at\", now());\n    root._bokeh_is_loading = js_urls.length;\n    for (var i = 0; i < js_urls.length; i++) {\n      var url = js_urls[i];\n      var s = document.createElement('script');\n      s.src = url;\n      s.async = false;\n      s.onreadystatechange = s.onload = function() {\n        root._bokeh_is_loading--;\n        if (root._bokeh_is_loading === 0) {\n          console.log(\"Bokeh: all BokehJS libraries loaded\");\n          run_callbacks()\n        }\n      };\n      s.onerror = function() {\n        console.warn(\"failed to load library \" + url);\n      };\n      console.log(\"Bokeh: injecting script tag for BokehJS library: \", url);\n      document.getElementsByTagName(\"head\")[0].appendChild(s);\n    }\n  };var element = document.getElementById(\"2ea9d175-c83f-4038-b97c-a59c3682ebe7\");\n  if (element == null) {\n    console.log(\"Bokeh: ERROR: autoload.js configured with elementid '2ea9d175-c83f-4038-b97c-a59c3682ebe7' but no matching script tag was found. \")\n    return false;\n  }\n\n  var js_urls = [\"https://cdn.pydata.org/bokeh/release/bokeh-0.12.16.min.js\", \"https://cdn.pydata.org/bokeh/release/bokeh-widgets-0.12.16.min.js\", \"https://cdn.pydata.org/bokeh/release/bokeh-tables-0.12.16.min.js\", \"https://cdn.pydata.org/bokeh/release/bokeh-gl-0.12.16.min.js\"];\n\n  var inline_js = [\n    function(Bokeh) {\n      Bokeh.set_log_level(\"info\");\n    },\n    \n    function(Bokeh) {\n      \n    },\n    function(Bokeh) {\n      console.log(\"Bokeh: injecting CSS: https://cdn.pydata.org/bokeh/release/bokeh-0.12.16.min.css\");\n      Bokeh.embed.inject_css(\"https://cdn.pydata.org/bokeh/release/bokeh-0.12.16.min.css\");\n      console.log(\"Bokeh: injecting CSS: https://cdn.pydata.org/bokeh/release/bokeh-widgets-0.12.16.min.css\");\n      Bokeh.embed.inject_css(\"https://cdn.pydata.org/bokeh/release/bokeh-widgets-0.12.16.min.css\");\n      console.log(\"Bokeh: injecting CSS: https://cdn.pydata.org/bokeh/release/bokeh-tables-0.12.16.min.css\");\n      Bokeh.embed.inject_css(\"https://cdn.pydata.org/bokeh/release/bokeh-tables-0.12.16.min.css\");\n    }\n  ];\n\n  function run_inline_js() {\n    \n    if ((root.Bokeh !== undefined) || (force === true)) {\n      for (var i = 0; i < inline_js.length; i++) {\n        inline_js[i].call(root, root.Bokeh);\n      }if (force === true) {\n        display_loaded();\n      }} else if (Date.now() < root._bokeh_timeout) {\n      setTimeout(run_inline_js, 100);\n    } else if (!root._bokeh_failed_load) {\n      console.log(\"Bokeh: BokehJS failed to load within specified timeout.\");\n      root._bokeh_failed_load = true;\n    } else if (force !== true) {\n      var cell = $(document.getElementById(\"2ea9d175-c83f-4038-b97c-a59c3682ebe7\")).parents('.cell').data().cell;\n      cell.output_area.append_execute_result(NB_LOAD_WARNING)\n    }\n\n  }\n\n  if (root._bokeh_is_loading === 0) {\n    console.log(\"Bokeh: BokehJS loaded, going straight to plotting\");\n    run_inline_js();\n  } else {\n    load_libs(js_urls, function() {\n      console.log(\"Bokeh: BokehJS plotting callback run at\", now());\n      run_inline_js();\n    });\n  }\n}(window));"
     },
     "metadata": {},
     "output_type": "display_data"
    }
   ],
   "source": [
    "output_notebook()"
   ]
  },
  {
   "cell_type": "code",
   "execution_count": 8,
   "metadata": {
    "collapsed": true
   },
   "outputs": [],
   "source": [
    "def fmt_cool(ds_in):\n",
    "    ds = ds_in.copy(deep=True)\n",
    "    if 'igg' in ds.dims:\n",
    "        ds = ds.sel(igg=1)\n",
    "\n",
    "    if 'g' in ds.dims:\n",
    "        ds = ds.sum('g')\n",
    "            \n",
    "    if 'band' in ds.dims:\n",
    "        try:\n",
    "            ds = ds.squeeze('band')\n",
    "        except ValueError:\n",
    "            ds = ds.sum('band')\n",
    "                \n",
    "    return ds['coolrg']\n",
    "\n",
    "\n",
    "def pltdata_cooling_1(ds_cool=None,\n",
    "                      ds_cool_crd=None, ds_cool_wgt=None):\n",
    "    \n",
    "\n",
    "\n",
    "    colors = all_palettes['Set1'][4]\n",
    "    data = [{'label': 'CLIRAD `coolr_bands`',\n",
    "             'srs': fmt_cool(ds_cool),\n",
    "             'line_dash': 'dashed', 'line_width': 5,\n",
    "             'color': colors[0], 'alpha': .6},\n",
    "            {'label': 'CRD',\n",
    "             'srs': fmt_cool(ds_cool_crd),\n",
    "             'line_dash': 'solid', 'line_width': 1.5,\n",
    "             'marker': 'circle', 'marker_size': 5,\n",
    "             'color': colors[2], 'alpha': 1,},\n",
    "            {'label': 'WGT igg=10 wgt_flux=2',\n",
    "             'srs': fmt_cool(ds_cool_wgt),\n",
    "             'line_dash': 'solid', 'line_width': 3,\n",
    "             'marker': 'square', 'marker_size': 5,\n",
    "             'color': colors[3], 'alpha': .6}]\n",
    "    return data\n",
    "\n",
    "\n",
    "def nice_xlims(pltdata=None, prange=None):\n",
    "    \n",
    "    def get_slice(srs):\n",
    "        return srs.sel(pressure=slice(*prange))\n",
    "    \n",
    "    srss = [d['srs'] for d in pltdata]\n",
    "    vmin = min([get_slice(srs).min() for srs in srss])\n",
    "    vmax = max([get_slice(srs).max() for srs in srss])\n",
    "    dv = (vmax - vmin) * .01\n",
    "    return float(vmin - dv), float(vmax + dv)\n",
    "    \n",
    "\n",
    "def plt_cooling_bokeh(pltdata=None):\n",
    "    '''\n",
    "    Plot a list of cooling rate profiles using bokeh.\n",
    "    '''\n",
    "    ymin = 1e-2 \n",
    "    ymax = 1020 \n",
    "        \n",
    "    p1 = figure(title=\"Linear pressure scale\", \n",
    "                plot_width=400)        \n",
    "    xmin, xmax = nice_xlims(pltdata, prange=(50, 1050))\n",
    "    for d in pltdata:\n",
    "        if 'marker' in d:\n",
    "            getattr(p1, d['marker'])(d['srs'].values, \n",
    "                    d['srs'].coords['pressure'].values,\n",
    "                    color=d['color'], alpha=.7)\n",
    "        p1.line(d['srs'].values, \n",
    "                d['srs'].coords['pressure'].values,\n",
    "                color=d['color'], alpha=d['alpha'], \n",
    "                line_width=d['line_width'], line_dash=d['line_dash'])\n",
    "    \n",
    "    p1.y_range = Range1d(ymax, ymin)\n",
    "    p1.yaxis.axis_label = 'pressure [mb]'   \n",
    "    p1.x_range = Range1d(xmin, xmax)\n",
    "    p1.xaxis.axis_label = 'cooling rate [K/day]'\n",
    "            \n",
    "    p2 = figure(title='Log pressure scale', y_axis_type='log',\n",
    "                plot_width=560)\n",
    "    xmin, xmax = nice_xlims(pltdata, prange=(.01, 200))\n",
    "    \n",
    "    rs = []\n",
    "    for d in pltdata:\n",
    "        rd = []\n",
    "        if 'marker' in d:\n",
    "            r_mark = getattr(p2, d['marker'])(d['srs'].values, \n",
    "                        d['srs'].coords['pressure'].values,\n",
    "                        color=d['color'], alpha=.7)\n",
    "            rd.append(r_mark)\n",
    "        r_line = p2.line(d['srs'].values, \n",
    "                    d['srs'].coords['pressure'].values,\n",
    "                    color=d['color'], alpha=d['alpha'], \n",
    "                    line_width=d['line_width'], line_dash=d['line_dash'])\n",
    "        rd.append(r_line)\n",
    "      \n",
    "        rs.append(rd)\n",
    "        \n",
    "    p2.y_range = Range1d(ymax, ymin)  \n",
    "    p2.yaxis.axis_label = 'pressure [mb]'\n",
    "    \n",
    "    p2.x_range = Range1d(xmin, xmax)\n",
    "    p2.xaxis.axis_label = 'cooling rate [K/day]'\n",
    "    \n",
    "    items = [(d['label'], r) for r, d in zip(rs, pltdata)]\n",
    "    legend = Legend(items=items, location=(10, -30))\n",
    "    legend.label_text_font_size = '8pt'\n",
    "    \n",
    "    p2.add_layout(legend, 'right')  \n",
    "    \n",
    "    show(gridplot(p1, p2, ncols=2, plot_height=500))\n",
    "    \n",
    "\n",
    "def script_plt_cooling():\n",
    "    pltdata = pltdata_cooling_1(\n",
    "        ds_cool=DS_COOL,\n",
    "        ds_cool_crd=DS_COOL_CRD,\n",
    "        ds_cool_wgt=DS_COOL_WGT)\n",
    "    plt_cooling_bokeh(pltdata=pltdata)\n",
    "    print('''FIGURE. Cooling rate profiles.''')"
   ]
  },
  {
   "cell_type": "code",
   "execution_count": 9,
   "metadata": {
    "collapsed": true
   },
   "outputs": [],
   "source": [
    "def fmt_flux(ds_in):\n",
    "    ds = ds_in.copy(deep=True)\n",
    "    \n",
    "    for l in ('level', 'layer'):\n",
    "        if l in ds.data_vars:\n",
    "            if len(ds[l].dims) > 1:\n",
    "                surface = {d: 0 for d in ds.dims if d != 'pressure'}\n",
    "                coord_level = ds[l][surface]\n",
    "                ds.coords[l] = ('pressure', coord_level)\n",
    "            else:\n",
    "                ds.coords[l] = ('pressure', ds[l])\n",
    "        \n",
    "    ds = ds.isel(pressure=[0, 23, -1])\n",
    "        \n",
    "    if 'igg' in ds.dims:\n",
    "        ds = ds.sel(igg=[1])\n",
    "        ds = ds.squeeze('igg').drop('igg')\n",
    "    \n",
    "    if 'g' in ds.dims:\n",
    "        ds = ds.sum('g')\n",
    "            \n",
    "    if 'band' in ds.dims:\n",
    "        try:\n",
    "            ds = ds.squeeze('band').drop('band')\n",
    "        except ValueError:\n",
    "            ds = ds.sum('band')\n",
    "                \n",
    "    df = ds.to_dataframe()\n",
    "    df = df.set_index('level', append=True)               \n",
    "    return df\n",
    "\n",
    "\n",
    "def tbdata_flux(ds_flux=None, ds_flux_crd=None, ds_flux_wgt=None):\n",
    "    ilevels = [0, 23, -1]\n",
    "            \n",
    "    benchmark = {'label': 'CRD',\n",
    "                 'df': fmt_flux(ds_flux_crd)}\n",
    "    \n",
    "    tbs = [{'label': 'WGT igg=10 wgt_flux=1',\n",
    "            'df': fmt_flux(ds_flux_wgt)},\n",
    "           {'label': 'CLIRAD',\n",
    "            'df': fmt_flux(ds_flux)}]\n",
    "    \n",
    "    data = {'benchmark': benchmark, 'others': tbs}\n",
    "    return data\n",
    "\n",
    "\n",
    "def tb_flux(tbdata=None):\n",
    "    benchmark = tbdata['benchmark']\n",
    "    others = tbdata['others']\n",
    "    \n",
    "    def show_tb(d=None):\n",
    "        display.display(d['df'])\n",
    "        print('Table.', 'Fluxes.', d['label'])\n",
    "        \n",
    "    def show_tbdiff(d0=None, d=None):\n",
    "        df = d['df']\n",
    "        df.index = d0['df'].index\n",
    "        display.display(df - d0['df'])\n",
    "        print('Table.', 'Fluxes.', \n",
    "              '({}) - ({})'.format(d['label'], d0['label']))\n",
    "        \n",
    "    show_tb(benchmark)\n",
    "    for d in others:\n",
    "        show_tb(d)\n",
    "        \n",
    "    for d in others:\n",
    "        show_tbdiff(d=d, d0=benchmark)\n",
    "        \n",
    "        \n",
    "def script_tb_flux():\n",
    "    data = tbdata_flux(ds_flux=DS_FLUX,\n",
    "                       ds_flux_crd=DS_FLUX_CRD,\n",
    "                       ds_flux_wgt=DS_FLUX_WGT)\n",
    "    tb_flux(tbdata=data)"
   ]
  },
  {
   "cell_type": "code",
   "execution_count": 10,
   "metadata": {
    "collapsed": true
   },
   "outputs": [],
   "source": [
    "def band_map():\n",
    "    '''\n",
    "    Maps spectral bands in lblnew to spectral bands in clirad.\n",
    "    '''\n",
    "    lblnew2clirad = {'1': '1',\n",
    "            '2': '2',\n",
    "            '3a': '3',\n",
    "            '3b': '4',\n",
    "            '3c': '5',\n",
    "            '4': '6', \n",
    "            '5': '7',\n",
    "            '6': '8',\n",
    "            '7': '9', \n",
    "            '8': '10',\n",
    "            '9': '11'}\n",
    "    \n",
    "    clirad2lblnew = {clirad: lblnew \n",
    "                     for lblnew, clirad in lblnew2clirad.items()}\n",
    "    return clirad2lblnew\n",
    "\n",
    "\n",
    "def gasbands():\n",
    "    bmap = band_map()\n",
    "    gases = list(PARAM['molecule'].keys())\n",
    "    \n",
    "    bands = [bmap[str(b)] for b in PARAM['band']]\n",
    "    return list(itertools.product(gases, bands))\n",
    "\n",
    "\n",
    "def print_bestfit_params():\n",
    "    print('Best-fit values for each (gas, band)')\n",
    "    print('------------------------------------')\n",
    "    for gas, band in gasbands():\n",
    "        print('o {} band{}'.format(gas, band))\n",
    "        param = bestfits.kdist_params(molecule=gas, band=band)\n",
    "        for name, value in sorted(param.items()):\n",
    "            print(2 * ' ' + '{} = {}'.format(name, value))\n",
    "\n",
    "        \n",
    "def print_input_param():        \n",
    "    for name, value in PARAM.items():\n",
    "        print('{} = {}'.format(name, value))\n",
    "        \n",
    "        \n",
    "def print_lblnew_param():\n",
    "    for name, value in sorted(PARAM_LBLNEW.items()):\n",
    "        print('{} = {}'.format(name, value))\n"
   ]
  },
  {
   "cell_type": "code",
   "execution_count": 11,
   "metadata": {
    "collapsed": true,
    "scrolled": false
   },
   "outputs": [],
   "source": [
    "def show_html(s):\n",
    "    display.display(display.HTML(s))\n",
    "\n",
    "    \n",
    "def show_markdown(s):\n",
    "    display.display(display.Markdown(s))\n",
    "\n",
    "    \n",
    "def script():\n",
    "    \n",
    "    title = '### CLIRAD-LW'\n",
    "    s_input = 'Input Parameters'\n",
    "    s_lblnew_param = 'LBLNEW case compaired against'\n",
    "    s_bestfits = 'Best-fit Parameters'\n",
    "    s_plt_cooling = 'Cooling Rate Profiles'\n",
    "    s_tb_flux = 'Flux Comparison'\n",
    "    \n",
    "    # title\n",
    "    show_markdown('### CLIRAD-LW')\n",
    "    \n",
    "    # TOC\n",
    "    show_markdown('### Table of Contents')\n",
    "    show_html(climahtml.getHTML_hrefanchor(s_input))\n",
    "    show_html(climahtml.getHTML_hrefanchor(s_lblnew_param))\n",
    "    show_html(climahtml.getHTML_hrefanchor(s_plt_cooling))\n",
    "    show_html(climahtml.getHTML_hrefanchor(s_tb_flux))\n",
    "    show_html(climahtml.getHTML_hrefanchor(s_bestfits))\n",
    "    \n",
    "    # Input parameters\n",
    "    show_html(climahtml.getHTML_idanchor(s_input))\n",
    "    show_markdown(climahtml.getMarkdown_sectitle(s_input))\n",
    "    print_input_param()\n",
    "    \n",
    "    # LBLNEW parameters \n",
    "    show_html(climahtml.getHTML_idanchor(s_lblnew_param))\n",
    "    show_markdown(climahtml.getMarkdown_sectitle(s_lblnew_param))\n",
    "    print_lblnew_param()\n",
    "    \n",
    "    # Cooling rate profiles\n",
    "    show_html(climahtml.getHTML_idanchor(s_plt_cooling))\n",
    "    show_markdown(climahtml.getMarkdown_sectitle(s_plt_cooling))\n",
    "    script_plt_cooling()\n",
    "    \n",
    "    # Flux comparison\n",
    "    show_html(climahtml.getHTML_idanchor(s_tb_flux))\n",
    "    show_markdown(climahtml.getMarkdown_sectitle(s_tb_flux))\n",
    "    script_tb_flux()\n",
    "    \n",
    "    # Best-fit values\n",
    "    show_html(climahtml.getHTML_idanchor(s_bestfits))\n",
    "    show_markdown(climahtml.getMarkdown_sectitle(s_bestfits))\n",
    "    print_bestfit_params()\n",
    "   \n",
    "    "
   ]
  },
  {
   "cell_type": "code",
   "execution_count": 12,
   "metadata": {
    "collapsed": true,
    "scrolled": false
   },
   "outputs": [
    {
     "data": {
      "text/markdown": [
       "### CLIRAD-LW"
      ],
      "text/plain": [
       "<IPython.core.display.Markdown object>"
      ]
     },
     "metadata": {},
     "output_type": "display_data"
    },
    {
     "data": {
      "text/markdown": [
       "### Table of Contents"
      ],
      "text/plain": [
       "<IPython.core.display.Markdown object>"
      ]
     },
     "metadata": {},
     "output_type": "display_data"
    },
    {
     "data": {
      "text/html": [
       "<a href=\"#Input_Parameters\">Input Parameters</a>"
      ],
      "text/plain": [
       "<IPython.core.display.HTML object>"
      ]
     },
     "metadata": {},
     "output_type": "display_data"
    },
    {
     "data": {
      "text/html": [
       "<a href=\"#LBLNEW_case_compaired_against\">LBLNEW case compaired against</a>"
      ],
      "text/plain": [
       "<IPython.core.display.HTML object>"
      ]
     },
     "metadata": {},
     "output_type": "display_data"
    },
    {
     "data": {
      "text/html": [
       "<a href=\"#Cooling_Rate_Profiles\">Cooling Rate Profiles</a>"
      ],
      "text/plain": [
       "<IPython.core.display.HTML object>"
      ]
     },
     "metadata": {},
     "output_type": "display_data"
    },
    {
     "data": {
      "text/html": [
       "<a href=\"#Flux_Comparison\">Flux Comparison</a>"
      ],
      "text/plain": [
       "<IPython.core.display.HTML object>"
      ]
     },
     "metadata": {},
     "output_type": "display_data"
    },
    {
     "data": {
      "text/html": [
       "<a href=\"#Best-fit_Parameters\">Best-fit Parameters</a>"
      ],
      "text/plain": [
       "<IPython.core.display.HTML object>"
      ]
     },
     "metadata": {},
     "output_type": "display_data"
    },
    {
     "data": {
      "text/html": [
       "<a id=\"Input_Parameters\"></a>"
      ],
      "text/plain": [
       "<IPython.core.display.HTML object>"
      ]
     },
     "metadata": {},
     "output_type": "display_data"
    },
    {
     "data": {
      "text/markdown": [
       "# Input Parameters"
      ],
      "text/plain": [
       "<IPython.core.display.Markdown object>"
      ]
     },
     "metadata": {},
     "output_type": "display_data"
    },
    {
     "name": "stdout",
     "output_type": "stream",
     "text": [
      "atmpro = mls\n",
      "band = [1]\n",
      "commitnumber = de5d43e\n",
      "molecule = {'h2o': 'atmpro'}\n",
      "tsfc = 294\n"
     ]
    },
    {
     "data": {
      "text/html": [
       "<a id=\"LBLNEW_case_compaired_against\"></a>"
      ],
      "text/plain": [
       "<IPython.core.display.HTML object>"
      ]
     },
     "metadata": {},
     "output_type": "display_data"
    },
    {
     "data": {
      "text/markdown": [
       "# LBLNEW case compaired against"
      ],
      "text/plain": [
       "<IPython.core.display.Markdown object>"
      ]
     },
     "metadata": {},
     "output_type": "display_data"
    },
    {
     "name": "stdout",
     "output_type": "stream",
     "text": [
      "atmpro = mls\n",
      "band = 1\n",
      "commitnumber = 5014a19\n",
      "conc = None\n",
      "dv = 0.001\n",
      "klin = 0\n",
      "molecule = h2o\n",
      "ng_adju = [0, 0, 0]\n",
      "ng_refs = [3, 3, 6]\n",
      "nv = 1000\n",
      "option_compute_btable = 0\n",
      "option_compute_ktable = 0\n",
      "option_wgt_flux = 1\n",
      "option_wgt_k = 1\n",
      "ref_pts = [(1, 250), (30, 250), (300, 250)]\n",
      "tsfc = 294\n",
      "vmax = 340\n",
      "vmin = 20\n",
      "w_diffuse = [(1.66, 1.66, 1.66), (1.66, 1.66, 1.66), (1.66, 1.66, 1.5, 1.5, 1.5, 1.5)]\n",
      "wgt = [(0.2, 0.2, 0.2), (0.2, 0.2, 0.2), (0.2, 0.2, 0.65, 0.65, 0.65, 0.65)]\n"
     ]
    },
    {
     "data": {
      "text/html": [
       "<a id=\"Cooling_Rate_Profiles\"></a>"
      ],
      "text/plain": [
       "<IPython.core.display.HTML object>"
      ]
     },
     "metadata": {},
     "output_type": "display_data"
    },
    {
     "data": {
      "text/markdown": [
       "# Cooling Rate Profiles"
      ],
      "text/plain": [
       "<IPython.core.display.Markdown object>"
      ]
     },
     "metadata": {},
     "output_type": "display_data"
    },
    {
     "data": {
      "text/html": [
       "\n",
       "<div class=\"bk-root\">\n",
       "    <div class=\"bk-plotdiv\" id=\"76335fcf-e627-4ae2-ad21-b2c562f95425\"></div>\n",
       "</div>"
      ]
     },
     "metadata": {},
     "output_type": "display_data"
    },
    {
     "data": {
      "application/javascript": [
       "(function(root) {\n",
       "  function embed_document(root) {\n",
       "    \n",
       "  var docs_json = {\"27d24ae9-9522-4aaa-8139-32d62347de9d\":{\"roots\":{\"references\":[{\"attributes\":{\"bottom_units\":\"screen\",\"fill_alpha\":{\"value\":0.5},\"fill_color\":{\"value\":\"lightgrey\"},\"left_units\":\"screen\",\"level\":\"overlay\",\"line_alpha\":{\"value\":1.0},\"line_color\":{\"value\":\"black\"},\"line_dash\":[4,4],\"line_width\":{\"value\":2},\"plot\":null,\"render_mode\":\"css\",\"right_units\":\"screen\",\"top_units\":\"screen\"},\"id\":\"8a7a20aa-6ac6-4a38-bea9-bf1b5e557a3f\",\"type\":\"BoxAnnotation\"},{\"attributes\":{\"line_alpha\":0.1,\"line_color\":\"#1f77b4\",\"line_dash\":[6],\"line_width\":5,\"x\":{\"field\":\"x\"},\"y\":{\"field\":\"y\"}},\"id\":\"922fcbb9-1ace-48ed-8f08-b8519c889a85\",\"type\":\"Line\"},{\"attributes\":{\"line_alpha\":0.6,\"line_color\":\"#984ea3\",\"line_width\":3,\"x\":{\"field\":\"x\"},\"y\":{\"field\":\"y\"}},\"id\":\"9fff1783-f8b6-4a7c-a64f-0d1fe99b7b23\",\"type\":\"Line\"},{\"attributes\":{\"callback\":null,\"data\":{\"x\":{\"__ndarray__\":\"4W2Uqw4nGkCqvB3htDgUQIhp39xfHRJAcnVbfdDuD0AnfnuNE7ULQC/NvjyutwdA6q9XWHAPBEDni70XX8QAQB85LdOKqvs/xV0YRP9/9j907na9NAXyP+M/1c84YOw/rUVVXdHX5T9KITWSqeffP9eI/fGgkdc/oi85xRVd1j8VszWNswrYP0z8tP5UpNg/+QhGbwJd2T/NmnF9zMXaPzr6RhGlP90/NGCYZbLM4D9Wilc4zWvjP/F2azbiy+M/KpgplCJF4j9xjp1kae/gP+JSnScBnt8//UkAJ6mG3T/vPExWoLHbP/QYJ7ZpCdo/1rvLh5g52D8sNnvawCHWP3DEpAklXdQ/D0c22wUY0z+629TEK57RP9Enj/otss8/J1I3oyhIzT+2l37TBQbMP8+c3Iwm2ck/rHH0AC+WyD80NDveJhTTP/4pE4YaCOc/iOZLuQxJ8j/wBXexevH1P8MdXsYD4PU/uxCrP8Jw8T/6D2V/C/jrP3X3a3ibU+c/uU7IcyKG4z/REUx3zwjgP6LWbprCc9k/hjqscMsH0z/9I4BZqTnLP8ISUURtuMI/MCoyBS65uD8JkDEPSqyvPwaJtUSjRaQ/y73P133emj8juwrdsGORP6Ijr4oUI4c/XBdqjFfSgD93pJ2CU5J6P2xx5D1iBnc/aj0ZJk4Ddj9vj1LHMhZ4PzXjhdQzVH8/RNrTyarshT+n3TusaFqLP4liHYf07Yo/rAaeiPB5hD+iCudprDx6P+k5K+PUh3A/XNIThijuZj+rmgpz7vZhP8hbz4xVtaY/\",\"dtype\":\"float64\",\"shape\":[75]},\"y\":{\"__ndarray__\":\"GhExyth1ND/Sv8nbtpRIP2vylNV0PVE/aTum7souWD/At0SJ8fVgPw3Iuahxymc/MSNhhJWvcD/bTfBN02d3P2zb5nxnaoA/CD5h5MAGhz8NmeH1TyaQP+zrCsc9p5Y/LbKd76fGnz/bLW5ISEmmPww9YvTcQq8/JV2OstnstT8Er5Y7M8G+P0c+r3jqkcU/5h99k6ZBzj88bCIzFzjVP4enV8oyxN0//yH99nXg5D8qOpLLf0jtP5kqGJXUifQ/c9cS8kHP/D+/DpwzojQEQIEmwoanVwxA4lgXt9HgE0BSSZ2AJuIbQAMJih9jjiNA5q4l5INuK0AwTKYKRj0zQNv5fmq8/DpAaCJseHrtQkB/+zpwzoxKQM3MzMzMeFJAZmZmZmZqWEAAAAAAAFxeQM3MzMzMJmJAmpmZmZkfZUBmZmZmZhhoQDMzMzMzEWtAAAAAAAAKbkBmZmZmZoFwQM3MzMzM/XFAMzMzMzN6c0CamZmZmfZ0QAAAAAAAc3ZAZmZmZmbvd0DNzMzMzGt5QDMzMzMz6HpAmpmZmZlkfEAAAAAAAOF9QGZmZmZmXX9AZmZmZuZsgECamZmZGSuBQM3MzMxM6YFAAAAAAICngkAzMzMzs2WDQGZmZmbmI4RAmpmZmRnihEDNzMzMTKCFQAAAAACAXoZAMzMzM7Mch0BmZmZm5tqHQJqZmZkZmYhAzczMzExXiUAAAAAAgBWKQDMzMzOz04pAZmZmZuaRi0CamZmZGVCMQM3MzMxMDo1AAAAAAIDMjUAzMzMzs4qOQGZmZmbmSI9A\",\"dtype\":\"float64\",\"shape\":[75]}},\"selected\":{\"id\":\"21d20e8a-6df9-4d73-a6e9-de2bc8b87567\",\"type\":\"Selection\"},\"selection_policy\":{\"id\":\"b15697c6-02e6-4382-8f8f-1efa9f95c383\",\"type\":\"UnionRenderers\"}},\"id\":\"843a507a-a322-423a-9327-7cf7da5b7425\",\"type\":\"ColumnDataSource\"},{\"attributes\":{},\"id\":\"f5e68b53-2e2e-45ca-88b9-6f77d6f0136d\",\"type\":\"Selection\"},{\"attributes\":{},\"id\":\"cf43e34d-c2f9-4b5a-b44c-0a3c7e5ddaf3\",\"type\":\"ResetTool\"},{\"attributes\":{\"data_source\":{\"id\":\"185cbd18-e052-4ec7-b884-e7f99e34e78b\",\"type\":\"ColumnDataSource\"},\"glyph\":{\"id\":\"92560969-e9fb-4dbe-9ab2-7ef1426eb447\",\"type\":\"Line\"},\"hover_glyph\":null,\"muted_glyph\":null,\"nonselection_glyph\":{\"id\":\"19082215-f797-46f5-8dba-7ead95f909ea\",\"type\":\"Line\"},\"selection_glyph\":null,\"view\":{\"id\":\"9832344c-e668-4eac-b1bd-a261c50fdb8c\",\"type\":\"CDSView\"}},\"id\":\"dcae1671-e020-405d-904c-36760780050c\",\"type\":\"GlyphRenderer\"},{\"attributes\":{},\"id\":\"9db3f6ad-768f-4a1c-ad48-75262d5c583a\",\"type\":\"UnionRenderers\"},{\"attributes\":{\"line_alpha\":0.1,\"line_color\":\"#1f77b4\",\"line_dash\":[6],\"line_width\":5,\"x\":{\"field\":\"x\"},\"y\":{\"field\":\"y\"}},\"id\":\"19082215-f797-46f5-8dba-7ead95f909ea\",\"type\":\"Line\"},{\"attributes\":{\"fill_alpha\":{\"value\":0.1},\"fill_color\":{\"value\":\"#1f77b4\"},\"line_alpha\":{\"value\":0.1},\"line_color\":{\"value\":\"#1f77b4\"},\"x\":{\"field\":\"x\"},\"y\":{\"field\":\"y\"}},\"id\":\"8a937ef8-8edd-4c65-8065-9e6b66dce2ff\",\"type\":\"Circle\"},{\"attributes\":{\"line_alpha\":0.1,\"line_color\":\"#1f77b4\",\"line_width\":1.5,\"x\":{\"field\":\"x\"},\"y\":{\"field\":\"y\"}},\"id\":\"8b6c2783-4b51-4b5c-a234-8eb2c4c762c7\",\"type\":\"Line\"},{\"attributes\":{\"fill_alpha\":{\"value\":0.7},\"fill_color\":{\"value\":\"#984ea3\"},\"line_alpha\":{\"value\":0.7},\"line_color\":{\"value\":\"#984ea3\"},\"x\":{\"field\":\"x\"},\"y\":{\"field\":\"y\"}},\"id\":\"c9979df7-2250-4cf4-802e-2dd4d0a6a424\",\"type\":\"Square\"},{\"attributes\":{\"data_source\":{\"id\":\"25ca79bd-3587-4ee8-bcf6-b37272e15c10\",\"type\":\"ColumnDataSource\"},\"glyph\":{\"id\":\"eaec3833-73dd-4ac4-8788-32d4965ebd22\",\"type\":\"Square\"},\"hover_glyph\":null,\"muted_glyph\":null,\"nonselection_glyph\":{\"id\":\"b4ef9fdc-b2bc-43c6-b506-acc9af33ed2f\",\"type\":\"Square\"},\"selection_glyph\":null,\"view\":{\"id\":\"8966de14-7d60-4750-83e9-5ccd46a77327\",\"type\":\"CDSView\"}},\"id\":\"49de8172-db50-47aa-9157-40921aba8cb4\",\"type\":\"GlyphRenderer\"},{\"attributes\":{\"callback\":null,\"data\":{\"x\":{\"__ndarray__\":\"QcXRtH/OEUAKGIVqZXIPQNVEPwNSqw1AlTvOXyeFC0BOgeFcU/kIQNU8THd9GQZAqahyQaAGA0AZqbAadNj/P6srpjoQBPo/rl3cRWn19D8n+m3OMuLwP8F3DCwMbus/4AQFBZM85j/qsBaF4SnhP5Ab0W8cBdo/1F8lL22L1z8RsjujT+rXP5A+1gvkCNg/mnXjcRoo2T+LVdG/J3XbP45vLQLext4/y0UHYw4G4j8BBS9axnHlP9Wr7iRd1eY/FlSgoR245T+E+vMH0OTjP7WGpbrI4uE/dE0WzHzl3z9rR1jhrs7cPxl62LYTE9s/J7UIpkl62T/M5bTQVlTXP+NPs4DirtU/HknISJxs1D/MXm+Ra4LSPw8xYFuZNNA/KNFEDgEPzT9aketElzHLPzWFAPIducg/W+ViFm1oxz96NO8TGHvSP0k/UQ90v+Y/K8gCnAg58j90RHIWsVz2P/n9qiGi+PU/7vSXY4Zh8T/AxTcMsmfsP6fqwJ4aRuc/gtWK4SzL4j/q4JAbSG3eP3Yt5BD8dNg/YyoFMwSI0j8Mt+UzyBPKP5oyCYLwCsE/dFmq58ustD/6XGgo2PqnP5QShnC/h5w/nItfR++qkj+EDMLX9KCJP3hoTLAmLYI/gjuzJJiwfD8s0CTOgfx3P3PmF7BxZHU/wmaeGbj0dD+mSFjdXWR3P6Yg+1Tt5n4/1u4W4srNhT+GX5P3B0mLP5KJGhtF44o/bdXfXQ11hD9u9h/UHDh6P8wHaYCwhXA/geF5cU/sZj+wRSdv/fVhP4yTadBOtaY/\",\"dtype\":\"float64\",\"shape\":[75]},\"y\":{\"__ndarray__\":\"GhExyth1ND/Sv8nbtpRIP2vylNV0PVE/aTum7souWD/At0SJ8fVgPw3Iuahxymc/MSNhhJWvcD/bTfBN02d3P2zb5nxnaoA/CD5h5MAGhz8NmeH1TyaQP+zrCsc9p5Y/LbKd76fGnz/bLW5ISEmmPww9YvTcQq8/JV2OstnstT8Er5Y7M8G+P0c+r3jqkcU/5h99k6ZBzj88bCIzFzjVP4enV8oyxN0//yH99nXg5D8qOpLLf0jtP5kqGJXUifQ/c9cS8kHP/D+/DpwzojQEQIEmwoanVwxA4lgXt9HgE0BSSZ2AJuIbQAMJih9jjiNA5q4l5INuK0AwTKYKRj0zQNv5fmq8/DpAaCJseHrtQkB/+zpwzoxKQM3MzMzMeFJAZmZmZmZqWEAAAAAAAFxeQM3MzMzMJmJAmpmZmZkfZUBmZmZmZhhoQDMzMzMzEWtAAAAAAAAKbkBmZmZmZoFwQM3MzMzM/XFAMzMzMzN6c0CamZmZmfZ0QAAAAAAAc3ZAZmZmZmbvd0DNzMzMzGt5QDMzMzMz6HpAmpmZmZlkfEAAAAAAAOF9QGZmZmZmXX9AZmZmZuZsgECamZmZGSuBQM3MzMxM6YFAAAAAAICngkAzMzMzs2WDQGZmZmbmI4RAmpmZmRnihEDNzMzMTKCFQAAAAACAXoZAMzMzM7Mch0BmZmZm5tqHQJqZmZkZmYhAzczMzExXiUAAAAAAgBWKQDMzMzOz04pAZmZmZuaRi0CamZmZGVCMQM3MzMxMDo1AAAAAAIDMjUAzMzMzs4qOQGZmZmbmSI9A\",\"dtype\":\"float64\",\"shape\":[75]}},\"selected\":{\"id\":\"d7a11162-813c-488e-8b18-f1d2647c5a37\",\"type\":\"Selection\"},\"selection_policy\":{\"id\":\"5cf7c020-d9c3-443b-b3aa-2e8bccfe99f5\",\"type\":\"UnionRenderers\"}},\"id\":\"4e477dd2-4c6a-48e6-83d7-0126de574514\",\"type\":\"ColumnDataSource\"},{\"attributes\":{\"dimension\":1,\"plot\":{\"id\":\"99997642-1027-45fd-b142-16fd35c2dc30\",\"subtype\":\"Figure\",\"type\":\"Plot\"},\"ticker\":{\"id\":\"303d3271-694b-4455-8cb2-e5b9f62b7df1\",\"type\":\"LogTicker\"}},\"id\":\"6384eb7f-2a6b-438a-9ccd-299938755bbb\",\"type\":\"Grid\"},{\"attributes\":{\"line_color\":\"#4daf4a\",\"line_width\":1.5,\"x\":{\"field\":\"x\"},\"y\":{\"field\":\"y\"}},\"id\":\"f66e7003-0443-42fd-aab7-e128b8bdd33f\",\"type\":\"Line\"},{\"attributes\":{\"plot\":null,\"text\":\"Linear pressure scale\"},\"id\":\"520bce22-4cd0-4381-b21f-f0f973da3960\",\"type\":\"Title\"},{\"attributes\":{},\"id\":\"130b0033-0eb7-4592-83c7-a978ebd6440f\",\"type\":\"PanTool\"},{\"attributes\":{\"callback\":null,\"end\":0.01,\"start\":1020},\"id\":\"79da99b9-61d7-42c2-be8f-653a347a31d0\",\"type\":\"Range1d\"},{\"attributes\":{},\"id\":\"3f2a1f0a-c62c-4941-8d23-44aa0de55e54\",\"type\":\"WheelZoomTool\"},{\"attributes\":{},\"id\":\"93c8a40e-afc6-4a5c-a677-93a6039ca9e3\",\"type\":\"Selection\"},{\"attributes\":{\"overlay\":{\"id\":\"8a7a20aa-6ac6-4a38-bea9-bf1b5e557a3f\",\"type\":\"BoxAnnotation\"}},\"id\":\"44bb00f2-6134-47c8-a783-40c3930db8b4\",\"type\":\"BoxZoomTool\"},{\"attributes\":{\"num_minor_ticks\":10},\"id\":\"303d3271-694b-4455-8cb2-e5b9f62b7df1\",\"type\":\"LogTicker\"},{\"attributes\":{\"fill_alpha\":{\"value\":0.1},\"fill_color\":{\"value\":\"#1f77b4\"},\"line_alpha\":{\"value\":0.1},\"line_color\":{\"value\":\"#1f77b4\"},\"x\":{\"field\":\"x\"},\"y\":{\"field\":\"y\"}},\"id\":\"825f78da-e17a-4a0c-b93b-4286063eaa40\",\"type\":\"Square\"},{\"attributes\":{\"source\":{\"id\":\"f5cec32c-b07c-4084-8353-322bc77d6afc\",\"type\":\"ColumnDataSource\"}},\"id\":\"5484556a-7a1a-4d7d-825c-a2f7144bfe37\",\"type\":\"CDSView\"},{\"attributes\":{\"fill_alpha\":{\"value\":0.7},\"fill_color\":{\"value\":\"#4daf4a\"},\"line_alpha\":{\"value\":0.7},\"line_color\":{\"value\":\"#4daf4a\"},\"x\":{\"field\":\"x\"},\"y\":{\"field\":\"y\"}},\"id\":\"1627efaf-ed57-4594-a257-71a686bc65b2\",\"type\":\"Circle\"},{\"attributes\":{},\"id\":\"fe8fc6b2-5d46-40c7-8c83-e8fbd4a79366\",\"type\":\"Selection\"},{\"attributes\":{\"below\":[{\"id\":\"00092255-f9bc-4fdd-868d-41a4c68bbf10\",\"type\":\"LinearAxis\"}],\"left\":[{\"id\":\"118bba9e-3c4a-472e-ab0b-3ca6ad5736ae\",\"type\":\"LinearAxis\"}],\"plot_height\":500,\"plot_width\":400,\"renderers\":[{\"id\":\"00092255-f9bc-4fdd-868d-41a4c68bbf10\",\"type\":\"LinearAxis\"},{\"id\":\"ecad8a8f-0e03-4b19-a8f2-f84766b54b23\",\"type\":\"Grid\"},{\"id\":\"118bba9e-3c4a-472e-ab0b-3ca6ad5736ae\",\"type\":\"LinearAxis\"},{\"id\":\"75fbb1da-80f9-46d5-a94b-9e115da6db0d\",\"type\":\"Grid\"},{\"id\":\"12b9da5b-7552-4afa-9de8-5852a70ad1d4\",\"type\":\"BoxAnnotation\"},{\"id\":\"bfe55b0c-82d4-463c-88ed-ce39e24eb395\",\"type\":\"GlyphRenderer\"},{\"id\":\"3e609c6e-bb3c-457a-9d0e-3c7b0519b290\",\"type\":\"GlyphRenderer\"},{\"id\":\"29a5e5cd-82c9-4954-a9c3-0487f11cc333\",\"type\":\"GlyphRenderer\"},{\"id\":\"49de8172-db50-47aa-9157-40921aba8cb4\",\"type\":\"GlyphRenderer\"},{\"id\":\"6a55ba40-cd44-40a6-8455-d0779afc9caa\",\"type\":\"GlyphRenderer\"}],\"title\":{\"id\":\"520bce22-4cd0-4381-b21f-f0f973da3960\",\"type\":\"Title\"},\"toolbar\":{\"id\":\"b377d97e-1e8a-42a1-90fe-fd54e9d2c183\",\"type\":\"Toolbar\"},\"toolbar_location\":null,\"x_range\":{\"id\":\"3802b59f-0e3f-4af7-ae95-fca45307b3b6\",\"type\":\"Range1d\"},\"x_scale\":{\"id\":\"9c907f79-67fe-41b4-930a-4d5deed4e8a9\",\"type\":\"LinearScale\"},\"y_range\":{\"id\":\"79da99b9-61d7-42c2-be8f-653a347a31d0\",\"type\":\"Range1d\"},\"y_scale\":{\"id\":\"a172bbc2-9445-4881-9cf7-a188decd588b\",\"type\":\"LinearScale\"}},\"id\":\"ccc84ab2-b8be-418f-815a-eb17459be857\",\"subtype\":\"Figure\",\"type\":\"Plot\"},{\"attributes\":{\"source\":{\"id\":\"8d0a1735-dc3c-4ea5-92ac-69419c6cb6d9\",\"type\":\"ColumnDataSource\"}},\"id\":\"9661c608-6918-460b-9d3a-e086e0012e86\",\"type\":\"CDSView\"},{\"attributes\":{},\"id\":\"52e8a99d-a47c-4347-88f1-61b84c078ae8\",\"type\":\"BasicTicker\"},{\"attributes\":{},\"id\":\"a172bbc2-9445-4881-9cf7-a188decd588b\",\"type\":\"LinearScale\"},{\"attributes\":{\"axis_label\":\"pressure [mb]\",\"formatter\":{\"id\":\"0de456aa-d8a1-4092-9c94-17938580a74f\",\"type\":\"LogTickFormatter\"},\"plot\":{\"id\":\"99997642-1027-45fd-b142-16fd35c2dc30\",\"subtype\":\"Figure\",\"type\":\"Plot\"},\"ticker\":{\"id\":\"303d3271-694b-4455-8cb2-e5b9f62b7df1\",\"type\":\"LogTicker\"}},\"id\":\"556749f8-1d3e-482b-9ab8-d62c6b3577f0\",\"type\":\"LogAxis\"},{\"attributes\":{},\"id\":\"6ef3de25-2abd-4ed5-bf49-2ce09c4b2e0d\",\"type\":\"UnionRenderers\"},{\"attributes\":{\"source\":{\"id\":\"dfafd51b-071b-429e-a020-3c12836b364d\",\"type\":\"ColumnDataSource\"}},\"id\":\"275be0b9-49ba-4fdf-bcc4-408b8c04a46a\",\"type\":\"CDSView\"},{\"attributes\":{\"fill_alpha\":{\"value\":0.7},\"fill_color\":{\"value\":\"#984ea3\"},\"line_alpha\":{\"value\":0.7},\"line_color\":{\"value\":\"#984ea3\"},\"x\":{\"field\":\"x\"},\"y\":{\"field\":\"y\"}},\"id\":\"eaec3833-73dd-4ac4-8788-32d4965ebd22\",\"type\":\"Square\"},{\"attributes\":{\"source\":{\"id\":\"4e477dd2-4c6a-48e6-83d7-0126de574514\",\"type\":\"ColumnDataSource\"}},\"id\":\"1142263f-d968-4b17-9bac-144f4ad2b281\",\"type\":\"CDSView\"},{\"attributes\":{\"axis_label\":\"cooling rate [K/day]\",\"formatter\":{\"id\":\"1593cad3-e8ec-4316-a156-ebfe76154457\",\"type\":\"BasicTickFormatter\"},\"plot\":{\"id\":\"99997642-1027-45fd-b142-16fd35c2dc30\",\"subtype\":\"Figure\",\"type\":\"Plot\"},\"ticker\":{\"id\":\"52e8a99d-a47c-4347-88f1-61b84c078ae8\",\"type\":\"BasicTicker\"}},\"id\":\"d5b216db-be7f-4597-acd0-4bec8a3980e2\",\"type\":\"LinearAxis\"},{\"attributes\":{\"data_source\":{\"id\":\"4e477dd2-4c6a-48e6-83d7-0126de574514\",\"type\":\"ColumnDataSource\"},\"glyph\":{\"id\":\"c9979df7-2250-4cf4-802e-2dd4d0a6a424\",\"type\":\"Square\"},\"hover_glyph\":null,\"muted_glyph\":null,\"nonselection_glyph\":{\"id\":\"825f78da-e17a-4a0c-b93b-4286063eaa40\",\"type\":\"Square\"},\"selection_glyph\":null,\"view\":{\"id\":\"1142263f-d968-4b17-9bac-144f4ad2b281\",\"type\":\"CDSView\"}},\"id\":\"2429ca32-f24e-4ec7-9d55-2cdf977bcb7b\",\"type\":\"GlyphRenderer\"},{\"attributes\":{\"line_alpha\":0.1,\"line_color\":\"#1f77b4\",\"line_width\":1.5,\"x\":{\"field\":\"x\"},\"y\":{\"field\":\"y\"}},\"id\":\"42fb7d0b-5891-4cd1-bb8f-913a98eb6b5a\",\"type\":\"Line\"},{\"attributes\":{},\"id\":\"6b799321-7879-44fd-8f2e-188a2ccd77cb\",\"type\":\"UnionRenderers\"},{\"attributes\":{},\"id\":\"84dd0eda-5db7-4422-9446-aba528dd161e\",\"type\":\"LinearScale\"},{\"attributes\":{\"callback\":null,\"data\":{\"x\":{\"__ndarray__\":\"4W2Uqw4nGkCqvB3htDgUQIhp39xfHRJAcnVbfdDuD0AnfnuNE7ULQC/NvjyutwdA6q9XWHAPBEDni70XX8QAQB85LdOKqvs/xV0YRP9/9j907na9NAXyP+M/1c84YOw/rUVVXdHX5T9KITWSqeffP9eI/fGgkdc/oi85xRVd1j8VszWNswrYP0z8tP5UpNg/+QhGbwJd2T/NmnF9zMXaPzr6RhGlP90/NGCYZbLM4D9Wilc4zWvjP/F2azbiy+M/KpgplCJF4j9xjp1kae/gP+JSnScBnt8//UkAJ6mG3T/vPExWoLHbP/QYJ7ZpCdo/1rvLh5g52D8sNnvawCHWP3DEpAklXdQ/D0c22wUY0z+629TEK57RP9Enj/otss8/J1I3oyhIzT+2l37TBQbMP8+c3Iwm2ck/rHH0AC+WyD80NDveJhTTP/4pE4YaCOc/iOZLuQxJ8j/wBXexevH1P8MdXsYD4PU/uxCrP8Jw8T/6D2V/C/jrP3X3a3ibU+c/uU7IcyKG4z/REUx3zwjgP6LWbprCc9k/hjqscMsH0z/9I4BZqTnLP8ISUURtuMI/MCoyBS65uD8JkDEPSqyvPwaJtUSjRaQ/y73P133emj8juwrdsGORP6Ijr4oUI4c/XBdqjFfSgD93pJ2CU5J6P2xx5D1iBnc/aj0ZJk4Ddj9vj1LHMhZ4PzXjhdQzVH8/RNrTyarshT+n3TusaFqLP4liHYf07Yo/rAaeiPB5hD+iCudprDx6P+k5K+PUh3A/XNIThijuZj+rmgpz7vZhP8hbz4xVtaY/\",\"dtype\":\"float64\",\"shape\":[75]},\"y\":{\"__ndarray__\":\"GhExyth1ND/Sv8nbtpRIP2vylNV0PVE/aTum7souWD/At0SJ8fVgPw3Iuahxymc/MSNhhJWvcD/bTfBN02d3P2zb5nxnaoA/CD5h5MAGhz8NmeH1TyaQP+zrCsc9p5Y/LbKd76fGnz/bLW5ISEmmPww9YvTcQq8/JV2OstnstT8Er5Y7M8G+P0c+r3jqkcU/5h99k6ZBzj88bCIzFzjVP4enV8oyxN0//yH99nXg5D8qOpLLf0jtP5kqGJXUifQ/c9cS8kHP/D+/DpwzojQEQIEmwoanVwxA4lgXt9HgE0BSSZ2AJuIbQAMJih9jjiNA5q4l5INuK0AwTKYKRj0zQNv5fmq8/DpAaCJseHrtQkB/+zpwzoxKQM3MzMzMeFJAZmZmZmZqWEAAAAAAAFxeQM3MzMzMJmJAmpmZmZkfZUBmZmZmZhhoQDMzMzMzEWtAAAAAAAAKbkBmZmZmZoFwQM3MzMzM/XFAMzMzMzN6c0CamZmZmfZ0QAAAAAAAc3ZAZmZmZmbvd0DNzMzMzGt5QDMzMzMz6HpAmpmZmZlkfEAAAAAAAOF9QGZmZmZmXX9AZmZmZuZsgECamZmZGSuBQM3MzMxM6YFAAAAAAICngkAzMzMzs2WDQGZmZmbmI4RAmpmZmRnihEDNzMzMTKCFQAAAAACAXoZAMzMzM7Mch0BmZmZm5tqHQJqZmZkZmYhAzczMzExXiUAAAAAAgBWKQDMzMzOz04pAZmZmZuaRi0CamZmZGVCMQM3MzMxMDo1AAAAAAIDMjUAzMzMzs4qOQGZmZmbmSI9A\",\"dtype\":\"float64\",\"shape\":[75]}},\"selected\":{\"id\":\"f5e68b53-2e2e-45ca-88b9-6f77d6f0136d\",\"type\":\"Selection\"},\"selection_policy\":{\"id\":\"9db3f6ad-768f-4a1c-ad48-75262d5c583a\",\"type\":\"UnionRenderers\"}},\"id\":\"8d0a1735-dc3c-4ea5-92ac-69419c6cb6d9\",\"type\":\"ColumnDataSource\"},{\"attributes\":{\"data_source\":{\"id\":\"9fdded24-8196-45e4-a21d-b017c6f0fc27\",\"type\":\"ColumnDataSource\"},\"glyph\":{\"id\":\"676fbc6c-6c83-475c-9f00-35af26161931\",\"type\":\"Line\"},\"hover_glyph\":null,\"muted_glyph\":null,\"nonselection_glyph\":{\"id\":\"922fcbb9-1ace-48ed-8f08-b8519c889a85\",\"type\":\"Line\"},\"selection_glyph\":null,\"view\":{\"id\":\"d7002f7d-8a0e-4ff4-b467-fc4fc3d9afa8\",\"type\":\"CDSView\"}},\"id\":\"bfe55b0c-82d4-463c-88ed-ce39e24eb395\",\"type\":\"GlyphRenderer\"},{\"attributes\":{\"data_source\":{\"id\":\"f5cec32c-b07c-4084-8353-322bc77d6afc\",\"type\":\"ColumnDataSource\"},\"glyph\":{\"id\":\"0abc2f3b-ac07-4bcd-b54c-07d9d54c02f3\",\"type\":\"Circle\"},\"hover_glyph\":null,\"muted_glyph\":null,\"nonselection_glyph\":{\"id\":\"928674aa-643e-4db1-a414-6ca53d5651ef\",\"type\":\"Circle\"},\"selection_glyph\":null,\"view\":{\"id\":\"5484556a-7a1a-4d7d-825c-a2f7144bfe37\",\"type\":\"CDSView\"}},\"id\":\"3e609c6e-bb3c-457a-9d0e-3c7b0519b290\",\"type\":\"GlyphRenderer\"},{\"attributes\":{\"fill_alpha\":{\"value\":0.1},\"fill_color\":{\"value\":\"#1f77b4\"},\"line_alpha\":{\"value\":0.1},\"line_color\":{\"value\":\"#1f77b4\"},\"x\":{\"field\":\"x\"},\"y\":{\"field\":\"y\"}},\"id\":\"928674aa-643e-4db1-a414-6ca53d5651ef\",\"type\":\"Circle\"},{\"attributes\":{\"callback\":null,\"data\":{\"x\":{\"__ndarray__\":\"QcXRtH/OEUAKGIVqZXIPQNVEPwNSqw1AlTvOXyeFC0BOgeFcU/kIQNU8THd9GQZAqahyQaAGA0AZqbAadNj/P6srpjoQBPo/rl3cRWn19D8n+m3OMuLwP8F3DCwMbus/4AQFBZM85j/qsBaF4SnhP5Ab0W8cBdo/1F8lL22L1z8RsjujT+rXP5A+1gvkCNg/mnXjcRoo2T+LVdG/J3XbP45vLQLext4/y0UHYw4G4j8BBS9axnHlP9Wr7iRd1eY/FlSgoR245T+E+vMH0OTjP7WGpbrI4uE/dE0WzHzl3z9rR1jhrs7cPxl62LYTE9s/J7UIpkl62T/M5bTQVlTXP+NPs4DirtU/HknISJxs1D/MXm+Ra4LSPw8xYFuZNNA/KNFEDgEPzT9aketElzHLPzWFAPIducg/W+ViFm1oxz96NO8TGHvSP0k/UQ90v+Y/K8gCnAg58j90RHIWsVz2P/n9qiGi+PU/7vSXY4Zh8T/AxTcMsmfsP6fqwJ4aRuc/gtWK4SzL4j/q4JAbSG3eP3Yt5BD8dNg/YyoFMwSI0j8Mt+UzyBPKP5oyCYLwCsE/dFmq58ustD/6XGgo2PqnP5QShnC/h5w/nItfR++qkj+EDMLX9KCJP3hoTLAmLYI/gjuzJJiwfD8s0CTOgfx3P3PmF7BxZHU/wmaeGbj0dD+mSFjdXWR3P6Yg+1Tt5n4/1u4W4srNhT+GX5P3B0mLP5KJGhtF44o/bdXfXQ11hD9u9h/UHDh6P8wHaYCwhXA/geF5cU/sZj+wRSdv/fVhP4yTadBOtaY/\",\"dtype\":\"float64\",\"shape\":[75]},\"y\":{\"__ndarray__\":\"GhExyth1ND/Sv8nbtpRIP2vylNV0PVE/aTum7souWD/At0SJ8fVgPw3Iuahxymc/MSNhhJWvcD/bTfBN02d3P2zb5nxnaoA/CD5h5MAGhz8NmeH1TyaQP+zrCsc9p5Y/LbKd76fGnz/bLW5ISEmmPww9YvTcQq8/JV2OstnstT8Er5Y7M8G+P0c+r3jqkcU/5h99k6ZBzj88bCIzFzjVP4enV8oyxN0//yH99nXg5D8qOpLLf0jtP5kqGJXUifQ/c9cS8kHP/D+/DpwzojQEQIEmwoanVwxA4lgXt9HgE0BSSZ2AJuIbQAMJih9jjiNA5q4l5INuK0AwTKYKRj0zQNv5fmq8/DpAaCJseHrtQkB/+zpwzoxKQM3MzMzMeFJAZmZmZmZqWEAAAAAAAFxeQM3MzMzMJmJAmpmZmZkfZUBmZmZmZhhoQDMzMzMzEWtAAAAAAAAKbkBmZmZmZoFwQM3MzMzM/XFAMzMzMzN6c0CamZmZmfZ0QAAAAAAAc3ZAZmZmZmbvd0DNzMzMzGt5QDMzMzMz6HpAmpmZmZlkfEAAAAAAAOF9QGZmZmZmXX9AZmZmZuZsgECamZmZGSuBQM3MzMxM6YFAAAAAAICngkAzMzMzs2WDQGZmZmbmI4RAmpmZmRnihEDNzMzMTKCFQAAAAACAXoZAMzMzM7Mch0BmZmZm5tqHQJqZmZkZmYhAzczMzExXiUAAAAAAgBWKQDMzMzOz04pAZmZmZuaRi0CamZmZGVCMQM3MzMxMDo1AAAAAAIDMjUAzMzMzs4qOQGZmZmbmSI9A\",\"dtype\":\"float64\",\"shape\":[75]}},\"selected\":{\"id\":\"87b43514-f12d-4a46-a3d2-80d27e01483d\",\"type\":\"Selection\"},\"selection_policy\":{\"id\":\"fa7cd391-7580-4f13-9a3f-3d44afda6195\",\"type\":\"UnionRenderers\"}},\"id\":\"25ca79bd-3587-4ee8-bcf6-b37272e15c10\",\"type\":\"ColumnDataSource\"},{\"attributes\":{},\"id\":\"22310c73-c658-433c-b285-da17d85cc93e\",\"type\":\"LogScale\"},{\"attributes\":{\"active_drag\":\"auto\",\"active_inspect\":\"auto\",\"active_scroll\":\"auto\",\"active_tap\":\"auto\",\"tools\":[{\"id\":\"90cac9ef-380d-4616-8294-3bb68903c211\",\"type\":\"PanTool\"},{\"id\":\"a462b642-8a06-464d-b438-e176b4b488b0\",\"type\":\"WheelZoomTool\"},{\"id\":\"8b66de20-d74f-4b3b-b0a5-c4bbdafc2850\",\"type\":\"BoxZoomTool\"},{\"id\":\"337c6d98-0d24-4dfd-a587-f39452ace8bb\",\"type\":\"SaveTool\"},{\"id\":\"9707c65f-b111-4edf-9831-557af00dc4b0\",\"type\":\"ResetTool\"},{\"id\":\"c01ce5e4-d9c0-49c2-9139-434e92cde5dd\",\"type\":\"HelpTool\"}]},\"id\":\"b377d97e-1e8a-42a1-90fe-fd54e9d2c183\",\"type\":\"Toolbar\"},{\"attributes\":{\"source\":{\"id\":\"843a507a-a322-423a-9327-7cf7da5b7425\",\"type\":\"ColumnDataSource\"}},\"id\":\"53b860cb-6bfd-4475-a2a0-b5c8ec171a1c\",\"type\":\"CDSView\"},{\"attributes\":{},\"id\":\"500698ab-b0ed-4a56-a168-71c75d4aa614\",\"type\":\"SaveTool\"},{\"attributes\":{\"plot\":{\"id\":\"99997642-1027-45fd-b142-16fd35c2dc30\",\"subtype\":\"Figure\",\"type\":\"Plot\"},\"ticker\":{\"id\":\"52e8a99d-a47c-4347-88f1-61b84c078ae8\",\"type\":\"BasicTicker\"}},\"id\":\"e5d557db-8666-49ab-a127-e2722351ba3e\",\"type\":\"Grid\"},{\"attributes\":{\"source\":{\"id\":\"25ca79bd-3587-4ee8-bcf6-b37272e15c10\",\"type\":\"ColumnDataSource\"}},\"id\":\"8966de14-7d60-4750-83e9-5ccd46a77327\",\"type\":\"CDSView\"},{\"attributes\":{\"active_drag\":\"auto\",\"active_inspect\":\"auto\",\"active_scroll\":\"auto\",\"active_tap\":\"auto\",\"tools\":[{\"id\":\"130b0033-0eb7-4592-83c7-a978ebd6440f\",\"type\":\"PanTool\"},{\"id\":\"3f2a1f0a-c62c-4941-8d23-44aa0de55e54\",\"type\":\"WheelZoomTool\"},{\"id\":\"44bb00f2-6134-47c8-a783-40c3930db8b4\",\"type\":\"BoxZoomTool\"},{\"id\":\"500698ab-b0ed-4a56-a168-71c75d4aa614\",\"type\":\"SaveTool\"},{\"id\":\"cf43e34d-c2f9-4b5a-b44c-0a3c7e5ddaf3\",\"type\":\"ResetTool\"},{\"id\":\"b7a9931e-fc3c-4f0c-82fd-1327b5a91a1d\",\"type\":\"HelpTool\"}]},\"id\":\"53eb1cc0-fbd1-411b-8921-561589dbb476\",\"type\":\"Toolbar\"},{\"attributes\":{\"line_color\":\"#4daf4a\",\"line_width\":1.5,\"x\":{\"field\":\"x\"},\"y\":{\"field\":\"y\"}},\"id\":\"07c0e9f3-1590-4448-80f1-681dc9a76de0\",\"type\":\"Line\"},{\"attributes\":{\"callback\":null,\"data\":{\"x\":{\"__ndarray__\":\"T9/X7VhxD0BtrS8S2lINQPyUGSWeQgxAAlfDj3vECkA/SXDZ18AIQDlCBvLsMgZAgfivYqcuA0Dj2eVbH9b/P3PZ6Jyfgvk/qpPYWgQr9D+DpiVWRkPwP4ksToyXFOs/JuyyyhKe5j9akk0DULbhP9Rc8mh4bdo/jFK+dwbT1j8wCNWbi17WP+KcxxejZNY/C8XrNLHE1z8NpZtpZ/3ZP/7hGfpIhtw/O7Ur2yRS4D++0XV+3YvjPxPqr3hmOeU/GZC93v2R5D+2/WXW1tjiP4A2SV5jGOE/DQtBUGbq3T/av9tR1s7aP4d++abhgtk/PyArUyf71z8l9RIhfazVP/avD1/kbdQ/CzLZqupG0z9V4pV/iGjRPxQinvTXjs4/BUTzxmrvyj8MC+aW8xjJP8llLx1rLcc/EzDTWdpnxj8LKiZGAejRP7SitNTNJ+Y/hO43f7jw8T+i3wicttD2P/jq9M1HI/Y/voV1492x8T+cdHS/t8ftPxFqK5veKug/EpPkd6Jd4z+G2j79yhfgP1EYzhS+p9o/YgVLtx0B1D9iV0kaksnKP4h2wglUGMA//R6AyrTasT+8QQDl+VCjP08SJwRmFpc/uChV0CQZkD9bwyEochmHP8RqS9zsSIE/5nBQ8/M1ez8d0cRJD7t2P/qoyGKQdHQ/qmlLoPd0dD9PnrgvbgJ3P7eSSi5H034/q6ga7VO2hT/otpN0DEmLP/VhuJhx44o/zyH6g3JzhD+yibAHsTh6P8IA+cMsg3A/1wvoOtL2Zj8rkTuZNflhP2UnHnj+sqY/\",\"dtype\":\"float64\",\"shape\":[75]},\"y\":{\"__ndarray__\":\"S/O/Q+51ND/Sv8nbtpRIP2vylNV0PVE/aTum7souWD/At0SJ8fVgPw3Iuahxymc/MSNhhJWvcD/bTfBN02d3P2zb5nxnaoA/CD5h5MAGhz8NmeH1TyaQP+zrCsc9p5Y/LbKd76fGnz/bLW5ISEmmPww9YvTcQq8/JV2OstnstT8Er5Y7M8G+P0c+r3jqkcU/5h99k6ZBzj88bCIzFzjVP4enV8oyxN0//yH99nXg5D8qOpLLf0jtP5kqGJXUifQ/c9cS8kHP/D+/DpwzojQEQIEmwoanVwxA4lgXt9HgE0BSSZ2AJuIbQAMJih9jjiNA5q4l5INuK0AwTKYKRj0zQNv5fmq8/DpAaCJseHrtQkB/+zpwzoxKQM3MzMzMeFJAZmZmZmZqWEAAAAAAAFxeQM3MzMzMJmJAmpmZmZkfZUBmZmZmZhhoQDMzMzMzEWtAAAAAAAAKbkBmZmZmZoFwQM3MzMzM/XFAMzMzMzN6c0CamZmZmfZ0QAAAAAAAc3ZAZmZmZmbvd0DNzMzMzGt5QDMzMzMz6HpAmpmZmZlkfEAAAAAAAOF9QGZmZmZmXX9AZmZmZuZsgECamZmZGSuBQM3MzMxM6YFAAAAAAICngkAzMzMzs2WDQGZmZmbmI4RAmpmZmRnihEDNzMzMTKCFQAAAAACAXoZAMzMzM7Mch0BmZmZm5tqHQJqZmZkZmYhAzczMzExXiUAAAAAAgBWKQDMzMzOz04pAZmZmZuaRi0CamZmZGVCMQM3MzMxMDo1AAAAAAIDMjUAzMzMzs4qOQGZmZmbmSI9A\",\"dtype\":\"float64\",\"shape\":[75]}},\"selected\":{\"id\":\"9d30903d-a05c-49d0-8a2e-cf608090c950\",\"type\":\"Selection\"},\"selection_policy\":{\"id\":\"6d83ce01-bfd7-4425-a100-0f4bdf2777d0\",\"type\":\"UnionRenderers\"}},\"id\":\"185cbd18-e052-4ec7-b884-e7f99e34e78b\",\"type\":\"ColumnDataSource\"},{\"attributes\":{\"data_source\":{\"id\":\"8d0a1735-dc3c-4ea5-92ac-69419c6cb6d9\",\"type\":\"ColumnDataSource\"},\"glyph\":{\"id\":\"07c0e9f3-1590-4448-80f1-681dc9a76de0\",\"type\":\"Line\"},\"hover_glyph\":null,\"muted_glyph\":null,\"nonselection_glyph\":{\"id\":\"42fb7d0b-5891-4cd1-bb8f-913a98eb6b5a\",\"type\":\"Line\"},\"selection_glyph\":null,\"view\":{\"id\":\"9661c608-6918-460b-9d3a-e086e0012e86\",\"type\":\"CDSView\"}},\"id\":\"29a5e5cd-82c9-4954-a9c3-0487f11cc333\",\"type\":\"GlyphRenderer\"},{\"attributes\":{\"callback\":null,\"end\":1.4185613496,\"start\":0.16273229039999998},\"id\":\"9d910517-eb20-4ab7-b024-3113d539e12b\",\"type\":\"Range1d\"},{\"attributes\":{\"data_source\":{\"id\":\"843a507a-a322-423a-9327-7cf7da5b7425\",\"type\":\"ColumnDataSource\"},\"glyph\":{\"id\":\"1627efaf-ed57-4594-a257-71a686bc65b2\",\"type\":\"Circle\"},\"hover_glyph\":null,\"muted_glyph\":null,\"nonselection_glyph\":{\"id\":\"8a937ef8-8edd-4c65-8065-9e6b66dce2ff\",\"type\":\"Circle\"},\"selection_glyph\":null,\"view\":{\"id\":\"53b860cb-6bfd-4475-a2a0-b5c8ec171a1c\",\"type\":\"CDSView\"}},\"id\":\"4fad7b04-b61b-47cb-86f5-667db1268ab1\",\"type\":\"GlyphRenderer\"},{\"attributes\":{\"callback\":null,\"data\":{\"x\":{\"__ndarray__\":\"4W2Uqw4nGkCqvB3htDgUQIhp39xfHRJAcnVbfdDuD0AnfnuNE7ULQC/NvjyutwdA6q9XWHAPBEDni70XX8QAQB85LdOKqvs/xV0YRP9/9j907na9NAXyP+M/1c84YOw/rUVVXdHX5T9KITWSqeffP9eI/fGgkdc/oi85xRVd1j8VszWNswrYP0z8tP5UpNg/+QhGbwJd2T/NmnF9zMXaPzr6RhGlP90/NGCYZbLM4D9Wilc4zWvjP/F2azbiy+M/KpgplCJF4j9xjp1kae/gP+JSnScBnt8//UkAJ6mG3T/vPExWoLHbP/QYJ7ZpCdo/1rvLh5g52D8sNnvawCHWP3DEpAklXdQ/D0c22wUY0z+629TEK57RP9Enj/otss8/J1I3oyhIzT+2l37TBQbMP8+c3Iwm2ck/rHH0AC+WyD80NDveJhTTP/4pE4YaCOc/iOZLuQxJ8j/wBXexevH1P8MdXsYD4PU/uxCrP8Jw8T/6D2V/C/jrP3X3a3ibU+c/uU7IcyKG4z/REUx3zwjgP6LWbprCc9k/hjqscMsH0z/9I4BZqTnLP8ISUURtuMI/MCoyBS65uD8JkDEPSqyvPwaJtUSjRaQ/y73P133emj8juwrdsGORP6Ijr4oUI4c/XBdqjFfSgD93pJ2CU5J6P2xx5D1iBnc/aj0ZJk4Ddj9vj1LHMhZ4PzXjhdQzVH8/RNrTyarshT+n3TusaFqLP4liHYf07Yo/rAaeiPB5hD+iCudprDx6P+k5K+PUh3A/XNIThijuZj+rmgpz7vZhP8hbz4xVtaY/\",\"dtype\":\"float64\",\"shape\":[75]},\"y\":{\"__ndarray__\":\"GhExyth1ND/Sv8nbtpRIP2vylNV0PVE/aTum7souWD/At0SJ8fVgPw3Iuahxymc/MSNhhJWvcD/bTfBN02d3P2zb5nxnaoA/CD5h5MAGhz8NmeH1TyaQP+zrCsc9p5Y/LbKd76fGnz/bLW5ISEmmPww9YvTcQq8/JV2OstnstT8Er5Y7M8G+P0c+r3jqkcU/5h99k6ZBzj88bCIzFzjVP4enV8oyxN0//yH99nXg5D8qOpLLf0jtP5kqGJXUifQ/c9cS8kHP/D+/DpwzojQEQIEmwoanVwxA4lgXt9HgE0BSSZ2AJuIbQAMJih9jjiNA5q4l5INuK0AwTKYKRj0zQNv5fmq8/DpAaCJseHrtQkB/+zpwzoxKQM3MzMzMeFJAZmZmZmZqWEAAAAAAAFxeQM3MzMzMJmJAmpmZmZkfZUBmZmZmZhhoQDMzMzMzEWtAAAAAAAAKbkBmZmZmZoFwQM3MzMzM/XFAMzMzMzN6c0CamZmZmfZ0QAAAAAAAc3ZAZmZmZmbvd0DNzMzMzGt5QDMzMzMz6HpAmpmZmZlkfEAAAAAAAOF9QGZmZmZmXX9AZmZmZuZsgECamZmZGSuBQM3MzMxM6YFAAAAAAICngkAzMzMzs2WDQGZmZmbmI4RAmpmZmRnihEDNzMzMTKCFQAAAAACAXoZAMzMzM7Mch0BmZmZm5tqHQJqZmZkZmYhAzczMzExXiUAAAAAAgBWKQDMzMzOz04pAZmZmZuaRi0CamZmZGVCMQM3MzMxMDo1AAAAAAIDMjUAzMzMzs4qOQGZmZmbmSI9A\",\"dtype\":\"float64\",\"shape\":[75]}},\"selected\":{\"id\":\"93c8a40e-afc6-4a5c-a677-93a6039ca9e3\",\"type\":\"Selection\"},\"selection_policy\":{\"id\":\"6b799321-7879-44fd-8f2e-188a2ccd77cb\",\"type\":\"UnionRenderers\"}},\"id\":\"f5cec32c-b07c-4084-8353-322bc77d6afc\",\"type\":\"ColumnDataSource\"},{\"attributes\":{\"plot\":null,\"text\":\"Log pressure scale\"},\"id\":\"6fef3f6a-2de2-4da9-b8a1-69b82f90678e\",\"type\":\"Title\"},{\"attributes\":{\"callback\":null,\"data\":{\"x\":{\"__ndarray__\":\"QcXRtH/OEUAKGIVqZXIPQNVEPwNSqw1AlTvOXyeFC0BOgeFcU/kIQNU8THd9GQZAqahyQaAGA0AZqbAadNj/P6srpjoQBPo/rl3cRWn19D8n+m3OMuLwP8F3DCwMbus/4AQFBZM85j/qsBaF4SnhP5Ab0W8cBdo/1F8lL22L1z8RsjujT+rXP5A+1gvkCNg/mnXjcRoo2T+LVdG/J3XbP45vLQLext4/y0UHYw4G4j8BBS9axnHlP9Wr7iRd1eY/FlSgoR245T+E+vMH0OTjP7WGpbrI4uE/dE0WzHzl3z9rR1jhrs7cPxl62LYTE9s/J7UIpkl62T/M5bTQVlTXP+NPs4DirtU/HknISJxs1D/MXm+Ra4LSPw8xYFuZNNA/KNFEDgEPzT9aketElzHLPzWFAPIducg/W+ViFm1oxz96NO8TGHvSP0k/UQ90v+Y/K8gCnAg58j90RHIWsVz2P/n9qiGi+PU/7vSXY4Zh8T/AxTcMsmfsP6fqwJ4aRuc/gtWK4SzL4j/q4JAbSG3eP3Yt5BD8dNg/YyoFMwSI0j8Mt+UzyBPKP5oyCYLwCsE/dFmq58ustD/6XGgo2PqnP5QShnC/h5w/nItfR++qkj+EDMLX9KCJP3hoTLAmLYI/gjuzJJiwfD8s0CTOgfx3P3PmF7BxZHU/wmaeGbj0dD+mSFjdXWR3P6Yg+1Tt5n4/1u4W4srNhT+GX5P3B0mLP5KJGhtF44o/bdXfXQ11hD9u9h/UHDh6P8wHaYCwhXA/geF5cU/sZj+wRSdv/fVhP4yTadBOtaY/\",\"dtype\":\"float64\",\"shape\":[75]},\"y\":{\"__ndarray__\":\"GhExyth1ND/Sv8nbtpRIP2vylNV0PVE/aTum7souWD/At0SJ8fVgPw3Iuahxymc/MSNhhJWvcD/bTfBN02d3P2zb5nxnaoA/CD5h5MAGhz8NmeH1TyaQP+zrCsc9p5Y/LbKd76fGnz/bLW5ISEmmPww9YvTcQq8/JV2OstnstT8Er5Y7M8G+P0c+r3jqkcU/5h99k6ZBzj88bCIzFzjVP4enV8oyxN0//yH99nXg5D8qOpLLf0jtP5kqGJXUifQ/c9cS8kHP/D+/DpwzojQEQIEmwoanVwxA4lgXt9HgE0BSSZ2AJuIbQAMJih9jjiNA5q4l5INuK0AwTKYKRj0zQNv5fmq8/DpAaCJseHrtQkB/+zpwzoxKQM3MzMzMeFJAZmZmZmZqWEAAAAAAAFxeQM3MzMzMJmJAmpmZmZkfZUBmZmZmZhhoQDMzMzMzEWtAAAAAAAAKbkBmZmZmZoFwQM3MzMzM/XFAMzMzMzN6c0CamZmZmfZ0QAAAAAAAc3ZAZmZmZmbvd0DNzMzMzGt5QDMzMzMz6HpAmpmZmZlkfEAAAAAAAOF9QGZmZmZmXX9AZmZmZuZsgECamZmZGSuBQM3MzMxM6YFAAAAAAICngkAzMzMzs2WDQGZmZmbmI4RAmpmZmRnihEDNzMzMTKCFQAAAAACAXoZAMzMzM7Mch0BmZmZm5tqHQJqZmZkZmYhAzczMzExXiUAAAAAAgBWKQDMzMzOz04pAZmZmZuaRi0CamZmZGVCMQM3MzMxMDo1AAAAAAIDMjUAzMzMzs4qOQGZmZmbmSI9A\",\"dtype\":\"float64\",\"shape\":[75]}},\"selected\":{\"id\":\"53aeaef7-e435-478b-a9b5-691dcdc7d9c1\",\"type\":\"Selection\"},\"selection_policy\":{\"id\":\"c1fb7cc2-1f38-4ca4-b4ac-293e1fd6e2a4\",\"type\":\"UnionRenderers\"}},\"id\":\"f17a677c-8fa5-456b-bc3c-6141a5d752d5\",\"type\":\"ColumnDataSource\"},{\"attributes\":{\"fill_alpha\":{\"value\":0.7},\"fill_color\":{\"value\":\"#4daf4a\"},\"line_alpha\":{\"value\":0.7},\"line_color\":{\"value\":\"#4daf4a\"},\"x\":{\"field\":\"x\"},\"y\":{\"field\":\"y\"}},\"id\":\"0abc2f3b-ac07-4bcd-b54c-07d9d54c02f3\",\"type\":\"Circle\"},{\"attributes\":{\"fill_alpha\":{\"value\":0.1},\"fill_color\":{\"value\":\"#1f77b4\"},\"line_alpha\":{\"value\":0.1},\"line_color\":{\"value\":\"#1f77b4\"},\"x\":{\"field\":\"x\"},\"y\":{\"field\":\"y\"}},\"id\":\"b4ef9fdc-b2bc-43c6-b506-acc9af33ed2f\",\"type\":\"Square\"},{\"attributes\":{},\"id\":\"b7a9931e-fc3c-4f0c-82fd-1327b5a91a1d\",\"type\":\"HelpTool\"},{\"attributes\":{\"line_alpha\":0.6,\"line_color\":\"#e41a1c\",\"line_dash\":[6],\"line_width\":5,\"x\":{\"field\":\"x\"},\"y\":{\"field\":\"y\"}},\"id\":\"92560969-e9fb-4dbe-9ab2-7ef1426eb447\",\"type\":\"Line\"},{\"attributes\":{\"source\":{\"id\":\"185cbd18-e052-4ec7-b884-e7f99e34e78b\",\"type\":\"ColumnDataSource\"}},\"id\":\"9832344c-e668-4eac-b1bd-a261c50fdb8c\",\"type\":\"CDSView\"},{\"attributes\":{\"callback\":null,\"data\":{\"x\":{\"__ndarray__\":\"4W2Uqw4nGkCqvB3htDgUQIhp39xfHRJAcnVbfdDuD0AnfnuNE7ULQC/NvjyutwdA6q9XWHAPBEDni70XX8QAQB85LdOKqvs/xV0YRP9/9j907na9NAXyP+M/1c84YOw/rUVVXdHX5T9KITWSqeffP9eI/fGgkdc/oi85xRVd1j8VszWNswrYP0z8tP5UpNg/+QhGbwJd2T/NmnF9zMXaPzr6RhGlP90/NGCYZbLM4D9Wilc4zWvjP/F2azbiy+M/KpgplCJF4j9xjp1kae/gP+JSnScBnt8//UkAJ6mG3T/vPExWoLHbP/QYJ7ZpCdo/1rvLh5g52D8sNnvawCHWP3DEpAklXdQ/D0c22wUY0z+629TEK57RP9Enj/otss8/J1I3oyhIzT+2l37TBQbMP8+c3Iwm2ck/rHH0AC+WyD80NDveJhTTP/4pE4YaCOc/iOZLuQxJ8j/wBXexevH1P8MdXsYD4PU/uxCrP8Jw8T/6D2V/C/jrP3X3a3ibU+c/uU7IcyKG4z/REUx3zwjgP6LWbprCc9k/hjqscMsH0z/9I4BZqTnLP8ISUURtuMI/MCoyBS65uD8JkDEPSqyvPwaJtUSjRaQ/y73P133emj8juwrdsGORP6Ijr4oUI4c/XBdqjFfSgD93pJ2CU5J6P2xx5D1iBnc/aj0ZJk4Ddj9vj1LHMhZ4PzXjhdQzVH8/RNrTyarshT+n3TusaFqLP4liHYf07Yo/rAaeiPB5hD+iCudprDx6P+k5K+PUh3A/XNIThijuZj+rmgpz7vZhP8hbz4xVtaY/\",\"dtype\":\"float64\",\"shape\":[75]},\"y\":{\"__ndarray__\":\"GhExyth1ND/Sv8nbtpRIP2vylNV0PVE/aTum7souWD/At0SJ8fVgPw3Iuahxymc/MSNhhJWvcD/bTfBN02d3P2zb5nxnaoA/CD5h5MAGhz8NmeH1TyaQP+zrCsc9p5Y/LbKd76fGnz/bLW5ISEmmPww9YvTcQq8/JV2OstnstT8Er5Y7M8G+P0c+r3jqkcU/5h99k6ZBzj88bCIzFzjVP4enV8oyxN0//yH99nXg5D8qOpLLf0jtP5kqGJXUifQ/c9cS8kHP/D+/DpwzojQEQIEmwoanVwxA4lgXt9HgE0BSSZ2AJuIbQAMJih9jjiNA5q4l5INuK0AwTKYKRj0zQNv5fmq8/DpAaCJseHrtQkB/+zpwzoxKQM3MzMzMeFJAZmZmZmZqWEAAAAAAAFxeQM3MzMzMJmJAmpmZmZkfZUBmZmZmZhhoQDMzMzMzEWtAAAAAAAAKbkBmZmZmZoFwQM3MzMzM/XFAMzMzMzN6c0CamZmZmfZ0QAAAAAAAc3ZAZmZmZmbvd0DNzMzMzGt5QDMzMzMz6HpAmpmZmZlkfEAAAAAAAOF9QGZmZmZmXX9AZmZmZuZsgECamZmZGSuBQM3MzMxM6YFAAAAAAICngkAzMzMzs2WDQGZmZmbmI4RAmpmZmRnihEDNzMzMTKCFQAAAAACAXoZAMzMzM7Mch0BmZmZm5tqHQJqZmZkZmYhAzczMzExXiUAAAAAAgBWKQDMzMzOz04pAZmZmZuaRi0CamZmZGVCMQM3MzMxMDo1AAAAAAIDMjUAzMzMzs4qOQGZmZmbmSI9A\",\"dtype\":\"float64\",\"shape\":[75]}},\"selected\":{\"id\":\"88b8e429-2134-4e81-9391-3d4b0af85216\",\"type\":\"Selection\"},\"selection_policy\":{\"id\":\"4d88b659-4940-4c34-a2ec-3c6b0478014b\",\"type\":\"UnionRenderers\"}},\"id\":\"dfafd51b-071b-429e-a020-3c12836b364d\",\"type\":\"ColumnDataSource\"},{\"attributes\":{\"data_source\":{\"id\":\"dfafd51b-071b-429e-a020-3c12836b364d\",\"type\":\"ColumnDataSource\"},\"glyph\":{\"id\":\"f66e7003-0443-42fd-aab7-e128b8bdd33f\",\"type\":\"Line\"},\"hover_glyph\":null,\"muted_glyph\":null,\"nonselection_glyph\":{\"id\":\"8b6c2783-4b51-4b5c-a234-8eb2c4c762c7\",\"type\":\"Line\"},\"selection_glyph\":null,\"view\":{\"id\":\"275be0b9-49ba-4fdf-bcc4-408b8c04a46a\",\"type\":\"CDSView\"}},\"id\":\"a5b46585-b487-4f34-acd4-8746661a079a\",\"type\":\"GlyphRenderer\"},{\"attributes\":{\"overlay\":{\"id\":\"12b9da5b-7552-4afa-9de8-5852a70ad1d4\",\"type\":\"BoxAnnotation\"}},\"id\":\"8b66de20-d74f-4b3b-b0a5-c4bbdafc2850\",\"type\":\"BoxZoomTool\"},{\"attributes\":{\"bottom_units\":\"screen\",\"fill_alpha\":{\"value\":0.5},\"fill_color\":{\"value\":\"lightgrey\"},\"left_units\":\"screen\",\"level\":\"overlay\",\"line_alpha\":{\"value\":1.0},\"line_color\":{\"value\":\"black\"},\"line_dash\":[4,4],\"line_width\":{\"value\":2},\"plot\":null,\"render_mode\":\"css\",\"right_units\":\"screen\",\"top_units\":\"screen\"},\"id\":\"12b9da5b-7552-4afa-9de8-5852a70ad1d4\",\"type\":\"BoxAnnotation\"},{\"attributes\":{\"source\":{\"id\":\"a2747591-6567-4ded-ba34-370782ee553d\",\"type\":\"ColumnDataSource\"}},\"id\":\"2356e880-a11f-4024-97c4-577136da5c2e\",\"type\":\"CDSView\"},{\"attributes\":{\"axis_label\":\"pressure [mb]\",\"formatter\":{\"id\":\"2bf1c7fc-619c-49ef-8f88-37e912c75d66\",\"type\":\"BasicTickFormatter\"},\"plot\":{\"id\":\"ccc84ab2-b8be-418f-815a-eb17459be857\",\"subtype\":\"Figure\",\"type\":\"Plot\"},\"ticker\":{\"id\":\"436531d2-4318-4df5-99aa-82f209241d1f\",\"type\":\"BasicTicker\"}},\"id\":\"118bba9e-3c4a-472e-ab0b-3ca6ad5736ae\",\"type\":\"LinearAxis\"},{\"attributes\":{\"line_alpha\":0.6,\"line_color\":\"#984ea3\",\"line_width\":3,\"x\":{\"field\":\"x\"},\"y\":{\"field\":\"y\"}},\"id\":\"b81e6a80-683e-43c5-83ca-fcf992cf0f90\",\"type\":\"Line\"},{\"attributes\":{\"children\":[{\"id\":\"2339e445-6ccc-41a6-b272-e5178d671f56\",\"type\":\"Row\"}]},\"id\":\"3a6fc023-b42a-4d31-98cd-74f4a8a3efd2\",\"type\":\"Column\"},{\"attributes\":{},\"id\":\"9c907f79-67fe-41b4-930a-4d5deed4e8a9\",\"type\":\"LinearScale\"},{\"attributes\":{\"line_alpha\":0.1,\"line_color\":\"#1f77b4\",\"line_width\":3,\"x\":{\"field\":\"x\"},\"y\":{\"field\":\"y\"}},\"id\":\"223ae639-a858-4757-a68b-2bf85084d642\",\"type\":\"Line\"},{\"attributes\":{\"data_source\":{\"id\":\"a2747591-6567-4ded-ba34-370782ee553d\",\"type\":\"ColumnDataSource\"},\"glyph\":{\"id\":\"b81e6a80-683e-43c5-83ca-fcf992cf0f90\",\"type\":\"Line\"},\"hover_glyph\":null,\"muted_glyph\":null,\"nonselection_glyph\":{\"id\":\"49745f94-39b1-406d-84c6-f64f04f94316\",\"type\":\"Line\"},\"selection_glyph\":null,\"view\":{\"id\":\"2356e880-a11f-4024-97c4-577136da5c2e\",\"type\":\"CDSView\"}},\"id\":\"e8a339cb-8c59-414d-b7a6-09cf410c3449\",\"type\":\"GlyphRenderer\"},{\"attributes\":{\"axis_label\":\"cooling rate [K/day]\",\"formatter\":{\"id\":\"9da6625d-296f-471a-ac5e-9869e0fdf86d\",\"type\":\"BasicTickFormatter\"},\"plot\":{\"id\":\"ccc84ab2-b8be-418f-815a-eb17459be857\",\"subtype\":\"Figure\",\"type\":\"Plot\"},\"ticker\":{\"id\":\"9bd6cbb4-f0d8-4eb5-9baf-2ee3fa654b98\",\"type\":\"BasicTicker\"}},\"id\":\"00092255-f9bc-4fdd-868d-41a4c68bbf10\",\"type\":\"LinearAxis\"},{\"attributes\":{\"line_alpha\":0.1,\"line_color\":\"#1f77b4\",\"line_width\":3,\"x\":{\"field\":\"x\"},\"y\":{\"field\":\"y\"}},\"id\":\"49745f94-39b1-406d-84c6-f64f04f94316\",\"type\":\"Line\"},{\"attributes\":{},\"id\":\"9bd6cbb4-f0d8-4eb5-9baf-2ee3fa654b98\",\"type\":\"BasicTicker\"},{\"attributes\":{\"callback\":null,\"data\":{\"x\":{\"__ndarray__\":\"QcXRtH/OEUAKGIVqZXIPQNVEPwNSqw1AlTvOXyeFC0BOgeFcU/kIQNU8THd9GQZAqahyQaAGA0AZqbAadNj/P6srpjoQBPo/rl3cRWn19D8n+m3OMuLwP8F3DCwMbus/4AQFBZM85j/qsBaF4SnhP5Ab0W8cBdo/1F8lL22L1z8RsjujT+rXP5A+1gvkCNg/mnXjcRoo2T+LVdG/J3XbP45vLQLext4/y0UHYw4G4j8BBS9axnHlP9Wr7iRd1eY/FlSgoR245T+E+vMH0OTjP7WGpbrI4uE/dE0WzHzl3z9rR1jhrs7cPxl62LYTE9s/J7UIpkl62T/M5bTQVlTXP+NPs4DirtU/HknISJxs1D/MXm+Ra4LSPw8xYFuZNNA/KNFEDgEPzT9aketElzHLPzWFAPIducg/W+ViFm1oxz96NO8TGHvSP0k/UQ90v+Y/K8gCnAg58j90RHIWsVz2P/n9qiGi+PU/7vSXY4Zh8T/AxTcMsmfsP6fqwJ4aRuc/gtWK4SzL4j/q4JAbSG3eP3Yt5BD8dNg/YyoFMwSI0j8Mt+UzyBPKP5oyCYLwCsE/dFmq58ustD/6XGgo2PqnP5QShnC/h5w/nItfR++qkj+EDMLX9KCJP3hoTLAmLYI/gjuzJJiwfD8s0CTOgfx3P3PmF7BxZHU/wmaeGbj0dD+mSFjdXWR3P6Yg+1Tt5n4/1u4W4srNhT+GX5P3B0mLP5KJGhtF44o/bdXfXQ11hD9u9h/UHDh6P8wHaYCwhXA/geF5cU/sZj+wRSdv/fVhP4yTadBOtaY/\",\"dtype\":\"float64\",\"shape\":[75]},\"y\":{\"__ndarray__\":\"GhExyth1ND/Sv8nbtpRIP2vylNV0PVE/aTum7souWD/At0SJ8fVgPw3Iuahxymc/MSNhhJWvcD/bTfBN02d3P2zb5nxnaoA/CD5h5MAGhz8NmeH1TyaQP+zrCsc9p5Y/LbKd76fGnz/bLW5ISEmmPww9YvTcQq8/JV2OstnstT8Er5Y7M8G+P0c+r3jqkcU/5h99k6ZBzj88bCIzFzjVP4enV8oyxN0//yH99nXg5D8qOpLLf0jtP5kqGJXUifQ/c9cS8kHP/D+/DpwzojQEQIEmwoanVwxA4lgXt9HgE0BSSZ2AJuIbQAMJih9jjiNA5q4l5INuK0AwTKYKRj0zQNv5fmq8/DpAaCJseHrtQkB/+zpwzoxKQM3MzMzMeFJAZmZmZmZqWEAAAAAAAFxeQM3MzMzMJmJAmpmZmZkfZUBmZmZmZhhoQDMzMzMzEWtAAAAAAAAKbkBmZmZmZoFwQM3MzMzM/XFAMzMzMzN6c0CamZmZmfZ0QAAAAAAAc3ZAZmZmZmbvd0DNzMzMzGt5QDMzMzMz6HpAmpmZmZlkfEAAAAAAAOF9QGZmZmZmXX9AZmZmZuZsgECamZmZGSuBQM3MzMxM6YFAAAAAAICngkAzMzMzs2WDQGZmZmbmI4RAmpmZmRnihEDNzMzMTKCFQAAAAACAXoZAMzMzM7Mch0BmZmZm5tqHQJqZmZkZmYhAzczMzExXiUAAAAAAgBWKQDMzMzOz04pAZmZmZuaRi0CamZmZGVCMQM3MzMxMDo1AAAAAAIDMjUAzMzMzs4qOQGZmZmbmSI9A\",\"dtype\":\"float64\",\"shape\":[75]}},\"selected\":{\"id\":\"e5bd3bbb-f876-451f-891d-ffef197e3216\",\"type\":\"Selection\"},\"selection_policy\":{\"id\":\"c45a90a7-2aa9-4847-ae1f-56027ec8f393\",\"type\":\"UnionRenderers\"}},\"id\":\"a2747591-6567-4ded-ba34-370782ee553d\",\"type\":\"ColumnDataSource\"},{\"attributes\":{\"children\":[{\"id\":\"ccc84ab2-b8be-418f-815a-eb17459be857\",\"subtype\":\"Figure\",\"type\":\"Plot\"},{\"id\":\"99997642-1027-45fd-b142-16fd35c2dc30\",\"subtype\":\"Figure\",\"type\":\"Plot\"}]},\"id\":\"2339e445-6ccc-41a6-b272-e5178d671f56\",\"type\":\"Row\"},{\"attributes\":{},\"id\":\"9da6625d-296f-471a-ac5e-9869e0fdf86d\",\"type\":\"BasicTickFormatter\"},{\"attributes\":{\"label\":{\"value\":\"CLIRAD `coolr_bands`\"},\"renderers\":[{\"id\":\"dcae1671-e020-405d-904c-36760780050c\",\"type\":\"GlyphRenderer\"}]},\"id\":\"0f4a39e5-1e5d-4cfd-8c21-18d869f6d07c\",\"type\":\"LegendItem\"},{\"attributes\":{},\"id\":\"fa7cd391-7580-4f13-9a3f-3d44afda6195\",\"type\":\"UnionRenderers\"},{\"attributes\":{\"label\":{\"value\":\"CRD\"},\"renderers\":[{\"id\":\"4fad7b04-b61b-47cb-86f5-667db1268ab1\",\"type\":\"GlyphRenderer\"},{\"id\":\"a5b46585-b487-4f34-acd4-8746661a079a\",\"type\":\"GlyphRenderer\"}]},\"id\":\"e143cd4c-8c56-4b79-bb89-e23e470a095a\",\"type\":\"LegendItem\"},{\"attributes\":{\"below\":[{\"id\":\"d5b216db-be7f-4597-acd0-4bec8a3980e2\",\"type\":\"LinearAxis\"}],\"left\":[{\"id\":\"556749f8-1d3e-482b-9ab8-d62c6b3577f0\",\"type\":\"LogAxis\"}],\"plot_height\":500,\"plot_width\":560,\"renderers\":[{\"id\":\"d5b216db-be7f-4597-acd0-4bec8a3980e2\",\"type\":\"LinearAxis\"},{\"id\":\"e5d557db-8666-49ab-a127-e2722351ba3e\",\"type\":\"Grid\"},{\"id\":\"556749f8-1d3e-482b-9ab8-d62c6b3577f0\",\"type\":\"LogAxis\"},{\"id\":\"6384eb7f-2a6b-438a-9ccd-299938755bbb\",\"type\":\"Grid\"},{\"id\":\"8a7a20aa-6ac6-4a38-bea9-bf1b5e557a3f\",\"type\":\"BoxAnnotation\"},{\"id\":\"dcae1671-e020-405d-904c-36760780050c\",\"type\":\"GlyphRenderer\"},{\"id\":\"4fad7b04-b61b-47cb-86f5-667db1268ab1\",\"type\":\"GlyphRenderer\"},{\"id\":\"a5b46585-b487-4f34-acd4-8746661a079a\",\"type\":\"GlyphRenderer\"},{\"id\":\"2429ca32-f24e-4ec7-9d55-2cdf977bcb7b\",\"type\":\"GlyphRenderer\"},{\"id\":\"e8a339cb-8c59-414d-b7a6-09cf410c3449\",\"type\":\"GlyphRenderer\"},{\"id\":\"d434b26e-0024-4936-a675-ad729c8caa31\",\"type\":\"Legend\"}],\"right\":[{\"id\":\"d434b26e-0024-4936-a675-ad729c8caa31\",\"type\":\"Legend\"}],\"title\":{\"id\":\"6fef3f6a-2de2-4da9-b8a1-69b82f90678e\",\"type\":\"Title\"},\"toolbar\":{\"id\":\"53eb1cc0-fbd1-411b-8921-561589dbb476\",\"type\":\"Toolbar\"},\"toolbar_location\":null,\"x_range\":{\"id\":\"9d910517-eb20-4ab7-b024-3113d539e12b\",\"type\":\"Range1d\"},\"x_scale\":{\"id\":\"84dd0eda-5db7-4422-9446-aba528dd161e\",\"type\":\"LinearScale\"},\"y_range\":{\"id\":\"8de45a8a-cd2f-4b20-87d9-6e5335df6baa\",\"type\":\"Range1d\"},\"y_scale\":{\"id\":\"22310c73-c658-433c-b285-da17d85cc93e\",\"type\":\"LogScale\"}},\"id\":\"99997642-1027-45fd-b142-16fd35c2dc30\",\"subtype\":\"Figure\",\"type\":\"Plot\"},{\"attributes\":{},\"id\":\"87b43514-f12d-4a46-a3d2-80d27e01483d\",\"type\":\"Selection\"},{\"attributes\":{\"source\":{\"id\":\"f17a677c-8fa5-456b-bc3c-6141a5d752d5\",\"type\":\"ColumnDataSource\"}},\"id\":\"e582e14a-3f78-4275-83c8-071d4c8f8995\",\"type\":\"CDSView\"},{\"attributes\":{\"label\":{\"value\":\"WGT igg=10 wgt_flux=2\"},\"renderers\":[{\"id\":\"2429ca32-f24e-4ec7-9d55-2cdf977bcb7b\",\"type\":\"GlyphRenderer\"},{\"id\":\"e8a339cb-8c59-414d-b7a6-09cf410c3449\",\"type\":\"GlyphRenderer\"}]},\"id\":\"9141b22b-46d2-4db7-9cf4-e0021776f003\",\"type\":\"LegendItem\"},{\"attributes\":{},\"id\":\"1593cad3-e8ec-4316-a156-ebfe76154457\",\"type\":\"BasicTickFormatter\"},{\"attributes\":{},\"id\":\"2bf1c7fc-619c-49ef-8f88-37e912c75d66\",\"type\":\"BasicTickFormatter\"},{\"attributes\":{\"callback\":null,\"end\":0.01,\"start\":1020},\"id\":\"8de45a8a-cd2f-4b20-87d9-6e5335df6baa\",\"type\":\"Range1d\"},{\"attributes\":{},\"id\":\"c1fb7cc2-1f38-4ca4-b4ac-293e1fd6e2a4\",\"type\":\"UnionRenderers\"},{\"attributes\":{\"plot\":{\"id\":\"ccc84ab2-b8be-418f-815a-eb17459be857\",\"subtype\":\"Figure\",\"type\":\"Plot\"},\"ticker\":{\"id\":\"9bd6cbb4-f0d8-4eb5-9baf-2ee3fa654b98\",\"type\":\"BasicTicker\"}},\"id\":\"ecad8a8f-0e03-4b19-a8f2-f84766b54b23\",\"type\":\"Grid\"},{\"attributes\":{\"ticker\":null},\"id\":\"0de456aa-d8a1-4092-9c94-17938580a74f\",\"type\":\"LogTickFormatter\"},{\"attributes\":{},\"id\":\"21d20e8a-6df9-4d73-a6e9-de2bc8b87567\",\"type\":\"Selection\"},{\"attributes\":{},\"id\":\"b15697c6-02e6-4382-8f8f-1efa9f95c383\",\"type\":\"UnionRenderers\"},{\"attributes\":{},\"id\":\"9d30903d-a05c-49d0-8a2e-cf608090c950\",\"type\":\"Selection\"},{\"attributes\":{},\"id\":\"53aeaef7-e435-478b-a9b5-691dcdc7d9c1\",\"type\":\"Selection\"},{\"attributes\":{},\"id\":\"6d83ce01-bfd7-4425-a100-0f4bdf2777d0\",\"type\":\"UnionRenderers\"},{\"attributes\":{},\"id\":\"4d88b659-4940-4c34-a2ec-3c6b0478014b\",\"type\":\"UnionRenderers\"},{\"attributes\":{},\"id\":\"90cac9ef-380d-4616-8294-3bb68903c211\",\"type\":\"PanTool\"},{\"attributes\":{},\"id\":\"88b8e429-2134-4e81-9391-3d4b0af85216\",\"type\":\"Selection\"},{\"attributes\":{},\"id\":\"5cf7c020-d9c3-443b-b3aa-2e8bccfe99f5\",\"type\":\"UnionRenderers\"},{\"attributes\":{},\"id\":\"c45a90a7-2aa9-4847-ae1f-56027ec8f393\",\"type\":\"UnionRenderers\"},{\"attributes\":{\"toolbar\":{\"id\":\"a3d1019c-2de7-4ba0-b77b-3548d6efd218\",\"type\":\"ProxyToolbar\"},\"toolbar_location\":\"above\"},\"id\":\"af380de9-f0fa-411e-82f7-87c6796c98cd\",\"type\":\"ToolbarBox\"},{\"attributes\":{},\"id\":\"d7a11162-813c-488e-8b18-f1d2647c5a37\",\"type\":\"Selection\"},{\"attributes\":{\"children\":[{\"id\":\"af380de9-f0fa-411e-82f7-87c6796c98cd\",\"type\":\"ToolbarBox\"},{\"id\":\"3a6fc023-b42a-4d31-98cd-74f4a8a3efd2\",\"type\":\"Column\"}]},\"id\":\"8efdf438-f3f7-473a-844d-c53d3d6e9ef6\",\"type\":\"Column\"},{\"attributes\":{},\"id\":\"e5bd3bbb-f876-451f-891d-ffef197e3216\",\"type\":\"Selection\"},{\"attributes\":{\"tools\":[{\"id\":\"90cac9ef-380d-4616-8294-3bb68903c211\",\"type\":\"PanTool\"},{\"id\":\"a462b642-8a06-464d-b438-e176b4b488b0\",\"type\":\"WheelZoomTool\"},{\"id\":\"8b66de20-d74f-4b3b-b0a5-c4bbdafc2850\",\"type\":\"BoxZoomTool\"},{\"id\":\"337c6d98-0d24-4dfd-a587-f39452ace8bb\",\"type\":\"SaveTool\"},{\"id\":\"9707c65f-b111-4edf-9831-557af00dc4b0\",\"type\":\"ResetTool\"},{\"id\":\"c01ce5e4-d9c0-49c2-9139-434e92cde5dd\",\"type\":\"HelpTool\"},{\"id\":\"130b0033-0eb7-4592-83c7-a978ebd6440f\",\"type\":\"PanTool\"},{\"id\":\"3f2a1f0a-c62c-4941-8d23-44aa0de55e54\",\"type\":\"WheelZoomTool\"},{\"id\":\"44bb00f2-6134-47c8-a783-40c3930db8b4\",\"type\":\"BoxZoomTool\"},{\"id\":\"500698ab-b0ed-4a56-a168-71c75d4aa614\",\"type\":\"SaveTool\"},{\"id\":\"cf43e34d-c2f9-4b5a-b44c-0a3c7e5ddaf3\",\"type\":\"ResetTool\"},{\"id\":\"b7a9931e-fc3c-4f0c-82fd-1327b5a91a1d\",\"type\":\"HelpTool\"}]},\"id\":\"a3d1019c-2de7-4ba0-b77b-3548d6efd218\",\"type\":\"ProxyToolbar\"},{\"attributes\":{\"data_source\":{\"id\":\"f17a677c-8fa5-456b-bc3c-6141a5d752d5\",\"type\":\"ColumnDataSource\"},\"glyph\":{\"id\":\"9fff1783-f8b6-4a7c-a64f-0d1fe99b7b23\",\"type\":\"Line\"},\"hover_glyph\":null,\"muted_glyph\":null,\"nonselection_glyph\":{\"id\":\"223ae639-a858-4757-a68b-2bf85084d642\",\"type\":\"Line\"},\"selection_glyph\":null,\"view\":{\"id\":\"e582e14a-3f78-4275-83c8-071d4c8f8995\",\"type\":\"CDSView\"}},\"id\":\"6a55ba40-cd44-40a6-8455-d0779afc9caa\",\"type\":\"GlyphRenderer\"},{\"attributes\":{},\"id\":\"337c6d98-0d24-4dfd-a587-f39452ace8bb\",\"type\":\"SaveTool\"},{\"attributes\":{},\"id\":\"c01ce5e4-d9c0-49c2-9139-434e92cde5dd\",\"type\":\"HelpTool\"},{\"attributes\":{\"source\":{\"id\":\"9fdded24-8196-45e4-a21d-b017c6f0fc27\",\"type\":\"ColumnDataSource\"}},\"id\":\"d7002f7d-8a0e-4ff4-b467-fc4fc3d9afa8\",\"type\":\"CDSView\"},{\"attributes\":{\"dimension\":1,\"plot\":{\"id\":\"ccc84ab2-b8be-418f-815a-eb17459be857\",\"subtype\":\"Figure\",\"type\":\"Plot\"},\"ticker\":{\"id\":\"436531d2-4318-4df5-99aa-82f209241d1f\",\"type\":\"BasicTicker\"}},\"id\":\"75fbb1da-80f9-46d5-a94b-9e115da6db0d\",\"type\":\"Grid\"},{\"attributes\":{\"line_alpha\":0.6,\"line_color\":\"#e41a1c\",\"line_dash\":[6],\"line_width\":5,\"x\":{\"field\":\"x\"},\"y\":{\"field\":\"y\"}},\"id\":\"676fbc6c-6c83-475c-9f00-35af26161931\",\"type\":\"Line\"},{\"attributes\":{\"items\":[{\"id\":\"0f4a39e5-1e5d-4cfd-8c21-18d869f6d07c\",\"type\":\"LegendItem\"},{\"id\":\"e143cd4c-8c56-4b79-bb89-e23e470a095a\",\"type\":\"LegendItem\"},{\"id\":\"9141b22b-46d2-4db7-9cf4-e0021776f003\",\"type\":\"LegendItem\"}],\"label_text_font_size\":{\"value\":\"8pt\"},\"location\":[10,-30],\"plot\":{\"id\":\"99997642-1027-45fd-b142-16fd35c2dc30\",\"subtype\":\"Figure\",\"type\":\"Plot\"}},\"id\":\"d434b26e-0024-4936-a675-ad729c8caa31\",\"type\":\"Legend\"},{\"attributes\":{},\"id\":\"a462b642-8a06-464d-b438-e176b4b488b0\",\"type\":\"WheelZoomTool\"},{\"attributes\":{\"callback\":null,\"end\":1.4401930290752576,\"start\":-0.0120451366010277},\"id\":\"3802b59f-0e3f-4af7-ae95-fca45307b3b6\",\"type\":\"Range1d\"},{\"attributes\":{},\"id\":\"9707c65f-b111-4edf-9831-557af00dc4b0\",\"type\":\"ResetTool\"},{\"attributes\":{},\"id\":\"436531d2-4318-4df5-99aa-82f209241d1f\",\"type\":\"BasicTicker\"},{\"attributes\":{\"callback\":null,\"data\":{\"x\":{\"__ndarray__\":\"T9/X7VhxD0BtrS8S2lINQPyUGSWeQgxAAlfDj3vECkA/SXDZ18AIQDlCBvLsMgZAgfivYqcuA0Dj2eVbH9b/P3PZ6Jyfgvk/qpPYWgQr9D+DpiVWRkPwP4ksToyXFOs/JuyyyhKe5j9akk0DULbhP9Rc8mh4bdo/jFK+dwbT1j8wCNWbi17WP+KcxxejZNY/C8XrNLHE1z8NpZtpZ/3ZP/7hGfpIhtw/O7Ur2yRS4D++0XV+3YvjPxPqr3hmOeU/GZC93v2R5D+2/WXW1tjiP4A2SV5jGOE/DQtBUGbq3T/av9tR1s7aP4d++abhgtk/PyArUyf71z8l9RIhfazVP/avD1/kbdQ/CzLZqupG0z9V4pV/iGjRPxQinvTXjs4/BUTzxmrvyj8MC+aW8xjJP8llLx1rLcc/EzDTWdpnxj8LKiZGAejRP7SitNTNJ+Y/hO43f7jw8T+i3wicttD2P/jq9M1HI/Y/voV1492x8T+cdHS/t8ftPxFqK5veKug/EpPkd6Jd4z+G2j79yhfgP1EYzhS+p9o/YgVLtx0B1D9iV0kaksnKP4h2wglUGMA//R6AyrTasT+8QQDl+VCjP08SJwRmFpc/uChV0CQZkD9bwyEochmHP8RqS9zsSIE/5nBQ8/M1ez8d0cRJD7t2P/qoyGKQdHQ/qmlLoPd0dD9PnrgvbgJ3P7eSSi5H034/q6ga7VO2hT/otpN0DEmLP/VhuJhx44o/zyH6g3JzhD+yibAHsTh6P8IA+cMsg3A/1wvoOtL2Zj8rkTuZNflhP2UnHnj+sqY/\",\"dtype\":\"float64\",\"shape\":[75]},\"y\":{\"__ndarray__\":\"S/O/Q+51ND/Sv8nbtpRIP2vylNV0PVE/aTum7souWD/At0SJ8fVgPw3Iuahxymc/MSNhhJWvcD/bTfBN02d3P2zb5nxnaoA/CD5h5MAGhz8NmeH1TyaQP+zrCsc9p5Y/LbKd76fGnz/bLW5ISEmmPww9YvTcQq8/JV2OstnstT8Er5Y7M8G+P0c+r3jqkcU/5h99k6ZBzj88bCIzFzjVP4enV8oyxN0//yH99nXg5D8qOpLLf0jtP5kqGJXUifQ/c9cS8kHP/D+/DpwzojQEQIEmwoanVwxA4lgXt9HgE0BSSZ2AJuIbQAMJih9jjiNA5q4l5INuK0AwTKYKRj0zQNv5fmq8/DpAaCJseHrtQkB/+zpwzoxKQM3MzMzMeFJAZmZmZmZqWEAAAAAAAFxeQM3MzMzMJmJAmpmZmZkfZUBmZmZmZhhoQDMzMzMzEWtAAAAAAAAKbkBmZmZmZoFwQM3MzMzM/XFAMzMzMzN6c0CamZmZmfZ0QAAAAAAAc3ZAZmZmZmbvd0DNzMzMzGt5QDMzMzMz6HpAmpmZmZlkfEAAAAAAAOF9QGZmZmZmXX9AZmZmZuZsgECamZmZGSuBQM3MzMxM6YFAAAAAAICngkAzMzMzs2WDQGZmZmbmI4RAmpmZmRnihEDNzMzMTKCFQAAAAACAXoZAMzMzM7Mch0BmZmZm5tqHQJqZmZkZmYhAzczMzExXiUAAAAAAgBWKQDMzMzOz04pAZmZmZuaRi0CamZmZGVCMQM3MzMxMDo1AAAAAAIDMjUAzMzMzs4qOQGZmZmbmSI9A\",\"dtype\":\"float64\",\"shape\":[75]}},\"selected\":{\"id\":\"fe8fc6b2-5d46-40c7-8c83-e8fbd4a79366\",\"type\":\"Selection\"},\"selection_policy\":{\"id\":\"6ef3de25-2abd-4ed5-bf49-2ce09c4b2e0d\",\"type\":\"UnionRenderers\"}},\"id\":\"9fdded24-8196-45e4-a21d-b017c6f0fc27\",\"type\":\"ColumnDataSource\"}],\"root_ids\":[\"8efdf438-f3f7-473a-844d-c53d3d6e9ef6\"]},\"title\":\"Bokeh Application\",\"version\":\"0.12.16\"}};\n",
       "  var render_items = [{\"docid\":\"27d24ae9-9522-4aaa-8139-32d62347de9d\",\"elementid\":\"76335fcf-e627-4ae2-ad21-b2c562f95425\",\"modelid\":\"8efdf438-f3f7-473a-844d-c53d3d6e9ef6\"}];\n",
       "  root.Bokeh.embed.embed_items_notebook(docs_json, render_items);\n",
       "\n",
       "  }\n",
       "  if (root.Bokeh !== undefined) {\n",
       "    embed_document(root);\n",
       "  } else {\n",
       "    var attempts = 0;\n",
       "    var timer = setInterval(function(root) {\n",
       "      if (root.Bokeh !== undefined) {\n",
       "        embed_document(root);\n",
       "        clearInterval(timer);\n",
       "      }\n",
       "      attempts++;\n",
       "      if (attempts > 100) {\n",
       "        console.log(\"Bokeh: ERROR: Unable to run BokehJS code because BokehJS library is missing\")\n",
       "        clearInterval(timer);\n",
       "      }\n",
       "    }, 10, root)\n",
       "  }\n",
       "})(window);"
      ],
      "application/vnd.bokehjs_exec.v0+json": ""
     },
     "metadata": {
      "application/vnd.bokehjs_exec.v0+json": {
       "id": "8efdf438-f3f7-473a-844d-c53d3d6e9ef6"
      }
     },
     "output_type": "display_data"
    },
    {
     "name": "stdout",
     "output_type": "stream",
     "text": [
      "FIGURE. Cooling rate profiles.\n"
     ]
    },
    {
     "data": {
      "text/html": [
       "<a id=\"Flux_Comparison\"></a>"
      ],
      "text/plain": [
       "<IPython.core.display.HTML object>"
      ]
     },
     "metadata": {},
     "output_type": "display_data"
    },
    {
     "data": {
      "text/markdown": [
       "# Flux Comparison"
      ],
      "text/plain": [
       "<IPython.core.display.Markdown object>"
      ]
     },
     "metadata": {},
     "output_type": "display_data"
    },
    {
     "data": {
      "text/html": [
       "<div>\n",
       "<style scoped>\n",
       "    .dataframe tbody tr th:only-of-type {\n",
       "        vertical-align: middle;\n",
       "    }\n",
       "\n",
       "    .dataframe tbody tr th {\n",
       "        vertical-align: top;\n",
       "    }\n",
       "\n",
       "    .dataframe thead th {\n",
       "        text-align: right;\n",
       "    }\n",
       "</style>\n",
       "<table border=\"1\" class=\"dataframe\">\n",
       "  <thead>\n",
       "    <tr style=\"text-align: right;\">\n",
       "      <th></th>\n",
       "      <th></th>\n",
       "      <th>flug</th>\n",
       "      <th>fldg</th>\n",
       "      <th>fnetg</th>\n",
       "    </tr>\n",
       "    <tr>\n",
       "      <th>pressure</th>\n",
       "      <th>level</th>\n",
       "      <th></th>\n",
       "      <th></th>\n",
       "      <th></th>\n",
       "    </tr>\n",
       "  </thead>\n",
       "  <tbody>\n",
       "    <tr>\n",
       "      <th>0.0000</th>\n",
       "      <th>1</th>\n",
       "      <td>-34.263992</td>\n",
       "      <td>0.000000</td>\n",
       "      <td>-34.263992</td>\n",
       "    </tr>\n",
       "    <tr>\n",
       "      <th>1.0685</th>\n",
       "      <th>24</th>\n",
       "      <td>-34.270850</td>\n",
       "      <td>0.073560</td>\n",
       "      <td>-34.197291</td>\n",
       "    </tr>\n",
       "    <tr>\n",
       "      <th>1013.0000</th>\n",
       "      <th>76</th>\n",
       "      <td>-51.073429</td>\n",
       "      <td>50.951359</td>\n",
       "      <td>-0.122070</td>\n",
       "    </tr>\n",
       "  </tbody>\n",
       "</table>\n",
       "</div>"
      ],
      "text/plain": [
       "                      flug       fldg      fnetg\n",
       "pressure  level                                 \n",
       "0.0000    1     -34.263992   0.000000 -34.263992\n",
       "1.0685    24    -34.270850   0.073560 -34.197291\n",
       "1013.0000 76    -51.073429  50.951359  -0.122070"
      ]
     },
     "metadata": {},
     "output_type": "display_data"
    },
    {
     "name": "stdout",
     "output_type": "stream",
     "text": [
      "Table. Fluxes. CRD\n"
     ]
    },
    {
     "data": {
      "text/html": [
       "<div>\n",
       "<style scoped>\n",
       "    .dataframe tbody tr th:only-of-type {\n",
       "        vertical-align: middle;\n",
       "    }\n",
       "\n",
       "    .dataframe tbody tr th {\n",
       "        vertical-align: top;\n",
       "    }\n",
       "\n",
       "    .dataframe thead th {\n",
       "        text-align: right;\n",
       "    }\n",
       "</style>\n",
       "<table border=\"1\" class=\"dataframe\">\n",
       "  <thead>\n",
       "    <tr style=\"text-align: right;\">\n",
       "      <th></th>\n",
       "      <th></th>\n",
       "      <th>flug</th>\n",
       "      <th>fldg</th>\n",
       "      <th>fnetg</th>\n",
       "    </tr>\n",
       "    <tr>\n",
       "      <th>pressure</th>\n",
       "      <th>level</th>\n",
       "      <th></th>\n",
       "      <th></th>\n",
       "      <th></th>\n",
       "    </tr>\n",
       "  </thead>\n",
       "  <tbody>\n",
       "    <tr>\n",
       "      <th>0.0000</th>\n",
       "      <th>1</th>\n",
       "      <td>-33.983533</td>\n",
       "      <td>0.000000</td>\n",
       "      <td>-33.983533</td>\n",
       "    </tr>\n",
       "    <tr>\n",
       "      <th>1.0685</th>\n",
       "      <th>24</th>\n",
       "      <td>-33.987961</td>\n",
       "      <td>0.074636</td>\n",
       "      <td>-33.913325</td>\n",
       "    </tr>\n",
       "    <tr>\n",
       "      <th>1013.0000</th>\n",
       "      <th>76</th>\n",
       "      <td>-51.073428</td>\n",
       "      <td>50.951360</td>\n",
       "      <td>-0.122070</td>\n",
       "    </tr>\n",
       "  </tbody>\n",
       "</table>\n",
       "</div>"
      ],
      "text/plain": [
       "                      flug       fldg      fnetg\n",
       "pressure  level                                 \n",
       "0.0000    1     -33.983533   0.000000 -33.983533\n",
       "1.0685    24    -33.987961   0.074636 -33.913325\n",
       "1013.0000 76    -51.073428  50.951360  -0.122070"
      ]
     },
     "metadata": {},
     "output_type": "display_data"
    },
    {
     "name": "stdout",
     "output_type": "stream",
     "text": [
      "Table. Fluxes. WGT igg=10 wgt_flux=1\n"
     ]
    },
    {
     "data": {
      "text/html": [
       "<div>\n",
       "<style scoped>\n",
       "    .dataframe tbody tr th:only-of-type {\n",
       "        vertical-align: middle;\n",
       "    }\n",
       "\n",
       "    .dataframe tbody tr th {\n",
       "        vertical-align: top;\n",
       "    }\n",
       "\n",
       "    .dataframe thead th {\n",
       "        text-align: right;\n",
       "    }\n",
       "</style>\n",
       "<table border=\"1\" class=\"dataframe\">\n",
       "  <thead>\n",
       "    <tr style=\"text-align: right;\">\n",
       "      <th></th>\n",
       "      <th></th>\n",
       "      <th>flug</th>\n",
       "      <th>fldg</th>\n",
       "      <th>fnetg</th>\n",
       "    </tr>\n",
       "    <tr>\n",
       "      <th>pressure</th>\n",
       "      <th>level</th>\n",
       "      <th></th>\n",
       "      <th></th>\n",
       "      <th></th>\n",
       "    </tr>\n",
       "  </thead>\n",
       "  <tbody>\n",
       "    <tr>\n",
       "      <th>1.000000e-08</th>\n",
       "      <th>1</th>\n",
       "      <td>-34.073650</td>\n",
       "      <td>5.670603e-07</td>\n",
       "      <td>-34.073650</td>\n",
       "    </tr>\n",
       "    <tr>\n",
       "      <th>1.068500e+00</th>\n",
       "      <th>24</th>\n",
       "      <td>-34.078435</td>\n",
       "      <td>6.992211e-02</td>\n",
       "      <td>-34.008513</td>\n",
       "    </tr>\n",
       "    <tr>\n",
       "      <th>1.013000e+03</th>\n",
       "      <th>76</th>\n",
       "      <td>-51.073430</td>\n",
       "      <td>5.095134e+01</td>\n",
       "      <td>-0.122092</td>\n",
       "    </tr>\n",
       "  </tbody>\n",
       "</table>\n",
       "</div>"
      ],
      "text/plain": [
       "                         flug          fldg      fnetg\n",
       "pressure     level                                    \n",
       "1.000000e-08 1     -34.073650  5.670603e-07 -34.073650\n",
       "1.068500e+00 24    -34.078435  6.992211e-02 -34.008513\n",
       "1.013000e+03 76    -51.073430  5.095134e+01  -0.122092"
      ]
     },
     "metadata": {},
     "output_type": "display_data"
    },
    {
     "name": "stdout",
     "output_type": "stream",
     "text": [
      "Table. Fluxes. CLIRAD\n"
     ]
    },
    {
     "data": {
      "text/html": [
       "<div>\n",
       "<style scoped>\n",
       "    .dataframe tbody tr th:only-of-type {\n",
       "        vertical-align: middle;\n",
       "    }\n",
       "\n",
       "    .dataframe tbody tr th {\n",
       "        vertical-align: top;\n",
       "    }\n",
       "\n",
       "    .dataframe thead th {\n",
       "        text-align: right;\n",
       "    }\n",
       "</style>\n",
       "<table border=\"1\" class=\"dataframe\">\n",
       "  <thead>\n",
       "    <tr style=\"text-align: right;\">\n",
       "      <th></th>\n",
       "      <th></th>\n",
       "      <th>flug</th>\n",
       "      <th>fldg</th>\n",
       "      <th>fnetg</th>\n",
       "    </tr>\n",
       "    <tr>\n",
       "      <th>pressure</th>\n",
       "      <th>level</th>\n",
       "      <th></th>\n",
       "      <th></th>\n",
       "      <th></th>\n",
       "    </tr>\n",
       "  </thead>\n",
       "  <tbody>\n",
       "    <tr>\n",
       "      <th>0.0000</th>\n",
       "      <th>1</th>\n",
       "      <td>2.804587e-01</td>\n",
       "      <td>0.000000e+00</td>\n",
       "      <td>2.804587e-01</td>\n",
       "    </tr>\n",
       "    <tr>\n",
       "      <th>1.0685</th>\n",
       "      <th>24</th>\n",
       "      <td>2.828890e-01</td>\n",
       "      <td>1.076051e-03</td>\n",
       "      <td>2.839659e-01</td>\n",
       "    </tr>\n",
       "    <tr>\n",
       "      <th>1013.0000</th>\n",
       "      <th>76</th>\n",
       "      <td>6.007000e-07</td>\n",
       "      <td>9.476000e-07</td>\n",
       "      <td>6.106360e-07</td>\n",
       "    </tr>\n",
       "  </tbody>\n",
       "</table>\n",
       "</div>"
      ],
      "text/plain": [
       "                         flug          fldg         fnetg\n",
       "pressure  level                                          \n",
       "0.0000    1      2.804587e-01  0.000000e+00  2.804587e-01\n",
       "1.0685    24     2.828890e-01  1.076051e-03  2.839659e-01\n",
       "1013.0000 76     6.007000e-07  9.476000e-07  6.106360e-07"
      ]
     },
     "metadata": {},
     "output_type": "display_data"
    },
    {
     "name": "stdout",
     "output_type": "stream",
     "text": [
      "Table. Fluxes. (WGT igg=10 wgt_flux=1) - (CRD)\n"
     ]
    },
    {
     "data": {
      "text/html": [
       "<div>\n",
       "<style scoped>\n",
       "    .dataframe tbody tr th:only-of-type {\n",
       "        vertical-align: middle;\n",
       "    }\n",
       "\n",
       "    .dataframe tbody tr th {\n",
       "        vertical-align: top;\n",
       "    }\n",
       "\n",
       "    .dataframe thead th {\n",
       "        text-align: right;\n",
       "    }\n",
       "</style>\n",
       "<table border=\"1\" class=\"dataframe\">\n",
       "  <thead>\n",
       "    <tr style=\"text-align: right;\">\n",
       "      <th></th>\n",
       "      <th></th>\n",
       "      <th>flug</th>\n",
       "      <th>fldg</th>\n",
       "      <th>fnetg</th>\n",
       "    </tr>\n",
       "    <tr>\n",
       "      <th>pressure</th>\n",
       "      <th>level</th>\n",
       "      <th></th>\n",
       "      <th></th>\n",
       "      <th></th>\n",
       "    </tr>\n",
       "  </thead>\n",
       "  <tbody>\n",
       "    <tr>\n",
       "      <th>0.0000</th>\n",
       "      <th>1</th>\n",
       "      <td>0.190342</td>\n",
       "      <td>5.670603e-07</td>\n",
       "      <td>0.190342</td>\n",
       "    </tr>\n",
       "    <tr>\n",
       "      <th>1.0685</th>\n",
       "      <th>24</th>\n",
       "      <td>0.192415</td>\n",
       "      <td>-3.637620e-03</td>\n",
       "      <td>0.188778</td>\n",
       "    </tr>\n",
       "    <tr>\n",
       "      <th>1013.0000</th>\n",
       "      <th>76</th>\n",
       "      <td>-0.000001</td>\n",
       "      <td>-2.100000e-05</td>\n",
       "      <td>-0.000022</td>\n",
       "    </tr>\n",
       "  </tbody>\n",
       "</table>\n",
       "</div>"
      ],
      "text/plain": [
       "                     flug          fldg     fnetg\n",
       "pressure  level                                  \n",
       "0.0000    1      0.190342  5.670603e-07  0.190342\n",
       "1.0685    24     0.192415 -3.637620e-03  0.188778\n",
       "1013.0000 76    -0.000001 -2.100000e-05 -0.000022"
      ]
     },
     "metadata": {},
     "output_type": "display_data"
    },
    {
     "name": "stdout",
     "output_type": "stream",
     "text": [
      "Table. Fluxes. (CLIRAD) - (CRD)\n"
     ]
    },
    {
     "data": {
      "text/html": [
       "<a id=\"Best-fit_Parameters\"></a>"
      ],
      "text/plain": [
       "<IPython.core.display.HTML object>"
      ]
     },
     "metadata": {},
     "output_type": "display_data"
    },
    {
     "data": {
      "text/markdown": [
       "# Best-fit Parameters"
      ],
      "text/plain": [
       "<IPython.core.display.Markdown object>"
      ]
     },
     "metadata": {},
     "output_type": "display_data"
    },
    {
     "name": "stdout",
     "output_type": "stream",
     "text": [
      "Best-fit values for each (gas, band)\n",
      "------------------------------------\n",
      "o h2o band1\n",
      "  atmpro = mls\n",
      "  band = 1\n",
      "  commitnumber = a06b618\n",
      "  conc = None\n",
      "  dv = 0.001\n",
      "  klin = 0\n",
      "  molecule = h2o\n",
      "  ng_adju = [0, 0, 0]\n",
      "  ng_refs = [3, 3, 6]\n",
      "  nv = 1000\n",
      "  option_compute_btable = 0\n",
      "  option_compute_ktable = 1\n",
      "  option_wgt_flux = 1\n",
      "  option_wgt_k = 1\n",
      "  ref_pts = [(1, 250), (30, 250), (300, 250)]\n",
      "  tsfc = 294\n",
      "  vmax = 340\n",
      "  vmin = 20\n",
      "  w_diffuse = [(1.66, 1.66, 1.66), (1.66, 1.66, 1.66), (1.66, 1.66, 1.5, 1.5, 1.5, 1.5)]\n",
      "  wgt = [(0.2, 0.2, 0.2), (0.2, 0.2, 0.2), (0.2, 0.2, 0.65, 0.65, 0.65, 0.65)]\n"
     ]
    }
   ],
   "source": [
    "script()"
   ]
  },
  {
   "cell_type": "code",
   "execution_count": 13,
   "metadata": {
    "collapsed": true
   },
   "outputs": [
    {
     "data": {
      "text/html": [
       "<script>\n",
       "code_show=true; \n",
       "function code_toggle() {\n",
       " if (code_show){\n",
       " $('div.input').hide();\n",
       " } else {\n",
       " $('div.input').show();\n",
       " }\n",
       " code_show = !code_show\n",
       "} \n",
       "$( document ).ready(code_toggle);\n",
       "</script>\n",
       "<form action=\"javascript:code_toggle()\"><input type=\"submit\" value=\"Click here to toggle on/off the raw code.\"></form>"
      ],
      "text/plain": [
       "<IPython.core.display.HTML object>"
      ]
     },
     "execution_count": 13,
     "metadata": {},
     "output_type": "execute_result"
    }
   ],
   "source": [
    "display.HTML('''<script>\n",
    "code_show=true; \n",
    "function code_toggle() {\n",
    " if (code_show){\n",
    " $('div.input').hide();\n",
    " } else {\n",
    " $('div.input').show();\n",
    " }\n",
    " code_show = !code_show\n",
    "} \n",
    "$( document ).ready(code_toggle);\n",
    "</script>\n",
    "<form action=\"javascript:code_toggle()\"><input type=\"submit\" value=\"Click here to toggle on/off the raw code.\"></form>''')"
   ]
  }
 ],
 "metadata": {
  "kernelspec": {
   "display_name": "Python 3",
   "language": "python",
   "name": "python3"
  },
  "language_info": {
   "codemirror_mode": {
    "name": "ipython",
    "version": 3
   },
   "file_extension": ".py",
   "mimetype": "text/x-python",
   "name": "python",
   "nbconvert_exporter": "python",
   "pygments_lexer": "ipython3",
   "version": "3.6.1"
  }
 },
 "nbformat": 4,
 "nbformat_minor": 2
}
