{
 "cells": [
  {
   "cell_type": "code",
   "execution_count": 1,
   "metadata": {
    "collapsed": true
   },
   "outputs": [],
   "source": [
    "%matplotlib inline\n",
    "import os\n",
    "import re\n",
    "import io\n",
    "import itertools\n",
    "import pprint\n",
    "\n",
    "from bokeh.io import output_notebook, show\n",
    "from bokeh.layouts import gridplot\n",
    "from bokeh.plotting import figure\n",
    "from bokeh.models import Range1d, Legend\n",
    "from bokeh.palettes import all_palettes\n",
    "\n",
    "import matplotlib\n",
    "import matplotlib.pyplot as plt\n",
    "import numpy as np\n",
    "import pandas as pd\n",
    "import xarray as xr\n",
    "\n",
    "import climatools.lblnew.bestfit_params as bestfits\n",
    "from climatools.lblnew import setup_bestfit, setup_overlap\n",
    "import climatools.lblnew.pipeline as pipe_lblnew\n",
    "import climatools.cliradlw.setup as setup_cliradlw\n",
    "import climatools.cliradlw.pipeline as pipe_cliradlw\n",
    "\n",
    "import climatools.html.html as climahtml\n",
    "from climatools.lblnew.dataio import *\n",
    "from climatools.plot.plot import *\n",
    "\n",
    "\n",
    "import IPython.display as display"
   ]
  },
  {
   "cell_type": "code",
   "execution_count": 2,
   "metadata": {
    "collapsed": true
   },
   "outputs": [],
   "source": [
    "%run param.py"
   ]
  },
  {
   "cell_type": "code",
   "execution_count": 3,
   "metadata": {
    "collapsed": true
   },
   "outputs": [],
   "source": [
    "def load_output_file(path_csv):\n",
    "    '''\n",
    "    Load lblnew output .csv file to xarray.Dataset\n",
    "    \n",
    "    Parameters\n",
    "    ----------\n",
    "    path_csv: str\n",
    "              Path to the .csv file to be loaded.\n",
    "    ds: xarray.Dataset\n",
    "        Data in the input file in the form of an xarray.Dataset.\n",
    "    '''\n",
    "    toindex = ['band', 'pressure', 'igg', 'g']    \n",
    "    df = pd.read_csv(path_csv, sep=r'\\s+')\n",
    "    df = df.set_index([i for i in toindex if i in df.columns])\n",
    "    df = df.rename(columns={'sfu': 'flug',\n",
    "                            'sfd': 'fldg',\n",
    "                            'fnet': 'fnetg',\n",
    "                            'coolr': 'coolrg'})\n",
    "    ds = xr.Dataset.from_dataframe(df)\n",
    "\n",
    "    for l in ('level', 'layer'):\n",
    "        if l in ds.data_vars:\n",
    "            if len(ds[l].dims) > 1:\n",
    "                surface = {d: 0 for d in ds.dims if d != 'pressure'}\n",
    "                coord_level = ds[l][surface]\n",
    "                ds.coords[l] = ('pressure', coord_level)\n",
    "            else:\n",
    "                ds.coords[l] = ('pressure', ds[l])\n",
    "    \n",
    "    return ds"
   ]
  },
  {
   "cell_type": "code",
   "execution_count": 4,
   "metadata": {
    "collapsed": true
   },
   "outputs": [],
   "source": [
    "def lblnew_setup(param=None):\n",
    "    if 'ng_refs' in param:\n",
    "        return {'setup': setup_bestfit,\n",
    "                'fname_flux_crd': 'output_flux.dat',\n",
    "                'fname_cool_crd': 'output_coolr.dat',\n",
    "                'fname_flux_wgt': 'output_wfluxg.dat',\n",
    "                'fname_cool_wgt': 'output_wcoolrg.dat'}\n",
    "    else:\n",
    "        return {'setup': setup_overlap,\n",
    "                'fname_flux_crd': 'output_flux.dat',\n",
    "                'fname_cool_crd': 'output_coolr.dat',\n",
    "                'fname_flux_wgt': 'output_wflux.dat',\n",
    "                'fname_cool_wgt': 'output_wcoolr.dat'}\n",
    "\n",
    "    \n",
    "def load_lblnew_data(param):\n",
    "    \n",
    "    fname_dsname = [('fname_flux_crd', 'ds_flux_crd'),\n",
    "                    ('fname_cool_crd', 'ds_cool_crd'),\n",
    "                    ('fname_flux_wgt', 'ds_flux_wgt'),\n",
    "                    ('fname_cool_wgt', 'ds_cool_wgt')]\n",
    "    \n",
    "    d = lblnew_setup(param)\n",
    "    dir_fortran = pipe_lblnew.get_dir_case(param, setup=d['setup'])\n",
    "    \n",
    "    data_dict = {}\n",
    "    for fname, dsname in fname_dsname:\n",
    "        fpath = os.path.join(dir_fortran, d[fname])\n",
    "        data_dict[dsname] = load_output_file(fpath)\n",
    "    return data_dict\n",
    "    \n",
    "\n",
    "    \n",
    "    "
   ]
  },
  {
   "cell_type": "code",
   "execution_count": 5,
   "metadata": {
    "collapsed": true
   },
   "outputs": [],
   "source": [
    "d = load_lblnew_data(PARAM_LBLNEW)\n",
    "\n",
    "DS_FLUX_CRD = d['ds_flux_crd']\n",
    "DS_COOL_CRD = d['ds_cool_crd']\n",
    "DS_FLUX_WGT = d['ds_flux_wgt']\n",
    "DS_COOL_WGT = d['ds_cool_wgt']"
   ]
  },
  {
   "cell_type": "code",
   "execution_count": 6,
   "metadata": {
    "collapsed": true
   },
   "outputs": [],
   "source": [
    "DIR_FORTRAN = pipe_cliradlw.get_fortran_dir(PARAM, \n",
    "                                            setup=setup_cliradlw)\n",
    "\n",
    "PATH_FLUX = os.path.join(DIR_FORTRAN, 'output_flux.dat')\n",
    "PATH_COOL = os.path.join(DIR_FORTRAN, 'output_coolr.dat')\n",
    "\n",
    "DS_FLUX = load_output_file(PATH_FLUX)\n",
    "DS_COOL = load_output_file(PATH_COOL)"
   ]
  },
  {
   "cell_type": "code",
   "execution_count": 7,
   "metadata": {
    "collapsed": true
   },
   "outputs": [
    {
     "data": {
      "text/html": [
       "\n",
       "    <div class=\"bk-root\">\n",
       "        <a href=\"https://bokeh.pydata.org\" target=\"_blank\" class=\"bk-logo bk-logo-small bk-logo-notebook\"></a>\n",
       "        <span id=\"991e6e9b-713a-4255-9eb5-04f76ae7bcd4\">Loading BokehJS ...</span>\n",
       "    </div>"
      ]
     },
     "metadata": {},
     "output_type": "display_data"
    },
    {
     "data": {
      "application/javascript": [
       "\n",
       "(function(root) {\n",
       "  function now() {\n",
       "    return new Date();\n",
       "  }\n",
       "\n",
       "  var force = true;\n",
       "\n",
       "  if (typeof (root._bokeh_onload_callbacks) === \"undefined\" || force === true) {\n",
       "    root._bokeh_onload_callbacks = [];\n",
       "    root._bokeh_is_loading = undefined;\n",
       "  }\n",
       "\n",
       "  var JS_MIME_TYPE = 'application/javascript';\n",
       "  var HTML_MIME_TYPE = 'text/html';\n",
       "  var EXEC_MIME_TYPE = 'application/vnd.bokehjs_exec.v0+json';\n",
       "  var CLASS_NAME = 'output_bokeh rendered_html';\n",
       "\n",
       "  /**\n",
       "   * Render data to the DOM node\n",
       "   */\n",
       "  function render(props, node) {\n",
       "    var script = document.createElement(\"script\");\n",
       "    node.appendChild(script);\n",
       "  }\n",
       "\n",
       "  /**\n",
       "   * Handle when an output is cleared or removed\n",
       "   */\n",
       "  function handleClearOutput(event, handle) {\n",
       "    var cell = handle.cell;\n",
       "\n",
       "    var id = cell.output_area._bokeh_element_id;\n",
       "    var server_id = cell.output_area._bokeh_server_id;\n",
       "    // Clean up Bokeh references\n",
       "    if (id !== undefined) {\n",
       "      Bokeh.index[id].model.document.clear();\n",
       "      delete Bokeh.index[id];\n",
       "    }\n",
       "\n",
       "    if (server_id !== undefined) {\n",
       "      // Clean up Bokeh references\n",
       "      var cmd = \"from bokeh.io.state import curstate; print(curstate().uuid_to_server['\" + server_id + \"'].get_sessions()[0].document.roots[0]._id)\";\n",
       "      cell.notebook.kernel.execute(cmd, {\n",
       "        iopub: {\n",
       "          output: function(msg) {\n",
       "            var element_id = msg.content.text.trim();\n",
       "            Bokeh.index[element_id].model.document.clear();\n",
       "            delete Bokeh.index[element_id];\n",
       "          }\n",
       "        }\n",
       "      });\n",
       "      // Destroy server and session\n",
       "      var cmd = \"import bokeh.io.notebook as ion; ion.destroy_server('\" + server_id + \"')\";\n",
       "      cell.notebook.kernel.execute(cmd);\n",
       "    }\n",
       "  }\n",
       "\n",
       "  /**\n",
       "   * Handle when a new output is added\n",
       "   */\n",
       "  function handleAddOutput(event, handle) {\n",
       "    var output_area = handle.output_area;\n",
       "    var output = handle.output;\n",
       "\n",
       "    // limit handleAddOutput to display_data with EXEC_MIME_TYPE content only\n",
       "    if ((output.output_type != \"display_data\") || (!output.data.hasOwnProperty(EXEC_MIME_TYPE))) {\n",
       "      return\n",
       "    }\n",
       "\n",
       "    var toinsert = output_area.element.find(\".\" + CLASS_NAME.split(' ')[0]);\n",
       "\n",
       "    if (output.metadata[EXEC_MIME_TYPE][\"id\"] !== undefined) {\n",
       "      toinsert[toinsert.length - 1].firstChild.textContent = output.data[JS_MIME_TYPE];\n",
       "      // store reference to embed id on output_area\n",
       "      output_area._bokeh_element_id = output.metadata[EXEC_MIME_TYPE][\"id\"];\n",
       "    }\n",
       "    if (output.metadata[EXEC_MIME_TYPE][\"server_id\"] !== undefined) {\n",
       "      var bk_div = document.createElement(\"div\");\n",
       "      bk_div.innerHTML = output.data[HTML_MIME_TYPE];\n",
       "      var script_attrs = bk_div.children[0].attributes;\n",
       "      for (var i = 0; i < script_attrs.length; i++) {\n",
       "        toinsert[toinsert.length - 1].firstChild.setAttribute(script_attrs[i].name, script_attrs[i].value);\n",
       "      }\n",
       "      // store reference to server id on output_area\n",
       "      output_area._bokeh_server_id = output.metadata[EXEC_MIME_TYPE][\"server_id\"];\n",
       "    }\n",
       "  }\n",
       "\n",
       "  function register_renderer(events, OutputArea) {\n",
       "\n",
       "    function append_mime(data, metadata, element) {\n",
       "      // create a DOM node to render to\n",
       "      var toinsert = this.create_output_subarea(\n",
       "        metadata,\n",
       "        CLASS_NAME,\n",
       "        EXEC_MIME_TYPE\n",
       "      );\n",
       "      this.keyboard_manager.register_events(toinsert);\n",
       "      // Render to node\n",
       "      var props = {data: data, metadata: metadata[EXEC_MIME_TYPE]};\n",
       "      render(props, toinsert[toinsert.length - 1]);\n",
       "      element.append(toinsert);\n",
       "      return toinsert\n",
       "    }\n",
       "\n",
       "    /* Handle when an output is cleared or removed */\n",
       "    events.on('clear_output.CodeCell', handleClearOutput);\n",
       "    events.on('delete.Cell', handleClearOutput);\n",
       "\n",
       "    /* Handle when a new output is added */\n",
       "    events.on('output_added.OutputArea', handleAddOutput);\n",
       "\n",
       "    /**\n",
       "     * Register the mime type and append_mime function with output_area\n",
       "     */\n",
       "    OutputArea.prototype.register_mime_type(EXEC_MIME_TYPE, append_mime, {\n",
       "      /* Is output safe? */\n",
       "      safe: true,\n",
       "      /* Index of renderer in `output_area.display_order` */\n",
       "      index: 0\n",
       "    });\n",
       "  }\n",
       "\n",
       "  // register the mime type if in Jupyter Notebook environment and previously unregistered\n",
       "  if (root.Jupyter !== undefined) {\n",
       "    var events = require('base/js/events');\n",
       "    var OutputArea = require('notebook/js/outputarea').OutputArea;\n",
       "\n",
       "    if (OutputArea.prototype.mime_types().indexOf(EXEC_MIME_TYPE) == -1) {\n",
       "      register_renderer(events, OutputArea);\n",
       "    }\n",
       "  }\n",
       "\n",
       "  \n",
       "  if (typeof (root._bokeh_timeout) === \"undefined\" || force === true) {\n",
       "    root._bokeh_timeout = Date.now() + 5000;\n",
       "    root._bokeh_failed_load = false;\n",
       "  }\n",
       "\n",
       "  var NB_LOAD_WARNING = {'data': {'text/html':\n",
       "     \"<div style='background-color: #fdd'>\\n\"+\n",
       "     \"<p>\\n\"+\n",
       "     \"BokehJS does not appear to have successfully loaded. If loading BokehJS from CDN, this \\n\"+\n",
       "     \"may be due to a slow or bad network connection. Possible fixes:\\n\"+\n",
       "     \"</p>\\n\"+\n",
       "     \"<ul>\\n\"+\n",
       "     \"<li>re-rerun `output_notebook()` to attempt to load from CDN again, or</li>\\n\"+\n",
       "     \"<li>use INLINE resources instead, as so:</li>\\n\"+\n",
       "     \"</ul>\\n\"+\n",
       "     \"<code>\\n\"+\n",
       "     \"from bokeh.resources import INLINE\\n\"+\n",
       "     \"output_notebook(resources=INLINE)\\n\"+\n",
       "     \"</code>\\n\"+\n",
       "     \"</div>\"}};\n",
       "\n",
       "  function display_loaded() {\n",
       "    var el = document.getElementById(\"991e6e9b-713a-4255-9eb5-04f76ae7bcd4\");\n",
       "    if (el != null) {\n",
       "      el.textContent = \"BokehJS is loading...\";\n",
       "    }\n",
       "    if (root.Bokeh !== undefined) {\n",
       "      if (el != null) {\n",
       "        el.textContent = \"BokehJS \" + root.Bokeh.version + \" successfully loaded.\";\n",
       "      }\n",
       "    } else if (Date.now() < root._bokeh_timeout) {\n",
       "      setTimeout(display_loaded, 100)\n",
       "    }\n",
       "  }\n",
       "\n",
       "\n",
       "  function run_callbacks() {\n",
       "    try {\n",
       "      root._bokeh_onload_callbacks.forEach(function(callback) { callback() });\n",
       "    }\n",
       "    finally {\n",
       "      delete root._bokeh_onload_callbacks\n",
       "    }\n",
       "    console.info(\"Bokeh: all callbacks have finished\");\n",
       "  }\n",
       "\n",
       "  function load_libs(js_urls, callback) {\n",
       "    root._bokeh_onload_callbacks.push(callback);\n",
       "    if (root._bokeh_is_loading > 0) {\n",
       "      console.log(\"Bokeh: BokehJS is being loaded, scheduling callback at\", now());\n",
       "      return null;\n",
       "    }\n",
       "    if (js_urls == null || js_urls.length === 0) {\n",
       "      run_callbacks();\n",
       "      return null;\n",
       "    }\n",
       "    console.log(\"Bokeh: BokehJS not loaded, scheduling load and callback at\", now());\n",
       "    root._bokeh_is_loading = js_urls.length;\n",
       "    for (var i = 0; i < js_urls.length; i++) {\n",
       "      var url = js_urls[i];\n",
       "      var s = document.createElement('script');\n",
       "      s.src = url;\n",
       "      s.async = false;\n",
       "      s.onreadystatechange = s.onload = function() {\n",
       "        root._bokeh_is_loading--;\n",
       "        if (root._bokeh_is_loading === 0) {\n",
       "          console.log(\"Bokeh: all BokehJS libraries loaded\");\n",
       "          run_callbacks()\n",
       "        }\n",
       "      };\n",
       "      s.onerror = function() {\n",
       "        console.warn(\"failed to load library \" + url);\n",
       "      };\n",
       "      console.log(\"Bokeh: injecting script tag for BokehJS library: \", url);\n",
       "      document.getElementsByTagName(\"head\")[0].appendChild(s);\n",
       "    }\n",
       "  };var element = document.getElementById(\"991e6e9b-713a-4255-9eb5-04f76ae7bcd4\");\n",
       "  if (element == null) {\n",
       "    console.log(\"Bokeh: ERROR: autoload.js configured with elementid '991e6e9b-713a-4255-9eb5-04f76ae7bcd4' but no matching script tag was found. \")\n",
       "    return false;\n",
       "  }\n",
       "\n",
       "  var js_urls = [\"https://cdn.pydata.org/bokeh/release/bokeh-0.12.16.min.js\", \"https://cdn.pydata.org/bokeh/release/bokeh-widgets-0.12.16.min.js\", \"https://cdn.pydata.org/bokeh/release/bokeh-tables-0.12.16.min.js\", \"https://cdn.pydata.org/bokeh/release/bokeh-gl-0.12.16.min.js\"];\n",
       "\n",
       "  var inline_js = [\n",
       "    function(Bokeh) {\n",
       "      Bokeh.set_log_level(\"info\");\n",
       "    },\n",
       "    \n",
       "    function(Bokeh) {\n",
       "      \n",
       "    },\n",
       "    function(Bokeh) {\n",
       "      console.log(\"Bokeh: injecting CSS: https://cdn.pydata.org/bokeh/release/bokeh-0.12.16.min.css\");\n",
       "      Bokeh.embed.inject_css(\"https://cdn.pydata.org/bokeh/release/bokeh-0.12.16.min.css\");\n",
       "      console.log(\"Bokeh: injecting CSS: https://cdn.pydata.org/bokeh/release/bokeh-widgets-0.12.16.min.css\");\n",
       "      Bokeh.embed.inject_css(\"https://cdn.pydata.org/bokeh/release/bokeh-widgets-0.12.16.min.css\");\n",
       "      console.log(\"Bokeh: injecting CSS: https://cdn.pydata.org/bokeh/release/bokeh-tables-0.12.16.min.css\");\n",
       "      Bokeh.embed.inject_css(\"https://cdn.pydata.org/bokeh/release/bokeh-tables-0.12.16.min.css\");\n",
       "    }\n",
       "  ];\n",
       "\n",
       "  function run_inline_js() {\n",
       "    \n",
       "    if ((root.Bokeh !== undefined) || (force === true)) {\n",
       "      for (var i = 0; i < inline_js.length; i++) {\n",
       "        inline_js[i].call(root, root.Bokeh);\n",
       "      }if (force === true) {\n",
       "        display_loaded();\n",
       "      }} else if (Date.now() < root._bokeh_timeout) {\n",
       "      setTimeout(run_inline_js, 100);\n",
       "    } else if (!root._bokeh_failed_load) {\n",
       "      console.log(\"Bokeh: BokehJS failed to load within specified timeout.\");\n",
       "      root._bokeh_failed_load = true;\n",
       "    } else if (force !== true) {\n",
       "      var cell = $(document.getElementById(\"991e6e9b-713a-4255-9eb5-04f76ae7bcd4\")).parents('.cell').data().cell;\n",
       "      cell.output_area.append_execute_result(NB_LOAD_WARNING)\n",
       "    }\n",
       "\n",
       "  }\n",
       "\n",
       "  if (root._bokeh_is_loading === 0) {\n",
       "    console.log(\"Bokeh: BokehJS loaded, going straight to plotting\");\n",
       "    run_inline_js();\n",
       "  } else {\n",
       "    load_libs(js_urls, function() {\n",
       "      console.log(\"Bokeh: BokehJS plotting callback run at\", now());\n",
       "      run_inline_js();\n",
       "    });\n",
       "  }\n",
       "}(window));"
      ],
      "application/vnd.bokehjs_load.v0+json": "\n(function(root) {\n  function now() {\n    return new Date();\n  }\n\n  var force = true;\n\n  if (typeof (root._bokeh_onload_callbacks) === \"undefined\" || force === true) {\n    root._bokeh_onload_callbacks = [];\n    root._bokeh_is_loading = undefined;\n  }\n\n  \n\n  \n  if (typeof (root._bokeh_timeout) === \"undefined\" || force === true) {\n    root._bokeh_timeout = Date.now() + 5000;\n    root._bokeh_failed_load = false;\n  }\n\n  var NB_LOAD_WARNING = {'data': {'text/html':\n     \"<div style='background-color: #fdd'>\\n\"+\n     \"<p>\\n\"+\n     \"BokehJS does not appear to have successfully loaded. If loading BokehJS from CDN, this \\n\"+\n     \"may be due to a slow or bad network connection. Possible fixes:\\n\"+\n     \"</p>\\n\"+\n     \"<ul>\\n\"+\n     \"<li>re-rerun `output_notebook()` to attempt to load from CDN again, or</li>\\n\"+\n     \"<li>use INLINE resources instead, as so:</li>\\n\"+\n     \"</ul>\\n\"+\n     \"<code>\\n\"+\n     \"from bokeh.resources import INLINE\\n\"+\n     \"output_notebook(resources=INLINE)\\n\"+\n     \"</code>\\n\"+\n     \"</div>\"}};\n\n  function display_loaded() {\n    var el = document.getElementById(\"991e6e9b-713a-4255-9eb5-04f76ae7bcd4\");\n    if (el != null) {\n      el.textContent = \"BokehJS is loading...\";\n    }\n    if (root.Bokeh !== undefined) {\n      if (el != null) {\n        el.textContent = \"BokehJS \" + root.Bokeh.version + \" successfully loaded.\";\n      }\n    } else if (Date.now() < root._bokeh_timeout) {\n      setTimeout(display_loaded, 100)\n    }\n  }\n\n\n  function run_callbacks() {\n    try {\n      root._bokeh_onload_callbacks.forEach(function(callback) { callback() });\n    }\n    finally {\n      delete root._bokeh_onload_callbacks\n    }\n    console.info(\"Bokeh: all callbacks have finished\");\n  }\n\n  function load_libs(js_urls, callback) {\n    root._bokeh_onload_callbacks.push(callback);\n    if (root._bokeh_is_loading > 0) {\n      console.log(\"Bokeh: BokehJS is being loaded, scheduling callback at\", now());\n      return null;\n    }\n    if (js_urls == null || js_urls.length === 0) {\n      run_callbacks();\n      return null;\n    }\n    console.log(\"Bokeh: BokehJS not loaded, scheduling load and callback at\", now());\n    root._bokeh_is_loading = js_urls.length;\n    for (var i = 0; i < js_urls.length; i++) {\n      var url = js_urls[i];\n      var s = document.createElement('script');\n      s.src = url;\n      s.async = false;\n      s.onreadystatechange = s.onload = function() {\n        root._bokeh_is_loading--;\n        if (root._bokeh_is_loading === 0) {\n          console.log(\"Bokeh: all BokehJS libraries loaded\");\n          run_callbacks()\n        }\n      };\n      s.onerror = function() {\n        console.warn(\"failed to load library \" + url);\n      };\n      console.log(\"Bokeh: injecting script tag for BokehJS library: \", url);\n      document.getElementsByTagName(\"head\")[0].appendChild(s);\n    }\n  };var element = document.getElementById(\"991e6e9b-713a-4255-9eb5-04f76ae7bcd4\");\n  if (element == null) {\n    console.log(\"Bokeh: ERROR: autoload.js configured with elementid '991e6e9b-713a-4255-9eb5-04f76ae7bcd4' but no matching script tag was found. \")\n    return false;\n  }\n\n  var js_urls = [\"https://cdn.pydata.org/bokeh/release/bokeh-0.12.16.min.js\", \"https://cdn.pydata.org/bokeh/release/bokeh-widgets-0.12.16.min.js\", \"https://cdn.pydata.org/bokeh/release/bokeh-tables-0.12.16.min.js\", \"https://cdn.pydata.org/bokeh/release/bokeh-gl-0.12.16.min.js\"];\n\n  var inline_js = [\n    function(Bokeh) {\n      Bokeh.set_log_level(\"info\");\n    },\n    \n    function(Bokeh) {\n      \n    },\n    function(Bokeh) {\n      console.log(\"Bokeh: injecting CSS: https://cdn.pydata.org/bokeh/release/bokeh-0.12.16.min.css\");\n      Bokeh.embed.inject_css(\"https://cdn.pydata.org/bokeh/release/bokeh-0.12.16.min.css\");\n      console.log(\"Bokeh: injecting CSS: https://cdn.pydata.org/bokeh/release/bokeh-widgets-0.12.16.min.css\");\n      Bokeh.embed.inject_css(\"https://cdn.pydata.org/bokeh/release/bokeh-widgets-0.12.16.min.css\");\n      console.log(\"Bokeh: injecting CSS: https://cdn.pydata.org/bokeh/release/bokeh-tables-0.12.16.min.css\");\n      Bokeh.embed.inject_css(\"https://cdn.pydata.org/bokeh/release/bokeh-tables-0.12.16.min.css\");\n    }\n  ];\n\n  function run_inline_js() {\n    \n    if ((root.Bokeh !== undefined) || (force === true)) {\n      for (var i = 0; i < inline_js.length; i++) {\n        inline_js[i].call(root, root.Bokeh);\n      }if (force === true) {\n        display_loaded();\n      }} else if (Date.now() < root._bokeh_timeout) {\n      setTimeout(run_inline_js, 100);\n    } else if (!root._bokeh_failed_load) {\n      console.log(\"Bokeh: BokehJS failed to load within specified timeout.\");\n      root._bokeh_failed_load = true;\n    } else if (force !== true) {\n      var cell = $(document.getElementById(\"991e6e9b-713a-4255-9eb5-04f76ae7bcd4\")).parents('.cell').data().cell;\n      cell.output_area.append_execute_result(NB_LOAD_WARNING)\n    }\n\n  }\n\n  if (root._bokeh_is_loading === 0) {\n    console.log(\"Bokeh: BokehJS loaded, going straight to plotting\");\n    run_inline_js();\n  } else {\n    load_libs(js_urls, function() {\n      console.log(\"Bokeh: BokehJS plotting callback run at\", now());\n      run_inline_js();\n    });\n  }\n}(window));"
     },
     "metadata": {},
     "output_type": "display_data"
    }
   ],
   "source": [
    "output_notebook()"
   ]
  },
  {
   "cell_type": "code",
   "execution_count": 8,
   "metadata": {
    "collapsed": true
   },
   "outputs": [],
   "source": [
    "def fmt_cool(ds_in):\n",
    "    ds = ds_in.copy(deep=True)\n",
    "    if 'igg' in ds.dims:\n",
    "        ds = ds.sel(igg=1)\n",
    "\n",
    "    if 'g' in ds.dims:\n",
    "        ds = ds.sum('g')\n",
    "            \n",
    "    if 'band' in ds.dims:\n",
    "        try:\n",
    "            ds = ds.squeeze('band')\n",
    "        except ValueError:\n",
    "            ds = ds.sum('band')\n",
    "                \n",
    "    return ds['coolrg']\n",
    "\n",
    "\n",
    "def pltdata_cooling_1(ds_cool=None,\n",
    "                      ds_cool_crd=None, ds_cool_wgt=None):\n",
    "    \n",
    "\n",
    "\n",
    "    colors = all_palettes['Set1'][4]\n",
    "    data = [{'label': 'CLIRAD `coolr_bands`',\n",
    "             'srs': fmt_cool(ds_cool),\n",
    "             'line_dash': 'dashed', 'line_width': 5,\n",
    "             'color': colors[0], 'alpha': .6},\n",
    "            {'label': 'CRD',\n",
    "             'srs': fmt_cool(ds_cool_crd),\n",
    "             'line_dash': 'solid', 'line_width': 1.5,\n",
    "             'marker': 'circle', 'marker_size': 5,\n",
    "             'color': colors[2], 'alpha': 1,},\n",
    "            {'label': 'WGT igg=10 wgt_flux=2',\n",
    "             'srs': fmt_cool(ds_cool_wgt),\n",
    "             'line_dash': 'solid', 'line_width': 3,\n",
    "             'marker': 'square', 'marker_size': 5,\n",
    "             'color': colors[3], 'alpha': .6}]\n",
    "    return data\n",
    "\n",
    "\n",
    "def nice_xlims(pltdata=None, prange=None):\n",
    "    \n",
    "    def get_slice(srs):\n",
    "        return srs.sel(pressure=slice(*prange))\n",
    "    \n",
    "    srss = [d['srs'] for d in pltdata]\n",
    "    vmin = min([get_slice(srs).min() for srs in srss])\n",
    "    vmax = max([get_slice(srs).max() for srs in srss])\n",
    "    dv = (vmax - vmin) * .01\n",
    "    return float(vmin - dv), float(vmax + dv)\n",
    "    \n",
    "\n",
    "def plt_cooling_bokeh(pltdata=None):\n",
    "    '''\n",
    "    Plot a list of cooling rate profiles using bokeh.\n",
    "    '''\n",
    "    ymin = 1e-2 \n",
    "    ymax = 1020 \n",
    "        \n",
    "    p1 = figure(title=\"Linear pressure scale\", \n",
    "                plot_width=400)        \n",
    "    xmin, xmax = nice_xlims(pltdata, prange=(50, 1050))\n",
    "    for d in pltdata:\n",
    "        if 'marker' in d:\n",
    "            getattr(p1, d['marker'])(d['srs'].values, \n",
    "                    d['srs'].coords['pressure'].values,\n",
    "                    color=d['color'], alpha=.7)\n",
    "        p1.line(d['srs'].values, \n",
    "                d['srs'].coords['pressure'].values,\n",
    "                color=d['color'], alpha=d['alpha'], \n",
    "                line_width=d['line_width'], line_dash=d['line_dash'])\n",
    "    \n",
    "    p1.y_range = Range1d(ymax, ymin)\n",
    "    p1.yaxis.axis_label = 'pressure [mb]'   \n",
    "    p1.x_range = Range1d(xmin, xmax)\n",
    "    p1.xaxis.axis_label = 'cooling rate [K/day]'\n",
    "            \n",
    "    p2 = figure(title='Log pressure scale', y_axis_type='log',\n",
    "                plot_width=560)\n",
    "    xmin, xmax = nice_xlims(pltdata, prange=(.01, 200))\n",
    "    \n",
    "    rs = []\n",
    "    for d in pltdata:\n",
    "        rd = []\n",
    "        if 'marker' in d:\n",
    "            r_mark = getattr(p2, d['marker'])(d['srs'].values, \n",
    "                        d['srs'].coords['pressure'].values,\n",
    "                        color=d['color'], alpha=.7)\n",
    "            rd.append(r_mark)\n",
    "        r_line = p2.line(d['srs'].values, \n",
    "                    d['srs'].coords['pressure'].values,\n",
    "                    color=d['color'], alpha=d['alpha'], \n",
    "                    line_width=d['line_width'], line_dash=d['line_dash'])\n",
    "        rd.append(r_line)\n",
    "      \n",
    "        rs.append(rd)\n",
    "        \n",
    "    p2.y_range = Range1d(ymax, ymin)  \n",
    "    p2.yaxis.axis_label = 'pressure [mb]'\n",
    "    \n",
    "    p2.x_range = Range1d(xmin, xmax)\n",
    "    p2.xaxis.axis_label = 'cooling rate [K/day]'\n",
    "    \n",
    "    items = [(d['label'], r) for r, d in zip(rs, pltdata)]\n",
    "    legend = Legend(items=items, location=(10, -30))\n",
    "    legend.label_text_font_size = '8pt'\n",
    "    \n",
    "    p2.add_layout(legend, 'right')  \n",
    "    \n",
    "    show(gridplot(p1, p2, ncols=2, plot_height=500))\n",
    "    \n",
    "\n",
    "def script_plt_cooling():\n",
    "    pltdata = pltdata_cooling_1(\n",
    "        ds_cool=DS_COOL,\n",
    "        ds_cool_crd=DS_COOL_CRD,\n",
    "        ds_cool_wgt=DS_COOL_WGT)\n",
    "    plt_cooling_bokeh(pltdata=pltdata)\n",
    "    print('''FIGURE. Cooling rate profiles.''')"
   ]
  },
  {
   "cell_type": "code",
   "execution_count": 9,
   "metadata": {
    "collapsed": true
   },
   "outputs": [],
   "source": [
    "def fmt_flux(ds_in):\n",
    "    ds = ds_in.copy(deep=True)\n",
    "    \n",
    "    for l in ('level', 'layer'):\n",
    "        if l in ds.data_vars:\n",
    "            if len(ds[l].dims) > 1:\n",
    "                surface = {d: 0 for d in ds.dims if d != 'pressure'}\n",
    "                coord_level = ds[l][surface]\n",
    "                ds.coords[l] = ('pressure', coord_level)\n",
    "            else:\n",
    "                ds.coords[l] = ('pressure', ds[l])\n",
    "        \n",
    "    ds = ds.isel(pressure=[0, 23, -1])\n",
    "        \n",
    "    if 'igg' in ds.dims:\n",
    "        ds = ds.sel(igg=[1])\n",
    "        ds = ds.squeeze('igg').drop('igg')\n",
    "    \n",
    "    if 'g' in ds.dims:\n",
    "        ds = ds.sum('g')\n",
    "            \n",
    "    if 'band' in ds.dims:\n",
    "        try:\n",
    "            ds = ds.squeeze('band').drop('band')\n",
    "        except ValueError:\n",
    "            ds = ds.sum('band')\n",
    "                \n",
    "    df = ds.to_dataframe()\n",
    "    df = df.set_index('level', append=True)               \n",
    "    return df\n",
    "\n",
    "\n",
    "def tbdata_flux(ds_flux=None, ds_flux_crd=None, ds_flux_wgt=None):\n",
    "    ilevels = [0, 23, -1]\n",
    "            \n",
    "    benchmark = {'label': 'CRD',\n",
    "                 'df': fmt_flux(ds_flux_crd)}\n",
    "    \n",
    "    tbs = [{'label': 'WGT igg=10 wgt_flux=1',\n",
    "            'df': fmt_flux(ds_flux_wgt)},\n",
    "           {'label': 'CLIRAD',\n",
    "            'df': fmt_flux(ds_flux)}]\n",
    "    \n",
    "    data = {'benchmark': benchmark, 'others': tbs}\n",
    "    return data\n",
    "\n",
    "\n",
    "def tb_flux(tbdata=None):\n",
    "    benchmark = tbdata['benchmark']\n",
    "    others = tbdata['others']\n",
    "    \n",
    "    def show_tb(d=None):\n",
    "        display.display(d['df'])\n",
    "        print('Table.', 'Fluxes.', d['label'])\n",
    "        \n",
    "    def show_tbdiff(d0=None, d=None):\n",
    "        df = d['df']\n",
    "        df.index = d0['df'].index\n",
    "        display.display(df - d0['df'])\n",
    "        print('Table.', 'Fluxes.', \n",
    "              '({}) - ({})'.format(d['label'], d0['label']))\n",
    "        \n",
    "    show_tb(benchmark)\n",
    "    for d in others:\n",
    "        show_tb(d)\n",
    "        \n",
    "    for d in others:\n",
    "        show_tbdiff(d=d, d0=benchmark)\n",
    "        \n",
    "        \n",
    "def script_tb_flux():\n",
    "    data = tbdata_flux(ds_flux=DS_FLUX,\n",
    "                       ds_flux_crd=DS_FLUX_CRD,\n",
    "                       ds_flux_wgt=DS_FLUX_WGT)\n",
    "    tb_flux(tbdata=data)"
   ]
  },
  {
   "cell_type": "code",
   "execution_count": 10,
   "metadata": {
    "collapsed": true
   },
   "outputs": [],
   "source": [
    "def band_map():\n",
    "    '''\n",
    "    Maps spectral bands in lblnew to spectral bands in clirad.\n",
    "    '''\n",
    "    lblnew2clirad = {'1': '1',\n",
    "            '2': '2',\n",
    "            '3a': '3',\n",
    "            '3b': '4',\n",
    "            '3c': '5',\n",
    "            '4': '6', \n",
    "            '5': '7',\n",
    "            '6': '8',\n",
    "            '7': '9', \n",
    "            '8': '10',\n",
    "            '9': '11'}\n",
    "    \n",
    "    clirad2lblnew = {clirad: lblnew \n",
    "                     for lblnew, clirad in lblnew2clirad.items()}\n",
    "    return clirad2lblnew\n",
    "\n",
    "\n",
    "def gasbands():\n",
    "    bmap = band_map()\n",
    "    gases = list(PARAM['molecule'].keys())\n",
    "    \n",
    "    bands = [bmap[str(b)] for b in PARAM['band']]\n",
    "    return list(itertools.product(gases, bands))\n",
    "\n",
    "\n",
    "def print_bestfit_params():\n",
    "    print('Best-fit values for each (gas, band)')\n",
    "    print('------------------------------------')\n",
    "    for gas, band in gasbands():\n",
    "        print('o {} band{}'.format(gas, band))\n",
    "        param = bestfits.kdist_params(molecule=gas, band=band)\n",
    "        for name, value in sorted(param.items()):\n",
    "            print(2 * ' ' + '{} = {}'.format(name, value))\n",
    "\n",
    "        \n",
    "def print_input_param():        \n",
    "    for name, value in PARAM.items():\n",
    "        print('{} = {}'.format(name, value))\n",
    "        \n",
    "        \n",
    "def print_lblnew_param():\n",
    "    for name, value in sorted(PARAM_LBLNEW.items()):\n",
    "        print('{} = {}'.format(name, value))\n"
   ]
  },
  {
   "cell_type": "code",
   "execution_count": 11,
   "metadata": {
    "collapsed": true,
    "scrolled": false
   },
   "outputs": [],
   "source": [
    "def show_html(s):\n",
    "    display.display(display.HTML(s))\n",
    "\n",
    "    \n",
    "def show_markdown(s):\n",
    "    display.display(display.Markdown(s))\n",
    "\n",
    "    \n",
    "def script():\n",
    "    \n",
    "    title = '### CLIRAD-LW'\n",
    "    s_input = 'Input Parameters'\n",
    "    s_lblnew_param = 'LBLNEW case compaired against'\n",
    "    s_bestfits = 'Best-fit Parameters'\n",
    "    s_plt_cooling = 'Cooling Rate Profiles'\n",
    "    s_tb_flux = 'Flux Comparison'\n",
    "    \n",
    "    # title\n",
    "    show_markdown('### CLIRAD-LW')\n",
    "    \n",
    "    # TOC\n",
    "    show_markdown('### Table of Contents')\n",
    "    show_html(climahtml.getHTML_hrefanchor(s_input))\n",
    "    show_html(climahtml.getHTML_hrefanchor(s_lblnew_param))\n",
    "    show_html(climahtml.getHTML_hrefanchor(s_plt_cooling))\n",
    "    show_html(climahtml.getHTML_hrefanchor(s_tb_flux))\n",
    "    show_html(climahtml.getHTML_hrefanchor(s_bestfits))\n",
    "    \n",
    "    # Input parameters\n",
    "    show_html(climahtml.getHTML_idanchor(s_input))\n",
    "    show_markdown(climahtml.getMarkdown_sectitle(s_input))\n",
    "    print_input_param()\n",
    "    \n",
    "    # LBLNEW parameters \n",
    "    show_html(climahtml.getHTML_idanchor(s_lblnew_param))\n",
    "    show_markdown(climahtml.getMarkdown_sectitle(s_lblnew_param))\n",
    "    print_lblnew_param()\n",
    "    \n",
    "    # Cooling rate profiles\n",
    "    show_html(climahtml.getHTML_idanchor(s_plt_cooling))\n",
    "    show_markdown(climahtml.getMarkdown_sectitle(s_plt_cooling))\n",
    "    script_plt_cooling()\n",
    "    \n",
    "    # Flux comparison\n",
    "    show_html(climahtml.getHTML_idanchor(s_tb_flux))\n",
    "    show_markdown(climahtml.getMarkdown_sectitle(s_tb_flux))\n",
    "    script_tb_flux()\n",
    "    \n",
    "    # Best-fit values\n",
    "    show_html(climahtml.getHTML_idanchor(s_bestfits))\n",
    "    show_markdown(climahtml.getMarkdown_sectitle(s_bestfits))\n",
    "    print_bestfit_params()\n",
    "   \n",
    "    "
   ]
  },
  {
   "cell_type": "code",
   "execution_count": 12,
   "metadata": {
    "collapsed": true,
    "scrolled": false
   },
   "outputs": [
    {
     "data": {
      "text/markdown": [
       "### CLIRAD-LW"
      ],
      "text/plain": [
       "<IPython.core.display.Markdown object>"
      ]
     },
     "metadata": {},
     "output_type": "display_data"
    },
    {
     "data": {
      "text/markdown": [
       "### Table of Contents"
      ],
      "text/plain": [
       "<IPython.core.display.Markdown object>"
      ]
     },
     "metadata": {},
     "output_type": "display_data"
    },
    {
     "data": {
      "text/html": [
       "<a href=\"#Input_Parameters\">Input Parameters</a>"
      ],
      "text/plain": [
       "<IPython.core.display.HTML object>"
      ]
     },
     "metadata": {},
     "output_type": "display_data"
    },
    {
     "data": {
      "text/html": [
       "<a href=\"#LBLNEW_case_compaired_against\">LBLNEW case compaired against</a>"
      ],
      "text/plain": [
       "<IPython.core.display.HTML object>"
      ]
     },
     "metadata": {},
     "output_type": "display_data"
    },
    {
     "data": {
      "text/html": [
       "<a href=\"#Cooling_Rate_Profiles\">Cooling Rate Profiles</a>"
      ],
      "text/plain": [
       "<IPython.core.display.HTML object>"
      ]
     },
     "metadata": {},
     "output_type": "display_data"
    },
    {
     "data": {
      "text/html": [
       "<a href=\"#Flux_Comparison\">Flux Comparison</a>"
      ],
      "text/plain": [
       "<IPython.core.display.HTML object>"
      ]
     },
     "metadata": {},
     "output_type": "display_data"
    },
    {
     "data": {
      "text/html": [
       "<a href=\"#Best-fit_Parameters\">Best-fit Parameters</a>"
      ],
      "text/plain": [
       "<IPython.core.display.HTML object>"
      ]
     },
     "metadata": {},
     "output_type": "display_data"
    },
    {
     "data": {
      "text/html": [
       "<a id=\"Input_Parameters\"></a>"
      ],
      "text/plain": [
       "<IPython.core.display.HTML object>"
      ]
     },
     "metadata": {},
     "output_type": "display_data"
    },
    {
     "data": {
      "text/markdown": [
       "# Input Parameters"
      ],
      "text/plain": [
       "<IPython.core.display.Markdown object>"
      ]
     },
     "metadata": {},
     "output_type": "display_data"
    },
    {
     "name": "stdout",
     "output_type": "stream",
     "text": [
      "atmpro = mls\n",
      "band = [7]\n",
      "commitnumber = de5d43e\n",
      "molecule = {'h2o': 'atmpro'}\n",
      "tsfc = 294\n"
     ]
    },
    {
     "data": {
      "text/html": [
       "<a id=\"LBLNEW_case_compaired_against\"></a>"
      ],
      "text/plain": [
       "<IPython.core.display.HTML object>"
      ]
     },
     "metadata": {},
     "output_type": "display_data"
    },
    {
     "data": {
      "text/markdown": [
       "# LBLNEW case compaired against"
      ],
      "text/plain": [
       "<IPython.core.display.Markdown object>"
      ]
     },
     "metadata": {},
     "output_type": "display_data"
    },
    {
     "name": "stdout",
     "output_type": "stream",
     "text": [
      "atmpro = mls\n",
      "band = 5\n",
      "commitnumber = 5014a19\n",
      "conc = None\n",
      "dv = 0.001\n",
      "klin = 1e-24\n",
      "molecule = h2o\n",
      "ng_adju = [0]\n",
      "ng_refs = [3]\n",
      "nv = 1000\n",
      "option_compute_btable = 0\n",
      "option_compute_ktable = 0\n",
      "option_wgt_flux = 1\n",
      "option_wgt_k = 1\n",
      "ref_pts = [(600, 250)]\n",
      "tsfc = 294\n",
      "vmax = 1100\n",
      "vmin = 980\n",
      "w_diffuse = [(1.66, 1.66, 1.8)]\n",
      "wgt = [(0.5, 0.55, 0.9)]\n"
     ]
    },
    {
     "data": {
      "text/html": [
       "<a id=\"Cooling_Rate_Profiles\"></a>"
      ],
      "text/plain": [
       "<IPython.core.display.HTML object>"
      ]
     },
     "metadata": {},
     "output_type": "display_data"
    },
    {
     "data": {
      "text/markdown": [
       "# Cooling Rate Profiles"
      ],
      "text/plain": [
       "<IPython.core.display.Markdown object>"
      ]
     },
     "metadata": {},
     "output_type": "display_data"
    },
    {
     "data": {
      "text/html": [
       "\n",
       "<div class=\"bk-root\">\n",
       "    <div class=\"bk-plotdiv\" id=\"a16f5d1d-29b0-490f-a741-ecf51508c199\"></div>\n",
       "</div>"
      ]
     },
     "metadata": {},
     "output_type": "display_data"
    },
    {
     "data": {
      "application/javascript": [
       "(function(root) {\n",
       "  function embed_document(root) {\n",
       "    \n",
       "  var docs_json = {\"d62361fd-610d-4fb7-96a4-38c0fd761c3b\":{\"roots\":{\"references\":[{\"attributes\":{\"fill_alpha\":{\"value\":0.7},\"fill_color\":{\"value\":\"#4daf4a\"},\"line_alpha\":{\"value\":0.7},\"line_color\":{\"value\":\"#4daf4a\"},\"x\":{\"field\":\"x\"},\"y\":{\"field\":\"y\"}},\"id\":\"783ffb66-e246-4b1f-a923-2bad88ce0a66\",\"type\":\"Circle\"},{\"attributes\":{},\"id\":\"77196136-a7fe-41a0-885b-1fd06a2d74f4\",\"type\":\"PanTool\"},{\"attributes\":{\"data_source\":{\"id\":\"ae61e5bf-cc27-4e72-a528-2a0ac590426f\",\"type\":\"ColumnDataSource\"},\"glyph\":{\"id\":\"3c34f94f-be6a-4e5a-8a8a-faa25c8de5ae\",\"type\":\"Line\"},\"hover_glyph\":null,\"muted_glyph\":null,\"nonselection_glyph\":{\"id\":\"b4872a0d-11a0-4b39-91b0-cf670e6ebbff\",\"type\":\"Line\"},\"selection_glyph\":null,\"view\":{\"id\":\"f79eaee2-6076-4b89-a30d-84c960066dda\",\"type\":\"CDSView\"}},\"id\":\"e8195049-52e3-48ca-b20c-bdc0f86fb606\",\"type\":\"GlyphRenderer\"},{\"attributes\":{},\"id\":\"fa416659-f16d-4128-a9b0-1ed147edb89d\",\"type\":\"ResetTool\"},{\"attributes\":{},\"id\":\"22b87d37-e338-4308-8f15-d2a165689b09\",\"type\":\"WheelZoomTool\"},{\"attributes\":{},\"id\":\"a165649d-b20a-432c-9927-a1c78d736641\",\"type\":\"HelpTool\"},{\"attributes\":{\"callback\":null,\"data\":{\"x\":{\"__ndarray__\":\"WfCD18ILxb45Ev51KSHFvhLVdNnhT8W+IJ42xip/xb6RITkYq6vFvrA0sVoD2MW+LDw2T5ACxr7kEeeOlCrGvqJHo1PhUMa+VLVGihd1xr6AndMkEJfGvn+0uYHMtsa+NQA1/yTUxr4AZ1uarvDGvvdH79W7Lse+k/t9ekobx75yS85McWPEvodNkLMYF7m+O6ibu25WnD6km5guOzXQPlQxJqGhH+Q+bZxZMOaE8z6//I+UUlf+Pl7tCEJ3ZP8+GJ5mQzuW9j6oao2iKt/rPhMozqRCOt4+72FkLmLayT6buVnMUYefPsV1m6JLi7O+m7zT1/2Mwr44EG7AwN/HvpO7SiuNsMq+YcCHIXZgzL6X+WYO27zNvl8ByCso886+uHnO/7IT0L6EPvPW/rDQvgZshvj4QNG+n2SczoCX0r4q2pHEUMDdvroi27oWPfS+AIbo0h1TBr/Fg6xUkoMUv6eLMX1LrB+/b0Xd9sEmIb86cDkk1l4bv8qsmluEigG/Y9DMn+jxGT9EERjasKw0PyoYNLiT0EQ/dU/ScZdYUT/rE0rGzCpaPxnXhHoxpGI/PiKZ7vWBaT/7YrJ4jO1wP7H4ibUl9XU/qPOT77M4fT/hjzIMXgeDPzTc/uC1J4g/oA6AAKYIjj9f9ykRYE2SP4BjhDWrBZY/fq5AMOM/mj+BoUz8OO6eP5RMtIY3FKI/DWvRG5rtpD9ZycQ2dPanP/owxdRSC6s/9qjI9M4grj8Dg7HR4Z6wP4k+1ronOLI/lHAnDhPksz+MLwodnLG1Pz1y2ut4rLc/\",\"dtype\":\"float64\",\"shape\":[75]},\"y\":{\"__ndarray__\":\"GhExyth1ND/Sv8nbtpRIP2vylNV0PVE/aTum7souWD/At0SJ8fVgPw3Iuahxymc/MSNhhJWvcD/bTfBN02d3P2zb5nxnaoA/CD5h5MAGhz8NmeH1TyaQP+zrCsc9p5Y/LbKd76fGnz/bLW5ISEmmPww9YvTcQq8/JV2OstnstT8Er5Y7M8G+P0c+r3jqkcU/5h99k6ZBzj88bCIzFzjVP4enV8oyxN0//yH99nXg5D8qOpLLf0jtP5kqGJXUifQ/c9cS8kHP/D+/DpwzojQEQIEmwoanVwxA4lgXt9HgE0BSSZ2AJuIbQAMJih9jjiNA5q4l5INuK0AwTKYKRj0zQNv5fmq8/DpAaCJseHrtQkB/+zpwzoxKQM3MzMzMeFJAZmZmZmZqWEAAAAAAAFxeQM3MzMzMJmJAmpmZmZkfZUBmZmZmZhhoQDMzMzMzEWtAAAAAAAAKbkBmZmZmZoFwQM3MzMzM/XFAMzMzMzN6c0CamZmZmfZ0QAAAAAAAc3ZAZmZmZmbvd0DNzMzMzGt5QDMzMzMz6HpAmpmZmZlkfEAAAAAAAOF9QGZmZmZmXX9AZmZmZuZsgECamZmZGSuBQM3MzMxM6YFAAAAAAICngkAzMzMzs2WDQGZmZmbmI4RAmpmZmRnihEDNzMzMTKCFQAAAAACAXoZAMzMzM7Mch0BmZmZm5tqHQJqZmZkZmYhAzczMzExXiUAAAAAAgBWKQDMzMzOz04pAZmZmZuaRi0CamZmZGVCMQM3MzMxMDo1AAAAAAIDMjUAzMzMzs4qOQGZmZmbmSI9A\",\"dtype\":\"float64\",\"shape\":[75]}},\"selected\":{\"id\":\"fc461db9-ce17-4a8c-b3b0-bd5f8233f8aa\",\"type\":\"Selection\"},\"selection_policy\":{\"id\":\"77a8793c-00cb-4170-94eb-a518c3adbd78\",\"type\":\"UnionRenderers\"}},\"id\":\"4f7786c0-2f39-46e6-a2d9-f1dca3ed703f\",\"type\":\"ColumnDataSource\"},{\"attributes\":{\"overlay\":{\"id\":\"d2c55b3b-672e-4475-95b9-b1fd3ce77d1c\",\"type\":\"BoxAnnotation\"}},\"id\":\"81133c8a-7208-4b7e-bcf9-908351227417\",\"type\":\"BoxZoomTool\"},{\"attributes\":{\"fill_alpha\":{\"value\":0.1},\"fill_color\":{\"value\":\"#1f77b4\"},\"line_alpha\":{\"value\":0.1},\"line_color\":{\"value\":\"#1f77b4\"},\"x\":{\"field\":\"x\"},\"y\":{\"field\":\"y\"}},\"id\":\"b948ef75-00c3-4f8d-909e-710b41bfcfc0\",\"type\":\"Circle\"},{\"attributes\":{},\"id\":\"b10c1e34-de9e-4384-8c9f-6f5ee84b5ff1\",\"type\":\"SaveTool\"},{\"attributes\":{\"source\":{\"id\":\"7d308af1-2db8-4352-a7d9-ccfdc7323ae9\",\"type\":\"ColumnDataSource\"}},\"id\":\"589a7219-1607-4451-8488-651e07c3dc14\",\"type\":\"CDSView\"},{\"attributes\":{\"line_alpha\":0.1,\"line_color\":\"#1f77b4\",\"line_dash\":[6],\"line_width\":5,\"x\":{\"field\":\"x\"},\"y\":{\"field\":\"y\"}},\"id\":\"34e09b72-e4e6-40a3-a56d-815f9585a16a\",\"type\":\"Line\"},{\"attributes\":{\"fill_alpha\":{\"value\":0.7},\"fill_color\":{\"value\":\"#4daf4a\"},\"line_alpha\":{\"value\":0.7},\"line_color\":{\"value\":\"#4daf4a\"},\"x\":{\"field\":\"x\"},\"y\":{\"field\":\"y\"}},\"id\":\"6961a221-8647-4cc5-8acf-0df6b873cf0e\",\"type\":\"Circle\"},{\"attributes\":{\"line_color\":\"#4daf4a\",\"line_width\":1.5,\"x\":{\"field\":\"x\"},\"y\":{\"field\":\"y\"}},\"id\":\"76277d89-3441-475f-9ddb-89aee5d3e968\",\"type\":\"Line\"},{\"attributes\":{\"callback\":null,\"end\":0.01,\"start\":1020},\"id\":\"78683b02-9c15-479d-a03e-aba812db7c61\",\"type\":\"Range1d\"},{\"attributes\":{\"source\":{\"id\":\"da8cdd70-7d01-4149-9e41-c46868487284\",\"type\":\"ColumnDataSource\"}},\"id\":\"ddb91338-b33b-4602-8418-69671b702237\",\"type\":\"CDSView\"},{\"attributes\":{\"callback\":null,\"data\":{\"x\":{\"__ndarray__\":\"jtQ2ojYMzr7EhykCZiDOvlW13cAFVM6+AEcHT/6Dzr6DXG8iH6vOvtgspaQd1M6+nmFxNh/3zr5SAh7M5xXPvlW59C5YLs++E/CGQVdDz76nTdV/WVLPvmhftKw9XM++SgoS78Nfz76vuHasFV3Pvu1Qh+MYKM++5KgDo6AFzb4PtaHYUmfEvs7PIWTu636+WzjElOW80T4XdbFxun3oPonjFwcn5fg+pj2s7YQ2Bj/lG06GR54QP5p8FDyWHRE/Qf5eRbMuCT+2bYA9mT4AP66NWV2UPvM+C+KGS6xi5D6+PvpUtXLRPmZhZIF/qqY+4a9kwGYGur4tHN6odFTIvi1DKcUK482+YXJDeRg+0L7IZt/akgDRvlwBI/FYd9G+bDJ1FHHP0b5C/Ty4IzLSvjjTPxrgktK+mXNt5vrN077qEJ3GnznfvhQvUNZMtfS+m0Ch0QwABr/4Gih7/x8Tv6sjv8x2Khu/7rewhuIkGb8s4DYtJBgIv+7rUSphsQ0/t/GKIURGLj8ZNnSF20pAP05z5f+IrUw/b9HOVMQ8Vj9hPdjkXApgP1rmKBQmK2Y/a981z2WvbT/e6EELEmVzPwFsYrfG3Xg/wlKxdjplgD8pjuoR9i+FPy6qEFJhs4o/prStTwF8kD8ZeBQF//2TPxW7VY7L45c/Ge0cw5YwnD/yuSfQpnGgP5C0AuAr/KI/txFoE9SupT+Op/IxsHKoP0UgMVaoKas/ZZvNQ6PErT8ZY5+BCiewP/7k0Yj3brE/f0dcGbfFsj/7iBEiFjq0Py7p+s7H5rU/\",\"dtype\":\"float64\",\"shape\":[75]},\"y\":{\"__ndarray__\":\"GhExyth1ND/Sv8nbtpRIP2vylNV0PVE/aTum7souWD/At0SJ8fVgPw3Iuahxymc/MSNhhJWvcD/bTfBN02d3P2zb5nxnaoA/CD5h5MAGhz8NmeH1TyaQP+zrCsc9p5Y/LbKd76fGnz/bLW5ISEmmPww9YvTcQq8/JV2OstnstT8Er5Y7M8G+P0c+r3jqkcU/5h99k6ZBzj88bCIzFzjVP4enV8oyxN0//yH99nXg5D8qOpLLf0jtP5kqGJXUifQ/c9cS8kHP/D+/DpwzojQEQIEmwoanVwxA4lgXt9HgE0BSSZ2AJuIbQAMJih9jjiNA5q4l5INuK0AwTKYKRj0zQNv5fmq8/DpAaCJseHrtQkB/+zpwzoxKQM3MzMzMeFJAZmZmZmZqWEAAAAAAAFxeQM3MzMzMJmJAmpmZmZkfZUBmZmZmZhhoQDMzMzMzEWtAAAAAAAAKbkBmZmZmZoFwQM3MzMzM/XFAMzMzMzN6c0CamZmZmfZ0QAAAAAAAc3ZAZmZmZmbvd0DNzMzMzGt5QDMzMzMz6HpAmpmZmZlkfEAAAAAAAOF9QGZmZmZmXX9AZmZmZuZsgECamZmZGSuBQM3MzMxM6YFAAAAAAICngkAzMzMzs2WDQGZmZmbmI4RAmpmZmRnihEDNzMzMTKCFQAAAAACAXoZAMzMzM7Mch0BmZmZm5tqHQJqZmZkZmYhAzczMzExXiUAAAAAAgBWKQDMzMzOz04pAZmZmZuaRi0CamZmZGVCMQM3MzMxMDo1AAAAAAIDMjUAzMzMzs4qOQGZmZmbmSI9A\",\"dtype\":\"float64\",\"shape\":[75]}},\"selected\":{\"id\":\"03a8f2e6-a43b-430c-8f90-8cbb411cf72c\",\"type\":\"Selection\"},\"selection_policy\":{\"id\":\"e8a3a25e-42cc-467e-a599-776fd6608960\",\"type\":\"UnionRenderers\"}},\"id\":\"17e02845-7f41-45a7-8d66-adfc9f144e29\",\"type\":\"ColumnDataSource\"},{\"attributes\":{\"callback\":null,\"data\":{\"x\":{\"__ndarray__\":\"jtQ2ojYMzr7EhykCZiDOvlW13cAFVM6+AEcHT/6Dzr6DXG8iH6vOvtgspaQd1M6+nmFxNh/3zr5SAh7M5xXPvlW59C5YLs++E/CGQVdDz76nTdV/WVLPvmhftKw9XM++SgoS78Nfz76vuHasFV3Pvu1Qh+MYKM++5KgDo6AFzb4PtaHYUmfEvs7PIWTu636+WzjElOW80T4XdbFxun3oPonjFwcn5fg+pj2s7YQ2Bj/lG06GR54QP5p8FDyWHRE/Qf5eRbMuCT+2bYA9mT4AP66NWV2UPvM+C+KGS6xi5D6+PvpUtXLRPmZhZIF/qqY+4a9kwGYGur4tHN6odFTIvi1DKcUK482+YXJDeRg+0L7IZt/akgDRvlwBI/FYd9G+bDJ1FHHP0b5C/Ty4IzLSvjjTPxrgktK+mXNt5vrN077qEJ3GnznfvhQvUNZMtfS+m0Ch0QwABr/4Gih7/x8Tv6sjv8x2Khu/7rewhuIkGb8s4DYtJBgIv+7rUSphsQ0/t/GKIURGLj8ZNnSF20pAP05z5f+IrUw/b9HOVMQ8Vj9hPdjkXApgP1rmKBQmK2Y/a981z2WvbT/e6EELEmVzPwFsYrfG3Xg/wlKxdjplgD8pjuoR9i+FPy6qEFJhs4o/prStTwF8kD8ZeBQF//2TPxW7VY7L45c/Ge0cw5YwnD/yuSfQpnGgP5C0AuAr/KI/txFoE9SupT+Op/IxsHKoP0UgMVaoKas/ZZvNQ6PErT8ZY5+BCiewP/7k0Yj3brE/f0dcGbfFsj/7iBEiFjq0Py7p+s7H5rU/\",\"dtype\":\"float64\",\"shape\":[75]},\"y\":{\"__ndarray__\":\"GhExyth1ND/Sv8nbtpRIP2vylNV0PVE/aTum7souWD/At0SJ8fVgPw3Iuahxymc/MSNhhJWvcD/bTfBN02d3P2zb5nxnaoA/CD5h5MAGhz8NmeH1TyaQP+zrCsc9p5Y/LbKd76fGnz/bLW5ISEmmPww9YvTcQq8/JV2OstnstT8Er5Y7M8G+P0c+r3jqkcU/5h99k6ZBzj88bCIzFzjVP4enV8oyxN0//yH99nXg5D8qOpLLf0jtP5kqGJXUifQ/c9cS8kHP/D+/DpwzojQEQIEmwoanVwxA4lgXt9HgE0BSSZ2AJuIbQAMJih9jjiNA5q4l5INuK0AwTKYKRj0zQNv5fmq8/DpAaCJseHrtQkB/+zpwzoxKQM3MzMzMeFJAZmZmZmZqWEAAAAAAAFxeQM3MzMzMJmJAmpmZmZkfZUBmZmZmZhhoQDMzMzMzEWtAAAAAAAAKbkBmZmZmZoFwQM3MzMzM/XFAMzMzMzN6c0CamZmZmfZ0QAAAAAAAc3ZAZmZmZmbvd0DNzMzMzGt5QDMzMzMz6HpAmpmZmZlkfEAAAAAAAOF9QGZmZmZmXX9AZmZmZuZsgECamZmZGSuBQM3MzMxM6YFAAAAAAICngkAzMzMzs2WDQGZmZmbmI4RAmpmZmRnihEDNzMzMTKCFQAAAAACAXoZAMzMzM7Mch0BmZmZm5tqHQJqZmZkZmYhAzczMzExXiUAAAAAAgBWKQDMzMzOz04pAZmZmZuaRi0CamZmZGVCMQM3MzMxMDo1AAAAAAIDMjUAzMzMzs4qOQGZmZmbmSI9A\",\"dtype\":\"float64\",\"shape\":[75]}},\"selected\":{\"id\":\"1789ffab-c4ed-45d4-8c28-20197e72819c\",\"type\":\"Selection\"},\"selection_policy\":{\"id\":\"d25f0663-8f85-4eb9-9228-e65c0a2d86a3\",\"type\":\"UnionRenderers\"}},\"id\":\"7d308af1-2db8-4352-a7d9-ccfdc7323ae9\",\"type\":\"ColumnDataSource\"},{\"attributes\":{\"data_source\":{\"id\":\"e6c09961-2efd-4770-b221-ff742d2c8363\",\"type\":\"ColumnDataSource\"},\"glyph\":{\"id\":\"8913bf8d-2f8e-4f4a-80e8-1e9e4c9e9e73\",\"type\":\"Line\"},\"hover_glyph\":null,\"muted_glyph\":null,\"nonselection_glyph\":{\"id\":\"34e09b72-e4e6-40a3-a56d-815f9585a16a\",\"type\":\"Line\"},\"selection_glyph\":null,\"view\":{\"id\":\"9f9918f4-d952-468f-ba23-4496dadd99a5\",\"type\":\"CDSView\"}},\"id\":\"88339d64-46c6-4db1-bfa9-bca77638533a\",\"type\":\"GlyphRenderer\"},{\"attributes\":{\"data_source\":{\"id\":\"7d308af1-2db8-4352-a7d9-ccfdc7323ae9\",\"type\":\"ColumnDataSource\"},\"glyph\":{\"id\":\"6961a221-8647-4cc5-8acf-0df6b873cf0e\",\"type\":\"Circle\"},\"hover_glyph\":null,\"muted_glyph\":null,\"nonselection_glyph\":{\"id\":\"b948ef75-00c3-4f8d-909e-710b41bfcfc0\",\"type\":\"Circle\"},\"selection_glyph\":null,\"view\":{\"id\":\"589a7219-1607-4451-8488-651e07c3dc14\",\"type\":\"CDSView\"}},\"id\":\"48e108dc-7221-4e9a-b58e-6160006b9da2\",\"type\":\"GlyphRenderer\"},{\"attributes\":{\"source\":{\"id\":\"e6c09961-2efd-4770-b221-ff742d2c8363\",\"type\":\"ColumnDataSource\"}},\"id\":\"9f9918f4-d952-468f-ba23-4496dadd99a5\",\"type\":\"CDSView\"},{\"attributes\":{\"source\":{\"id\":\"ae61e5bf-cc27-4e72-a528-2a0ac590426f\",\"type\":\"ColumnDataSource\"}},\"id\":\"f79eaee2-6076-4b89-a30d-84c960066dda\",\"type\":\"CDSView\"},{\"attributes\":{\"plot\":null,\"text\":\"Linear pressure scale\"},\"id\":\"75a844aa-5650-409c-a202-ee185a0151ef\",\"type\":\"Title\"},{\"attributes\":{\"line_alpha\":0.1,\"line_color\":\"#1f77b4\",\"line_width\":1.5,\"x\":{\"field\":\"x\"},\"y\":{\"field\":\"y\"}},\"id\":\"91a9066c-a9d0-4b7e-87c3-f6af00758eba\",\"type\":\"Line\"},{\"attributes\":{\"data_source\":{\"id\":\"17e02845-7f41-45a7-8d66-adfc9f144e29\",\"type\":\"ColumnDataSource\"},\"glyph\":{\"id\":\"76277d89-3441-475f-9ddb-89aee5d3e968\",\"type\":\"Line\"},\"hover_glyph\":null,\"muted_glyph\":null,\"nonselection_glyph\":{\"id\":\"91a9066c-a9d0-4b7e-87c3-f6af00758eba\",\"type\":\"Line\"},\"selection_glyph\":null,\"view\":{\"id\":\"bc735e7b-4c2c-494c-9686-ad24fe72c95c\",\"type\":\"CDSView\"}},\"id\":\"3385344e-2bb5-4a59-8411-5d1fe4a8f446\",\"type\":\"GlyphRenderer\"},{\"attributes\":{\"source\":{\"id\":\"17e02845-7f41-45a7-8d66-adfc9f144e29\",\"type\":\"ColumnDataSource\"}},\"id\":\"bc735e7b-4c2c-494c-9686-ad24fe72c95c\",\"type\":\"CDSView\"},{\"attributes\":{\"fill_alpha\":{\"value\":0.7},\"fill_color\":{\"value\":\"#984ea3\"},\"line_alpha\":{\"value\":0.7},\"line_color\":{\"value\":\"#984ea3\"},\"x\":{\"field\":\"x\"},\"y\":{\"field\":\"y\"}},\"id\":\"8480b29f-4e21-451a-adfa-c3fdc824e20e\",\"type\":\"Square\"},{\"attributes\":{\"children\":[{\"id\":\"39b4ed62-b9e8-4b50-87b9-14aa9cc16749\",\"subtype\":\"Figure\",\"type\":\"Plot\"},{\"id\":\"0d39610b-d958-4bcf-9db3-d238e7a76d86\",\"subtype\":\"Figure\",\"type\":\"Plot\"}]},\"id\":\"e5282b07-fbdb-44b6-9e80-81dfd1636188\",\"type\":\"Row\"},{\"attributes\":{\"fill_alpha\":{\"value\":0.1},\"fill_color\":{\"value\":\"#1f77b4\"},\"line_alpha\":{\"value\":0.1},\"line_color\":{\"value\":\"#1f77b4\"},\"x\":{\"field\":\"x\"},\"y\":{\"field\":\"y\"}},\"id\":\"895a739e-9f92-4a75-87ac-05ab83b0a208\",\"type\":\"Square\"},{\"attributes\":{\"data_source\":{\"id\":\"4f7786c0-2f39-46e6-a2d9-f1dca3ed703f\",\"type\":\"ColumnDataSource\"},\"glyph\":{\"id\":\"8480b29f-4e21-451a-adfa-c3fdc824e20e\",\"type\":\"Square\"},\"hover_glyph\":null,\"muted_glyph\":null,\"nonselection_glyph\":{\"id\":\"895a739e-9f92-4a75-87ac-05ab83b0a208\",\"type\":\"Square\"},\"selection_glyph\":null,\"view\":{\"id\":\"4f6b07d2-bfc8-4b88-a1c6-f84eb9ac438e\",\"type\":\"CDSView\"}},\"id\":\"572407cc-c3af-4b2e-9a94-228f334c3ec1\",\"type\":\"GlyphRenderer\"},{\"attributes\":{\"children\":[{\"id\":\"e5282b07-fbdb-44b6-9e80-81dfd1636188\",\"type\":\"Row\"}]},\"id\":\"8ace2967-0b77-4a1a-b9c5-aed6111daf40\",\"type\":\"Column\"},{\"attributes\":{\"below\":[{\"id\":\"f1e9bdcc-feb0-430f-ac7f-c760f69bedc6\",\"type\":\"LinearAxis\"}],\"left\":[{\"id\":\"43129d24-0322-4c55-b215-27437ff80b56\",\"type\":\"LinearAxis\"}],\"plot_height\":500,\"plot_width\":400,\"renderers\":[{\"id\":\"f1e9bdcc-feb0-430f-ac7f-c760f69bedc6\",\"type\":\"LinearAxis\"},{\"id\":\"625ec8d3-193c-4726-aeb1-fc9271d0fe24\",\"type\":\"Grid\"},{\"id\":\"43129d24-0322-4c55-b215-27437ff80b56\",\"type\":\"LinearAxis\"},{\"id\":\"386504d1-ae8a-4487-8d23-48cdcb0b5a41\",\"type\":\"Grid\"},{\"id\":\"d2c55b3b-672e-4475-95b9-b1fd3ce77d1c\",\"type\":\"BoxAnnotation\"},{\"id\":\"88339d64-46c6-4db1-bfa9-bca77638533a\",\"type\":\"GlyphRenderer\"},{\"id\":\"8a44ff72-cd26-49e5-a223-90be203e9596\",\"type\":\"GlyphRenderer\"},{\"id\":\"775dd3fc-c8fd-4fce-9819-5cea96ac87b4\",\"type\":\"GlyphRenderer\"},{\"id\":\"b4900aca-3d47-40c0-b233-145ed882bf24\",\"type\":\"GlyphRenderer\"},{\"id\":\"7257501f-80ab-4ba0-96af-b6786d2fed4d\",\"type\":\"GlyphRenderer\"}],\"title\":{\"id\":\"75a844aa-5650-409c-a202-ee185a0151ef\",\"type\":\"Title\"},\"toolbar\":{\"id\":\"a2d3eb2c-2f20-4c44-81d3-60550906431a\",\"type\":\"Toolbar\"},\"toolbar_location\":null,\"x_range\":{\"id\":\"2e15b0de-cb30-47ee-afa9-7431caee2ed1\",\"type\":\"Range1d\"},\"x_scale\":{\"id\":\"19d63cde-9f5d-4c14-83fe-017d8782d6e3\",\"type\":\"LinearScale\"},\"y_range\":{\"id\":\"78683b02-9c15-479d-a03e-aba812db7c61\",\"type\":\"Range1d\"},\"y_scale\":{\"id\":\"e54cf7fe-95fd-49f2-8ddf-8e5362d7f06d\",\"type\":\"LinearScale\"}},\"id\":\"39b4ed62-b9e8-4b50-87b9-14aa9cc16749\",\"subtype\":\"Figure\",\"type\":\"Plot\"},{\"attributes\":{\"callback\":null,\"data\":{\"x\":{\"__ndarray__\":\"ss74Z+DCyz4tVSi0lIbtPmRyeA5Ysq2+ByMqIcZQw76LCOLZc3rEvgjLQU/9jcS+Evzzc2yfxb5d/sGdFV3FvhzdDdAjNMa+wiW9OHkHxr4b/eBsiKbGvgzKil4Qtsa+aZvNSCx6xr5FHqN/gyu2vlQnQ2tj7YA+Fw9mFG8+rL5GneUPvlC/vhtecao/Iba+CqBOl63ngT6XB1v52bHHPswBQvqM194+6kk54FCk7j6LhNlDQNT3PjbG+AIX1Pg+qqn9Ky358T6nOU/Rg77lPi28ctz1P9Y+N+s4h8V+vz7kzal8tvaTvj8CNtuYubu+FwsVEnEExb6Rdmvf+DLJvgg1QmXqTcu+hHpXYdmMzL4EIz1dUp7NvkxEifI0rc6+8gAe93nSz75VxUG59GPQvpPVPDs+i9C+0zJL2emy0b4qRL1KCBfcvgwOJhskvPO+upc2IZ6BBr/6jYrgrWYVv/4TyekqSCG/l2Zq/o4bJL817AlJSooiv0tUETccCBi/db9FLFMo8D5CErQT+nQqP4Kax5Ss6j8/OaCx0QjLTD8HXDzlHdNWP/rbBrsG2WA/08D9KyxyZz9pbNwYg5JvP9YCSqVJuXQ/25C7W+Tdez/7I3h6n06CP9yzUxgAT4c/GdV16sL2jD8PTYqjM6+RP23QZO1ZUZU/zvkaY9Z0mT9C64vLiyieP+GYhl3rvaE/i1o86h+spD8kQfVlItKnP8lOWfyPFKs/j6t1CDpfrj/nMeHPpNiwPyUkBynOirI/QdN/x9FLtD+JHIDfTyW2P3msogpCI7g/\",\"dtype\":\"float64\",\"shape\":[75]},\"y\":{\"__ndarray__\":\"S/O/Q+51ND/Sv8nbtpRIP2vylNV0PVE/aTum7souWD/At0SJ8fVgPw3Iuahxymc/MSNhhJWvcD/bTfBN02d3P2zb5nxnaoA/CD5h5MAGhz8NmeH1TyaQP+zrCsc9p5Y/LbKd76fGnz/bLW5ISEmmPww9YvTcQq8/JV2OstnstT8Er5Y7M8G+P0c+r3jqkcU/5h99k6ZBzj88bCIzFzjVP4enV8oyxN0//yH99nXg5D8qOpLLf0jtP5kqGJXUifQ/c9cS8kHP/D+/DpwzojQEQIEmwoanVwxA4lgXt9HgE0BSSZ2AJuIbQAMJih9jjiNA5q4l5INuK0AwTKYKRj0zQNv5fmq8/DpAaCJseHrtQkB/+zpwzoxKQM3MzMzMeFJAZmZmZmZqWEAAAAAAAFxeQM3MzMzMJmJAmpmZmZkfZUBmZmZmZhhoQDMzMzMzEWtAAAAAAAAKbkBmZmZmZoFwQM3MzMzM/XFAMzMzMzN6c0CamZmZmfZ0QAAAAAAAc3ZAZmZmZmbvd0DNzMzMzGt5QDMzMzMz6HpAmpmZmZlkfEAAAAAAAOF9QGZmZmZmXX9AZmZmZuZsgECamZmZGSuBQM3MzMxM6YFAAAAAAICngkAzMzMzs2WDQGZmZmbmI4RAmpmZmRnihEDNzMzMTKCFQAAAAACAXoZAMzMzM7Mch0BmZmZm5tqHQJqZmZkZmYhAzczMzExXiUAAAAAAgBWKQDMzMzOz04pAZmZmZuaRi0CamZmZGVCMQM3MzMxMDo1AAAAAAIDMjUAzMzMzs4qOQGZmZmbmSI9A\",\"dtype\":\"float64\",\"shape\":[75]}},\"selected\":{\"id\":\"c39797d9-06db-4b32-a29d-1a27ce79e341\",\"type\":\"Selection\"},\"selection_policy\":{\"id\":\"b1bb5ef5-b64b-47cd-9628-20d0a925b108\",\"type\":\"UnionRenderers\"}},\"id\":\"e6c09961-2efd-4770-b221-ff742d2c8363\",\"type\":\"ColumnDataSource\"},{\"attributes\":{\"fill_alpha\":{\"value\":0.1},\"fill_color\":{\"value\":\"#1f77b4\"},\"line_alpha\":{\"value\":0.1},\"line_color\":{\"value\":\"#1f77b4\"},\"x\":{\"field\":\"x\"},\"y\":{\"field\":\"y\"}},\"id\":\"d18fe1c2-e333-442c-9543-09fca8fce430\",\"type\":\"Circle\"},{\"attributes\":{\"label\":{\"value\":\"CLIRAD `coolr_bands`\"},\"renderers\":[{\"id\":\"e8195049-52e3-48ca-b20c-bdc0f86fb606\",\"type\":\"GlyphRenderer\"}]},\"id\":\"40e9f7f4-a16a-4e9d-9a6b-0e2c7401496c\",\"type\":\"LegendItem\"},{\"attributes\":{},\"id\":\"c39797d9-06db-4b32-a29d-1a27ce79e341\",\"type\":\"Selection\"},{\"attributes\":{\"label\":{\"value\":\"CRD\"},\"renderers\":[{\"id\":\"48e108dc-7221-4e9a-b58e-6160006b9da2\",\"type\":\"GlyphRenderer\"},{\"id\":\"3385344e-2bb5-4a59-8411-5d1fe4a8f446\",\"type\":\"GlyphRenderer\"}]},\"id\":\"1d76692e-9ca3-4861-8db7-d0db2af85285\",\"type\":\"LegendItem\"},{\"attributes\":{},\"id\":\"aa35f893-9a85-4450-a1c1-a00af8f71667\",\"type\":\"UnionRenderers\"},{\"attributes\":{\"label\":{\"value\":\"WGT igg=10 wgt_flux=2\"},\"renderers\":[{\"id\":\"572407cc-c3af-4b2e-9a94-228f334c3ec1\",\"type\":\"GlyphRenderer\"},{\"id\":\"a3e349ab-81bc-45e5-957d-d5dc222abb1f\",\"type\":\"GlyphRenderer\"}]},\"id\":\"dbaa002f-6205-4638-a225-93f867f4235b\",\"type\":\"LegendItem\"},{\"attributes\":{},\"id\":\"213356a3-b3d9-4c82-b7e1-4f12bb0e97ca\",\"type\":\"Selection\"},{\"attributes\":{},\"id\":\"a3606800-b81e-41bb-abad-ac63f22249ed\",\"type\":\"BasicTickFormatter\"},{\"attributes\":{},\"id\":\"b739be8c-1417-46ac-b9a3-b18bfc2db842\",\"type\":\"BasicTickFormatter\"},{\"attributes\":{},\"id\":\"de25d8a9-1b77-4c74-b060-ad8bcf878500\",\"type\":\"Selection\"},{\"attributes\":{},\"id\":\"b1bb5ef5-b64b-47cd-9628-20d0a925b108\",\"type\":\"UnionRenderers\"},{\"attributes\":{\"line_alpha\":0.6,\"line_color\":\"#e41a1c\",\"line_dash\":[6],\"line_width\":5,\"x\":{\"field\":\"x\"},\"y\":{\"field\":\"y\"}},\"id\":\"8913bf8d-2f8e-4f4a-80e8-1e9e4c9e9e73\",\"type\":\"Line\"},{\"attributes\":{},\"id\":\"f39ff82d-041c-49f6-8696-ef5915bfa202\",\"type\":\"Selection\"},{\"attributes\":{\"callback\":null,\"data\":{\"x\":{\"__ndarray__\":\"jtQ2ojYMzr7EhykCZiDOvlW13cAFVM6+AEcHT/6Dzr6DXG8iH6vOvtgspaQd1M6+nmFxNh/3zr5SAh7M5xXPvlW59C5YLs++E/CGQVdDz76nTdV/WVLPvmhftKw9XM++SgoS78Nfz76vuHasFV3Pvu1Qh+MYKM++5KgDo6AFzb4PtaHYUmfEvs7PIWTu636+WzjElOW80T4XdbFxun3oPonjFwcn5fg+pj2s7YQ2Bj/lG06GR54QP5p8FDyWHRE/Qf5eRbMuCT+2bYA9mT4AP66NWV2UPvM+C+KGS6xi5D6+PvpUtXLRPmZhZIF/qqY+4a9kwGYGur4tHN6odFTIvi1DKcUK482+YXJDeRg+0L7IZt/akgDRvlwBI/FYd9G+bDJ1FHHP0b5C/Ty4IzLSvjjTPxrgktK+mXNt5vrN077qEJ3GnznfvhQvUNZMtfS+m0Ch0QwABr/4Gih7/x8Tv6sjv8x2Khu/7rewhuIkGb8s4DYtJBgIv+7rUSphsQ0/t/GKIURGLj8ZNnSF20pAP05z5f+IrUw/b9HOVMQ8Vj9hPdjkXApgP1rmKBQmK2Y/a981z2WvbT/e6EELEmVzPwFsYrfG3Xg/wlKxdjplgD8pjuoR9i+FPy6qEFJhs4o/prStTwF8kD8ZeBQF//2TPxW7VY7L45c/Ge0cw5YwnD/yuSfQpnGgP5C0AuAr/KI/txFoE9SupT+Op/IxsHKoP0UgMVaoKas/ZZvNQ6PErT8ZY5+BCiewP/7k0Yj3brE/f0dcGbfFsj/7iBEiFjq0Py7p+s7H5rU/\",\"dtype\":\"float64\",\"shape\":[75]},\"y\":{\"__ndarray__\":\"GhExyth1ND/Sv8nbtpRIP2vylNV0PVE/aTum7souWD/At0SJ8fVgPw3Iuahxymc/MSNhhJWvcD/bTfBN02d3P2zb5nxnaoA/CD5h5MAGhz8NmeH1TyaQP+zrCsc9p5Y/LbKd76fGnz/bLW5ISEmmPww9YvTcQq8/JV2OstnstT8Er5Y7M8G+P0c+r3jqkcU/5h99k6ZBzj88bCIzFzjVP4enV8oyxN0//yH99nXg5D8qOpLLf0jtP5kqGJXUifQ/c9cS8kHP/D+/DpwzojQEQIEmwoanVwxA4lgXt9HgE0BSSZ2AJuIbQAMJih9jjiNA5q4l5INuK0AwTKYKRj0zQNv5fmq8/DpAaCJseHrtQkB/+zpwzoxKQM3MzMzMeFJAZmZmZmZqWEAAAAAAAFxeQM3MzMzMJmJAmpmZmZkfZUBmZmZmZhhoQDMzMzMzEWtAAAAAAAAKbkBmZmZmZoFwQM3MzMzM/XFAMzMzMzN6c0CamZmZmfZ0QAAAAAAAc3ZAZmZmZmbvd0DNzMzMzGt5QDMzMzMz6HpAmpmZmZlkfEAAAAAAAOF9QGZmZmZmXX9AZmZmZuZsgECamZmZGSuBQM3MzMxM6YFAAAAAAICngkAzMzMzs2WDQGZmZmbmI4RAmpmZmRnihEDNzMzMTKCFQAAAAACAXoZAMzMzM7Mch0BmZmZm5tqHQJqZmZkZmYhAzczMzExXiUAAAAAAgBWKQDMzMzOz04pAZmZmZuaRi0CamZmZGVCMQM3MzMxMDo1AAAAAAIDMjUAzMzMzs4qOQGZmZmbmSI9A\",\"dtype\":\"float64\",\"shape\":[75]}},\"selected\":{\"id\":\"f39ff82d-041c-49f6-8696-ef5915bfa202\",\"type\":\"Selection\"},\"selection_policy\":{\"id\":\"aa35f893-9a85-4450-a1c1-a00af8f71667\",\"type\":\"UnionRenderers\"}},\"id\":\"9bebaa3f-d43c-42d4-ab8c-9b6176a18ef0\",\"type\":\"ColumnDataSource\"},{\"attributes\":{},\"id\":\"72af0745-8d65-4938-9d3c-ad7512d7ec00\",\"type\":\"Selection\"},{\"attributes\":{\"ticker\":null},\"id\":\"ceb90b6d-f5f3-4ae4-8ea0-fa135c3525a9\",\"type\":\"LogTickFormatter\"},{\"attributes\":{\"axis_label\":\"cooling rate [K/day]\",\"formatter\":{\"id\":\"a3606800-b81e-41bb-abad-ac63f22249ed\",\"type\":\"BasicTickFormatter\"},\"plot\":{\"id\":\"39b4ed62-b9e8-4b50-87b9-14aa9cc16749\",\"subtype\":\"Figure\",\"type\":\"Plot\"},\"ticker\":{\"id\":\"2130b51a-86fa-4728-bc1f-4f2bd2c544e4\",\"type\":\"BasicTicker\"}},\"id\":\"f1e9bdcc-feb0-430f-ac7f-c760f69bedc6\",\"type\":\"LinearAxis\"},{\"attributes\":{},\"id\":\"ecc44480-b6ce-4c26-8b03-c15eeb3cbc9a\",\"type\":\"UnionRenderers\"},{\"attributes\":{},\"id\":\"1789ffab-c4ed-45d4-8c28-20197e72819c\",\"type\":\"Selection\"},{\"attributes\":{\"active_drag\":\"auto\",\"active_inspect\":\"auto\",\"active_scroll\":\"auto\",\"active_tap\":\"auto\",\"tools\":[{\"id\":\"77196136-a7fe-41a0-885b-1fd06a2d74f4\",\"type\":\"PanTool\"},{\"id\":\"22b87d37-e338-4308-8f15-d2a165689b09\",\"type\":\"WheelZoomTool\"},{\"id\":\"81133c8a-7208-4b7e-bcf9-908351227417\",\"type\":\"BoxZoomTool\"},{\"id\":\"b10c1e34-de9e-4384-8c9f-6f5ee84b5ff1\",\"type\":\"SaveTool\"},{\"id\":\"fa416659-f16d-4128-a9b0-1ed147edb89d\",\"type\":\"ResetTool\"},{\"id\":\"a165649d-b20a-432c-9927-a1c78d736641\",\"type\":\"HelpTool\"}]},\"id\":\"a2d3eb2c-2f20-4c44-81d3-60550906431a\",\"type\":\"Toolbar\"},{\"attributes\":{},\"id\":\"04827a69-4ca8-4f3b-ad33-bb1b134b185a\",\"type\":\"UnionRenderers\"},{\"attributes\":{\"below\":[{\"id\":\"d952ecd4-abe5-4dde-a072-16cf1187778a\",\"type\":\"LinearAxis\"}],\"left\":[{\"id\":\"838dc48f-bbfd-4e58-a7a5-5ef51000f6dd\",\"type\":\"LogAxis\"}],\"plot_height\":500,\"plot_width\":560,\"renderers\":[{\"id\":\"d952ecd4-abe5-4dde-a072-16cf1187778a\",\"type\":\"LinearAxis\"},{\"id\":\"e4402294-cc8a-4e61-84ed-8a9ba2eb6a3a\",\"type\":\"Grid\"},{\"id\":\"838dc48f-bbfd-4e58-a7a5-5ef51000f6dd\",\"type\":\"LogAxis\"},{\"id\":\"0806cbfd-0891-4a75-963f-98d875893fef\",\"type\":\"Grid\"},{\"id\":\"39874442-ef3b-44ff-88ba-b5723f9779eb\",\"type\":\"BoxAnnotation\"},{\"id\":\"e8195049-52e3-48ca-b20c-bdc0f86fb606\",\"type\":\"GlyphRenderer\"},{\"id\":\"48e108dc-7221-4e9a-b58e-6160006b9da2\",\"type\":\"GlyphRenderer\"},{\"id\":\"3385344e-2bb5-4a59-8411-5d1fe4a8f446\",\"type\":\"GlyphRenderer\"},{\"id\":\"572407cc-c3af-4b2e-9a94-228f334c3ec1\",\"type\":\"GlyphRenderer\"},{\"id\":\"a3e349ab-81bc-45e5-957d-d5dc222abb1f\",\"type\":\"GlyphRenderer\"},{\"id\":\"eac3b1d7-63b0-40e4-8cf4-e525202ee3c3\",\"type\":\"Legend\"}],\"right\":[{\"id\":\"eac3b1d7-63b0-40e4-8cf4-e525202ee3c3\",\"type\":\"Legend\"}],\"title\":{\"id\":\"4cb6ea49-bcb6-4424-ba4f-ba34b1f4e1b5\",\"type\":\"Title\"},\"toolbar\":{\"id\":\"0badf052-a579-452c-93f1-5eca57855589\",\"type\":\"Toolbar\"},\"toolbar_location\":null,\"x_range\":{\"id\":\"e98a92c5-ff22-40a4-8375-a6dca1bafe0b\",\"type\":\"Range1d\"},\"x_scale\":{\"id\":\"24b32372-8870-4fda-bb25-c10f8b003dec\",\"type\":\"LinearScale\"},\"y_range\":{\"id\":\"54bd09cb-a58b-4213-81da-44be6dca6698\",\"type\":\"Range1d\"},\"y_scale\":{\"id\":\"31adf59c-b1bb-4bf2-a1b6-fad09c660d0c\",\"type\":\"LogScale\"}},\"id\":\"0d39610b-d958-4bcf-9db3-d238e7a76d86\",\"subtype\":\"Figure\",\"type\":\"Plot\"},{\"attributes\":{},\"id\":\"03a8f2e6-a43b-430c-8f90-8cbb411cf72c\",\"type\":\"Selection\"},{\"attributes\":{},\"id\":\"2130b51a-86fa-4728-bc1f-4f2bd2c544e4\",\"type\":\"BasicTicker\"},{\"attributes\":{},\"id\":\"dbb08536-7748-459d-a905-5ee435abf6d6\",\"type\":\"UnionRenderers\"},{\"attributes\":{\"plot\":{\"id\":\"39b4ed62-b9e8-4b50-87b9-14aa9cc16749\",\"subtype\":\"Figure\",\"type\":\"Plot\"},\"ticker\":{\"id\":\"2130b51a-86fa-4728-bc1f-4f2bd2c544e4\",\"type\":\"BasicTicker\"}},\"id\":\"625ec8d3-193c-4726-aeb1-fc9271d0fe24\",\"type\":\"Grid\"},{\"attributes\":{},\"id\":\"d0db1957-6900-4122-ac8c-1b0ab3458ab1\",\"type\":\"Selection\"},{\"attributes\":{\"callback\":null,\"end\":0.095232408032,\"start\":-0.0010978232319999999},\"id\":\"2e15b0de-cb30-47ee-afa9-7431caee2ed1\",\"type\":\"Range1d\"},{\"attributes\":{},\"id\":\"a19739a3-7293-4fc9-a7a9-3ae824d50008\",\"type\":\"BasicTickFormatter\"},{\"attributes\":{\"axis_label\":\"pressure [mb]\",\"formatter\":{\"id\":\"b739be8c-1417-46ac-b9a3-b18bfc2db842\",\"type\":\"BasicTickFormatter\"},\"plot\":{\"id\":\"39b4ed62-b9e8-4b50-87b9-14aa9cc16749\",\"subtype\":\"Figure\",\"type\":\"Plot\"},\"ticker\":{\"id\":\"8e2c546b-cdaf-48fc-a999-0c8142cbaf18\",\"type\":\"BasicTicker\"}},\"id\":\"43129d24-0322-4c55-b215-27437ff80b56\",\"type\":\"LinearAxis\"},{\"attributes\":{},\"id\":\"8e7dfa9a-c702-42d0-90ec-9260c7cbad5a\",\"type\":\"Selection\"},{\"attributes\":{},\"id\":\"d25f0663-8f85-4eb9-9228-e65c0a2d86a3\",\"type\":\"UnionRenderers\"},{\"attributes\":{},\"id\":\"19d63cde-9f5d-4c14-83fe-017d8782d6e3\",\"type\":\"LinearScale\"},{\"attributes\":{},\"id\":\"fc461db9-ce17-4a8c-b3b0-bd5f8233f8aa\",\"type\":\"Selection\"},{\"attributes\":{\"dimension\":1,\"plot\":{\"id\":\"39b4ed62-b9e8-4b50-87b9-14aa9cc16749\",\"subtype\":\"Figure\",\"type\":\"Plot\"},\"ticker\":{\"id\":\"8e2c546b-cdaf-48fc-a999-0c8142cbaf18\",\"type\":\"BasicTicker\"}},\"id\":\"386504d1-ae8a-4487-8d23-48cdcb0b5a41\",\"type\":\"Grid\"},{\"attributes\":{},\"id\":\"ef25167f-fdd2-4196-92e6-089ce6e46061\",\"type\":\"UnionRenderers\"},{\"attributes\":{\"toolbar\":{\"id\":\"d4b63aa9-940b-4133-8574-5c9afa05b550\",\"type\":\"ProxyToolbar\"},\"toolbar_location\":\"above\"},\"id\":\"2d0f33c9-4fdb-4696-b41f-f56111f226a5\",\"type\":\"ToolbarBox\"},{\"attributes\":{},\"id\":\"e54cf7fe-95fd-49f2-8ddf-8e5362d7f06d\",\"type\":\"LinearScale\"},{\"attributes\":{},\"id\":\"e8a3a25e-42cc-467e-a599-776fd6608960\",\"type\":\"UnionRenderers\"},{\"attributes\":{\"bottom_units\":\"screen\",\"fill_alpha\":{\"value\":0.5},\"fill_color\":{\"value\":\"lightgrey\"},\"left_units\":\"screen\",\"level\":\"overlay\",\"line_alpha\":{\"value\":1.0},\"line_color\":{\"value\":\"black\"},\"line_dash\":[4,4],\"line_width\":{\"value\":2},\"plot\":null,\"render_mode\":\"css\",\"right_units\":\"screen\",\"top_units\":\"screen\"},\"id\":\"d2c55b3b-672e-4475-95b9-b1fd3ce77d1c\",\"type\":\"BoxAnnotation\"},{\"attributes\":{},\"id\":\"77a8793c-00cb-4170-94eb-a518c3adbd78\",\"type\":\"UnionRenderers\"},{\"attributes\":{\"children\":[{\"id\":\"2d0f33c9-4fdb-4696-b41f-f56111f226a5\",\"type\":\"ToolbarBox\"},{\"id\":\"8ace2967-0b77-4a1a-b9c5-aed6111daf40\",\"type\":\"Column\"}]},\"id\":\"37e38776-03f2-403f-8ba3-fd3a5cfb31df\",\"type\":\"Column\"},{\"attributes\":{},\"id\":\"8e2c546b-cdaf-48fc-a999-0c8142cbaf18\",\"type\":\"BasicTicker\"},{\"attributes\":{\"data_source\":{\"id\":\"9bebaa3f-d43c-42d4-ab8c-9b6176a18ef0\",\"type\":\"ColumnDataSource\"},\"glyph\":{\"id\":\"783ffb66-e246-4b1f-a923-2bad88ce0a66\",\"type\":\"Circle\"},\"hover_glyph\":null,\"muted_glyph\":null,\"nonselection_glyph\":{\"id\":\"d18fe1c2-e333-442c-9543-09fca8fce430\",\"type\":\"Circle\"},\"selection_glyph\":null,\"view\":{\"id\":\"956bc10d-4399-4b14-b5f7-a4be0707ddc5\",\"type\":\"CDSView\"}},\"id\":\"8a44ff72-cd26-49e5-a223-90be203e9596\",\"type\":\"GlyphRenderer\"},{\"attributes\":{},\"id\":\"11abbd24-0d13-49c5-9366-08d0f23e6b40\",\"type\":\"UnionRenderers\"},{\"attributes\":{\"tools\":[{\"id\":\"77196136-a7fe-41a0-885b-1fd06a2d74f4\",\"type\":\"PanTool\"},{\"id\":\"22b87d37-e338-4308-8f15-d2a165689b09\",\"type\":\"WheelZoomTool\"},{\"id\":\"81133c8a-7208-4b7e-bcf9-908351227417\",\"type\":\"BoxZoomTool\"},{\"id\":\"b10c1e34-de9e-4384-8c9f-6f5ee84b5ff1\",\"type\":\"SaveTool\"},{\"id\":\"fa416659-f16d-4128-a9b0-1ed147edb89d\",\"type\":\"ResetTool\"},{\"id\":\"a165649d-b20a-432c-9927-a1c78d736641\",\"type\":\"HelpTool\"},{\"id\":\"a89fa3d6-57b6-4b9b-971e-85d2f7f883f0\",\"type\":\"PanTool\"},{\"id\":\"d6276d69-d816-4593-8e8f-91e42d8ce594\",\"type\":\"WheelZoomTool\"},{\"id\":\"3e1b6330-0917-43b6-a2c7-1a4c02490840\",\"type\":\"BoxZoomTool\"},{\"id\":\"912b0a02-b389-47f7-9ede-ac75a3f28240\",\"type\":\"SaveTool\"},{\"id\":\"8ad0e4db-a168-41c9-bf35-dce51cbcd7da\",\"type\":\"ResetTool\"},{\"id\":\"dce09449-497a-48ea-82dd-a94dbf5576d1\",\"type\":\"HelpTool\"}]},\"id\":\"d4b63aa9-940b-4133-8574-5c9afa05b550\",\"type\":\"ProxyToolbar\"},{\"attributes\":{\"axis_label\":\"cooling rate [K/day]\",\"formatter\":{\"id\":\"a19739a3-7293-4fc9-a7a9-3ae824d50008\",\"type\":\"BasicTickFormatter\"},\"plot\":{\"id\":\"0d39610b-d958-4bcf-9db3-d238e7a76d86\",\"subtype\":\"Figure\",\"type\":\"Plot\"},\"ticker\":{\"id\":\"03391885-fa9c-497b-97bf-e8edd7324834\",\"type\":\"BasicTicker\"}},\"id\":\"d952ecd4-abe5-4dde-a072-16cf1187778a\",\"type\":\"LinearAxis\"},{\"attributes\":{\"num_minor_ticks\":10},\"id\":\"3c5d59f0-f622-4c19-a8f4-ee66d84d3392\",\"type\":\"LogTicker\"},{\"attributes\":{},\"id\":\"03391885-fa9c-497b-97bf-e8edd7324834\",\"type\":\"BasicTicker\"},{\"attributes\":{},\"id\":\"31adf59c-b1bb-4bf2-a1b6-fad09c660d0c\",\"type\":\"LogScale\"},{\"attributes\":{\"plot\":null,\"text\":\"Log pressure scale\"},\"id\":\"4cb6ea49-bcb6-4424-ba4f-ba34b1f4e1b5\",\"type\":\"Title\"},{\"attributes\":{\"line_alpha\":0.1,\"line_color\":\"#1f77b4\",\"line_width\":3,\"x\":{\"field\":\"x\"},\"y\":{\"field\":\"y\"}},\"id\":\"53c32ad9-0d4d-4430-bae0-8477bb6fa789\",\"type\":\"Line\"},{\"attributes\":{},\"id\":\"24b32372-8870-4fda-bb25-c10f8b003dec\",\"type\":\"LinearScale\"},{\"attributes\":{\"line_alpha\":0.6,\"line_color\":\"#984ea3\",\"line_width\":3,\"x\":{\"field\":\"x\"},\"y\":{\"field\":\"y\"}},\"id\":\"6dec3d47-c101-4d03-ab28-cdf7fce1cf38\",\"type\":\"Line\"},{\"attributes\":{\"line_color\":\"#4daf4a\",\"line_width\":1.5,\"x\":{\"field\":\"x\"},\"y\":{\"field\":\"y\"}},\"id\":\"dbc56477-450b-4657-ba9f-158bace9e9af\",\"type\":\"Line\"},{\"attributes\":{\"plot\":{\"id\":\"0d39610b-d958-4bcf-9db3-d238e7a76d86\",\"subtype\":\"Figure\",\"type\":\"Plot\"},\"ticker\":{\"id\":\"03391885-fa9c-497b-97bf-e8edd7324834\",\"type\":\"BasicTicker\"}},\"id\":\"e4402294-cc8a-4e61-84ed-8a9ba2eb6a3a\",\"type\":\"Grid\"},{\"attributes\":{\"line_alpha\":0.1,\"line_color\":\"#1f77b4\",\"line_dash\":[6],\"line_width\":5,\"x\":{\"field\":\"x\"},\"y\":{\"field\":\"y\"}},\"id\":\"b4872a0d-11a0-4b39-91b0-cf670e6ebbff\",\"type\":\"Line\"},{\"attributes\":{\"overlay\":{\"id\":\"39874442-ef3b-44ff-88ba-b5723f9779eb\",\"type\":\"BoxAnnotation\"}},\"id\":\"3e1b6330-0917-43b6-a2c7-1a4c02490840\",\"type\":\"BoxZoomTool\"},{\"attributes\":{\"source\":{\"id\":\"7ee22a92-3e28-405c-991d-2079d8606e58\",\"type\":\"ColumnDataSource\"}},\"id\":\"43f4b5af-19f9-48ef-8efe-f3640fda6e13\",\"type\":\"CDSView\"},{\"attributes\":{\"callback\":null,\"data\":{\"x\":{\"__ndarray__\":\"ss74Z+DCyz4tVSi0lIbtPmRyeA5Ysq2+ByMqIcZQw76LCOLZc3rEvgjLQU/9jcS+Evzzc2yfxb5d/sGdFV3FvhzdDdAjNMa+wiW9OHkHxr4b/eBsiKbGvgzKil4Qtsa+aZvNSCx6xr5FHqN/gyu2vlQnQ2tj7YA+Fw9mFG8+rL5GneUPvlC/vhtecao/Iba+CqBOl63ngT6XB1v52bHHPswBQvqM194+6kk54FCk7j6LhNlDQNT3PjbG+AIX1Pg+qqn9Ky358T6nOU/Rg77lPi28ctz1P9Y+N+s4h8V+vz7kzal8tvaTvj8CNtuYubu+FwsVEnEExb6Rdmvf+DLJvgg1QmXqTcu+hHpXYdmMzL4EIz1dUp7NvkxEifI0rc6+8gAe93nSz75VxUG59GPQvpPVPDs+i9C+0zJL2emy0b4qRL1KCBfcvgwOJhskvPO+upc2IZ6BBr/6jYrgrWYVv/4TyekqSCG/l2Zq/o4bJL817AlJSooiv0tUETccCBi/db9FLFMo8D5CErQT+nQqP4Kax5Ss6j8/OaCx0QjLTD8HXDzlHdNWP/rbBrsG2WA/08D9KyxyZz9pbNwYg5JvP9YCSqVJuXQ/25C7W+Tdez/7I3h6n06CP9yzUxgAT4c/GdV16sL2jD8PTYqjM6+RP23QZO1ZUZU/zvkaY9Z0mT9C64vLiyieP+GYhl3rvaE/i1o86h+spD8kQfVlItKnP8lOWfyPFKs/j6t1CDpfrj/nMeHPpNiwPyUkBynOirI/QdN/x9FLtD+JHIDfTyW2P3msogpCI7g/\",\"dtype\":\"float64\",\"shape\":[75]},\"y\":{\"__ndarray__\":\"S/O/Q+51ND/Sv8nbtpRIP2vylNV0PVE/aTum7souWD/At0SJ8fVgPw3Iuahxymc/MSNhhJWvcD/bTfBN02d3P2zb5nxnaoA/CD5h5MAGhz8NmeH1TyaQP+zrCsc9p5Y/LbKd76fGnz/bLW5ISEmmPww9YvTcQq8/JV2OstnstT8Er5Y7M8G+P0c+r3jqkcU/5h99k6ZBzj88bCIzFzjVP4enV8oyxN0//yH99nXg5D8qOpLLf0jtP5kqGJXUifQ/c9cS8kHP/D+/DpwzojQEQIEmwoanVwxA4lgXt9HgE0BSSZ2AJuIbQAMJih9jjiNA5q4l5INuK0AwTKYKRj0zQNv5fmq8/DpAaCJseHrtQkB/+zpwzoxKQM3MzMzMeFJAZmZmZmZqWEAAAAAAAFxeQM3MzMzMJmJAmpmZmZkfZUBmZmZmZhhoQDMzMzMzEWtAAAAAAAAKbkBmZmZmZoFwQM3MzMzM/XFAMzMzMzN6c0CamZmZmfZ0QAAAAAAAc3ZAZmZmZmbvd0DNzMzMzGt5QDMzMzMz6HpAmpmZmZlkfEAAAAAAAOF9QGZmZmZmXX9AZmZmZuZsgECamZmZGSuBQM3MzMxM6YFAAAAAAICngkAzMzMzs2WDQGZmZmbmI4RAmpmZmRnihEDNzMzMTKCFQAAAAACAXoZAMzMzM7Mch0BmZmZm5tqHQJqZmZkZmYhAzczMzExXiUAAAAAAgBWKQDMzMzOz04pAZmZmZuaRi0CamZmZGVCMQM3MzMxMDo1AAAAAAIDMjUAzMzMzs4qOQGZmZmbmSI9A\",\"dtype\":\"float64\",\"shape\":[75]}},\"selected\":{\"id\":\"8e7dfa9a-c702-42d0-90ec-9260c7cbad5a\",\"type\":\"Selection\"},\"selection_policy\":{\"id\":\"ef25167f-fdd2-4196-92e6-089ce6e46061\",\"type\":\"UnionRenderers\"}},\"id\":\"ae61e5bf-cc27-4e72-a528-2a0ac590426f\",\"type\":\"ColumnDataSource\"},{\"attributes\":{\"source\":{\"id\":\"5b5363b6-1654-4dca-b0fb-9381b9b82236\",\"type\":\"ColumnDataSource\"}},\"id\":\"a32cbf40-5164-4852-a6e9-34099f1a84c2\",\"type\":\"CDSView\"},{\"attributes\":{\"callback\":null,\"end\":6.6018085746e-05,\"start\":-8.171996345999999e-06},\"id\":\"e98a92c5-ff22-40a4-8375-a6dca1bafe0b\",\"type\":\"Range1d\"},{\"attributes\":{},\"id\":\"a89fa3d6-57b6-4b9b-971e-85d2f7f883f0\",\"type\":\"PanTool\"},{\"attributes\":{\"line_alpha\":0.1,\"line_color\":\"#1f77b4\",\"line_width\":3,\"x\":{\"field\":\"x\"},\"y\":{\"field\":\"y\"}},\"id\":\"844efd94-9550-4b12-9c3d-c0d8662e9bd0\",\"type\":\"Line\"},{\"attributes\":{\"data_source\":{\"id\":\"da8cdd70-7d01-4149-9e41-c46868487284\",\"type\":\"ColumnDataSource\"},\"glyph\":{\"id\":\"6dec3d47-c101-4d03-ab28-cdf7fce1cf38\",\"type\":\"Line\"},\"hover_glyph\":null,\"muted_glyph\":null,\"nonselection_glyph\":{\"id\":\"844efd94-9550-4b12-9c3d-c0d8662e9bd0\",\"type\":\"Line\"},\"selection_glyph\":null,\"view\":{\"id\":\"ddb91338-b33b-4602-8418-69671b702237\",\"type\":\"CDSView\"}},\"id\":\"a3e349ab-81bc-45e5-957d-d5dc222abb1f\",\"type\":\"GlyphRenderer\"},{\"attributes\":{},\"id\":\"8ad0e4db-a168-41c9-bf35-dce51cbcd7da\",\"type\":\"ResetTool\"},{\"attributes\":{\"axis_label\":\"pressure [mb]\",\"formatter\":{\"id\":\"ceb90b6d-f5f3-4ae4-8ea0-fa135c3525a9\",\"type\":\"LogTickFormatter\"},\"plot\":{\"id\":\"0d39610b-d958-4bcf-9db3-d238e7a76d86\",\"subtype\":\"Figure\",\"type\":\"Plot\"},\"ticker\":{\"id\":\"3c5d59f0-f622-4c19-a8f4-ee66d84d3392\",\"type\":\"LogTicker\"}},\"id\":\"838dc48f-bbfd-4e58-a7a5-5ef51000f6dd\",\"type\":\"LogAxis\"},{\"attributes\":{\"fill_alpha\":{\"value\":0.1},\"fill_color\":{\"value\":\"#1f77b4\"},\"line_alpha\":{\"value\":0.1},\"line_color\":{\"value\":\"#1f77b4\"},\"x\":{\"field\":\"x\"},\"y\":{\"field\":\"y\"}},\"id\":\"1987ca31-3c8a-465f-a91c-8dc53fee5f10\",\"type\":\"Square\"},{\"attributes\":{\"data_source\":{\"id\":\"7ee22a92-3e28-405c-991d-2079d8606e58\",\"type\":\"ColumnDataSource\"},\"glyph\":{\"id\":\"0a76b01b-4b66-48d2-8408-ca4ea134b6dd\",\"type\":\"Line\"},\"hover_glyph\":null,\"muted_glyph\":null,\"nonselection_glyph\":{\"id\":\"53c32ad9-0d4d-4430-bae0-8477bb6fa789\",\"type\":\"Line\"},\"selection_glyph\":null,\"view\":{\"id\":\"43f4b5af-19f9-48ef-8efe-f3640fda6e13\",\"type\":\"CDSView\"}},\"id\":\"7257501f-80ab-4ba0-96af-b6786d2fed4d\",\"type\":\"GlyphRenderer\"},{\"attributes\":{},\"id\":\"d6276d69-d816-4593-8e8f-91e42d8ce594\",\"type\":\"WheelZoomTool\"},{\"attributes\":{\"data_source\":{\"id\":\"1104b955-1684-456f-b6a9-49e014dfabbf\",\"type\":\"ColumnDataSource\"},\"glyph\":{\"id\":\"dbc56477-450b-4657-ba9f-158bace9e9af\",\"type\":\"Line\"},\"hover_glyph\":null,\"muted_glyph\":null,\"nonselection_glyph\":{\"id\":\"27e372d0-0db6-402e-8021-b01325adfbf6\",\"type\":\"Line\"},\"selection_glyph\":null,\"view\":{\"id\":\"4d38ed8f-5dfa-4308-a154-08d77cb949f8\",\"type\":\"CDSView\"}},\"id\":\"775dd3fc-c8fd-4fce-9819-5cea96ac87b4\",\"type\":\"GlyphRenderer\"},{\"attributes\":{\"callback\":null,\"data\":{\"x\":{\"__ndarray__\":\"WfCD18ILxb45Ev51KSHFvhLVdNnhT8W+IJ42xip/xb6RITkYq6vFvrA0sVoD2MW+LDw2T5ACxr7kEeeOlCrGvqJHo1PhUMa+VLVGihd1xr6AndMkEJfGvn+0uYHMtsa+NQA1/yTUxr4AZ1uarvDGvvdH79W7Lse+k/t9ekobx75yS85McWPEvodNkLMYF7m+O6ibu25WnD6km5guOzXQPlQxJqGhH+Q+bZxZMOaE8z6//I+UUlf+Pl7tCEJ3ZP8+GJ5mQzuW9j6oao2iKt/rPhMozqRCOt4+72FkLmLayT6buVnMUYefPsV1m6JLi7O+m7zT1/2Mwr44EG7AwN/HvpO7SiuNsMq+YcCHIXZgzL6X+WYO27zNvl8ByCso886+uHnO/7IT0L6EPvPW/rDQvgZshvj4QNG+n2SczoCX0r4q2pHEUMDdvroi27oWPfS+AIbo0h1TBr/Fg6xUkoMUv6eLMX1LrB+/b0Xd9sEmIb86cDkk1l4bv8qsmluEigG/Y9DMn+jxGT9EERjasKw0PyoYNLiT0EQ/dU/ScZdYUT/rE0rGzCpaPxnXhHoxpGI/PiKZ7vWBaT/7YrJ4jO1wP7H4ibUl9XU/qPOT77M4fT/hjzIMXgeDPzTc/uC1J4g/oA6AAKYIjj9f9ykRYE2SP4BjhDWrBZY/fq5AMOM/mj+BoUz8OO6eP5RMtIY3FKI/DWvRG5rtpD9ZycQ2dPanP/owxdRSC6s/9qjI9M4grj8Dg7HR4Z6wP4k+1ronOLI/lHAnDhPksz+MLwodnLG1Pz1y2ut4rLc/\",\"dtype\":\"float64\",\"shape\":[75]},\"y\":{\"__ndarray__\":\"GhExyth1ND/Sv8nbtpRIP2vylNV0PVE/aTum7souWD/At0SJ8fVgPw3Iuahxymc/MSNhhJWvcD/bTfBN02d3P2zb5nxnaoA/CD5h5MAGhz8NmeH1TyaQP+zrCsc9p5Y/LbKd76fGnz/bLW5ISEmmPww9YvTcQq8/JV2OstnstT8Er5Y7M8G+P0c+r3jqkcU/5h99k6ZBzj88bCIzFzjVP4enV8oyxN0//yH99nXg5D8qOpLLf0jtP5kqGJXUifQ/c9cS8kHP/D+/DpwzojQEQIEmwoanVwxA4lgXt9HgE0BSSZ2AJuIbQAMJih9jjiNA5q4l5INuK0AwTKYKRj0zQNv5fmq8/DpAaCJseHrtQkB/+zpwzoxKQM3MzMzMeFJAZmZmZmZqWEAAAAAAAFxeQM3MzMzMJmJAmpmZmZkfZUBmZmZmZhhoQDMzMzMzEWtAAAAAAAAKbkBmZmZmZoFwQM3MzMzM/XFAMzMzMzN6c0CamZmZmfZ0QAAAAAAAc3ZAZmZmZmbvd0DNzMzMzGt5QDMzMzMz6HpAmpmZmZlkfEAAAAAAAOF9QGZmZmZmXX9AZmZmZuZsgECamZmZGSuBQM3MzMxM6YFAAAAAAICngkAzMzMzs2WDQGZmZmbmI4RAmpmZmRnihEDNzMzMTKCFQAAAAACAXoZAMzMzM7Mch0BmZmZm5tqHQJqZmZkZmYhAzczMzExXiUAAAAAAgBWKQDMzMzOz04pAZmZmZuaRi0CamZmZGVCMQM3MzMxMDo1AAAAAAIDMjUAzMzMzs4qOQGZmZmbmSI9A\",\"dtype\":\"float64\",\"shape\":[75]}},\"selected\":{\"id\":\"72af0745-8d65-4938-9d3c-ad7512d7ec00\",\"type\":\"Selection\"},\"selection_policy\":{\"id\":\"04827a69-4ca8-4f3b-ad33-bb1b134b185a\",\"type\":\"UnionRenderers\"}},\"id\":\"5b5363b6-1654-4dca-b0fb-9381b9b82236\",\"type\":\"ColumnDataSource\"},{\"attributes\":{\"bottom_units\":\"screen\",\"fill_alpha\":{\"value\":0.5},\"fill_color\":{\"value\":\"lightgrey\"},\"left_units\":\"screen\",\"level\":\"overlay\",\"line_alpha\":{\"value\":1.0},\"line_color\":{\"value\":\"black\"},\"line_dash\":[4,4],\"line_width\":{\"value\":2},\"plot\":null,\"render_mode\":\"css\",\"right_units\":\"screen\",\"top_units\":\"screen\"},\"id\":\"39874442-ef3b-44ff-88ba-b5723f9779eb\",\"type\":\"BoxAnnotation\"},{\"attributes\":{\"source\":{\"id\":\"4f7786c0-2f39-46e6-a2d9-f1dca3ed703f\",\"type\":\"ColumnDataSource\"}},\"id\":\"4f6b07d2-bfc8-4b88-a1c6-f84eb9ac438e\",\"type\":\"CDSView\"},{\"attributes\":{},\"id\":\"912b0a02-b389-47f7-9ede-ac75a3f28240\",\"type\":\"SaveTool\"},{\"attributes\":{\"callback\":null,\"end\":0.01,\"start\":1020},\"id\":\"54bd09cb-a58b-4213-81da-44be6dca6698\",\"type\":\"Range1d\"},{\"attributes\":{\"source\":{\"id\":\"1104b955-1684-456f-b6a9-49e014dfabbf\",\"type\":\"ColumnDataSource\"}},\"id\":\"4d38ed8f-5dfa-4308-a154-08d77cb949f8\",\"type\":\"CDSView\"},{\"attributes\":{},\"id\":\"dce09449-497a-48ea-82dd-a94dbf5576d1\",\"type\":\"HelpTool\"},{\"attributes\":{\"data_source\":{\"id\":\"5b5363b6-1654-4dca-b0fb-9381b9b82236\",\"type\":\"ColumnDataSource\"},\"glyph\":{\"id\":\"8b113e98-d127-4284-8272-5de7909c3a87\",\"type\":\"Square\"},\"hover_glyph\":null,\"muted_glyph\":null,\"nonselection_glyph\":{\"id\":\"1987ca31-3c8a-465f-a91c-8dc53fee5f10\",\"type\":\"Square\"},\"selection_glyph\":null,\"view\":{\"id\":\"a32cbf40-5164-4852-a6e9-34099f1a84c2\",\"type\":\"CDSView\"}},\"id\":\"b4900aca-3d47-40c0-b233-145ed882bf24\",\"type\":\"GlyphRenderer\"},{\"attributes\":{\"callback\":null,\"data\":{\"x\":{\"__ndarray__\":\"jtQ2ojYMzr7EhykCZiDOvlW13cAFVM6+AEcHT/6Dzr6DXG8iH6vOvtgspaQd1M6+nmFxNh/3zr5SAh7M5xXPvlW59C5YLs++E/CGQVdDz76nTdV/WVLPvmhftKw9XM++SgoS78Nfz76vuHasFV3Pvu1Qh+MYKM++5KgDo6AFzb4PtaHYUmfEvs7PIWTu636+WzjElOW80T4XdbFxun3oPonjFwcn5fg+pj2s7YQ2Bj/lG06GR54QP5p8FDyWHRE/Qf5eRbMuCT+2bYA9mT4AP66NWV2UPvM+C+KGS6xi5D6+PvpUtXLRPmZhZIF/qqY+4a9kwGYGur4tHN6odFTIvi1DKcUK482+YXJDeRg+0L7IZt/akgDRvlwBI/FYd9G+bDJ1FHHP0b5C/Ty4IzLSvjjTPxrgktK+mXNt5vrN077qEJ3GnznfvhQvUNZMtfS+m0Ch0QwABr/4Gih7/x8Tv6sjv8x2Khu/7rewhuIkGb8s4DYtJBgIv+7rUSphsQ0/t/GKIURGLj8ZNnSF20pAP05z5f+IrUw/b9HOVMQ8Vj9hPdjkXApgP1rmKBQmK2Y/a981z2WvbT/e6EELEmVzPwFsYrfG3Xg/wlKxdjplgD8pjuoR9i+FPy6qEFJhs4o/prStTwF8kD8ZeBQF//2TPxW7VY7L45c/Ge0cw5YwnD/yuSfQpnGgP5C0AuAr/KI/txFoE9SupT+Op/IxsHKoP0UgMVaoKas/ZZvNQ6PErT8ZY5+BCiewP/7k0Yj3brE/f0dcGbfFsj/7iBEiFjq0Py7p+s7H5rU/\",\"dtype\":\"float64\",\"shape\":[75]},\"y\":{\"__ndarray__\":\"GhExyth1ND/Sv8nbtpRIP2vylNV0PVE/aTum7souWD/At0SJ8fVgPw3Iuahxymc/MSNhhJWvcD/bTfBN02d3P2zb5nxnaoA/CD5h5MAGhz8NmeH1TyaQP+zrCsc9p5Y/LbKd76fGnz/bLW5ISEmmPww9YvTcQq8/JV2OstnstT8Er5Y7M8G+P0c+r3jqkcU/5h99k6ZBzj88bCIzFzjVP4enV8oyxN0//yH99nXg5D8qOpLLf0jtP5kqGJXUifQ/c9cS8kHP/D+/DpwzojQEQIEmwoanVwxA4lgXt9HgE0BSSZ2AJuIbQAMJih9jjiNA5q4l5INuK0AwTKYKRj0zQNv5fmq8/DpAaCJseHrtQkB/+zpwzoxKQM3MzMzMeFJAZmZmZmZqWEAAAAAAAFxeQM3MzMzMJmJAmpmZmZkfZUBmZmZmZhhoQDMzMzMzEWtAAAAAAAAKbkBmZmZmZoFwQM3MzMzM/XFAMzMzMzN6c0CamZmZmfZ0QAAAAAAAc3ZAZmZmZmbvd0DNzMzMzGt5QDMzMzMz6HpAmpmZmZlkfEAAAAAAAOF9QGZmZmZmXX9AZmZmZuZsgECamZmZGSuBQM3MzMxM6YFAAAAAAICngkAzMzMzs2WDQGZmZmbmI4RAmpmZmRnihEDNzMzMTKCFQAAAAACAXoZAMzMzM7Mch0BmZmZm5tqHQJqZmZkZmYhAzczMzExXiUAAAAAAgBWKQDMzMzOz04pAZmZmZuaRi0CamZmZGVCMQM3MzMxMDo1AAAAAAIDMjUAzMzMzs4qOQGZmZmbmSI9A\",\"dtype\":\"float64\",\"shape\":[75]}},\"selected\":{\"id\":\"de25d8a9-1b77-4c74-b060-ad8bcf878500\",\"type\":\"Selection\"},\"selection_policy\":{\"id\":\"ecc44480-b6ce-4c26-8b03-c15eeb3cbc9a\",\"type\":\"UnionRenderers\"}},\"id\":\"1104b955-1684-456f-b6a9-49e014dfabbf\",\"type\":\"ColumnDataSource\"},{\"attributes\":{\"line_alpha\":0.6,\"line_color\":\"#e41a1c\",\"line_dash\":[6],\"line_width\":5,\"x\":{\"field\":\"x\"},\"y\":{\"field\":\"y\"}},\"id\":\"3c34f94f-be6a-4e5a-8a8a-faa25c8de5ae\",\"type\":\"Line\"},{\"attributes\":{\"line_alpha\":0.6,\"line_color\":\"#984ea3\",\"line_width\":3,\"x\":{\"field\":\"x\"},\"y\":{\"field\":\"y\"}},\"id\":\"0a76b01b-4b66-48d2-8408-ca4ea134b6dd\",\"type\":\"Line\"},{\"attributes\":{\"callback\":null,\"data\":{\"x\":{\"__ndarray__\":\"WfCD18ILxb45Ev51KSHFvhLVdNnhT8W+IJ42xip/xb6RITkYq6vFvrA0sVoD2MW+LDw2T5ACxr7kEeeOlCrGvqJHo1PhUMa+VLVGihd1xr6AndMkEJfGvn+0uYHMtsa+NQA1/yTUxr4AZ1uarvDGvvdH79W7Lse+k/t9ekobx75yS85McWPEvodNkLMYF7m+O6ibu25WnD6km5guOzXQPlQxJqGhH+Q+bZxZMOaE8z6//I+UUlf+Pl7tCEJ3ZP8+GJ5mQzuW9j6oao2iKt/rPhMozqRCOt4+72FkLmLayT6buVnMUYefPsV1m6JLi7O+m7zT1/2Mwr44EG7AwN/HvpO7SiuNsMq+YcCHIXZgzL6X+WYO27zNvl8ByCso886+uHnO/7IT0L6EPvPW/rDQvgZshvj4QNG+n2SczoCX0r4q2pHEUMDdvroi27oWPfS+AIbo0h1TBr/Fg6xUkoMUv6eLMX1LrB+/b0Xd9sEmIb86cDkk1l4bv8qsmluEigG/Y9DMn+jxGT9EERjasKw0PyoYNLiT0EQ/dU/ScZdYUT/rE0rGzCpaPxnXhHoxpGI/PiKZ7vWBaT/7YrJ4jO1wP7H4ibUl9XU/qPOT77M4fT/hjzIMXgeDPzTc/uC1J4g/oA6AAKYIjj9f9ykRYE2SP4BjhDWrBZY/fq5AMOM/mj+BoUz8OO6eP5RMtIY3FKI/DWvRG5rtpD9ZycQ2dPanP/owxdRSC6s/9qjI9M4grj8Dg7HR4Z6wP4k+1ronOLI/lHAnDhPksz+MLwodnLG1Pz1y2ut4rLc/\",\"dtype\":\"float64\",\"shape\":[75]},\"y\":{\"__ndarray__\":\"GhExyth1ND/Sv8nbtpRIP2vylNV0PVE/aTum7souWD/At0SJ8fVgPw3Iuahxymc/MSNhhJWvcD/bTfBN02d3P2zb5nxnaoA/CD5h5MAGhz8NmeH1TyaQP+zrCsc9p5Y/LbKd76fGnz/bLW5ISEmmPww9YvTcQq8/JV2OstnstT8Er5Y7M8G+P0c+r3jqkcU/5h99k6ZBzj88bCIzFzjVP4enV8oyxN0//yH99nXg5D8qOpLLf0jtP5kqGJXUifQ/c9cS8kHP/D+/DpwzojQEQIEmwoanVwxA4lgXt9HgE0BSSZ2AJuIbQAMJih9jjiNA5q4l5INuK0AwTKYKRj0zQNv5fmq8/DpAaCJseHrtQkB/+zpwzoxKQM3MzMzMeFJAZmZmZmZqWEAAAAAAAFxeQM3MzMzMJmJAmpmZmZkfZUBmZmZmZhhoQDMzMzMzEWtAAAAAAAAKbkBmZmZmZoFwQM3MzMzM/XFAMzMzMzN6c0CamZmZmfZ0QAAAAAAAc3ZAZmZmZmbvd0DNzMzMzGt5QDMzMzMz6HpAmpmZmZlkfEAAAAAAAOF9QGZmZmZmXX9AZmZmZuZsgECamZmZGSuBQM3MzMxM6YFAAAAAAICngkAzMzMzs2WDQGZmZmbmI4RAmpmZmRnihEDNzMzMTKCFQAAAAACAXoZAMzMzM7Mch0BmZmZm5tqHQJqZmZkZmYhAzczMzExXiUAAAAAAgBWKQDMzMzOz04pAZmZmZuaRi0CamZmZGVCMQM3MzMxMDo1AAAAAAIDMjUAzMzMzs4qOQGZmZmbmSI9A\",\"dtype\":\"float64\",\"shape\":[75]}},\"selected\":{\"id\":\"d0db1957-6900-4122-ac8c-1b0ab3458ab1\",\"type\":\"Selection\"},\"selection_policy\":{\"id\":\"11abbd24-0d13-49c5-9366-08d0f23e6b40\",\"type\":\"UnionRenderers\"}},\"id\":\"da8cdd70-7d01-4149-9e41-c46868487284\",\"type\":\"ColumnDataSource\"},{\"attributes\":{\"fill_alpha\":{\"value\":0.7},\"fill_color\":{\"value\":\"#984ea3\"},\"line_alpha\":{\"value\":0.7},\"line_color\":{\"value\":\"#984ea3\"},\"x\":{\"field\":\"x\"},\"y\":{\"field\":\"y\"}},\"id\":\"8b113e98-d127-4284-8272-5de7909c3a87\",\"type\":\"Square\"},{\"attributes\":{\"items\":[{\"id\":\"40e9f7f4-a16a-4e9d-9a6b-0e2c7401496c\",\"type\":\"LegendItem\"},{\"id\":\"1d76692e-9ca3-4861-8db7-d0db2af85285\",\"type\":\"LegendItem\"},{\"id\":\"dbaa002f-6205-4638-a225-93f867f4235b\",\"type\":\"LegendItem\"}],\"label_text_font_size\":{\"value\":\"8pt\"},\"location\":[10,-30],\"plot\":{\"id\":\"0d39610b-d958-4bcf-9db3-d238e7a76d86\",\"subtype\":\"Figure\",\"type\":\"Plot\"}},\"id\":\"eac3b1d7-63b0-40e4-8cf4-e525202ee3c3\",\"type\":\"Legend\"},{\"attributes\":{\"dimension\":1,\"plot\":{\"id\":\"0d39610b-d958-4bcf-9db3-d238e7a76d86\",\"subtype\":\"Figure\",\"type\":\"Plot\"},\"ticker\":{\"id\":\"3c5d59f0-f622-4c19-a8f4-ee66d84d3392\",\"type\":\"LogTicker\"}},\"id\":\"0806cbfd-0891-4a75-963f-98d875893fef\",\"type\":\"Grid\"},{\"attributes\":{\"active_drag\":\"auto\",\"active_inspect\":\"auto\",\"active_scroll\":\"auto\",\"active_tap\":\"auto\",\"tools\":[{\"id\":\"a89fa3d6-57b6-4b9b-971e-85d2f7f883f0\",\"type\":\"PanTool\"},{\"id\":\"d6276d69-d816-4593-8e8f-91e42d8ce594\",\"type\":\"WheelZoomTool\"},{\"id\":\"3e1b6330-0917-43b6-a2c7-1a4c02490840\",\"type\":\"BoxZoomTool\"},{\"id\":\"912b0a02-b389-47f7-9ede-ac75a3f28240\",\"type\":\"SaveTool\"},{\"id\":\"8ad0e4db-a168-41c9-bf35-dce51cbcd7da\",\"type\":\"ResetTool\"},{\"id\":\"dce09449-497a-48ea-82dd-a94dbf5576d1\",\"type\":\"HelpTool\"}]},\"id\":\"0badf052-a579-452c-93f1-5eca57855589\",\"type\":\"Toolbar\"},{\"attributes\":{\"line_alpha\":0.1,\"line_color\":\"#1f77b4\",\"line_width\":1.5,\"x\":{\"field\":\"x\"},\"y\":{\"field\":\"y\"}},\"id\":\"27e372d0-0db6-402e-8021-b01325adfbf6\",\"type\":\"Line\"},{\"attributes\":{\"source\":{\"id\":\"9bebaa3f-d43c-42d4-ab8c-9b6176a18ef0\",\"type\":\"ColumnDataSource\"}},\"id\":\"956bc10d-4399-4b14-b5f7-a4be0707ddc5\",\"type\":\"CDSView\"},{\"attributes\":{\"callback\":null,\"data\":{\"x\":{\"__ndarray__\":\"WfCD18ILxb45Ev51KSHFvhLVdNnhT8W+IJ42xip/xb6RITkYq6vFvrA0sVoD2MW+LDw2T5ACxr7kEeeOlCrGvqJHo1PhUMa+VLVGihd1xr6AndMkEJfGvn+0uYHMtsa+NQA1/yTUxr4AZ1uarvDGvvdH79W7Lse+k/t9ekobx75yS85McWPEvodNkLMYF7m+O6ibu25WnD6km5guOzXQPlQxJqGhH+Q+bZxZMOaE8z6//I+UUlf+Pl7tCEJ3ZP8+GJ5mQzuW9j6oao2iKt/rPhMozqRCOt4+72FkLmLayT6buVnMUYefPsV1m6JLi7O+m7zT1/2Mwr44EG7AwN/HvpO7SiuNsMq+YcCHIXZgzL6X+WYO27zNvl8ByCso886+uHnO/7IT0L6EPvPW/rDQvgZshvj4QNG+n2SczoCX0r4q2pHEUMDdvroi27oWPfS+AIbo0h1TBr/Fg6xUkoMUv6eLMX1LrB+/b0Xd9sEmIb86cDkk1l4bv8qsmluEigG/Y9DMn+jxGT9EERjasKw0PyoYNLiT0EQ/dU/ScZdYUT/rE0rGzCpaPxnXhHoxpGI/PiKZ7vWBaT/7YrJ4jO1wP7H4ibUl9XU/qPOT77M4fT/hjzIMXgeDPzTc/uC1J4g/oA6AAKYIjj9f9ykRYE2SP4BjhDWrBZY/fq5AMOM/mj+BoUz8OO6eP5RMtIY3FKI/DWvRG5rtpD9ZycQ2dPanP/owxdRSC6s/9qjI9M4grj8Dg7HR4Z6wP4k+1ronOLI/lHAnDhPksz+MLwodnLG1Pz1y2ut4rLc/\",\"dtype\":\"float64\",\"shape\":[75]},\"y\":{\"__ndarray__\":\"GhExyth1ND/Sv8nbtpRIP2vylNV0PVE/aTum7souWD/At0SJ8fVgPw3Iuahxymc/MSNhhJWvcD/bTfBN02d3P2zb5nxnaoA/CD5h5MAGhz8NmeH1TyaQP+zrCsc9p5Y/LbKd76fGnz/bLW5ISEmmPww9YvTcQq8/JV2OstnstT8Er5Y7M8G+P0c+r3jqkcU/5h99k6ZBzj88bCIzFzjVP4enV8oyxN0//yH99nXg5D8qOpLLf0jtP5kqGJXUifQ/c9cS8kHP/D+/DpwzojQEQIEmwoanVwxA4lgXt9HgE0BSSZ2AJuIbQAMJih9jjiNA5q4l5INuK0AwTKYKRj0zQNv5fmq8/DpAaCJseHrtQkB/+zpwzoxKQM3MzMzMeFJAZmZmZmZqWEAAAAAAAFxeQM3MzMzMJmJAmpmZmZkfZUBmZmZmZhhoQDMzMzMzEWtAAAAAAAAKbkBmZmZmZoFwQM3MzMzM/XFAMzMzMzN6c0CamZmZmfZ0QAAAAAAAc3ZAZmZmZmbvd0DNzMzMzGt5QDMzMzMz6HpAmpmZmZlkfEAAAAAAAOF9QGZmZmZmXX9AZmZmZuZsgECamZmZGSuBQM3MzMxM6YFAAAAAAICngkAzMzMzs2WDQGZmZmbmI4RAmpmZmRnihEDNzMzMTKCFQAAAAACAXoZAMzMzM7Mch0BmZmZm5tqHQJqZmZkZmYhAzczMzExXiUAAAAAAgBWKQDMzMzOz04pAZmZmZuaRi0CamZmZGVCMQM3MzMxMDo1AAAAAAIDMjUAzMzMzs4qOQGZmZmbmSI9A\",\"dtype\":\"float64\",\"shape\":[75]}},\"selected\":{\"id\":\"213356a3-b3d9-4c82-b7e1-4f12bb0e97ca\",\"type\":\"Selection\"},\"selection_policy\":{\"id\":\"dbb08536-7748-459d-a905-5ee435abf6d6\",\"type\":\"UnionRenderers\"}},\"id\":\"7ee22a92-3e28-405c-991d-2079d8606e58\",\"type\":\"ColumnDataSource\"}],\"root_ids\":[\"37e38776-03f2-403f-8ba3-fd3a5cfb31df\"]},\"title\":\"Bokeh Application\",\"version\":\"0.12.16\"}};\n",
       "  var render_items = [{\"docid\":\"d62361fd-610d-4fb7-96a4-38c0fd761c3b\",\"elementid\":\"a16f5d1d-29b0-490f-a741-ecf51508c199\",\"modelid\":\"37e38776-03f2-403f-8ba3-fd3a5cfb31df\"}];\n",
       "  root.Bokeh.embed.embed_items_notebook(docs_json, render_items);\n",
       "\n",
       "  }\n",
       "  if (root.Bokeh !== undefined) {\n",
       "    embed_document(root);\n",
       "  } else {\n",
       "    var attempts = 0;\n",
       "    var timer = setInterval(function(root) {\n",
       "      if (root.Bokeh !== undefined) {\n",
       "        embed_document(root);\n",
       "        clearInterval(timer);\n",
       "      }\n",
       "      attempts++;\n",
       "      if (attempts > 100) {\n",
       "        console.log(\"Bokeh: ERROR: Unable to run BokehJS code because BokehJS library is missing\")\n",
       "        clearInterval(timer);\n",
       "      }\n",
       "    }, 10, root)\n",
       "  }\n",
       "})(window);"
      ],
      "application/vnd.bokehjs_exec.v0+json": ""
     },
     "metadata": {
      "application/vnd.bokehjs_exec.v0+json": {
       "id": "37e38776-03f2-403f-8ba3-fd3a5cfb31df"
      }
     },
     "output_type": "display_data"
    },
    {
     "name": "stdout",
     "output_type": "stream",
     "text": [
      "FIGURE. Cooling rate profiles.\n"
     ]
    },
    {
     "data": {
      "text/html": [
       "<a id=\"Flux_Comparison\"></a>"
      ],
      "text/plain": [
       "<IPython.core.display.HTML object>"
      ]
     },
     "metadata": {},
     "output_type": "display_data"
    },
    {
     "data": {
      "text/markdown": [
       "# Flux Comparison"
      ],
      "text/plain": [
       "<IPython.core.display.Markdown object>"
      ]
     },
     "metadata": {},
     "output_type": "display_data"
    },
    {
     "data": {
      "text/html": [
       "<div>\n",
       "<style scoped>\n",
       "    .dataframe tbody tr th:only-of-type {\n",
       "        vertical-align: middle;\n",
       "    }\n",
       "\n",
       "    .dataframe tbody tr th {\n",
       "        vertical-align: top;\n",
       "    }\n",
       "\n",
       "    .dataframe thead th {\n",
       "        text-align: right;\n",
       "    }\n",
       "</style>\n",
       "<table border=\"1\" class=\"dataframe\">\n",
       "  <thead>\n",
       "    <tr style=\"text-align: right;\">\n",
       "      <th></th>\n",
       "      <th></th>\n",
       "      <th>flug</th>\n",
       "      <th>fldg</th>\n",
       "      <th>fnetg</th>\n",
       "    </tr>\n",
       "    <tr>\n",
       "      <th>pressure</th>\n",
       "      <th>level</th>\n",
       "      <th></th>\n",
       "      <th></th>\n",
       "      <th></th>\n",
       "    </tr>\n",
       "  </thead>\n",
       "  <tbody>\n",
       "    <tr>\n",
       "      <th>0.0000</th>\n",
       "      <th>1</th>\n",
       "      <td>-30.904959</td>\n",
       "      <td>0.000000</td>\n",
       "      <td>-30.904959</td>\n",
       "    </tr>\n",
       "    <tr>\n",
       "      <th>1.0685</th>\n",
       "      <th>24</th>\n",
       "      <td>-30.904959</td>\n",
       "      <td>0.000004</td>\n",
       "      <td>-30.904955</td>\n",
       "    </tr>\n",
       "    <tr>\n",
       "      <th>1013.0000</th>\n",
       "      <th>76</th>\n",
       "      <td>-31.354237</td>\n",
       "      <td>2.643608</td>\n",
       "      <td>-28.710629</td>\n",
       "    </tr>\n",
       "  </tbody>\n",
       "</table>\n",
       "</div>"
      ],
      "text/plain": [
       "                      flug      fldg      fnetg\n",
       "pressure  level                                \n",
       "0.0000    1     -30.904959  0.000000 -30.904959\n",
       "1.0685    24    -30.904959  0.000004 -30.904955\n",
       "1013.0000 76    -31.354237  2.643608 -28.710629"
      ]
     },
     "metadata": {},
     "output_type": "display_data"
    },
    {
     "name": "stdout",
     "output_type": "stream",
     "text": [
      "Table. Fluxes. CRD\n"
     ]
    },
    {
     "data": {
      "text/html": [
       "<div>\n",
       "<style scoped>\n",
       "    .dataframe tbody tr th:only-of-type {\n",
       "        vertical-align: middle;\n",
       "    }\n",
       "\n",
       "    .dataframe tbody tr th {\n",
       "        vertical-align: top;\n",
       "    }\n",
       "\n",
       "    .dataframe thead th {\n",
       "        text-align: right;\n",
       "    }\n",
       "</style>\n",
       "<table border=\"1\" class=\"dataframe\">\n",
       "  <thead>\n",
       "    <tr style=\"text-align: right;\">\n",
       "      <th></th>\n",
       "      <th></th>\n",
       "      <th>flug</th>\n",
       "      <th>fldg</th>\n",
       "      <th>fnetg</th>\n",
       "    </tr>\n",
       "    <tr>\n",
       "      <th>pressure</th>\n",
       "      <th>level</th>\n",
       "      <th></th>\n",
       "      <th></th>\n",
       "      <th></th>\n",
       "    </tr>\n",
       "  </thead>\n",
       "  <tbody>\n",
       "    <tr>\n",
       "      <th>0.0000</th>\n",
       "      <th>1</th>\n",
       "      <td>-30.935792</td>\n",
       "      <td>0.000000</td>\n",
       "      <td>-30.935792</td>\n",
       "    </tr>\n",
       "    <tr>\n",
       "      <th>1.0685</th>\n",
       "      <th>24</th>\n",
       "      <td>-30.935792</td>\n",
       "      <td>0.000002</td>\n",
       "      <td>-30.935790</td>\n",
       "    </tr>\n",
       "    <tr>\n",
       "      <th>1013.0000</th>\n",
       "      <th>76</th>\n",
       "      <td>-31.354237</td>\n",
       "      <td>2.620224</td>\n",
       "      <td>-28.734013</td>\n",
       "    </tr>\n",
       "  </tbody>\n",
       "</table>\n",
       "</div>"
      ],
      "text/plain": [
       "                      flug      fldg      fnetg\n",
       "pressure  level                                \n",
       "0.0000    1     -30.935792  0.000000 -30.935792\n",
       "1.0685    24    -30.935792  0.000002 -30.935790\n",
       "1013.0000 76    -31.354237  2.620224 -28.734013"
      ]
     },
     "metadata": {},
     "output_type": "display_data"
    },
    {
     "name": "stdout",
     "output_type": "stream",
     "text": [
      "Table. Fluxes. WGT igg=10 wgt_flux=1\n"
     ]
    },
    {
     "data": {
      "text/html": [
       "<div>\n",
       "<style scoped>\n",
       "    .dataframe tbody tr th:only-of-type {\n",
       "        vertical-align: middle;\n",
       "    }\n",
       "\n",
       "    .dataframe tbody tr th {\n",
       "        vertical-align: top;\n",
       "    }\n",
       "\n",
       "    .dataframe thead th {\n",
       "        text-align: right;\n",
       "    }\n",
       "</style>\n",
       "<table border=\"1\" class=\"dataframe\">\n",
       "  <thead>\n",
       "    <tr style=\"text-align: right;\">\n",
       "      <th></th>\n",
       "      <th></th>\n",
       "      <th>flug</th>\n",
       "      <th>fldg</th>\n",
       "      <th>fnetg</th>\n",
       "    </tr>\n",
       "    <tr>\n",
       "      <th>pressure</th>\n",
       "      <th>level</th>\n",
       "      <th></th>\n",
       "      <th></th>\n",
       "      <th></th>\n",
       "    </tr>\n",
       "  </thead>\n",
       "  <tbody>\n",
       "    <tr>\n",
       "      <th>1.000000e-08</th>\n",
       "      <th>1</th>\n",
       "      <td>-30.946006</td>\n",
       "      <td>0.000002</td>\n",
       "      <td>-30.946004</td>\n",
       "    </tr>\n",
       "    <tr>\n",
       "      <th>1.068500e+00</th>\n",
       "      <th>24</th>\n",
       "      <td>-30.946006</td>\n",
       "      <td>0.000003</td>\n",
       "      <td>-30.946003</td>\n",
       "    </tr>\n",
       "    <tr>\n",
       "      <th>1.013000e+03</th>\n",
       "      <th>76</th>\n",
       "      <td>-31.354240</td>\n",
       "      <td>2.610424</td>\n",
       "      <td>-28.743816</td>\n",
       "    </tr>\n",
       "  </tbody>\n",
       "</table>\n",
       "</div>"
      ],
      "text/plain": [
       "                         flug      fldg      fnetg\n",
       "pressure     level                                \n",
       "1.000000e-08 1     -30.946006  0.000002 -30.946004\n",
       "1.068500e+00 24    -30.946006  0.000003 -30.946003\n",
       "1.013000e+03 76    -31.354240  2.610424 -28.743816"
      ]
     },
     "metadata": {},
     "output_type": "display_data"
    },
    {
     "name": "stdout",
     "output_type": "stream",
     "text": [
      "Table. Fluxes. CLIRAD\n"
     ]
    },
    {
     "data": {
      "text/html": [
       "<div>\n",
       "<style scoped>\n",
       "    .dataframe tbody tr th:only-of-type {\n",
       "        vertical-align: middle;\n",
       "    }\n",
       "\n",
       "    .dataframe tbody tr th {\n",
       "        vertical-align: top;\n",
       "    }\n",
       "\n",
       "    .dataframe thead th {\n",
       "        text-align: right;\n",
       "    }\n",
       "</style>\n",
       "<table border=\"1\" class=\"dataframe\">\n",
       "  <thead>\n",
       "    <tr style=\"text-align: right;\">\n",
       "      <th></th>\n",
       "      <th></th>\n",
       "      <th>flug</th>\n",
       "      <th>fldg</th>\n",
       "      <th>fnetg</th>\n",
       "    </tr>\n",
       "    <tr>\n",
       "      <th>pressure</th>\n",
       "      <th>level</th>\n",
       "      <th></th>\n",
       "      <th></th>\n",
       "      <th></th>\n",
       "    </tr>\n",
       "  </thead>\n",
       "  <tbody>\n",
       "    <tr>\n",
       "      <th>0.0000</th>\n",
       "      <th>1</th>\n",
       "      <td>-3.083305e-02</td>\n",
       "      <td>0.000000</td>\n",
       "      <td>-0.030833</td>\n",
       "    </tr>\n",
       "    <tr>\n",
       "      <th>1.0685</th>\n",
       "      <th>24</th>\n",
       "      <td>-3.083334e-02</td>\n",
       "      <td>-0.000002</td>\n",
       "      <td>-0.030835</td>\n",
       "    </tr>\n",
       "    <tr>\n",
       "      <th>1013.0000</th>\n",
       "      <th>76</th>\n",
       "      <td>4.900000e-07</td>\n",
       "      <td>-0.023383</td>\n",
       "      <td>-0.023384</td>\n",
       "    </tr>\n",
       "  </tbody>\n",
       "</table>\n",
       "</div>"
      ],
      "text/plain": [
       "                         flug      fldg     fnetg\n",
       "pressure  level                                  \n",
       "0.0000    1     -3.083305e-02  0.000000 -0.030833\n",
       "1.0685    24    -3.083334e-02 -0.000002 -0.030835\n",
       "1013.0000 76     4.900000e-07 -0.023383 -0.023384"
      ]
     },
     "metadata": {},
     "output_type": "display_data"
    },
    {
     "name": "stdout",
     "output_type": "stream",
     "text": [
      "Table. Fluxes. (WGT igg=10 wgt_flux=1) - (CRD)\n"
     ]
    },
    {
     "data": {
      "text/html": [
       "<div>\n",
       "<style scoped>\n",
       "    .dataframe tbody tr th:only-of-type {\n",
       "        vertical-align: middle;\n",
       "    }\n",
       "\n",
       "    .dataframe tbody tr th {\n",
       "        vertical-align: top;\n",
       "    }\n",
       "\n",
       "    .dataframe thead th {\n",
       "        text-align: right;\n",
       "    }\n",
       "</style>\n",
       "<table border=\"1\" class=\"dataframe\">\n",
       "  <thead>\n",
       "    <tr style=\"text-align: right;\">\n",
       "      <th></th>\n",
       "      <th></th>\n",
       "      <th>flug</th>\n",
       "      <th>fldg</th>\n",
       "      <th>fnetg</th>\n",
       "    </tr>\n",
       "    <tr>\n",
       "      <th>pressure</th>\n",
       "      <th>level</th>\n",
       "      <th></th>\n",
       "      <th></th>\n",
       "      <th></th>\n",
       "    </tr>\n",
       "  </thead>\n",
       "  <tbody>\n",
       "    <tr>\n",
       "      <th>0.0000</th>\n",
       "      <th>1</th>\n",
       "      <td>-0.041047</td>\n",
       "      <td>1.847458e-06</td>\n",
       "      <td>-0.041045</td>\n",
       "    </tr>\n",
       "    <tr>\n",
       "      <th>1.0685</th>\n",
       "      <th>24</th>\n",
       "      <td>-0.041047</td>\n",
       "      <td>-5.862129e-07</td>\n",
       "      <td>-0.041048</td>\n",
       "    </tr>\n",
       "    <tr>\n",
       "      <th>1013.0000</th>\n",
       "      <th>76</th>\n",
       "      <td>-0.000003</td>\n",
       "      <td>-3.318320e-02</td>\n",
       "      <td>-0.033187</td>\n",
       "    </tr>\n",
       "  </tbody>\n",
       "</table>\n",
       "</div>"
      ],
      "text/plain": [
       "                     flug          fldg     fnetg\n",
       "pressure  level                                  \n",
       "0.0000    1     -0.041047  1.847458e-06 -0.041045\n",
       "1.0685    24    -0.041047 -5.862129e-07 -0.041048\n",
       "1013.0000 76    -0.000003 -3.318320e-02 -0.033187"
      ]
     },
     "metadata": {},
     "output_type": "display_data"
    },
    {
     "name": "stdout",
     "output_type": "stream",
     "text": [
      "Table. Fluxes. (CLIRAD) - (CRD)\n"
     ]
    },
    {
     "data": {
      "text/html": [
       "<a id=\"Best-fit_Parameters\"></a>"
      ],
      "text/plain": [
       "<IPython.core.display.HTML object>"
      ]
     },
     "metadata": {},
     "output_type": "display_data"
    },
    {
     "data": {
      "text/markdown": [
       "# Best-fit Parameters"
      ],
      "text/plain": [
       "<IPython.core.display.Markdown object>"
      ]
     },
     "metadata": {},
     "output_type": "display_data"
    },
    {
     "name": "stdout",
     "output_type": "stream",
     "text": [
      "Best-fit values for each (gas, band)\n",
      "------------------------------------\n",
      "o h2o band5\n",
      "  atmpro = mls\n",
      "  band = 5\n",
      "  commitnumber = a06b618\n",
      "  conc = None\n",
      "  dv = 0.001\n",
      "  klin = 1e-24\n",
      "  molecule = h2o\n",
      "  ng_adju = [0]\n",
      "  ng_refs = [3]\n",
      "  nv = 1000\n",
      "  option_compute_btable = 0\n",
      "  option_compute_ktable = 1\n",
      "  option_wgt_flux = 1\n",
      "  option_wgt_k = 1\n",
      "  ref_pts = [(600, 250)]\n",
      "  tsfc = 294\n",
      "  vmax = 1100\n",
      "  vmin = 980\n",
      "  w_diffuse = [(1.66, 1.66, 1.8)]\n",
      "  wgt = [(0.5, 0.55, 0.9)]\n"
     ]
    }
   ],
   "source": [
    "script()"
   ]
  },
  {
   "cell_type": "code",
   "execution_count": 13,
   "metadata": {
    "collapsed": true
   },
   "outputs": [
    {
     "data": {
      "text/html": [
       "<script>\n",
       "code_show=true; \n",
       "function code_toggle() {\n",
       " if (code_show){\n",
       " $('div.input').hide();\n",
       " } else {\n",
       " $('div.input').show();\n",
       " }\n",
       " code_show = !code_show\n",
       "} \n",
       "$( document ).ready(code_toggle);\n",
       "</script>\n",
       "<form action=\"javascript:code_toggle()\"><input type=\"submit\" value=\"Click here to toggle on/off the raw code.\"></form>"
      ],
      "text/plain": [
       "<IPython.core.display.HTML object>"
      ]
     },
     "execution_count": 13,
     "metadata": {},
     "output_type": "execute_result"
    }
   ],
   "source": [
    "display.HTML('''<script>\n",
    "code_show=true; \n",
    "function code_toggle() {\n",
    " if (code_show){\n",
    " $('div.input').hide();\n",
    " } else {\n",
    " $('div.input').show();\n",
    " }\n",
    " code_show = !code_show\n",
    "} \n",
    "$( document ).ready(code_toggle);\n",
    "</script>\n",
    "<form action=\"javascript:code_toggle()\"><input type=\"submit\" value=\"Click here to toggle on/off the raw code.\"></form>''')"
   ]
  }
 ],
 "metadata": {
  "kernelspec": {
   "display_name": "Python 3",
   "language": "python",
   "name": "python3"
  },
  "language_info": {
   "codemirror_mode": {
    "name": "ipython",
    "version": 3
   },
   "file_extension": ".py",
   "mimetype": "text/x-python",
   "name": "python",
   "nbconvert_exporter": "python",
   "pygments_lexer": "ipython3",
   "version": "3.6.1"
  }
 },
 "nbformat": 4,
 "nbformat_minor": 2
}
