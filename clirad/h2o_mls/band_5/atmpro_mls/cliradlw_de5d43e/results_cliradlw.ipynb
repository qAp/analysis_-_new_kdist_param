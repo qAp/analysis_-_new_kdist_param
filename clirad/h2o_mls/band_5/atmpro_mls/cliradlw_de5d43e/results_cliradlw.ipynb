{
 "cells": [
  {
   "cell_type": "code",
   "execution_count": 1,
   "metadata": {
    "collapsed": true
   },
   "outputs": [
    {
     "name": "stdout",
     "output_type": "stream",
     "text": [
      "The history saving thread hit an unexpected error (OperationalError('database is locked',)).History will not be written to the database.\n"
     ]
    }
   ],
   "source": [
    "%matplotlib inline\n",
    "import os\n",
    "import re\n",
    "import io\n",
    "import itertools\n",
    "import pprint\n",
    "\n",
    "from bokeh.io import output_notebook, show\n",
    "from bokeh.layouts import gridplot\n",
    "from bokeh.plotting import figure\n",
    "from bokeh.models import Range1d, Legend\n",
    "from bokeh.palettes import all_palettes\n",
    "\n",
    "import matplotlib\n",
    "import matplotlib.pyplot as plt\n",
    "import numpy as np\n",
    "import pandas as pd\n",
    "import xarray as xr\n",
    "\n",
    "import climatools.lblnew.bestfit_params as bestfits\n",
    "from climatools.lblnew import setup_bestfit, setup_overlap\n",
    "import climatools.lblnew.pipeline as pipe_lblnew\n",
    "import climatools.cliradlw.setup as setup_cliradlw\n",
    "import climatools.cliradlw.pipeline as pipe_cliradlw\n",
    "\n",
    "import climatools.html.html as climahtml\n",
    "from climatools.lblnew.dataio import *\n",
    "from climatools.plot.plot import *\n",
    "\n",
    "\n",
    "import IPython.display as display"
   ]
  },
  {
   "cell_type": "code",
   "execution_count": 2,
   "metadata": {
    "collapsed": true
   },
   "outputs": [],
   "source": [
    "%run param.py"
   ]
  },
  {
   "cell_type": "code",
   "execution_count": 3,
   "metadata": {
    "collapsed": true
   },
   "outputs": [],
   "source": [
    "def load_output_file(path_csv):\n",
    "    '''\n",
    "    Load lblnew output .csv file to xarray.Dataset\n",
    "    \n",
    "    Parameters\n",
    "    ----------\n",
    "    path_csv: str\n",
    "              Path to the .csv file to be loaded.\n",
    "    ds: xarray.Dataset\n",
    "        Data in the input file in the form of an xarray.Dataset.\n",
    "    '''\n",
    "    toindex = ['band', 'pressure', 'igg', 'g']    \n",
    "    df = pd.read_csv(path_csv, sep=r'\\s+')\n",
    "    df = df.set_index([i for i in toindex if i in df.columns])\n",
    "    df = df.rename(columns={'sfu': 'flug',\n",
    "                            'sfd': 'fldg',\n",
    "                            'fnet': 'fnetg',\n",
    "                            'coolr': 'coolrg'})\n",
    "    ds = xr.Dataset.from_dataframe(df)\n",
    "\n",
    "    for l in ('level', 'layer'):\n",
    "        if l in ds.data_vars:\n",
    "            if len(ds[l].dims) > 1:\n",
    "                surface = {d: 0 for d in ds.dims if d != 'pressure'}\n",
    "                coord_level = ds[l][surface]\n",
    "                ds.coords[l] = ('pressure', coord_level)\n",
    "            else:\n",
    "                ds.coords[l] = ('pressure', ds[l])\n",
    "    \n",
    "    return ds"
   ]
  },
  {
   "cell_type": "code",
   "execution_count": 4,
   "metadata": {
    "collapsed": true
   },
   "outputs": [],
   "source": [
    "def lblnew_setup(param=None):\n",
    "    if 'ng_refs' in param:\n",
    "        return {'setup': setup_bestfit,\n",
    "                'fname_flux_crd': 'output_flux.dat',\n",
    "                'fname_cool_crd': 'output_coolr.dat',\n",
    "                'fname_flux_wgt': 'output_wfluxg.dat',\n",
    "                'fname_cool_wgt': 'output_wcoolrg.dat'}\n",
    "    else:\n",
    "        return {'setup': setup_overlap,\n",
    "                'fname_flux_crd': 'output_flux.dat',\n",
    "                'fname_cool_crd': 'output_coolr.dat',\n",
    "                'fname_flux_wgt': 'output_wflux.dat',\n",
    "                'fname_cool_wgt': 'output_wcoolr.dat'}\n",
    "\n",
    "    \n",
    "def load_lblnew_data(param):\n",
    "    \n",
    "    fname_dsname = [('fname_flux_crd', 'ds_flux_crd'),\n",
    "                    ('fname_cool_crd', 'ds_cool_crd'),\n",
    "                    ('fname_flux_wgt', 'ds_flux_wgt'),\n",
    "                    ('fname_cool_wgt', 'ds_cool_wgt')]\n",
    "    \n",
    "    d = lblnew_setup(param)\n",
    "    dir_fortran = pipe_lblnew.get_dir_case(param, setup=d['setup'])\n",
    "    \n",
    "    data_dict = {}\n",
    "    for fname, dsname in fname_dsname:\n",
    "        fpath = os.path.join(dir_fortran, d[fname])\n",
    "        data_dict[dsname] = load_output_file(fpath)\n",
    "    return data_dict\n",
    "    \n",
    "\n",
    "    \n",
    "    "
   ]
  },
  {
   "cell_type": "code",
   "execution_count": 5,
   "metadata": {
    "collapsed": true
   },
   "outputs": [],
   "source": [
    "d = load_lblnew_data(PARAM_LBLNEW)\n",
    "\n",
    "DS_FLUX_CRD = d['ds_flux_crd']\n",
    "DS_COOL_CRD = d['ds_cool_crd']\n",
    "DS_FLUX_WGT = d['ds_flux_wgt']\n",
    "DS_COOL_WGT = d['ds_cool_wgt']"
   ]
  },
  {
   "cell_type": "code",
   "execution_count": 6,
   "metadata": {
    "collapsed": true
   },
   "outputs": [],
   "source": [
    "DIR_FORTRAN = pipe_cliradlw.get_fortran_dir(PARAM, \n",
    "                                            setup=setup_cliradlw)\n",
    "\n",
    "PATH_FLUX = os.path.join(DIR_FORTRAN, 'output_flux.dat')\n",
    "PATH_COOL = os.path.join(DIR_FORTRAN, 'output_coolr.dat')\n",
    "\n",
    "DS_FLUX = load_output_file(PATH_FLUX)\n",
    "DS_COOL = load_output_file(PATH_COOL)"
   ]
  },
  {
   "cell_type": "code",
   "execution_count": 7,
   "metadata": {
    "collapsed": true
   },
   "outputs": [
    {
     "data": {
      "text/html": [
       "\n",
       "    <div class=\"bk-root\">\n",
       "        <a href=\"https://bokeh.pydata.org\" target=\"_blank\" class=\"bk-logo bk-logo-small bk-logo-notebook\"></a>\n",
       "        <span id=\"fb24548f-69e6-4901-bc7b-f1699096a6b6\">Loading BokehJS ...</span>\n",
       "    </div>"
      ]
     },
     "metadata": {},
     "output_type": "display_data"
    },
    {
     "data": {
      "application/javascript": [
       "\n",
       "(function(root) {\n",
       "  function now() {\n",
       "    return new Date();\n",
       "  }\n",
       "\n",
       "  var force = true;\n",
       "\n",
       "  if (typeof (root._bokeh_onload_callbacks) === \"undefined\" || force === true) {\n",
       "    root._bokeh_onload_callbacks = [];\n",
       "    root._bokeh_is_loading = undefined;\n",
       "  }\n",
       "\n",
       "  var JS_MIME_TYPE = 'application/javascript';\n",
       "  var HTML_MIME_TYPE = 'text/html';\n",
       "  var EXEC_MIME_TYPE = 'application/vnd.bokehjs_exec.v0+json';\n",
       "  var CLASS_NAME = 'output_bokeh rendered_html';\n",
       "\n",
       "  /**\n",
       "   * Render data to the DOM node\n",
       "   */\n",
       "  function render(props, node) {\n",
       "    var script = document.createElement(\"script\");\n",
       "    node.appendChild(script);\n",
       "  }\n",
       "\n",
       "  /**\n",
       "   * Handle when an output is cleared or removed\n",
       "   */\n",
       "  function handleClearOutput(event, handle) {\n",
       "    var cell = handle.cell;\n",
       "\n",
       "    var id = cell.output_area._bokeh_element_id;\n",
       "    var server_id = cell.output_area._bokeh_server_id;\n",
       "    // Clean up Bokeh references\n",
       "    if (id !== undefined) {\n",
       "      Bokeh.index[id].model.document.clear();\n",
       "      delete Bokeh.index[id];\n",
       "    }\n",
       "\n",
       "    if (server_id !== undefined) {\n",
       "      // Clean up Bokeh references\n",
       "      var cmd = \"from bokeh.io.state import curstate; print(curstate().uuid_to_server['\" + server_id + \"'].get_sessions()[0].document.roots[0]._id)\";\n",
       "      cell.notebook.kernel.execute(cmd, {\n",
       "        iopub: {\n",
       "          output: function(msg) {\n",
       "            var element_id = msg.content.text.trim();\n",
       "            Bokeh.index[element_id].model.document.clear();\n",
       "            delete Bokeh.index[element_id];\n",
       "          }\n",
       "        }\n",
       "      });\n",
       "      // Destroy server and session\n",
       "      var cmd = \"import bokeh.io.notebook as ion; ion.destroy_server('\" + server_id + \"')\";\n",
       "      cell.notebook.kernel.execute(cmd);\n",
       "    }\n",
       "  }\n",
       "\n",
       "  /**\n",
       "   * Handle when a new output is added\n",
       "   */\n",
       "  function handleAddOutput(event, handle) {\n",
       "    var output_area = handle.output_area;\n",
       "    var output = handle.output;\n",
       "\n",
       "    // limit handleAddOutput to display_data with EXEC_MIME_TYPE content only\n",
       "    if ((output.output_type != \"display_data\") || (!output.data.hasOwnProperty(EXEC_MIME_TYPE))) {\n",
       "      return\n",
       "    }\n",
       "\n",
       "    var toinsert = output_area.element.find(\".\" + CLASS_NAME.split(' ')[0]);\n",
       "\n",
       "    if (output.metadata[EXEC_MIME_TYPE][\"id\"] !== undefined) {\n",
       "      toinsert[toinsert.length - 1].firstChild.textContent = output.data[JS_MIME_TYPE];\n",
       "      // store reference to embed id on output_area\n",
       "      output_area._bokeh_element_id = output.metadata[EXEC_MIME_TYPE][\"id\"];\n",
       "    }\n",
       "    if (output.metadata[EXEC_MIME_TYPE][\"server_id\"] !== undefined) {\n",
       "      var bk_div = document.createElement(\"div\");\n",
       "      bk_div.innerHTML = output.data[HTML_MIME_TYPE];\n",
       "      var script_attrs = bk_div.children[0].attributes;\n",
       "      for (var i = 0; i < script_attrs.length; i++) {\n",
       "        toinsert[toinsert.length - 1].firstChild.setAttribute(script_attrs[i].name, script_attrs[i].value);\n",
       "      }\n",
       "      // store reference to server id on output_area\n",
       "      output_area._bokeh_server_id = output.metadata[EXEC_MIME_TYPE][\"server_id\"];\n",
       "    }\n",
       "  }\n",
       "\n",
       "  function register_renderer(events, OutputArea) {\n",
       "\n",
       "    function append_mime(data, metadata, element) {\n",
       "      // create a DOM node to render to\n",
       "      var toinsert = this.create_output_subarea(\n",
       "        metadata,\n",
       "        CLASS_NAME,\n",
       "        EXEC_MIME_TYPE\n",
       "      );\n",
       "      this.keyboard_manager.register_events(toinsert);\n",
       "      // Render to node\n",
       "      var props = {data: data, metadata: metadata[EXEC_MIME_TYPE]};\n",
       "      render(props, toinsert[toinsert.length - 1]);\n",
       "      element.append(toinsert);\n",
       "      return toinsert\n",
       "    }\n",
       "\n",
       "    /* Handle when an output is cleared or removed */\n",
       "    events.on('clear_output.CodeCell', handleClearOutput);\n",
       "    events.on('delete.Cell', handleClearOutput);\n",
       "\n",
       "    /* Handle when a new output is added */\n",
       "    events.on('output_added.OutputArea', handleAddOutput);\n",
       "\n",
       "    /**\n",
       "     * Register the mime type and append_mime function with output_area\n",
       "     */\n",
       "    OutputArea.prototype.register_mime_type(EXEC_MIME_TYPE, append_mime, {\n",
       "      /* Is output safe? */\n",
       "      safe: true,\n",
       "      /* Index of renderer in `output_area.display_order` */\n",
       "      index: 0\n",
       "    });\n",
       "  }\n",
       "\n",
       "  // register the mime type if in Jupyter Notebook environment and previously unregistered\n",
       "  if (root.Jupyter !== undefined) {\n",
       "    var events = require('base/js/events');\n",
       "    var OutputArea = require('notebook/js/outputarea').OutputArea;\n",
       "\n",
       "    if (OutputArea.prototype.mime_types().indexOf(EXEC_MIME_TYPE) == -1) {\n",
       "      register_renderer(events, OutputArea);\n",
       "    }\n",
       "  }\n",
       "\n",
       "  \n",
       "  if (typeof (root._bokeh_timeout) === \"undefined\" || force === true) {\n",
       "    root._bokeh_timeout = Date.now() + 5000;\n",
       "    root._bokeh_failed_load = false;\n",
       "  }\n",
       "\n",
       "  var NB_LOAD_WARNING = {'data': {'text/html':\n",
       "     \"<div style='background-color: #fdd'>\\n\"+\n",
       "     \"<p>\\n\"+\n",
       "     \"BokehJS does not appear to have successfully loaded. If loading BokehJS from CDN, this \\n\"+\n",
       "     \"may be due to a slow or bad network connection. Possible fixes:\\n\"+\n",
       "     \"</p>\\n\"+\n",
       "     \"<ul>\\n\"+\n",
       "     \"<li>re-rerun `output_notebook()` to attempt to load from CDN again, or</li>\\n\"+\n",
       "     \"<li>use INLINE resources instead, as so:</li>\\n\"+\n",
       "     \"</ul>\\n\"+\n",
       "     \"<code>\\n\"+\n",
       "     \"from bokeh.resources import INLINE\\n\"+\n",
       "     \"output_notebook(resources=INLINE)\\n\"+\n",
       "     \"</code>\\n\"+\n",
       "     \"</div>\"}};\n",
       "\n",
       "  function display_loaded() {\n",
       "    var el = document.getElementById(\"fb24548f-69e6-4901-bc7b-f1699096a6b6\");\n",
       "    if (el != null) {\n",
       "      el.textContent = \"BokehJS is loading...\";\n",
       "    }\n",
       "    if (root.Bokeh !== undefined) {\n",
       "      if (el != null) {\n",
       "        el.textContent = \"BokehJS \" + root.Bokeh.version + \" successfully loaded.\";\n",
       "      }\n",
       "    } else if (Date.now() < root._bokeh_timeout) {\n",
       "      setTimeout(display_loaded, 100)\n",
       "    }\n",
       "  }\n",
       "\n",
       "\n",
       "  function run_callbacks() {\n",
       "    try {\n",
       "      root._bokeh_onload_callbacks.forEach(function(callback) { callback() });\n",
       "    }\n",
       "    finally {\n",
       "      delete root._bokeh_onload_callbacks\n",
       "    }\n",
       "    console.info(\"Bokeh: all callbacks have finished\");\n",
       "  }\n",
       "\n",
       "  function load_libs(js_urls, callback) {\n",
       "    root._bokeh_onload_callbacks.push(callback);\n",
       "    if (root._bokeh_is_loading > 0) {\n",
       "      console.log(\"Bokeh: BokehJS is being loaded, scheduling callback at\", now());\n",
       "      return null;\n",
       "    }\n",
       "    if (js_urls == null || js_urls.length === 0) {\n",
       "      run_callbacks();\n",
       "      return null;\n",
       "    }\n",
       "    console.log(\"Bokeh: BokehJS not loaded, scheduling load and callback at\", now());\n",
       "    root._bokeh_is_loading = js_urls.length;\n",
       "    for (var i = 0; i < js_urls.length; i++) {\n",
       "      var url = js_urls[i];\n",
       "      var s = document.createElement('script');\n",
       "      s.src = url;\n",
       "      s.async = false;\n",
       "      s.onreadystatechange = s.onload = function() {\n",
       "        root._bokeh_is_loading--;\n",
       "        if (root._bokeh_is_loading === 0) {\n",
       "          console.log(\"Bokeh: all BokehJS libraries loaded\");\n",
       "          run_callbacks()\n",
       "        }\n",
       "      };\n",
       "      s.onerror = function() {\n",
       "        console.warn(\"failed to load library \" + url);\n",
       "      };\n",
       "      console.log(\"Bokeh: injecting script tag for BokehJS library: \", url);\n",
       "      document.getElementsByTagName(\"head\")[0].appendChild(s);\n",
       "    }\n",
       "  };var element = document.getElementById(\"fb24548f-69e6-4901-bc7b-f1699096a6b6\");\n",
       "  if (element == null) {\n",
       "    console.log(\"Bokeh: ERROR: autoload.js configured with elementid 'fb24548f-69e6-4901-bc7b-f1699096a6b6' but no matching script tag was found. \")\n",
       "    return false;\n",
       "  }\n",
       "\n",
       "  var js_urls = [\"https://cdn.pydata.org/bokeh/release/bokeh-0.12.16.min.js\", \"https://cdn.pydata.org/bokeh/release/bokeh-widgets-0.12.16.min.js\", \"https://cdn.pydata.org/bokeh/release/bokeh-tables-0.12.16.min.js\", \"https://cdn.pydata.org/bokeh/release/bokeh-gl-0.12.16.min.js\"];\n",
       "\n",
       "  var inline_js = [\n",
       "    function(Bokeh) {\n",
       "      Bokeh.set_log_level(\"info\");\n",
       "    },\n",
       "    \n",
       "    function(Bokeh) {\n",
       "      \n",
       "    },\n",
       "    function(Bokeh) {\n",
       "      console.log(\"Bokeh: injecting CSS: https://cdn.pydata.org/bokeh/release/bokeh-0.12.16.min.css\");\n",
       "      Bokeh.embed.inject_css(\"https://cdn.pydata.org/bokeh/release/bokeh-0.12.16.min.css\");\n",
       "      console.log(\"Bokeh: injecting CSS: https://cdn.pydata.org/bokeh/release/bokeh-widgets-0.12.16.min.css\");\n",
       "      Bokeh.embed.inject_css(\"https://cdn.pydata.org/bokeh/release/bokeh-widgets-0.12.16.min.css\");\n",
       "      console.log(\"Bokeh: injecting CSS: https://cdn.pydata.org/bokeh/release/bokeh-tables-0.12.16.min.css\");\n",
       "      Bokeh.embed.inject_css(\"https://cdn.pydata.org/bokeh/release/bokeh-tables-0.12.16.min.css\");\n",
       "    }\n",
       "  ];\n",
       "\n",
       "  function run_inline_js() {\n",
       "    \n",
       "    if ((root.Bokeh !== undefined) || (force === true)) {\n",
       "      for (var i = 0; i < inline_js.length; i++) {\n",
       "        inline_js[i].call(root, root.Bokeh);\n",
       "      }if (force === true) {\n",
       "        display_loaded();\n",
       "      }} else if (Date.now() < root._bokeh_timeout) {\n",
       "      setTimeout(run_inline_js, 100);\n",
       "    } else if (!root._bokeh_failed_load) {\n",
       "      console.log(\"Bokeh: BokehJS failed to load within specified timeout.\");\n",
       "      root._bokeh_failed_load = true;\n",
       "    } else if (force !== true) {\n",
       "      var cell = $(document.getElementById(\"fb24548f-69e6-4901-bc7b-f1699096a6b6\")).parents('.cell').data().cell;\n",
       "      cell.output_area.append_execute_result(NB_LOAD_WARNING)\n",
       "    }\n",
       "\n",
       "  }\n",
       "\n",
       "  if (root._bokeh_is_loading === 0) {\n",
       "    console.log(\"Bokeh: BokehJS loaded, going straight to plotting\");\n",
       "    run_inline_js();\n",
       "  } else {\n",
       "    load_libs(js_urls, function() {\n",
       "      console.log(\"Bokeh: BokehJS plotting callback run at\", now());\n",
       "      run_inline_js();\n",
       "    });\n",
       "  }\n",
       "}(window));"
      ],
      "application/vnd.bokehjs_load.v0+json": "\n(function(root) {\n  function now() {\n    return new Date();\n  }\n\n  var force = true;\n\n  if (typeof (root._bokeh_onload_callbacks) === \"undefined\" || force === true) {\n    root._bokeh_onload_callbacks = [];\n    root._bokeh_is_loading = undefined;\n  }\n\n  \n\n  \n  if (typeof (root._bokeh_timeout) === \"undefined\" || force === true) {\n    root._bokeh_timeout = Date.now() + 5000;\n    root._bokeh_failed_load = false;\n  }\n\n  var NB_LOAD_WARNING = {'data': {'text/html':\n     \"<div style='background-color: #fdd'>\\n\"+\n     \"<p>\\n\"+\n     \"BokehJS does not appear to have successfully loaded. If loading BokehJS from CDN, this \\n\"+\n     \"may be due to a slow or bad network connection. Possible fixes:\\n\"+\n     \"</p>\\n\"+\n     \"<ul>\\n\"+\n     \"<li>re-rerun `output_notebook()` to attempt to load from CDN again, or</li>\\n\"+\n     \"<li>use INLINE resources instead, as so:</li>\\n\"+\n     \"</ul>\\n\"+\n     \"<code>\\n\"+\n     \"from bokeh.resources import INLINE\\n\"+\n     \"output_notebook(resources=INLINE)\\n\"+\n     \"</code>\\n\"+\n     \"</div>\"}};\n\n  function display_loaded() {\n    var el = document.getElementById(\"fb24548f-69e6-4901-bc7b-f1699096a6b6\");\n    if (el != null) {\n      el.textContent = \"BokehJS is loading...\";\n    }\n    if (root.Bokeh !== undefined) {\n      if (el != null) {\n        el.textContent = \"BokehJS \" + root.Bokeh.version + \" successfully loaded.\";\n      }\n    } else if (Date.now() < root._bokeh_timeout) {\n      setTimeout(display_loaded, 100)\n    }\n  }\n\n\n  function run_callbacks() {\n    try {\n      root._bokeh_onload_callbacks.forEach(function(callback) { callback() });\n    }\n    finally {\n      delete root._bokeh_onload_callbacks\n    }\n    console.info(\"Bokeh: all callbacks have finished\");\n  }\n\n  function load_libs(js_urls, callback) {\n    root._bokeh_onload_callbacks.push(callback);\n    if (root._bokeh_is_loading > 0) {\n      console.log(\"Bokeh: BokehJS is being loaded, scheduling callback at\", now());\n      return null;\n    }\n    if (js_urls == null || js_urls.length === 0) {\n      run_callbacks();\n      return null;\n    }\n    console.log(\"Bokeh: BokehJS not loaded, scheduling load and callback at\", now());\n    root._bokeh_is_loading = js_urls.length;\n    for (var i = 0; i < js_urls.length; i++) {\n      var url = js_urls[i];\n      var s = document.createElement('script');\n      s.src = url;\n      s.async = false;\n      s.onreadystatechange = s.onload = function() {\n        root._bokeh_is_loading--;\n        if (root._bokeh_is_loading === 0) {\n          console.log(\"Bokeh: all BokehJS libraries loaded\");\n          run_callbacks()\n        }\n      };\n      s.onerror = function() {\n        console.warn(\"failed to load library \" + url);\n      };\n      console.log(\"Bokeh: injecting script tag for BokehJS library: \", url);\n      document.getElementsByTagName(\"head\")[0].appendChild(s);\n    }\n  };var element = document.getElementById(\"fb24548f-69e6-4901-bc7b-f1699096a6b6\");\n  if (element == null) {\n    console.log(\"Bokeh: ERROR: autoload.js configured with elementid 'fb24548f-69e6-4901-bc7b-f1699096a6b6' but no matching script tag was found. \")\n    return false;\n  }\n\n  var js_urls = [\"https://cdn.pydata.org/bokeh/release/bokeh-0.12.16.min.js\", \"https://cdn.pydata.org/bokeh/release/bokeh-widgets-0.12.16.min.js\", \"https://cdn.pydata.org/bokeh/release/bokeh-tables-0.12.16.min.js\", \"https://cdn.pydata.org/bokeh/release/bokeh-gl-0.12.16.min.js\"];\n\n  var inline_js = [\n    function(Bokeh) {\n      Bokeh.set_log_level(\"info\");\n    },\n    \n    function(Bokeh) {\n      \n    },\n    function(Bokeh) {\n      console.log(\"Bokeh: injecting CSS: https://cdn.pydata.org/bokeh/release/bokeh-0.12.16.min.css\");\n      Bokeh.embed.inject_css(\"https://cdn.pydata.org/bokeh/release/bokeh-0.12.16.min.css\");\n      console.log(\"Bokeh: injecting CSS: https://cdn.pydata.org/bokeh/release/bokeh-widgets-0.12.16.min.css\");\n      Bokeh.embed.inject_css(\"https://cdn.pydata.org/bokeh/release/bokeh-widgets-0.12.16.min.css\");\n      console.log(\"Bokeh: injecting CSS: https://cdn.pydata.org/bokeh/release/bokeh-tables-0.12.16.min.css\");\n      Bokeh.embed.inject_css(\"https://cdn.pydata.org/bokeh/release/bokeh-tables-0.12.16.min.css\");\n    }\n  ];\n\n  function run_inline_js() {\n    \n    if ((root.Bokeh !== undefined) || (force === true)) {\n      for (var i = 0; i < inline_js.length; i++) {\n        inline_js[i].call(root, root.Bokeh);\n      }if (force === true) {\n        display_loaded();\n      }} else if (Date.now() < root._bokeh_timeout) {\n      setTimeout(run_inline_js, 100);\n    } else if (!root._bokeh_failed_load) {\n      console.log(\"Bokeh: BokehJS failed to load within specified timeout.\");\n      root._bokeh_failed_load = true;\n    } else if (force !== true) {\n      var cell = $(document.getElementById(\"fb24548f-69e6-4901-bc7b-f1699096a6b6\")).parents('.cell').data().cell;\n      cell.output_area.append_execute_result(NB_LOAD_WARNING)\n    }\n\n  }\n\n  if (root._bokeh_is_loading === 0) {\n    console.log(\"Bokeh: BokehJS loaded, going straight to plotting\");\n    run_inline_js();\n  } else {\n    load_libs(js_urls, function() {\n      console.log(\"Bokeh: BokehJS plotting callback run at\", now());\n      run_inline_js();\n    });\n  }\n}(window));"
     },
     "metadata": {},
     "output_type": "display_data"
    }
   ],
   "source": [
    "output_notebook()"
   ]
  },
  {
   "cell_type": "code",
   "execution_count": 8,
   "metadata": {
    "collapsed": true
   },
   "outputs": [],
   "source": [
    "def fmt_cool(ds_in):\n",
    "    ds = ds_in.copy(deep=True)\n",
    "    if 'igg' in ds.dims:\n",
    "        ds = ds.sel(igg=1)\n",
    "\n",
    "    if 'g' in ds.dims:\n",
    "        ds = ds.sum('g')\n",
    "            \n",
    "    if 'band' in ds.dims:\n",
    "        try:\n",
    "            ds = ds.squeeze('band')\n",
    "        except ValueError:\n",
    "            ds = ds.sum('band')\n",
    "                \n",
    "    return ds['coolrg']\n",
    "\n",
    "\n",
    "def pltdata_cooling_1(ds_cool=None,\n",
    "                      ds_cool_crd=None, ds_cool_wgt=None):\n",
    "    \n",
    "\n",
    "\n",
    "    colors = all_palettes['Set1'][4]\n",
    "    data = [{'label': 'CLIRAD `coolr_bands`',\n",
    "             'srs': fmt_cool(ds_cool),\n",
    "             'line_dash': 'dashed', 'line_width': 5,\n",
    "             'color': colors[0], 'alpha': .6},\n",
    "            {'label': 'CRD',\n",
    "             'srs': fmt_cool(ds_cool_crd),\n",
    "             'line_dash': 'solid', 'line_width': 1.5,\n",
    "             'marker': 'circle', 'marker_size': 5,\n",
    "             'color': colors[2], 'alpha': 1,},\n",
    "            {'label': 'WGT igg=10 wgt_flux=2',\n",
    "             'srs': fmt_cool(ds_cool_wgt),\n",
    "             'line_dash': 'solid', 'line_width': 3,\n",
    "             'marker': 'square', 'marker_size': 5,\n",
    "             'color': colors[3], 'alpha': .6}]\n",
    "    return data\n",
    "\n",
    "\n",
    "def nice_xlims(pltdata=None, prange=None):\n",
    "    \n",
    "    def get_slice(srs):\n",
    "        return srs.sel(pressure=slice(*prange))\n",
    "    \n",
    "    srss = [d['srs'] for d in pltdata]\n",
    "    vmin = min([get_slice(srs).min() for srs in srss])\n",
    "    vmax = max([get_slice(srs).max() for srs in srss])\n",
    "    dv = (vmax - vmin) * .01\n",
    "    return float(vmin - dv), float(vmax + dv)\n",
    "    \n",
    "\n",
    "def plt_cooling_bokeh(pltdata=None):\n",
    "    '''\n",
    "    Plot a list of cooling rate profiles using bokeh.\n",
    "    '''\n",
    "    ymin = 1e-2 \n",
    "    ymax = 1020 \n",
    "        \n",
    "    p1 = figure(title=\"Linear pressure scale\", \n",
    "                plot_width=400)        \n",
    "    xmin, xmax = nice_xlims(pltdata, prange=(50, 1050))\n",
    "    for d in pltdata:\n",
    "        if 'marker' in d:\n",
    "            getattr(p1, d['marker'])(d['srs'].values, \n",
    "                    d['srs'].coords['pressure'].values,\n",
    "                    color=d['color'], alpha=.7)\n",
    "        p1.line(d['srs'].values, \n",
    "                d['srs'].coords['pressure'].values,\n",
    "                color=d['color'], alpha=d['alpha'], \n",
    "                line_width=d['line_width'], line_dash=d['line_dash'])\n",
    "    \n",
    "    p1.y_range = Range1d(ymax, ymin)\n",
    "    p1.yaxis.axis_label = 'pressure [mb]'   \n",
    "    p1.x_range = Range1d(xmin, xmax)\n",
    "    p1.xaxis.axis_label = 'cooling rate [K/day]'\n",
    "            \n",
    "    p2 = figure(title='Log pressure scale', y_axis_type='log',\n",
    "                plot_width=560)\n",
    "    xmin, xmax = nice_xlims(pltdata, prange=(.01, 200))\n",
    "    \n",
    "    rs = []\n",
    "    for d in pltdata:\n",
    "        rd = []\n",
    "        if 'marker' in d:\n",
    "            r_mark = getattr(p2, d['marker'])(d['srs'].values, \n",
    "                        d['srs'].coords['pressure'].values,\n",
    "                        color=d['color'], alpha=.7)\n",
    "            rd.append(r_mark)\n",
    "        r_line = p2.line(d['srs'].values, \n",
    "                    d['srs'].coords['pressure'].values,\n",
    "                    color=d['color'], alpha=d['alpha'], \n",
    "                    line_width=d['line_width'], line_dash=d['line_dash'])\n",
    "        rd.append(r_line)\n",
    "      \n",
    "        rs.append(rd)\n",
    "        \n",
    "    p2.y_range = Range1d(ymax, ymin)  \n",
    "    p2.yaxis.axis_label = 'pressure [mb]'\n",
    "    \n",
    "    p2.x_range = Range1d(xmin, xmax)\n",
    "    p2.xaxis.axis_label = 'cooling rate [K/day]'\n",
    "    \n",
    "    items = [(d['label'], r) for r, d in zip(rs, pltdata)]\n",
    "    legend = Legend(items=items, location=(10, -30))\n",
    "    legend.label_text_font_size = '8pt'\n",
    "    \n",
    "    p2.add_layout(legend, 'right')  \n",
    "    \n",
    "    show(gridplot(p1, p2, ncols=2, plot_height=500))\n",
    "    \n",
    "\n",
    "def script_plt_cooling():\n",
    "    pltdata = pltdata_cooling_1(\n",
    "        ds_cool=DS_COOL,\n",
    "        ds_cool_crd=DS_COOL_CRD,\n",
    "        ds_cool_wgt=DS_COOL_WGT)\n",
    "    plt_cooling_bokeh(pltdata=pltdata)\n",
    "    print('''FIGURE. Cooling rate profiles.''')"
   ]
  },
  {
   "cell_type": "code",
   "execution_count": 9,
   "metadata": {
    "collapsed": true
   },
   "outputs": [],
   "source": [
    "def fmt_flux(ds_in):\n",
    "    ds = ds_in.copy(deep=True)\n",
    "    \n",
    "    for l in ('level', 'layer'):\n",
    "        if l in ds.data_vars:\n",
    "            if len(ds[l].dims) > 1:\n",
    "                surface = {d: 0 for d in ds.dims if d != 'pressure'}\n",
    "                coord_level = ds[l][surface]\n",
    "                ds.coords[l] = ('pressure', coord_level)\n",
    "            else:\n",
    "                ds.coords[l] = ('pressure', ds[l])\n",
    "        \n",
    "    ds = ds.isel(pressure=[0, 23, -1])\n",
    "        \n",
    "    if 'igg' in ds.dims:\n",
    "        ds = ds.sel(igg=[1])\n",
    "        ds = ds.squeeze('igg').drop('igg')\n",
    "    \n",
    "    if 'g' in ds.dims:\n",
    "        ds = ds.sum('g')\n",
    "            \n",
    "    if 'band' in ds.dims:\n",
    "        try:\n",
    "            ds = ds.squeeze('band').drop('band')\n",
    "        except ValueError:\n",
    "            ds = ds.sum('band')\n",
    "                \n",
    "    df = ds.to_dataframe()\n",
    "    df = df.set_index('level', append=True)               \n",
    "    return df\n",
    "\n",
    "\n",
    "def tbdata_flux(ds_flux=None, ds_flux_crd=None, ds_flux_wgt=None):\n",
    "    ilevels = [0, 23, -1]\n",
    "            \n",
    "    benchmark = {'label': 'CRD',\n",
    "                 'df': fmt_flux(ds_flux_crd)}\n",
    "    \n",
    "    tbs = [{'label': 'WGT igg=10 wgt_flux=1',\n",
    "            'df': fmt_flux(ds_flux_wgt)},\n",
    "           {'label': 'CLIRAD',\n",
    "            'df': fmt_flux(ds_flux)}]\n",
    "    \n",
    "    data = {'benchmark': benchmark, 'others': tbs}\n",
    "    return data\n",
    "\n",
    "\n",
    "def tb_flux(tbdata=None):\n",
    "    benchmark = tbdata['benchmark']\n",
    "    others = tbdata['others']\n",
    "    \n",
    "    def show_tb(d=None):\n",
    "        display.display(d['df'])\n",
    "        print('Table.', 'Fluxes.', d['label'])\n",
    "        \n",
    "    def show_tbdiff(d0=None, d=None):\n",
    "        df = d['df']\n",
    "        df.index = d0['df'].index\n",
    "        display.display(df - d0['df'])\n",
    "        print('Table.', 'Fluxes.', \n",
    "              '({}) - ({})'.format(d['label'], d0['label']))\n",
    "        \n",
    "    show_tb(benchmark)\n",
    "    for d in others:\n",
    "        show_tb(d)\n",
    "        \n",
    "    for d in others:\n",
    "        show_tbdiff(d=d, d0=benchmark)\n",
    "        \n",
    "        \n",
    "def script_tb_flux():\n",
    "    data = tbdata_flux(ds_flux=DS_FLUX,\n",
    "                       ds_flux_crd=DS_FLUX_CRD,\n",
    "                       ds_flux_wgt=DS_FLUX_WGT)\n",
    "    tb_flux(tbdata=data)"
   ]
  },
  {
   "cell_type": "code",
   "execution_count": 10,
   "metadata": {
    "collapsed": true
   },
   "outputs": [],
   "source": [
    "def band_map():\n",
    "    '''\n",
    "    Maps spectral bands in lblnew to spectral bands in clirad.\n",
    "    '''\n",
    "    lblnew2clirad = {'1': '1',\n",
    "            '2': '2',\n",
    "            '3a': '3',\n",
    "            '3b': '4',\n",
    "            '3c': '5',\n",
    "            '4': '6', \n",
    "            '5': '7',\n",
    "            '6': '8',\n",
    "            '7': '9', \n",
    "            '8': '10',\n",
    "            '9': '11'}\n",
    "    \n",
    "    clirad2lblnew = {clirad: lblnew \n",
    "                     for lblnew, clirad in lblnew2clirad.items()}\n",
    "    return clirad2lblnew\n",
    "\n",
    "\n",
    "def gasbands():\n",
    "    bmap = band_map()\n",
    "    gases = list(PARAM['molecule'].keys())\n",
    "    \n",
    "    bands = [bmap[str(b)] for b in PARAM['band']]\n",
    "    return list(itertools.product(gases, bands))\n",
    "\n",
    "\n",
    "def print_bestfit_params():\n",
    "    print('Best-fit values for each (gas, band)')\n",
    "    print('------------------------------------')\n",
    "    for gas, band in gasbands():\n",
    "        print('o {} band{}'.format(gas, band))\n",
    "        param = bestfits.kdist_params(molecule=gas, band=band)\n",
    "        for name, value in sorted(param.items()):\n",
    "            print(2 * ' ' + '{} = {}'.format(name, value))\n",
    "\n",
    "        \n",
    "def print_input_param():        \n",
    "    for name, value in PARAM.items():\n",
    "        print('{} = {}'.format(name, value))\n",
    "        \n",
    "        \n",
    "def print_lblnew_param():\n",
    "    for name, value in sorted(PARAM_LBLNEW.items()):\n",
    "        print('{} = {}'.format(name, value))\n"
   ]
  },
  {
   "cell_type": "code",
   "execution_count": 11,
   "metadata": {
    "collapsed": true,
    "scrolled": false
   },
   "outputs": [],
   "source": [
    "def show_html(s):\n",
    "    display.display(display.HTML(s))\n",
    "\n",
    "    \n",
    "def show_markdown(s):\n",
    "    display.display(display.Markdown(s))\n",
    "\n",
    "    \n",
    "def script():\n",
    "    \n",
    "    title = '### CLIRAD-LW'\n",
    "    s_input = 'Input Parameters'\n",
    "    s_lblnew_param = 'LBLNEW case compaired against'\n",
    "    s_bestfits = 'Best-fit Parameters'\n",
    "    s_plt_cooling = 'Cooling Rate Profiles'\n",
    "    s_tb_flux = 'Flux Comparison'\n",
    "    \n",
    "    # title\n",
    "    show_markdown('### CLIRAD-LW')\n",
    "    \n",
    "    # TOC\n",
    "    show_markdown('### Table of Contents')\n",
    "    show_html(climahtml.getHTML_hrefanchor(s_input))\n",
    "    show_html(climahtml.getHTML_hrefanchor(s_lblnew_param))\n",
    "    show_html(climahtml.getHTML_hrefanchor(s_plt_cooling))\n",
    "    show_html(climahtml.getHTML_hrefanchor(s_tb_flux))\n",
    "    show_html(climahtml.getHTML_hrefanchor(s_bestfits))\n",
    "    \n",
    "    # Input parameters\n",
    "    show_html(climahtml.getHTML_idanchor(s_input))\n",
    "    show_markdown(climahtml.getMarkdown_sectitle(s_input))\n",
    "    print_input_param()\n",
    "    \n",
    "    # LBLNEW parameters \n",
    "    show_html(climahtml.getHTML_idanchor(s_lblnew_param))\n",
    "    show_markdown(climahtml.getMarkdown_sectitle(s_lblnew_param))\n",
    "    print_lblnew_param()\n",
    "    \n",
    "    # Cooling rate profiles\n",
    "    show_html(climahtml.getHTML_idanchor(s_plt_cooling))\n",
    "    show_markdown(climahtml.getMarkdown_sectitle(s_plt_cooling))\n",
    "    script_plt_cooling()\n",
    "    \n",
    "    # Flux comparison\n",
    "    show_html(climahtml.getHTML_idanchor(s_tb_flux))\n",
    "    show_markdown(climahtml.getMarkdown_sectitle(s_tb_flux))\n",
    "    script_tb_flux()\n",
    "    \n",
    "    # Best-fit values\n",
    "    show_html(climahtml.getHTML_idanchor(s_bestfits))\n",
    "    show_markdown(climahtml.getMarkdown_sectitle(s_bestfits))\n",
    "    print_bestfit_params()\n",
    "   \n",
    "    "
   ]
  },
  {
   "cell_type": "code",
   "execution_count": 12,
   "metadata": {
    "collapsed": true,
    "scrolled": false
   },
   "outputs": [
    {
     "data": {
      "text/markdown": [
       "### CLIRAD-LW"
      ],
      "text/plain": [
       "<IPython.core.display.Markdown object>"
      ]
     },
     "metadata": {},
     "output_type": "display_data"
    },
    {
     "data": {
      "text/markdown": [
       "### Table of Contents"
      ],
      "text/plain": [
       "<IPython.core.display.Markdown object>"
      ]
     },
     "metadata": {},
     "output_type": "display_data"
    },
    {
     "data": {
      "text/html": [
       "<a href=\"#Input_Parameters\">Input Parameters</a>"
      ],
      "text/plain": [
       "<IPython.core.display.HTML object>"
      ]
     },
     "metadata": {},
     "output_type": "display_data"
    },
    {
     "data": {
      "text/html": [
       "<a href=\"#LBLNEW_case_compaired_against\">LBLNEW case compaired against</a>"
      ],
      "text/plain": [
       "<IPython.core.display.HTML object>"
      ]
     },
     "metadata": {},
     "output_type": "display_data"
    },
    {
     "data": {
      "text/html": [
       "<a href=\"#Cooling_Rate_Profiles\">Cooling Rate Profiles</a>"
      ],
      "text/plain": [
       "<IPython.core.display.HTML object>"
      ]
     },
     "metadata": {},
     "output_type": "display_data"
    },
    {
     "data": {
      "text/html": [
       "<a href=\"#Flux_Comparison\">Flux Comparison</a>"
      ],
      "text/plain": [
       "<IPython.core.display.HTML object>"
      ]
     },
     "metadata": {},
     "output_type": "display_data"
    },
    {
     "data": {
      "text/html": [
       "<a href=\"#Best-fit_Parameters\">Best-fit Parameters</a>"
      ],
      "text/plain": [
       "<IPython.core.display.HTML object>"
      ]
     },
     "metadata": {},
     "output_type": "display_data"
    },
    {
     "data": {
      "text/html": [
       "<a id=\"Input_Parameters\"></a>"
      ],
      "text/plain": [
       "<IPython.core.display.HTML object>"
      ]
     },
     "metadata": {},
     "output_type": "display_data"
    },
    {
     "data": {
      "text/markdown": [
       "# Input Parameters"
      ],
      "text/plain": [
       "<IPython.core.display.Markdown object>"
      ]
     },
     "metadata": {},
     "output_type": "display_data"
    },
    {
     "name": "stdout",
     "output_type": "stream",
     "text": [
      "atmpro = mls\n",
      "band = [5]\n",
      "commitnumber = de5d43e\n",
      "molecule = {'h2o': 'atmpro'}\n",
      "tsfc = 294\n"
     ]
    },
    {
     "data": {
      "text/html": [
       "<a id=\"LBLNEW_case_compaired_against\"></a>"
      ],
      "text/plain": [
       "<IPython.core.display.HTML object>"
      ]
     },
     "metadata": {},
     "output_type": "display_data"
    },
    {
     "data": {
      "text/markdown": [
       "# LBLNEW case compaired against"
      ],
      "text/plain": [
       "<IPython.core.display.Markdown object>"
      ]
     },
     "metadata": {},
     "output_type": "display_data"
    },
    {
     "name": "stdout",
     "output_type": "stream",
     "text": [
      "atmpro = mls\n",
      "band = 3c\n",
      "commitnumber = 5014a19\n",
      "conc = None\n",
      "dv = 0.001\n",
      "klin = 5e-25\n",
      "molecule = h2o\n",
      "ng_adju = [0]\n",
      "ng_refs = [5]\n",
      "nv = 1000\n",
      "option_compute_btable = 0\n",
      "option_compute_ktable = 0\n",
      "option_wgt_flux = 1\n",
      "option_wgt_k = 1\n",
      "ref_pts = [(600, 250)]\n",
      "tsfc = 294\n",
      "vmax = 800\n",
      "vmin = 720\n",
      "w_diffuse = [(1.55, 1.6, 1.66, 1.66, 1.8)]\n",
      "wgt = [(0.5, 0.5, 0.6, 0.7, 0.9)]\n"
     ]
    },
    {
     "data": {
      "text/html": [
       "<a id=\"Cooling_Rate_Profiles\"></a>"
      ],
      "text/plain": [
       "<IPython.core.display.HTML object>"
      ]
     },
     "metadata": {},
     "output_type": "display_data"
    },
    {
     "data": {
      "text/markdown": [
       "# Cooling Rate Profiles"
      ],
      "text/plain": [
       "<IPython.core.display.Markdown object>"
      ]
     },
     "metadata": {},
     "output_type": "display_data"
    },
    {
     "data": {
      "text/html": [
       "\n",
       "<div class=\"bk-root\">\n",
       "    <div class=\"bk-plotdiv\" id=\"1d065fdb-5d0a-433c-aa6b-deffbda7a06c\"></div>\n",
       "</div>"
      ]
     },
     "metadata": {},
     "output_type": "display_data"
    },
    {
     "data": {
      "application/javascript": [
       "(function(root) {\n",
       "  function embed_document(root) {\n",
       "    \n",
       "  var docs_json = {\"13a5bf91-0e61-478a-859e-764e0b422dd6\":{\"roots\":{\"references\":[{\"attributes\":{\"plot\":{\"id\":\"97affa78-2c84-4756-916e-e90a825769c4\",\"subtype\":\"Figure\",\"type\":\"Plot\"},\"ticker\":{\"id\":\"d455227c-4c9e-4703-a58a-a129b1c4ad1c\",\"type\":\"BasicTicker\"}},\"id\":\"65787871-45ea-4924-9a50-6bc9f2f965e6\",\"type\":\"Grid\"},{\"attributes\":{},\"id\":\"8c32dfab-e3b4-4eab-8e6d-b32bf7c61ca9\",\"type\":\"LinearScale\"},{\"attributes\":{\"source\":{\"id\":\"0bee3432-00a7-44ff-bc42-4c51268b0941\",\"type\":\"ColumnDataSource\"}},\"id\":\"af62f8bb-06d2-4fa4-a1b9-4b516650ba3d\",\"type\":\"CDSView\"},{\"attributes\":{\"callback\":null,\"data\":{\"x\":{\"__ndarray__\":\"Zn7IuWm/576KHnj08CrnvplGCe3D5OW+erlQ0L975L5HjwyhfQHjvo7mZoTsdeG+e/r8UPWw377SH07iQVHcvna8L5F7z9i+vClqNDQj1b4WTT7etE7RviOMA2Npocq+mjQKH7FOwr5oyz9dxx6yvtGaszBQh8Q+AcIZWE/T7T77OvSc3fwDP+gdi0TOgRM/wyQnPKiuID/Spzv64JIqP1Qe8NVpOjQ/Jc3APRvEPT9qFh4Ij9NDP/HfPSI/UUQ/v3Dm8BFoQD/oBYL6PYU4Px+kOf3AxDE/LJcdFtY7KT/8nJ2g0sIhPzGVPk41nBg//dKSEKMzED/d1J/ju4oDP4JNH8Z5EvY+qBKRiOF25j4/XQHPKIrCPmbJXCkNTda+sCaMFJoq5b5O00HWGVbnvvJLuVJKu+m+8Pe6iqrl6b7Z003w+DfhvvyG23IKgAg/o2hTddShMz9+PTAqMpBQPwFCvdbQwGQ/IxwA9RdJcj/8jbYmg+97P8+U+jIJCYQ/CfRrWyhXiz/LDxCmhdyRP2A4wB+UgJY/D9uqpA0Amz9bdyUhB6CfP8U2jq3bXKI/8s9U3LQxpT/DwYh7uF2oP3PRlmFG8qs/Ol6DMpSpsD/eBzAF3JWzP4hFrMhfj7Y/qWMWhtuSuT+y2uU5ApW8PyPMVy0Bor8/HtwqxpRiwT8Zit5l7gTDP74WvwLWucQ/2ev84414xj/l11V3tSbIP4w+y3vDpMk/Od6wB0Piyj/9FhxN8+3LPyb9KKMH5cw/0usXsB/ZzT+zF34YlfXOP85ZiqvnW9A/\",\"dtype\":\"float64\",\"shape\":[75]},\"y\":{\"__ndarray__\":\"GhExyth1ND/Sv8nbtpRIP2vylNV0PVE/aTum7souWD/At0SJ8fVgPw3Iuahxymc/MSNhhJWvcD/bTfBN02d3P2zb5nxnaoA/CD5h5MAGhz8NmeH1TyaQP+zrCsc9p5Y/LbKd76fGnz/bLW5ISEmmPww9YvTcQq8/JV2OstnstT8Er5Y7M8G+P0c+r3jqkcU/5h99k6ZBzj88bCIzFzjVP4enV8oyxN0//yH99nXg5D8qOpLLf0jtP5kqGJXUifQ/c9cS8kHP/D+/DpwzojQEQIEmwoanVwxA4lgXt9HgE0BSSZ2AJuIbQAMJih9jjiNA5q4l5INuK0AwTKYKRj0zQNv5fmq8/DpAaCJseHrtQkB/+zpwzoxKQM3MzMzMeFJAZmZmZmZqWEAAAAAAAFxeQM3MzMzMJmJAmpmZmZkfZUBmZmZmZhhoQDMzMzMzEWtAAAAAAAAKbkBmZmZmZoFwQM3MzMzM/XFAMzMzMzN6c0CamZmZmfZ0QAAAAAAAc3ZAZmZmZmbvd0DNzMzMzGt5QDMzMzMz6HpAmpmZmZlkfEAAAAAAAOF9QGZmZmZmXX9AZmZmZuZsgECamZmZGSuBQM3MzMxM6YFAAAAAAICngkAzMzMzs2WDQGZmZmbmI4RAmpmZmRnihEDNzMzMTKCFQAAAAACAXoZAMzMzM7Mch0BmZmZm5tqHQJqZmZkZmYhAzczMzExXiUAAAAAAgBWKQDMzMzOz04pAZmZmZuaRi0CamZmZGVCMQM3MzMxMDo1AAAAAAIDMjUAzMzMzs4qOQGZmZmbmSI9A\",\"dtype\":\"float64\",\"shape\":[75]}},\"selected\":{\"id\":\"ac9047aa-7792-4b10-966e-2ea4468522c5\",\"type\":\"Selection\"},\"selection_policy\":{\"id\":\"a05980de-f919-49d0-9256-aee6bef5d839\",\"type\":\"UnionRenderers\"}},\"id\":\"369f69d3-6a1f-4977-9692-15f2a199e2f4\",\"type\":\"ColumnDataSource\"},{\"attributes\":{},\"id\":\"d455227c-4c9e-4703-a58a-a129b1c4ad1c\",\"type\":\"BasicTicker\"},{\"attributes\":{\"fill_alpha\":{\"value\":0.1},\"fill_color\":{\"value\":\"#1f77b4\"},\"line_alpha\":{\"value\":0.1},\"line_color\":{\"value\":\"#1f77b4\"},\"x\":{\"field\":\"x\"},\"y\":{\"field\":\"y\"}},\"id\":\"1b1d97de-f706-4767-94b1-e869dcc73d03\",\"type\":\"Circle\"},{\"attributes\":{\"callback\":null,\"data\":{\"x\":{\"__ndarray__\":\"iK3KcdLA3r59y6BR0Cncvr5a8x3icda+WWlNgQQh0L74HhZllwrDvkvhzGuWI6W+RsjCP2sSsj5Dtfjs1vPHPqeEi+e8vdM+BiYi+x/R2z7CuWpVEB3iPhZ7mP82e+Y+D9XLiqoG6z7znAzvIwfwPuD+zd8CAvg+3oovRF01CT92PK6ghc4ZP4BSwgp2ziY/32D1zqmMMj83EFuzpKw8P63lwkdTZEU/0bzLzzP+Tj+PSiRnnmlUP34N41sIzFQ/wD4P9Yi/UD9DNi1jJ/hIP4+jX9hBC0I/VDdHomSTOT+th9EA8PsxPyIwdsUD/yg/JgBMSJWwID+Z8jSNVPkUPxFDiH2n+Qk/QzXQZ2YlAD9o3xDrQNPwPgatoUrjctE+R4nijiGvwL4PvvBFaN7Rvra3sfPdGtq+3WFxUExq2b6x3e/fcbzUPjuf8yeTtBg/ZjarlEGHPD+US5+xQXNVP/LMbTkV9Gg/PEhlCJTNdD/epP9rlIN+PzBKPfwWTIU/Q/yOpE6HjD+JifGNLXOSPyFK0jpMKZc/Tfj2xd3Umz8sy2jInlugPzR2a5RTDaM/ZJLB7MYEpj/8dcDY70epPw8IPzSd5Kw/c+Gv5W8ksT8ZlDZDFA20P9eNB/MIArc/VTIhYloGuj+wp4AoVhW9P/tvLax+GcA/xbFoGS2wwT/3GXo4P03DP0S188Mp78Q/ec/9rGSNxj/4Z+1T4RHIP/OSINjIYMk/GRNqn/Fxyj/AwCCnt1jLP0Qi4TljMcw/bEkeumYTzT8j5NWcMB/OP/hcfaeP4c8/\",\"dtype\":\"float64\",\"shape\":[75]},\"y\":{\"__ndarray__\":\"GhExyth1ND/Sv8nbtpRIP2vylNV0PVE/aTum7souWD/At0SJ8fVgPw3Iuahxymc/MSNhhJWvcD/bTfBN02d3P2zb5nxnaoA/CD5h5MAGhz8NmeH1TyaQP+zrCsc9p5Y/LbKd76fGnz/bLW5ISEmmPww9YvTcQq8/JV2OstnstT8Er5Y7M8G+P0c+r3jqkcU/5h99k6ZBzj88bCIzFzjVP4enV8oyxN0//yH99nXg5D8qOpLLf0jtP5kqGJXUifQ/c9cS8kHP/D+/DpwzojQEQIEmwoanVwxA4lgXt9HgE0BSSZ2AJuIbQAMJih9jjiNA5q4l5INuK0AwTKYKRj0zQNv5fmq8/DpAaCJseHrtQkB/+zpwzoxKQM3MzMzMeFJAZmZmZmZqWEAAAAAAAFxeQM3MzMzMJmJAmpmZmZkfZUBmZmZmZhhoQDMzMzMzEWtAAAAAAAAKbkBmZmZmZoFwQM3MzMzM/XFAMzMzMzN6c0CamZmZmfZ0QAAAAAAAc3ZAZmZmZmbvd0DNzMzMzGt5QDMzMzMz6HpAmpmZmZlkfEAAAAAAAOF9QGZmZmZmXX9AZmZmZuZsgECamZmZGSuBQM3MzMxM6YFAAAAAAICngkAzMzMzs2WDQGZmZmbmI4RAmpmZmRnihEDNzMzMTKCFQAAAAACAXoZAMzMzM7Mch0BmZmZm5tqHQJqZmZkZmYhAzczMzExXiUAAAAAAgBWKQDMzMzOz04pAZmZmZuaRi0CamZmZGVCMQM3MzMxMDo1AAAAAAIDMjUAzMzMzs4qOQGZmZmbmSI9A\",\"dtype\":\"float64\",\"shape\":[75]}},\"selected\":{\"id\":\"1a9373bf-eacd-4c1f-9343-f55f2b814e29\",\"type\":\"Selection\"},\"selection_policy\":{\"id\":\"78666c51-3e04-41ce-9daa-9e882cd7caea\",\"type\":\"UnionRenderers\"}},\"id\":\"c5d5cf9e-4b88-40f2-83ec-290e363c04d0\",\"type\":\"ColumnDataSource\"},{\"attributes\":{\"callback\":null,\"end\":0.00128221425571,\"start\":-3.0113226710000004e-05},\"id\":\"4900a783-b00f-4ea3-88cf-b3ab0df7913b\",\"type\":\"Range1d\"},{\"attributes\":{\"data_source\":{\"id\":\"0471b6f9-3951-4844-bec5-c644b7f624b7\",\"type\":\"ColumnDataSource\"},\"glyph\":{\"id\":\"e95d773d-ac28-4c62-96c0-4cc1a24687e3\",\"type\":\"Line\"},\"hover_glyph\":null,\"muted_glyph\":null,\"nonselection_glyph\":{\"id\":\"d3e664d1-310d-4e5a-8456-f0a28baa5241\",\"type\":\"Line\"},\"selection_glyph\":null,\"view\":{\"id\":\"8d42b4a8-2019-433f-94e1-438691a10384\",\"type\":\"CDSView\"}},\"id\":\"4e2d1e87-21f1-4dc4-ac9e-4a61781d2dab\",\"type\":\"GlyphRenderer\"},{\"attributes\":{\"callback\":null,\"data\":{\"x\":{\"__ndarray__\":\"jkj582im675cnBexOazrvtCiyGH0Guq+jcSnJ3b/6L4aucsOYOPnvolf9k3Suea+a60s2c1/5b7J8Mx5TznkvsqS052g4OK+//GyGmuB4b58wH+ApRjgvqQFajDeOd2+waIJWZUX2r4+lD/ZYq/WvmGJuagBIce+0gx4ACFP2j7WDiU3Nff5PleACxo2sgs/ZtNy7C5+GD/N1DUDSMIjP81N/m+7Ty4/YknMeDfhNj/DMaeW5cs+P6qHCd7gaD8/1gKQPyNCOT+oXQ0nzsoyP5rqA2aGBSs/oDtKpyr7Ij8HnjepekYaPy78J7EiuxE/frc1cG5DBj9iq2T971P4PitmPvET3eU+fxQwcA7twj72Qu+ULBvTvqMT7K2Z/+W+YPgzaBsf7b76MOpNhwDwvpcp9FIKFvG+bBbQjHmX8b4KwjBwxxXyvrI5lcL+GdI++Y/yOyCcJT+M/md72ntGP2elr3nzYV8/dcgURo/sbT9oCMcsexJ4P65rwNilA4I/88cFfoxtiT9kPcyWYPyQP70NdjJUn5U/FqQeRGAcmj9HWW5Sma6eP1saX34e2KE/eBPcRSGUpD9zxgxh8MGnP4ihK8rScqs/VyOxYL+AsD/wAH+TzomzP/iicE/tkrY/5h82vhqTuT9riUtEroq8P25FKNeQj78/ktRbZoVgwT9vgk6MVRjDP5NaxW7h8cQ/aWNXIJvgxj9Uc3elfsHIP0TG/g01Zco/wXfV4te4yz8R8UGVu8vMP7aqmXP4vc0/3MkzcaOvzj/5MjB268rPP/mHDC+xx9A/\",\"dtype\":\"float64\",\"shape\":[75]},\"y\":{\"__ndarray__\":\"S/O/Q+51ND/Sv8nbtpRIP2vylNV0PVE/aTum7souWD/At0SJ8fVgPw3Iuahxymc/MSNhhJWvcD/bTfBN02d3P2zb5nxnaoA/CD5h5MAGhz8NmeH1TyaQP+zrCsc9p5Y/LbKd76fGnz/bLW5ISEmmPww9YvTcQq8/JV2OstnstT8Er5Y7M8G+P0c+r3jqkcU/5h99k6ZBzj88bCIzFzjVP4enV8oyxN0//yH99nXg5D8qOpLLf0jtP5kqGJXUifQ/c9cS8kHP/D+/DpwzojQEQIEmwoanVwxA4lgXt9HgE0BSSZ2AJuIbQAMJih9jjiNA5q4l5INuK0AwTKYKRj0zQNv5fmq8/DpAaCJseHrtQkB/+zpwzoxKQM3MzMzMeFJAZmZmZmZqWEAAAAAAAFxeQM3MzMzMJmJAmpmZmZkfZUBmZmZmZhhoQDMzMzMzEWtAAAAAAAAKbkBmZmZmZoFwQM3MzMzM/XFAMzMzMzN6c0CamZmZmfZ0QAAAAAAAc3ZAZmZmZmbvd0DNzMzMzGt5QDMzMzMz6HpAmpmZmZlkfEAAAAAAAOF9QGZmZmZmXX9AZmZmZuZsgECamZmZGSuBQM3MzMxM6YFAAAAAAICngkAzMzMzs2WDQGZmZmbmI4RAmpmZmRnihEDNzMzMTKCFQAAAAACAXoZAMzMzM7Mch0BmZmZm5tqHQJqZmZkZmYhAzczMzExXiUAAAAAAgBWKQDMzMzOz04pAZmZmZuaRi0CamZmZGVCMQM3MzMxMDo1AAAAAAIDMjUAzMzMzs4qOQGZmZmbmSI9A\",\"dtype\":\"float64\",\"shape\":[75]}},\"selected\":{\"id\":\"b07b371b-a676-499c-9d86-4cb4d2035f2b\",\"type\":\"Selection\"},\"selection_policy\":{\"id\":\"1b956da8-36f7-4e65-8267-0ad4bbf23ac6\",\"type\":\"UnionRenderers\"}},\"id\":\"5cd5f79d-bc98-4060-bf93-a6ba8ceeeb52\",\"type\":\"ColumnDataSource\"},{\"attributes\":{\"callback\":null,\"end\":0.26481029487271,\"start\":-0.00263930214371},\"id\":\"da129d71-368a-44cf-b218-a6e31eef6739\",\"type\":\"Range1d\"},{\"attributes\":{\"axis_label\":\"pressure [mb]\",\"formatter\":{\"id\":\"ca427b3a-6674-433e-9a37-c8c715273e92\",\"type\":\"LogTickFormatter\"},\"plot\":{\"id\":\"97affa78-2c84-4756-916e-e90a825769c4\",\"subtype\":\"Figure\",\"type\":\"Plot\"},\"ticker\":{\"id\":\"e4dba671-6ac8-44a7-bc76-e391dc857092\",\"type\":\"LogTicker\"}},\"id\":\"8fcf730e-714b-42ba-a5c3-1bca831e4415\",\"type\":\"LogAxis\"},{\"attributes\":{},\"id\":\"0e35a037-3cd4-477f-af65-8b38b9167dfd\",\"type\":\"ResetTool\"},{\"attributes\":{\"line_alpha\":0.6,\"line_color\":\"#984ea3\",\"line_width\":3,\"x\":{\"field\":\"x\"},\"y\":{\"field\":\"y\"}},\"id\":\"e33ea86f-9565-4689-88b8-08698024da1d\",\"type\":\"Line\"},{\"attributes\":{\"line_alpha\":0.1,\"line_color\":\"#1f77b4\",\"line_width\":3,\"x\":{\"field\":\"x\"},\"y\":{\"field\":\"y\"}},\"id\":\"d3e664d1-310d-4e5a-8456-f0a28baa5241\",\"type\":\"Line\"},{\"attributes\":{\"data_source\":{\"id\":\"562dfc9c-006e-443d-bc74-b0e5d30ef7ed\",\"type\":\"ColumnDataSource\"},\"glyph\":{\"id\":\"e33ea86f-9565-4689-88b8-08698024da1d\",\"type\":\"Line\"},\"hover_glyph\":null,\"muted_glyph\":null,\"nonselection_glyph\":{\"id\":\"6cebf8d5-a232-4ec1-9584-30f00802f154\",\"type\":\"Line\"},\"selection_glyph\":null,\"view\":{\"id\":\"db109339-5b77-44ab-821e-7dab7787be04\",\"type\":\"CDSView\"}},\"id\":\"356ffd37-b382-4d02-898b-1c0afa503801\",\"type\":\"GlyphRenderer\"},{\"attributes\":{\"line_alpha\":0.1,\"line_color\":\"#1f77b4\",\"line_width\":3,\"x\":{\"field\":\"x\"},\"y\":{\"field\":\"y\"}},\"id\":\"6cebf8d5-a232-4ec1-9584-30f00802f154\",\"type\":\"Line\"},{\"attributes\":{\"line_alpha\":0.6,\"line_color\":\"#984ea3\",\"line_width\":3,\"x\":{\"field\":\"x\"},\"y\":{\"field\":\"y\"}},\"id\":\"e95d773d-ac28-4c62-96c0-4cc1a24687e3\",\"type\":\"Line\"},{\"attributes\":{\"num_minor_ticks\":10},\"id\":\"e4dba671-6ac8-44a7-bc76-e391dc857092\",\"type\":\"LogTicker\"},{\"attributes\":{},\"id\":\"40b1be7f-b0ac-4868-bc56-a5a9a2326dc8\",\"type\":\"PanTool\"},{\"attributes\":{\"children\":[{\"id\":\"1ed2ccb3-3435-4bb2-8a10-6e9e0df215e6\",\"type\":\"Row\"}]},\"id\":\"b9406008-a19e-4965-8431-9f8a04c26e21\",\"type\":\"Column\"},{\"attributes\":{\"source\":{\"id\":\"562dfc9c-006e-443d-bc74-b0e5d30ef7ed\",\"type\":\"ColumnDataSource\"}},\"id\":\"db109339-5b77-44ab-821e-7dab7787be04\",\"type\":\"CDSView\"},{\"attributes\":{\"dimension\":1,\"plot\":{\"id\":\"97affa78-2c84-4756-916e-e90a825769c4\",\"subtype\":\"Figure\",\"type\":\"Plot\"},\"ticker\":{\"id\":\"e4dba671-6ac8-44a7-bc76-e391dc857092\",\"type\":\"LogTicker\"}},\"id\":\"80a8e363-9631-4e57-8b40-f7a383e5faee\",\"type\":\"Grid\"},{\"attributes\":{\"fill_alpha\":{\"value\":0.7},\"fill_color\":{\"value\":\"#984ea3\"},\"line_alpha\":{\"value\":0.7},\"line_color\":{\"value\":\"#984ea3\"},\"x\":{\"field\":\"x\"},\"y\":{\"field\":\"y\"}},\"id\":\"fd131ab2-2c5d-46a2-8d7a-926617e0fbed\",\"type\":\"Square\"},{\"attributes\":{},\"id\":\"5dd7d364-0fd4-4b7d-9ae9-c7b1cdd68745\",\"type\":\"WheelZoomTool\"},{\"attributes\":{\"source\":{\"id\":\"369f69d3-6a1f-4977-9692-15f2a199e2f4\",\"type\":\"ColumnDataSource\"}},\"id\":\"0f2fa9b9-7b37-4cf8-9678-1407ae144c23\",\"type\":\"CDSView\"},{\"attributes\":{\"items\":[{\"id\":\"9973f6ed-9054-4d3b-9de0-7df1b6c1b400\",\"type\":\"LegendItem\"},{\"id\":\"92bf320f-de56-4e36-8c4d-d79f39cb5937\",\"type\":\"LegendItem\"},{\"id\":\"2dbcc240-53dd-4432-a004-71739af1540d\",\"type\":\"LegendItem\"}],\"label_text_font_size\":{\"value\":\"8pt\"},\"location\":[10,-30],\"plot\":{\"id\":\"97affa78-2c84-4756-916e-e90a825769c4\",\"subtype\":\"Figure\",\"type\":\"Plot\"}},\"id\":\"6406dbf2-801f-4166-a846-ee5686a5409e\",\"type\":\"Legend\"},{\"attributes\":{\"line_alpha\":0.1,\"line_color\":\"#1f77b4\",\"line_dash\":[6],\"line_width\":5,\"x\":{\"field\":\"x\"},\"y\":{\"field\":\"y\"}},\"id\":\"df896cd9-0804-4b92-b16b-408fde9fe795\",\"type\":\"Line\"},{\"attributes\":{},\"id\":\"18be2a8a-0308-411f-a065-3d778a832e9f\",\"type\":\"HelpTool\"},{\"attributes\":{\"data_source\":{\"id\":\"0bee3432-00a7-44ff-bc42-4c51268b0941\",\"type\":\"ColumnDataSource\"},\"glyph\":{\"id\":\"0f7693f7-3839-45b2-a7d0-9eaa08733e4f\",\"type\":\"Circle\"},\"hover_glyph\":null,\"muted_glyph\":null,\"nonselection_glyph\":{\"id\":\"1b1d97de-f706-4767-94b1-e869dcc73d03\",\"type\":\"Circle\"},\"selection_glyph\":null,\"view\":{\"id\":\"af62f8bb-06d2-4fa4-a1b9-4b516650ba3d\",\"type\":\"CDSView\"}},\"id\":\"9d3ade94-6315-41ad-a020-7ab5b97a93b0\",\"type\":\"GlyphRenderer\"},{\"attributes\":{\"source\":{\"id\":\"0471b6f9-3951-4844-bec5-c644b7f624b7\",\"type\":\"ColumnDataSource\"}},\"id\":\"8d42b4a8-2019-433f-94e1-438691a10384\",\"type\":\"CDSView\"},{\"attributes\":{\"line_alpha\":0.1,\"line_color\":\"#1f77b4\",\"line_width\":1.5,\"x\":{\"field\":\"x\"},\"y\":{\"field\":\"y\"}},\"id\":\"86fc199e-90e4-47ce-8bfe-fd957a670a00\",\"type\":\"Line\"},{\"attributes\":{\"line_alpha\":0.6,\"line_color\":\"#e41a1c\",\"line_dash\":[6],\"line_width\":5,\"x\":{\"field\":\"x\"},\"y\":{\"field\":\"y\"}},\"id\":\"0d793408-b780-46e5-bd05-c324534bbee7\",\"type\":\"Line\"},{\"attributes\":{\"callback\":null,\"data\":{\"x\":{\"__ndarray__\":\"Zn7IuWm/576KHnj08CrnvplGCe3D5OW+erlQ0L975L5HjwyhfQHjvo7mZoTsdeG+e/r8UPWw377SH07iQVHcvna8L5F7z9i+vClqNDQj1b4WTT7etE7RviOMA2Npocq+mjQKH7FOwr5oyz9dxx6yvtGaszBQh8Q+AcIZWE/T7T77OvSc3fwDP+gdi0TOgRM/wyQnPKiuID/Spzv64JIqP1Qe8NVpOjQ/Jc3APRvEPT9qFh4Ij9NDP/HfPSI/UUQ/v3Dm8BFoQD/oBYL6PYU4Px+kOf3AxDE/LJcdFtY7KT/8nJ2g0sIhPzGVPk41nBg//dKSEKMzED/d1J/ju4oDP4JNH8Z5EvY+qBKRiOF25j4/XQHPKIrCPmbJXCkNTda+sCaMFJoq5b5O00HWGVbnvvJLuVJKu+m+8Pe6iqrl6b7Z003w+DfhvvyG23IKgAg/o2hTddShMz9+PTAqMpBQPwFCvdbQwGQ/IxwA9RdJcj/8jbYmg+97P8+U+jIJCYQ/CfRrWyhXiz/LDxCmhdyRP2A4wB+UgJY/D9uqpA0Amz9bdyUhB6CfP8U2jq3bXKI/8s9U3LQxpT/DwYh7uF2oP3PRlmFG8qs/Ol6DMpSpsD/eBzAF3JWzP4hFrMhfj7Y/qWMWhtuSuT+y2uU5ApW8PyPMVy0Bor8/HtwqxpRiwT8Zit5l7gTDP74WvwLWucQ/2ev84414xj/l11V3tSbIP4w+y3vDpMk/Od6wB0Piyj/9FhxN8+3LPyb9KKMH5cw/0usXsB/ZzT+zF34YlfXOP85ZiqvnW9A/\",\"dtype\":\"float64\",\"shape\":[75]},\"y\":{\"__ndarray__\":\"GhExyth1ND/Sv8nbtpRIP2vylNV0PVE/aTum7souWD/At0SJ8fVgPw3Iuahxymc/MSNhhJWvcD/bTfBN02d3P2zb5nxnaoA/CD5h5MAGhz8NmeH1TyaQP+zrCsc9p5Y/LbKd76fGnz/bLW5ISEmmPww9YvTcQq8/JV2OstnstT8Er5Y7M8G+P0c+r3jqkcU/5h99k6ZBzj88bCIzFzjVP4enV8oyxN0//yH99nXg5D8qOpLLf0jtP5kqGJXUifQ/c9cS8kHP/D+/DpwzojQEQIEmwoanVwxA4lgXt9HgE0BSSZ2AJuIbQAMJih9jjiNA5q4l5INuK0AwTKYKRj0zQNv5fmq8/DpAaCJseHrtQkB/+zpwzoxKQM3MzMzMeFJAZmZmZmZqWEAAAAAAAFxeQM3MzMzMJmJAmpmZmZkfZUBmZmZmZhhoQDMzMzMzEWtAAAAAAAAKbkBmZmZmZoFwQM3MzMzM/XFAMzMzMzN6c0CamZmZmfZ0QAAAAAAAc3ZAZmZmZmbvd0DNzMzMzGt5QDMzMzMz6HpAmpmZmZlkfEAAAAAAAOF9QGZmZmZmXX9AZmZmZuZsgECamZmZGSuBQM3MzMxM6YFAAAAAAICngkAzMzMzs2WDQGZmZmbmI4RAmpmZmRnihEDNzMzMTKCFQAAAAACAXoZAMzMzM7Mch0BmZmZm5tqHQJqZmZkZmYhAzczMzExXiUAAAAAAgBWKQDMzMzOz04pAZmZmZuaRi0CamZmZGVCMQM3MzMxMDo1AAAAAAIDMjUAzMzMzs4qOQGZmZmbmSI9A\",\"dtype\":\"float64\",\"shape\":[75]}},\"selected\":{\"id\":\"ddd175e9-0ffd-481f-926b-442219a2a8a6\",\"type\":\"Selection\"},\"selection_policy\":{\"id\":\"a9bdcda2-d4b4-4224-b0cd-85d2498ee31d\",\"type\":\"UnionRenderers\"}},\"id\":\"562dfc9c-006e-443d-bc74-b0e5d30ef7ed\",\"type\":\"ColumnDataSource\"},{\"attributes\":{},\"id\":\"4edcad1f-40f5-48a3-a88a-e018ca6dd419\",\"type\":\"LogScale\"},{\"attributes\":{\"overlay\":{\"id\":\"a14da7c4-a158-4426-98a3-10d760ebe2d6\",\"type\":\"BoxAnnotation\"}},\"id\":\"7662d5a5-b67b-49b6-9bd5-22aaa950244e\",\"type\":\"BoxZoomTool\"},{\"attributes\":{\"bottom_units\":\"screen\",\"fill_alpha\":{\"value\":0.5},\"fill_color\":{\"value\":\"lightgrey\"},\"left_units\":\"screen\",\"level\":\"overlay\",\"line_alpha\":{\"value\":1.0},\"line_color\":{\"value\":\"black\"},\"line_dash\":[4,4],\"line_width\":{\"value\":2},\"plot\":null,\"render_mode\":\"css\",\"right_units\":\"screen\",\"top_units\":\"screen\"},\"id\":\"a14da7c4-a158-4426-98a3-10d760ebe2d6\",\"type\":\"BoxAnnotation\"},{\"attributes\":{\"axis_label\":\"cooling rate [K/day]\",\"formatter\":{\"id\":\"0d24b88f-eae1-439e-b12c-8697ca3e9f48\",\"type\":\"BasicTickFormatter\"},\"plot\":{\"id\":\"97affa78-2c84-4756-916e-e90a825769c4\",\"subtype\":\"Figure\",\"type\":\"Plot\"},\"ticker\":{\"id\":\"d455227c-4c9e-4703-a58a-a129b1c4ad1c\",\"type\":\"BasicTicker\"}},\"id\":\"6365bd60-a710-41a6-b5c1-fd7c92ca8ab1\",\"type\":\"LinearAxis\"},{\"attributes\":{\"data_source\":{\"id\":\"c5d5cf9e-4b88-40f2-83ec-290e363c04d0\",\"type\":\"ColumnDataSource\"},\"glyph\":{\"id\":\"abb366dd-7470-4500-949b-1976e3352381\",\"type\":\"Line\"},\"hover_glyph\":null,\"muted_glyph\":null,\"nonselection_glyph\":{\"id\":\"86fc199e-90e4-47ce-8bfe-fd957a670a00\",\"type\":\"Line\"},\"selection_glyph\":null,\"view\":{\"id\":\"c40704b2-d186-4cb3-8752-5c5c63fff0a2\",\"type\":\"CDSView\"}},\"id\":\"ad381ba4-8ccf-42b5-ada6-623097650e0a\",\"type\":\"GlyphRenderer\"},{\"attributes\":{\"active_drag\":\"auto\",\"active_inspect\":\"auto\",\"active_scroll\":\"auto\",\"active_tap\":\"auto\",\"tools\":[{\"id\":\"40b1be7f-b0ac-4868-bc56-a5a9a2326dc8\",\"type\":\"PanTool\"},{\"id\":\"5dd7d364-0fd4-4b7d-9ae9-c7b1cdd68745\",\"type\":\"WheelZoomTool\"},{\"id\":\"7662d5a5-b67b-49b6-9bd5-22aaa950244e\",\"type\":\"BoxZoomTool\"},{\"id\":\"bf86c0e3-01c2-4da2-8152-199a8158acd6\",\"type\":\"SaveTool\"},{\"id\":\"0e35a037-3cd4-477f-af65-8b38b9167dfd\",\"type\":\"ResetTool\"},{\"id\":\"18be2a8a-0308-411f-a065-3d778a832e9f\",\"type\":\"HelpTool\"}]},\"id\":\"473e5068-d02c-403b-af18-4c2767a92b90\",\"type\":\"Toolbar\"},{\"attributes\":{\"line_alpha\":0.6,\"line_color\":\"#e41a1c\",\"line_dash\":[6],\"line_width\":5,\"x\":{\"field\":\"x\"},\"y\":{\"field\":\"y\"}},\"id\":\"32cb9833-8c76-4161-831c-a88c35183734\",\"type\":\"Line\"},{\"attributes\":{\"fill_alpha\":{\"value\":0.1},\"fill_color\":{\"value\":\"#1f77b4\"},\"line_alpha\":{\"value\":0.1},\"line_color\":{\"value\":\"#1f77b4\"},\"x\":{\"field\":\"x\"},\"y\":{\"field\":\"y\"}},\"id\":\"4d40498d-c216-48a6-b1ce-4931d73ff831\",\"type\":\"Square\"},{\"attributes\":{\"source\":{\"id\":\"c5d5cf9e-4b88-40f2-83ec-290e363c04d0\",\"type\":\"ColumnDataSource\"}},\"id\":\"c40704b2-d186-4cb3-8752-5c5c63fff0a2\",\"type\":\"CDSView\"},{\"attributes\":{},\"id\":\"bf86c0e3-01c2-4da2-8152-199a8158acd6\",\"type\":\"SaveTool\"},{\"attributes\":{\"line_color\":\"#4daf4a\",\"line_width\":1.5,\"x\":{\"field\":\"x\"},\"y\":{\"field\":\"y\"}},\"id\":\"abb366dd-7470-4500-949b-1976e3352381\",\"type\":\"Line\"},{\"attributes\":{\"children\":[{\"id\":\"9321699e-4a9b-4bf6-ae97-4f11463c1f2b\",\"type\":\"ToolbarBox\"},{\"id\":\"b9406008-a19e-4965-8431-9f8a04c26e21\",\"type\":\"Column\"}]},\"id\":\"489260e9-d196-4c18-8688-b37febd97efe\",\"type\":\"Column\"},{\"attributes\":{\"active_drag\":\"auto\",\"active_inspect\":\"auto\",\"active_scroll\":\"auto\",\"active_tap\":\"auto\",\"tools\":[{\"id\":\"94f26c37-d32c-4fc5-bd5f-173d649b4e32\",\"type\":\"PanTool\"},{\"id\":\"5c09e95d-23f7-4eed-93e9-86f0cf5c8338\",\"type\":\"WheelZoomTool\"},{\"id\":\"0bbe8b01-3f04-4e7c-93e6-e46e83769b0e\",\"type\":\"BoxZoomTool\"},{\"id\":\"b408e8e5-33f4-4666-af0a-b861d17a746c\",\"type\":\"SaveTool\"},{\"id\":\"83fd05d5-7210-4a6e-9c3d-f1292517a3cb\",\"type\":\"ResetTool\"},{\"id\":\"1eae52fe-a31b-4395-adb1-59f27b6b8576\",\"type\":\"HelpTool\"}]},\"id\":\"2f984013-9ac4-445f-8cff-d95e36758132\",\"type\":\"Toolbar\"},{\"attributes\":{\"callback\":null,\"data\":{\"x\":{\"__ndarray__\":\"Zn7IuWm/576KHnj08CrnvplGCe3D5OW+erlQ0L975L5HjwyhfQHjvo7mZoTsdeG+e/r8UPWw377SH07iQVHcvna8L5F7z9i+vClqNDQj1b4WTT7etE7RviOMA2Npocq+mjQKH7FOwr5oyz9dxx6yvtGaszBQh8Q+AcIZWE/T7T77OvSc3fwDP+gdi0TOgRM/wyQnPKiuID/Spzv64JIqP1Qe8NVpOjQ/Jc3APRvEPT9qFh4Ij9NDP/HfPSI/UUQ/v3Dm8BFoQD/oBYL6PYU4Px+kOf3AxDE/LJcdFtY7KT/8nJ2g0sIhPzGVPk41nBg//dKSEKMzED/d1J/ju4oDP4JNH8Z5EvY+qBKRiOF25j4/XQHPKIrCPmbJXCkNTda+sCaMFJoq5b5O00HWGVbnvvJLuVJKu+m+8Pe6iqrl6b7Z003w+DfhvvyG23IKgAg/o2hTddShMz9+PTAqMpBQPwFCvdbQwGQ/IxwA9RdJcj/8jbYmg+97P8+U+jIJCYQ/CfRrWyhXiz/LDxCmhdyRP2A4wB+UgJY/D9uqpA0Amz9bdyUhB6CfP8U2jq3bXKI/8s9U3LQxpT/DwYh7uF2oP3PRlmFG8qs/Ol6DMpSpsD/eBzAF3JWzP4hFrMhfj7Y/qWMWhtuSuT+y2uU5ApW8PyPMVy0Bor8/HtwqxpRiwT8Zit5l7gTDP74WvwLWucQ/2ev84414xj/l11V3tSbIP4w+y3vDpMk/Od6wB0Piyj/9FhxN8+3LPyb9KKMH5cw/0usXsB/ZzT+zF34YlfXOP85ZiqvnW9A/\",\"dtype\":\"float64\",\"shape\":[75]},\"y\":{\"__ndarray__\":\"GhExyth1ND/Sv8nbtpRIP2vylNV0PVE/aTum7souWD/At0SJ8fVgPw3Iuahxymc/MSNhhJWvcD/bTfBN02d3P2zb5nxnaoA/CD5h5MAGhz8NmeH1TyaQP+zrCsc9p5Y/LbKd76fGnz/bLW5ISEmmPww9YvTcQq8/JV2OstnstT8Er5Y7M8G+P0c+r3jqkcU/5h99k6ZBzj88bCIzFzjVP4enV8oyxN0//yH99nXg5D8qOpLLf0jtP5kqGJXUifQ/c9cS8kHP/D+/DpwzojQEQIEmwoanVwxA4lgXt9HgE0BSSZ2AJuIbQAMJih9jjiNA5q4l5INuK0AwTKYKRj0zQNv5fmq8/DpAaCJseHrtQkB/+zpwzoxKQM3MzMzMeFJAZmZmZmZqWEAAAAAAAFxeQM3MzMzMJmJAmpmZmZkfZUBmZmZmZhhoQDMzMzMzEWtAAAAAAAAKbkBmZmZmZoFwQM3MzMzM/XFAMzMzMzN6c0CamZmZmfZ0QAAAAAAAc3ZAZmZmZmbvd0DNzMzMzGt5QDMzMzMz6HpAmpmZmZlkfEAAAAAAAOF9QGZmZmZmXX9AZmZmZuZsgECamZmZGSuBQM3MzMxM6YFAAAAAAICngkAzMzMzs2WDQGZmZmbmI4RAmpmZmRnihEDNzMzMTKCFQAAAAACAXoZAMzMzM7Mch0BmZmZm5tqHQJqZmZkZmYhAzczMzExXiUAAAAAAgBWKQDMzMzOz04pAZmZmZuaRi0CamZmZGVCMQM3MzMxMDo1AAAAAAIDMjUAzMzMzs4qOQGZmZmbmSI9A\",\"dtype\":\"float64\",\"shape\":[75]}},\"selected\":{\"id\":\"0025310c-c699-4578-9cfb-c30488851d3d\",\"type\":\"Selection\"},\"selection_policy\":{\"id\":\"01ccf44b-d337-4d63-bc58-0b03afa63e7a\",\"type\":\"UnionRenderers\"}},\"id\":\"0cd83a8e-6243-4374-92db-0946c4cef7a1\",\"type\":\"ColumnDataSource\"},{\"attributes\":{\"plot\":null,\"text\":\"Linear pressure scale\"},\"id\":\"32a5bae8-b49a-434f-87ea-2e28b9dc7ccb\",\"type\":\"Title\"},{\"attributes\":{\"data_source\":{\"id\":\"369f69d3-6a1f-4977-9692-15f2a199e2f4\",\"type\":\"ColumnDataSource\"},\"glyph\":{\"id\":\"fd131ab2-2c5d-46a2-8d7a-926617e0fbed\",\"type\":\"Square\"},\"hover_glyph\":null,\"muted_glyph\":null,\"nonselection_glyph\":{\"id\":\"4d40498d-c216-48a6-b1ce-4931d73ff831\",\"type\":\"Square\"},\"selection_glyph\":null,\"view\":{\"id\":\"0f2fa9b9-7b37-4cf8-9678-1407ae144c23\",\"type\":\"CDSView\"}},\"id\":\"28bf4707-62b6-4455-9bab-69e39c0610dc\",\"type\":\"GlyphRenderer\"},{\"attributes\":{\"callback\":null,\"end\":0.01,\"start\":1020},\"id\":\"2e37d7a9-4c06-438d-8273-1517c689265b\",\"type\":\"Range1d\"},{\"attributes\":{\"line_color\":\"#4daf4a\",\"line_width\":1.5,\"x\":{\"field\":\"x\"},\"y\":{\"field\":\"y\"}},\"id\":\"24647748-dd48-47a1-9ec3-4ba04cc413dd\",\"type\":\"Line\"},{\"attributes\":{},\"id\":\"5c09e95d-23f7-4eed-93e9-86f0cf5c8338\",\"type\":\"WheelZoomTool\"},{\"attributes\":{\"fill_alpha\":{\"value\":0.7},\"fill_color\":{\"value\":\"#4daf4a\"},\"line_alpha\":{\"value\":0.7},\"line_color\":{\"value\":\"#4daf4a\"},\"x\":{\"field\":\"x\"},\"y\":{\"field\":\"y\"}},\"id\":\"87b8891c-729a-49c9-b971-4f75a6dcda27\",\"type\":\"Circle\"},{\"attributes\":{},\"id\":\"94f26c37-d32c-4fc5-bd5f-173d649b4e32\",\"type\":\"PanTool\"},{\"attributes\":{\"plot\":{\"id\":\"4f3bdfca-56d8-41d6-8d98-a6975e3b0f5c\",\"subtype\":\"Figure\",\"type\":\"Plot\"},\"ticker\":{\"id\":\"e2fda595-c1ae-4db5-8812-659cbbf2538e\",\"type\":\"BasicTicker\"}},\"id\":\"90b9f47a-cf59-427f-b54f-01c9153bd200\",\"type\":\"Grid\"},{\"attributes\":{\"bottom_units\":\"screen\",\"fill_alpha\":{\"value\":0.5},\"fill_color\":{\"value\":\"lightgrey\"},\"left_units\":\"screen\",\"level\":\"overlay\",\"line_alpha\":{\"value\":1.0},\"line_color\":{\"value\":\"black\"},\"line_dash\":[4,4],\"line_width\":{\"value\":2},\"plot\":null,\"render_mode\":\"css\",\"right_units\":\"screen\",\"top_units\":\"screen\"},\"id\":\"d6f822b6-a784-403f-a65f-629934c74f70\",\"type\":\"BoxAnnotation\"},{\"attributes\":{\"axis_label\":\"cooling rate [K/day]\",\"formatter\":{\"id\":\"8a9e9e1a-677a-476e-8161-2a44e005f373\",\"type\":\"BasicTickFormatter\"},\"plot\":{\"id\":\"4f3bdfca-56d8-41d6-8d98-a6975e3b0f5c\",\"subtype\":\"Figure\",\"type\":\"Plot\"},\"ticker\":{\"id\":\"e2fda595-c1ae-4db5-8812-659cbbf2538e\",\"type\":\"BasicTicker\"}},\"id\":\"3b963cc1-81d0-48b8-9602-3817e4756016\",\"type\":\"LinearAxis\"},{\"attributes\":{},\"id\":\"35d5c811-d37f-46e7-8dcc-9d21d94a2102\",\"type\":\"BasicTicker\"},{\"attributes\":{\"line_alpha\":0.1,\"line_color\":\"#1f77b4\",\"line_dash\":[6],\"line_width\":5,\"x\":{\"field\":\"x\"},\"y\":{\"field\":\"y\"}},\"id\":\"555ac868-5f53-4082-93e2-83936985ccac\",\"type\":\"Line\"},{\"attributes\":{\"callback\":null,\"data\":{\"x\":{\"__ndarray__\":\"iK3KcdLA3r59y6BR0Cncvr5a8x3icda+WWlNgQQh0L74HhZllwrDvkvhzGuWI6W+RsjCP2sSsj5Dtfjs1vPHPqeEi+e8vdM+BiYi+x/R2z7CuWpVEB3iPhZ7mP82e+Y+D9XLiqoG6z7znAzvIwfwPuD+zd8CAvg+3oovRF01CT92PK6ghc4ZP4BSwgp2ziY/32D1zqmMMj83EFuzpKw8P63lwkdTZEU/0bzLzzP+Tj+PSiRnnmlUP34N41sIzFQ/wD4P9Yi/UD9DNi1jJ/hIP4+jX9hBC0I/VDdHomSTOT+th9EA8PsxPyIwdsUD/yg/JgBMSJWwID+Z8jSNVPkUPxFDiH2n+Qk/QzXQZ2YlAD9o3xDrQNPwPgatoUrjctE+R4nijiGvwL4PvvBFaN7Rvra3sfPdGtq+3WFxUExq2b6x3e/fcbzUPjuf8yeTtBg/ZjarlEGHPD+US5+xQXNVP/LMbTkV9Gg/PEhlCJTNdD/epP9rlIN+PzBKPfwWTIU/Q/yOpE6HjD+JifGNLXOSPyFK0jpMKZc/Tfj2xd3Umz8sy2jInlugPzR2a5RTDaM/ZJLB7MYEpj/8dcDY70epPw8IPzSd5Kw/c+Gv5W8ksT8ZlDZDFA20P9eNB/MIArc/VTIhYloGuj+wp4AoVhW9P/tvLax+GcA/xbFoGS2wwT/3GXo4P03DP0S188Mp78Q/ec/9rGSNxj/4Z+1T4RHIP/OSINjIYMk/GRNqn/Fxyj/AwCCnt1jLP0Qi4TljMcw/bEkeumYTzT8j5NWcMB/OP/hcfaeP4c8/\",\"dtype\":\"float64\",\"shape\":[75]},\"y\":{\"__ndarray__\":\"GhExyth1ND/Sv8nbtpRIP2vylNV0PVE/aTum7souWD/At0SJ8fVgPw3Iuahxymc/MSNhhJWvcD/bTfBN02d3P2zb5nxnaoA/CD5h5MAGhz8NmeH1TyaQP+zrCsc9p5Y/LbKd76fGnz/bLW5ISEmmPww9YvTcQq8/JV2OstnstT8Er5Y7M8G+P0c+r3jqkcU/5h99k6ZBzj88bCIzFzjVP4enV8oyxN0//yH99nXg5D8qOpLLf0jtP5kqGJXUifQ/c9cS8kHP/D+/DpwzojQEQIEmwoanVwxA4lgXt9HgE0BSSZ2AJuIbQAMJih9jjiNA5q4l5INuK0AwTKYKRj0zQNv5fmq8/DpAaCJseHrtQkB/+zpwzoxKQM3MzMzMeFJAZmZmZmZqWEAAAAAAAFxeQM3MzMzMJmJAmpmZmZkfZUBmZmZmZhhoQDMzMzMzEWtAAAAAAAAKbkBmZmZmZoFwQM3MzMzM/XFAMzMzMzN6c0CamZmZmfZ0QAAAAAAAc3ZAZmZmZmbvd0DNzMzMzGt5QDMzMzMz6HpAmpmZmZlkfEAAAAAAAOF9QGZmZmZmXX9AZmZmZuZsgECamZmZGSuBQM3MzMxM6YFAAAAAAICngkAzMzMzs2WDQGZmZmbmI4RAmpmZmRnihEDNzMzMTKCFQAAAAACAXoZAMzMzM7Mch0BmZmZm5tqHQJqZmZkZmYhAzczMzExXiUAAAAAAgBWKQDMzMzOz04pAZmZmZuaRi0CamZmZGVCMQM3MzMxMDo1AAAAAAIDMjUAzMzMzs4qOQGZmZmbmSI9A\",\"dtype\":\"float64\",\"shape\":[75]}},\"selected\":{\"id\":\"e9d0e981-68a0-4f1e-b83c-a204cd0cc070\",\"type\":\"Selection\"},\"selection_policy\":{\"id\":\"f4008d83-fbe2-4ac1-9eb6-0fed259be0ca\",\"type\":\"UnionRenderers\"}},\"id\":\"05877c36-3dd3-40c4-8d67-b284bd696e2b\",\"type\":\"ColumnDataSource\"},{\"attributes\":{},\"id\":\"e2fda595-c1ae-4db5-8812-659cbbf2538e\",\"type\":\"BasicTicker\"},{\"attributes\":{\"axis_label\":\"pressure [mb]\",\"formatter\":{\"id\":\"11b89f8f-4058-4b7b-9038-fb5dd0250e23\",\"type\":\"BasicTickFormatter\"},\"plot\":{\"id\":\"4f3bdfca-56d8-41d6-8d98-a6975e3b0f5c\",\"subtype\":\"Figure\",\"type\":\"Plot\"},\"ticker\":{\"id\":\"35d5c811-d37f-46e7-8dcc-9d21d94a2102\",\"type\":\"BasicTicker\"}},\"id\":\"3cbe2d04-43e8-43d0-9e30-c4b99e2264d8\",\"type\":\"LinearAxis\"},{\"attributes\":{\"fill_alpha\":{\"value\":0.1},\"fill_color\":{\"value\":\"#1f77b4\"},\"line_alpha\":{\"value\":0.1},\"line_color\":{\"value\":\"#1f77b4\"},\"x\":{\"field\":\"x\"},\"y\":{\"field\":\"y\"}},\"id\":\"76f23a38-becf-4c1e-8dba-768f03c5a5a6\",\"type\":\"Circle\"},{\"attributes\":{\"dimension\":1,\"plot\":{\"id\":\"4f3bdfca-56d8-41d6-8d98-a6975e3b0f5c\",\"subtype\":\"Figure\",\"type\":\"Plot\"},\"ticker\":{\"id\":\"35d5c811-d37f-46e7-8dcc-9d21d94a2102\",\"type\":\"BasicTicker\"}},\"id\":\"d1c3dd92-7733-4336-9347-0929fa355bad\",\"type\":\"Grid\"},{\"attributes\":{\"data_source\":{\"id\":\"5cd5f79d-bc98-4060-bf93-a6ba8ceeeb52\",\"type\":\"ColumnDataSource\"},\"glyph\":{\"id\":\"32cb9833-8c76-4161-831c-a88c35183734\",\"type\":\"Line\"},\"hover_glyph\":null,\"muted_glyph\":null,\"nonselection_glyph\":{\"id\":\"df896cd9-0804-4b92-b16b-408fde9fe795\",\"type\":\"Line\"},\"selection_glyph\":null,\"view\":{\"id\":\"35cdb417-ed58-4af0-a8b2-5c903747ced6\",\"type\":\"CDSView\"}},\"id\":\"622af3a6-053e-436e-98f6-459fc5f3278e\",\"type\":\"GlyphRenderer\"},{\"attributes\":{\"callback\":null,\"end\":0.01,\"start\":1020},\"id\":\"ce80e3bc-16d4-4a6e-8abe-b62099da6496\",\"type\":\"Range1d\"},{\"attributes\":{\"callback\":null,\"data\":{\"x\":{\"__ndarray__\":\"iK3KcdLA3r59y6BR0Cncvr5a8x3icda+WWlNgQQh0L74HhZllwrDvkvhzGuWI6W+RsjCP2sSsj5Dtfjs1vPHPqeEi+e8vdM+BiYi+x/R2z7CuWpVEB3iPhZ7mP82e+Y+D9XLiqoG6z7znAzvIwfwPuD+zd8CAvg+3oovRF01CT92PK6ghc4ZP4BSwgp2ziY/32D1zqmMMj83EFuzpKw8P63lwkdTZEU/0bzLzzP+Tj+PSiRnnmlUP34N41sIzFQ/wD4P9Yi/UD9DNi1jJ/hIP4+jX9hBC0I/VDdHomSTOT+th9EA8PsxPyIwdsUD/yg/JgBMSJWwID+Z8jSNVPkUPxFDiH2n+Qk/QzXQZ2YlAD9o3xDrQNPwPgatoUrjctE+R4nijiGvwL4PvvBFaN7Rvra3sfPdGtq+3WFxUExq2b6x3e/fcbzUPjuf8yeTtBg/ZjarlEGHPD+US5+xQXNVP/LMbTkV9Gg/PEhlCJTNdD/epP9rlIN+PzBKPfwWTIU/Q/yOpE6HjD+JifGNLXOSPyFK0jpMKZc/Tfj2xd3Umz8sy2jInlugPzR2a5RTDaM/ZJLB7MYEpj/8dcDY70epPw8IPzSd5Kw/c+Gv5W8ksT8ZlDZDFA20P9eNB/MIArc/VTIhYloGuj+wp4AoVhW9P/tvLax+GcA/xbFoGS2wwT/3GXo4P03DP0S188Mp78Q/ec/9rGSNxj/4Z+1T4RHIP/OSINjIYMk/GRNqn/Fxyj/AwCCnt1jLP0Qi4TljMcw/bEkeumYTzT8j5NWcMB/OP/hcfaeP4c8/\",\"dtype\":\"float64\",\"shape\":[75]},\"y\":{\"__ndarray__\":\"GhExyth1ND/Sv8nbtpRIP2vylNV0PVE/aTum7souWD/At0SJ8fVgPw3Iuahxymc/MSNhhJWvcD/bTfBN02d3P2zb5nxnaoA/CD5h5MAGhz8NmeH1TyaQP+zrCsc9p5Y/LbKd76fGnz/bLW5ISEmmPww9YvTcQq8/JV2OstnstT8Er5Y7M8G+P0c+r3jqkcU/5h99k6ZBzj88bCIzFzjVP4enV8oyxN0//yH99nXg5D8qOpLLf0jtP5kqGJXUifQ/c9cS8kHP/D+/DpwzojQEQIEmwoanVwxA4lgXt9HgE0BSSZ2AJuIbQAMJih9jjiNA5q4l5INuK0AwTKYKRj0zQNv5fmq8/DpAaCJseHrtQkB/+zpwzoxKQM3MzMzMeFJAZmZmZmZqWEAAAAAAAFxeQM3MzMzMJmJAmpmZmZkfZUBmZmZmZhhoQDMzMzMzEWtAAAAAAAAKbkBmZmZmZoFwQM3MzMzM/XFAMzMzMzN6c0CamZmZmfZ0QAAAAAAAc3ZAZmZmZmbvd0DNzMzMzGt5QDMzMzMz6HpAmpmZmZlkfEAAAAAAAOF9QGZmZmZmXX9AZmZmZuZsgECamZmZGSuBQM3MzMxM6YFAAAAAAICngkAzMzMzs2WDQGZmZmbmI4RAmpmZmRnihEDNzMzMTKCFQAAAAACAXoZAMzMzM7Mch0BmZmZm5tqHQJqZmZkZmYhAzczMzExXiUAAAAAAgBWKQDMzMzOz04pAZmZmZuaRi0CamZmZGVCMQM3MzMxMDo1AAAAAAIDMjUAzMzMzs4qOQGZmZmbmSI9A\",\"dtype\":\"float64\",\"shape\":[75]}},\"selected\":{\"id\":\"7deb5fac-7c1b-4ca8-89c4-ecfaaffd463b\",\"type\":\"Selection\"},\"selection_policy\":{\"id\":\"16850c61-4f96-4aa9-a9a5-685bb2147956\",\"type\":\"UnionRenderers\"}},\"id\":\"8a5f84b3-e41d-422f-8268-8952cba88b1e\",\"type\":\"ColumnDataSource\"},{\"attributes\":{\"overlay\":{\"id\":\"d6f822b6-a784-403f-a65f-629934c74f70\",\"type\":\"BoxAnnotation\"}},\"id\":\"0bbe8b01-3f04-4e7c-93e6-e46e83769b0e\",\"type\":\"BoxZoomTool\"},{\"attributes\":{\"data_source\":{\"id\":\"8a5f84b3-e41d-422f-8268-8952cba88b1e\",\"type\":\"ColumnDataSource\"},\"glyph\":{\"id\":\"87b8891c-729a-49c9-b971-4f75a6dcda27\",\"type\":\"Circle\"},\"hover_glyph\":null,\"muted_glyph\":null,\"nonselection_glyph\":{\"id\":\"76f23a38-becf-4c1e-8dba-768f03c5a5a6\",\"type\":\"Circle\"},\"selection_glyph\":null,\"view\":{\"id\":\"92a5990a-2215-4292-9f04-a01e0ad26d12\",\"type\":\"CDSView\"}},\"id\":\"d1dc9a55-fcfb-4005-b4a1-cd4f42233ca8\",\"type\":\"GlyphRenderer\"},{\"attributes\":{\"callback\":null,\"data\":{\"x\":{\"__ndarray__\":\"iK3KcdLA3r59y6BR0Cncvr5a8x3icda+WWlNgQQh0L74HhZllwrDvkvhzGuWI6W+RsjCP2sSsj5Dtfjs1vPHPqeEi+e8vdM+BiYi+x/R2z7CuWpVEB3iPhZ7mP82e+Y+D9XLiqoG6z7znAzvIwfwPuD+zd8CAvg+3oovRF01CT92PK6ghc4ZP4BSwgp2ziY/32D1zqmMMj83EFuzpKw8P63lwkdTZEU/0bzLzzP+Tj+PSiRnnmlUP34N41sIzFQ/wD4P9Yi/UD9DNi1jJ/hIP4+jX9hBC0I/VDdHomSTOT+th9EA8PsxPyIwdsUD/yg/JgBMSJWwID+Z8jSNVPkUPxFDiH2n+Qk/QzXQZ2YlAD9o3xDrQNPwPgatoUrjctE+R4nijiGvwL4PvvBFaN7Rvra3sfPdGtq+3WFxUExq2b6x3e/fcbzUPjuf8yeTtBg/ZjarlEGHPD+US5+xQXNVP/LMbTkV9Gg/PEhlCJTNdD/epP9rlIN+PzBKPfwWTIU/Q/yOpE6HjD+JifGNLXOSPyFK0jpMKZc/Tfj2xd3Umz8sy2jInlugPzR2a5RTDaM/ZJLB7MYEpj/8dcDY70epPw8IPzSd5Kw/c+Gv5W8ksT8ZlDZDFA20P9eNB/MIArc/VTIhYloGuj+wp4AoVhW9P/tvLax+GcA/xbFoGS2wwT/3GXo4P03DP0S188Mp78Q/ec/9rGSNxj/4Z+1T4RHIP/OSINjIYMk/GRNqn/Fxyj/AwCCnt1jLP0Qi4TljMcw/bEkeumYTzT8j5NWcMB/OP/hcfaeP4c8/\",\"dtype\":\"float64\",\"shape\":[75]},\"y\":{\"__ndarray__\":\"GhExyth1ND/Sv8nbtpRIP2vylNV0PVE/aTum7souWD/At0SJ8fVgPw3Iuahxymc/MSNhhJWvcD/bTfBN02d3P2zb5nxnaoA/CD5h5MAGhz8NmeH1TyaQP+zrCsc9p5Y/LbKd76fGnz/bLW5ISEmmPww9YvTcQq8/JV2OstnstT8Er5Y7M8G+P0c+r3jqkcU/5h99k6ZBzj88bCIzFzjVP4enV8oyxN0//yH99nXg5D8qOpLLf0jtP5kqGJXUifQ/c9cS8kHP/D+/DpwzojQEQIEmwoanVwxA4lgXt9HgE0BSSZ2AJuIbQAMJih9jjiNA5q4l5INuK0AwTKYKRj0zQNv5fmq8/DpAaCJseHrtQkB/+zpwzoxKQM3MzMzMeFJAZmZmZmZqWEAAAAAAAFxeQM3MzMzMJmJAmpmZmZkfZUBmZmZmZhhoQDMzMzMzEWtAAAAAAAAKbkBmZmZmZoFwQM3MzMzM/XFAMzMzMzN6c0CamZmZmfZ0QAAAAAAAc3ZAZmZmZmbvd0DNzMzMzGt5QDMzMzMz6HpAmpmZmZlkfEAAAAAAAOF9QGZmZmZmXX9AZmZmZuZsgECamZmZGSuBQM3MzMxM6YFAAAAAAICngkAzMzMzs2WDQGZmZmbmI4RAmpmZmRnihEDNzMzMTKCFQAAAAACAXoZAMzMzM7Mch0BmZmZm5tqHQJqZmZkZmYhAzczMzExXiUAAAAAAgBWKQDMzMzOz04pAZmZmZuaRi0CamZmZGVCMQM3MzMxMDo1AAAAAAIDMjUAzMzMzs4qOQGZmZmbmSI9A\",\"dtype\":\"float64\",\"shape\":[75]}},\"selected\":{\"id\":\"ec6c685c-e97b-4542-b124-ce1dc2bc0461\",\"type\":\"Selection\"},\"selection_policy\":{\"id\":\"c0bdfb45-5812-45bd-ac9d-1178b26e1bac\",\"type\":\"UnionRenderers\"}},\"id\":\"0bee3432-00a7-44ff-bc42-4c51268b0941\",\"type\":\"ColumnDataSource\"},{\"attributes\":{\"data_source\":{\"id\":\"1c2e1c47-5a55-4887-8c0c-65da313d7582\",\"type\":\"ColumnDataSource\"},\"glyph\":{\"id\":\"0d793408-b780-46e5-bd05-c324534bbee7\",\"type\":\"Line\"},\"hover_glyph\":null,\"muted_glyph\":null,\"nonselection_glyph\":{\"id\":\"555ac868-5f53-4082-93e2-83936985ccac\",\"type\":\"Line\"},\"selection_glyph\":null,\"view\":{\"id\":\"2951024f-d85d-423e-8f98-e8749fb3ae23\",\"type\":\"CDSView\"}},\"id\":\"b8d6dd6b-5236-48b1-abe1-61034b1b8235\",\"type\":\"GlyphRenderer\"},{\"attributes\":{\"source\":{\"id\":\"8a5f84b3-e41d-422f-8268-8952cba88b1e\",\"type\":\"ColumnDataSource\"}},\"id\":\"92a5990a-2215-4292-9f04-a01e0ad26d12\",\"type\":\"CDSView\"},{\"attributes\":{\"callback\":null,\"data\":{\"x\":{\"__ndarray__\":\"jkj582im675cnBexOazrvtCiyGH0Guq+jcSnJ3b/6L4aucsOYOPnvolf9k3Suea+a60s2c1/5b7J8Mx5TznkvsqS052g4OK+//GyGmuB4b58wH+ApRjgvqQFajDeOd2+waIJWZUX2r4+lD/ZYq/WvmGJuagBIce+0gx4ACFP2j7WDiU3Nff5PleACxo2sgs/ZtNy7C5+GD/N1DUDSMIjP81N/m+7Ty4/YknMeDfhNj/DMaeW5cs+P6qHCd7gaD8/1gKQPyNCOT+oXQ0nzsoyP5rqA2aGBSs/oDtKpyr7Ij8HnjepekYaPy78J7EiuxE/frc1cG5DBj9iq2T971P4PitmPvET3eU+fxQwcA7twj72Qu+ULBvTvqMT7K2Z/+W+YPgzaBsf7b76MOpNhwDwvpcp9FIKFvG+bBbQjHmX8b4KwjBwxxXyvrI5lcL+GdI++Y/yOyCcJT+M/md72ntGP2elr3nzYV8/dcgURo/sbT9oCMcsexJ4P65rwNilA4I/88cFfoxtiT9kPcyWYPyQP70NdjJUn5U/FqQeRGAcmj9HWW5Sma6eP1saX34e2KE/eBPcRSGUpD9zxgxh8MGnP4ihK8rScqs/VyOxYL+AsD/wAH+TzomzP/iicE/tkrY/5h82vhqTuT9riUtEroq8P25FKNeQj78/ktRbZoVgwT9vgk6MVRjDP5NaxW7h8cQ/aWNXIJvgxj9Uc3elfsHIP0TG/g01Zco/wXfV4te4yz8R8UGVu8vMP7aqmXP4vc0/3MkzcaOvzj/5MjB268rPP/mHDC+xx9A/\",\"dtype\":\"float64\",\"shape\":[75]},\"y\":{\"__ndarray__\":\"S/O/Q+51ND/Sv8nbtpRIP2vylNV0PVE/aTum7souWD/At0SJ8fVgPw3Iuahxymc/MSNhhJWvcD/bTfBN02d3P2zb5nxnaoA/CD5h5MAGhz8NmeH1TyaQP+zrCsc9p5Y/LbKd76fGnz/bLW5ISEmmPww9YvTcQq8/JV2OstnstT8Er5Y7M8G+P0c+r3jqkcU/5h99k6ZBzj88bCIzFzjVP4enV8oyxN0//yH99nXg5D8qOpLLf0jtP5kqGJXUifQ/c9cS8kHP/D+/DpwzojQEQIEmwoanVwxA4lgXt9HgE0BSSZ2AJuIbQAMJih9jjiNA5q4l5INuK0AwTKYKRj0zQNv5fmq8/DpAaCJseHrtQkB/+zpwzoxKQM3MzMzMeFJAZmZmZmZqWEAAAAAAAFxeQM3MzMzMJmJAmpmZmZkfZUBmZmZmZhhoQDMzMzMzEWtAAAAAAAAKbkBmZmZmZoFwQM3MzMzM/XFAMzMzMzN6c0CamZmZmfZ0QAAAAAAAc3ZAZmZmZmbvd0DNzMzMzGt5QDMzMzMz6HpAmpmZmZlkfEAAAAAAAOF9QGZmZmZmXX9AZmZmZuZsgECamZmZGSuBQM3MzMxM6YFAAAAAAICngkAzMzMzs2WDQGZmZmbmI4RAmpmZmRnihEDNzMzMTKCFQAAAAACAXoZAMzMzM7Mch0BmZmZm5tqHQJqZmZkZmYhAzczMzExXiUAAAAAAgBWKQDMzMzOz04pAZmZmZuaRi0CamZmZGVCMQM3MzMxMDo1AAAAAAIDMjUAzMzMzs4qOQGZmZmbmSI9A\",\"dtype\":\"float64\",\"shape\":[75]}},\"selected\":{\"id\":\"5864a4f0-402f-42cd-b762-2d3e1320828f\",\"type\":\"Selection\"},\"selection_policy\":{\"id\":\"98e3891f-3251-409f-bb80-1a7d2941fb90\",\"type\":\"UnionRenderers\"}},\"id\":\"1c2e1c47-5a55-4887-8c0c-65da313d7582\",\"type\":\"ColumnDataSource\"},{\"attributes\":{},\"id\":\"b408e8e5-33f4-4666-af0a-b861d17a746c\",\"type\":\"SaveTool\"},{\"attributes\":{\"source\":{\"id\":\"5cd5f79d-bc98-4060-bf93-a6ba8ceeeb52\",\"type\":\"ColumnDataSource\"}},\"id\":\"35cdb417-ed58-4af0-a8b2-5c903747ced6\",\"type\":\"CDSView\"},{\"attributes\":{},\"id\":\"83fd05d5-7210-4a6e-9c3d-f1292517a3cb\",\"type\":\"ResetTool\"},{\"attributes\":{\"line_alpha\":0.1,\"line_color\":\"#1f77b4\",\"line_width\":1.5,\"x\":{\"field\":\"x\"},\"y\":{\"field\":\"y\"}},\"id\":\"c4156b1f-f135-474b-a95d-dad16ece68b5\",\"type\":\"Line\"},{\"attributes\":{},\"id\":\"1eae52fe-a31b-4395-adb1-59f27b6b8576\",\"type\":\"HelpTool\"},{\"attributes\":{\"data_source\":{\"id\":\"05877c36-3dd3-40c4-8d67-b284bd696e2b\",\"type\":\"ColumnDataSource\"},\"glyph\":{\"id\":\"24647748-dd48-47a1-9ec3-4ba04cc413dd\",\"type\":\"Line\"},\"hover_glyph\":null,\"muted_glyph\":null,\"nonselection_glyph\":{\"id\":\"c4156b1f-f135-474b-a95d-dad16ece68b5\",\"type\":\"Line\"},\"selection_glyph\":null,\"view\":{\"id\":\"424c35b5-6d66-4471-ab8d-ceec1b69e5cd\",\"type\":\"CDSView\"}},\"id\":\"b3af5c91-746e-4155-bb06-a9d9901554cc\",\"type\":\"GlyphRenderer\"},{\"attributes\":{\"source\":{\"id\":\"05877c36-3dd3-40c4-8d67-b284bd696e2b\",\"type\":\"ColumnDataSource\"}},\"id\":\"424c35b5-6d66-4471-ab8d-ceec1b69e5cd\",\"type\":\"CDSView\"},{\"attributes\":{\"fill_alpha\":{\"value\":0.7},\"fill_color\":{\"value\":\"#984ea3\"},\"line_alpha\":{\"value\":0.7},\"line_color\":{\"value\":\"#984ea3\"},\"x\":{\"field\":\"x\"},\"y\":{\"field\":\"y\"}},\"id\":\"201816c5-94c6-4523-a24e-384d181dc0c0\",\"type\":\"Square\"},{\"attributes\":{\"callback\":null,\"data\":{\"x\":{\"__ndarray__\":\"Zn7IuWm/576KHnj08CrnvplGCe3D5OW+erlQ0L975L5HjwyhfQHjvo7mZoTsdeG+e/r8UPWw377SH07iQVHcvna8L5F7z9i+vClqNDQj1b4WTT7etE7RviOMA2Npocq+mjQKH7FOwr5oyz9dxx6yvtGaszBQh8Q+AcIZWE/T7T77OvSc3fwDP+gdi0TOgRM/wyQnPKiuID/Spzv64JIqP1Qe8NVpOjQ/Jc3APRvEPT9qFh4Ij9NDP/HfPSI/UUQ/v3Dm8BFoQD/oBYL6PYU4Px+kOf3AxDE/LJcdFtY7KT/8nJ2g0sIhPzGVPk41nBg//dKSEKMzED/d1J/ju4oDP4JNH8Z5EvY+qBKRiOF25j4/XQHPKIrCPmbJXCkNTda+sCaMFJoq5b5O00HWGVbnvvJLuVJKu+m+8Pe6iqrl6b7Z003w+DfhvvyG23IKgAg/o2hTddShMz9+PTAqMpBQPwFCvdbQwGQ/IxwA9RdJcj/8jbYmg+97P8+U+jIJCYQ/CfRrWyhXiz/LDxCmhdyRP2A4wB+UgJY/D9uqpA0Amz9bdyUhB6CfP8U2jq3bXKI/8s9U3LQxpT/DwYh7uF2oP3PRlmFG8qs/Ol6DMpSpsD/eBzAF3JWzP4hFrMhfj7Y/qWMWhtuSuT+y2uU5ApW8PyPMVy0Bor8/HtwqxpRiwT8Zit5l7gTDP74WvwLWucQ/2ev84414xj/l11V3tSbIP4w+y3vDpMk/Od6wB0Piyj/9FhxN8+3LPyb9KKMH5cw/0usXsB/ZzT+zF34YlfXOP85ZiqvnW9A/\",\"dtype\":\"float64\",\"shape\":[75]},\"y\":{\"__ndarray__\":\"GhExyth1ND/Sv8nbtpRIP2vylNV0PVE/aTum7souWD/At0SJ8fVgPw3Iuahxymc/MSNhhJWvcD/bTfBN02d3P2zb5nxnaoA/CD5h5MAGhz8NmeH1TyaQP+zrCsc9p5Y/LbKd76fGnz/bLW5ISEmmPww9YvTcQq8/JV2OstnstT8Er5Y7M8G+P0c+r3jqkcU/5h99k6ZBzj88bCIzFzjVP4enV8oyxN0//yH99nXg5D8qOpLLf0jtP5kqGJXUifQ/c9cS8kHP/D+/DpwzojQEQIEmwoanVwxA4lgXt9HgE0BSSZ2AJuIbQAMJih9jjiNA5q4l5INuK0AwTKYKRj0zQNv5fmq8/DpAaCJseHrtQkB/+zpwzoxKQM3MzMzMeFJAZmZmZmZqWEAAAAAAAFxeQM3MzMzMJmJAmpmZmZkfZUBmZmZmZhhoQDMzMzMzEWtAAAAAAAAKbkBmZmZmZoFwQM3MzMzM/XFAMzMzMzN6c0CamZmZmfZ0QAAAAAAAc3ZAZmZmZmbvd0DNzMzMzGt5QDMzMzMz6HpAmpmZmZlkfEAAAAAAAOF9QGZmZmZmXX9AZmZmZuZsgECamZmZGSuBQM3MzMxM6YFAAAAAAICngkAzMzMzs2WDQGZmZmbmI4RAmpmZmRnihEDNzMzMTKCFQAAAAACAXoZAMzMzM7Mch0BmZmZm5tqHQJqZmZkZmYhAzczMzExXiUAAAAAAgBWKQDMzMzOz04pAZmZmZuaRi0CamZmZGVCMQM3MzMxMDo1AAAAAAIDMjUAzMzMzs4qOQGZmZmbmSI9A\",\"dtype\":\"float64\",\"shape\":[75]}},\"selected\":{\"id\":\"61d6c5ea-e7a4-4fde-b651-c1baf0d9cdf9\",\"type\":\"Selection\"},\"selection_policy\":{\"id\":\"be1a31a5-4697-4b7c-a441-f90599f37705\",\"type\":\"UnionRenderers\"}},\"id\":\"0471b6f9-3951-4844-bec5-c644b7f624b7\",\"type\":\"ColumnDataSource\"},{\"attributes\":{\"fill_alpha\":{\"value\":0.1},\"fill_color\":{\"value\":\"#1f77b4\"},\"line_alpha\":{\"value\":0.1},\"line_color\":{\"value\":\"#1f77b4\"},\"x\":{\"field\":\"x\"},\"y\":{\"field\":\"y\"}},\"id\":\"e194bc1b-1a0d-41c3-ae7f-0bc17b106206\",\"type\":\"Square\"},{\"attributes\":{\"data_source\":{\"id\":\"0cd83a8e-6243-4374-92db-0946c4cef7a1\",\"type\":\"ColumnDataSource\"},\"glyph\":{\"id\":\"201816c5-94c6-4523-a24e-384d181dc0c0\",\"type\":\"Square\"},\"hover_glyph\":null,\"muted_glyph\":null,\"nonselection_glyph\":{\"id\":\"e194bc1b-1a0d-41c3-ae7f-0bc17b106206\",\"type\":\"Square\"},\"selection_glyph\":null,\"view\":{\"id\":\"d530c273-0abc-410e-9499-da33604717aa\",\"type\":\"CDSView\"}},\"id\":\"25f13d60-6b9e-4629-b3e0-d5bb2733a777\",\"type\":\"GlyphRenderer\"},{\"attributes\":{\"source\":{\"id\":\"0cd83a8e-6243-4374-92db-0946c4cef7a1\",\"type\":\"ColumnDataSource\"}},\"id\":\"d530c273-0abc-410e-9499-da33604717aa\",\"type\":\"CDSView\"},{\"attributes\":{},\"id\":\"8a9e9e1a-677a-476e-8161-2a44e005f373\",\"type\":\"BasicTickFormatter\"},{\"attributes\":{\"label\":{\"value\":\"CLIRAD `coolr_bands`\"},\"renderers\":[{\"id\":\"622af3a6-053e-436e-98f6-459fc5f3278e\",\"type\":\"GlyphRenderer\"}]},\"id\":\"9973f6ed-9054-4d3b-9de0-7df1b6c1b400\",\"type\":\"LegendItem\"},{\"attributes\":{},\"id\":\"11b89f8f-4058-4b7b-9038-fb5dd0250e23\",\"type\":\"BasicTickFormatter\"},{\"attributes\":{\"label\":{\"value\":\"CRD\"},\"renderers\":[{\"id\":\"d1dc9a55-fcfb-4005-b4a1-cd4f42233ca8\",\"type\":\"GlyphRenderer\"},{\"id\":\"b3af5c91-746e-4155-bb06-a9d9901554cc\",\"type\":\"GlyphRenderer\"}]},\"id\":\"92bf320f-de56-4e36-8c4d-d79f39cb5937\",\"type\":\"LegendItem\"},{\"attributes\":{},\"id\":\"c0bdfb45-5812-45bd-ac9d-1178b26e1bac\",\"type\":\"UnionRenderers\"},{\"attributes\":{\"fill_alpha\":{\"value\":0.7},\"fill_color\":{\"value\":\"#4daf4a\"},\"line_alpha\":{\"value\":0.7},\"line_color\":{\"value\":\"#4daf4a\"},\"x\":{\"field\":\"x\"},\"y\":{\"field\":\"y\"}},\"id\":\"0f7693f7-3839-45b2-a7d0-9eaa08733e4f\",\"type\":\"Circle\"},{\"attributes\":{\"label\":{\"value\":\"WGT igg=10 wgt_flux=2\"},\"renderers\":[{\"id\":\"25f13d60-6b9e-4629-b3e0-d5bb2733a777\",\"type\":\"GlyphRenderer\"},{\"id\":\"4e2d1e87-21f1-4dc4-ac9e-4a61781d2dab\",\"type\":\"GlyphRenderer\"}]},\"id\":\"2dbcc240-53dd-4432-a004-71739af1540d\",\"type\":\"LegendItem\"},{\"attributes\":{\"below\":[{\"id\":\"3b963cc1-81d0-48b8-9602-3817e4756016\",\"type\":\"LinearAxis\"}],\"left\":[{\"id\":\"3cbe2d04-43e8-43d0-9e30-c4b99e2264d8\",\"type\":\"LinearAxis\"}],\"plot_height\":500,\"plot_width\":400,\"renderers\":[{\"id\":\"3b963cc1-81d0-48b8-9602-3817e4756016\",\"type\":\"LinearAxis\"},{\"id\":\"90b9f47a-cf59-427f-b54f-01c9153bd200\",\"type\":\"Grid\"},{\"id\":\"3cbe2d04-43e8-43d0-9e30-c4b99e2264d8\",\"type\":\"LinearAxis\"},{\"id\":\"d1c3dd92-7733-4336-9347-0929fa355bad\",\"type\":\"Grid\"},{\"id\":\"d6f822b6-a784-403f-a65f-629934c74f70\",\"type\":\"BoxAnnotation\"},{\"id\":\"b8d6dd6b-5236-48b1-abe1-61034b1b8235\",\"type\":\"GlyphRenderer\"},{\"id\":\"9d3ade94-6315-41ad-a020-7ab5b97a93b0\",\"type\":\"GlyphRenderer\"},{\"id\":\"ad381ba4-8ccf-42b5-ada6-623097650e0a\",\"type\":\"GlyphRenderer\"},{\"id\":\"28bf4707-62b6-4455-9bab-69e39c0610dc\",\"type\":\"GlyphRenderer\"},{\"id\":\"356ffd37-b382-4d02-898b-1c0afa503801\",\"type\":\"GlyphRenderer\"}],\"title\":{\"id\":\"32a5bae8-b49a-434f-87ea-2e28b9dc7ccb\",\"type\":\"Title\"},\"toolbar\":{\"id\":\"2f984013-9ac4-445f-8cff-d95e36758132\",\"type\":\"Toolbar\"},\"toolbar_location\":null,\"x_range\":{\"id\":\"da129d71-368a-44cf-b218-a6e31eef6739\",\"type\":\"Range1d\"},\"x_scale\":{\"id\":\"e6bffb54-5068-4438-bbe9-c1ed736ef072\",\"type\":\"LinearScale\"},\"y_range\":{\"id\":\"ce80e3bc-16d4-4a6e-8abe-b62099da6496\",\"type\":\"Range1d\"},\"y_scale\":{\"id\":\"22104a35-715b-4980-99cd-857055b6af11\",\"type\":\"LinearScale\"}},\"id\":\"4f3bdfca-56d8-41d6-8d98-a6975e3b0f5c\",\"subtype\":\"Figure\",\"type\":\"Plot\"},{\"attributes\":{},\"id\":\"a05980de-f919-49d0-9256-aee6bef5d839\",\"type\":\"UnionRenderers\"},{\"attributes\":{\"source\":{\"id\":\"1c2e1c47-5a55-4887-8c0c-65da313d7582\",\"type\":\"ColumnDataSource\"}},\"id\":\"2951024f-d85d-423e-8f98-e8749fb3ae23\",\"type\":\"CDSView\"},{\"attributes\":{},\"id\":\"5864a4f0-402f-42cd-b762-2d3e1320828f\",\"type\":\"Selection\"},{\"attributes\":{},\"id\":\"98e3891f-3251-409f-bb80-1a7d2941fb90\",\"type\":\"UnionRenderers\"},{\"attributes\":{},\"id\":\"ec6c685c-e97b-4542-b124-ce1dc2bc0461\",\"type\":\"Selection\"},{\"attributes\":{},\"id\":\"0025310c-c699-4578-9cfb-c30488851d3d\",\"type\":\"Selection\"},{\"attributes\":{},\"id\":\"e6bffb54-5068-4438-bbe9-c1ed736ef072\",\"type\":\"LinearScale\"},{\"attributes\":{},\"id\":\"a9bdcda2-d4b4-4224-b0cd-85d2498ee31d\",\"type\":\"UnionRenderers\"},{\"attributes\":{},\"id\":\"78666c51-3e04-41ce-9daa-9e882cd7caea\",\"type\":\"UnionRenderers\"},{\"attributes\":{\"ticker\":null},\"id\":\"ca427b3a-6674-433e-9a37-c8c715273e92\",\"type\":\"LogTickFormatter\"},{\"attributes\":{},\"id\":\"1a9373bf-eacd-4c1f-9343-f55f2b814e29\",\"type\":\"Selection\"},{\"attributes\":{},\"id\":\"16850c61-4f96-4aa9-a9a5-685bb2147956\",\"type\":\"UnionRenderers\"},{\"attributes\":{},\"id\":\"ac9047aa-7792-4b10-966e-2ea4468522c5\",\"type\":\"Selection\"},{\"attributes\":{\"children\":[{\"id\":\"4f3bdfca-56d8-41d6-8d98-a6975e3b0f5c\",\"subtype\":\"Figure\",\"type\":\"Plot\"},{\"id\":\"97affa78-2c84-4756-916e-e90a825769c4\",\"subtype\":\"Figure\",\"type\":\"Plot\"}]},\"id\":\"1ed2ccb3-3435-4bb2-8a10-6e9e0df215e6\",\"type\":\"Row\"},{\"attributes\":{},\"id\":\"7deb5fac-7c1b-4ca8-89c4-ecfaaffd463b\",\"type\":\"Selection\"},{\"attributes\":{},\"id\":\"ddd175e9-0ffd-481f-926b-442219a2a8a6\",\"type\":\"Selection\"},{\"attributes\":{},\"id\":\"b07b371b-a676-499c-9d86-4cb4d2035f2b\",\"type\":\"Selection\"},{\"attributes\":{},\"id\":\"0d24b88f-eae1-439e-b12c-8697ca3e9f48\",\"type\":\"BasicTickFormatter\"},{\"attributes\":{\"plot\":null,\"text\":\"Log pressure scale\"},\"id\":\"f88995ad-b5a5-4375-961d-e0c4fab1aac8\",\"type\":\"Title\"},{\"attributes\":{},\"id\":\"1b956da8-36f7-4e65-8267-0ad4bbf23ac6\",\"type\":\"UnionRenderers\"},{\"attributes\":{},\"id\":\"f4008d83-fbe2-4ac1-9eb6-0fed259be0ca\",\"type\":\"UnionRenderers\"},{\"attributes\":{},\"id\":\"01ccf44b-d337-4d63-bc58-0b03afa63e7a\",\"type\":\"UnionRenderers\"},{\"attributes\":{\"below\":[{\"id\":\"6365bd60-a710-41a6-b5c1-fd7c92ca8ab1\",\"type\":\"LinearAxis\"}],\"left\":[{\"id\":\"8fcf730e-714b-42ba-a5c3-1bca831e4415\",\"type\":\"LogAxis\"}],\"plot_height\":500,\"plot_width\":560,\"renderers\":[{\"id\":\"6365bd60-a710-41a6-b5c1-fd7c92ca8ab1\",\"type\":\"LinearAxis\"},{\"id\":\"65787871-45ea-4924-9a50-6bc9f2f965e6\",\"type\":\"Grid\"},{\"id\":\"8fcf730e-714b-42ba-a5c3-1bca831e4415\",\"type\":\"LogAxis\"},{\"id\":\"80a8e363-9631-4e57-8b40-f7a383e5faee\",\"type\":\"Grid\"},{\"id\":\"a14da7c4-a158-4426-98a3-10d760ebe2d6\",\"type\":\"BoxAnnotation\"},{\"id\":\"622af3a6-053e-436e-98f6-459fc5f3278e\",\"type\":\"GlyphRenderer\"},{\"id\":\"d1dc9a55-fcfb-4005-b4a1-cd4f42233ca8\",\"type\":\"GlyphRenderer\"},{\"id\":\"b3af5c91-746e-4155-bb06-a9d9901554cc\",\"type\":\"GlyphRenderer\"},{\"id\":\"25f13d60-6b9e-4629-b3e0-d5bb2733a777\",\"type\":\"GlyphRenderer\"},{\"id\":\"4e2d1e87-21f1-4dc4-ac9e-4a61781d2dab\",\"type\":\"GlyphRenderer\"},{\"id\":\"6406dbf2-801f-4166-a846-ee5686a5409e\",\"type\":\"Legend\"}],\"right\":[{\"id\":\"6406dbf2-801f-4166-a846-ee5686a5409e\",\"type\":\"Legend\"}],\"title\":{\"id\":\"f88995ad-b5a5-4375-961d-e0c4fab1aac8\",\"type\":\"Title\"},\"toolbar\":{\"id\":\"473e5068-d02c-403b-af18-4c2767a92b90\",\"type\":\"Toolbar\"},\"toolbar_location\":null,\"x_range\":{\"id\":\"4900a783-b00f-4ea3-88cf-b3ab0df7913b\",\"type\":\"Range1d\"},\"x_scale\":{\"id\":\"8c32dfab-e3b4-4eab-8e6d-b32bf7c61ca9\",\"type\":\"LinearScale\"},\"y_range\":{\"id\":\"2e37d7a9-4c06-438d-8273-1517c689265b\",\"type\":\"Range1d\"},\"y_scale\":{\"id\":\"4edcad1f-40f5-48a3-a88a-e018ca6dd419\",\"type\":\"LogScale\"}},\"id\":\"97affa78-2c84-4756-916e-e90a825769c4\",\"subtype\":\"Figure\",\"type\":\"Plot\"},{\"attributes\":{},\"id\":\"be1a31a5-4697-4b7c-a441-f90599f37705\",\"type\":\"UnionRenderers\"},{\"attributes\":{},\"id\":\"61d6c5ea-e7a4-4fde-b651-c1baf0d9cdf9\",\"type\":\"Selection\"},{\"attributes\":{},\"id\":\"e9d0e981-68a0-4f1e-b83c-a204cd0cc070\",\"type\":\"Selection\"},{\"attributes\":{\"toolbar\":{\"id\":\"b6b0d9b3-e6ac-4e5e-8c40-34fe569f13ff\",\"type\":\"ProxyToolbar\"},\"toolbar_location\":\"above\"},\"id\":\"9321699e-4a9b-4bf6-ae97-4f11463c1f2b\",\"type\":\"ToolbarBox\"},{\"attributes\":{},\"id\":\"22104a35-715b-4980-99cd-857055b6af11\",\"type\":\"LinearScale\"},{\"attributes\":{\"tools\":[{\"id\":\"94f26c37-d32c-4fc5-bd5f-173d649b4e32\",\"type\":\"PanTool\"},{\"id\":\"5c09e95d-23f7-4eed-93e9-86f0cf5c8338\",\"type\":\"WheelZoomTool\"},{\"id\":\"0bbe8b01-3f04-4e7c-93e6-e46e83769b0e\",\"type\":\"BoxZoomTool\"},{\"id\":\"b408e8e5-33f4-4666-af0a-b861d17a746c\",\"type\":\"SaveTool\"},{\"id\":\"83fd05d5-7210-4a6e-9c3d-f1292517a3cb\",\"type\":\"ResetTool\"},{\"id\":\"1eae52fe-a31b-4395-adb1-59f27b6b8576\",\"type\":\"HelpTool\"},{\"id\":\"40b1be7f-b0ac-4868-bc56-a5a9a2326dc8\",\"type\":\"PanTool\"},{\"id\":\"5dd7d364-0fd4-4b7d-9ae9-c7b1cdd68745\",\"type\":\"WheelZoomTool\"},{\"id\":\"7662d5a5-b67b-49b6-9bd5-22aaa950244e\",\"type\":\"BoxZoomTool\"},{\"id\":\"bf86c0e3-01c2-4da2-8152-199a8158acd6\",\"type\":\"SaveTool\"},{\"id\":\"0e35a037-3cd4-477f-af65-8b38b9167dfd\",\"type\":\"ResetTool\"},{\"id\":\"18be2a8a-0308-411f-a065-3d778a832e9f\",\"type\":\"HelpTool\"}]},\"id\":\"b6b0d9b3-e6ac-4e5e-8c40-34fe569f13ff\",\"type\":\"ProxyToolbar\"}],\"root_ids\":[\"489260e9-d196-4c18-8688-b37febd97efe\"]},\"title\":\"Bokeh Application\",\"version\":\"0.12.16\"}};\n",
       "  var render_items = [{\"docid\":\"13a5bf91-0e61-478a-859e-764e0b422dd6\",\"elementid\":\"1d065fdb-5d0a-433c-aa6b-deffbda7a06c\",\"modelid\":\"489260e9-d196-4c18-8688-b37febd97efe\"}];\n",
       "  root.Bokeh.embed.embed_items_notebook(docs_json, render_items);\n",
       "\n",
       "  }\n",
       "  if (root.Bokeh !== undefined) {\n",
       "    embed_document(root);\n",
       "  } else {\n",
       "    var attempts = 0;\n",
       "    var timer = setInterval(function(root) {\n",
       "      if (root.Bokeh !== undefined) {\n",
       "        embed_document(root);\n",
       "        clearInterval(timer);\n",
       "      }\n",
       "      attempts++;\n",
       "      if (attempts > 100) {\n",
       "        console.log(\"Bokeh: ERROR: Unable to run BokehJS code because BokehJS library is missing\")\n",
       "        clearInterval(timer);\n",
       "      }\n",
       "    }, 10, root)\n",
       "  }\n",
       "})(window);"
      ],
      "application/vnd.bokehjs_exec.v0+json": ""
     },
     "metadata": {
      "application/vnd.bokehjs_exec.v0+json": {
       "id": "489260e9-d196-4c18-8688-b37febd97efe"
      }
     },
     "output_type": "display_data"
    },
    {
     "name": "stdout",
     "output_type": "stream",
     "text": [
      "FIGURE. Cooling rate profiles.\n"
     ]
    },
    {
     "data": {
      "text/html": [
       "<a id=\"Flux_Comparison\"></a>"
      ],
      "text/plain": [
       "<IPython.core.display.HTML object>"
      ]
     },
     "metadata": {},
     "output_type": "display_data"
    },
    {
     "data": {
      "text/markdown": [
       "# Flux Comparison"
      ],
      "text/plain": [
       "<IPython.core.display.Markdown object>"
      ]
     },
     "metadata": {},
     "output_type": "display_data"
    },
    {
     "data": {
      "text/html": [
       "<div>\n",
       "<style scoped>\n",
       "    .dataframe tbody tr th:only-of-type {\n",
       "        vertical-align: middle;\n",
       "    }\n",
       "\n",
       "    .dataframe tbody tr th {\n",
       "        vertical-align: top;\n",
       "    }\n",
       "\n",
       "    .dataframe thead th {\n",
       "        text-align: right;\n",
       "    }\n",
       "</style>\n",
       "<table border=\"1\" class=\"dataframe\">\n",
       "  <thead>\n",
       "    <tr style=\"text-align: right;\">\n",
       "      <th></th>\n",
       "      <th></th>\n",
       "      <th>flug</th>\n",
       "      <th>fldg</th>\n",
       "      <th>fnetg</th>\n",
       "    </tr>\n",
       "    <tr>\n",
       "      <th>pressure</th>\n",
       "      <th>level</th>\n",
       "      <th></th>\n",
       "      <th></th>\n",
       "      <th></th>\n",
       "    </tr>\n",
       "  </thead>\n",
       "  <tbody>\n",
       "    <tr>\n",
       "      <th>0.0000</th>\n",
       "      <th>1</th>\n",
       "      <td>-30.744163</td>\n",
       "      <td>0.000000</td>\n",
       "      <td>-30.744163</td>\n",
       "    </tr>\n",
       "    <tr>\n",
       "      <th>1.0685</th>\n",
       "      <th>24</th>\n",
       "      <td>-30.744144</td>\n",
       "      <td>0.000073</td>\n",
       "      <td>-30.744071</td>\n",
       "    </tr>\n",
       "    <tr>\n",
       "      <th>1013.0000</th>\n",
       "      <th>76</th>\n",
       "      <td>-32.637543</td>\n",
       "      <td>11.105921</td>\n",
       "      <td>-21.531622</td>\n",
       "    </tr>\n",
       "  </tbody>\n",
       "</table>\n",
       "</div>"
      ],
      "text/plain": [
       "                      flug       fldg      fnetg\n",
       "pressure  level                                 \n",
       "0.0000    1     -30.744163   0.000000 -30.744163\n",
       "1.0685    24    -30.744144   0.000073 -30.744071\n",
       "1013.0000 76    -32.637543  11.105921 -21.531622"
      ]
     },
     "metadata": {},
     "output_type": "display_data"
    },
    {
     "name": "stdout",
     "output_type": "stream",
     "text": [
      "Table. Fluxes. CRD\n"
     ]
    },
    {
     "data": {
      "text/html": [
       "<div>\n",
       "<style scoped>\n",
       "    .dataframe tbody tr th:only-of-type {\n",
       "        vertical-align: middle;\n",
       "    }\n",
       "\n",
       "    .dataframe tbody tr th {\n",
       "        vertical-align: top;\n",
       "    }\n",
       "\n",
       "    .dataframe thead th {\n",
       "        text-align: right;\n",
       "    }\n",
       "</style>\n",
       "<table border=\"1\" class=\"dataframe\">\n",
       "  <thead>\n",
       "    <tr style=\"text-align: right;\">\n",
       "      <th></th>\n",
       "      <th></th>\n",
       "      <th>flug</th>\n",
       "      <th>fldg</th>\n",
       "      <th>fnetg</th>\n",
       "    </tr>\n",
       "    <tr>\n",
       "      <th>pressure</th>\n",
       "      <th>level</th>\n",
       "      <th></th>\n",
       "      <th></th>\n",
       "      <th></th>\n",
       "    </tr>\n",
       "  </thead>\n",
       "  <tbody>\n",
       "    <tr>\n",
       "      <th>0.0000</th>\n",
       "      <th>1</th>\n",
       "      <td>-30.783483</td>\n",
       "      <td>0.000000</td>\n",
       "      <td>-30.783483</td>\n",
       "    </tr>\n",
       "    <tr>\n",
       "      <th>1.0685</th>\n",
       "      <th>24</th>\n",
       "      <td>-30.783476</td>\n",
       "      <td>0.000037</td>\n",
       "      <td>-30.783439</td>\n",
       "    </tr>\n",
       "    <tr>\n",
       "      <th>1013.0000</th>\n",
       "      <th>76</th>\n",
       "      <td>-32.637543</td>\n",
       "      <td>11.077123</td>\n",
       "      <td>-21.560421</td>\n",
       "    </tr>\n",
       "  </tbody>\n",
       "</table>\n",
       "</div>"
      ],
      "text/plain": [
       "                      flug       fldg      fnetg\n",
       "pressure  level                                 \n",
       "0.0000    1     -30.783483   0.000000 -30.783483\n",
       "1.0685    24    -30.783476   0.000037 -30.783439\n",
       "1013.0000 76    -32.637543  11.077123 -21.560421"
      ]
     },
     "metadata": {},
     "output_type": "display_data"
    },
    {
     "name": "stdout",
     "output_type": "stream",
     "text": [
      "Table. Fluxes. WGT igg=10 wgt_flux=1\n"
     ]
    },
    {
     "data": {
      "text/html": [
       "<div>\n",
       "<style scoped>\n",
       "    .dataframe tbody tr th:only-of-type {\n",
       "        vertical-align: middle;\n",
       "    }\n",
       "\n",
       "    .dataframe tbody tr th {\n",
       "        vertical-align: top;\n",
       "    }\n",
       "\n",
       "    .dataframe thead th {\n",
       "        text-align: right;\n",
       "    }\n",
       "</style>\n",
       "<table border=\"1\" class=\"dataframe\">\n",
       "  <thead>\n",
       "    <tr style=\"text-align: right;\">\n",
       "      <th></th>\n",
       "      <th></th>\n",
       "      <th>flug</th>\n",
       "      <th>fldg</th>\n",
       "      <th>fnetg</th>\n",
       "    </tr>\n",
       "    <tr>\n",
       "      <th>pressure</th>\n",
       "      <th>level</th>\n",
       "      <th></th>\n",
       "      <th></th>\n",
       "      <th></th>\n",
       "    </tr>\n",
       "  </thead>\n",
       "  <tbody>\n",
       "    <tr>\n",
       "      <th>1.000000e-08</th>\n",
       "      <th>1</th>\n",
       "      <td>-30.806082</td>\n",
       "      <td>0.000001</td>\n",
       "      <td>-30.806081</td>\n",
       "    </tr>\n",
       "    <tr>\n",
       "      <th>1.068500e+00</th>\n",
       "      <th>24</th>\n",
       "      <td>-30.806078</td>\n",
       "      <td>0.000031</td>\n",
       "      <td>-30.806047</td>\n",
       "    </tr>\n",
       "    <tr>\n",
       "      <th>1.013000e+03</th>\n",
       "      <th>76</th>\n",
       "      <td>-32.637540</td>\n",
       "      <td>11.172772</td>\n",
       "      <td>-21.464768</td>\n",
       "    </tr>\n",
       "  </tbody>\n",
       "</table>\n",
       "</div>"
      ],
      "text/plain": [
       "                         flug       fldg      fnetg\n",
       "pressure     level                                 \n",
       "1.000000e-08 1     -30.806082   0.000001 -30.806081\n",
       "1.068500e+00 24    -30.806078   0.000031 -30.806047\n",
       "1.013000e+03 76    -32.637540  11.172772 -21.464768"
      ]
     },
     "metadata": {},
     "output_type": "display_data"
    },
    {
     "name": "stdout",
     "output_type": "stream",
     "text": [
      "Table. Fluxes. CLIRAD\n"
     ]
    },
    {
     "data": {
      "text/html": [
       "<div>\n",
       "<style scoped>\n",
       "    .dataframe tbody tr th:only-of-type {\n",
       "        vertical-align: middle;\n",
       "    }\n",
       "\n",
       "    .dataframe tbody tr th {\n",
       "        vertical-align: top;\n",
       "    }\n",
       "\n",
       "    .dataframe thead th {\n",
       "        text-align: right;\n",
       "    }\n",
       "</style>\n",
       "<table border=\"1\" class=\"dataframe\">\n",
       "  <thead>\n",
       "    <tr style=\"text-align: right;\">\n",
       "      <th></th>\n",
       "      <th></th>\n",
       "      <th>flug</th>\n",
       "      <th>fldg</th>\n",
       "      <th>fnetg</th>\n",
       "    </tr>\n",
       "    <tr>\n",
       "      <th>pressure</th>\n",
       "      <th>level</th>\n",
       "      <th></th>\n",
       "      <th></th>\n",
       "      <th></th>\n",
       "    </tr>\n",
       "  </thead>\n",
       "  <tbody>\n",
       "    <tr>\n",
       "      <th>0.0000</th>\n",
       "      <th>1</th>\n",
       "      <td>-3.931992e-02</td>\n",
       "      <td>0.000000</td>\n",
       "      <td>-0.039320</td>\n",
       "    </tr>\n",
       "    <tr>\n",
       "      <th>1.0685</th>\n",
       "      <th>24</th>\n",
       "      <td>-3.933233e-02</td>\n",
       "      <td>-0.000035</td>\n",
       "      <td>-0.039368</td>\n",
       "    </tr>\n",
       "    <tr>\n",
       "      <th>1013.0000</th>\n",
       "      <th>76</th>\n",
       "      <td>-9.000000e-08</td>\n",
       "      <td>-0.028798</td>\n",
       "      <td>-0.028799</td>\n",
       "    </tr>\n",
       "  </tbody>\n",
       "</table>\n",
       "</div>"
      ],
      "text/plain": [
       "                         flug      fldg     fnetg\n",
       "pressure  level                                  \n",
       "0.0000    1     -3.931992e-02  0.000000 -0.039320\n",
       "1.0685    24    -3.933233e-02 -0.000035 -0.039368\n",
       "1013.0000 76    -9.000000e-08 -0.028798 -0.028799"
      ]
     },
     "metadata": {},
     "output_type": "display_data"
    },
    {
     "name": "stdout",
     "output_type": "stream",
     "text": [
      "Table. Fluxes. (WGT igg=10 wgt_flux=1) - (CRD)\n"
     ]
    },
    {
     "data": {
      "text/html": [
       "<div>\n",
       "<style scoped>\n",
       "    .dataframe tbody tr th:only-of-type {\n",
       "        vertical-align: middle;\n",
       "    }\n",
       "\n",
       "    .dataframe tbody tr th {\n",
       "        vertical-align: top;\n",
       "    }\n",
       "\n",
       "    .dataframe thead th {\n",
       "        text-align: right;\n",
       "    }\n",
       "</style>\n",
       "<table border=\"1\" class=\"dataframe\">\n",
       "  <thead>\n",
       "    <tr style=\"text-align: right;\">\n",
       "      <th></th>\n",
       "      <th></th>\n",
       "      <th>flug</th>\n",
       "      <th>fldg</th>\n",
       "      <th>fnetg</th>\n",
       "    </tr>\n",
       "    <tr>\n",
       "      <th>pressure</th>\n",
       "      <th>level</th>\n",
       "      <th></th>\n",
       "      <th></th>\n",
       "      <th></th>\n",
       "    </tr>\n",
       "  </thead>\n",
       "  <tbody>\n",
       "    <tr>\n",
       "      <th>0.0000</th>\n",
       "      <th>1</th>\n",
       "      <td>-0.061919</td>\n",
       "      <td>0.000001</td>\n",
       "      <td>-0.061918</td>\n",
       "    </tr>\n",
       "    <tr>\n",
       "      <th>1.0685</th>\n",
       "      <th>24</th>\n",
       "      <td>-0.061934</td>\n",
       "      <td>-0.000042</td>\n",
       "      <td>-0.061976</td>\n",
       "    </tr>\n",
       "    <tr>\n",
       "      <th>1013.0000</th>\n",
       "      <th>76</th>\n",
       "      <td>0.000003</td>\n",
       "      <td>0.066851</td>\n",
       "      <td>0.066854</td>\n",
       "    </tr>\n",
       "  </tbody>\n",
       "</table>\n",
       "</div>"
      ],
      "text/plain": [
       "                     flug      fldg     fnetg\n",
       "pressure  level                              \n",
       "0.0000    1     -0.061919  0.000001 -0.061918\n",
       "1.0685    24    -0.061934 -0.000042 -0.061976\n",
       "1013.0000 76     0.000003  0.066851  0.066854"
      ]
     },
     "metadata": {},
     "output_type": "display_data"
    },
    {
     "name": "stdout",
     "output_type": "stream",
     "text": [
      "Table. Fluxes. (CLIRAD) - (CRD)\n"
     ]
    },
    {
     "data": {
      "text/html": [
       "<a id=\"Best-fit_Parameters\"></a>"
      ],
      "text/plain": [
       "<IPython.core.display.HTML object>"
      ]
     },
     "metadata": {},
     "output_type": "display_data"
    },
    {
     "data": {
      "text/markdown": [
       "# Best-fit Parameters"
      ],
      "text/plain": [
       "<IPython.core.display.Markdown object>"
      ]
     },
     "metadata": {},
     "output_type": "display_data"
    },
    {
     "name": "stdout",
     "output_type": "stream",
     "text": [
      "Best-fit values for each (gas, band)\n",
      "------------------------------------\n",
      "o h2o band3c\n",
      "  atmpro = mls\n",
      "  band = 3c\n",
      "  commitnumber = a06b618\n",
      "  conc = None\n",
      "  dv = 0.001\n",
      "  klin = 5e-25\n",
      "  molecule = h2o\n",
      "  ng_adju = [0]\n",
      "  ng_refs = [5]\n",
      "  nv = 1000\n",
      "  option_compute_btable = 0\n",
      "  option_compute_ktable = 1\n",
      "  option_wgt_flux = 1\n",
      "  option_wgt_k = 1\n",
      "  ref_pts = [(600, 250)]\n",
      "  tsfc = 294\n",
      "  vmax = 800\n",
      "  vmin = 720\n",
      "  w_diffuse = [(1.55, 1.6, 1.66, 1.66, 1.8)]\n",
      "  wgt = [(0.5, 0.5, 0.6, 0.7, 0.9)]\n"
     ]
    }
   ],
   "source": [
    "script()"
   ]
  },
  {
   "cell_type": "code",
   "execution_count": 13,
   "metadata": {
    "collapsed": true
   },
   "outputs": [
    {
     "data": {
      "text/html": [
       "<script>\n",
       "code_show=true; \n",
       "function code_toggle() {\n",
       " if (code_show){\n",
       " $('div.input').hide();\n",
       " } else {\n",
       " $('div.input').show();\n",
       " }\n",
       " code_show = !code_show\n",
       "} \n",
       "$( document ).ready(code_toggle);\n",
       "</script>\n",
       "<form action=\"javascript:code_toggle()\"><input type=\"submit\" value=\"Click here to toggle on/off the raw code.\"></form>"
      ],
      "text/plain": [
       "<IPython.core.display.HTML object>"
      ]
     },
     "execution_count": 13,
     "metadata": {},
     "output_type": "execute_result"
    }
   ],
   "source": [
    "display.HTML('''<script>\n",
    "code_show=true; \n",
    "function code_toggle() {\n",
    " if (code_show){\n",
    " $('div.input').hide();\n",
    " } else {\n",
    " $('div.input').show();\n",
    " }\n",
    " code_show = !code_show\n",
    "} \n",
    "$( document ).ready(code_toggle);\n",
    "</script>\n",
    "<form action=\"javascript:code_toggle()\"><input type=\"submit\" value=\"Click here to toggle on/off the raw code.\"></form>''')"
   ]
  }
 ],
 "metadata": {
  "kernelspec": {
   "display_name": "Python 3",
   "language": "python",
   "name": "python3"
  },
  "language_info": {
   "codemirror_mode": {
    "name": "ipython",
    "version": 3
   },
   "file_extension": ".py",
   "mimetype": "text/x-python",
   "name": "python",
   "nbconvert_exporter": "python",
   "pygments_lexer": "ipython3",
   "version": "3.6.1"
  }
 },
 "nbformat": 4,
 "nbformat_minor": 2
}
