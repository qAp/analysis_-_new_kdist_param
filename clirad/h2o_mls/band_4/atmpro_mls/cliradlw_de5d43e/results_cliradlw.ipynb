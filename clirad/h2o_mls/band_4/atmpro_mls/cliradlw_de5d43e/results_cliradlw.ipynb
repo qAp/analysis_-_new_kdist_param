{
 "cells": [
  {
   "cell_type": "code",
   "execution_count": 1,
   "metadata": {
    "collapsed": true
   },
   "outputs": [
    {
     "name": "stdout",
     "output_type": "stream",
     "text": [
      "The history saving thread hit an unexpected error (OperationalError('database is locked',)).History will not be written to the database.\n"
     ]
    }
   ],
   "source": [
    "%matplotlib inline\n",
    "import os\n",
    "import re\n",
    "import io\n",
    "import itertools\n",
    "import pprint\n",
    "\n",
    "from bokeh.io import output_notebook, show\n",
    "from bokeh.layouts import gridplot\n",
    "from bokeh.plotting import figure\n",
    "from bokeh.models import Range1d, Legend\n",
    "from bokeh.palettes import all_palettes\n",
    "\n",
    "import matplotlib\n",
    "import matplotlib.pyplot as plt\n",
    "import numpy as np\n",
    "import pandas as pd\n",
    "import xarray as xr\n",
    "\n",
    "import climatools.lblnew.bestfit_params as bestfits\n",
    "from climatools.lblnew import setup_bestfit, setup_overlap\n",
    "import climatools.lblnew.pipeline as pipe_lblnew\n",
    "import climatools.cliradlw.setup as setup_cliradlw\n",
    "import climatools.cliradlw.pipeline as pipe_cliradlw\n",
    "\n",
    "import climatools.html.html as climahtml\n",
    "from climatools.lblnew.dataio import *\n",
    "from climatools.plot.plot import *\n",
    "\n",
    "\n",
    "import IPython.display as display"
   ]
  },
  {
   "cell_type": "code",
   "execution_count": 2,
   "metadata": {
    "collapsed": true
   },
   "outputs": [],
   "source": [
    "%run param.py"
   ]
  },
  {
   "cell_type": "code",
   "execution_count": 3,
   "metadata": {
    "collapsed": true
   },
   "outputs": [],
   "source": [
    "def load_output_file(path_csv):\n",
    "    '''\n",
    "    Load lblnew output .csv file to xarray.Dataset\n",
    "    \n",
    "    Parameters\n",
    "    ----------\n",
    "    path_csv: str\n",
    "              Path to the .csv file to be loaded.\n",
    "    ds: xarray.Dataset\n",
    "        Data in the input file in the form of an xarray.Dataset.\n",
    "    '''\n",
    "    toindex = ['band', 'pressure', 'igg', 'g']    \n",
    "    df = pd.read_csv(path_csv, sep=r'\\s+')\n",
    "    df = df.set_index([i for i in toindex if i in df.columns])\n",
    "    df = df.rename(columns={'sfu': 'flug',\n",
    "                            'sfd': 'fldg',\n",
    "                            'fnet': 'fnetg',\n",
    "                            'coolr': 'coolrg'})\n",
    "    ds = xr.Dataset.from_dataframe(df)\n",
    "\n",
    "    for l in ('level', 'layer'):\n",
    "        if l in ds.data_vars:\n",
    "            if len(ds[l].dims) > 1:\n",
    "                surface = {d: 0 for d in ds.dims if d != 'pressure'}\n",
    "                coord_level = ds[l][surface]\n",
    "                ds.coords[l] = ('pressure', coord_level)\n",
    "            else:\n",
    "                ds.coords[l] = ('pressure', ds[l])\n",
    "    \n",
    "    return ds"
   ]
  },
  {
   "cell_type": "code",
   "execution_count": 4,
   "metadata": {
    "collapsed": true
   },
   "outputs": [],
   "source": [
    "def lblnew_setup(param=None):\n",
    "    if 'ng_refs' in param:\n",
    "        return {'setup': setup_bestfit,\n",
    "                'fname_flux_crd': 'output_flux.dat',\n",
    "                'fname_cool_crd': 'output_coolr.dat',\n",
    "                'fname_flux_wgt': 'output_wfluxg.dat',\n",
    "                'fname_cool_wgt': 'output_wcoolrg.dat'}\n",
    "    else:\n",
    "        return {'setup': setup_overlap,\n",
    "                'fname_flux_crd': 'output_flux.dat',\n",
    "                'fname_cool_crd': 'output_coolr.dat',\n",
    "                'fname_flux_wgt': 'output_wflux.dat',\n",
    "                'fname_cool_wgt': 'output_wcoolr.dat'}\n",
    "\n",
    "    \n",
    "def load_lblnew_data(param):\n",
    "    \n",
    "    fname_dsname = [('fname_flux_crd', 'ds_flux_crd'),\n",
    "                    ('fname_cool_crd', 'ds_cool_crd'),\n",
    "                    ('fname_flux_wgt', 'ds_flux_wgt'),\n",
    "                    ('fname_cool_wgt', 'ds_cool_wgt')]\n",
    "    \n",
    "    d = lblnew_setup(param)\n",
    "    dir_fortran = pipe_lblnew.get_dir_case(param, setup=d['setup'])\n",
    "    \n",
    "    data_dict = {}\n",
    "    for fname, dsname in fname_dsname:\n",
    "        fpath = os.path.join(dir_fortran, d[fname])\n",
    "        data_dict[dsname] = load_output_file(fpath)\n",
    "    return data_dict\n",
    "    \n",
    "\n",
    "    \n",
    "    "
   ]
  },
  {
   "cell_type": "code",
   "execution_count": 5,
   "metadata": {
    "collapsed": true
   },
   "outputs": [],
   "source": [
    "d = load_lblnew_data(PARAM_LBLNEW)\n",
    "\n",
    "DS_FLUX_CRD = d['ds_flux_crd']\n",
    "DS_COOL_CRD = d['ds_cool_crd']\n",
    "DS_FLUX_WGT = d['ds_flux_wgt']\n",
    "DS_COOL_WGT = d['ds_cool_wgt']"
   ]
  },
  {
   "cell_type": "code",
   "execution_count": 6,
   "metadata": {
    "collapsed": true
   },
   "outputs": [],
   "source": [
    "DIR_FORTRAN = pipe_cliradlw.get_fortran_dir(PARAM, \n",
    "                                            setup=setup_cliradlw)\n",
    "\n",
    "PATH_FLUX = os.path.join(DIR_FORTRAN, 'output_flux.dat')\n",
    "PATH_COOL = os.path.join(DIR_FORTRAN, 'output_coolr.dat')\n",
    "\n",
    "DS_FLUX = load_output_file(PATH_FLUX)\n",
    "DS_COOL = load_output_file(PATH_COOL)"
   ]
  },
  {
   "cell_type": "code",
   "execution_count": 7,
   "metadata": {
    "collapsed": true
   },
   "outputs": [
    {
     "data": {
      "text/html": [
       "\n",
       "    <div class=\"bk-root\">\n",
       "        <a href=\"https://bokeh.pydata.org\" target=\"_blank\" class=\"bk-logo bk-logo-small bk-logo-notebook\"></a>\n",
       "        <span id=\"805d3afd-7b3c-4cec-8fd5-f10b0e643db3\">Loading BokehJS ...</span>\n",
       "    </div>"
      ]
     },
     "metadata": {},
     "output_type": "display_data"
    },
    {
     "data": {
      "application/javascript": [
       "\n",
       "(function(root) {\n",
       "  function now() {\n",
       "    return new Date();\n",
       "  }\n",
       "\n",
       "  var force = true;\n",
       "\n",
       "  if (typeof (root._bokeh_onload_callbacks) === \"undefined\" || force === true) {\n",
       "    root._bokeh_onload_callbacks = [];\n",
       "    root._bokeh_is_loading = undefined;\n",
       "  }\n",
       "\n",
       "  var JS_MIME_TYPE = 'application/javascript';\n",
       "  var HTML_MIME_TYPE = 'text/html';\n",
       "  var EXEC_MIME_TYPE = 'application/vnd.bokehjs_exec.v0+json';\n",
       "  var CLASS_NAME = 'output_bokeh rendered_html';\n",
       "\n",
       "  /**\n",
       "   * Render data to the DOM node\n",
       "   */\n",
       "  function render(props, node) {\n",
       "    var script = document.createElement(\"script\");\n",
       "    node.appendChild(script);\n",
       "  }\n",
       "\n",
       "  /**\n",
       "   * Handle when an output is cleared or removed\n",
       "   */\n",
       "  function handleClearOutput(event, handle) {\n",
       "    var cell = handle.cell;\n",
       "\n",
       "    var id = cell.output_area._bokeh_element_id;\n",
       "    var server_id = cell.output_area._bokeh_server_id;\n",
       "    // Clean up Bokeh references\n",
       "    if (id !== undefined) {\n",
       "      Bokeh.index[id].model.document.clear();\n",
       "      delete Bokeh.index[id];\n",
       "    }\n",
       "\n",
       "    if (server_id !== undefined) {\n",
       "      // Clean up Bokeh references\n",
       "      var cmd = \"from bokeh.io.state import curstate; print(curstate().uuid_to_server['\" + server_id + \"'].get_sessions()[0].document.roots[0]._id)\";\n",
       "      cell.notebook.kernel.execute(cmd, {\n",
       "        iopub: {\n",
       "          output: function(msg) {\n",
       "            var element_id = msg.content.text.trim();\n",
       "            Bokeh.index[element_id].model.document.clear();\n",
       "            delete Bokeh.index[element_id];\n",
       "          }\n",
       "        }\n",
       "      });\n",
       "      // Destroy server and session\n",
       "      var cmd = \"import bokeh.io.notebook as ion; ion.destroy_server('\" + server_id + \"')\";\n",
       "      cell.notebook.kernel.execute(cmd);\n",
       "    }\n",
       "  }\n",
       "\n",
       "  /**\n",
       "   * Handle when a new output is added\n",
       "   */\n",
       "  function handleAddOutput(event, handle) {\n",
       "    var output_area = handle.output_area;\n",
       "    var output = handle.output;\n",
       "\n",
       "    // limit handleAddOutput to display_data with EXEC_MIME_TYPE content only\n",
       "    if ((output.output_type != \"display_data\") || (!output.data.hasOwnProperty(EXEC_MIME_TYPE))) {\n",
       "      return\n",
       "    }\n",
       "\n",
       "    var toinsert = output_area.element.find(\".\" + CLASS_NAME.split(' ')[0]);\n",
       "\n",
       "    if (output.metadata[EXEC_MIME_TYPE][\"id\"] !== undefined) {\n",
       "      toinsert[toinsert.length - 1].firstChild.textContent = output.data[JS_MIME_TYPE];\n",
       "      // store reference to embed id on output_area\n",
       "      output_area._bokeh_element_id = output.metadata[EXEC_MIME_TYPE][\"id\"];\n",
       "    }\n",
       "    if (output.metadata[EXEC_MIME_TYPE][\"server_id\"] !== undefined) {\n",
       "      var bk_div = document.createElement(\"div\");\n",
       "      bk_div.innerHTML = output.data[HTML_MIME_TYPE];\n",
       "      var script_attrs = bk_div.children[0].attributes;\n",
       "      for (var i = 0; i < script_attrs.length; i++) {\n",
       "        toinsert[toinsert.length - 1].firstChild.setAttribute(script_attrs[i].name, script_attrs[i].value);\n",
       "      }\n",
       "      // store reference to server id on output_area\n",
       "      output_area._bokeh_server_id = output.metadata[EXEC_MIME_TYPE][\"server_id\"];\n",
       "    }\n",
       "  }\n",
       "\n",
       "  function register_renderer(events, OutputArea) {\n",
       "\n",
       "    function append_mime(data, metadata, element) {\n",
       "      // create a DOM node to render to\n",
       "      var toinsert = this.create_output_subarea(\n",
       "        metadata,\n",
       "        CLASS_NAME,\n",
       "        EXEC_MIME_TYPE\n",
       "      );\n",
       "      this.keyboard_manager.register_events(toinsert);\n",
       "      // Render to node\n",
       "      var props = {data: data, metadata: metadata[EXEC_MIME_TYPE]};\n",
       "      render(props, toinsert[toinsert.length - 1]);\n",
       "      element.append(toinsert);\n",
       "      return toinsert\n",
       "    }\n",
       "\n",
       "    /* Handle when an output is cleared or removed */\n",
       "    events.on('clear_output.CodeCell', handleClearOutput);\n",
       "    events.on('delete.Cell', handleClearOutput);\n",
       "\n",
       "    /* Handle when a new output is added */\n",
       "    events.on('output_added.OutputArea', handleAddOutput);\n",
       "\n",
       "    /**\n",
       "     * Register the mime type and append_mime function with output_area\n",
       "     */\n",
       "    OutputArea.prototype.register_mime_type(EXEC_MIME_TYPE, append_mime, {\n",
       "      /* Is output safe? */\n",
       "      safe: true,\n",
       "      /* Index of renderer in `output_area.display_order` */\n",
       "      index: 0\n",
       "    });\n",
       "  }\n",
       "\n",
       "  // register the mime type if in Jupyter Notebook environment and previously unregistered\n",
       "  if (root.Jupyter !== undefined) {\n",
       "    var events = require('base/js/events');\n",
       "    var OutputArea = require('notebook/js/outputarea').OutputArea;\n",
       "\n",
       "    if (OutputArea.prototype.mime_types().indexOf(EXEC_MIME_TYPE) == -1) {\n",
       "      register_renderer(events, OutputArea);\n",
       "    }\n",
       "  }\n",
       "\n",
       "  \n",
       "  if (typeof (root._bokeh_timeout) === \"undefined\" || force === true) {\n",
       "    root._bokeh_timeout = Date.now() + 5000;\n",
       "    root._bokeh_failed_load = false;\n",
       "  }\n",
       "\n",
       "  var NB_LOAD_WARNING = {'data': {'text/html':\n",
       "     \"<div style='background-color: #fdd'>\\n\"+\n",
       "     \"<p>\\n\"+\n",
       "     \"BokehJS does not appear to have successfully loaded. If loading BokehJS from CDN, this \\n\"+\n",
       "     \"may be due to a slow or bad network connection. Possible fixes:\\n\"+\n",
       "     \"</p>\\n\"+\n",
       "     \"<ul>\\n\"+\n",
       "     \"<li>re-rerun `output_notebook()` to attempt to load from CDN again, or</li>\\n\"+\n",
       "     \"<li>use INLINE resources instead, as so:</li>\\n\"+\n",
       "     \"</ul>\\n\"+\n",
       "     \"<code>\\n\"+\n",
       "     \"from bokeh.resources import INLINE\\n\"+\n",
       "     \"output_notebook(resources=INLINE)\\n\"+\n",
       "     \"</code>\\n\"+\n",
       "     \"</div>\"}};\n",
       "\n",
       "  function display_loaded() {\n",
       "    var el = document.getElementById(\"805d3afd-7b3c-4cec-8fd5-f10b0e643db3\");\n",
       "    if (el != null) {\n",
       "      el.textContent = \"BokehJS is loading...\";\n",
       "    }\n",
       "    if (root.Bokeh !== undefined) {\n",
       "      if (el != null) {\n",
       "        el.textContent = \"BokehJS \" + root.Bokeh.version + \" successfully loaded.\";\n",
       "      }\n",
       "    } else if (Date.now() < root._bokeh_timeout) {\n",
       "      setTimeout(display_loaded, 100)\n",
       "    }\n",
       "  }\n",
       "\n",
       "\n",
       "  function run_callbacks() {\n",
       "    try {\n",
       "      root._bokeh_onload_callbacks.forEach(function(callback) { callback() });\n",
       "    }\n",
       "    finally {\n",
       "      delete root._bokeh_onload_callbacks\n",
       "    }\n",
       "    console.info(\"Bokeh: all callbacks have finished\");\n",
       "  }\n",
       "\n",
       "  function load_libs(js_urls, callback) {\n",
       "    root._bokeh_onload_callbacks.push(callback);\n",
       "    if (root._bokeh_is_loading > 0) {\n",
       "      console.log(\"Bokeh: BokehJS is being loaded, scheduling callback at\", now());\n",
       "      return null;\n",
       "    }\n",
       "    if (js_urls == null || js_urls.length === 0) {\n",
       "      run_callbacks();\n",
       "      return null;\n",
       "    }\n",
       "    console.log(\"Bokeh: BokehJS not loaded, scheduling load and callback at\", now());\n",
       "    root._bokeh_is_loading = js_urls.length;\n",
       "    for (var i = 0; i < js_urls.length; i++) {\n",
       "      var url = js_urls[i];\n",
       "      var s = document.createElement('script');\n",
       "      s.src = url;\n",
       "      s.async = false;\n",
       "      s.onreadystatechange = s.onload = function() {\n",
       "        root._bokeh_is_loading--;\n",
       "        if (root._bokeh_is_loading === 0) {\n",
       "          console.log(\"Bokeh: all BokehJS libraries loaded\");\n",
       "          run_callbacks()\n",
       "        }\n",
       "      };\n",
       "      s.onerror = function() {\n",
       "        console.warn(\"failed to load library \" + url);\n",
       "      };\n",
       "      console.log(\"Bokeh: injecting script tag for BokehJS library: \", url);\n",
       "      document.getElementsByTagName(\"head\")[0].appendChild(s);\n",
       "    }\n",
       "  };var element = document.getElementById(\"805d3afd-7b3c-4cec-8fd5-f10b0e643db3\");\n",
       "  if (element == null) {\n",
       "    console.log(\"Bokeh: ERROR: autoload.js configured with elementid '805d3afd-7b3c-4cec-8fd5-f10b0e643db3' but no matching script tag was found. \")\n",
       "    return false;\n",
       "  }\n",
       "\n",
       "  var js_urls = [\"https://cdn.pydata.org/bokeh/release/bokeh-0.12.16.min.js\", \"https://cdn.pydata.org/bokeh/release/bokeh-widgets-0.12.16.min.js\", \"https://cdn.pydata.org/bokeh/release/bokeh-tables-0.12.16.min.js\", \"https://cdn.pydata.org/bokeh/release/bokeh-gl-0.12.16.min.js\"];\n",
       "\n",
       "  var inline_js = [\n",
       "    function(Bokeh) {\n",
       "      Bokeh.set_log_level(\"info\");\n",
       "    },\n",
       "    \n",
       "    function(Bokeh) {\n",
       "      \n",
       "    },\n",
       "    function(Bokeh) {\n",
       "      console.log(\"Bokeh: injecting CSS: https://cdn.pydata.org/bokeh/release/bokeh-0.12.16.min.css\");\n",
       "      Bokeh.embed.inject_css(\"https://cdn.pydata.org/bokeh/release/bokeh-0.12.16.min.css\");\n",
       "      console.log(\"Bokeh: injecting CSS: https://cdn.pydata.org/bokeh/release/bokeh-widgets-0.12.16.min.css\");\n",
       "      Bokeh.embed.inject_css(\"https://cdn.pydata.org/bokeh/release/bokeh-widgets-0.12.16.min.css\");\n",
       "      console.log(\"Bokeh: injecting CSS: https://cdn.pydata.org/bokeh/release/bokeh-tables-0.12.16.min.css\");\n",
       "      Bokeh.embed.inject_css(\"https://cdn.pydata.org/bokeh/release/bokeh-tables-0.12.16.min.css\");\n",
       "    }\n",
       "  ];\n",
       "\n",
       "  function run_inline_js() {\n",
       "    \n",
       "    if ((root.Bokeh !== undefined) || (force === true)) {\n",
       "      for (var i = 0; i < inline_js.length; i++) {\n",
       "        inline_js[i].call(root, root.Bokeh);\n",
       "      }if (force === true) {\n",
       "        display_loaded();\n",
       "      }} else if (Date.now() < root._bokeh_timeout) {\n",
       "      setTimeout(run_inline_js, 100);\n",
       "    } else if (!root._bokeh_failed_load) {\n",
       "      console.log(\"Bokeh: BokehJS failed to load within specified timeout.\");\n",
       "      root._bokeh_failed_load = true;\n",
       "    } else if (force !== true) {\n",
       "      var cell = $(document.getElementById(\"805d3afd-7b3c-4cec-8fd5-f10b0e643db3\")).parents('.cell').data().cell;\n",
       "      cell.output_area.append_execute_result(NB_LOAD_WARNING)\n",
       "    }\n",
       "\n",
       "  }\n",
       "\n",
       "  if (root._bokeh_is_loading === 0) {\n",
       "    console.log(\"Bokeh: BokehJS loaded, going straight to plotting\");\n",
       "    run_inline_js();\n",
       "  } else {\n",
       "    load_libs(js_urls, function() {\n",
       "      console.log(\"Bokeh: BokehJS plotting callback run at\", now());\n",
       "      run_inline_js();\n",
       "    });\n",
       "  }\n",
       "}(window));"
      ],
      "application/vnd.bokehjs_load.v0+json": "\n(function(root) {\n  function now() {\n    return new Date();\n  }\n\n  var force = true;\n\n  if (typeof (root._bokeh_onload_callbacks) === \"undefined\" || force === true) {\n    root._bokeh_onload_callbacks = [];\n    root._bokeh_is_loading = undefined;\n  }\n\n  \n\n  \n  if (typeof (root._bokeh_timeout) === \"undefined\" || force === true) {\n    root._bokeh_timeout = Date.now() + 5000;\n    root._bokeh_failed_load = false;\n  }\n\n  var NB_LOAD_WARNING = {'data': {'text/html':\n     \"<div style='background-color: #fdd'>\\n\"+\n     \"<p>\\n\"+\n     \"BokehJS does not appear to have successfully loaded. If loading BokehJS from CDN, this \\n\"+\n     \"may be due to a slow or bad network connection. Possible fixes:\\n\"+\n     \"</p>\\n\"+\n     \"<ul>\\n\"+\n     \"<li>re-rerun `output_notebook()` to attempt to load from CDN again, or</li>\\n\"+\n     \"<li>use INLINE resources instead, as so:</li>\\n\"+\n     \"</ul>\\n\"+\n     \"<code>\\n\"+\n     \"from bokeh.resources import INLINE\\n\"+\n     \"output_notebook(resources=INLINE)\\n\"+\n     \"</code>\\n\"+\n     \"</div>\"}};\n\n  function display_loaded() {\n    var el = document.getElementById(\"805d3afd-7b3c-4cec-8fd5-f10b0e643db3\");\n    if (el != null) {\n      el.textContent = \"BokehJS is loading...\";\n    }\n    if (root.Bokeh !== undefined) {\n      if (el != null) {\n        el.textContent = \"BokehJS \" + root.Bokeh.version + \" successfully loaded.\";\n      }\n    } else if (Date.now() < root._bokeh_timeout) {\n      setTimeout(display_loaded, 100)\n    }\n  }\n\n\n  function run_callbacks() {\n    try {\n      root._bokeh_onload_callbacks.forEach(function(callback) { callback() });\n    }\n    finally {\n      delete root._bokeh_onload_callbacks\n    }\n    console.info(\"Bokeh: all callbacks have finished\");\n  }\n\n  function load_libs(js_urls, callback) {\n    root._bokeh_onload_callbacks.push(callback);\n    if (root._bokeh_is_loading > 0) {\n      console.log(\"Bokeh: BokehJS is being loaded, scheduling callback at\", now());\n      return null;\n    }\n    if (js_urls == null || js_urls.length === 0) {\n      run_callbacks();\n      return null;\n    }\n    console.log(\"Bokeh: BokehJS not loaded, scheduling load and callback at\", now());\n    root._bokeh_is_loading = js_urls.length;\n    for (var i = 0; i < js_urls.length; i++) {\n      var url = js_urls[i];\n      var s = document.createElement('script');\n      s.src = url;\n      s.async = false;\n      s.onreadystatechange = s.onload = function() {\n        root._bokeh_is_loading--;\n        if (root._bokeh_is_loading === 0) {\n          console.log(\"Bokeh: all BokehJS libraries loaded\");\n          run_callbacks()\n        }\n      };\n      s.onerror = function() {\n        console.warn(\"failed to load library \" + url);\n      };\n      console.log(\"Bokeh: injecting script tag for BokehJS library: \", url);\n      document.getElementsByTagName(\"head\")[0].appendChild(s);\n    }\n  };var element = document.getElementById(\"805d3afd-7b3c-4cec-8fd5-f10b0e643db3\");\n  if (element == null) {\n    console.log(\"Bokeh: ERROR: autoload.js configured with elementid '805d3afd-7b3c-4cec-8fd5-f10b0e643db3' but no matching script tag was found. \")\n    return false;\n  }\n\n  var js_urls = [\"https://cdn.pydata.org/bokeh/release/bokeh-0.12.16.min.js\", \"https://cdn.pydata.org/bokeh/release/bokeh-widgets-0.12.16.min.js\", \"https://cdn.pydata.org/bokeh/release/bokeh-tables-0.12.16.min.js\", \"https://cdn.pydata.org/bokeh/release/bokeh-gl-0.12.16.min.js\"];\n\n  var inline_js = [\n    function(Bokeh) {\n      Bokeh.set_log_level(\"info\");\n    },\n    \n    function(Bokeh) {\n      \n    },\n    function(Bokeh) {\n      console.log(\"Bokeh: injecting CSS: https://cdn.pydata.org/bokeh/release/bokeh-0.12.16.min.css\");\n      Bokeh.embed.inject_css(\"https://cdn.pydata.org/bokeh/release/bokeh-0.12.16.min.css\");\n      console.log(\"Bokeh: injecting CSS: https://cdn.pydata.org/bokeh/release/bokeh-widgets-0.12.16.min.css\");\n      Bokeh.embed.inject_css(\"https://cdn.pydata.org/bokeh/release/bokeh-widgets-0.12.16.min.css\");\n      console.log(\"Bokeh: injecting CSS: https://cdn.pydata.org/bokeh/release/bokeh-tables-0.12.16.min.css\");\n      Bokeh.embed.inject_css(\"https://cdn.pydata.org/bokeh/release/bokeh-tables-0.12.16.min.css\");\n    }\n  ];\n\n  function run_inline_js() {\n    \n    if ((root.Bokeh !== undefined) || (force === true)) {\n      for (var i = 0; i < inline_js.length; i++) {\n        inline_js[i].call(root, root.Bokeh);\n      }if (force === true) {\n        display_loaded();\n      }} else if (Date.now() < root._bokeh_timeout) {\n      setTimeout(run_inline_js, 100);\n    } else if (!root._bokeh_failed_load) {\n      console.log(\"Bokeh: BokehJS failed to load within specified timeout.\");\n      root._bokeh_failed_load = true;\n    } else if (force !== true) {\n      var cell = $(document.getElementById(\"805d3afd-7b3c-4cec-8fd5-f10b0e643db3\")).parents('.cell').data().cell;\n      cell.output_area.append_execute_result(NB_LOAD_WARNING)\n    }\n\n  }\n\n  if (root._bokeh_is_loading === 0) {\n    console.log(\"Bokeh: BokehJS loaded, going straight to plotting\");\n    run_inline_js();\n  } else {\n    load_libs(js_urls, function() {\n      console.log(\"Bokeh: BokehJS plotting callback run at\", now());\n      run_inline_js();\n    });\n  }\n}(window));"
     },
     "metadata": {},
     "output_type": "display_data"
    }
   ],
   "source": [
    "output_notebook()"
   ]
  },
  {
   "cell_type": "code",
   "execution_count": 8,
   "metadata": {
    "collapsed": true
   },
   "outputs": [],
   "source": [
    "def fmt_cool(ds_in):\n",
    "    ds = ds_in.copy(deep=True)\n",
    "    if 'igg' in ds.dims:\n",
    "        ds = ds.sel(igg=1)\n",
    "\n",
    "    if 'g' in ds.dims:\n",
    "        ds = ds.sum('g')\n",
    "            \n",
    "    if 'band' in ds.dims:\n",
    "        try:\n",
    "            ds = ds.squeeze('band')\n",
    "        except ValueError:\n",
    "            ds = ds.sum('band')\n",
    "                \n",
    "    return ds['coolrg']\n",
    "\n",
    "\n",
    "def pltdata_cooling_1(ds_cool=None,\n",
    "                      ds_cool_crd=None, ds_cool_wgt=None):\n",
    "    \n",
    "\n",
    "\n",
    "    colors = all_palettes['Set1'][4]\n",
    "    data = [{'label': 'CLIRAD `coolr_bands`',\n",
    "             'srs': fmt_cool(ds_cool),\n",
    "             'line_dash': 'dashed', 'line_width': 5,\n",
    "             'color': colors[0], 'alpha': .6},\n",
    "            {'label': 'CRD',\n",
    "             'srs': fmt_cool(ds_cool_crd),\n",
    "             'line_dash': 'solid', 'line_width': 1.5,\n",
    "             'marker': 'circle', 'marker_size': 5,\n",
    "             'color': colors[2], 'alpha': 1,},\n",
    "            {'label': 'WGT igg=10 wgt_flux=2',\n",
    "             'srs': fmt_cool(ds_cool_wgt),\n",
    "             'line_dash': 'solid', 'line_width': 3,\n",
    "             'marker': 'square', 'marker_size': 5,\n",
    "             'color': colors[3], 'alpha': .6}]\n",
    "    return data\n",
    "\n",
    "\n",
    "def nice_xlims(pltdata=None, prange=None):\n",
    "    \n",
    "    def get_slice(srs):\n",
    "        return srs.sel(pressure=slice(*prange))\n",
    "    \n",
    "    srss = [d['srs'] for d in pltdata]\n",
    "    vmin = min([get_slice(srs).min() for srs in srss])\n",
    "    vmax = max([get_slice(srs).max() for srs in srss])\n",
    "    dv = (vmax - vmin) * .01\n",
    "    return float(vmin - dv), float(vmax + dv)\n",
    "    \n",
    "\n",
    "def plt_cooling_bokeh(pltdata=None):\n",
    "    '''\n",
    "    Plot a list of cooling rate profiles using bokeh.\n",
    "    '''\n",
    "    ymin = 1e-2 \n",
    "    ymax = 1020 \n",
    "        \n",
    "    p1 = figure(title=\"Linear pressure scale\", \n",
    "                plot_width=400)        \n",
    "    xmin, xmax = nice_xlims(pltdata, prange=(50, 1050))\n",
    "    for d in pltdata:\n",
    "        if 'marker' in d:\n",
    "            getattr(p1, d['marker'])(d['srs'].values, \n",
    "                    d['srs'].coords['pressure'].values,\n",
    "                    color=d['color'], alpha=.7)\n",
    "        p1.line(d['srs'].values, \n",
    "                d['srs'].coords['pressure'].values,\n",
    "                color=d['color'], alpha=d['alpha'], \n",
    "                line_width=d['line_width'], line_dash=d['line_dash'])\n",
    "    \n",
    "    p1.y_range = Range1d(ymax, ymin)\n",
    "    p1.yaxis.axis_label = 'pressure [mb]'   \n",
    "    p1.x_range = Range1d(xmin, xmax)\n",
    "    p1.xaxis.axis_label = 'cooling rate [K/day]'\n",
    "            \n",
    "    p2 = figure(title='Log pressure scale', y_axis_type='log',\n",
    "                plot_width=560)\n",
    "    xmin, xmax = nice_xlims(pltdata, prange=(.01, 200))\n",
    "    \n",
    "    rs = []\n",
    "    for d in pltdata:\n",
    "        rd = []\n",
    "        if 'marker' in d:\n",
    "            r_mark = getattr(p2, d['marker'])(d['srs'].values, \n",
    "                        d['srs'].coords['pressure'].values,\n",
    "                        color=d['color'], alpha=.7)\n",
    "            rd.append(r_mark)\n",
    "        r_line = p2.line(d['srs'].values, \n",
    "                    d['srs'].coords['pressure'].values,\n",
    "                    color=d['color'], alpha=d['alpha'], \n",
    "                    line_width=d['line_width'], line_dash=d['line_dash'])\n",
    "        rd.append(r_line)\n",
    "      \n",
    "        rs.append(rd)\n",
    "        \n",
    "    p2.y_range = Range1d(ymax, ymin)  \n",
    "    p2.yaxis.axis_label = 'pressure [mb]'\n",
    "    \n",
    "    p2.x_range = Range1d(xmin, xmax)\n",
    "    p2.xaxis.axis_label = 'cooling rate [K/day]'\n",
    "    \n",
    "    items = [(d['label'], r) for r, d in zip(rs, pltdata)]\n",
    "    legend = Legend(items=items, location=(10, -30))\n",
    "    legend.label_text_font_size = '8pt'\n",
    "    \n",
    "    p2.add_layout(legend, 'right')  \n",
    "    \n",
    "    show(gridplot(p1, p2, ncols=2, plot_height=500))\n",
    "    \n",
    "\n",
    "def script_plt_cooling():\n",
    "    pltdata = pltdata_cooling_1(\n",
    "        ds_cool=DS_COOL,\n",
    "        ds_cool_crd=DS_COOL_CRD,\n",
    "        ds_cool_wgt=DS_COOL_WGT)\n",
    "    plt_cooling_bokeh(pltdata=pltdata)\n",
    "    print('''FIGURE. Cooling rate profiles.''')"
   ]
  },
  {
   "cell_type": "code",
   "execution_count": 9,
   "metadata": {
    "collapsed": true
   },
   "outputs": [],
   "source": [
    "def fmt_flux(ds_in):\n",
    "    ds = ds_in.copy(deep=True)\n",
    "    \n",
    "    for l in ('level', 'layer'):\n",
    "        if l in ds.data_vars:\n",
    "            if len(ds[l].dims) > 1:\n",
    "                surface = {d: 0 for d in ds.dims if d != 'pressure'}\n",
    "                coord_level = ds[l][surface]\n",
    "                ds.coords[l] = ('pressure', coord_level)\n",
    "            else:\n",
    "                ds.coords[l] = ('pressure', ds[l])\n",
    "        \n",
    "    ds = ds.isel(pressure=[0, 23, -1])\n",
    "        \n",
    "    if 'igg' in ds.dims:\n",
    "        ds = ds.sel(igg=[1])\n",
    "        ds = ds.squeeze('igg').drop('igg')\n",
    "    \n",
    "    if 'g' in ds.dims:\n",
    "        ds = ds.sum('g')\n",
    "            \n",
    "    if 'band' in ds.dims:\n",
    "        try:\n",
    "            ds = ds.squeeze('band').drop('band')\n",
    "        except ValueError:\n",
    "            ds = ds.sum('band')\n",
    "                \n",
    "    df = ds.to_dataframe()\n",
    "    df = df.set_index('level', append=True)               \n",
    "    return df\n",
    "\n",
    "\n",
    "def tbdata_flux(ds_flux=None, ds_flux_crd=None, ds_flux_wgt=None):\n",
    "    ilevels = [0, 23, -1]\n",
    "            \n",
    "    benchmark = {'label': 'CRD',\n",
    "                 'df': fmt_flux(ds_flux_crd)}\n",
    "    \n",
    "    tbs = [{'label': 'WGT igg=10 wgt_flux=1',\n",
    "            'df': fmt_flux(ds_flux_wgt)},\n",
    "           {'label': 'CLIRAD',\n",
    "            'df': fmt_flux(ds_flux)}]\n",
    "    \n",
    "    data = {'benchmark': benchmark, 'others': tbs}\n",
    "    return data\n",
    "\n",
    "\n",
    "def tb_flux(tbdata=None):\n",
    "    benchmark = tbdata['benchmark']\n",
    "    others = tbdata['others']\n",
    "    \n",
    "    def show_tb(d=None):\n",
    "        display.display(d['df'])\n",
    "        print('Table.', 'Fluxes.', d['label'])\n",
    "        \n",
    "    def show_tbdiff(d0=None, d=None):\n",
    "        df = d['df']\n",
    "        df.index = d0['df'].index\n",
    "        display.display(df - d0['df'])\n",
    "        print('Table.', 'Fluxes.', \n",
    "              '({}) - ({})'.format(d['label'], d0['label']))\n",
    "        \n",
    "    show_tb(benchmark)\n",
    "    for d in others:\n",
    "        show_tb(d)\n",
    "        \n",
    "    for d in others:\n",
    "        show_tbdiff(d=d, d0=benchmark)\n",
    "        \n",
    "        \n",
    "def script_tb_flux():\n",
    "    data = tbdata_flux(ds_flux=DS_FLUX,\n",
    "                       ds_flux_crd=DS_FLUX_CRD,\n",
    "                       ds_flux_wgt=DS_FLUX_WGT)\n",
    "    tb_flux(tbdata=data)"
   ]
  },
  {
   "cell_type": "code",
   "execution_count": 10,
   "metadata": {
    "collapsed": true
   },
   "outputs": [],
   "source": [
    "def band_map():\n",
    "    '''\n",
    "    Maps spectral bands in lblnew to spectral bands in clirad.\n",
    "    '''\n",
    "    lblnew2clirad = {'1': '1',\n",
    "            '2': '2',\n",
    "            '3a': '3',\n",
    "            '3b': '4',\n",
    "            '3c': '5',\n",
    "            '4': '6', \n",
    "            '5': '7',\n",
    "            '6': '8',\n",
    "            '7': '9', \n",
    "            '8': '10',\n",
    "            '9': '11'}\n",
    "    \n",
    "    clirad2lblnew = {clirad: lblnew \n",
    "                     for lblnew, clirad in lblnew2clirad.items()}\n",
    "    return clirad2lblnew\n",
    "\n",
    "\n",
    "def gasbands():\n",
    "    bmap = band_map()\n",
    "    gases = list(PARAM['molecule'].keys())\n",
    "    \n",
    "    bands = [bmap[str(b)] for b in PARAM['band']]\n",
    "    return list(itertools.product(gases, bands))\n",
    "\n",
    "\n",
    "def print_bestfit_params():\n",
    "    print('Best-fit values for each (gas, band)')\n",
    "    print('------------------------------------')\n",
    "    for gas, band in gasbands():\n",
    "        print('o {} band{}'.format(gas, band))\n",
    "        param = bestfits.kdist_params(molecule=gas, band=band)\n",
    "        for name, value in sorted(param.items()):\n",
    "            print(2 * ' ' + '{} = {}'.format(name, value))\n",
    "\n",
    "        \n",
    "def print_input_param():        \n",
    "    for name, value in PARAM.items():\n",
    "        print('{} = {}'.format(name, value))\n",
    "        \n",
    "        \n",
    "def print_lblnew_param():\n",
    "    for name, value in sorted(PARAM_LBLNEW.items()):\n",
    "        print('{} = {}'.format(name, value))\n"
   ]
  },
  {
   "cell_type": "code",
   "execution_count": 11,
   "metadata": {
    "collapsed": true,
    "scrolled": false
   },
   "outputs": [],
   "source": [
    "def show_html(s):\n",
    "    display.display(display.HTML(s))\n",
    "\n",
    "    \n",
    "def show_markdown(s):\n",
    "    display.display(display.Markdown(s))\n",
    "\n",
    "    \n",
    "def script():\n",
    "    \n",
    "    title = '### CLIRAD-LW'\n",
    "    s_input = 'Input Parameters'\n",
    "    s_lblnew_param = 'LBLNEW case compaired against'\n",
    "    s_bestfits = 'Best-fit Parameters'\n",
    "    s_plt_cooling = 'Cooling Rate Profiles'\n",
    "    s_tb_flux = 'Flux Comparison'\n",
    "    \n",
    "    # title\n",
    "    show_markdown('### CLIRAD-LW')\n",
    "    \n",
    "    # TOC\n",
    "    show_markdown('### Table of Contents')\n",
    "    show_html(climahtml.getHTML_hrefanchor(s_input))\n",
    "    show_html(climahtml.getHTML_hrefanchor(s_lblnew_param))\n",
    "    show_html(climahtml.getHTML_hrefanchor(s_plt_cooling))\n",
    "    show_html(climahtml.getHTML_hrefanchor(s_tb_flux))\n",
    "    show_html(climahtml.getHTML_hrefanchor(s_bestfits))\n",
    "    \n",
    "    # Input parameters\n",
    "    show_html(climahtml.getHTML_idanchor(s_input))\n",
    "    show_markdown(climahtml.getMarkdown_sectitle(s_input))\n",
    "    print_input_param()\n",
    "    \n",
    "    # LBLNEW parameters \n",
    "    show_html(climahtml.getHTML_idanchor(s_lblnew_param))\n",
    "    show_markdown(climahtml.getMarkdown_sectitle(s_lblnew_param))\n",
    "    print_lblnew_param()\n",
    "    \n",
    "    # Cooling rate profiles\n",
    "    show_html(climahtml.getHTML_idanchor(s_plt_cooling))\n",
    "    show_markdown(climahtml.getMarkdown_sectitle(s_plt_cooling))\n",
    "    script_plt_cooling()\n",
    "    \n",
    "    # Flux comparison\n",
    "    show_html(climahtml.getHTML_idanchor(s_tb_flux))\n",
    "    show_markdown(climahtml.getMarkdown_sectitle(s_tb_flux))\n",
    "    script_tb_flux()\n",
    "    \n",
    "    # Best-fit values\n",
    "    show_html(climahtml.getHTML_idanchor(s_bestfits))\n",
    "    show_markdown(climahtml.getMarkdown_sectitle(s_bestfits))\n",
    "    print_bestfit_params()\n",
    "   \n",
    "    "
   ]
  },
  {
   "cell_type": "code",
   "execution_count": 12,
   "metadata": {
    "collapsed": true,
    "scrolled": false
   },
   "outputs": [
    {
     "data": {
      "text/markdown": [
       "### CLIRAD-LW"
      ],
      "text/plain": [
       "<IPython.core.display.Markdown object>"
      ]
     },
     "metadata": {},
     "output_type": "display_data"
    },
    {
     "data": {
      "text/markdown": [
       "### Table of Contents"
      ],
      "text/plain": [
       "<IPython.core.display.Markdown object>"
      ]
     },
     "metadata": {},
     "output_type": "display_data"
    },
    {
     "data": {
      "text/html": [
       "<a href=\"#Input_Parameters\">Input Parameters</a>"
      ],
      "text/plain": [
       "<IPython.core.display.HTML object>"
      ]
     },
     "metadata": {},
     "output_type": "display_data"
    },
    {
     "data": {
      "text/html": [
       "<a href=\"#LBLNEW_case_compaired_against\">LBLNEW case compaired against</a>"
      ],
      "text/plain": [
       "<IPython.core.display.HTML object>"
      ]
     },
     "metadata": {},
     "output_type": "display_data"
    },
    {
     "data": {
      "text/html": [
       "<a href=\"#Cooling_Rate_Profiles\">Cooling Rate Profiles</a>"
      ],
      "text/plain": [
       "<IPython.core.display.HTML object>"
      ]
     },
     "metadata": {},
     "output_type": "display_data"
    },
    {
     "data": {
      "text/html": [
       "<a href=\"#Flux_Comparison\">Flux Comparison</a>"
      ],
      "text/plain": [
       "<IPython.core.display.HTML object>"
      ]
     },
     "metadata": {},
     "output_type": "display_data"
    },
    {
     "data": {
      "text/html": [
       "<a href=\"#Best-fit_Parameters\">Best-fit Parameters</a>"
      ],
      "text/plain": [
       "<IPython.core.display.HTML object>"
      ]
     },
     "metadata": {},
     "output_type": "display_data"
    },
    {
     "data": {
      "text/html": [
       "<a id=\"Input_Parameters\"></a>"
      ],
      "text/plain": [
       "<IPython.core.display.HTML object>"
      ]
     },
     "metadata": {},
     "output_type": "display_data"
    },
    {
     "data": {
      "text/markdown": [
       "# Input Parameters"
      ],
      "text/plain": [
       "<IPython.core.display.Markdown object>"
      ]
     },
     "metadata": {},
     "output_type": "display_data"
    },
    {
     "name": "stdout",
     "output_type": "stream",
     "text": [
      "atmpro = mls\n",
      "band = [4]\n",
      "commitnumber = de5d43e\n",
      "molecule = {'h2o': 'atmpro'}\n",
      "tsfc = 294\n"
     ]
    },
    {
     "data": {
      "text/html": [
       "<a id=\"LBLNEW_case_compaired_against\"></a>"
      ],
      "text/plain": [
       "<IPython.core.display.HTML object>"
      ]
     },
     "metadata": {},
     "output_type": "display_data"
    },
    {
     "data": {
      "text/markdown": [
       "# LBLNEW case compaired against"
      ],
      "text/plain": [
       "<IPython.core.display.Markdown object>"
      ]
     },
     "metadata": {},
     "output_type": "display_data"
    },
    {
     "name": "stdout",
     "output_type": "stream",
     "text": [
      "atmpro = mls\n",
      "band = 3b\n",
      "commitnumber = 5014a19\n",
      "conc = None\n",
      "dv = 0.001\n",
      "klin = 1e-24\n",
      "molecule = h2o\n",
      "ng_adju = [0]\n",
      "ng_refs = [6]\n",
      "nv = 1000\n",
      "option_compute_btable = 0\n",
      "option_compute_ktable = 0\n",
      "option_wgt_flux = 1\n",
      "option_wgt_k = 1\n",
      "ref_pts = [(600, 250)]\n",
      "tsfc = 294\n",
      "vmax = 720\n",
      "vmin = 620\n",
      "w_diffuse = [(1.66, 1.66, 1.66, 1.55, 1.5, 1.66)]\n",
      "wgt = [(0.8, 0.8, 0.8, 0.6, 0.6, 0.9)]\n"
     ]
    },
    {
     "data": {
      "text/html": [
       "<a id=\"Cooling_Rate_Profiles\"></a>"
      ],
      "text/plain": [
       "<IPython.core.display.HTML object>"
      ]
     },
     "metadata": {},
     "output_type": "display_data"
    },
    {
     "data": {
      "text/markdown": [
       "# Cooling Rate Profiles"
      ],
      "text/plain": [
       "<IPython.core.display.Markdown object>"
      ]
     },
     "metadata": {},
     "output_type": "display_data"
    },
    {
     "data": {
      "text/html": [
       "\n",
       "<div class=\"bk-root\">\n",
       "    <div class=\"bk-plotdiv\" id=\"7e811a4b-2ea3-48c6-8eed-6fac6e1610b3\"></div>\n",
       "</div>"
      ]
     },
     "metadata": {},
     "output_type": "display_data"
    },
    {
     "data": {
      "application/javascript": [
       "(function(root) {\n",
       "  function embed_document(root) {\n",
       "    \n",
       "  var docs_json = {\"ce0a1c43-9382-43cb-870f-7bc1a20a64b2\":{\"roots\":{\"references\":[{\"attributes\":{\"source\":{\"id\":\"699bc0ed-59fb-4fe9-aa5e-6b64aff793e0\",\"type\":\"ColumnDataSource\"}},\"id\":\"54a91075-1c2b-4e1d-bdea-cd77b0a45e63\",\"type\":\"CDSView\"},{\"attributes\":{\"bottom_units\":\"screen\",\"fill_alpha\":{\"value\":0.5},\"fill_color\":{\"value\":\"lightgrey\"},\"left_units\":\"screen\",\"level\":\"overlay\",\"line_alpha\":{\"value\":1.0},\"line_color\":{\"value\":\"black\"},\"line_dash\":[4,4],\"line_width\":{\"value\":2},\"plot\":null,\"render_mode\":\"css\",\"right_units\":\"screen\",\"top_units\":\"screen\"},\"id\":\"277a924e-7b67-4f12-bf1c-95f2165df827\",\"type\":\"BoxAnnotation\"},{\"attributes\":{\"data_source\":{\"id\":\"699bc0ed-59fb-4fe9-aa5e-6b64aff793e0\",\"type\":\"ColumnDataSource\"},\"glyph\":{\"id\":\"03cd5dd2-5934-4fbc-9359-c41201b77917\",\"type\":\"Circle\"},\"hover_glyph\":null,\"muted_glyph\":null,\"nonselection_glyph\":{\"id\":\"02506a58-f76e-4587-9e10-94b53407eb6c\",\"type\":\"Circle\"},\"selection_glyph\":null,\"view\":{\"id\":\"54a91075-1c2b-4e1d-bdea-cd77b0a45e63\",\"type\":\"CDSView\"}},\"id\":\"7d94fac7-44a5-442c-9084-51e96623f9a8\",\"type\":\"GlyphRenderer\"},{\"attributes\":{\"axis_label\":\"cooling rate [K/day]\",\"formatter\":{\"id\":\"f0dfa730-6d02-4063-bea3-cb876b05e4ef\",\"type\":\"BasicTickFormatter\"},\"plot\":{\"id\":\"cd48f551-6f18-4b63-8469-b842c089d7fe\",\"subtype\":\"Figure\",\"type\":\"Plot\"},\"ticker\":{\"id\":\"708bad5e-8761-425a-9fa9-d94c217b8c2c\",\"type\":\"BasicTicker\"}},\"id\":\"9b29d9eb-7eff-4d7d-bd02-5219bdbe87aa\",\"type\":\"LinearAxis\"},{\"attributes\":{\"source\":{\"id\":\"e4e91d46-f9c6-4b9a-8c11-a1f886604613\",\"type\":\"ColumnDataSource\"}},\"id\":\"c22d5d34-6226-4e77-b9ea-c1f6c9310c44\",\"type\":\"CDSView\"},{\"attributes\":{\"source\":{\"id\":\"2d249fa5-fc05-485e-84bf-be8925a88c66\",\"type\":\"ColumnDataSource\"}},\"id\":\"deeddead-6ef5-461d-affb-e436818b655b\",\"type\":\"CDSView\"},{\"attributes\":{},\"id\":\"6e27ee9c-627b-4ad2-9214-e72000ed9469\",\"type\":\"HelpTool\"},{\"attributes\":{},\"id\":\"bc5b0a89-4001-4af3-a8e8-3dd8c41d04bc\",\"type\":\"PanTool\"},{\"attributes\":{\"callback\":null,\"end\":0.01,\"start\":1020},\"id\":\"49d1ac34-d27c-4857-b2f2-3281b2648795\",\"type\":\"Range1d\"},{\"attributes\":{},\"id\":\"ac8ea87f-e4cc-4d31-8944-02c98a552a2d\",\"type\":\"LinearScale\"},{\"attributes\":{\"fill_alpha\":{\"value\":0.1},\"fill_color\":{\"value\":\"#1f77b4\"},\"line_alpha\":{\"value\":0.1},\"line_color\":{\"value\":\"#1f77b4\"},\"x\":{\"field\":\"x\"},\"y\":{\"field\":\"y\"}},\"id\":\"02506a58-f76e-4587-9e10-94b53407eb6c\",\"type\":\"Circle\"},{\"attributes\":{\"dimension\":1,\"plot\":{\"id\":\"cd48f551-6f18-4b63-8469-b842c089d7fe\",\"subtype\":\"Figure\",\"type\":\"Plot\"},\"ticker\":{\"id\":\"bf7883b5-4463-42c6-a9b3-777360f7a52d\",\"type\":\"BasicTicker\"}},\"id\":\"2c5bbdd7-b104-4cc8-b5e2-7b2e92850a62\",\"type\":\"Grid\"},{\"attributes\":{\"data_source\":{\"id\":\"30766b03-3396-4cd5-9396-7c77fbaa45b3\",\"type\":\"ColumnDataSource\"},\"glyph\":{\"id\":\"667618f7-9d1d-4557-8b66-e909e81f605a\",\"type\":\"Line\"},\"hover_glyph\":null,\"muted_glyph\":null,\"nonselection_glyph\":{\"id\":\"03c4a944-7e38-4849-b8ef-9f7cee3908e2\",\"type\":\"Line\"},\"selection_glyph\":null,\"view\":{\"id\":\"6c4448c5-be4d-4dd8-9af2-039f19c7c8a3\",\"type\":\"CDSView\"}},\"id\":\"ef2aa094-e9c8-41f6-8ed4-42e68e100b78\",\"type\":\"GlyphRenderer\"},{\"attributes\":{\"callback\":null,\"end\":0.4638713713843,\"start\":-0.0043903698143},\"id\":\"21311a90-8726-488e-8816-86d06f4913bd\",\"type\":\"Range1d\"},{\"attributes\":{\"callback\":null,\"data\":{\"x\":{\"__ndarray__\":\"TJZ2a5ZhJj9YsNPKGEcnP0InpAWvOSk/rwDQLqBaKz8aqgRfM44tP/AkRUhP1C8/+mZ1irkWMT+ipJ8fCU0yP39I6PNjjTM/hajgafzXND+E8o+Mby02PxIdrRZOozc/N/De8NAOOT+VZcMkp546P4+TM2Hwgj8/ix3RNamDRz9hdumSERBTP6ema5koXV0/gkeHpj+1ZT/+UdVBuydvPz26PAfM2HU/krfpcdIEfj82CJE8CQ2DPzo6+HWkbIM/fK58kS82gD/7J8knfT95P2lZOqLUTnM/XZnw4ogPbT8zDCMX2ullP8zmyyA8d2A/+QNSNN1BWD+xVW1PPXVRP3nl7yH4qEk/hGBVT367Qz+KMgbMLs09P+asR9tLsTU/4CGn32KNMT/k3/tCG1QwPyBwKprkbi4/TxtDrQlhMD+upXXJogNCP4vK2XMzlWI/webq4fv6ez/zhcbVZsyPP3QUfuOGxpw/om3T/N8woz9rSu48T6inP2+xpZu6Cq0/Wp7sRl2bsT9YrnBtAuu0P92GUuxBULg/DGpiPR1Suz/1+ofdcnS+P4+42k+iEME/j3DDz/Mywz9CSeteCZrFP7tCX+suOMg/2rCLRhkbzD9uJ4D9OwDQPz2Y2CycytE/cVk63Op10z/QRD9QmAjVP0B6JN/Sj9Y/Iwl3HpgN2D8FfJO2PHjZP/iedr8kwNo/zMnEevDP2z/iSvliforcP/VnW0jHzNw/e3kwPVWn3D9BIxm9xULcP5uxNvmB1Ns/c1SP32qF2z8I/EVdGILbP6yakDeEs9w/\",\"dtype\":\"float64\",\"shape\":[75]},\"y\":{\"__ndarray__\":\"GhExyth1ND/Sv8nbtpRIP2vylNV0PVE/aTum7souWD/At0SJ8fVgPw3Iuahxymc/MSNhhJWvcD/bTfBN02d3P2zb5nxnaoA/CD5h5MAGhz8NmeH1TyaQP+zrCsc9p5Y/LbKd76fGnz/bLW5ISEmmPww9YvTcQq8/JV2OstnstT8Er5Y7M8G+P0c+r3jqkcU/5h99k6ZBzj88bCIzFzjVP4enV8oyxN0//yH99nXg5D8qOpLLf0jtP5kqGJXUifQ/c9cS8kHP/D+/DpwzojQEQIEmwoanVwxA4lgXt9HgE0BSSZ2AJuIbQAMJih9jjiNA5q4l5INuK0AwTKYKRj0zQNv5fmq8/DpAaCJseHrtQkB/+zpwzoxKQM3MzMzMeFJAZmZmZmZqWEAAAAAAAFxeQM3MzMzMJmJAmpmZmZkfZUBmZmZmZhhoQDMzMzMzEWtAAAAAAAAKbkBmZmZmZoFwQM3MzMzM/XFAMzMzMzN6c0CamZmZmfZ0QAAAAAAAc3ZAZmZmZmbvd0DNzMzMzGt5QDMzMzMz6HpAmpmZmZlkfEAAAAAAAOF9QGZmZmZmXX9AZmZmZuZsgECamZmZGSuBQM3MzMxM6YFAAAAAAICngkAzMzMzs2WDQGZmZmbmI4RAmpmZmRnihEDNzMzMTKCFQAAAAACAXoZAMzMzM7Mch0BmZmZm5tqHQJqZmZkZmYhAzczMzExXiUAAAAAAgBWKQDMzMzOz04pAZmZmZuaRi0CamZmZGVCMQM3MzMxMDo1AAAAAAIDMjUAzMzMzs4qOQGZmZmbmSI9A\",\"dtype\":\"float64\",\"shape\":[75]}},\"selected\":{\"id\":\"0da527a2-3535-4063-81ef-aada5b9195ab\",\"type\":\"Selection\"},\"selection_policy\":{\"id\":\"60494f01-4766-4044-9877-d0bb01d13546\",\"type\":\"UnionRenderers\"}},\"id\":\"d543d2d4-b3e0-45df-9bb8-3836c7ec5de0\",\"type\":\"ColumnDataSource\"},{\"attributes\":{},\"id\":\"bf7883b5-4463-42c6-a9b3-777360f7a52d\",\"type\":\"BasicTicker\"},{\"attributes\":{},\"id\":\"3f1dae1d-c91a-421d-8c26-658358b8f1d6\",\"type\":\"ResetTool\"},{\"attributes\":{\"callback\":null,\"data\":{\"x\":{\"__ndarray__\":\"M6yudwLQFj9z+SAiKrsYP5caUQiWDh0/YuYWDe3pID+Iw5/P6l4jP1soRZ1M6yU/drDNyVqPKD/UWBHCQE0rP14KapzvHi4/1B+YKLB/MD9QpBqJavoxP8f7vZ+4iDM//t/BHuoeNT+g9ojZ3ds2PyE3+nykSzw/c3mkX7H2Rj++n3d7udxTP/ZnOAYht18/0asqgFXxZz/eo4n/TGBxP32hZXQ3fHg/OiQRL8rSgD+bsc1lITyFP5GphQnYS4U/5s03W6ZKgT8W2jryJzV6P4HmhKwNXnM/iGABdU9KbD/q595escFkP/N0fu8Op14/Z1Wd7w1gVj+bH72S4hBQP1l/2z1/7Uc/Xcs3sJ7jQj9lJYdO6VE9PyIx7cup+zU/0lsoj+FHMj+lGfqiuTsxP+XI/qT5ODA/YTc4Lz2oMT8HSA+A+B5DPzGqfVxRQWM/6z1gmK/2ez8kOtOdisiOP3UU/EPueps/sZnj395qoj+OctqaR9qmPyar4L+SDqw/7vIp10YCsT+6oeceK1u0P9x2EQ4MDLg/UXbIBxyNuz9moJUoOS+/P2w0iCiJmcE//q9C4+zKwz8oCAVCPirGP2pkHa+8u8g/UhD6oeulzD/EA7EJvFXQP4w2njocPtI/guOVmCUJ1D+J06RvLa7VPzPvYcR4LNc/zkusKRyD2D+GtABMnbDZP50xJ8NMtto/k+ltv76O2z9y6ncfTyTcP3sYGIHKW9w/HanfAXU13D+WSJomCdXbP1cQuc/gZds//JjFelkJ2z+mq+jNsOraP76Qo3Nd/Ns/\",\"dtype\":\"float64\",\"shape\":[75]},\"y\":{\"__ndarray__\":\"GhExyth1ND/Sv8nbtpRIP2vylNV0PVE/aTum7souWD/At0SJ8fVgPw3Iuahxymc/MSNhhJWvcD/bTfBN02d3P2zb5nxnaoA/CD5h5MAGhz8NmeH1TyaQP+zrCsc9p5Y/LbKd76fGnz/bLW5ISEmmPww9YvTcQq8/JV2OstnstT8Er5Y7M8G+P0c+r3jqkcU/5h99k6ZBzj88bCIzFzjVP4enV8oyxN0//yH99nXg5D8qOpLLf0jtP5kqGJXUifQ/c9cS8kHP/D+/DpwzojQEQIEmwoanVwxA4lgXt9HgE0BSSZ2AJuIbQAMJih9jjiNA5q4l5INuK0AwTKYKRj0zQNv5fmq8/DpAaCJseHrtQkB/+zpwzoxKQM3MzMzMeFJAZmZmZmZqWEAAAAAAAFxeQM3MzMzMJmJAmpmZmZkfZUBmZmZmZhhoQDMzMzMzEWtAAAAAAAAKbkBmZmZmZoFwQM3MzMzM/XFAMzMzMzN6c0CamZmZmfZ0QAAAAAAAc3ZAZmZmZmbvd0DNzMzMzGt5QDMzMzMz6HpAmpmZmZlkfEAAAAAAAOF9QGZmZmZmXX9AZmZmZuZsgECamZmZGSuBQM3MzMxM6YFAAAAAAICngkAzMzMzs2WDQGZmZmbmI4RAmpmZmRnihEDNzMzMTKCFQAAAAACAXoZAMzMzM7Mch0BmZmZm5tqHQJqZmZkZmYhAzczMzExXiUAAAAAAgBWKQDMzMzOz04pAZmZmZuaRi0CamZmZGVCMQM3MzMxMDo1AAAAAAIDMjUAzMzMzs4qOQGZmZmbmSI9A\",\"dtype\":\"float64\",\"shape\":[75]}},\"selected\":{\"id\":\"d4ac8366-319e-4f01-9b1e-c62e28b6beb0\",\"type\":\"Selection\"},\"selection_policy\":{\"id\":\"abd0e36a-1f2c-49d2-a295-704f8b1883d7\",\"type\":\"UnionRenderers\"}},\"id\":\"699bc0ed-59fb-4fe9-aa5e-6b64aff793e0\",\"type\":\"ColumnDataSource\"},{\"attributes\":{\"line_color\":\"#4daf4a\",\"line_width\":1.5,\"x\":{\"field\":\"x\"},\"y\":{\"field\":\"y\"}},\"id\":\"44c8ce24-648f-43b6-8da8-21122a9b0d1c\",\"type\":\"Line\"},{\"attributes\":{\"fill_alpha\":{\"value\":0.7},\"fill_color\":{\"value\":\"#4daf4a\"},\"line_alpha\":{\"value\":0.7},\"line_color\":{\"value\":\"#4daf4a\"},\"x\":{\"field\":\"x\"},\"y\":{\"field\":\"y\"}},\"id\":\"03cd5dd2-5934-4fbc-9359-c41201b77917\",\"type\":\"Circle\"},{\"attributes\":{},\"id\":\"efc70f99-3898-40b1-a14f-a041f0dc0045\",\"type\":\"SaveTool\"},{\"attributes\":{\"callback\":null,\"data\":{\"x\":{\"__ndarray__\":\"M6yudwLQFj9z+SAiKrsYP5caUQiWDh0/YuYWDe3pID+Iw5/P6l4jP1soRZ1M6yU/drDNyVqPKD/UWBHCQE0rP14KapzvHi4/1B+YKLB/MD9QpBqJavoxP8f7vZ+4iDM//t/BHuoeNT+g9ojZ3ds2PyE3+nykSzw/c3mkX7H2Rj++n3d7udxTP/ZnOAYht18/0asqgFXxZz/eo4n/TGBxP32hZXQ3fHg/OiQRL8rSgD+bsc1lITyFP5GphQnYS4U/5s03W6ZKgT8W2jryJzV6P4HmhKwNXnM/iGABdU9KbD/q595escFkP/N0fu8Op14/Z1Wd7w1gVj+bH72S4hBQP1l/2z1/7Uc/Xcs3sJ7jQj9lJYdO6VE9PyIx7cup+zU/0lsoj+FHMj+lGfqiuTsxP+XI/qT5ODA/YTc4Lz2oMT8HSA+A+B5DPzGqfVxRQWM/6z1gmK/2ez8kOtOdisiOP3UU/EPueps/sZnj395qoj+OctqaR9qmPyar4L+SDqw/7vIp10YCsT+6oeceK1u0P9x2EQ4MDLg/UXbIBxyNuz9moJUoOS+/P2w0iCiJmcE//q9C4+zKwz8oCAVCPirGP2pkHa+8u8g/UhD6oeulzD/EA7EJvFXQP4w2njocPtI/guOVmCUJ1D+J06RvLa7VPzPvYcR4LNc/zkusKRyD2D+GtABMnbDZP50xJ8NMtto/k+ltv76O2z9y6ncfTyTcP3sYGIHKW9w/HanfAXU13D+WSJomCdXbP1cQuc/gZds//JjFelkJ2z+mq+jNsOraP76Qo3Nd/Ns/\",\"dtype\":\"float64\",\"shape\":[75]},\"y\":{\"__ndarray__\":\"GhExyth1ND/Sv8nbtpRIP2vylNV0PVE/aTum7souWD/At0SJ8fVgPw3Iuahxymc/MSNhhJWvcD/bTfBN02d3P2zb5nxnaoA/CD5h5MAGhz8NmeH1TyaQP+zrCsc9p5Y/LbKd76fGnz/bLW5ISEmmPww9YvTcQq8/JV2OstnstT8Er5Y7M8G+P0c+r3jqkcU/5h99k6ZBzj88bCIzFzjVP4enV8oyxN0//yH99nXg5D8qOpLLf0jtP5kqGJXUifQ/c9cS8kHP/D+/DpwzojQEQIEmwoanVwxA4lgXt9HgE0BSSZ2AJuIbQAMJih9jjiNA5q4l5INuK0AwTKYKRj0zQNv5fmq8/DpAaCJseHrtQkB/+zpwzoxKQM3MzMzMeFJAZmZmZmZqWEAAAAAAAFxeQM3MzMzMJmJAmpmZmZkfZUBmZmZmZhhoQDMzMzMzEWtAAAAAAAAKbkBmZmZmZoFwQM3MzMzM/XFAMzMzMzN6c0CamZmZmfZ0QAAAAAAAc3ZAZmZmZmbvd0DNzMzMzGt5QDMzMzMz6HpAmpmZmZlkfEAAAAAAAOF9QGZmZmZmXX9AZmZmZuZsgECamZmZGSuBQM3MzMxM6YFAAAAAAICngkAzMzMzs2WDQGZmZmbmI4RAmpmZmRnihEDNzMzMTKCFQAAAAACAXoZAMzMzM7Mch0BmZmZm5tqHQJqZmZkZmYhAzczMzExXiUAAAAAAgBWKQDMzMzOz04pAZmZmZuaRi0CamZmZGVCMQM3MzMxMDo1AAAAAAIDMjUAzMzMzs4qOQGZmZmbmSI9A\",\"dtype\":\"float64\",\"shape\":[75]}},\"selected\":{\"id\":\"ddb7e65d-28bc-480c-97db-e9cba0817ddb\",\"type\":\"Selection\"},\"selection_policy\":{\"id\":\"a56b041d-8d85-44aa-b726-0253ad1751b1\",\"type\":\"UnionRenderers\"}},\"id\":\"cd5d9838-7d71-491f-be79-6a31e6f5c7ee\",\"type\":\"ColumnDataSource\"},{\"attributes\":{\"line_alpha\":0.1,\"line_color\":\"#1f77b4\",\"line_width\":1.5,\"x\":{\"field\":\"x\"},\"y\":{\"field\":\"y\"}},\"id\":\"17cb738c-8bc6-462a-8829-61d723e917b7\",\"type\":\"Line\"},{\"attributes\":{\"line_alpha\":0.1,\"line_color\":\"#1f77b4\",\"line_width\":1.5,\"x\":{\"field\":\"x\"},\"y\":{\"field\":\"y\"}},\"id\":\"d1180e91-bf18-4ea7-a660-0a4dfd872028\",\"type\":\"Line\"},{\"attributes\":{\"data_source\":{\"id\":\"cd5d9838-7d71-491f-be79-6a31e6f5c7ee\",\"type\":\"ColumnDataSource\"},\"glyph\":{\"id\":\"44c8ce24-648f-43b6-8da8-21122a9b0d1c\",\"type\":\"Line\"},\"hover_glyph\":null,\"muted_glyph\":null,\"nonselection_glyph\":{\"id\":\"d1180e91-bf18-4ea7-a660-0a4dfd872028\",\"type\":\"Line\"},\"selection_glyph\":null,\"view\":{\"id\":\"50dc0131-2cd2-414d-9944-38c4ce67afde\",\"type\":\"CDSView\"}},\"id\":\"f24fa7e5-c13f-453b-bbb6-3bdb38c66f27\",\"type\":\"GlyphRenderer\"},{\"attributes\":{\"source\":{\"id\":\"30766b03-3396-4cd5-9396-7c77fbaa45b3\",\"type\":\"ColumnDataSource\"}},\"id\":\"6c4448c5-be4d-4dd8-9af2-039f19c7c8a3\",\"type\":\"CDSView\"},{\"attributes\":{\"source\":{\"id\":\"cd5d9838-7d71-491f-be79-6a31e6f5c7ee\",\"type\":\"ColumnDataSource\"}},\"id\":\"50dc0131-2cd2-414d-9944-38c4ce67afde\",\"type\":\"CDSView\"},{\"attributes\":{\"fill_alpha\":{\"value\":0.7},\"fill_color\":{\"value\":\"#984ea3\"},\"line_alpha\":{\"value\":0.7},\"line_color\":{\"value\":\"#984ea3\"},\"x\":{\"field\":\"x\"},\"y\":{\"field\":\"y\"}},\"id\":\"4b89ffb0-0051-4c0e-a16f-ba2f88b594b4\",\"type\":\"Square\"},{\"attributes\":{\"axis_label\":\"pressure [mb]\",\"formatter\":{\"id\":\"9058edef-690a-4cbd-a014-a2da77a71829\",\"type\":\"BasicTickFormatter\"},\"plot\":{\"id\":\"cd48f551-6f18-4b63-8469-b842c089d7fe\",\"subtype\":\"Figure\",\"type\":\"Plot\"},\"ticker\":{\"id\":\"bf7883b5-4463-42c6-a9b3-777360f7a52d\",\"type\":\"BasicTicker\"}},\"id\":\"0088ba1e-469c-4a4e-9758-6dd5aafc5246\",\"type\":\"LinearAxis\"},{\"attributes\":{\"fill_alpha\":{\"value\":0.7},\"fill_color\":{\"value\":\"#4daf4a\"},\"line_alpha\":{\"value\":0.7},\"line_color\":{\"value\":\"#4daf4a\"},\"x\":{\"field\":\"x\"},\"y\":{\"field\":\"y\"}},\"id\":\"b5eadca3-098a-43cf-b586-1eb693d922e5\",\"type\":\"Circle\"},{\"attributes\":{\"callback\":null,\"data\":{\"x\":{\"__ndarray__\":\"TJZ2a5ZhJj9YsNPKGEcnP0InpAWvOSk/rwDQLqBaKz8aqgRfM44tP/AkRUhP1C8/+mZ1irkWMT+ipJ8fCU0yP39I6PNjjTM/hajgafzXND+E8o+Mby02PxIdrRZOozc/N/De8NAOOT+VZcMkp546P4+TM2Hwgj8/ix3RNamDRz9hdumSERBTP6ema5koXV0/gkeHpj+1ZT/+UdVBuydvPz26PAfM2HU/krfpcdIEfj82CJE8CQ2DPzo6+HWkbIM/fK58kS82gD/7J8knfT95P2lZOqLUTnM/XZnw4ogPbT8zDCMX2ullP8zmyyA8d2A/+QNSNN1BWD+xVW1PPXVRP3nl7yH4qEk/hGBVT367Qz+KMgbMLs09P+asR9tLsTU/4CGn32KNMT/k3/tCG1QwPyBwKprkbi4/TxtDrQlhMD+upXXJogNCP4vK2XMzlWI/webq4fv6ez/zhcbVZsyPP3QUfuOGxpw/om3T/N8woz9rSu48T6inP2+xpZu6Cq0/Wp7sRl2bsT9YrnBtAuu0P92GUuxBULg/DGpiPR1Suz/1+ofdcnS+P4+42k+iEME/j3DDz/Mywz9CSeteCZrFP7tCX+suOMg/2rCLRhkbzD9uJ4D9OwDQPz2Y2CycytE/cVk63Op10z/QRD9QmAjVP0B6JN/Sj9Y/Iwl3HpgN2D8FfJO2PHjZP/iedr8kwNo/zMnEevDP2z/iSvliforcP/VnW0jHzNw/e3kwPVWn3D9BIxm9xULcP5uxNvmB1Ns/c1SP32qF2z8I/EVdGILbP6yakDeEs9w/\",\"dtype\":\"float64\",\"shape\":[75]},\"y\":{\"__ndarray__\":\"GhExyth1ND/Sv8nbtpRIP2vylNV0PVE/aTum7souWD/At0SJ8fVgPw3Iuahxymc/MSNhhJWvcD/bTfBN02d3P2zb5nxnaoA/CD5h5MAGhz8NmeH1TyaQP+zrCsc9p5Y/LbKd76fGnz/bLW5ISEmmPww9YvTcQq8/JV2OstnstT8Er5Y7M8G+P0c+r3jqkcU/5h99k6ZBzj88bCIzFzjVP4enV8oyxN0//yH99nXg5D8qOpLLf0jtP5kqGJXUifQ/c9cS8kHP/D+/DpwzojQEQIEmwoanVwxA4lgXt9HgE0BSSZ2AJuIbQAMJih9jjiNA5q4l5INuK0AwTKYKRj0zQNv5fmq8/DpAaCJseHrtQkB/+zpwzoxKQM3MzMzMeFJAZmZmZmZqWEAAAAAAAFxeQM3MzMzMJmJAmpmZmZkfZUBmZmZmZhhoQDMzMzMzEWtAAAAAAAAKbkBmZmZmZoFwQM3MzMzM/XFAMzMzMzN6c0CamZmZmfZ0QAAAAAAAc3ZAZmZmZmbvd0DNzMzMzGt5QDMzMzMz6HpAmpmZmZlkfEAAAAAAAOF9QGZmZmZmXX9AZmZmZuZsgECamZmZGSuBQM3MzMxM6YFAAAAAAICngkAzMzMzs2WDQGZmZmbmI4RAmpmZmRnihEDNzMzMTKCFQAAAAACAXoZAMzMzM7Mch0BmZmZm5tqHQJqZmZkZmYhAzczMzExXiUAAAAAAgBWKQDMzMzOz04pAZmZmZuaRi0CamZmZGVCMQM3MzMxMDo1AAAAAAIDMjUAzMzMzs4qOQGZmZmbmSI9A\",\"dtype\":\"float64\",\"shape\":[75]}},\"selected\":{\"id\":\"815e2f5a-1896-4430-a483-4378584d3813\",\"type\":\"Selection\"},\"selection_policy\":{\"id\":\"bcb37be9-76a6-4ba6-8245-10fc3a26788c\",\"type\":\"UnionRenderers\"}},\"id\":\"165503eb-c9eb-40aa-a260-47f9014a4df4\",\"type\":\"ColumnDataSource\"},{\"attributes\":{},\"id\":\"708bad5e-8761-425a-9fa9-d94c217b8c2c\",\"type\":\"BasicTicker\"},{\"attributes\":{\"fill_alpha\":{\"value\":0.1},\"fill_color\":{\"value\":\"#1f77b4\"},\"line_alpha\":{\"value\":0.1},\"line_color\":{\"value\":\"#1f77b4\"},\"x\":{\"field\":\"x\"},\"y\":{\"field\":\"y\"}},\"id\":\"0f82b4de-6c7a-4166-9161-9e2d898221aa\",\"type\":\"Square\"},{\"attributes\":{\"data_source\":{\"id\":\"d543d2d4-b3e0-45df-9bb8-3836c7ec5de0\",\"type\":\"ColumnDataSource\"},\"glyph\":{\"id\":\"4b89ffb0-0051-4c0e-a16f-ba2f88b594b4\",\"type\":\"Square\"},\"hover_glyph\":null,\"muted_glyph\":null,\"nonselection_glyph\":{\"id\":\"0f82b4de-6c7a-4166-9161-9e2d898221aa\",\"type\":\"Square\"},\"selection_glyph\":null,\"view\":{\"id\":\"e02f518f-239a-4caa-95b3-f5137ba4f26e\",\"type\":\"CDSView\"}},\"id\":\"86c7511c-4446-4b61-aef9-28124ee76294\",\"type\":\"GlyphRenderer\"},{\"attributes\":{\"source\":{\"id\":\"d543d2d4-b3e0-45df-9bb8-3836c7ec5de0\",\"type\":\"ColumnDataSource\"}},\"id\":\"e02f518f-239a-4caa-95b3-f5137ba4f26e\",\"type\":\"CDSView\"},{\"attributes\":{},\"id\":\"9058edef-690a-4cbd-a014-a2da77a71829\",\"type\":\"BasicTickFormatter\"},{\"attributes\":{\"callback\":null,\"data\":{\"x\":{\"__ndarray__\":\"M6yudwLQFj9z+SAiKrsYP5caUQiWDh0/YuYWDe3pID+Iw5/P6l4jP1soRZ1M6yU/drDNyVqPKD/UWBHCQE0rP14KapzvHi4/1B+YKLB/MD9QpBqJavoxP8f7vZ+4iDM//t/BHuoeNT+g9ojZ3ds2PyE3+nykSzw/c3mkX7H2Rj++n3d7udxTP/ZnOAYht18/0asqgFXxZz/eo4n/TGBxP32hZXQ3fHg/OiQRL8rSgD+bsc1lITyFP5GphQnYS4U/5s03W6ZKgT8W2jryJzV6P4HmhKwNXnM/iGABdU9KbD/q595escFkP/N0fu8Op14/Z1Wd7w1gVj+bH72S4hBQP1l/2z1/7Uc/Xcs3sJ7jQj9lJYdO6VE9PyIx7cup+zU/0lsoj+FHMj+lGfqiuTsxP+XI/qT5ODA/YTc4Lz2oMT8HSA+A+B5DPzGqfVxRQWM/6z1gmK/2ez8kOtOdisiOP3UU/EPueps/sZnj395qoj+OctqaR9qmPyar4L+SDqw/7vIp10YCsT+6oeceK1u0P9x2EQ4MDLg/UXbIBxyNuz9moJUoOS+/P2w0iCiJmcE//q9C4+zKwz8oCAVCPirGP2pkHa+8u8g/UhD6oeulzD/EA7EJvFXQP4w2njocPtI/guOVmCUJ1D+J06RvLa7VPzPvYcR4LNc/zkusKRyD2D+GtABMnbDZP50xJ8NMtto/k+ltv76O2z9y6ncfTyTcP3sYGIHKW9w/HanfAXU13D+WSJomCdXbP1cQuc/gZds//JjFelkJ2z+mq+jNsOraP76Qo3Nd/Ns/\",\"dtype\":\"float64\",\"shape\":[75]},\"y\":{\"__ndarray__\":\"GhExyth1ND/Sv8nbtpRIP2vylNV0PVE/aTum7souWD/At0SJ8fVgPw3Iuahxymc/MSNhhJWvcD/bTfBN02d3P2zb5nxnaoA/CD5h5MAGhz8NmeH1TyaQP+zrCsc9p5Y/LbKd76fGnz/bLW5ISEmmPww9YvTcQq8/JV2OstnstT8Er5Y7M8G+P0c+r3jqkcU/5h99k6ZBzj88bCIzFzjVP4enV8oyxN0//yH99nXg5D8qOpLLf0jtP5kqGJXUifQ/c9cS8kHP/D+/DpwzojQEQIEmwoanVwxA4lgXt9HgE0BSSZ2AJuIbQAMJih9jjiNA5q4l5INuK0AwTKYKRj0zQNv5fmq8/DpAaCJseHrtQkB/+zpwzoxKQM3MzMzMeFJAZmZmZmZqWEAAAAAAAFxeQM3MzMzMJmJAmpmZmZkfZUBmZmZmZhhoQDMzMzMzEWtAAAAAAAAKbkBmZmZmZoFwQM3MzMzM/XFAMzMzMzN6c0CamZmZmfZ0QAAAAAAAc3ZAZmZmZmbvd0DNzMzMzGt5QDMzMzMz6HpAmpmZmZlkfEAAAAAAAOF9QGZmZmZmXX9AZmZmZuZsgECamZmZGSuBQM3MzMxM6YFAAAAAAICngkAzMzMzs2WDQGZmZmbmI4RAmpmZmRnihEDNzMzMTKCFQAAAAACAXoZAMzMzM7Mch0BmZmZm5tqHQJqZmZkZmYhAzczMzExXiUAAAAAAgBWKQDMzMzOz04pAZmZmZuaRi0CamZmZGVCMQM3MzMxMDo1AAAAAAIDMjUAzMzMzs4qOQGZmZmbmSI9A\",\"dtype\":\"float64\",\"shape\":[75]}},\"selected\":{\"id\":\"c61c8920-4ed1-488b-990c-a1eab9d97afe\",\"type\":\"Selection\"},\"selection_policy\":{\"id\":\"acbe5b36-84e6-4be6-9d00-7e374f6785a7\",\"type\":\"UnionRenderers\"}},\"id\":\"67a66922-6c7e-4b27-9d88-763c5256a746\",\"type\":\"ColumnDataSource\"},{\"attributes\":{\"label\":{\"value\":\"CLIRAD `coolr_bands`\"},\"renderers\":[{\"id\":\"76050333-3130-437b-9b26-ac6a1526f21a\",\"type\":\"GlyphRenderer\"}]},\"id\":\"4594d79c-14b2-45a8-901d-64704acbb7fc\",\"type\":\"LegendItem\"},{\"attributes\":{},\"id\":\"f0dfa730-6d02-4063-bea3-cb876b05e4ef\",\"type\":\"BasicTickFormatter\"},{\"attributes\":{\"label\":{\"value\":\"CRD\"},\"renderers\":[{\"id\":\"7d94fac7-44a5-442c-9084-51e96623f9a8\",\"type\":\"GlyphRenderer\"},{\"id\":\"f24fa7e5-c13f-453b-bbb6-3bdb38c66f27\",\"type\":\"GlyphRenderer\"}]},\"id\":\"720c4be6-d2cf-42d9-95bc-658015958d9a\",\"type\":\"LegendItem\"},{\"attributes\":{\"callback\":null,\"data\":{\"x\":{\"__ndarray__\":\"eVHpDCosED+HkB1dSOcJv70I+JG5uyA/PCvwbEt4JD98cEG4AXAmPzSuYYENWig/DcpV1F9qKj/B/PpKbGosP8eXcAlSlC4/9gfyaFtdMD8lMqwOqIcxP+DJna13sTI/wpr/PEzbMz8FfcsiPEA0P7Ibb4RYeTc/JU4ehSSsQj8H2t/JzmpPP6IcENb7XFg/W9/BwEwDYj/pa5xgBsJpP9KyBE48BHI/alQ0G4oQeT+JX1uG0vN/PwYIH7h1OIA/2CRs9R0Hez87I5WbhCh1P7eyOdAALHA/9tYUDXhuaD8EJhzs4G9iPx6rbo4nxFs/APi1o7B6VD/5rSr3GnRNP/gEYQgcoUU/JQ/k+3CeQD+IdlhnWyU5P0rSZtsdfjI/ciry0TpMLj9tF2KK9TMsPxKpkxNeRSo/fh39wq+tLD/ztX8kDUk/P5bTA75ZhWA/fBZ2oxfGeT+ZLlwHG1+OP4UA6En8/ps/K80JgSypoj94nWP5IO+mP844eu2zeaw/LCokkWRzsT8l9jFo5p60P5E3Jq/Bh7c/IgJITNT7uT/jzn0gFr28P+I+ME8AKMA/9sZajTZYwj/6UcNtI9TEPx8hFKXObcc/EVlBX7wXyz9TMNdg6ZXOP1jaFFXg4NA/v6behXNu0j9E5+vobg3UP8BU2LG2ztU/ZNX3TLyk1z9JMZtbfGXZP6jMB+Mr6to/l45766od3D+iOPTU8tzcP5gSixAFEN0/slDnYdPQ3D+5HVTBLF3cP3X83Vx49ds/FwinqnXH2z/Xn0gg8/vbP7Sl9VTaZN0/\",\"dtype\":\"float64\",\"shape\":[75]},\"y\":{\"__ndarray__\":\"S/O/Q+51ND/Sv8nbtpRIP2vylNV0PVE/aTum7souWD/At0SJ8fVgPw3Iuahxymc/MSNhhJWvcD/bTfBN02d3P2zb5nxnaoA/CD5h5MAGhz8NmeH1TyaQP+zrCsc9p5Y/LbKd76fGnz/bLW5ISEmmPww9YvTcQq8/JV2OstnstT8Er5Y7M8G+P0c+r3jqkcU/5h99k6ZBzj88bCIzFzjVP4enV8oyxN0//yH99nXg5D8qOpLLf0jtP5kqGJXUifQ/c9cS8kHP/D+/DpwzojQEQIEmwoanVwxA4lgXt9HgE0BSSZ2AJuIbQAMJih9jjiNA5q4l5INuK0AwTKYKRj0zQNv5fmq8/DpAaCJseHrtQkB/+zpwzoxKQM3MzMzMeFJAZmZmZmZqWEAAAAAAAFxeQM3MzMzMJmJAmpmZmZkfZUBmZmZmZhhoQDMzMzMzEWtAAAAAAAAKbkBmZmZmZoFwQM3MzMzM/XFAMzMzMzN6c0CamZmZmfZ0QAAAAAAAc3ZAZmZmZmbvd0DNzMzMzGt5QDMzMzMz6HpAmpmZmZlkfEAAAAAAAOF9QGZmZmZmXX9AZmZmZuZsgECamZmZGSuBQM3MzMxM6YFAAAAAAICngkAzMzMzs2WDQGZmZmbmI4RAmpmZmRnihEDNzMzMTKCFQAAAAACAXoZAMzMzM7Mch0BmZmZm5tqHQJqZmZkZmYhAzczMzExXiUAAAAAAgBWKQDMzMzOz04pAZmZmZuaRi0CamZmZGVCMQM3MzMxMDo1AAAAAAIDMjUAzMzMzs4qOQGZmZmbmSI9A\",\"dtype\":\"float64\",\"shape\":[75]}},\"selected\":{\"id\":\"d59a5eb9-2361-4a38-996b-f13f6bb177f0\",\"type\":\"Selection\"},\"selection_policy\":{\"id\":\"e1394754-10c4-4024-bcbf-0381bf8b5419\",\"type\":\"UnionRenderers\"}},\"id\":\"30766b03-3396-4cd5-9396-7c77fbaa45b3\",\"type\":\"ColumnDataSource\"},{\"attributes\":{},\"id\":\"58a4c9b2-c8f7-4aaa-9596-463aa86dd900\",\"type\":\"UnionRenderers\"},{\"attributes\":{\"data_source\":{\"id\":\"e4e91d46-f9c6-4b9a-8c11-a1f886604613\",\"type\":\"ColumnDataSource\"},\"glyph\":{\"id\":\"b5eadca3-098a-43cf-b586-1eb693d922e5\",\"type\":\"Circle\"},\"hover_glyph\":null,\"muted_glyph\":null,\"nonselection_glyph\":{\"id\":\"472fa243-e729-4c38-83d8-4abb89c4ffce\",\"type\":\"Circle\"},\"selection_glyph\":null,\"view\":{\"id\":\"c22d5d34-6226-4e77-b9ea-c1f6c9310c44\",\"type\":\"CDSView\"}},\"id\":\"99cc5b15-ad55-421e-bead-7ed8cf74f130\",\"type\":\"GlyphRenderer\"},{\"attributes\":{\"label\":{\"value\":\"WGT igg=10 wgt_flux=2\"},\"renderers\":[{\"id\":\"86c7511c-4446-4b61-aef9-28124ee76294\",\"type\":\"GlyphRenderer\"},{\"id\":\"29019189-549a-417e-b70a-e3f52f2e68ea\",\"type\":\"GlyphRenderer\"}]},\"id\":\"cb560751-dc4a-474c-8c5c-e28779daaf30\",\"type\":\"LegendItem\"},{\"attributes\":{\"line_alpha\":0.6,\"line_color\":\"#e41a1c\",\"line_dash\":[6],\"line_width\":5,\"x\":{\"field\":\"x\"},\"y\":{\"field\":\"y\"}},\"id\":\"667618f7-9d1d-4557-8b66-e909e81f605a\",\"type\":\"Line\"},{\"attributes\":{},\"id\":\"d59a5eb9-2361-4a38-996b-f13f6bb177f0\",\"type\":\"Selection\"},{\"attributes\":{},\"id\":\"e1394754-10c4-4024-bcbf-0381bf8b5419\",\"type\":\"UnionRenderers\"},{\"attributes\":{},\"id\":\"af1f46b8-036d-4e11-b2aa-d83dd6c04f2a\",\"type\":\"Selection\"},{\"attributes\":{\"plot\":{\"id\":\"cd48f551-6f18-4b63-8469-b842c089d7fe\",\"subtype\":\"Figure\",\"type\":\"Plot\"},\"ticker\":{\"id\":\"708bad5e-8761-425a-9fa9-d94c217b8c2c\",\"type\":\"BasicTicker\"}},\"id\":\"ea35f408-3c1d-4fa2-aa32-8b8d10522fa6\",\"type\":\"Grid\"},{\"attributes\":{},\"id\":\"17814f40-a8ce-45df-b836-ca9fd126b9cd\",\"type\":\"UnionRenderers\"},{\"attributes\":{},\"id\":\"acbe5b36-84e6-4be6-9d00-7e374f6785a7\",\"type\":\"UnionRenderers\"},{\"attributes\":{},\"id\":\"c61c8920-4ed1-488b-990c-a1eab9d97afe\",\"type\":\"Selection\"},{\"attributes\":{},\"id\":\"7a6d89c4-f13d-4eaa-9ac0-000df5217279\",\"type\":\"Selection\"},{\"attributes\":{\"line_color\":\"#4daf4a\",\"line_width\":1.5,\"x\":{\"field\":\"x\"},\"y\":{\"field\":\"y\"}},\"id\":\"8b06d389-72b8-4f82-8c07-3bab159ed2c3\",\"type\":\"Line\"},{\"attributes\":{},\"id\":\"23d2d12c-c43a-4f7d-805d-52053a3fd4dd\",\"type\":\"Selection\"},{\"attributes\":{\"callback\":null,\"end\":0.01,\"start\":1020},\"id\":\"1e0617d7-2d6f-410a-874e-55f1a20f0d55\",\"type\":\"Range1d\"},{\"attributes\":{},\"id\":\"d012cacb-c35f-4ec2-ade0-5b372ed64c4d\",\"type\":\"BasicTickFormatter\"},{\"attributes\":{},\"id\":\"56d7db81-a46c-4490-aad5-d17f3ffc012e\",\"type\":\"UnionRenderers\"},{\"attributes\":{\"fill_alpha\":{\"value\":0.1},\"fill_color\":{\"value\":\"#1f77b4\"},\"line_alpha\":{\"value\":0.1},\"line_color\":{\"value\":\"#1f77b4\"},\"x\":{\"field\":\"x\"},\"y\":{\"field\":\"y\"}},\"id\":\"472fa243-e729-4c38-83d8-4abb89c4ffce\",\"type\":\"Circle\"},{\"attributes\":{},\"id\":\"2acd4884-6918-40cc-b1d4-9817f4137de9\",\"type\":\"Selection\"},{\"attributes\":{},\"id\":\"5e62bcee-d95c-41c5-8fc2-0d541535c33e\",\"type\":\"UnionRenderers\"},{\"attributes\":{\"children\":[{\"id\":\"cd48f551-6f18-4b63-8469-b842c089d7fe\",\"subtype\":\"Figure\",\"type\":\"Plot\"},{\"id\":\"1a160871-8fb1-4528-9d9e-457b59b6f3e7\",\"subtype\":\"Figure\",\"type\":\"Plot\"}]},\"id\":\"2776c97b-8fd5-42c2-97a2-be99682ab4b5\",\"type\":\"Row\"},{\"attributes\":{\"line_alpha\":0.1,\"line_color\":\"#1f77b4\",\"line_dash\":[6],\"line_width\":5,\"x\":{\"field\":\"x\"},\"y\":{\"field\":\"y\"}},\"id\":\"03c4a944-7e38-4849-b8ef-9f7cee3908e2\",\"type\":\"Line\"},{\"attributes\":{},\"id\":\"bcb37be9-76a6-4ba6-8245-10fc3a26788c\",\"type\":\"UnionRenderers\"},{\"attributes\":{\"overlay\":{\"id\":\"277a924e-7b67-4f12-bf1c-95f2165df827\",\"type\":\"BoxAnnotation\"}},\"id\":\"bd67fc6a-38af-47fd-889a-52367c8c4d64\",\"type\":\"BoxZoomTool\"},{\"attributes\":{\"ticker\":null},\"id\":\"74999d28-38ef-4fb5-acb4-b21202edc3f5\",\"type\":\"LogTickFormatter\"},{\"attributes\":{},\"id\":\"a56b041d-8d85-44aa-b726-0253ad1751b1\",\"type\":\"UnionRenderers\"},{\"attributes\":{\"callback\":null,\"data\":{\"x\":{\"__ndarray__\":\"M6yudwLQFj9z+SAiKrsYP5caUQiWDh0/YuYWDe3pID+Iw5/P6l4jP1soRZ1M6yU/drDNyVqPKD/UWBHCQE0rP14KapzvHi4/1B+YKLB/MD9QpBqJavoxP8f7vZ+4iDM//t/BHuoeNT+g9ojZ3ds2PyE3+nykSzw/c3mkX7H2Rj++n3d7udxTP/ZnOAYht18/0asqgFXxZz/eo4n/TGBxP32hZXQ3fHg/OiQRL8rSgD+bsc1lITyFP5GphQnYS4U/5s03W6ZKgT8W2jryJzV6P4HmhKwNXnM/iGABdU9KbD/q595escFkP/N0fu8Op14/Z1Wd7w1gVj+bH72S4hBQP1l/2z1/7Uc/Xcs3sJ7jQj9lJYdO6VE9PyIx7cup+zU/0lsoj+FHMj+lGfqiuTsxP+XI/qT5ODA/YTc4Lz2oMT8HSA+A+B5DPzGqfVxRQWM/6z1gmK/2ez8kOtOdisiOP3UU/EPueps/sZnj395qoj+OctqaR9qmPyar4L+SDqw/7vIp10YCsT+6oeceK1u0P9x2EQ4MDLg/UXbIBxyNuz9moJUoOS+/P2w0iCiJmcE//q9C4+zKwz8oCAVCPirGP2pkHa+8u8g/UhD6oeulzD/EA7EJvFXQP4w2njocPtI/guOVmCUJ1D+J06RvLa7VPzPvYcR4LNc/zkusKRyD2D+GtABMnbDZP50xJ8NMtto/k+ltv76O2z9y6ncfTyTcP3sYGIHKW9w/HanfAXU13D+WSJomCdXbP1cQuc/gZds//JjFelkJ2z+mq+jNsOraP76Qo3Nd/Ns/\",\"dtype\":\"float64\",\"shape\":[75]},\"y\":{\"__ndarray__\":\"GhExyth1ND/Sv8nbtpRIP2vylNV0PVE/aTum7souWD/At0SJ8fVgPw3Iuahxymc/MSNhhJWvcD/bTfBN02d3P2zb5nxnaoA/CD5h5MAGhz8NmeH1TyaQP+zrCsc9p5Y/LbKd76fGnz/bLW5ISEmmPww9YvTcQq8/JV2OstnstT8Er5Y7M8G+P0c+r3jqkcU/5h99k6ZBzj88bCIzFzjVP4enV8oyxN0//yH99nXg5D8qOpLLf0jtP5kqGJXUifQ/c9cS8kHP/D+/DpwzojQEQIEmwoanVwxA4lgXt9HgE0BSSZ2AJuIbQAMJih9jjiNA5q4l5INuK0AwTKYKRj0zQNv5fmq8/DpAaCJseHrtQkB/+zpwzoxKQM3MzMzMeFJAZmZmZmZqWEAAAAAAAFxeQM3MzMzMJmJAmpmZmZkfZUBmZmZmZhhoQDMzMzMzEWtAAAAAAAAKbkBmZmZmZoFwQM3MzMzM/XFAMzMzMzN6c0CamZmZmfZ0QAAAAAAAc3ZAZmZmZmbvd0DNzMzMzGt5QDMzMzMz6HpAmpmZmZlkfEAAAAAAAOF9QGZmZmZmXX9AZmZmZuZsgECamZmZGSuBQM3MzMxM6YFAAAAAAICngkAzMzMzs2WDQGZmZmbmI4RAmpmZmRnihEDNzMzMTKCFQAAAAACAXoZAMzMzM7Mch0BmZmZm5tqHQJqZmZkZmYhAzczMzExXiUAAAAAAgBWKQDMzMzOz04pAZmZmZuaRi0CamZmZGVCMQM3MzMxMDo1AAAAAAIDMjUAzMzMzs4qOQGZmZmbmSI9A\",\"dtype\":\"float64\",\"shape\":[75]}},\"selected\":{\"id\":\"af1f46b8-036d-4e11-b2aa-d83dd6c04f2a\",\"type\":\"Selection\"},\"selection_policy\":{\"id\":\"58a4c9b2-c8f7-4aaa-9596-463aa86dd900\",\"type\":\"UnionRenderers\"}},\"id\":\"e4e91d46-f9c6-4b9a-8c11-a1f886604613\",\"type\":\"ColumnDataSource\"},{\"attributes\":{},\"id\":\"d4ac8366-319e-4f01-9b1e-c62e28b6beb0\",\"type\":\"Selection\"},{\"attributes\":{},\"id\":\"5569e785-b59c-493c-bde1-248c35845287\",\"type\":\"LinearScale\"},{\"attributes\":{},\"id\":\"ddb7e65d-28bc-480c-97db-e9cba0817ddb\",\"type\":\"Selection\"},{\"attributes\":{\"below\":[{\"id\":\"92bcd590-0ad6-4e5f-8032-3ac90d1c5c3b\",\"type\":\"LinearAxis\"}],\"left\":[{\"id\":\"25d1d4d0-83e3-4a32-b297-0f6a33dba3d9\",\"type\":\"LogAxis\"}],\"plot_height\":500,\"plot_width\":560,\"renderers\":[{\"id\":\"92bcd590-0ad6-4e5f-8032-3ac90d1c5c3b\",\"type\":\"LinearAxis\"},{\"id\":\"4d89b3e3-0639-4547-baed-e076def68536\",\"type\":\"Grid\"},{\"id\":\"25d1d4d0-83e3-4a32-b297-0f6a33dba3d9\",\"type\":\"LogAxis\"},{\"id\":\"96979763-8d00-4a6f-9c20-7fc8f443e6a2\",\"type\":\"Grid\"},{\"id\":\"9d4eec73-d419-4fce-a4d4-d18d70357b81\",\"type\":\"BoxAnnotation\"},{\"id\":\"76050333-3130-437b-9b26-ac6a1526f21a\",\"type\":\"GlyphRenderer\"},{\"id\":\"7d94fac7-44a5-442c-9084-51e96623f9a8\",\"type\":\"GlyphRenderer\"},{\"id\":\"f24fa7e5-c13f-453b-bbb6-3bdb38c66f27\",\"type\":\"GlyphRenderer\"},{\"id\":\"86c7511c-4446-4b61-aef9-28124ee76294\",\"type\":\"GlyphRenderer\"},{\"id\":\"29019189-549a-417e-b70a-e3f52f2e68ea\",\"type\":\"GlyphRenderer\"},{\"id\":\"1976bc1a-9aac-4a0e-88ab-04d8d7fd8fbb\",\"type\":\"Legend\"}],\"right\":[{\"id\":\"1976bc1a-9aac-4a0e-88ab-04d8d7fd8fbb\",\"type\":\"Legend\"}],\"title\":{\"id\":\"514cbb4c-5349-4721-8c98-e84534c5b60f\",\"type\":\"Title\"},\"toolbar\":{\"id\":\"7868684e-8719-4358-bf83-ce18818007a9\",\"type\":\"Toolbar\"},\"toolbar_location\":null,\"x_range\":{\"id\":\"7609413e-cc65-4137-9bb1-4d6e5d13e6b9\",\"type\":\"Range1d\"},\"x_scale\":{\"id\":\"e93b8261-ead2-4641-a5db-f728e6c2bf20\",\"type\":\"LinearScale\"},\"y_range\":{\"id\":\"1e0617d7-2d6f-410a-874e-55f1a20f0d55\",\"type\":\"Range1d\"},\"y_scale\":{\"id\":\"907f4cc9-e93a-4de2-8757-229b03dfde5a\",\"type\":\"LogScale\"}},\"id\":\"1a160871-8fb1-4528-9d9e-457b59b6f3e7\",\"subtype\":\"Figure\",\"type\":\"Plot\"},{\"attributes\":{},\"id\":\"abd0e36a-1f2c-49d2-a295-704f8b1883d7\",\"type\":\"UnionRenderers\"},{\"attributes\":{},\"id\":\"c4dfd66b-9d83-4691-b512-4d11eff680b4\",\"type\":\"WheelZoomTool\"},{\"attributes\":{},\"id\":\"0da527a2-3535-4063-81ef-aada5b9195ab\",\"type\":\"Selection\"},{\"attributes\":{\"below\":[{\"id\":\"9b29d9eb-7eff-4d7d-bd02-5219bdbe87aa\",\"type\":\"LinearAxis\"}],\"left\":[{\"id\":\"0088ba1e-469c-4a4e-9758-6dd5aafc5246\",\"type\":\"LinearAxis\"}],\"plot_height\":500,\"plot_width\":400,\"renderers\":[{\"id\":\"9b29d9eb-7eff-4d7d-bd02-5219bdbe87aa\",\"type\":\"LinearAxis\"},{\"id\":\"ea35f408-3c1d-4fa2-aa32-8b8d10522fa6\",\"type\":\"Grid\"},{\"id\":\"0088ba1e-469c-4a4e-9758-6dd5aafc5246\",\"type\":\"LinearAxis\"},{\"id\":\"2c5bbdd7-b104-4cc8-b5e2-7b2e92850a62\",\"type\":\"Grid\"},{\"id\":\"277a924e-7b67-4f12-bf1c-95f2165df827\",\"type\":\"BoxAnnotation\"},{\"id\":\"ef2aa094-e9c8-41f6-8ed4-42e68e100b78\",\"type\":\"GlyphRenderer\"},{\"id\":\"99cc5b15-ad55-421e-bead-7ed8cf74f130\",\"type\":\"GlyphRenderer\"},{\"id\":\"3c6bb11d-e93c-4768-8522-f4e387055f0c\",\"type\":\"GlyphRenderer\"},{\"id\":\"7dd3dd97-83a7-4cc6-8841-db883bbc5336\",\"type\":\"GlyphRenderer\"},{\"id\":\"968d9428-323c-4334-8c3b-9fa5f49f5b41\",\"type\":\"GlyphRenderer\"}],\"title\":{\"id\":\"ae7673c8-1321-4304-a8ef-f149bb7b2e7b\",\"type\":\"Title\"},\"toolbar\":{\"id\":\"6822961b-0dbb-47e5-831c-ee517c95c601\",\"type\":\"Toolbar\"},\"toolbar_location\":null,\"x_range\":{\"id\":\"21311a90-8726-488e-8816-86d06f4913bd\",\"type\":\"Range1d\"},\"x_scale\":{\"id\":\"5569e785-b59c-493c-bde1-248c35845287\",\"type\":\"LinearScale\"},\"y_range\":{\"id\":\"49d1ac34-d27c-4857-b2f2-3281b2648795\",\"type\":\"Range1d\"},\"y_scale\":{\"id\":\"ac8ea87f-e4cc-4d31-8944-02c98a552a2d\",\"type\":\"LinearScale\"}},\"id\":\"cd48f551-6f18-4b63-8469-b842c089d7fe\",\"subtype\":\"Figure\",\"type\":\"Plot\"},{\"attributes\":{},\"id\":\"815e2f5a-1896-4430-a483-4378584d3813\",\"type\":\"Selection\"},{\"attributes\":{\"tools\":[{\"id\":\"bc5b0a89-4001-4af3-a8e8-3dd8c41d04bc\",\"type\":\"PanTool\"},{\"id\":\"c4dfd66b-9d83-4691-b512-4d11eff680b4\",\"type\":\"WheelZoomTool\"},{\"id\":\"bd67fc6a-38af-47fd-889a-52367c8c4d64\",\"type\":\"BoxZoomTool\"},{\"id\":\"efc70f99-3898-40b1-a14f-a041f0dc0045\",\"type\":\"SaveTool\"},{\"id\":\"3f1dae1d-c91a-421d-8c26-658358b8f1d6\",\"type\":\"ResetTool\"},{\"id\":\"6e27ee9c-627b-4ad2-9214-e72000ed9469\",\"type\":\"HelpTool\"},{\"id\":\"2c8e9493-bd05-48bd-83ee-fddcc8a62150\",\"type\":\"PanTool\"},{\"id\":\"2875da39-b059-4b3b-8f03-22c446c01824\",\"type\":\"WheelZoomTool\"},{\"id\":\"a0ca7298-6c03-4616-aa73-8c15ec8cdbae\",\"type\":\"BoxZoomTool\"},{\"id\":\"771b27f1-cb5b-4ddb-a235-52094fb3e1d2\",\"type\":\"SaveTool\"},{\"id\":\"93f87f8c-392f-4826-9c01-c5ac1e28e308\",\"type\":\"ResetTool\"},{\"id\":\"743e8335-356d-4db0-8df2-be7205d5b167\",\"type\":\"HelpTool\"}]},\"id\":\"8e935151-2f53-47db-8dc1-9405455e3e69\",\"type\":\"ProxyToolbar\"},{\"attributes\":{\"plot\":null,\"text\":\"Linear pressure scale\"},\"id\":\"ae7673c8-1321-4304-a8ef-f149bb7b2e7b\",\"type\":\"Title\"},{\"attributes\":{},\"id\":\"60494f01-4766-4044-9877-d0bb01d13546\",\"type\":\"UnionRenderers\"},{\"attributes\":{\"toolbar\":{\"id\":\"8e935151-2f53-47db-8dc1-9405455e3e69\",\"type\":\"ProxyToolbar\"},\"toolbar_location\":\"above\"},\"id\":\"065ff5fc-4bb0-417d-b310-3689e0e82bfd\",\"type\":\"ToolbarBox\"},{\"attributes\":{\"axis_label\":\"pressure [mb]\",\"formatter\":{\"id\":\"74999d28-38ef-4fb5-acb4-b21202edc3f5\",\"type\":\"LogTickFormatter\"},\"plot\":{\"id\":\"1a160871-8fb1-4528-9d9e-457b59b6f3e7\",\"subtype\":\"Figure\",\"type\":\"Plot\"},\"ticker\":{\"id\":\"6a1ce397-1c45-43e1-baa5-1c06569e0bd7\",\"type\":\"LogTicker\"}},\"id\":\"25d1d4d0-83e3-4a32-b297-0f6a33dba3d9\",\"type\":\"LogAxis\"},{\"attributes\":{},\"id\":\"e93b8261-ead2-4641-a5db-f728e6c2bf20\",\"type\":\"LinearScale\"},{\"attributes\":{\"children\":[{\"id\":\"065ff5fc-4bb0-417d-b310-3689e0e82bfd\",\"type\":\"ToolbarBox\"},{\"id\":\"abff77b9-d896-44f5-9723-9f96b21421fa\",\"type\":\"Column\"}]},\"id\":\"f1d91f82-e21f-45ec-b510-3e7e812e6998\",\"type\":\"Column\"},{\"attributes\":{\"items\":[{\"id\":\"4594d79c-14b2-45a8-901d-64704acbb7fc\",\"type\":\"LegendItem\"},{\"id\":\"720c4be6-d2cf-42d9-95bc-658015958d9a\",\"type\":\"LegendItem\"},{\"id\":\"cb560751-dc4a-474c-8c5c-e28779daaf30\",\"type\":\"LegendItem\"}],\"label_text_font_size\":{\"value\":\"8pt\"},\"location\":[10,-30],\"plot\":{\"id\":\"1a160871-8fb1-4528-9d9e-457b59b6f3e7\",\"subtype\":\"Figure\",\"type\":\"Plot\"}},\"id\":\"1976bc1a-9aac-4a0e-88ab-04d8d7fd8fbb\",\"type\":\"Legend\"},{\"attributes\":{},\"id\":\"be8aaec9-ce30-430c-a22c-e1c61cb94094\",\"type\":\"BasicTicker\"},{\"attributes\":{},\"id\":\"907f4cc9-e93a-4de2-8757-229b03dfde5a\",\"type\":\"LogScale\"},{\"attributes\":{\"plot\":{\"id\":\"1a160871-8fb1-4528-9d9e-457b59b6f3e7\",\"subtype\":\"Figure\",\"type\":\"Plot\"},\"ticker\":{\"id\":\"be8aaec9-ce30-430c-a22c-e1c61cb94094\",\"type\":\"BasicTicker\"}},\"id\":\"4d89b3e3-0639-4547-baed-e076def68536\",\"type\":\"Grid\"},{\"attributes\":{\"data_source\":{\"id\":\"2d249fa5-fc05-485e-84bf-be8925a88c66\",\"type\":\"ColumnDataSource\"},\"glyph\":{\"id\":\"0c44670a-3b0c-44c1-87a5-ffe503bce3cb\",\"type\":\"Line\"},\"hover_glyph\":null,\"muted_glyph\":null,\"nonselection_glyph\":{\"id\":\"00cab9b0-a207-49fa-8cd8-013e0940f0a8\",\"type\":\"Line\"},\"selection_glyph\":null,\"view\":{\"id\":\"deeddead-6ef5-461d-affb-e436818b655b\",\"type\":\"CDSView\"}},\"id\":\"76050333-3130-437b-9b26-ac6a1526f21a\",\"type\":\"GlyphRenderer\"},{\"attributes\":{\"data_source\":{\"id\":\"165503eb-c9eb-40aa-a260-47f9014a4df4\",\"type\":\"ColumnDataSource\"},\"glyph\":{\"id\":\"6e666097-2d1c-4740-96f2-bf2af1394081\",\"type\":\"Line\"},\"hover_glyph\":null,\"muted_glyph\":null,\"nonselection_glyph\":{\"id\":\"db58fc73-1d15-4ba3-b8ce-a8190bc3d7fb\",\"type\":\"Line\"},\"selection_glyph\":null,\"view\":{\"id\":\"32ffcb87-99db-4e47-9321-06a0616a980c\",\"type\":\"CDSView\"}},\"id\":\"29019189-549a-417e-b70a-e3f52f2e68ea\",\"type\":\"GlyphRenderer\"},{\"attributes\":{\"active_drag\":\"auto\",\"active_inspect\":\"auto\",\"active_scroll\":\"auto\",\"active_tap\":\"auto\",\"tools\":[{\"id\":\"bc5b0a89-4001-4af3-a8e8-3dd8c41d04bc\",\"type\":\"PanTool\"},{\"id\":\"c4dfd66b-9d83-4691-b512-4d11eff680b4\",\"type\":\"WheelZoomTool\"},{\"id\":\"bd67fc6a-38af-47fd-889a-52367c8c4d64\",\"type\":\"BoxZoomTool\"},{\"id\":\"efc70f99-3898-40b1-a14f-a041f0dc0045\",\"type\":\"SaveTool\"},{\"id\":\"3f1dae1d-c91a-421d-8c26-658358b8f1d6\",\"type\":\"ResetTool\"},{\"id\":\"6e27ee9c-627b-4ad2-9214-e72000ed9469\",\"type\":\"HelpTool\"}]},\"id\":\"6822961b-0dbb-47e5-831c-ee517c95c601\",\"type\":\"Toolbar\"},{\"attributes\":{\"num_minor_ticks\":10},\"id\":\"6a1ce397-1c45-43e1-baa5-1c06569e0bd7\",\"type\":\"LogTicker\"},{\"attributes\":{},\"id\":\"93f87f8c-392f-4826-9c01-c5ac1e28e308\",\"type\":\"ResetTool\"},{\"attributes\":{},\"id\":\"771b27f1-cb5b-4ddb-a235-52094fb3e1d2\",\"type\":\"SaveTool\"},{\"attributes\":{},\"id\":\"743e8335-356d-4db0-8df2-be7205d5b167\",\"type\":\"HelpTool\"},{\"attributes\":{\"source\":{\"id\":\"165503eb-c9eb-40aa-a260-47f9014a4df4\",\"type\":\"ColumnDataSource\"}},\"id\":\"32ffcb87-99db-4e47-9321-06a0616a980c\",\"type\":\"CDSView\"},{\"attributes\":{\"overlay\":{\"id\":\"9d4eec73-d419-4fce-a4d4-d18d70357b81\",\"type\":\"BoxAnnotation\"}},\"id\":\"a0ca7298-6c03-4616-aa73-8c15ec8cdbae\",\"type\":\"BoxZoomTool\"},{\"attributes\":{\"dimension\":1,\"plot\":{\"id\":\"1a160871-8fb1-4528-9d9e-457b59b6f3e7\",\"subtype\":\"Figure\",\"type\":\"Plot\"},\"ticker\":{\"id\":\"6a1ce397-1c45-43e1-baa5-1c06569e0bd7\",\"type\":\"LogTicker\"}},\"id\":\"96979763-8d00-4a6f-9c20-7fc8f443e6a2\",\"type\":\"Grid\"},{\"attributes\":{},\"id\":\"2875da39-b059-4b3b-8f03-22c446c01824\",\"type\":\"WheelZoomTool\"},{\"attributes\":{\"bottom_units\":\"screen\",\"fill_alpha\":{\"value\":0.5},\"fill_color\":{\"value\":\"lightgrey\"},\"left_units\":\"screen\",\"level\":\"overlay\",\"line_alpha\":{\"value\":1.0},\"line_color\":{\"value\":\"black\"},\"line_dash\":[4,4],\"line_width\":{\"value\":2},\"plot\":null,\"render_mode\":\"css\",\"right_units\":\"screen\",\"top_units\":\"screen\"},\"id\":\"9d4eec73-d419-4fce-a4d4-d18d70357b81\",\"type\":\"BoxAnnotation\"},{\"attributes\":{},\"id\":\"2c8e9493-bd05-48bd-83ee-fddcc8a62150\",\"type\":\"PanTool\"},{\"attributes\":{\"line_alpha\":0.1,\"line_color\":\"#1f77b4\",\"line_width\":3,\"x\":{\"field\":\"x\"},\"y\":{\"field\":\"y\"}},\"id\":\"db58fc73-1d15-4ba3-b8ce-a8190bc3d7fb\",\"type\":\"Line\"},{\"attributes\":{\"callback\":null,\"end\":0.0105005483543,\"start\":9.84502157e-05},\"id\":\"7609413e-cc65-4137-9bb1-4d6e5d13e6b9\",\"type\":\"Range1d\"},{\"attributes\":{\"line_alpha\":0.1,\"line_color\":\"#1f77b4\",\"line_dash\":[6],\"line_width\":5,\"x\":{\"field\":\"x\"},\"y\":{\"field\":\"y\"}},\"id\":\"00cab9b0-a207-49fa-8cd8-013e0940f0a8\",\"type\":\"Line\"},{\"attributes\":{\"line_alpha\":0.6,\"line_color\":\"#e41a1c\",\"line_dash\":[6],\"line_width\":5,\"x\":{\"field\":\"x\"},\"y\":{\"field\":\"y\"}},\"id\":\"0c44670a-3b0c-44c1-87a5-ffe503bce3cb\",\"type\":\"Line\"},{\"attributes\":{\"callback\":null,\"data\":{\"x\":{\"__ndarray__\":\"TJZ2a5ZhJj9YsNPKGEcnP0InpAWvOSk/rwDQLqBaKz8aqgRfM44tP/AkRUhP1C8/+mZ1irkWMT+ipJ8fCU0yP39I6PNjjTM/hajgafzXND+E8o+Mby02PxIdrRZOozc/N/De8NAOOT+VZcMkp546P4+TM2Hwgj8/ix3RNamDRz9hdumSERBTP6ema5koXV0/gkeHpj+1ZT/+UdVBuydvPz26PAfM2HU/krfpcdIEfj82CJE8CQ2DPzo6+HWkbIM/fK58kS82gD/7J8knfT95P2lZOqLUTnM/XZnw4ogPbT8zDCMX2ullP8zmyyA8d2A/+QNSNN1BWD+xVW1PPXVRP3nl7yH4qEk/hGBVT367Qz+KMgbMLs09P+asR9tLsTU/4CGn32KNMT/k3/tCG1QwPyBwKprkbi4/TxtDrQlhMD+upXXJogNCP4vK2XMzlWI/webq4fv6ez/zhcbVZsyPP3QUfuOGxpw/om3T/N8woz9rSu48T6inP2+xpZu6Cq0/Wp7sRl2bsT9YrnBtAuu0P92GUuxBULg/DGpiPR1Suz/1+ofdcnS+P4+42k+iEME/j3DDz/Mywz9CSeteCZrFP7tCX+suOMg/2rCLRhkbzD9uJ4D9OwDQPz2Y2CycytE/cVk63Op10z/QRD9QmAjVP0B6JN/Sj9Y/Iwl3HpgN2D8FfJO2PHjZP/iedr8kwNo/zMnEevDP2z/iSvliforcP/VnW0jHzNw/e3kwPVWn3D9BIxm9xULcP5uxNvmB1Ns/c1SP32qF2z8I/EVdGILbP6yakDeEs9w/\",\"dtype\":\"float64\",\"shape\":[75]},\"y\":{\"__ndarray__\":\"GhExyth1ND/Sv8nbtpRIP2vylNV0PVE/aTum7souWD/At0SJ8fVgPw3Iuahxymc/MSNhhJWvcD/bTfBN02d3P2zb5nxnaoA/CD5h5MAGhz8NmeH1TyaQP+zrCsc9p5Y/LbKd76fGnz/bLW5ISEmmPww9YvTcQq8/JV2OstnstT8Er5Y7M8G+P0c+r3jqkcU/5h99k6ZBzj88bCIzFzjVP4enV8oyxN0//yH99nXg5D8qOpLLf0jtP5kqGJXUifQ/c9cS8kHP/D+/DpwzojQEQIEmwoanVwxA4lgXt9HgE0BSSZ2AJuIbQAMJih9jjiNA5q4l5INuK0AwTKYKRj0zQNv5fmq8/DpAaCJseHrtQkB/+zpwzoxKQM3MzMzMeFJAZmZmZmZqWEAAAAAAAFxeQM3MzMzMJmJAmpmZmZkfZUBmZmZmZhhoQDMzMzMzEWtAAAAAAAAKbkBmZmZmZoFwQM3MzMzM/XFAMzMzMzN6c0CamZmZmfZ0QAAAAAAAc3ZAZmZmZmbvd0DNzMzMzGt5QDMzMzMz6HpAmpmZmZlkfEAAAAAAAOF9QGZmZmZmXX9AZmZmZuZsgECamZmZGSuBQM3MzMxM6YFAAAAAAICngkAzMzMzs2WDQGZmZmbmI4RAmpmZmRnihEDNzMzMTKCFQAAAAACAXoZAMzMzM7Mch0BmZmZm5tqHQJqZmZkZmYhAzczMzExXiUAAAAAAgBWKQDMzMzOz04pAZmZmZuaRi0CamZmZGVCMQM3MzMxMDo1AAAAAAIDMjUAzMzMzs4qOQGZmZmbmSI9A\",\"dtype\":\"float64\",\"shape\":[75]}},\"selected\":{\"id\":\"7a6d89c4-f13d-4eaa-9ac0-000df5217279\",\"type\":\"Selection\"},\"selection_policy\":{\"id\":\"56d7db81-a46c-4490-aad5-d17f3ffc012e\",\"type\":\"UnionRenderers\"}},\"id\":\"c7d48c51-506f-4a0f-b35f-ec072a8dfa63\",\"type\":\"ColumnDataSource\"},{\"attributes\":{\"data_source\":{\"id\":\"c7d48c51-506f-4a0f-b35f-ec072a8dfa63\",\"type\":\"ColumnDataSource\"},\"glyph\":{\"id\":\"64483d81-96e4-42f1-ac9a-887040feb48f\",\"type\":\"Square\"},\"hover_glyph\":null,\"muted_glyph\":null,\"nonselection_glyph\":{\"id\":\"7a619343-29f8-4a00-9c28-a1148cbe973f\",\"type\":\"Square\"},\"selection_glyph\":null,\"view\":{\"id\":\"677a035d-4ab6-4070-9895-4e0c7c7fdf4a\",\"type\":\"CDSView\"}},\"id\":\"7dd3dd97-83a7-4cc6-8841-db883bbc5336\",\"type\":\"GlyphRenderer\"},{\"attributes\":{\"line_alpha\":0.6,\"line_color\":\"#984ea3\",\"line_width\":3,\"x\":{\"field\":\"x\"},\"y\":{\"field\":\"y\"}},\"id\":\"6e666097-2d1c-4740-96f2-bf2af1394081\",\"type\":\"Line\"},{\"attributes\":{\"callback\":null,\"data\":{\"x\":{\"__ndarray__\":\"TJZ2a5ZhJj9YsNPKGEcnP0InpAWvOSk/rwDQLqBaKz8aqgRfM44tP/AkRUhP1C8/+mZ1irkWMT+ipJ8fCU0yP39I6PNjjTM/hajgafzXND+E8o+Mby02PxIdrRZOozc/N/De8NAOOT+VZcMkp546P4+TM2Hwgj8/ix3RNamDRz9hdumSERBTP6ema5koXV0/gkeHpj+1ZT/+UdVBuydvPz26PAfM2HU/krfpcdIEfj82CJE8CQ2DPzo6+HWkbIM/fK58kS82gD/7J8knfT95P2lZOqLUTnM/XZnw4ogPbT8zDCMX2ullP8zmyyA8d2A/+QNSNN1BWD+xVW1PPXVRP3nl7yH4qEk/hGBVT367Qz+KMgbMLs09P+asR9tLsTU/4CGn32KNMT/k3/tCG1QwPyBwKprkbi4/TxtDrQlhMD+upXXJogNCP4vK2XMzlWI/webq4fv6ez/zhcbVZsyPP3QUfuOGxpw/om3T/N8woz9rSu48T6inP2+xpZu6Cq0/Wp7sRl2bsT9YrnBtAuu0P92GUuxBULg/DGpiPR1Suz/1+ofdcnS+P4+42k+iEME/j3DDz/Mywz9CSeteCZrFP7tCX+suOMg/2rCLRhkbzD9uJ4D9OwDQPz2Y2CycytE/cVk63Op10z/QRD9QmAjVP0B6JN/Sj9Y/Iwl3HpgN2D8FfJO2PHjZP/iedr8kwNo/zMnEevDP2z/iSvliforcP/VnW0jHzNw/e3kwPVWn3D9BIxm9xULcP5uxNvmB1Ns/c1SP32qF2z8I/EVdGILbP6yakDeEs9w/\",\"dtype\":\"float64\",\"shape\":[75]},\"y\":{\"__ndarray__\":\"GhExyth1ND/Sv8nbtpRIP2vylNV0PVE/aTum7souWD/At0SJ8fVgPw3Iuahxymc/MSNhhJWvcD/bTfBN02d3P2zb5nxnaoA/CD5h5MAGhz8NmeH1TyaQP+zrCsc9p5Y/LbKd76fGnz/bLW5ISEmmPww9YvTcQq8/JV2OstnstT8Er5Y7M8G+P0c+r3jqkcU/5h99k6ZBzj88bCIzFzjVP4enV8oyxN0//yH99nXg5D8qOpLLf0jtP5kqGJXUifQ/c9cS8kHP/D+/DpwzojQEQIEmwoanVwxA4lgXt9HgE0BSSZ2AJuIbQAMJih9jjiNA5q4l5INuK0AwTKYKRj0zQNv5fmq8/DpAaCJseHrtQkB/+zpwzoxKQM3MzMzMeFJAZmZmZmZqWEAAAAAAAFxeQM3MzMzMJmJAmpmZmZkfZUBmZmZmZhhoQDMzMzMzEWtAAAAAAAAKbkBmZmZmZoFwQM3MzMzM/XFAMzMzMzN6c0CamZmZmfZ0QAAAAAAAc3ZAZmZmZmbvd0DNzMzMzGt5QDMzMzMz6HpAmpmZmZlkfEAAAAAAAOF9QGZmZmZmXX9AZmZmZuZsgECamZmZGSuBQM3MzMxM6YFAAAAAAICngkAzMzMzs2WDQGZmZmbmI4RAmpmZmRnihEDNzMzMTKCFQAAAAACAXoZAMzMzM7Mch0BmZmZm5tqHQJqZmZkZmYhAzczMzExXiUAAAAAAgBWKQDMzMzOz04pAZmZmZuaRi0CamZmZGVCMQM3MzMxMDo1AAAAAAIDMjUAzMzMzs4qOQGZmZmbmSI9A\",\"dtype\":\"float64\",\"shape\":[75]}},\"selected\":{\"id\":\"23d2d12c-c43a-4f7d-805d-52053a3fd4dd\",\"type\":\"Selection\"},\"selection_policy\":{\"id\":\"5e62bcee-d95c-41c5-8fc2-0d541535c33e\",\"type\":\"UnionRenderers\"}},\"id\":\"2e770721-cc6d-444e-8e59-da34f5371859\",\"type\":\"ColumnDataSource\"},{\"attributes\":{\"fill_alpha\":{\"value\":0.7},\"fill_color\":{\"value\":\"#984ea3\"},\"line_alpha\":{\"value\":0.7},\"line_color\":{\"value\":\"#984ea3\"},\"x\":{\"field\":\"x\"},\"y\":{\"field\":\"y\"}},\"id\":\"64483d81-96e4-42f1-ac9a-887040feb48f\",\"type\":\"Square\"},{\"attributes\":{\"data_source\":{\"id\":\"2e770721-cc6d-444e-8e59-da34f5371859\",\"type\":\"ColumnDataSource\"},\"glyph\":{\"id\":\"d1e0bc96-5994-4844-afbb-8d5226f37f7b\",\"type\":\"Line\"},\"hover_glyph\":null,\"muted_glyph\":null,\"nonselection_glyph\":{\"id\":\"2286be7d-c47e-4331-9f0e-4b04aee3710f\",\"type\":\"Line\"},\"selection_glyph\":null,\"view\":{\"id\":\"0054f682-2448-4b16-b990-66d2ec9ab4e5\",\"type\":\"CDSView\"}},\"id\":\"968d9428-323c-4334-8c3b-9fa5f49f5b41\",\"type\":\"GlyphRenderer\"},{\"attributes\":{\"fill_alpha\":{\"value\":0.1},\"fill_color\":{\"value\":\"#1f77b4\"},\"line_alpha\":{\"value\":0.1},\"line_color\":{\"value\":\"#1f77b4\"},\"x\":{\"field\":\"x\"},\"y\":{\"field\":\"y\"}},\"id\":\"7a619343-29f8-4a00-9c28-a1148cbe973f\",\"type\":\"Square\"},{\"attributes\":{\"callback\":null,\"data\":{\"x\":{\"__ndarray__\":\"eVHpDCosED+HkB1dSOcJv70I+JG5uyA/PCvwbEt4JD98cEG4AXAmPzSuYYENWig/DcpV1F9qKj/B/PpKbGosP8eXcAlSlC4/9gfyaFtdMD8lMqwOqIcxP+DJna13sTI/wpr/PEzbMz8FfcsiPEA0P7Ibb4RYeTc/JU4ehSSsQj8H2t/JzmpPP6IcENb7XFg/W9/BwEwDYj/pa5xgBsJpP9KyBE48BHI/alQ0G4oQeT+JX1uG0vN/PwYIH7h1OIA/2CRs9R0Hez87I5WbhCh1P7eyOdAALHA/9tYUDXhuaD8EJhzs4G9iPx6rbo4nxFs/APi1o7B6VD/5rSr3GnRNP/gEYQgcoUU/JQ/k+3CeQD+IdlhnWyU5P0rSZtsdfjI/ciry0TpMLj9tF2KK9TMsPxKpkxNeRSo/fh39wq+tLD/ztX8kDUk/P5bTA75ZhWA/fBZ2oxfGeT+ZLlwHG1+OP4UA6En8/ps/K80JgSypoj94nWP5IO+mP844eu2zeaw/LCokkWRzsT8l9jFo5p60P5E3Jq/Bh7c/IgJITNT7uT/jzn0gFr28P+I+ME8AKMA/9sZajTZYwj/6UcNtI9TEPx8hFKXObcc/EVlBX7wXyz9TMNdg6ZXOP1jaFFXg4NA/v6behXNu0j9E5+vobg3UP8BU2LG2ztU/ZNX3TLyk1z9JMZtbfGXZP6jMB+Mr6to/l45766od3D+iOPTU8tzcP5gSixAFEN0/slDnYdPQ3D+5HVTBLF3cP3X83Vx49ds/FwinqnXH2z/Xn0gg8/vbP7Sl9VTaZN0/\",\"dtype\":\"float64\",\"shape\":[75]},\"y\":{\"__ndarray__\":\"S/O/Q+51ND/Sv8nbtpRIP2vylNV0PVE/aTum7souWD/At0SJ8fVgPw3Iuahxymc/MSNhhJWvcD/bTfBN02d3P2zb5nxnaoA/CD5h5MAGhz8NmeH1TyaQP+zrCsc9p5Y/LbKd76fGnz/bLW5ISEmmPww9YvTcQq8/JV2OstnstT8Er5Y7M8G+P0c+r3jqkcU/5h99k6ZBzj88bCIzFzjVP4enV8oyxN0//yH99nXg5D8qOpLLf0jtP5kqGJXUifQ/c9cS8kHP/D+/DpwzojQEQIEmwoanVwxA4lgXt9HgE0BSSZ2AJuIbQAMJih9jjiNA5q4l5INuK0AwTKYKRj0zQNv5fmq8/DpAaCJseHrtQkB/+zpwzoxKQM3MzMzMeFJAZmZmZmZqWEAAAAAAAFxeQM3MzMzMJmJAmpmZmZkfZUBmZmZmZhhoQDMzMzMzEWtAAAAAAAAKbkBmZmZmZoFwQM3MzMzM/XFAMzMzMzN6c0CamZmZmfZ0QAAAAAAAc3ZAZmZmZmbvd0DNzMzMzGt5QDMzMzMz6HpAmpmZmZlkfEAAAAAAAOF9QGZmZmZmXX9AZmZmZuZsgECamZmZGSuBQM3MzMxM6YFAAAAAAICngkAzMzMzs2WDQGZmZmbmI4RAmpmZmRnihEDNzMzMTKCFQAAAAACAXoZAMzMzM7Mch0BmZmZm5tqHQJqZmZkZmYhAzczMzExXiUAAAAAAgBWKQDMzMzOz04pAZmZmZuaRi0CamZmZGVCMQM3MzMxMDo1AAAAAAIDMjUAzMzMzs4qOQGZmZmbmSI9A\",\"dtype\":\"float64\",\"shape\":[75]}},\"selected\":{\"id\":\"2acd4884-6918-40cc-b1d4-9817f4137de9\",\"type\":\"Selection\"},\"selection_policy\":{\"id\":\"17814f40-a8ce-45df-b836-ca9fd126b9cd\",\"type\":\"UnionRenderers\"}},\"id\":\"2d249fa5-fc05-485e-84bf-be8925a88c66\",\"type\":\"ColumnDataSource\"},{\"attributes\":{\"plot\":null,\"text\":\"Log pressure scale\"},\"id\":\"514cbb4c-5349-4721-8c98-e84534c5b60f\",\"type\":\"Title\"},{\"attributes\":{\"line_alpha\":0.1,\"line_color\":\"#1f77b4\",\"line_width\":3,\"x\":{\"field\":\"x\"},\"y\":{\"field\":\"y\"}},\"id\":\"2286be7d-c47e-4331-9f0e-4b04aee3710f\",\"type\":\"Line\"},{\"attributes\":{\"line_alpha\":0.6,\"line_color\":\"#984ea3\",\"line_width\":3,\"x\":{\"field\":\"x\"},\"y\":{\"field\":\"y\"}},\"id\":\"d1e0bc96-5994-4844-afbb-8d5226f37f7b\",\"type\":\"Line\"},{\"attributes\":{\"source\":{\"id\":\"2e770721-cc6d-444e-8e59-da34f5371859\",\"type\":\"ColumnDataSource\"}},\"id\":\"0054f682-2448-4b16-b990-66d2ec9ab4e5\",\"type\":\"CDSView\"},{\"attributes\":{\"children\":[{\"id\":\"2776c97b-8fd5-42c2-97a2-be99682ab4b5\",\"type\":\"Row\"}]},\"id\":\"abff77b9-d896-44f5-9723-9f96b21421fa\",\"type\":\"Column\"},{\"attributes\":{\"active_drag\":\"auto\",\"active_inspect\":\"auto\",\"active_scroll\":\"auto\",\"active_tap\":\"auto\",\"tools\":[{\"id\":\"2c8e9493-bd05-48bd-83ee-fddcc8a62150\",\"type\":\"PanTool\"},{\"id\":\"2875da39-b059-4b3b-8f03-22c446c01824\",\"type\":\"WheelZoomTool\"},{\"id\":\"a0ca7298-6c03-4616-aa73-8c15ec8cdbae\",\"type\":\"BoxZoomTool\"},{\"id\":\"771b27f1-cb5b-4ddb-a235-52094fb3e1d2\",\"type\":\"SaveTool\"},{\"id\":\"93f87f8c-392f-4826-9c01-c5ac1e28e308\",\"type\":\"ResetTool\"},{\"id\":\"743e8335-356d-4db0-8df2-be7205d5b167\",\"type\":\"HelpTool\"}]},\"id\":\"7868684e-8719-4358-bf83-ce18818007a9\",\"type\":\"Toolbar\"},{\"attributes\":{\"source\":{\"id\":\"c7d48c51-506f-4a0f-b35f-ec072a8dfa63\",\"type\":\"ColumnDataSource\"}},\"id\":\"677a035d-4ab6-4070-9895-4e0c7c7fdf4a\",\"type\":\"CDSView\"},{\"attributes\":{\"axis_label\":\"cooling rate [K/day]\",\"formatter\":{\"id\":\"d012cacb-c35f-4ec2-ade0-5b372ed64c4d\",\"type\":\"BasicTickFormatter\"},\"plot\":{\"id\":\"1a160871-8fb1-4528-9d9e-457b59b6f3e7\",\"subtype\":\"Figure\",\"type\":\"Plot\"},\"ticker\":{\"id\":\"be8aaec9-ce30-430c-a22c-e1c61cb94094\",\"type\":\"BasicTicker\"}},\"id\":\"92bcd590-0ad6-4e5f-8032-3ac90d1c5c3b\",\"type\":\"LinearAxis\"},{\"attributes\":{\"data_source\":{\"id\":\"67a66922-6c7e-4b27-9d88-763c5256a746\",\"type\":\"ColumnDataSource\"},\"glyph\":{\"id\":\"8b06d389-72b8-4f82-8c07-3bab159ed2c3\",\"type\":\"Line\"},\"hover_glyph\":null,\"muted_glyph\":null,\"nonselection_glyph\":{\"id\":\"17cb738c-8bc6-462a-8829-61d723e917b7\",\"type\":\"Line\"},\"selection_glyph\":null,\"view\":{\"id\":\"18963739-0f0e-46b6-89e5-8122c44d82f3\",\"type\":\"CDSView\"}},\"id\":\"3c6bb11d-e93c-4768-8522-f4e387055f0c\",\"type\":\"GlyphRenderer\"},{\"attributes\":{\"source\":{\"id\":\"67a66922-6c7e-4b27-9d88-763c5256a746\",\"type\":\"ColumnDataSource\"}},\"id\":\"18963739-0f0e-46b6-89e5-8122c44d82f3\",\"type\":\"CDSView\"}],\"root_ids\":[\"f1d91f82-e21f-45ec-b510-3e7e812e6998\"]},\"title\":\"Bokeh Application\",\"version\":\"0.12.16\"}};\n",
       "  var render_items = [{\"docid\":\"ce0a1c43-9382-43cb-870f-7bc1a20a64b2\",\"elementid\":\"7e811a4b-2ea3-48c6-8eed-6fac6e1610b3\",\"modelid\":\"f1d91f82-e21f-45ec-b510-3e7e812e6998\"}];\n",
       "  root.Bokeh.embed.embed_items_notebook(docs_json, render_items);\n",
       "\n",
       "  }\n",
       "  if (root.Bokeh !== undefined) {\n",
       "    embed_document(root);\n",
       "  } else {\n",
       "    var attempts = 0;\n",
       "    var timer = setInterval(function(root) {\n",
       "      if (root.Bokeh !== undefined) {\n",
       "        embed_document(root);\n",
       "        clearInterval(timer);\n",
       "      }\n",
       "      attempts++;\n",
       "      if (attempts > 100) {\n",
       "        console.log(\"Bokeh: ERROR: Unable to run BokehJS code because BokehJS library is missing\")\n",
       "        clearInterval(timer);\n",
       "      }\n",
       "    }, 10, root)\n",
       "  }\n",
       "})(window);"
      ],
      "application/vnd.bokehjs_exec.v0+json": ""
     },
     "metadata": {
      "application/vnd.bokehjs_exec.v0+json": {
       "id": "f1d91f82-e21f-45ec-b510-3e7e812e6998"
      }
     },
     "output_type": "display_data"
    },
    {
     "name": "stdout",
     "output_type": "stream",
     "text": [
      "FIGURE. Cooling rate profiles.\n"
     ]
    },
    {
     "data": {
      "text/html": [
       "<a id=\"Flux_Comparison\"></a>"
      ],
      "text/plain": [
       "<IPython.core.display.HTML object>"
      ]
     },
     "metadata": {},
     "output_type": "display_data"
    },
    {
     "data": {
      "text/markdown": [
       "# Flux Comparison"
      ],
      "text/plain": [
       "<IPython.core.display.Markdown object>"
      ]
     },
     "metadata": {},
     "output_type": "display_data"
    },
    {
     "data": {
      "text/html": [
       "<div>\n",
       "<style scoped>\n",
       "    .dataframe tbody tr th:only-of-type {\n",
       "        vertical-align: middle;\n",
       "    }\n",
       "\n",
       "    .dataframe tbody tr th {\n",
       "        vertical-align: top;\n",
       "    }\n",
       "\n",
       "    .dataframe thead th {\n",
       "        text-align: right;\n",
       "    }\n",
       "</style>\n",
       "<table border=\"1\" class=\"dataframe\">\n",
       "  <thead>\n",
       "    <tr style=\"text-align: right;\">\n",
       "      <th></th>\n",
       "      <th></th>\n",
       "      <th>flug</th>\n",
       "      <th>fldg</th>\n",
       "      <th>fnetg</th>\n",
       "    </tr>\n",
       "    <tr>\n",
       "      <th>pressure</th>\n",
       "      <th>level</th>\n",
       "      <th></th>\n",
       "      <th></th>\n",
       "      <th></th>\n",
       "    </tr>\n",
       "  </thead>\n",
       "  <tbody>\n",
       "    <tr>\n",
       "      <th>0.0000</th>\n",
       "      <th>1</th>\n",
       "      <td>-38.664460</td>\n",
       "      <td>0.000000</td>\n",
       "      <td>-38.664460</td>\n",
       "    </tr>\n",
       "    <tr>\n",
       "      <th>1.0685</th>\n",
       "      <th>24</th>\n",
       "      <td>-38.664288</td>\n",
       "      <td>0.000635</td>\n",
       "      <td>-38.663653</td>\n",
       "    </tr>\n",
       "    <tr>\n",
       "      <th>1013.0000</th>\n",
       "      <th>76</th>\n",
       "      <td>-43.964837</td>\n",
       "      <td>28.385287</td>\n",
       "      <td>-15.579550</td>\n",
       "    </tr>\n",
       "  </tbody>\n",
       "</table>\n",
       "</div>"
      ],
      "text/plain": [
       "                      flug       fldg      fnetg\n",
       "pressure  level                                 \n",
       "0.0000    1     -38.664460   0.000000 -38.664460\n",
       "1.0685    24    -38.664288   0.000635 -38.663653\n",
       "1013.0000 76    -43.964837  28.385287 -15.579550"
      ]
     },
     "metadata": {},
     "output_type": "display_data"
    },
    {
     "name": "stdout",
     "output_type": "stream",
     "text": [
      "Table. Fluxes. CRD\n"
     ]
    },
    {
     "data": {
      "text/html": [
       "<div>\n",
       "<style scoped>\n",
       "    .dataframe tbody tr th:only-of-type {\n",
       "        vertical-align: middle;\n",
       "    }\n",
       "\n",
       "    .dataframe tbody tr th {\n",
       "        vertical-align: top;\n",
       "    }\n",
       "\n",
       "    .dataframe thead th {\n",
       "        text-align: right;\n",
       "    }\n",
       "</style>\n",
       "<table border=\"1\" class=\"dataframe\">\n",
       "  <thead>\n",
       "    <tr style=\"text-align: right;\">\n",
       "      <th></th>\n",
       "      <th></th>\n",
       "      <th>flug</th>\n",
       "      <th>fldg</th>\n",
       "      <th>fnetg</th>\n",
       "    </tr>\n",
       "    <tr>\n",
       "      <th>pressure</th>\n",
       "      <th>level</th>\n",
       "      <th></th>\n",
       "      <th></th>\n",
       "      <th></th>\n",
       "    </tr>\n",
       "  </thead>\n",
       "  <tbody>\n",
       "    <tr>\n",
       "      <th>0.0000</th>\n",
       "      <th>1</th>\n",
       "      <td>-38.615411</td>\n",
       "      <td>0.00000</td>\n",
       "      <td>-38.615411</td>\n",
       "    </tr>\n",
       "    <tr>\n",
       "      <th>1.0685</th>\n",
       "      <th>24</th>\n",
       "      <td>-38.615226</td>\n",
       "      <td>0.00054</td>\n",
       "      <td>-38.614686</td>\n",
       "    </tr>\n",
       "    <tr>\n",
       "      <th>1013.0000</th>\n",
       "      <th>76</th>\n",
       "      <td>-43.964838</td>\n",
       "      <td>28.43876</td>\n",
       "      <td>-15.526077</td>\n",
       "    </tr>\n",
       "  </tbody>\n",
       "</table>\n",
       "</div>"
      ],
      "text/plain": [
       "                      flug      fldg      fnetg\n",
       "pressure  level                                \n",
       "0.0000    1     -38.615411   0.00000 -38.615411\n",
       "1.0685    24    -38.615226   0.00054 -38.614686\n",
       "1013.0000 76    -43.964838  28.43876 -15.526077"
      ]
     },
     "metadata": {},
     "output_type": "display_data"
    },
    {
     "name": "stdout",
     "output_type": "stream",
     "text": [
      "Table. Fluxes. WGT igg=10 wgt_flux=1\n"
     ]
    },
    {
     "data": {
      "text/html": [
       "<div>\n",
       "<style scoped>\n",
       "    .dataframe tbody tr th:only-of-type {\n",
       "        vertical-align: middle;\n",
       "    }\n",
       "\n",
       "    .dataframe tbody tr th {\n",
       "        vertical-align: top;\n",
       "    }\n",
       "\n",
       "    .dataframe thead th {\n",
       "        text-align: right;\n",
       "    }\n",
       "</style>\n",
       "<table border=\"1\" class=\"dataframe\">\n",
       "  <thead>\n",
       "    <tr style=\"text-align: right;\">\n",
       "      <th></th>\n",
       "      <th></th>\n",
       "      <th>flug</th>\n",
       "      <th>fldg</th>\n",
       "      <th>fnetg</th>\n",
       "    </tr>\n",
       "    <tr>\n",
       "      <th>pressure</th>\n",
       "      <th>level</th>\n",
       "      <th></th>\n",
       "      <th></th>\n",
       "      <th></th>\n",
       "    </tr>\n",
       "  </thead>\n",
       "  <tbody>\n",
       "    <tr>\n",
       "      <th>1.000000e-08</th>\n",
       "      <th>1</th>\n",
       "      <td>-38.768054</td>\n",
       "      <td>0.000182</td>\n",
       "      <td>-38.767872</td>\n",
       "    </tr>\n",
       "    <tr>\n",
       "      <th>1.068500e+00</th>\n",
       "      <th>24</th>\n",
       "      <td>-38.767908</td>\n",
       "      <td>0.000641</td>\n",
       "      <td>-38.767268</td>\n",
       "    </tr>\n",
       "    <tr>\n",
       "      <th>1.013000e+03</th>\n",
       "      <th>76</th>\n",
       "      <td>-43.964840</td>\n",
       "      <td>28.039585</td>\n",
       "      <td>-15.925255</td>\n",
       "    </tr>\n",
       "  </tbody>\n",
       "</table>\n",
       "</div>"
      ],
      "text/plain": [
       "                         flug       fldg      fnetg\n",
       "pressure     level                                 \n",
       "1.000000e-08 1     -38.768054   0.000182 -38.767872\n",
       "1.068500e+00 24    -38.767908   0.000641 -38.767268\n",
       "1.013000e+03 76    -43.964840  28.039585 -15.925255"
      ]
     },
     "metadata": {},
     "output_type": "display_data"
    },
    {
     "name": "stdout",
     "output_type": "stream",
     "text": [
      "Table. Fluxes. CLIRAD\n"
     ]
    },
    {
     "data": {
      "text/html": [
       "<div>\n",
       "<style scoped>\n",
       "    .dataframe tbody tr th:only-of-type {\n",
       "        vertical-align: middle;\n",
       "    }\n",
       "\n",
       "    .dataframe tbody tr th {\n",
       "        vertical-align: top;\n",
       "    }\n",
       "\n",
       "    .dataframe thead th {\n",
       "        text-align: right;\n",
       "    }\n",
       "</style>\n",
       "<table border=\"1\" class=\"dataframe\">\n",
       "  <thead>\n",
       "    <tr style=\"text-align: right;\">\n",
       "      <th></th>\n",
       "      <th></th>\n",
       "      <th>flug</th>\n",
       "      <th>fldg</th>\n",
       "      <th>fnetg</th>\n",
       "    </tr>\n",
       "    <tr>\n",
       "      <th>pressure</th>\n",
       "      <th>level</th>\n",
       "      <th></th>\n",
       "      <th></th>\n",
       "      <th></th>\n",
       "    </tr>\n",
       "  </thead>\n",
       "  <tbody>\n",
       "    <tr>\n",
       "      <th>0.0000</th>\n",
       "      <th>1</th>\n",
       "      <td>4.904867e-02</td>\n",
       "      <td>0.000000</td>\n",
       "      <td>0.049049</td>\n",
       "    </tr>\n",
       "    <tr>\n",
       "      <th>1.0685</th>\n",
       "      <th>24</th>\n",
       "      <td>4.906189e-02</td>\n",
       "      <td>-0.000095</td>\n",
       "      <td>0.048967</td>\n",
       "    </tr>\n",
       "    <tr>\n",
       "      <th>1013.0000</th>\n",
       "      <th>76</th>\n",
       "      <td>-5.200000e-07</td>\n",
       "      <td>0.053473</td>\n",
       "      <td>0.053473</td>\n",
       "    </tr>\n",
       "  </tbody>\n",
       "</table>\n",
       "</div>"
      ],
      "text/plain": [
       "                         flug      fldg     fnetg\n",
       "pressure  level                                  \n",
       "0.0000    1      4.904867e-02  0.000000  0.049049\n",
       "1.0685    24     4.906189e-02 -0.000095  0.048967\n",
       "1013.0000 76    -5.200000e-07  0.053473  0.053473"
      ]
     },
     "metadata": {},
     "output_type": "display_data"
    },
    {
     "name": "stdout",
     "output_type": "stream",
     "text": [
      "Table. Fluxes. (WGT igg=10 wgt_flux=1) - (CRD)\n"
     ]
    },
    {
     "data": {
      "text/html": [
       "<div>\n",
       "<style scoped>\n",
       "    .dataframe tbody tr th:only-of-type {\n",
       "        vertical-align: middle;\n",
       "    }\n",
       "\n",
       "    .dataframe tbody tr th {\n",
       "        vertical-align: top;\n",
       "    }\n",
       "\n",
       "    .dataframe thead th {\n",
       "        text-align: right;\n",
       "    }\n",
       "</style>\n",
       "<table border=\"1\" class=\"dataframe\">\n",
       "  <thead>\n",
       "    <tr style=\"text-align: right;\">\n",
       "      <th></th>\n",
       "      <th></th>\n",
       "      <th>flug</th>\n",
       "      <th>fldg</th>\n",
       "      <th>fnetg</th>\n",
       "    </tr>\n",
       "    <tr>\n",
       "      <th>pressure</th>\n",
       "      <th>level</th>\n",
       "      <th></th>\n",
       "      <th></th>\n",
       "      <th></th>\n",
       "    </tr>\n",
       "  </thead>\n",
       "  <tbody>\n",
       "    <tr>\n",
       "      <th>0.0000</th>\n",
       "      <th>1</th>\n",
       "      <td>-0.103594</td>\n",
       "      <td>0.000182</td>\n",
       "      <td>-0.103412</td>\n",
       "    </tr>\n",
       "    <tr>\n",
       "      <th>1.0685</th>\n",
       "      <th>24</th>\n",
       "      <td>-0.103620</td>\n",
       "      <td>0.000006</td>\n",
       "      <td>-0.103615</td>\n",
       "    </tr>\n",
       "    <tr>\n",
       "      <th>1013.0000</th>\n",
       "      <th>76</th>\n",
       "      <td>-0.000003</td>\n",
       "      <td>-0.345702</td>\n",
       "      <td>-0.345705</td>\n",
       "    </tr>\n",
       "  </tbody>\n",
       "</table>\n",
       "</div>"
      ],
      "text/plain": [
       "                     flug      fldg     fnetg\n",
       "pressure  level                              \n",
       "0.0000    1     -0.103594  0.000182 -0.103412\n",
       "1.0685    24    -0.103620  0.000006 -0.103615\n",
       "1013.0000 76    -0.000003 -0.345702 -0.345705"
      ]
     },
     "metadata": {},
     "output_type": "display_data"
    },
    {
     "name": "stdout",
     "output_type": "stream",
     "text": [
      "Table. Fluxes. (CLIRAD) - (CRD)\n"
     ]
    },
    {
     "data": {
      "text/html": [
       "<a id=\"Best-fit_Parameters\"></a>"
      ],
      "text/plain": [
       "<IPython.core.display.HTML object>"
      ]
     },
     "metadata": {},
     "output_type": "display_data"
    },
    {
     "data": {
      "text/markdown": [
       "# Best-fit Parameters"
      ],
      "text/plain": [
       "<IPython.core.display.Markdown object>"
      ]
     },
     "metadata": {},
     "output_type": "display_data"
    },
    {
     "name": "stdout",
     "output_type": "stream",
     "text": [
      "Best-fit values for each (gas, band)\n",
      "------------------------------------\n",
      "o h2o band3b\n",
      "  atmpro = trp\n",
      "  band = 3b\n",
      "  commitnumber = a06b618\n",
      "  conc = None\n",
      "  dv = 0.001\n",
      "  klin = 1e-24\n",
      "  molecule = h2o\n",
      "  ng_adju = [0]\n",
      "  ng_refs = [6]\n",
      "  nv = 1000\n",
      "  option_compute_btable = 0\n",
      "  option_compute_ktable = 1\n",
      "  option_wgt_flux = 1\n",
      "  option_wgt_k = 1\n",
      "  ref_pts = [(600, 250)]\n",
      "  tsfc = 294\n",
      "  vmax = 720\n",
      "  vmin = 620\n",
      "  w_diffuse = [(1.66, 1.66, 1.66, 1.55, 1.5, 1.66)]\n",
      "  wgt = [(0.8, 0.8, 0.8, 0.6, 0.6, 0.9)]\n"
     ]
    }
   ],
   "source": [
    "script()"
   ]
  },
  {
   "cell_type": "code",
   "execution_count": 13,
   "metadata": {
    "collapsed": true
   },
   "outputs": [
    {
     "data": {
      "text/html": [
       "<script>\n",
       "code_show=true; \n",
       "function code_toggle() {\n",
       " if (code_show){\n",
       " $('div.input').hide();\n",
       " } else {\n",
       " $('div.input').show();\n",
       " }\n",
       " code_show = !code_show\n",
       "} \n",
       "$( document ).ready(code_toggle);\n",
       "</script>\n",
       "<form action=\"javascript:code_toggle()\"><input type=\"submit\" value=\"Click here to toggle on/off the raw code.\"></form>"
      ],
      "text/plain": [
       "<IPython.core.display.HTML object>"
      ]
     },
     "execution_count": 13,
     "metadata": {},
     "output_type": "execute_result"
    }
   ],
   "source": [
    "display.HTML('''<script>\n",
    "code_show=true; \n",
    "function code_toggle() {\n",
    " if (code_show){\n",
    " $('div.input').hide();\n",
    " } else {\n",
    " $('div.input').show();\n",
    " }\n",
    " code_show = !code_show\n",
    "} \n",
    "$( document ).ready(code_toggle);\n",
    "</script>\n",
    "<form action=\"javascript:code_toggle()\"><input type=\"submit\" value=\"Click here to toggle on/off the raw code.\"></form>''')"
   ]
  }
 ],
 "metadata": {
  "kernelspec": {
   "display_name": "Python 3",
   "language": "python",
   "name": "python3"
  },
  "language_info": {
   "codemirror_mode": {
    "name": "ipython",
    "version": 3
   },
   "file_extension": ".py",
   "mimetype": "text/x-python",
   "name": "python",
   "nbconvert_exporter": "python",
   "pygments_lexer": "ipython3",
   "version": "3.6.1"
  }
 },
 "nbformat": 4,
 "nbformat_minor": 2
}
