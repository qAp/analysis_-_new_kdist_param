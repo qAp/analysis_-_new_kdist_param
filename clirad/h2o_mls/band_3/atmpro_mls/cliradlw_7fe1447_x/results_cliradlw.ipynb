{
 "cells": [
  {
   "cell_type": "code",
   "execution_count": 1,
   "metadata": {
    "collapsed": true
   },
   "outputs": [],
   "source": [
    "%matplotlib inline\n",
    "import os\n",
    "import re\n",
    "import io\n",
    "import itertools\n",
    "import pprint\n",
    "\n",
    "from bokeh.io import output_notebook, show\n",
    "from bokeh.layouts import gridplot\n",
    "from bokeh.plotting import figure\n",
    "from bokeh.models import Range1d, Legend\n",
    "from bokeh.palettes import all_palettes\n",
    "\n",
    "import matplotlib\n",
    "import matplotlib.pyplot as plt\n",
    "import numpy as np\n",
    "import pandas as pd\n",
    "import xarray as xr\n",
    "\n",
    "import climatools.lblnew.bestfit_params as bestfits\n",
    "from climatools.lblnew import setup_bestfit, setup_overlap\n",
    "import climatools.lblnew.pipeline as pipe_lblnew\n",
    "import climatools.cliradlw.setup as setup_cliradlw\n",
    "import climatools.cliradlw.pipeline as pipe_cliradlw\n",
    "\n",
    "import climatools.html.html as climahtml\n",
    "from climatools.lblnew.dataio import *\n",
    "from climatools.plot.plot import *\n",
    "\n",
    "\n",
    "import IPython.display as display"
   ]
  },
  {
   "cell_type": "code",
   "execution_count": 2,
   "metadata": {
    "collapsed": true
   },
   "outputs": [],
   "source": [
    "%run param.py"
   ]
  },
  {
   "cell_type": "code",
   "execution_count": 3,
   "metadata": {
    "collapsed": true
   },
   "outputs": [],
   "source": [
    "def load_output_file(path_csv):\n",
    "    '''\n",
    "    Load lblnew output .csv file to xarray.Dataset\n",
    "    \n",
    "    Parameters\n",
    "    ----------\n",
    "    path_csv: str\n",
    "              Path to the .csv file to be loaded.\n",
    "    ds: xarray.Dataset\n",
    "        Data in the input file in the form of an xarray.Dataset.\n",
    "    '''\n",
    "    toindex = ['band', 'pressure', 'igg', 'g']    \n",
    "    df = pd.read_csv(path_csv, sep=r'\\s+')\n",
    "    df = df.set_index([i for i in toindex if i in df.columns])\n",
    "    df = df.rename(columns={'sfu': 'flug',\n",
    "                            'sfd': 'fldg',\n",
    "                            'fnet': 'fnetg',\n",
    "                            'coolr': 'coolrg'})\n",
    "    ds = xr.Dataset.from_dataframe(df)\n",
    "\n",
    "    for l in ('level', 'layer'):\n",
    "        if l in ds.data_vars:\n",
    "            if len(ds[l].dims) > 1:\n",
    "                surface = {d: 0 for d in ds.dims if d != 'pressure'}\n",
    "                coord_level = ds[l][surface]\n",
    "                ds.coords[l] = ('pressure', coord_level)\n",
    "            else:\n",
    "                ds.coords[l] = ('pressure', ds[l])\n",
    "    \n",
    "    return ds"
   ]
  },
  {
   "cell_type": "code",
   "execution_count": 4,
   "metadata": {
    "collapsed": true
   },
   "outputs": [],
   "source": [
    "def lblnew_setup(param=None):\n",
    "    if 'ng_refs' in param:\n",
    "        return {'setup': setup_bestfit,\n",
    "                'fname_flux_crd': 'output_flux.dat',\n",
    "                'fname_cool_crd': 'output_coolr.dat',\n",
    "                'fname_flux_wgt': 'output_wfluxg.dat',\n",
    "                'fname_cool_wgt': 'output_wcoolrg.dat'}\n",
    "    else:\n",
    "        return {'setup': setup_overlap,\n",
    "                'fname_flux_crd': 'output_flux.dat',\n",
    "                'fname_cool_crd': 'output_coolr.dat',\n",
    "                'fname_flux_wgt': 'output_wflux.dat',\n",
    "                'fname_cool_wgt': 'output_wcoolr.dat'}\n",
    "\n",
    "    \n",
    "def load_lblnew_data(param):\n",
    "    \n",
    "    fname_dsname = [('fname_flux_crd', 'ds_flux_crd'),\n",
    "                    ('fname_cool_crd', 'ds_cool_crd'),\n",
    "                    ('fname_flux_wgt', 'ds_flux_wgt'),\n",
    "                    ('fname_cool_wgt', 'ds_cool_wgt')]\n",
    "    \n",
    "    d = lblnew_setup(param)\n",
    "    dir_fortran = pipe_lblnew.get_dir_case(param, setup=d['setup'])\n",
    "    \n",
    "    data_dict = {}\n",
    "    for fname, dsname in fname_dsname:\n",
    "        fpath = os.path.join(dir_fortran, d[fname])\n",
    "        data_dict[dsname] = load_output_file(fpath)\n",
    "    return data_dict\n",
    "    \n",
    "\n",
    "    \n",
    "    "
   ]
  },
  {
   "cell_type": "code",
   "execution_count": 5,
   "metadata": {
    "collapsed": true
   },
   "outputs": [],
   "source": [
    "d = load_lblnew_data(PARAM_LBLNEW)\n",
    "\n",
    "DS_FLUX_CRD = d['ds_flux_crd']\n",
    "DS_COOL_CRD = d['ds_cool_crd']\n",
    "DS_FLUX_WGT = d['ds_flux_wgt']\n",
    "DS_COOL_WGT = d['ds_cool_wgt']"
   ]
  },
  {
   "cell_type": "code",
   "execution_count": 6,
   "metadata": {
    "collapsed": true
   },
   "outputs": [],
   "source": [
    "DIR_FORTRAN = pipe_cliradlw.get_fortran_dir(PARAM, \n",
    "                                            setup=setup_cliradlw)\n",
    "\n",
    "PATH_FLUX = os.path.join(DIR_FORTRAN, 'output_flux.dat')\n",
    "PATH_COOL = os.path.join(DIR_FORTRAN, 'output_coolr.dat')\n",
    "\n",
    "DS_FLUX = load_output_file(PATH_FLUX)\n",
    "DS_COOL = load_output_file(PATH_COOL)"
   ]
  },
  {
   "cell_type": "code",
   "execution_count": 7,
   "metadata": {
    "collapsed": true
   },
   "outputs": [
    {
     "data": {
      "text/html": [
       "\n",
       "    <div class=\"bk-root\">\n",
       "        <a href=\"https://bokeh.pydata.org\" target=\"_blank\" class=\"bk-logo bk-logo-small bk-logo-notebook\"></a>\n",
       "        <span id=\"fd90a7a3-7222-4167-ab14-eb18d6d1647b\">Loading BokehJS ...</span>\n",
       "    </div>"
      ]
     },
     "metadata": {},
     "output_type": "display_data"
    },
    {
     "data": {
      "application/javascript": [
       "\n",
       "(function(root) {\n",
       "  function now() {\n",
       "    return new Date();\n",
       "  }\n",
       "\n",
       "  var force = true;\n",
       "\n",
       "  if (typeof (root._bokeh_onload_callbacks) === \"undefined\" || force === true) {\n",
       "    root._bokeh_onload_callbacks = [];\n",
       "    root._bokeh_is_loading = undefined;\n",
       "  }\n",
       "\n",
       "  var JS_MIME_TYPE = 'application/javascript';\n",
       "  var HTML_MIME_TYPE = 'text/html';\n",
       "  var EXEC_MIME_TYPE = 'application/vnd.bokehjs_exec.v0+json';\n",
       "  var CLASS_NAME = 'output_bokeh rendered_html';\n",
       "\n",
       "  /**\n",
       "   * Render data to the DOM node\n",
       "   */\n",
       "  function render(props, node) {\n",
       "    var script = document.createElement(\"script\");\n",
       "    node.appendChild(script);\n",
       "  }\n",
       "\n",
       "  /**\n",
       "   * Handle when an output is cleared or removed\n",
       "   */\n",
       "  function handleClearOutput(event, handle) {\n",
       "    var cell = handle.cell;\n",
       "\n",
       "    var id = cell.output_area._bokeh_element_id;\n",
       "    var server_id = cell.output_area._bokeh_server_id;\n",
       "    // Clean up Bokeh references\n",
       "    if (id !== undefined) {\n",
       "      Bokeh.index[id].model.document.clear();\n",
       "      delete Bokeh.index[id];\n",
       "    }\n",
       "\n",
       "    if (server_id !== undefined) {\n",
       "      // Clean up Bokeh references\n",
       "      var cmd = \"from bokeh.io.state import curstate; print(curstate().uuid_to_server['\" + server_id + \"'].get_sessions()[0].document.roots[0]._id)\";\n",
       "      cell.notebook.kernel.execute(cmd, {\n",
       "        iopub: {\n",
       "          output: function(msg) {\n",
       "            var element_id = msg.content.text.trim();\n",
       "            Bokeh.index[element_id].model.document.clear();\n",
       "            delete Bokeh.index[element_id];\n",
       "          }\n",
       "        }\n",
       "      });\n",
       "      // Destroy server and session\n",
       "      var cmd = \"import bokeh.io.notebook as ion; ion.destroy_server('\" + server_id + \"')\";\n",
       "      cell.notebook.kernel.execute(cmd);\n",
       "    }\n",
       "  }\n",
       "\n",
       "  /**\n",
       "   * Handle when a new output is added\n",
       "   */\n",
       "  function handleAddOutput(event, handle) {\n",
       "    var output_area = handle.output_area;\n",
       "    var output = handle.output;\n",
       "\n",
       "    // limit handleAddOutput to display_data with EXEC_MIME_TYPE content only\n",
       "    if ((output.output_type != \"display_data\") || (!output.data.hasOwnProperty(EXEC_MIME_TYPE))) {\n",
       "      return\n",
       "    }\n",
       "\n",
       "    var toinsert = output_area.element.find(\".\" + CLASS_NAME.split(' ')[0]);\n",
       "\n",
       "    if (output.metadata[EXEC_MIME_TYPE][\"id\"] !== undefined) {\n",
       "      toinsert[0].firstChild.textContent = output.data[JS_MIME_TYPE];\n",
       "      // store reference to embed id on output_area\n",
       "      output_area._bokeh_element_id = output.metadata[EXEC_MIME_TYPE][\"id\"];\n",
       "    }\n",
       "    if (output.metadata[EXEC_MIME_TYPE][\"server_id\"] !== undefined) {\n",
       "      var bk_div = document.createElement(\"div\");\n",
       "      bk_div.innerHTML = output.data[HTML_MIME_TYPE];\n",
       "      var script_attrs = bk_div.children[0].attributes;\n",
       "      for (var i = 0; i < script_attrs.length; i++) {\n",
       "        toinsert[0].firstChild.setAttribute(script_attrs[i].name, script_attrs[i].value);\n",
       "      }\n",
       "      // store reference to server id on output_area\n",
       "      output_area._bokeh_server_id = output.metadata[EXEC_MIME_TYPE][\"server_id\"];\n",
       "    }\n",
       "  }\n",
       "\n",
       "  function register_renderer(events, OutputArea) {\n",
       "\n",
       "    function append_mime(data, metadata, element) {\n",
       "      // create a DOM node to render to\n",
       "      var toinsert = this.create_output_subarea(\n",
       "        metadata,\n",
       "        CLASS_NAME,\n",
       "        EXEC_MIME_TYPE\n",
       "      );\n",
       "      this.keyboard_manager.register_events(toinsert);\n",
       "      // Render to node\n",
       "      var props = {data: data, metadata: metadata[EXEC_MIME_TYPE]};\n",
       "      render(props, toinsert[0]);\n",
       "      element.append(toinsert);\n",
       "      return toinsert\n",
       "    }\n",
       "\n",
       "    /* Handle when an output is cleared or removed */\n",
       "    events.on('clear_output.CodeCell', handleClearOutput);\n",
       "    events.on('delete.Cell', handleClearOutput);\n",
       "\n",
       "    /* Handle when a new output is added */\n",
       "    events.on('output_added.OutputArea', handleAddOutput);\n",
       "\n",
       "    /**\n",
       "     * Register the mime type and append_mime function with output_area\n",
       "     */\n",
       "    OutputArea.prototype.register_mime_type(EXEC_MIME_TYPE, append_mime, {\n",
       "      /* Is output safe? */\n",
       "      safe: true,\n",
       "      /* Index of renderer in `output_area.display_order` */\n",
       "      index: 0\n",
       "    });\n",
       "  }\n",
       "\n",
       "  // register the mime type if in Jupyter Notebook environment and previously unregistered\n",
       "  if (root.Jupyter !== undefined) {\n",
       "    var events = require('base/js/events');\n",
       "    var OutputArea = require('notebook/js/outputarea').OutputArea;\n",
       "\n",
       "    if (OutputArea.prototype.mime_types().indexOf(EXEC_MIME_TYPE) == -1) {\n",
       "      register_renderer(events, OutputArea);\n",
       "    }\n",
       "  }\n",
       "\n",
       "  \n",
       "  if (typeof (root._bokeh_timeout) === \"undefined\" || force === true) {\n",
       "    root._bokeh_timeout = Date.now() + 5000;\n",
       "    root._bokeh_failed_load = false;\n",
       "  }\n",
       "\n",
       "  var NB_LOAD_WARNING = {'data': {'text/html':\n",
       "     \"<div style='background-color: #fdd'>\\n\"+\n",
       "     \"<p>\\n\"+\n",
       "     \"BokehJS does not appear to have successfully loaded. If loading BokehJS from CDN, this \\n\"+\n",
       "     \"may be due to a slow or bad network connection. Possible fixes:\\n\"+\n",
       "     \"</p>\\n\"+\n",
       "     \"<ul>\\n\"+\n",
       "     \"<li>re-rerun `output_notebook()` to attempt to load from CDN again, or</li>\\n\"+\n",
       "     \"<li>use INLINE resources instead, as so:</li>\\n\"+\n",
       "     \"</ul>\\n\"+\n",
       "     \"<code>\\n\"+\n",
       "     \"from bokeh.resources import INLINE\\n\"+\n",
       "     \"output_notebook(resources=INLINE)\\n\"+\n",
       "     \"</code>\\n\"+\n",
       "     \"</div>\"}};\n",
       "\n",
       "  function display_loaded() {\n",
       "    var el = document.getElementById(\"fd90a7a3-7222-4167-ab14-eb18d6d1647b\");\n",
       "    if (el != null) {\n",
       "      el.textContent = \"BokehJS is loading...\";\n",
       "    }\n",
       "    if (root.Bokeh !== undefined) {\n",
       "      if (el != null) {\n",
       "        el.textContent = \"BokehJS \" + root.Bokeh.version + \" successfully loaded.\";\n",
       "      }\n",
       "    } else if (Date.now() < root._bokeh_timeout) {\n",
       "      setTimeout(display_loaded, 100)\n",
       "    }\n",
       "  }\n",
       "\n",
       "\n",
       "  function run_callbacks() {\n",
       "    try {\n",
       "      root._bokeh_onload_callbacks.forEach(function(callback) { callback() });\n",
       "    }\n",
       "    finally {\n",
       "      delete root._bokeh_onload_callbacks\n",
       "    }\n",
       "    console.info(\"Bokeh: all callbacks have finished\");\n",
       "  }\n",
       "\n",
       "  function load_libs(js_urls, callback) {\n",
       "    root._bokeh_onload_callbacks.push(callback);\n",
       "    if (root._bokeh_is_loading > 0) {\n",
       "      console.log(\"Bokeh: BokehJS is being loaded, scheduling callback at\", now());\n",
       "      return null;\n",
       "    }\n",
       "    if (js_urls == null || js_urls.length === 0) {\n",
       "      run_callbacks();\n",
       "      return null;\n",
       "    }\n",
       "    console.log(\"Bokeh: BokehJS not loaded, scheduling load and callback at\", now());\n",
       "    root._bokeh_is_loading = js_urls.length;\n",
       "    for (var i = 0; i < js_urls.length; i++) {\n",
       "      var url = js_urls[i];\n",
       "      var s = document.createElement('script');\n",
       "      s.src = url;\n",
       "      s.async = false;\n",
       "      s.onreadystatechange = s.onload = function() {\n",
       "        root._bokeh_is_loading--;\n",
       "        if (root._bokeh_is_loading === 0) {\n",
       "          console.log(\"Bokeh: all BokehJS libraries loaded\");\n",
       "          run_callbacks()\n",
       "        }\n",
       "      };\n",
       "      s.onerror = function() {\n",
       "        console.warn(\"failed to load library \" + url);\n",
       "      };\n",
       "      console.log(\"Bokeh: injecting script tag for BokehJS library: \", url);\n",
       "      document.getElementsByTagName(\"head\")[0].appendChild(s);\n",
       "    }\n",
       "  };var element = document.getElementById(\"fd90a7a3-7222-4167-ab14-eb18d6d1647b\");\n",
       "  if (element == null) {\n",
       "    console.log(\"Bokeh: ERROR: autoload.js configured with elementid 'fd90a7a3-7222-4167-ab14-eb18d6d1647b' but no matching script tag was found. \")\n",
       "    return false;\n",
       "  }\n",
       "\n",
       "  var js_urls = [\"https://cdn.pydata.org/bokeh/release/bokeh-0.12.14.min.js\", \"https://cdn.pydata.org/bokeh/release/bokeh-widgets-0.12.14.min.js\", \"https://cdn.pydata.org/bokeh/release/bokeh-tables-0.12.14.min.js\", \"https://cdn.pydata.org/bokeh/release/bokeh-gl-0.12.14.min.js\"];\n",
       "\n",
       "  var inline_js = [\n",
       "    function(Bokeh) {\n",
       "      Bokeh.set_log_level(\"info\");\n",
       "    },\n",
       "    \n",
       "    function(Bokeh) {\n",
       "      \n",
       "    },\n",
       "    function(Bokeh) {\n",
       "      console.log(\"Bokeh: injecting CSS: https://cdn.pydata.org/bokeh/release/bokeh-0.12.14.min.css\");\n",
       "      Bokeh.embed.inject_css(\"https://cdn.pydata.org/bokeh/release/bokeh-0.12.14.min.css\");\n",
       "      console.log(\"Bokeh: injecting CSS: https://cdn.pydata.org/bokeh/release/bokeh-widgets-0.12.14.min.css\");\n",
       "      Bokeh.embed.inject_css(\"https://cdn.pydata.org/bokeh/release/bokeh-widgets-0.12.14.min.css\");\n",
       "      console.log(\"Bokeh: injecting CSS: https://cdn.pydata.org/bokeh/release/bokeh-tables-0.12.14.min.css\");\n",
       "      Bokeh.embed.inject_css(\"https://cdn.pydata.org/bokeh/release/bokeh-tables-0.12.14.min.css\");\n",
       "    }\n",
       "  ];\n",
       "\n",
       "  function run_inline_js() {\n",
       "    \n",
       "    if ((root.Bokeh !== undefined) || (force === true)) {\n",
       "      for (var i = 0; i < inline_js.length; i++) {\n",
       "        inline_js[i].call(root, root.Bokeh);\n",
       "      }if (force === true) {\n",
       "        display_loaded();\n",
       "      }} else if (Date.now() < root._bokeh_timeout) {\n",
       "      setTimeout(run_inline_js, 100);\n",
       "    } else if (!root._bokeh_failed_load) {\n",
       "      console.log(\"Bokeh: BokehJS failed to load within specified timeout.\");\n",
       "      root._bokeh_failed_load = true;\n",
       "    } else if (force !== true) {\n",
       "      var cell = $(document.getElementById(\"fd90a7a3-7222-4167-ab14-eb18d6d1647b\")).parents('.cell').data().cell;\n",
       "      cell.output_area.append_execute_result(NB_LOAD_WARNING)\n",
       "    }\n",
       "\n",
       "  }\n",
       "\n",
       "  if (root._bokeh_is_loading === 0) {\n",
       "    console.log(\"Bokeh: BokehJS loaded, going straight to plotting\");\n",
       "    run_inline_js();\n",
       "  } else {\n",
       "    load_libs(js_urls, function() {\n",
       "      console.log(\"Bokeh: BokehJS plotting callback run at\", now());\n",
       "      run_inline_js();\n",
       "    });\n",
       "  }\n",
       "}(window));"
      ],
      "application/vnd.bokehjs_load.v0+json": "\n(function(root) {\n  function now() {\n    return new Date();\n  }\n\n  var force = true;\n\n  if (typeof (root._bokeh_onload_callbacks) === \"undefined\" || force === true) {\n    root._bokeh_onload_callbacks = [];\n    root._bokeh_is_loading = undefined;\n  }\n\n  \n\n  \n  if (typeof (root._bokeh_timeout) === \"undefined\" || force === true) {\n    root._bokeh_timeout = Date.now() + 5000;\n    root._bokeh_failed_load = false;\n  }\n\n  var NB_LOAD_WARNING = {'data': {'text/html':\n     \"<div style='background-color: #fdd'>\\n\"+\n     \"<p>\\n\"+\n     \"BokehJS does not appear to have successfully loaded. If loading BokehJS from CDN, this \\n\"+\n     \"may be due to a slow or bad network connection. Possible fixes:\\n\"+\n     \"</p>\\n\"+\n     \"<ul>\\n\"+\n     \"<li>re-rerun `output_notebook()` to attempt to load from CDN again, or</li>\\n\"+\n     \"<li>use INLINE resources instead, as so:</li>\\n\"+\n     \"</ul>\\n\"+\n     \"<code>\\n\"+\n     \"from bokeh.resources import INLINE\\n\"+\n     \"output_notebook(resources=INLINE)\\n\"+\n     \"</code>\\n\"+\n     \"</div>\"}};\n\n  function display_loaded() {\n    var el = document.getElementById(\"fd90a7a3-7222-4167-ab14-eb18d6d1647b\");\n    if (el != null) {\n      el.textContent = \"BokehJS is loading...\";\n    }\n    if (root.Bokeh !== undefined) {\n      if (el != null) {\n        el.textContent = \"BokehJS \" + root.Bokeh.version + \" successfully loaded.\";\n      }\n    } else if (Date.now() < root._bokeh_timeout) {\n      setTimeout(display_loaded, 100)\n    }\n  }\n\n\n  function run_callbacks() {\n    try {\n      root._bokeh_onload_callbacks.forEach(function(callback) { callback() });\n    }\n    finally {\n      delete root._bokeh_onload_callbacks\n    }\n    console.info(\"Bokeh: all callbacks have finished\");\n  }\n\n  function load_libs(js_urls, callback) {\n    root._bokeh_onload_callbacks.push(callback);\n    if (root._bokeh_is_loading > 0) {\n      console.log(\"Bokeh: BokehJS is being loaded, scheduling callback at\", now());\n      return null;\n    }\n    if (js_urls == null || js_urls.length === 0) {\n      run_callbacks();\n      return null;\n    }\n    console.log(\"Bokeh: BokehJS not loaded, scheduling load and callback at\", now());\n    root._bokeh_is_loading = js_urls.length;\n    for (var i = 0; i < js_urls.length; i++) {\n      var url = js_urls[i];\n      var s = document.createElement('script');\n      s.src = url;\n      s.async = false;\n      s.onreadystatechange = s.onload = function() {\n        root._bokeh_is_loading--;\n        if (root._bokeh_is_loading === 0) {\n          console.log(\"Bokeh: all BokehJS libraries loaded\");\n          run_callbacks()\n        }\n      };\n      s.onerror = function() {\n        console.warn(\"failed to load library \" + url);\n      };\n      console.log(\"Bokeh: injecting script tag for BokehJS library: \", url);\n      document.getElementsByTagName(\"head\")[0].appendChild(s);\n    }\n  };var element = document.getElementById(\"fd90a7a3-7222-4167-ab14-eb18d6d1647b\");\n  if (element == null) {\n    console.log(\"Bokeh: ERROR: autoload.js configured with elementid 'fd90a7a3-7222-4167-ab14-eb18d6d1647b' but no matching script tag was found. \")\n    return false;\n  }\n\n  var js_urls = [\"https://cdn.pydata.org/bokeh/release/bokeh-0.12.14.min.js\", \"https://cdn.pydata.org/bokeh/release/bokeh-widgets-0.12.14.min.js\", \"https://cdn.pydata.org/bokeh/release/bokeh-tables-0.12.14.min.js\", \"https://cdn.pydata.org/bokeh/release/bokeh-gl-0.12.14.min.js\"];\n\n  var inline_js = [\n    function(Bokeh) {\n      Bokeh.set_log_level(\"info\");\n    },\n    \n    function(Bokeh) {\n      \n    },\n    function(Bokeh) {\n      console.log(\"Bokeh: injecting CSS: https://cdn.pydata.org/bokeh/release/bokeh-0.12.14.min.css\");\n      Bokeh.embed.inject_css(\"https://cdn.pydata.org/bokeh/release/bokeh-0.12.14.min.css\");\n      console.log(\"Bokeh: injecting CSS: https://cdn.pydata.org/bokeh/release/bokeh-widgets-0.12.14.min.css\");\n      Bokeh.embed.inject_css(\"https://cdn.pydata.org/bokeh/release/bokeh-widgets-0.12.14.min.css\");\n      console.log(\"Bokeh: injecting CSS: https://cdn.pydata.org/bokeh/release/bokeh-tables-0.12.14.min.css\");\n      Bokeh.embed.inject_css(\"https://cdn.pydata.org/bokeh/release/bokeh-tables-0.12.14.min.css\");\n    }\n  ];\n\n  function run_inline_js() {\n    \n    if ((root.Bokeh !== undefined) || (force === true)) {\n      for (var i = 0; i < inline_js.length; i++) {\n        inline_js[i].call(root, root.Bokeh);\n      }if (force === true) {\n        display_loaded();\n      }} else if (Date.now() < root._bokeh_timeout) {\n      setTimeout(run_inline_js, 100);\n    } else if (!root._bokeh_failed_load) {\n      console.log(\"Bokeh: BokehJS failed to load within specified timeout.\");\n      root._bokeh_failed_load = true;\n    } else if (force !== true) {\n      var cell = $(document.getElementById(\"fd90a7a3-7222-4167-ab14-eb18d6d1647b\")).parents('.cell').data().cell;\n      cell.output_area.append_execute_result(NB_LOAD_WARNING)\n    }\n\n  }\n\n  if (root._bokeh_is_loading === 0) {\n    console.log(\"Bokeh: BokehJS loaded, going straight to plotting\");\n    run_inline_js();\n  } else {\n    load_libs(js_urls, function() {\n      console.log(\"Bokeh: BokehJS plotting callback run at\", now());\n      run_inline_js();\n    });\n  }\n}(window));"
     },
     "metadata": {},
     "output_type": "display_data"
    }
   ],
   "source": [
    "output_notebook()"
   ]
  },
  {
   "cell_type": "code",
   "execution_count": 8,
   "metadata": {
    "collapsed": true
   },
   "outputs": [],
   "source": [
    "def fmt_cool(ds_in):\n",
    "    ds = ds_in.copy(deep=True)\n",
    "    if 'igg' in ds.dims:\n",
    "        ds = ds.sel(igg=1)\n",
    "\n",
    "    if 'g' in ds.dims:\n",
    "        ds = ds.sum('g')\n",
    "            \n",
    "    if 'band' in ds.dims:\n",
    "        try:\n",
    "            ds = ds.squeeze('band')\n",
    "        except ValueError:\n",
    "            ds = ds.sum('band')\n",
    "                \n",
    "    return ds['coolrg']\n",
    "\n",
    "\n",
    "def pltdata_cooling_1(ds_cool=None,\n",
    "                      ds_cool_crd=None, ds_cool_wgt=None):\n",
    "    \n",
    "\n",
    "\n",
    "    colors = all_palettes['Set1'][4]\n",
    "    data = [{'label': 'CLIRAD `coolr_bands`',\n",
    "             'srs': fmt_cool(ds_cool),\n",
    "             'line_dash': 'dashed', 'line_width': 5,\n",
    "             'color': colors[0], 'alpha': .6},\n",
    "            {'label': 'CRD',\n",
    "             'srs': fmt_cool(ds_cool_crd),\n",
    "             'line_dash': 'solid', 'line_width': 1.5,\n",
    "             'marker': 'circle', 'marker_size': 5,\n",
    "             'color': colors[2], 'alpha': 1,},\n",
    "            {'label': 'WGT igg=10 wgt_flux=2',\n",
    "             'srs': fmt_cool(ds_cool_wgt),\n",
    "             'line_dash': 'solid', 'line_width': 3,\n",
    "             'marker': 'square', 'marker_size': 5,\n",
    "             'color': colors[3], 'alpha': .6}]\n",
    "    return data\n",
    "\n",
    "\n",
    "def nice_xlims(pltdata=None, prange=None):\n",
    "    \n",
    "    def get_slice(srs):\n",
    "        return srs.sel(pressure=slice(*prange))\n",
    "    \n",
    "    srss = [d['srs'] for d in pltdata]\n",
    "    vmin = min([get_slice(srs).min() for srs in srss])\n",
    "    vmax = max([get_slice(srs).max() for srs in srss])\n",
    "    dv = (vmax - vmin) * .01\n",
    "    return float(vmin - dv), float(vmax + dv)\n",
    "    \n",
    "\n",
    "def plt_cooling_bokeh(pltdata=None):\n",
    "    '''\n",
    "    Plot a list of cooling rate profiles using bokeh.\n",
    "    '''\n",
    "    ymin = 1e-2 \n",
    "    ymax = 1020 \n",
    "        \n",
    "    p1 = figure(title=\"Linear pressure scale\", \n",
    "                plot_width=400)        \n",
    "    xmin, xmax = nice_xlims(pltdata, prange=(50, 1050))\n",
    "    for d in pltdata:\n",
    "        if 'marker' in d:\n",
    "            getattr(p1, d['marker'])(d['srs'].values, \n",
    "                    d['srs'].coords['pressure'].values,\n",
    "                    color=d['color'], alpha=.7)\n",
    "        p1.line(d['srs'].values, \n",
    "                d['srs'].coords['pressure'].values,\n",
    "                color=d['color'], alpha=d['alpha'], \n",
    "                line_width=d['line_width'], line_dash=d['line_dash'])\n",
    "    \n",
    "    p1.y_range = Range1d(ymax, ymin)\n",
    "    p1.yaxis.axis_label = 'pressure [mb]'   \n",
    "    p1.x_range = Range1d(xmin, xmax)\n",
    "    p1.xaxis.axis_label = 'cooling rate [K/day]'\n",
    "            \n",
    "    p2 = figure(title='Log pressure scale', y_axis_type='log',\n",
    "                plot_width=560)\n",
    "    xmin, xmax = nice_xlims(pltdata, prange=(.01, 200))\n",
    "    \n",
    "    rs = []\n",
    "    for d in pltdata:\n",
    "        rd = []\n",
    "        if 'marker' in d:\n",
    "            r_mark = getattr(p2, d['marker'])(d['srs'].values, \n",
    "                        d['srs'].coords['pressure'].values,\n",
    "                        color=d['color'], alpha=.7)\n",
    "            rd.append(r_mark)\n",
    "        r_line = p2.line(d['srs'].values, \n",
    "                    d['srs'].coords['pressure'].values,\n",
    "                    color=d['color'], alpha=d['alpha'], \n",
    "                    line_width=d['line_width'], line_dash=d['line_dash'])\n",
    "        rd.append(r_line)\n",
    "      \n",
    "        rs.append(rd)\n",
    "        \n",
    "    p2.y_range = Range1d(ymax, ymin)  \n",
    "    p2.yaxis.axis_label = 'pressure [mb]'\n",
    "    \n",
    "    p2.x_range = Range1d(xmin, xmax)\n",
    "    p2.xaxis.axis_label = 'cooling rate [K/day]'\n",
    "    \n",
    "    items = [(d['label'], r) for r, d in zip(rs, pltdata)]\n",
    "    legend = Legend(items=items, location=(10, -30))\n",
    "    legend.label_text_font_size = '8pt'\n",
    "    \n",
    "    p2.add_layout(legend, 'right')  \n",
    "    \n",
    "    show(gridplot(p1, p2, ncols=2, plot_height=500))\n",
    "    \n",
    "\n",
    "def script_plt_cooling():\n",
    "    pltdata = pltdata_cooling_1(\n",
    "        ds_cool=DS_COOL,\n",
    "        ds_cool_crd=DS_COOL_CRD,\n",
    "        ds_cool_wgt=DS_COOL_WGT)\n",
    "    plt_cooling_bokeh(pltdata=pltdata)\n",
    "    print('''FIGURE. Cooling rate profiles.''')"
   ]
  },
  {
   "cell_type": "code",
   "execution_count": 9,
   "metadata": {
    "collapsed": true
   },
   "outputs": [],
   "source": [
    "def fmt_flux(ds_in):\n",
    "    ds = ds_in.copy(deep=True)\n",
    "    \n",
    "    for l in ('level', 'layer'):\n",
    "        if l in ds.data_vars:\n",
    "            if len(ds[l].dims) > 1:\n",
    "                surface = {d: 0 for d in ds.dims if d != 'pressure'}\n",
    "                coord_level = ds[l][surface]\n",
    "                ds.coords[l] = ('pressure', coord_level)\n",
    "            else:\n",
    "                ds.coords[l] = ('pressure', ds[l])\n",
    "        \n",
    "    ds = ds.isel(pressure=[0, 23, -1])\n",
    "        \n",
    "    if 'igg' in ds.dims:\n",
    "        ds = ds.sel(igg=[1])\n",
    "        ds = ds.squeeze('igg').drop('igg')\n",
    "    \n",
    "    if 'g' in ds.dims:\n",
    "        ds = ds.sum('g')\n",
    "            \n",
    "    if 'band' in ds.dims:\n",
    "        try:\n",
    "            ds = ds.squeeze('band').drop('band')\n",
    "        except ValueError:\n",
    "            ds = ds.sum('band')\n",
    "                \n",
    "    df = ds.to_dataframe()\n",
    "    df = df.set_index('level', append=True)               \n",
    "    return df\n",
    "\n",
    "\n",
    "def tbdata_flux(ds_flux=None, ds_flux_crd=None, ds_flux_wgt=None):\n",
    "    ilevels = [0, 23, -1]\n",
    "            \n",
    "    benchmark = {'label': 'WGT igg=10 wgt_flux=1',\n",
    "                 'df': fmt_flux(ds_flux_wgt)}\n",
    "    \n",
    "    tbs = [{'label': 'CRD',\n",
    "            'df': fmt_flux(ds_flux_crd)},\n",
    "           {'label': 'CLIRAD',\n",
    "            'df': fmt_flux(ds_flux)}]\n",
    "    \n",
    "    data = {'benchmark': benchmark, 'others': tbs}\n",
    "    return data\n",
    "\n",
    "\n",
    "def tb_flux(tbdata=None):\n",
    "    benchmark = tbdata['benchmark']\n",
    "    others = tbdata['others']\n",
    "    \n",
    "    def show_tb(d=None):\n",
    "        display.display(d['df'])\n",
    "        print('Table.', 'Fluxes.', d['label'])\n",
    "        \n",
    "    def show_tbdiff(d0=None, d=None):\n",
    "        df = d['df']\n",
    "        df.index = d0['df'].index\n",
    "        display.display(df - d0['df'])\n",
    "        print('Table.', 'Fluxes.', \n",
    "              '({}) - ({})'.format(d['label'], d0['label']))\n",
    "        \n",
    "    show_tb(benchmark)\n",
    "    for d in others:\n",
    "        show_tb(d)\n",
    "        \n",
    "    for d in others:\n",
    "        show_tbdiff(d=d, d0=benchmark)\n",
    "        \n",
    "        \n",
    "def script_tb_flux():\n",
    "    data = tbdata_flux(ds_flux=DS_FLUX,\n",
    "                       ds_flux_crd=DS_FLUX_CRD,\n",
    "                       ds_flux_wgt=DS_FLUX_WGT)\n",
    "    tb_flux(tbdata=data)"
   ]
  },
  {
   "cell_type": "code",
   "execution_count": 10,
   "metadata": {
    "collapsed": true
   },
   "outputs": [],
   "source": [
    "def band_map():\n",
    "    '''\n",
    "    Maps spectral bands in lblnew to spectral bands in clirad.\n",
    "    '''\n",
    "    lblnew2clirad = {'1': '1',\n",
    "            '2': '2',\n",
    "            '3a': '3',\n",
    "            '3b': '4',\n",
    "            '3c': '5',\n",
    "            '4': '6', \n",
    "            '5': '7',\n",
    "            '6': '8',\n",
    "            '7': '9', \n",
    "            '8': '10',\n",
    "            '9': '11'}\n",
    "    \n",
    "    clirad2lblnew = {clirad: lblnew \n",
    "                     for lblnew, clirad in lblnew2clirad.items()}\n",
    "    return clirad2lblnew\n",
    "\n",
    "\n",
    "def gasbands():\n",
    "    bmap = band_map()\n",
    "    gases = list(PARAM['molecule'].keys())\n",
    "    \n",
    "    bands = [bmap[str(b)] for b in PARAM['band']]\n",
    "    return list(itertools.product(gases, bands))\n",
    "\n",
    "\n",
    "def print_bestfit_params():\n",
    "    print('Best-fit values for each (gas, band)')\n",
    "    print('------------------------------------')\n",
    "    for gas, band in gasbands():\n",
    "        print('o {} band{}'.format(gas, band))\n",
    "        param = bestfits.kdist_params(molecule=gas, band=band)\n",
    "        for name, value in sorted(param.items()):\n",
    "            print(2 * ' ' + '{} = {}'.format(name, value))\n",
    "\n",
    "        \n",
    "def print_input_param():        \n",
    "    for name, value in PARAM.items():\n",
    "        print('{} = {}'.format(name, value))\n",
    "        \n",
    "        \n",
    "def print_lblnew_param():\n",
    "    for name, value in sorted(PARAM_LBLNEW.items()):\n",
    "        print('{} = {}'.format(name, value))\n"
   ]
  },
  {
   "cell_type": "code",
   "execution_count": 11,
   "metadata": {
    "collapsed": true,
    "scrolled": false
   },
   "outputs": [],
   "source": [
    "def show_html(s):\n",
    "    display.display(display.HTML(s))\n",
    "\n",
    "    \n",
    "def show_markdown(s):\n",
    "    display.display(display.Markdown(s))\n",
    "\n",
    "    \n",
    "def script():\n",
    "    \n",
    "    title = '### CLIRAD-LW'\n",
    "    s_input = 'Input Parameters'\n",
    "    s_lblnew_param = 'LBLNEW case compaired against'\n",
    "    s_bestfits = 'Best-fit Parameters'\n",
    "    s_plt_cooling = 'Cooling Rate Profiles'\n",
    "    s_tb_flux = 'Flux Comparison'\n",
    "    \n",
    "    # title\n",
    "    show_markdown('### CLIRAD-LW')\n",
    "    \n",
    "    # TOC\n",
    "    show_markdown('### Table of Contents')\n",
    "    show_html(climahtml.getHTML_hrefanchor(s_input))\n",
    "    show_html(climahtml.getHTML_hrefanchor(s_lblnew_param))\n",
    "    show_html(climahtml.getHTML_hrefanchor(s_plt_cooling))\n",
    "    show_html(climahtml.getHTML_hrefanchor(s_tb_flux))\n",
    "    show_html(climahtml.getHTML_hrefanchor(s_bestfits))\n",
    "    \n",
    "    # Input parameters\n",
    "    show_html(climahtml.getHTML_idanchor(s_input))\n",
    "    show_markdown(climahtml.getMarkdown_sectitle(s_input))\n",
    "    print_input_param()\n",
    "    \n",
    "    # LBLNEW parameters \n",
    "    show_html(climahtml.getHTML_idanchor(s_lblnew_param))\n",
    "    show_markdown(climahtml.getMarkdown_sectitle(s_lblnew_param))\n",
    "    print_lblnew_param()\n",
    "    \n",
    "    # Cooling rate profiles\n",
    "    show_html(climahtml.getHTML_idanchor(s_plt_cooling))\n",
    "    show_markdown(climahtml.getMarkdown_sectitle(s_plt_cooling))\n",
    "    script_plt_cooling()\n",
    "    \n",
    "    # Flux comparison\n",
    "    show_html(climahtml.getHTML_idanchor(s_tb_flux))\n",
    "    show_markdown(climahtml.getMarkdown_sectitle(s_tb_flux))\n",
    "    script_tb_flux()\n",
    "    \n",
    "    # Best-fit values\n",
    "    show_html(climahtml.getHTML_idanchor(s_bestfits))\n",
    "    show_markdown(climahtml.getMarkdown_sectitle(s_bestfits))\n",
    "    print_bestfit_params()\n",
    "   \n",
    "    "
   ]
  },
  {
   "cell_type": "code",
   "execution_count": 12,
   "metadata": {
    "collapsed": true,
    "scrolled": false
   },
   "outputs": [
    {
     "data": {
      "text/markdown": [
       "### CLIRAD-LW"
      ],
      "text/plain": [
       "<IPython.core.display.Markdown object>"
      ]
     },
     "metadata": {},
     "output_type": "display_data"
    },
    {
     "data": {
      "text/markdown": [
       "### Table of Contents"
      ],
      "text/plain": [
       "<IPython.core.display.Markdown object>"
      ]
     },
     "metadata": {},
     "output_type": "display_data"
    },
    {
     "data": {
      "text/html": [
       "<a href=\"#Input_Parameters\">Input Parameters</a>"
      ],
      "text/plain": [
       "<IPython.core.display.HTML object>"
      ]
     },
     "metadata": {},
     "output_type": "display_data"
    },
    {
     "data": {
      "text/html": [
       "<a href=\"#LBLNEW_case_compaired_against\">LBLNEW case compaired against</a>"
      ],
      "text/plain": [
       "<IPython.core.display.HTML object>"
      ]
     },
     "metadata": {},
     "output_type": "display_data"
    },
    {
     "data": {
      "text/html": [
       "<a href=\"#Cooling_Rate_Profiles\">Cooling Rate Profiles</a>"
      ],
      "text/plain": [
       "<IPython.core.display.HTML object>"
      ]
     },
     "metadata": {},
     "output_type": "display_data"
    },
    {
     "data": {
      "text/html": [
       "<a href=\"#Flux_Comparison\">Flux Comparison</a>"
      ],
      "text/plain": [
       "<IPython.core.display.HTML object>"
      ]
     },
     "metadata": {},
     "output_type": "display_data"
    },
    {
     "data": {
      "text/html": [
       "<a href=\"#Best-fit_Parameters\">Best-fit Parameters</a>"
      ],
      "text/plain": [
       "<IPython.core.display.HTML object>"
      ]
     },
     "metadata": {},
     "output_type": "display_data"
    },
    {
     "data": {
      "text/html": [
       "<a id=\"Input_Parameters\"></a>"
      ],
      "text/plain": [
       "<IPython.core.display.HTML object>"
      ]
     },
     "metadata": {},
     "output_type": "display_data"
    },
    {
     "data": {
      "text/markdown": [
       "# Input Parameters"
      ],
      "text/plain": [
       "<IPython.core.display.Markdown object>"
      ]
     },
     "metadata": {},
     "output_type": "display_data"
    },
    {
     "name": "stdout",
     "output_type": "stream",
     "text": [
      "atmpro = mls\n",
      "band = [3]\n",
      "commitnumber = 7fe1447_x\n",
      "molecule = {'h2o': 'atmpro'}\n",
      "tsfc = 294\n"
     ]
    },
    {
     "data": {
      "text/html": [
       "<a id=\"LBLNEW_case_compaired_against\"></a>"
      ],
      "text/plain": [
       "<IPython.core.display.HTML object>"
      ]
     },
     "metadata": {},
     "output_type": "display_data"
    },
    {
     "data": {
      "text/markdown": [
       "# LBLNEW case compaired against"
      ],
      "text/plain": [
       "<IPython.core.display.Markdown object>"
      ]
     },
     "metadata": {},
     "output_type": "display_data"
    },
    {
     "name": "stdout",
     "output_type": "stream",
     "text": [
      "atmpro = mls\n",
      "band = 3a\n",
      "commitnumber = a06b618\n",
      "conc = None\n",
      "dv = 0.001\n",
      "klin = 0\n",
      "molecule = h2o\n",
      "ng_adju = [0, 0]\n",
      "ng_refs = [2, 6]\n",
      "nv = 1000\n",
      "option_compute_btable = 0\n",
      "option_compute_ktable = 0\n",
      "option_wgt_flux = 1\n",
      "option_wgt_k = 1\n",
      "ref_pts = [(10, 250), (600, 250)]\n",
      "tsfc = 294\n",
      "vmax = 620\n",
      "vmin = 540\n",
      "w_diffuse = [(1.9, 1.7), (1.4, 1.4, 1.4, 1.55, 1.6, 1.66)]\n",
      "wgt = [(0.7, 0.7), (0.7, 0.5, 0.5, 0.5, 0.5, 0.5)]\n"
     ]
    },
    {
     "data": {
      "text/html": [
       "<a id=\"Cooling_Rate_Profiles\"></a>"
      ],
      "text/plain": [
       "<IPython.core.display.HTML object>"
      ]
     },
     "metadata": {},
     "output_type": "display_data"
    },
    {
     "data": {
      "text/markdown": [
       "# Cooling Rate Profiles"
      ],
      "text/plain": [
       "<IPython.core.display.Markdown object>"
      ]
     },
     "metadata": {},
     "output_type": "display_data"
    },
    {
     "data": {
      "text/html": [
       "\n",
       "<div class=\"bk-root\">\n",
       "    <div class=\"bk-plotdiv\" id=\"5314cec6-1dc8-43a0-925b-b3e39b516163\"></div>\n",
       "</div>"
      ]
     },
     "metadata": {},
     "output_type": "display_data"
    },
    {
     "data": {
      "application/javascript": [
       "(function(root) {\n",
       "  function embed_document(root) {\n",
       "    \n",
       "  var docs_json = {\"ccb3f86b-239d-478d-a6d2-f9fb1f43b2ae\":{\"roots\":{\"references\":[{\"attributes\":{\"fill_alpha\":{\"value\":0.7},\"fill_color\":{\"value\":\"#4daf4a\"},\"line_alpha\":{\"value\":0.7},\"line_color\":{\"value\":\"#4daf4a\"},\"x\":{\"field\":\"x\"},\"y\":{\"field\":\"y\"}},\"id\":\"d34d46ec-a89e-4956-a368-93e6e732eec6\",\"type\":\"Circle\"},{\"attributes\":{},\"id\":\"f0f75a82-6c6c-4f9b-8a05-b6f588c764bd\",\"type\":\"BasicTickFormatter\"},{\"attributes\":{\"plot\":null,\"text\":\"Linear pressure scale\"},\"id\":\"94ad10c1-c317-49bc-ae24-fabbf9594640\",\"type\":\"Title\"},{\"attributes\":{\"data_source\":{\"id\":\"c29ed907-1b10-4221-be07-e1eb1ad8a31f\",\"type\":\"ColumnDataSource\"},\"glyph\":{\"id\":\"ee85081f-5977-408d-a46f-01d97fc74477\",\"type\":\"Square\"},\"hover_glyph\":null,\"muted_glyph\":null,\"nonselection_glyph\":{\"id\":\"84e935e5-fcfe-4a47-960d-e7e74bcd3790\",\"type\":\"Square\"},\"selection_glyph\":null,\"view\":{\"id\":\"c2bed044-ac29-43cd-acff-a94aebfe8247\",\"type\":\"CDSView\"}},\"id\":\"394af015-7c93-40bc-a0db-66396ae64e00\",\"type\":\"GlyphRenderer\"},{\"attributes\":{\"overlay\":{\"id\":\"d5713f03-de70-45f1-b6a1-0d99038ac73c\",\"type\":\"BoxAnnotation\"}},\"id\":\"8d84b314-6320-4290-bf1e-e1501465de02\",\"type\":\"BoxZoomTool\"},{\"attributes\":{\"callback\":null,\"column_names\":[\"x\",\"y\"],\"data\":{\"x\":{\"__ndarray__\":\"AIgQtVVtRz8mpOykHzlIPx49Nouvhko/UQnZvNHLTD8v6T5LcRpPP3hv3loTu1A/NwmVKFHwUT+pIRFmmCtTPyjSGM2MblQ/coIrouO4VT9Rv8EWuA5XPy+7Smc+aFg/J4GAhg3HWT9IcDsmJj5bP7LOmXGx4l8/l7fR5tIdZz+nfdGn1+JxPz9/Rtc4I3o/u88NJxJHgj8YhHO/o8OIP8PSRMgOZJA/eqxTxG1dlT/0Rw6UuOeZPxL27SQi/Jk/8Ti05MvtlT/h2YPox2GRPzkNHpSat4o/yU9Q6ewUhD9VcZz4R+99P86aKl8hQXY/kTEo50xZcD/Dn3xZFcNnP3QhqDTI/2E/9ZnHa+sRXT8S7nS04WFXPzhiPyHBqFI/2S6zn3OdUD94EWQiUl5QPzGGx5N+A1A/mrVoRmWYUT9y/uv6U5NhP9tPrjeW4X8/34ZQWdjJlD+7XiMUHt6jP/9KrxlVkK4/CFUU9ofCsj/rp3EC4hS2P4DPF5TMXrk/PLwIz1unvD8qQdpaul3AP1lD80qjE8M/oiuufUPZxT9uWkKhEpXIP6fbZQELR8s/IAn7dhIRzj8wr0yNCnvQP8NRC4i9DtI/G1kB13id1D8Y3ll50TDXP+4X/bLFf9k/Fhx3rTFm2z8HXm+TOMjcP2iIdIk0u90/G2UedUtd3j8F9MoOVLreP5nigTO+0N4/AYzCiUOR3j9LAlgNV8HdPwDFp4RQM9w/aBhnodf+2T9L4jDBPnTXPxxiF6DI7tQ/fZ+Bw9G20j+QNFWDchPRPzBNbJlnQNE/\",\"dtype\":\"float64\",\"shape\":[75]},\"y\":{\"__ndarray__\":\"S/O/Q+51ND/Sv8nbtpRIP2vylNV0PVE/aTum7souWD/At0SJ8fVgPw3Iuahxymc/MSNhhJWvcD/bTfBN02d3P2zb5nxnaoA/CD5h5MAGhz8NmeH1TyaQP+zrCsc9p5Y/LbKd76fGnz/bLW5ISEmmPww9YvTcQq8/JV2OstnstT8Er5Y7M8G+P0c+r3jqkcU/5h99k6ZBzj88bCIzFzjVP4enV8oyxN0//yH99nXg5D8qOpLLf0jtP5kqGJXUifQ/c9cS8kHP/D+/DpwzojQEQIEmwoanVwxA4lgXt9HgE0BSSZ2AJuIbQAMJih9jjiNA5q4l5INuK0AwTKYKRj0zQNv5fmq8/DpAaCJseHrtQkB/+zpwzoxKQM3MzMzMeFJAZmZmZmZqWEAAAAAAAFxeQM3MzMzMJmJAmpmZmZkfZUBmZmZmZhhoQDMzMzMzEWtAAAAAAAAKbkBmZmZmZoFwQM3MzMzM/XFAMzMzMzN6c0CamZmZmfZ0QAAAAAAAc3ZAZmZmZmbvd0DNzMzMzGt5QDMzMzMz6HpAmpmZmZlkfEAAAAAAAOF9QGZmZmZmXX9AZmZmZuZsgECamZmZGSuBQM3MzMxM6YFAAAAAAICngkAzMzMzs2WDQGZmZmbmI4RAmpmZmRnihEDNzMzMTKCFQAAAAACAXoZAMzMzM7Mch0BmZmZm5tqHQJqZmZkZmYhAzczMzExXiUAAAAAAgBWKQDMzMzOz04pAZmZmZuaRi0CamZmZGVCMQM3MzMxMDo1AAAAAAIDMjUAzMzMzs4qOQGZmZmbmSI9A\",\"dtype\":\"float64\",\"shape\":[75]}}},\"id\":\"7dd068aa-1880-4699-a3be-3788444f1b87\",\"type\":\"ColumnDataSource\"},{\"attributes\":{\"data_source\":{\"id\":\"71172396-e156-4dd9-a9c5-0d4bbf695bea\",\"type\":\"ColumnDataSource\"},\"glyph\":{\"id\":\"d34d46ec-a89e-4956-a368-93e6e732eec6\",\"type\":\"Circle\"},\"hover_glyph\":null,\"muted_glyph\":null,\"nonselection_glyph\":{\"id\":\"7dd670af-4c80-4b2c-b2ec-9f11a12b4aad\",\"type\":\"Circle\"},\"selection_glyph\":null,\"view\":{\"id\":\"49b9b369-0d5c-445d-86a6-1f6b92e97d1a\",\"type\":\"CDSView\"}},\"id\":\"7451786d-b5b2-4a2b-8651-3df6c98bb923\",\"type\":\"GlyphRenderer\"},{\"attributes\":{\"data_source\":{\"id\":\"7dd068aa-1880-4699-a3be-3788444f1b87\",\"type\":\"ColumnDataSource\"},\"glyph\":{\"id\":\"e571990c-4c7b-4a0d-9dc6-d106d66e1d2e\",\"type\":\"Line\"},\"hover_glyph\":null,\"muted_glyph\":null,\"nonselection_glyph\":{\"id\":\"fa1bfb14-e5dd-4943-8940-abdffc69f938\",\"type\":\"Line\"},\"selection_glyph\":null,\"view\":{\"id\":\"f27baff1-5e63-482f-8699-dc302edd5afb\",\"type\":\"CDSView\"}},\"id\":\"fb8a34d7-4ecd-4485-bda3-7407b07e1ee3\",\"type\":\"GlyphRenderer\"},{\"attributes\":{\"plot\":null,\"text\":\"Log pressure scale\"},\"id\":\"63f6a5b1-a907-4575-8257-e3bd04f517e9\",\"type\":\"Title\"},{\"attributes\":{},\"id\":\"39908988-4db0-48e6-aa4a-ff37972732dc\",\"type\":\"ResetTool\"},{\"attributes\":{},\"id\":\"07fa6ba4-599b-488d-a340-78b282deef78\",\"type\":\"LinearScale\"},{\"attributes\":{},\"id\":\"4adecc45-ca42-4974-b8ba-304464e9237a\",\"type\":\"BasicTickFormatter\"},{\"attributes\":{},\"id\":\"e354a545-4d99-4216-8668-f766a3488015\",\"type\":\"HelpTool\"},{\"attributes\":{\"source\":{\"id\":\"099e3c23-7a1e-494e-b46e-57c0b1a274c5\",\"type\":\"ColumnDataSource\"}},\"id\":\"21a08f54-e3e8-43c7-90b0-dbbaa8f1eaf0\",\"type\":\"CDSView\"},{\"attributes\":{\"line_alpha\":0.1,\"line_color\":\"#1f77b4\",\"line_dash\":[6],\"line_width\":5,\"x\":{\"field\":\"x\"},\"y\":{\"field\":\"y\"}},\"id\":\"fa1bfb14-e5dd-4943-8940-abdffc69f938\",\"type\":\"Line\"},{\"attributes\":{\"callback\":null,\"column_names\":[\"x\",\"y\"],\"data\":{\"x\":{\"__ndarray__\":\"LOZpX3MKND9Vu6pREyM2Pxt2RO9gxTo/UASSzYrPPz/9cDBVmXtCP/ypizkjIUU/m5x/uGfbRz8/LEBUl6hKP3ywKJLigE0/sZHWcW4xUD+W+X2teqFRP7k4W5WM8FI/XrLz8/RDVD+DVsmHZZpVP1JfYYSaaFo/vREjrTQOZT9TehV+kZVxP91iGfpi0Xo/ixuest85gz8KIv+KBGyKP3V97BxtlpE/ZeLk6yPRlj9UH/Teq2WbPzG/mALZuJo/BmqbXDiClT8f5KFhxE2QP+KiB/zpWIg/HNJDTMQ9gj9xEwR7iwh8P3+5izq3LHY/DXnuvwGtcT/taOHQqRRsP3e52TbELGc/rmWdbrMRZD+mNZwmMgJhP3rHmUUw3ls/XQJsFwWHWD94s770+ntXP+hR/4VPRlY/yz7Ks4ucVz++0pc0tvZmP4TGAzpp24M/s2msyqxImD9+nU2ncmOmPyyGv+cGEbE/0/toZp1ZtD+Lc5duWVi3P6z9ne3RG7s/M6PEUzR7vz/MlHsmoC7CPwLIv4Ur1sQ/m57B8Fs+xz9Xch38J6zJPyAfusHMTsw//Z55tbMazz9rq+UQaQLRPyv0h4eshdI/71iNoXPp1D8ZDyF08TPXP8429YlVJtk/ZywWlqq62j9vqM5ZVeXbP/waapBZqNw/lben1LoH3T8NB9cWfQndP9xEkPdoudw/AKrZf3Qc3D/1ovKGZiTbP0kiJKD8vNk/hCFZXdry1z+Af0qVKPvVP0vmWN5VD9Q/Fvb23zFZ0j/3QMgFqQzRP/3dtzGofNE/\",\"dtype\":\"float64\",\"shape\":[75]},\"y\":{\"__ndarray__\":\"GhExyth1ND/Sv8nbtpRIP2vylNV0PVE/aTum7souWD/At0SJ8fVgPw3Iuahxymc/MSNhhJWvcD/bTfBN02d3P2zb5nxnaoA/CD5h5MAGhz8NmeH1TyaQP+zrCsc9p5Y/LbKd76fGnz/bLW5ISEmmPww9YvTcQq8/JV2OstnstT8Er5Y7M8G+P0c+r3jqkcU/5h99k6ZBzj88bCIzFzjVP4enV8oyxN0//yH99nXg5D8qOpLLf0jtP5kqGJXUifQ/c9cS8kHP/D+/DpwzojQEQIEmwoanVwxA4lgXt9HgE0BSSZ2AJuIbQAMJih9jjiNA5q4l5INuK0AwTKYKRj0zQNv5fmq8/DpAaCJseHrtQkB/+zpwzoxKQM3MzMzMeFJAZmZmZmZqWEAAAAAAAFxeQM3MzMzMJmJAmpmZmZkfZUBmZmZmZhhoQDMzMzMzEWtAAAAAAAAKbkBmZmZmZoFwQM3MzMzM/XFAMzMzMzN6c0CamZmZmfZ0QAAAAAAAc3ZAZmZmZmbvd0DNzMzMzGt5QDMzMzMz6HpAmpmZmZlkfEAAAAAAAOF9QGZmZmZmXX9AZmZmZuZsgECamZmZGSuBQM3MzMxM6YFAAAAAAICngkAzMzMzs2WDQGZmZmbmI4RAmpmZmRnihEDNzMzMTKCFQAAAAACAXoZAMzMzM7Mch0BmZmZm5tqHQJqZmZkZmYhAzczMzExXiUAAAAAAgBWKQDMzMzOz04pAZmZmZuaRi0CamZmZGVCMQM3MzMxMDo1AAAAAAIDMjUAzMzMzs4qOQGZmZmbmSI9A\",\"dtype\":\"float64\",\"shape\":[75]}}},\"id\":\"16cb7c1e-7834-4bc0-a65a-3a92cddcca01\",\"type\":\"ColumnDataSource\"},{\"attributes\":{\"axis_label\":\"pressure [mb]\",\"formatter\":{\"id\":\"4adecc45-ca42-4974-b8ba-304464e9237a\",\"type\":\"BasicTickFormatter\"},\"plot\":{\"id\":\"79071c4f-398a-4f57-a496-233b647f1da0\",\"subtype\":\"Figure\",\"type\":\"Plot\"},\"ticker\":{\"id\":\"d6cdd3cc-ce6b-41a3-a04e-d11545bb2e64\",\"type\":\"BasicTicker\"}},\"id\":\"08ff7875-9eb3-46c0-aba7-e79ce7ec5469\",\"type\":\"LinearAxis\"},{\"attributes\":{\"label\":{\"value\":\"WGT igg=10 wgt_flux=2\"},\"renderers\":[{\"id\":\"38fbe9f9-31db-4ff1-80b4-e0ad0364367a\",\"type\":\"GlyphRenderer\"},{\"id\":\"a75a209f-2d6a-442d-b078-80f50b1cfd68\",\"type\":\"GlyphRenderer\"}]},\"id\":\"60c0583c-7849-42bc-9a53-4bc8d6905147\",\"type\":\"LegendItem\"},{\"attributes\":{\"callback\":null,\"column_names\":[\"x\",\"y\"],\"data\":{\"x\":{\"__ndarray__\":\"SWM1q2oSQj+ZAhjy8utCPzwClYP3A0U/6dGhxbNMRz+cstEGh61JPzhAg95fE0w/lk1rvUaJTj+cFJRQtIlQP8X4VG7S2lE/SSs4a0snUz/4cRIY2X1UP7F/1Q+q1VU/NdroLGo7Vz9ntyJPqLlYP5+EzqFaf10/lR7cyJ+5ZT/EWaG9s0xxP6TPHjANnXk/DAL68LQSgj9GbBz/hJqIP8BLvKNrUJA/NBSvuRYllT906GNaMn+ZP2Bpi/iAXpk/pQU1dRAelT9MfwpeDI6QPwWoRrMTWYk/Y8c/05Awgz/pAKCJfTl9P0jWB1bLg3Y/TRKpmpRNcT+Iu+0nrmdqP6TCR05z/mQ/tzkXs6zEYT/feE10ZfFdP+cCX/mG91g//2rbJMmfVj91T8wI8jhWP3/xKqFxjFU/Qsoj1fcxVz/3zg3F7JdmPyGVQ4iKs4M//EjFwHN/mD/fi5Kx862mP/8EixaNNrE/lKfZC0ShtD8fEtElkaq3P/g6OJerBrs/z9ZChs26vj8RRYTGXo7BP7y1xjwpKMQ/lNyXMUmlxj+Q63yrCB/JP7fd+yt/rss/RvES4zRPzj9oRbsG7ofQP5F3bFApAdI/J2blTF5m1D8rGLL2bMTWP/7CoNDX09g/8CxqNsGB2j/XWl9lvL3bP0Pvud/fjNw/qK+nQ5IA3T/hMJ/kkSXdP3kQsNCVBt0/EKqhA7Ge3D9YD0YmENLbP1AU+1IZgdo/bhWBxU+02D+I8AqMQabWP4g9ysJJkNQ/DvYzCTSz0j+mj5tOFUfRP5g67rU1ldE/\",\"dtype\":\"float64\",\"shape\":[75]},\"y\":{\"__ndarray__\":\"GhExyth1ND/Sv8nbtpRIP2vylNV0PVE/aTum7souWD/At0SJ8fVgPw3Iuahxymc/MSNhhJWvcD/bTfBN02d3P2zb5nxnaoA/CD5h5MAGhz8NmeH1TyaQP+zrCsc9p5Y/LbKd76fGnz/bLW5ISEmmPww9YvTcQq8/JV2OstnstT8Er5Y7M8G+P0c+r3jqkcU/5h99k6ZBzj88bCIzFzjVP4enV8oyxN0//yH99nXg5D8qOpLLf0jtP5kqGJXUifQ/c9cS8kHP/D+/DpwzojQEQIEmwoanVwxA4lgXt9HgE0BSSZ2AJuIbQAMJih9jjiNA5q4l5INuK0AwTKYKRj0zQNv5fmq8/DpAaCJseHrtQkB/+zpwzoxKQM3MzMzMeFJAZmZmZmZqWEAAAAAAAFxeQM3MzMzMJmJAmpmZmZkfZUBmZmZmZhhoQDMzMzMzEWtAAAAAAAAKbkBmZmZmZoFwQM3MzMzM/XFAMzMzMzN6c0CamZmZmfZ0QAAAAAAAc3ZAZmZmZmbvd0DNzMzMzGt5QDMzMzMz6HpAmpmZmZlkfEAAAAAAAOF9QGZmZmZmXX9AZmZmZuZsgECamZmZGSuBQM3MzMxM6YFAAAAAAICngkAzMzMzs2WDQGZmZmbmI4RAmpmZmRnihEDNzMzMTKCFQAAAAACAXoZAMzMzM7Mch0BmZmZm5tqHQJqZmZkZmYhAzczMzExXiUAAAAAAgBWKQDMzMzOz04pAZmZmZuaRi0CamZmZGVCMQM3MzMxMDo1AAAAAAIDMjUAzMzMzs4qOQGZmZmbmSI9A\",\"dtype\":\"float64\",\"shape\":[75]}}},\"id\":\"c29ed907-1b10-4221-be07-e1eb1ad8a31f\",\"type\":\"ColumnDataSource\"},{\"attributes\":{\"fill_alpha\":{\"value\":0.1},\"fill_color\":{\"value\":\"#1f77b4\"},\"line_alpha\":{\"value\":0.1},\"line_color\":{\"value\":\"#1f77b4\"},\"x\":{\"field\":\"x\"},\"y\":{\"field\":\"y\"}},\"id\":\"ab597eea-c511-445b-a809-88f1c9ea12a6\",\"type\":\"Circle\"},{\"attributes\":{\"label\":{\"value\":\"CLIRAD `coolr_bands`\"},\"renderers\":[{\"id\":\"f63e64e1-1090-4dbf-8ba9-78ca1cbfe4aa\",\"type\":\"GlyphRenderer\"}]},\"id\":\"b50a942d-015b-4235-8212-3e7dc8eaf0b5\",\"type\":\"LegendItem\"},{\"attributes\":{},\"id\":\"f0fe0bf7-6ee3-4330-9f89-eac4d49ecf14\",\"type\":\"BasicTickFormatter\"},{\"attributes\":{\"num_minor_ticks\":10},\"id\":\"5cf773df-e889-4b1b-a7e6-ae4c76a61e12\",\"type\":\"LogTicker\"},{\"attributes\":{},\"id\":\"c7d968bb-2da1-4ccf-8117-0eeb0c5f5a51\",\"type\":\"LinearScale\"},{\"attributes\":{},\"id\":\"5469c9cd-730b-45c5-954f-6d4b9cacfb25\",\"type\":\"LogScale\"},{\"attributes\":{\"children\":[{\"id\":\"79071c4f-398a-4f57-a496-233b647f1da0\",\"subtype\":\"Figure\",\"type\":\"Plot\"},{\"id\":\"aed67764-9e1c-4430-b222-6bf882af8e11\",\"subtype\":\"Figure\",\"type\":\"Plot\"}]},\"id\":\"27ff01c7-94c4-46e5-acd4-8d56f951cef7\",\"type\":\"Row\"},{\"attributes\":{},\"id\":\"00309a74-fdde-4a49-9ff8-06b8d13270ad\",\"type\":\"ResetTool\"},{\"attributes\":{\"callback\":null,\"column_names\":[\"x\",\"y\"],\"data\":{\"x\":{\"__ndarray__\":\"LOZpX3MKND9Vu6pREyM2Pxt2RO9gxTo/UASSzYrPPz/9cDBVmXtCP/ypizkjIUU/m5x/uGfbRz8/LEBUl6hKP3ywKJLigE0/sZHWcW4xUD+W+X2teqFRP7k4W5WM8FI/XrLz8/RDVD+DVsmHZZpVP1JfYYSaaFo/vREjrTQOZT9TehV+kZVxP91iGfpi0Xo/ixuest85gz8KIv+KBGyKP3V97BxtlpE/ZeLk6yPRlj9UH/Teq2WbPzG/mALZuJo/BmqbXDiClT8f5KFhxE2QP+KiB/zpWIg/HNJDTMQ9gj9xEwR7iwh8P3+5izq3LHY/DXnuvwGtcT/taOHQqRRsP3e52TbELGc/rmWdbrMRZD+mNZwmMgJhP3rHmUUw3ls/XQJsFwWHWD94s770+ntXP+hR/4VPRlY/yz7Ks4ucVz++0pc0tvZmP4TGAzpp24M/s2msyqxImD9+nU2ncmOmPyyGv+cGEbE/0/toZp1ZtD+Lc5duWVi3P6z9ne3RG7s/M6PEUzR7vz/MlHsmoC7CPwLIv4Ur1sQ/m57B8Fs+xz9Xch38J6zJPyAfusHMTsw//Z55tbMazz9rq+UQaQLRPyv0h4eshdI/71iNoXPp1D8ZDyF08TPXP8429YlVJtk/ZywWlqq62j9vqM5ZVeXbP/waapBZqNw/lben1LoH3T8NB9cWfQndP9xEkPdoudw/AKrZf3Qc3D/1ovKGZiTbP0kiJKD8vNk/hCFZXdry1z+Af0qVKPvVP0vmWN5VD9Q/Fvb23zFZ0j/3QMgFqQzRP/3dtzGofNE/\",\"dtype\":\"float64\",\"shape\":[75]},\"y\":{\"__ndarray__\":\"GhExyth1ND/Sv8nbtpRIP2vylNV0PVE/aTum7souWD/At0SJ8fVgPw3Iuahxymc/MSNhhJWvcD/bTfBN02d3P2zb5nxnaoA/CD5h5MAGhz8NmeH1TyaQP+zrCsc9p5Y/LbKd76fGnz/bLW5ISEmmPww9YvTcQq8/JV2OstnstT8Er5Y7M8G+P0c+r3jqkcU/5h99k6ZBzj88bCIzFzjVP4enV8oyxN0//yH99nXg5D8qOpLLf0jtP5kqGJXUifQ/c9cS8kHP/D+/DpwzojQEQIEmwoanVwxA4lgXt9HgE0BSSZ2AJuIbQAMJih9jjiNA5q4l5INuK0AwTKYKRj0zQNv5fmq8/DpAaCJseHrtQkB/+zpwzoxKQM3MzMzMeFJAZmZmZmZqWEAAAAAAAFxeQM3MzMzMJmJAmpmZmZkfZUBmZmZmZhhoQDMzMzMzEWtAAAAAAAAKbkBmZmZmZoFwQM3MzMzM/XFAMzMzMzN6c0CamZmZmfZ0QAAAAAAAc3ZAZmZmZmbvd0DNzMzMzGt5QDMzMzMz6HpAmpmZmZlkfEAAAAAAAOF9QGZmZmZmXX9AZmZmZuZsgECamZmZGSuBQM3MzMxM6YFAAAAAAICngkAzMzMzs2WDQGZmZmbmI4RAmpmZmRnihEDNzMzMTKCFQAAAAACAXoZAMzMzM7Mch0BmZmZm5tqHQJqZmZkZmYhAzczMzExXiUAAAAAAgBWKQDMzMzOz04pAZmZmZuaRi0CamZmZGVCMQM3MzMxMDo1AAAAAAIDMjUAzMzMzs4qOQGZmZmbmSI9A\",\"dtype\":\"float64\",\"shape\":[75]}}},\"id\":\"fcdfae33-98ff-4118-832e-de0afc930202\",\"type\":\"ColumnDataSource\"},{\"attributes\":{\"callback\":null,\"column_names\":[\"x\",\"y\"],\"data\":{\"x\":{\"__ndarray__\":\"SWM1q2oSQj+ZAhjy8utCPzwClYP3A0U/6dGhxbNMRz+cstEGh61JPzhAg95fE0w/lk1rvUaJTj+cFJRQtIlQP8X4VG7S2lE/SSs4a0snUz/4cRIY2X1UP7F/1Q+q1VU/NdroLGo7Vz9ntyJPqLlYP5+EzqFaf10/lR7cyJ+5ZT/EWaG9s0xxP6TPHjANnXk/DAL68LQSgj9GbBz/hJqIP8BLvKNrUJA/NBSvuRYllT906GNaMn+ZP2Bpi/iAXpk/pQU1dRAelT9MfwpeDI6QPwWoRrMTWYk/Y8c/05Awgz/pAKCJfTl9P0jWB1bLg3Y/TRKpmpRNcT+Iu+0nrmdqP6TCR05z/mQ/tzkXs6zEYT/feE10ZfFdP+cCX/mG91g//2rbJMmfVj91T8wI8jhWP3/xKqFxjFU/Qsoj1fcxVz/3zg3F7JdmPyGVQ4iKs4M//EjFwHN/mD/fi5Kx862mP/8EixaNNrE/lKfZC0ShtD8fEtElkaq3P/g6OJerBrs/z9ZChs26vj8RRYTGXo7BP7y1xjwpKMQ/lNyXMUmlxj+Q63yrCB/JP7fd+yt/rss/RvES4zRPzj9oRbsG7ofQP5F3bFApAdI/J2blTF5m1D8rGLL2bMTWP/7CoNDX09g/8CxqNsGB2j/XWl9lvL3bP0Pvud/fjNw/qK+nQ5IA3T/hMJ/kkSXdP3kQsNCVBt0/EKqhA7Ge3D9YD0YmENLbP1AU+1IZgdo/bhWBxU+02D+I8AqMQabWP4g9ysJJkNQ/DvYzCTSz0j+mj5tOFUfRP5g67rU1ldE/\",\"dtype\":\"float64\",\"shape\":[75]},\"y\":{\"__ndarray__\":\"GhExyth1ND/Sv8nbtpRIP2vylNV0PVE/aTum7souWD/At0SJ8fVgPw3Iuahxymc/MSNhhJWvcD/bTfBN02d3P2zb5nxnaoA/CD5h5MAGhz8NmeH1TyaQP+zrCsc9p5Y/LbKd76fGnz/bLW5ISEmmPww9YvTcQq8/JV2OstnstT8Er5Y7M8G+P0c+r3jqkcU/5h99k6ZBzj88bCIzFzjVP4enV8oyxN0//yH99nXg5D8qOpLLf0jtP5kqGJXUifQ/c9cS8kHP/D+/DpwzojQEQIEmwoanVwxA4lgXt9HgE0BSSZ2AJuIbQAMJih9jjiNA5q4l5INuK0AwTKYKRj0zQNv5fmq8/DpAaCJseHrtQkB/+zpwzoxKQM3MzMzMeFJAZmZmZmZqWEAAAAAAAFxeQM3MzMzMJmJAmpmZmZkfZUBmZmZmZhhoQDMzMzMzEWtAAAAAAAAKbkBmZmZmZoFwQM3MzMzM/XFAMzMzMzN6c0CamZmZmfZ0QAAAAAAAc3ZAZmZmZmbvd0DNzMzMzGt5QDMzMzMz6HpAmpmZmZlkfEAAAAAAAOF9QGZmZmZmXX9AZmZmZuZsgECamZmZGSuBQM3MzMxM6YFAAAAAAICngkAzMzMzs2WDQGZmZmbmI4RAmpmZmRnihEDNzMzMTKCFQAAAAACAXoZAMzMzM7Mch0BmZmZm5tqHQJqZmZkZmYhAzczMzExXiUAAAAAAgBWKQDMzMzOz04pAZmZmZuaRi0CamZmZGVCMQM3MzMxMDo1AAAAAAIDMjUAzMzMzs4qOQGZmZmbmSI9A\",\"dtype\":\"float64\",\"shape\":[75]}}},\"id\":\"4bd58a2f-e078-472f-b8bf-6d4d3c4bf45c\",\"type\":\"ColumnDataSource\"},{\"attributes\":{\"fill_alpha\":{\"value\":0.1},\"fill_color\":{\"value\":\"#1f77b4\"},\"line_alpha\":{\"value\":0.1},\"line_color\":{\"value\":\"#1f77b4\"},\"x\":{\"field\":\"x\"},\"y\":{\"field\":\"y\"}},\"id\":\"84e935e5-fcfe-4a47-960d-e7e74bcd3790\",\"type\":\"Square\"},{\"attributes\":{\"overlay\":{\"id\":\"eff65e0e-2c8d-49fa-afce-fa83aa7f5613\",\"type\":\"BoxAnnotation\"}},\"id\":\"14764b19-64de-4779-bdd7-2c997ff3929c\",\"type\":\"BoxZoomTool\"},{\"attributes\":{\"line_alpha\":0.6,\"line_color\":\"#984ea3\",\"line_width\":3,\"x\":{\"field\":\"x\"},\"y\":{\"field\":\"y\"}},\"id\":\"c4a46264-d030-47a1-aaba-ba528487cdae\",\"type\":\"Line\"},{\"attributes\":{\"active_drag\":\"auto\",\"active_inspect\":\"auto\",\"active_scroll\":\"auto\",\"active_tap\":\"auto\",\"tools\":[{\"id\":\"ad34d70b-966b-4dfd-a5ee-ecd90ee94f44\",\"type\":\"PanTool\"},{\"id\":\"b46d3ded-731e-4820-91cf-b38f6366abaa\",\"type\":\"WheelZoomTool\"},{\"id\":\"14764b19-64de-4779-bdd7-2c997ff3929c\",\"type\":\"BoxZoomTool\"},{\"id\":\"f9c73dea-ffe8-4fdf-87c2-9be37970030e\",\"type\":\"SaveTool\"},{\"id\":\"00309a74-fdde-4a49-9ff8-06b8d13270ad\",\"type\":\"ResetTool\"},{\"id\":\"e354a545-4d99-4216-8668-f766a3488015\",\"type\":\"HelpTool\"}]},\"id\":\"df0cee1e-4055-45b1-8194-1cab101c6d75\",\"type\":\"Toolbar\"},{\"attributes\":{\"source\":{\"id\":\"7dd068aa-1880-4699-a3be-3788444f1b87\",\"type\":\"ColumnDataSource\"}},\"id\":\"f27baff1-5e63-482f-8699-dc302edd5afb\",\"type\":\"CDSView\"},{\"attributes\":{\"line_alpha\":0.6,\"line_color\":\"#e41a1c\",\"line_dash\":[6],\"line_width\":5,\"x\":{\"field\":\"x\"},\"y\":{\"field\":\"y\"}},\"id\":\"eba8cf66-193a-48fb-b4ef-a89244d9e168\",\"type\":\"Line\"},{\"attributes\":{\"data_source\":{\"id\":\"16cb7c1e-7834-4bc0-a65a-3a92cddcca01\",\"type\":\"ColumnDataSource\"},\"glyph\":{\"id\":\"0d059b70-75e7-4691-adbf-877f90d6fab9\",\"type\":\"Circle\"},\"hover_glyph\":null,\"muted_glyph\":null,\"nonselection_glyph\":{\"id\":\"ab597eea-c511-445b-a809-88f1c9ea12a6\",\"type\":\"Circle\"},\"selection_glyph\":null,\"view\":{\"id\":\"bf9d70db-cf69-4ab7-b77e-6a19f19c2b0a\",\"type\":\"CDSView\"}},\"id\":\"3f19db1a-7294-4839-9d40-9523ac0a91c1\",\"type\":\"GlyphRenderer\"},{\"attributes\":{},\"id\":\"ed4d445d-421d-47cb-93ca-7cdda4eb9cb0\",\"type\":\"BasicTicker\"},{\"attributes\":{},\"id\":\"b46d3ded-731e-4820-91cf-b38f6366abaa\",\"type\":\"WheelZoomTool\"},{\"attributes\":{\"callback\":null,\"column_names\":[\"x\",\"y\"],\"data\":{\"x\":{\"__ndarray__\":\"LOZpX3MKND9Vu6pREyM2Pxt2RO9gxTo/UASSzYrPPz/9cDBVmXtCP/ypizkjIUU/m5x/uGfbRz8/LEBUl6hKP3ywKJLigE0/sZHWcW4xUD+W+X2teqFRP7k4W5WM8FI/XrLz8/RDVD+DVsmHZZpVP1JfYYSaaFo/vREjrTQOZT9TehV+kZVxP91iGfpi0Xo/ixuest85gz8KIv+KBGyKP3V97BxtlpE/ZeLk6yPRlj9UH/Teq2WbPzG/mALZuJo/BmqbXDiClT8f5KFhxE2QP+KiB/zpWIg/HNJDTMQ9gj9xEwR7iwh8P3+5izq3LHY/DXnuvwGtcT/taOHQqRRsP3e52TbELGc/rmWdbrMRZD+mNZwmMgJhP3rHmUUw3ls/XQJsFwWHWD94s770+ntXP+hR/4VPRlY/yz7Ks4ucVz++0pc0tvZmP4TGAzpp24M/s2msyqxImD9+nU2ncmOmPyyGv+cGEbE/0/toZp1ZtD+Lc5duWVi3P6z9ne3RG7s/M6PEUzR7vz/MlHsmoC7CPwLIv4Ur1sQ/m57B8Fs+xz9Xch38J6zJPyAfusHMTsw//Z55tbMazz9rq+UQaQLRPyv0h4eshdI/71iNoXPp1D8ZDyF08TPXP8429YlVJtk/ZywWlqq62j9vqM5ZVeXbP/waapBZqNw/lben1LoH3T8NB9cWfQndP9xEkPdoudw/AKrZf3Qc3D/1ovKGZiTbP0kiJKD8vNk/hCFZXdry1z+Af0qVKPvVP0vmWN5VD9Q/Fvb23zFZ0j/3QMgFqQzRP/3dtzGofNE/\",\"dtype\":\"float64\",\"shape\":[75]},\"y\":{\"__ndarray__\":\"GhExyth1ND/Sv8nbtpRIP2vylNV0PVE/aTum7souWD/At0SJ8fVgPw3Iuahxymc/MSNhhJWvcD/bTfBN02d3P2zb5nxnaoA/CD5h5MAGhz8NmeH1TyaQP+zrCsc9p5Y/LbKd76fGnz/bLW5ISEmmPww9YvTcQq8/JV2OstnstT8Er5Y7M8G+P0c+r3jqkcU/5h99k6ZBzj88bCIzFzjVP4enV8oyxN0//yH99nXg5D8qOpLLf0jtP5kqGJXUifQ/c9cS8kHP/D+/DpwzojQEQIEmwoanVwxA4lgXt9HgE0BSSZ2AJuIbQAMJih9jjiNA5q4l5INuK0AwTKYKRj0zQNv5fmq8/DpAaCJseHrtQkB/+zpwzoxKQM3MzMzMeFJAZmZmZmZqWEAAAAAAAFxeQM3MzMzMJmJAmpmZmZkfZUBmZmZmZhhoQDMzMzMzEWtAAAAAAAAKbkBmZmZmZoFwQM3MzMzM/XFAMzMzMzN6c0CamZmZmfZ0QAAAAAAAc3ZAZmZmZmbvd0DNzMzMzGt5QDMzMzMz6HpAmpmZmZlkfEAAAAAAAOF9QGZmZmZmXX9AZmZmZuZsgECamZmZGSuBQM3MzMxM6YFAAAAAAICngkAzMzMzs2WDQGZmZmbmI4RAmpmZmRnihEDNzMzMTKCFQAAAAACAXoZAMzMzM7Mch0BmZmZm5tqHQJqZmZkZmYhAzczMzExXiUAAAAAAgBWKQDMzMzOz04pAZmZmZuaRi0CamZmZGVCMQM3MzMxMDo1AAAAAAIDMjUAzMzMzs4qOQGZmZmbmSI9A\",\"dtype\":\"float64\",\"shape\":[75]}}},\"id\":\"b2fa65d5-5ea1-4c3c-9718-92df9cf65a22\",\"type\":\"ColumnDataSource\"},{\"attributes\":{\"children\":[{\"id\":\"27ff01c7-94c4-46e5-acd4-8d56f951cef7\",\"type\":\"Row\"}]},\"id\":\"bd78413d-20cd-4a72-9595-e09cdfc1fd4d\",\"type\":\"Column\"},{\"attributes\":{\"dimension\":1,\"plot\":{\"id\":\"79071c4f-398a-4f57-a496-233b647f1da0\",\"subtype\":\"Figure\",\"type\":\"Plot\"},\"ticker\":{\"id\":\"d6cdd3cc-ce6b-41a3-a04e-d11545bb2e64\",\"type\":\"BasicTicker\"}},\"id\":\"4aa355d2-79bb-43e1-af0d-6ab4b057eb1f\",\"type\":\"Grid\"},{\"attributes\":{\"callback\":null,\"column_names\":[\"x\",\"y\"],\"data\":{\"x\":{\"__ndarray__\":\"LOZpX3MKND9Vu6pREyM2Pxt2RO9gxTo/UASSzYrPPz/9cDBVmXtCP/ypizkjIUU/m5x/uGfbRz8/LEBUl6hKP3ywKJLigE0/sZHWcW4xUD+W+X2teqFRP7k4W5WM8FI/XrLz8/RDVD+DVsmHZZpVP1JfYYSaaFo/vREjrTQOZT9TehV+kZVxP91iGfpi0Xo/ixuest85gz8KIv+KBGyKP3V97BxtlpE/ZeLk6yPRlj9UH/Teq2WbPzG/mALZuJo/BmqbXDiClT8f5KFhxE2QP+KiB/zpWIg/HNJDTMQ9gj9xEwR7iwh8P3+5izq3LHY/DXnuvwGtcT/taOHQqRRsP3e52TbELGc/rmWdbrMRZD+mNZwmMgJhP3rHmUUw3ls/XQJsFwWHWD94s770+ntXP+hR/4VPRlY/yz7Ks4ucVz++0pc0tvZmP4TGAzpp24M/s2msyqxImD9+nU2ncmOmPyyGv+cGEbE/0/toZp1ZtD+Lc5duWVi3P6z9ne3RG7s/M6PEUzR7vz/MlHsmoC7CPwLIv4Ur1sQ/m57B8Fs+xz9Xch38J6zJPyAfusHMTsw//Z55tbMazz9rq+UQaQLRPyv0h4eshdI/71iNoXPp1D8ZDyF08TPXP8429YlVJtk/ZywWlqq62j9vqM5ZVeXbP/waapBZqNw/lben1LoH3T8NB9cWfQndP9xEkPdoudw/AKrZf3Qc3D/1ovKGZiTbP0kiJKD8vNk/hCFZXdry1z+Af0qVKPvVP0vmWN5VD9Q/Fvb23zFZ0j/3QMgFqQzRP/3dtzGofNE/\",\"dtype\":\"float64\",\"shape\":[75]},\"y\":{\"__ndarray__\":\"GhExyth1ND/Sv8nbtpRIP2vylNV0PVE/aTum7souWD/At0SJ8fVgPw3Iuahxymc/MSNhhJWvcD/bTfBN02d3P2zb5nxnaoA/CD5h5MAGhz8NmeH1TyaQP+zrCsc9p5Y/LbKd76fGnz/bLW5ISEmmPww9YvTcQq8/JV2OstnstT8Er5Y7M8G+P0c+r3jqkcU/5h99k6ZBzj88bCIzFzjVP4enV8oyxN0//yH99nXg5D8qOpLLf0jtP5kqGJXUifQ/c9cS8kHP/D+/DpwzojQEQIEmwoanVwxA4lgXt9HgE0BSSZ2AJuIbQAMJih9jjiNA5q4l5INuK0AwTKYKRj0zQNv5fmq8/DpAaCJseHrtQkB/+zpwzoxKQM3MzMzMeFJAZmZmZmZqWEAAAAAAAFxeQM3MzMzMJmJAmpmZmZkfZUBmZmZmZhhoQDMzMzMzEWtAAAAAAAAKbkBmZmZmZoFwQM3MzMzM/XFAMzMzMzN6c0CamZmZmfZ0QAAAAAAAc3ZAZmZmZmbvd0DNzMzMzGt5QDMzMzMz6HpAmpmZmZlkfEAAAAAAAOF9QGZmZmZmXX9AZmZmZuZsgECamZmZGSuBQM3MzMxM6YFAAAAAAICngkAzMzMzs2WDQGZmZmbmI4RAmpmZmRnihEDNzMzMTKCFQAAAAACAXoZAMzMzM7Mch0BmZmZm5tqHQJqZmZkZmYhAzczMzExXiUAAAAAAgBWKQDMzMzOz04pAZmZmZuaRi0CamZmZGVCMQM3MzMxMDo1AAAAAAIDMjUAzMzMzs4qOQGZmZmbmSI9A\",\"dtype\":\"float64\",\"shape\":[75]}}},\"id\":\"71172396-e156-4dd9-a9c5-0d4bbf695bea\",\"type\":\"ColumnDataSource\"},{\"attributes\":{\"fill_alpha\":{\"value\":0.7},\"fill_color\":{\"value\":\"#4daf4a\"},\"line_alpha\":{\"value\":0.7},\"line_color\":{\"value\":\"#4daf4a\"},\"x\":{\"field\":\"x\"},\"y\":{\"field\":\"y\"}},\"id\":\"0d059b70-75e7-4691-adbf-877f90d6fab9\",\"type\":\"Circle\"},{\"attributes\":{\"source\":{\"id\":\"fcdfae33-98ff-4118-832e-de0afc930202\",\"type\":\"ColumnDataSource\"}},\"id\":\"d2cf9913-8c38-42e9-a7b9-997acf16a0dc\",\"type\":\"CDSView\"},{\"attributes\":{\"callback\":null,\"end\":0.01,\"start\":1020},\"id\":\"ed3af9d0-08a9-4b73-91c2-5a30353c15f6\",\"type\":\"Range1d\"},{\"attributes\":{\"source\":{\"id\":\"c29ed907-1b10-4221-be07-e1eb1ad8a31f\",\"type\":\"ColumnDataSource\"}},\"id\":\"c2bed044-ac29-43cd-acff-a94aebfe8247\",\"type\":\"CDSView\"},{\"attributes\":{\"ticker\":null},\"id\":\"f01cbfab-8f32-497c-b2e1-6756c86feead\",\"type\":\"LogTickFormatter\"},{\"attributes\":{},\"id\":\"d80576b5-b816-48f2-a80a-61c30f00fa52\",\"type\":\"PanTool\"},{\"attributes\":{\"data_source\":{\"id\":\"b2fa65d5-5ea1-4c3c-9718-92df9cf65a22\",\"type\":\"ColumnDataSource\"},\"glyph\":{\"id\":\"3c9ac910-9335-4ea8-9d2b-f2da2b9d4b5d\",\"type\":\"Line\"},\"hover_glyph\":null,\"muted_glyph\":null,\"nonselection_glyph\":{\"id\":\"96af6992-0898-4f1d-8d05-88dc768642a7\",\"type\":\"Line\"},\"selection_glyph\":null,\"view\":{\"id\":\"a5bc43f8-2e5d-40f3-898a-b9f6c73afceb\",\"type\":\"CDSView\"}},\"id\":\"256b467a-ea23-490a-81f0-5d302f93e683\",\"type\":\"GlyphRenderer\"},{\"attributes\":{},\"id\":\"d6cdd3cc-ce6b-41a3-a04e-d11545bb2e64\",\"type\":\"BasicTicker\"},{\"attributes\":{\"source\":{\"id\":\"16cb7c1e-7834-4bc0-a65a-3a92cddcca01\",\"type\":\"ColumnDataSource\"}},\"id\":\"bf9d70db-cf69-4ab7-b77e-6a19f19c2b0a\",\"type\":\"CDSView\"},{\"attributes\":{\"fill_alpha\":{\"value\":0.1},\"fill_color\":{\"value\":\"#1f77b4\"},\"line_alpha\":{\"value\":0.1},\"line_color\":{\"value\":\"#1f77b4\"},\"x\":{\"field\":\"x\"},\"y\":{\"field\":\"y\"}},\"id\":\"7dd670af-4c80-4b2c-b2ec-9f11a12b4aad\",\"type\":\"Circle\"},{\"attributes\":{\"line_color\":\"#4daf4a\",\"line_width\":1.5,\"x\":{\"field\":\"x\"},\"y\":{\"field\":\"y\"}},\"id\":\"3c9ac910-9335-4ea8-9d2b-f2da2b9d4b5d\",\"type\":\"Line\"},{\"attributes\":{\"dimension\":1,\"plot\":{\"id\":\"aed67764-9e1c-4430-b222-6bf882af8e11\",\"subtype\":\"Figure\",\"type\":\"Plot\"},\"ticker\":{\"id\":\"5cf773df-e889-4b1b-a7e6-ae4c76a61e12\",\"type\":\"LogTicker\"}},\"id\":\"a25dbe3c-bb02-44f8-a569-010f2abe8f4e\",\"type\":\"Grid\"},{\"attributes\":{\"line_alpha\":0.1,\"line_color\":\"#1f77b4\",\"line_width\":1.5,\"x\":{\"field\":\"x\"},\"y\":{\"field\":\"y\"}},\"id\":\"96af6992-0898-4f1d-8d05-88dc768642a7\",\"type\":\"Line\"},{\"attributes\":{\"callback\":null,\"column_names\":[\"x\",\"y\"],\"data\":{\"x\":{\"__ndarray__\":\"SWM1q2oSQj+ZAhjy8utCPzwClYP3A0U/6dGhxbNMRz+cstEGh61JPzhAg95fE0w/lk1rvUaJTj+cFJRQtIlQP8X4VG7S2lE/SSs4a0snUz/4cRIY2X1UP7F/1Q+q1VU/NdroLGo7Vz9ntyJPqLlYP5+EzqFaf10/lR7cyJ+5ZT/EWaG9s0xxP6TPHjANnXk/DAL68LQSgj9GbBz/hJqIP8BLvKNrUJA/NBSvuRYllT906GNaMn+ZP2Bpi/iAXpk/pQU1dRAelT9MfwpeDI6QPwWoRrMTWYk/Y8c/05Awgz/pAKCJfTl9P0jWB1bLg3Y/TRKpmpRNcT+Iu+0nrmdqP6TCR05z/mQ/tzkXs6zEYT/feE10ZfFdP+cCX/mG91g//2rbJMmfVj91T8wI8jhWP3/xKqFxjFU/Qsoj1fcxVz/3zg3F7JdmPyGVQ4iKs4M//EjFwHN/mD/fi5Kx862mP/8EixaNNrE/lKfZC0ShtD8fEtElkaq3P/g6OJerBrs/z9ZChs26vj8RRYTGXo7BP7y1xjwpKMQ/lNyXMUmlxj+Q63yrCB/JP7fd+yt/rss/RvES4zRPzj9oRbsG7ofQP5F3bFApAdI/J2blTF5m1D8rGLL2bMTWP/7CoNDX09g/8CxqNsGB2j/XWl9lvL3bP0Pvud/fjNw/qK+nQ5IA3T/hMJ/kkSXdP3kQsNCVBt0/EKqhA7Ge3D9YD0YmENLbP1AU+1IZgdo/bhWBxU+02D+I8AqMQabWP4g9ysJJkNQ/DvYzCTSz0j+mj5tOFUfRP5g67rU1ldE/\",\"dtype\":\"float64\",\"shape\":[75]},\"y\":{\"__ndarray__\":\"GhExyth1ND/Sv8nbtpRIP2vylNV0PVE/aTum7souWD/At0SJ8fVgPw3Iuahxymc/MSNhhJWvcD/bTfBN02d3P2zb5nxnaoA/CD5h5MAGhz8NmeH1TyaQP+zrCsc9p5Y/LbKd76fGnz/bLW5ISEmmPww9YvTcQq8/JV2OstnstT8Er5Y7M8G+P0c+r3jqkcU/5h99k6ZBzj88bCIzFzjVP4enV8oyxN0//yH99nXg5D8qOpLLf0jtP5kqGJXUifQ/c9cS8kHP/D+/DpwzojQEQIEmwoanVwxA4lgXt9HgE0BSSZ2AJuIbQAMJih9jjiNA5q4l5INuK0AwTKYKRj0zQNv5fmq8/DpAaCJseHrtQkB/+zpwzoxKQM3MzMzMeFJAZmZmZmZqWEAAAAAAAFxeQM3MzMzMJmJAmpmZmZkfZUBmZmZmZhhoQDMzMzMzEWtAAAAAAAAKbkBmZmZmZoFwQM3MzMzM/XFAMzMzMzN6c0CamZmZmfZ0QAAAAAAAc3ZAZmZmZmbvd0DNzMzMzGt5QDMzMzMz6HpAmpmZmZlkfEAAAAAAAOF9QGZmZmZmXX9AZmZmZuZsgECamZmZGSuBQM3MzMxM6YFAAAAAAICngkAzMzMzs2WDQGZmZmbmI4RAmpmZmRnihEDNzMzMTKCFQAAAAACAXoZAMzMzM7Mch0BmZmZm5tqHQJqZmZkZmYhAzczMzExXiUAAAAAAgBWKQDMzMzOz04pAZmZmZuaRi0CamZmZGVCMQM3MzMxMDo1AAAAAAIDMjUAzMzMzs4qOQGZmZmbmSI9A\",\"dtype\":\"float64\",\"shape\":[75]}}},\"id\":\"ab5b4ec6-5634-40c4-9c81-f82b888731fe\",\"type\":\"ColumnDataSource\"},{\"attributes\":{\"line_alpha\":0.6,\"line_color\":\"#984ea3\",\"line_width\":3,\"x\":{\"field\":\"x\"},\"y\":{\"field\":\"y\"}},\"id\":\"348366bb-91a7-4167-a7c7-6436ba530dce\",\"type\":\"Line\"},{\"attributes\":{\"source\":{\"id\":\"b2fa65d5-5ea1-4c3c-9718-92df9cf65a22\",\"type\":\"ColumnDataSource\"}},\"id\":\"a5bc43f8-2e5d-40f3-898a-b9f6c73afceb\",\"type\":\"CDSView\"},{\"attributes\":{\"label\":{\"value\":\"CRD\"},\"renderers\":[{\"id\":\"3f19db1a-7294-4839-9d40-9523ac0a91c1\",\"type\":\"GlyphRenderer\"},{\"id\":\"256b467a-ea23-490a-81f0-5d302f93e683\",\"type\":\"GlyphRenderer\"}]},\"id\":\"e5f4a0a5-4c64-401b-9dc6-375c0aa335a1\",\"type\":\"LegendItem\"},{\"attributes\":{\"fill_alpha\":{\"value\":0.7},\"fill_color\":{\"value\":\"#984ea3\"},\"line_alpha\":{\"value\":0.7},\"line_color\":{\"value\":\"#984ea3\"},\"x\":{\"field\":\"x\"},\"y\":{\"field\":\"y\"}},\"id\":\"d436029b-9e17-4644-b3f3-b90f889dc69c\",\"type\":\"Square\"},{\"attributes\":{},\"id\":\"f9c73dea-ffe8-4fdf-87c2-9be37970030e\",\"type\":\"SaveTool\"},{\"attributes\":{\"source\":{\"id\":\"4bd58a2f-e078-472f-b8bf-6d4d3c4bf45c\",\"type\":\"ColumnDataSource\"}},\"id\":\"adf0a607-5324-452e-91bd-0e2f09cfe6cb\",\"type\":\"CDSView\"},{\"attributes\":{\"callback\":null,\"end\":0.027012809373599997,\"start\":0.0007196192664},\"id\":\"2d50cd0e-ade1-42b9-94bf-19721f98249b\",\"type\":\"Range1d\"},{\"attributes\":{\"items\":[{\"id\":\"b50a942d-015b-4235-8212-3e7dc8eaf0b5\",\"type\":\"LegendItem\"},{\"id\":\"e5f4a0a5-4c64-401b-9dc6-375c0aa335a1\",\"type\":\"LegendItem\"},{\"id\":\"60c0583c-7849-42bc-9a53-4bc8d6905147\",\"type\":\"LegendItem\"}],\"label_text_font_size\":{\"value\":\"8pt\"},\"location\":[10,-30],\"plot\":{\"id\":\"aed67764-9e1c-4430-b222-6bf882af8e11\",\"subtype\":\"Figure\",\"type\":\"Plot\"}},\"id\":\"250d48b3-4edc-4a72-a580-52fb4d3f29e8\",\"type\":\"Legend\"},{\"attributes\":{\"data_source\":{\"id\":\"099e3c23-7a1e-494e-b46e-57c0b1a274c5\",\"type\":\"ColumnDataSource\"},\"glyph\":{\"id\":\"eba8cf66-193a-48fb-b4ef-a89244d9e168\",\"type\":\"Line\"},\"hover_glyph\":null,\"muted_glyph\":null,\"nonselection_glyph\":{\"id\":\"d25a82de-30fe-41ee-9f92-6a50973ccbc4\",\"type\":\"Line\"},\"selection_glyph\":null,\"view\":{\"id\":\"21a08f54-e3e8-43c7-90b0-dbbaa8f1eaf0\",\"type\":\"CDSView\"}},\"id\":\"f63e64e1-1090-4dbf-8ba9-78ca1cbfe4aa\",\"type\":\"GlyphRenderer\"},{\"attributes\":{},\"id\":\"be42211c-f868-4156-8413-0e018ea5a396\",\"type\":\"HelpTool\"},{\"attributes\":{\"callback\":null,\"end\":0.4862957926436,\"start\":-0.003827737003600001},\"id\":\"562c6236-519c-4141-b7ae-d19e50188fc3\",\"type\":\"Range1d\"},{\"attributes\":{\"callback\":null,\"end\":0.01,\"start\":1020},\"id\":\"63e64c21-04c0-4f5c-b544-99725f2775f2\",\"type\":\"Range1d\"},{\"attributes\":{\"data_source\":{\"id\":\"2b8b5b6f-7700-494c-9c61-6cbe3b4c704d\",\"type\":\"ColumnDataSource\"},\"glyph\":{\"id\":\"c4a46264-d030-47a1-aaba-ba528487cdae\",\"type\":\"Line\"},\"hover_glyph\":null,\"muted_glyph\":null,\"nonselection_glyph\":{\"id\":\"919d37f9-7484-45d6-8c73-6f8545db00fa\",\"type\":\"Line\"},\"selection_glyph\":null,\"view\":{\"id\":\"23569faa-5aee-4247-9546-4fcbf3263948\",\"type\":\"CDSView\"}},\"id\":\"b8b847ad-9dd8-4611-840b-e2371e436138\",\"type\":\"GlyphRenderer\"},{\"attributes\":{\"axis_label\":\"pressure [mb]\",\"formatter\":{\"id\":\"f01cbfab-8f32-497c-b2e1-6756c86feead\",\"type\":\"LogTickFormatter\"},\"plot\":{\"id\":\"aed67764-9e1c-4430-b222-6bf882af8e11\",\"subtype\":\"Figure\",\"type\":\"Plot\"},\"ticker\":{\"id\":\"5cf773df-e889-4b1b-a7e6-ae4c76a61e12\",\"type\":\"LogTicker\"}},\"id\":\"1cae1398-d478-4c8b-a512-67fb418db668\",\"type\":\"LogAxis\"},{\"attributes\":{\"data_source\":{\"id\":\"4bd58a2f-e078-472f-b8bf-6d4d3c4bf45c\",\"type\":\"ColumnDataSource\"},\"glyph\":{\"id\":\"d436029b-9e17-4644-b3f3-b90f889dc69c\",\"type\":\"Square\"},\"hover_glyph\":null,\"muted_glyph\":null,\"nonselection_glyph\":{\"id\":\"d695b212-5029-4674-896b-3a87aa57ba4c\",\"type\":\"Square\"},\"selection_glyph\":null,\"view\":{\"id\":\"adf0a607-5324-452e-91bd-0e2f09cfe6cb\",\"type\":\"CDSView\"}},\"id\":\"38fbe9f9-31db-4ff1-80b4-e0ad0364367a\",\"type\":\"GlyphRenderer\"},{\"attributes\":{\"line_alpha\":0.1,\"line_color\":\"#1f77b4\",\"line_width\":1.5,\"x\":{\"field\":\"x\"},\"y\":{\"field\":\"y\"}},\"id\":\"6f0a2fcb-1c77-484c-8632-8c60c4b6b4cc\",\"type\":\"Line\"},{\"attributes\":{},\"id\":\"3eb3ed98-a9fd-42c3-b61c-b8251f4855ce\",\"type\":\"WheelZoomTool\"},{\"attributes\":{\"fill_alpha\":{\"value\":0.1},\"fill_color\":{\"value\":\"#1f77b4\"},\"line_alpha\":{\"value\":0.1},\"line_color\":{\"value\":\"#1f77b4\"},\"x\":{\"field\":\"x\"},\"y\":{\"field\":\"y\"}},\"id\":\"d695b212-5029-4674-896b-3a87aa57ba4c\",\"type\":\"Square\"},{\"attributes\":{\"source\":{\"id\":\"ab5b4ec6-5634-40c4-9c81-f82b888731fe\",\"type\":\"ColumnDataSource\"}},\"id\":\"804c6995-edab-4aea-beee-9f3db90153d6\",\"type\":\"CDSView\"},{\"attributes\":{},\"id\":\"6e6ed0b8-e484-499c-a983-267c7ee8e984\",\"type\":\"LinearScale\"},{\"attributes\":{\"below\":[{\"id\":\"3af1c2fb-a812-479e-a79d-2e6831fb89a7\",\"type\":\"LinearAxis\"}],\"left\":[{\"id\":\"1cae1398-d478-4c8b-a512-67fb418db668\",\"type\":\"LogAxis\"}],\"plot_height\":500,\"plot_width\":560,\"renderers\":[{\"id\":\"3af1c2fb-a812-479e-a79d-2e6831fb89a7\",\"type\":\"LinearAxis\"},{\"id\":\"0264694b-a775-4071-8918-62aba9239cb4\",\"type\":\"Grid\"},{\"id\":\"1cae1398-d478-4c8b-a512-67fb418db668\",\"type\":\"LogAxis\"},{\"id\":\"a25dbe3c-bb02-44f8-a569-010f2abe8f4e\",\"type\":\"Grid\"},{\"id\":\"eff65e0e-2c8d-49fa-afce-fa83aa7f5613\",\"type\":\"BoxAnnotation\"},{\"id\":\"f63e64e1-1090-4dbf-8ba9-78ca1cbfe4aa\",\"type\":\"GlyphRenderer\"},{\"id\":\"3f19db1a-7294-4839-9d40-9523ac0a91c1\",\"type\":\"GlyphRenderer\"},{\"id\":\"256b467a-ea23-490a-81f0-5d302f93e683\",\"type\":\"GlyphRenderer\"},{\"id\":\"38fbe9f9-31db-4ff1-80b4-e0ad0364367a\",\"type\":\"GlyphRenderer\"},{\"id\":\"a75a209f-2d6a-442d-b078-80f50b1cfd68\",\"type\":\"GlyphRenderer\"},{\"id\":\"250d48b3-4edc-4a72-a580-52fb4d3f29e8\",\"type\":\"Legend\"}],\"right\":[{\"id\":\"250d48b3-4edc-4a72-a580-52fb4d3f29e8\",\"type\":\"Legend\"}],\"title\":{\"id\":\"63f6a5b1-a907-4575-8257-e3bd04f517e9\",\"type\":\"Title\"},\"toolbar\":{\"id\":\"df0cee1e-4055-45b1-8194-1cab101c6d75\",\"type\":\"Toolbar\"},\"toolbar_location\":null,\"x_range\":{\"id\":\"2d50cd0e-ade1-42b9-94bf-19721f98249b\",\"type\":\"Range1d\"},\"x_scale\":{\"id\":\"07fa6ba4-599b-488d-a340-78b282deef78\",\"type\":\"LinearScale\"},\"y_range\":{\"id\":\"ed3af9d0-08a9-4b73-91c2-5a30353c15f6\",\"type\":\"Range1d\"},\"y_scale\":{\"id\":\"5469c9cd-730b-45c5-954f-6d4b9cacfb25\",\"type\":\"LogScale\"}},\"id\":\"aed67764-9e1c-4430-b222-6bf882af8e11\",\"subtype\":\"Figure\",\"type\":\"Plot\"},{\"attributes\":{\"callback\":null,\"column_names\":[\"x\",\"y\"],\"data\":{\"x\":{\"__ndarray__\":\"AIgQtVVtRz8mpOykHzlIPx49Nouvhko/UQnZvNHLTD8v6T5LcRpPP3hv3loTu1A/NwmVKFHwUT+pIRFmmCtTPyjSGM2MblQ/coIrouO4VT9Rv8EWuA5XPy+7Smc+aFg/J4GAhg3HWT9IcDsmJj5bP7LOmXGx4l8/l7fR5tIdZz+nfdGn1+JxPz9/Rtc4I3o/u88NJxJHgj8YhHO/o8OIP8PSRMgOZJA/eqxTxG1dlT/0Rw6UuOeZPxL27SQi/Jk/8Ti05MvtlT/h2YPox2GRPzkNHpSat4o/yU9Q6ewUhD9VcZz4R+99P86aKl8hQXY/kTEo50xZcD/Dn3xZFcNnP3QhqDTI/2E/9ZnHa+sRXT8S7nS04WFXPzhiPyHBqFI/2S6zn3OdUD94EWQiUl5QPzGGx5N+A1A/mrVoRmWYUT9y/uv6U5NhP9tPrjeW4X8/34ZQWdjJlD+7XiMUHt6jP/9KrxlVkK4/CFUU9ofCsj/rp3EC4hS2P4DPF5TMXrk/PLwIz1unvD8qQdpaul3AP1lD80qjE8M/oiuufUPZxT9uWkKhEpXIP6fbZQELR8s/IAn7dhIRzj8wr0yNCnvQP8NRC4i9DtI/G1kB13id1D8Y3ll50TDXP+4X/bLFf9k/Fhx3rTFm2z8HXm+TOMjcP2iIdIk0u90/G2UedUtd3j8F9MoOVLreP5nigTO+0N4/AYzCiUOR3j9LAlgNV8HdPwDFp4RQM9w/aBhnodf+2T9L4jDBPnTXPxxiF6DI7tQ/fZ+Bw9G20j+QNFWDchPRPzBNbJlnQNE/\",\"dtype\":\"float64\",\"shape\":[75]},\"y\":{\"__ndarray__\":\"S/O/Q+51ND/Sv8nbtpRIP2vylNV0PVE/aTum7souWD/At0SJ8fVgPw3Iuahxymc/MSNhhJWvcD/bTfBN02d3P2zb5nxnaoA/CD5h5MAGhz8NmeH1TyaQP+zrCsc9p5Y/LbKd76fGnz/bLW5ISEmmPww9YvTcQq8/JV2OstnstT8Er5Y7M8G+P0c+r3jqkcU/5h99k6ZBzj88bCIzFzjVP4enV8oyxN0//yH99nXg5D8qOpLLf0jtP5kqGJXUifQ/c9cS8kHP/D+/DpwzojQEQIEmwoanVwxA4lgXt9HgE0BSSZ2AJuIbQAMJih9jjiNA5q4l5INuK0AwTKYKRj0zQNv5fmq8/DpAaCJseHrtQkB/+zpwzoxKQM3MzMzMeFJAZmZmZmZqWEAAAAAAAFxeQM3MzMzMJmJAmpmZmZkfZUBmZmZmZhhoQDMzMzMzEWtAAAAAAAAKbkBmZmZmZoFwQM3MzMzM/XFAMzMzMzN6c0CamZmZmfZ0QAAAAAAAc3ZAZmZmZmbvd0DNzMzMzGt5QDMzMzMz6HpAmpmZmZlkfEAAAAAAAOF9QGZmZmZmXX9AZmZmZuZsgECamZmZGSuBQM3MzMxM6YFAAAAAAICngkAzMzMzs2WDQGZmZmbmI4RAmpmZmRnihEDNzMzMTKCFQAAAAACAXoZAMzMzM7Mch0BmZmZm5tqHQJqZmZkZmYhAzczMzExXiUAAAAAAgBWKQDMzMzOz04pAZmZmZuaRi0CamZmZGVCMQM3MzMxMDo1AAAAAAIDMjUAzMzMzs4qOQGZmZmbmSI9A\",\"dtype\":\"float64\",\"shape\":[75]}}},\"id\":\"099e3c23-7a1e-494e-b46e-57c0b1a274c5\",\"type\":\"ColumnDataSource\"},{\"attributes\":{\"line_alpha\":0.1,\"line_color\":\"#1f77b4\",\"line_width\":3,\"x\":{\"field\":\"x\"},\"y\":{\"field\":\"y\"}},\"id\":\"8e4fb2cd-b1e6-4348-b561-2eb5cbea4c40\",\"type\":\"Line\"},{\"attributes\":{\"data_source\":{\"id\":\"ab5b4ec6-5634-40c4-9c81-f82b888731fe\",\"type\":\"ColumnDataSource\"},\"glyph\":{\"id\":\"348366bb-91a7-4167-a7c7-6436ba530dce\",\"type\":\"Line\"},\"hover_glyph\":null,\"muted_glyph\":null,\"nonselection_glyph\":{\"id\":\"8e4fb2cd-b1e6-4348-b561-2eb5cbea4c40\",\"type\":\"Line\"},\"selection_glyph\":null,\"view\":{\"id\":\"804c6995-edab-4aea-beee-9f3db90153d6\",\"type\":\"CDSView\"}},\"id\":\"a75a209f-2d6a-442d-b078-80f50b1cfd68\",\"type\":\"GlyphRenderer\"},{\"attributes\":{\"source\":{\"id\":\"71172396-e156-4dd9-a9c5-0d4bbf695bea\",\"type\":\"ColumnDataSource\"}},\"id\":\"49b9b369-0d5c-445d-86a6-1f6b92e97d1a\",\"type\":\"CDSView\"},{\"attributes\":{\"tools\":[{\"id\":\"d80576b5-b816-48f2-a80a-61c30f00fa52\",\"type\":\"PanTool\"},{\"id\":\"3eb3ed98-a9fd-42c3-b61c-b8251f4855ce\",\"type\":\"WheelZoomTool\"},{\"id\":\"8d84b314-6320-4290-bf1e-e1501465de02\",\"type\":\"BoxZoomTool\"},{\"id\":\"e5473829-0c89-4273-959b-0da84c5f5595\",\"type\":\"SaveTool\"},{\"id\":\"39908988-4db0-48e6-aa4a-ff37972732dc\",\"type\":\"ResetTool\"},{\"id\":\"be42211c-f868-4156-8413-0e018ea5a396\",\"type\":\"HelpTool\"},{\"id\":\"ad34d70b-966b-4dfd-a5ee-ecd90ee94f44\",\"type\":\"PanTool\"},{\"id\":\"b46d3ded-731e-4820-91cf-b38f6366abaa\",\"type\":\"WheelZoomTool\"},{\"id\":\"14764b19-64de-4779-bdd7-2c997ff3929c\",\"type\":\"BoxZoomTool\"},{\"id\":\"f9c73dea-ffe8-4fdf-87c2-9be37970030e\",\"type\":\"SaveTool\"},{\"id\":\"00309a74-fdde-4a49-9ff8-06b8d13270ad\",\"type\":\"ResetTool\"},{\"id\":\"e354a545-4d99-4216-8668-f766a3488015\",\"type\":\"HelpTool\"}]},\"id\":\"1920b000-19ff-405e-84ef-3b39ed04c9c2\",\"type\":\"ProxyToolbar\"},{\"attributes\":{\"plot\":{\"id\":\"aed67764-9e1c-4430-b222-6bf882af8e11\",\"subtype\":\"Figure\",\"type\":\"Plot\"},\"ticker\":{\"id\":\"ed4d445d-421d-47cb-93ca-7cdda4eb9cb0\",\"type\":\"BasicTicker\"}},\"id\":\"0264694b-a775-4071-8918-62aba9239cb4\",\"type\":\"Grid\"},{\"attributes\":{\"line_alpha\":0.1,\"line_color\":\"#1f77b4\",\"line_width\":3,\"x\":{\"field\":\"x\"},\"y\":{\"field\":\"y\"}},\"id\":\"919d37f9-7484-45d6-8c73-6f8545db00fa\",\"type\":\"Line\"},{\"attributes\":{\"line_alpha\":0.1,\"line_color\":\"#1f77b4\",\"line_dash\":[6],\"line_width\":5,\"x\":{\"field\":\"x\"},\"y\":{\"field\":\"y\"}},\"id\":\"d25a82de-30fe-41ee-9f92-6a50973ccbc4\",\"type\":\"Line\"},{\"attributes\":{\"children\":[{\"id\":\"71cf9353-4cbb-4c93-a5f6-3217d446d217\",\"type\":\"ToolbarBox\"},{\"id\":\"bd78413d-20cd-4a72-9595-e09cdfc1fd4d\",\"type\":\"Column\"}]},\"id\":\"1ffe3127-4839-4bda-ba4e-e9266fb79e87\",\"type\":\"Column\"},{\"attributes\":{},\"id\":\"7678d354-74e4-4b92-888b-bdfbdd69aa0c\",\"type\":\"BasicTicker\"},{\"attributes\":{\"toolbar\":{\"id\":\"1920b000-19ff-405e-84ef-3b39ed04c9c2\",\"type\":\"ProxyToolbar\"},\"toolbar_location\":\"above\"},\"id\":\"71cf9353-4cbb-4c93-a5f6-3217d446d217\",\"type\":\"ToolbarBox\"},{\"attributes\":{\"data_source\":{\"id\":\"fcdfae33-98ff-4118-832e-de0afc930202\",\"type\":\"ColumnDataSource\"},\"glyph\":{\"id\":\"b2a6fccc-331e-464f-9af7-0342b7e95110\",\"type\":\"Line\"},\"hover_glyph\":null,\"muted_glyph\":null,\"nonselection_glyph\":{\"id\":\"6f0a2fcb-1c77-484c-8632-8c60c4b6b4cc\",\"type\":\"Line\"},\"selection_glyph\":null,\"view\":{\"id\":\"d2cf9913-8c38-42e9-a7b9-997acf16a0dc\",\"type\":\"CDSView\"}},\"id\":\"0d7d701a-105a-4670-9914-56c4643353f2\",\"type\":\"GlyphRenderer\"},{\"attributes\":{},\"id\":\"ad34d70b-966b-4dfd-a5ee-ecd90ee94f44\",\"type\":\"PanTool\"},{\"attributes\":{\"line_alpha\":0.6,\"line_color\":\"#e41a1c\",\"line_dash\":[6],\"line_width\":5,\"x\":{\"field\":\"x\"},\"y\":{\"field\":\"y\"}},\"id\":\"e571990c-4c7b-4a0d-9dc6-d106d66e1d2e\",\"type\":\"Line\"},{\"attributes\":{\"bottom_units\":\"screen\",\"fill_alpha\":{\"value\":0.5},\"fill_color\":{\"value\":\"lightgrey\"},\"left_units\":\"screen\",\"level\":\"overlay\",\"line_alpha\":{\"value\":1.0},\"line_color\":{\"value\":\"black\"},\"line_dash\":[4,4],\"line_width\":{\"value\":2},\"plot\":null,\"render_mode\":\"css\",\"right_units\":\"screen\",\"top_units\":\"screen\"},\"id\":\"d5713f03-de70-45f1-b6a1-0d99038ac73c\",\"type\":\"BoxAnnotation\"},{\"attributes\":{\"bottom_units\":\"screen\",\"fill_alpha\":{\"value\":0.5},\"fill_color\":{\"value\":\"lightgrey\"},\"left_units\":\"screen\",\"level\":\"overlay\",\"line_alpha\":{\"value\":1.0},\"line_color\":{\"value\":\"black\"},\"line_dash\":[4,4],\"line_width\":{\"value\":2},\"plot\":null,\"render_mode\":\"css\",\"right_units\":\"screen\",\"top_units\":\"screen\"},\"id\":\"eff65e0e-2c8d-49fa-afce-fa83aa7f5613\",\"type\":\"BoxAnnotation\"},{\"attributes\":{},\"id\":\"e5473829-0c89-4273-959b-0da84c5f5595\",\"type\":\"SaveTool\"},{\"attributes\":{\"below\":[{\"id\":\"a7c9a76d-cb44-417e-bf3c-db0500928be2\",\"type\":\"LinearAxis\"}],\"left\":[{\"id\":\"08ff7875-9eb3-46c0-aba7-e79ce7ec5469\",\"type\":\"LinearAxis\"}],\"plot_height\":500,\"plot_width\":400,\"renderers\":[{\"id\":\"a7c9a76d-cb44-417e-bf3c-db0500928be2\",\"type\":\"LinearAxis\"},{\"id\":\"0d0faf7b-02a4-4fbc-832c-21339a0d04c2\",\"type\":\"Grid\"},{\"id\":\"08ff7875-9eb3-46c0-aba7-e79ce7ec5469\",\"type\":\"LinearAxis\"},{\"id\":\"4aa355d2-79bb-43e1-af0d-6ab4b057eb1f\",\"type\":\"Grid\"},{\"id\":\"d5713f03-de70-45f1-b6a1-0d99038ac73c\",\"type\":\"BoxAnnotation\"},{\"id\":\"fb8a34d7-4ecd-4485-bda3-7407b07e1ee3\",\"type\":\"GlyphRenderer\"},{\"id\":\"7451786d-b5b2-4a2b-8651-3df6c98bb923\",\"type\":\"GlyphRenderer\"},{\"id\":\"0d7d701a-105a-4670-9914-56c4643353f2\",\"type\":\"GlyphRenderer\"},{\"id\":\"394af015-7c93-40bc-a0db-66396ae64e00\",\"type\":\"GlyphRenderer\"},{\"id\":\"b8b847ad-9dd8-4611-840b-e2371e436138\",\"type\":\"GlyphRenderer\"}],\"title\":{\"id\":\"94ad10c1-c317-49bc-ae24-fabbf9594640\",\"type\":\"Title\"},\"toolbar\":{\"id\":\"59773726-0b9b-4da5-953c-41e99065e808\",\"type\":\"Toolbar\"},\"toolbar_location\":null,\"x_range\":{\"id\":\"562c6236-519c-4141-b7ae-d19e50188fc3\",\"type\":\"Range1d\"},\"x_scale\":{\"id\":\"6e6ed0b8-e484-499c-a983-267c7ee8e984\",\"type\":\"LinearScale\"},\"y_range\":{\"id\":\"63e64c21-04c0-4f5c-b544-99725f2775f2\",\"type\":\"Range1d\"},\"y_scale\":{\"id\":\"c7d968bb-2da1-4ccf-8117-0eeb0c5f5a51\",\"type\":\"LinearScale\"}},\"id\":\"79071c4f-398a-4f57-a496-233b647f1da0\",\"subtype\":\"Figure\",\"type\":\"Plot\"},{\"attributes\":{\"active_drag\":\"auto\",\"active_inspect\":\"auto\",\"active_scroll\":\"auto\",\"active_tap\":\"auto\",\"tools\":[{\"id\":\"d80576b5-b816-48f2-a80a-61c30f00fa52\",\"type\":\"PanTool\"},{\"id\":\"3eb3ed98-a9fd-42c3-b61c-b8251f4855ce\",\"type\":\"WheelZoomTool\"},{\"id\":\"8d84b314-6320-4290-bf1e-e1501465de02\",\"type\":\"BoxZoomTool\"},{\"id\":\"e5473829-0c89-4273-959b-0da84c5f5595\",\"type\":\"SaveTool\"},{\"id\":\"39908988-4db0-48e6-aa4a-ff37972732dc\",\"type\":\"ResetTool\"},{\"id\":\"be42211c-f868-4156-8413-0e018ea5a396\",\"type\":\"HelpTool\"}]},\"id\":\"59773726-0b9b-4da5-953c-41e99065e808\",\"type\":\"Toolbar\"},{\"attributes\":{\"axis_label\":\"cooling rate [K/day]\",\"formatter\":{\"id\":\"f0f75a82-6c6c-4f9b-8a05-b6f588c764bd\",\"type\":\"BasicTickFormatter\"},\"plot\":{\"id\":\"79071c4f-398a-4f57-a496-233b647f1da0\",\"subtype\":\"Figure\",\"type\":\"Plot\"},\"ticker\":{\"id\":\"7678d354-74e4-4b92-888b-bdfbdd69aa0c\",\"type\":\"BasicTicker\"}},\"id\":\"a7c9a76d-cb44-417e-bf3c-db0500928be2\",\"type\":\"LinearAxis\"},{\"attributes\":{\"source\":{\"id\":\"2b8b5b6f-7700-494c-9c61-6cbe3b4c704d\",\"type\":\"ColumnDataSource\"}},\"id\":\"23569faa-5aee-4247-9546-4fcbf3263948\",\"type\":\"CDSView\"},{\"attributes\":{\"callback\":null,\"column_names\":[\"x\",\"y\"],\"data\":{\"x\":{\"__ndarray__\":\"SWM1q2oSQj+ZAhjy8utCPzwClYP3A0U/6dGhxbNMRz+cstEGh61JPzhAg95fE0w/lk1rvUaJTj+cFJRQtIlQP8X4VG7S2lE/SSs4a0snUz/4cRIY2X1UP7F/1Q+q1VU/NdroLGo7Vz9ntyJPqLlYP5+EzqFaf10/lR7cyJ+5ZT/EWaG9s0xxP6TPHjANnXk/DAL68LQSgj9GbBz/hJqIP8BLvKNrUJA/NBSvuRYllT906GNaMn+ZP2Bpi/iAXpk/pQU1dRAelT9MfwpeDI6QPwWoRrMTWYk/Y8c/05Awgz/pAKCJfTl9P0jWB1bLg3Y/TRKpmpRNcT+Iu+0nrmdqP6TCR05z/mQ/tzkXs6zEYT/feE10ZfFdP+cCX/mG91g//2rbJMmfVj91T8wI8jhWP3/xKqFxjFU/Qsoj1fcxVz/3zg3F7JdmPyGVQ4iKs4M//EjFwHN/mD/fi5Kx862mP/8EixaNNrE/lKfZC0ShtD8fEtElkaq3P/g6OJerBrs/z9ZChs26vj8RRYTGXo7BP7y1xjwpKMQ/lNyXMUmlxj+Q63yrCB/JP7fd+yt/rss/RvES4zRPzj9oRbsG7ofQP5F3bFApAdI/J2blTF5m1D8rGLL2bMTWP/7CoNDX09g/8CxqNsGB2j/XWl9lvL3bP0Pvud/fjNw/qK+nQ5IA3T/hMJ/kkSXdP3kQsNCVBt0/EKqhA7Ge3D9YD0YmENLbP1AU+1IZgdo/bhWBxU+02D+I8AqMQabWP4g9ysJJkNQ/DvYzCTSz0j+mj5tOFUfRP5g67rU1ldE/\",\"dtype\":\"float64\",\"shape\":[75]},\"y\":{\"__ndarray__\":\"GhExyth1ND/Sv8nbtpRIP2vylNV0PVE/aTum7souWD/At0SJ8fVgPw3Iuahxymc/MSNhhJWvcD/bTfBN02d3P2zb5nxnaoA/CD5h5MAGhz8NmeH1TyaQP+zrCsc9p5Y/LbKd76fGnz/bLW5ISEmmPww9YvTcQq8/JV2OstnstT8Er5Y7M8G+P0c+r3jqkcU/5h99k6ZBzj88bCIzFzjVP4enV8oyxN0//yH99nXg5D8qOpLLf0jtP5kqGJXUifQ/c9cS8kHP/D+/DpwzojQEQIEmwoanVwxA4lgXt9HgE0BSSZ2AJuIbQAMJih9jjiNA5q4l5INuK0AwTKYKRj0zQNv5fmq8/DpAaCJseHrtQkB/+zpwzoxKQM3MzMzMeFJAZmZmZmZqWEAAAAAAAFxeQM3MzMzMJmJAmpmZmZkfZUBmZmZmZhhoQDMzMzMzEWtAAAAAAAAKbkBmZmZmZoFwQM3MzMzM/XFAMzMzMzN6c0CamZmZmfZ0QAAAAAAAc3ZAZmZmZmbvd0DNzMzMzGt5QDMzMzMz6HpAmpmZmZlkfEAAAAAAAOF9QGZmZmZmXX9AZmZmZuZsgECamZmZGSuBQM3MzMxM6YFAAAAAAICngkAzMzMzs2WDQGZmZmbmI4RAmpmZmRnihEDNzMzMTKCFQAAAAACAXoZAMzMzM7Mch0BmZmZm5tqHQJqZmZkZmYhAzczMzExXiUAAAAAAgBWKQDMzMzOz04pAZmZmZuaRi0CamZmZGVCMQM3MzMxMDo1AAAAAAIDMjUAzMzMzs4qOQGZmZmbmSI9A\",\"dtype\":\"float64\",\"shape\":[75]}}},\"id\":\"2b8b5b6f-7700-494c-9c61-6cbe3b4c704d\",\"type\":\"ColumnDataSource\"},{\"attributes\":{\"axis_label\":\"cooling rate [K/day]\",\"formatter\":{\"id\":\"f0fe0bf7-6ee3-4330-9f89-eac4d49ecf14\",\"type\":\"BasicTickFormatter\"},\"plot\":{\"id\":\"aed67764-9e1c-4430-b222-6bf882af8e11\",\"subtype\":\"Figure\",\"type\":\"Plot\"},\"ticker\":{\"id\":\"ed4d445d-421d-47cb-93ca-7cdda4eb9cb0\",\"type\":\"BasicTicker\"}},\"id\":\"3af1c2fb-a812-479e-a79d-2e6831fb89a7\",\"type\":\"LinearAxis\"},{\"attributes\":{\"line_color\":\"#4daf4a\",\"line_width\":1.5,\"x\":{\"field\":\"x\"},\"y\":{\"field\":\"y\"}},\"id\":\"b2a6fccc-331e-464f-9af7-0342b7e95110\",\"type\":\"Line\"},{\"attributes\":{\"plot\":{\"id\":\"79071c4f-398a-4f57-a496-233b647f1da0\",\"subtype\":\"Figure\",\"type\":\"Plot\"},\"ticker\":{\"id\":\"7678d354-74e4-4b92-888b-bdfbdd69aa0c\",\"type\":\"BasicTicker\"}},\"id\":\"0d0faf7b-02a4-4fbc-832c-21339a0d04c2\",\"type\":\"Grid\"},{\"attributes\":{\"fill_alpha\":{\"value\":0.7},\"fill_color\":{\"value\":\"#984ea3\"},\"line_alpha\":{\"value\":0.7},\"line_color\":{\"value\":\"#984ea3\"},\"x\":{\"field\":\"x\"},\"y\":{\"field\":\"y\"}},\"id\":\"ee85081f-5977-408d-a46f-01d97fc74477\",\"type\":\"Square\"}],\"root_ids\":[\"1ffe3127-4839-4bda-ba4e-e9266fb79e87\"]},\"title\":\"Bokeh Application\",\"version\":\"0.12.14\"}};\n",
       "  var render_items = [{\"docid\":\"ccb3f86b-239d-478d-a6d2-f9fb1f43b2ae\",\"elementid\":\"5314cec6-1dc8-43a0-925b-b3e39b516163\",\"modelid\":\"1ffe3127-4839-4bda-ba4e-e9266fb79e87\"}];\n",
       "  root.Bokeh.embed.embed_items_notebook(docs_json, render_items);\n",
       "\n",
       "  }\n",
       "  if (root.Bokeh !== undefined) {\n",
       "    embed_document(root);\n",
       "  } else {\n",
       "    var attempts = 0;\n",
       "    var timer = setInterval(function(root) {\n",
       "      if (root.Bokeh !== undefined) {\n",
       "        embed_document(root);\n",
       "        clearInterval(timer);\n",
       "      }\n",
       "      attempts++;\n",
       "      if (attempts > 100) {\n",
       "        console.log(\"Bokeh: ERROR: Unable to run BokehJS code because BokehJS library is missing\")\n",
       "        clearInterval(timer);\n",
       "      }\n",
       "    }, 10, root)\n",
       "  }\n",
       "})(window);"
      ],
      "application/vnd.bokehjs_exec.v0+json": ""
     },
     "metadata": {
      "application/vnd.bokehjs_exec.v0+json": {
       "id": "1ffe3127-4839-4bda-ba4e-e9266fb79e87"
      }
     },
     "output_type": "display_data"
    },
    {
     "name": "stdout",
     "output_type": "stream",
     "text": [
      "FIGURE. Cooling rate profiles.\n"
     ]
    },
    {
     "data": {
      "text/html": [
       "<a id=\"Flux_Comparison\"></a>"
      ],
      "text/plain": [
       "<IPython.core.display.HTML object>"
      ]
     },
     "metadata": {},
     "output_type": "display_data"
    },
    {
     "data": {
      "text/markdown": [
       "# Flux Comparison"
      ],
      "text/plain": [
       "<IPython.core.display.Markdown object>"
      ]
     },
     "metadata": {},
     "output_type": "display_data"
    },
    {
     "data": {
      "text/html": [
       "<div>\n",
       "<style>\n",
       "    .dataframe thead tr:only-child th {\n",
       "        text-align: right;\n",
       "    }\n",
       "\n",
       "    .dataframe thead th {\n",
       "        text-align: left;\n",
       "    }\n",
       "\n",
       "    .dataframe tbody tr th {\n",
       "        vertical-align: top;\n",
       "    }\n",
       "</style>\n",
       "<table border=\"1\" class=\"dataframe\">\n",
       "  <thead>\n",
       "    <tr style=\"text-align: right;\">\n",
       "      <th></th>\n",
       "      <th></th>\n",
       "      <th>flug</th>\n",
       "      <th>fldg</th>\n",
       "      <th>fnetg</th>\n",
       "    </tr>\n",
       "    <tr>\n",
       "      <th>pressure</th>\n",
       "      <th>level</th>\n",
       "      <th></th>\n",
       "      <th></th>\n",
       "      <th></th>\n",
       "    </tr>\n",
       "  </thead>\n",
       "  <tbody>\n",
       "    <tr>\n",
       "      <th>0.0000</th>\n",
       "      <th>1</th>\n",
       "      <td>-29.470174</td>\n",
       "      <td>0.000000</td>\n",
       "      <td>-29.470174</td>\n",
       "    </tr>\n",
       "    <tr>\n",
       "      <th>1.0685</th>\n",
       "      <th>24</th>\n",
       "      <td>-29.469816</td>\n",
       "      <td>0.001700</td>\n",
       "      <td>-29.468116</td>\n",
       "    </tr>\n",
       "    <tr>\n",
       "      <th>1013.0000</th>\n",
       "      <th>76</th>\n",
       "      <td>-36.235408</td>\n",
       "      <td>32.496542</td>\n",
       "      <td>-3.738867</td>\n",
       "    </tr>\n",
       "  </tbody>\n",
       "</table>\n",
       "</div>"
      ],
      "text/plain": [
       "                      flug       fldg      fnetg\n",
       "pressure  level                                 \n",
       "0.0000    1     -29.470174   0.000000 -29.470174\n",
       "1.0685    24    -29.469816   0.001700 -29.468116\n",
       "1013.0000 76    -36.235408  32.496542  -3.738867"
      ]
     },
     "metadata": {},
     "output_type": "display_data"
    },
    {
     "name": "stdout",
     "output_type": "stream",
     "text": [
      "Table. Fluxes. WGT igg=10 wgt_flux=1\n"
     ]
    },
    {
     "data": {
      "text/html": [
       "<div>\n",
       "<style>\n",
       "    .dataframe thead tr:only-child th {\n",
       "        text-align: right;\n",
       "    }\n",
       "\n",
       "    .dataframe thead th {\n",
       "        text-align: left;\n",
       "    }\n",
       "\n",
       "    .dataframe tbody tr th {\n",
       "        vertical-align: top;\n",
       "    }\n",
       "</style>\n",
       "<table border=\"1\" class=\"dataframe\">\n",
       "  <thead>\n",
       "    <tr style=\"text-align: right;\">\n",
       "      <th></th>\n",
       "      <th></th>\n",
       "      <th>flug</th>\n",
       "      <th>fldg</th>\n",
       "      <th>fnetg</th>\n",
       "    </tr>\n",
       "    <tr>\n",
       "      <th>pressure</th>\n",
       "      <th>level</th>\n",
       "      <th></th>\n",
       "      <th></th>\n",
       "      <th></th>\n",
       "    </tr>\n",
       "  </thead>\n",
       "  <tbody>\n",
       "    <tr>\n",
       "      <th>0.0000</th>\n",
       "      <th>1</th>\n",
       "      <td>-29.471371</td>\n",
       "      <td>0.000000</td>\n",
       "      <td>-29.471371</td>\n",
       "    </tr>\n",
       "    <tr>\n",
       "      <th>1.0685</th>\n",
       "      <th>24</th>\n",
       "      <td>-29.471083</td>\n",
       "      <td>0.001921</td>\n",
       "      <td>-29.469162</td>\n",
       "    </tr>\n",
       "    <tr>\n",
       "      <th>1013.0000</th>\n",
       "      <th>76</th>\n",
       "      <td>-36.235408</td>\n",
       "      <td>32.486003</td>\n",
       "      <td>-3.749405</td>\n",
       "    </tr>\n",
       "  </tbody>\n",
       "</table>\n",
       "</div>"
      ],
      "text/plain": [
       "                      flug       fldg      fnetg\n",
       "pressure  level                                 \n",
       "0.0000    1     -29.471371   0.000000 -29.471371\n",
       "1.0685    24    -29.471083   0.001921 -29.469162\n",
       "1013.0000 76    -36.235408  32.486003  -3.749405"
      ]
     },
     "metadata": {},
     "output_type": "display_data"
    },
    {
     "name": "stdout",
     "output_type": "stream",
     "text": [
      "Table. Fluxes. CRD\n"
     ]
    },
    {
     "data": {
      "text/html": [
       "<div>\n",
       "<style>\n",
       "    .dataframe thead tr:only-child th {\n",
       "        text-align: right;\n",
       "    }\n",
       "\n",
       "    .dataframe thead th {\n",
       "        text-align: left;\n",
       "    }\n",
       "\n",
       "    .dataframe tbody tr th {\n",
       "        vertical-align: top;\n",
       "    }\n",
       "</style>\n",
       "<table border=\"1\" class=\"dataframe\">\n",
       "  <thead>\n",
       "    <tr style=\"text-align: right;\">\n",
       "      <th></th>\n",
       "      <th></th>\n",
       "      <th>flug</th>\n",
       "      <th>fldg</th>\n",
       "      <th>fnetg</th>\n",
       "    </tr>\n",
       "    <tr>\n",
       "      <th>pressure</th>\n",
       "      <th>level</th>\n",
       "      <th></th>\n",
       "      <th></th>\n",
       "      <th></th>\n",
       "    </tr>\n",
       "  </thead>\n",
       "  <tbody>\n",
       "    <tr>\n",
       "      <th>1.000000e-08</th>\n",
       "      <th>1</th>\n",
       "      <td>-29.569379</td>\n",
       "      <td>0.000002</td>\n",
       "      <td>-29.569377</td>\n",
       "    </tr>\n",
       "    <tr>\n",
       "      <th>1.068500e+00</th>\n",
       "      <th>24</th>\n",
       "      <td>-29.568971</td>\n",
       "      <td>0.001678</td>\n",
       "      <td>-29.567292</td>\n",
       "    </tr>\n",
       "    <tr>\n",
       "      <th>1.013000e+03</th>\n",
       "      <th>76</th>\n",
       "      <td>-36.235410</td>\n",
       "      <td>32.900975</td>\n",
       "      <td>-3.334435</td>\n",
       "    </tr>\n",
       "  </tbody>\n",
       "</table>\n",
       "</div>"
      ],
      "text/plain": [
       "                         flug       fldg      fnetg\n",
       "pressure     level                                 \n",
       "1.000000e-08 1     -29.569379   0.000002 -29.569377\n",
       "1.068500e+00 24    -29.568971   0.001678 -29.567292\n",
       "1.013000e+03 76    -36.235410  32.900975  -3.334435"
      ]
     },
     "metadata": {},
     "output_type": "display_data"
    },
    {
     "name": "stdout",
     "output_type": "stream",
     "text": [
      "Table. Fluxes. CLIRAD\n"
     ]
    },
    {
     "data": {
      "text/html": [
       "<div>\n",
       "<style>\n",
       "    .dataframe thead tr:only-child th {\n",
       "        text-align: right;\n",
       "    }\n",
       "\n",
       "    .dataframe thead th {\n",
       "        text-align: left;\n",
       "    }\n",
       "\n",
       "    .dataframe tbody tr th {\n",
       "        vertical-align: top;\n",
       "    }\n",
       "</style>\n",
       "<table border=\"1\" class=\"dataframe\">\n",
       "  <thead>\n",
       "    <tr style=\"text-align: right;\">\n",
       "      <th></th>\n",
       "      <th></th>\n",
       "      <th>flug</th>\n",
       "      <th>fldg</th>\n",
       "      <th>fnetg</th>\n",
       "    </tr>\n",
       "    <tr>\n",
       "      <th>pressure</th>\n",
       "      <th>level</th>\n",
       "      <th></th>\n",
       "      <th></th>\n",
       "      <th></th>\n",
       "    </tr>\n",
       "  </thead>\n",
       "  <tbody>\n",
       "    <tr>\n",
       "      <th>0.0000</th>\n",
       "      <th>1</th>\n",
       "      <td>-1.197008e-03</td>\n",
       "      <td>0.000000</td>\n",
       "      <td>-0.001197</td>\n",
       "    </tr>\n",
       "    <tr>\n",
       "      <th>1.0685</th>\n",
       "      <th>24</th>\n",
       "      <td>-1.267342e-03</td>\n",
       "      <td>0.000221</td>\n",
       "      <td>-0.001046</td>\n",
       "    </tr>\n",
       "    <tr>\n",
       "      <th>1013.0000</th>\n",
       "      <th>76</th>\n",
       "      <td>8.700000e-08</td>\n",
       "      <td>-0.010539</td>\n",
       "      <td>-0.010539</td>\n",
       "    </tr>\n",
       "  </tbody>\n",
       "</table>\n",
       "</div>"
      ],
      "text/plain": [
       "                         flug      fldg     fnetg\n",
       "pressure  level                                  \n",
       "0.0000    1     -1.197008e-03  0.000000 -0.001197\n",
       "1.0685    24    -1.267342e-03  0.000221 -0.001046\n",
       "1013.0000 76     8.700000e-08 -0.010539 -0.010539"
      ]
     },
     "metadata": {},
     "output_type": "display_data"
    },
    {
     "name": "stdout",
     "output_type": "stream",
     "text": [
      "Table. Fluxes. (CRD) - (WGT igg=10 wgt_flux=1)\n"
     ]
    },
    {
     "data": {
      "text/html": [
       "<div>\n",
       "<style>\n",
       "    .dataframe thead tr:only-child th {\n",
       "        text-align: right;\n",
       "    }\n",
       "\n",
       "    .dataframe thead th {\n",
       "        text-align: left;\n",
       "    }\n",
       "\n",
       "    .dataframe tbody tr th {\n",
       "        vertical-align: top;\n",
       "    }\n",
       "</style>\n",
       "<table border=\"1\" class=\"dataframe\">\n",
       "  <thead>\n",
       "    <tr style=\"text-align: right;\">\n",
       "      <th></th>\n",
       "      <th></th>\n",
       "      <th>flug</th>\n",
       "      <th>fldg</th>\n",
       "      <th>fnetg</th>\n",
       "    </tr>\n",
       "    <tr>\n",
       "      <th>pressure</th>\n",
       "      <th>level</th>\n",
       "      <th></th>\n",
       "      <th></th>\n",
       "      <th></th>\n",
       "    </tr>\n",
       "  </thead>\n",
       "  <tbody>\n",
       "    <tr>\n",
       "      <th>0.0000</th>\n",
       "      <th>1</th>\n",
       "      <td>-0.099205</td>\n",
       "      <td>0.000002</td>\n",
       "      <td>-0.099203</td>\n",
       "    </tr>\n",
       "    <tr>\n",
       "      <th>1.0685</th>\n",
       "      <th>24</th>\n",
       "      <td>-0.099155</td>\n",
       "      <td>-0.000021</td>\n",
       "      <td>-0.099176</td>\n",
       "    </tr>\n",
       "    <tr>\n",
       "      <th>1013.0000</th>\n",
       "      <th>76</th>\n",
       "      <td>-0.000002</td>\n",
       "      <td>0.404433</td>\n",
       "      <td>0.404431</td>\n",
       "    </tr>\n",
       "  </tbody>\n",
       "</table>\n",
       "</div>"
      ],
      "text/plain": [
       "                     flug      fldg     fnetg\n",
       "pressure  level                              \n",
       "0.0000    1     -0.099205  0.000002 -0.099203\n",
       "1.0685    24    -0.099155 -0.000021 -0.099176\n",
       "1013.0000 76    -0.000002  0.404433  0.404431"
      ]
     },
     "metadata": {},
     "output_type": "display_data"
    },
    {
     "name": "stdout",
     "output_type": "stream",
     "text": [
      "Table. Fluxes. (CLIRAD) - (WGT igg=10 wgt_flux=1)\n"
     ]
    },
    {
     "data": {
      "text/html": [
       "<a id=\"Best-fit_Parameters\"></a>"
      ],
      "text/plain": [
       "<IPython.core.display.HTML object>"
      ]
     },
     "metadata": {},
     "output_type": "display_data"
    },
    {
     "data": {
      "text/markdown": [
       "# Best-fit Parameters"
      ],
      "text/plain": [
       "<IPython.core.display.Markdown object>"
      ]
     },
     "metadata": {},
     "output_type": "display_data"
    },
    {
     "name": "stdout",
     "output_type": "stream",
     "text": [
      "Best-fit values for each (gas, band)\n",
      "------------------------------------\n",
      "o h2o band3a\n",
      "  atmpro = mls\n",
      "  band = 3a\n",
      "  commitnumber = a06b618\n",
      "  conc = None\n",
      "  dv = 0.001\n",
      "  klin = 0\n",
      "  molecule = h2o\n",
      "  ng_adju = [0, 0]\n",
      "  ng_refs = [2, 6]\n",
      "  nv = 1000\n",
      "  option_compute_btable = 0\n",
      "  option_compute_ktable = 1\n",
      "  option_wgt_flux = 1\n",
      "  option_wgt_k = 1\n",
      "  ref_pts = [(10, 250), (600, 250)]\n",
      "  tsfc = 294\n",
      "  vmax = 620\n",
      "  vmin = 540\n",
      "  w_diffuse = [(1.9, 1.7), (1.4, 1.4, 1.4, 1.55, 1.6, 1.66)]\n",
      "  wgt = [(0.7, 0.7), (0.7, 0.5, 0.5, 0.5, 0.5, 0.5)]\n"
     ]
    }
   ],
   "source": [
    "script()"
   ]
  },
  {
   "cell_type": "code",
   "execution_count": 13,
   "metadata": {
    "collapsed": true
   },
   "outputs": [
    {
     "data": {
      "text/html": [
       "<script>\n",
       "code_show=true; \n",
       "function code_toggle() {\n",
       " if (code_show){\n",
       " $('div.input').hide();\n",
       " } else {\n",
       " $('div.input').show();\n",
       " }\n",
       " code_show = !code_show\n",
       "} \n",
       "$( document ).ready(code_toggle);\n",
       "</script>\n",
       "<form action=\"javascript:code_toggle()\"><input type=\"submit\" value=\"Click here to toggle on/off the raw code.\"></form>"
      ],
      "text/plain": [
       "<IPython.core.display.HTML object>"
      ]
     },
     "execution_count": 13,
     "metadata": {},
     "output_type": "execute_result"
    }
   ],
   "source": [
    "display.HTML('''<script>\n",
    "code_show=true; \n",
    "function code_toggle() {\n",
    " if (code_show){\n",
    " $('div.input').hide();\n",
    " } else {\n",
    " $('div.input').show();\n",
    " }\n",
    " code_show = !code_show\n",
    "} \n",
    "$( document ).ready(code_toggle);\n",
    "</script>\n",
    "<form action=\"javascript:code_toggle()\"><input type=\"submit\" value=\"Click here to toggle on/off the raw code.\"></form>''')"
   ]
  }
 ],
 "metadata": {
  "kernelspec": {
   "display_name": "Python 3",
   "language": "python",
   "name": "python3"
  },
  "language_info": {
   "codemirror_mode": {
    "name": "ipython",
    "version": 3
   },
   "file_extension": ".py",
   "mimetype": "text/x-python",
   "name": "python",
   "nbconvert_exporter": "python",
   "pygments_lexer": "ipython3",
   "version": "3.6.1"
  }
 },
 "nbformat": 4,
 "nbformat_minor": 2
}
