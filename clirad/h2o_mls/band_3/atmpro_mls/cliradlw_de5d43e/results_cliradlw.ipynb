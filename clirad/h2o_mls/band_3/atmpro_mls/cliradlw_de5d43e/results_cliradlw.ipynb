{
 "cells": [
  {
   "cell_type": "code",
   "execution_count": 1,
   "metadata": {
    "collapsed": true
   },
   "outputs": [],
   "source": [
    "%matplotlib inline\n",
    "import os\n",
    "import re\n",
    "import io\n",
    "import itertools\n",
    "import pprint\n",
    "\n",
    "from bokeh.io import output_notebook, show\n",
    "from bokeh.layouts import gridplot\n",
    "from bokeh.plotting import figure\n",
    "from bokeh.models import Range1d, Legend\n",
    "from bokeh.palettes import all_palettes\n",
    "\n",
    "import matplotlib\n",
    "import matplotlib.pyplot as plt\n",
    "import numpy as np\n",
    "import pandas as pd\n",
    "import xarray as xr\n",
    "\n",
    "import climatools.lblnew.bestfit_params as bestfits\n",
    "from climatools.lblnew import setup_bestfit, setup_overlap\n",
    "import climatools.lblnew.pipeline as pipe_lblnew\n",
    "import climatools.cliradlw.setup as setup_cliradlw\n",
    "import climatools.cliradlw.pipeline as pipe_cliradlw\n",
    "\n",
    "import climatools.html.html as climahtml\n",
    "from climatools.lblnew.dataio import *\n",
    "from climatools.plot.plot import *\n",
    "\n",
    "\n",
    "import IPython.display as display"
   ]
  },
  {
   "cell_type": "code",
   "execution_count": 2,
   "metadata": {
    "collapsed": true
   },
   "outputs": [],
   "source": [
    "%run param.py"
   ]
  },
  {
   "cell_type": "code",
   "execution_count": 3,
   "metadata": {
    "collapsed": true
   },
   "outputs": [],
   "source": [
    "def load_output_file(path_csv):\n",
    "    '''\n",
    "    Load lblnew output .csv file to xarray.Dataset\n",
    "    \n",
    "    Parameters\n",
    "    ----------\n",
    "    path_csv: str\n",
    "              Path to the .csv file to be loaded.\n",
    "    ds: xarray.Dataset\n",
    "        Data in the input file in the form of an xarray.Dataset.\n",
    "    '''\n",
    "    toindex = ['band', 'pressure', 'igg', 'g']    \n",
    "    df = pd.read_csv(path_csv, sep=r'\\s+')\n",
    "    df = df.set_index([i for i in toindex if i in df.columns])\n",
    "    df = df.rename(columns={'sfu': 'flug',\n",
    "                            'sfd': 'fldg',\n",
    "                            'fnet': 'fnetg',\n",
    "                            'coolr': 'coolrg'})\n",
    "    ds = xr.Dataset.from_dataframe(df)\n",
    "\n",
    "    for l in ('level', 'layer'):\n",
    "        if l in ds.data_vars:\n",
    "            if len(ds[l].dims) > 1:\n",
    "                surface = {d: 0 for d in ds.dims if d != 'pressure'}\n",
    "                coord_level = ds[l][surface]\n",
    "                ds.coords[l] = ('pressure', coord_level)\n",
    "            else:\n",
    "                ds.coords[l] = ('pressure', ds[l])\n",
    "    \n",
    "    return ds"
   ]
  },
  {
   "cell_type": "code",
   "execution_count": 4,
   "metadata": {
    "collapsed": true
   },
   "outputs": [],
   "source": [
    "def lblnew_setup(param=None):\n",
    "    if 'ng_refs' in param:\n",
    "        return {'setup': setup_bestfit,\n",
    "                'fname_flux_crd': 'output_flux.dat',\n",
    "                'fname_cool_crd': 'output_coolr.dat',\n",
    "                'fname_flux_wgt': 'output_wfluxg.dat',\n",
    "                'fname_cool_wgt': 'output_wcoolrg.dat'}\n",
    "    else:\n",
    "        return {'setup': setup_overlap,\n",
    "                'fname_flux_crd': 'output_flux.dat',\n",
    "                'fname_cool_crd': 'output_coolr.dat',\n",
    "                'fname_flux_wgt': 'output_wflux.dat',\n",
    "                'fname_cool_wgt': 'output_wcoolr.dat'}\n",
    "\n",
    "    \n",
    "def load_lblnew_data(param):\n",
    "    \n",
    "    fname_dsname = [('fname_flux_crd', 'ds_flux_crd'),\n",
    "                    ('fname_cool_crd', 'ds_cool_crd'),\n",
    "                    ('fname_flux_wgt', 'ds_flux_wgt'),\n",
    "                    ('fname_cool_wgt', 'ds_cool_wgt')]\n",
    "    \n",
    "    d = lblnew_setup(param)\n",
    "    dir_fortran = pipe_lblnew.get_dir_case(param, setup=d['setup'])\n",
    "    \n",
    "    data_dict = {}\n",
    "    for fname, dsname in fname_dsname:\n",
    "        fpath = os.path.join(dir_fortran, d[fname])\n",
    "        data_dict[dsname] = load_output_file(fpath)\n",
    "    return data_dict\n",
    "    \n",
    "\n",
    "    \n",
    "    "
   ]
  },
  {
   "cell_type": "code",
   "execution_count": 5,
   "metadata": {
    "collapsed": true
   },
   "outputs": [],
   "source": [
    "d = load_lblnew_data(PARAM_LBLNEW)\n",
    "\n",
    "DS_FLUX_CRD = d['ds_flux_crd']\n",
    "DS_COOL_CRD = d['ds_cool_crd']\n",
    "DS_FLUX_WGT = d['ds_flux_wgt']\n",
    "DS_COOL_WGT = d['ds_cool_wgt']"
   ]
  },
  {
   "cell_type": "code",
   "execution_count": 6,
   "metadata": {
    "collapsed": true
   },
   "outputs": [],
   "source": [
    "DIR_FORTRAN = pipe_cliradlw.get_fortran_dir(PARAM, \n",
    "                                            setup=setup_cliradlw)\n",
    "\n",
    "PATH_FLUX = os.path.join(DIR_FORTRAN, 'output_flux.dat')\n",
    "PATH_COOL = os.path.join(DIR_FORTRAN, 'output_coolr.dat')\n",
    "\n",
    "DS_FLUX = load_output_file(PATH_FLUX)\n",
    "DS_COOL = load_output_file(PATH_COOL)"
   ]
  },
  {
   "cell_type": "code",
   "execution_count": 7,
   "metadata": {
    "collapsed": true
   },
   "outputs": [
    {
     "data": {
      "text/html": [
       "\n",
       "    <div class=\"bk-root\">\n",
       "        <a href=\"https://bokeh.pydata.org\" target=\"_blank\" class=\"bk-logo bk-logo-small bk-logo-notebook\"></a>\n",
       "        <span id=\"b56e752b-5fb2-4b22-99a0-57e7b919072d\">Loading BokehJS ...</span>\n",
       "    </div>"
      ]
     },
     "metadata": {},
     "output_type": "display_data"
    },
    {
     "data": {
      "application/javascript": [
       "\n",
       "(function(root) {\n",
       "  function now() {\n",
       "    return new Date();\n",
       "  }\n",
       "\n",
       "  var force = true;\n",
       "\n",
       "  if (typeof (root._bokeh_onload_callbacks) === \"undefined\" || force === true) {\n",
       "    root._bokeh_onload_callbacks = [];\n",
       "    root._bokeh_is_loading = undefined;\n",
       "  }\n",
       "\n",
       "  var JS_MIME_TYPE = 'application/javascript';\n",
       "  var HTML_MIME_TYPE = 'text/html';\n",
       "  var EXEC_MIME_TYPE = 'application/vnd.bokehjs_exec.v0+json';\n",
       "  var CLASS_NAME = 'output_bokeh rendered_html';\n",
       "\n",
       "  /**\n",
       "   * Render data to the DOM node\n",
       "   */\n",
       "  function render(props, node) {\n",
       "    var script = document.createElement(\"script\");\n",
       "    node.appendChild(script);\n",
       "  }\n",
       "\n",
       "  /**\n",
       "   * Handle when an output is cleared or removed\n",
       "   */\n",
       "  function handleClearOutput(event, handle) {\n",
       "    var cell = handle.cell;\n",
       "\n",
       "    var id = cell.output_area._bokeh_element_id;\n",
       "    var server_id = cell.output_area._bokeh_server_id;\n",
       "    // Clean up Bokeh references\n",
       "    if (id !== undefined) {\n",
       "      Bokeh.index[id].model.document.clear();\n",
       "      delete Bokeh.index[id];\n",
       "    }\n",
       "\n",
       "    if (server_id !== undefined) {\n",
       "      // Clean up Bokeh references\n",
       "      var cmd = \"from bokeh.io.state import curstate; print(curstate().uuid_to_server['\" + server_id + \"'].get_sessions()[0].document.roots[0]._id)\";\n",
       "      cell.notebook.kernel.execute(cmd, {\n",
       "        iopub: {\n",
       "          output: function(msg) {\n",
       "            var element_id = msg.content.text.trim();\n",
       "            Bokeh.index[element_id].model.document.clear();\n",
       "            delete Bokeh.index[element_id];\n",
       "          }\n",
       "        }\n",
       "      });\n",
       "      // Destroy server and session\n",
       "      var cmd = \"import bokeh.io.notebook as ion; ion.destroy_server('\" + server_id + \"')\";\n",
       "      cell.notebook.kernel.execute(cmd);\n",
       "    }\n",
       "  }\n",
       "\n",
       "  /**\n",
       "   * Handle when a new output is added\n",
       "   */\n",
       "  function handleAddOutput(event, handle) {\n",
       "    var output_area = handle.output_area;\n",
       "    var output = handle.output;\n",
       "\n",
       "    // limit handleAddOutput to display_data with EXEC_MIME_TYPE content only\n",
       "    if ((output.output_type != \"display_data\") || (!output.data.hasOwnProperty(EXEC_MIME_TYPE))) {\n",
       "      return\n",
       "    }\n",
       "\n",
       "    var toinsert = output_area.element.find(\".\" + CLASS_NAME.split(' ')[0]);\n",
       "\n",
       "    if (output.metadata[EXEC_MIME_TYPE][\"id\"] !== undefined) {\n",
       "      toinsert[toinsert.length - 1].firstChild.textContent = output.data[JS_MIME_TYPE];\n",
       "      // store reference to embed id on output_area\n",
       "      output_area._bokeh_element_id = output.metadata[EXEC_MIME_TYPE][\"id\"];\n",
       "    }\n",
       "    if (output.metadata[EXEC_MIME_TYPE][\"server_id\"] !== undefined) {\n",
       "      var bk_div = document.createElement(\"div\");\n",
       "      bk_div.innerHTML = output.data[HTML_MIME_TYPE];\n",
       "      var script_attrs = bk_div.children[0].attributes;\n",
       "      for (var i = 0; i < script_attrs.length; i++) {\n",
       "        toinsert[toinsert.length - 1].firstChild.setAttribute(script_attrs[i].name, script_attrs[i].value);\n",
       "      }\n",
       "      // store reference to server id on output_area\n",
       "      output_area._bokeh_server_id = output.metadata[EXEC_MIME_TYPE][\"server_id\"];\n",
       "    }\n",
       "  }\n",
       "\n",
       "  function register_renderer(events, OutputArea) {\n",
       "\n",
       "    function append_mime(data, metadata, element) {\n",
       "      // create a DOM node to render to\n",
       "      var toinsert = this.create_output_subarea(\n",
       "        metadata,\n",
       "        CLASS_NAME,\n",
       "        EXEC_MIME_TYPE\n",
       "      );\n",
       "      this.keyboard_manager.register_events(toinsert);\n",
       "      // Render to node\n",
       "      var props = {data: data, metadata: metadata[EXEC_MIME_TYPE]};\n",
       "      render(props, toinsert[toinsert.length - 1]);\n",
       "      element.append(toinsert);\n",
       "      return toinsert\n",
       "    }\n",
       "\n",
       "    /* Handle when an output is cleared or removed */\n",
       "    events.on('clear_output.CodeCell', handleClearOutput);\n",
       "    events.on('delete.Cell', handleClearOutput);\n",
       "\n",
       "    /* Handle when a new output is added */\n",
       "    events.on('output_added.OutputArea', handleAddOutput);\n",
       "\n",
       "    /**\n",
       "     * Register the mime type and append_mime function with output_area\n",
       "     */\n",
       "    OutputArea.prototype.register_mime_type(EXEC_MIME_TYPE, append_mime, {\n",
       "      /* Is output safe? */\n",
       "      safe: true,\n",
       "      /* Index of renderer in `output_area.display_order` */\n",
       "      index: 0\n",
       "    });\n",
       "  }\n",
       "\n",
       "  // register the mime type if in Jupyter Notebook environment and previously unregistered\n",
       "  if (root.Jupyter !== undefined) {\n",
       "    var events = require('base/js/events');\n",
       "    var OutputArea = require('notebook/js/outputarea').OutputArea;\n",
       "\n",
       "    if (OutputArea.prototype.mime_types().indexOf(EXEC_MIME_TYPE) == -1) {\n",
       "      register_renderer(events, OutputArea);\n",
       "    }\n",
       "  }\n",
       "\n",
       "  \n",
       "  if (typeof (root._bokeh_timeout) === \"undefined\" || force === true) {\n",
       "    root._bokeh_timeout = Date.now() + 5000;\n",
       "    root._bokeh_failed_load = false;\n",
       "  }\n",
       "\n",
       "  var NB_LOAD_WARNING = {'data': {'text/html':\n",
       "     \"<div style='background-color: #fdd'>\\n\"+\n",
       "     \"<p>\\n\"+\n",
       "     \"BokehJS does not appear to have successfully loaded. If loading BokehJS from CDN, this \\n\"+\n",
       "     \"may be due to a slow or bad network connection. Possible fixes:\\n\"+\n",
       "     \"</p>\\n\"+\n",
       "     \"<ul>\\n\"+\n",
       "     \"<li>re-rerun `output_notebook()` to attempt to load from CDN again, or</li>\\n\"+\n",
       "     \"<li>use INLINE resources instead, as so:</li>\\n\"+\n",
       "     \"</ul>\\n\"+\n",
       "     \"<code>\\n\"+\n",
       "     \"from bokeh.resources import INLINE\\n\"+\n",
       "     \"output_notebook(resources=INLINE)\\n\"+\n",
       "     \"</code>\\n\"+\n",
       "     \"</div>\"}};\n",
       "\n",
       "  function display_loaded() {\n",
       "    var el = document.getElementById(\"b56e752b-5fb2-4b22-99a0-57e7b919072d\");\n",
       "    if (el != null) {\n",
       "      el.textContent = \"BokehJS is loading...\";\n",
       "    }\n",
       "    if (root.Bokeh !== undefined) {\n",
       "      if (el != null) {\n",
       "        el.textContent = \"BokehJS \" + root.Bokeh.version + \" successfully loaded.\";\n",
       "      }\n",
       "    } else if (Date.now() < root._bokeh_timeout) {\n",
       "      setTimeout(display_loaded, 100)\n",
       "    }\n",
       "  }\n",
       "\n",
       "\n",
       "  function run_callbacks() {\n",
       "    try {\n",
       "      root._bokeh_onload_callbacks.forEach(function(callback) { callback() });\n",
       "    }\n",
       "    finally {\n",
       "      delete root._bokeh_onload_callbacks\n",
       "    }\n",
       "    console.info(\"Bokeh: all callbacks have finished\");\n",
       "  }\n",
       "\n",
       "  function load_libs(js_urls, callback) {\n",
       "    root._bokeh_onload_callbacks.push(callback);\n",
       "    if (root._bokeh_is_loading > 0) {\n",
       "      console.log(\"Bokeh: BokehJS is being loaded, scheduling callback at\", now());\n",
       "      return null;\n",
       "    }\n",
       "    if (js_urls == null || js_urls.length === 0) {\n",
       "      run_callbacks();\n",
       "      return null;\n",
       "    }\n",
       "    console.log(\"Bokeh: BokehJS not loaded, scheduling load and callback at\", now());\n",
       "    root._bokeh_is_loading = js_urls.length;\n",
       "    for (var i = 0; i < js_urls.length; i++) {\n",
       "      var url = js_urls[i];\n",
       "      var s = document.createElement('script');\n",
       "      s.src = url;\n",
       "      s.async = false;\n",
       "      s.onreadystatechange = s.onload = function() {\n",
       "        root._bokeh_is_loading--;\n",
       "        if (root._bokeh_is_loading === 0) {\n",
       "          console.log(\"Bokeh: all BokehJS libraries loaded\");\n",
       "          run_callbacks()\n",
       "        }\n",
       "      };\n",
       "      s.onerror = function() {\n",
       "        console.warn(\"failed to load library \" + url);\n",
       "      };\n",
       "      console.log(\"Bokeh: injecting script tag for BokehJS library: \", url);\n",
       "      document.getElementsByTagName(\"head\")[0].appendChild(s);\n",
       "    }\n",
       "  };var element = document.getElementById(\"b56e752b-5fb2-4b22-99a0-57e7b919072d\");\n",
       "  if (element == null) {\n",
       "    console.log(\"Bokeh: ERROR: autoload.js configured with elementid 'b56e752b-5fb2-4b22-99a0-57e7b919072d' but no matching script tag was found. \")\n",
       "    return false;\n",
       "  }\n",
       "\n",
       "  var js_urls = [\"https://cdn.pydata.org/bokeh/release/bokeh-0.12.16.min.js\", \"https://cdn.pydata.org/bokeh/release/bokeh-widgets-0.12.16.min.js\", \"https://cdn.pydata.org/bokeh/release/bokeh-tables-0.12.16.min.js\", \"https://cdn.pydata.org/bokeh/release/bokeh-gl-0.12.16.min.js\"];\n",
       "\n",
       "  var inline_js = [\n",
       "    function(Bokeh) {\n",
       "      Bokeh.set_log_level(\"info\");\n",
       "    },\n",
       "    \n",
       "    function(Bokeh) {\n",
       "      \n",
       "    },\n",
       "    function(Bokeh) {\n",
       "      console.log(\"Bokeh: injecting CSS: https://cdn.pydata.org/bokeh/release/bokeh-0.12.16.min.css\");\n",
       "      Bokeh.embed.inject_css(\"https://cdn.pydata.org/bokeh/release/bokeh-0.12.16.min.css\");\n",
       "      console.log(\"Bokeh: injecting CSS: https://cdn.pydata.org/bokeh/release/bokeh-widgets-0.12.16.min.css\");\n",
       "      Bokeh.embed.inject_css(\"https://cdn.pydata.org/bokeh/release/bokeh-widgets-0.12.16.min.css\");\n",
       "      console.log(\"Bokeh: injecting CSS: https://cdn.pydata.org/bokeh/release/bokeh-tables-0.12.16.min.css\");\n",
       "      Bokeh.embed.inject_css(\"https://cdn.pydata.org/bokeh/release/bokeh-tables-0.12.16.min.css\");\n",
       "    }\n",
       "  ];\n",
       "\n",
       "  function run_inline_js() {\n",
       "    \n",
       "    if ((root.Bokeh !== undefined) || (force === true)) {\n",
       "      for (var i = 0; i < inline_js.length; i++) {\n",
       "        inline_js[i].call(root, root.Bokeh);\n",
       "      }if (force === true) {\n",
       "        display_loaded();\n",
       "      }} else if (Date.now() < root._bokeh_timeout) {\n",
       "      setTimeout(run_inline_js, 100);\n",
       "    } else if (!root._bokeh_failed_load) {\n",
       "      console.log(\"Bokeh: BokehJS failed to load within specified timeout.\");\n",
       "      root._bokeh_failed_load = true;\n",
       "    } else if (force !== true) {\n",
       "      var cell = $(document.getElementById(\"b56e752b-5fb2-4b22-99a0-57e7b919072d\")).parents('.cell').data().cell;\n",
       "      cell.output_area.append_execute_result(NB_LOAD_WARNING)\n",
       "    }\n",
       "\n",
       "  }\n",
       "\n",
       "  if (root._bokeh_is_loading === 0) {\n",
       "    console.log(\"Bokeh: BokehJS loaded, going straight to plotting\");\n",
       "    run_inline_js();\n",
       "  } else {\n",
       "    load_libs(js_urls, function() {\n",
       "      console.log(\"Bokeh: BokehJS plotting callback run at\", now());\n",
       "      run_inline_js();\n",
       "    });\n",
       "  }\n",
       "}(window));"
      ],
      "application/vnd.bokehjs_load.v0+json": "\n(function(root) {\n  function now() {\n    return new Date();\n  }\n\n  var force = true;\n\n  if (typeof (root._bokeh_onload_callbacks) === \"undefined\" || force === true) {\n    root._bokeh_onload_callbacks = [];\n    root._bokeh_is_loading = undefined;\n  }\n\n  \n\n  \n  if (typeof (root._bokeh_timeout) === \"undefined\" || force === true) {\n    root._bokeh_timeout = Date.now() + 5000;\n    root._bokeh_failed_load = false;\n  }\n\n  var NB_LOAD_WARNING = {'data': {'text/html':\n     \"<div style='background-color: #fdd'>\\n\"+\n     \"<p>\\n\"+\n     \"BokehJS does not appear to have successfully loaded. If loading BokehJS from CDN, this \\n\"+\n     \"may be due to a slow or bad network connection. Possible fixes:\\n\"+\n     \"</p>\\n\"+\n     \"<ul>\\n\"+\n     \"<li>re-rerun `output_notebook()` to attempt to load from CDN again, or</li>\\n\"+\n     \"<li>use INLINE resources instead, as so:</li>\\n\"+\n     \"</ul>\\n\"+\n     \"<code>\\n\"+\n     \"from bokeh.resources import INLINE\\n\"+\n     \"output_notebook(resources=INLINE)\\n\"+\n     \"</code>\\n\"+\n     \"</div>\"}};\n\n  function display_loaded() {\n    var el = document.getElementById(\"b56e752b-5fb2-4b22-99a0-57e7b919072d\");\n    if (el != null) {\n      el.textContent = \"BokehJS is loading...\";\n    }\n    if (root.Bokeh !== undefined) {\n      if (el != null) {\n        el.textContent = \"BokehJS \" + root.Bokeh.version + \" successfully loaded.\";\n      }\n    } else if (Date.now() < root._bokeh_timeout) {\n      setTimeout(display_loaded, 100)\n    }\n  }\n\n\n  function run_callbacks() {\n    try {\n      root._bokeh_onload_callbacks.forEach(function(callback) { callback() });\n    }\n    finally {\n      delete root._bokeh_onload_callbacks\n    }\n    console.info(\"Bokeh: all callbacks have finished\");\n  }\n\n  function load_libs(js_urls, callback) {\n    root._bokeh_onload_callbacks.push(callback);\n    if (root._bokeh_is_loading > 0) {\n      console.log(\"Bokeh: BokehJS is being loaded, scheduling callback at\", now());\n      return null;\n    }\n    if (js_urls == null || js_urls.length === 0) {\n      run_callbacks();\n      return null;\n    }\n    console.log(\"Bokeh: BokehJS not loaded, scheduling load and callback at\", now());\n    root._bokeh_is_loading = js_urls.length;\n    for (var i = 0; i < js_urls.length; i++) {\n      var url = js_urls[i];\n      var s = document.createElement('script');\n      s.src = url;\n      s.async = false;\n      s.onreadystatechange = s.onload = function() {\n        root._bokeh_is_loading--;\n        if (root._bokeh_is_loading === 0) {\n          console.log(\"Bokeh: all BokehJS libraries loaded\");\n          run_callbacks()\n        }\n      };\n      s.onerror = function() {\n        console.warn(\"failed to load library \" + url);\n      };\n      console.log(\"Bokeh: injecting script tag for BokehJS library: \", url);\n      document.getElementsByTagName(\"head\")[0].appendChild(s);\n    }\n  };var element = document.getElementById(\"b56e752b-5fb2-4b22-99a0-57e7b919072d\");\n  if (element == null) {\n    console.log(\"Bokeh: ERROR: autoload.js configured with elementid 'b56e752b-5fb2-4b22-99a0-57e7b919072d' but no matching script tag was found. \")\n    return false;\n  }\n\n  var js_urls = [\"https://cdn.pydata.org/bokeh/release/bokeh-0.12.16.min.js\", \"https://cdn.pydata.org/bokeh/release/bokeh-widgets-0.12.16.min.js\", \"https://cdn.pydata.org/bokeh/release/bokeh-tables-0.12.16.min.js\", \"https://cdn.pydata.org/bokeh/release/bokeh-gl-0.12.16.min.js\"];\n\n  var inline_js = [\n    function(Bokeh) {\n      Bokeh.set_log_level(\"info\");\n    },\n    \n    function(Bokeh) {\n      \n    },\n    function(Bokeh) {\n      console.log(\"Bokeh: injecting CSS: https://cdn.pydata.org/bokeh/release/bokeh-0.12.16.min.css\");\n      Bokeh.embed.inject_css(\"https://cdn.pydata.org/bokeh/release/bokeh-0.12.16.min.css\");\n      console.log(\"Bokeh: injecting CSS: https://cdn.pydata.org/bokeh/release/bokeh-widgets-0.12.16.min.css\");\n      Bokeh.embed.inject_css(\"https://cdn.pydata.org/bokeh/release/bokeh-widgets-0.12.16.min.css\");\n      console.log(\"Bokeh: injecting CSS: https://cdn.pydata.org/bokeh/release/bokeh-tables-0.12.16.min.css\");\n      Bokeh.embed.inject_css(\"https://cdn.pydata.org/bokeh/release/bokeh-tables-0.12.16.min.css\");\n    }\n  ];\n\n  function run_inline_js() {\n    \n    if ((root.Bokeh !== undefined) || (force === true)) {\n      for (var i = 0; i < inline_js.length; i++) {\n        inline_js[i].call(root, root.Bokeh);\n      }if (force === true) {\n        display_loaded();\n      }} else if (Date.now() < root._bokeh_timeout) {\n      setTimeout(run_inline_js, 100);\n    } else if (!root._bokeh_failed_load) {\n      console.log(\"Bokeh: BokehJS failed to load within specified timeout.\");\n      root._bokeh_failed_load = true;\n    } else if (force !== true) {\n      var cell = $(document.getElementById(\"b56e752b-5fb2-4b22-99a0-57e7b919072d\")).parents('.cell').data().cell;\n      cell.output_area.append_execute_result(NB_LOAD_WARNING)\n    }\n\n  }\n\n  if (root._bokeh_is_loading === 0) {\n    console.log(\"Bokeh: BokehJS loaded, going straight to plotting\");\n    run_inline_js();\n  } else {\n    load_libs(js_urls, function() {\n      console.log(\"Bokeh: BokehJS plotting callback run at\", now());\n      run_inline_js();\n    });\n  }\n}(window));"
     },
     "metadata": {},
     "output_type": "display_data"
    }
   ],
   "source": [
    "output_notebook()"
   ]
  },
  {
   "cell_type": "code",
   "execution_count": 8,
   "metadata": {
    "collapsed": true
   },
   "outputs": [],
   "source": [
    "def fmt_cool(ds_in):\n",
    "    ds = ds_in.copy(deep=True)\n",
    "    if 'igg' in ds.dims:\n",
    "        ds = ds.sel(igg=1)\n",
    "\n",
    "    if 'g' in ds.dims:\n",
    "        ds = ds.sum('g')\n",
    "            \n",
    "    if 'band' in ds.dims:\n",
    "        try:\n",
    "            ds = ds.squeeze('band')\n",
    "        except ValueError:\n",
    "            ds = ds.sum('band')\n",
    "                \n",
    "    return ds['coolrg']\n",
    "\n",
    "\n",
    "def pltdata_cooling_1(ds_cool=None,\n",
    "                      ds_cool_crd=None, ds_cool_wgt=None):\n",
    "    \n",
    "\n",
    "\n",
    "    colors = all_palettes['Set1'][4]\n",
    "    data = [{'label': 'CLIRAD `coolr_bands`',\n",
    "             'srs': fmt_cool(ds_cool),\n",
    "             'line_dash': 'dashed', 'line_width': 5,\n",
    "             'color': colors[0], 'alpha': .6},\n",
    "            {'label': 'CRD',\n",
    "             'srs': fmt_cool(ds_cool_crd),\n",
    "             'line_dash': 'solid', 'line_width': 1.5,\n",
    "             'marker': 'circle', 'marker_size': 5,\n",
    "             'color': colors[2], 'alpha': 1,},\n",
    "            {'label': 'WGT igg=10 wgt_flux=2',\n",
    "             'srs': fmt_cool(ds_cool_wgt),\n",
    "             'line_dash': 'solid', 'line_width': 3,\n",
    "             'marker': 'square', 'marker_size': 5,\n",
    "             'color': colors[3], 'alpha': .6}]\n",
    "    return data\n",
    "\n",
    "\n",
    "def nice_xlims(pltdata=None, prange=None):\n",
    "    \n",
    "    def get_slice(srs):\n",
    "        return srs.sel(pressure=slice(*prange))\n",
    "    \n",
    "    srss = [d['srs'] for d in pltdata]\n",
    "    vmin = min([get_slice(srs).min() for srs in srss])\n",
    "    vmax = max([get_slice(srs).max() for srs in srss])\n",
    "    dv = (vmax - vmin) * .01\n",
    "    return float(vmin - dv), float(vmax + dv)\n",
    "    \n",
    "\n",
    "def plt_cooling_bokeh(pltdata=None):\n",
    "    '''\n",
    "    Plot a list of cooling rate profiles using bokeh.\n",
    "    '''\n",
    "    ymin = 1e-2 \n",
    "    ymax = 1020 \n",
    "        \n",
    "    p1 = figure(title=\"Linear pressure scale\", \n",
    "                plot_width=400)        \n",
    "    xmin, xmax = nice_xlims(pltdata, prange=(50, 1050))\n",
    "    for d in pltdata:\n",
    "        if 'marker' in d:\n",
    "            getattr(p1, d['marker'])(d['srs'].values, \n",
    "                    d['srs'].coords['pressure'].values,\n",
    "                    color=d['color'], alpha=.7)\n",
    "        p1.line(d['srs'].values, \n",
    "                d['srs'].coords['pressure'].values,\n",
    "                color=d['color'], alpha=d['alpha'], \n",
    "                line_width=d['line_width'], line_dash=d['line_dash'])\n",
    "    \n",
    "    p1.y_range = Range1d(ymax, ymin)\n",
    "    p1.yaxis.axis_label = 'pressure [mb]'   \n",
    "    p1.x_range = Range1d(xmin, xmax)\n",
    "    p1.xaxis.axis_label = 'cooling rate [K/day]'\n",
    "            \n",
    "    p2 = figure(title='Log pressure scale', y_axis_type='log',\n",
    "                plot_width=560)\n",
    "    xmin, xmax = nice_xlims(pltdata, prange=(.01, 200))\n",
    "    \n",
    "    rs = []\n",
    "    for d in pltdata:\n",
    "        rd = []\n",
    "        if 'marker' in d:\n",
    "            r_mark = getattr(p2, d['marker'])(d['srs'].values, \n",
    "                        d['srs'].coords['pressure'].values,\n",
    "                        color=d['color'], alpha=.7)\n",
    "            rd.append(r_mark)\n",
    "        r_line = p2.line(d['srs'].values, \n",
    "                    d['srs'].coords['pressure'].values,\n",
    "                    color=d['color'], alpha=d['alpha'], \n",
    "                    line_width=d['line_width'], line_dash=d['line_dash'])\n",
    "        rd.append(r_line)\n",
    "      \n",
    "        rs.append(rd)\n",
    "        \n",
    "    p2.y_range = Range1d(ymax, ymin)  \n",
    "    p2.yaxis.axis_label = 'pressure [mb]'\n",
    "    \n",
    "    p2.x_range = Range1d(xmin, xmax)\n",
    "    p2.xaxis.axis_label = 'cooling rate [K/day]'\n",
    "    \n",
    "    items = [(d['label'], r) for r, d in zip(rs, pltdata)]\n",
    "    legend = Legend(items=items, location=(10, -30))\n",
    "    legend.label_text_font_size = '8pt'\n",
    "    \n",
    "    p2.add_layout(legend, 'right')  \n",
    "    \n",
    "    show(gridplot(p1, p2, ncols=2, plot_height=500))\n",
    "    \n",
    "\n",
    "def script_plt_cooling():\n",
    "    pltdata = pltdata_cooling_1(\n",
    "        ds_cool=DS_COOL,\n",
    "        ds_cool_crd=DS_COOL_CRD,\n",
    "        ds_cool_wgt=DS_COOL_WGT)\n",
    "    plt_cooling_bokeh(pltdata=pltdata)\n",
    "    print('''FIGURE. Cooling rate profiles.''')"
   ]
  },
  {
   "cell_type": "code",
   "execution_count": 9,
   "metadata": {
    "collapsed": true
   },
   "outputs": [],
   "source": [
    "def fmt_flux(ds_in):\n",
    "    ds = ds_in.copy(deep=True)\n",
    "    \n",
    "    for l in ('level', 'layer'):\n",
    "        if l in ds.data_vars:\n",
    "            if len(ds[l].dims) > 1:\n",
    "                surface = {d: 0 for d in ds.dims if d != 'pressure'}\n",
    "                coord_level = ds[l][surface]\n",
    "                ds.coords[l] = ('pressure', coord_level)\n",
    "            else:\n",
    "                ds.coords[l] = ('pressure', ds[l])\n",
    "        \n",
    "    ds = ds.isel(pressure=[0, 23, -1])\n",
    "        \n",
    "    if 'igg' in ds.dims:\n",
    "        ds = ds.sel(igg=[1])\n",
    "        ds = ds.squeeze('igg').drop('igg')\n",
    "    \n",
    "    if 'g' in ds.dims:\n",
    "        ds = ds.sum('g')\n",
    "            \n",
    "    if 'band' in ds.dims:\n",
    "        try:\n",
    "            ds = ds.squeeze('band').drop('band')\n",
    "        except ValueError:\n",
    "            ds = ds.sum('band')\n",
    "                \n",
    "    df = ds.to_dataframe()\n",
    "    df = df.set_index('level', append=True)               \n",
    "    return df\n",
    "\n",
    "\n",
    "def tbdata_flux(ds_flux=None, ds_flux_crd=None, ds_flux_wgt=None):\n",
    "    ilevels = [0, 23, -1]\n",
    "            \n",
    "    benchmark = {'label': 'CRD',\n",
    "                 'df': fmt_flux(ds_flux_crd)}\n",
    "    \n",
    "    tbs = [{'label': 'WGT igg=10 wgt_flux=1',\n",
    "            'df': fmt_flux(ds_flux_wgt)},\n",
    "           {'label': 'CLIRAD',\n",
    "            'df': fmt_flux(ds_flux)}]\n",
    "    \n",
    "    data = {'benchmark': benchmark, 'others': tbs}\n",
    "    return data\n",
    "\n",
    "\n",
    "def tb_flux(tbdata=None):\n",
    "    benchmark = tbdata['benchmark']\n",
    "    others = tbdata['others']\n",
    "    \n",
    "    def show_tb(d=None):\n",
    "        display.display(d['df'])\n",
    "        print('Table.', 'Fluxes.', d['label'])\n",
    "        \n",
    "    def show_tbdiff(d0=None, d=None):\n",
    "        df = d['df']\n",
    "        df.index = d0['df'].index\n",
    "        display.display(df - d0['df'])\n",
    "        print('Table.', 'Fluxes.', \n",
    "              '({}) - ({})'.format(d['label'], d0['label']))\n",
    "        \n",
    "    show_tb(benchmark)\n",
    "    for d in others:\n",
    "        show_tb(d)\n",
    "        \n",
    "    for d in others:\n",
    "        show_tbdiff(d=d, d0=benchmark)\n",
    "        \n",
    "        \n",
    "def script_tb_flux():\n",
    "    data = tbdata_flux(ds_flux=DS_FLUX,\n",
    "                       ds_flux_crd=DS_FLUX_CRD,\n",
    "                       ds_flux_wgt=DS_FLUX_WGT)\n",
    "    tb_flux(tbdata=data)"
   ]
  },
  {
   "cell_type": "code",
   "execution_count": 10,
   "metadata": {
    "collapsed": true
   },
   "outputs": [],
   "source": [
    "def band_map():\n",
    "    '''\n",
    "    Maps spectral bands in lblnew to spectral bands in clirad.\n",
    "    '''\n",
    "    lblnew2clirad = {'1': '1',\n",
    "            '2': '2',\n",
    "            '3a': '3',\n",
    "            '3b': '4',\n",
    "            '3c': '5',\n",
    "            '4': '6', \n",
    "            '5': '7',\n",
    "            '6': '8',\n",
    "            '7': '9', \n",
    "            '8': '10',\n",
    "            '9': '11'}\n",
    "    \n",
    "    clirad2lblnew = {clirad: lblnew \n",
    "                     for lblnew, clirad in lblnew2clirad.items()}\n",
    "    return clirad2lblnew\n",
    "\n",
    "\n",
    "def gasbands():\n",
    "    bmap = band_map()\n",
    "    gases = list(PARAM['molecule'].keys())\n",
    "    \n",
    "    bands = [bmap[str(b)] for b in PARAM['band']]\n",
    "    return list(itertools.product(gases, bands))\n",
    "\n",
    "\n",
    "def print_bestfit_params():\n",
    "    print('Best-fit values for each (gas, band)')\n",
    "    print('------------------------------------')\n",
    "    for gas, band in gasbands():\n",
    "        print('o {} band{}'.format(gas, band))\n",
    "        param = bestfits.kdist_params(molecule=gas, band=band)\n",
    "        for name, value in sorted(param.items()):\n",
    "            print(2 * ' ' + '{} = {}'.format(name, value))\n",
    "\n",
    "        \n",
    "def print_input_param():        \n",
    "    for name, value in PARAM.items():\n",
    "        print('{} = {}'.format(name, value))\n",
    "        \n",
    "        \n",
    "def print_lblnew_param():\n",
    "    for name, value in sorted(PARAM_LBLNEW.items()):\n",
    "        print('{} = {}'.format(name, value))\n"
   ]
  },
  {
   "cell_type": "code",
   "execution_count": 11,
   "metadata": {
    "collapsed": true,
    "scrolled": false
   },
   "outputs": [],
   "source": [
    "def show_html(s):\n",
    "    display.display(display.HTML(s))\n",
    "\n",
    "    \n",
    "def show_markdown(s):\n",
    "    display.display(display.Markdown(s))\n",
    "\n",
    "    \n",
    "def script():\n",
    "    \n",
    "    title = '### CLIRAD-LW'\n",
    "    s_input = 'Input Parameters'\n",
    "    s_lblnew_param = 'LBLNEW case compaired against'\n",
    "    s_bestfits = 'Best-fit Parameters'\n",
    "    s_plt_cooling = 'Cooling Rate Profiles'\n",
    "    s_tb_flux = 'Flux Comparison'\n",
    "    \n",
    "    # title\n",
    "    show_markdown('### CLIRAD-LW')\n",
    "    \n",
    "    # TOC\n",
    "    show_markdown('### Table of Contents')\n",
    "    show_html(climahtml.getHTML_hrefanchor(s_input))\n",
    "    show_html(climahtml.getHTML_hrefanchor(s_lblnew_param))\n",
    "    show_html(climahtml.getHTML_hrefanchor(s_plt_cooling))\n",
    "    show_html(climahtml.getHTML_hrefanchor(s_tb_flux))\n",
    "    show_html(climahtml.getHTML_hrefanchor(s_bestfits))\n",
    "    \n",
    "    # Input parameters\n",
    "    show_html(climahtml.getHTML_idanchor(s_input))\n",
    "    show_markdown(climahtml.getMarkdown_sectitle(s_input))\n",
    "    print_input_param()\n",
    "    \n",
    "    # LBLNEW parameters \n",
    "    show_html(climahtml.getHTML_idanchor(s_lblnew_param))\n",
    "    show_markdown(climahtml.getMarkdown_sectitle(s_lblnew_param))\n",
    "    print_lblnew_param()\n",
    "    \n",
    "    # Cooling rate profiles\n",
    "    show_html(climahtml.getHTML_idanchor(s_plt_cooling))\n",
    "    show_markdown(climahtml.getMarkdown_sectitle(s_plt_cooling))\n",
    "    script_plt_cooling()\n",
    "    \n",
    "    # Flux comparison\n",
    "    show_html(climahtml.getHTML_idanchor(s_tb_flux))\n",
    "    show_markdown(climahtml.getMarkdown_sectitle(s_tb_flux))\n",
    "    script_tb_flux()\n",
    "    \n",
    "    # Best-fit values\n",
    "    show_html(climahtml.getHTML_idanchor(s_bestfits))\n",
    "    show_markdown(climahtml.getMarkdown_sectitle(s_bestfits))\n",
    "    print_bestfit_params()\n",
    "   \n",
    "    "
   ]
  },
  {
   "cell_type": "code",
   "execution_count": 12,
   "metadata": {
    "collapsed": true,
    "scrolled": false
   },
   "outputs": [
    {
     "data": {
      "text/markdown": [
       "### CLIRAD-LW"
      ],
      "text/plain": [
       "<IPython.core.display.Markdown object>"
      ]
     },
     "metadata": {},
     "output_type": "display_data"
    },
    {
     "data": {
      "text/markdown": [
       "### Table of Contents"
      ],
      "text/plain": [
       "<IPython.core.display.Markdown object>"
      ]
     },
     "metadata": {},
     "output_type": "display_data"
    },
    {
     "data": {
      "text/html": [
       "<a href=\"#Input_Parameters\">Input Parameters</a>"
      ],
      "text/plain": [
       "<IPython.core.display.HTML object>"
      ]
     },
     "metadata": {},
     "output_type": "display_data"
    },
    {
     "data": {
      "text/html": [
       "<a href=\"#LBLNEW_case_compaired_against\">LBLNEW case compaired against</a>"
      ],
      "text/plain": [
       "<IPython.core.display.HTML object>"
      ]
     },
     "metadata": {},
     "output_type": "display_data"
    },
    {
     "data": {
      "text/html": [
       "<a href=\"#Cooling_Rate_Profiles\">Cooling Rate Profiles</a>"
      ],
      "text/plain": [
       "<IPython.core.display.HTML object>"
      ]
     },
     "metadata": {},
     "output_type": "display_data"
    },
    {
     "data": {
      "text/html": [
       "<a href=\"#Flux_Comparison\">Flux Comparison</a>"
      ],
      "text/plain": [
       "<IPython.core.display.HTML object>"
      ]
     },
     "metadata": {},
     "output_type": "display_data"
    },
    {
     "data": {
      "text/html": [
       "<a href=\"#Best-fit_Parameters\">Best-fit Parameters</a>"
      ],
      "text/plain": [
       "<IPython.core.display.HTML object>"
      ]
     },
     "metadata": {},
     "output_type": "display_data"
    },
    {
     "data": {
      "text/html": [
       "<a id=\"Input_Parameters\"></a>"
      ],
      "text/plain": [
       "<IPython.core.display.HTML object>"
      ]
     },
     "metadata": {},
     "output_type": "display_data"
    },
    {
     "data": {
      "text/markdown": [
       "# Input Parameters"
      ],
      "text/plain": [
       "<IPython.core.display.Markdown object>"
      ]
     },
     "metadata": {},
     "output_type": "display_data"
    },
    {
     "name": "stdout",
     "output_type": "stream",
     "text": [
      "atmpro = mls\n",
      "band = [3]\n",
      "commitnumber = de5d43e\n",
      "molecule = {'h2o': 'atmpro'}\n",
      "tsfc = 294\n"
     ]
    },
    {
     "data": {
      "text/html": [
       "<a id=\"LBLNEW_case_compaired_against\"></a>"
      ],
      "text/plain": [
       "<IPython.core.display.HTML object>"
      ]
     },
     "metadata": {},
     "output_type": "display_data"
    },
    {
     "data": {
      "text/markdown": [
       "# LBLNEW case compaired against"
      ],
      "text/plain": [
       "<IPython.core.display.Markdown object>"
      ]
     },
     "metadata": {},
     "output_type": "display_data"
    },
    {
     "name": "stdout",
     "output_type": "stream",
     "text": [
      "atmpro = mls\n",
      "band = 3a\n",
      "commitnumber = 5014a19\n",
      "conc = None\n",
      "dv = 0.001\n",
      "klin = 0\n",
      "molecule = h2o\n",
      "ng_adju = [0, 0]\n",
      "ng_refs = [2, 6]\n",
      "nv = 1000\n",
      "option_compute_btable = 0\n",
      "option_compute_ktable = 0\n",
      "option_wgt_flux = 1\n",
      "option_wgt_k = 1\n",
      "ref_pts = [(10, 250), (600, 250)]\n",
      "tsfc = 294\n",
      "vmax = 620\n",
      "vmin = 540\n",
      "w_diffuse = [(1.9, 1.7), (1.4, 1.4, 1.4, 1.55, 1.6, 1.66)]\n",
      "wgt = [(0.7, 0.7), (0.7, 0.5, 0.5, 0.5, 0.5, 0.5)]\n"
     ]
    },
    {
     "data": {
      "text/html": [
       "<a id=\"Cooling_Rate_Profiles\"></a>"
      ],
      "text/plain": [
       "<IPython.core.display.HTML object>"
      ]
     },
     "metadata": {},
     "output_type": "display_data"
    },
    {
     "data": {
      "text/markdown": [
       "# Cooling Rate Profiles"
      ],
      "text/plain": [
       "<IPython.core.display.Markdown object>"
      ]
     },
     "metadata": {},
     "output_type": "display_data"
    },
    {
     "data": {
      "text/html": [
       "\n",
       "<div class=\"bk-root\">\n",
       "    <div class=\"bk-plotdiv\" id=\"2876e669-ff66-4ad1-bbd4-404d3a75c867\"></div>\n",
       "</div>"
      ]
     },
     "metadata": {},
     "output_type": "display_data"
    },
    {
     "data": {
      "application/javascript": [
       "(function(root) {\n",
       "  function embed_document(root) {\n",
       "    \n",
       "  var docs_json = {\"5cecd78e-cf71-4860-8702-3cbd4f7d2ef3\":{\"roots\":{\"references\":[{\"attributes\":{},\"id\":\"793a92ff-8504-43c4-91e4-2db7bc7cb491\",\"type\":\"UnionRenderers\"},{\"attributes\":{},\"id\":\"30798a97-9568-49aa-8e1a-7fb0048d664e\",\"type\":\"Selection\"},{\"attributes\":{},\"id\":\"07c7ef9f-04b9-434d-839d-586c402eb4e5\",\"type\":\"Selection\"},{\"attributes\":{},\"id\":\"2b71cc6c-612e-4756-bb2a-44d05dd551f2\",\"type\":\"Selection\"},{\"attributes\":{\"below\":[{\"id\":\"53dd57fd-20c7-4481-aa79-2fcdf177416b\",\"type\":\"LinearAxis\"}],\"left\":[{\"id\":\"59770bac-3cde-483c-8137-ec26dc8a0940\",\"type\":\"LinearAxis\"}],\"plot_height\":500,\"plot_width\":400,\"renderers\":[{\"id\":\"53dd57fd-20c7-4481-aa79-2fcdf177416b\",\"type\":\"LinearAxis\"},{\"id\":\"8474a494-e69f-45ac-8aff-201e64e9a1ce\",\"type\":\"Grid\"},{\"id\":\"59770bac-3cde-483c-8137-ec26dc8a0940\",\"type\":\"LinearAxis\"},{\"id\":\"c1293040-2b62-4ccc-a7e2-ed960f53bcbf\",\"type\":\"Grid\"},{\"id\":\"6bada04a-4ba6-4296-8932-a4205ea25cb5\",\"type\":\"BoxAnnotation\"},{\"id\":\"e0b410b3-4258-4901-8f56-31f66b133e05\",\"type\":\"GlyphRenderer\"},{\"id\":\"27f2bb52-3ccc-46ee-840a-bcdff8cb10a5\",\"type\":\"GlyphRenderer\"},{\"id\":\"2c250f5b-1f41-40e9-a90f-f9ecfbfecb93\",\"type\":\"GlyphRenderer\"},{\"id\":\"95316f43-05bb-4ff3-8e75-d1a8c4b14efc\",\"type\":\"GlyphRenderer\"},{\"id\":\"775389af-84d3-4a80-958f-6b7e9ac82622\",\"type\":\"GlyphRenderer\"}],\"title\":{\"id\":\"a43f31b7-512b-477e-ab1d-0391c48945b5\",\"type\":\"Title\"},\"toolbar\":{\"id\":\"137960ca-148d-4091-9437-50f07f0c8f8b\",\"type\":\"Toolbar\"},\"toolbar_location\":null,\"x_range\":{\"id\":\"1f8cfc87-264d-4a75-bd96-582f59692051\",\"type\":\"Range1d\"},\"x_scale\":{\"id\":\"17a2a521-e6ca-4b35-9592-4f0c57cea1d6\",\"type\":\"LinearScale\"},\"y_range\":{\"id\":\"b00abcab-1d05-4fb7-9190-e9b694a5e798\",\"type\":\"Range1d\"},\"y_scale\":{\"id\":\"db38943c-311f-414c-af20-23e33fef3374\",\"type\":\"LinearScale\"}},\"id\":\"47af5ed9-0062-4b7d-b7d1-a0794900441c\",\"subtype\":\"Figure\",\"type\":\"Plot\"},{\"attributes\":{},\"id\":\"b23d928b-8190-4ddf-bb51-db033a96d81a\",\"type\":\"Selection\"},{\"attributes\":{\"children\":[{\"id\":\"88c326ba-57b9-496b-b209-d7cd15407a29\",\"type\":\"Row\"}]},\"id\":\"17679113-7022-4f9d-a27c-3c8da7d3e41e\",\"type\":\"Column\"},{\"attributes\":{},\"id\":\"f7c2a7b6-abaa-479f-a35a-048150afb5aa\",\"type\":\"Selection\"},{\"attributes\":{\"toolbar\":{\"id\":\"34ad2fc8-cc30-4fec-bad3-ad90cb8d25ba\",\"type\":\"ProxyToolbar\"},\"toolbar_location\":\"above\"},\"id\":\"2c07b7a1-9ac6-4b73-b7cc-693a3bcf9304\",\"type\":\"ToolbarBox\"},{\"attributes\":{\"data_source\":{\"id\":\"12eab58a-88b8-4e18-b339-ca6631ca4576\",\"type\":\"ColumnDataSource\"},\"glyph\":{\"id\":\"c2ac0e97-1684-4367-a01b-dcca0f454d2f\",\"type\":\"Circle\"},\"hover_glyph\":null,\"muted_glyph\":null,\"nonselection_glyph\":{\"id\":\"5957d4be-01e0-4dbd-826e-c67a78b43f91\",\"type\":\"Circle\"},\"selection_glyph\":null,\"view\":{\"id\":\"8c30aaa6-38d0-44a6-ad7c-47db11c16717\",\"type\":\"CDSView\"}},\"id\":\"c870adcf-081c-43b4-9349-02915ca98142\",\"type\":\"GlyphRenderer\"},{\"attributes\":{},\"id\":\"a4d4178f-7e74-4f70-b4ac-07f8fc63a6ca\",\"type\":\"UnionRenderers\"},{\"attributes\":{\"callback\":null,\"data\":{\"x\":{\"__ndarray__\":\"AIgQtVVtRz8mpOykHzlIPx49Nouvhko/UQnZvNHLTD8v6T5LcRpPP3hv3loTu1A/NwmVKFHwUT+pIRFmmCtTPyjSGM2MblQ/coIrouO4VT9Rv8EWuA5XPy+7Smc+aFg/J4GAhg3HWT9IcDsmJj5bP7LOmXGx4l8/l7fR5tIdZz+nfdGn1+JxPz9/Rtc4I3o/u88NJxJHgj8YhHO/o8OIP8PSRMgOZJA/eqxTxG1dlT/0Rw6UuOeZPxL27SQi/Jk/8Ti05MvtlT/h2YPox2GRPzkNHpSat4o/yU9Q6ewUhD9VcZz4R+99P86aKl8hQXY/kTEo50xZcD/Dn3xZFcNnP3QhqDTI/2E/9ZnHa+sRXT8S7nS04WFXPzhiPyHBqFI/2S6zn3OdUD94EWQiUl5QPzGGx5N+A1A/mrVoRmWYUT9y/uv6U5NhP9tPrjeW4X8/34ZQWdjJlD+7XiMUHt6jP/9KrxlVkK4/CFUU9ofCsj/rp3EC4hS2P4DPF5TMXrk/PLwIz1unvD8qQdpaul3AP1lD80qjE8M/oiuufUPZxT9uWkKhEpXIP6fbZQELR8s/IAn7dhIRzj8wr0yNCnvQP8NRC4i9DtI/G1kB13id1D8Y3ll50TDXP+4X/bLFf9k/Fhx3rTFm2z8HXm+TOMjcP2iIdIk0u90/G2UedUtd3j8F9MoOVLreP5nigTO+0N4/AYzCiUOR3j9LAlgNV8HdPwDFp4RQM9w/aBhnodf+2T9L4jDBPnTXPxxiF6DI7tQ/fZ+Bw9G20j+QNFWDchPRPzBNbJlnQNE/\",\"dtype\":\"float64\",\"shape\":[75]},\"y\":{\"__ndarray__\":\"S/O/Q+51ND/Sv8nbtpRIP2vylNV0PVE/aTum7souWD/At0SJ8fVgPw3Iuahxymc/MSNhhJWvcD/bTfBN02d3P2zb5nxnaoA/CD5h5MAGhz8NmeH1TyaQP+zrCsc9p5Y/LbKd76fGnz/bLW5ISEmmPww9YvTcQq8/JV2OstnstT8Er5Y7M8G+P0c+r3jqkcU/5h99k6ZBzj88bCIzFzjVP4enV8oyxN0//yH99nXg5D8qOpLLf0jtP5kqGJXUifQ/c9cS8kHP/D+/DpwzojQEQIEmwoanVwxA4lgXt9HgE0BSSZ2AJuIbQAMJih9jjiNA5q4l5INuK0AwTKYKRj0zQNv5fmq8/DpAaCJseHrtQkB/+zpwzoxKQM3MzMzMeFJAZmZmZmZqWEAAAAAAAFxeQM3MzMzMJmJAmpmZmZkfZUBmZmZmZhhoQDMzMzMzEWtAAAAAAAAKbkBmZmZmZoFwQM3MzMzM/XFAMzMzMzN6c0CamZmZmfZ0QAAAAAAAc3ZAZmZmZmbvd0DNzMzMzGt5QDMzMzMz6HpAmpmZmZlkfEAAAAAAAOF9QGZmZmZmXX9AZmZmZuZsgECamZmZGSuBQM3MzMxM6YFAAAAAAICngkAzMzMzs2WDQGZmZmbmI4RAmpmZmRnihEDNzMzMTKCFQAAAAACAXoZAMzMzM7Mch0BmZmZm5tqHQJqZmZkZmYhAzczMzExXiUAAAAAAgBWKQDMzMzOz04pAZmZmZuaRi0CamZmZGVCMQM3MzMxMDo1AAAAAAIDMjUAzMzMzs4qOQGZmZmbmSI9A\",\"dtype\":\"float64\",\"shape\":[75]}},\"selected\":{\"id\":\"07c7ef9f-04b9-434d-839d-586c402eb4e5\",\"type\":\"Selection\"},\"selection_policy\":{\"id\":\"0d066d3f-ee13-46d1-b74a-6761c53f303a\",\"type\":\"UnionRenderers\"}},\"id\":\"569896d1-76ec-4b83-a162-bd3c230b923e\",\"type\":\"ColumnDataSource\"},{\"attributes\":{\"source\":{\"id\":\"655d5579-f988-4d00-8f68-eb0a305b737c\",\"type\":\"ColumnDataSource\"}},\"id\":\"1974a2e0-5349-4323-a9ec-9a00157b1b35\",\"type\":\"CDSView\"},{\"attributes\":{},\"id\":\"5497dce9-abbd-4304-b31e-7933b2142ca4\",\"type\":\"UnionRenderers\"},{\"attributes\":{\"children\":[{\"id\":\"2c07b7a1-9ac6-4b73-b7cc-693a3bcf9304\",\"type\":\"ToolbarBox\"},{\"id\":\"17679113-7022-4f9d-a27c-3c8da7d3e41e\",\"type\":\"Column\"}]},\"id\":\"94ef1732-e8f8-4994-98fc-c3dd2cd611ac\",\"type\":\"Column\"},{\"attributes\":{\"source\":{\"id\":\"12eab58a-88b8-4e18-b339-ca6631ca4576\",\"type\":\"ColumnDataSource\"}},\"id\":\"8c30aaa6-38d0-44a6-ad7c-47db11c16717\",\"type\":\"CDSView\"},{\"attributes\":{},\"id\":\"17a2a521-e6ca-4b35-9592-4f0c57cea1d6\",\"type\":\"LinearScale\"},{\"attributes\":{\"callback\":null,\"data\":{\"x\":{\"__ndarray__\":\"LOZpX3MKND9Vu6pREyM2Pxt2RO9gxTo/UASSzYrPPz/9cDBVmXtCP/ypizkjIUU/m5x/uGfbRz8/LEBUl6hKP3ywKJLigE0/sZHWcW4xUD+W+X2teqFRP7k4W5WM8FI/XrLz8/RDVD+DVsmHZZpVP1JfYYSaaFo/vREjrTQOZT9TehV+kZVxP91iGfpi0Xo/ixuest85gz8KIv+KBGyKP3V97BxtlpE/ZeLk6yPRlj9UH/Teq2WbPzG/mALZuJo/BmqbXDiClT8f5KFhxE2QP+KiB/zpWIg/HNJDTMQ9gj9xEwR7iwh8P3+5izq3LHY/DXnuvwGtcT/taOHQqRRsP3e52TbELGc/rmWdbrMRZD+mNZwmMgJhP3rHmUUw3ls/XQJsFwWHWD94s770+ntXP+hR/4VPRlY/yz7Ks4ucVz++0pc0tvZmP4TGAzpp24M/s2msyqxImD9+nU2ncmOmPyyGv+cGEbE/0/toZp1ZtD+Lc5duWVi3P6z9ne3RG7s/M6PEUzR7vz/MlHsmoC7CPwLIv4Ur1sQ/m57B8Fs+xz9Xch38J6zJPyAfusHMTsw//Z55tbMazz9rq+UQaQLRPyv0h4eshdI/71iNoXPp1D8ZDyF08TPXP8429YlVJtk/ZywWlqq62j9vqM5ZVeXbP/waapBZqNw/lben1LoH3T8NB9cWfQndP9xEkPdoudw/AKrZf3Qc3D/1ovKGZiTbP0kiJKD8vNk/hCFZXdry1z+Af0qVKPvVP0vmWN5VD9Q/Fvb23zFZ0j/3QMgFqQzRP/3dtzGofNE/\",\"dtype\":\"float64\",\"shape\":[75]},\"y\":{\"__ndarray__\":\"GhExyth1ND/Sv8nbtpRIP2vylNV0PVE/aTum7souWD/At0SJ8fVgPw3Iuahxymc/MSNhhJWvcD/bTfBN02d3P2zb5nxnaoA/CD5h5MAGhz8NmeH1TyaQP+zrCsc9p5Y/LbKd76fGnz/bLW5ISEmmPww9YvTcQq8/JV2OstnstT8Er5Y7M8G+P0c+r3jqkcU/5h99k6ZBzj88bCIzFzjVP4enV8oyxN0//yH99nXg5D8qOpLLf0jtP5kqGJXUifQ/c9cS8kHP/D+/DpwzojQEQIEmwoanVwxA4lgXt9HgE0BSSZ2AJuIbQAMJih9jjiNA5q4l5INuK0AwTKYKRj0zQNv5fmq8/DpAaCJseHrtQkB/+zpwzoxKQM3MzMzMeFJAZmZmZmZqWEAAAAAAAFxeQM3MzMzMJmJAmpmZmZkfZUBmZmZmZhhoQDMzMzMzEWtAAAAAAAAKbkBmZmZmZoFwQM3MzMzM/XFAMzMzMzN6c0CamZmZmfZ0QAAAAAAAc3ZAZmZmZmbvd0DNzMzMzGt5QDMzMzMz6HpAmpmZmZlkfEAAAAAAAOF9QGZmZmZmXX9AZmZmZuZsgECamZmZGSuBQM3MzMxM6YFAAAAAAICngkAzMzMzs2WDQGZmZmbmI4RAmpmZmRnihEDNzMzMTKCFQAAAAACAXoZAMzMzM7Mch0BmZmZm5tqHQJqZmZkZmYhAzczMzExXiUAAAAAAgBWKQDMzMzOz04pAZmZmZuaRi0CamZmZGVCMQM3MzMxMDo1AAAAAAIDMjUAzMzMzs4qOQGZmZmbmSI9A\",\"dtype\":\"float64\",\"shape\":[75]}},\"selected\":{\"id\":\"aaf7b320-85fb-4427-856b-15a519c87e67\",\"type\":\"Selection\"},\"selection_policy\":{\"id\":\"7119c320-5508-4772-92e7-5132135189bd\",\"type\":\"UnionRenderers\"}},\"id\":\"655d5579-f988-4d00-8f68-eb0a305b737c\",\"type\":\"ColumnDataSource\"},{\"attributes\":{\"callback\":null,\"data\":{\"x\":{\"__ndarray__\":\"LOZpX3MKND9Vu6pREyM2Pxt2RO9gxTo/UASSzYrPPz/9cDBVmXtCP/ypizkjIUU/m5x/uGfbRz8/LEBUl6hKP3ywKJLigE0/sZHWcW4xUD+W+X2teqFRP7k4W5WM8FI/XrLz8/RDVD+DVsmHZZpVP1JfYYSaaFo/vREjrTQOZT9TehV+kZVxP91iGfpi0Xo/ixuest85gz8KIv+KBGyKP3V97BxtlpE/ZeLk6yPRlj9UH/Teq2WbPzG/mALZuJo/BmqbXDiClT8f5KFhxE2QP+KiB/zpWIg/HNJDTMQ9gj9xEwR7iwh8P3+5izq3LHY/DXnuvwGtcT/taOHQqRRsP3e52TbELGc/rmWdbrMRZD+mNZwmMgJhP3rHmUUw3ls/XQJsFwWHWD94s770+ntXP+hR/4VPRlY/yz7Ks4ucVz++0pc0tvZmP4TGAzpp24M/s2msyqxImD9+nU2ncmOmPyyGv+cGEbE/0/toZp1ZtD+Lc5duWVi3P6z9ne3RG7s/M6PEUzR7vz/MlHsmoC7CPwLIv4Ur1sQ/m57B8Fs+xz9Xch38J6zJPyAfusHMTsw//Z55tbMazz9rq+UQaQLRPyv0h4eshdI/71iNoXPp1D8ZDyF08TPXP8429YlVJtk/ZywWlqq62j9vqM5ZVeXbP/waapBZqNw/lben1LoH3T8NB9cWfQndP9xEkPdoudw/AKrZf3Qc3D/1ovKGZiTbP0kiJKD8vNk/hCFZXdry1z+Af0qVKPvVP0vmWN5VD9Q/Fvb23zFZ0j/3QMgFqQzRP/3dtzGofNE/\",\"dtype\":\"float64\",\"shape\":[75]},\"y\":{\"__ndarray__\":\"GhExyth1ND/Sv8nbtpRIP2vylNV0PVE/aTum7souWD/At0SJ8fVgPw3Iuahxymc/MSNhhJWvcD/bTfBN02d3P2zb5nxnaoA/CD5h5MAGhz8NmeH1TyaQP+zrCsc9p5Y/LbKd76fGnz/bLW5ISEmmPww9YvTcQq8/JV2OstnstT8Er5Y7M8G+P0c+r3jqkcU/5h99k6ZBzj88bCIzFzjVP4enV8oyxN0//yH99nXg5D8qOpLLf0jtP5kqGJXUifQ/c9cS8kHP/D+/DpwzojQEQIEmwoanVwxA4lgXt9HgE0BSSZ2AJuIbQAMJih9jjiNA5q4l5INuK0AwTKYKRj0zQNv5fmq8/DpAaCJseHrtQkB/+zpwzoxKQM3MzMzMeFJAZmZmZmZqWEAAAAAAAFxeQM3MzMzMJmJAmpmZmZkfZUBmZmZmZhhoQDMzMzMzEWtAAAAAAAAKbkBmZmZmZoFwQM3MzMzM/XFAMzMzMzN6c0CamZmZmfZ0QAAAAAAAc3ZAZmZmZmbvd0DNzMzMzGt5QDMzMzMz6HpAmpmZmZlkfEAAAAAAAOF9QGZmZmZmXX9AZmZmZuZsgECamZmZGSuBQM3MzMxM6YFAAAAAAICngkAzMzMzs2WDQGZmZmbmI4RAmpmZmRnihEDNzMzMTKCFQAAAAACAXoZAMzMzM7Mch0BmZmZm5tqHQJqZmZkZmYhAzczMzExXiUAAAAAAgBWKQDMzMzOz04pAZmZmZuaRi0CamZmZGVCMQM3MzMxMDo1AAAAAAIDMjUAzMzMzs4qOQGZmZmbmSI9A\",\"dtype\":\"float64\",\"shape\":[75]}},\"selected\":{\"id\":\"30798a97-9568-49aa-8e1a-7fb0048d664e\",\"type\":\"Selection\"},\"selection_policy\":{\"id\":\"c056dc08-e97f-4bda-952d-0e5ce31be8ae\",\"type\":\"UnionRenderers\"}},\"id\":\"12eab58a-88b8-4e18-b339-ca6631ca4576\",\"type\":\"ColumnDataSource\"},{\"attributes\":{},\"id\":\"24f1acf8-fdd3-4173-bbe0-0e680678b1a5\",\"type\":\"UnionRenderers\"},{\"attributes\":{\"tools\":[{\"id\":\"532624e7-b6e7-4c03-93bf-dd0cfb94c7ec\",\"type\":\"PanTool\"},{\"id\":\"efa849cd-f423-4c1d-a5d2-71b8d6c9bf35\",\"type\":\"WheelZoomTool\"},{\"id\":\"f92a6941-f334-41a9-8d9e-7c983ed1e3d6\",\"type\":\"BoxZoomTool\"},{\"id\":\"498126a8-04ed-4379-9900-8bd64c3be431\",\"type\":\"SaveTool\"},{\"id\":\"85b46077-9e97-4882-b562-1a2f7de875c4\",\"type\":\"ResetTool\"},{\"id\":\"7186aa7f-0251-40cc-8016-a249364f3590\",\"type\":\"HelpTool\"},{\"id\":\"54453efa-be15-4c12-b0ec-b4ed585e1133\",\"type\":\"PanTool\"},{\"id\":\"a9ae1272-0805-4be1-92d2-27b9d2c0a597\",\"type\":\"WheelZoomTool\"},{\"id\":\"171b561e-3c2a-4047-b947-d1db64edcf67\",\"type\":\"BoxZoomTool\"},{\"id\":\"1ff342b2-dbca-4e0f-833e-a84abd401286\",\"type\":\"SaveTool\"},{\"id\":\"c4182eae-889f-4eca-b2d9-3be313d47740\",\"type\":\"ResetTool\"},{\"id\":\"798ac2a6-c344-42ef-932a-b71db98c5a34\",\"type\":\"HelpTool\"}]},\"id\":\"34ad2fc8-cc30-4fec-bad3-ad90cb8d25ba\",\"type\":\"ProxyToolbar\"},{\"attributes\":{\"callback\":null,\"data\":{\"x\":{\"__ndarray__\":\"SWM1q2oSQj+ZAhjy8utCPzwClYP3A0U/6dGhxbNMRz+cstEGh61JPzhAg95fE0w/lk1rvUaJTj+cFJRQtIlQP8X4VG7S2lE/SSs4a0snUz/4cRIY2X1UP7F/1Q+q1VU/NdroLGo7Vz9ntyJPqLlYP5+EzqFaf10/lR7cyJ+5ZT/EWaG9s0xxP6TPHjANnXk/DAL68LQSgj9GbBz/hJqIP8BLvKNrUJA/NBSvuRYllT906GNaMn+ZP2Bpi/iAXpk/pQU1dRAelT9MfwpeDI6QPwWoRrMTWYk/Y8c/05Awgz/pAKCJfTl9P0jWB1bLg3Y/TRKpmpRNcT+Iu+0nrmdqP6TCR05z/mQ/tzkXs6zEYT/feE10ZfFdP+cCX/mG91g//2rbJMmfVj91T8wI8jhWP3/xKqFxjFU/Qsoj1fcxVz/3zg3F7JdmPyGVQ4iKs4M//EjFwHN/mD/fi5Kx862mP/8EixaNNrE/lKfZC0ShtD8fEtElkaq3P/g6OJerBrs/z9ZChs26vj8RRYTGXo7BP7y1xjwpKMQ/lNyXMUmlxj+Q63yrCB/JP7fd+yt/rss/RvES4zRPzj9oRbsG7ofQP5F3bFApAdI/J2blTF5m1D8rGLL2bMTWP/7CoNDX09g/8CxqNsGB2j/XWl9lvL3bP0Pvud/fjNw/qK+nQ5IA3T/hMJ/kkSXdP3kQsNCVBt0/EKqhA7Ge3D9YD0YmENLbP1AU+1IZgdo/bhWBxU+02D+I8AqMQabWP4g9ysJJkNQ/DvYzCTSz0j+mj5tOFUfRP5g67rU1ldE/\",\"dtype\":\"float64\",\"shape\":[75]},\"y\":{\"__ndarray__\":\"GhExyth1ND/Sv8nbtpRIP2vylNV0PVE/aTum7souWD/At0SJ8fVgPw3Iuahxymc/MSNhhJWvcD/bTfBN02d3P2zb5nxnaoA/CD5h5MAGhz8NmeH1TyaQP+zrCsc9p5Y/LbKd76fGnz/bLW5ISEmmPww9YvTcQq8/JV2OstnstT8Er5Y7M8G+P0c+r3jqkcU/5h99k6ZBzj88bCIzFzjVP4enV8oyxN0//yH99nXg5D8qOpLLf0jtP5kqGJXUifQ/c9cS8kHP/D+/DpwzojQEQIEmwoanVwxA4lgXt9HgE0BSSZ2AJuIbQAMJih9jjiNA5q4l5INuK0AwTKYKRj0zQNv5fmq8/DpAaCJseHrtQkB/+zpwzoxKQM3MzMzMeFJAZmZmZmZqWEAAAAAAAFxeQM3MzMzMJmJAmpmZmZkfZUBmZmZmZhhoQDMzMzMzEWtAAAAAAAAKbkBmZmZmZoFwQM3MzMzM/XFAMzMzMzN6c0CamZmZmfZ0QAAAAAAAc3ZAZmZmZmbvd0DNzMzMzGt5QDMzMzMz6HpAmpmZmZlkfEAAAAAAAOF9QGZmZmZmXX9AZmZmZuZsgECamZmZGSuBQM3MzMxM6YFAAAAAAICngkAzMzMzs2WDQGZmZmbmI4RAmpmZmRnihEDNzMzMTKCFQAAAAACAXoZAMzMzM7Mch0BmZmZm5tqHQJqZmZkZmYhAzczMzExXiUAAAAAAgBWKQDMzMzOz04pAZmZmZuaRi0CamZmZGVCMQM3MzMxMDo1AAAAAAIDMjUAzMzMzs4qOQGZmZmbmSI9A\",\"dtype\":\"float64\",\"shape\":[75]}},\"selected\":{\"id\":\"55d337cb-612b-424e-b62f-a1de763c39fa\",\"type\":\"Selection\"},\"selection_policy\":{\"id\":\"80e5a183-138c-4936-83f0-24126a12676d\",\"type\":\"UnionRenderers\"}},\"id\":\"a36be97b-eee6-424a-b3a3-d860ee5e22ed\",\"type\":\"ColumnDataSource\"},{\"attributes\":{\"callback\":null,\"data\":{\"x\":{\"__ndarray__\":\"SWM1q2oSQj+ZAhjy8utCPzwClYP3A0U/6dGhxbNMRz+cstEGh61JPzhAg95fE0w/lk1rvUaJTj+cFJRQtIlQP8X4VG7S2lE/SSs4a0snUz/4cRIY2X1UP7F/1Q+q1VU/NdroLGo7Vz9ntyJPqLlYP5+EzqFaf10/lR7cyJ+5ZT/EWaG9s0xxP6TPHjANnXk/DAL68LQSgj9GbBz/hJqIP8BLvKNrUJA/NBSvuRYllT906GNaMn+ZP2Bpi/iAXpk/pQU1dRAelT9MfwpeDI6QPwWoRrMTWYk/Y8c/05Awgz/pAKCJfTl9P0jWB1bLg3Y/TRKpmpRNcT+Iu+0nrmdqP6TCR05z/mQ/tzkXs6zEYT/feE10ZfFdP+cCX/mG91g//2rbJMmfVj91T8wI8jhWP3/xKqFxjFU/Qsoj1fcxVz/3zg3F7JdmPyGVQ4iKs4M//EjFwHN/mD/fi5Kx862mP/8EixaNNrE/lKfZC0ShtD8fEtElkaq3P/g6OJerBrs/z9ZChs26vj8RRYTGXo7BP7y1xjwpKMQ/lNyXMUmlxj+Q63yrCB/JP7fd+yt/rss/RvES4zRPzj9oRbsG7ofQP5F3bFApAdI/J2blTF5m1D8rGLL2bMTWP/7CoNDX09g/8CxqNsGB2j/XWl9lvL3bP0Pvud/fjNw/qK+nQ5IA3T/hMJ/kkSXdP3kQsNCVBt0/EKqhA7Ge3D9YD0YmENLbP1AU+1IZgdo/bhWBxU+02D+I8AqMQabWP4g9ysJJkNQ/DvYzCTSz0j+mj5tOFUfRP5g67rU1ldE/\",\"dtype\":\"float64\",\"shape\":[75]},\"y\":{\"__ndarray__\":\"GhExyth1ND/Sv8nbtpRIP2vylNV0PVE/aTum7souWD/At0SJ8fVgPw3Iuahxymc/MSNhhJWvcD/bTfBN02d3P2zb5nxnaoA/CD5h5MAGhz8NmeH1TyaQP+zrCsc9p5Y/LbKd76fGnz/bLW5ISEmmPww9YvTcQq8/JV2OstnstT8Er5Y7M8G+P0c+r3jqkcU/5h99k6ZBzj88bCIzFzjVP4enV8oyxN0//yH99nXg5D8qOpLLf0jtP5kqGJXUifQ/c9cS8kHP/D+/DpwzojQEQIEmwoanVwxA4lgXt9HgE0BSSZ2AJuIbQAMJih9jjiNA5q4l5INuK0AwTKYKRj0zQNv5fmq8/DpAaCJseHrtQkB/+zpwzoxKQM3MzMzMeFJAZmZmZmZqWEAAAAAAAFxeQM3MzMzMJmJAmpmZmZkfZUBmZmZmZhhoQDMzMzMzEWtAAAAAAAAKbkBmZmZmZoFwQM3MzMzM/XFAMzMzMzN6c0CamZmZmfZ0QAAAAAAAc3ZAZmZmZmbvd0DNzMzMzGt5QDMzMzMz6HpAmpmZmZlkfEAAAAAAAOF9QGZmZmZmXX9AZmZmZuZsgECamZmZGSuBQM3MzMxM6YFAAAAAAICngkAzMzMzs2WDQGZmZmbmI4RAmpmZmRnihEDNzMzMTKCFQAAAAACAXoZAMzMzM7Mch0BmZmZm5tqHQJqZmZkZmYhAzczMzExXiUAAAAAAgBWKQDMzMzOz04pAZmZmZuaRi0CamZmZGVCMQM3MzMxMDo1AAAAAAIDMjUAzMzMzs4qOQGZmZmbmSI9A\",\"dtype\":\"float64\",\"shape\":[75]}},\"selected\":{\"id\":\"b23d928b-8190-4ddf-bb51-db033a96d81a\",\"type\":\"Selection\"},\"selection_policy\":{\"id\":\"5497dce9-abbd-4304-b31e-7933b2142ca4\",\"type\":\"UnionRenderers\"}},\"id\":\"958b4c14-50c2-410e-881f-4223077d092c\",\"type\":\"ColumnDataSource\"},{\"attributes\":{},\"id\":\"0d066d3f-ee13-46d1-b74a-6761c53f303a\",\"type\":\"UnionRenderers\"},{\"attributes\":{},\"id\":\"8a255dc6-bc52-4ac9-9219-5262b60d138e\",\"type\":\"BasicTicker\"},{\"attributes\":{\"fill_alpha\":{\"value\":0.7},\"fill_color\":{\"value\":\"#4daf4a\"},\"line_alpha\":{\"value\":0.7},\"line_color\":{\"value\":\"#4daf4a\"},\"x\":{\"field\":\"x\"},\"y\":{\"field\":\"y\"}},\"id\":\"4d4fe4e3-c850-4ba0-9847-14b7b397cacb\",\"type\":\"Circle\"},{\"attributes\":{\"source\":{\"id\":\"d8118736-6458-4546-a549-0d2ff6f3915c\",\"type\":\"ColumnDataSource\"}},\"id\":\"6ee7696c-09d7-4651-85fe-0f0cada4d323\",\"type\":\"CDSView\"},{\"attributes\":{},\"id\":\"db38943c-311f-414c-af20-23e33fef3374\",\"type\":\"LinearScale\"},{\"attributes\":{\"callback\":null,\"end\":0.4862957926436,\"start\":-0.003827737003600001},\"id\":\"1f8cfc87-264d-4a75-bd96-582f59692051\",\"type\":\"Range1d\"},{\"attributes\":{\"callback\":null,\"end\":0.01,\"start\":1020},\"id\":\"b00abcab-1d05-4fb7-9190-e9b694a5e798\",\"type\":\"Range1d\"},{\"attributes\":{\"dimension\":1,\"plot\":{\"id\":\"47af5ed9-0062-4b7d-b7d1-a0794900441c\",\"subtype\":\"Figure\",\"type\":\"Plot\"},\"ticker\":{\"id\":\"8a255dc6-bc52-4ac9-9219-5262b60d138e\",\"type\":\"BasicTicker\"}},\"id\":\"c1293040-2b62-4ccc-a7e2-ed960f53bcbf\",\"type\":\"Grid\"},{\"attributes\":{\"plot\":{\"id\":\"47af5ed9-0062-4b7d-b7d1-a0794900441c\",\"subtype\":\"Figure\",\"type\":\"Plot\"},\"ticker\":{\"id\":\"66eac86f-0f74-4f8a-82e7-bffdb704d108\",\"type\":\"BasicTicker\"}},\"id\":\"8474a494-e69f-45ac-8aff-201e64e9a1ce\",\"type\":\"Grid\"},{\"attributes\":{\"bottom_units\":\"screen\",\"fill_alpha\":{\"value\":0.5},\"fill_color\":{\"value\":\"lightgrey\"},\"left_units\":\"screen\",\"level\":\"overlay\",\"line_alpha\":{\"value\":1.0},\"line_color\":{\"value\":\"black\"},\"line_dash\":[4,4],\"line_width\":{\"value\":2},\"plot\":null,\"render_mode\":\"css\",\"right_units\":\"screen\",\"top_units\":\"screen\"},\"id\":\"6bada04a-4ba6-4296-8932-a4205ea25cb5\",\"type\":\"BoxAnnotation\"},{\"attributes\":{\"fill_alpha\":{\"value\":0.1},\"fill_color\":{\"value\":\"#1f77b4\"},\"line_alpha\":{\"value\":0.1},\"line_color\":{\"value\":\"#1f77b4\"},\"x\":{\"field\":\"x\"},\"y\":{\"field\":\"y\"}},\"id\":\"5957d4be-01e0-4dbd-826e-c67a78b43f91\",\"type\":\"Circle\"},{\"attributes\":{},\"id\":\"66eac86f-0f74-4f8a-82e7-bffdb704d108\",\"type\":\"BasicTicker\"},{\"attributes\":{\"line_alpha\":0.1,\"line_color\":\"#1f77b4\",\"line_width\":3,\"x\":{\"field\":\"x\"},\"y\":{\"field\":\"y\"}},\"id\":\"556e0918-eba1-4e58-a11c-079e959e292f\",\"type\":\"Line\"},{\"attributes\":{\"line_color\":\"#4daf4a\",\"line_width\":1.5,\"x\":{\"field\":\"x\"},\"y\":{\"field\":\"y\"}},\"id\":\"5d092a65-e737-4c1b-b662-bda527a30e23\",\"type\":\"Line\"},{\"attributes\":{\"below\":[{\"id\":\"99ec577c-4522-4a02-935f-ffc6df81c069\",\"type\":\"LinearAxis\"}],\"left\":[{\"id\":\"e84bd95b-24ed-4652-bd77-fa6647da8737\",\"type\":\"LogAxis\"}],\"plot_height\":500,\"plot_width\":560,\"renderers\":[{\"id\":\"99ec577c-4522-4a02-935f-ffc6df81c069\",\"type\":\"LinearAxis\"},{\"id\":\"95b82060-3970-4bb0-bad2-2f4ad75bdb7c\",\"type\":\"Grid\"},{\"id\":\"e84bd95b-24ed-4652-bd77-fa6647da8737\",\"type\":\"LogAxis\"},{\"id\":\"2c24855f-a175-46d8-85c1-834b69ec3b34\",\"type\":\"Grid\"},{\"id\":\"a33f2f0e-1afd-41be-ab75-16d12f9436e7\",\"type\":\"BoxAnnotation\"},{\"id\":\"706bc9b7-ae40-402e-b008-1629973bef01\",\"type\":\"GlyphRenderer\"},{\"id\":\"c870adcf-081c-43b4-9349-02915ca98142\",\"type\":\"GlyphRenderer\"},{\"id\":\"89cde348-40c4-4ce8-b061-84b9f91e48dc\",\"type\":\"GlyphRenderer\"},{\"id\":\"0c35b6f7-1a90-414a-9e4e-66324577e056\",\"type\":\"GlyphRenderer\"},{\"id\":\"0635b3ce-8e53-4d13-84ed-6f3f3b5a1b61\",\"type\":\"GlyphRenderer\"},{\"id\":\"2b3b549f-7226-4bbb-a508-62cc60e8d615\",\"type\":\"Legend\"}],\"right\":[{\"id\":\"2b3b549f-7226-4bbb-a508-62cc60e8d615\",\"type\":\"Legend\"}],\"title\":{\"id\":\"176df20b-eed8-4220-a17e-8dd2754022bc\",\"type\":\"Title\"},\"toolbar\":{\"id\":\"9cd8dc88-36c4-47d5-801e-cef7644b35dd\",\"type\":\"Toolbar\"},\"toolbar_location\":null,\"x_range\":{\"id\":\"1fb4df53-7a01-4a32-8b0a-e6b1a9ba86b9\",\"type\":\"Range1d\"},\"x_scale\":{\"id\":\"efd65504-f386-4fca-82d1-581f6ac4ee55\",\"type\":\"LinearScale\"},\"y_range\":{\"id\":\"1cae77c4-7498-45b5-8837-0e2f8e27889c\",\"type\":\"Range1d\"},\"y_scale\":{\"id\":\"695d4f16-e434-42d8-a6a1-2fefab75a55c\",\"type\":\"LogScale\"}},\"id\":\"1a2cd6f0-5a74-4789-8231-bca488299331\",\"subtype\":\"Figure\",\"type\":\"Plot\"},{\"attributes\":{\"fill_alpha\":{\"value\":0.1},\"fill_color\":{\"value\":\"#1f77b4\"},\"line_alpha\":{\"value\":0.1},\"line_color\":{\"value\":\"#1f77b4\"},\"x\":{\"field\":\"x\"},\"y\":{\"field\":\"y\"}},\"id\":\"a4608382-b99a-4201-8f46-565c372c1362\",\"type\":\"Circle\"},{\"attributes\":{\"axis_label\":\"pressure [mb]\",\"formatter\":{\"id\":\"5c4864a4-0f77-43b6-96fc-dac369b0278a\",\"type\":\"BasicTickFormatter\"},\"plot\":{\"id\":\"47af5ed9-0062-4b7d-b7d1-a0794900441c\",\"subtype\":\"Figure\",\"type\":\"Plot\"},\"ticker\":{\"id\":\"8a255dc6-bc52-4ac9-9219-5262b60d138e\",\"type\":\"BasicTicker\"}},\"id\":\"59770bac-3cde-483c-8137-ec26dc8a0940\",\"type\":\"LinearAxis\"},{\"attributes\":{\"data_source\":{\"id\":\"e096a7ae-0b18-48b3-bb71-38ee7ac68f53\",\"type\":\"ColumnDataSource\"},\"glyph\":{\"id\":\"4d4fe4e3-c850-4ba0-9847-14b7b397cacb\",\"type\":\"Circle\"},\"hover_glyph\":null,\"muted_glyph\":null,\"nonselection_glyph\":{\"id\":\"a4608382-b99a-4201-8f46-565c372c1362\",\"type\":\"Circle\"},\"selection_glyph\":null,\"view\":{\"id\":\"a5425d1a-caee-4426-a934-71799bfbfda9\",\"type\":\"CDSView\"}},\"id\":\"27f2bb52-3ccc-46ee-840a-bcdff8cb10a5\",\"type\":\"GlyphRenderer\"},{\"attributes\":{\"active_drag\":\"auto\",\"active_inspect\":\"auto\",\"active_scroll\":\"auto\",\"active_tap\":\"auto\",\"tools\":[{\"id\":\"532624e7-b6e7-4c03-93bf-dd0cfb94c7ec\",\"type\":\"PanTool\"},{\"id\":\"efa849cd-f423-4c1d-a5d2-71b8d6c9bf35\",\"type\":\"WheelZoomTool\"},{\"id\":\"f92a6941-f334-41a9-8d9e-7c983ed1e3d6\",\"type\":\"BoxZoomTool\"},{\"id\":\"498126a8-04ed-4379-9900-8bd64c3be431\",\"type\":\"SaveTool\"},{\"id\":\"85b46077-9e97-4882-b562-1a2f7de875c4\",\"type\":\"ResetTool\"},{\"id\":\"7186aa7f-0251-40cc-8016-a249364f3590\",\"type\":\"HelpTool\"}]},\"id\":\"137960ca-148d-4091-9437-50f07f0c8f8b\",\"type\":\"Toolbar\"},{\"attributes\":{\"axis_label\":\"cooling rate [K/day]\",\"formatter\":{\"id\":\"7bdfb261-fdcf-4f24-b2bd-03312c473f0a\",\"type\":\"BasicTickFormatter\"},\"plot\":{\"id\":\"47af5ed9-0062-4b7d-b7d1-a0794900441c\",\"subtype\":\"Figure\",\"type\":\"Plot\"},\"ticker\":{\"id\":\"66eac86f-0f74-4f8a-82e7-bffdb704d108\",\"type\":\"BasicTicker\"}},\"id\":\"53dd57fd-20c7-4481-aa79-2fcdf177416b\",\"type\":\"LinearAxis\"},{\"attributes\":{\"plot\":null,\"text\":\"Linear pressure scale\"},\"id\":\"a43f31b7-512b-477e-ab1d-0391c48945b5\",\"type\":\"Title\"},{\"attributes\":{\"fill_alpha\":{\"value\":0.7},\"fill_color\":{\"value\":\"#4daf4a\"},\"line_alpha\":{\"value\":0.7},\"line_color\":{\"value\":\"#4daf4a\"},\"x\":{\"field\":\"x\"},\"y\":{\"field\":\"y\"}},\"id\":\"c2ac0e97-1684-4367-a01b-dcca0f454d2f\",\"type\":\"Circle\"},{\"attributes\":{\"line_color\":\"#4daf4a\",\"line_width\":1.5,\"x\":{\"field\":\"x\"},\"y\":{\"field\":\"y\"}},\"id\":\"b009401b-5c7c-4bc2-885e-182fd0f5849b\",\"type\":\"Line\"},{\"attributes\":{\"fill_alpha\":{\"value\":0.1},\"fill_color\":{\"value\":\"#1f77b4\"},\"line_alpha\":{\"value\":0.1},\"line_color\":{\"value\":\"#1f77b4\"},\"x\":{\"field\":\"x\"},\"y\":{\"field\":\"y\"}},\"id\":\"e58ba278-f0ef-4516-8580-43cb97565b7d\",\"type\":\"Square\"},{\"attributes\":{\"data_source\":{\"id\":\"655d5579-f988-4d00-8f68-eb0a305b737c\",\"type\":\"ColumnDataSource\"},\"glyph\":{\"id\":\"b009401b-5c7c-4bc2-885e-182fd0f5849b\",\"type\":\"Line\"},\"hover_glyph\":null,\"muted_glyph\":null,\"nonselection_glyph\":{\"id\":\"7cca1e78-7ce9-49af-a12f-65e36a476cbc\",\"type\":\"Line\"},\"selection_glyph\":null,\"view\":{\"id\":\"1974a2e0-5349-4323-a9ec-9a00157b1b35\",\"type\":\"CDSView\"}},\"id\":\"2c250f5b-1f41-40e9-a90f-f9ecfbfecb93\",\"type\":\"GlyphRenderer\"},{\"attributes\":{\"callback\":null,\"data\":{\"x\":{\"__ndarray__\":\"LOZpX3MKND9Vu6pREyM2Pxt2RO9gxTo/UASSzYrPPz/9cDBVmXtCP/ypizkjIUU/m5x/uGfbRz8/LEBUl6hKP3ywKJLigE0/sZHWcW4xUD+W+X2teqFRP7k4W5WM8FI/XrLz8/RDVD+DVsmHZZpVP1JfYYSaaFo/vREjrTQOZT9TehV+kZVxP91iGfpi0Xo/ixuest85gz8KIv+KBGyKP3V97BxtlpE/ZeLk6yPRlj9UH/Teq2WbPzG/mALZuJo/BmqbXDiClT8f5KFhxE2QP+KiB/zpWIg/HNJDTMQ9gj9xEwR7iwh8P3+5izq3LHY/DXnuvwGtcT/taOHQqRRsP3e52TbELGc/rmWdbrMRZD+mNZwmMgJhP3rHmUUw3ls/XQJsFwWHWD94s770+ntXP+hR/4VPRlY/yz7Ks4ucVz++0pc0tvZmP4TGAzpp24M/s2msyqxImD9+nU2ncmOmPyyGv+cGEbE/0/toZp1ZtD+Lc5duWVi3P6z9ne3RG7s/M6PEUzR7vz/MlHsmoC7CPwLIv4Ur1sQ/m57B8Fs+xz9Xch38J6zJPyAfusHMTsw//Z55tbMazz9rq+UQaQLRPyv0h4eshdI/71iNoXPp1D8ZDyF08TPXP8429YlVJtk/ZywWlqq62j9vqM5ZVeXbP/waapBZqNw/lben1LoH3T8NB9cWfQndP9xEkPdoudw/AKrZf3Qc3D/1ovKGZiTbP0kiJKD8vNk/hCFZXdry1z+Af0qVKPvVP0vmWN5VD9Q/Fvb23zFZ0j/3QMgFqQzRP/3dtzGofNE/\",\"dtype\":\"float64\",\"shape\":[75]},\"y\":{\"__ndarray__\":\"GhExyth1ND/Sv8nbtpRIP2vylNV0PVE/aTum7souWD/At0SJ8fVgPw3Iuahxymc/MSNhhJWvcD/bTfBN02d3P2zb5nxnaoA/CD5h5MAGhz8NmeH1TyaQP+zrCsc9p5Y/LbKd76fGnz/bLW5ISEmmPww9YvTcQq8/JV2OstnstT8Er5Y7M8G+P0c+r3jqkcU/5h99k6ZBzj88bCIzFzjVP4enV8oyxN0//yH99nXg5D8qOpLLf0jtP5kqGJXUifQ/c9cS8kHP/D+/DpwzojQEQIEmwoanVwxA4lgXt9HgE0BSSZ2AJuIbQAMJih9jjiNA5q4l5INuK0AwTKYKRj0zQNv5fmq8/DpAaCJseHrtQkB/+zpwzoxKQM3MzMzMeFJAZmZmZmZqWEAAAAAAAFxeQM3MzMzMJmJAmpmZmZkfZUBmZmZmZhhoQDMzMzMzEWtAAAAAAAAKbkBmZmZmZoFwQM3MzMzM/XFAMzMzMzN6c0CamZmZmfZ0QAAAAAAAc3ZAZmZmZmbvd0DNzMzMzGt5QDMzMzMz6HpAmpmZmZlkfEAAAAAAAOF9QGZmZmZmXX9AZmZmZuZsgECamZmZGSuBQM3MzMxM6YFAAAAAAICngkAzMzMzs2WDQGZmZmbmI4RAmpmZmRnihEDNzMzMTKCFQAAAAACAXoZAMzMzM7Mch0BmZmZm5tqHQJqZmZkZmYhAzczMzExXiUAAAAAAgBWKQDMzMzOz04pAZmZmZuaRi0CamZmZGVCMQM3MzMxMDo1AAAAAAIDMjUAzMzMzs4qOQGZmZmbmSI9A\",\"dtype\":\"float64\",\"shape\":[75]}},\"selected\":{\"id\":\"2b71cc6c-612e-4756-bb2a-44d05dd551f2\",\"type\":\"Selection\"},\"selection_policy\":{\"id\":\"a4d4178f-7e74-4f70-b4ac-07f8fc63a6ca\",\"type\":\"UnionRenderers\"}},\"id\":\"ba225ef5-bd9d-4800-88f8-49115a3a014a\",\"type\":\"ColumnDataSource\"},{\"attributes\":{\"line_alpha\":0.1,\"line_color\":\"#1f77b4\",\"line_width\":1.5,\"x\":{\"field\":\"x\"},\"y\":{\"field\":\"y\"}},\"id\":\"7123b62f-ffe8-4364-86a2-9628cf0e2a6e\",\"type\":\"Line\"},{\"attributes\":{\"data_source\":{\"id\":\"ba225ef5-bd9d-4800-88f8-49115a3a014a\",\"type\":\"ColumnDataSource\"},\"glyph\":{\"id\":\"5d092a65-e737-4c1b-b662-bda527a30e23\",\"type\":\"Line\"},\"hover_glyph\":null,\"muted_glyph\":null,\"nonselection_glyph\":{\"id\":\"7123b62f-ffe8-4364-86a2-9628cf0e2a6e\",\"type\":\"Line\"},\"selection_glyph\":null,\"view\":{\"id\":\"9715e0a1-cf6c-4e8e-82c4-3af8d316949b\",\"type\":\"CDSView\"}},\"id\":\"89cde348-40c4-4ce8-b061-84b9f91e48dc\",\"type\":\"GlyphRenderer\"},{\"attributes\":{\"line_alpha\":0.1,\"line_color\":\"#1f77b4\",\"line_width\":1.5,\"x\":{\"field\":\"x\"},\"y\":{\"field\":\"y\"}},\"id\":\"7cca1e78-7ce9-49af-a12f-65e36a476cbc\",\"type\":\"Line\"},{\"attributes\":{\"source\":{\"id\":\"ba225ef5-bd9d-4800-88f8-49115a3a014a\",\"type\":\"ColumnDataSource\"}},\"id\":\"9715e0a1-cf6c-4e8e-82c4-3af8d316949b\",\"type\":\"CDSView\"},{\"attributes\":{},\"id\":\"7186aa7f-0251-40cc-8016-a249364f3590\",\"type\":\"HelpTool\"},{\"attributes\":{\"fill_alpha\":{\"value\":0.7},\"fill_color\":{\"value\":\"#984ea3\"},\"line_alpha\":{\"value\":0.7},\"line_color\":{\"value\":\"#984ea3\"},\"x\":{\"field\":\"x\"},\"y\":{\"field\":\"y\"}},\"id\":\"f2794aa3-72a8-4ccf-9b91-5a9351015984\",\"type\":\"Square\"},{\"attributes\":{\"data_source\":{\"id\":\"569896d1-76ec-4b83-a162-bd3c230b923e\",\"type\":\"ColumnDataSource\"},\"glyph\":{\"id\":\"385ce4be-a728-4e0e-8895-28710fe3525c\",\"type\":\"Line\"},\"hover_glyph\":null,\"muted_glyph\":null,\"nonselection_glyph\":{\"id\":\"b5aa90b9-58b4-4e7c-aeeb-7727bf8f7cb3\",\"type\":\"Line\"},\"selection_glyph\":null,\"view\":{\"id\":\"803fa2f3-7163-4759-8d65-804451a397c5\",\"type\":\"CDSView\"}},\"id\":\"e0b410b3-4258-4901-8f56-31f66b133e05\",\"type\":\"GlyphRenderer\"},{\"attributes\":{\"data_source\":{\"id\":\"cc5aed5b-2b33-4c89-bef1-4941838c314b\",\"type\":\"ColumnDataSource\"},\"glyph\":{\"id\":\"bc2af0ec-bf48-4879-972a-f86c24fb693a\",\"type\":\"Line\"},\"hover_glyph\":null,\"muted_glyph\":null,\"nonselection_glyph\":{\"id\":\"556e0918-eba1-4e58-a11c-079e959e292f\",\"type\":\"Line\"},\"selection_glyph\":null,\"view\":{\"id\":\"b3cbb5bf-7ac2-4ff3-a492-297b3fb397db\",\"type\":\"CDSView\"}},\"id\":\"0635b3ce-8e53-4d13-84ed-6f3f3b5a1b61\",\"type\":\"GlyphRenderer\"},{\"attributes\":{\"line_alpha\":0.6,\"line_color\":\"#e41a1c\",\"line_dash\":[6],\"line_width\":5,\"x\":{\"field\":\"x\"},\"y\":{\"field\":\"y\"}},\"id\":\"385ce4be-a728-4e0e-8895-28710fe3525c\",\"type\":\"Line\"},{\"attributes\":{\"line_alpha\":0.6,\"line_color\":\"#984ea3\",\"line_width\":3,\"x\":{\"field\":\"x\"},\"y\":{\"field\":\"y\"}},\"id\":\"bc2af0ec-bf48-4879-972a-f86c24fb693a\",\"type\":\"Line\"},{\"attributes\":{\"overlay\":{\"id\":\"6bada04a-4ba6-4296-8932-a4205ea25cb5\",\"type\":\"BoxAnnotation\"}},\"id\":\"f92a6941-f334-41a9-8d9e-7c983ed1e3d6\",\"type\":\"BoxZoomTool\"},{\"attributes\":{\"source\":{\"id\":\"cc5aed5b-2b33-4c89-bef1-4941838c314b\",\"type\":\"ColumnDataSource\"}},\"id\":\"b3cbb5bf-7ac2-4ff3-a492-297b3fb397db\",\"type\":\"CDSView\"},{\"attributes\":{\"children\":[{\"id\":\"47af5ed9-0062-4b7d-b7d1-a0794900441c\",\"subtype\":\"Figure\",\"type\":\"Plot\"},{\"id\":\"1a2cd6f0-5a74-4789-8231-bca488299331\",\"subtype\":\"Figure\",\"type\":\"Plot\"}]},\"id\":\"88c326ba-57b9-496b-b209-d7cd15407a29\",\"type\":\"Row\"},{\"attributes\":{},\"id\":\"85b46077-9e97-4882-b562-1a2f7de875c4\",\"type\":\"ResetTool\"},{\"attributes\":{},\"id\":\"fdbe14ad-0bcb-4a7f-9f3d-daed1608ccf3\",\"type\":\"BasicTickFormatter\"},{\"attributes\":{\"label\":{\"value\":\"CLIRAD `coolr_bands`\"},\"renderers\":[{\"id\":\"706bc9b7-ae40-402e-b008-1629973bef01\",\"type\":\"GlyphRenderer\"}]},\"id\":\"573d0dc6-4ae3-4609-908f-830e897aba9f\",\"type\":\"LegendItem\"},{\"attributes\":{\"fill_alpha\":{\"value\":0.7},\"fill_color\":{\"value\":\"#984ea3\"},\"line_alpha\":{\"value\":0.7},\"line_color\":{\"value\":\"#984ea3\"},\"x\":{\"field\":\"x\"},\"y\":{\"field\":\"y\"}},\"id\":\"cfaa828b-55ef-495d-a930-4bc771868bb3\",\"type\":\"Square\"},{\"attributes\":{},\"id\":\"025854dc-5247-41c6-838c-8007bcd6a9d2\",\"type\":\"Selection\"},{\"attributes\":{\"label\":{\"value\":\"CRD\"},\"renderers\":[{\"id\":\"c870adcf-081c-43b4-9349-02915ca98142\",\"type\":\"GlyphRenderer\"},{\"id\":\"89cde348-40c4-4ce8-b061-84b9f91e48dc\",\"type\":\"GlyphRenderer\"}]},\"id\":\"0674c520-112c-434c-af1a-bbb3eba8e22a\",\"type\":\"LegendItem\"},{\"attributes\":{},\"id\":\"532624e7-b6e7-4c03-93bf-dd0cfb94c7ec\",\"type\":\"PanTool\"},{\"attributes\":{},\"id\":\"55d337cb-612b-424e-b62f-a1de763c39fa\",\"type\":\"Selection\"},{\"attributes\":{},\"id\":\"498126a8-04ed-4379-9900-8bd64c3be431\",\"type\":\"SaveTool\"},{\"attributes\":{\"label\":{\"value\":\"WGT igg=10 wgt_flux=2\"},\"renderers\":[{\"id\":\"0c35b6f7-1a90-414a-9e4e-66324577e056\",\"type\":\"GlyphRenderer\"},{\"id\":\"0635b3ce-8e53-4d13-84ed-6f3f3b5a1b61\",\"type\":\"GlyphRenderer\"}]},\"id\":\"a2960fc2-0e27-4fa7-9fbe-9b5055e718ee\",\"type\":\"LegendItem\"},{\"attributes\":{},\"id\":\"7119c320-5508-4772-92e7-5132135189bd\",\"type\":\"UnionRenderers\"},{\"attributes\":{},\"id\":\"efa849cd-f423-4c1d-a5d2-71b8d6c9bf35\",\"type\":\"WheelZoomTool\"},{\"attributes\":{},\"id\":\"7bdfb261-fdcf-4f24-b2bd-03312c473f0a\",\"type\":\"BasicTickFormatter\"},{\"attributes\":{},\"id\":\"5c4864a4-0f77-43b6-96fc-dac369b0278a\",\"type\":\"BasicTickFormatter\"},{\"attributes\":{},\"id\":\"752f7cef-40e8-454c-a67f-a9e969d9ccf2\",\"type\":\"Selection\"},{\"attributes\":{},\"id\":\"aaf7b320-85fb-4427-856b-15a519c87e67\",\"type\":\"Selection\"},{\"attributes\":{\"ticker\":null},\"id\":\"8df19e72-b2c7-4f91-a83e-efff99d00640\",\"type\":\"LogTickFormatter\"},{\"attributes\":{\"line_alpha\":0.1,\"line_color\":\"#1f77b4\",\"line_dash\":[6],\"line_width\":5,\"x\":{\"field\":\"x\"},\"y\":{\"field\":\"y\"}},\"id\":\"b5aa90b9-58b4-4e7c-aeeb-7727bf8f7cb3\",\"type\":\"Line\"},{\"attributes\":{},\"id\":\"c056dc08-e97f-4bda-952d-0e5ce31be8ae\",\"type\":\"UnionRenderers\"},{\"attributes\":{},\"id\":\"80e5a183-138c-4936-83f0-24126a12676d\",\"type\":\"UnionRenderers\"},{\"attributes\":{\"source\":{\"id\":\"e096a7ae-0b18-48b3-bb71-38ee7ac68f53\",\"type\":\"ColumnDataSource\"}},\"id\":\"a5425d1a-caee-4426-a934-71799bfbfda9\",\"type\":\"CDSView\"},{\"attributes\":{},\"id\":\"bd30189e-08d2-4f11-a276-fa9db89e5397\",\"type\":\"Selection\"},{\"attributes\":{},\"id\":\"2328b274-1076-4b72-aa87-c0bc49d6f56f\",\"type\":\"UnionRenderers\"},{\"attributes\":{\"callback\":null,\"data\":{\"x\":{\"__ndarray__\":\"LOZpX3MKND9Vu6pREyM2Pxt2RO9gxTo/UASSzYrPPz/9cDBVmXtCP/ypizkjIUU/m5x/uGfbRz8/LEBUl6hKP3ywKJLigE0/sZHWcW4xUD+W+X2teqFRP7k4W5WM8FI/XrLz8/RDVD+DVsmHZZpVP1JfYYSaaFo/vREjrTQOZT9TehV+kZVxP91iGfpi0Xo/ixuest85gz8KIv+KBGyKP3V97BxtlpE/ZeLk6yPRlj9UH/Teq2WbPzG/mALZuJo/BmqbXDiClT8f5KFhxE2QP+KiB/zpWIg/HNJDTMQ9gj9xEwR7iwh8P3+5izq3LHY/DXnuvwGtcT/taOHQqRRsP3e52TbELGc/rmWdbrMRZD+mNZwmMgJhP3rHmUUw3ls/XQJsFwWHWD94s770+ntXP+hR/4VPRlY/yz7Ks4ucVz++0pc0tvZmP4TGAzpp24M/s2msyqxImD9+nU2ncmOmPyyGv+cGEbE/0/toZp1ZtD+Lc5duWVi3P6z9ne3RG7s/M6PEUzR7vz/MlHsmoC7CPwLIv4Ur1sQ/m57B8Fs+xz9Xch38J6zJPyAfusHMTsw//Z55tbMazz9rq+UQaQLRPyv0h4eshdI/71iNoXPp1D8ZDyF08TPXP8429YlVJtk/ZywWlqq62j9vqM5ZVeXbP/waapBZqNw/lben1LoH3T8NB9cWfQndP9xEkPdoudw/AKrZf3Qc3D/1ovKGZiTbP0kiJKD8vNk/hCFZXdry1z+Af0qVKPvVP0vmWN5VD9Q/Fvb23zFZ0j/3QMgFqQzRP/3dtzGofNE/\",\"dtype\":\"float64\",\"shape\":[75]},\"y\":{\"__ndarray__\":\"GhExyth1ND/Sv8nbtpRIP2vylNV0PVE/aTum7souWD/At0SJ8fVgPw3Iuahxymc/MSNhhJWvcD/bTfBN02d3P2zb5nxnaoA/CD5h5MAGhz8NmeH1TyaQP+zrCsc9p5Y/LbKd76fGnz/bLW5ISEmmPww9YvTcQq8/JV2OstnstT8Er5Y7M8G+P0c+r3jqkcU/5h99k6ZBzj88bCIzFzjVP4enV8oyxN0//yH99nXg5D8qOpLLf0jtP5kqGJXUifQ/c9cS8kHP/D+/DpwzojQEQIEmwoanVwxA4lgXt9HgE0BSSZ2AJuIbQAMJih9jjiNA5q4l5INuK0AwTKYKRj0zQNv5fmq8/DpAaCJseHrtQkB/+zpwzoxKQM3MzMzMeFJAZmZmZmZqWEAAAAAAAFxeQM3MzMzMJmJAmpmZmZkfZUBmZmZmZhhoQDMzMzMzEWtAAAAAAAAKbkBmZmZmZoFwQM3MzMzM/XFAMzMzMzN6c0CamZmZmfZ0QAAAAAAAc3ZAZmZmZmbvd0DNzMzMzGt5QDMzMzMz6HpAmpmZmZlkfEAAAAAAAOF9QGZmZmZmXX9AZmZmZuZsgECamZmZGSuBQM3MzMxM6YFAAAAAAICngkAzMzMzs2WDQGZmZmbmI4RAmpmZmRnihEDNzMzMTKCFQAAAAACAXoZAMzMzM7Mch0BmZmZm5tqHQJqZmZkZmYhAzczMzExXiUAAAAAAgBWKQDMzMzOz04pAZmZmZuaRi0CamZmZGVCMQM3MzMxMDo1AAAAAAIDMjUAzMzMzs4qOQGZmZmbmSI9A\",\"dtype\":\"float64\",\"shape\":[75]}},\"selected\":{\"id\":\"025854dc-5247-41c6-838c-8007bcd6a9d2\",\"type\":\"Selection\"},\"selection_policy\":{\"id\":\"793a92ff-8504-43c4-91e4-2db7bc7cb491\",\"type\":\"UnionRenderers\"}},\"id\":\"e096a7ae-0b18-48b3-bb71-38ee7ac68f53\",\"type\":\"ColumnDataSource\"},{\"attributes\":{},\"id\":\"51433817-9a0d-4189-ab98-62dcfddfeef9\",\"type\":\"UnionRenderers\"},{\"attributes\":{\"data_source\":{\"id\":\"7ef133a0-73c7-450a-8def-214df77d3d51\",\"type\":\"ColumnDataSource\"},\"glyph\":{\"id\":\"bd641c72-fd56-4d8a-b2fc-39496cb641a1\",\"type\":\"Line\"},\"hover_glyph\":null,\"muted_glyph\":null,\"nonselection_glyph\":{\"id\":\"0f66ad42-2156-4c25-9ca1-5cb1758f1279\",\"type\":\"Line\"},\"selection_glyph\":null,\"view\":{\"id\":\"0691d1af-6f77-4feb-94a9-96a35a84b5b3\",\"type\":\"CDSView\"}},\"id\":\"775389af-84d3-4a80-958f-6b7e9ac82622\",\"type\":\"GlyphRenderer\"},{\"attributes\":{},\"id\":\"798ac2a6-c344-42ef-932a-b71db98c5a34\",\"type\":\"HelpTool\"},{\"attributes\":{\"source\":{\"id\":\"7ef133a0-73c7-450a-8def-214df77d3d51\",\"type\":\"ColumnDataSource\"}},\"id\":\"0691d1af-6f77-4feb-94a9-96a35a84b5b3\",\"type\":\"CDSView\"},{\"attributes\":{\"num_minor_ticks\":10},\"id\":\"0d5025d5-7117-4297-94be-7284a856c52d\",\"type\":\"LogTicker\"},{\"attributes\":{},\"id\":\"0bd5d6ca-0eb7-4cf0-8ce6-213b8eaa91ca\",\"type\":\"BasicTicker\"},{\"attributes\":{},\"id\":\"1ff342b2-dbca-4e0f-833e-a84abd401286\",\"type\":\"SaveTool\"},{\"attributes\":{\"source\":{\"id\":\"958b4c14-50c2-410e-881f-4223077d092c\",\"type\":\"ColumnDataSource\"}},\"id\":\"bf71ff1d-9637-41d1-811e-01ac657a4073\",\"type\":\"CDSView\"},{\"attributes\":{\"line_alpha\":0.6,\"line_color\":\"#984ea3\",\"line_width\":3,\"x\":{\"field\":\"x\"},\"y\":{\"field\":\"y\"}},\"id\":\"bd641c72-fd56-4d8a-b2fc-39496cb641a1\",\"type\":\"Line\"},{\"attributes\":{\"callback\":null,\"data\":{\"x\":{\"__ndarray__\":\"SWM1q2oSQj+ZAhjy8utCPzwClYP3A0U/6dGhxbNMRz+cstEGh61JPzhAg95fE0w/lk1rvUaJTj+cFJRQtIlQP8X4VG7S2lE/SSs4a0snUz/4cRIY2X1UP7F/1Q+q1VU/NdroLGo7Vz9ntyJPqLlYP5+EzqFaf10/lR7cyJ+5ZT/EWaG9s0xxP6TPHjANnXk/DAL68LQSgj9GbBz/hJqIP8BLvKNrUJA/NBSvuRYllT906GNaMn+ZP2Bpi/iAXpk/pQU1dRAelT9MfwpeDI6QPwWoRrMTWYk/Y8c/05Awgz/pAKCJfTl9P0jWB1bLg3Y/TRKpmpRNcT+Iu+0nrmdqP6TCR05z/mQ/tzkXs6zEYT/feE10ZfFdP+cCX/mG91g//2rbJMmfVj91T8wI8jhWP3/xKqFxjFU/Qsoj1fcxVz/3zg3F7JdmPyGVQ4iKs4M//EjFwHN/mD/fi5Kx862mP/8EixaNNrE/lKfZC0ShtD8fEtElkaq3P/g6OJerBrs/z9ZChs26vj8RRYTGXo7BP7y1xjwpKMQ/lNyXMUmlxj+Q63yrCB/JP7fd+yt/rss/RvES4zRPzj9oRbsG7ofQP5F3bFApAdI/J2blTF5m1D8rGLL2bMTWP/7CoNDX09g/8CxqNsGB2j/XWl9lvL3bP0Pvud/fjNw/qK+nQ5IA3T/hMJ/kkSXdP3kQsNCVBt0/EKqhA7Ge3D9YD0YmENLbP1AU+1IZgdo/bhWBxU+02D+I8AqMQabWP4g9ysJJkNQ/DvYzCTSz0j+mj5tOFUfRP5g67rU1ldE/\",\"dtype\":\"float64\",\"shape\":[75]},\"y\":{\"__ndarray__\":\"GhExyth1ND/Sv8nbtpRIP2vylNV0PVE/aTum7souWD/At0SJ8fVgPw3Iuahxymc/MSNhhJWvcD/bTfBN02d3P2zb5nxnaoA/CD5h5MAGhz8NmeH1TyaQP+zrCsc9p5Y/LbKd76fGnz/bLW5ISEmmPww9YvTcQq8/JV2OstnstT8Er5Y7M8G+P0c+r3jqkcU/5h99k6ZBzj88bCIzFzjVP4enV8oyxN0//yH99nXg5D8qOpLLf0jtP5kqGJXUifQ/c9cS8kHP/D+/DpwzojQEQIEmwoanVwxA4lgXt9HgE0BSSZ2AJuIbQAMJih9jjiNA5q4l5INuK0AwTKYKRj0zQNv5fmq8/DpAaCJseHrtQkB/+zpwzoxKQM3MzMzMeFJAZmZmZmZqWEAAAAAAAFxeQM3MzMzMJmJAmpmZmZkfZUBmZmZmZhhoQDMzMzMzEWtAAAAAAAAKbkBmZmZmZoFwQM3MzMzM/XFAMzMzMzN6c0CamZmZmfZ0QAAAAAAAc3ZAZmZmZmbvd0DNzMzMzGt5QDMzMzMz6HpAmpmZmZlkfEAAAAAAAOF9QGZmZmZmXX9AZmZmZuZsgECamZmZGSuBQM3MzMxM6YFAAAAAAICngkAzMzMzs2WDQGZmZmbmI4RAmpmZmRnihEDNzMzMTKCFQAAAAACAXoZAMzMzM7Mch0BmZmZm5tqHQJqZmZkZmYhAzczMzExXiUAAAAAAgBWKQDMzMzOz04pAZmZmZuaRi0CamZmZGVCMQM3MzMxMDo1AAAAAAIDMjUAzMzMzs4qOQGZmZmbmSI9A\",\"dtype\":\"float64\",\"shape\":[75]}},\"selected\":{\"id\":\"752f7cef-40e8-454c-a67f-a9e969d9ccf2\",\"type\":\"Selection\"},\"selection_policy\":{\"id\":\"2328b274-1076-4b72-aa87-c0bc49d6f56f\",\"type\":\"UnionRenderers\"}},\"id\":\"7ef133a0-73c7-450a-8def-214df77d3d51\",\"type\":\"ColumnDataSource\"},{\"attributes\":{\"dimension\":1,\"plot\":{\"id\":\"1a2cd6f0-5a74-4789-8231-bca488299331\",\"subtype\":\"Figure\",\"type\":\"Plot\"},\"ticker\":{\"id\":\"0d5025d5-7117-4297-94be-7284a856c52d\",\"type\":\"LogTicker\"}},\"id\":\"2c24855f-a175-46d8-85c1-834b69ec3b34\",\"type\":\"Grid\"},{\"attributes\":{\"axis_label\":\"pressure [mb]\",\"formatter\":{\"id\":\"8df19e72-b2c7-4f91-a83e-efff99d00640\",\"type\":\"LogTickFormatter\"},\"plot\":{\"id\":\"1a2cd6f0-5a74-4789-8231-bca488299331\",\"subtype\":\"Figure\",\"type\":\"Plot\"},\"ticker\":{\"id\":\"0d5025d5-7117-4297-94be-7284a856c52d\",\"type\":\"LogTicker\"}},\"id\":\"e84bd95b-24ed-4652-bd77-fa6647da8737\",\"type\":\"LogAxis\"},{\"attributes\":{\"line_alpha\":0.1,\"line_color\":\"#1f77b4\",\"line_width\":3,\"x\":{\"field\":\"x\"},\"y\":{\"field\":\"y\"}},\"id\":\"0f66ad42-2156-4c25-9ca1-5cb1758f1279\",\"type\":\"Line\"},{\"attributes\":{},\"id\":\"efd65504-f386-4fca-82d1-581f6ac4ee55\",\"type\":\"LinearScale\"},{\"attributes\":{\"items\":[{\"id\":\"573d0dc6-4ae3-4609-908f-830e897aba9f\",\"type\":\"LegendItem\"},{\"id\":\"0674c520-112c-434c-af1a-bbb3eba8e22a\",\"type\":\"LegendItem\"},{\"id\":\"a2960fc2-0e27-4fa7-9fbe-9b5055e718ee\",\"type\":\"LegendItem\"}],\"label_text_font_size\":{\"value\":\"8pt\"},\"location\":[10,-30],\"plot\":{\"id\":\"1a2cd6f0-5a74-4789-8231-bca488299331\",\"subtype\":\"Figure\",\"type\":\"Plot\"}},\"id\":\"2b3b549f-7226-4bbb-a508-62cc60e8d615\",\"type\":\"Legend\"},{\"attributes\":{\"callback\":null,\"data\":{\"x\":{\"__ndarray__\":\"AIgQtVVtRz8mpOykHzlIPx49Nouvhko/UQnZvNHLTD8v6T5LcRpPP3hv3loTu1A/NwmVKFHwUT+pIRFmmCtTPyjSGM2MblQ/coIrouO4VT9Rv8EWuA5XPy+7Smc+aFg/J4GAhg3HWT9IcDsmJj5bP7LOmXGx4l8/l7fR5tIdZz+nfdGn1+JxPz9/Rtc4I3o/u88NJxJHgj8YhHO/o8OIP8PSRMgOZJA/eqxTxG1dlT/0Rw6UuOeZPxL27SQi/Jk/8Ti05MvtlT/h2YPox2GRPzkNHpSat4o/yU9Q6ewUhD9VcZz4R+99P86aKl8hQXY/kTEo50xZcD/Dn3xZFcNnP3QhqDTI/2E/9ZnHa+sRXT8S7nS04WFXPzhiPyHBqFI/2S6zn3OdUD94EWQiUl5QPzGGx5N+A1A/mrVoRmWYUT9y/uv6U5NhP9tPrjeW4X8/34ZQWdjJlD+7XiMUHt6jP/9KrxlVkK4/CFUU9ofCsj/rp3EC4hS2P4DPF5TMXrk/PLwIz1unvD8qQdpaul3AP1lD80qjE8M/oiuufUPZxT9uWkKhEpXIP6fbZQELR8s/IAn7dhIRzj8wr0yNCnvQP8NRC4i9DtI/G1kB13id1D8Y3ll50TDXP+4X/bLFf9k/Fhx3rTFm2z8HXm+TOMjcP2iIdIk0u90/G2UedUtd3j8F9MoOVLreP5nigTO+0N4/AYzCiUOR3j9LAlgNV8HdPwDFp4RQM9w/aBhnodf+2T9L4jDBPnTXPxxiF6DI7tQ/fZ+Bw9G20j+QNFWDchPRPzBNbJlnQNE/\",\"dtype\":\"float64\",\"shape\":[75]},\"y\":{\"__ndarray__\":\"S/O/Q+51ND/Sv8nbtpRIP2vylNV0PVE/aTum7souWD/At0SJ8fVgPw3Iuahxymc/MSNhhJWvcD/bTfBN02d3P2zb5nxnaoA/CD5h5MAGhz8NmeH1TyaQP+zrCsc9p5Y/LbKd76fGnz/bLW5ISEmmPww9YvTcQq8/JV2OstnstT8Er5Y7M8G+P0c+r3jqkcU/5h99k6ZBzj88bCIzFzjVP4enV8oyxN0//yH99nXg5D8qOpLLf0jtP5kqGJXUifQ/c9cS8kHP/D+/DpwzojQEQIEmwoanVwxA4lgXt9HgE0BSSZ2AJuIbQAMJih9jjiNA5q4l5INuK0AwTKYKRj0zQNv5fmq8/DpAaCJseHrtQkB/+zpwzoxKQM3MzMzMeFJAZmZmZmZqWEAAAAAAAFxeQM3MzMzMJmJAmpmZmZkfZUBmZmZmZhhoQDMzMzMzEWtAAAAAAAAKbkBmZmZmZoFwQM3MzMzM/XFAMzMzMzN6c0CamZmZmfZ0QAAAAAAAc3ZAZmZmZmbvd0DNzMzMzGt5QDMzMzMz6HpAmpmZmZlkfEAAAAAAAOF9QGZmZmZmXX9AZmZmZuZsgECamZmZGSuBQM3MzMxM6YFAAAAAAICngkAzMzMzs2WDQGZmZmbmI4RAmpmZmRnihEDNzMzMTKCFQAAAAACAXoZAMzMzM7Mch0BmZmZm5tqHQJqZmZkZmYhAzczMzExXiUAAAAAAgBWKQDMzMzOz04pAZmZmZuaRi0CamZmZGVCMQM3MzMxMDo1AAAAAAIDMjUAzMzMzs4qOQGZmZmbmSI9A\",\"dtype\":\"float64\",\"shape\":[75]}},\"selected\":{\"id\":\"bd30189e-08d2-4f11-a276-fa9db89e5397\",\"type\":\"Selection\"},\"selection_policy\":{\"id\":\"51433817-9a0d-4189-ab98-62dcfddfeef9\",\"type\":\"UnionRenderers\"}},\"id\":\"d8118736-6458-4546-a549-0d2ff6f3915c\",\"type\":\"ColumnDataSource\"},{\"attributes\":{\"active_drag\":\"auto\",\"active_inspect\":\"auto\",\"active_scroll\":\"auto\",\"active_tap\":\"auto\",\"tools\":[{\"id\":\"54453efa-be15-4c12-b0ec-b4ed585e1133\",\"type\":\"PanTool\"},{\"id\":\"a9ae1272-0805-4be1-92d2-27b9d2c0a597\",\"type\":\"WheelZoomTool\"},{\"id\":\"171b561e-3c2a-4047-b947-d1db64edcf67\",\"type\":\"BoxZoomTool\"},{\"id\":\"1ff342b2-dbca-4e0f-833e-a84abd401286\",\"type\":\"SaveTool\"},{\"id\":\"c4182eae-889f-4eca-b2d9-3be313d47740\",\"type\":\"ResetTool\"},{\"id\":\"798ac2a6-c344-42ef-932a-b71db98c5a34\",\"type\":\"HelpTool\"}]},\"id\":\"9cd8dc88-36c4-47d5-801e-cef7644b35dd\",\"type\":\"Toolbar\"},{\"attributes\":{},\"id\":\"c4182eae-889f-4eca-b2d9-3be313d47740\",\"type\":\"ResetTool\"},{\"attributes\":{},\"id\":\"695d4f16-e434-42d8-a6a1-2fefab75a55c\",\"type\":\"LogScale\"},{\"attributes\":{\"line_alpha\":0.6,\"line_color\":\"#e41a1c\",\"line_dash\":[6],\"line_width\":5,\"x\":{\"field\":\"x\"},\"y\":{\"field\":\"y\"}},\"id\":\"14ef5da0-a0f9-4eb4-a228-b72c10fd6049\",\"type\":\"Line\"},{\"attributes\":{\"callback\":null,\"end\":0.027012809373599997,\"start\":0.0007196192664},\"id\":\"1fb4df53-7a01-4a32-8b0a-e6b1a9ba86b9\",\"type\":\"Range1d\"},{\"attributes\":{\"data_source\":{\"id\":\"958b4c14-50c2-410e-881f-4223077d092c\",\"type\":\"ColumnDataSource\"},\"glyph\":{\"id\":\"f2794aa3-72a8-4ccf-9b91-5a9351015984\",\"type\":\"Square\"},\"hover_glyph\":null,\"muted_glyph\":null,\"nonselection_glyph\":{\"id\":\"17567259-e48f-4bcc-8e14-410c6947e88e\",\"type\":\"Square\"},\"selection_glyph\":null,\"view\":{\"id\":\"bf71ff1d-9637-41d1-811e-01ac657a4073\",\"type\":\"CDSView\"}},\"id\":\"0c35b6f7-1a90-414a-9e4e-66324577e056\",\"type\":\"GlyphRenderer\"},{\"attributes\":{\"line_alpha\":0.1,\"line_color\":\"#1f77b4\",\"line_dash\":[6],\"line_width\":5,\"x\":{\"field\":\"x\"},\"y\":{\"field\":\"y\"}},\"id\":\"e264d827-76d1-4a58-80f5-a3a73d4d762e\",\"type\":\"Line\"},{\"attributes\":{\"data_source\":{\"id\":\"d8118736-6458-4546-a549-0d2ff6f3915c\",\"type\":\"ColumnDataSource\"},\"glyph\":{\"id\":\"14ef5da0-a0f9-4eb4-a228-b72c10fd6049\",\"type\":\"Line\"},\"hover_glyph\":null,\"muted_glyph\":null,\"nonselection_glyph\":{\"id\":\"e264d827-76d1-4a58-80f5-a3a73d4d762e\",\"type\":\"Line\"},\"selection_glyph\":null,\"view\":{\"id\":\"6ee7696c-09d7-4651-85fe-0f0cada4d323\",\"type\":\"CDSView\"}},\"id\":\"706bc9b7-ae40-402e-b008-1629973bef01\",\"type\":\"GlyphRenderer\"},{\"attributes\":{\"data_source\":{\"id\":\"a36be97b-eee6-424a-b3a3-d860ee5e22ed\",\"type\":\"ColumnDataSource\"},\"glyph\":{\"id\":\"cfaa828b-55ef-495d-a930-4bc771868bb3\",\"type\":\"Square\"},\"hover_glyph\":null,\"muted_glyph\":null,\"nonselection_glyph\":{\"id\":\"e58ba278-f0ef-4516-8580-43cb97565b7d\",\"type\":\"Square\"},\"selection_glyph\":null,\"view\":{\"id\":\"66f255e3-4b20-443b-939a-02368d139710\",\"type\":\"CDSView\"}},\"id\":\"95316f43-05bb-4ff3-8e75-d1a8c4b14efc\",\"type\":\"GlyphRenderer\"},{\"attributes\":{},\"id\":\"54453efa-be15-4c12-b0ec-b4ed585e1133\",\"type\":\"PanTool\"},{\"attributes\":{\"callback\":null,\"data\":{\"x\":{\"__ndarray__\":\"SWM1q2oSQj+ZAhjy8utCPzwClYP3A0U/6dGhxbNMRz+cstEGh61JPzhAg95fE0w/lk1rvUaJTj+cFJRQtIlQP8X4VG7S2lE/SSs4a0snUz/4cRIY2X1UP7F/1Q+q1VU/NdroLGo7Vz9ntyJPqLlYP5+EzqFaf10/lR7cyJ+5ZT/EWaG9s0xxP6TPHjANnXk/DAL68LQSgj9GbBz/hJqIP8BLvKNrUJA/NBSvuRYllT906GNaMn+ZP2Bpi/iAXpk/pQU1dRAelT9MfwpeDI6QPwWoRrMTWYk/Y8c/05Awgz/pAKCJfTl9P0jWB1bLg3Y/TRKpmpRNcT+Iu+0nrmdqP6TCR05z/mQ/tzkXs6zEYT/feE10ZfFdP+cCX/mG91g//2rbJMmfVj91T8wI8jhWP3/xKqFxjFU/Qsoj1fcxVz/3zg3F7JdmPyGVQ4iKs4M//EjFwHN/mD/fi5Kx862mP/8EixaNNrE/lKfZC0ShtD8fEtElkaq3P/g6OJerBrs/z9ZChs26vj8RRYTGXo7BP7y1xjwpKMQ/lNyXMUmlxj+Q63yrCB/JP7fd+yt/rss/RvES4zRPzj9oRbsG7ofQP5F3bFApAdI/J2blTF5m1D8rGLL2bMTWP/7CoNDX09g/8CxqNsGB2j/XWl9lvL3bP0Pvud/fjNw/qK+nQ5IA3T/hMJ/kkSXdP3kQsNCVBt0/EKqhA7Ge3D9YD0YmENLbP1AU+1IZgdo/bhWBxU+02D+I8AqMQabWP4g9ysJJkNQ/DvYzCTSz0j+mj5tOFUfRP5g67rU1ldE/\",\"dtype\":\"float64\",\"shape\":[75]},\"y\":{\"__ndarray__\":\"GhExyth1ND/Sv8nbtpRIP2vylNV0PVE/aTum7souWD/At0SJ8fVgPw3Iuahxymc/MSNhhJWvcD/bTfBN02d3P2zb5nxnaoA/CD5h5MAGhz8NmeH1TyaQP+zrCsc9p5Y/LbKd76fGnz/bLW5ISEmmPww9YvTcQq8/JV2OstnstT8Er5Y7M8G+P0c+r3jqkcU/5h99k6ZBzj88bCIzFzjVP4enV8oyxN0//yH99nXg5D8qOpLLf0jtP5kqGJXUifQ/c9cS8kHP/D+/DpwzojQEQIEmwoanVwxA4lgXt9HgE0BSSZ2AJuIbQAMJih9jjiNA5q4l5INuK0AwTKYKRj0zQNv5fmq8/DpAaCJseHrtQkB/+zpwzoxKQM3MzMzMeFJAZmZmZmZqWEAAAAAAAFxeQM3MzMzMJmJAmpmZmZkfZUBmZmZmZhhoQDMzMzMzEWtAAAAAAAAKbkBmZmZmZoFwQM3MzMzM/XFAMzMzMzN6c0CamZmZmfZ0QAAAAAAAc3ZAZmZmZmbvd0DNzMzMzGt5QDMzMzMz6HpAmpmZmZlkfEAAAAAAAOF9QGZmZmZmXX9AZmZmZuZsgECamZmZGSuBQM3MzMxM6YFAAAAAAICngkAzMzMzs2WDQGZmZmbmI4RAmpmZmRnihEDNzMzMTKCFQAAAAACAXoZAMzMzM7Mch0BmZmZm5tqHQJqZmZkZmYhAzczMzExXiUAAAAAAgBWKQDMzMzOz04pAZmZmZuaRi0CamZmZGVCMQM3MzMxMDo1AAAAAAIDMjUAzMzMzs4qOQGZmZmbmSI9A\",\"dtype\":\"float64\",\"shape\":[75]}},\"selected\":{\"id\":\"f7c2a7b6-abaa-479f-a35a-048150afb5aa\",\"type\":\"Selection\"},\"selection_policy\":{\"id\":\"24f1acf8-fdd3-4173-bbe0-0e680678b1a5\",\"type\":\"UnionRenderers\"}},\"id\":\"cc5aed5b-2b33-4c89-bef1-4941838c314b\",\"type\":\"ColumnDataSource\"},{\"attributes\":{\"overlay\":{\"id\":\"a33f2f0e-1afd-41be-ab75-16d12f9436e7\",\"type\":\"BoxAnnotation\"}},\"id\":\"171b561e-3c2a-4047-b947-d1db64edcf67\",\"type\":\"BoxZoomTool\"},{\"attributes\":{\"source\":{\"id\":\"569896d1-76ec-4b83-a162-bd3c230b923e\",\"type\":\"ColumnDataSource\"}},\"id\":\"803fa2f3-7163-4759-8d65-804451a397c5\",\"type\":\"CDSView\"},{\"attributes\":{\"callback\":null,\"end\":0.01,\"start\":1020},\"id\":\"1cae77c4-7498-45b5-8837-0e2f8e27889c\",\"type\":\"Range1d\"},{\"attributes\":{\"fill_alpha\":{\"value\":0.1},\"fill_color\":{\"value\":\"#1f77b4\"},\"line_alpha\":{\"value\":0.1},\"line_color\":{\"value\":\"#1f77b4\"},\"x\":{\"field\":\"x\"},\"y\":{\"field\":\"y\"}},\"id\":\"17567259-e48f-4bcc-8e14-410c6947e88e\",\"type\":\"Square\"},{\"attributes\":{},\"id\":\"a9ae1272-0805-4be1-92d2-27b9d2c0a597\",\"type\":\"WheelZoomTool\"},{\"attributes\":{\"bottom_units\":\"screen\",\"fill_alpha\":{\"value\":0.5},\"fill_color\":{\"value\":\"lightgrey\"},\"left_units\":\"screen\",\"level\":\"overlay\",\"line_alpha\":{\"value\":1.0},\"line_color\":{\"value\":\"black\"},\"line_dash\":[4,4],\"line_width\":{\"value\":2},\"plot\":null,\"render_mode\":\"css\",\"right_units\":\"screen\",\"top_units\":\"screen\"},\"id\":\"a33f2f0e-1afd-41be-ab75-16d12f9436e7\",\"type\":\"BoxAnnotation\"},{\"attributes\":{\"source\":{\"id\":\"a36be97b-eee6-424a-b3a3-d860ee5e22ed\",\"type\":\"ColumnDataSource\"}},\"id\":\"66f255e3-4b20-443b-939a-02368d139710\",\"type\":\"CDSView\"},{\"attributes\":{\"plot\":{\"id\":\"1a2cd6f0-5a74-4789-8231-bca488299331\",\"subtype\":\"Figure\",\"type\":\"Plot\"},\"ticker\":{\"id\":\"0bd5d6ca-0eb7-4cf0-8ce6-213b8eaa91ca\",\"type\":\"BasicTicker\"}},\"id\":\"95b82060-3970-4bb0-bad2-2f4ad75bdb7c\",\"type\":\"Grid\"},{\"attributes\":{\"plot\":null,\"text\":\"Log pressure scale\"},\"id\":\"176df20b-eed8-4220-a17e-8dd2754022bc\",\"type\":\"Title\"},{\"attributes\":{\"axis_label\":\"cooling rate [K/day]\",\"formatter\":{\"id\":\"fdbe14ad-0bcb-4a7f-9f3d-daed1608ccf3\",\"type\":\"BasicTickFormatter\"},\"plot\":{\"id\":\"1a2cd6f0-5a74-4789-8231-bca488299331\",\"subtype\":\"Figure\",\"type\":\"Plot\"},\"ticker\":{\"id\":\"0bd5d6ca-0eb7-4cf0-8ce6-213b8eaa91ca\",\"type\":\"BasicTicker\"}},\"id\":\"99ec577c-4522-4a02-935f-ffc6df81c069\",\"type\":\"LinearAxis\"}],\"root_ids\":[\"94ef1732-e8f8-4994-98fc-c3dd2cd611ac\"]},\"title\":\"Bokeh Application\",\"version\":\"0.12.16\"}};\n",
       "  var render_items = [{\"docid\":\"5cecd78e-cf71-4860-8702-3cbd4f7d2ef3\",\"elementid\":\"2876e669-ff66-4ad1-bbd4-404d3a75c867\",\"modelid\":\"94ef1732-e8f8-4994-98fc-c3dd2cd611ac\"}];\n",
       "  root.Bokeh.embed.embed_items_notebook(docs_json, render_items);\n",
       "\n",
       "  }\n",
       "  if (root.Bokeh !== undefined) {\n",
       "    embed_document(root);\n",
       "  } else {\n",
       "    var attempts = 0;\n",
       "    var timer = setInterval(function(root) {\n",
       "      if (root.Bokeh !== undefined) {\n",
       "        embed_document(root);\n",
       "        clearInterval(timer);\n",
       "      }\n",
       "      attempts++;\n",
       "      if (attempts > 100) {\n",
       "        console.log(\"Bokeh: ERROR: Unable to run BokehJS code because BokehJS library is missing\")\n",
       "        clearInterval(timer);\n",
       "      }\n",
       "    }, 10, root)\n",
       "  }\n",
       "})(window);"
      ],
      "application/vnd.bokehjs_exec.v0+json": ""
     },
     "metadata": {
      "application/vnd.bokehjs_exec.v0+json": {
       "id": "94ef1732-e8f8-4994-98fc-c3dd2cd611ac"
      }
     },
     "output_type": "display_data"
    },
    {
     "name": "stdout",
     "output_type": "stream",
     "text": [
      "FIGURE. Cooling rate profiles.\n"
     ]
    },
    {
     "data": {
      "text/html": [
       "<a id=\"Flux_Comparison\"></a>"
      ],
      "text/plain": [
       "<IPython.core.display.HTML object>"
      ]
     },
     "metadata": {},
     "output_type": "display_data"
    },
    {
     "data": {
      "text/markdown": [
       "# Flux Comparison"
      ],
      "text/plain": [
       "<IPython.core.display.Markdown object>"
      ]
     },
     "metadata": {},
     "output_type": "display_data"
    },
    {
     "data": {
      "text/html": [
       "<div>\n",
       "<style scoped>\n",
       "    .dataframe tbody tr th:only-of-type {\n",
       "        vertical-align: middle;\n",
       "    }\n",
       "\n",
       "    .dataframe tbody tr th {\n",
       "        vertical-align: top;\n",
       "    }\n",
       "\n",
       "    .dataframe thead th {\n",
       "        text-align: right;\n",
       "    }\n",
       "</style>\n",
       "<table border=\"1\" class=\"dataframe\">\n",
       "  <thead>\n",
       "    <tr style=\"text-align: right;\">\n",
       "      <th></th>\n",
       "      <th></th>\n",
       "      <th>flug</th>\n",
       "      <th>fldg</th>\n",
       "      <th>fnetg</th>\n",
       "    </tr>\n",
       "    <tr>\n",
       "      <th>pressure</th>\n",
       "      <th>level</th>\n",
       "      <th></th>\n",
       "      <th></th>\n",
       "      <th></th>\n",
       "    </tr>\n",
       "  </thead>\n",
       "  <tbody>\n",
       "    <tr>\n",
       "      <th>0.0000</th>\n",
       "      <th>1</th>\n",
       "      <td>-29.471371</td>\n",
       "      <td>0.000000</td>\n",
       "      <td>-29.471371</td>\n",
       "    </tr>\n",
       "    <tr>\n",
       "      <th>1.0685</th>\n",
       "      <th>24</th>\n",
       "      <td>-29.471083</td>\n",
       "      <td>0.001921</td>\n",
       "      <td>-29.469162</td>\n",
       "    </tr>\n",
       "    <tr>\n",
       "      <th>1013.0000</th>\n",
       "      <th>76</th>\n",
       "      <td>-36.235408</td>\n",
       "      <td>32.486003</td>\n",
       "      <td>-3.749405</td>\n",
       "    </tr>\n",
       "  </tbody>\n",
       "</table>\n",
       "</div>"
      ],
      "text/plain": [
       "                      flug       fldg      fnetg\n",
       "pressure  level                                 \n",
       "0.0000    1     -29.471371   0.000000 -29.471371\n",
       "1.0685    24    -29.471083   0.001921 -29.469162\n",
       "1013.0000 76    -36.235408  32.486003  -3.749405"
      ]
     },
     "metadata": {},
     "output_type": "display_data"
    },
    {
     "name": "stdout",
     "output_type": "stream",
     "text": [
      "Table. Fluxes. CRD\n"
     ]
    },
    {
     "data": {
      "text/html": [
       "<div>\n",
       "<style scoped>\n",
       "    .dataframe tbody tr th:only-of-type {\n",
       "        vertical-align: middle;\n",
       "    }\n",
       "\n",
       "    .dataframe tbody tr th {\n",
       "        vertical-align: top;\n",
       "    }\n",
       "\n",
       "    .dataframe thead th {\n",
       "        text-align: right;\n",
       "    }\n",
       "</style>\n",
       "<table border=\"1\" class=\"dataframe\">\n",
       "  <thead>\n",
       "    <tr style=\"text-align: right;\">\n",
       "      <th></th>\n",
       "      <th></th>\n",
       "      <th>flug</th>\n",
       "      <th>fldg</th>\n",
       "      <th>fnetg</th>\n",
       "    </tr>\n",
       "    <tr>\n",
       "      <th>pressure</th>\n",
       "      <th>level</th>\n",
       "      <th></th>\n",
       "      <th></th>\n",
       "      <th></th>\n",
       "    </tr>\n",
       "  </thead>\n",
       "  <tbody>\n",
       "    <tr>\n",
       "      <th>0.0000</th>\n",
       "      <th>1</th>\n",
       "      <td>-29.470174</td>\n",
       "      <td>0.000000</td>\n",
       "      <td>-29.470174</td>\n",
       "    </tr>\n",
       "    <tr>\n",
       "      <th>1.0685</th>\n",
       "      <th>24</th>\n",
       "      <td>-29.469816</td>\n",
       "      <td>0.001700</td>\n",
       "      <td>-29.468116</td>\n",
       "    </tr>\n",
       "    <tr>\n",
       "      <th>1013.0000</th>\n",
       "      <th>76</th>\n",
       "      <td>-36.235408</td>\n",
       "      <td>32.496542</td>\n",
       "      <td>-3.738867</td>\n",
       "    </tr>\n",
       "  </tbody>\n",
       "</table>\n",
       "</div>"
      ],
      "text/plain": [
       "                      flug       fldg      fnetg\n",
       "pressure  level                                 \n",
       "0.0000    1     -29.470174   0.000000 -29.470174\n",
       "1.0685    24    -29.469816   0.001700 -29.468116\n",
       "1013.0000 76    -36.235408  32.496542  -3.738867"
      ]
     },
     "metadata": {},
     "output_type": "display_data"
    },
    {
     "name": "stdout",
     "output_type": "stream",
     "text": [
      "Table. Fluxes. WGT igg=10 wgt_flux=1\n"
     ]
    },
    {
     "data": {
      "text/html": [
       "<div>\n",
       "<style scoped>\n",
       "    .dataframe tbody tr th:only-of-type {\n",
       "        vertical-align: middle;\n",
       "    }\n",
       "\n",
       "    .dataframe tbody tr th {\n",
       "        vertical-align: top;\n",
       "    }\n",
       "\n",
       "    .dataframe thead th {\n",
       "        text-align: right;\n",
       "    }\n",
       "</style>\n",
       "<table border=\"1\" class=\"dataframe\">\n",
       "  <thead>\n",
       "    <tr style=\"text-align: right;\">\n",
       "      <th></th>\n",
       "      <th></th>\n",
       "      <th>flug</th>\n",
       "      <th>fldg</th>\n",
       "      <th>fnetg</th>\n",
       "    </tr>\n",
       "    <tr>\n",
       "      <th>pressure</th>\n",
       "      <th>level</th>\n",
       "      <th></th>\n",
       "      <th></th>\n",
       "      <th></th>\n",
       "    </tr>\n",
       "  </thead>\n",
       "  <tbody>\n",
       "    <tr>\n",
       "      <th>1.000000e-08</th>\n",
       "      <th>1</th>\n",
       "      <td>-29.569379</td>\n",
       "      <td>0.000002</td>\n",
       "      <td>-29.569377</td>\n",
       "    </tr>\n",
       "    <tr>\n",
       "      <th>1.068500e+00</th>\n",
       "      <th>24</th>\n",
       "      <td>-29.568971</td>\n",
       "      <td>0.001678</td>\n",
       "      <td>-29.567292</td>\n",
       "    </tr>\n",
       "    <tr>\n",
       "      <th>1.013000e+03</th>\n",
       "      <th>76</th>\n",
       "      <td>-36.235410</td>\n",
       "      <td>32.900975</td>\n",
       "      <td>-3.334435</td>\n",
       "    </tr>\n",
       "  </tbody>\n",
       "</table>\n",
       "</div>"
      ],
      "text/plain": [
       "                         flug       fldg      fnetg\n",
       "pressure     level                                 \n",
       "1.000000e-08 1     -29.569379   0.000002 -29.569377\n",
       "1.068500e+00 24    -29.568971   0.001678 -29.567292\n",
       "1.013000e+03 76    -36.235410  32.900975  -3.334435"
      ]
     },
     "metadata": {},
     "output_type": "display_data"
    },
    {
     "name": "stdout",
     "output_type": "stream",
     "text": [
      "Table. Fluxes. CLIRAD\n"
     ]
    },
    {
     "data": {
      "text/html": [
       "<div>\n",
       "<style scoped>\n",
       "    .dataframe tbody tr th:only-of-type {\n",
       "        vertical-align: middle;\n",
       "    }\n",
       "\n",
       "    .dataframe tbody tr th {\n",
       "        vertical-align: top;\n",
       "    }\n",
       "\n",
       "    .dataframe thead th {\n",
       "        text-align: right;\n",
       "    }\n",
       "</style>\n",
       "<table border=\"1\" class=\"dataframe\">\n",
       "  <thead>\n",
       "    <tr style=\"text-align: right;\">\n",
       "      <th></th>\n",
       "      <th></th>\n",
       "      <th>flug</th>\n",
       "      <th>fldg</th>\n",
       "      <th>fnetg</th>\n",
       "    </tr>\n",
       "    <tr>\n",
       "      <th>pressure</th>\n",
       "      <th>level</th>\n",
       "      <th></th>\n",
       "      <th></th>\n",
       "      <th></th>\n",
       "    </tr>\n",
       "  </thead>\n",
       "  <tbody>\n",
       "    <tr>\n",
       "      <th>0.0000</th>\n",
       "      <th>1</th>\n",
       "      <td>1.197008e-03</td>\n",
       "      <td>0.000000</td>\n",
       "      <td>0.001197</td>\n",
       "    </tr>\n",
       "    <tr>\n",
       "      <th>1.0685</th>\n",
       "      <th>24</th>\n",
       "      <td>1.267342e-03</td>\n",
       "      <td>-0.000221</td>\n",
       "      <td>0.001046</td>\n",
       "    </tr>\n",
       "    <tr>\n",
       "      <th>1013.0000</th>\n",
       "      <th>76</th>\n",
       "      <td>-8.700000e-08</td>\n",
       "      <td>0.010539</td>\n",
       "      <td>0.010539</td>\n",
       "    </tr>\n",
       "  </tbody>\n",
       "</table>\n",
       "</div>"
      ],
      "text/plain": [
       "                         flug      fldg     fnetg\n",
       "pressure  level                                  \n",
       "0.0000    1      1.197008e-03  0.000000  0.001197\n",
       "1.0685    24     1.267342e-03 -0.000221  0.001046\n",
       "1013.0000 76    -8.700000e-08  0.010539  0.010539"
      ]
     },
     "metadata": {},
     "output_type": "display_data"
    },
    {
     "name": "stdout",
     "output_type": "stream",
     "text": [
      "Table. Fluxes. (WGT igg=10 wgt_flux=1) - (CRD)\n"
     ]
    },
    {
     "data": {
      "text/html": [
       "<div>\n",
       "<style scoped>\n",
       "    .dataframe tbody tr th:only-of-type {\n",
       "        vertical-align: middle;\n",
       "    }\n",
       "\n",
       "    .dataframe tbody tr th {\n",
       "        vertical-align: top;\n",
       "    }\n",
       "\n",
       "    .dataframe thead th {\n",
       "        text-align: right;\n",
       "    }\n",
       "</style>\n",
       "<table border=\"1\" class=\"dataframe\">\n",
       "  <thead>\n",
       "    <tr style=\"text-align: right;\">\n",
       "      <th></th>\n",
       "      <th></th>\n",
       "      <th>flug</th>\n",
       "      <th>fldg</th>\n",
       "      <th>fnetg</th>\n",
       "    </tr>\n",
       "    <tr>\n",
       "      <th>pressure</th>\n",
       "      <th>level</th>\n",
       "      <th></th>\n",
       "      <th></th>\n",
       "      <th></th>\n",
       "    </tr>\n",
       "  </thead>\n",
       "  <tbody>\n",
       "    <tr>\n",
       "      <th>0.0000</th>\n",
       "      <th>1</th>\n",
       "      <td>-0.098008</td>\n",
       "      <td>0.000002</td>\n",
       "      <td>-0.098006</td>\n",
       "    </tr>\n",
       "    <tr>\n",
       "      <th>1.0685</th>\n",
       "      <th>24</th>\n",
       "      <td>-0.097888</td>\n",
       "      <td>-0.000243</td>\n",
       "      <td>-0.098130</td>\n",
       "    </tr>\n",
       "    <tr>\n",
       "      <th>1013.0000</th>\n",
       "      <th>76</th>\n",
       "      <td>-0.000002</td>\n",
       "      <td>0.414972</td>\n",
       "      <td>0.414970</td>\n",
       "    </tr>\n",
       "  </tbody>\n",
       "</table>\n",
       "</div>"
      ],
      "text/plain": [
       "                     flug      fldg     fnetg\n",
       "pressure  level                              \n",
       "0.0000    1     -0.098008  0.000002 -0.098006\n",
       "1.0685    24    -0.097888 -0.000243 -0.098130\n",
       "1013.0000 76    -0.000002  0.414972  0.414970"
      ]
     },
     "metadata": {},
     "output_type": "display_data"
    },
    {
     "name": "stdout",
     "output_type": "stream",
     "text": [
      "Table. Fluxes. (CLIRAD) - (CRD)\n"
     ]
    },
    {
     "data": {
      "text/html": [
       "<a id=\"Best-fit_Parameters\"></a>"
      ],
      "text/plain": [
       "<IPython.core.display.HTML object>"
      ]
     },
     "metadata": {},
     "output_type": "display_data"
    },
    {
     "data": {
      "text/markdown": [
       "# Best-fit Parameters"
      ],
      "text/plain": [
       "<IPython.core.display.Markdown object>"
      ]
     },
     "metadata": {},
     "output_type": "display_data"
    },
    {
     "name": "stdout",
     "output_type": "stream",
     "text": [
      "Best-fit values for each (gas, band)\n",
      "------------------------------------\n",
      "o h2o band3a\n",
      "  atmpro = mls\n",
      "  band = 3a\n",
      "  commitnumber = a06b618\n",
      "  conc = None\n",
      "  dv = 0.001\n",
      "  klin = 0\n",
      "  molecule = h2o\n",
      "  ng_adju = [0, 0]\n",
      "  ng_refs = [2, 6]\n",
      "  nv = 1000\n",
      "  option_compute_btable = 0\n",
      "  option_compute_ktable = 1\n",
      "  option_wgt_flux = 1\n",
      "  option_wgt_k = 1\n",
      "  ref_pts = [(10, 250), (600, 250)]\n",
      "  tsfc = 294\n",
      "  vmax = 620\n",
      "  vmin = 540\n",
      "  w_diffuse = [(1.9, 1.7), (1.4, 1.4, 1.4, 1.55, 1.6, 1.66)]\n",
      "  wgt = [(0.7, 0.7), (0.7, 0.5, 0.5, 0.5, 0.5, 0.5)]\n"
     ]
    }
   ],
   "source": [
    "script()"
   ]
  },
  {
   "cell_type": "code",
   "execution_count": 13,
   "metadata": {
    "collapsed": true
   },
   "outputs": [
    {
     "data": {
      "text/html": [
       "<script>\n",
       "code_show=true; \n",
       "function code_toggle() {\n",
       " if (code_show){\n",
       " $('div.input').hide();\n",
       " } else {\n",
       " $('div.input').show();\n",
       " }\n",
       " code_show = !code_show\n",
       "} \n",
       "$( document ).ready(code_toggle);\n",
       "</script>\n",
       "<form action=\"javascript:code_toggle()\"><input type=\"submit\" value=\"Click here to toggle on/off the raw code.\"></form>"
      ],
      "text/plain": [
       "<IPython.core.display.HTML object>"
      ]
     },
     "execution_count": 13,
     "metadata": {},
     "output_type": "execute_result"
    }
   ],
   "source": [
    "display.HTML('''<script>\n",
    "code_show=true; \n",
    "function code_toggle() {\n",
    " if (code_show){\n",
    " $('div.input').hide();\n",
    " } else {\n",
    " $('div.input').show();\n",
    " }\n",
    " code_show = !code_show\n",
    "} \n",
    "$( document ).ready(code_toggle);\n",
    "</script>\n",
    "<form action=\"javascript:code_toggle()\"><input type=\"submit\" value=\"Click here to toggle on/off the raw code.\"></form>''')"
   ]
  }
 ],
 "metadata": {
  "kernelspec": {
   "display_name": "Python 3",
   "language": "python",
   "name": "python3"
  },
  "language_info": {
   "codemirror_mode": {
    "name": "ipython",
    "version": 3
   },
   "file_extension": ".py",
   "mimetype": "text/x-python",
   "name": "python",
   "nbconvert_exporter": "python",
   "pygments_lexer": "ipython3",
   "version": "3.6.1"
  }
 },
 "nbformat": 4,
 "nbformat_minor": 2
}
