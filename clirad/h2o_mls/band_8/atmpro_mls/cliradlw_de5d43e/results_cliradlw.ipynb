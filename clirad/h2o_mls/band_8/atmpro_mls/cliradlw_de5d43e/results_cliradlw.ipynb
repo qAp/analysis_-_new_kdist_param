{
 "cells": [
  {
   "cell_type": "code",
   "execution_count": 1,
   "metadata": {
    "collapsed": true
   },
   "outputs": [],
   "source": [
    "%matplotlib inline\n",
    "import os\n",
    "import re\n",
    "import io\n",
    "import itertools\n",
    "import pprint\n",
    "\n",
    "from bokeh.io import output_notebook, show\n",
    "from bokeh.layouts import gridplot\n",
    "from bokeh.plotting import figure\n",
    "from bokeh.models import Range1d, Legend\n",
    "from bokeh.palettes import all_palettes\n",
    "\n",
    "import matplotlib\n",
    "import matplotlib.pyplot as plt\n",
    "import numpy as np\n",
    "import pandas as pd\n",
    "import xarray as xr\n",
    "\n",
    "import climatools.lblnew.bestfit_params as bestfits\n",
    "from climatools.lblnew import setup_bestfit, setup_overlap\n",
    "import climatools.lblnew.pipeline as pipe_lblnew\n",
    "import climatools.cliradlw.setup as setup_cliradlw\n",
    "import climatools.cliradlw.pipeline as pipe_cliradlw\n",
    "\n",
    "import climatools.html.html as climahtml\n",
    "from climatools.lblnew.dataio import *\n",
    "from climatools.plot.plot import *\n",
    "\n",
    "\n",
    "import IPython.display as display"
   ]
  },
  {
   "cell_type": "code",
   "execution_count": 2,
   "metadata": {
    "collapsed": true
   },
   "outputs": [],
   "source": [
    "%run param.py"
   ]
  },
  {
   "cell_type": "code",
   "execution_count": 3,
   "metadata": {
    "collapsed": true
   },
   "outputs": [],
   "source": [
    "def load_output_file(path_csv):\n",
    "    '''\n",
    "    Load lblnew output .csv file to xarray.Dataset\n",
    "    \n",
    "    Parameters\n",
    "    ----------\n",
    "    path_csv: str\n",
    "              Path to the .csv file to be loaded.\n",
    "    ds: xarray.Dataset\n",
    "        Data in the input file in the form of an xarray.Dataset.\n",
    "    '''\n",
    "    toindex = ['band', 'pressure', 'igg', 'g']    \n",
    "    df = pd.read_csv(path_csv, sep=r'\\s+')\n",
    "    df = df.set_index([i for i in toindex if i in df.columns])\n",
    "    df = df.rename(columns={'sfu': 'flug',\n",
    "                            'sfd': 'fldg',\n",
    "                            'fnet': 'fnetg',\n",
    "                            'coolr': 'coolrg'})\n",
    "    ds = xr.Dataset.from_dataframe(df)\n",
    "\n",
    "    for l in ('level', 'layer'):\n",
    "        if l in ds.data_vars:\n",
    "            if len(ds[l].dims) > 1:\n",
    "                surface = {d: 0 for d in ds.dims if d != 'pressure'}\n",
    "                coord_level = ds[l][surface]\n",
    "                ds.coords[l] = ('pressure', coord_level)\n",
    "            else:\n",
    "                ds.coords[l] = ('pressure', ds[l])\n",
    "    \n",
    "    return ds"
   ]
  },
  {
   "cell_type": "code",
   "execution_count": 4,
   "metadata": {
    "collapsed": true
   },
   "outputs": [],
   "source": [
    "def lblnew_setup(param=None):\n",
    "    if 'ng_refs' in param:\n",
    "        return {'setup': setup_bestfit,\n",
    "                'fname_flux_crd': 'output_flux.dat',\n",
    "                'fname_cool_crd': 'output_coolr.dat',\n",
    "                'fname_flux_wgt': 'output_wfluxg.dat',\n",
    "                'fname_cool_wgt': 'output_wcoolrg.dat'}\n",
    "    else:\n",
    "        return {'setup': setup_overlap,\n",
    "                'fname_flux_crd': 'output_flux.dat',\n",
    "                'fname_cool_crd': 'output_coolr.dat',\n",
    "                'fname_flux_wgt': 'output_wflux.dat',\n",
    "                'fname_cool_wgt': 'output_wcoolr.dat'}\n",
    "\n",
    "    \n",
    "def load_lblnew_data(param):\n",
    "    \n",
    "    fname_dsname = [('fname_flux_crd', 'ds_flux_crd'),\n",
    "                    ('fname_cool_crd', 'ds_cool_crd'),\n",
    "                    ('fname_flux_wgt', 'ds_flux_wgt'),\n",
    "                    ('fname_cool_wgt', 'ds_cool_wgt')]\n",
    "    \n",
    "    d = lblnew_setup(param)\n",
    "    dir_fortran = pipe_lblnew.get_dir_case(param, setup=d['setup'])\n",
    "    \n",
    "    data_dict = {}\n",
    "    for fname, dsname in fname_dsname:\n",
    "        fpath = os.path.join(dir_fortran, d[fname])\n",
    "        data_dict[dsname] = load_output_file(fpath)\n",
    "    return data_dict\n",
    "    \n",
    "\n",
    "    \n",
    "    "
   ]
  },
  {
   "cell_type": "code",
   "execution_count": 5,
   "metadata": {
    "collapsed": true
   },
   "outputs": [],
   "source": [
    "d = load_lblnew_data(PARAM_LBLNEW)\n",
    "\n",
    "DS_FLUX_CRD = d['ds_flux_crd']\n",
    "DS_COOL_CRD = d['ds_cool_crd']\n",
    "DS_FLUX_WGT = d['ds_flux_wgt']\n",
    "DS_COOL_WGT = d['ds_cool_wgt']"
   ]
  },
  {
   "cell_type": "code",
   "execution_count": 6,
   "metadata": {
    "collapsed": true
   },
   "outputs": [],
   "source": [
    "DIR_FORTRAN = pipe_cliradlw.get_fortran_dir(PARAM, \n",
    "                                            setup=setup_cliradlw)\n",
    "\n",
    "PATH_FLUX = os.path.join(DIR_FORTRAN, 'output_flux.dat')\n",
    "PATH_COOL = os.path.join(DIR_FORTRAN, 'output_coolr.dat')\n",
    "\n",
    "DS_FLUX = load_output_file(PATH_FLUX)\n",
    "DS_COOL = load_output_file(PATH_COOL)"
   ]
  },
  {
   "cell_type": "code",
   "execution_count": 7,
   "metadata": {
    "collapsed": true
   },
   "outputs": [
    {
     "data": {
      "text/html": [
       "\n",
       "    <div class=\"bk-root\">\n",
       "        <a href=\"https://bokeh.pydata.org\" target=\"_blank\" class=\"bk-logo bk-logo-small bk-logo-notebook\"></a>\n",
       "        <span id=\"0bccc0db-c081-48ca-8e98-dd97f4ae90d6\">Loading BokehJS ...</span>\n",
       "    </div>"
      ]
     },
     "metadata": {},
     "output_type": "display_data"
    },
    {
     "data": {
      "application/javascript": [
       "\n",
       "(function(root) {\n",
       "  function now() {\n",
       "    return new Date();\n",
       "  }\n",
       "\n",
       "  var force = true;\n",
       "\n",
       "  if (typeof (root._bokeh_onload_callbacks) === \"undefined\" || force === true) {\n",
       "    root._bokeh_onload_callbacks = [];\n",
       "    root._bokeh_is_loading = undefined;\n",
       "  }\n",
       "\n",
       "  var JS_MIME_TYPE = 'application/javascript';\n",
       "  var HTML_MIME_TYPE = 'text/html';\n",
       "  var EXEC_MIME_TYPE = 'application/vnd.bokehjs_exec.v0+json';\n",
       "  var CLASS_NAME = 'output_bokeh rendered_html';\n",
       "\n",
       "  /**\n",
       "   * Render data to the DOM node\n",
       "   */\n",
       "  function render(props, node) {\n",
       "    var script = document.createElement(\"script\");\n",
       "    node.appendChild(script);\n",
       "  }\n",
       "\n",
       "  /**\n",
       "   * Handle when an output is cleared or removed\n",
       "   */\n",
       "  function handleClearOutput(event, handle) {\n",
       "    var cell = handle.cell;\n",
       "\n",
       "    var id = cell.output_area._bokeh_element_id;\n",
       "    var server_id = cell.output_area._bokeh_server_id;\n",
       "    // Clean up Bokeh references\n",
       "    if (id !== undefined) {\n",
       "      Bokeh.index[id].model.document.clear();\n",
       "      delete Bokeh.index[id];\n",
       "    }\n",
       "\n",
       "    if (server_id !== undefined) {\n",
       "      // Clean up Bokeh references\n",
       "      var cmd = \"from bokeh.io.state import curstate; print(curstate().uuid_to_server['\" + server_id + \"'].get_sessions()[0].document.roots[0]._id)\";\n",
       "      cell.notebook.kernel.execute(cmd, {\n",
       "        iopub: {\n",
       "          output: function(msg) {\n",
       "            var element_id = msg.content.text.trim();\n",
       "            Bokeh.index[element_id].model.document.clear();\n",
       "            delete Bokeh.index[element_id];\n",
       "          }\n",
       "        }\n",
       "      });\n",
       "      // Destroy server and session\n",
       "      var cmd = \"import bokeh.io.notebook as ion; ion.destroy_server('\" + server_id + \"')\";\n",
       "      cell.notebook.kernel.execute(cmd);\n",
       "    }\n",
       "  }\n",
       "\n",
       "  /**\n",
       "   * Handle when a new output is added\n",
       "   */\n",
       "  function handleAddOutput(event, handle) {\n",
       "    var output_area = handle.output_area;\n",
       "    var output = handle.output;\n",
       "\n",
       "    // limit handleAddOutput to display_data with EXEC_MIME_TYPE content only\n",
       "    if ((output.output_type != \"display_data\") || (!output.data.hasOwnProperty(EXEC_MIME_TYPE))) {\n",
       "      return\n",
       "    }\n",
       "\n",
       "    var toinsert = output_area.element.find(\".\" + CLASS_NAME.split(' ')[0]);\n",
       "\n",
       "    if (output.metadata[EXEC_MIME_TYPE][\"id\"] !== undefined) {\n",
       "      toinsert[toinsert.length - 1].firstChild.textContent = output.data[JS_MIME_TYPE];\n",
       "      // store reference to embed id on output_area\n",
       "      output_area._bokeh_element_id = output.metadata[EXEC_MIME_TYPE][\"id\"];\n",
       "    }\n",
       "    if (output.metadata[EXEC_MIME_TYPE][\"server_id\"] !== undefined) {\n",
       "      var bk_div = document.createElement(\"div\");\n",
       "      bk_div.innerHTML = output.data[HTML_MIME_TYPE];\n",
       "      var script_attrs = bk_div.children[0].attributes;\n",
       "      for (var i = 0; i < script_attrs.length; i++) {\n",
       "        toinsert[toinsert.length - 1].firstChild.setAttribute(script_attrs[i].name, script_attrs[i].value);\n",
       "      }\n",
       "      // store reference to server id on output_area\n",
       "      output_area._bokeh_server_id = output.metadata[EXEC_MIME_TYPE][\"server_id\"];\n",
       "    }\n",
       "  }\n",
       "\n",
       "  function register_renderer(events, OutputArea) {\n",
       "\n",
       "    function append_mime(data, metadata, element) {\n",
       "      // create a DOM node to render to\n",
       "      var toinsert = this.create_output_subarea(\n",
       "        metadata,\n",
       "        CLASS_NAME,\n",
       "        EXEC_MIME_TYPE\n",
       "      );\n",
       "      this.keyboard_manager.register_events(toinsert);\n",
       "      // Render to node\n",
       "      var props = {data: data, metadata: metadata[EXEC_MIME_TYPE]};\n",
       "      render(props, toinsert[toinsert.length - 1]);\n",
       "      element.append(toinsert);\n",
       "      return toinsert\n",
       "    }\n",
       "\n",
       "    /* Handle when an output is cleared or removed */\n",
       "    events.on('clear_output.CodeCell', handleClearOutput);\n",
       "    events.on('delete.Cell', handleClearOutput);\n",
       "\n",
       "    /* Handle when a new output is added */\n",
       "    events.on('output_added.OutputArea', handleAddOutput);\n",
       "\n",
       "    /**\n",
       "     * Register the mime type and append_mime function with output_area\n",
       "     */\n",
       "    OutputArea.prototype.register_mime_type(EXEC_MIME_TYPE, append_mime, {\n",
       "      /* Is output safe? */\n",
       "      safe: true,\n",
       "      /* Index of renderer in `output_area.display_order` */\n",
       "      index: 0\n",
       "    });\n",
       "  }\n",
       "\n",
       "  // register the mime type if in Jupyter Notebook environment and previously unregistered\n",
       "  if (root.Jupyter !== undefined) {\n",
       "    var events = require('base/js/events');\n",
       "    var OutputArea = require('notebook/js/outputarea').OutputArea;\n",
       "\n",
       "    if (OutputArea.prototype.mime_types().indexOf(EXEC_MIME_TYPE) == -1) {\n",
       "      register_renderer(events, OutputArea);\n",
       "    }\n",
       "  }\n",
       "\n",
       "  \n",
       "  if (typeof (root._bokeh_timeout) === \"undefined\" || force === true) {\n",
       "    root._bokeh_timeout = Date.now() + 5000;\n",
       "    root._bokeh_failed_load = false;\n",
       "  }\n",
       "\n",
       "  var NB_LOAD_WARNING = {'data': {'text/html':\n",
       "     \"<div style='background-color: #fdd'>\\n\"+\n",
       "     \"<p>\\n\"+\n",
       "     \"BokehJS does not appear to have successfully loaded. If loading BokehJS from CDN, this \\n\"+\n",
       "     \"may be due to a slow or bad network connection. Possible fixes:\\n\"+\n",
       "     \"</p>\\n\"+\n",
       "     \"<ul>\\n\"+\n",
       "     \"<li>re-rerun `output_notebook()` to attempt to load from CDN again, or</li>\\n\"+\n",
       "     \"<li>use INLINE resources instead, as so:</li>\\n\"+\n",
       "     \"</ul>\\n\"+\n",
       "     \"<code>\\n\"+\n",
       "     \"from bokeh.resources import INLINE\\n\"+\n",
       "     \"output_notebook(resources=INLINE)\\n\"+\n",
       "     \"</code>\\n\"+\n",
       "     \"</div>\"}};\n",
       "\n",
       "  function display_loaded() {\n",
       "    var el = document.getElementById(\"0bccc0db-c081-48ca-8e98-dd97f4ae90d6\");\n",
       "    if (el != null) {\n",
       "      el.textContent = \"BokehJS is loading...\";\n",
       "    }\n",
       "    if (root.Bokeh !== undefined) {\n",
       "      if (el != null) {\n",
       "        el.textContent = \"BokehJS \" + root.Bokeh.version + \" successfully loaded.\";\n",
       "      }\n",
       "    } else if (Date.now() < root._bokeh_timeout) {\n",
       "      setTimeout(display_loaded, 100)\n",
       "    }\n",
       "  }\n",
       "\n",
       "\n",
       "  function run_callbacks() {\n",
       "    try {\n",
       "      root._bokeh_onload_callbacks.forEach(function(callback) { callback() });\n",
       "    }\n",
       "    finally {\n",
       "      delete root._bokeh_onload_callbacks\n",
       "    }\n",
       "    console.info(\"Bokeh: all callbacks have finished\");\n",
       "  }\n",
       "\n",
       "  function load_libs(js_urls, callback) {\n",
       "    root._bokeh_onload_callbacks.push(callback);\n",
       "    if (root._bokeh_is_loading > 0) {\n",
       "      console.log(\"Bokeh: BokehJS is being loaded, scheduling callback at\", now());\n",
       "      return null;\n",
       "    }\n",
       "    if (js_urls == null || js_urls.length === 0) {\n",
       "      run_callbacks();\n",
       "      return null;\n",
       "    }\n",
       "    console.log(\"Bokeh: BokehJS not loaded, scheduling load and callback at\", now());\n",
       "    root._bokeh_is_loading = js_urls.length;\n",
       "    for (var i = 0; i < js_urls.length; i++) {\n",
       "      var url = js_urls[i];\n",
       "      var s = document.createElement('script');\n",
       "      s.src = url;\n",
       "      s.async = false;\n",
       "      s.onreadystatechange = s.onload = function() {\n",
       "        root._bokeh_is_loading--;\n",
       "        if (root._bokeh_is_loading === 0) {\n",
       "          console.log(\"Bokeh: all BokehJS libraries loaded\");\n",
       "          run_callbacks()\n",
       "        }\n",
       "      };\n",
       "      s.onerror = function() {\n",
       "        console.warn(\"failed to load library \" + url);\n",
       "      };\n",
       "      console.log(\"Bokeh: injecting script tag for BokehJS library: \", url);\n",
       "      document.getElementsByTagName(\"head\")[0].appendChild(s);\n",
       "    }\n",
       "  };var element = document.getElementById(\"0bccc0db-c081-48ca-8e98-dd97f4ae90d6\");\n",
       "  if (element == null) {\n",
       "    console.log(\"Bokeh: ERROR: autoload.js configured with elementid '0bccc0db-c081-48ca-8e98-dd97f4ae90d6' but no matching script tag was found. \")\n",
       "    return false;\n",
       "  }\n",
       "\n",
       "  var js_urls = [\"https://cdn.pydata.org/bokeh/release/bokeh-0.12.16.min.js\", \"https://cdn.pydata.org/bokeh/release/bokeh-widgets-0.12.16.min.js\", \"https://cdn.pydata.org/bokeh/release/bokeh-tables-0.12.16.min.js\", \"https://cdn.pydata.org/bokeh/release/bokeh-gl-0.12.16.min.js\"];\n",
       "\n",
       "  var inline_js = [\n",
       "    function(Bokeh) {\n",
       "      Bokeh.set_log_level(\"info\");\n",
       "    },\n",
       "    \n",
       "    function(Bokeh) {\n",
       "      \n",
       "    },\n",
       "    function(Bokeh) {\n",
       "      console.log(\"Bokeh: injecting CSS: https://cdn.pydata.org/bokeh/release/bokeh-0.12.16.min.css\");\n",
       "      Bokeh.embed.inject_css(\"https://cdn.pydata.org/bokeh/release/bokeh-0.12.16.min.css\");\n",
       "      console.log(\"Bokeh: injecting CSS: https://cdn.pydata.org/bokeh/release/bokeh-widgets-0.12.16.min.css\");\n",
       "      Bokeh.embed.inject_css(\"https://cdn.pydata.org/bokeh/release/bokeh-widgets-0.12.16.min.css\");\n",
       "      console.log(\"Bokeh: injecting CSS: https://cdn.pydata.org/bokeh/release/bokeh-tables-0.12.16.min.css\");\n",
       "      Bokeh.embed.inject_css(\"https://cdn.pydata.org/bokeh/release/bokeh-tables-0.12.16.min.css\");\n",
       "    }\n",
       "  ];\n",
       "\n",
       "  function run_inline_js() {\n",
       "    \n",
       "    if ((root.Bokeh !== undefined) || (force === true)) {\n",
       "      for (var i = 0; i < inline_js.length; i++) {\n",
       "        inline_js[i].call(root, root.Bokeh);\n",
       "      }if (force === true) {\n",
       "        display_loaded();\n",
       "      }} else if (Date.now() < root._bokeh_timeout) {\n",
       "      setTimeout(run_inline_js, 100);\n",
       "    } else if (!root._bokeh_failed_load) {\n",
       "      console.log(\"Bokeh: BokehJS failed to load within specified timeout.\");\n",
       "      root._bokeh_failed_load = true;\n",
       "    } else if (force !== true) {\n",
       "      var cell = $(document.getElementById(\"0bccc0db-c081-48ca-8e98-dd97f4ae90d6\")).parents('.cell').data().cell;\n",
       "      cell.output_area.append_execute_result(NB_LOAD_WARNING)\n",
       "    }\n",
       "\n",
       "  }\n",
       "\n",
       "  if (root._bokeh_is_loading === 0) {\n",
       "    console.log(\"Bokeh: BokehJS loaded, going straight to plotting\");\n",
       "    run_inline_js();\n",
       "  } else {\n",
       "    load_libs(js_urls, function() {\n",
       "      console.log(\"Bokeh: BokehJS plotting callback run at\", now());\n",
       "      run_inline_js();\n",
       "    });\n",
       "  }\n",
       "}(window));"
      ],
      "application/vnd.bokehjs_load.v0+json": "\n(function(root) {\n  function now() {\n    return new Date();\n  }\n\n  var force = true;\n\n  if (typeof (root._bokeh_onload_callbacks) === \"undefined\" || force === true) {\n    root._bokeh_onload_callbacks = [];\n    root._bokeh_is_loading = undefined;\n  }\n\n  \n\n  \n  if (typeof (root._bokeh_timeout) === \"undefined\" || force === true) {\n    root._bokeh_timeout = Date.now() + 5000;\n    root._bokeh_failed_load = false;\n  }\n\n  var NB_LOAD_WARNING = {'data': {'text/html':\n     \"<div style='background-color: #fdd'>\\n\"+\n     \"<p>\\n\"+\n     \"BokehJS does not appear to have successfully loaded. If loading BokehJS from CDN, this \\n\"+\n     \"may be due to a slow or bad network connection. Possible fixes:\\n\"+\n     \"</p>\\n\"+\n     \"<ul>\\n\"+\n     \"<li>re-rerun `output_notebook()` to attempt to load from CDN again, or</li>\\n\"+\n     \"<li>use INLINE resources instead, as so:</li>\\n\"+\n     \"</ul>\\n\"+\n     \"<code>\\n\"+\n     \"from bokeh.resources import INLINE\\n\"+\n     \"output_notebook(resources=INLINE)\\n\"+\n     \"</code>\\n\"+\n     \"</div>\"}};\n\n  function display_loaded() {\n    var el = document.getElementById(\"0bccc0db-c081-48ca-8e98-dd97f4ae90d6\");\n    if (el != null) {\n      el.textContent = \"BokehJS is loading...\";\n    }\n    if (root.Bokeh !== undefined) {\n      if (el != null) {\n        el.textContent = \"BokehJS \" + root.Bokeh.version + \" successfully loaded.\";\n      }\n    } else if (Date.now() < root._bokeh_timeout) {\n      setTimeout(display_loaded, 100)\n    }\n  }\n\n\n  function run_callbacks() {\n    try {\n      root._bokeh_onload_callbacks.forEach(function(callback) { callback() });\n    }\n    finally {\n      delete root._bokeh_onload_callbacks\n    }\n    console.info(\"Bokeh: all callbacks have finished\");\n  }\n\n  function load_libs(js_urls, callback) {\n    root._bokeh_onload_callbacks.push(callback);\n    if (root._bokeh_is_loading > 0) {\n      console.log(\"Bokeh: BokehJS is being loaded, scheduling callback at\", now());\n      return null;\n    }\n    if (js_urls == null || js_urls.length === 0) {\n      run_callbacks();\n      return null;\n    }\n    console.log(\"Bokeh: BokehJS not loaded, scheduling load and callback at\", now());\n    root._bokeh_is_loading = js_urls.length;\n    for (var i = 0; i < js_urls.length; i++) {\n      var url = js_urls[i];\n      var s = document.createElement('script');\n      s.src = url;\n      s.async = false;\n      s.onreadystatechange = s.onload = function() {\n        root._bokeh_is_loading--;\n        if (root._bokeh_is_loading === 0) {\n          console.log(\"Bokeh: all BokehJS libraries loaded\");\n          run_callbacks()\n        }\n      };\n      s.onerror = function() {\n        console.warn(\"failed to load library \" + url);\n      };\n      console.log(\"Bokeh: injecting script tag for BokehJS library: \", url);\n      document.getElementsByTagName(\"head\")[0].appendChild(s);\n    }\n  };var element = document.getElementById(\"0bccc0db-c081-48ca-8e98-dd97f4ae90d6\");\n  if (element == null) {\n    console.log(\"Bokeh: ERROR: autoload.js configured with elementid '0bccc0db-c081-48ca-8e98-dd97f4ae90d6' but no matching script tag was found. \")\n    return false;\n  }\n\n  var js_urls = [\"https://cdn.pydata.org/bokeh/release/bokeh-0.12.16.min.js\", \"https://cdn.pydata.org/bokeh/release/bokeh-widgets-0.12.16.min.js\", \"https://cdn.pydata.org/bokeh/release/bokeh-tables-0.12.16.min.js\", \"https://cdn.pydata.org/bokeh/release/bokeh-gl-0.12.16.min.js\"];\n\n  var inline_js = [\n    function(Bokeh) {\n      Bokeh.set_log_level(\"info\");\n    },\n    \n    function(Bokeh) {\n      \n    },\n    function(Bokeh) {\n      console.log(\"Bokeh: injecting CSS: https://cdn.pydata.org/bokeh/release/bokeh-0.12.16.min.css\");\n      Bokeh.embed.inject_css(\"https://cdn.pydata.org/bokeh/release/bokeh-0.12.16.min.css\");\n      console.log(\"Bokeh: injecting CSS: https://cdn.pydata.org/bokeh/release/bokeh-widgets-0.12.16.min.css\");\n      Bokeh.embed.inject_css(\"https://cdn.pydata.org/bokeh/release/bokeh-widgets-0.12.16.min.css\");\n      console.log(\"Bokeh: injecting CSS: https://cdn.pydata.org/bokeh/release/bokeh-tables-0.12.16.min.css\");\n      Bokeh.embed.inject_css(\"https://cdn.pydata.org/bokeh/release/bokeh-tables-0.12.16.min.css\");\n    }\n  ];\n\n  function run_inline_js() {\n    \n    if ((root.Bokeh !== undefined) || (force === true)) {\n      for (var i = 0; i < inline_js.length; i++) {\n        inline_js[i].call(root, root.Bokeh);\n      }if (force === true) {\n        display_loaded();\n      }} else if (Date.now() < root._bokeh_timeout) {\n      setTimeout(run_inline_js, 100);\n    } else if (!root._bokeh_failed_load) {\n      console.log(\"Bokeh: BokehJS failed to load within specified timeout.\");\n      root._bokeh_failed_load = true;\n    } else if (force !== true) {\n      var cell = $(document.getElementById(\"0bccc0db-c081-48ca-8e98-dd97f4ae90d6\")).parents('.cell').data().cell;\n      cell.output_area.append_execute_result(NB_LOAD_WARNING)\n    }\n\n  }\n\n  if (root._bokeh_is_loading === 0) {\n    console.log(\"Bokeh: BokehJS loaded, going straight to plotting\");\n    run_inline_js();\n  } else {\n    load_libs(js_urls, function() {\n      console.log(\"Bokeh: BokehJS plotting callback run at\", now());\n      run_inline_js();\n    });\n  }\n}(window));"
     },
     "metadata": {},
     "output_type": "display_data"
    }
   ],
   "source": [
    "output_notebook()"
   ]
  },
  {
   "cell_type": "code",
   "execution_count": 8,
   "metadata": {
    "collapsed": true
   },
   "outputs": [],
   "source": [
    "def fmt_cool(ds_in):\n",
    "    ds = ds_in.copy(deep=True)\n",
    "    if 'igg' in ds.dims:\n",
    "        ds = ds.sel(igg=1)\n",
    "\n",
    "    if 'g' in ds.dims:\n",
    "        ds = ds.sum('g')\n",
    "            \n",
    "    if 'band' in ds.dims:\n",
    "        try:\n",
    "            ds = ds.squeeze('band')\n",
    "        except ValueError:\n",
    "            ds = ds.sum('band')\n",
    "                \n",
    "    return ds['coolrg']\n",
    "\n",
    "\n",
    "def pltdata_cooling_1(ds_cool=None,\n",
    "                      ds_cool_crd=None, ds_cool_wgt=None):\n",
    "    \n",
    "\n",
    "\n",
    "    colors = all_palettes['Set1'][4]\n",
    "    data = [{'label': 'CLIRAD `coolr_bands`',\n",
    "             'srs': fmt_cool(ds_cool),\n",
    "             'line_dash': 'dashed', 'line_width': 5,\n",
    "             'color': colors[0], 'alpha': .6},\n",
    "            {'label': 'CRD',\n",
    "             'srs': fmt_cool(ds_cool_crd),\n",
    "             'line_dash': 'solid', 'line_width': 1.5,\n",
    "             'marker': 'circle', 'marker_size': 5,\n",
    "             'color': colors[2], 'alpha': 1,},\n",
    "            {'label': 'WGT igg=10 wgt_flux=2',\n",
    "             'srs': fmt_cool(ds_cool_wgt),\n",
    "             'line_dash': 'solid', 'line_width': 3,\n",
    "             'marker': 'square', 'marker_size': 5,\n",
    "             'color': colors[3], 'alpha': .6}]\n",
    "    return data\n",
    "\n",
    "\n",
    "def nice_xlims(pltdata=None, prange=None):\n",
    "    \n",
    "    def get_slice(srs):\n",
    "        return srs.sel(pressure=slice(*prange))\n",
    "    \n",
    "    srss = [d['srs'] for d in pltdata]\n",
    "    vmin = min([get_slice(srs).min() for srs in srss])\n",
    "    vmax = max([get_slice(srs).max() for srs in srss])\n",
    "    dv = (vmax - vmin) * .01\n",
    "    return float(vmin - dv), float(vmax + dv)\n",
    "    \n",
    "\n",
    "def plt_cooling_bokeh(pltdata=None):\n",
    "    '''\n",
    "    Plot a list of cooling rate profiles using bokeh.\n",
    "    '''\n",
    "    ymin = 1e-2 \n",
    "    ymax = 1020 \n",
    "        \n",
    "    p1 = figure(title=\"Linear pressure scale\", \n",
    "                plot_width=400)        \n",
    "    xmin, xmax = nice_xlims(pltdata, prange=(50, 1050))\n",
    "    for d in pltdata:\n",
    "        if 'marker' in d:\n",
    "            getattr(p1, d['marker'])(d['srs'].values, \n",
    "                    d['srs'].coords['pressure'].values,\n",
    "                    color=d['color'], alpha=.7)\n",
    "        p1.line(d['srs'].values, \n",
    "                d['srs'].coords['pressure'].values,\n",
    "                color=d['color'], alpha=d['alpha'], \n",
    "                line_width=d['line_width'], line_dash=d['line_dash'])\n",
    "    \n",
    "    p1.y_range = Range1d(ymax, ymin)\n",
    "    p1.yaxis.axis_label = 'pressure [mb]'   \n",
    "    p1.x_range = Range1d(xmin, xmax)\n",
    "    p1.xaxis.axis_label = 'cooling rate [K/day]'\n",
    "            \n",
    "    p2 = figure(title='Log pressure scale', y_axis_type='log',\n",
    "                plot_width=560)\n",
    "    xmin, xmax = nice_xlims(pltdata, prange=(.01, 200))\n",
    "    \n",
    "    rs = []\n",
    "    for d in pltdata:\n",
    "        rd = []\n",
    "        if 'marker' in d:\n",
    "            r_mark = getattr(p2, d['marker'])(d['srs'].values, \n",
    "                        d['srs'].coords['pressure'].values,\n",
    "                        color=d['color'], alpha=.7)\n",
    "            rd.append(r_mark)\n",
    "        r_line = p2.line(d['srs'].values, \n",
    "                    d['srs'].coords['pressure'].values,\n",
    "                    color=d['color'], alpha=d['alpha'], \n",
    "                    line_width=d['line_width'], line_dash=d['line_dash'])\n",
    "        rd.append(r_line)\n",
    "      \n",
    "        rs.append(rd)\n",
    "        \n",
    "    p2.y_range = Range1d(ymax, ymin)  \n",
    "    p2.yaxis.axis_label = 'pressure [mb]'\n",
    "    \n",
    "    p2.x_range = Range1d(xmin, xmax)\n",
    "    p2.xaxis.axis_label = 'cooling rate [K/day]'\n",
    "    \n",
    "    items = [(d['label'], r) for r, d in zip(rs, pltdata)]\n",
    "    legend = Legend(items=items, location=(10, -30))\n",
    "    legend.label_text_font_size = '8pt'\n",
    "    \n",
    "    p2.add_layout(legend, 'right')  \n",
    "    \n",
    "    show(gridplot(p1, p2, ncols=2, plot_height=500))\n",
    "    \n",
    "\n",
    "def script_plt_cooling():\n",
    "    pltdata = pltdata_cooling_1(\n",
    "        ds_cool=DS_COOL,\n",
    "        ds_cool_crd=DS_COOL_CRD,\n",
    "        ds_cool_wgt=DS_COOL_WGT)\n",
    "    plt_cooling_bokeh(pltdata=pltdata)\n",
    "    print('''FIGURE. Cooling rate profiles.''')"
   ]
  },
  {
   "cell_type": "code",
   "execution_count": 9,
   "metadata": {
    "collapsed": true
   },
   "outputs": [],
   "source": [
    "def fmt_flux(ds_in):\n",
    "    ds = ds_in.copy(deep=True)\n",
    "    \n",
    "    for l in ('level', 'layer'):\n",
    "        if l in ds.data_vars:\n",
    "            if len(ds[l].dims) > 1:\n",
    "                surface = {d: 0 for d in ds.dims if d != 'pressure'}\n",
    "                coord_level = ds[l][surface]\n",
    "                ds.coords[l] = ('pressure', coord_level)\n",
    "            else:\n",
    "                ds.coords[l] = ('pressure', ds[l])\n",
    "        \n",
    "    ds = ds.isel(pressure=[0, 23, -1])\n",
    "        \n",
    "    if 'igg' in ds.dims:\n",
    "        ds = ds.sel(igg=[1])\n",
    "        ds = ds.squeeze('igg').drop('igg')\n",
    "    \n",
    "    if 'g' in ds.dims:\n",
    "        ds = ds.sum('g')\n",
    "            \n",
    "    if 'band' in ds.dims:\n",
    "        try:\n",
    "            ds = ds.squeeze('band').drop('band')\n",
    "        except ValueError:\n",
    "            ds = ds.sum('band')\n",
    "                \n",
    "    df = ds.to_dataframe()\n",
    "    df = df.set_index('level', append=True)               \n",
    "    return df\n",
    "\n",
    "\n",
    "def tbdata_flux(ds_flux=None, ds_flux_crd=None, ds_flux_wgt=None):\n",
    "    ilevels = [0, 23, -1]\n",
    "            \n",
    "    benchmark = {'label': 'CRD',\n",
    "                 'df': fmt_flux(ds_flux_crd)}\n",
    "    \n",
    "    tbs = [{'label': 'WGT igg=10 wgt_flux=1',\n",
    "            'df': fmt_flux(ds_flux_wgt)},\n",
    "           {'label': 'CLIRAD',\n",
    "            'df': fmt_flux(ds_flux)}]\n",
    "    \n",
    "    data = {'benchmark': benchmark, 'others': tbs}\n",
    "    return data\n",
    "\n",
    "\n",
    "def tb_flux(tbdata=None):\n",
    "    benchmark = tbdata['benchmark']\n",
    "    others = tbdata['others']\n",
    "    \n",
    "    def show_tb(d=None):\n",
    "        display.display(d['df'])\n",
    "        print('Table.', 'Fluxes.', d['label'])\n",
    "        \n",
    "    def show_tbdiff(d0=None, d=None):\n",
    "        df = d['df']\n",
    "        df.index = d0['df'].index\n",
    "        display.display(df - d0['df'])\n",
    "        print('Table.', 'Fluxes.', \n",
    "              '({}) - ({})'.format(d['label'], d0['label']))\n",
    "        \n",
    "    show_tb(benchmark)\n",
    "    for d in others:\n",
    "        show_tb(d)\n",
    "        \n",
    "    for d in others:\n",
    "        show_tbdiff(d=d, d0=benchmark)\n",
    "        \n",
    "        \n",
    "def script_tb_flux():\n",
    "    data = tbdata_flux(ds_flux=DS_FLUX,\n",
    "                       ds_flux_crd=DS_FLUX_CRD,\n",
    "                       ds_flux_wgt=DS_FLUX_WGT)\n",
    "    tb_flux(tbdata=data)"
   ]
  },
  {
   "cell_type": "code",
   "execution_count": 10,
   "metadata": {
    "collapsed": true
   },
   "outputs": [],
   "source": [
    "def band_map():\n",
    "    '''\n",
    "    Maps spectral bands in lblnew to spectral bands in clirad.\n",
    "    '''\n",
    "    lblnew2clirad = {'1': '1',\n",
    "            '2': '2',\n",
    "            '3a': '3',\n",
    "            '3b': '4',\n",
    "            '3c': '5',\n",
    "            '4': '6', \n",
    "            '5': '7',\n",
    "            '6': '8',\n",
    "            '7': '9', \n",
    "            '8': '10',\n",
    "            '9': '11'}\n",
    "    \n",
    "    clirad2lblnew = {clirad: lblnew \n",
    "                     for lblnew, clirad in lblnew2clirad.items()}\n",
    "    return clirad2lblnew\n",
    "\n",
    "\n",
    "def gasbands():\n",
    "    bmap = band_map()\n",
    "    gases = list(PARAM['molecule'].keys())\n",
    "    \n",
    "    bands = [bmap[str(b)] for b in PARAM['band']]\n",
    "    return list(itertools.product(gases, bands))\n",
    "\n",
    "\n",
    "def print_bestfit_params():\n",
    "    print('Best-fit values for each (gas, band)')\n",
    "    print('------------------------------------')\n",
    "    for gas, band in gasbands():\n",
    "        print('o {} band{}'.format(gas, band))\n",
    "        param = bestfits.kdist_params(molecule=gas, band=band)\n",
    "        for name, value in sorted(param.items()):\n",
    "            print(2 * ' ' + '{} = {}'.format(name, value))\n",
    "\n",
    "        \n",
    "def print_input_param():        \n",
    "    for name, value in PARAM.items():\n",
    "        print('{} = {}'.format(name, value))\n",
    "        \n",
    "        \n",
    "def print_lblnew_param():\n",
    "    for name, value in sorted(PARAM_LBLNEW.items()):\n",
    "        print('{} = {}'.format(name, value))\n"
   ]
  },
  {
   "cell_type": "code",
   "execution_count": 11,
   "metadata": {
    "collapsed": true,
    "scrolled": false
   },
   "outputs": [],
   "source": [
    "def show_html(s):\n",
    "    display.display(display.HTML(s))\n",
    "\n",
    "    \n",
    "def show_markdown(s):\n",
    "    display.display(display.Markdown(s))\n",
    "\n",
    "    \n",
    "def script():\n",
    "    \n",
    "    title = '### CLIRAD-LW'\n",
    "    s_input = 'Input Parameters'\n",
    "    s_lblnew_param = 'LBLNEW case compaired against'\n",
    "    s_bestfits = 'Best-fit Parameters'\n",
    "    s_plt_cooling = 'Cooling Rate Profiles'\n",
    "    s_tb_flux = 'Flux Comparison'\n",
    "    \n",
    "    # title\n",
    "    show_markdown('### CLIRAD-LW')\n",
    "    \n",
    "    # TOC\n",
    "    show_markdown('### Table of Contents')\n",
    "    show_html(climahtml.getHTML_hrefanchor(s_input))\n",
    "    show_html(climahtml.getHTML_hrefanchor(s_lblnew_param))\n",
    "    show_html(climahtml.getHTML_hrefanchor(s_plt_cooling))\n",
    "    show_html(climahtml.getHTML_hrefanchor(s_tb_flux))\n",
    "    show_html(climahtml.getHTML_hrefanchor(s_bestfits))\n",
    "    \n",
    "    # Input parameters\n",
    "    show_html(climahtml.getHTML_idanchor(s_input))\n",
    "    show_markdown(climahtml.getMarkdown_sectitle(s_input))\n",
    "    print_input_param()\n",
    "    \n",
    "    # LBLNEW parameters \n",
    "    show_html(climahtml.getHTML_idanchor(s_lblnew_param))\n",
    "    show_markdown(climahtml.getMarkdown_sectitle(s_lblnew_param))\n",
    "    print_lblnew_param()\n",
    "    \n",
    "    # Cooling rate profiles\n",
    "    show_html(climahtml.getHTML_idanchor(s_plt_cooling))\n",
    "    show_markdown(climahtml.getMarkdown_sectitle(s_plt_cooling))\n",
    "    script_plt_cooling()\n",
    "    \n",
    "    # Flux comparison\n",
    "    show_html(climahtml.getHTML_idanchor(s_tb_flux))\n",
    "    show_markdown(climahtml.getMarkdown_sectitle(s_tb_flux))\n",
    "    script_tb_flux()\n",
    "    \n",
    "    # Best-fit values\n",
    "    show_html(climahtml.getHTML_idanchor(s_bestfits))\n",
    "    show_markdown(climahtml.getMarkdown_sectitle(s_bestfits))\n",
    "    print_bestfit_params()\n",
    "   \n",
    "    "
   ]
  },
  {
   "cell_type": "code",
   "execution_count": 12,
   "metadata": {
    "collapsed": true,
    "scrolled": false
   },
   "outputs": [
    {
     "data": {
      "text/markdown": [
       "### CLIRAD-LW"
      ],
      "text/plain": [
       "<IPython.core.display.Markdown object>"
      ]
     },
     "metadata": {},
     "output_type": "display_data"
    },
    {
     "data": {
      "text/markdown": [
       "### Table of Contents"
      ],
      "text/plain": [
       "<IPython.core.display.Markdown object>"
      ]
     },
     "metadata": {},
     "output_type": "display_data"
    },
    {
     "data": {
      "text/html": [
       "<a href=\"#Input_Parameters\">Input Parameters</a>"
      ],
      "text/plain": [
       "<IPython.core.display.HTML object>"
      ]
     },
     "metadata": {},
     "output_type": "display_data"
    },
    {
     "data": {
      "text/html": [
       "<a href=\"#LBLNEW_case_compaired_against\">LBLNEW case compaired against</a>"
      ],
      "text/plain": [
       "<IPython.core.display.HTML object>"
      ]
     },
     "metadata": {},
     "output_type": "display_data"
    },
    {
     "data": {
      "text/html": [
       "<a href=\"#Cooling_Rate_Profiles\">Cooling Rate Profiles</a>"
      ],
      "text/plain": [
       "<IPython.core.display.HTML object>"
      ]
     },
     "metadata": {},
     "output_type": "display_data"
    },
    {
     "data": {
      "text/html": [
       "<a href=\"#Flux_Comparison\">Flux Comparison</a>"
      ],
      "text/plain": [
       "<IPython.core.display.HTML object>"
      ]
     },
     "metadata": {},
     "output_type": "display_data"
    },
    {
     "data": {
      "text/html": [
       "<a href=\"#Best-fit_Parameters\">Best-fit Parameters</a>"
      ],
      "text/plain": [
       "<IPython.core.display.HTML object>"
      ]
     },
     "metadata": {},
     "output_type": "display_data"
    },
    {
     "data": {
      "text/html": [
       "<a id=\"Input_Parameters\"></a>"
      ],
      "text/plain": [
       "<IPython.core.display.HTML object>"
      ]
     },
     "metadata": {},
     "output_type": "display_data"
    },
    {
     "data": {
      "text/markdown": [
       "# Input Parameters"
      ],
      "text/plain": [
       "<IPython.core.display.Markdown object>"
      ]
     },
     "metadata": {},
     "output_type": "display_data"
    },
    {
     "name": "stdout",
     "output_type": "stream",
     "text": [
      "atmpro = mls\n",
      "band = [8]\n",
      "commitnumber = de5d43e\n",
      "molecule = {'h2o': 'atmpro'}\n",
      "tsfc = 294\n"
     ]
    },
    {
     "data": {
      "text/html": [
       "<a id=\"LBLNEW_case_compaired_against\"></a>"
      ],
      "text/plain": [
       "<IPython.core.display.HTML object>"
      ]
     },
     "metadata": {},
     "output_type": "display_data"
    },
    {
     "data": {
      "text/markdown": [
       "# LBLNEW case compaired against"
      ],
      "text/plain": [
       "<IPython.core.display.Markdown object>"
      ]
     },
     "metadata": {},
     "output_type": "display_data"
    },
    {
     "name": "stdout",
     "output_type": "stream",
     "text": [
      "atmpro = mls\n",
      "band = 6\n",
      "commitnumber = 5014a19\n",
      "conc = None\n",
      "dv = 0.001\n",
      "klin = 5e-25\n",
      "molecule = h2o\n",
      "ng_adju = [0]\n",
      "ng_refs = [4]\n",
      "nv = 1000\n",
      "option_compute_btable = 0\n",
      "option_compute_ktable = 0\n",
      "option_wgt_flux = 1\n",
      "option_wgt_k = 1\n",
      "ref_pts = [(600, 250)]\n",
      "tsfc = 294\n",
      "vmax = 1215\n",
      "vmin = 1100\n",
      "w_diffuse = [(1.66, 1.66, 1.7, 1.8)]\n",
      "wgt = [(0.3, 0.45, 0.6, 0.95)]\n"
     ]
    },
    {
     "data": {
      "text/html": [
       "<a id=\"Cooling_Rate_Profiles\"></a>"
      ],
      "text/plain": [
       "<IPython.core.display.HTML object>"
      ]
     },
     "metadata": {},
     "output_type": "display_data"
    },
    {
     "data": {
      "text/markdown": [
       "# Cooling Rate Profiles"
      ],
      "text/plain": [
       "<IPython.core.display.Markdown object>"
      ]
     },
     "metadata": {},
     "output_type": "display_data"
    },
    {
     "data": {
      "text/html": [
       "\n",
       "<div class=\"bk-root\">\n",
       "    <div class=\"bk-plotdiv\" id=\"3173056d-8ef1-4667-9269-dc91b74b8198\"></div>\n",
       "</div>"
      ]
     },
     "metadata": {},
     "output_type": "display_data"
    },
    {
     "data": {
      "application/javascript": [
       "(function(root) {\n",
       "  function embed_document(root) {\n",
       "    \n",
       "  var docs_json = {\"d16b2045-62fa-4b42-851f-24c1b72cd72b\":{\"roots\":{\"references\":[{\"attributes\":{},\"id\":\"55173369-f4c9-4e3c-8352-522c96f341df\",\"type\":\"Selection\"},{\"attributes\":{},\"id\":\"69f8acb7-ea8f-4a4f-b107-8ec90a7ddeb5\",\"type\":\"BasicTicker\"},{\"attributes\":{\"callback\":null,\"data\":{\"x\":{\"__ndarray__\":\"zNUavuRp7b57k+w9M1ntvhtvDNTUMe2+HMKSUgUD7b6JDMNKrM7svt4rQeKVlOy+am87haNU7L7p5JvqiA7svusTs88mwuu+gNnz7FZv676mZbLu5xXrviNNIW+4teq+c/8blJhO6r5vo2G33Njpvim5upHSROi+tlhaYIFF4r5jRBbQ7bnAvnoTKML7q+M+D4cFDriK/D7obWQzbFcMP7Lhi2kXbhg/uyBzK2h3Iz9W4yqi+CIrPwHuQDPN8is/ZmejZmfrJT8u/luT5iQfP6ORXhsc8hQ/I+WVIg6ZCj8kyc/HfXL/PiJQC8cKwu8+Gu9yYbpr0D7+MBfGeg/TvmsZ1nBsdOW+J4Yjazm47b7Vb662xJfyvq9erzIiK/a+aUKt8azG+L5XaWch+eP6vn14LU7hePy+Li6T2zuz/r53pDPFh8wGv0nquLBwLRq/Ifs8RiolJr8MtGPk8OMpvwY7mPNWBBe/EMDSTL57MD962evXpl5KP/eFhndCRFo/3fL4L53FZT8MQAPRiDxwP9KpMLocg3Y/jfToeLgNfT8lHy2H9BiCPy1xYUIvJIY/UvrkbAXdij9oD7VpDzeQP5lhpyrnj5M/ogYxQ9GQmD8R8HXfm2mePwKMWYGpd6I//YABKDENpj/ZPEDaP96pP2w5V/qV360/mzDF4rf/sD+42wnUAB+zPyU2GVhUTbU/5MYcEsSItz9PWNQR6r65P52r4v3B1Ls/wqlztXbGvT8KZ8opcbC/P4kh6yKm3sA/j2dQHxYHwj+2+fgtfmfDP5Oq3pweScU/\",\"dtype\":\"float64\",\"shape\":[75]},\"y\":{\"__ndarray__\":\"GhExyth1ND/Sv8nbtpRIP2vylNV0PVE/aTum7souWD/At0SJ8fVgPw3Iuahxymc/MSNhhJWvcD/bTfBN02d3P2zb5nxnaoA/CD5h5MAGhz8NmeH1TyaQP+zrCsc9p5Y/LbKd76fGnz/bLW5ISEmmPww9YvTcQq8/JV2OstnstT8Er5Y7M8G+P0c+r3jqkcU/5h99k6ZBzj88bCIzFzjVP4enV8oyxN0//yH99nXg5D8qOpLLf0jtP5kqGJXUifQ/c9cS8kHP/D+/DpwzojQEQIEmwoanVwxA4lgXt9HgE0BSSZ2AJuIbQAMJih9jjiNA5q4l5INuK0AwTKYKRj0zQNv5fmq8/DpAaCJseHrtQkB/+zpwzoxKQM3MzMzMeFJAZmZmZmZqWEAAAAAAAFxeQM3MzMzMJmJAmpmZmZkfZUBmZmZmZhhoQDMzMzMzEWtAAAAAAAAKbkBmZmZmZoFwQM3MzMzM/XFAMzMzMzN6c0CamZmZmfZ0QAAAAAAAc3ZAZmZmZmbvd0DNzMzMzGt5QDMzMzMz6HpAmpmZmZlkfEAAAAAAAOF9QGZmZmZmXX9AZmZmZuZsgECamZmZGSuBQM3MzMxM6YFAAAAAAICngkAzMzMzs2WDQGZmZmbmI4RAmpmZmRnihEDNzMzMTKCFQAAAAACAXoZAMzMzM7Mch0BmZmZm5tqHQJqZmZkZmYhAzczMzExXiUAAAAAAgBWKQDMzMzOz04pAZmZmZuaRi0CamZmZGVCMQM3MzMxMDo1AAAAAAIDMjUAzMzMzs4qOQGZmZmbmSI9A\",\"dtype\":\"float64\",\"shape\":[75]}},\"selected\":{\"id\":\"ae96971e-f400-43eb-95d4-f42c3f7b72d1\",\"type\":\"Selection\"},\"selection_policy\":{\"id\":\"6fd232c7-127b-43e5-bee5-16c19d73137d\",\"type\":\"UnionRenderers\"}},\"id\":\"12d37d11-9fde-45cc-9fe0-ac7e8231a91a\",\"type\":\"ColumnDataSource\"},{\"attributes\":{},\"id\":\"6fd232c7-127b-43e5-bee5-16c19d73137d\",\"type\":\"UnionRenderers\"},{\"attributes\":{},\"id\":\"d72288e4-9057-4e2e-bcab-d82afe612df7\",\"type\":\"HelpTool\"},{\"attributes\":{},\"id\":\"ae96971e-f400-43eb-95d4-f42c3f7b72d1\",\"type\":\"Selection\"},{\"attributes\":{\"callback\":null,\"end\":0.000727638885298,\"start\":-5.1120435098e-05},\"id\":\"81b26b57-2a14-468a-9a9d-82f2d585da80\",\"type\":\"Range1d\"},{\"attributes\":{\"callback\":null,\"data\":{\"x\":{\"__ndarray__\":\"zNUavuRp7b57k+w9M1ntvhtvDNTUMe2+HMKSUgUD7b6JDMNKrM7svt4rQeKVlOy+am87haNU7L7p5JvqiA7svusTs88mwuu+gNnz7FZv676mZbLu5xXrviNNIW+4teq+c/8blJhO6r5vo2G33Njpvim5upHSROi+tlhaYIFF4r5jRBbQ7bnAvnoTKML7q+M+D4cFDriK/D7obWQzbFcMP7Lhi2kXbhg/uyBzK2h3Iz9W4yqi+CIrPwHuQDPN8is/ZmejZmfrJT8u/luT5iQfP6ORXhsc8hQ/I+WVIg6ZCj8kyc/HfXL/PiJQC8cKwu8+Gu9yYbpr0D7+MBfGeg/TvmsZ1nBsdOW+J4Yjazm47b7Vb662xJfyvq9erzIiK/a+aUKt8azG+L5XaWch+eP6vn14LU7hePy+Li6T2zuz/r53pDPFh8wGv0nquLBwLRq/Ifs8RiolJr8MtGPk8OMpvwY7mPNWBBe/EMDSTL57MD962evXpl5KP/eFhndCRFo/3fL4L53FZT8MQAPRiDxwP9KpMLocg3Y/jfToeLgNfT8lHy2H9BiCPy1xYUIvJIY/UvrkbAXdij9oD7VpDzeQP5lhpyrnj5M/ogYxQ9GQmD8R8HXfm2mePwKMWYGpd6I//YABKDENpj/ZPEDaP96pP2w5V/qV360/mzDF4rf/sD+42wnUAB+zPyU2GVhUTbU/5MYcEsSItz9PWNQR6r65P52r4v3B1Ls/wqlztXbGvT8KZ8opcbC/P4kh6yKm3sA/j2dQHxYHwj+2+fgtfmfDP5Oq3pweScU/\",\"dtype\":\"float64\",\"shape\":[75]},\"y\":{\"__ndarray__\":\"GhExyth1ND/Sv8nbtpRIP2vylNV0PVE/aTum7souWD/At0SJ8fVgPw3Iuahxymc/MSNhhJWvcD/bTfBN02d3P2zb5nxnaoA/CD5h5MAGhz8NmeH1TyaQP+zrCsc9p5Y/LbKd76fGnz/bLW5ISEmmPww9YvTcQq8/JV2OstnstT8Er5Y7M8G+P0c+r3jqkcU/5h99k6ZBzj88bCIzFzjVP4enV8oyxN0//yH99nXg5D8qOpLLf0jtP5kqGJXUifQ/c9cS8kHP/D+/DpwzojQEQIEmwoanVwxA4lgXt9HgE0BSSZ2AJuIbQAMJih9jjiNA5q4l5INuK0AwTKYKRj0zQNv5fmq8/DpAaCJseHrtQkB/+zpwzoxKQM3MzMzMeFJAZmZmZmZqWEAAAAAAAFxeQM3MzMzMJmJAmpmZmZkfZUBmZmZmZhhoQDMzMzMzEWtAAAAAAAAKbkBmZmZmZoFwQM3MzMzM/XFAMzMzMzN6c0CamZmZmfZ0QAAAAAAAc3ZAZmZmZmbvd0DNzMzMzGt5QDMzMzMz6HpAmpmZmZlkfEAAAAAAAOF9QGZmZmZmXX9AZmZmZuZsgECamZmZGSuBQM3MzMxM6YFAAAAAAICngkAzMzMzs2WDQGZmZmbmI4RAmpmZmRnihEDNzMzMTKCFQAAAAACAXoZAMzMzM7Mch0BmZmZm5tqHQJqZmZkZmYhAzczMzExXiUAAAAAAgBWKQDMzMzOz04pAZmZmZuaRi0CamZmZGVCMQM3MzMxMDo1AAAAAAIDMjUAzMzMzs4qOQGZmZmbmSI9A\",\"dtype\":\"float64\",\"shape\":[75]}},\"selected\":{\"id\":\"2f4a05a0-b66f-4535-ac72-79dfe52ff1b0\",\"type\":\"Selection\"},\"selection_policy\":{\"id\":\"87fd84ad-5525-44c4-9735-63ab88603859\",\"type\":\"UnionRenderers\"}},\"id\":\"d963f0c0-631e-40bb-977f-f4cf1ce8c1d2\",\"type\":\"ColumnDataSource\"},{\"attributes\":{},\"id\":\"d70e5d58-ed1c-4d91-b081-097e0ff0623f\",\"type\":\"UnionRenderers\"},{\"attributes\":{\"data_source\":{\"id\":\"ff5a6c79-5b1a-4999-a8f0-6f6e5371470c\",\"type\":\"ColumnDataSource\"},\"glyph\":{\"id\":\"6aa5045e-6c7b-4708-bee8-39110ec58f2f\",\"type\":\"Line\"},\"hover_glyph\":null,\"muted_glyph\":null,\"nonselection_glyph\":{\"id\":\"8c0ccc44-d868-4e11-9208-999cf394097d\",\"type\":\"Line\"},\"selection_glyph\":null,\"view\":{\"id\":\"2ab4eaa1-ab90-418d-be24-1edd1ceba971\",\"type\":\"CDSView\"}},\"id\":\"9e29620c-02cb-4f32-89e5-476cb5ca4403\",\"type\":\"GlyphRenderer\"},{\"attributes\":{},\"id\":\"f2c64716-49de-41da-bdae-eb14b5cb7663\",\"type\":\"Selection\"},{\"attributes\":{\"children\":[{\"id\":\"67b37380-86cc-4df5-b7f1-d9c6a084a026\",\"type\":\"ToolbarBox\"},{\"id\":\"4fb95375-5184-490c-8a09-dd2a0a76f05e\",\"type\":\"Column\"}]},\"id\":\"356f04e4-fbd7-433a-9f0b-38e8b0454ae6\",\"type\":\"Column\"},{\"attributes\":{\"plot\":{\"id\":\"c638711a-570b-45d6-8cac-30d420964cd6\",\"subtype\":\"Figure\",\"type\":\"Plot\"},\"ticker\":{\"id\":\"69f8acb7-ea8f-4a4f-b107-8ec90a7ddeb5\",\"type\":\"BasicTicker\"}},\"id\":\"9a78aaea-eca3-419d-a1cd-b950a7e6b455\",\"type\":\"Grid\"},{\"attributes\":{\"callback\":null,\"end\":0.01,\"start\":1020},\"id\":\"2607de42-3d02-4793-b27c-5ea4924f4d70\",\"type\":\"Range1d\"},{\"attributes\":{\"tools\":[{\"id\":\"227d110d-26a8-40bb-b684-e95cc4b31380\",\"type\":\"PanTool\"},{\"id\":\"4e38ebda-0cca-46e4-be12-7b2f78067ad8\",\"type\":\"WheelZoomTool\"},{\"id\":\"8844f65a-40e8-4f45-8420-44f6c35fd5f5\",\"type\":\"BoxZoomTool\"},{\"id\":\"dc27140b-cd3a-4227-a0a4-32cab2cf2778\",\"type\":\"SaveTool\"},{\"id\":\"677e4087-3261-42d3-9b16-5dda7184a01e\",\"type\":\"ResetTool\"},{\"id\":\"af6343ef-2d64-4261-85e8-e74081ad2a64\",\"type\":\"HelpTool\"},{\"id\":\"1526124d-77f7-45f9-a4fe-bb06fbec6f68\",\"type\":\"PanTool\"},{\"id\":\"2eaa641c-341e-4069-b2a1-64254d7a2904\",\"type\":\"WheelZoomTool\"},{\"id\":\"50f54c0a-82f2-46d3-989e-30430584ff01\",\"type\":\"BoxZoomTool\"},{\"id\":\"471d1624-58d8-483f-bfd6-7243cbde7d7f\",\"type\":\"SaveTool\"},{\"id\":\"7f932e2f-8fce-4ad9-97a8-67c803c73a77\",\"type\":\"ResetTool\"},{\"id\":\"d72288e4-9057-4e2e-bcab-d82afe612df7\",\"type\":\"HelpTool\"}]},\"id\":\"df2de06e-729a-407b-a047-735ea04f5057\",\"type\":\"ProxyToolbar\"},{\"attributes\":{\"callback\":null,\"end\":0.01,\"start\":1020},\"id\":\"df8f4bcd-c5d2-42be-bbd3-9cecdbdaf4e6\",\"type\":\"Range1d\"},{\"attributes\":{\"toolbar\":{\"id\":\"df2de06e-729a-407b-a047-735ea04f5057\",\"type\":\"ProxyToolbar\"},\"toolbar_location\":\"above\"},\"id\":\"67b37380-86cc-4df5-b7f1-d9c6a084a026\",\"type\":\"ToolbarBox\"},{\"attributes\":{\"plot\":null,\"text\":\"Linear pressure scale\"},\"id\":\"5babd007-38e4-406a-afc7-87ba61d68b76\",\"type\":\"Title\"},{\"attributes\":{\"fill_alpha\":{\"value\":0.1},\"fill_color\":{\"value\":\"#1f77b4\"},\"line_alpha\":{\"value\":0.1},\"line_color\":{\"value\":\"#1f77b4\"},\"x\":{\"field\":\"x\"},\"y\":{\"field\":\"y\"}},\"id\":\"abe52bea-30ad-4be7-a899-ac02c080c0bc\",\"type\":\"Circle\"},{\"attributes\":{},\"id\":\"66115699-f4ed-4bca-8821-2554283cbffb\",\"type\":\"LinearScale\"},{\"attributes\":{\"data_source\":{\"id\":\"965e2402-a270-428e-9cee-4f1916acc6da\",\"type\":\"ColumnDataSource\"},\"glyph\":{\"id\":\"22854d8e-f94e-42ba-9d77-9b52a91f368c\",\"type\":\"Line\"},\"hover_glyph\":null,\"muted_glyph\":null,\"nonselection_glyph\":{\"id\":\"87e9ef4a-b714-4a24-bceb-a617bf8c18cb\",\"type\":\"Line\"},\"selection_glyph\":null,\"view\":{\"id\":\"41bdaf01-760b-4427-bae0-7a61c21e32cb\",\"type\":\"CDSView\"}},\"id\":\"f3c05af8-eebf-4ee0-9f3a-ba73c65e914f\",\"type\":\"GlyphRenderer\"},{\"attributes\":{\"source\":{\"id\":\"12d37d11-9fde-45cc-9fe0-ac7e8231a91a\",\"type\":\"ColumnDataSource\"}},\"id\":\"0a070361-37b6-4e11-8bf7-36d97ebf4ea6\",\"type\":\"CDSView\"},{\"attributes\":{\"overlay\":{\"id\":\"14fb48c1-ef79-4b88-8e0b-33fb73b8307a\",\"type\":\"BoxAnnotation\"}},\"id\":\"8844f65a-40e8-4f45-8420-44f6c35fd5f5\",\"type\":\"BoxZoomTool\"},{\"attributes\":{\"fill_alpha\":{\"value\":0.7},\"fill_color\":{\"value\":\"#4daf4a\"},\"line_alpha\":{\"value\":0.7},\"line_color\":{\"value\":\"#4daf4a\"},\"x\":{\"field\":\"x\"},\"y\":{\"field\":\"y\"}},\"id\":\"83adb34e-f87a-4024-9752-9136c2266949\",\"type\":\"Circle\"},{\"attributes\":{\"data_source\":{\"id\":\"2cda1044-f028-4daf-b1a4-b26956b21115\",\"type\":\"ColumnDataSource\"},\"glyph\":{\"id\":\"83adb34e-f87a-4024-9752-9136c2266949\",\"type\":\"Circle\"},\"hover_glyph\":null,\"muted_glyph\":null,\"nonselection_glyph\":{\"id\":\"abe52bea-30ad-4be7-a899-ac02c080c0bc\",\"type\":\"Circle\"},\"selection_glyph\":null,\"view\":{\"id\":\"2ca88a10-91de-4cc1-8137-5da7073e3760\",\"type\":\"CDSView\"}},\"id\":\"fcb567ab-f351-49ab-9d99-63e9b27f2510\",\"type\":\"GlyphRenderer\"},{\"attributes\":{\"fill_alpha\":{\"value\":0.1},\"fill_color\":{\"value\":\"#1f77b4\"},\"line_alpha\":{\"value\":0.1},\"line_color\":{\"value\":\"#1f77b4\"},\"x\":{\"field\":\"x\"},\"y\":{\"field\":\"y\"}},\"id\":\"42070527-b86e-43ca-9719-22f6013df506\",\"type\":\"Circle\"},{\"attributes\":{\"source\":{\"id\":\"a0524631-ae86-4a03-b438-96adb7c7d051\",\"type\":\"ColumnDataSource\"}},\"id\":\"6e5b3004-040d-413d-9cc2-bde2e90fa5bd\",\"type\":\"CDSView\"},{\"attributes\":{\"below\":[{\"id\":\"14c1883b-2984-40ea-affa-a5ad54e75603\",\"type\":\"LinearAxis\"}],\"left\":[{\"id\":\"e09e2b7d-05de-4304-b5bf-933fe018431b\",\"type\":\"LogAxis\"}],\"plot_height\":500,\"plot_width\":560,\"renderers\":[{\"id\":\"14c1883b-2984-40ea-affa-a5ad54e75603\",\"type\":\"LinearAxis\"},{\"id\":\"9a78aaea-eca3-419d-a1cd-b950a7e6b455\",\"type\":\"Grid\"},{\"id\":\"e09e2b7d-05de-4304-b5bf-933fe018431b\",\"type\":\"LogAxis\"},{\"id\":\"2a01867c-badc-48ee-9a9f-7c1f5cde7b26\",\"type\":\"Grid\"},{\"id\":\"8b4c1eb6-4595-4ba5-bc18-2209756e95be\",\"type\":\"BoxAnnotation\"},{\"id\":\"f3c05af8-eebf-4ee0-9f3a-ba73c65e914f\",\"type\":\"GlyphRenderer\"},{\"id\":\"fcb567ab-f351-49ab-9d99-63e9b27f2510\",\"type\":\"GlyphRenderer\"},{\"id\":\"97862cb1-bba8-4078-bc4d-9afe04c842bc\",\"type\":\"GlyphRenderer\"},{\"id\":\"db014e3e-dfcb-4e5f-a47b-e611b1a2e912\",\"type\":\"GlyphRenderer\"},{\"id\":\"ccee616e-c6b8-4d25-a5b0-a14565a196d3\",\"type\":\"GlyphRenderer\"},{\"id\":\"a8491cb5-7ffd-4807-a945-400ea5691bea\",\"type\":\"Legend\"}],\"right\":[{\"id\":\"a8491cb5-7ffd-4807-a945-400ea5691bea\",\"type\":\"Legend\"}],\"title\":{\"id\":\"e3c18960-c0e8-4e2b-af8c-33a0cfc64409\",\"type\":\"Title\"},\"toolbar\":{\"id\":\"c612af86-e1ba-4f15-8152-21545adc9363\",\"type\":\"Toolbar\"},\"toolbar_location\":null,\"x_range\":{\"id\":\"81b26b57-2a14-468a-9a9d-82f2d585da80\",\"type\":\"Range1d\"},\"x_scale\":{\"id\":\"ff306166-6430-4602-9469-2148a2bb13aa\",\"type\":\"LinearScale\"},\"y_range\":{\"id\":\"2607de42-3d02-4793-b27c-5ea4924f4d70\",\"type\":\"Range1d\"},\"y_scale\":{\"id\":\"afe6d14d-7b95-4a5d-9f29-d511f53e6269\",\"type\":\"LogScale\"}},\"id\":\"c638711a-570b-45d6-8cac-30d420964cd6\",\"subtype\":\"Figure\",\"type\":\"Plot\"},{\"attributes\":{},\"id\":\"471d1624-58d8-483f-bfd6-7243cbde7d7f\",\"type\":\"SaveTool\"},{\"attributes\":{\"plot\":{\"id\":\"cbce5204-3a70-46fb-be64-d709e0731574\",\"subtype\":\"Figure\",\"type\":\"Plot\"},\"ticker\":{\"id\":\"f902e436-7627-466f-8b2b-c1b0bad61f81\",\"type\":\"BasicTicker\"}},\"id\":\"a0b246ed-2dc8-48d2-bc79-3124704e0f6f\",\"type\":\"Grid\"},{\"attributes\":{\"callback\":null,\"data\":{\"x\":{\"__ndarray__\":\"vPuVV0Ni+L5zcy+cVi34vl7VNGLptfe+qmNO5xox977jDkN7+J/2vn+wASTHBPa+B3mKcfdf9b4S797JubD0vsVVaXDZ9PO++Vl/fgcw876QDHicNWHyvkE69uCkhPG+9MjqlEec8L76WTQuRSvvvmOfay4IbOi+otR3EkCHl75xfvu7T5D5PnN+oDSZ0xA/zPciQ8NdID+ZmJqwLRMsP2KrcWmZbDY/snmb+hYMQT+ij3TLQh1HPypqhsvUl0c/QNBKq06aQj9gD9pinMs6P7LRr/wnejI/TShJwvqSKD/sPP80dL4fPyhjcikbiBM/uL0fUxMvBT+GltoUss3wPudublEv5rA+3MSC/iCk4L6XxYBXfjbvvhTPFpJ0g/W++60Rn/Lt+L4hLs+dLrj6vngtyrD2Zfy+bWcfZWFQ/r4DkUeSMPsEvzR17GWEzxO/6kroat0zFb/VkIpg/DzzPofQUARFuzM/MziUuCXIRz+TPsY/4D9VP8cUAnLvBWE/4608Rk5maT9q+/6dUv1xP4syNEpSc3g/8mGUrVeUfz9OkfU0XdiDP7bd8vt4lIg/ynsCTAwOjj+qv5gMSyySPwP3oarAy5U/EBDlboQDmz+rS6JrGmygP3y7X+TphaM/YOGCPiHTpj+9lPQPplGqP4CKSOyRCK4/0UdY1UT/sD99Ibk8oxuzP9sq0g7JWrU/xiwyPCG0tz+yfUyUUgq6PwwyE1Z0Nbw/IQQmaHomvj+RZBTTnvW/PxPwjDLy5MA/ht8TDGPiwT8Ivz9rnwrDP9/GwQAdwcQ/\",\"dtype\":\"float64\",\"shape\":[75]},\"y\":{\"__ndarray__\":\"GhExyth1ND/Sv8nbtpRIP2vylNV0PVE/aTum7souWD/At0SJ8fVgPw3Iuahxymc/MSNhhJWvcD/bTfBN02d3P2zb5nxnaoA/CD5h5MAGhz8NmeH1TyaQP+zrCsc9p5Y/LbKd76fGnz/bLW5ISEmmPww9YvTcQq8/JV2OstnstT8Er5Y7M8G+P0c+r3jqkcU/5h99k6ZBzj88bCIzFzjVP4enV8oyxN0//yH99nXg5D8qOpLLf0jtP5kqGJXUifQ/c9cS8kHP/D+/DpwzojQEQIEmwoanVwxA4lgXt9HgE0BSSZ2AJuIbQAMJih9jjiNA5q4l5INuK0AwTKYKRj0zQNv5fmq8/DpAaCJseHrtQkB/+zpwzoxKQM3MzMzMeFJAZmZmZmZqWEAAAAAAAFxeQM3MzMzMJmJAmpmZmZkfZUBmZmZmZhhoQDMzMzMzEWtAAAAAAAAKbkBmZmZmZoFwQM3MzMzM/XFAMzMzMzN6c0CamZmZmfZ0QAAAAAAAc3ZAZmZmZmbvd0DNzMzMzGt5QDMzMzMz6HpAmpmZmZlkfEAAAAAAAOF9QGZmZmZmXX9AZmZmZuZsgECamZmZGSuBQM3MzMxM6YFAAAAAAICngkAzMzMzs2WDQGZmZmbmI4RAmpmZmRnihEDNzMzMTKCFQAAAAACAXoZAMzMzM7Mch0BmZmZm5tqHQJqZmZkZmYhAzczMzExXiUAAAAAAgBWKQDMzMzOz04pAZmZmZuaRi0CamZmZGVCMQM3MzMxMDo1AAAAAAIDMjUAzMzMzs4qOQGZmZmbmSI9A\",\"dtype\":\"float64\",\"shape\":[75]}},\"selected\":{\"id\":\"f8e29565-7207-4de2-bb8f-a0e9e17952ce\",\"type\":\"Selection\"},\"selection_policy\":{\"id\":\"dc46118a-c779-44bd-9d1e-7d553f24c469\",\"type\":\"UnionRenderers\"}},\"id\":\"2cda1044-f028-4daf-b1a4-b26956b21115\",\"type\":\"ColumnDataSource\"},{\"attributes\":{\"source\":{\"id\":\"2cda1044-f028-4daf-b1a4-b26956b21115\",\"type\":\"ColumnDataSource\"}},\"id\":\"2ca88a10-91de-4cc1-8137-5da7073e3760\",\"type\":\"CDSView\"},{\"attributes\":{\"axis_label\":\"pressure [mb]\",\"formatter\":{\"id\":\"06a24f49-4415-44a3-add0-e142a76cc2c9\",\"type\":\"BasicTickFormatter\"},\"plot\":{\"id\":\"cbce5204-3a70-46fb-be64-d709e0731574\",\"subtype\":\"Figure\",\"type\":\"Plot\"},\"ticker\":{\"id\":\"9cd1781d-ac1c-45c4-b8c7-735e15f5415a\",\"type\":\"BasicTicker\"}},\"id\":\"e5150280-a58c-4e64-b31f-b772cacdfbe7\",\"type\":\"LinearAxis\"},{\"attributes\":{\"axis_label\":\"pressure [mb]\",\"formatter\":{\"id\":\"450371c3-5392-4313-8075-be1234c7d43f\",\"type\":\"LogTickFormatter\"},\"plot\":{\"id\":\"c638711a-570b-45d6-8cac-30d420964cd6\",\"subtype\":\"Figure\",\"type\":\"Plot\"},\"ticker\":{\"id\":\"1a6ea747-4e4e-4ce6-8dff-5582c66b1529\",\"type\":\"LogTicker\"}},\"id\":\"e09e2b7d-05de-4304-b5bf-933fe018431b\",\"type\":\"LogAxis\"},{\"attributes\":{\"overlay\":{\"id\":\"8b4c1eb6-4595-4ba5-bc18-2209756e95be\",\"type\":\"BoxAnnotation\"}},\"id\":\"50f54c0a-82f2-46d3-989e-30430584ff01\",\"type\":\"BoxZoomTool\"},{\"attributes\":{},\"id\":\"227d110d-26a8-40bb-b684-e95cc4b31380\",\"type\":\"PanTool\"},{\"attributes\":{\"callback\":null,\"data\":{\"x\":{\"__ndarray__\":\"tgrXYJYJwr4K3QhvDMD0PnEygd9D0eW+SSBGbsm0674yD37F6CLsvs5domXw6+u+K4SXRb5G7L7XNXSncNbrvhWHK2tXB+y+h6T58niZ676Zou4fN5zrvllwNrx8Ruu+kIW1a4PJ6r4KRLP5a2/kvtKdf33GF9m+Yxt7bCtQ174OxJu6DUTHvmFydkmLXdk+B8oV15Nd9T4fmn4VegwGP0nMm3xYWRM//pXpsPk9Hz8GnWfU/9QlPz9S7WB3iyY//850WWCvIT8iewB/guQYP9uWW9jPbRA/R6VUz/ctBD8jSbWSkFD2PhfJhA53zuI+G60tCYidlr7/D89xZL/evp5TeHbTSOm+v4l/FYsf8L54tqDuy1Tzvr07DmQJc/a+PKnKKMjY+L7zw/hUeoX6vsJ60SZk5/u+KJvD3zIq/r6Ocmx3drcGv+P9fn6DVhu/u0rpQk8RKb+X7EHIPi8xv+qLerliCy2/AQdTPGCMEj9S9AHVmqBDP9sa/V590lY/B/by3LY/ZD++TojGPC5vP0nHOvSU13U/m2MI3lovfD9Otw9pMmSBP0lUwQvPCYU/48qhkUQ5iT/nM5GzX2COP4+ug5ehcJI/Iy9cN1R1lz+mw4c1PI2dP/JUGD+zQqI/9RmrKLkepj8a38ZPqzSqP5JQapeFYq4/sMLc10lJsT+3wDewyVizPz4kyH21Z7U/16k7FNp5tz+nP4k8Oo+5P8g3wj/4krs/7SOeiTyLvT/v2oxw5pm/P9AvY20A9MA/QM7JxfdJwj9i1Dkv4+DDPzNAeYri9sU/\",\"dtype\":\"float64\",\"shape\":[75]},\"y\":{\"__ndarray__\":\"S/O/Q+51ND/Sv8nbtpRIP2vylNV0PVE/aTum7souWD/At0SJ8fVgPw3Iuahxymc/MSNhhJWvcD/bTfBN02d3P2zb5nxnaoA/CD5h5MAGhz8NmeH1TyaQP+zrCsc9p5Y/LbKd76fGnz/bLW5ISEmmPww9YvTcQq8/JV2OstnstT8Er5Y7M8G+P0c+r3jqkcU/5h99k6ZBzj88bCIzFzjVP4enV8oyxN0//yH99nXg5D8qOpLLf0jtP5kqGJXUifQ/c9cS8kHP/D+/DpwzojQEQIEmwoanVwxA4lgXt9HgE0BSSZ2AJuIbQAMJih9jjiNA5q4l5INuK0AwTKYKRj0zQNv5fmq8/DpAaCJseHrtQkB/+zpwzoxKQM3MzMzMeFJAZmZmZmZqWEAAAAAAAFxeQM3MzMzMJmJAmpmZmZkfZUBmZmZmZhhoQDMzMzMzEWtAAAAAAAAKbkBmZmZmZoFwQM3MzMzM/XFAMzMzMzN6c0CamZmZmfZ0QAAAAAAAc3ZAZmZmZmbvd0DNzMzMzGt5QDMzMzMz6HpAmpmZmZlkfEAAAAAAAOF9QGZmZmZmXX9AZmZmZuZsgECamZmZGSuBQM3MzMxM6YFAAAAAAICngkAzMzMzs2WDQGZmZmbmI4RAmpmZmRnihEDNzMzMTKCFQAAAAACAXoZAMzMzM7Mch0BmZmZm5tqHQJqZmZkZmYhAzczMzExXiUAAAAAAgBWKQDMzMzOz04pAZmZmZuaRi0CamZmZGVCMQM3MzMxMDo1AAAAAAIDMjUAzMzMzs4qOQGZmZmbmSI9A\",\"dtype\":\"float64\",\"shape\":[75]}},\"selected\":{\"id\":\"6576ef1a-2090-4635-a763-ce849b8b4860\",\"type\":\"Selection\"},\"selection_policy\":{\"id\":\"c4a6dcfa-cc6e-4a66-98e8-63fab0d0edda\",\"type\":\"UnionRenderers\"}},\"id\":\"0dd6281c-9637-4e1a-96a0-0cb13a54e61e\",\"type\":\"ColumnDataSource\"},{\"attributes\":{\"line_alpha\":0.1,\"line_color\":\"#1f77b4\",\"line_dash\":[6],\"line_width\":5,\"x\":{\"field\":\"x\"},\"y\":{\"field\":\"y\"}},\"id\":\"e1bd8b39-f560-48c6-8963-4fbdc83bbff1\",\"type\":\"Line\"},{\"attributes\":{\"num_minor_ticks\":10},\"id\":\"1a6ea747-4e4e-4ce6-8dff-5582c66b1529\",\"type\":\"LogTicker\"},{\"attributes\":{\"line_alpha\":0.1,\"line_color\":\"#1f77b4\",\"line_dash\":[6],\"line_width\":5,\"x\":{\"field\":\"x\"},\"y\":{\"field\":\"y\"}},\"id\":\"87e9ef4a-b714-4a24-bceb-a617bf8c18cb\",\"type\":\"Line\"},{\"attributes\":{\"below\":[{\"id\":\"4e5cf9f8-8fdc-421f-9b1a-62207e9bd3b2\",\"type\":\"LinearAxis\"}],\"left\":[{\"id\":\"e5150280-a58c-4e64-b31f-b772cacdfbe7\",\"type\":\"LinearAxis\"}],\"plot_height\":500,\"plot_width\":400,\"renderers\":[{\"id\":\"4e5cf9f8-8fdc-421f-9b1a-62207e9bd3b2\",\"type\":\"LinearAxis\"},{\"id\":\"a0b246ed-2dc8-48d2-bc79-3124704e0f6f\",\"type\":\"Grid\"},{\"id\":\"e5150280-a58c-4e64-b31f-b772cacdfbe7\",\"type\":\"LinearAxis\"},{\"id\":\"aa1f7db1-e717-461c-b8a3-4d55aaadea80\",\"type\":\"Grid\"},{\"id\":\"14fb48c1-ef79-4b88-8e0b-33fb73b8307a\",\"type\":\"BoxAnnotation\"},{\"id\":\"032d4b1f-cdc0-4610-90d0-fb4880b82234\",\"type\":\"GlyphRenderer\"},{\"id\":\"d34c8c25-6602-48f8-8139-14fbf6484f87\",\"type\":\"GlyphRenderer\"},{\"id\":\"9e29620c-02cb-4f32-89e5-476cb5ca4403\",\"type\":\"GlyphRenderer\"},{\"id\":\"5759e2c8-688e-46d7-a7d0-63293cb433a4\",\"type\":\"GlyphRenderer\"},{\"id\":\"0274ecf7-006b-4d10-81d8-3c48851a247b\",\"type\":\"GlyphRenderer\"}],\"title\":{\"id\":\"5babd007-38e4-406a-afc7-87ba61d68b76\",\"type\":\"Title\"},\"toolbar\":{\"id\":\"bf604e3c-42ea-4805-9e2a-fae64ffe45d1\",\"type\":\"Toolbar\"},\"toolbar_location\":null,\"x_range\":{\"id\":\"fe0b8000-d27d-4b95-bf5e-9e2a1759b3a0\",\"type\":\"Range1d\"},\"x_scale\":{\"id\":\"b51c2d0a-820e-4a06-aeb5-cfdc4bd90f1a\",\"type\":\"LinearScale\"},\"y_range\":{\"id\":\"df8f4bcd-c5d2-42be-bbd3-9cecdbdaf4e6\",\"type\":\"Range1d\"},\"y_scale\":{\"id\":\"66115699-f4ed-4bca-8821-2554283cbffb\",\"type\":\"LinearScale\"}},\"id\":\"cbce5204-3a70-46fb-be64-d709e0731574\",\"subtype\":\"Figure\",\"type\":\"Plot\"},{\"attributes\":{},\"id\":\"afe6d14d-7b95-4a5d-9f29-d511f53e6269\",\"type\":\"LogScale\"},{\"attributes\":{\"line_color\":\"#4daf4a\",\"line_width\":1.5,\"x\":{\"field\":\"x\"},\"y\":{\"field\":\"y\"}},\"id\":\"6aa5045e-6c7b-4708-bee8-39110ec58f2f\",\"type\":\"Line\"},{\"attributes\":{\"line_alpha\":0.6,\"line_color\":\"#e41a1c\",\"line_dash\":[6],\"line_width\":5,\"x\":{\"field\":\"x\"},\"y\":{\"field\":\"y\"}},\"id\":\"22854d8e-f94e-42ba-9d77-9b52a91f368c\",\"type\":\"Line\"},{\"attributes\":{\"line_alpha\":0.1,\"line_color\":\"#1f77b4\",\"line_width\":1.5,\"x\":{\"field\":\"x\"},\"y\":{\"field\":\"y\"}},\"id\":\"64a12c35-83d4-4be6-a3ac-597bb8bec21f\",\"type\":\"Line\"},{\"attributes\":{},\"id\":\"1526124d-77f7-45f9-a4fe-bb06fbec6f68\",\"type\":\"PanTool\"},{\"attributes\":{},\"id\":\"4e38ebda-0cca-46e4-be12-7b2f78067ad8\",\"type\":\"WheelZoomTool\"},{\"attributes\":{},\"id\":\"7f932e2f-8fce-4ad9-97a8-67c803c73a77\",\"type\":\"ResetTool\"},{\"attributes\":{\"callback\":null,\"end\":0.17331542045450002,\"start\":-0.0019808059045},\"id\":\"fe0b8000-d27d-4b95-bf5e-9e2a1759b3a0\",\"type\":\"Range1d\"},{\"attributes\":{\"axis_label\":\"cooling rate [K/day]\",\"formatter\":{\"id\":\"701b35d7-e19d-4c45-8c90-1b4ae31aa965\",\"type\":\"BasicTickFormatter\"},\"plot\":{\"id\":\"c638711a-570b-45d6-8cac-30d420964cd6\",\"subtype\":\"Figure\",\"type\":\"Plot\"},\"ticker\":{\"id\":\"69f8acb7-ea8f-4a4f-b107-8ec90a7ddeb5\",\"type\":\"BasicTicker\"}},\"id\":\"14c1883b-2984-40ea-affa-a5ad54e75603\",\"type\":\"LinearAxis\"},{\"attributes\":{\"callback\":null,\"data\":{\"x\":{\"__ndarray__\":\"vPuVV0Ni+L5zcy+cVi34vl7VNGLptfe+qmNO5xox977jDkN7+J/2vn+wASTHBPa+B3mKcfdf9b4S797JubD0vsVVaXDZ9PO++Vl/fgcw876QDHicNWHyvkE69uCkhPG+9MjqlEec8L76WTQuRSvvvmOfay4IbOi+otR3EkCHl75xfvu7T5D5PnN+oDSZ0xA/zPciQ8NdID+ZmJqwLRMsP2KrcWmZbDY/snmb+hYMQT+ij3TLQh1HPypqhsvUl0c/QNBKq06aQj9gD9pinMs6P7LRr/wnejI/TShJwvqSKD/sPP80dL4fPyhjcikbiBM/uL0fUxMvBT+GltoUss3wPudublEv5rA+3MSC/iCk4L6XxYBXfjbvvhTPFpJ0g/W++60Rn/Lt+L4hLs+dLrj6vngtyrD2Zfy+bWcfZWFQ/r4DkUeSMPsEvzR17GWEzxO/6kroat0zFb/VkIpg/DzzPofQUARFuzM/MziUuCXIRz+TPsY/4D9VP8cUAnLvBWE/4608Rk5maT9q+/6dUv1xP4syNEpSc3g/8mGUrVeUfz9OkfU0XdiDP7bd8vt4lIg/ynsCTAwOjj+qv5gMSyySPwP3oarAy5U/EBDlboQDmz+rS6JrGmygP3y7X+TphaM/YOGCPiHTpj+9lPQPplGqP4CKSOyRCK4/0UdY1UT/sD99Ibk8oxuzP9sq0g7JWrU/xiwyPCG0tz+yfUyUUgq6PwwyE1Z0Nbw/IQQmaHomvj+RZBTTnvW/PxPwjDLy5MA/ht8TDGPiwT8Ivz9rnwrDP9/GwQAdwcQ/\",\"dtype\":\"float64\",\"shape\":[75]},\"y\":{\"__ndarray__\":\"GhExyth1ND/Sv8nbtpRIP2vylNV0PVE/aTum7souWD/At0SJ8fVgPw3Iuahxymc/MSNhhJWvcD/bTfBN02d3P2zb5nxnaoA/CD5h5MAGhz8NmeH1TyaQP+zrCsc9p5Y/LbKd76fGnz/bLW5ISEmmPww9YvTcQq8/JV2OstnstT8Er5Y7M8G+P0c+r3jqkcU/5h99k6ZBzj88bCIzFzjVP4enV8oyxN0//yH99nXg5D8qOpLLf0jtP5kqGJXUifQ/c9cS8kHP/D+/DpwzojQEQIEmwoanVwxA4lgXt9HgE0BSSZ2AJuIbQAMJih9jjiNA5q4l5INuK0AwTKYKRj0zQNv5fmq8/DpAaCJseHrtQkB/+zpwzoxKQM3MzMzMeFJAZmZmZmZqWEAAAAAAAFxeQM3MzMzMJmJAmpmZmZkfZUBmZmZmZhhoQDMzMzMzEWtAAAAAAAAKbkBmZmZmZoFwQM3MzMzM/XFAMzMzMzN6c0CamZmZmfZ0QAAAAAAAc3ZAZmZmZmbvd0DNzMzMzGt5QDMzMzMz6HpAmpmZmZlkfEAAAAAAAOF9QGZmZmZmXX9AZmZmZuZsgECamZmZGSuBQM3MzMxM6YFAAAAAAICngkAzMzMzs2WDQGZmZmbmI4RAmpmZmRnihEDNzMzMTKCFQAAAAACAXoZAMzMzM7Mch0BmZmZm5tqHQJqZmZkZmYhAzczMzExXiUAAAAAAgBWKQDMzMzOz04pAZmZmZuaRi0CamZmZGVCMQM3MzMxMDo1AAAAAAIDMjUAzMzMzs4qOQGZmZmbmSI9A\",\"dtype\":\"float64\",\"shape\":[75]}},\"selected\":{\"id\":\"3c3cc6a9-53e2-45de-80d1-599991968ba0\",\"type\":\"Selection\"},\"selection_policy\":{\"id\":\"700043d5-2454-4f53-af08-96651cfb2c68\",\"type\":\"UnionRenderers\"}},\"id\":\"dcf64674-3287-452a-8440-f73ebfd63739\",\"type\":\"ColumnDataSource\"},{\"attributes\":{\"line_alpha\":0.6,\"line_color\":\"#984ea3\",\"line_width\":3,\"x\":{\"field\":\"x\"},\"y\":{\"field\":\"y\"}},\"id\":\"bf78b434-75ad-446a-b2b4-b1f84f24663b\",\"type\":\"Line\"},{\"attributes\":{\"callback\":null,\"data\":{\"x\":{\"__ndarray__\":\"tgrXYJYJwr4K3QhvDMD0PnEygd9D0eW+SSBGbsm0674yD37F6CLsvs5domXw6+u+K4SXRb5G7L7XNXSncNbrvhWHK2tXB+y+h6T58niZ676Zou4fN5zrvllwNrx8Ruu+kIW1a4PJ6r4KRLP5a2/kvtKdf33GF9m+Yxt7bCtQ174OxJu6DUTHvmFydkmLXdk+B8oV15Nd9T4fmn4VegwGP0nMm3xYWRM//pXpsPk9Hz8GnWfU/9QlPz9S7WB3iyY//850WWCvIT8iewB/guQYP9uWW9jPbRA/R6VUz/ctBD8jSbWSkFD2PhfJhA53zuI+G60tCYidlr7/D89xZL/evp5TeHbTSOm+v4l/FYsf8L54tqDuy1Tzvr07DmQJc/a+PKnKKMjY+L7zw/hUeoX6vsJ60SZk5/u+KJvD3zIq/r6Ocmx3drcGv+P9fn6DVhu/u0rpQk8RKb+X7EHIPi8xv+qLerliCy2/AQdTPGCMEj9S9AHVmqBDP9sa/V590lY/B/by3LY/ZD++TojGPC5vP0nHOvSU13U/m2MI3lovfD9Otw9pMmSBP0lUwQvPCYU/48qhkUQ5iT/nM5GzX2COP4+ug5ehcJI/Iy9cN1R1lz+mw4c1PI2dP/JUGD+zQqI/9RmrKLkepj8a38ZPqzSqP5JQapeFYq4/sMLc10lJsT+3wDewyVizPz4kyH21Z7U/16k7FNp5tz+nP4k8Oo+5P8g3wj/4krs/7SOeiTyLvT/v2oxw5pm/P9AvY20A9MA/QM7JxfdJwj9i1Dkv4+DDPzNAeYri9sU/\",\"dtype\":\"float64\",\"shape\":[75]},\"y\":{\"__ndarray__\":\"S/O/Q+51ND/Sv8nbtpRIP2vylNV0PVE/aTum7souWD/At0SJ8fVgPw3Iuahxymc/MSNhhJWvcD/bTfBN02d3P2zb5nxnaoA/CD5h5MAGhz8NmeH1TyaQP+zrCsc9p5Y/LbKd76fGnz/bLW5ISEmmPww9YvTcQq8/JV2OstnstT8Er5Y7M8G+P0c+r3jqkcU/5h99k6ZBzj88bCIzFzjVP4enV8oyxN0//yH99nXg5D8qOpLLf0jtP5kqGJXUifQ/c9cS8kHP/D+/DpwzojQEQIEmwoanVwxA4lgXt9HgE0BSSZ2AJuIbQAMJih9jjiNA5q4l5INuK0AwTKYKRj0zQNv5fmq8/DpAaCJseHrtQkB/+zpwzoxKQM3MzMzMeFJAZmZmZmZqWEAAAAAAAFxeQM3MzMzMJmJAmpmZmZkfZUBmZmZmZhhoQDMzMzMzEWtAAAAAAAAKbkBmZmZmZoFwQM3MzMzM/XFAMzMzMzN6c0CamZmZmfZ0QAAAAAAAc3ZAZmZmZmbvd0DNzMzMzGt5QDMzMzMz6HpAmpmZmZlkfEAAAAAAAOF9QGZmZmZmXX9AZmZmZuZsgECamZmZGSuBQM3MzMxM6YFAAAAAAICngkAzMzMzs2WDQGZmZmbmI4RAmpmZmRnihEDNzMzMTKCFQAAAAACAXoZAMzMzM7Mch0BmZmZm5tqHQJqZmZkZmYhAzczMzExXiUAAAAAAgBWKQDMzMzOz04pAZmZmZuaRi0CamZmZGVCMQM3MzMxMDo1AAAAAAIDMjUAzMzMzs4qOQGZmZmbmSI9A\",\"dtype\":\"float64\",\"shape\":[75]}},\"selected\":{\"id\":\"a0c99b1f-192a-4575-aa75-5b66ad593f6f\",\"type\":\"Selection\"},\"selection_policy\":{\"id\":\"60548c40-52b8-48bf-8016-7f888240fa08\",\"type\":\"UnionRenderers\"}},\"id\":\"965e2402-a270-428e-9cee-4f1916acc6da\",\"type\":\"ColumnDataSource\"},{\"attributes\":{\"line_color\":\"#4daf4a\",\"line_width\":1.5,\"x\":{\"field\":\"x\"},\"y\":{\"field\":\"y\"}},\"id\":\"23cc1b51-daab-4766-a455-cb175070a61e\",\"type\":\"Line\"},{\"attributes\":{\"line_alpha\":0.1,\"line_color\":\"#1f77b4\",\"line_width\":1.5,\"x\":{\"field\":\"x\"},\"y\":{\"field\":\"y\"}},\"id\":\"8c0ccc44-d868-4e11-9208-999cf394097d\",\"type\":\"Line\"},{\"attributes\":{\"source\":{\"id\":\"965e2402-a270-428e-9cee-4f1916acc6da\",\"type\":\"ColumnDataSource\"}},\"id\":\"41bdaf01-760b-4427-bae0-7a61c21e32cb\",\"type\":\"CDSView\"},{\"attributes\":{\"data_source\":{\"id\":\"d062f508-f523-4b23-95c1-965f7c1003e5\",\"type\":\"ColumnDataSource\"},\"glyph\":{\"id\":\"23cc1b51-daab-4766-a455-cb175070a61e\",\"type\":\"Line\"},\"hover_glyph\":null,\"muted_glyph\":null,\"nonselection_glyph\":{\"id\":\"64a12c35-83d4-4be6-a3ac-597bb8bec21f\",\"type\":\"Line\"},\"selection_glyph\":null,\"view\":{\"id\":\"cb85c119-ed5c-4e5b-899a-ee65781c3e2e\",\"type\":\"CDSView\"}},\"id\":\"97862cb1-bba8-4078-bc4d-9afe04c842bc\",\"type\":\"GlyphRenderer\"},{\"attributes\":{\"source\":{\"id\":\"ff5a6c79-5b1a-4999-a8f0-6f6e5371470c\",\"type\":\"ColumnDataSource\"}},\"id\":\"2ab4eaa1-ab90-418d-be24-1edd1ceba971\",\"type\":\"CDSView\"},{\"attributes\":{\"callback\":null,\"data\":{\"x\":{\"__ndarray__\":\"vPuVV0Ni+L5zcy+cVi34vl7VNGLptfe+qmNO5xox977jDkN7+J/2vn+wASTHBPa+B3mKcfdf9b4S797JubD0vsVVaXDZ9PO++Vl/fgcw876QDHicNWHyvkE69uCkhPG+9MjqlEec8L76WTQuRSvvvmOfay4IbOi+otR3EkCHl75xfvu7T5D5PnN+oDSZ0xA/zPciQ8NdID+ZmJqwLRMsP2KrcWmZbDY/snmb+hYMQT+ij3TLQh1HPypqhsvUl0c/QNBKq06aQj9gD9pinMs6P7LRr/wnejI/TShJwvqSKD/sPP80dL4fPyhjcikbiBM/uL0fUxMvBT+GltoUss3wPudublEv5rA+3MSC/iCk4L6XxYBXfjbvvhTPFpJ0g/W++60Rn/Lt+L4hLs+dLrj6vngtyrD2Zfy+bWcfZWFQ/r4DkUeSMPsEvzR17GWEzxO/6kroat0zFb/VkIpg/DzzPofQUARFuzM/MziUuCXIRz+TPsY/4D9VP8cUAnLvBWE/4608Rk5maT9q+/6dUv1xP4syNEpSc3g/8mGUrVeUfz9OkfU0XdiDP7bd8vt4lIg/ynsCTAwOjj+qv5gMSyySPwP3oarAy5U/EBDlboQDmz+rS6JrGmygP3y7X+TphaM/YOGCPiHTpj+9lPQPplGqP4CKSOyRCK4/0UdY1UT/sD99Ibk8oxuzP9sq0g7JWrU/xiwyPCG0tz+yfUyUUgq6PwwyE1Z0Nbw/IQQmaHomvj+RZBTTnvW/PxPwjDLy5MA/ht8TDGPiwT8Ivz9rnwrDP9/GwQAdwcQ/\",\"dtype\":\"float64\",\"shape\":[75]},\"y\":{\"__ndarray__\":\"GhExyth1ND/Sv8nbtpRIP2vylNV0PVE/aTum7souWD/At0SJ8fVgPw3Iuahxymc/MSNhhJWvcD/bTfBN02d3P2zb5nxnaoA/CD5h5MAGhz8NmeH1TyaQP+zrCsc9p5Y/LbKd76fGnz/bLW5ISEmmPww9YvTcQq8/JV2OstnstT8Er5Y7M8G+P0c+r3jqkcU/5h99k6ZBzj88bCIzFzjVP4enV8oyxN0//yH99nXg5D8qOpLLf0jtP5kqGJXUifQ/c9cS8kHP/D+/DpwzojQEQIEmwoanVwxA4lgXt9HgE0BSSZ2AJuIbQAMJih9jjiNA5q4l5INuK0AwTKYKRj0zQNv5fmq8/DpAaCJseHrtQkB/+zpwzoxKQM3MzMzMeFJAZmZmZmZqWEAAAAAAAFxeQM3MzMzMJmJAmpmZmZkfZUBmZmZmZhhoQDMzMzMzEWtAAAAAAAAKbkBmZmZmZoFwQM3MzMzM/XFAMzMzMzN6c0CamZmZmfZ0QAAAAAAAc3ZAZmZmZmbvd0DNzMzMzGt5QDMzMzMz6HpAmpmZmZlkfEAAAAAAAOF9QGZmZmZmXX9AZmZmZuZsgECamZmZGSuBQM3MzMxM6YFAAAAAAICngkAzMzMzs2WDQGZmZmbmI4RAmpmZmRnihEDNzMzMTKCFQAAAAACAXoZAMzMzM7Mch0BmZmZm5tqHQJqZmZkZmYhAzczMzExXiUAAAAAAgBWKQDMzMzOz04pAZmZmZuaRi0CamZmZGVCMQM3MzMxMDo1AAAAAAIDMjUAzMzMzs4qOQGZmZmbmSI9A\",\"dtype\":\"float64\",\"shape\":[75]}},\"selected\":{\"id\":\"55173369-f4c9-4e3c-8352-522c96f341df\",\"type\":\"Selection\"},\"selection_policy\":{\"id\":\"1af7fc0a-daf6-4eb0-a2b3-01277da0cb2a\",\"type\":\"UnionRenderers\"}},\"id\":\"d062f508-f523-4b23-95c1-965f7c1003e5\",\"type\":\"ColumnDataSource\"},{\"attributes\":{\"source\":{\"id\":\"d062f508-f523-4b23-95c1-965f7c1003e5\",\"type\":\"ColumnDataSource\"}},\"id\":\"cb85c119-ed5c-4e5b-899a-ee65781c3e2e\",\"type\":\"CDSView\"},{\"attributes\":{\"source\":{\"id\":\"d963f0c0-631e-40bb-977f-f4cf1ce8c1d2\",\"type\":\"ColumnDataSource\"}},\"id\":\"13ab8cff-0b76-4895-942e-fe9f17585d32\",\"type\":\"CDSView\"},{\"attributes\":{\"fill_alpha\":{\"value\":0.7},\"fill_color\":{\"value\":\"#984ea3\"},\"line_alpha\":{\"value\":0.7},\"line_color\":{\"value\":\"#984ea3\"},\"x\":{\"field\":\"x\"},\"y\":{\"field\":\"y\"}},\"id\":\"a4719dda-0013-487f-b116-88c800c4c7bf\",\"type\":\"Square\"},{\"attributes\":{\"children\":[{\"id\":\"05ea7590-7066-4d11-a074-9e8b4175fb6f\",\"type\":\"Row\"}]},\"id\":\"4fb95375-5184-490c-8a09-dd2a0a76f05e\",\"type\":\"Column\"},{\"attributes\":{\"data_source\":{\"id\":\"0dd6281c-9637-4e1a-96a0-0cb13a54e61e\",\"type\":\"ColumnDataSource\"},\"glyph\":{\"id\":\"aa7ad322-173f-43c2-bd90-d45b7d8cf19d\",\"type\":\"Line\"},\"hover_glyph\":null,\"muted_glyph\":null,\"nonselection_glyph\":{\"id\":\"e1bd8b39-f560-48c6-8963-4fbdc83bbff1\",\"type\":\"Line\"},\"selection_glyph\":null,\"view\":{\"id\":\"7d2ed084-fe96-4932-be68-b74c28ed98ea\",\"type\":\"CDSView\"}},\"id\":\"032d4b1f-cdc0-4610-90d0-fb4880b82234\",\"type\":\"GlyphRenderer\"},{\"attributes\":{\"data_source\":{\"id\":\"d963f0c0-631e-40bb-977f-f4cf1ce8c1d2\",\"type\":\"ColumnDataSource\"},\"glyph\":{\"id\":\"338181c4-3631-4dfa-8cb3-53ea53d684bd\",\"type\":\"Square\"},\"hover_glyph\":null,\"muted_glyph\":null,\"nonselection_glyph\":{\"id\":\"58728b23-9ccc-4fb1-98d1-c99b267198db\",\"type\":\"Square\"},\"selection_glyph\":null,\"view\":{\"id\":\"13ab8cff-0b76-4895-942e-fe9f17585d32\",\"type\":\"CDSView\"}},\"id\":\"5759e2c8-688e-46d7-a7d0-63293cb433a4\",\"type\":\"GlyphRenderer\"},{\"attributes\":{\"fill_alpha\":{\"value\":0.1},\"fill_color\":{\"value\":\"#1f77b4\"},\"line_alpha\":{\"value\":0.1},\"line_color\":{\"value\":\"#1f77b4\"},\"x\":{\"field\":\"x\"},\"y\":{\"field\":\"y\"}},\"id\":\"faaf0ce6-8272-42ce-a236-07192fe541f9\",\"type\":\"Square\"},{\"attributes\":{\"data_source\":{\"id\":\"a0524631-ae86-4a03-b438-96adb7c7d051\",\"type\":\"ColumnDataSource\"},\"glyph\":{\"id\":\"57ee5152-8e4b-459a-b8e9-1578ce196091\",\"type\":\"Line\"},\"hover_glyph\":null,\"muted_glyph\":null,\"nonselection_glyph\":{\"id\":\"cdc32264-0680-407e-bb85-d8956d85cae7\",\"type\":\"Line\"},\"selection_glyph\":null,\"view\":{\"id\":\"6e5b3004-040d-413d-9cc2-bde2e90fa5bd\",\"type\":\"CDSView\"}},\"id\":\"ccee616e-c6b8-4d25-a5b0-a14565a196d3\",\"type\":\"GlyphRenderer\"},{\"attributes\":{\"children\":[{\"id\":\"cbce5204-3a70-46fb-be64-d709e0731574\",\"subtype\":\"Figure\",\"type\":\"Plot\"},{\"id\":\"c638711a-570b-45d6-8cac-30d420964cd6\",\"subtype\":\"Figure\",\"type\":\"Plot\"}]},\"id\":\"05ea7590-7066-4d11-a074-9e8b4175fb6f\",\"type\":\"Row\"},{\"attributes\":{},\"id\":\"9cd1781d-ac1c-45c4-b8c7-735e15f5415a\",\"type\":\"BasicTicker\"},{\"attributes\":{\"items\":[{\"id\":\"8356fb45-887f-44f9-aff1-193f9db1b39f\",\"type\":\"LegendItem\"},{\"id\":\"7da60772-ad8a-4987-b942-af8effed4f84\",\"type\":\"LegendItem\"},{\"id\":\"aac85e39-2cf9-4af3-a262-63b883d7b429\",\"type\":\"LegendItem\"}],\"label_text_font_size\":{\"value\":\"8pt\"},\"location\":[10,-30],\"plot\":{\"id\":\"c638711a-570b-45d6-8cac-30d420964cd6\",\"subtype\":\"Figure\",\"type\":\"Plot\"}},\"id\":\"a8491cb5-7ffd-4807-a945-400ea5691bea\",\"type\":\"Legend\"},{\"attributes\":{\"fill_alpha\":{\"value\":0.7},\"fill_color\":{\"value\":\"#4daf4a\"},\"line_alpha\":{\"value\":0.7},\"line_color\":{\"value\":\"#4daf4a\"},\"x\":{\"field\":\"x\"},\"y\":{\"field\":\"y\"}},\"id\":\"e0d7c85b-53f3-49e7-a818-3da14253faab\",\"type\":\"Circle\"},{\"attributes\":{\"label\":{\"value\":\"CLIRAD `coolr_bands`\"},\"renderers\":[{\"id\":\"f3c05af8-eebf-4ee0-9f3a-ba73c65e914f\",\"type\":\"GlyphRenderer\"}]},\"id\":\"8356fb45-887f-44f9-aff1-193f9db1b39f\",\"type\":\"LegendItem\"},{\"attributes\":{},\"id\":\"2eaa641c-341e-4069-b2a1-64254d7a2904\",\"type\":\"WheelZoomTool\"},{\"attributes\":{},\"id\":\"e7c2f0e7-67eb-49c3-8ef8-bdf63ca32cf0\",\"type\":\"BasicTickFormatter\"},{\"attributes\":{\"line_alpha\":0.6,\"line_color\":\"#e41a1c\",\"line_dash\":[6],\"line_width\":5,\"x\":{\"field\":\"x\"},\"y\":{\"field\":\"y\"}},\"id\":\"aa7ad322-173f-43c2-bd90-d45b7d8cf19d\",\"type\":\"Line\"},{\"attributes\":{\"data_source\":{\"id\":\"dcf64674-3287-452a-8440-f73ebfd63739\",\"type\":\"ColumnDataSource\"},\"glyph\":{\"id\":\"e0d7c85b-53f3-49e7-a818-3da14253faab\",\"type\":\"Circle\"},\"hover_glyph\":null,\"muted_glyph\":null,\"nonselection_glyph\":{\"id\":\"42070527-b86e-43ca-9719-22f6013df506\",\"type\":\"Circle\"},\"selection_glyph\":null,\"view\":{\"id\":\"e8acaa1b-f05d-4828-aec4-5e80789157b3\",\"type\":\"CDSView\"}},\"id\":\"d34c8c25-6602-48f8-8139-14fbf6484f87\",\"type\":\"GlyphRenderer\"},{\"attributes\":{},\"id\":\"f902e436-7627-466f-8b2b-c1b0bad61f81\",\"type\":\"BasicTicker\"},{\"attributes\":{\"source\":{\"id\":\"dcf64674-3287-452a-8440-f73ebfd63739\",\"type\":\"ColumnDataSource\"}},\"id\":\"e8acaa1b-f05d-4828-aec4-5e80789157b3\",\"type\":\"CDSView\"},{\"attributes\":{\"line_alpha\":0.1,\"line_color\":\"#1f77b4\",\"line_width\":3,\"x\":{\"field\":\"x\"},\"y\":{\"field\":\"y\"}},\"id\":\"b3aa2229-478d-4f95-8c83-e3766fcb712f\",\"type\":\"Line\"},{\"attributes\":{\"axis_label\":\"cooling rate [K/day]\",\"formatter\":{\"id\":\"e7c2f0e7-67eb-49c3-8ef8-bdf63ca32cf0\",\"type\":\"BasicTickFormatter\"},\"plot\":{\"id\":\"cbce5204-3a70-46fb-be64-d709e0731574\",\"subtype\":\"Figure\",\"type\":\"Plot\"},\"ticker\":{\"id\":\"f902e436-7627-466f-8b2b-c1b0bad61f81\",\"type\":\"BasicTicker\"}},\"id\":\"4e5cf9f8-8fdc-421f-9b1a-62207e9bd3b2\",\"type\":\"LinearAxis\"},{\"attributes\":{\"data_source\":{\"id\":\"f4bc73a3-ebb0-4219-a296-06b0370ea249\",\"type\":\"ColumnDataSource\"},\"glyph\":{\"id\":\"bf78b434-75ad-446a-b2b4-b1f84f24663b\",\"type\":\"Line\"},\"hover_glyph\":null,\"muted_glyph\":null,\"nonselection_glyph\":{\"id\":\"b3aa2229-478d-4f95-8c83-e3766fcb712f\",\"type\":\"Line\"},\"selection_glyph\":null,\"view\":{\"id\":\"a785c06e-6ccb-47b5-82d8-09265a6e39ce\",\"type\":\"CDSView\"}},\"id\":\"0274ecf7-006b-4d10-81d8-3c48851a247b\",\"type\":\"GlyphRenderer\"},{\"attributes\":{\"source\":{\"id\":\"0dd6281c-9637-4e1a-96a0-0cb13a54e61e\",\"type\":\"ColumnDataSource\"}},\"id\":\"7d2ed084-fe96-4932-be68-b74c28ed98ea\",\"type\":\"CDSView\"},{\"attributes\":{\"label\":{\"value\":\"CRD\"},\"renderers\":[{\"id\":\"fcb567ab-f351-49ab-9d99-63e9b27f2510\",\"type\":\"GlyphRenderer\"},{\"id\":\"97862cb1-bba8-4078-bc4d-9afe04c842bc\",\"type\":\"GlyphRenderer\"}]},\"id\":\"7da60772-ad8a-4987-b942-af8effed4f84\",\"type\":\"LegendItem\"},{\"attributes\":{\"label\":{\"value\":\"WGT igg=10 wgt_flux=2\"},\"renderers\":[{\"id\":\"db014e3e-dfcb-4e5f-a47b-e611b1a2e912\",\"type\":\"GlyphRenderer\"},{\"id\":\"ccee616e-c6b8-4d25-a5b0-a14565a196d3\",\"type\":\"GlyphRenderer\"}]},\"id\":\"aac85e39-2cf9-4af3-a262-63b883d7b429\",\"type\":\"LegendItem\"},{\"attributes\":{},\"id\":\"60548c40-52b8-48bf-8016-7f888240fa08\",\"type\":\"UnionRenderers\"},{\"attributes\":{\"fill_alpha\":{\"value\":0.1},\"fill_color\":{\"value\":\"#1f77b4\"},\"line_alpha\":{\"value\":0.1},\"line_color\":{\"value\":\"#1f77b4\"},\"x\":{\"field\":\"x\"},\"y\":{\"field\":\"y\"}},\"id\":\"58728b23-9ccc-4fb1-98d1-c99b267198db\",\"type\":\"Square\"},{\"attributes\":{\"line_alpha\":0.1,\"line_color\":\"#1f77b4\",\"line_width\":3,\"x\":{\"field\":\"x\"},\"y\":{\"field\":\"y\"}},\"id\":\"cdc32264-0680-407e-bb85-d8956d85cae7\",\"type\":\"Line\"},{\"attributes\":{},\"id\":\"804e151f-6c10-43e2-b15c-075421b95af5\",\"type\":\"UnionRenderers\"},{\"attributes\":{},\"id\":\"06a24f49-4415-44a3-add0-e142a76cc2c9\",\"type\":\"BasicTickFormatter\"},{\"attributes\":{\"callback\":null,\"data\":{\"x\":{\"__ndarray__\":\"zNUavuRp7b57k+w9M1ntvhtvDNTUMe2+HMKSUgUD7b6JDMNKrM7svt4rQeKVlOy+am87haNU7L7p5JvqiA7svusTs88mwuu+gNnz7FZv676mZbLu5xXrviNNIW+4teq+c/8blJhO6r5vo2G33Njpvim5upHSROi+tlhaYIFF4r5jRBbQ7bnAvnoTKML7q+M+D4cFDriK/D7obWQzbFcMP7Lhi2kXbhg/uyBzK2h3Iz9W4yqi+CIrPwHuQDPN8is/ZmejZmfrJT8u/luT5iQfP6ORXhsc8hQ/I+WVIg6ZCj8kyc/HfXL/PiJQC8cKwu8+Gu9yYbpr0D7+MBfGeg/TvmsZ1nBsdOW+J4Yjazm47b7Vb662xJfyvq9erzIiK/a+aUKt8azG+L5XaWch+eP6vn14LU7hePy+Li6T2zuz/r53pDPFh8wGv0nquLBwLRq/Ifs8RiolJr8MtGPk8OMpvwY7mPNWBBe/EMDSTL57MD962evXpl5KP/eFhndCRFo/3fL4L53FZT8MQAPRiDxwP9KpMLocg3Y/jfToeLgNfT8lHy2H9BiCPy1xYUIvJIY/UvrkbAXdij9oD7VpDzeQP5lhpyrnj5M/ogYxQ9GQmD8R8HXfm2mePwKMWYGpd6I//YABKDENpj/ZPEDaP96pP2w5V/qV360/mzDF4rf/sD+42wnUAB+zPyU2GVhUTbU/5MYcEsSItz9PWNQR6r65P52r4v3B1Ls/wqlztXbGvT8KZ8opcbC/P4kh6yKm3sA/j2dQHxYHwj+2+fgtfmfDP5Oq3pweScU/\",\"dtype\":\"float64\",\"shape\":[75]},\"y\":{\"__ndarray__\":\"GhExyth1ND/Sv8nbtpRIP2vylNV0PVE/aTum7souWD/At0SJ8fVgPw3Iuahxymc/MSNhhJWvcD/bTfBN02d3P2zb5nxnaoA/CD5h5MAGhz8NmeH1TyaQP+zrCsc9p5Y/LbKd76fGnz/bLW5ISEmmPww9YvTcQq8/JV2OstnstT8Er5Y7M8G+P0c+r3jqkcU/5h99k6ZBzj88bCIzFzjVP4enV8oyxN0//yH99nXg5D8qOpLLf0jtP5kqGJXUifQ/c9cS8kHP/D+/DpwzojQEQIEmwoanVwxA4lgXt9HgE0BSSZ2AJuIbQAMJih9jjiNA5q4l5INuK0AwTKYKRj0zQNv5fmq8/DpAaCJseHrtQkB/+zpwzoxKQM3MzMzMeFJAZmZmZmZqWEAAAAAAAFxeQM3MzMzMJmJAmpmZmZkfZUBmZmZmZhhoQDMzMzMzEWtAAAAAAAAKbkBmZmZmZoFwQM3MzMzM/XFAMzMzMzN6c0CamZmZmfZ0QAAAAAAAc3ZAZmZmZmbvd0DNzMzMzGt5QDMzMzMz6HpAmpmZmZlkfEAAAAAAAOF9QGZmZmZmXX9AZmZmZuZsgECamZmZGSuBQM3MzMxM6YFAAAAAAICngkAzMzMzs2WDQGZmZmbmI4RAmpmZmRnihEDNzMzMTKCFQAAAAACAXoZAMzMzM7Mch0BmZmZm5tqHQJqZmZkZmYhAzczMzExXiUAAAAAAgBWKQDMzMzOz04pAZmZmZuaRi0CamZmZGVCMQM3MzMxMDo1AAAAAAIDMjUAzMzMzs4qOQGZmZmbmSI9A\",\"dtype\":\"float64\",\"shape\":[75]}},\"selected\":{\"id\":\"f2c64716-49de-41da-bdae-eb14b5cb7663\",\"type\":\"Selection\"},\"selection_policy\":{\"id\":\"d70e5d58-ed1c-4d91-b081-097e0ff0623f\",\"type\":\"UnionRenderers\"}},\"id\":\"a0524631-ae86-4a03-b438-96adb7c7d051\",\"type\":\"ColumnDataSource\"},{\"attributes\":{\"fill_alpha\":{\"value\":0.7},\"fill_color\":{\"value\":\"#984ea3\"},\"line_alpha\":{\"value\":0.7},\"line_color\":{\"value\":\"#984ea3\"},\"x\":{\"field\":\"x\"},\"y\":{\"field\":\"y\"}},\"id\":\"338181c4-3631-4dfa-8cb3-53ea53d684bd\",\"type\":\"Square\"},{\"attributes\":{},\"id\":\"c4a6dcfa-cc6e-4a66-98e8-63fab0d0edda\",\"type\":\"UnionRenderers\"},{\"attributes\":{},\"id\":\"6576ef1a-2090-4635-a763-ce849b8b4860\",\"type\":\"Selection\"},{\"attributes\":{\"data_source\":{\"id\":\"12d37d11-9fde-45cc-9fe0-ac7e8231a91a\",\"type\":\"ColumnDataSource\"},\"glyph\":{\"id\":\"a4719dda-0013-487f-b116-88c800c4c7bf\",\"type\":\"Square\"},\"hover_glyph\":null,\"muted_glyph\":null,\"nonselection_glyph\":{\"id\":\"faaf0ce6-8272-42ce-a236-07192fe541f9\",\"type\":\"Square\"},\"selection_glyph\":null,\"view\":{\"id\":\"0a070361-37b6-4e11-8bf7-36d97ebf4ea6\",\"type\":\"CDSView\"}},\"id\":\"db014e3e-dfcb-4e5f-a47b-e611b1a2e912\",\"type\":\"GlyphRenderer\"},{\"attributes\":{},\"id\":\"8c8b0858-18c2-4b2a-aa4f-c3b21a58e605\",\"type\":\"Selection\"},{\"attributes\":{\"active_drag\":\"auto\",\"active_inspect\":\"auto\",\"active_scroll\":\"auto\",\"active_tap\":\"auto\",\"tools\":[{\"id\":\"227d110d-26a8-40bb-b684-e95cc4b31380\",\"type\":\"PanTool\"},{\"id\":\"4e38ebda-0cca-46e4-be12-7b2f78067ad8\",\"type\":\"WheelZoomTool\"},{\"id\":\"8844f65a-40e8-4f45-8420-44f6c35fd5f5\",\"type\":\"BoxZoomTool\"},{\"id\":\"dc27140b-cd3a-4227-a0a4-32cab2cf2778\",\"type\":\"SaveTool\"},{\"id\":\"677e4087-3261-42d3-9b16-5dda7184a01e\",\"type\":\"ResetTool\"},{\"id\":\"af6343ef-2d64-4261-85e8-e74081ad2a64\",\"type\":\"HelpTool\"}]},\"id\":\"bf604e3c-42ea-4805-9e2a-fae64ffe45d1\",\"type\":\"Toolbar\"},{\"attributes\":{\"dimension\":1,\"plot\":{\"id\":\"c638711a-570b-45d6-8cac-30d420964cd6\",\"subtype\":\"Figure\",\"type\":\"Plot\"},\"ticker\":{\"id\":\"1a6ea747-4e4e-4ce6-8dff-5582c66b1529\",\"type\":\"LogTicker\"}},\"id\":\"2a01867c-badc-48ee-9a9f-7c1f5cde7b26\",\"type\":\"Grid\"},{\"attributes\":{},\"id\":\"3c3cc6a9-53e2-45de-80d1-599991968ba0\",\"type\":\"Selection\"},{\"attributes\":{},\"id\":\"ff306166-6430-4602-9469-2148a2bb13aa\",\"type\":\"LinearScale\"},{\"attributes\":{},\"id\":\"700043d5-2454-4f53-af08-96651cfb2c68\",\"type\":\"UnionRenderers\"},{\"attributes\":{\"active_drag\":\"auto\",\"active_inspect\":\"auto\",\"active_scroll\":\"auto\",\"active_tap\":\"auto\",\"tools\":[{\"id\":\"1526124d-77f7-45f9-a4fe-bb06fbec6f68\",\"type\":\"PanTool\"},{\"id\":\"2eaa641c-341e-4069-b2a1-64254d7a2904\",\"type\":\"WheelZoomTool\"},{\"id\":\"50f54c0a-82f2-46d3-989e-30430584ff01\",\"type\":\"BoxZoomTool\"},{\"id\":\"471d1624-58d8-483f-bfd6-7243cbde7d7f\",\"type\":\"SaveTool\"},{\"id\":\"7f932e2f-8fce-4ad9-97a8-67c803c73a77\",\"type\":\"ResetTool\"},{\"id\":\"d72288e4-9057-4e2e-bcab-d82afe612df7\",\"type\":\"HelpTool\"}]},\"id\":\"c612af86-e1ba-4f15-8152-21545adc9363\",\"type\":\"Toolbar\"},{\"attributes\":{\"callback\":null,\"data\":{\"x\":{\"__ndarray__\":\"vPuVV0Ni+L5zcy+cVi34vl7VNGLptfe+qmNO5xox977jDkN7+J/2vn+wASTHBPa+B3mKcfdf9b4S797JubD0vsVVaXDZ9PO++Vl/fgcw876QDHicNWHyvkE69uCkhPG+9MjqlEec8L76WTQuRSvvvmOfay4IbOi+otR3EkCHl75xfvu7T5D5PnN+oDSZ0xA/zPciQ8NdID+ZmJqwLRMsP2KrcWmZbDY/snmb+hYMQT+ij3TLQh1HPypqhsvUl0c/QNBKq06aQj9gD9pinMs6P7LRr/wnejI/TShJwvqSKD/sPP80dL4fPyhjcikbiBM/uL0fUxMvBT+GltoUss3wPudublEv5rA+3MSC/iCk4L6XxYBXfjbvvhTPFpJ0g/W++60Rn/Lt+L4hLs+dLrj6vngtyrD2Zfy+bWcfZWFQ/r4DkUeSMPsEvzR17GWEzxO/6kroat0zFb/VkIpg/DzzPofQUARFuzM/MziUuCXIRz+TPsY/4D9VP8cUAnLvBWE/4608Rk5maT9q+/6dUv1xP4syNEpSc3g/8mGUrVeUfz9OkfU0XdiDP7bd8vt4lIg/ynsCTAwOjj+qv5gMSyySPwP3oarAy5U/EBDlboQDmz+rS6JrGmygP3y7X+TphaM/YOGCPiHTpj+9lPQPplGqP4CKSOyRCK4/0UdY1UT/sD99Ibk8oxuzP9sq0g7JWrU/xiwyPCG0tz+yfUyUUgq6PwwyE1Z0Nbw/IQQmaHomvj+RZBTTnvW/PxPwjDLy5MA/ht8TDGPiwT8Ivz9rnwrDP9/GwQAdwcQ/\",\"dtype\":\"float64\",\"shape\":[75]},\"y\":{\"__ndarray__\":\"GhExyth1ND/Sv8nbtpRIP2vylNV0PVE/aTum7souWD/At0SJ8fVgPw3Iuahxymc/MSNhhJWvcD/bTfBN02d3P2zb5nxnaoA/CD5h5MAGhz8NmeH1TyaQP+zrCsc9p5Y/LbKd76fGnz/bLW5ISEmmPww9YvTcQq8/JV2OstnstT8Er5Y7M8G+P0c+r3jqkcU/5h99k6ZBzj88bCIzFzjVP4enV8oyxN0//yH99nXg5D8qOpLLf0jtP5kqGJXUifQ/c9cS8kHP/D+/DpwzojQEQIEmwoanVwxA4lgXt9HgE0BSSZ2AJuIbQAMJih9jjiNA5q4l5INuK0AwTKYKRj0zQNv5fmq8/DpAaCJseHrtQkB/+zpwzoxKQM3MzMzMeFJAZmZmZmZqWEAAAAAAAFxeQM3MzMzMJmJAmpmZmZkfZUBmZmZmZhhoQDMzMzMzEWtAAAAAAAAKbkBmZmZmZoFwQM3MzMzM/XFAMzMzMzN6c0CamZmZmfZ0QAAAAAAAc3ZAZmZmZmbvd0DNzMzMzGt5QDMzMzMz6HpAmpmZmZlkfEAAAAAAAOF9QGZmZmZmXX9AZmZmZuZsgECamZmZGSuBQM3MzMxM6YFAAAAAAICngkAzMzMzs2WDQGZmZmbmI4RAmpmZmRnihEDNzMzMTKCFQAAAAACAXoZAMzMzM7Mch0BmZmZm5tqHQJqZmZkZmYhAzczMzExXiUAAAAAAgBWKQDMzMzOz04pAZmZmZuaRi0CamZmZGVCMQM3MzMxMDo1AAAAAAIDMjUAzMzMzs4qOQGZmZmbmSI9A\",\"dtype\":\"float64\",\"shape\":[75]}},\"selected\":{\"id\":\"4a484e1d-aef4-4f01-b2f2-d1aa0bbdd350\",\"type\":\"Selection\"},\"selection_policy\":{\"id\":\"218061bc-4d4a-408a-8486-01e20a7e7a79\",\"type\":\"UnionRenderers\"}},\"id\":\"ff5a6c79-5b1a-4999-a8f0-6f6e5371470c\",\"type\":\"ColumnDataSource\"},{\"attributes\":{},\"id\":\"218061bc-4d4a-408a-8486-01e20a7e7a79\",\"type\":\"UnionRenderers\"},{\"attributes\":{},\"id\":\"4a484e1d-aef4-4f01-b2f2-d1aa0bbdd350\",\"type\":\"Selection\"},{\"attributes\":{\"plot\":null,\"text\":\"Log pressure scale\"},\"id\":\"e3c18960-c0e8-4e2b-af8c-33a0cfc64409\",\"type\":\"Title\"},{\"attributes\":{},\"id\":\"87fd84ad-5525-44c4-9735-63ab88603859\",\"type\":\"UnionRenderers\"},{\"attributes\":{\"bottom_units\":\"screen\",\"fill_alpha\":{\"value\":0.5},\"fill_color\":{\"value\":\"lightgrey\"},\"left_units\":\"screen\",\"level\":\"overlay\",\"line_alpha\":{\"value\":1.0},\"line_color\":{\"value\":\"black\"},\"line_dash\":[4,4],\"line_width\":{\"value\":2},\"plot\":null,\"render_mode\":\"css\",\"right_units\":\"screen\",\"top_units\":\"screen\"},\"id\":\"8b4c1eb6-4595-4ba5-bc18-2209756e95be\",\"type\":\"BoxAnnotation\"},{\"attributes\":{},\"id\":\"2f4a05a0-b66f-4535-ac72-79dfe52ff1b0\",\"type\":\"Selection\"},{\"attributes\":{\"source\":{\"id\":\"f4bc73a3-ebb0-4219-a296-06b0370ea249\",\"type\":\"ColumnDataSource\"}},\"id\":\"a785c06e-6ccb-47b5-82d8-09265a6e39ce\",\"type\":\"CDSView\"},{\"attributes\":{},\"id\":\"a0c99b1f-192a-4575-aa75-5b66ad593f6f\",\"type\":\"Selection\"},{\"attributes\":{\"line_alpha\":0.6,\"line_color\":\"#984ea3\",\"line_width\":3,\"x\":{\"field\":\"x\"},\"y\":{\"field\":\"y\"}},\"id\":\"57ee5152-8e4b-459a-b8e9-1578ce196091\",\"type\":\"Line\"},{\"attributes\":{},\"id\":\"f8e29565-7207-4de2-bb8f-a0e9e17952ce\",\"type\":\"Selection\"},{\"attributes\":{\"ticker\":null},\"id\":\"450371c3-5392-4313-8075-be1234c7d43f\",\"type\":\"LogTickFormatter\"},{\"attributes\":{},\"id\":\"701b35d7-e19d-4c45-8c90-1b4ae31aa965\",\"type\":\"BasicTickFormatter\"},{\"attributes\":{\"callback\":null,\"data\":{\"x\":{\"__ndarray__\":\"zNUavuRp7b57k+w9M1ntvhtvDNTUMe2+HMKSUgUD7b6JDMNKrM7svt4rQeKVlOy+am87haNU7L7p5JvqiA7svusTs88mwuu+gNnz7FZv676mZbLu5xXrviNNIW+4teq+c/8blJhO6r5vo2G33Njpvim5upHSROi+tlhaYIFF4r5jRBbQ7bnAvnoTKML7q+M+D4cFDriK/D7obWQzbFcMP7Lhi2kXbhg/uyBzK2h3Iz9W4yqi+CIrPwHuQDPN8is/ZmejZmfrJT8u/luT5iQfP6ORXhsc8hQ/I+WVIg6ZCj8kyc/HfXL/PiJQC8cKwu8+Gu9yYbpr0D7+MBfGeg/TvmsZ1nBsdOW+J4Yjazm47b7Vb662xJfyvq9erzIiK/a+aUKt8azG+L5XaWch+eP6vn14LU7hePy+Li6T2zuz/r53pDPFh8wGv0nquLBwLRq/Ifs8RiolJr8MtGPk8OMpvwY7mPNWBBe/EMDSTL57MD962evXpl5KP/eFhndCRFo/3fL4L53FZT8MQAPRiDxwP9KpMLocg3Y/jfToeLgNfT8lHy2H9BiCPy1xYUIvJIY/UvrkbAXdij9oD7VpDzeQP5lhpyrnj5M/ogYxQ9GQmD8R8HXfm2mePwKMWYGpd6I//YABKDENpj/ZPEDaP96pP2w5V/qV360/mzDF4rf/sD+42wnUAB+zPyU2GVhUTbU/5MYcEsSItz9PWNQR6r65P52r4v3B1Ls/wqlztXbGvT8KZ8opcbC/P4kh6yKm3sA/j2dQHxYHwj+2+fgtfmfDP5Oq3pweScU/\",\"dtype\":\"float64\",\"shape\":[75]},\"y\":{\"__ndarray__\":\"GhExyth1ND/Sv8nbtpRIP2vylNV0PVE/aTum7souWD/At0SJ8fVgPw3Iuahxymc/MSNhhJWvcD/bTfBN02d3P2zb5nxnaoA/CD5h5MAGhz8NmeH1TyaQP+zrCsc9p5Y/LbKd76fGnz/bLW5ISEmmPww9YvTcQq8/JV2OstnstT8Er5Y7M8G+P0c+r3jqkcU/5h99k6ZBzj88bCIzFzjVP4enV8oyxN0//yH99nXg5D8qOpLLf0jtP5kqGJXUifQ/c9cS8kHP/D+/DpwzojQEQIEmwoanVwxA4lgXt9HgE0BSSZ2AJuIbQAMJih9jjiNA5q4l5INuK0AwTKYKRj0zQNv5fmq8/DpAaCJseHrtQkB/+zpwzoxKQM3MzMzMeFJAZmZmZmZqWEAAAAAAAFxeQM3MzMzMJmJAmpmZmZkfZUBmZmZmZhhoQDMzMzMzEWtAAAAAAAAKbkBmZmZmZoFwQM3MzMzM/XFAMzMzMzN6c0CamZmZmfZ0QAAAAAAAc3ZAZmZmZmbvd0DNzMzMzGt5QDMzMzMz6HpAmpmZmZlkfEAAAAAAAOF9QGZmZmZmXX9AZmZmZuZsgECamZmZGSuBQM3MzMxM6YFAAAAAAICngkAzMzMzs2WDQGZmZmbmI4RAmpmZmRnihEDNzMzMTKCFQAAAAACAXoZAMzMzM7Mch0BmZmZm5tqHQJqZmZkZmYhAzczMzExXiUAAAAAAgBWKQDMzMzOz04pAZmZmZuaRi0CamZmZGVCMQM3MzMxMDo1AAAAAAIDMjUAzMzMzs4qOQGZmZmbmSI9A\",\"dtype\":\"float64\",\"shape\":[75]}},\"selected\":{\"id\":\"8c8b0858-18c2-4b2a-aa4f-c3b21a58e605\",\"type\":\"Selection\"},\"selection_policy\":{\"id\":\"804e151f-6c10-43e2-b15c-075421b95af5\",\"type\":\"UnionRenderers\"}},\"id\":\"f4bc73a3-ebb0-4219-a296-06b0370ea249\",\"type\":\"ColumnDataSource\"},{\"attributes\":{\"dimension\":1,\"plot\":{\"id\":\"cbce5204-3a70-46fb-be64-d709e0731574\",\"subtype\":\"Figure\",\"type\":\"Plot\"},\"ticker\":{\"id\":\"9cd1781d-ac1c-45c4-b8c7-735e15f5415a\",\"type\":\"BasicTicker\"}},\"id\":\"aa1f7db1-e717-461c-b8a3-4d55aaadea80\",\"type\":\"Grid\"},{\"attributes\":{},\"id\":\"af6343ef-2d64-4261-85e8-e74081ad2a64\",\"type\":\"HelpTool\"},{\"attributes\":{},\"id\":\"dc46118a-c779-44bd-9d1e-7d553f24c469\",\"type\":\"UnionRenderers\"},{\"attributes\":{},\"id\":\"b51c2d0a-820e-4a06-aeb5-cfdc4bd90f1a\",\"type\":\"LinearScale\"},{\"attributes\":{},\"id\":\"1af7fc0a-daf6-4eb0-a2b3-01277da0cb2a\",\"type\":\"UnionRenderers\"},{\"attributes\":{},\"id\":\"677e4087-3261-42d3-9b16-5dda7184a01e\",\"type\":\"ResetTool\"},{\"attributes\":{\"bottom_units\":\"screen\",\"fill_alpha\":{\"value\":0.5},\"fill_color\":{\"value\":\"lightgrey\"},\"left_units\":\"screen\",\"level\":\"overlay\",\"line_alpha\":{\"value\":1.0},\"line_color\":{\"value\":\"black\"},\"line_dash\":[4,4],\"line_width\":{\"value\":2},\"plot\":null,\"render_mode\":\"css\",\"right_units\":\"screen\",\"top_units\":\"screen\"},\"id\":\"14fb48c1-ef79-4b88-8e0b-33fb73b8307a\",\"type\":\"BoxAnnotation\"},{\"attributes\":{},\"id\":\"dc27140b-cd3a-4227-a0a4-32cab2cf2778\",\"type\":\"SaveTool\"}],\"root_ids\":[\"356f04e4-fbd7-433a-9f0b-38e8b0454ae6\"]},\"title\":\"Bokeh Application\",\"version\":\"0.12.16\"}};\n",
       "  var render_items = [{\"docid\":\"d16b2045-62fa-4b42-851f-24c1b72cd72b\",\"elementid\":\"3173056d-8ef1-4667-9269-dc91b74b8198\",\"modelid\":\"356f04e4-fbd7-433a-9f0b-38e8b0454ae6\"}];\n",
       "  root.Bokeh.embed.embed_items_notebook(docs_json, render_items);\n",
       "\n",
       "  }\n",
       "  if (root.Bokeh !== undefined) {\n",
       "    embed_document(root);\n",
       "  } else {\n",
       "    var attempts = 0;\n",
       "    var timer = setInterval(function(root) {\n",
       "      if (root.Bokeh !== undefined) {\n",
       "        embed_document(root);\n",
       "        clearInterval(timer);\n",
       "      }\n",
       "      attempts++;\n",
       "      if (attempts > 100) {\n",
       "        console.log(\"Bokeh: ERROR: Unable to run BokehJS code because BokehJS library is missing\")\n",
       "        clearInterval(timer);\n",
       "      }\n",
       "    }, 10, root)\n",
       "  }\n",
       "})(window);"
      ],
      "application/vnd.bokehjs_exec.v0+json": ""
     },
     "metadata": {
      "application/vnd.bokehjs_exec.v0+json": {
       "id": "356f04e4-fbd7-433a-9f0b-38e8b0454ae6"
      }
     },
     "output_type": "display_data"
    },
    {
     "name": "stdout",
     "output_type": "stream",
     "text": [
      "FIGURE. Cooling rate profiles.\n"
     ]
    },
    {
     "data": {
      "text/html": [
       "<a id=\"Flux_Comparison\"></a>"
      ],
      "text/plain": [
       "<IPython.core.display.HTML object>"
      ]
     },
     "metadata": {},
     "output_type": "display_data"
    },
    {
     "data": {
      "text/markdown": [
       "# Flux Comparison"
      ],
      "text/plain": [
       "<IPython.core.display.Markdown object>"
      ]
     },
     "metadata": {},
     "output_type": "display_data"
    },
    {
     "data": {
      "text/html": [
       "<div>\n",
       "<style scoped>\n",
       "    .dataframe tbody tr th:only-of-type {\n",
       "        vertical-align: middle;\n",
       "    }\n",
       "\n",
       "    .dataframe tbody tr th {\n",
       "        vertical-align: top;\n",
       "    }\n",
       "\n",
       "    .dataframe thead th {\n",
       "        text-align: right;\n",
       "    }\n",
       "</style>\n",
       "<table border=\"1\" class=\"dataframe\">\n",
       "  <thead>\n",
       "    <tr style=\"text-align: right;\">\n",
       "      <th></th>\n",
       "      <th></th>\n",
       "      <th>flug</th>\n",
       "      <th>fldg</th>\n",
       "      <th>fnetg</th>\n",
       "    </tr>\n",
       "    <tr>\n",
       "      <th>pressure</th>\n",
       "      <th>level</th>\n",
       "      <th></th>\n",
       "      <th></th>\n",
       "      <th></th>\n",
       "    </tr>\n",
       "  </thead>\n",
       "  <tbody>\n",
       "    <tr>\n",
       "      <th>0.0000</th>\n",
       "      <th>1</th>\n",
       "      <td>-21.780996</td>\n",
       "      <td>0.000000</td>\n",
       "      <td>-21.780996</td>\n",
       "    </tr>\n",
       "    <tr>\n",
       "      <th>1.0685</th>\n",
       "      <th>24</th>\n",
       "      <td>-21.780982</td>\n",
       "      <td>0.000036</td>\n",
       "      <td>-21.780946</td>\n",
       "    </tr>\n",
       "    <tr>\n",
       "      <th>1013.0000</th>\n",
       "      <th>76</th>\n",
       "      <td>-23.269660</td>\n",
       "      <td>6.293834</td>\n",
       "      <td>-16.975825</td>\n",
       "    </tr>\n",
       "  </tbody>\n",
       "</table>\n",
       "</div>"
      ],
      "text/plain": [
       "                      flug      fldg      fnetg\n",
       "pressure  level                                \n",
       "0.0000    1     -21.780996  0.000000 -21.780996\n",
       "1.0685    24    -21.780982  0.000036 -21.780946\n",
       "1013.0000 76    -23.269660  6.293834 -16.975825"
      ]
     },
     "metadata": {},
     "output_type": "display_data"
    },
    {
     "name": "stdout",
     "output_type": "stream",
     "text": [
      "Table. Fluxes. CRD\n"
     ]
    },
    {
     "data": {
      "text/html": [
       "<div>\n",
       "<style scoped>\n",
       "    .dataframe tbody tr th:only-of-type {\n",
       "        vertical-align: middle;\n",
       "    }\n",
       "\n",
       "    .dataframe tbody tr th {\n",
       "        vertical-align: top;\n",
       "    }\n",
       "\n",
       "    .dataframe thead th {\n",
       "        text-align: right;\n",
       "    }\n",
       "</style>\n",
       "<table border=\"1\" class=\"dataframe\">\n",
       "  <thead>\n",
       "    <tr style=\"text-align: right;\">\n",
       "      <th></th>\n",
       "      <th></th>\n",
       "      <th>flug</th>\n",
       "      <th>fldg</th>\n",
       "      <th>fnetg</th>\n",
       "    </tr>\n",
       "    <tr>\n",
       "      <th>pressure</th>\n",
       "      <th>level</th>\n",
       "      <th></th>\n",
       "      <th></th>\n",
       "      <th></th>\n",
       "    </tr>\n",
       "  </thead>\n",
       "  <tbody>\n",
       "    <tr>\n",
       "      <th>0.0000</th>\n",
       "      <th>1</th>\n",
       "      <td>-21.860567</td>\n",
       "      <td>0.000000</td>\n",
       "      <td>-21.860567</td>\n",
       "    </tr>\n",
       "    <tr>\n",
       "      <th>1.0685</th>\n",
       "      <th>24</th>\n",
       "      <td>-21.860565</td>\n",
       "      <td>0.000012</td>\n",
       "      <td>-21.860553</td>\n",
       "    </tr>\n",
       "    <tr>\n",
       "      <th>1013.0000</th>\n",
       "      <th>76</th>\n",
       "      <td>-23.269659</td>\n",
       "      <td>6.159360</td>\n",
       "      <td>-17.110300</td>\n",
       "    </tr>\n",
       "  </tbody>\n",
       "</table>\n",
       "</div>"
      ],
      "text/plain": [
       "                      flug      fldg      fnetg\n",
       "pressure  level                                \n",
       "0.0000    1     -21.860567  0.000000 -21.860567\n",
       "1.0685    24    -21.860565  0.000012 -21.860553\n",
       "1013.0000 76    -23.269659  6.159360 -17.110300"
      ]
     },
     "metadata": {},
     "output_type": "display_data"
    },
    {
     "name": "stdout",
     "output_type": "stream",
     "text": [
      "Table. Fluxes. WGT igg=10 wgt_flux=1\n"
     ]
    },
    {
     "data": {
      "text/html": [
       "<div>\n",
       "<style scoped>\n",
       "    .dataframe tbody tr th:only-of-type {\n",
       "        vertical-align: middle;\n",
       "    }\n",
       "\n",
       "    .dataframe tbody tr th {\n",
       "        vertical-align: top;\n",
       "    }\n",
       "\n",
       "    .dataframe thead th {\n",
       "        text-align: right;\n",
       "    }\n",
       "</style>\n",
       "<table border=\"1\" class=\"dataframe\">\n",
       "  <thead>\n",
       "    <tr style=\"text-align: right;\">\n",
       "      <th></th>\n",
       "      <th></th>\n",
       "      <th>flug</th>\n",
       "      <th>fldg</th>\n",
       "      <th>fnetg</th>\n",
       "    </tr>\n",
       "    <tr>\n",
       "      <th>pressure</th>\n",
       "      <th>level</th>\n",
       "      <th></th>\n",
       "      <th></th>\n",
       "      <th></th>\n",
       "    </tr>\n",
       "  </thead>\n",
       "  <tbody>\n",
       "    <tr>\n",
       "      <th>1.000000e-08</th>\n",
       "      <th>1</th>\n",
       "      <td>-21.880928</td>\n",
       "      <td>-9.686974e-08</td>\n",
       "      <td>-21.880928</td>\n",
       "    </tr>\n",
       "    <tr>\n",
       "      <th>1.068500e+00</th>\n",
       "      <th>24</th>\n",
       "      <td>-21.880926</td>\n",
       "      <td>9.516927e-06</td>\n",
       "      <td>-21.880916</td>\n",
       "    </tr>\n",
       "    <tr>\n",
       "      <th>1.013000e+03</th>\n",
       "      <th>76</th>\n",
       "      <td>-23.269660</td>\n",
       "      <td>6.153668e+00</td>\n",
       "      <td>-17.115993</td>\n",
       "    </tr>\n",
       "  </tbody>\n",
       "</table>\n",
       "</div>"
      ],
      "text/plain": [
       "                         flug          fldg      fnetg\n",
       "pressure     level                                    \n",
       "1.000000e-08 1     -21.880928 -9.686974e-08 -21.880928\n",
       "1.068500e+00 24    -21.880926  9.516927e-06 -21.880916\n",
       "1.013000e+03 76    -23.269660  6.153668e+00 -17.115993"
      ]
     },
     "metadata": {},
     "output_type": "display_data"
    },
    {
     "name": "stdout",
     "output_type": "stream",
     "text": [
      "Table. Fluxes. CLIRAD\n"
     ]
    },
    {
     "data": {
      "text/html": [
       "<div>\n",
       "<style scoped>\n",
       "    .dataframe tbody tr th:only-of-type {\n",
       "        vertical-align: middle;\n",
       "    }\n",
       "\n",
       "    .dataframe tbody tr th {\n",
       "        vertical-align: top;\n",
       "    }\n",
       "\n",
       "    .dataframe thead th {\n",
       "        text-align: right;\n",
       "    }\n",
       "</style>\n",
       "<table border=\"1\" class=\"dataframe\">\n",
       "  <thead>\n",
       "    <tr style=\"text-align: right;\">\n",
       "      <th></th>\n",
       "      <th></th>\n",
       "      <th>flug</th>\n",
       "      <th>fldg</th>\n",
       "      <th>fnetg</th>\n",
       "    </tr>\n",
       "    <tr>\n",
       "      <th>pressure</th>\n",
       "      <th>level</th>\n",
       "      <th></th>\n",
       "      <th></th>\n",
       "      <th></th>\n",
       "    </tr>\n",
       "  </thead>\n",
       "  <tbody>\n",
       "    <tr>\n",
       "      <th>0.0000</th>\n",
       "      <th>1</th>\n",
       "      <td>-7.957071e-02</td>\n",
       "      <td>0.000000</td>\n",
       "      <td>-0.079571</td>\n",
       "    </tr>\n",
       "    <tr>\n",
       "      <th>1.0685</th>\n",
       "      <th>24</th>\n",
       "      <td>-7.958266e-02</td>\n",
       "      <td>-0.000024</td>\n",
       "      <td>-0.079607</td>\n",
       "    </tr>\n",
       "    <tr>\n",
       "      <th>1013.0000</th>\n",
       "      <th>76</th>\n",
       "      <td>5.300000e-07</td>\n",
       "      <td>-0.134475</td>\n",
       "      <td>-0.134475</td>\n",
       "    </tr>\n",
       "  </tbody>\n",
       "</table>\n",
       "</div>"
      ],
      "text/plain": [
       "                         flug      fldg     fnetg\n",
       "pressure  level                                  \n",
       "0.0000    1     -7.957071e-02  0.000000 -0.079571\n",
       "1.0685    24    -7.958266e-02 -0.000024 -0.079607\n",
       "1013.0000 76     5.300000e-07 -0.134475 -0.134475"
      ]
     },
     "metadata": {},
     "output_type": "display_data"
    },
    {
     "name": "stdout",
     "output_type": "stream",
     "text": [
      "Table. Fluxes. (WGT igg=10 wgt_flux=1) - (CRD)\n"
     ]
    },
    {
     "data": {
      "text/html": [
       "<div>\n",
       "<style scoped>\n",
       "    .dataframe tbody tr th:only-of-type {\n",
       "        vertical-align: middle;\n",
       "    }\n",
       "\n",
       "    .dataframe tbody tr th {\n",
       "        vertical-align: top;\n",
       "    }\n",
       "\n",
       "    .dataframe thead th {\n",
       "        text-align: right;\n",
       "    }\n",
       "</style>\n",
       "<table border=\"1\" class=\"dataframe\">\n",
       "  <thead>\n",
       "    <tr style=\"text-align: right;\">\n",
       "      <th></th>\n",
       "      <th></th>\n",
       "      <th>flug</th>\n",
       "      <th>fldg</th>\n",
       "      <th>fnetg</th>\n",
       "    </tr>\n",
       "    <tr>\n",
       "      <th>pressure</th>\n",
       "      <th>level</th>\n",
       "      <th></th>\n",
       "      <th></th>\n",
       "      <th></th>\n",
       "    </tr>\n",
       "  </thead>\n",
       "  <tbody>\n",
       "    <tr>\n",
       "      <th>0.0000</th>\n",
       "      <th>1</th>\n",
       "      <td>-0.099932</td>\n",
       "      <td>-9.686974e-08</td>\n",
       "      <td>-0.099932</td>\n",
       "    </tr>\n",
       "    <tr>\n",
       "      <th>1.0685</th>\n",
       "      <th>24</th>\n",
       "      <td>-0.099944</td>\n",
       "      <td>-2.654954e-05</td>\n",
       "      <td>-0.099970</td>\n",
       "    </tr>\n",
       "    <tr>\n",
       "      <th>1013.0000</th>\n",
       "      <th>76</th>\n",
       "      <td>0.000000</td>\n",
       "      <td>-1.401668e-01</td>\n",
       "      <td>-0.140168</td>\n",
       "    </tr>\n",
       "  </tbody>\n",
       "</table>\n",
       "</div>"
      ],
      "text/plain": [
       "                     flug          fldg     fnetg\n",
       "pressure  level                                  \n",
       "0.0000    1     -0.099932 -9.686974e-08 -0.099932\n",
       "1.0685    24    -0.099944 -2.654954e-05 -0.099970\n",
       "1013.0000 76     0.000000 -1.401668e-01 -0.140168"
      ]
     },
     "metadata": {},
     "output_type": "display_data"
    },
    {
     "name": "stdout",
     "output_type": "stream",
     "text": [
      "Table. Fluxes. (CLIRAD) - (CRD)\n"
     ]
    },
    {
     "data": {
      "text/html": [
       "<a id=\"Best-fit_Parameters\"></a>"
      ],
      "text/plain": [
       "<IPython.core.display.HTML object>"
      ]
     },
     "metadata": {},
     "output_type": "display_data"
    },
    {
     "data": {
      "text/markdown": [
       "# Best-fit Parameters"
      ],
      "text/plain": [
       "<IPython.core.display.Markdown object>"
      ]
     },
     "metadata": {},
     "output_type": "display_data"
    },
    {
     "name": "stdout",
     "output_type": "stream",
     "text": [
      "Best-fit values for each (gas, band)\n",
      "------------------------------------\n",
      "o h2o band6\n",
      "  atmpro = mls\n",
      "  band = 6\n",
      "  commitnumber = a06b618\n",
      "  conc = None\n",
      "  dv = 0.001\n",
      "  klin = 5e-25\n",
      "  molecule = h2o\n",
      "  ng_adju = [0]\n",
      "  ng_refs = [4]\n",
      "  nv = 1000\n",
      "  option_compute_btable = 0\n",
      "  option_compute_ktable = 1\n",
      "  option_wgt_flux = 1\n",
      "  option_wgt_k = 1\n",
      "  ref_pts = [(600, 250)]\n",
      "  tsfc = 294\n",
      "  vmax = 1215\n",
      "  vmin = 1100\n",
      "  w_diffuse = [(1.66, 1.66, 1.7, 1.8)]\n",
      "  wgt = [(0.3, 0.45, 0.6, 0.95)]\n"
     ]
    }
   ],
   "source": [
    "script()"
   ]
  },
  {
   "cell_type": "code",
   "execution_count": 13,
   "metadata": {
    "collapsed": true
   },
   "outputs": [
    {
     "data": {
      "text/html": [
       "<script>\n",
       "code_show=true; \n",
       "function code_toggle() {\n",
       " if (code_show){\n",
       " $('div.input').hide();\n",
       " } else {\n",
       " $('div.input').show();\n",
       " }\n",
       " code_show = !code_show\n",
       "} \n",
       "$( document ).ready(code_toggle);\n",
       "</script>\n",
       "<form action=\"javascript:code_toggle()\"><input type=\"submit\" value=\"Click here to toggle on/off the raw code.\"></form>"
      ],
      "text/plain": [
       "<IPython.core.display.HTML object>"
      ]
     },
     "execution_count": 13,
     "metadata": {},
     "output_type": "execute_result"
    }
   ],
   "source": [
    "display.HTML('''<script>\n",
    "code_show=true; \n",
    "function code_toggle() {\n",
    " if (code_show){\n",
    " $('div.input').hide();\n",
    " } else {\n",
    " $('div.input').show();\n",
    " }\n",
    " code_show = !code_show\n",
    "} \n",
    "$( document ).ready(code_toggle);\n",
    "</script>\n",
    "<form action=\"javascript:code_toggle()\"><input type=\"submit\" value=\"Click here to toggle on/off the raw code.\"></form>''')"
   ]
  }
 ],
 "metadata": {
  "kernelspec": {
   "display_name": "Python 3",
   "language": "python",
   "name": "python3"
  },
  "language_info": {
   "codemirror_mode": {
    "name": "ipython",
    "version": 3
   },
   "file_extension": ".py",
   "mimetype": "text/x-python",
   "name": "python",
   "nbconvert_exporter": "python",
   "pygments_lexer": "ipython3",
   "version": "3.6.1"
  }
 },
 "nbformat": 4,
 "nbformat_minor": 2
}
