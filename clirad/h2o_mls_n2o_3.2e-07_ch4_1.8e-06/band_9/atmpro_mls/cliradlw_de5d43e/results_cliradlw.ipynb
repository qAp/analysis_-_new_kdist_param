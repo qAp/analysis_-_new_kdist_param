{
 "cells": [
  {
   "cell_type": "code",
   "execution_count": 1,
   "metadata": {
    "collapsed": true
   },
   "outputs": [],
   "source": [
    "%matplotlib inline\n",
    "import os\n",
    "import re\n",
    "import io\n",
    "import itertools\n",
    "import pprint\n",
    "\n",
    "from bokeh.io import output_notebook, show\n",
    "from bokeh.layouts import gridplot\n",
    "from bokeh.plotting import figure\n",
    "from bokeh.models import Range1d, Legend\n",
    "from bokeh.palettes import all_palettes\n",
    "\n",
    "import matplotlib\n",
    "import matplotlib.pyplot as plt\n",
    "import numpy as np\n",
    "import pandas as pd\n",
    "import xarray as xr\n",
    "\n",
    "import climatools.lblnew.bestfit_params as bestfits\n",
    "from climatools.lblnew import setup_bestfit, setup_overlap\n",
    "import climatools.lblnew.pipeline as pipe_lblnew\n",
    "import climatools.cliradlw.setup as setup_cliradlw\n",
    "import climatools.cliradlw.pipeline as pipe_cliradlw\n",
    "\n",
    "import climatools.html.html as climahtml\n",
    "from climatools.lblnew.dataio import *\n",
    "from climatools.plot.plot import *\n",
    "\n",
    "\n",
    "import IPython.display as display"
   ]
  },
  {
   "cell_type": "code",
   "execution_count": 2,
   "metadata": {
    "collapsed": true
   },
   "outputs": [],
   "source": [
    "%run param.py"
   ]
  },
  {
   "cell_type": "code",
   "execution_count": 3,
   "metadata": {
    "collapsed": true
   },
   "outputs": [],
   "source": [
    "def load_output_file(path_csv):\n",
    "    '''\n",
    "    Load lblnew output .csv file to xarray.Dataset\n",
    "    \n",
    "    Parameters\n",
    "    ----------\n",
    "    path_csv: str\n",
    "              Path to the .csv file to be loaded.\n",
    "    ds: xarray.Dataset\n",
    "        Data in the input file in the form of an xarray.Dataset.\n",
    "    '''\n",
    "    toindex = ['band', 'pressure', 'igg', 'g']    \n",
    "    df = pd.read_csv(path_csv, sep=r'\\s+')\n",
    "    df = df.set_index([i for i in toindex if i in df.columns])\n",
    "    df = df.rename(columns={'sfu': 'flug',\n",
    "                            'sfd': 'fldg',\n",
    "                            'fnet': 'fnetg',\n",
    "                            'coolr': 'coolrg'})\n",
    "    ds = xr.Dataset.from_dataframe(df)\n",
    "\n",
    "    for l in ('level', 'layer'):\n",
    "        if l in ds.data_vars:\n",
    "            if len(ds[l].dims) > 1:\n",
    "                surface = {d: 0 for d in ds.dims if d != 'pressure'}\n",
    "                coord_level = ds[l][surface]\n",
    "                ds.coords[l] = ('pressure', coord_level)\n",
    "            else:\n",
    "                ds.coords[l] = ('pressure', ds[l])\n",
    "    \n",
    "    return ds"
   ]
  },
  {
   "cell_type": "code",
   "execution_count": 4,
   "metadata": {
    "collapsed": true
   },
   "outputs": [],
   "source": [
    "def lblnew_setup(param=None):\n",
    "    if 'ng_refs' in param:\n",
    "        return {'setup': setup_bestfit,\n",
    "                'fname_flux_crd': 'output_flux.dat',\n",
    "                'fname_cool_crd': 'output_coolr.dat',\n",
    "                'fname_flux_wgt': 'output_wfluxg.dat',\n",
    "                'fname_cool_wgt': 'output_wcoolrg.dat'}\n",
    "    else:\n",
    "        return {'setup': setup_overlap,\n",
    "                'fname_flux_crd': 'output_flux.dat',\n",
    "                'fname_cool_crd': 'output_coolr.dat',\n",
    "                'fname_flux_wgt': 'output_wflux.dat',\n",
    "                'fname_cool_wgt': 'output_wcoolr.dat'}\n",
    "\n",
    "    \n",
    "def load_lblnew_data(param):\n",
    "    \n",
    "    fname_dsname = [('fname_flux_crd', 'ds_flux_crd'),\n",
    "                    ('fname_cool_crd', 'ds_cool_crd'),\n",
    "                    ('fname_flux_wgt', 'ds_flux_wgt'),\n",
    "                    ('fname_cool_wgt', 'ds_cool_wgt')]\n",
    "    \n",
    "    d = lblnew_setup(param)\n",
    "    dir_fortran = pipe_lblnew.get_dir_case(param, setup=d['setup'])\n",
    "    \n",
    "    data_dict = {}\n",
    "    for fname, dsname in fname_dsname:\n",
    "        fpath = os.path.join(dir_fortran, d[fname])\n",
    "        data_dict[dsname] = load_output_file(fpath)\n",
    "    return data_dict\n",
    "    \n",
    "\n",
    "    \n",
    "    "
   ]
  },
  {
   "cell_type": "code",
   "execution_count": 5,
   "metadata": {
    "collapsed": true
   },
   "outputs": [],
   "source": [
    "d = load_lblnew_data(PARAM_LBLNEW)\n",
    "\n",
    "DS_FLUX_CRD = d['ds_flux_crd']\n",
    "DS_COOL_CRD = d['ds_cool_crd']\n",
    "DS_FLUX_WGT = d['ds_flux_wgt']\n",
    "DS_COOL_WGT = d['ds_cool_wgt']"
   ]
  },
  {
   "cell_type": "code",
   "execution_count": 6,
   "metadata": {
    "collapsed": true
   },
   "outputs": [],
   "source": [
    "DIR_FORTRAN = pipe_cliradlw.get_fortran_dir(PARAM, \n",
    "                                            setup=setup_cliradlw)\n",
    "\n",
    "PATH_FLUX = os.path.join(DIR_FORTRAN, 'output_flux.dat')\n",
    "PATH_COOL = os.path.join(DIR_FORTRAN, 'output_coolr.dat')\n",
    "\n",
    "DS_FLUX = load_output_file(PATH_FLUX)\n",
    "DS_COOL = load_output_file(PATH_COOL)"
   ]
  },
  {
   "cell_type": "code",
   "execution_count": 7,
   "metadata": {
    "collapsed": true
   },
   "outputs": [
    {
     "data": {
      "text/html": [
       "\n",
       "    <div class=\"bk-root\">\n",
       "        <a href=\"https://bokeh.pydata.org\" target=\"_blank\" class=\"bk-logo bk-logo-small bk-logo-notebook\"></a>\n",
       "        <span id=\"6edf9327-c58a-4edb-a7a1-442233b6e606\">Loading BokehJS ...</span>\n",
       "    </div>"
      ]
     },
     "metadata": {},
     "output_type": "display_data"
    },
    {
     "data": {
      "application/javascript": [
       "\n",
       "(function(root) {\n",
       "  function now() {\n",
       "    return new Date();\n",
       "  }\n",
       "\n",
       "  var force = true;\n",
       "\n",
       "  if (typeof (root._bokeh_onload_callbacks) === \"undefined\" || force === true) {\n",
       "    root._bokeh_onload_callbacks = [];\n",
       "    root._bokeh_is_loading = undefined;\n",
       "  }\n",
       "\n",
       "  var JS_MIME_TYPE = 'application/javascript';\n",
       "  var HTML_MIME_TYPE = 'text/html';\n",
       "  var EXEC_MIME_TYPE = 'application/vnd.bokehjs_exec.v0+json';\n",
       "  var CLASS_NAME = 'output_bokeh rendered_html';\n",
       "\n",
       "  /**\n",
       "   * Render data to the DOM node\n",
       "   */\n",
       "  function render(props, node) {\n",
       "    var script = document.createElement(\"script\");\n",
       "    node.appendChild(script);\n",
       "  }\n",
       "\n",
       "  /**\n",
       "   * Handle when an output is cleared or removed\n",
       "   */\n",
       "  function handleClearOutput(event, handle) {\n",
       "    var cell = handle.cell;\n",
       "\n",
       "    var id = cell.output_area._bokeh_element_id;\n",
       "    var server_id = cell.output_area._bokeh_server_id;\n",
       "    // Clean up Bokeh references\n",
       "    if (id !== undefined) {\n",
       "      Bokeh.index[id].model.document.clear();\n",
       "      delete Bokeh.index[id];\n",
       "    }\n",
       "\n",
       "    if (server_id !== undefined) {\n",
       "      // Clean up Bokeh references\n",
       "      var cmd = \"from bokeh.io.state import curstate; print(curstate().uuid_to_server['\" + server_id + \"'].get_sessions()[0].document.roots[0]._id)\";\n",
       "      cell.notebook.kernel.execute(cmd, {\n",
       "        iopub: {\n",
       "          output: function(msg) {\n",
       "            var element_id = msg.content.text.trim();\n",
       "            Bokeh.index[element_id].model.document.clear();\n",
       "            delete Bokeh.index[element_id];\n",
       "          }\n",
       "        }\n",
       "      });\n",
       "      // Destroy server and session\n",
       "      var cmd = \"import bokeh.io.notebook as ion; ion.destroy_server('\" + server_id + \"')\";\n",
       "      cell.notebook.kernel.execute(cmd);\n",
       "    }\n",
       "  }\n",
       "\n",
       "  /**\n",
       "   * Handle when a new output is added\n",
       "   */\n",
       "  function handleAddOutput(event, handle) {\n",
       "    var output_area = handle.output_area;\n",
       "    var output = handle.output;\n",
       "\n",
       "    // limit handleAddOutput to display_data with EXEC_MIME_TYPE content only\n",
       "    if ((output.output_type != \"display_data\") || (!output.data.hasOwnProperty(EXEC_MIME_TYPE))) {\n",
       "      return\n",
       "    }\n",
       "\n",
       "    var toinsert = output_area.element.find(\".\" + CLASS_NAME.split(' ')[0]);\n",
       "\n",
       "    if (output.metadata[EXEC_MIME_TYPE][\"id\"] !== undefined) {\n",
       "      toinsert[toinsert.length - 1].firstChild.textContent = output.data[JS_MIME_TYPE];\n",
       "      // store reference to embed id on output_area\n",
       "      output_area._bokeh_element_id = output.metadata[EXEC_MIME_TYPE][\"id\"];\n",
       "    }\n",
       "    if (output.metadata[EXEC_MIME_TYPE][\"server_id\"] !== undefined) {\n",
       "      var bk_div = document.createElement(\"div\");\n",
       "      bk_div.innerHTML = output.data[HTML_MIME_TYPE];\n",
       "      var script_attrs = bk_div.children[0].attributes;\n",
       "      for (var i = 0; i < script_attrs.length; i++) {\n",
       "        toinsert[toinsert.length - 1].firstChild.setAttribute(script_attrs[i].name, script_attrs[i].value);\n",
       "      }\n",
       "      // store reference to server id on output_area\n",
       "      output_area._bokeh_server_id = output.metadata[EXEC_MIME_TYPE][\"server_id\"];\n",
       "    }\n",
       "  }\n",
       "\n",
       "  function register_renderer(events, OutputArea) {\n",
       "\n",
       "    function append_mime(data, metadata, element) {\n",
       "      // create a DOM node to render to\n",
       "      var toinsert = this.create_output_subarea(\n",
       "        metadata,\n",
       "        CLASS_NAME,\n",
       "        EXEC_MIME_TYPE\n",
       "      );\n",
       "      this.keyboard_manager.register_events(toinsert);\n",
       "      // Render to node\n",
       "      var props = {data: data, metadata: metadata[EXEC_MIME_TYPE]};\n",
       "      render(props, toinsert[toinsert.length - 1]);\n",
       "      element.append(toinsert);\n",
       "      return toinsert\n",
       "    }\n",
       "\n",
       "    /* Handle when an output is cleared or removed */\n",
       "    events.on('clear_output.CodeCell', handleClearOutput);\n",
       "    events.on('delete.Cell', handleClearOutput);\n",
       "\n",
       "    /* Handle when a new output is added */\n",
       "    events.on('output_added.OutputArea', handleAddOutput);\n",
       "\n",
       "    /**\n",
       "     * Register the mime type and append_mime function with output_area\n",
       "     */\n",
       "    OutputArea.prototype.register_mime_type(EXEC_MIME_TYPE, append_mime, {\n",
       "      /* Is output safe? */\n",
       "      safe: true,\n",
       "      /* Index of renderer in `output_area.display_order` */\n",
       "      index: 0\n",
       "    });\n",
       "  }\n",
       "\n",
       "  // register the mime type if in Jupyter Notebook environment and previously unregistered\n",
       "  if (root.Jupyter !== undefined) {\n",
       "    var events = require('base/js/events');\n",
       "    var OutputArea = require('notebook/js/outputarea').OutputArea;\n",
       "\n",
       "    if (OutputArea.prototype.mime_types().indexOf(EXEC_MIME_TYPE) == -1) {\n",
       "      register_renderer(events, OutputArea);\n",
       "    }\n",
       "  }\n",
       "\n",
       "  \n",
       "  if (typeof (root._bokeh_timeout) === \"undefined\" || force === true) {\n",
       "    root._bokeh_timeout = Date.now() + 5000;\n",
       "    root._bokeh_failed_load = false;\n",
       "  }\n",
       "\n",
       "  var NB_LOAD_WARNING = {'data': {'text/html':\n",
       "     \"<div style='background-color: #fdd'>\\n\"+\n",
       "     \"<p>\\n\"+\n",
       "     \"BokehJS does not appear to have successfully loaded. If loading BokehJS from CDN, this \\n\"+\n",
       "     \"may be due to a slow or bad network connection. Possible fixes:\\n\"+\n",
       "     \"</p>\\n\"+\n",
       "     \"<ul>\\n\"+\n",
       "     \"<li>re-rerun `output_notebook()` to attempt to load from CDN again, or</li>\\n\"+\n",
       "     \"<li>use INLINE resources instead, as so:</li>\\n\"+\n",
       "     \"</ul>\\n\"+\n",
       "     \"<code>\\n\"+\n",
       "     \"from bokeh.resources import INLINE\\n\"+\n",
       "     \"output_notebook(resources=INLINE)\\n\"+\n",
       "     \"</code>\\n\"+\n",
       "     \"</div>\"}};\n",
       "\n",
       "  function display_loaded() {\n",
       "    var el = document.getElementById(\"6edf9327-c58a-4edb-a7a1-442233b6e606\");\n",
       "    if (el != null) {\n",
       "      el.textContent = \"BokehJS is loading...\";\n",
       "    }\n",
       "    if (root.Bokeh !== undefined) {\n",
       "      if (el != null) {\n",
       "        el.textContent = \"BokehJS \" + root.Bokeh.version + \" successfully loaded.\";\n",
       "      }\n",
       "    } else if (Date.now() < root._bokeh_timeout) {\n",
       "      setTimeout(display_loaded, 100)\n",
       "    }\n",
       "  }\n",
       "\n",
       "\n",
       "  function run_callbacks() {\n",
       "    try {\n",
       "      root._bokeh_onload_callbacks.forEach(function(callback) { callback() });\n",
       "    }\n",
       "    finally {\n",
       "      delete root._bokeh_onload_callbacks\n",
       "    }\n",
       "    console.info(\"Bokeh: all callbacks have finished\");\n",
       "  }\n",
       "\n",
       "  function load_libs(js_urls, callback) {\n",
       "    root._bokeh_onload_callbacks.push(callback);\n",
       "    if (root._bokeh_is_loading > 0) {\n",
       "      console.log(\"Bokeh: BokehJS is being loaded, scheduling callback at\", now());\n",
       "      return null;\n",
       "    }\n",
       "    if (js_urls == null || js_urls.length === 0) {\n",
       "      run_callbacks();\n",
       "      return null;\n",
       "    }\n",
       "    console.log(\"Bokeh: BokehJS not loaded, scheduling load and callback at\", now());\n",
       "    root._bokeh_is_loading = js_urls.length;\n",
       "    for (var i = 0; i < js_urls.length; i++) {\n",
       "      var url = js_urls[i];\n",
       "      var s = document.createElement('script');\n",
       "      s.src = url;\n",
       "      s.async = false;\n",
       "      s.onreadystatechange = s.onload = function() {\n",
       "        root._bokeh_is_loading--;\n",
       "        if (root._bokeh_is_loading === 0) {\n",
       "          console.log(\"Bokeh: all BokehJS libraries loaded\");\n",
       "          run_callbacks()\n",
       "        }\n",
       "      };\n",
       "      s.onerror = function() {\n",
       "        console.warn(\"failed to load library \" + url);\n",
       "      };\n",
       "      console.log(\"Bokeh: injecting script tag for BokehJS library: \", url);\n",
       "      document.getElementsByTagName(\"head\")[0].appendChild(s);\n",
       "    }\n",
       "  };var element = document.getElementById(\"6edf9327-c58a-4edb-a7a1-442233b6e606\");\n",
       "  if (element == null) {\n",
       "    console.log(\"Bokeh: ERROR: autoload.js configured with elementid '6edf9327-c58a-4edb-a7a1-442233b6e606' but no matching script tag was found. \")\n",
       "    return false;\n",
       "  }\n",
       "\n",
       "  var js_urls = [\"https://cdn.pydata.org/bokeh/release/bokeh-0.12.16.min.js\", \"https://cdn.pydata.org/bokeh/release/bokeh-widgets-0.12.16.min.js\", \"https://cdn.pydata.org/bokeh/release/bokeh-tables-0.12.16.min.js\", \"https://cdn.pydata.org/bokeh/release/bokeh-gl-0.12.16.min.js\"];\n",
       "\n",
       "  var inline_js = [\n",
       "    function(Bokeh) {\n",
       "      Bokeh.set_log_level(\"info\");\n",
       "    },\n",
       "    \n",
       "    function(Bokeh) {\n",
       "      \n",
       "    },\n",
       "    function(Bokeh) {\n",
       "      console.log(\"Bokeh: injecting CSS: https://cdn.pydata.org/bokeh/release/bokeh-0.12.16.min.css\");\n",
       "      Bokeh.embed.inject_css(\"https://cdn.pydata.org/bokeh/release/bokeh-0.12.16.min.css\");\n",
       "      console.log(\"Bokeh: injecting CSS: https://cdn.pydata.org/bokeh/release/bokeh-widgets-0.12.16.min.css\");\n",
       "      Bokeh.embed.inject_css(\"https://cdn.pydata.org/bokeh/release/bokeh-widgets-0.12.16.min.css\");\n",
       "      console.log(\"Bokeh: injecting CSS: https://cdn.pydata.org/bokeh/release/bokeh-tables-0.12.16.min.css\");\n",
       "      Bokeh.embed.inject_css(\"https://cdn.pydata.org/bokeh/release/bokeh-tables-0.12.16.min.css\");\n",
       "    }\n",
       "  ];\n",
       "\n",
       "  function run_inline_js() {\n",
       "    \n",
       "    if ((root.Bokeh !== undefined) || (force === true)) {\n",
       "      for (var i = 0; i < inline_js.length; i++) {\n",
       "        inline_js[i].call(root, root.Bokeh);\n",
       "      }if (force === true) {\n",
       "        display_loaded();\n",
       "      }} else if (Date.now() < root._bokeh_timeout) {\n",
       "      setTimeout(run_inline_js, 100);\n",
       "    } else if (!root._bokeh_failed_load) {\n",
       "      console.log(\"Bokeh: BokehJS failed to load within specified timeout.\");\n",
       "      root._bokeh_failed_load = true;\n",
       "    } else if (force !== true) {\n",
       "      var cell = $(document.getElementById(\"6edf9327-c58a-4edb-a7a1-442233b6e606\")).parents('.cell').data().cell;\n",
       "      cell.output_area.append_execute_result(NB_LOAD_WARNING)\n",
       "    }\n",
       "\n",
       "  }\n",
       "\n",
       "  if (root._bokeh_is_loading === 0) {\n",
       "    console.log(\"Bokeh: BokehJS loaded, going straight to plotting\");\n",
       "    run_inline_js();\n",
       "  } else {\n",
       "    load_libs(js_urls, function() {\n",
       "      console.log(\"Bokeh: BokehJS plotting callback run at\", now());\n",
       "      run_inline_js();\n",
       "    });\n",
       "  }\n",
       "}(window));"
      ],
      "application/vnd.bokehjs_load.v0+json": "\n(function(root) {\n  function now() {\n    return new Date();\n  }\n\n  var force = true;\n\n  if (typeof (root._bokeh_onload_callbacks) === \"undefined\" || force === true) {\n    root._bokeh_onload_callbacks = [];\n    root._bokeh_is_loading = undefined;\n  }\n\n  \n\n  \n  if (typeof (root._bokeh_timeout) === \"undefined\" || force === true) {\n    root._bokeh_timeout = Date.now() + 5000;\n    root._bokeh_failed_load = false;\n  }\n\n  var NB_LOAD_WARNING = {'data': {'text/html':\n     \"<div style='background-color: #fdd'>\\n\"+\n     \"<p>\\n\"+\n     \"BokehJS does not appear to have successfully loaded. If loading BokehJS from CDN, this \\n\"+\n     \"may be due to a slow or bad network connection. Possible fixes:\\n\"+\n     \"</p>\\n\"+\n     \"<ul>\\n\"+\n     \"<li>re-rerun `output_notebook()` to attempt to load from CDN again, or</li>\\n\"+\n     \"<li>use INLINE resources instead, as so:</li>\\n\"+\n     \"</ul>\\n\"+\n     \"<code>\\n\"+\n     \"from bokeh.resources import INLINE\\n\"+\n     \"output_notebook(resources=INLINE)\\n\"+\n     \"</code>\\n\"+\n     \"</div>\"}};\n\n  function display_loaded() {\n    var el = document.getElementById(\"6edf9327-c58a-4edb-a7a1-442233b6e606\");\n    if (el != null) {\n      el.textContent = \"BokehJS is loading...\";\n    }\n    if (root.Bokeh !== undefined) {\n      if (el != null) {\n        el.textContent = \"BokehJS \" + root.Bokeh.version + \" successfully loaded.\";\n      }\n    } else if (Date.now() < root._bokeh_timeout) {\n      setTimeout(display_loaded, 100)\n    }\n  }\n\n\n  function run_callbacks() {\n    try {\n      root._bokeh_onload_callbacks.forEach(function(callback) { callback() });\n    }\n    finally {\n      delete root._bokeh_onload_callbacks\n    }\n    console.info(\"Bokeh: all callbacks have finished\");\n  }\n\n  function load_libs(js_urls, callback) {\n    root._bokeh_onload_callbacks.push(callback);\n    if (root._bokeh_is_loading > 0) {\n      console.log(\"Bokeh: BokehJS is being loaded, scheduling callback at\", now());\n      return null;\n    }\n    if (js_urls == null || js_urls.length === 0) {\n      run_callbacks();\n      return null;\n    }\n    console.log(\"Bokeh: BokehJS not loaded, scheduling load and callback at\", now());\n    root._bokeh_is_loading = js_urls.length;\n    for (var i = 0; i < js_urls.length; i++) {\n      var url = js_urls[i];\n      var s = document.createElement('script');\n      s.src = url;\n      s.async = false;\n      s.onreadystatechange = s.onload = function() {\n        root._bokeh_is_loading--;\n        if (root._bokeh_is_loading === 0) {\n          console.log(\"Bokeh: all BokehJS libraries loaded\");\n          run_callbacks()\n        }\n      };\n      s.onerror = function() {\n        console.warn(\"failed to load library \" + url);\n      };\n      console.log(\"Bokeh: injecting script tag for BokehJS library: \", url);\n      document.getElementsByTagName(\"head\")[0].appendChild(s);\n    }\n  };var element = document.getElementById(\"6edf9327-c58a-4edb-a7a1-442233b6e606\");\n  if (element == null) {\n    console.log(\"Bokeh: ERROR: autoload.js configured with elementid '6edf9327-c58a-4edb-a7a1-442233b6e606' but no matching script tag was found. \")\n    return false;\n  }\n\n  var js_urls = [\"https://cdn.pydata.org/bokeh/release/bokeh-0.12.16.min.js\", \"https://cdn.pydata.org/bokeh/release/bokeh-widgets-0.12.16.min.js\", \"https://cdn.pydata.org/bokeh/release/bokeh-tables-0.12.16.min.js\", \"https://cdn.pydata.org/bokeh/release/bokeh-gl-0.12.16.min.js\"];\n\n  var inline_js = [\n    function(Bokeh) {\n      Bokeh.set_log_level(\"info\");\n    },\n    \n    function(Bokeh) {\n      \n    },\n    function(Bokeh) {\n      console.log(\"Bokeh: injecting CSS: https://cdn.pydata.org/bokeh/release/bokeh-0.12.16.min.css\");\n      Bokeh.embed.inject_css(\"https://cdn.pydata.org/bokeh/release/bokeh-0.12.16.min.css\");\n      console.log(\"Bokeh: injecting CSS: https://cdn.pydata.org/bokeh/release/bokeh-widgets-0.12.16.min.css\");\n      Bokeh.embed.inject_css(\"https://cdn.pydata.org/bokeh/release/bokeh-widgets-0.12.16.min.css\");\n      console.log(\"Bokeh: injecting CSS: https://cdn.pydata.org/bokeh/release/bokeh-tables-0.12.16.min.css\");\n      Bokeh.embed.inject_css(\"https://cdn.pydata.org/bokeh/release/bokeh-tables-0.12.16.min.css\");\n    }\n  ];\n\n  function run_inline_js() {\n    \n    if ((root.Bokeh !== undefined) || (force === true)) {\n      for (var i = 0; i < inline_js.length; i++) {\n        inline_js[i].call(root, root.Bokeh);\n      }if (force === true) {\n        display_loaded();\n      }} else if (Date.now() < root._bokeh_timeout) {\n      setTimeout(run_inline_js, 100);\n    } else if (!root._bokeh_failed_load) {\n      console.log(\"Bokeh: BokehJS failed to load within specified timeout.\");\n      root._bokeh_failed_load = true;\n    } else if (force !== true) {\n      var cell = $(document.getElementById(\"6edf9327-c58a-4edb-a7a1-442233b6e606\")).parents('.cell').data().cell;\n      cell.output_area.append_execute_result(NB_LOAD_WARNING)\n    }\n\n  }\n\n  if (root._bokeh_is_loading === 0) {\n    console.log(\"Bokeh: BokehJS loaded, going straight to plotting\");\n    run_inline_js();\n  } else {\n    load_libs(js_urls, function() {\n      console.log(\"Bokeh: BokehJS plotting callback run at\", now());\n      run_inline_js();\n    });\n  }\n}(window));"
     },
     "metadata": {},
     "output_type": "display_data"
    }
   ],
   "source": [
    "output_notebook()"
   ]
  },
  {
   "cell_type": "code",
   "execution_count": 8,
   "metadata": {
    "collapsed": true
   },
   "outputs": [],
   "source": [
    "def fmt_cool(ds_in):\n",
    "    ds = ds_in.copy(deep=True)\n",
    "    if 'igg' in ds.dims:\n",
    "        ds = ds.sel(igg=1)\n",
    "\n",
    "    if 'g' in ds.dims:\n",
    "        ds = ds.sum('g')\n",
    "            \n",
    "    if 'band' in ds.dims:\n",
    "        try:\n",
    "            ds = ds.squeeze('band')\n",
    "        except ValueError:\n",
    "            ds = ds.sum('band')\n",
    "                \n",
    "    return ds['coolrg']\n",
    "\n",
    "\n",
    "def pltdata_cooling_1(ds_cool=None,\n",
    "                      ds_cool_crd=None, ds_cool_wgt=None):\n",
    "    \n",
    "\n",
    "\n",
    "    colors = all_palettes['Set1'][4]\n",
    "    data = [{'label': 'CLIRAD `coolr_bands`',\n",
    "             'srs': fmt_cool(ds_cool),\n",
    "             'line_dash': 'dashed', 'line_width': 5,\n",
    "             'color': colors[0], 'alpha': .6},\n",
    "            {'label': 'CRD',\n",
    "             'srs': fmt_cool(ds_cool_crd),\n",
    "             'line_dash': 'solid', 'line_width': 1.5,\n",
    "             'marker': 'circle', 'marker_size': 5,\n",
    "             'color': colors[2], 'alpha': 1,},\n",
    "            {'label': 'WGT igg=10 wgt_flux=2',\n",
    "             'srs': fmt_cool(ds_cool_wgt),\n",
    "             'line_dash': 'solid', 'line_width': 3,\n",
    "             'marker': 'square', 'marker_size': 5,\n",
    "             'color': colors[3], 'alpha': .6}]\n",
    "    return data\n",
    "\n",
    "\n",
    "def nice_xlims(pltdata=None, prange=None):\n",
    "    \n",
    "    def get_slice(srs):\n",
    "        return srs.sel(pressure=slice(*prange))\n",
    "    \n",
    "    srss = [d['srs'] for d in pltdata]\n",
    "    vmin = min([get_slice(srs).min() for srs in srss])\n",
    "    vmax = max([get_slice(srs).max() for srs in srss])\n",
    "    dv = (vmax - vmin) * .01\n",
    "    return float(vmin - dv), float(vmax + dv)\n",
    "    \n",
    "\n",
    "def plt_cooling_bokeh(pltdata=None):\n",
    "    '''\n",
    "    Plot a list of cooling rate profiles using bokeh.\n",
    "    '''\n",
    "    ymin = 1e-2 \n",
    "    ymax = 1020 \n",
    "        \n",
    "    p1 = figure(title=\"Linear pressure scale\", \n",
    "                plot_width=400)        \n",
    "    xmin, xmax = nice_xlims(pltdata, prange=(50, 1050))\n",
    "    for d in pltdata:\n",
    "        if 'marker' in d:\n",
    "            getattr(p1, d['marker'])(d['srs'].values, \n",
    "                    d['srs'].coords['pressure'].values,\n",
    "                    color=d['color'], alpha=.7)\n",
    "        p1.line(d['srs'].values, \n",
    "                d['srs'].coords['pressure'].values,\n",
    "                color=d['color'], alpha=d['alpha'], \n",
    "                line_width=d['line_width'], line_dash=d['line_dash'])\n",
    "    \n",
    "    p1.y_range = Range1d(ymax, ymin)\n",
    "    p1.yaxis.axis_label = 'pressure [mb]'   \n",
    "    p1.x_range = Range1d(xmin, xmax)\n",
    "    p1.xaxis.axis_label = 'cooling rate [K/day]'\n",
    "            \n",
    "    p2 = figure(title='Log pressure scale', y_axis_type='log',\n",
    "                plot_width=560)\n",
    "    xmin, xmax = nice_xlims(pltdata, prange=(.01, 200))\n",
    "    \n",
    "    rs = []\n",
    "    for d in pltdata:\n",
    "        rd = []\n",
    "        if 'marker' in d:\n",
    "            r_mark = getattr(p2, d['marker'])(d['srs'].values, \n",
    "                        d['srs'].coords['pressure'].values,\n",
    "                        color=d['color'], alpha=.7)\n",
    "            rd.append(r_mark)\n",
    "        r_line = p2.line(d['srs'].values, \n",
    "                    d['srs'].coords['pressure'].values,\n",
    "                    color=d['color'], alpha=d['alpha'], \n",
    "                    line_width=d['line_width'], line_dash=d['line_dash'])\n",
    "        rd.append(r_line)\n",
    "      \n",
    "        rs.append(rd)\n",
    "        \n",
    "    p2.y_range = Range1d(ymax, ymin)  \n",
    "    p2.yaxis.axis_label = 'pressure [mb]'\n",
    "    \n",
    "    p2.x_range = Range1d(xmin, xmax)\n",
    "    p2.xaxis.axis_label = 'cooling rate [K/day]'\n",
    "    \n",
    "    items = [(d['label'], r) for r, d in zip(rs, pltdata)]\n",
    "    legend = Legend(items=items, location=(10, -30))\n",
    "    legend.label_text_font_size = '8pt'\n",
    "    \n",
    "    p2.add_layout(legend, 'right')  \n",
    "    \n",
    "    show(gridplot(p1, p2, ncols=2, plot_height=500))\n",
    "    \n",
    "\n",
    "def script_plt_cooling():\n",
    "    pltdata = pltdata_cooling_1(\n",
    "        ds_cool=DS_COOL,\n",
    "        ds_cool_crd=DS_COOL_CRD,\n",
    "        ds_cool_wgt=DS_COOL_WGT)\n",
    "    plt_cooling_bokeh(pltdata=pltdata)\n",
    "    print('''FIGURE. Cooling rate profiles.''')"
   ]
  },
  {
   "cell_type": "code",
   "execution_count": 9,
   "metadata": {
    "collapsed": true
   },
   "outputs": [],
   "source": [
    "def fmt_flux(ds_in):\n",
    "    ds = ds_in.copy(deep=True)\n",
    "    \n",
    "    for l in ('level', 'layer'):\n",
    "        if l in ds.data_vars:\n",
    "            if len(ds[l].dims) > 1:\n",
    "                surface = {d: 0 for d in ds.dims if d != 'pressure'}\n",
    "                coord_level = ds[l][surface]\n",
    "                ds.coords[l] = ('pressure', coord_level)\n",
    "            else:\n",
    "                ds.coords[l] = ('pressure', ds[l])\n",
    "        \n",
    "    ds = ds.isel(pressure=[0, 23, -1])\n",
    "        \n",
    "    if 'igg' in ds.dims:\n",
    "        ds = ds.sel(igg=[1])\n",
    "        ds = ds.squeeze('igg').drop('igg')\n",
    "    \n",
    "    if 'g' in ds.dims:\n",
    "        ds = ds.sum('g')\n",
    "            \n",
    "    if 'band' in ds.dims:\n",
    "        try:\n",
    "            ds = ds.squeeze('band').drop('band')\n",
    "        except ValueError:\n",
    "            ds = ds.sum('band')\n",
    "                \n",
    "    df = ds.to_dataframe()\n",
    "    df = df.set_index('level', append=True)               \n",
    "    return df\n",
    "\n",
    "\n",
    "def tbdata_flux(ds_flux=None, ds_flux_crd=None, ds_flux_wgt=None):\n",
    "    ilevels = [0, 23, -1]\n",
    "            \n",
    "    benchmark = {'label': 'CRD',\n",
    "                 'df': fmt_flux(ds_flux_crd)}\n",
    "    \n",
    "    tbs = [{'label': 'WGT igg=10 wgt_flux=1',\n",
    "            'df': fmt_flux(ds_flux_wgt)},\n",
    "           {'label': 'CLIRAD',\n",
    "            'df': fmt_flux(ds_flux)}]\n",
    "    \n",
    "    data = {'benchmark': benchmark, 'others': tbs}\n",
    "    return data\n",
    "\n",
    "\n",
    "def tb_flux(tbdata=None):\n",
    "    benchmark = tbdata['benchmark']\n",
    "    others = tbdata['others']\n",
    "    \n",
    "    def show_tb(d=None):\n",
    "        display.display(d['df'])\n",
    "        print('Table.', 'Fluxes.', d['label'])\n",
    "        \n",
    "    def show_tbdiff(d0=None, d=None):\n",
    "        df = d['df']\n",
    "        df.index = d0['df'].index\n",
    "        display.display(df - d0['df'])\n",
    "        print('Table.', 'Fluxes.', \n",
    "              '({}) - ({})'.format(d['label'], d0['label']))\n",
    "        \n",
    "    show_tb(benchmark)\n",
    "    for d in others:\n",
    "        show_tb(d)\n",
    "        \n",
    "    for d in others:\n",
    "        show_tbdiff(d=d, d0=benchmark)\n",
    "        \n",
    "        \n",
    "def script_tb_flux():\n",
    "    data = tbdata_flux(ds_flux=DS_FLUX,\n",
    "                       ds_flux_crd=DS_FLUX_CRD,\n",
    "                       ds_flux_wgt=DS_FLUX_WGT)\n",
    "    tb_flux(tbdata=data)"
   ]
  },
  {
   "cell_type": "code",
   "execution_count": 10,
   "metadata": {
    "collapsed": true
   },
   "outputs": [],
   "source": [
    "def band_map():\n",
    "    '''\n",
    "    Maps spectral bands in lblnew to spectral bands in clirad.\n",
    "    '''\n",
    "    lblnew2clirad = {'1': '1',\n",
    "            '2': '2',\n",
    "            '3a': '3',\n",
    "            '3b': '4',\n",
    "            '3c': '5',\n",
    "            '4': '6', \n",
    "            '5': '7',\n",
    "            '6': '8',\n",
    "            '7': '9', \n",
    "            '8': '10',\n",
    "            '9': '11'}\n",
    "    \n",
    "    clirad2lblnew = {clirad: lblnew \n",
    "                     for lblnew, clirad in lblnew2clirad.items()}\n",
    "    return clirad2lblnew\n",
    "\n",
    "\n",
    "def gasbands():\n",
    "    bmap = band_map()\n",
    "    gases = list(PARAM['molecule'].keys())\n",
    "    \n",
    "    bands = [bmap[str(b)] for b in PARAM['band']]\n",
    "    return list(itertools.product(gases, bands))\n",
    "\n",
    "\n",
    "def print_bestfit_params():\n",
    "    print('Best-fit values for each (gas, band)')\n",
    "    print('------------------------------------')\n",
    "    for gas, band in gasbands():\n",
    "        print('o {} band{}'.format(gas, band))\n",
    "        param = bestfits.kdist_params(molecule=gas, band=band)\n",
    "        for name, value in sorted(param.items()):\n",
    "            print(2 * ' ' + '{} = {}'.format(name, value))\n",
    "\n",
    "        \n",
    "def print_input_param():        \n",
    "    for name, value in PARAM.items():\n",
    "        print('{} = {}'.format(name, value))\n",
    "        \n",
    "        \n",
    "def print_lblnew_param():\n",
    "    for name, value in sorted(PARAM_LBLNEW.items()):\n",
    "        print('{} = {}'.format(name, value))\n"
   ]
  },
  {
   "cell_type": "code",
   "execution_count": 11,
   "metadata": {
    "collapsed": true,
    "scrolled": false
   },
   "outputs": [],
   "source": [
    "def show_html(s):\n",
    "    display.display(display.HTML(s))\n",
    "\n",
    "    \n",
    "def show_markdown(s):\n",
    "    display.display(display.Markdown(s))\n",
    "\n",
    "    \n",
    "def script():\n",
    "    \n",
    "    title = '### CLIRAD-LW'\n",
    "    s_input = 'Input Parameters'\n",
    "    s_lblnew_param = 'LBLNEW case compaired against'\n",
    "    s_bestfits = 'Best-fit Parameters'\n",
    "    s_plt_cooling = 'Cooling Rate Profiles'\n",
    "    s_tb_flux = 'Flux Comparison'\n",
    "    \n",
    "    # title\n",
    "    show_markdown('### CLIRAD-LW')\n",
    "    \n",
    "    # TOC\n",
    "    show_markdown('### Table of Contents')\n",
    "    show_html(climahtml.getHTML_hrefanchor(s_input))\n",
    "    show_html(climahtml.getHTML_hrefanchor(s_lblnew_param))\n",
    "    show_html(climahtml.getHTML_hrefanchor(s_plt_cooling))\n",
    "    show_html(climahtml.getHTML_hrefanchor(s_tb_flux))\n",
    "    show_html(climahtml.getHTML_hrefanchor(s_bestfits))\n",
    "    \n",
    "    # Input parameters\n",
    "    show_html(climahtml.getHTML_idanchor(s_input))\n",
    "    show_markdown(climahtml.getMarkdown_sectitle(s_input))\n",
    "    print_input_param()\n",
    "    \n",
    "    # LBLNEW parameters \n",
    "    show_html(climahtml.getHTML_idanchor(s_lblnew_param))\n",
    "    show_markdown(climahtml.getMarkdown_sectitle(s_lblnew_param))\n",
    "    print_lblnew_param()\n",
    "    \n",
    "    # Cooling rate profiles\n",
    "    show_html(climahtml.getHTML_idanchor(s_plt_cooling))\n",
    "    show_markdown(climahtml.getMarkdown_sectitle(s_plt_cooling))\n",
    "    script_plt_cooling()\n",
    "    \n",
    "    # Flux comparison\n",
    "    show_html(climahtml.getHTML_idanchor(s_tb_flux))\n",
    "    show_markdown(climahtml.getMarkdown_sectitle(s_tb_flux))\n",
    "    script_tb_flux()\n",
    "    \n",
    "    # Best-fit values\n",
    "    show_html(climahtml.getHTML_idanchor(s_bestfits))\n",
    "    show_markdown(climahtml.getMarkdown_sectitle(s_bestfits))\n",
    "    print_bestfit_params()\n",
    "   \n",
    "    "
   ]
  },
  {
   "cell_type": "code",
   "execution_count": 12,
   "metadata": {
    "collapsed": true,
    "scrolled": false
   },
   "outputs": [
    {
     "data": {
      "text/markdown": [
       "### CLIRAD-LW"
      ],
      "text/plain": [
       "<IPython.core.display.Markdown object>"
      ]
     },
     "metadata": {},
     "output_type": "display_data"
    },
    {
     "data": {
      "text/markdown": [
       "### Table of Contents"
      ],
      "text/plain": [
       "<IPython.core.display.Markdown object>"
      ]
     },
     "metadata": {},
     "output_type": "display_data"
    },
    {
     "data": {
      "text/html": [
       "<a href=\"#Input_Parameters\">Input Parameters</a>"
      ],
      "text/plain": [
       "<IPython.core.display.HTML object>"
      ]
     },
     "metadata": {},
     "output_type": "display_data"
    },
    {
     "data": {
      "text/html": [
       "<a href=\"#LBLNEW_case_compaired_against\">LBLNEW case compaired against</a>"
      ],
      "text/plain": [
       "<IPython.core.display.HTML object>"
      ]
     },
     "metadata": {},
     "output_type": "display_data"
    },
    {
     "data": {
      "text/html": [
       "<a href=\"#Cooling_Rate_Profiles\">Cooling Rate Profiles</a>"
      ],
      "text/plain": [
       "<IPython.core.display.HTML object>"
      ]
     },
     "metadata": {},
     "output_type": "display_data"
    },
    {
     "data": {
      "text/html": [
       "<a href=\"#Flux_Comparison\">Flux Comparison</a>"
      ],
      "text/plain": [
       "<IPython.core.display.HTML object>"
      ]
     },
     "metadata": {},
     "output_type": "display_data"
    },
    {
     "data": {
      "text/html": [
       "<a href=\"#Best-fit_Parameters\">Best-fit Parameters</a>"
      ],
      "text/plain": [
       "<IPython.core.display.HTML object>"
      ]
     },
     "metadata": {},
     "output_type": "display_data"
    },
    {
     "data": {
      "text/html": [
       "<a id=\"Input_Parameters\"></a>"
      ],
      "text/plain": [
       "<IPython.core.display.HTML object>"
      ]
     },
     "metadata": {},
     "output_type": "display_data"
    },
    {
     "data": {
      "text/markdown": [
       "# Input Parameters"
      ],
      "text/plain": [
       "<IPython.core.display.Markdown object>"
      ]
     },
     "metadata": {},
     "output_type": "display_data"
    },
    {
     "name": "stdout",
     "output_type": "stream",
     "text": [
      "commitnumber = de5d43e\n",
      "molecule = {'h2o': 'atmpro', 'n2o': 3.2e-07, 'ch4': 1.8e-06}\n",
      "band = [9]\n",
      "atmpro = mls\n",
      "tsfc = 294\n"
     ]
    },
    {
     "data": {
      "text/html": [
       "<a id=\"LBLNEW_case_compaired_against\"></a>"
      ],
      "text/plain": [
       "<IPython.core.display.HTML object>"
      ]
     },
     "metadata": {},
     "output_type": "display_data"
    },
    {
     "data": {
      "text/markdown": [
       "# LBLNEW case compaired against"
      ],
      "text/plain": [
       "<IPython.core.display.Markdown object>"
      ]
     },
     "metadata": {},
     "output_type": "display_data"
    },
    {
     "name": "stdout",
     "output_type": "stream",
     "text": [
      "atmpro = mls\n",
      "band = 7\n",
      "commitnumber = 5014a19\n",
      "dv = 0.001\n",
      "molecule = {'h2o': 'atmpro', 'n2o': 3.2e-07, 'ch4': 1.8e-06}\n",
      "nv = 1000\n",
      "tsfc = 294\n"
     ]
    },
    {
     "data": {
      "text/html": [
       "<a id=\"Cooling_Rate_Profiles\"></a>"
      ],
      "text/plain": [
       "<IPython.core.display.HTML object>"
      ]
     },
     "metadata": {},
     "output_type": "display_data"
    },
    {
     "data": {
      "text/markdown": [
       "# Cooling Rate Profiles"
      ],
      "text/plain": [
       "<IPython.core.display.Markdown object>"
      ]
     },
     "metadata": {},
     "output_type": "display_data"
    },
    {
     "data": {
      "text/html": [
       "\n",
       "<div class=\"bk-root\">\n",
       "    <div class=\"bk-plotdiv\" id=\"3d754305-2030-484f-af5f-40261ed78ca5\"></div>\n",
       "</div>"
      ]
     },
     "metadata": {},
     "output_type": "display_data"
    },
    {
     "data": {
      "application/javascript": [
       "(function(root) {\n",
       "  function embed_document(root) {\n",
       "    \n",
       "  var docs_json = {\"c2458dad-2340-408c-b1cd-bd412de22431\":{\"roots\":{\"references\":[{\"attributes\":{\"dimension\":1,\"plot\":{\"id\":\"c0dc279a-f840-4406-95f5-4747c8403301\",\"subtype\":\"Figure\",\"type\":\"Plot\"},\"ticker\":{\"id\":\"f37a4bea-81fd-4677-a8d9-9830bc428731\",\"type\":\"LogTicker\"}},\"id\":\"b6fe0180-9265-4633-be61-23ca7c59d047\",\"type\":\"Grid\"},{\"attributes\":{\"plot\":{\"id\":\"c0dc279a-f840-4406-95f5-4747c8403301\",\"subtype\":\"Figure\",\"type\":\"Plot\"},\"ticker\":{\"id\":\"76498d8c-a156-4fe2-b658-2d0a5a3e06a4\",\"type\":\"BasicTicker\"}},\"id\":\"f155b820-53d2-46b7-ac60-7f6a7e230cda\",\"type\":\"Grid\"},{\"attributes\":{\"callback\":null,\"data\":{\"x\":{\"__ndarray__\":\"s1iSVXQYwr8gjApiwfnBv6flrPR/s8G/zSlc6ntowb9ZxwrhRR3Bv6KxerBa08C/XjsHhfeLwL8bpq5j+UbAvxs+M9KcBsC/GkwmG82Zv7+LOzmeKjq/v/n+QJhf9r6/r7Pf4vravr8jgP7vRu6+v2X19Rmjt72/L7acjY0nuL+kphZ3py6sv2GyFrrpSni/UX7WJXh9qz8udyRmDxfAP1G7oSHKNMs/bbOpoapV1D9AWL4VJl/aP0vIrIMohNk/c7AnT5O40j+HIrRQ+I3IP4lhJAcuh74/3EYDeAuksj/Khfj3gfqnP4cJDT55yqA/KSMuAI3Slz+gWt3ngVqPP+U9lInXzIQ/zY6W+8uLez8ZjUiRRldaP7r7hgPNWXa/OtQIYHd4h79MT+aMGcKQvyKG8kVIy5e/WdsmckdTn7+xJmCFpcugvyC4yhMIO52/orI7hsLFlr9kxSTnuqyOv3DJfaxR6Hy/rRjGcG6eM790xyjwygV9P7MKVCyiGZA/gD6ZmJHumT/CbzZi1TyiP0aBEFk8pqc/rFCfQoCcrD+UHceB6q6wP1d91H0FC7M/6doPX8NftT/tCqvod7C3Pz12YbVDDbo/zNYTwEE5vT97z3EDeOq/P4eLu8Xs+sA/t/Jx8eC8wT85pv6sv0bCP+jva0UXq8I/gcB3WRv8wj/t2GN9XkzDP/rP3DtRr8M/WA0VJRkgxD+uRGZPfmLEP06/+i5bIcQ/ZFhJVD1Twz8PXfUlwFXCP3+xKR3NjcE/DegBA3M6wT/6llpr/7XBPyah2+jv58Y/\",\"dtype\":\"float64\",\"shape\":[75]},\"y\":{\"__ndarray__\":\"GhExyth1ND/Sv8nbtpRIP2vylNV0PVE/aTum7souWD/At0SJ8fVgPw3Iuahxymc/MSNhhJWvcD/bTfBN02d3P2zb5nxnaoA/CD5h5MAGhz8NmeH1TyaQP+zrCsc9p5Y/LbKd76fGnz/bLW5ISEmmPww9YvTcQq8/JV2OstnstT8Er5Y7M8G+P0c+r3jqkcU/5h99k6ZBzj88bCIzFzjVP4enV8oyxN0//yH99nXg5D8qOpLLf0jtP5kqGJXUifQ/c9cS8kHP/D+/DpwzojQEQIEmwoanVwxA4lgXt9HgE0BSSZ2AJuIbQAMJih9jjiNA5q4l5INuK0AwTKYKRj0zQNv5fmq8/DpAaCJseHrtQkB/+zpwzoxKQM3MzMzMeFJAZmZmZmZqWEAAAAAAAFxeQM3MzMzMJmJAmpmZmZkfZUBmZmZmZhhoQDMzMzMzEWtAAAAAAAAKbkBmZmZmZoFwQM3MzMzM/XFAMzMzMzN6c0CamZmZmfZ0QAAAAAAAc3ZAZmZmZmbvd0DNzMzMzGt5QDMzMzMz6HpAmpmZmZlkfEAAAAAAAOF9QGZmZmZmXX9AZmZmZuZsgECamZmZGSuBQM3MzMxM6YFAAAAAAICngkAzMzMzs2WDQGZmZmbmI4RAmpmZmRnihEDNzMzMTKCFQAAAAACAXoZAMzMzM7Mch0BmZmZm5tqHQJqZmZkZmYhAzczMzExXiUAAAAAAgBWKQDMzMzOz04pAZmZmZuaRi0CamZmZGVCMQM3MzMxMDo1AAAAAAIDMjUAzMzMzs4qOQGZmZmbmSI9A\",\"dtype\":\"float64\",\"shape\":[75]}},\"selected\":{\"id\":\"7df0ecae-9689-4b8f-bb86-96ebd028e81b\",\"type\":\"Selection\"},\"selection_policy\":{\"id\":\"0bf9ffad-2d0d-4c5f-928e-93aee7c5c4ef\",\"type\":\"UnionRenderers\"}},\"id\":\"ad0c0379-cb0e-42c3-b6fc-da5050f5cf49\",\"type\":\"ColumnDataSource\"},{\"attributes\":{\"axis_label\":\"pressure [mb]\",\"formatter\":{\"id\":\"7fea4b76-e521-441d-b5b5-dc3160b71f16\",\"type\":\"LogTickFormatter\"},\"plot\":{\"id\":\"c0dc279a-f840-4406-95f5-4747c8403301\",\"subtype\":\"Figure\",\"type\":\"Plot\"},\"ticker\":{\"id\":\"f37a4bea-81fd-4677-a8d9-9830bc428731\",\"type\":\"LogTicker\"}},\"id\":\"e2b11177-e600-468b-bbcf-c05679beb284\",\"type\":\"LogAxis\"},{\"attributes\":{\"num_minor_ticks\":10},\"id\":\"f37a4bea-81fd-4677-a8d9-9830bc428731\",\"type\":\"LogTicker\"},{\"attributes\":{\"source\":{\"id\":\"b1f62c0d-3ca9-4eac-9f04-a7b4fc24c3ef\",\"type\":\"ColumnDataSource\"}},\"id\":\"4abeaefd-4153-4f99-a0a7-ac069c5fd443\",\"type\":\"CDSView\"},{\"attributes\":{\"source\":{\"id\":\"ad0c0379-cb0e-42c3-b6fc-da5050f5cf49\",\"type\":\"ColumnDataSource\"}},\"id\":\"374b4fef-27ae-4920-87e8-b9a77cc9ef05\",\"type\":\"CDSView\"},{\"attributes\":{\"line_alpha\":0.6,\"line_color\":\"#984ea3\",\"line_width\":3,\"x\":{\"field\":\"x\"},\"y\":{\"field\":\"y\"}},\"id\":\"937a0961-3b44-470c-8ed8-60fcc0d2bc30\",\"type\":\"Line\"},{\"attributes\":{\"line_alpha\":0.1,\"line_color\":\"#1f77b4\",\"line_width\":3,\"x\":{\"field\":\"x\"},\"y\":{\"field\":\"y\"}},\"id\":\"3578714e-b954-4990-ba4d-f139c1a338a6\",\"type\":\"Line\"},{\"attributes\":{\"data_source\":{\"id\":\"ad0c0379-cb0e-42c3-b6fc-da5050f5cf49\",\"type\":\"ColumnDataSource\"},\"glyph\":{\"id\":\"f98bdabd-81a1-4ba8-b559-0c2d1c6b5342\",\"type\":\"Line\"},\"hover_glyph\":null,\"muted_glyph\":null,\"nonselection_glyph\":{\"id\":\"b04c1eaa-4bec-4f7a-b419-893684986463\",\"type\":\"Line\"},\"selection_glyph\":null,\"view\":{\"id\":\"374b4fef-27ae-4920-87e8-b9a77cc9ef05\",\"type\":\"CDSView\"}},\"id\":\"96fc86f9-e293-447d-89fa-f78bed152295\",\"type\":\"GlyphRenderer\"},{\"attributes\":{},\"id\":\"ab598597-11a5-4821-b582-ab2e283e1646\",\"type\":\"WheelZoomTool\"},{\"attributes\":{\"data_source\":{\"id\":\"b1f62c0d-3ca9-4eac-9f04-a7b4fc24c3ef\",\"type\":\"ColumnDataSource\"},\"glyph\":{\"id\":\"887efb72-c044-4381-9958-3fe4fcc2f680\",\"type\":\"Circle\"},\"hover_glyph\":null,\"muted_glyph\":null,\"nonselection_glyph\":{\"id\":\"cc4ea55f-7093-4bd6-b279-e41fb5907684\",\"type\":\"Circle\"},\"selection_glyph\":null,\"view\":{\"id\":\"4abeaefd-4153-4f99-a0a7-ac069c5fd443\",\"type\":\"CDSView\"}},\"id\":\"064cba79-a69b-43c7-a8fe-92b4cba0f16c\",\"type\":\"GlyphRenderer\"},{\"attributes\":{},\"id\":\"d35aac4e-483b-4659-b7d0-e67f7dbcc62e\",\"type\":\"PanTool\"},{\"attributes\":{\"bottom_units\":\"screen\",\"fill_alpha\":{\"value\":0.5},\"fill_color\":{\"value\":\"lightgrey\"},\"left_units\":\"screen\",\"level\":\"overlay\",\"line_alpha\":{\"value\":1.0},\"line_color\":{\"value\":\"black\"},\"line_dash\":[4,4],\"line_width\":{\"value\":2},\"plot\":null,\"render_mode\":\"css\",\"right_units\":\"screen\",\"top_units\":\"screen\"},\"id\":\"f077897e-f4be-4f11-9576-aab6db1a52de\",\"type\":\"BoxAnnotation\"},{\"attributes\":{\"line_alpha\":0.1,\"line_color\":\"#1f77b4\",\"line_width\":1.5,\"x\":{\"field\":\"x\"},\"y\":{\"field\":\"y\"}},\"id\":\"b04c1eaa-4bec-4f7a-b419-893684986463\",\"type\":\"Line\"},{\"attributes\":{\"overlay\":{\"id\":\"f077897e-f4be-4f11-9576-aab6db1a52de\",\"type\":\"BoxAnnotation\"}},\"id\":\"eff9b9e2-e9d9-4124-a116-c1160ae1d6ca\",\"type\":\"BoxZoomTool\"},{\"attributes\":{},\"id\":\"9f4e6ab3-3286-4a2f-9a6e-a4beea0d1451\",\"type\":\"SaveTool\"},{\"attributes\":{\"line_alpha\":0.1,\"line_color\":\"#1f77b4\",\"line_width\":3,\"x\":{\"field\":\"x\"},\"y\":{\"field\":\"y\"}},\"id\":\"ecab8805-3f55-4b81-9274-a8ede606aace\",\"type\":\"Line\"},{\"attributes\":{},\"id\":\"86ba8ca7-bf19-4971-8d24-380e73a52bbc\",\"type\":\"ResetTool\"},{\"attributes\":{\"fill_alpha\":{\"value\":0.1},\"fill_color\":{\"value\":\"#1f77b4\"},\"line_alpha\":{\"value\":0.1},\"line_color\":{\"value\":\"#1f77b4\"},\"x\":{\"field\":\"x\"},\"y\":{\"field\":\"y\"}},\"id\":\"cc4ea55f-7093-4bd6-b279-e41fb5907684\",\"type\":\"Circle\"},{\"attributes\":{},\"id\":\"f7e7cbb4-145a-47ff-b749-224d9090d3d8\",\"type\":\"HelpTool\"},{\"attributes\":{\"data_source\":{\"id\":\"b2c583cb-17f6-4b2b-b7e6-4d1c6712b369\",\"type\":\"ColumnDataSource\"},\"glyph\":{\"id\":\"937a0961-3b44-470c-8ed8-60fcc0d2bc30\",\"type\":\"Line\"},\"hover_glyph\":null,\"muted_glyph\":null,\"nonselection_glyph\":{\"id\":\"3578714e-b954-4990-ba4d-f139c1a338a6\",\"type\":\"Line\"},\"selection_glyph\":null,\"view\":{\"id\":\"2545fb1a-753d-4281-a3f0-47280a5a3a20\",\"type\":\"CDSView\"}},\"id\":\"b19b8ab4-a201-4f26-98a2-f2e753ae0394\",\"type\":\"GlyphRenderer\"},{\"attributes\":{\"fill_alpha\":{\"value\":0.7},\"fill_color\":{\"value\":\"#4daf4a\"},\"line_alpha\":{\"value\":0.7},\"line_color\":{\"value\":\"#4daf4a\"},\"x\":{\"field\":\"x\"},\"y\":{\"field\":\"y\"}},\"id\":\"887efb72-c044-4381-9958-3fe4fcc2f680\",\"type\":\"Circle\"},{\"attributes\":{\"children\":[{\"id\":\"d6e74b94-78e2-404a-9bdb-a31842cdecff\",\"subtype\":\"Figure\",\"type\":\"Plot\"},{\"id\":\"c0dc279a-f840-4406-95f5-4747c8403301\",\"subtype\":\"Figure\",\"type\":\"Plot\"}]},\"id\":\"fc8d2c47-e830-49ba-b38c-c70769bf1d0e\",\"type\":\"Row\"},{\"attributes\":{\"line_color\":\"#4daf4a\",\"line_width\":1.5,\"x\":{\"field\":\"x\"},\"y\":{\"field\":\"y\"}},\"id\":\"f98bdabd-81a1-4ba8-b559-0c2d1c6b5342\",\"type\":\"Line\"},{\"attributes\":{\"source\":{\"id\":\"248a90c5-c29e-4570-973f-26500d917594\",\"type\":\"ColumnDataSource\"}},\"id\":\"c871dbe9-f129-4e68-8092-cc089fd16e90\",\"type\":\"CDSView\"},{\"attributes\":{\"source\":{\"id\":\"b2c583cb-17f6-4b2b-b7e6-4d1c6712b369\",\"type\":\"ColumnDataSource\"}},\"id\":\"2545fb1a-753d-4281-a3f0-47280a5a3a20\",\"type\":\"CDSView\"},{\"attributes\":{\"callback\":null,\"data\":{\"x\":{\"__ndarray__\":\"6WCGkSHxt7/adpj+Psa3v9MuuHyqXre/b8d7pZHutr9OCPesZnu2v1zfxOacBba/uSgVtX2Ntb9PxOjakxe1v+6cemVdqrS/95EPBSk0tL/zBvOygc+zv1AEirvua7O/lO36B7wMs7/XBbRbaLqyv5TflWmjVrG/YDTLaFsCqb8vatHkXVOQv3bcthBgaJo/pfRCvb3Esz8X8SHRme7BP5h6J7BKs8s/3myc4qu80z/nPWsKphLZP3bSkCvU3tg/BvEFVqOR0z9E+UD6P+rLP3PPX41YsMI/ELMTNQOitz8S+maJOBetP8WJLvb+CaI/oz/y1hJVlj/1ZeC1iH6KP7eeFPKwbIA/AeWmdlxOcj8GqaKcEg5Zv8qIAc4vo4S/WoUC8+Ypkr+ujiOj8a6Yv+9A4Q/mRqC/7YzxjHYPpL91d4Zxgxalv6G6hAYM2aK/hgfAhHmrnr/hiH4FGoCWv9TOCO3XyIq/IHcExUXtd7/29eNCo4xYP+CNI9ubDYU/F968o4zZlD9egFL0jdafP5oRAS6YXaU/2VS/zUA3qj/WXGEG0uGuP/dbH/zi17E/6/AuHKpXtD9VTH/Yzeq2P8w5x2wIj7k/V2rNwfn1vD9Im/QIf9C/P3TAZJk0/MA/1WIq3HbKwT/WaYsIUmvCP6T7WhPi/MI/U98Bt1GRwz/hM+kh4DHEP4oInPis48Q/TEPgiryTxT8l+BGFtwPGPztfPwYj3cU/pr4DbqMixT8Y7W0KljDEP42i3r7UcMM/ZiZiW1Apwz+7Ml6pHbTDP3qwnO9tm8g/\",\"dtype\":\"float64\",\"shape\":[75]},\"y\":{\"__ndarray__\":\"GhExyth1ND/Sv8nbtpRIP2vylNV0PVE/aTum7souWD/At0SJ8fVgPw3Iuahxymc/MSNhhJWvcD/bTfBN02d3P2zb5nxnaoA/CD5h5MAGhz8NmeH1TyaQP+zrCsc9p5Y/LbKd76fGnz/bLW5ISEmmPww9YvTcQq8/JV2OstnstT8Er5Y7M8G+P0c+r3jqkcU/5h99k6ZBzj88bCIzFzjVP4enV8oyxN0//yH99nXg5D8qOpLLf0jtP5kqGJXUifQ/c9cS8kHP/D+/DpwzojQEQIEmwoanVwxA4lgXt9HgE0BSSZ2AJuIbQAMJih9jjiNA5q4l5INuK0AwTKYKRj0zQNv5fmq8/DpAaCJseHrtQkB/+zpwzoxKQM3MzMzMeFJAZmZmZmZqWEAAAAAAAFxeQM3MzMzMJmJAmpmZmZkfZUBmZmZmZhhoQDMzMzMzEWtAAAAAAAAKbkBmZmZmZoFwQM3MzMzM/XFAMzMzMzN6c0CamZmZmfZ0QAAAAAAAc3ZAZmZmZmbvd0DNzMzMzGt5QDMzMzMz6HpAmpmZmZlkfEAAAAAAAOF9QGZmZmZmXX9AZmZmZuZsgECamZmZGSuBQM3MzMxM6YFAAAAAAICngkAzMzMzs2WDQGZmZmbmI4RAmpmZmRnihEDNzMzMTKCFQAAAAACAXoZAMzMzM7Mch0BmZmZm5tqHQJqZmZkZmYhAzczMzExXiUAAAAAAgBWKQDMzMzOz04pAZmZmZuaRi0CamZmZGVCMQM3MzMxMDo1AAAAAAIDMjUAzMzMzs4qOQGZmZmbmSI9A\",\"dtype\":\"float64\",\"shape\":[75]}},\"selected\":{\"id\":\"79651c80-da08-425d-b0be-bc6ceeb52cc2\",\"type\":\"Selection\"},\"selection_policy\":{\"id\":\"463dead7-c9c9-4b55-821f-cae4c7dc3b46\",\"type\":\"UnionRenderers\"}},\"id\":\"248a90c5-c29e-4570-973f-26500d917594\",\"type\":\"ColumnDataSource\"},{\"attributes\":{},\"id\":\"edc4ee12-2763-4061-aacb-8d64130da182\",\"type\":\"BasicTickFormatter\"},{\"attributes\":{\"label\":{\"value\":\"CLIRAD `coolr_bands`\"},\"renderers\":[{\"id\":\"bef7c460-a15d-437e-8a9a-98d5981da7b3\",\"type\":\"GlyphRenderer\"}]},\"id\":\"491cc593-8bf0-4272-9000-2ba6def07718\",\"type\":\"LegendItem\"},{\"attributes\":{\"line_alpha\":0.6,\"line_color\":\"#e41a1c\",\"line_dash\":[6],\"line_width\":5,\"x\":{\"field\":\"x\"},\"y\":{\"field\":\"y\"}},\"id\":\"194c129e-f90c-4117-b71e-3919818694bc\",\"type\":\"Line\"},{\"attributes\":{},\"id\":\"0b081cef-69c7-486a-8f96-0fc904338b80\",\"type\":\"UnionRenderers\"},{\"attributes\":{\"label\":{\"value\":\"CRD\"},\"renderers\":[{\"id\":\"064cba79-a69b-43c7-a8fe-92b4cba0f16c\",\"type\":\"GlyphRenderer\"},{\"id\":\"96fc86f9-e293-447d-89fa-f78bed152295\",\"type\":\"GlyphRenderer\"}]},\"id\":\"01471436-60fc-4556-85a7-9d0f8237109e\",\"type\":\"LegendItem\"},{\"attributes\":{},\"id\":\"6592a7f2-570e-4b9d-af39-6cf8d507b8bd\",\"type\":\"UnionRenderers\"},{\"attributes\":{\"fill_alpha\":{\"value\":0.1},\"fill_color\":{\"value\":\"#1f77b4\"},\"line_alpha\":{\"value\":0.1},\"line_color\":{\"value\":\"#1f77b4\"},\"x\":{\"field\":\"x\"},\"y\":{\"field\":\"y\"}},\"id\":\"65cbaa9e-ef35-43e3-829e-da9da25cff37\",\"type\":\"Square\"},{\"attributes\":{\"label\":{\"value\":\"WGT igg=10 wgt_flux=2\"},\"renderers\":[{\"id\":\"73262121-c099-4009-b825-f98f101a9609\",\"type\":\"GlyphRenderer\"},{\"id\":\"b19b8ab4-a201-4f26-98a2-f2e753ae0394\",\"type\":\"GlyphRenderer\"}]},\"id\":\"b64edc35-ef25-448f-ad87-b69614102af3\",\"type\":\"LegendItem\"},{\"attributes\":{},\"id\":\"231fb6c2-2b99-4ef8-8b89-ef370f3decaf\",\"type\":\"UnionRenderers\"},{\"attributes\":{\"line_alpha\":0.6,\"line_color\":\"#984ea3\",\"line_width\":3,\"x\":{\"field\":\"x\"},\"y\":{\"field\":\"y\"}},\"id\":\"d4999ab4-2738-4ca6-9408-dd73923b2b8f\",\"type\":\"Line\"},{\"attributes\":{},\"id\":\"b4682355-cf32-44af-bf79-c8a9cfe823e5\",\"type\":\"Selection\"},{\"attributes\":{\"data_source\":{\"id\":\"b419d921-5e2c-4372-affc-512e56306ff7\",\"type\":\"ColumnDataSource\"},\"glyph\":{\"id\":\"ec32f20f-9fd8-4e98-8d3d-a180c1078eac\",\"type\":\"Square\"},\"hover_glyph\":null,\"muted_glyph\":null,\"nonselection_glyph\":{\"id\":\"65cbaa9e-ef35-43e3-829e-da9da25cff37\",\"type\":\"Square\"},\"selection_glyph\":null,\"view\":{\"id\":\"962a98b1-5b36-4ca0-bf54-18e26d95ade3\",\"type\":\"CDSView\"}},\"id\":\"664ac472-812d-489e-87ae-f673ae189f44\",\"type\":\"GlyphRenderer\"},{\"attributes\":{},\"id\":\"f1aa74be-5689-4b0b-90a8-99e6b426325a\",\"type\":\"Selection\"},{\"attributes\":{\"data_source\":{\"id\":\"248a90c5-c29e-4570-973f-26500d917594\",\"type\":\"ColumnDataSource\"},\"glyph\":{\"id\":\"2f30d782-0f76-4fda-b8e1-2b7c9fc110b0\",\"type\":\"Square\"},\"hover_glyph\":null,\"muted_glyph\":null,\"nonselection_glyph\":{\"id\":\"7848cbc0-c7c8-4ec2-928c-92df5a501c55\",\"type\":\"Square\"},\"selection_glyph\":null,\"view\":{\"id\":\"c871dbe9-f129-4e68-8092-cc089fd16e90\",\"type\":\"CDSView\"}},\"id\":\"73262121-c099-4009-b825-f98f101a9609\",\"type\":\"GlyphRenderer\"},{\"attributes\":{},\"id\":\"a489ddfa-a3d7-4082-b1cc-532f74f28407\",\"type\":\"Selection\"},{\"attributes\":{},\"id\":\"f88c0a28-24fc-48c3-b004-2f85c52b7f49\",\"type\":\"Selection\"},{\"attributes\":{},\"id\":\"324ed5b4-b026-4eb4-bcf9-d2560c1a6603\",\"type\":\"UnionRenderers\"},{\"attributes\":{},\"id\":\"4603964d-77bc-4a09-8020-cf687a7b3316\",\"type\":\"Selection\"},{\"attributes\":{},\"id\":\"58f85ce6-19ad-411b-abec-e4ffbf9af5e5\",\"type\":\"UnionRenderers\"},{\"attributes\":{},\"id\":\"0572c151-003f-4a22-9084-2ba22cc80550\",\"type\":\"Selection\"},{\"attributes\":{\"callback\":null,\"data\":{\"x\":{\"__ndarray__\":\"6WCGkSHxt7/adpj+Psa3v9MuuHyqXre/b8d7pZHutr9OCPesZnu2v1zfxOacBba/uSgVtX2Ntb9PxOjakxe1v+6cemVdqrS/95EPBSk0tL/zBvOygc+zv1AEirvua7O/lO36B7wMs7/XBbRbaLqyv5TflWmjVrG/YDTLaFsCqb8vatHkXVOQv3bcthBgaJo/pfRCvb3Esz8X8SHRme7BP5h6J7BKs8s/3myc4qu80z/nPWsKphLZP3bSkCvU3tg/BvEFVqOR0z9E+UD6P+rLP3PPX41YsMI/ELMTNQOitz8S+maJOBetP8WJLvb+CaI/oz/y1hJVlj/1ZeC1iH6KP7eeFPKwbIA/AeWmdlxOcj8GqaKcEg5Zv8qIAc4vo4S/WoUC8+Ypkr+ujiOj8a6Yv+9A4Q/mRqC/7YzxjHYPpL91d4Zxgxalv6G6hAYM2aK/hgfAhHmrnr/hiH4FGoCWv9TOCO3XyIq/IHcExUXtd7/29eNCo4xYP+CNI9ubDYU/F968o4zZlD9egFL0jdafP5oRAS6YXaU/2VS/zUA3qj/WXGEG0uGuP/dbH/zi17E/6/AuHKpXtD9VTH/Yzeq2P8w5x2wIj7k/V2rNwfn1vD9Im/QIf9C/P3TAZJk0/MA/1WIq3HbKwT/WaYsIUmvCP6T7WhPi/MI/U98Bt1GRwz/hM+kh4DHEP4oInPis48Q/TEPgiryTxT8l+BGFtwPGPztfPwYj3cU/pr4DbqMixT8Y7W0KljDEP42i3r7UcMM/ZiZiW1Apwz+7Ml6pHbTDP3qwnO9tm8g/\",\"dtype\":\"float64\",\"shape\":[75]},\"y\":{\"__ndarray__\":\"GhExyth1ND/Sv8nbtpRIP2vylNV0PVE/aTum7souWD/At0SJ8fVgPw3Iuahxymc/MSNhhJWvcD/bTfBN02d3P2zb5nxnaoA/CD5h5MAGhz8NmeH1TyaQP+zrCsc9p5Y/LbKd76fGnz/bLW5ISEmmPww9YvTcQq8/JV2OstnstT8Er5Y7M8G+P0c+r3jqkcU/5h99k6ZBzj88bCIzFzjVP4enV8oyxN0//yH99nXg5D8qOpLLf0jtP5kqGJXUifQ/c9cS8kHP/D+/DpwzojQEQIEmwoanVwxA4lgXt9HgE0BSSZ2AJuIbQAMJih9jjiNA5q4l5INuK0AwTKYKRj0zQNv5fmq8/DpAaCJseHrtQkB/+zpwzoxKQM3MzMzMeFJAZmZmZmZqWEAAAAAAAFxeQM3MzMzMJmJAmpmZmZkfZUBmZmZmZhhoQDMzMzMzEWtAAAAAAAAKbkBmZmZmZoFwQM3MzMzM/XFAMzMzMzN6c0CamZmZmfZ0QAAAAAAAc3ZAZmZmZmbvd0DNzMzMzGt5QDMzMzMz6HpAmpmZmZlkfEAAAAAAAOF9QGZmZmZmXX9AZmZmZuZsgECamZmZGSuBQM3MzMxM6YFAAAAAAICngkAzMzMzs2WDQGZmZmbmI4RAmpmZmRnihEDNzMzMTKCFQAAAAACAXoZAMzMzM7Mch0BmZmZm5tqHQJqZmZkZmYhAzczMzExXiUAAAAAAgBWKQDMzMzOz04pAZmZmZuaRi0CamZmZGVCMQM3MzMxMDo1AAAAAAIDMjUAzMzMzs4qOQGZmZmbmSI9A\",\"dtype\":\"float64\",\"shape\":[75]}},\"selected\":{\"id\":\"f1aa74be-5689-4b0b-90a8-99e6b426325a\",\"type\":\"Selection\"},\"selection_policy\":{\"id\":\"231fb6c2-2b99-4ef8-8b89-ef370f3decaf\",\"type\":\"UnionRenderers\"}},\"id\":\"64833be8-e2f2-4c15-906b-fc0ea6ec3c2a\",\"type\":\"ColumnDataSource\"},{\"attributes\":{},\"id\":\"f4e461a6-61ca-4455-928f-f17f6116c620\",\"type\":\"Selection\"},{\"attributes\":{},\"id\":\"d0e55838-163a-45ac-a36e-0b7a9787eb25\",\"type\":\"BasicTickFormatter\"},{\"attributes\":{\"ticker\":null},\"id\":\"7fea4b76-e521-441d-b5b5-dc3160b71f16\",\"type\":\"LogTickFormatter\"},{\"attributes\":{\"line_alpha\":0.1,\"line_color\":\"#1f77b4\",\"line_dash\":[6],\"line_width\":5,\"x\":{\"field\":\"x\"},\"y\":{\"field\":\"y\"}},\"id\":\"23ff329b-def8-4929-9c2d-44a11da9b8dc\",\"type\":\"Line\"},{\"attributes\":{},\"id\":\"9aca17c3-d0af-4f38-ae8b-40ef7ab62b68\",\"type\":\"UnionRenderers\"},{\"attributes\":{\"fill_alpha\":{\"value\":0.1},\"fill_color\":{\"value\":\"#1f77b4\"},\"line_alpha\":{\"value\":0.1},\"line_color\":{\"value\":\"#1f77b4\"},\"x\":{\"field\":\"x\"},\"y\":{\"field\":\"y\"}},\"id\":\"7848cbc0-c7c8-4ec2-928c-92df5a501c55\",\"type\":\"Square\"},{\"attributes\":{},\"id\":\"2bf659a2-dc10-43ce-a1f8-19daad19e495\",\"type\":\"UnionRenderers\"},{\"attributes\":{},\"id\":\"820d3c29-4056-449a-8beb-6b2e953d5587\",\"type\":\"UnionRenderers\"},{\"attributes\":{},\"id\":\"30b670b3-30d2-4dfe-991f-14f5ae849745\",\"type\":\"Selection\"},{\"attributes\":{\"fill_alpha\":{\"value\":0.7},\"fill_color\":{\"value\":\"#984ea3\"},\"line_alpha\":{\"value\":0.7},\"line_color\":{\"value\":\"#984ea3\"},\"x\":{\"field\":\"x\"},\"y\":{\"field\":\"y\"}},\"id\":\"ec32f20f-9fd8-4e98-8d3d-a180c1078eac\",\"type\":\"Square\"},{\"attributes\":{},\"id\":\"0bf9ffad-2d0d-4c5f-928e-93aee7c5c4ef\",\"type\":\"UnionRenderers\"},{\"attributes\":{},\"id\":\"7df0ecae-9689-4b8f-bb86-96ebd028e81b\",\"type\":\"Selection\"},{\"attributes\":{},\"id\":\"463dead7-c9c9-4b55-821f-cae4c7dc3b46\",\"type\":\"UnionRenderers\"},{\"attributes\":{},\"id\":\"79651c80-da08-425d-b0be-bc6ceeb52cc2\",\"type\":\"Selection\"},{\"attributes\":{\"children\":[{\"id\":\"976ddae8-4563-4fce-b796-f838a3ae5719\",\"type\":\"ToolbarBox\"},{\"id\":\"6403851e-9476-4eea-8bef-66c5ab82ce15\",\"type\":\"Column\"}]},\"id\":\"f96853ae-97da-4c27-8afe-e4eb245bfa12\",\"type\":\"Column\"},{\"attributes\":{\"tools\":[{\"id\":\"26ef5692-d5af-4751-8a1e-a15ec6df1c38\",\"type\":\"PanTool\"},{\"id\":\"38df3412-c013-4ad9-9bed-d703b646794e\",\"type\":\"WheelZoomTool\"},{\"id\":\"9098c690-243a-4472-b3fd-0f736ac9e764\",\"type\":\"BoxZoomTool\"},{\"id\":\"db73fc60-70d2-40a8-9607-d9b92869c635\",\"type\":\"SaveTool\"},{\"id\":\"8f64cdbd-2fb7-4f3e-879b-c4f9c121cba1\",\"type\":\"ResetTool\"},{\"id\":\"f5102c00-999d-4e68-bbe8-bf9f5f2205d4\",\"type\":\"HelpTool\"},{\"id\":\"d35aac4e-483b-4659-b7d0-e67f7dbcc62e\",\"type\":\"PanTool\"},{\"id\":\"ab598597-11a5-4821-b582-ab2e283e1646\",\"type\":\"WheelZoomTool\"},{\"id\":\"eff9b9e2-e9d9-4124-a116-c1160ae1d6ca\",\"type\":\"BoxZoomTool\"},{\"id\":\"9f4e6ab3-3286-4a2f-9a6e-a4beea0d1451\",\"type\":\"SaveTool\"},{\"id\":\"86ba8ca7-bf19-4971-8d24-380e73a52bbc\",\"type\":\"ResetTool\"},{\"id\":\"f7e7cbb4-145a-47ff-b749-224d9090d3d8\",\"type\":\"HelpTool\"}]},\"id\":\"96a2122d-f265-45ae-b5b4-9a22931a49d2\",\"type\":\"ProxyToolbar\"},{\"attributes\":{\"toolbar\":{\"id\":\"96a2122d-f265-45ae-b5b4-9a22931a49d2\",\"type\":\"ProxyToolbar\"},\"toolbar_location\":\"above\"},\"id\":\"976ddae8-4563-4fce-b796-f838a3ae5719\",\"type\":\"ToolbarBox\"},{\"attributes\":{\"callback\":null,\"data\":{\"x\":{\"__ndarray__\":\"6WCGkSHxt7/adpj+Psa3v9MuuHyqXre/b8d7pZHutr9OCPesZnu2v1zfxOacBba/uSgVtX2Ntb9PxOjakxe1v+6cemVdqrS/95EPBSk0tL/zBvOygc+zv1AEirvua7O/lO36B7wMs7/XBbRbaLqyv5TflWmjVrG/YDTLaFsCqb8vatHkXVOQv3bcthBgaJo/pfRCvb3Esz8X8SHRme7BP5h6J7BKs8s/3myc4qu80z/nPWsKphLZP3bSkCvU3tg/BvEFVqOR0z9E+UD6P+rLP3PPX41YsMI/ELMTNQOitz8S+maJOBetP8WJLvb+CaI/oz/y1hJVlj/1ZeC1iH6KP7eeFPKwbIA/AeWmdlxOcj8GqaKcEg5Zv8qIAc4vo4S/WoUC8+Ypkr+ujiOj8a6Yv+9A4Q/mRqC/7YzxjHYPpL91d4Zxgxalv6G6hAYM2aK/hgfAhHmrnr/hiH4FGoCWv9TOCO3XyIq/IHcExUXtd7/29eNCo4xYP+CNI9ubDYU/F968o4zZlD9egFL0jdafP5oRAS6YXaU/2VS/zUA3qj/WXGEG0uGuP/dbH/zi17E/6/AuHKpXtD9VTH/Yzeq2P8w5x2wIj7k/V2rNwfn1vD9Im/QIf9C/P3TAZJk0/MA/1WIq3HbKwT/WaYsIUmvCP6T7WhPi/MI/U98Bt1GRwz/hM+kh4DHEP4oInPis48Q/TEPgiryTxT8l+BGFtwPGPztfPwYj3cU/pr4DbqMixT8Y7W0KljDEP42i3r7UcMM/ZiZiW1Apwz+7Ml6pHbTDP3qwnO9tm8g/\",\"dtype\":\"float64\",\"shape\":[75]},\"y\":{\"__ndarray__\":\"GhExyth1ND/Sv8nbtpRIP2vylNV0PVE/aTum7souWD/At0SJ8fVgPw3Iuahxymc/MSNhhJWvcD/bTfBN02d3P2zb5nxnaoA/CD5h5MAGhz8NmeH1TyaQP+zrCsc9p5Y/LbKd76fGnz/bLW5ISEmmPww9YvTcQq8/JV2OstnstT8Er5Y7M8G+P0c+r3jqkcU/5h99k6ZBzj88bCIzFzjVP4enV8oyxN0//yH99nXg5D8qOpLLf0jtP5kqGJXUifQ/c9cS8kHP/D+/DpwzojQEQIEmwoanVwxA4lgXt9HgE0BSSZ2AJuIbQAMJih9jjiNA5q4l5INuK0AwTKYKRj0zQNv5fmq8/DpAaCJseHrtQkB/+zpwzoxKQM3MzMzMeFJAZmZmZmZqWEAAAAAAAFxeQM3MzMzMJmJAmpmZmZkfZUBmZmZmZhhoQDMzMzMzEWtAAAAAAAAKbkBmZmZmZoFwQM3MzMzM/XFAMzMzMzN6c0CamZmZmfZ0QAAAAAAAc3ZAZmZmZmbvd0DNzMzMzGt5QDMzMzMz6HpAmpmZmZlkfEAAAAAAAOF9QGZmZmZmXX9AZmZmZuZsgECamZmZGSuBQM3MzMxM6YFAAAAAAICngkAzMzMzs2WDQGZmZmbmI4RAmpmZmRnihEDNzMzMTKCFQAAAAACAXoZAMzMzM7Mch0BmZmZm5tqHQJqZmZkZmYhAzczMzExXiUAAAAAAgBWKQDMzMzOz04pAZmZmZuaRi0CamZmZGVCMQM3MzMxMDo1AAAAAAIDMjUAzMzMzs4qOQGZmZmbmSI9A\",\"dtype\":\"float64\",\"shape\":[75]}},\"selected\":{\"id\":\"f4e461a6-61ca-4455-928f-f17f6116c620\",\"type\":\"Selection\"},\"selection_policy\":{\"id\":\"820d3c29-4056-449a-8beb-6b2e953d5587\",\"type\":\"UnionRenderers\"}},\"id\":\"b2c583cb-17f6-4b2b-b7e6-4d1c6712b369\",\"type\":\"ColumnDataSource\"},{\"attributes\":{\"source\":{\"id\":\"fb6fa6dd-0d17-4884-986b-57fa581d77e0\",\"type\":\"ColumnDataSource\"}},\"id\":\"4762a3ad-21a0-4881-b079-2e59b76442c3\",\"type\":\"CDSView\"},{\"attributes\":{\"source\":{\"id\":\"b419d921-5e2c-4372-affc-512e56306ff7\",\"type\":\"ColumnDataSource\"}},\"id\":\"962a98b1-5b36-4ca0-bf54-18e26d95ade3\",\"type\":\"CDSView\"},{\"attributes\":{\"callback\":null,\"data\":{\"x\":{\"__ndarray__\":\"s1iSVXQYwr8gjApiwfnBv6flrPR/s8G/zSlc6ntowb9ZxwrhRR3Bv6KxerBa08C/XjsHhfeLwL8bpq5j+UbAvxs+M9KcBsC/GkwmG82Zv7+LOzmeKjq/v/n+QJhf9r6/r7Pf4vravr8jgP7vRu6+v2X19Rmjt72/L7acjY0nuL+kphZ3py6sv2GyFrrpSni/UX7WJXh9qz8udyRmDxfAP1G7oSHKNMs/bbOpoapV1D9AWL4VJl/aP0vIrIMohNk/c7AnT5O40j+HIrRQ+I3IP4lhJAcuh74/3EYDeAuksj/Khfj3gfqnP4cJDT55yqA/KSMuAI3Slz+gWt3ngVqPP+U9lInXzIQ/zY6W+8uLez8ZjUiRRldaP7r7hgPNWXa/OtQIYHd4h79MT+aMGcKQvyKG8kVIy5e/WdsmckdTn7+xJmCFpcugvyC4yhMIO52/orI7hsLFlr9kxSTnuqyOv3DJfaxR6Hy/rRjGcG6eM790xyjwygV9P7MKVCyiGZA/gD6ZmJHumT/CbzZi1TyiP0aBEFk8pqc/rFCfQoCcrD+UHceB6q6wP1d91H0FC7M/6doPX8NftT/tCqvod7C3Pz12YbVDDbo/zNYTwEE5vT97z3EDeOq/P4eLu8Xs+sA/t/Jx8eC8wT85pv6sv0bCP+jva0UXq8I/gcB3WRv8wj/t2GN9XkzDP/rP3DtRr8M/WA0VJRkgxD+uRGZPfmLEP06/+i5bIcQ/ZFhJVD1Twz8PXfUlwFXCP3+xKR3NjcE/DegBA3M6wT/6llpr/7XBPyah2+jv58Y/\",\"dtype\":\"float64\",\"shape\":[75]},\"y\":{\"__ndarray__\":\"GhExyth1ND/Sv8nbtpRIP2vylNV0PVE/aTum7souWD/At0SJ8fVgPw3Iuahxymc/MSNhhJWvcD/bTfBN02d3P2zb5nxnaoA/CD5h5MAGhz8NmeH1TyaQP+zrCsc9p5Y/LbKd76fGnz/bLW5ISEmmPww9YvTcQq8/JV2OstnstT8Er5Y7M8G+P0c+r3jqkcU/5h99k6ZBzj88bCIzFzjVP4enV8oyxN0//yH99nXg5D8qOpLLf0jtP5kqGJXUifQ/c9cS8kHP/D+/DpwzojQEQIEmwoanVwxA4lgXt9HgE0BSSZ2AJuIbQAMJih9jjiNA5q4l5INuK0AwTKYKRj0zQNv5fmq8/DpAaCJseHrtQkB/+zpwzoxKQM3MzMzMeFJAZmZmZmZqWEAAAAAAAFxeQM3MzMzMJmJAmpmZmZkfZUBmZmZmZhhoQDMzMzMzEWtAAAAAAAAKbkBmZmZmZoFwQM3MzMzM/XFAMzMzMzN6c0CamZmZmfZ0QAAAAAAAc3ZAZmZmZmbvd0DNzMzMzGt5QDMzMzMz6HpAmpmZmZlkfEAAAAAAAOF9QGZmZmZmXX9AZmZmZuZsgECamZmZGSuBQM3MzMxM6YFAAAAAAICngkAzMzMzs2WDQGZmZmbmI4RAmpmZmRnihEDNzMzMTKCFQAAAAACAXoZAMzMzM7Mch0BmZmZm5tqHQJqZmZkZmYhAzczMzExXiUAAAAAAgBWKQDMzMzOz04pAZmZmZuaRi0CamZmZGVCMQM3MzMxMDo1AAAAAAIDMjUAzMzMzs4qOQGZmZmbmSI9A\",\"dtype\":\"float64\",\"shape\":[75]}},\"selected\":{\"id\":\"30b670b3-30d2-4dfe-991f-14f5ae849745\",\"type\":\"Selection\"},\"selection_policy\":{\"id\":\"9aca17c3-d0af-4f38-ae8b-40ef7ab62b68\",\"type\":\"UnionRenderers\"}},\"id\":\"b1f62c0d-3ca9-4eac-9f04-a7b4fc24c3ef\",\"type\":\"ColumnDataSource\"},{\"attributes\":{\"data_source\":{\"id\":\"fb6fa6dd-0d17-4884-986b-57fa581d77e0\",\"type\":\"ColumnDataSource\"},\"glyph\":{\"id\":\"194c129e-f90c-4117-b71e-3919818694bc\",\"type\":\"Line\"},\"hover_glyph\":null,\"muted_glyph\":null,\"nonselection_glyph\":{\"id\":\"23ff329b-def8-4929-9c2d-44a11da9b8dc\",\"type\":\"Line\"},\"selection_glyph\":null,\"view\":{\"id\":\"4762a3ad-21a0-4881-b079-2e59b76442c3\",\"type\":\"CDSView\"}},\"id\":\"bef7c460-a15d-437e-8a9a-98d5981da7b3\",\"type\":\"GlyphRenderer\"},{\"attributes\":{\"fill_alpha\":{\"value\":0.7},\"fill_color\":{\"value\":\"#984ea3\"},\"line_alpha\":{\"value\":0.7},\"line_color\":{\"value\":\"#984ea3\"},\"x\":{\"field\":\"x\"},\"y\":{\"field\":\"y\"}},\"id\":\"2f30d782-0f76-4fda-b8e1-2b7c9fc110b0\",\"type\":\"Square\"},{\"attributes\":{\"data_source\":{\"id\":\"64833be8-e2f2-4c15-906b-fc0ea6ec3c2a\",\"type\":\"ColumnDataSource\"},\"glyph\":{\"id\":\"d4999ab4-2738-4ca6-9408-dd73923b2b8f\",\"type\":\"Line\"},\"hover_glyph\":null,\"muted_glyph\":null,\"nonselection_glyph\":{\"id\":\"ecab8805-3f55-4b81-9274-a8ede606aace\",\"type\":\"Line\"},\"selection_glyph\":null,\"view\":{\"id\":\"08c428b1-a4d6-4848-bb29-6d6b21a204fc\",\"type\":\"CDSView\"}},\"id\":\"7233e3f2-9303-4c26-ae10-643bd0c45a47\",\"type\":\"GlyphRenderer\"},{\"attributes\":{},\"id\":\"38df3412-c013-4ad9-9bed-d703b646794e\",\"type\":\"WheelZoomTool\"},{\"attributes\":{\"overlay\":{\"id\":\"0bd2b70b-cc99-47ff-a8db-6c74f1c27e12\",\"type\":\"BoxAnnotation\"}},\"id\":\"9098c690-243a-4472-b3fd-0f736ac9e764\",\"type\":\"BoxZoomTool\"},{\"attributes\":{},\"id\":\"8f64cdbd-2fb7-4f3e-879b-c4f9c121cba1\",\"type\":\"ResetTool\"},{\"attributes\":{\"data_source\":{\"id\":\"31a11222-872e-44be-95de-1231d9404688\",\"type\":\"ColumnDataSource\"},\"glyph\":{\"id\":\"2f57a689-d766-43b7-bb0d-a144e2f70c82\",\"type\":\"Line\"},\"hover_glyph\":null,\"muted_glyph\":null,\"nonselection_glyph\":{\"id\":\"ea6d4754-a3ce-4172-9da3-4458a28c5d0b\",\"type\":\"Line\"},\"selection_glyph\":null,\"view\":{\"id\":\"4cadbb3c-69a8-49b1-b73d-53a975987e72\",\"type\":\"CDSView\"}},\"id\":\"220bff86-b766-4c24-81fd-4d062f192509\",\"type\":\"GlyphRenderer\"},{\"attributes\":{},\"id\":\"1b973520-5504-45c1-9734-9590b47c2cef\",\"type\":\"BasicTicker\"},{\"attributes\":{},\"id\":\"26ef5692-d5af-4751-8a1e-a15ec6df1c38\",\"type\":\"PanTool\"},{\"attributes\":{\"source\":{\"id\":\"05d07752-d7fd-4812-a1f6-eae8ad69d244\",\"type\":\"ColumnDataSource\"}},\"id\":\"6b76d6cc-1674-4088-b28e-06b5934e9d3e\",\"type\":\"CDSView\"},{\"attributes\":{},\"id\":\"f5102c00-999d-4e68-bbe8-bf9f5f2205d4\",\"type\":\"HelpTool\"},{\"attributes\":{\"callback\":null,\"end\":0.01,\"start\":1020},\"id\":\"7994a175-d157-4a30-88cf-cde9816ef70e\",\"type\":\"Range1d\"},{\"attributes\":{},\"id\":\"db73fc60-70d2-40a8-9607-d9b92869c635\",\"type\":\"SaveTool\"},{\"attributes\":{},\"id\":\"ff3cc82c-1edc-46a3-854e-9809a4fc400d\",\"type\":\"LinearScale\"},{\"attributes\":{},\"id\":\"76498d8c-a156-4fe2-b658-2d0a5a3e06a4\",\"type\":\"BasicTicker\"},{\"attributes\":{},\"id\":\"18ba3e3d-8c93-4bf2-b916-e1f3a7939c4e\",\"type\":\"LinearScale\"},{\"attributes\":{\"children\":[{\"id\":\"fc8d2c47-e830-49ba-b38c-c70769bf1d0e\",\"type\":\"Row\"}]},\"id\":\"6403851e-9476-4eea-8bef-66c5ab82ce15\",\"type\":\"Column\"},{\"attributes\":{\"source\":{\"id\":\"31a11222-872e-44be-95de-1231d9404688\",\"type\":\"ColumnDataSource\"}},\"id\":\"4cadbb3c-69a8-49b1-b73d-53a975987e72\",\"type\":\"CDSView\"},{\"attributes\":{\"axis_label\":\"pressure [mb]\",\"formatter\":{\"id\":\"edc4ee12-2763-4061-aacb-8d64130da182\",\"type\":\"BasicTickFormatter\"},\"plot\":{\"id\":\"d6e74b94-78e2-404a-9bdb-a31842cdecff\",\"subtype\":\"Figure\",\"type\":\"Plot\"},\"ticker\":{\"id\":\"1b973520-5504-45c1-9734-9590b47c2cef\",\"type\":\"BasicTicker\"}},\"id\":\"53ae6a8f-ef25-422a-923d-4bb3122a4a37\",\"type\":\"LinearAxis\"},{\"attributes\":{\"dimension\":1,\"plot\":{\"id\":\"d6e74b94-78e2-404a-9bdb-a31842cdecff\",\"subtype\":\"Figure\",\"type\":\"Plot\"},\"ticker\":{\"id\":\"1b973520-5504-45c1-9734-9590b47c2cef\",\"type\":\"BasicTicker\"}},\"id\":\"278b9168-edb2-4084-8d11-904268e0eb50\",\"type\":\"Grid\"},{\"attributes\":{\"callback\":null,\"data\":{\"x\":{\"__ndarray__\":\"cqRr2lAns7+ARw3T4v+yv41ARaC9pLK/XDa+H0xEsr8ymP6mKeKxv2yhRWWsfrG/+woHfxUZsb8E2vpC+LKwv4OAIVCiSrC/5pQ+fLLFr793SEMjXvKuv8C40GyJIq6/rvLUiDhUrb8v449qJH6sv/n60aW8rKm/w14ZNQ7eoL+DWcjrn3Fqv5miZowywqE/ekP7B3rwtD8Z1yqHN+fBP948kwVl/co/tdzbJVj50j9m3f35z/3XPxu6+i0RGtg/5wITj/aF0z+lMmLySLTMP98Ajpg0ocM/Cm6rJnbXuD8slOJpTYGtPwzxRQSu7qA/X43caDoakz9IDr84RB6FP2+C8YiYNno/ZHcAyc1XbT8aB5mPZIlgv4kgCyciKYW/w76ntvdQkr+lowrpateYv9AbyxSjSaC/QMyx/sfwo78yjOl5n/mkv6f5P5Qj9aK/SkAX0LV2n79SKxymVauXv2akJSnFm4y/zElKZxB5fL8obWPQ5kggv1zkHlP+w4E/Zso9E1CXkz+G0EsJ5LmeP028ax/esqQ/Qf2mMdNWqT9TLrBujAKuP6FYPC/0jLE/ig4tJPNXtD9hypLJQTq3P9FVPvRyEro/pyOAm8WLvT+KSQvZcSrAP5nn0gmyL8E/0vmVc870wT+cKzFsIJ/CP7ncosSVUMM/+SAVEKQcxD/tb1wIat/EP/0ZGFhLqsU/qXWPKpJIxj9FjiG+G6TGP+QquwW3WsY/j0H+BN1/xT/oeDfcaHzEPySf0wNRvcM/LIQPBEyJwz/DJa4AMjbEP6NVTvcRKsk/\",\"dtype\":\"float64\",\"shape\":[75]},\"y\":{\"__ndarray__\":\"S/O/Q+51ND/Sv8nbtpRIP2vylNV0PVE/aTum7souWD/At0SJ8fVgPw3Iuahxymc/MSNhhJWvcD/bTfBN02d3P2zb5nxnaoA/CD5h5MAGhz8NmeH1TyaQP+zrCsc9p5Y/LbKd76fGnz/bLW5ISEmmPww9YvTcQq8/JV2OstnstT8Er5Y7M8G+P0c+r3jqkcU/5h99k6ZBzj88bCIzFzjVP4enV8oyxN0//yH99nXg5D8qOpLLf0jtP5kqGJXUifQ/c9cS8kHP/D+/DpwzojQEQIEmwoanVwxA4lgXt9HgE0BSSZ2AJuIbQAMJih9jjiNA5q4l5INuK0AwTKYKRj0zQNv5fmq8/DpAaCJseHrtQkB/+zpwzoxKQM3MzMzMeFJAZmZmZmZqWEAAAAAAAFxeQM3MzMzMJmJAmpmZmZkfZUBmZmZmZhhoQDMzMzMzEWtAAAAAAAAKbkBmZmZmZoFwQM3MzMzM/XFAMzMzMzN6c0CamZmZmfZ0QAAAAAAAc3ZAZmZmZmbvd0DNzMzMzGt5QDMzMzMz6HpAmpmZmZlkfEAAAAAAAOF9QGZmZmZmXX9AZmZmZuZsgECamZmZGSuBQM3MzMxM6YFAAAAAAICngkAzMzMzs2WDQGZmZmbmI4RAmpmZmRnihEDNzMzMTKCFQAAAAACAXoZAMzMzM7Mch0BmZmZm5tqHQJqZmZkZmYhAzczMzExXiUAAAAAAgBWKQDMzMzOz04pAZmZmZuaRi0CamZmZGVCMQM3MzMxMDo1AAAAAAIDMjUAzMzMzs4qOQGZmZmbmSI9A\",\"dtype\":\"float64\",\"shape\":[75]}},\"selected\":{\"id\":\"b4682355-cf32-44af-bf79-c8a9cfe823e5\",\"type\":\"Selection\"},\"selection_policy\":{\"id\":\"6592a7f2-570e-4b9d-af39-6cf8d507b8bd\",\"type\":\"UnionRenderers\"}},\"id\":\"05d07752-d7fd-4812-a1f6-eae8ad69d244\",\"type\":\"ColumnDataSource\"},{\"attributes\":{\"source\":{\"id\":\"64833be8-e2f2-4c15-906b-fc0ea6ec3c2a\",\"type\":\"ColumnDataSource\"}},\"id\":\"08c428b1-a4d6-4848-bb29-6d6b21a204fc\",\"type\":\"CDSView\"},{\"attributes\":{\"fill_alpha\":{\"value\":0.1},\"fill_color\":{\"value\":\"#1f77b4\"},\"line_alpha\":{\"value\":0.1},\"line_color\":{\"value\":\"#1f77b4\"},\"x\":{\"field\":\"x\"},\"y\":{\"field\":\"y\"}},\"id\":\"ca708252-50eb-4f47-9d98-5a5315f7c1f3\",\"type\":\"Circle\"},{\"attributes\":{\"plot\":null,\"text\":\"Log pressure scale\"},\"id\":\"2af61e9e-9bb1-4073-b96f-e73da43c2fc1\",\"type\":\"Title\"},{\"attributes\":{\"bottom_units\":\"screen\",\"fill_alpha\":{\"value\":0.5},\"fill_color\":{\"value\":\"lightgrey\"},\"left_units\":\"screen\",\"level\":\"overlay\",\"line_alpha\":{\"value\":1.0},\"line_color\":{\"value\":\"black\"},\"line_dash\":[4,4],\"line_width\":{\"value\":2},\"plot\":null,\"render_mode\":\"css\",\"right_units\":\"screen\",\"top_units\":\"screen\"},\"id\":\"0bd2b70b-cc99-47ff-a8db-6c74f1c27e12\",\"type\":\"BoxAnnotation\"},{\"attributes\":{},\"id\":\"e60fbcd9-266f-4b1c-adbf-425c182d24fc\",\"type\":\"LogScale\"},{\"attributes\":{\"active_drag\":\"auto\",\"active_inspect\":\"auto\",\"active_scroll\":\"auto\",\"active_tap\":\"auto\",\"tools\":[{\"id\":\"d35aac4e-483b-4659-b7d0-e67f7dbcc62e\",\"type\":\"PanTool\"},{\"id\":\"ab598597-11a5-4821-b582-ab2e283e1646\",\"type\":\"WheelZoomTool\"},{\"id\":\"eff9b9e2-e9d9-4124-a116-c1160ae1d6ca\",\"type\":\"BoxZoomTool\"},{\"id\":\"9f4e6ab3-3286-4a2f-9a6e-a4beea0d1451\",\"type\":\"SaveTool\"},{\"id\":\"86ba8ca7-bf19-4971-8d24-380e73a52bbc\",\"type\":\"ResetTool\"},{\"id\":\"f7e7cbb4-145a-47ff-b749-224d9090d3d8\",\"type\":\"HelpTool\"}]},\"id\":\"d8ca654e-dea0-40e8-ac77-24d37c75ab88\",\"type\":\"Toolbar\"},{\"attributes\":{\"callback\":null,\"end\":0.4174123999,\"start\":-0.1287955499},\"id\":\"d84c1c84-c343-4e4c-9f6d-3d8a897cf47d\",\"type\":\"Range1d\"},{\"attributes\":{\"axis_label\":\"cooling rate [K/day]\",\"formatter\":{\"id\":\"d0e55838-163a-45ac-a36e-0b7a9787eb25\",\"type\":\"BasicTickFormatter\"},\"plot\":{\"id\":\"c0dc279a-f840-4406-95f5-4747c8403301\",\"subtype\":\"Figure\",\"type\":\"Plot\"},\"ticker\":{\"id\":\"76498d8c-a156-4fe2-b658-2d0a5a3e06a4\",\"type\":\"BasicTicker\"}},\"id\":\"9aa951d0-b0b6-43f6-9257-ea9673cedb40\",\"type\":\"LinearAxis\"},{\"attributes\":{\"callback\":null,\"end\":0.01,\"start\":1020},\"id\":\"4fee6a04-4261-4738-ab39-f87386c881ea\",\"type\":\"Range1d\"},{\"attributes\":{\"line_alpha\":0.1,\"line_color\":\"#1f77b4\",\"line_dash\":[6],\"line_width\":5,\"x\":{\"field\":\"x\"},\"y\":{\"field\":\"y\"}},\"id\":\"f33b3cd7-d870-4600-a835-5b3a7c8d1762\",\"type\":\"Line\"},{\"attributes\":{\"data_source\":{\"id\":\"7b0b70e0-3143-4e91-b542-aa4e699038d2\",\"type\":\"ColumnDataSource\"},\"glyph\":{\"id\":\"423cc16b-b946-4d72-b514-123882db8c0e\",\"type\":\"Circle\"},\"hover_glyph\":null,\"muted_glyph\":null,\"nonselection_glyph\":{\"id\":\"ca708252-50eb-4f47-9d98-5a5315f7c1f3\",\"type\":\"Circle\"},\"selection_glyph\":null,\"view\":{\"id\":\"e635086c-361b-42e7-88ca-11a0f9249c86\",\"type\":\"CDSView\"}},\"id\":\"e35348ad-8a73-4a0f-999f-fa94cab70c32\",\"type\":\"GlyphRenderer\"},{\"attributes\":{},\"id\":\"44ef4857-36f9-4f9c-92f7-d2671c0b0dd6\",\"type\":\"LinearScale\"},{\"attributes\":{\"fill_alpha\":{\"value\":0.7},\"fill_color\":{\"value\":\"#4daf4a\"},\"line_alpha\":{\"value\":0.7},\"line_color\":{\"value\":\"#4daf4a\"},\"x\":{\"field\":\"x\"},\"y\":{\"field\":\"y\"}},\"id\":\"423cc16b-b946-4d72-b514-123882db8c0e\",\"type\":\"Circle\"},{\"attributes\":{\"callback\":null,\"data\":{\"x\":{\"__ndarray__\":\"s1iSVXQYwr8gjApiwfnBv6flrPR/s8G/zSlc6ntowb9ZxwrhRR3Bv6KxerBa08C/XjsHhfeLwL8bpq5j+UbAvxs+M9KcBsC/GkwmG82Zv7+LOzmeKjq/v/n+QJhf9r6/r7Pf4vravr8jgP7vRu6+v2X19Rmjt72/L7acjY0nuL+kphZ3py6sv2GyFrrpSni/UX7WJXh9qz8udyRmDxfAP1G7oSHKNMs/bbOpoapV1D9AWL4VJl/aP0vIrIMohNk/c7AnT5O40j+HIrRQ+I3IP4lhJAcuh74/3EYDeAuksj/Khfj3gfqnP4cJDT55yqA/KSMuAI3Slz+gWt3ngVqPP+U9lInXzIQ/zY6W+8uLez8ZjUiRRldaP7r7hgPNWXa/OtQIYHd4h79MT+aMGcKQvyKG8kVIy5e/WdsmckdTn7+xJmCFpcugvyC4yhMIO52/orI7hsLFlr9kxSTnuqyOv3DJfaxR6Hy/rRjGcG6eM790xyjwygV9P7MKVCyiGZA/gD6ZmJHumT/CbzZi1TyiP0aBEFk8pqc/rFCfQoCcrD+UHceB6q6wP1d91H0FC7M/6doPX8NftT/tCqvod7C3Pz12YbVDDbo/zNYTwEE5vT97z3EDeOq/P4eLu8Xs+sA/t/Jx8eC8wT85pv6sv0bCP+jva0UXq8I/gcB3WRv8wj/t2GN9XkzDP/rP3DtRr8M/WA0VJRkgxD+uRGZPfmLEP06/+i5bIcQ/ZFhJVD1Twz8PXfUlwFXCP3+xKR3NjcE/DegBA3M6wT/6llpr/7XBPyah2+jv58Y/\",\"dtype\":\"float64\",\"shape\":[75]},\"y\":{\"__ndarray__\":\"GhExyth1ND/Sv8nbtpRIP2vylNV0PVE/aTum7souWD/At0SJ8fVgPw3Iuahxymc/MSNhhJWvcD/bTfBN02d3P2zb5nxnaoA/CD5h5MAGhz8NmeH1TyaQP+zrCsc9p5Y/LbKd76fGnz/bLW5ISEmmPww9YvTcQq8/JV2OstnstT8Er5Y7M8G+P0c+r3jqkcU/5h99k6ZBzj88bCIzFzjVP4enV8oyxN0//yH99nXg5D8qOpLLf0jtP5kqGJXUifQ/c9cS8kHP/D+/DpwzojQEQIEmwoanVwxA4lgXt9HgE0BSSZ2AJuIbQAMJih9jjiNA5q4l5INuK0AwTKYKRj0zQNv5fmq8/DpAaCJseHrtQkB/+zpwzoxKQM3MzMzMeFJAZmZmZmZqWEAAAAAAAFxeQM3MzMzMJmJAmpmZmZkfZUBmZmZmZhhoQDMzMzMzEWtAAAAAAAAKbkBmZmZmZoFwQM3MzMzM/XFAMzMzMzN6c0CamZmZmfZ0QAAAAAAAc3ZAZmZmZmbvd0DNzMzMzGt5QDMzMzMz6HpAmpmZmZlkfEAAAAAAAOF9QGZmZmZmXX9AZmZmZuZsgECamZmZGSuBQM3MzMxM6YFAAAAAAICngkAzMzMzs2WDQGZmZmbmI4RAmpmZmRnihEDNzMzMTKCFQAAAAACAXoZAMzMzM7Mch0BmZmZm5tqHQJqZmZkZmYhAzczMzExXiUAAAAAAgBWKQDMzMzOz04pAZmZmZuaRi0CamZmZGVCMQM3MzMxMDo1AAAAAAIDMjUAzMzMzs4qOQGZmZmbmSI9A\",\"dtype\":\"float64\",\"shape\":[75]}},\"selected\":{\"id\":\"f88c0a28-24fc-48c3-b004-2f85c52b7f49\",\"type\":\"Selection\"},\"selection_policy\":{\"id\":\"0b081cef-69c7-486a-8f96-0fc904338b80\",\"type\":\"UnionRenderers\"}},\"id\":\"7b0b70e0-3143-4e91-b542-aa4e699038d2\",\"type\":\"ColumnDataSource\"},{\"attributes\":{\"callback\":null,\"data\":{\"x\":{\"__ndarray__\":\"cqRr2lAns7+ARw3T4v+yv41ARaC9pLK/XDa+H0xEsr8ymP6mKeKxv2yhRWWsfrG/+woHfxUZsb8E2vpC+LKwv4OAIVCiSrC/5pQ+fLLFr793SEMjXvKuv8C40GyJIq6/rvLUiDhUrb8v449qJH6sv/n60aW8rKm/w14ZNQ7eoL+DWcjrn3Fqv5miZowywqE/ekP7B3rwtD8Z1yqHN+fBP948kwVl/co/tdzbJVj50j9m3f35z/3XPxu6+i0RGtg/5wITj/aF0z+lMmLySLTMP98Ajpg0ocM/Cm6rJnbXuD8slOJpTYGtPwzxRQSu7qA/X43caDoakz9IDr84RB6FP2+C8YiYNno/ZHcAyc1XbT8aB5mPZIlgv4kgCyciKYW/w76ntvdQkr+lowrpateYv9AbyxSjSaC/QMyx/sfwo78yjOl5n/mkv6f5P5Qj9aK/SkAX0LV2n79SKxymVauXv2akJSnFm4y/zElKZxB5fL8obWPQ5kggv1zkHlP+w4E/Zso9E1CXkz+G0EsJ5LmeP028ax/esqQ/Qf2mMdNWqT9TLrBujAKuP6FYPC/0jLE/ig4tJPNXtD9hypLJQTq3P9FVPvRyEro/pyOAm8WLvT+KSQvZcSrAP5nn0gmyL8E/0vmVc870wT+cKzFsIJ/CP7ncosSVUMM/+SAVEKQcxD/tb1wIat/EP/0ZGFhLqsU/qXWPKpJIxj9FjiG+G6TGP+QquwW3WsY/j0H+BN1/xT/oeDfcaHzEPySf0wNRvcM/LIQPBEyJwz/DJa4AMjbEP6NVTvcRKsk/\",\"dtype\":\"float64\",\"shape\":[75]},\"y\":{\"__ndarray__\":\"S/O/Q+51ND/Sv8nbtpRIP2vylNV0PVE/aTum7souWD/At0SJ8fVgPw3Iuahxymc/MSNhhJWvcD/bTfBN02d3P2zb5nxnaoA/CD5h5MAGhz8NmeH1TyaQP+zrCsc9p5Y/LbKd76fGnz/bLW5ISEmmPww9YvTcQq8/JV2OstnstT8Er5Y7M8G+P0c+r3jqkcU/5h99k6ZBzj88bCIzFzjVP4enV8oyxN0//yH99nXg5D8qOpLLf0jtP5kqGJXUifQ/c9cS8kHP/D+/DpwzojQEQIEmwoanVwxA4lgXt9HgE0BSSZ2AJuIbQAMJih9jjiNA5q4l5INuK0AwTKYKRj0zQNv5fmq8/DpAaCJseHrtQkB/+zpwzoxKQM3MzMzMeFJAZmZmZmZqWEAAAAAAAFxeQM3MzMzMJmJAmpmZmZkfZUBmZmZmZhhoQDMzMzMzEWtAAAAAAAAKbkBmZmZmZoFwQM3MzMzM/XFAMzMzMzN6c0CamZmZmfZ0QAAAAAAAc3ZAZmZmZmbvd0DNzMzMzGt5QDMzMzMz6HpAmpmZmZlkfEAAAAAAAOF9QGZmZmZmXX9AZmZmZuZsgECamZmZGSuBQM3MzMxM6YFAAAAAAICngkAzMzMzs2WDQGZmZmbmI4RAmpmZmRnihEDNzMzMTKCFQAAAAACAXoZAMzMzM7Mch0BmZmZm5tqHQJqZmZkZmYhAzczMzExXiUAAAAAAgBWKQDMzMzOz04pAZmZmZuaRi0CamZmZGVCMQM3MzMxMDo1AAAAAAIDMjUAzMzMzs4qOQGZmZmbmSI9A\",\"dtype\":\"float64\",\"shape\":[75]}},\"selected\":{\"id\":\"a489ddfa-a3d7-4082-b1cc-532f74f28407\",\"type\":\"Selection\"},\"selection_policy\":{\"id\":\"2bf659a2-dc10-43ce-a1f8-19daad19e495\",\"type\":\"UnionRenderers\"}},\"id\":\"fb6fa6dd-0d17-4884-986b-57fa581d77e0\",\"type\":\"ColumnDataSource\"},{\"attributes\":{\"data_source\":{\"id\":\"05d07752-d7fd-4812-a1f6-eae8ad69d244\",\"type\":\"ColumnDataSource\"},\"glyph\":{\"id\":\"1485b8ae-f565-4137-85a7-1a89fd129549\",\"type\":\"Line\"},\"hover_glyph\":null,\"muted_glyph\":null,\"nonselection_glyph\":{\"id\":\"f33b3cd7-d870-4600-a835-5b3a7c8d1762\",\"type\":\"Line\"},\"selection_glyph\":null,\"view\":{\"id\":\"6b76d6cc-1674-4088-b28e-06b5934e9d3e\",\"type\":\"CDSView\"}},\"id\":\"78a4b097-007d-4564-b3f5-136e2a864ef6\",\"type\":\"GlyphRenderer\"},{\"attributes\":{\"line_color\":\"#4daf4a\",\"line_width\":1.5,\"x\":{\"field\":\"x\"},\"y\":{\"field\":\"y\"}},\"id\":\"2f57a689-d766-43b7-bb0d-a144e2f70c82\",\"type\":\"Line\"},{\"attributes\":{\"active_drag\":\"auto\",\"active_inspect\":\"auto\",\"active_scroll\":\"auto\",\"active_tap\":\"auto\",\"tools\":[{\"id\":\"26ef5692-d5af-4751-8a1e-a15ec6df1c38\",\"type\":\"PanTool\"},{\"id\":\"38df3412-c013-4ad9-9bed-d703b646794e\",\"type\":\"WheelZoomTool\"},{\"id\":\"9098c690-243a-4472-b3fd-0f736ac9e764\",\"type\":\"BoxZoomTool\"},{\"id\":\"db73fc60-70d2-40a8-9607-d9b92869c635\",\"type\":\"SaveTool\"},{\"id\":\"8f64cdbd-2fb7-4f3e-879b-c4f9c121cba1\",\"type\":\"ResetTool\"},{\"id\":\"f5102c00-999d-4e68-bbe8-bf9f5f2205d4\",\"type\":\"HelpTool\"}]},\"id\":\"7c603f1e-df11-4e47-82d8-79143efbe14c\",\"type\":\"Toolbar\"},{\"attributes\":{\"below\":[{\"id\":\"9aa951d0-b0b6-43f6-9257-ea9673cedb40\",\"type\":\"LinearAxis\"}],\"left\":[{\"id\":\"e2b11177-e600-468b-bbcf-c05679beb284\",\"type\":\"LogAxis\"}],\"plot_height\":500,\"plot_width\":560,\"renderers\":[{\"id\":\"9aa951d0-b0b6-43f6-9257-ea9673cedb40\",\"type\":\"LinearAxis\"},{\"id\":\"f155b820-53d2-46b7-ac60-7f6a7e230cda\",\"type\":\"Grid\"},{\"id\":\"e2b11177-e600-468b-bbcf-c05679beb284\",\"type\":\"LogAxis\"},{\"id\":\"b6fe0180-9265-4633-be61-23ca7c59d047\",\"type\":\"Grid\"},{\"id\":\"f077897e-f4be-4f11-9576-aab6db1a52de\",\"type\":\"BoxAnnotation\"},{\"id\":\"bef7c460-a15d-437e-8a9a-98d5981da7b3\",\"type\":\"GlyphRenderer\"},{\"id\":\"064cba79-a69b-43c7-a8fe-92b4cba0f16c\",\"type\":\"GlyphRenderer\"},{\"id\":\"96fc86f9-e293-447d-89fa-f78bed152295\",\"type\":\"GlyphRenderer\"},{\"id\":\"73262121-c099-4009-b825-f98f101a9609\",\"type\":\"GlyphRenderer\"},{\"id\":\"b19b8ab4-a201-4f26-98a2-f2e753ae0394\",\"type\":\"GlyphRenderer\"},{\"id\":\"cadc237c-c6a0-4d33-b875-211d8b2debda\",\"type\":\"Legend\"}],\"right\":[{\"id\":\"cadc237c-c6a0-4d33-b875-211d8b2debda\",\"type\":\"Legend\"}],\"title\":{\"id\":\"2af61e9e-9bb1-4073-b96f-e73da43c2fc1\",\"type\":\"Title\"},\"toolbar\":{\"id\":\"d8ca654e-dea0-40e8-ac77-24d37c75ab88\",\"type\":\"Toolbar\"},\"toolbar_location\":null,\"x_range\":{\"id\":\"d84c1c84-c343-4e4c-9f6d-3d8a897cf47d\",\"type\":\"Range1d\"},\"x_scale\":{\"id\":\"44ef4857-36f9-4f9c-92f7-d2671c0b0dd6\",\"type\":\"LinearScale\"},\"y_range\":{\"id\":\"4fee6a04-4261-4738-ab39-f87386c881ea\",\"type\":\"Range1d\"},\"y_scale\":{\"id\":\"e60fbcd9-266f-4b1c-adbf-425c182d24fc\",\"type\":\"LogScale\"}},\"id\":\"c0dc279a-f840-4406-95f5-4747c8403301\",\"subtype\":\"Figure\",\"type\":\"Plot\"},{\"attributes\":{\"items\":[{\"id\":\"491cc593-8bf0-4272-9000-2ba6def07718\",\"type\":\"LegendItem\"},{\"id\":\"01471436-60fc-4556-85a7-9d0f8237109e\",\"type\":\"LegendItem\"},{\"id\":\"b64edc35-ef25-448f-ad87-b69614102af3\",\"type\":\"LegendItem\"}],\"label_text_font_size\":{\"value\":\"8pt\"},\"location\":[10,-30],\"plot\":{\"id\":\"c0dc279a-f840-4406-95f5-4747c8403301\",\"subtype\":\"Figure\",\"type\":\"Plot\"}},\"id\":\"cadc237c-c6a0-4d33-b875-211d8b2debda\",\"type\":\"Legend\"},{\"attributes\":{\"plot\":null,\"text\":\"Linear pressure scale\"},\"id\":\"5612c788-1a7a-47d3-b19d-be3d9e038ffb\",\"type\":\"Title\"},{\"attributes\":{\"source\":{\"id\":\"7b0b70e0-3143-4e91-b542-aa4e699038d2\",\"type\":\"ColumnDataSource\"}},\"id\":\"e635086c-361b-42e7-88ca-11a0f9249c86\",\"type\":\"CDSView\"},{\"attributes\":{\"line_alpha\":0.6,\"line_color\":\"#e41a1c\",\"line_dash\":[6],\"line_width\":5,\"x\":{\"field\":\"x\"},\"y\":{\"field\":\"y\"}},\"id\":\"1485b8ae-f565-4137-85a7-1a89fd129549\",\"type\":\"Line\"},{\"attributes\":{\"callback\":null,\"data\":{\"x\":{\"__ndarray__\":\"6WCGkSHxt7/adpj+Psa3v9MuuHyqXre/b8d7pZHutr9OCPesZnu2v1zfxOacBba/uSgVtX2Ntb9PxOjakxe1v+6cemVdqrS/95EPBSk0tL/zBvOygc+zv1AEirvua7O/lO36B7wMs7/XBbRbaLqyv5TflWmjVrG/YDTLaFsCqb8vatHkXVOQv3bcthBgaJo/pfRCvb3Esz8X8SHRme7BP5h6J7BKs8s/3myc4qu80z/nPWsKphLZP3bSkCvU3tg/BvEFVqOR0z9E+UD6P+rLP3PPX41YsMI/ELMTNQOitz8S+maJOBetP8WJLvb+CaI/oz/y1hJVlj/1ZeC1iH6KP7eeFPKwbIA/AeWmdlxOcj8GqaKcEg5Zv8qIAc4vo4S/WoUC8+Ypkr+ujiOj8a6Yv+9A4Q/mRqC/7YzxjHYPpL91d4Zxgxalv6G6hAYM2aK/hgfAhHmrnr/hiH4FGoCWv9TOCO3XyIq/IHcExUXtd7/29eNCo4xYP+CNI9ubDYU/F968o4zZlD9egFL0jdafP5oRAS6YXaU/2VS/zUA3qj/WXGEG0uGuP/dbH/zi17E/6/AuHKpXtD9VTH/Yzeq2P8w5x2wIj7k/V2rNwfn1vD9Im/QIf9C/P3TAZJk0/MA/1WIq3HbKwT/WaYsIUmvCP6T7WhPi/MI/U98Bt1GRwz/hM+kh4DHEP4oInPis48Q/TEPgiryTxT8l+BGFtwPGPztfPwYj3cU/pr4DbqMixT8Y7W0KljDEP42i3r7UcMM/ZiZiW1Apwz+7Ml6pHbTDP3qwnO9tm8g/\",\"dtype\":\"float64\",\"shape\":[75]},\"y\":{\"__ndarray__\":\"GhExyth1ND/Sv8nbtpRIP2vylNV0PVE/aTum7souWD/At0SJ8fVgPw3Iuahxymc/MSNhhJWvcD/bTfBN02d3P2zb5nxnaoA/CD5h5MAGhz8NmeH1TyaQP+zrCsc9p5Y/LbKd76fGnz/bLW5ISEmmPww9YvTcQq8/JV2OstnstT8Er5Y7M8G+P0c+r3jqkcU/5h99k6ZBzj88bCIzFzjVP4enV8oyxN0//yH99nXg5D8qOpLLf0jtP5kqGJXUifQ/c9cS8kHP/D+/DpwzojQEQIEmwoanVwxA4lgXt9HgE0BSSZ2AJuIbQAMJih9jjiNA5q4l5INuK0AwTKYKRj0zQNv5fmq8/DpAaCJseHrtQkB/+zpwzoxKQM3MzMzMeFJAZmZmZmZqWEAAAAAAAFxeQM3MzMzMJmJAmpmZmZkfZUBmZmZmZhhoQDMzMzMzEWtAAAAAAAAKbkBmZmZmZoFwQM3MzMzM/XFAMzMzMzN6c0CamZmZmfZ0QAAAAAAAc3ZAZmZmZmbvd0DNzMzMzGt5QDMzMzMz6HpAmpmZmZlkfEAAAAAAAOF9QGZmZmZmXX9AZmZmZuZsgECamZmZGSuBQM3MzMxM6YFAAAAAAICngkAzMzMzs2WDQGZmZmbmI4RAmpmZmRnihEDNzMzMTKCFQAAAAACAXoZAMzMzM7Mch0BmZmZm5tqHQJqZmZkZmYhAzczMzExXiUAAAAAAgBWKQDMzMzOz04pAZmZmZuaRi0CamZmZGVCMQM3MzMxMDo1AAAAAAIDMjUAzMzMzs4qOQGZmZmbmSI9A\",\"dtype\":\"float64\",\"shape\":[75]}},\"selected\":{\"id\":\"0572c151-003f-4a22-9084-2ba22cc80550\",\"type\":\"Selection\"},\"selection_policy\":{\"id\":\"58f85ce6-19ad-411b-abec-e4ffbf9af5e5\",\"type\":\"UnionRenderers\"}},\"id\":\"b419d921-5e2c-4372-affc-512e56306ff7\",\"type\":\"ColumnDataSource\"},{\"attributes\":{\"callback\":null,\"data\":{\"x\":{\"__ndarray__\":\"s1iSVXQYwr8gjApiwfnBv6flrPR/s8G/zSlc6ntowb9ZxwrhRR3Bv6KxerBa08C/XjsHhfeLwL8bpq5j+UbAvxs+M9KcBsC/GkwmG82Zv7+LOzmeKjq/v/n+QJhf9r6/r7Pf4vravr8jgP7vRu6+v2X19Rmjt72/L7acjY0nuL+kphZ3py6sv2GyFrrpSni/UX7WJXh9qz8udyRmDxfAP1G7oSHKNMs/bbOpoapV1D9AWL4VJl/aP0vIrIMohNk/c7AnT5O40j+HIrRQ+I3IP4lhJAcuh74/3EYDeAuksj/Khfj3gfqnP4cJDT55yqA/KSMuAI3Slz+gWt3ngVqPP+U9lInXzIQ/zY6W+8uLez8ZjUiRRldaP7r7hgPNWXa/OtQIYHd4h79MT+aMGcKQvyKG8kVIy5e/WdsmckdTn7+xJmCFpcugvyC4yhMIO52/orI7hsLFlr9kxSTnuqyOv3DJfaxR6Hy/rRjGcG6eM790xyjwygV9P7MKVCyiGZA/gD6ZmJHumT/CbzZi1TyiP0aBEFk8pqc/rFCfQoCcrD+UHceB6q6wP1d91H0FC7M/6doPX8NftT/tCqvod7C3Pz12YbVDDbo/zNYTwEE5vT97z3EDeOq/P4eLu8Xs+sA/t/Jx8eC8wT85pv6sv0bCP+jva0UXq8I/gcB3WRv8wj/t2GN9XkzDP/rP3DtRr8M/WA0VJRkgxD+uRGZPfmLEP06/+i5bIcQ/ZFhJVD1Twz8PXfUlwFXCP3+xKR3NjcE/DegBA3M6wT/6llpr/7XBPyah2+jv58Y/\",\"dtype\":\"float64\",\"shape\":[75]},\"y\":{\"__ndarray__\":\"GhExyth1ND/Sv8nbtpRIP2vylNV0PVE/aTum7souWD/At0SJ8fVgPw3Iuahxymc/MSNhhJWvcD/bTfBN02d3P2zb5nxnaoA/CD5h5MAGhz8NmeH1TyaQP+zrCsc9p5Y/LbKd76fGnz/bLW5ISEmmPww9YvTcQq8/JV2OstnstT8Er5Y7M8G+P0c+r3jqkcU/5h99k6ZBzj88bCIzFzjVP4enV8oyxN0//yH99nXg5D8qOpLLf0jtP5kqGJXUifQ/c9cS8kHP/D+/DpwzojQEQIEmwoanVwxA4lgXt9HgE0BSSZ2AJuIbQAMJih9jjiNA5q4l5INuK0AwTKYKRj0zQNv5fmq8/DpAaCJseHrtQkB/+zpwzoxKQM3MzMzMeFJAZmZmZmZqWEAAAAAAAFxeQM3MzMzMJmJAmpmZmZkfZUBmZmZmZhhoQDMzMzMzEWtAAAAAAAAKbkBmZmZmZoFwQM3MzMzM/XFAMzMzMzN6c0CamZmZmfZ0QAAAAAAAc3ZAZmZmZmbvd0DNzMzMzGt5QDMzMzMz6HpAmpmZmZlkfEAAAAAAAOF9QGZmZmZmXX9AZmZmZuZsgECamZmZGSuBQM3MzMxM6YFAAAAAAICngkAzMzMzs2WDQGZmZmbmI4RAmpmZmRnihEDNzMzMTKCFQAAAAACAXoZAMzMzM7Mch0BmZmZm5tqHQJqZmZkZmYhAzczMzExXiUAAAAAAgBWKQDMzMzOz04pAZmZmZuaRi0CamZmZGVCMQM3MzMxMDo1AAAAAAIDMjUAzMzMzs4qOQGZmZmbmSI9A\",\"dtype\":\"float64\",\"shape\":[75]}},\"selected\":{\"id\":\"4603964d-77bc-4a09-8020-cf687a7b3316\",\"type\":\"Selection\"},\"selection_policy\":{\"id\":\"324ed5b4-b026-4eb4-bcf9-d2560c1a6603\",\"type\":\"UnionRenderers\"}},\"id\":\"31a11222-872e-44be-95de-1231d9404688\",\"type\":\"ColumnDataSource\"},{\"attributes\":{},\"id\":\"d9de25e1-7c96-4c7d-965f-4a51b516d2bb\",\"type\":\"BasicTicker\"},{\"attributes\":{\"callback\":null,\"end\":0.19897421768999998,\"start\":-0.04356522669},\"id\":\"a8f466d3-8197-48d5-927e-54d8d3f3c084\",\"type\":\"Range1d\"},{\"attributes\":{\"below\":[{\"id\":\"8f33c581-be00-4d2e-abda-e27da99a544b\",\"type\":\"LinearAxis\"}],\"left\":[{\"id\":\"53ae6a8f-ef25-422a-923d-4bb3122a4a37\",\"type\":\"LinearAxis\"}],\"plot_height\":500,\"plot_width\":400,\"renderers\":[{\"id\":\"8f33c581-be00-4d2e-abda-e27da99a544b\",\"type\":\"LinearAxis\"},{\"id\":\"eab75f90-18f5-446b-a9fe-afa734421128\",\"type\":\"Grid\"},{\"id\":\"53ae6a8f-ef25-422a-923d-4bb3122a4a37\",\"type\":\"LinearAxis\"},{\"id\":\"278b9168-edb2-4084-8d11-904268e0eb50\",\"type\":\"Grid\"},{\"id\":\"0bd2b70b-cc99-47ff-a8db-6c74f1c27e12\",\"type\":\"BoxAnnotation\"},{\"id\":\"78a4b097-007d-4564-b3f5-136e2a864ef6\",\"type\":\"GlyphRenderer\"},{\"id\":\"e35348ad-8a73-4a0f-999f-fa94cab70c32\",\"type\":\"GlyphRenderer\"},{\"id\":\"220bff86-b766-4c24-81fd-4d062f192509\",\"type\":\"GlyphRenderer\"},{\"id\":\"664ac472-812d-489e-87ae-f673ae189f44\",\"type\":\"GlyphRenderer\"},{\"id\":\"7233e3f2-9303-4c26-ae10-643bd0c45a47\",\"type\":\"GlyphRenderer\"}],\"title\":{\"id\":\"5612c788-1a7a-47d3-b19d-be3d9e038ffb\",\"type\":\"Title\"},\"toolbar\":{\"id\":\"7c603f1e-df11-4e47-82d8-79143efbe14c\",\"type\":\"Toolbar\"},\"toolbar_location\":null,\"x_range\":{\"id\":\"a8f466d3-8197-48d5-927e-54d8d3f3c084\",\"type\":\"Range1d\"},\"x_scale\":{\"id\":\"18ba3e3d-8c93-4bf2-b916-e1f3a7939c4e\",\"type\":\"LinearScale\"},\"y_range\":{\"id\":\"7994a175-d157-4a30-88cf-cde9816ef70e\",\"type\":\"Range1d\"},\"y_scale\":{\"id\":\"ff3cc82c-1edc-46a3-854e-9809a4fc400d\",\"type\":\"LinearScale\"}},\"id\":\"d6e74b94-78e2-404a-9bdb-a31842cdecff\",\"subtype\":\"Figure\",\"type\":\"Plot\"},{\"attributes\":{},\"id\":\"f212b225-9d7b-4992-aad6-1d77ebcf4b62\",\"type\":\"BasicTickFormatter\"},{\"attributes\":{\"axis_label\":\"cooling rate [K/day]\",\"formatter\":{\"id\":\"f212b225-9d7b-4992-aad6-1d77ebcf4b62\",\"type\":\"BasicTickFormatter\"},\"plot\":{\"id\":\"d6e74b94-78e2-404a-9bdb-a31842cdecff\",\"subtype\":\"Figure\",\"type\":\"Plot\"},\"ticker\":{\"id\":\"d9de25e1-7c96-4c7d-965f-4a51b516d2bb\",\"type\":\"BasicTicker\"}},\"id\":\"8f33c581-be00-4d2e-abda-e27da99a544b\",\"type\":\"LinearAxis\"},{\"attributes\":{\"line_alpha\":0.1,\"line_color\":\"#1f77b4\",\"line_width\":1.5,\"x\":{\"field\":\"x\"},\"y\":{\"field\":\"y\"}},\"id\":\"ea6d4754-a3ce-4172-9da3-4458a28c5d0b\",\"type\":\"Line\"},{\"attributes\":{\"plot\":{\"id\":\"d6e74b94-78e2-404a-9bdb-a31842cdecff\",\"subtype\":\"Figure\",\"type\":\"Plot\"},\"ticker\":{\"id\":\"d9de25e1-7c96-4c7d-965f-4a51b516d2bb\",\"type\":\"BasicTicker\"}},\"id\":\"eab75f90-18f5-446b-a9fe-afa734421128\",\"type\":\"Grid\"}],\"root_ids\":[\"f96853ae-97da-4c27-8afe-e4eb245bfa12\"]},\"title\":\"Bokeh Application\",\"version\":\"0.12.16\"}};\n",
       "  var render_items = [{\"docid\":\"c2458dad-2340-408c-b1cd-bd412de22431\",\"elementid\":\"3d754305-2030-484f-af5f-40261ed78ca5\",\"modelid\":\"f96853ae-97da-4c27-8afe-e4eb245bfa12\"}];\n",
       "  root.Bokeh.embed.embed_items_notebook(docs_json, render_items);\n",
       "\n",
       "  }\n",
       "  if (root.Bokeh !== undefined) {\n",
       "    embed_document(root);\n",
       "  } else {\n",
       "    var attempts = 0;\n",
       "    var timer = setInterval(function(root) {\n",
       "      if (root.Bokeh !== undefined) {\n",
       "        embed_document(root);\n",
       "        clearInterval(timer);\n",
       "      }\n",
       "      attempts++;\n",
       "      if (attempts > 100) {\n",
       "        console.log(\"Bokeh: ERROR: Unable to run BokehJS code because BokehJS library is missing\")\n",
       "        clearInterval(timer);\n",
       "      }\n",
       "    }, 10, root)\n",
       "  }\n",
       "})(window);"
      ],
      "application/vnd.bokehjs_exec.v0+json": ""
     },
     "metadata": {
      "application/vnd.bokehjs_exec.v0+json": {
       "id": "f96853ae-97da-4c27-8afe-e4eb245bfa12"
      }
     },
     "output_type": "display_data"
    },
    {
     "name": "stdout",
     "output_type": "stream",
     "text": [
      "FIGURE. Cooling rate profiles.\n"
     ]
    },
    {
     "data": {
      "text/html": [
       "<a id=\"Flux_Comparison\"></a>"
      ],
      "text/plain": [
       "<IPython.core.display.HTML object>"
      ]
     },
     "metadata": {},
     "output_type": "display_data"
    },
    {
     "data": {
      "text/markdown": [
       "# Flux Comparison"
      ],
      "text/plain": [
       "<IPython.core.display.Markdown object>"
      ]
     },
     "metadata": {},
     "output_type": "display_data"
    },
    {
     "data": {
      "text/html": [
       "<div>\n",
       "<style scoped>\n",
       "    .dataframe tbody tr th:only-of-type {\n",
       "        vertical-align: middle;\n",
       "    }\n",
       "\n",
       "    .dataframe tbody tr th {\n",
       "        vertical-align: top;\n",
       "    }\n",
       "\n",
       "    .dataframe thead th {\n",
       "        text-align: right;\n",
       "    }\n",
       "</style>\n",
       "<table border=\"1\" class=\"dataframe\">\n",
       "  <thead>\n",
       "    <tr style=\"text-align: right;\">\n",
       "      <th></th>\n",
       "      <th></th>\n",
       "      <th>flug</th>\n",
       "      <th>fldg</th>\n",
       "      <th>fnetg</th>\n",
       "    </tr>\n",
       "    <tr>\n",
       "      <th>pressure</th>\n",
       "      <th>level</th>\n",
       "      <th></th>\n",
       "      <th></th>\n",
       "      <th></th>\n",
       "    </tr>\n",
       "  </thead>\n",
       "  <tbody>\n",
       "    <tr>\n",
       "      <th>0.0000</th>\n",
       "      <th>1</th>\n",
       "      <td>-12.500557</td>\n",
       "      <td>0.000000</td>\n",
       "      <td>-12.500557</td>\n",
       "    </tr>\n",
       "    <tr>\n",
       "      <th>1.0685</th>\n",
       "      <th>24</th>\n",
       "      <td>-12.500836</td>\n",
       "      <td>0.027924</td>\n",
       "      <td>-12.472912</td>\n",
       "    </tr>\n",
       "    <tr>\n",
       "      <th>1013.0000</th>\n",
       "      <th>76</th>\n",
       "      <td>-23.755175</td>\n",
       "      <td>19.950051</td>\n",
       "      <td>-3.805125</td>\n",
       "    </tr>\n",
       "  </tbody>\n",
       "</table>\n",
       "</div>"
      ],
      "text/plain": [
       "                      flug       fldg      fnetg\n",
       "pressure  level                                 \n",
       "0.0000    1     -12.500557   0.000000 -12.500557\n",
       "1.0685    24    -12.500836   0.027924 -12.472912\n",
       "1013.0000 76    -23.755175  19.950051  -3.805125"
      ]
     },
     "metadata": {},
     "output_type": "display_data"
    },
    {
     "name": "stdout",
     "output_type": "stream",
     "text": [
      "Table. Fluxes. CRD\n"
     ]
    },
    {
     "data": {
      "text/html": [
       "<div>\n",
       "<style scoped>\n",
       "    .dataframe tbody tr th:only-of-type {\n",
       "        vertical-align: middle;\n",
       "    }\n",
       "\n",
       "    .dataframe tbody tr th {\n",
       "        vertical-align: top;\n",
       "    }\n",
       "\n",
       "    .dataframe thead th {\n",
       "        text-align: right;\n",
       "    }\n",
       "</style>\n",
       "<table border=\"1\" class=\"dataframe\">\n",
       "  <thead>\n",
       "    <tr style=\"text-align: right;\">\n",
       "      <th></th>\n",
       "      <th></th>\n",
       "      <th>flug</th>\n",
       "      <th>fldg</th>\n",
       "      <th>fnetg</th>\n",
       "    </tr>\n",
       "    <tr>\n",
       "      <th>pressure</th>\n",
       "      <th>level</th>\n",
       "      <th></th>\n",
       "      <th></th>\n",
       "      <th></th>\n",
       "    </tr>\n",
       "  </thead>\n",
       "  <tbody>\n",
       "    <tr>\n",
       "      <th>0.0000</th>\n",
       "      <th>1</th>\n",
       "      <td>-12.382629</td>\n",
       "      <td>0.000000</td>\n",
       "      <td>-12.382629</td>\n",
       "    </tr>\n",
       "    <tr>\n",
       "      <th>1.0685</th>\n",
       "      <th>24</th>\n",
       "      <td>-12.378693</td>\n",
       "      <td>0.024158</td>\n",
       "      <td>-12.354534</td>\n",
       "    </tr>\n",
       "    <tr>\n",
       "      <th>1013.0000</th>\n",
       "      <th>76</th>\n",
       "      <td>-23.755175</td>\n",
       "      <td>20.128996</td>\n",
       "      <td>-3.626180</td>\n",
       "    </tr>\n",
       "  </tbody>\n",
       "</table>\n",
       "</div>"
      ],
      "text/plain": [
       "                      flug       fldg      fnetg\n",
       "pressure  level                                 \n",
       "0.0000    1     -12.382629   0.000000 -12.382629\n",
       "1.0685    24    -12.378693   0.024158 -12.354534\n",
       "1013.0000 76    -23.755175  20.128996  -3.626180"
      ]
     },
     "metadata": {},
     "output_type": "display_data"
    },
    {
     "name": "stdout",
     "output_type": "stream",
     "text": [
      "Table. Fluxes. WGT igg=10 wgt_flux=1\n"
     ]
    },
    {
     "data": {
      "text/html": [
       "<div>\n",
       "<style scoped>\n",
       "    .dataframe tbody tr th:only-of-type {\n",
       "        vertical-align: middle;\n",
       "    }\n",
       "\n",
       "    .dataframe tbody tr th {\n",
       "        vertical-align: top;\n",
       "    }\n",
       "\n",
       "    .dataframe thead th {\n",
       "        text-align: right;\n",
       "    }\n",
       "</style>\n",
       "<table border=\"1\" class=\"dataframe\">\n",
       "  <thead>\n",
       "    <tr style=\"text-align: right;\">\n",
       "      <th></th>\n",
       "      <th></th>\n",
       "      <th>flug</th>\n",
       "      <th>fldg</th>\n",
       "      <th>fnetg</th>\n",
       "    </tr>\n",
       "    <tr>\n",
       "      <th>pressure</th>\n",
       "      <th>level</th>\n",
       "      <th></th>\n",
       "      <th></th>\n",
       "      <th></th>\n",
       "    </tr>\n",
       "  </thead>\n",
       "  <tbody>\n",
       "    <tr>\n",
       "      <th>1.000000e-08</th>\n",
       "      <th>1</th>\n",
       "      <td>-12.516697</td>\n",
       "      <td>8.945482e-08</td>\n",
       "      <td>-12.516697</td>\n",
       "    </tr>\n",
       "    <tr>\n",
       "      <th>1.068500e+00</th>\n",
       "      <th>24</th>\n",
       "      <td>-12.511383</td>\n",
       "      <td>2.211967e-02</td>\n",
       "      <td>-12.489264</td>\n",
       "    </tr>\n",
       "    <tr>\n",
       "      <th>1.013000e+03</th>\n",
       "      <th>76</th>\n",
       "      <td>-23.755180</td>\n",
       "      <td>2.012235e+01</td>\n",
       "      <td>-3.632835</td>\n",
       "    </tr>\n",
       "  </tbody>\n",
       "</table>\n",
       "</div>"
      ],
      "text/plain": [
       "                         flug          fldg      fnetg\n",
       "pressure     level                                    \n",
       "1.000000e-08 1     -12.516697  8.945482e-08 -12.516697\n",
       "1.068500e+00 24    -12.511383  2.211967e-02 -12.489264\n",
       "1.013000e+03 76    -23.755180  2.012235e+01  -3.632835"
      ]
     },
     "metadata": {},
     "output_type": "display_data"
    },
    {
     "name": "stdout",
     "output_type": "stream",
     "text": [
      "Table. Fluxes. CLIRAD\n"
     ]
    },
    {
     "data": {
      "text/html": [
       "<div>\n",
       "<style scoped>\n",
       "    .dataframe tbody tr th:only-of-type {\n",
       "        vertical-align: middle;\n",
       "    }\n",
       "\n",
       "    .dataframe tbody tr th {\n",
       "        vertical-align: top;\n",
       "    }\n",
       "\n",
       "    .dataframe thead th {\n",
       "        text-align: right;\n",
       "    }\n",
       "</style>\n",
       "<table border=\"1\" class=\"dataframe\">\n",
       "  <thead>\n",
       "    <tr style=\"text-align: right;\">\n",
       "      <th></th>\n",
       "      <th></th>\n",
       "      <th>flug</th>\n",
       "      <th>fldg</th>\n",
       "      <th>fnetg</th>\n",
       "    </tr>\n",
       "    <tr>\n",
       "      <th>pressure</th>\n",
       "      <th>level</th>\n",
       "      <th></th>\n",
       "      <th></th>\n",
       "      <th></th>\n",
       "    </tr>\n",
       "  </thead>\n",
       "  <tbody>\n",
       "    <tr>\n",
       "      <th>0.0000</th>\n",
       "      <th>1</th>\n",
       "      <td>0.117928</td>\n",
       "      <td>0.000000</td>\n",
       "      <td>0.117928</td>\n",
       "    </tr>\n",
       "    <tr>\n",
       "      <th>1.0685</th>\n",
       "      <th>24</th>\n",
       "      <td>0.122143</td>\n",
       "      <td>-0.003766</td>\n",
       "      <td>0.118378</td>\n",
       "    </tr>\n",
       "    <tr>\n",
       "      <th>1013.0000</th>\n",
       "      <th>76</th>\n",
       "      <td>0.000000</td>\n",
       "      <td>0.178945</td>\n",
       "      <td>0.178945</td>\n",
       "    </tr>\n",
       "  </tbody>\n",
       "</table>\n",
       "</div>"
      ],
      "text/plain": [
       "                     flug      fldg     fnetg\n",
       "pressure  level                              \n",
       "0.0000    1      0.117928  0.000000  0.117928\n",
       "1.0685    24     0.122143 -0.003766  0.118378\n",
       "1013.0000 76     0.000000  0.178945  0.178945"
      ]
     },
     "metadata": {},
     "output_type": "display_data"
    },
    {
     "name": "stdout",
     "output_type": "stream",
     "text": [
      "Table. Fluxes. (WGT igg=10 wgt_flux=1) - (CRD)\n"
     ]
    },
    {
     "data": {
      "text/html": [
       "<div>\n",
       "<style scoped>\n",
       "    .dataframe tbody tr th:only-of-type {\n",
       "        vertical-align: middle;\n",
       "    }\n",
       "\n",
       "    .dataframe tbody tr th {\n",
       "        vertical-align: top;\n",
       "    }\n",
       "\n",
       "    .dataframe thead th {\n",
       "        text-align: right;\n",
       "    }\n",
       "</style>\n",
       "<table border=\"1\" class=\"dataframe\">\n",
       "  <thead>\n",
       "    <tr style=\"text-align: right;\">\n",
       "      <th></th>\n",
       "      <th></th>\n",
       "      <th>flug</th>\n",
       "      <th>fldg</th>\n",
       "      <th>fnetg</th>\n",
       "    </tr>\n",
       "    <tr>\n",
       "      <th>pressure</th>\n",
       "      <th>level</th>\n",
       "      <th></th>\n",
       "      <th></th>\n",
       "      <th></th>\n",
       "    </tr>\n",
       "  </thead>\n",
       "  <tbody>\n",
       "    <tr>\n",
       "      <th>0.0000</th>\n",
       "      <th>1</th>\n",
       "      <td>-0.016140</td>\n",
       "      <td>8.945482e-08</td>\n",
       "      <td>-0.016140</td>\n",
       "    </tr>\n",
       "    <tr>\n",
       "      <th>1.0685</th>\n",
       "      <th>24</th>\n",
       "      <td>-0.010547</td>\n",
       "      <td>-5.804703e-03</td>\n",
       "      <td>-0.016352</td>\n",
       "    </tr>\n",
       "    <tr>\n",
       "      <th>1013.0000</th>\n",
       "      <th>76</th>\n",
       "      <td>-0.000005</td>\n",
       "      <td>1.722940e-01</td>\n",
       "      <td>0.172290</td>\n",
       "    </tr>\n",
       "  </tbody>\n",
       "</table>\n",
       "</div>"
      ],
      "text/plain": [
       "                     flug          fldg     fnetg\n",
       "pressure  level                                  \n",
       "0.0000    1     -0.016140  8.945482e-08 -0.016140\n",
       "1.0685    24    -0.010547 -5.804703e-03 -0.016352\n",
       "1013.0000 76    -0.000005  1.722940e-01  0.172290"
      ]
     },
     "metadata": {},
     "output_type": "display_data"
    },
    {
     "name": "stdout",
     "output_type": "stream",
     "text": [
      "Table. Fluxes. (CLIRAD) - (CRD)\n"
     ]
    },
    {
     "data": {
      "text/html": [
       "<a id=\"Best-fit_Parameters\"></a>"
      ],
      "text/plain": [
       "<IPython.core.display.HTML object>"
      ]
     },
     "metadata": {},
     "output_type": "display_data"
    },
    {
     "data": {
      "text/markdown": [
       "# Best-fit Parameters"
      ],
      "text/plain": [
       "<IPython.core.display.Markdown object>"
      ]
     },
     "metadata": {},
     "output_type": "display_data"
    },
    {
     "name": "stdout",
     "output_type": "stream",
     "text": [
      "Best-fit values for each (gas, band)\n",
      "------------------------------------\n",
      "o h2o band7\n",
      "  atmpro = mls\n",
      "  band = 7\n",
      "  commitnumber = a06b618\n",
      "  conc = None\n",
      "  dv = 0.001\n",
      "  klin = 0\n",
      "  molecule = h2o\n",
      "  ng_adju = [0]\n",
      "  ng_refs = [7]\n",
      "  nv = 1000\n",
      "  option_compute_btable = 0\n",
      "  option_compute_ktable = 1\n",
      "  option_wgt_flux = 1\n",
      "  option_wgt_k = 1\n",
      "  ref_pts = [(600, 250)]\n",
      "  tsfc = 294\n",
      "  vmax = 1380\n",
      "  vmin = 1215\n",
      "  w_diffuse = [(2, 1.6, 1.6, 1.6, 1.6, 1.6, 1.8)]\n",
      "  wgt = [(0.5, 0.5, 0.5, 0.5, 0.5, 0.5, 0.9)]\n",
      "o n2o band7\n",
      "  atmpro = mls\n",
      "  band = 7\n",
      "  commitnumber = a06b618\n",
      "  conc = 3.2e-07\n",
      "  dv = 0.001\n",
      "  klin = 2.22e-20\n",
      "  molecule = n2o\n",
      "  ng_adju = [0, 0]\n",
      "  ng_refs = [2, 2]\n",
      "  nv = 1000\n",
      "  option_compute_btable = 0\n",
      "  option_compute_ktable = 1\n",
      "  option_wgt_flux = 1\n",
      "  option_wgt_k = 1\n",
      "  ref_pts = [(1, 250), (500, 250)]\n",
      "  tsfc = 294\n",
      "  vmax = 1380\n",
      "  vmin = 1215\n",
      "  w_diffuse = [(1.8, 1.66), (1.6, 1.8)]\n",
      "  wgt = [(0.6, 0.5), (0.6, 0.9)]\n",
      "o ch4 band7\n",
      "  atmpro = mls\n",
      "  band = 7\n",
      "  commitnumber = a06b618\n",
      "  conc = 1.8e-06\n",
      "  dv = 0.001\n",
      "  klin = 2e-21\n",
      "  molecule = ch4\n",
      "  ng_adju = [0, 0]\n",
      "  ng_refs = [2, 3]\n",
      "  nv = 1000\n",
      "  option_compute_btable = 0\n",
      "  option_compute_ktable = 1\n",
      "  option_wgt_flux = 1\n",
      "  option_wgt_k = 1\n",
      "  ref_pts = [(1, 250), (500, 250)]\n",
      "  tsfc = 294\n",
      "  vmax = 1380\n",
      "  vmin = 1215\n",
      "  w_diffuse = [(1.66, 1.66), (1.66, 1.66, 1.66)]\n",
      "  wgt = [(0.7, 0.7), (0.4, 0.6, 0.75)]\n"
     ]
    }
   ],
   "source": [
    "script()"
   ]
  },
  {
   "cell_type": "code",
   "execution_count": 13,
   "metadata": {
    "collapsed": true
   },
   "outputs": [
    {
     "data": {
      "text/html": [
       "<script>\n",
       "code_show=true; \n",
       "function code_toggle() {\n",
       " if (code_show){\n",
       " $('div.input').hide();\n",
       " } else {\n",
       " $('div.input').show();\n",
       " }\n",
       " code_show = !code_show\n",
       "} \n",
       "$( document ).ready(code_toggle);\n",
       "</script>\n",
       "<form action=\"javascript:code_toggle()\"><input type=\"submit\" value=\"Click here to toggle on/off the raw code.\"></form>"
      ],
      "text/plain": [
       "<IPython.core.display.HTML object>"
      ]
     },
     "execution_count": 13,
     "metadata": {},
     "output_type": "execute_result"
    }
   ],
   "source": [
    "display.HTML('''<script>\n",
    "code_show=true; \n",
    "function code_toggle() {\n",
    " if (code_show){\n",
    " $('div.input').hide();\n",
    " } else {\n",
    " $('div.input').show();\n",
    " }\n",
    " code_show = !code_show\n",
    "} \n",
    "$( document ).ready(code_toggle);\n",
    "</script>\n",
    "<form action=\"javascript:code_toggle()\"><input type=\"submit\" value=\"Click here to toggle on/off the raw code.\"></form>''')"
   ]
  }
 ],
 "metadata": {
  "kernelspec": {
   "display_name": "Python 3",
   "language": "python",
   "name": "python3"
  },
  "language_info": {
   "codemirror_mode": {
    "name": "ipython",
    "version": 3
   },
   "file_extension": ".py",
   "mimetype": "text/x-python",
   "name": "python",
   "nbconvert_exporter": "python",
   "pygments_lexer": "ipython3",
   "version": "3.6.1"
  }
 },
 "nbformat": 4,
 "nbformat_minor": 2
}
