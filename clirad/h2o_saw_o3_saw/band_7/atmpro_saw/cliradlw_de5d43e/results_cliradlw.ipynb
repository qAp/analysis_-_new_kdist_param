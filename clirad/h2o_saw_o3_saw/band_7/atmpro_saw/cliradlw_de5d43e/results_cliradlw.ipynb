{
 "cells": [
  {
   "cell_type": "code",
   "execution_count": 1,
   "metadata": {
    "collapsed": true
   },
   "outputs": [],
   "source": [
    "%matplotlib inline\n",
    "import os\n",
    "import re\n",
    "import io\n",
    "import itertools\n",
    "import pprint\n",
    "\n",
    "from bokeh.io import output_notebook, show\n",
    "from bokeh.layouts import gridplot\n",
    "from bokeh.plotting import figure\n",
    "from bokeh.models import Range1d, Legend\n",
    "from bokeh.palettes import all_palettes\n",
    "\n",
    "import matplotlib\n",
    "import matplotlib.pyplot as plt\n",
    "import numpy as np\n",
    "import pandas as pd\n",
    "import xarray as xr\n",
    "\n",
    "import climatools.lblnew.bestfit_params as bestfits\n",
    "from climatools.lblnew import setup_bestfit, setup_overlap\n",
    "import climatools.lblnew.pipeline as pipe_lblnew\n",
    "import climatools.cliradlw.setup as setup_cliradlw\n",
    "import climatools.cliradlw.pipeline as pipe_cliradlw\n",
    "\n",
    "import climatools.html.html as climahtml\n",
    "from climatools.lblnew.dataio import *\n",
    "from climatools.plot.plot import *\n",
    "\n",
    "\n",
    "import IPython.display as display"
   ]
  },
  {
   "cell_type": "code",
   "execution_count": 2,
   "metadata": {
    "collapsed": true
   },
   "outputs": [],
   "source": [
    "%run param.py"
   ]
  },
  {
   "cell_type": "code",
   "execution_count": 3,
   "metadata": {
    "collapsed": true
   },
   "outputs": [
    {
     "name": "stdout",
     "output_type": "stream",
     "text": [
      "The history saving thread hit an unexpected error (OperationalError('database is locked',)).History will not be written to the database.\n"
     ]
    }
   ],
   "source": [
    "def load_output_file(path_csv):\n",
    "    '''\n",
    "    Load lblnew output .csv file to xarray.Dataset\n",
    "    \n",
    "    Parameters\n",
    "    ----------\n",
    "    path_csv: str\n",
    "              Path to the .csv file to be loaded.\n",
    "    ds: xarray.Dataset\n",
    "        Data in the input file in the form of an xarray.Dataset.\n",
    "    '''\n",
    "    toindex = ['band', 'pressure', 'igg', 'g']    \n",
    "    df = pd.read_csv(path_csv, sep=r'\\s+')\n",
    "    df = df.set_index([i for i in toindex if i in df.columns])\n",
    "    df = df.rename(columns={'sfu': 'flug',\n",
    "                            'sfd': 'fldg',\n",
    "                            'fnet': 'fnetg',\n",
    "                            'coolr': 'coolrg'})\n",
    "    ds = xr.Dataset.from_dataframe(df)\n",
    "\n",
    "    for l in ('level', 'layer'):\n",
    "        if l in ds.data_vars:\n",
    "            if len(ds[l].dims) > 1:\n",
    "                surface = {d: 0 for d in ds.dims if d != 'pressure'}\n",
    "                coord_level = ds[l][surface]\n",
    "                ds.coords[l] = ('pressure', coord_level)\n",
    "            else:\n",
    "                ds.coords[l] = ('pressure', ds[l])\n",
    "    \n",
    "    return ds"
   ]
  },
  {
   "cell_type": "code",
   "execution_count": 4,
   "metadata": {
    "collapsed": true
   },
   "outputs": [],
   "source": [
    "def lblnew_setup(param=None):\n",
    "    if 'ng_refs' in param:\n",
    "        return {'setup': setup_bestfit,\n",
    "                'fname_flux_crd': 'output_flux.dat',\n",
    "                'fname_cool_crd': 'output_coolr.dat',\n",
    "                'fname_flux_wgt': 'output_wfluxg.dat',\n",
    "                'fname_cool_wgt': 'output_wcoolrg.dat'}\n",
    "    else:\n",
    "        return {'setup': setup_overlap,\n",
    "                'fname_flux_crd': 'output_flux.dat',\n",
    "                'fname_cool_crd': 'output_coolr.dat',\n",
    "                'fname_flux_wgt': 'output_wflux.dat',\n",
    "                'fname_cool_wgt': 'output_wcoolr.dat'}\n",
    "\n",
    "    \n",
    "def load_lblnew_data(param):\n",
    "    \n",
    "    fname_dsname = [('fname_flux_crd', 'ds_flux_crd'),\n",
    "                    ('fname_cool_crd', 'ds_cool_crd'),\n",
    "                    ('fname_flux_wgt', 'ds_flux_wgt'),\n",
    "                    ('fname_cool_wgt', 'ds_cool_wgt')]\n",
    "    \n",
    "    d = lblnew_setup(param)\n",
    "    dir_fortran = pipe_lblnew.get_dir_case(param, setup=d['setup'])\n",
    "    \n",
    "    data_dict = {}\n",
    "    for fname, dsname in fname_dsname:\n",
    "        fpath = os.path.join(dir_fortran, d[fname])\n",
    "        data_dict[dsname] = load_output_file(fpath)\n",
    "    return data_dict\n",
    "    \n",
    "\n",
    "    \n",
    "    "
   ]
  },
  {
   "cell_type": "code",
   "execution_count": 5,
   "metadata": {
    "collapsed": true
   },
   "outputs": [],
   "source": [
    "d = load_lblnew_data(PARAM_LBLNEW)\n",
    "\n",
    "DS_FLUX_CRD = d['ds_flux_crd']\n",
    "DS_COOL_CRD = d['ds_cool_crd']\n",
    "DS_FLUX_WGT = d['ds_flux_wgt']\n",
    "DS_COOL_WGT = d['ds_cool_wgt']"
   ]
  },
  {
   "cell_type": "code",
   "execution_count": 6,
   "metadata": {
    "collapsed": true
   },
   "outputs": [],
   "source": [
    "DIR_FORTRAN = pipe_cliradlw.get_fortran_dir(PARAM, \n",
    "                                            setup=setup_cliradlw)\n",
    "\n",
    "PATH_FLUX = os.path.join(DIR_FORTRAN, 'output_flux.dat')\n",
    "PATH_COOL = os.path.join(DIR_FORTRAN, 'output_coolr.dat')\n",
    "\n",
    "DS_FLUX = load_output_file(PATH_FLUX)\n",
    "DS_COOL = load_output_file(PATH_COOL)"
   ]
  },
  {
   "cell_type": "code",
   "execution_count": 7,
   "metadata": {
    "collapsed": true
   },
   "outputs": [
    {
     "data": {
      "text/html": [
       "\n",
       "    <div class=\"bk-root\">\n",
       "        <a href=\"https://bokeh.pydata.org\" target=\"_blank\" class=\"bk-logo bk-logo-small bk-logo-notebook\"></a>\n",
       "        <span id=\"0ec86046-0cb2-48d7-b9eb-83d45215b336\">Loading BokehJS ...</span>\n",
       "    </div>"
      ]
     },
     "metadata": {},
     "output_type": "display_data"
    },
    {
     "data": {
      "application/javascript": [
       "\n",
       "(function(root) {\n",
       "  function now() {\n",
       "    return new Date();\n",
       "  }\n",
       "\n",
       "  var force = true;\n",
       "\n",
       "  if (typeof (root._bokeh_onload_callbacks) === \"undefined\" || force === true) {\n",
       "    root._bokeh_onload_callbacks = [];\n",
       "    root._bokeh_is_loading = undefined;\n",
       "  }\n",
       "\n",
       "  var JS_MIME_TYPE = 'application/javascript';\n",
       "  var HTML_MIME_TYPE = 'text/html';\n",
       "  var EXEC_MIME_TYPE = 'application/vnd.bokehjs_exec.v0+json';\n",
       "  var CLASS_NAME = 'output_bokeh rendered_html';\n",
       "\n",
       "  /**\n",
       "   * Render data to the DOM node\n",
       "   */\n",
       "  function render(props, node) {\n",
       "    var script = document.createElement(\"script\");\n",
       "    node.appendChild(script);\n",
       "  }\n",
       "\n",
       "  /**\n",
       "   * Handle when an output is cleared or removed\n",
       "   */\n",
       "  function handleClearOutput(event, handle) {\n",
       "    var cell = handle.cell;\n",
       "\n",
       "    var id = cell.output_area._bokeh_element_id;\n",
       "    var server_id = cell.output_area._bokeh_server_id;\n",
       "    // Clean up Bokeh references\n",
       "    if (id !== undefined) {\n",
       "      Bokeh.index[id].model.document.clear();\n",
       "      delete Bokeh.index[id];\n",
       "    }\n",
       "\n",
       "    if (server_id !== undefined) {\n",
       "      // Clean up Bokeh references\n",
       "      var cmd = \"from bokeh.io.state import curstate; print(curstate().uuid_to_server['\" + server_id + \"'].get_sessions()[0].document.roots[0]._id)\";\n",
       "      cell.notebook.kernel.execute(cmd, {\n",
       "        iopub: {\n",
       "          output: function(msg) {\n",
       "            var element_id = msg.content.text.trim();\n",
       "            Bokeh.index[element_id].model.document.clear();\n",
       "            delete Bokeh.index[element_id];\n",
       "          }\n",
       "        }\n",
       "      });\n",
       "      // Destroy server and session\n",
       "      var cmd = \"import bokeh.io.notebook as ion; ion.destroy_server('\" + server_id + \"')\";\n",
       "      cell.notebook.kernel.execute(cmd);\n",
       "    }\n",
       "  }\n",
       "\n",
       "  /**\n",
       "   * Handle when a new output is added\n",
       "   */\n",
       "  function handleAddOutput(event, handle) {\n",
       "    var output_area = handle.output_area;\n",
       "    var output = handle.output;\n",
       "\n",
       "    // limit handleAddOutput to display_data with EXEC_MIME_TYPE content only\n",
       "    if ((output.output_type != \"display_data\") || (!output.data.hasOwnProperty(EXEC_MIME_TYPE))) {\n",
       "      return\n",
       "    }\n",
       "\n",
       "    var toinsert = output_area.element.find(\".\" + CLASS_NAME.split(' ')[0]);\n",
       "\n",
       "    if (output.metadata[EXEC_MIME_TYPE][\"id\"] !== undefined) {\n",
       "      toinsert[toinsert.length - 1].firstChild.textContent = output.data[JS_MIME_TYPE];\n",
       "      // store reference to embed id on output_area\n",
       "      output_area._bokeh_element_id = output.metadata[EXEC_MIME_TYPE][\"id\"];\n",
       "    }\n",
       "    if (output.metadata[EXEC_MIME_TYPE][\"server_id\"] !== undefined) {\n",
       "      var bk_div = document.createElement(\"div\");\n",
       "      bk_div.innerHTML = output.data[HTML_MIME_TYPE];\n",
       "      var script_attrs = bk_div.children[0].attributes;\n",
       "      for (var i = 0; i < script_attrs.length; i++) {\n",
       "        toinsert[toinsert.length - 1].firstChild.setAttribute(script_attrs[i].name, script_attrs[i].value);\n",
       "      }\n",
       "      // store reference to server id on output_area\n",
       "      output_area._bokeh_server_id = output.metadata[EXEC_MIME_TYPE][\"server_id\"];\n",
       "    }\n",
       "  }\n",
       "\n",
       "  function register_renderer(events, OutputArea) {\n",
       "\n",
       "    function append_mime(data, metadata, element) {\n",
       "      // create a DOM node to render to\n",
       "      var toinsert = this.create_output_subarea(\n",
       "        metadata,\n",
       "        CLASS_NAME,\n",
       "        EXEC_MIME_TYPE\n",
       "      );\n",
       "      this.keyboard_manager.register_events(toinsert);\n",
       "      // Render to node\n",
       "      var props = {data: data, metadata: metadata[EXEC_MIME_TYPE]};\n",
       "      render(props, toinsert[toinsert.length - 1]);\n",
       "      element.append(toinsert);\n",
       "      return toinsert\n",
       "    }\n",
       "\n",
       "    /* Handle when an output is cleared or removed */\n",
       "    events.on('clear_output.CodeCell', handleClearOutput);\n",
       "    events.on('delete.Cell', handleClearOutput);\n",
       "\n",
       "    /* Handle when a new output is added */\n",
       "    events.on('output_added.OutputArea', handleAddOutput);\n",
       "\n",
       "    /**\n",
       "     * Register the mime type and append_mime function with output_area\n",
       "     */\n",
       "    OutputArea.prototype.register_mime_type(EXEC_MIME_TYPE, append_mime, {\n",
       "      /* Is output safe? */\n",
       "      safe: true,\n",
       "      /* Index of renderer in `output_area.display_order` */\n",
       "      index: 0\n",
       "    });\n",
       "  }\n",
       "\n",
       "  // register the mime type if in Jupyter Notebook environment and previously unregistered\n",
       "  if (root.Jupyter !== undefined) {\n",
       "    var events = require('base/js/events');\n",
       "    var OutputArea = require('notebook/js/outputarea').OutputArea;\n",
       "\n",
       "    if (OutputArea.prototype.mime_types().indexOf(EXEC_MIME_TYPE) == -1) {\n",
       "      register_renderer(events, OutputArea);\n",
       "    }\n",
       "  }\n",
       "\n",
       "  \n",
       "  if (typeof (root._bokeh_timeout) === \"undefined\" || force === true) {\n",
       "    root._bokeh_timeout = Date.now() + 5000;\n",
       "    root._bokeh_failed_load = false;\n",
       "  }\n",
       "\n",
       "  var NB_LOAD_WARNING = {'data': {'text/html':\n",
       "     \"<div style='background-color: #fdd'>\\n\"+\n",
       "     \"<p>\\n\"+\n",
       "     \"BokehJS does not appear to have successfully loaded. If loading BokehJS from CDN, this \\n\"+\n",
       "     \"may be due to a slow or bad network connection. Possible fixes:\\n\"+\n",
       "     \"</p>\\n\"+\n",
       "     \"<ul>\\n\"+\n",
       "     \"<li>re-rerun `output_notebook()` to attempt to load from CDN again, or</li>\\n\"+\n",
       "     \"<li>use INLINE resources instead, as so:</li>\\n\"+\n",
       "     \"</ul>\\n\"+\n",
       "     \"<code>\\n\"+\n",
       "     \"from bokeh.resources import INLINE\\n\"+\n",
       "     \"output_notebook(resources=INLINE)\\n\"+\n",
       "     \"</code>\\n\"+\n",
       "     \"</div>\"}};\n",
       "\n",
       "  function display_loaded() {\n",
       "    var el = document.getElementById(\"0ec86046-0cb2-48d7-b9eb-83d45215b336\");\n",
       "    if (el != null) {\n",
       "      el.textContent = \"BokehJS is loading...\";\n",
       "    }\n",
       "    if (root.Bokeh !== undefined) {\n",
       "      if (el != null) {\n",
       "        el.textContent = \"BokehJS \" + root.Bokeh.version + \" successfully loaded.\";\n",
       "      }\n",
       "    } else if (Date.now() < root._bokeh_timeout) {\n",
       "      setTimeout(display_loaded, 100)\n",
       "    }\n",
       "  }\n",
       "\n",
       "\n",
       "  function run_callbacks() {\n",
       "    try {\n",
       "      root._bokeh_onload_callbacks.forEach(function(callback) { callback() });\n",
       "    }\n",
       "    finally {\n",
       "      delete root._bokeh_onload_callbacks\n",
       "    }\n",
       "    console.info(\"Bokeh: all callbacks have finished\");\n",
       "  }\n",
       "\n",
       "  function load_libs(js_urls, callback) {\n",
       "    root._bokeh_onload_callbacks.push(callback);\n",
       "    if (root._bokeh_is_loading > 0) {\n",
       "      console.log(\"Bokeh: BokehJS is being loaded, scheduling callback at\", now());\n",
       "      return null;\n",
       "    }\n",
       "    if (js_urls == null || js_urls.length === 0) {\n",
       "      run_callbacks();\n",
       "      return null;\n",
       "    }\n",
       "    console.log(\"Bokeh: BokehJS not loaded, scheduling load and callback at\", now());\n",
       "    root._bokeh_is_loading = js_urls.length;\n",
       "    for (var i = 0; i < js_urls.length; i++) {\n",
       "      var url = js_urls[i];\n",
       "      var s = document.createElement('script');\n",
       "      s.src = url;\n",
       "      s.async = false;\n",
       "      s.onreadystatechange = s.onload = function() {\n",
       "        root._bokeh_is_loading--;\n",
       "        if (root._bokeh_is_loading === 0) {\n",
       "          console.log(\"Bokeh: all BokehJS libraries loaded\");\n",
       "          run_callbacks()\n",
       "        }\n",
       "      };\n",
       "      s.onerror = function() {\n",
       "        console.warn(\"failed to load library \" + url);\n",
       "      };\n",
       "      console.log(\"Bokeh: injecting script tag for BokehJS library: \", url);\n",
       "      document.getElementsByTagName(\"head\")[0].appendChild(s);\n",
       "    }\n",
       "  };var element = document.getElementById(\"0ec86046-0cb2-48d7-b9eb-83d45215b336\");\n",
       "  if (element == null) {\n",
       "    console.log(\"Bokeh: ERROR: autoload.js configured with elementid '0ec86046-0cb2-48d7-b9eb-83d45215b336' but no matching script tag was found. \")\n",
       "    return false;\n",
       "  }\n",
       "\n",
       "  var js_urls = [\"https://cdn.pydata.org/bokeh/release/bokeh-0.12.16.min.js\", \"https://cdn.pydata.org/bokeh/release/bokeh-widgets-0.12.16.min.js\", \"https://cdn.pydata.org/bokeh/release/bokeh-tables-0.12.16.min.js\", \"https://cdn.pydata.org/bokeh/release/bokeh-gl-0.12.16.min.js\"];\n",
       "\n",
       "  var inline_js = [\n",
       "    function(Bokeh) {\n",
       "      Bokeh.set_log_level(\"info\");\n",
       "    },\n",
       "    \n",
       "    function(Bokeh) {\n",
       "      \n",
       "    },\n",
       "    function(Bokeh) {\n",
       "      console.log(\"Bokeh: injecting CSS: https://cdn.pydata.org/bokeh/release/bokeh-0.12.16.min.css\");\n",
       "      Bokeh.embed.inject_css(\"https://cdn.pydata.org/bokeh/release/bokeh-0.12.16.min.css\");\n",
       "      console.log(\"Bokeh: injecting CSS: https://cdn.pydata.org/bokeh/release/bokeh-widgets-0.12.16.min.css\");\n",
       "      Bokeh.embed.inject_css(\"https://cdn.pydata.org/bokeh/release/bokeh-widgets-0.12.16.min.css\");\n",
       "      console.log(\"Bokeh: injecting CSS: https://cdn.pydata.org/bokeh/release/bokeh-tables-0.12.16.min.css\");\n",
       "      Bokeh.embed.inject_css(\"https://cdn.pydata.org/bokeh/release/bokeh-tables-0.12.16.min.css\");\n",
       "    }\n",
       "  ];\n",
       "\n",
       "  function run_inline_js() {\n",
       "    \n",
       "    if ((root.Bokeh !== undefined) || (force === true)) {\n",
       "      for (var i = 0; i < inline_js.length; i++) {\n",
       "        inline_js[i].call(root, root.Bokeh);\n",
       "      }if (force === true) {\n",
       "        display_loaded();\n",
       "      }} else if (Date.now() < root._bokeh_timeout) {\n",
       "      setTimeout(run_inline_js, 100);\n",
       "    } else if (!root._bokeh_failed_load) {\n",
       "      console.log(\"Bokeh: BokehJS failed to load within specified timeout.\");\n",
       "      root._bokeh_failed_load = true;\n",
       "    } else if (force !== true) {\n",
       "      var cell = $(document.getElementById(\"0ec86046-0cb2-48d7-b9eb-83d45215b336\")).parents('.cell').data().cell;\n",
       "      cell.output_area.append_execute_result(NB_LOAD_WARNING)\n",
       "    }\n",
       "\n",
       "  }\n",
       "\n",
       "  if (root._bokeh_is_loading === 0) {\n",
       "    console.log(\"Bokeh: BokehJS loaded, going straight to plotting\");\n",
       "    run_inline_js();\n",
       "  } else {\n",
       "    load_libs(js_urls, function() {\n",
       "      console.log(\"Bokeh: BokehJS plotting callback run at\", now());\n",
       "      run_inline_js();\n",
       "    });\n",
       "  }\n",
       "}(window));"
      ],
      "application/vnd.bokehjs_load.v0+json": "\n(function(root) {\n  function now() {\n    return new Date();\n  }\n\n  var force = true;\n\n  if (typeof (root._bokeh_onload_callbacks) === \"undefined\" || force === true) {\n    root._bokeh_onload_callbacks = [];\n    root._bokeh_is_loading = undefined;\n  }\n\n  \n\n  \n  if (typeof (root._bokeh_timeout) === \"undefined\" || force === true) {\n    root._bokeh_timeout = Date.now() + 5000;\n    root._bokeh_failed_load = false;\n  }\n\n  var NB_LOAD_WARNING = {'data': {'text/html':\n     \"<div style='background-color: #fdd'>\\n\"+\n     \"<p>\\n\"+\n     \"BokehJS does not appear to have successfully loaded. If loading BokehJS from CDN, this \\n\"+\n     \"may be due to a slow or bad network connection. Possible fixes:\\n\"+\n     \"</p>\\n\"+\n     \"<ul>\\n\"+\n     \"<li>re-rerun `output_notebook()` to attempt to load from CDN again, or</li>\\n\"+\n     \"<li>use INLINE resources instead, as so:</li>\\n\"+\n     \"</ul>\\n\"+\n     \"<code>\\n\"+\n     \"from bokeh.resources import INLINE\\n\"+\n     \"output_notebook(resources=INLINE)\\n\"+\n     \"</code>\\n\"+\n     \"</div>\"}};\n\n  function display_loaded() {\n    var el = document.getElementById(\"0ec86046-0cb2-48d7-b9eb-83d45215b336\");\n    if (el != null) {\n      el.textContent = \"BokehJS is loading...\";\n    }\n    if (root.Bokeh !== undefined) {\n      if (el != null) {\n        el.textContent = \"BokehJS \" + root.Bokeh.version + \" successfully loaded.\";\n      }\n    } else if (Date.now() < root._bokeh_timeout) {\n      setTimeout(display_loaded, 100)\n    }\n  }\n\n\n  function run_callbacks() {\n    try {\n      root._bokeh_onload_callbacks.forEach(function(callback) { callback() });\n    }\n    finally {\n      delete root._bokeh_onload_callbacks\n    }\n    console.info(\"Bokeh: all callbacks have finished\");\n  }\n\n  function load_libs(js_urls, callback) {\n    root._bokeh_onload_callbacks.push(callback);\n    if (root._bokeh_is_loading > 0) {\n      console.log(\"Bokeh: BokehJS is being loaded, scheduling callback at\", now());\n      return null;\n    }\n    if (js_urls == null || js_urls.length === 0) {\n      run_callbacks();\n      return null;\n    }\n    console.log(\"Bokeh: BokehJS not loaded, scheduling load and callback at\", now());\n    root._bokeh_is_loading = js_urls.length;\n    for (var i = 0; i < js_urls.length; i++) {\n      var url = js_urls[i];\n      var s = document.createElement('script');\n      s.src = url;\n      s.async = false;\n      s.onreadystatechange = s.onload = function() {\n        root._bokeh_is_loading--;\n        if (root._bokeh_is_loading === 0) {\n          console.log(\"Bokeh: all BokehJS libraries loaded\");\n          run_callbacks()\n        }\n      };\n      s.onerror = function() {\n        console.warn(\"failed to load library \" + url);\n      };\n      console.log(\"Bokeh: injecting script tag for BokehJS library: \", url);\n      document.getElementsByTagName(\"head\")[0].appendChild(s);\n    }\n  };var element = document.getElementById(\"0ec86046-0cb2-48d7-b9eb-83d45215b336\");\n  if (element == null) {\n    console.log(\"Bokeh: ERROR: autoload.js configured with elementid '0ec86046-0cb2-48d7-b9eb-83d45215b336' but no matching script tag was found. \")\n    return false;\n  }\n\n  var js_urls = [\"https://cdn.pydata.org/bokeh/release/bokeh-0.12.16.min.js\", \"https://cdn.pydata.org/bokeh/release/bokeh-widgets-0.12.16.min.js\", \"https://cdn.pydata.org/bokeh/release/bokeh-tables-0.12.16.min.js\", \"https://cdn.pydata.org/bokeh/release/bokeh-gl-0.12.16.min.js\"];\n\n  var inline_js = [\n    function(Bokeh) {\n      Bokeh.set_log_level(\"info\");\n    },\n    \n    function(Bokeh) {\n      \n    },\n    function(Bokeh) {\n      console.log(\"Bokeh: injecting CSS: https://cdn.pydata.org/bokeh/release/bokeh-0.12.16.min.css\");\n      Bokeh.embed.inject_css(\"https://cdn.pydata.org/bokeh/release/bokeh-0.12.16.min.css\");\n      console.log(\"Bokeh: injecting CSS: https://cdn.pydata.org/bokeh/release/bokeh-widgets-0.12.16.min.css\");\n      Bokeh.embed.inject_css(\"https://cdn.pydata.org/bokeh/release/bokeh-widgets-0.12.16.min.css\");\n      console.log(\"Bokeh: injecting CSS: https://cdn.pydata.org/bokeh/release/bokeh-tables-0.12.16.min.css\");\n      Bokeh.embed.inject_css(\"https://cdn.pydata.org/bokeh/release/bokeh-tables-0.12.16.min.css\");\n    }\n  ];\n\n  function run_inline_js() {\n    \n    if ((root.Bokeh !== undefined) || (force === true)) {\n      for (var i = 0; i < inline_js.length; i++) {\n        inline_js[i].call(root, root.Bokeh);\n      }if (force === true) {\n        display_loaded();\n      }} else if (Date.now() < root._bokeh_timeout) {\n      setTimeout(run_inline_js, 100);\n    } else if (!root._bokeh_failed_load) {\n      console.log(\"Bokeh: BokehJS failed to load within specified timeout.\");\n      root._bokeh_failed_load = true;\n    } else if (force !== true) {\n      var cell = $(document.getElementById(\"0ec86046-0cb2-48d7-b9eb-83d45215b336\")).parents('.cell').data().cell;\n      cell.output_area.append_execute_result(NB_LOAD_WARNING)\n    }\n\n  }\n\n  if (root._bokeh_is_loading === 0) {\n    console.log(\"Bokeh: BokehJS loaded, going straight to plotting\");\n    run_inline_js();\n  } else {\n    load_libs(js_urls, function() {\n      console.log(\"Bokeh: BokehJS plotting callback run at\", now());\n      run_inline_js();\n    });\n  }\n}(window));"
     },
     "metadata": {},
     "output_type": "display_data"
    }
   ],
   "source": [
    "output_notebook()"
   ]
  },
  {
   "cell_type": "code",
   "execution_count": 8,
   "metadata": {
    "collapsed": true
   },
   "outputs": [],
   "source": [
    "def fmt_cool(ds_in):\n",
    "    ds = ds_in.copy(deep=True)\n",
    "    if 'igg' in ds.dims:\n",
    "        ds = ds.sel(igg=1)\n",
    "\n",
    "    if 'g' in ds.dims:\n",
    "        ds = ds.sum('g')\n",
    "            \n",
    "    if 'band' in ds.dims:\n",
    "        try:\n",
    "            ds = ds.squeeze('band')\n",
    "        except ValueError:\n",
    "            ds = ds.sum('band')\n",
    "                \n",
    "    return ds['coolrg']\n",
    "\n",
    "\n",
    "def pltdata_cooling_1(ds_cool=None,\n",
    "                      ds_cool_crd=None, ds_cool_wgt=None):\n",
    "    \n",
    "\n",
    "\n",
    "    colors = all_palettes['Set1'][4]\n",
    "    data = [{'label': 'CLIRAD `coolr_bands`',\n",
    "             'srs': fmt_cool(ds_cool),\n",
    "             'line_dash': 'dashed', 'line_width': 5,\n",
    "             'color': colors[0], 'alpha': .6},\n",
    "            {'label': 'CRD',\n",
    "             'srs': fmt_cool(ds_cool_crd),\n",
    "             'line_dash': 'solid', 'line_width': 1.5,\n",
    "             'marker': 'circle', 'marker_size': 5,\n",
    "             'color': colors[2], 'alpha': 1,},\n",
    "            {'label': 'WGT igg=10 wgt_flux=2',\n",
    "             'srs': fmt_cool(ds_cool_wgt),\n",
    "             'line_dash': 'solid', 'line_width': 3,\n",
    "             'marker': 'square', 'marker_size': 5,\n",
    "             'color': colors[3], 'alpha': .6}]\n",
    "    return data\n",
    "\n",
    "\n",
    "def nice_xlims(pltdata=None, prange=None):\n",
    "    \n",
    "    def get_slice(srs):\n",
    "        return srs.sel(pressure=slice(*prange))\n",
    "    \n",
    "    srss = [d['srs'] for d in pltdata]\n",
    "    vmin = min([get_slice(srs).min() for srs in srss])\n",
    "    vmax = max([get_slice(srs).max() for srs in srss])\n",
    "    dv = (vmax - vmin) * .01\n",
    "    return float(vmin - dv), float(vmax + dv)\n",
    "    \n",
    "\n",
    "def plt_cooling_bokeh(pltdata=None):\n",
    "    '''\n",
    "    Plot a list of cooling rate profiles using bokeh.\n",
    "    '''\n",
    "    ymin = 1e-2 \n",
    "    ymax = 1020 \n",
    "        \n",
    "    p1 = figure(title=\"Linear pressure scale\", \n",
    "                plot_width=400)        \n",
    "    xmin, xmax = nice_xlims(pltdata, prange=(50, 1050))\n",
    "    for d in pltdata:\n",
    "        if 'marker' in d:\n",
    "            getattr(p1, d['marker'])(d['srs'].values, \n",
    "                    d['srs'].coords['pressure'].values,\n",
    "                    color=d['color'], alpha=.7)\n",
    "        p1.line(d['srs'].values, \n",
    "                d['srs'].coords['pressure'].values,\n",
    "                color=d['color'], alpha=d['alpha'], \n",
    "                line_width=d['line_width'], line_dash=d['line_dash'])\n",
    "    \n",
    "    p1.y_range = Range1d(ymax, ymin)\n",
    "    p1.yaxis.axis_label = 'pressure [mb]'   \n",
    "    p1.x_range = Range1d(xmin, xmax)\n",
    "    p1.xaxis.axis_label = 'cooling rate [K/day]'\n",
    "            \n",
    "    p2 = figure(title='Log pressure scale', y_axis_type='log',\n",
    "                plot_width=560)\n",
    "    xmin, xmax = nice_xlims(pltdata, prange=(.01, 200))\n",
    "    \n",
    "    rs = []\n",
    "    for d in pltdata:\n",
    "        rd = []\n",
    "        if 'marker' in d:\n",
    "            r_mark = getattr(p2, d['marker'])(d['srs'].values, \n",
    "                        d['srs'].coords['pressure'].values,\n",
    "                        color=d['color'], alpha=.7)\n",
    "            rd.append(r_mark)\n",
    "        r_line = p2.line(d['srs'].values, \n",
    "                    d['srs'].coords['pressure'].values,\n",
    "                    color=d['color'], alpha=d['alpha'], \n",
    "                    line_width=d['line_width'], line_dash=d['line_dash'])\n",
    "        rd.append(r_line)\n",
    "      \n",
    "        rs.append(rd)\n",
    "        \n",
    "    p2.y_range = Range1d(ymax, ymin)  \n",
    "    p2.yaxis.axis_label = 'pressure [mb]'\n",
    "    \n",
    "    p2.x_range = Range1d(xmin, xmax)\n",
    "    p2.xaxis.axis_label = 'cooling rate [K/day]'\n",
    "    \n",
    "    items = [(d['label'], r) for r, d in zip(rs, pltdata)]\n",
    "    legend = Legend(items=items, location=(10, -30))\n",
    "    legend.label_text_font_size = '8pt'\n",
    "    \n",
    "    p2.add_layout(legend, 'right')  \n",
    "    \n",
    "    show(gridplot(p1, p2, ncols=2, plot_height=500))\n",
    "    \n",
    "\n",
    "def script_plt_cooling():\n",
    "    pltdata = pltdata_cooling_1(\n",
    "        ds_cool=DS_COOL,\n",
    "        ds_cool_crd=DS_COOL_CRD,\n",
    "        ds_cool_wgt=DS_COOL_WGT)\n",
    "    plt_cooling_bokeh(pltdata=pltdata)\n",
    "    print('''FIGURE. Cooling rate profiles.''')"
   ]
  },
  {
   "cell_type": "code",
   "execution_count": 9,
   "metadata": {
    "collapsed": true
   },
   "outputs": [],
   "source": [
    "def fmt_flux(ds_in):\n",
    "    ds = ds_in.copy(deep=True)\n",
    "    \n",
    "    for l in ('level', 'layer'):\n",
    "        if l in ds.data_vars:\n",
    "            if len(ds[l].dims) > 1:\n",
    "                surface = {d: 0 for d in ds.dims if d != 'pressure'}\n",
    "                coord_level = ds[l][surface]\n",
    "                ds.coords[l] = ('pressure', coord_level)\n",
    "            else:\n",
    "                ds.coords[l] = ('pressure', ds[l])\n",
    "        \n",
    "    ds = ds.isel(pressure=[0, 23, -1])\n",
    "        \n",
    "    if 'igg' in ds.dims:\n",
    "        ds = ds.sel(igg=[1])\n",
    "        ds = ds.squeeze('igg').drop('igg')\n",
    "    \n",
    "    if 'g' in ds.dims:\n",
    "        ds = ds.sum('g')\n",
    "            \n",
    "    if 'band' in ds.dims:\n",
    "        try:\n",
    "            ds = ds.squeeze('band').drop('band')\n",
    "        except ValueError:\n",
    "            ds = ds.sum('band')\n",
    "                \n",
    "    df = ds.to_dataframe()\n",
    "    df = df.set_index('level', append=True)               \n",
    "    return df\n",
    "\n",
    "\n",
    "def tbdata_flux(ds_flux=None, ds_flux_crd=None, ds_flux_wgt=None):\n",
    "    ilevels = [0, 23, -1]\n",
    "            \n",
    "    benchmark = {'label': 'CRD',\n",
    "                 'df': fmt_flux(ds_flux_crd)}\n",
    "    \n",
    "    tbs = [{'label': 'WGT igg=10 wgt_flux=1',\n",
    "            'df': fmt_flux(ds_flux_wgt)},\n",
    "           {'label': 'CLIRAD',\n",
    "            'df': fmt_flux(ds_flux)}]\n",
    "    \n",
    "    data = {'benchmark': benchmark, 'others': tbs}\n",
    "    return data\n",
    "\n",
    "\n",
    "def tb_flux(tbdata=None):\n",
    "    benchmark = tbdata['benchmark']\n",
    "    others = tbdata['others']\n",
    "    \n",
    "    def show_tb(d=None):\n",
    "        display.display(d['df'])\n",
    "        print('Table.', 'Fluxes.', d['label'])\n",
    "        \n",
    "    def show_tbdiff(d0=None, d=None):\n",
    "        df = d['df']\n",
    "        df.index = d0['df'].index\n",
    "        display.display(df - d0['df'])\n",
    "        print('Table.', 'Fluxes.', \n",
    "              '({}) - ({})'.format(d['label'], d0['label']))\n",
    "        \n",
    "    show_tb(benchmark)\n",
    "    for d in others:\n",
    "        show_tb(d)\n",
    "        \n",
    "    for d in others:\n",
    "        show_tbdiff(d=d, d0=benchmark)\n",
    "        \n",
    "        \n",
    "def script_tb_flux():\n",
    "    data = tbdata_flux(ds_flux=DS_FLUX,\n",
    "                       ds_flux_crd=DS_FLUX_CRD,\n",
    "                       ds_flux_wgt=DS_FLUX_WGT)\n",
    "    tb_flux(tbdata=data)"
   ]
  },
  {
   "cell_type": "code",
   "execution_count": 10,
   "metadata": {
    "collapsed": true
   },
   "outputs": [],
   "source": [
    "def band_map():\n",
    "    '''\n",
    "    Maps spectral bands in lblnew to spectral bands in clirad.\n",
    "    '''\n",
    "    lblnew2clirad = {'1': '1',\n",
    "            '2': '2',\n",
    "            '3a': '3',\n",
    "            '3b': '4',\n",
    "            '3c': '5',\n",
    "            '4': '6', \n",
    "            '5': '7',\n",
    "            '6': '8',\n",
    "            '7': '9', \n",
    "            '8': '10',\n",
    "            '9': '11'}\n",
    "    \n",
    "    clirad2lblnew = {clirad: lblnew \n",
    "                     for lblnew, clirad in lblnew2clirad.items()}\n",
    "    return clirad2lblnew\n",
    "\n",
    "\n",
    "def gasbands():\n",
    "    bmap = band_map()\n",
    "    gases = list(PARAM['molecule'].keys())\n",
    "    \n",
    "    bands = [bmap[str(b)] for b in PARAM['band']]\n",
    "    return list(itertools.product(gases, bands))\n",
    "\n",
    "\n",
    "def print_bestfit_params():\n",
    "    print('Best-fit values for each (gas, band)')\n",
    "    print('------------------------------------')\n",
    "    for gas, band in gasbands():\n",
    "        print('o {} band{}'.format(gas, band))\n",
    "        param = bestfits.kdist_params(molecule=gas, band=band)\n",
    "        for name, value in sorted(param.items()):\n",
    "            print(2 * ' ' + '{} = {}'.format(name, value))\n",
    "\n",
    "        \n",
    "def print_input_param():        \n",
    "    for name, value in PARAM.items():\n",
    "        print('{} = {}'.format(name, value))\n",
    "        \n",
    "        \n",
    "def print_lblnew_param():\n",
    "    for name, value in sorted(PARAM_LBLNEW.items()):\n",
    "        print('{} = {}'.format(name, value))\n"
   ]
  },
  {
   "cell_type": "code",
   "execution_count": 11,
   "metadata": {
    "collapsed": true,
    "scrolled": false
   },
   "outputs": [],
   "source": [
    "def show_html(s):\n",
    "    display.display(display.HTML(s))\n",
    "\n",
    "    \n",
    "def show_markdown(s):\n",
    "    display.display(display.Markdown(s))\n",
    "\n",
    "    \n",
    "def script():\n",
    "    \n",
    "    title = '### CLIRAD-LW'\n",
    "    s_input = 'Input Parameters'\n",
    "    s_lblnew_param = 'LBLNEW case compaired against'\n",
    "    s_bestfits = 'Best-fit Parameters'\n",
    "    s_plt_cooling = 'Cooling Rate Profiles'\n",
    "    s_tb_flux = 'Flux Comparison'\n",
    "    \n",
    "    # title\n",
    "    show_markdown('### CLIRAD-LW')\n",
    "    \n",
    "    # TOC\n",
    "    show_markdown('### Table of Contents')\n",
    "    show_html(climahtml.getHTML_hrefanchor(s_input))\n",
    "    show_html(climahtml.getHTML_hrefanchor(s_lblnew_param))\n",
    "    show_html(climahtml.getHTML_hrefanchor(s_plt_cooling))\n",
    "    show_html(climahtml.getHTML_hrefanchor(s_tb_flux))\n",
    "    show_html(climahtml.getHTML_hrefanchor(s_bestfits))\n",
    "    \n",
    "    # Input parameters\n",
    "    show_html(climahtml.getHTML_idanchor(s_input))\n",
    "    show_markdown(climahtml.getMarkdown_sectitle(s_input))\n",
    "    print_input_param()\n",
    "    \n",
    "    # LBLNEW parameters \n",
    "    show_html(climahtml.getHTML_idanchor(s_lblnew_param))\n",
    "    show_markdown(climahtml.getMarkdown_sectitle(s_lblnew_param))\n",
    "    print_lblnew_param()\n",
    "    \n",
    "    # Cooling rate profiles\n",
    "    show_html(climahtml.getHTML_idanchor(s_plt_cooling))\n",
    "    show_markdown(climahtml.getMarkdown_sectitle(s_plt_cooling))\n",
    "    script_plt_cooling()\n",
    "    \n",
    "    # Flux comparison\n",
    "    show_html(climahtml.getHTML_idanchor(s_tb_flux))\n",
    "    show_markdown(climahtml.getMarkdown_sectitle(s_tb_flux))\n",
    "    script_tb_flux()\n",
    "    \n",
    "    # Best-fit values\n",
    "    show_html(climahtml.getHTML_idanchor(s_bestfits))\n",
    "    show_markdown(climahtml.getMarkdown_sectitle(s_bestfits))\n",
    "    print_bestfit_params()\n",
    "   \n",
    "    "
   ]
  },
  {
   "cell_type": "code",
   "execution_count": 12,
   "metadata": {
    "collapsed": true,
    "scrolled": false
   },
   "outputs": [
    {
     "data": {
      "text/markdown": [
       "### CLIRAD-LW"
      ],
      "text/plain": [
       "<IPython.core.display.Markdown object>"
      ]
     },
     "metadata": {},
     "output_type": "display_data"
    },
    {
     "data": {
      "text/markdown": [
       "### Table of Contents"
      ],
      "text/plain": [
       "<IPython.core.display.Markdown object>"
      ]
     },
     "metadata": {},
     "output_type": "display_data"
    },
    {
     "data": {
      "text/html": [
       "<a href=\"#Input_Parameters\">Input Parameters</a>"
      ],
      "text/plain": [
       "<IPython.core.display.HTML object>"
      ]
     },
     "metadata": {},
     "output_type": "display_data"
    },
    {
     "data": {
      "text/html": [
       "<a href=\"#LBLNEW_case_compaired_against\">LBLNEW case compaired against</a>"
      ],
      "text/plain": [
       "<IPython.core.display.HTML object>"
      ]
     },
     "metadata": {},
     "output_type": "display_data"
    },
    {
     "data": {
      "text/html": [
       "<a href=\"#Cooling_Rate_Profiles\">Cooling Rate Profiles</a>"
      ],
      "text/plain": [
       "<IPython.core.display.HTML object>"
      ]
     },
     "metadata": {},
     "output_type": "display_data"
    },
    {
     "data": {
      "text/html": [
       "<a href=\"#Flux_Comparison\">Flux Comparison</a>"
      ],
      "text/plain": [
       "<IPython.core.display.HTML object>"
      ]
     },
     "metadata": {},
     "output_type": "display_data"
    },
    {
     "data": {
      "text/html": [
       "<a href=\"#Best-fit_Parameters\">Best-fit Parameters</a>"
      ],
      "text/plain": [
       "<IPython.core.display.HTML object>"
      ]
     },
     "metadata": {},
     "output_type": "display_data"
    },
    {
     "data": {
      "text/html": [
       "<a id=\"Input_Parameters\"></a>"
      ],
      "text/plain": [
       "<IPython.core.display.HTML object>"
      ]
     },
     "metadata": {},
     "output_type": "display_data"
    },
    {
     "data": {
      "text/markdown": [
       "# Input Parameters"
      ],
      "text/plain": [
       "<IPython.core.display.Markdown object>"
      ]
     },
     "metadata": {},
     "output_type": "display_data"
    },
    {
     "name": "stdout",
     "output_type": "stream",
     "text": [
      "commitnumber = de5d43e\n",
      "molecule = {'h2o': 'atmpro', 'o3': 'atmpro'}\n",
      "band = [7]\n",
      "atmpro = saw\n",
      "tsfc = 257\n"
     ]
    },
    {
     "data": {
      "text/html": [
       "<a id=\"LBLNEW_case_compaired_against\"></a>"
      ],
      "text/plain": [
       "<IPython.core.display.HTML object>"
      ]
     },
     "metadata": {},
     "output_type": "display_data"
    },
    {
     "data": {
      "text/markdown": [
       "# LBLNEW case compaired against"
      ],
      "text/plain": [
       "<IPython.core.display.Markdown object>"
      ]
     },
     "metadata": {},
     "output_type": "display_data"
    },
    {
     "name": "stdout",
     "output_type": "stream",
     "text": [
      "atmpro = saw\n",
      "band = 5\n",
      "commitnumber = 5014a19\n",
      "dv = 0.001\n",
      "molecule = {'h2o': 'atmpro', 'o3': 'atmpro'}\n",
      "nv = 1000\n",
      "tsfc = 257\n"
     ]
    },
    {
     "data": {
      "text/html": [
       "<a id=\"Cooling_Rate_Profiles\"></a>"
      ],
      "text/plain": [
       "<IPython.core.display.HTML object>"
      ]
     },
     "metadata": {},
     "output_type": "display_data"
    },
    {
     "data": {
      "text/markdown": [
       "# Cooling Rate Profiles"
      ],
      "text/plain": [
       "<IPython.core.display.Markdown object>"
      ]
     },
     "metadata": {},
     "output_type": "display_data"
    },
    {
     "data": {
      "text/html": [
       "\n",
       "<div class=\"bk-root\">\n",
       "    <div class=\"bk-plotdiv\" id=\"0eb59f01-7650-4c44-b929-22d54bdd308f\"></div>\n",
       "</div>"
      ]
     },
     "metadata": {},
     "output_type": "display_data"
    },
    {
     "data": {
      "application/javascript": [
       "(function(root) {\n",
       "  function embed_document(root) {\n",
       "    \n",
       "  var docs_json = {\"ee3a90c8-bbd6-44b4-a2c1-426173fafbbb\":{\"roots\":{\"references\":[{\"attributes\":{\"data_source\":{\"id\":\"94ee8376-3827-4e8b-9c9c-0de765dc53e9\",\"type\":\"ColumnDataSource\"},\"glyph\":{\"id\":\"48840feb-5cc8-4a16-89f5-0916e75a0b34\",\"type\":\"Line\"},\"hover_glyph\":null,\"muted_glyph\":null,\"nonselection_glyph\":{\"id\":\"aedb7e3e-5634-4c99-9844-f95bd5ea697d\",\"type\":\"Line\"},\"selection_glyph\":null,\"view\":{\"id\":\"ccd53892-e712-45c6-9b44-b7c880ae1a54\",\"type\":\"CDSView\"}},\"id\":\"0f969477-c04e-4fd7-a8f4-3e3bd985a8e1\",\"type\":\"GlyphRenderer\"},{\"attributes\":{\"plot\":{\"id\":\"660200b9-4ae7-48ee-84a8-aa588e5ad57f\",\"subtype\":\"Figure\",\"type\":\"Plot\"},\"ticker\":{\"id\":\"fe1afb16-39c3-4d65-9850-3277dc37f206\",\"type\":\"BasicTicker\"}},\"id\":\"04f11b14-0ed1-4d51-a98e-56262f8b98df\",\"type\":\"Grid\"},{\"attributes\":{},\"id\":\"fe1afb16-39c3-4d65-9850-3277dc37f206\",\"type\":\"BasicTicker\"},{\"attributes\":{\"axis_label\":\"pressure [mb]\",\"formatter\":{\"id\":\"03ed1e8c-43c2-4a6a-a9b1-a59688da674e\",\"type\":\"LogTickFormatter\"},\"plot\":{\"id\":\"660200b9-4ae7-48ee-84a8-aa588e5ad57f\",\"subtype\":\"Figure\",\"type\":\"Plot\"},\"ticker\":{\"id\":\"cf69bc77-214c-4dfa-838f-2f207ae9cba2\",\"type\":\"LogTicker\"}},\"id\":\"66f11b9b-af18-48f0-b23f-936ceec5a1d1\",\"type\":\"LogAxis\"},{\"attributes\":{\"num_minor_ticks\":10},\"id\":\"cf69bc77-214c-4dfa-838f-2f207ae9cba2\",\"type\":\"LogTicker\"},{\"attributes\":{\"dimension\":1,\"plot\":{\"id\":\"660200b9-4ae7-48ee-84a8-aa588e5ad57f\",\"subtype\":\"Figure\",\"type\":\"Plot\"},\"ticker\":{\"id\":\"cf69bc77-214c-4dfa-838f-2f207ae9cba2\",\"type\":\"LogTicker\"}},\"id\":\"b9665ece-be9e-4aff-a3f1-1bb5c4eb5713\",\"type\":\"Grid\"},{\"attributes\":{\"bottom_units\":\"screen\",\"fill_alpha\":{\"value\":0.5},\"fill_color\":{\"value\":\"lightgrey\"},\"left_units\":\"screen\",\"level\":\"overlay\",\"line_alpha\":{\"value\":1.0},\"line_color\":{\"value\":\"black\"},\"line_dash\":[4,4],\"line_width\":{\"value\":2},\"plot\":null,\"render_mode\":\"css\",\"right_units\":\"screen\",\"top_units\":\"screen\"},\"id\":\"a68aa38d-38e7-4c39-b579-7fc3a5ffc9a4\",\"type\":\"BoxAnnotation\"},{\"attributes\":{},\"id\":\"3c83e92d-9bf0-43a8-8594-2027e490718d\",\"type\":\"PanTool\"},{\"attributes\":{},\"id\":\"542542e3-e0b3-4d34-b3fc-2531181d1521\",\"type\":\"WheelZoomTool\"},{\"attributes\":{\"overlay\":{\"id\":\"a68aa38d-38e7-4c39-b579-7fc3a5ffc9a4\",\"type\":\"BoxAnnotation\"}},\"id\":\"05c3d06a-acaa-408f-99f2-b6705bd04f79\",\"type\":\"BoxZoomTool\"},{\"attributes\":{},\"id\":\"8ad203d0-6c2f-4a8a-aecc-ce5575002a26\",\"type\":\"SaveTool\"},{\"attributes\":{},\"id\":\"f96d33cd-1917-41d4-ab30-2bdb054cb1ea\",\"type\":\"HelpTool\"},{\"attributes\":{},\"id\":\"d2303284-ed21-4041-a07b-bc2e1a8ba209\",\"type\":\"ResetTool\"},{\"attributes\":{\"line_alpha\":0.1,\"line_color\":\"#1f77b4\",\"line_width\":3,\"x\":{\"field\":\"x\"},\"y\":{\"field\":\"y\"}},\"id\":\"aedb7e3e-5634-4c99-9844-f95bd5ea697d\",\"type\":\"Line\"},{\"attributes\":{\"line_alpha\":0.1,\"line_color\":\"#1f77b4\",\"line_dash\":[6],\"line_width\":5,\"x\":{\"field\":\"x\"},\"y\":{\"field\":\"y\"}},\"id\":\"7a5ce1f1-b626-4706-9b02-c742d4fcb2f3\",\"type\":\"Line\"},{\"attributes\":{\"line_alpha\":0.6,\"line_color\":\"#e41a1c\",\"line_dash\":[6],\"line_width\":5,\"x\":{\"field\":\"x\"},\"y\":{\"field\":\"y\"}},\"id\":\"adcdbe35-14eb-405a-ab71-5d810c3c1d51\",\"type\":\"Line\"},{\"attributes\":{\"source\":{\"id\":\"94ee8376-3827-4e8b-9c9c-0de765dc53e9\",\"type\":\"ColumnDataSource\"}},\"id\":\"ccd53892-e712-45c6-9b44-b7c880ae1a54\",\"type\":\"CDSView\"},{\"attributes\":{\"data_source\":{\"id\":\"f53bdb73-9e51-48c0-9339-7bed21f62e4a\",\"type\":\"ColumnDataSource\"},\"glyph\":{\"id\":\"adcdbe35-14eb-405a-ab71-5d810c3c1d51\",\"type\":\"Line\"},\"hover_glyph\":null,\"muted_glyph\":null,\"nonselection_glyph\":{\"id\":\"7a5ce1f1-b626-4706-9b02-c742d4fcb2f3\",\"type\":\"Line\"},\"selection_glyph\":null,\"view\":{\"id\":\"e05ce572-b056-47f6-9262-8e6b2096bbb0\",\"type\":\"CDSView\"}},\"id\":\"c190ae71-e619-42fc-b6a1-deaead7196a4\",\"type\":\"GlyphRenderer\"},{\"attributes\":{\"callback\":null,\"data\":{\"x\":{\"__ndarray__\":\"Jiqnf0G5lr+0/cFGrb6XvwJFSLcHHJe/idUIxaJekr8w5ctljfyBvxnLu3xAn3Y/zfBnxEFMmj/pQcCoRNyqP5nX/6OwN7Y/PDafxv+VwD8B6VGn8izHP8NMFWs8Ac8/uH1me7ob1D8/VvDbECPbP+GOgYZI1+I/JS1LKgn/6D8dA9PlpKLvPwfIhiRpTfM/QPEIE+vZ9j+gnuNIDGf6P1Gf5A6byP0/d2keG9zx/j9naQKg5bT6PwfqOY7EkPQ/YIqb6C397j8bFVF2pznmP6SOCnPtUd4/sGmtgRD91D+EPTd+8kHPPxibscPzLcc/3t5eZ30pwD/4ImWBMmqyP/w9LRbxY6M/9FqKXTtOlj9TM03TxXhxv6Yn5Rv1A6O/xS6y5sXesL+MOQWCyya2vxCKGDxtCbq/QyukuogIvb8wMVTNxUK8v/ySCc+24Li/Di5NrLSOtb/lW1LHwMCxv88GEnSx8qu/XcV/DcospL+m3tlyvG+bv6VlfhexrZO/nd8UfPFKjL+hv7FfpzyDv6w+afVN0ne/7c1+DLWgar+rKUmWDPJVv58gU0AihTg/CqmyWibkXz/DJc8OG9lrP25joYk4ZXM/rwUnZUVieD/Y2+eq2QB9P2A86kROk4A/E0GGWeJkgj//ySjdeQWEP5+jbMleeoU/NvBU1CG2hj8EA38t7L+HPzx7ySetvYg/ocJGliKyiT8eFB2U82+KP+ECln3Ty4o/x8YP12Keij+nvSOLfceJP5Dn+D3xaYg/NrnOddDbhj++WFeG6kaFP0mVLqJJwIM/\",\"dtype\":\"float64\",\"shape\":[75]},\"y\":{\"__ndarray__\":\"GhExyth1ND/Sv8nbtpRIP2vylNV0PVE/aTum7souWD/At0SJ8fVgPw3Iuahxymc/MSNhhJWvcD/bTfBN02d3P2zb5nxnaoA/CD5h5MAGhz8NmeH1TyaQP+zrCsc9p5Y/LbKd76fGnz/bLW5ISEmmPww9YvTcQq8/JV2OstnstT8Er5Y7M8G+P0c+r3jqkcU/5h99k6ZBzj88bCIzFzjVP4enV8oyxN0//yH99nXg5D8qOpLLf0jtP5kqGJXUifQ/c9cS8kHP/D+/DpwzojQEQIEmwoanVwxA4lgXt9HgE0BSSZ2AJuIbQAMJih9jjiNA5q4l5INuK0AwTKYKRj0zQNv5fmq8/DpAaCJseHrtQkB/+zpwzoxKQM3MzMzMeFJAZmZmZmZqWEAAAAAAAFxeQM3MzMzMJmJAmpmZmZkfZUBmZmZmZhhoQDMzMzMzEWtAAAAAAAAKbkBmZmZmZoFwQM3MzMzM/XFAMzMzMzN6c0CamZmZmfZ0QAAAAAAAc3ZAZmZmZmbvd0DNzMzMzGt5QDMzMzMz6HpAmpmZmZlkfEAAAAAAAOF9QGZmZmZmXX9AZmZmZuZsgECamZmZGSuBQM3MzMxM6YFAAAAAAICngkAzMzMzs2WDQGZmZmbmI4RAmpmZmRnihEDNzMzMTKCFQAAAAACAXoZAMzMzM7Mch0BmZmZm5tqHQJqZmZkZmYhAzczMzExXiUAAAAAAgBWKQDMzMzOz04pAZmZmZuaRi0CamZmZGVCMQM3MzMxMDo1AAAAAAIDMjUAzMzMzs4qOQGZmZmbmSI9A\",\"dtype\":\"float64\",\"shape\":[75]}},\"selected\":{\"id\":\"65c31c8c-445e-4021-a826-9de7b89c8a0e\",\"type\":\"Selection\"},\"selection_policy\":{\"id\":\"d95f8769-7e9a-4cb6-bc91-dbccb8699751\",\"type\":\"UnionRenderers\"}},\"id\":\"94ee8376-3827-4e8b-9c9c-0de765dc53e9\",\"type\":\"ColumnDataSource\"},{\"attributes\":{\"line_alpha\":0.6,\"line_color\":\"#e41a1c\",\"line_dash\":[6],\"line_width\":5,\"x\":{\"field\":\"x\"},\"y\":{\"field\":\"y\"}},\"id\":\"77b1379b-507d-4a0c-aea3-cd309b4c5e63\",\"type\":\"Line\"},{\"attributes\":{},\"id\":\"8e3bed1a-1dc5-43eb-89aa-c315c759b3b8\",\"type\":\"LogScale\"},{\"attributes\":{\"line_alpha\":0.6,\"line_color\":\"#984ea3\",\"line_width\":3,\"x\":{\"field\":\"x\"},\"y\":{\"field\":\"y\"}},\"id\":\"48840feb-5cc8-4a16-89f5-0916e75a0b34\",\"type\":\"Line\"},{\"attributes\":{\"callback\":null,\"end\":0.01,\"start\":1020},\"id\":\"1df0669c-d1c0-4dd9-9db4-b97e89e65840\",\"type\":\"Range1d\"},{\"attributes\":{\"callback\":null,\"data\":{\"x\":{\"__ndarray__\":\"2YUhnXrXkL+dys8xE1GRv0Oi2CM3N5C/Wrwo3wtKh78q35Befclpv+RVzHsyPIM/nicnpWN4mz/gJe8ey3upPwJ0WBSINLQ/KR7dKZlzvT+0vtQRuFzEP/XaS57bGcs/n06B5WuD0T/cZX3SoqHXP1tXcU/8feA/XadwiOEY5j/MGbx1H1zsP4MhvIeVm/E/6SIq+X1E9T+6kWi4txH5P+/UEuEVt/w/x//Tw4Zd/j/RhrKmaLv6P0vEAC5tffQ/sOz+iJHr7T8uSjv769HkP/9WeLiZ4ds/M/gc1FUs0z/5pmV7X6LNP2ula4GY38Y/2iWBONV7wD8IPOTxqoqzP/RV1lyMhqU/n9wAfWzcmD99bamHULNkvx+bjkdDoqK/3Kj/wN1Ysb8+oRu9wWe3v0FY17LG6ru/GfaD0+VBv78t0mERBSu+v0eY/RWNELq/jukOBPYItr80RXZhSKexv1IWZQaPDqu/3x5yncAgo7/C6cxZeauZvzZ6/ZUKNJK/xQ03YXTZib91I+6hpE+Bv4QjnKRmAHW/VMXlE5GcZr/TqABTn09Qv17z2vHzAEM/8ZyJR2uOYD+c+9m2SXhrP2K8PFZWvnI/TFqc6dFYdz9lRaae8ph7P7owctCObX8/Ny1boCJkgT8SVX+SsOeCP2ni6O15RYQ/GJzafNBxhT+Sc5UAkm+GP7jx73+8YYc/Q3w3SE5HiD99Mw5OdPiIP+MGtimiT4k/b0OZAb8qiT9sSzaBlmyIP4cyY/CBNIc/YHNf5QjNhT9l3BLJMF+EP9y5UeB0/YI/\",\"dtype\":\"float64\",\"shape\":[75]},\"y\":{\"__ndarray__\":\"S/O/Q+51ND/Sv8nbtpRIP2vylNV0PVE/aTum7souWD/At0SJ8fVgPw3Iuahxymc/MSNhhJWvcD/bTfBN02d3P2zb5nxnaoA/CD5h5MAGhz8NmeH1TyaQP+zrCsc9p5Y/LbKd76fGnz/bLW5ISEmmPww9YvTcQq8/JV2OstnstT8Er5Y7M8G+P0c+r3jqkcU/5h99k6ZBzj88bCIzFzjVP4enV8oyxN0//yH99nXg5D8qOpLLf0jtP5kqGJXUifQ/c9cS8kHP/D+/DpwzojQEQIEmwoanVwxA4lgXt9HgE0BSSZ2AJuIbQAMJih9jjiNA5q4l5INuK0AwTKYKRj0zQNv5fmq8/DpAaCJseHrtQkB/+zpwzoxKQM3MzMzMeFJAZmZmZmZqWEAAAAAAAFxeQM3MzMzMJmJAmpmZmZkfZUBmZmZmZhhoQDMzMzMzEWtAAAAAAAAKbkBmZmZmZoFwQM3MzMzM/XFAMzMzMzN6c0CamZmZmfZ0QAAAAAAAc3ZAZmZmZmbvd0DNzMzMzGt5QDMzMzMz6HpAmpmZmZlkfEAAAAAAAOF9QGZmZmZmXX9AZmZmZuZsgECamZmZGSuBQM3MzMxM6YFAAAAAAICngkAzMzMzs2WDQGZmZmbmI4RAmpmZmRnihEDNzMzMTKCFQAAAAACAXoZAMzMzM7Mch0BmZmZm5tqHQJqZmZkZmYhAzczMzExXiUAAAAAAgBWKQDMzMzOz04pAZmZmZuaRi0CamZmZGVCMQM3MzMxMDo1AAAAAAIDMjUAzMzMzs4qOQGZmZmbmSI9A\",\"dtype\":\"float64\",\"shape\":[75]}},\"selected\":{\"id\":\"1a07de29-c55b-4769-bbea-1d06e334a736\",\"type\":\"Selection\"},\"selection_policy\":{\"id\":\"855e202d-b9d4-48f7-9525-1a4d63fcac57\",\"type\":\"UnionRenderers\"}},\"id\":\"f53bdb73-9e51-48c0-9339-7bed21f62e4a\",\"type\":\"ColumnDataSource\"},{\"attributes\":{\"source\":{\"id\":\"c0daaf9a-da7f-4b19-b945-f1dd484e3ef9\",\"type\":\"ColumnDataSource\"}},\"id\":\"33a5caf0-037f-49f2-8f10-e9773c2d7062\",\"type\":\"CDSView\"},{\"attributes\":{\"plot\":{\"id\":\"c4734d1a-ae83-4e45-9853-5ccd38a416df\",\"subtype\":\"Figure\",\"type\":\"Plot\"},\"ticker\":{\"id\":\"32bd0734-794a-44ce-8284-f2bdbebe3eaf\",\"type\":\"BasicTicker\"}},\"id\":\"123b1e55-aaf3-4e1c-9f3e-64d6a1a3683d\",\"type\":\"Grid\"},{\"attributes\":{},\"id\":\"b3e35d45-e9c3-44d9-97f3-04dd34df9048\",\"type\":\"BasicTicker\"},{\"attributes\":{\"fill_alpha\":{\"value\":0.1},\"fill_color\":{\"value\":\"#1f77b4\"},\"line_alpha\":{\"value\":0.1},\"line_color\":{\"value\":\"#1f77b4\"},\"x\":{\"field\":\"x\"},\"y\":{\"field\":\"y\"}},\"id\":\"5b07ce86-3721-4f71-9ec5-9e0c7e75a7c2\",\"type\":\"Circle\"},{\"attributes\":{\"fill_alpha\":{\"value\":0.7},\"fill_color\":{\"value\":\"#4daf4a\"},\"line_alpha\":{\"value\":0.7},\"line_color\":{\"value\":\"#4daf4a\"},\"x\":{\"field\":\"x\"},\"y\":{\"field\":\"y\"}},\"id\":\"460750fd-b41d-4e28-bbb9-9640f62d18d8\",\"type\":\"Circle\"},{\"attributes\":{\"dimension\":1,\"plot\":{\"id\":\"c4734d1a-ae83-4e45-9853-5ccd38a416df\",\"subtype\":\"Figure\",\"type\":\"Plot\"},\"ticker\":{\"id\":\"b3e35d45-e9c3-44d9-97f3-04dd34df9048\",\"type\":\"BasicTicker\"}},\"id\":\"87f11fc9-22cb-40f7-8962-18e3d60f0b1c\",\"type\":\"Grid\"},{\"attributes\":{\"data_source\":{\"id\":\"9ebd0ea1-8817-4bf6-aee0-3d7862f98942\",\"type\":\"ColumnDataSource\"},\"glyph\":{\"id\":\"460750fd-b41d-4e28-bbb9-9640f62d18d8\",\"type\":\"Circle\"},\"hover_glyph\":null,\"muted_glyph\":null,\"nonselection_glyph\":{\"id\":\"eb1ea18d-4c13-4648-8518-a7223bfd2b24\",\"type\":\"Circle\"},\"selection_glyph\":null,\"view\":{\"id\":\"18f53485-7cbd-4afa-b502-000122fbb9cb\",\"type\":\"CDSView\"}},\"id\":\"c3f4cf4d-c563-4121-97fb-effab22a1e87\",\"type\":\"GlyphRenderer\"},{\"attributes\":{\"axis_label\":\"pressure [mb]\",\"formatter\":{\"id\":\"56749813-c6cc-452f-89b1-304c1e6e728e\",\"type\":\"BasicTickFormatter\"},\"plot\":{\"id\":\"c4734d1a-ae83-4e45-9853-5ccd38a416df\",\"subtype\":\"Figure\",\"type\":\"Plot\"},\"ticker\":{\"id\":\"b3e35d45-e9c3-44d9-97f3-04dd34df9048\",\"type\":\"BasicTicker\"}},\"id\":\"fa7255bd-ebd6-4cd2-8531-3e2335e19c9d\",\"type\":\"LinearAxis\"},{\"attributes\":{\"data_source\":{\"id\":\"0e3b2413-46d1-4b09-8754-c86d5582558e\",\"type\":\"ColumnDataSource\"},\"glyph\":{\"id\":\"8f04e420-4c66-44af-8554-d65fc18c192b\",\"type\":\"Line\"},\"hover_glyph\":null,\"muted_glyph\":null,\"nonselection_glyph\":{\"id\":\"7f78f2f7-b11e-41da-a2be-6958215fdf18\",\"type\":\"Line\"},\"selection_glyph\":null,\"view\":{\"id\":\"9f4728a6-fc0a-40b4-a09a-3de3ee31e3b7\",\"type\":\"CDSView\"}},\"id\":\"139abd30-a7a0-4961-81f4-10efc4f60125\",\"type\":\"GlyphRenderer\"},{\"attributes\":{\"source\":{\"id\":\"028f6db6-60c0-4b5f-a3d3-a18c26a2f6cc\",\"type\":\"ColumnDataSource\"}},\"id\":\"5b4f6a05-5b22-4f69-bfb0-2f279e8ddf37\",\"type\":\"CDSView\"},{\"attributes\":{\"source\":{\"id\":\"0e3b2413-46d1-4b09-8754-c86d5582558e\",\"type\":\"ColumnDataSource\"}},\"id\":\"9f4728a6-fc0a-40b4-a09a-3de3ee31e3b7\",\"type\":\"CDSView\"},{\"attributes\":{\"line_alpha\":0.1,\"line_color\":\"#1f77b4\",\"line_width\":1.5,\"x\":{\"field\":\"x\"},\"y\":{\"field\":\"y\"}},\"id\":\"7f78f2f7-b11e-41da-a2be-6958215fdf18\",\"type\":\"Line\"},{\"attributes\":{\"fill_alpha\":{\"value\":0.1},\"fill_color\":{\"value\":\"#1f77b4\"},\"line_alpha\":{\"value\":0.1},\"line_color\":{\"value\":\"#1f77b4\"},\"x\":{\"field\":\"x\"},\"y\":{\"field\":\"y\"}},\"id\":\"eb1ea18d-4c13-4648-8518-a7223bfd2b24\",\"type\":\"Circle\"},{\"attributes\":{},\"id\":\"f82e70ad-9df2-495a-8379-7ef1bcfb9476\",\"type\":\"ResetTool\"},{\"attributes\":{\"source\":{\"id\":\"8b9a3d31-95b7-4318-8790-4061b0d382c5\",\"type\":\"ColumnDataSource\"}},\"id\":\"f16c0388-ae52-43f3-bf99-3aade330729b\",\"type\":\"CDSView\"},{\"attributes\":{\"data_source\":{\"id\":\"1d937046-2567-480e-ab4e-2c3bfb55198a\",\"type\":\"ColumnDataSource\"},\"glyph\":{\"id\":\"8ee1fa26-5cfa-4990-ba91-e393b6ea2a3c\",\"type\":\"Circle\"},\"hover_glyph\":null,\"muted_glyph\":null,\"nonselection_glyph\":{\"id\":\"5b07ce86-3721-4f71-9ec5-9e0c7e75a7c2\",\"type\":\"Circle\"},\"selection_glyph\":null,\"view\":{\"id\":\"c6a0f048-660a-4feb-8d25-fc4873874b64\",\"type\":\"CDSView\"}},\"id\":\"892b97ff-109a-4a70-a583-8f4ba69d4af6\",\"type\":\"GlyphRenderer\"},{\"attributes\":{},\"id\":\"51cb1ada-9141-4e47-b20b-d9cb5bf50aa9\",\"type\":\"HelpTool\"},{\"attributes\":{\"source\":{\"id\":\"e9db5697-caef-47fa-bff2-1aba3fc48dec\",\"type\":\"ColumnDataSource\"}},\"id\":\"dbcce585-f902-480f-919e-119cfadd7642\",\"type\":\"CDSView\"},{\"attributes\":{\"callback\":null,\"data\":{\"x\":{\"__ndarray__\":\"Jiqnf0G5lr+0/cFGrb6XvwJFSLcHHJe/idUIxaJekr8w5ctljfyBvxnLu3xAn3Y/zfBnxEFMmj/pQcCoRNyqP5nX/6OwN7Y/PDafxv+VwD8B6VGn8izHP8NMFWs8Ac8/uH1me7ob1D8/VvDbECPbP+GOgYZI1+I/JS1LKgn/6D8dA9PlpKLvPwfIhiRpTfM/QPEIE+vZ9j+gnuNIDGf6P1Gf5A6byP0/d2keG9zx/j9naQKg5bT6PwfqOY7EkPQ/YIqb6C397j8bFVF2pznmP6SOCnPtUd4/sGmtgRD91D+EPTd+8kHPPxibscPzLcc/3t5eZ30pwD/4ImWBMmqyP/w9LRbxY6M/9FqKXTtOlj9TM03TxXhxv6Yn5Rv1A6O/xS6y5sXesL+MOQWCyya2vxCKGDxtCbq/QyukuogIvb8wMVTNxUK8v/ySCc+24Li/Di5NrLSOtb/lW1LHwMCxv88GEnSx8qu/XcV/DcospL+m3tlyvG+bv6VlfhexrZO/nd8UfPFKjL+hv7FfpzyDv6w+afVN0ne/7c1+DLWgar+rKUmWDPJVv58gU0AihTg/CqmyWibkXz/DJc8OG9lrP25joYk4ZXM/rwUnZUVieD/Y2+eq2QB9P2A86kROk4A/E0GGWeJkgj//ySjdeQWEP5+jbMleeoU/NvBU1CG2hj8EA38t7L+HPzx7ySetvYg/ocJGliKyiT8eFB2U82+KP+ECln3Ty4o/x8YP12Keij+nvSOLfceJP5Dn+D3xaYg/NrnOddDbhj++WFeG6kaFP0mVLqJJwIM/\",\"dtype\":\"float64\",\"shape\":[75]},\"y\":{\"__ndarray__\":\"GhExyth1ND/Sv8nbtpRIP2vylNV0PVE/aTum7souWD/At0SJ8fVgPw3Iuahxymc/MSNhhJWvcD/bTfBN02d3P2zb5nxnaoA/CD5h5MAGhz8NmeH1TyaQP+zrCsc9p5Y/LbKd76fGnz/bLW5ISEmmPww9YvTcQq8/JV2OstnstT8Er5Y7M8G+P0c+r3jqkcU/5h99k6ZBzj88bCIzFzjVP4enV8oyxN0//yH99nXg5D8qOpLLf0jtP5kqGJXUifQ/c9cS8kHP/D+/DpwzojQEQIEmwoanVwxA4lgXt9HgE0BSSZ2AJuIbQAMJih9jjiNA5q4l5INuK0AwTKYKRj0zQNv5fmq8/DpAaCJseHrtQkB/+zpwzoxKQM3MzMzMeFJAZmZmZmZqWEAAAAAAAFxeQM3MzMzMJmJAmpmZmZkfZUBmZmZmZhhoQDMzMzMzEWtAAAAAAAAKbkBmZmZmZoFwQM3MzMzM/XFAMzMzMzN6c0CamZmZmfZ0QAAAAAAAc3ZAZmZmZmbvd0DNzMzMzGt5QDMzMzMz6HpAmpmZmZlkfEAAAAAAAOF9QGZmZmZmXX9AZmZmZuZsgECamZmZGSuBQM3MzMxM6YFAAAAAAICngkAzMzMzs2WDQGZmZmbmI4RAmpmZmRnihEDNzMzMTKCFQAAAAACAXoZAMzMzM7Mch0BmZmZm5tqHQJqZmZkZmYhAzczMzExXiUAAAAAAgBWKQDMzMzOz04pAZmZmZuaRi0CamZmZGVCMQM3MzMxMDo1AAAAAAIDMjUAzMzMzs4qOQGZmZmbmSI9A\",\"dtype\":\"float64\",\"shape\":[75]}},\"selected\":{\"id\":\"37d3a0ec-ad8f-4574-a7b7-51aa5bb6cf79\",\"type\":\"Selection\"},\"selection_policy\":{\"id\":\"cdab34e8-6418-43dc-a464-a770eea02a86\",\"type\":\"UnionRenderers\"}},\"id\":\"c0daaf9a-da7f-4b19-b945-f1dd484e3ef9\",\"type\":\"ColumnDataSource\"},{\"attributes\":{\"callback\":null,\"end\":0.01,\"start\":1020},\"id\":\"0567e701-fea1-4889-8e2c-dca8aad36c0a\",\"type\":\"Range1d\"},{\"attributes\":{\"line_alpha\":0.1,\"line_color\":\"#1f77b4\",\"line_dash\":[6],\"line_width\":5,\"x\":{\"field\":\"x\"},\"y\":{\"field\":\"y\"}},\"id\":\"acf2c8ec-8e31-415a-b57d-96803caac0f4\",\"type\":\"Line\"},{\"attributes\":{\"callback\":null,\"data\":{\"x\":{\"__ndarray__\":\"K9uoys4Nnb/WnzQ8DJmev18BvG31iJ6/SveMp5K/mb/tmTfkJVOPv69Uzz6hojs/O4m8cN1Qlz8myujEQemqP/ew59DBMbc/3VBjCCGcwT8ly4tET+fIP8MNOhkDyNA/kUnClR7T1T/IgwT3yXLdP+/6s7z+ZuQ/Kw0EGs/06j9qtGZ1vPPwPyllCLYAg/Q/Mz/tpkoK+D+N/6eHDXv7P0RXfQlwtf4/jiJrDaV2/z9+RW3RuIb6PwB7ljFP+PM/OWEEhSic7T85KB+KG7rkP6Tg58d4N9s/xj/gP+Ux0j+ThAovPfHKPzLVxOnBMMQ/5W/Oyu6wvD9IvE6A57KwP2P3znyPeaI/hpU1qgZzlz9cNU1svglOv2H+hmCH95+/QqHLv4ktrb+bv7v1l2azvyMjnwuuL7e/pb+XwoNmur8RMQz1R1q6v0QreztXzre/s3DYBLgjtb/S0vGlq8yxv4RL24BOj6y/d6gi7EblpL+VE9aOLqucv6yXLfmitJS/GgjenXAHjr9hKHFncKWEv4Z8az9U/Hm/CLdCwrrkbb+Usqr9VBdbv+rnFYU+OiE/aVF5HWwPXT923YvKrv1qP6/UXde7OHM/r7PTJj15eD/LUzV87Ut9P4NMUlva0IA/rrC/ufa2gj9L7skmbWiEPyYcA33l64U/Eg6V/fU1hz/xLHY4EEuIP+znJMb4UYk/Q1qqpZVPij+1ZsFKWRSLPxuEQs8pcos/xG96f9I8iz+fxFxcJ1GKP+Nip4D91Yg/mkBYYKQkhz+mVq6j6W2FP38j3puWyIM/\",\"dtype\":\"float64\",\"shape\":[75]},\"y\":{\"__ndarray__\":\"GhExyth1ND/Sv8nbtpRIP2vylNV0PVE/aTum7souWD/At0SJ8fVgPw3Iuahxymc/MSNhhJWvcD/bTfBN02d3P2zb5nxnaoA/CD5h5MAGhz8NmeH1TyaQP+zrCsc9p5Y/LbKd76fGnz/bLW5ISEmmPww9YvTcQq8/JV2OstnstT8Er5Y7M8G+P0c+r3jqkcU/5h99k6ZBzj88bCIzFzjVP4enV8oyxN0//yH99nXg5D8qOpLLf0jtP5kqGJXUifQ/c9cS8kHP/D+/DpwzojQEQIEmwoanVwxA4lgXt9HgE0BSSZ2AJuIbQAMJih9jjiNA5q4l5INuK0AwTKYKRj0zQNv5fmq8/DpAaCJseHrtQkB/+zpwzoxKQM3MzMzMeFJAZmZmZmZqWEAAAAAAAFxeQM3MzMzMJmJAmpmZmZkfZUBmZmZmZhhoQDMzMzMzEWtAAAAAAAAKbkBmZmZmZoFwQM3MzMzM/XFAMzMzMzN6c0CamZmZmfZ0QAAAAAAAc3ZAZmZmZmbvd0DNzMzMzGt5QDMzMzMz6HpAmpmZmZlkfEAAAAAAAOF9QGZmZmZmXX9AZmZmZuZsgECamZmZGSuBQM3MzMxM6YFAAAAAAICngkAzMzMzs2WDQGZmZmbmI4RAmpmZmRnihEDNzMzMTKCFQAAAAACAXoZAMzMzM7Mch0BmZmZm5tqHQJqZmZkZmYhAzczMzExXiUAAAAAAgBWKQDMzMzOz04pAZmZmZuaRi0CamZmZGVCMQM3MzMxMDo1AAAAAAIDMjUAzMzMzs4qOQGZmZmbmSI9A\",\"dtype\":\"float64\",\"shape\":[75]}},\"selected\":{\"id\":\"d0560664-7bdc-4b5e-b760-c71831867b65\",\"type\":\"Selection\"},\"selection_policy\":{\"id\":\"23c52d89-52ec-4dcd-913c-4af97c0143cc\",\"type\":\"UnionRenderers\"}},\"id\":\"0e3b2413-46d1-4b09-8754-c86d5582558e\",\"type\":\"ColumnDataSource\"},{\"attributes\":{},\"id\":\"d38550cd-6b2a-4c9c-be6a-599b3e850aac\",\"type\":\"SaveTool\"},{\"attributes\":{\"fill_alpha\":{\"value\":0.7},\"fill_color\":{\"value\":\"#984ea3\"},\"line_alpha\":{\"value\":0.7},\"line_color\":{\"value\":\"#984ea3\"},\"x\":{\"field\":\"x\"},\"y\":{\"field\":\"y\"}},\"id\":\"1741280e-bed4-4788-b247-10507e4d2180\",\"type\":\"Square\"},{\"attributes\":{\"overlay\":{\"id\":\"6e1afdfd-bfa1-4c41-ad78-dc48fdd8152a\",\"type\":\"BoxAnnotation\"}},\"id\":\"5b562e73-fe2c-4bb8-87f4-7009ad0b98d5\",\"type\":\"BoxZoomTool\"},{\"attributes\":{\"callback\":null,\"data\":{\"x\":{\"__ndarray__\":\"Jiqnf0G5lr+0/cFGrb6XvwJFSLcHHJe/idUIxaJekr8w5ctljfyBvxnLu3xAn3Y/zfBnxEFMmj/pQcCoRNyqP5nX/6OwN7Y/PDafxv+VwD8B6VGn8izHP8NMFWs8Ac8/uH1me7ob1D8/VvDbECPbP+GOgYZI1+I/JS1LKgn/6D8dA9PlpKLvPwfIhiRpTfM/QPEIE+vZ9j+gnuNIDGf6P1Gf5A6byP0/d2keG9zx/j9naQKg5bT6PwfqOY7EkPQ/YIqb6C397j8bFVF2pznmP6SOCnPtUd4/sGmtgRD91D+EPTd+8kHPPxibscPzLcc/3t5eZ30pwD/4ImWBMmqyP/w9LRbxY6M/9FqKXTtOlj9TM03TxXhxv6Yn5Rv1A6O/xS6y5sXesL+MOQWCyya2vxCKGDxtCbq/QyukuogIvb8wMVTNxUK8v/ySCc+24Li/Di5NrLSOtb/lW1LHwMCxv88GEnSx8qu/XcV/DcospL+m3tlyvG+bv6VlfhexrZO/nd8UfPFKjL+hv7FfpzyDv6w+afVN0ne/7c1+DLWgar+rKUmWDPJVv58gU0AihTg/CqmyWibkXz/DJc8OG9lrP25joYk4ZXM/rwUnZUVieD/Y2+eq2QB9P2A86kROk4A/E0GGWeJkgj//ySjdeQWEP5+jbMleeoU/NvBU1CG2hj8EA38t7L+HPzx7ySetvYg/ocJGliKyiT8eFB2U82+KP+ECln3Ty4o/x8YP12Keij+nvSOLfceJP5Dn+D3xaYg/NrnOddDbhj++WFeG6kaFP0mVLqJJwIM/\",\"dtype\":\"float64\",\"shape\":[75]},\"y\":{\"__ndarray__\":\"GhExyth1ND/Sv8nbtpRIP2vylNV0PVE/aTum7souWD/At0SJ8fVgPw3Iuahxymc/MSNhhJWvcD/bTfBN02d3P2zb5nxnaoA/CD5h5MAGhz8NmeH1TyaQP+zrCsc9p5Y/LbKd76fGnz/bLW5ISEmmPww9YvTcQq8/JV2OstnstT8Er5Y7M8G+P0c+r3jqkcU/5h99k6ZBzj88bCIzFzjVP4enV8oyxN0//yH99nXg5D8qOpLLf0jtP5kqGJXUifQ/c9cS8kHP/D+/DpwzojQEQIEmwoanVwxA4lgXt9HgE0BSSZ2AJuIbQAMJih9jjiNA5q4l5INuK0AwTKYKRj0zQNv5fmq8/DpAaCJseHrtQkB/+zpwzoxKQM3MzMzMeFJAZmZmZmZqWEAAAAAAAFxeQM3MzMzMJmJAmpmZmZkfZUBmZmZmZhhoQDMzMzMzEWtAAAAAAAAKbkBmZmZmZoFwQM3MzMzM/XFAMzMzMzN6c0CamZmZmfZ0QAAAAAAAc3ZAZmZmZmbvd0DNzMzMzGt5QDMzMzMz6HpAmpmZmZlkfEAAAAAAAOF9QGZmZmZmXX9AZmZmZuZsgECamZmZGSuBQM3MzMxM6YFAAAAAAICngkAzMzMzs2WDQGZmZmbmI4RAmpmZmRnihEDNzMzMTKCFQAAAAACAXoZAMzMzM7Mch0BmZmZm5tqHQJqZmZkZmYhAzczMzExXiUAAAAAAgBWKQDMzMzOz04pAZmZmZuaRi0CamZmZGVCMQM3MzMxMDo1AAAAAAIDMjUAzMzMzs4qOQGZmZmbmSI9A\",\"dtype\":\"float64\",\"shape\":[75]}},\"selected\":{\"id\":\"fa098bc3-b481-461a-9f97-45decd564736\",\"type\":\"Selection\"},\"selection_policy\":{\"id\":\"cd125c49-6054-42e8-abc1-88a6f8918fe9\",\"type\":\"UnionRenderers\"}},\"id\":\"e9db5697-caef-47fa-bff2-1aba3fc48dec\",\"type\":\"ColumnDataSource\"},{\"attributes\":{\"children\":[{\"id\":\"c4734d1a-ae83-4e45-9853-5ccd38a416df\",\"subtype\":\"Figure\",\"type\":\"Plot\"},{\"id\":\"660200b9-4ae7-48ee-84a8-aa588e5ad57f\",\"subtype\":\"Figure\",\"type\":\"Plot\"}]},\"id\":\"5f143971-1695-4e3d-bc4a-704a01e93848\",\"type\":\"Row\"},{\"attributes\":{},\"id\":\"5b4ae8c3-d1b7-48c0-81c4-3f520c941523\",\"type\":\"WheelZoomTool\"},{\"attributes\":{},\"id\":\"c19827d7-dc64-4a31-8785-2eaa145dbff5\",\"type\":\"PanTool\"},{\"attributes\":{\"source\":{\"id\":\"9ebd0ea1-8817-4bf6-aee0-3d7862f98942\",\"type\":\"ColumnDataSource\"}},\"id\":\"18f53485-7cbd-4afa-b502-000122fbb9cb\",\"type\":\"CDSView\"},{\"attributes\":{\"callback\":null,\"data\":{\"x\":{\"__ndarray__\":\"2YUhnXrXkL+dys8xE1GRv0Oi2CM3N5C/Wrwo3wtKh78q35Befclpv+RVzHsyPIM/nicnpWN4mz/gJe8ey3upPwJ0WBSINLQ/KR7dKZlzvT+0vtQRuFzEP/XaS57bGcs/n06B5WuD0T/cZX3SoqHXP1tXcU/8feA/XadwiOEY5j/MGbx1H1zsP4MhvIeVm/E/6SIq+X1E9T+6kWi4txH5P+/UEuEVt/w/x//Tw4Zd/j/RhrKmaLv6P0vEAC5tffQ/sOz+iJHr7T8uSjv769HkP/9WeLiZ4ds/M/gc1FUs0z/5pmV7X6LNP2ula4GY38Y/2iWBONV7wD8IPOTxqoqzP/RV1lyMhqU/n9wAfWzcmD99bamHULNkvx+bjkdDoqK/3Kj/wN1Ysb8+oRu9wWe3v0FY17LG6ru/GfaD0+VBv78t0mERBSu+v0eY/RWNELq/jukOBPYItr80RXZhSKexv1IWZQaPDqu/3x5yncAgo7/C6cxZeauZvzZ6/ZUKNJK/xQ03YXTZib91I+6hpE+Bv4QjnKRmAHW/VMXlE5GcZr/TqABTn09Qv17z2vHzAEM/8ZyJR2uOYD+c+9m2SXhrP2K8PFZWvnI/TFqc6dFYdz9lRaae8ph7P7owctCObX8/Ny1boCJkgT8SVX+SsOeCP2ni6O15RYQ/GJzafNBxhT+Sc5UAkm+GP7jx73+8YYc/Q3w3SE5HiD99Mw5OdPiIP+MGtimiT4k/b0OZAb8qiT9sSzaBlmyIP4cyY/CBNIc/YHNf5QjNhT9l3BLJMF+EP9y5UeB0/YI/\",\"dtype\":\"float64\",\"shape\":[75]},\"y\":{\"__ndarray__\":\"S/O/Q+51ND/Sv8nbtpRIP2vylNV0PVE/aTum7souWD/At0SJ8fVgPw3Iuahxymc/MSNhhJWvcD/bTfBN02d3P2zb5nxnaoA/CD5h5MAGhz8NmeH1TyaQP+zrCsc9p5Y/LbKd76fGnz/bLW5ISEmmPww9YvTcQq8/JV2OstnstT8Er5Y7M8G+P0c+r3jqkcU/5h99k6ZBzj88bCIzFzjVP4enV8oyxN0//yH99nXg5D8qOpLLf0jtP5kqGJXUifQ/c9cS8kHP/D+/DpwzojQEQIEmwoanVwxA4lgXt9HgE0BSSZ2AJuIbQAMJih9jjiNA5q4l5INuK0AwTKYKRj0zQNv5fmq8/DpAaCJseHrtQkB/+zpwzoxKQM3MzMzMeFJAZmZmZmZqWEAAAAAAAFxeQM3MzMzMJmJAmpmZmZkfZUBmZmZmZhhoQDMzMzMzEWtAAAAAAAAKbkBmZmZmZoFwQM3MzMzM/XFAMzMzMzN6c0CamZmZmfZ0QAAAAAAAc3ZAZmZmZmbvd0DNzMzMzGt5QDMzMzMz6HpAmpmZmZlkfEAAAAAAAOF9QGZmZmZmXX9AZmZmZuZsgECamZmZGSuBQM3MzMxM6YFAAAAAAICngkAzMzMzs2WDQGZmZmbmI4RAmpmZmRnihEDNzMzMTKCFQAAAAACAXoZAMzMzM7Mch0BmZmZm5tqHQJqZmZkZmYhAzczMzExXiUAAAAAAgBWKQDMzMzOz04pAZmZmZuaRi0CamZmZGVCMQM3MzMxMDo1AAAAAAIDMjUAzMzMzs4qOQGZmZmbmSI9A\",\"dtype\":\"float64\",\"shape\":[75]}},\"selected\":{\"id\":\"d0a9536f-95b6-40fc-b0d2-529773d3bf6d\",\"type\":\"Selection\"},\"selection_policy\":{\"id\":\"0bc05bc6-c756-421d-8cf5-7bb5218bc716\",\"type\":\"UnionRenderers\"}},\"id\":\"8b9a3d31-95b7-4318-8790-4061b0d382c5\",\"type\":\"ColumnDataSource\"},{\"attributes\":{\"fill_alpha\":{\"value\":0.1},\"fill_color\":{\"value\":\"#1f77b4\"},\"line_alpha\":{\"value\":0.1},\"line_color\":{\"value\":\"#1f77b4\"},\"x\":{\"field\":\"x\"},\"y\":{\"field\":\"y\"}},\"id\":\"ada6cc92-ff5b-4db3-81a6-18c29e9c9ae1\",\"type\":\"Square\"},{\"attributes\":{\"line_color\":\"#4daf4a\",\"line_width\":1.5,\"x\":{\"field\":\"x\"},\"y\":{\"field\":\"y\"}},\"id\":\"8f04e420-4c66-44af-8554-d65fc18c192b\",\"type\":\"Line\"},{\"attributes\":{\"data_source\":{\"id\":\"c0daaf9a-da7f-4b19-b945-f1dd484e3ef9\",\"type\":\"ColumnDataSource\"},\"glyph\":{\"id\":\"1741280e-bed4-4788-b247-10507e4d2180\",\"type\":\"Square\"},\"hover_glyph\":null,\"muted_glyph\":null,\"nonselection_glyph\":{\"id\":\"ada6cc92-ff5b-4db3-81a6-18c29e9c9ae1\",\"type\":\"Square\"},\"selection_glyph\":null,\"view\":{\"id\":\"33a5caf0-037f-49f2-8f10-e9773c2d7062\",\"type\":\"CDSView\"}},\"id\":\"4430a715-a6ae-41aa-9c06-5785aa18f76d\",\"type\":\"GlyphRenderer\"},{\"attributes\":{\"callback\":null,\"data\":{\"x\":{\"__ndarray__\":\"K9uoys4Nnb/WnzQ8DJmev18BvG31iJ6/SveMp5K/mb/tmTfkJVOPv69Uzz6hojs/O4m8cN1Qlz8myujEQemqP/ew59DBMbc/3VBjCCGcwT8ly4tET+fIP8MNOhkDyNA/kUnClR7T1T/IgwT3yXLdP+/6s7z+ZuQ/Kw0EGs/06j9qtGZ1vPPwPyllCLYAg/Q/Mz/tpkoK+D+N/6eHDXv7P0RXfQlwtf4/jiJrDaV2/z9+RW3RuIb6PwB7ljFP+PM/OWEEhSic7T85KB+KG7rkP6Tg58d4N9s/xj/gP+Ux0j+ThAovPfHKPzLVxOnBMMQ/5W/Oyu6wvD9IvE6A57KwP2P3znyPeaI/hpU1qgZzlz9cNU1svglOv2H+hmCH95+/QqHLv4ktrb+bv7v1l2azvyMjnwuuL7e/pb+XwoNmur8RMQz1R1q6v0QreztXzre/s3DYBLgjtb/S0vGlq8yxv4RL24BOj6y/d6gi7EblpL+VE9aOLqucv6yXLfmitJS/GgjenXAHjr9hKHFncKWEv4Z8az9U/Hm/CLdCwrrkbb+Usqr9VBdbv+rnFYU+OiE/aVF5HWwPXT923YvKrv1qP6/UXde7OHM/r7PTJj15eD/LUzV87Ut9P4NMUlva0IA/rrC/ufa2gj9L7skmbWiEPyYcA33l64U/Eg6V/fU1hz/xLHY4EEuIP+znJMb4UYk/Q1qqpZVPij+1ZsFKWRSLPxuEQs8pcos/xG96f9I8iz+fxFxcJ1GKP+Nip4D91Yg/mkBYYKQkhz+mVq6j6W2FP38j3puWyIM/\",\"dtype\":\"float64\",\"shape\":[75]},\"y\":{\"__ndarray__\":\"GhExyth1ND/Sv8nbtpRIP2vylNV0PVE/aTum7souWD/At0SJ8fVgPw3Iuahxymc/MSNhhJWvcD/bTfBN02d3P2zb5nxnaoA/CD5h5MAGhz8NmeH1TyaQP+zrCsc9p5Y/LbKd76fGnz/bLW5ISEmmPww9YvTcQq8/JV2OstnstT8Er5Y7M8G+P0c+r3jqkcU/5h99k6ZBzj88bCIzFzjVP4enV8oyxN0//yH99nXg5D8qOpLLf0jtP5kqGJXUifQ/c9cS8kHP/D+/DpwzojQEQIEmwoanVwxA4lgXt9HgE0BSSZ2AJuIbQAMJih9jjiNA5q4l5INuK0AwTKYKRj0zQNv5fmq8/DpAaCJseHrtQkB/+zpwzoxKQM3MzMzMeFJAZmZmZmZqWEAAAAAAAFxeQM3MzMzMJmJAmpmZmZkfZUBmZmZmZhhoQDMzMzMzEWtAAAAAAAAKbkBmZmZmZoFwQM3MzMzM/XFAMzMzMzN6c0CamZmZmfZ0QAAAAAAAc3ZAZmZmZmbvd0DNzMzMzGt5QDMzMzMz6HpAmpmZmZlkfEAAAAAAAOF9QGZmZmZmXX9AZmZmZuZsgECamZmZGSuBQM3MzMxM6YFAAAAAAICngkAzMzMzs2WDQGZmZmbmI4RAmpmZmRnihEDNzMzMTKCFQAAAAACAXoZAMzMzM7Mch0BmZmZm5tqHQJqZmZkZmYhAzczMzExXiUAAAAAAgBWKQDMzMzOz04pAZmZmZuaRi0CamZmZGVCMQM3MzMxMDo1AAAAAAIDMjUAzMzMzs4qOQGZmZmbmSI9A\",\"dtype\":\"float64\",\"shape\":[75]}},\"selected\":{\"id\":\"eaa3517e-6247-4c48-8761-df7ac596d5f3\",\"type\":\"Selection\"},\"selection_policy\":{\"id\":\"9213171f-2aaf-4db1-a971-85f4491e1a4d\",\"type\":\"UnionRenderers\"}},\"id\":\"1d937046-2567-480e-ab4e-2c3bfb55198a\",\"type\":\"ColumnDataSource\"},{\"attributes\":{\"children\":[{\"id\":\"5f143971-1695-4e3d-bc4a-704a01e93848\",\"type\":\"Row\"}]},\"id\":\"3f91e57d-1e4d-4433-b94f-7a6de8b23cd7\",\"type\":\"Column\"},{\"attributes\":{},\"id\":\"d0a9536f-95b6-40fc-b0d2-529773d3bf6d\",\"type\":\"Selection\"},{\"attributes\":{\"label\":{\"value\":\"CLIRAD `coolr_bands`\"},\"renderers\":[{\"id\":\"c190ae71-e619-42fc-b6a1-deaead7196a4\",\"type\":\"GlyphRenderer\"}]},\"id\":\"d6d81f1c-2c82-49e4-ab7d-625c331f902b\",\"type\":\"LegendItem\"},{\"attributes\":{},\"id\":\"7305c7bc-7689-41ef-bb8d-fa8c64bc4a9a\",\"type\":\"UnionRenderers\"},{\"attributes\":{\"label\":{\"value\":\"CRD\"},\"renderers\":[{\"id\":\"c3f4cf4d-c563-4121-97fb-effab22a1e87\",\"type\":\"GlyphRenderer\"},{\"id\":\"139abd30-a7a0-4961-81f4-10efc4f60125\",\"type\":\"GlyphRenderer\"}]},\"id\":\"e99dd405-8896-4cc5-83f7-bcb0b04d6750\",\"type\":\"LegendItem\"},{\"attributes\":{},\"id\":\"eaa3517e-6247-4c48-8761-df7ac596d5f3\",\"type\":\"Selection\"},{\"attributes\":{\"callback\":null,\"data\":{\"x\":{\"__ndarray__\":\"Jiqnf0G5lr+0/cFGrb6XvwJFSLcHHJe/idUIxaJekr8w5ctljfyBvxnLu3xAn3Y/zfBnxEFMmj/pQcCoRNyqP5nX/6OwN7Y/PDafxv+VwD8B6VGn8izHP8NMFWs8Ac8/uH1me7ob1D8/VvDbECPbP+GOgYZI1+I/JS1LKgn/6D8dA9PlpKLvPwfIhiRpTfM/QPEIE+vZ9j+gnuNIDGf6P1Gf5A6byP0/d2keG9zx/j9naQKg5bT6PwfqOY7EkPQ/YIqb6C397j8bFVF2pznmP6SOCnPtUd4/sGmtgRD91D+EPTd+8kHPPxibscPzLcc/3t5eZ30pwD/4ImWBMmqyP/w9LRbxY6M/9FqKXTtOlj9TM03TxXhxv6Yn5Rv1A6O/xS6y5sXesL+MOQWCyya2vxCKGDxtCbq/QyukuogIvb8wMVTNxUK8v/ySCc+24Li/Di5NrLSOtb/lW1LHwMCxv88GEnSx8qu/XcV/DcospL+m3tlyvG+bv6VlfhexrZO/nd8UfPFKjL+hv7FfpzyDv6w+afVN0ne/7c1+DLWgar+rKUmWDPJVv58gU0AihTg/CqmyWibkXz/DJc8OG9lrP25joYk4ZXM/rwUnZUVieD/Y2+eq2QB9P2A86kROk4A/E0GGWeJkgj//ySjdeQWEP5+jbMleeoU/NvBU1CG2hj8EA38t7L+HPzx7ySetvYg/ocJGliKyiT8eFB2U82+KP+ECln3Ty4o/x8YP12Keij+nvSOLfceJP5Dn+D3xaYg/NrnOddDbhj++WFeG6kaFP0mVLqJJwIM/\",\"dtype\":\"float64\",\"shape\":[75]},\"y\":{\"__ndarray__\":\"GhExyth1ND/Sv8nbtpRIP2vylNV0PVE/aTum7souWD/At0SJ8fVgPw3Iuahxymc/MSNhhJWvcD/bTfBN02d3P2zb5nxnaoA/CD5h5MAGhz8NmeH1TyaQP+zrCsc9p5Y/LbKd76fGnz/bLW5ISEmmPww9YvTcQq8/JV2OstnstT8Er5Y7M8G+P0c+r3jqkcU/5h99k6ZBzj88bCIzFzjVP4enV8oyxN0//yH99nXg5D8qOpLLf0jtP5kqGJXUifQ/c9cS8kHP/D+/DpwzojQEQIEmwoanVwxA4lgXt9HgE0BSSZ2AJuIbQAMJih9jjiNA5q4l5INuK0AwTKYKRj0zQNv5fmq8/DpAaCJseHrtQkB/+zpwzoxKQM3MzMzMeFJAZmZmZmZqWEAAAAAAAFxeQM3MzMzMJmJAmpmZmZkfZUBmZmZmZhhoQDMzMzMzEWtAAAAAAAAKbkBmZmZmZoFwQM3MzMzM/XFAMzMzMzN6c0CamZmZmfZ0QAAAAAAAc3ZAZmZmZmbvd0DNzMzMzGt5QDMzMzMz6HpAmpmZmZlkfEAAAAAAAOF9QGZmZmZmXX9AZmZmZuZsgECamZmZGSuBQM3MzMxM6YFAAAAAAICngkAzMzMzs2WDQGZmZmbmI4RAmpmZmRnihEDNzMzMTKCFQAAAAACAXoZAMzMzM7Mch0BmZmZm5tqHQJqZmZkZmYhAzczMzExXiUAAAAAAgBWKQDMzMzOz04pAZmZmZuaRi0CamZmZGVCMQM3MzMxMDo1AAAAAAIDMjUAzMzMzs4qOQGZmZmbmSI9A\",\"dtype\":\"float64\",\"shape\":[75]}},\"selected\":{\"id\":\"d627e0ec-9952-4b8a-80f8-c74466d50284\",\"type\":\"Selection\"},\"selection_policy\":{\"id\":\"7305c7bc-7689-41ef-bb8d-fa8c64bc4a9a\",\"type\":\"UnionRenderers\"}},\"id\":\"028f6db6-60c0-4b5f-a3d3-a18c26a2f6cc\",\"type\":\"ColumnDataSource\"},{\"attributes\":{\"label\":{\"value\":\"WGT igg=10 wgt_flux=2\"},\"renderers\":[{\"id\":\"4430a715-a6ae-41aa-9c06-5785aa18f76d\",\"type\":\"GlyphRenderer\"},{\"id\":\"0f969477-c04e-4fd7-a8f4-3e3bd985a8e1\",\"type\":\"GlyphRenderer\"}]},\"id\":\"3472a178-5567-48d7-abf1-3d0b8ca8c0e8\",\"type\":\"LegendItem\"},{\"attributes\":{\"plot\":null,\"text\":\"Linear pressure scale\"},\"id\":\"90f3098a-27ae-4599-9b28-0aa6733bb3af\",\"type\":\"Title\"},{\"attributes\":{},\"id\":\"0bc05bc6-c756-421d-8cf5-7bb5218bc716\",\"type\":\"UnionRenderers\"},{\"attributes\":{},\"id\":\"605394b6-a334-416a-92ba-c39d2d40d88b\",\"type\":\"BasicTickFormatter\"},{\"attributes\":{},\"id\":\"56749813-c6cc-452f-89b1-304c1e6e728e\",\"type\":\"BasicTickFormatter\"},{\"attributes\":{},\"id\":\"9213171f-2aaf-4db1-a971-85f4491e1a4d\",\"type\":\"UnionRenderers\"},{\"attributes\":{\"ticker\":null},\"id\":\"03ed1e8c-43c2-4a6a-a9b1-a59688da674e\",\"type\":\"LogTickFormatter\"},{\"attributes\":{\"data_source\":{\"id\":\"0eebadc4-bffe-426d-9729-191493abc5ac\",\"type\":\"ColumnDataSource\"},\"glyph\":{\"id\":\"3bad291c-b293-468e-b6f0-e333369d22be\",\"type\":\"Line\"},\"hover_glyph\":null,\"muted_glyph\":null,\"nonselection_glyph\":{\"id\":\"909457a4-44c4-4f1c-8b1e-dcc2d20f6c00\",\"type\":\"Line\"},\"selection_glyph\":null,\"view\":{\"id\":\"7dc10686-a086-4020-b15a-d685f24cb3b6\",\"type\":\"CDSView\"}},\"id\":\"1d6e7f8e-624c-4733-84a3-b6d45fb97c6a\",\"type\":\"GlyphRenderer\"},{\"attributes\":{\"callback\":null,\"end\":1.9873516527000001,\"start\":-0.1429849227},\"id\":\"2450a03e-361f-4a4c-8037-e097a7bc6b71\",\"type\":\"Range1d\"},{\"attributes\":{},\"id\":\"1a07de29-c55b-4769-bbea-1d06e334a736\",\"type\":\"Selection\"},{\"attributes\":{\"bottom_units\":\"screen\",\"fill_alpha\":{\"value\":0.5},\"fill_color\":{\"value\":\"lightgrey\"},\"left_units\":\"screen\",\"level\":\"overlay\",\"line_alpha\":{\"value\":1.0},\"line_color\":{\"value\":\"black\"},\"line_dash\":[4,4],\"line_width\":{\"value\":2},\"plot\":null,\"render_mode\":\"css\",\"right_units\":\"screen\",\"top_units\":\"screen\"},\"id\":\"6e1afdfd-bfa1-4c41-ad78-dc48fdd8152a\",\"type\":\"BoxAnnotation\"},{\"attributes\":{},\"id\":\"815e7c46-e99d-4f97-b9fe-c172a90c64d9\",\"type\":\"UnionRenderers\"},{\"attributes\":{\"below\":[{\"id\":\"5a2dccb6-7adc-4ba3-8648-2bdff6743039\",\"type\":\"LinearAxis\"}],\"left\":[{\"id\":\"66f11b9b-af18-48f0-b23f-936ceec5a1d1\",\"type\":\"LogAxis\"}],\"plot_height\":500,\"plot_width\":560,\"renderers\":[{\"id\":\"5a2dccb6-7adc-4ba3-8648-2bdff6743039\",\"type\":\"LinearAxis\"},{\"id\":\"04f11b14-0ed1-4d51-a98e-56262f8b98df\",\"type\":\"Grid\"},{\"id\":\"66f11b9b-af18-48f0-b23f-936ceec5a1d1\",\"type\":\"LogAxis\"},{\"id\":\"b9665ece-be9e-4aff-a3f1-1bb5c4eb5713\",\"type\":\"Grid\"},{\"id\":\"a68aa38d-38e7-4c39-b579-7fc3a5ffc9a4\",\"type\":\"BoxAnnotation\"},{\"id\":\"c190ae71-e619-42fc-b6a1-deaead7196a4\",\"type\":\"GlyphRenderer\"},{\"id\":\"c3f4cf4d-c563-4121-97fb-effab22a1e87\",\"type\":\"GlyphRenderer\"},{\"id\":\"139abd30-a7a0-4961-81f4-10efc4f60125\",\"type\":\"GlyphRenderer\"},{\"id\":\"4430a715-a6ae-41aa-9c06-5785aa18f76d\",\"type\":\"GlyphRenderer\"},{\"id\":\"0f969477-c04e-4fd7-a8f4-3e3bd985a8e1\",\"type\":\"GlyphRenderer\"},{\"id\":\"a093ab74-f312-49c8-8981-f9723077281c\",\"type\":\"Legend\"}],\"right\":[{\"id\":\"a093ab74-f312-49c8-8981-f9723077281c\",\"type\":\"Legend\"}],\"title\":{\"id\":\"082068e5-04f6-4d0a-831a-338b990c1c41\",\"type\":\"Title\"},\"toolbar\":{\"id\":\"384ee263-877b-49fd-a1ae-6dd56189e2b2\",\"type\":\"Toolbar\"},\"toolbar_location\":null,\"x_range\":{\"id\":\"2450a03e-361f-4a4c-8037-e097a7bc6b71\",\"type\":\"Range1d\"},\"x_scale\":{\"id\":\"cac7575c-3515-42eb-afbf-2ac573dcae7b\",\"type\":\"LinearScale\"},\"y_range\":{\"id\":\"1df0669c-d1c0-4dd9-9db4-b97e89e65840\",\"type\":\"Range1d\"},\"y_scale\":{\"id\":\"8e3bed1a-1dc5-43eb-89aa-c315c759b3b8\",\"type\":\"LogScale\"}},\"id\":\"660200b9-4ae7-48ee-84a8-aa588e5ad57f\",\"subtype\":\"Figure\",\"type\":\"Plot\"},{\"attributes\":{},\"id\":\"cac7575c-3515-42eb-afbf-2ac573dcae7b\",\"type\":\"LinearScale\"},{\"attributes\":{\"source\":{\"id\":\"1d937046-2567-480e-ab4e-2c3bfb55198a\",\"type\":\"ColumnDataSource\"}},\"id\":\"c6a0f048-660a-4feb-8d25-fc4873874b64\",\"type\":\"CDSView\"},{\"attributes\":{},\"id\":\"ea92b28c-be70-4e59-9233-90881f171d5c\",\"type\":\"BasicTickFormatter\"},{\"attributes\":{},\"id\":\"4568c44a-e60a-4661-ab7b-fbaef426b743\",\"type\":\"Selection\"},{\"attributes\":{\"callback\":null,\"data\":{\"x\":{\"__ndarray__\":\"K9uoys4Nnb/WnzQ8DJmev18BvG31iJ6/SveMp5K/mb/tmTfkJVOPv69Uzz6hojs/O4m8cN1Qlz8myujEQemqP/ew59DBMbc/3VBjCCGcwT8ly4tET+fIP8MNOhkDyNA/kUnClR7T1T/IgwT3yXLdP+/6s7z+ZuQ/Kw0EGs/06j9qtGZ1vPPwPyllCLYAg/Q/Mz/tpkoK+D+N/6eHDXv7P0RXfQlwtf4/jiJrDaV2/z9+RW3RuIb6PwB7ljFP+PM/OWEEhSic7T85KB+KG7rkP6Tg58d4N9s/xj/gP+Ux0j+ThAovPfHKPzLVxOnBMMQ/5W/Oyu6wvD9IvE6A57KwP2P3znyPeaI/hpU1qgZzlz9cNU1svglOv2H+hmCH95+/QqHLv4ktrb+bv7v1l2azvyMjnwuuL7e/pb+XwoNmur8RMQz1R1q6v0QreztXzre/s3DYBLgjtb/S0vGlq8yxv4RL24BOj6y/d6gi7EblpL+VE9aOLqucv6yXLfmitJS/GgjenXAHjr9hKHFncKWEv4Z8az9U/Hm/CLdCwrrkbb+Usqr9VBdbv+rnFYU+OiE/aVF5HWwPXT923YvKrv1qP6/UXde7OHM/r7PTJj15eD/LUzV87Ut9P4NMUlva0IA/rrC/ufa2gj9L7skmbWiEPyYcA33l64U/Eg6V/fU1hz/xLHY4EEuIP+znJMb4UYk/Q1qqpZVPij+1ZsFKWRSLPxuEQs8pcos/xG96f9I8iz+fxFxcJ1GKP+Nip4D91Yg/mkBYYKQkhz+mVq6j6W2FP38j3puWyIM/\",\"dtype\":\"float64\",\"shape\":[75]},\"y\":{\"__ndarray__\":\"GhExyth1ND/Sv8nbtpRIP2vylNV0PVE/aTum7souWD/At0SJ8fVgPw3Iuahxymc/MSNhhJWvcD/bTfBN02d3P2zb5nxnaoA/CD5h5MAGhz8NmeH1TyaQP+zrCsc9p5Y/LbKd76fGnz/bLW5ISEmmPww9YvTcQq8/JV2OstnstT8Er5Y7M8G+P0c+r3jqkcU/5h99k6ZBzj88bCIzFzjVP4enV8oyxN0//yH99nXg5D8qOpLLf0jtP5kqGJXUifQ/c9cS8kHP/D+/DpwzojQEQIEmwoanVwxA4lgXt9HgE0BSSZ2AJuIbQAMJih9jjiNA5q4l5INuK0AwTKYKRj0zQNv5fmq8/DpAaCJseHrtQkB/+zpwzoxKQM3MzMzMeFJAZmZmZmZqWEAAAAAAAFxeQM3MzMzMJmJAmpmZmZkfZUBmZmZmZhhoQDMzMzMzEWtAAAAAAAAKbkBmZmZmZoFwQM3MzMzM/XFAMzMzMzN6c0CamZmZmfZ0QAAAAAAAc3ZAZmZmZmbvd0DNzMzMzGt5QDMzMzMz6HpAmpmZmZlkfEAAAAAAAOF9QGZmZmZmXX9AZmZmZuZsgECamZmZGSuBQM3MzMxM6YFAAAAAAICngkAzMzMzs2WDQGZmZmbmI4RAmpmZmRnihEDNzMzMTKCFQAAAAACAXoZAMzMzM7Mch0BmZmZm5tqHQJqZmZkZmYhAzczMzExXiUAAAAAAgBWKQDMzMzOz04pAZmZmZuaRi0CamZmZGVCMQM3MzMxMDo1AAAAAAIDMjUAzMzMzs4qOQGZmZmbmSI9A\",\"dtype\":\"float64\",\"shape\":[75]}},\"selected\":{\"id\":\"4568c44a-e60a-4661-ab7b-fbaef426b743\",\"type\":\"Selection\"},\"selection_policy\":{\"id\":\"815e7c46-e99d-4f97-b9fe-c172a90c64d9\",\"type\":\"UnionRenderers\"}},\"id\":\"0eebadc4-bffe-426d-9729-191493abc5ac\",\"type\":\"ColumnDataSource\"},{\"attributes\":{},\"id\":\"fa098bc3-b481-461a-9f97-45decd564736\",\"type\":\"Selection\"},{\"attributes\":{\"axis_label\":\"cooling rate [K/day]\",\"formatter\":{\"id\":\"605394b6-a334-416a-92ba-c39d2d40d88b\",\"type\":\"BasicTickFormatter\"},\"plot\":{\"id\":\"c4734d1a-ae83-4e45-9853-5ccd38a416df\",\"subtype\":\"Figure\",\"type\":\"Plot\"},\"ticker\":{\"id\":\"32bd0734-794a-44ce-8284-f2bdbebe3eaf\",\"type\":\"BasicTicker\"}},\"id\":\"f6e9cc26-5f0f-48f4-ad23-e2f9e69f83e9\",\"type\":\"LinearAxis\"},{\"attributes\":{},\"id\":\"cd125c49-6054-42e8-abc1-88a6f8918fe9\",\"type\":\"UnionRenderers\"},{\"attributes\":{\"data_source\":{\"id\":\"8b9a3d31-95b7-4318-8790-4061b0d382c5\",\"type\":\"ColumnDataSource\"},\"glyph\":{\"id\":\"77b1379b-507d-4a0c-aea3-cd309b4c5e63\",\"type\":\"Line\"},\"hover_glyph\":null,\"muted_glyph\":null,\"nonselection_glyph\":{\"id\":\"acf2c8ec-8e31-415a-b57d-96803caac0f4\",\"type\":\"Line\"},\"selection_glyph\":null,\"view\":{\"id\":\"f16c0388-ae52-43f3-bf99-3aade330729b\",\"type\":\"CDSView\"}},\"id\":\"06c82d29-010c-41dd-ae96-0cf5be779c94\",\"type\":\"GlyphRenderer\"},{\"attributes\":{\"active_drag\":\"auto\",\"active_inspect\":\"auto\",\"active_scroll\":\"auto\",\"active_tap\":\"auto\",\"tools\":[{\"id\":\"3c83e92d-9bf0-43a8-8594-2027e490718d\",\"type\":\"PanTool\"},{\"id\":\"542542e3-e0b3-4d34-b3fc-2531181d1521\",\"type\":\"WheelZoomTool\"},{\"id\":\"05c3d06a-acaa-408f-99f2-b6705bd04f79\",\"type\":\"BoxZoomTool\"},{\"id\":\"8ad203d0-6c2f-4a8a-aecc-ce5575002a26\",\"type\":\"SaveTool\"},{\"id\":\"d2303284-ed21-4041-a07b-bc2e1a8ba209\",\"type\":\"ResetTool\"},{\"id\":\"f96d33cd-1917-41d4-ab30-2bdb054cb1ea\",\"type\":\"HelpTool\"}]},\"id\":\"384ee263-877b-49fd-a1ae-6dd56189e2b2\",\"type\":\"Toolbar\"},{\"attributes\":{},\"id\":\"20f5a517-3485-4c1d-b0f2-fa1f49ef7bec\",\"type\":\"UnionRenderers\"},{\"attributes\":{\"data_source\":{\"id\":\"e9db5697-caef-47fa-bff2-1aba3fc48dec\",\"type\":\"ColumnDataSource\"},\"glyph\":{\"id\":\"f127d223-b6a1-4d14-b572-3b3d6e0d09ee\",\"type\":\"Line\"},\"hover_glyph\":null,\"muted_glyph\":null,\"nonselection_glyph\":{\"id\":\"805c5afb-40de-44a6-b6f1-9e1178008610\",\"type\":\"Line\"},\"selection_glyph\":null,\"view\":{\"id\":\"dbcce585-f902-480f-919e-119cfadd7642\",\"type\":\"CDSView\"}},\"id\":\"612491d4-a511-46e0-bfcb-04894d04bf19\",\"type\":\"GlyphRenderer\"},{\"attributes\":{},\"id\":\"855e202d-b9d4-48f7-9525-1a4d63fcac57\",\"type\":\"UnionRenderers\"},{\"attributes\":{},\"id\":\"d0560664-7bdc-4b5e-b760-c71831867b65\",\"type\":\"Selection\"},{\"attributes\":{},\"id\":\"23c52d89-52ec-4dcd-913c-4af97c0143cc\",\"type\":\"UnionRenderers\"},{\"attributes\":{},\"id\":\"7c53e7a2-29f2-4db0-ae72-46a85aa40ee2\",\"type\":\"Selection\"},{\"attributes\":{\"active_drag\":\"auto\",\"active_inspect\":\"auto\",\"active_scroll\":\"auto\",\"active_tap\":\"auto\",\"tools\":[{\"id\":\"c19827d7-dc64-4a31-8785-2eaa145dbff5\",\"type\":\"PanTool\"},{\"id\":\"5b4ae8c3-d1b7-48c0-81c4-3f520c941523\",\"type\":\"WheelZoomTool\"},{\"id\":\"5b562e73-fe2c-4bb8-87f4-7009ad0b98d5\",\"type\":\"BoxZoomTool\"},{\"id\":\"d38550cd-6b2a-4c9c-be6a-599b3e850aac\",\"type\":\"SaveTool\"},{\"id\":\"f82e70ad-9df2-495a-8379-7ef1bcfb9476\",\"type\":\"ResetTool\"},{\"id\":\"51cb1ada-9141-4e47-b20b-d9cb5bf50aa9\",\"type\":\"HelpTool\"}]},\"id\":\"859839f6-98fe-4e2e-9630-8a812ee86638\",\"type\":\"Toolbar\"},{\"attributes\":{\"fill_alpha\":{\"value\":0.7},\"fill_color\":{\"value\":\"#4daf4a\"},\"line_alpha\":{\"value\":0.7},\"line_color\":{\"value\":\"#4daf4a\"},\"x\":{\"field\":\"x\"},\"y\":{\"field\":\"y\"}},\"id\":\"8ee1fa26-5cfa-4990-ba91-e393b6ea2a3c\",\"type\":\"Circle\"},{\"attributes\":{},\"id\":\"37d3a0ec-ad8f-4574-a7b7-51aa5bb6cf79\",\"type\":\"Selection\"},{\"attributes\":{\"below\":[{\"id\":\"f6e9cc26-5f0f-48f4-ad23-e2f9e69f83e9\",\"type\":\"LinearAxis\"}],\"left\":[{\"id\":\"fa7255bd-ebd6-4cd2-8531-3e2335e19c9d\",\"type\":\"LinearAxis\"}],\"plot_height\":500,\"plot_width\":400,\"renderers\":[{\"id\":\"f6e9cc26-5f0f-48f4-ad23-e2f9e69f83e9\",\"type\":\"LinearAxis\"},{\"id\":\"123b1e55-aaf3-4e1c-9f3e-64d6a1a3683d\",\"type\":\"Grid\"},{\"id\":\"fa7255bd-ebd6-4cd2-8531-3e2335e19c9d\",\"type\":\"LinearAxis\"},{\"id\":\"87f11fc9-22cb-40f7-8962-18e3d60f0b1c\",\"type\":\"Grid\"},{\"id\":\"6e1afdfd-bfa1-4c41-ad78-dc48fdd8152a\",\"type\":\"BoxAnnotation\"},{\"id\":\"06c82d29-010c-41dd-ae96-0cf5be779c94\",\"type\":\"GlyphRenderer\"},{\"id\":\"892b97ff-109a-4a70-a583-8f4ba69d4af6\",\"type\":\"GlyphRenderer\"},{\"id\":\"1d6e7f8e-624c-4733-84a3-b6d45fb97c6a\",\"type\":\"GlyphRenderer\"},{\"id\":\"f100a76c-def5-46bd-b7a9-04d1e6fe40aa\",\"type\":\"GlyphRenderer\"},{\"id\":\"612491d4-a511-46e0-bfcb-04894d04bf19\",\"type\":\"GlyphRenderer\"}],\"title\":{\"id\":\"90f3098a-27ae-4599-9b28-0aa6733bb3af\",\"type\":\"Title\"},\"toolbar\":{\"id\":\"859839f6-98fe-4e2e-9630-8a812ee86638\",\"type\":\"Toolbar\"},\"toolbar_location\":null,\"x_range\":{\"id\":\"ef48a548-826a-4944-9731-965ecaa978d6\",\"type\":\"Range1d\"},\"x_scale\":{\"id\":\"b0447104-3d2f-4f2c-a299-c50e57e52a08\",\"type\":\"LinearScale\"},\"y_range\":{\"id\":\"0567e701-fea1-4889-8e2c-dca8aad36c0a\",\"type\":\"Range1d\"},\"y_scale\":{\"id\":\"b669bc1f-1985-40c3-af8e-08caefc371ee\",\"type\":\"LinearScale\"}},\"id\":\"c4734d1a-ae83-4e45-9853-5ccd38a416df\",\"subtype\":\"Figure\",\"type\":\"Plot\"},{\"attributes\":{},\"id\":\"cdab34e8-6418-43dc-a464-a770eea02a86\",\"type\":\"UnionRenderers\"},{\"attributes\":{\"tools\":[{\"id\":\"c19827d7-dc64-4a31-8785-2eaa145dbff5\",\"type\":\"PanTool\"},{\"id\":\"5b4ae8c3-d1b7-48c0-81c4-3f520c941523\",\"type\":\"WheelZoomTool\"},{\"id\":\"5b562e73-fe2c-4bb8-87f4-7009ad0b98d5\",\"type\":\"BoxZoomTool\"},{\"id\":\"d38550cd-6b2a-4c9c-be6a-599b3e850aac\",\"type\":\"SaveTool\"},{\"id\":\"f82e70ad-9df2-495a-8379-7ef1bcfb9476\",\"type\":\"ResetTool\"},{\"id\":\"51cb1ada-9141-4e47-b20b-d9cb5bf50aa9\",\"type\":\"HelpTool\"},{\"id\":\"3c83e92d-9bf0-43a8-8594-2027e490718d\",\"type\":\"PanTool\"},{\"id\":\"542542e3-e0b3-4d34-b3fc-2531181d1521\",\"type\":\"WheelZoomTool\"},{\"id\":\"05c3d06a-acaa-408f-99f2-b6705bd04f79\",\"type\":\"BoxZoomTool\"},{\"id\":\"8ad203d0-6c2f-4a8a-aecc-ce5575002a26\",\"type\":\"SaveTool\"},{\"id\":\"d2303284-ed21-4041-a07b-bc2e1a8ba209\",\"type\":\"ResetTool\"},{\"id\":\"f96d33cd-1917-41d4-ab30-2bdb054cb1ea\",\"type\":\"HelpTool\"}]},\"id\":\"bb92465e-ab09-4929-8b5f-ff41eec975e2\",\"type\":\"ProxyToolbar\"},{\"attributes\":{},\"id\":\"d627e0ec-9952-4b8a-80f8-c74466d50284\",\"type\":\"Selection\"},{\"attributes\":{\"toolbar\":{\"id\":\"bb92465e-ab09-4929-8b5f-ff41eec975e2\",\"type\":\"ProxyToolbar\"},\"toolbar_location\":\"above\"},\"id\":\"ad3d87a7-3884-40e8-a5fc-8573393f4592\",\"type\":\"ToolbarBox\"},{\"attributes\":{\"fill_alpha\":{\"value\":0.7},\"fill_color\":{\"value\":\"#984ea3\"},\"line_alpha\":{\"value\":0.7},\"line_color\":{\"value\":\"#984ea3\"},\"x\":{\"field\":\"x\"},\"y\":{\"field\":\"y\"}},\"id\":\"1ae61a62-ba3a-421e-933d-65f998b6d165\",\"type\":\"Square\"},{\"attributes\":{\"callback\":null,\"data\":{\"x\":{\"__ndarray__\":\"K9uoys4Nnb/WnzQ8DJmev18BvG31iJ6/SveMp5K/mb/tmTfkJVOPv69Uzz6hojs/O4m8cN1Qlz8myujEQemqP/ew59DBMbc/3VBjCCGcwT8ly4tET+fIP8MNOhkDyNA/kUnClR7T1T/IgwT3yXLdP+/6s7z+ZuQ/Kw0EGs/06j9qtGZ1vPPwPyllCLYAg/Q/Mz/tpkoK+D+N/6eHDXv7P0RXfQlwtf4/jiJrDaV2/z9+RW3RuIb6PwB7ljFP+PM/OWEEhSic7T85KB+KG7rkP6Tg58d4N9s/xj/gP+Ux0j+ThAovPfHKPzLVxOnBMMQ/5W/Oyu6wvD9IvE6A57KwP2P3znyPeaI/hpU1qgZzlz9cNU1svglOv2H+hmCH95+/QqHLv4ktrb+bv7v1l2azvyMjnwuuL7e/pb+XwoNmur8RMQz1R1q6v0QreztXzre/s3DYBLgjtb/S0vGlq8yxv4RL24BOj6y/d6gi7EblpL+VE9aOLqucv6yXLfmitJS/GgjenXAHjr9hKHFncKWEv4Z8az9U/Hm/CLdCwrrkbb+Usqr9VBdbv+rnFYU+OiE/aVF5HWwPXT923YvKrv1qP6/UXde7OHM/r7PTJj15eD/LUzV87Ut9P4NMUlva0IA/rrC/ufa2gj9L7skmbWiEPyYcA33l64U/Eg6V/fU1hz/xLHY4EEuIP+znJMb4UYk/Q1qqpZVPij+1ZsFKWRSLPxuEQs8pcos/xG96f9I8iz+fxFxcJ1GKP+Nip4D91Yg/mkBYYKQkhz+mVq6j6W2FP38j3puWyIM/\",\"dtype\":\"float64\",\"shape\":[75]},\"y\":{\"__ndarray__\":\"GhExyth1ND/Sv8nbtpRIP2vylNV0PVE/aTum7souWD/At0SJ8fVgPw3Iuahxymc/MSNhhJWvcD/bTfBN02d3P2zb5nxnaoA/CD5h5MAGhz8NmeH1TyaQP+zrCsc9p5Y/LbKd76fGnz/bLW5ISEmmPww9YvTcQq8/JV2OstnstT8Er5Y7M8G+P0c+r3jqkcU/5h99k6ZBzj88bCIzFzjVP4enV8oyxN0//yH99nXg5D8qOpLLf0jtP5kqGJXUifQ/c9cS8kHP/D+/DpwzojQEQIEmwoanVwxA4lgXt9HgE0BSSZ2AJuIbQAMJih9jjiNA5q4l5INuK0AwTKYKRj0zQNv5fmq8/DpAaCJseHrtQkB/+zpwzoxKQM3MzMzMeFJAZmZmZmZqWEAAAAAAAFxeQM3MzMzMJmJAmpmZmZkfZUBmZmZmZhhoQDMzMzMzEWtAAAAAAAAKbkBmZmZmZoFwQM3MzMzM/XFAMzMzMzN6c0CamZmZmfZ0QAAAAAAAc3ZAZmZmZmbvd0DNzMzMzGt5QDMzMzMz6HpAmpmZmZlkfEAAAAAAAOF9QGZmZmZmXX9AZmZmZuZsgECamZmZGSuBQM3MzMxM6YFAAAAAAICngkAzMzMzs2WDQGZmZmbmI4RAmpmZmRnihEDNzMzMTKCFQAAAAACAXoZAMzMzM7Mch0BmZmZm5tqHQJqZmZkZmYhAzczMzExXiUAAAAAAgBWKQDMzMzOz04pAZmZmZuaRi0CamZmZGVCMQM3MzMxMDo1AAAAAAIDMjUAzMzMzs4qOQGZmZmbmSI9A\",\"dtype\":\"float64\",\"shape\":[75]}},\"selected\":{\"id\":\"7c53e7a2-29f2-4db0-ae72-46a85aa40ee2\",\"type\":\"Selection\"},\"selection_policy\":{\"id\":\"20f5a517-3485-4c1d-b0f2-fa1f49ef7bec\",\"type\":\"UnionRenderers\"}},\"id\":\"9ebd0ea1-8817-4bf6-aee0-3d7862f98942\",\"type\":\"ColumnDataSource\"},{\"attributes\":{\"source\":{\"id\":\"0eebadc4-bffe-426d-9729-191493abc5ac\",\"type\":\"ColumnDataSource\"}},\"id\":\"7dc10686-a086-4020-b15a-d685f24cb3b6\",\"type\":\"CDSView\"},{\"attributes\":{},\"id\":\"65c31c8c-445e-4021-a826-9de7b89c8a0e\",\"type\":\"Selection\"},{\"attributes\":{},\"id\":\"d95f8769-7e9a-4cb6-bc91-dbccb8699751\",\"type\":\"UnionRenderers\"},{\"attributes\":{\"children\":[{\"id\":\"ad3d87a7-3884-40e8-a5fc-8573393f4592\",\"type\":\"ToolbarBox\"},{\"id\":\"3f91e57d-1e4d-4433-b94f-7a6de8b23cd7\",\"type\":\"Column\"}]},\"id\":\"4ec44b4f-c3ca-453c-9954-a705f49bc09a\",\"type\":\"Column\"},{\"attributes\":{\"plot\":null,\"text\":\"Log pressure scale\"},\"id\":\"082068e5-04f6-4d0a-831a-338b990c1c41\",\"type\":\"Title\"},{\"attributes\":{\"line_alpha\":0.1,\"line_color\":\"#1f77b4\",\"line_width\":1.5,\"x\":{\"field\":\"x\"},\"y\":{\"field\":\"y\"}},\"id\":\"909457a4-44c4-4f1c-8b1e-dcc2d20f6c00\",\"type\":\"Line\"},{\"attributes\":{\"fill_alpha\":{\"value\":0.1},\"fill_color\":{\"value\":\"#1f77b4\"},\"line_alpha\":{\"value\":0.1},\"line_color\":{\"value\":\"#1f77b4\"},\"x\":{\"field\":\"x\"},\"y\":{\"field\":\"y\"}},\"id\":\"61f499df-3b4b-43ef-af96-7e40b8738653\",\"type\":\"Square\"},{\"attributes\":{\"source\":{\"id\":\"f53bdb73-9e51-48c0-9339-7bed21f62e4a\",\"type\":\"ColumnDataSource\"}},\"id\":\"e05ce572-b056-47f6-9262-8e6b2096bbb0\",\"type\":\"CDSView\"},{\"attributes\":{\"data_source\":{\"id\":\"028f6db6-60c0-4b5f-a3d3-a18c26a2f6cc\",\"type\":\"ColumnDataSource\"},\"glyph\":{\"id\":\"1ae61a62-ba3a-421e-933d-65f998b6d165\",\"type\":\"Square\"},\"hover_glyph\":null,\"muted_glyph\":null,\"nonselection_glyph\":{\"id\":\"61f499df-3b4b-43ef-af96-7e40b8738653\",\"type\":\"Square\"},\"selection_glyph\":null,\"view\":{\"id\":\"5b4f6a05-5b22-4f69-bfb0-2f279e8ddf37\",\"type\":\"CDSView\"}},\"id\":\"f100a76c-def5-46bd-b7a9-04d1e6fe40aa\",\"type\":\"GlyphRenderer\"},{\"attributes\":{\"line_color\":\"#4daf4a\",\"line_width\":1.5,\"x\":{\"field\":\"x\"},\"y\":{\"field\":\"y\"}},\"id\":\"3bad291c-b293-468e-b6f0-e333369d22be\",\"type\":\"Line\"},{\"attributes\":{\"callback\":null,\"end\":0.01475634913,\"start\":-0.12345427613},\"id\":\"ef48a548-826a-4944-9731-965ecaa978d6\",\"type\":\"Range1d\"},{\"attributes\":{\"line_alpha\":0.6,\"line_color\":\"#984ea3\",\"line_width\":3,\"x\":{\"field\":\"x\"},\"y\":{\"field\":\"y\"}},\"id\":\"f127d223-b6a1-4d14-b572-3b3d6e0d09ee\",\"type\":\"Line\"},{\"attributes\":{},\"id\":\"b669bc1f-1985-40c3-af8e-08caefc371ee\",\"type\":\"LinearScale\"},{\"attributes\":{\"items\":[{\"id\":\"d6d81f1c-2c82-49e4-ab7d-625c331f902b\",\"type\":\"LegendItem\"},{\"id\":\"e99dd405-8896-4cc5-83f7-bcb0b04d6750\",\"type\":\"LegendItem\"},{\"id\":\"3472a178-5567-48d7-abf1-3d0b8ca8c0e8\",\"type\":\"LegendItem\"}],\"label_text_font_size\":{\"value\":\"8pt\"},\"location\":[10,-30],\"plot\":{\"id\":\"660200b9-4ae7-48ee-84a8-aa588e5ad57f\",\"subtype\":\"Figure\",\"type\":\"Plot\"}},\"id\":\"a093ab74-f312-49c8-8981-f9723077281c\",\"type\":\"Legend\"},{\"attributes\":{\"axis_label\":\"cooling rate [K/day]\",\"formatter\":{\"id\":\"ea92b28c-be70-4e59-9233-90881f171d5c\",\"type\":\"BasicTickFormatter\"},\"plot\":{\"id\":\"660200b9-4ae7-48ee-84a8-aa588e5ad57f\",\"subtype\":\"Figure\",\"type\":\"Plot\"},\"ticker\":{\"id\":\"fe1afb16-39c3-4d65-9850-3277dc37f206\",\"type\":\"BasicTicker\"}},\"id\":\"5a2dccb6-7adc-4ba3-8648-2bdff6743039\",\"type\":\"LinearAxis\"},{\"attributes\":{},\"id\":\"b0447104-3d2f-4f2c-a299-c50e57e52a08\",\"type\":\"LinearScale\"},{\"attributes\":{\"line_alpha\":0.1,\"line_color\":\"#1f77b4\",\"line_width\":3,\"x\":{\"field\":\"x\"},\"y\":{\"field\":\"y\"}},\"id\":\"805c5afb-40de-44a6-b6f1-9e1178008610\",\"type\":\"Line\"},{\"attributes\":{},\"id\":\"32bd0734-794a-44ce-8284-f2bdbebe3eaf\",\"type\":\"BasicTicker\"}],\"root_ids\":[\"4ec44b4f-c3ca-453c-9954-a705f49bc09a\"]},\"title\":\"Bokeh Application\",\"version\":\"0.12.16\"}};\n",
       "  var render_items = [{\"docid\":\"ee3a90c8-bbd6-44b4-a2c1-426173fafbbb\",\"elementid\":\"0eb59f01-7650-4c44-b929-22d54bdd308f\",\"modelid\":\"4ec44b4f-c3ca-453c-9954-a705f49bc09a\"}];\n",
       "  root.Bokeh.embed.embed_items_notebook(docs_json, render_items);\n",
       "\n",
       "  }\n",
       "  if (root.Bokeh !== undefined) {\n",
       "    embed_document(root);\n",
       "  } else {\n",
       "    var attempts = 0;\n",
       "    var timer = setInterval(function(root) {\n",
       "      if (root.Bokeh !== undefined) {\n",
       "        embed_document(root);\n",
       "        clearInterval(timer);\n",
       "      }\n",
       "      attempts++;\n",
       "      if (attempts > 100) {\n",
       "        console.log(\"Bokeh: ERROR: Unable to run BokehJS code because BokehJS library is missing\")\n",
       "        clearInterval(timer);\n",
       "      }\n",
       "    }, 10, root)\n",
       "  }\n",
       "})(window);"
      ],
      "application/vnd.bokehjs_exec.v0+json": ""
     },
     "metadata": {
      "application/vnd.bokehjs_exec.v0+json": {
       "id": "4ec44b4f-c3ca-453c-9954-a705f49bc09a"
      }
     },
     "output_type": "display_data"
    },
    {
     "name": "stdout",
     "output_type": "stream",
     "text": [
      "FIGURE. Cooling rate profiles.\n"
     ]
    },
    {
     "data": {
      "text/html": [
       "<a id=\"Flux_Comparison\"></a>"
      ],
      "text/plain": [
       "<IPython.core.display.HTML object>"
      ]
     },
     "metadata": {},
     "output_type": "display_data"
    },
    {
     "data": {
      "text/markdown": [
       "# Flux Comparison"
      ],
      "text/plain": [
       "<IPython.core.display.Markdown object>"
      ]
     },
     "metadata": {},
     "output_type": "display_data"
    },
    {
     "data": {
      "text/html": [
       "<div>\n",
       "<style scoped>\n",
       "    .dataframe tbody tr th:only-of-type {\n",
       "        vertical-align: middle;\n",
       "    }\n",
       "\n",
       "    .dataframe tbody tr th {\n",
       "        vertical-align: top;\n",
       "    }\n",
       "\n",
       "    .dataframe thead th {\n",
       "        text-align: right;\n",
       "    }\n",
       "</style>\n",
       "<table border=\"1\" class=\"dataframe\">\n",
       "  <thead>\n",
       "    <tr style=\"text-align: right;\">\n",
       "      <th></th>\n",
       "      <th></th>\n",
       "      <th>flug</th>\n",
       "      <th>fldg</th>\n",
       "      <th>fnetg</th>\n",
       "    </tr>\n",
       "    <tr>\n",
       "      <th>pressure</th>\n",
       "      <th>level</th>\n",
       "      <th></th>\n",
       "      <th></th>\n",
       "      <th></th>\n",
       "    </tr>\n",
       "  </thead>\n",
       "  <tbody>\n",
       "    <tr>\n",
       "      <th>0.0000</th>\n",
       "      <th>1</th>\n",
       "      <td>-10.989699</td>\n",
       "      <td>0.000000</td>\n",
       "      <td>-10.989699</td>\n",
       "    </tr>\n",
       "    <tr>\n",
       "      <th>1.0685</th>\n",
       "      <th>24</th>\n",
       "      <td>-10.937587</td>\n",
       "      <td>0.150946</td>\n",
       "      <td>-10.786641</td>\n",
       "    </tr>\n",
       "    <tr>\n",
       "      <th>1013.0000</th>\n",
       "      <th>76</th>\n",
       "      <td>-15.051406</td>\n",
       "      <td>2.958610</td>\n",
       "      <td>-12.092796</td>\n",
       "    </tr>\n",
       "  </tbody>\n",
       "</table>\n",
       "</div>"
      ],
      "text/plain": [
       "                      flug      fldg      fnetg\n",
       "pressure  level                                \n",
       "0.0000    1     -10.989699  0.000000 -10.989699\n",
       "1.0685    24    -10.937587  0.150946 -10.786641\n",
       "1013.0000 76    -15.051406  2.958610 -12.092796"
      ]
     },
     "metadata": {},
     "output_type": "display_data"
    },
    {
     "name": "stdout",
     "output_type": "stream",
     "text": [
      "Table. Fluxes. CRD\n"
     ]
    },
    {
     "data": {
      "text/html": [
       "<div>\n",
       "<style scoped>\n",
       "    .dataframe tbody tr th:only-of-type {\n",
       "        vertical-align: middle;\n",
       "    }\n",
       "\n",
       "    .dataframe tbody tr th {\n",
       "        vertical-align: top;\n",
       "    }\n",
       "\n",
       "    .dataframe thead th {\n",
       "        text-align: right;\n",
       "    }\n",
       "</style>\n",
       "<table border=\"1\" class=\"dataframe\">\n",
       "  <thead>\n",
       "    <tr style=\"text-align: right;\">\n",
       "      <th></th>\n",
       "      <th></th>\n",
       "      <th>flug</th>\n",
       "      <th>fldg</th>\n",
       "      <th>fnetg</th>\n",
       "    </tr>\n",
       "    <tr>\n",
       "      <th>pressure</th>\n",
       "      <th>level</th>\n",
       "      <th></th>\n",
       "      <th></th>\n",
       "      <th></th>\n",
       "    </tr>\n",
       "  </thead>\n",
       "  <tbody>\n",
       "    <tr>\n",
       "      <th>0.0000</th>\n",
       "      <th>1</th>\n",
       "      <td>-10.812840</td>\n",
       "      <td>0.00000</td>\n",
       "      <td>-10.812840</td>\n",
       "    </tr>\n",
       "    <tr>\n",
       "      <th>1.0685</th>\n",
       "      <th>24</th>\n",
       "      <td>-10.760208</td>\n",
       "      <td>0.14605</td>\n",
       "      <td>-10.614158</td>\n",
       "    </tr>\n",
       "    <tr>\n",
       "      <th>1013.0000</th>\n",
       "      <th>76</th>\n",
       "      <td>-15.051406</td>\n",
       "      <td>3.02450</td>\n",
       "      <td>-12.026907</td>\n",
       "    </tr>\n",
       "  </tbody>\n",
       "</table>\n",
       "</div>"
      ],
      "text/plain": [
       "                      flug     fldg      fnetg\n",
       "pressure  level                               \n",
       "0.0000    1     -10.812840  0.00000 -10.812840\n",
       "1.0685    24    -10.760208  0.14605 -10.614158\n",
       "1013.0000 76    -15.051406  3.02450 -12.026907"
      ]
     },
     "metadata": {},
     "output_type": "display_data"
    },
    {
     "name": "stdout",
     "output_type": "stream",
     "text": [
      "Table. Fluxes. WGT igg=10 wgt_flux=1\n"
     ]
    },
    {
     "data": {
      "text/html": [
       "<div>\n",
       "<style scoped>\n",
       "    .dataframe tbody tr th:only-of-type {\n",
       "        vertical-align: middle;\n",
       "    }\n",
       "\n",
       "    .dataframe tbody tr th {\n",
       "        vertical-align: top;\n",
       "    }\n",
       "\n",
       "    .dataframe thead th {\n",
       "        text-align: right;\n",
       "    }\n",
       "</style>\n",
       "<table border=\"1\" class=\"dataframe\">\n",
       "  <thead>\n",
       "    <tr style=\"text-align: right;\">\n",
       "      <th></th>\n",
       "      <th></th>\n",
       "      <th>flug</th>\n",
       "      <th>fldg</th>\n",
       "      <th>fnetg</th>\n",
       "    </tr>\n",
       "    <tr>\n",
       "      <th>pressure</th>\n",
       "      <th>level</th>\n",
       "      <th></th>\n",
       "      <th></th>\n",
       "      <th></th>\n",
       "    </tr>\n",
       "  </thead>\n",
       "  <tbody>\n",
       "    <tr>\n",
       "      <th>1.000000e-08</th>\n",
       "      <th>1</th>\n",
       "      <td>-10.701487</td>\n",
       "      <td>0.000002</td>\n",
       "      <td>-10.701485</td>\n",
       "    </tr>\n",
       "    <tr>\n",
       "      <th>1.068500e+00</th>\n",
       "      <th>24</th>\n",
       "      <td>-10.650289</td>\n",
       "      <td>0.141490</td>\n",
       "      <td>-10.508799</td>\n",
       "    </tr>\n",
       "    <tr>\n",
       "      <th>1.013000e+03</th>\n",
       "      <th>76</th>\n",
       "      <td>-15.051410</td>\n",
       "      <td>3.025555</td>\n",
       "      <td>-12.025855</td>\n",
       "    </tr>\n",
       "  </tbody>\n",
       "</table>\n",
       "</div>"
      ],
      "text/plain": [
       "                         flug      fldg      fnetg\n",
       "pressure     level                                \n",
       "1.000000e-08 1     -10.701487  0.000002 -10.701485\n",
       "1.068500e+00 24    -10.650289  0.141490 -10.508799\n",
       "1.013000e+03 76    -15.051410  3.025555 -12.025855"
      ]
     },
     "metadata": {},
     "output_type": "display_data"
    },
    {
     "name": "stdout",
     "output_type": "stream",
     "text": [
      "Table. Fluxes. CLIRAD\n"
     ]
    },
    {
     "data": {
      "text/html": [
       "<div>\n",
       "<style scoped>\n",
       "    .dataframe tbody tr th:only-of-type {\n",
       "        vertical-align: middle;\n",
       "    }\n",
       "\n",
       "    .dataframe tbody tr th {\n",
       "        vertical-align: top;\n",
       "    }\n",
       "\n",
       "    .dataframe thead th {\n",
       "        text-align: right;\n",
       "    }\n",
       "</style>\n",
       "<table border=\"1\" class=\"dataframe\">\n",
       "  <thead>\n",
       "    <tr style=\"text-align: right;\">\n",
       "      <th></th>\n",
       "      <th></th>\n",
       "      <th>flug</th>\n",
       "      <th>fldg</th>\n",
       "      <th>fnetg</th>\n",
       "    </tr>\n",
       "    <tr>\n",
       "      <th>pressure</th>\n",
       "      <th>level</th>\n",
       "      <th></th>\n",
       "      <th></th>\n",
       "      <th></th>\n",
       "    </tr>\n",
       "  </thead>\n",
       "  <tbody>\n",
       "    <tr>\n",
       "      <th>0.0000</th>\n",
       "      <th>1</th>\n",
       "      <td>0.176859</td>\n",
       "      <td>0.000000</td>\n",
       "      <td>0.176859</td>\n",
       "    </tr>\n",
       "    <tr>\n",
       "      <th>1.0685</th>\n",
       "      <th>24</th>\n",
       "      <td>0.177379</td>\n",
       "      <td>-0.004896</td>\n",
       "      <td>0.172483</td>\n",
       "    </tr>\n",
       "    <tr>\n",
       "      <th>1013.0000</th>\n",
       "      <th>76</th>\n",
       "      <td>0.000000</td>\n",
       "      <td>0.065889</td>\n",
       "      <td>0.065889</td>\n",
       "    </tr>\n",
       "  </tbody>\n",
       "</table>\n",
       "</div>"
      ],
      "text/plain": [
       "                     flug      fldg     fnetg\n",
       "pressure  level                              \n",
       "0.0000    1      0.176859  0.000000  0.176859\n",
       "1.0685    24     0.177379 -0.004896  0.172483\n",
       "1013.0000 76     0.000000  0.065889  0.065889"
      ]
     },
     "metadata": {},
     "output_type": "display_data"
    },
    {
     "name": "stdout",
     "output_type": "stream",
     "text": [
      "Table. Fluxes. (WGT igg=10 wgt_flux=1) - (CRD)\n"
     ]
    },
    {
     "data": {
      "text/html": [
       "<div>\n",
       "<style scoped>\n",
       "    .dataframe tbody tr th:only-of-type {\n",
       "        vertical-align: middle;\n",
       "    }\n",
       "\n",
       "    .dataframe tbody tr th {\n",
       "        vertical-align: top;\n",
       "    }\n",
       "\n",
       "    .dataframe thead th {\n",
       "        text-align: right;\n",
       "    }\n",
       "</style>\n",
       "<table border=\"1\" class=\"dataframe\">\n",
       "  <thead>\n",
       "    <tr style=\"text-align: right;\">\n",
       "      <th></th>\n",
       "      <th></th>\n",
       "      <th>flug</th>\n",
       "      <th>fldg</th>\n",
       "      <th>fnetg</th>\n",
       "    </tr>\n",
       "    <tr>\n",
       "      <th>pressure</th>\n",
       "      <th>level</th>\n",
       "      <th></th>\n",
       "      <th></th>\n",
       "      <th></th>\n",
       "    </tr>\n",
       "  </thead>\n",
       "  <tbody>\n",
       "    <tr>\n",
       "      <th>0.0000</th>\n",
       "      <th>1</th>\n",
       "      <td>0.288212</td>\n",
       "      <td>0.000002</td>\n",
       "      <td>0.288214</td>\n",
       "    </tr>\n",
       "    <tr>\n",
       "      <th>1.0685</th>\n",
       "      <th>24</th>\n",
       "      <td>0.287298</td>\n",
       "      <td>-0.009456</td>\n",
       "      <td>0.277842</td>\n",
       "    </tr>\n",
       "    <tr>\n",
       "      <th>1013.0000</th>\n",
       "      <th>76</th>\n",
       "      <td>-0.000004</td>\n",
       "      <td>0.066945</td>\n",
       "      <td>0.066941</td>\n",
       "    </tr>\n",
       "  </tbody>\n",
       "</table>\n",
       "</div>"
      ],
      "text/plain": [
       "                     flug      fldg     fnetg\n",
       "pressure  level                              \n",
       "0.0000    1      0.288212  0.000002  0.288214\n",
       "1.0685    24     0.287298 -0.009456  0.277842\n",
       "1013.0000 76    -0.000004  0.066945  0.066941"
      ]
     },
     "metadata": {},
     "output_type": "display_data"
    },
    {
     "name": "stdout",
     "output_type": "stream",
     "text": [
      "Table. Fluxes. (CLIRAD) - (CRD)\n"
     ]
    },
    {
     "data": {
      "text/html": [
       "<a id=\"Best-fit_Parameters\"></a>"
      ],
      "text/plain": [
       "<IPython.core.display.HTML object>"
      ]
     },
     "metadata": {},
     "output_type": "display_data"
    },
    {
     "data": {
      "text/markdown": [
       "# Best-fit Parameters"
      ],
      "text/plain": [
       "<IPython.core.display.Markdown object>"
      ]
     },
     "metadata": {},
     "output_type": "display_data"
    },
    {
     "name": "stdout",
     "output_type": "stream",
     "text": [
      "Best-fit values for each (gas, band)\n",
      "------------------------------------\n",
      "o h2o band5\n",
      "  atmpro = mls\n",
      "  band = 5\n",
      "  commitnumber = a06b618\n",
      "  conc = None\n",
      "  dv = 0.001\n",
      "  klin = 1e-24\n",
      "  molecule = h2o\n",
      "  ng_adju = [0]\n",
      "  ng_refs = [3]\n",
      "  nv = 1000\n",
      "  option_compute_btable = 0\n",
      "  option_compute_ktable = 1\n",
      "  option_wgt_flux = 1\n",
      "  option_wgt_k = 1\n",
      "  ref_pts = [(600, 250)]\n",
      "  tsfc = 294\n",
      "  vmax = 1100\n",
      "  vmin = 980\n",
      "  w_diffuse = [(1.66, 1.66, 1.8)]\n",
      "  wgt = [(0.5, 0.55, 0.9)]\n",
      "o o3 band5\n",
      "  atmpro = mls\n",
      "  band = 5\n",
      "  commitnumber = a06b618\n",
      "  conc = None\n",
      "  dv = 0.001\n",
      "  klin = 2e-20\n",
      "  molecule = o3\n",
      "  ng_adju = [0, 0]\n",
      "  ng_refs = [2, 5]\n",
      "  nv = 1000\n",
      "  option_compute_btable = 0\n",
      "  option_compute_ktable = 1\n",
      "  option_wgt_flux = 1\n",
      "  option_wgt_k = 1\n",
      "  ref_pts = [(1, 250), (50, 250)]\n",
      "  tsfc = 294\n",
      "  vmax = 1100\n",
      "  vmin = 980\n",
      "  w_diffuse = [(1.6, 1.75), (1.55, 1.66, 1.7, 1.75, 1.8)]\n",
      "  wgt = [(0.35, 0.6), (0.5, 0.55, 0.7, 0.9, 1.0)]\n"
     ]
    }
   ],
   "source": [
    "script()"
   ]
  },
  {
   "cell_type": "code",
   "execution_count": 13,
   "metadata": {
    "collapsed": true
   },
   "outputs": [
    {
     "data": {
      "text/html": [
       "<script>\n",
       "code_show=true; \n",
       "function code_toggle() {\n",
       " if (code_show){\n",
       " $('div.input').hide();\n",
       " } else {\n",
       " $('div.input').show();\n",
       " }\n",
       " code_show = !code_show\n",
       "} \n",
       "$( document ).ready(code_toggle);\n",
       "</script>\n",
       "<form action=\"javascript:code_toggle()\"><input type=\"submit\" value=\"Click here to toggle on/off the raw code.\"></form>"
      ],
      "text/plain": [
       "<IPython.core.display.HTML object>"
      ]
     },
     "execution_count": 13,
     "metadata": {},
     "output_type": "execute_result"
    }
   ],
   "source": [
    "display.HTML('''<script>\n",
    "code_show=true; \n",
    "function code_toggle() {\n",
    " if (code_show){\n",
    " $('div.input').hide();\n",
    " } else {\n",
    " $('div.input').show();\n",
    " }\n",
    " code_show = !code_show\n",
    "} \n",
    "$( document ).ready(code_toggle);\n",
    "</script>\n",
    "<form action=\"javascript:code_toggle()\"><input type=\"submit\" value=\"Click here to toggle on/off the raw code.\"></form>''')"
   ]
  }
 ],
 "metadata": {
  "kernelspec": {
   "display_name": "Python 3",
   "language": "python",
   "name": "python3"
  },
  "language_info": {
   "codemirror_mode": {
    "name": "ipython",
    "version": 3
   },
   "file_extension": ".py",
   "mimetype": "text/x-python",
   "name": "python",
   "nbconvert_exporter": "python",
   "pygments_lexer": "ipython3",
   "version": "3.6.1"
  }
 },
 "nbformat": 4,
 "nbformat_minor": 2
}
