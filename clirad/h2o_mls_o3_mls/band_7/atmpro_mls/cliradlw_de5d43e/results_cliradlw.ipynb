{
 "cells": [
  {
   "cell_type": "code",
   "execution_count": 1,
   "metadata": {
    "collapsed": true
   },
   "outputs": [],
   "source": [
    "%matplotlib inline\n",
    "import os\n",
    "import re\n",
    "import io\n",
    "import itertools\n",
    "import pprint\n",
    "\n",
    "from bokeh.io import output_notebook, show\n",
    "from bokeh.layouts import gridplot\n",
    "from bokeh.plotting import figure\n",
    "from bokeh.models import Range1d, Legend\n",
    "from bokeh.palettes import all_palettes\n",
    "\n",
    "import matplotlib\n",
    "import matplotlib.pyplot as plt\n",
    "import numpy as np\n",
    "import pandas as pd\n",
    "import xarray as xr\n",
    "\n",
    "import climatools.lblnew.bestfit_params as bestfits\n",
    "from climatools.lblnew import setup_bestfit, setup_overlap\n",
    "import climatools.lblnew.pipeline as pipe_lblnew\n",
    "import climatools.cliradlw.setup as setup_cliradlw\n",
    "import climatools.cliradlw.pipeline as pipe_cliradlw\n",
    "\n",
    "import climatools.html.html as climahtml\n",
    "from climatools.lblnew.dataio import *\n",
    "from climatools.plot.plot import *\n",
    "\n",
    "\n",
    "import IPython.display as display"
   ]
  },
  {
   "cell_type": "code",
   "execution_count": 2,
   "metadata": {
    "collapsed": true
   },
   "outputs": [],
   "source": [
    "%run param.py"
   ]
  },
  {
   "cell_type": "code",
   "execution_count": 3,
   "metadata": {
    "collapsed": true
   },
   "outputs": [
    {
     "name": "stdout",
     "output_type": "stream",
     "text": [
      "The history saving thread hit an unexpected error (OperationalError('database is locked',)).History will not be written to the database.\n"
     ]
    }
   ],
   "source": [
    "def load_output_file(path_csv):\n",
    "    '''\n",
    "    Load lblnew output .csv file to xarray.Dataset\n",
    "    \n",
    "    Parameters\n",
    "    ----------\n",
    "    path_csv: str\n",
    "              Path to the .csv file to be loaded.\n",
    "    ds: xarray.Dataset\n",
    "        Data in the input file in the form of an xarray.Dataset.\n",
    "    '''\n",
    "    toindex = ['band', 'pressure', 'igg', 'g']    \n",
    "    df = pd.read_csv(path_csv, sep=r'\\s+')\n",
    "    df = df.set_index([i for i in toindex if i in df.columns])\n",
    "    df = df.rename(columns={'sfu': 'flug',\n",
    "                            'sfd': 'fldg',\n",
    "                            'fnet': 'fnetg',\n",
    "                            'coolr': 'coolrg'})\n",
    "    ds = xr.Dataset.from_dataframe(df)\n",
    "\n",
    "    for l in ('level', 'layer'):\n",
    "        if l in ds.data_vars:\n",
    "            if len(ds[l].dims) > 1:\n",
    "                surface = {d: 0 for d in ds.dims if d != 'pressure'}\n",
    "                coord_level = ds[l][surface]\n",
    "                ds.coords[l] = ('pressure', coord_level)\n",
    "            else:\n",
    "                ds.coords[l] = ('pressure', ds[l])\n",
    "    \n",
    "    return ds"
   ]
  },
  {
   "cell_type": "code",
   "execution_count": 4,
   "metadata": {
    "collapsed": true
   },
   "outputs": [],
   "source": [
    "def lblnew_setup(param=None):\n",
    "    if 'ng_refs' in param:\n",
    "        return {'setup': setup_bestfit,\n",
    "                'fname_flux_crd': 'output_flux.dat',\n",
    "                'fname_cool_crd': 'output_coolr.dat',\n",
    "                'fname_flux_wgt': 'output_wfluxg.dat',\n",
    "                'fname_cool_wgt': 'output_wcoolrg.dat'}\n",
    "    else:\n",
    "        return {'setup': setup_overlap,\n",
    "                'fname_flux_crd': 'output_flux.dat',\n",
    "                'fname_cool_crd': 'output_coolr.dat',\n",
    "                'fname_flux_wgt': 'output_wflux.dat',\n",
    "                'fname_cool_wgt': 'output_wcoolr.dat'}\n",
    "\n",
    "    \n",
    "def load_lblnew_data(param):\n",
    "    \n",
    "    fname_dsname = [('fname_flux_crd', 'ds_flux_crd'),\n",
    "                    ('fname_cool_crd', 'ds_cool_crd'),\n",
    "                    ('fname_flux_wgt', 'ds_flux_wgt'),\n",
    "                    ('fname_cool_wgt', 'ds_cool_wgt')]\n",
    "    \n",
    "    d = lblnew_setup(param)\n",
    "    dir_fortran = pipe_lblnew.get_dir_case(param, setup=d['setup'])\n",
    "    \n",
    "    data_dict = {}\n",
    "    for fname, dsname in fname_dsname:\n",
    "        fpath = os.path.join(dir_fortran, d[fname])\n",
    "        data_dict[dsname] = load_output_file(fpath)\n",
    "    return data_dict\n",
    "    \n",
    "\n",
    "    \n",
    "    "
   ]
  },
  {
   "cell_type": "code",
   "execution_count": 5,
   "metadata": {
    "collapsed": true
   },
   "outputs": [],
   "source": [
    "d = load_lblnew_data(PARAM_LBLNEW)\n",
    "\n",
    "DS_FLUX_CRD = d['ds_flux_crd']\n",
    "DS_COOL_CRD = d['ds_cool_crd']\n",
    "DS_FLUX_WGT = d['ds_flux_wgt']\n",
    "DS_COOL_WGT = d['ds_cool_wgt']"
   ]
  },
  {
   "cell_type": "code",
   "execution_count": 6,
   "metadata": {
    "collapsed": true
   },
   "outputs": [],
   "source": [
    "DIR_FORTRAN = pipe_cliradlw.get_fortran_dir(PARAM, \n",
    "                                            setup=setup_cliradlw)\n",
    "\n",
    "PATH_FLUX = os.path.join(DIR_FORTRAN, 'output_flux.dat')\n",
    "PATH_COOL = os.path.join(DIR_FORTRAN, 'output_coolr.dat')\n",
    "\n",
    "DS_FLUX = load_output_file(PATH_FLUX)\n",
    "DS_COOL = load_output_file(PATH_COOL)"
   ]
  },
  {
   "cell_type": "code",
   "execution_count": 7,
   "metadata": {
    "collapsed": true
   },
   "outputs": [
    {
     "data": {
      "text/html": [
       "\n",
       "    <div class=\"bk-root\">\n",
       "        <a href=\"https://bokeh.pydata.org\" target=\"_blank\" class=\"bk-logo bk-logo-small bk-logo-notebook\"></a>\n",
       "        <span id=\"d23eae6b-5278-4a62-ab45-867e5bdaff27\">Loading BokehJS ...</span>\n",
       "    </div>"
      ]
     },
     "metadata": {},
     "output_type": "display_data"
    },
    {
     "data": {
      "application/javascript": [
       "\n",
       "(function(root) {\n",
       "  function now() {\n",
       "    return new Date();\n",
       "  }\n",
       "\n",
       "  var force = true;\n",
       "\n",
       "  if (typeof (root._bokeh_onload_callbacks) === \"undefined\" || force === true) {\n",
       "    root._bokeh_onload_callbacks = [];\n",
       "    root._bokeh_is_loading = undefined;\n",
       "  }\n",
       "\n",
       "  var JS_MIME_TYPE = 'application/javascript';\n",
       "  var HTML_MIME_TYPE = 'text/html';\n",
       "  var EXEC_MIME_TYPE = 'application/vnd.bokehjs_exec.v0+json';\n",
       "  var CLASS_NAME = 'output_bokeh rendered_html';\n",
       "\n",
       "  /**\n",
       "   * Render data to the DOM node\n",
       "   */\n",
       "  function render(props, node) {\n",
       "    var script = document.createElement(\"script\");\n",
       "    node.appendChild(script);\n",
       "  }\n",
       "\n",
       "  /**\n",
       "   * Handle when an output is cleared or removed\n",
       "   */\n",
       "  function handleClearOutput(event, handle) {\n",
       "    var cell = handle.cell;\n",
       "\n",
       "    var id = cell.output_area._bokeh_element_id;\n",
       "    var server_id = cell.output_area._bokeh_server_id;\n",
       "    // Clean up Bokeh references\n",
       "    if (id !== undefined) {\n",
       "      Bokeh.index[id].model.document.clear();\n",
       "      delete Bokeh.index[id];\n",
       "    }\n",
       "\n",
       "    if (server_id !== undefined) {\n",
       "      // Clean up Bokeh references\n",
       "      var cmd = \"from bokeh.io.state import curstate; print(curstate().uuid_to_server['\" + server_id + \"'].get_sessions()[0].document.roots[0]._id)\";\n",
       "      cell.notebook.kernel.execute(cmd, {\n",
       "        iopub: {\n",
       "          output: function(msg) {\n",
       "            var element_id = msg.content.text.trim();\n",
       "            Bokeh.index[element_id].model.document.clear();\n",
       "            delete Bokeh.index[element_id];\n",
       "          }\n",
       "        }\n",
       "      });\n",
       "      // Destroy server and session\n",
       "      var cmd = \"import bokeh.io.notebook as ion; ion.destroy_server('\" + server_id + \"')\";\n",
       "      cell.notebook.kernel.execute(cmd);\n",
       "    }\n",
       "  }\n",
       "\n",
       "  /**\n",
       "   * Handle when a new output is added\n",
       "   */\n",
       "  function handleAddOutput(event, handle) {\n",
       "    var output_area = handle.output_area;\n",
       "    var output = handle.output;\n",
       "\n",
       "    // limit handleAddOutput to display_data with EXEC_MIME_TYPE content only\n",
       "    if ((output.output_type != \"display_data\") || (!output.data.hasOwnProperty(EXEC_MIME_TYPE))) {\n",
       "      return\n",
       "    }\n",
       "\n",
       "    var toinsert = output_area.element.find(\".\" + CLASS_NAME.split(' ')[0]);\n",
       "\n",
       "    if (output.metadata[EXEC_MIME_TYPE][\"id\"] !== undefined) {\n",
       "      toinsert[toinsert.length - 1].firstChild.textContent = output.data[JS_MIME_TYPE];\n",
       "      // store reference to embed id on output_area\n",
       "      output_area._bokeh_element_id = output.metadata[EXEC_MIME_TYPE][\"id\"];\n",
       "    }\n",
       "    if (output.metadata[EXEC_MIME_TYPE][\"server_id\"] !== undefined) {\n",
       "      var bk_div = document.createElement(\"div\");\n",
       "      bk_div.innerHTML = output.data[HTML_MIME_TYPE];\n",
       "      var script_attrs = bk_div.children[0].attributes;\n",
       "      for (var i = 0; i < script_attrs.length; i++) {\n",
       "        toinsert[toinsert.length - 1].firstChild.setAttribute(script_attrs[i].name, script_attrs[i].value);\n",
       "      }\n",
       "      // store reference to server id on output_area\n",
       "      output_area._bokeh_server_id = output.metadata[EXEC_MIME_TYPE][\"server_id\"];\n",
       "    }\n",
       "  }\n",
       "\n",
       "  function register_renderer(events, OutputArea) {\n",
       "\n",
       "    function append_mime(data, metadata, element) {\n",
       "      // create a DOM node to render to\n",
       "      var toinsert = this.create_output_subarea(\n",
       "        metadata,\n",
       "        CLASS_NAME,\n",
       "        EXEC_MIME_TYPE\n",
       "      );\n",
       "      this.keyboard_manager.register_events(toinsert);\n",
       "      // Render to node\n",
       "      var props = {data: data, metadata: metadata[EXEC_MIME_TYPE]};\n",
       "      render(props, toinsert[toinsert.length - 1]);\n",
       "      element.append(toinsert);\n",
       "      return toinsert\n",
       "    }\n",
       "\n",
       "    /* Handle when an output is cleared or removed */\n",
       "    events.on('clear_output.CodeCell', handleClearOutput);\n",
       "    events.on('delete.Cell', handleClearOutput);\n",
       "\n",
       "    /* Handle when a new output is added */\n",
       "    events.on('output_added.OutputArea', handleAddOutput);\n",
       "\n",
       "    /**\n",
       "     * Register the mime type and append_mime function with output_area\n",
       "     */\n",
       "    OutputArea.prototype.register_mime_type(EXEC_MIME_TYPE, append_mime, {\n",
       "      /* Is output safe? */\n",
       "      safe: true,\n",
       "      /* Index of renderer in `output_area.display_order` */\n",
       "      index: 0\n",
       "    });\n",
       "  }\n",
       "\n",
       "  // register the mime type if in Jupyter Notebook environment and previously unregistered\n",
       "  if (root.Jupyter !== undefined) {\n",
       "    var events = require('base/js/events');\n",
       "    var OutputArea = require('notebook/js/outputarea').OutputArea;\n",
       "\n",
       "    if (OutputArea.prototype.mime_types().indexOf(EXEC_MIME_TYPE) == -1) {\n",
       "      register_renderer(events, OutputArea);\n",
       "    }\n",
       "  }\n",
       "\n",
       "  \n",
       "  if (typeof (root._bokeh_timeout) === \"undefined\" || force === true) {\n",
       "    root._bokeh_timeout = Date.now() + 5000;\n",
       "    root._bokeh_failed_load = false;\n",
       "  }\n",
       "\n",
       "  var NB_LOAD_WARNING = {'data': {'text/html':\n",
       "     \"<div style='background-color: #fdd'>\\n\"+\n",
       "     \"<p>\\n\"+\n",
       "     \"BokehJS does not appear to have successfully loaded. If loading BokehJS from CDN, this \\n\"+\n",
       "     \"may be due to a slow or bad network connection. Possible fixes:\\n\"+\n",
       "     \"</p>\\n\"+\n",
       "     \"<ul>\\n\"+\n",
       "     \"<li>re-rerun `output_notebook()` to attempt to load from CDN again, or</li>\\n\"+\n",
       "     \"<li>use INLINE resources instead, as so:</li>\\n\"+\n",
       "     \"</ul>\\n\"+\n",
       "     \"<code>\\n\"+\n",
       "     \"from bokeh.resources import INLINE\\n\"+\n",
       "     \"output_notebook(resources=INLINE)\\n\"+\n",
       "     \"</code>\\n\"+\n",
       "     \"</div>\"}};\n",
       "\n",
       "  function display_loaded() {\n",
       "    var el = document.getElementById(\"d23eae6b-5278-4a62-ab45-867e5bdaff27\");\n",
       "    if (el != null) {\n",
       "      el.textContent = \"BokehJS is loading...\";\n",
       "    }\n",
       "    if (root.Bokeh !== undefined) {\n",
       "      if (el != null) {\n",
       "        el.textContent = \"BokehJS \" + root.Bokeh.version + \" successfully loaded.\";\n",
       "      }\n",
       "    } else if (Date.now() < root._bokeh_timeout) {\n",
       "      setTimeout(display_loaded, 100)\n",
       "    }\n",
       "  }\n",
       "\n",
       "\n",
       "  function run_callbacks() {\n",
       "    try {\n",
       "      root._bokeh_onload_callbacks.forEach(function(callback) { callback() });\n",
       "    }\n",
       "    finally {\n",
       "      delete root._bokeh_onload_callbacks\n",
       "    }\n",
       "    console.info(\"Bokeh: all callbacks have finished\");\n",
       "  }\n",
       "\n",
       "  function load_libs(js_urls, callback) {\n",
       "    root._bokeh_onload_callbacks.push(callback);\n",
       "    if (root._bokeh_is_loading > 0) {\n",
       "      console.log(\"Bokeh: BokehJS is being loaded, scheduling callback at\", now());\n",
       "      return null;\n",
       "    }\n",
       "    if (js_urls == null || js_urls.length === 0) {\n",
       "      run_callbacks();\n",
       "      return null;\n",
       "    }\n",
       "    console.log(\"Bokeh: BokehJS not loaded, scheduling load and callback at\", now());\n",
       "    root._bokeh_is_loading = js_urls.length;\n",
       "    for (var i = 0; i < js_urls.length; i++) {\n",
       "      var url = js_urls[i];\n",
       "      var s = document.createElement('script');\n",
       "      s.src = url;\n",
       "      s.async = false;\n",
       "      s.onreadystatechange = s.onload = function() {\n",
       "        root._bokeh_is_loading--;\n",
       "        if (root._bokeh_is_loading === 0) {\n",
       "          console.log(\"Bokeh: all BokehJS libraries loaded\");\n",
       "          run_callbacks()\n",
       "        }\n",
       "      };\n",
       "      s.onerror = function() {\n",
       "        console.warn(\"failed to load library \" + url);\n",
       "      };\n",
       "      console.log(\"Bokeh: injecting script tag for BokehJS library: \", url);\n",
       "      document.getElementsByTagName(\"head\")[0].appendChild(s);\n",
       "    }\n",
       "  };var element = document.getElementById(\"d23eae6b-5278-4a62-ab45-867e5bdaff27\");\n",
       "  if (element == null) {\n",
       "    console.log(\"Bokeh: ERROR: autoload.js configured with elementid 'd23eae6b-5278-4a62-ab45-867e5bdaff27' but no matching script tag was found. \")\n",
       "    return false;\n",
       "  }\n",
       "\n",
       "  var js_urls = [\"https://cdn.pydata.org/bokeh/release/bokeh-0.12.16.min.js\", \"https://cdn.pydata.org/bokeh/release/bokeh-widgets-0.12.16.min.js\", \"https://cdn.pydata.org/bokeh/release/bokeh-tables-0.12.16.min.js\", \"https://cdn.pydata.org/bokeh/release/bokeh-gl-0.12.16.min.js\"];\n",
       "\n",
       "  var inline_js = [\n",
       "    function(Bokeh) {\n",
       "      Bokeh.set_log_level(\"info\");\n",
       "    },\n",
       "    \n",
       "    function(Bokeh) {\n",
       "      \n",
       "    },\n",
       "    function(Bokeh) {\n",
       "      console.log(\"Bokeh: injecting CSS: https://cdn.pydata.org/bokeh/release/bokeh-0.12.16.min.css\");\n",
       "      Bokeh.embed.inject_css(\"https://cdn.pydata.org/bokeh/release/bokeh-0.12.16.min.css\");\n",
       "      console.log(\"Bokeh: injecting CSS: https://cdn.pydata.org/bokeh/release/bokeh-widgets-0.12.16.min.css\");\n",
       "      Bokeh.embed.inject_css(\"https://cdn.pydata.org/bokeh/release/bokeh-widgets-0.12.16.min.css\");\n",
       "      console.log(\"Bokeh: injecting CSS: https://cdn.pydata.org/bokeh/release/bokeh-tables-0.12.16.min.css\");\n",
       "      Bokeh.embed.inject_css(\"https://cdn.pydata.org/bokeh/release/bokeh-tables-0.12.16.min.css\");\n",
       "    }\n",
       "  ];\n",
       "\n",
       "  function run_inline_js() {\n",
       "    \n",
       "    if ((root.Bokeh !== undefined) || (force === true)) {\n",
       "      for (var i = 0; i < inline_js.length; i++) {\n",
       "        inline_js[i].call(root, root.Bokeh);\n",
       "      }if (force === true) {\n",
       "        display_loaded();\n",
       "      }} else if (Date.now() < root._bokeh_timeout) {\n",
       "      setTimeout(run_inline_js, 100);\n",
       "    } else if (!root._bokeh_failed_load) {\n",
       "      console.log(\"Bokeh: BokehJS failed to load within specified timeout.\");\n",
       "      root._bokeh_failed_load = true;\n",
       "    } else if (force !== true) {\n",
       "      var cell = $(document.getElementById(\"d23eae6b-5278-4a62-ab45-867e5bdaff27\")).parents('.cell').data().cell;\n",
       "      cell.output_area.append_execute_result(NB_LOAD_WARNING)\n",
       "    }\n",
       "\n",
       "  }\n",
       "\n",
       "  if (root._bokeh_is_loading === 0) {\n",
       "    console.log(\"Bokeh: BokehJS loaded, going straight to plotting\");\n",
       "    run_inline_js();\n",
       "  } else {\n",
       "    load_libs(js_urls, function() {\n",
       "      console.log(\"Bokeh: BokehJS plotting callback run at\", now());\n",
       "      run_inline_js();\n",
       "    });\n",
       "  }\n",
       "}(window));"
      ],
      "application/vnd.bokehjs_load.v0+json": "\n(function(root) {\n  function now() {\n    return new Date();\n  }\n\n  var force = true;\n\n  if (typeof (root._bokeh_onload_callbacks) === \"undefined\" || force === true) {\n    root._bokeh_onload_callbacks = [];\n    root._bokeh_is_loading = undefined;\n  }\n\n  \n\n  \n  if (typeof (root._bokeh_timeout) === \"undefined\" || force === true) {\n    root._bokeh_timeout = Date.now() + 5000;\n    root._bokeh_failed_load = false;\n  }\n\n  var NB_LOAD_WARNING = {'data': {'text/html':\n     \"<div style='background-color: #fdd'>\\n\"+\n     \"<p>\\n\"+\n     \"BokehJS does not appear to have successfully loaded. If loading BokehJS from CDN, this \\n\"+\n     \"may be due to a slow or bad network connection. Possible fixes:\\n\"+\n     \"</p>\\n\"+\n     \"<ul>\\n\"+\n     \"<li>re-rerun `output_notebook()` to attempt to load from CDN again, or</li>\\n\"+\n     \"<li>use INLINE resources instead, as so:</li>\\n\"+\n     \"</ul>\\n\"+\n     \"<code>\\n\"+\n     \"from bokeh.resources import INLINE\\n\"+\n     \"output_notebook(resources=INLINE)\\n\"+\n     \"</code>\\n\"+\n     \"</div>\"}};\n\n  function display_loaded() {\n    var el = document.getElementById(\"d23eae6b-5278-4a62-ab45-867e5bdaff27\");\n    if (el != null) {\n      el.textContent = \"BokehJS is loading...\";\n    }\n    if (root.Bokeh !== undefined) {\n      if (el != null) {\n        el.textContent = \"BokehJS \" + root.Bokeh.version + \" successfully loaded.\";\n      }\n    } else if (Date.now() < root._bokeh_timeout) {\n      setTimeout(display_loaded, 100)\n    }\n  }\n\n\n  function run_callbacks() {\n    try {\n      root._bokeh_onload_callbacks.forEach(function(callback) { callback() });\n    }\n    finally {\n      delete root._bokeh_onload_callbacks\n    }\n    console.info(\"Bokeh: all callbacks have finished\");\n  }\n\n  function load_libs(js_urls, callback) {\n    root._bokeh_onload_callbacks.push(callback);\n    if (root._bokeh_is_loading > 0) {\n      console.log(\"Bokeh: BokehJS is being loaded, scheduling callback at\", now());\n      return null;\n    }\n    if (js_urls == null || js_urls.length === 0) {\n      run_callbacks();\n      return null;\n    }\n    console.log(\"Bokeh: BokehJS not loaded, scheduling load and callback at\", now());\n    root._bokeh_is_loading = js_urls.length;\n    for (var i = 0; i < js_urls.length; i++) {\n      var url = js_urls[i];\n      var s = document.createElement('script');\n      s.src = url;\n      s.async = false;\n      s.onreadystatechange = s.onload = function() {\n        root._bokeh_is_loading--;\n        if (root._bokeh_is_loading === 0) {\n          console.log(\"Bokeh: all BokehJS libraries loaded\");\n          run_callbacks()\n        }\n      };\n      s.onerror = function() {\n        console.warn(\"failed to load library \" + url);\n      };\n      console.log(\"Bokeh: injecting script tag for BokehJS library: \", url);\n      document.getElementsByTagName(\"head\")[0].appendChild(s);\n    }\n  };var element = document.getElementById(\"d23eae6b-5278-4a62-ab45-867e5bdaff27\");\n  if (element == null) {\n    console.log(\"Bokeh: ERROR: autoload.js configured with elementid 'd23eae6b-5278-4a62-ab45-867e5bdaff27' but no matching script tag was found. \")\n    return false;\n  }\n\n  var js_urls = [\"https://cdn.pydata.org/bokeh/release/bokeh-0.12.16.min.js\", \"https://cdn.pydata.org/bokeh/release/bokeh-widgets-0.12.16.min.js\", \"https://cdn.pydata.org/bokeh/release/bokeh-tables-0.12.16.min.js\", \"https://cdn.pydata.org/bokeh/release/bokeh-gl-0.12.16.min.js\"];\n\n  var inline_js = [\n    function(Bokeh) {\n      Bokeh.set_log_level(\"info\");\n    },\n    \n    function(Bokeh) {\n      \n    },\n    function(Bokeh) {\n      console.log(\"Bokeh: injecting CSS: https://cdn.pydata.org/bokeh/release/bokeh-0.12.16.min.css\");\n      Bokeh.embed.inject_css(\"https://cdn.pydata.org/bokeh/release/bokeh-0.12.16.min.css\");\n      console.log(\"Bokeh: injecting CSS: https://cdn.pydata.org/bokeh/release/bokeh-widgets-0.12.16.min.css\");\n      Bokeh.embed.inject_css(\"https://cdn.pydata.org/bokeh/release/bokeh-widgets-0.12.16.min.css\");\n      console.log(\"Bokeh: injecting CSS: https://cdn.pydata.org/bokeh/release/bokeh-tables-0.12.16.min.css\");\n      Bokeh.embed.inject_css(\"https://cdn.pydata.org/bokeh/release/bokeh-tables-0.12.16.min.css\");\n    }\n  ];\n\n  function run_inline_js() {\n    \n    if ((root.Bokeh !== undefined) || (force === true)) {\n      for (var i = 0; i < inline_js.length; i++) {\n        inline_js[i].call(root, root.Bokeh);\n      }if (force === true) {\n        display_loaded();\n      }} else if (Date.now() < root._bokeh_timeout) {\n      setTimeout(run_inline_js, 100);\n    } else if (!root._bokeh_failed_load) {\n      console.log(\"Bokeh: BokehJS failed to load within specified timeout.\");\n      root._bokeh_failed_load = true;\n    } else if (force !== true) {\n      var cell = $(document.getElementById(\"d23eae6b-5278-4a62-ab45-867e5bdaff27\")).parents('.cell').data().cell;\n      cell.output_area.append_execute_result(NB_LOAD_WARNING)\n    }\n\n  }\n\n  if (root._bokeh_is_loading === 0) {\n    console.log(\"Bokeh: BokehJS loaded, going straight to plotting\");\n    run_inline_js();\n  } else {\n    load_libs(js_urls, function() {\n      console.log(\"Bokeh: BokehJS plotting callback run at\", now());\n      run_inline_js();\n    });\n  }\n}(window));"
     },
     "metadata": {},
     "output_type": "display_data"
    }
   ],
   "source": [
    "output_notebook()"
   ]
  },
  {
   "cell_type": "code",
   "execution_count": 8,
   "metadata": {
    "collapsed": true
   },
   "outputs": [],
   "source": [
    "def fmt_cool(ds_in):\n",
    "    ds = ds_in.copy(deep=True)\n",
    "    if 'igg' in ds.dims:\n",
    "        ds = ds.sel(igg=1)\n",
    "\n",
    "    if 'g' in ds.dims:\n",
    "        ds = ds.sum('g')\n",
    "            \n",
    "    if 'band' in ds.dims:\n",
    "        try:\n",
    "            ds = ds.squeeze('band')\n",
    "        except ValueError:\n",
    "            ds = ds.sum('band')\n",
    "                \n",
    "    return ds['coolrg']\n",
    "\n",
    "\n",
    "def pltdata_cooling_1(ds_cool=None,\n",
    "                      ds_cool_crd=None, ds_cool_wgt=None):\n",
    "    \n",
    "\n",
    "\n",
    "    colors = all_palettes['Set1'][4]\n",
    "    data = [{'label': 'CLIRAD `coolr_bands`',\n",
    "             'srs': fmt_cool(ds_cool),\n",
    "             'line_dash': 'dashed', 'line_width': 5,\n",
    "             'color': colors[0], 'alpha': .6},\n",
    "            {'label': 'CRD',\n",
    "             'srs': fmt_cool(ds_cool_crd),\n",
    "             'line_dash': 'solid', 'line_width': 1.5,\n",
    "             'marker': 'circle', 'marker_size': 5,\n",
    "             'color': colors[2], 'alpha': 1,},\n",
    "            {'label': 'WGT igg=10 wgt_flux=2',\n",
    "             'srs': fmt_cool(ds_cool_wgt),\n",
    "             'line_dash': 'solid', 'line_width': 3,\n",
    "             'marker': 'square', 'marker_size': 5,\n",
    "             'color': colors[3], 'alpha': .6}]\n",
    "    return data\n",
    "\n",
    "\n",
    "def nice_xlims(pltdata=None, prange=None):\n",
    "    \n",
    "    def get_slice(srs):\n",
    "        return srs.sel(pressure=slice(*prange))\n",
    "    \n",
    "    srss = [d['srs'] for d in pltdata]\n",
    "    vmin = min([get_slice(srs).min() for srs in srss])\n",
    "    vmax = max([get_slice(srs).max() for srs in srss])\n",
    "    dv = (vmax - vmin) * .01\n",
    "    return float(vmin - dv), float(vmax + dv)\n",
    "    \n",
    "\n",
    "def plt_cooling_bokeh(pltdata=None):\n",
    "    '''\n",
    "    Plot a list of cooling rate profiles using bokeh.\n",
    "    '''\n",
    "    ymin = 1e-2 \n",
    "    ymax = 1020 \n",
    "        \n",
    "    p1 = figure(title=\"Linear pressure scale\", \n",
    "                plot_width=400)        \n",
    "    xmin, xmax = nice_xlims(pltdata, prange=(50, 1050))\n",
    "    for d in pltdata:\n",
    "        if 'marker' in d:\n",
    "            getattr(p1, d['marker'])(d['srs'].values, \n",
    "                    d['srs'].coords['pressure'].values,\n",
    "                    color=d['color'], alpha=.7)\n",
    "        p1.line(d['srs'].values, \n",
    "                d['srs'].coords['pressure'].values,\n",
    "                color=d['color'], alpha=d['alpha'], \n",
    "                line_width=d['line_width'], line_dash=d['line_dash'])\n",
    "    \n",
    "    p1.y_range = Range1d(ymax, ymin)\n",
    "    p1.yaxis.axis_label = 'pressure [mb]'   \n",
    "    p1.x_range = Range1d(xmin, xmax)\n",
    "    p1.xaxis.axis_label = 'cooling rate [K/day]'\n",
    "            \n",
    "    p2 = figure(title='Log pressure scale', y_axis_type='log',\n",
    "                plot_width=560)\n",
    "    xmin, xmax = nice_xlims(pltdata, prange=(.01, 200))\n",
    "    \n",
    "    rs = []\n",
    "    for d in pltdata:\n",
    "        rd = []\n",
    "        if 'marker' in d:\n",
    "            r_mark = getattr(p2, d['marker'])(d['srs'].values, \n",
    "                        d['srs'].coords['pressure'].values,\n",
    "                        color=d['color'], alpha=.7)\n",
    "            rd.append(r_mark)\n",
    "        r_line = p2.line(d['srs'].values, \n",
    "                    d['srs'].coords['pressure'].values,\n",
    "                    color=d['color'], alpha=d['alpha'], \n",
    "                    line_width=d['line_width'], line_dash=d['line_dash'])\n",
    "        rd.append(r_line)\n",
    "      \n",
    "        rs.append(rd)\n",
    "        \n",
    "    p2.y_range = Range1d(ymax, ymin)  \n",
    "    p2.yaxis.axis_label = 'pressure [mb]'\n",
    "    \n",
    "    p2.x_range = Range1d(xmin, xmax)\n",
    "    p2.xaxis.axis_label = 'cooling rate [K/day]'\n",
    "    \n",
    "    items = [(d['label'], r) for r, d in zip(rs, pltdata)]\n",
    "    legend = Legend(items=items, location=(10, -30))\n",
    "    legend.label_text_font_size = '8pt'\n",
    "    \n",
    "    p2.add_layout(legend, 'right')  \n",
    "    \n",
    "    show(gridplot(p1, p2, ncols=2, plot_height=500))\n",
    "    \n",
    "\n",
    "def script_plt_cooling():\n",
    "    pltdata = pltdata_cooling_1(\n",
    "        ds_cool=DS_COOL,\n",
    "        ds_cool_crd=DS_COOL_CRD,\n",
    "        ds_cool_wgt=DS_COOL_WGT)\n",
    "    plt_cooling_bokeh(pltdata=pltdata)\n",
    "    print('''FIGURE. Cooling rate profiles.''')"
   ]
  },
  {
   "cell_type": "code",
   "execution_count": 9,
   "metadata": {
    "collapsed": true
   },
   "outputs": [],
   "source": [
    "def fmt_flux(ds_in):\n",
    "    ds = ds_in.copy(deep=True)\n",
    "    \n",
    "    for l in ('level', 'layer'):\n",
    "        if l in ds.data_vars:\n",
    "            if len(ds[l].dims) > 1:\n",
    "                surface = {d: 0 for d in ds.dims if d != 'pressure'}\n",
    "                coord_level = ds[l][surface]\n",
    "                ds.coords[l] = ('pressure', coord_level)\n",
    "            else:\n",
    "                ds.coords[l] = ('pressure', ds[l])\n",
    "        \n",
    "    ds = ds.isel(pressure=[0, 23, -1])\n",
    "        \n",
    "    if 'igg' in ds.dims:\n",
    "        ds = ds.sel(igg=[1])\n",
    "        ds = ds.squeeze('igg').drop('igg')\n",
    "    \n",
    "    if 'g' in ds.dims:\n",
    "        ds = ds.sum('g')\n",
    "            \n",
    "    if 'band' in ds.dims:\n",
    "        try:\n",
    "            ds = ds.squeeze('band').drop('band')\n",
    "        except ValueError:\n",
    "            ds = ds.sum('band')\n",
    "                \n",
    "    df = ds.to_dataframe()\n",
    "    df = df.set_index('level', append=True)               \n",
    "    return df\n",
    "\n",
    "\n",
    "def tbdata_flux(ds_flux=None, ds_flux_crd=None, ds_flux_wgt=None):\n",
    "    ilevels = [0, 23, -1]\n",
    "            \n",
    "    benchmark = {'label': 'CRD',\n",
    "                 'df': fmt_flux(ds_flux_crd)}\n",
    "    \n",
    "    tbs = [{'label': 'WGT igg=10 wgt_flux=1',\n",
    "            'df': fmt_flux(ds_flux_wgt)},\n",
    "           {'label': 'CLIRAD',\n",
    "            'df': fmt_flux(ds_flux)}]\n",
    "    \n",
    "    data = {'benchmark': benchmark, 'others': tbs}\n",
    "    return data\n",
    "\n",
    "\n",
    "def tb_flux(tbdata=None):\n",
    "    benchmark = tbdata['benchmark']\n",
    "    others = tbdata['others']\n",
    "    \n",
    "    def show_tb(d=None):\n",
    "        display.display(d['df'])\n",
    "        print('Table.', 'Fluxes.', d['label'])\n",
    "        \n",
    "    def show_tbdiff(d0=None, d=None):\n",
    "        df = d['df']\n",
    "        df.index = d0['df'].index\n",
    "        display.display(df - d0['df'])\n",
    "        print('Table.', 'Fluxes.', \n",
    "              '({}) - ({})'.format(d['label'], d0['label']))\n",
    "        \n",
    "    show_tb(benchmark)\n",
    "    for d in others:\n",
    "        show_tb(d)\n",
    "        \n",
    "    for d in others:\n",
    "        show_tbdiff(d=d, d0=benchmark)\n",
    "        \n",
    "        \n",
    "def script_tb_flux():\n",
    "    data = tbdata_flux(ds_flux=DS_FLUX,\n",
    "                       ds_flux_crd=DS_FLUX_CRD,\n",
    "                       ds_flux_wgt=DS_FLUX_WGT)\n",
    "    tb_flux(tbdata=data)"
   ]
  },
  {
   "cell_type": "code",
   "execution_count": 10,
   "metadata": {
    "collapsed": true
   },
   "outputs": [],
   "source": [
    "def band_map():\n",
    "    '''\n",
    "    Maps spectral bands in lblnew to spectral bands in clirad.\n",
    "    '''\n",
    "    lblnew2clirad = {'1': '1',\n",
    "            '2': '2',\n",
    "            '3a': '3',\n",
    "            '3b': '4',\n",
    "            '3c': '5',\n",
    "            '4': '6', \n",
    "            '5': '7',\n",
    "            '6': '8',\n",
    "            '7': '9', \n",
    "            '8': '10',\n",
    "            '9': '11'}\n",
    "    \n",
    "    clirad2lblnew = {clirad: lblnew \n",
    "                     for lblnew, clirad in lblnew2clirad.items()}\n",
    "    return clirad2lblnew\n",
    "\n",
    "\n",
    "def gasbands():\n",
    "    bmap = band_map()\n",
    "    gases = list(PARAM['molecule'].keys())\n",
    "    \n",
    "    bands = [bmap[str(b)] for b in PARAM['band']]\n",
    "    return list(itertools.product(gases, bands))\n",
    "\n",
    "\n",
    "def print_bestfit_params():\n",
    "    print('Best-fit values for each (gas, band)')\n",
    "    print('------------------------------------')\n",
    "    for gas, band in gasbands():\n",
    "        print('o {} band{}'.format(gas, band))\n",
    "        param = bestfits.kdist_params(molecule=gas, band=band)\n",
    "        for name, value in sorted(param.items()):\n",
    "            print(2 * ' ' + '{} = {}'.format(name, value))\n",
    "\n",
    "        \n",
    "def print_input_param():        \n",
    "    for name, value in PARAM.items():\n",
    "        print('{} = {}'.format(name, value))\n",
    "        \n",
    "        \n",
    "def print_lblnew_param():\n",
    "    for name, value in sorted(PARAM_LBLNEW.items()):\n",
    "        print('{} = {}'.format(name, value))\n"
   ]
  },
  {
   "cell_type": "code",
   "execution_count": 11,
   "metadata": {
    "collapsed": true,
    "scrolled": false
   },
   "outputs": [],
   "source": [
    "def show_html(s):\n",
    "    display.display(display.HTML(s))\n",
    "\n",
    "    \n",
    "def show_markdown(s):\n",
    "    display.display(display.Markdown(s))\n",
    "\n",
    "    \n",
    "def script():\n",
    "    \n",
    "    title = '### CLIRAD-LW'\n",
    "    s_input = 'Input Parameters'\n",
    "    s_lblnew_param = 'LBLNEW case compaired against'\n",
    "    s_bestfits = 'Best-fit Parameters'\n",
    "    s_plt_cooling = 'Cooling Rate Profiles'\n",
    "    s_tb_flux = 'Flux Comparison'\n",
    "    \n",
    "    # title\n",
    "    show_markdown('### CLIRAD-LW')\n",
    "    \n",
    "    # TOC\n",
    "    show_markdown('### Table of Contents')\n",
    "    show_html(climahtml.getHTML_hrefanchor(s_input))\n",
    "    show_html(climahtml.getHTML_hrefanchor(s_lblnew_param))\n",
    "    show_html(climahtml.getHTML_hrefanchor(s_plt_cooling))\n",
    "    show_html(climahtml.getHTML_hrefanchor(s_tb_flux))\n",
    "    show_html(climahtml.getHTML_hrefanchor(s_bestfits))\n",
    "    \n",
    "    # Input parameters\n",
    "    show_html(climahtml.getHTML_idanchor(s_input))\n",
    "    show_markdown(climahtml.getMarkdown_sectitle(s_input))\n",
    "    print_input_param()\n",
    "    \n",
    "    # LBLNEW parameters \n",
    "    show_html(climahtml.getHTML_idanchor(s_lblnew_param))\n",
    "    show_markdown(climahtml.getMarkdown_sectitle(s_lblnew_param))\n",
    "    print_lblnew_param()\n",
    "    \n",
    "    # Cooling rate profiles\n",
    "    show_html(climahtml.getHTML_idanchor(s_plt_cooling))\n",
    "    show_markdown(climahtml.getMarkdown_sectitle(s_plt_cooling))\n",
    "    script_plt_cooling()\n",
    "    \n",
    "    # Flux comparison\n",
    "    show_html(climahtml.getHTML_idanchor(s_tb_flux))\n",
    "    show_markdown(climahtml.getMarkdown_sectitle(s_tb_flux))\n",
    "    script_tb_flux()\n",
    "    \n",
    "    # Best-fit values\n",
    "    show_html(climahtml.getHTML_idanchor(s_bestfits))\n",
    "    show_markdown(climahtml.getMarkdown_sectitle(s_bestfits))\n",
    "    print_bestfit_params()\n",
    "   \n",
    "    "
   ]
  },
  {
   "cell_type": "code",
   "execution_count": 12,
   "metadata": {
    "collapsed": true,
    "scrolled": false
   },
   "outputs": [
    {
     "data": {
      "text/markdown": [
       "### CLIRAD-LW"
      ],
      "text/plain": [
       "<IPython.core.display.Markdown object>"
      ]
     },
     "metadata": {},
     "output_type": "display_data"
    },
    {
     "data": {
      "text/markdown": [
       "### Table of Contents"
      ],
      "text/plain": [
       "<IPython.core.display.Markdown object>"
      ]
     },
     "metadata": {},
     "output_type": "display_data"
    },
    {
     "data": {
      "text/html": [
       "<a href=\"#Input_Parameters\">Input Parameters</a>"
      ],
      "text/plain": [
       "<IPython.core.display.HTML object>"
      ]
     },
     "metadata": {},
     "output_type": "display_data"
    },
    {
     "data": {
      "text/html": [
       "<a href=\"#LBLNEW_case_compaired_against\">LBLNEW case compaired against</a>"
      ],
      "text/plain": [
       "<IPython.core.display.HTML object>"
      ]
     },
     "metadata": {},
     "output_type": "display_data"
    },
    {
     "data": {
      "text/html": [
       "<a href=\"#Cooling_Rate_Profiles\">Cooling Rate Profiles</a>"
      ],
      "text/plain": [
       "<IPython.core.display.HTML object>"
      ]
     },
     "metadata": {},
     "output_type": "display_data"
    },
    {
     "data": {
      "text/html": [
       "<a href=\"#Flux_Comparison\">Flux Comparison</a>"
      ],
      "text/plain": [
       "<IPython.core.display.HTML object>"
      ]
     },
     "metadata": {},
     "output_type": "display_data"
    },
    {
     "data": {
      "text/html": [
       "<a href=\"#Best-fit_Parameters\">Best-fit Parameters</a>"
      ],
      "text/plain": [
       "<IPython.core.display.HTML object>"
      ]
     },
     "metadata": {},
     "output_type": "display_data"
    },
    {
     "data": {
      "text/html": [
       "<a id=\"Input_Parameters\"></a>"
      ],
      "text/plain": [
       "<IPython.core.display.HTML object>"
      ]
     },
     "metadata": {},
     "output_type": "display_data"
    },
    {
     "data": {
      "text/markdown": [
       "# Input Parameters"
      ],
      "text/plain": [
       "<IPython.core.display.Markdown object>"
      ]
     },
     "metadata": {},
     "output_type": "display_data"
    },
    {
     "name": "stdout",
     "output_type": "stream",
     "text": [
      "commitnumber = de5d43e\n",
      "molecule = {'h2o': 'atmpro', 'o3': 'atmpro'}\n",
      "band = [7]\n",
      "atmpro = mls\n",
      "tsfc = 294\n"
     ]
    },
    {
     "data": {
      "text/html": [
       "<a id=\"LBLNEW_case_compaired_against\"></a>"
      ],
      "text/plain": [
       "<IPython.core.display.HTML object>"
      ]
     },
     "metadata": {},
     "output_type": "display_data"
    },
    {
     "data": {
      "text/markdown": [
       "# LBLNEW case compaired against"
      ],
      "text/plain": [
       "<IPython.core.display.Markdown object>"
      ]
     },
     "metadata": {},
     "output_type": "display_data"
    },
    {
     "name": "stdout",
     "output_type": "stream",
     "text": [
      "atmpro = mls\n",
      "band = 5\n",
      "commitnumber = 5014a19\n",
      "dv = 0.001\n",
      "molecule = {'h2o': 'atmpro', 'o3': 'atmpro'}\n",
      "nv = 1000\n",
      "tsfc = 294\n"
     ]
    },
    {
     "data": {
      "text/html": [
       "<a id=\"Cooling_Rate_Profiles\"></a>"
      ],
      "text/plain": [
       "<IPython.core.display.HTML object>"
      ]
     },
     "metadata": {},
     "output_type": "display_data"
    },
    {
     "data": {
      "text/markdown": [
       "# Cooling Rate Profiles"
      ],
      "text/plain": [
       "<IPython.core.display.Markdown object>"
      ]
     },
     "metadata": {},
     "output_type": "display_data"
    },
    {
     "data": {
      "text/html": [
       "\n",
       "<div class=\"bk-root\">\n",
       "    <div class=\"bk-plotdiv\" id=\"4d662497-2915-4f34-84a4-517a71cfbf49\"></div>\n",
       "</div>"
      ]
     },
     "metadata": {},
     "output_type": "display_data"
    },
    {
     "data": {
      "application/javascript": [
       "(function(root) {\n",
       "  function embed_document(root) {\n",
       "    \n",
       "  var docs_json = {\"cb430104-f8f7-421c-8d34-34530e38d83a\":{\"roots\":{\"references\":[{\"attributes\":{\"data_source\":{\"id\":\"e91b4395-bbe6-4c96-a6fc-74d4c4af8753\",\"type\":\"ColumnDataSource\"},\"glyph\":{\"id\":\"e59b2140-f947-4833-8c12-0f919dbad9ee\",\"type\":\"Line\"},\"hover_glyph\":null,\"muted_glyph\":null,\"nonselection_glyph\":{\"id\":\"44a83157-3ae3-473b-9739-022c64fb2ac1\",\"type\":\"Line\"},\"selection_glyph\":null,\"view\":{\"id\":\"197ee7ba-7b42-48d0-b074-987b6ab624eb\",\"type\":\"CDSView\"}},\"id\":\"415183c3-6a87-4a6f-b28c-3efd995c4575\",\"type\":\"GlyphRenderer\"},{\"attributes\":{},\"id\":\"3390cbf3-2d45-4019-b82f-2d7a8ce7c9d6\",\"type\":\"BasicTicker\"},{\"attributes\":{\"axis_label\":\"pressure [mb]\",\"formatter\":{\"id\":\"53fb76f4-7be2-4d18-bc38-aa621ae83ff0\",\"type\":\"LogTickFormatter\"},\"plot\":{\"id\":\"aa3224dc-6f80-46b8-a74d-ed2cbe04b968\",\"subtype\":\"Figure\",\"type\":\"Plot\"},\"ticker\":{\"id\":\"a61f35ba-6367-47bc-8edf-abeb5c09247f\",\"type\":\"LogTicker\"}},\"id\":\"b91601e3-50b3-4728-90b7-4938c4370d04\",\"type\":\"LogAxis\"},{\"attributes\":{\"line_alpha\":0.1,\"line_color\":\"#1f77b4\",\"line_dash\":[6],\"line_width\":5,\"x\":{\"field\":\"x\"},\"y\":{\"field\":\"y\"}},\"id\":\"37d78ff8-d896-4dfc-8ef1-42e02126991a\",\"type\":\"Line\"},{\"attributes\":{\"num_minor_ticks\":10},\"id\":\"a61f35ba-6367-47bc-8edf-abeb5c09247f\",\"type\":\"LogTicker\"},{\"attributes\":{\"bottom_units\":\"screen\",\"fill_alpha\":{\"value\":0.5},\"fill_color\":{\"value\":\"lightgrey\"},\"left_units\":\"screen\",\"level\":\"overlay\",\"line_alpha\":{\"value\":1.0},\"line_color\":{\"value\":\"black\"},\"line_dash\":[4,4],\"line_width\":{\"value\":2},\"plot\":null,\"render_mode\":\"css\",\"right_units\":\"screen\",\"top_units\":\"screen\"},\"id\":\"4ae0bb1f-966a-4585-b1d4-8dcc1bb094b2\",\"type\":\"BoxAnnotation\"},{\"attributes\":{\"callback\":null,\"end\":0.01,\"start\":1020},\"id\":\"a10cf631-106e-4b3e-b496-5c80e7ce1724\",\"type\":\"Range1d\"},{\"attributes\":{\"dimension\":1,\"plot\":{\"id\":\"aa3224dc-6f80-46b8-a74d-ed2cbe04b968\",\"subtype\":\"Figure\",\"type\":\"Plot\"},\"ticker\":{\"id\":\"a61f35ba-6367-47bc-8edf-abeb5c09247f\",\"type\":\"LogTicker\"}},\"id\":\"633b70da-cfc9-4ba0-a1a1-1b7170ae88d9\",\"type\":\"Grid\"},{\"attributes\":{\"callback\":null,\"data\":{\"x\":{\"__ndarray__\":\"CooX8qVDn78wNtqViWehv4WzzSBN26S/b6w9TPguqL/iDQvj3mSrvwTRFLO+fq6/IF7NvWS8sL9o/FOO7ymyv0ipTH2VhrO/gyId69DTtL+qgJysKBC2v5M5paICPre/kXbtHBReuL+jrJh3wGi5vz45jkipvrm/WoeMD/8luL8fdEjrIXqtv5w2KgrQw5o/LpMbJMixxT/52xroDNLYP0DeJx6CUOY/ILzRIjbT8T/bsjLQa8L5P0Dr0J/snP4/tfY+VYWG/D/5M7xZg/f2PyzHdZ1X5vA/i6r8vsEv6D9z+x8/n9HhP1Vpi2t8ptk/RxfE1Tu7zD8+sOO/QBCkP7VBDMU0i7i/MulKX2PyyL8aOUUmZBDSvwzaNzl0YdS/mE2hb+JW0r/mDUmQvofPvwiZGlcSj8y/To/5wly5yL9OK2QyRU7DvyH8D9nVHr6/Gim03DReuL+zeJ1MXSuzvwaQpBuWQ66/tWXX9b/nqL8ac5qv2WSkv6SNTlY/SKC/X2xh4+iUmb/Y8QkgT6eTv7Cho27KiYy/IXB59BPKgr8vRy5IivJzvw88df1BRVC/wJwX7u5WZT8X6o/9Y9J4P3bnnKYuXIM/gmij9v/Kij9fFcvU9D6RPwUyv8OCNZU/mLg8c2JRmT+BQeaLPJedP0zOHqKwD6E/5ZnZ38CBoz9DIw2rziOmP8gCqqiP+qg/zJDP0OQHrD8vzdAfakCvP7afH1UzPLE/N7TYWE/Osj+OPMmDGFu0P+rrCMYS7bU/xtC0O9mKtz9VVxCTCD65P9lIjkuHFLs/\",\"dtype\":\"float64\",\"shape\":[75]},\"y\":{\"__ndarray__\":\"S/O/Q+51ND/Sv8nbtpRIP2vylNV0PVE/aTum7souWD/At0SJ8fVgPw3Iuahxymc/MSNhhJWvcD/bTfBN02d3P2zb5nxnaoA/CD5h5MAGhz8NmeH1TyaQP+zrCsc9p5Y/LbKd76fGnz/bLW5ISEmmPww9YvTcQq8/JV2OstnstT8Er5Y7M8G+P0c+r3jqkcU/5h99k6ZBzj88bCIzFzjVP4enV8oyxN0//yH99nXg5D8qOpLLf0jtP5kqGJXUifQ/c9cS8kHP/D+/DpwzojQEQIEmwoanVwxA4lgXt9HgE0BSSZ2AJuIbQAMJih9jjiNA5q4l5INuK0AwTKYKRj0zQNv5fmq8/DpAaCJseHrtQkB/+zpwzoxKQM3MzMzMeFJAZmZmZmZqWEAAAAAAAFxeQM3MzMzMJmJAmpmZmZkfZUBmZmZmZhhoQDMzMzMzEWtAAAAAAAAKbkBmZmZmZoFwQM3MzMzM/XFAMzMzMzN6c0CamZmZmfZ0QAAAAAAAc3ZAZmZmZmbvd0DNzMzMzGt5QDMzMzMz6HpAmpmZmZlkfEAAAAAAAOF9QGZmZmZmXX9AZmZmZuZsgECamZmZGSuBQM3MzMxM6YFAAAAAAICngkAzMzMzs2WDQGZmZmbmI4RAmpmZmRnihEDNzMzMTKCFQAAAAACAXoZAMzMzM7Mch0BmZmZm5tqHQJqZmZkZmYhAzczMzExXiUAAAAAAgBWKQDMzMzOz04pAZmZmZuaRi0CamZmZGVCMQM3MzMxMDo1AAAAAAIDMjUAzMzMzs4qOQGZmZmbmSI9A\",\"dtype\":\"float64\",\"shape\":[75]}},\"selected\":{\"id\":\"50c8cdcd-eed0-4aff-b8f3-2b3b845806a2\",\"type\":\"Selection\"},\"selection_policy\":{\"id\":\"d2722540-44a5-4f3e-a700-a50a3f44b88c\",\"type\":\"UnionRenderers\"}},\"id\":\"aa3505f4-20eb-4b19-9002-7edca06b6cc8\",\"type\":\"ColumnDataSource\"},{\"attributes\":{},\"id\":\"d731c464-a603-4230-8ad9-16d57c38d72d\",\"type\":\"PanTool\"},{\"attributes\":{},\"id\":\"4760b6bf-d96e-48e9-b201-52897a621f31\",\"type\":\"WheelZoomTool\"},{\"attributes\":{\"overlay\":{\"id\":\"4ae0bb1f-966a-4585-b1d4-8dcc1bb094b2\",\"type\":\"BoxAnnotation\"}},\"id\":\"b751b139-54e6-4265-bdee-32c2d309eae5\",\"type\":\"BoxZoomTool\"},{\"attributes\":{},\"id\":\"564fbd8f-bcee-4f79-bf83-3e1107e387df\",\"type\":\"SaveTool\"},{\"attributes\":{},\"id\":\"ddc99b08-22f9-4fbf-bd23-67a425ad2cf9\",\"type\":\"SaveTool\"},{\"attributes\":{},\"id\":\"a2c4e784-4ad3-43d9-9d77-7dec1b1cf60c\",\"type\":\"PanTool\"},{\"attributes\":{},\"id\":\"cac936e5-3a26-4152-ab09-863b27d2a215\",\"type\":\"ResetTool\"},{\"attributes\":{},\"id\":\"e619e5b8-4fc0-4394-867a-071d83597073\",\"type\":\"WheelZoomTool\"},{\"attributes\":{},\"id\":\"35bd41e8-528c-4588-9c17-9e3592fad7ee\",\"type\":\"ResetTool\"},{\"attributes\":{\"axis_label\":\"cooling rate [K/day]\",\"formatter\":{\"id\":\"406f41a2-f084-4d57-9ada-59788a80540b\",\"type\":\"BasicTickFormatter\"},\"plot\":{\"id\":\"aa3224dc-6f80-46b8-a74d-ed2cbe04b968\",\"subtype\":\"Figure\",\"type\":\"Plot\"},\"ticker\":{\"id\":\"fd6b2c84-4b43-4748-bc28-f3c7973dea15\",\"type\":\"BasicTicker\"}},\"id\":\"1a111946-e601-4655-bb37-d73db07f6e50\",\"type\":\"LinearAxis\"},{\"attributes\":{},\"id\":\"f0f06a50-8961-46ff-9e8c-33283a19fe61\",\"type\":\"HelpTool\"},{\"attributes\":{},\"id\":\"114858f1-9830-48a4-8d7c-66365be90422\",\"type\":\"HelpTool\"},{\"attributes\":{\"overlay\":{\"id\":\"3fe9986e-33d1-430e-b791-61b0e3c2fcad\",\"type\":\"BoxAnnotation\"}},\"id\":\"a5651b44-f4a0-4d20-93e4-2f03797f18ca\",\"type\":\"BoxZoomTool\"},{\"attributes\":{\"line_alpha\":0.1,\"line_color\":\"#1f77b4\",\"line_width\":3,\"x\":{\"field\":\"x\"},\"y\":{\"field\":\"y\"}},\"id\":\"44a83157-3ae3-473b-9739-022c64fb2ac1\",\"type\":\"Line\"},{\"attributes\":{\"data_source\":{\"id\":\"19f160cc-cf4a-4346-b114-7315ef84251a\",\"type\":\"ColumnDataSource\"},\"glyph\":{\"id\":\"5ea09072-2c97-407a-a783-56b428df4b2a\",\"type\":\"Line\"},\"hover_glyph\":null,\"muted_glyph\":null,\"nonselection_glyph\":{\"id\":\"21c4c59a-2647-45c1-a22d-d7dc52b46019\",\"type\":\"Line\"},\"selection_glyph\":null,\"view\":{\"id\":\"da7e3ace-aed9-4e23-949e-185c6d3d9e05\",\"type\":\"CDSView\"}},\"id\":\"62fc464e-a67d-4cab-b4f9-6a67eeed1a61\",\"type\":\"GlyphRenderer\"},{\"attributes\":{\"callback\":null,\"data\":{\"x\":{\"__ndarray__\":\"ObSBoTLxo78XKeXMri+mv15vxiltg6q/rsy55h6qrr/BTOjptFKxv+Y6edBtO7O/TUyqxcYNtb+hRUwPXsm2v384QBeqbri/nWtWhR//ub+VmOtdUYS7vxahOzVV/7y/vW0Jbfd6vr9qg1XtgfO/v+8LnvggOsC/jsYEqdIevr9HaR3yItWxv9fggg7ovKA/oqzGr6uLyT8SeJI6IlvcP73B3XrJ1ug/IuqZuRt/8z/j578Hr737P2fJ0j2h7f8/9heL8ECu/D/g9ZmzPgX3P9U2aiowCfE/upA//9rt5z/hhJ29jtPgP1/gJJN0ydY/D/n8au2Bxz+0LlkItySPP+HuasGkW7q/b7qno8rNx7/UHmHeBFvQv59oy3f4xNG/TB9XdgN9z7/OfN6/P0bLv9oF/zJKXcm/a9somTmwxr8IELLqeybCvzuhnfQ6uby/tQcfHzSIt79w5pTWmL2yv1xl5xlt6K2/hpWY1MHbqL+5wmVcC4+kv1xDKj6ek6C/62BLLzROmr+IbpiWyG2Uv04tgbIuEI6/8wctKvUzhL/GDimVF3F2v3GXx1q/uVi/yyuvynkOYj/oKnp8y7B3P6RJdwmmEIM/xqovtR/Vij9f31HaUG6RP5fjFYielJU/P/VHzHfmmT/9EDeBy16eP3N/XZzkhqE/Ve6gOp//oz8tufSpD5amP78LooghRqk/hRPvBQgUrD/nXvABa+muP9r8ObH5y7A/mYRmMncIsj/yhdXHXzSzP+eYt+DIYLQ/+siUrBaatT91nYp3J++2P3OKYKwHfbg/\",\"dtype\":\"float64\",\"shape\":[75]},\"y\":{\"__ndarray__\":\"GhExyth1ND/Sv8nbtpRIP2vylNV0PVE/aTum7souWD/At0SJ8fVgPw3Iuahxymc/MSNhhJWvcD/bTfBN02d3P2zb5nxnaoA/CD5h5MAGhz8NmeH1TyaQP+zrCsc9p5Y/LbKd76fGnz/bLW5ISEmmPww9YvTcQq8/JV2OstnstT8Er5Y7M8G+P0c+r3jqkcU/5h99k6ZBzj88bCIzFzjVP4enV8oyxN0//yH99nXg5D8qOpLLf0jtP5kqGJXUifQ/c9cS8kHP/D+/DpwzojQEQIEmwoanVwxA4lgXt9HgE0BSSZ2AJuIbQAMJih9jjiNA5q4l5INuK0AwTKYKRj0zQNv5fmq8/DpAaCJseHrtQkB/+zpwzoxKQM3MzMzMeFJAZmZmZmZqWEAAAAAAAFxeQM3MzMzMJmJAmpmZmZkfZUBmZmZmZhhoQDMzMzMzEWtAAAAAAAAKbkBmZmZmZoFwQM3MzMzM/XFAMzMzMzN6c0CamZmZmfZ0QAAAAAAAc3ZAZmZmZmbvd0DNzMzMzGt5QDMzMzMz6HpAmpmZmZlkfEAAAAAAAOF9QGZmZmZmXX9AZmZmZuZsgECamZmZGSuBQM3MzMxM6YFAAAAAAICngkAzMzMzs2WDQGZmZmbmI4RAmpmZmRnihEDNzMzMTKCFQAAAAACAXoZAMzMzM7Mch0BmZmZm5tqHQJqZmZkZmYhAzczMzExXiUAAAAAAgBWKQDMzMzOz04pAZmZmZuaRi0CamZmZGVCMQM3MzMxMDo1AAAAAAIDMjUAzMzMzs4qOQGZmZmbmSI9A\",\"dtype\":\"float64\",\"shape\":[75]}},\"selected\":{\"id\":\"e2ee6e7d-c0f2-4f90-bb73-5c6d5b85dd11\",\"type\":\"Selection\"},\"selection_policy\":{\"id\":\"ff9f1e96-9cd3-46f7-b0f5-0cbbc068f798\",\"type\":\"UnionRenderers\"}},\"id\":\"25533df4-758e-4216-904c-009e97903c14\",\"type\":\"ColumnDataSource\"},{\"attributes\":{\"source\":{\"id\":\"e91b4395-bbe6-4c96-a6fc-74d4c4af8753\",\"type\":\"ColumnDataSource\"}},\"id\":\"197ee7ba-7b42-48d0-b074-987b6ab624eb\",\"type\":\"CDSView\"},{\"attributes\":{\"source\":{\"id\":\"aa3505f4-20eb-4b19-9002-7edca06b6cc8\",\"type\":\"ColumnDataSource\"}},\"id\":\"34774b6c-6264-4de4-8117-37ca9c4c36c5\",\"type\":\"CDSView\"},{\"attributes\":{\"bottom_units\":\"screen\",\"fill_alpha\":{\"value\":0.5},\"fill_color\":{\"value\":\"lightgrey\"},\"left_units\":\"screen\",\"level\":\"overlay\",\"line_alpha\":{\"value\":1.0},\"line_color\":{\"value\":\"black\"},\"line_dash\":[4,4],\"line_width\":{\"value\":2},\"plot\":null,\"render_mode\":\"css\",\"right_units\":\"screen\",\"top_units\":\"screen\"},\"id\":\"3fe9986e-33d1-430e-b791-61b0e3c2fcad\",\"type\":\"BoxAnnotation\"},{\"attributes\":{\"data_source\":{\"id\":\"aa3505f4-20eb-4b19-9002-7edca06b6cc8\",\"type\":\"ColumnDataSource\"},\"glyph\":{\"id\":\"d2780940-7aff-493e-9f9b-fb72d1a8185a\",\"type\":\"Line\"},\"hover_glyph\":null,\"muted_glyph\":null,\"nonselection_glyph\":{\"id\":\"37d78ff8-d896-4dfc-8ef1-42e02126991a\",\"type\":\"Line\"},\"selection_glyph\":null,\"view\":{\"id\":\"34774b6c-6264-4de4-8117-37ca9c4c36c5\",\"type\":\"CDSView\"}},\"id\":\"4e6b4662-e7ce-43a7-a5e1-d27910a38bfe\",\"type\":\"GlyphRenderer\"},{\"attributes\":{\"line_alpha\":0.6,\"line_color\":\"#984ea3\",\"line_width\":3,\"x\":{\"field\":\"x\"},\"y\":{\"field\":\"y\"}},\"id\":\"e59b2140-f947-4833-8c12-0f919dbad9ee\",\"type\":\"Line\"},{\"attributes\":{\"below\":[{\"id\":\"1a111946-e601-4655-bb37-d73db07f6e50\",\"type\":\"LinearAxis\"}],\"left\":[{\"id\":\"b91601e3-50b3-4728-90b7-4938c4370d04\",\"type\":\"LogAxis\"}],\"plot_height\":500,\"plot_width\":560,\"renderers\":[{\"id\":\"1a111946-e601-4655-bb37-d73db07f6e50\",\"type\":\"LinearAxis\"},{\"id\":\"ecf3d99c-5f0a-4511-b6b8-24a89ed045cc\",\"type\":\"Grid\"},{\"id\":\"b91601e3-50b3-4728-90b7-4938c4370d04\",\"type\":\"LogAxis\"},{\"id\":\"633b70da-cfc9-4ba0-a1a1-1b7170ae88d9\",\"type\":\"Grid\"},{\"id\":\"4ae0bb1f-966a-4585-b1d4-8dcc1bb094b2\",\"type\":\"BoxAnnotation\"},{\"id\":\"62fc464e-a67d-4cab-b4f9-6a67eeed1a61\",\"type\":\"GlyphRenderer\"},{\"id\":\"54f455c5-311b-4253-85a1-0755cc87d635\",\"type\":\"GlyphRenderer\"},{\"id\":\"ba3aab6e-c592-4a66-9145-9892601a9c71\",\"type\":\"GlyphRenderer\"},{\"id\":\"3f1ed206-0089-4b6f-a3ec-fa392361397e\",\"type\":\"GlyphRenderer\"},{\"id\":\"415183c3-6a87-4a6f-b28c-3efd995c4575\",\"type\":\"GlyphRenderer\"},{\"id\":\"c39030c6-b76b-440f-b9c4-99c67e992ebf\",\"type\":\"Legend\"}],\"right\":[{\"id\":\"c39030c6-b76b-440f-b9c4-99c67e992ebf\",\"type\":\"Legend\"}],\"title\":{\"id\":\"ba334a9b-31fa-4262-add6-44b91924c18f\",\"type\":\"Title\"},\"toolbar\":{\"id\":\"1dea17ec-2baa-47ee-89e8-bc671e4fe01a\",\"type\":\"Toolbar\"},\"toolbar_location\":null,\"x_range\":{\"id\":\"67de2237-eb70-4ece-90de-759b4fd31cf9\",\"type\":\"Range1d\"},\"x_scale\":{\"id\":\"0ec14823-4d64-42af-b9f8-748a8fe515be\",\"type\":\"LinearScale\"},\"y_range\":{\"id\":\"07bf115b-01bf-451b-9c75-bf40883316d0\",\"type\":\"Range1d\"},\"y_scale\":{\"id\":\"34056f38-7a73-4e7a-be43-5a7e75ffd830\",\"type\":\"LogScale\"}},\"id\":\"aa3224dc-6f80-46b8-a74d-ed2cbe04b968\",\"subtype\":\"Figure\",\"type\":\"Plot\"},{\"attributes\":{},\"id\":\"c9f9b431-dba3-4c09-9690-68e67594d2c8\",\"type\":\"BasicTicker\"},{\"attributes\":{\"line_alpha\":0.6,\"line_color\":\"#e41a1c\",\"line_dash\":[6],\"line_width\":5,\"x\":{\"field\":\"x\"},\"y\":{\"field\":\"y\"}},\"id\":\"d2780940-7aff-493e-9f9b-fb72d1a8185a\",\"type\":\"Line\"},{\"attributes\":{},\"id\":\"e159b928-42b6-49b8-a268-192b00a37253\",\"type\":\"LinearScale\"},{\"attributes\":{\"axis_label\":\"cooling rate [K/day]\",\"formatter\":{\"id\":\"701988af-3fa3-4dfb-ab4a-288fb65ce35b\",\"type\":\"BasicTickFormatter\"},\"plot\":{\"id\":\"1f3f4966-cbba-4b19-8d26-84dc8ad6c00d\",\"subtype\":\"Figure\",\"type\":\"Plot\"},\"ticker\":{\"id\":\"c9f9b431-dba3-4c09-9690-68e67594d2c8\",\"type\":\"BasicTicker\"}},\"id\":\"75911f05-525f-4500-bbc2-18d1ebc52805\",\"type\":\"LinearAxis\"},{\"attributes\":{\"callback\":null,\"data\":{\"x\":{\"__ndarray__\":\"EvZQT91kob/O7vZEylujv7Juxq2lJ6e/eiX29ATOqr9ouQ4DzU+uv0Nuw34I17C/JQ2CT/Jxsr8SvF7wIvmzv2+myHXhdLW/PGw2F/7atr8SbSKO0Cq4v4WJx8Q0c7m/uMNPsaS7ur8i5JvxpvC7v4b6Ah8oXLy/3iB7OcM/ur9VD20H8ASuv3XP0+NrjaI/5RdW2KnFyD/SX56EiErbP3xeVP/e9ec/Phf87Dbe8j+SnKeVnfn6P7M3nQnyeP8/dggtNYzs/D/wRSADHr33P0VroFRWDvI/AVSrjqBh6j+At6OsnVDjP8ugHP0W+to/6D/WGQAmzT9Sju2odvWiP1DYv5c02bi/4VdRKLClyL88hzJUxZTRvyl4beMNeNO/iBl1CHdC0b/dQQ1bipbNv/s01TDPDMu/KmYQYfTDx78GvoFNxsbCv9zfj5GihL2/vkC91xgNuL8OqrlOthCzvyDpqKqdT66/6UKYGiIgqb9N+8qpu7ekv+4MeSKNrKC/kijIkOJqmr8fT2jloHyUvxBZ614DL46/0o78uZhKhL8ySrhVLqJ2v2phtmcNE1q/zkQWwlFGYT82pVOXxzN3P0YSXxthuYI//GJROW9hij/nA8ry6iaRP/of8Q+BQZU/zAw8c+aJmT8498nk4/mdP3PxQC+fVqE/RAbOJnvcoz8Q2PjzPYimP6VpUDQPYKk/H61Gg89nrD+cP61vTo+vP8wEPYC3U7E/fL6W8oLRsj8Qt7+Kvki0P2g7UO4RxrU/d3ypD4xStz/fYHIa1/y4P6o61IQn07o/\",\"dtype\":\"float64\",\"shape\":[75]},\"y\":{\"__ndarray__\":\"GhExyth1ND/Sv8nbtpRIP2vylNV0PVE/aTum7souWD/At0SJ8fVgPw3Iuahxymc/MSNhhJWvcD/bTfBN02d3P2zb5nxnaoA/CD5h5MAGhz8NmeH1TyaQP+zrCsc9p5Y/LbKd76fGnz/bLW5ISEmmPww9YvTcQq8/JV2OstnstT8Er5Y7M8G+P0c+r3jqkcU/5h99k6ZBzj88bCIzFzjVP4enV8oyxN0//yH99nXg5D8qOpLLf0jtP5kqGJXUifQ/c9cS8kHP/D+/DpwzojQEQIEmwoanVwxA4lgXt9HgE0BSSZ2AJuIbQAMJih9jjiNA5q4l5INuK0AwTKYKRj0zQNv5fmq8/DpAaCJseHrtQkB/+zpwzoxKQM3MzMzMeFJAZmZmZmZqWEAAAAAAAFxeQM3MzMzMJmJAmpmZmZkfZUBmZmZmZhhoQDMzMzMzEWtAAAAAAAAKbkBmZmZmZoFwQM3MzMzM/XFAMzMzMzN6c0CamZmZmfZ0QAAAAAAAc3ZAZmZmZmbvd0DNzMzMzGt5QDMzMzMz6HpAmpmZmZlkfEAAAAAAAOF9QGZmZmZmXX9AZmZmZuZsgECamZmZGSuBQM3MzMxM6YFAAAAAAICngkAzMzMzs2WDQGZmZmbmI4RAmpmZmRnihEDNzMzMTKCFQAAAAACAXoZAMzMzM7Mch0BmZmZm5tqHQJqZmZkZmYhAzczMzExXiUAAAAAAgBWKQDMzMzOz04pAZmZmZuaRi0CamZmZGVCMQM3MzMxMDo1AAAAAAIDMjUAzMzMzs4qOQGZmZmbmSI9A\",\"dtype\":\"float64\",\"shape\":[75]}},\"selected\":{\"id\":\"c8e893c6-bb5d-4557-b113-0ddac33449a9\",\"type\":\"Selection\"},\"selection_policy\":{\"id\":\"7c7d1803-dbdf-4421-a1cb-e7c2061829bc\",\"type\":\"UnionRenderers\"}},\"id\":\"e91b4395-bbe6-4c96-a6fc-74d4c4af8753\",\"type\":\"ColumnDataSource\"},{\"attributes\":{},\"id\":\"38150545-bda7-46fb-bc14-e07b23b45f08\",\"type\":\"LinearScale\"},{\"attributes\":{\"plot\":{\"id\":\"1f3f4966-cbba-4b19-8d26-84dc8ad6c00d\",\"subtype\":\"Figure\",\"type\":\"Plot\"},\"ticker\":{\"id\":\"c9f9b431-dba3-4c09-9690-68e67594d2c8\",\"type\":\"BasicTicker\"}},\"id\":\"7a32f588-a750-4e03-a418-6aa1e44b9d08\",\"type\":\"Grid\"},{\"attributes\":{\"source\":{\"id\":\"19f160cc-cf4a-4346-b114-7315ef84251a\",\"type\":\"ColumnDataSource\"}},\"id\":\"da7e3ace-aed9-4e23-949e-185c6d3d9e05\",\"type\":\"CDSView\"},{\"attributes\":{\"callback\":null,\"end\":0.1100242911,\"start\":-0.3226904211},\"id\":\"b94c4e2c-ce7b-4e8f-9313-de74609838d7\",\"type\":\"Range1d\"},{\"attributes\":{\"line_alpha\":0.1,\"line_color\":\"#1f77b4\",\"line_dash\":[6],\"line_width\":5,\"x\":{\"field\":\"x\"},\"y\":{\"field\":\"y\"}},\"id\":\"21c4c59a-2647-45c1-a22d-d7dc52b46019\",\"type\":\"Line\"},{\"attributes\":{\"active_drag\":\"auto\",\"active_inspect\":\"auto\",\"active_scroll\":\"auto\",\"active_tap\":\"auto\",\"tools\":[{\"id\":\"a2c4e784-4ad3-43d9-9d77-7dec1b1cf60c\",\"type\":\"PanTool\"},{\"id\":\"e619e5b8-4fc0-4394-867a-071d83597073\",\"type\":\"WheelZoomTool\"},{\"id\":\"a5651b44-f4a0-4d20-93e4-2f03797f18ca\",\"type\":\"BoxZoomTool\"},{\"id\":\"564fbd8f-bcee-4f79-bf83-3e1107e387df\",\"type\":\"SaveTool\"},{\"id\":\"35bd41e8-528c-4588-9c17-9e3592fad7ee\",\"type\":\"ResetTool\"},{\"id\":\"f0f06a50-8961-46ff-9e8c-33283a19fe61\",\"type\":\"HelpTool\"}]},\"id\":\"4f3abb58-f2f4-405e-b033-b7a5f8d65cf2\",\"type\":\"Toolbar\"},{\"attributes\":{\"axis_label\":\"pressure [mb]\",\"formatter\":{\"id\":\"70361e3e-5d97-46e6-8fe2-eeb1b4437539\",\"type\":\"BasicTickFormatter\"},\"plot\":{\"id\":\"1f3f4966-cbba-4b19-8d26-84dc8ad6c00d\",\"subtype\":\"Figure\",\"type\":\"Plot\"},\"ticker\":{\"id\":\"3390cbf3-2d45-4019-b82f-2d7a8ce7c9d6\",\"type\":\"BasicTicker\"}},\"id\":\"6bfcb1f7-2802-4519-89e6-c9b6438b522b\",\"type\":\"LinearAxis\"},{\"attributes\":{\"below\":[{\"id\":\"75911f05-525f-4500-bbc2-18d1ebc52805\",\"type\":\"LinearAxis\"}],\"left\":[{\"id\":\"6bfcb1f7-2802-4519-89e6-c9b6438b522b\",\"type\":\"LinearAxis\"}],\"plot_height\":500,\"plot_width\":400,\"renderers\":[{\"id\":\"75911f05-525f-4500-bbc2-18d1ebc52805\",\"type\":\"LinearAxis\"},{\"id\":\"7a32f588-a750-4e03-a418-6aa1e44b9d08\",\"type\":\"Grid\"},{\"id\":\"6bfcb1f7-2802-4519-89e6-c9b6438b522b\",\"type\":\"LinearAxis\"},{\"id\":\"f98fb5ec-5ee3-4d57-b7f3-e203113f8f89\",\"type\":\"Grid\"},{\"id\":\"3fe9986e-33d1-430e-b791-61b0e3c2fcad\",\"type\":\"BoxAnnotation\"},{\"id\":\"4e6b4662-e7ce-43a7-a5e1-d27910a38bfe\",\"type\":\"GlyphRenderer\"},{\"id\":\"c218bfe3-cabc-4801-aa1a-5830952c13d3\",\"type\":\"GlyphRenderer\"},{\"id\":\"148559b6-712a-4db7-802c-5c4e258c9df9\",\"type\":\"GlyphRenderer\"},{\"id\":\"a827074e-1e09-4fd4-b0c5-1bc3fe0bade7\",\"type\":\"GlyphRenderer\"},{\"id\":\"c9e3b333-7e38-4265-82cb-320b9a0bdc0e\",\"type\":\"GlyphRenderer\"}],\"title\":{\"id\":\"a98c452e-80fd-47a7-aaf7-c3f117382d3b\",\"type\":\"Title\"},\"toolbar\":{\"id\":\"4f3abb58-f2f4-405e-b033-b7a5f8d65cf2\",\"type\":\"Toolbar\"},\"toolbar_location\":null,\"x_range\":{\"id\":\"b94c4e2c-ce7b-4e8f-9313-de74609838d7\",\"type\":\"Range1d\"},\"x_scale\":{\"id\":\"e159b928-42b6-49b8-a268-192b00a37253\",\"type\":\"LinearScale\"},\"y_range\":{\"id\":\"a10cf631-106e-4b3e-b496-5c80e7ce1724\",\"type\":\"Range1d\"},\"y_scale\":{\"id\":\"38150545-bda7-46fb-bc14-e07b23b45f08\",\"type\":\"LinearScale\"}},\"id\":\"1f3f4966-cbba-4b19-8d26-84dc8ad6c00d\",\"subtype\":\"Figure\",\"type\":\"Plot\"},{\"attributes\":{\"source\":{\"id\":\"2cd1d44e-6080-42a5-98d5-4670ff88ce88\",\"type\":\"ColumnDataSource\"}},\"id\":\"f7577367-8198-4083-b89c-ccee143ea099\",\"type\":\"CDSView\"},{\"attributes\":{\"dimension\":1,\"plot\":{\"id\":\"1f3f4966-cbba-4b19-8d26-84dc8ad6c00d\",\"subtype\":\"Figure\",\"type\":\"Plot\"},\"ticker\":{\"id\":\"3390cbf3-2d45-4019-b82f-2d7a8ce7c9d6\",\"type\":\"BasicTicker\"}},\"id\":\"f98fb5ec-5ee3-4d57-b7f3-e203113f8f89\",\"type\":\"Grid\"},{\"attributes\":{\"plot\":null,\"text\":\"Linear pressure scale\"},\"id\":\"a98c452e-80fd-47a7-aaf7-c3f117382d3b\",\"type\":\"Title\"},{\"attributes\":{\"fill_alpha\":{\"value\":0.7},\"fill_color\":{\"value\":\"#4daf4a\"},\"line_alpha\":{\"value\":0.7},\"line_color\":{\"value\":\"#4daf4a\"},\"x\":{\"field\":\"x\"},\"y\":{\"field\":\"y\"}},\"id\":\"b53de9f8-2218-476d-9c9e-77dde7d936a1\",\"type\":\"Circle\"},{\"attributes\":{\"line_color\":\"#4daf4a\",\"line_width\":1.5,\"x\":{\"field\":\"x\"},\"y\":{\"field\":\"y\"}},\"id\":\"3078fec4-2331-479f-9edc-f1b67d256969\",\"type\":\"Line\"},{\"attributes\":{\"fill_alpha\":{\"value\":0.7},\"fill_color\":{\"value\":\"#984ea3\"},\"line_alpha\":{\"value\":0.7},\"line_color\":{\"value\":\"#984ea3\"},\"x\":{\"field\":\"x\"},\"y\":{\"field\":\"y\"}},\"id\":\"b2918e5f-3370-4f21-9713-1f217be19483\",\"type\":\"Square\"},{\"attributes\":{\"callback\":null,\"data\":{\"x\":{\"__ndarray__\":\"ObSBoTLxo78XKeXMri+mv15vxiltg6q/rsy55h6qrr/BTOjptFKxv+Y6edBtO7O/TUyqxcYNtb+hRUwPXsm2v384QBeqbri/nWtWhR//ub+VmOtdUYS7vxahOzVV/7y/vW0Jbfd6vr9qg1XtgfO/v+8LnvggOsC/jsYEqdIevr9HaR3yItWxv9fggg7ovKA/oqzGr6uLyT8SeJI6IlvcP73B3XrJ1ug/IuqZuRt/8z/j578Hr737P2fJ0j2h7f8/9heL8ECu/D/g9ZmzPgX3P9U2aiowCfE/upA//9rt5z/hhJ29jtPgP1/gJJN0ydY/D/n8au2Bxz+0LlkItySPP+HuasGkW7q/b7qno8rNx7/UHmHeBFvQv59oy3f4xNG/TB9XdgN9z7/OfN6/P0bLv9oF/zJKXcm/a9somTmwxr8IELLqeybCvzuhnfQ6uby/tQcfHzSIt79w5pTWmL2yv1xl5xlt6K2/hpWY1MHbqL+5wmVcC4+kv1xDKj6ek6C/62BLLzROmr+IbpiWyG2Uv04tgbIuEI6/8wctKvUzhL/GDimVF3F2v3GXx1q/uVi/yyuvynkOYj/oKnp8y7B3P6RJdwmmEIM/xqovtR/Vij9f31HaUG6RP5fjFYielJU/P/VHzHfmmT/9EDeBy16eP3N/XZzkhqE/Ve6gOp//oz8tufSpD5amP78LooghRqk/hRPvBQgUrD/nXvABa+muP9r8ObH5y7A/mYRmMncIsj/yhdXHXzSzP+eYt+DIYLQ/+siUrBaatT91nYp3J++2P3OKYKwHfbg/\",\"dtype\":\"float64\",\"shape\":[75]},\"y\":{\"__ndarray__\":\"GhExyth1ND/Sv8nbtpRIP2vylNV0PVE/aTum7souWD/At0SJ8fVgPw3Iuahxymc/MSNhhJWvcD/bTfBN02d3P2zb5nxnaoA/CD5h5MAGhz8NmeH1TyaQP+zrCsc9p5Y/LbKd76fGnz/bLW5ISEmmPww9YvTcQq8/JV2OstnstT8Er5Y7M8G+P0c+r3jqkcU/5h99k6ZBzj88bCIzFzjVP4enV8oyxN0//yH99nXg5D8qOpLLf0jtP5kqGJXUifQ/c9cS8kHP/D+/DpwzojQEQIEmwoanVwxA4lgXt9HgE0BSSZ2AJuIbQAMJih9jjiNA5q4l5INuK0AwTKYKRj0zQNv5fmq8/DpAaCJseHrtQkB/+zpwzoxKQM3MzMzMeFJAZmZmZmZqWEAAAAAAAFxeQM3MzMzMJmJAmpmZmZkfZUBmZmZmZhhoQDMzMzMzEWtAAAAAAAAKbkBmZmZmZoFwQM3MzMzM/XFAMzMzMzN6c0CamZmZmfZ0QAAAAAAAc3ZAZmZmZmbvd0DNzMzMzGt5QDMzMzMz6HpAmpmZmZlkfEAAAAAAAOF9QGZmZmZmXX9AZmZmZuZsgECamZmZGSuBQM3MzMxM6YFAAAAAAICngkAzMzMzs2WDQGZmZmbmI4RAmpmZmRnihEDNzMzMTKCFQAAAAACAXoZAMzMzM7Mch0BmZmZm5tqHQJqZmZkZmYhAzczMzExXiUAAAAAAgBWKQDMzMzOz04pAZmZmZuaRi0CamZmZGVCMQM3MzMxMDo1AAAAAAIDMjUAzMzMzs4qOQGZmZmbmSI9A\",\"dtype\":\"float64\",\"shape\":[75]}},\"selected\":{\"id\":\"5c5a657c-9549-4ac8-95fc-a1d7b97b69fb\",\"type\":\"Selection\"},\"selection_policy\":{\"id\":\"e0b889e6-5a06-42eb-90f7-7d32976ab954\",\"type\":\"UnionRenderers\"}},\"id\":\"91d161ad-a48b-408f-8b09-b0c570ea20c4\",\"type\":\"ColumnDataSource\"},{\"attributes\":{\"data_source\":{\"id\":\"91d161ad-a48b-408f-8b09-b0c570ea20c4\",\"type\":\"ColumnDataSource\"},\"glyph\":{\"id\":\"fb547caa-dbc0-493a-a33a-c90d3d437bae\",\"type\":\"Line\"},\"hover_glyph\":null,\"muted_glyph\":null,\"nonselection_glyph\":{\"id\":\"0d6e2105-b89e-4f1f-b3eb-826fa3894e1f\",\"type\":\"Line\"},\"selection_glyph\":null,\"view\":{\"id\":\"f413a78d-e08d-4043-b36c-29133f09dc6b\",\"type\":\"CDSView\"}},\"id\":\"ba3aab6e-c592-4a66-9145-9892601a9c71\",\"type\":\"GlyphRenderer\"},{\"attributes\":{\"source\":{\"id\":\"91d161ad-a48b-408f-8b09-b0c570ea20c4\",\"type\":\"ColumnDataSource\"}},\"id\":\"f413a78d-e08d-4043-b36c-29133f09dc6b\",\"type\":\"CDSView\"},{\"attributes\":{\"line_alpha\":0.1,\"line_color\":\"#1f77b4\",\"line_width\":1.5,\"x\":{\"field\":\"x\"},\"y\":{\"field\":\"y\"}},\"id\":\"0d6e2105-b89e-4f1f-b3eb-826fa3894e1f\",\"type\":\"Line\"},{\"attributes\":{\"fill_alpha\":{\"value\":0.1},\"fill_color\":{\"value\":\"#1f77b4\"},\"line_alpha\":{\"value\":0.1},\"line_color\":{\"value\":\"#1f77b4\"},\"x\":{\"field\":\"x\"},\"y\":{\"field\":\"y\"}},\"id\":\"3375d9ea-933d-4ee1-aabe-e1c4fa90b176\",\"type\":\"Circle\"},{\"attributes\":{},\"id\":\"34056f38-7a73-4e7a-be43-5a7e75ffd830\",\"type\":\"LogScale\"},{\"attributes\":{\"callback\":null,\"data\":{\"x\":{\"__ndarray__\":\"ObSBoTLxo78XKeXMri+mv15vxiltg6q/rsy55h6qrr/BTOjptFKxv+Y6edBtO7O/TUyqxcYNtb+hRUwPXsm2v384QBeqbri/nWtWhR//ub+VmOtdUYS7vxahOzVV/7y/vW0Jbfd6vr9qg1XtgfO/v+8LnvggOsC/jsYEqdIevr9HaR3yItWxv9fggg7ovKA/oqzGr6uLyT8SeJI6IlvcP73B3XrJ1ug/IuqZuRt/8z/j578Hr737P2fJ0j2h7f8/9heL8ECu/D/g9ZmzPgX3P9U2aiowCfE/upA//9rt5z/hhJ29jtPgP1/gJJN0ydY/D/n8au2Bxz+0LlkItySPP+HuasGkW7q/b7qno8rNx7/UHmHeBFvQv59oy3f4xNG/TB9XdgN9z7/OfN6/P0bLv9oF/zJKXcm/a9somTmwxr8IELLqeybCvzuhnfQ6uby/tQcfHzSIt79w5pTWmL2yv1xl5xlt6K2/hpWY1MHbqL+5wmVcC4+kv1xDKj6ek6C/62BLLzROmr+IbpiWyG2Uv04tgbIuEI6/8wctKvUzhL/GDimVF3F2v3GXx1q/uVi/yyuvynkOYj/oKnp8y7B3P6RJdwmmEIM/xqovtR/Vij9f31HaUG6RP5fjFYielJU/P/VHzHfmmT/9EDeBy16eP3N/XZzkhqE/Ve6gOp//oz8tufSpD5amP78LooghRqk/hRPvBQgUrD/nXvABa+muP9r8ObH5y7A/mYRmMncIsj/yhdXHXzSzP+eYt+DIYLQ/+siUrBaatT91nYp3J++2P3OKYKwHfbg/\",\"dtype\":\"float64\",\"shape\":[75]},\"y\":{\"__ndarray__\":\"GhExyth1ND/Sv8nbtpRIP2vylNV0PVE/aTum7souWD/At0SJ8fVgPw3Iuahxymc/MSNhhJWvcD/bTfBN02d3P2zb5nxnaoA/CD5h5MAGhz8NmeH1TyaQP+zrCsc9p5Y/LbKd76fGnz/bLW5ISEmmPww9YvTcQq8/JV2OstnstT8Er5Y7M8G+P0c+r3jqkcU/5h99k6ZBzj88bCIzFzjVP4enV8oyxN0//yH99nXg5D8qOpLLf0jtP5kqGJXUifQ/c9cS8kHP/D+/DpwzojQEQIEmwoanVwxA4lgXt9HgE0BSSZ2AJuIbQAMJih9jjiNA5q4l5INuK0AwTKYKRj0zQNv5fmq8/DpAaCJseHrtQkB/+zpwzoxKQM3MzMzMeFJAZmZmZmZqWEAAAAAAAFxeQM3MzMzMJmJAmpmZmZkfZUBmZmZmZhhoQDMzMzMzEWtAAAAAAAAKbkBmZmZmZoFwQM3MzMzM/XFAMzMzMzN6c0CamZmZmfZ0QAAAAAAAc3ZAZmZmZmbvd0DNzMzMzGt5QDMzMzMz6HpAmpmZmZlkfEAAAAAAAOF9QGZmZmZmXX9AZmZmZuZsgECamZmZGSuBQM3MzMxM6YFAAAAAAICngkAzMzMzs2WDQGZmZmbmI4RAmpmZmRnihEDNzMzMTKCFQAAAAACAXoZAMzMzM7Mch0BmZmZm5tqHQJqZmZkZmYhAzczMzExXiUAAAAAAgBWKQDMzMzOz04pAZmZmZuaRi0CamZmZGVCMQM3MzMxMDo1AAAAAAIDMjUAzMzMzs4qOQGZmZmbmSI9A\",\"dtype\":\"float64\",\"shape\":[75]}},\"selected\":{\"id\":\"c6ff3ea3-1a40-4be3-93a1-de6a18f4d12f\",\"type\":\"Selection\"},\"selection_policy\":{\"id\":\"2e35668e-e3c9-45a0-aac4-0f83669503e5\",\"type\":\"UnionRenderers\"}},\"id\":\"6bf4d10a-b5a7-40c3-80fa-64b0526a0b03\",\"type\":\"ColumnDataSource\"},{\"attributes\":{\"callback\":null,\"data\":{\"x\":{\"__ndarray__\":\"EvZQT91kob/O7vZEylujv7Juxq2lJ6e/eiX29ATOqr9ouQ4DzU+uv0Nuw34I17C/JQ2CT/Jxsr8SvF7wIvmzv2+myHXhdLW/PGw2F/7atr8SbSKO0Cq4v4WJx8Q0c7m/uMNPsaS7ur8i5JvxpvC7v4b6Ah8oXLy/3iB7OcM/ur9VD20H8ASuv3XP0+NrjaI/5RdW2KnFyD/SX56EiErbP3xeVP/e9ec/Phf87Dbe8j+SnKeVnfn6P7M3nQnyeP8/dggtNYzs/D/wRSADHr33P0VroFRWDvI/AVSrjqBh6j+At6OsnVDjP8ugHP0W+to/6D/WGQAmzT9Sju2odvWiP1DYv5c02bi/4VdRKLClyL88hzJUxZTRvyl4beMNeNO/iBl1CHdC0b/dQQ1bipbNv/s01TDPDMu/KmYQYfTDx78GvoFNxsbCv9zfj5GihL2/vkC91xgNuL8OqrlOthCzvyDpqKqdT66/6UKYGiIgqb9N+8qpu7ekv+4MeSKNrKC/kijIkOJqmr8fT2jloHyUvxBZ614DL46/0o78uZhKhL8ySrhVLqJ2v2phtmcNE1q/zkQWwlFGYT82pVOXxzN3P0YSXxthuYI//GJROW9hij/nA8ry6iaRP/of8Q+BQZU/zAw8c+aJmT8498nk4/mdP3PxQC+fVqE/RAbOJnvcoz8Q2PjzPYimP6VpUDQPYKk/H61Gg89nrD+cP61vTo+vP8wEPYC3U7E/fL6W8oLRsj8Qt7+Kvki0P2g7UO4RxrU/d3ypD4xStz/fYHIa1/y4P6o61IQn07o/\",\"dtype\":\"float64\",\"shape\":[75]},\"y\":{\"__ndarray__\":\"GhExyth1ND/Sv8nbtpRIP2vylNV0PVE/aTum7souWD/At0SJ8fVgPw3Iuahxymc/MSNhhJWvcD/bTfBN02d3P2zb5nxnaoA/CD5h5MAGhz8NmeH1TyaQP+zrCsc9p5Y/LbKd76fGnz/bLW5ISEmmPww9YvTcQq8/JV2OstnstT8Er5Y7M8G+P0c+r3jqkcU/5h99k6ZBzj88bCIzFzjVP4enV8oyxN0//yH99nXg5D8qOpLLf0jtP5kqGJXUifQ/c9cS8kHP/D+/DpwzojQEQIEmwoanVwxA4lgXt9HgE0BSSZ2AJuIbQAMJih9jjiNA5q4l5INuK0AwTKYKRj0zQNv5fmq8/DpAaCJseHrtQkB/+zpwzoxKQM3MzMzMeFJAZmZmZmZqWEAAAAAAAFxeQM3MzMzMJmJAmpmZmZkfZUBmZmZmZhhoQDMzMzMzEWtAAAAAAAAKbkBmZmZmZoFwQM3MzMzM/XFAMzMzMzN6c0CamZmZmfZ0QAAAAAAAc3ZAZmZmZmbvd0DNzMzMzGt5QDMzMzMz6HpAmpmZmZlkfEAAAAAAAOF9QGZmZmZmXX9AZmZmZuZsgECamZmZGSuBQM3MzMxM6YFAAAAAAICngkAzMzMzs2WDQGZmZmbmI4RAmpmZmRnihEDNzMzMTKCFQAAAAACAXoZAMzMzM7Mch0BmZmZm5tqHQJqZmZkZmYhAzczMzExXiUAAAAAAgBWKQDMzMzOz04pAZmZmZuaRi0CamZmZGVCMQM3MzMxMDo1AAAAAAIDMjUAzMzMzs4qOQGZmZmbmSI9A\",\"dtype\":\"float64\",\"shape\":[75]}},\"selected\":{\"id\":\"a9a5e461-f146-451a-b953-5c45371b5b09\",\"type\":\"Selection\"},\"selection_policy\":{\"id\":\"ea7d3c2a-f27f-4ee1-a4df-1479674e3d24\",\"type\":\"UnionRenderers\"}},\"id\":\"2cd1d44e-6080-42a5-98d5-4670ff88ce88\",\"type\":\"ColumnDataSource\"},{\"attributes\":{\"data_source\":{\"id\":\"25533df4-758e-4216-904c-009e97903c14\",\"type\":\"ColumnDataSource\"},\"glyph\":{\"id\":\"b53de9f8-2218-476d-9c9e-77dde7d936a1\",\"type\":\"Circle\"},\"hover_glyph\":null,\"muted_glyph\":null,\"nonselection_glyph\":{\"id\":\"3375d9ea-933d-4ee1-aabe-e1c4fa90b176\",\"type\":\"Circle\"},\"selection_glyph\":null,\"view\":{\"id\":\"a07f2b67-15cf-4b4e-b32a-a46d7a340465\",\"type\":\"CDSView\"}},\"id\":\"54f455c5-311b-4253-85a1-0755cc87d635\",\"type\":\"GlyphRenderer\"},{\"attributes\":{\"fill_alpha\":{\"value\":0.7},\"fill_color\":{\"value\":\"#984ea3\"},\"line_alpha\":{\"value\":0.7},\"line_color\":{\"value\":\"#984ea3\"},\"x\":{\"field\":\"x\"},\"y\":{\"field\":\"y\"}},\"id\":\"866152b9-eb37-4c03-926c-77e6af474977\",\"type\":\"Square\"},{\"attributes\":{\"children\":[{\"id\":\"ea17dfe2-e5de-4a2d-b23f-f72d7abfd516\",\"type\":\"Row\"}]},\"id\":\"3245c9e9-b83f-4d9c-95a8-4542aba31dcf\",\"type\":\"Column\"},{\"attributes\":{\"data_source\":{\"id\":\"6ceee61e-e324-4115-b0da-514b59771496\",\"type\":\"ColumnDataSource\"},\"glyph\":{\"id\":\"40ea23de-ab34-4a54-9957-6c334e7a3995\",\"type\":\"Circle\"},\"hover_glyph\":null,\"muted_glyph\":null,\"nonselection_glyph\":{\"id\":\"2e0ccc80-7c9c-410f-8e42-a8bdb4ee59d2\",\"type\":\"Circle\"},\"selection_glyph\":null,\"view\":{\"id\":\"023699c6-3cc8-413f-adb6-8ebc23a2eab5\",\"type\":\"CDSView\"}},\"id\":\"c218bfe3-cabc-4801-aa1a-5830952c13d3\",\"type\":\"GlyphRenderer\"},{\"attributes\":{},\"id\":\"70361e3e-5d97-46e6-8fe2-eeb1b4437539\",\"type\":\"BasicTickFormatter\"},{\"attributes\":{\"source\":{\"id\":\"25533df4-758e-4216-904c-009e97903c14\",\"type\":\"ColumnDataSource\"}},\"id\":\"a07f2b67-15cf-4b4e-b32a-a46d7a340465\",\"type\":\"CDSView\"},{\"attributes\":{\"fill_alpha\":{\"value\":0.1},\"fill_color\":{\"value\":\"#1f77b4\"},\"line_alpha\":{\"value\":0.1},\"line_color\":{\"value\":\"#1f77b4\"},\"x\":{\"field\":\"x\"},\"y\":{\"field\":\"y\"}},\"id\":\"48c9c9c6-0da0-4127-9183-c7d29340107e\",\"type\":\"Square\"},{\"attributes\":{\"line_color\":\"#4daf4a\",\"line_width\":1.5,\"x\":{\"field\":\"x\"},\"y\":{\"field\":\"y\"}},\"id\":\"fb547caa-dbc0-493a-a33a-c90d3d437bae\",\"type\":\"Line\"},{\"attributes\":{\"data_source\":{\"id\":\"2cd1d44e-6080-42a5-98d5-4670ff88ce88\",\"type\":\"ColumnDataSource\"},\"glyph\":{\"id\":\"866152b9-eb37-4c03-926c-77e6af474977\",\"type\":\"Square\"},\"hover_glyph\":null,\"muted_glyph\":null,\"nonselection_glyph\":{\"id\":\"48c9c9c6-0da0-4127-9183-c7d29340107e\",\"type\":\"Square\"},\"selection_glyph\":null,\"view\":{\"id\":\"f7577367-8198-4083-b89c-ccee143ea099\",\"type\":\"CDSView\"}},\"id\":\"3f1ed206-0089-4b6f-a3ec-fa392361397e\",\"type\":\"GlyphRenderer\"},{\"attributes\":{\"callback\":null,\"end\":0.01,\"start\":1020},\"id\":\"07bf115b-01bf-451b-9c75-bf40883316d0\",\"type\":\"Range1d\"},{\"attributes\":{},\"id\":\"d2722540-44a5-4f3e-a700-a50a3f44b88c\",\"type\":\"UnionRenderers\"},{\"attributes\":{},\"id\":\"701988af-3fa3-4dfb-ab4a-288fb65ce35b\",\"type\":\"BasicTickFormatter\"},{\"attributes\":{\"plot\":null,\"text\":\"Log pressure scale\"},\"id\":\"ba334a9b-31fa-4262-add6-44b91924c18f\",\"type\":\"Title\"},{\"attributes\":{\"label\":{\"value\":\"CLIRAD `coolr_bands`\"},\"renderers\":[{\"id\":\"62fc464e-a67d-4cab-b4f9-6a67eeed1a61\",\"type\":\"GlyphRenderer\"}]},\"id\":\"db2bc0a9-4c2a-4132-87de-f9d5755aac2c\",\"type\":\"LegendItem\"},{\"attributes\":{\"items\":[{\"id\":\"db2bc0a9-4c2a-4132-87de-f9d5755aac2c\",\"type\":\"LegendItem\"},{\"id\":\"4916ccd3-f8f0-4622-b6d8-ab129a3ec33d\",\"type\":\"LegendItem\"},{\"id\":\"ad270b82-e95b-494d-b27a-bd2deddeb6ab\",\"type\":\"LegendItem\"}],\"label_text_font_size\":{\"value\":\"8pt\"},\"location\":[10,-30],\"plot\":{\"id\":\"aa3224dc-6f80-46b8-a74d-ed2cbe04b968\",\"subtype\":\"Figure\",\"type\":\"Plot\"}},\"id\":\"c39030c6-b76b-440f-b9c4-99c67e992ebf\",\"type\":\"Legend\"},{\"attributes\":{\"source\":{\"id\":\"3ae3a4d4-72bf-4bce-91db-6d7511e33b7b\",\"type\":\"ColumnDataSource\"}},\"id\":\"0f4652c8-df53-467b-8c6f-599e184ec60c\",\"type\":\"CDSView\"},{\"attributes\":{\"ticker\":null},\"id\":\"53fb76f4-7be2-4d18-bc38-aa621ae83ff0\",\"type\":\"LogTickFormatter\"},{\"attributes\":{\"label\":{\"value\":\"CRD\"},\"renderers\":[{\"id\":\"54f455c5-311b-4253-85a1-0755cc87d635\",\"type\":\"GlyphRenderer\"},{\"id\":\"ba3aab6e-c592-4a66-9145-9892601a9c71\",\"type\":\"GlyphRenderer\"}]},\"id\":\"4916ccd3-f8f0-4622-b6d8-ab129a3ec33d\",\"type\":\"LegendItem\"},{\"attributes\":{},\"id\":\"253d3c67-6c80-414b-afd6-6cd7697e251a\",\"type\":\"UnionRenderers\"},{\"attributes\":{\"callback\":null,\"data\":{\"x\":{\"__ndarray__\":\"EvZQT91kob/O7vZEylujv7Juxq2lJ6e/eiX29ATOqr9ouQ4DzU+uv0Nuw34I17C/JQ2CT/Jxsr8SvF7wIvmzv2+myHXhdLW/PGw2F/7atr8SbSKO0Cq4v4WJx8Q0c7m/uMNPsaS7ur8i5JvxpvC7v4b6Ah8oXLy/3iB7OcM/ur9VD20H8ASuv3XP0+NrjaI/5RdW2KnFyD/SX56EiErbP3xeVP/e9ec/Phf87Dbe8j+SnKeVnfn6P7M3nQnyeP8/dggtNYzs/D/wRSADHr33P0VroFRWDvI/AVSrjqBh6j+At6OsnVDjP8ugHP0W+to/6D/WGQAmzT9Sju2odvWiP1DYv5c02bi/4VdRKLClyL88hzJUxZTRvyl4beMNeNO/iBl1CHdC0b/dQQ1bipbNv/s01TDPDMu/KmYQYfTDx78GvoFNxsbCv9zfj5GihL2/vkC91xgNuL8OqrlOthCzvyDpqKqdT66/6UKYGiIgqb9N+8qpu7ekv+4MeSKNrKC/kijIkOJqmr8fT2jloHyUvxBZ614DL46/0o78uZhKhL8ySrhVLqJ2v2phtmcNE1q/zkQWwlFGYT82pVOXxzN3P0YSXxthuYI//GJROW9hij/nA8ry6iaRP/of8Q+BQZU/zAw8c+aJmT8498nk4/mdP3PxQC+fVqE/RAbOJnvcoz8Q2PjzPYimP6VpUDQPYKk/H61Gg89nrD+cP61vTo+vP8wEPYC3U7E/fL6W8oLRsj8Qt7+Kvki0P2g7UO4RxrU/d3ypD4xStz/fYHIa1/y4P6o61IQn07o/\",\"dtype\":\"float64\",\"shape\":[75]},\"y\":{\"__ndarray__\":\"GhExyth1ND/Sv8nbtpRIP2vylNV0PVE/aTum7souWD/At0SJ8fVgPw3Iuahxymc/MSNhhJWvcD/bTfBN02d3P2zb5nxnaoA/CD5h5MAGhz8NmeH1TyaQP+zrCsc9p5Y/LbKd76fGnz/bLW5ISEmmPww9YvTcQq8/JV2OstnstT8Er5Y7M8G+P0c+r3jqkcU/5h99k6ZBzj88bCIzFzjVP4enV8oyxN0//yH99nXg5D8qOpLLf0jtP5kqGJXUifQ/c9cS8kHP/D+/DpwzojQEQIEmwoanVwxA4lgXt9HgE0BSSZ2AJuIbQAMJih9jjiNA5q4l5INuK0AwTKYKRj0zQNv5fmq8/DpAaCJseHrtQkB/+zpwzoxKQM3MzMzMeFJAZmZmZmZqWEAAAAAAAFxeQM3MzMzMJmJAmpmZmZkfZUBmZmZmZhhoQDMzMzMzEWtAAAAAAAAKbkBmZmZmZoFwQM3MzMzM/XFAMzMzMzN6c0CamZmZmfZ0QAAAAAAAc3ZAZmZmZmbvd0DNzMzMzGt5QDMzMzMz6HpAmpmZmZlkfEAAAAAAAOF9QGZmZmZmXX9AZmZmZuZsgECamZmZGSuBQM3MzMxM6YFAAAAAAICngkAzMzMzs2WDQGZmZmbmI4RAmpmZmRnihEDNzMzMTKCFQAAAAACAXoZAMzMzM7Mch0BmZmZm5tqHQJqZmZkZmYhAzczMzExXiUAAAAAAgBWKQDMzMzOz04pAZmZmZuaRi0CamZmZGVCMQM3MzMxMDo1AAAAAAIDMjUAzMzMzs4qOQGZmZmbmSI9A\",\"dtype\":\"float64\",\"shape\":[75]}},\"selected\":{\"id\":\"38f6ac62-c7d6-4f85-9d20-463b6f35667b\",\"type\":\"Selection\"},\"selection_policy\":{\"id\":\"7d6c4843-ccdb-428f-ae33-58da68d5df3f\",\"type\":\"UnionRenderers\"}},\"id\":\"ff9e6714-8483-4f99-a044-476b165f68bb\",\"type\":\"ColumnDataSource\"},{\"attributes\":{\"label\":{\"value\":\"WGT igg=10 wgt_flux=2\"},\"renderers\":[{\"id\":\"3f1ed206-0089-4b6f-a3ec-fa392361397e\",\"type\":\"GlyphRenderer\"},{\"id\":\"415183c3-6a87-4a6f-b28c-3efd995c4575\",\"type\":\"GlyphRenderer\"}]},\"id\":\"ad270b82-e95b-494d-b27a-bd2deddeb6ab\",\"type\":\"LegendItem\"},{\"attributes\":{},\"id\":\"50c8cdcd-eed0-4aff-b8f3-2b3b845806a2\",\"type\":\"Selection\"},{\"attributes\":{\"children\":[{\"id\":\"1f3f4966-cbba-4b19-8d26-84dc8ad6c00d\",\"subtype\":\"Figure\",\"type\":\"Plot\"},{\"id\":\"aa3224dc-6f80-46b8-a74d-ed2cbe04b968\",\"subtype\":\"Figure\",\"type\":\"Plot\"}]},\"id\":\"ea17dfe2-e5de-4a2d-b23f-f72d7abfd516\",\"type\":\"Row\"},{\"attributes\":{\"callback\":null,\"data\":{\"x\":{\"__ndarray__\":\"ObSBoTLxo78XKeXMri+mv15vxiltg6q/rsy55h6qrr/BTOjptFKxv+Y6edBtO7O/TUyqxcYNtb+hRUwPXsm2v384QBeqbri/nWtWhR//ub+VmOtdUYS7vxahOzVV/7y/vW0Jbfd6vr9qg1XtgfO/v+8LnvggOsC/jsYEqdIevr9HaR3yItWxv9fggg7ovKA/oqzGr6uLyT8SeJI6IlvcP73B3XrJ1ug/IuqZuRt/8z/j578Hr737P2fJ0j2h7f8/9heL8ECu/D/g9ZmzPgX3P9U2aiowCfE/upA//9rt5z/hhJ29jtPgP1/gJJN0ydY/D/n8au2Bxz+0LlkItySPP+HuasGkW7q/b7qno8rNx7/UHmHeBFvQv59oy3f4xNG/TB9XdgN9z7/OfN6/P0bLv9oF/zJKXcm/a9somTmwxr8IELLqeybCvzuhnfQ6uby/tQcfHzSIt79w5pTWmL2yv1xl5xlt6K2/hpWY1MHbqL+5wmVcC4+kv1xDKj6ek6C/62BLLzROmr+IbpiWyG2Uv04tgbIuEI6/8wctKvUzhL/GDimVF3F2v3GXx1q/uVi/yyuvynkOYj/oKnp8y7B3P6RJdwmmEIM/xqovtR/Vij9f31HaUG6RP5fjFYielJU/P/VHzHfmmT/9EDeBy16eP3N/XZzkhqE/Ve6gOp//oz8tufSpD5amP78LooghRqk/hRPvBQgUrD/nXvABa+muP9r8ObH5y7A/mYRmMncIsj/yhdXHXzSzP+eYt+DIYLQ/+siUrBaatT91nYp3J++2P3OKYKwHfbg/\",\"dtype\":\"float64\",\"shape\":[75]},\"y\":{\"__ndarray__\":\"GhExyth1ND/Sv8nbtpRIP2vylNV0PVE/aTum7souWD/At0SJ8fVgPw3Iuahxymc/MSNhhJWvcD/bTfBN02d3P2zb5nxnaoA/CD5h5MAGhz8NmeH1TyaQP+zrCsc9p5Y/LbKd76fGnz/bLW5ISEmmPww9YvTcQq8/JV2OstnstT8Er5Y7M8G+P0c+r3jqkcU/5h99k6ZBzj88bCIzFzjVP4enV8oyxN0//yH99nXg5D8qOpLLf0jtP5kqGJXUifQ/c9cS8kHP/D+/DpwzojQEQIEmwoanVwxA4lgXt9HgE0BSSZ2AJuIbQAMJih9jjiNA5q4l5INuK0AwTKYKRj0zQNv5fmq8/DpAaCJseHrtQkB/+zpwzoxKQM3MzMzMeFJAZmZmZmZqWEAAAAAAAFxeQM3MzMzMJmJAmpmZmZkfZUBmZmZmZhhoQDMzMzMzEWtAAAAAAAAKbkBmZmZmZoFwQM3MzMzM/XFAMzMzMzN6c0CamZmZmfZ0QAAAAAAAc3ZAZmZmZmbvd0DNzMzMzGt5QDMzMzMz6HpAmpmZmZlkfEAAAAAAAOF9QGZmZmZmXX9AZmZmZuZsgECamZmZGSuBQM3MzMxM6YFAAAAAAICngkAzMzMzs2WDQGZmZmbmI4RAmpmZmRnihEDNzMzMTKCFQAAAAACAXoZAMzMzM7Mch0BmZmZm5tqHQJqZmZkZmYhAzczMzExXiUAAAAAAgBWKQDMzMzOz04pAZmZmZuaRi0CamZmZGVCMQM3MzMxMDo1AAAAAAIDMjUAzMzMzs4qOQGZmZmbmSI9A\",\"dtype\":\"float64\",\"shape\":[75]}},\"selected\":{\"id\":\"f6ae2632-8410-4c5f-9371-03a047706206\",\"type\":\"Selection\"},\"selection_policy\":{\"id\":\"69315b42-c1e7-4dae-b544-2f224a911623\",\"type\":\"UnionRenderers\"}},\"id\":\"6ceee61e-e324-4115-b0da-514b59771496\",\"type\":\"ColumnDataSource\"},{\"attributes\":{},\"id\":\"04984f9c-7748-4798-ac13-0fa39802f7c4\",\"type\":\"Selection\"},{\"attributes\":{},\"id\":\"f6ae2632-8410-4c5f-9371-03a047706206\",\"type\":\"Selection\"},{\"attributes\":{},\"id\":\"69315b42-c1e7-4dae-b544-2f224a911623\",\"type\":\"UnionRenderers\"},{\"attributes\":{},\"id\":\"2e35668e-e3c9-45a0-aac4-0f83669503e5\",\"type\":\"UnionRenderers\"},{\"attributes\":{},\"id\":\"c6ff3ea3-1a40-4be3-93a1-de6a18f4d12f\",\"type\":\"Selection\"},{\"attributes\":{},\"id\":\"406f41a2-f084-4d57-9ada-59788a80540b\",\"type\":\"BasicTickFormatter\"},{\"attributes\":{\"line_alpha\":0.6,\"line_color\":\"#984ea3\",\"line_width\":3,\"x\":{\"field\":\"x\"},\"y\":{\"field\":\"y\"}},\"id\":\"559606c1-9a95-4711-8faa-a4f6594352ae\",\"type\":\"Line\"},{\"attributes\":{},\"id\":\"1c38552d-2e32-4438-94f8-3781277eed1b\",\"type\":\"UnionRenderers\"},{\"attributes\":{},\"id\":\"7d6c4843-ccdb-428f-ae33-58da68d5df3f\",\"type\":\"UnionRenderers\"},{\"attributes\":{},\"id\":\"38f6ac62-c7d6-4f85-9d20-463b6f35667b\",\"type\":\"Selection\"},{\"attributes\":{\"toolbar\":{\"id\":\"3adbd3fa-9bfe-495b-bf18-22feae051be7\",\"type\":\"ProxyToolbar\"},\"toolbar_location\":\"above\"},\"id\":\"b21a6a8a-b6eb-4a3b-8cde-325ecd129288\",\"type\":\"ToolbarBox\"},{\"attributes\":{\"active_drag\":\"auto\",\"active_inspect\":\"auto\",\"active_scroll\":\"auto\",\"active_tap\":\"auto\",\"tools\":[{\"id\":\"d731c464-a603-4230-8ad9-16d57c38d72d\",\"type\":\"PanTool\"},{\"id\":\"4760b6bf-d96e-48e9-b201-52897a621f31\",\"type\":\"WheelZoomTool\"},{\"id\":\"b751b139-54e6-4265-bdee-32c2d309eae5\",\"type\":\"BoxZoomTool\"},{\"id\":\"ddc99b08-22f9-4fbf-bd23-67a425ad2cf9\",\"type\":\"SaveTool\"},{\"id\":\"cac936e5-3a26-4152-ab09-863b27d2a215\",\"type\":\"ResetTool\"},{\"id\":\"114858f1-9830-48a4-8d7c-66365be90422\",\"type\":\"HelpTool\"}]},\"id\":\"1dea17ec-2baa-47ee-89e8-bc671e4fe01a\",\"type\":\"Toolbar\"},{\"attributes\":{\"fill_alpha\":{\"value\":0.1},\"fill_color\":{\"value\":\"#1f77b4\"},\"line_alpha\":{\"value\":0.1},\"line_color\":{\"value\":\"#1f77b4\"},\"x\":{\"field\":\"x\"},\"y\":{\"field\":\"y\"}},\"id\":\"21f6e39c-653d-4c78-b7a9-af54bd16b0ae\",\"type\":\"Square\"},{\"attributes\":{},\"id\":\"ea7d3c2a-f27f-4ee1-a4df-1479674e3d24\",\"type\":\"UnionRenderers\"},{\"attributes\":{},\"id\":\"e2ee6e7d-c0f2-4f90-bb73-5c6d5b85dd11\",\"type\":\"Selection\"},{\"attributes\":{\"data_source\":{\"id\":\"6bf4d10a-b5a7-40c3-80fa-64b0526a0b03\",\"type\":\"ColumnDataSource\"},\"glyph\":{\"id\":\"3078fec4-2331-479f-9edc-f1b67d256969\",\"type\":\"Line\"},\"hover_glyph\":null,\"muted_glyph\":null,\"nonselection_glyph\":{\"id\":\"15c9a8cb-8b70-42a2-b435-5fa165e2e0d3\",\"type\":\"Line\"},\"selection_glyph\":null,\"view\":{\"id\":\"5796c82e-e5a1-4dbb-9b67-0512f04a63c9\",\"type\":\"CDSView\"}},\"id\":\"148559b6-712a-4db7-802c-5c4e258c9df9\",\"type\":\"GlyphRenderer\"},{\"attributes\":{},\"id\":\"ff9f1e96-9cd3-46f7-b0f5-0cbbc068f798\",\"type\":\"UnionRenderers\"},{\"attributes\":{},\"id\":\"a9a5e461-f146-451a-b953-5c45371b5b09\",\"type\":\"Selection\"},{\"attributes\":{\"fill_alpha\":{\"value\":0.1},\"fill_color\":{\"value\":\"#1f77b4\"},\"line_alpha\":{\"value\":0.1},\"line_color\":{\"value\":\"#1f77b4\"},\"x\":{\"field\":\"x\"},\"y\":{\"field\":\"y\"}},\"id\":\"2e0ccc80-7c9c-410f-8e42-a8bdb4ee59d2\",\"type\":\"Circle\"},{\"attributes\":{},\"id\":\"de648df7-c69c-48c3-9090-f25175007899\",\"type\":\"Selection\"},{\"attributes\":{\"callback\":null,\"end\":2.0186547322000004,\"start\":-0.3415877522},\"id\":\"67de2237-eb70-4ece-90de-759b4fd31cf9\",\"type\":\"Range1d\"},{\"attributes\":{},\"id\":\"e0b889e6-5a06-42eb-90f7-7d32976ab954\",\"type\":\"UnionRenderers\"},{\"attributes\":{\"source\":{\"id\":\"6bf4d10a-b5a7-40c3-80fa-64b0526a0b03\",\"type\":\"ColumnDataSource\"}},\"id\":\"5796c82e-e5a1-4dbb-9b67-0512f04a63c9\",\"type\":\"CDSView\"},{\"attributes\":{\"source\":{\"id\":\"ff9e6714-8483-4f99-a044-476b165f68bb\",\"type\":\"ColumnDataSource\"}},\"id\":\"44965e91-6bb2-4229-8523-9c76501ff637\",\"type\":\"CDSView\"},{\"attributes\":{},\"id\":\"5c5a657c-9549-4ac8-95fc-a1d7b97b69fb\",\"type\":\"Selection\"},{\"attributes\":{\"tools\":[{\"id\":\"a2c4e784-4ad3-43d9-9d77-7dec1b1cf60c\",\"type\":\"PanTool\"},{\"id\":\"e619e5b8-4fc0-4394-867a-071d83597073\",\"type\":\"WheelZoomTool\"},{\"id\":\"a5651b44-f4a0-4d20-93e4-2f03797f18ca\",\"type\":\"BoxZoomTool\"},{\"id\":\"564fbd8f-bcee-4f79-bf83-3e1107e387df\",\"type\":\"SaveTool\"},{\"id\":\"35bd41e8-528c-4588-9c17-9e3592fad7ee\",\"type\":\"ResetTool\"},{\"id\":\"f0f06a50-8961-46ff-9e8c-33283a19fe61\",\"type\":\"HelpTool\"},{\"id\":\"d731c464-a603-4230-8ad9-16d57c38d72d\",\"type\":\"PanTool\"},{\"id\":\"4760b6bf-d96e-48e9-b201-52897a621f31\",\"type\":\"WheelZoomTool\"},{\"id\":\"b751b139-54e6-4265-bdee-32c2d309eae5\",\"type\":\"BoxZoomTool\"},{\"id\":\"ddc99b08-22f9-4fbf-bd23-67a425ad2cf9\",\"type\":\"SaveTool\"},{\"id\":\"cac936e5-3a26-4152-ab09-863b27d2a215\",\"type\":\"ResetTool\"},{\"id\":\"114858f1-9830-48a4-8d7c-66365be90422\",\"type\":\"HelpTool\"}]},\"id\":\"3adbd3fa-9bfe-495b-bf18-22feae051be7\",\"type\":\"ProxyToolbar\"},{\"attributes\":{\"callback\":null,\"data\":{\"x\":{\"__ndarray__\":\"CooX8qVDn78wNtqViWehv4WzzSBN26S/b6w9TPguqL/iDQvj3mSrvwTRFLO+fq6/IF7NvWS8sL9o/FOO7ymyv0ipTH2VhrO/gyId69DTtL+qgJysKBC2v5M5paICPre/kXbtHBReuL+jrJh3wGi5vz45jkipvrm/WoeMD/8luL8fdEjrIXqtv5w2KgrQw5o/LpMbJMixxT/52xroDNLYP0DeJx6CUOY/ILzRIjbT8T/bsjLQa8L5P0Dr0J/snP4/tfY+VYWG/D/5M7xZg/f2PyzHdZ1X5vA/i6r8vsEv6D9z+x8/n9HhP1Vpi2t8ptk/RxfE1Tu7zD8+sOO/QBCkP7VBDMU0i7i/MulKX2PyyL8aOUUmZBDSvwzaNzl0YdS/mE2hb+JW0r/mDUmQvofPvwiZGlcSj8y/To/5wly5yL9OK2QyRU7DvyH8D9nVHr6/Gim03DReuL+zeJ1MXSuzvwaQpBuWQ66/tWXX9b/nqL8ac5qv2WSkv6SNTlY/SKC/X2xh4+iUmb/Y8QkgT6eTv7Cho27KiYy/IXB59BPKgr8vRy5IivJzvw88df1BRVC/wJwX7u5WZT8X6o/9Y9J4P3bnnKYuXIM/gmij9v/Kij9fFcvU9D6RPwUyv8OCNZU/mLg8c2JRmT+BQeaLPJedP0zOHqKwD6E/5ZnZ38CBoz9DIw2rziOmP8gCqqiP+qg/zJDP0OQHrD8vzdAfakCvP7afH1UzPLE/N7TYWE/Osj+OPMmDGFu0P+rrCMYS7bU/xtC0O9mKtz9VVxCTCD65P9lIjkuHFLs/\",\"dtype\":\"float64\",\"shape\":[75]},\"y\":{\"__ndarray__\":\"S/O/Q+51ND/Sv8nbtpRIP2vylNV0PVE/aTum7souWD/At0SJ8fVgPw3Iuahxymc/MSNhhJWvcD/bTfBN02d3P2zb5nxnaoA/CD5h5MAGhz8NmeH1TyaQP+zrCsc9p5Y/LbKd76fGnz/bLW5ISEmmPww9YvTcQq8/JV2OstnstT8Er5Y7M8G+P0c+r3jqkcU/5h99k6ZBzj88bCIzFzjVP4enV8oyxN0//yH99nXg5D8qOpLLf0jtP5kqGJXUifQ/c9cS8kHP/D+/DpwzojQEQIEmwoanVwxA4lgXt9HgE0BSSZ2AJuIbQAMJih9jjiNA5q4l5INuK0AwTKYKRj0zQNv5fmq8/DpAaCJseHrtQkB/+zpwzoxKQM3MzMzMeFJAZmZmZmZqWEAAAAAAAFxeQM3MzMzMJmJAmpmZmZkfZUBmZmZmZhhoQDMzMzMzEWtAAAAAAAAKbkBmZmZmZoFwQM3MzMzM/XFAMzMzMzN6c0CamZmZmfZ0QAAAAAAAc3ZAZmZmZmbvd0DNzMzMzGt5QDMzMzMz6HpAmpmZmZlkfEAAAAAAAOF9QGZmZmZmXX9AZmZmZuZsgECamZmZGSuBQM3MzMxM6YFAAAAAAICngkAzMzMzs2WDQGZmZmbmI4RAmpmZmRnihEDNzMzMTKCFQAAAAACAXoZAMzMzM7Mch0BmZmZm5tqHQJqZmZkZmYhAzczMzExXiUAAAAAAgBWKQDMzMzOz04pAZmZmZuaRi0CamZmZGVCMQM3MzMxMDo1AAAAAAIDMjUAzMzMzs4qOQGZmZmbmSI9A\",\"dtype\":\"float64\",\"shape\":[75]}},\"selected\":{\"id\":\"de648df7-c69c-48c3-9090-f25175007899\",\"type\":\"Selection\"},\"selection_policy\":{\"id\":\"1c38552d-2e32-4438-94f8-3781277eed1b\",\"type\":\"UnionRenderers\"}},\"id\":\"19f160cc-cf4a-4346-b114-7315ef84251a\",\"type\":\"ColumnDataSource\"},{\"attributes\":{},\"id\":\"7c7d1803-dbdf-4421-a1cb-e7c2061829bc\",\"type\":\"UnionRenderers\"},{\"attributes\":{},\"id\":\"c8e893c6-bb5d-4557-b113-0ddac33449a9\",\"type\":\"Selection\"},{\"attributes\":{\"children\":[{\"id\":\"b21a6a8a-b6eb-4a3b-8cde-325ecd129288\",\"type\":\"ToolbarBox\"},{\"id\":\"3245c9e9-b83f-4d9c-95a8-4542aba31dcf\",\"type\":\"Column\"}]},\"id\":\"7b134167-c444-4fe3-975a-9fc6c7858877\",\"type\":\"Column\"},{\"attributes\":{\"data_source\":{\"id\":\"3ae3a4d4-72bf-4bce-91db-6d7511e33b7b\",\"type\":\"ColumnDataSource\"},\"glyph\":{\"id\":\"b2918e5f-3370-4f21-9713-1f217be19483\",\"type\":\"Square\"},\"hover_glyph\":null,\"muted_glyph\":null,\"nonselection_glyph\":{\"id\":\"21f6e39c-653d-4c78-b7a9-af54bd16b0ae\",\"type\":\"Square\"},\"selection_glyph\":null,\"view\":{\"id\":\"0f4652c8-df53-467b-8c6f-599e184ec60c\",\"type\":\"CDSView\"}},\"id\":\"a827074e-1e09-4fd4-b0c5-1bc3fe0bade7\",\"type\":\"GlyphRenderer\"},{\"attributes\":{\"data_source\":{\"id\":\"ff9e6714-8483-4f99-a044-476b165f68bb\",\"type\":\"ColumnDataSource\"},\"glyph\":{\"id\":\"559606c1-9a95-4711-8faa-a4f6594352ae\",\"type\":\"Line\"},\"hover_glyph\":null,\"muted_glyph\":null,\"nonselection_glyph\":{\"id\":\"9a17e0be-1b93-4c14-adca-c739be997986\",\"type\":\"Line\"},\"selection_glyph\":null,\"view\":{\"id\":\"44965e91-6bb2-4229-8523-9c76501ff637\",\"type\":\"CDSView\"}},\"id\":\"c9e3b333-7e38-4265-82cb-320b9a0bdc0e\",\"type\":\"GlyphRenderer\"},{\"attributes\":{},\"id\":\"fd6b2c84-4b43-4748-bc28-f3c7973dea15\",\"type\":\"BasicTicker\"},{\"attributes\":{\"source\":{\"id\":\"6ceee61e-e324-4115-b0da-514b59771496\",\"type\":\"ColumnDataSource\"}},\"id\":\"023699c6-3cc8-413f-adb6-8ebc23a2eab5\",\"type\":\"CDSView\"},{\"attributes\":{\"line_alpha\":0.1,\"line_color\":\"#1f77b4\",\"line_width\":3,\"x\":{\"field\":\"x\"},\"y\":{\"field\":\"y\"}},\"id\":\"9a17e0be-1b93-4c14-adca-c739be997986\",\"type\":\"Line\"},{\"attributes\":{\"callback\":null,\"data\":{\"x\":{\"__ndarray__\":\"EvZQT91kob/O7vZEylujv7Juxq2lJ6e/eiX29ATOqr9ouQ4DzU+uv0Nuw34I17C/JQ2CT/Jxsr8SvF7wIvmzv2+myHXhdLW/PGw2F/7atr8SbSKO0Cq4v4WJx8Q0c7m/uMNPsaS7ur8i5JvxpvC7v4b6Ah8oXLy/3iB7OcM/ur9VD20H8ASuv3XP0+NrjaI/5RdW2KnFyD/SX56EiErbP3xeVP/e9ec/Phf87Dbe8j+SnKeVnfn6P7M3nQnyeP8/dggtNYzs/D/wRSADHr33P0VroFRWDvI/AVSrjqBh6j+At6OsnVDjP8ugHP0W+to/6D/WGQAmzT9Sju2odvWiP1DYv5c02bi/4VdRKLClyL88hzJUxZTRvyl4beMNeNO/iBl1CHdC0b/dQQ1bipbNv/s01TDPDMu/KmYQYfTDx78GvoFNxsbCv9zfj5GihL2/vkC91xgNuL8OqrlOthCzvyDpqKqdT66/6UKYGiIgqb9N+8qpu7ekv+4MeSKNrKC/kijIkOJqmr8fT2jloHyUvxBZ614DL46/0o78uZhKhL8ySrhVLqJ2v2phtmcNE1q/zkQWwlFGYT82pVOXxzN3P0YSXxthuYI//GJROW9hij/nA8ry6iaRP/of8Q+BQZU/zAw8c+aJmT8498nk4/mdP3PxQC+fVqE/RAbOJnvcoz8Q2PjzPYimP6VpUDQPYKk/H61Gg89nrD+cP61vTo+vP8wEPYC3U7E/fL6W8oLRsj8Qt7+Kvki0P2g7UO4RxrU/d3ypD4xStz/fYHIa1/y4P6o61IQn07o/\",\"dtype\":\"float64\",\"shape\":[75]},\"y\":{\"__ndarray__\":\"GhExyth1ND/Sv8nbtpRIP2vylNV0PVE/aTum7souWD/At0SJ8fVgPw3Iuahxymc/MSNhhJWvcD/bTfBN02d3P2zb5nxnaoA/CD5h5MAGhz8NmeH1TyaQP+zrCsc9p5Y/LbKd76fGnz/bLW5ISEmmPww9YvTcQq8/JV2OstnstT8Er5Y7M8G+P0c+r3jqkcU/5h99k6ZBzj88bCIzFzjVP4enV8oyxN0//yH99nXg5D8qOpLLf0jtP5kqGJXUifQ/c9cS8kHP/D+/DpwzojQEQIEmwoanVwxA4lgXt9HgE0BSSZ2AJuIbQAMJih9jjiNA5q4l5INuK0AwTKYKRj0zQNv5fmq8/DpAaCJseHrtQkB/+zpwzoxKQM3MzMzMeFJAZmZmZmZqWEAAAAAAAFxeQM3MzMzMJmJAmpmZmZkfZUBmZmZmZhhoQDMzMzMzEWtAAAAAAAAKbkBmZmZmZoFwQM3MzMzM/XFAMzMzMzN6c0CamZmZmfZ0QAAAAAAAc3ZAZmZmZmbvd0DNzMzMzGt5QDMzMzMz6HpAmpmZmZlkfEAAAAAAAOF9QGZmZmZmXX9AZmZmZuZsgECamZmZGSuBQM3MzMxM6YFAAAAAAICngkAzMzMzs2WDQGZmZmbmI4RAmpmZmRnihEDNzMzMTKCFQAAAAACAXoZAMzMzM7Mch0BmZmZm5tqHQJqZmZkZmYhAzczMzExXiUAAAAAAgBWKQDMzMzOz04pAZmZmZuaRi0CamZmZGVCMQM3MzMxMDo1AAAAAAIDMjUAzMzMzs4qOQGZmZmbmSI9A\",\"dtype\":\"float64\",\"shape\":[75]}},\"selected\":{\"id\":\"04984f9c-7748-4798-ac13-0fa39802f7c4\",\"type\":\"Selection\"},\"selection_policy\":{\"id\":\"253d3c67-6c80-414b-afd6-6cd7697e251a\",\"type\":\"UnionRenderers\"}},\"id\":\"3ae3a4d4-72bf-4bce-91db-6d7511e33b7b\",\"type\":\"ColumnDataSource\"},{\"attributes\":{},\"id\":\"0ec14823-4d64-42af-b9f8-748a8fe515be\",\"type\":\"LinearScale\"},{\"attributes\":{\"plot\":{\"id\":\"aa3224dc-6f80-46b8-a74d-ed2cbe04b968\",\"subtype\":\"Figure\",\"type\":\"Plot\"},\"ticker\":{\"id\":\"fd6b2c84-4b43-4748-bc28-f3c7973dea15\",\"type\":\"BasicTicker\"}},\"id\":\"ecf3d99c-5f0a-4511-b6b8-24a89ed045cc\",\"type\":\"Grid\"},{\"attributes\":{\"line_alpha\":0.1,\"line_color\":\"#1f77b4\",\"line_width\":1.5,\"x\":{\"field\":\"x\"},\"y\":{\"field\":\"y\"}},\"id\":\"15c9a8cb-8b70-42a2-b435-5fa165e2e0d3\",\"type\":\"Line\"},{\"attributes\":{\"fill_alpha\":{\"value\":0.7},\"fill_color\":{\"value\":\"#4daf4a\"},\"line_alpha\":{\"value\":0.7},\"line_color\":{\"value\":\"#4daf4a\"},\"x\":{\"field\":\"x\"},\"y\":{\"field\":\"y\"}},\"id\":\"40ea23de-ab34-4a54-9957-6c334e7a3995\",\"type\":\"Circle\"},{\"attributes\":{\"line_alpha\":0.6,\"line_color\":\"#e41a1c\",\"line_dash\":[6],\"line_width\":5,\"x\":{\"field\":\"x\"},\"y\":{\"field\":\"y\"}},\"id\":\"5ea09072-2c97-407a-a783-56b428df4b2a\",\"type\":\"Line\"}],\"root_ids\":[\"7b134167-c444-4fe3-975a-9fc6c7858877\"]},\"title\":\"Bokeh Application\",\"version\":\"0.12.16\"}};\n",
       "  var render_items = [{\"docid\":\"cb430104-f8f7-421c-8d34-34530e38d83a\",\"elementid\":\"4d662497-2915-4f34-84a4-517a71cfbf49\",\"modelid\":\"7b134167-c444-4fe3-975a-9fc6c7858877\"}];\n",
       "  root.Bokeh.embed.embed_items_notebook(docs_json, render_items);\n",
       "\n",
       "  }\n",
       "  if (root.Bokeh !== undefined) {\n",
       "    embed_document(root);\n",
       "  } else {\n",
       "    var attempts = 0;\n",
       "    var timer = setInterval(function(root) {\n",
       "      if (root.Bokeh !== undefined) {\n",
       "        embed_document(root);\n",
       "        clearInterval(timer);\n",
       "      }\n",
       "      attempts++;\n",
       "      if (attempts > 100) {\n",
       "        console.log(\"Bokeh: ERROR: Unable to run BokehJS code because BokehJS library is missing\")\n",
       "        clearInterval(timer);\n",
       "      }\n",
       "    }, 10, root)\n",
       "  }\n",
       "})(window);"
      ],
      "application/vnd.bokehjs_exec.v0+json": ""
     },
     "metadata": {
      "application/vnd.bokehjs_exec.v0+json": {
       "id": "7b134167-c444-4fe3-975a-9fc6c7858877"
      }
     },
     "output_type": "display_data"
    },
    {
     "name": "stdout",
     "output_type": "stream",
     "text": [
      "FIGURE. Cooling rate profiles.\n"
     ]
    },
    {
     "data": {
      "text/html": [
       "<a id=\"Flux_Comparison\"></a>"
      ],
      "text/plain": [
       "<IPython.core.display.HTML object>"
      ]
     },
     "metadata": {},
     "output_type": "display_data"
    },
    {
     "data": {
      "text/markdown": [
       "# Flux Comparison"
      ],
      "text/plain": [
       "<IPython.core.display.Markdown object>"
      ]
     },
     "metadata": {},
     "output_type": "display_data"
    },
    {
     "data": {
      "text/html": [
       "<div>\n",
       "<style scoped>\n",
       "    .dataframe tbody tr th:only-of-type {\n",
       "        vertical-align: middle;\n",
       "    }\n",
       "\n",
       "    .dataframe tbody tr th {\n",
       "        vertical-align: top;\n",
       "    }\n",
       "\n",
       "    .dataframe thead th {\n",
       "        text-align: right;\n",
       "    }\n",
       "</style>\n",
       "<table border=\"1\" class=\"dataframe\">\n",
       "  <thead>\n",
       "    <tr style=\"text-align: right;\">\n",
       "      <th></th>\n",
       "      <th></th>\n",
       "      <th>flug</th>\n",
       "      <th>fldg</th>\n",
       "      <th>fnetg</th>\n",
       "    </tr>\n",
       "    <tr>\n",
       "      <th>pressure</th>\n",
       "      <th>level</th>\n",
       "      <th></th>\n",
       "      <th></th>\n",
       "      <th></th>\n",
       "    </tr>\n",
       "  </thead>\n",
       "  <tbody>\n",
       "    <tr>\n",
       "      <th>0.0000</th>\n",
       "      <th>1</th>\n",
       "      <td>-22.783978</td>\n",
       "      <td>0.000000</td>\n",
       "      <td>-22.783978</td>\n",
       "    </tr>\n",
       "    <tr>\n",
       "      <th>1.0685</th>\n",
       "      <th>24</th>\n",
       "      <td>-22.787973</td>\n",
       "      <td>0.119124</td>\n",
       "      <td>-22.668849</td>\n",
       "    </tr>\n",
       "    <tr>\n",
       "      <th>1013.0000</th>\n",
       "      <th>76</th>\n",
       "      <td>-31.354237</td>\n",
       "      <td>6.508031</td>\n",
       "      <td>-24.846206</td>\n",
       "    </tr>\n",
       "  </tbody>\n",
       "</table>\n",
       "</div>"
      ],
      "text/plain": [
       "                      flug      fldg      fnetg\n",
       "pressure  level                                \n",
       "0.0000    1     -22.783978  0.000000 -22.783978\n",
       "1.0685    24    -22.787973  0.119124 -22.668849\n",
       "1013.0000 76    -31.354237  6.508031 -24.846206"
      ]
     },
     "metadata": {},
     "output_type": "display_data"
    },
    {
     "name": "stdout",
     "output_type": "stream",
     "text": [
      "Table. Fluxes. CRD\n"
     ]
    },
    {
     "data": {
      "text/html": [
       "<div>\n",
       "<style scoped>\n",
       "    .dataframe tbody tr th:only-of-type {\n",
       "        vertical-align: middle;\n",
       "    }\n",
       "\n",
       "    .dataframe tbody tr th {\n",
       "        vertical-align: top;\n",
       "    }\n",
       "\n",
       "    .dataframe thead th {\n",
       "        text-align: right;\n",
       "    }\n",
       "</style>\n",
       "<table border=\"1\" class=\"dataframe\">\n",
       "  <thead>\n",
       "    <tr style=\"text-align: right;\">\n",
       "      <th></th>\n",
       "      <th></th>\n",
       "      <th>flug</th>\n",
       "      <th>fldg</th>\n",
       "      <th>fnetg</th>\n",
       "    </tr>\n",
       "    <tr>\n",
       "      <th>pressure</th>\n",
       "      <th>level</th>\n",
       "      <th></th>\n",
       "      <th></th>\n",
       "      <th></th>\n",
       "    </tr>\n",
       "  </thead>\n",
       "  <tbody>\n",
       "    <tr>\n",
       "      <th>0.0000</th>\n",
       "      <th>1</th>\n",
       "      <td>-22.587852</td>\n",
       "      <td>0.000000</td>\n",
       "      <td>-22.587852</td>\n",
       "    </tr>\n",
       "    <tr>\n",
       "      <th>1.0685</th>\n",
       "      <th>24</th>\n",
       "      <td>-22.588416</td>\n",
       "      <td>0.112402</td>\n",
       "      <td>-22.476014</td>\n",
       "    </tr>\n",
       "    <tr>\n",
       "      <th>1013.0000</th>\n",
       "      <th>76</th>\n",
       "      <td>-31.354237</td>\n",
       "      <td>6.588893</td>\n",
       "      <td>-24.765344</td>\n",
       "    </tr>\n",
       "  </tbody>\n",
       "</table>\n",
       "</div>"
      ],
      "text/plain": [
       "                      flug      fldg      fnetg\n",
       "pressure  level                                \n",
       "0.0000    1     -22.587852  0.000000 -22.587852\n",
       "1.0685    24    -22.588416  0.112402 -22.476014\n",
       "1013.0000 76    -31.354237  6.588893 -24.765344"
      ]
     },
     "metadata": {},
     "output_type": "display_data"
    },
    {
     "name": "stdout",
     "output_type": "stream",
     "text": [
      "Table. Fluxes. WGT igg=10 wgt_flux=1\n"
     ]
    },
    {
     "data": {
      "text/html": [
       "<div>\n",
       "<style scoped>\n",
       "    .dataframe tbody tr th:only-of-type {\n",
       "        vertical-align: middle;\n",
       "    }\n",
       "\n",
       "    .dataframe tbody tr th {\n",
       "        vertical-align: top;\n",
       "    }\n",
       "\n",
       "    .dataframe thead th {\n",
       "        text-align: right;\n",
       "    }\n",
       "</style>\n",
       "<table border=\"1\" class=\"dataframe\">\n",
       "  <thead>\n",
       "    <tr style=\"text-align: right;\">\n",
       "      <th></th>\n",
       "      <th></th>\n",
       "      <th>flug</th>\n",
       "      <th>fldg</th>\n",
       "      <th>fnetg</th>\n",
       "    </tr>\n",
       "    <tr>\n",
       "      <th>pressure</th>\n",
       "      <th>level</th>\n",
       "      <th></th>\n",
       "      <th></th>\n",
       "      <th></th>\n",
       "    </tr>\n",
       "  </thead>\n",
       "  <tbody>\n",
       "    <tr>\n",
       "      <th>1.000000e-08</th>\n",
       "      <th>1</th>\n",
       "      <td>-22.39074</td>\n",
       "      <td>0.000002</td>\n",
       "      <td>-22.390739</td>\n",
       "    </tr>\n",
       "    <tr>\n",
       "      <th>1.068500e+00</th>\n",
       "      <th>24</th>\n",
       "      <td>-22.38920</td>\n",
       "      <td>0.104219</td>\n",
       "      <td>-22.284981</td>\n",
       "    </tr>\n",
       "    <tr>\n",
       "      <th>1.013000e+03</th>\n",
       "      <th>76</th>\n",
       "      <td>-31.35424</td>\n",
       "      <td>6.517827</td>\n",
       "      <td>-24.836413</td>\n",
       "    </tr>\n",
       "  </tbody>\n",
       "</table>\n",
       "</div>"
      ],
      "text/plain": [
       "                        flug      fldg      fnetg\n",
       "pressure     level                               \n",
       "1.000000e-08 1     -22.39074  0.000002 -22.390739\n",
       "1.068500e+00 24    -22.38920  0.104219 -22.284981\n",
       "1.013000e+03 76    -31.35424  6.517827 -24.836413"
      ]
     },
     "metadata": {},
     "output_type": "display_data"
    },
    {
     "name": "stdout",
     "output_type": "stream",
     "text": [
      "Table. Fluxes. CLIRAD\n"
     ]
    },
    {
     "data": {
      "text/html": [
       "<div>\n",
       "<style scoped>\n",
       "    .dataframe tbody tr th:only-of-type {\n",
       "        vertical-align: middle;\n",
       "    }\n",
       "\n",
       "    .dataframe tbody tr th {\n",
       "        vertical-align: top;\n",
       "    }\n",
       "\n",
       "    .dataframe thead th {\n",
       "        text-align: right;\n",
       "    }\n",
       "</style>\n",
       "<table border=\"1\" class=\"dataframe\">\n",
       "  <thead>\n",
       "    <tr style=\"text-align: right;\">\n",
       "      <th></th>\n",
       "      <th></th>\n",
       "      <th>flug</th>\n",
       "      <th>fldg</th>\n",
       "      <th>fnetg</th>\n",
       "    </tr>\n",
       "    <tr>\n",
       "      <th>pressure</th>\n",
       "      <th>level</th>\n",
       "      <th></th>\n",
       "      <th></th>\n",
       "      <th></th>\n",
       "    </tr>\n",
       "  </thead>\n",
       "  <tbody>\n",
       "    <tr>\n",
       "      <th>0.0000</th>\n",
       "      <th>1</th>\n",
       "      <td>0.196126</td>\n",
       "      <td>0.000000</td>\n",
       "      <td>0.196126</td>\n",
       "    </tr>\n",
       "    <tr>\n",
       "      <th>1.0685</th>\n",
       "      <th>24</th>\n",
       "      <td>0.199557</td>\n",
       "      <td>-0.006722</td>\n",
       "      <td>0.192835</td>\n",
       "    </tr>\n",
       "    <tr>\n",
       "      <th>1013.0000</th>\n",
       "      <th>76</th>\n",
       "      <td>0.000000</td>\n",
       "      <td>0.080861</td>\n",
       "      <td>0.080862</td>\n",
       "    </tr>\n",
       "  </tbody>\n",
       "</table>\n",
       "</div>"
      ],
      "text/plain": [
       "                     flug      fldg     fnetg\n",
       "pressure  level                              \n",
       "0.0000    1      0.196126  0.000000  0.196126\n",
       "1.0685    24     0.199557 -0.006722  0.192835\n",
       "1013.0000 76     0.000000  0.080861  0.080862"
      ]
     },
     "metadata": {},
     "output_type": "display_data"
    },
    {
     "name": "stdout",
     "output_type": "stream",
     "text": [
      "Table. Fluxes. (WGT igg=10 wgt_flux=1) - (CRD)\n"
     ]
    },
    {
     "data": {
      "text/html": [
       "<div>\n",
       "<style scoped>\n",
       "    .dataframe tbody tr th:only-of-type {\n",
       "        vertical-align: middle;\n",
       "    }\n",
       "\n",
       "    .dataframe tbody tr th {\n",
       "        vertical-align: top;\n",
       "    }\n",
       "\n",
       "    .dataframe thead th {\n",
       "        text-align: right;\n",
       "    }\n",
       "</style>\n",
       "<table border=\"1\" class=\"dataframe\">\n",
       "  <thead>\n",
       "    <tr style=\"text-align: right;\">\n",
       "      <th></th>\n",
       "      <th></th>\n",
       "      <th>flug</th>\n",
       "      <th>fldg</th>\n",
       "      <th>fnetg</th>\n",
       "    </tr>\n",
       "    <tr>\n",
       "      <th>pressure</th>\n",
       "      <th>level</th>\n",
       "      <th></th>\n",
       "      <th></th>\n",
       "      <th></th>\n",
       "    </tr>\n",
       "  </thead>\n",
       "  <tbody>\n",
       "    <tr>\n",
       "      <th>0.0000</th>\n",
       "      <th>1</th>\n",
       "      <td>0.393238</td>\n",
       "      <td>0.000002</td>\n",
       "      <td>0.393239</td>\n",
       "    </tr>\n",
       "    <tr>\n",
       "      <th>1.0685</th>\n",
       "      <th>24</th>\n",
       "      <td>0.398773</td>\n",
       "      <td>-0.014906</td>\n",
       "      <td>0.383868</td>\n",
       "    </tr>\n",
       "    <tr>\n",
       "      <th>1013.0000</th>\n",
       "      <th>76</th>\n",
       "      <td>-0.000003</td>\n",
       "      <td>0.009796</td>\n",
       "      <td>0.009793</td>\n",
       "    </tr>\n",
       "  </tbody>\n",
       "</table>\n",
       "</div>"
      ],
      "text/plain": [
       "                     flug      fldg     fnetg\n",
       "pressure  level                              \n",
       "0.0000    1      0.393238  0.000002  0.393239\n",
       "1.0685    24     0.398773 -0.014906  0.383868\n",
       "1013.0000 76    -0.000003  0.009796  0.009793"
      ]
     },
     "metadata": {},
     "output_type": "display_data"
    },
    {
     "name": "stdout",
     "output_type": "stream",
     "text": [
      "Table. Fluxes. (CLIRAD) - (CRD)\n"
     ]
    },
    {
     "data": {
      "text/html": [
       "<a id=\"Best-fit_Parameters\"></a>"
      ],
      "text/plain": [
       "<IPython.core.display.HTML object>"
      ]
     },
     "metadata": {},
     "output_type": "display_data"
    },
    {
     "data": {
      "text/markdown": [
       "# Best-fit Parameters"
      ],
      "text/plain": [
       "<IPython.core.display.Markdown object>"
      ]
     },
     "metadata": {},
     "output_type": "display_data"
    },
    {
     "name": "stdout",
     "output_type": "stream",
     "text": [
      "Best-fit values for each (gas, band)\n",
      "------------------------------------\n",
      "o h2o band5\n",
      "  atmpro = mls\n",
      "  band = 5\n",
      "  commitnumber = a06b618\n",
      "  conc = None\n",
      "  dv = 0.001\n",
      "  klin = 1e-24\n",
      "  molecule = h2o\n",
      "  ng_adju = [0]\n",
      "  ng_refs = [3]\n",
      "  nv = 1000\n",
      "  option_compute_btable = 0\n",
      "  option_compute_ktable = 1\n",
      "  option_wgt_flux = 1\n",
      "  option_wgt_k = 1\n",
      "  ref_pts = [(600, 250)]\n",
      "  tsfc = 294\n",
      "  vmax = 1100\n",
      "  vmin = 980\n",
      "  w_diffuse = [(1.66, 1.66, 1.8)]\n",
      "  wgt = [(0.5, 0.55, 0.9)]\n",
      "o o3 band5\n",
      "  atmpro = mls\n",
      "  band = 5\n",
      "  commitnumber = a06b618\n",
      "  conc = None\n",
      "  dv = 0.001\n",
      "  klin = 2e-20\n",
      "  molecule = o3\n",
      "  ng_adju = [0, 0]\n",
      "  ng_refs = [2, 5]\n",
      "  nv = 1000\n",
      "  option_compute_btable = 0\n",
      "  option_compute_ktable = 1\n",
      "  option_wgt_flux = 1\n",
      "  option_wgt_k = 1\n",
      "  ref_pts = [(1, 250), (50, 250)]\n",
      "  tsfc = 294\n",
      "  vmax = 1100\n",
      "  vmin = 980\n",
      "  w_diffuse = [(1.6, 1.75), (1.55, 1.66, 1.7, 1.75, 1.8)]\n",
      "  wgt = [(0.35, 0.6), (0.5, 0.55, 0.7, 0.9, 1.0)]\n"
     ]
    }
   ],
   "source": [
    "script()"
   ]
  },
  {
   "cell_type": "code",
   "execution_count": 13,
   "metadata": {
    "collapsed": true
   },
   "outputs": [
    {
     "data": {
      "text/html": [
       "<script>\n",
       "code_show=true; \n",
       "function code_toggle() {\n",
       " if (code_show){\n",
       " $('div.input').hide();\n",
       " } else {\n",
       " $('div.input').show();\n",
       " }\n",
       " code_show = !code_show\n",
       "} \n",
       "$( document ).ready(code_toggle);\n",
       "</script>\n",
       "<form action=\"javascript:code_toggle()\"><input type=\"submit\" value=\"Click here to toggle on/off the raw code.\"></form>"
      ],
      "text/plain": [
       "<IPython.core.display.HTML object>"
      ]
     },
     "execution_count": 13,
     "metadata": {},
     "output_type": "execute_result"
    }
   ],
   "source": [
    "display.HTML('''<script>\n",
    "code_show=true; \n",
    "function code_toggle() {\n",
    " if (code_show){\n",
    " $('div.input').hide();\n",
    " } else {\n",
    " $('div.input').show();\n",
    " }\n",
    " code_show = !code_show\n",
    "} \n",
    "$( document ).ready(code_toggle);\n",
    "</script>\n",
    "<form action=\"javascript:code_toggle()\"><input type=\"submit\" value=\"Click here to toggle on/off the raw code.\"></form>''')"
   ]
  }
 ],
 "metadata": {
  "kernelspec": {
   "display_name": "Python 3",
   "language": "python",
   "name": "python3"
  },
  "language_info": {
   "codemirror_mode": {
    "name": "ipython",
    "version": 3
   },
   "file_extension": ".py",
   "mimetype": "text/x-python",
   "name": "python",
   "nbconvert_exporter": "python",
   "pygments_lexer": "ipython3",
   "version": "3.6.1"
  }
 },
 "nbformat": 4,
 "nbformat_minor": 2
}
