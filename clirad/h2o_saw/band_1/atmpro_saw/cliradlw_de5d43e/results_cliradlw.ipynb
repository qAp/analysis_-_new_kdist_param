{
 "cells": [
  {
   "cell_type": "code",
   "execution_count": 1,
   "metadata": {
    "collapsed": true
   },
   "outputs": [],
   "source": [
    "%matplotlib inline\n",
    "import os\n",
    "import re\n",
    "import io\n",
    "import itertools\n",
    "import pprint\n",
    "\n",
    "from bokeh.io import output_notebook, show\n",
    "from bokeh.layouts import gridplot\n",
    "from bokeh.plotting import figure\n",
    "from bokeh.models import Range1d, Legend\n",
    "from bokeh.palettes import all_palettes\n",
    "\n",
    "import matplotlib\n",
    "import matplotlib.pyplot as plt\n",
    "import numpy as np\n",
    "import pandas as pd\n",
    "import xarray as xr\n",
    "\n",
    "import climatools.lblnew.bestfit_params as bestfits\n",
    "from climatools.lblnew import setup_bestfit, setup_overlap\n",
    "import climatools.lblnew.pipeline as pipe_lblnew\n",
    "import climatools.cliradlw.setup as setup_cliradlw\n",
    "import climatools.cliradlw.pipeline as pipe_cliradlw\n",
    "\n",
    "import climatools.html.html as climahtml\n",
    "from climatools.lblnew.dataio import *\n",
    "from climatools.plot.plot import *\n",
    "\n",
    "\n",
    "import IPython.display as display"
   ]
  },
  {
   "cell_type": "code",
   "execution_count": 2,
   "metadata": {
    "collapsed": true
   },
   "outputs": [],
   "source": [
    "%run param.py"
   ]
  },
  {
   "cell_type": "code",
   "execution_count": 3,
   "metadata": {
    "collapsed": true
   },
   "outputs": [],
   "source": [
    "def load_output_file(path_csv):\n",
    "    '''\n",
    "    Load lblnew output .csv file to xarray.Dataset\n",
    "    \n",
    "    Parameters\n",
    "    ----------\n",
    "    path_csv: str\n",
    "              Path to the .csv file to be loaded.\n",
    "    ds: xarray.Dataset\n",
    "        Data in the input file in the form of an xarray.Dataset.\n",
    "    '''\n",
    "    toindex = ['band', 'pressure', 'igg', 'g']    \n",
    "    df = pd.read_csv(path_csv, sep=r'\\s+')\n",
    "    df = df.set_index([i for i in toindex if i in df.columns])\n",
    "    df = df.rename(columns={'sfu': 'flug',\n",
    "                            'sfd': 'fldg',\n",
    "                            'fnet': 'fnetg',\n",
    "                            'coolr': 'coolrg'})\n",
    "    ds = xr.Dataset.from_dataframe(df)\n",
    "\n",
    "    for l in ('level', 'layer'):\n",
    "        if l in ds.data_vars:\n",
    "            if len(ds[l].dims) > 1:\n",
    "                surface = {d: 0 for d in ds.dims if d != 'pressure'}\n",
    "                coord_level = ds[l][surface]\n",
    "                ds.coords[l] = ('pressure', coord_level)\n",
    "            else:\n",
    "                ds.coords[l] = ('pressure', ds[l])\n",
    "    \n",
    "    return ds"
   ]
  },
  {
   "cell_type": "code",
   "execution_count": 4,
   "metadata": {
    "collapsed": true
   },
   "outputs": [],
   "source": [
    "def lblnew_setup(param=None):\n",
    "    if 'ng_refs' in param:\n",
    "        return {'setup': setup_bestfit,\n",
    "                'fname_flux_crd': 'output_flux.dat',\n",
    "                'fname_cool_crd': 'output_coolr.dat',\n",
    "                'fname_flux_wgt': 'output_wfluxg.dat',\n",
    "                'fname_cool_wgt': 'output_wcoolrg.dat'}\n",
    "    else:\n",
    "        return {'setup': setup_overlap,\n",
    "                'fname_flux_crd': 'output_flux.dat',\n",
    "                'fname_cool_crd': 'output_coolr.dat',\n",
    "                'fname_flux_wgt': 'output_wflux.dat',\n",
    "                'fname_cool_wgt': 'output_wcoolr.dat'}\n",
    "\n",
    "    \n",
    "def load_lblnew_data(param):\n",
    "    \n",
    "    fname_dsname = [('fname_flux_crd', 'ds_flux_crd'),\n",
    "                    ('fname_cool_crd', 'ds_cool_crd'),\n",
    "                    ('fname_flux_wgt', 'ds_flux_wgt'),\n",
    "                    ('fname_cool_wgt', 'ds_cool_wgt')]\n",
    "    \n",
    "    d = lblnew_setup(param)\n",
    "    dir_fortran = pipe_lblnew.get_dir_case(param, setup=d['setup'])\n",
    "    \n",
    "    data_dict = {}\n",
    "    for fname, dsname in fname_dsname:\n",
    "        fpath = os.path.join(dir_fortran, d[fname])\n",
    "        data_dict[dsname] = load_output_file(fpath)\n",
    "    return data_dict\n",
    "    \n",
    "\n",
    "    \n",
    "    "
   ]
  },
  {
   "cell_type": "code",
   "execution_count": 5,
   "metadata": {
    "collapsed": true
   },
   "outputs": [],
   "source": [
    "d = load_lblnew_data(PARAM_LBLNEW)\n",
    "\n",
    "DS_FLUX_CRD = d['ds_flux_crd']\n",
    "DS_COOL_CRD = d['ds_cool_crd']\n",
    "DS_FLUX_WGT = d['ds_flux_wgt']\n",
    "DS_COOL_WGT = d['ds_cool_wgt']"
   ]
  },
  {
   "cell_type": "code",
   "execution_count": 6,
   "metadata": {
    "collapsed": true
   },
   "outputs": [],
   "source": [
    "DIR_FORTRAN = pipe_cliradlw.get_fortran_dir(PARAM, \n",
    "                                            setup=setup_cliradlw)\n",
    "\n",
    "PATH_FLUX = os.path.join(DIR_FORTRAN, 'output_flux.dat')\n",
    "PATH_COOL = os.path.join(DIR_FORTRAN, 'output_coolr.dat')\n",
    "\n",
    "DS_FLUX = load_output_file(PATH_FLUX)\n",
    "DS_COOL = load_output_file(PATH_COOL)"
   ]
  },
  {
   "cell_type": "code",
   "execution_count": 7,
   "metadata": {
    "collapsed": true
   },
   "outputs": [
    {
     "data": {
      "text/html": [
       "\n",
       "    <div class=\"bk-root\">\n",
       "        <a href=\"https://bokeh.pydata.org\" target=\"_blank\" class=\"bk-logo bk-logo-small bk-logo-notebook\"></a>\n",
       "        <span id=\"ac155631-f37a-4ac7-b458-cb3c10cef3f8\">Loading BokehJS ...</span>\n",
       "    </div>"
      ]
     },
     "metadata": {},
     "output_type": "display_data"
    },
    {
     "data": {
      "application/javascript": [
       "\n",
       "(function(root) {\n",
       "  function now() {\n",
       "    return new Date();\n",
       "  }\n",
       "\n",
       "  var force = true;\n",
       "\n",
       "  if (typeof (root._bokeh_onload_callbacks) === \"undefined\" || force === true) {\n",
       "    root._bokeh_onload_callbacks = [];\n",
       "    root._bokeh_is_loading = undefined;\n",
       "  }\n",
       "\n",
       "  var JS_MIME_TYPE = 'application/javascript';\n",
       "  var HTML_MIME_TYPE = 'text/html';\n",
       "  var EXEC_MIME_TYPE = 'application/vnd.bokehjs_exec.v0+json';\n",
       "  var CLASS_NAME = 'output_bokeh rendered_html';\n",
       "\n",
       "  /**\n",
       "   * Render data to the DOM node\n",
       "   */\n",
       "  function render(props, node) {\n",
       "    var script = document.createElement(\"script\");\n",
       "    node.appendChild(script);\n",
       "  }\n",
       "\n",
       "  /**\n",
       "   * Handle when an output is cleared or removed\n",
       "   */\n",
       "  function handleClearOutput(event, handle) {\n",
       "    var cell = handle.cell;\n",
       "\n",
       "    var id = cell.output_area._bokeh_element_id;\n",
       "    var server_id = cell.output_area._bokeh_server_id;\n",
       "    // Clean up Bokeh references\n",
       "    if (id !== undefined) {\n",
       "      Bokeh.index[id].model.document.clear();\n",
       "      delete Bokeh.index[id];\n",
       "    }\n",
       "\n",
       "    if (server_id !== undefined) {\n",
       "      // Clean up Bokeh references\n",
       "      var cmd = \"from bokeh.io.state import curstate; print(curstate().uuid_to_server['\" + server_id + \"'].get_sessions()[0].document.roots[0]._id)\";\n",
       "      cell.notebook.kernel.execute(cmd, {\n",
       "        iopub: {\n",
       "          output: function(msg) {\n",
       "            var element_id = msg.content.text.trim();\n",
       "            Bokeh.index[element_id].model.document.clear();\n",
       "            delete Bokeh.index[element_id];\n",
       "          }\n",
       "        }\n",
       "      });\n",
       "      // Destroy server and session\n",
       "      var cmd = \"import bokeh.io.notebook as ion; ion.destroy_server('\" + server_id + \"')\";\n",
       "      cell.notebook.kernel.execute(cmd);\n",
       "    }\n",
       "  }\n",
       "\n",
       "  /**\n",
       "   * Handle when a new output is added\n",
       "   */\n",
       "  function handleAddOutput(event, handle) {\n",
       "    var output_area = handle.output_area;\n",
       "    var output = handle.output;\n",
       "\n",
       "    // limit handleAddOutput to display_data with EXEC_MIME_TYPE content only\n",
       "    if ((output.output_type != \"display_data\") || (!output.data.hasOwnProperty(EXEC_MIME_TYPE))) {\n",
       "      return\n",
       "    }\n",
       "\n",
       "    var toinsert = output_area.element.find(\".\" + CLASS_NAME.split(' ')[0]);\n",
       "\n",
       "    if (output.metadata[EXEC_MIME_TYPE][\"id\"] !== undefined) {\n",
       "      toinsert[toinsert.length - 1].firstChild.textContent = output.data[JS_MIME_TYPE];\n",
       "      // store reference to embed id on output_area\n",
       "      output_area._bokeh_element_id = output.metadata[EXEC_MIME_TYPE][\"id\"];\n",
       "    }\n",
       "    if (output.metadata[EXEC_MIME_TYPE][\"server_id\"] !== undefined) {\n",
       "      var bk_div = document.createElement(\"div\");\n",
       "      bk_div.innerHTML = output.data[HTML_MIME_TYPE];\n",
       "      var script_attrs = bk_div.children[0].attributes;\n",
       "      for (var i = 0; i < script_attrs.length; i++) {\n",
       "        toinsert[toinsert.length - 1].firstChild.setAttribute(script_attrs[i].name, script_attrs[i].value);\n",
       "      }\n",
       "      // store reference to server id on output_area\n",
       "      output_area._bokeh_server_id = output.metadata[EXEC_MIME_TYPE][\"server_id\"];\n",
       "    }\n",
       "  }\n",
       "\n",
       "  function register_renderer(events, OutputArea) {\n",
       "\n",
       "    function append_mime(data, metadata, element) {\n",
       "      // create a DOM node to render to\n",
       "      var toinsert = this.create_output_subarea(\n",
       "        metadata,\n",
       "        CLASS_NAME,\n",
       "        EXEC_MIME_TYPE\n",
       "      );\n",
       "      this.keyboard_manager.register_events(toinsert);\n",
       "      // Render to node\n",
       "      var props = {data: data, metadata: metadata[EXEC_MIME_TYPE]};\n",
       "      render(props, toinsert[toinsert.length - 1]);\n",
       "      element.append(toinsert);\n",
       "      return toinsert\n",
       "    }\n",
       "\n",
       "    /* Handle when an output is cleared or removed */\n",
       "    events.on('clear_output.CodeCell', handleClearOutput);\n",
       "    events.on('delete.Cell', handleClearOutput);\n",
       "\n",
       "    /* Handle when a new output is added */\n",
       "    events.on('output_added.OutputArea', handleAddOutput);\n",
       "\n",
       "    /**\n",
       "     * Register the mime type and append_mime function with output_area\n",
       "     */\n",
       "    OutputArea.prototype.register_mime_type(EXEC_MIME_TYPE, append_mime, {\n",
       "      /* Is output safe? */\n",
       "      safe: true,\n",
       "      /* Index of renderer in `output_area.display_order` */\n",
       "      index: 0\n",
       "    });\n",
       "  }\n",
       "\n",
       "  // register the mime type if in Jupyter Notebook environment and previously unregistered\n",
       "  if (root.Jupyter !== undefined) {\n",
       "    var events = require('base/js/events');\n",
       "    var OutputArea = require('notebook/js/outputarea').OutputArea;\n",
       "\n",
       "    if (OutputArea.prototype.mime_types().indexOf(EXEC_MIME_TYPE) == -1) {\n",
       "      register_renderer(events, OutputArea);\n",
       "    }\n",
       "  }\n",
       "\n",
       "  \n",
       "  if (typeof (root._bokeh_timeout) === \"undefined\" || force === true) {\n",
       "    root._bokeh_timeout = Date.now() + 5000;\n",
       "    root._bokeh_failed_load = false;\n",
       "  }\n",
       "\n",
       "  var NB_LOAD_WARNING = {'data': {'text/html':\n",
       "     \"<div style='background-color: #fdd'>\\n\"+\n",
       "     \"<p>\\n\"+\n",
       "     \"BokehJS does not appear to have successfully loaded. If loading BokehJS from CDN, this \\n\"+\n",
       "     \"may be due to a slow or bad network connection. Possible fixes:\\n\"+\n",
       "     \"</p>\\n\"+\n",
       "     \"<ul>\\n\"+\n",
       "     \"<li>re-rerun `output_notebook()` to attempt to load from CDN again, or</li>\\n\"+\n",
       "     \"<li>use INLINE resources instead, as so:</li>\\n\"+\n",
       "     \"</ul>\\n\"+\n",
       "     \"<code>\\n\"+\n",
       "     \"from bokeh.resources import INLINE\\n\"+\n",
       "     \"output_notebook(resources=INLINE)\\n\"+\n",
       "     \"</code>\\n\"+\n",
       "     \"</div>\"}};\n",
       "\n",
       "  function display_loaded() {\n",
       "    var el = document.getElementById(\"ac155631-f37a-4ac7-b458-cb3c10cef3f8\");\n",
       "    if (el != null) {\n",
       "      el.textContent = \"BokehJS is loading...\";\n",
       "    }\n",
       "    if (root.Bokeh !== undefined) {\n",
       "      if (el != null) {\n",
       "        el.textContent = \"BokehJS \" + root.Bokeh.version + \" successfully loaded.\";\n",
       "      }\n",
       "    } else if (Date.now() < root._bokeh_timeout) {\n",
       "      setTimeout(display_loaded, 100)\n",
       "    }\n",
       "  }\n",
       "\n",
       "\n",
       "  function run_callbacks() {\n",
       "    try {\n",
       "      root._bokeh_onload_callbacks.forEach(function(callback) { callback() });\n",
       "    }\n",
       "    finally {\n",
       "      delete root._bokeh_onload_callbacks\n",
       "    }\n",
       "    console.info(\"Bokeh: all callbacks have finished\");\n",
       "  }\n",
       "\n",
       "  function load_libs(js_urls, callback) {\n",
       "    root._bokeh_onload_callbacks.push(callback);\n",
       "    if (root._bokeh_is_loading > 0) {\n",
       "      console.log(\"Bokeh: BokehJS is being loaded, scheduling callback at\", now());\n",
       "      return null;\n",
       "    }\n",
       "    if (js_urls == null || js_urls.length === 0) {\n",
       "      run_callbacks();\n",
       "      return null;\n",
       "    }\n",
       "    console.log(\"Bokeh: BokehJS not loaded, scheduling load and callback at\", now());\n",
       "    root._bokeh_is_loading = js_urls.length;\n",
       "    for (var i = 0; i < js_urls.length; i++) {\n",
       "      var url = js_urls[i];\n",
       "      var s = document.createElement('script');\n",
       "      s.src = url;\n",
       "      s.async = false;\n",
       "      s.onreadystatechange = s.onload = function() {\n",
       "        root._bokeh_is_loading--;\n",
       "        if (root._bokeh_is_loading === 0) {\n",
       "          console.log(\"Bokeh: all BokehJS libraries loaded\");\n",
       "          run_callbacks()\n",
       "        }\n",
       "      };\n",
       "      s.onerror = function() {\n",
       "        console.warn(\"failed to load library \" + url);\n",
       "      };\n",
       "      console.log(\"Bokeh: injecting script tag for BokehJS library: \", url);\n",
       "      document.getElementsByTagName(\"head\")[0].appendChild(s);\n",
       "    }\n",
       "  };var element = document.getElementById(\"ac155631-f37a-4ac7-b458-cb3c10cef3f8\");\n",
       "  if (element == null) {\n",
       "    console.log(\"Bokeh: ERROR: autoload.js configured with elementid 'ac155631-f37a-4ac7-b458-cb3c10cef3f8' but no matching script tag was found. \")\n",
       "    return false;\n",
       "  }\n",
       "\n",
       "  var js_urls = [\"https://cdn.pydata.org/bokeh/release/bokeh-0.12.16.min.js\", \"https://cdn.pydata.org/bokeh/release/bokeh-widgets-0.12.16.min.js\", \"https://cdn.pydata.org/bokeh/release/bokeh-tables-0.12.16.min.js\", \"https://cdn.pydata.org/bokeh/release/bokeh-gl-0.12.16.min.js\"];\n",
       "\n",
       "  var inline_js = [\n",
       "    function(Bokeh) {\n",
       "      Bokeh.set_log_level(\"info\");\n",
       "    },\n",
       "    \n",
       "    function(Bokeh) {\n",
       "      \n",
       "    },\n",
       "    function(Bokeh) {\n",
       "      console.log(\"Bokeh: injecting CSS: https://cdn.pydata.org/bokeh/release/bokeh-0.12.16.min.css\");\n",
       "      Bokeh.embed.inject_css(\"https://cdn.pydata.org/bokeh/release/bokeh-0.12.16.min.css\");\n",
       "      console.log(\"Bokeh: injecting CSS: https://cdn.pydata.org/bokeh/release/bokeh-widgets-0.12.16.min.css\");\n",
       "      Bokeh.embed.inject_css(\"https://cdn.pydata.org/bokeh/release/bokeh-widgets-0.12.16.min.css\");\n",
       "      console.log(\"Bokeh: injecting CSS: https://cdn.pydata.org/bokeh/release/bokeh-tables-0.12.16.min.css\");\n",
       "      Bokeh.embed.inject_css(\"https://cdn.pydata.org/bokeh/release/bokeh-tables-0.12.16.min.css\");\n",
       "    }\n",
       "  ];\n",
       "\n",
       "  function run_inline_js() {\n",
       "    \n",
       "    if ((root.Bokeh !== undefined) || (force === true)) {\n",
       "      for (var i = 0; i < inline_js.length; i++) {\n",
       "        inline_js[i].call(root, root.Bokeh);\n",
       "      }if (force === true) {\n",
       "        display_loaded();\n",
       "      }} else if (Date.now() < root._bokeh_timeout) {\n",
       "      setTimeout(run_inline_js, 100);\n",
       "    } else if (!root._bokeh_failed_load) {\n",
       "      console.log(\"Bokeh: BokehJS failed to load within specified timeout.\");\n",
       "      root._bokeh_failed_load = true;\n",
       "    } else if (force !== true) {\n",
       "      var cell = $(document.getElementById(\"ac155631-f37a-4ac7-b458-cb3c10cef3f8\")).parents('.cell').data().cell;\n",
       "      cell.output_area.append_execute_result(NB_LOAD_WARNING)\n",
       "    }\n",
       "\n",
       "  }\n",
       "\n",
       "  if (root._bokeh_is_loading === 0) {\n",
       "    console.log(\"Bokeh: BokehJS loaded, going straight to plotting\");\n",
       "    run_inline_js();\n",
       "  } else {\n",
       "    load_libs(js_urls, function() {\n",
       "      console.log(\"Bokeh: BokehJS plotting callback run at\", now());\n",
       "      run_inline_js();\n",
       "    });\n",
       "  }\n",
       "}(window));"
      ],
      "application/vnd.bokehjs_load.v0+json": "\n(function(root) {\n  function now() {\n    return new Date();\n  }\n\n  var force = true;\n\n  if (typeof (root._bokeh_onload_callbacks) === \"undefined\" || force === true) {\n    root._bokeh_onload_callbacks = [];\n    root._bokeh_is_loading = undefined;\n  }\n\n  \n\n  \n  if (typeof (root._bokeh_timeout) === \"undefined\" || force === true) {\n    root._bokeh_timeout = Date.now() + 5000;\n    root._bokeh_failed_load = false;\n  }\n\n  var NB_LOAD_WARNING = {'data': {'text/html':\n     \"<div style='background-color: #fdd'>\\n\"+\n     \"<p>\\n\"+\n     \"BokehJS does not appear to have successfully loaded. If loading BokehJS from CDN, this \\n\"+\n     \"may be due to a slow or bad network connection. Possible fixes:\\n\"+\n     \"</p>\\n\"+\n     \"<ul>\\n\"+\n     \"<li>re-rerun `output_notebook()` to attempt to load from CDN again, or</li>\\n\"+\n     \"<li>use INLINE resources instead, as so:</li>\\n\"+\n     \"</ul>\\n\"+\n     \"<code>\\n\"+\n     \"from bokeh.resources import INLINE\\n\"+\n     \"output_notebook(resources=INLINE)\\n\"+\n     \"</code>\\n\"+\n     \"</div>\"}};\n\n  function display_loaded() {\n    var el = document.getElementById(\"ac155631-f37a-4ac7-b458-cb3c10cef3f8\");\n    if (el != null) {\n      el.textContent = \"BokehJS is loading...\";\n    }\n    if (root.Bokeh !== undefined) {\n      if (el != null) {\n        el.textContent = \"BokehJS \" + root.Bokeh.version + \" successfully loaded.\";\n      }\n    } else if (Date.now() < root._bokeh_timeout) {\n      setTimeout(display_loaded, 100)\n    }\n  }\n\n\n  function run_callbacks() {\n    try {\n      root._bokeh_onload_callbacks.forEach(function(callback) { callback() });\n    }\n    finally {\n      delete root._bokeh_onload_callbacks\n    }\n    console.info(\"Bokeh: all callbacks have finished\");\n  }\n\n  function load_libs(js_urls, callback) {\n    root._bokeh_onload_callbacks.push(callback);\n    if (root._bokeh_is_loading > 0) {\n      console.log(\"Bokeh: BokehJS is being loaded, scheduling callback at\", now());\n      return null;\n    }\n    if (js_urls == null || js_urls.length === 0) {\n      run_callbacks();\n      return null;\n    }\n    console.log(\"Bokeh: BokehJS not loaded, scheduling load and callback at\", now());\n    root._bokeh_is_loading = js_urls.length;\n    for (var i = 0; i < js_urls.length; i++) {\n      var url = js_urls[i];\n      var s = document.createElement('script');\n      s.src = url;\n      s.async = false;\n      s.onreadystatechange = s.onload = function() {\n        root._bokeh_is_loading--;\n        if (root._bokeh_is_loading === 0) {\n          console.log(\"Bokeh: all BokehJS libraries loaded\");\n          run_callbacks()\n        }\n      };\n      s.onerror = function() {\n        console.warn(\"failed to load library \" + url);\n      };\n      console.log(\"Bokeh: injecting script tag for BokehJS library: \", url);\n      document.getElementsByTagName(\"head\")[0].appendChild(s);\n    }\n  };var element = document.getElementById(\"ac155631-f37a-4ac7-b458-cb3c10cef3f8\");\n  if (element == null) {\n    console.log(\"Bokeh: ERROR: autoload.js configured with elementid 'ac155631-f37a-4ac7-b458-cb3c10cef3f8' but no matching script tag was found. \")\n    return false;\n  }\n\n  var js_urls = [\"https://cdn.pydata.org/bokeh/release/bokeh-0.12.16.min.js\", \"https://cdn.pydata.org/bokeh/release/bokeh-widgets-0.12.16.min.js\", \"https://cdn.pydata.org/bokeh/release/bokeh-tables-0.12.16.min.js\", \"https://cdn.pydata.org/bokeh/release/bokeh-gl-0.12.16.min.js\"];\n\n  var inline_js = [\n    function(Bokeh) {\n      Bokeh.set_log_level(\"info\");\n    },\n    \n    function(Bokeh) {\n      \n    },\n    function(Bokeh) {\n      console.log(\"Bokeh: injecting CSS: https://cdn.pydata.org/bokeh/release/bokeh-0.12.16.min.css\");\n      Bokeh.embed.inject_css(\"https://cdn.pydata.org/bokeh/release/bokeh-0.12.16.min.css\");\n      console.log(\"Bokeh: injecting CSS: https://cdn.pydata.org/bokeh/release/bokeh-widgets-0.12.16.min.css\");\n      Bokeh.embed.inject_css(\"https://cdn.pydata.org/bokeh/release/bokeh-widgets-0.12.16.min.css\");\n      console.log(\"Bokeh: injecting CSS: https://cdn.pydata.org/bokeh/release/bokeh-tables-0.12.16.min.css\");\n      Bokeh.embed.inject_css(\"https://cdn.pydata.org/bokeh/release/bokeh-tables-0.12.16.min.css\");\n    }\n  ];\n\n  function run_inline_js() {\n    \n    if ((root.Bokeh !== undefined) || (force === true)) {\n      for (var i = 0; i < inline_js.length; i++) {\n        inline_js[i].call(root, root.Bokeh);\n      }if (force === true) {\n        display_loaded();\n      }} else if (Date.now() < root._bokeh_timeout) {\n      setTimeout(run_inline_js, 100);\n    } else if (!root._bokeh_failed_load) {\n      console.log(\"Bokeh: BokehJS failed to load within specified timeout.\");\n      root._bokeh_failed_load = true;\n    } else if (force !== true) {\n      var cell = $(document.getElementById(\"ac155631-f37a-4ac7-b458-cb3c10cef3f8\")).parents('.cell').data().cell;\n      cell.output_area.append_execute_result(NB_LOAD_WARNING)\n    }\n\n  }\n\n  if (root._bokeh_is_loading === 0) {\n    console.log(\"Bokeh: BokehJS loaded, going straight to plotting\");\n    run_inline_js();\n  } else {\n    load_libs(js_urls, function() {\n      console.log(\"Bokeh: BokehJS plotting callback run at\", now());\n      run_inline_js();\n    });\n  }\n}(window));"
     },
     "metadata": {},
     "output_type": "display_data"
    }
   ],
   "source": [
    "output_notebook()"
   ]
  },
  {
   "cell_type": "code",
   "execution_count": 8,
   "metadata": {
    "collapsed": true
   },
   "outputs": [],
   "source": [
    "def fmt_cool(ds_in):\n",
    "    ds = ds_in.copy(deep=True)\n",
    "    if 'igg' in ds.dims:\n",
    "        ds = ds.sel(igg=1)\n",
    "\n",
    "    if 'g' in ds.dims:\n",
    "        ds = ds.sum('g')\n",
    "            \n",
    "    if 'band' in ds.dims:\n",
    "        try:\n",
    "            ds = ds.squeeze('band')\n",
    "        except ValueError:\n",
    "            ds = ds.sum('band')\n",
    "                \n",
    "    return ds['coolrg']\n",
    "\n",
    "\n",
    "def pltdata_cooling_1(ds_cool=None,\n",
    "                      ds_cool_crd=None, ds_cool_wgt=None):\n",
    "    \n",
    "\n",
    "\n",
    "    colors = all_palettes['Set1'][4]\n",
    "    data = [{'label': 'CLIRAD `coolr_bands`',\n",
    "             'srs': fmt_cool(ds_cool),\n",
    "             'line_dash': 'dashed', 'line_width': 5,\n",
    "             'color': colors[0], 'alpha': .6},\n",
    "            {'label': 'CRD',\n",
    "             'srs': fmt_cool(ds_cool_crd),\n",
    "             'line_dash': 'solid', 'line_width': 1.5,\n",
    "             'marker': 'circle', 'marker_size': 5,\n",
    "             'color': colors[2], 'alpha': 1,},\n",
    "            {'label': 'WGT igg=10 wgt_flux=2',\n",
    "             'srs': fmt_cool(ds_cool_wgt),\n",
    "             'line_dash': 'solid', 'line_width': 3,\n",
    "             'marker': 'square', 'marker_size': 5,\n",
    "             'color': colors[3], 'alpha': .6}]\n",
    "    return data\n",
    "\n",
    "\n",
    "def nice_xlims(pltdata=None, prange=None):\n",
    "    \n",
    "    def get_slice(srs):\n",
    "        return srs.sel(pressure=slice(*prange))\n",
    "    \n",
    "    srss = [d['srs'] for d in pltdata]\n",
    "    vmin = min([get_slice(srs).min() for srs in srss])\n",
    "    vmax = max([get_slice(srs).max() for srs in srss])\n",
    "    dv = (vmax - vmin) * .01\n",
    "    return float(vmin - dv), float(vmax + dv)\n",
    "    \n",
    "\n",
    "def plt_cooling_bokeh(pltdata=None):\n",
    "    '''\n",
    "    Plot a list of cooling rate profiles using bokeh.\n",
    "    '''\n",
    "    ymin = 1e-2 \n",
    "    ymax = 1020 \n",
    "        \n",
    "    p1 = figure(title=\"Linear pressure scale\", \n",
    "                plot_width=400)        \n",
    "    xmin, xmax = nice_xlims(pltdata, prange=(50, 1050))\n",
    "    for d in pltdata:\n",
    "        if 'marker' in d:\n",
    "            getattr(p1, d['marker'])(d['srs'].values, \n",
    "                    d['srs'].coords['pressure'].values,\n",
    "                    color=d['color'], alpha=.7)\n",
    "        p1.line(d['srs'].values, \n",
    "                d['srs'].coords['pressure'].values,\n",
    "                color=d['color'], alpha=d['alpha'], \n",
    "                line_width=d['line_width'], line_dash=d['line_dash'])\n",
    "    \n",
    "    p1.y_range = Range1d(ymax, ymin)\n",
    "    p1.yaxis.axis_label = 'pressure [mb]'   \n",
    "    p1.x_range = Range1d(xmin, xmax)\n",
    "    p1.xaxis.axis_label = 'cooling rate [K/day]'\n",
    "            \n",
    "    p2 = figure(title='Log pressure scale', y_axis_type='log',\n",
    "                plot_width=560)\n",
    "    xmin, xmax = nice_xlims(pltdata, prange=(.01, 200))\n",
    "    \n",
    "    rs = []\n",
    "    for d in pltdata:\n",
    "        rd = []\n",
    "        if 'marker' in d:\n",
    "            r_mark = getattr(p2, d['marker'])(d['srs'].values, \n",
    "                        d['srs'].coords['pressure'].values,\n",
    "                        color=d['color'], alpha=.7)\n",
    "            rd.append(r_mark)\n",
    "        r_line = p2.line(d['srs'].values, \n",
    "                    d['srs'].coords['pressure'].values,\n",
    "                    color=d['color'], alpha=d['alpha'], \n",
    "                    line_width=d['line_width'], line_dash=d['line_dash'])\n",
    "        rd.append(r_line)\n",
    "      \n",
    "        rs.append(rd)\n",
    "        \n",
    "    p2.y_range = Range1d(ymax, ymin)  \n",
    "    p2.yaxis.axis_label = 'pressure [mb]'\n",
    "    \n",
    "    p2.x_range = Range1d(xmin, xmax)\n",
    "    p2.xaxis.axis_label = 'cooling rate [K/day]'\n",
    "    \n",
    "    items = [(d['label'], r) for r, d in zip(rs, pltdata)]\n",
    "    legend = Legend(items=items, location=(10, -30))\n",
    "    legend.label_text_font_size = '8pt'\n",
    "    \n",
    "    p2.add_layout(legend, 'right')  \n",
    "    \n",
    "    show(gridplot(p1, p2, ncols=2, plot_height=500))\n",
    "    \n",
    "\n",
    "def script_plt_cooling():\n",
    "    pltdata = pltdata_cooling_1(\n",
    "        ds_cool=DS_COOL,\n",
    "        ds_cool_crd=DS_COOL_CRD,\n",
    "        ds_cool_wgt=DS_COOL_WGT)\n",
    "    plt_cooling_bokeh(pltdata=pltdata)\n",
    "    print('''FIGURE. Cooling rate profiles.''')"
   ]
  },
  {
   "cell_type": "code",
   "execution_count": 9,
   "metadata": {
    "collapsed": true
   },
   "outputs": [],
   "source": [
    "def fmt_flux(ds_in):\n",
    "    ds = ds_in.copy(deep=True)\n",
    "    \n",
    "    for l in ('level', 'layer'):\n",
    "        if l in ds.data_vars:\n",
    "            if len(ds[l].dims) > 1:\n",
    "                surface = {d: 0 for d in ds.dims if d != 'pressure'}\n",
    "                coord_level = ds[l][surface]\n",
    "                ds.coords[l] = ('pressure', coord_level)\n",
    "            else:\n",
    "                ds.coords[l] = ('pressure', ds[l])\n",
    "        \n",
    "    ds = ds.isel(pressure=[0, 23, -1])\n",
    "        \n",
    "    if 'igg' in ds.dims:\n",
    "        ds = ds.sel(igg=[1])\n",
    "        ds = ds.squeeze('igg').drop('igg')\n",
    "    \n",
    "    if 'g' in ds.dims:\n",
    "        ds = ds.sum('g')\n",
    "            \n",
    "    if 'band' in ds.dims:\n",
    "        try:\n",
    "            ds = ds.squeeze('band').drop('band')\n",
    "        except ValueError:\n",
    "            ds = ds.sum('band')\n",
    "                \n",
    "    df = ds.to_dataframe()\n",
    "    df = df.set_index('level', append=True)               \n",
    "    return df\n",
    "\n",
    "\n",
    "def tbdata_flux(ds_flux=None, ds_flux_crd=None, ds_flux_wgt=None):\n",
    "    ilevels = [0, 23, -1]\n",
    "            \n",
    "    benchmark = {'label': 'CRD',\n",
    "                 'df': fmt_flux(ds_flux_crd)}\n",
    "    \n",
    "    tbs = [{'label': 'WGT igg=10 wgt_flux=1',\n",
    "            'df': fmt_flux(ds_flux_wgt)},\n",
    "           {'label': 'CLIRAD',\n",
    "            'df': fmt_flux(ds_flux)}]\n",
    "    \n",
    "    data = {'benchmark': benchmark, 'others': tbs}\n",
    "    return data\n",
    "\n",
    "\n",
    "def tb_flux(tbdata=None):\n",
    "    benchmark = tbdata['benchmark']\n",
    "    others = tbdata['others']\n",
    "    \n",
    "    def show_tb(d=None):\n",
    "        display.display(d['df'])\n",
    "        print('Table.', 'Fluxes.', d['label'])\n",
    "        \n",
    "    def show_tbdiff(d0=None, d=None):\n",
    "        df = d['df']\n",
    "        df.index = d0['df'].index\n",
    "        display.display(df - d0['df'])\n",
    "        print('Table.', 'Fluxes.', \n",
    "              '({}) - ({})'.format(d['label'], d0['label']))\n",
    "        \n",
    "    show_tb(benchmark)\n",
    "    for d in others:\n",
    "        show_tb(d)\n",
    "        \n",
    "    for d in others:\n",
    "        show_tbdiff(d=d, d0=benchmark)\n",
    "        \n",
    "        \n",
    "def script_tb_flux():\n",
    "    data = tbdata_flux(ds_flux=DS_FLUX,\n",
    "                       ds_flux_crd=DS_FLUX_CRD,\n",
    "                       ds_flux_wgt=DS_FLUX_WGT)\n",
    "    tb_flux(tbdata=data)"
   ]
  },
  {
   "cell_type": "code",
   "execution_count": 10,
   "metadata": {
    "collapsed": true
   },
   "outputs": [],
   "source": [
    "def band_map():\n",
    "    '''\n",
    "    Maps spectral bands in lblnew to spectral bands in clirad.\n",
    "    '''\n",
    "    lblnew2clirad = {'1': '1',\n",
    "            '2': '2',\n",
    "            '3a': '3',\n",
    "            '3b': '4',\n",
    "            '3c': '5',\n",
    "            '4': '6', \n",
    "            '5': '7',\n",
    "            '6': '8',\n",
    "            '7': '9', \n",
    "            '8': '10',\n",
    "            '9': '11'}\n",
    "    \n",
    "    clirad2lblnew = {clirad: lblnew \n",
    "                     for lblnew, clirad in lblnew2clirad.items()}\n",
    "    return clirad2lblnew\n",
    "\n",
    "\n",
    "def gasbands():\n",
    "    bmap = band_map()\n",
    "    gases = list(PARAM['molecule'].keys())\n",
    "    \n",
    "    bands = [bmap[str(b)] for b in PARAM['band']]\n",
    "    return list(itertools.product(gases, bands))\n",
    "\n",
    "\n",
    "def print_bestfit_params():\n",
    "    print('Best-fit values for each (gas, band)')\n",
    "    print('------------------------------------')\n",
    "    for gas, band in gasbands():\n",
    "        print('o {} band{}'.format(gas, band))\n",
    "        param = bestfits.kdist_params(molecule=gas, band=band)\n",
    "        for name, value in sorted(param.items()):\n",
    "            print(2 * ' ' + '{} = {}'.format(name, value))\n",
    "\n",
    "        \n",
    "def print_input_param():        \n",
    "    for name, value in PARAM.items():\n",
    "        print('{} = {}'.format(name, value))\n",
    "        \n",
    "        \n",
    "def print_lblnew_param():\n",
    "    for name, value in sorted(PARAM_LBLNEW.items()):\n",
    "        print('{} = {}'.format(name, value))\n"
   ]
  },
  {
   "cell_type": "code",
   "execution_count": 11,
   "metadata": {
    "collapsed": true,
    "scrolled": false
   },
   "outputs": [],
   "source": [
    "def show_html(s):\n",
    "    display.display(display.HTML(s))\n",
    "\n",
    "    \n",
    "def show_markdown(s):\n",
    "    display.display(display.Markdown(s))\n",
    "\n",
    "    \n",
    "def script():\n",
    "    \n",
    "    title = '### CLIRAD-LW'\n",
    "    s_input = 'Input Parameters'\n",
    "    s_lblnew_param = 'LBLNEW case compaired against'\n",
    "    s_bestfits = 'Best-fit Parameters'\n",
    "    s_plt_cooling = 'Cooling Rate Profiles'\n",
    "    s_tb_flux = 'Flux Comparison'\n",
    "    \n",
    "    # title\n",
    "    show_markdown('### CLIRAD-LW')\n",
    "    \n",
    "    # TOC\n",
    "    show_markdown('### Table of Contents')\n",
    "    show_html(climahtml.getHTML_hrefanchor(s_input))\n",
    "    show_html(climahtml.getHTML_hrefanchor(s_lblnew_param))\n",
    "    show_html(climahtml.getHTML_hrefanchor(s_plt_cooling))\n",
    "    show_html(climahtml.getHTML_hrefanchor(s_tb_flux))\n",
    "    show_html(climahtml.getHTML_hrefanchor(s_bestfits))\n",
    "    \n",
    "    # Input parameters\n",
    "    show_html(climahtml.getHTML_idanchor(s_input))\n",
    "    show_markdown(climahtml.getMarkdown_sectitle(s_input))\n",
    "    print_input_param()\n",
    "    \n",
    "    # LBLNEW parameters \n",
    "    show_html(climahtml.getHTML_idanchor(s_lblnew_param))\n",
    "    show_markdown(climahtml.getMarkdown_sectitle(s_lblnew_param))\n",
    "    print_lblnew_param()\n",
    "    \n",
    "    # Cooling rate profiles\n",
    "    show_html(climahtml.getHTML_idanchor(s_plt_cooling))\n",
    "    show_markdown(climahtml.getMarkdown_sectitle(s_plt_cooling))\n",
    "    script_plt_cooling()\n",
    "    \n",
    "    # Flux comparison\n",
    "    show_html(climahtml.getHTML_idanchor(s_tb_flux))\n",
    "    show_markdown(climahtml.getMarkdown_sectitle(s_tb_flux))\n",
    "    script_tb_flux()\n",
    "    \n",
    "    # Best-fit values\n",
    "    show_html(climahtml.getHTML_idanchor(s_bestfits))\n",
    "    show_markdown(climahtml.getMarkdown_sectitle(s_bestfits))\n",
    "    print_bestfit_params()\n",
    "   \n",
    "    "
   ]
  },
  {
   "cell_type": "code",
   "execution_count": 12,
   "metadata": {
    "collapsed": true,
    "scrolled": false
   },
   "outputs": [
    {
     "data": {
      "text/markdown": [
       "### CLIRAD-LW"
      ],
      "text/plain": [
       "<IPython.core.display.Markdown object>"
      ]
     },
     "metadata": {},
     "output_type": "display_data"
    },
    {
     "data": {
      "text/markdown": [
       "### Table of Contents"
      ],
      "text/plain": [
       "<IPython.core.display.Markdown object>"
      ]
     },
     "metadata": {},
     "output_type": "display_data"
    },
    {
     "data": {
      "text/html": [
       "<a href=\"#Input_Parameters\">Input Parameters</a>"
      ],
      "text/plain": [
       "<IPython.core.display.HTML object>"
      ]
     },
     "metadata": {},
     "output_type": "display_data"
    },
    {
     "data": {
      "text/html": [
       "<a href=\"#LBLNEW_case_compaired_against\">LBLNEW case compaired against</a>"
      ],
      "text/plain": [
       "<IPython.core.display.HTML object>"
      ]
     },
     "metadata": {},
     "output_type": "display_data"
    },
    {
     "data": {
      "text/html": [
       "<a href=\"#Cooling_Rate_Profiles\">Cooling Rate Profiles</a>"
      ],
      "text/plain": [
       "<IPython.core.display.HTML object>"
      ]
     },
     "metadata": {},
     "output_type": "display_data"
    },
    {
     "data": {
      "text/html": [
       "<a href=\"#Flux_Comparison\">Flux Comparison</a>"
      ],
      "text/plain": [
       "<IPython.core.display.HTML object>"
      ]
     },
     "metadata": {},
     "output_type": "display_data"
    },
    {
     "data": {
      "text/html": [
       "<a href=\"#Best-fit_Parameters\">Best-fit Parameters</a>"
      ],
      "text/plain": [
       "<IPython.core.display.HTML object>"
      ]
     },
     "metadata": {},
     "output_type": "display_data"
    },
    {
     "data": {
      "text/html": [
       "<a id=\"Input_Parameters\"></a>"
      ],
      "text/plain": [
       "<IPython.core.display.HTML object>"
      ]
     },
     "metadata": {},
     "output_type": "display_data"
    },
    {
     "data": {
      "text/markdown": [
       "# Input Parameters"
      ],
      "text/plain": [
       "<IPython.core.display.Markdown object>"
      ]
     },
     "metadata": {},
     "output_type": "display_data"
    },
    {
     "name": "stdout",
     "output_type": "stream",
     "text": [
      "atmpro = saw\n",
      "band = [1]\n",
      "commitnumber = de5d43e\n",
      "molecule = {'h2o': 'atmpro'}\n",
      "tsfc = 257\n"
     ]
    },
    {
     "data": {
      "text/html": [
       "<a id=\"LBLNEW_case_compaired_against\"></a>"
      ],
      "text/plain": [
       "<IPython.core.display.HTML object>"
      ]
     },
     "metadata": {},
     "output_type": "display_data"
    },
    {
     "data": {
      "text/markdown": [
       "# LBLNEW case compaired against"
      ],
      "text/plain": [
       "<IPython.core.display.Markdown object>"
      ]
     },
     "metadata": {},
     "output_type": "display_data"
    },
    {
     "name": "stdout",
     "output_type": "stream",
     "text": [
      "atmpro = saw\n",
      "band = 1\n",
      "commitnumber = 5014a19\n",
      "conc = None\n",
      "dv = 0.001\n",
      "klin = 0\n",
      "molecule = h2o\n",
      "ng_adju = [0, 0, 0]\n",
      "ng_refs = [3, 3, 6]\n",
      "nv = 1000\n",
      "option_compute_btable = 0\n",
      "option_compute_ktable = 0\n",
      "option_wgt_flux = 1\n",
      "option_wgt_k = 1\n",
      "ref_pts = [(1, 250), (30, 250), (300, 250)]\n",
      "tsfc = 257\n",
      "vmax = 340\n",
      "vmin = 20\n",
      "w_diffuse = [(1.66, 1.66, 1.66), (1.66, 1.66, 1.66), (1.66, 1.66, 1.5, 1.5, 1.5, 1.5)]\n",
      "wgt = [(0.2, 0.2, 0.2), (0.2, 0.2, 0.2), (0.2, 0.2, 0.65, 0.65, 0.65, 0.65)]\n"
     ]
    },
    {
     "data": {
      "text/html": [
       "<a id=\"Cooling_Rate_Profiles\"></a>"
      ],
      "text/plain": [
       "<IPython.core.display.HTML object>"
      ]
     },
     "metadata": {},
     "output_type": "display_data"
    },
    {
     "data": {
      "text/markdown": [
       "# Cooling Rate Profiles"
      ],
      "text/plain": [
       "<IPython.core.display.Markdown object>"
      ]
     },
     "metadata": {},
     "output_type": "display_data"
    },
    {
     "data": {
      "text/html": [
       "\n",
       "<div class=\"bk-root\">\n",
       "    <div class=\"bk-plotdiv\" id=\"c5e3b09e-6902-471b-bc91-8214e8f5c37f\"></div>\n",
       "</div>"
      ]
     },
     "metadata": {},
     "output_type": "display_data"
    },
    {
     "data": {
      "application/javascript": [
       "(function(root) {\n",
       "  function embed_document(root) {\n",
       "    \n",
       "  var docs_json = {\"f822467d-e7ee-4a9a-a905-3644d24f6a9d\":{\"roots\":{\"references\":[{\"attributes\":{\"bottom_units\":\"screen\",\"fill_alpha\":{\"value\":0.5},\"fill_color\":{\"value\":\"lightgrey\"},\"left_units\":\"screen\",\"level\":\"overlay\",\"line_alpha\":{\"value\":1.0},\"line_color\":{\"value\":\"black\"},\"line_dash\":[4,4],\"line_width\":{\"value\":2},\"plot\":null,\"render_mode\":\"css\",\"right_units\":\"screen\",\"top_units\":\"screen\"},\"id\":\"10b52614-f8b6-49a1-bed4-c36adeb65655\",\"type\":\"BoxAnnotation\"},{\"attributes\":{\"data_source\":{\"id\":\"60aac933-f574-457c-b3b8-8eedefcb2855\",\"type\":\"ColumnDataSource\"},\"glyph\":{\"id\":\"c7b0c49a-62b8-44ed-a3f7-24657eab39ae\",\"type\":\"Circle\"},\"hover_glyph\":null,\"muted_glyph\":null,\"nonselection_glyph\":{\"id\":\"03d8a8a1-b655-4893-a1b9-2f5a224324ab\",\"type\":\"Circle\"},\"selection_glyph\":null,\"view\":{\"id\":\"4b7e0d23-7f96-40b7-8cc8-cb9394b4e99a\",\"type\":\"CDSView\"}},\"id\":\"67216916-6c13-4749-b449-e35e612a3773\",\"type\":\"GlyphRenderer\"},{\"attributes\":{\"callback\":null,\"data\":{\"x\":{\"__ndarray__\":\"IGsjkYC6D0D0JliN+QYMQPWloQF70AtAGu0mDEEWC0AO5WzlVccJQJuT4ORb6wdA1S49QpOcBUCOdx8X+wcDQPIHIwdDbABAGPisNQUU/D+ZIT76jBn4P9ZQbYiE8PQ//IN5AV1l8j80BugLmcPvP65Vt9S2Teo/a5kYbSSG5T9HpFAwoy/iP93M9ACwWOA/UB0NOLeF3z+/yPr3aAPgPyaQFDEbM+E/eRKfXz6D4T/MrGA+kp/gPx9jDDPwBOA/D27ex4Ob3j/ej57vLSDcP9jbZJdaFdk/6rps1hVN1j9KhuCqc6/UPye/jQ5AD9Q/PEr0yqlp0z+5jKVmYzbSP8mfRrwlsNE/JTb+kILn0T+qMO+ekavRP3WEiAXfONE/9PfZxpag0D9h27KVfMXPP3k5gCGUHNQ/V490All71z+NOP/XAhDaP7JCua5dCdo/PUE3NIJF2T9dQmGNAFHYP5AFFjtKeNY/DfSEg9Lh1T+Vt+NFg13YP8cwlC0LNds/Cu2FYV6G4T+RpPTAvWflP73igwb4Cec/i/8Qhqb/5j+0SG+KJl/lP3d2k04IgOI/3/RBIs+43j97TMJOSR/ZP/3ry/KuLtQ/snJqZqUlzz/uSdoDKpTGP7DVf1Z8474/kH8g7UwTtD9bmdvIGFWpP+MdET3y658/34WGJSnZlD/0zFQh0aqNP5fP3Lfx9ok/zu7/0yNXiz/x3VaEAByUPxi+igZtvJ0/Bxw+QTiNoT+cOzUzLqmdP+63tR/R2JE/GH6mYWttfz/sqEQntlRZP9RyFAmsqpG/\",\"dtype\":\"float64\",\"shape\":[75]},\"y\":{\"__ndarray__\":\"GhExyth1ND/Sv8nbtpRIP2vylNV0PVE/aTum7souWD/At0SJ8fVgPw3Iuahxymc/MSNhhJWvcD/bTfBN02d3P2zb5nxnaoA/CD5h5MAGhz8NmeH1TyaQP+zrCsc9p5Y/LbKd76fGnz/bLW5ISEmmPww9YvTcQq8/JV2OstnstT8Er5Y7M8G+P0c+r3jqkcU/5h99k6ZBzj88bCIzFzjVP4enV8oyxN0//yH99nXg5D8qOpLLf0jtP5kqGJXUifQ/c9cS8kHP/D+/DpwzojQEQIEmwoanVwxA4lgXt9HgE0BSSZ2AJuIbQAMJih9jjiNA5q4l5INuK0AwTKYKRj0zQNv5fmq8/DpAaCJseHrtQkB/+zpwzoxKQM3MzMzMeFJAZmZmZmZqWEAAAAAAAFxeQM3MzMzMJmJAmpmZmZkfZUBmZmZmZhhoQDMzMzMzEWtAAAAAAAAKbkBmZmZmZoFwQM3MzMzM/XFAMzMzMzN6c0CamZmZmfZ0QAAAAAAAc3ZAZmZmZmbvd0DNzMzMzGt5QDMzMzMz6HpAmpmZmZlkfEAAAAAAAOF9QGZmZmZmXX9AZmZmZuZsgECamZmZGSuBQM3MzMxM6YFAAAAAAICngkAzMzMzs2WDQGZmZmbmI4RAmpmZmRnihEDNzMzMTKCFQAAAAACAXoZAMzMzM7Mch0BmZmZm5tqHQJqZmZkZmYhAzczMzExXiUAAAAAAgBWKQDMzMzOz04pAZmZmZuaRi0CamZmZGVCMQM3MzMxMDo1AAAAAAIDMjUAzMzMzs4qOQGZmZmbmSI9A\",\"dtype\":\"float64\",\"shape\":[75]}},\"selected\":{\"id\":\"71ab1664-1895-49e7-8604-4842b0ece89b\",\"type\":\"Selection\"},\"selection_policy\":{\"id\":\"70a13a82-40d9-44b4-93e0-d672c8672a1b\",\"type\":\"UnionRenderers\"}},\"id\":\"b84f78d5-9d9a-4663-abf6-6de0192f5897\",\"type\":\"ColumnDataSource\"},{\"attributes\":{},\"id\":\"2266ed7e-0a8e-405b-b609-4b06591b44ea\",\"type\":\"PanTool\"},{\"attributes\":{},\"id\":\"91ac96d5-23f3-4152-a083-4d9d96c90f62\",\"type\":\"PanTool\"},{\"attributes\":{\"data_source\":{\"id\":\"657887a1-6672-47c9-90f6-6611cff04a1a\",\"type\":\"ColumnDataSource\"},\"glyph\":{\"id\":\"3ac9c436-d52f-4940-b47f-89a64ebcc95c\",\"type\":\"Line\"},\"hover_glyph\":null,\"muted_glyph\":null,\"nonselection_glyph\":{\"id\":\"955dc7ce-d47e-4481-94f0-e338de3c39b1\",\"type\":\"Line\"},\"selection_glyph\":null,\"view\":{\"id\":\"0008514e-00c6-4af8-bd3a-583113b2c0cb\",\"type\":\"CDSView\"}},\"id\":\"e8fab3a0-5c52-465e-b948-6dc527262528\",\"type\":\"GlyphRenderer\"},{\"attributes\":{\"fill_alpha\":{\"value\":0.7},\"fill_color\":{\"value\":\"#4daf4a\"},\"line_alpha\":{\"value\":0.7},\"line_color\":{\"value\":\"#4daf4a\"},\"x\":{\"field\":\"x\"},\"y\":{\"field\":\"y\"}},\"id\":\"c7b0c49a-62b8-44ed-a3f7-24657eab39ae\",\"type\":\"Circle\"},{\"attributes\":{\"line_alpha\":0.1,\"line_color\":\"#1f77b4\",\"line_dash\":[6],\"line_width\":5,\"x\":{\"field\":\"x\"},\"y\":{\"field\":\"y\"}},\"id\":\"955dc7ce-d47e-4481-94f0-e338de3c39b1\",\"type\":\"Line\"},{\"attributes\":{\"below\":[{\"id\":\"e4ca97cd-78d7-440d-b660-8a23bd541905\",\"type\":\"LinearAxis\"}],\"left\":[{\"id\":\"b94af986-9486-43f7-ad70-4e369d02ffcb\",\"type\":\"LogAxis\"}],\"plot_height\":500,\"plot_width\":560,\"renderers\":[{\"id\":\"e4ca97cd-78d7-440d-b660-8a23bd541905\",\"type\":\"LinearAxis\"},{\"id\":\"aa071e7d-79bb-4251-aab5-aa56bcf9befa\",\"type\":\"Grid\"},{\"id\":\"b94af986-9486-43f7-ad70-4e369d02ffcb\",\"type\":\"LogAxis\"},{\"id\":\"f22fff98-be9d-4b1e-8ccb-1d95579c48b6\",\"type\":\"Grid\"},{\"id\":\"10b52614-f8b6-49a1-bed4-c36adeb65655\",\"type\":\"BoxAnnotation\"},{\"id\":\"e8fab3a0-5c52-465e-b948-6dc527262528\",\"type\":\"GlyphRenderer\"},{\"id\":\"67216916-6c13-4749-b449-e35e612a3773\",\"type\":\"GlyphRenderer\"},{\"id\":\"261720e5-f1d0-458b-aa95-597fa6508b28\",\"type\":\"GlyphRenderer\"},{\"id\":\"47c998b3-645e-4b3f-85bb-6fa34ecb796b\",\"type\":\"GlyphRenderer\"},{\"id\":\"4b402119-8070-42ea-811f-1c2c6074da96\",\"type\":\"GlyphRenderer\"},{\"id\":\"623c1e62-3559-4d3a-bf61-f20397950963\",\"type\":\"Legend\"}],\"right\":[{\"id\":\"623c1e62-3559-4d3a-bf61-f20397950963\",\"type\":\"Legend\"}],\"title\":{\"id\":\"7dbbfe63-06e2-452a-a4f2-449a860390f6\",\"type\":\"Title\"},\"toolbar\":{\"id\":\"b6dc85dc-a45c-414c-90b7-f2f493d2e783\",\"type\":\"Toolbar\"},\"toolbar_location\":null,\"x_range\":{\"id\":\"3f3ec582-bb19-43b0-ada3-e0977fb77c61\",\"type\":\"Range1d\"},\"x_scale\":{\"id\":\"c96be1e1-b006-43b8-bd0c-1da537d3a9dd\",\"type\":\"LinearScale\"},\"y_range\":{\"id\":\"b7e954f3-1b97-48b8-b4ab-c4f5a0c2dcac\",\"type\":\"Range1d\"},\"y_scale\":{\"id\":\"d2f29653-69a4-43f3-93ac-34e9f5fe9f14\",\"type\":\"LogScale\"}},\"id\":\"2d814307-64c3-4c91-bdc2-0a5cee99dd72\",\"subtype\":\"Figure\",\"type\":\"Plot\"},{\"attributes\":{\"callback\":null,\"data\":{\"x\":{\"__ndarray__\":\"Dz+khAUMGEC6GF6kq1cSQM61eS0yOxFAaP3SR4XmD0C7W1misxwNQEtYG2MnPApALs5zn3deB0DeLwuS45MEQGvz/6oj5wFAF3w/2qTH/j/E+YokMCz6PwNs9vadFfY/gkEtYcil8j8MlLEtRSrvPyUNZvrCd+k/e/9Z0tUG5T8HryMv5wniPztNbi32K+A/2DekD2WB3j+0D0eRlHjeP3IfkLa3XOA/pyk8R2iU4D+wKvM9wKbeP9iPoDpOeNw/MTrmXXHI2j8ZMgUIchLZP8T4/kCYH9c/AHMtWoB21T/YGgBgK5fUP3Os/zF83dM/2IL/KSzj0j+PL6nzC6PRP2/ErHpt9NA/XWiVNqj/0D8Ds0KR7ufQP9y8cVKYt9A/D4VLnh120D9W1lfTzAXQPz9CxR/ictQ/PQkyIzjF1z9wxMUXDkDaPxi6ChCiSNo/vDFvm8qe2T/hh1oF96TYP67tkt1xr9Y/V9pWcbLm1T8dNS41pSnYP4qu6jBP/No/nymuCe2F4T/DvyG305TlP9Gbo/G4Juc/Qk5vsWi75j8AR0yaUBLlPzZJXmO4tuI/qouIINb03z8vpIEnRjnaP7oMYhTCstQ//ip+W8lxzz8wfuBLXQnHP1qA1+OVVsA/cK166buVtj9WdcGm77GuP5Cy8olEuqQ/IJwNAdlOnD9DVwu0hzKUP7X4vv8pMZA/g7Z5PF14kD+yPnb70vmVP0slhXeOCJ8/DenyEfEJoj85zDelM2WeP8ePhL9XW5I/Tm0VsqY6gD9XR+DgKg5ZPwKkTw4Ty5G/\",\"dtype\":\"float64\",\"shape\":[75]},\"y\":{\"__ndarray__\":\"GhExyth1ND/Sv8nbtpRIP2vylNV0PVE/aTum7souWD/At0SJ8fVgPw3Iuahxymc/MSNhhJWvcD/bTfBN02d3P2zb5nxnaoA/CD5h5MAGhz8NmeH1TyaQP+zrCsc9p5Y/LbKd76fGnz/bLW5ISEmmPww9YvTcQq8/JV2OstnstT8Er5Y7M8G+P0c+r3jqkcU/5h99k6ZBzj88bCIzFzjVP4enV8oyxN0//yH99nXg5D8qOpLLf0jtP5kqGJXUifQ/c9cS8kHP/D+/DpwzojQEQIEmwoanVwxA4lgXt9HgE0BSSZ2AJuIbQAMJih9jjiNA5q4l5INuK0AwTKYKRj0zQNv5fmq8/DpAaCJseHrtQkB/+zpwzoxKQM3MzMzMeFJAZmZmZmZqWEAAAAAAAFxeQM3MzMzMJmJAmpmZmZkfZUBmZmZmZhhoQDMzMzMzEWtAAAAAAAAKbkBmZmZmZoFwQM3MzMzM/XFAMzMzMzN6c0CamZmZmfZ0QAAAAAAAc3ZAZmZmZmbvd0DNzMzMzGt5QDMzMzMz6HpAmpmZmZlkfEAAAAAAAOF9QGZmZmZmXX9AZmZmZuZsgECamZmZGSuBQM3MzMxM6YFAAAAAAICngkAzMzMzs2WDQGZmZmbmI4RAmpmZmRnihEDNzMzMTKCFQAAAAACAXoZAMzMzM7Mch0BmZmZm5tqHQJqZmZkZmYhAzczMzExXiUAAAAAAgBWKQDMzMzOz04pAZmZmZuaRi0CamZmZGVCMQM3MzMxMDo1AAAAAAIDMjUAzMzMzs4qOQGZmZmbmSI9A\",\"dtype\":\"float64\",\"shape\":[75]}},\"selected\":{\"id\":\"a29f86de-c3de-4285-aaae-81f8cfa26190\",\"type\":\"Selection\"},\"selection_policy\":{\"id\":\"8e4b0ff9-ec66-4032-b1d1-8e2f147ee4db\",\"type\":\"UnionRenderers\"}},\"id\":\"60aac933-f574-457c-b3b8-8eedefcb2855\",\"type\":\"ColumnDataSource\"},{\"attributes\":{\"source\":{\"id\":\"33368233-facd-4168-9c11-562bc2e9fe90\",\"type\":\"ColumnDataSource\"}},\"id\":\"7f31505a-5478-4e23-b785-7a28daa5caec\",\"type\":\"CDSView\"},{\"attributes\":{\"callback\":null,\"data\":{\"x\":{\"__ndarray__\":\"LhBOVeueC0Bd1mlJ7P8JQH2YvWw7XQpALXcLyW47CkCMcVnghnMJQNpbJbPV8AdAMOhzpOmyBUCpYs9DEvICQDCE97ByEwBAVMyciUQc+z8NuimK/F/3P1m1tc90wPQ/9hj2xe+X8j9Ads2aDhPwP9ymT90iEeo/o4bCqQeT5D83E3jM5evgP983fNr6jN4//ITc2vze3T/IBcoaszTePxnXCXlOxN8/FYiF96jB3z/sB6fLg3DePxeKCaSjIN4/qubFy8tI3T+vgcavzNnaP9mjondLLtg/nlFnrAUP1T/1/OVqllHTPyV6lYzO/9I/9FPa6otn0j/iMwK/gP3QP6jL3ilPptA/P68VwNbd0D8fxygy55fQP0z33++8OdA/HCXx6gPmzj82MwJDuWHNP7Qwdoig5tI/K6axQU+Y1j/dXWdD/lnZP0PGJ41mX9k/1XwRREij2D8YFJvJFg3YP6yBGK4vztY/Y1tpxmCN1j9UhKP9chrZP0Dn4i1fsNs/oUTwZNyZ4T+WL2CwuGvlPy/v/U/2fec/akXEYg4B6D8xNbaVZkzmP+uWV42pBOM/gn8ACA7e3z+q/N/P+NfaP7k9Wv9bB9Y/q+4uo5rK0D9jBaZwkFLHP/WOprxO0b0/rOwlB5jrsT9aCc76QxylP5wH7yzztpk/dWAnX0oJkT/ORyHiSX+JPy8vI2n13YY/nBYNMCvIij8WVYzhVOWTP82/hnUdiZ0/Bl4U2sV2oT9lfVbbRX+dPy1fdtNWupE/Pk+Wsjk7fz/9uV5WBcNZP0UAOkOmuZG/\",\"dtype\":\"float64\",\"shape\":[75]},\"y\":{\"__ndarray__\":\"S/O/Q+51ND/Sv8nbtpRIP2vylNV0PVE/aTum7souWD/At0SJ8fVgPw3Iuahxymc/MSNhhJWvcD/bTfBN02d3P2zb5nxnaoA/CD5h5MAGhz8NmeH1TyaQP+zrCsc9p5Y/LbKd76fGnz/bLW5ISEmmPww9YvTcQq8/JV2OstnstT8Er5Y7M8G+P0c+r3jqkcU/5h99k6ZBzj88bCIzFzjVP4enV8oyxN0//yH99nXg5D8qOpLLf0jtP5kqGJXUifQ/c9cS8kHP/D+/DpwzojQEQIEmwoanVwxA4lgXt9HgE0BSSZ2AJuIbQAMJih9jjiNA5q4l5INuK0AwTKYKRj0zQNv5fmq8/DpAaCJseHrtQkB/+zpwzoxKQM3MzMzMeFJAZmZmZmZqWEAAAAAAAFxeQM3MzMzMJmJAmpmZmZkfZUBmZmZmZhhoQDMzMzMzEWtAAAAAAAAKbkBmZmZmZoFwQM3MzMzM/XFAMzMzMzN6c0CamZmZmfZ0QAAAAAAAc3ZAZmZmZmbvd0DNzMzMzGt5QDMzMzMz6HpAmpmZmZlkfEAAAAAAAOF9QGZmZmZmXX9AZmZmZuZsgECamZmZGSuBQM3MzMxM6YFAAAAAAICngkAzMzMzs2WDQGZmZmbmI4RAmpmZmRnihEDNzMzMTKCFQAAAAACAXoZAMzMzM7Mch0BmZmZm5tqHQJqZmZkZmYhAzczMzExXiUAAAAAAgBWKQDMzMzOz04pAZmZmZuaRi0CamZmZGVCMQM3MzMxMDo1AAAAAAIDMjUAzMzMzs4qOQGZmZmbmSI9A\",\"dtype\":\"float64\",\"shape\":[75]}},\"selected\":{\"id\":\"335c4f13-987f-4429-9bce-f16fe9b24b23\",\"type\":\"Selection\"},\"selection_policy\":{\"id\":\"a5bf4c3b-ec98-483e-8187-63c739a81085\",\"type\":\"UnionRenderers\"}},\"id\":\"657887a1-6672-47c9-90f6-6611cff04a1a\",\"type\":\"ColumnDataSource\"},{\"attributes\":{},\"id\":\"a9f9bb62-6259-4510-bb41-73b68e72fb98\",\"type\":\"Selection\"},{\"attributes\":{\"line_alpha\":0.6,\"line_color\":\"#e41a1c\",\"line_dash\":[6],\"line_width\":5,\"x\":{\"field\":\"x\"},\"y\":{\"field\":\"y\"}},\"id\":\"3ac9c436-d52f-4940-b47f-89a64ebcc95c\",\"type\":\"Line\"},{\"attributes\":{},\"id\":\"b07b7d93-882c-4d4c-a60a-3f4c897b8e9f\",\"type\":\"Selection\"},{\"attributes\":{\"callback\":null,\"data\":{\"x\":{\"__ndarray__\":\"LhBOVeueC0Bd1mlJ7P8JQH2YvWw7XQpALXcLyW47CkCMcVnghnMJQNpbJbPV8AdAMOhzpOmyBUCpYs9DEvICQDCE97ByEwBAVMyciUQc+z8NuimK/F/3P1m1tc90wPQ/9hj2xe+X8j9Ads2aDhPwP9ymT90iEeo/o4bCqQeT5D83E3jM5evgP983fNr6jN4//ITc2vze3T/IBcoaszTePxnXCXlOxN8/FYiF96jB3z/sB6fLg3DePxeKCaSjIN4/qubFy8tI3T+vgcavzNnaP9mjondLLtg/nlFnrAUP1T/1/OVqllHTPyV6lYzO/9I/9FPa6otn0j/iMwK/gP3QP6jL3ilPptA/P68VwNbd0D8fxygy55fQP0z33++8OdA/HCXx6gPmzj82MwJDuWHNP7Qwdoig5tI/K6axQU+Y1j/dXWdD/lnZP0PGJ41mX9k/1XwRREij2D8YFJvJFg3YP6yBGK4vztY/Y1tpxmCN1j9UhKP9chrZP0Dn4i1fsNs/oUTwZNyZ4T+WL2CwuGvlPy/v/U/2fec/akXEYg4B6D8xNbaVZkzmP+uWV42pBOM/gn8ACA7e3z+q/N/P+NfaP7k9Wv9bB9Y/q+4uo5rK0D9jBaZwkFLHP/WOprxO0b0/rOwlB5jrsT9aCc76QxylP5wH7yzztpk/dWAnX0oJkT/ORyHiSX+JPy8vI2n13YY/nBYNMCvIij8WVYzhVOWTP82/hnUdiZ0/Bl4U2sV2oT9lfVbbRX+dPy1fdtNWupE/Pk+Wsjk7fz/9uV5WBcNZP0UAOkOmuZG/\",\"dtype\":\"float64\",\"shape\":[75]},\"y\":{\"__ndarray__\":\"S/O/Q+51ND/Sv8nbtpRIP2vylNV0PVE/aTum7souWD/At0SJ8fVgPw3Iuahxymc/MSNhhJWvcD/bTfBN02d3P2zb5nxnaoA/CD5h5MAGhz8NmeH1TyaQP+zrCsc9p5Y/LbKd76fGnz/bLW5ISEmmPww9YvTcQq8/JV2OstnstT8Er5Y7M8G+P0c+r3jqkcU/5h99k6ZBzj88bCIzFzjVP4enV8oyxN0//yH99nXg5D8qOpLLf0jtP5kqGJXUifQ/c9cS8kHP/D+/DpwzojQEQIEmwoanVwxA4lgXt9HgE0BSSZ2AJuIbQAMJih9jjiNA5q4l5INuK0AwTKYKRj0zQNv5fmq8/DpAaCJseHrtQkB/+zpwzoxKQM3MzMzMeFJAZmZmZmZqWEAAAAAAAFxeQM3MzMzMJmJAmpmZmZkfZUBmZmZmZhhoQDMzMzMzEWtAAAAAAAAKbkBmZmZmZoFwQM3MzMzM/XFAMzMzMzN6c0CamZmZmfZ0QAAAAAAAc3ZAZmZmZmbvd0DNzMzMzGt5QDMzMzMz6HpAmpmZmZlkfEAAAAAAAOF9QGZmZmZmXX9AZmZmZuZsgECamZmZGSuBQM3MzMxM6YFAAAAAAICngkAzMzMzs2WDQGZmZmbmI4RAmpmZmRnihEDNzMzMTKCFQAAAAACAXoZAMzMzM7Mch0BmZmZm5tqHQJqZmZkZmYhAzczMzExXiUAAAAAAgBWKQDMzMzOz04pAZmZmZuaRi0CamZmZGVCMQM3MzMxMDo1AAAAAAIDMjUAzMzMzs4qOQGZmZmbmSI9A\",\"dtype\":\"float64\",\"shape\":[75]}},\"selected\":{\"id\":\"a9f9bb62-6259-4510-bb41-73b68e72fb98\",\"type\":\"Selection\"},\"selection_policy\":{\"id\":\"d80a04a3-72c0-4c6b-b7ed-405b6041cce7\",\"type\":\"UnionRenderers\"}},\"id\":\"0c82e362-6e69-4ab6-98ef-954db87d7a14\",\"type\":\"ColumnDataSource\"},{\"attributes\":{\"callback\":null,\"end\":0.7578039816000001,\"start\":-0.0250512816},\"id\":\"7300bb82-99fa-4369-b9f4-ae18d7a24b42\",\"type\":\"Range1d\"},{\"attributes\":{\"line_alpha\":0.1,\"line_color\":\"#1f77b4\",\"line_width\":1.5,\"x\":{\"field\":\"x\"},\"y\":{\"field\":\"y\"}},\"id\":\"af7f73e3-270f-4c60-9d29-c982fc2e138a\",\"type\":\"Line\"},{\"attributes\":{},\"id\":\"dfa73d49-b04a-464e-bc0b-8c2b2a95f2e6\",\"type\":\"HelpTool\"},{\"attributes\":{\"data_source\":{\"id\":\"aec2e9aa-695e-426b-9ed6-1540292106fb\",\"type\":\"ColumnDataSource\"},\"glyph\":{\"id\":\"ece9c10b-8e5c-4724-b7b7-46c003f8806b\",\"type\":\"Line\"},\"hover_glyph\":null,\"muted_glyph\":null,\"nonselection_glyph\":{\"id\":\"2fa577f4-6d08-4495-a717-eef5dfd5c01c\",\"type\":\"Line\"},\"selection_glyph\":null,\"view\":{\"id\":\"9aedf1b8-077b-4fd1-b511-97a9816ce293\",\"type\":\"CDSView\"}},\"id\":\"9a7b9fc6-6e6b-4c8d-8aba-ba3de8d70fcc\",\"type\":\"GlyphRenderer\"},{\"attributes\":{\"callback\":null,\"data\":{\"x\":{\"__ndarray__\":\"Dz+khAUMGEC6GF6kq1cSQM61eS0yOxFAaP3SR4XmD0C7W1misxwNQEtYG2MnPApALs5zn3deB0DeLwuS45MEQGvz/6oj5wFAF3w/2qTH/j/E+YokMCz6PwNs9vadFfY/gkEtYcil8j8MlLEtRSrvPyUNZvrCd+k/e/9Z0tUG5T8HryMv5wniPztNbi32K+A/2DekD2WB3j+0D0eRlHjeP3IfkLa3XOA/pyk8R2iU4D+wKvM9wKbeP9iPoDpOeNw/MTrmXXHI2j8ZMgUIchLZP8T4/kCYH9c/AHMtWoB21T/YGgBgK5fUP3Os/zF83dM/2IL/KSzj0j+PL6nzC6PRP2/ErHpt9NA/XWiVNqj/0D8Ds0KR7ufQP9y8cVKYt9A/D4VLnh120D9W1lfTzAXQPz9CxR/ictQ/PQkyIzjF1z9wxMUXDkDaPxi6ChCiSNo/vDFvm8qe2T/hh1oF96TYP67tkt1xr9Y/V9pWcbLm1T8dNS41pSnYP4qu6jBP/No/nymuCe2F4T/DvyG305TlP9Gbo/G4Juc/Qk5vsWi75j8AR0yaUBLlPzZJXmO4tuI/qouIINb03z8vpIEnRjnaP7oMYhTCstQ//ip+W8lxzz8wfuBLXQnHP1qA1+OVVsA/cK166buVtj9WdcGm77GuP5Cy8olEuqQ/IJwNAdlOnD9DVwu0hzKUP7X4vv8pMZA/g7Z5PF14kD+yPnb70vmVP0slhXeOCJ8/DenyEfEJoj85zDelM2WeP8ePhL9XW5I/Tm0VsqY6gD9XR+DgKg5ZPwKkTw4Ty5G/\",\"dtype\":\"float64\",\"shape\":[75]},\"y\":{\"__ndarray__\":\"GhExyth1ND/Sv8nbtpRIP2vylNV0PVE/aTum7souWD/At0SJ8fVgPw3Iuahxymc/MSNhhJWvcD/bTfBN02d3P2zb5nxnaoA/CD5h5MAGhz8NmeH1TyaQP+zrCsc9p5Y/LbKd76fGnz/bLW5ISEmmPww9YvTcQq8/JV2OstnstT8Er5Y7M8G+P0c+r3jqkcU/5h99k6ZBzj88bCIzFzjVP4enV8oyxN0//yH99nXg5D8qOpLLf0jtP5kqGJXUifQ/c9cS8kHP/D+/DpwzojQEQIEmwoanVwxA4lgXt9HgE0BSSZ2AJuIbQAMJih9jjiNA5q4l5INuK0AwTKYKRj0zQNv5fmq8/DpAaCJseHrtQkB/+zpwzoxKQM3MzMzMeFJAZmZmZmZqWEAAAAAAAFxeQM3MzMzMJmJAmpmZmZkfZUBmZmZmZhhoQDMzMzMzEWtAAAAAAAAKbkBmZmZmZoFwQM3MzMzM/XFAMzMzMzN6c0CamZmZmfZ0QAAAAAAAc3ZAZmZmZmbvd0DNzMzMzGt5QDMzMzMz6HpAmpmZmZlkfEAAAAAAAOF9QGZmZmZmXX9AZmZmZuZsgECamZmZGSuBQM3MzMxM6YFAAAAAAICngkAzMzMzs2WDQGZmZmbmI4RAmpmZmRnihEDNzMzMTKCFQAAAAACAXoZAMzMzM7Mch0BmZmZm5tqHQJqZmZkZmYhAzczMzExXiUAAAAAAgBWKQDMzMzOz04pAZmZmZuaRi0CamZmZGVCMQM3MzMxMDo1AAAAAAIDMjUAzMzMzs4qOQGZmZmbmSI9A\",\"dtype\":\"float64\",\"shape\":[75]}},\"selected\":{\"id\":\"95fdd58e-123b-4346-9a4f-305e206ee2ce\",\"type\":\"Selection\"},\"selection_policy\":{\"id\":\"67ad446a-c370-4e1e-89d1-91c71dcced27\",\"type\":\"UnionRenderers\"}},\"id\":\"33368233-facd-4168-9c11-562bc2e9fe90\",\"type\":\"ColumnDataSource\"},{\"attributes\":{},\"id\":\"1ff5c363-3c81-4cbb-a8eb-09680b2ab3f6\",\"type\":\"ResetTool\"},{\"attributes\":{\"fill_alpha\":{\"value\":0.1},\"fill_color\":{\"value\":\"#1f77b4\"},\"line_alpha\":{\"value\":0.1},\"line_color\":{\"value\":\"#1f77b4\"},\"x\":{\"field\":\"x\"},\"y\":{\"field\":\"y\"}},\"id\":\"03d8a8a1-b655-4893-a1b9-2f5a224324ab\",\"type\":\"Circle\"},{\"attributes\":{\"line_alpha\":0.1,\"line_color\":\"#1f77b4\",\"line_width\":3,\"x\":{\"field\":\"x\"},\"y\":{\"field\":\"y\"}},\"id\":\"2fa577f4-6d08-4495-a717-eef5dfd5c01c\",\"type\":\"Line\"},{\"attributes\":{},\"id\":\"73097639-4ff6-425d-be86-4472b16473a8\",\"type\":\"UnionRenderers\"},{\"attributes\":{\"source\":{\"id\":\"60aac933-f574-457c-b3b8-8eedefcb2855\",\"type\":\"ColumnDataSource\"}},\"id\":\"4b7e0d23-7f96-40b7-8cc8-cb9394b4e99a\",\"type\":\"CDSView\"},{\"attributes\":{},\"id\":\"41890d44-1e1c-42c7-accb-4c7051e82b0f\",\"type\":\"Selection\"},{\"attributes\":{\"line_alpha\":0.6,\"line_color\":\"#984ea3\",\"line_width\":3,\"x\":{\"field\":\"x\"},\"y\":{\"field\":\"y\"}},\"id\":\"ece9c10b-8e5c-4724-b7b7-46c003f8806b\",\"type\":\"Line\"},{\"attributes\":{\"source\":{\"id\":\"657887a1-6672-47c9-90f6-6611cff04a1a\",\"type\":\"ColumnDataSource\"}},\"id\":\"0008514e-00c6-4af8-bd3a-583113b2c0cb\",\"type\":\"CDSView\"},{\"attributes\":{\"callback\":null,\"end\":0.01,\"start\":1020},\"id\":\"c59851c5-97d0-4cdf-9bc1-209f2d2717dd\",\"type\":\"Range1d\"},{\"attributes\":{\"source\":{\"id\":\"aec2e9aa-695e-426b-9ed6-1540292106fb\",\"type\":\"ColumnDataSource\"}},\"id\":\"9aedf1b8-077b-4fd1-b511-97a9816ce293\",\"type\":\"CDSView\"},{\"attributes\":{\"line_color\":\"#4daf4a\",\"line_width\":1.5,\"x\":{\"field\":\"x\"},\"y\":{\"field\":\"y\"}},\"id\":\"a56820e6-4da3-4a2f-9b17-85aff69608a5\",\"type\":\"Line\"},{\"attributes\":{\"overlay\":{\"id\":\"10b52614-f8b6-49a1-bed4-c36adeb65655\",\"type\":\"BoxAnnotation\"}},\"id\":\"cc36e476-f419-4ea9-bcc8-e7b242aa3126\",\"type\":\"BoxZoomTool\"},{\"attributes\":{\"data_source\":{\"id\":\"33368233-facd-4168-9c11-562bc2e9fe90\",\"type\":\"ColumnDataSource\"},\"glyph\":{\"id\":\"a56820e6-4da3-4a2f-9b17-85aff69608a5\",\"type\":\"Line\"},\"hover_glyph\":null,\"muted_glyph\":null,\"nonselection_glyph\":{\"id\":\"af7f73e3-270f-4c60-9d29-c982fc2e138a\",\"type\":\"Line\"},\"selection_glyph\":null,\"view\":{\"id\":\"7f31505a-5478-4e23-b785-7a28daa5caec\",\"type\":\"CDSView\"}},\"id\":\"261720e5-f1d0-458b-aa95-597fa6508b28\",\"type\":\"GlyphRenderer\"},{\"attributes\":{},\"id\":\"e7db8c70-95df-416e-960b-e2aad2fb31cf\",\"type\":\"UnionRenderers\"},{\"attributes\":{\"data_source\":{\"id\":\"0c82e362-6e69-4ab6-98ef-954db87d7a14\",\"type\":\"ColumnDataSource\"},\"glyph\":{\"id\":\"68f9fec0-a514-4dbb-b03c-e383d2c0936d\",\"type\":\"Line\"},\"hover_glyph\":null,\"muted_glyph\":null,\"nonselection_glyph\":{\"id\":\"46d93a97-f322-4d0c-8105-aac874cd3e90\",\"type\":\"Line\"},\"selection_glyph\":null,\"view\":{\"id\":\"0cada8d6-b2b6-4689-9bd7-5e46a6a63390\",\"type\":\"CDSView\"}},\"id\":\"4f92dd13-26d7-4152-a2a3-c0e01c1af3f8\",\"type\":\"GlyphRenderer\"},{\"attributes\":{},\"id\":\"d80a04a3-72c0-4c6b-b7ed-405b6041cce7\",\"type\":\"UnionRenderers\"},{\"attributes\":{\"axis_label\":\"pressure [mb]\",\"formatter\":{\"id\":\"1e4a9dd6-c688-408b-bff7-2ecc967073f9\",\"type\":\"LogTickFormatter\"},\"plot\":{\"id\":\"2d814307-64c3-4c91-bdc2-0a5cee99dd72\",\"subtype\":\"Figure\",\"type\":\"Plot\"},\"ticker\":{\"id\":\"a30a83e9-9955-4e2d-ac12-845a6c2f8cec\",\"type\":\"LogTicker\"}},\"id\":\"b94af986-9486-43f7-ad70-4e369d02ffcb\",\"type\":\"LogAxis\"},{\"attributes\":{\"num_minor_ticks\":10},\"id\":\"a30a83e9-9955-4e2d-ac12-845a6c2f8cec\",\"type\":\"LogTicker\"},{\"attributes\":{},\"id\":\"58e98f1b-414b-4658-9eaf-3b20b56ecb5a\",\"type\":\"WheelZoomTool\"},{\"attributes\":{},\"id\":\"8c0dc684-bfa0-4209-afb3-406e2e67e314\",\"type\":\"SaveTool\"},{\"attributes\":{\"callback\":null,\"data\":{\"x\":{\"__ndarray__\":\"Dz+khAUMGEC6GF6kq1cSQM61eS0yOxFAaP3SR4XmD0C7W1misxwNQEtYG2MnPApALs5zn3deB0DeLwuS45MEQGvz/6oj5wFAF3w/2qTH/j/E+YokMCz6PwNs9vadFfY/gkEtYcil8j8MlLEtRSrvPyUNZvrCd+k/e/9Z0tUG5T8HryMv5wniPztNbi32K+A/2DekD2WB3j+0D0eRlHjeP3IfkLa3XOA/pyk8R2iU4D+wKvM9wKbeP9iPoDpOeNw/MTrmXXHI2j8ZMgUIchLZP8T4/kCYH9c/AHMtWoB21T/YGgBgK5fUP3Os/zF83dM/2IL/KSzj0j+PL6nzC6PRP2/ErHpt9NA/XWiVNqj/0D8Ds0KR7ufQP9y8cVKYt9A/D4VLnh120D9W1lfTzAXQPz9CxR/ictQ/PQkyIzjF1z9wxMUXDkDaPxi6ChCiSNo/vDFvm8qe2T/hh1oF96TYP67tkt1xr9Y/V9pWcbLm1T8dNS41pSnYP4qu6jBP/No/nymuCe2F4T/DvyG305TlP9Gbo/G4Juc/Qk5vsWi75j8AR0yaUBLlPzZJXmO4tuI/qouIINb03z8vpIEnRjnaP7oMYhTCstQ//ip+W8lxzz8wfuBLXQnHP1qA1+OVVsA/cK166buVtj9WdcGm77GuP5Cy8olEuqQ/IJwNAdlOnD9DVwu0hzKUP7X4vv8pMZA/g7Z5PF14kD+yPnb70vmVP0slhXeOCJ8/DenyEfEJoj85zDelM2WeP8ePhL9XW5I/Tm0VsqY6gD9XR+DgKg5ZPwKkTw4Ty5G/\",\"dtype\":\"float64\",\"shape\":[75]},\"y\":{\"__ndarray__\":\"GhExyth1ND/Sv8nbtpRIP2vylNV0PVE/aTum7souWD/At0SJ8fVgPw3Iuahxymc/MSNhhJWvcD/bTfBN02d3P2zb5nxnaoA/CD5h5MAGhz8NmeH1TyaQP+zrCsc9p5Y/LbKd76fGnz/bLW5ISEmmPww9YvTcQq8/JV2OstnstT8Er5Y7M8G+P0c+r3jqkcU/5h99k6ZBzj88bCIzFzjVP4enV8oyxN0//yH99nXg5D8qOpLLf0jtP5kqGJXUifQ/c9cS8kHP/D+/DpwzojQEQIEmwoanVwxA4lgXt9HgE0BSSZ2AJuIbQAMJih9jjiNA5q4l5INuK0AwTKYKRj0zQNv5fmq8/DpAaCJseHrtQkB/+zpwzoxKQM3MzMzMeFJAZmZmZmZqWEAAAAAAAFxeQM3MzMzMJmJAmpmZmZkfZUBmZmZmZhhoQDMzMzMzEWtAAAAAAAAKbkBmZmZmZoFwQM3MzMzM/XFAMzMzMzN6c0CamZmZmfZ0QAAAAAAAc3ZAZmZmZmbvd0DNzMzMzGt5QDMzMzMz6HpAmpmZmZlkfEAAAAAAAOF9QGZmZmZmXX9AZmZmZuZsgECamZmZGSuBQM3MzMxM6YFAAAAAAICngkAzMzMzs2WDQGZmZmbmI4RAmpmZmRnihEDNzMzMTKCFQAAAAACAXoZAMzMzM7Mch0BmZmZm5tqHQJqZmZkZmYhAzczMzExXiUAAAAAAgBWKQDMzMzOz04pAZmZmZuaRi0CamZmZGVCMQM3MzMxMDo1AAAAAAIDMjUAzMzMzs4qOQGZmZmbmSI9A\",\"dtype\":\"float64\",\"shape\":[75]}},\"selected\":{\"id\":\"b07b7d93-882c-4d4c-a60a-3f4c897b8e9f\",\"type\":\"Selection\"},\"selection_policy\":{\"id\":\"73097639-4ff6-425d-be86-4472b16473a8\",\"type\":\"UnionRenderers\"}},\"id\":\"dabb1f1c-4f16-4679-a2a6-95e460d9330f\",\"type\":\"ColumnDataSource\"},{\"attributes\":{\"line_alpha\":0.6,\"line_color\":\"#e41a1c\",\"line_dash\":[6],\"line_width\":5,\"x\":{\"field\":\"x\"},\"y\":{\"field\":\"y\"}},\"id\":\"68f9fec0-a514-4dbb-b03c-e383d2c0936d\",\"type\":\"Line\"},{\"attributes\":{\"source\":{\"id\":\"0c82e362-6e69-4ab6-98ef-954db87d7a14\",\"type\":\"ColumnDataSource\"}},\"id\":\"0cada8d6-b2b6-4689-9bd7-5e46a6a63390\",\"type\":\"CDSView\"},{\"attributes\":{\"dimension\":1,\"plot\":{\"id\":\"01861214-7720-4b64-b02f-07c0f0222bf4\",\"subtype\":\"Figure\",\"type\":\"Plot\"},\"ticker\":{\"id\":\"cd77d0f6-e9d9-4933-94d2-f35cbbdbe4e2\",\"type\":\"BasicTicker\"}},\"id\":\"d77e32f6-3dab-40e3-8dc2-2a35cfdbc17c\",\"type\":\"Grid\"},{\"attributes\":{\"dimension\":1,\"plot\":{\"id\":\"2d814307-64c3-4c91-bdc2-0a5cee99dd72\",\"subtype\":\"Figure\",\"type\":\"Plot\"},\"ticker\":{\"id\":\"a30a83e9-9955-4e2d-ac12-845a6c2f8cec\",\"type\":\"LogTicker\"}},\"id\":\"f22fff98-be9d-4b1e-8ccb-1d95579c48b6\",\"type\":\"Grid\"},{\"attributes\":{\"line_alpha\":0.1,\"line_color\":\"#1f77b4\",\"line_dash\":[6],\"line_width\":5,\"x\":{\"field\":\"x\"},\"y\":{\"field\":\"y\"}},\"id\":\"46d93a97-f322-4d0c-8105-aac874cd3e90\",\"type\":\"Line\"},{\"attributes\":{\"line_alpha\":0.6,\"line_color\":\"#984ea3\",\"line_width\":3,\"x\":{\"field\":\"x\"},\"y\":{\"field\":\"y\"}},\"id\":\"d6313449-df3a-42e1-bf5b-51ec4246c930\",\"type\":\"Line\"},{\"attributes\":{\"bottom_units\":\"screen\",\"fill_alpha\":{\"value\":0.5},\"fill_color\":{\"value\":\"lightgrey\"},\"left_units\":\"screen\",\"level\":\"overlay\",\"line_alpha\":{\"value\":1.0},\"line_color\":{\"value\":\"black\"},\"line_dash\":[4,4],\"line_width\":{\"value\":2},\"plot\":null,\"render_mode\":\"css\",\"right_units\":\"screen\",\"top_units\":\"screen\"},\"id\":\"88048bdf-f532-4b1e-9ee1-aca2e51cb120\",\"type\":\"BoxAnnotation\"},{\"attributes\":{\"callback\":null,\"end\":0.01,\"start\":1020},\"id\":\"b7e954f3-1b97-48b8-b4ab-c4f5a0c2dcac\",\"type\":\"Range1d\"},{\"attributes\":{\"data_source\":{\"id\":\"f22e2848-3045-42e6-92af-1a4b96204f72\",\"type\":\"ColumnDataSource\"},\"glyph\":{\"id\":\"d6313449-df3a-42e1-bf5b-51ec4246c930\",\"type\":\"Line\"},\"hover_glyph\":null,\"muted_glyph\":null,\"nonselection_glyph\":{\"id\":\"d451c290-f203-4df9-912a-db54af051567\",\"type\":\"Line\"},\"selection_glyph\":null,\"view\":{\"id\":\"7ed25c29-ab25-45ca-887b-c82e13a11891\",\"type\":\"CDSView\"}},\"id\":\"4b402119-8070-42ea-811f-1c2c6074da96\",\"type\":\"GlyphRenderer\"},{\"attributes\":{\"callback\":null,\"data\":{\"x\":{\"__ndarray__\":\"IGsjkYC6D0D0JliN+QYMQPWloQF70AtAGu0mDEEWC0AO5WzlVccJQJuT4ORb6wdA1S49QpOcBUCOdx8X+wcDQPIHIwdDbABAGPisNQUU/D+ZIT76jBn4P9ZQbYiE8PQ//IN5AV1l8j80BugLmcPvP65Vt9S2Teo/a5kYbSSG5T9HpFAwoy/iP93M9ACwWOA/UB0NOLeF3z+/yPr3aAPgPyaQFDEbM+E/eRKfXz6D4T/MrGA+kp/gPx9jDDPwBOA/D27ex4Ob3j/ej57vLSDcP9jbZJdaFdk/6rps1hVN1j9KhuCqc6/UPye/jQ5AD9Q/PEr0yqlp0z+5jKVmYzbSP8mfRrwlsNE/JTb+kILn0T+qMO+ekavRP3WEiAXfONE/9PfZxpag0D9h27KVfMXPP3k5gCGUHNQ/V490All71z+NOP/XAhDaP7JCua5dCdo/PUE3NIJF2T9dQmGNAFHYP5AFFjtKeNY/DfSEg9Lh1T+Vt+NFg13YP8cwlC0LNds/Cu2FYV6G4T+RpPTAvWflP73igwb4Cec/i/8Qhqb/5j+0SG+KJl/lP3d2k04IgOI/3/RBIs+43j97TMJOSR/ZP/3ry/KuLtQ/snJqZqUlzz/uSdoDKpTGP7DVf1Z8474/kH8g7UwTtD9bmdvIGFWpP+MdET3y658/34WGJSnZlD/0zFQh0aqNP5fP3Lfx9ok/zu7/0yNXiz/x3VaEAByUPxi+igZtvJ0/Bxw+QTiNoT+cOzUzLqmdP+63tR/R2JE/GH6mYWttfz/sqEQntlRZP9RyFAmsqpG/\",\"dtype\":\"float64\",\"shape\":[75]},\"y\":{\"__ndarray__\":\"GhExyth1ND/Sv8nbtpRIP2vylNV0PVE/aTum7souWD/At0SJ8fVgPw3Iuahxymc/MSNhhJWvcD/bTfBN02d3P2zb5nxnaoA/CD5h5MAGhz8NmeH1TyaQP+zrCsc9p5Y/LbKd76fGnz/bLW5ISEmmPww9YvTcQq8/JV2OstnstT8Er5Y7M8G+P0c+r3jqkcU/5h99k6ZBzj88bCIzFzjVP4enV8oyxN0//yH99nXg5D8qOpLLf0jtP5kqGJXUifQ/c9cS8kHP/D+/DpwzojQEQIEmwoanVwxA4lgXt9HgE0BSSZ2AJuIbQAMJih9jjiNA5q4l5INuK0AwTKYKRj0zQNv5fmq8/DpAaCJseHrtQkB/+zpwzoxKQM3MzMzMeFJAZmZmZmZqWEAAAAAAAFxeQM3MzMzMJmJAmpmZmZkfZUBmZmZmZhhoQDMzMzMzEWtAAAAAAAAKbkBmZmZmZoFwQM3MzMzM/XFAMzMzMzN6c0CamZmZmfZ0QAAAAAAAc3ZAZmZmZmbvd0DNzMzMzGt5QDMzMzMz6HpAmpmZmZlkfEAAAAAAAOF9QGZmZmZmXX9AZmZmZuZsgECamZmZGSuBQM3MzMxM6YFAAAAAAICngkAzMzMzs2WDQGZmZmbmI4RAmpmZmRnihEDNzMzMTKCFQAAAAACAXoZAMzMzM7Mch0BmZmZm5tqHQJqZmZkZmYhAzczMzExXiUAAAAAAgBWKQDMzMzOz04pAZmZmZuaRi0CamZmZGVCMQM3MzMxMDo1AAAAAAIDMjUAzMzMzs4qOQGZmZmbmSI9A\",\"dtype\":\"float64\",\"shape\":[75]}},\"selected\":{\"id\":\"7ebc244a-0194-4b3e-8c47-9b527a629838\",\"type\":\"Selection\"},\"selection_policy\":{\"id\":\"3d2b4690-0063-44ea-8957-9569807409c5\",\"type\":\"UnionRenderers\"}},\"id\":\"aec2e9aa-695e-426b-9ed6-1540292106fb\",\"type\":\"ColumnDataSource\"},{\"attributes\":{\"children\":[{\"id\":\"01861214-7720-4b64-b02f-07c0f0222bf4\",\"subtype\":\"Figure\",\"type\":\"Plot\"},{\"id\":\"2d814307-64c3-4c91-bdc2-0a5cee99dd72\",\"subtype\":\"Figure\",\"type\":\"Plot\"}]},\"id\":\"3754b7e0-d74c-4ce5-95ab-8fd2ab6cc91e\",\"type\":\"Row\"},{\"attributes\":{\"overlay\":{\"id\":\"88048bdf-f532-4b1e-9ee1-aca2e51cb120\",\"type\":\"BoxAnnotation\"}},\"id\":\"ccb88b9e-12bd-4f0e-8041-2a4b810b385c\",\"type\":\"BoxZoomTool\"},{\"attributes\":{\"data_source\":{\"id\":\"0dcd017f-9342-424e-a616-6d08dc784c10\",\"type\":\"ColumnDataSource\"},\"glyph\":{\"id\":\"4d5041dc-f198-42af-8a08-2b17541269e8\",\"type\":\"Line\"},\"hover_glyph\":null,\"muted_glyph\":null,\"nonselection_glyph\":{\"id\":\"82933942-75d0-47cf-bb57-0d9e5b69ee3b\",\"type\":\"Line\"},\"selection_glyph\":null,\"view\":{\"id\":\"0f796508-068b-4e22-aefa-509bebdaefb8\",\"type\":\"CDSView\"}},\"id\":\"c4948b6f-65b4-4f1d-9aa3-47a71120d937\",\"type\":\"GlyphRenderer\"},{\"attributes\":{},\"id\":\"a60b0687-7b5d-4983-af9a-eb2ac294dfad\",\"type\":\"WheelZoomTool\"},{\"attributes\":{\"callback\":null,\"data\":{\"x\":{\"__ndarray__\":\"IGsjkYC6D0D0JliN+QYMQPWloQF70AtAGu0mDEEWC0AO5WzlVccJQJuT4ORb6wdA1S49QpOcBUCOdx8X+wcDQPIHIwdDbABAGPisNQUU/D+ZIT76jBn4P9ZQbYiE8PQ//IN5AV1l8j80BugLmcPvP65Vt9S2Teo/a5kYbSSG5T9HpFAwoy/iP93M9ACwWOA/UB0NOLeF3z+/yPr3aAPgPyaQFDEbM+E/eRKfXz6D4T/MrGA+kp/gPx9jDDPwBOA/D27ex4Ob3j/ej57vLSDcP9jbZJdaFdk/6rps1hVN1j9KhuCqc6/UPye/jQ5AD9Q/PEr0yqlp0z+5jKVmYzbSP8mfRrwlsNE/JTb+kILn0T+qMO+ekavRP3WEiAXfONE/9PfZxpag0D9h27KVfMXPP3k5gCGUHNQ/V490All71z+NOP/XAhDaP7JCua5dCdo/PUE3NIJF2T9dQmGNAFHYP5AFFjtKeNY/DfSEg9Lh1T+Vt+NFg13YP8cwlC0LNds/Cu2FYV6G4T+RpPTAvWflP73igwb4Cec/i/8Qhqb/5j+0SG+KJl/lP3d2k04IgOI/3/RBIs+43j97TMJOSR/ZP/3ry/KuLtQ/snJqZqUlzz/uSdoDKpTGP7DVf1Z8474/kH8g7UwTtD9bmdvIGFWpP+MdET3y658/34WGJSnZlD/0zFQh0aqNP5fP3Lfx9ok/zu7/0yNXiz/x3VaEAByUPxi+igZtvJ0/Bxw+QTiNoT+cOzUzLqmdP+63tR/R2JE/GH6mYWttfz/sqEQntlRZP9RyFAmsqpG/\",\"dtype\":\"float64\",\"shape\":[75]},\"y\":{\"__ndarray__\":\"GhExyth1ND/Sv8nbtpRIP2vylNV0PVE/aTum7souWD/At0SJ8fVgPw3Iuahxymc/MSNhhJWvcD/bTfBN02d3P2zb5nxnaoA/CD5h5MAGhz8NmeH1TyaQP+zrCsc9p5Y/LbKd76fGnz/bLW5ISEmmPww9YvTcQq8/JV2OstnstT8Er5Y7M8G+P0c+r3jqkcU/5h99k6ZBzj88bCIzFzjVP4enV8oyxN0//yH99nXg5D8qOpLLf0jtP5kqGJXUifQ/c9cS8kHP/D+/DpwzojQEQIEmwoanVwxA4lgXt9HgE0BSSZ2AJuIbQAMJih9jjiNA5q4l5INuK0AwTKYKRj0zQNv5fmq8/DpAaCJseHrtQkB/+zpwzoxKQM3MzMzMeFJAZmZmZmZqWEAAAAAAAFxeQM3MzMzMJmJAmpmZmZkfZUBmZmZmZhhoQDMzMzMzEWtAAAAAAAAKbkBmZmZmZoFwQM3MzMzM/XFAMzMzMzN6c0CamZmZmfZ0QAAAAAAAc3ZAZmZmZmbvd0DNzMzMzGt5QDMzMzMz6HpAmpmZmZlkfEAAAAAAAOF9QGZmZmZmXX9AZmZmZuZsgECamZmZGSuBQM3MzMxM6YFAAAAAAICngkAzMzMzs2WDQGZmZmbmI4RAmpmZmRnihEDNzMzMTKCFQAAAAACAXoZAMzMzM7Mch0BmZmZm5tqHQJqZmZkZmYhAzczMzExXiUAAAAAAgBWKQDMzMzOz04pAZmZmZuaRi0CamZmZGVCMQM3MzMxMDo1AAAAAAIDMjUAzMzMzs4qOQGZmZmbmSI9A\",\"dtype\":\"float64\",\"shape\":[75]}},\"selected\":{\"id\":\"afea38a8-d674-4ebc-8146-cdd2eb89a938\",\"type\":\"Selection\"},\"selection_policy\":{\"id\":\"225968b8-6238-4706-8622-9986b84a18d8\",\"type\":\"UnionRenderers\"}},\"id\":\"f22e2848-3045-42e6-92af-1a4b96204f72\",\"type\":\"ColumnDataSource\"},{\"attributes\":{},\"id\":\"5ade004a-a07a-4c05-91b0-1c04d2c28279\",\"type\":\"ResetTool\"},{\"attributes\":{\"axis_label\":\"cooling rate [K/day]\",\"formatter\":{\"id\":\"f4747be9-c0c4-476e-9f0a-18b27ac734d7\",\"type\":\"BasicTickFormatter\"},\"plot\":{\"id\":\"01861214-7720-4b64-b02f-07c0f0222bf4\",\"subtype\":\"Figure\",\"type\":\"Plot\"},\"ticker\":{\"id\":\"355e5df9-bdde-436d-b87e-2748c9b650eb\",\"type\":\"BasicTicker\"}},\"id\":\"31cdc6c7-caa2-4e74-88da-8db8f1c94618\",\"type\":\"LinearAxis\"},{\"attributes\":{},\"id\":\"e1622377-b499-4e70-bd1b-9496a581fc00\",\"type\":\"LinearScale\"},{\"attributes\":{\"below\":[{\"id\":\"31cdc6c7-caa2-4e74-88da-8db8f1c94618\",\"type\":\"LinearAxis\"}],\"left\":[{\"id\":\"8cd9ab79-7802-4da7-81bc-3784fa5c34bb\",\"type\":\"LinearAxis\"}],\"plot_height\":500,\"plot_width\":400,\"renderers\":[{\"id\":\"31cdc6c7-caa2-4e74-88da-8db8f1c94618\",\"type\":\"LinearAxis\"},{\"id\":\"7bd144a0-c66f-4701-a67e-3dc56375e670\",\"type\":\"Grid\"},{\"id\":\"8cd9ab79-7802-4da7-81bc-3784fa5c34bb\",\"type\":\"LinearAxis\"},{\"id\":\"d77e32f6-3dab-40e3-8dc2-2a35cfdbc17c\",\"type\":\"Grid\"},{\"id\":\"88048bdf-f532-4b1e-9ee1-aca2e51cb120\",\"type\":\"BoxAnnotation\"},{\"id\":\"4f92dd13-26d7-4152-a2a3-c0e01c1af3f8\",\"type\":\"GlyphRenderer\"},{\"id\":\"7460d47b-f9da-4ff4-9241-1fbdbaa8bf8d\",\"type\":\"GlyphRenderer\"},{\"id\":\"c4948b6f-65b4-4f1d-9aa3-47a71120d937\",\"type\":\"GlyphRenderer\"},{\"id\":\"2b8556af-4c6b-44f6-9c5e-882dab34945d\",\"type\":\"GlyphRenderer\"},{\"id\":\"9a7b9fc6-6e6b-4c8d-8aba-ba3de8d70fcc\",\"type\":\"GlyphRenderer\"}],\"title\":{\"id\":\"3b4c2471-c651-4237-a190-f1c4dd215312\",\"type\":\"Title\"},\"toolbar\":{\"id\":\"e2d358f8-7f38-4b45-84b1-60a39b0b6f5e\",\"type\":\"Toolbar\"},\"toolbar_location\":null,\"x_range\":{\"id\":\"7300bb82-99fa-4369-b9f4-ae18d7a24b42\",\"type\":\"Range1d\"},\"x_scale\":{\"id\":\"e1622377-b499-4e70-bd1b-9496a581fc00\",\"type\":\"LinearScale\"},\"y_range\":{\"id\":\"c59851c5-97d0-4cdf-9bc1-209f2d2717dd\",\"type\":\"Range1d\"},\"y_scale\":{\"id\":\"3947c74a-22b2-4938-88b5-ede35e60afed\",\"type\":\"LinearScale\"}},\"id\":\"01861214-7720-4b64-b02f-07c0f0222bf4\",\"subtype\":\"Figure\",\"type\":\"Plot\"},{\"attributes\":{\"plot\":null,\"text\":\"Log pressure scale\"},\"id\":\"7dbbfe63-06e2-452a-a4f2-449a860390f6\",\"type\":\"Title\"},{\"attributes\":{\"source\":{\"id\":\"0dcd017f-9342-424e-a616-6d08dc784c10\",\"type\":\"ColumnDataSource\"}},\"id\":\"0f796508-068b-4e22-aefa-509bebdaefb8\",\"type\":\"CDSView\"},{\"attributes\":{\"data_source\":{\"id\":\"dabb1f1c-4f16-4679-a2a6-95e460d9330f\",\"type\":\"ColumnDataSource\"},\"glyph\":{\"id\":\"2739a5b3-4767-4e77-846d-46803f4dd80c\",\"type\":\"Circle\"},\"hover_glyph\":null,\"muted_glyph\":null,\"nonselection_glyph\":{\"id\":\"9588e346-fac8-4275-8bc3-a1b5c120ab16\",\"type\":\"Circle\"},\"selection_glyph\":null,\"view\":{\"id\":\"eab5521f-6dfa-4c25-ae04-aa85ff9a549f\",\"type\":\"CDSView\"}},\"id\":\"7460d47b-f9da-4ff4-9241-1fbdbaa8bf8d\",\"type\":\"GlyphRenderer\"},{\"attributes\":{\"data_source\":{\"id\":\"b84f78d5-9d9a-4663-abf6-6de0192f5897\",\"type\":\"ColumnDataSource\"},\"glyph\":{\"id\":\"af1a0dc6-d534-4a28-8410-350401a362f4\",\"type\":\"Square\"},\"hover_glyph\":null,\"muted_glyph\":null,\"nonselection_glyph\":{\"id\":\"a9a220c1-bc10-4737-9a8b-d10e2d03cf4c\",\"type\":\"Square\"},\"selection_glyph\":null,\"view\":{\"id\":\"0c1926cf-4561-4511-8ef5-25d46c65b8b3\",\"type\":\"CDSView\"}},\"id\":\"47c998b3-645e-4b3f-85bb-6fa34ecb796b\",\"type\":\"GlyphRenderer\"},{\"attributes\":{\"axis_label\":\"pressure [mb]\",\"formatter\":{\"id\":\"d020d41b-e4aa-4804-a120-75df2a99cdd1\",\"type\":\"BasicTickFormatter\"},\"plot\":{\"id\":\"01861214-7720-4b64-b02f-07c0f0222bf4\",\"subtype\":\"Figure\",\"type\":\"Plot\"},\"ticker\":{\"id\":\"cd77d0f6-e9d9-4933-94d2-f35cbbdbe4e2\",\"type\":\"BasicTicker\"}},\"id\":\"8cd9ab79-7802-4da7-81bc-3784fa5c34bb\",\"type\":\"LinearAxis\"},{\"attributes\":{\"source\":{\"id\":\"b84f78d5-9d9a-4663-abf6-6de0192f5897\",\"type\":\"ColumnDataSource\"}},\"id\":\"0c1926cf-4561-4511-8ef5-25d46c65b8b3\",\"type\":\"CDSView\"},{\"attributes\":{},\"id\":\"5f3c23d8-0f6b-4001-af8d-ac5422fdca0b\",\"type\":\"SaveTool\"},{\"attributes\":{\"source\":{\"id\":\"198727b4-cb3b-4a18-8f3f-f9a32d703236\",\"type\":\"ColumnDataSource\"}},\"id\":\"6685f00d-4aaa-48eb-b0fd-a2db0eab780a\",\"type\":\"CDSView\"},{\"attributes\":{\"children\":[{\"id\":\"3754b7e0-d74c-4ce5-95ab-8fd2ab6cc91e\",\"type\":\"Row\"}]},\"id\":\"669bb0cd-a72e-4dae-8845-547612c1f196\",\"type\":\"Column\"},{\"attributes\":{\"line_alpha\":0.1,\"line_color\":\"#1f77b4\",\"line_width\":3,\"x\":{\"field\":\"x\"},\"y\":{\"field\":\"y\"}},\"id\":\"d451c290-f203-4df9-912a-db54af051567\",\"type\":\"Line\"},{\"attributes\":{\"items\":[{\"id\":\"55bebc1d-5e34-40cf-948d-d6b5ffead58c\",\"type\":\"LegendItem\"},{\"id\":\"f0ba3094-a2f7-4371-9bf8-069e211d9f2a\",\"type\":\"LegendItem\"},{\"id\":\"dda1edb4-1bb3-4c89-9ed0-3ef0f4cc72e5\",\"type\":\"LegendItem\"}],\"label_text_font_size\":{\"value\":\"8pt\"},\"location\":[10,-30],\"plot\":{\"id\":\"2d814307-64c3-4c91-bdc2-0a5cee99dd72\",\"subtype\":\"Figure\",\"type\":\"Plot\"}},\"id\":\"623c1e62-3559-4d3a-bf61-f20397950963\",\"type\":\"Legend\"},{\"attributes\":{\"line_alpha\":0.1,\"line_color\":\"#1f77b4\",\"line_width\":1.5,\"x\":{\"field\":\"x\"},\"y\":{\"field\":\"y\"}},\"id\":\"82933942-75d0-47cf-bb57-0d9e5b69ee3b\",\"type\":\"Line\"},{\"attributes\":{\"fill_alpha\":{\"value\":0.7},\"fill_color\":{\"value\":\"#984ea3\"},\"line_alpha\":{\"value\":0.7},\"line_color\":{\"value\":\"#984ea3\"},\"x\":{\"field\":\"x\"},\"y\":{\"field\":\"y\"}},\"id\":\"af1a0dc6-d534-4a28-8410-350401a362f4\",\"type\":\"Square\"},{\"attributes\":{\"active_drag\":\"auto\",\"active_inspect\":\"auto\",\"active_scroll\":\"auto\",\"active_tap\":\"auto\",\"tools\":[{\"id\":\"91ac96d5-23f3-4152-a083-4d9d96c90f62\",\"type\":\"PanTool\"},{\"id\":\"a60b0687-7b5d-4983-af9a-eb2ac294dfad\",\"type\":\"WheelZoomTool\"},{\"id\":\"ccb88b9e-12bd-4f0e-8041-2a4b810b385c\",\"type\":\"BoxZoomTool\"},{\"id\":\"5f3c23d8-0f6b-4001-af8d-ac5422fdca0b\",\"type\":\"SaveTool\"},{\"id\":\"5ade004a-a07a-4c05-91b0-1c04d2c28279\",\"type\":\"ResetTool\"},{\"id\":\"0b5a1a3d-8314-4605-ac64-a145e8082d31\",\"type\":\"HelpTool\"}]},\"id\":\"e2d358f8-7f38-4b45-84b1-60a39b0b6f5e\",\"type\":\"Toolbar\"},{\"attributes\":{\"plot\":null,\"text\":\"Linear pressure scale\"},\"id\":\"3b4c2471-c651-4237-a190-f1c4dd215312\",\"type\":\"Title\"},{\"attributes\":{\"active_drag\":\"auto\",\"active_inspect\":\"auto\",\"active_scroll\":\"auto\",\"active_tap\":\"auto\",\"tools\":[{\"id\":\"2266ed7e-0a8e-405b-b609-4b06591b44ea\",\"type\":\"PanTool\"},{\"id\":\"58e98f1b-414b-4658-9eaf-3b20b56ecb5a\",\"type\":\"WheelZoomTool\"},{\"id\":\"cc36e476-f419-4ea9-bcc8-e7b242aa3126\",\"type\":\"BoxZoomTool\"},{\"id\":\"8c0dc684-bfa0-4209-afb3-406e2e67e314\",\"type\":\"SaveTool\"},{\"id\":\"1ff5c363-3c81-4cbb-a8eb-09680b2ab3f6\",\"type\":\"ResetTool\"},{\"id\":\"dfa73d49-b04a-464e-bc0b-8c2b2a95f2e6\",\"type\":\"HelpTool\"}]},\"id\":\"b6dc85dc-a45c-414c-90b7-f2f493d2e783\",\"type\":\"Toolbar\"},{\"attributes\":{\"source\":{\"id\":\"f22e2848-3045-42e6-92af-1a4b96204f72\",\"type\":\"ColumnDataSource\"}},\"id\":\"7ed25c29-ab25-45ca-887b-c82e13a11891\",\"type\":\"CDSView\"},{\"attributes\":{\"callback\":null,\"data\":{\"x\":{\"__ndarray__\":\"Dz+khAUMGEC6GF6kq1cSQM61eS0yOxFAaP3SR4XmD0C7W1misxwNQEtYG2MnPApALs5zn3deB0DeLwuS45MEQGvz/6oj5wFAF3w/2qTH/j/E+YokMCz6PwNs9vadFfY/gkEtYcil8j8MlLEtRSrvPyUNZvrCd+k/e/9Z0tUG5T8HryMv5wniPztNbi32K+A/2DekD2WB3j+0D0eRlHjeP3IfkLa3XOA/pyk8R2iU4D+wKvM9wKbeP9iPoDpOeNw/MTrmXXHI2j8ZMgUIchLZP8T4/kCYH9c/AHMtWoB21T/YGgBgK5fUP3Os/zF83dM/2IL/KSzj0j+PL6nzC6PRP2/ErHpt9NA/XWiVNqj/0D8Ds0KR7ufQP9y8cVKYt9A/D4VLnh120D9W1lfTzAXQPz9CxR/ictQ/PQkyIzjF1z9wxMUXDkDaPxi6ChCiSNo/vDFvm8qe2T/hh1oF96TYP67tkt1xr9Y/V9pWcbLm1T8dNS41pSnYP4qu6jBP/No/nymuCe2F4T/DvyG305TlP9Gbo/G4Juc/Qk5vsWi75j8AR0yaUBLlPzZJXmO4tuI/qouIINb03z8vpIEnRjnaP7oMYhTCstQ//ip+W8lxzz8wfuBLXQnHP1qA1+OVVsA/cK166buVtj9WdcGm77GuP5Cy8olEuqQ/IJwNAdlOnD9DVwu0hzKUP7X4vv8pMZA/g7Z5PF14kD+yPnb70vmVP0slhXeOCJ8/DenyEfEJoj85zDelM2WeP8ePhL9XW5I/Tm0VsqY6gD9XR+DgKg5ZPwKkTw4Ty5G/\",\"dtype\":\"float64\",\"shape\":[75]},\"y\":{\"__ndarray__\":\"GhExyth1ND/Sv8nbtpRIP2vylNV0PVE/aTum7souWD/At0SJ8fVgPw3Iuahxymc/MSNhhJWvcD/bTfBN02d3P2zb5nxnaoA/CD5h5MAGhz8NmeH1TyaQP+zrCsc9p5Y/LbKd76fGnz/bLW5ISEmmPww9YvTcQq8/JV2OstnstT8Er5Y7M8G+P0c+r3jqkcU/5h99k6ZBzj88bCIzFzjVP4enV8oyxN0//yH99nXg5D8qOpLLf0jtP5kqGJXUifQ/c9cS8kHP/D+/DpwzojQEQIEmwoanVwxA4lgXt9HgE0BSSZ2AJuIbQAMJih9jjiNA5q4l5INuK0AwTKYKRj0zQNv5fmq8/DpAaCJseHrtQkB/+zpwzoxKQM3MzMzMeFJAZmZmZmZqWEAAAAAAAFxeQM3MzMzMJmJAmpmZmZkfZUBmZmZmZhhoQDMzMzMzEWtAAAAAAAAKbkBmZmZmZoFwQM3MzMzM/XFAMzMzMzN6c0CamZmZmfZ0QAAAAAAAc3ZAZmZmZmbvd0DNzMzMzGt5QDMzMzMz6HpAmpmZmZlkfEAAAAAAAOF9QGZmZmZmXX9AZmZmZuZsgECamZmZGSuBQM3MzMxM6YFAAAAAAICngkAzMzMzs2WDQGZmZmbmI4RAmpmZmRnihEDNzMzMTKCFQAAAAACAXoZAMzMzM7Mch0BmZmZm5tqHQJqZmZkZmYhAzczMzExXiUAAAAAAgBWKQDMzMzOz04pAZmZmZuaRi0CamZmZGVCMQM3MzMxMDo1AAAAAAIDMjUAzMzMzs4qOQGZmZmbmSI9A\",\"dtype\":\"float64\",\"shape\":[75]}},\"selected\":{\"id\":\"41890d44-1e1c-42c7-accb-4c7051e82b0f\",\"type\":\"Selection\"},\"selection_policy\":{\"id\":\"e7db8c70-95df-416e-960b-e2aad2fb31cf\",\"type\":\"UnionRenderers\"}},\"id\":\"0dcd017f-9342-424e-a616-6d08dc784c10\",\"type\":\"ColumnDataSource\"},{\"attributes\":{\"fill_alpha\":{\"value\":0.1},\"fill_color\":{\"value\":\"#1f77b4\"},\"line_alpha\":{\"value\":0.1},\"line_color\":{\"value\":\"#1f77b4\"},\"x\":{\"field\":\"x\"},\"y\":{\"field\":\"y\"}},\"id\":\"a9a220c1-bc10-4737-9a8b-d10e2d03cf4c\",\"type\":\"Square\"},{\"attributes\":{},\"id\":\"f4747be9-c0c4-476e-9f0a-18b27ac734d7\",\"type\":\"BasicTickFormatter\"},{\"attributes\":{},\"id\":\"c96be1e1-b006-43b8-bd0c-1da537d3a9dd\",\"type\":\"LinearScale\"},{\"attributes\":{\"label\":{\"value\":\"CLIRAD `coolr_bands`\"},\"renderers\":[{\"id\":\"e8fab3a0-5c52-465e-b948-6dc527262528\",\"type\":\"GlyphRenderer\"}]},\"id\":\"55bebc1d-5e34-40cf-948d-d6b5ffead58c\",\"type\":\"LegendItem\"},{\"attributes\":{},\"id\":\"355e5df9-bdde-436d-b87e-2748c9b650eb\",\"type\":\"BasicTicker\"},{\"attributes\":{},\"id\":\"d020d41b-e4aa-4804-a120-75df2a99cdd1\",\"type\":\"BasicTickFormatter\"},{\"attributes\":{\"callback\":null,\"data\":{\"x\":{\"__ndarray__\":\"IGsjkYC6D0D0JliN+QYMQPWloQF70AtAGu0mDEEWC0AO5WzlVccJQJuT4ORb6wdA1S49QpOcBUCOdx8X+wcDQPIHIwdDbABAGPisNQUU/D+ZIT76jBn4P9ZQbYiE8PQ//IN5AV1l8j80BugLmcPvP65Vt9S2Teo/a5kYbSSG5T9HpFAwoy/iP93M9ACwWOA/UB0NOLeF3z+/yPr3aAPgPyaQFDEbM+E/eRKfXz6D4T/MrGA+kp/gPx9jDDPwBOA/D27ex4Ob3j/ej57vLSDcP9jbZJdaFdk/6rps1hVN1j9KhuCqc6/UPye/jQ5AD9Q/PEr0yqlp0z+5jKVmYzbSP8mfRrwlsNE/JTb+kILn0T+qMO+ekavRP3WEiAXfONE/9PfZxpag0D9h27KVfMXPP3k5gCGUHNQ/V490All71z+NOP/XAhDaP7JCua5dCdo/PUE3NIJF2T9dQmGNAFHYP5AFFjtKeNY/DfSEg9Lh1T+Vt+NFg13YP8cwlC0LNds/Cu2FYV6G4T+RpPTAvWflP73igwb4Cec/i/8Qhqb/5j+0SG+KJl/lP3d2k04IgOI/3/RBIs+43j97TMJOSR/ZP/3ry/KuLtQ/snJqZqUlzz/uSdoDKpTGP7DVf1Z8474/kH8g7UwTtD9bmdvIGFWpP+MdET3y658/34WGJSnZlD/0zFQh0aqNP5fP3Lfx9ok/zu7/0yNXiz/x3VaEAByUPxi+igZtvJ0/Bxw+QTiNoT+cOzUzLqmdP+63tR/R2JE/GH6mYWttfz/sqEQntlRZP9RyFAmsqpG/\",\"dtype\":\"float64\",\"shape\":[75]},\"y\":{\"__ndarray__\":\"GhExyth1ND/Sv8nbtpRIP2vylNV0PVE/aTum7souWD/At0SJ8fVgPw3Iuahxymc/MSNhhJWvcD/bTfBN02d3P2zb5nxnaoA/CD5h5MAGhz8NmeH1TyaQP+zrCsc9p5Y/LbKd76fGnz/bLW5ISEmmPww9YvTcQq8/JV2OstnstT8Er5Y7M8G+P0c+r3jqkcU/5h99k6ZBzj88bCIzFzjVP4enV8oyxN0//yH99nXg5D8qOpLLf0jtP5kqGJXUifQ/c9cS8kHP/D+/DpwzojQEQIEmwoanVwxA4lgXt9HgE0BSSZ2AJuIbQAMJih9jjiNA5q4l5INuK0AwTKYKRj0zQNv5fmq8/DpAaCJseHrtQkB/+zpwzoxKQM3MzMzMeFJAZmZmZmZqWEAAAAAAAFxeQM3MzMzMJmJAmpmZmZkfZUBmZmZmZhhoQDMzMzMzEWtAAAAAAAAKbkBmZmZmZoFwQM3MzMzM/XFAMzMzMzN6c0CamZmZmfZ0QAAAAAAAc3ZAZmZmZmbvd0DNzMzMzGt5QDMzMzMz6HpAmpmZmZlkfEAAAAAAAOF9QGZmZmZmXX9AZmZmZuZsgECamZmZGSuBQM3MzMxM6YFAAAAAAICngkAzMzMzs2WDQGZmZmbmI4RAmpmZmRnihEDNzMzMTKCFQAAAAACAXoZAMzMzM7Mch0BmZmZm5tqHQJqZmZkZmYhAzczMzExXiUAAAAAAgBWKQDMzMzOz04pAZmZmZuaRi0CamZmZGVCMQM3MzMxMDo1AAAAAAIDMjUAzMzMzs4qOQGZmZmbmSI9A\",\"dtype\":\"float64\",\"shape\":[75]}},\"selected\":{\"id\":\"0812cb8d-fad6-48d1-9851-617ea134a77f\",\"type\":\"Selection\"},\"selection_policy\":{\"id\":\"cb7cdee7-003b-428d-b9f0-49dd91026e63\",\"type\":\"UnionRenderers\"}},\"id\":\"198727b4-cb3b-4a18-8f3f-f9a32d703236\",\"type\":\"ColumnDataSource\"},{\"attributes\":{\"label\":{\"value\":\"CRD\"},\"renderers\":[{\"id\":\"67216916-6c13-4749-b449-e35e612a3773\",\"type\":\"GlyphRenderer\"},{\"id\":\"261720e5-f1d0-458b-aa95-597fa6508b28\",\"type\":\"GlyphRenderer\"}]},\"id\":\"f0ba3094-a2f7-4371-9bf8-069e211d9f2a\",\"type\":\"LegendItem\"},{\"attributes\":{},\"id\":\"3947c74a-22b2-4938-88b5-ede35e60afed\",\"type\":\"LinearScale\"},{\"attributes\":{},\"id\":\"74e30c1e-e7e8-4492-b62d-2eb4a3826be1\",\"type\":\"BasicTickFormatter\"},{\"attributes\":{\"fill_alpha\":{\"value\":0.1},\"fill_color\":{\"value\":\"#1f77b4\"},\"line_alpha\":{\"value\":0.1},\"line_color\":{\"value\":\"#1f77b4\"},\"x\":{\"field\":\"x\"},\"y\":{\"field\":\"y\"}},\"id\":\"74ca05c9-2939-4547-8f40-687d466142d1\",\"type\":\"Square\"},{\"attributes\":{\"label\":{\"value\":\"WGT igg=10 wgt_flux=2\"},\"renderers\":[{\"id\":\"47c998b3-645e-4b3f-85bb-6fa34ecb796b\",\"type\":\"GlyphRenderer\"},{\"id\":\"4b402119-8070-42ea-811f-1c2c6074da96\",\"type\":\"GlyphRenderer\"}]},\"id\":\"dda1edb4-1bb3-4c89-9ed0-3ef0f4cc72e5\",\"type\":\"LegendItem\"},{\"attributes\":{\"ticker\":null},\"id\":\"1e4a9dd6-c688-408b-bff7-2ecc967073f9\",\"type\":\"LogTickFormatter\"},{\"attributes\":{},\"id\":\"0812cb8d-fad6-48d1-9851-617ea134a77f\",\"type\":\"Selection\"},{\"attributes\":{},\"id\":\"7ebc244a-0194-4b3e-8c47-9b527a629838\",\"type\":\"Selection\"},{\"attributes\":{},\"id\":\"cb7cdee7-003b-428d-b9f0-49dd91026e63\",\"type\":\"UnionRenderers\"},{\"attributes\":{\"fill_alpha\":{\"value\":0.7},\"fill_color\":{\"value\":\"#4daf4a\"},\"line_alpha\":{\"value\":0.7},\"line_color\":{\"value\":\"#4daf4a\"},\"x\":{\"field\":\"x\"},\"y\":{\"field\":\"y\"}},\"id\":\"2739a5b3-4767-4e77-846d-46803f4dd80c\",\"type\":\"Circle\"},{\"attributes\":{},\"id\":\"3d2b4690-0063-44ea-8957-9569807409c5\",\"type\":\"UnionRenderers\"},{\"attributes\":{\"toolbar\":{\"id\":\"206b7f3d-4fe1-47f1-b558-c60a6346b9e6\",\"type\":\"ProxyToolbar\"},\"toolbar_location\":\"above\"},\"id\":\"ff91dbca-0f5b-4863-9c54-bd7b133446c3\",\"type\":\"ToolbarBox\"},{\"attributes\":{},\"id\":\"70a13a82-40d9-44b4-93e0-d672c8672a1b\",\"type\":\"UnionRenderers\"},{\"attributes\":{},\"id\":\"71ab1664-1895-49e7-8604-4842b0ece89b\",\"type\":\"Selection\"},{\"attributes\":{\"axis_label\":\"cooling rate [K/day]\",\"formatter\":{\"id\":\"74e30c1e-e7e8-4492-b62d-2eb4a3826be1\",\"type\":\"BasicTickFormatter\"},\"plot\":{\"id\":\"2d814307-64c3-4c91-bdc2-0a5cee99dd72\",\"subtype\":\"Figure\",\"type\":\"Plot\"},\"ticker\":{\"id\":\"af90862a-31fd-42da-85e7-78569733e662\",\"type\":\"BasicTicker\"}},\"id\":\"e4ca97cd-78d7-440d-b660-8a23bd541905\",\"type\":\"LinearAxis\"},{\"attributes\":{},\"id\":\"8e4b0ff9-ec66-4032-b1d1-8e2f147ee4db\",\"type\":\"UnionRenderers\"},{\"attributes\":{},\"id\":\"a29f86de-c3de-4285-aaae-81f8cfa26190\",\"type\":\"Selection\"},{\"attributes\":{\"data_source\":{\"id\":\"198727b4-cb3b-4a18-8f3f-f9a32d703236\",\"type\":\"ColumnDataSource\"},\"glyph\":{\"id\":\"255fe407-a2b6-4ad4-8d93-e7e2d1ec4a61\",\"type\":\"Square\"},\"hover_glyph\":null,\"muted_glyph\":null,\"nonselection_glyph\":{\"id\":\"74ca05c9-2939-4547-8f40-687d466142d1\",\"type\":\"Square\"},\"selection_glyph\":null,\"view\":{\"id\":\"6685f00d-4aaa-48eb-b0fd-a2db0eab780a\",\"type\":\"CDSView\"}},\"id\":\"2b8556af-4c6b-44f6-9c5e-882dab34945d\",\"type\":\"GlyphRenderer\"},{\"attributes\":{},\"id\":\"335c4f13-987f-4429-9bce-f16fe9b24b23\",\"type\":\"Selection\"},{\"attributes\":{\"fill_alpha\":{\"value\":0.7},\"fill_color\":{\"value\":\"#984ea3\"},\"line_alpha\":{\"value\":0.7},\"line_color\":{\"value\":\"#984ea3\"},\"x\":{\"field\":\"x\"},\"y\":{\"field\":\"y\"}},\"id\":\"255fe407-a2b6-4ad4-8d93-e7e2d1ec4a61\",\"type\":\"Square\"},{\"attributes\":{},\"id\":\"a5bf4c3b-ec98-483e-8187-63c739a81085\",\"type\":\"UnionRenderers\"},{\"attributes\":{\"callback\":null,\"end\":1.9406831641,\"start\":0.2126028259},\"id\":\"3f3ec582-bb19-43b0-ada3-e0977fb77c61\",\"type\":\"Range1d\"},{\"attributes\":{},\"id\":\"95fdd58e-123b-4346-9a4f-305e206ee2ce\",\"type\":\"Selection\"},{\"attributes\":{},\"id\":\"0b5a1a3d-8314-4605-ac64-a145e8082d31\",\"type\":\"HelpTool\"},{\"attributes\":{},\"id\":\"67ad446a-c370-4e1e-89d1-91c71dcced27\",\"type\":\"UnionRenderers\"},{\"attributes\":{\"tools\":[{\"id\":\"91ac96d5-23f3-4152-a083-4d9d96c90f62\",\"type\":\"PanTool\"},{\"id\":\"a60b0687-7b5d-4983-af9a-eb2ac294dfad\",\"type\":\"WheelZoomTool\"},{\"id\":\"ccb88b9e-12bd-4f0e-8041-2a4b810b385c\",\"type\":\"BoxZoomTool\"},{\"id\":\"5f3c23d8-0f6b-4001-af8d-ac5422fdca0b\",\"type\":\"SaveTool\"},{\"id\":\"5ade004a-a07a-4c05-91b0-1c04d2c28279\",\"type\":\"ResetTool\"},{\"id\":\"0b5a1a3d-8314-4605-ac64-a145e8082d31\",\"type\":\"HelpTool\"},{\"id\":\"2266ed7e-0a8e-405b-b609-4b06591b44ea\",\"type\":\"PanTool\"},{\"id\":\"58e98f1b-414b-4658-9eaf-3b20b56ecb5a\",\"type\":\"WheelZoomTool\"},{\"id\":\"cc36e476-f419-4ea9-bcc8-e7b242aa3126\",\"type\":\"BoxZoomTool\"},{\"id\":\"8c0dc684-bfa0-4209-afb3-406e2e67e314\",\"type\":\"SaveTool\"},{\"id\":\"1ff5c363-3c81-4cbb-a8eb-09680b2ab3f6\",\"type\":\"ResetTool\"},{\"id\":\"dfa73d49-b04a-464e-bc0b-8c2b2a95f2e6\",\"type\":\"HelpTool\"}]},\"id\":\"206b7f3d-4fe1-47f1-b558-c60a6346b9e6\",\"type\":\"ProxyToolbar\"},{\"attributes\":{},\"id\":\"d2f29653-69a4-43f3-93ac-34e9f5fe9f14\",\"type\":\"LogScale\"},{\"attributes\":{\"plot\":{\"id\":\"01861214-7720-4b64-b02f-07c0f0222bf4\",\"subtype\":\"Figure\",\"type\":\"Plot\"},\"ticker\":{\"id\":\"355e5df9-bdde-436d-b87e-2748c9b650eb\",\"type\":\"BasicTicker\"}},\"id\":\"7bd144a0-c66f-4701-a67e-3dc56375e670\",\"type\":\"Grid\"},{\"attributes\":{},\"id\":\"afea38a8-d674-4ebc-8146-cdd2eb89a938\",\"type\":\"Selection\"},{\"attributes\":{},\"id\":\"af90862a-31fd-42da-85e7-78569733e662\",\"type\":\"BasicTicker\"},{\"attributes\":{},\"id\":\"225968b8-6238-4706-8622-9986b84a18d8\",\"type\":\"UnionRenderers\"},{\"attributes\":{\"children\":[{\"id\":\"ff91dbca-0f5b-4863-9c54-bd7b133446c3\",\"type\":\"ToolbarBox\"},{\"id\":\"669bb0cd-a72e-4dae-8845-547612c1f196\",\"type\":\"Column\"}]},\"id\":\"1ab4cdcf-2c00-4d42-9457-a9f3d4f585dd\",\"type\":\"Column\"},{\"attributes\":{\"line_color\":\"#4daf4a\",\"line_width\":1.5,\"x\":{\"field\":\"x\"},\"y\":{\"field\":\"y\"}},\"id\":\"4d5041dc-f198-42af-8a08-2b17541269e8\",\"type\":\"Line\"},{\"attributes\":{\"source\":{\"id\":\"dabb1f1c-4f16-4679-a2a6-95e460d9330f\",\"type\":\"ColumnDataSource\"}},\"id\":\"eab5521f-6dfa-4c25-ae04-aa85ff9a549f\",\"type\":\"CDSView\"},{\"attributes\":{\"plot\":{\"id\":\"2d814307-64c3-4c91-bdc2-0a5cee99dd72\",\"subtype\":\"Figure\",\"type\":\"Plot\"},\"ticker\":{\"id\":\"af90862a-31fd-42da-85e7-78569733e662\",\"type\":\"BasicTicker\"}},\"id\":\"aa071e7d-79bb-4251-aab5-aa56bcf9befa\",\"type\":\"Grid\"},{\"attributes\":{\"fill_alpha\":{\"value\":0.1},\"fill_color\":{\"value\":\"#1f77b4\"},\"line_alpha\":{\"value\":0.1},\"line_color\":{\"value\":\"#1f77b4\"},\"x\":{\"field\":\"x\"},\"y\":{\"field\":\"y\"}},\"id\":\"9588e346-fac8-4275-8bc3-a1b5c120ab16\",\"type\":\"Circle\"},{\"attributes\":{},\"id\":\"cd77d0f6-e9d9-4933-94d2-f35cbbdbe4e2\",\"type\":\"BasicTicker\"}],\"root_ids\":[\"1ab4cdcf-2c00-4d42-9457-a9f3d4f585dd\"]},\"title\":\"Bokeh Application\",\"version\":\"0.12.16\"}};\n",
       "  var render_items = [{\"docid\":\"f822467d-e7ee-4a9a-a905-3644d24f6a9d\",\"elementid\":\"c5e3b09e-6902-471b-bc91-8214e8f5c37f\",\"modelid\":\"1ab4cdcf-2c00-4d42-9457-a9f3d4f585dd\"}];\n",
       "  root.Bokeh.embed.embed_items_notebook(docs_json, render_items);\n",
       "\n",
       "  }\n",
       "  if (root.Bokeh !== undefined) {\n",
       "    embed_document(root);\n",
       "  } else {\n",
       "    var attempts = 0;\n",
       "    var timer = setInterval(function(root) {\n",
       "      if (root.Bokeh !== undefined) {\n",
       "        embed_document(root);\n",
       "        clearInterval(timer);\n",
       "      }\n",
       "      attempts++;\n",
       "      if (attempts > 100) {\n",
       "        console.log(\"Bokeh: ERROR: Unable to run BokehJS code because BokehJS library is missing\")\n",
       "        clearInterval(timer);\n",
       "      }\n",
       "    }, 10, root)\n",
       "  }\n",
       "})(window);"
      ],
      "application/vnd.bokehjs_exec.v0+json": ""
     },
     "metadata": {
      "application/vnd.bokehjs_exec.v0+json": {
       "id": "1ab4cdcf-2c00-4d42-9457-a9f3d4f585dd"
      }
     },
     "output_type": "display_data"
    },
    {
     "name": "stdout",
     "output_type": "stream",
     "text": [
      "FIGURE. Cooling rate profiles.\n"
     ]
    },
    {
     "data": {
      "text/html": [
       "<a id=\"Flux_Comparison\"></a>"
      ],
      "text/plain": [
       "<IPython.core.display.HTML object>"
      ]
     },
     "metadata": {},
     "output_type": "display_data"
    },
    {
     "data": {
      "text/markdown": [
       "# Flux Comparison"
      ],
      "text/plain": [
       "<IPython.core.display.Markdown object>"
      ]
     },
     "metadata": {},
     "output_type": "display_data"
    },
    {
     "data": {
      "text/html": [
       "<div>\n",
       "<style scoped>\n",
       "    .dataframe tbody tr th:only-of-type {\n",
       "        vertical-align: middle;\n",
       "    }\n",
       "\n",
       "    .dataframe tbody tr th {\n",
       "        vertical-align: top;\n",
       "    }\n",
       "\n",
       "    .dataframe thead th {\n",
       "        text-align: right;\n",
       "    }\n",
       "</style>\n",
       "<table border=\"1\" class=\"dataframe\">\n",
       "  <thead>\n",
       "    <tr style=\"text-align: right;\">\n",
       "      <th></th>\n",
       "      <th></th>\n",
       "      <th>flug</th>\n",
       "      <th>fldg</th>\n",
       "      <th>fnetg</th>\n",
       "    </tr>\n",
       "    <tr>\n",
       "      <th>pressure</th>\n",
       "      <th>level</th>\n",
       "      <th></th>\n",
       "      <th></th>\n",
       "      <th></th>\n",
       "    </tr>\n",
       "  </thead>\n",
       "  <tbody>\n",
       "    <tr>\n",
       "      <th>0.0000</th>\n",
       "      <th>1</th>\n",
       "      <td>-31.956085</td>\n",
       "      <td>0.000000</td>\n",
       "      <td>-31.956085</td>\n",
       "    </tr>\n",
       "    <tr>\n",
       "      <th>1.0685</th>\n",
       "      <th>24</th>\n",
       "      <td>-31.950595</td>\n",
       "      <td>0.065412</td>\n",
       "      <td>-31.885184</td>\n",
       "    </tr>\n",
       "    <tr>\n",
       "      <th>1013.0000</th>\n",
       "      <th>76</th>\n",
       "      <td>-40.261468</td>\n",
       "      <td>40.375401</td>\n",
       "      <td>0.113933</td>\n",
       "    </tr>\n",
       "  </tbody>\n",
       "</table>\n",
       "</div>"
      ],
      "text/plain": [
       "                      flug       fldg      fnetg\n",
       "pressure  level                                 \n",
       "0.0000    1     -31.956085   0.000000 -31.956085\n",
       "1.0685    24    -31.950595   0.065412 -31.885184\n",
       "1013.0000 76    -40.261468  40.375401   0.113933"
      ]
     },
     "metadata": {},
     "output_type": "display_data"
    },
    {
     "name": "stdout",
     "output_type": "stream",
     "text": [
      "Table. Fluxes. CRD\n"
     ]
    },
    {
     "data": {
      "text/html": [
       "<div>\n",
       "<style scoped>\n",
       "    .dataframe tbody tr th:only-of-type {\n",
       "        vertical-align: middle;\n",
       "    }\n",
       "\n",
       "    .dataframe tbody tr th {\n",
       "        vertical-align: top;\n",
       "    }\n",
       "\n",
       "    .dataframe thead th {\n",
       "        text-align: right;\n",
       "    }\n",
       "</style>\n",
       "<table border=\"1\" class=\"dataframe\">\n",
       "  <thead>\n",
       "    <tr style=\"text-align: right;\">\n",
       "      <th></th>\n",
       "      <th></th>\n",
       "      <th>flug</th>\n",
       "      <th>fldg</th>\n",
       "      <th>fnetg</th>\n",
       "    </tr>\n",
       "    <tr>\n",
       "      <th>pressure</th>\n",
       "      <th>level</th>\n",
       "      <th></th>\n",
       "      <th></th>\n",
       "      <th></th>\n",
       "    </tr>\n",
       "  </thead>\n",
       "  <tbody>\n",
       "    <tr>\n",
       "      <th>0.0000</th>\n",
       "      <th>1</th>\n",
       "      <td>-31.700444</td>\n",
       "      <td>0.000000</td>\n",
       "      <td>-31.700444</td>\n",
       "    </tr>\n",
       "    <tr>\n",
       "      <th>1.0685</th>\n",
       "      <th>24</th>\n",
       "      <td>-31.693258</td>\n",
       "      <td>0.066406</td>\n",
       "      <td>-31.626852</td>\n",
       "    </tr>\n",
       "    <tr>\n",
       "      <th>1013.0000</th>\n",
       "      <th>76</th>\n",
       "      <td>-40.261467</td>\n",
       "      <td>40.373400</td>\n",
       "      <td>0.111932</td>\n",
       "    </tr>\n",
       "  </tbody>\n",
       "</table>\n",
       "</div>"
      ],
      "text/plain": [
       "                      flug       fldg      fnetg\n",
       "pressure  level                                 \n",
       "0.0000    1     -31.700444   0.000000 -31.700444\n",
       "1.0685    24    -31.693258   0.066406 -31.626852\n",
       "1013.0000 76    -40.261467  40.373400   0.111932"
      ]
     },
     "metadata": {},
     "output_type": "display_data"
    },
    {
     "name": "stdout",
     "output_type": "stream",
     "text": [
      "Table. Fluxes. WGT igg=10 wgt_flux=1\n"
     ]
    },
    {
     "data": {
      "text/html": [
       "<div>\n",
       "<style scoped>\n",
       "    .dataframe tbody tr th:only-of-type {\n",
       "        vertical-align: middle;\n",
       "    }\n",
       "\n",
       "    .dataframe tbody tr th {\n",
       "        vertical-align: top;\n",
       "    }\n",
       "\n",
       "    .dataframe thead th {\n",
       "        text-align: right;\n",
       "    }\n",
       "</style>\n",
       "<table border=\"1\" class=\"dataframe\">\n",
       "  <thead>\n",
       "    <tr style=\"text-align: right;\">\n",
       "      <th></th>\n",
       "      <th></th>\n",
       "      <th>flug</th>\n",
       "      <th>fldg</th>\n",
       "      <th>fnetg</th>\n",
       "    </tr>\n",
       "    <tr>\n",
       "      <th>pressure</th>\n",
       "      <th>level</th>\n",
       "      <th></th>\n",
       "      <th></th>\n",
       "      <th></th>\n",
       "    </tr>\n",
       "  </thead>\n",
       "  <tbody>\n",
       "    <tr>\n",
       "      <th>1.000000e-08</th>\n",
       "      <th>1</th>\n",
       "      <td>-31.774476</td>\n",
       "      <td>5.809747e-07</td>\n",
       "      <td>-31.774475</td>\n",
       "    </tr>\n",
       "    <tr>\n",
       "      <th>1.068500e+00</th>\n",
       "      <th>24</th>\n",
       "      <td>-31.767979</td>\n",
       "      <td>6.217190e-02</td>\n",
       "      <td>-31.705807</td>\n",
       "    </tr>\n",
       "    <tr>\n",
       "      <th>1.013000e+03</th>\n",
       "      <th>76</th>\n",
       "      <td>-40.261470</td>\n",
       "      <td>4.037278e+01</td>\n",
       "      <td>0.111306</td>\n",
       "    </tr>\n",
       "  </tbody>\n",
       "</table>\n",
       "</div>"
      ],
      "text/plain": [
       "                         flug          fldg      fnetg\n",
       "pressure     level                                    \n",
       "1.000000e-08 1     -31.774476  5.809747e-07 -31.774475\n",
       "1.068500e+00 24    -31.767979  6.217190e-02 -31.705807\n",
       "1.013000e+03 76    -40.261470  4.037278e+01   0.111306"
      ]
     },
     "metadata": {},
     "output_type": "display_data"
    },
    {
     "name": "stdout",
     "output_type": "stream",
     "text": [
      "Table. Fluxes. CLIRAD\n"
     ]
    },
    {
     "data": {
      "text/html": [
       "<div>\n",
       "<style scoped>\n",
       "    .dataframe tbody tr th:only-of-type {\n",
       "        vertical-align: middle;\n",
       "    }\n",
       "\n",
       "    .dataframe tbody tr th {\n",
       "        vertical-align: top;\n",
       "    }\n",
       "\n",
       "    .dataframe thead th {\n",
       "        text-align: right;\n",
       "    }\n",
       "</style>\n",
       "<table border=\"1\" class=\"dataframe\">\n",
       "  <thead>\n",
       "    <tr style=\"text-align: right;\">\n",
       "      <th></th>\n",
       "      <th></th>\n",
       "      <th>flug</th>\n",
       "      <th>fldg</th>\n",
       "      <th>fnetg</th>\n",
       "    </tr>\n",
       "    <tr>\n",
       "      <th>pressure</th>\n",
       "      <th>level</th>\n",
       "      <th></th>\n",
       "      <th></th>\n",
       "      <th></th>\n",
       "    </tr>\n",
       "  </thead>\n",
       "  <tbody>\n",
       "    <tr>\n",
       "      <th>0.0000</th>\n",
       "      <th>1</th>\n",
       "      <td>2.556411e-01</td>\n",
       "      <td>0.000000</td>\n",
       "      <td>0.255641</td>\n",
       "    </tr>\n",
       "    <tr>\n",
       "      <th>1.0685</th>\n",
       "      <th>24</th>\n",
       "      <td>2.573374e-01</td>\n",
       "      <td>0.000994</td>\n",
       "      <td>0.258332</td>\n",
       "    </tr>\n",
       "    <tr>\n",
       "      <th>1013.0000</th>\n",
       "      <th>76</th>\n",
       "      <td>5.997000e-07</td>\n",
       "      <td>-0.002001</td>\n",
       "      <td>-0.002001</td>\n",
       "    </tr>\n",
       "  </tbody>\n",
       "</table>\n",
       "</div>"
      ],
      "text/plain": [
       "                         flug      fldg     fnetg\n",
       "pressure  level                                  \n",
       "0.0000    1      2.556411e-01  0.000000  0.255641\n",
       "1.0685    24     2.573374e-01  0.000994  0.258332\n",
       "1013.0000 76     5.997000e-07 -0.002001 -0.002001"
      ]
     },
     "metadata": {},
     "output_type": "display_data"
    },
    {
     "name": "stdout",
     "output_type": "stream",
     "text": [
      "Table. Fluxes. (WGT igg=10 wgt_flux=1) - (CRD)\n"
     ]
    },
    {
     "data": {
      "text/html": [
       "<div>\n",
       "<style scoped>\n",
       "    .dataframe tbody tr th:only-of-type {\n",
       "        vertical-align: middle;\n",
       "    }\n",
       "\n",
       "    .dataframe tbody tr th {\n",
       "        vertical-align: top;\n",
       "    }\n",
       "\n",
       "    .dataframe thead th {\n",
       "        text-align: right;\n",
       "    }\n",
       "</style>\n",
       "<table border=\"1\" class=\"dataframe\">\n",
       "  <thead>\n",
       "    <tr style=\"text-align: right;\">\n",
       "      <th></th>\n",
       "      <th></th>\n",
       "      <th>flug</th>\n",
       "      <th>fldg</th>\n",
       "      <th>fnetg</th>\n",
       "    </tr>\n",
       "    <tr>\n",
       "      <th>pressure</th>\n",
       "      <th>level</th>\n",
       "      <th></th>\n",
       "      <th></th>\n",
       "      <th></th>\n",
       "    </tr>\n",
       "  </thead>\n",
       "  <tbody>\n",
       "    <tr>\n",
       "      <th>0.0000</th>\n",
       "      <th>1</th>\n",
       "      <td>0.181609</td>\n",
       "      <td>5.809747e-07</td>\n",
       "      <td>0.181610</td>\n",
       "    </tr>\n",
       "    <tr>\n",
       "      <th>1.0685</th>\n",
       "      <th>24</th>\n",
       "      <td>0.182616</td>\n",
       "      <td>-3.239879e-03</td>\n",
       "      <td>0.179377</td>\n",
       "    </tr>\n",
       "    <tr>\n",
       "      <th>1013.0000</th>\n",
       "      <th>76</th>\n",
       "      <td>-0.000002</td>\n",
       "      <td>-2.625000e-03</td>\n",
       "      <td>-0.002627</td>\n",
       "    </tr>\n",
       "  </tbody>\n",
       "</table>\n",
       "</div>"
      ],
      "text/plain": [
       "                     flug          fldg     fnetg\n",
       "pressure  level                                  \n",
       "0.0000    1      0.181609  5.809747e-07  0.181610\n",
       "1.0685    24     0.182616 -3.239879e-03  0.179377\n",
       "1013.0000 76    -0.000002 -2.625000e-03 -0.002627"
      ]
     },
     "metadata": {},
     "output_type": "display_data"
    },
    {
     "name": "stdout",
     "output_type": "stream",
     "text": [
      "Table. Fluxes. (CLIRAD) - (CRD)\n"
     ]
    },
    {
     "data": {
      "text/html": [
       "<a id=\"Best-fit_Parameters\"></a>"
      ],
      "text/plain": [
       "<IPython.core.display.HTML object>"
      ]
     },
     "metadata": {},
     "output_type": "display_data"
    },
    {
     "data": {
      "text/markdown": [
       "# Best-fit Parameters"
      ],
      "text/plain": [
       "<IPython.core.display.Markdown object>"
      ]
     },
     "metadata": {},
     "output_type": "display_data"
    },
    {
     "name": "stdout",
     "output_type": "stream",
     "text": [
      "Best-fit values for each (gas, band)\n",
      "------------------------------------\n",
      "o h2o band1\n",
      "  atmpro = mls\n",
      "  band = 1\n",
      "  commitnumber = a06b618\n",
      "  conc = None\n",
      "  dv = 0.001\n",
      "  klin = 0\n",
      "  molecule = h2o\n",
      "  ng_adju = [0, 0, 0]\n",
      "  ng_refs = [3, 3, 6]\n",
      "  nv = 1000\n",
      "  option_compute_btable = 0\n",
      "  option_compute_ktable = 1\n",
      "  option_wgt_flux = 1\n",
      "  option_wgt_k = 1\n",
      "  ref_pts = [(1, 250), (30, 250), (300, 250)]\n",
      "  tsfc = 294\n",
      "  vmax = 340\n",
      "  vmin = 20\n",
      "  w_diffuse = [(1.66, 1.66, 1.66), (1.66, 1.66, 1.66), (1.66, 1.66, 1.5, 1.5, 1.5, 1.5)]\n",
      "  wgt = [(0.2, 0.2, 0.2), (0.2, 0.2, 0.2), (0.2, 0.2, 0.65, 0.65, 0.65, 0.65)]\n"
     ]
    }
   ],
   "source": [
    "script()"
   ]
  },
  {
   "cell_type": "code",
   "execution_count": 13,
   "metadata": {
    "collapsed": true
   },
   "outputs": [
    {
     "data": {
      "text/html": [
       "<script>\n",
       "code_show=true; \n",
       "function code_toggle() {\n",
       " if (code_show){\n",
       " $('div.input').hide();\n",
       " } else {\n",
       " $('div.input').show();\n",
       " }\n",
       " code_show = !code_show\n",
       "} \n",
       "$( document ).ready(code_toggle);\n",
       "</script>\n",
       "<form action=\"javascript:code_toggle()\"><input type=\"submit\" value=\"Click here to toggle on/off the raw code.\"></form>"
      ],
      "text/plain": [
       "<IPython.core.display.HTML object>"
      ]
     },
     "execution_count": 13,
     "metadata": {},
     "output_type": "execute_result"
    }
   ],
   "source": [
    "display.HTML('''<script>\n",
    "code_show=true; \n",
    "function code_toggle() {\n",
    " if (code_show){\n",
    " $('div.input').hide();\n",
    " } else {\n",
    " $('div.input').show();\n",
    " }\n",
    " code_show = !code_show\n",
    "} \n",
    "$( document ).ready(code_toggle);\n",
    "</script>\n",
    "<form action=\"javascript:code_toggle()\"><input type=\"submit\" value=\"Click here to toggle on/off the raw code.\"></form>''')"
   ]
  }
 ],
 "metadata": {
  "kernelspec": {
   "display_name": "Python 3",
   "language": "python",
   "name": "python3"
  },
  "language_info": {
   "codemirror_mode": {
    "name": "ipython",
    "version": 3
   },
   "file_extension": ".py",
   "mimetype": "text/x-python",
   "name": "python",
   "nbconvert_exporter": "python",
   "pygments_lexer": "ipython3",
   "version": "3.6.1"
  }
 },
 "nbformat": 4,
 "nbformat_minor": 2
}
