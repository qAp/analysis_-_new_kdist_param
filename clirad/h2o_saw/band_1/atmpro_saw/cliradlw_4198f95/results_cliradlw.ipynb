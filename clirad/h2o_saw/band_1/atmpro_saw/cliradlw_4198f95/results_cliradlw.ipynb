{
 "cells": [
  {
   "cell_type": "code",
   "execution_count": 1,
   "metadata": {
    "collapsed": true
   },
   "outputs": [],
   "source": [
    "%matplotlib inline\n",
    "import os\n",
    "import re\n",
    "import io\n",
    "import itertools\n",
    "import pprint\n",
    "\n",
    "from bokeh.io import output_notebook, show\n",
    "from bokeh.layouts import gridplot\n",
    "from bokeh.plotting import figure\n",
    "from bokeh.models import Range1d, Legend\n",
    "from bokeh.palettes import all_palettes\n",
    "\n",
    "import matplotlib\n",
    "import matplotlib.pyplot as plt\n",
    "import numpy as np\n",
    "import pandas as pd\n",
    "import xarray as xr\n",
    "\n",
    "import climatools.lblnew.bestfit_params as bestfits\n",
    "from climatools.lblnew import setup_bestfit, setup_overlap\n",
    "import climatools.lblnew.pipeline as pipe_lblnew\n",
    "import climatools.cliradlw.setup as setup_cliradlw\n",
    "import climatools.cliradlw.pipeline as pipe_cliradlw\n",
    "\n",
    "import climatools.html.html as climahtml\n",
    "from climatools.lblnew.dataio import *\n",
    "from climatools.plot.plot import *\n",
    "\n",
    "\n",
    "import IPython.display as display"
   ]
  },
  {
   "cell_type": "code",
   "execution_count": 2,
   "metadata": {
    "collapsed": true
   },
   "outputs": [],
   "source": [
    "%run param.py"
   ]
  },
  {
   "cell_type": "code",
   "execution_count": 3,
   "metadata": {
    "collapsed": true
   },
   "outputs": [],
   "source": [
    "def load_output_file(path_csv):\n",
    "    '''\n",
    "    Load lblnew output .csv file to xarray.Dataset\n",
    "    \n",
    "    Parameters\n",
    "    ----------\n",
    "    path_csv: str\n",
    "              Path to the .csv file to be loaded.\n",
    "    ds: xarray.Dataset\n",
    "        Data in the input file in the form of an xarray.Dataset.\n",
    "    '''\n",
    "    toindex = ['band', 'pressure', 'igg', 'g']    \n",
    "    df = pd.read_csv(path_csv, sep=r'\\s+')\n",
    "    df = df.set_index([i for i in toindex if i in df.columns])\n",
    "    df = df.rename(columns={'sfu': 'flug',\n",
    "                            'sfd': 'fldg',\n",
    "                            'fnet': 'fnetg',\n",
    "                            'coolr': 'coolrg'})\n",
    "    ds = xr.Dataset.from_dataframe(df)\n",
    "\n",
    "    for l in ('level', 'layer'):\n",
    "        if l in ds.data_vars:\n",
    "            if len(ds[l].dims) > 1:\n",
    "                surface = {d: 0 for d in ds.dims if d != 'pressure'}\n",
    "                coord_level = ds[l][surface]\n",
    "                ds.coords[l] = ('pressure', coord_level)\n",
    "            else:\n",
    "                ds.coords[l] = ('pressure', ds[l])\n",
    "    \n",
    "    return ds"
   ]
  },
  {
   "cell_type": "code",
   "execution_count": 4,
   "metadata": {
    "collapsed": true
   },
   "outputs": [],
   "source": [
    "def lblnew_setup(param=None):\n",
    "    if 'ng_refs' in param:\n",
    "        return {'setup': setup_bestfit,\n",
    "                'fname_flux_crd': 'output_flux.dat',\n",
    "                'fname_cool_crd': 'output_coolr.dat',\n",
    "                'fname_flux_wgt': 'output_wfluxg.dat',\n",
    "                'fname_cool_wgt': 'output_wcoolrg.dat'}\n",
    "    else:\n",
    "        return {'setup': setup_overlap,\n",
    "                'fname_flux_crd': 'output_flux.dat',\n",
    "                'fname_cool_crd': 'output_coolr.dat',\n",
    "                'fname_flux_wgt': 'output_wflux.dat',\n",
    "                'fname_cool_wgt': 'output_wcoolr.dat'}\n",
    "\n",
    "    \n",
    "def load_lblnew_data(param):\n",
    "    \n",
    "    fname_dsname = [('fname_flux_crd', 'ds_flux_crd'),\n",
    "                    ('fname_cool_crd', 'ds_cool_crd'),\n",
    "                    ('fname_flux_wgt', 'ds_flux_wgt'),\n",
    "                    ('fname_cool_wgt', 'ds_cool_wgt')]\n",
    "    \n",
    "    d = lblnew_setup(param)\n",
    "    dir_fortran = pipe_lblnew.get_dir_case(param, setup=d['setup'])\n",
    "    \n",
    "    data_dict = {}\n",
    "    for fname, dsname in fname_dsname:\n",
    "        fpath = os.path.join(dir_fortran, d[fname])\n",
    "        data_dict[dsname] = load_output_file(fpath)\n",
    "    return data_dict\n",
    "    \n",
    "\n",
    "    \n",
    "    "
   ]
  },
  {
   "cell_type": "code",
   "execution_count": 5,
   "metadata": {
    "collapsed": true
   },
   "outputs": [],
   "source": [
    "d = load_lblnew_data(PARAM_LBLNEW)\n",
    "\n",
    "DS_FLUX_CRD = d['ds_flux_crd']\n",
    "DS_COOL_CRD = d['ds_cool_crd']\n",
    "DS_FLUX_WGT = d['ds_flux_wgt']\n",
    "DS_COOL_WGT = d['ds_cool_wgt']"
   ]
  },
  {
   "cell_type": "code",
   "execution_count": 6,
   "metadata": {
    "collapsed": true
   },
   "outputs": [],
   "source": [
    "DIR_FORTRAN = pipe_cliradlw.get_fortran_dir(PARAM, \n",
    "                                            setup=setup_cliradlw)\n",
    "\n",
    "PATH_FLUX = os.path.join(DIR_FORTRAN, 'output_flux.dat')\n",
    "PATH_COOL = os.path.join(DIR_FORTRAN, 'output_coolr.dat')\n",
    "\n",
    "DS_FLUX = load_output_file(PATH_FLUX)\n",
    "DS_COOL = load_output_file(PATH_COOL)"
   ]
  },
  {
   "cell_type": "code",
   "execution_count": 7,
   "metadata": {},
   "outputs": [
    {
     "data": {
      "text/html": [
       "\n",
       "    <div class=\"bk-root\">\n",
       "        <a href=\"https://bokeh.pydata.org\" target=\"_blank\" class=\"bk-logo bk-logo-small bk-logo-notebook\"></a>\n",
       "        <span id=\"a79fabda-237c-4638-9aaa-79621288978e\">Loading BokehJS ...</span>\n",
       "    </div>"
      ]
     },
     "metadata": {},
     "output_type": "display_data"
    },
    {
     "data": {
      "application/javascript": [
       "\n",
       "(function(root) {\n",
       "  function now() {\n",
       "    return new Date();\n",
       "  }\n",
       "\n",
       "  var force = true;\n",
       "\n",
       "  if (typeof (root._bokeh_onload_callbacks) === \"undefined\" || force === true) {\n",
       "    root._bokeh_onload_callbacks = [];\n",
       "    root._bokeh_is_loading = undefined;\n",
       "  }\n",
       "\n",
       "  var JS_MIME_TYPE = 'application/javascript';\n",
       "  var HTML_MIME_TYPE = 'text/html';\n",
       "  var EXEC_MIME_TYPE = 'application/vnd.bokehjs_exec.v0+json';\n",
       "  var CLASS_NAME = 'output_bokeh rendered_html';\n",
       "\n",
       "  /**\n",
       "   * Render data to the DOM node\n",
       "   */\n",
       "  function render(props, node) {\n",
       "    var script = document.createElement(\"script\");\n",
       "    node.appendChild(script);\n",
       "  }\n",
       "\n",
       "  /**\n",
       "   * Handle when an output is cleared or removed\n",
       "   */\n",
       "  function handleClearOutput(event, handle) {\n",
       "    var cell = handle.cell;\n",
       "\n",
       "    var id = cell.output_area._bokeh_element_id;\n",
       "    var server_id = cell.output_area._bokeh_server_id;\n",
       "    // Clean up Bokeh references\n",
       "    if (id !== undefined) {\n",
       "      Bokeh.index[id].model.document.clear();\n",
       "      delete Bokeh.index[id];\n",
       "    }\n",
       "\n",
       "    if (server_id !== undefined) {\n",
       "      // Clean up Bokeh references\n",
       "      var cmd = \"from bokeh.io.state import curstate; print(curstate().uuid_to_server['\" + server_id + \"'].get_sessions()[0].document.roots[0]._id)\";\n",
       "      cell.notebook.kernel.execute(cmd, {\n",
       "        iopub: {\n",
       "          output: function(msg) {\n",
       "            var element_id = msg.content.text.trim();\n",
       "            Bokeh.index[element_id].model.document.clear();\n",
       "            delete Bokeh.index[element_id];\n",
       "          }\n",
       "        }\n",
       "      });\n",
       "      // Destroy server and session\n",
       "      var cmd = \"import bokeh.io.notebook as ion; ion.destroy_server('\" + server_id + \"')\";\n",
       "      cell.notebook.kernel.execute(cmd);\n",
       "    }\n",
       "  }\n",
       "\n",
       "  /**\n",
       "   * Handle when a new output is added\n",
       "   */\n",
       "  function handleAddOutput(event, handle) {\n",
       "    var output_area = handle.output_area;\n",
       "    var output = handle.output;\n",
       "\n",
       "    // limit handleAddOutput to display_data with EXEC_MIME_TYPE content only\n",
       "    if ((output.output_type != \"display_data\") || (!output.data.hasOwnProperty(EXEC_MIME_TYPE))) {\n",
       "      return\n",
       "    }\n",
       "\n",
       "    var toinsert = output_area.element.find(\".\" + CLASS_NAME.split(' ')[0]);\n",
       "\n",
       "    if (output.metadata[EXEC_MIME_TYPE][\"id\"] !== undefined) {\n",
       "      toinsert[toinsert.length - 1].firstChild.textContent = output.data[JS_MIME_TYPE];\n",
       "      // store reference to embed id on output_area\n",
       "      output_area._bokeh_element_id = output.metadata[EXEC_MIME_TYPE][\"id\"];\n",
       "    }\n",
       "    if (output.metadata[EXEC_MIME_TYPE][\"server_id\"] !== undefined) {\n",
       "      var bk_div = document.createElement(\"div\");\n",
       "      bk_div.innerHTML = output.data[HTML_MIME_TYPE];\n",
       "      var script_attrs = bk_div.children[0].attributes;\n",
       "      for (var i = 0; i < script_attrs.length; i++) {\n",
       "        toinsert[toinsert.length - 1].firstChild.setAttribute(script_attrs[i].name, script_attrs[i].value);\n",
       "      }\n",
       "      // store reference to server id on output_area\n",
       "      output_area._bokeh_server_id = output.metadata[EXEC_MIME_TYPE][\"server_id\"];\n",
       "    }\n",
       "  }\n",
       "\n",
       "  function register_renderer(events, OutputArea) {\n",
       "\n",
       "    function append_mime(data, metadata, element) {\n",
       "      // create a DOM node to render to\n",
       "      var toinsert = this.create_output_subarea(\n",
       "        metadata,\n",
       "        CLASS_NAME,\n",
       "        EXEC_MIME_TYPE\n",
       "      );\n",
       "      this.keyboard_manager.register_events(toinsert);\n",
       "      // Render to node\n",
       "      var props = {data: data, metadata: metadata[EXEC_MIME_TYPE]};\n",
       "      render(props, toinsert[toinsert.length - 1]);\n",
       "      element.append(toinsert);\n",
       "      return toinsert\n",
       "    }\n",
       "\n",
       "    /* Handle when an output is cleared or removed */\n",
       "    events.on('clear_output.CodeCell', handleClearOutput);\n",
       "    events.on('delete.Cell', handleClearOutput);\n",
       "\n",
       "    /* Handle when a new output is added */\n",
       "    events.on('output_added.OutputArea', handleAddOutput);\n",
       "\n",
       "    /**\n",
       "     * Register the mime type and append_mime function with output_area\n",
       "     */\n",
       "    OutputArea.prototype.register_mime_type(EXEC_MIME_TYPE, append_mime, {\n",
       "      /* Is output safe? */\n",
       "      safe: true,\n",
       "      /* Index of renderer in `output_area.display_order` */\n",
       "      index: 0\n",
       "    });\n",
       "  }\n",
       "\n",
       "  // register the mime type if in Jupyter Notebook environment and previously unregistered\n",
       "  if (root.Jupyter !== undefined) {\n",
       "    var events = require('base/js/events');\n",
       "    var OutputArea = require('notebook/js/outputarea').OutputArea;\n",
       "\n",
       "    if (OutputArea.prototype.mime_types().indexOf(EXEC_MIME_TYPE) == -1) {\n",
       "      register_renderer(events, OutputArea);\n",
       "    }\n",
       "  }\n",
       "\n",
       "  \n",
       "  if (typeof (root._bokeh_timeout) === \"undefined\" || force === true) {\n",
       "    root._bokeh_timeout = Date.now() + 5000;\n",
       "    root._bokeh_failed_load = false;\n",
       "  }\n",
       "\n",
       "  var NB_LOAD_WARNING = {'data': {'text/html':\n",
       "     \"<div style='background-color: #fdd'>\\n\"+\n",
       "     \"<p>\\n\"+\n",
       "     \"BokehJS does not appear to have successfully loaded. If loading BokehJS from CDN, this \\n\"+\n",
       "     \"may be due to a slow or bad network connection. Possible fixes:\\n\"+\n",
       "     \"</p>\\n\"+\n",
       "     \"<ul>\\n\"+\n",
       "     \"<li>re-rerun `output_notebook()` to attempt to load from CDN again, or</li>\\n\"+\n",
       "     \"<li>use INLINE resources instead, as so:</li>\\n\"+\n",
       "     \"</ul>\\n\"+\n",
       "     \"<code>\\n\"+\n",
       "     \"from bokeh.resources import INLINE\\n\"+\n",
       "     \"output_notebook(resources=INLINE)\\n\"+\n",
       "     \"</code>\\n\"+\n",
       "     \"</div>\"}};\n",
       "\n",
       "  function display_loaded() {\n",
       "    var el = document.getElementById(\"a79fabda-237c-4638-9aaa-79621288978e\");\n",
       "    if (el != null) {\n",
       "      el.textContent = \"BokehJS is loading...\";\n",
       "    }\n",
       "    if (root.Bokeh !== undefined) {\n",
       "      if (el != null) {\n",
       "        el.textContent = \"BokehJS \" + root.Bokeh.version + \" successfully loaded.\";\n",
       "      }\n",
       "    } else if (Date.now() < root._bokeh_timeout) {\n",
       "      setTimeout(display_loaded, 100)\n",
       "    }\n",
       "  }\n",
       "\n",
       "\n",
       "  function run_callbacks() {\n",
       "    try {\n",
       "      root._bokeh_onload_callbacks.forEach(function(callback) { callback() });\n",
       "    }\n",
       "    finally {\n",
       "      delete root._bokeh_onload_callbacks\n",
       "    }\n",
       "    console.info(\"Bokeh: all callbacks have finished\");\n",
       "  }\n",
       "\n",
       "  function load_libs(js_urls, callback) {\n",
       "    root._bokeh_onload_callbacks.push(callback);\n",
       "    if (root._bokeh_is_loading > 0) {\n",
       "      console.log(\"Bokeh: BokehJS is being loaded, scheduling callback at\", now());\n",
       "      return null;\n",
       "    }\n",
       "    if (js_urls == null || js_urls.length === 0) {\n",
       "      run_callbacks();\n",
       "      return null;\n",
       "    }\n",
       "    console.log(\"Bokeh: BokehJS not loaded, scheduling load and callback at\", now());\n",
       "    root._bokeh_is_loading = js_urls.length;\n",
       "    for (var i = 0; i < js_urls.length; i++) {\n",
       "      var url = js_urls[i];\n",
       "      var s = document.createElement('script');\n",
       "      s.src = url;\n",
       "      s.async = false;\n",
       "      s.onreadystatechange = s.onload = function() {\n",
       "        root._bokeh_is_loading--;\n",
       "        if (root._bokeh_is_loading === 0) {\n",
       "          console.log(\"Bokeh: all BokehJS libraries loaded\");\n",
       "          run_callbacks()\n",
       "        }\n",
       "      };\n",
       "      s.onerror = function() {\n",
       "        console.warn(\"failed to load library \" + url);\n",
       "      };\n",
       "      console.log(\"Bokeh: injecting script tag for BokehJS library: \", url);\n",
       "      document.getElementsByTagName(\"head\")[0].appendChild(s);\n",
       "    }\n",
       "  };var element = document.getElementById(\"a79fabda-237c-4638-9aaa-79621288978e\");\n",
       "  if (element == null) {\n",
       "    console.log(\"Bokeh: ERROR: autoload.js configured with elementid 'a79fabda-237c-4638-9aaa-79621288978e' but no matching script tag was found. \")\n",
       "    return false;\n",
       "  }\n",
       "\n",
       "  var js_urls = [\"https://cdn.pydata.org/bokeh/release/bokeh-0.12.16.min.js\", \"https://cdn.pydata.org/bokeh/release/bokeh-widgets-0.12.16.min.js\", \"https://cdn.pydata.org/bokeh/release/bokeh-tables-0.12.16.min.js\", \"https://cdn.pydata.org/bokeh/release/bokeh-gl-0.12.16.min.js\"];\n",
       "\n",
       "  var inline_js = [\n",
       "    function(Bokeh) {\n",
       "      Bokeh.set_log_level(\"info\");\n",
       "    },\n",
       "    \n",
       "    function(Bokeh) {\n",
       "      \n",
       "    },\n",
       "    function(Bokeh) {\n",
       "      console.log(\"Bokeh: injecting CSS: https://cdn.pydata.org/bokeh/release/bokeh-0.12.16.min.css\");\n",
       "      Bokeh.embed.inject_css(\"https://cdn.pydata.org/bokeh/release/bokeh-0.12.16.min.css\");\n",
       "      console.log(\"Bokeh: injecting CSS: https://cdn.pydata.org/bokeh/release/bokeh-widgets-0.12.16.min.css\");\n",
       "      Bokeh.embed.inject_css(\"https://cdn.pydata.org/bokeh/release/bokeh-widgets-0.12.16.min.css\");\n",
       "      console.log(\"Bokeh: injecting CSS: https://cdn.pydata.org/bokeh/release/bokeh-tables-0.12.16.min.css\");\n",
       "      Bokeh.embed.inject_css(\"https://cdn.pydata.org/bokeh/release/bokeh-tables-0.12.16.min.css\");\n",
       "    }\n",
       "  ];\n",
       "\n",
       "  function run_inline_js() {\n",
       "    \n",
       "    if ((root.Bokeh !== undefined) || (force === true)) {\n",
       "      for (var i = 0; i < inline_js.length; i++) {\n",
       "        inline_js[i].call(root, root.Bokeh);\n",
       "      }if (force === true) {\n",
       "        display_loaded();\n",
       "      }} else if (Date.now() < root._bokeh_timeout) {\n",
       "      setTimeout(run_inline_js, 100);\n",
       "    } else if (!root._bokeh_failed_load) {\n",
       "      console.log(\"Bokeh: BokehJS failed to load within specified timeout.\");\n",
       "      root._bokeh_failed_load = true;\n",
       "    } else if (force !== true) {\n",
       "      var cell = $(document.getElementById(\"a79fabda-237c-4638-9aaa-79621288978e\")).parents('.cell').data().cell;\n",
       "      cell.output_area.append_execute_result(NB_LOAD_WARNING)\n",
       "    }\n",
       "\n",
       "  }\n",
       "\n",
       "  if (root._bokeh_is_loading === 0) {\n",
       "    console.log(\"Bokeh: BokehJS loaded, going straight to plotting\");\n",
       "    run_inline_js();\n",
       "  } else {\n",
       "    load_libs(js_urls, function() {\n",
       "      console.log(\"Bokeh: BokehJS plotting callback run at\", now());\n",
       "      run_inline_js();\n",
       "    });\n",
       "  }\n",
       "}(window));"
      ],
      "application/vnd.bokehjs_load.v0+json": "\n(function(root) {\n  function now() {\n    return new Date();\n  }\n\n  var force = true;\n\n  if (typeof (root._bokeh_onload_callbacks) === \"undefined\" || force === true) {\n    root._bokeh_onload_callbacks = [];\n    root._bokeh_is_loading = undefined;\n  }\n\n  \n\n  \n  if (typeof (root._bokeh_timeout) === \"undefined\" || force === true) {\n    root._bokeh_timeout = Date.now() + 5000;\n    root._bokeh_failed_load = false;\n  }\n\n  var NB_LOAD_WARNING = {'data': {'text/html':\n     \"<div style='background-color: #fdd'>\\n\"+\n     \"<p>\\n\"+\n     \"BokehJS does not appear to have successfully loaded. If loading BokehJS from CDN, this \\n\"+\n     \"may be due to a slow or bad network connection. Possible fixes:\\n\"+\n     \"</p>\\n\"+\n     \"<ul>\\n\"+\n     \"<li>re-rerun `output_notebook()` to attempt to load from CDN again, or</li>\\n\"+\n     \"<li>use INLINE resources instead, as so:</li>\\n\"+\n     \"</ul>\\n\"+\n     \"<code>\\n\"+\n     \"from bokeh.resources import INLINE\\n\"+\n     \"output_notebook(resources=INLINE)\\n\"+\n     \"</code>\\n\"+\n     \"</div>\"}};\n\n  function display_loaded() {\n    var el = document.getElementById(\"a79fabda-237c-4638-9aaa-79621288978e\");\n    if (el != null) {\n      el.textContent = \"BokehJS is loading...\";\n    }\n    if (root.Bokeh !== undefined) {\n      if (el != null) {\n        el.textContent = \"BokehJS \" + root.Bokeh.version + \" successfully loaded.\";\n      }\n    } else if (Date.now() < root._bokeh_timeout) {\n      setTimeout(display_loaded, 100)\n    }\n  }\n\n\n  function run_callbacks() {\n    try {\n      root._bokeh_onload_callbacks.forEach(function(callback) { callback() });\n    }\n    finally {\n      delete root._bokeh_onload_callbacks\n    }\n    console.info(\"Bokeh: all callbacks have finished\");\n  }\n\n  function load_libs(js_urls, callback) {\n    root._bokeh_onload_callbacks.push(callback);\n    if (root._bokeh_is_loading > 0) {\n      console.log(\"Bokeh: BokehJS is being loaded, scheduling callback at\", now());\n      return null;\n    }\n    if (js_urls == null || js_urls.length === 0) {\n      run_callbacks();\n      return null;\n    }\n    console.log(\"Bokeh: BokehJS not loaded, scheduling load and callback at\", now());\n    root._bokeh_is_loading = js_urls.length;\n    for (var i = 0; i < js_urls.length; i++) {\n      var url = js_urls[i];\n      var s = document.createElement('script');\n      s.src = url;\n      s.async = false;\n      s.onreadystatechange = s.onload = function() {\n        root._bokeh_is_loading--;\n        if (root._bokeh_is_loading === 0) {\n          console.log(\"Bokeh: all BokehJS libraries loaded\");\n          run_callbacks()\n        }\n      };\n      s.onerror = function() {\n        console.warn(\"failed to load library \" + url);\n      };\n      console.log(\"Bokeh: injecting script tag for BokehJS library: \", url);\n      document.getElementsByTagName(\"head\")[0].appendChild(s);\n    }\n  };var element = document.getElementById(\"a79fabda-237c-4638-9aaa-79621288978e\");\n  if (element == null) {\n    console.log(\"Bokeh: ERROR: autoload.js configured with elementid 'a79fabda-237c-4638-9aaa-79621288978e' but no matching script tag was found. \")\n    return false;\n  }\n\n  var js_urls = [\"https://cdn.pydata.org/bokeh/release/bokeh-0.12.16.min.js\", \"https://cdn.pydata.org/bokeh/release/bokeh-widgets-0.12.16.min.js\", \"https://cdn.pydata.org/bokeh/release/bokeh-tables-0.12.16.min.js\", \"https://cdn.pydata.org/bokeh/release/bokeh-gl-0.12.16.min.js\"];\n\n  var inline_js = [\n    function(Bokeh) {\n      Bokeh.set_log_level(\"info\");\n    },\n    \n    function(Bokeh) {\n      \n    },\n    function(Bokeh) {\n      console.log(\"Bokeh: injecting CSS: https://cdn.pydata.org/bokeh/release/bokeh-0.12.16.min.css\");\n      Bokeh.embed.inject_css(\"https://cdn.pydata.org/bokeh/release/bokeh-0.12.16.min.css\");\n      console.log(\"Bokeh: injecting CSS: https://cdn.pydata.org/bokeh/release/bokeh-widgets-0.12.16.min.css\");\n      Bokeh.embed.inject_css(\"https://cdn.pydata.org/bokeh/release/bokeh-widgets-0.12.16.min.css\");\n      console.log(\"Bokeh: injecting CSS: https://cdn.pydata.org/bokeh/release/bokeh-tables-0.12.16.min.css\");\n      Bokeh.embed.inject_css(\"https://cdn.pydata.org/bokeh/release/bokeh-tables-0.12.16.min.css\");\n    }\n  ];\n\n  function run_inline_js() {\n    \n    if ((root.Bokeh !== undefined) || (force === true)) {\n      for (var i = 0; i < inline_js.length; i++) {\n        inline_js[i].call(root, root.Bokeh);\n      }if (force === true) {\n        display_loaded();\n      }} else if (Date.now() < root._bokeh_timeout) {\n      setTimeout(run_inline_js, 100);\n    } else if (!root._bokeh_failed_load) {\n      console.log(\"Bokeh: BokehJS failed to load within specified timeout.\");\n      root._bokeh_failed_load = true;\n    } else if (force !== true) {\n      var cell = $(document.getElementById(\"a79fabda-237c-4638-9aaa-79621288978e\")).parents('.cell').data().cell;\n      cell.output_area.append_execute_result(NB_LOAD_WARNING)\n    }\n\n  }\n\n  if (root._bokeh_is_loading === 0) {\n    console.log(\"Bokeh: BokehJS loaded, going straight to plotting\");\n    run_inline_js();\n  } else {\n    load_libs(js_urls, function() {\n      console.log(\"Bokeh: BokehJS plotting callback run at\", now());\n      run_inline_js();\n    });\n  }\n}(window));"
     },
     "metadata": {},
     "output_type": "display_data"
    }
   ],
   "source": [
    "output_notebook()"
   ]
  },
  {
   "cell_type": "code",
   "execution_count": 8,
   "metadata": {
    "collapsed": true
   },
   "outputs": [],
   "source": [
    "def fmt_cool(ds_in):\n",
    "    ds = ds_in.copy(deep=True)\n",
    "    if 'igg' in ds.dims:\n",
    "        ds = ds.sel(igg=1)\n",
    "\n",
    "    if 'g' in ds.dims:\n",
    "        ds = ds.sum('g')\n",
    "            \n",
    "    if 'band' in ds.dims:\n",
    "        try:\n",
    "            ds = ds.squeeze('band')\n",
    "        except ValueError:\n",
    "            ds = ds.sum('band')\n",
    "                \n",
    "    return ds['coolrg']\n",
    "\n",
    "\n",
    "def pltdata_cooling_1(ds_cool=None,\n",
    "                      ds_cool_crd=None, ds_cool_wgt=None):\n",
    "    \n",
    "\n",
    "\n",
    "    colors = all_palettes['Set1'][4]\n",
    "    data = [{'label': 'CLIRAD `coolr_bands`',\n",
    "             'srs': fmt_cool(ds_cool),\n",
    "             'line_dash': 'dashed', 'line_width': 5,\n",
    "             'color': colors[0], 'alpha': .6},\n",
    "            {'label': 'CRD',\n",
    "             'srs': fmt_cool(ds_cool_crd),\n",
    "             'line_dash': 'solid', 'line_width': 1.5,\n",
    "             'marker': 'circle', 'marker_size': 5,\n",
    "             'color': colors[2], 'alpha': 1,},\n",
    "            {'label': 'WGT igg=10 wgt_flux=2',\n",
    "             'srs': fmt_cool(ds_cool_wgt),\n",
    "             'line_dash': 'solid', 'line_width': 3,\n",
    "             'marker': 'square', 'marker_size': 5,\n",
    "             'color': colors[3], 'alpha': .6}]\n",
    "    return data\n",
    "\n",
    "\n",
    "def nice_xlims(pltdata=None, prange=None):\n",
    "    \n",
    "    def get_slice(srs):\n",
    "        return srs.sel(pressure=slice(*prange))\n",
    "    \n",
    "    srss = [d['srs'] for d in pltdata]\n",
    "    vmin = min([get_slice(srs).min() for srs in srss])\n",
    "    vmax = max([get_slice(srs).max() for srs in srss])\n",
    "    dv = (vmax - vmin) * .01\n",
    "    return float(vmin - dv), float(vmax + dv)\n",
    "    \n",
    "\n",
    "def plt_cooling_bokeh(pltdata=None):\n",
    "    '''\n",
    "    Plot a list of cooling rate profiles using bokeh.\n",
    "    '''\n",
    "    ymin = 1e-2 \n",
    "    ymax = 1020 \n",
    "        \n",
    "    p1 = figure(title=\"Linear pressure scale\", \n",
    "                plot_width=400)        \n",
    "    xmin, xmax = nice_xlims(pltdata, prange=(50, 1050))\n",
    "    for d in pltdata:\n",
    "        if 'marker' in d:\n",
    "            getattr(p1, d['marker'])(d['srs'].values, \n",
    "                    d['srs'].coords['pressure'].values,\n",
    "                    color=d['color'], alpha=.7)\n",
    "        p1.line(d['srs'].values, \n",
    "                d['srs'].coords['pressure'].values,\n",
    "                color=d['color'], alpha=d['alpha'], \n",
    "                line_width=d['line_width'], line_dash=d['line_dash'])\n",
    "    \n",
    "    p1.y_range = Range1d(ymax, ymin)\n",
    "    p1.yaxis.axis_label = 'pressure [mb]'   \n",
    "    p1.x_range = Range1d(xmin, xmax)\n",
    "    p1.xaxis.axis_label = 'cooling rate [K/day]'\n",
    "            \n",
    "    p2 = figure(title='Log pressure scale', y_axis_type='log',\n",
    "                plot_width=560)\n",
    "    xmin, xmax = nice_xlims(pltdata, prange=(.01, 200))\n",
    "    \n",
    "    rs = []\n",
    "    for d in pltdata:\n",
    "        rd = []\n",
    "        if 'marker' in d:\n",
    "            r_mark = getattr(p2, d['marker'])(d['srs'].values, \n",
    "                        d['srs'].coords['pressure'].values,\n",
    "                        color=d['color'], alpha=.7)\n",
    "            rd.append(r_mark)\n",
    "        r_line = p2.line(d['srs'].values, \n",
    "                    d['srs'].coords['pressure'].values,\n",
    "                    color=d['color'], alpha=d['alpha'], \n",
    "                    line_width=d['line_width'], line_dash=d['line_dash'])\n",
    "        rd.append(r_line)\n",
    "      \n",
    "        rs.append(rd)\n",
    "        \n",
    "    p2.y_range = Range1d(ymax, ymin)  \n",
    "    p2.yaxis.axis_label = 'pressure [mb]'\n",
    "    \n",
    "    p2.x_range = Range1d(xmin, xmax)\n",
    "    p2.xaxis.axis_label = 'cooling rate [K/day]'\n",
    "    \n",
    "    items = [(d['label'], r) for r, d in zip(rs, pltdata)]\n",
    "    legend = Legend(items=items, location=(10, -30))\n",
    "    legend.label_text_font_size = '8pt'\n",
    "    \n",
    "    p2.add_layout(legend, 'right')  \n",
    "    \n",
    "    show(gridplot(p1, p2, ncols=2, plot_height=500))\n",
    "    \n",
    "\n",
    "def script_plt_cooling():\n",
    "    pltdata = pltdata_cooling_1(\n",
    "        ds_cool=DS_COOL,\n",
    "        ds_cool_crd=DS_COOL_CRD,\n",
    "        ds_cool_wgt=DS_COOL_WGT)\n",
    "    plt_cooling_bokeh(pltdata=pltdata)\n",
    "    print('''FIGURE. Cooling rate profiles.''')"
   ]
  },
  {
   "cell_type": "code",
   "execution_count": 9,
   "metadata": {
    "collapsed": true
   },
   "outputs": [],
   "source": [
    "def fmt_flux(ds_in):\n",
    "    ds = ds_in.copy(deep=True)\n",
    "    \n",
    "    for l in ('level', 'layer'):\n",
    "        if l in ds.data_vars:\n",
    "            if len(ds[l].dims) > 1:\n",
    "                surface = {d: 0 for d in ds.dims if d != 'pressure'}\n",
    "                coord_level = ds[l][surface]\n",
    "                ds.coords[l] = ('pressure', coord_level)\n",
    "            else:\n",
    "                ds.coords[l] = ('pressure', ds[l])\n",
    "        \n",
    "    ds = ds.isel(pressure=[0, 23, -1])\n",
    "        \n",
    "    if 'igg' in ds.dims:\n",
    "        ds = ds.sel(igg=[1])\n",
    "        ds = ds.squeeze('igg').drop('igg')\n",
    "    \n",
    "    if 'g' in ds.dims:\n",
    "        ds = ds.sum('g')\n",
    "            \n",
    "    if 'band' in ds.dims:\n",
    "        try:\n",
    "            ds = ds.squeeze('band').drop('band')\n",
    "        except ValueError:\n",
    "            ds = ds.sum('band')\n",
    "                \n",
    "    df = ds.to_dataframe()\n",
    "    df = df.set_index('level', append=True)               \n",
    "    return df\n",
    "\n",
    "\n",
    "def tbdata_flux(ds_flux=None, ds_flux_crd=None, ds_flux_wgt=None):\n",
    "    ilevels = [0, 23, -1]\n",
    "            \n",
    "    benchmark = {'label': 'CRD',\n",
    "                 'df': fmt_flux(ds_flux_crd)}\n",
    "    \n",
    "    tbs = [{'label': 'WGT igg=10 wgt_flux=1',\n",
    "            'df': fmt_flux(ds_flux_wgt)},\n",
    "           {'label': 'CLIRAD',\n",
    "            'df': fmt_flux(ds_flux)}]\n",
    "    \n",
    "    data = {'benchmark': benchmark, 'others': tbs}\n",
    "    return data\n",
    "\n",
    "\n",
    "def tb_flux(tbdata=None):\n",
    "    benchmark = tbdata['benchmark']\n",
    "    others = tbdata['others']\n",
    "    \n",
    "    def show_tb(d=None):\n",
    "        display.display(d['df'])\n",
    "        print('Table.', 'Fluxes.', d['label'])\n",
    "        \n",
    "    def show_tbdiff(d0=None, d=None):\n",
    "        df = d['df']\n",
    "        df.index = d0['df'].index\n",
    "        display.display(df - d0['df'])\n",
    "        print('Table.', 'Fluxes.', \n",
    "              '({}) - ({})'.format(d['label'], d0['label']))\n",
    "        \n",
    "    show_tb(benchmark)\n",
    "    for d in others:\n",
    "        show_tb(d)\n",
    "        \n",
    "    for d in others:\n",
    "        show_tbdiff(d=d, d0=benchmark)\n",
    "        \n",
    "        \n",
    "def script_tb_flux():\n",
    "    data = tbdata_flux(ds_flux=DS_FLUX,\n",
    "                       ds_flux_crd=DS_FLUX_CRD,\n",
    "                       ds_flux_wgt=DS_FLUX_WGT)\n",
    "    tb_flux(tbdata=data)"
   ]
  },
  {
   "cell_type": "code",
   "execution_count": 10,
   "metadata": {
    "collapsed": true
   },
   "outputs": [],
   "source": [
    "def band_map():\n",
    "    '''\n",
    "    Maps spectral bands in lblnew to spectral bands in clirad.\n",
    "    '''\n",
    "    lblnew2clirad = {'1': '1',\n",
    "            '2': '2',\n",
    "            '3a': '3',\n",
    "            '3b': '4',\n",
    "            '3c': '5',\n",
    "            '4': '6', \n",
    "            '5': '7',\n",
    "            '6': '8',\n",
    "            '7': '9', \n",
    "            '8': '10',\n",
    "            '9': '11'}\n",
    "    \n",
    "    clirad2lblnew = {clirad: lblnew \n",
    "                     for lblnew, clirad in lblnew2clirad.items()}\n",
    "    return clirad2lblnew\n",
    "\n",
    "\n",
    "def gasbands():\n",
    "    bmap = band_map()\n",
    "    gases = list(PARAM['molecule'].keys())\n",
    "    \n",
    "    bands = [bmap[str(b)] for b in PARAM['band']]\n",
    "    return list(itertools.product(gases, bands))\n",
    "\n",
    "\n",
    "def print_bestfit_params():\n",
    "    print('Best-fit values for each (gas, band)')\n",
    "    print('------------------------------------')\n",
    "    for gas, band in gasbands():\n",
    "        print('o {} band{}'.format(gas, band))\n",
    "        param = bestfits.kdist_params(molecule=gas, band=band)\n",
    "        for name, value in sorted(param.items()):\n",
    "            print(2 * ' ' + '{} = {}'.format(name, value))\n",
    "\n",
    "        \n",
    "def print_input_param():        \n",
    "    for name, value in PARAM.items():\n",
    "        print('{} = {}'.format(name, value))\n",
    "        \n",
    "        \n",
    "def print_lblnew_param():\n",
    "    for name, value in sorted(PARAM_LBLNEW.items()):\n",
    "        print('{} = {}'.format(name, value))\n"
   ]
  },
  {
   "cell_type": "code",
   "execution_count": 11,
   "metadata": {
    "collapsed": true,
    "scrolled": false
   },
   "outputs": [],
   "source": [
    "def show_html(s):\n",
    "    display.display(display.HTML(s))\n",
    "\n",
    "    \n",
    "def show_markdown(s):\n",
    "    display.display(display.Markdown(s))\n",
    "\n",
    "    \n",
    "def script():\n",
    "    \n",
    "    title = '### CLIRAD-LW'\n",
    "    s_input = 'Input Parameters'\n",
    "    s_lblnew_param = 'LBLNEW case compaired against'\n",
    "    s_bestfits = 'Best-fit Parameters'\n",
    "    s_plt_cooling = 'Cooling Rate Profiles'\n",
    "    s_tb_flux = 'Flux Comparison'\n",
    "    \n",
    "    # title\n",
    "    show_markdown('### CLIRAD-LW')\n",
    "    \n",
    "    # TOC\n",
    "    show_markdown('### Table of Contents')\n",
    "    show_html(climahtml.getHTML_hrefanchor(s_input))\n",
    "    show_html(climahtml.getHTML_hrefanchor(s_lblnew_param))\n",
    "    show_html(climahtml.getHTML_hrefanchor(s_plt_cooling))\n",
    "    show_html(climahtml.getHTML_hrefanchor(s_tb_flux))\n",
    "    show_html(climahtml.getHTML_hrefanchor(s_bestfits))\n",
    "    \n",
    "    # Input parameters\n",
    "    show_html(climahtml.getHTML_idanchor(s_input))\n",
    "    show_markdown(climahtml.getMarkdown_sectitle(s_input))\n",
    "    print_input_param()\n",
    "    \n",
    "    # LBLNEW parameters \n",
    "    show_html(climahtml.getHTML_idanchor(s_lblnew_param))\n",
    "    show_markdown(climahtml.getMarkdown_sectitle(s_lblnew_param))\n",
    "    print_lblnew_param()\n",
    "    \n",
    "    # Cooling rate profiles\n",
    "    show_html(climahtml.getHTML_idanchor(s_plt_cooling))\n",
    "    show_markdown(climahtml.getMarkdown_sectitle(s_plt_cooling))\n",
    "    script_plt_cooling()\n",
    "    \n",
    "    # Flux comparison\n",
    "    show_html(climahtml.getHTML_idanchor(s_tb_flux))\n",
    "    show_markdown(climahtml.getMarkdown_sectitle(s_tb_flux))\n",
    "    script_tb_flux()\n",
    "    \n",
    "    # Best-fit values\n",
    "    show_html(climahtml.getHTML_idanchor(s_bestfits))\n",
    "    show_markdown(climahtml.getMarkdown_sectitle(s_bestfits))\n",
    "    print_bestfit_params()\n",
    "   \n",
    "    "
   ]
  },
  {
   "cell_type": "code",
   "execution_count": 12,
   "metadata": {
    "scrolled": false
   },
   "outputs": [
    {
     "data": {
      "text/markdown": [
       "### CLIRAD-LW"
      ],
      "text/plain": [
       "<IPython.core.display.Markdown object>"
      ]
     },
     "metadata": {},
     "output_type": "display_data"
    },
    {
     "data": {
      "text/markdown": [
       "### Table of Contents"
      ],
      "text/plain": [
       "<IPython.core.display.Markdown object>"
      ]
     },
     "metadata": {},
     "output_type": "display_data"
    },
    {
     "data": {
      "text/html": [
       "<a href=\"#Input_Parameters\">Input Parameters</a>"
      ],
      "text/plain": [
       "<IPython.core.display.HTML object>"
      ]
     },
     "metadata": {},
     "output_type": "display_data"
    },
    {
     "data": {
      "text/html": [
       "<a href=\"#LBLNEW_case_compaired_against\">LBLNEW case compaired against</a>"
      ],
      "text/plain": [
       "<IPython.core.display.HTML object>"
      ]
     },
     "metadata": {},
     "output_type": "display_data"
    },
    {
     "data": {
      "text/html": [
       "<a href=\"#Cooling_Rate_Profiles\">Cooling Rate Profiles</a>"
      ],
      "text/plain": [
       "<IPython.core.display.HTML object>"
      ]
     },
     "metadata": {},
     "output_type": "display_data"
    },
    {
     "data": {
      "text/html": [
       "<a href=\"#Flux_Comparison\">Flux Comparison</a>"
      ],
      "text/plain": [
       "<IPython.core.display.HTML object>"
      ]
     },
     "metadata": {},
     "output_type": "display_data"
    },
    {
     "data": {
      "text/html": [
       "<a href=\"#Best-fit_Parameters\">Best-fit Parameters</a>"
      ],
      "text/plain": [
       "<IPython.core.display.HTML object>"
      ]
     },
     "metadata": {},
     "output_type": "display_data"
    },
    {
     "data": {
      "text/html": [
       "<a id=\"Input_Parameters\"></a>"
      ],
      "text/plain": [
       "<IPython.core.display.HTML object>"
      ]
     },
     "metadata": {},
     "output_type": "display_data"
    },
    {
     "data": {
      "text/markdown": [
       "# Input Parameters"
      ],
      "text/plain": [
       "<IPython.core.display.Markdown object>"
      ]
     },
     "metadata": {},
     "output_type": "display_data"
    },
    {
     "name": "stdout",
     "output_type": "stream",
     "text": [
      "atmpro = saw\n",
      "band = [1]\n",
      "commitnumber = 4198f95\n",
      "molecule = {'h2o': 'atmpro'}\n",
      "tsfc = 257\n"
     ]
    },
    {
     "data": {
      "text/html": [
       "<a id=\"LBLNEW_case_compaired_against\"></a>"
      ],
      "text/plain": [
       "<IPython.core.display.HTML object>"
      ]
     },
     "metadata": {},
     "output_type": "display_data"
    },
    {
     "data": {
      "text/markdown": [
       "# LBLNEW case compaired against"
      ],
      "text/plain": [
       "<IPython.core.display.Markdown object>"
      ]
     },
     "metadata": {},
     "output_type": "display_data"
    },
    {
     "name": "stdout",
     "output_type": "stream",
     "text": [
      "atmpro = saw\n",
      "band = 1\n",
      "commitnumber = 5014a19\n",
      "conc = None\n",
      "dv = 0.001\n",
      "klin = 0\n",
      "molecule = h2o\n",
      "ng_adju = [0, 0, 0]\n",
      "ng_refs = [3, 3, 6]\n",
      "nv = 1000\n",
      "option_compute_btable = 0\n",
      "option_compute_ktable = 0\n",
      "option_wgt_flux = 1\n",
      "option_wgt_k = 1\n",
      "ref_pts = [(1, 250), (30, 250), (300, 250)]\n",
      "tsfc = 257\n",
      "vmax = 340\n",
      "vmin = 20\n",
      "w_diffuse = [(1.66, 1.66, 1.66), (1.66, 1.66, 1.66), (1.66, 1.66, 1.5, 1.5, 1.5, 1.5)]\n",
      "wgt = [(0.2, 0.2, 0.2), (0.2, 0.2, 0.2), (0.2, 0.2, 0.65, 0.65, 0.65, 0.65)]\n"
     ]
    },
    {
     "data": {
      "text/html": [
       "<a id=\"Cooling_Rate_Profiles\"></a>"
      ],
      "text/plain": [
       "<IPython.core.display.HTML object>"
      ]
     },
     "metadata": {},
     "output_type": "display_data"
    },
    {
     "data": {
      "text/markdown": [
       "# Cooling Rate Profiles"
      ],
      "text/plain": [
       "<IPython.core.display.Markdown object>"
      ]
     },
     "metadata": {},
     "output_type": "display_data"
    },
    {
     "data": {
      "text/html": [
       "\n",
       "<div class=\"bk-root\">\n",
       "    <div class=\"bk-plotdiv\" id=\"638c2127-2b11-4895-bf7d-11e6a81816ce\"></div>\n",
       "</div>"
      ]
     },
     "metadata": {},
     "output_type": "display_data"
    },
    {
     "data": {
      "application/javascript": [
       "(function(root) {\n",
       "  function embed_document(root) {\n",
       "    \n",
       "  var docs_json = {\"7597ef65-3990-4936-91f0-3cf1d53b729a\":{\"roots\":{\"references\":[{\"attributes\":{\"fill_alpha\":{\"value\":0.7},\"fill_color\":{\"value\":\"#984ea3\"},\"line_alpha\":{\"value\":0.7},\"line_color\":{\"value\":\"#984ea3\"},\"x\":{\"field\":\"x\"},\"y\":{\"field\":\"y\"}},\"id\":\"4160f53d-0575-4597-84a5-acedfbfcaedb\",\"type\":\"Square\"},{\"attributes\":{\"line_alpha\":0.1,\"line_color\":\"#1f77b4\",\"line_width\":3,\"x\":{\"field\":\"x\"},\"y\":{\"field\":\"y\"}},\"id\":\"2b3b7b24-074f-4f71-a407-4ab509895dd3\",\"type\":\"Line\"},{\"attributes\":{},\"id\":\"e8db1985-c3b1-448a-b35d-d622b684d872\",\"type\":\"SaveTool\"},{\"attributes\":{\"source\":{\"id\":\"138b7ceb-5b87-44c7-9c90-065f4df077c2\",\"type\":\"ColumnDataSource\"}},\"id\":\"95ce4289-bf1a-4b88-be18-8629b1ee81e4\",\"type\":\"CDSView\"},{\"attributes\":{\"overlay\":{\"id\":\"d186133c-6c8b-4273-ac62-6e44c2f1825d\",\"type\":\"BoxAnnotation\"}},\"id\":\"8677587b-c209-44b6-823b-0aab1c512ecd\",\"type\":\"BoxZoomTool\"},{\"attributes\":{},\"id\":\"ef0b46e6-eff5-44c2-ab79-5c4b6d305cb0\",\"type\":\"LinearScale\"},{\"attributes\":{\"axis_label\":\"pressure [mb]\",\"formatter\":{\"id\":\"5c6f29ea-99e4-4faf-b8f2-c1ffa0d09fa5\",\"type\":\"BasicTickFormatter\"},\"plot\":{\"id\":\"b10ebc69-2083-41eb-b64b-0236940e3f20\",\"subtype\":\"Figure\",\"type\":\"Plot\"},\"ticker\":{\"id\":\"95619d03-dea4-426d-9a2a-4be4514fdc39\",\"type\":\"BasicTicker\"}},\"id\":\"b8d183ef-0a56-414b-b2a5-cd31c8feeb99\",\"type\":\"LinearAxis\"},{\"attributes\":{\"data_source\":{\"id\":\"138b7ceb-5b87-44c7-9c90-065f4df077c2\",\"type\":\"ColumnDataSource\"},\"glyph\":{\"id\":\"9d5bb1d8-e540-4240-8b8a-77d6c8b22bdf\",\"type\":\"Square\"},\"hover_glyph\":null,\"muted_glyph\":null,\"nonselection_glyph\":{\"id\":\"5b464ff1-adcc-4ef8-8874-b4b33ccb07a1\",\"type\":\"Square\"},\"selection_glyph\":null,\"view\":{\"id\":\"95ce4289-bf1a-4b88-be18-8629b1ee81e4\",\"type\":\"CDSView\"}},\"id\":\"da654a06-a6c2-4865-8f31-4e4a3dd3426f\",\"type\":\"GlyphRenderer\"},{\"attributes\":{\"fill_alpha\":{\"value\":0.1},\"fill_color\":{\"value\":\"#1f77b4\"},\"line_alpha\":{\"value\":0.1},\"line_color\":{\"value\":\"#1f77b4\"},\"x\":{\"field\":\"x\"},\"y\":{\"field\":\"y\"}},\"id\":\"df249f33-b3ca-415e-98df-7613630340b8\",\"type\":\"Circle\"},{\"attributes\":{\"fill_alpha\":{\"value\":0.1},\"fill_color\":{\"value\":\"#1f77b4\"},\"line_alpha\":{\"value\":0.1},\"line_color\":{\"value\":\"#1f77b4\"},\"x\":{\"field\":\"x\"},\"y\":{\"field\":\"y\"}},\"id\":\"5b464ff1-adcc-4ef8-8874-b4b33ccb07a1\",\"type\":\"Square\"},{\"attributes\":{\"data_source\":{\"id\":\"f9ec9d39-b6c6-47a8-a217-0ea4cde94ffe\",\"type\":\"ColumnDataSource\"},\"glyph\":{\"id\":\"bb769fa8-f66d-4bde-aaae-62ab9e2b0d6e\",\"type\":\"Line\"},\"hover_glyph\":null,\"muted_glyph\":null,\"nonselection_glyph\":{\"id\":\"17de62a4-2d74-42b6-8fcf-0e590868b35d\",\"type\":\"Line\"},\"selection_glyph\":null,\"view\":{\"id\":\"0dbc6a86-ed8a-4267-93ee-4ea010198f38\",\"type\":\"CDSView\"}},\"id\":\"b0a2f77e-1f26-4eb0-8a2f-807a3dcfc20f\",\"type\":\"GlyphRenderer\"},{\"attributes\":{\"fill_alpha\":{\"value\":0.7},\"fill_color\":{\"value\":\"#4daf4a\"},\"line_alpha\":{\"value\":0.7},\"line_color\":{\"value\":\"#4daf4a\"},\"x\":{\"field\":\"x\"},\"y\":{\"field\":\"y\"}},\"id\":\"e201f048-bcae-4ee8-b4ba-4e2b3335643d\",\"type\":\"Circle\"},{\"attributes\":{\"callback\":null,\"data\":{\"x\":{\"__ndarray__\":\"IGsjkYC6D0D0JliN+QYMQPWloQF70AtAGu0mDEEWC0AO5WzlVccJQJuT4ORb6wdA1S49QpOcBUCOdx8X+wcDQPIHIwdDbABAGPisNQUU/D+ZIT76jBn4P9ZQbYiE8PQ//IN5AV1l8j80BugLmcPvP65Vt9S2Teo/a5kYbSSG5T9HpFAwoy/iP93M9ACwWOA/UB0NOLeF3z+/yPr3aAPgPyaQFDEbM+E/eRKfXz6D4T/MrGA+kp/gPx9jDDPwBOA/D27ex4Ob3j/ej57vLSDcP9jbZJdaFdk/6rps1hVN1j9KhuCqc6/UPye/jQ5AD9Q/PEr0yqlp0z+5jKVmYzbSP8mfRrwlsNE/JTb+kILn0T+qMO+ekavRP3WEiAXfONE/9PfZxpag0D9h27KVfMXPP3k5gCGUHNQ/V490All71z+NOP/XAhDaP7JCua5dCdo/PUE3NIJF2T9dQmGNAFHYP5AFFjtKeNY/DfSEg9Lh1T+Vt+NFg13YP8cwlC0LNds/Cu2FYV6G4T+RpPTAvWflP73igwb4Cec/i/8Qhqb/5j+0SG+KJl/lP3d2k04IgOI/3/RBIs+43j97TMJOSR/ZP/3ry/KuLtQ/snJqZqUlzz/uSdoDKpTGP7DVf1Z8474/kH8g7UwTtD9bmdvIGFWpP+MdET3y658/34WGJSnZlD/0zFQh0aqNP5fP3Lfx9ok/zu7/0yNXiz/x3VaEAByUPxi+igZtvJ0/Bxw+QTiNoT+cOzUzLqmdP+63tR/R2JE/GH6mYWttfz/sqEQntlRZP9RyFAmsqpG/\",\"dtype\":\"float64\",\"shape\":[75]},\"y\":{\"__ndarray__\":\"GhExyth1ND/Sv8nbtpRIP2vylNV0PVE/aTum7souWD/At0SJ8fVgPw3Iuahxymc/MSNhhJWvcD/bTfBN02d3P2zb5nxnaoA/CD5h5MAGhz8NmeH1TyaQP+zrCsc9p5Y/LbKd76fGnz/bLW5ISEmmPww9YvTcQq8/JV2OstnstT8Er5Y7M8G+P0c+r3jqkcU/5h99k6ZBzj88bCIzFzjVP4enV8oyxN0//yH99nXg5D8qOpLLf0jtP5kqGJXUifQ/c9cS8kHP/D+/DpwzojQEQIEmwoanVwxA4lgXt9HgE0BSSZ2AJuIbQAMJih9jjiNA5q4l5INuK0AwTKYKRj0zQNv5fmq8/DpAaCJseHrtQkB/+zpwzoxKQM3MzMzMeFJAZmZmZmZqWEAAAAAAAFxeQM3MzMzMJmJAmpmZmZkfZUBmZmZmZhhoQDMzMzMzEWtAAAAAAAAKbkBmZmZmZoFwQM3MzMzM/XFAMzMzMzN6c0CamZmZmfZ0QAAAAAAAc3ZAZmZmZmbvd0DNzMzMzGt5QDMzMzMz6HpAmpmZmZlkfEAAAAAAAOF9QGZmZmZmXX9AZmZmZuZsgECamZmZGSuBQM3MzMxM6YFAAAAAAICngkAzMzMzs2WDQGZmZmbmI4RAmpmZmRnihEDNzMzMTKCFQAAAAACAXoZAMzMzM7Mch0BmZmZm5tqHQJqZmZkZmYhAzczMzExXiUAAAAAAgBWKQDMzMzOz04pAZmZmZuaRi0CamZmZGVCMQM3MzMxMDo1AAAAAAIDMjUAzMzMzs4qOQGZmZmbmSI9A\",\"dtype\":\"float64\",\"shape\":[75]}},\"selected\":{\"id\":\"162784b6-78fc-4576-9b56-55de4faa8c3a\",\"type\":\"Selection\"},\"selection_policy\":{\"id\":\"7ef37954-39ec-4ae8-907f-15c63c7a49ae\",\"type\":\"UnionRenderers\"}},\"id\":\"138b7ceb-5b87-44c7-9c90-065f4df077c2\",\"type\":\"ColumnDataSource\"},{\"attributes\":{},\"id\":\"099f595a-8d89-4083-a2b5-ee9c0500af1f\",\"type\":\"UnionRenderers\"},{\"attributes\":{\"source\":{\"id\":\"85386bc6-09a7-4d70-8cd1-8b2df0e068c8\",\"type\":\"ColumnDataSource\"}},\"id\":\"10f5dcd0-cb18-4c4b-a46e-d8fe8e3c25ef\",\"type\":\"CDSView\"},{\"attributes\":{},\"id\":\"589219b8-2b64-466e-a63d-db72bd13a7b1\",\"type\":\"LogScale\"},{\"attributes\":{\"data_source\":{\"id\":\"73cf3af6-745e-4780-8a28-29dae45d5b05\",\"type\":\"ColumnDataSource\"},\"glyph\":{\"id\":\"4160f53d-0575-4597-84a5-acedfbfcaedb\",\"type\":\"Square\"},\"hover_glyph\":null,\"muted_glyph\":null,\"nonselection_glyph\":{\"id\":\"0be3d9f0-876a-49aa-93e2-861f25bb1e6c\",\"type\":\"Square\"},\"selection_glyph\":null,\"view\":{\"id\":\"e44e7c0f-6d57-4730-84e8-0cec1eec3914\",\"type\":\"CDSView\"}},\"id\":\"0e25a468-f4f7-446f-a54a-a8b723dbdb12\",\"type\":\"GlyphRenderer\"},{\"attributes\":{\"callback\":null,\"data\":{\"x\":{\"__ndarray__\":\"IGsjkYC6D0D0JliN+QYMQPWloQF70AtAGu0mDEEWC0AO5WzlVccJQJuT4ORb6wdA1S49QpOcBUCOdx8X+wcDQPIHIwdDbABAGPisNQUU/D+ZIT76jBn4P9ZQbYiE8PQ//IN5AV1l8j80BugLmcPvP65Vt9S2Teo/a5kYbSSG5T9HpFAwoy/iP93M9ACwWOA/UB0NOLeF3z+/yPr3aAPgPyaQFDEbM+E/eRKfXz6D4T/MrGA+kp/gPx9jDDPwBOA/D27ex4Ob3j/ej57vLSDcP9jbZJdaFdk/6rps1hVN1j9KhuCqc6/UPye/jQ5AD9Q/PEr0yqlp0z+5jKVmYzbSP8mfRrwlsNE/JTb+kILn0T+qMO+ekavRP3WEiAXfONE/9PfZxpag0D9h27KVfMXPP3k5gCGUHNQ/V490All71z+NOP/XAhDaP7JCua5dCdo/PUE3NIJF2T9dQmGNAFHYP5AFFjtKeNY/DfSEg9Lh1T+Vt+NFg13YP8cwlC0LNds/Cu2FYV6G4T+RpPTAvWflP73igwb4Cec/i/8Qhqb/5j+0SG+KJl/lP3d2k04IgOI/3/RBIs+43j97TMJOSR/ZP/3ry/KuLtQ/snJqZqUlzz/uSdoDKpTGP7DVf1Z8474/kH8g7UwTtD9bmdvIGFWpP+MdET3y658/34WGJSnZlD/0zFQh0aqNP5fP3Lfx9ok/zu7/0yNXiz/x3VaEAByUPxi+igZtvJ0/Bxw+QTiNoT+cOzUzLqmdP+63tR/R2JE/GH6mYWttfz/sqEQntlRZP9RyFAmsqpG/\",\"dtype\":\"float64\",\"shape\":[75]},\"y\":{\"__ndarray__\":\"GhExyth1ND/Sv8nbtpRIP2vylNV0PVE/aTum7souWD/At0SJ8fVgPw3Iuahxymc/MSNhhJWvcD/bTfBN02d3P2zb5nxnaoA/CD5h5MAGhz8NmeH1TyaQP+zrCsc9p5Y/LbKd76fGnz/bLW5ISEmmPww9YvTcQq8/JV2OstnstT8Er5Y7M8G+P0c+r3jqkcU/5h99k6ZBzj88bCIzFzjVP4enV8oyxN0//yH99nXg5D8qOpLLf0jtP5kqGJXUifQ/c9cS8kHP/D+/DpwzojQEQIEmwoanVwxA4lgXt9HgE0BSSZ2AJuIbQAMJih9jjiNA5q4l5INuK0AwTKYKRj0zQNv5fmq8/DpAaCJseHrtQkB/+zpwzoxKQM3MzMzMeFJAZmZmZmZqWEAAAAAAAFxeQM3MzMzMJmJAmpmZmZkfZUBmZmZmZhhoQDMzMzMzEWtAAAAAAAAKbkBmZmZmZoFwQM3MzMzM/XFAMzMzMzN6c0CamZmZmfZ0QAAAAAAAc3ZAZmZmZmbvd0DNzMzMzGt5QDMzMzMz6HpAmpmZmZlkfEAAAAAAAOF9QGZmZmZmXX9AZmZmZuZsgECamZmZGSuBQM3MzMxM6YFAAAAAAICngkAzMzMzs2WDQGZmZmbmI4RAmpmZmRnihEDNzMzMTKCFQAAAAACAXoZAMzMzM7Mch0BmZmZm5tqHQJqZmZkZmYhAzczMzExXiUAAAAAAgBWKQDMzMzOz04pAZmZmZuaRi0CamZmZGVCMQM3MzMxMDo1AAAAAAIDMjUAzMzMzs4qOQGZmZmbmSI9A\",\"dtype\":\"float64\",\"shape\":[75]}},\"selected\":{\"id\":\"cb35306b-f091-464d-a50d-7c0ce4d23268\",\"type\":\"Selection\"},\"selection_policy\":{\"id\":\"c0542994-2ef9-4594-84a2-5d6a981025e1\",\"type\":\"UnionRenderers\"}},\"id\":\"09767f97-1ccb-47eb-ba5e-73028ee17b78\",\"type\":\"ColumnDataSource\"},{\"attributes\":{\"dimension\":1,\"plot\":{\"id\":\"b10ebc69-2083-41eb-b64b-0236940e3f20\",\"subtype\":\"Figure\",\"type\":\"Plot\"},\"ticker\":{\"id\":\"95619d03-dea4-426d-9a2a-4be4514fdc39\",\"type\":\"BasicTicker\"}},\"id\":\"8a0d897b-8d98-4a10-8c15-2ac20d0f0b1d\",\"type\":\"Grid\"},{\"attributes\":{},\"id\":\"2038b249-9ea3-4425-bbfb-833aed8b2d91\",\"type\":\"BasicTicker\"},{\"attributes\":{},\"id\":\"c5c5c774-a3cf-4dff-8dec-4324e99ed836\",\"type\":\"WheelZoomTool\"},{\"attributes\":{},\"id\":\"99be1069-e12a-4612-a81e-271e8d4869ca\",\"type\":\"HelpTool\"},{\"attributes\":{\"fill_alpha\":{\"value\":0.7},\"fill_color\":{\"value\":\"#4daf4a\"},\"line_alpha\":{\"value\":0.7},\"line_color\":{\"value\":\"#4daf4a\"},\"x\":{\"field\":\"x\"},\"y\":{\"field\":\"y\"}},\"id\":\"3ba3b17c-4599-4f55-a45a-b1bfa8fb81a9\",\"type\":\"Circle\"},{\"attributes\":{},\"id\":\"418744d9-8923-483c-8d85-d83a3b8b0916\",\"type\":\"WheelZoomTool\"},{\"attributes\":{\"callback\":null,\"data\":{\"x\":{\"__ndarray__\":\"Dz+khAUMGEC6GF6kq1cSQM61eS0yOxFAaP3SR4XmD0C7W1misxwNQEtYG2MnPApALs5zn3deB0DeLwuS45MEQGvz/6oj5wFAF3w/2qTH/j/E+YokMCz6PwNs9vadFfY/gkEtYcil8j8MlLEtRSrvPyUNZvrCd+k/e/9Z0tUG5T8HryMv5wniPztNbi32K+A/2DekD2WB3j+0D0eRlHjeP3IfkLa3XOA/pyk8R2iU4D+wKvM9wKbeP9iPoDpOeNw/MTrmXXHI2j8ZMgUIchLZP8T4/kCYH9c/AHMtWoB21T/YGgBgK5fUP3Os/zF83dM/2IL/KSzj0j+PL6nzC6PRP2/ErHpt9NA/XWiVNqj/0D8Ds0KR7ufQP9y8cVKYt9A/D4VLnh120D9W1lfTzAXQPz9CxR/ictQ/PQkyIzjF1z9wxMUXDkDaPxi6ChCiSNo/vDFvm8qe2T/hh1oF96TYP67tkt1xr9Y/V9pWcbLm1T8dNS41pSnYP4qu6jBP/No/nymuCe2F4T/DvyG305TlP9Gbo/G4Juc/Qk5vsWi75j8AR0yaUBLlPzZJXmO4tuI/qouIINb03z8vpIEnRjnaP7oMYhTCstQ//ip+W8lxzz8wfuBLXQnHP1qA1+OVVsA/cK166buVtj9WdcGm77GuP5Cy8olEuqQ/IJwNAdlOnD9DVwu0hzKUP7X4vv8pMZA/g7Z5PF14kD+yPnb70vmVP0slhXeOCJ8/DenyEfEJoj85zDelM2WeP8ePhL9XW5I/Tm0VsqY6gD9XR+DgKg5ZPwKkTw4Ty5G/\",\"dtype\":\"float64\",\"shape\":[75]},\"y\":{\"__ndarray__\":\"GhExyth1ND/Sv8nbtpRIP2vylNV0PVE/aTum7souWD/At0SJ8fVgPw3Iuahxymc/MSNhhJWvcD/bTfBN02d3P2zb5nxnaoA/CD5h5MAGhz8NmeH1TyaQP+zrCsc9p5Y/LbKd76fGnz/bLW5ISEmmPww9YvTcQq8/JV2OstnstT8Er5Y7M8G+P0c+r3jqkcU/5h99k6ZBzj88bCIzFzjVP4enV8oyxN0//yH99nXg5D8qOpLLf0jtP5kqGJXUifQ/c9cS8kHP/D+/DpwzojQEQIEmwoanVwxA4lgXt9HgE0BSSZ2AJuIbQAMJih9jjiNA5q4l5INuK0AwTKYKRj0zQNv5fmq8/DpAaCJseHrtQkB/+zpwzoxKQM3MzMzMeFJAZmZmZmZqWEAAAAAAAFxeQM3MzMzMJmJAmpmZmZkfZUBmZmZmZhhoQDMzMzMzEWtAAAAAAAAKbkBmZmZmZoFwQM3MzMzM/XFAMzMzMzN6c0CamZmZmfZ0QAAAAAAAc3ZAZmZmZmbvd0DNzMzMzGt5QDMzMzMz6HpAmpmZmZlkfEAAAAAAAOF9QGZmZmZmXX9AZmZmZuZsgECamZmZGSuBQM3MzMxM6YFAAAAAAICngkAzMzMzs2WDQGZmZmbmI4RAmpmZmRnihEDNzMzMTKCFQAAAAACAXoZAMzMzM7Mch0BmZmZm5tqHQJqZmZkZmYhAzczMzExXiUAAAAAAgBWKQDMzMzOz04pAZmZmZuaRi0CamZmZGVCMQM3MzMxMDo1AAAAAAIDMjUAzMzMzs4qOQGZmZmbmSI9A\",\"dtype\":\"float64\",\"shape\":[75]}},\"selected\":{\"id\":\"4dc93feb-f214-45c8-8104-65d7f479e575\",\"type\":\"Selection\"},\"selection_policy\":{\"id\":\"2b9b6f44-bdc5-4400-990a-fb974640a98c\",\"type\":\"UnionRenderers\"}},\"id\":\"b4a288da-5a33-45de-ba04-0842d415eb56\",\"type\":\"ColumnDataSource\"},{\"attributes\":{\"data_source\":{\"id\":\"85386bc6-09a7-4d70-8cd1-8b2df0e068c8\",\"type\":\"ColumnDataSource\"},\"glyph\":{\"id\":\"1d8fd7d0-654b-4dc3-838e-82a925a5e0b1\",\"type\":\"Line\"},\"hover_glyph\":null,\"muted_glyph\":null,\"nonselection_glyph\":{\"id\":\"3ff1486f-d706-43a8-a876-fb14e1167342\",\"type\":\"Line\"},\"selection_glyph\":null,\"view\":{\"id\":\"10f5dcd0-cb18-4c4b-a46e-d8fe8e3c25ef\",\"type\":\"CDSView\"}},\"id\":\"e7022558-a357-4d2c-8982-990b6c21346f\",\"type\":\"GlyphRenderer\"},{\"attributes\":{\"fill_alpha\":{\"value\":0.7},\"fill_color\":{\"value\":\"#984ea3\"},\"line_alpha\":{\"value\":0.7},\"line_color\":{\"value\":\"#984ea3\"},\"x\":{\"field\":\"x\"},\"y\":{\"field\":\"y\"}},\"id\":\"9d5bb1d8-e540-4240-8b8a-77d6c8b22bdf\",\"type\":\"Square\"},{\"attributes\":{\"active_drag\":\"auto\",\"active_inspect\":\"auto\",\"active_scroll\":\"auto\",\"active_tap\":\"auto\",\"tools\":[{\"id\":\"5bcc385d-f5a6-42e6-86c1-373e61b1bfa9\",\"type\":\"PanTool\"},{\"id\":\"418744d9-8923-483c-8d85-d83a3b8b0916\",\"type\":\"WheelZoomTool\"},{\"id\":\"8677587b-c209-44b6-823b-0aab1c512ecd\",\"type\":\"BoxZoomTool\"},{\"id\":\"d51dcc6a-b2d2-4fe1-8074-c20a624dab24\",\"type\":\"SaveTool\"},{\"id\":\"b4174c45-512d-4822-ace7-74c247c03daa\",\"type\":\"ResetTool\"},{\"id\":\"ffd8801e-0c26-45f0-be0f-79e9dbaae9b5\",\"type\":\"HelpTool\"}]},\"id\":\"3b5ac2bc-e5d7-4ee6-b3a1-d2183dd599df\",\"type\":\"Toolbar\"},{\"attributes\":{\"plot\":null,\"text\":\"Log pressure scale\"},\"id\":\"2c0ba227-f404-4ef9-ba01-eae13eb0e5e9\",\"type\":\"Title\"},{\"attributes\":{\"callback\":null,\"data\":{\"x\":{\"__ndarray__\":\"Dz+khAUMGEC6GF6kq1cSQM61eS0yOxFAaP3SR4XmD0C7W1misxwNQEtYG2MnPApALs5zn3deB0DeLwuS45MEQGvz/6oj5wFAF3w/2qTH/j/E+YokMCz6PwNs9vadFfY/gkEtYcil8j8MlLEtRSrvPyUNZvrCd+k/e/9Z0tUG5T8HryMv5wniPztNbi32K+A/2DekD2WB3j+0D0eRlHjeP3IfkLa3XOA/pyk8R2iU4D+wKvM9wKbeP9iPoDpOeNw/MTrmXXHI2j8ZMgUIchLZP8T4/kCYH9c/AHMtWoB21T/YGgBgK5fUP3Os/zF83dM/2IL/KSzj0j+PL6nzC6PRP2/ErHpt9NA/XWiVNqj/0D8Ds0KR7ufQP9y8cVKYt9A/D4VLnh120D9W1lfTzAXQPz9CxR/ictQ/PQkyIzjF1z9wxMUXDkDaPxi6ChCiSNo/vDFvm8qe2T/hh1oF96TYP67tkt1xr9Y/V9pWcbLm1T8dNS41pSnYP4qu6jBP/No/nymuCe2F4T/DvyG305TlP9Gbo/G4Juc/Qk5vsWi75j8AR0yaUBLlPzZJXmO4tuI/qouIINb03z8vpIEnRjnaP7oMYhTCstQ//ip+W8lxzz8wfuBLXQnHP1qA1+OVVsA/cK166buVtj9WdcGm77GuP5Cy8olEuqQ/IJwNAdlOnD9DVwu0hzKUP7X4vv8pMZA/g7Z5PF14kD+yPnb70vmVP0slhXeOCJ8/DenyEfEJoj85zDelM2WeP8ePhL9XW5I/Tm0VsqY6gD9XR+DgKg5ZPwKkTw4Ty5G/\",\"dtype\":\"float64\",\"shape\":[75]},\"y\":{\"__ndarray__\":\"GhExyth1ND/Sv8nbtpRIP2vylNV0PVE/aTum7souWD/At0SJ8fVgPw3Iuahxymc/MSNhhJWvcD/bTfBN02d3P2zb5nxnaoA/CD5h5MAGhz8NmeH1TyaQP+zrCsc9p5Y/LbKd76fGnz/bLW5ISEmmPww9YvTcQq8/JV2OstnstT8Er5Y7M8G+P0c+r3jqkcU/5h99k6ZBzj88bCIzFzjVP4enV8oyxN0//yH99nXg5D8qOpLLf0jtP5kqGJXUifQ/c9cS8kHP/D+/DpwzojQEQIEmwoanVwxA4lgXt9HgE0BSSZ2AJuIbQAMJih9jjiNA5q4l5INuK0AwTKYKRj0zQNv5fmq8/DpAaCJseHrtQkB/+zpwzoxKQM3MzMzMeFJAZmZmZmZqWEAAAAAAAFxeQM3MzMzMJmJAmpmZmZkfZUBmZmZmZhhoQDMzMzMzEWtAAAAAAAAKbkBmZmZmZoFwQM3MzMzM/XFAMzMzMzN6c0CamZmZmfZ0QAAAAAAAc3ZAZmZmZmbvd0DNzMzMzGt5QDMzMzMz6HpAmpmZmZlkfEAAAAAAAOF9QGZmZmZmXX9AZmZmZuZsgECamZmZGSuBQM3MzMxM6YFAAAAAAICngkAzMzMzs2WDQGZmZmbmI4RAmpmZmRnihEDNzMzMTKCFQAAAAACAXoZAMzMzM7Mch0BmZmZm5tqHQJqZmZkZmYhAzczMzExXiUAAAAAAgBWKQDMzMzOz04pAZmZmZuaRi0CamZmZGVCMQM3MzMxMDo1AAAAAAIDMjUAzMzMzs4qOQGZmZmbmSI9A\",\"dtype\":\"float64\",\"shape\":[75]}},\"selected\":{\"id\":\"35887197-f57c-4624-94f0-f0a7173d2c7c\",\"type\":\"Selection\"},\"selection_policy\":{\"id\":\"8d44d4b6-1f26-4b94-be8e-288f65467e20\",\"type\":\"UnionRenderers\"}},\"id\":\"3e0e409d-d738-4318-8310-d74dbdeb97d8\",\"type\":\"ColumnDataSource\"},{\"attributes\":{\"plot\":null,\"text\":\"Linear pressure scale\"},\"id\":\"377d0353-358f-4fa5-9009-af6138b7b132\",\"type\":\"Title\"},{\"attributes\":{\"callback\":null,\"data\":{\"x\":{\"__ndarray__\":\"Dz+khAUMGEC6GF6kq1cSQM61eS0yOxFAaP3SR4XmD0C7W1misxwNQEtYG2MnPApALs5zn3deB0DeLwuS45MEQGvz/6oj5wFAF3w/2qTH/j/E+YokMCz6PwNs9vadFfY/gkEtYcil8j8MlLEtRSrvPyUNZvrCd+k/e/9Z0tUG5T8HryMv5wniPztNbi32K+A/2DekD2WB3j+0D0eRlHjeP3IfkLa3XOA/pyk8R2iU4D+wKvM9wKbeP9iPoDpOeNw/MTrmXXHI2j8ZMgUIchLZP8T4/kCYH9c/AHMtWoB21T/YGgBgK5fUP3Os/zF83dM/2IL/KSzj0j+PL6nzC6PRP2/ErHpt9NA/XWiVNqj/0D8Ds0KR7ufQP9y8cVKYt9A/D4VLnh120D9W1lfTzAXQPz9CxR/ictQ/PQkyIzjF1z9wxMUXDkDaPxi6ChCiSNo/vDFvm8qe2T/hh1oF96TYP67tkt1xr9Y/V9pWcbLm1T8dNS41pSnYP4qu6jBP/No/nymuCe2F4T/DvyG305TlP9Gbo/G4Juc/Qk5vsWi75j8AR0yaUBLlPzZJXmO4tuI/qouIINb03z8vpIEnRjnaP7oMYhTCstQ//ip+W8lxzz8wfuBLXQnHP1qA1+OVVsA/cK166buVtj9WdcGm77GuP5Cy8olEuqQ/IJwNAdlOnD9DVwu0hzKUP7X4vv8pMZA/g7Z5PF14kD+yPnb70vmVP0slhXeOCJ8/DenyEfEJoj85zDelM2WeP8ePhL9XW5I/Tm0VsqY6gD9XR+DgKg5ZPwKkTw4Ty5G/\",\"dtype\":\"float64\",\"shape\":[75]},\"y\":{\"__ndarray__\":\"GhExyth1ND/Sv8nbtpRIP2vylNV0PVE/aTum7souWD/At0SJ8fVgPw3Iuahxymc/MSNhhJWvcD/bTfBN02d3P2zb5nxnaoA/CD5h5MAGhz8NmeH1TyaQP+zrCsc9p5Y/LbKd76fGnz/bLW5ISEmmPww9YvTcQq8/JV2OstnstT8Er5Y7M8G+P0c+r3jqkcU/5h99k6ZBzj88bCIzFzjVP4enV8oyxN0//yH99nXg5D8qOpLLf0jtP5kqGJXUifQ/c9cS8kHP/D+/DpwzojQEQIEmwoanVwxA4lgXt9HgE0BSSZ2AJuIbQAMJih9jjiNA5q4l5INuK0AwTKYKRj0zQNv5fmq8/DpAaCJseHrtQkB/+zpwzoxKQM3MzMzMeFJAZmZmZmZqWEAAAAAAAFxeQM3MzMzMJmJAmpmZmZkfZUBmZmZmZhhoQDMzMzMzEWtAAAAAAAAKbkBmZmZmZoFwQM3MzMzM/XFAMzMzMzN6c0CamZmZmfZ0QAAAAAAAc3ZAZmZmZmbvd0DNzMzMzGt5QDMzMzMz6HpAmpmZmZlkfEAAAAAAAOF9QGZmZmZmXX9AZmZmZuZsgECamZmZGSuBQM3MzMxM6YFAAAAAAICngkAzMzMzs2WDQGZmZmbmI4RAmpmZmRnihEDNzMzMTKCFQAAAAACAXoZAMzMzM7Mch0BmZmZm5tqHQJqZmZkZmYhAzczMzExXiUAAAAAAgBWKQDMzMzOz04pAZmZmZuaRi0CamZmZGVCMQM3MzMxMDo1AAAAAAIDMjUAzMzMzs4qOQGZmZmbmSI9A\",\"dtype\":\"float64\",\"shape\":[75]}},\"selected\":{\"id\":\"82bea6e7-db46-4031-920a-3a984096e653\",\"type\":\"Selection\"},\"selection_policy\":{\"id\":\"72402a2c-af2f-46c0-a5b2-7bfc3b9f7fe3\",\"type\":\"UnionRenderers\"}},\"id\":\"f9ec9d39-b6c6-47a8-a217-0ea4cde94ffe\",\"type\":\"ColumnDataSource\"},{\"attributes\":{},\"id\":\"09e3c368-5258-40e4-b03b-19ed04a8dc40\",\"type\":\"UnionRenderers\"},{\"attributes\":{\"bottom_units\":\"screen\",\"fill_alpha\":{\"value\":0.5},\"fill_color\":{\"value\":\"lightgrey\"},\"left_units\":\"screen\",\"level\":\"overlay\",\"line_alpha\":{\"value\":1.0},\"line_color\":{\"value\":\"black\"},\"line_dash\":[4,4],\"line_width\":{\"value\":2},\"plot\":null,\"render_mode\":\"css\",\"right_units\":\"screen\",\"top_units\":\"screen\"},\"id\":\"e0f96f93-cabc-49c7-b2a5-f709f8ebefc3\",\"type\":\"BoxAnnotation\"},{\"attributes\":{\"line_alpha\":0.6,\"line_color\":\"#984ea3\",\"line_width\":3,\"x\":{\"field\":\"x\"},\"y\":{\"field\":\"y\"}},\"id\":\"7d4220dc-eed0-445e-919e-e57397b515bd\",\"type\":\"Line\"},{\"attributes\":{\"plot\":{\"id\":\"b10ebc69-2083-41eb-b64b-0236940e3f20\",\"subtype\":\"Figure\",\"type\":\"Plot\"},\"ticker\":{\"id\":\"28144e1f-fe9a-44ba-8e2c-a58f9f7218aa\",\"type\":\"BasicTicker\"}},\"id\":\"d83afc76-c35b-4a53-9ba4-ad3efad3b3e4\",\"type\":\"Grid\"},{\"attributes\":{\"dimension\":1,\"plot\":{\"id\":\"dd5ef3f8-7b32-4457-9119-f4887b2b8fed\",\"subtype\":\"Figure\",\"type\":\"Plot\"},\"ticker\":{\"id\":\"2cf2c103-fe9a-463b-88f7-2c2cc285f58a\",\"type\":\"LogTicker\"}},\"id\":\"b08ac9a8-508c-44d8-8fcc-f41ceea27ac1\",\"type\":\"Grid\"},{\"attributes\":{\"axis_label\":\"cooling rate [K/day]\",\"formatter\":{\"id\":\"b44f3aba-1ff4-48ac-a6e0-9a18a9b087bc\",\"type\":\"BasicTickFormatter\"},\"plot\":{\"id\":\"b10ebc69-2083-41eb-b64b-0236940e3f20\",\"subtype\":\"Figure\",\"type\":\"Plot\"},\"ticker\":{\"id\":\"28144e1f-fe9a-44ba-8e2c-a58f9f7218aa\",\"type\":\"BasicTicker\"}},\"id\":\"4cef9e57-ee01-4848-9dca-08f628a67e8b\",\"type\":\"LinearAxis\"},{\"attributes\":{\"line_alpha\":0.1,\"line_color\":\"#1f77b4\",\"line_width\":1.5,\"x\":{\"field\":\"x\"},\"y\":{\"field\":\"y\"}},\"id\":\"3ff1486f-d706-43a8-a876-fb14e1167342\",\"type\":\"Line\"},{\"attributes\":{\"source\":{\"id\":\"f9ec9d39-b6c6-47a8-a217-0ea4cde94ffe\",\"type\":\"ColumnDataSource\"}},\"id\":\"0dbc6a86-ed8a-4267-93ee-4ea010198f38\",\"type\":\"CDSView\"},{\"attributes\":{\"children\":[{\"id\":\"81955530-48f1-4ae3-b5fd-20a826d79a11\",\"type\":\"Row\"}]},\"id\":\"7c1d93ed-4680-4be0-866f-c36d601cde4c\",\"type\":\"Column\"},{\"attributes\":{\"source\":{\"id\":\"73cf3af6-745e-4780-8a28-29dae45d5b05\",\"type\":\"ColumnDataSource\"}},\"id\":\"e44e7c0f-6d57-4730-84e8-0cec1eec3914\",\"type\":\"CDSView\"},{\"attributes\":{\"callback\":null,\"data\":{\"x\":{\"__ndarray__\":\"IGsjkYC6D0D0JliN+QYMQPWloQF70AtAGu0mDEEWC0AO5WzlVccJQJuT4ORb6wdA1S49QpOcBUCOdx8X+wcDQPIHIwdDbABAGPisNQUU/D+ZIT76jBn4P9ZQbYiE8PQ//IN5AV1l8j80BugLmcPvP65Vt9S2Teo/a5kYbSSG5T9HpFAwoy/iP93M9ACwWOA/UB0NOLeF3z+/yPr3aAPgPyaQFDEbM+E/eRKfXz6D4T/MrGA+kp/gPx9jDDPwBOA/D27ex4Ob3j/ej57vLSDcP9jbZJdaFdk/6rps1hVN1j9KhuCqc6/UPye/jQ5AD9Q/PEr0yqlp0z+5jKVmYzbSP8mfRrwlsNE/JTb+kILn0T+qMO+ekavRP3WEiAXfONE/9PfZxpag0D9h27KVfMXPP3k5gCGUHNQ/V490All71z+NOP/XAhDaP7JCua5dCdo/PUE3NIJF2T9dQmGNAFHYP5AFFjtKeNY/DfSEg9Lh1T+Vt+NFg13YP8cwlC0LNds/Cu2FYV6G4T+RpPTAvWflP73igwb4Cec/i/8Qhqb/5j+0SG+KJl/lP3d2k04IgOI/3/RBIs+43j97TMJOSR/ZP/3ry/KuLtQ/snJqZqUlzz/uSdoDKpTGP7DVf1Z8474/kH8g7UwTtD9bmdvIGFWpP+MdET3y658/34WGJSnZlD/0zFQh0aqNP5fP3Lfx9ok/zu7/0yNXiz/x3VaEAByUPxi+igZtvJ0/Bxw+QTiNoT+cOzUzLqmdP+63tR/R2JE/GH6mYWttfz/sqEQntlRZP9RyFAmsqpG/\",\"dtype\":\"float64\",\"shape\":[75]},\"y\":{\"__ndarray__\":\"GhExyth1ND/Sv8nbtpRIP2vylNV0PVE/aTum7souWD/At0SJ8fVgPw3Iuahxymc/MSNhhJWvcD/bTfBN02d3P2zb5nxnaoA/CD5h5MAGhz8NmeH1TyaQP+zrCsc9p5Y/LbKd76fGnz/bLW5ISEmmPww9YvTcQq8/JV2OstnstT8Er5Y7M8G+P0c+r3jqkcU/5h99k6ZBzj88bCIzFzjVP4enV8oyxN0//yH99nXg5D8qOpLLf0jtP5kqGJXUifQ/c9cS8kHP/D+/DpwzojQEQIEmwoanVwxA4lgXt9HgE0BSSZ2AJuIbQAMJih9jjiNA5q4l5INuK0AwTKYKRj0zQNv5fmq8/DpAaCJseHrtQkB/+zpwzoxKQM3MzMzMeFJAZmZmZmZqWEAAAAAAAFxeQM3MzMzMJmJAmpmZmZkfZUBmZmZmZhhoQDMzMzMzEWtAAAAAAAAKbkBmZmZmZoFwQM3MzMzM/XFAMzMzMzN6c0CamZmZmfZ0QAAAAAAAc3ZAZmZmZmbvd0DNzMzMzGt5QDMzMzMz6HpAmpmZmZlkfEAAAAAAAOF9QGZmZmZmXX9AZmZmZuZsgECamZmZGSuBQM3MzMxM6YFAAAAAAICngkAzMzMzs2WDQGZmZmbmI4RAmpmZmRnihEDNzMzMTKCFQAAAAACAXoZAMzMzM7Mch0BmZmZm5tqHQJqZmZkZmYhAzczMzExXiUAAAAAAgBWKQDMzMzOz04pAZmZmZuaRi0CamZmZGVCMQM3MzMxMDo1AAAAAAIDMjUAzMzMzs4qOQGZmZmbmSI9A\",\"dtype\":\"float64\",\"shape\":[75]}},\"selected\":{\"id\":\"194ed531-4795-4c64-94e6-0439514ac6bd\",\"type\":\"Selection\"},\"selection_policy\":{\"id\":\"86abd446-29f4-45f5-ba5b-ac9022ad8aea\",\"type\":\"UnionRenderers\"}},\"id\":\"73cf3af6-745e-4780-8a28-29dae45d5b05\",\"type\":\"ColumnDataSource\"},{\"attributes\":{\"line_alpha\":0.1,\"line_color\":\"#1f77b4\",\"line_width\":3,\"x\":{\"field\":\"x\"},\"y\":{\"field\":\"y\"}},\"id\":\"4e32bd07-d30c-4170-b05a-3c9c0e893632\",\"type\":\"Line\"},{\"attributes\":{},\"id\":\"5bcc385d-f5a6-42e6-86c1-373e61b1bfa9\",\"type\":\"PanTool\"},{\"attributes\":{\"data_source\":{\"id\":\"3e0e409d-d738-4318-8310-d74dbdeb97d8\",\"type\":\"ColumnDataSource\"},\"glyph\":{\"id\":\"3ba3b17c-4599-4f55-a45a-b1bfa8fb81a9\",\"type\":\"Circle\"},\"hover_glyph\":null,\"muted_glyph\":null,\"nonselection_glyph\":{\"id\":\"f22f8321-becf-4ef7-b4cb-522ed2f8a422\",\"type\":\"Circle\"},\"selection_glyph\":null,\"view\":{\"id\":\"673a2dc2-8674-4599-a9f9-962425e9ade1\",\"type\":\"CDSView\"}},\"id\":\"ceb0f189-61e5-48be-9aeb-35e837362d95\",\"type\":\"GlyphRenderer\"},{\"attributes\":{\"data_source\":{\"id\":\"09767f97-1ccb-47eb-ba5e-73028ee17b78\",\"type\":\"ColumnDataSource\"},\"glyph\":{\"id\":\"7d4220dc-eed0-445e-919e-e57397b515bd\",\"type\":\"Line\"},\"hover_glyph\":null,\"muted_glyph\":null,\"nonselection_glyph\":{\"id\":\"4e32bd07-d30c-4170-b05a-3c9c0e893632\",\"type\":\"Line\"},\"selection_glyph\":null,\"view\":{\"id\":\"05778c31-045d-4e68-ab0d-cc849f10ac60\",\"type\":\"CDSView\"}},\"id\":\"63f6cb9c-f68d-49c0-87af-a267babec08f\",\"type\":\"GlyphRenderer\"},{\"attributes\":{\"callback\":null,\"data\":{\"x\":{\"__ndarray__\":\"Dz+khAUMGEC6GF6kq1cSQM61eS0yOxFAaP3SR4XmD0C7W1misxwNQEtYG2MnPApALs5zn3deB0DeLwuS45MEQGvz/6oj5wFAF3w/2qTH/j/E+YokMCz6PwNs9vadFfY/gkEtYcil8j8MlLEtRSrvPyUNZvrCd+k/e/9Z0tUG5T8HryMv5wniPztNbi32K+A/2DekD2WB3j+0D0eRlHjeP3IfkLa3XOA/pyk8R2iU4D+wKvM9wKbeP9iPoDpOeNw/MTrmXXHI2j8ZMgUIchLZP8T4/kCYH9c/AHMtWoB21T/YGgBgK5fUP3Os/zF83dM/2IL/KSzj0j+PL6nzC6PRP2/ErHpt9NA/XWiVNqj/0D8Ds0KR7ufQP9y8cVKYt9A/D4VLnh120D9W1lfTzAXQPz9CxR/ictQ/PQkyIzjF1z9wxMUXDkDaPxi6ChCiSNo/vDFvm8qe2T/hh1oF96TYP67tkt1xr9Y/V9pWcbLm1T8dNS41pSnYP4qu6jBP/No/nymuCe2F4T/DvyG305TlP9Gbo/G4Juc/Qk5vsWi75j8AR0yaUBLlPzZJXmO4tuI/qouIINb03z8vpIEnRjnaP7oMYhTCstQ//ip+W8lxzz8wfuBLXQnHP1qA1+OVVsA/cK166buVtj9WdcGm77GuP5Cy8olEuqQ/IJwNAdlOnD9DVwu0hzKUP7X4vv8pMZA/g7Z5PF14kD+yPnb70vmVP0slhXeOCJ8/DenyEfEJoj85zDelM2WeP8ePhL9XW5I/Tm0VsqY6gD9XR+DgKg5ZPwKkTw4Ty5G/\",\"dtype\":\"float64\",\"shape\":[75]},\"y\":{\"__ndarray__\":\"GhExyth1ND/Sv8nbtpRIP2vylNV0PVE/aTum7souWD/At0SJ8fVgPw3Iuahxymc/MSNhhJWvcD/bTfBN02d3P2zb5nxnaoA/CD5h5MAGhz8NmeH1TyaQP+zrCsc9p5Y/LbKd76fGnz/bLW5ISEmmPww9YvTcQq8/JV2OstnstT8Er5Y7M8G+P0c+r3jqkcU/5h99k6ZBzj88bCIzFzjVP4enV8oyxN0//yH99nXg5D8qOpLLf0jtP5kqGJXUifQ/c9cS8kHP/D+/DpwzojQEQIEmwoanVwxA4lgXt9HgE0BSSZ2AJuIbQAMJih9jjiNA5q4l5INuK0AwTKYKRj0zQNv5fmq8/DpAaCJseHrtQkB/+zpwzoxKQM3MzMzMeFJAZmZmZmZqWEAAAAAAAFxeQM3MzMzMJmJAmpmZmZkfZUBmZmZmZhhoQDMzMzMzEWtAAAAAAAAKbkBmZmZmZoFwQM3MzMzM/XFAMzMzMzN6c0CamZmZmfZ0QAAAAAAAc3ZAZmZmZmbvd0DNzMzMzGt5QDMzMzMz6HpAmpmZmZlkfEAAAAAAAOF9QGZmZmZmXX9AZmZmZuZsgECamZmZGSuBQM3MzMxM6YFAAAAAAICngkAzMzMzs2WDQGZmZmbmI4RAmpmZmRnihEDNzMzMTKCFQAAAAACAXoZAMzMzM7Mch0BmZmZm5tqHQJqZmZkZmYhAzczMzExXiUAAAAAAgBWKQDMzMzOz04pAZmZmZuaRi0CamZmZGVCMQM3MzMxMDo1AAAAAAIDMjUAzMzMzs4qOQGZmZmbmSI9A\",\"dtype\":\"float64\",\"shape\":[75]}},\"selected\":{\"id\":\"553e154d-f223-475d-b4ed-0b9e724b7653\",\"type\":\"Selection\"},\"selection_policy\":{\"id\":\"09e3c368-5258-40e4-b03b-19ed04a8dc40\",\"type\":\"UnionRenderers\"}},\"id\":\"85386bc6-09a7-4d70-8cd1-8b2df0e068c8\",\"type\":\"ColumnDataSource\"},{\"attributes\":{\"source\":{\"id\":\"09767f97-1ccb-47eb-ba5e-73028ee17b78\",\"type\":\"ColumnDataSource\"}},\"id\":\"05778c31-045d-4e68-ab0d-cc849f10ac60\",\"type\":\"CDSView\"},{\"attributes\":{\"callback\":null,\"end\":0.7578039816000001,\"start\":-0.0250512816},\"id\":\"fa5d5e0a-9d56-4070-ae37-23a51dd9208c\",\"type\":\"Range1d\"},{\"attributes\":{\"data_source\":{\"id\":\"b4a288da-5a33-45de-ba04-0842d415eb56\",\"type\":\"ColumnDataSource\"},\"glyph\":{\"id\":\"e201f048-bcae-4ee8-b4ba-4e2b3335643d\",\"type\":\"Circle\"},\"hover_glyph\":null,\"muted_glyph\":null,\"nonselection_glyph\":{\"id\":\"df249f33-b3ca-415e-98df-7613630340b8\",\"type\":\"Circle\"},\"selection_glyph\":null,\"view\":{\"id\":\"46727333-109a-466c-89bc-232b28d64b3e\",\"type\":\"CDSView\"}},\"id\":\"a4771afa-3e8f-4549-b880-3d3f2a8006ed\",\"type\":\"GlyphRenderer\"},{\"attributes\":{\"children\":[{\"id\":\"b10ebc69-2083-41eb-b64b-0236940e3f20\",\"subtype\":\"Figure\",\"type\":\"Plot\"},{\"id\":\"dd5ef3f8-7b32-4457-9119-f4887b2b8fed\",\"subtype\":\"Figure\",\"type\":\"Plot\"}]},\"id\":\"81955530-48f1-4ae3-b5fd-20a826d79a11\",\"type\":\"Row\"},{\"attributes\":{\"items\":[{\"id\":\"f258f28a-9178-4dd6-9b0e-82acaab0614e\",\"type\":\"LegendItem\"},{\"id\":\"ef0b37b1-d1b6-41d2-bfce-78cc07bd104b\",\"type\":\"LegendItem\"},{\"id\":\"3abe79d3-1d26-42d7-a9d2-03f5eb9b66b7\",\"type\":\"LegendItem\"}],\"label_text_font_size\":{\"value\":\"8pt\"},\"location\":[10,-30],\"plot\":{\"id\":\"dd5ef3f8-7b32-4457-9119-f4887b2b8fed\",\"subtype\":\"Figure\",\"type\":\"Plot\"}},\"id\":\"5d6f8bee-51f8-402b-8eeb-2f2aa346eb5c\",\"type\":\"Legend\"},{\"attributes\":{\"below\":[{\"id\":\"76d97998-bf8e-42f0-ba03-b561755e3d91\",\"type\":\"LinearAxis\"}],\"left\":[{\"id\":\"17f2fa43-0bce-4ce7-be96-9054b9be59fc\",\"type\":\"LogAxis\"}],\"plot_height\":500,\"plot_width\":560,\"renderers\":[{\"id\":\"76d97998-bf8e-42f0-ba03-b561755e3d91\",\"type\":\"LinearAxis\"},{\"id\":\"cbae8a7a-c3c1-4b4a-82ff-54d8b025fde4\",\"type\":\"Grid\"},{\"id\":\"17f2fa43-0bce-4ce7-be96-9054b9be59fc\",\"type\":\"LogAxis\"},{\"id\":\"b08ac9a8-508c-44d8-8fcc-f41ceea27ac1\",\"type\":\"Grid\"},{\"id\":\"e0f96f93-cabc-49c7-b2a5-f709f8ebefc3\",\"type\":\"BoxAnnotation\"},{\"id\":\"a1d8a488-b701-4ff4-a01a-0f0e2d91b81c\",\"type\":\"GlyphRenderer\"},{\"id\":\"a4771afa-3e8f-4549-b880-3d3f2a8006ed\",\"type\":\"GlyphRenderer\"},{\"id\":\"b0a2f77e-1f26-4eb0-8a2f-807a3dcfc20f\",\"type\":\"GlyphRenderer\"},{\"id\":\"da654a06-a6c2-4865-8f31-4e4a3dd3426f\",\"type\":\"GlyphRenderer\"},{\"id\":\"63f6cb9c-f68d-49c0-87af-a267babec08f\",\"type\":\"GlyphRenderer\"},{\"id\":\"5d6f8bee-51f8-402b-8eeb-2f2aa346eb5c\",\"type\":\"Legend\"}],\"right\":[{\"id\":\"5d6f8bee-51f8-402b-8eeb-2f2aa346eb5c\",\"type\":\"Legend\"}],\"title\":{\"id\":\"2c0ba227-f404-4ef9-ba01-eae13eb0e5e9\",\"type\":\"Title\"},\"toolbar\":{\"id\":\"ceb058db-d6c5-4a6b-9678-7c3edd338b10\",\"type\":\"Toolbar\"},\"toolbar_location\":null,\"x_range\":{\"id\":\"25b10afa-409c-430a-bb24-54066354daef\",\"type\":\"Range1d\"},\"x_scale\":{\"id\":\"ef0b46e6-eff5-44c2-ab79-5c4b6d305cb0\",\"type\":\"LinearScale\"},\"y_range\":{\"id\":\"e0130d28-53fb-49ef-8a76-0194faf1b1f0\",\"type\":\"Range1d\"},\"y_scale\":{\"id\":\"589219b8-2b64-466e-a63d-db72bd13a7b1\",\"type\":\"LogScale\"}},\"id\":\"dd5ef3f8-7b32-4457-9119-f4887b2b8fed\",\"subtype\":\"Figure\",\"type\":\"Plot\"},{\"attributes\":{\"label\":{\"value\":\"CLIRAD `coolr_bands`\"},\"renderers\":[{\"id\":\"a1d8a488-b701-4ff4-a01a-0f0e2d91b81c\",\"type\":\"GlyphRenderer\"}]},\"id\":\"f258f28a-9178-4dd6-9b0e-82acaab0614e\",\"type\":\"LegendItem\"},{\"attributes\":{},\"id\":\"86abd446-29f4-45f5-ba5b-ac9022ad8aea\",\"type\":\"UnionRenderers\"},{\"attributes\":{\"fill_alpha\":{\"value\":0.1},\"fill_color\":{\"value\":\"#1f77b4\"},\"line_alpha\":{\"value\":0.1},\"line_color\":{\"value\":\"#1f77b4\"},\"x\":{\"field\":\"x\"},\"y\":{\"field\":\"y\"}},\"id\":\"f22f8321-becf-4ef7-b4cb-522ed2f8a422\",\"type\":\"Circle\"},{\"attributes\":{\"label\":{\"value\":\"CRD\"},\"renderers\":[{\"id\":\"a4771afa-3e8f-4549-b880-3d3f2a8006ed\",\"type\":\"GlyphRenderer\"},{\"id\":\"b0a2f77e-1f26-4eb0-8a2f-807a3dcfc20f\",\"type\":\"GlyphRenderer\"}]},\"id\":\"ef0b37b1-d1b6-41d2-bfce-78cc07bd104b\",\"type\":\"LegendItem\"},{\"attributes\":{},\"id\":\"ffd8801e-0c26-45f0-be0f-79e9dbaae9b5\",\"type\":\"HelpTool\"},{\"attributes\":{},\"id\":\"296136c3-8750-4062-b312-b4c2689791ed\",\"type\":\"Selection\"},{\"attributes\":{\"label\":{\"value\":\"WGT igg=10 wgt_flux=2\"},\"renderers\":[{\"id\":\"da654a06-a6c2-4865-8f31-4e4a3dd3426f\",\"type\":\"GlyphRenderer\"},{\"id\":\"63f6cb9c-f68d-49c0-87af-a267babec08f\",\"type\":\"GlyphRenderer\"}]},\"id\":\"3abe79d3-1d26-42d7-a9d2-03f5eb9b66b7\",\"type\":\"LegendItem\"},{\"attributes\":{},\"id\":\"ced6e25e-5653-472b-8087-fb817ee3313a\",\"type\":\"Selection\"},{\"attributes\":{\"axis_label\":\"pressure [mb]\",\"formatter\":{\"id\":\"ac074688-7a00-4173-9c30-1b99c517c93f\",\"type\":\"LogTickFormatter\"},\"plot\":{\"id\":\"dd5ef3f8-7b32-4457-9119-f4887b2b8fed\",\"subtype\":\"Figure\",\"type\":\"Plot\"},\"ticker\":{\"id\":\"2cf2c103-fe9a-463b-88f7-2c2cc285f58a\",\"type\":\"LogTicker\"}},\"id\":\"17f2fa43-0bce-4ce7-be96-9054b9be59fc\",\"type\":\"LogAxis\"},{\"attributes\":{},\"id\":\"b44f3aba-1ff4-48ac-a6e0-9a18a9b087bc\",\"type\":\"BasicTickFormatter\"},{\"attributes\":{},\"id\":\"5c6f29ea-99e4-4faf-b8f2-c1ffa0d09fa5\",\"type\":\"BasicTickFormatter\"},{\"attributes\":{\"fill_alpha\":{\"value\":0.1},\"fill_color\":{\"value\":\"#1f77b4\"},\"line_alpha\":{\"value\":0.1},\"line_color\":{\"value\":\"#1f77b4\"},\"x\":{\"field\":\"x\"},\"y\":{\"field\":\"y\"}},\"id\":\"0be3d9f0-876a-49aa-93e2-861f25bb1e6c\",\"type\":\"Square\"},{\"attributes\":{\"source\":{\"id\":\"b4a288da-5a33-45de-ba04-0842d415eb56\",\"type\":\"ColumnDataSource\"}},\"id\":\"46727333-109a-466c-89bc-232b28d64b3e\",\"type\":\"CDSView\"},{\"attributes\":{},\"id\":\"556ff2da-fb62-46d6-bc8d-6cb16a0cfe04\",\"type\":\"UnionRenderers\"},{\"attributes\":{},\"id\":\"194ed531-4795-4c64-94e6-0439514ac6bd\",\"type\":\"Selection\"},{\"attributes\":{},\"id\":\"d51dcc6a-b2d2-4fe1-8074-c20a624dab24\",\"type\":\"SaveTool\"},{\"attributes\":{},\"id\":\"bc137fdf-367d-41ec-86c5-d5dbd1285ce5\",\"type\":\"PanTool\"},{\"attributes\":{\"ticker\":null},\"id\":\"ac074688-7a00-4173-9c30-1b99c517c93f\",\"type\":\"LogTickFormatter\"},{\"attributes\":{\"overlay\":{\"id\":\"e0f96f93-cabc-49c7-b2a5-f709f8ebefc3\",\"type\":\"BoxAnnotation\"}},\"id\":\"dc1dc746-fe3d-4834-9ed4-0babb8728371\",\"type\":\"BoxZoomTool\"},{\"attributes\":{},\"id\":\"9674f848-36ab-4c7c-8112-0ea2280af0dc\",\"type\":\"BasicTickFormatter\"},{\"attributes\":{\"line_color\":\"#4daf4a\",\"line_width\":1.5,\"x\":{\"field\":\"x\"},\"y\":{\"field\":\"y\"}},\"id\":\"1d8fd7d0-654b-4dc3-838e-82a925a5e0b1\",\"type\":\"Line\"},{\"attributes\":{},\"id\":\"7ef37954-39ec-4ae8-907f-15c63c7a49ae\",\"type\":\"UnionRenderers\"},{\"attributes\":{\"toolbar\":{\"id\":\"ba715dea-23e6-4485-9124-52e6e642d91a\",\"type\":\"ProxyToolbar\"},\"toolbar_location\":\"above\"},\"id\":\"8dcd1b91-1d29-4d6e-ab91-c6988ed1b9e2\",\"type\":\"ToolbarBox\"},{\"attributes\":{\"data_source\":{\"id\":\"34e3a5d2-e799-46b2-bb64-eaca143b488c\",\"type\":\"ColumnDataSource\"},\"glyph\":{\"id\":\"be1d1e24-c3ad-4921-b492-1abb0510f38e\",\"type\":\"Line\"},\"hover_glyph\":null,\"muted_glyph\":null,\"nonselection_glyph\":{\"id\":\"88407872-dfcc-416e-84e5-004ed8c5663c\",\"type\":\"Line\"},\"selection_glyph\":null,\"view\":{\"id\":\"ae481013-d679-42d9-8f46-b36a312589eb\",\"type\":\"CDSView\"}},\"id\":\"624d07d7-486c-4cf5-aa86-5f989321343a\",\"type\":\"GlyphRenderer\"},{\"attributes\":{},\"id\":\"4dc93feb-f214-45c8-8104-65d7f479e575\",\"type\":\"Selection\"},{\"attributes\":{},\"id\":\"2b9b6f44-bdc5-4400-990a-fb974640a98c\",\"type\":\"UnionRenderers\"},{\"attributes\":{},\"id\":\"95619d03-dea4-426d-9a2a-4be4514fdc39\",\"type\":\"BasicTicker\"},{\"attributes\":{\"line_color\":\"#4daf4a\",\"line_width\":1.5,\"x\":{\"field\":\"x\"},\"y\":{\"field\":\"y\"}},\"id\":\"bb769fa8-f66d-4bde-aaae-62ab9e2b0d6e\",\"type\":\"Line\"},{\"attributes\":{},\"id\":\"b671da02-26f3-4909-a0f8-290c915d5a03\",\"type\":\"UnionRenderers\"},{\"attributes\":{\"active_drag\":\"auto\",\"active_inspect\":\"auto\",\"active_scroll\":\"auto\",\"active_tap\":\"auto\",\"tools\":[{\"id\":\"bc137fdf-367d-41ec-86c5-d5dbd1285ce5\",\"type\":\"PanTool\"},{\"id\":\"c5c5c774-a3cf-4dff-8dec-4324e99ed836\",\"type\":\"WheelZoomTool\"},{\"id\":\"dc1dc746-fe3d-4834-9ed4-0babb8728371\",\"type\":\"BoxZoomTool\"},{\"id\":\"e8db1985-c3b1-448a-b35d-d622b684d872\",\"type\":\"SaveTool\"},{\"id\":\"bdfcadfb-8f85-4a5a-83fe-a6c8bd715368\",\"type\":\"ResetTool\"},{\"id\":\"99be1069-e12a-4612-a81e-271e8d4869ca\",\"type\":\"HelpTool\"}]},\"id\":\"ceb058db-d6c5-4a6b-9678-7c3edd338b10\",\"type\":\"Toolbar\"},{\"attributes\":{\"line_alpha\":0.1,\"line_color\":\"#1f77b4\",\"line_width\":1.5,\"x\":{\"field\":\"x\"},\"y\":{\"field\":\"y\"}},\"id\":\"17de62a4-2d74-42b6-8fcf-0e590868b35d\",\"type\":\"Line\"},{\"attributes\":{},\"id\":\"162784b6-78fc-4576-9b56-55de4faa8c3a\",\"type\":\"Selection\"},{\"attributes\":{},\"id\":\"bdfcadfb-8f85-4a5a-83fe-a6c8bd715368\",\"type\":\"ResetTool\"},{\"attributes\":{},\"id\":\"72402a2c-af2f-46c0-a5b2-7bfc3b9f7fe3\",\"type\":\"UnionRenderers\"},{\"attributes\":{},\"id\":\"ceb71e72-0f48-4c53-b6d2-dcae08e7ea58\",\"type\":\"LinearScale\"},{\"attributes\":{},\"id\":\"82bea6e7-db46-4031-920a-3a984096e653\",\"type\":\"Selection\"},{\"attributes\":{\"tools\":[{\"id\":\"5bcc385d-f5a6-42e6-86c1-373e61b1bfa9\",\"type\":\"PanTool\"},{\"id\":\"418744d9-8923-483c-8d85-d83a3b8b0916\",\"type\":\"WheelZoomTool\"},{\"id\":\"8677587b-c209-44b6-823b-0aab1c512ecd\",\"type\":\"BoxZoomTool\"},{\"id\":\"d51dcc6a-b2d2-4fe1-8074-c20a624dab24\",\"type\":\"SaveTool\"},{\"id\":\"b4174c45-512d-4822-ace7-74c247c03daa\",\"type\":\"ResetTool\"},{\"id\":\"ffd8801e-0c26-45f0-be0f-79e9dbaae9b5\",\"type\":\"HelpTool\"},{\"id\":\"bc137fdf-367d-41ec-86c5-d5dbd1285ce5\",\"type\":\"PanTool\"},{\"id\":\"c5c5c774-a3cf-4dff-8dec-4324e99ed836\",\"type\":\"WheelZoomTool\"},{\"id\":\"dc1dc746-fe3d-4834-9ed4-0babb8728371\",\"type\":\"BoxZoomTool\"},{\"id\":\"e8db1985-c3b1-448a-b35d-d622b684d872\",\"type\":\"SaveTool\"},{\"id\":\"bdfcadfb-8f85-4a5a-83fe-a6c8bd715368\",\"type\":\"ResetTool\"},{\"id\":\"99be1069-e12a-4612-a81e-271e8d4869ca\",\"type\":\"HelpTool\"}]},\"id\":\"ba715dea-23e6-4485-9124-52e6e642d91a\",\"type\":\"ProxyToolbar\"},{\"attributes\":{\"line_alpha\":0.6,\"line_color\":\"#e41a1c\",\"line_dash\":[6],\"line_width\":5,\"x\":{\"field\":\"x\"},\"y\":{\"field\":\"y\"}},\"id\":\"be1d1e24-c3ad-4921-b492-1abb0510f38e\",\"type\":\"Line\"},{\"attributes\":{\"source\":{\"id\":\"3e0e409d-d738-4318-8310-d74dbdeb97d8\",\"type\":\"ColumnDataSource\"}},\"id\":\"673a2dc2-8674-4599-a9f9-962425e9ade1\",\"type\":\"CDSView\"},{\"attributes\":{\"callback\":null,\"end\":1.9406831641,\"start\":0.2126028259},\"id\":\"25b10afa-409c-430a-bb24-54066354daef\",\"type\":\"Range1d\"},{\"attributes\":{\"source\":{\"id\":\"34e3a5d2-e799-46b2-bb64-eaca143b488c\",\"type\":\"ColumnDataSource\"}},\"id\":\"ae481013-d679-42d9-8f46-b36a312589eb\",\"type\":\"CDSView\"},{\"attributes\":{},\"id\":\"c0542994-2ef9-4594-84a2-5d6a981025e1\",\"type\":\"UnionRenderers\"},{\"attributes\":{\"bottom_units\":\"screen\",\"fill_alpha\":{\"value\":0.5},\"fill_color\":{\"value\":\"lightgrey\"},\"left_units\":\"screen\",\"level\":\"overlay\",\"line_alpha\":{\"value\":1.0},\"line_color\":{\"value\":\"black\"},\"line_dash\":[4,4],\"line_width\":{\"value\":2},\"plot\":null,\"render_mode\":\"css\",\"right_units\":\"screen\",\"top_units\":\"screen\"},\"id\":\"d186133c-6c8b-4273-ac62-6e44c2f1825d\",\"type\":\"BoxAnnotation\"},{\"attributes\":{\"axis_label\":\"cooling rate [K/day]\",\"formatter\":{\"id\":\"9674f848-36ab-4c7c-8112-0ea2280af0dc\",\"type\":\"BasicTickFormatter\"},\"plot\":{\"id\":\"dd5ef3f8-7b32-4457-9119-f4887b2b8fed\",\"subtype\":\"Figure\",\"type\":\"Plot\"},\"ticker\":{\"id\":\"2038b249-9ea3-4425-bbfb-833aed8b2d91\",\"type\":\"BasicTicker\"}},\"id\":\"76d97998-bf8e-42f0-ba03-b561755e3d91\",\"type\":\"LinearAxis\"},{\"attributes\":{},\"id\":\"cb35306b-f091-464d-a50d-7c0ce4d23268\",\"type\":\"Selection\"},{\"attributes\":{\"children\":[{\"id\":\"8dcd1b91-1d29-4d6e-ab91-c6988ed1b9e2\",\"type\":\"ToolbarBox\"},{\"id\":\"7c1d93ed-4680-4be0-866f-c36d601cde4c\",\"type\":\"Column\"}]},\"id\":\"1efc7c7b-cf3e-4ac1-9b55-0d506a14ff64\",\"type\":\"Column\"},{\"attributes\":{\"plot\":{\"id\":\"dd5ef3f8-7b32-4457-9119-f4887b2b8fed\",\"subtype\":\"Figure\",\"type\":\"Plot\"},\"ticker\":{\"id\":\"2038b249-9ea3-4425-bbfb-833aed8b2d91\",\"type\":\"BasicTicker\"}},\"id\":\"cbae8a7a-c3c1-4b4a-82ff-54d8b025fde4\",\"type\":\"Grid\"},{\"attributes\":{\"data_source\":{\"id\":\"a1a5108a-c249-4b97-ab71-379c6f9a3c69\",\"type\":\"ColumnDataSource\"},\"glyph\":{\"id\":\"58e652be-02fa-46cd-986b-2bb819715476\",\"type\":\"Line\"},\"hover_glyph\":null,\"muted_glyph\":null,\"nonselection_glyph\":{\"id\":\"db2e7056-ae09-4a9b-a1d7-495af1c13f73\",\"type\":\"Line\"},\"selection_glyph\":null,\"view\":{\"id\":\"b7fe305e-dcfd-4863-a6b8-aaecdaf41b0d\",\"type\":\"CDSView\"}},\"id\":\"a1d8a488-b701-4ff4-a01a-0f0e2d91b81c\",\"type\":\"GlyphRenderer\"},{\"attributes\":{},\"id\":\"28144e1f-fe9a-44ba-8e2c-a58f9f7218aa\",\"type\":\"BasicTicker\"},{\"attributes\":{},\"id\":\"b4174c45-512d-4822-ace7-74c247c03daa\",\"type\":\"ResetTool\"},{\"attributes\":{\"num_minor_ticks\":10},\"id\":\"2cf2c103-fe9a-463b-88f7-2c2cc285f58a\",\"type\":\"LogTicker\"},{\"attributes\":{\"source\":{\"id\":\"c252c7d4-b1d1-4933-9477-68f726658d5e\",\"type\":\"ColumnDataSource\"}},\"id\":\"b4c90795-7668-4ba2-9680-0d5995d47850\",\"type\":\"CDSView\"},{\"attributes\":{},\"id\":\"f05dc2d5-aca7-4a50-a3ac-ede61cb9b5f8\",\"type\":\"LinearScale\"},{\"attributes\":{\"callback\":null,\"data\":{\"x\":{\"__ndarray__\":\"IGsjkYC6D0D0JliN+QYMQPWloQF70AtAGu0mDEEWC0AO5WzlVccJQJuT4ORb6wdA1S49QpOcBUCOdx8X+wcDQPIHIwdDbABAGPisNQUU/D+ZIT76jBn4P9ZQbYiE8PQ//IN5AV1l8j80BugLmcPvP65Vt9S2Teo/a5kYbSSG5T9HpFAwoy/iP93M9ACwWOA/UB0NOLeF3z+/yPr3aAPgPyaQFDEbM+E/eRKfXz6D4T/MrGA+kp/gPx9jDDPwBOA/D27ex4Ob3j/ej57vLSDcP9jbZJdaFdk/6rps1hVN1j9KhuCqc6/UPye/jQ5AD9Q/PEr0yqlp0z+5jKVmYzbSP8mfRrwlsNE/JTb+kILn0T+qMO+ekavRP3WEiAXfONE/9PfZxpag0D9h27KVfMXPP3k5gCGUHNQ/V490All71z+NOP/XAhDaP7JCua5dCdo/PUE3NIJF2T9dQmGNAFHYP5AFFjtKeNY/DfSEg9Lh1T+Vt+NFg13YP8cwlC0LNds/Cu2FYV6G4T+RpPTAvWflP73igwb4Cec/i/8Qhqb/5j+0SG+KJl/lP3d2k04IgOI/3/RBIs+43j97TMJOSR/ZP/3ry/KuLtQ/snJqZqUlzz/uSdoDKpTGP7DVf1Z8474/kH8g7UwTtD9bmdvIGFWpP+MdET3y658/34WGJSnZlD/0zFQh0aqNP5fP3Lfx9ok/zu7/0yNXiz/x3VaEAByUPxi+igZtvJ0/Bxw+QTiNoT+cOzUzLqmdP+63tR/R2JE/GH6mYWttfz/sqEQntlRZP9RyFAmsqpG/\",\"dtype\":\"float64\",\"shape\":[75]},\"y\":{\"__ndarray__\":\"GhExyth1ND/Sv8nbtpRIP2vylNV0PVE/aTum7souWD/At0SJ8fVgPw3Iuahxymc/MSNhhJWvcD/bTfBN02d3P2zb5nxnaoA/CD5h5MAGhz8NmeH1TyaQP+zrCsc9p5Y/LbKd76fGnz/bLW5ISEmmPww9YvTcQq8/JV2OstnstT8Er5Y7M8G+P0c+r3jqkcU/5h99k6ZBzj88bCIzFzjVP4enV8oyxN0//yH99nXg5D8qOpLLf0jtP5kqGJXUifQ/c9cS8kHP/D+/DpwzojQEQIEmwoanVwxA4lgXt9HgE0BSSZ2AJuIbQAMJih9jjiNA5q4l5INuK0AwTKYKRj0zQNv5fmq8/DpAaCJseHrtQkB/+zpwzoxKQM3MzMzMeFJAZmZmZmZqWEAAAAAAAFxeQM3MzMzMJmJAmpmZmZkfZUBmZmZmZhhoQDMzMzMzEWtAAAAAAAAKbkBmZmZmZoFwQM3MzMzM/XFAMzMzMzN6c0CamZmZmfZ0QAAAAAAAc3ZAZmZmZmbvd0DNzMzMzGt5QDMzMzMz6HpAmpmZmZlkfEAAAAAAAOF9QGZmZmZmXX9AZmZmZuZsgECamZmZGSuBQM3MzMxM6YFAAAAAAICngkAzMzMzs2WDQGZmZmbmI4RAmpmZmRnihEDNzMzMTKCFQAAAAACAXoZAMzMzM7Mch0BmZmZm5tqHQJqZmZkZmYhAzczMzExXiUAAAAAAgBWKQDMzMzOz04pAZmZmZuaRi0CamZmZGVCMQM3MzMxMDo1AAAAAAIDMjUAzMzMzs4qOQGZmZmbmSI9A\",\"dtype\":\"float64\",\"shape\":[75]}},\"selected\":{\"id\":\"296136c3-8750-4062-b312-b4c2689791ed\",\"type\":\"Selection\"},\"selection_policy\":{\"id\":\"556ff2da-fb62-46d6-bc8d-6cb16a0cfe04\",\"type\":\"UnionRenderers\"}},\"id\":\"c252c7d4-b1d1-4933-9477-68f726658d5e\",\"type\":\"ColumnDataSource\"},{\"attributes\":{},\"id\":\"065ff676-c6d9-4407-89fa-005a30853d94\",\"type\":\"Selection\"},{\"attributes\":{\"line_alpha\":0.6,\"line_color\":\"#e41a1c\",\"line_dash\":[6],\"line_width\":5,\"x\":{\"field\":\"x\"},\"y\":{\"field\":\"y\"}},\"id\":\"58e652be-02fa-46cd-986b-2bb819715476\",\"type\":\"Line\"},{\"attributes\":{\"data_source\":{\"id\":\"c252c7d4-b1d1-4933-9477-68f726658d5e\",\"type\":\"ColumnDataSource\"},\"glyph\":{\"id\":\"e2d190ef-5984-4056-9d8f-f4c56c772cc1\",\"type\":\"Line\"},\"hover_glyph\":null,\"muted_glyph\":null,\"nonselection_glyph\":{\"id\":\"2b3b7b24-074f-4f71-a407-4ab509895dd3\",\"type\":\"Line\"},\"selection_glyph\":null,\"view\":{\"id\":\"b4c90795-7668-4ba2-9680-0d5995d47850\",\"type\":\"CDSView\"}},\"id\":\"d880cec7-316d-4537-aa97-500d2d6f61b9\",\"type\":\"GlyphRenderer\"},{\"attributes\":{},\"id\":\"553e154d-f223-475d-b4ed-0b9e724b7653\",\"type\":\"Selection\"},{\"attributes\":{\"source\":{\"id\":\"a1a5108a-c249-4b97-ab71-379c6f9a3c69\",\"type\":\"ColumnDataSource\"}},\"id\":\"b7fe305e-dcfd-4863-a6b8-aaecdaf41b0d\",\"type\":\"CDSView\"},{\"attributes\":{},\"id\":\"35887197-f57c-4624-94f0-f0a7173d2c7c\",\"type\":\"Selection\"},{\"attributes\":{\"callback\":null,\"data\":{\"x\":{\"__ndarray__\":\"LhBOVeueC0Bd1mlJ7P8JQH2YvWw7XQpALXcLyW47CkCMcVnghnMJQNpbJbPV8AdAMOhzpOmyBUCpYs9DEvICQDCE97ByEwBAVMyciUQc+z8NuimK/F/3P1m1tc90wPQ/9hj2xe+X8j9Ads2aDhPwP9ymT90iEeo/o4bCqQeT5D83E3jM5evgP983fNr6jN4//ITc2vze3T/IBcoaszTePxnXCXlOxN8/FYiF96jB3z/sB6fLg3DePxeKCaSjIN4/qubFy8tI3T+vgcavzNnaP9mjondLLtg/nlFnrAUP1T/1/OVqllHTPyV6lYzO/9I/9FPa6otn0j/iMwK/gP3QP6jL3ilPptA/P68VwNbd0D8fxygy55fQP0z33++8OdA/HCXx6gPmzj82MwJDuWHNP7Qwdoig5tI/K6axQU+Y1j/dXWdD/lnZP0PGJ41mX9k/1XwRREij2D8YFJvJFg3YP6yBGK4vztY/Y1tpxmCN1j9UhKP9chrZP0Dn4i1fsNs/oUTwZNyZ4T+WL2CwuGvlPy/v/U/2fec/akXEYg4B6D8xNbaVZkzmP+uWV42pBOM/gn8ACA7e3z+q/N/P+NfaP7k9Wv9bB9Y/q+4uo5rK0D9jBaZwkFLHP/WOprxO0b0/rOwlB5jrsT9aCc76QxylP5wH7yzztpk/dWAnX0oJkT/ORyHiSX+JPy8vI2n13YY/nBYNMCvIij8WVYzhVOWTP82/hnUdiZ0/Bl4U2sV2oT9lfVbbRX+dPy1fdtNWupE/Pk+Wsjk7fz/9uV5WBcNZP0UAOkOmuZG/\",\"dtype\":\"float64\",\"shape\":[75]},\"y\":{\"__ndarray__\":\"S/O/Q+51ND/Sv8nbtpRIP2vylNV0PVE/aTum7souWD/At0SJ8fVgPw3Iuahxymc/MSNhhJWvcD/bTfBN02d3P2zb5nxnaoA/CD5h5MAGhz8NmeH1TyaQP+zrCsc9p5Y/LbKd76fGnz/bLW5ISEmmPww9YvTcQq8/JV2OstnstT8Er5Y7M8G+P0c+r3jqkcU/5h99k6ZBzj88bCIzFzjVP4enV8oyxN0//yH99nXg5D8qOpLLf0jtP5kqGJXUifQ/c9cS8kHP/D+/DpwzojQEQIEmwoanVwxA4lgXt9HgE0BSSZ2AJuIbQAMJih9jjiNA5q4l5INuK0AwTKYKRj0zQNv5fmq8/DpAaCJseHrtQkB/+zpwzoxKQM3MzMzMeFJAZmZmZmZqWEAAAAAAAFxeQM3MzMzMJmJAmpmZmZkfZUBmZmZmZhhoQDMzMzMzEWtAAAAAAAAKbkBmZmZmZoFwQM3MzMzM/XFAMzMzMzN6c0CamZmZmfZ0QAAAAAAAc3ZAZmZmZmbvd0DNzMzMzGt5QDMzMzMz6HpAmpmZmZlkfEAAAAAAAOF9QGZmZmZmXX9AZmZmZuZsgECamZmZGSuBQM3MzMxM6YFAAAAAAICngkAzMzMzs2WDQGZmZmbmI4RAmpmZmRnihEDNzMzMTKCFQAAAAACAXoZAMzMzM7Mch0BmZmZm5tqHQJqZmZkZmYhAzczMzExXiUAAAAAAgBWKQDMzMzOz04pAZmZmZuaRi0CamZmZGVCMQM3MzMxMDo1AAAAAAIDMjUAzMzMzs4qOQGZmZmbmSI9A\",\"dtype\":\"float64\",\"shape\":[75]}},\"selected\":{\"id\":\"ced6e25e-5653-472b-8087-fb817ee3313a\",\"type\":\"Selection\"},\"selection_policy\":{\"id\":\"b671da02-26f3-4909-a0f8-290c915d5a03\",\"type\":\"UnionRenderers\"}},\"id\":\"a1a5108a-c249-4b97-ab71-379c6f9a3c69\",\"type\":\"ColumnDataSource\"},{\"attributes\":{},\"id\":\"8d44d4b6-1f26-4b94-be8e-288f65467e20\",\"type\":\"UnionRenderers\"},{\"attributes\":{\"line_alpha\":0.1,\"line_color\":\"#1f77b4\",\"line_dash\":[6],\"line_width\":5,\"x\":{\"field\":\"x\"},\"y\":{\"field\":\"y\"}},\"id\":\"88407872-dfcc-416e-84e5-004ed8c5663c\",\"type\":\"Line\"},{\"attributes\":{\"callback\":null,\"end\":0.01,\"start\":1020},\"id\":\"e0130d28-53fb-49ef-8a76-0194faf1b1f0\",\"type\":\"Range1d\"},{\"attributes\":{\"line_alpha\":0.1,\"line_color\":\"#1f77b4\",\"line_dash\":[6],\"line_width\":5,\"x\":{\"field\":\"x\"},\"y\":{\"field\":\"y\"}},\"id\":\"db2e7056-ae09-4a9b-a1d7-495af1c13f73\",\"type\":\"Line\"},{\"attributes\":{\"callback\":null,\"data\":{\"x\":{\"__ndarray__\":\"LhBOVeueC0Bd1mlJ7P8JQH2YvWw7XQpALXcLyW47CkCMcVnghnMJQNpbJbPV8AdAMOhzpOmyBUCpYs9DEvICQDCE97ByEwBAVMyciUQc+z8NuimK/F/3P1m1tc90wPQ/9hj2xe+X8j9Ads2aDhPwP9ymT90iEeo/o4bCqQeT5D83E3jM5evgP983fNr6jN4//ITc2vze3T/IBcoaszTePxnXCXlOxN8/FYiF96jB3z/sB6fLg3DePxeKCaSjIN4/qubFy8tI3T+vgcavzNnaP9mjondLLtg/nlFnrAUP1T/1/OVqllHTPyV6lYzO/9I/9FPa6otn0j/iMwK/gP3QP6jL3ilPptA/P68VwNbd0D8fxygy55fQP0z33++8OdA/HCXx6gPmzj82MwJDuWHNP7Qwdoig5tI/K6axQU+Y1j/dXWdD/lnZP0PGJ41mX9k/1XwRREij2D8YFJvJFg3YP6yBGK4vztY/Y1tpxmCN1j9UhKP9chrZP0Dn4i1fsNs/oUTwZNyZ4T+WL2CwuGvlPy/v/U/2fec/akXEYg4B6D8xNbaVZkzmP+uWV42pBOM/gn8ACA7e3z+q/N/P+NfaP7k9Wv9bB9Y/q+4uo5rK0D9jBaZwkFLHP/WOprxO0b0/rOwlB5jrsT9aCc76QxylP5wH7yzztpk/dWAnX0oJkT/ORyHiSX+JPy8vI2n13YY/nBYNMCvIij8WVYzhVOWTP82/hnUdiZ0/Bl4U2sV2oT9lfVbbRX+dPy1fdtNWupE/Pk+Wsjk7fz/9uV5WBcNZP0UAOkOmuZG/\",\"dtype\":\"float64\",\"shape\":[75]},\"y\":{\"__ndarray__\":\"S/O/Q+51ND/Sv8nbtpRIP2vylNV0PVE/aTum7souWD/At0SJ8fVgPw3Iuahxymc/MSNhhJWvcD/bTfBN02d3P2zb5nxnaoA/CD5h5MAGhz8NmeH1TyaQP+zrCsc9p5Y/LbKd76fGnz/bLW5ISEmmPww9YvTcQq8/JV2OstnstT8Er5Y7M8G+P0c+r3jqkcU/5h99k6ZBzj88bCIzFzjVP4enV8oyxN0//yH99nXg5D8qOpLLf0jtP5kqGJXUifQ/c9cS8kHP/D+/DpwzojQEQIEmwoanVwxA4lgXt9HgE0BSSZ2AJuIbQAMJih9jjiNA5q4l5INuK0AwTKYKRj0zQNv5fmq8/DpAaCJseHrtQkB/+zpwzoxKQM3MzMzMeFJAZmZmZmZqWEAAAAAAAFxeQM3MzMzMJmJAmpmZmZkfZUBmZmZmZhhoQDMzMzMzEWtAAAAAAAAKbkBmZmZmZoFwQM3MzMzM/XFAMzMzMzN6c0CamZmZmfZ0QAAAAAAAc3ZAZmZmZmbvd0DNzMzMzGt5QDMzMzMz6HpAmpmZmZlkfEAAAAAAAOF9QGZmZmZmXX9AZmZmZuZsgECamZmZGSuBQM3MzMxM6YFAAAAAAICngkAzMzMzs2WDQGZmZmbmI4RAmpmZmRnihEDNzMzMTKCFQAAAAACAXoZAMzMzM7Mch0BmZmZm5tqHQJqZmZkZmYhAzczMzExXiUAAAAAAgBWKQDMzMzOz04pAZmZmZuaRi0CamZmZGVCMQM3MzMxMDo1AAAAAAIDMjUAzMzMzs4qOQGZmZmbmSI9A\",\"dtype\":\"float64\",\"shape\":[75]}},\"selected\":{\"id\":\"065ff676-c6d9-4407-89fa-005a30853d94\",\"type\":\"Selection\"},\"selection_policy\":{\"id\":\"099f595a-8d89-4083-a2b5-ee9c0500af1f\",\"type\":\"UnionRenderers\"}},\"id\":\"34e3a5d2-e799-46b2-bb64-eaca143b488c\",\"type\":\"ColumnDataSource\"},{\"attributes\":{\"below\":[{\"id\":\"4cef9e57-ee01-4848-9dca-08f628a67e8b\",\"type\":\"LinearAxis\"}],\"left\":[{\"id\":\"b8d183ef-0a56-414b-b2a5-cd31c8feeb99\",\"type\":\"LinearAxis\"}],\"plot_height\":500,\"plot_width\":400,\"renderers\":[{\"id\":\"4cef9e57-ee01-4848-9dca-08f628a67e8b\",\"type\":\"LinearAxis\"},{\"id\":\"d83afc76-c35b-4a53-9ba4-ad3efad3b3e4\",\"type\":\"Grid\"},{\"id\":\"b8d183ef-0a56-414b-b2a5-cd31c8feeb99\",\"type\":\"LinearAxis\"},{\"id\":\"8a0d897b-8d98-4a10-8c15-2ac20d0f0b1d\",\"type\":\"Grid\"},{\"id\":\"d186133c-6c8b-4273-ac62-6e44c2f1825d\",\"type\":\"BoxAnnotation\"},{\"id\":\"624d07d7-486c-4cf5-aa86-5f989321343a\",\"type\":\"GlyphRenderer\"},{\"id\":\"ceb0f189-61e5-48be-9aeb-35e837362d95\",\"type\":\"GlyphRenderer\"},{\"id\":\"e7022558-a357-4d2c-8982-990b6c21346f\",\"type\":\"GlyphRenderer\"},{\"id\":\"0e25a468-f4f7-446f-a54a-a8b723dbdb12\",\"type\":\"GlyphRenderer\"},{\"id\":\"d880cec7-316d-4537-aa97-500d2d6f61b9\",\"type\":\"GlyphRenderer\"}],\"title\":{\"id\":\"377d0353-358f-4fa5-9009-af6138b7b132\",\"type\":\"Title\"},\"toolbar\":{\"id\":\"3b5ac2bc-e5d7-4ee6-b3a1-d2183dd599df\",\"type\":\"Toolbar\"},\"toolbar_location\":null,\"x_range\":{\"id\":\"fa5d5e0a-9d56-4070-ae37-23a51dd9208c\",\"type\":\"Range1d\"},\"x_scale\":{\"id\":\"ceb71e72-0f48-4c53-b6d2-dcae08e7ea58\",\"type\":\"LinearScale\"},\"y_range\":{\"id\":\"7d974a01-a768-44f4-9d1f-06a0a79e1717\",\"type\":\"Range1d\"},\"y_scale\":{\"id\":\"f05dc2d5-aca7-4a50-a3ac-ede61cb9b5f8\",\"type\":\"LinearScale\"}},\"id\":\"b10ebc69-2083-41eb-b64b-0236940e3f20\",\"subtype\":\"Figure\",\"type\":\"Plot\"},{\"attributes\":{\"callback\":null,\"end\":0.01,\"start\":1020},\"id\":\"7d974a01-a768-44f4-9d1f-06a0a79e1717\",\"type\":\"Range1d\"},{\"attributes\":{\"line_alpha\":0.6,\"line_color\":\"#984ea3\",\"line_width\":3,\"x\":{\"field\":\"x\"},\"y\":{\"field\":\"y\"}},\"id\":\"e2d190ef-5984-4056-9d8f-f4c56c772cc1\",\"type\":\"Line\"}],\"root_ids\":[\"1efc7c7b-cf3e-4ac1-9b55-0d506a14ff64\"]},\"title\":\"Bokeh Application\",\"version\":\"0.12.16\"}};\n",
       "  var render_items = [{\"docid\":\"7597ef65-3990-4936-91f0-3cf1d53b729a\",\"elementid\":\"638c2127-2b11-4895-bf7d-11e6a81816ce\",\"modelid\":\"1efc7c7b-cf3e-4ac1-9b55-0d506a14ff64\"}];\n",
       "  root.Bokeh.embed.embed_items_notebook(docs_json, render_items);\n",
       "\n",
       "  }\n",
       "  if (root.Bokeh !== undefined) {\n",
       "    embed_document(root);\n",
       "  } else {\n",
       "    var attempts = 0;\n",
       "    var timer = setInterval(function(root) {\n",
       "      if (root.Bokeh !== undefined) {\n",
       "        embed_document(root);\n",
       "        clearInterval(timer);\n",
       "      }\n",
       "      attempts++;\n",
       "      if (attempts > 100) {\n",
       "        console.log(\"Bokeh: ERROR: Unable to run BokehJS code because BokehJS library is missing\")\n",
       "        clearInterval(timer);\n",
       "      }\n",
       "    }, 10, root)\n",
       "  }\n",
       "})(window);"
      ],
      "application/vnd.bokehjs_exec.v0+json": ""
     },
     "metadata": {
      "application/vnd.bokehjs_exec.v0+json": {
       "id": "1efc7c7b-cf3e-4ac1-9b55-0d506a14ff64"
      }
     },
     "output_type": "display_data"
    },
    {
     "name": "stdout",
     "output_type": "stream",
     "text": [
      "FIGURE. Cooling rate profiles.\n"
     ]
    },
    {
     "data": {
      "text/html": [
       "<a id=\"Flux_Comparison\"></a>"
      ],
      "text/plain": [
       "<IPython.core.display.HTML object>"
      ]
     },
     "metadata": {},
     "output_type": "display_data"
    },
    {
     "data": {
      "text/markdown": [
       "# Flux Comparison"
      ],
      "text/plain": [
       "<IPython.core.display.Markdown object>"
      ]
     },
     "metadata": {},
     "output_type": "display_data"
    },
    {
     "data": {
      "text/html": [
       "<div>\n",
       "<style scoped>\n",
       "    .dataframe tbody tr th:only-of-type {\n",
       "        vertical-align: middle;\n",
       "    }\n",
       "\n",
       "    .dataframe tbody tr th {\n",
       "        vertical-align: top;\n",
       "    }\n",
       "\n",
       "    .dataframe thead th {\n",
       "        text-align: right;\n",
       "    }\n",
       "</style>\n",
       "<table border=\"1\" class=\"dataframe\">\n",
       "  <thead>\n",
       "    <tr style=\"text-align: right;\">\n",
       "      <th></th>\n",
       "      <th></th>\n",
       "      <th>flug</th>\n",
       "      <th>fldg</th>\n",
       "      <th>fnetg</th>\n",
       "    </tr>\n",
       "    <tr>\n",
       "      <th>pressure</th>\n",
       "      <th>level</th>\n",
       "      <th></th>\n",
       "      <th></th>\n",
       "      <th></th>\n",
       "    </tr>\n",
       "  </thead>\n",
       "  <tbody>\n",
       "    <tr>\n",
       "      <th>0.0000</th>\n",
       "      <th>1</th>\n",
       "      <td>-31.956085</td>\n",
       "      <td>0.000000</td>\n",
       "      <td>-31.956085</td>\n",
       "    </tr>\n",
       "    <tr>\n",
       "      <th>1.0685</th>\n",
       "      <th>24</th>\n",
       "      <td>-31.950595</td>\n",
       "      <td>0.065412</td>\n",
       "      <td>-31.885184</td>\n",
       "    </tr>\n",
       "    <tr>\n",
       "      <th>1013.0000</th>\n",
       "      <th>76</th>\n",
       "      <td>-40.261468</td>\n",
       "      <td>40.375401</td>\n",
       "      <td>0.113933</td>\n",
       "    </tr>\n",
       "  </tbody>\n",
       "</table>\n",
       "</div>"
      ],
      "text/plain": [
       "                      flug       fldg      fnetg\n",
       "pressure  level                                 \n",
       "0.0000    1     -31.956085   0.000000 -31.956085\n",
       "1.0685    24    -31.950595   0.065412 -31.885184\n",
       "1013.0000 76    -40.261468  40.375401   0.113933"
      ]
     },
     "metadata": {},
     "output_type": "display_data"
    },
    {
     "name": "stdout",
     "output_type": "stream",
     "text": [
      "Table. Fluxes. CRD\n"
     ]
    },
    {
     "data": {
      "text/html": [
       "<div>\n",
       "<style scoped>\n",
       "    .dataframe tbody tr th:only-of-type {\n",
       "        vertical-align: middle;\n",
       "    }\n",
       "\n",
       "    .dataframe tbody tr th {\n",
       "        vertical-align: top;\n",
       "    }\n",
       "\n",
       "    .dataframe thead th {\n",
       "        text-align: right;\n",
       "    }\n",
       "</style>\n",
       "<table border=\"1\" class=\"dataframe\">\n",
       "  <thead>\n",
       "    <tr style=\"text-align: right;\">\n",
       "      <th></th>\n",
       "      <th></th>\n",
       "      <th>flug</th>\n",
       "      <th>fldg</th>\n",
       "      <th>fnetg</th>\n",
       "    </tr>\n",
       "    <tr>\n",
       "      <th>pressure</th>\n",
       "      <th>level</th>\n",
       "      <th></th>\n",
       "      <th></th>\n",
       "      <th></th>\n",
       "    </tr>\n",
       "  </thead>\n",
       "  <tbody>\n",
       "    <tr>\n",
       "      <th>0.0000</th>\n",
       "      <th>1</th>\n",
       "      <td>-31.700444</td>\n",
       "      <td>0.000000</td>\n",
       "      <td>-31.700444</td>\n",
       "    </tr>\n",
       "    <tr>\n",
       "      <th>1.0685</th>\n",
       "      <th>24</th>\n",
       "      <td>-31.693258</td>\n",
       "      <td>0.066406</td>\n",
       "      <td>-31.626852</td>\n",
       "    </tr>\n",
       "    <tr>\n",
       "      <th>1013.0000</th>\n",
       "      <th>76</th>\n",
       "      <td>-40.261467</td>\n",
       "      <td>40.373400</td>\n",
       "      <td>0.111932</td>\n",
       "    </tr>\n",
       "  </tbody>\n",
       "</table>\n",
       "</div>"
      ],
      "text/plain": [
       "                      flug       fldg      fnetg\n",
       "pressure  level                                 \n",
       "0.0000    1     -31.700444   0.000000 -31.700444\n",
       "1.0685    24    -31.693258   0.066406 -31.626852\n",
       "1013.0000 76    -40.261467  40.373400   0.111932"
      ]
     },
     "metadata": {},
     "output_type": "display_data"
    },
    {
     "name": "stdout",
     "output_type": "stream",
     "text": [
      "Table. Fluxes. WGT igg=10 wgt_flux=1\n"
     ]
    },
    {
     "data": {
      "text/html": [
       "<div>\n",
       "<style scoped>\n",
       "    .dataframe tbody tr th:only-of-type {\n",
       "        vertical-align: middle;\n",
       "    }\n",
       "\n",
       "    .dataframe tbody tr th {\n",
       "        vertical-align: top;\n",
       "    }\n",
       "\n",
       "    .dataframe thead th {\n",
       "        text-align: right;\n",
       "    }\n",
       "</style>\n",
       "<table border=\"1\" class=\"dataframe\">\n",
       "  <thead>\n",
       "    <tr style=\"text-align: right;\">\n",
       "      <th></th>\n",
       "      <th></th>\n",
       "      <th>flug</th>\n",
       "      <th>fldg</th>\n",
       "      <th>fnetg</th>\n",
       "    </tr>\n",
       "    <tr>\n",
       "      <th>pressure</th>\n",
       "      <th>level</th>\n",
       "      <th></th>\n",
       "      <th></th>\n",
       "      <th></th>\n",
       "    </tr>\n",
       "  </thead>\n",
       "  <tbody>\n",
       "    <tr>\n",
       "      <th>1.000000e-08</th>\n",
       "      <th>1</th>\n",
       "      <td>-31.774476</td>\n",
       "      <td>5.809747e-07</td>\n",
       "      <td>-31.774475</td>\n",
       "    </tr>\n",
       "    <tr>\n",
       "      <th>1.068500e+00</th>\n",
       "      <th>24</th>\n",
       "      <td>-31.767979</td>\n",
       "      <td>6.217190e-02</td>\n",
       "      <td>-31.705807</td>\n",
       "    </tr>\n",
       "    <tr>\n",
       "      <th>1.013000e+03</th>\n",
       "      <th>76</th>\n",
       "      <td>-40.261470</td>\n",
       "      <td>4.037278e+01</td>\n",
       "      <td>0.111306</td>\n",
       "    </tr>\n",
       "  </tbody>\n",
       "</table>\n",
       "</div>"
      ],
      "text/plain": [
       "                         flug          fldg      fnetg\n",
       "pressure     level                                    \n",
       "1.000000e-08 1     -31.774476  5.809747e-07 -31.774475\n",
       "1.068500e+00 24    -31.767979  6.217190e-02 -31.705807\n",
       "1.013000e+03 76    -40.261470  4.037278e+01   0.111306"
      ]
     },
     "metadata": {},
     "output_type": "display_data"
    },
    {
     "name": "stdout",
     "output_type": "stream",
     "text": [
      "Table. Fluxes. CLIRAD\n"
     ]
    },
    {
     "data": {
      "text/html": [
       "<div>\n",
       "<style scoped>\n",
       "    .dataframe tbody tr th:only-of-type {\n",
       "        vertical-align: middle;\n",
       "    }\n",
       "\n",
       "    .dataframe tbody tr th {\n",
       "        vertical-align: top;\n",
       "    }\n",
       "\n",
       "    .dataframe thead th {\n",
       "        text-align: right;\n",
       "    }\n",
       "</style>\n",
       "<table border=\"1\" class=\"dataframe\">\n",
       "  <thead>\n",
       "    <tr style=\"text-align: right;\">\n",
       "      <th></th>\n",
       "      <th></th>\n",
       "      <th>flug</th>\n",
       "      <th>fldg</th>\n",
       "      <th>fnetg</th>\n",
       "    </tr>\n",
       "    <tr>\n",
       "      <th>pressure</th>\n",
       "      <th>level</th>\n",
       "      <th></th>\n",
       "      <th></th>\n",
       "      <th></th>\n",
       "    </tr>\n",
       "  </thead>\n",
       "  <tbody>\n",
       "    <tr>\n",
       "      <th>0.0000</th>\n",
       "      <th>1</th>\n",
       "      <td>2.556411e-01</td>\n",
       "      <td>0.000000</td>\n",
       "      <td>0.255641</td>\n",
       "    </tr>\n",
       "    <tr>\n",
       "      <th>1.0685</th>\n",
       "      <th>24</th>\n",
       "      <td>2.573374e-01</td>\n",
       "      <td>0.000994</td>\n",
       "      <td>0.258332</td>\n",
       "    </tr>\n",
       "    <tr>\n",
       "      <th>1013.0000</th>\n",
       "      <th>76</th>\n",
       "      <td>5.997000e-07</td>\n",
       "      <td>-0.002001</td>\n",
       "      <td>-0.002001</td>\n",
       "    </tr>\n",
       "  </tbody>\n",
       "</table>\n",
       "</div>"
      ],
      "text/plain": [
       "                         flug      fldg     fnetg\n",
       "pressure  level                                  \n",
       "0.0000    1      2.556411e-01  0.000000  0.255641\n",
       "1.0685    24     2.573374e-01  0.000994  0.258332\n",
       "1013.0000 76     5.997000e-07 -0.002001 -0.002001"
      ]
     },
     "metadata": {},
     "output_type": "display_data"
    },
    {
     "name": "stdout",
     "output_type": "stream",
     "text": [
      "Table. Fluxes. (WGT igg=10 wgt_flux=1) - (CRD)\n"
     ]
    },
    {
     "data": {
      "text/html": [
       "<div>\n",
       "<style scoped>\n",
       "    .dataframe tbody tr th:only-of-type {\n",
       "        vertical-align: middle;\n",
       "    }\n",
       "\n",
       "    .dataframe tbody tr th {\n",
       "        vertical-align: top;\n",
       "    }\n",
       "\n",
       "    .dataframe thead th {\n",
       "        text-align: right;\n",
       "    }\n",
       "</style>\n",
       "<table border=\"1\" class=\"dataframe\">\n",
       "  <thead>\n",
       "    <tr style=\"text-align: right;\">\n",
       "      <th></th>\n",
       "      <th></th>\n",
       "      <th>flug</th>\n",
       "      <th>fldg</th>\n",
       "      <th>fnetg</th>\n",
       "    </tr>\n",
       "    <tr>\n",
       "      <th>pressure</th>\n",
       "      <th>level</th>\n",
       "      <th></th>\n",
       "      <th></th>\n",
       "      <th></th>\n",
       "    </tr>\n",
       "  </thead>\n",
       "  <tbody>\n",
       "    <tr>\n",
       "      <th>0.0000</th>\n",
       "      <th>1</th>\n",
       "      <td>0.181609</td>\n",
       "      <td>5.809747e-07</td>\n",
       "      <td>0.181610</td>\n",
       "    </tr>\n",
       "    <tr>\n",
       "      <th>1.0685</th>\n",
       "      <th>24</th>\n",
       "      <td>0.182616</td>\n",
       "      <td>-3.239879e-03</td>\n",
       "      <td>0.179377</td>\n",
       "    </tr>\n",
       "    <tr>\n",
       "      <th>1013.0000</th>\n",
       "      <th>76</th>\n",
       "      <td>-0.000002</td>\n",
       "      <td>-2.625000e-03</td>\n",
       "      <td>-0.002627</td>\n",
       "    </tr>\n",
       "  </tbody>\n",
       "</table>\n",
       "</div>"
      ],
      "text/plain": [
       "                     flug          fldg     fnetg\n",
       "pressure  level                                  \n",
       "0.0000    1      0.181609  5.809747e-07  0.181610\n",
       "1.0685    24     0.182616 -3.239879e-03  0.179377\n",
       "1013.0000 76    -0.000002 -2.625000e-03 -0.002627"
      ]
     },
     "metadata": {},
     "output_type": "display_data"
    },
    {
     "name": "stdout",
     "output_type": "stream",
     "text": [
      "Table. Fluxes. (CLIRAD) - (CRD)\n"
     ]
    },
    {
     "data": {
      "text/html": [
       "<a id=\"Best-fit_Parameters\"></a>"
      ],
      "text/plain": [
       "<IPython.core.display.HTML object>"
      ]
     },
     "metadata": {},
     "output_type": "display_data"
    },
    {
     "data": {
      "text/markdown": [
       "# Best-fit Parameters"
      ],
      "text/plain": [
       "<IPython.core.display.Markdown object>"
      ]
     },
     "metadata": {},
     "output_type": "display_data"
    },
    {
     "name": "stdout",
     "output_type": "stream",
     "text": [
      "Best-fit values for each (gas, band)\n",
      "------------------------------------\n",
      "o h2o band1\n",
      "  atmpro = mls\n",
      "  band = 1\n",
      "  commitnumber = a06b618\n",
      "  conc = None\n",
      "  dv = 0.001\n",
      "  klin = 0\n",
      "  molecule = h2o\n",
      "  ng_adju = [0, 0, 0]\n",
      "  ng_refs = [3, 3, 6]\n",
      "  nv = 1000\n",
      "  option_compute_btable = 0\n",
      "  option_compute_ktable = 1\n",
      "  option_wgt_flux = 1\n",
      "  option_wgt_k = 1\n",
      "  ref_pts = [(1, 250), (30, 250), (300, 250)]\n",
      "  tsfc = 294\n",
      "  vmax = 340\n",
      "  vmin = 20\n",
      "  w_diffuse = [(1.66, 1.66, 1.66), (1.66, 1.66, 1.66), (1.66, 1.66, 1.5, 1.5, 1.5, 1.5)]\n",
      "  wgt = [(0.2, 0.2, 0.2), (0.2, 0.2, 0.2), (0.2, 0.2, 0.65, 0.65, 0.65, 0.65)]\n"
     ]
    }
   ],
   "source": [
    "script()"
   ]
  },
  {
   "cell_type": "code",
   "execution_count": 13,
   "metadata": {},
   "outputs": [
    {
     "data": {
      "text/html": [
       "<script>\n",
       "code_show=true; \n",
       "function code_toggle() {\n",
       " if (code_show){\n",
       " $('div.input').hide();\n",
       " } else {\n",
       " $('div.input').show();\n",
       " }\n",
       " code_show = !code_show\n",
       "} \n",
       "$( document ).ready(code_toggle);\n",
       "</script>\n",
       "<form action=\"javascript:code_toggle()\"><input type=\"submit\" value=\"Click here to toggle on/off the raw code.\"></form>"
      ],
      "text/plain": [
       "<IPython.core.display.HTML object>"
      ]
     },
     "execution_count": 13,
     "metadata": {},
     "output_type": "execute_result"
    }
   ],
   "source": [
    "display.HTML('''<script>\n",
    "code_show=true; \n",
    "function code_toggle() {\n",
    " if (code_show){\n",
    " $('div.input').hide();\n",
    " } else {\n",
    " $('div.input').show();\n",
    " }\n",
    " code_show = !code_show\n",
    "} \n",
    "$( document ).ready(code_toggle);\n",
    "</script>\n",
    "<form action=\"javascript:code_toggle()\"><input type=\"submit\" value=\"Click here to toggle on/off the raw code.\"></form>''')"
   ]
  }
 ],
 "metadata": {
  "kernelspec": {
   "display_name": "Python 3",
   "language": "python",
   "name": "python3"
  },
  "language_info": {
   "codemirror_mode": {
    "name": "ipython",
    "version": 3
   },
   "file_extension": ".py",
   "mimetype": "text/x-python",
   "name": "python",
   "nbconvert_exporter": "python",
   "pygments_lexer": "ipython3",
   "version": "3.6.1"
  }
 },
 "nbformat": 4,
 "nbformat_minor": 2
}
