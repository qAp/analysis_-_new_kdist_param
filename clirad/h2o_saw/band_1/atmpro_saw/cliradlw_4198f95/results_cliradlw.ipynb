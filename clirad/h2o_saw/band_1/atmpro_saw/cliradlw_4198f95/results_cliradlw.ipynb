{
 "cells": [
  {
   "cell_type": "code",
   "execution_count": 1,
   "metadata": {
    "collapsed": true
   },
   "outputs": [],
   "source": [
    "%matplotlib inline\n",
    "import os\n",
    "import re\n",
    "import io\n",
    "import itertools\n",
    "import pprint\n",
    "\n",
    "from bokeh.io import output_notebook, show\n",
    "from bokeh.layouts import gridplot\n",
    "from bokeh.plotting import figure\n",
    "from bokeh.models import Range1d, Legend\n",
    "from bokeh.palettes import all_palettes\n",
    "\n",
    "import matplotlib\n",
    "import matplotlib.pyplot as plt\n",
    "import numpy as np\n",
    "import pandas as pd\n",
    "import xarray as xr\n",
    "\n",
    "import climatools.lblnew.bestfit_params as bestfits\n",
    "from climatools.lblnew import setup_bestfit, setup_overlap\n",
    "import climatools.lblnew.pipeline as pipe_lblnew\n",
    "import climatools.cliradlw.setup as setup_cliradlw\n",
    "import climatools.cliradlw.pipeline as pipe_cliradlw\n",
    "\n",
    "import climatools.html.html as climahtml\n",
    "from climatools.lblnew.dataio import *\n",
    "from climatools.plot.plot import *\n",
    "\n",
    "\n",
    "import IPython.display as display"
   ]
  },
  {
   "cell_type": "code",
   "execution_count": 2,
   "metadata": {
    "collapsed": true
   },
   "outputs": [],
   "source": [
    "%run param.py"
   ]
  },
  {
   "cell_type": "code",
   "execution_count": 3,
   "metadata": {
    "collapsed": true
   },
   "outputs": [],
   "source": [
    "def load_output_file(path_csv):\n",
    "    '''\n",
    "    Load lblnew output .csv file to xarray.Dataset\n",
    "    \n",
    "    Parameters\n",
    "    ----------\n",
    "    path_csv: str\n",
    "              Path to the .csv file to be loaded.\n",
    "    ds: xarray.Dataset\n",
    "        Data in the input file in the form of an xarray.Dataset.\n",
    "    '''\n",
    "    toindex = ['band', 'pressure', 'igg', 'g']    \n",
    "    df = pd.read_csv(path_csv, sep=r'\\s+')\n",
    "    df = df.set_index([i for i in toindex if i in df.columns])\n",
    "    df = df.rename(columns={'sfu': 'flug',\n",
    "                            'sfd': 'fldg',\n",
    "                            'fnet': 'fnetg',\n",
    "                            'coolr': 'coolrg'})\n",
    "    ds = xr.Dataset.from_dataframe(df)\n",
    "\n",
    "    for l in ('level', 'layer'):\n",
    "        if l in ds.data_vars:\n",
    "            if len(ds[l].dims) > 1:\n",
    "                surface = {d: 0 for d in ds.dims if d != 'pressure'}\n",
    "                coord_level = ds[l][surface]\n",
    "                ds.coords[l] = ('pressure', coord_level)\n",
    "            else:\n",
    "                ds.coords[l] = ('pressure', ds[l])\n",
    "    \n",
    "    return ds"
   ]
  },
  {
   "cell_type": "code",
   "execution_count": 4,
   "metadata": {
    "collapsed": true
   },
   "outputs": [],
   "source": [
    "def lblnew_setup(param=None):\n",
    "    if 'ng_refs' in param:\n",
    "        return {'setup': setup_bestfit,\n",
    "                'fname_flux_crd': 'output_flux.dat',\n",
    "                'fname_cool_crd': 'output_coolr.dat',\n",
    "                'fname_flux_wgt': 'output_wfluxg.dat',\n",
    "                'fname_cool_wgt': 'output_wcoolrg.dat'}\n",
    "    else:\n",
    "        return {'setup': setup_overlap,\n",
    "                'fname_flux_crd': 'output_flux.dat',\n",
    "                'fname_cool_crd': 'output_coolr.dat',\n",
    "                'fname_flux_wgt': 'output_wflux.dat',\n",
    "                'fname_cool_wgt': 'output_wcoolr.dat'}\n",
    "\n",
    "    \n",
    "def load_lblnew_data(param):\n",
    "    \n",
    "    fname_dsname = [('fname_flux_crd', 'ds_flux_crd'),\n",
    "                    ('fname_cool_crd', 'ds_cool_crd'),\n",
    "                    ('fname_flux_wgt', 'ds_flux_wgt'),\n",
    "                    ('fname_cool_wgt', 'ds_cool_wgt')]\n",
    "    \n",
    "    d = lblnew_setup(param)\n",
    "    dir_fortran = pipe_lblnew.get_dir_case(param, setup=d['setup'])\n",
    "    \n",
    "    data_dict = {}\n",
    "    for fname, dsname in fname_dsname:\n",
    "        fpath = os.path.join(dir_fortran, d[fname])\n",
    "        data_dict[dsname] = load_output_file(fpath)\n",
    "    return data_dict\n",
    "    \n",
    "\n",
    "    \n",
    "    "
   ]
  },
  {
   "cell_type": "code",
   "execution_count": 5,
   "metadata": {
    "collapsed": true
   },
   "outputs": [],
   "source": [
    "d = load_lblnew_data(PARAM_LBLNEW)\n",
    "\n",
    "DS_FLUX_CRD = d['ds_flux_crd']\n",
    "DS_COOL_CRD = d['ds_cool_crd']\n",
    "DS_FLUX_WGT = d['ds_flux_wgt']\n",
    "DS_COOL_WGT = d['ds_cool_wgt']"
   ]
  },
  {
   "cell_type": "code",
   "execution_count": 6,
   "metadata": {
    "collapsed": true
   },
   "outputs": [],
   "source": [
    "DIR_FORTRAN = pipe_cliradlw.get_fortran_dir(PARAM, \n",
    "                                            setup=setup_cliradlw)\n",
    "\n",
    "PATH_FLUX = os.path.join(DIR_FORTRAN, 'output_flux.dat')\n",
    "PATH_COOL = os.path.join(DIR_FORTRAN, 'output_coolr.dat')\n",
    "\n",
    "DS_FLUX = load_output_file(PATH_FLUX)\n",
    "DS_COOL = load_output_file(PATH_COOL)"
   ]
  },
  {
   "cell_type": "code",
   "execution_count": 7,
   "metadata": {
    "collapsed": true
   },
   "outputs": [
    {
     "data": {
      "text/html": [
       "\n",
       "    <div class=\"bk-root\">\n",
       "        <a href=\"https://bokeh.pydata.org\" target=\"_blank\" class=\"bk-logo bk-logo-small bk-logo-notebook\"></a>\n",
       "        <span id=\"41bf1ffa-ee3a-494b-8c9e-2cf166af551f\">Loading BokehJS ...</span>\n",
       "    </div>"
      ]
     },
     "metadata": {},
     "output_type": "display_data"
    },
    {
     "data": {
      "application/javascript": [
       "\n",
       "(function(root) {\n",
       "  function now() {\n",
       "    return new Date();\n",
       "  }\n",
       "\n",
       "  var force = true;\n",
       "\n",
       "  if (typeof (root._bokeh_onload_callbacks) === \"undefined\" || force === true) {\n",
       "    root._bokeh_onload_callbacks = [];\n",
       "    root._bokeh_is_loading = undefined;\n",
       "  }\n",
       "\n",
       "  var JS_MIME_TYPE = 'application/javascript';\n",
       "  var HTML_MIME_TYPE = 'text/html';\n",
       "  var EXEC_MIME_TYPE = 'application/vnd.bokehjs_exec.v0+json';\n",
       "  var CLASS_NAME = 'output_bokeh rendered_html';\n",
       "\n",
       "  /**\n",
       "   * Render data to the DOM node\n",
       "   */\n",
       "  function render(props, node) {\n",
       "    var script = document.createElement(\"script\");\n",
       "    node.appendChild(script);\n",
       "  }\n",
       "\n",
       "  /**\n",
       "   * Handle when an output is cleared or removed\n",
       "   */\n",
       "  function handleClearOutput(event, handle) {\n",
       "    var cell = handle.cell;\n",
       "\n",
       "    var id = cell.output_area._bokeh_element_id;\n",
       "    var server_id = cell.output_area._bokeh_server_id;\n",
       "    // Clean up Bokeh references\n",
       "    if (id !== undefined) {\n",
       "      Bokeh.index[id].model.document.clear();\n",
       "      delete Bokeh.index[id];\n",
       "    }\n",
       "\n",
       "    if (server_id !== undefined) {\n",
       "      // Clean up Bokeh references\n",
       "      var cmd = \"from bokeh.io.state import curstate; print(curstate().uuid_to_server['\" + server_id + \"'].get_sessions()[0].document.roots[0]._id)\";\n",
       "      cell.notebook.kernel.execute(cmd, {\n",
       "        iopub: {\n",
       "          output: function(msg) {\n",
       "            var element_id = msg.content.text.trim();\n",
       "            Bokeh.index[element_id].model.document.clear();\n",
       "            delete Bokeh.index[element_id];\n",
       "          }\n",
       "        }\n",
       "      });\n",
       "      // Destroy server and session\n",
       "      var cmd = \"import bokeh.io.notebook as ion; ion.destroy_server('\" + server_id + \"')\";\n",
       "      cell.notebook.kernel.execute(cmd);\n",
       "    }\n",
       "  }\n",
       "\n",
       "  /**\n",
       "   * Handle when a new output is added\n",
       "   */\n",
       "  function handleAddOutput(event, handle) {\n",
       "    var output_area = handle.output_area;\n",
       "    var output = handle.output;\n",
       "\n",
       "    // limit handleAddOutput to display_data with EXEC_MIME_TYPE content only\n",
       "    if ((output.output_type != \"display_data\") || (!output.data.hasOwnProperty(EXEC_MIME_TYPE))) {\n",
       "      return\n",
       "    }\n",
       "\n",
       "    var toinsert = output_area.element.find(\".\" + CLASS_NAME.split(' ')[0]);\n",
       "\n",
       "    if (output.metadata[EXEC_MIME_TYPE][\"id\"] !== undefined) {\n",
       "      toinsert[toinsert.length - 1].firstChild.textContent = output.data[JS_MIME_TYPE];\n",
       "      // store reference to embed id on output_area\n",
       "      output_area._bokeh_element_id = output.metadata[EXEC_MIME_TYPE][\"id\"];\n",
       "    }\n",
       "    if (output.metadata[EXEC_MIME_TYPE][\"server_id\"] !== undefined) {\n",
       "      var bk_div = document.createElement(\"div\");\n",
       "      bk_div.innerHTML = output.data[HTML_MIME_TYPE];\n",
       "      var script_attrs = bk_div.children[0].attributes;\n",
       "      for (var i = 0; i < script_attrs.length; i++) {\n",
       "        toinsert[toinsert.length - 1].firstChild.setAttribute(script_attrs[i].name, script_attrs[i].value);\n",
       "      }\n",
       "      // store reference to server id on output_area\n",
       "      output_area._bokeh_server_id = output.metadata[EXEC_MIME_TYPE][\"server_id\"];\n",
       "    }\n",
       "  }\n",
       "\n",
       "  function register_renderer(events, OutputArea) {\n",
       "\n",
       "    function append_mime(data, metadata, element) {\n",
       "      // create a DOM node to render to\n",
       "      var toinsert = this.create_output_subarea(\n",
       "        metadata,\n",
       "        CLASS_NAME,\n",
       "        EXEC_MIME_TYPE\n",
       "      );\n",
       "      this.keyboard_manager.register_events(toinsert);\n",
       "      // Render to node\n",
       "      var props = {data: data, metadata: metadata[EXEC_MIME_TYPE]};\n",
       "      render(props, toinsert[toinsert.length - 1]);\n",
       "      element.append(toinsert);\n",
       "      return toinsert\n",
       "    }\n",
       "\n",
       "    /* Handle when an output is cleared or removed */\n",
       "    events.on('clear_output.CodeCell', handleClearOutput);\n",
       "    events.on('delete.Cell', handleClearOutput);\n",
       "\n",
       "    /* Handle when a new output is added */\n",
       "    events.on('output_added.OutputArea', handleAddOutput);\n",
       "\n",
       "    /**\n",
       "     * Register the mime type and append_mime function with output_area\n",
       "     */\n",
       "    OutputArea.prototype.register_mime_type(EXEC_MIME_TYPE, append_mime, {\n",
       "      /* Is output safe? */\n",
       "      safe: true,\n",
       "      /* Index of renderer in `output_area.display_order` */\n",
       "      index: 0\n",
       "    });\n",
       "  }\n",
       "\n",
       "  // register the mime type if in Jupyter Notebook environment and previously unregistered\n",
       "  if (root.Jupyter !== undefined) {\n",
       "    var events = require('base/js/events');\n",
       "    var OutputArea = require('notebook/js/outputarea').OutputArea;\n",
       "\n",
       "    if (OutputArea.prototype.mime_types().indexOf(EXEC_MIME_TYPE) == -1) {\n",
       "      register_renderer(events, OutputArea);\n",
       "    }\n",
       "  }\n",
       "\n",
       "  \n",
       "  if (typeof (root._bokeh_timeout) === \"undefined\" || force === true) {\n",
       "    root._bokeh_timeout = Date.now() + 5000;\n",
       "    root._bokeh_failed_load = false;\n",
       "  }\n",
       "\n",
       "  var NB_LOAD_WARNING = {'data': {'text/html':\n",
       "     \"<div style='background-color: #fdd'>\\n\"+\n",
       "     \"<p>\\n\"+\n",
       "     \"BokehJS does not appear to have successfully loaded. If loading BokehJS from CDN, this \\n\"+\n",
       "     \"may be due to a slow or bad network connection. Possible fixes:\\n\"+\n",
       "     \"</p>\\n\"+\n",
       "     \"<ul>\\n\"+\n",
       "     \"<li>re-rerun `output_notebook()` to attempt to load from CDN again, or</li>\\n\"+\n",
       "     \"<li>use INLINE resources instead, as so:</li>\\n\"+\n",
       "     \"</ul>\\n\"+\n",
       "     \"<code>\\n\"+\n",
       "     \"from bokeh.resources import INLINE\\n\"+\n",
       "     \"output_notebook(resources=INLINE)\\n\"+\n",
       "     \"</code>\\n\"+\n",
       "     \"</div>\"}};\n",
       "\n",
       "  function display_loaded() {\n",
       "    var el = document.getElementById(\"41bf1ffa-ee3a-494b-8c9e-2cf166af551f\");\n",
       "    if (el != null) {\n",
       "      el.textContent = \"BokehJS is loading...\";\n",
       "    }\n",
       "    if (root.Bokeh !== undefined) {\n",
       "      if (el != null) {\n",
       "        el.textContent = \"BokehJS \" + root.Bokeh.version + \" successfully loaded.\";\n",
       "      }\n",
       "    } else if (Date.now() < root._bokeh_timeout) {\n",
       "      setTimeout(display_loaded, 100)\n",
       "    }\n",
       "  }\n",
       "\n",
       "\n",
       "  function run_callbacks() {\n",
       "    try {\n",
       "      root._bokeh_onload_callbacks.forEach(function(callback) { callback() });\n",
       "    }\n",
       "    finally {\n",
       "      delete root._bokeh_onload_callbacks\n",
       "    }\n",
       "    console.info(\"Bokeh: all callbacks have finished\");\n",
       "  }\n",
       "\n",
       "  function load_libs(js_urls, callback) {\n",
       "    root._bokeh_onload_callbacks.push(callback);\n",
       "    if (root._bokeh_is_loading > 0) {\n",
       "      console.log(\"Bokeh: BokehJS is being loaded, scheduling callback at\", now());\n",
       "      return null;\n",
       "    }\n",
       "    if (js_urls == null || js_urls.length === 0) {\n",
       "      run_callbacks();\n",
       "      return null;\n",
       "    }\n",
       "    console.log(\"Bokeh: BokehJS not loaded, scheduling load and callback at\", now());\n",
       "    root._bokeh_is_loading = js_urls.length;\n",
       "    for (var i = 0; i < js_urls.length; i++) {\n",
       "      var url = js_urls[i];\n",
       "      var s = document.createElement('script');\n",
       "      s.src = url;\n",
       "      s.async = false;\n",
       "      s.onreadystatechange = s.onload = function() {\n",
       "        root._bokeh_is_loading--;\n",
       "        if (root._bokeh_is_loading === 0) {\n",
       "          console.log(\"Bokeh: all BokehJS libraries loaded\");\n",
       "          run_callbacks()\n",
       "        }\n",
       "      };\n",
       "      s.onerror = function() {\n",
       "        console.warn(\"failed to load library \" + url);\n",
       "      };\n",
       "      console.log(\"Bokeh: injecting script tag for BokehJS library: \", url);\n",
       "      document.getElementsByTagName(\"head\")[0].appendChild(s);\n",
       "    }\n",
       "  };var element = document.getElementById(\"41bf1ffa-ee3a-494b-8c9e-2cf166af551f\");\n",
       "  if (element == null) {\n",
       "    console.log(\"Bokeh: ERROR: autoload.js configured with elementid '41bf1ffa-ee3a-494b-8c9e-2cf166af551f' but no matching script tag was found. \")\n",
       "    return false;\n",
       "  }\n",
       "\n",
       "  var js_urls = [\"https://cdn.pydata.org/bokeh/release/bokeh-0.12.16.min.js\", \"https://cdn.pydata.org/bokeh/release/bokeh-widgets-0.12.16.min.js\", \"https://cdn.pydata.org/bokeh/release/bokeh-tables-0.12.16.min.js\", \"https://cdn.pydata.org/bokeh/release/bokeh-gl-0.12.16.min.js\"];\n",
       "\n",
       "  var inline_js = [\n",
       "    function(Bokeh) {\n",
       "      Bokeh.set_log_level(\"info\");\n",
       "    },\n",
       "    \n",
       "    function(Bokeh) {\n",
       "      \n",
       "    },\n",
       "    function(Bokeh) {\n",
       "      console.log(\"Bokeh: injecting CSS: https://cdn.pydata.org/bokeh/release/bokeh-0.12.16.min.css\");\n",
       "      Bokeh.embed.inject_css(\"https://cdn.pydata.org/bokeh/release/bokeh-0.12.16.min.css\");\n",
       "      console.log(\"Bokeh: injecting CSS: https://cdn.pydata.org/bokeh/release/bokeh-widgets-0.12.16.min.css\");\n",
       "      Bokeh.embed.inject_css(\"https://cdn.pydata.org/bokeh/release/bokeh-widgets-0.12.16.min.css\");\n",
       "      console.log(\"Bokeh: injecting CSS: https://cdn.pydata.org/bokeh/release/bokeh-tables-0.12.16.min.css\");\n",
       "      Bokeh.embed.inject_css(\"https://cdn.pydata.org/bokeh/release/bokeh-tables-0.12.16.min.css\");\n",
       "    }\n",
       "  ];\n",
       "\n",
       "  function run_inline_js() {\n",
       "    \n",
       "    if ((root.Bokeh !== undefined) || (force === true)) {\n",
       "      for (var i = 0; i < inline_js.length; i++) {\n",
       "        inline_js[i].call(root, root.Bokeh);\n",
       "      }if (force === true) {\n",
       "        display_loaded();\n",
       "      }} else if (Date.now() < root._bokeh_timeout) {\n",
       "      setTimeout(run_inline_js, 100);\n",
       "    } else if (!root._bokeh_failed_load) {\n",
       "      console.log(\"Bokeh: BokehJS failed to load within specified timeout.\");\n",
       "      root._bokeh_failed_load = true;\n",
       "    } else if (force !== true) {\n",
       "      var cell = $(document.getElementById(\"41bf1ffa-ee3a-494b-8c9e-2cf166af551f\")).parents('.cell').data().cell;\n",
       "      cell.output_area.append_execute_result(NB_LOAD_WARNING)\n",
       "    }\n",
       "\n",
       "  }\n",
       "\n",
       "  if (root._bokeh_is_loading === 0) {\n",
       "    console.log(\"Bokeh: BokehJS loaded, going straight to plotting\");\n",
       "    run_inline_js();\n",
       "  } else {\n",
       "    load_libs(js_urls, function() {\n",
       "      console.log(\"Bokeh: BokehJS plotting callback run at\", now());\n",
       "      run_inline_js();\n",
       "    });\n",
       "  }\n",
       "}(window));"
      ],
      "application/vnd.bokehjs_load.v0+json": "\n(function(root) {\n  function now() {\n    return new Date();\n  }\n\n  var force = true;\n\n  if (typeof (root._bokeh_onload_callbacks) === \"undefined\" || force === true) {\n    root._bokeh_onload_callbacks = [];\n    root._bokeh_is_loading = undefined;\n  }\n\n  \n\n  \n  if (typeof (root._bokeh_timeout) === \"undefined\" || force === true) {\n    root._bokeh_timeout = Date.now() + 5000;\n    root._bokeh_failed_load = false;\n  }\n\n  var NB_LOAD_WARNING = {'data': {'text/html':\n     \"<div style='background-color: #fdd'>\\n\"+\n     \"<p>\\n\"+\n     \"BokehJS does not appear to have successfully loaded. If loading BokehJS from CDN, this \\n\"+\n     \"may be due to a slow or bad network connection. Possible fixes:\\n\"+\n     \"</p>\\n\"+\n     \"<ul>\\n\"+\n     \"<li>re-rerun `output_notebook()` to attempt to load from CDN again, or</li>\\n\"+\n     \"<li>use INLINE resources instead, as so:</li>\\n\"+\n     \"</ul>\\n\"+\n     \"<code>\\n\"+\n     \"from bokeh.resources import INLINE\\n\"+\n     \"output_notebook(resources=INLINE)\\n\"+\n     \"</code>\\n\"+\n     \"</div>\"}};\n\n  function display_loaded() {\n    var el = document.getElementById(\"41bf1ffa-ee3a-494b-8c9e-2cf166af551f\");\n    if (el != null) {\n      el.textContent = \"BokehJS is loading...\";\n    }\n    if (root.Bokeh !== undefined) {\n      if (el != null) {\n        el.textContent = \"BokehJS \" + root.Bokeh.version + \" successfully loaded.\";\n      }\n    } else if (Date.now() < root._bokeh_timeout) {\n      setTimeout(display_loaded, 100)\n    }\n  }\n\n\n  function run_callbacks() {\n    try {\n      root._bokeh_onload_callbacks.forEach(function(callback) { callback() });\n    }\n    finally {\n      delete root._bokeh_onload_callbacks\n    }\n    console.info(\"Bokeh: all callbacks have finished\");\n  }\n\n  function load_libs(js_urls, callback) {\n    root._bokeh_onload_callbacks.push(callback);\n    if (root._bokeh_is_loading > 0) {\n      console.log(\"Bokeh: BokehJS is being loaded, scheduling callback at\", now());\n      return null;\n    }\n    if (js_urls == null || js_urls.length === 0) {\n      run_callbacks();\n      return null;\n    }\n    console.log(\"Bokeh: BokehJS not loaded, scheduling load and callback at\", now());\n    root._bokeh_is_loading = js_urls.length;\n    for (var i = 0; i < js_urls.length; i++) {\n      var url = js_urls[i];\n      var s = document.createElement('script');\n      s.src = url;\n      s.async = false;\n      s.onreadystatechange = s.onload = function() {\n        root._bokeh_is_loading--;\n        if (root._bokeh_is_loading === 0) {\n          console.log(\"Bokeh: all BokehJS libraries loaded\");\n          run_callbacks()\n        }\n      };\n      s.onerror = function() {\n        console.warn(\"failed to load library \" + url);\n      };\n      console.log(\"Bokeh: injecting script tag for BokehJS library: \", url);\n      document.getElementsByTagName(\"head\")[0].appendChild(s);\n    }\n  };var element = document.getElementById(\"41bf1ffa-ee3a-494b-8c9e-2cf166af551f\");\n  if (element == null) {\n    console.log(\"Bokeh: ERROR: autoload.js configured with elementid '41bf1ffa-ee3a-494b-8c9e-2cf166af551f' but no matching script tag was found. \")\n    return false;\n  }\n\n  var js_urls = [\"https://cdn.pydata.org/bokeh/release/bokeh-0.12.16.min.js\", \"https://cdn.pydata.org/bokeh/release/bokeh-widgets-0.12.16.min.js\", \"https://cdn.pydata.org/bokeh/release/bokeh-tables-0.12.16.min.js\", \"https://cdn.pydata.org/bokeh/release/bokeh-gl-0.12.16.min.js\"];\n\n  var inline_js = [\n    function(Bokeh) {\n      Bokeh.set_log_level(\"info\");\n    },\n    \n    function(Bokeh) {\n      \n    },\n    function(Bokeh) {\n      console.log(\"Bokeh: injecting CSS: https://cdn.pydata.org/bokeh/release/bokeh-0.12.16.min.css\");\n      Bokeh.embed.inject_css(\"https://cdn.pydata.org/bokeh/release/bokeh-0.12.16.min.css\");\n      console.log(\"Bokeh: injecting CSS: https://cdn.pydata.org/bokeh/release/bokeh-widgets-0.12.16.min.css\");\n      Bokeh.embed.inject_css(\"https://cdn.pydata.org/bokeh/release/bokeh-widgets-0.12.16.min.css\");\n      console.log(\"Bokeh: injecting CSS: https://cdn.pydata.org/bokeh/release/bokeh-tables-0.12.16.min.css\");\n      Bokeh.embed.inject_css(\"https://cdn.pydata.org/bokeh/release/bokeh-tables-0.12.16.min.css\");\n    }\n  ];\n\n  function run_inline_js() {\n    \n    if ((root.Bokeh !== undefined) || (force === true)) {\n      for (var i = 0; i < inline_js.length; i++) {\n        inline_js[i].call(root, root.Bokeh);\n      }if (force === true) {\n        display_loaded();\n      }} else if (Date.now() < root._bokeh_timeout) {\n      setTimeout(run_inline_js, 100);\n    } else if (!root._bokeh_failed_load) {\n      console.log(\"Bokeh: BokehJS failed to load within specified timeout.\");\n      root._bokeh_failed_load = true;\n    } else if (force !== true) {\n      var cell = $(document.getElementById(\"41bf1ffa-ee3a-494b-8c9e-2cf166af551f\")).parents('.cell').data().cell;\n      cell.output_area.append_execute_result(NB_LOAD_WARNING)\n    }\n\n  }\n\n  if (root._bokeh_is_loading === 0) {\n    console.log(\"Bokeh: BokehJS loaded, going straight to plotting\");\n    run_inline_js();\n  } else {\n    load_libs(js_urls, function() {\n      console.log(\"Bokeh: BokehJS plotting callback run at\", now());\n      run_inline_js();\n    });\n  }\n}(window));"
     },
     "metadata": {},
     "output_type": "display_data"
    }
   ],
   "source": [
    "output_notebook()"
   ]
  },
  {
   "cell_type": "code",
   "execution_count": 8,
   "metadata": {
    "collapsed": true
   },
   "outputs": [],
   "source": [
    "def fmt_cool(ds_in):\n",
    "    ds = ds_in.copy(deep=True)\n",
    "    if 'igg' in ds.dims:\n",
    "        ds = ds.sel(igg=1)\n",
    "\n",
    "    if 'g' in ds.dims:\n",
    "        ds = ds.sum('g')\n",
    "            \n",
    "    if 'band' in ds.dims:\n",
    "        try:\n",
    "            ds = ds.squeeze('band')\n",
    "        except ValueError:\n",
    "            ds = ds.sum('band')\n",
    "                \n",
    "    return ds['coolrg']\n",
    "\n",
    "\n",
    "def pltdata_cooling_1(ds_cool=None,\n",
    "                      ds_cool_crd=None, ds_cool_wgt=None):\n",
    "    \n",
    "\n",
    "\n",
    "    colors = all_palettes['Set1'][4]\n",
    "    data = [{'label': 'CLIRAD `coolr_bands`',\n",
    "             'srs': fmt_cool(ds_cool),\n",
    "             'line_dash': 'dashed', 'line_width': 5,\n",
    "             'color': colors[0], 'alpha': .6},\n",
    "            {'label': 'CRD',\n",
    "             'srs': fmt_cool(ds_cool_crd),\n",
    "             'line_dash': 'solid', 'line_width': 1.5,\n",
    "             'marker': 'circle', 'marker_size': 5,\n",
    "             'color': colors[2], 'alpha': 1,},\n",
    "            {'label': 'WGT igg=10 wgt_flux=2',\n",
    "             'srs': fmt_cool(ds_cool_wgt),\n",
    "             'line_dash': 'solid', 'line_width': 3,\n",
    "             'marker': 'square', 'marker_size': 5,\n",
    "             'color': colors[3], 'alpha': .6}]\n",
    "    return data\n",
    "\n",
    "\n",
    "def nice_xlims(pltdata=None, prange=None):\n",
    "    \n",
    "    def get_slice(srs):\n",
    "        return srs.sel(pressure=slice(*prange))\n",
    "    \n",
    "    srss = [d['srs'] for d in pltdata]\n",
    "    vmin = min([get_slice(srs).min() for srs in srss])\n",
    "    vmax = max([get_slice(srs).max() for srs in srss])\n",
    "    dv = (vmax - vmin) * .01\n",
    "    return float(vmin - dv), float(vmax + dv)\n",
    "    \n",
    "\n",
    "def plt_cooling_bokeh(pltdata=None):\n",
    "    '''\n",
    "    Plot a list of cooling rate profiles using bokeh.\n",
    "    '''\n",
    "    ymin = 1e-2 \n",
    "    ymax = 1020 \n",
    "        \n",
    "    p1 = figure(title=\"Linear pressure scale\", \n",
    "                plot_width=400)        \n",
    "    xmin, xmax = nice_xlims(pltdata, prange=(50, 1050))\n",
    "    for d in pltdata:\n",
    "        if 'marker' in d:\n",
    "            getattr(p1, d['marker'])(d['srs'].values, \n",
    "                    d['srs'].coords['pressure'].values,\n",
    "                    color=d['color'], alpha=.7)\n",
    "        p1.line(d['srs'].values, \n",
    "                d['srs'].coords['pressure'].values,\n",
    "                color=d['color'], alpha=d['alpha'], \n",
    "                line_width=d['line_width'], line_dash=d['line_dash'])\n",
    "    \n",
    "    p1.y_range = Range1d(ymax, ymin)\n",
    "    p1.yaxis.axis_label = 'pressure [mb]'   \n",
    "    p1.x_range = Range1d(xmin, xmax)\n",
    "    p1.xaxis.axis_label = 'cooling rate [K/day]'\n",
    "            \n",
    "    p2 = figure(title='Log pressure scale', y_axis_type='log',\n",
    "                plot_width=560)\n",
    "    xmin, xmax = nice_xlims(pltdata, prange=(.01, 200))\n",
    "    \n",
    "    rs = []\n",
    "    for d in pltdata:\n",
    "        rd = []\n",
    "        if 'marker' in d:\n",
    "            r_mark = getattr(p2, d['marker'])(d['srs'].values, \n",
    "                        d['srs'].coords['pressure'].values,\n",
    "                        color=d['color'], alpha=.7)\n",
    "            rd.append(r_mark)\n",
    "        r_line = p2.line(d['srs'].values, \n",
    "                    d['srs'].coords['pressure'].values,\n",
    "                    color=d['color'], alpha=d['alpha'], \n",
    "                    line_width=d['line_width'], line_dash=d['line_dash'])\n",
    "        rd.append(r_line)\n",
    "      \n",
    "        rs.append(rd)\n",
    "        \n",
    "    p2.y_range = Range1d(ymax, ymin)  \n",
    "    p2.yaxis.axis_label = 'pressure [mb]'\n",
    "    \n",
    "    p2.x_range = Range1d(xmin, xmax)\n",
    "    p2.xaxis.axis_label = 'cooling rate [K/day]'\n",
    "    \n",
    "    items = [(d['label'], r) for r, d in zip(rs, pltdata)]\n",
    "    legend = Legend(items=items, location=(10, -30))\n",
    "    legend.label_text_font_size = '8pt'\n",
    "    \n",
    "    p2.add_layout(legend, 'right')  \n",
    "    \n",
    "    show(gridplot(p1, p2, ncols=2, plot_height=500))\n",
    "    \n",
    "\n",
    "def script_plt_cooling():\n",
    "    pltdata = pltdata_cooling_1(\n",
    "        ds_cool=DS_COOL,\n",
    "        ds_cool_crd=DS_COOL_CRD,\n",
    "        ds_cool_wgt=DS_COOL_WGT)\n",
    "    plt_cooling_bokeh(pltdata=pltdata)\n",
    "    print('''FIGURE. Cooling rate profiles.''')"
   ]
  },
  {
   "cell_type": "code",
   "execution_count": 9,
   "metadata": {
    "collapsed": true
   },
   "outputs": [],
   "source": [
    "def fmt_flux(ds_in):\n",
    "    ds = ds_in.copy(deep=True)\n",
    "    \n",
    "    for l in ('level', 'layer'):\n",
    "        if l in ds.data_vars:\n",
    "            if len(ds[l].dims) > 1:\n",
    "                surface = {d: 0 for d in ds.dims if d != 'pressure'}\n",
    "                coord_level = ds[l][surface]\n",
    "                ds.coords[l] = ('pressure', coord_level)\n",
    "            else:\n",
    "                ds.coords[l] = ('pressure', ds[l])\n",
    "        \n",
    "    ds = ds.isel(pressure=[0, 23, -1])\n",
    "        \n",
    "    if 'igg' in ds.dims:\n",
    "        ds = ds.sel(igg=[1])\n",
    "        ds = ds.squeeze('igg').drop('igg')\n",
    "    \n",
    "    if 'g' in ds.dims:\n",
    "        ds = ds.sum('g')\n",
    "            \n",
    "    if 'band' in ds.dims:\n",
    "        try:\n",
    "            ds = ds.squeeze('band').drop('band')\n",
    "        except ValueError:\n",
    "            ds = ds.sum('band')\n",
    "                \n",
    "    df = ds.to_dataframe()\n",
    "    df = df.set_index('level', append=True)               \n",
    "    return df\n",
    "\n",
    "\n",
    "def tbdata_flux(ds_flux=None, ds_flux_crd=None, ds_flux_wgt=None):\n",
    "    ilevels = [0, 23, -1]\n",
    "            \n",
    "    benchmark = {'label': 'CRD',\n",
    "                 'df': fmt_flux(ds_flux_crd)}\n",
    "    \n",
    "    tbs = [{'label': 'WGT igg=10 wgt_flux=1',\n",
    "            'df': fmt_flux(ds_flux_wgt)},\n",
    "           {'label': 'CLIRAD',\n",
    "            'df': fmt_flux(ds_flux)}]\n",
    "    \n",
    "    data = {'benchmark': benchmark, 'others': tbs}\n",
    "    return data\n",
    "\n",
    "\n",
    "def tb_flux(tbdata=None):\n",
    "    benchmark = tbdata['benchmark']\n",
    "    others = tbdata['others']\n",
    "    \n",
    "    def show_tb(d=None):\n",
    "        display.display(d['df'])\n",
    "        print('Table.', 'Fluxes.', d['label'])\n",
    "        \n",
    "    def show_tbdiff(d0=None, d=None):\n",
    "        df = d['df']\n",
    "        df.index = d0['df'].index\n",
    "        display.display(df - d0['df'])\n",
    "        print('Table.', 'Fluxes.', \n",
    "              '({}) - ({})'.format(d['label'], d0['label']))\n",
    "        \n",
    "    show_tb(benchmark)\n",
    "    for d in others:\n",
    "        show_tb(d)\n",
    "        \n",
    "    for d in others:\n",
    "        show_tbdiff(d=d, d0=benchmark)\n",
    "        \n",
    "        \n",
    "def script_tb_flux():\n",
    "    data = tbdata_flux(ds_flux=DS_FLUX,\n",
    "                       ds_flux_crd=DS_FLUX_CRD,\n",
    "                       ds_flux_wgt=DS_FLUX_WGT)\n",
    "    tb_flux(tbdata=data)"
   ]
  },
  {
   "cell_type": "code",
   "execution_count": 10,
   "metadata": {
    "collapsed": true
   },
   "outputs": [],
   "source": [
    "def band_map():\n",
    "    '''\n",
    "    Maps spectral bands in lblnew to spectral bands in clirad.\n",
    "    '''\n",
    "    lblnew2clirad = {'1': '1',\n",
    "            '2': '2',\n",
    "            '3a': '3',\n",
    "            '3b': '4',\n",
    "            '3c': '5',\n",
    "            '4': '6', \n",
    "            '5': '7',\n",
    "            '6': '8',\n",
    "            '7': '9', \n",
    "            '8': '10',\n",
    "            '9': '11'}\n",
    "    \n",
    "    clirad2lblnew = {clirad: lblnew \n",
    "                     for lblnew, clirad in lblnew2clirad.items()}\n",
    "    return clirad2lblnew\n",
    "\n",
    "\n",
    "def gasbands():\n",
    "    bmap = band_map()\n",
    "    gases = list(PARAM['molecule'].keys())\n",
    "    \n",
    "    bands = [bmap[str(b)] for b in PARAM['band']]\n",
    "    return list(itertools.product(gases, bands))\n",
    "\n",
    "\n",
    "def print_bestfit_params():\n",
    "    print('Best-fit values for each (gas, band)')\n",
    "    print('------------------------------------')\n",
    "    for gas, band in gasbands():\n",
    "        print('o {} band{}'.format(gas, band))\n",
    "        param = bestfits.kdist_params(molecule=gas, band=band)\n",
    "        for name, value in sorted(param.items()):\n",
    "            print(2 * ' ' + '{} = {}'.format(name, value))\n",
    "\n",
    "        \n",
    "def print_input_param():        \n",
    "    for name, value in PARAM.items():\n",
    "        print('{} = {}'.format(name, value))\n",
    "        \n",
    "        \n",
    "def print_lblnew_param():\n",
    "    for name, value in sorted(PARAM_LBLNEW.items()):\n",
    "        print('{} = {}'.format(name, value))\n"
   ]
  },
  {
   "cell_type": "code",
   "execution_count": 11,
   "metadata": {
    "collapsed": true,
    "scrolled": false
   },
   "outputs": [],
   "source": [
    "def show_html(s):\n",
    "    display.display(display.HTML(s))\n",
    "\n",
    "    \n",
    "def show_markdown(s):\n",
    "    display.display(display.Markdown(s))\n",
    "\n",
    "    \n",
    "def script():\n",
    "    \n",
    "    title = '### CLIRAD-LW'\n",
    "    s_input = 'Input Parameters'\n",
    "    s_lblnew_param = 'LBLNEW case compaired against'\n",
    "    s_bestfits = 'Best-fit Parameters'\n",
    "    s_plt_cooling = 'Cooling Rate Profiles'\n",
    "    s_tb_flux = 'Flux Comparison'\n",
    "    \n",
    "    # title\n",
    "    show_markdown('### CLIRAD-LW')\n",
    "    \n",
    "    # TOC\n",
    "    show_markdown('### Table of Contents')\n",
    "    show_html(climahtml.getHTML_hrefanchor(s_input))\n",
    "    show_html(climahtml.getHTML_hrefanchor(s_lblnew_param))\n",
    "    show_html(climahtml.getHTML_hrefanchor(s_plt_cooling))\n",
    "    show_html(climahtml.getHTML_hrefanchor(s_tb_flux))\n",
    "    show_html(climahtml.getHTML_hrefanchor(s_bestfits))\n",
    "    \n",
    "    # Input parameters\n",
    "    show_html(climahtml.getHTML_idanchor(s_input))\n",
    "    show_markdown(climahtml.getMarkdown_sectitle(s_input))\n",
    "    print_input_param()\n",
    "    \n",
    "    # LBLNEW parameters \n",
    "    show_html(climahtml.getHTML_idanchor(s_lblnew_param))\n",
    "    show_markdown(climahtml.getMarkdown_sectitle(s_lblnew_param))\n",
    "    print_lblnew_param()\n",
    "    \n",
    "    # Cooling rate profiles\n",
    "    show_html(climahtml.getHTML_idanchor(s_plt_cooling))\n",
    "    show_markdown(climahtml.getMarkdown_sectitle(s_plt_cooling))\n",
    "    script_plt_cooling()\n",
    "    \n",
    "    # Flux comparison\n",
    "    show_html(climahtml.getHTML_idanchor(s_tb_flux))\n",
    "    show_markdown(climahtml.getMarkdown_sectitle(s_tb_flux))\n",
    "    script_tb_flux()\n",
    "    \n",
    "    # Best-fit values\n",
    "    show_html(climahtml.getHTML_idanchor(s_bestfits))\n",
    "    show_markdown(climahtml.getMarkdown_sectitle(s_bestfits))\n",
    "    print_bestfit_params()\n",
    "   \n",
    "    "
   ]
  },
  {
   "cell_type": "code",
   "execution_count": 12,
   "metadata": {
    "collapsed": true,
    "scrolled": false
   },
   "outputs": [
    {
     "data": {
      "text/markdown": [
       "### CLIRAD-LW"
      ],
      "text/plain": [
       "<IPython.core.display.Markdown object>"
      ]
     },
     "metadata": {},
     "output_type": "display_data"
    },
    {
     "data": {
      "text/markdown": [
       "### Table of Contents"
      ],
      "text/plain": [
       "<IPython.core.display.Markdown object>"
      ]
     },
     "metadata": {},
     "output_type": "display_data"
    },
    {
     "data": {
      "text/html": [
       "<a href=\"#Input_Parameters\">Input Parameters</a>"
      ],
      "text/plain": [
       "<IPython.core.display.HTML object>"
      ]
     },
     "metadata": {},
     "output_type": "display_data"
    },
    {
     "data": {
      "text/html": [
       "<a href=\"#LBLNEW_case_compaired_against\">LBLNEW case compaired against</a>"
      ],
      "text/plain": [
       "<IPython.core.display.HTML object>"
      ]
     },
     "metadata": {},
     "output_type": "display_data"
    },
    {
     "data": {
      "text/html": [
       "<a href=\"#Cooling_Rate_Profiles\">Cooling Rate Profiles</a>"
      ],
      "text/plain": [
       "<IPython.core.display.HTML object>"
      ]
     },
     "metadata": {},
     "output_type": "display_data"
    },
    {
     "data": {
      "text/html": [
       "<a href=\"#Flux_Comparison\">Flux Comparison</a>"
      ],
      "text/plain": [
       "<IPython.core.display.HTML object>"
      ]
     },
     "metadata": {},
     "output_type": "display_data"
    },
    {
     "data": {
      "text/html": [
       "<a href=\"#Best-fit_Parameters\">Best-fit Parameters</a>"
      ],
      "text/plain": [
       "<IPython.core.display.HTML object>"
      ]
     },
     "metadata": {},
     "output_type": "display_data"
    },
    {
     "data": {
      "text/html": [
       "<a id=\"Input_Parameters\"></a>"
      ],
      "text/plain": [
       "<IPython.core.display.HTML object>"
      ]
     },
     "metadata": {},
     "output_type": "display_data"
    },
    {
     "data": {
      "text/markdown": [
       "# Input Parameters"
      ],
      "text/plain": [
       "<IPython.core.display.Markdown object>"
      ]
     },
     "metadata": {},
     "output_type": "display_data"
    },
    {
     "name": "stdout",
     "output_type": "stream",
     "text": [
      "atmpro = saw\n",
      "band = [1]\n",
      "commitnumber = 4198f95\n",
      "molecule = {'h2o': 'atmpro'}\n",
      "tsfc = 257\n"
     ]
    },
    {
     "data": {
      "text/html": [
       "<a id=\"LBLNEW_case_compaired_against\"></a>"
      ],
      "text/plain": [
       "<IPython.core.display.HTML object>"
      ]
     },
     "metadata": {},
     "output_type": "display_data"
    },
    {
     "data": {
      "text/markdown": [
       "# LBLNEW case compaired against"
      ],
      "text/plain": [
       "<IPython.core.display.Markdown object>"
      ]
     },
     "metadata": {},
     "output_type": "display_data"
    },
    {
     "name": "stdout",
     "output_type": "stream",
     "text": [
      "atmpro = saw\n",
      "band = 1\n",
      "commitnumber = 5014a19\n",
      "conc = None\n",
      "dv = 0.001\n",
      "klin = 0\n",
      "molecule = h2o\n",
      "ng_adju = [0, 0, 0]\n",
      "ng_refs = [3, 3, 6]\n",
      "nv = 1000\n",
      "option_compute_btable = 0\n",
      "option_compute_ktable = 0\n",
      "option_wgt_flux = 1\n",
      "option_wgt_k = 1\n",
      "ref_pts = [(1, 250), (30, 250), (300, 250)]\n",
      "tsfc = 257\n",
      "vmax = 340\n",
      "vmin = 20\n",
      "w_diffuse = [(1.66, 1.66, 1.66), (1.66, 1.66, 1.66), (1.66, 1.66, 1.5, 1.5, 1.5, 1.5)]\n",
      "wgt = [(0.2, 0.2, 0.2), (0.2, 0.2, 0.2), (0.2, 0.2, 0.65, 0.65, 0.65, 0.65)]\n"
     ]
    },
    {
     "data": {
      "text/html": [
       "<a id=\"Cooling_Rate_Profiles\"></a>"
      ],
      "text/plain": [
       "<IPython.core.display.HTML object>"
      ]
     },
     "metadata": {},
     "output_type": "display_data"
    },
    {
     "data": {
      "text/markdown": [
       "# Cooling Rate Profiles"
      ],
      "text/plain": [
       "<IPython.core.display.Markdown object>"
      ]
     },
     "metadata": {},
     "output_type": "display_data"
    },
    {
     "data": {
      "text/html": [
       "\n",
       "<div class=\"bk-root\">\n",
       "    <div class=\"bk-plotdiv\" id=\"bfced3c6-748c-4ac5-94a6-19e9ad0d8ba6\"></div>\n",
       "</div>"
      ]
     },
     "metadata": {},
     "output_type": "display_data"
    },
    {
     "data": {
      "application/javascript": [
       "(function(root) {\n",
       "  function embed_document(root) {\n",
       "    \n",
       "  var docs_json = {\"2bafd9c4-6e98-4b05-a34c-6d1595a21cb0\":{\"roots\":{\"references\":[{\"attributes\":{\"axis_label\":\"cooling rate [K/day]\",\"formatter\":{\"id\":\"1babab6a-b8f0-4dac-8bd6-6a85fd081343\",\"type\":\"BasicTickFormatter\"},\"plot\":{\"id\":\"f08001c3-677c-4239-8c40-ca43e6cae439\",\"subtype\":\"Figure\",\"type\":\"Plot\"},\"ticker\":{\"id\":\"35158832-0c63-41b4-8490-3218bd896e12\",\"type\":\"BasicTicker\"}},\"id\":\"2da162d3-25fc-4606-a07e-87ce7d2119ee\",\"type\":\"LinearAxis\"},{\"attributes\":{},\"id\":\"a5e0c138-a164-4994-81f4-bf96ff850ceb\",\"type\":\"HelpTool\"},{\"attributes\":{\"plot\":null,\"text\":\"Log pressure scale\"},\"id\":\"d9ba8033-f913-470a-a244-395c73ad2455\",\"type\":\"Title\"},{\"attributes\":{},\"id\":\"ce3848f0-ad7b-4234-a9f0-9a43937dbb37\",\"type\":\"UnionRenderers\"},{\"attributes\":{\"data_source\":{\"id\":\"9ea16d09-c247-47e5-b80e-3cc337e11c0b\",\"type\":\"ColumnDataSource\"},\"glyph\":{\"id\":\"9281e9b7-a55b-4651-98e4-4ee679084d0b\",\"type\":\"Circle\"},\"hover_glyph\":null,\"muted_glyph\":null,\"nonselection_glyph\":{\"id\":\"c4adf4fe-a2b3-411e-849d-1169d134c3ea\",\"type\":\"Circle\"},\"selection_glyph\":null,\"view\":{\"id\":\"7f1ececa-3139-4f63-b199-b03370c67bba\",\"type\":\"CDSView\"}},\"id\":\"d1048944-b1f9-4e9a-97c9-4f78e7ad8b37\",\"type\":\"GlyphRenderer\"},{\"attributes\":{\"callback\":null,\"data\":{\"x\":{\"__ndarray__\":\"IGsjkYC6D0D0JliN+QYMQPWloQF70AtAGu0mDEEWC0AO5WzlVccJQJuT4ORb6wdA1S49QpOcBUCOdx8X+wcDQPIHIwdDbABAGPisNQUU/D+ZIT76jBn4P9ZQbYiE8PQ//IN5AV1l8j80BugLmcPvP65Vt9S2Teo/a5kYbSSG5T9HpFAwoy/iP93M9ACwWOA/UB0NOLeF3z+/yPr3aAPgPyaQFDEbM+E/eRKfXz6D4T/MrGA+kp/gPx9jDDPwBOA/D27ex4Ob3j/ej57vLSDcP9jbZJdaFdk/6rps1hVN1j9KhuCqc6/UPye/jQ5AD9Q/PEr0yqlp0z+5jKVmYzbSP8mfRrwlsNE/JTb+kILn0T+qMO+ekavRP3WEiAXfONE/9PfZxpag0D9h27KVfMXPP3k5gCGUHNQ/V490All71z+NOP/XAhDaP7JCua5dCdo/PUE3NIJF2T9dQmGNAFHYP5AFFjtKeNY/DfSEg9Lh1T+Vt+NFg13YP8cwlC0LNds/Cu2FYV6G4T+RpPTAvWflP73igwb4Cec/i/8Qhqb/5j+0SG+KJl/lP3d2k04IgOI/3/RBIs+43j97TMJOSR/ZP/3ry/KuLtQ/snJqZqUlzz/uSdoDKpTGP7DVf1Z8474/kH8g7UwTtD9bmdvIGFWpP+MdET3y658/34WGJSnZlD/0zFQh0aqNP5fP3Lfx9ok/zu7/0yNXiz/x3VaEAByUPxi+igZtvJ0/Bxw+QTiNoT+cOzUzLqmdP+63tR/R2JE/GH6mYWttfz/sqEQntlRZP9RyFAmsqpG/\",\"dtype\":\"float64\",\"shape\":[75]},\"y\":{\"__ndarray__\":\"GhExyth1ND/Sv8nbtpRIP2vylNV0PVE/aTum7souWD/At0SJ8fVgPw3Iuahxymc/MSNhhJWvcD/bTfBN02d3P2zb5nxnaoA/CD5h5MAGhz8NmeH1TyaQP+zrCsc9p5Y/LbKd76fGnz/bLW5ISEmmPww9YvTcQq8/JV2OstnstT8Er5Y7M8G+P0c+r3jqkcU/5h99k6ZBzj88bCIzFzjVP4enV8oyxN0//yH99nXg5D8qOpLLf0jtP5kqGJXUifQ/c9cS8kHP/D+/DpwzojQEQIEmwoanVwxA4lgXt9HgE0BSSZ2AJuIbQAMJih9jjiNA5q4l5INuK0AwTKYKRj0zQNv5fmq8/DpAaCJseHrtQkB/+zpwzoxKQM3MzMzMeFJAZmZmZmZqWEAAAAAAAFxeQM3MzMzMJmJAmpmZmZkfZUBmZmZmZhhoQDMzMzMzEWtAAAAAAAAKbkBmZmZmZoFwQM3MzMzM/XFAMzMzMzN6c0CamZmZmfZ0QAAAAAAAc3ZAZmZmZmbvd0DNzMzMzGt5QDMzMzMz6HpAmpmZmZlkfEAAAAAAAOF9QGZmZmZmXX9AZmZmZuZsgECamZmZGSuBQM3MzMxM6YFAAAAAAICngkAzMzMzs2WDQGZmZmbmI4RAmpmZmRnihEDNzMzMTKCFQAAAAACAXoZAMzMzM7Mch0BmZmZm5tqHQJqZmZkZmYhAzczMzExXiUAAAAAAgBWKQDMzMzOz04pAZmZmZuaRi0CamZmZGVCMQM3MzMxMDo1AAAAAAIDMjUAzMzMzs4qOQGZmZmbmSI9A\",\"dtype\":\"float64\",\"shape\":[75]}},\"selected\":{\"id\":\"9ab678ec-67b0-4eb9-8881-f4dbcb492032\",\"type\":\"Selection\"},\"selection_policy\":{\"id\":\"e7f27b7d-6ef3-4162-87dc-b281cf522ee2\",\"type\":\"UnionRenderers\"}},\"id\":\"bc0fcc0e-b938-4ae1-9839-10a0480fd0ac\",\"type\":\"ColumnDataSource\"},{\"attributes\":{\"line_alpha\":0.1,\"line_color\":\"#1f77b4\",\"line_dash\":[6],\"line_width\":5,\"x\":{\"field\":\"x\"},\"y\":{\"field\":\"y\"}},\"id\":\"cb5aef61-b28a-4b53-a20f-935f64539f86\",\"type\":\"Line\"},{\"attributes\":{\"fill_alpha\":{\"value\":0.1},\"fill_color\":{\"value\":\"#1f77b4\"},\"line_alpha\":{\"value\":0.1},\"line_color\":{\"value\":\"#1f77b4\"},\"x\":{\"field\":\"x\"},\"y\":{\"field\":\"y\"}},\"id\":\"c4adf4fe-a2b3-411e-849d-1169d134c3ea\",\"type\":\"Circle\"},{\"attributes\":{},\"id\":\"ceed6819-a8d6-4296-b720-ec27e584c41f\",\"type\":\"Selection\"},{\"attributes\":{\"callback\":null,\"data\":{\"x\":{\"__ndarray__\":\"IGsjkYC6D0D0JliN+QYMQPWloQF70AtAGu0mDEEWC0AO5WzlVccJQJuT4ORb6wdA1S49QpOcBUCOdx8X+wcDQPIHIwdDbABAGPisNQUU/D+ZIT76jBn4P9ZQbYiE8PQ//IN5AV1l8j80BugLmcPvP65Vt9S2Teo/a5kYbSSG5T9HpFAwoy/iP93M9ACwWOA/UB0NOLeF3z+/yPr3aAPgPyaQFDEbM+E/eRKfXz6D4T/MrGA+kp/gPx9jDDPwBOA/D27ex4Ob3j/ej57vLSDcP9jbZJdaFdk/6rps1hVN1j9KhuCqc6/UPye/jQ5AD9Q/PEr0yqlp0z+5jKVmYzbSP8mfRrwlsNE/JTb+kILn0T+qMO+ekavRP3WEiAXfONE/9PfZxpag0D9h27KVfMXPP3k5gCGUHNQ/V490All71z+NOP/XAhDaP7JCua5dCdo/PUE3NIJF2T9dQmGNAFHYP5AFFjtKeNY/DfSEg9Lh1T+Vt+NFg13YP8cwlC0LNds/Cu2FYV6G4T+RpPTAvWflP73igwb4Cec/i/8Qhqb/5j+0SG+KJl/lP3d2k04IgOI/3/RBIs+43j97TMJOSR/ZP/3ry/KuLtQ/snJqZqUlzz/uSdoDKpTGP7DVf1Z8474/kH8g7UwTtD9bmdvIGFWpP+MdET3y658/34WGJSnZlD/0zFQh0aqNP5fP3Lfx9ok/zu7/0yNXiz/x3VaEAByUPxi+igZtvJ0/Bxw+QTiNoT+cOzUzLqmdP+63tR/R2JE/GH6mYWttfz/sqEQntlRZP9RyFAmsqpG/\",\"dtype\":\"float64\",\"shape\":[75]},\"y\":{\"__ndarray__\":\"GhExyth1ND/Sv8nbtpRIP2vylNV0PVE/aTum7souWD/At0SJ8fVgPw3Iuahxymc/MSNhhJWvcD/bTfBN02d3P2zb5nxnaoA/CD5h5MAGhz8NmeH1TyaQP+zrCsc9p5Y/LbKd76fGnz/bLW5ISEmmPww9YvTcQq8/JV2OstnstT8Er5Y7M8G+P0c+r3jqkcU/5h99k6ZBzj88bCIzFzjVP4enV8oyxN0//yH99nXg5D8qOpLLf0jtP5kqGJXUifQ/c9cS8kHP/D+/DpwzojQEQIEmwoanVwxA4lgXt9HgE0BSSZ2AJuIbQAMJih9jjiNA5q4l5INuK0AwTKYKRj0zQNv5fmq8/DpAaCJseHrtQkB/+zpwzoxKQM3MzMzMeFJAZmZmZmZqWEAAAAAAAFxeQM3MzMzMJmJAmpmZmZkfZUBmZmZmZhhoQDMzMzMzEWtAAAAAAAAKbkBmZmZmZoFwQM3MzMzM/XFAMzMzMzN6c0CamZmZmfZ0QAAAAAAAc3ZAZmZmZmbvd0DNzMzMzGt5QDMzMzMz6HpAmpmZmZlkfEAAAAAAAOF9QGZmZmZmXX9AZmZmZuZsgECamZmZGSuBQM3MzMxM6YFAAAAAAICngkAzMzMzs2WDQGZmZmbmI4RAmpmZmRnihEDNzMzMTKCFQAAAAACAXoZAMzMzM7Mch0BmZmZm5tqHQJqZmZkZmYhAzczMzExXiUAAAAAAgBWKQDMzMzOz04pAZmZmZuaRi0CamZmZGVCMQM3MzMxMDo1AAAAAAIDMjUAzMzMzs4qOQGZmZmbmSI9A\",\"dtype\":\"float64\",\"shape\":[75]}},\"selected\":{\"id\":\"a5e3b2a7-b8a8-42c9-87ea-ea980d51cdd1\",\"type\":\"Selection\"},\"selection_policy\":{\"id\":\"411c5cb0-5c0c-4c75-8215-215baf760c42\",\"type\":\"UnionRenderers\"}},\"id\":\"66fbc345-f0ce-46fc-8bfb-535b0bf52db4\",\"type\":\"ColumnDataSource\"},{\"attributes\":{\"fill_alpha\":{\"value\":0.7},\"fill_color\":{\"value\":\"#4daf4a\"},\"line_alpha\":{\"value\":0.7},\"line_color\":{\"value\":\"#4daf4a\"},\"x\":{\"field\":\"x\"},\"y\":{\"field\":\"y\"}},\"id\":\"9281e9b7-a55b-4651-98e4-4ee679084d0b\",\"type\":\"Circle\"},{\"attributes\":{\"items\":[{\"id\":\"4f11a152-32c1-469f-bfc8-bd795c9bb6c0\",\"type\":\"LegendItem\"},{\"id\":\"21242988-31f0-4f1c-aff4-b027e9178fc4\",\"type\":\"LegendItem\"},{\"id\":\"1a5c2d41-fe4c-43a2-95c6-dd3ae1090751\",\"type\":\"LegendItem\"}],\"label_text_font_size\":{\"value\":\"8pt\"},\"location\":[10,-30],\"plot\":{\"id\":\"f08001c3-677c-4239-8c40-ca43e6cae439\",\"subtype\":\"Figure\",\"type\":\"Plot\"}},\"id\":\"a11564bb-e72b-44e9-b5b2-d698296d307c\",\"type\":\"Legend\"},{\"attributes\":{\"source\":{\"id\":\"377d97ac-481f-4ef5-983d-2ea89013d67d\",\"type\":\"ColumnDataSource\"}},\"id\":\"db4df46e-ccf5-4fff-bb1b-8abc8c783687\",\"type\":\"CDSView\"},{\"attributes\":{},\"id\":\"fbf3086c-8b31-4f95-ab02-bd13c1fcbf21\",\"type\":\"PanTool\"},{\"attributes\":{\"active_drag\":\"auto\",\"active_inspect\":\"auto\",\"active_scroll\":\"auto\",\"active_tap\":\"auto\",\"tools\":[{\"id\":\"fbf3086c-8b31-4f95-ab02-bd13c1fcbf21\",\"type\":\"PanTool\"},{\"id\":\"ad2a6b37-0cb5-43cf-85fc-2f5ef94dcb7d\",\"type\":\"WheelZoomTool\"},{\"id\":\"0933b84b-6624-404d-ba8f-29fb5ffe129b\",\"type\":\"BoxZoomTool\"},{\"id\":\"1b9f7988-2c86-47ca-90b8-61bc286511ce\",\"type\":\"SaveTool\"},{\"id\":\"484c6a81-187e-4540-9c42-7219be7ea667\",\"type\":\"ResetTool\"},{\"id\":\"a5e0c138-a164-4994-81f4-bf96ff850ceb\",\"type\":\"HelpTool\"}]},\"id\":\"914413a0-6213-4e54-9bba-672c8de39c6d\",\"type\":\"Toolbar\"},{\"attributes\":{\"source\":{\"id\":\"fbfac968-6b3f-4619-b8d3-9a6253fc071b\",\"type\":\"ColumnDataSource\"}},\"id\":\"d0e524c1-2a81-4f71-820f-88f5a02ae87b\",\"type\":\"CDSView\"},{\"attributes\":{\"callback\":null,\"data\":{\"x\":{\"__ndarray__\":\"Dz+khAUMGEC6GF6kq1cSQM61eS0yOxFAaP3SR4XmD0C7W1misxwNQEtYG2MnPApALs5zn3deB0DeLwuS45MEQGvz/6oj5wFAF3w/2qTH/j/E+YokMCz6PwNs9vadFfY/gkEtYcil8j8MlLEtRSrvPyUNZvrCd+k/e/9Z0tUG5T8HryMv5wniPztNbi32K+A/2DekD2WB3j+0D0eRlHjeP3IfkLa3XOA/pyk8R2iU4D+wKvM9wKbeP9iPoDpOeNw/MTrmXXHI2j8ZMgUIchLZP8T4/kCYH9c/AHMtWoB21T/YGgBgK5fUP3Os/zF83dM/2IL/KSzj0j+PL6nzC6PRP2/ErHpt9NA/XWiVNqj/0D8Ds0KR7ufQP9y8cVKYt9A/D4VLnh120D9W1lfTzAXQPz9CxR/ictQ/PQkyIzjF1z9wxMUXDkDaPxi6ChCiSNo/vDFvm8qe2T/hh1oF96TYP67tkt1xr9Y/V9pWcbLm1T8dNS41pSnYP4qu6jBP/No/nymuCe2F4T/DvyG305TlP9Gbo/G4Juc/Qk5vsWi75j8AR0yaUBLlPzZJXmO4tuI/qouIINb03z8vpIEnRjnaP7oMYhTCstQ//ip+W8lxzz8wfuBLXQnHP1qA1+OVVsA/cK166buVtj9WdcGm77GuP5Cy8olEuqQ/IJwNAdlOnD9DVwu0hzKUP7X4vv8pMZA/g7Z5PF14kD+yPnb70vmVP0slhXeOCJ8/DenyEfEJoj85zDelM2WeP8ePhL9XW5I/Tm0VsqY6gD9XR+DgKg5ZPwKkTw4Ty5G/\",\"dtype\":\"float64\",\"shape\":[75]},\"y\":{\"__ndarray__\":\"GhExyth1ND/Sv8nbtpRIP2vylNV0PVE/aTum7souWD/At0SJ8fVgPw3Iuahxymc/MSNhhJWvcD/bTfBN02d3P2zb5nxnaoA/CD5h5MAGhz8NmeH1TyaQP+zrCsc9p5Y/LbKd76fGnz/bLW5ISEmmPww9YvTcQq8/JV2OstnstT8Er5Y7M8G+P0c+r3jqkcU/5h99k6ZBzj88bCIzFzjVP4enV8oyxN0//yH99nXg5D8qOpLLf0jtP5kqGJXUifQ/c9cS8kHP/D+/DpwzojQEQIEmwoanVwxA4lgXt9HgE0BSSZ2AJuIbQAMJih9jjiNA5q4l5INuK0AwTKYKRj0zQNv5fmq8/DpAaCJseHrtQkB/+zpwzoxKQM3MzMzMeFJAZmZmZmZqWEAAAAAAAFxeQM3MzMzMJmJAmpmZmZkfZUBmZmZmZhhoQDMzMzMzEWtAAAAAAAAKbkBmZmZmZoFwQM3MzMzM/XFAMzMzMzN6c0CamZmZmfZ0QAAAAAAAc3ZAZmZmZmbvd0DNzMzMzGt5QDMzMzMz6HpAmpmZmZlkfEAAAAAAAOF9QGZmZmZmXX9AZmZmZuZsgECamZmZGSuBQM3MzMxM6YFAAAAAAICngkAzMzMzs2WDQGZmZmbmI4RAmpmZmRnihEDNzMzMTKCFQAAAAACAXoZAMzMzM7Mch0BmZmZm5tqHQJqZmZkZmYhAzczMzExXiUAAAAAAgBWKQDMzMzOz04pAZmZmZuaRi0CamZmZGVCMQM3MzMxMDo1AAAAAAIDMjUAzMzMzs4qOQGZmZmbmSI9A\",\"dtype\":\"float64\",\"shape\":[75]}},\"selected\":{\"id\":\"f106073d-214a-4d08-a854-14035f15a522\",\"type\":\"Selection\"},\"selection_policy\":{\"id\":\"2b90ed28-f364-4e3b-b303-ffa50b40a2f3\",\"type\":\"UnionRenderers\"}},\"id\":\"377d97ac-481f-4ef5-983d-2ea89013d67d\",\"type\":\"ColumnDataSource\"},{\"attributes\":{\"data_source\":{\"id\":\"377d97ac-481f-4ef5-983d-2ea89013d67d\",\"type\":\"ColumnDataSource\"},\"glyph\":{\"id\":\"9f3d5722-e435-494c-babf-03bd131dff8d\",\"type\":\"Line\"},\"hover_glyph\":null,\"muted_glyph\":null,\"nonselection_glyph\":{\"id\":\"82c9ca77-cbac-4349-82b8-f6e6207723af\",\"type\":\"Line\"},\"selection_glyph\":null,\"view\":{\"id\":\"db4df46e-ccf5-4fff-bb1b-8abc8c783687\",\"type\":\"CDSView\"}},\"id\":\"ddd499b8-ab0c-4a77-8e66-ea44e0e6d9ef\",\"type\":\"GlyphRenderer\"},{\"attributes\":{\"fill_alpha\":{\"value\":0.7},\"fill_color\":{\"value\":\"#984ea3\"},\"line_alpha\":{\"value\":0.7},\"line_color\":{\"value\":\"#984ea3\"},\"x\":{\"field\":\"x\"},\"y\":{\"field\":\"y\"}},\"id\":\"5e1a728d-7822-4b7e-807d-423cb758a3a5\",\"type\":\"Square\"},{\"attributes\":{},\"id\":\"1b9f7988-2c86-47ca-90b8-61bc286511ce\",\"type\":\"SaveTool\"},{\"attributes\":{\"below\":[{\"id\":\"2da162d3-25fc-4606-a07e-87ce7d2119ee\",\"type\":\"LinearAxis\"}],\"left\":[{\"id\":\"00737c61-b772-4381-8b63-63271b76f70d\",\"type\":\"LogAxis\"}],\"plot_height\":500,\"plot_width\":560,\"renderers\":[{\"id\":\"2da162d3-25fc-4606-a07e-87ce7d2119ee\",\"type\":\"LinearAxis\"},{\"id\":\"5b1504e6-478e-4ea7-bd98-a9aa24ab4427\",\"type\":\"Grid\"},{\"id\":\"00737c61-b772-4381-8b63-63271b76f70d\",\"type\":\"LogAxis\"},{\"id\":\"cb3d5d36-3803-4b8b-b429-b56cc358c106\",\"type\":\"Grid\"},{\"id\":\"f4e46f75-482d-424e-8645-a5e6e309e0b3\",\"type\":\"BoxAnnotation\"},{\"id\":\"cafec887-62cf-4611-9d30-feb12d79b2d6\",\"type\":\"GlyphRenderer\"},{\"id\":\"d1048944-b1f9-4e9a-97c9-4f78e7ad8b37\",\"type\":\"GlyphRenderer\"},{\"id\":\"ddd499b8-ab0c-4a77-8e66-ea44e0e6d9ef\",\"type\":\"GlyphRenderer\"},{\"id\":\"d1a79753-e9ad-43f2-a9fe-27404318d05c\",\"type\":\"GlyphRenderer\"},{\"id\":\"e255a9e5-9cd7-4bf8-bd6a-df5569c3ac09\",\"type\":\"GlyphRenderer\"},{\"id\":\"a11564bb-e72b-44e9-b5b2-d698296d307c\",\"type\":\"Legend\"}],\"right\":[{\"id\":\"a11564bb-e72b-44e9-b5b2-d698296d307c\",\"type\":\"Legend\"}],\"title\":{\"id\":\"d9ba8033-f913-470a-a244-395c73ad2455\",\"type\":\"Title\"},\"toolbar\":{\"id\":\"914413a0-6213-4e54-9bba-672c8de39c6d\",\"type\":\"Toolbar\"},\"toolbar_location\":null,\"x_range\":{\"id\":\"9fdae3a8-9676-45c9-90f9-68f3671aeb68\",\"type\":\"Range1d\"},\"x_scale\":{\"id\":\"c146e430-82a1-41cb-a30e-f6bc71580928\",\"type\":\"LinearScale\"},\"y_range\":{\"id\":\"1de1e8ae-ff97-42f4-97e1-a217938142dd\",\"type\":\"Range1d\"},\"y_scale\":{\"id\":\"af7bedfa-329f-4abd-b3a1-c96797796282\",\"type\":\"LogScale\"}},\"id\":\"f08001c3-677c-4239-8c40-ca43e6cae439\",\"subtype\":\"Figure\",\"type\":\"Plot\"},{\"attributes\":{},\"id\":\"484c6a81-187e-4540-9c42-7219be7ea667\",\"type\":\"ResetTool\"},{\"attributes\":{\"line_color\":\"#4daf4a\",\"line_width\":1.5,\"x\":{\"field\":\"x\"},\"y\":{\"field\":\"y\"}},\"id\":\"9f3d5722-e435-494c-babf-03bd131dff8d\",\"type\":\"Line\"},{\"attributes\":{\"overlay\":{\"id\":\"f4e46f75-482d-424e-8645-a5e6e309e0b3\",\"type\":\"BoxAnnotation\"}},\"id\":\"0933b84b-6624-404d-ba8f-29fb5ffe129b\",\"type\":\"BoxZoomTool\"},{\"attributes\":{\"line_alpha\":0.1,\"line_color\":\"#1f77b4\",\"line_width\":1.5,\"x\":{\"field\":\"x\"},\"y\":{\"field\":\"y\"}},\"id\":\"82c9ca77-cbac-4349-82b8-f6e6207723af\",\"type\":\"Line\"},{\"attributes\":{\"data_source\":{\"id\":\"1a22c7d6-23af-45fd-a941-7678ad5cb44d\",\"type\":\"ColumnDataSource\"},\"glyph\":{\"id\":\"e3cb4390-ec59-46ec-9a76-7c1a79c07b15\",\"type\":\"Line\"},\"hover_glyph\":null,\"muted_glyph\":null,\"nonselection_glyph\":{\"id\":\"28a768e3-fb02-4d77-8665-35abcf4d784a\",\"type\":\"Line\"},\"selection_glyph\":null,\"view\":{\"id\":\"a495ada0-8c42-4ced-a270-b18764d1053b\",\"type\":\"CDSView\"}},\"id\":\"cafec887-62cf-4611-9d30-feb12d79b2d6\",\"type\":\"GlyphRenderer\"},{\"attributes\":{\"callback\":null,\"end\":1.9406831641,\"start\":0.2126028259},\"id\":\"9fdae3a8-9676-45c9-90f9-68f3671aeb68\",\"type\":\"Range1d\"},{\"attributes\":{\"data_source\":{\"id\":\"7900087c-8192-4aa7-ae84-19ff32d44c12\",\"type\":\"ColumnDataSource\"},\"glyph\":{\"id\":\"fd6c9538-6ae1-40f6-b8d1-1e781180cdb9\",\"type\":\"Line\"},\"hover_glyph\":null,\"muted_glyph\":null,\"nonselection_glyph\":{\"id\":\"cb5aef61-b28a-4b53-a20f-935f64539f86\",\"type\":\"Line\"},\"selection_glyph\":null,\"view\":{\"id\":\"133a9a82-12a3-436f-bb98-e221d34c40a8\",\"type\":\"CDSView\"}},\"id\":\"4a0b8a1d-47be-4a8f-815a-d53867b01b16\",\"type\":\"GlyphRenderer\"},{\"attributes\":{},\"id\":\"af7bedfa-329f-4abd-b3a1-c96797796282\",\"type\":\"LogScale\"},{\"attributes\":{\"source\":{\"id\":\"9ea16d09-c247-47e5-b80e-3cc337e11c0b\",\"type\":\"ColumnDataSource\"}},\"id\":\"7f1ececa-3139-4f63-b199-b03370c67bba\",\"type\":\"CDSView\"},{\"attributes\":{\"num_minor_ticks\":10},\"id\":\"08e4ebbf-d699-4e97-8e80-009cde16440d\",\"type\":\"LogTicker\"},{\"attributes\":{},\"id\":\"c146e430-82a1-41cb-a30e-f6bc71580928\",\"type\":\"LinearScale\"},{\"attributes\":{\"fill_alpha\":{\"value\":0.1},\"fill_color\":{\"value\":\"#1f77b4\"},\"line_alpha\":{\"value\":0.1},\"line_color\":{\"value\":\"#1f77b4\"},\"x\":{\"field\":\"x\"},\"y\":{\"field\":\"y\"}},\"id\":\"509bb3d6-58b9-47d1-8970-31395307dd0b\",\"type\":\"Square\"},{\"attributes\":{},\"id\":\"9631df87-d598-46ba-97a0-b289a09cdcec\",\"type\":\"WheelZoomTool\"},{\"attributes\":{\"axis_label\":\"pressure [mb]\",\"formatter\":{\"id\":\"cffd7082-5354-4bb8-821d-599cb50e20bd\",\"type\":\"LogTickFormatter\"},\"plot\":{\"id\":\"f08001c3-677c-4239-8c40-ca43e6cae439\",\"subtype\":\"Figure\",\"type\":\"Plot\"},\"ticker\":{\"id\":\"08e4ebbf-d699-4e97-8e80-009cde16440d\",\"type\":\"LogTicker\"}},\"id\":\"00737c61-b772-4381-8b63-63271b76f70d\",\"type\":\"LogAxis\"},{\"attributes\":{},\"id\":\"ad2a6b37-0cb5-43cf-85fc-2f5ef94dcb7d\",\"type\":\"WheelZoomTool\"},{\"attributes\":{\"callback\":null,\"end\":0.01,\"start\":1020},\"id\":\"1de1e8ae-ff97-42f4-97e1-a217938142dd\",\"type\":\"Range1d\"},{\"attributes\":{\"dimension\":1,\"plot\":{\"id\":\"f08001c3-677c-4239-8c40-ca43e6cae439\",\"subtype\":\"Figure\",\"type\":\"Plot\"},\"ticker\":{\"id\":\"08e4ebbf-d699-4e97-8e80-009cde16440d\",\"type\":\"LogTicker\"}},\"id\":\"cb3d5d36-3803-4b8b-b429-b56cc358c106\",\"type\":\"Grid\"},{\"attributes\":{\"bottom_units\":\"screen\",\"fill_alpha\":{\"value\":0.5},\"fill_color\":{\"value\":\"lightgrey\"},\"left_units\":\"screen\",\"level\":\"overlay\",\"line_alpha\":{\"value\":1.0},\"line_color\":{\"value\":\"black\"},\"line_dash\":[4,4],\"line_width\":{\"value\":2},\"plot\":null,\"render_mode\":\"css\",\"right_units\":\"screen\",\"top_units\":\"screen\"},\"id\":\"f4e46f75-482d-424e-8645-a5e6e309e0b3\",\"type\":\"BoxAnnotation\"},{\"attributes\":{},\"id\":\"35158832-0c63-41b4-8490-3218bd896e12\",\"type\":\"BasicTicker\"},{\"attributes\":{\"plot\":{\"id\":\"f08001c3-677c-4239-8c40-ca43e6cae439\",\"subtype\":\"Figure\",\"type\":\"Plot\"},\"ticker\":{\"id\":\"35158832-0c63-41b4-8490-3218bd896e12\",\"type\":\"BasicTicker\"}},\"id\":\"5b1504e6-478e-4ea7-bd98-a9aa24ab4427\",\"type\":\"Grid\"},{\"attributes\":{\"data_source\":{\"id\":\"832bffec-e40e-4cc1-866c-16b48b0ea684\",\"type\":\"ColumnDataSource\"},\"glyph\":{\"id\":\"5a0680fc-82d6-4a0c-96e5-aca6d88aee4e\",\"type\":\"Line\"},\"hover_glyph\":null,\"muted_glyph\":null,\"nonselection_glyph\":{\"id\":\"3b1ca487-3e5b-4569-a933-2feecb4de3cc\",\"type\":\"Line\"},\"selection_glyph\":null,\"view\":{\"id\":\"73c34249-dc4c-4d56-a6c0-ab9357e55622\",\"type\":\"CDSView\"}},\"id\":\"e255a9e5-9cd7-4bf8-bd6a-df5569c3ac09\",\"type\":\"GlyphRenderer\"},{\"attributes\":{\"source\":{\"id\":\"33b7f660-38bc-4b87-9b26-a0e77a4bd5f1\",\"type\":\"ColumnDataSource\"}},\"id\":\"c92e96be-ac84-4232-b8f1-30c6f6453b18\",\"type\":\"CDSView\"},{\"attributes\":{\"data_source\":{\"id\":\"33b7f660-38bc-4b87-9b26-a0e77a4bd5f1\",\"type\":\"ColumnDataSource\"},\"glyph\":{\"id\":\"9f144bc5-38fd-4a89-9a2e-3a4efd037e05\",\"type\":\"Circle\"},\"hover_glyph\":null,\"muted_glyph\":null,\"nonselection_glyph\":{\"id\":\"e366ddb1-3c54-4937-bc40-3329a3d0fdfd\",\"type\":\"Circle\"},\"selection_glyph\":null,\"view\":{\"id\":\"c92e96be-ac84-4232-b8f1-30c6f6453b18\",\"type\":\"CDSView\"}},\"id\":\"b05d4a9d-7167-4aad-b89c-f0a38f7fac2c\",\"type\":\"GlyphRenderer\"},{\"attributes\":{\"children\":[{\"id\":\"d0dc825f-af84-435f-be93-0e9396793cf0\",\"type\":\"Row\"}]},\"id\":\"61814404-5dcc-455c-9d21-31dd78eeede9\",\"type\":\"Column\"},{\"attributes\":{\"data_source\":{\"id\":\"66fbc345-f0ce-46fc-8bfb-535b0bf52db4\",\"type\":\"ColumnDataSource\"},\"glyph\":{\"id\":\"5e1a728d-7822-4b7e-807d-423cb758a3a5\",\"type\":\"Square\"},\"hover_glyph\":null,\"muted_glyph\":null,\"nonselection_glyph\":{\"id\":\"509bb3d6-58b9-47d1-8970-31395307dd0b\",\"type\":\"Square\"},\"selection_glyph\":null,\"view\":{\"id\":\"35dc36d1-ce10-4221-8450-9173b9b28c45\",\"type\":\"CDSView\"}},\"id\":\"d1a79753-e9ad-43f2-a9fe-27404318d05c\",\"type\":\"GlyphRenderer\"},{\"attributes\":{\"fill_alpha\":{\"value\":0.1},\"fill_color\":{\"value\":\"#1f77b4\"},\"line_alpha\":{\"value\":0.1},\"line_color\":{\"value\":\"#1f77b4\"},\"x\":{\"field\":\"x\"},\"y\":{\"field\":\"y\"}},\"id\":\"0e174b7a-c7b7-4ff1-a0ff-d062500d362c\",\"type\":\"Square\"},{\"attributes\":{},\"id\":\"02a59317-18ef-4a45-a51a-26be1de3c330\",\"type\":\"LinearScale\"},{\"attributes\":{\"line_alpha\":0.6,\"line_color\":\"#984ea3\",\"line_width\":3,\"x\":{\"field\":\"x\"},\"y\":{\"field\":\"y\"}},\"id\":\"daaa331b-cd53-4a58-97bb-a98de7e5041b\",\"type\":\"Line\"},{\"attributes\":{\"below\":[{\"id\":\"74995b3d-17ff-4bd4-a542-4ccde87a301b\",\"type\":\"LinearAxis\"}],\"left\":[{\"id\":\"d9e42b7e-2833-4cdd-84fd-380cd0da580a\",\"type\":\"LinearAxis\"}],\"plot_height\":500,\"plot_width\":400,\"renderers\":[{\"id\":\"74995b3d-17ff-4bd4-a542-4ccde87a301b\",\"type\":\"LinearAxis\"},{\"id\":\"50e7c9f8-3314-4b8b-88df-f01895ed3fcd\",\"type\":\"Grid\"},{\"id\":\"d9e42b7e-2833-4cdd-84fd-380cd0da580a\",\"type\":\"LinearAxis\"},{\"id\":\"6086736f-7eba-4c24-8e41-c72ed946c5ce\",\"type\":\"Grid\"},{\"id\":\"bf11e7d1-dca7-4ab6-b148-3edf1cb41e1c\",\"type\":\"BoxAnnotation\"},{\"id\":\"4a0b8a1d-47be-4a8f-815a-d53867b01b16\",\"type\":\"GlyphRenderer\"},{\"id\":\"b05d4a9d-7167-4aad-b89c-f0a38f7fac2c\",\"type\":\"GlyphRenderer\"},{\"id\":\"09384357-eea2-4674-8b6e-fa5c7741ca10\",\"type\":\"GlyphRenderer\"},{\"id\":\"1788c795-141b-4015-99ee-223209bd7a66\",\"type\":\"GlyphRenderer\"},{\"id\":\"d08e1750-b749-4a6f-bc39-c83db76fedda\",\"type\":\"GlyphRenderer\"}],\"title\":{\"id\":\"e7e93e56-81cc-47f2-b901-434360dab02e\",\"type\":\"Title\"},\"toolbar\":{\"id\":\"546a81c1-2c7f-492d-9374-d23a8b119c1c\",\"type\":\"Toolbar\"},\"toolbar_location\":null,\"x_range\":{\"id\":\"e9bfc003-08bb-49f1-92e9-84cab0441408\",\"type\":\"Range1d\"},\"x_scale\":{\"id\":\"02a59317-18ef-4a45-a51a-26be1de3c330\",\"type\":\"LinearScale\"},\"y_range\":{\"id\":\"0930ce4d-34e0-41f1-b688-a37fc13a134b\",\"type\":\"Range1d\"},\"y_scale\":{\"id\":\"f5042332-6691-487c-8505-bb796eb51f11\",\"type\":\"LinearScale\"}},\"id\":\"647ed9b1-e11f-4d46-9d9a-c6adebfdfb88\",\"subtype\":\"Figure\",\"type\":\"Plot\"},{\"attributes\":{\"line_alpha\":0.6,\"line_color\":\"#984ea3\",\"line_width\":3,\"x\":{\"field\":\"x\"},\"y\":{\"field\":\"y\"}},\"id\":\"5a0680fc-82d6-4a0c-96e5-aca6d88aee4e\",\"type\":\"Line\"},{\"attributes\":{\"bottom_units\":\"screen\",\"fill_alpha\":{\"value\":0.5},\"fill_color\":{\"value\":\"lightgrey\"},\"left_units\":\"screen\",\"level\":\"overlay\",\"line_alpha\":{\"value\":1.0},\"line_color\":{\"value\":\"black\"},\"line_dash\":[4,4],\"line_width\":{\"value\":2},\"plot\":null,\"render_mode\":\"css\",\"right_units\":\"screen\",\"top_units\":\"screen\"},\"id\":\"bf11e7d1-dca7-4ab6-b148-3edf1cb41e1c\",\"type\":\"BoxAnnotation\"},{\"attributes\":{\"source\":{\"id\":\"7900087c-8192-4aa7-ae84-19ff32d44c12\",\"type\":\"ColumnDataSource\"}},\"id\":\"133a9a82-12a3-436f-bb98-e221d34c40a8\",\"type\":\"CDSView\"},{\"attributes\":{},\"id\":\"fd3fb5e0-e364-46f1-b322-90204a1e1ec0\",\"type\":\"Selection\"},{\"attributes\":{\"callback\":null,\"end\":0.7578039816000001,\"start\":-0.0250512816},\"id\":\"e9bfc003-08bb-49f1-92e9-84cab0441408\",\"type\":\"Range1d\"},{\"attributes\":{\"line_alpha\":0.1,\"line_color\":\"#1f77b4\",\"line_width\":3,\"x\":{\"field\":\"x\"},\"y\":{\"field\":\"y\"}},\"id\":\"3b1ca487-3e5b-4569-a933-2feecb4de3cc\",\"type\":\"Line\"},{\"attributes\":{\"dimension\":1,\"plot\":{\"id\":\"647ed9b1-e11f-4d46-9d9a-c6adebfdfb88\",\"subtype\":\"Figure\",\"type\":\"Plot\"},\"ticker\":{\"id\":\"d9178212-c637-4879-845b-429b3b346b07\",\"type\":\"BasicTicker\"}},\"id\":\"6086736f-7eba-4c24-8e41-c72ed946c5ce\",\"type\":\"Grid\"},{\"attributes\":{\"data_source\":{\"id\":\"bc0fcc0e-b938-4ae1-9839-10a0480fd0ac\",\"type\":\"ColumnDataSource\"},\"glyph\":{\"id\":\"daaa331b-cd53-4a58-97bb-a98de7e5041b\",\"type\":\"Line\"},\"hover_glyph\":null,\"muted_glyph\":null,\"nonselection_glyph\":{\"id\":\"3dd7ea44-bd72-42e0-826c-6f3b39c7a02e\",\"type\":\"Line\"},\"selection_glyph\":null,\"view\":{\"id\":\"8a28e4dc-74a0-49e4-b1b2-4f3eef7d1773\",\"type\":\"CDSView\"}},\"id\":\"d08e1750-b749-4a6f-bc39-c83db76fedda\",\"type\":\"GlyphRenderer\"},{\"attributes\":{},\"id\":\"04ca4eb9-b33e-41f8-97b5-c08c81673cd9\",\"type\":\"HelpTool\"},{\"attributes\":{\"callback\":null,\"data\":{\"x\":{\"__ndarray__\":\"LhBOVeueC0Bd1mlJ7P8JQH2YvWw7XQpALXcLyW47CkCMcVnghnMJQNpbJbPV8AdAMOhzpOmyBUCpYs9DEvICQDCE97ByEwBAVMyciUQc+z8NuimK/F/3P1m1tc90wPQ/9hj2xe+X8j9Ads2aDhPwP9ymT90iEeo/o4bCqQeT5D83E3jM5evgP983fNr6jN4//ITc2vze3T/IBcoaszTePxnXCXlOxN8/FYiF96jB3z/sB6fLg3DePxeKCaSjIN4/qubFy8tI3T+vgcavzNnaP9mjondLLtg/nlFnrAUP1T/1/OVqllHTPyV6lYzO/9I/9FPa6otn0j/iMwK/gP3QP6jL3ilPptA/P68VwNbd0D8fxygy55fQP0z33++8OdA/HCXx6gPmzj82MwJDuWHNP7Qwdoig5tI/K6axQU+Y1j/dXWdD/lnZP0PGJ41mX9k/1XwRREij2D8YFJvJFg3YP6yBGK4vztY/Y1tpxmCN1j9UhKP9chrZP0Dn4i1fsNs/oUTwZNyZ4T+WL2CwuGvlPy/v/U/2fec/akXEYg4B6D8xNbaVZkzmP+uWV42pBOM/gn8ACA7e3z+q/N/P+NfaP7k9Wv9bB9Y/q+4uo5rK0D9jBaZwkFLHP/WOprxO0b0/rOwlB5jrsT9aCc76QxylP5wH7yzztpk/dWAnX0oJkT/ORyHiSX+JPy8vI2n13YY/nBYNMCvIij8WVYzhVOWTP82/hnUdiZ0/Bl4U2sV2oT9lfVbbRX+dPy1fdtNWupE/Pk+Wsjk7fz/9uV5WBcNZP0UAOkOmuZG/\",\"dtype\":\"float64\",\"shape\":[75]},\"y\":{\"__ndarray__\":\"S/O/Q+51ND/Sv8nbtpRIP2vylNV0PVE/aTum7souWD/At0SJ8fVgPw3Iuahxymc/MSNhhJWvcD/bTfBN02d3P2zb5nxnaoA/CD5h5MAGhz8NmeH1TyaQP+zrCsc9p5Y/LbKd76fGnz/bLW5ISEmmPww9YvTcQq8/JV2OstnstT8Er5Y7M8G+P0c+r3jqkcU/5h99k6ZBzj88bCIzFzjVP4enV8oyxN0//yH99nXg5D8qOpLLf0jtP5kqGJXUifQ/c9cS8kHP/D+/DpwzojQEQIEmwoanVwxA4lgXt9HgE0BSSZ2AJuIbQAMJih9jjiNA5q4l5INuK0AwTKYKRj0zQNv5fmq8/DpAaCJseHrtQkB/+zpwzoxKQM3MzMzMeFJAZmZmZmZqWEAAAAAAAFxeQM3MzMzMJmJAmpmZmZkfZUBmZmZmZhhoQDMzMzMzEWtAAAAAAAAKbkBmZmZmZoFwQM3MzMzM/XFAMzMzMzN6c0CamZmZmfZ0QAAAAAAAc3ZAZmZmZmbvd0DNzMzMzGt5QDMzMzMz6HpAmpmZmZlkfEAAAAAAAOF9QGZmZmZmXX9AZmZmZuZsgECamZmZGSuBQM3MzMxM6YFAAAAAAICngkAzMzMzs2WDQGZmZmbmI4RAmpmZmRnihEDNzMzMTKCFQAAAAACAXoZAMzMzM7Mch0BmZmZm5tqHQJqZmZkZmYhAzczMzExXiUAAAAAAgBWKQDMzMzOz04pAZmZmZuaRi0CamZmZGVCMQM3MzMxMDo1AAAAAAIDMjUAzMzMzs4qOQGZmZmbmSI9A\",\"dtype\":\"float64\",\"shape\":[75]}},\"selected\":{\"id\":\"b9310787-bf51-4ced-b497-53404ed6e86c\",\"type\":\"Selection\"},\"selection_policy\":{\"id\":\"43758814-b24f-47dd-ae3e-f0b65142c62d\",\"type\":\"UnionRenderers\"}},\"id\":\"7900087c-8192-4aa7-ae84-19ff32d44c12\",\"type\":\"ColumnDataSource\"},{\"attributes\":{},\"id\":\"d9178212-c637-4879-845b-429b3b346b07\",\"type\":\"BasicTicker\"},{\"attributes\":{\"callback\":null,\"data\":{\"x\":{\"__ndarray__\":\"IGsjkYC6D0D0JliN+QYMQPWloQF70AtAGu0mDEEWC0AO5WzlVccJQJuT4ORb6wdA1S49QpOcBUCOdx8X+wcDQPIHIwdDbABAGPisNQUU/D+ZIT76jBn4P9ZQbYiE8PQ//IN5AV1l8j80BugLmcPvP65Vt9S2Teo/a5kYbSSG5T9HpFAwoy/iP93M9ACwWOA/UB0NOLeF3z+/yPr3aAPgPyaQFDEbM+E/eRKfXz6D4T/MrGA+kp/gPx9jDDPwBOA/D27ex4Ob3j/ej57vLSDcP9jbZJdaFdk/6rps1hVN1j9KhuCqc6/UPye/jQ5AD9Q/PEr0yqlp0z+5jKVmYzbSP8mfRrwlsNE/JTb+kILn0T+qMO+ekavRP3WEiAXfONE/9PfZxpag0D9h27KVfMXPP3k5gCGUHNQ/V490All71z+NOP/XAhDaP7JCua5dCdo/PUE3NIJF2T9dQmGNAFHYP5AFFjtKeNY/DfSEg9Lh1T+Vt+NFg13YP8cwlC0LNds/Cu2FYV6G4T+RpPTAvWflP73igwb4Cec/i/8Qhqb/5j+0SG+KJl/lP3d2k04IgOI/3/RBIs+43j97TMJOSR/ZP/3ry/KuLtQ/snJqZqUlzz/uSdoDKpTGP7DVf1Z8474/kH8g7UwTtD9bmdvIGFWpP+MdET3y658/34WGJSnZlD/0zFQh0aqNP5fP3Lfx9ok/zu7/0yNXiz/x3VaEAByUPxi+igZtvJ0/Bxw+QTiNoT+cOzUzLqmdP+63tR/R2JE/GH6mYWttfz/sqEQntlRZP9RyFAmsqpG/\",\"dtype\":\"float64\",\"shape\":[75]},\"y\":{\"__ndarray__\":\"GhExyth1ND/Sv8nbtpRIP2vylNV0PVE/aTum7souWD/At0SJ8fVgPw3Iuahxymc/MSNhhJWvcD/bTfBN02d3P2zb5nxnaoA/CD5h5MAGhz8NmeH1TyaQP+zrCsc9p5Y/LbKd76fGnz/bLW5ISEmmPww9YvTcQq8/JV2OstnstT8Er5Y7M8G+P0c+r3jqkcU/5h99k6ZBzj88bCIzFzjVP4enV8oyxN0//yH99nXg5D8qOpLLf0jtP5kqGJXUifQ/c9cS8kHP/D+/DpwzojQEQIEmwoanVwxA4lgXt9HgE0BSSZ2AJuIbQAMJih9jjiNA5q4l5INuK0AwTKYKRj0zQNv5fmq8/DpAaCJseHrtQkB/+zpwzoxKQM3MzMzMeFJAZmZmZmZqWEAAAAAAAFxeQM3MzMzMJmJAmpmZmZkfZUBmZmZmZhhoQDMzMzMzEWtAAAAAAAAKbkBmZmZmZoFwQM3MzMzM/XFAMzMzMzN6c0CamZmZmfZ0QAAAAAAAc3ZAZmZmZmbvd0DNzMzMzGt5QDMzMzMz6HpAmpmZmZlkfEAAAAAAAOF9QGZmZmZmXX9AZmZmZuZsgECamZmZGSuBQM3MzMxM6YFAAAAAAICngkAzMzMzs2WDQGZmZmbmI4RAmpmZmRnihEDNzMzMTKCFQAAAAACAXoZAMzMzM7Mch0BmZmZm5tqHQJqZmZkZmYhAzczMzExXiUAAAAAAgBWKQDMzMzOz04pAZmZmZuaRi0CamZmZGVCMQM3MzMxMDo1AAAAAAIDMjUAzMzMzs4qOQGZmZmbmSI9A\",\"dtype\":\"float64\",\"shape\":[75]}},\"selected\":{\"id\":\"c7d3adb1-f1cd-4363-b573-256c3b0510b7\",\"type\":\"Selection\"},\"selection_policy\":{\"id\":\"f381b00b-3a07-4d5d-8c9c-992f0143f816\",\"type\":\"UnionRenderers\"}},\"id\":\"832bffec-e40e-4cc1-866c-16b48b0ea684\",\"type\":\"ColumnDataSource\"},{\"attributes\":{\"axis_label\":\"pressure [mb]\",\"formatter\":{\"id\":\"bbc593bb-4a20-4024-9bbf-3d2d0ae96216\",\"type\":\"BasicTickFormatter\"},\"plot\":{\"id\":\"647ed9b1-e11f-4d46-9d9a-c6adebfdfb88\",\"subtype\":\"Figure\",\"type\":\"Plot\"},\"ticker\":{\"id\":\"d9178212-c637-4879-845b-429b3b346b07\",\"type\":\"BasicTicker\"}},\"id\":\"d9e42b7e-2833-4cdd-84fd-380cd0da580a\",\"type\":\"LinearAxis\"},{\"attributes\":{\"active_drag\":\"auto\",\"active_inspect\":\"auto\",\"active_scroll\":\"auto\",\"active_tap\":\"auto\",\"tools\":[{\"id\":\"65d78945-84ca-4fa6-9bca-8cb7c1c46384\",\"type\":\"PanTool\"},{\"id\":\"9631df87-d598-46ba-97a0-b289a09cdcec\",\"type\":\"WheelZoomTool\"},{\"id\":\"2f8e514d-200d-4a84-a6f1-91430c15587a\",\"type\":\"BoxZoomTool\"},{\"id\":\"e88a3629-c2b0-4138-b467-64154cf80397\",\"type\":\"SaveTool\"},{\"id\":\"85f97000-1ba9-4c41-8807-7f5fcb83a351\",\"type\":\"ResetTool\"},{\"id\":\"04ca4eb9-b33e-41f8-97b5-c08c81673cd9\",\"type\":\"HelpTool\"}]},\"id\":\"546a81c1-2c7f-492d-9374-d23a8b119c1c\",\"type\":\"Toolbar\"},{\"attributes\":{\"plot\":null,\"text\":\"Linear pressure scale\"},\"id\":\"e7e93e56-81cc-47f2-b901-434360dab02e\",\"type\":\"Title\"},{\"attributes\":{\"data_source\":{\"id\":\"833793d3-6f8e-4045-8769-3ebc7ecf530f\",\"type\":\"ColumnDataSource\"},\"glyph\":{\"id\":\"e81d8751-0188-47f6-9607-0d3a58e7df73\",\"type\":\"Line\"},\"hover_glyph\":null,\"muted_glyph\":null,\"nonselection_glyph\":{\"id\":\"fdc82b8c-c608-445e-a560-4f9298006823\",\"type\":\"Line\"},\"selection_glyph\":null,\"view\":{\"id\":\"65173553-048f-4602-9ee4-1037faf64d6d\",\"type\":\"CDSView\"}},\"id\":\"09384357-eea2-4674-8b6e-fa5c7741ca10\",\"type\":\"GlyphRenderer\"},{\"attributes\":{},\"id\":\"65d78945-84ca-4fa6-9bca-8cb7c1c46384\",\"type\":\"PanTool\"},{\"attributes\":{\"plot\":{\"id\":\"647ed9b1-e11f-4d46-9d9a-c6adebfdfb88\",\"subtype\":\"Figure\",\"type\":\"Plot\"},\"ticker\":{\"id\":\"382e8d10-4171-4e31-bd8c-d86e798a8b41\",\"type\":\"BasicTicker\"}},\"id\":\"50e7c9f8-3314-4b8b-88df-f01895ed3fcd\",\"type\":\"Grid\"},{\"attributes\":{},\"id\":\"f5042332-6691-487c-8505-bb796eb51f11\",\"type\":\"LinearScale\"},{\"attributes\":{\"callback\":null,\"end\":0.01,\"start\":1020},\"id\":\"0930ce4d-34e0-41f1-b688-a37fc13a134b\",\"type\":\"Range1d\"},{\"attributes\":{\"line_alpha\":0.6,\"line_color\":\"#e41a1c\",\"line_dash\":[6],\"line_width\":5,\"x\":{\"field\":\"x\"},\"y\":{\"field\":\"y\"}},\"id\":\"fd6c9538-6ae1-40f6-b8d1-1e781180cdb9\",\"type\":\"Line\"},{\"attributes\":{\"line_alpha\":0.1,\"line_color\":\"#1f77b4\",\"line_dash\":[6],\"line_width\":5,\"x\":{\"field\":\"x\"},\"y\":{\"field\":\"y\"}},\"id\":\"28a768e3-fb02-4d77-8665-35abcf4d784a\",\"type\":\"Line\"},{\"attributes\":{\"source\":{\"id\":\"832bffec-e40e-4cc1-866c-16b48b0ea684\",\"type\":\"ColumnDataSource\"}},\"id\":\"73c34249-dc4c-4d56-a6c0-ab9357e55622\",\"type\":\"CDSView\"},{\"attributes\":{},\"id\":\"e88a3629-c2b0-4138-b467-64154cf80397\",\"type\":\"SaveTool\"},{\"attributes\":{\"line_alpha\":0.1,\"line_color\":\"#1f77b4\",\"line_width\":3,\"x\":{\"field\":\"x\"},\"y\":{\"field\":\"y\"}},\"id\":\"3dd7ea44-bd72-42e0-826c-6f3b39c7a02e\",\"type\":\"Line\"},{\"attributes\":{\"line_alpha\":0.6,\"line_color\":\"#e41a1c\",\"line_dash\":[6],\"line_width\":5,\"x\":{\"field\":\"x\"},\"y\":{\"field\":\"y\"}},\"id\":\"e3cb4390-ec59-46ec-9a76-7c1a79c07b15\",\"type\":\"Line\"},{\"attributes\":{\"source\":{\"id\":\"66fbc345-f0ce-46fc-8bfb-535b0bf52db4\",\"type\":\"ColumnDataSource\"}},\"id\":\"35dc36d1-ce10-4221-8450-9173b9b28c45\",\"type\":\"CDSView\"},{\"attributes\":{\"children\":[{\"id\":\"647ed9b1-e11f-4d46-9d9a-c6adebfdfb88\",\"subtype\":\"Figure\",\"type\":\"Plot\"},{\"id\":\"f08001c3-677c-4239-8c40-ca43e6cae439\",\"subtype\":\"Figure\",\"type\":\"Plot\"}]},\"id\":\"d0dc825f-af84-435f-be93-0e9396793cf0\",\"type\":\"Row\"},{\"attributes\":{},\"id\":\"ec0c1a14-d0ca-476c-b241-8150a854e4b7\",\"type\":\"UnionRenderers\"},{\"attributes\":{},\"id\":\"85f97000-1ba9-4c41-8807-7f5fcb83a351\",\"type\":\"ResetTool\"},{\"attributes\":{\"label\":{\"value\":\"CLIRAD `coolr_bands`\"},\"renderers\":[{\"id\":\"cafec887-62cf-4611-9d30-feb12d79b2d6\",\"type\":\"GlyphRenderer\"}]},\"id\":\"4f11a152-32c1-469f-bfc8-bd795c9bb6c0\",\"type\":\"LegendItem\"},{\"attributes\":{},\"id\":\"bbc593bb-4a20-4024-9bbf-3d2d0ae96216\",\"type\":\"BasicTickFormatter\"},{\"attributes\":{\"axis_label\":\"cooling rate [K/day]\",\"formatter\":{\"id\":\"ab8ff580-7001-4892-a4a3-4b0afa1045f0\",\"type\":\"BasicTickFormatter\"},\"plot\":{\"id\":\"647ed9b1-e11f-4d46-9d9a-c6adebfdfb88\",\"subtype\":\"Figure\",\"type\":\"Plot\"},\"ticker\":{\"id\":\"382e8d10-4171-4e31-bd8c-d86e798a8b41\",\"type\":\"BasicTicker\"}},\"id\":\"74995b3d-17ff-4bd4-a542-4ccde87a301b\",\"type\":\"LinearAxis\"},{\"attributes\":{\"label\":{\"value\":\"CRD\"},\"renderers\":[{\"id\":\"d1048944-b1f9-4e9a-97c9-4f78e7ad8b37\",\"type\":\"GlyphRenderer\"},{\"id\":\"ddd499b8-ab0c-4a77-8e66-ea44e0e6d9ef\",\"type\":\"GlyphRenderer\"}]},\"id\":\"21242988-31f0-4f1c-aff4-b027e9178fc4\",\"type\":\"LegendItem\"},{\"attributes\":{\"fill_alpha\":{\"value\":0.7},\"fill_color\":{\"value\":\"#984ea3\"},\"line_alpha\":{\"value\":0.7},\"line_color\":{\"value\":\"#984ea3\"},\"x\":{\"field\":\"x\"},\"y\":{\"field\":\"y\"}},\"id\":\"49e207a7-0474-4e7b-944d-cdb41f5637a2\",\"type\":\"Square\"},{\"attributes\":{},\"id\":\"e7f27b7d-6ef3-4162-87dc-b281cf522ee2\",\"type\":\"UnionRenderers\"},{\"attributes\":{\"source\":{\"id\":\"833793d3-6f8e-4045-8769-3ebc7ecf530f\",\"type\":\"ColumnDataSource\"}},\"id\":\"65173553-048f-4602-9ee4-1037faf64d6d\",\"type\":\"CDSView\"},{\"attributes\":{\"label\":{\"value\":\"WGT igg=10 wgt_flux=2\"},\"renderers\":[{\"id\":\"d1a79753-e9ad-43f2-a9fe-27404318d05c\",\"type\":\"GlyphRenderer\"},{\"id\":\"e255a9e5-9cd7-4bf8-bd6a-df5569c3ac09\",\"type\":\"GlyphRenderer\"}]},\"id\":\"1a5c2d41-fe4c-43a2-95c6-dd3ae1090751\",\"type\":\"LegendItem\"},{\"attributes\":{},\"id\":\"f106073d-214a-4d08-a854-14035f15a522\",\"type\":\"Selection\"},{\"attributes\":{},\"id\":\"ab8ff580-7001-4892-a4a3-4b0afa1045f0\",\"type\":\"BasicTickFormatter\"},{\"attributes\":{\"source\":{\"id\":\"bc0fcc0e-b938-4ae1-9839-10a0480fd0ac\",\"type\":\"ColumnDataSource\"}},\"id\":\"8a28e4dc-74a0-49e4-b1b2-4f3eef7d1773\",\"type\":\"CDSView\"},{\"attributes\":{\"callback\":null,\"data\":{\"x\":{\"__ndarray__\":\"Dz+khAUMGEC6GF6kq1cSQM61eS0yOxFAaP3SR4XmD0C7W1misxwNQEtYG2MnPApALs5zn3deB0DeLwuS45MEQGvz/6oj5wFAF3w/2qTH/j/E+YokMCz6PwNs9vadFfY/gkEtYcil8j8MlLEtRSrvPyUNZvrCd+k/e/9Z0tUG5T8HryMv5wniPztNbi32K+A/2DekD2WB3j+0D0eRlHjeP3IfkLa3XOA/pyk8R2iU4D+wKvM9wKbeP9iPoDpOeNw/MTrmXXHI2j8ZMgUIchLZP8T4/kCYH9c/AHMtWoB21T/YGgBgK5fUP3Os/zF83dM/2IL/KSzj0j+PL6nzC6PRP2/ErHpt9NA/XWiVNqj/0D8Ds0KR7ufQP9y8cVKYt9A/D4VLnh120D9W1lfTzAXQPz9CxR/ictQ/PQkyIzjF1z9wxMUXDkDaPxi6ChCiSNo/vDFvm8qe2T/hh1oF96TYP67tkt1xr9Y/V9pWcbLm1T8dNS41pSnYP4qu6jBP/No/nymuCe2F4T/DvyG305TlP9Gbo/G4Juc/Qk5vsWi75j8AR0yaUBLlPzZJXmO4tuI/qouIINb03z8vpIEnRjnaP7oMYhTCstQ//ip+W8lxzz8wfuBLXQnHP1qA1+OVVsA/cK166buVtj9WdcGm77GuP5Cy8olEuqQ/IJwNAdlOnD9DVwu0hzKUP7X4vv8pMZA/g7Z5PF14kD+yPnb70vmVP0slhXeOCJ8/DenyEfEJoj85zDelM2WeP8ePhL9XW5I/Tm0VsqY6gD9XR+DgKg5ZPwKkTw4Ty5G/\",\"dtype\":\"float64\",\"shape\":[75]},\"y\":{\"__ndarray__\":\"GhExyth1ND/Sv8nbtpRIP2vylNV0PVE/aTum7souWD/At0SJ8fVgPw3Iuahxymc/MSNhhJWvcD/bTfBN02d3P2zb5nxnaoA/CD5h5MAGhz8NmeH1TyaQP+zrCsc9p5Y/LbKd76fGnz/bLW5ISEmmPww9YvTcQq8/JV2OstnstT8Er5Y7M8G+P0c+r3jqkcU/5h99k6ZBzj88bCIzFzjVP4enV8oyxN0//yH99nXg5D8qOpLLf0jtP5kqGJXUifQ/c9cS8kHP/D+/DpwzojQEQIEmwoanVwxA4lgXt9HgE0BSSZ2AJuIbQAMJih9jjiNA5q4l5INuK0AwTKYKRj0zQNv5fmq8/DpAaCJseHrtQkB/+zpwzoxKQM3MzMzMeFJAZmZmZmZqWEAAAAAAAFxeQM3MzMzMJmJAmpmZmZkfZUBmZmZmZhhoQDMzMzMzEWtAAAAAAAAKbkBmZmZmZoFwQM3MzMzM/XFAMzMzMzN6c0CamZmZmfZ0QAAAAAAAc3ZAZmZmZmbvd0DNzMzMzGt5QDMzMzMz6HpAmpmZmZlkfEAAAAAAAOF9QGZmZmZmXX9AZmZmZuZsgECamZmZGSuBQM3MzMxM6YFAAAAAAICngkAzMzMzs2WDQGZmZmbmI4RAmpmZmRnihEDNzMzMTKCFQAAAAACAXoZAMzMzM7Mch0BmZmZm5tqHQJqZmZkZmYhAzczMzExXiUAAAAAAgBWKQDMzMzOz04pAZmZmZuaRi0CamZmZGVCMQM3MzMxMDo1AAAAAAIDMjUAzMzMzs4qOQGZmZmbmSI9A\",\"dtype\":\"float64\",\"shape\":[75]}},\"selected\":{\"id\":\"647bf2dc-a10b-4b97-b152-e872d3b73616\",\"type\":\"Selection\"},\"selection_policy\":{\"id\":\"eb0ba963-5d33-42eb-b75d-efa533e0f0b9\",\"type\":\"UnionRenderers\"}},\"id\":\"9ea16d09-c247-47e5-b80e-3cc337e11c0b\",\"type\":\"ColumnDataSource\"},{\"attributes\":{\"data_source\":{\"id\":\"fbfac968-6b3f-4619-b8d3-9a6253fc071b\",\"type\":\"ColumnDataSource\"},\"glyph\":{\"id\":\"49e207a7-0474-4e7b-944d-cdb41f5637a2\",\"type\":\"Square\"},\"hover_glyph\":null,\"muted_glyph\":null,\"nonselection_glyph\":{\"id\":\"0e174b7a-c7b7-4ff1-a0ff-d062500d362c\",\"type\":\"Square\"},\"selection_glyph\":null,\"view\":{\"id\":\"d0e524c1-2a81-4f71-820f-88f5a02ae87b\",\"type\":\"CDSView\"}},\"id\":\"1788c795-141b-4015-99ee-223209bd7a66\",\"type\":\"GlyphRenderer\"},{\"attributes\":{\"ticker\":null},\"id\":\"cffd7082-5354-4bb8-821d-599cb50e20bd\",\"type\":\"LogTickFormatter\"},{\"attributes\":{\"callback\":null,\"data\":{\"x\":{\"__ndarray__\":\"LhBOVeueC0Bd1mlJ7P8JQH2YvWw7XQpALXcLyW47CkCMcVnghnMJQNpbJbPV8AdAMOhzpOmyBUCpYs9DEvICQDCE97ByEwBAVMyciUQc+z8NuimK/F/3P1m1tc90wPQ/9hj2xe+X8j9Ads2aDhPwP9ymT90iEeo/o4bCqQeT5D83E3jM5evgP983fNr6jN4//ITc2vze3T/IBcoaszTePxnXCXlOxN8/FYiF96jB3z/sB6fLg3DePxeKCaSjIN4/qubFy8tI3T+vgcavzNnaP9mjondLLtg/nlFnrAUP1T/1/OVqllHTPyV6lYzO/9I/9FPa6otn0j/iMwK/gP3QP6jL3ilPptA/P68VwNbd0D8fxygy55fQP0z33++8OdA/HCXx6gPmzj82MwJDuWHNP7Qwdoig5tI/K6axQU+Y1j/dXWdD/lnZP0PGJ41mX9k/1XwRREij2D8YFJvJFg3YP6yBGK4vztY/Y1tpxmCN1j9UhKP9chrZP0Dn4i1fsNs/oUTwZNyZ4T+WL2CwuGvlPy/v/U/2fec/akXEYg4B6D8xNbaVZkzmP+uWV42pBOM/gn8ACA7e3z+q/N/P+NfaP7k9Wv9bB9Y/q+4uo5rK0D9jBaZwkFLHP/WOprxO0b0/rOwlB5jrsT9aCc76QxylP5wH7yzztpk/dWAnX0oJkT/ORyHiSX+JPy8vI2n13YY/nBYNMCvIij8WVYzhVOWTP82/hnUdiZ0/Bl4U2sV2oT9lfVbbRX+dPy1fdtNWupE/Pk+Wsjk7fz/9uV5WBcNZP0UAOkOmuZG/\",\"dtype\":\"float64\",\"shape\":[75]},\"y\":{\"__ndarray__\":\"S/O/Q+51ND/Sv8nbtpRIP2vylNV0PVE/aTum7souWD/At0SJ8fVgPw3Iuahxymc/MSNhhJWvcD/bTfBN02d3P2zb5nxnaoA/CD5h5MAGhz8NmeH1TyaQP+zrCsc9p5Y/LbKd76fGnz/bLW5ISEmmPww9YvTcQq8/JV2OstnstT8Er5Y7M8G+P0c+r3jqkcU/5h99k6ZBzj88bCIzFzjVP4enV8oyxN0//yH99nXg5D8qOpLLf0jtP5kqGJXUifQ/c9cS8kHP/D+/DpwzojQEQIEmwoanVwxA4lgXt9HgE0BSSZ2AJuIbQAMJih9jjiNA5q4l5INuK0AwTKYKRj0zQNv5fmq8/DpAaCJseHrtQkB/+zpwzoxKQM3MzMzMeFJAZmZmZmZqWEAAAAAAAFxeQM3MzMzMJmJAmpmZmZkfZUBmZmZmZhhoQDMzMzMzEWtAAAAAAAAKbkBmZmZmZoFwQM3MzMzM/XFAMzMzMzN6c0CamZmZmfZ0QAAAAAAAc3ZAZmZmZmbvd0DNzMzMzGt5QDMzMzMz6HpAmpmZmZlkfEAAAAAAAOF9QGZmZmZmXX9AZmZmZuZsgECamZmZGSuBQM3MzMxM6YFAAAAAAICngkAzMzMzs2WDQGZmZmbmI4RAmpmZmRnihEDNzMzMTKCFQAAAAACAXoZAMzMzM7Mch0BmZmZm5tqHQJqZmZkZmYhAzczMzExXiUAAAAAAgBWKQDMzMzOz04pAZmZmZuaRi0CamZmZGVCMQM3MzMxMDo1AAAAAAIDMjUAzMzMzs4qOQGZmZmbmSI9A\",\"dtype\":\"float64\",\"shape\":[75]}},\"selected\":{\"id\":\"1a3f1f5e-8f80-415b-a765-8cdae8127fe0\",\"type\":\"Selection\"},\"selection_policy\":{\"id\":\"ec525b9d-a46a-42d0-808a-5c103840582e\",\"type\":\"UnionRenderers\"}},\"id\":\"1a22c7d6-23af-45fd-a941-7678ad5cb44d\",\"type\":\"ColumnDataSource\"},{\"attributes\":{},\"id\":\"2518d8ad-b932-4182-8b99-131d0545d3e5\",\"type\":\"UnionRenderers\"},{\"attributes\":{\"line_color\":\"#4daf4a\",\"line_width\":1.5,\"x\":{\"field\":\"x\"},\"y\":{\"field\":\"y\"}},\"id\":\"e81d8751-0188-47f6-9607-0d3a58e7df73\",\"type\":\"Line\"},{\"attributes\":{},\"id\":\"43758814-b24f-47dd-ae3e-f0b65142c62d\",\"type\":\"UnionRenderers\"},{\"attributes\":{},\"id\":\"9ab678ec-67b0-4eb9-8881-f4dbcb492032\",\"type\":\"Selection\"},{\"attributes\":{\"source\":{\"id\":\"1a22c7d6-23af-45fd-a941-7678ad5cb44d\",\"type\":\"ColumnDataSource\"}},\"id\":\"a495ada0-8c42-4ced-a270-b18764d1053b\",\"type\":\"CDSView\"},{\"attributes\":{},\"id\":\"a6ec6b40-30de-4ecd-b373-299cbb3d4608\",\"type\":\"Selection\"},{\"attributes\":{},\"id\":\"647bf2dc-a10b-4b97-b152-e872d3b73616\",\"type\":\"Selection\"},{\"attributes\":{},\"id\":\"382e8d10-4171-4e31-bd8c-d86e798a8b41\",\"type\":\"BasicTicker\"},{\"attributes\":{},\"id\":\"a5e3b2a7-b8a8-42c9-87ea-ea980d51cdd1\",\"type\":\"Selection\"},{\"attributes\":{},\"id\":\"1babab6a-b8f0-4dac-8bd6-6a85fd081343\",\"type\":\"BasicTickFormatter\"},{\"attributes\":{\"overlay\":{\"id\":\"bf11e7d1-dca7-4ab6-b148-3edf1cb41e1c\",\"type\":\"BoxAnnotation\"}},\"id\":\"2f8e514d-200d-4a84-a6f1-91430c15587a\",\"type\":\"BoxZoomTool\"},{\"attributes\":{},\"id\":\"1a3f1f5e-8f80-415b-a765-8cdae8127fe0\",\"type\":\"Selection\"},{\"attributes\":{\"fill_alpha\":{\"value\":0.1},\"fill_color\":{\"value\":\"#1f77b4\"},\"line_alpha\":{\"value\":0.1},\"line_color\":{\"value\":\"#1f77b4\"},\"x\":{\"field\":\"x\"},\"y\":{\"field\":\"y\"}},\"id\":\"e366ddb1-3c54-4937-bc40-3329a3d0fdfd\",\"type\":\"Circle\"},{\"attributes\":{},\"id\":\"eb0ba963-5d33-42eb-b75d-efa533e0f0b9\",\"type\":\"UnionRenderers\"},{\"attributes\":{},\"id\":\"ec525b9d-a46a-42d0-808a-5c103840582e\",\"type\":\"UnionRenderers\"},{\"attributes\":{},\"id\":\"c7d3adb1-f1cd-4363-b573-256c3b0510b7\",\"type\":\"Selection\"},{\"attributes\":{\"toolbar\":{\"id\":\"5ba56c1f-d638-4215-aafd-fc6b7dd4bfdc\",\"type\":\"ProxyToolbar\"},\"toolbar_location\":\"above\"},\"id\":\"570f3f88-aab6-468e-9ea4-f1e3bce026eb\",\"type\":\"ToolbarBox\"},{\"attributes\":{\"callback\":null,\"data\":{\"x\":{\"__ndarray__\":\"Dz+khAUMGEC6GF6kq1cSQM61eS0yOxFAaP3SR4XmD0C7W1misxwNQEtYG2MnPApALs5zn3deB0DeLwuS45MEQGvz/6oj5wFAF3w/2qTH/j/E+YokMCz6PwNs9vadFfY/gkEtYcil8j8MlLEtRSrvPyUNZvrCd+k/e/9Z0tUG5T8HryMv5wniPztNbi32K+A/2DekD2WB3j+0D0eRlHjeP3IfkLa3XOA/pyk8R2iU4D+wKvM9wKbeP9iPoDpOeNw/MTrmXXHI2j8ZMgUIchLZP8T4/kCYH9c/AHMtWoB21T/YGgBgK5fUP3Os/zF83dM/2IL/KSzj0j+PL6nzC6PRP2/ErHpt9NA/XWiVNqj/0D8Ds0KR7ufQP9y8cVKYt9A/D4VLnh120D9W1lfTzAXQPz9CxR/ictQ/PQkyIzjF1z9wxMUXDkDaPxi6ChCiSNo/vDFvm8qe2T/hh1oF96TYP67tkt1xr9Y/V9pWcbLm1T8dNS41pSnYP4qu6jBP/No/nymuCe2F4T/DvyG305TlP9Gbo/G4Juc/Qk5vsWi75j8AR0yaUBLlPzZJXmO4tuI/qouIINb03z8vpIEnRjnaP7oMYhTCstQ//ip+W8lxzz8wfuBLXQnHP1qA1+OVVsA/cK166buVtj9WdcGm77GuP5Cy8olEuqQ/IJwNAdlOnD9DVwu0hzKUP7X4vv8pMZA/g7Z5PF14kD+yPnb70vmVP0slhXeOCJ8/DenyEfEJoj85zDelM2WeP8ePhL9XW5I/Tm0VsqY6gD9XR+DgKg5ZPwKkTw4Ty5G/\",\"dtype\":\"float64\",\"shape\":[75]},\"y\":{\"__ndarray__\":\"GhExyth1ND/Sv8nbtpRIP2vylNV0PVE/aTum7souWD/At0SJ8fVgPw3Iuahxymc/MSNhhJWvcD/bTfBN02d3P2zb5nxnaoA/CD5h5MAGhz8NmeH1TyaQP+zrCsc9p5Y/LbKd76fGnz/bLW5ISEmmPww9YvTcQq8/JV2OstnstT8Er5Y7M8G+P0c+r3jqkcU/5h99k6ZBzj88bCIzFzjVP4enV8oyxN0//yH99nXg5D8qOpLLf0jtP5kqGJXUifQ/c9cS8kHP/D+/DpwzojQEQIEmwoanVwxA4lgXt9HgE0BSSZ2AJuIbQAMJih9jjiNA5q4l5INuK0AwTKYKRj0zQNv5fmq8/DpAaCJseHrtQkB/+zpwzoxKQM3MzMzMeFJAZmZmZmZqWEAAAAAAAFxeQM3MzMzMJmJAmpmZmZkfZUBmZmZmZhhoQDMzMzMzEWtAAAAAAAAKbkBmZmZmZoFwQM3MzMzM/XFAMzMzMzN6c0CamZmZmfZ0QAAAAAAAc3ZAZmZmZmbvd0DNzMzMzGt5QDMzMzMz6HpAmpmZmZlkfEAAAAAAAOF9QGZmZmZmXX9AZmZmZuZsgECamZmZGSuBQM3MzMxM6YFAAAAAAICngkAzMzMzs2WDQGZmZmbmI4RAmpmZmRnihEDNzMzMTKCFQAAAAACAXoZAMzMzM7Mch0BmZmZm5tqHQJqZmZkZmYhAzczMzExXiUAAAAAAgBWKQDMzMzOz04pAZmZmZuaRi0CamZmZGVCMQM3MzMxMDo1AAAAAAIDMjUAzMzMzs4qOQGZmZmbmSI9A\",\"dtype\":\"float64\",\"shape\":[75]}},\"selected\":{\"id\":\"ceed6819-a8d6-4296-b720-ec27e584c41f\",\"type\":\"Selection\"},\"selection_policy\":{\"id\":\"ce3848f0-ad7b-4234-a9f0-9a43937dbb37\",\"type\":\"UnionRenderers\"}},\"id\":\"833793d3-6f8e-4045-8769-3ebc7ecf530f\",\"type\":\"ColumnDataSource\"},{\"attributes\":{},\"id\":\"b9310787-bf51-4ced-b497-53404ed6e86c\",\"type\":\"Selection\"},{\"attributes\":{},\"id\":\"2b90ed28-f364-4e3b-b303-ffa50b40a2f3\",\"type\":\"UnionRenderers\"},{\"attributes\":{},\"id\":\"411c5cb0-5c0c-4c75-8215-215baf760c42\",\"type\":\"UnionRenderers\"},{\"attributes\":{\"children\":[{\"id\":\"570f3f88-aab6-468e-9ea4-f1e3bce026eb\",\"type\":\"ToolbarBox\"},{\"id\":\"61814404-5dcc-455c-9d21-31dd78eeede9\",\"type\":\"Column\"}]},\"id\":\"43a8f9fc-7bcb-4237-9a06-6c7c12efca8f\",\"type\":\"Column\"},{\"attributes\":{\"line_alpha\":0.1,\"line_color\":\"#1f77b4\",\"line_width\":1.5,\"x\":{\"field\":\"x\"},\"y\":{\"field\":\"y\"}},\"id\":\"fdc82b8c-c608-445e-a560-4f9298006823\",\"type\":\"Line\"},{\"attributes\":{},\"id\":\"f381b00b-3a07-4d5d-8c9c-992f0143f816\",\"type\":\"UnionRenderers\"},{\"attributes\":{\"callback\":null,\"data\":{\"x\":{\"__ndarray__\":\"Dz+khAUMGEC6GF6kq1cSQM61eS0yOxFAaP3SR4XmD0C7W1misxwNQEtYG2MnPApALs5zn3deB0DeLwuS45MEQGvz/6oj5wFAF3w/2qTH/j/E+YokMCz6PwNs9vadFfY/gkEtYcil8j8MlLEtRSrvPyUNZvrCd+k/e/9Z0tUG5T8HryMv5wniPztNbi32K+A/2DekD2WB3j+0D0eRlHjeP3IfkLa3XOA/pyk8R2iU4D+wKvM9wKbeP9iPoDpOeNw/MTrmXXHI2j8ZMgUIchLZP8T4/kCYH9c/AHMtWoB21T/YGgBgK5fUP3Os/zF83dM/2IL/KSzj0j+PL6nzC6PRP2/ErHpt9NA/XWiVNqj/0D8Ds0KR7ufQP9y8cVKYt9A/D4VLnh120D9W1lfTzAXQPz9CxR/ictQ/PQkyIzjF1z9wxMUXDkDaPxi6ChCiSNo/vDFvm8qe2T/hh1oF96TYP67tkt1xr9Y/V9pWcbLm1T8dNS41pSnYP4qu6jBP/No/nymuCe2F4T/DvyG305TlP9Gbo/G4Juc/Qk5vsWi75j8AR0yaUBLlPzZJXmO4tuI/qouIINb03z8vpIEnRjnaP7oMYhTCstQ//ip+W8lxzz8wfuBLXQnHP1qA1+OVVsA/cK166buVtj9WdcGm77GuP5Cy8olEuqQ/IJwNAdlOnD9DVwu0hzKUP7X4vv8pMZA/g7Z5PF14kD+yPnb70vmVP0slhXeOCJ8/DenyEfEJoj85zDelM2WeP8ePhL9XW5I/Tm0VsqY6gD9XR+DgKg5ZPwKkTw4Ty5G/\",\"dtype\":\"float64\",\"shape\":[75]},\"y\":{\"__ndarray__\":\"GhExyth1ND/Sv8nbtpRIP2vylNV0PVE/aTum7souWD/At0SJ8fVgPw3Iuahxymc/MSNhhJWvcD/bTfBN02d3P2zb5nxnaoA/CD5h5MAGhz8NmeH1TyaQP+zrCsc9p5Y/LbKd76fGnz/bLW5ISEmmPww9YvTcQq8/JV2OstnstT8Er5Y7M8G+P0c+r3jqkcU/5h99k6ZBzj88bCIzFzjVP4enV8oyxN0//yH99nXg5D8qOpLLf0jtP5kqGJXUifQ/c9cS8kHP/D+/DpwzojQEQIEmwoanVwxA4lgXt9HgE0BSSZ2AJuIbQAMJih9jjiNA5q4l5INuK0AwTKYKRj0zQNv5fmq8/DpAaCJseHrtQkB/+zpwzoxKQM3MzMzMeFJAZmZmZmZqWEAAAAAAAFxeQM3MzMzMJmJAmpmZmZkfZUBmZmZmZhhoQDMzMzMzEWtAAAAAAAAKbkBmZmZmZoFwQM3MzMzM/XFAMzMzMzN6c0CamZmZmfZ0QAAAAAAAc3ZAZmZmZmbvd0DNzMzMzGt5QDMzMzMz6HpAmpmZmZlkfEAAAAAAAOF9QGZmZmZmXX9AZmZmZuZsgECamZmZGSuBQM3MzMxM6YFAAAAAAICngkAzMzMzs2WDQGZmZmbmI4RAmpmZmRnihEDNzMzMTKCFQAAAAACAXoZAMzMzM7Mch0BmZmZm5tqHQJqZmZkZmYhAzczMzExXiUAAAAAAgBWKQDMzMzOz04pAZmZmZuaRi0CamZmZGVCMQM3MzMxMDo1AAAAAAIDMjUAzMzMzs4qOQGZmZmbmSI9A\",\"dtype\":\"float64\",\"shape\":[75]}},\"selected\":{\"id\":\"fd3fb5e0-e364-46f1-b322-90204a1e1ec0\",\"type\":\"Selection\"},\"selection_policy\":{\"id\":\"ec0c1a14-d0ca-476c-b241-8150a854e4b7\",\"type\":\"UnionRenderers\"}},\"id\":\"33b7f660-38bc-4b87-9b26-a0e77a4bd5f1\",\"type\":\"ColumnDataSource\"},{\"attributes\":{\"tools\":[{\"id\":\"65d78945-84ca-4fa6-9bca-8cb7c1c46384\",\"type\":\"PanTool\"},{\"id\":\"9631df87-d598-46ba-97a0-b289a09cdcec\",\"type\":\"WheelZoomTool\"},{\"id\":\"2f8e514d-200d-4a84-a6f1-91430c15587a\",\"type\":\"BoxZoomTool\"},{\"id\":\"e88a3629-c2b0-4138-b467-64154cf80397\",\"type\":\"SaveTool\"},{\"id\":\"85f97000-1ba9-4c41-8807-7f5fcb83a351\",\"type\":\"ResetTool\"},{\"id\":\"04ca4eb9-b33e-41f8-97b5-c08c81673cd9\",\"type\":\"HelpTool\"},{\"id\":\"fbf3086c-8b31-4f95-ab02-bd13c1fcbf21\",\"type\":\"PanTool\"},{\"id\":\"ad2a6b37-0cb5-43cf-85fc-2f5ef94dcb7d\",\"type\":\"WheelZoomTool\"},{\"id\":\"0933b84b-6624-404d-ba8f-29fb5ffe129b\",\"type\":\"BoxZoomTool\"},{\"id\":\"1b9f7988-2c86-47ca-90b8-61bc286511ce\",\"type\":\"SaveTool\"},{\"id\":\"484c6a81-187e-4540-9c42-7219be7ea667\",\"type\":\"ResetTool\"},{\"id\":\"a5e0c138-a164-4994-81f4-bf96ff850ceb\",\"type\":\"HelpTool\"}]},\"id\":\"5ba56c1f-d638-4215-aafd-fc6b7dd4bfdc\",\"type\":\"ProxyToolbar\"},{\"attributes\":{\"callback\":null,\"data\":{\"x\":{\"__ndarray__\":\"IGsjkYC6D0D0JliN+QYMQPWloQF70AtAGu0mDEEWC0AO5WzlVccJQJuT4ORb6wdA1S49QpOcBUCOdx8X+wcDQPIHIwdDbABAGPisNQUU/D+ZIT76jBn4P9ZQbYiE8PQ//IN5AV1l8j80BugLmcPvP65Vt9S2Teo/a5kYbSSG5T9HpFAwoy/iP93M9ACwWOA/UB0NOLeF3z+/yPr3aAPgPyaQFDEbM+E/eRKfXz6D4T/MrGA+kp/gPx9jDDPwBOA/D27ex4Ob3j/ej57vLSDcP9jbZJdaFdk/6rps1hVN1j9KhuCqc6/UPye/jQ5AD9Q/PEr0yqlp0z+5jKVmYzbSP8mfRrwlsNE/JTb+kILn0T+qMO+ekavRP3WEiAXfONE/9PfZxpag0D9h27KVfMXPP3k5gCGUHNQ/V490All71z+NOP/XAhDaP7JCua5dCdo/PUE3NIJF2T9dQmGNAFHYP5AFFjtKeNY/DfSEg9Lh1T+Vt+NFg13YP8cwlC0LNds/Cu2FYV6G4T+RpPTAvWflP73igwb4Cec/i/8Qhqb/5j+0SG+KJl/lP3d2k04IgOI/3/RBIs+43j97TMJOSR/ZP/3ry/KuLtQ/snJqZqUlzz/uSdoDKpTGP7DVf1Z8474/kH8g7UwTtD9bmdvIGFWpP+MdET3y658/34WGJSnZlD/0zFQh0aqNP5fP3Lfx9ok/zu7/0yNXiz/x3VaEAByUPxi+igZtvJ0/Bxw+QTiNoT+cOzUzLqmdP+63tR/R2JE/GH6mYWttfz/sqEQntlRZP9RyFAmsqpG/\",\"dtype\":\"float64\",\"shape\":[75]},\"y\":{\"__ndarray__\":\"GhExyth1ND/Sv8nbtpRIP2vylNV0PVE/aTum7souWD/At0SJ8fVgPw3Iuahxymc/MSNhhJWvcD/bTfBN02d3P2zb5nxnaoA/CD5h5MAGhz8NmeH1TyaQP+zrCsc9p5Y/LbKd76fGnz/bLW5ISEmmPww9YvTcQq8/JV2OstnstT8Er5Y7M8G+P0c+r3jqkcU/5h99k6ZBzj88bCIzFzjVP4enV8oyxN0//yH99nXg5D8qOpLLf0jtP5kqGJXUifQ/c9cS8kHP/D+/DpwzojQEQIEmwoanVwxA4lgXt9HgE0BSSZ2AJuIbQAMJih9jjiNA5q4l5INuK0AwTKYKRj0zQNv5fmq8/DpAaCJseHrtQkB/+zpwzoxKQM3MzMzMeFJAZmZmZmZqWEAAAAAAAFxeQM3MzMzMJmJAmpmZmZkfZUBmZmZmZhhoQDMzMzMzEWtAAAAAAAAKbkBmZmZmZoFwQM3MzMzM/XFAMzMzMzN6c0CamZmZmfZ0QAAAAAAAc3ZAZmZmZmbvd0DNzMzMzGt5QDMzMzMz6HpAmpmZmZlkfEAAAAAAAOF9QGZmZmZmXX9AZmZmZuZsgECamZmZGSuBQM3MzMxM6YFAAAAAAICngkAzMzMzs2WDQGZmZmbmI4RAmpmZmRnihEDNzMzMTKCFQAAAAACAXoZAMzMzM7Mch0BmZmZm5tqHQJqZmZkZmYhAzczMzExXiUAAAAAAgBWKQDMzMzOz04pAZmZmZuaRi0CamZmZGVCMQM3MzMxMDo1AAAAAAIDMjUAzMzMzs4qOQGZmZmbmSI9A\",\"dtype\":\"float64\",\"shape\":[75]}},\"selected\":{\"id\":\"a6ec6b40-30de-4ecd-b373-299cbb3d4608\",\"type\":\"Selection\"},\"selection_policy\":{\"id\":\"2518d8ad-b932-4182-8b99-131d0545d3e5\",\"type\":\"UnionRenderers\"}},\"id\":\"fbfac968-6b3f-4619-b8d3-9a6253fc071b\",\"type\":\"ColumnDataSource\"},{\"attributes\":{\"fill_alpha\":{\"value\":0.7},\"fill_color\":{\"value\":\"#4daf4a\"},\"line_alpha\":{\"value\":0.7},\"line_color\":{\"value\":\"#4daf4a\"},\"x\":{\"field\":\"x\"},\"y\":{\"field\":\"y\"}},\"id\":\"9f144bc5-38fd-4a89-9a2e-3a4efd037e05\",\"type\":\"Circle\"}],\"root_ids\":[\"43a8f9fc-7bcb-4237-9a06-6c7c12efca8f\"]},\"title\":\"Bokeh Application\",\"version\":\"0.12.16\"}};\n",
       "  var render_items = [{\"docid\":\"2bafd9c4-6e98-4b05-a34c-6d1595a21cb0\",\"elementid\":\"bfced3c6-748c-4ac5-94a6-19e9ad0d8ba6\",\"modelid\":\"43a8f9fc-7bcb-4237-9a06-6c7c12efca8f\"}];\n",
       "  root.Bokeh.embed.embed_items_notebook(docs_json, render_items);\n",
       "\n",
       "  }\n",
       "  if (root.Bokeh !== undefined) {\n",
       "    embed_document(root);\n",
       "  } else {\n",
       "    var attempts = 0;\n",
       "    var timer = setInterval(function(root) {\n",
       "      if (root.Bokeh !== undefined) {\n",
       "        embed_document(root);\n",
       "        clearInterval(timer);\n",
       "      }\n",
       "      attempts++;\n",
       "      if (attempts > 100) {\n",
       "        console.log(\"Bokeh: ERROR: Unable to run BokehJS code because BokehJS library is missing\")\n",
       "        clearInterval(timer);\n",
       "      }\n",
       "    }, 10, root)\n",
       "  }\n",
       "})(window);"
      ],
      "application/vnd.bokehjs_exec.v0+json": ""
     },
     "metadata": {
      "application/vnd.bokehjs_exec.v0+json": {
       "id": "43a8f9fc-7bcb-4237-9a06-6c7c12efca8f"
      }
     },
     "output_type": "display_data"
    },
    {
     "name": "stdout",
     "output_type": "stream",
     "text": [
      "FIGURE. Cooling rate profiles.\n"
     ]
    },
    {
     "data": {
      "text/html": [
       "<a id=\"Flux_Comparison\"></a>"
      ],
      "text/plain": [
       "<IPython.core.display.HTML object>"
      ]
     },
     "metadata": {},
     "output_type": "display_data"
    },
    {
     "data": {
      "text/markdown": [
       "# Flux Comparison"
      ],
      "text/plain": [
       "<IPython.core.display.Markdown object>"
      ]
     },
     "metadata": {},
     "output_type": "display_data"
    },
    {
     "data": {
      "text/html": [
       "<div>\n",
       "<style scoped>\n",
       "    .dataframe tbody tr th:only-of-type {\n",
       "        vertical-align: middle;\n",
       "    }\n",
       "\n",
       "    .dataframe tbody tr th {\n",
       "        vertical-align: top;\n",
       "    }\n",
       "\n",
       "    .dataframe thead th {\n",
       "        text-align: right;\n",
       "    }\n",
       "</style>\n",
       "<table border=\"1\" class=\"dataframe\">\n",
       "  <thead>\n",
       "    <tr style=\"text-align: right;\">\n",
       "      <th></th>\n",
       "      <th></th>\n",
       "      <th>flug</th>\n",
       "      <th>fldg</th>\n",
       "      <th>fnetg</th>\n",
       "    </tr>\n",
       "    <tr>\n",
       "      <th>pressure</th>\n",
       "      <th>level</th>\n",
       "      <th></th>\n",
       "      <th></th>\n",
       "      <th></th>\n",
       "    </tr>\n",
       "  </thead>\n",
       "  <tbody>\n",
       "    <tr>\n",
       "      <th>0.0000</th>\n",
       "      <th>1</th>\n",
       "      <td>-31.956085</td>\n",
       "      <td>0.000000</td>\n",
       "      <td>-31.956085</td>\n",
       "    </tr>\n",
       "    <tr>\n",
       "      <th>1.0685</th>\n",
       "      <th>24</th>\n",
       "      <td>-31.950595</td>\n",
       "      <td>0.065412</td>\n",
       "      <td>-31.885184</td>\n",
       "    </tr>\n",
       "    <tr>\n",
       "      <th>1013.0000</th>\n",
       "      <th>76</th>\n",
       "      <td>-40.261468</td>\n",
       "      <td>40.375401</td>\n",
       "      <td>0.113933</td>\n",
       "    </tr>\n",
       "  </tbody>\n",
       "</table>\n",
       "</div>"
      ],
      "text/plain": [
       "                      flug       fldg      fnetg\n",
       "pressure  level                                 \n",
       "0.0000    1     -31.956085   0.000000 -31.956085\n",
       "1.0685    24    -31.950595   0.065412 -31.885184\n",
       "1013.0000 76    -40.261468  40.375401   0.113933"
      ]
     },
     "metadata": {},
     "output_type": "display_data"
    },
    {
     "name": "stdout",
     "output_type": "stream",
     "text": [
      "Table. Fluxes. CRD\n"
     ]
    },
    {
     "data": {
      "text/html": [
       "<div>\n",
       "<style scoped>\n",
       "    .dataframe tbody tr th:only-of-type {\n",
       "        vertical-align: middle;\n",
       "    }\n",
       "\n",
       "    .dataframe tbody tr th {\n",
       "        vertical-align: top;\n",
       "    }\n",
       "\n",
       "    .dataframe thead th {\n",
       "        text-align: right;\n",
       "    }\n",
       "</style>\n",
       "<table border=\"1\" class=\"dataframe\">\n",
       "  <thead>\n",
       "    <tr style=\"text-align: right;\">\n",
       "      <th></th>\n",
       "      <th></th>\n",
       "      <th>flug</th>\n",
       "      <th>fldg</th>\n",
       "      <th>fnetg</th>\n",
       "    </tr>\n",
       "    <tr>\n",
       "      <th>pressure</th>\n",
       "      <th>level</th>\n",
       "      <th></th>\n",
       "      <th></th>\n",
       "      <th></th>\n",
       "    </tr>\n",
       "  </thead>\n",
       "  <tbody>\n",
       "    <tr>\n",
       "      <th>0.0000</th>\n",
       "      <th>1</th>\n",
       "      <td>-31.700444</td>\n",
       "      <td>0.000000</td>\n",
       "      <td>-31.700444</td>\n",
       "    </tr>\n",
       "    <tr>\n",
       "      <th>1.0685</th>\n",
       "      <th>24</th>\n",
       "      <td>-31.693258</td>\n",
       "      <td>0.066406</td>\n",
       "      <td>-31.626852</td>\n",
       "    </tr>\n",
       "    <tr>\n",
       "      <th>1013.0000</th>\n",
       "      <th>76</th>\n",
       "      <td>-40.261467</td>\n",
       "      <td>40.373400</td>\n",
       "      <td>0.111932</td>\n",
       "    </tr>\n",
       "  </tbody>\n",
       "</table>\n",
       "</div>"
      ],
      "text/plain": [
       "                      flug       fldg      fnetg\n",
       "pressure  level                                 \n",
       "0.0000    1     -31.700444   0.000000 -31.700444\n",
       "1.0685    24    -31.693258   0.066406 -31.626852\n",
       "1013.0000 76    -40.261467  40.373400   0.111932"
      ]
     },
     "metadata": {},
     "output_type": "display_data"
    },
    {
     "name": "stdout",
     "output_type": "stream",
     "text": [
      "Table. Fluxes. WGT igg=10 wgt_flux=1\n"
     ]
    },
    {
     "data": {
      "text/html": [
       "<div>\n",
       "<style scoped>\n",
       "    .dataframe tbody tr th:only-of-type {\n",
       "        vertical-align: middle;\n",
       "    }\n",
       "\n",
       "    .dataframe tbody tr th {\n",
       "        vertical-align: top;\n",
       "    }\n",
       "\n",
       "    .dataframe thead th {\n",
       "        text-align: right;\n",
       "    }\n",
       "</style>\n",
       "<table border=\"1\" class=\"dataframe\">\n",
       "  <thead>\n",
       "    <tr style=\"text-align: right;\">\n",
       "      <th></th>\n",
       "      <th></th>\n",
       "      <th>flug</th>\n",
       "      <th>fldg</th>\n",
       "      <th>fnetg</th>\n",
       "    </tr>\n",
       "    <tr>\n",
       "      <th>pressure</th>\n",
       "      <th>level</th>\n",
       "      <th></th>\n",
       "      <th></th>\n",
       "      <th></th>\n",
       "    </tr>\n",
       "  </thead>\n",
       "  <tbody>\n",
       "    <tr>\n",
       "      <th>1.000000e-08</th>\n",
       "      <th>1</th>\n",
       "      <td>-31.774476</td>\n",
       "      <td>5.809747e-07</td>\n",
       "      <td>-31.774475</td>\n",
       "    </tr>\n",
       "    <tr>\n",
       "      <th>1.068500e+00</th>\n",
       "      <th>24</th>\n",
       "      <td>-31.767979</td>\n",
       "      <td>6.217190e-02</td>\n",
       "      <td>-31.705807</td>\n",
       "    </tr>\n",
       "    <tr>\n",
       "      <th>1.013000e+03</th>\n",
       "      <th>76</th>\n",
       "      <td>-40.261470</td>\n",
       "      <td>4.037278e+01</td>\n",
       "      <td>0.111306</td>\n",
       "    </tr>\n",
       "  </tbody>\n",
       "</table>\n",
       "</div>"
      ],
      "text/plain": [
       "                         flug          fldg      fnetg\n",
       "pressure     level                                    \n",
       "1.000000e-08 1     -31.774476  5.809747e-07 -31.774475\n",
       "1.068500e+00 24    -31.767979  6.217190e-02 -31.705807\n",
       "1.013000e+03 76    -40.261470  4.037278e+01   0.111306"
      ]
     },
     "metadata": {},
     "output_type": "display_data"
    },
    {
     "name": "stdout",
     "output_type": "stream",
     "text": [
      "Table. Fluxes. CLIRAD\n"
     ]
    },
    {
     "data": {
      "text/html": [
       "<div>\n",
       "<style scoped>\n",
       "    .dataframe tbody tr th:only-of-type {\n",
       "        vertical-align: middle;\n",
       "    }\n",
       "\n",
       "    .dataframe tbody tr th {\n",
       "        vertical-align: top;\n",
       "    }\n",
       "\n",
       "    .dataframe thead th {\n",
       "        text-align: right;\n",
       "    }\n",
       "</style>\n",
       "<table border=\"1\" class=\"dataframe\">\n",
       "  <thead>\n",
       "    <tr style=\"text-align: right;\">\n",
       "      <th></th>\n",
       "      <th></th>\n",
       "      <th>flug</th>\n",
       "      <th>fldg</th>\n",
       "      <th>fnetg</th>\n",
       "    </tr>\n",
       "    <tr>\n",
       "      <th>pressure</th>\n",
       "      <th>level</th>\n",
       "      <th></th>\n",
       "      <th></th>\n",
       "      <th></th>\n",
       "    </tr>\n",
       "  </thead>\n",
       "  <tbody>\n",
       "    <tr>\n",
       "      <th>0.0000</th>\n",
       "      <th>1</th>\n",
       "      <td>2.556411e-01</td>\n",
       "      <td>0.000000</td>\n",
       "      <td>0.255641</td>\n",
       "    </tr>\n",
       "    <tr>\n",
       "      <th>1.0685</th>\n",
       "      <th>24</th>\n",
       "      <td>2.573374e-01</td>\n",
       "      <td>0.000994</td>\n",
       "      <td>0.258332</td>\n",
       "    </tr>\n",
       "    <tr>\n",
       "      <th>1013.0000</th>\n",
       "      <th>76</th>\n",
       "      <td>5.997000e-07</td>\n",
       "      <td>-0.002001</td>\n",
       "      <td>-0.002001</td>\n",
       "    </tr>\n",
       "  </tbody>\n",
       "</table>\n",
       "</div>"
      ],
      "text/plain": [
       "                         flug      fldg     fnetg\n",
       "pressure  level                                  \n",
       "0.0000    1      2.556411e-01  0.000000  0.255641\n",
       "1.0685    24     2.573374e-01  0.000994  0.258332\n",
       "1013.0000 76     5.997000e-07 -0.002001 -0.002001"
      ]
     },
     "metadata": {},
     "output_type": "display_data"
    },
    {
     "name": "stdout",
     "output_type": "stream",
     "text": [
      "Table. Fluxes. (WGT igg=10 wgt_flux=1) - (CRD)\n"
     ]
    },
    {
     "data": {
      "text/html": [
       "<div>\n",
       "<style scoped>\n",
       "    .dataframe tbody tr th:only-of-type {\n",
       "        vertical-align: middle;\n",
       "    }\n",
       "\n",
       "    .dataframe tbody tr th {\n",
       "        vertical-align: top;\n",
       "    }\n",
       "\n",
       "    .dataframe thead th {\n",
       "        text-align: right;\n",
       "    }\n",
       "</style>\n",
       "<table border=\"1\" class=\"dataframe\">\n",
       "  <thead>\n",
       "    <tr style=\"text-align: right;\">\n",
       "      <th></th>\n",
       "      <th></th>\n",
       "      <th>flug</th>\n",
       "      <th>fldg</th>\n",
       "      <th>fnetg</th>\n",
       "    </tr>\n",
       "    <tr>\n",
       "      <th>pressure</th>\n",
       "      <th>level</th>\n",
       "      <th></th>\n",
       "      <th></th>\n",
       "      <th></th>\n",
       "    </tr>\n",
       "  </thead>\n",
       "  <tbody>\n",
       "    <tr>\n",
       "      <th>0.0000</th>\n",
       "      <th>1</th>\n",
       "      <td>0.181609</td>\n",
       "      <td>5.809747e-07</td>\n",
       "      <td>0.181610</td>\n",
       "    </tr>\n",
       "    <tr>\n",
       "      <th>1.0685</th>\n",
       "      <th>24</th>\n",
       "      <td>0.182616</td>\n",
       "      <td>-3.239879e-03</td>\n",
       "      <td>0.179377</td>\n",
       "    </tr>\n",
       "    <tr>\n",
       "      <th>1013.0000</th>\n",
       "      <th>76</th>\n",
       "      <td>-0.000002</td>\n",
       "      <td>-2.625000e-03</td>\n",
       "      <td>-0.002627</td>\n",
       "    </tr>\n",
       "  </tbody>\n",
       "</table>\n",
       "</div>"
      ],
      "text/plain": [
       "                     flug          fldg     fnetg\n",
       "pressure  level                                  \n",
       "0.0000    1      0.181609  5.809747e-07  0.181610\n",
       "1.0685    24     0.182616 -3.239879e-03  0.179377\n",
       "1013.0000 76    -0.000002 -2.625000e-03 -0.002627"
      ]
     },
     "metadata": {},
     "output_type": "display_data"
    },
    {
     "name": "stdout",
     "output_type": "stream",
     "text": [
      "Table. Fluxes. (CLIRAD) - (CRD)\n"
     ]
    },
    {
     "data": {
      "text/html": [
       "<a id=\"Best-fit_Parameters\"></a>"
      ],
      "text/plain": [
       "<IPython.core.display.HTML object>"
      ]
     },
     "metadata": {},
     "output_type": "display_data"
    },
    {
     "data": {
      "text/markdown": [
       "# Best-fit Parameters"
      ],
      "text/plain": [
       "<IPython.core.display.Markdown object>"
      ]
     },
     "metadata": {},
     "output_type": "display_data"
    },
    {
     "name": "stdout",
     "output_type": "stream",
     "text": [
      "Best-fit values for each (gas, band)\n",
      "------------------------------------\n",
      "o h2o band1\n",
      "  atmpro = mls\n",
      "  band = 1\n",
      "  commitnumber = a06b618\n",
      "  conc = None\n",
      "  dv = 0.001\n",
      "  klin = 0\n",
      "  molecule = h2o\n",
      "  ng_adju = [0, 0, 0]\n",
      "  ng_refs = [3, 3, 6]\n",
      "  nv = 1000\n",
      "  option_compute_btable = 0\n",
      "  option_compute_ktable = 1\n",
      "  option_wgt_flux = 1\n",
      "  option_wgt_k = 1\n",
      "  ref_pts = [(1, 250), (30, 250), (300, 250)]\n",
      "  tsfc = 294\n",
      "  vmax = 340\n",
      "  vmin = 20\n",
      "  w_diffuse = [(1.66, 1.66, 1.66), (1.66, 1.66, 1.66), (1.66, 1.66, 1.5, 1.5, 1.5, 1.5)]\n",
      "  wgt = [(0.2, 0.2, 0.2), (0.2, 0.2, 0.2), (0.2, 0.2, 0.65, 0.65, 0.65, 0.65)]\n"
     ]
    }
   ],
   "source": [
    "script()"
   ]
  },
  {
   "cell_type": "code",
   "execution_count": 13,
   "metadata": {
    "collapsed": true
   },
   "outputs": [
    {
     "data": {
      "text/html": [
       "<script>\n",
       "code_show=true; \n",
       "function code_toggle() {\n",
       " if (code_show){\n",
       " $('div.input').hide();\n",
       " } else {\n",
       " $('div.input').show();\n",
       " }\n",
       " code_show = !code_show\n",
       "} \n",
       "$( document ).ready(code_toggle);\n",
       "</script>\n",
       "<form action=\"javascript:code_toggle()\"><input type=\"submit\" value=\"Click here to toggle on/off the raw code.\"></form>"
      ],
      "text/plain": [
       "<IPython.core.display.HTML object>"
      ]
     },
     "execution_count": 13,
     "metadata": {},
     "output_type": "execute_result"
    }
   ],
   "source": [
    "display.HTML('''<script>\n",
    "code_show=true; \n",
    "function code_toggle() {\n",
    " if (code_show){\n",
    " $('div.input').hide();\n",
    " } else {\n",
    " $('div.input').show();\n",
    " }\n",
    " code_show = !code_show\n",
    "} \n",
    "$( document ).ready(code_toggle);\n",
    "</script>\n",
    "<form action=\"javascript:code_toggle()\"><input type=\"submit\" value=\"Click here to toggle on/off the raw code.\"></form>''')"
   ]
  }
 ],
 "metadata": {
  "kernelspec": {
   "display_name": "Python 3",
   "language": "python",
   "name": "python3"
  },
  "language_info": {
   "codemirror_mode": {
    "name": "ipython",
    "version": 3
   },
   "file_extension": ".py",
   "mimetype": "text/x-python",
   "name": "python",
   "nbconvert_exporter": "python",
   "pygments_lexer": "ipython3",
   "version": "3.6.1"
  }
 },
 "nbformat": 4,
 "nbformat_minor": 2
}
