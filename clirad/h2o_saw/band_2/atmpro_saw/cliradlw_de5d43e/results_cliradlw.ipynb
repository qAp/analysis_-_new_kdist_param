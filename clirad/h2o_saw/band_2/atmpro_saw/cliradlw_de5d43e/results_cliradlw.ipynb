{
 "cells": [
  {
   "cell_type": "code",
   "execution_count": 1,
   "metadata": {
    "collapsed": true
   },
   "outputs": [
    {
     "name": "stdout",
     "output_type": "stream",
     "text": [
      "The history saving thread hit an unexpected error (OperationalError('database is locked',)).History will not be written to the database.\n"
     ]
    }
   ],
   "source": [
    "%matplotlib inline\n",
    "import os\n",
    "import re\n",
    "import io\n",
    "import itertools\n",
    "import pprint\n",
    "\n",
    "from bokeh.io import output_notebook, show\n",
    "from bokeh.layouts import gridplot\n",
    "from bokeh.plotting import figure\n",
    "from bokeh.models import Range1d, Legend\n",
    "from bokeh.palettes import all_palettes\n",
    "\n",
    "import matplotlib\n",
    "import matplotlib.pyplot as plt\n",
    "import numpy as np\n",
    "import pandas as pd\n",
    "import xarray as xr\n",
    "\n",
    "import climatools.lblnew.bestfit_params as bestfits\n",
    "from climatools.lblnew import setup_bestfit, setup_overlap\n",
    "import climatools.lblnew.pipeline as pipe_lblnew\n",
    "import climatools.cliradlw.setup as setup_cliradlw\n",
    "import climatools.cliradlw.pipeline as pipe_cliradlw\n",
    "\n",
    "import climatools.html.html as climahtml\n",
    "from climatools.lblnew.dataio import *\n",
    "from climatools.plot.plot import *\n",
    "\n",
    "\n",
    "import IPython.display as display"
   ]
  },
  {
   "cell_type": "code",
   "execution_count": 2,
   "metadata": {
    "collapsed": true
   },
   "outputs": [],
   "source": [
    "%run param.py"
   ]
  },
  {
   "cell_type": "code",
   "execution_count": 3,
   "metadata": {
    "collapsed": true
   },
   "outputs": [],
   "source": [
    "def load_output_file(path_csv):\n",
    "    '''\n",
    "    Load lblnew output .csv file to xarray.Dataset\n",
    "    \n",
    "    Parameters\n",
    "    ----------\n",
    "    path_csv: str\n",
    "              Path to the .csv file to be loaded.\n",
    "    ds: xarray.Dataset\n",
    "        Data in the input file in the form of an xarray.Dataset.\n",
    "    '''\n",
    "    toindex = ['band', 'pressure', 'igg', 'g']    \n",
    "    df = pd.read_csv(path_csv, sep=r'\\s+')\n",
    "    df = df.set_index([i for i in toindex if i in df.columns])\n",
    "    df = df.rename(columns={'sfu': 'flug',\n",
    "                            'sfd': 'fldg',\n",
    "                            'fnet': 'fnetg',\n",
    "                            'coolr': 'coolrg'})\n",
    "    ds = xr.Dataset.from_dataframe(df)\n",
    "\n",
    "    for l in ('level', 'layer'):\n",
    "        if l in ds.data_vars:\n",
    "            if len(ds[l].dims) > 1:\n",
    "                surface = {d: 0 for d in ds.dims if d != 'pressure'}\n",
    "                coord_level = ds[l][surface]\n",
    "                ds.coords[l] = ('pressure', coord_level)\n",
    "            else:\n",
    "                ds.coords[l] = ('pressure', ds[l])\n",
    "    \n",
    "    return ds"
   ]
  },
  {
   "cell_type": "code",
   "execution_count": 4,
   "metadata": {
    "collapsed": true
   },
   "outputs": [],
   "source": [
    "def lblnew_setup(param=None):\n",
    "    if 'ng_refs' in param:\n",
    "        return {'setup': setup_bestfit,\n",
    "                'fname_flux_crd': 'output_flux.dat',\n",
    "                'fname_cool_crd': 'output_coolr.dat',\n",
    "                'fname_flux_wgt': 'output_wfluxg.dat',\n",
    "                'fname_cool_wgt': 'output_wcoolrg.dat'}\n",
    "    else:\n",
    "        return {'setup': setup_overlap,\n",
    "                'fname_flux_crd': 'output_flux.dat',\n",
    "                'fname_cool_crd': 'output_coolr.dat',\n",
    "                'fname_flux_wgt': 'output_wflux.dat',\n",
    "                'fname_cool_wgt': 'output_wcoolr.dat'}\n",
    "\n",
    "    \n",
    "def load_lblnew_data(param):\n",
    "    \n",
    "    fname_dsname = [('fname_flux_crd', 'ds_flux_crd'),\n",
    "                    ('fname_cool_crd', 'ds_cool_crd'),\n",
    "                    ('fname_flux_wgt', 'ds_flux_wgt'),\n",
    "                    ('fname_cool_wgt', 'ds_cool_wgt')]\n",
    "    \n",
    "    d = lblnew_setup(param)\n",
    "    dir_fortran = pipe_lblnew.get_dir_case(param, setup=d['setup'])\n",
    "    \n",
    "    data_dict = {}\n",
    "    for fname, dsname in fname_dsname:\n",
    "        fpath = os.path.join(dir_fortran, d[fname])\n",
    "        data_dict[dsname] = load_output_file(fpath)\n",
    "    return data_dict\n",
    "    \n",
    "\n",
    "    \n",
    "    "
   ]
  },
  {
   "cell_type": "code",
   "execution_count": 5,
   "metadata": {
    "collapsed": true
   },
   "outputs": [],
   "source": [
    "d = load_lblnew_data(PARAM_LBLNEW)\n",
    "\n",
    "DS_FLUX_CRD = d['ds_flux_crd']\n",
    "DS_COOL_CRD = d['ds_cool_crd']\n",
    "DS_FLUX_WGT = d['ds_flux_wgt']\n",
    "DS_COOL_WGT = d['ds_cool_wgt']"
   ]
  },
  {
   "cell_type": "code",
   "execution_count": 6,
   "metadata": {
    "collapsed": true
   },
   "outputs": [],
   "source": [
    "DIR_FORTRAN = pipe_cliradlw.get_fortran_dir(PARAM, \n",
    "                                            setup=setup_cliradlw)\n",
    "\n",
    "PATH_FLUX = os.path.join(DIR_FORTRAN, 'output_flux.dat')\n",
    "PATH_COOL = os.path.join(DIR_FORTRAN, 'output_coolr.dat')\n",
    "\n",
    "DS_FLUX = load_output_file(PATH_FLUX)\n",
    "DS_COOL = load_output_file(PATH_COOL)"
   ]
  },
  {
   "cell_type": "code",
   "execution_count": 7,
   "metadata": {
    "collapsed": true
   },
   "outputs": [
    {
     "data": {
      "text/html": [
       "\n",
       "    <div class=\"bk-root\">\n",
       "        <a href=\"https://bokeh.pydata.org\" target=\"_blank\" class=\"bk-logo bk-logo-small bk-logo-notebook\"></a>\n",
       "        <span id=\"2c13cce7-ea21-40b4-a2a9-38fa86f0dcc3\">Loading BokehJS ...</span>\n",
       "    </div>"
      ]
     },
     "metadata": {},
     "output_type": "display_data"
    },
    {
     "data": {
      "application/javascript": [
       "\n",
       "(function(root) {\n",
       "  function now() {\n",
       "    return new Date();\n",
       "  }\n",
       "\n",
       "  var force = true;\n",
       "\n",
       "  if (typeof (root._bokeh_onload_callbacks) === \"undefined\" || force === true) {\n",
       "    root._bokeh_onload_callbacks = [];\n",
       "    root._bokeh_is_loading = undefined;\n",
       "  }\n",
       "\n",
       "  var JS_MIME_TYPE = 'application/javascript';\n",
       "  var HTML_MIME_TYPE = 'text/html';\n",
       "  var EXEC_MIME_TYPE = 'application/vnd.bokehjs_exec.v0+json';\n",
       "  var CLASS_NAME = 'output_bokeh rendered_html';\n",
       "\n",
       "  /**\n",
       "   * Render data to the DOM node\n",
       "   */\n",
       "  function render(props, node) {\n",
       "    var script = document.createElement(\"script\");\n",
       "    node.appendChild(script);\n",
       "  }\n",
       "\n",
       "  /**\n",
       "   * Handle when an output is cleared or removed\n",
       "   */\n",
       "  function handleClearOutput(event, handle) {\n",
       "    var cell = handle.cell;\n",
       "\n",
       "    var id = cell.output_area._bokeh_element_id;\n",
       "    var server_id = cell.output_area._bokeh_server_id;\n",
       "    // Clean up Bokeh references\n",
       "    if (id !== undefined) {\n",
       "      Bokeh.index[id].model.document.clear();\n",
       "      delete Bokeh.index[id];\n",
       "    }\n",
       "\n",
       "    if (server_id !== undefined) {\n",
       "      // Clean up Bokeh references\n",
       "      var cmd = \"from bokeh.io.state import curstate; print(curstate().uuid_to_server['\" + server_id + \"'].get_sessions()[0].document.roots[0]._id)\";\n",
       "      cell.notebook.kernel.execute(cmd, {\n",
       "        iopub: {\n",
       "          output: function(msg) {\n",
       "            var element_id = msg.content.text.trim();\n",
       "            Bokeh.index[element_id].model.document.clear();\n",
       "            delete Bokeh.index[element_id];\n",
       "          }\n",
       "        }\n",
       "      });\n",
       "      // Destroy server and session\n",
       "      var cmd = \"import bokeh.io.notebook as ion; ion.destroy_server('\" + server_id + \"')\";\n",
       "      cell.notebook.kernel.execute(cmd);\n",
       "    }\n",
       "  }\n",
       "\n",
       "  /**\n",
       "   * Handle when a new output is added\n",
       "   */\n",
       "  function handleAddOutput(event, handle) {\n",
       "    var output_area = handle.output_area;\n",
       "    var output = handle.output;\n",
       "\n",
       "    // limit handleAddOutput to display_data with EXEC_MIME_TYPE content only\n",
       "    if ((output.output_type != \"display_data\") || (!output.data.hasOwnProperty(EXEC_MIME_TYPE))) {\n",
       "      return\n",
       "    }\n",
       "\n",
       "    var toinsert = output_area.element.find(\".\" + CLASS_NAME.split(' ')[0]);\n",
       "\n",
       "    if (output.metadata[EXEC_MIME_TYPE][\"id\"] !== undefined) {\n",
       "      toinsert[toinsert.length - 1].firstChild.textContent = output.data[JS_MIME_TYPE];\n",
       "      // store reference to embed id on output_area\n",
       "      output_area._bokeh_element_id = output.metadata[EXEC_MIME_TYPE][\"id\"];\n",
       "    }\n",
       "    if (output.metadata[EXEC_MIME_TYPE][\"server_id\"] !== undefined) {\n",
       "      var bk_div = document.createElement(\"div\");\n",
       "      bk_div.innerHTML = output.data[HTML_MIME_TYPE];\n",
       "      var script_attrs = bk_div.children[0].attributes;\n",
       "      for (var i = 0; i < script_attrs.length; i++) {\n",
       "        toinsert[toinsert.length - 1].firstChild.setAttribute(script_attrs[i].name, script_attrs[i].value);\n",
       "      }\n",
       "      // store reference to server id on output_area\n",
       "      output_area._bokeh_server_id = output.metadata[EXEC_MIME_TYPE][\"server_id\"];\n",
       "    }\n",
       "  }\n",
       "\n",
       "  function register_renderer(events, OutputArea) {\n",
       "\n",
       "    function append_mime(data, metadata, element) {\n",
       "      // create a DOM node to render to\n",
       "      var toinsert = this.create_output_subarea(\n",
       "        metadata,\n",
       "        CLASS_NAME,\n",
       "        EXEC_MIME_TYPE\n",
       "      );\n",
       "      this.keyboard_manager.register_events(toinsert);\n",
       "      // Render to node\n",
       "      var props = {data: data, metadata: metadata[EXEC_MIME_TYPE]};\n",
       "      render(props, toinsert[toinsert.length - 1]);\n",
       "      element.append(toinsert);\n",
       "      return toinsert\n",
       "    }\n",
       "\n",
       "    /* Handle when an output is cleared or removed */\n",
       "    events.on('clear_output.CodeCell', handleClearOutput);\n",
       "    events.on('delete.Cell', handleClearOutput);\n",
       "\n",
       "    /* Handle when a new output is added */\n",
       "    events.on('output_added.OutputArea', handleAddOutput);\n",
       "\n",
       "    /**\n",
       "     * Register the mime type and append_mime function with output_area\n",
       "     */\n",
       "    OutputArea.prototype.register_mime_type(EXEC_MIME_TYPE, append_mime, {\n",
       "      /* Is output safe? */\n",
       "      safe: true,\n",
       "      /* Index of renderer in `output_area.display_order` */\n",
       "      index: 0\n",
       "    });\n",
       "  }\n",
       "\n",
       "  // register the mime type if in Jupyter Notebook environment and previously unregistered\n",
       "  if (root.Jupyter !== undefined) {\n",
       "    var events = require('base/js/events');\n",
       "    var OutputArea = require('notebook/js/outputarea').OutputArea;\n",
       "\n",
       "    if (OutputArea.prototype.mime_types().indexOf(EXEC_MIME_TYPE) == -1) {\n",
       "      register_renderer(events, OutputArea);\n",
       "    }\n",
       "  }\n",
       "\n",
       "  \n",
       "  if (typeof (root._bokeh_timeout) === \"undefined\" || force === true) {\n",
       "    root._bokeh_timeout = Date.now() + 5000;\n",
       "    root._bokeh_failed_load = false;\n",
       "  }\n",
       "\n",
       "  var NB_LOAD_WARNING = {'data': {'text/html':\n",
       "     \"<div style='background-color: #fdd'>\\n\"+\n",
       "     \"<p>\\n\"+\n",
       "     \"BokehJS does not appear to have successfully loaded. If loading BokehJS from CDN, this \\n\"+\n",
       "     \"may be due to a slow or bad network connection. Possible fixes:\\n\"+\n",
       "     \"</p>\\n\"+\n",
       "     \"<ul>\\n\"+\n",
       "     \"<li>re-rerun `output_notebook()` to attempt to load from CDN again, or</li>\\n\"+\n",
       "     \"<li>use INLINE resources instead, as so:</li>\\n\"+\n",
       "     \"</ul>\\n\"+\n",
       "     \"<code>\\n\"+\n",
       "     \"from bokeh.resources import INLINE\\n\"+\n",
       "     \"output_notebook(resources=INLINE)\\n\"+\n",
       "     \"</code>\\n\"+\n",
       "     \"</div>\"}};\n",
       "\n",
       "  function display_loaded() {\n",
       "    var el = document.getElementById(\"2c13cce7-ea21-40b4-a2a9-38fa86f0dcc3\");\n",
       "    if (el != null) {\n",
       "      el.textContent = \"BokehJS is loading...\";\n",
       "    }\n",
       "    if (root.Bokeh !== undefined) {\n",
       "      if (el != null) {\n",
       "        el.textContent = \"BokehJS \" + root.Bokeh.version + \" successfully loaded.\";\n",
       "      }\n",
       "    } else if (Date.now() < root._bokeh_timeout) {\n",
       "      setTimeout(display_loaded, 100)\n",
       "    }\n",
       "  }\n",
       "\n",
       "\n",
       "  function run_callbacks() {\n",
       "    try {\n",
       "      root._bokeh_onload_callbacks.forEach(function(callback) { callback() });\n",
       "    }\n",
       "    finally {\n",
       "      delete root._bokeh_onload_callbacks\n",
       "    }\n",
       "    console.info(\"Bokeh: all callbacks have finished\");\n",
       "  }\n",
       "\n",
       "  function load_libs(js_urls, callback) {\n",
       "    root._bokeh_onload_callbacks.push(callback);\n",
       "    if (root._bokeh_is_loading > 0) {\n",
       "      console.log(\"Bokeh: BokehJS is being loaded, scheduling callback at\", now());\n",
       "      return null;\n",
       "    }\n",
       "    if (js_urls == null || js_urls.length === 0) {\n",
       "      run_callbacks();\n",
       "      return null;\n",
       "    }\n",
       "    console.log(\"Bokeh: BokehJS not loaded, scheduling load and callback at\", now());\n",
       "    root._bokeh_is_loading = js_urls.length;\n",
       "    for (var i = 0; i < js_urls.length; i++) {\n",
       "      var url = js_urls[i];\n",
       "      var s = document.createElement('script');\n",
       "      s.src = url;\n",
       "      s.async = false;\n",
       "      s.onreadystatechange = s.onload = function() {\n",
       "        root._bokeh_is_loading--;\n",
       "        if (root._bokeh_is_loading === 0) {\n",
       "          console.log(\"Bokeh: all BokehJS libraries loaded\");\n",
       "          run_callbacks()\n",
       "        }\n",
       "      };\n",
       "      s.onerror = function() {\n",
       "        console.warn(\"failed to load library \" + url);\n",
       "      };\n",
       "      console.log(\"Bokeh: injecting script tag for BokehJS library: \", url);\n",
       "      document.getElementsByTagName(\"head\")[0].appendChild(s);\n",
       "    }\n",
       "  };var element = document.getElementById(\"2c13cce7-ea21-40b4-a2a9-38fa86f0dcc3\");\n",
       "  if (element == null) {\n",
       "    console.log(\"Bokeh: ERROR: autoload.js configured with elementid '2c13cce7-ea21-40b4-a2a9-38fa86f0dcc3' but no matching script tag was found. \")\n",
       "    return false;\n",
       "  }\n",
       "\n",
       "  var js_urls = [\"https://cdn.pydata.org/bokeh/release/bokeh-0.12.16.min.js\", \"https://cdn.pydata.org/bokeh/release/bokeh-widgets-0.12.16.min.js\", \"https://cdn.pydata.org/bokeh/release/bokeh-tables-0.12.16.min.js\", \"https://cdn.pydata.org/bokeh/release/bokeh-gl-0.12.16.min.js\"];\n",
       "\n",
       "  var inline_js = [\n",
       "    function(Bokeh) {\n",
       "      Bokeh.set_log_level(\"info\");\n",
       "    },\n",
       "    \n",
       "    function(Bokeh) {\n",
       "      \n",
       "    },\n",
       "    function(Bokeh) {\n",
       "      console.log(\"Bokeh: injecting CSS: https://cdn.pydata.org/bokeh/release/bokeh-0.12.16.min.css\");\n",
       "      Bokeh.embed.inject_css(\"https://cdn.pydata.org/bokeh/release/bokeh-0.12.16.min.css\");\n",
       "      console.log(\"Bokeh: injecting CSS: https://cdn.pydata.org/bokeh/release/bokeh-widgets-0.12.16.min.css\");\n",
       "      Bokeh.embed.inject_css(\"https://cdn.pydata.org/bokeh/release/bokeh-widgets-0.12.16.min.css\");\n",
       "      console.log(\"Bokeh: injecting CSS: https://cdn.pydata.org/bokeh/release/bokeh-tables-0.12.16.min.css\");\n",
       "      Bokeh.embed.inject_css(\"https://cdn.pydata.org/bokeh/release/bokeh-tables-0.12.16.min.css\");\n",
       "    }\n",
       "  ];\n",
       "\n",
       "  function run_inline_js() {\n",
       "    \n",
       "    if ((root.Bokeh !== undefined) || (force === true)) {\n",
       "      for (var i = 0; i < inline_js.length; i++) {\n",
       "        inline_js[i].call(root, root.Bokeh);\n",
       "      }if (force === true) {\n",
       "        display_loaded();\n",
       "      }} else if (Date.now() < root._bokeh_timeout) {\n",
       "      setTimeout(run_inline_js, 100);\n",
       "    } else if (!root._bokeh_failed_load) {\n",
       "      console.log(\"Bokeh: BokehJS failed to load within specified timeout.\");\n",
       "      root._bokeh_failed_load = true;\n",
       "    } else if (force !== true) {\n",
       "      var cell = $(document.getElementById(\"2c13cce7-ea21-40b4-a2a9-38fa86f0dcc3\")).parents('.cell').data().cell;\n",
       "      cell.output_area.append_execute_result(NB_LOAD_WARNING)\n",
       "    }\n",
       "\n",
       "  }\n",
       "\n",
       "  if (root._bokeh_is_loading === 0) {\n",
       "    console.log(\"Bokeh: BokehJS loaded, going straight to plotting\");\n",
       "    run_inline_js();\n",
       "  } else {\n",
       "    load_libs(js_urls, function() {\n",
       "      console.log(\"Bokeh: BokehJS plotting callback run at\", now());\n",
       "      run_inline_js();\n",
       "    });\n",
       "  }\n",
       "}(window));"
      ],
      "application/vnd.bokehjs_load.v0+json": "\n(function(root) {\n  function now() {\n    return new Date();\n  }\n\n  var force = true;\n\n  if (typeof (root._bokeh_onload_callbacks) === \"undefined\" || force === true) {\n    root._bokeh_onload_callbacks = [];\n    root._bokeh_is_loading = undefined;\n  }\n\n  \n\n  \n  if (typeof (root._bokeh_timeout) === \"undefined\" || force === true) {\n    root._bokeh_timeout = Date.now() + 5000;\n    root._bokeh_failed_load = false;\n  }\n\n  var NB_LOAD_WARNING = {'data': {'text/html':\n     \"<div style='background-color: #fdd'>\\n\"+\n     \"<p>\\n\"+\n     \"BokehJS does not appear to have successfully loaded. If loading BokehJS from CDN, this \\n\"+\n     \"may be due to a slow or bad network connection. Possible fixes:\\n\"+\n     \"</p>\\n\"+\n     \"<ul>\\n\"+\n     \"<li>re-rerun `output_notebook()` to attempt to load from CDN again, or</li>\\n\"+\n     \"<li>use INLINE resources instead, as so:</li>\\n\"+\n     \"</ul>\\n\"+\n     \"<code>\\n\"+\n     \"from bokeh.resources import INLINE\\n\"+\n     \"output_notebook(resources=INLINE)\\n\"+\n     \"</code>\\n\"+\n     \"</div>\"}};\n\n  function display_loaded() {\n    var el = document.getElementById(\"2c13cce7-ea21-40b4-a2a9-38fa86f0dcc3\");\n    if (el != null) {\n      el.textContent = \"BokehJS is loading...\";\n    }\n    if (root.Bokeh !== undefined) {\n      if (el != null) {\n        el.textContent = \"BokehJS \" + root.Bokeh.version + \" successfully loaded.\";\n      }\n    } else if (Date.now() < root._bokeh_timeout) {\n      setTimeout(display_loaded, 100)\n    }\n  }\n\n\n  function run_callbacks() {\n    try {\n      root._bokeh_onload_callbacks.forEach(function(callback) { callback() });\n    }\n    finally {\n      delete root._bokeh_onload_callbacks\n    }\n    console.info(\"Bokeh: all callbacks have finished\");\n  }\n\n  function load_libs(js_urls, callback) {\n    root._bokeh_onload_callbacks.push(callback);\n    if (root._bokeh_is_loading > 0) {\n      console.log(\"Bokeh: BokehJS is being loaded, scheduling callback at\", now());\n      return null;\n    }\n    if (js_urls == null || js_urls.length === 0) {\n      run_callbacks();\n      return null;\n    }\n    console.log(\"Bokeh: BokehJS not loaded, scheduling load and callback at\", now());\n    root._bokeh_is_loading = js_urls.length;\n    for (var i = 0; i < js_urls.length; i++) {\n      var url = js_urls[i];\n      var s = document.createElement('script');\n      s.src = url;\n      s.async = false;\n      s.onreadystatechange = s.onload = function() {\n        root._bokeh_is_loading--;\n        if (root._bokeh_is_loading === 0) {\n          console.log(\"Bokeh: all BokehJS libraries loaded\");\n          run_callbacks()\n        }\n      };\n      s.onerror = function() {\n        console.warn(\"failed to load library \" + url);\n      };\n      console.log(\"Bokeh: injecting script tag for BokehJS library: \", url);\n      document.getElementsByTagName(\"head\")[0].appendChild(s);\n    }\n  };var element = document.getElementById(\"2c13cce7-ea21-40b4-a2a9-38fa86f0dcc3\");\n  if (element == null) {\n    console.log(\"Bokeh: ERROR: autoload.js configured with elementid '2c13cce7-ea21-40b4-a2a9-38fa86f0dcc3' but no matching script tag was found. \")\n    return false;\n  }\n\n  var js_urls = [\"https://cdn.pydata.org/bokeh/release/bokeh-0.12.16.min.js\", \"https://cdn.pydata.org/bokeh/release/bokeh-widgets-0.12.16.min.js\", \"https://cdn.pydata.org/bokeh/release/bokeh-tables-0.12.16.min.js\", \"https://cdn.pydata.org/bokeh/release/bokeh-gl-0.12.16.min.js\"];\n\n  var inline_js = [\n    function(Bokeh) {\n      Bokeh.set_log_level(\"info\");\n    },\n    \n    function(Bokeh) {\n      \n    },\n    function(Bokeh) {\n      console.log(\"Bokeh: injecting CSS: https://cdn.pydata.org/bokeh/release/bokeh-0.12.16.min.css\");\n      Bokeh.embed.inject_css(\"https://cdn.pydata.org/bokeh/release/bokeh-0.12.16.min.css\");\n      console.log(\"Bokeh: injecting CSS: https://cdn.pydata.org/bokeh/release/bokeh-widgets-0.12.16.min.css\");\n      Bokeh.embed.inject_css(\"https://cdn.pydata.org/bokeh/release/bokeh-widgets-0.12.16.min.css\");\n      console.log(\"Bokeh: injecting CSS: https://cdn.pydata.org/bokeh/release/bokeh-tables-0.12.16.min.css\");\n      Bokeh.embed.inject_css(\"https://cdn.pydata.org/bokeh/release/bokeh-tables-0.12.16.min.css\");\n    }\n  ];\n\n  function run_inline_js() {\n    \n    if ((root.Bokeh !== undefined) || (force === true)) {\n      for (var i = 0; i < inline_js.length; i++) {\n        inline_js[i].call(root, root.Bokeh);\n      }if (force === true) {\n        display_loaded();\n      }} else if (Date.now() < root._bokeh_timeout) {\n      setTimeout(run_inline_js, 100);\n    } else if (!root._bokeh_failed_load) {\n      console.log(\"Bokeh: BokehJS failed to load within specified timeout.\");\n      root._bokeh_failed_load = true;\n    } else if (force !== true) {\n      var cell = $(document.getElementById(\"2c13cce7-ea21-40b4-a2a9-38fa86f0dcc3\")).parents('.cell').data().cell;\n      cell.output_area.append_execute_result(NB_LOAD_WARNING)\n    }\n\n  }\n\n  if (root._bokeh_is_loading === 0) {\n    console.log(\"Bokeh: BokehJS loaded, going straight to plotting\");\n    run_inline_js();\n  } else {\n    load_libs(js_urls, function() {\n      console.log(\"Bokeh: BokehJS plotting callback run at\", now());\n      run_inline_js();\n    });\n  }\n}(window));"
     },
     "metadata": {},
     "output_type": "display_data"
    }
   ],
   "source": [
    "output_notebook()"
   ]
  },
  {
   "cell_type": "code",
   "execution_count": 8,
   "metadata": {
    "collapsed": true
   },
   "outputs": [],
   "source": [
    "def fmt_cool(ds_in):\n",
    "    ds = ds_in.copy(deep=True)\n",
    "    if 'igg' in ds.dims:\n",
    "        ds = ds.sel(igg=1)\n",
    "\n",
    "    if 'g' in ds.dims:\n",
    "        ds = ds.sum('g')\n",
    "            \n",
    "    if 'band' in ds.dims:\n",
    "        try:\n",
    "            ds = ds.squeeze('band')\n",
    "        except ValueError:\n",
    "            ds = ds.sum('band')\n",
    "                \n",
    "    return ds['coolrg']\n",
    "\n",
    "\n",
    "def pltdata_cooling_1(ds_cool=None,\n",
    "                      ds_cool_crd=None, ds_cool_wgt=None):\n",
    "    \n",
    "\n",
    "\n",
    "    colors = all_palettes['Set1'][4]\n",
    "    data = [{'label': 'CLIRAD `coolr_bands`',\n",
    "             'srs': fmt_cool(ds_cool),\n",
    "             'line_dash': 'dashed', 'line_width': 5,\n",
    "             'color': colors[0], 'alpha': .6},\n",
    "            {'label': 'CRD',\n",
    "             'srs': fmt_cool(ds_cool_crd),\n",
    "             'line_dash': 'solid', 'line_width': 1.5,\n",
    "             'marker': 'circle', 'marker_size': 5,\n",
    "             'color': colors[2], 'alpha': 1,},\n",
    "            {'label': 'WGT igg=10 wgt_flux=2',\n",
    "             'srs': fmt_cool(ds_cool_wgt),\n",
    "             'line_dash': 'solid', 'line_width': 3,\n",
    "             'marker': 'square', 'marker_size': 5,\n",
    "             'color': colors[3], 'alpha': .6}]\n",
    "    return data\n",
    "\n",
    "\n",
    "def nice_xlims(pltdata=None, prange=None):\n",
    "    \n",
    "    def get_slice(srs):\n",
    "        return srs.sel(pressure=slice(*prange))\n",
    "    \n",
    "    srss = [d['srs'] for d in pltdata]\n",
    "    vmin = min([get_slice(srs).min() for srs in srss])\n",
    "    vmax = max([get_slice(srs).max() for srs in srss])\n",
    "    dv = (vmax - vmin) * .01\n",
    "    return float(vmin - dv), float(vmax + dv)\n",
    "    \n",
    "\n",
    "def plt_cooling_bokeh(pltdata=None):\n",
    "    '''\n",
    "    Plot a list of cooling rate profiles using bokeh.\n",
    "    '''\n",
    "    ymin = 1e-2 \n",
    "    ymax = 1020 \n",
    "        \n",
    "    p1 = figure(title=\"Linear pressure scale\", \n",
    "                plot_width=400)        \n",
    "    xmin, xmax = nice_xlims(pltdata, prange=(50, 1050))\n",
    "    for d in pltdata:\n",
    "        if 'marker' in d:\n",
    "            getattr(p1, d['marker'])(d['srs'].values, \n",
    "                    d['srs'].coords['pressure'].values,\n",
    "                    color=d['color'], alpha=.7)\n",
    "        p1.line(d['srs'].values, \n",
    "                d['srs'].coords['pressure'].values,\n",
    "                color=d['color'], alpha=d['alpha'], \n",
    "                line_width=d['line_width'], line_dash=d['line_dash'])\n",
    "    \n",
    "    p1.y_range = Range1d(ymax, ymin)\n",
    "    p1.yaxis.axis_label = 'pressure [mb]'   \n",
    "    p1.x_range = Range1d(xmin, xmax)\n",
    "    p1.xaxis.axis_label = 'cooling rate [K/day]'\n",
    "            \n",
    "    p2 = figure(title='Log pressure scale', y_axis_type='log',\n",
    "                plot_width=560)\n",
    "    xmin, xmax = nice_xlims(pltdata, prange=(.01, 200))\n",
    "    \n",
    "    rs = []\n",
    "    for d in pltdata:\n",
    "        rd = []\n",
    "        if 'marker' in d:\n",
    "            r_mark = getattr(p2, d['marker'])(d['srs'].values, \n",
    "                        d['srs'].coords['pressure'].values,\n",
    "                        color=d['color'], alpha=.7)\n",
    "            rd.append(r_mark)\n",
    "        r_line = p2.line(d['srs'].values, \n",
    "                    d['srs'].coords['pressure'].values,\n",
    "                    color=d['color'], alpha=d['alpha'], \n",
    "                    line_width=d['line_width'], line_dash=d['line_dash'])\n",
    "        rd.append(r_line)\n",
    "      \n",
    "        rs.append(rd)\n",
    "        \n",
    "    p2.y_range = Range1d(ymax, ymin)  \n",
    "    p2.yaxis.axis_label = 'pressure [mb]'\n",
    "    \n",
    "    p2.x_range = Range1d(xmin, xmax)\n",
    "    p2.xaxis.axis_label = 'cooling rate [K/day]'\n",
    "    \n",
    "    items = [(d['label'], r) for r, d in zip(rs, pltdata)]\n",
    "    legend = Legend(items=items, location=(10, -30))\n",
    "    legend.label_text_font_size = '8pt'\n",
    "    \n",
    "    p2.add_layout(legend, 'right')  \n",
    "    \n",
    "    show(gridplot(p1, p2, ncols=2, plot_height=500))\n",
    "    \n",
    "\n",
    "def script_plt_cooling():\n",
    "    pltdata = pltdata_cooling_1(\n",
    "        ds_cool=DS_COOL,\n",
    "        ds_cool_crd=DS_COOL_CRD,\n",
    "        ds_cool_wgt=DS_COOL_WGT)\n",
    "    plt_cooling_bokeh(pltdata=pltdata)\n",
    "    print('''FIGURE. Cooling rate profiles.''')"
   ]
  },
  {
   "cell_type": "code",
   "execution_count": 9,
   "metadata": {
    "collapsed": true
   },
   "outputs": [],
   "source": [
    "def fmt_flux(ds_in):\n",
    "    ds = ds_in.copy(deep=True)\n",
    "    \n",
    "    for l in ('level', 'layer'):\n",
    "        if l in ds.data_vars:\n",
    "            if len(ds[l].dims) > 1:\n",
    "                surface = {d: 0 for d in ds.dims if d != 'pressure'}\n",
    "                coord_level = ds[l][surface]\n",
    "                ds.coords[l] = ('pressure', coord_level)\n",
    "            else:\n",
    "                ds.coords[l] = ('pressure', ds[l])\n",
    "        \n",
    "    ds = ds.isel(pressure=[0, 23, -1])\n",
    "        \n",
    "    if 'igg' in ds.dims:\n",
    "        ds = ds.sel(igg=[1])\n",
    "        ds = ds.squeeze('igg').drop('igg')\n",
    "    \n",
    "    if 'g' in ds.dims:\n",
    "        ds = ds.sum('g')\n",
    "            \n",
    "    if 'band' in ds.dims:\n",
    "        try:\n",
    "            ds = ds.squeeze('band').drop('band')\n",
    "        except ValueError:\n",
    "            ds = ds.sum('band')\n",
    "                \n",
    "    df = ds.to_dataframe()\n",
    "    df = df.set_index('level', append=True)               \n",
    "    return df\n",
    "\n",
    "\n",
    "def tbdata_flux(ds_flux=None, ds_flux_crd=None, ds_flux_wgt=None):\n",
    "    ilevels = [0, 23, -1]\n",
    "            \n",
    "    benchmark = {'label': 'CRD',\n",
    "                 'df': fmt_flux(ds_flux_crd)}\n",
    "    \n",
    "    tbs = [{'label': 'WGT igg=10 wgt_flux=1',\n",
    "            'df': fmt_flux(ds_flux_wgt)},\n",
    "           {'label': 'CLIRAD',\n",
    "            'df': fmt_flux(ds_flux)}]\n",
    "    \n",
    "    data = {'benchmark': benchmark, 'others': tbs}\n",
    "    return data\n",
    "\n",
    "\n",
    "def tb_flux(tbdata=None):\n",
    "    benchmark = tbdata['benchmark']\n",
    "    others = tbdata['others']\n",
    "    \n",
    "    def show_tb(d=None):\n",
    "        display.display(d['df'])\n",
    "        print('Table.', 'Fluxes.', d['label'])\n",
    "        \n",
    "    def show_tbdiff(d0=None, d=None):\n",
    "        df = d['df']\n",
    "        df.index = d0['df'].index\n",
    "        display.display(df - d0['df'])\n",
    "        print('Table.', 'Fluxes.', \n",
    "              '({}) - ({})'.format(d['label'], d0['label']))\n",
    "        \n",
    "    show_tb(benchmark)\n",
    "    for d in others:\n",
    "        show_tb(d)\n",
    "        \n",
    "    for d in others:\n",
    "        show_tbdiff(d=d, d0=benchmark)\n",
    "        \n",
    "        \n",
    "def script_tb_flux():\n",
    "    data = tbdata_flux(ds_flux=DS_FLUX,\n",
    "                       ds_flux_crd=DS_FLUX_CRD,\n",
    "                       ds_flux_wgt=DS_FLUX_WGT)\n",
    "    tb_flux(tbdata=data)"
   ]
  },
  {
   "cell_type": "code",
   "execution_count": 10,
   "metadata": {
    "collapsed": true
   },
   "outputs": [],
   "source": [
    "def band_map():\n",
    "    '''\n",
    "    Maps spectral bands in lblnew to spectral bands in clirad.\n",
    "    '''\n",
    "    lblnew2clirad = {'1': '1',\n",
    "            '2': '2',\n",
    "            '3a': '3',\n",
    "            '3b': '4',\n",
    "            '3c': '5',\n",
    "            '4': '6', \n",
    "            '5': '7',\n",
    "            '6': '8',\n",
    "            '7': '9', \n",
    "            '8': '10',\n",
    "            '9': '11'}\n",
    "    \n",
    "    clirad2lblnew = {clirad: lblnew \n",
    "                     for lblnew, clirad in lblnew2clirad.items()}\n",
    "    return clirad2lblnew\n",
    "\n",
    "\n",
    "def gasbands():\n",
    "    bmap = band_map()\n",
    "    gases = list(PARAM['molecule'].keys())\n",
    "    \n",
    "    bands = [bmap[str(b)] for b in PARAM['band']]\n",
    "    return list(itertools.product(gases, bands))\n",
    "\n",
    "\n",
    "def print_bestfit_params():\n",
    "    print('Best-fit values for each (gas, band)')\n",
    "    print('------------------------------------')\n",
    "    for gas, band in gasbands():\n",
    "        print('o {} band{}'.format(gas, band))\n",
    "        param = bestfits.kdist_params(molecule=gas, band=band)\n",
    "        for name, value in sorted(param.items()):\n",
    "            print(2 * ' ' + '{} = {}'.format(name, value))\n",
    "\n",
    "        \n",
    "def print_input_param():        \n",
    "    for name, value in PARAM.items():\n",
    "        print('{} = {}'.format(name, value))\n",
    "        \n",
    "        \n",
    "def print_lblnew_param():\n",
    "    for name, value in sorted(PARAM_LBLNEW.items()):\n",
    "        print('{} = {}'.format(name, value))\n"
   ]
  },
  {
   "cell_type": "code",
   "execution_count": 11,
   "metadata": {
    "collapsed": true,
    "scrolled": false
   },
   "outputs": [],
   "source": [
    "def show_html(s):\n",
    "    display.display(display.HTML(s))\n",
    "\n",
    "    \n",
    "def show_markdown(s):\n",
    "    display.display(display.Markdown(s))\n",
    "\n",
    "    \n",
    "def script():\n",
    "    \n",
    "    title = '### CLIRAD-LW'\n",
    "    s_input = 'Input Parameters'\n",
    "    s_lblnew_param = 'LBLNEW case compaired against'\n",
    "    s_bestfits = 'Best-fit Parameters'\n",
    "    s_plt_cooling = 'Cooling Rate Profiles'\n",
    "    s_tb_flux = 'Flux Comparison'\n",
    "    \n",
    "    # title\n",
    "    show_markdown('### CLIRAD-LW')\n",
    "    \n",
    "    # TOC\n",
    "    show_markdown('### Table of Contents')\n",
    "    show_html(climahtml.getHTML_hrefanchor(s_input))\n",
    "    show_html(climahtml.getHTML_hrefanchor(s_lblnew_param))\n",
    "    show_html(climahtml.getHTML_hrefanchor(s_plt_cooling))\n",
    "    show_html(climahtml.getHTML_hrefanchor(s_tb_flux))\n",
    "    show_html(climahtml.getHTML_hrefanchor(s_bestfits))\n",
    "    \n",
    "    # Input parameters\n",
    "    show_html(climahtml.getHTML_idanchor(s_input))\n",
    "    show_markdown(climahtml.getMarkdown_sectitle(s_input))\n",
    "    print_input_param()\n",
    "    \n",
    "    # LBLNEW parameters \n",
    "    show_html(climahtml.getHTML_idanchor(s_lblnew_param))\n",
    "    show_markdown(climahtml.getMarkdown_sectitle(s_lblnew_param))\n",
    "    print_lblnew_param()\n",
    "    \n",
    "    # Cooling rate profiles\n",
    "    show_html(climahtml.getHTML_idanchor(s_plt_cooling))\n",
    "    show_markdown(climahtml.getMarkdown_sectitle(s_plt_cooling))\n",
    "    script_plt_cooling()\n",
    "    \n",
    "    # Flux comparison\n",
    "    show_html(climahtml.getHTML_idanchor(s_tb_flux))\n",
    "    show_markdown(climahtml.getMarkdown_sectitle(s_tb_flux))\n",
    "    script_tb_flux()\n",
    "    \n",
    "    # Best-fit values\n",
    "    show_html(climahtml.getHTML_idanchor(s_bestfits))\n",
    "    show_markdown(climahtml.getMarkdown_sectitle(s_bestfits))\n",
    "    print_bestfit_params()\n",
    "   \n",
    "    "
   ]
  },
  {
   "cell_type": "code",
   "execution_count": 12,
   "metadata": {
    "collapsed": true,
    "scrolled": false
   },
   "outputs": [
    {
     "data": {
      "text/markdown": [
       "### CLIRAD-LW"
      ],
      "text/plain": [
       "<IPython.core.display.Markdown object>"
      ]
     },
     "metadata": {},
     "output_type": "display_data"
    },
    {
     "data": {
      "text/markdown": [
       "### Table of Contents"
      ],
      "text/plain": [
       "<IPython.core.display.Markdown object>"
      ]
     },
     "metadata": {},
     "output_type": "display_data"
    },
    {
     "data": {
      "text/html": [
       "<a href=\"#Input_Parameters\">Input Parameters</a>"
      ],
      "text/plain": [
       "<IPython.core.display.HTML object>"
      ]
     },
     "metadata": {},
     "output_type": "display_data"
    },
    {
     "data": {
      "text/html": [
       "<a href=\"#LBLNEW_case_compaired_against\">LBLNEW case compaired against</a>"
      ],
      "text/plain": [
       "<IPython.core.display.HTML object>"
      ]
     },
     "metadata": {},
     "output_type": "display_data"
    },
    {
     "data": {
      "text/html": [
       "<a href=\"#Cooling_Rate_Profiles\">Cooling Rate Profiles</a>"
      ],
      "text/plain": [
       "<IPython.core.display.HTML object>"
      ]
     },
     "metadata": {},
     "output_type": "display_data"
    },
    {
     "data": {
      "text/html": [
       "<a href=\"#Flux_Comparison\">Flux Comparison</a>"
      ],
      "text/plain": [
       "<IPython.core.display.HTML object>"
      ]
     },
     "metadata": {},
     "output_type": "display_data"
    },
    {
     "data": {
      "text/html": [
       "<a href=\"#Best-fit_Parameters\">Best-fit Parameters</a>"
      ],
      "text/plain": [
       "<IPython.core.display.HTML object>"
      ]
     },
     "metadata": {},
     "output_type": "display_data"
    },
    {
     "data": {
      "text/html": [
       "<a id=\"Input_Parameters\"></a>"
      ],
      "text/plain": [
       "<IPython.core.display.HTML object>"
      ]
     },
     "metadata": {},
     "output_type": "display_data"
    },
    {
     "data": {
      "text/markdown": [
       "# Input Parameters"
      ],
      "text/plain": [
       "<IPython.core.display.Markdown object>"
      ]
     },
     "metadata": {},
     "output_type": "display_data"
    },
    {
     "name": "stdout",
     "output_type": "stream",
     "text": [
      "atmpro = saw\n",
      "band = [2]\n",
      "commitnumber = de5d43e\n",
      "molecule = {'h2o': 'atmpro'}\n",
      "tsfc = 257\n"
     ]
    },
    {
     "data": {
      "text/html": [
       "<a id=\"LBLNEW_case_compaired_against\"></a>"
      ],
      "text/plain": [
       "<IPython.core.display.HTML object>"
      ]
     },
     "metadata": {},
     "output_type": "display_data"
    },
    {
     "data": {
      "text/markdown": [
       "# LBLNEW case compaired against"
      ],
      "text/plain": [
       "<IPython.core.display.Markdown object>"
      ]
     },
     "metadata": {},
     "output_type": "display_data"
    },
    {
     "name": "stdout",
     "output_type": "stream",
     "text": [
      "atmpro = saw\n",
      "band = 2\n",
      "commitnumber = 5014a19\n",
      "conc = None\n",
      "dv = 0.001\n",
      "klin = 0\n",
      "molecule = h2o\n",
      "ng_adju = [-2, -2, 0]\n",
      "ng_refs = [2, 3, 6]\n",
      "nv = 1000\n",
      "option_compute_btable = 0\n",
      "option_compute_ktable = 0\n",
      "option_wgt_flux = 1\n",
      "option_wgt_k = 1\n",
      "ref_pts = [(1, 250), (10, 250), (500, 250)]\n",
      "tsfc = 257\n",
      "vmax = 540\n",
      "vmin = 340\n",
      "w_diffuse = [(1.66, 1.66), (1.8, 1.8, 1.8), (1.8, 1.66, 1.45, 1.45, 1.45, 1.45)]\n",
      "wgt = [(0.6, 0.6), (0.6, 0.6, 0.6), (0.6, 0.6, 0.6, 0.6, 0.6, 0.6)]\n"
     ]
    },
    {
     "data": {
      "text/html": [
       "<a id=\"Cooling_Rate_Profiles\"></a>"
      ],
      "text/plain": [
       "<IPython.core.display.HTML object>"
      ]
     },
     "metadata": {},
     "output_type": "display_data"
    },
    {
     "data": {
      "text/markdown": [
       "# Cooling Rate Profiles"
      ],
      "text/plain": [
       "<IPython.core.display.Markdown object>"
      ]
     },
     "metadata": {},
     "output_type": "display_data"
    },
    {
     "data": {
      "text/html": [
       "\n",
       "<div class=\"bk-root\">\n",
       "    <div class=\"bk-plotdiv\" id=\"78a294a7-97e3-4e5d-8e48-1801495deae3\"></div>\n",
       "</div>"
      ]
     },
     "metadata": {},
     "output_type": "display_data"
    },
    {
     "data": {
      "application/javascript": [
       "(function(root) {\n",
       "  function embed_document(root) {\n",
       "    \n",
       "  var docs_json = {\"d60ba42d-01bc-43ad-a9a6-bea2326789a3\":{\"roots\":{\"references\":[{\"attributes\":{\"children\":[{\"id\":\"b861e78f-ae66-42bd-920e-cfee65be6901\",\"type\":\"Row\"}]},\"id\":\"a0c1b960-4ecf-4cc1-9706-5b1b679ec565\",\"type\":\"Column\"},{\"attributes\":{\"active_drag\":\"auto\",\"active_inspect\":\"auto\",\"active_scroll\":\"auto\",\"active_tap\":\"auto\",\"tools\":[{\"id\":\"7186ef2c-05c3-4db4-be33-2256f68ced93\",\"type\":\"PanTool\"},{\"id\":\"1379930d-4305-4de7-85b3-d58e9fefbb90\",\"type\":\"WheelZoomTool\"},{\"id\":\"8b9cd429-842e-42e2-8e68-94e512c6b28a\",\"type\":\"BoxZoomTool\"},{\"id\":\"53ba40a1-6133-4a4d-ad65-146c50e16721\",\"type\":\"SaveTool\"},{\"id\":\"6cd5ee43-b2cf-40d7-a7f2-7802b95e0dbb\",\"type\":\"ResetTool\"},{\"id\":\"1e96d0c5-cf19-406c-8ad6-e121338c14b1\",\"type\":\"HelpTool\"}]},\"id\":\"9cb38e02-9ed0-4f31-a194-48d3e08e5b91\",\"type\":\"Toolbar\"},{\"attributes\":{\"callback\":null,\"end\":0.72706292768,\"start\":0.03236054432},\"id\":\"17ea8576-4e92-4652-be35-22dfdf02b617\",\"type\":\"Range1d\"},{\"attributes\":{\"line_color\":\"#4daf4a\",\"line_width\":1.5,\"x\":{\"field\":\"x\"},\"y\":{\"field\":\"y\"}},\"id\":\"db417ad4-8bfc-4a56-8124-49d9327d8e41\",\"type\":\"Line\"},{\"attributes\":{\"below\":[{\"id\":\"1255fcb3-4c58-41d1-96e9-36f21c9fb086\",\"type\":\"LinearAxis\"}],\"left\":[{\"id\":\"4d022c6b-1302-4cd9-b007-641885c3dd86\",\"type\":\"LogAxis\"}],\"plot_height\":500,\"plot_width\":560,\"renderers\":[{\"id\":\"1255fcb3-4c58-41d1-96e9-36f21c9fb086\",\"type\":\"LinearAxis\"},{\"id\":\"caa5c7f7-1e93-4ba5-8bb0-d9cb0604d3e9\",\"type\":\"Grid\"},{\"id\":\"4d022c6b-1302-4cd9-b007-641885c3dd86\",\"type\":\"LogAxis\"},{\"id\":\"b8c8999b-f1be-4c28-8542-71fa85f8c640\",\"type\":\"Grid\"},{\"id\":\"a2984ead-2120-4bfb-9b03-0b42b9d6d37f\",\"type\":\"BoxAnnotation\"},{\"id\":\"b2c1403e-c0bc-4ebf-aefd-68a5fdb869bc\",\"type\":\"GlyphRenderer\"},{\"id\":\"586ff259-32c5-4de4-8a24-205c75ac3fda\",\"type\":\"GlyphRenderer\"},{\"id\":\"b8c04726-6ab4-42b0-8740-b65d2262faf4\",\"type\":\"GlyphRenderer\"},{\"id\":\"28c254f9-26ce-441c-812c-3be511a52e59\",\"type\":\"GlyphRenderer\"},{\"id\":\"4759e3e5-9a32-48c9-be94-f6e2f98cc915\",\"type\":\"GlyphRenderer\"},{\"id\":\"3a893dee-89a1-4920-b6f8-9740738c21b8\",\"type\":\"Legend\"}],\"right\":[{\"id\":\"3a893dee-89a1-4920-b6f8-9740738c21b8\",\"type\":\"Legend\"}],\"title\":{\"id\":\"9a4bb15e-d0ba-4818-87dd-2c662a3ccc51\",\"type\":\"Title\"},\"toolbar\":{\"id\":\"909c987f-3d01-48f6-ba7a-4ea71ea6fd05\",\"type\":\"Toolbar\"},\"toolbar_location\":null,\"x_range\":{\"id\":\"81433793-f211-447b-99e9-bba974cba7d2\",\"type\":\"Range1d\"},\"x_scale\":{\"id\":\"50137f07-2ff3-42eb-8b02-942397fe31d0\",\"type\":\"LinearScale\"},\"y_range\":{\"id\":\"df42055e-1a66-4e2c-b61a-6929af441dc7\",\"type\":\"Range1d\"},\"y_scale\":{\"id\":\"992c4dc7-ae7f-419e-8c7b-1e6be5895f44\",\"type\":\"LogScale\"}},\"id\":\"8f1dea57-e565-4474-bb61-44b31558ec6c\",\"subtype\":\"Figure\",\"type\":\"Plot\"},{\"attributes\":{\"callback\":null,\"data\":{\"x\":{\"__ndarray__\":\"UItNWdcAtj90zF8CK2a4P0SqqcEyb70/kESD9621wT8OHPaA9tfEP2N/S/DmM8g/b8bjNTXHyz9CMTKDYHvPPy/p76naodE/BNvnhiJ00z/yJI2nADvVPyHRa4I4ztY/cTi/lBMa2D+WEgw55qbYP65EF9bUDdg/nDY+vw6t1j+SbyLrqevUPw80FQkt+NI/Q/uv/2gY0T9cNYM/l1bPP9UuBuQtGs4/omsyDwhSyj/qSwS8PYjDP7H2lw6jsbw/QwhzhOT6tT/C9vPSEj6xP/OrU0sVYas/PMK4q4Qdpz8GmNEew5KlP/Q9/66UeKQ/ErdEd3vMoj/0gvkaSBShP1aSoCQgKqE/xNp/G7/foj8NjNL2/z2kP+XuFIj6kKU//ndsdEnypj+s/LFFe7inPyBdtwa8BLA/dhBdo3a+sz/uJri0efK2P8I4+B2v67c/zZrMre0YuD/qL8jMqeW3P0BrcOAQ9rY/si3YY4NLuD+XyrLLUMO+P7u9AAwI2MM/UaU5sRbZzT8YBdQUBqPVP6ZeHlaMuNs/YpLCrbZA4D/8SroAyBfiP7cE5y+SruM/SQglSQEF5T9QvrnPtvLlP3Pe/2hdguY/bYGCNvvU5j99JycCQPLmP37m8fAHyOY/8hIjD7pG5j9eksPPx3XlPy3debnkZuQ/lDTwoDFC4z8WVBaLmiHiP0cPIBG5G+E/IQqZoxBC4D85bcGc+TTfP+0vr9CfAN4/lhONQLBE3D/x/yBQQVbZP6WyzVNildU/EW29Eyn80T/Mb7YOHonNP8piwJ2nb8Y/\",\"dtype\":\"float64\",\"shape\":[75]},\"y\":{\"__ndarray__\":\"GhExyth1ND/Sv8nbtpRIP2vylNV0PVE/aTum7souWD/At0SJ8fVgPw3Iuahxymc/MSNhhJWvcD/bTfBN02d3P2zb5nxnaoA/CD5h5MAGhz8NmeH1TyaQP+zrCsc9p5Y/LbKd76fGnz/bLW5ISEmmPww9YvTcQq8/JV2OstnstT8Er5Y7M8G+P0c+r3jqkcU/5h99k6ZBzj88bCIzFzjVP4enV8oyxN0//yH99nXg5D8qOpLLf0jtP5kqGJXUifQ/c9cS8kHP/D+/DpwzojQEQIEmwoanVwxA4lgXt9HgE0BSSZ2AJuIbQAMJih9jjiNA5q4l5INuK0AwTKYKRj0zQNv5fmq8/DpAaCJseHrtQkB/+zpwzoxKQM3MzMzMeFJAZmZmZmZqWEAAAAAAAFxeQM3MzMzMJmJAmpmZmZkfZUBmZmZmZhhoQDMzMzMzEWtAAAAAAAAKbkBmZmZmZoFwQM3MzMzM/XFAMzMzMzN6c0CamZmZmfZ0QAAAAAAAc3ZAZmZmZmbvd0DNzMzMzGt5QDMzMzMz6HpAmpmZmZlkfEAAAAAAAOF9QGZmZmZmXX9AZmZmZuZsgECamZmZGSuBQM3MzMxM6YFAAAAAAICngkAzMzMzs2WDQGZmZmbmI4RAmpmZmRnihEDNzMzMTKCFQAAAAACAXoZAMzMzM7Mch0BmZmZm5tqHQJqZmZkZmYhAzczMzExXiUAAAAAAgBWKQDMzMzOz04pAZmZmZuaRi0CamZmZGVCMQM3MzMxMDo1AAAAAAIDMjUAzMzMzs4qOQGZmZmbmSI9A\",\"dtype\":\"float64\",\"shape\":[75]}},\"selected\":{\"id\":\"a6242c43-9b85-4247-befa-0f784a9b21c2\",\"type\":\"Selection\"},\"selection_policy\":{\"id\":\"25a391cb-f84a-40f1-a337-a37eddf77fd9\",\"type\":\"UnionRenderers\"}},\"id\":\"3feb5b18-14f5-4693-9708-5928c20862eb\",\"type\":\"ColumnDataSource\"},{\"attributes\":{},\"id\":\"9e07152a-febb-4726-8635-0d14bb8b412b\",\"type\":\"BasicTicker\"},{\"attributes\":{\"plot\":null,\"text\":\"Linear pressure scale\"},\"id\":\"5d33fcc4-5971-4adf-b7bd-7e5678d963f2\",\"type\":\"Title\"},{\"attributes\":{},\"id\":\"2411efc6-ef0d-4a54-9663-1f3d1fad3f3c\",\"type\":\"UnionRenderers\"},{\"attributes\":{\"data_source\":{\"id\":\"268f77a2-ae1c-4f8a-a46e-0dd8beec3d58\",\"type\":\"ColumnDataSource\"},\"glyph\":{\"id\":\"db417ad4-8bfc-4a56-8124-49d9327d8e41\",\"type\":\"Line\"},\"hover_glyph\":null,\"muted_glyph\":null,\"nonselection_glyph\":{\"id\":\"1a618d31-d421-4130-8803-f7a2dc045eef\",\"type\":\"Line\"},\"selection_glyph\":null,\"view\":{\"id\":\"e492bd9f-23be-4929-a202-e1c86dcff9e4\",\"type\":\"CDSView\"}},\"id\":\"f17cdf07-9053-4d5c-bd7c-bbcf1cff75fe\",\"type\":\"GlyphRenderer\"},{\"attributes\":{\"fill_alpha\":{\"value\":0.1},\"fill_color\":{\"value\":\"#1f77b4\"},\"line_alpha\":{\"value\":0.1},\"line_color\":{\"value\":\"#1f77b4\"},\"x\":{\"field\":\"x\"},\"y\":{\"field\":\"y\"}},\"id\":\"b0e8816a-6274-4b38-a976-e899d26e232c\",\"type\":\"Square\"},{\"attributes\":{},\"id\":\"7186ef2c-05c3-4db4-be33-2256f68ced93\",\"type\":\"PanTool\"},{\"attributes\":{\"dimension\":1,\"plot\":{\"id\":\"53b00c77-904c-44aa-993b-ce5398b180e7\",\"subtype\":\"Figure\",\"type\":\"Plot\"},\"ticker\":{\"id\":\"bba9f23f-46b1-4c2e-bbec-dcde818d563e\",\"type\":\"BasicTicker\"}},\"id\":\"0354b574-1735-4d84-b94f-92fbd0eb8584\",\"type\":\"Grid\"},{\"attributes\":{\"bottom_units\":\"screen\",\"fill_alpha\":{\"value\":0.5},\"fill_color\":{\"value\":\"lightgrey\"},\"left_units\":\"screen\",\"level\":\"overlay\",\"line_alpha\":{\"value\":1.0},\"line_color\":{\"value\":\"black\"},\"line_dash\":[4,4],\"line_width\":{\"value\":2},\"plot\":null,\"render_mode\":\"css\",\"right_units\":\"screen\",\"top_units\":\"screen\"},\"id\":\"78ebe72f-77dd-4b61-911d-690f0bd383df\",\"type\":\"BoxAnnotation\"},{\"attributes\":{},\"id\":\"bba9f23f-46b1-4c2e-bbec-dcde818d563e\",\"type\":\"BasicTicker\"},{\"attributes\":{\"source\":{\"id\":\"8402e0ca-066e-4789-842b-0f9780e66ed3\",\"type\":\"ColumnDataSource\"}},\"id\":\"4d840d9e-8194-47e6-950f-3ba8c62ee371\",\"type\":\"CDSView\"},{\"attributes\":{\"axis_label\":\"cooling rate [K/day]\",\"formatter\":{\"id\":\"ebe19a31-a5ff-46d6-86e9-1c25ef89e8ce\",\"type\":\"BasicTickFormatter\"},\"plot\":{\"id\":\"53b00c77-904c-44aa-993b-ce5398b180e7\",\"subtype\":\"Figure\",\"type\":\"Plot\"},\"ticker\":{\"id\":\"9e07152a-febb-4726-8635-0d14bb8b412b\",\"type\":\"BasicTicker\"}},\"id\":\"2972bb84-7d21-47fa-a17b-98c23bf31224\",\"type\":\"LinearAxis\"},{\"attributes\":{\"axis_label\":\"pressure [mb]\",\"formatter\":{\"id\":\"1fe41f8e-74eb-40e1-9f1b-7d299f35a48b\",\"type\":\"BasicTickFormatter\"},\"plot\":{\"id\":\"53b00c77-904c-44aa-993b-ce5398b180e7\",\"subtype\":\"Figure\",\"type\":\"Plot\"},\"ticker\":{\"id\":\"bba9f23f-46b1-4c2e-bbec-dcde818d563e\",\"type\":\"BasicTicker\"}},\"id\":\"822d5a40-e6ae-4235-b14d-1cd9e80a4d70\",\"type\":\"LinearAxis\"},{\"attributes\":{\"line_alpha\":0.1,\"line_color\":\"#1f77b4\",\"line_dash\":[6],\"line_width\":5,\"x\":{\"field\":\"x\"},\"y\":{\"field\":\"y\"}},\"id\":\"3e6df7d5-fd80-483e-bbb2-a7082a6681f3\",\"type\":\"Line\"},{\"attributes\":{\"data_source\":{\"id\":\"2cde7086-9e55-4356-8933-1e2eb125fcd7\",\"type\":\"ColumnDataSource\"},\"glyph\":{\"id\":\"bd01ae1b-8b73-470e-ac75-35db47c64a0c\",\"type\":\"Circle\"},\"hover_glyph\":null,\"muted_glyph\":null,\"nonselection_glyph\":{\"id\":\"45c3fd4e-bb43-49d5-be02-ba384b1b8553\",\"type\":\"Circle\"},\"selection_glyph\":null,\"view\":{\"id\":\"f156137f-b1a6-4244-80f1-29044685b872\",\"type\":\"CDSView\"}},\"id\":\"9e94e08d-296b-49e5-a649-fd933f01de6b\",\"type\":\"GlyphRenderer\"},{\"attributes\":{},\"id\":\"1379930d-4305-4de7-85b3-d58e9fefbb90\",\"type\":\"WheelZoomTool\"},{\"attributes\":{\"source\":{\"id\":\"268f77a2-ae1c-4f8a-a46e-0dd8beec3d58\",\"type\":\"ColumnDataSource\"}},\"id\":\"e492bd9f-23be-4929-a202-e1c86dcff9e4\",\"type\":\"CDSView\"},{\"attributes\":{\"callback\":null,\"data\":{\"x\":{\"__ndarray__\":\"I7A3BqRKsT9xgwI4uwqzP+cO/Tsk+rc/31Ripgb9vD/z/HEUgzTBP5s3TgrzHsQ/PKlp9sRjxz8hNIr+M/fKP0mil1Est84/fx8nr0JI0T9yw++mWzbTPyr4lgcjFdU/HKNM1QPH1j+YDkLlBNLXP4ufrSBZwtc/a3F8owzL1j8xh5Pq8THVP+VNlyjvIdM/XwpRti/90D+QC9ZROK/OPzeuuYLxfM0/EhDVjPNUyj8KHOC0phrEP3h77/MIA74/+/j4QtDqtj+qhdbmpp2xPzw5sg4hkKs/hz1NYwQfpz/EBQg1L8alP/YWMv5NjaQ/9M/3Rrmjoj94QEYxWvagP82IHGz7aKE/y5ete38Roz/RaY93RA6kP4wvIbkRI6U/RSgHyqWlpj+7b16XP7GnP+PwRybnEbA/DUXBWTizsz+Lsj3Owou2P2Yihsx+Jbc/ORzuB2L3tj/wFWZsq4O2P1nKNMXcaLU/O1KtIC6Ctj9ZY/mI0r28P02AoxXGs8I/jVK2Br47zD8PhUueHXbUP8JgJ4rK5dk/1TyJAI7a3T+NE1d84LbgP+jOn3jGpeI/OvqpO2BI5D/HapDV7zrlPze1nudwyeU/XzUiWiNJ5j9eXiXEAbnmP+CPLnjJ5uY/rhIsDmee5j8YeHJ2AN7lPyTqaMmhzeQ/YKb10KGg4z/K8AoKpIDiP+epq45eheE/6l4G53zG4D+1edJ42DrgP0DS8eIOZd8/2RRdUSm63T8FJC+lDcvaP+mP3cMt+NY/xfakXZZA0z8a69EKwsvPP3eOt0vRgMg/\",\"dtype\":\"float64\",\"shape\":[75]},\"y\":{\"__ndarray__\":\"S/O/Q+51ND/Sv8nbtpRIP2vylNV0PVE/aTum7souWD/At0SJ8fVgPw3Iuahxymc/MSNhhJWvcD/bTfBN02d3P2zb5nxnaoA/CD5h5MAGhz8NmeH1TyaQP+zrCsc9p5Y/LbKd76fGnz/bLW5ISEmmPww9YvTcQq8/JV2OstnstT8Er5Y7M8G+P0c+r3jqkcU/5h99k6ZBzj88bCIzFzjVP4enV8oyxN0//yH99nXg5D8qOpLLf0jtP5kqGJXUifQ/c9cS8kHP/D+/DpwzojQEQIEmwoanVwxA4lgXt9HgE0BSSZ2AJuIbQAMJih9jjiNA5q4l5INuK0AwTKYKRj0zQNv5fmq8/DpAaCJseHrtQkB/+zpwzoxKQM3MzMzMeFJAZmZmZmZqWEAAAAAAAFxeQM3MzMzMJmJAmpmZmZkfZUBmZmZmZhhoQDMzMzMzEWtAAAAAAAAKbkBmZmZmZoFwQM3MzMzM/XFAMzMzMzN6c0CamZmZmfZ0QAAAAAAAc3ZAZmZmZmbvd0DNzMzMzGt5QDMzMzMz6HpAmpmZmZlkfEAAAAAAAOF9QGZmZmZmXX9AZmZmZuZsgECamZmZGSuBQM3MzMxM6YFAAAAAAICngkAzMzMzs2WDQGZmZmbmI4RAmpmZmRnihEDNzMzMTKCFQAAAAACAXoZAMzMzM7Mch0BmZmZm5tqHQJqZmZkZmYhAzczMzExXiUAAAAAAgBWKQDMzMzOz04pAZmZmZuaRi0CamZmZGVCMQM3MzMxMDo1AAAAAAIDMjUAzMzMzs4qOQGZmZmbmSI9A\",\"dtype\":\"float64\",\"shape\":[75]}},\"selected\":{\"id\":\"42e88b20-13bb-43fe-8a5b-31cef2c2c8c3\",\"type\":\"Selection\"},\"selection_policy\":{\"id\":\"d0c00c50-6d91-4d70-b651-4293ea5db78e\",\"type\":\"UnionRenderers\"}},\"id\":\"8402e0ca-066e-4789-842b-0f9780e66ed3\",\"type\":\"ColumnDataSource\"},{\"attributes\":{\"fill_alpha\":{\"value\":0.7},\"fill_color\":{\"value\":\"#984ea3\"},\"line_alpha\":{\"value\":0.7},\"line_color\":{\"value\":\"#984ea3\"},\"x\":{\"field\":\"x\"},\"y\":{\"field\":\"y\"}},\"id\":\"77eb5f59-3e3f-4c36-9c77-fb015ee777a4\",\"type\":\"Square\"},{\"attributes\":{\"data_source\":{\"id\":\"3feb5b18-14f5-4693-9708-5928c20862eb\",\"type\":\"ColumnDataSource\"},\"glyph\":{\"id\":\"77eb5f59-3e3f-4c36-9c77-fb015ee777a4\",\"type\":\"Square\"},\"hover_glyph\":null,\"muted_glyph\":null,\"nonselection_glyph\":{\"id\":\"b0e8816a-6274-4b38-a976-e899d26e232c\",\"type\":\"Square\"},\"selection_glyph\":null,\"view\":{\"id\":\"79e6cb06-709b-41f3-978b-ae156887dc13\",\"type\":\"CDSView\"}},\"id\":\"22acb475-7327-4b26-a79c-8a3668ddf97a\",\"type\":\"GlyphRenderer\"},{\"attributes\":{\"callback\":null,\"data\":{\"x\":{\"__ndarray__\":\"hGr/2iwkwD/y5aoe1VXBP/CjGvZ7YsQ/EHqRZLGoxz9F3Nb1jy7LP/7ReYXs2c4/CUHcD1dS0T/If/3nmzrTP5w484orF9U/Nt14mHLV1j/FfJKell3YP5qIChfql9k/JuSDns1q2j+0rYer2mDaP2pLXwDIJtk/FkjUNL0+1z/X8WeRUCfVP46RcEoOEtM/5J0JbiA00T9IGXEBaJTPPxAAXpfIIs4/OwHqWVLmyT9LZopzs8PCP9CWOX4k/Lo/SqNL/ZGptD9cW6iXQJOwP1LD1QbJMKs/DpKyA7acpz9C1R3I0GqmP2vlwNOtnKU/9bM1e9BOpD80tTx0GbWiPymk9er1hKI/e+bQFbH3oz+UuBKqaVGlPwRONQEmc6Y/KjRkyvQ8pz9LlxfDSVinP0Fnb3wvtq4/RHbbDtiYsj/NHBtMho21PxxUbuSyuLY/ZMg652pVtz8gChBMCLK3P4EDNPPfYbc/Q2DvQpYsuT+oKRPINrq/P2FdDTd9ScQ/neMvbwZmzj+DNvdfAATWP1Wi7C3lPNw/79xBDVuq4D/6CxxUC5riP+DXii5WEeQ/GBC1yNE35T/oPmtEURzmPxP39c8VveY/FMqILE4M5z/EStyVIwXnPyRMasstq+Y/JZHguiAK5j/WD3+HgTLlP4W/V1tONeQ/GP1wqa0l4z8LYTWWsBbiPwq4rU5KGOE/HIv5+7074D8bvgE9PxLfP2ks7RZ5wN0/oxYxiQbr2z9sbenq8e/YP4iCfH1rL9U/4mpsyKKd0T9kRQU1GeHMP91KZUCs7cU/\",\"dtype\":\"float64\",\"shape\":[75]},\"y\":{\"__ndarray__\":\"GhExyth1ND/Sv8nbtpRIP2vylNV0PVE/aTum7souWD/At0SJ8fVgPw3Iuahxymc/MSNhhJWvcD/bTfBN02d3P2zb5nxnaoA/CD5h5MAGhz8NmeH1TyaQP+zrCsc9p5Y/LbKd76fGnz/bLW5ISEmmPww9YvTcQq8/JV2OstnstT8Er5Y7M8G+P0c+r3jqkcU/5h99k6ZBzj88bCIzFzjVP4enV8oyxN0//yH99nXg5D8qOpLLf0jtP5kqGJXUifQ/c9cS8kHP/D+/DpwzojQEQIEmwoanVwxA4lgXt9HgE0BSSZ2AJuIbQAMJih9jjiNA5q4l5INuK0AwTKYKRj0zQNv5fmq8/DpAaCJseHrtQkB/+zpwzoxKQM3MzMzMeFJAZmZmZmZqWEAAAAAAAFxeQM3MzMzMJmJAmpmZmZkfZUBmZmZmZhhoQDMzMzMzEWtAAAAAAAAKbkBmZmZmZoFwQM3MzMzM/XFAMzMzMzN6c0CamZmZmfZ0QAAAAAAAc3ZAZmZmZmbvd0DNzMzMzGt5QDMzMzMz6HpAmpmZmZlkfEAAAAAAAOF9QGZmZmZmXX9AZmZmZuZsgECamZmZGSuBQM3MzMxM6YFAAAAAAICngkAzMzMzs2WDQGZmZmbmI4RAmpmZmRnihEDNzMzMTKCFQAAAAACAXoZAMzMzM7Mch0BmZmZm5tqHQJqZmZkZmYhAzczMzExXiUAAAAAAgBWKQDMzMzOz04pAZmZmZuaRi0CamZmZGVCMQM3MzMxMDo1AAAAAAIDMjUAzMzMzs4qOQGZmZmbmSI9A\",\"dtype\":\"float64\",\"shape\":[75]}},\"selected\":{\"id\":\"345eae41-aacb-452c-aa43-c6f9778c722a\",\"type\":\"Selection\"},\"selection_policy\":{\"id\":\"68410535-6234-4ce6-8eb5-db00511d9520\",\"type\":\"UnionRenderers\"}},\"id\":\"2cde7086-9e55-4356-8933-1e2eb125fcd7\",\"type\":\"ColumnDataSource\"},{\"attributes\":{\"fill_alpha\":{\"value\":0.7},\"fill_color\":{\"value\":\"#4daf4a\"},\"line_alpha\":{\"value\":0.7},\"line_color\":{\"value\":\"#4daf4a\"},\"x\":{\"field\":\"x\"},\"y\":{\"field\":\"y\"}},\"id\":\"bd01ae1b-8b73-470e-ac75-35db47c64a0c\",\"type\":\"Circle\"},{\"attributes\":{\"overlay\":{\"id\":\"78ebe72f-77dd-4b61-911d-690f0bd383df\",\"type\":\"BoxAnnotation\"}},\"id\":\"8b9cd429-842e-42e2-8e68-94e512c6b28a\",\"type\":\"BoxZoomTool\"},{\"attributes\":{},\"id\":\"6cd5ee43-b2cf-40d7-a7f2-7802b95e0dbb\",\"type\":\"ResetTool\"},{\"attributes\":{\"line_alpha\":0.1,\"line_color\":\"#1f77b4\",\"line_width\":1.5,\"x\":{\"field\":\"x\"},\"y\":{\"field\":\"y\"}},\"id\":\"1a618d31-d421-4130-8803-f7a2dc045eef\",\"type\":\"Line\"},{\"attributes\":{},\"id\":\"1e96d0c5-cf19-406c-8ad6-e121338c14b1\",\"type\":\"HelpTool\"},{\"attributes\":{\"callback\":null,\"end\":0.01,\"start\":1020},\"id\":\"0ebd1acd-4eaf-4788-9b09-4f4085600ecd\",\"type\":\"Range1d\"},{\"attributes\":{},\"id\":\"53ba40a1-6133-4a4d-ad65-146c50e16721\",\"type\":\"SaveTool\"},{\"attributes\":{\"callback\":null,\"data\":{\"x\":{\"__ndarray__\":\"hGr/2iwkwD/y5aoe1VXBP/CjGvZ7YsQ/EHqRZLGoxz9F3Nb1jy7LP/7ReYXs2c4/CUHcD1dS0T/If/3nmzrTP5w484orF9U/Nt14mHLV1j/FfJKell3YP5qIChfql9k/JuSDns1q2j+0rYer2mDaP2pLXwDIJtk/FkjUNL0+1z/X8WeRUCfVP46RcEoOEtM/5J0JbiA00T9IGXEBaJTPPxAAXpfIIs4/OwHqWVLmyT9LZopzs8PCP9CWOX4k/Lo/SqNL/ZGptD9cW6iXQJOwP1LD1QbJMKs/DpKyA7acpz9C1R3I0GqmP2vlwNOtnKU/9bM1e9BOpD80tTx0GbWiPymk9er1hKI/e+bQFbH3oz+UuBKqaVGlPwRONQEmc6Y/KjRkyvQ8pz9LlxfDSVinP0Fnb3wvtq4/RHbbDtiYsj/NHBtMho21PxxUbuSyuLY/ZMg652pVtz8gChBMCLK3P4EDNPPfYbc/Q2DvQpYsuT+oKRPINrq/P2FdDTd9ScQ/neMvbwZmzj+DNvdfAATWP1Wi7C3lPNw/79xBDVuq4D/6CxxUC5riP+DXii5WEeQ/GBC1yNE35T/oPmtEURzmPxP39c8VveY/FMqILE4M5z/EStyVIwXnPyRMasstq+Y/JZHguiAK5j/WD3+HgTLlP4W/V1tONeQ/GP1wqa0l4z8LYTWWsBbiPwq4rU5KGOE/HIv5+7074D8bvgE9PxLfP2ks7RZ5wN0/oxYxiQbr2z9sbenq8e/YP4iCfH1rL9U/4mpsyKKd0T9kRQU1GeHMP91KZUCs7cU/\",\"dtype\":\"float64\",\"shape\":[75]},\"y\":{\"__ndarray__\":\"GhExyth1ND/Sv8nbtpRIP2vylNV0PVE/aTum7souWD/At0SJ8fVgPw3Iuahxymc/MSNhhJWvcD/bTfBN02d3P2zb5nxnaoA/CD5h5MAGhz8NmeH1TyaQP+zrCsc9p5Y/LbKd76fGnz/bLW5ISEmmPww9YvTcQq8/JV2OstnstT8Er5Y7M8G+P0c+r3jqkcU/5h99k6ZBzj88bCIzFzjVP4enV8oyxN0//yH99nXg5D8qOpLLf0jtP5kqGJXUifQ/c9cS8kHP/D+/DpwzojQEQIEmwoanVwxA4lgXt9HgE0BSSZ2AJuIbQAMJih9jjiNA5q4l5INuK0AwTKYKRj0zQNv5fmq8/DpAaCJseHrtQkB/+zpwzoxKQM3MzMzMeFJAZmZmZmZqWEAAAAAAAFxeQM3MzMzMJmJAmpmZmZkfZUBmZmZmZhhoQDMzMzMzEWtAAAAAAAAKbkBmZmZmZoFwQM3MzMzM/XFAMzMzMzN6c0CamZmZmfZ0QAAAAAAAc3ZAZmZmZmbvd0DNzMzMzGt5QDMzMzMz6HpAmpmZmZlkfEAAAAAAAOF9QGZmZmZmXX9AZmZmZuZsgECamZmZGSuBQM3MzMxM6YFAAAAAAICngkAzMzMzs2WDQGZmZmbmI4RAmpmZmRnihEDNzMzMTKCFQAAAAACAXoZAMzMzM7Mch0BmZmZm5tqHQJqZmZkZmYhAzczMzExXiUAAAAAAgBWKQDMzMzOz04pAZmZmZuaRi0CamZmZGVCMQM3MzMxMDo1AAAAAAIDMjUAzMzMzs4qOQGZmZmbmSI9A\",\"dtype\":\"float64\",\"shape\":[75]}},\"selected\":{\"id\":\"653a6a43-9cab-42a3-80ea-af018130e368\",\"type\":\"Selection\"},\"selection_policy\":{\"id\":\"8f7432b7-e831-4329-b347-5dfdc894214d\",\"type\":\"UnionRenderers\"}},\"id\":\"268f77a2-ae1c-4f8a-a46e-0dd8beec3d58\",\"type\":\"ColumnDataSource\"},{\"attributes\":{\"source\":{\"id\":\"2cde7086-9e55-4356-8933-1e2eb125fcd7\",\"type\":\"ColumnDataSource\"}},\"id\":\"f156137f-b1a6-4244-80f1-29044685b872\",\"type\":\"CDSView\"},{\"attributes\":{\"data_source\":{\"id\":\"8402e0ca-066e-4789-842b-0f9780e66ed3\",\"type\":\"ColumnDataSource\"},\"glyph\":{\"id\":\"89e30013-2dbb-4a9c-b96c-dbcb99ec789b\",\"type\":\"Line\"},\"hover_glyph\":null,\"muted_glyph\":null,\"nonselection_glyph\":{\"id\":\"3e6df7d5-fd80-483e-bbb2-a7082a6681f3\",\"type\":\"Line\"},\"selection_glyph\":null,\"view\":{\"id\":\"4d840d9e-8194-47e6-950f-3ba8c62ee371\",\"type\":\"CDSView\"}},\"id\":\"99456075-96a5-4b6e-945c-7d442498cc03\",\"type\":\"GlyphRenderer\"},{\"attributes\":{\"plot\":{\"id\":\"53b00c77-904c-44aa-993b-ce5398b180e7\",\"subtype\":\"Figure\",\"type\":\"Plot\"},\"ticker\":{\"id\":\"9e07152a-febb-4726-8635-0d14bb8b412b\",\"type\":\"BasicTicker\"}},\"id\":\"0db105f8-6c95-4d3e-b4a9-673d8176131b\",\"type\":\"Grid\"},{\"attributes\":{\"below\":[{\"id\":\"2972bb84-7d21-47fa-a17b-98c23bf31224\",\"type\":\"LinearAxis\"}],\"left\":[{\"id\":\"822d5a40-e6ae-4235-b14d-1cd9e80a4d70\",\"type\":\"LinearAxis\"}],\"plot_height\":500,\"plot_width\":400,\"renderers\":[{\"id\":\"2972bb84-7d21-47fa-a17b-98c23bf31224\",\"type\":\"LinearAxis\"},{\"id\":\"0db105f8-6c95-4d3e-b4a9-673d8176131b\",\"type\":\"Grid\"},{\"id\":\"822d5a40-e6ae-4235-b14d-1cd9e80a4d70\",\"type\":\"LinearAxis\"},{\"id\":\"0354b574-1735-4d84-b94f-92fbd0eb8584\",\"type\":\"Grid\"},{\"id\":\"78ebe72f-77dd-4b61-911d-690f0bd383df\",\"type\":\"BoxAnnotation\"},{\"id\":\"99456075-96a5-4b6e-945c-7d442498cc03\",\"type\":\"GlyphRenderer\"},{\"id\":\"9e94e08d-296b-49e5-a649-fd933f01de6b\",\"type\":\"GlyphRenderer\"},{\"id\":\"f17cdf07-9053-4d5c-bd7c-bbcf1cff75fe\",\"type\":\"GlyphRenderer\"},{\"id\":\"22acb475-7327-4b26-a79c-8a3668ddf97a\",\"type\":\"GlyphRenderer\"},{\"id\":\"2fe41594-3db3-49eb-8f01-d245fab1498f\",\"type\":\"GlyphRenderer\"}],\"title\":{\"id\":\"5d33fcc4-5971-4adf-b7bd-7e5678d963f2\",\"type\":\"Title\"},\"toolbar\":{\"id\":\"9cb38e02-9ed0-4f31-a194-48d3e08e5b91\",\"type\":\"Toolbar\"},\"toolbar_location\":null,\"x_range\":{\"id\":\"17ea8576-4e92-4652-be35-22dfdf02b617\",\"type\":\"Range1d\"},\"x_scale\":{\"id\":\"fe464424-731a-431a-81c4-cd50d689b11d\",\"type\":\"LinearScale\"},\"y_range\":{\"id\":\"0ebd1acd-4eaf-4788-9b09-4f4085600ecd\",\"type\":\"Range1d\"},\"y_scale\":{\"id\":\"0f7859b5-ff74-4035-b9ba-55572918efaa\",\"type\":\"LinearScale\"}},\"id\":\"53b00c77-904c-44aa-993b-ce5398b180e7\",\"subtype\":\"Figure\",\"type\":\"Plot\"},{\"attributes\":{\"source\":{\"id\":\"3feb5b18-14f5-4693-9708-5928c20862eb\",\"type\":\"ColumnDataSource\"}},\"id\":\"79e6cb06-709b-41f3-978b-ae156887dc13\",\"type\":\"CDSView\"},{\"attributes\":{},\"id\":\"0f7859b5-ff74-4035-b9ba-55572918efaa\",\"type\":\"LinearScale\"},{\"attributes\":{},\"id\":\"fe464424-731a-431a-81c4-cd50d689b11d\",\"type\":\"LinearScale\"},{\"attributes\":{\"items\":[{\"id\":\"c960aba3-00cf-423b-9a7e-507a075388b6\",\"type\":\"LegendItem\"},{\"id\":\"f96443a0-fd3a-4409-828d-1e264c3c6078\",\"type\":\"LegendItem\"},{\"id\":\"dd60659d-2d34-4b23-ac66-99cedd391785\",\"type\":\"LegendItem\"}],\"label_text_font_size\":{\"value\":\"8pt\"},\"location\":[10,-30],\"plot\":{\"id\":\"8f1dea57-e565-4474-bb61-44b31558ec6c\",\"subtype\":\"Figure\",\"type\":\"Plot\"}},\"id\":\"3a893dee-89a1-4920-b6f8-9740738c21b8\",\"type\":\"Legend\"},{\"attributes\":{},\"id\":\"58225890-a918-4782-b973-a5f0b67353ad\",\"type\":\"UnionRenderers\"},{\"attributes\":{\"callback\":null,\"data\":{\"x\":{\"__ndarray__\":\"I7A3BqRKsT9xgwI4uwqzP+cO/Tsk+rc/31Ripgb9vD/z/HEUgzTBP5s3TgrzHsQ/PKlp9sRjxz8hNIr+M/fKP0mil1Est84/fx8nr0JI0T9yw++mWzbTPyr4lgcjFdU/HKNM1QPH1j+YDkLlBNLXP4ufrSBZwtc/a3F8owzL1j8xh5Pq8THVP+VNlyjvIdM/XwpRti/90D+QC9ZROK/OPzeuuYLxfM0/EhDVjPNUyj8KHOC0phrEP3h77/MIA74/+/j4QtDqtj+qhdbmpp2xPzw5sg4hkKs/hz1NYwQfpz/EBQg1L8alP/YWMv5NjaQ/9M/3Rrmjoj94QEYxWvagP82IHGz7aKE/y5ete38Roz/RaY93RA6kP4wvIbkRI6U/RSgHyqWlpj+7b16XP7GnP+PwRybnEbA/DUXBWTizsz+Lsj3Owou2P2Yihsx+Jbc/ORzuB2L3tj/wFWZsq4O2P1nKNMXcaLU/O1KtIC6Ctj9ZY/mI0r28P02AoxXGs8I/jVK2Br47zD8PhUueHXbUP8JgJ4rK5dk/1TyJAI7a3T+NE1d84LbgP+jOn3jGpeI/OvqpO2BI5D/HapDV7zrlPze1nudwyeU/XzUiWiNJ5j9eXiXEAbnmP+CPLnjJ5uY/rhIsDmee5j8YeHJ2AN7lPyTqaMmhzeQ/YKb10KGg4z/K8AoKpIDiP+epq45eheE/6l4G53zG4D+1edJ42DrgP0DS8eIOZd8/2RRdUSm63T8FJC+lDcvaP+mP3cMt+NY/xfakXZZA0z8a69EKwsvPP3eOt0vRgMg/\",\"dtype\":\"float64\",\"shape\":[75]},\"y\":{\"__ndarray__\":\"S/O/Q+51ND/Sv8nbtpRIP2vylNV0PVE/aTum7souWD/At0SJ8fVgPw3Iuahxymc/MSNhhJWvcD/bTfBN02d3P2zb5nxnaoA/CD5h5MAGhz8NmeH1TyaQP+zrCsc9p5Y/LbKd76fGnz/bLW5ISEmmPww9YvTcQq8/JV2OstnstT8Er5Y7M8G+P0c+r3jqkcU/5h99k6ZBzj88bCIzFzjVP4enV8oyxN0//yH99nXg5D8qOpLLf0jtP5kqGJXUifQ/c9cS8kHP/D+/DpwzojQEQIEmwoanVwxA4lgXt9HgE0BSSZ2AJuIbQAMJih9jjiNA5q4l5INuK0AwTKYKRj0zQNv5fmq8/DpAaCJseHrtQkB/+zpwzoxKQM3MzMzMeFJAZmZmZmZqWEAAAAAAAFxeQM3MzMzMJmJAmpmZmZkfZUBmZmZmZhhoQDMzMzMzEWtAAAAAAAAKbkBmZmZmZoFwQM3MzMzM/XFAMzMzMzN6c0CamZmZmfZ0QAAAAAAAc3ZAZmZmZmbvd0DNzMzMzGt5QDMzMzMz6HpAmpmZmZlkfEAAAAAAAOF9QGZmZmZmXX9AZmZmZuZsgECamZmZGSuBQM3MzMxM6YFAAAAAAICngkAzMzMzs2WDQGZmZmbmI4RAmpmZmRnihEDNzMzMTKCFQAAAAACAXoZAMzMzM7Mch0BmZmZm5tqHQJqZmZkZmYhAzczMzExXiUAAAAAAgBWKQDMzMzOz04pAZmZmZuaRi0CamZmZGVCMQM3MzMxMDo1AAAAAAIDMjUAzMzMzs4qOQGZmZmbmSI9A\",\"dtype\":\"float64\",\"shape\":[75]}},\"selected\":{\"id\":\"194bb2a5-ce9e-4918-98ff-85627dae76cd\",\"type\":\"Selection\"},\"selection_policy\":{\"id\":\"2411efc6-ef0d-4a54-9663-1f3d1fad3f3c\",\"type\":\"UnionRenderers\"}},\"id\":\"8f7148cb-746c-4cf1-87d2-11a32c10a1fe\",\"type\":\"ColumnDataSource\"},{\"attributes\":{},\"id\":\"3ffa4df6-ca2a-4209-9141-c732273359f3\",\"type\":\"Selection\"},{\"attributes\":{},\"id\":\"1a763c98-b2ee-4a0a-b0df-2eaa2933672d\",\"type\":\"Selection\"},{\"attributes\":{},\"id\":\"ff0f01f8-05aa-4281-9744-b2929eb728fc\",\"type\":\"UnionRenderers\"},{\"attributes\":{},\"id\":\"7853f015-5ad0-429e-a61d-84e6ba09012e\",\"type\":\"Selection\"},{\"attributes\":{},\"id\":\"cc56a46a-4daf-4098-9415-9eeefe97ceae\",\"type\":\"Selection\"},{\"attributes\":{\"toolbar\":{\"id\":\"cc41a241-e9f1-4f2b-9640-e028766f9ebc\",\"type\":\"ProxyToolbar\"},\"toolbar_location\":\"above\"},\"id\":\"4adbb9a8-94eb-47e2-a04d-4019e673240f\",\"type\":\"ToolbarBox\"},{\"attributes\":{\"active_drag\":\"auto\",\"active_inspect\":\"auto\",\"active_scroll\":\"auto\",\"active_tap\":\"auto\",\"tools\":[{\"id\":\"d4d657ea-9ed4-483e-ba44-99bcb2e3689d\",\"type\":\"PanTool\"},{\"id\":\"323c32eb-68f8-4cb4-bc17-0fa8088984bb\",\"type\":\"WheelZoomTool\"},{\"id\":\"48bc5db1-5803-4c56-81bd-f8702c974f96\",\"type\":\"BoxZoomTool\"},{\"id\":\"6d4b94ae-9a49-417d-b21e-366fd1e858ce\",\"type\":\"SaveTool\"},{\"id\":\"d5a2d67d-15f2-4815-85d1-f07e922c2bdb\",\"type\":\"ResetTool\"},{\"id\":\"58e6bfdc-8c8e-4a4c-86f1-e756783bfe74\",\"type\":\"HelpTool\"}]},\"id\":\"909c987f-3d01-48f6-ba7a-4ea71ea6fd05\",\"type\":\"Toolbar\"},{\"attributes\":{},\"id\":\"1668adb5-1892-41be-a587-758b3d82e488\",\"type\":\"UnionRenderers\"},{\"attributes\":{\"children\":[{\"id\":\"4adbb9a8-94eb-47e2-a04d-4019e673240f\",\"type\":\"ToolbarBox\"},{\"id\":\"a0c1b960-4ecf-4cc1-9706-5b1b679ec565\",\"type\":\"Column\"}]},\"id\":\"e9724402-3a75-4bbe-ab79-374d72f8d17b\",\"type\":\"Column\"},{\"attributes\":{},\"id\":\"04f189f6-9ab5-4f5a-978a-e97f79a80a1a\",\"type\":\"UnionRenderers\"},{\"attributes\":{\"fill_alpha\":{\"value\":0.7},\"fill_color\":{\"value\":\"#4daf4a\"},\"line_alpha\":{\"value\":0.7},\"line_color\":{\"value\":\"#4daf4a\"},\"x\":{\"field\":\"x\"},\"y\":{\"field\":\"y\"}},\"id\":\"fc69dc15-ab3a-4b33-8e68-707dc56933c4\",\"type\":\"Circle\"},{\"attributes\":{\"tools\":[{\"id\":\"7186ef2c-05c3-4db4-be33-2256f68ced93\",\"type\":\"PanTool\"},{\"id\":\"1379930d-4305-4de7-85b3-d58e9fefbb90\",\"type\":\"WheelZoomTool\"},{\"id\":\"8b9cd429-842e-42e2-8e68-94e512c6b28a\",\"type\":\"BoxZoomTool\"},{\"id\":\"53ba40a1-6133-4a4d-ad65-146c50e16721\",\"type\":\"SaveTool\"},{\"id\":\"6cd5ee43-b2cf-40d7-a7f2-7802b95e0dbb\",\"type\":\"ResetTool\"},{\"id\":\"1e96d0c5-cf19-406c-8ad6-e121338c14b1\",\"type\":\"HelpTool\"},{\"id\":\"d4d657ea-9ed4-483e-ba44-99bcb2e3689d\",\"type\":\"PanTool\"},{\"id\":\"323c32eb-68f8-4cb4-bc17-0fa8088984bb\",\"type\":\"WheelZoomTool\"},{\"id\":\"48bc5db1-5803-4c56-81bd-f8702c974f96\",\"type\":\"BoxZoomTool\"},{\"id\":\"6d4b94ae-9a49-417d-b21e-366fd1e858ce\",\"type\":\"SaveTool\"},{\"id\":\"d5a2d67d-15f2-4815-85d1-f07e922c2bdb\",\"type\":\"ResetTool\"},{\"id\":\"58e6bfdc-8c8e-4a4c-86f1-e756783bfe74\",\"type\":\"HelpTool\"}]},\"id\":\"cc41a241-e9f1-4f2b-9640-e028766f9ebc\",\"type\":\"ProxyToolbar\"},{\"attributes\":{\"line_alpha\":0.6,\"line_color\":\"#984ea3\",\"line_width\":3,\"x\":{\"field\":\"x\"},\"y\":{\"field\":\"y\"}},\"id\":\"12368ebf-c4ab-4930-a821-a8e476e60777\",\"type\":\"Line\"},{\"attributes\":{\"source\":{\"id\":\"51bb53d5-85e9-4b25-9e38-0fd59f2e00e3\",\"type\":\"ColumnDataSource\"}},\"id\":\"0cbd3f42-0ceb-4be9-a080-e21342394b9c\",\"type\":\"CDSView\"},{\"attributes\":{\"axis_label\":\"cooling rate [K/day]\",\"formatter\":{\"id\":\"e41cef7a-388f-44be-abd2-cb0c7d57996c\",\"type\":\"BasicTickFormatter\"},\"plot\":{\"id\":\"8f1dea57-e565-4474-bb61-44b31558ec6c\",\"subtype\":\"Figure\",\"type\":\"Plot\"},\"ticker\":{\"id\":\"220cb0be-e90a-443e-80c7-1cee2f78b466\",\"type\":\"BasicTicker\"}},\"id\":\"1255fcb3-4c58-41d1-96e9-36f21c9fb086\",\"type\":\"LinearAxis\"},{\"attributes\":{\"data_source\":{\"id\":\"ad058eaf-681a-4257-8329-9fed957099e8\",\"type\":\"ColumnDataSource\"},\"glyph\":{\"id\":\"fc69dc15-ab3a-4b33-8e68-707dc56933c4\",\"type\":\"Circle\"},\"hover_glyph\":null,\"muted_glyph\":null,\"nonselection_glyph\":{\"id\":\"876627ba-da14-4012-baf6-2f9bd9814a79\",\"type\":\"Circle\"},\"selection_glyph\":null,\"view\":{\"id\":\"5f164ea8-555d-41fa-9ccd-adf71c046916\",\"type\":\"CDSView\"}},\"id\":\"586ff259-32c5-4de4-8a24-205c75ac3fda\",\"type\":\"GlyphRenderer\"},{\"attributes\":{\"data_source\":{\"id\":\"8f7148cb-746c-4cf1-87d2-11a32c10a1fe\",\"type\":\"ColumnDataSource\"},\"glyph\":{\"id\":\"7f493250-d624-494c-93c1-b166c0109364\",\"type\":\"Line\"},\"hover_glyph\":null,\"muted_glyph\":null,\"nonselection_glyph\":{\"id\":\"ada02803-d56a-471d-9a59-aec65f687b38\",\"type\":\"Line\"},\"selection_glyph\":null,\"view\":{\"id\":\"31aee7bc-af1e-416c-81f8-5b2e4c14d8c5\",\"type\":\"CDSView\"}},\"id\":\"b2c1403e-c0bc-4ebf-aefd-68a5fdb869bc\",\"type\":\"GlyphRenderer\"},{\"attributes\":{\"plot\":{\"id\":\"8f1dea57-e565-4474-bb61-44b31558ec6c\",\"subtype\":\"Figure\",\"type\":\"Plot\"},\"ticker\":{\"id\":\"220cb0be-e90a-443e-80c7-1cee2f78b466\",\"type\":\"BasicTicker\"}},\"id\":\"caa5c7f7-1e93-4ba5-8bb0-d9cb0604d3e9\",\"type\":\"Grid\"},{\"attributes\":{\"line_color\":\"#4daf4a\",\"line_width\":1.5,\"x\":{\"field\":\"x\"},\"y\":{\"field\":\"y\"}},\"id\":\"70b7c776-24dd-4505-89a2-84e490c8f44a\",\"type\":\"Line\"},{\"attributes\":{\"line_alpha\":0.6,\"line_color\":\"#984ea3\",\"line_width\":3,\"x\":{\"field\":\"x\"},\"y\":{\"field\":\"y\"}},\"id\":\"539d194e-2fbe-4a33-86e9-2f444c2e822a\",\"type\":\"Line\"},{\"attributes\":{},\"id\":\"220cb0be-e90a-443e-80c7-1cee2f78b466\",\"type\":\"BasicTicker\"},{\"attributes\":{\"source\":{\"id\":\"ad058eaf-681a-4257-8329-9fed957099e8\",\"type\":\"ColumnDataSource\"}},\"id\":\"5f164ea8-555d-41fa-9ccd-adf71c046916\",\"type\":\"CDSView\"},{\"attributes\":{},\"id\":\"58e6bfdc-8c8e-4a4c-86f1-e756783bfe74\",\"type\":\"HelpTool\"},{\"attributes\":{\"fill_alpha\":{\"value\":0.1},\"fill_color\":{\"value\":\"#1f77b4\"},\"line_alpha\":{\"value\":0.1},\"line_color\":{\"value\":\"#1f77b4\"},\"x\":{\"field\":\"x\"},\"y\":{\"field\":\"y\"}},\"id\":\"876627ba-da14-4012-baf6-2f9bd9814a79\",\"type\":\"Circle\"},{\"attributes\":{},\"id\":\"6d4b94ae-9a49-417d-b21e-366fd1e858ce\",\"type\":\"SaveTool\"},{\"attributes\":{\"data_source\":{\"id\":\"51bb53d5-85e9-4b25-9e38-0fd59f2e00e3\",\"type\":\"ColumnDataSource\"},\"glyph\":{\"id\":\"12368ebf-c4ab-4930-a821-a8e476e60777\",\"type\":\"Line\"},\"hover_glyph\":null,\"muted_glyph\":null,\"nonselection_glyph\":{\"id\":\"fdfed2d5-8d14-42a0-b3b6-927ca6ca8d28\",\"type\":\"Line\"},\"selection_glyph\":null,\"view\":{\"id\":\"0cbd3f42-0ceb-4be9-a080-e21342394b9c\",\"type\":\"CDSView\"}},\"id\":\"2fe41594-3db3-49eb-8f01-d245fab1498f\",\"type\":\"GlyphRenderer\"},{\"attributes\":{\"source\":{\"id\":\"a37e436e-50a3-4a83-a115-64027ded41cc\",\"type\":\"ColumnDataSource\"}},\"id\":\"509a63d6-7652-4836-a763-a0bde083cf49\",\"type\":\"CDSView\"},{\"attributes\":{\"label\":{\"value\":\"CLIRAD `coolr_bands`\"},\"renderers\":[{\"id\":\"b2c1403e-c0bc-4ebf-aefd-68a5fdb869bc\",\"type\":\"GlyphRenderer\"}]},\"id\":\"c960aba3-00cf-423b-9a7e-507a075388b6\",\"type\":\"LegendItem\"},{\"attributes\":{\"callback\":null,\"data\":{\"x\":{\"__ndarray__\":\"UItNWdcAtj90zF8CK2a4P0SqqcEyb70/kESD9621wT8OHPaA9tfEP2N/S/DmM8g/b8bjNTXHyz9CMTKDYHvPPy/p76naodE/BNvnhiJ00z/yJI2nADvVPyHRa4I4ztY/cTi/lBMa2D+WEgw55qbYP65EF9bUDdg/nDY+vw6t1j+SbyLrqevUPw80FQkt+NI/Q/uv/2gY0T9cNYM/l1bPP9UuBuQtGs4/omsyDwhSyj/qSwS8PYjDP7H2lw6jsbw/QwhzhOT6tT/C9vPSEj6xP/OrU0sVYas/PMK4q4Qdpz8GmNEew5KlP/Q9/66UeKQ/ErdEd3vMoj/0gvkaSBShP1aSoCQgKqE/xNp/G7/foj8NjNL2/z2kP+XuFIj6kKU//ndsdEnypj+s/LFFe7inPyBdtwa8BLA/dhBdo3a+sz/uJri0efK2P8I4+B2v67c/zZrMre0YuD/qL8jMqeW3P0BrcOAQ9rY/si3YY4NLuD+XyrLLUMO+P7u9AAwI2MM/UaU5sRbZzT8YBdQUBqPVP6ZeHlaMuNs/YpLCrbZA4D/8SroAyBfiP7cE5y+SruM/SQglSQEF5T9QvrnPtvLlP3Pe/2hdguY/bYGCNvvU5j99JycCQPLmP37m8fAHyOY/8hIjD7pG5j9eksPPx3XlPy3debnkZuQ/lDTwoDFC4z8WVBaLmiHiP0cPIBG5G+E/IQqZoxBC4D85bcGc+TTfP+0vr9CfAN4/lhONQLBE3D/x/yBQQVbZP6WyzVNildU/EW29Eyn80T/Mb7YOHonNP8piwJ2nb8Y/\",\"dtype\":\"float64\",\"shape\":[75]},\"y\":{\"__ndarray__\":\"GhExyth1ND/Sv8nbtpRIP2vylNV0PVE/aTum7souWD/At0SJ8fVgPw3Iuahxymc/MSNhhJWvcD/bTfBN02d3P2zb5nxnaoA/CD5h5MAGhz8NmeH1TyaQP+zrCsc9p5Y/LbKd76fGnz/bLW5ISEmmPww9YvTcQq8/JV2OstnstT8Er5Y7M8G+P0c+r3jqkcU/5h99k6ZBzj88bCIzFzjVP4enV8oyxN0//yH99nXg5D8qOpLLf0jtP5kqGJXUifQ/c9cS8kHP/D+/DpwzojQEQIEmwoanVwxA4lgXt9HgE0BSSZ2AJuIbQAMJih9jjiNA5q4l5INuK0AwTKYKRj0zQNv5fmq8/DpAaCJseHrtQkB/+zpwzoxKQM3MzMzMeFJAZmZmZmZqWEAAAAAAAFxeQM3MzMzMJmJAmpmZmZkfZUBmZmZmZhhoQDMzMzMzEWtAAAAAAAAKbkBmZmZmZoFwQM3MzMzM/XFAMzMzMzN6c0CamZmZmfZ0QAAAAAAAc3ZAZmZmZmbvd0DNzMzMzGt5QDMzMzMz6HpAmpmZmZlkfEAAAAAAAOF9QGZmZmZmXX9AZmZmZuZsgECamZmZGSuBQM3MzMxM6YFAAAAAAICngkAzMzMzs2WDQGZmZmbmI4RAmpmZmRnihEDNzMzMTKCFQAAAAACAXoZAMzMzM7Mch0BmZmZm5tqHQJqZmZkZmYhAzczMzExXiUAAAAAAgBWKQDMzMzOz04pAZmZmZuaRi0CamZmZGVCMQM3MzMxMDo1AAAAAAIDMjUAzMzMzs4qOQGZmZmbmSI9A\",\"dtype\":\"float64\",\"shape\":[75]}},\"selected\":{\"id\":\"7853f015-5ad0-429e-a61d-84e6ba09012e\",\"type\":\"Selection\"},\"selection_policy\":{\"id\":\"1668adb5-1892-41be-a587-758b3d82e488\",\"type\":\"UnionRenderers\"}},\"id\":\"123f8712-f628-4f4d-854d-bfbd779a734a\",\"type\":\"ColumnDataSource\"},{\"attributes\":{\"source\":{\"id\":\"8f7148cb-746c-4cf1-87d2-11a32c10a1fe\",\"type\":\"ColumnDataSource\"}},\"id\":\"31aee7bc-af1e-416c-81f8-5b2e4c14d8c5\",\"type\":\"CDSView\"},{\"attributes\":{\"axis_label\":\"pressure [mb]\",\"formatter\":{\"id\":\"a24dae3e-0532-413b-8c96-fe0c74ef0334\",\"type\":\"LogTickFormatter\"},\"plot\":{\"id\":\"8f1dea57-e565-4474-bb61-44b31558ec6c\",\"subtype\":\"Figure\",\"type\":\"Plot\"},\"ticker\":{\"id\":\"44f18ce6-231c-4280-8c0d-f8b76b73ce39\",\"type\":\"LogTicker\"}},\"id\":\"4d022c6b-1302-4cd9-b007-641885c3dd86\",\"type\":\"LogAxis\"},{\"attributes\":{\"line_alpha\":0.6,\"line_color\":\"#e41a1c\",\"line_dash\":[6],\"line_width\":5,\"x\":{\"field\":\"x\"},\"y\":{\"field\":\"y\"}},\"id\":\"7f493250-d624-494c-93c1-b166c0109364\",\"type\":\"Line\"},{\"attributes\":{\"callback\":null,\"data\":{\"x\":{\"__ndarray__\":\"hGr/2iwkwD/y5aoe1VXBP/CjGvZ7YsQ/EHqRZLGoxz9F3Nb1jy7LP/7ReYXs2c4/CUHcD1dS0T/If/3nmzrTP5w484orF9U/Nt14mHLV1j/FfJKell3YP5qIChfql9k/JuSDns1q2j+0rYer2mDaP2pLXwDIJtk/FkjUNL0+1z/X8WeRUCfVP46RcEoOEtM/5J0JbiA00T9IGXEBaJTPPxAAXpfIIs4/OwHqWVLmyT9LZopzs8PCP9CWOX4k/Lo/SqNL/ZGptD9cW6iXQJOwP1LD1QbJMKs/DpKyA7acpz9C1R3I0GqmP2vlwNOtnKU/9bM1e9BOpD80tTx0GbWiPymk9er1hKI/e+bQFbH3oz+UuBKqaVGlPwRONQEmc6Y/KjRkyvQ8pz9LlxfDSVinP0Fnb3wvtq4/RHbbDtiYsj/NHBtMho21PxxUbuSyuLY/ZMg652pVtz8gChBMCLK3P4EDNPPfYbc/Q2DvQpYsuT+oKRPINrq/P2FdDTd9ScQ/neMvbwZmzj+DNvdfAATWP1Wi7C3lPNw/79xBDVuq4D/6CxxUC5riP+DXii5WEeQ/GBC1yNE35T/oPmtEURzmPxP39c8VveY/FMqILE4M5z/EStyVIwXnPyRMasstq+Y/JZHguiAK5j/WD3+HgTLlP4W/V1tONeQ/GP1wqa0l4z8LYTWWsBbiPwq4rU5KGOE/HIv5+7074D8bvgE9PxLfP2ks7RZ5wN0/oxYxiQbr2z9sbenq8e/YP4iCfH1rL9U/4mpsyKKd0T9kRQU1GeHMP91KZUCs7cU/\",\"dtype\":\"float64\",\"shape\":[75]},\"y\":{\"__ndarray__\":\"GhExyth1ND/Sv8nbtpRIP2vylNV0PVE/aTum7souWD/At0SJ8fVgPw3Iuahxymc/MSNhhJWvcD/bTfBN02d3P2zb5nxnaoA/CD5h5MAGhz8NmeH1TyaQP+zrCsc9p5Y/LbKd76fGnz/bLW5ISEmmPww9YvTcQq8/JV2OstnstT8Er5Y7M8G+P0c+r3jqkcU/5h99k6ZBzj88bCIzFzjVP4enV8oyxN0//yH99nXg5D8qOpLLf0jtP5kqGJXUifQ/c9cS8kHP/D+/DpwzojQEQIEmwoanVwxA4lgXt9HgE0BSSZ2AJuIbQAMJih9jjiNA5q4l5INuK0AwTKYKRj0zQNv5fmq8/DpAaCJseHrtQkB/+zpwzoxKQM3MzMzMeFJAZmZmZmZqWEAAAAAAAFxeQM3MzMzMJmJAmpmZmZkfZUBmZmZmZhhoQDMzMzMzEWtAAAAAAAAKbkBmZmZmZoFwQM3MzMzM/XFAMzMzMzN6c0CamZmZmfZ0QAAAAAAAc3ZAZmZmZmbvd0DNzMzMzGt5QDMzMzMz6HpAmpmZmZlkfEAAAAAAAOF9QGZmZmZmXX9AZmZmZuZsgECamZmZGSuBQM3MzMxM6YFAAAAAAICngkAzMzMzs2WDQGZmZmbmI4RAmpmZmRnihEDNzMzMTKCFQAAAAACAXoZAMzMzM7Mch0BmZmZm5tqHQJqZmZkZmYhAzczMzExXiUAAAAAAgBWKQDMzMzOz04pAZmZmZuaRi0CamZmZGVCMQM3MzMxMDo1AAAAAAIDMjUAzMzMzs4qOQGZmZmbmSI9A\",\"dtype\":\"float64\",\"shape\":[75]}},\"selected\":{\"id\":\"1a763c98-b2ee-4a0a-b0df-2eaa2933672d\",\"type\":\"Selection\"},\"selection_policy\":{\"id\":\"58225890-a918-4782-b973-a5f0b67353ad\",\"type\":\"UnionRenderers\"}},\"id\":\"ad058eaf-681a-4257-8329-9fed957099e8\",\"type\":\"ColumnDataSource\"},{\"attributes\":{},\"id\":\"d4d657ea-9ed4-483e-ba44-99bcb2e3689d\",\"type\":\"PanTool\"},{\"attributes\":{\"line_alpha\":0.1,\"line_color\":\"#1f77b4\",\"line_width\":3,\"x\":{\"field\":\"x\"},\"y\":{\"field\":\"y\"}},\"id\":\"fdfed2d5-8d14-42a0-b3b6-927ca6ca8d28\",\"type\":\"Line\"},{\"attributes\":{\"dimension\":1,\"plot\":{\"id\":\"8f1dea57-e565-4474-bb61-44b31558ec6c\",\"subtype\":\"Figure\",\"type\":\"Plot\"},\"ticker\":{\"id\":\"44f18ce6-231c-4280-8c0d-f8b76b73ce39\",\"type\":\"LogTicker\"}},\"id\":\"b8c8999b-f1be-4c28-8542-71fa85f8c640\",\"type\":\"Grid\"},{\"attributes\":{\"fill_alpha\":{\"value\":0.1},\"fill_color\":{\"value\":\"#1f77b4\"},\"line_alpha\":{\"value\":0.1},\"line_color\":{\"value\":\"#1f77b4\"},\"x\":{\"field\":\"x\"},\"y\":{\"field\":\"y\"}},\"id\":\"45c3fd4e-bb43-49d5-be02-ba384b1b8553\",\"type\":\"Circle\"},{\"attributes\":{},\"id\":\"323c32eb-68f8-4cb4-bc17-0fa8088984bb\",\"type\":\"WheelZoomTool\"},{\"attributes\":{\"callback\":null,\"data\":{\"x\":{\"__ndarray__\":\"UItNWdcAtj90zF8CK2a4P0SqqcEyb70/kESD9621wT8OHPaA9tfEP2N/S/DmM8g/b8bjNTXHyz9CMTKDYHvPPy/p76naodE/BNvnhiJ00z/yJI2nADvVPyHRa4I4ztY/cTi/lBMa2D+WEgw55qbYP65EF9bUDdg/nDY+vw6t1j+SbyLrqevUPw80FQkt+NI/Q/uv/2gY0T9cNYM/l1bPP9UuBuQtGs4/omsyDwhSyj/qSwS8PYjDP7H2lw6jsbw/QwhzhOT6tT/C9vPSEj6xP/OrU0sVYas/PMK4q4Qdpz8GmNEew5KlP/Q9/66UeKQ/ErdEd3vMoj/0gvkaSBShP1aSoCQgKqE/xNp/G7/foj8NjNL2/z2kP+XuFIj6kKU//ndsdEnypj+s/LFFe7inPyBdtwa8BLA/dhBdo3a+sz/uJri0efK2P8I4+B2v67c/zZrMre0YuD/qL8jMqeW3P0BrcOAQ9rY/si3YY4NLuD+XyrLLUMO+P7u9AAwI2MM/UaU5sRbZzT8YBdQUBqPVP6ZeHlaMuNs/YpLCrbZA4D/8SroAyBfiP7cE5y+SruM/SQglSQEF5T9QvrnPtvLlP3Pe/2hdguY/bYGCNvvU5j99JycCQPLmP37m8fAHyOY/8hIjD7pG5j9eksPPx3XlPy3debnkZuQ/lDTwoDFC4z8WVBaLmiHiP0cPIBG5G+E/IQqZoxBC4D85bcGc+TTfP+0vr9CfAN4/lhONQLBE3D/x/yBQQVbZP6WyzVNildU/EW29Eyn80T/Mb7YOHonNP8piwJ2nb8Y/\",\"dtype\":\"float64\",\"shape\":[75]},\"y\":{\"__ndarray__\":\"GhExyth1ND/Sv8nbtpRIP2vylNV0PVE/aTum7souWD/At0SJ8fVgPw3Iuahxymc/MSNhhJWvcD/bTfBN02d3P2zb5nxnaoA/CD5h5MAGhz8NmeH1TyaQP+zrCsc9p5Y/LbKd76fGnz/bLW5ISEmmPww9YvTcQq8/JV2OstnstT8Er5Y7M8G+P0c+r3jqkcU/5h99k6ZBzj88bCIzFzjVP4enV8oyxN0//yH99nXg5D8qOpLLf0jtP5kqGJXUifQ/c9cS8kHP/D+/DpwzojQEQIEmwoanVwxA4lgXt9HgE0BSSZ2AJuIbQAMJih9jjiNA5q4l5INuK0AwTKYKRj0zQNv5fmq8/DpAaCJseHrtQkB/+zpwzoxKQM3MzMzMeFJAZmZmZmZqWEAAAAAAAFxeQM3MzMzMJmJAmpmZmZkfZUBmZmZmZhhoQDMzMzMzEWtAAAAAAAAKbkBmZmZmZoFwQM3MzMzM/XFAMzMzMzN6c0CamZmZmfZ0QAAAAAAAc3ZAZmZmZmbvd0DNzMzMzGt5QDMzMzMz6HpAmpmZmZlkfEAAAAAAAOF9QGZmZmZmXX9AZmZmZuZsgECamZmZGSuBQM3MzMxM6YFAAAAAAICngkAzMzMzs2WDQGZmZmbmI4RAmpmZmRnihEDNzMzMTKCFQAAAAACAXoZAMzMzM7Mch0BmZmZm5tqHQJqZmZkZmYhAzczMzExXiUAAAAAAgBWKQDMzMzOz04pAZmZmZuaRi0CamZmZGVCMQM3MzMxMDo1AAAAAAIDMjUAzMzMzs4qOQGZmZmbmSI9A\",\"dtype\":\"float64\",\"shape\":[75]}},\"selected\":{\"id\":\"cc56a46a-4daf-4098-9415-9eeefe97ceae\",\"type\":\"Selection\"},\"selection_policy\":{\"id\":\"04f189f6-9ab5-4f5a-978a-e97f79a80a1a\",\"type\":\"UnionRenderers\"}},\"id\":\"a37e436e-50a3-4a83-a115-64027ded41cc\",\"type\":\"ColumnDataSource\"},{\"attributes\":{\"data_source\":{\"id\":\"a37e436e-50a3-4a83-a115-64027ded41cc\",\"type\":\"ColumnDataSource\"},\"glyph\":{\"id\":\"539d194e-2fbe-4a33-86e9-2f444c2e822a\",\"type\":\"Line\"},\"hover_glyph\":null,\"muted_glyph\":null,\"nonselection_glyph\":{\"id\":\"3a7d8756-b447-46fe-9b7c-28334d7903b8\",\"type\":\"Line\"},\"selection_glyph\":null,\"view\":{\"id\":\"509a63d6-7652-4836-a763-a0bde083cf49\",\"type\":\"CDSView\"}},\"id\":\"4759e3e5-9a32-48c9-be94-f6e2f98cc915\",\"type\":\"GlyphRenderer\"},{\"attributes\":{\"callback\":null,\"data\":{\"x\":{\"__ndarray__\":\"hGr/2iwkwD/y5aoe1VXBP/CjGvZ7YsQ/EHqRZLGoxz9F3Nb1jy7LP/7ReYXs2c4/CUHcD1dS0T/If/3nmzrTP5w484orF9U/Nt14mHLV1j/FfJKell3YP5qIChfql9k/JuSDns1q2j+0rYer2mDaP2pLXwDIJtk/FkjUNL0+1z/X8WeRUCfVP46RcEoOEtM/5J0JbiA00T9IGXEBaJTPPxAAXpfIIs4/OwHqWVLmyT9LZopzs8PCP9CWOX4k/Lo/SqNL/ZGptD9cW6iXQJOwP1LD1QbJMKs/DpKyA7acpz9C1R3I0GqmP2vlwNOtnKU/9bM1e9BOpD80tTx0GbWiPymk9er1hKI/e+bQFbH3oz+UuBKqaVGlPwRONQEmc6Y/KjRkyvQ8pz9LlxfDSVinP0Fnb3wvtq4/RHbbDtiYsj/NHBtMho21PxxUbuSyuLY/ZMg652pVtz8gChBMCLK3P4EDNPPfYbc/Q2DvQpYsuT+oKRPINrq/P2FdDTd9ScQ/neMvbwZmzj+DNvdfAATWP1Wi7C3lPNw/79xBDVuq4D/6CxxUC5riP+DXii5WEeQ/GBC1yNE35T/oPmtEURzmPxP39c8VveY/FMqILE4M5z/EStyVIwXnPyRMasstq+Y/JZHguiAK5j/WD3+HgTLlP4W/V1tONeQ/GP1wqa0l4z8LYTWWsBbiPwq4rU5KGOE/HIv5+7074D8bvgE9PxLfP2ks7RZ5wN0/oxYxiQbr2z9sbenq8e/YP4iCfH1rL9U/4mpsyKKd0T9kRQU1GeHMP91KZUCs7cU/\",\"dtype\":\"float64\",\"shape\":[75]},\"y\":{\"__ndarray__\":\"GhExyth1ND/Sv8nbtpRIP2vylNV0PVE/aTum7souWD/At0SJ8fVgPw3Iuahxymc/MSNhhJWvcD/bTfBN02d3P2zb5nxnaoA/CD5h5MAGhz8NmeH1TyaQP+zrCsc9p5Y/LbKd76fGnz/bLW5ISEmmPww9YvTcQq8/JV2OstnstT8Er5Y7M8G+P0c+r3jqkcU/5h99k6ZBzj88bCIzFzjVP4enV8oyxN0//yH99nXg5D8qOpLLf0jtP5kqGJXUifQ/c9cS8kHP/D+/DpwzojQEQIEmwoanVwxA4lgXt9HgE0BSSZ2AJuIbQAMJih9jjiNA5q4l5INuK0AwTKYKRj0zQNv5fmq8/DpAaCJseHrtQkB/+zpwzoxKQM3MzMzMeFJAZmZmZmZqWEAAAAAAAFxeQM3MzMzMJmJAmpmZmZkfZUBmZmZmZhhoQDMzMzMzEWtAAAAAAAAKbkBmZmZmZoFwQM3MzMzM/XFAMzMzMzN6c0CamZmZmfZ0QAAAAAAAc3ZAZmZmZmbvd0DNzMzMzGt5QDMzMzMz6HpAmpmZmZlkfEAAAAAAAOF9QGZmZmZmXX9AZmZmZuZsgECamZmZGSuBQM3MzMxM6YFAAAAAAICngkAzMzMzs2WDQGZmZmbmI4RAmpmZmRnihEDNzMzMTKCFQAAAAACAXoZAMzMzM7Mch0BmZmZm5tqHQJqZmZkZmYhAzczMzExXiUAAAAAAgBWKQDMzMzOz04pAZmZmZuaRi0CamZmZGVCMQM3MzMxMDo1AAAAAAIDMjUAzMzMzs4qOQGZmZmbmSI9A\",\"dtype\":\"float64\",\"shape\":[75]}},\"selected\":{\"id\":\"3ffa4df6-ca2a-4209-9141-c732273359f3\",\"type\":\"Selection\"},\"selection_policy\":{\"id\":\"ff0f01f8-05aa-4281-9744-b2929eb728fc\",\"type\":\"UnionRenderers\"}},\"id\":\"16489772-68e4-4279-a891-9c024738e6da\",\"type\":\"ColumnDataSource\"},{\"attributes\":{\"line_alpha\":0.1,\"line_color\":\"#1f77b4\",\"line_width\":1.5,\"x\":{\"field\":\"x\"},\"y\":{\"field\":\"y\"}},\"id\":\"3398ef44-c2f8-4cc9-8781-a30b4e86b932\",\"type\":\"Line\"},{\"attributes\":{\"children\":[{\"id\":\"53b00c77-904c-44aa-993b-ce5398b180e7\",\"subtype\":\"Figure\",\"type\":\"Plot\"},{\"id\":\"8f1dea57-e565-4474-bb61-44b31558ec6c\",\"subtype\":\"Figure\",\"type\":\"Plot\"}]},\"id\":\"b861e78f-ae66-42bd-920e-cfee65be6901\",\"type\":\"Row\"},{\"attributes\":{\"bottom_units\":\"screen\",\"fill_alpha\":{\"value\":0.5},\"fill_color\":{\"value\":\"lightgrey\"},\"left_units\":\"screen\",\"level\":\"overlay\",\"line_alpha\":{\"value\":1.0},\"line_color\":{\"value\":\"black\"},\"line_dash\":[4,4],\"line_width\":{\"value\":2},\"plot\":null,\"render_mode\":\"css\",\"right_units\":\"screen\",\"top_units\":\"screen\"},\"id\":\"a2984ead-2120-4bfb-9b03-0b42b9d6d37f\",\"type\":\"BoxAnnotation\"},{\"attributes\":{\"data_source\":{\"id\":\"16489772-68e4-4279-a891-9c024738e6da\",\"type\":\"ColumnDataSource\"},\"glyph\":{\"id\":\"70b7c776-24dd-4505-89a2-84e490c8f44a\",\"type\":\"Line\"},\"hover_glyph\":null,\"muted_glyph\":null,\"nonselection_glyph\":{\"id\":\"3398ef44-c2f8-4cc9-8781-a30b4e86b932\",\"type\":\"Line\"},\"selection_glyph\":null,\"view\":{\"id\":\"33632b75-1eee-490a-8f50-610ac784332c\",\"type\":\"CDSView\"}},\"id\":\"b8c04726-6ab4-42b0-8740-b65d2262faf4\",\"type\":\"GlyphRenderer\"},{\"attributes\":{\"source\":{\"id\":\"16489772-68e4-4279-a891-9c024738e6da\",\"type\":\"ColumnDataSource\"}},\"id\":\"33632b75-1eee-490a-8f50-610ac784332c\",\"type\":\"CDSView\"},{\"attributes\":{\"callback\":null,\"end\":0.01,\"start\":1020},\"id\":\"df42055e-1a66-4e2c-b61a-6929af441dc7\",\"type\":\"Range1d\"},{\"attributes\":{\"fill_alpha\":{\"value\":0.7},\"fill_color\":{\"value\":\"#984ea3\"},\"line_alpha\":{\"value\":0.7},\"line_color\":{\"value\":\"#984ea3\"},\"x\":{\"field\":\"x\"},\"y\":{\"field\":\"y\"}},\"id\":\"c09695bc-7008-4627-b908-0bd3286671b3\",\"type\":\"Square\"},{\"attributes\":{},\"id\":\"ebe19a31-a5ff-46d6-86e9-1c25ef89e8ce\",\"type\":\"BasicTickFormatter\"},{\"attributes\":{\"callback\":null,\"data\":{\"x\":{\"__ndarray__\":\"UItNWdcAtj90zF8CK2a4P0SqqcEyb70/kESD9621wT8OHPaA9tfEP2N/S/DmM8g/b8bjNTXHyz9CMTKDYHvPPy/p76naodE/BNvnhiJ00z/yJI2nADvVPyHRa4I4ztY/cTi/lBMa2D+WEgw55qbYP65EF9bUDdg/nDY+vw6t1j+SbyLrqevUPw80FQkt+NI/Q/uv/2gY0T9cNYM/l1bPP9UuBuQtGs4/omsyDwhSyj/qSwS8PYjDP7H2lw6jsbw/QwhzhOT6tT/C9vPSEj6xP/OrU0sVYas/PMK4q4Qdpz8GmNEew5KlP/Q9/66UeKQ/ErdEd3vMoj/0gvkaSBShP1aSoCQgKqE/xNp/G7/foj8NjNL2/z2kP+XuFIj6kKU//ndsdEnypj+s/LFFe7inPyBdtwa8BLA/dhBdo3a+sz/uJri0efK2P8I4+B2v67c/zZrMre0YuD/qL8jMqeW3P0BrcOAQ9rY/si3YY4NLuD+XyrLLUMO+P7u9AAwI2MM/UaU5sRbZzT8YBdQUBqPVP6ZeHlaMuNs/YpLCrbZA4D/8SroAyBfiP7cE5y+SruM/SQglSQEF5T9QvrnPtvLlP3Pe/2hdguY/bYGCNvvU5j99JycCQPLmP37m8fAHyOY/8hIjD7pG5j9eksPPx3XlPy3debnkZuQ/lDTwoDFC4z8WVBaLmiHiP0cPIBG5G+E/IQqZoxBC4D85bcGc+TTfP+0vr9CfAN4/lhONQLBE3D/x/yBQQVbZP6WyzVNildU/EW29Eyn80T/Mb7YOHonNP8piwJ2nb8Y/\",\"dtype\":\"float64\",\"shape\":[75]},\"y\":{\"__ndarray__\":\"GhExyth1ND/Sv8nbtpRIP2vylNV0PVE/aTum7souWD/At0SJ8fVgPw3Iuahxymc/MSNhhJWvcD/bTfBN02d3P2zb5nxnaoA/CD5h5MAGhz8NmeH1TyaQP+zrCsc9p5Y/LbKd76fGnz/bLW5ISEmmPww9YvTcQq8/JV2OstnstT8Er5Y7M8G+P0c+r3jqkcU/5h99k6ZBzj88bCIzFzjVP4enV8oyxN0//yH99nXg5D8qOpLLf0jtP5kqGJXUifQ/c9cS8kHP/D+/DpwzojQEQIEmwoanVwxA4lgXt9HgE0BSSZ2AJuIbQAMJih9jjiNA5q4l5INuK0AwTKYKRj0zQNv5fmq8/DpAaCJseHrtQkB/+zpwzoxKQM3MzMzMeFJAZmZmZmZqWEAAAAAAAFxeQM3MzMzMJmJAmpmZmZkfZUBmZmZmZhhoQDMzMzMzEWtAAAAAAAAKbkBmZmZmZoFwQM3MzMzM/XFAMzMzMzN6c0CamZmZmfZ0QAAAAAAAc3ZAZmZmZmbvd0DNzMzMzGt5QDMzMzMz6HpAmpmZmZlkfEAAAAAAAOF9QGZmZmZmXX9AZmZmZuZsgECamZmZGSuBQM3MzMxM6YFAAAAAAICngkAzMzMzs2WDQGZmZmbmI4RAmpmZmRnihEDNzMzMTKCFQAAAAACAXoZAMzMzM7Mch0BmZmZm5tqHQJqZmZkZmYhAzczMzExXiUAAAAAAgBWKQDMzMzOz04pAZmZmZuaRi0CamZmZGVCMQM3MzMxMDo1AAAAAAIDMjUAzMzMzs4qOQGZmZmbmSI9A\",\"dtype\":\"float64\",\"shape\":[75]}},\"selected\":{\"id\":\"e07740e2-6215-4e64-826c-4e025fd9caab\",\"type\":\"Selection\"},\"selection_policy\":{\"id\":\"3e125585-fdaa-4d79-b4ec-3c6670a02c7e\",\"type\":\"UnionRenderers\"}},\"id\":\"51bb53d5-85e9-4b25-9e38-0fd59f2e00e3\",\"type\":\"ColumnDataSource\"},{\"attributes\":{\"line_alpha\":0.6,\"line_color\":\"#e41a1c\",\"line_dash\":[6],\"line_width\":5,\"x\":{\"field\":\"x\"},\"y\":{\"field\":\"y\"}},\"id\":\"89e30013-2dbb-4a9c-b96c-dbcb99ec789b\",\"type\":\"Line\"},{\"attributes\":{\"fill_alpha\":{\"value\":0.1},\"fill_color\":{\"value\":\"#1f77b4\"},\"line_alpha\":{\"value\":0.1},\"line_color\":{\"value\":\"#1f77b4\"},\"x\":{\"field\":\"x\"},\"y\":{\"field\":\"y\"}},\"id\":\"7a2e352f-827c-4207-bcd3-deb7c9f5fa28\",\"type\":\"Square\"},{\"attributes\":{\"data_source\":{\"id\":\"123f8712-f628-4f4d-854d-bfbd779a734a\",\"type\":\"ColumnDataSource\"},\"glyph\":{\"id\":\"c09695bc-7008-4627-b908-0bd3286671b3\",\"type\":\"Square\"},\"hover_glyph\":null,\"muted_glyph\":null,\"nonselection_glyph\":{\"id\":\"7a2e352f-827c-4207-bcd3-deb7c9f5fa28\",\"type\":\"Square\"},\"selection_glyph\":null,\"view\":{\"id\":\"469b38f1-bead-4786-ac84-1e8b8f4a40b2\",\"type\":\"CDSView\"}},\"id\":\"28c254f9-26ce-441c-812c-3be511a52e59\",\"type\":\"GlyphRenderer\"},{\"attributes\":{\"line_alpha\":0.1,\"line_color\":\"#1f77b4\",\"line_dash\":[6],\"line_width\":5,\"x\":{\"field\":\"x\"},\"y\":{\"field\":\"y\"}},\"id\":\"ada02803-d56a-471d-9a59-aec65f687b38\",\"type\":\"Line\"},{\"attributes\":{\"source\":{\"id\":\"123f8712-f628-4f4d-854d-bfbd779a734a\",\"type\":\"ColumnDataSource\"}},\"id\":\"469b38f1-bead-4786-ac84-1e8b8f4a40b2\",\"type\":\"CDSView\"},{\"attributes\":{},\"id\":\"345eae41-aacb-452c-aa43-c6f9778c722a\",\"type\":\"Selection\"},{\"attributes\":{\"label\":{\"value\":\"CRD\"},\"renderers\":[{\"id\":\"586ff259-32c5-4de4-8a24-205c75ac3fda\",\"type\":\"GlyphRenderer\"},{\"id\":\"b8c04726-6ab4-42b0-8740-b65d2262faf4\",\"type\":\"GlyphRenderer\"}]},\"id\":\"f96443a0-fd3a-4409-828d-1e264c3c6078\",\"type\":\"LegendItem\"},{\"attributes\":{\"overlay\":{\"id\":\"a2984ead-2120-4bfb-9b03-0b42b9d6d37f\",\"type\":\"BoxAnnotation\"}},\"id\":\"48bc5db1-5803-4c56-81bd-f8702c974f96\",\"type\":\"BoxZoomTool\"},{\"attributes\":{},\"id\":\"a6242c43-9b85-4247-befa-0f784a9b21c2\",\"type\":\"Selection\"},{\"attributes\":{\"label\":{\"value\":\"WGT igg=10 wgt_flux=2\"},\"renderers\":[{\"id\":\"28c254f9-26ce-441c-812c-3be511a52e59\",\"type\":\"GlyphRenderer\"},{\"id\":\"4759e3e5-9a32-48c9-be94-f6e2f98cc915\",\"type\":\"GlyphRenderer\"}]},\"id\":\"dd60659d-2d34-4b23-ac66-99cedd391785\",\"type\":\"LegendItem\"},{\"attributes\":{\"num_minor_ticks\":10},\"id\":\"44f18ce6-231c-4280-8c0d-f8b76b73ce39\",\"type\":\"LogTicker\"},{\"attributes\":{},\"id\":\"d0c00c50-6d91-4d70-b651-4293ea5db78e\",\"type\":\"UnionRenderers\"},{\"attributes\":{\"callback\":null,\"end\":0.41656514231,\"start\":0.029333126689999996},\"id\":\"81433793-f211-447b-99e9-bba974cba7d2\",\"type\":\"Range1d\"},{\"attributes\":{},\"id\":\"1fe41f8e-74eb-40e1-9f1b-7d299f35a48b\",\"type\":\"BasicTickFormatter\"},{\"attributes\":{},\"id\":\"42e88b20-13bb-43fe-8a5b-31cef2c2c8c3\",\"type\":\"Selection\"},{\"attributes\":{},\"id\":\"50137f07-2ff3-42eb-8b02-942397fe31d0\",\"type\":\"LinearScale\"},{\"attributes\":{},\"id\":\"653a6a43-9cab-42a3-80ea-af018130e368\",\"type\":\"Selection\"},{\"attributes\":{},\"id\":\"d5a2d67d-15f2-4815-85d1-f07e922c2bdb\",\"type\":\"ResetTool\"},{\"attributes\":{},\"id\":\"e07740e2-6215-4e64-826c-4e025fd9caab\",\"type\":\"Selection\"},{\"attributes\":{},\"id\":\"68410535-6234-4ce6-8eb5-db00511d9520\",\"type\":\"UnionRenderers\"},{\"attributes\":{},\"id\":\"194bb2a5-ce9e-4918-98ff-85627dae76cd\",\"type\":\"Selection\"},{\"attributes\":{\"line_alpha\":0.1,\"line_color\":\"#1f77b4\",\"line_width\":3,\"x\":{\"field\":\"x\"},\"y\":{\"field\":\"y\"}},\"id\":\"3a7d8756-b447-46fe-9b7c-28334d7903b8\",\"type\":\"Line\"},{\"attributes\":{},\"id\":\"8f7432b7-e831-4329-b347-5dfdc894214d\",\"type\":\"UnionRenderers\"},{\"attributes\":{},\"id\":\"992c4dc7-ae7f-419e-8c7b-1e6be5895f44\",\"type\":\"LogScale\"},{\"attributes\":{},\"id\":\"e41cef7a-388f-44be-abd2-cb0c7d57996c\",\"type\":\"BasicTickFormatter\"},{\"attributes\":{},\"id\":\"25a391cb-f84a-40f1-a337-a37eddf77fd9\",\"type\":\"UnionRenderers\"},{\"attributes\":{\"ticker\":null},\"id\":\"a24dae3e-0532-413b-8c96-fe0c74ef0334\",\"type\":\"LogTickFormatter\"},{\"attributes\":{},\"id\":\"3e125585-fdaa-4d79-b4ec-3c6670a02c7e\",\"type\":\"UnionRenderers\"},{\"attributes\":{\"plot\":null,\"text\":\"Log pressure scale\"},\"id\":\"9a4bb15e-d0ba-4818-87dd-2c662a3ccc51\",\"type\":\"Title\"}],\"root_ids\":[\"e9724402-3a75-4bbe-ab79-374d72f8d17b\"]},\"title\":\"Bokeh Application\",\"version\":\"0.12.16\"}};\n",
       "  var render_items = [{\"docid\":\"d60ba42d-01bc-43ad-a9a6-bea2326789a3\",\"elementid\":\"78a294a7-97e3-4e5d-8e48-1801495deae3\",\"modelid\":\"e9724402-3a75-4bbe-ab79-374d72f8d17b\"}];\n",
       "  root.Bokeh.embed.embed_items_notebook(docs_json, render_items);\n",
       "\n",
       "  }\n",
       "  if (root.Bokeh !== undefined) {\n",
       "    embed_document(root);\n",
       "  } else {\n",
       "    var attempts = 0;\n",
       "    var timer = setInterval(function(root) {\n",
       "      if (root.Bokeh !== undefined) {\n",
       "        embed_document(root);\n",
       "        clearInterval(timer);\n",
       "      }\n",
       "      attempts++;\n",
       "      if (attempts > 100) {\n",
       "        console.log(\"Bokeh: ERROR: Unable to run BokehJS code because BokehJS library is missing\")\n",
       "        clearInterval(timer);\n",
       "      }\n",
       "    }, 10, root)\n",
       "  }\n",
       "})(window);"
      ],
      "application/vnd.bokehjs_exec.v0+json": ""
     },
     "metadata": {
      "application/vnd.bokehjs_exec.v0+json": {
       "id": "e9724402-3a75-4bbe-ab79-374d72f8d17b"
      }
     },
     "output_type": "display_data"
    },
    {
     "name": "stdout",
     "output_type": "stream",
     "text": [
      "FIGURE. Cooling rate profiles.\n"
     ]
    },
    {
     "data": {
      "text/html": [
       "<a id=\"Flux_Comparison\"></a>"
      ],
      "text/plain": [
       "<IPython.core.display.HTML object>"
      ]
     },
     "metadata": {},
     "output_type": "display_data"
    },
    {
     "data": {
      "text/markdown": [
       "# Flux Comparison"
      ],
      "text/plain": [
       "<IPython.core.display.Markdown object>"
      ]
     },
     "metadata": {},
     "output_type": "display_data"
    },
    {
     "data": {
      "text/html": [
       "<div>\n",
       "<style scoped>\n",
       "    .dataframe tbody tr th:only-of-type {\n",
       "        vertical-align: middle;\n",
       "    }\n",
       "\n",
       "    .dataframe tbody tr th {\n",
       "        vertical-align: top;\n",
       "    }\n",
       "\n",
       "    .dataframe thead th {\n",
       "        text-align: right;\n",
       "    }\n",
       "</style>\n",
       "<table border=\"1\" class=\"dataframe\">\n",
       "  <thead>\n",
       "    <tr style=\"text-align: right;\">\n",
       "      <th></th>\n",
       "      <th></th>\n",
       "      <th>flug</th>\n",
       "      <th>fldg</th>\n",
       "      <th>fnetg</th>\n",
       "    </tr>\n",
       "    <tr>\n",
       "      <th>pressure</th>\n",
       "      <th>level</th>\n",
       "      <th></th>\n",
       "      <th></th>\n",
       "      <th></th>\n",
       "    </tr>\n",
       "  </thead>\n",
       "  <tbody>\n",
       "    <tr>\n",
       "      <th>0.0000</th>\n",
       "      <th>1</th>\n",
       "      <td>-51.937341</td>\n",
       "      <td>0.000000</td>\n",
       "      <td>-51.937341</td>\n",
       "    </tr>\n",
       "    <tr>\n",
       "      <th>1.0685</th>\n",
       "      <th>24</th>\n",
       "      <td>-51.933296</td>\n",
       "      <td>0.024665</td>\n",
       "      <td>-51.908631</td>\n",
       "    </tr>\n",
       "    <tr>\n",
       "      <th>1013.0000</th>\n",
       "      <th>76</th>\n",
       "      <td>-58.183530</td>\n",
       "      <td>48.895848</td>\n",
       "      <td>-9.287681</td>\n",
       "    </tr>\n",
       "  </tbody>\n",
       "</table>\n",
       "</div>"
      ],
      "text/plain": [
       "                      flug       fldg      fnetg\n",
       "pressure  level                                 \n",
       "0.0000    1     -51.937341   0.000000 -51.937341\n",
       "1.0685    24    -51.933296   0.024665 -51.908631\n",
       "1013.0000 76    -58.183530  48.895848  -9.287681"
      ]
     },
     "metadata": {},
     "output_type": "display_data"
    },
    {
     "name": "stdout",
     "output_type": "stream",
     "text": [
      "Table. Fluxes. CRD\n"
     ]
    },
    {
     "data": {
      "text/html": [
       "<div>\n",
       "<style scoped>\n",
       "    .dataframe tbody tr th:only-of-type {\n",
       "        vertical-align: middle;\n",
       "    }\n",
       "\n",
       "    .dataframe tbody tr th {\n",
       "        vertical-align: top;\n",
       "    }\n",
       "\n",
       "    .dataframe thead th {\n",
       "        text-align: right;\n",
       "    }\n",
       "</style>\n",
       "<table border=\"1\" class=\"dataframe\">\n",
       "  <thead>\n",
       "    <tr style=\"text-align: right;\">\n",
       "      <th></th>\n",
       "      <th></th>\n",
       "      <th>flug</th>\n",
       "      <th>fldg</th>\n",
       "      <th>fnetg</th>\n",
       "    </tr>\n",
       "    <tr>\n",
       "      <th>pressure</th>\n",
       "      <th>level</th>\n",
       "      <th></th>\n",
       "      <th></th>\n",
       "      <th></th>\n",
       "    </tr>\n",
       "  </thead>\n",
       "  <tbody>\n",
       "    <tr>\n",
       "      <th>0.0000</th>\n",
       "      <th>1</th>\n",
       "      <td>-51.584891</td>\n",
       "      <td>0.000000</td>\n",
       "      <td>-51.584891</td>\n",
       "    </tr>\n",
       "    <tr>\n",
       "      <th>1.0685</th>\n",
       "      <th>24</th>\n",
       "      <td>-51.580545</td>\n",
       "      <td>0.024281</td>\n",
       "      <td>-51.556264</td>\n",
       "    </tr>\n",
       "    <tr>\n",
       "      <th>1013.0000</th>\n",
       "      <th>76</th>\n",
       "      <td>-58.183529</td>\n",
       "      <td>49.206367</td>\n",
       "      <td>-8.977162</td>\n",
       "    </tr>\n",
       "  </tbody>\n",
       "</table>\n",
       "</div>"
      ],
      "text/plain": [
       "                      flug       fldg      fnetg\n",
       "pressure  level                                 \n",
       "0.0000    1     -51.584891   0.000000 -51.584891\n",
       "1.0685    24    -51.580545   0.024281 -51.556264\n",
       "1013.0000 76    -58.183529  49.206367  -8.977162"
      ]
     },
     "metadata": {},
     "output_type": "display_data"
    },
    {
     "name": "stdout",
     "output_type": "stream",
     "text": [
      "Table. Fluxes. WGT igg=10 wgt_flux=1\n"
     ]
    },
    {
     "data": {
      "text/html": [
       "<div>\n",
       "<style scoped>\n",
       "    .dataframe tbody tr th:only-of-type {\n",
       "        vertical-align: middle;\n",
       "    }\n",
       "\n",
       "    .dataframe tbody tr th {\n",
       "        vertical-align: top;\n",
       "    }\n",
       "\n",
       "    .dataframe thead th {\n",
       "        text-align: right;\n",
       "    }\n",
       "</style>\n",
       "<table border=\"1\" class=\"dataframe\">\n",
       "  <thead>\n",
       "    <tr style=\"text-align: right;\">\n",
       "      <th></th>\n",
       "      <th></th>\n",
       "      <th>flug</th>\n",
       "      <th>fldg</th>\n",
       "      <th>fnetg</th>\n",
       "    </tr>\n",
       "    <tr>\n",
       "      <th>pressure</th>\n",
       "      <th>level</th>\n",
       "      <th></th>\n",
       "      <th></th>\n",
       "      <th></th>\n",
       "    </tr>\n",
       "  </thead>\n",
       "  <tbody>\n",
       "    <tr>\n",
       "      <th>1.000000e-08</th>\n",
       "      <th>1</th>\n",
       "      <td>-51.863529</td>\n",
       "      <td>0.000003</td>\n",
       "      <td>-51.863527</td>\n",
       "    </tr>\n",
       "    <tr>\n",
       "      <th>1.068500e+00</th>\n",
       "      <th>24</th>\n",
       "      <td>-51.859104</td>\n",
       "      <td>0.024091</td>\n",
       "      <td>-51.835013</td>\n",
       "    </tr>\n",
       "    <tr>\n",
       "      <th>1.013000e+03</th>\n",
       "      <th>76</th>\n",
       "      <td>-58.183530</td>\n",
       "      <td>48.763727</td>\n",
       "      <td>-9.419803</td>\n",
       "    </tr>\n",
       "  </tbody>\n",
       "</table>\n",
       "</div>"
      ],
      "text/plain": [
       "                         flug       fldg      fnetg\n",
       "pressure     level                                 \n",
       "1.000000e-08 1     -51.863529   0.000003 -51.863527\n",
       "1.068500e+00 24    -51.859104   0.024091 -51.835013\n",
       "1.013000e+03 76    -58.183530  48.763727  -9.419803"
      ]
     },
     "metadata": {},
     "output_type": "display_data"
    },
    {
     "name": "stdout",
     "output_type": "stream",
     "text": [
      "Table. Fluxes. CLIRAD\n"
     ]
    },
    {
     "data": {
      "text/html": [
       "<div>\n",
       "<style scoped>\n",
       "    .dataframe tbody tr th:only-of-type {\n",
       "        vertical-align: middle;\n",
       "    }\n",
       "\n",
       "    .dataframe tbody tr th {\n",
       "        vertical-align: top;\n",
       "    }\n",
       "\n",
       "    .dataframe thead th {\n",
       "        text-align: right;\n",
       "    }\n",
       "</style>\n",
       "<table border=\"1\" class=\"dataframe\">\n",
       "  <thead>\n",
       "    <tr style=\"text-align: right;\">\n",
       "      <th></th>\n",
       "      <th></th>\n",
       "      <th>flug</th>\n",
       "      <th>fldg</th>\n",
       "      <th>fnetg</th>\n",
       "    </tr>\n",
       "    <tr>\n",
       "      <th>pressure</th>\n",
       "      <th>level</th>\n",
       "      <th></th>\n",
       "      <th></th>\n",
       "      <th></th>\n",
       "    </tr>\n",
       "  </thead>\n",
       "  <tbody>\n",
       "    <tr>\n",
       "      <th>0.0000</th>\n",
       "      <th>1</th>\n",
       "      <td>3.524501e-01</td>\n",
       "      <td>0.000000</td>\n",
       "      <td>0.352450</td>\n",
       "    </tr>\n",
       "    <tr>\n",
       "      <th>1.0685</th>\n",
       "      <th>24</th>\n",
       "      <td>3.527509e-01</td>\n",
       "      <td>-0.000385</td>\n",
       "      <td>0.352367</td>\n",
       "    </tr>\n",
       "    <tr>\n",
       "      <th>1013.0000</th>\n",
       "      <th>76</th>\n",
       "      <td>7.317000e-07</td>\n",
       "      <td>0.310519</td>\n",
       "      <td>0.310519</td>\n",
       "    </tr>\n",
       "  </tbody>\n",
       "</table>\n",
       "</div>"
      ],
      "text/plain": [
       "                         flug      fldg     fnetg\n",
       "pressure  level                                  \n",
       "0.0000    1      3.524501e-01  0.000000  0.352450\n",
       "1.0685    24     3.527509e-01 -0.000385  0.352367\n",
       "1013.0000 76     7.317000e-07  0.310519  0.310519"
      ]
     },
     "metadata": {},
     "output_type": "display_data"
    },
    {
     "name": "stdout",
     "output_type": "stream",
     "text": [
      "Table. Fluxes. (WGT igg=10 wgt_flux=1) - (CRD)\n"
     ]
    },
    {
     "data": {
      "text/html": [
       "<div>\n",
       "<style scoped>\n",
       "    .dataframe tbody tr th:only-of-type {\n",
       "        vertical-align: middle;\n",
       "    }\n",
       "\n",
       "    .dataframe tbody tr th {\n",
       "        vertical-align: top;\n",
       "    }\n",
       "\n",
       "    .dataframe thead th {\n",
       "        text-align: right;\n",
       "    }\n",
       "</style>\n",
       "<table border=\"1\" class=\"dataframe\">\n",
       "  <thead>\n",
       "    <tr style=\"text-align: right;\">\n",
       "      <th></th>\n",
       "      <th></th>\n",
       "      <th>flug</th>\n",
       "      <th>fldg</th>\n",
       "      <th>fnetg</th>\n",
       "    </tr>\n",
       "    <tr>\n",
       "      <th>pressure</th>\n",
       "      <th>level</th>\n",
       "      <th></th>\n",
       "      <th></th>\n",
       "      <th></th>\n",
       "    </tr>\n",
       "  </thead>\n",
       "  <tbody>\n",
       "    <tr>\n",
       "      <th>0.0000</th>\n",
       "      <th>1</th>\n",
       "      <td>0.073812</td>\n",
       "      <td>0.000003</td>\n",
       "      <td>0.073814</td>\n",
       "    </tr>\n",
       "    <tr>\n",
       "      <th>1.0685</th>\n",
       "      <th>24</th>\n",
       "      <td>0.074192</td>\n",
       "      <td>-0.000574</td>\n",
       "      <td>0.073618</td>\n",
       "    </tr>\n",
       "    <tr>\n",
       "      <th>1013.0000</th>\n",
       "      <th>76</th>\n",
       "      <td>0.000000</td>\n",
       "      <td>-0.132121</td>\n",
       "      <td>-0.132121</td>\n",
       "    </tr>\n",
       "  </tbody>\n",
       "</table>\n",
       "</div>"
      ],
      "text/plain": [
       "                     flug      fldg     fnetg\n",
       "pressure  level                              \n",
       "0.0000    1      0.073812  0.000003  0.073814\n",
       "1.0685    24     0.074192 -0.000574  0.073618\n",
       "1013.0000 76     0.000000 -0.132121 -0.132121"
      ]
     },
     "metadata": {},
     "output_type": "display_data"
    },
    {
     "name": "stdout",
     "output_type": "stream",
     "text": [
      "Table. Fluxes. (CLIRAD) - (CRD)\n"
     ]
    },
    {
     "data": {
      "text/html": [
       "<a id=\"Best-fit_Parameters\"></a>"
      ],
      "text/plain": [
       "<IPython.core.display.HTML object>"
      ]
     },
     "metadata": {},
     "output_type": "display_data"
    },
    {
     "data": {
      "text/markdown": [
       "# Best-fit Parameters"
      ],
      "text/plain": [
       "<IPython.core.display.Markdown object>"
      ]
     },
     "metadata": {},
     "output_type": "display_data"
    },
    {
     "name": "stdout",
     "output_type": "stream",
     "text": [
      "Best-fit values for each (gas, band)\n",
      "------------------------------------\n",
      "o h2o band2\n",
      "  atmpro = mls\n",
      "  band = 2\n",
      "  commitnumber = a06b618\n",
      "  conc = None\n",
      "  dv = 0.001\n",
      "  klin = 0\n",
      "  molecule = h2o\n",
      "  ng_adju = [-2, -2, 0]\n",
      "  ng_refs = [2, 3, 6]\n",
      "  nv = 1000\n",
      "  option_compute_btable = 0\n",
      "  option_compute_ktable = 1\n",
      "  option_wgt_flux = 1\n",
      "  option_wgt_k = 1\n",
      "  ref_pts = [(1, 250), (10, 250), (500, 250)]\n",
      "  tsfc = 294\n",
      "  vmax = 540\n",
      "  vmin = 340\n",
      "  w_diffuse = [(1.66, 1.66), (1.8, 1.8, 1.8), (1.8, 1.66, 1.45, 1.45, 1.45, 1.45)]\n",
      "  wgt = [(0.6, 0.6), (0.6, 0.6, 0.6), (0.6, 0.6, 0.6, 0.6, 0.6, 0.6)]\n"
     ]
    }
   ],
   "source": [
    "script()"
   ]
  },
  {
   "cell_type": "code",
   "execution_count": 13,
   "metadata": {
    "collapsed": true
   },
   "outputs": [
    {
     "data": {
      "text/html": [
       "<script>\n",
       "code_show=true; \n",
       "function code_toggle() {\n",
       " if (code_show){\n",
       " $('div.input').hide();\n",
       " } else {\n",
       " $('div.input').show();\n",
       " }\n",
       " code_show = !code_show\n",
       "} \n",
       "$( document ).ready(code_toggle);\n",
       "</script>\n",
       "<form action=\"javascript:code_toggle()\"><input type=\"submit\" value=\"Click here to toggle on/off the raw code.\"></form>"
      ],
      "text/plain": [
       "<IPython.core.display.HTML object>"
      ]
     },
     "execution_count": 13,
     "metadata": {},
     "output_type": "execute_result"
    }
   ],
   "source": [
    "display.HTML('''<script>\n",
    "code_show=true; \n",
    "function code_toggle() {\n",
    " if (code_show){\n",
    " $('div.input').hide();\n",
    " } else {\n",
    " $('div.input').show();\n",
    " }\n",
    " code_show = !code_show\n",
    "} \n",
    "$( document ).ready(code_toggle);\n",
    "</script>\n",
    "<form action=\"javascript:code_toggle()\"><input type=\"submit\" value=\"Click here to toggle on/off the raw code.\"></form>''')"
   ]
  }
 ],
 "metadata": {
  "kernelspec": {
   "display_name": "Python 3",
   "language": "python",
   "name": "python3"
  },
  "language_info": {
   "codemirror_mode": {
    "name": "ipython",
    "version": 3
   },
   "file_extension": ".py",
   "mimetype": "text/x-python",
   "name": "python",
   "nbconvert_exporter": "python",
   "pygments_lexer": "ipython3",
   "version": "3.6.1"
  }
 },
 "nbformat": 4,
 "nbformat_minor": 2
}
