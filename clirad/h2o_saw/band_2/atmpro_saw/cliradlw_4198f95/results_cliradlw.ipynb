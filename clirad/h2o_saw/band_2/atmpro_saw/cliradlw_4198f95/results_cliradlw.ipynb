{
 "cells": [
  {
   "cell_type": "code",
   "execution_count": 1,
   "metadata": {
    "collapsed": true
   },
   "outputs": [],
   "source": [
    "%matplotlib inline\n",
    "import os\n",
    "import re\n",
    "import io\n",
    "import itertools\n",
    "import pprint\n",
    "\n",
    "from bokeh.io import output_notebook, show\n",
    "from bokeh.layouts import gridplot\n",
    "from bokeh.plotting import figure\n",
    "from bokeh.models import Range1d, Legend\n",
    "from bokeh.palettes import all_palettes\n",
    "\n",
    "import matplotlib\n",
    "import matplotlib.pyplot as plt\n",
    "import numpy as np\n",
    "import pandas as pd\n",
    "import xarray as xr\n",
    "\n",
    "import climatools.lblnew.bestfit_params as bestfits\n",
    "from climatools.lblnew import setup_bestfit, setup_overlap\n",
    "import climatools.lblnew.pipeline as pipe_lblnew\n",
    "import climatools.cliradlw.setup as setup_cliradlw\n",
    "import climatools.cliradlw.pipeline as pipe_cliradlw\n",
    "\n",
    "import climatools.html.html as climahtml\n",
    "from climatools.lblnew.dataio import *\n",
    "from climatools.plot.plot import *\n",
    "\n",
    "\n",
    "import IPython.display as display"
   ]
  },
  {
   "cell_type": "code",
   "execution_count": 2,
   "metadata": {
    "collapsed": true
   },
   "outputs": [],
   "source": [
    "%run param.py"
   ]
  },
  {
   "cell_type": "code",
   "execution_count": 3,
   "metadata": {
    "collapsed": true
   },
   "outputs": [],
   "source": [
    "def load_output_file(path_csv):\n",
    "    '''\n",
    "    Load lblnew output .csv file to xarray.Dataset\n",
    "    \n",
    "    Parameters\n",
    "    ----------\n",
    "    path_csv: str\n",
    "              Path to the .csv file to be loaded.\n",
    "    ds: xarray.Dataset\n",
    "        Data in the input file in the form of an xarray.Dataset.\n",
    "    '''\n",
    "    toindex = ['band', 'pressure', 'igg', 'g']    \n",
    "    df = pd.read_csv(path_csv, sep=r'\\s+')\n",
    "    df = df.set_index([i for i in toindex if i in df.columns])\n",
    "    df = df.rename(columns={'sfu': 'flug',\n",
    "                            'sfd': 'fldg',\n",
    "                            'fnet': 'fnetg',\n",
    "                            'coolr': 'coolrg'})\n",
    "    ds = xr.Dataset.from_dataframe(df)\n",
    "\n",
    "    for l in ('level', 'layer'):\n",
    "        if l in ds.data_vars:\n",
    "            if len(ds[l].dims) > 1:\n",
    "                surface = {d: 0 for d in ds.dims if d != 'pressure'}\n",
    "                coord_level = ds[l][surface]\n",
    "                ds.coords[l] = ('pressure', coord_level)\n",
    "            else:\n",
    "                ds.coords[l] = ('pressure', ds[l])\n",
    "    \n",
    "    return ds"
   ]
  },
  {
   "cell_type": "code",
   "execution_count": 4,
   "metadata": {
    "collapsed": true
   },
   "outputs": [],
   "source": [
    "def lblnew_setup(param=None):\n",
    "    if 'ng_refs' in param:\n",
    "        return {'setup': setup_bestfit,\n",
    "                'fname_flux_crd': 'output_flux.dat',\n",
    "                'fname_cool_crd': 'output_coolr.dat',\n",
    "                'fname_flux_wgt': 'output_wfluxg.dat',\n",
    "                'fname_cool_wgt': 'output_wcoolrg.dat'}\n",
    "    else:\n",
    "        return {'setup': setup_overlap,\n",
    "                'fname_flux_crd': 'output_flux.dat',\n",
    "                'fname_cool_crd': 'output_coolr.dat',\n",
    "                'fname_flux_wgt': 'output_wflux.dat',\n",
    "                'fname_cool_wgt': 'output_wcoolr.dat'}\n",
    "\n",
    "    \n",
    "def load_lblnew_data(param):\n",
    "    \n",
    "    fname_dsname = [('fname_flux_crd', 'ds_flux_crd'),\n",
    "                    ('fname_cool_crd', 'ds_cool_crd'),\n",
    "                    ('fname_flux_wgt', 'ds_flux_wgt'),\n",
    "                    ('fname_cool_wgt', 'ds_cool_wgt')]\n",
    "    \n",
    "    d = lblnew_setup(param)\n",
    "    dir_fortran = pipe_lblnew.get_dir_case(param, setup=d['setup'])\n",
    "    \n",
    "    data_dict = {}\n",
    "    for fname, dsname in fname_dsname:\n",
    "        fpath = os.path.join(dir_fortran, d[fname])\n",
    "        data_dict[dsname] = load_output_file(fpath)\n",
    "    return data_dict\n",
    "    \n",
    "\n",
    "    \n",
    "    "
   ]
  },
  {
   "cell_type": "code",
   "execution_count": 5,
   "metadata": {
    "collapsed": true
   },
   "outputs": [],
   "source": [
    "d = load_lblnew_data(PARAM_LBLNEW)\n",
    "\n",
    "DS_FLUX_CRD = d['ds_flux_crd']\n",
    "DS_COOL_CRD = d['ds_cool_crd']\n",
    "DS_FLUX_WGT = d['ds_flux_wgt']\n",
    "DS_COOL_WGT = d['ds_cool_wgt']"
   ]
  },
  {
   "cell_type": "code",
   "execution_count": 6,
   "metadata": {
    "collapsed": true
   },
   "outputs": [],
   "source": [
    "DIR_FORTRAN = pipe_cliradlw.get_fortran_dir(PARAM, \n",
    "                                            setup=setup_cliradlw)\n",
    "\n",
    "PATH_FLUX = os.path.join(DIR_FORTRAN, 'output_flux.dat')\n",
    "PATH_COOL = os.path.join(DIR_FORTRAN, 'output_coolr.dat')\n",
    "\n",
    "DS_FLUX = load_output_file(PATH_FLUX)\n",
    "DS_COOL = load_output_file(PATH_COOL)"
   ]
  },
  {
   "cell_type": "code",
   "execution_count": 7,
   "metadata": {
    "collapsed": true
   },
   "outputs": [
    {
     "data": {
      "text/html": [
       "\n",
       "    <div class=\"bk-root\">\n",
       "        <a href=\"https://bokeh.pydata.org\" target=\"_blank\" class=\"bk-logo bk-logo-small bk-logo-notebook\"></a>\n",
       "        <span id=\"c6c0332c-6c28-442e-a837-7e1b37081525\">Loading BokehJS ...</span>\n",
       "    </div>"
      ]
     },
     "metadata": {},
     "output_type": "display_data"
    },
    {
     "data": {
      "application/javascript": [
       "\n",
       "(function(root) {\n",
       "  function now() {\n",
       "    return new Date();\n",
       "  }\n",
       "\n",
       "  var force = true;\n",
       "\n",
       "  if (typeof (root._bokeh_onload_callbacks) === \"undefined\" || force === true) {\n",
       "    root._bokeh_onload_callbacks = [];\n",
       "    root._bokeh_is_loading = undefined;\n",
       "  }\n",
       "\n",
       "  var JS_MIME_TYPE = 'application/javascript';\n",
       "  var HTML_MIME_TYPE = 'text/html';\n",
       "  var EXEC_MIME_TYPE = 'application/vnd.bokehjs_exec.v0+json';\n",
       "  var CLASS_NAME = 'output_bokeh rendered_html';\n",
       "\n",
       "  /**\n",
       "   * Render data to the DOM node\n",
       "   */\n",
       "  function render(props, node) {\n",
       "    var script = document.createElement(\"script\");\n",
       "    node.appendChild(script);\n",
       "  }\n",
       "\n",
       "  /**\n",
       "   * Handle when an output is cleared or removed\n",
       "   */\n",
       "  function handleClearOutput(event, handle) {\n",
       "    var cell = handle.cell;\n",
       "\n",
       "    var id = cell.output_area._bokeh_element_id;\n",
       "    var server_id = cell.output_area._bokeh_server_id;\n",
       "    // Clean up Bokeh references\n",
       "    if (id !== undefined) {\n",
       "      Bokeh.index[id].model.document.clear();\n",
       "      delete Bokeh.index[id];\n",
       "    }\n",
       "\n",
       "    if (server_id !== undefined) {\n",
       "      // Clean up Bokeh references\n",
       "      var cmd = \"from bokeh.io.state import curstate; print(curstate().uuid_to_server['\" + server_id + \"'].get_sessions()[0].document.roots[0]._id)\";\n",
       "      cell.notebook.kernel.execute(cmd, {\n",
       "        iopub: {\n",
       "          output: function(msg) {\n",
       "            var element_id = msg.content.text.trim();\n",
       "            Bokeh.index[element_id].model.document.clear();\n",
       "            delete Bokeh.index[element_id];\n",
       "          }\n",
       "        }\n",
       "      });\n",
       "      // Destroy server and session\n",
       "      var cmd = \"import bokeh.io.notebook as ion; ion.destroy_server('\" + server_id + \"')\";\n",
       "      cell.notebook.kernel.execute(cmd);\n",
       "    }\n",
       "  }\n",
       "\n",
       "  /**\n",
       "   * Handle when a new output is added\n",
       "   */\n",
       "  function handleAddOutput(event, handle) {\n",
       "    var output_area = handle.output_area;\n",
       "    var output = handle.output;\n",
       "\n",
       "    // limit handleAddOutput to display_data with EXEC_MIME_TYPE content only\n",
       "    if ((output.output_type != \"display_data\") || (!output.data.hasOwnProperty(EXEC_MIME_TYPE))) {\n",
       "      return\n",
       "    }\n",
       "\n",
       "    var toinsert = output_area.element.find(\".\" + CLASS_NAME.split(' ')[0]);\n",
       "\n",
       "    if (output.metadata[EXEC_MIME_TYPE][\"id\"] !== undefined) {\n",
       "      toinsert[toinsert.length - 1].firstChild.textContent = output.data[JS_MIME_TYPE];\n",
       "      // store reference to embed id on output_area\n",
       "      output_area._bokeh_element_id = output.metadata[EXEC_MIME_TYPE][\"id\"];\n",
       "    }\n",
       "    if (output.metadata[EXEC_MIME_TYPE][\"server_id\"] !== undefined) {\n",
       "      var bk_div = document.createElement(\"div\");\n",
       "      bk_div.innerHTML = output.data[HTML_MIME_TYPE];\n",
       "      var script_attrs = bk_div.children[0].attributes;\n",
       "      for (var i = 0; i < script_attrs.length; i++) {\n",
       "        toinsert[toinsert.length - 1].firstChild.setAttribute(script_attrs[i].name, script_attrs[i].value);\n",
       "      }\n",
       "      // store reference to server id on output_area\n",
       "      output_area._bokeh_server_id = output.metadata[EXEC_MIME_TYPE][\"server_id\"];\n",
       "    }\n",
       "  }\n",
       "\n",
       "  function register_renderer(events, OutputArea) {\n",
       "\n",
       "    function append_mime(data, metadata, element) {\n",
       "      // create a DOM node to render to\n",
       "      var toinsert = this.create_output_subarea(\n",
       "        metadata,\n",
       "        CLASS_NAME,\n",
       "        EXEC_MIME_TYPE\n",
       "      );\n",
       "      this.keyboard_manager.register_events(toinsert);\n",
       "      // Render to node\n",
       "      var props = {data: data, metadata: metadata[EXEC_MIME_TYPE]};\n",
       "      render(props, toinsert[toinsert.length - 1]);\n",
       "      element.append(toinsert);\n",
       "      return toinsert\n",
       "    }\n",
       "\n",
       "    /* Handle when an output is cleared or removed */\n",
       "    events.on('clear_output.CodeCell', handleClearOutput);\n",
       "    events.on('delete.Cell', handleClearOutput);\n",
       "\n",
       "    /* Handle when a new output is added */\n",
       "    events.on('output_added.OutputArea', handleAddOutput);\n",
       "\n",
       "    /**\n",
       "     * Register the mime type and append_mime function with output_area\n",
       "     */\n",
       "    OutputArea.prototype.register_mime_type(EXEC_MIME_TYPE, append_mime, {\n",
       "      /* Is output safe? */\n",
       "      safe: true,\n",
       "      /* Index of renderer in `output_area.display_order` */\n",
       "      index: 0\n",
       "    });\n",
       "  }\n",
       "\n",
       "  // register the mime type if in Jupyter Notebook environment and previously unregistered\n",
       "  if (root.Jupyter !== undefined) {\n",
       "    var events = require('base/js/events');\n",
       "    var OutputArea = require('notebook/js/outputarea').OutputArea;\n",
       "\n",
       "    if (OutputArea.prototype.mime_types().indexOf(EXEC_MIME_TYPE) == -1) {\n",
       "      register_renderer(events, OutputArea);\n",
       "    }\n",
       "  }\n",
       "\n",
       "  \n",
       "  if (typeof (root._bokeh_timeout) === \"undefined\" || force === true) {\n",
       "    root._bokeh_timeout = Date.now() + 5000;\n",
       "    root._bokeh_failed_load = false;\n",
       "  }\n",
       "\n",
       "  var NB_LOAD_WARNING = {'data': {'text/html':\n",
       "     \"<div style='background-color: #fdd'>\\n\"+\n",
       "     \"<p>\\n\"+\n",
       "     \"BokehJS does not appear to have successfully loaded. If loading BokehJS from CDN, this \\n\"+\n",
       "     \"may be due to a slow or bad network connection. Possible fixes:\\n\"+\n",
       "     \"</p>\\n\"+\n",
       "     \"<ul>\\n\"+\n",
       "     \"<li>re-rerun `output_notebook()` to attempt to load from CDN again, or</li>\\n\"+\n",
       "     \"<li>use INLINE resources instead, as so:</li>\\n\"+\n",
       "     \"</ul>\\n\"+\n",
       "     \"<code>\\n\"+\n",
       "     \"from bokeh.resources import INLINE\\n\"+\n",
       "     \"output_notebook(resources=INLINE)\\n\"+\n",
       "     \"</code>\\n\"+\n",
       "     \"</div>\"}};\n",
       "\n",
       "  function display_loaded() {\n",
       "    var el = document.getElementById(\"c6c0332c-6c28-442e-a837-7e1b37081525\");\n",
       "    if (el != null) {\n",
       "      el.textContent = \"BokehJS is loading...\";\n",
       "    }\n",
       "    if (root.Bokeh !== undefined) {\n",
       "      if (el != null) {\n",
       "        el.textContent = \"BokehJS \" + root.Bokeh.version + \" successfully loaded.\";\n",
       "      }\n",
       "    } else if (Date.now() < root._bokeh_timeout) {\n",
       "      setTimeout(display_loaded, 100)\n",
       "    }\n",
       "  }\n",
       "\n",
       "\n",
       "  function run_callbacks() {\n",
       "    try {\n",
       "      root._bokeh_onload_callbacks.forEach(function(callback) { callback() });\n",
       "    }\n",
       "    finally {\n",
       "      delete root._bokeh_onload_callbacks\n",
       "    }\n",
       "    console.info(\"Bokeh: all callbacks have finished\");\n",
       "  }\n",
       "\n",
       "  function load_libs(js_urls, callback) {\n",
       "    root._bokeh_onload_callbacks.push(callback);\n",
       "    if (root._bokeh_is_loading > 0) {\n",
       "      console.log(\"Bokeh: BokehJS is being loaded, scheduling callback at\", now());\n",
       "      return null;\n",
       "    }\n",
       "    if (js_urls == null || js_urls.length === 0) {\n",
       "      run_callbacks();\n",
       "      return null;\n",
       "    }\n",
       "    console.log(\"Bokeh: BokehJS not loaded, scheduling load and callback at\", now());\n",
       "    root._bokeh_is_loading = js_urls.length;\n",
       "    for (var i = 0; i < js_urls.length; i++) {\n",
       "      var url = js_urls[i];\n",
       "      var s = document.createElement('script');\n",
       "      s.src = url;\n",
       "      s.async = false;\n",
       "      s.onreadystatechange = s.onload = function() {\n",
       "        root._bokeh_is_loading--;\n",
       "        if (root._bokeh_is_loading === 0) {\n",
       "          console.log(\"Bokeh: all BokehJS libraries loaded\");\n",
       "          run_callbacks()\n",
       "        }\n",
       "      };\n",
       "      s.onerror = function() {\n",
       "        console.warn(\"failed to load library \" + url);\n",
       "      };\n",
       "      console.log(\"Bokeh: injecting script tag for BokehJS library: \", url);\n",
       "      document.getElementsByTagName(\"head\")[0].appendChild(s);\n",
       "    }\n",
       "  };var element = document.getElementById(\"c6c0332c-6c28-442e-a837-7e1b37081525\");\n",
       "  if (element == null) {\n",
       "    console.log(\"Bokeh: ERROR: autoload.js configured with elementid 'c6c0332c-6c28-442e-a837-7e1b37081525' but no matching script tag was found. \")\n",
       "    return false;\n",
       "  }\n",
       "\n",
       "  var js_urls = [\"https://cdn.pydata.org/bokeh/release/bokeh-0.12.16.min.js\", \"https://cdn.pydata.org/bokeh/release/bokeh-widgets-0.12.16.min.js\", \"https://cdn.pydata.org/bokeh/release/bokeh-tables-0.12.16.min.js\", \"https://cdn.pydata.org/bokeh/release/bokeh-gl-0.12.16.min.js\"];\n",
       "\n",
       "  var inline_js = [\n",
       "    function(Bokeh) {\n",
       "      Bokeh.set_log_level(\"info\");\n",
       "    },\n",
       "    \n",
       "    function(Bokeh) {\n",
       "      \n",
       "    },\n",
       "    function(Bokeh) {\n",
       "      console.log(\"Bokeh: injecting CSS: https://cdn.pydata.org/bokeh/release/bokeh-0.12.16.min.css\");\n",
       "      Bokeh.embed.inject_css(\"https://cdn.pydata.org/bokeh/release/bokeh-0.12.16.min.css\");\n",
       "      console.log(\"Bokeh: injecting CSS: https://cdn.pydata.org/bokeh/release/bokeh-widgets-0.12.16.min.css\");\n",
       "      Bokeh.embed.inject_css(\"https://cdn.pydata.org/bokeh/release/bokeh-widgets-0.12.16.min.css\");\n",
       "      console.log(\"Bokeh: injecting CSS: https://cdn.pydata.org/bokeh/release/bokeh-tables-0.12.16.min.css\");\n",
       "      Bokeh.embed.inject_css(\"https://cdn.pydata.org/bokeh/release/bokeh-tables-0.12.16.min.css\");\n",
       "    }\n",
       "  ];\n",
       "\n",
       "  function run_inline_js() {\n",
       "    \n",
       "    if ((root.Bokeh !== undefined) || (force === true)) {\n",
       "      for (var i = 0; i < inline_js.length; i++) {\n",
       "        inline_js[i].call(root, root.Bokeh);\n",
       "      }if (force === true) {\n",
       "        display_loaded();\n",
       "      }} else if (Date.now() < root._bokeh_timeout) {\n",
       "      setTimeout(run_inline_js, 100);\n",
       "    } else if (!root._bokeh_failed_load) {\n",
       "      console.log(\"Bokeh: BokehJS failed to load within specified timeout.\");\n",
       "      root._bokeh_failed_load = true;\n",
       "    } else if (force !== true) {\n",
       "      var cell = $(document.getElementById(\"c6c0332c-6c28-442e-a837-7e1b37081525\")).parents('.cell').data().cell;\n",
       "      cell.output_area.append_execute_result(NB_LOAD_WARNING)\n",
       "    }\n",
       "\n",
       "  }\n",
       "\n",
       "  if (root._bokeh_is_loading === 0) {\n",
       "    console.log(\"Bokeh: BokehJS loaded, going straight to plotting\");\n",
       "    run_inline_js();\n",
       "  } else {\n",
       "    load_libs(js_urls, function() {\n",
       "      console.log(\"Bokeh: BokehJS plotting callback run at\", now());\n",
       "      run_inline_js();\n",
       "    });\n",
       "  }\n",
       "}(window));"
      ],
      "application/vnd.bokehjs_load.v0+json": "\n(function(root) {\n  function now() {\n    return new Date();\n  }\n\n  var force = true;\n\n  if (typeof (root._bokeh_onload_callbacks) === \"undefined\" || force === true) {\n    root._bokeh_onload_callbacks = [];\n    root._bokeh_is_loading = undefined;\n  }\n\n  \n\n  \n  if (typeof (root._bokeh_timeout) === \"undefined\" || force === true) {\n    root._bokeh_timeout = Date.now() + 5000;\n    root._bokeh_failed_load = false;\n  }\n\n  var NB_LOAD_WARNING = {'data': {'text/html':\n     \"<div style='background-color: #fdd'>\\n\"+\n     \"<p>\\n\"+\n     \"BokehJS does not appear to have successfully loaded. If loading BokehJS from CDN, this \\n\"+\n     \"may be due to a slow or bad network connection. Possible fixes:\\n\"+\n     \"</p>\\n\"+\n     \"<ul>\\n\"+\n     \"<li>re-rerun `output_notebook()` to attempt to load from CDN again, or</li>\\n\"+\n     \"<li>use INLINE resources instead, as so:</li>\\n\"+\n     \"</ul>\\n\"+\n     \"<code>\\n\"+\n     \"from bokeh.resources import INLINE\\n\"+\n     \"output_notebook(resources=INLINE)\\n\"+\n     \"</code>\\n\"+\n     \"</div>\"}};\n\n  function display_loaded() {\n    var el = document.getElementById(\"c6c0332c-6c28-442e-a837-7e1b37081525\");\n    if (el != null) {\n      el.textContent = \"BokehJS is loading...\";\n    }\n    if (root.Bokeh !== undefined) {\n      if (el != null) {\n        el.textContent = \"BokehJS \" + root.Bokeh.version + \" successfully loaded.\";\n      }\n    } else if (Date.now() < root._bokeh_timeout) {\n      setTimeout(display_loaded, 100)\n    }\n  }\n\n\n  function run_callbacks() {\n    try {\n      root._bokeh_onload_callbacks.forEach(function(callback) { callback() });\n    }\n    finally {\n      delete root._bokeh_onload_callbacks\n    }\n    console.info(\"Bokeh: all callbacks have finished\");\n  }\n\n  function load_libs(js_urls, callback) {\n    root._bokeh_onload_callbacks.push(callback);\n    if (root._bokeh_is_loading > 0) {\n      console.log(\"Bokeh: BokehJS is being loaded, scheduling callback at\", now());\n      return null;\n    }\n    if (js_urls == null || js_urls.length === 0) {\n      run_callbacks();\n      return null;\n    }\n    console.log(\"Bokeh: BokehJS not loaded, scheduling load and callback at\", now());\n    root._bokeh_is_loading = js_urls.length;\n    for (var i = 0; i < js_urls.length; i++) {\n      var url = js_urls[i];\n      var s = document.createElement('script');\n      s.src = url;\n      s.async = false;\n      s.onreadystatechange = s.onload = function() {\n        root._bokeh_is_loading--;\n        if (root._bokeh_is_loading === 0) {\n          console.log(\"Bokeh: all BokehJS libraries loaded\");\n          run_callbacks()\n        }\n      };\n      s.onerror = function() {\n        console.warn(\"failed to load library \" + url);\n      };\n      console.log(\"Bokeh: injecting script tag for BokehJS library: \", url);\n      document.getElementsByTagName(\"head\")[0].appendChild(s);\n    }\n  };var element = document.getElementById(\"c6c0332c-6c28-442e-a837-7e1b37081525\");\n  if (element == null) {\n    console.log(\"Bokeh: ERROR: autoload.js configured with elementid 'c6c0332c-6c28-442e-a837-7e1b37081525' but no matching script tag was found. \")\n    return false;\n  }\n\n  var js_urls = [\"https://cdn.pydata.org/bokeh/release/bokeh-0.12.16.min.js\", \"https://cdn.pydata.org/bokeh/release/bokeh-widgets-0.12.16.min.js\", \"https://cdn.pydata.org/bokeh/release/bokeh-tables-0.12.16.min.js\", \"https://cdn.pydata.org/bokeh/release/bokeh-gl-0.12.16.min.js\"];\n\n  var inline_js = [\n    function(Bokeh) {\n      Bokeh.set_log_level(\"info\");\n    },\n    \n    function(Bokeh) {\n      \n    },\n    function(Bokeh) {\n      console.log(\"Bokeh: injecting CSS: https://cdn.pydata.org/bokeh/release/bokeh-0.12.16.min.css\");\n      Bokeh.embed.inject_css(\"https://cdn.pydata.org/bokeh/release/bokeh-0.12.16.min.css\");\n      console.log(\"Bokeh: injecting CSS: https://cdn.pydata.org/bokeh/release/bokeh-widgets-0.12.16.min.css\");\n      Bokeh.embed.inject_css(\"https://cdn.pydata.org/bokeh/release/bokeh-widgets-0.12.16.min.css\");\n      console.log(\"Bokeh: injecting CSS: https://cdn.pydata.org/bokeh/release/bokeh-tables-0.12.16.min.css\");\n      Bokeh.embed.inject_css(\"https://cdn.pydata.org/bokeh/release/bokeh-tables-0.12.16.min.css\");\n    }\n  ];\n\n  function run_inline_js() {\n    \n    if ((root.Bokeh !== undefined) || (force === true)) {\n      for (var i = 0; i < inline_js.length; i++) {\n        inline_js[i].call(root, root.Bokeh);\n      }if (force === true) {\n        display_loaded();\n      }} else if (Date.now() < root._bokeh_timeout) {\n      setTimeout(run_inline_js, 100);\n    } else if (!root._bokeh_failed_load) {\n      console.log(\"Bokeh: BokehJS failed to load within specified timeout.\");\n      root._bokeh_failed_load = true;\n    } else if (force !== true) {\n      var cell = $(document.getElementById(\"c6c0332c-6c28-442e-a837-7e1b37081525\")).parents('.cell').data().cell;\n      cell.output_area.append_execute_result(NB_LOAD_WARNING)\n    }\n\n  }\n\n  if (root._bokeh_is_loading === 0) {\n    console.log(\"Bokeh: BokehJS loaded, going straight to plotting\");\n    run_inline_js();\n  } else {\n    load_libs(js_urls, function() {\n      console.log(\"Bokeh: BokehJS plotting callback run at\", now());\n      run_inline_js();\n    });\n  }\n}(window));"
     },
     "metadata": {},
     "output_type": "display_data"
    }
   ],
   "source": [
    "output_notebook()"
   ]
  },
  {
   "cell_type": "code",
   "execution_count": 8,
   "metadata": {
    "collapsed": true
   },
   "outputs": [],
   "source": [
    "def fmt_cool(ds_in):\n",
    "    ds = ds_in.copy(deep=True)\n",
    "    if 'igg' in ds.dims:\n",
    "        ds = ds.sel(igg=1)\n",
    "\n",
    "    if 'g' in ds.dims:\n",
    "        ds = ds.sum('g')\n",
    "            \n",
    "    if 'band' in ds.dims:\n",
    "        try:\n",
    "            ds = ds.squeeze('band')\n",
    "        except ValueError:\n",
    "            ds = ds.sum('band')\n",
    "                \n",
    "    return ds['coolrg']\n",
    "\n",
    "\n",
    "def pltdata_cooling_1(ds_cool=None,\n",
    "                      ds_cool_crd=None, ds_cool_wgt=None):\n",
    "    \n",
    "\n",
    "\n",
    "    colors = all_palettes['Set1'][4]\n",
    "    data = [{'label': 'CLIRAD `coolr_bands`',\n",
    "             'srs': fmt_cool(ds_cool),\n",
    "             'line_dash': 'dashed', 'line_width': 5,\n",
    "             'color': colors[0], 'alpha': .6},\n",
    "            {'label': 'CRD',\n",
    "             'srs': fmt_cool(ds_cool_crd),\n",
    "             'line_dash': 'solid', 'line_width': 1.5,\n",
    "             'marker': 'circle', 'marker_size': 5,\n",
    "             'color': colors[2], 'alpha': 1,},\n",
    "            {'label': 'WGT igg=10 wgt_flux=2',\n",
    "             'srs': fmt_cool(ds_cool_wgt),\n",
    "             'line_dash': 'solid', 'line_width': 3,\n",
    "             'marker': 'square', 'marker_size': 5,\n",
    "             'color': colors[3], 'alpha': .6}]\n",
    "    return data\n",
    "\n",
    "\n",
    "def nice_xlims(pltdata=None, prange=None):\n",
    "    \n",
    "    def get_slice(srs):\n",
    "        return srs.sel(pressure=slice(*prange))\n",
    "    \n",
    "    srss = [d['srs'] for d in pltdata]\n",
    "    vmin = min([get_slice(srs).min() for srs in srss])\n",
    "    vmax = max([get_slice(srs).max() for srs in srss])\n",
    "    dv = (vmax - vmin) * .01\n",
    "    return float(vmin - dv), float(vmax + dv)\n",
    "    \n",
    "\n",
    "def plt_cooling_bokeh(pltdata=None):\n",
    "    '''\n",
    "    Plot a list of cooling rate profiles using bokeh.\n",
    "    '''\n",
    "    ymin = 1e-2 \n",
    "    ymax = 1020 \n",
    "        \n",
    "    p1 = figure(title=\"Linear pressure scale\", \n",
    "                plot_width=400)        \n",
    "    xmin, xmax = nice_xlims(pltdata, prange=(50, 1050))\n",
    "    for d in pltdata:\n",
    "        if 'marker' in d:\n",
    "            getattr(p1, d['marker'])(d['srs'].values, \n",
    "                    d['srs'].coords['pressure'].values,\n",
    "                    color=d['color'], alpha=.7)\n",
    "        p1.line(d['srs'].values, \n",
    "                d['srs'].coords['pressure'].values,\n",
    "                color=d['color'], alpha=d['alpha'], \n",
    "                line_width=d['line_width'], line_dash=d['line_dash'])\n",
    "    \n",
    "    p1.y_range = Range1d(ymax, ymin)\n",
    "    p1.yaxis.axis_label = 'pressure [mb]'   \n",
    "    p1.x_range = Range1d(xmin, xmax)\n",
    "    p1.xaxis.axis_label = 'cooling rate [K/day]'\n",
    "            \n",
    "    p2 = figure(title='Log pressure scale', y_axis_type='log',\n",
    "                plot_width=560)\n",
    "    xmin, xmax = nice_xlims(pltdata, prange=(.01, 200))\n",
    "    \n",
    "    rs = []\n",
    "    for d in pltdata:\n",
    "        rd = []\n",
    "        if 'marker' in d:\n",
    "            r_mark = getattr(p2, d['marker'])(d['srs'].values, \n",
    "                        d['srs'].coords['pressure'].values,\n",
    "                        color=d['color'], alpha=.7)\n",
    "            rd.append(r_mark)\n",
    "        r_line = p2.line(d['srs'].values, \n",
    "                    d['srs'].coords['pressure'].values,\n",
    "                    color=d['color'], alpha=d['alpha'], \n",
    "                    line_width=d['line_width'], line_dash=d['line_dash'])\n",
    "        rd.append(r_line)\n",
    "      \n",
    "        rs.append(rd)\n",
    "        \n",
    "    p2.y_range = Range1d(ymax, ymin)  \n",
    "    p2.yaxis.axis_label = 'pressure [mb]'\n",
    "    \n",
    "    p2.x_range = Range1d(xmin, xmax)\n",
    "    p2.xaxis.axis_label = 'cooling rate [K/day]'\n",
    "    \n",
    "    items = [(d['label'], r) for r, d in zip(rs, pltdata)]\n",
    "    legend = Legend(items=items, location=(10, -30))\n",
    "    legend.label_text_font_size = '8pt'\n",
    "    \n",
    "    p2.add_layout(legend, 'right')  \n",
    "    \n",
    "    show(gridplot(p1, p2, ncols=2, plot_height=500))\n",
    "    \n",
    "\n",
    "def script_plt_cooling():\n",
    "    pltdata = pltdata_cooling_1(\n",
    "        ds_cool=DS_COOL,\n",
    "        ds_cool_crd=DS_COOL_CRD,\n",
    "        ds_cool_wgt=DS_COOL_WGT)\n",
    "    plt_cooling_bokeh(pltdata=pltdata)\n",
    "    print('''FIGURE. Cooling rate profiles.''')"
   ]
  },
  {
   "cell_type": "code",
   "execution_count": 9,
   "metadata": {
    "collapsed": true
   },
   "outputs": [],
   "source": [
    "def fmt_flux(ds_in):\n",
    "    ds = ds_in.copy(deep=True)\n",
    "    \n",
    "    for l in ('level', 'layer'):\n",
    "        if l in ds.data_vars:\n",
    "            if len(ds[l].dims) > 1:\n",
    "                surface = {d: 0 for d in ds.dims if d != 'pressure'}\n",
    "                coord_level = ds[l][surface]\n",
    "                ds.coords[l] = ('pressure', coord_level)\n",
    "            else:\n",
    "                ds.coords[l] = ('pressure', ds[l])\n",
    "        \n",
    "    ds = ds.isel(pressure=[0, 23, -1])\n",
    "        \n",
    "    if 'igg' in ds.dims:\n",
    "        ds = ds.sel(igg=[1])\n",
    "        ds = ds.squeeze('igg').drop('igg')\n",
    "    \n",
    "    if 'g' in ds.dims:\n",
    "        ds = ds.sum('g')\n",
    "            \n",
    "    if 'band' in ds.dims:\n",
    "        try:\n",
    "            ds = ds.squeeze('band').drop('band')\n",
    "        except ValueError:\n",
    "            ds = ds.sum('band')\n",
    "                \n",
    "    df = ds.to_dataframe()\n",
    "    df = df.set_index('level', append=True)               \n",
    "    return df\n",
    "\n",
    "\n",
    "def tbdata_flux(ds_flux=None, ds_flux_crd=None, ds_flux_wgt=None):\n",
    "    ilevels = [0, 23, -1]\n",
    "            \n",
    "    benchmark = {'label': 'CRD',\n",
    "                 'df': fmt_flux(ds_flux_crd)}\n",
    "    \n",
    "    tbs = [{'label': 'WGT igg=10 wgt_flux=1',\n",
    "            'df': fmt_flux(ds_flux_wgt)},\n",
    "           {'label': 'CLIRAD',\n",
    "            'df': fmt_flux(ds_flux)}]\n",
    "    \n",
    "    data = {'benchmark': benchmark, 'others': tbs}\n",
    "    return data\n",
    "\n",
    "\n",
    "def tb_flux(tbdata=None):\n",
    "    benchmark = tbdata['benchmark']\n",
    "    others = tbdata['others']\n",
    "    \n",
    "    def show_tb(d=None):\n",
    "        display.display(d['df'])\n",
    "        print('Table.', 'Fluxes.', d['label'])\n",
    "        \n",
    "    def show_tbdiff(d0=None, d=None):\n",
    "        df = d['df']\n",
    "        df.index = d0['df'].index\n",
    "        display.display(df - d0['df'])\n",
    "        print('Table.', 'Fluxes.', \n",
    "              '({}) - ({})'.format(d['label'], d0['label']))\n",
    "        \n",
    "    show_tb(benchmark)\n",
    "    for d in others:\n",
    "        show_tb(d)\n",
    "        \n",
    "    for d in others:\n",
    "        show_tbdiff(d=d, d0=benchmark)\n",
    "        \n",
    "        \n",
    "def script_tb_flux():\n",
    "    data = tbdata_flux(ds_flux=DS_FLUX,\n",
    "                       ds_flux_crd=DS_FLUX_CRD,\n",
    "                       ds_flux_wgt=DS_FLUX_WGT)\n",
    "    tb_flux(tbdata=data)"
   ]
  },
  {
   "cell_type": "code",
   "execution_count": 10,
   "metadata": {
    "collapsed": true
   },
   "outputs": [],
   "source": [
    "def band_map():\n",
    "    '''\n",
    "    Maps spectral bands in lblnew to spectral bands in clirad.\n",
    "    '''\n",
    "    lblnew2clirad = {'1': '1',\n",
    "            '2': '2',\n",
    "            '3a': '3',\n",
    "            '3b': '4',\n",
    "            '3c': '5',\n",
    "            '4': '6', \n",
    "            '5': '7',\n",
    "            '6': '8',\n",
    "            '7': '9', \n",
    "            '8': '10',\n",
    "            '9': '11'}\n",
    "    \n",
    "    clirad2lblnew = {clirad: lblnew \n",
    "                     for lblnew, clirad in lblnew2clirad.items()}\n",
    "    return clirad2lblnew\n",
    "\n",
    "\n",
    "def gasbands():\n",
    "    bmap = band_map()\n",
    "    gases = list(PARAM['molecule'].keys())\n",
    "    \n",
    "    bands = [bmap[str(b)] for b in PARAM['band']]\n",
    "    return list(itertools.product(gases, bands))\n",
    "\n",
    "\n",
    "def print_bestfit_params():\n",
    "    print('Best-fit values for each (gas, band)')\n",
    "    print('------------------------------------')\n",
    "    for gas, band in gasbands():\n",
    "        print('o {} band{}'.format(gas, band))\n",
    "        param = bestfits.kdist_params(molecule=gas, band=band)\n",
    "        for name, value in sorted(param.items()):\n",
    "            print(2 * ' ' + '{} = {}'.format(name, value))\n",
    "\n",
    "        \n",
    "def print_input_param():        \n",
    "    for name, value in PARAM.items():\n",
    "        print('{} = {}'.format(name, value))\n",
    "        \n",
    "        \n",
    "def print_lblnew_param():\n",
    "    for name, value in sorted(PARAM_LBLNEW.items()):\n",
    "        print('{} = {}'.format(name, value))\n"
   ]
  },
  {
   "cell_type": "code",
   "execution_count": 11,
   "metadata": {
    "collapsed": true,
    "scrolled": false
   },
   "outputs": [],
   "source": [
    "def show_html(s):\n",
    "    display.display(display.HTML(s))\n",
    "\n",
    "    \n",
    "def show_markdown(s):\n",
    "    display.display(display.Markdown(s))\n",
    "\n",
    "    \n",
    "def script():\n",
    "    \n",
    "    title = '### CLIRAD-LW'\n",
    "    s_input = 'Input Parameters'\n",
    "    s_lblnew_param = 'LBLNEW case compaired against'\n",
    "    s_bestfits = 'Best-fit Parameters'\n",
    "    s_plt_cooling = 'Cooling Rate Profiles'\n",
    "    s_tb_flux = 'Flux Comparison'\n",
    "    \n",
    "    # title\n",
    "    show_markdown('### CLIRAD-LW')\n",
    "    \n",
    "    # TOC\n",
    "    show_markdown('### Table of Contents')\n",
    "    show_html(climahtml.getHTML_hrefanchor(s_input))\n",
    "    show_html(climahtml.getHTML_hrefanchor(s_lblnew_param))\n",
    "    show_html(climahtml.getHTML_hrefanchor(s_plt_cooling))\n",
    "    show_html(climahtml.getHTML_hrefanchor(s_tb_flux))\n",
    "    show_html(climahtml.getHTML_hrefanchor(s_bestfits))\n",
    "    \n",
    "    # Input parameters\n",
    "    show_html(climahtml.getHTML_idanchor(s_input))\n",
    "    show_markdown(climahtml.getMarkdown_sectitle(s_input))\n",
    "    print_input_param()\n",
    "    \n",
    "    # LBLNEW parameters \n",
    "    show_html(climahtml.getHTML_idanchor(s_lblnew_param))\n",
    "    show_markdown(climahtml.getMarkdown_sectitle(s_lblnew_param))\n",
    "    print_lblnew_param()\n",
    "    \n",
    "    # Cooling rate profiles\n",
    "    show_html(climahtml.getHTML_idanchor(s_plt_cooling))\n",
    "    show_markdown(climahtml.getMarkdown_sectitle(s_plt_cooling))\n",
    "    script_plt_cooling()\n",
    "    \n",
    "    # Flux comparison\n",
    "    show_html(climahtml.getHTML_idanchor(s_tb_flux))\n",
    "    show_markdown(climahtml.getMarkdown_sectitle(s_tb_flux))\n",
    "    script_tb_flux()\n",
    "    \n",
    "    # Best-fit values\n",
    "    show_html(climahtml.getHTML_idanchor(s_bestfits))\n",
    "    show_markdown(climahtml.getMarkdown_sectitle(s_bestfits))\n",
    "    print_bestfit_params()\n",
    "   \n",
    "    "
   ]
  },
  {
   "cell_type": "code",
   "execution_count": 12,
   "metadata": {
    "collapsed": true,
    "scrolled": false
   },
   "outputs": [
    {
     "data": {
      "text/markdown": [
       "### CLIRAD-LW"
      ],
      "text/plain": [
       "<IPython.core.display.Markdown object>"
      ]
     },
     "metadata": {},
     "output_type": "display_data"
    },
    {
     "data": {
      "text/markdown": [
       "### Table of Contents"
      ],
      "text/plain": [
       "<IPython.core.display.Markdown object>"
      ]
     },
     "metadata": {},
     "output_type": "display_data"
    },
    {
     "data": {
      "text/html": [
       "<a href=\"#Input_Parameters\">Input Parameters</a>"
      ],
      "text/plain": [
       "<IPython.core.display.HTML object>"
      ]
     },
     "metadata": {},
     "output_type": "display_data"
    },
    {
     "data": {
      "text/html": [
       "<a href=\"#LBLNEW_case_compaired_against\">LBLNEW case compaired against</a>"
      ],
      "text/plain": [
       "<IPython.core.display.HTML object>"
      ]
     },
     "metadata": {},
     "output_type": "display_data"
    },
    {
     "data": {
      "text/html": [
       "<a href=\"#Cooling_Rate_Profiles\">Cooling Rate Profiles</a>"
      ],
      "text/plain": [
       "<IPython.core.display.HTML object>"
      ]
     },
     "metadata": {},
     "output_type": "display_data"
    },
    {
     "data": {
      "text/html": [
       "<a href=\"#Flux_Comparison\">Flux Comparison</a>"
      ],
      "text/plain": [
       "<IPython.core.display.HTML object>"
      ]
     },
     "metadata": {},
     "output_type": "display_data"
    },
    {
     "data": {
      "text/html": [
       "<a href=\"#Best-fit_Parameters\">Best-fit Parameters</a>"
      ],
      "text/plain": [
       "<IPython.core.display.HTML object>"
      ]
     },
     "metadata": {},
     "output_type": "display_data"
    },
    {
     "data": {
      "text/html": [
       "<a id=\"Input_Parameters\"></a>"
      ],
      "text/plain": [
       "<IPython.core.display.HTML object>"
      ]
     },
     "metadata": {},
     "output_type": "display_data"
    },
    {
     "data": {
      "text/markdown": [
       "# Input Parameters"
      ],
      "text/plain": [
       "<IPython.core.display.Markdown object>"
      ]
     },
     "metadata": {},
     "output_type": "display_data"
    },
    {
     "name": "stdout",
     "output_type": "stream",
     "text": [
      "atmpro = saw\n",
      "band = [2]\n",
      "commitnumber = 4198f95\n",
      "molecule = {'h2o': 'atmpro'}\n",
      "tsfc = 257\n"
     ]
    },
    {
     "data": {
      "text/html": [
       "<a id=\"LBLNEW_case_compaired_against\"></a>"
      ],
      "text/plain": [
       "<IPython.core.display.HTML object>"
      ]
     },
     "metadata": {},
     "output_type": "display_data"
    },
    {
     "data": {
      "text/markdown": [
       "# LBLNEW case compaired against"
      ],
      "text/plain": [
       "<IPython.core.display.Markdown object>"
      ]
     },
     "metadata": {},
     "output_type": "display_data"
    },
    {
     "name": "stdout",
     "output_type": "stream",
     "text": [
      "atmpro = saw\n",
      "band = 2\n",
      "commitnumber = 5014a19\n",
      "conc = None\n",
      "dv = 0.001\n",
      "klin = 0\n",
      "molecule = h2o\n",
      "ng_adju = [-2, -2, 0]\n",
      "ng_refs = [2, 3, 6]\n",
      "nv = 1000\n",
      "option_compute_btable = 0\n",
      "option_compute_ktable = 0\n",
      "option_wgt_flux = 1\n",
      "option_wgt_k = 1\n",
      "ref_pts = [(1, 250), (10, 250), (500, 250)]\n",
      "tsfc = 257\n",
      "vmax = 540\n",
      "vmin = 340\n",
      "w_diffuse = [(1.66, 1.66), (1.8, 1.8, 1.8), (1.8, 1.66, 1.45, 1.45, 1.45, 1.45)]\n",
      "wgt = [(0.6, 0.6), (0.6, 0.6, 0.6), (0.6, 0.6, 0.6, 0.6, 0.6, 0.6)]\n"
     ]
    },
    {
     "data": {
      "text/html": [
       "<a id=\"Cooling_Rate_Profiles\"></a>"
      ],
      "text/plain": [
       "<IPython.core.display.HTML object>"
      ]
     },
     "metadata": {},
     "output_type": "display_data"
    },
    {
     "data": {
      "text/markdown": [
       "# Cooling Rate Profiles"
      ],
      "text/plain": [
       "<IPython.core.display.Markdown object>"
      ]
     },
     "metadata": {},
     "output_type": "display_data"
    },
    {
     "data": {
      "text/html": [
       "\n",
       "<div class=\"bk-root\">\n",
       "    <div class=\"bk-plotdiv\" id=\"b8f7f67c-b3cf-47cd-9964-0af85c58d217\"></div>\n",
       "</div>"
      ]
     },
     "metadata": {},
     "output_type": "display_data"
    },
    {
     "data": {
      "application/javascript": [
       "(function(root) {\n",
       "  function embed_document(root) {\n",
       "    \n",
       "  var docs_json = {\"3180b40b-f71c-4797-98f5-5af99fa5ba42\":{\"roots\":{\"references\":[{\"attributes\":{},\"id\":\"405fd083-58c8-47cc-ac81-c75393a4c07f\",\"type\":\"UnionRenderers\"},{\"attributes\":{},\"id\":\"6661f16d-08fa-4859-9f85-65b174cfb4cd\",\"type\":\"LinearScale\"},{\"attributes\":{\"fill_alpha\":{\"value\":0.1},\"fill_color\":{\"value\":\"#1f77b4\"},\"line_alpha\":{\"value\":0.1},\"line_color\":{\"value\":\"#1f77b4\"},\"x\":{\"field\":\"x\"},\"y\":{\"field\":\"y\"}},\"id\":\"b7b329c3-4b4f-44db-8e8c-fcb1e49d24c2\",\"type\":\"Square\"},{\"attributes\":{\"callback\":null,\"data\":{\"x\":{\"__ndarray__\":\"UItNWdcAtj90zF8CK2a4P0SqqcEyb70/kESD9621wT8OHPaA9tfEP2N/S/DmM8g/b8bjNTXHyz9CMTKDYHvPPy/p76naodE/BNvnhiJ00z/yJI2nADvVPyHRa4I4ztY/cTi/lBMa2D+WEgw55qbYP65EF9bUDdg/nDY+vw6t1j+SbyLrqevUPw80FQkt+NI/Q/uv/2gY0T9cNYM/l1bPP9UuBuQtGs4/omsyDwhSyj/qSwS8PYjDP7H2lw6jsbw/QwhzhOT6tT/C9vPSEj6xP/OrU0sVYas/PMK4q4Qdpz8GmNEew5KlP/Q9/66UeKQ/ErdEd3vMoj/0gvkaSBShP1aSoCQgKqE/xNp/G7/foj8NjNL2/z2kP+XuFIj6kKU//ndsdEnypj+s/LFFe7inPyBdtwa8BLA/dhBdo3a+sz/uJri0efK2P8I4+B2v67c/zZrMre0YuD/qL8jMqeW3P0BrcOAQ9rY/si3YY4NLuD+XyrLLUMO+P7u9AAwI2MM/UaU5sRbZzT8YBdQUBqPVP6ZeHlaMuNs/YpLCrbZA4D/8SroAyBfiP7cE5y+SruM/SQglSQEF5T9QvrnPtvLlP3Pe/2hdguY/bYGCNvvU5j99JycCQPLmP37m8fAHyOY/8hIjD7pG5j9eksPPx3XlPy3debnkZuQ/lDTwoDFC4z8WVBaLmiHiP0cPIBG5G+E/IQqZoxBC4D85bcGc+TTfP+0vr9CfAN4/lhONQLBE3D/x/yBQQVbZP6WyzVNildU/EW29Eyn80T/Mb7YOHonNP8piwJ2nb8Y/\",\"dtype\":\"float64\",\"shape\":[75]},\"y\":{\"__ndarray__\":\"GhExyth1ND/Sv8nbtpRIP2vylNV0PVE/aTum7souWD/At0SJ8fVgPw3Iuahxymc/MSNhhJWvcD/bTfBN02d3P2zb5nxnaoA/CD5h5MAGhz8NmeH1TyaQP+zrCsc9p5Y/LbKd76fGnz/bLW5ISEmmPww9YvTcQq8/JV2OstnstT8Er5Y7M8G+P0c+r3jqkcU/5h99k6ZBzj88bCIzFzjVP4enV8oyxN0//yH99nXg5D8qOpLLf0jtP5kqGJXUifQ/c9cS8kHP/D+/DpwzojQEQIEmwoanVwxA4lgXt9HgE0BSSZ2AJuIbQAMJih9jjiNA5q4l5INuK0AwTKYKRj0zQNv5fmq8/DpAaCJseHrtQkB/+zpwzoxKQM3MzMzMeFJAZmZmZmZqWEAAAAAAAFxeQM3MzMzMJmJAmpmZmZkfZUBmZmZmZhhoQDMzMzMzEWtAAAAAAAAKbkBmZmZmZoFwQM3MzMzM/XFAMzMzMzN6c0CamZmZmfZ0QAAAAAAAc3ZAZmZmZmbvd0DNzMzMzGt5QDMzMzMz6HpAmpmZmZlkfEAAAAAAAOF9QGZmZmZmXX9AZmZmZuZsgECamZmZGSuBQM3MzMxM6YFAAAAAAICngkAzMzMzs2WDQGZmZmbmI4RAmpmZmRnihEDNzMzMTKCFQAAAAACAXoZAMzMzM7Mch0BmZmZm5tqHQJqZmZkZmYhAzczMzExXiUAAAAAAgBWKQDMzMzOz04pAZmZmZuaRi0CamZmZGVCMQM3MzMxMDo1AAAAAAIDMjUAzMzMzs4qOQGZmZmbmSI9A\",\"dtype\":\"float64\",\"shape\":[75]}},\"selected\":{\"id\":\"c0975859-a142-49b0-afbc-24c39955f91e\",\"type\":\"Selection\"},\"selection_policy\":{\"id\":\"5fd15778-39e3-46d3-ba42-ce63f857b9cd\",\"type\":\"UnionRenderers\"}},\"id\":\"ce1e4f2d-ebe0-40f3-bc4f-cb650a774fc4\",\"type\":\"ColumnDataSource\"},{\"attributes\":{\"num_minor_ticks\":10},\"id\":\"4f630e61-01fd-496e-b196-d7882d62edf3\",\"type\":\"LogTicker\"},{\"attributes\":{\"callback\":null,\"end\":0.72706292768,\"start\":0.03236054432},\"id\":\"39cb828a-c15c-406c-9ede-a5876845f9b6\",\"type\":\"Range1d\"},{\"attributes\":{\"line_alpha\":0.1,\"line_color\":\"#1f77b4\",\"line_dash\":[6],\"line_width\":5,\"x\":{\"field\":\"x\"},\"y\":{\"field\":\"y\"}},\"id\":\"04836b1c-84f3-4b75-9bb8-d7373f18237e\",\"type\":\"Line\"},{\"attributes\":{\"callback\":null,\"end\":0.41656514231,\"start\":0.029333126689999996},\"id\":\"dd4f7c18-3f4c-4857-80ab-83c2096a2f16\",\"type\":\"Range1d\"},{\"attributes\":{\"fill_alpha\":{\"value\":0.1},\"fill_color\":{\"value\":\"#1f77b4\"},\"line_alpha\":{\"value\":0.1},\"line_color\":{\"value\":\"#1f77b4\"},\"x\":{\"field\":\"x\"},\"y\":{\"field\":\"y\"}},\"id\":\"eef044b3-3c3b-472d-9940-f55fe731532a\",\"type\":\"Circle\"},{\"attributes\":{},\"id\":\"52c96e5c-184d-4e52-8b9a-b5c72b139680\",\"type\":\"HelpTool\"},{\"attributes\":{},\"id\":\"4783e1bb-93ec-444d-a180-8d1e886607f7\",\"type\":\"BasicTicker\"},{\"attributes\":{},\"id\":\"4e027fb6-4d64-4af6-aec6-6688292667c5\",\"type\":\"BasicTicker\"},{\"attributes\":{},\"id\":\"598ae154-af47-4794-8978-e42dffad5d5c\",\"type\":\"PanTool\"},{\"attributes\":{\"plot\":{\"id\":\"5b5ffb40-6518-4593-822a-490d62ea2600\",\"subtype\":\"Figure\",\"type\":\"Plot\"},\"ticker\":{\"id\":\"aa31b65e-0187-42e2-9a57-3e30abc46eb2\",\"type\":\"BasicTicker\"}},\"id\":\"66bf5910-3ba3-4a57-b1f0-5defdd2fe606\",\"type\":\"Grid\"},{\"attributes\":{\"axis_label\":\"pressure [mb]\",\"formatter\":{\"id\":\"f5004f1a-6fcc-4e34-b83d-5c0c022491d6\",\"type\":\"BasicTickFormatter\"},\"plot\":{\"id\":\"5b5ffb40-6518-4593-822a-490d62ea2600\",\"subtype\":\"Figure\",\"type\":\"Plot\"},\"ticker\":{\"id\":\"4783e1bb-93ec-444d-a180-8d1e886607f7\",\"type\":\"BasicTicker\"}},\"id\":\"3c7483e1-a431-4aef-b1b3-540d5e64ff01\",\"type\":\"LinearAxis\"},{\"attributes\":{\"axis_label\":\"cooling rate [K/day]\",\"formatter\":{\"id\":\"645edbf2-49f7-4df0-bd5b-73df6f0f89af\",\"type\":\"BasicTickFormatter\"},\"plot\":{\"id\":\"5b5ffb40-6518-4593-822a-490d62ea2600\",\"subtype\":\"Figure\",\"type\":\"Plot\"},\"ticker\":{\"id\":\"aa31b65e-0187-42e2-9a57-3e30abc46eb2\",\"type\":\"BasicTicker\"}},\"id\":\"dfce72bc-c517-498c-b088-9ec6e064e0f2\",\"type\":\"LinearAxis\"},{\"attributes\":{},\"id\":\"f481c590-1b9a-4d82-a74b-6099aaeb0296\",\"type\":\"LogScale\"},{\"attributes\":{\"plot\":null,\"text\":\"Linear pressure scale\"},\"id\":\"a247882d-24c4-4e50-b08a-ce80b7b74500\",\"type\":\"Title\"},{\"attributes\":{\"data_source\":{\"id\":\"6069648d-0066-408b-819f-72332878d1d2\",\"type\":\"ColumnDataSource\"},\"glyph\":{\"id\":\"3d41abe1-47c1-40cc-9870-0ac6dae4448d\",\"type\":\"Line\"},\"hover_glyph\":null,\"muted_glyph\":null,\"nonselection_glyph\":{\"id\":\"1ecb9016-c89c-4d0e-98d0-060f07763c3b\",\"type\":\"Line\"},\"selection_glyph\":null,\"view\":{\"id\":\"125266dc-790b-4982-aee9-82476b2d78e2\",\"type\":\"CDSView\"}},\"id\":\"f5ea5ea1-8d9c-4200-84ea-07f0783b3440\",\"type\":\"GlyphRenderer\"},{\"attributes\":{},\"id\":\"aa31b65e-0187-42e2-9a57-3e30abc46eb2\",\"type\":\"BasicTicker\"},{\"attributes\":{\"below\":[{\"id\":\"f2197325-3226-4187-be4a-5e2575f3658f\",\"type\":\"LinearAxis\"}],\"left\":[{\"id\":\"eeb18609-1afe-4ceb-a58d-6ca2e252434f\",\"type\":\"LogAxis\"}],\"plot_height\":500,\"plot_width\":560,\"renderers\":[{\"id\":\"f2197325-3226-4187-be4a-5e2575f3658f\",\"type\":\"LinearAxis\"},{\"id\":\"dfce1e7d-9e8e-48c7-927e-f4b50e32bc71\",\"type\":\"Grid\"},{\"id\":\"eeb18609-1afe-4ceb-a58d-6ca2e252434f\",\"type\":\"LogAxis\"},{\"id\":\"59f22a1a-4c26-46ea-9d4c-a78bfc7e196e\",\"type\":\"Grid\"},{\"id\":\"94880145-6f7c-4810-b0dd-ddb30f6a17ae\",\"type\":\"BoxAnnotation\"},{\"id\":\"d36e836e-1cb0-4670-8426-d0c76a08c7b2\",\"type\":\"GlyphRenderer\"},{\"id\":\"bd25b3e3-9463-45c4-a227-5499bc3ae4ca\",\"type\":\"GlyphRenderer\"},{\"id\":\"83f25a48-b75a-4c22-8aae-2abe24a5a668\",\"type\":\"GlyphRenderer\"},{\"id\":\"9ba80232-ee35-461b-bbc0-c84dacc3b9db\",\"type\":\"GlyphRenderer\"},{\"id\":\"f0ab11a0-25a1-4274-bee5-186deafe44c6\",\"type\":\"GlyphRenderer\"},{\"id\":\"1091d0da-a89e-483e-beae-47066050a7d2\",\"type\":\"Legend\"}],\"right\":[{\"id\":\"1091d0da-a89e-483e-beae-47066050a7d2\",\"type\":\"Legend\"}],\"title\":{\"id\":\"faa5a141-af95-45f6-91ab-5b110a7ca8b4\",\"type\":\"Title\"},\"toolbar\":{\"id\":\"b7440276-b903-4351-9124-00adae9d565a\",\"type\":\"Toolbar\"},\"toolbar_location\":null,\"x_range\":{\"id\":\"dd4f7c18-3f4c-4857-80ab-83c2096a2f16\",\"type\":\"Range1d\"},\"x_scale\":{\"id\":\"84bbaace-01f0-43b6-be71-28eaa23ad66a\",\"type\":\"LinearScale\"},\"y_range\":{\"id\":\"c18c8737-3a84-4cdb-8434-35f4c4f168b9\",\"type\":\"Range1d\"},\"y_scale\":{\"id\":\"f481c590-1b9a-4d82-a74b-6099aaeb0296\",\"type\":\"LogScale\"}},\"id\":\"8bb81fe6-efb5-4151-9652-85bc69c94e12\",\"subtype\":\"Figure\",\"type\":\"Plot\"},{\"attributes\":{\"source\":{\"id\":\"564ac50e-47d7-4339-9399-1425f4745393\",\"type\":\"ColumnDataSource\"}},\"id\":\"a24ad709-e428-49a5-822e-34bbdbaa3806\",\"type\":\"CDSView\"},{\"attributes\":{\"source\":{\"id\":\"6069648d-0066-408b-819f-72332878d1d2\",\"type\":\"ColumnDataSource\"}},\"id\":\"125266dc-790b-4982-aee9-82476b2d78e2\",\"type\":\"CDSView\"},{\"attributes\":{\"active_drag\":\"auto\",\"active_inspect\":\"auto\",\"active_scroll\":\"auto\",\"active_tap\":\"auto\",\"tools\":[{\"id\":\"88ce4695-4da4-43ec-af28-c1c3c77a51ea\",\"type\":\"PanTool\"},{\"id\":\"67a3f006-14e3-4634-b880-bd3e2f0d2926\",\"type\":\"WheelZoomTool\"},{\"id\":\"e2afb9fc-710c-4171-a481-f292c31a6f8d\",\"type\":\"BoxZoomTool\"},{\"id\":\"1340eab4-cb78-406d-8343-b9dd10e293f7\",\"type\":\"SaveTool\"},{\"id\":\"475a2254-f8af-48ce-9490-15eb874040d5\",\"type\":\"ResetTool\"},{\"id\":\"66e76470-4c77-4d24-a74c-ba1934e067ce\",\"type\":\"HelpTool\"}]},\"id\":\"ba667435-754c-4c3e-866b-e02b5930d883\",\"type\":\"Toolbar\"},{\"attributes\":{},\"id\":\"84bbaace-01f0-43b6-be71-28eaa23ad66a\",\"type\":\"LinearScale\"},{\"attributes\":{\"overlay\":{\"id\":\"94880145-6f7c-4810-b0dd-ddb30f6a17ae\",\"type\":\"BoxAnnotation\"}},\"id\":\"e715343a-1a72-45e8-89de-f83edcf05614\",\"type\":\"BoxZoomTool\"},{\"attributes\":{\"dimension\":1,\"plot\":{\"id\":\"5b5ffb40-6518-4593-822a-490d62ea2600\",\"subtype\":\"Figure\",\"type\":\"Plot\"},\"ticker\":{\"id\":\"4783e1bb-93ec-444d-a180-8d1e886607f7\",\"type\":\"BasicTicker\"}},\"id\":\"e429ab34-9621-4d9c-9fb1-90b4a56c859d\",\"type\":\"Grid\"},{\"attributes\":{\"source\":{\"id\":\"91b163b1-7ee3-4456-bcfd-165e6df16f0c\",\"type\":\"ColumnDataSource\"}},\"id\":\"f305aae2-c145-47cf-a180-503785674845\",\"type\":\"CDSView\"},{\"attributes\":{\"active_drag\":\"auto\",\"active_inspect\":\"auto\",\"active_scroll\":\"auto\",\"active_tap\":\"auto\",\"tools\":[{\"id\":\"598ae154-af47-4794-8978-e42dffad5d5c\",\"type\":\"PanTool\"},{\"id\":\"4998ff0a-8999-46c6-ab1f-7db0d42e1cd3\",\"type\":\"WheelZoomTool\"},{\"id\":\"e715343a-1a72-45e8-89de-f83edcf05614\",\"type\":\"BoxZoomTool\"},{\"id\":\"4925d01a-09d0-4a8a-8ef9-60cfc2df33e7\",\"type\":\"SaveTool\"},{\"id\":\"d6eb989a-548a-4a16-a0fd-5af30a6205a6\",\"type\":\"ResetTool\"},{\"id\":\"52c96e5c-184d-4e52-8b9a-b5c72b139680\",\"type\":\"HelpTool\"}]},\"id\":\"b7440276-b903-4351-9124-00adae9d565a\",\"type\":\"Toolbar\"},{\"attributes\":{\"data_source\":{\"id\":\"f6bdc26a-2e52-4123-8daa-5c7048d9be1e\",\"type\":\"ColumnDataSource\"},\"glyph\":{\"id\":\"b84ac085-3197-41fd-804a-bda4c47ac0c0\",\"type\":\"Line\"},\"hover_glyph\":null,\"muted_glyph\":null,\"nonselection_glyph\":{\"id\":\"04836b1c-84f3-4b75-9bb8-d7373f18237e\",\"type\":\"Line\"},\"selection_glyph\":null,\"view\":{\"id\":\"cb6a9a58-5bac-46c1-89a3-e19d00e4b6a6\",\"type\":\"CDSView\"}},\"id\":\"d36e836e-1cb0-4670-8426-d0c76a08c7b2\",\"type\":\"GlyphRenderer\"},{\"attributes\":{},\"id\":\"1340eab4-cb78-406d-8343-b9dd10e293f7\",\"type\":\"SaveTool\"},{\"attributes\":{},\"id\":\"66e76470-4c77-4d24-a74c-ba1934e067ce\",\"type\":\"HelpTool\"},{\"attributes\":{\"dimension\":1,\"plot\":{\"id\":\"8bb81fe6-efb5-4151-9652-85bc69c94e12\",\"subtype\":\"Figure\",\"type\":\"Plot\"},\"ticker\":{\"id\":\"4f630e61-01fd-496e-b196-d7882d62edf3\",\"type\":\"LogTicker\"}},\"id\":\"59f22a1a-4c26-46ea-9d4c-a78bfc7e196e\",\"type\":\"Grid\"},{\"attributes\":{},\"id\":\"475a2254-f8af-48ce-9490-15eb874040d5\",\"type\":\"ResetTool\"},{\"attributes\":{\"plot\":{\"id\":\"8bb81fe6-efb5-4151-9652-85bc69c94e12\",\"subtype\":\"Figure\",\"type\":\"Plot\"},\"ticker\":{\"id\":\"4e027fb6-4d64-4af6-aec6-6688292667c5\",\"type\":\"BasicTicker\"}},\"id\":\"dfce1e7d-9e8e-48c7-927e-f4b50e32bc71\",\"type\":\"Grid\"},{\"attributes\":{},\"id\":\"d6eb989a-548a-4a16-a0fd-5af30a6205a6\",\"type\":\"ResetTool\"},{\"attributes\":{\"callback\":null,\"data\":{\"x\":{\"__ndarray__\":\"hGr/2iwkwD/y5aoe1VXBP/CjGvZ7YsQ/EHqRZLGoxz9F3Nb1jy7LP/7ReYXs2c4/CUHcD1dS0T/If/3nmzrTP5w484orF9U/Nt14mHLV1j/FfJKell3YP5qIChfql9k/JuSDns1q2j+0rYer2mDaP2pLXwDIJtk/FkjUNL0+1z/X8WeRUCfVP46RcEoOEtM/5J0JbiA00T9IGXEBaJTPPxAAXpfIIs4/OwHqWVLmyT9LZopzs8PCP9CWOX4k/Lo/SqNL/ZGptD9cW6iXQJOwP1LD1QbJMKs/DpKyA7acpz9C1R3I0GqmP2vlwNOtnKU/9bM1e9BOpD80tTx0GbWiPymk9er1hKI/e+bQFbH3oz+UuBKqaVGlPwRONQEmc6Y/KjRkyvQ8pz9LlxfDSVinP0Fnb3wvtq4/RHbbDtiYsj/NHBtMho21PxxUbuSyuLY/ZMg652pVtz8gChBMCLK3P4EDNPPfYbc/Q2DvQpYsuT+oKRPINrq/P2FdDTd9ScQ/neMvbwZmzj+DNvdfAATWP1Wi7C3lPNw/79xBDVuq4D/6CxxUC5riP+DXii5WEeQ/GBC1yNE35T/oPmtEURzmPxP39c8VveY/FMqILE4M5z/EStyVIwXnPyRMasstq+Y/JZHguiAK5j/WD3+HgTLlP4W/V1tONeQ/GP1wqa0l4z8LYTWWsBbiPwq4rU5KGOE/HIv5+7074D8bvgE9PxLfP2ks7RZ5wN0/oxYxiQbr2z9sbenq8e/YP4iCfH1rL9U/4mpsyKKd0T9kRQU1GeHMP91KZUCs7cU/\",\"dtype\":\"float64\",\"shape\":[75]},\"y\":{\"__ndarray__\":\"GhExyth1ND/Sv8nbtpRIP2vylNV0PVE/aTum7souWD/At0SJ8fVgPw3Iuahxymc/MSNhhJWvcD/bTfBN02d3P2zb5nxnaoA/CD5h5MAGhz8NmeH1TyaQP+zrCsc9p5Y/LbKd76fGnz/bLW5ISEmmPww9YvTcQq8/JV2OstnstT8Er5Y7M8G+P0c+r3jqkcU/5h99k6ZBzj88bCIzFzjVP4enV8oyxN0//yH99nXg5D8qOpLLf0jtP5kqGJXUifQ/c9cS8kHP/D+/DpwzojQEQIEmwoanVwxA4lgXt9HgE0BSSZ2AJuIbQAMJih9jjiNA5q4l5INuK0AwTKYKRj0zQNv5fmq8/DpAaCJseHrtQkB/+zpwzoxKQM3MzMzMeFJAZmZmZmZqWEAAAAAAAFxeQM3MzMzMJmJAmpmZmZkfZUBmZmZmZhhoQDMzMzMzEWtAAAAAAAAKbkBmZmZmZoFwQM3MzMzM/XFAMzMzMzN6c0CamZmZmfZ0QAAAAAAAc3ZAZmZmZmbvd0DNzMzMzGt5QDMzMzMz6HpAmpmZmZlkfEAAAAAAAOF9QGZmZmZmXX9AZmZmZuZsgECamZmZGSuBQM3MzMxM6YFAAAAAAICngkAzMzMzs2WDQGZmZmbmI4RAmpmZmRnihEDNzMzMTKCFQAAAAACAXoZAMzMzM7Mch0BmZmZm5tqHQJqZmZkZmYhAzczMzExXiUAAAAAAgBWKQDMzMzOz04pAZmZmZuaRi0CamZmZGVCMQM3MzMxMDo1AAAAAAIDMjUAzMzMzs4qOQGZmZmbmSI9A\",\"dtype\":\"float64\",\"shape\":[75]}},\"selected\":{\"id\":\"569d5de2-cbc5-498a-a9e9-ae8e267f30ac\",\"type\":\"Selection\"},\"selection_policy\":{\"id\":\"9d6fdf58-2c42-454f-a22c-cd96c7d897c4\",\"type\":\"UnionRenderers\"}},\"id\":\"b3a1d416-679c-4d5e-bf85-cc7569167234\",\"type\":\"ColumnDataSource\"},{\"attributes\":{\"line_alpha\":0.6,\"line_color\":\"#e41a1c\",\"line_dash\":[6],\"line_width\":5,\"x\":{\"field\":\"x\"},\"y\":{\"field\":\"y\"}},\"id\":\"b84ac085-3197-41fd-804a-bda4c47ac0c0\",\"type\":\"Line\"},{\"attributes\":{\"bottom_units\":\"screen\",\"fill_alpha\":{\"value\":0.5},\"fill_color\":{\"value\":\"lightgrey\"},\"left_units\":\"screen\",\"level\":\"overlay\",\"line_alpha\":{\"value\":1.0},\"line_color\":{\"value\":\"black\"},\"line_dash\":[4,4],\"line_width\":{\"value\":2},\"plot\":null,\"render_mode\":\"css\",\"right_units\":\"screen\",\"top_units\":\"screen\"},\"id\":\"94880145-6f7c-4810-b0dd-ddb30f6a17ae\",\"type\":\"BoxAnnotation\"},{\"attributes\":{\"callback\":null,\"end\":0.01,\"start\":1020},\"id\":\"ffdc75a7-15f5-488c-916c-c9ee77e7fdc9\",\"type\":\"Range1d\"},{\"attributes\":{},\"id\":\"67a3f006-14e3-4634-b880-bd3e2f0d2926\",\"type\":\"WheelZoomTool\"},{\"attributes\":{\"overlay\":{\"id\":\"f5b53a9c-408f-4937-896a-a6f6b2e494c4\",\"type\":\"BoxAnnotation\"}},\"id\":\"e2afb9fc-710c-4171-a481-f292c31a6f8d\",\"type\":\"BoxZoomTool\"},{\"attributes\":{},\"id\":\"88ce4695-4da4-43ec-af28-c1c3c77a51ea\",\"type\":\"PanTool\"},{\"attributes\":{\"plot\":null,\"text\":\"Log pressure scale\"},\"id\":\"faa5a141-af95-45f6-91ab-5b110a7ca8b4\",\"type\":\"Title\"},{\"attributes\":{\"fill_alpha\":{\"value\":0.7},\"fill_color\":{\"value\":\"#4daf4a\"},\"line_alpha\":{\"value\":0.7},\"line_color\":{\"value\":\"#4daf4a\"},\"x\":{\"field\":\"x\"},\"y\":{\"field\":\"y\"}},\"id\":\"7b7c1050-2dde-46e1-95e8-61b32a1ed9cd\",\"type\":\"Circle\"},{\"attributes\":{\"line_alpha\":0.1,\"line_color\":\"#1f77b4\",\"line_width\":3,\"x\":{\"field\":\"x\"},\"y\":{\"field\":\"y\"}},\"id\":\"1ecb9016-c89c-4d0e-98d0-060f07763c3b\",\"type\":\"Line\"},{\"attributes\":{},\"id\":\"4998ff0a-8999-46c6-ab1f-7db0d42e1cd3\",\"type\":\"WheelZoomTool\"},{\"attributes\":{\"callback\":null,\"data\":{\"x\":{\"__ndarray__\":\"UItNWdcAtj90zF8CK2a4P0SqqcEyb70/kESD9621wT8OHPaA9tfEP2N/S/DmM8g/b8bjNTXHyz9CMTKDYHvPPy/p76naodE/BNvnhiJ00z/yJI2nADvVPyHRa4I4ztY/cTi/lBMa2D+WEgw55qbYP65EF9bUDdg/nDY+vw6t1j+SbyLrqevUPw80FQkt+NI/Q/uv/2gY0T9cNYM/l1bPP9UuBuQtGs4/omsyDwhSyj/qSwS8PYjDP7H2lw6jsbw/QwhzhOT6tT/C9vPSEj6xP/OrU0sVYas/PMK4q4Qdpz8GmNEew5KlP/Q9/66UeKQ/ErdEd3vMoj/0gvkaSBShP1aSoCQgKqE/xNp/G7/foj8NjNL2/z2kP+XuFIj6kKU//ndsdEnypj+s/LFFe7inPyBdtwa8BLA/dhBdo3a+sz/uJri0efK2P8I4+B2v67c/zZrMre0YuD/qL8jMqeW3P0BrcOAQ9rY/si3YY4NLuD+XyrLLUMO+P7u9AAwI2MM/UaU5sRbZzT8YBdQUBqPVP6ZeHlaMuNs/YpLCrbZA4D/8SroAyBfiP7cE5y+SruM/SQglSQEF5T9QvrnPtvLlP3Pe/2hdguY/bYGCNvvU5j99JycCQPLmP37m8fAHyOY/8hIjD7pG5j9eksPPx3XlPy3debnkZuQ/lDTwoDFC4z8WVBaLmiHiP0cPIBG5G+E/IQqZoxBC4D85bcGc+TTfP+0vr9CfAN4/lhONQLBE3D/x/yBQQVbZP6WyzVNildU/EW29Eyn80T/Mb7YOHonNP8piwJ2nb8Y/\",\"dtype\":\"float64\",\"shape\":[75]},\"y\":{\"__ndarray__\":\"GhExyth1ND/Sv8nbtpRIP2vylNV0PVE/aTum7souWD/At0SJ8fVgPw3Iuahxymc/MSNhhJWvcD/bTfBN02d3P2zb5nxnaoA/CD5h5MAGhz8NmeH1TyaQP+zrCsc9p5Y/LbKd76fGnz/bLW5ISEmmPww9YvTcQq8/JV2OstnstT8Er5Y7M8G+P0c+r3jqkcU/5h99k6ZBzj88bCIzFzjVP4enV8oyxN0//yH99nXg5D8qOpLLf0jtP5kqGJXUifQ/c9cS8kHP/D+/DpwzojQEQIEmwoanVwxA4lgXt9HgE0BSSZ2AJuIbQAMJih9jjiNA5q4l5INuK0AwTKYKRj0zQNv5fmq8/DpAaCJseHrtQkB/+zpwzoxKQM3MzMzMeFJAZmZmZmZqWEAAAAAAAFxeQM3MzMzMJmJAmpmZmZkfZUBmZmZmZhhoQDMzMzMzEWtAAAAAAAAKbkBmZmZmZoFwQM3MzMzM/XFAMzMzMzN6c0CamZmZmfZ0QAAAAAAAc3ZAZmZmZmbvd0DNzMzMzGt5QDMzMzMz6HpAmpmZmZlkfEAAAAAAAOF9QGZmZmZmXX9AZmZmZuZsgECamZmZGSuBQM3MzMxM6YFAAAAAAICngkAzMzMzs2WDQGZmZmbmI4RAmpmZmRnihEDNzMzMTKCFQAAAAACAXoZAMzMzM7Mch0BmZmZm5tqHQJqZmZkZmYhAzczMzExXiUAAAAAAgBWKQDMzMzOz04pAZmZmZuaRi0CamZmZGVCMQM3MzMxMDo1AAAAAAIDMjUAzMzMzs4qOQGZmZmbmSI9A\",\"dtype\":\"float64\",\"shape\":[75]}},\"selected\":{\"id\":\"9d9a800e-70b7-448b-a2a6-e89d8f1932db\",\"type\":\"Selection\"},\"selection_policy\":{\"id\":\"92c4779f-b742-4e12-9b68-1de96edc2c49\",\"type\":\"UnionRenderers\"}},\"id\":\"6069648d-0066-408b-819f-72332878d1d2\",\"type\":\"ColumnDataSource\"},{\"attributes\":{\"line_alpha\":0.6,\"line_color\":\"#984ea3\",\"line_width\":3,\"x\":{\"field\":\"x\"},\"y\":{\"field\":\"y\"}},\"id\":\"3d41abe1-47c1-40cc-9870-0ac6dae4448d\",\"type\":\"Line\"},{\"attributes\":{},\"id\":\"e5438576-f992-4a22-9f1b-94eaa1807a75\",\"type\":\"LinearScale\"},{\"attributes\":{\"axis_label\":\"pressure [mb]\",\"formatter\":{\"id\":\"f4fe69de-74c8-4211-8a7a-cd667c8a6956\",\"type\":\"LogTickFormatter\"},\"plot\":{\"id\":\"8bb81fe6-efb5-4151-9652-85bc69c94e12\",\"subtype\":\"Figure\",\"type\":\"Plot\"},\"ticker\":{\"id\":\"4f630e61-01fd-496e-b196-d7882d62edf3\",\"type\":\"LogTicker\"}},\"id\":\"eeb18609-1afe-4ceb-a58d-6ca2e252434f\",\"type\":\"LogAxis\"},{\"attributes\":{\"below\":[{\"id\":\"dfce72bc-c517-498c-b088-9ec6e064e0f2\",\"type\":\"LinearAxis\"}],\"left\":[{\"id\":\"3c7483e1-a431-4aef-b1b3-540d5e64ff01\",\"type\":\"LinearAxis\"}],\"plot_height\":500,\"plot_width\":400,\"renderers\":[{\"id\":\"dfce72bc-c517-498c-b088-9ec6e064e0f2\",\"type\":\"LinearAxis\"},{\"id\":\"66bf5910-3ba3-4a57-b1f0-5defdd2fe606\",\"type\":\"Grid\"},{\"id\":\"3c7483e1-a431-4aef-b1b3-540d5e64ff01\",\"type\":\"LinearAxis\"},{\"id\":\"e429ab34-9621-4d9c-9fb1-90b4a56c859d\",\"type\":\"Grid\"},{\"id\":\"f5b53a9c-408f-4937-896a-a6f6b2e494c4\",\"type\":\"BoxAnnotation\"},{\"id\":\"4fd8c3b1-05e1-4494-a8ea-d7291f8d241f\",\"type\":\"GlyphRenderer\"},{\"id\":\"6f2f5658-599e-4f79-b40f-cbf411a144d3\",\"type\":\"GlyphRenderer\"},{\"id\":\"6d5e4866-0036-40f5-8c0d-6af44f7a473b\",\"type\":\"GlyphRenderer\"},{\"id\":\"e606fe51-7664-443d-88bf-e68c02be07d6\",\"type\":\"GlyphRenderer\"},{\"id\":\"f5ea5ea1-8d9c-4200-84ea-07f0783b3440\",\"type\":\"GlyphRenderer\"}],\"title\":{\"id\":\"a247882d-24c4-4e50-b08a-ce80b7b74500\",\"type\":\"Title\"},\"toolbar\":{\"id\":\"ba667435-754c-4c3e-866b-e02b5930d883\",\"type\":\"Toolbar\"},\"toolbar_location\":null,\"x_range\":{\"id\":\"39cb828a-c15c-406c-9ede-a5876845f9b6\",\"type\":\"Range1d\"},\"x_scale\":{\"id\":\"e5438576-f992-4a22-9f1b-94eaa1807a75\",\"type\":\"LinearScale\"},\"y_range\":{\"id\":\"ffdc75a7-15f5-488c-916c-c9ee77e7fdc9\",\"type\":\"Range1d\"},\"y_scale\":{\"id\":\"6661f16d-08fa-4859-9f85-65b174cfb4cd\",\"type\":\"LinearScale\"}},\"id\":\"5b5ffb40-6518-4593-822a-490d62ea2600\",\"subtype\":\"Figure\",\"type\":\"Plot\"},{\"attributes\":{\"callback\":null,\"data\":{\"x\":{\"__ndarray__\":\"I7A3BqRKsT9xgwI4uwqzP+cO/Tsk+rc/31Ripgb9vD/z/HEUgzTBP5s3TgrzHsQ/PKlp9sRjxz8hNIr+M/fKP0mil1Est84/fx8nr0JI0T9yw++mWzbTPyr4lgcjFdU/HKNM1QPH1j+YDkLlBNLXP4ufrSBZwtc/a3F8owzL1j8xh5Pq8THVP+VNlyjvIdM/XwpRti/90D+QC9ZROK/OPzeuuYLxfM0/EhDVjPNUyj8KHOC0phrEP3h77/MIA74/+/j4QtDqtj+qhdbmpp2xPzw5sg4hkKs/hz1NYwQfpz/EBQg1L8alP/YWMv5NjaQ/9M/3Rrmjoj94QEYxWvagP82IHGz7aKE/y5ete38Roz/RaY93RA6kP4wvIbkRI6U/RSgHyqWlpj+7b16XP7GnP+PwRybnEbA/DUXBWTizsz+Lsj3Owou2P2Yihsx+Jbc/ORzuB2L3tj/wFWZsq4O2P1nKNMXcaLU/O1KtIC6Ctj9ZY/mI0r28P02AoxXGs8I/jVK2Br47zD8PhUueHXbUP8JgJ4rK5dk/1TyJAI7a3T+NE1d84LbgP+jOn3jGpeI/OvqpO2BI5D/HapDV7zrlPze1nudwyeU/XzUiWiNJ5j9eXiXEAbnmP+CPLnjJ5uY/rhIsDmee5j8YeHJ2AN7lPyTqaMmhzeQ/YKb10KGg4z/K8AoKpIDiP+epq45eheE/6l4G53zG4D+1edJ42DrgP0DS8eIOZd8/2RRdUSm63T8FJC+lDcvaP+mP3cMt+NY/xfakXZZA0z8a69EKwsvPP3eOt0vRgMg/\",\"dtype\":\"float64\",\"shape\":[75]},\"y\":{\"__ndarray__\":\"S/O/Q+51ND/Sv8nbtpRIP2vylNV0PVE/aTum7souWD/At0SJ8fVgPw3Iuahxymc/MSNhhJWvcD/bTfBN02d3P2zb5nxnaoA/CD5h5MAGhz8NmeH1TyaQP+zrCsc9p5Y/LbKd76fGnz/bLW5ISEmmPww9YvTcQq8/JV2OstnstT8Er5Y7M8G+P0c+r3jqkcU/5h99k6ZBzj88bCIzFzjVP4enV8oyxN0//yH99nXg5D8qOpLLf0jtP5kqGJXUifQ/c9cS8kHP/D+/DpwzojQEQIEmwoanVwxA4lgXt9HgE0BSSZ2AJuIbQAMJih9jjiNA5q4l5INuK0AwTKYKRj0zQNv5fmq8/DpAaCJseHrtQkB/+zpwzoxKQM3MzMzMeFJAZmZmZmZqWEAAAAAAAFxeQM3MzMzMJmJAmpmZmZkfZUBmZmZmZhhoQDMzMzMzEWtAAAAAAAAKbkBmZmZmZoFwQM3MzMzM/XFAMzMzMzN6c0CamZmZmfZ0QAAAAAAAc3ZAZmZmZmbvd0DNzMzMzGt5QDMzMzMz6HpAmpmZmZlkfEAAAAAAAOF9QGZmZmZmXX9AZmZmZuZsgECamZmZGSuBQM3MzMxM6YFAAAAAAICngkAzMzMzs2WDQGZmZmbmI4RAmpmZmRnihEDNzMzMTKCFQAAAAACAXoZAMzMzM7Mch0BmZmZm5tqHQJqZmZkZmYhAzczMzExXiUAAAAAAgBWKQDMzMzOz04pAZmZmZuaRi0CamZmZGVCMQM3MzMxMDo1AAAAAAIDMjUAzMzMzs4qOQGZmZmbmSI9A\",\"dtype\":\"float64\",\"shape\":[75]}},\"selected\":{\"id\":\"21a821bf-9120-4fd7-a8aa-cd78c2d6f87e\",\"type\":\"Selection\"},\"selection_policy\":{\"id\":\"405fd083-58c8-47cc-ac81-c75393a4c07f\",\"type\":\"UnionRenderers\"}},\"id\":\"f6bdc26a-2e52-4123-8daa-5c7048d9be1e\",\"type\":\"ColumnDataSource\"},{\"attributes\":{},\"id\":\"4925d01a-09d0-4a8a-8ef9-60cfc2df33e7\",\"type\":\"SaveTool\"},{\"attributes\":{\"items\":[{\"id\":\"bf4e06c2-bd50-442c-a72f-dec34deee244\",\"type\":\"LegendItem\"},{\"id\":\"89a9d242-d591-4429-9e0c-d3762086a883\",\"type\":\"LegendItem\"},{\"id\":\"720f12eb-28fb-46fc-b9e9-c7a77e2fbc19\",\"type\":\"LegendItem\"}],\"label_text_font_size\":{\"value\":\"8pt\"},\"location\":[10,-30],\"plot\":{\"id\":\"8bb81fe6-efb5-4151-9652-85bc69c94e12\",\"subtype\":\"Figure\",\"type\":\"Plot\"}},\"id\":\"1091d0da-a89e-483e-beae-47066050a7d2\",\"type\":\"Legend\"},{\"attributes\":{\"axis_label\":\"cooling rate [K/day]\",\"formatter\":{\"id\":\"cd220065-b933-423a-9b0f-d86a8f6c6e6f\",\"type\":\"BasicTickFormatter\"},\"plot\":{\"id\":\"8bb81fe6-efb5-4151-9652-85bc69c94e12\",\"subtype\":\"Figure\",\"type\":\"Plot\"},\"ticker\":{\"id\":\"4e027fb6-4d64-4af6-aec6-6688292667c5\",\"type\":\"BasicTicker\"}},\"id\":\"f2197325-3226-4187-be4a-5e2575f3658f\",\"type\":\"LinearAxis\"},{\"attributes\":{\"data_source\":{\"id\":\"564ac50e-47d7-4339-9399-1425f4745393\",\"type\":\"ColumnDataSource\"},\"glyph\":{\"id\":\"cec367b4-ec98-40d8-81f7-d21eabc09527\",\"type\":\"Square\"},\"hover_glyph\":null,\"muted_glyph\":null,\"nonselection_glyph\":{\"id\":\"b7b329c3-4b4f-44db-8e8c-fcb1e49d24c2\",\"type\":\"Square\"},\"selection_glyph\":null,\"view\":{\"id\":\"a24ad709-e428-49a5-822e-34bbdbaa3806\",\"type\":\"CDSView\"}},\"id\":\"9ba80232-ee35-461b-bbc0-c84dacc3b9db\",\"type\":\"GlyphRenderer\"},{\"attributes\":{},\"id\":\"9d3d7e83-9878-4c66-bd5b-30a4d92c39f8\",\"type\":\"UnionRenderers\"},{\"attributes\":{},\"id\":\"d29dc893-48ae-453f-8179-38ebf8496dd0\",\"type\":\"Selection\"},{\"attributes\":{\"toolbar\":{\"id\":\"4a7de4fa-3819-4d00-933d-69ba1f23a086\",\"type\":\"ProxyToolbar\"},\"toolbar_location\":\"above\"},\"id\":\"4ad3b022-911d-47d6-9c66-74365f5379f0\",\"type\":\"ToolbarBox\"},{\"attributes\":{\"data_source\":{\"id\":\"91b163b1-7ee3-4456-bcfd-165e6df16f0c\",\"type\":\"ColumnDataSource\"},\"glyph\":{\"id\":\"a021fee8-abed-4128-8e08-bd8e73c8d6ec\",\"type\":\"Line\"},\"hover_glyph\":null,\"muted_glyph\":null,\"nonselection_glyph\":{\"id\":\"d05a393b-3b90-48ff-a13f-754a0149f30e\",\"type\":\"Line\"},\"selection_glyph\":null,\"view\":{\"id\":\"f305aae2-c145-47cf-a180-503785674845\",\"type\":\"CDSView\"}},\"id\":\"4fd8c3b1-05e1-4494-a8ea-d7291f8d241f\",\"type\":\"GlyphRenderer\"},{\"attributes\":{\"data_source\":{\"id\":\"78055735-36ee-4b24-aacf-31fd90bf8566\",\"type\":\"ColumnDataSource\"},\"glyph\":{\"id\":\"4a11dc54-efcf-4cb1-81b1-65f1062474b3\",\"type\":\"Line\"},\"hover_glyph\":null,\"muted_glyph\":null,\"nonselection_glyph\":{\"id\":\"9b1f33b3-4a61-4d71-b906-4a9e947544ad\",\"type\":\"Line\"},\"selection_glyph\":null,\"view\":{\"id\":\"80d8f660-783e-4d32-be29-c463811361ee\",\"type\":\"CDSView\"}},\"id\":\"6d5e4866-0036-40f5-8c0d-6af44f7a473b\",\"type\":\"GlyphRenderer\"},{\"attributes\":{},\"id\":\"6347a835-af5f-4739-8861-aebc17936595\",\"type\":\"Selection\"},{\"attributes\":{},\"id\":\"adc207c7-48bf-45dc-83b0-253e422c551a\",\"type\":\"UnionRenderers\"},{\"attributes\":{},\"id\":\"4c895463-d243-4e60-ab69-36fd5efc4301\",\"type\":\"Selection\"},{\"attributes\":{},\"id\":\"6831793d-e710-4ff6-ac37-85d00aa44560\",\"type\":\"UnionRenderers\"},{\"attributes\":{\"tools\":[{\"id\":\"88ce4695-4da4-43ec-af28-c1c3c77a51ea\",\"type\":\"PanTool\"},{\"id\":\"67a3f006-14e3-4634-b880-bd3e2f0d2926\",\"type\":\"WheelZoomTool\"},{\"id\":\"e2afb9fc-710c-4171-a481-f292c31a6f8d\",\"type\":\"BoxZoomTool\"},{\"id\":\"1340eab4-cb78-406d-8343-b9dd10e293f7\",\"type\":\"SaveTool\"},{\"id\":\"475a2254-f8af-48ce-9490-15eb874040d5\",\"type\":\"ResetTool\"},{\"id\":\"66e76470-4c77-4d24-a74c-ba1934e067ce\",\"type\":\"HelpTool\"},{\"id\":\"598ae154-af47-4794-8978-e42dffad5d5c\",\"type\":\"PanTool\"},{\"id\":\"4998ff0a-8999-46c6-ab1f-7db0d42e1cd3\",\"type\":\"WheelZoomTool\"},{\"id\":\"e715343a-1a72-45e8-89de-f83edcf05614\",\"type\":\"BoxZoomTool\"},{\"id\":\"4925d01a-09d0-4a8a-8ef9-60cfc2df33e7\",\"type\":\"SaveTool\"},{\"id\":\"d6eb989a-548a-4a16-a0fd-5af30a6205a6\",\"type\":\"ResetTool\"},{\"id\":\"52c96e5c-184d-4e52-8b9a-b5c72b139680\",\"type\":\"HelpTool\"}]},\"id\":\"4a7de4fa-3819-4d00-933d-69ba1f23a086\",\"type\":\"ProxyToolbar\"},{\"attributes\":{},\"id\":\"5fd15778-39e3-46d3-ba42-ce63f857b9cd\",\"type\":\"UnionRenderers\"},{\"attributes\":{},\"id\":\"c0975859-a142-49b0-afbc-24c39955f91e\",\"type\":\"Selection\"},{\"attributes\":{\"children\":[{\"id\":\"4ad3b022-911d-47d6-9c66-74365f5379f0\",\"type\":\"ToolbarBox\"},{\"id\":\"7024bd89-32a1-4c21-818e-c2664199d8bc\",\"type\":\"Column\"}]},\"id\":\"9afd9532-af38-4f9a-afb5-84d52028abaa\",\"type\":\"Column\"},{\"attributes\":{\"source\":{\"id\":\"daf0ae89-7e1e-4c74-ac3d-b0ee8bf831e8\",\"type\":\"ColumnDataSource\"}},\"id\":\"5c76417f-d1e3-4bdf-989c-91fe71837d42\",\"type\":\"CDSView\"},{\"attributes\":{\"data_source\":{\"id\":\"b3a1d416-679c-4d5e-bf85-cc7569167234\",\"type\":\"ColumnDataSource\"},\"glyph\":{\"id\":\"7b7c1050-2dde-46e1-95e8-61b32a1ed9cd\",\"type\":\"Circle\"},\"hover_glyph\":null,\"muted_glyph\":null,\"nonselection_glyph\":{\"id\":\"eef044b3-3c3b-472d-9940-f55fe731532a\",\"type\":\"Circle\"},\"selection_glyph\":null,\"view\":{\"id\":\"a85b169a-0c21-4366-b791-4a673f13931a\",\"type\":\"CDSView\"}},\"id\":\"6f2f5658-599e-4f79-b40f-cbf411a144d3\",\"type\":\"GlyphRenderer\"},{\"attributes\":{\"line_alpha\":0.1,\"line_color\":\"#1f77b4\",\"line_width\":3,\"x\":{\"field\":\"x\"},\"y\":{\"field\":\"y\"}},\"id\":\"de214fee-ed42-4d67-b490-9109befa2701\",\"type\":\"Line\"},{\"attributes\":{\"callback\":null,\"data\":{\"x\":{\"__ndarray__\":\"I7A3BqRKsT9xgwI4uwqzP+cO/Tsk+rc/31Ripgb9vD/z/HEUgzTBP5s3TgrzHsQ/PKlp9sRjxz8hNIr+M/fKP0mil1Est84/fx8nr0JI0T9yw++mWzbTPyr4lgcjFdU/HKNM1QPH1j+YDkLlBNLXP4ufrSBZwtc/a3F8owzL1j8xh5Pq8THVP+VNlyjvIdM/XwpRti/90D+QC9ZROK/OPzeuuYLxfM0/EhDVjPNUyj8KHOC0phrEP3h77/MIA74/+/j4QtDqtj+qhdbmpp2xPzw5sg4hkKs/hz1NYwQfpz/EBQg1L8alP/YWMv5NjaQ/9M/3Rrmjoj94QEYxWvagP82IHGz7aKE/y5ete38Roz/RaY93RA6kP4wvIbkRI6U/RSgHyqWlpj+7b16XP7GnP+PwRybnEbA/DUXBWTizsz+Lsj3Owou2P2Yihsx+Jbc/ORzuB2L3tj/wFWZsq4O2P1nKNMXcaLU/O1KtIC6Ctj9ZY/mI0r28P02AoxXGs8I/jVK2Br47zD8PhUueHXbUP8JgJ4rK5dk/1TyJAI7a3T+NE1d84LbgP+jOn3jGpeI/OvqpO2BI5D/HapDV7zrlPze1nudwyeU/XzUiWiNJ5j9eXiXEAbnmP+CPLnjJ5uY/rhIsDmee5j8YeHJ2AN7lPyTqaMmhzeQ/YKb10KGg4z/K8AoKpIDiP+epq45eheE/6l4G53zG4D+1edJ42DrgP0DS8eIOZd8/2RRdUSm63T8FJC+lDcvaP+mP3cMt+NY/xfakXZZA0z8a69EKwsvPP3eOt0vRgMg/\",\"dtype\":\"float64\",\"shape\":[75]},\"y\":{\"__ndarray__\":\"S/O/Q+51ND/Sv8nbtpRIP2vylNV0PVE/aTum7souWD/At0SJ8fVgPw3Iuahxymc/MSNhhJWvcD/bTfBN02d3P2zb5nxnaoA/CD5h5MAGhz8NmeH1TyaQP+zrCsc9p5Y/LbKd76fGnz/bLW5ISEmmPww9YvTcQq8/JV2OstnstT8Er5Y7M8G+P0c+r3jqkcU/5h99k6ZBzj88bCIzFzjVP4enV8oyxN0//yH99nXg5D8qOpLLf0jtP5kqGJXUifQ/c9cS8kHP/D+/DpwzojQEQIEmwoanVwxA4lgXt9HgE0BSSZ2AJuIbQAMJih9jjiNA5q4l5INuK0AwTKYKRj0zQNv5fmq8/DpAaCJseHrtQkB/+zpwzoxKQM3MzMzMeFJAZmZmZmZqWEAAAAAAAFxeQM3MzMzMJmJAmpmZmZkfZUBmZmZmZhhoQDMzMzMzEWtAAAAAAAAKbkBmZmZmZoFwQM3MzMzM/XFAMzMzMzN6c0CamZmZmfZ0QAAAAAAAc3ZAZmZmZmbvd0DNzMzMzGt5QDMzMzMz6HpAmpmZmZlkfEAAAAAAAOF9QGZmZmZmXX9AZmZmZuZsgECamZmZGSuBQM3MzMxM6YFAAAAAAICngkAzMzMzs2WDQGZmZmbmI4RAmpmZmRnihEDNzMzMTKCFQAAAAACAXoZAMzMzM7Mch0BmZmZm5tqHQJqZmZkZmYhAzczMzExXiUAAAAAAgBWKQDMzMzOz04pAZmZmZuaRi0CamZmZGVCMQM3MzMxMDo1AAAAAAIDMjUAzMzMzs4qOQGZmZmbmSI9A\",\"dtype\":\"float64\",\"shape\":[75]}},\"selected\":{\"id\":\"fbce4f36-03bc-4493-813a-c8451f677ec8\",\"type\":\"Selection\"},\"selection_policy\":{\"id\":\"d681dc5f-86a6-42d0-9461-21669f34f8d2\",\"type\":\"UnionRenderers\"}},\"id\":\"91b163b1-7ee3-4456-bcfd-165e6df16f0c\",\"type\":\"ColumnDataSource\"},{\"attributes\":{\"children\":[{\"id\":\"d9dca570-5d1e-479e-8394-a5bb782dc132\",\"type\":\"Row\"}]},\"id\":\"7024bd89-32a1-4c21-818e-c2664199d8bc\",\"type\":\"Column\"},{\"attributes\":{\"callback\":null,\"data\":{\"x\":{\"__ndarray__\":\"hGr/2iwkwD/y5aoe1VXBP/CjGvZ7YsQ/EHqRZLGoxz9F3Nb1jy7LP/7ReYXs2c4/CUHcD1dS0T/If/3nmzrTP5w484orF9U/Nt14mHLV1j/FfJKell3YP5qIChfql9k/JuSDns1q2j+0rYer2mDaP2pLXwDIJtk/FkjUNL0+1z/X8WeRUCfVP46RcEoOEtM/5J0JbiA00T9IGXEBaJTPPxAAXpfIIs4/OwHqWVLmyT9LZopzs8PCP9CWOX4k/Lo/SqNL/ZGptD9cW6iXQJOwP1LD1QbJMKs/DpKyA7acpz9C1R3I0GqmP2vlwNOtnKU/9bM1e9BOpD80tTx0GbWiPymk9er1hKI/e+bQFbH3oz+UuBKqaVGlPwRONQEmc6Y/KjRkyvQ8pz9LlxfDSVinP0Fnb3wvtq4/RHbbDtiYsj/NHBtMho21PxxUbuSyuLY/ZMg652pVtz8gChBMCLK3P4EDNPPfYbc/Q2DvQpYsuT+oKRPINrq/P2FdDTd9ScQ/neMvbwZmzj+DNvdfAATWP1Wi7C3lPNw/79xBDVuq4D/6CxxUC5riP+DXii5WEeQ/GBC1yNE35T/oPmtEURzmPxP39c8VveY/FMqILE4M5z/EStyVIwXnPyRMasstq+Y/JZHguiAK5j/WD3+HgTLlP4W/V1tONeQ/GP1wqa0l4z8LYTWWsBbiPwq4rU5KGOE/HIv5+7074D8bvgE9PxLfP2ks7RZ5wN0/oxYxiQbr2z9sbenq8e/YP4iCfH1rL9U/4mpsyKKd0T9kRQU1GeHMP91KZUCs7cU/\",\"dtype\":\"float64\",\"shape\":[75]},\"y\":{\"__ndarray__\":\"GhExyth1ND/Sv8nbtpRIP2vylNV0PVE/aTum7souWD/At0SJ8fVgPw3Iuahxymc/MSNhhJWvcD/bTfBN02d3P2zb5nxnaoA/CD5h5MAGhz8NmeH1TyaQP+zrCsc9p5Y/LbKd76fGnz/bLW5ISEmmPww9YvTcQq8/JV2OstnstT8Er5Y7M8G+P0c+r3jqkcU/5h99k6ZBzj88bCIzFzjVP4enV8oyxN0//yH99nXg5D8qOpLLf0jtP5kqGJXUifQ/c9cS8kHP/D+/DpwzojQEQIEmwoanVwxA4lgXt9HgE0BSSZ2AJuIbQAMJih9jjiNA5q4l5INuK0AwTKYKRj0zQNv5fmq8/DpAaCJseHrtQkB/+zpwzoxKQM3MzMzMeFJAZmZmZmZqWEAAAAAAAFxeQM3MzMzMJmJAmpmZmZkfZUBmZmZmZhhoQDMzMzMzEWtAAAAAAAAKbkBmZmZmZoFwQM3MzMzM/XFAMzMzMzN6c0CamZmZmfZ0QAAAAAAAc3ZAZmZmZmbvd0DNzMzMzGt5QDMzMzMz6HpAmpmZmZlkfEAAAAAAAOF9QGZmZmZmXX9AZmZmZuZsgECamZmZGSuBQM3MzMxM6YFAAAAAAICngkAzMzMzs2WDQGZmZmbmI4RAmpmZmRnihEDNzMzMTKCFQAAAAACAXoZAMzMzM7Mch0BmZmZm5tqHQJqZmZkZmYhAzczMzExXiUAAAAAAgBWKQDMzMzOz04pAZmZmZuaRi0CamZmZGVCMQM3MzMxMDo1AAAAAAIDMjUAzMzMzs4qOQGZmZmbmSI9A\",\"dtype\":\"float64\",\"shape\":[75]}},\"selected\":{\"id\":\"d29dc893-48ae-453f-8179-38ebf8496dd0\",\"type\":\"Selection\"},\"selection_policy\":{\"id\":\"9d3d7e83-9878-4c66-bd5b-30a4d92c39f8\",\"type\":\"UnionRenderers\"}},\"id\":\"daf0ae89-7e1e-4c74-ac3d-b0ee8bf831e8\",\"type\":\"ColumnDataSource\"},{\"attributes\":{\"callback\":null,\"data\":{\"x\":{\"__ndarray__\":\"hGr/2iwkwD/y5aoe1VXBP/CjGvZ7YsQ/EHqRZLGoxz9F3Nb1jy7LP/7ReYXs2c4/CUHcD1dS0T/If/3nmzrTP5w484orF9U/Nt14mHLV1j/FfJKell3YP5qIChfql9k/JuSDns1q2j+0rYer2mDaP2pLXwDIJtk/FkjUNL0+1z/X8WeRUCfVP46RcEoOEtM/5J0JbiA00T9IGXEBaJTPPxAAXpfIIs4/OwHqWVLmyT9LZopzs8PCP9CWOX4k/Lo/SqNL/ZGptD9cW6iXQJOwP1LD1QbJMKs/DpKyA7acpz9C1R3I0GqmP2vlwNOtnKU/9bM1e9BOpD80tTx0GbWiPymk9er1hKI/e+bQFbH3oz+UuBKqaVGlPwRONQEmc6Y/KjRkyvQ8pz9LlxfDSVinP0Fnb3wvtq4/RHbbDtiYsj/NHBtMho21PxxUbuSyuLY/ZMg652pVtz8gChBMCLK3P4EDNPPfYbc/Q2DvQpYsuT+oKRPINrq/P2FdDTd9ScQ/neMvbwZmzj+DNvdfAATWP1Wi7C3lPNw/79xBDVuq4D/6CxxUC5riP+DXii5WEeQ/GBC1yNE35T/oPmtEURzmPxP39c8VveY/FMqILE4M5z/EStyVIwXnPyRMasstq+Y/JZHguiAK5j/WD3+HgTLlP4W/V1tONeQ/GP1wqa0l4z8LYTWWsBbiPwq4rU5KGOE/HIv5+7074D8bvgE9PxLfP2ks7RZ5wN0/oxYxiQbr2z9sbenq8e/YP4iCfH1rL9U/4mpsyKKd0T9kRQU1GeHMP91KZUCs7cU/\",\"dtype\":\"float64\",\"shape\":[75]},\"y\":{\"__ndarray__\":\"GhExyth1ND/Sv8nbtpRIP2vylNV0PVE/aTum7souWD/At0SJ8fVgPw3Iuahxymc/MSNhhJWvcD/bTfBN02d3P2zb5nxnaoA/CD5h5MAGhz8NmeH1TyaQP+zrCsc9p5Y/LbKd76fGnz/bLW5ISEmmPww9YvTcQq8/JV2OstnstT8Er5Y7M8G+P0c+r3jqkcU/5h99k6ZBzj88bCIzFzjVP4enV8oyxN0//yH99nXg5D8qOpLLf0jtP5kqGJXUifQ/c9cS8kHP/D+/DpwzojQEQIEmwoanVwxA4lgXt9HgE0BSSZ2AJuIbQAMJih9jjiNA5q4l5INuK0AwTKYKRj0zQNv5fmq8/DpAaCJseHrtQkB/+zpwzoxKQM3MzMzMeFJAZmZmZmZqWEAAAAAAAFxeQM3MzMzMJmJAmpmZmZkfZUBmZmZmZhhoQDMzMzMzEWtAAAAAAAAKbkBmZmZmZoFwQM3MzMzM/XFAMzMzMzN6c0CamZmZmfZ0QAAAAAAAc3ZAZmZmZmbvd0DNzMzMzGt5QDMzMzMz6HpAmpmZmZlkfEAAAAAAAOF9QGZmZmZmXX9AZmZmZuZsgECamZmZGSuBQM3MzMxM6YFAAAAAAICngkAzMzMzs2WDQGZmZmbmI4RAmpmZmRnihEDNzMzMTKCFQAAAAACAXoZAMzMzM7Mch0BmZmZm5tqHQJqZmZkZmYhAzczMzExXiUAAAAAAgBWKQDMzMzOz04pAZmZmZuaRi0CamZmZGVCMQM3MzMxMDo1AAAAAAIDMjUAzMzMzs4qOQGZmZmbmSI9A\",\"dtype\":\"float64\",\"shape\":[75]}},\"selected\":{\"id\":\"c6d03afb-1d0a-4335-a9ae-fc36909e595c\",\"type\":\"Selection\"},\"selection_policy\":{\"id\":\"c085f42f-ed01-4086-8c82-4fdaed9d1221\",\"type\":\"UnionRenderers\"}},\"id\":\"78055735-36ee-4b24-aacf-31fd90bf8566\",\"type\":\"ColumnDataSource\"},{\"attributes\":{\"fill_alpha\":{\"value\":0.1},\"fill_color\":{\"value\":\"#1f77b4\"},\"line_alpha\":{\"value\":0.1},\"line_color\":{\"value\":\"#1f77b4\"},\"x\":{\"field\":\"x\"},\"y\":{\"field\":\"y\"}},\"id\":\"929763b2-c880-41f2-995f-97b656f76fe1\",\"type\":\"Circle\"},{\"attributes\":{\"callback\":null,\"data\":{\"x\":{\"__ndarray__\":\"UItNWdcAtj90zF8CK2a4P0SqqcEyb70/kESD9621wT8OHPaA9tfEP2N/S/DmM8g/b8bjNTXHyz9CMTKDYHvPPy/p76naodE/BNvnhiJ00z/yJI2nADvVPyHRa4I4ztY/cTi/lBMa2D+WEgw55qbYP65EF9bUDdg/nDY+vw6t1j+SbyLrqevUPw80FQkt+NI/Q/uv/2gY0T9cNYM/l1bPP9UuBuQtGs4/omsyDwhSyj/qSwS8PYjDP7H2lw6jsbw/QwhzhOT6tT/C9vPSEj6xP/OrU0sVYas/PMK4q4Qdpz8GmNEew5KlP/Q9/66UeKQ/ErdEd3vMoj/0gvkaSBShP1aSoCQgKqE/xNp/G7/foj8NjNL2/z2kP+XuFIj6kKU//ndsdEnypj+s/LFFe7inPyBdtwa8BLA/dhBdo3a+sz/uJri0efK2P8I4+B2v67c/zZrMre0YuD/qL8jMqeW3P0BrcOAQ9rY/si3YY4NLuD+XyrLLUMO+P7u9AAwI2MM/UaU5sRbZzT8YBdQUBqPVP6ZeHlaMuNs/YpLCrbZA4D/8SroAyBfiP7cE5y+SruM/SQglSQEF5T9QvrnPtvLlP3Pe/2hdguY/bYGCNvvU5j99JycCQPLmP37m8fAHyOY/8hIjD7pG5j9eksPPx3XlPy3debnkZuQ/lDTwoDFC4z8WVBaLmiHiP0cPIBG5G+E/IQqZoxBC4D85bcGc+TTfP+0vr9CfAN4/lhONQLBE3D/x/yBQQVbZP6WyzVNildU/EW29Eyn80T/Mb7YOHonNP8piwJ2nb8Y/\",\"dtype\":\"float64\",\"shape\":[75]},\"y\":{\"__ndarray__\":\"GhExyth1ND/Sv8nbtpRIP2vylNV0PVE/aTum7souWD/At0SJ8fVgPw3Iuahxymc/MSNhhJWvcD/bTfBN02d3P2zb5nxnaoA/CD5h5MAGhz8NmeH1TyaQP+zrCsc9p5Y/LbKd76fGnz/bLW5ISEmmPww9YvTcQq8/JV2OstnstT8Er5Y7M8G+P0c+r3jqkcU/5h99k6ZBzj88bCIzFzjVP4enV8oyxN0//yH99nXg5D8qOpLLf0jtP5kqGJXUifQ/c9cS8kHP/D+/DpwzojQEQIEmwoanVwxA4lgXt9HgE0BSSZ2AJuIbQAMJih9jjiNA5q4l5INuK0AwTKYKRj0zQNv5fmq8/DpAaCJseHrtQkB/+zpwzoxKQM3MzMzMeFJAZmZmZmZqWEAAAAAAAFxeQM3MzMzMJmJAmpmZmZkfZUBmZmZmZhhoQDMzMzMzEWtAAAAAAAAKbkBmZmZmZoFwQM3MzMzM/XFAMzMzMzN6c0CamZmZmfZ0QAAAAAAAc3ZAZmZmZmbvd0DNzMzMzGt5QDMzMzMz6HpAmpmZmZlkfEAAAAAAAOF9QGZmZmZmXX9AZmZmZuZsgECamZmZGSuBQM3MzMxM6YFAAAAAAICngkAzMzMzs2WDQGZmZmbmI4RAmpmZmRnihEDNzMzMTKCFQAAAAACAXoZAMzMzM7Mch0BmZmZm5tqHQJqZmZkZmYhAzczMzExXiUAAAAAAgBWKQDMzMzOz04pAZmZmZuaRi0CamZmZGVCMQM3MzMxMDo1AAAAAAIDMjUAzMzMzs4qOQGZmZmbmSI9A\",\"dtype\":\"float64\",\"shape\":[75]}},\"selected\":{\"id\":\"d8c571ac-3074-4c78-92df-14c2526faf05\",\"type\":\"Selection\"},\"selection_policy\":{\"id\":\"c4d2e6d2-f1b7-472f-a659-93bc91ecc0ee\",\"type\":\"UnionRenderers\"}},\"id\":\"10079951-5d0c-462b-ad65-950bbd5a0472\",\"type\":\"ColumnDataSource\"},{\"attributes\":{\"line_color\":\"#4daf4a\",\"line_width\":1.5,\"x\":{\"field\":\"x\"},\"y\":{\"field\":\"y\"}},\"id\":\"32238d6b-8756-4991-9b5b-e9727aa282a4\",\"type\":\"Line\"},{\"attributes\":{\"line_color\":\"#4daf4a\",\"line_width\":1.5,\"x\":{\"field\":\"x\"},\"y\":{\"field\":\"y\"}},\"id\":\"4a11dc54-efcf-4cb1-81b1-65f1062474b3\",\"type\":\"Line\"},{\"attributes\":{\"fill_alpha\":{\"value\":0.7},\"fill_color\":{\"value\":\"#984ea3\"},\"line_alpha\":{\"value\":0.7},\"line_color\":{\"value\":\"#984ea3\"},\"x\":{\"field\":\"x\"},\"y\":{\"field\":\"y\"}},\"id\":\"2c85708c-412f-4c9a-97c4-861d9fa108c6\",\"type\":\"Square\"},{\"attributes\":{\"data_source\":{\"id\":\"10079951-5d0c-462b-ad65-950bbd5a0472\",\"type\":\"ColumnDataSource\"},\"glyph\":{\"id\":\"2c85708c-412f-4c9a-97c4-861d9fa108c6\",\"type\":\"Square\"},\"hover_glyph\":null,\"muted_glyph\":null,\"nonselection_glyph\":{\"id\":\"656a8b66-2a5b-42ac-bb9b-a69499f76374\",\"type\":\"Square\"},\"selection_glyph\":null,\"view\":{\"id\":\"b5ac7d2b-bb2d-481a-8eaa-4c0bf43b1969\",\"type\":\"CDSView\"}},\"id\":\"e606fe51-7664-443d-88bf-e68c02be07d6\",\"type\":\"GlyphRenderer\"},{\"attributes\":{\"source\":{\"id\":\"f6bdc26a-2e52-4123-8daa-5c7048d9be1e\",\"type\":\"ColumnDataSource\"}},\"id\":\"cb6a9a58-5bac-46c1-89a3-e19d00e4b6a6\",\"type\":\"CDSView\"},{\"attributes\":{\"callback\":null,\"data\":{\"x\":{\"__ndarray__\":\"UItNWdcAtj90zF8CK2a4P0SqqcEyb70/kESD9621wT8OHPaA9tfEP2N/S/DmM8g/b8bjNTXHyz9CMTKDYHvPPy/p76naodE/BNvnhiJ00z/yJI2nADvVPyHRa4I4ztY/cTi/lBMa2D+WEgw55qbYP65EF9bUDdg/nDY+vw6t1j+SbyLrqevUPw80FQkt+NI/Q/uv/2gY0T9cNYM/l1bPP9UuBuQtGs4/omsyDwhSyj/qSwS8PYjDP7H2lw6jsbw/QwhzhOT6tT/C9vPSEj6xP/OrU0sVYas/PMK4q4Qdpz8GmNEew5KlP/Q9/66UeKQ/ErdEd3vMoj/0gvkaSBShP1aSoCQgKqE/xNp/G7/foj8NjNL2/z2kP+XuFIj6kKU//ndsdEnypj+s/LFFe7inPyBdtwa8BLA/dhBdo3a+sz/uJri0efK2P8I4+B2v67c/zZrMre0YuD/qL8jMqeW3P0BrcOAQ9rY/si3YY4NLuD+XyrLLUMO+P7u9AAwI2MM/UaU5sRbZzT8YBdQUBqPVP6ZeHlaMuNs/YpLCrbZA4D/8SroAyBfiP7cE5y+SruM/SQglSQEF5T9QvrnPtvLlP3Pe/2hdguY/bYGCNvvU5j99JycCQPLmP37m8fAHyOY/8hIjD7pG5j9eksPPx3XlPy3debnkZuQ/lDTwoDFC4z8WVBaLmiHiP0cPIBG5G+E/IQqZoxBC4D85bcGc+TTfP+0vr9CfAN4/lhONQLBE3D/x/yBQQVbZP6WyzVNildU/EW29Eyn80T/Mb7YOHonNP8piwJ2nb8Y/\",\"dtype\":\"float64\",\"shape\":[75]},\"y\":{\"__ndarray__\":\"GhExyth1ND/Sv8nbtpRIP2vylNV0PVE/aTum7souWD/At0SJ8fVgPw3Iuahxymc/MSNhhJWvcD/bTfBN02d3P2zb5nxnaoA/CD5h5MAGhz8NmeH1TyaQP+zrCsc9p5Y/LbKd76fGnz/bLW5ISEmmPww9YvTcQq8/JV2OstnstT8Er5Y7M8G+P0c+r3jqkcU/5h99k6ZBzj88bCIzFzjVP4enV8oyxN0//yH99nXg5D8qOpLLf0jtP5kqGJXUifQ/c9cS8kHP/D+/DpwzojQEQIEmwoanVwxA4lgXt9HgE0BSSZ2AJuIbQAMJih9jjiNA5q4l5INuK0AwTKYKRj0zQNv5fmq8/DpAaCJseHrtQkB/+zpwzoxKQM3MzMzMeFJAZmZmZmZqWEAAAAAAAFxeQM3MzMzMJmJAmpmZmZkfZUBmZmZmZhhoQDMzMzMzEWtAAAAAAAAKbkBmZmZmZoFwQM3MzMzM/XFAMzMzMzN6c0CamZmZmfZ0QAAAAAAAc3ZAZmZmZmbvd0DNzMzMzGt5QDMzMzMz6HpAmpmZmZlkfEAAAAAAAOF9QGZmZmZmXX9AZmZmZuZsgECamZmZGSuBQM3MzMxM6YFAAAAAAICngkAzMzMzs2WDQGZmZmbmI4RAmpmZmRnihEDNzMzMTKCFQAAAAACAXoZAMzMzM7Mch0BmZmZm5tqHQJqZmZkZmYhAzczMzExXiUAAAAAAgBWKQDMzMzOz04pAZmZmZuaRi0CamZmZGVCMQM3MzMxMDo1AAAAAAIDMjUAzMzMzs4qOQGZmZmbmSI9A\",\"dtype\":\"float64\",\"shape\":[75]}},\"selected\":{\"id\":\"4c895463-d243-4e60-ab69-36fd5efc4301\",\"type\":\"Selection\"},\"selection_policy\":{\"id\":\"adc207c7-48bf-45dc-83b0-253e422c551a\",\"type\":\"UnionRenderers\"}},\"id\":\"564ac50e-47d7-4339-9399-1425f4745393\",\"type\":\"ColumnDataSource\"},{\"attributes\":{\"data_source\":{\"id\":\"daf0ae89-7e1e-4c74-ac3d-b0ee8bf831e8\",\"type\":\"ColumnDataSource\"},\"glyph\":{\"id\":\"c5f67592-d3fc-4e41-a399-b2c352a317ee\",\"type\":\"Circle\"},\"hover_glyph\":null,\"muted_glyph\":null,\"nonselection_glyph\":{\"id\":\"929763b2-c880-41f2-995f-97b656f76fe1\",\"type\":\"Circle\"},\"selection_glyph\":null,\"view\":{\"id\":\"5c76417f-d1e3-4bdf-989c-91fe71837d42\",\"type\":\"CDSView\"}},\"id\":\"bd25b3e3-9463-45c4-a227-5499bc3ae4ca\",\"type\":\"GlyphRenderer\"},{\"attributes\":{\"fill_alpha\":{\"value\":0.7},\"fill_color\":{\"value\":\"#4daf4a\"},\"line_alpha\":{\"value\":0.7},\"line_color\":{\"value\":\"#4daf4a\"},\"x\":{\"field\":\"x\"},\"y\":{\"field\":\"y\"}},\"id\":\"c5f67592-d3fc-4e41-a399-b2c352a317ee\",\"type\":\"Circle\"},{\"attributes\":{\"callback\":null,\"data\":{\"x\":{\"__ndarray__\":\"hGr/2iwkwD/y5aoe1VXBP/CjGvZ7YsQ/EHqRZLGoxz9F3Nb1jy7LP/7ReYXs2c4/CUHcD1dS0T/If/3nmzrTP5w484orF9U/Nt14mHLV1j/FfJKell3YP5qIChfql9k/JuSDns1q2j+0rYer2mDaP2pLXwDIJtk/FkjUNL0+1z/X8WeRUCfVP46RcEoOEtM/5J0JbiA00T9IGXEBaJTPPxAAXpfIIs4/OwHqWVLmyT9LZopzs8PCP9CWOX4k/Lo/SqNL/ZGptD9cW6iXQJOwP1LD1QbJMKs/DpKyA7acpz9C1R3I0GqmP2vlwNOtnKU/9bM1e9BOpD80tTx0GbWiPymk9er1hKI/e+bQFbH3oz+UuBKqaVGlPwRONQEmc6Y/KjRkyvQ8pz9LlxfDSVinP0Fnb3wvtq4/RHbbDtiYsj/NHBtMho21PxxUbuSyuLY/ZMg652pVtz8gChBMCLK3P4EDNPPfYbc/Q2DvQpYsuT+oKRPINrq/P2FdDTd9ScQ/neMvbwZmzj+DNvdfAATWP1Wi7C3lPNw/79xBDVuq4D/6CxxUC5riP+DXii5WEeQ/GBC1yNE35T/oPmtEURzmPxP39c8VveY/FMqILE4M5z/EStyVIwXnPyRMasstq+Y/JZHguiAK5j/WD3+HgTLlP4W/V1tONeQ/GP1wqa0l4z8LYTWWsBbiPwq4rU5KGOE/HIv5+7074D8bvgE9PxLfP2ks7RZ5wN0/oxYxiQbr2z9sbenq8e/YP4iCfH1rL9U/4mpsyKKd0T9kRQU1GeHMP91KZUCs7cU/\",\"dtype\":\"float64\",\"shape\":[75]},\"y\":{\"__ndarray__\":\"GhExyth1ND/Sv8nbtpRIP2vylNV0PVE/aTum7souWD/At0SJ8fVgPw3Iuahxymc/MSNhhJWvcD/bTfBN02d3P2zb5nxnaoA/CD5h5MAGhz8NmeH1TyaQP+zrCsc9p5Y/LbKd76fGnz/bLW5ISEmmPww9YvTcQq8/JV2OstnstT8Er5Y7M8G+P0c+r3jqkcU/5h99k6ZBzj88bCIzFzjVP4enV8oyxN0//yH99nXg5D8qOpLLf0jtP5kqGJXUifQ/c9cS8kHP/D+/DpwzojQEQIEmwoanVwxA4lgXt9HgE0BSSZ2AJuIbQAMJih9jjiNA5q4l5INuK0AwTKYKRj0zQNv5fmq8/DpAaCJseHrtQkB/+zpwzoxKQM3MzMzMeFJAZmZmZmZqWEAAAAAAAFxeQM3MzMzMJmJAmpmZmZkfZUBmZmZmZhhoQDMzMzMzEWtAAAAAAAAKbkBmZmZmZoFwQM3MzMzM/XFAMzMzMzN6c0CamZmZmfZ0QAAAAAAAc3ZAZmZmZmbvd0DNzMzMzGt5QDMzMzMz6HpAmpmZmZlkfEAAAAAAAOF9QGZmZmZmXX9AZmZmZuZsgECamZmZGSuBQM3MzMxM6YFAAAAAAICngkAzMzMzs2WDQGZmZmbmI4RAmpmZmRnihEDNzMzMTKCFQAAAAACAXoZAMzMzM7Mch0BmZmZm5tqHQJqZmZkZmYhAzczMzExXiUAAAAAAgBWKQDMzMzOz04pAZmZmZuaRi0CamZmZGVCMQM3MzMxMDo1AAAAAAIDMjUAzMzMzs4qOQGZmZmbmSI9A\",\"dtype\":\"float64\",\"shape\":[75]}},\"selected\":{\"id\":\"6347a835-af5f-4739-8861-aebc17936595\",\"type\":\"Selection\"},\"selection_policy\":{\"id\":\"6831793d-e710-4ff6-ac37-85d00aa44560\",\"type\":\"UnionRenderers\"}},\"id\":\"f21e154d-bc5c-467b-aefc-c2ab63ed52c2\",\"type\":\"ColumnDataSource\"},{\"attributes\":{\"line_alpha\":0.1,\"line_color\":\"#1f77b4\",\"line_dash\":[6],\"line_width\":5,\"x\":{\"field\":\"x\"},\"y\":{\"field\":\"y\"}},\"id\":\"d05a393b-3b90-48ff-a13f-754a0149f30e\",\"type\":\"Line\"},{\"attributes\":{\"line_alpha\":0.1,\"line_color\":\"#1f77b4\",\"line_width\":1.5,\"x\":{\"field\":\"x\"},\"y\":{\"field\":\"y\"}},\"id\":\"45ed92c7-bdba-4fb1-8687-70eba959a34f\",\"type\":\"Line\"},{\"attributes\":{\"data_source\":{\"id\":\"f21e154d-bc5c-467b-aefc-c2ab63ed52c2\",\"type\":\"ColumnDataSource\"},\"glyph\":{\"id\":\"32238d6b-8756-4991-9b5b-e9727aa282a4\",\"type\":\"Line\"},\"hover_glyph\":null,\"muted_glyph\":null,\"nonselection_glyph\":{\"id\":\"45ed92c7-bdba-4fb1-8687-70eba959a34f\",\"type\":\"Line\"},\"selection_glyph\":null,\"view\":{\"id\":\"9a9eaf61-0bd4-43e6-a892-149abd2b142f\",\"type\":\"CDSView\"}},\"id\":\"83f25a48-b75a-4c22-8aae-2abe24a5a668\",\"type\":\"GlyphRenderer\"},{\"attributes\":{\"source\":{\"id\":\"f21e154d-bc5c-467b-aefc-c2ab63ed52c2\",\"type\":\"ColumnDataSource\"}},\"id\":\"9a9eaf61-0bd4-43e6-a892-149abd2b142f\",\"type\":\"CDSView\"},{\"attributes\":{\"line_alpha\":0.6,\"line_color\":\"#e41a1c\",\"line_dash\":[6],\"line_width\":5,\"x\":{\"field\":\"x\"},\"y\":{\"field\":\"y\"}},\"id\":\"a021fee8-abed-4128-8e08-bd8e73c8d6ec\",\"type\":\"Line\"},{\"attributes\":{\"fill_alpha\":{\"value\":0.7},\"fill_color\":{\"value\":\"#984ea3\"},\"line_alpha\":{\"value\":0.7},\"line_color\":{\"value\":\"#984ea3\"},\"x\":{\"field\":\"x\"},\"y\":{\"field\":\"y\"}},\"id\":\"cec367b4-ec98-40d8-81f7-d21eabc09527\",\"type\":\"Square\"},{\"attributes\":{\"data_source\":{\"id\":\"ce1e4f2d-ebe0-40f3-bc4f-cb650a774fc4\",\"type\":\"ColumnDataSource\"},\"glyph\":{\"id\":\"1780802a-9658-4d94-a73f-4847b77b1754\",\"type\":\"Line\"},\"hover_glyph\":null,\"muted_glyph\":null,\"nonselection_glyph\":{\"id\":\"de214fee-ed42-4d67-b490-9109befa2701\",\"type\":\"Line\"},\"selection_glyph\":null,\"view\":{\"id\":\"20410039-4fd3-46f1-b415-a2ee21ec4ef7\",\"type\":\"CDSView\"}},\"id\":\"f0ab11a0-25a1-4274-bee5-186deafe44c6\",\"type\":\"GlyphRenderer\"},{\"attributes\":{\"line_alpha\":0.6,\"line_color\":\"#984ea3\",\"line_width\":3,\"x\":{\"field\":\"x\"},\"y\":{\"field\":\"y\"}},\"id\":\"1780802a-9658-4d94-a73f-4847b77b1754\",\"type\":\"Line\"},{\"attributes\":{\"source\":{\"id\":\"ce1e4f2d-ebe0-40f3-bc4f-cb650a774fc4\",\"type\":\"ColumnDataSource\"}},\"id\":\"20410039-4fd3-46f1-b415-a2ee21ec4ef7\",\"type\":\"CDSView\"},{\"attributes\":{\"children\":[{\"id\":\"5b5ffb40-6518-4593-822a-490d62ea2600\",\"subtype\":\"Figure\",\"type\":\"Plot\"},{\"id\":\"8bb81fe6-efb5-4151-9652-85bc69c94e12\",\"subtype\":\"Figure\",\"type\":\"Plot\"}]},\"id\":\"d9dca570-5d1e-479e-8394-a5bb782dc132\",\"type\":\"Row\"},{\"attributes\":{\"source\":{\"id\":\"b3a1d416-679c-4d5e-bf85-cc7569167234\",\"type\":\"ColumnDataSource\"}},\"id\":\"a85b169a-0c21-4366-b791-4a673f13931a\",\"type\":\"CDSView\"},{\"attributes\":{\"label\":{\"value\":\"CLIRAD `coolr_bands`\"},\"renderers\":[{\"id\":\"d36e836e-1cb0-4670-8426-d0c76a08c7b2\",\"type\":\"GlyphRenderer\"}]},\"id\":\"bf4e06c2-bd50-442c-a72f-dec34deee244\",\"type\":\"LegendItem\"},{\"attributes\":{},\"id\":\"f5004f1a-6fcc-4e34-b83d-5c0c022491d6\",\"type\":\"BasicTickFormatter\"},{\"attributes\":{\"label\":{\"value\":\"CRD\"},\"renderers\":[{\"id\":\"bd25b3e3-9463-45c4-a227-5499bc3ae4ca\",\"type\":\"GlyphRenderer\"},{\"id\":\"83f25a48-b75a-4c22-8aae-2abe24a5a668\",\"type\":\"GlyphRenderer\"}]},\"id\":\"89a9d242-d591-4429-9e0c-d3762086a883\",\"type\":\"LegendItem\"},{\"attributes\":{},\"id\":\"d8c571ac-3074-4c78-92df-14c2526faf05\",\"type\":\"Selection\"},{\"attributes\":{\"label\":{\"value\":\"WGT igg=10 wgt_flux=2\"},\"renderers\":[{\"id\":\"9ba80232-ee35-461b-bbc0-c84dacc3b9db\",\"type\":\"GlyphRenderer\"},{\"id\":\"f0ab11a0-25a1-4274-bee5-186deafe44c6\",\"type\":\"GlyphRenderer\"}]},\"id\":\"720f12eb-28fb-46fc-b9e9-c7a77e2fbc19\",\"type\":\"LegendItem\"},{\"attributes\":{},\"id\":\"569d5de2-cbc5-498a-a9e9-ae8e267f30ac\",\"type\":\"Selection\"},{\"attributes\":{},\"id\":\"645edbf2-49f7-4df0-bd5b-73df6f0f89af\",\"type\":\"BasicTickFormatter\"},{\"attributes\":{\"line_alpha\":0.1,\"line_color\":\"#1f77b4\",\"line_width\":1.5,\"x\":{\"field\":\"x\"},\"y\":{\"field\":\"y\"}},\"id\":\"9b1f33b3-4a61-4d71-b906-4a9e947544ad\",\"type\":\"Line\"},{\"attributes\":{\"ticker\":null},\"id\":\"f4fe69de-74c8-4211-8a7a-cd667c8a6956\",\"type\":\"LogTickFormatter\"},{\"attributes\":{},\"id\":\"fbce4f36-03bc-4493-813a-c8451f677ec8\",\"type\":\"Selection\"},{\"attributes\":{\"source\":{\"id\":\"10079951-5d0c-462b-ad65-950bbd5a0472\",\"type\":\"ColumnDataSource\"}},\"id\":\"b5ac7d2b-bb2d-481a-8eaa-4c0bf43b1969\",\"type\":\"CDSView\"},{\"attributes\":{},\"id\":\"d681dc5f-86a6-42d0-9461-21669f34f8d2\",\"type\":\"UnionRenderers\"},{\"attributes\":{},\"id\":\"c4d2e6d2-f1b7-472f-a659-93bc91ecc0ee\",\"type\":\"UnionRenderers\"},{\"attributes\":{},\"id\":\"9d6fdf58-2c42-454f-a22c-cd96c7d897c4\",\"type\":\"UnionRenderers\"},{\"attributes\":{},\"id\":\"c085f42f-ed01-4086-8c82-4fdaed9d1221\",\"type\":\"UnionRenderers\"},{\"attributes\":{},\"id\":\"c6d03afb-1d0a-4335-a9ae-fc36909e595c\",\"type\":\"Selection\"},{\"attributes\":{},\"id\":\"9d9a800e-70b7-448b-a2a6-e89d8f1932db\",\"type\":\"Selection\"},{\"attributes\":{\"bottom_units\":\"screen\",\"fill_alpha\":{\"value\":0.5},\"fill_color\":{\"value\":\"lightgrey\"},\"left_units\":\"screen\",\"level\":\"overlay\",\"line_alpha\":{\"value\":1.0},\"line_color\":{\"value\":\"black\"},\"line_dash\":[4,4],\"line_width\":{\"value\":2},\"plot\":null,\"render_mode\":\"css\",\"right_units\":\"screen\",\"top_units\":\"screen\"},\"id\":\"f5b53a9c-408f-4937-896a-a6f6b2e494c4\",\"type\":\"BoxAnnotation\"},{\"attributes\":{},\"id\":\"cd220065-b933-423a-9b0f-d86a8f6c6e6f\",\"type\":\"BasicTickFormatter\"},{\"attributes\":{},\"id\":\"21a821bf-9120-4fd7-a8aa-cd78c2d6f87e\",\"type\":\"Selection\"},{\"attributes\":{\"fill_alpha\":{\"value\":0.1},\"fill_color\":{\"value\":\"#1f77b4\"},\"line_alpha\":{\"value\":0.1},\"line_color\":{\"value\":\"#1f77b4\"},\"x\":{\"field\":\"x\"},\"y\":{\"field\":\"y\"}},\"id\":\"656a8b66-2a5b-42ac-bb9b-a69499f76374\",\"type\":\"Square\"},{\"attributes\":{},\"id\":\"92c4779f-b742-4e12-9b68-1de96edc2c49\",\"type\":\"UnionRenderers\"},{\"attributes\":{\"source\":{\"id\":\"78055735-36ee-4b24-aacf-31fd90bf8566\",\"type\":\"ColumnDataSource\"}},\"id\":\"80d8f660-783e-4d32-be29-c463811361ee\",\"type\":\"CDSView\"},{\"attributes\":{\"callback\":null,\"end\":0.01,\"start\":1020},\"id\":\"c18c8737-3a84-4cdb-8434-35f4c4f168b9\",\"type\":\"Range1d\"}],\"root_ids\":[\"9afd9532-af38-4f9a-afb5-84d52028abaa\"]},\"title\":\"Bokeh Application\",\"version\":\"0.12.16\"}};\n",
       "  var render_items = [{\"docid\":\"3180b40b-f71c-4797-98f5-5af99fa5ba42\",\"elementid\":\"b8f7f67c-b3cf-47cd-9964-0af85c58d217\",\"modelid\":\"9afd9532-af38-4f9a-afb5-84d52028abaa\"}];\n",
       "  root.Bokeh.embed.embed_items_notebook(docs_json, render_items);\n",
       "\n",
       "  }\n",
       "  if (root.Bokeh !== undefined) {\n",
       "    embed_document(root);\n",
       "  } else {\n",
       "    var attempts = 0;\n",
       "    var timer = setInterval(function(root) {\n",
       "      if (root.Bokeh !== undefined) {\n",
       "        embed_document(root);\n",
       "        clearInterval(timer);\n",
       "      }\n",
       "      attempts++;\n",
       "      if (attempts > 100) {\n",
       "        console.log(\"Bokeh: ERROR: Unable to run BokehJS code because BokehJS library is missing\")\n",
       "        clearInterval(timer);\n",
       "      }\n",
       "    }, 10, root)\n",
       "  }\n",
       "})(window);"
      ],
      "application/vnd.bokehjs_exec.v0+json": ""
     },
     "metadata": {
      "application/vnd.bokehjs_exec.v0+json": {
       "id": "9afd9532-af38-4f9a-afb5-84d52028abaa"
      }
     },
     "output_type": "display_data"
    },
    {
     "name": "stdout",
     "output_type": "stream",
     "text": [
      "FIGURE. Cooling rate profiles.\n"
     ]
    },
    {
     "data": {
      "text/html": [
       "<a id=\"Flux_Comparison\"></a>"
      ],
      "text/plain": [
       "<IPython.core.display.HTML object>"
      ]
     },
     "metadata": {},
     "output_type": "display_data"
    },
    {
     "data": {
      "text/markdown": [
       "# Flux Comparison"
      ],
      "text/plain": [
       "<IPython.core.display.Markdown object>"
      ]
     },
     "metadata": {},
     "output_type": "display_data"
    },
    {
     "data": {
      "text/html": [
       "<div>\n",
       "<style scoped>\n",
       "    .dataframe tbody tr th:only-of-type {\n",
       "        vertical-align: middle;\n",
       "    }\n",
       "\n",
       "    .dataframe tbody tr th {\n",
       "        vertical-align: top;\n",
       "    }\n",
       "\n",
       "    .dataframe thead th {\n",
       "        text-align: right;\n",
       "    }\n",
       "</style>\n",
       "<table border=\"1\" class=\"dataframe\">\n",
       "  <thead>\n",
       "    <tr style=\"text-align: right;\">\n",
       "      <th></th>\n",
       "      <th></th>\n",
       "      <th>flug</th>\n",
       "      <th>fldg</th>\n",
       "      <th>fnetg</th>\n",
       "    </tr>\n",
       "    <tr>\n",
       "      <th>pressure</th>\n",
       "      <th>level</th>\n",
       "      <th></th>\n",
       "      <th></th>\n",
       "      <th></th>\n",
       "    </tr>\n",
       "  </thead>\n",
       "  <tbody>\n",
       "    <tr>\n",
       "      <th>0.0000</th>\n",
       "      <th>1</th>\n",
       "      <td>-51.937341</td>\n",
       "      <td>0.000000</td>\n",
       "      <td>-51.937341</td>\n",
       "    </tr>\n",
       "    <tr>\n",
       "      <th>1.0685</th>\n",
       "      <th>24</th>\n",
       "      <td>-51.933296</td>\n",
       "      <td>0.024665</td>\n",
       "      <td>-51.908631</td>\n",
       "    </tr>\n",
       "    <tr>\n",
       "      <th>1013.0000</th>\n",
       "      <th>76</th>\n",
       "      <td>-58.183530</td>\n",
       "      <td>48.895848</td>\n",
       "      <td>-9.287681</td>\n",
       "    </tr>\n",
       "  </tbody>\n",
       "</table>\n",
       "</div>"
      ],
      "text/plain": [
       "                      flug       fldg      fnetg\n",
       "pressure  level                                 \n",
       "0.0000    1     -51.937341   0.000000 -51.937341\n",
       "1.0685    24    -51.933296   0.024665 -51.908631\n",
       "1013.0000 76    -58.183530  48.895848  -9.287681"
      ]
     },
     "metadata": {},
     "output_type": "display_data"
    },
    {
     "name": "stdout",
     "output_type": "stream",
     "text": [
      "Table. Fluxes. CRD\n"
     ]
    },
    {
     "data": {
      "text/html": [
       "<div>\n",
       "<style scoped>\n",
       "    .dataframe tbody tr th:only-of-type {\n",
       "        vertical-align: middle;\n",
       "    }\n",
       "\n",
       "    .dataframe tbody tr th {\n",
       "        vertical-align: top;\n",
       "    }\n",
       "\n",
       "    .dataframe thead th {\n",
       "        text-align: right;\n",
       "    }\n",
       "</style>\n",
       "<table border=\"1\" class=\"dataframe\">\n",
       "  <thead>\n",
       "    <tr style=\"text-align: right;\">\n",
       "      <th></th>\n",
       "      <th></th>\n",
       "      <th>flug</th>\n",
       "      <th>fldg</th>\n",
       "      <th>fnetg</th>\n",
       "    </tr>\n",
       "    <tr>\n",
       "      <th>pressure</th>\n",
       "      <th>level</th>\n",
       "      <th></th>\n",
       "      <th></th>\n",
       "      <th></th>\n",
       "    </tr>\n",
       "  </thead>\n",
       "  <tbody>\n",
       "    <tr>\n",
       "      <th>0.0000</th>\n",
       "      <th>1</th>\n",
       "      <td>-51.584891</td>\n",
       "      <td>0.000000</td>\n",
       "      <td>-51.584891</td>\n",
       "    </tr>\n",
       "    <tr>\n",
       "      <th>1.0685</th>\n",
       "      <th>24</th>\n",
       "      <td>-51.580545</td>\n",
       "      <td>0.024281</td>\n",
       "      <td>-51.556264</td>\n",
       "    </tr>\n",
       "    <tr>\n",
       "      <th>1013.0000</th>\n",
       "      <th>76</th>\n",
       "      <td>-58.183529</td>\n",
       "      <td>49.206367</td>\n",
       "      <td>-8.977162</td>\n",
       "    </tr>\n",
       "  </tbody>\n",
       "</table>\n",
       "</div>"
      ],
      "text/plain": [
       "                      flug       fldg      fnetg\n",
       "pressure  level                                 \n",
       "0.0000    1     -51.584891   0.000000 -51.584891\n",
       "1.0685    24    -51.580545   0.024281 -51.556264\n",
       "1013.0000 76    -58.183529  49.206367  -8.977162"
      ]
     },
     "metadata": {},
     "output_type": "display_data"
    },
    {
     "name": "stdout",
     "output_type": "stream",
     "text": [
      "Table. Fluxes. WGT igg=10 wgt_flux=1\n"
     ]
    },
    {
     "data": {
      "text/html": [
       "<div>\n",
       "<style scoped>\n",
       "    .dataframe tbody tr th:only-of-type {\n",
       "        vertical-align: middle;\n",
       "    }\n",
       "\n",
       "    .dataframe tbody tr th {\n",
       "        vertical-align: top;\n",
       "    }\n",
       "\n",
       "    .dataframe thead th {\n",
       "        text-align: right;\n",
       "    }\n",
       "</style>\n",
       "<table border=\"1\" class=\"dataframe\">\n",
       "  <thead>\n",
       "    <tr style=\"text-align: right;\">\n",
       "      <th></th>\n",
       "      <th></th>\n",
       "      <th>flug</th>\n",
       "      <th>fldg</th>\n",
       "      <th>fnetg</th>\n",
       "    </tr>\n",
       "    <tr>\n",
       "      <th>pressure</th>\n",
       "      <th>level</th>\n",
       "      <th></th>\n",
       "      <th></th>\n",
       "      <th></th>\n",
       "    </tr>\n",
       "  </thead>\n",
       "  <tbody>\n",
       "    <tr>\n",
       "      <th>1.000000e-08</th>\n",
       "      <th>1</th>\n",
       "      <td>-51.863529</td>\n",
       "      <td>0.000003</td>\n",
       "      <td>-51.863527</td>\n",
       "    </tr>\n",
       "    <tr>\n",
       "      <th>1.068500e+00</th>\n",
       "      <th>24</th>\n",
       "      <td>-51.859104</td>\n",
       "      <td>0.024091</td>\n",
       "      <td>-51.835013</td>\n",
       "    </tr>\n",
       "    <tr>\n",
       "      <th>1.013000e+03</th>\n",
       "      <th>76</th>\n",
       "      <td>-58.183530</td>\n",
       "      <td>48.763727</td>\n",
       "      <td>-9.419803</td>\n",
       "    </tr>\n",
       "  </tbody>\n",
       "</table>\n",
       "</div>"
      ],
      "text/plain": [
       "                         flug       fldg      fnetg\n",
       "pressure     level                                 \n",
       "1.000000e-08 1     -51.863529   0.000003 -51.863527\n",
       "1.068500e+00 24    -51.859104   0.024091 -51.835013\n",
       "1.013000e+03 76    -58.183530  48.763727  -9.419803"
      ]
     },
     "metadata": {},
     "output_type": "display_data"
    },
    {
     "name": "stdout",
     "output_type": "stream",
     "text": [
      "Table. Fluxes. CLIRAD\n"
     ]
    },
    {
     "data": {
      "text/html": [
       "<div>\n",
       "<style scoped>\n",
       "    .dataframe tbody tr th:only-of-type {\n",
       "        vertical-align: middle;\n",
       "    }\n",
       "\n",
       "    .dataframe tbody tr th {\n",
       "        vertical-align: top;\n",
       "    }\n",
       "\n",
       "    .dataframe thead th {\n",
       "        text-align: right;\n",
       "    }\n",
       "</style>\n",
       "<table border=\"1\" class=\"dataframe\">\n",
       "  <thead>\n",
       "    <tr style=\"text-align: right;\">\n",
       "      <th></th>\n",
       "      <th></th>\n",
       "      <th>flug</th>\n",
       "      <th>fldg</th>\n",
       "      <th>fnetg</th>\n",
       "    </tr>\n",
       "    <tr>\n",
       "      <th>pressure</th>\n",
       "      <th>level</th>\n",
       "      <th></th>\n",
       "      <th></th>\n",
       "      <th></th>\n",
       "    </tr>\n",
       "  </thead>\n",
       "  <tbody>\n",
       "    <tr>\n",
       "      <th>0.0000</th>\n",
       "      <th>1</th>\n",
       "      <td>3.524501e-01</td>\n",
       "      <td>0.000000</td>\n",
       "      <td>0.352450</td>\n",
       "    </tr>\n",
       "    <tr>\n",
       "      <th>1.0685</th>\n",
       "      <th>24</th>\n",
       "      <td>3.527509e-01</td>\n",
       "      <td>-0.000385</td>\n",
       "      <td>0.352367</td>\n",
       "    </tr>\n",
       "    <tr>\n",
       "      <th>1013.0000</th>\n",
       "      <th>76</th>\n",
       "      <td>7.317000e-07</td>\n",
       "      <td>0.310519</td>\n",
       "      <td>0.310519</td>\n",
       "    </tr>\n",
       "  </tbody>\n",
       "</table>\n",
       "</div>"
      ],
      "text/plain": [
       "                         flug      fldg     fnetg\n",
       "pressure  level                                  \n",
       "0.0000    1      3.524501e-01  0.000000  0.352450\n",
       "1.0685    24     3.527509e-01 -0.000385  0.352367\n",
       "1013.0000 76     7.317000e-07  0.310519  0.310519"
      ]
     },
     "metadata": {},
     "output_type": "display_data"
    },
    {
     "name": "stdout",
     "output_type": "stream",
     "text": [
      "Table. Fluxes. (WGT igg=10 wgt_flux=1) - (CRD)\n"
     ]
    },
    {
     "data": {
      "text/html": [
       "<div>\n",
       "<style scoped>\n",
       "    .dataframe tbody tr th:only-of-type {\n",
       "        vertical-align: middle;\n",
       "    }\n",
       "\n",
       "    .dataframe tbody tr th {\n",
       "        vertical-align: top;\n",
       "    }\n",
       "\n",
       "    .dataframe thead th {\n",
       "        text-align: right;\n",
       "    }\n",
       "</style>\n",
       "<table border=\"1\" class=\"dataframe\">\n",
       "  <thead>\n",
       "    <tr style=\"text-align: right;\">\n",
       "      <th></th>\n",
       "      <th></th>\n",
       "      <th>flug</th>\n",
       "      <th>fldg</th>\n",
       "      <th>fnetg</th>\n",
       "    </tr>\n",
       "    <tr>\n",
       "      <th>pressure</th>\n",
       "      <th>level</th>\n",
       "      <th></th>\n",
       "      <th></th>\n",
       "      <th></th>\n",
       "    </tr>\n",
       "  </thead>\n",
       "  <tbody>\n",
       "    <tr>\n",
       "      <th>0.0000</th>\n",
       "      <th>1</th>\n",
       "      <td>0.073812</td>\n",
       "      <td>0.000003</td>\n",
       "      <td>0.073814</td>\n",
       "    </tr>\n",
       "    <tr>\n",
       "      <th>1.0685</th>\n",
       "      <th>24</th>\n",
       "      <td>0.074192</td>\n",
       "      <td>-0.000574</td>\n",
       "      <td>0.073618</td>\n",
       "    </tr>\n",
       "    <tr>\n",
       "      <th>1013.0000</th>\n",
       "      <th>76</th>\n",
       "      <td>0.000000</td>\n",
       "      <td>-0.132121</td>\n",
       "      <td>-0.132121</td>\n",
       "    </tr>\n",
       "  </tbody>\n",
       "</table>\n",
       "</div>"
      ],
      "text/plain": [
       "                     flug      fldg     fnetg\n",
       "pressure  level                              \n",
       "0.0000    1      0.073812  0.000003  0.073814\n",
       "1.0685    24     0.074192 -0.000574  0.073618\n",
       "1013.0000 76     0.000000 -0.132121 -0.132121"
      ]
     },
     "metadata": {},
     "output_type": "display_data"
    },
    {
     "name": "stdout",
     "output_type": "stream",
     "text": [
      "Table. Fluxes. (CLIRAD) - (CRD)\n"
     ]
    },
    {
     "data": {
      "text/html": [
       "<a id=\"Best-fit_Parameters\"></a>"
      ],
      "text/plain": [
       "<IPython.core.display.HTML object>"
      ]
     },
     "metadata": {},
     "output_type": "display_data"
    },
    {
     "data": {
      "text/markdown": [
       "# Best-fit Parameters"
      ],
      "text/plain": [
       "<IPython.core.display.Markdown object>"
      ]
     },
     "metadata": {},
     "output_type": "display_data"
    },
    {
     "name": "stdout",
     "output_type": "stream",
     "text": [
      "Best-fit values for each (gas, band)\n",
      "------------------------------------\n",
      "o h2o band2\n",
      "  atmpro = mls\n",
      "  band = 2\n",
      "  commitnumber = a06b618\n",
      "  conc = None\n",
      "  dv = 0.001\n",
      "  klin = 0\n",
      "  molecule = h2o\n",
      "  ng_adju = [-2, -2, 0]\n",
      "  ng_refs = [2, 3, 6]\n",
      "  nv = 1000\n",
      "  option_compute_btable = 0\n",
      "  option_compute_ktable = 1\n",
      "  option_wgt_flux = 1\n",
      "  option_wgt_k = 1\n",
      "  ref_pts = [(1, 250), (10, 250), (500, 250)]\n",
      "  tsfc = 294\n",
      "  vmax = 540\n",
      "  vmin = 340\n",
      "  w_diffuse = [(1.66, 1.66), (1.8, 1.8, 1.8), (1.8, 1.66, 1.45, 1.45, 1.45, 1.45)]\n",
      "  wgt = [(0.6, 0.6), (0.6, 0.6, 0.6), (0.6, 0.6, 0.6, 0.6, 0.6, 0.6)]\n"
     ]
    }
   ],
   "source": [
    "script()"
   ]
  },
  {
   "cell_type": "code",
   "execution_count": 13,
   "metadata": {
    "collapsed": true
   },
   "outputs": [
    {
     "data": {
      "text/html": [
       "<script>\n",
       "code_show=true; \n",
       "function code_toggle() {\n",
       " if (code_show){\n",
       " $('div.input').hide();\n",
       " } else {\n",
       " $('div.input').show();\n",
       " }\n",
       " code_show = !code_show\n",
       "} \n",
       "$( document ).ready(code_toggle);\n",
       "</script>\n",
       "<form action=\"javascript:code_toggle()\"><input type=\"submit\" value=\"Click here to toggle on/off the raw code.\"></form>"
      ],
      "text/plain": [
       "<IPython.core.display.HTML object>"
      ]
     },
     "execution_count": 13,
     "metadata": {},
     "output_type": "execute_result"
    }
   ],
   "source": [
    "display.HTML('''<script>\n",
    "code_show=true; \n",
    "function code_toggle() {\n",
    " if (code_show){\n",
    " $('div.input').hide();\n",
    " } else {\n",
    " $('div.input').show();\n",
    " }\n",
    " code_show = !code_show\n",
    "} \n",
    "$( document ).ready(code_toggle);\n",
    "</script>\n",
    "<form action=\"javascript:code_toggle()\"><input type=\"submit\" value=\"Click here to toggle on/off the raw code.\"></form>''')"
   ]
  }
 ],
 "metadata": {
  "kernelspec": {
   "display_name": "Python 3",
   "language": "python",
   "name": "python3"
  },
  "language_info": {
   "codemirror_mode": {
    "name": "ipython",
    "version": 3
   },
   "file_extension": ".py",
   "mimetype": "text/x-python",
   "name": "python",
   "nbconvert_exporter": "python",
   "pygments_lexer": "ipython3",
   "version": "3.6.1"
  }
 },
 "nbformat": 4,
 "nbformat_minor": 2
}
