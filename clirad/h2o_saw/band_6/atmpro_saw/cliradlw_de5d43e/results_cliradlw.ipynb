{
 "cells": [
  {
   "cell_type": "code",
   "execution_count": 1,
   "metadata": {
    "collapsed": true
   },
   "outputs": [],
   "source": [
    "%matplotlib inline\n",
    "import os\n",
    "import re\n",
    "import io\n",
    "import itertools\n",
    "import pprint\n",
    "\n",
    "from bokeh.io import output_notebook, show\n",
    "from bokeh.layouts import gridplot\n",
    "from bokeh.plotting import figure\n",
    "from bokeh.models import Range1d, Legend\n",
    "from bokeh.palettes import all_palettes\n",
    "\n",
    "import matplotlib\n",
    "import matplotlib.pyplot as plt\n",
    "import numpy as np\n",
    "import pandas as pd\n",
    "import xarray as xr\n",
    "\n",
    "import climatools.lblnew.bestfit_params as bestfits\n",
    "from climatools.lblnew import setup_bestfit, setup_overlap\n",
    "import climatools.lblnew.pipeline as pipe_lblnew\n",
    "import climatools.cliradlw.setup as setup_cliradlw\n",
    "import climatools.cliradlw.pipeline as pipe_cliradlw\n",
    "\n",
    "import climatools.html.html as climahtml\n",
    "from climatools.lblnew.dataio import *\n",
    "from climatools.plot.plot import *\n",
    "\n",
    "\n",
    "import IPython.display as display"
   ]
  },
  {
   "cell_type": "code",
   "execution_count": 2,
   "metadata": {
    "collapsed": true
   },
   "outputs": [],
   "source": [
    "%run param.py"
   ]
  },
  {
   "cell_type": "code",
   "execution_count": 3,
   "metadata": {
    "collapsed": true
   },
   "outputs": [],
   "source": [
    "def load_output_file(path_csv):\n",
    "    '''\n",
    "    Load lblnew output .csv file to xarray.Dataset\n",
    "    \n",
    "    Parameters\n",
    "    ----------\n",
    "    path_csv: str\n",
    "              Path to the .csv file to be loaded.\n",
    "    ds: xarray.Dataset\n",
    "        Data in the input file in the form of an xarray.Dataset.\n",
    "    '''\n",
    "    toindex = ['band', 'pressure', 'igg', 'g']    \n",
    "    df = pd.read_csv(path_csv, sep=r'\\s+')\n",
    "    df = df.set_index([i for i in toindex if i in df.columns])\n",
    "    df = df.rename(columns={'sfu': 'flug',\n",
    "                            'sfd': 'fldg',\n",
    "                            'fnet': 'fnetg',\n",
    "                            'coolr': 'coolrg'})\n",
    "    ds = xr.Dataset.from_dataframe(df)\n",
    "\n",
    "    for l in ('level', 'layer'):\n",
    "        if l in ds.data_vars:\n",
    "            if len(ds[l].dims) > 1:\n",
    "                surface = {d: 0 for d in ds.dims if d != 'pressure'}\n",
    "                coord_level = ds[l][surface]\n",
    "                ds.coords[l] = ('pressure', coord_level)\n",
    "            else:\n",
    "                ds.coords[l] = ('pressure', ds[l])\n",
    "    \n",
    "    return ds"
   ]
  },
  {
   "cell_type": "code",
   "execution_count": 4,
   "metadata": {
    "collapsed": true
   },
   "outputs": [],
   "source": [
    "def lblnew_setup(param=None):\n",
    "    if 'ng_refs' in param:\n",
    "        return {'setup': setup_bestfit,\n",
    "                'fname_flux_crd': 'output_flux.dat',\n",
    "                'fname_cool_crd': 'output_coolr.dat',\n",
    "                'fname_flux_wgt': 'output_wfluxg.dat',\n",
    "                'fname_cool_wgt': 'output_wcoolrg.dat'}\n",
    "    else:\n",
    "        return {'setup': setup_overlap,\n",
    "                'fname_flux_crd': 'output_flux.dat',\n",
    "                'fname_cool_crd': 'output_coolr.dat',\n",
    "                'fname_flux_wgt': 'output_wflux.dat',\n",
    "                'fname_cool_wgt': 'output_wcoolr.dat'}\n",
    "\n",
    "    \n",
    "def load_lblnew_data(param):\n",
    "    \n",
    "    fname_dsname = [('fname_flux_crd', 'ds_flux_crd'),\n",
    "                    ('fname_cool_crd', 'ds_cool_crd'),\n",
    "                    ('fname_flux_wgt', 'ds_flux_wgt'),\n",
    "                    ('fname_cool_wgt', 'ds_cool_wgt')]\n",
    "    \n",
    "    d = lblnew_setup(param)\n",
    "    dir_fortran = pipe_lblnew.get_dir_case(param, setup=d['setup'])\n",
    "    \n",
    "    data_dict = {}\n",
    "    for fname, dsname in fname_dsname:\n",
    "        fpath = os.path.join(dir_fortran, d[fname])\n",
    "        data_dict[dsname] = load_output_file(fpath)\n",
    "    return data_dict\n",
    "    \n",
    "\n",
    "    \n",
    "    "
   ]
  },
  {
   "cell_type": "code",
   "execution_count": 5,
   "metadata": {
    "collapsed": true
   },
   "outputs": [],
   "source": [
    "d = load_lblnew_data(PARAM_LBLNEW)\n",
    "\n",
    "DS_FLUX_CRD = d['ds_flux_crd']\n",
    "DS_COOL_CRD = d['ds_cool_crd']\n",
    "DS_FLUX_WGT = d['ds_flux_wgt']\n",
    "DS_COOL_WGT = d['ds_cool_wgt']"
   ]
  },
  {
   "cell_type": "code",
   "execution_count": 6,
   "metadata": {
    "collapsed": true
   },
   "outputs": [],
   "source": [
    "DIR_FORTRAN = pipe_cliradlw.get_fortran_dir(PARAM, \n",
    "                                            setup=setup_cliradlw)\n",
    "\n",
    "PATH_FLUX = os.path.join(DIR_FORTRAN, 'output_flux.dat')\n",
    "PATH_COOL = os.path.join(DIR_FORTRAN, 'output_coolr.dat')\n",
    "\n",
    "DS_FLUX = load_output_file(PATH_FLUX)\n",
    "DS_COOL = load_output_file(PATH_COOL)"
   ]
  },
  {
   "cell_type": "code",
   "execution_count": 7,
   "metadata": {
    "collapsed": true
   },
   "outputs": [
    {
     "data": {
      "text/html": [
       "\n",
       "    <div class=\"bk-root\">\n",
       "        <a href=\"https://bokeh.pydata.org\" target=\"_blank\" class=\"bk-logo bk-logo-small bk-logo-notebook\"></a>\n",
       "        <span id=\"433ba006-2384-4a08-8edd-078e87c04a64\">Loading BokehJS ...</span>\n",
       "    </div>"
      ]
     },
     "metadata": {},
     "output_type": "display_data"
    },
    {
     "data": {
      "application/javascript": [
       "\n",
       "(function(root) {\n",
       "  function now() {\n",
       "    return new Date();\n",
       "  }\n",
       "\n",
       "  var force = true;\n",
       "\n",
       "  if (typeof (root._bokeh_onload_callbacks) === \"undefined\" || force === true) {\n",
       "    root._bokeh_onload_callbacks = [];\n",
       "    root._bokeh_is_loading = undefined;\n",
       "  }\n",
       "\n",
       "  var JS_MIME_TYPE = 'application/javascript';\n",
       "  var HTML_MIME_TYPE = 'text/html';\n",
       "  var EXEC_MIME_TYPE = 'application/vnd.bokehjs_exec.v0+json';\n",
       "  var CLASS_NAME = 'output_bokeh rendered_html';\n",
       "\n",
       "  /**\n",
       "   * Render data to the DOM node\n",
       "   */\n",
       "  function render(props, node) {\n",
       "    var script = document.createElement(\"script\");\n",
       "    node.appendChild(script);\n",
       "  }\n",
       "\n",
       "  /**\n",
       "   * Handle when an output is cleared or removed\n",
       "   */\n",
       "  function handleClearOutput(event, handle) {\n",
       "    var cell = handle.cell;\n",
       "\n",
       "    var id = cell.output_area._bokeh_element_id;\n",
       "    var server_id = cell.output_area._bokeh_server_id;\n",
       "    // Clean up Bokeh references\n",
       "    if (id !== undefined) {\n",
       "      Bokeh.index[id].model.document.clear();\n",
       "      delete Bokeh.index[id];\n",
       "    }\n",
       "\n",
       "    if (server_id !== undefined) {\n",
       "      // Clean up Bokeh references\n",
       "      var cmd = \"from bokeh.io.state import curstate; print(curstate().uuid_to_server['\" + server_id + \"'].get_sessions()[0].document.roots[0]._id)\";\n",
       "      cell.notebook.kernel.execute(cmd, {\n",
       "        iopub: {\n",
       "          output: function(msg) {\n",
       "            var element_id = msg.content.text.trim();\n",
       "            Bokeh.index[element_id].model.document.clear();\n",
       "            delete Bokeh.index[element_id];\n",
       "          }\n",
       "        }\n",
       "      });\n",
       "      // Destroy server and session\n",
       "      var cmd = \"import bokeh.io.notebook as ion; ion.destroy_server('\" + server_id + \"')\";\n",
       "      cell.notebook.kernel.execute(cmd);\n",
       "    }\n",
       "  }\n",
       "\n",
       "  /**\n",
       "   * Handle when a new output is added\n",
       "   */\n",
       "  function handleAddOutput(event, handle) {\n",
       "    var output_area = handle.output_area;\n",
       "    var output = handle.output;\n",
       "\n",
       "    // limit handleAddOutput to display_data with EXEC_MIME_TYPE content only\n",
       "    if ((output.output_type != \"display_data\") || (!output.data.hasOwnProperty(EXEC_MIME_TYPE))) {\n",
       "      return\n",
       "    }\n",
       "\n",
       "    var toinsert = output_area.element.find(\".\" + CLASS_NAME.split(' ')[0]);\n",
       "\n",
       "    if (output.metadata[EXEC_MIME_TYPE][\"id\"] !== undefined) {\n",
       "      toinsert[toinsert.length - 1].firstChild.textContent = output.data[JS_MIME_TYPE];\n",
       "      // store reference to embed id on output_area\n",
       "      output_area._bokeh_element_id = output.metadata[EXEC_MIME_TYPE][\"id\"];\n",
       "    }\n",
       "    if (output.metadata[EXEC_MIME_TYPE][\"server_id\"] !== undefined) {\n",
       "      var bk_div = document.createElement(\"div\");\n",
       "      bk_div.innerHTML = output.data[HTML_MIME_TYPE];\n",
       "      var script_attrs = bk_div.children[0].attributes;\n",
       "      for (var i = 0; i < script_attrs.length; i++) {\n",
       "        toinsert[toinsert.length - 1].firstChild.setAttribute(script_attrs[i].name, script_attrs[i].value);\n",
       "      }\n",
       "      // store reference to server id on output_area\n",
       "      output_area._bokeh_server_id = output.metadata[EXEC_MIME_TYPE][\"server_id\"];\n",
       "    }\n",
       "  }\n",
       "\n",
       "  function register_renderer(events, OutputArea) {\n",
       "\n",
       "    function append_mime(data, metadata, element) {\n",
       "      // create a DOM node to render to\n",
       "      var toinsert = this.create_output_subarea(\n",
       "        metadata,\n",
       "        CLASS_NAME,\n",
       "        EXEC_MIME_TYPE\n",
       "      );\n",
       "      this.keyboard_manager.register_events(toinsert);\n",
       "      // Render to node\n",
       "      var props = {data: data, metadata: metadata[EXEC_MIME_TYPE]};\n",
       "      render(props, toinsert[toinsert.length - 1]);\n",
       "      element.append(toinsert);\n",
       "      return toinsert\n",
       "    }\n",
       "\n",
       "    /* Handle when an output is cleared or removed */\n",
       "    events.on('clear_output.CodeCell', handleClearOutput);\n",
       "    events.on('delete.Cell', handleClearOutput);\n",
       "\n",
       "    /* Handle when a new output is added */\n",
       "    events.on('output_added.OutputArea', handleAddOutput);\n",
       "\n",
       "    /**\n",
       "     * Register the mime type and append_mime function with output_area\n",
       "     */\n",
       "    OutputArea.prototype.register_mime_type(EXEC_MIME_TYPE, append_mime, {\n",
       "      /* Is output safe? */\n",
       "      safe: true,\n",
       "      /* Index of renderer in `output_area.display_order` */\n",
       "      index: 0\n",
       "    });\n",
       "  }\n",
       "\n",
       "  // register the mime type if in Jupyter Notebook environment and previously unregistered\n",
       "  if (root.Jupyter !== undefined) {\n",
       "    var events = require('base/js/events');\n",
       "    var OutputArea = require('notebook/js/outputarea').OutputArea;\n",
       "\n",
       "    if (OutputArea.prototype.mime_types().indexOf(EXEC_MIME_TYPE) == -1) {\n",
       "      register_renderer(events, OutputArea);\n",
       "    }\n",
       "  }\n",
       "\n",
       "  \n",
       "  if (typeof (root._bokeh_timeout) === \"undefined\" || force === true) {\n",
       "    root._bokeh_timeout = Date.now() + 5000;\n",
       "    root._bokeh_failed_load = false;\n",
       "  }\n",
       "\n",
       "  var NB_LOAD_WARNING = {'data': {'text/html':\n",
       "     \"<div style='background-color: #fdd'>\\n\"+\n",
       "     \"<p>\\n\"+\n",
       "     \"BokehJS does not appear to have successfully loaded. If loading BokehJS from CDN, this \\n\"+\n",
       "     \"may be due to a slow or bad network connection. Possible fixes:\\n\"+\n",
       "     \"</p>\\n\"+\n",
       "     \"<ul>\\n\"+\n",
       "     \"<li>re-rerun `output_notebook()` to attempt to load from CDN again, or</li>\\n\"+\n",
       "     \"<li>use INLINE resources instead, as so:</li>\\n\"+\n",
       "     \"</ul>\\n\"+\n",
       "     \"<code>\\n\"+\n",
       "     \"from bokeh.resources import INLINE\\n\"+\n",
       "     \"output_notebook(resources=INLINE)\\n\"+\n",
       "     \"</code>\\n\"+\n",
       "     \"</div>\"}};\n",
       "\n",
       "  function display_loaded() {\n",
       "    var el = document.getElementById(\"433ba006-2384-4a08-8edd-078e87c04a64\");\n",
       "    if (el != null) {\n",
       "      el.textContent = \"BokehJS is loading...\";\n",
       "    }\n",
       "    if (root.Bokeh !== undefined) {\n",
       "      if (el != null) {\n",
       "        el.textContent = \"BokehJS \" + root.Bokeh.version + \" successfully loaded.\";\n",
       "      }\n",
       "    } else if (Date.now() < root._bokeh_timeout) {\n",
       "      setTimeout(display_loaded, 100)\n",
       "    }\n",
       "  }\n",
       "\n",
       "\n",
       "  function run_callbacks() {\n",
       "    try {\n",
       "      root._bokeh_onload_callbacks.forEach(function(callback) { callback() });\n",
       "    }\n",
       "    finally {\n",
       "      delete root._bokeh_onload_callbacks\n",
       "    }\n",
       "    console.info(\"Bokeh: all callbacks have finished\");\n",
       "  }\n",
       "\n",
       "  function load_libs(js_urls, callback) {\n",
       "    root._bokeh_onload_callbacks.push(callback);\n",
       "    if (root._bokeh_is_loading > 0) {\n",
       "      console.log(\"Bokeh: BokehJS is being loaded, scheduling callback at\", now());\n",
       "      return null;\n",
       "    }\n",
       "    if (js_urls == null || js_urls.length === 0) {\n",
       "      run_callbacks();\n",
       "      return null;\n",
       "    }\n",
       "    console.log(\"Bokeh: BokehJS not loaded, scheduling load and callback at\", now());\n",
       "    root._bokeh_is_loading = js_urls.length;\n",
       "    for (var i = 0; i < js_urls.length; i++) {\n",
       "      var url = js_urls[i];\n",
       "      var s = document.createElement('script');\n",
       "      s.src = url;\n",
       "      s.async = false;\n",
       "      s.onreadystatechange = s.onload = function() {\n",
       "        root._bokeh_is_loading--;\n",
       "        if (root._bokeh_is_loading === 0) {\n",
       "          console.log(\"Bokeh: all BokehJS libraries loaded\");\n",
       "          run_callbacks()\n",
       "        }\n",
       "      };\n",
       "      s.onerror = function() {\n",
       "        console.warn(\"failed to load library \" + url);\n",
       "      };\n",
       "      console.log(\"Bokeh: injecting script tag for BokehJS library: \", url);\n",
       "      document.getElementsByTagName(\"head\")[0].appendChild(s);\n",
       "    }\n",
       "  };var element = document.getElementById(\"433ba006-2384-4a08-8edd-078e87c04a64\");\n",
       "  if (element == null) {\n",
       "    console.log(\"Bokeh: ERROR: autoload.js configured with elementid '433ba006-2384-4a08-8edd-078e87c04a64' but no matching script tag was found. \")\n",
       "    return false;\n",
       "  }\n",
       "\n",
       "  var js_urls = [\"https://cdn.pydata.org/bokeh/release/bokeh-0.12.16.min.js\", \"https://cdn.pydata.org/bokeh/release/bokeh-widgets-0.12.16.min.js\", \"https://cdn.pydata.org/bokeh/release/bokeh-tables-0.12.16.min.js\", \"https://cdn.pydata.org/bokeh/release/bokeh-gl-0.12.16.min.js\"];\n",
       "\n",
       "  var inline_js = [\n",
       "    function(Bokeh) {\n",
       "      Bokeh.set_log_level(\"info\");\n",
       "    },\n",
       "    \n",
       "    function(Bokeh) {\n",
       "      \n",
       "    },\n",
       "    function(Bokeh) {\n",
       "      console.log(\"Bokeh: injecting CSS: https://cdn.pydata.org/bokeh/release/bokeh-0.12.16.min.css\");\n",
       "      Bokeh.embed.inject_css(\"https://cdn.pydata.org/bokeh/release/bokeh-0.12.16.min.css\");\n",
       "      console.log(\"Bokeh: injecting CSS: https://cdn.pydata.org/bokeh/release/bokeh-widgets-0.12.16.min.css\");\n",
       "      Bokeh.embed.inject_css(\"https://cdn.pydata.org/bokeh/release/bokeh-widgets-0.12.16.min.css\");\n",
       "      console.log(\"Bokeh: injecting CSS: https://cdn.pydata.org/bokeh/release/bokeh-tables-0.12.16.min.css\");\n",
       "      Bokeh.embed.inject_css(\"https://cdn.pydata.org/bokeh/release/bokeh-tables-0.12.16.min.css\");\n",
       "    }\n",
       "  ];\n",
       "\n",
       "  function run_inline_js() {\n",
       "    \n",
       "    if ((root.Bokeh !== undefined) || (force === true)) {\n",
       "      for (var i = 0; i < inline_js.length; i++) {\n",
       "        inline_js[i].call(root, root.Bokeh);\n",
       "      }if (force === true) {\n",
       "        display_loaded();\n",
       "      }} else if (Date.now() < root._bokeh_timeout) {\n",
       "      setTimeout(run_inline_js, 100);\n",
       "    } else if (!root._bokeh_failed_load) {\n",
       "      console.log(\"Bokeh: BokehJS failed to load within specified timeout.\");\n",
       "      root._bokeh_failed_load = true;\n",
       "    } else if (force !== true) {\n",
       "      var cell = $(document.getElementById(\"433ba006-2384-4a08-8edd-078e87c04a64\")).parents('.cell').data().cell;\n",
       "      cell.output_area.append_execute_result(NB_LOAD_WARNING)\n",
       "    }\n",
       "\n",
       "  }\n",
       "\n",
       "  if (root._bokeh_is_loading === 0) {\n",
       "    console.log(\"Bokeh: BokehJS loaded, going straight to plotting\");\n",
       "    run_inline_js();\n",
       "  } else {\n",
       "    load_libs(js_urls, function() {\n",
       "      console.log(\"Bokeh: BokehJS plotting callback run at\", now());\n",
       "      run_inline_js();\n",
       "    });\n",
       "  }\n",
       "}(window));"
      ],
      "application/vnd.bokehjs_load.v0+json": "\n(function(root) {\n  function now() {\n    return new Date();\n  }\n\n  var force = true;\n\n  if (typeof (root._bokeh_onload_callbacks) === \"undefined\" || force === true) {\n    root._bokeh_onload_callbacks = [];\n    root._bokeh_is_loading = undefined;\n  }\n\n  \n\n  \n  if (typeof (root._bokeh_timeout) === \"undefined\" || force === true) {\n    root._bokeh_timeout = Date.now() + 5000;\n    root._bokeh_failed_load = false;\n  }\n\n  var NB_LOAD_WARNING = {'data': {'text/html':\n     \"<div style='background-color: #fdd'>\\n\"+\n     \"<p>\\n\"+\n     \"BokehJS does not appear to have successfully loaded. If loading BokehJS from CDN, this \\n\"+\n     \"may be due to a slow or bad network connection. Possible fixes:\\n\"+\n     \"</p>\\n\"+\n     \"<ul>\\n\"+\n     \"<li>re-rerun `output_notebook()` to attempt to load from CDN again, or</li>\\n\"+\n     \"<li>use INLINE resources instead, as so:</li>\\n\"+\n     \"</ul>\\n\"+\n     \"<code>\\n\"+\n     \"from bokeh.resources import INLINE\\n\"+\n     \"output_notebook(resources=INLINE)\\n\"+\n     \"</code>\\n\"+\n     \"</div>\"}};\n\n  function display_loaded() {\n    var el = document.getElementById(\"433ba006-2384-4a08-8edd-078e87c04a64\");\n    if (el != null) {\n      el.textContent = \"BokehJS is loading...\";\n    }\n    if (root.Bokeh !== undefined) {\n      if (el != null) {\n        el.textContent = \"BokehJS \" + root.Bokeh.version + \" successfully loaded.\";\n      }\n    } else if (Date.now() < root._bokeh_timeout) {\n      setTimeout(display_loaded, 100)\n    }\n  }\n\n\n  function run_callbacks() {\n    try {\n      root._bokeh_onload_callbacks.forEach(function(callback) { callback() });\n    }\n    finally {\n      delete root._bokeh_onload_callbacks\n    }\n    console.info(\"Bokeh: all callbacks have finished\");\n  }\n\n  function load_libs(js_urls, callback) {\n    root._bokeh_onload_callbacks.push(callback);\n    if (root._bokeh_is_loading > 0) {\n      console.log(\"Bokeh: BokehJS is being loaded, scheduling callback at\", now());\n      return null;\n    }\n    if (js_urls == null || js_urls.length === 0) {\n      run_callbacks();\n      return null;\n    }\n    console.log(\"Bokeh: BokehJS not loaded, scheduling load and callback at\", now());\n    root._bokeh_is_loading = js_urls.length;\n    for (var i = 0; i < js_urls.length; i++) {\n      var url = js_urls[i];\n      var s = document.createElement('script');\n      s.src = url;\n      s.async = false;\n      s.onreadystatechange = s.onload = function() {\n        root._bokeh_is_loading--;\n        if (root._bokeh_is_loading === 0) {\n          console.log(\"Bokeh: all BokehJS libraries loaded\");\n          run_callbacks()\n        }\n      };\n      s.onerror = function() {\n        console.warn(\"failed to load library \" + url);\n      };\n      console.log(\"Bokeh: injecting script tag for BokehJS library: \", url);\n      document.getElementsByTagName(\"head\")[0].appendChild(s);\n    }\n  };var element = document.getElementById(\"433ba006-2384-4a08-8edd-078e87c04a64\");\n  if (element == null) {\n    console.log(\"Bokeh: ERROR: autoload.js configured with elementid '433ba006-2384-4a08-8edd-078e87c04a64' but no matching script tag was found. \")\n    return false;\n  }\n\n  var js_urls = [\"https://cdn.pydata.org/bokeh/release/bokeh-0.12.16.min.js\", \"https://cdn.pydata.org/bokeh/release/bokeh-widgets-0.12.16.min.js\", \"https://cdn.pydata.org/bokeh/release/bokeh-tables-0.12.16.min.js\", \"https://cdn.pydata.org/bokeh/release/bokeh-gl-0.12.16.min.js\"];\n\n  var inline_js = [\n    function(Bokeh) {\n      Bokeh.set_log_level(\"info\");\n    },\n    \n    function(Bokeh) {\n      \n    },\n    function(Bokeh) {\n      console.log(\"Bokeh: injecting CSS: https://cdn.pydata.org/bokeh/release/bokeh-0.12.16.min.css\");\n      Bokeh.embed.inject_css(\"https://cdn.pydata.org/bokeh/release/bokeh-0.12.16.min.css\");\n      console.log(\"Bokeh: injecting CSS: https://cdn.pydata.org/bokeh/release/bokeh-widgets-0.12.16.min.css\");\n      Bokeh.embed.inject_css(\"https://cdn.pydata.org/bokeh/release/bokeh-widgets-0.12.16.min.css\");\n      console.log(\"Bokeh: injecting CSS: https://cdn.pydata.org/bokeh/release/bokeh-tables-0.12.16.min.css\");\n      Bokeh.embed.inject_css(\"https://cdn.pydata.org/bokeh/release/bokeh-tables-0.12.16.min.css\");\n    }\n  ];\n\n  function run_inline_js() {\n    \n    if ((root.Bokeh !== undefined) || (force === true)) {\n      for (var i = 0; i < inline_js.length; i++) {\n        inline_js[i].call(root, root.Bokeh);\n      }if (force === true) {\n        display_loaded();\n      }} else if (Date.now() < root._bokeh_timeout) {\n      setTimeout(run_inline_js, 100);\n    } else if (!root._bokeh_failed_load) {\n      console.log(\"Bokeh: BokehJS failed to load within specified timeout.\");\n      root._bokeh_failed_load = true;\n    } else if (force !== true) {\n      var cell = $(document.getElementById(\"433ba006-2384-4a08-8edd-078e87c04a64\")).parents('.cell').data().cell;\n      cell.output_area.append_execute_result(NB_LOAD_WARNING)\n    }\n\n  }\n\n  if (root._bokeh_is_loading === 0) {\n    console.log(\"Bokeh: BokehJS loaded, going straight to plotting\");\n    run_inline_js();\n  } else {\n    load_libs(js_urls, function() {\n      console.log(\"Bokeh: BokehJS plotting callback run at\", now());\n      run_inline_js();\n    });\n  }\n}(window));"
     },
     "metadata": {},
     "output_type": "display_data"
    }
   ],
   "source": [
    "output_notebook()"
   ]
  },
  {
   "cell_type": "code",
   "execution_count": 8,
   "metadata": {
    "collapsed": true
   },
   "outputs": [],
   "source": [
    "def fmt_cool(ds_in):\n",
    "    ds = ds_in.copy(deep=True)\n",
    "    if 'igg' in ds.dims:\n",
    "        ds = ds.sel(igg=1)\n",
    "\n",
    "    if 'g' in ds.dims:\n",
    "        ds = ds.sum('g')\n",
    "            \n",
    "    if 'band' in ds.dims:\n",
    "        try:\n",
    "            ds = ds.squeeze('band')\n",
    "        except ValueError:\n",
    "            ds = ds.sum('band')\n",
    "                \n",
    "    return ds['coolrg']\n",
    "\n",
    "\n",
    "def pltdata_cooling_1(ds_cool=None,\n",
    "                      ds_cool_crd=None, ds_cool_wgt=None):\n",
    "    \n",
    "\n",
    "\n",
    "    colors = all_palettes['Set1'][4]\n",
    "    data = [{'label': 'CLIRAD `coolr_bands`',\n",
    "             'srs': fmt_cool(ds_cool),\n",
    "             'line_dash': 'dashed', 'line_width': 5,\n",
    "             'color': colors[0], 'alpha': .6},\n",
    "            {'label': 'CRD',\n",
    "             'srs': fmt_cool(ds_cool_crd),\n",
    "             'line_dash': 'solid', 'line_width': 1.5,\n",
    "             'marker': 'circle', 'marker_size': 5,\n",
    "             'color': colors[2], 'alpha': 1,},\n",
    "            {'label': 'WGT igg=10 wgt_flux=2',\n",
    "             'srs': fmt_cool(ds_cool_wgt),\n",
    "             'line_dash': 'solid', 'line_width': 3,\n",
    "             'marker': 'square', 'marker_size': 5,\n",
    "             'color': colors[3], 'alpha': .6}]\n",
    "    return data\n",
    "\n",
    "\n",
    "def nice_xlims(pltdata=None, prange=None):\n",
    "    \n",
    "    def get_slice(srs):\n",
    "        return srs.sel(pressure=slice(*prange))\n",
    "    \n",
    "    srss = [d['srs'] for d in pltdata]\n",
    "    vmin = min([get_slice(srs).min() for srs in srss])\n",
    "    vmax = max([get_slice(srs).max() for srs in srss])\n",
    "    dv = (vmax - vmin) * .01\n",
    "    return float(vmin - dv), float(vmax + dv)\n",
    "    \n",
    "\n",
    "def plt_cooling_bokeh(pltdata=None):\n",
    "    '''\n",
    "    Plot a list of cooling rate profiles using bokeh.\n",
    "    '''\n",
    "    ymin = 1e-2 \n",
    "    ymax = 1020 \n",
    "        \n",
    "    p1 = figure(title=\"Linear pressure scale\", \n",
    "                plot_width=400)        \n",
    "    xmin, xmax = nice_xlims(pltdata, prange=(50, 1050))\n",
    "    for d in pltdata:\n",
    "        if 'marker' in d:\n",
    "            getattr(p1, d['marker'])(d['srs'].values, \n",
    "                    d['srs'].coords['pressure'].values,\n",
    "                    color=d['color'], alpha=.7)\n",
    "        p1.line(d['srs'].values, \n",
    "                d['srs'].coords['pressure'].values,\n",
    "                color=d['color'], alpha=d['alpha'], \n",
    "                line_width=d['line_width'], line_dash=d['line_dash'])\n",
    "    \n",
    "    p1.y_range = Range1d(ymax, ymin)\n",
    "    p1.yaxis.axis_label = 'pressure [mb]'   \n",
    "    p1.x_range = Range1d(xmin, xmax)\n",
    "    p1.xaxis.axis_label = 'cooling rate [K/day]'\n",
    "            \n",
    "    p2 = figure(title='Log pressure scale', y_axis_type='log',\n",
    "                plot_width=560)\n",
    "    xmin, xmax = nice_xlims(pltdata, prange=(.01, 200))\n",
    "    \n",
    "    rs = []\n",
    "    for d in pltdata:\n",
    "        rd = []\n",
    "        if 'marker' in d:\n",
    "            r_mark = getattr(p2, d['marker'])(d['srs'].values, \n",
    "                        d['srs'].coords['pressure'].values,\n",
    "                        color=d['color'], alpha=.7)\n",
    "            rd.append(r_mark)\n",
    "        r_line = p2.line(d['srs'].values, \n",
    "                    d['srs'].coords['pressure'].values,\n",
    "                    color=d['color'], alpha=d['alpha'], \n",
    "                    line_width=d['line_width'], line_dash=d['line_dash'])\n",
    "        rd.append(r_line)\n",
    "      \n",
    "        rs.append(rd)\n",
    "        \n",
    "    p2.y_range = Range1d(ymax, ymin)  \n",
    "    p2.yaxis.axis_label = 'pressure [mb]'\n",
    "    \n",
    "    p2.x_range = Range1d(xmin, xmax)\n",
    "    p2.xaxis.axis_label = 'cooling rate [K/day]'\n",
    "    \n",
    "    items = [(d['label'], r) for r, d in zip(rs, pltdata)]\n",
    "    legend = Legend(items=items, location=(10, -30))\n",
    "    legend.label_text_font_size = '8pt'\n",
    "    \n",
    "    p2.add_layout(legend, 'right')  \n",
    "    \n",
    "    show(gridplot(p1, p2, ncols=2, plot_height=500))\n",
    "    \n",
    "\n",
    "def script_plt_cooling():\n",
    "    pltdata = pltdata_cooling_1(\n",
    "        ds_cool=DS_COOL,\n",
    "        ds_cool_crd=DS_COOL_CRD,\n",
    "        ds_cool_wgt=DS_COOL_WGT)\n",
    "    plt_cooling_bokeh(pltdata=pltdata)\n",
    "    print('''FIGURE. Cooling rate profiles.''')"
   ]
  },
  {
   "cell_type": "code",
   "execution_count": 9,
   "metadata": {
    "collapsed": true
   },
   "outputs": [],
   "source": [
    "def fmt_flux(ds_in):\n",
    "    ds = ds_in.copy(deep=True)\n",
    "    \n",
    "    for l in ('level', 'layer'):\n",
    "        if l in ds.data_vars:\n",
    "            if len(ds[l].dims) > 1:\n",
    "                surface = {d: 0 for d in ds.dims if d != 'pressure'}\n",
    "                coord_level = ds[l][surface]\n",
    "                ds.coords[l] = ('pressure', coord_level)\n",
    "            else:\n",
    "                ds.coords[l] = ('pressure', ds[l])\n",
    "        \n",
    "    ds = ds.isel(pressure=[0, 23, -1])\n",
    "        \n",
    "    if 'igg' in ds.dims:\n",
    "        ds = ds.sel(igg=[1])\n",
    "        ds = ds.squeeze('igg').drop('igg')\n",
    "    \n",
    "    if 'g' in ds.dims:\n",
    "        ds = ds.sum('g')\n",
    "            \n",
    "    if 'band' in ds.dims:\n",
    "        try:\n",
    "            ds = ds.squeeze('band').drop('band')\n",
    "        except ValueError:\n",
    "            ds = ds.sum('band')\n",
    "                \n",
    "    df = ds.to_dataframe()\n",
    "    df = df.set_index('level', append=True)               \n",
    "    return df\n",
    "\n",
    "\n",
    "def tbdata_flux(ds_flux=None, ds_flux_crd=None, ds_flux_wgt=None):\n",
    "    ilevels = [0, 23, -1]\n",
    "            \n",
    "    benchmark = {'label': 'CRD',\n",
    "                 'df': fmt_flux(ds_flux_crd)}\n",
    "    \n",
    "    tbs = [{'label': 'WGT igg=10 wgt_flux=1',\n",
    "            'df': fmt_flux(ds_flux_wgt)},\n",
    "           {'label': 'CLIRAD',\n",
    "            'df': fmt_flux(ds_flux)}]\n",
    "    \n",
    "    data = {'benchmark': benchmark, 'others': tbs}\n",
    "    return data\n",
    "\n",
    "\n",
    "def tb_flux(tbdata=None):\n",
    "    benchmark = tbdata['benchmark']\n",
    "    others = tbdata['others']\n",
    "    \n",
    "    def show_tb(d=None):\n",
    "        display.display(d['df'])\n",
    "        print('Table.', 'Fluxes.', d['label'])\n",
    "        \n",
    "    def show_tbdiff(d0=None, d=None):\n",
    "        df = d['df']\n",
    "        df.index = d0['df'].index\n",
    "        display.display(df - d0['df'])\n",
    "        print('Table.', 'Fluxes.', \n",
    "              '({}) - ({})'.format(d['label'], d0['label']))\n",
    "        \n",
    "    show_tb(benchmark)\n",
    "    for d in others:\n",
    "        show_tb(d)\n",
    "        \n",
    "    for d in others:\n",
    "        show_tbdiff(d=d, d0=benchmark)\n",
    "        \n",
    "        \n",
    "def script_tb_flux():\n",
    "    data = tbdata_flux(ds_flux=DS_FLUX,\n",
    "                       ds_flux_crd=DS_FLUX_CRD,\n",
    "                       ds_flux_wgt=DS_FLUX_WGT)\n",
    "    tb_flux(tbdata=data)"
   ]
  },
  {
   "cell_type": "code",
   "execution_count": 10,
   "metadata": {
    "collapsed": true
   },
   "outputs": [],
   "source": [
    "def band_map():\n",
    "    '''\n",
    "    Maps spectral bands in lblnew to spectral bands in clirad.\n",
    "    '''\n",
    "    lblnew2clirad = {'1': '1',\n",
    "            '2': '2',\n",
    "            '3a': '3',\n",
    "            '3b': '4',\n",
    "            '3c': '5',\n",
    "            '4': '6', \n",
    "            '5': '7',\n",
    "            '6': '8',\n",
    "            '7': '9', \n",
    "            '8': '10',\n",
    "            '9': '11'}\n",
    "    \n",
    "    clirad2lblnew = {clirad: lblnew \n",
    "                     for lblnew, clirad in lblnew2clirad.items()}\n",
    "    return clirad2lblnew\n",
    "\n",
    "\n",
    "def gasbands():\n",
    "    bmap = band_map()\n",
    "    gases = list(PARAM['molecule'].keys())\n",
    "    \n",
    "    bands = [bmap[str(b)] for b in PARAM['band']]\n",
    "    return list(itertools.product(gases, bands))\n",
    "\n",
    "\n",
    "def print_bestfit_params():\n",
    "    print('Best-fit values for each (gas, band)')\n",
    "    print('------------------------------------')\n",
    "    for gas, band in gasbands():\n",
    "        print('o {} band{}'.format(gas, band))\n",
    "        param = bestfits.kdist_params(molecule=gas, band=band)\n",
    "        for name, value in sorted(param.items()):\n",
    "            print(2 * ' ' + '{} = {}'.format(name, value))\n",
    "\n",
    "        \n",
    "def print_input_param():        \n",
    "    for name, value in PARAM.items():\n",
    "        print('{} = {}'.format(name, value))\n",
    "        \n",
    "        \n",
    "def print_lblnew_param():\n",
    "    for name, value in sorted(PARAM_LBLNEW.items()):\n",
    "        print('{} = {}'.format(name, value))\n"
   ]
  },
  {
   "cell_type": "code",
   "execution_count": 11,
   "metadata": {
    "collapsed": true,
    "scrolled": false
   },
   "outputs": [],
   "source": [
    "def show_html(s):\n",
    "    display.display(display.HTML(s))\n",
    "\n",
    "    \n",
    "def show_markdown(s):\n",
    "    display.display(display.Markdown(s))\n",
    "\n",
    "    \n",
    "def script():\n",
    "    \n",
    "    title = '### CLIRAD-LW'\n",
    "    s_input = 'Input Parameters'\n",
    "    s_lblnew_param = 'LBLNEW case compaired against'\n",
    "    s_bestfits = 'Best-fit Parameters'\n",
    "    s_plt_cooling = 'Cooling Rate Profiles'\n",
    "    s_tb_flux = 'Flux Comparison'\n",
    "    \n",
    "    # title\n",
    "    show_markdown('### CLIRAD-LW')\n",
    "    \n",
    "    # TOC\n",
    "    show_markdown('### Table of Contents')\n",
    "    show_html(climahtml.getHTML_hrefanchor(s_input))\n",
    "    show_html(climahtml.getHTML_hrefanchor(s_lblnew_param))\n",
    "    show_html(climahtml.getHTML_hrefanchor(s_plt_cooling))\n",
    "    show_html(climahtml.getHTML_hrefanchor(s_tb_flux))\n",
    "    show_html(climahtml.getHTML_hrefanchor(s_bestfits))\n",
    "    \n",
    "    # Input parameters\n",
    "    show_html(climahtml.getHTML_idanchor(s_input))\n",
    "    show_markdown(climahtml.getMarkdown_sectitle(s_input))\n",
    "    print_input_param()\n",
    "    \n",
    "    # LBLNEW parameters \n",
    "    show_html(climahtml.getHTML_idanchor(s_lblnew_param))\n",
    "    show_markdown(climahtml.getMarkdown_sectitle(s_lblnew_param))\n",
    "    print_lblnew_param()\n",
    "    \n",
    "    # Cooling rate profiles\n",
    "    show_html(climahtml.getHTML_idanchor(s_plt_cooling))\n",
    "    show_markdown(climahtml.getMarkdown_sectitle(s_plt_cooling))\n",
    "    script_plt_cooling()\n",
    "    \n",
    "    # Flux comparison\n",
    "    show_html(climahtml.getHTML_idanchor(s_tb_flux))\n",
    "    show_markdown(climahtml.getMarkdown_sectitle(s_tb_flux))\n",
    "    script_tb_flux()\n",
    "    \n",
    "    # Best-fit values\n",
    "    show_html(climahtml.getHTML_idanchor(s_bestfits))\n",
    "    show_markdown(climahtml.getMarkdown_sectitle(s_bestfits))\n",
    "    print_bestfit_params()\n",
    "   \n",
    "    "
   ]
  },
  {
   "cell_type": "code",
   "execution_count": 12,
   "metadata": {
    "collapsed": true,
    "scrolled": false
   },
   "outputs": [
    {
     "data": {
      "text/markdown": [
       "### CLIRAD-LW"
      ],
      "text/plain": [
       "<IPython.core.display.Markdown object>"
      ]
     },
     "metadata": {},
     "output_type": "display_data"
    },
    {
     "data": {
      "text/markdown": [
       "### Table of Contents"
      ],
      "text/plain": [
       "<IPython.core.display.Markdown object>"
      ]
     },
     "metadata": {},
     "output_type": "display_data"
    },
    {
     "data": {
      "text/html": [
       "<a href=\"#Input_Parameters\">Input Parameters</a>"
      ],
      "text/plain": [
       "<IPython.core.display.HTML object>"
      ]
     },
     "metadata": {},
     "output_type": "display_data"
    },
    {
     "data": {
      "text/html": [
       "<a href=\"#LBLNEW_case_compaired_against\">LBLNEW case compaired against</a>"
      ],
      "text/plain": [
       "<IPython.core.display.HTML object>"
      ]
     },
     "metadata": {},
     "output_type": "display_data"
    },
    {
     "data": {
      "text/html": [
       "<a href=\"#Cooling_Rate_Profiles\">Cooling Rate Profiles</a>"
      ],
      "text/plain": [
       "<IPython.core.display.HTML object>"
      ]
     },
     "metadata": {},
     "output_type": "display_data"
    },
    {
     "data": {
      "text/html": [
       "<a href=\"#Flux_Comparison\">Flux Comparison</a>"
      ],
      "text/plain": [
       "<IPython.core.display.HTML object>"
      ]
     },
     "metadata": {},
     "output_type": "display_data"
    },
    {
     "data": {
      "text/html": [
       "<a href=\"#Best-fit_Parameters\">Best-fit Parameters</a>"
      ],
      "text/plain": [
       "<IPython.core.display.HTML object>"
      ]
     },
     "metadata": {},
     "output_type": "display_data"
    },
    {
     "data": {
      "text/html": [
       "<a id=\"Input_Parameters\"></a>"
      ],
      "text/plain": [
       "<IPython.core.display.HTML object>"
      ]
     },
     "metadata": {},
     "output_type": "display_data"
    },
    {
     "data": {
      "text/markdown": [
       "# Input Parameters"
      ],
      "text/plain": [
       "<IPython.core.display.Markdown object>"
      ]
     },
     "metadata": {},
     "output_type": "display_data"
    },
    {
     "name": "stdout",
     "output_type": "stream",
     "text": [
      "atmpro = saw\n",
      "band = [6]\n",
      "commitnumber = de5d43e\n",
      "molecule = {'h2o': 'atmpro'}\n",
      "tsfc = 257\n"
     ]
    },
    {
     "data": {
      "text/html": [
       "<a id=\"LBLNEW_case_compaired_against\"></a>"
      ],
      "text/plain": [
       "<IPython.core.display.HTML object>"
      ]
     },
     "metadata": {},
     "output_type": "display_data"
    },
    {
     "data": {
      "text/markdown": [
       "# LBLNEW case compaired against"
      ],
      "text/plain": [
       "<IPython.core.display.Markdown object>"
      ]
     },
     "metadata": {},
     "output_type": "display_data"
    },
    {
     "name": "stdout",
     "output_type": "stream",
     "text": [
      "atmpro = saw\n",
      "band = 4\n",
      "commitnumber = 5014a19\n",
      "conc = None\n",
      "dv = 0.001\n",
      "klin = 1e-24\n",
      "molecule = h2o\n",
      "ng_adju = [0]\n",
      "ng_refs = [3]\n",
      "nv = 1000\n",
      "option_compute_btable = 0\n",
      "option_compute_ktable = 0\n",
      "option_wgt_flux = 1\n",
      "option_wgt_k = 1\n",
      "ref_pts = [(600, 250)]\n",
      "tsfc = 257\n",
      "vmax = 980\n",
      "vmin = 800\n",
      "w_diffuse = [(1.66, 1.66, 1.85)]\n",
      "wgt = [(0.5, 0.55, 0.85)]\n"
     ]
    },
    {
     "data": {
      "text/html": [
       "<a id=\"Cooling_Rate_Profiles\"></a>"
      ],
      "text/plain": [
       "<IPython.core.display.HTML object>"
      ]
     },
     "metadata": {},
     "output_type": "display_data"
    },
    {
     "data": {
      "text/markdown": [
       "# Cooling Rate Profiles"
      ],
      "text/plain": [
       "<IPython.core.display.Markdown object>"
      ]
     },
     "metadata": {},
     "output_type": "display_data"
    },
    {
     "data": {
      "text/html": [
       "\n",
       "<div class=\"bk-root\">\n",
       "    <div class=\"bk-plotdiv\" id=\"93bc6cf2-62ce-4b81-a40f-6af950c17182\"></div>\n",
       "</div>"
      ]
     },
     "metadata": {},
     "output_type": "display_data"
    },
    {
     "data": {
      "application/javascript": [
       "(function(root) {\n",
       "  function embed_document(root) {\n",
       "    \n",
       "  var docs_json = {\"2fdffd0e-1c47-4b5f-a2ce-f4979d6cb447\":{\"roots\":{\"references\":[{\"attributes\":{},\"id\":\"0077b19a-4c7f-41f4-983f-e02625eb16d5\",\"type\":\"BasicTicker\"},{\"attributes\":{},\"id\":\"86992e9b-ea2d-489a-a71b-413109d13aa5\",\"type\":\"SaveTool\"},{\"attributes\":{\"callback\":null,\"end\":0.01,\"start\":1020},\"id\":\"b1526a6e-b0ae-46c4-ae48-76c2572e063d\",\"type\":\"Range1d\"},{\"attributes\":{\"fill_alpha\":{\"value\":0.1},\"fill_color\":{\"value\":\"#1f77b4\"},\"line_alpha\":{\"value\":0.1},\"line_color\":{\"value\":\"#1f77b4\"},\"x\":{\"field\":\"x\"},\"y\":{\"field\":\"y\"}},\"id\":\"cf4718d7-69d9-44a3-8335-e282a7f6ce45\",\"type\":\"Square\"},{\"attributes\":{\"overlay\":{\"id\":\"96689c22-411b-4587-b94c-749d4339d2e4\",\"type\":\"BoxAnnotation\"}},\"id\":\"94e085fa-4cc2-4295-8704-a5b80da8882e\",\"type\":\"BoxZoomTool\"},{\"attributes\":{},\"id\":\"470f094f-08cd-4c5c-8a12-e8991097f35f\",\"type\":\"WheelZoomTool\"},{\"attributes\":{\"source\":{\"id\":\"e21ddddf-1f7e-4af6-b700-196c5eacdabc\",\"type\":\"ColumnDataSource\"}},\"id\":\"04c4f93d-af55-4ce6-a780-67418f8fa0d3\",\"type\":\"CDSView\"},{\"attributes\":{},\"id\":\"87741570-f59e-4421-9c8e-a04a8a8a10ee\",\"type\":\"PanTool\"},{\"attributes\":{\"dimension\":1,\"plot\":{\"id\":\"98d7c194-f34f-4c5c-befd-4d5d74c5a28c\",\"subtype\":\"Figure\",\"type\":\"Plot\"},\"ticker\":{\"id\":\"59df6476-679e-4ce0-9425-360b6b4249e8\",\"type\":\"BasicTicker\"}},\"id\":\"38ed47d6-3e3d-4295-87ca-95a16cb04240\",\"type\":\"Grid\"},{\"attributes\":{\"plot\":{\"id\":\"98d7c194-f34f-4c5c-befd-4d5d74c5a28c\",\"subtype\":\"Figure\",\"type\":\"Plot\"},\"ticker\":{\"id\":\"0077b19a-4c7f-41f4-983f-e02625eb16d5\",\"type\":\"BasicTicker\"}},\"id\":\"0973056b-7e5b-4d98-ac38-e728f5885545\",\"type\":\"Grid\"},{\"attributes\":{\"bottom_units\":\"screen\",\"fill_alpha\":{\"value\":0.5},\"fill_color\":{\"value\":\"lightgrey\"},\"left_units\":\"screen\",\"level\":\"overlay\",\"line_alpha\":{\"value\":1.0},\"line_color\":{\"value\":\"black\"},\"line_dash\":[4,4],\"line_width\":{\"value\":2},\"plot\":null,\"render_mode\":\"css\",\"right_units\":\"screen\",\"top_units\":\"screen\"},\"id\":\"96689c22-411b-4587-b94c-749d4339d2e4\",\"type\":\"BoxAnnotation\"},{\"attributes\":{\"axis_label\":\"pressure [mb]\",\"formatter\":{\"id\":\"6e148183-f2fd-4a65-9e73-ae560f770b3a\",\"type\":\"BasicTickFormatter\"},\"plot\":{\"id\":\"98d7c194-f34f-4c5c-befd-4d5d74c5a28c\",\"subtype\":\"Figure\",\"type\":\"Plot\"},\"ticker\":{\"id\":\"59df6476-679e-4ce0-9425-360b6b4249e8\",\"type\":\"BasicTicker\"}},\"id\":\"b628902a-0bdb-496c-b5d0-6c0969494b0d\",\"type\":\"LinearAxis\"},{\"attributes\":{\"plot\":null,\"text\":\"Log pressure scale\"},\"id\":\"e5fdd2d4-37ee-4eb3-8d43-c65625f5ed41\",\"type\":\"Title\"},{\"attributes\":{},\"id\":\"59df6476-679e-4ce0-9425-360b6b4249e8\",\"type\":\"BasicTicker\"},{\"attributes\":{},\"id\":\"2b54856a-31e3-4503-8787-7efb124cfe37\",\"type\":\"ResetTool\"},{\"attributes\":{},\"id\":\"9b053102-5a94-4a31-a366-bb6d9a895480\",\"type\":\"HelpTool\"},{\"attributes\":{\"callback\":null,\"data\":{\"x\":{\"__ndarray__\":\"xNLTijHyEL98R72h86cmv8lLFOju1vS+JyAb3uM5675lJolNdxbkvso6tl+I0dq+Wvy+BMsrz76UvXUe5NOxvsvW9h29jLs+XDluuaZk0z5jN0Ra1YHgPrHJslByZ+g+WtRLDdNT8j5mJPT4tXT3PrxVNiI0/fk+G48Ao8z5/D4G3BllYHsAP9tmNH+2mAI/VvoaZ/XPBD+uJSu41i8HP/Fod+szJQo/8d2vGxaHCD/NXuYljlMBP4w3FLdOpfU+FGTk+AsD6T5fhs68YaHYPl0xG0fIH70+8x2oFxFVp762X0JC5kXAvjyB0kwqz8a+LcfsaDnVy76ScDXlL47PvmHqacZMcNC+fk5WMt/Tz77Mc7J+Q0fPvtpJ+Cmgmc6+9yiFgJ+Uzb511TMpgdrNvtW5k7JFCNW+BHglgvso3L4/pimFk3HivvezAc0ldea+YPLTEhvO6r4obc+Wservvtwou4JLp/K+e7oDqf9t874ZBVUznvftviVVppRUWtC+k6UE0vt48j4y5a5AnIMSP98PDfEWHCc/wB3eszLBNz/+vQyt66NFP67wLM2mDVI/J1xjZpPCWz+zDRrBWDRkP8IoeZfBD2w/6XhNCpqvcj87ac3OI/h3P+wG1BJglX0/cw3mgDOpgT8jcDP7jY2EP01vudmjYIc/LDO+klgQij88IZImgJCMP8IWyqiD044/YDAsPaJbkD8vspo3GRiRP65VuG4Vh5E/68gkMpKOkT8ugbyggwORP2xFR+RO+I8/tHmqsAq1jT/4eXVWV3qLP3W9Fu8lX4k/\",\"dtype\":\"float64\",\"shape\":[75]},\"y\":{\"__ndarray__\":\"S/O/Q+51ND/Sv8nbtpRIP2vylNV0PVE/aTum7souWD/At0SJ8fVgPw3Iuahxymc/MSNhhJWvcD/bTfBN02d3P2zb5nxnaoA/CD5h5MAGhz8NmeH1TyaQP+zrCsc9p5Y/LbKd76fGnz/bLW5ISEmmPww9YvTcQq8/JV2OstnstT8Er5Y7M8G+P0c+r3jqkcU/5h99k6ZBzj88bCIzFzjVP4enV8oyxN0//yH99nXg5D8qOpLLf0jtP5kqGJXUifQ/c9cS8kHP/D+/DpwzojQEQIEmwoanVwxA4lgXt9HgE0BSSZ2AJuIbQAMJih9jjiNA5q4l5INuK0AwTKYKRj0zQNv5fmq8/DpAaCJseHrtQkB/+zpwzoxKQM3MzMzMeFJAZmZmZmZqWEAAAAAAAFxeQM3MzMzMJmJAmpmZmZkfZUBmZmZmZhhoQDMzMzMzEWtAAAAAAAAKbkBmZmZmZoFwQM3MzMzM/XFAMzMzMzN6c0CamZmZmfZ0QAAAAAAAc3ZAZmZmZmbvd0DNzMzMzGt5QDMzMzMz6HpAmpmZmZlkfEAAAAAAAOF9QGZmZmZmXX9AZmZmZuZsgECamZmZGSuBQM3MzMxM6YFAAAAAAICngkAzMzMzs2WDQGZmZmbmI4RAmpmZmRnihEDNzMzMTKCFQAAAAACAXoZAMzMzM7Mch0BmZmZm5tqHQJqZmZkZmYhAzczMzExXiUAAAAAAgBWKQDMzMzOz04pAZmZmZuaRi0CamZmZGVCMQM3MzMxMDo1AAAAAAIDMjUAzMzMzs4qOQGZmZmbmSI9A\",\"dtype\":\"float64\",\"shape\":[75]}},\"selected\":{\"id\":\"a7e552d3-c391-46e6-99df-f28f76f90a86\",\"type\":\"Selection\"},\"selection_policy\":{\"id\":\"94c5f0de-b174-424f-bc5d-bd7b9a46646d\",\"type\":\"UnionRenderers\"}},\"id\":\"e21ddddf-1f7e-4af6-b700-196c5eacdabc\",\"type\":\"ColumnDataSource\"},{\"attributes\":{\"line_alpha\":0.1,\"line_color\":\"#1f77b4\",\"line_dash\":[6],\"line_width\":5,\"x\":{\"field\":\"x\"},\"y\":{\"field\":\"y\"}},\"id\":\"aad8c0b3-b3f3-46c4-a284-da929bee740a\",\"type\":\"Line\"},{\"attributes\":{\"data_source\":{\"id\":\"6c9520a6-71fd-41d9-b46a-a46c85b2a6f4\",\"type\":\"ColumnDataSource\"},\"glyph\":{\"id\":\"222d5f79-e8a5-4bf1-b01e-b466dd8831a3\",\"type\":\"Line\"},\"hover_glyph\":null,\"muted_glyph\":null,\"nonselection_glyph\":{\"id\":\"e71fe29a-858b-4d42-b307-f1b7c76e09be\",\"type\":\"Line\"},\"selection_glyph\":null,\"view\":{\"id\":\"c27101fc-cbd6-402b-887a-93ecb3183c2a\",\"type\":\"CDSView\"}},\"id\":\"b276c7e0-8333-4341-8957-faea1382ff45\",\"type\":\"GlyphRenderer\"},{\"attributes\":{\"callback\":null,\"data\":{\"x\":{\"__ndarray__\":\"l1FZKA4F1L4fWNcQvPfRvvBS0vnD3Mm+P5UM7jeQub6A/fsg552dPnT4pdmBOsg+V3wiXpHB2D7EjG20thjkPp+Jr7YidO0+lh9YRStd9D7SK+i0Vh77Phucu9RglgE/LWrF5vhYBj9FLJtb9UULP1wnmS+dlw8/vZy6qIrcET+TSJacvR4UP/n3lUDnmBY/7nHAXd9PGT/F2aly8UccP2bLrtxqLx8/C9cHd/7kHD9DCdEbeecUP1dtH2uNGgs/oY+EK4CjAD/bIQNa26PyPsPxMSM0RuE+v6rvDdB1xT7vAwjQEVaavhOrpy3ec8K+CGLH4DW6zb7V3z4aGbjSvgZRDIoZ1NO+QOVJ5hl60r6FM2/4B2zQvnlRfXZjVsy+RnMq/gjUyL7ffO9s3j/IvggTslQeYtG+vwxgqYi2176kv+noFoXfvlx4/o2nOeO+HcYfhXXj5r7i9GmeU07rvoWBhokZvO++fGXhL+gG7r5eoGEnGlTavmL1qDR8w+Y+AL9MMSlhCT9QypdcNIAhP6WL5vf7JTM/O1M+p/I5Qj8FTbAKBWJPPx8l1QOW/1g/npHyXi+wYj+SH+oo0ndqPwqQgTEk5HE/mw+e/Uc1dz9buzYZKgZ9P/b8KYiTkYE/JW1Fw6uqhD9Pl882WrWHP2whK2zEm4o/BLR/LrJOjT8l1pMNLMaPPwlnO89t/JA/e7Vpjb3ukT/Ipsd8Ya6SPzTs6JkNG5M/B6LTZcQUkz/V8qqeMWuSP2BZupkJOpE/2pmLvezejz9KVBzFQVuNP3JYRXiuAYs/\",\"dtype\":\"float64\",\"shape\":[75]},\"y\":{\"__ndarray__\":\"GhExyth1ND/Sv8nbtpRIP2vylNV0PVE/aTum7souWD/At0SJ8fVgPw3Iuahxymc/MSNhhJWvcD/bTfBN02d3P2zb5nxnaoA/CD5h5MAGhz8NmeH1TyaQP+zrCsc9p5Y/LbKd76fGnz/bLW5ISEmmPww9YvTcQq8/JV2OstnstT8Er5Y7M8G+P0c+r3jqkcU/5h99k6ZBzj88bCIzFzjVP4enV8oyxN0//yH99nXg5D8qOpLLf0jtP5kqGJXUifQ/c9cS8kHP/D+/DpwzojQEQIEmwoanVwxA4lgXt9HgE0BSSZ2AJuIbQAMJih9jjiNA5q4l5INuK0AwTKYKRj0zQNv5fmq8/DpAaCJseHrtQkB/+zpwzoxKQM3MzMzMeFJAZmZmZmZqWEAAAAAAAFxeQM3MzMzMJmJAmpmZmZkfZUBmZmZmZhhoQDMzMzMzEWtAAAAAAAAKbkBmZmZmZoFwQM3MzMzM/XFAMzMzMzN6c0CamZmZmfZ0QAAAAAAAc3ZAZmZmZmbvd0DNzMzMzGt5QDMzMzMz6HpAmpmZmZlkfEAAAAAAAOF9QGZmZmZmXX9AZmZmZuZsgECamZmZGSuBQM3MzMxM6YFAAAAAAICngkAzMzMzs2WDQGZmZmbmI4RAmpmZmRnihEDNzMzMTKCFQAAAAACAXoZAMzMzM7Mch0BmZmZm5tqHQJqZmZkZmYhAzczMzExXiUAAAAAAgBWKQDMzMzOz04pAZmZmZuaRi0CamZmZGVCMQM3MzMxMDo1AAAAAAIDMjUAzMzMzs4qOQGZmZmbmSI9A\",\"dtype\":\"float64\",\"shape\":[75]}},\"selected\":{\"id\":\"41881bb3-0347-4c40-be08-ccc6239a54f1\",\"type\":\"Selection\"},\"selection_policy\":{\"id\":\"037b983b-bc89-4902-b468-fe7301a4dcb2\",\"type\":\"UnionRenderers\"}},\"id\":\"406350be-b950-4f3e-be12-e39c8bd54010\",\"type\":\"ColumnDataSource\"},{\"attributes\":{\"line_alpha\":0.1,\"line_color\":\"#1f77b4\",\"line_dash\":[6],\"line_width\":5,\"x\":{\"field\":\"x\"},\"y\":{\"field\":\"y\"}},\"id\":\"e71fe29a-858b-4d42-b307-f1b7c76e09be\",\"type\":\"Line\"},{\"attributes\":{\"below\":[{\"id\":\"4f3ee4c1-b6d4-4bdc-af45-6319df07492b\",\"type\":\"LinearAxis\"}],\"left\":[{\"id\":\"eed2ad94-e8cc-42e0-bb93-d23458ba1187\",\"type\":\"LogAxis\"}],\"plot_height\":500,\"plot_width\":560,\"renderers\":[{\"id\":\"4f3ee4c1-b6d4-4bdc-af45-6319df07492b\",\"type\":\"LinearAxis\"},{\"id\":\"fa22c793-411e-48b1-99a1-5ad768cb055a\",\"type\":\"Grid\"},{\"id\":\"eed2ad94-e8cc-42e0-bb93-d23458ba1187\",\"type\":\"LogAxis\"},{\"id\":\"3a466ac0-9fd8-4f05-86da-11da366ba47e\",\"type\":\"Grid\"},{\"id\":\"86c21159-9e9d-4b79-aa70-b81213c02bcf\",\"type\":\"BoxAnnotation\"},{\"id\":\"b276c7e0-8333-4341-8957-faea1382ff45\",\"type\":\"GlyphRenderer\"},{\"id\":\"199caebd-c159-4e1f-a511-689d8c4b06d5\",\"type\":\"GlyphRenderer\"},{\"id\":\"57665c31-9e7a-4326-a1c2-60483a792881\",\"type\":\"GlyphRenderer\"},{\"id\":\"b8a9e3e8-c905-4c49-b89b-4d00f9d5f5cd\",\"type\":\"GlyphRenderer\"},{\"id\":\"5acd176f-3306-43ef-81fe-ff407aadd324\",\"type\":\"GlyphRenderer\"},{\"id\":\"51dc0b0c-aad8-45ce-9604-8ae82da8e782\",\"type\":\"Legend\"}],\"right\":[{\"id\":\"51dc0b0c-aad8-45ce-9604-8ae82da8e782\",\"type\":\"Legend\"}],\"title\":{\"id\":\"e5fdd2d4-37ee-4eb3-8d43-c65625f5ed41\",\"type\":\"Title\"},\"toolbar\":{\"id\":\"0a53c77a-88aa-4077-84d5-5c0c302f6002\",\"type\":\"Toolbar\"},\"toolbar_location\":null,\"x_range\":{\"id\":\"5d6c806c-c8f8-48f9-b78a-975d7a9f78f9\",\"type\":\"Range1d\"},\"x_scale\":{\"id\":\"ca46582a-2f02-46a2-9979-0d44643ea5a6\",\"type\":\"LinearScale\"},\"y_range\":{\"id\":\"a864db10-b77e-4826-b52f-c586807115a7\",\"type\":\"Range1d\"},\"y_scale\":{\"id\":\"9f5792fc-6246-437e-a108-b9028d942b23\",\"type\":\"LogScale\"}},\"id\":\"b23cd87d-f1b2-4827-b636-6b30385ebae2\",\"subtype\":\"Figure\",\"type\":\"Plot\"},{\"attributes\":{\"source\":{\"id\":\"e2429dd0-8cd3-4cba-8d4b-15ac3cda141c\",\"type\":\"ColumnDataSource\"}},\"id\":\"bbdba794-bc02-4cf0-bd97-13247a5c7fe6\",\"type\":\"CDSView\"},{\"attributes\":{\"active_drag\":\"auto\",\"active_inspect\":\"auto\",\"active_scroll\":\"auto\",\"active_tap\":\"auto\",\"tools\":[{\"id\":\"ebbfb03a-289b-4cac-898f-573c74e0d693\",\"type\":\"PanTool\"},{\"id\":\"ea729b03-11fa-4738-9056-9051c7e20f07\",\"type\":\"WheelZoomTool\"},{\"id\":\"14b3acfc-525e-4d52-91c7-fd721588885f\",\"type\":\"BoxZoomTool\"},{\"id\":\"e8cd1c2b-220c-4574-bd9e-b85cb1c09f55\",\"type\":\"SaveTool\"},{\"id\":\"10d1cbe4-62d2-4081-83a0-b90c4da34097\",\"type\":\"ResetTool\"},{\"id\":\"d5bd0693-7f47-4987-ad89-61cb5e667c42\",\"type\":\"HelpTool\"}]},\"id\":\"0a53c77a-88aa-4077-84d5-5c0c302f6002\",\"type\":\"Toolbar\"},{\"attributes\":{\"data_source\":{\"id\":\"e21ddddf-1f7e-4af6-b700-196c5eacdabc\",\"type\":\"ColumnDataSource\"},\"glyph\":{\"id\":\"ed73ece9-c3ac-4c63-aa6d-e9e933befb35\",\"type\":\"Line\"},\"hover_glyph\":null,\"muted_glyph\":null,\"nonselection_glyph\":{\"id\":\"aad8c0b3-b3f3-46c4-a284-da929bee740a\",\"type\":\"Line\"},\"selection_glyph\":null,\"view\":{\"id\":\"04c4f93d-af55-4ce6-a780-67418f8fa0d3\",\"type\":\"CDSView\"}},\"id\":\"f2e00ae0-b330-40cd-b8f8-b9e9a464b31e\",\"type\":\"GlyphRenderer\"},{\"attributes\":{\"callback\":null,\"data\":{\"x\":{\"__ndarray__\":\"ueoqjstxzr7o86sKdKfMvifrAF0lJMi+O5FRMFIlwr7NdABF++C0vmASaIm/Ana+GHO72j7wtj73aRL6dXrKPjzf/Uy1a9Y+tO/ZLkPJ4D4CnyIBD4TnPi0sQOQGmO8+gu6y9juZ9D6dnQ+d+Zf5PvoRTJh+/v0+7yzepDocAT+UWMGpR24DPx8v8UTc/AU/x09ZCLfNCD+9GkO96+YLP9Ngsosx9Q4/at0GQE2jDD+0D1Dic2wEPzvpLqHPzfk+pmajPm5Z7j5HhnT0nizfPpYIi7uPRcY+uJ9SKlebh770yTeMw8a7vgwumBEBs8W+MIM0e9q8y75irVoM2SfQvkiiU1/2H9G+Stp7BX3R0L6trPbsGxTQvraZFTN+TM6+8lSm2IO3zL5ayhHhe+/MvvWjfa0DttS+Jmto+h0l3L6enZ+TxZrivpPvoqJ0jea+wC/EQtai6r5F551yXIbvvgwdrHcjVPK+a7Ywbc+L8r4f7RXWpZXpvhfafjRBMqo+2EovKGbu/D7djTBpkDYYP5GhfwDpqyw/SWMoBZSLPD8rYThxhFxJP7h5moVasFQ/xN0dk4eLXz+sfevB0axmP4S66M9TDm8/jsTgJeVjdD8EQqAZ/8F5PzP+XX4VdX8/0zl0t0Gmgj/0r1HE1YmFPzfMIuVGUIg/LDgjllLoij8gX1UNaEiNPwKwU8YlaY8/9Sm7qLOdkD9654x7fleRPynO4Tspw5E/60xzTW7EkT8KYwCqdTCRP9WcIfTqHpA/UDG7IMPnjT+Qvy9Lhp6LP93PhMphbok/\",\"dtype\":\"float64\",\"shape\":[75]},\"y\":{\"__ndarray__\":\"GhExyth1ND/Sv8nbtpRIP2vylNV0PVE/aTum7souWD/At0SJ8fVgPw3Iuahxymc/MSNhhJWvcD/bTfBN02d3P2zb5nxnaoA/CD5h5MAGhz8NmeH1TyaQP+zrCsc9p5Y/LbKd76fGnz/bLW5ISEmmPww9YvTcQq8/JV2OstnstT8Er5Y7M8G+P0c+r3jqkcU/5h99k6ZBzj88bCIzFzjVP4enV8oyxN0//yH99nXg5D8qOpLLf0jtP5kqGJXUifQ/c9cS8kHP/D+/DpwzojQEQIEmwoanVwxA4lgXt9HgE0BSSZ2AJuIbQAMJih9jjiNA5q4l5INuK0AwTKYKRj0zQNv5fmq8/DpAaCJseHrtQkB/+zpwzoxKQM3MzMzMeFJAZmZmZmZqWEAAAAAAAFxeQM3MzMzMJmJAmpmZmZkfZUBmZmZmZhhoQDMzMzMzEWtAAAAAAAAKbkBmZmZmZoFwQM3MzMzM/XFAMzMzMzN6c0CamZmZmfZ0QAAAAAAAc3ZAZmZmZmbvd0DNzMzMzGt5QDMzMzMz6HpAmpmZmZlkfEAAAAAAAOF9QGZmZmZmXX9AZmZmZuZsgECamZmZGSuBQM3MzMxM6YFAAAAAAICngkAzMzMzs2WDQGZmZmbmI4RAmpmZmRnihEDNzMzMTKCFQAAAAACAXoZAMzMzM7Mch0BmZmZm5tqHQJqZmZkZmYhAzczMzExXiUAAAAAAgBWKQDMzMzOz04pAZmZmZuaRi0CamZmZGVCMQM3MzMxMDo1AAAAAAIDMjUAzMzMzs4qOQGZmZmbmSI9A\",\"dtype\":\"float64\",\"shape\":[75]}},\"selected\":{\"id\":\"333b31a1-9ec1-4e98-a032-2bce36856758\",\"type\":\"Selection\"},\"selection_policy\":{\"id\":\"8a50555c-706f-44ce-9a1e-0162116b30fd\",\"type\":\"UnionRenderers\"}},\"id\":\"8a2cd5a4-6fc7-4ffb-b15c-8b4b0e6179e1\",\"type\":\"ColumnDataSource\"},{\"attributes\":{\"line_color\":\"#4daf4a\",\"line_width\":1.5,\"x\":{\"field\":\"x\"},\"y\":{\"field\":\"y\"}},\"id\":\"e4b20509-fe28-437f-8f6c-5e579e26be63\",\"type\":\"Line\"},{\"attributes\":{\"fill_alpha\":{\"value\":0.7},\"fill_color\":{\"value\":\"#984ea3\"},\"line_alpha\":{\"value\":0.7},\"line_color\":{\"value\":\"#984ea3\"},\"x\":{\"field\":\"x\"},\"y\":{\"field\":\"y\"}},\"id\":\"59562f46-5c1e-4cbf-a0b0-87e14d56e049\",\"type\":\"Square\"},{\"attributes\":{\"axis_label\":\"cooling rate [K/day]\",\"formatter\":{\"id\":\"5705a88a-d517-49e5-bad8-9a7d0ccf117d\",\"type\":\"BasicTickFormatter\"},\"plot\":{\"id\":\"98d7c194-f34f-4c5c-befd-4d5d74c5a28c\",\"subtype\":\"Figure\",\"type\":\"Plot\"},\"ticker\":{\"id\":\"0077b19a-4c7f-41f4-983f-e02625eb16d5\",\"type\":\"BasicTicker\"}},\"id\":\"2869f2a5-0d2a-4191-a9ee-9e933fa0f263\",\"type\":\"LinearAxis\"},{\"attributes\":{\"fill_alpha\":{\"value\":0.1},\"fill_color\":{\"value\":\"#1f77b4\"},\"line_alpha\":{\"value\":0.1},\"line_color\":{\"value\":\"#1f77b4\"},\"x\":{\"field\":\"x\"},\"y\":{\"field\":\"y\"}},\"id\":\"32aa741c-68d3-4b7e-aa2b-169caab9d3df\",\"type\":\"Circle\"},{\"attributes\":{\"line_alpha\":0.1,\"line_color\":\"#1f77b4\",\"line_width\":1.5,\"x\":{\"field\":\"x\"},\"y\":{\"field\":\"y\"}},\"id\":\"caf780b1-d80b-442e-90b9-91c3ffdc1b40\",\"type\":\"Line\"},{\"attributes\":{\"below\":[{\"id\":\"2869f2a5-0d2a-4191-a9ee-9e933fa0f263\",\"type\":\"LinearAxis\"}],\"left\":[{\"id\":\"b628902a-0bdb-496c-b5d0-6c0969494b0d\",\"type\":\"LinearAxis\"}],\"plot_height\":500,\"plot_width\":400,\"renderers\":[{\"id\":\"2869f2a5-0d2a-4191-a9ee-9e933fa0f263\",\"type\":\"LinearAxis\"},{\"id\":\"0973056b-7e5b-4d98-ac38-e728f5885545\",\"type\":\"Grid\"},{\"id\":\"b628902a-0bdb-496c-b5d0-6c0969494b0d\",\"type\":\"LinearAxis\"},{\"id\":\"38ed47d6-3e3d-4295-87ca-95a16cb04240\",\"type\":\"Grid\"},{\"id\":\"96689c22-411b-4587-b94c-749d4339d2e4\",\"type\":\"BoxAnnotation\"},{\"id\":\"f2e00ae0-b330-40cd-b8f8-b9e9a464b31e\",\"type\":\"GlyphRenderer\"},{\"id\":\"2e5e6ba5-a0a5-492a-99fb-36cb7ba0633c\",\"type\":\"GlyphRenderer\"},{\"id\":\"083c4f42-4d57-461a-895d-3442e4158679\",\"type\":\"GlyphRenderer\"},{\"id\":\"20a037d9-cf65-47d3-8ec9-ea602cdc66c6\",\"type\":\"GlyphRenderer\"},{\"id\":\"8db5704e-df45-4669-a249-668202f6ecdd\",\"type\":\"GlyphRenderer\"}],\"title\":{\"id\":\"d26cac67-009c-4cfe-8714-18b054a0cfad\",\"type\":\"Title\"},\"toolbar\":{\"id\":\"4817414c-1b70-4d8b-b3aa-f755e798b423\",\"type\":\"Toolbar\"},\"toolbar_location\":null,\"x_range\":{\"id\":\"aa812f3b-659a-4bb8-b458-b6240d92938c\",\"type\":\"Range1d\"},\"x_scale\":{\"id\":\"ef19d6a7-e909-4f62-a8ba-7912bff4de1f\",\"type\":\"LinearScale\"},\"y_range\":{\"id\":\"b1526a6e-b0ae-46c4-ae48-76c2572e063d\",\"type\":\"Range1d\"},\"y_scale\":{\"id\":\"fb2b333e-3e83-4521-b36c-833a3251519a\",\"type\":\"LinearScale\"}},\"id\":\"98d7c194-f34f-4c5c-befd-4d5d74c5a28c\",\"subtype\":\"Figure\",\"type\":\"Plot\"},{\"attributes\":{\"callback\":null,\"data\":{\"x\":{\"__ndarray__\":\"ueoqjstxzr7o86sKdKfMvifrAF0lJMi+O5FRMFIlwr7NdABF++C0vmASaIm/Ana+GHO72j7wtj73aRL6dXrKPjzf/Uy1a9Y+tO/ZLkPJ4D4CnyIBD4TnPi0sQOQGmO8+gu6y9juZ9D6dnQ+d+Zf5PvoRTJh+/v0+7yzepDocAT+UWMGpR24DPx8v8UTc/AU/x09ZCLfNCD+9GkO96+YLP9Ngsosx9Q4/at0GQE2jDD+0D1Dic2wEPzvpLqHPzfk+pmajPm5Z7j5HhnT0nizfPpYIi7uPRcY+uJ9SKlebh770yTeMw8a7vgwumBEBs8W+MIM0e9q8y75irVoM2SfQvkiiU1/2H9G+Stp7BX3R0L6trPbsGxTQvraZFTN+TM6+8lSm2IO3zL5ayhHhe+/MvvWjfa0DttS+Jmto+h0l3L6enZ+TxZrivpPvoqJ0jea+wC/EQtai6r5F551yXIbvvgwdrHcjVPK+a7Ywbc+L8r4f7RXWpZXpvhfafjRBMqo+2EovKGbu/D7djTBpkDYYP5GhfwDpqyw/SWMoBZSLPD8rYThxhFxJP7h5moVasFQ/xN0dk4eLXz+sfevB0axmP4S66M9TDm8/jsTgJeVjdD8EQqAZ/8F5PzP+XX4VdX8/0zl0t0Gmgj/0r1HE1YmFPzfMIuVGUIg/LDgjllLoij8gX1UNaEiNPwKwU8YlaY8/9Sm7qLOdkD9654x7fleRPynO4Tspw5E/60xzTW7EkT8KYwCqdTCRP9WcIfTqHpA/UDG7IMPnjT+Qvy9Lhp6LP93PhMphbok/\",\"dtype\":\"float64\",\"shape\":[75]},\"y\":{\"__ndarray__\":\"GhExyth1ND/Sv8nbtpRIP2vylNV0PVE/aTum7souWD/At0SJ8fVgPw3Iuahxymc/MSNhhJWvcD/bTfBN02d3P2zb5nxnaoA/CD5h5MAGhz8NmeH1TyaQP+zrCsc9p5Y/LbKd76fGnz/bLW5ISEmmPww9YvTcQq8/JV2OstnstT8Er5Y7M8G+P0c+r3jqkcU/5h99k6ZBzj88bCIzFzjVP4enV8oyxN0//yH99nXg5D8qOpLLf0jtP5kqGJXUifQ/c9cS8kHP/D+/DpwzojQEQIEmwoanVwxA4lgXt9HgE0BSSZ2AJuIbQAMJih9jjiNA5q4l5INuK0AwTKYKRj0zQNv5fmq8/DpAaCJseHrtQkB/+zpwzoxKQM3MzMzMeFJAZmZmZmZqWEAAAAAAAFxeQM3MzMzMJmJAmpmZmZkfZUBmZmZmZhhoQDMzMzMzEWtAAAAAAAAKbkBmZmZmZoFwQM3MzMzM/XFAMzMzMzN6c0CamZmZmfZ0QAAAAAAAc3ZAZmZmZmbvd0DNzMzMzGt5QDMzMzMz6HpAmpmZmZlkfEAAAAAAAOF9QGZmZmZmXX9AZmZmZuZsgECamZmZGSuBQM3MzMxM6YFAAAAAAICngkAzMzMzs2WDQGZmZmbmI4RAmpmZmRnihEDNzMzMTKCFQAAAAACAXoZAMzMzM7Mch0BmZmZm5tqHQJqZmZkZmYhAzczMzExXiUAAAAAAgBWKQDMzMzOz04pAZmZmZuaRi0CamZmZGVCMQM3MzMxMDo1AAAAAAIDMjUAzMzMzs4qOQGZmZmbmSI9A\",\"dtype\":\"float64\",\"shape\":[75]}},\"selected\":{\"id\":\"a3340fd8-3d8d-4740-891c-8442ce272c65\",\"type\":\"Selection\"},\"selection_policy\":{\"id\":\"5a8c428e-43fb-439b-9c01-9920a4b65f4e\",\"type\":\"UnionRenderers\"}},\"id\":\"e2429dd0-8cd3-4cba-8d4b-15ac3cda141c\",\"type\":\"ColumnDataSource\"},{\"attributes\":{\"line_alpha\":0.6,\"line_color\":\"#e41a1c\",\"line_dash\":[6],\"line_width\":5,\"x\":{\"field\":\"x\"},\"y\":{\"field\":\"y\"}},\"id\":\"222d5f79-e8a5-4bf1-b01e-b466dd8831a3\",\"type\":\"Line\"},{\"attributes\":{},\"id\":\"ef19d6a7-e909-4f62-a8ba-7912bff4de1f\",\"type\":\"LinearScale\"},{\"attributes\":{\"line_alpha\":0.1,\"line_color\":\"#1f77b4\",\"line_width\":3,\"x\":{\"field\":\"x\"},\"y\":{\"field\":\"y\"}},\"id\":\"3e534911-78d4-4ccc-a5aa-506267ff3a1e\",\"type\":\"Line\"},{\"attributes\":{\"items\":[{\"id\":\"ca05630a-7042-4a1f-b853-20d63edc2ac2\",\"type\":\"LegendItem\"},{\"id\":\"e749bff7-5db1-4b1e-918c-12f75269dca5\",\"type\":\"LegendItem\"},{\"id\":\"8086276f-f81e-48db-935d-ae84b7815cfa\",\"type\":\"LegendItem\"}],\"label_text_font_size\":{\"value\":\"8pt\"},\"location\":[10,-30],\"plot\":{\"id\":\"b23cd87d-f1b2-4827-b636-6b30385ebae2\",\"subtype\":\"Figure\",\"type\":\"Plot\"}},\"id\":\"51dc0b0c-aad8-45ce-9604-8ae82da8e782\",\"type\":\"Legend\"},{\"attributes\":{\"line_alpha\":0.6,\"line_color\":\"#e41a1c\",\"line_dash\":[6],\"line_width\":5,\"x\":{\"field\":\"x\"},\"y\":{\"field\":\"y\"}},\"id\":\"ed73ece9-c3ac-4c63-aa6d-e9e933befb35\",\"type\":\"Line\"},{\"attributes\":{\"line_alpha\":0.6,\"line_color\":\"#984ea3\",\"line_width\":3,\"x\":{\"field\":\"x\"},\"y\":{\"field\":\"y\"}},\"id\":\"b4e7b405-18f3-42f1-b7f2-e78b03e7d919\",\"type\":\"Line\"},{\"attributes\":{\"data_source\":{\"id\":\"e2429dd0-8cd3-4cba-8d4b-15ac3cda141c\",\"type\":\"ColumnDataSource\"},\"glyph\":{\"id\":\"b4e7b405-18f3-42f1-b7f2-e78b03e7d919\",\"type\":\"Line\"},\"hover_glyph\":null,\"muted_glyph\":null,\"nonselection_glyph\":{\"id\":\"3e534911-78d4-4ccc-a5aa-506267ff3a1e\",\"type\":\"Line\"},\"selection_glyph\":null,\"view\":{\"id\":\"bbdba794-bc02-4cf0-bd97-13247a5c7fe6\",\"type\":\"CDSView\"}},\"id\":\"8db5704e-df45-4669-a249-668202f6ecdd\",\"type\":\"GlyphRenderer\"},{\"attributes\":{\"children\":[{\"id\":\"2b5195e7-c1b9-41b5-b2c2-59cb5c77994a\",\"type\":\"Row\"}]},\"id\":\"340b3b21-0ade-4ae4-be51-a1d726d19091\",\"type\":\"Column\"},{\"attributes\":{\"data_source\":{\"id\":\"8a2cd5a4-6fc7-4ffb-b15c-8b4b0e6179e1\",\"type\":\"ColumnDataSource\"},\"glyph\":{\"id\":\"59562f46-5c1e-4cbf-a0b0-87e14d56e049\",\"type\":\"Square\"},\"hover_glyph\":null,\"muted_glyph\":null,\"nonselection_glyph\":{\"id\":\"cf4718d7-69d9-44a3-8335-e282a7f6ce45\",\"type\":\"Square\"},\"selection_glyph\":null,\"view\":{\"id\":\"72c4b365-50e4-4c4e-9dc7-00d7a4a45b55\",\"type\":\"CDSView\"}},\"id\":\"20a037d9-cf65-47d3-8ec9-ea602cdc66c6\",\"type\":\"GlyphRenderer\"},{\"attributes\":{\"plot\":null,\"text\":\"Linear pressure scale\"},\"id\":\"d26cac67-009c-4cfe-8714-18b054a0cfad\",\"type\":\"Title\"},{\"attributes\":{\"callback\":null,\"end\":0.018844651165889997,\"start\":-0.00020529375488999998},\"id\":\"aa812f3b-659a-4bb8-b458-b6240d92938c\",\"type\":\"Range1d\"},{\"attributes\":{\"callback\":null,\"data\":{\"x\":{\"__ndarray__\":\"l1FZKA4F1L4fWNcQvPfRvvBS0vnD3Mm+P5UM7jeQub6A/fsg552dPnT4pdmBOsg+V3wiXpHB2D7EjG20thjkPp+Jr7YidO0+lh9YRStd9D7SK+i0Vh77Phucu9RglgE/LWrF5vhYBj9FLJtb9UULP1wnmS+dlw8/vZy6qIrcET+TSJacvR4UP/n3lUDnmBY/7nHAXd9PGT/F2aly8UccP2bLrtxqLx8/C9cHd/7kHD9DCdEbeecUP1dtH2uNGgs/oY+EK4CjAD/bIQNa26PyPsPxMSM0RuE+v6rvDdB1xT7vAwjQEVaavhOrpy3ec8K+CGLH4DW6zb7V3z4aGbjSvgZRDIoZ1NO+QOVJ5hl60r6FM2/4B2zQvnlRfXZjVsy+RnMq/gjUyL7ffO9s3j/IvggTslQeYtG+vwxgqYi2176kv+noFoXfvlx4/o2nOeO+HcYfhXXj5r7i9GmeU07rvoWBhokZvO++fGXhL+gG7r5eoGEnGlTavmL1qDR8w+Y+AL9MMSlhCT9QypdcNIAhP6WL5vf7JTM/O1M+p/I5Qj8FTbAKBWJPPx8l1QOW/1g/npHyXi+wYj+SH+oo0ndqPwqQgTEk5HE/mw+e/Uc1dz9buzYZKgZ9P/b8KYiTkYE/JW1Fw6uqhD9Pl882WrWHP2whK2zEm4o/BLR/LrJOjT8l1pMNLMaPPwlnO89t/JA/e7Vpjb3ukT/Ipsd8Ya6SPzTs6JkNG5M/B6LTZcQUkz/V8qqeMWuSP2BZupkJOpE/2pmLvezejz9KVBzFQVuNP3JYRXiuAYs/\",\"dtype\":\"float64\",\"shape\":[75]},\"y\":{\"__ndarray__\":\"GhExyth1ND/Sv8nbtpRIP2vylNV0PVE/aTum7souWD/At0SJ8fVgPw3Iuahxymc/MSNhhJWvcD/bTfBN02d3P2zb5nxnaoA/CD5h5MAGhz8NmeH1TyaQP+zrCsc9p5Y/LbKd76fGnz/bLW5ISEmmPww9YvTcQq8/JV2OstnstT8Er5Y7M8G+P0c+r3jqkcU/5h99k6ZBzj88bCIzFzjVP4enV8oyxN0//yH99nXg5D8qOpLLf0jtP5kqGJXUifQ/c9cS8kHP/D+/DpwzojQEQIEmwoanVwxA4lgXt9HgE0BSSZ2AJuIbQAMJih9jjiNA5q4l5INuK0AwTKYKRj0zQNv5fmq8/DpAaCJseHrtQkB/+zpwzoxKQM3MzMzMeFJAZmZmZmZqWEAAAAAAAFxeQM3MzMzMJmJAmpmZmZkfZUBmZmZmZhhoQDMzMzMzEWtAAAAAAAAKbkBmZmZmZoFwQM3MzMzM/XFAMzMzMzN6c0CamZmZmfZ0QAAAAAAAc3ZAZmZmZmbvd0DNzMzMzGt5QDMzMzMz6HpAmpmZmZlkfEAAAAAAAOF9QGZmZmZmXX9AZmZmZuZsgECamZmZGSuBQM3MzMxM6YFAAAAAAICngkAzMzMzs2WDQGZmZmbmI4RAmpmZmRnihEDNzMzMTKCFQAAAAACAXoZAMzMzM7Mch0BmZmZm5tqHQJqZmZkZmYhAzczMzExXiUAAAAAAgBWKQDMzMzOz04pAZmZmZuaRi0CamZmZGVCMQM3MzMxMDo1AAAAAAIDMjUAzMzMzs4qOQGZmZmbmSI9A\",\"dtype\":\"float64\",\"shape\":[75]}},\"selected\":{\"id\":\"ccbe71c1-9efb-4434-967c-3b33cbf9daf2\",\"type\":\"Selection\"},\"selection_policy\":{\"id\":\"f0c0a381-c80d-401a-b58d-876975a59750\",\"type\":\"UnionRenderers\"}},\"id\":\"3c5399fe-400e-4977-8b3e-f06600f52ace\",\"type\":\"ColumnDataSource\"},{\"attributes\":{\"data_source\":{\"id\":\"3c5399fe-400e-4977-8b3e-f06600f52ace\",\"type\":\"ColumnDataSource\"},\"glyph\":{\"id\":\"e4b20509-fe28-437f-8f6c-5e579e26be63\",\"type\":\"Line\"},\"hover_glyph\":null,\"muted_glyph\":null,\"nonselection_glyph\":{\"id\":\"caf780b1-d80b-442e-90b9-91c3ffdc1b40\",\"type\":\"Line\"},\"selection_glyph\":null,\"view\":{\"id\":\"594a9e5d-2f1d-4fb9-9e96-2e6616aa9bec\",\"type\":\"CDSView\"}},\"id\":\"083c4f42-4d57-461a-895d-3442e4158679\",\"type\":\"GlyphRenderer\"},{\"attributes\":{},\"id\":\"fb2b333e-3e83-4521-b36c-833a3251519a\",\"type\":\"LinearScale\"},{\"attributes\":{\"data_source\":{\"id\":\"406350be-b950-4f3e-be12-e39c8bd54010\",\"type\":\"ColumnDataSource\"},\"glyph\":{\"id\":\"48372d4a-6804-4465-ac0d-af651b6ca9d0\",\"type\":\"Circle\"},\"hover_glyph\":null,\"muted_glyph\":null,\"nonselection_glyph\":{\"id\":\"32aa741c-68d3-4b7e-aa2b-169caab9d3df\",\"type\":\"Circle\"},\"selection_glyph\":null,\"view\":{\"id\":\"4394ae7f-17de-4da9-a962-8dc546dbbd44\",\"type\":\"CDSView\"}},\"id\":\"2e5e6ba5-a0a5-492a-99fb-36cb7ba0633c\",\"type\":\"GlyphRenderer\"},{\"attributes\":{\"active_drag\":\"auto\",\"active_inspect\":\"auto\",\"active_scroll\":\"auto\",\"active_tap\":\"auto\",\"tools\":[{\"id\":\"87741570-f59e-4421-9c8e-a04a8a8a10ee\",\"type\":\"PanTool\"},{\"id\":\"470f094f-08cd-4c5c-8a12-e8991097f35f\",\"type\":\"WheelZoomTool\"},{\"id\":\"94e085fa-4cc2-4295-8704-a5b80da8882e\",\"type\":\"BoxZoomTool\"},{\"id\":\"86992e9b-ea2d-489a-a71b-413109d13aa5\",\"type\":\"SaveTool\"},{\"id\":\"2b54856a-31e3-4503-8787-7efb124cfe37\",\"type\":\"ResetTool\"},{\"id\":\"9b053102-5a94-4a31-a366-bb6d9a895480\",\"type\":\"HelpTool\"}]},\"id\":\"4817414c-1b70-4d8b-b3aa-f755e798b423\",\"type\":\"Toolbar\"},{\"attributes\":{\"source\":{\"id\":\"406350be-b950-4f3e-be12-e39c8bd54010\",\"type\":\"ColumnDataSource\"}},\"id\":\"4394ae7f-17de-4da9-a962-8dc546dbbd44\",\"type\":\"CDSView\"},{\"attributes\":{\"source\":{\"id\":\"8a2cd5a4-6fc7-4ffb-b15c-8b4b0e6179e1\",\"type\":\"ColumnDataSource\"}},\"id\":\"72c4b365-50e4-4c4e-9dc7-00d7a4a45b55\",\"type\":\"CDSView\"},{\"attributes\":{\"fill_alpha\":{\"value\":0.7},\"fill_color\":{\"value\":\"#4daf4a\"},\"line_alpha\":{\"value\":0.7},\"line_color\":{\"value\":\"#4daf4a\"},\"x\":{\"field\":\"x\"},\"y\":{\"field\":\"y\"}},\"id\":\"48372d4a-6804-4465-ac0d-af651b6ca9d0\",\"type\":\"Circle\"},{\"attributes\":{\"source\":{\"id\":\"3c5399fe-400e-4977-8b3e-f06600f52ace\",\"type\":\"ColumnDataSource\"}},\"id\":\"594a9e5d-2f1d-4fb9-9e96-2e6616aa9bec\",\"type\":\"CDSView\"},{\"attributes\":{\"callback\":null,\"data\":{\"x\":{\"__ndarray__\":\"l1FZKA4F1L4fWNcQvPfRvvBS0vnD3Mm+P5UM7jeQub6A/fsg552dPnT4pdmBOsg+V3wiXpHB2D7EjG20thjkPp+Jr7YidO0+lh9YRStd9D7SK+i0Vh77Phucu9RglgE/LWrF5vhYBj9FLJtb9UULP1wnmS+dlw8/vZy6qIrcET+TSJacvR4UP/n3lUDnmBY/7nHAXd9PGT/F2aly8UccP2bLrtxqLx8/C9cHd/7kHD9DCdEbeecUP1dtH2uNGgs/oY+EK4CjAD/bIQNa26PyPsPxMSM0RuE+v6rvDdB1xT7vAwjQEVaavhOrpy3ec8K+CGLH4DW6zb7V3z4aGbjSvgZRDIoZ1NO+QOVJ5hl60r6FM2/4B2zQvnlRfXZjVsy+RnMq/gjUyL7ffO9s3j/IvggTslQeYtG+vwxgqYi2176kv+noFoXfvlx4/o2nOeO+HcYfhXXj5r7i9GmeU07rvoWBhokZvO++fGXhL+gG7r5eoGEnGlTavmL1qDR8w+Y+AL9MMSlhCT9QypdcNIAhP6WL5vf7JTM/O1M+p/I5Qj8FTbAKBWJPPx8l1QOW/1g/npHyXi+wYj+SH+oo0ndqPwqQgTEk5HE/mw+e/Uc1dz9buzYZKgZ9P/b8KYiTkYE/JW1Fw6uqhD9Pl882WrWHP2whK2zEm4o/BLR/LrJOjT8l1pMNLMaPPwlnO89t/JA/e7Vpjb3ukT/Ipsd8Ya6SPzTs6JkNG5M/B6LTZcQUkz/V8qqeMWuSP2BZupkJOpE/2pmLvezejz9KVBzFQVuNP3JYRXiuAYs/\",\"dtype\":\"float64\",\"shape\":[75]},\"y\":{\"__ndarray__\":\"GhExyth1ND/Sv8nbtpRIP2vylNV0PVE/aTum7souWD/At0SJ8fVgPw3Iuahxymc/MSNhhJWvcD/bTfBN02d3P2zb5nxnaoA/CD5h5MAGhz8NmeH1TyaQP+zrCsc9p5Y/LbKd76fGnz/bLW5ISEmmPww9YvTcQq8/JV2OstnstT8Er5Y7M8G+P0c+r3jqkcU/5h99k6ZBzj88bCIzFzjVP4enV8oyxN0//yH99nXg5D8qOpLLf0jtP5kqGJXUifQ/c9cS8kHP/D+/DpwzojQEQIEmwoanVwxA4lgXt9HgE0BSSZ2AJuIbQAMJih9jjiNA5q4l5INuK0AwTKYKRj0zQNv5fmq8/DpAaCJseHrtQkB/+zpwzoxKQM3MzMzMeFJAZmZmZmZqWEAAAAAAAFxeQM3MzMzMJmJAmpmZmZkfZUBmZmZmZhhoQDMzMzMzEWtAAAAAAAAKbkBmZmZmZoFwQM3MzMzM/XFAMzMzMzN6c0CamZmZmfZ0QAAAAAAAc3ZAZmZmZmbvd0DNzMzMzGt5QDMzMzMz6HpAmpmZmZlkfEAAAAAAAOF9QGZmZmZmXX9AZmZmZuZsgECamZmZGSuBQM3MzMxM6YFAAAAAAICngkAzMzMzs2WDQGZmZmbmI4RAmpmZmRnihEDNzMzMTKCFQAAAAACAXoZAMzMzM7Mch0BmZmZm5tqHQJqZmZkZmYhAzczMzExXiUAAAAAAgBWKQDMzMzOz04pAZmZmZuaRi0CamZmZGVCMQM3MzMxMDo1AAAAAAIDMjUAzMzMzs4qOQGZmZmbmSI9A\",\"dtype\":\"float64\",\"shape\":[75]}},\"selected\":{\"id\":\"d3dd7fa2-2b25-4a3d-ba39-fa803802b528\",\"type\":\"Selection\"},\"selection_policy\":{\"id\":\"d05c8ad3-1953-4bd3-bc18-c37e176701fe\",\"type\":\"UnionRenderers\"}},\"id\":\"082f46e8-82e7-4166-bcf0-b88d96278038\",\"type\":\"ColumnDataSource\"},{\"attributes\":{\"source\":{\"id\":\"082f46e8-82e7-4166-bcf0-b88d96278038\",\"type\":\"ColumnDataSource\"}},\"id\":\"6d72ea2e-38af-49ea-8959-523bb1acccab\",\"type\":\"CDSView\"},{\"attributes\":{\"data_source\":{\"id\":\"082f46e8-82e7-4166-bcf0-b88d96278038\",\"type\":\"ColumnDataSource\"},\"glyph\":{\"id\":\"f5d50594-f13c-4fe0-8cf6-37514fb4ecf6\",\"type\":\"Circle\"},\"hover_glyph\":null,\"muted_glyph\":null,\"nonselection_glyph\":{\"id\":\"58233b6c-27ad-433e-a1b6-b2105fd4ddc3\",\"type\":\"Circle\"},\"selection_glyph\":null,\"view\":{\"id\":\"6d72ea2e-38af-49ea-8959-523bb1acccab\",\"type\":\"CDSView\"}},\"id\":\"199caebd-c159-4e1f-a511-689d8c4b06d5\",\"type\":\"GlyphRenderer\"},{\"attributes\":{},\"id\":\"9f5792fc-6246-437e-a108-b9028d942b23\",\"type\":\"LogScale\"},{\"attributes\":{\"axis_label\":\"pressure [mb]\",\"formatter\":{\"id\":\"b03ec949-078e-48e1-b157-5692d263d52b\",\"type\":\"LogTickFormatter\"},\"plot\":{\"id\":\"b23cd87d-f1b2-4827-b636-6b30385ebae2\",\"subtype\":\"Figure\",\"type\":\"Plot\"},\"ticker\":{\"id\":\"c0d08ed9-d2f9-4290-bfc8-db476d9d5411\",\"type\":\"LogTicker\"}},\"id\":\"eed2ad94-e8cc-42e0-bb93-d23458ba1187\",\"type\":\"LogAxis\"},{\"attributes\":{\"axis_label\":\"cooling rate [K/day]\",\"formatter\":{\"id\":\"d41886da-95f6-4314-a185-ca3e2a6fc4b4\",\"type\":\"BasicTickFormatter\"},\"plot\":{\"id\":\"b23cd87d-f1b2-4827-b636-6b30385ebae2\",\"subtype\":\"Figure\",\"type\":\"Plot\"},\"ticker\":{\"id\":\"20d05265-1666-4fec-a7f0-66c7d61d7b2f\",\"type\":\"BasicTicker\"}},\"id\":\"4f3ee4c1-b6d4-4bdc-af45-6319df07492b\",\"type\":\"LinearAxis\"},{\"attributes\":{\"line_color\":\"#4daf4a\",\"line_width\":1.5,\"x\":{\"field\":\"x\"},\"y\":{\"field\":\"y\"}},\"id\":\"b530f741-caee-4af7-a62d-d02a457e8583\",\"type\":\"Line\"},{\"attributes\":{\"callback\":null,\"data\":{\"x\":{\"__ndarray__\":\"ueoqjstxzr7o86sKdKfMvifrAF0lJMi+O5FRMFIlwr7NdABF++C0vmASaIm/Ana+GHO72j7wtj73aRL6dXrKPjzf/Uy1a9Y+tO/ZLkPJ4D4CnyIBD4TnPi0sQOQGmO8+gu6y9juZ9D6dnQ+d+Zf5PvoRTJh+/v0+7yzepDocAT+UWMGpR24DPx8v8UTc/AU/x09ZCLfNCD+9GkO96+YLP9Ngsosx9Q4/at0GQE2jDD+0D1Dic2wEPzvpLqHPzfk+pmajPm5Z7j5HhnT0nizfPpYIi7uPRcY+uJ9SKlebh770yTeMw8a7vgwumBEBs8W+MIM0e9q8y75irVoM2SfQvkiiU1/2H9G+Stp7BX3R0L6trPbsGxTQvraZFTN+TM6+8lSm2IO3zL5ayhHhe+/MvvWjfa0DttS+Jmto+h0l3L6enZ+TxZrivpPvoqJ0jea+wC/EQtai6r5F551yXIbvvgwdrHcjVPK+a7Ywbc+L8r4f7RXWpZXpvhfafjRBMqo+2EovKGbu/D7djTBpkDYYP5GhfwDpqyw/SWMoBZSLPD8rYThxhFxJP7h5moVasFQ/xN0dk4eLXz+sfevB0axmP4S66M9TDm8/jsTgJeVjdD8EQqAZ/8F5PzP+XX4VdX8/0zl0t0Gmgj/0r1HE1YmFPzfMIuVGUIg/LDgjllLoij8gX1UNaEiNPwKwU8YlaY8/9Sm7qLOdkD9654x7fleRPynO4Tspw5E/60xzTW7EkT8KYwCqdTCRP9WcIfTqHpA/UDG7IMPnjT+Qvy9Lhp6LP93PhMphbok/\",\"dtype\":\"float64\",\"shape\":[75]},\"y\":{\"__ndarray__\":\"GhExyth1ND/Sv8nbtpRIP2vylNV0PVE/aTum7souWD/At0SJ8fVgPw3Iuahxymc/MSNhhJWvcD/bTfBN02d3P2zb5nxnaoA/CD5h5MAGhz8NmeH1TyaQP+zrCsc9p5Y/LbKd76fGnz/bLW5ISEmmPww9YvTcQq8/JV2OstnstT8Er5Y7M8G+P0c+r3jqkcU/5h99k6ZBzj88bCIzFzjVP4enV8oyxN0//yH99nXg5D8qOpLLf0jtP5kqGJXUifQ/c9cS8kHP/D+/DpwzojQEQIEmwoanVwxA4lgXt9HgE0BSSZ2AJuIbQAMJih9jjiNA5q4l5INuK0AwTKYKRj0zQNv5fmq8/DpAaCJseHrtQkB/+zpwzoxKQM3MzMzMeFJAZmZmZmZqWEAAAAAAAFxeQM3MzMzMJmJAmpmZmZkfZUBmZmZmZhhoQDMzMzMzEWtAAAAAAAAKbkBmZmZmZoFwQM3MzMzM/XFAMzMzMzN6c0CamZmZmfZ0QAAAAAAAc3ZAZmZmZmbvd0DNzMzMzGt5QDMzMzMz6HpAmpmZmZlkfEAAAAAAAOF9QGZmZmZmXX9AZmZmZuZsgECamZmZGSuBQM3MzMxM6YFAAAAAAICngkAzMzMzs2WDQGZmZmbmI4RAmpmZmRnihEDNzMzMTKCFQAAAAACAXoZAMzMzM7Mch0BmZmZm5tqHQJqZmZkZmYhAzczMzExXiUAAAAAAgBWKQDMzMzOz04pAZmZmZuaRi0CamZmZGVCMQM3MzMxMDo1AAAAAAIDMjUAzMzMzs4qOQGZmZmbmSI9A\",\"dtype\":\"float64\",\"shape\":[75]}},\"selected\":{\"id\":\"55c055b4-b49e-48e4-af13-147b1655d9ff\",\"type\":\"Selection\"},\"selection_policy\":{\"id\":\"19a548d2-e4cb-433b-b187-98550c3e7db8\",\"type\":\"UnionRenderers\"}},\"id\":\"96161b6d-7bf3-4825-8777-7601b39870ab\",\"type\":\"ColumnDataSource\"},{\"attributes\":{},\"id\":\"10d1cbe4-62d2-4081-83a0-b90c4da34097\",\"type\":\"ResetTool\"},{\"attributes\":{\"callback\":null,\"data\":{\"x\":{\"__ndarray__\":\"ueoqjstxzr7o86sKdKfMvifrAF0lJMi+O5FRMFIlwr7NdABF++C0vmASaIm/Ana+GHO72j7wtj73aRL6dXrKPjzf/Uy1a9Y+tO/ZLkPJ4D4CnyIBD4TnPi0sQOQGmO8+gu6y9juZ9D6dnQ+d+Zf5PvoRTJh+/v0+7yzepDocAT+UWMGpR24DPx8v8UTc/AU/x09ZCLfNCD+9GkO96+YLP9Ngsosx9Q4/at0GQE2jDD+0D1Dic2wEPzvpLqHPzfk+pmajPm5Z7j5HhnT0nizfPpYIi7uPRcY+uJ9SKlebh770yTeMw8a7vgwumBEBs8W+MIM0e9q8y75irVoM2SfQvkiiU1/2H9G+Stp7BX3R0L6trPbsGxTQvraZFTN+TM6+8lSm2IO3zL5ayhHhe+/MvvWjfa0DttS+Jmto+h0l3L6enZ+TxZrivpPvoqJ0jea+wC/EQtai6r5F551yXIbvvgwdrHcjVPK+a7Ywbc+L8r4f7RXWpZXpvhfafjRBMqo+2EovKGbu/D7djTBpkDYYP5GhfwDpqyw/SWMoBZSLPD8rYThxhFxJP7h5moVasFQ/xN0dk4eLXz+sfevB0axmP4S66M9TDm8/jsTgJeVjdD8EQqAZ/8F5PzP+XX4VdX8/0zl0t0Gmgj/0r1HE1YmFPzfMIuVGUIg/LDgjllLoij8gX1UNaEiNPwKwU8YlaY8/9Sm7qLOdkD9654x7fleRPynO4Tspw5E/60xzTW7EkT8KYwCqdTCRP9WcIfTqHpA/UDG7IMPnjT+Qvy9Lhp6LP93PhMphbok/\",\"dtype\":\"float64\",\"shape\":[75]},\"y\":{\"__ndarray__\":\"GhExyth1ND/Sv8nbtpRIP2vylNV0PVE/aTum7souWD/At0SJ8fVgPw3Iuahxymc/MSNhhJWvcD/bTfBN02d3P2zb5nxnaoA/CD5h5MAGhz8NmeH1TyaQP+zrCsc9p5Y/LbKd76fGnz/bLW5ISEmmPww9YvTcQq8/JV2OstnstT8Er5Y7M8G+P0c+r3jqkcU/5h99k6ZBzj88bCIzFzjVP4enV8oyxN0//yH99nXg5D8qOpLLf0jtP5kqGJXUifQ/c9cS8kHP/D+/DpwzojQEQIEmwoanVwxA4lgXt9HgE0BSSZ2AJuIbQAMJih9jjiNA5q4l5INuK0AwTKYKRj0zQNv5fmq8/DpAaCJseHrtQkB/+zpwzoxKQM3MzMzMeFJAZmZmZmZqWEAAAAAAAFxeQM3MzMzMJmJAmpmZmZkfZUBmZmZmZhhoQDMzMzMzEWtAAAAAAAAKbkBmZmZmZoFwQM3MzMzM/XFAMzMzMzN6c0CamZmZmfZ0QAAAAAAAc3ZAZmZmZmbvd0DNzMzMzGt5QDMzMzMz6HpAmpmZmZlkfEAAAAAAAOF9QGZmZmZmXX9AZmZmZuZsgECamZmZGSuBQM3MzMxM6YFAAAAAAICngkAzMzMzs2WDQGZmZmbmI4RAmpmZmRnihEDNzMzMTKCFQAAAAACAXoZAMzMzM7Mch0BmZmZm5tqHQJqZmZkZmYhAzczMzExXiUAAAAAAgBWKQDMzMzOz04pAZmZmZuaRi0CamZmZGVCMQM3MzMxMDo1AAAAAAIDMjUAzMzMzs4qOQGZmZmbmSI9A\",\"dtype\":\"float64\",\"shape\":[75]}},\"selected\":{\"id\":\"2af0793c-ddaa-4ccf-a656-65fff8eb57d4\",\"type\":\"Selection\"},\"selection_policy\":{\"id\":\"9b007b58-fe78-40c6-b0e4-411a458b04a0\",\"type\":\"UnionRenderers\"}},\"id\":\"7f250377-0656-45ed-af91-00a3f633b4e6\",\"type\":\"ColumnDataSource\"},{\"attributes\":{\"source\":{\"id\":\"6c9520a6-71fd-41d9-b46a-a46c85b2a6f4\",\"type\":\"ColumnDataSource\"}},\"id\":\"c27101fc-cbd6-402b-887a-93ecb3183c2a\",\"type\":\"CDSView\"},{\"attributes\":{\"dimension\":1,\"plot\":{\"id\":\"b23cd87d-f1b2-4827-b636-6b30385ebae2\",\"subtype\":\"Figure\",\"type\":\"Plot\"},\"ticker\":{\"id\":\"c0d08ed9-d2f9-4290-bfc8-db476d9d5411\",\"type\":\"LogTicker\"}},\"id\":\"3a466ac0-9fd8-4f05-86da-11da366ba47e\",\"type\":\"Grid\"},{\"attributes\":{\"fill_alpha\":{\"value\":0.1},\"fill_color\":{\"value\":\"#1f77b4\"},\"line_alpha\":{\"value\":0.1},\"line_color\":{\"value\":\"#1f77b4\"},\"x\":{\"field\":\"x\"},\"y\":{\"field\":\"y\"}},\"id\":\"58233b6c-27ad-433e-a1b6-b2105fd4ddc3\",\"type\":\"Circle\"},{\"attributes\":{\"source\":{\"id\":\"7f250377-0656-45ed-af91-00a3f633b4e6\",\"type\":\"ColumnDataSource\"}},\"id\":\"84740c48-ba3b-4dca-a84f-5bf73999584d\",\"type\":\"CDSView\"},{\"attributes\":{\"plot\":{\"id\":\"b23cd87d-f1b2-4827-b636-6b30385ebae2\",\"subtype\":\"Figure\",\"type\":\"Plot\"},\"ticker\":{\"id\":\"20d05265-1666-4fec-a7f0-66c7d61d7b2f\",\"type\":\"BasicTicker\"}},\"id\":\"fa22c793-411e-48b1-99a1-5ad768cb055a\",\"type\":\"Grid\"},{\"attributes\":{\"data_source\":{\"id\":\"96161b6d-7bf3-4825-8777-7601b39870ab\",\"type\":\"ColumnDataSource\"},\"glyph\":{\"id\":\"b5dd80d1-3db0-487d-8294-58fdae59b695\",\"type\":\"Line\"},\"hover_glyph\":null,\"muted_glyph\":null,\"nonselection_glyph\":{\"id\":\"9c2c6c99-50d2-4ad0-96cd-a2cab9da1d6f\",\"type\":\"Line\"},\"selection_glyph\":null,\"view\":{\"id\":\"c9d91f39-b616-49ec-9691-ee11c1b55c02\",\"type\":\"CDSView\"}},\"id\":\"5acd176f-3306-43ef-81fe-ff407aadd324\",\"type\":\"GlyphRenderer\"},{\"attributes\":{\"num_minor_ticks\":10},\"id\":\"c0d08ed9-d2f9-4290-bfc8-db476d9d5411\",\"type\":\"LogTicker\"},{\"attributes\":{\"fill_alpha\":{\"value\":0.7},\"fill_color\":{\"value\":\"#4daf4a\"},\"line_alpha\":{\"value\":0.7},\"line_color\":{\"value\":\"#4daf4a\"},\"x\":{\"field\":\"x\"},\"y\":{\"field\":\"y\"}},\"id\":\"f5d50594-f13c-4fe0-8cf6-37514fb4ecf6\",\"type\":\"Circle\"},{\"attributes\":{\"callback\":null,\"end\":0.01,\"start\":1020},\"id\":\"a864db10-b77e-4826-b52f-c586807115a7\",\"type\":\"Range1d\"},{\"attributes\":{\"callback\":null,\"data\":{\"x\":{\"__ndarray__\":\"l1FZKA4F1L4fWNcQvPfRvvBS0vnD3Mm+P5UM7jeQub6A/fsg552dPnT4pdmBOsg+V3wiXpHB2D7EjG20thjkPp+Jr7YidO0+lh9YRStd9D7SK+i0Vh77Phucu9RglgE/LWrF5vhYBj9FLJtb9UULP1wnmS+dlw8/vZy6qIrcET+TSJacvR4UP/n3lUDnmBY/7nHAXd9PGT/F2aly8UccP2bLrtxqLx8/C9cHd/7kHD9DCdEbeecUP1dtH2uNGgs/oY+EK4CjAD/bIQNa26PyPsPxMSM0RuE+v6rvDdB1xT7vAwjQEVaavhOrpy3ec8K+CGLH4DW6zb7V3z4aGbjSvgZRDIoZ1NO+QOVJ5hl60r6FM2/4B2zQvnlRfXZjVsy+RnMq/gjUyL7ffO9s3j/IvggTslQeYtG+vwxgqYi2176kv+noFoXfvlx4/o2nOeO+HcYfhXXj5r7i9GmeU07rvoWBhokZvO++fGXhL+gG7r5eoGEnGlTavmL1qDR8w+Y+AL9MMSlhCT9QypdcNIAhP6WL5vf7JTM/O1M+p/I5Qj8FTbAKBWJPPx8l1QOW/1g/npHyXi+wYj+SH+oo0ndqPwqQgTEk5HE/mw+e/Uc1dz9buzYZKgZ9P/b8KYiTkYE/JW1Fw6uqhD9Pl882WrWHP2whK2zEm4o/BLR/LrJOjT8l1pMNLMaPPwlnO89t/JA/e7Vpjb3ukT/Ipsd8Ya6SPzTs6JkNG5M/B6LTZcQUkz/V8qqeMWuSP2BZupkJOpE/2pmLvezejz9KVBzFQVuNP3JYRXiuAYs/\",\"dtype\":\"float64\",\"shape\":[75]},\"y\":{\"__ndarray__\":\"GhExyth1ND/Sv8nbtpRIP2vylNV0PVE/aTum7souWD/At0SJ8fVgPw3Iuahxymc/MSNhhJWvcD/bTfBN02d3P2zb5nxnaoA/CD5h5MAGhz8NmeH1TyaQP+zrCsc9p5Y/LbKd76fGnz/bLW5ISEmmPww9YvTcQq8/JV2OstnstT8Er5Y7M8G+P0c+r3jqkcU/5h99k6ZBzj88bCIzFzjVP4enV8oyxN0//yH99nXg5D8qOpLLf0jtP5kqGJXUifQ/c9cS8kHP/D+/DpwzojQEQIEmwoanVwxA4lgXt9HgE0BSSZ2AJuIbQAMJih9jjiNA5q4l5INuK0AwTKYKRj0zQNv5fmq8/DpAaCJseHrtQkB/+zpwzoxKQM3MzMzMeFJAZmZmZmZqWEAAAAAAAFxeQM3MzMzMJmJAmpmZmZkfZUBmZmZmZhhoQDMzMzMzEWtAAAAAAAAKbkBmZmZmZoFwQM3MzMzM/XFAMzMzMzN6c0CamZmZmfZ0QAAAAAAAc3ZAZmZmZmbvd0DNzMzMzGt5QDMzMzMz6HpAmpmZmZlkfEAAAAAAAOF9QGZmZmZmXX9AZmZmZuZsgECamZmZGSuBQM3MzMxM6YFAAAAAAICngkAzMzMzs2WDQGZmZmbmI4RAmpmZmRnihEDNzMzMTKCFQAAAAACAXoZAMzMzM7Mch0BmZmZm5tqHQJqZmZkZmYhAzczMzExXiUAAAAAAgBWKQDMzMzOz04pAZmZmZuaRi0CamZmZGVCMQM3MzMxMDo1AAAAAAIDMjUAzMzMzs4qOQGZmZmbmSI9A\",\"dtype\":\"float64\",\"shape\":[75]}},\"selected\":{\"id\":\"25eb6fa3-90d1-4eae-8a44-9b101272a203\",\"type\":\"Selection\"},\"selection_policy\":{\"id\":\"c8a15db0-649f-4627-92ef-6171d461ecee\",\"type\":\"UnionRenderers\"}},\"id\":\"25e46b31-9c57-4560-b857-d177e9228142\",\"type\":\"ColumnDataSource\"},{\"attributes\":{\"line_alpha\":0.1,\"line_color\":\"#1f77b4\",\"line_width\":1.5,\"x\":{\"field\":\"x\"},\"y\":{\"field\":\"y\"}},\"id\":\"ac738f65-237e-4831-a2d0-ed4a0c9ed739\",\"type\":\"Line\"},{\"attributes\":{\"data_source\":{\"id\":\"25e46b31-9c57-4560-b857-d177e9228142\",\"type\":\"ColumnDataSource\"},\"glyph\":{\"id\":\"b530f741-caee-4af7-a62d-d02a457e8583\",\"type\":\"Line\"},\"hover_glyph\":null,\"muted_glyph\":null,\"nonselection_glyph\":{\"id\":\"ac738f65-237e-4831-a2d0-ed4a0c9ed739\",\"type\":\"Line\"},\"selection_glyph\":null,\"view\":{\"id\":\"b0b836f5-5e9e-4262-9ea6-a58ac289a416\",\"type\":\"CDSView\"}},\"id\":\"57665c31-9e7a-4326-a1c2-60483a792881\",\"type\":\"GlyphRenderer\"},{\"attributes\":{},\"id\":\"ebbfb03a-289b-4cac-898f-573c74e0d693\",\"type\":\"PanTool\"},{\"attributes\":{\"source\":{\"id\":\"25e46b31-9c57-4560-b857-d177e9228142\",\"type\":\"ColumnDataSource\"}},\"id\":\"b0b836f5-5e9e-4262-9ea6-a58ac289a416\",\"type\":\"CDSView\"},{\"attributes\":{\"fill_alpha\":{\"value\":0.7},\"fill_color\":{\"value\":\"#984ea3\"},\"line_alpha\":{\"value\":0.7},\"line_color\":{\"value\":\"#984ea3\"},\"x\":{\"field\":\"x\"},\"y\":{\"field\":\"y\"}},\"id\":\"74a90c3f-eae2-44af-91a7-be739c172527\",\"type\":\"Square\"},{\"attributes\":{\"children\":[{\"id\":\"98d7c194-f34f-4c5c-befd-4d5d74c5a28c\",\"subtype\":\"Figure\",\"type\":\"Plot\"},{\"id\":\"b23cd87d-f1b2-4827-b636-6b30385ebae2\",\"subtype\":\"Figure\",\"type\":\"Plot\"}]},\"id\":\"2b5195e7-c1b9-41b5-b2c2-59cb5c77994a\",\"type\":\"Row\"},{\"attributes\":{\"overlay\":{\"id\":\"86c21159-9e9d-4b79-aa70-b81213c02bcf\",\"type\":\"BoxAnnotation\"}},\"id\":\"14b3acfc-525e-4d52-91c7-fd721588885f\",\"type\":\"BoxZoomTool\"},{\"attributes\":{\"line_alpha\":0.1,\"line_color\":\"#1f77b4\",\"line_width\":3,\"x\":{\"field\":\"x\"},\"y\":{\"field\":\"y\"}},\"id\":\"9c2c6c99-50d2-4ad0-96cd-a2cab9da1d6f\",\"type\":\"Line\"},{\"attributes\":{\"source\":{\"id\":\"96161b6d-7bf3-4825-8777-7601b39870ab\",\"type\":\"ColumnDataSource\"}},\"id\":\"c9d91f39-b616-49ec-9691-ee11c1b55c02\",\"type\":\"CDSView\"},{\"attributes\":{},\"id\":\"5705a88a-d517-49e5-bad8-9a7d0ccf117d\",\"type\":\"BasicTickFormatter\"},{\"attributes\":{\"line_alpha\":0.6,\"line_color\":\"#984ea3\",\"line_width\":3,\"x\":{\"field\":\"x\"},\"y\":{\"field\":\"y\"}},\"id\":\"b5dd80d1-3db0-487d-8294-58fdae59b695\",\"type\":\"Line\"},{\"attributes\":{\"label\":{\"value\":\"CLIRAD `coolr_bands`\"},\"renderers\":[{\"id\":\"b276c7e0-8333-4341-8957-faea1382ff45\",\"type\":\"GlyphRenderer\"}]},\"id\":\"ca05630a-7042-4a1f-b853-20d63edc2ac2\",\"type\":\"LegendItem\"},{\"attributes\":{},\"id\":\"6e148183-f2fd-4a65-9e73-ae560f770b3a\",\"type\":\"BasicTickFormatter\"},{\"attributes\":{\"label\":{\"value\":\"CRD\"},\"renderers\":[{\"id\":\"199caebd-c159-4e1f-a511-689d8c4b06d5\",\"type\":\"GlyphRenderer\"},{\"id\":\"57665c31-9e7a-4326-a1c2-60483a792881\",\"type\":\"GlyphRenderer\"}]},\"id\":\"e749bff7-5db1-4b1e-918c-12f75269dca5\",\"type\":\"LegendItem\"},{\"attributes\":{\"ticker\":null},\"id\":\"b03ec949-078e-48e1-b157-5692d263d52b\",\"type\":\"LogTickFormatter\"},{\"attributes\":{\"bottom_units\":\"screen\",\"fill_alpha\":{\"value\":0.5},\"fill_color\":{\"value\":\"lightgrey\"},\"left_units\":\"screen\",\"level\":\"overlay\",\"line_alpha\":{\"value\":1.0},\"line_color\":{\"value\":\"black\"},\"line_dash\":[4,4],\"line_width\":{\"value\":2},\"plot\":null,\"render_mode\":\"css\",\"right_units\":\"screen\",\"top_units\":\"screen\"},\"id\":\"86c21159-9e9d-4b79-aa70-b81213c02bcf\",\"type\":\"BoxAnnotation\"},{\"attributes\":{\"label\":{\"value\":\"WGT igg=10 wgt_flux=2\"},\"renderers\":[{\"id\":\"b8a9e3e8-c905-4c49-b89b-4d00f9d5f5cd\",\"type\":\"GlyphRenderer\"},{\"id\":\"5acd176f-3306-43ef-81fe-ff407aadd324\",\"type\":\"GlyphRenderer\"}]},\"id\":\"8086276f-f81e-48db-935d-ae84b7815cfa\",\"type\":\"LegendItem\"},{\"attributes\":{},\"id\":\"41881bb3-0347-4c40-be08-ccc6239a54f1\",\"type\":\"Selection\"},{\"attributes\":{},\"id\":\"a7e552d3-c391-46e6-99df-f28f76f90a86\",\"type\":\"Selection\"},{\"attributes\":{},\"id\":\"94c5f0de-b174-424f-bc5d-bd7b9a46646d\",\"type\":\"UnionRenderers\"},{\"attributes\":{},\"id\":\"20d05265-1666-4fec-a7f0-66c7d61d7b2f\",\"type\":\"BasicTicker\"},{\"attributes\":{},\"id\":\"a3340fd8-3d8d-4740-891c-8442ce272c65\",\"type\":\"Selection\"},{\"attributes\":{},\"id\":\"5a8c428e-43fb-439b-9c01-9920a4b65f4e\",\"type\":\"UnionRenderers\"},{\"attributes\":{},\"id\":\"d5bd0693-7f47-4987-ad89-61cb5e667c42\",\"type\":\"HelpTool\"},{\"attributes\":{},\"id\":\"037b983b-bc89-4902-b468-fe7301a4dcb2\",\"type\":\"UnionRenderers\"},{\"attributes\":{},\"id\":\"ea729b03-11fa-4738-9056-9051c7e20f07\",\"type\":\"WheelZoomTool\"},{\"attributes\":{},\"id\":\"ccbe71c1-9efb-4434-967c-3b33cbf9daf2\",\"type\":\"Selection\"},{\"attributes\":{},\"id\":\"f0c0a381-c80d-401a-b58d-876975a59750\",\"type\":\"UnionRenderers\"},{\"attributes\":{},\"id\":\"e8cd1c2b-220c-4574-bd9e-b85cb1c09f55\",\"type\":\"SaveTool\"},{\"attributes\":{},\"id\":\"333b31a1-9ec1-4e98-a032-2bce36856758\",\"type\":\"Selection\"},{\"attributes\":{},\"id\":\"8a50555c-706f-44ce-9a1e-0162116b30fd\",\"type\":\"UnionRenderers\"},{\"attributes\":{\"data_source\":{\"id\":\"7f250377-0656-45ed-af91-00a3f633b4e6\",\"type\":\"ColumnDataSource\"},\"glyph\":{\"id\":\"74a90c3f-eae2-44af-91a7-be739c172527\",\"type\":\"Square\"},\"hover_glyph\":null,\"muted_glyph\":null,\"nonselection_glyph\":{\"id\":\"d3f91a34-f713-425a-b3ce-4b107a2e769d\",\"type\":\"Square\"},\"selection_glyph\":null,\"view\":{\"id\":\"84740c48-ba3b-4dca-a84f-5bf73999584d\",\"type\":\"CDSView\"}},\"id\":\"b8a9e3e8-c905-4c49-b89b-4d00f9d5f5cd\",\"type\":\"GlyphRenderer\"},{\"attributes\":{},\"id\":\"55c055b4-b49e-48e4-af13-147b1655d9ff\",\"type\":\"Selection\"},{\"attributes\":{},\"id\":\"d41886da-95f6-4314-a185-ca3e2a6fc4b4\",\"type\":\"BasicTickFormatter\"},{\"attributes\":{},\"id\":\"cb3a2cbd-5449-4906-890a-d58f8ff16314\",\"type\":\"Selection\"},{\"attributes\":{},\"id\":\"d3dd7fa2-2b25-4a3d-ba39-fa803802b528\",\"type\":\"Selection\"},{\"attributes\":{},\"id\":\"93399528-5ae2-4d40-93c6-bda237990c6d\",\"type\":\"UnionRenderers\"},{\"attributes\":{\"callback\":null,\"data\":{\"x\":{\"__ndarray__\":\"xNLTijHyEL98R72h86cmv8lLFOju1vS+JyAb3uM5675lJolNdxbkvso6tl+I0dq+Wvy+BMsrz76UvXUe5NOxvsvW9h29jLs+XDluuaZk0z5jN0Ra1YHgPrHJslByZ+g+WtRLDdNT8j5mJPT4tXT3PrxVNiI0/fk+G48Ao8z5/D4G3BllYHsAP9tmNH+2mAI/VvoaZ/XPBD+uJSu41i8HP/Fod+szJQo/8d2vGxaHCD/NXuYljlMBP4w3FLdOpfU+FGTk+AsD6T5fhs68YaHYPl0xG0fIH70+8x2oFxFVp762X0JC5kXAvjyB0kwqz8a+LcfsaDnVy76ScDXlL47PvmHqacZMcNC+fk5WMt/Tz77Mc7J+Q0fPvtpJ+Cmgmc6+9yiFgJ+Uzb511TMpgdrNvtW5k7JFCNW+BHglgvso3L4/pimFk3HivvezAc0ldea+YPLTEhvO6r4obc+Wservvtwou4JLp/K+e7oDqf9t874ZBVUznvftviVVppRUWtC+k6UE0vt48j4y5a5AnIMSP98PDfEWHCc/wB3eszLBNz/+vQyt66NFP67wLM2mDVI/J1xjZpPCWz+zDRrBWDRkP8IoeZfBD2w/6XhNCpqvcj87ac3OI/h3P+wG1BJglX0/cw3mgDOpgT8jcDP7jY2EP01vudmjYIc/LDO+klgQij88IZImgJCMP8IWyqiD044/YDAsPaJbkD8vspo3GRiRP65VuG4Vh5E/68gkMpKOkT8ugbyggwORP2xFR+RO+I8/tHmqsAq1jT/4eXVWV3qLP3W9Fu8lX4k/\",\"dtype\":\"float64\",\"shape\":[75]},\"y\":{\"__ndarray__\":\"S/O/Q+51ND/Sv8nbtpRIP2vylNV0PVE/aTum7souWD/At0SJ8fVgPw3Iuahxymc/MSNhhJWvcD/bTfBN02d3P2zb5nxnaoA/CD5h5MAGhz8NmeH1TyaQP+zrCsc9p5Y/LbKd76fGnz/bLW5ISEmmPww9YvTcQq8/JV2OstnstT8Er5Y7M8G+P0c+r3jqkcU/5h99k6ZBzj88bCIzFzjVP4enV8oyxN0//yH99nXg5D8qOpLLf0jtP5kqGJXUifQ/c9cS8kHP/D+/DpwzojQEQIEmwoanVwxA4lgXt9HgE0BSSZ2AJuIbQAMJih9jjiNA5q4l5INuK0AwTKYKRj0zQNv5fmq8/DpAaCJseHrtQkB/+zpwzoxKQM3MzMzMeFJAZmZmZmZqWEAAAAAAAFxeQM3MzMzMJmJAmpmZmZkfZUBmZmZmZhhoQDMzMzMzEWtAAAAAAAAKbkBmZmZmZoFwQM3MzMzM/XFAMzMzMzN6c0CamZmZmfZ0QAAAAAAAc3ZAZmZmZmbvd0DNzMzMzGt5QDMzMzMz6HpAmpmZmZlkfEAAAAAAAOF9QGZmZmZmXX9AZmZmZuZsgECamZmZGSuBQM3MzMxM6YFAAAAAAICngkAzMzMzs2WDQGZmZmbmI4RAmpmZmRnihEDNzMzMTKCFQAAAAACAXoZAMzMzM7Mch0BmZmZm5tqHQJqZmZkZmYhAzczMzExXiUAAAAAAgBWKQDMzMzOz04pAZmZmZuaRi0CamZmZGVCMQM3MzMxMDo1AAAAAAIDMjUAzMzMzs4qOQGZmZmbmSI9A\",\"dtype\":\"float64\",\"shape\":[75]}},\"selected\":{\"id\":\"cb3a2cbd-5449-4906-890a-d58f8ff16314\",\"type\":\"Selection\"},\"selection_policy\":{\"id\":\"93399528-5ae2-4d40-93c6-bda237990c6d\",\"type\":\"UnionRenderers\"}},\"id\":\"6c9520a6-71fd-41d9-b46a-a46c85b2a6f4\",\"type\":\"ColumnDataSource\"},{\"attributes\":{},\"id\":\"19a548d2-e4cb-433b-b187-98550c3e7db8\",\"type\":\"UnionRenderers\"},{\"attributes\":{\"callback\":null,\"end\":0.00012024052543759999,\"start\":-1.01496891976e-05},\"id\":\"5d6c806c-c8f8-48f9-b78a-975d7a9f78f9\",\"type\":\"Range1d\"},{\"attributes\":{},\"id\":\"d05c8ad3-1953-4bd3-bc18-c37e176701fe\",\"type\":\"UnionRenderers\"},{\"attributes\":{\"fill_alpha\":{\"value\":0.1},\"fill_color\":{\"value\":\"#1f77b4\"},\"line_alpha\":{\"value\":0.1},\"line_color\":{\"value\":\"#1f77b4\"},\"x\":{\"field\":\"x\"},\"y\":{\"field\":\"y\"}},\"id\":\"d3f91a34-f713-425a-b3ce-4b107a2e769d\",\"type\":\"Square\"},{\"attributes\":{},\"id\":\"25eb6fa3-90d1-4eae-8a44-9b101272a203\",\"type\":\"Selection\"},{\"attributes\":{},\"id\":\"ca46582a-2f02-46a2-9979-0d44643ea5a6\",\"type\":\"LinearScale\"},{\"attributes\":{},\"id\":\"c8a15db0-649f-4627-92ef-6171d461ecee\",\"type\":\"UnionRenderers\"},{\"attributes\":{},\"id\":\"2af0793c-ddaa-4ccf-a656-65fff8eb57d4\",\"type\":\"Selection\"},{\"attributes\":{},\"id\":\"9b007b58-fe78-40c6-b0e4-411a458b04a0\",\"type\":\"UnionRenderers\"},{\"attributes\":{\"children\":[{\"id\":\"8d80fbc5-fcd6-4400-8677-6f3f78010ccd\",\"type\":\"ToolbarBox\"},{\"id\":\"340b3b21-0ade-4ae4-be51-a1d726d19091\",\"type\":\"Column\"}]},\"id\":\"6261a971-7e68-4cf6-8cd0-fcb640ef06cb\",\"type\":\"Column\"},{\"attributes\":{\"tools\":[{\"id\":\"87741570-f59e-4421-9c8e-a04a8a8a10ee\",\"type\":\"PanTool\"},{\"id\":\"470f094f-08cd-4c5c-8a12-e8991097f35f\",\"type\":\"WheelZoomTool\"},{\"id\":\"94e085fa-4cc2-4295-8704-a5b80da8882e\",\"type\":\"BoxZoomTool\"},{\"id\":\"86992e9b-ea2d-489a-a71b-413109d13aa5\",\"type\":\"SaveTool\"},{\"id\":\"2b54856a-31e3-4503-8787-7efb124cfe37\",\"type\":\"ResetTool\"},{\"id\":\"9b053102-5a94-4a31-a366-bb6d9a895480\",\"type\":\"HelpTool\"},{\"id\":\"ebbfb03a-289b-4cac-898f-573c74e0d693\",\"type\":\"PanTool\"},{\"id\":\"ea729b03-11fa-4738-9056-9051c7e20f07\",\"type\":\"WheelZoomTool\"},{\"id\":\"14b3acfc-525e-4d52-91c7-fd721588885f\",\"type\":\"BoxZoomTool\"},{\"id\":\"e8cd1c2b-220c-4574-bd9e-b85cb1c09f55\",\"type\":\"SaveTool\"},{\"id\":\"10d1cbe4-62d2-4081-83a0-b90c4da34097\",\"type\":\"ResetTool\"},{\"id\":\"d5bd0693-7f47-4987-ad89-61cb5e667c42\",\"type\":\"HelpTool\"}]},\"id\":\"fd703d8c-fe08-48ec-af7a-1c7cfcc0e57e\",\"type\":\"ProxyToolbar\"},{\"attributes\":{\"toolbar\":{\"id\":\"fd703d8c-fe08-48ec-af7a-1c7cfcc0e57e\",\"type\":\"ProxyToolbar\"},\"toolbar_location\":\"above\"},\"id\":\"8d80fbc5-fcd6-4400-8677-6f3f78010ccd\",\"type\":\"ToolbarBox\"}],\"root_ids\":[\"6261a971-7e68-4cf6-8cd0-fcb640ef06cb\"]},\"title\":\"Bokeh Application\",\"version\":\"0.12.16\"}};\n",
       "  var render_items = [{\"docid\":\"2fdffd0e-1c47-4b5f-a2ce-f4979d6cb447\",\"elementid\":\"93bc6cf2-62ce-4b81-a40f-6af950c17182\",\"modelid\":\"6261a971-7e68-4cf6-8cd0-fcb640ef06cb\"}];\n",
       "  root.Bokeh.embed.embed_items_notebook(docs_json, render_items);\n",
       "\n",
       "  }\n",
       "  if (root.Bokeh !== undefined) {\n",
       "    embed_document(root);\n",
       "  } else {\n",
       "    var attempts = 0;\n",
       "    var timer = setInterval(function(root) {\n",
       "      if (root.Bokeh !== undefined) {\n",
       "        embed_document(root);\n",
       "        clearInterval(timer);\n",
       "      }\n",
       "      attempts++;\n",
       "      if (attempts > 100) {\n",
       "        console.log(\"Bokeh: ERROR: Unable to run BokehJS code because BokehJS library is missing\")\n",
       "        clearInterval(timer);\n",
       "      }\n",
       "    }, 10, root)\n",
       "  }\n",
       "})(window);"
      ],
      "application/vnd.bokehjs_exec.v0+json": ""
     },
     "metadata": {
      "application/vnd.bokehjs_exec.v0+json": {
       "id": "6261a971-7e68-4cf6-8cd0-fcb640ef06cb"
      }
     },
     "output_type": "display_data"
    },
    {
     "name": "stdout",
     "output_type": "stream",
     "text": [
      "FIGURE. Cooling rate profiles.\n"
     ]
    },
    {
     "data": {
      "text/html": [
       "<a id=\"Flux_Comparison\"></a>"
      ],
      "text/plain": [
       "<IPython.core.display.HTML object>"
      ]
     },
     "metadata": {},
     "output_type": "display_data"
    },
    {
     "data": {
      "text/markdown": [
       "# Flux Comparison"
      ],
      "text/plain": [
       "<IPython.core.display.Markdown object>"
      ]
     },
     "metadata": {},
     "output_type": "display_data"
    },
    {
     "data": {
      "text/html": [
       "<div>\n",
       "<style scoped>\n",
       "    .dataframe tbody tr th:only-of-type {\n",
       "        vertical-align: middle;\n",
       "    }\n",
       "\n",
       "    .dataframe tbody tr th {\n",
       "        vertical-align: top;\n",
       "    }\n",
       "\n",
       "    .dataframe thead th {\n",
       "        text-align: right;\n",
       "    }\n",
       "</style>\n",
       "<table border=\"1\" class=\"dataframe\">\n",
       "  <thead>\n",
       "    <tr style=\"text-align: right;\">\n",
       "      <th></th>\n",
       "      <th></th>\n",
       "      <th>flug</th>\n",
       "      <th>fldg</th>\n",
       "      <th>fnetg</th>\n",
       "    </tr>\n",
       "    <tr>\n",
       "      <th>pressure</th>\n",
       "      <th>level</th>\n",
       "      <th></th>\n",
       "      <th></th>\n",
       "      <th></th>\n",
       "    </tr>\n",
       "  </thead>\n",
       "  <tbody>\n",
       "    <tr>\n",
       "      <th>0.0000</th>\n",
       "      <th>1</th>\n",
       "      <td>-32.825730</td>\n",
       "      <td>0.000000</td>\n",
       "      <td>-32.825730</td>\n",
       "    </tr>\n",
       "    <tr>\n",
       "      <th>1.0685</th>\n",
       "      <th>24</th>\n",
       "      <td>-32.825729</td>\n",
       "      <td>0.000011</td>\n",
       "      <td>-32.825718</td>\n",
       "    </tr>\n",
       "    <tr>\n",
       "      <th>1013.0000</th>\n",
       "      <th>76</th>\n",
       "      <td>-32.863767</td>\n",
       "      <td>0.789010</td>\n",
       "      <td>-32.074756</td>\n",
       "    </tr>\n",
       "  </tbody>\n",
       "</table>\n",
       "</div>"
      ],
      "text/plain": [
       "                      flug      fldg      fnetg\n",
       "pressure  level                                \n",
       "0.0000    1     -32.825730  0.000000 -32.825730\n",
       "1.0685    24    -32.825729  0.000011 -32.825718\n",
       "1013.0000 76    -32.863767  0.789010 -32.074756"
      ]
     },
     "metadata": {},
     "output_type": "display_data"
    },
    {
     "name": "stdout",
     "output_type": "stream",
     "text": [
      "Table. Fluxes. CRD\n"
     ]
    },
    {
     "data": {
      "text/html": [
       "<div>\n",
       "<style scoped>\n",
       "    .dataframe tbody tr th:only-of-type {\n",
       "        vertical-align: middle;\n",
       "    }\n",
       "\n",
       "    .dataframe tbody tr th {\n",
       "        vertical-align: top;\n",
       "    }\n",
       "\n",
       "    .dataframe thead th {\n",
       "        text-align: right;\n",
       "    }\n",
       "</style>\n",
       "<table border=\"1\" class=\"dataframe\">\n",
       "  <thead>\n",
       "    <tr style=\"text-align: right;\">\n",
       "      <th></th>\n",
       "      <th></th>\n",
       "      <th>flug</th>\n",
       "      <th>fldg</th>\n",
       "      <th>fnetg</th>\n",
       "    </tr>\n",
       "    <tr>\n",
       "      <th>pressure</th>\n",
       "      <th>level</th>\n",
       "      <th></th>\n",
       "      <th></th>\n",
       "      <th></th>\n",
       "    </tr>\n",
       "  </thead>\n",
       "  <tbody>\n",
       "    <tr>\n",
       "      <th>0.0000</th>\n",
       "      <th>1</th>\n",
       "      <td>-32.829583</td>\n",
       "      <td>0.000000</td>\n",
       "      <td>-32.829583</td>\n",
       "    </tr>\n",
       "    <tr>\n",
       "      <th>1.0685</th>\n",
       "      <th>24</th>\n",
       "      <td>-32.829583</td>\n",
       "      <td>0.000006</td>\n",
       "      <td>-32.829577</td>\n",
       "    </tr>\n",
       "    <tr>\n",
       "      <th>1013.0000</th>\n",
       "      <th>76</th>\n",
       "      <td>-32.863767</td>\n",
       "      <td>0.724979</td>\n",
       "      <td>-32.138788</td>\n",
       "    </tr>\n",
       "  </tbody>\n",
       "</table>\n",
       "</div>"
      ],
      "text/plain": [
       "                      flug      fldg      fnetg\n",
       "pressure  level                                \n",
       "0.0000    1     -32.829583  0.000000 -32.829583\n",
       "1.0685    24    -32.829583  0.000006 -32.829577\n",
       "1013.0000 76    -32.863767  0.724979 -32.138788"
      ]
     },
     "metadata": {},
     "output_type": "display_data"
    },
    {
     "name": "stdout",
     "output_type": "stream",
     "text": [
      "Table. Fluxes. WGT igg=10 wgt_flux=1\n"
     ]
    },
    {
     "data": {
      "text/html": [
       "<div>\n",
       "<style scoped>\n",
       "    .dataframe tbody tr th:only-of-type {\n",
       "        vertical-align: middle;\n",
       "    }\n",
       "\n",
       "    .dataframe tbody tr th {\n",
       "        vertical-align: top;\n",
       "    }\n",
       "\n",
       "    .dataframe thead th {\n",
       "        text-align: right;\n",
       "    }\n",
       "</style>\n",
       "<table border=\"1\" class=\"dataframe\">\n",
       "  <thead>\n",
       "    <tr style=\"text-align: right;\">\n",
       "      <th></th>\n",
       "      <th></th>\n",
       "      <th>flug</th>\n",
       "      <th>fldg</th>\n",
       "      <th>fnetg</th>\n",
       "    </tr>\n",
       "    <tr>\n",
       "      <th>pressure</th>\n",
       "      <th>level</th>\n",
       "      <th></th>\n",
       "      <th></th>\n",
       "      <th></th>\n",
       "    </tr>\n",
       "  </thead>\n",
       "  <tbody>\n",
       "    <tr>\n",
       "      <th>1.000000e-08</th>\n",
       "      <th>1</th>\n",
       "      <td>-32.832936</td>\n",
       "      <td>1.246706e-07</td>\n",
       "      <td>-32.832936</td>\n",
       "    </tr>\n",
       "    <tr>\n",
       "      <th>1.068500e+00</th>\n",
       "      <th>24</th>\n",
       "      <td>-32.832937</td>\n",
       "      <td>5.301225e-06</td>\n",
       "      <td>-32.832931</td>\n",
       "    </tr>\n",
       "    <tr>\n",
       "      <th>1.013000e+03</th>\n",
       "      <th>76</th>\n",
       "      <td>-32.863770</td>\n",
       "      <td>7.032934e-01</td>\n",
       "      <td>-32.160477</td>\n",
       "    </tr>\n",
       "  </tbody>\n",
       "</table>\n",
       "</div>"
      ],
      "text/plain": [
       "                         flug          fldg      fnetg\n",
       "pressure     level                                    \n",
       "1.000000e-08 1     -32.832936  1.246706e-07 -32.832936\n",
       "1.068500e+00 24    -32.832937  5.301225e-06 -32.832931\n",
       "1.013000e+03 76    -32.863770  7.032934e-01 -32.160477"
      ]
     },
     "metadata": {},
     "output_type": "display_data"
    },
    {
     "name": "stdout",
     "output_type": "stream",
     "text": [
      "Table. Fluxes. CLIRAD\n"
     ]
    },
    {
     "data": {
      "text/html": [
       "<div>\n",
       "<style scoped>\n",
       "    .dataframe tbody tr th:only-of-type {\n",
       "        vertical-align: middle;\n",
       "    }\n",
       "\n",
       "    .dataframe tbody tr th {\n",
       "        vertical-align: top;\n",
       "    }\n",
       "\n",
       "    .dataframe thead th {\n",
       "        text-align: right;\n",
       "    }\n",
       "</style>\n",
       "<table border=\"1\" class=\"dataframe\">\n",
       "  <thead>\n",
       "    <tr style=\"text-align: right;\">\n",
       "      <th></th>\n",
       "      <th></th>\n",
       "      <th>flug</th>\n",
       "      <th>fldg</th>\n",
       "      <th>fnetg</th>\n",
       "    </tr>\n",
       "    <tr>\n",
       "      <th>pressure</th>\n",
       "      <th>level</th>\n",
       "      <th></th>\n",
       "      <th></th>\n",
       "      <th></th>\n",
       "    </tr>\n",
       "  </thead>\n",
       "  <tbody>\n",
       "    <tr>\n",
       "      <th>0.0000</th>\n",
       "      <th>1</th>\n",
       "      <td>-3.852850e-03</td>\n",
       "      <td>0.000000</td>\n",
       "      <td>-0.003853</td>\n",
       "    </tr>\n",
       "    <tr>\n",
       "      <th>1.0685</th>\n",
       "      <th>24</th>\n",
       "      <td>-3.853890e-03</td>\n",
       "      <td>-0.000005</td>\n",
       "      <td>-0.003859</td>\n",
       "    </tr>\n",
       "    <tr>\n",
       "      <th>1013.0000</th>\n",
       "      <th>76</th>\n",
       "      <td>1.500000e-07</td>\n",
       "      <td>-0.064032</td>\n",
       "      <td>-0.064032</td>\n",
       "    </tr>\n",
       "  </tbody>\n",
       "</table>\n",
       "</div>"
      ],
      "text/plain": [
       "                         flug      fldg     fnetg\n",
       "pressure  level                                  \n",
       "0.0000    1     -3.852850e-03  0.000000 -0.003853\n",
       "1.0685    24    -3.853890e-03 -0.000005 -0.003859\n",
       "1013.0000 76     1.500000e-07 -0.064032 -0.064032"
      ]
     },
     "metadata": {},
     "output_type": "display_data"
    },
    {
     "name": "stdout",
     "output_type": "stream",
     "text": [
      "Table. Fluxes. (WGT igg=10 wgt_flux=1) - (CRD)\n"
     ]
    },
    {
     "data": {
      "text/html": [
       "<div>\n",
       "<style scoped>\n",
       "    .dataframe tbody tr th:only-of-type {\n",
       "        vertical-align: middle;\n",
       "    }\n",
       "\n",
       "    .dataframe tbody tr th {\n",
       "        vertical-align: top;\n",
       "    }\n",
       "\n",
       "    .dataframe thead th {\n",
       "        text-align: right;\n",
       "    }\n",
       "</style>\n",
       "<table border=\"1\" class=\"dataframe\">\n",
       "  <thead>\n",
       "    <tr style=\"text-align: right;\">\n",
       "      <th></th>\n",
       "      <th></th>\n",
       "      <th>flug</th>\n",
       "      <th>fldg</th>\n",
       "      <th>fnetg</th>\n",
       "    </tr>\n",
       "    <tr>\n",
       "      <th>pressure</th>\n",
       "      <th>level</th>\n",
       "      <th></th>\n",
       "      <th></th>\n",
       "      <th></th>\n",
       "    </tr>\n",
       "  </thead>\n",
       "  <tbody>\n",
       "    <tr>\n",
       "      <th>0.0000</th>\n",
       "      <th>1</th>\n",
       "      <td>-0.007206</td>\n",
       "      <td>1.246706e-07</td>\n",
       "      <td>-0.007206</td>\n",
       "    </tr>\n",
       "    <tr>\n",
       "      <th>1.0685</th>\n",
       "      <th>24</th>\n",
       "      <td>-0.007208</td>\n",
       "      <td>-5.792184e-06</td>\n",
       "      <td>-0.007213</td>\n",
       "    </tr>\n",
       "    <tr>\n",
       "      <th>1013.0000</th>\n",
       "      <th>76</th>\n",
       "      <td>-0.000003</td>\n",
       "      <td>-8.571702e-02</td>\n",
       "      <td>-0.085721</td>\n",
       "    </tr>\n",
       "  </tbody>\n",
       "</table>\n",
       "</div>"
      ],
      "text/plain": [
       "                     flug          fldg     fnetg\n",
       "pressure  level                                  \n",
       "0.0000    1     -0.007206  1.246706e-07 -0.007206\n",
       "1.0685    24    -0.007208 -5.792184e-06 -0.007213\n",
       "1013.0000 76    -0.000003 -8.571702e-02 -0.085721"
      ]
     },
     "metadata": {},
     "output_type": "display_data"
    },
    {
     "name": "stdout",
     "output_type": "stream",
     "text": [
      "Table. Fluxes. (CLIRAD) - (CRD)\n"
     ]
    },
    {
     "data": {
      "text/html": [
       "<a id=\"Best-fit_Parameters\"></a>"
      ],
      "text/plain": [
       "<IPython.core.display.HTML object>"
      ]
     },
     "metadata": {},
     "output_type": "display_data"
    },
    {
     "data": {
      "text/markdown": [
       "# Best-fit Parameters"
      ],
      "text/plain": [
       "<IPython.core.display.Markdown object>"
      ]
     },
     "metadata": {},
     "output_type": "display_data"
    },
    {
     "name": "stdout",
     "output_type": "stream",
     "text": [
      "Best-fit values for each (gas, band)\n",
      "------------------------------------\n",
      "o h2o band4\n",
      "  atmpro = mls\n",
      "  band = 4\n",
      "  commitnumber = a06b618\n",
      "  conc = None\n",
      "  dv = 0.001\n",
      "  klin = 1e-24\n",
      "  molecule = h2o\n",
      "  ng_adju = [0]\n",
      "  ng_refs = [3]\n",
      "  nv = 1000\n",
      "  option_compute_btable = 0\n",
      "  option_compute_ktable = 1\n",
      "  option_wgt_flux = 1\n",
      "  option_wgt_k = 1\n",
      "  ref_pts = [(600, 250)]\n",
      "  tsfc = 294\n",
      "  vmax = 980\n",
      "  vmin = 800\n",
      "  w_diffuse = [(1.66, 1.66, 1.85)]\n",
      "  wgt = [(0.5, 0.55, 0.85)]\n"
     ]
    }
   ],
   "source": [
    "script()"
   ]
  },
  {
   "cell_type": "code",
   "execution_count": 13,
   "metadata": {
    "collapsed": true
   },
   "outputs": [
    {
     "data": {
      "text/html": [
       "<script>\n",
       "code_show=true; \n",
       "function code_toggle() {\n",
       " if (code_show){\n",
       " $('div.input').hide();\n",
       " } else {\n",
       " $('div.input').show();\n",
       " }\n",
       " code_show = !code_show\n",
       "} \n",
       "$( document ).ready(code_toggle);\n",
       "</script>\n",
       "<form action=\"javascript:code_toggle()\"><input type=\"submit\" value=\"Click here to toggle on/off the raw code.\"></form>"
      ],
      "text/plain": [
       "<IPython.core.display.HTML object>"
      ]
     },
     "execution_count": 13,
     "metadata": {},
     "output_type": "execute_result"
    }
   ],
   "source": [
    "display.HTML('''<script>\n",
    "code_show=true; \n",
    "function code_toggle() {\n",
    " if (code_show){\n",
    " $('div.input').hide();\n",
    " } else {\n",
    " $('div.input').show();\n",
    " }\n",
    " code_show = !code_show\n",
    "} \n",
    "$( document ).ready(code_toggle);\n",
    "</script>\n",
    "<form action=\"javascript:code_toggle()\"><input type=\"submit\" value=\"Click here to toggle on/off the raw code.\"></form>''')"
   ]
  }
 ],
 "metadata": {
  "kernelspec": {
   "display_name": "Python 3",
   "language": "python",
   "name": "python3"
  },
  "language_info": {
   "codemirror_mode": {
    "name": "ipython",
    "version": 3
   },
   "file_extension": ".py",
   "mimetype": "text/x-python",
   "name": "python",
   "nbconvert_exporter": "python",
   "pygments_lexer": "ipython3",
   "version": "3.6.1"
  }
 },
 "nbformat": 4,
 "nbformat_minor": 2
}
