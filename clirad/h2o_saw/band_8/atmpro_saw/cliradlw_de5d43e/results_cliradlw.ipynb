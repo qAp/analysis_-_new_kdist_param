{
 "cells": [
  {
   "cell_type": "code",
   "execution_count": 1,
   "metadata": {
    "collapsed": true
   },
   "outputs": [],
   "source": [
    "%matplotlib inline\n",
    "import os\n",
    "import re\n",
    "import io\n",
    "import itertools\n",
    "import pprint\n",
    "\n",
    "from bokeh.io import output_notebook, show\n",
    "from bokeh.layouts import gridplot\n",
    "from bokeh.plotting import figure\n",
    "from bokeh.models import Range1d, Legend\n",
    "from bokeh.palettes import all_palettes\n",
    "\n",
    "import matplotlib\n",
    "import matplotlib.pyplot as plt\n",
    "import numpy as np\n",
    "import pandas as pd\n",
    "import xarray as xr\n",
    "\n",
    "import climatools.lblnew.bestfit_params as bestfits\n",
    "from climatools.lblnew import setup_bestfit, setup_overlap\n",
    "import climatools.lblnew.pipeline as pipe_lblnew\n",
    "import climatools.cliradlw.setup as setup_cliradlw\n",
    "import climatools.cliradlw.pipeline as pipe_cliradlw\n",
    "\n",
    "import climatools.html.html as climahtml\n",
    "from climatools.lblnew.dataio import *\n",
    "from climatools.plot.plot import *\n",
    "\n",
    "\n",
    "import IPython.display as display"
   ]
  },
  {
   "cell_type": "code",
   "execution_count": 2,
   "metadata": {
    "collapsed": true
   },
   "outputs": [],
   "source": [
    "%run param.py"
   ]
  },
  {
   "cell_type": "code",
   "execution_count": 3,
   "metadata": {
    "collapsed": true
   },
   "outputs": [],
   "source": [
    "def load_output_file(path_csv):\n",
    "    '''\n",
    "    Load lblnew output .csv file to xarray.Dataset\n",
    "    \n",
    "    Parameters\n",
    "    ----------\n",
    "    path_csv: str\n",
    "              Path to the .csv file to be loaded.\n",
    "    ds: xarray.Dataset\n",
    "        Data in the input file in the form of an xarray.Dataset.\n",
    "    '''\n",
    "    toindex = ['band', 'pressure', 'igg', 'g']    \n",
    "    df = pd.read_csv(path_csv, sep=r'\\s+')\n",
    "    df = df.set_index([i for i in toindex if i in df.columns])\n",
    "    df = df.rename(columns={'sfu': 'flug',\n",
    "                            'sfd': 'fldg',\n",
    "                            'fnet': 'fnetg',\n",
    "                            'coolr': 'coolrg'})\n",
    "    ds = xr.Dataset.from_dataframe(df)\n",
    "\n",
    "    for l in ('level', 'layer'):\n",
    "        if l in ds.data_vars:\n",
    "            if len(ds[l].dims) > 1:\n",
    "                surface = {d: 0 for d in ds.dims if d != 'pressure'}\n",
    "                coord_level = ds[l][surface]\n",
    "                ds.coords[l] = ('pressure', coord_level)\n",
    "            else:\n",
    "                ds.coords[l] = ('pressure', ds[l])\n",
    "    \n",
    "    return ds"
   ]
  },
  {
   "cell_type": "code",
   "execution_count": 4,
   "metadata": {
    "collapsed": true
   },
   "outputs": [],
   "source": [
    "def lblnew_setup(param=None):\n",
    "    if 'ng_refs' in param:\n",
    "        return {'setup': setup_bestfit,\n",
    "                'fname_flux_crd': 'output_flux.dat',\n",
    "                'fname_cool_crd': 'output_coolr.dat',\n",
    "                'fname_flux_wgt': 'output_wfluxg.dat',\n",
    "                'fname_cool_wgt': 'output_wcoolrg.dat'}\n",
    "    else:\n",
    "        return {'setup': setup_overlap,\n",
    "                'fname_flux_crd': 'output_flux.dat',\n",
    "                'fname_cool_crd': 'output_coolr.dat',\n",
    "                'fname_flux_wgt': 'output_wflux.dat',\n",
    "                'fname_cool_wgt': 'output_wcoolr.dat'}\n",
    "\n",
    "    \n",
    "def load_lblnew_data(param):\n",
    "    \n",
    "    fname_dsname = [('fname_flux_crd', 'ds_flux_crd'),\n",
    "                    ('fname_cool_crd', 'ds_cool_crd'),\n",
    "                    ('fname_flux_wgt', 'ds_flux_wgt'),\n",
    "                    ('fname_cool_wgt', 'ds_cool_wgt')]\n",
    "    \n",
    "    d = lblnew_setup(param)\n",
    "    dir_fortran = pipe_lblnew.get_dir_case(param, setup=d['setup'])\n",
    "    \n",
    "    data_dict = {}\n",
    "    for fname, dsname in fname_dsname:\n",
    "        fpath = os.path.join(dir_fortran, d[fname])\n",
    "        data_dict[dsname] = load_output_file(fpath)\n",
    "    return data_dict\n",
    "    \n",
    "\n",
    "    \n",
    "    "
   ]
  },
  {
   "cell_type": "code",
   "execution_count": 5,
   "metadata": {
    "collapsed": true
   },
   "outputs": [],
   "source": [
    "d = load_lblnew_data(PARAM_LBLNEW)\n",
    "\n",
    "DS_FLUX_CRD = d['ds_flux_crd']\n",
    "DS_COOL_CRD = d['ds_cool_crd']\n",
    "DS_FLUX_WGT = d['ds_flux_wgt']\n",
    "DS_COOL_WGT = d['ds_cool_wgt']"
   ]
  },
  {
   "cell_type": "code",
   "execution_count": 6,
   "metadata": {
    "collapsed": true
   },
   "outputs": [],
   "source": [
    "DIR_FORTRAN = pipe_cliradlw.get_fortran_dir(PARAM, \n",
    "                                            setup=setup_cliradlw)\n",
    "\n",
    "PATH_FLUX = os.path.join(DIR_FORTRAN, 'output_flux.dat')\n",
    "PATH_COOL = os.path.join(DIR_FORTRAN, 'output_coolr.dat')\n",
    "\n",
    "DS_FLUX = load_output_file(PATH_FLUX)\n",
    "DS_COOL = load_output_file(PATH_COOL)"
   ]
  },
  {
   "cell_type": "code",
   "execution_count": 7,
   "metadata": {
    "collapsed": true
   },
   "outputs": [
    {
     "data": {
      "text/html": [
       "\n",
       "    <div class=\"bk-root\">\n",
       "        <a href=\"https://bokeh.pydata.org\" target=\"_blank\" class=\"bk-logo bk-logo-small bk-logo-notebook\"></a>\n",
       "        <span id=\"37a388e0-feaf-40a4-b9c2-1130d1e181e0\">Loading BokehJS ...</span>\n",
       "    </div>"
      ]
     },
     "metadata": {},
     "output_type": "display_data"
    },
    {
     "data": {
      "application/javascript": [
       "\n",
       "(function(root) {\n",
       "  function now() {\n",
       "    return new Date();\n",
       "  }\n",
       "\n",
       "  var force = true;\n",
       "\n",
       "  if (typeof (root._bokeh_onload_callbacks) === \"undefined\" || force === true) {\n",
       "    root._bokeh_onload_callbacks = [];\n",
       "    root._bokeh_is_loading = undefined;\n",
       "  }\n",
       "\n",
       "  var JS_MIME_TYPE = 'application/javascript';\n",
       "  var HTML_MIME_TYPE = 'text/html';\n",
       "  var EXEC_MIME_TYPE = 'application/vnd.bokehjs_exec.v0+json';\n",
       "  var CLASS_NAME = 'output_bokeh rendered_html';\n",
       "\n",
       "  /**\n",
       "   * Render data to the DOM node\n",
       "   */\n",
       "  function render(props, node) {\n",
       "    var script = document.createElement(\"script\");\n",
       "    node.appendChild(script);\n",
       "  }\n",
       "\n",
       "  /**\n",
       "   * Handle when an output is cleared or removed\n",
       "   */\n",
       "  function handleClearOutput(event, handle) {\n",
       "    var cell = handle.cell;\n",
       "\n",
       "    var id = cell.output_area._bokeh_element_id;\n",
       "    var server_id = cell.output_area._bokeh_server_id;\n",
       "    // Clean up Bokeh references\n",
       "    if (id !== undefined) {\n",
       "      Bokeh.index[id].model.document.clear();\n",
       "      delete Bokeh.index[id];\n",
       "    }\n",
       "\n",
       "    if (server_id !== undefined) {\n",
       "      // Clean up Bokeh references\n",
       "      var cmd = \"from bokeh.io.state import curstate; print(curstate().uuid_to_server['\" + server_id + \"'].get_sessions()[0].document.roots[0]._id)\";\n",
       "      cell.notebook.kernel.execute(cmd, {\n",
       "        iopub: {\n",
       "          output: function(msg) {\n",
       "            var element_id = msg.content.text.trim();\n",
       "            Bokeh.index[element_id].model.document.clear();\n",
       "            delete Bokeh.index[element_id];\n",
       "          }\n",
       "        }\n",
       "      });\n",
       "      // Destroy server and session\n",
       "      var cmd = \"import bokeh.io.notebook as ion; ion.destroy_server('\" + server_id + \"')\";\n",
       "      cell.notebook.kernel.execute(cmd);\n",
       "    }\n",
       "  }\n",
       "\n",
       "  /**\n",
       "   * Handle when a new output is added\n",
       "   */\n",
       "  function handleAddOutput(event, handle) {\n",
       "    var output_area = handle.output_area;\n",
       "    var output = handle.output;\n",
       "\n",
       "    // limit handleAddOutput to display_data with EXEC_MIME_TYPE content only\n",
       "    if ((output.output_type != \"display_data\") || (!output.data.hasOwnProperty(EXEC_MIME_TYPE))) {\n",
       "      return\n",
       "    }\n",
       "\n",
       "    var toinsert = output_area.element.find(\".\" + CLASS_NAME.split(' ')[0]);\n",
       "\n",
       "    if (output.metadata[EXEC_MIME_TYPE][\"id\"] !== undefined) {\n",
       "      toinsert[toinsert.length - 1].firstChild.textContent = output.data[JS_MIME_TYPE];\n",
       "      // store reference to embed id on output_area\n",
       "      output_area._bokeh_element_id = output.metadata[EXEC_MIME_TYPE][\"id\"];\n",
       "    }\n",
       "    if (output.metadata[EXEC_MIME_TYPE][\"server_id\"] !== undefined) {\n",
       "      var bk_div = document.createElement(\"div\");\n",
       "      bk_div.innerHTML = output.data[HTML_MIME_TYPE];\n",
       "      var script_attrs = bk_div.children[0].attributes;\n",
       "      for (var i = 0; i < script_attrs.length; i++) {\n",
       "        toinsert[toinsert.length - 1].firstChild.setAttribute(script_attrs[i].name, script_attrs[i].value);\n",
       "      }\n",
       "      // store reference to server id on output_area\n",
       "      output_area._bokeh_server_id = output.metadata[EXEC_MIME_TYPE][\"server_id\"];\n",
       "    }\n",
       "  }\n",
       "\n",
       "  function register_renderer(events, OutputArea) {\n",
       "\n",
       "    function append_mime(data, metadata, element) {\n",
       "      // create a DOM node to render to\n",
       "      var toinsert = this.create_output_subarea(\n",
       "        metadata,\n",
       "        CLASS_NAME,\n",
       "        EXEC_MIME_TYPE\n",
       "      );\n",
       "      this.keyboard_manager.register_events(toinsert);\n",
       "      // Render to node\n",
       "      var props = {data: data, metadata: metadata[EXEC_MIME_TYPE]};\n",
       "      render(props, toinsert[toinsert.length - 1]);\n",
       "      element.append(toinsert);\n",
       "      return toinsert\n",
       "    }\n",
       "\n",
       "    /* Handle when an output is cleared or removed */\n",
       "    events.on('clear_output.CodeCell', handleClearOutput);\n",
       "    events.on('delete.Cell', handleClearOutput);\n",
       "\n",
       "    /* Handle when a new output is added */\n",
       "    events.on('output_added.OutputArea', handleAddOutput);\n",
       "\n",
       "    /**\n",
       "     * Register the mime type and append_mime function with output_area\n",
       "     */\n",
       "    OutputArea.prototype.register_mime_type(EXEC_MIME_TYPE, append_mime, {\n",
       "      /* Is output safe? */\n",
       "      safe: true,\n",
       "      /* Index of renderer in `output_area.display_order` */\n",
       "      index: 0\n",
       "    });\n",
       "  }\n",
       "\n",
       "  // register the mime type if in Jupyter Notebook environment and previously unregistered\n",
       "  if (root.Jupyter !== undefined) {\n",
       "    var events = require('base/js/events');\n",
       "    var OutputArea = require('notebook/js/outputarea').OutputArea;\n",
       "\n",
       "    if (OutputArea.prototype.mime_types().indexOf(EXEC_MIME_TYPE) == -1) {\n",
       "      register_renderer(events, OutputArea);\n",
       "    }\n",
       "  }\n",
       "\n",
       "  \n",
       "  if (typeof (root._bokeh_timeout) === \"undefined\" || force === true) {\n",
       "    root._bokeh_timeout = Date.now() + 5000;\n",
       "    root._bokeh_failed_load = false;\n",
       "  }\n",
       "\n",
       "  var NB_LOAD_WARNING = {'data': {'text/html':\n",
       "     \"<div style='background-color: #fdd'>\\n\"+\n",
       "     \"<p>\\n\"+\n",
       "     \"BokehJS does not appear to have successfully loaded. If loading BokehJS from CDN, this \\n\"+\n",
       "     \"may be due to a slow or bad network connection. Possible fixes:\\n\"+\n",
       "     \"</p>\\n\"+\n",
       "     \"<ul>\\n\"+\n",
       "     \"<li>re-rerun `output_notebook()` to attempt to load from CDN again, or</li>\\n\"+\n",
       "     \"<li>use INLINE resources instead, as so:</li>\\n\"+\n",
       "     \"</ul>\\n\"+\n",
       "     \"<code>\\n\"+\n",
       "     \"from bokeh.resources import INLINE\\n\"+\n",
       "     \"output_notebook(resources=INLINE)\\n\"+\n",
       "     \"</code>\\n\"+\n",
       "     \"</div>\"}};\n",
       "\n",
       "  function display_loaded() {\n",
       "    var el = document.getElementById(\"37a388e0-feaf-40a4-b9c2-1130d1e181e0\");\n",
       "    if (el != null) {\n",
       "      el.textContent = \"BokehJS is loading...\";\n",
       "    }\n",
       "    if (root.Bokeh !== undefined) {\n",
       "      if (el != null) {\n",
       "        el.textContent = \"BokehJS \" + root.Bokeh.version + \" successfully loaded.\";\n",
       "      }\n",
       "    } else if (Date.now() < root._bokeh_timeout) {\n",
       "      setTimeout(display_loaded, 100)\n",
       "    }\n",
       "  }\n",
       "\n",
       "\n",
       "  function run_callbacks() {\n",
       "    try {\n",
       "      root._bokeh_onload_callbacks.forEach(function(callback) { callback() });\n",
       "    }\n",
       "    finally {\n",
       "      delete root._bokeh_onload_callbacks\n",
       "    }\n",
       "    console.info(\"Bokeh: all callbacks have finished\");\n",
       "  }\n",
       "\n",
       "  function load_libs(js_urls, callback) {\n",
       "    root._bokeh_onload_callbacks.push(callback);\n",
       "    if (root._bokeh_is_loading > 0) {\n",
       "      console.log(\"Bokeh: BokehJS is being loaded, scheduling callback at\", now());\n",
       "      return null;\n",
       "    }\n",
       "    if (js_urls == null || js_urls.length === 0) {\n",
       "      run_callbacks();\n",
       "      return null;\n",
       "    }\n",
       "    console.log(\"Bokeh: BokehJS not loaded, scheduling load and callback at\", now());\n",
       "    root._bokeh_is_loading = js_urls.length;\n",
       "    for (var i = 0; i < js_urls.length; i++) {\n",
       "      var url = js_urls[i];\n",
       "      var s = document.createElement('script');\n",
       "      s.src = url;\n",
       "      s.async = false;\n",
       "      s.onreadystatechange = s.onload = function() {\n",
       "        root._bokeh_is_loading--;\n",
       "        if (root._bokeh_is_loading === 0) {\n",
       "          console.log(\"Bokeh: all BokehJS libraries loaded\");\n",
       "          run_callbacks()\n",
       "        }\n",
       "      };\n",
       "      s.onerror = function() {\n",
       "        console.warn(\"failed to load library \" + url);\n",
       "      };\n",
       "      console.log(\"Bokeh: injecting script tag for BokehJS library: \", url);\n",
       "      document.getElementsByTagName(\"head\")[0].appendChild(s);\n",
       "    }\n",
       "  };var element = document.getElementById(\"37a388e0-feaf-40a4-b9c2-1130d1e181e0\");\n",
       "  if (element == null) {\n",
       "    console.log(\"Bokeh: ERROR: autoload.js configured with elementid '37a388e0-feaf-40a4-b9c2-1130d1e181e0' but no matching script tag was found. \")\n",
       "    return false;\n",
       "  }\n",
       "\n",
       "  var js_urls = [\"https://cdn.pydata.org/bokeh/release/bokeh-0.12.16.min.js\", \"https://cdn.pydata.org/bokeh/release/bokeh-widgets-0.12.16.min.js\", \"https://cdn.pydata.org/bokeh/release/bokeh-tables-0.12.16.min.js\", \"https://cdn.pydata.org/bokeh/release/bokeh-gl-0.12.16.min.js\"];\n",
       "\n",
       "  var inline_js = [\n",
       "    function(Bokeh) {\n",
       "      Bokeh.set_log_level(\"info\");\n",
       "    },\n",
       "    \n",
       "    function(Bokeh) {\n",
       "      \n",
       "    },\n",
       "    function(Bokeh) {\n",
       "      console.log(\"Bokeh: injecting CSS: https://cdn.pydata.org/bokeh/release/bokeh-0.12.16.min.css\");\n",
       "      Bokeh.embed.inject_css(\"https://cdn.pydata.org/bokeh/release/bokeh-0.12.16.min.css\");\n",
       "      console.log(\"Bokeh: injecting CSS: https://cdn.pydata.org/bokeh/release/bokeh-widgets-0.12.16.min.css\");\n",
       "      Bokeh.embed.inject_css(\"https://cdn.pydata.org/bokeh/release/bokeh-widgets-0.12.16.min.css\");\n",
       "      console.log(\"Bokeh: injecting CSS: https://cdn.pydata.org/bokeh/release/bokeh-tables-0.12.16.min.css\");\n",
       "      Bokeh.embed.inject_css(\"https://cdn.pydata.org/bokeh/release/bokeh-tables-0.12.16.min.css\");\n",
       "    }\n",
       "  ];\n",
       "\n",
       "  function run_inline_js() {\n",
       "    \n",
       "    if ((root.Bokeh !== undefined) || (force === true)) {\n",
       "      for (var i = 0; i < inline_js.length; i++) {\n",
       "        inline_js[i].call(root, root.Bokeh);\n",
       "      }if (force === true) {\n",
       "        display_loaded();\n",
       "      }} else if (Date.now() < root._bokeh_timeout) {\n",
       "      setTimeout(run_inline_js, 100);\n",
       "    } else if (!root._bokeh_failed_load) {\n",
       "      console.log(\"Bokeh: BokehJS failed to load within specified timeout.\");\n",
       "      root._bokeh_failed_load = true;\n",
       "    } else if (force !== true) {\n",
       "      var cell = $(document.getElementById(\"37a388e0-feaf-40a4-b9c2-1130d1e181e0\")).parents('.cell').data().cell;\n",
       "      cell.output_area.append_execute_result(NB_LOAD_WARNING)\n",
       "    }\n",
       "\n",
       "  }\n",
       "\n",
       "  if (root._bokeh_is_loading === 0) {\n",
       "    console.log(\"Bokeh: BokehJS loaded, going straight to plotting\");\n",
       "    run_inline_js();\n",
       "  } else {\n",
       "    load_libs(js_urls, function() {\n",
       "      console.log(\"Bokeh: BokehJS plotting callback run at\", now());\n",
       "      run_inline_js();\n",
       "    });\n",
       "  }\n",
       "}(window));"
      ],
      "application/vnd.bokehjs_load.v0+json": "\n(function(root) {\n  function now() {\n    return new Date();\n  }\n\n  var force = true;\n\n  if (typeof (root._bokeh_onload_callbacks) === \"undefined\" || force === true) {\n    root._bokeh_onload_callbacks = [];\n    root._bokeh_is_loading = undefined;\n  }\n\n  \n\n  \n  if (typeof (root._bokeh_timeout) === \"undefined\" || force === true) {\n    root._bokeh_timeout = Date.now() + 5000;\n    root._bokeh_failed_load = false;\n  }\n\n  var NB_LOAD_WARNING = {'data': {'text/html':\n     \"<div style='background-color: #fdd'>\\n\"+\n     \"<p>\\n\"+\n     \"BokehJS does not appear to have successfully loaded. If loading BokehJS from CDN, this \\n\"+\n     \"may be due to a slow or bad network connection. Possible fixes:\\n\"+\n     \"</p>\\n\"+\n     \"<ul>\\n\"+\n     \"<li>re-rerun `output_notebook()` to attempt to load from CDN again, or</li>\\n\"+\n     \"<li>use INLINE resources instead, as so:</li>\\n\"+\n     \"</ul>\\n\"+\n     \"<code>\\n\"+\n     \"from bokeh.resources import INLINE\\n\"+\n     \"output_notebook(resources=INLINE)\\n\"+\n     \"</code>\\n\"+\n     \"</div>\"}};\n\n  function display_loaded() {\n    var el = document.getElementById(\"37a388e0-feaf-40a4-b9c2-1130d1e181e0\");\n    if (el != null) {\n      el.textContent = \"BokehJS is loading...\";\n    }\n    if (root.Bokeh !== undefined) {\n      if (el != null) {\n        el.textContent = \"BokehJS \" + root.Bokeh.version + \" successfully loaded.\";\n      }\n    } else if (Date.now() < root._bokeh_timeout) {\n      setTimeout(display_loaded, 100)\n    }\n  }\n\n\n  function run_callbacks() {\n    try {\n      root._bokeh_onload_callbacks.forEach(function(callback) { callback() });\n    }\n    finally {\n      delete root._bokeh_onload_callbacks\n    }\n    console.info(\"Bokeh: all callbacks have finished\");\n  }\n\n  function load_libs(js_urls, callback) {\n    root._bokeh_onload_callbacks.push(callback);\n    if (root._bokeh_is_loading > 0) {\n      console.log(\"Bokeh: BokehJS is being loaded, scheduling callback at\", now());\n      return null;\n    }\n    if (js_urls == null || js_urls.length === 0) {\n      run_callbacks();\n      return null;\n    }\n    console.log(\"Bokeh: BokehJS not loaded, scheduling load and callback at\", now());\n    root._bokeh_is_loading = js_urls.length;\n    for (var i = 0; i < js_urls.length; i++) {\n      var url = js_urls[i];\n      var s = document.createElement('script');\n      s.src = url;\n      s.async = false;\n      s.onreadystatechange = s.onload = function() {\n        root._bokeh_is_loading--;\n        if (root._bokeh_is_loading === 0) {\n          console.log(\"Bokeh: all BokehJS libraries loaded\");\n          run_callbacks()\n        }\n      };\n      s.onerror = function() {\n        console.warn(\"failed to load library \" + url);\n      };\n      console.log(\"Bokeh: injecting script tag for BokehJS library: \", url);\n      document.getElementsByTagName(\"head\")[0].appendChild(s);\n    }\n  };var element = document.getElementById(\"37a388e0-feaf-40a4-b9c2-1130d1e181e0\");\n  if (element == null) {\n    console.log(\"Bokeh: ERROR: autoload.js configured with elementid '37a388e0-feaf-40a4-b9c2-1130d1e181e0' but no matching script tag was found. \")\n    return false;\n  }\n\n  var js_urls = [\"https://cdn.pydata.org/bokeh/release/bokeh-0.12.16.min.js\", \"https://cdn.pydata.org/bokeh/release/bokeh-widgets-0.12.16.min.js\", \"https://cdn.pydata.org/bokeh/release/bokeh-tables-0.12.16.min.js\", \"https://cdn.pydata.org/bokeh/release/bokeh-gl-0.12.16.min.js\"];\n\n  var inline_js = [\n    function(Bokeh) {\n      Bokeh.set_log_level(\"info\");\n    },\n    \n    function(Bokeh) {\n      \n    },\n    function(Bokeh) {\n      console.log(\"Bokeh: injecting CSS: https://cdn.pydata.org/bokeh/release/bokeh-0.12.16.min.css\");\n      Bokeh.embed.inject_css(\"https://cdn.pydata.org/bokeh/release/bokeh-0.12.16.min.css\");\n      console.log(\"Bokeh: injecting CSS: https://cdn.pydata.org/bokeh/release/bokeh-widgets-0.12.16.min.css\");\n      Bokeh.embed.inject_css(\"https://cdn.pydata.org/bokeh/release/bokeh-widgets-0.12.16.min.css\");\n      console.log(\"Bokeh: injecting CSS: https://cdn.pydata.org/bokeh/release/bokeh-tables-0.12.16.min.css\");\n      Bokeh.embed.inject_css(\"https://cdn.pydata.org/bokeh/release/bokeh-tables-0.12.16.min.css\");\n    }\n  ];\n\n  function run_inline_js() {\n    \n    if ((root.Bokeh !== undefined) || (force === true)) {\n      for (var i = 0; i < inline_js.length; i++) {\n        inline_js[i].call(root, root.Bokeh);\n      }if (force === true) {\n        display_loaded();\n      }} else if (Date.now() < root._bokeh_timeout) {\n      setTimeout(run_inline_js, 100);\n    } else if (!root._bokeh_failed_load) {\n      console.log(\"Bokeh: BokehJS failed to load within specified timeout.\");\n      root._bokeh_failed_load = true;\n    } else if (force !== true) {\n      var cell = $(document.getElementById(\"37a388e0-feaf-40a4-b9c2-1130d1e181e0\")).parents('.cell').data().cell;\n      cell.output_area.append_execute_result(NB_LOAD_WARNING)\n    }\n\n  }\n\n  if (root._bokeh_is_loading === 0) {\n    console.log(\"Bokeh: BokehJS loaded, going straight to plotting\");\n    run_inline_js();\n  } else {\n    load_libs(js_urls, function() {\n      console.log(\"Bokeh: BokehJS plotting callback run at\", now());\n      run_inline_js();\n    });\n  }\n}(window));"
     },
     "metadata": {},
     "output_type": "display_data"
    }
   ],
   "source": [
    "output_notebook()"
   ]
  },
  {
   "cell_type": "code",
   "execution_count": 8,
   "metadata": {
    "collapsed": true
   },
   "outputs": [],
   "source": [
    "def fmt_cool(ds_in):\n",
    "    ds = ds_in.copy(deep=True)\n",
    "    if 'igg' in ds.dims:\n",
    "        ds = ds.sel(igg=1)\n",
    "\n",
    "    if 'g' in ds.dims:\n",
    "        ds = ds.sum('g')\n",
    "            \n",
    "    if 'band' in ds.dims:\n",
    "        try:\n",
    "            ds = ds.squeeze('band')\n",
    "        except ValueError:\n",
    "            ds = ds.sum('band')\n",
    "                \n",
    "    return ds['coolrg']\n",
    "\n",
    "\n",
    "def pltdata_cooling_1(ds_cool=None,\n",
    "                      ds_cool_crd=None, ds_cool_wgt=None):\n",
    "    \n",
    "\n",
    "\n",
    "    colors = all_palettes['Set1'][4]\n",
    "    data = [{'label': 'CLIRAD `coolr_bands`',\n",
    "             'srs': fmt_cool(ds_cool),\n",
    "             'line_dash': 'dashed', 'line_width': 5,\n",
    "             'color': colors[0], 'alpha': .6},\n",
    "            {'label': 'CRD',\n",
    "             'srs': fmt_cool(ds_cool_crd),\n",
    "             'line_dash': 'solid', 'line_width': 1.5,\n",
    "             'marker': 'circle', 'marker_size': 5,\n",
    "             'color': colors[2], 'alpha': 1,},\n",
    "            {'label': 'WGT igg=10 wgt_flux=2',\n",
    "             'srs': fmt_cool(ds_cool_wgt),\n",
    "             'line_dash': 'solid', 'line_width': 3,\n",
    "             'marker': 'square', 'marker_size': 5,\n",
    "             'color': colors[3], 'alpha': .6}]\n",
    "    return data\n",
    "\n",
    "\n",
    "def nice_xlims(pltdata=None, prange=None):\n",
    "    \n",
    "    def get_slice(srs):\n",
    "        return srs.sel(pressure=slice(*prange))\n",
    "    \n",
    "    srss = [d['srs'] for d in pltdata]\n",
    "    vmin = min([get_slice(srs).min() for srs in srss])\n",
    "    vmax = max([get_slice(srs).max() for srs in srss])\n",
    "    dv = (vmax - vmin) * .01\n",
    "    return float(vmin - dv), float(vmax + dv)\n",
    "    \n",
    "\n",
    "def plt_cooling_bokeh(pltdata=None):\n",
    "    '''\n",
    "    Plot a list of cooling rate profiles using bokeh.\n",
    "    '''\n",
    "    ymin = 1e-2 \n",
    "    ymax = 1020 \n",
    "        \n",
    "    p1 = figure(title=\"Linear pressure scale\", \n",
    "                plot_width=400)        \n",
    "    xmin, xmax = nice_xlims(pltdata, prange=(50, 1050))\n",
    "    for d in pltdata:\n",
    "        if 'marker' in d:\n",
    "            getattr(p1, d['marker'])(d['srs'].values, \n",
    "                    d['srs'].coords['pressure'].values,\n",
    "                    color=d['color'], alpha=.7)\n",
    "        p1.line(d['srs'].values, \n",
    "                d['srs'].coords['pressure'].values,\n",
    "                color=d['color'], alpha=d['alpha'], \n",
    "                line_width=d['line_width'], line_dash=d['line_dash'])\n",
    "    \n",
    "    p1.y_range = Range1d(ymax, ymin)\n",
    "    p1.yaxis.axis_label = 'pressure [mb]'   \n",
    "    p1.x_range = Range1d(xmin, xmax)\n",
    "    p1.xaxis.axis_label = 'cooling rate [K/day]'\n",
    "            \n",
    "    p2 = figure(title='Log pressure scale', y_axis_type='log',\n",
    "                plot_width=560)\n",
    "    xmin, xmax = nice_xlims(pltdata, prange=(.01, 200))\n",
    "    \n",
    "    rs = []\n",
    "    for d in pltdata:\n",
    "        rd = []\n",
    "        if 'marker' in d:\n",
    "            r_mark = getattr(p2, d['marker'])(d['srs'].values, \n",
    "                        d['srs'].coords['pressure'].values,\n",
    "                        color=d['color'], alpha=.7)\n",
    "            rd.append(r_mark)\n",
    "        r_line = p2.line(d['srs'].values, \n",
    "                    d['srs'].coords['pressure'].values,\n",
    "                    color=d['color'], alpha=d['alpha'], \n",
    "                    line_width=d['line_width'], line_dash=d['line_dash'])\n",
    "        rd.append(r_line)\n",
    "      \n",
    "        rs.append(rd)\n",
    "        \n",
    "    p2.y_range = Range1d(ymax, ymin)  \n",
    "    p2.yaxis.axis_label = 'pressure [mb]'\n",
    "    \n",
    "    p2.x_range = Range1d(xmin, xmax)\n",
    "    p2.xaxis.axis_label = 'cooling rate [K/day]'\n",
    "    \n",
    "    items = [(d['label'], r) for r, d in zip(rs, pltdata)]\n",
    "    legend = Legend(items=items, location=(10, -30))\n",
    "    legend.label_text_font_size = '8pt'\n",
    "    \n",
    "    p2.add_layout(legend, 'right')  \n",
    "    \n",
    "    show(gridplot(p1, p2, ncols=2, plot_height=500))\n",
    "    \n",
    "\n",
    "def script_plt_cooling():\n",
    "    pltdata = pltdata_cooling_1(\n",
    "        ds_cool=DS_COOL,\n",
    "        ds_cool_crd=DS_COOL_CRD,\n",
    "        ds_cool_wgt=DS_COOL_WGT)\n",
    "    plt_cooling_bokeh(pltdata=pltdata)\n",
    "    print('''FIGURE. Cooling rate profiles.''')"
   ]
  },
  {
   "cell_type": "code",
   "execution_count": 9,
   "metadata": {
    "collapsed": true
   },
   "outputs": [
    {
     "name": "stdout",
     "output_type": "stream",
     "text": [
      "The history saving thread hit an unexpected error (OperationalError('database is locked',)).History will not be written to the database.\n"
     ]
    }
   ],
   "source": [
    "def fmt_flux(ds_in):\n",
    "    ds = ds_in.copy(deep=True)\n",
    "    \n",
    "    for l in ('level', 'layer'):\n",
    "        if l in ds.data_vars:\n",
    "            if len(ds[l].dims) > 1:\n",
    "                surface = {d: 0 for d in ds.dims if d != 'pressure'}\n",
    "                coord_level = ds[l][surface]\n",
    "                ds.coords[l] = ('pressure', coord_level)\n",
    "            else:\n",
    "                ds.coords[l] = ('pressure', ds[l])\n",
    "        \n",
    "    ds = ds.isel(pressure=[0, 23, -1])\n",
    "        \n",
    "    if 'igg' in ds.dims:\n",
    "        ds = ds.sel(igg=[1])\n",
    "        ds = ds.squeeze('igg').drop('igg')\n",
    "    \n",
    "    if 'g' in ds.dims:\n",
    "        ds = ds.sum('g')\n",
    "            \n",
    "    if 'band' in ds.dims:\n",
    "        try:\n",
    "            ds = ds.squeeze('band').drop('band')\n",
    "        except ValueError:\n",
    "            ds = ds.sum('band')\n",
    "                \n",
    "    df = ds.to_dataframe()\n",
    "    df = df.set_index('level', append=True)               \n",
    "    return df\n",
    "\n",
    "\n",
    "def tbdata_flux(ds_flux=None, ds_flux_crd=None, ds_flux_wgt=None):\n",
    "    ilevels = [0, 23, -1]\n",
    "            \n",
    "    benchmark = {'label': 'CRD',\n",
    "                 'df': fmt_flux(ds_flux_crd)}\n",
    "    \n",
    "    tbs = [{'label': 'WGT igg=10 wgt_flux=1',\n",
    "            'df': fmt_flux(ds_flux_wgt)},\n",
    "           {'label': 'CLIRAD',\n",
    "            'df': fmt_flux(ds_flux)}]\n",
    "    \n",
    "    data = {'benchmark': benchmark, 'others': tbs}\n",
    "    return data\n",
    "\n",
    "\n",
    "def tb_flux(tbdata=None):\n",
    "    benchmark = tbdata['benchmark']\n",
    "    others = tbdata['others']\n",
    "    \n",
    "    def show_tb(d=None):\n",
    "        display.display(d['df'])\n",
    "        print('Table.', 'Fluxes.', d['label'])\n",
    "        \n",
    "    def show_tbdiff(d0=None, d=None):\n",
    "        df = d['df']\n",
    "        df.index = d0['df'].index\n",
    "        display.display(df - d0['df'])\n",
    "        print('Table.', 'Fluxes.', \n",
    "              '({}) - ({})'.format(d['label'], d0['label']))\n",
    "        \n",
    "    show_tb(benchmark)\n",
    "    for d in others:\n",
    "        show_tb(d)\n",
    "        \n",
    "    for d in others:\n",
    "        show_tbdiff(d=d, d0=benchmark)\n",
    "        \n",
    "        \n",
    "def script_tb_flux():\n",
    "    data = tbdata_flux(ds_flux=DS_FLUX,\n",
    "                       ds_flux_crd=DS_FLUX_CRD,\n",
    "                       ds_flux_wgt=DS_FLUX_WGT)\n",
    "    tb_flux(tbdata=data)"
   ]
  },
  {
   "cell_type": "code",
   "execution_count": 10,
   "metadata": {
    "collapsed": true
   },
   "outputs": [],
   "source": [
    "def band_map():\n",
    "    '''\n",
    "    Maps spectral bands in lblnew to spectral bands in clirad.\n",
    "    '''\n",
    "    lblnew2clirad = {'1': '1',\n",
    "            '2': '2',\n",
    "            '3a': '3',\n",
    "            '3b': '4',\n",
    "            '3c': '5',\n",
    "            '4': '6', \n",
    "            '5': '7',\n",
    "            '6': '8',\n",
    "            '7': '9', \n",
    "            '8': '10',\n",
    "            '9': '11'}\n",
    "    \n",
    "    clirad2lblnew = {clirad: lblnew \n",
    "                     for lblnew, clirad in lblnew2clirad.items()}\n",
    "    return clirad2lblnew\n",
    "\n",
    "\n",
    "def gasbands():\n",
    "    bmap = band_map()\n",
    "    gases = list(PARAM['molecule'].keys())\n",
    "    \n",
    "    bands = [bmap[str(b)] for b in PARAM['band']]\n",
    "    return list(itertools.product(gases, bands))\n",
    "\n",
    "\n",
    "def print_bestfit_params():\n",
    "    print('Best-fit values for each (gas, band)')\n",
    "    print('------------------------------------')\n",
    "    for gas, band in gasbands():\n",
    "        print('o {} band{}'.format(gas, band))\n",
    "        param = bestfits.kdist_params(molecule=gas, band=band)\n",
    "        for name, value in sorted(param.items()):\n",
    "            print(2 * ' ' + '{} = {}'.format(name, value))\n",
    "\n",
    "        \n",
    "def print_input_param():        \n",
    "    for name, value in PARAM.items():\n",
    "        print('{} = {}'.format(name, value))\n",
    "        \n",
    "        \n",
    "def print_lblnew_param():\n",
    "    for name, value in sorted(PARAM_LBLNEW.items()):\n",
    "        print('{} = {}'.format(name, value))\n"
   ]
  },
  {
   "cell_type": "code",
   "execution_count": 11,
   "metadata": {
    "collapsed": true,
    "scrolled": false
   },
   "outputs": [],
   "source": [
    "def show_html(s):\n",
    "    display.display(display.HTML(s))\n",
    "\n",
    "    \n",
    "def show_markdown(s):\n",
    "    display.display(display.Markdown(s))\n",
    "\n",
    "    \n",
    "def script():\n",
    "    \n",
    "    title = '### CLIRAD-LW'\n",
    "    s_input = 'Input Parameters'\n",
    "    s_lblnew_param = 'LBLNEW case compaired against'\n",
    "    s_bestfits = 'Best-fit Parameters'\n",
    "    s_plt_cooling = 'Cooling Rate Profiles'\n",
    "    s_tb_flux = 'Flux Comparison'\n",
    "    \n",
    "    # title\n",
    "    show_markdown('### CLIRAD-LW')\n",
    "    \n",
    "    # TOC\n",
    "    show_markdown('### Table of Contents')\n",
    "    show_html(climahtml.getHTML_hrefanchor(s_input))\n",
    "    show_html(climahtml.getHTML_hrefanchor(s_lblnew_param))\n",
    "    show_html(climahtml.getHTML_hrefanchor(s_plt_cooling))\n",
    "    show_html(climahtml.getHTML_hrefanchor(s_tb_flux))\n",
    "    show_html(climahtml.getHTML_hrefanchor(s_bestfits))\n",
    "    \n",
    "    # Input parameters\n",
    "    show_html(climahtml.getHTML_idanchor(s_input))\n",
    "    show_markdown(climahtml.getMarkdown_sectitle(s_input))\n",
    "    print_input_param()\n",
    "    \n",
    "    # LBLNEW parameters \n",
    "    show_html(climahtml.getHTML_idanchor(s_lblnew_param))\n",
    "    show_markdown(climahtml.getMarkdown_sectitle(s_lblnew_param))\n",
    "    print_lblnew_param()\n",
    "    \n",
    "    # Cooling rate profiles\n",
    "    show_html(climahtml.getHTML_idanchor(s_plt_cooling))\n",
    "    show_markdown(climahtml.getMarkdown_sectitle(s_plt_cooling))\n",
    "    script_plt_cooling()\n",
    "    \n",
    "    # Flux comparison\n",
    "    show_html(climahtml.getHTML_idanchor(s_tb_flux))\n",
    "    show_markdown(climahtml.getMarkdown_sectitle(s_tb_flux))\n",
    "    script_tb_flux()\n",
    "    \n",
    "    # Best-fit values\n",
    "    show_html(climahtml.getHTML_idanchor(s_bestfits))\n",
    "    show_markdown(climahtml.getMarkdown_sectitle(s_bestfits))\n",
    "    print_bestfit_params()\n",
    "   \n",
    "    "
   ]
  },
  {
   "cell_type": "code",
   "execution_count": 12,
   "metadata": {
    "collapsed": true,
    "scrolled": false
   },
   "outputs": [
    {
     "data": {
      "text/markdown": [
       "### CLIRAD-LW"
      ],
      "text/plain": [
       "<IPython.core.display.Markdown object>"
      ]
     },
     "metadata": {},
     "output_type": "display_data"
    },
    {
     "data": {
      "text/markdown": [
       "### Table of Contents"
      ],
      "text/plain": [
       "<IPython.core.display.Markdown object>"
      ]
     },
     "metadata": {},
     "output_type": "display_data"
    },
    {
     "data": {
      "text/html": [
       "<a href=\"#Input_Parameters\">Input Parameters</a>"
      ],
      "text/plain": [
       "<IPython.core.display.HTML object>"
      ]
     },
     "metadata": {},
     "output_type": "display_data"
    },
    {
     "data": {
      "text/html": [
       "<a href=\"#LBLNEW_case_compaired_against\">LBLNEW case compaired against</a>"
      ],
      "text/plain": [
       "<IPython.core.display.HTML object>"
      ]
     },
     "metadata": {},
     "output_type": "display_data"
    },
    {
     "data": {
      "text/html": [
       "<a href=\"#Cooling_Rate_Profiles\">Cooling Rate Profiles</a>"
      ],
      "text/plain": [
       "<IPython.core.display.HTML object>"
      ]
     },
     "metadata": {},
     "output_type": "display_data"
    },
    {
     "data": {
      "text/html": [
       "<a href=\"#Flux_Comparison\">Flux Comparison</a>"
      ],
      "text/plain": [
       "<IPython.core.display.HTML object>"
      ]
     },
     "metadata": {},
     "output_type": "display_data"
    },
    {
     "data": {
      "text/html": [
       "<a href=\"#Best-fit_Parameters\">Best-fit Parameters</a>"
      ],
      "text/plain": [
       "<IPython.core.display.HTML object>"
      ]
     },
     "metadata": {},
     "output_type": "display_data"
    },
    {
     "data": {
      "text/html": [
       "<a id=\"Input_Parameters\"></a>"
      ],
      "text/plain": [
       "<IPython.core.display.HTML object>"
      ]
     },
     "metadata": {},
     "output_type": "display_data"
    },
    {
     "data": {
      "text/markdown": [
       "# Input Parameters"
      ],
      "text/plain": [
       "<IPython.core.display.Markdown object>"
      ]
     },
     "metadata": {},
     "output_type": "display_data"
    },
    {
     "name": "stdout",
     "output_type": "stream",
     "text": [
      "atmpro = saw\n",
      "band = [8]\n",
      "commitnumber = de5d43e\n",
      "molecule = {'h2o': 'atmpro'}\n",
      "tsfc = 257\n"
     ]
    },
    {
     "data": {
      "text/html": [
       "<a id=\"LBLNEW_case_compaired_against\"></a>"
      ],
      "text/plain": [
       "<IPython.core.display.HTML object>"
      ]
     },
     "metadata": {},
     "output_type": "display_data"
    },
    {
     "data": {
      "text/markdown": [
       "# LBLNEW case compaired against"
      ],
      "text/plain": [
       "<IPython.core.display.Markdown object>"
      ]
     },
     "metadata": {},
     "output_type": "display_data"
    },
    {
     "name": "stdout",
     "output_type": "stream",
     "text": [
      "atmpro = saw\n",
      "band = 6\n",
      "commitnumber = 5014a19\n",
      "conc = None\n",
      "dv = 0.001\n",
      "klin = 5e-25\n",
      "molecule = h2o\n",
      "ng_adju = [0]\n",
      "ng_refs = [4]\n",
      "nv = 1000\n",
      "option_compute_btable = 0\n",
      "option_compute_ktable = 0\n",
      "option_wgt_flux = 1\n",
      "option_wgt_k = 1\n",
      "ref_pts = [(600, 250)]\n",
      "tsfc = 257\n",
      "vmax = 1215\n",
      "vmin = 1100\n",
      "w_diffuse = [(1.66, 1.66, 1.7, 1.8)]\n",
      "wgt = [(0.3, 0.45, 0.6, 0.95)]\n"
     ]
    },
    {
     "data": {
      "text/html": [
       "<a id=\"Cooling_Rate_Profiles\"></a>"
      ],
      "text/plain": [
       "<IPython.core.display.HTML object>"
      ]
     },
     "metadata": {},
     "output_type": "display_data"
    },
    {
     "data": {
      "text/markdown": [
       "# Cooling Rate Profiles"
      ],
      "text/plain": [
       "<IPython.core.display.Markdown object>"
      ]
     },
     "metadata": {},
     "output_type": "display_data"
    },
    {
     "data": {
      "text/html": [
       "\n",
       "<div class=\"bk-root\">\n",
       "    <div class=\"bk-plotdiv\" id=\"1353d0e5-d740-41fa-92fd-c96d84aac767\"></div>\n",
       "</div>"
      ]
     },
     "metadata": {},
     "output_type": "display_data"
    },
    {
     "data": {
      "application/javascript": [
       "(function(root) {\n",
       "  function embed_document(root) {\n",
       "    \n",
       "  var docs_json = {\"590e68f0-7806-4b5e-b22e-81cc38a79ebf\":{\"roots\":{\"references\":[{\"attributes\":{\"children\":[{\"id\":\"d001188b-4a6a-42ac-92fc-e442b3e7deb8\",\"type\":\"ToolbarBox\"},{\"id\":\"5a9a4b45-c6ba-405d-8a26-abc99f2901d1\",\"type\":\"Column\"}]},\"id\":\"26301042-c4b0-4d93-b9e9-5de5d2d20850\",\"type\":\"Column\"},{\"attributes\":{\"axis_label\":\"cooling rate [K/day]\",\"formatter\":{\"id\":\"e7898e1a-8e8b-4767-a35a-355015b328ae\",\"type\":\"BasicTickFormatter\"},\"plot\":{\"id\":\"69009e36-ff5b-4e36-a988-3da1fb17cd7c\",\"subtype\":\"Figure\",\"type\":\"Plot\"},\"ticker\":{\"id\":\"9cd00a0c-d1d8-4ca2-8132-93a4894c9278\",\"type\":\"BasicTicker\"}},\"id\":\"d2912ba0-3ec2-4146-96c3-c2e71b0fe1eb\",\"type\":\"LinearAxis\"},{\"attributes\":{},\"id\":\"712bd63d-7279-4d4e-bea2-377b03e32e37\",\"type\":\"HelpTool\"},{\"attributes\":{\"active_drag\":\"auto\",\"active_inspect\":\"auto\",\"active_scroll\":\"auto\",\"active_tap\":\"auto\",\"tools\":[{\"id\":\"04726e8f-edf1-4a72-86b6-896151aff983\",\"type\":\"PanTool\"},{\"id\":\"b42b6281-007e-454b-bc74-8c42303d2f53\",\"type\":\"WheelZoomTool\"},{\"id\":\"961a7887-8ca0-4235-ad7a-8c3498c169fd\",\"type\":\"BoxZoomTool\"},{\"id\":\"c883e648-6716-460d-98d1-eabd942a7f3c\",\"type\":\"SaveTool\"},{\"id\":\"20db3948-cf0f-4b35-ae7e-feecb3c96268\",\"type\":\"ResetTool\"},{\"id\":\"6bd9b32e-ac27-4e59-b9e8-6ce7cd6c37a6\",\"type\":\"HelpTool\"}]},\"id\":\"978005df-8f27-4268-aa5a-49397cf523de\",\"type\":\"Toolbar\"},{\"attributes\":{\"axis_label\":\"pressure [mb]\",\"formatter\":{\"id\":\"fe453a0f-6941-4d52-9382-be330268bed8\",\"type\":\"BasicTickFormatter\"},\"plot\":{\"id\":\"69009e36-ff5b-4e36-a988-3da1fb17cd7c\",\"subtype\":\"Figure\",\"type\":\"Plot\"},\"ticker\":{\"id\":\"6dbefbe1-0378-4ca9-9288-1e191209b9f4\",\"type\":\"BasicTicker\"}},\"id\":\"9fc1466c-5546-4c1c-8758-ec379a4f4e7e\",\"type\":\"LinearAxis\"},{\"attributes\":{\"plot\":null,\"text\":\"Linear pressure scale\"},\"id\":\"2b4056f7-15d6-46fc-acef-02cf7c26efe6\",\"type\":\"Title\"},{\"attributes\":{\"children\":[{\"id\":\"934a3103-92f3-4259-a0cd-ec010edeb74c\",\"type\":\"Row\"}]},\"id\":\"5a9a4b45-c6ba-405d-8a26-abc99f2901d1\",\"type\":\"Column\"},{\"attributes\":{},\"id\":\"20db3948-cf0f-4b35-ae7e-feecb3c96268\",\"type\":\"ResetTool\"},{\"attributes\":{},\"id\":\"5afd5e01-c083-4cba-a5ef-b15cae17b746\",\"type\":\"LogScale\"},{\"attributes\":{\"callback\":null,\"data\":{\"x\":{\"__ndarray__\":\"mUpT7yHn3b6Lovs0j/bbvsbXa/1UI9e+DZqMwabV0L7LO8kREbrBvgmZV0gdz5A+OL6r11hwyj7JIK3M+/7bPhGB8TNN4+Y+HOIR6HPA8D4Zom5LOAz3PlQjVA3ceP4+Oc5M5fqRAz8H8ax0pQAIPyJ3ILVp2gs/6jYitdyCDz+/ZJbmcL4RP7F2/kru6RM/Re71bSNIFj+g40Lxqd0YP9FGaHayZhs/nP4U4AWPGT+Wq7cSi78SPy4cVCbAggg/ACRVXX7f/T4QvmHpYf7vPoppVPUVo9g+fdpC8AONcT5oLznqixjKvmfeEMGJ39W+HqYX99ge3b5ibnc+5YXhvveO5yrQEeO+3OY4Kbor476XXWOChNfivuBhhS33XuK+PdyVwDsP4r4k9fLqxdDiviaonf1dNuy+RD44DA6d877cm+6/Prf6vvdZKC8rpgC/NjXBicdEBL+yWNcttKoIv5gbxMlomg2/xo8AfMsAEL885b8VomYLv+OxgYhWevy+2HaOIjfy9D7AQseImLAhPztoCg0Zijc/6fTCveT7Rz/qpv5jtv1UP2SuXS0SjWA/Hyz3yFwcaD96CjQOZHlwP6Cqz54wX3U/78dkkGSEej9sADk3fb5/P1q0Jy1ZcoI/SBwo9rfjhD83DBOtyTaHP1rTJFJQXYk/erExlY1iiz8qRenwvUqNPzt4Oz1VF48/g6czat9jkD+Hvbw3gCKRPxms992tmpE/ItiYXrmakT8EYFiPluKQP+KKN6tcIo8/zQVZ+QQ6jD9w0D5oXl6JP+hS1vh/o4Y/\",\"dtype\":\"float64\",\"shape\":[75]},\"y\":{\"__ndarray__\":\"GhExyth1ND/Sv8nbtpRIP2vylNV0PVE/aTum7souWD/At0SJ8fVgPw3Iuahxymc/MSNhhJWvcD/bTfBN02d3P2zb5nxnaoA/CD5h5MAGhz8NmeH1TyaQP+zrCsc9p5Y/LbKd76fGnz/bLW5ISEmmPww9YvTcQq8/JV2OstnstT8Er5Y7M8G+P0c+r3jqkcU/5h99k6ZBzj88bCIzFzjVP4enV8oyxN0//yH99nXg5D8qOpLLf0jtP5kqGJXUifQ/c9cS8kHP/D+/DpwzojQEQIEmwoanVwxA4lgXt9HgE0BSSZ2AJuIbQAMJih9jjiNA5q4l5INuK0AwTKYKRj0zQNv5fmq8/DpAaCJseHrtQkB/+zpwzoxKQM3MzMzMeFJAZmZmZmZqWEAAAAAAAFxeQM3MzMzMJmJAmpmZmZkfZUBmZmZmZhhoQDMzMzMzEWtAAAAAAAAKbkBmZmZmZoFwQM3MzMzM/XFAMzMzMzN6c0CamZmZmfZ0QAAAAAAAc3ZAZmZmZmbvd0DNzMzMzGt5QDMzMzMz6HpAmpmZmZlkfEAAAAAAAOF9QGZmZmZmXX9AZmZmZuZsgECamZmZGSuBQM3MzMxM6YFAAAAAAICngkAzMzMzs2WDQGZmZmbmI4RAmpmZmRnihEDNzMzMTKCFQAAAAACAXoZAMzMzM7Mch0BmZmZm5tqHQJqZmZkZmYhAzczMzExXiUAAAAAAgBWKQDMzMzOz04pAZmZmZuaRi0CamZmZGVCMQM3MzMxMDo1AAAAAAIDMjUAzMzMzs4qOQGZmZmbmSI9A\",\"dtype\":\"float64\",\"shape\":[75]}},\"selected\":{\"id\":\"6c6dab87-ae4d-4cdf-8e8c-831e98ffc22c\",\"type\":\"Selection\"},\"selection_policy\":{\"id\":\"82729da9-ddb3-4156-9aae-5e27e1a4bbe9\",\"type\":\"UnionRenderers\"}},\"id\":\"b2e40217-c7dd-4e23-ab11-e7e7d9466d73\",\"type\":\"ColumnDataSource\"},{\"attributes\":{\"fill_alpha\":{\"value\":0.1},\"fill_color\":{\"value\":\"#1f77b4\"},\"line_alpha\":{\"value\":0.1},\"line_color\":{\"value\":\"#1f77b4\"},\"x\":{\"field\":\"x\"},\"y\":{\"field\":\"y\"}},\"id\":\"3431d2a3-e03f-4826-95fe-7a31c43748ef\",\"type\":\"Circle\"},{\"attributes\":{},\"id\":\"b42b6281-007e-454b-bc74-8c42303d2f53\",\"type\":\"WheelZoomTool\"},{\"attributes\":{\"data_source\":{\"id\":\"12e5551c-dccb-4bcf-bbf5-9549e38ec7d1\",\"type\":\"ColumnDataSource\"},\"glyph\":{\"id\":\"b1160c40-93d9-48f2-9b5d-5da0b9cccec4\",\"type\":\"Line\"},\"hover_glyph\":null,\"muted_glyph\":null,\"nonselection_glyph\":{\"id\":\"0921077e-86c8-4b37-aac4-0fc5b637e7d9\",\"type\":\"Line\"},\"selection_glyph\":null,\"view\":{\"id\":\"d9877646-8aea-4d7c-b0c8-75e7a2458459\",\"type\":\"CDSView\"}},\"id\":\"39290aa1-913b-4ff1-9031-4007132472c3\",\"type\":\"GlyphRenderer\"},{\"attributes\":{\"callback\":null,\"data\":{\"x\":{\"__ndarray__\":\"1o7zXheG375BQMeU9/PXvk01pgD3xra+wg7gj3Vg0T5yGVCA3uvmPucZjTO3JfQ+pUx6Uwel/j5mLOBVbJ4FP9V0Z6HmHg0/yrT1JqkAEz/cYMtUcjwYP4/rjJBqXh4/SqeZbBK/Ij9nzSsuLV8mP5b45ZjrgSk/4DbkZr95LD+4XqVLl68vP7CH1GjnljE/bU6q1UJ6Mz8/4U0s3YI1P0yzjJKodzc/K7AXmrbjNT+bs15vsFMwP5X8ULVSEiY/d335nqOMHD/C2i6fdT4RPwWlbl7vgwI/MxZNeuNz8T7gMcp/mcnbPruqiJechJQ+p1lm9+670r4FJOvlo5rgvoH3zPD4EuO+uALZlERk4b7b+aheMIvdvgw8jTcAgdi+T3Y8Kxdx1b6JBFBKJfjWviUc7yU6wOK+rT1SS0ey7L4EokHP4yD1vheW5NbiKvy+Es2vE94jAr9e5kiBODcHv57YSsUo6Ay/wVshMLPGDr8wuQj2FbMGvygLO3O439a+dcHPXvgBEj9981nw/mEuP94uPLZzD0E/BfPDtJ+cTz9n9z727t9ZPy22xQy/YWM/NbWbwSAnaz/1K+UJgAlyPzt3Q+Kz+HY/oEnI4uM8fD86MQ5no9eAPxF+98DmkoM/iYdYRug8hj8IRykeoMaIP08cgtvBJYs/3fw4+pVXjT9GSxuXPGGPPzro8f/TopA/nmNmvR2DkT/0ZDs1UEaSP3bfBryZv5I/3pgpo02ykj8Onfcvq9iRP004Pe3FV5A/U++zDmpmjT8sER8N5C+KP6rbVR96GIc/\",\"dtype\":\"float64\",\"shape\":[75]},\"y\":{\"__ndarray__\":\"GhExyth1ND/Sv8nbtpRIP2vylNV0PVE/aTum7souWD/At0SJ8fVgPw3Iuahxymc/MSNhhJWvcD/bTfBN02d3P2zb5nxnaoA/CD5h5MAGhz8NmeH1TyaQP+zrCsc9p5Y/LbKd76fGnz/bLW5ISEmmPww9YvTcQq8/JV2OstnstT8Er5Y7M8G+P0c+r3jqkcU/5h99k6ZBzj88bCIzFzjVP4enV8oyxN0//yH99nXg5D8qOpLLf0jtP5kqGJXUifQ/c9cS8kHP/D+/DpwzojQEQIEmwoanVwxA4lgXt9HgE0BSSZ2AJuIbQAMJih9jjiNA5q4l5INuK0AwTKYKRj0zQNv5fmq8/DpAaCJseHrtQkB/+zpwzoxKQM3MzMzMeFJAZmZmZmZqWEAAAAAAAFxeQM3MzMzMJmJAmpmZmZkfZUBmZmZmZhhoQDMzMzMzEWtAAAAAAAAKbkBmZmZmZoFwQM3MzMzM/XFAMzMzMzN6c0CamZmZmfZ0QAAAAAAAc3ZAZmZmZmbvd0DNzMzMzGt5QDMzMzMz6HpAmpmZmZlkfEAAAAAAAOF9QGZmZmZmXX9AZmZmZuZsgECamZmZGSuBQM3MzMxM6YFAAAAAAICngkAzMzMzs2WDQGZmZmbmI4RAmpmZmRnihEDNzMzMTKCFQAAAAACAXoZAMzMzM7Mch0BmZmZm5tqHQJqZmZkZmYhAzczMzExXiUAAAAAAgBWKQDMzMzOz04pAZmZmZuaRi0CamZmZGVCMQM3MzMxMDo1AAAAAAIDMjUAzMzMzs4qOQGZmZmbmSI9A\",\"dtype\":\"float64\",\"shape\":[75]}},\"selected\":{\"id\":\"57ea5291-eca1-4b4e-b705-f0c7d350d268\",\"type\":\"Selection\"},\"selection_policy\":{\"id\":\"1a3bc222-d6e7-4cec-9f52-3c0b534ed33f\",\"type\":\"UnionRenderers\"}},\"id\":\"40b80bfe-7b97-4994-907f-ad552118ea76\",\"type\":\"ColumnDataSource\"},{\"attributes\":{\"overlay\":{\"id\":\"32094e9e-eb67-4611-8e04-bdb8db9425a4\",\"type\":\"BoxAnnotation\"}},\"id\":\"961a7887-8ca0-4235-ad7a-8c3498c169fd\",\"type\":\"BoxZoomTool\"},{\"attributes\":{\"dimension\":1,\"plot\":{\"id\":\"35646175-9ade-447b-9647-eed1b2157854\",\"subtype\":\"Figure\",\"type\":\"Plot\"},\"ticker\":{\"id\":\"8096b132-5c87-4c91-b318-16bc2c9d901d\",\"type\":\"LogTicker\"}},\"id\":\"24c10494-2ed4-44ea-9820-5ce3ab02b840\",\"type\":\"Grid\"},{\"attributes\":{\"data_source\":{\"id\":\"40b80bfe-7b97-4994-907f-ad552118ea76\",\"type\":\"ColumnDataSource\"},\"glyph\":{\"id\":\"4a84635f-c234-4d60-b20e-6e610939fe47\",\"type\":\"Circle\"},\"hover_glyph\":null,\"muted_glyph\":null,\"nonselection_glyph\":{\"id\":\"3431d2a3-e03f-4826-95fe-7a31c43748ef\",\"type\":\"Circle\"},\"selection_glyph\":null,\"view\":{\"id\":\"61f9dac5-7086-4de0-afc6-0beebfb731e6\",\"type\":\"CDSView\"}},\"id\":\"7069f495-2fd8-45d4-97cf-ba0347572b03\",\"type\":\"GlyphRenderer\"},{\"attributes\":{\"callback\":null,\"end\":0.01,\"start\":1020},\"id\":\"75604857-8960-427a-9b1b-1dee918029af\",\"type\":\"Range1d\"},{\"attributes\":{\"plot\":null,\"text\":\"Log pressure scale\"},\"id\":\"2cf5fe4d-2e05-4646-9b60-e31f3fe4a6d9\",\"type\":\"Title\"},{\"attributes\":{\"source\":{\"id\":\"4cabce3b-7a32-4058-9f90-cccae978ca3f\",\"type\":\"ColumnDataSource\"}},\"id\":\"4e9a2b43-5ac5-430d-8933-ab441ba975c3\",\"type\":\"CDSView\"},{\"attributes\":{},\"id\":\"9108e0a0-375d-4a47-8669-a601f8d57563\",\"type\":\"SaveTool\"},{\"attributes\":{},\"id\":\"9cd00a0c-d1d8-4ca2-8132-93a4894c9278\",\"type\":\"BasicTicker\"},{\"attributes\":{\"fill_alpha\":{\"value\":0.7},\"fill_color\":{\"value\":\"#4daf4a\"},\"line_alpha\":{\"value\":0.7},\"line_color\":{\"value\":\"#4daf4a\"},\"x\":{\"field\":\"x\"},\"y\":{\"field\":\"y\"}},\"id\":\"bf6af580-0f51-428c-90bd-0ac22f1fe179\",\"type\":\"Circle\"},{\"attributes\":{\"fill_alpha\":{\"value\":0.7},\"fill_color\":{\"value\":\"#984ea3\"},\"line_alpha\":{\"value\":0.7},\"line_color\":{\"value\":\"#984ea3\"},\"x\":{\"field\":\"x\"},\"y\":{\"field\":\"y\"}},\"id\":\"c841cd52-1c60-4f8f-a549-0e68eb829e45\",\"type\":\"Square\"},{\"attributes\":{\"plot\":{\"id\":\"69009e36-ff5b-4e36-a988-3da1fb17cd7c\",\"subtype\":\"Figure\",\"type\":\"Plot\"},\"ticker\":{\"id\":\"9cd00a0c-d1d8-4ca2-8132-93a4894c9278\",\"type\":\"BasicTicker\"}},\"id\":\"8a3bf459-4239-4b89-a378-a5bddb726898\",\"type\":\"Grid\"},{\"attributes\":{},\"id\":\"04726e8f-edf1-4a72-86b6-896151aff983\",\"type\":\"PanTool\"},{\"attributes\":{\"line_alpha\":0.1,\"line_color\":\"#1f77b4\",\"line_width\":3,\"x\":{\"field\":\"x\"},\"y\":{\"field\":\"y\"}},\"id\":\"663a82da-4c9f-4511-ac17-803cc3ab546c\",\"type\":\"Line\"},{\"attributes\":{\"bottom_units\":\"screen\",\"fill_alpha\":{\"value\":0.5},\"fill_color\":{\"value\":\"lightgrey\"},\"left_units\":\"screen\",\"level\":\"overlay\",\"line_alpha\":{\"value\":1.0},\"line_color\":{\"value\":\"black\"},\"line_dash\":[4,4],\"line_width\":{\"value\":2},\"plot\":null,\"render_mode\":\"css\",\"right_units\":\"screen\",\"top_units\":\"screen\"},\"id\":\"32094e9e-eb67-4611-8e04-bdb8db9425a4\",\"type\":\"BoxAnnotation\"},{\"attributes\":{},\"id\":\"3132a343-ef78-4ce1-b89d-d93f81d7f1ac\",\"type\":\"BasicTicker\"},{\"attributes\":{\"data_source\":{\"id\":\"3e4a21a6-eb50-4add-a411-3af90623b311\",\"type\":\"ColumnDataSource\"},\"glyph\":{\"id\":\"66e54b78-bea4-4269-8f5b-18c7785ee6e4\",\"type\":\"Line\"},\"hover_glyph\":null,\"muted_glyph\":null,\"nonselection_glyph\":{\"id\":\"a57f357d-eb0b-46f5-98df-15127735e38c\",\"type\":\"Line\"},\"selection_glyph\":null,\"view\":{\"id\":\"16df11b0-bc51-4380-8dd8-97e96e977928\",\"type\":\"CDSView\"}},\"id\":\"ebe71f1a-dde9-47f4-a749-b22bd5a529c9\",\"type\":\"GlyphRenderer\"},{\"attributes\":{},\"id\":\"6dbefbe1-0378-4ca9-9288-1e191209b9f4\",\"type\":\"BasicTicker\"},{\"attributes\":{\"dimension\":1,\"plot\":{\"id\":\"69009e36-ff5b-4e36-a988-3da1fb17cd7c\",\"subtype\":\"Figure\",\"type\":\"Plot\"},\"ticker\":{\"id\":\"6dbefbe1-0378-4ca9-9288-1e191209b9f4\",\"type\":\"BasicTicker\"}},\"id\":\"097bfd8d-6022-45af-a565-6203f5d5be53\",\"type\":\"Grid\"},{\"attributes\":{},\"id\":\"6bd9b32e-ac27-4e59-b9e8-6ce7cd6c37a6\",\"type\":\"HelpTool\"},{\"attributes\":{\"fill_alpha\":{\"value\":0.7},\"fill_color\":{\"value\":\"#4daf4a\"},\"line_alpha\":{\"value\":0.7},\"line_color\":{\"value\":\"#4daf4a\"},\"x\":{\"field\":\"x\"},\"y\":{\"field\":\"y\"}},\"id\":\"4a84635f-c234-4d60-b20e-6e610939fe47\",\"type\":\"Circle\"},{\"attributes\":{\"data_source\":{\"id\":\"c41e17a9-edcb-4676-bbf9-a7619761e5a0\",\"type\":\"ColumnDataSource\"},\"glyph\":{\"id\":\"082e8a2f-5cc4-4111-ad0c-74ea3b8dfcfa\",\"type\":\"Line\"},\"hover_glyph\":null,\"muted_glyph\":null,\"nonselection_glyph\":{\"id\":\"726601b3-4315-4e6a-ada4-81009f6c52e7\",\"type\":\"Line\"},\"selection_glyph\":null,\"view\":{\"id\":\"6e91341f-8949-4086-8eca-c09f081b9650\",\"type\":\"CDSView\"}},\"id\":\"bb64c28e-95a1-4390-a943-5661a3b85d99\",\"type\":\"GlyphRenderer\"},{\"attributes\":{\"data_source\":{\"id\":\"4cabce3b-7a32-4058-9f90-cccae978ca3f\",\"type\":\"ColumnDataSource\"},\"glyph\":{\"id\":\"c841cd52-1c60-4f8f-a549-0e68eb829e45\",\"type\":\"Square\"},\"hover_glyph\":null,\"muted_glyph\":null,\"nonselection_glyph\":{\"id\":\"877917f1-6c4e-4fce-8a0c-5758166d3882\",\"type\":\"Square\"},\"selection_glyph\":null,\"view\":{\"id\":\"4e9a2b43-5ac5-430d-8933-ab441ba975c3\",\"type\":\"CDSView\"}},\"id\":\"1faadcfe-98ca-4df8-9686-cb98b2420766\",\"type\":\"GlyphRenderer\"},{\"attributes\":{\"callback\":null,\"data\":{\"x\":{\"__ndarray__\":\"1o7zXheG375BQMeU9/PXvk01pgD3xra+wg7gj3Vg0T5yGVCA3uvmPucZjTO3JfQ+pUx6Uwel/j5mLOBVbJ4FP9V0Z6HmHg0/yrT1JqkAEz/cYMtUcjwYP4/rjJBqXh4/SqeZbBK/Ij9nzSsuLV8mP5b45ZjrgSk/4DbkZr95LD+4XqVLl68vP7CH1GjnljE/bU6q1UJ6Mz8/4U0s3YI1P0yzjJKodzc/K7AXmrbjNT+bs15vsFMwP5X8ULVSEiY/d335nqOMHD/C2i6fdT4RPwWlbl7vgwI/MxZNeuNz8T7gMcp/mcnbPruqiJechJQ+p1lm9+670r4FJOvlo5rgvoH3zPD4EuO+uALZlERk4b7b+aheMIvdvgw8jTcAgdi+T3Y8Kxdx1b6JBFBKJfjWviUc7yU6wOK+rT1SS0ey7L4EokHP4yD1vheW5NbiKvy+Es2vE94jAr9e5kiBODcHv57YSsUo6Ay/wVshMLPGDr8wuQj2FbMGvygLO3O439a+dcHPXvgBEj9981nw/mEuP94uPLZzD0E/BfPDtJ+cTz9n9z727t9ZPy22xQy/YWM/NbWbwSAnaz/1K+UJgAlyPzt3Q+Kz+HY/oEnI4uM8fD86MQ5no9eAPxF+98DmkoM/iYdYRug8hj8IRykeoMaIP08cgtvBJYs/3fw4+pVXjT9GSxuXPGGPPzro8f/TopA/nmNmvR2DkT/0ZDs1UEaSP3bfBryZv5I/3pgpo02ykj8Onfcvq9iRP004Pe3FV5A/U++zDmpmjT8sER8N5C+KP6rbVR96GIc/\",\"dtype\":\"float64\",\"shape\":[75]},\"y\":{\"__ndarray__\":\"GhExyth1ND/Sv8nbtpRIP2vylNV0PVE/aTum7souWD/At0SJ8fVgPw3Iuahxymc/MSNhhJWvcD/bTfBN02d3P2zb5nxnaoA/CD5h5MAGhz8NmeH1TyaQP+zrCsc9p5Y/LbKd76fGnz/bLW5ISEmmPww9YvTcQq8/JV2OstnstT8Er5Y7M8G+P0c+r3jqkcU/5h99k6ZBzj88bCIzFzjVP4enV8oyxN0//yH99nXg5D8qOpLLf0jtP5kqGJXUifQ/c9cS8kHP/D+/DpwzojQEQIEmwoanVwxA4lgXt9HgE0BSSZ2AJuIbQAMJih9jjiNA5q4l5INuK0AwTKYKRj0zQNv5fmq8/DpAaCJseHrtQkB/+zpwzoxKQM3MzMzMeFJAZmZmZmZqWEAAAAAAAFxeQM3MzMzMJmJAmpmZmZkfZUBmZmZmZhhoQDMzMzMzEWtAAAAAAAAKbkBmZmZmZoFwQM3MzMzM/XFAMzMzMzN6c0CamZmZmfZ0QAAAAAAAc3ZAZmZmZmbvd0DNzMzMzGt5QDMzMzMz6HpAmpmZmZlkfEAAAAAAAOF9QGZmZmZmXX9AZmZmZuZsgECamZmZGSuBQM3MzMxM6YFAAAAAAICngkAzMzMzs2WDQGZmZmbmI4RAmpmZmRnihEDNzMzMTKCFQAAAAACAXoZAMzMzM7Mch0BmZmZm5tqHQJqZmZkZmYhAzczMzExXiUAAAAAAgBWKQDMzMzOz04pAZmZmZuaRi0CamZmZGVCMQM3MzMxMDo1AAAAAAIDMjUAzMzMzs4qOQGZmZmbmSI9A\",\"dtype\":\"float64\",\"shape\":[75]}},\"selected\":{\"id\":\"9c0b3398-adef-4b7f-bad2-6944f5e1bcb9\",\"type\":\"Selection\"},\"selection_policy\":{\"id\":\"33aeb7e0-9ef3-4fae-a18a-e46649b31a18\",\"type\":\"UnionRenderers\"}},\"id\":\"978fb50b-9581-4196-840d-1066bb5caebd\",\"type\":\"ColumnDataSource\"},{\"attributes\":{},\"id\":\"c883e648-6716-460d-98d1-eabd942a7f3c\",\"type\":\"SaveTool\"},{\"attributes\":{\"callback\":null,\"data\":{\"x\":{\"__ndarray__\":\"mUpT7yHn3b6Lovs0j/bbvsbXa/1UI9e+DZqMwabV0L7LO8kREbrBvgmZV0gdz5A+OL6r11hwyj7JIK3M+/7bPhGB8TNN4+Y+HOIR6HPA8D4Zom5LOAz3PlQjVA3ceP4+Oc5M5fqRAz8H8ax0pQAIPyJ3ILVp2gs/6jYitdyCDz+/ZJbmcL4RP7F2/kru6RM/Re71bSNIFj+g40Lxqd0YP9FGaHayZhs/nP4U4AWPGT+Wq7cSi78SPy4cVCbAggg/ACRVXX7f/T4QvmHpYf7vPoppVPUVo9g+fdpC8AONcT5oLznqixjKvmfeEMGJ39W+HqYX99ge3b5ibnc+5YXhvveO5yrQEeO+3OY4Kbor476XXWOChNfivuBhhS33XuK+PdyVwDsP4r4k9fLqxdDiviaonf1dNuy+RD44DA6d877cm+6/Prf6vvdZKC8rpgC/NjXBicdEBL+yWNcttKoIv5gbxMlomg2/xo8AfMsAEL885b8VomYLv+OxgYhWevy+2HaOIjfy9D7AQseImLAhPztoCg0Zijc/6fTCveT7Rz/qpv5jtv1UP2SuXS0SjWA/Hyz3yFwcaD96CjQOZHlwP6Cqz54wX3U/78dkkGSEej9sADk3fb5/P1q0Jy1ZcoI/SBwo9rfjhD83DBOtyTaHP1rTJFJQXYk/erExlY1iiz8qRenwvUqNPzt4Oz1VF48/g6czat9jkD+Hvbw3gCKRPxms992tmpE/ItiYXrmakT8EYFiPluKQP+KKN6tcIo8/zQVZ+QQ6jD9w0D5oXl6JP+hS1vh/o4Y/\",\"dtype\":\"float64\",\"shape\":[75]},\"y\":{\"__ndarray__\":\"GhExyth1ND/Sv8nbtpRIP2vylNV0PVE/aTum7souWD/At0SJ8fVgPw3Iuahxymc/MSNhhJWvcD/bTfBN02d3P2zb5nxnaoA/CD5h5MAGhz8NmeH1TyaQP+zrCsc9p5Y/LbKd76fGnz/bLW5ISEmmPww9YvTcQq8/JV2OstnstT8Er5Y7M8G+P0c+r3jqkcU/5h99k6ZBzj88bCIzFzjVP4enV8oyxN0//yH99nXg5D8qOpLLf0jtP5kqGJXUifQ/c9cS8kHP/D+/DpwzojQEQIEmwoanVwxA4lgXt9HgE0BSSZ2AJuIbQAMJih9jjiNA5q4l5INuK0AwTKYKRj0zQNv5fmq8/DpAaCJseHrtQkB/+zpwzoxKQM3MzMzMeFJAZmZmZmZqWEAAAAAAAFxeQM3MzMzMJmJAmpmZmZkfZUBmZmZmZhhoQDMzMzMzEWtAAAAAAAAKbkBmZmZmZoFwQM3MzMzM/XFAMzMzMzN6c0CamZmZmfZ0QAAAAAAAc3ZAZmZmZmbvd0DNzMzMzGt5QDMzMzMz6HpAmpmZmZlkfEAAAAAAAOF9QGZmZmZmXX9AZmZmZuZsgECamZmZGSuBQM3MzMxM6YFAAAAAAICngkAzMzMzs2WDQGZmZmbmI4RAmpmZmRnihEDNzMzMTKCFQAAAAACAXoZAMzMzM7Mch0BmZmZm5tqHQJqZmZkZmYhAzczMzExXiUAAAAAAgBWKQDMzMzOz04pAZmZmZuaRi0CamZmZGVCMQM3MzMxMDo1AAAAAAIDMjUAzMzMzs4qOQGZmZmbmSI9A\",\"dtype\":\"float64\",\"shape\":[75]}},\"selected\":{\"id\":\"52d937ba-534b-4d76-a2a4-bb416d07a5f7\",\"type\":\"Selection\"},\"selection_policy\":{\"id\":\"e233e25d-bda5-407e-8c1b-7b293402a603\",\"type\":\"UnionRenderers\"}},\"id\":\"fe64fc38-3122-479b-b807-8e62a0713233\",\"type\":\"ColumnDataSource\"},{\"attributes\":{},\"id\":\"3a5a8799-6916-49a9-af20-5f6ad1cfcc2e\",\"type\":\"WheelZoomTool\"},{\"attributes\":{\"callback\":null,\"data\":{\"x\":{\"__ndarray__\":\"wVOfX2iyDj+36YIq5twnP7NjzbMaPPM+hw0d6bZ76D49Xt5YbOrjPgqWmayMBuE+fFxCxPsw4T5oSL5b9JrjPpl1LgGzWOg+LTah3Wjs7j70iATduubzPppC0INzWvk++UmAN3+8/T5NGU3S+uQBPwH25nCQ8QU/1zCLe712CT80w8Jv3L0MPzpAIZRsIxA/IEEqRgwLEj+dfdR9QRAUP1/J7xSnuhU/rogGKppeFD/IAe1j6zsOPx7j3QkxkgM/6izqz6Ub9z71D70pkQjnPkAj1LrVuso+05c5gmygu77+MRTdCh3SvktFQwBCgdm+Dr43Iq+K377Hq7JiUjrivurq410KjeO+IvndHqiu475lj21M19DjvmOfeEqU8OO+KCQfRW4H5L5iv5FqLOrkvnJqGemTee6+kc7B12MF9b7/pSb7mkH8vsFzORPSeQG/NGcy1kobBb8Wwpq0OHoJv13xni+/VA6/qxF+if+SEL+1DiVD2ycOv6tPRtiC/QO/aFiuddrL0L5hBwyoMNkWP9riP0FHQjI/d8p5GF4bRD93Z+yR5oRSP5Ps9xWCVF4/UnQzC0yhZj8Bw9Vth4BvP5pIWsJCs3Q/eWiRyf/meT8pqiw5zxl/P/yUoMyxBoI/Js8OG9lThD/BSUf3e3uGPzIYk2ZCf4g/jdCI/19oij8/6rnJy0GMP1kKS7OuDo4/m+zHb8/Ijz+lKqrUpayQP00D/466M5E/TJVBGOxEkT9QMMY0kaGQP8YyhgRPy44/la6OU9wHjD9RqdUBV0yJP5J8UBBvr4Y/\",\"dtype\":\"float64\",\"shape\":[75]},\"y\":{\"__ndarray__\":\"S/O/Q+51ND/Sv8nbtpRIP2vylNV0PVE/aTum7souWD/At0SJ8fVgPw3Iuahxymc/MSNhhJWvcD/bTfBN02d3P2zb5nxnaoA/CD5h5MAGhz8NmeH1TyaQP+zrCsc9p5Y/LbKd76fGnz/bLW5ISEmmPww9YvTcQq8/JV2OstnstT8Er5Y7M8G+P0c+r3jqkcU/5h99k6ZBzj88bCIzFzjVP4enV8oyxN0//yH99nXg5D8qOpLLf0jtP5kqGJXUifQ/c9cS8kHP/D+/DpwzojQEQIEmwoanVwxA4lgXt9HgE0BSSZ2AJuIbQAMJih9jjiNA5q4l5INuK0AwTKYKRj0zQNv5fmq8/DpAaCJseHrtQkB/+zpwzoxKQM3MzMzMeFJAZmZmZmZqWEAAAAAAAFxeQM3MzMzMJmJAmpmZmZkfZUBmZmZmZhhoQDMzMzMzEWtAAAAAAAAKbkBmZmZmZoFwQM3MzMzM/XFAMzMzMzN6c0CamZmZmfZ0QAAAAAAAc3ZAZmZmZmbvd0DNzMzMzGt5QDMzMzMz6HpAmpmZmZlkfEAAAAAAAOF9QGZmZmZmXX9AZmZmZuZsgECamZmZGSuBQM3MzMxM6YFAAAAAAICngkAzMzMzs2WDQGZmZmbmI4RAmpmZmRnihEDNzMzMTKCFQAAAAACAXoZAMzMzM7Mch0BmZmZm5tqHQJqZmZkZmYhAzczMzExXiUAAAAAAgBWKQDMzMzOz04pAZmZmZuaRi0CamZmZGVCMQM3MzMxMDo1AAAAAAIDMjUAzMzMzs4qOQGZmZmbmSI9A\",\"dtype\":\"float64\",\"shape\":[75]}},\"selected\":{\"id\":\"cccc6b3f-12f4-48aa-bde9-c3c0548294b5\",\"type\":\"Selection\"},\"selection_policy\":{\"id\":\"7e4aee1c-302c-4b6c-8f75-963128caaa1a\",\"type\":\"UnionRenderers\"}},\"id\":\"c41e17a9-edcb-4676-bbf9-a7619761e5a0\",\"type\":\"ColumnDataSource\"},{\"attributes\":{\"line_color\":\"#4daf4a\",\"line_width\":1.5,\"x\":{\"field\":\"x\"},\"y\":{\"field\":\"y\"}},\"id\":\"f185c27f-70ad-4b8c-80a7-d09a1b13fe7e\",\"type\":\"Line\"},{\"attributes\":{\"items\":[{\"id\":\"13d5dc89-208b-4674-9630-a85336cbc0b6\",\"type\":\"LegendItem\"},{\"id\":\"e06dc7c7-ebd0-4fa7-aed9-f2e2fa20c449\",\"type\":\"LegendItem\"},{\"id\":\"92e55f7a-4454-471c-9879-b3c5c4ab4db5\",\"type\":\"LegendItem\"}],\"label_text_font_size\":{\"value\":\"8pt\"},\"location\":[10,-30],\"plot\":{\"id\":\"35646175-9ade-447b-9647-eed1b2157854\",\"subtype\":\"Figure\",\"type\":\"Plot\"}},\"id\":\"50a3d52e-770f-4c68-991a-425180d581c9\",\"type\":\"Legend\"},{\"attributes\":{\"callback\":null,\"data\":{\"x\":{\"__ndarray__\":\"mUpT7yHn3b6Lovs0j/bbvsbXa/1UI9e+DZqMwabV0L7LO8kREbrBvgmZV0gdz5A+OL6r11hwyj7JIK3M+/7bPhGB8TNN4+Y+HOIR6HPA8D4Zom5LOAz3PlQjVA3ceP4+Oc5M5fqRAz8H8ax0pQAIPyJ3ILVp2gs/6jYitdyCDz+/ZJbmcL4RP7F2/kru6RM/Re71bSNIFj+g40Lxqd0YP9FGaHayZhs/nP4U4AWPGT+Wq7cSi78SPy4cVCbAggg/ACRVXX7f/T4QvmHpYf7vPoppVPUVo9g+fdpC8AONcT5oLznqixjKvmfeEMGJ39W+HqYX99ge3b5ibnc+5YXhvveO5yrQEeO+3OY4Kbor476XXWOChNfivuBhhS33XuK+PdyVwDsP4r4k9fLqxdDiviaonf1dNuy+RD44DA6d877cm+6/Prf6vvdZKC8rpgC/NjXBicdEBL+yWNcttKoIv5gbxMlomg2/xo8AfMsAEL885b8VomYLv+OxgYhWevy+2HaOIjfy9D7AQseImLAhPztoCg0Zijc/6fTCveT7Rz/qpv5jtv1UP2SuXS0SjWA/Hyz3yFwcaD96CjQOZHlwP6Cqz54wX3U/78dkkGSEej9sADk3fb5/P1q0Jy1ZcoI/SBwo9rfjhD83DBOtyTaHP1rTJFJQXYk/erExlY1iiz8qRenwvUqNPzt4Oz1VF48/g6czat9jkD+Hvbw3gCKRPxms992tmpE/ItiYXrmakT8EYFiPluKQP+KKN6tcIo8/zQVZ+QQ6jD9w0D5oXl6JP+hS1vh/o4Y/\",\"dtype\":\"float64\",\"shape\":[75]},\"y\":{\"__ndarray__\":\"GhExyth1ND/Sv8nbtpRIP2vylNV0PVE/aTum7souWD/At0SJ8fVgPw3Iuahxymc/MSNhhJWvcD/bTfBN02d3P2zb5nxnaoA/CD5h5MAGhz8NmeH1TyaQP+zrCsc9p5Y/LbKd76fGnz/bLW5ISEmmPww9YvTcQq8/JV2OstnstT8Er5Y7M8G+P0c+r3jqkcU/5h99k6ZBzj88bCIzFzjVP4enV8oyxN0//yH99nXg5D8qOpLLf0jtP5kqGJXUifQ/c9cS8kHP/D+/DpwzojQEQIEmwoanVwxA4lgXt9HgE0BSSZ2AJuIbQAMJih9jjiNA5q4l5INuK0AwTKYKRj0zQNv5fmq8/DpAaCJseHrtQkB/+zpwzoxKQM3MzMzMeFJAZmZmZmZqWEAAAAAAAFxeQM3MzMzMJmJAmpmZmZkfZUBmZmZmZhhoQDMzMzMzEWtAAAAAAAAKbkBmZmZmZoFwQM3MzMzM/XFAMzMzMzN6c0CamZmZmfZ0QAAAAAAAc3ZAZmZmZmbvd0DNzMzMzGt5QDMzMzMz6HpAmpmZmZlkfEAAAAAAAOF9QGZmZmZmXX9AZmZmZuZsgECamZmZGSuBQM3MzMxM6YFAAAAAAICngkAzMzMzs2WDQGZmZmbmI4RAmpmZmRnihEDNzMzMTKCFQAAAAACAXoZAMzMzM7Mch0BmZmZm5tqHQJqZmZkZmYhAzczMzExXiUAAAAAAgBWKQDMzMzOz04pAZmZmZuaRi0CamZmZGVCMQM3MzMxMDo1AAAAAAIDMjUAzMzMzs4qOQGZmZmbmSI9A\",\"dtype\":\"float64\",\"shape\":[75]}},\"selected\":{\"id\":\"27379421-cc8b-4541-8791-91500c5cd94a\",\"type\":\"Selection\"},\"selection_policy\":{\"id\":\"940ab4bc-4bca-4253-a015-eb9b48ad0e92\",\"type\":\"UnionRenderers\"}},\"id\":\"4cabce3b-7a32-4058-9f90-cccae978ca3f\",\"type\":\"ColumnDataSource\"},{\"attributes\":{\"source\":{\"id\":\"40b80bfe-7b97-4994-907f-ad552118ea76\",\"type\":\"ColumnDataSource\"}},\"id\":\"61f9dac5-7086-4de0-afc6-0beebfb731e6\",\"type\":\"CDSView\"},{\"attributes\":{\"data_source\":{\"id\":\"6566809d-952a-4142-b96b-862bf4a5a895\",\"type\":\"ColumnDataSource\"},\"glyph\":{\"id\":\"bf6af580-0f51-428c-90bd-0ac22f1fe179\",\"type\":\"Circle\"},\"hover_glyph\":null,\"muted_glyph\":null,\"nonselection_glyph\":{\"id\":\"b9d62d57-a5b7-4367-b485-5b9c4e7a66fe\",\"type\":\"Circle\"},\"selection_glyph\":null,\"view\":{\"id\":\"7a366bb6-6b7e-4e19-bbb8-e7b11d86867d\",\"type\":\"CDSView\"}},\"id\":\"21338c85-f184-4f22-b05f-44ecec472d04\",\"type\":\"GlyphRenderer\"},{\"attributes\":{\"source\":{\"id\":\"3e4a21a6-eb50-4add-a411-3af90623b311\",\"type\":\"ColumnDataSource\"}},\"id\":\"16df11b0-bc51-4380-8dd8-97e96e977928\",\"type\":\"CDSView\"},{\"attributes\":{},\"id\":\"2ca4b55b-0452-476e-b17d-f6718f145ce4\",\"type\":\"PanTool\"},{\"attributes\":{\"active_drag\":\"auto\",\"active_inspect\":\"auto\",\"active_scroll\":\"auto\",\"active_tap\":\"auto\",\"tools\":[{\"id\":\"2ca4b55b-0452-476e-b17d-f6718f145ce4\",\"type\":\"PanTool\"},{\"id\":\"3a5a8799-6916-49a9-af20-5f6ad1cfcc2e\",\"type\":\"WheelZoomTool\"},{\"id\":\"52c3c342-1569-4a4e-8839-93f1901bb88c\",\"type\":\"BoxZoomTool\"},{\"id\":\"9108e0a0-375d-4a47-8669-a601f8d57563\",\"type\":\"SaveTool\"},{\"id\":\"193a90b5-cbe3-4ab3-ad58-0a97439e5831\",\"type\":\"ResetTool\"},{\"id\":\"712bd63d-7279-4d4e-bea2-377b03e32e37\",\"type\":\"HelpTool\"}]},\"id\":\"dcceff7e-9d51-46ab-a600-b9103855de36\",\"type\":\"Toolbar\"},{\"attributes\":{\"line_alpha\":0.1,\"line_color\":\"#1f77b4\",\"line_width\":1.5,\"x\":{\"field\":\"x\"},\"y\":{\"field\":\"y\"}},\"id\":\"7da1d20f-310b-46da-98a1-603e1a1e2701\",\"type\":\"Line\"},{\"attributes\":{\"callback\":null,\"end\":0.00036193466629999994,\"start\":-3.07975963e-05},\"id\":\"476452bd-82a8-4e9e-903c-860e760941f0\",\"type\":\"Range1d\"},{\"attributes\":{},\"id\":\"7e4aee1c-302c-4b6c-8f75-963128caaa1a\",\"type\":\"UnionRenderers\"},{\"attributes\":{\"data_source\":{\"id\":\"978fb50b-9581-4196-840d-1066bb5caebd\",\"type\":\"ColumnDataSource\"},\"glyph\":{\"id\":\"f185c27f-70ad-4b8c-80a7-d09a1b13fe7e\",\"type\":\"Line\"},\"hover_glyph\":null,\"muted_glyph\":null,\"nonselection_glyph\":{\"id\":\"7da1d20f-310b-46da-98a1-603e1a1e2701\",\"type\":\"Line\"},\"selection_glyph\":null,\"view\":{\"id\":\"616adf25-00d5-45e6-b155-7a84b6d8d8ad\",\"type\":\"CDSView\"}},\"id\":\"bfd7fe2e-9c67-43b5-935a-50f768534cd4\",\"type\":\"GlyphRenderer\"},{\"attributes\":{\"source\":{\"id\":\"c41e17a9-edcb-4676-bbf9-a7619761e5a0\",\"type\":\"ColumnDataSource\"}},\"id\":\"6e91341f-8949-4086-8eca-c09f081b9650\",\"type\":\"CDSView\"},{\"attributes\":{\"num_minor_ticks\":10},\"id\":\"8096b132-5c87-4c91-b318-16bc2c9d901d\",\"type\":\"LogTicker\"},{\"attributes\":{\"source\":{\"id\":\"978fb50b-9581-4196-840d-1066bb5caebd\",\"type\":\"ColumnDataSource\"}},\"id\":\"616adf25-00d5-45e6-b155-7a84b6d8d8ad\",\"type\":\"CDSView\"},{\"attributes\":{\"callback\":null,\"data\":{\"x\":{\"__ndarray__\":\"1o7zXheG375BQMeU9/PXvk01pgD3xra+wg7gj3Vg0T5yGVCA3uvmPucZjTO3JfQ+pUx6Uwel/j5mLOBVbJ4FP9V0Z6HmHg0/yrT1JqkAEz/cYMtUcjwYP4/rjJBqXh4/SqeZbBK/Ij9nzSsuLV8mP5b45ZjrgSk/4DbkZr95LD+4XqVLl68vP7CH1GjnljE/bU6q1UJ6Mz8/4U0s3YI1P0yzjJKodzc/K7AXmrbjNT+bs15vsFMwP5X8ULVSEiY/d335nqOMHD/C2i6fdT4RPwWlbl7vgwI/MxZNeuNz8T7gMcp/mcnbPruqiJechJQ+p1lm9+670r4FJOvlo5rgvoH3zPD4EuO+uALZlERk4b7b+aheMIvdvgw8jTcAgdi+T3Y8Kxdx1b6JBFBKJfjWviUc7yU6wOK+rT1SS0ey7L4EokHP4yD1vheW5NbiKvy+Es2vE94jAr9e5kiBODcHv57YSsUo6Ay/wVshMLPGDr8wuQj2FbMGvygLO3O439a+dcHPXvgBEj9981nw/mEuP94uPLZzD0E/BfPDtJ+cTz9n9z727t9ZPy22xQy/YWM/NbWbwSAnaz/1K+UJgAlyPzt3Q+Kz+HY/oEnI4uM8fD86MQ5no9eAPxF+98DmkoM/iYdYRug8hj8IRykeoMaIP08cgtvBJYs/3fw4+pVXjT9GSxuXPGGPPzro8f/TopA/nmNmvR2DkT/0ZDs1UEaSP3bfBryZv5I/3pgpo02ykj8Onfcvq9iRP004Pe3FV5A/U++zDmpmjT8sER8N5C+KP6rbVR96GIc/\",\"dtype\":\"float64\",\"shape\":[75]},\"y\":{\"__ndarray__\":\"GhExyth1ND/Sv8nbtpRIP2vylNV0PVE/aTum7souWD/At0SJ8fVgPw3Iuahxymc/MSNhhJWvcD/bTfBN02d3P2zb5nxnaoA/CD5h5MAGhz8NmeH1TyaQP+zrCsc9p5Y/LbKd76fGnz/bLW5ISEmmPww9YvTcQq8/JV2OstnstT8Er5Y7M8G+P0c+r3jqkcU/5h99k6ZBzj88bCIzFzjVP4enV8oyxN0//yH99nXg5D8qOpLLf0jtP5kqGJXUifQ/c9cS8kHP/D+/DpwzojQEQIEmwoanVwxA4lgXt9HgE0BSSZ2AJuIbQAMJih9jjiNA5q4l5INuK0AwTKYKRj0zQNv5fmq8/DpAaCJseHrtQkB/+zpwzoxKQM3MzMzMeFJAZmZmZmZqWEAAAAAAAFxeQM3MzMzMJmJAmpmZmZkfZUBmZmZmZhhoQDMzMzMzEWtAAAAAAAAKbkBmZmZmZoFwQM3MzMzM/XFAMzMzMzN6c0CamZmZmfZ0QAAAAAAAc3ZAZmZmZmbvd0DNzMzMzGt5QDMzMzMz6HpAmpmZmZlkfEAAAAAAAOF9QGZmZmZmXX9AZmZmZuZsgECamZmZGSuBQM3MzMxM6YFAAAAAAICngkAzMzMzs2WDQGZmZmbmI4RAmpmZmRnihEDNzMzMTKCFQAAAAACAXoZAMzMzM7Mch0BmZmZm5tqHQJqZmZkZmYhAzczMzExXiUAAAAAAgBWKQDMzMzOz04pAZmZmZuaRi0CamZmZGVCMQM3MzMxMDo1AAAAAAIDMjUAzMzMzs4qOQGZmZmbmSI9A\",\"dtype\":\"float64\",\"shape\":[75]}},\"selected\":{\"id\":\"240743ac-af70-4215-85dc-bc7918dfbc37\",\"type\":\"Selection\"},\"selection_policy\":{\"id\":\"38a0c80a-513d-46af-9b03-8c4cd4db5fe1\",\"type\":\"UnionRenderers\"}},\"id\":\"6566809d-952a-4142-b96b-862bf4a5a895\",\"type\":\"ColumnDataSource\"},{\"attributes\":{\"fill_alpha\":{\"value\":0.7},\"fill_color\":{\"value\":\"#984ea3\"},\"line_alpha\":{\"value\":0.7},\"line_color\":{\"value\":\"#984ea3\"},\"x\":{\"field\":\"x\"},\"y\":{\"field\":\"y\"}},\"id\":\"e5c8da26-517d-47a2-8044-118fceeed2d5\",\"type\":\"Square\"},{\"attributes\":{\"callback\":null,\"data\":{\"x\":{\"__ndarray__\":\"mUpT7yHn3b6Lovs0j/bbvsbXa/1UI9e+DZqMwabV0L7LO8kREbrBvgmZV0gdz5A+OL6r11hwyj7JIK3M+/7bPhGB8TNN4+Y+HOIR6HPA8D4Zom5LOAz3PlQjVA3ceP4+Oc5M5fqRAz8H8ax0pQAIPyJ3ILVp2gs/6jYitdyCDz+/ZJbmcL4RP7F2/kru6RM/Re71bSNIFj+g40Lxqd0YP9FGaHayZhs/nP4U4AWPGT+Wq7cSi78SPy4cVCbAggg/ACRVXX7f/T4QvmHpYf7vPoppVPUVo9g+fdpC8AONcT5oLznqixjKvmfeEMGJ39W+HqYX99ge3b5ibnc+5YXhvveO5yrQEeO+3OY4Kbor476XXWOChNfivuBhhS33XuK+PdyVwDsP4r4k9fLqxdDiviaonf1dNuy+RD44DA6d877cm+6/Prf6vvdZKC8rpgC/NjXBicdEBL+yWNcttKoIv5gbxMlomg2/xo8AfMsAEL885b8VomYLv+OxgYhWevy+2HaOIjfy9D7AQseImLAhPztoCg0Zijc/6fTCveT7Rz/qpv5jtv1UP2SuXS0SjWA/Hyz3yFwcaD96CjQOZHlwP6Cqz54wX3U/78dkkGSEej9sADk3fb5/P1q0Jy1ZcoI/SBwo9rfjhD83DBOtyTaHP1rTJFJQXYk/erExlY1iiz8qRenwvUqNPzt4Oz1VF48/g6czat9jkD+Hvbw3gCKRPxms992tmpE/ItiYXrmakT8EYFiPluKQP+KKN6tcIo8/zQVZ+QQ6jD9w0D5oXl6JP+hS1vh/o4Y/\",\"dtype\":\"float64\",\"shape\":[75]},\"y\":{\"__ndarray__\":\"GhExyth1ND/Sv8nbtpRIP2vylNV0PVE/aTum7souWD/At0SJ8fVgPw3Iuahxymc/MSNhhJWvcD/bTfBN02d3P2zb5nxnaoA/CD5h5MAGhz8NmeH1TyaQP+zrCsc9p5Y/LbKd76fGnz/bLW5ISEmmPww9YvTcQq8/JV2OstnstT8Er5Y7M8G+P0c+r3jqkcU/5h99k6ZBzj88bCIzFzjVP4enV8oyxN0//yH99nXg5D8qOpLLf0jtP5kqGJXUifQ/c9cS8kHP/D+/DpwzojQEQIEmwoanVwxA4lgXt9HgE0BSSZ2AJuIbQAMJih9jjiNA5q4l5INuK0AwTKYKRj0zQNv5fmq8/DpAaCJseHrtQkB/+zpwzoxKQM3MzMzMeFJAZmZmZmZqWEAAAAAAAFxeQM3MzMzMJmJAmpmZmZkfZUBmZmZmZhhoQDMzMzMzEWtAAAAAAAAKbkBmZmZmZoFwQM3MzMzM/XFAMzMzMzN6c0CamZmZmfZ0QAAAAAAAc3ZAZmZmZmbvd0DNzMzMzGt5QDMzMzMz6HpAmpmZmZlkfEAAAAAAAOF9QGZmZmZmXX9AZmZmZuZsgECamZmZGSuBQM3MzMxM6YFAAAAAAICngkAzMzMzs2WDQGZmZmbmI4RAmpmZmRnihEDNzMzMTKCFQAAAAACAXoZAMzMzM7Mch0BmZmZm5tqHQJqZmZkZmYhAzczMzExXiUAAAAAAgBWKQDMzMzOz04pAZmZmZuaRi0CamZmZGVCMQM3MzMxMDo1AAAAAAIDMjUAzMzMzs4qOQGZmZmbmSI9A\",\"dtype\":\"float64\",\"shape\":[75]}},\"selected\":{\"id\":\"0bacce7a-3cca-458c-8e79-9174d9592c65\",\"type\":\"Selection\"},\"selection_policy\":{\"id\":\"211fd0d1-583b-4a0e-b020-1eda7c94f0c2\",\"type\":\"UnionRenderers\"}},\"id\":\"c3344c1b-3ed8-40a8-9f9c-1d0d7c7e2e4b\",\"type\":\"ColumnDataSource\"},{\"attributes\":{\"fill_alpha\":{\"value\":0.1},\"fill_color\":{\"value\":\"#1f77b4\"},\"line_alpha\":{\"value\":0.1},\"line_color\":{\"value\":\"#1f77b4\"},\"x\":{\"field\":\"x\"},\"y\":{\"field\":\"y\"}},\"id\":\"038a0cbb-94bf-41f8-8623-e6e2eb6110a5\",\"type\":\"Square\"},{\"attributes\":{\"plot\":{\"id\":\"35646175-9ade-447b-9647-eed1b2157854\",\"subtype\":\"Figure\",\"type\":\"Plot\"},\"ticker\":{\"id\":\"3132a343-ef78-4ce1-b89d-d93f81d7f1ac\",\"type\":\"BasicTicker\"}},\"id\":\"56387f04-4646-465f-a72b-0456fe02cdfa\",\"type\":\"Grid\"},{\"attributes\":{\"data_source\":{\"id\":\"fe64fc38-3122-479b-b807-8e62a0713233\",\"type\":\"ColumnDataSource\"},\"glyph\":{\"id\":\"e5c8da26-517d-47a2-8044-118fceeed2d5\",\"type\":\"Square\"},\"hover_glyph\":null,\"muted_glyph\":null,\"nonselection_glyph\":{\"id\":\"038a0cbb-94bf-41f8-8623-e6e2eb6110a5\",\"type\":\"Square\"},\"selection_glyph\":null,\"view\":{\"id\":\"c934e1a2-2bf7-4b5c-841d-3ada391afd07\",\"type\":\"CDSView\"}},\"id\":\"426643bd-6d57-40f4-ba12-d943f7c69458\",\"type\":\"GlyphRenderer\"},{\"attributes\":{},\"id\":\"9ad3f1b2-33af-484f-9827-15cf4cc1e201\",\"type\":\"LinearScale\"},{\"attributes\":{\"callback\":null,\"end\":0.01,\"start\":1020},\"id\":\"6b395e53-70a5-47b0-8b23-70d0ff3999b7\",\"type\":\"Range1d\"},{\"attributes\":{\"source\":{\"id\":\"fe64fc38-3122-479b-b807-8e62a0713233\",\"type\":\"ColumnDataSource\"}},\"id\":\"c934e1a2-2bf7-4b5c-841d-3ada391afd07\",\"type\":\"CDSView\"},{\"attributes\":{\"below\":[{\"id\":\"d2912ba0-3ec2-4146-96c3-c2e71b0fe1eb\",\"type\":\"LinearAxis\"}],\"left\":[{\"id\":\"9fc1466c-5546-4c1c-8758-ec379a4f4e7e\",\"type\":\"LinearAxis\"}],\"plot_height\":500,\"plot_width\":400,\"renderers\":[{\"id\":\"d2912ba0-3ec2-4146-96c3-c2e71b0fe1eb\",\"type\":\"LinearAxis\"},{\"id\":\"8a3bf459-4239-4b89-a378-a5bddb726898\",\"type\":\"Grid\"},{\"id\":\"9fc1466c-5546-4c1c-8758-ec379a4f4e7e\",\"type\":\"LinearAxis\"},{\"id\":\"097bfd8d-6022-45af-a565-6203f5d5be53\",\"type\":\"Grid\"},{\"id\":\"32094e9e-eb67-4611-8e04-bdb8db9425a4\",\"type\":\"BoxAnnotation\"},{\"id\":\"bb64c28e-95a1-4390-a943-5661a3b85d99\",\"type\":\"GlyphRenderer\"},{\"id\":\"21338c85-f184-4f22-b05f-44ecec472d04\",\"type\":\"GlyphRenderer\"},{\"id\":\"39290aa1-913b-4ff1-9031-4007132472c3\",\"type\":\"GlyphRenderer\"},{\"id\":\"1faadcfe-98ca-4df8-9686-cb98b2420766\",\"type\":\"GlyphRenderer\"},{\"id\":\"b25b4169-d3c8-4745-b227-31090c716afa\",\"type\":\"GlyphRenderer\"}],\"title\":{\"id\":\"2b4056f7-15d6-46fc-acef-02cf7c26efe6\",\"type\":\"Title\"},\"toolbar\":{\"id\":\"978005df-8f27-4268-aa5a-49397cf523de\",\"type\":\"Toolbar\"},\"toolbar_location\":null,\"x_range\":{\"id\":\"8f64ffc8-c4a1-4614-890f-1f9ff91fc3bc\",\"type\":\"Range1d\"},\"x_scale\":{\"id\":\"a16b7c1b-4e23-4bd9-85e9-14bfad21698f\",\"type\":\"LinearScale\"},\"y_range\":{\"id\":\"75604857-8960-427a-9b1b-1dee918029af\",\"type\":\"Range1d\"},\"y_scale\":{\"id\":\"01ce1421-db11-4f53-b9a2-07098ec12529\",\"type\":\"LinearScale\"}},\"id\":\"69009e36-ff5b-4e36-a988-3da1fb17cd7c\",\"subtype\":\"Figure\",\"type\":\"Plot\"},{\"attributes\":{\"children\":[{\"id\":\"69009e36-ff5b-4e36-a988-3da1fb17cd7c\",\"subtype\":\"Figure\",\"type\":\"Plot\"},{\"id\":\"35646175-9ade-447b-9647-eed1b2157854\",\"subtype\":\"Figure\",\"type\":\"Plot\"}]},\"id\":\"934a3103-92f3-4259-a0cd-ec010edeb74c\",\"type\":\"Row\"},{\"attributes\":{\"source\":{\"id\":\"12e5551c-dccb-4bcf-bbf5-9549e38ec7d1\",\"type\":\"ColumnDataSource\"}},\"id\":\"d9877646-8aea-4d7c-b0c8-75e7a2458459\",\"type\":\"CDSView\"},{\"attributes\":{},\"id\":\"193a90b5-cbe3-4ab3-ad58-0a97439e5831\",\"type\":\"ResetTool\"},{\"attributes\":{\"line_alpha\":0.6,\"line_color\":\"#984ea3\",\"line_width\":3,\"x\":{\"field\":\"x\"},\"y\":{\"field\":\"y\"}},\"id\":\"9b949ffc-92fa-460a-bd82-b8a3c5d5cb6d\",\"type\":\"Line\"},{\"attributes\":{\"label\":{\"value\":\"CLIRAD `coolr_bands`\"},\"renderers\":[{\"id\":\"ebe71f1a-dde9-47f4-a749-b22bd5a529c9\",\"type\":\"GlyphRenderer\"}]},\"id\":\"13d5dc89-208b-4674-9630-a85336cbc0b6\",\"type\":\"LegendItem\"},{\"attributes\":{\"line_alpha\":0.1,\"line_color\":\"#1f77b4\",\"line_dash\":[6],\"line_width\":5,\"x\":{\"field\":\"x\"},\"y\":{\"field\":\"y\"}},\"id\":\"a57f357d-eb0b-46f5-98df-15127735e38c\",\"type\":\"Line\"},{\"attributes\":{\"data_source\":{\"id\":\"b2e40217-c7dd-4e23-ab11-e7e7d9466d73\",\"type\":\"ColumnDataSource\"},\"glyph\":{\"id\":\"6d987102-5bc2-4bbf-b910-d0fc06a8f38d\",\"type\":\"Line\"},\"hover_glyph\":null,\"muted_glyph\":null,\"nonselection_glyph\":{\"id\":\"5540d139-7e77-4205-908b-75c13f2e45f6\",\"type\":\"Line\"},\"selection_glyph\":null,\"view\":{\"id\":\"a129e6b8-31ec-422b-baa8-875110f022d2\",\"type\":\"CDSView\"}},\"id\":\"b25b4169-d3c8-4745-b227-31090c716afa\",\"type\":\"GlyphRenderer\"},{\"attributes\":{},\"id\":\"fe453a0f-6941-4d52-9382-be330268bed8\",\"type\":\"BasicTickFormatter\"},{\"attributes\":{\"bottom_units\":\"screen\",\"fill_alpha\":{\"value\":0.5},\"fill_color\":{\"value\":\"lightgrey\"},\"left_units\":\"screen\",\"level\":\"overlay\",\"line_alpha\":{\"value\":1.0},\"line_color\":{\"value\":\"black\"},\"line_dash\":[4,4],\"line_width\":{\"value\":2},\"plot\":null,\"render_mode\":\"css\",\"right_units\":\"screen\",\"top_units\":\"screen\"},\"id\":\"100aa6a9-2ece-4939-bd42-e055409e5660\",\"type\":\"BoxAnnotation\"},{\"attributes\":{\"line_alpha\":0.1,\"line_color\":\"#1f77b4\",\"line_width\":1.5,\"x\":{\"field\":\"x\"},\"y\":{\"field\":\"y\"}},\"id\":\"0921077e-86c8-4b37-aac4-0fc5b637e7d9\",\"type\":\"Line\"},{\"attributes\":{\"label\":{\"value\":\"CRD\"},\"renderers\":[{\"id\":\"7069f495-2fd8-45d4-97cf-ba0347572b03\",\"type\":\"GlyphRenderer\"},{\"id\":\"bfd7fe2e-9c67-43b5-935a-50f768534cd4\",\"type\":\"GlyphRenderer\"}]},\"id\":\"e06dc7c7-ebd0-4fa7-aed9-f2e2fa20c449\",\"type\":\"LegendItem\"},{\"attributes\":{\"line_alpha\":0.6,\"line_color\":\"#e41a1c\",\"line_dash\":[6],\"line_width\":5,\"x\":{\"field\":\"x\"},\"y\":{\"field\":\"y\"}},\"id\":\"082e8a2f-5cc4-4111-ad0c-74ea3b8dfcfa\",\"type\":\"Line\"},{\"attributes\":{\"line_alpha\":0.6,\"line_color\":\"#984ea3\",\"line_width\":3,\"x\":{\"field\":\"x\"},\"y\":{\"field\":\"y\"}},\"id\":\"6d987102-5bc2-4bbf-b910-d0fc06a8f38d\",\"type\":\"Line\"},{\"attributes\":{},\"id\":\"27379421-cc8b-4541-8791-91500c5cd94a\",\"type\":\"Selection\"},{\"attributes\":{\"axis_label\":\"cooling rate [K/day]\",\"formatter\":{\"id\":\"6955f847-bd64-4498-855f-7c7303039816\",\"type\":\"BasicTickFormatter\"},\"plot\":{\"id\":\"35646175-9ade-447b-9647-eed1b2157854\",\"subtype\":\"Figure\",\"type\":\"Plot\"},\"ticker\":{\"id\":\"3132a343-ef78-4ce1-b89d-d93f81d7f1ac\",\"type\":\"BasicTicker\"}},\"id\":\"de238391-7f19-45c1-bdfa-6ae06c739064\",\"type\":\"LinearAxis\"},{\"attributes\":{\"label\":{\"value\":\"WGT igg=10 wgt_flux=2\"},\"renderers\":[{\"id\":\"426643bd-6d57-40f4-ba12-d943f7c69458\",\"type\":\"GlyphRenderer\"},{\"id\":\"d488d673-341f-4295-b664-24b90d8a95aa\",\"type\":\"GlyphRenderer\"}]},\"id\":\"92e55f7a-4454-471c-9879-b3c5c4ab4db5\",\"type\":\"LegendItem\"},{\"attributes\":{},\"id\":\"9948ffc3-51e3-4f55-ade5-b709764cb2a7\",\"type\":\"Selection\"},{\"attributes\":{},\"id\":\"e7898e1a-8e8b-4767-a35a-355015b328ae\",\"type\":\"BasicTickFormatter\"},{\"attributes\":{\"line_alpha\":0.1,\"line_color\":\"#1f77b4\",\"line_width\":3,\"x\":{\"field\":\"x\"},\"y\":{\"field\":\"y\"}},\"id\":\"5540d139-7e77-4205-908b-75c13f2e45f6\",\"type\":\"Line\"},{\"attributes\":{},\"id\":\"240743ac-af70-4215-85dc-bc7918dfbc37\",\"type\":\"Selection\"},{\"attributes\":{\"callback\":null,\"end\":0.018492745486000002,\"start\":-0.000246948086},\"id\":\"8f64ffc8-c4a1-4614-890f-1f9ff91fc3bc\",\"type\":\"Range1d\"},{\"attributes\":{\"axis_label\":\"pressure [mb]\",\"formatter\":{\"id\":\"c9145d7e-6397-4608-a89f-c578e9c65543\",\"type\":\"LogTickFormatter\"},\"plot\":{\"id\":\"35646175-9ade-447b-9647-eed1b2157854\",\"subtype\":\"Figure\",\"type\":\"Plot\"},\"ticker\":{\"id\":\"8096b132-5c87-4c91-b318-16bc2c9d901d\",\"type\":\"LogTicker\"}},\"id\":\"342b83b8-2644-4cb6-a3b9-d050c55d6342\",\"type\":\"LogAxis\"},{\"attributes\":{},\"id\":\"cccc6b3f-12f4-48aa-bde9-c3c0548294b5\",\"type\":\"Selection\"},{\"attributes\":{},\"id\":\"01ce1421-db11-4f53-b9a2-07098ec12529\",\"type\":\"LinearScale\"},{\"attributes\":{},\"id\":\"6c6dab87-ae4d-4cdf-8e8c-831e98ffc22c\",\"type\":\"Selection\"},{\"attributes\":{},\"id\":\"38a0c80a-513d-46af-9b03-8c4cd4db5fe1\",\"type\":\"UnionRenderers\"},{\"attributes\":{},\"id\":\"55a02151-6668-4b6e-8b99-f021ecba9781\",\"type\":\"Selection\"},{\"attributes\":{\"data_source\":{\"id\":\"c3344c1b-3ed8-40a8-9f9c-1d0d7c7e2e4b\",\"type\":\"ColumnDataSource\"},\"glyph\":{\"id\":\"9b949ffc-92fa-460a-bd82-b8a3c5d5cb6d\",\"type\":\"Line\"},\"hover_glyph\":null,\"muted_glyph\":null,\"nonselection_glyph\":{\"id\":\"663a82da-4c9f-4511-ac17-803cc3ab546c\",\"type\":\"Line\"},\"selection_glyph\":null,\"view\":{\"id\":\"38110ac2-53b3-4090-b19a-a05d35920cf8\",\"type\":\"CDSView\"}},\"id\":\"d488d673-341f-4295-b664-24b90d8a95aa\",\"type\":\"GlyphRenderer\"},{\"attributes\":{},\"id\":\"d9397740-d728-4411-9e0b-dc37ff450ead\",\"type\":\"UnionRenderers\"},{\"attributes\":{\"line_color\":\"#4daf4a\",\"line_width\":1.5,\"x\":{\"field\":\"x\"},\"y\":{\"field\":\"y\"}},\"id\":\"b1160c40-93d9-48f2-9b5d-5da0b9cccec4\",\"type\":\"Line\"},{\"attributes\":{\"ticker\":null},\"id\":\"c9145d7e-6397-4608-a89f-c578e9c65543\",\"type\":\"LogTickFormatter\"},{\"attributes\":{},\"id\":\"940ab4bc-4bca-4253-a015-eb9b48ad0e92\",\"type\":\"UnionRenderers\"},{\"attributes\":{\"callback\":null,\"data\":{\"x\":{\"__ndarray__\":\"wVOfX2iyDj+36YIq5twnP7NjzbMaPPM+hw0d6bZ76D49Xt5YbOrjPgqWmayMBuE+fFxCxPsw4T5oSL5b9JrjPpl1LgGzWOg+LTah3Wjs7j70iATduubzPppC0INzWvk++UmAN3+8/T5NGU3S+uQBPwH25nCQ8QU/1zCLe712CT80w8Jv3L0MPzpAIZRsIxA/IEEqRgwLEj+dfdR9QRAUP1/J7xSnuhU/rogGKppeFD/IAe1j6zsOPx7j3QkxkgM/6izqz6Ub9z71D70pkQjnPkAj1LrVuso+05c5gmygu77+MRTdCh3SvktFQwBCgdm+Dr43Iq+K377Hq7JiUjrivurq410KjeO+IvndHqiu475lj21M19DjvmOfeEqU8OO+KCQfRW4H5L5iv5FqLOrkvnJqGemTee6+kc7B12MF9b7/pSb7mkH8vsFzORPSeQG/NGcy1kobBb8Wwpq0OHoJv13xni+/VA6/qxF+if+SEL+1DiVD2ycOv6tPRtiC/QO/aFiuddrL0L5hBwyoMNkWP9riP0FHQjI/d8p5GF4bRD93Z+yR5oRSP5Ps9xWCVF4/UnQzC0yhZj8Bw9Vth4BvP5pIWsJCs3Q/eWiRyf/meT8pqiw5zxl/P/yUoMyxBoI/Js8OG9lThD/BSUf3e3uGPzIYk2ZCf4g/jdCI/19oij8/6rnJy0GMP1kKS7OuDo4/m+zHb8/Ijz+lKqrUpayQP00D/466M5E/TJVBGOxEkT9QMMY0kaGQP8YyhgRPy44/la6OU9wHjD9RqdUBV0yJP5J8UBBvr4Y/\",\"dtype\":\"float64\",\"shape\":[75]},\"y\":{\"__ndarray__\":\"S/O/Q+51ND/Sv8nbtpRIP2vylNV0PVE/aTum7souWD/At0SJ8fVgPw3Iuahxymc/MSNhhJWvcD/bTfBN02d3P2zb5nxnaoA/CD5h5MAGhz8NmeH1TyaQP+zrCsc9p5Y/LbKd76fGnz/bLW5ISEmmPww9YvTcQq8/JV2OstnstT8Er5Y7M8G+P0c+r3jqkcU/5h99k6ZBzj88bCIzFzjVP4enV8oyxN0//yH99nXg5D8qOpLLf0jtP5kqGJXUifQ/c9cS8kHP/D+/DpwzojQEQIEmwoanVwxA4lgXt9HgE0BSSZ2AJuIbQAMJih9jjiNA5q4l5INuK0AwTKYKRj0zQNv5fmq8/DpAaCJseHrtQkB/+zpwzoxKQM3MzMzMeFJAZmZmZmZqWEAAAAAAAFxeQM3MzMzMJmJAmpmZmZkfZUBmZmZmZhhoQDMzMzMzEWtAAAAAAAAKbkBmZmZmZoFwQM3MzMzM/XFAMzMzMzN6c0CamZmZmfZ0QAAAAAAAc3ZAZmZmZmbvd0DNzMzMzGt5QDMzMzMz6HpAmpmZmZlkfEAAAAAAAOF9QGZmZmZmXX9AZmZmZuZsgECamZmZGSuBQM3MzMxM6YFAAAAAAICngkAzMzMzs2WDQGZmZmbmI4RAmpmZmRnihEDNzMzMTKCFQAAAAACAXoZAMzMzM7Mch0BmZmZm5tqHQJqZmZkZmYhAzczMzExXiUAAAAAAgBWKQDMzMzOz04pAZmZmZuaRi0CamZmZGVCMQM3MzMxMDo1AAAAAAIDMjUAzMzMzs4qOQGZmZmbmSI9A\",\"dtype\":\"float64\",\"shape\":[75]}},\"selected\":{\"id\":\"55a02151-6668-4b6e-8b99-f021ecba9781\",\"type\":\"Selection\"},\"selection_policy\":{\"id\":\"c1e5f9cb-8af7-41b7-83d2-4856f8e4509a\",\"type\":\"UnionRenderers\"}},\"id\":\"3e4a21a6-eb50-4add-a411-3af90623b311\",\"type\":\"ColumnDataSource\"},{\"attributes\":{},\"id\":\"57ea5291-eca1-4b4e-b705-f0c7d350d268\",\"type\":\"Selection\"},{\"attributes\":{\"source\":{\"id\":\"6566809d-952a-4142-b96b-862bf4a5a895\",\"type\":\"ColumnDataSource\"}},\"id\":\"7a366bb6-6b7e-4e19-bbb8-e7b11d86867d\",\"type\":\"CDSView\"},{\"attributes\":{},\"id\":\"82729da9-ddb3-4156-9aae-5e27e1a4bbe9\",\"type\":\"UnionRenderers\"},{\"attributes\":{},\"id\":\"c1e5f9cb-8af7-41b7-83d2-4856f8e4509a\",\"type\":\"UnionRenderers\"},{\"attributes\":{\"source\":{\"id\":\"b2e40217-c7dd-4e23-ab11-e7e7d9466d73\",\"type\":\"ColumnDataSource\"}},\"id\":\"a129e6b8-31ec-422b-baa8-875110f022d2\",\"type\":\"CDSView\"},{\"attributes\":{},\"id\":\"6955f847-bd64-4498-855f-7c7303039816\",\"type\":\"BasicTickFormatter\"},{\"attributes\":{\"below\":[{\"id\":\"de238391-7f19-45c1-bdfa-6ae06c739064\",\"type\":\"LinearAxis\"}],\"left\":[{\"id\":\"342b83b8-2644-4cb6-a3b9-d050c55d6342\",\"type\":\"LogAxis\"}],\"plot_height\":500,\"plot_width\":560,\"renderers\":[{\"id\":\"de238391-7f19-45c1-bdfa-6ae06c739064\",\"type\":\"LinearAxis\"},{\"id\":\"56387f04-4646-465f-a72b-0456fe02cdfa\",\"type\":\"Grid\"},{\"id\":\"342b83b8-2644-4cb6-a3b9-d050c55d6342\",\"type\":\"LogAxis\"},{\"id\":\"24c10494-2ed4-44ea-9820-5ce3ab02b840\",\"type\":\"Grid\"},{\"id\":\"100aa6a9-2ece-4939-bd42-e055409e5660\",\"type\":\"BoxAnnotation\"},{\"id\":\"ebe71f1a-dde9-47f4-a749-b22bd5a529c9\",\"type\":\"GlyphRenderer\"},{\"id\":\"7069f495-2fd8-45d4-97cf-ba0347572b03\",\"type\":\"GlyphRenderer\"},{\"id\":\"bfd7fe2e-9c67-43b5-935a-50f768534cd4\",\"type\":\"GlyphRenderer\"},{\"id\":\"426643bd-6d57-40f4-ba12-d943f7c69458\",\"type\":\"GlyphRenderer\"},{\"id\":\"d488d673-341f-4295-b664-24b90d8a95aa\",\"type\":\"GlyphRenderer\"},{\"id\":\"50a3d52e-770f-4c68-991a-425180d581c9\",\"type\":\"Legend\"}],\"right\":[{\"id\":\"50a3d52e-770f-4c68-991a-425180d581c9\",\"type\":\"Legend\"}],\"title\":{\"id\":\"2cf5fe4d-2e05-4646-9b60-e31f3fe4a6d9\",\"type\":\"Title\"},\"toolbar\":{\"id\":\"dcceff7e-9d51-46ab-a600-b9103855de36\",\"type\":\"Toolbar\"},\"toolbar_location\":null,\"x_range\":{\"id\":\"476452bd-82a8-4e9e-903c-860e760941f0\",\"type\":\"Range1d\"},\"x_scale\":{\"id\":\"9ad3f1b2-33af-484f-9827-15cf4cc1e201\",\"type\":\"LinearScale\"},\"y_range\":{\"id\":\"6b395e53-70a5-47b0-8b23-70d0ff3999b7\",\"type\":\"Range1d\"},\"y_scale\":{\"id\":\"5afd5e01-c083-4cba-a5ef-b15cae17b746\",\"type\":\"LogScale\"}},\"id\":\"35646175-9ade-447b-9647-eed1b2157854\",\"subtype\":\"Figure\",\"type\":\"Plot\"},{\"attributes\":{\"callback\":null,\"data\":{\"x\":{\"__ndarray__\":\"1o7zXheG375BQMeU9/PXvk01pgD3xra+wg7gj3Vg0T5yGVCA3uvmPucZjTO3JfQ+pUx6Uwel/j5mLOBVbJ4FP9V0Z6HmHg0/yrT1JqkAEz/cYMtUcjwYP4/rjJBqXh4/SqeZbBK/Ij9nzSsuLV8mP5b45ZjrgSk/4DbkZr95LD+4XqVLl68vP7CH1GjnljE/bU6q1UJ6Mz8/4U0s3YI1P0yzjJKodzc/K7AXmrbjNT+bs15vsFMwP5X8ULVSEiY/d335nqOMHD/C2i6fdT4RPwWlbl7vgwI/MxZNeuNz8T7gMcp/mcnbPruqiJechJQ+p1lm9+670r4FJOvlo5rgvoH3zPD4EuO+uALZlERk4b7b+aheMIvdvgw8jTcAgdi+T3Y8Kxdx1b6JBFBKJfjWviUc7yU6wOK+rT1SS0ey7L4EokHP4yD1vheW5NbiKvy+Es2vE94jAr9e5kiBODcHv57YSsUo6Ay/wVshMLPGDr8wuQj2FbMGvygLO3O439a+dcHPXvgBEj9981nw/mEuP94uPLZzD0E/BfPDtJ+cTz9n9z727t9ZPy22xQy/YWM/NbWbwSAnaz/1K+UJgAlyPzt3Q+Kz+HY/oEnI4uM8fD86MQ5no9eAPxF+98DmkoM/iYdYRug8hj8IRykeoMaIP08cgtvBJYs/3fw4+pVXjT9GSxuXPGGPPzro8f/TopA/nmNmvR2DkT/0ZDs1UEaSP3bfBryZv5I/3pgpo02ykj8Onfcvq9iRP004Pe3FV5A/U++zDmpmjT8sER8N5C+KP6rbVR96GIc/\",\"dtype\":\"float64\",\"shape\":[75]},\"y\":{\"__ndarray__\":\"GhExyth1ND/Sv8nbtpRIP2vylNV0PVE/aTum7souWD/At0SJ8fVgPw3Iuahxymc/MSNhhJWvcD/bTfBN02d3P2zb5nxnaoA/CD5h5MAGhz8NmeH1TyaQP+zrCsc9p5Y/LbKd76fGnz/bLW5ISEmmPww9YvTcQq8/JV2OstnstT8Er5Y7M8G+P0c+r3jqkcU/5h99k6ZBzj88bCIzFzjVP4enV8oyxN0//yH99nXg5D8qOpLLf0jtP5kqGJXUifQ/c9cS8kHP/D+/DpwzojQEQIEmwoanVwxA4lgXt9HgE0BSSZ2AJuIbQAMJih9jjiNA5q4l5INuK0AwTKYKRj0zQNv5fmq8/DpAaCJseHrtQkB/+zpwzoxKQM3MzMzMeFJAZmZmZmZqWEAAAAAAAFxeQM3MzMzMJmJAmpmZmZkfZUBmZmZmZhhoQDMzMzMzEWtAAAAAAAAKbkBmZmZmZoFwQM3MzMzM/XFAMzMzMzN6c0CamZmZmfZ0QAAAAAAAc3ZAZmZmZmbvd0DNzMzMzGt5QDMzMzMz6HpAmpmZmZlkfEAAAAAAAOF9QGZmZmZmXX9AZmZmZuZsgECamZmZGSuBQM3MzMxM6YFAAAAAAICngkAzMzMzs2WDQGZmZmbmI4RAmpmZmRnihEDNzMzMTKCFQAAAAACAXoZAMzMzM7Mch0BmZmZm5tqHQJqZmZkZmYhAzczMzExXiUAAAAAAgBWKQDMzMzOz04pAZmZmZuaRi0CamZmZGVCMQM3MzMxMDo1AAAAAAIDMjUAzMzMzs4qOQGZmZmbmSI9A\",\"dtype\":\"float64\",\"shape\":[75]}},\"selected\":{\"id\":\"9948ffc3-51e3-4f55-ade5-b709764cb2a7\",\"type\":\"Selection\"},\"selection_policy\":{\"id\":\"d9397740-d728-4411-9e0b-dc37ff450ead\",\"type\":\"UnionRenderers\"}},\"id\":\"12e5551c-dccb-4bcf-bbf5-9549e38ec7d1\",\"type\":\"ColumnDataSource\"},{\"attributes\":{\"source\":{\"id\":\"c3344c1b-3ed8-40a8-9f9c-1d0d7c7e2e4b\",\"type\":\"ColumnDataSource\"}},\"id\":\"38110ac2-53b3-4090-b19a-a05d35920cf8\",\"type\":\"CDSView\"},{\"attributes\":{\"line_alpha\":0.1,\"line_color\":\"#1f77b4\",\"line_dash\":[6],\"line_width\":5,\"x\":{\"field\":\"x\"},\"y\":{\"field\":\"y\"}},\"id\":\"726601b3-4315-4e6a-ada4-81009f6c52e7\",\"type\":\"Line\"},{\"attributes\":{},\"id\":\"1a3bc222-d6e7-4cec-9f52-3c0b534ed33f\",\"type\":\"UnionRenderers\"},{\"attributes\":{},\"id\":\"9c0b3398-adef-4b7f-bad2-6944f5e1bcb9\",\"type\":\"Selection\"},{\"attributes\":{},\"id\":\"0bacce7a-3cca-458c-8e79-9174d9592c65\",\"type\":\"Selection\"},{\"attributes\":{\"overlay\":{\"id\":\"100aa6a9-2ece-4939-bd42-e055409e5660\",\"type\":\"BoxAnnotation\"}},\"id\":\"52c3c342-1569-4a4e-8839-93f1901bb88c\",\"type\":\"BoxZoomTool\"},{\"attributes\":{},\"id\":\"52d937ba-534b-4d76-a2a4-bb416d07a5f7\",\"type\":\"Selection\"},{\"attributes\":{},\"id\":\"211fd0d1-583b-4a0e-b020-1eda7c94f0c2\",\"type\":\"UnionRenderers\"},{\"attributes\":{\"line_alpha\":0.6,\"line_color\":\"#e41a1c\",\"line_dash\":[6],\"line_width\":5,\"x\":{\"field\":\"x\"},\"y\":{\"field\":\"y\"}},\"id\":\"66e54b78-bea4-4269-8f5b-18c7785ee6e4\",\"type\":\"Line\"},{\"attributes\":{},\"id\":\"33aeb7e0-9ef3-4fae-a18a-e46649b31a18\",\"type\":\"UnionRenderers\"},{\"attributes\":{\"toolbar\":{\"id\":\"a8208add-ffb3-44f2-b4b9-390fce29cc91\",\"type\":\"ProxyToolbar\"},\"toolbar_location\":\"above\"},\"id\":\"d001188b-4a6a-42ac-92fc-e442b3e7deb8\",\"type\":\"ToolbarBox\"},{\"attributes\":{},\"id\":\"a16b7c1b-4e23-4bd9-85e9-14bfad21698f\",\"type\":\"LinearScale\"},{\"attributes\":{},\"id\":\"e233e25d-bda5-407e-8c1b-7b293402a603\",\"type\":\"UnionRenderers\"},{\"attributes\":{\"fill_alpha\":{\"value\":0.1},\"fill_color\":{\"value\":\"#1f77b4\"},\"line_alpha\":{\"value\":0.1},\"line_color\":{\"value\":\"#1f77b4\"},\"x\":{\"field\":\"x\"},\"y\":{\"field\":\"y\"}},\"id\":\"b9d62d57-a5b7-4367-b485-5b9c4e7a66fe\",\"type\":\"Circle\"},{\"attributes\":{\"tools\":[{\"id\":\"04726e8f-edf1-4a72-86b6-896151aff983\",\"type\":\"PanTool\"},{\"id\":\"b42b6281-007e-454b-bc74-8c42303d2f53\",\"type\":\"WheelZoomTool\"},{\"id\":\"961a7887-8ca0-4235-ad7a-8c3498c169fd\",\"type\":\"BoxZoomTool\"},{\"id\":\"c883e648-6716-460d-98d1-eabd942a7f3c\",\"type\":\"SaveTool\"},{\"id\":\"20db3948-cf0f-4b35-ae7e-feecb3c96268\",\"type\":\"ResetTool\"},{\"id\":\"6bd9b32e-ac27-4e59-b9e8-6ce7cd6c37a6\",\"type\":\"HelpTool\"},{\"id\":\"2ca4b55b-0452-476e-b17d-f6718f145ce4\",\"type\":\"PanTool\"},{\"id\":\"3a5a8799-6916-49a9-af20-5f6ad1cfcc2e\",\"type\":\"WheelZoomTool\"},{\"id\":\"52c3c342-1569-4a4e-8839-93f1901bb88c\",\"type\":\"BoxZoomTool\"},{\"id\":\"9108e0a0-375d-4a47-8669-a601f8d57563\",\"type\":\"SaveTool\"},{\"id\":\"193a90b5-cbe3-4ab3-ad58-0a97439e5831\",\"type\":\"ResetTool\"},{\"id\":\"712bd63d-7279-4d4e-bea2-377b03e32e37\",\"type\":\"HelpTool\"}]},\"id\":\"a8208add-ffb3-44f2-b4b9-390fce29cc91\",\"type\":\"ProxyToolbar\"},{\"attributes\":{\"fill_alpha\":{\"value\":0.1},\"fill_color\":{\"value\":\"#1f77b4\"},\"line_alpha\":{\"value\":0.1},\"line_color\":{\"value\":\"#1f77b4\"},\"x\":{\"field\":\"x\"},\"y\":{\"field\":\"y\"}},\"id\":\"877917f1-6c4e-4fce-8a0c-5758166d3882\",\"type\":\"Square\"}],\"root_ids\":[\"26301042-c4b0-4d93-b9e9-5de5d2d20850\"]},\"title\":\"Bokeh Application\",\"version\":\"0.12.16\"}};\n",
       "  var render_items = [{\"docid\":\"590e68f0-7806-4b5e-b22e-81cc38a79ebf\",\"elementid\":\"1353d0e5-d740-41fa-92fd-c96d84aac767\",\"modelid\":\"26301042-c4b0-4d93-b9e9-5de5d2d20850\"}];\n",
       "  root.Bokeh.embed.embed_items_notebook(docs_json, render_items);\n",
       "\n",
       "  }\n",
       "  if (root.Bokeh !== undefined) {\n",
       "    embed_document(root);\n",
       "  } else {\n",
       "    var attempts = 0;\n",
       "    var timer = setInterval(function(root) {\n",
       "      if (root.Bokeh !== undefined) {\n",
       "        embed_document(root);\n",
       "        clearInterval(timer);\n",
       "      }\n",
       "      attempts++;\n",
       "      if (attempts > 100) {\n",
       "        console.log(\"Bokeh: ERROR: Unable to run BokehJS code because BokehJS library is missing\")\n",
       "        clearInterval(timer);\n",
       "      }\n",
       "    }, 10, root)\n",
       "  }\n",
       "})(window);"
      ],
      "application/vnd.bokehjs_exec.v0+json": ""
     },
     "metadata": {
      "application/vnd.bokehjs_exec.v0+json": {
       "id": "26301042-c4b0-4d93-b9e9-5de5d2d20850"
      }
     },
     "output_type": "display_data"
    },
    {
     "name": "stdout",
     "output_type": "stream",
     "text": [
      "FIGURE. Cooling rate profiles.\n"
     ]
    },
    {
     "data": {
      "text/html": [
       "<a id=\"Flux_Comparison\"></a>"
      ],
      "text/plain": [
       "<IPython.core.display.HTML object>"
      ]
     },
     "metadata": {},
     "output_type": "display_data"
    },
    {
     "data": {
      "text/markdown": [
       "# Flux Comparison"
      ],
      "text/plain": [
       "<IPython.core.display.Markdown object>"
      ]
     },
     "metadata": {},
     "output_type": "display_data"
    },
    {
     "data": {
      "text/html": [
       "<div>\n",
       "<style scoped>\n",
       "    .dataframe tbody tr th:only-of-type {\n",
       "        vertical-align: middle;\n",
       "    }\n",
       "\n",
       "    .dataframe tbody tr th {\n",
       "        vertical-align: top;\n",
       "    }\n",
       "\n",
       "    .dataframe thead th {\n",
       "        text-align: right;\n",
       "    }\n",
       "</style>\n",
       "<table border=\"1\" class=\"dataframe\">\n",
       "  <thead>\n",
       "    <tr style=\"text-align: right;\">\n",
       "      <th></th>\n",
       "      <th></th>\n",
       "      <th>flug</th>\n",
       "      <th>fldg</th>\n",
       "      <th>fnetg</th>\n",
       "    </tr>\n",
       "    <tr>\n",
       "      <th>pressure</th>\n",
       "      <th>level</th>\n",
       "      <th></th>\n",
       "      <th></th>\n",
       "      <th></th>\n",
       "    </tr>\n",
       "  </thead>\n",
       "  <tbody>\n",
       "    <tr>\n",
       "      <th>0.0000</th>\n",
       "      <th>1</th>\n",
       "      <td>-10.213940</td>\n",
       "      <td>0.000000</td>\n",
       "      <td>-10.213940</td>\n",
       "    </tr>\n",
       "    <tr>\n",
       "      <th>1.0685</th>\n",
       "      <th>24</th>\n",
       "      <td>-10.213930</td>\n",
       "      <td>0.000026</td>\n",
       "      <td>-10.213904</td>\n",
       "    </tr>\n",
       "    <tr>\n",
       "      <th>1013.0000</th>\n",
       "      <th>76</th>\n",
       "      <td>-10.297125</td>\n",
       "      <td>0.840333</td>\n",
       "      <td>-9.456791</td>\n",
       "    </tr>\n",
       "  </tbody>\n",
       "</table>\n",
       "</div>"
      ],
      "text/plain": [
       "                      flug      fldg      fnetg\n",
       "pressure  level                                \n",
       "0.0000    1     -10.213940  0.000000 -10.213940\n",
       "1.0685    24    -10.213930  0.000026 -10.213904\n",
       "1013.0000 76    -10.297125  0.840333  -9.456791"
      ]
     },
     "metadata": {},
     "output_type": "display_data"
    },
    {
     "name": "stdout",
     "output_type": "stream",
     "text": [
      "Table. Fluxes. CRD\n"
     ]
    },
    {
     "data": {
      "text/html": [
       "<div>\n",
       "<style scoped>\n",
       "    .dataframe tbody tr th:only-of-type {\n",
       "        vertical-align: middle;\n",
       "    }\n",
       "\n",
       "    .dataframe tbody tr th {\n",
       "        vertical-align: top;\n",
       "    }\n",
       "\n",
       "    .dataframe thead th {\n",
       "        text-align: right;\n",
       "    }\n",
       "</style>\n",
       "<table border=\"1\" class=\"dataframe\">\n",
       "  <thead>\n",
       "    <tr style=\"text-align: right;\">\n",
       "      <th></th>\n",
       "      <th></th>\n",
       "      <th>flug</th>\n",
       "      <th>fldg</th>\n",
       "      <th>fnetg</th>\n",
       "    </tr>\n",
       "    <tr>\n",
       "      <th>pressure</th>\n",
       "      <th>level</th>\n",
       "      <th></th>\n",
       "      <th></th>\n",
       "      <th></th>\n",
       "    </tr>\n",
       "  </thead>\n",
       "  <tbody>\n",
       "    <tr>\n",
       "      <th>0.0000</th>\n",
       "      <th>1</th>\n",
       "      <td>-10.224334</td>\n",
       "      <td>0.000000</td>\n",
       "      <td>-10.224334</td>\n",
       "    </tr>\n",
       "    <tr>\n",
       "      <th>1.0685</th>\n",
       "      <th>24</th>\n",
       "      <td>-10.224332</td>\n",
       "      <td>0.000009</td>\n",
       "      <td>-10.224324</td>\n",
       "    </tr>\n",
       "    <tr>\n",
       "      <th>1013.0000</th>\n",
       "      <th>76</th>\n",
       "      <td>-10.297125</td>\n",
       "      <td>0.783525</td>\n",
       "      <td>-9.513600</td>\n",
       "    </tr>\n",
       "  </tbody>\n",
       "</table>\n",
       "</div>"
      ],
      "text/plain": [
       "                      flug      fldg      fnetg\n",
       "pressure  level                                \n",
       "0.0000    1     -10.224334  0.000000 -10.224334\n",
       "1.0685    24    -10.224332  0.000009 -10.224324\n",
       "1013.0000 76    -10.297125  0.783525  -9.513600"
      ]
     },
     "metadata": {},
     "output_type": "display_data"
    },
    {
     "name": "stdout",
     "output_type": "stream",
     "text": [
      "Table. Fluxes. WGT igg=10 wgt_flux=1\n"
     ]
    },
    {
     "data": {
      "text/html": [
       "<div>\n",
       "<style scoped>\n",
       "    .dataframe tbody tr th:only-of-type {\n",
       "        vertical-align: middle;\n",
       "    }\n",
       "\n",
       "    .dataframe tbody tr th {\n",
       "        vertical-align: top;\n",
       "    }\n",
       "\n",
       "    .dataframe thead th {\n",
       "        text-align: right;\n",
       "    }\n",
       "</style>\n",
       "<table border=\"1\" class=\"dataframe\">\n",
       "  <thead>\n",
       "    <tr style=\"text-align: right;\">\n",
       "      <th></th>\n",
       "      <th></th>\n",
       "      <th>flug</th>\n",
       "      <th>fldg</th>\n",
       "      <th>fnetg</th>\n",
       "    </tr>\n",
       "    <tr>\n",
       "      <th>pressure</th>\n",
       "      <th>level</th>\n",
       "      <th></th>\n",
       "      <th></th>\n",
       "      <th></th>\n",
       "    </tr>\n",
       "  </thead>\n",
       "  <tbody>\n",
       "    <tr>\n",
       "      <th>1.000000e-08</th>\n",
       "      <th>1</th>\n",
       "      <td>-10.228444</td>\n",
       "      <td>-1.014653e-07</td>\n",
       "      <td>-10.228444</td>\n",
       "    </tr>\n",
       "    <tr>\n",
       "      <th>1.068500e+00</th>\n",
       "      <th>24</th>\n",
       "      <td>-10.228443</td>\n",
       "      <td>6.969658e-06</td>\n",
       "      <td>-10.228436</td>\n",
       "    </tr>\n",
       "    <tr>\n",
       "      <th>1.013000e+03</th>\n",
       "      <th>76</th>\n",
       "      <td>-10.297120</td>\n",
       "      <td>7.615201e-01</td>\n",
       "      <td>-9.535600</td>\n",
       "    </tr>\n",
       "  </tbody>\n",
       "</table>\n",
       "</div>"
      ],
      "text/plain": [
       "                         flug          fldg      fnetg\n",
       "pressure     level                                    \n",
       "1.000000e-08 1     -10.228444 -1.014653e-07 -10.228444\n",
       "1.068500e+00 24    -10.228443  6.969658e-06 -10.228436\n",
       "1.013000e+03 76    -10.297120  7.615201e-01  -9.535600"
      ]
     },
     "metadata": {},
     "output_type": "display_data"
    },
    {
     "name": "stdout",
     "output_type": "stream",
     "text": [
      "Table. Fluxes. CLIRAD\n"
     ]
    },
    {
     "data": {
      "text/html": [
       "<div>\n",
       "<style scoped>\n",
       "    .dataframe tbody tr th:only-of-type {\n",
       "        vertical-align: middle;\n",
       "    }\n",
       "\n",
       "    .dataframe tbody tr th {\n",
       "        vertical-align: top;\n",
       "    }\n",
       "\n",
       "    .dataframe thead th {\n",
       "        text-align: right;\n",
       "    }\n",
       "</style>\n",
       "<table border=\"1\" class=\"dataframe\">\n",
       "  <thead>\n",
       "    <tr style=\"text-align: right;\">\n",
       "      <th></th>\n",
       "      <th></th>\n",
       "      <th>flug</th>\n",
       "      <th>fldg</th>\n",
       "      <th>fnetg</th>\n",
       "    </tr>\n",
       "    <tr>\n",
       "      <th>pressure</th>\n",
       "      <th>level</th>\n",
       "      <th></th>\n",
       "      <th></th>\n",
       "      <th></th>\n",
       "    </tr>\n",
       "  </thead>\n",
       "  <tbody>\n",
       "    <tr>\n",
       "      <th>0.0000</th>\n",
       "      <th>1</th>\n",
       "      <td>-1.039411e-02</td>\n",
       "      <td>0.000000</td>\n",
       "      <td>-0.010394</td>\n",
       "    </tr>\n",
       "    <tr>\n",
       "      <th>1.0685</th>\n",
       "      <th>24</th>\n",
       "      <td>-1.040242e-02</td>\n",
       "      <td>-0.000017</td>\n",
       "      <td>-0.010420</td>\n",
       "    </tr>\n",
       "    <tr>\n",
       "      <th>1013.0000</th>\n",
       "      <th>76</th>\n",
       "      <td>3.500000e-07</td>\n",
       "      <td>-0.056808</td>\n",
       "      <td>-0.056808</td>\n",
       "    </tr>\n",
       "  </tbody>\n",
       "</table>\n",
       "</div>"
      ],
      "text/plain": [
       "                         flug      fldg     fnetg\n",
       "pressure  level                                  \n",
       "0.0000    1     -1.039411e-02  0.000000 -0.010394\n",
       "1.0685    24    -1.040242e-02 -0.000017 -0.010420\n",
       "1013.0000 76     3.500000e-07 -0.056808 -0.056808"
      ]
     },
     "metadata": {},
     "output_type": "display_data"
    },
    {
     "name": "stdout",
     "output_type": "stream",
     "text": [
      "Table. Fluxes. (WGT igg=10 wgt_flux=1) - (CRD)\n"
     ]
    },
    {
     "data": {
      "text/html": [
       "<div>\n",
       "<style scoped>\n",
       "    .dataframe tbody tr th:only-of-type {\n",
       "        vertical-align: middle;\n",
       "    }\n",
       "\n",
       "    .dataframe tbody tr th {\n",
       "        vertical-align: top;\n",
       "    }\n",
       "\n",
       "    .dataframe thead th {\n",
       "        text-align: right;\n",
       "    }\n",
       "</style>\n",
       "<table border=\"1\" class=\"dataframe\">\n",
       "  <thead>\n",
       "    <tr style=\"text-align: right;\">\n",
       "      <th></th>\n",
       "      <th></th>\n",
       "      <th>flug</th>\n",
       "      <th>fldg</th>\n",
       "      <th>fnetg</th>\n",
       "    </tr>\n",
       "    <tr>\n",
       "      <th>pressure</th>\n",
       "      <th>level</th>\n",
       "      <th></th>\n",
       "      <th></th>\n",
       "      <th></th>\n",
       "    </tr>\n",
       "  </thead>\n",
       "  <tbody>\n",
       "    <tr>\n",
       "      <th>0.0000</th>\n",
       "      <th>1</th>\n",
       "      <td>-0.014504</td>\n",
       "      <td>-1.014653e-07</td>\n",
       "      <td>-0.014504</td>\n",
       "    </tr>\n",
       "    <tr>\n",
       "      <th>1.0685</th>\n",
       "      <th>24</th>\n",
       "      <td>-0.014513</td>\n",
       "      <td>-1.897939e-05</td>\n",
       "      <td>-0.014532</td>\n",
       "    </tr>\n",
       "    <tr>\n",
       "      <th>1013.0000</th>\n",
       "      <th>76</th>\n",
       "      <td>0.000005</td>\n",
       "      <td>-7.881312e-02</td>\n",
       "      <td>-0.078809</td>\n",
       "    </tr>\n",
       "  </tbody>\n",
       "</table>\n",
       "</div>"
      ],
      "text/plain": [
       "                     flug          fldg     fnetg\n",
       "pressure  level                                  \n",
       "0.0000    1     -0.014504 -1.014653e-07 -0.014504\n",
       "1.0685    24    -0.014513 -1.897939e-05 -0.014532\n",
       "1013.0000 76     0.000005 -7.881312e-02 -0.078809"
      ]
     },
     "metadata": {},
     "output_type": "display_data"
    },
    {
     "name": "stdout",
     "output_type": "stream",
     "text": [
      "Table. Fluxes. (CLIRAD) - (CRD)\n"
     ]
    },
    {
     "data": {
      "text/html": [
       "<a id=\"Best-fit_Parameters\"></a>"
      ],
      "text/plain": [
       "<IPython.core.display.HTML object>"
      ]
     },
     "metadata": {},
     "output_type": "display_data"
    },
    {
     "data": {
      "text/markdown": [
       "# Best-fit Parameters"
      ],
      "text/plain": [
       "<IPython.core.display.Markdown object>"
      ]
     },
     "metadata": {},
     "output_type": "display_data"
    },
    {
     "name": "stdout",
     "output_type": "stream",
     "text": [
      "Best-fit values for each (gas, band)\n",
      "------------------------------------\n",
      "o h2o band6\n",
      "  atmpro = mls\n",
      "  band = 6\n",
      "  commitnumber = a06b618\n",
      "  conc = None\n",
      "  dv = 0.001\n",
      "  klin = 5e-25\n",
      "  molecule = h2o\n",
      "  ng_adju = [0]\n",
      "  ng_refs = [4]\n",
      "  nv = 1000\n",
      "  option_compute_btable = 0\n",
      "  option_compute_ktable = 1\n",
      "  option_wgt_flux = 1\n",
      "  option_wgt_k = 1\n",
      "  ref_pts = [(600, 250)]\n",
      "  tsfc = 294\n",
      "  vmax = 1215\n",
      "  vmin = 1100\n",
      "  w_diffuse = [(1.66, 1.66, 1.7, 1.8)]\n",
      "  wgt = [(0.3, 0.45, 0.6, 0.95)]\n"
     ]
    }
   ],
   "source": [
    "script()"
   ]
  },
  {
   "cell_type": "code",
   "execution_count": 13,
   "metadata": {
    "collapsed": true
   },
   "outputs": [
    {
     "data": {
      "text/html": [
       "<script>\n",
       "code_show=true; \n",
       "function code_toggle() {\n",
       " if (code_show){\n",
       " $('div.input').hide();\n",
       " } else {\n",
       " $('div.input').show();\n",
       " }\n",
       " code_show = !code_show\n",
       "} \n",
       "$( document ).ready(code_toggle);\n",
       "</script>\n",
       "<form action=\"javascript:code_toggle()\"><input type=\"submit\" value=\"Click here to toggle on/off the raw code.\"></form>"
      ],
      "text/plain": [
       "<IPython.core.display.HTML object>"
      ]
     },
     "execution_count": 13,
     "metadata": {},
     "output_type": "execute_result"
    }
   ],
   "source": [
    "display.HTML('''<script>\n",
    "code_show=true; \n",
    "function code_toggle() {\n",
    " if (code_show){\n",
    " $('div.input').hide();\n",
    " } else {\n",
    " $('div.input').show();\n",
    " }\n",
    " code_show = !code_show\n",
    "} \n",
    "$( document ).ready(code_toggle);\n",
    "</script>\n",
    "<form action=\"javascript:code_toggle()\"><input type=\"submit\" value=\"Click here to toggle on/off the raw code.\"></form>''')"
   ]
  }
 ],
 "metadata": {
  "kernelspec": {
   "display_name": "Python 3",
   "language": "python",
   "name": "python3"
  },
  "language_info": {
   "codemirror_mode": {
    "name": "ipython",
    "version": 3
   },
   "file_extension": ".py",
   "mimetype": "text/x-python",
   "name": "python",
   "nbconvert_exporter": "python",
   "pygments_lexer": "ipython3",
   "version": "3.6.1"
  }
 },
 "nbformat": 4,
 "nbformat_minor": 2
}
