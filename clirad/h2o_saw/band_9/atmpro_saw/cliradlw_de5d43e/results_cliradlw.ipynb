{
 "cells": [
  {
   "cell_type": "code",
   "execution_count": 1,
   "metadata": {
    "collapsed": true
   },
   "outputs": [],
   "source": [
    "%matplotlib inline\n",
    "import os\n",
    "import re\n",
    "import io\n",
    "import itertools\n",
    "import pprint\n",
    "\n",
    "from bokeh.io import output_notebook, show\n",
    "from bokeh.layouts import gridplot\n",
    "from bokeh.plotting import figure\n",
    "from bokeh.models import Range1d, Legend\n",
    "from bokeh.palettes import all_palettes\n",
    "\n",
    "import matplotlib\n",
    "import matplotlib.pyplot as plt\n",
    "import numpy as np\n",
    "import pandas as pd\n",
    "import xarray as xr\n",
    "\n",
    "import climatools.lblnew.bestfit_params as bestfits\n",
    "from climatools.lblnew import setup_bestfit, setup_overlap\n",
    "import climatools.lblnew.pipeline as pipe_lblnew\n",
    "import climatools.cliradlw.setup as setup_cliradlw\n",
    "import climatools.cliradlw.pipeline as pipe_cliradlw\n",
    "\n",
    "import climatools.html.html as climahtml\n",
    "from climatools.lblnew.dataio import *\n",
    "from climatools.plot.plot import *\n",
    "\n",
    "\n",
    "import IPython.display as display"
   ]
  },
  {
   "cell_type": "code",
   "execution_count": 2,
   "metadata": {
    "collapsed": true
   },
   "outputs": [],
   "source": [
    "%run param.py"
   ]
  },
  {
   "cell_type": "code",
   "execution_count": 3,
   "metadata": {
    "collapsed": true
   },
   "outputs": [],
   "source": [
    "def load_output_file(path_csv):\n",
    "    '''\n",
    "    Load lblnew output .csv file to xarray.Dataset\n",
    "    \n",
    "    Parameters\n",
    "    ----------\n",
    "    path_csv: str\n",
    "              Path to the .csv file to be loaded.\n",
    "    ds: xarray.Dataset\n",
    "        Data in the input file in the form of an xarray.Dataset.\n",
    "    '''\n",
    "    toindex = ['band', 'pressure', 'igg', 'g']    \n",
    "    df = pd.read_csv(path_csv, sep=r'\\s+')\n",
    "    df = df.set_index([i for i in toindex if i in df.columns])\n",
    "    df = df.rename(columns={'sfu': 'flug',\n",
    "                            'sfd': 'fldg',\n",
    "                            'fnet': 'fnetg',\n",
    "                            'coolr': 'coolrg'})\n",
    "    ds = xr.Dataset.from_dataframe(df)\n",
    "\n",
    "    for l in ('level', 'layer'):\n",
    "        if l in ds.data_vars:\n",
    "            if len(ds[l].dims) > 1:\n",
    "                surface = {d: 0 for d in ds.dims if d != 'pressure'}\n",
    "                coord_level = ds[l][surface]\n",
    "                ds.coords[l] = ('pressure', coord_level)\n",
    "            else:\n",
    "                ds.coords[l] = ('pressure', ds[l])\n",
    "    \n",
    "    return ds"
   ]
  },
  {
   "cell_type": "code",
   "execution_count": 4,
   "metadata": {
    "collapsed": true
   },
   "outputs": [],
   "source": [
    "def lblnew_setup(param=None):\n",
    "    if 'ng_refs' in param:\n",
    "        return {'setup': setup_bestfit,\n",
    "                'fname_flux_crd': 'output_flux.dat',\n",
    "                'fname_cool_crd': 'output_coolr.dat',\n",
    "                'fname_flux_wgt': 'output_wfluxg.dat',\n",
    "                'fname_cool_wgt': 'output_wcoolrg.dat'}\n",
    "    else:\n",
    "        return {'setup': setup_overlap,\n",
    "                'fname_flux_crd': 'output_flux.dat',\n",
    "                'fname_cool_crd': 'output_coolr.dat',\n",
    "                'fname_flux_wgt': 'output_wflux.dat',\n",
    "                'fname_cool_wgt': 'output_wcoolr.dat'}\n",
    "\n",
    "    \n",
    "def load_lblnew_data(param):\n",
    "    \n",
    "    fname_dsname = [('fname_flux_crd', 'ds_flux_crd'),\n",
    "                    ('fname_cool_crd', 'ds_cool_crd'),\n",
    "                    ('fname_flux_wgt', 'ds_flux_wgt'),\n",
    "                    ('fname_cool_wgt', 'ds_cool_wgt')]\n",
    "    \n",
    "    d = lblnew_setup(param)\n",
    "    dir_fortran = pipe_lblnew.get_dir_case(param, setup=d['setup'])\n",
    "    \n",
    "    data_dict = {}\n",
    "    for fname, dsname in fname_dsname:\n",
    "        fpath = os.path.join(dir_fortran, d[fname])\n",
    "        data_dict[dsname] = load_output_file(fpath)\n",
    "    return data_dict\n",
    "    \n",
    "\n",
    "    \n",
    "    "
   ]
  },
  {
   "cell_type": "code",
   "execution_count": 5,
   "metadata": {
    "collapsed": true
   },
   "outputs": [],
   "source": [
    "d = load_lblnew_data(PARAM_LBLNEW)\n",
    "\n",
    "DS_FLUX_CRD = d['ds_flux_crd']\n",
    "DS_COOL_CRD = d['ds_cool_crd']\n",
    "DS_FLUX_WGT = d['ds_flux_wgt']\n",
    "DS_COOL_WGT = d['ds_cool_wgt']"
   ]
  },
  {
   "cell_type": "code",
   "execution_count": 6,
   "metadata": {
    "collapsed": true
   },
   "outputs": [],
   "source": [
    "DIR_FORTRAN = pipe_cliradlw.get_fortran_dir(PARAM, \n",
    "                                            setup=setup_cliradlw)\n",
    "\n",
    "PATH_FLUX = os.path.join(DIR_FORTRAN, 'output_flux.dat')\n",
    "PATH_COOL = os.path.join(DIR_FORTRAN, 'output_coolr.dat')\n",
    "\n",
    "DS_FLUX = load_output_file(PATH_FLUX)\n",
    "DS_COOL = load_output_file(PATH_COOL)"
   ]
  },
  {
   "cell_type": "code",
   "execution_count": 7,
   "metadata": {
    "collapsed": true
   },
   "outputs": [
    {
     "data": {
      "text/html": [
       "\n",
       "    <div class=\"bk-root\">\n",
       "        <a href=\"https://bokeh.pydata.org\" target=\"_blank\" class=\"bk-logo bk-logo-small bk-logo-notebook\"></a>\n",
       "        <span id=\"04449605-f970-4438-b810-6f0af6771812\">Loading BokehJS ...</span>\n",
       "    </div>"
      ]
     },
     "metadata": {},
     "output_type": "display_data"
    },
    {
     "data": {
      "application/javascript": [
       "\n",
       "(function(root) {\n",
       "  function now() {\n",
       "    return new Date();\n",
       "  }\n",
       "\n",
       "  var force = true;\n",
       "\n",
       "  if (typeof (root._bokeh_onload_callbacks) === \"undefined\" || force === true) {\n",
       "    root._bokeh_onload_callbacks = [];\n",
       "    root._bokeh_is_loading = undefined;\n",
       "  }\n",
       "\n",
       "  var JS_MIME_TYPE = 'application/javascript';\n",
       "  var HTML_MIME_TYPE = 'text/html';\n",
       "  var EXEC_MIME_TYPE = 'application/vnd.bokehjs_exec.v0+json';\n",
       "  var CLASS_NAME = 'output_bokeh rendered_html';\n",
       "\n",
       "  /**\n",
       "   * Render data to the DOM node\n",
       "   */\n",
       "  function render(props, node) {\n",
       "    var script = document.createElement(\"script\");\n",
       "    node.appendChild(script);\n",
       "  }\n",
       "\n",
       "  /**\n",
       "   * Handle when an output is cleared or removed\n",
       "   */\n",
       "  function handleClearOutput(event, handle) {\n",
       "    var cell = handle.cell;\n",
       "\n",
       "    var id = cell.output_area._bokeh_element_id;\n",
       "    var server_id = cell.output_area._bokeh_server_id;\n",
       "    // Clean up Bokeh references\n",
       "    if (id !== undefined) {\n",
       "      Bokeh.index[id].model.document.clear();\n",
       "      delete Bokeh.index[id];\n",
       "    }\n",
       "\n",
       "    if (server_id !== undefined) {\n",
       "      // Clean up Bokeh references\n",
       "      var cmd = \"from bokeh.io.state import curstate; print(curstate().uuid_to_server['\" + server_id + \"'].get_sessions()[0].document.roots[0]._id)\";\n",
       "      cell.notebook.kernel.execute(cmd, {\n",
       "        iopub: {\n",
       "          output: function(msg) {\n",
       "            var element_id = msg.content.text.trim();\n",
       "            Bokeh.index[element_id].model.document.clear();\n",
       "            delete Bokeh.index[element_id];\n",
       "          }\n",
       "        }\n",
       "      });\n",
       "      // Destroy server and session\n",
       "      var cmd = \"import bokeh.io.notebook as ion; ion.destroy_server('\" + server_id + \"')\";\n",
       "      cell.notebook.kernel.execute(cmd);\n",
       "    }\n",
       "  }\n",
       "\n",
       "  /**\n",
       "   * Handle when a new output is added\n",
       "   */\n",
       "  function handleAddOutput(event, handle) {\n",
       "    var output_area = handle.output_area;\n",
       "    var output = handle.output;\n",
       "\n",
       "    // limit handleAddOutput to display_data with EXEC_MIME_TYPE content only\n",
       "    if ((output.output_type != \"display_data\") || (!output.data.hasOwnProperty(EXEC_MIME_TYPE))) {\n",
       "      return\n",
       "    }\n",
       "\n",
       "    var toinsert = output_area.element.find(\".\" + CLASS_NAME.split(' ')[0]);\n",
       "\n",
       "    if (output.metadata[EXEC_MIME_TYPE][\"id\"] !== undefined) {\n",
       "      toinsert[toinsert.length - 1].firstChild.textContent = output.data[JS_MIME_TYPE];\n",
       "      // store reference to embed id on output_area\n",
       "      output_area._bokeh_element_id = output.metadata[EXEC_MIME_TYPE][\"id\"];\n",
       "    }\n",
       "    if (output.metadata[EXEC_MIME_TYPE][\"server_id\"] !== undefined) {\n",
       "      var bk_div = document.createElement(\"div\");\n",
       "      bk_div.innerHTML = output.data[HTML_MIME_TYPE];\n",
       "      var script_attrs = bk_div.children[0].attributes;\n",
       "      for (var i = 0; i < script_attrs.length; i++) {\n",
       "        toinsert[toinsert.length - 1].firstChild.setAttribute(script_attrs[i].name, script_attrs[i].value);\n",
       "      }\n",
       "      // store reference to server id on output_area\n",
       "      output_area._bokeh_server_id = output.metadata[EXEC_MIME_TYPE][\"server_id\"];\n",
       "    }\n",
       "  }\n",
       "\n",
       "  function register_renderer(events, OutputArea) {\n",
       "\n",
       "    function append_mime(data, metadata, element) {\n",
       "      // create a DOM node to render to\n",
       "      var toinsert = this.create_output_subarea(\n",
       "        metadata,\n",
       "        CLASS_NAME,\n",
       "        EXEC_MIME_TYPE\n",
       "      );\n",
       "      this.keyboard_manager.register_events(toinsert);\n",
       "      // Render to node\n",
       "      var props = {data: data, metadata: metadata[EXEC_MIME_TYPE]};\n",
       "      render(props, toinsert[toinsert.length - 1]);\n",
       "      element.append(toinsert);\n",
       "      return toinsert\n",
       "    }\n",
       "\n",
       "    /* Handle when an output is cleared or removed */\n",
       "    events.on('clear_output.CodeCell', handleClearOutput);\n",
       "    events.on('delete.Cell', handleClearOutput);\n",
       "\n",
       "    /* Handle when a new output is added */\n",
       "    events.on('output_added.OutputArea', handleAddOutput);\n",
       "\n",
       "    /**\n",
       "     * Register the mime type and append_mime function with output_area\n",
       "     */\n",
       "    OutputArea.prototype.register_mime_type(EXEC_MIME_TYPE, append_mime, {\n",
       "      /* Is output safe? */\n",
       "      safe: true,\n",
       "      /* Index of renderer in `output_area.display_order` */\n",
       "      index: 0\n",
       "    });\n",
       "  }\n",
       "\n",
       "  // register the mime type if in Jupyter Notebook environment and previously unregistered\n",
       "  if (root.Jupyter !== undefined) {\n",
       "    var events = require('base/js/events');\n",
       "    var OutputArea = require('notebook/js/outputarea').OutputArea;\n",
       "\n",
       "    if (OutputArea.prototype.mime_types().indexOf(EXEC_MIME_TYPE) == -1) {\n",
       "      register_renderer(events, OutputArea);\n",
       "    }\n",
       "  }\n",
       "\n",
       "  \n",
       "  if (typeof (root._bokeh_timeout) === \"undefined\" || force === true) {\n",
       "    root._bokeh_timeout = Date.now() + 5000;\n",
       "    root._bokeh_failed_load = false;\n",
       "  }\n",
       "\n",
       "  var NB_LOAD_WARNING = {'data': {'text/html':\n",
       "     \"<div style='background-color: #fdd'>\\n\"+\n",
       "     \"<p>\\n\"+\n",
       "     \"BokehJS does not appear to have successfully loaded. If loading BokehJS from CDN, this \\n\"+\n",
       "     \"may be due to a slow or bad network connection. Possible fixes:\\n\"+\n",
       "     \"</p>\\n\"+\n",
       "     \"<ul>\\n\"+\n",
       "     \"<li>re-rerun `output_notebook()` to attempt to load from CDN again, or</li>\\n\"+\n",
       "     \"<li>use INLINE resources instead, as so:</li>\\n\"+\n",
       "     \"</ul>\\n\"+\n",
       "     \"<code>\\n\"+\n",
       "     \"from bokeh.resources import INLINE\\n\"+\n",
       "     \"output_notebook(resources=INLINE)\\n\"+\n",
       "     \"</code>\\n\"+\n",
       "     \"</div>\"}};\n",
       "\n",
       "  function display_loaded() {\n",
       "    var el = document.getElementById(\"04449605-f970-4438-b810-6f0af6771812\");\n",
       "    if (el != null) {\n",
       "      el.textContent = \"BokehJS is loading...\";\n",
       "    }\n",
       "    if (root.Bokeh !== undefined) {\n",
       "      if (el != null) {\n",
       "        el.textContent = \"BokehJS \" + root.Bokeh.version + \" successfully loaded.\";\n",
       "      }\n",
       "    } else if (Date.now() < root._bokeh_timeout) {\n",
       "      setTimeout(display_loaded, 100)\n",
       "    }\n",
       "  }\n",
       "\n",
       "\n",
       "  function run_callbacks() {\n",
       "    try {\n",
       "      root._bokeh_onload_callbacks.forEach(function(callback) { callback() });\n",
       "    }\n",
       "    finally {\n",
       "      delete root._bokeh_onload_callbacks\n",
       "    }\n",
       "    console.info(\"Bokeh: all callbacks have finished\");\n",
       "  }\n",
       "\n",
       "  function load_libs(js_urls, callback) {\n",
       "    root._bokeh_onload_callbacks.push(callback);\n",
       "    if (root._bokeh_is_loading > 0) {\n",
       "      console.log(\"Bokeh: BokehJS is being loaded, scheduling callback at\", now());\n",
       "      return null;\n",
       "    }\n",
       "    if (js_urls == null || js_urls.length === 0) {\n",
       "      run_callbacks();\n",
       "      return null;\n",
       "    }\n",
       "    console.log(\"Bokeh: BokehJS not loaded, scheduling load and callback at\", now());\n",
       "    root._bokeh_is_loading = js_urls.length;\n",
       "    for (var i = 0; i < js_urls.length; i++) {\n",
       "      var url = js_urls[i];\n",
       "      var s = document.createElement('script');\n",
       "      s.src = url;\n",
       "      s.async = false;\n",
       "      s.onreadystatechange = s.onload = function() {\n",
       "        root._bokeh_is_loading--;\n",
       "        if (root._bokeh_is_loading === 0) {\n",
       "          console.log(\"Bokeh: all BokehJS libraries loaded\");\n",
       "          run_callbacks()\n",
       "        }\n",
       "      };\n",
       "      s.onerror = function() {\n",
       "        console.warn(\"failed to load library \" + url);\n",
       "      };\n",
       "      console.log(\"Bokeh: injecting script tag for BokehJS library: \", url);\n",
       "      document.getElementsByTagName(\"head\")[0].appendChild(s);\n",
       "    }\n",
       "  };var element = document.getElementById(\"04449605-f970-4438-b810-6f0af6771812\");\n",
       "  if (element == null) {\n",
       "    console.log(\"Bokeh: ERROR: autoload.js configured with elementid '04449605-f970-4438-b810-6f0af6771812' but no matching script tag was found. \")\n",
       "    return false;\n",
       "  }\n",
       "\n",
       "  var js_urls = [\"https://cdn.pydata.org/bokeh/release/bokeh-0.12.16.min.js\", \"https://cdn.pydata.org/bokeh/release/bokeh-widgets-0.12.16.min.js\", \"https://cdn.pydata.org/bokeh/release/bokeh-tables-0.12.16.min.js\", \"https://cdn.pydata.org/bokeh/release/bokeh-gl-0.12.16.min.js\"];\n",
       "\n",
       "  var inline_js = [\n",
       "    function(Bokeh) {\n",
       "      Bokeh.set_log_level(\"info\");\n",
       "    },\n",
       "    \n",
       "    function(Bokeh) {\n",
       "      \n",
       "    },\n",
       "    function(Bokeh) {\n",
       "      console.log(\"Bokeh: injecting CSS: https://cdn.pydata.org/bokeh/release/bokeh-0.12.16.min.css\");\n",
       "      Bokeh.embed.inject_css(\"https://cdn.pydata.org/bokeh/release/bokeh-0.12.16.min.css\");\n",
       "      console.log(\"Bokeh: injecting CSS: https://cdn.pydata.org/bokeh/release/bokeh-widgets-0.12.16.min.css\");\n",
       "      Bokeh.embed.inject_css(\"https://cdn.pydata.org/bokeh/release/bokeh-widgets-0.12.16.min.css\");\n",
       "      console.log(\"Bokeh: injecting CSS: https://cdn.pydata.org/bokeh/release/bokeh-tables-0.12.16.min.css\");\n",
       "      Bokeh.embed.inject_css(\"https://cdn.pydata.org/bokeh/release/bokeh-tables-0.12.16.min.css\");\n",
       "    }\n",
       "  ];\n",
       "\n",
       "  function run_inline_js() {\n",
       "    \n",
       "    if ((root.Bokeh !== undefined) || (force === true)) {\n",
       "      for (var i = 0; i < inline_js.length; i++) {\n",
       "        inline_js[i].call(root, root.Bokeh);\n",
       "      }if (force === true) {\n",
       "        display_loaded();\n",
       "      }} else if (Date.now() < root._bokeh_timeout) {\n",
       "      setTimeout(run_inline_js, 100);\n",
       "    } else if (!root._bokeh_failed_load) {\n",
       "      console.log(\"Bokeh: BokehJS failed to load within specified timeout.\");\n",
       "      root._bokeh_failed_load = true;\n",
       "    } else if (force !== true) {\n",
       "      var cell = $(document.getElementById(\"04449605-f970-4438-b810-6f0af6771812\")).parents('.cell').data().cell;\n",
       "      cell.output_area.append_execute_result(NB_LOAD_WARNING)\n",
       "    }\n",
       "\n",
       "  }\n",
       "\n",
       "  if (root._bokeh_is_loading === 0) {\n",
       "    console.log(\"Bokeh: BokehJS loaded, going straight to plotting\");\n",
       "    run_inline_js();\n",
       "  } else {\n",
       "    load_libs(js_urls, function() {\n",
       "      console.log(\"Bokeh: BokehJS plotting callback run at\", now());\n",
       "      run_inline_js();\n",
       "    });\n",
       "  }\n",
       "}(window));"
      ],
      "application/vnd.bokehjs_load.v0+json": "\n(function(root) {\n  function now() {\n    return new Date();\n  }\n\n  var force = true;\n\n  if (typeof (root._bokeh_onload_callbacks) === \"undefined\" || force === true) {\n    root._bokeh_onload_callbacks = [];\n    root._bokeh_is_loading = undefined;\n  }\n\n  \n\n  \n  if (typeof (root._bokeh_timeout) === \"undefined\" || force === true) {\n    root._bokeh_timeout = Date.now() + 5000;\n    root._bokeh_failed_load = false;\n  }\n\n  var NB_LOAD_WARNING = {'data': {'text/html':\n     \"<div style='background-color: #fdd'>\\n\"+\n     \"<p>\\n\"+\n     \"BokehJS does not appear to have successfully loaded. If loading BokehJS from CDN, this \\n\"+\n     \"may be due to a slow or bad network connection. Possible fixes:\\n\"+\n     \"</p>\\n\"+\n     \"<ul>\\n\"+\n     \"<li>re-rerun `output_notebook()` to attempt to load from CDN again, or</li>\\n\"+\n     \"<li>use INLINE resources instead, as so:</li>\\n\"+\n     \"</ul>\\n\"+\n     \"<code>\\n\"+\n     \"from bokeh.resources import INLINE\\n\"+\n     \"output_notebook(resources=INLINE)\\n\"+\n     \"</code>\\n\"+\n     \"</div>\"}};\n\n  function display_loaded() {\n    var el = document.getElementById(\"04449605-f970-4438-b810-6f0af6771812\");\n    if (el != null) {\n      el.textContent = \"BokehJS is loading...\";\n    }\n    if (root.Bokeh !== undefined) {\n      if (el != null) {\n        el.textContent = \"BokehJS \" + root.Bokeh.version + \" successfully loaded.\";\n      }\n    } else if (Date.now() < root._bokeh_timeout) {\n      setTimeout(display_loaded, 100)\n    }\n  }\n\n\n  function run_callbacks() {\n    try {\n      root._bokeh_onload_callbacks.forEach(function(callback) { callback() });\n    }\n    finally {\n      delete root._bokeh_onload_callbacks\n    }\n    console.info(\"Bokeh: all callbacks have finished\");\n  }\n\n  function load_libs(js_urls, callback) {\n    root._bokeh_onload_callbacks.push(callback);\n    if (root._bokeh_is_loading > 0) {\n      console.log(\"Bokeh: BokehJS is being loaded, scheduling callback at\", now());\n      return null;\n    }\n    if (js_urls == null || js_urls.length === 0) {\n      run_callbacks();\n      return null;\n    }\n    console.log(\"Bokeh: BokehJS not loaded, scheduling load and callback at\", now());\n    root._bokeh_is_loading = js_urls.length;\n    for (var i = 0; i < js_urls.length; i++) {\n      var url = js_urls[i];\n      var s = document.createElement('script');\n      s.src = url;\n      s.async = false;\n      s.onreadystatechange = s.onload = function() {\n        root._bokeh_is_loading--;\n        if (root._bokeh_is_loading === 0) {\n          console.log(\"Bokeh: all BokehJS libraries loaded\");\n          run_callbacks()\n        }\n      };\n      s.onerror = function() {\n        console.warn(\"failed to load library \" + url);\n      };\n      console.log(\"Bokeh: injecting script tag for BokehJS library: \", url);\n      document.getElementsByTagName(\"head\")[0].appendChild(s);\n    }\n  };var element = document.getElementById(\"04449605-f970-4438-b810-6f0af6771812\");\n  if (element == null) {\n    console.log(\"Bokeh: ERROR: autoload.js configured with elementid '04449605-f970-4438-b810-6f0af6771812' but no matching script tag was found. \")\n    return false;\n  }\n\n  var js_urls = [\"https://cdn.pydata.org/bokeh/release/bokeh-0.12.16.min.js\", \"https://cdn.pydata.org/bokeh/release/bokeh-widgets-0.12.16.min.js\", \"https://cdn.pydata.org/bokeh/release/bokeh-tables-0.12.16.min.js\", \"https://cdn.pydata.org/bokeh/release/bokeh-gl-0.12.16.min.js\"];\n\n  var inline_js = [\n    function(Bokeh) {\n      Bokeh.set_log_level(\"info\");\n    },\n    \n    function(Bokeh) {\n      \n    },\n    function(Bokeh) {\n      console.log(\"Bokeh: injecting CSS: https://cdn.pydata.org/bokeh/release/bokeh-0.12.16.min.css\");\n      Bokeh.embed.inject_css(\"https://cdn.pydata.org/bokeh/release/bokeh-0.12.16.min.css\");\n      console.log(\"Bokeh: injecting CSS: https://cdn.pydata.org/bokeh/release/bokeh-widgets-0.12.16.min.css\");\n      Bokeh.embed.inject_css(\"https://cdn.pydata.org/bokeh/release/bokeh-widgets-0.12.16.min.css\");\n      console.log(\"Bokeh: injecting CSS: https://cdn.pydata.org/bokeh/release/bokeh-tables-0.12.16.min.css\");\n      Bokeh.embed.inject_css(\"https://cdn.pydata.org/bokeh/release/bokeh-tables-0.12.16.min.css\");\n    }\n  ];\n\n  function run_inline_js() {\n    \n    if ((root.Bokeh !== undefined) || (force === true)) {\n      for (var i = 0; i < inline_js.length; i++) {\n        inline_js[i].call(root, root.Bokeh);\n      }if (force === true) {\n        display_loaded();\n      }} else if (Date.now() < root._bokeh_timeout) {\n      setTimeout(run_inline_js, 100);\n    } else if (!root._bokeh_failed_load) {\n      console.log(\"Bokeh: BokehJS failed to load within specified timeout.\");\n      root._bokeh_failed_load = true;\n    } else if (force !== true) {\n      var cell = $(document.getElementById(\"04449605-f970-4438-b810-6f0af6771812\")).parents('.cell').data().cell;\n      cell.output_area.append_execute_result(NB_LOAD_WARNING)\n    }\n\n  }\n\n  if (root._bokeh_is_loading === 0) {\n    console.log(\"Bokeh: BokehJS loaded, going straight to plotting\");\n    run_inline_js();\n  } else {\n    load_libs(js_urls, function() {\n      console.log(\"Bokeh: BokehJS plotting callback run at\", now());\n      run_inline_js();\n    });\n  }\n}(window));"
     },
     "metadata": {},
     "output_type": "display_data"
    }
   ],
   "source": [
    "output_notebook()"
   ]
  },
  {
   "cell_type": "code",
   "execution_count": 8,
   "metadata": {
    "collapsed": true
   },
   "outputs": [],
   "source": [
    "def fmt_cool(ds_in):\n",
    "    ds = ds_in.copy(deep=True)\n",
    "    if 'igg' in ds.dims:\n",
    "        ds = ds.sel(igg=1)\n",
    "\n",
    "    if 'g' in ds.dims:\n",
    "        ds = ds.sum('g')\n",
    "            \n",
    "    if 'band' in ds.dims:\n",
    "        try:\n",
    "            ds = ds.squeeze('band')\n",
    "        except ValueError:\n",
    "            ds = ds.sum('band')\n",
    "                \n",
    "    return ds['coolrg']\n",
    "\n",
    "\n",
    "def pltdata_cooling_1(ds_cool=None,\n",
    "                      ds_cool_crd=None, ds_cool_wgt=None):\n",
    "    \n",
    "\n",
    "\n",
    "    colors = all_palettes['Set1'][4]\n",
    "    data = [{'label': 'CLIRAD `coolr_bands`',\n",
    "             'srs': fmt_cool(ds_cool),\n",
    "             'line_dash': 'dashed', 'line_width': 5,\n",
    "             'color': colors[0], 'alpha': .6},\n",
    "            {'label': 'CRD',\n",
    "             'srs': fmt_cool(ds_cool_crd),\n",
    "             'line_dash': 'solid', 'line_width': 1.5,\n",
    "             'marker': 'circle', 'marker_size': 5,\n",
    "             'color': colors[2], 'alpha': 1,},\n",
    "            {'label': 'WGT igg=10 wgt_flux=2',\n",
    "             'srs': fmt_cool(ds_cool_wgt),\n",
    "             'line_dash': 'solid', 'line_width': 3,\n",
    "             'marker': 'square', 'marker_size': 5,\n",
    "             'color': colors[3], 'alpha': .6}]\n",
    "    return data\n",
    "\n",
    "\n",
    "def nice_xlims(pltdata=None, prange=None):\n",
    "    \n",
    "    def get_slice(srs):\n",
    "        return srs.sel(pressure=slice(*prange))\n",
    "    \n",
    "    srss = [d['srs'] for d in pltdata]\n",
    "    vmin = min([get_slice(srs).min() for srs in srss])\n",
    "    vmax = max([get_slice(srs).max() for srs in srss])\n",
    "    dv = (vmax - vmin) * .01\n",
    "    return float(vmin - dv), float(vmax + dv)\n",
    "    \n",
    "\n",
    "def plt_cooling_bokeh(pltdata=None):\n",
    "    '''\n",
    "    Plot a list of cooling rate profiles using bokeh.\n",
    "    '''\n",
    "    ymin = 1e-2 \n",
    "    ymax = 1020 \n",
    "        \n",
    "    p1 = figure(title=\"Linear pressure scale\", \n",
    "                plot_width=400)        \n",
    "    xmin, xmax = nice_xlims(pltdata, prange=(50, 1050))\n",
    "    for d in pltdata:\n",
    "        if 'marker' in d:\n",
    "            getattr(p1, d['marker'])(d['srs'].values, \n",
    "                    d['srs'].coords['pressure'].values,\n",
    "                    color=d['color'], alpha=.7)\n",
    "        p1.line(d['srs'].values, \n",
    "                d['srs'].coords['pressure'].values,\n",
    "                color=d['color'], alpha=d['alpha'], \n",
    "                line_width=d['line_width'], line_dash=d['line_dash'])\n",
    "    \n",
    "    p1.y_range = Range1d(ymax, ymin)\n",
    "    p1.yaxis.axis_label = 'pressure [mb]'   \n",
    "    p1.x_range = Range1d(xmin, xmax)\n",
    "    p1.xaxis.axis_label = 'cooling rate [K/day]'\n",
    "            \n",
    "    p2 = figure(title='Log pressure scale', y_axis_type='log',\n",
    "                plot_width=560)\n",
    "    xmin, xmax = nice_xlims(pltdata, prange=(.01, 200))\n",
    "    \n",
    "    rs = []\n",
    "    for d in pltdata:\n",
    "        rd = []\n",
    "        if 'marker' in d:\n",
    "            r_mark = getattr(p2, d['marker'])(d['srs'].values, \n",
    "                        d['srs'].coords['pressure'].values,\n",
    "                        color=d['color'], alpha=.7)\n",
    "            rd.append(r_mark)\n",
    "        r_line = p2.line(d['srs'].values, \n",
    "                    d['srs'].coords['pressure'].values,\n",
    "                    color=d['color'], alpha=d['alpha'], \n",
    "                    line_width=d['line_width'], line_dash=d['line_dash'])\n",
    "        rd.append(r_line)\n",
    "      \n",
    "        rs.append(rd)\n",
    "        \n",
    "    p2.y_range = Range1d(ymax, ymin)  \n",
    "    p2.yaxis.axis_label = 'pressure [mb]'\n",
    "    \n",
    "    p2.x_range = Range1d(xmin, xmax)\n",
    "    p2.xaxis.axis_label = 'cooling rate [K/day]'\n",
    "    \n",
    "    items = [(d['label'], r) for r, d in zip(rs, pltdata)]\n",
    "    legend = Legend(items=items, location=(10, -30))\n",
    "    legend.label_text_font_size = '8pt'\n",
    "    \n",
    "    p2.add_layout(legend, 'right')  \n",
    "    \n",
    "    show(gridplot(p1, p2, ncols=2, plot_height=500))\n",
    "    \n",
    "\n",
    "def script_plt_cooling():\n",
    "    pltdata = pltdata_cooling_1(\n",
    "        ds_cool=DS_COOL,\n",
    "        ds_cool_crd=DS_COOL_CRD,\n",
    "        ds_cool_wgt=DS_COOL_WGT)\n",
    "    plt_cooling_bokeh(pltdata=pltdata)\n",
    "    print('''FIGURE. Cooling rate profiles.''')"
   ]
  },
  {
   "cell_type": "code",
   "execution_count": 9,
   "metadata": {
    "collapsed": true
   },
   "outputs": [],
   "source": [
    "def fmt_flux(ds_in):\n",
    "    ds = ds_in.copy(deep=True)\n",
    "    \n",
    "    for l in ('level', 'layer'):\n",
    "        if l in ds.data_vars:\n",
    "            if len(ds[l].dims) > 1:\n",
    "                surface = {d: 0 for d in ds.dims if d != 'pressure'}\n",
    "                coord_level = ds[l][surface]\n",
    "                ds.coords[l] = ('pressure', coord_level)\n",
    "            else:\n",
    "                ds.coords[l] = ('pressure', ds[l])\n",
    "        \n",
    "    ds = ds.isel(pressure=[0, 23, -1])\n",
    "        \n",
    "    if 'igg' in ds.dims:\n",
    "        ds = ds.sel(igg=[1])\n",
    "        ds = ds.squeeze('igg').drop('igg')\n",
    "    \n",
    "    if 'g' in ds.dims:\n",
    "        ds = ds.sum('g')\n",
    "            \n",
    "    if 'band' in ds.dims:\n",
    "        try:\n",
    "            ds = ds.squeeze('band').drop('band')\n",
    "        except ValueError:\n",
    "            ds = ds.sum('band')\n",
    "                \n",
    "    df = ds.to_dataframe()\n",
    "    df = df.set_index('level', append=True)               \n",
    "    return df\n",
    "\n",
    "\n",
    "def tbdata_flux(ds_flux=None, ds_flux_crd=None, ds_flux_wgt=None):\n",
    "    ilevels = [0, 23, -1]\n",
    "            \n",
    "    benchmark = {'label': 'CRD',\n",
    "                 'df': fmt_flux(ds_flux_crd)}\n",
    "    \n",
    "    tbs = [{'label': 'WGT igg=10 wgt_flux=1',\n",
    "            'df': fmt_flux(ds_flux_wgt)},\n",
    "           {'label': 'CLIRAD',\n",
    "            'df': fmt_flux(ds_flux)}]\n",
    "    \n",
    "    data = {'benchmark': benchmark, 'others': tbs}\n",
    "    return data\n",
    "\n",
    "\n",
    "def tb_flux(tbdata=None):\n",
    "    benchmark = tbdata['benchmark']\n",
    "    others = tbdata['others']\n",
    "    \n",
    "    def show_tb(d=None):\n",
    "        display.display(d['df'])\n",
    "        print('Table.', 'Fluxes.', d['label'])\n",
    "        \n",
    "    def show_tbdiff(d0=None, d=None):\n",
    "        df = d['df']\n",
    "        df.index = d0['df'].index\n",
    "        display.display(df - d0['df'])\n",
    "        print('Table.', 'Fluxes.', \n",
    "              '({}) - ({})'.format(d['label'], d0['label']))\n",
    "        \n",
    "    show_tb(benchmark)\n",
    "    for d in others:\n",
    "        show_tb(d)\n",
    "        \n",
    "    for d in others:\n",
    "        show_tbdiff(d=d, d0=benchmark)\n",
    "        \n",
    "        \n",
    "def script_tb_flux():\n",
    "    data = tbdata_flux(ds_flux=DS_FLUX,\n",
    "                       ds_flux_crd=DS_FLUX_CRD,\n",
    "                       ds_flux_wgt=DS_FLUX_WGT)\n",
    "    tb_flux(tbdata=data)"
   ]
  },
  {
   "cell_type": "code",
   "execution_count": 10,
   "metadata": {
    "collapsed": true
   },
   "outputs": [],
   "source": [
    "def band_map():\n",
    "    '''\n",
    "    Maps spectral bands in lblnew to spectral bands in clirad.\n",
    "    '''\n",
    "    lblnew2clirad = {'1': '1',\n",
    "            '2': '2',\n",
    "            '3a': '3',\n",
    "            '3b': '4',\n",
    "            '3c': '5',\n",
    "            '4': '6', \n",
    "            '5': '7',\n",
    "            '6': '8',\n",
    "            '7': '9', \n",
    "            '8': '10',\n",
    "            '9': '11'}\n",
    "    \n",
    "    clirad2lblnew = {clirad: lblnew \n",
    "                     for lblnew, clirad in lblnew2clirad.items()}\n",
    "    return clirad2lblnew\n",
    "\n",
    "\n",
    "def gasbands():\n",
    "    bmap = band_map()\n",
    "    gases = list(PARAM['molecule'].keys())\n",
    "    \n",
    "    bands = [bmap[str(b)] for b in PARAM['band']]\n",
    "    return list(itertools.product(gases, bands))\n",
    "\n",
    "\n",
    "def print_bestfit_params():\n",
    "    print('Best-fit values for each (gas, band)')\n",
    "    print('------------------------------------')\n",
    "    for gas, band in gasbands():\n",
    "        print('o {} band{}'.format(gas, band))\n",
    "        param = bestfits.kdist_params(molecule=gas, band=band)\n",
    "        for name, value in sorted(param.items()):\n",
    "            print(2 * ' ' + '{} = {}'.format(name, value))\n",
    "\n",
    "        \n",
    "def print_input_param():        \n",
    "    for name, value in PARAM.items():\n",
    "        print('{} = {}'.format(name, value))\n",
    "        \n",
    "        \n",
    "def print_lblnew_param():\n",
    "    for name, value in sorted(PARAM_LBLNEW.items()):\n",
    "        print('{} = {}'.format(name, value))\n"
   ]
  },
  {
   "cell_type": "code",
   "execution_count": 11,
   "metadata": {
    "collapsed": true,
    "scrolled": false
   },
   "outputs": [],
   "source": [
    "def show_html(s):\n",
    "    display.display(display.HTML(s))\n",
    "\n",
    "    \n",
    "def show_markdown(s):\n",
    "    display.display(display.Markdown(s))\n",
    "\n",
    "    \n",
    "def script():\n",
    "    \n",
    "    title = '### CLIRAD-LW'\n",
    "    s_input = 'Input Parameters'\n",
    "    s_lblnew_param = 'LBLNEW case compaired against'\n",
    "    s_bestfits = 'Best-fit Parameters'\n",
    "    s_plt_cooling = 'Cooling Rate Profiles'\n",
    "    s_tb_flux = 'Flux Comparison'\n",
    "    \n",
    "    # title\n",
    "    show_markdown('### CLIRAD-LW')\n",
    "    \n",
    "    # TOC\n",
    "    show_markdown('### Table of Contents')\n",
    "    show_html(climahtml.getHTML_hrefanchor(s_input))\n",
    "    show_html(climahtml.getHTML_hrefanchor(s_lblnew_param))\n",
    "    show_html(climahtml.getHTML_hrefanchor(s_plt_cooling))\n",
    "    show_html(climahtml.getHTML_hrefanchor(s_tb_flux))\n",
    "    show_html(climahtml.getHTML_hrefanchor(s_bestfits))\n",
    "    \n",
    "    # Input parameters\n",
    "    show_html(climahtml.getHTML_idanchor(s_input))\n",
    "    show_markdown(climahtml.getMarkdown_sectitle(s_input))\n",
    "    print_input_param()\n",
    "    \n",
    "    # LBLNEW parameters \n",
    "    show_html(climahtml.getHTML_idanchor(s_lblnew_param))\n",
    "    show_markdown(climahtml.getMarkdown_sectitle(s_lblnew_param))\n",
    "    print_lblnew_param()\n",
    "    \n",
    "    # Cooling rate profiles\n",
    "    show_html(climahtml.getHTML_idanchor(s_plt_cooling))\n",
    "    show_markdown(climahtml.getMarkdown_sectitle(s_plt_cooling))\n",
    "    script_plt_cooling()\n",
    "    \n",
    "    # Flux comparison\n",
    "    show_html(climahtml.getHTML_idanchor(s_tb_flux))\n",
    "    show_markdown(climahtml.getMarkdown_sectitle(s_tb_flux))\n",
    "    script_tb_flux()\n",
    "    \n",
    "    # Best-fit values\n",
    "    show_html(climahtml.getHTML_idanchor(s_bestfits))\n",
    "    show_markdown(climahtml.getMarkdown_sectitle(s_bestfits))\n",
    "    print_bestfit_params()\n",
    "   \n",
    "    "
   ]
  },
  {
   "cell_type": "code",
   "execution_count": 12,
   "metadata": {
    "collapsed": true,
    "scrolled": false
   },
   "outputs": [
    {
     "data": {
      "text/markdown": [
       "### CLIRAD-LW"
      ],
      "text/plain": [
       "<IPython.core.display.Markdown object>"
      ]
     },
     "metadata": {},
     "output_type": "display_data"
    },
    {
     "data": {
      "text/markdown": [
       "### Table of Contents"
      ],
      "text/plain": [
       "<IPython.core.display.Markdown object>"
      ]
     },
     "metadata": {},
     "output_type": "display_data"
    },
    {
     "data": {
      "text/html": [
       "<a href=\"#Input_Parameters\">Input Parameters</a>"
      ],
      "text/plain": [
       "<IPython.core.display.HTML object>"
      ]
     },
     "metadata": {},
     "output_type": "display_data"
    },
    {
     "data": {
      "text/html": [
       "<a href=\"#LBLNEW_case_compaired_against\">LBLNEW case compaired against</a>"
      ],
      "text/plain": [
       "<IPython.core.display.HTML object>"
      ]
     },
     "metadata": {},
     "output_type": "display_data"
    },
    {
     "data": {
      "text/html": [
       "<a href=\"#Cooling_Rate_Profiles\">Cooling Rate Profiles</a>"
      ],
      "text/plain": [
       "<IPython.core.display.HTML object>"
      ]
     },
     "metadata": {},
     "output_type": "display_data"
    },
    {
     "data": {
      "text/html": [
       "<a href=\"#Flux_Comparison\">Flux Comparison</a>"
      ],
      "text/plain": [
       "<IPython.core.display.HTML object>"
      ]
     },
     "metadata": {},
     "output_type": "display_data"
    },
    {
     "data": {
      "text/html": [
       "<a href=\"#Best-fit_Parameters\">Best-fit Parameters</a>"
      ],
      "text/plain": [
       "<IPython.core.display.HTML object>"
      ]
     },
     "metadata": {},
     "output_type": "display_data"
    },
    {
     "data": {
      "text/html": [
       "<a id=\"Input_Parameters\"></a>"
      ],
      "text/plain": [
       "<IPython.core.display.HTML object>"
      ]
     },
     "metadata": {},
     "output_type": "display_data"
    },
    {
     "data": {
      "text/markdown": [
       "# Input Parameters"
      ],
      "text/plain": [
       "<IPython.core.display.Markdown object>"
      ]
     },
     "metadata": {},
     "output_type": "display_data"
    },
    {
     "name": "stdout",
     "output_type": "stream",
     "text": [
      "atmpro = saw\n",
      "band = [9]\n",
      "commitnumber = de5d43e\n",
      "molecule = {'h2o': 'atmpro'}\n",
      "tsfc = 257\n"
     ]
    },
    {
     "data": {
      "text/html": [
       "<a id=\"LBLNEW_case_compaired_against\"></a>"
      ],
      "text/plain": [
       "<IPython.core.display.HTML object>"
      ]
     },
     "metadata": {},
     "output_type": "display_data"
    },
    {
     "data": {
      "text/markdown": [
       "# LBLNEW case compaired against"
      ],
      "text/plain": [
       "<IPython.core.display.Markdown object>"
      ]
     },
     "metadata": {},
     "output_type": "display_data"
    },
    {
     "name": "stdout",
     "output_type": "stream",
     "text": [
      "atmpro = saw\n",
      "band = 7\n",
      "commitnumber = 5014a19\n",
      "conc = None\n",
      "dv = 0.001\n",
      "klin = 0\n",
      "molecule = h2o\n",
      "ng_adju = [0]\n",
      "ng_refs = [7]\n",
      "nv = 1000\n",
      "option_compute_btable = 0\n",
      "option_compute_ktable = 0\n",
      "option_wgt_flux = 1\n",
      "option_wgt_k = 1\n",
      "ref_pts = [(600, 250)]\n",
      "tsfc = 257\n",
      "vmax = 1380\n",
      "vmin = 1215\n",
      "w_diffuse = [(2, 1.6, 1.6, 1.6, 1.6, 1.6, 1.8)]\n",
      "wgt = [(0.5, 0.5, 0.5, 0.5, 0.5, 0.5, 0.9)]\n"
     ]
    },
    {
     "data": {
      "text/html": [
       "<a id=\"Cooling_Rate_Profiles\"></a>"
      ],
      "text/plain": [
       "<IPython.core.display.HTML object>"
      ]
     },
     "metadata": {},
     "output_type": "display_data"
    },
    {
     "data": {
      "text/markdown": [
       "# Cooling Rate Profiles"
      ],
      "text/plain": [
       "<IPython.core.display.Markdown object>"
      ]
     },
     "metadata": {},
     "output_type": "display_data"
    },
    {
     "data": {
      "text/html": [
       "\n",
       "<div class=\"bk-root\">\n",
       "    <div class=\"bk-plotdiv\" id=\"371268fb-6fc9-4273-8015-6ab6c0915752\"></div>\n",
       "</div>"
      ]
     },
     "metadata": {},
     "output_type": "display_data"
    },
    {
     "data": {
      "application/javascript": [
       "(function(root) {\n",
       "  function embed_document(root) {\n",
       "    \n",
       "  var docs_json = {\"fce7f46d-417a-4081-a729-951c6273b4cf\":{\"roots\":{\"references\":[{\"attributes\":{\"items\":[{\"id\":\"2dc4231e-400c-4611-a5f3-e5cd927ac1b0\",\"type\":\"LegendItem\"},{\"id\":\"40c10f8a-2eea-4ea2-8cbe-ca4df4743901\",\"type\":\"LegendItem\"},{\"id\":\"8722e937-daa8-49d0-99bc-14a2f6eb46e1\",\"type\":\"LegendItem\"}],\"label_text_font_size\":{\"value\":\"8pt\"},\"location\":[10,-30],\"plot\":{\"id\":\"156caa36-aeb0-4a7f-b64c-ef26a246710f\",\"subtype\":\"Figure\",\"type\":\"Plot\"}},\"id\":\"c32e3a12-0410-463c-8445-26f9b86c31a4\",\"type\":\"Legend\"},{\"attributes\":{},\"id\":\"a3caf0ae-e05b-4f02-a69a-2b6c998f0fb3\",\"type\":\"UnionRenderers\"},{\"attributes\":{\"line_alpha\":0.6,\"line_color\":\"#984ea3\",\"line_width\":3,\"x\":{\"field\":\"x\"},\"y\":{\"field\":\"y\"}},\"id\":\"366ccf32-3198-442b-a95e-002591bf8c25\",\"type\":\"Line\"},{\"attributes\":{},\"id\":\"60fc4203-c210-4b6c-a8c8-fedb52e508d1\",\"type\":\"Selection\"},{\"attributes\":{\"axis_label\":\"pressure [mb]\",\"formatter\":{\"id\":\"b6e27c52-26b6-4248-bee9-a1fbca23a70c\",\"type\":\"LogTickFormatter\"},\"plot\":{\"id\":\"156caa36-aeb0-4a7f-b64c-ef26a246710f\",\"subtype\":\"Figure\",\"type\":\"Plot\"},\"ticker\":{\"id\":\"5b296788-fb3f-41c8-a393-126ce4d341df\",\"type\":\"LogTicker\"}},\"id\":\"bd0d1996-f04c-44ff-af2d-0ae9b8cf2220\",\"type\":\"LogAxis\"},{\"attributes\":{},\"id\":\"74183f75-ade1-4bb9-a793-ffe86c58d09f\",\"type\":\"UnionRenderers\"},{\"attributes\":{\"bottom_units\":\"screen\",\"fill_alpha\":{\"value\":0.5},\"fill_color\":{\"value\":\"lightgrey\"},\"left_units\":\"screen\",\"level\":\"overlay\",\"line_alpha\":{\"value\":1.0},\"line_color\":{\"value\":\"black\"},\"line_dash\":[4,4],\"line_width\":{\"value\":2},\"plot\":null,\"render_mode\":\"css\",\"right_units\":\"screen\",\"top_units\":\"screen\"},\"id\":\"d829b450-e48d-4792-a450-4796f2f7d47d\",\"type\":\"BoxAnnotation\"},{\"attributes\":{},\"id\":\"c05b0d61-746c-4ae9-a520-0e19ff36f0bd\",\"type\":\"Selection\"},{\"attributes\":{},\"id\":\"ffbf639a-33ae-4344-b309-28492ff88685\",\"type\":\"UnionRenderers\"},{\"attributes\":{\"below\":[{\"id\":\"a788d98f-8d6d-4e7c-b265-25e3c04245ad\",\"type\":\"LinearAxis\"}],\"left\":[{\"id\":\"ef475027-8a54-4ad3-b085-741343806db8\",\"type\":\"LinearAxis\"}],\"plot_height\":500,\"plot_width\":400,\"renderers\":[{\"id\":\"a788d98f-8d6d-4e7c-b265-25e3c04245ad\",\"type\":\"LinearAxis\"},{\"id\":\"3c22c940-9ba6-4093-9e66-dd66683a448f\",\"type\":\"Grid\"},{\"id\":\"ef475027-8a54-4ad3-b085-741343806db8\",\"type\":\"LinearAxis\"},{\"id\":\"e9129b6d-464b-4077-9a49-069af44fb918\",\"type\":\"Grid\"},{\"id\":\"a32bff36-d572-4b78-80a1-739bf7d43d26\",\"type\":\"BoxAnnotation\"},{\"id\":\"23114352-679d-44d5-9587-10949cfbf08d\",\"type\":\"GlyphRenderer\"},{\"id\":\"f42608f5-e737-4ad0-b048-b384dd13b3f7\",\"type\":\"GlyphRenderer\"},{\"id\":\"9a8199dd-a844-43b0-ba6b-81caa1b257cd\",\"type\":\"GlyphRenderer\"},{\"id\":\"88898dbd-1346-45fa-b0aa-5600c4f3edd4\",\"type\":\"GlyphRenderer\"},{\"id\":\"b90605f5-4be3-4255-ab6d-767926ba7c46\",\"type\":\"GlyphRenderer\"}],\"title\":{\"id\":\"4a6c0aed-7d70-4e1a-bfe5-657c16baf8b9\",\"type\":\"Title\"},\"toolbar\":{\"id\":\"2053a3e1-5089-49d9-980c-bb81c29839de\",\"type\":\"Toolbar\"},\"toolbar_location\":null,\"x_range\":{\"id\":\"3bacfc3b-b0a5-47c0-b7b5-2c40e8e8764d\",\"type\":\"Range1d\"},\"x_scale\":{\"id\":\"bbc36862-b004-4bbf-bc6b-0d09ce816ecc\",\"type\":\"LinearScale\"},\"y_range\":{\"id\":\"177de5ed-2e02-4f00-8d6c-078fcc7016aa\",\"type\":\"Range1d\"},\"y_scale\":{\"id\":\"488e6caa-bb60-4c4e-b2b6-b34eb3774774\",\"type\":\"LinearScale\"}},\"id\":\"c431f3ee-a381-4988-b523-c614742578b5\",\"subtype\":\"Figure\",\"type\":\"Plot\"},{\"attributes\":{\"source\":{\"id\":\"f708e32b-aa87-4adb-9fd2-a46407c8e0a7\",\"type\":\"ColumnDataSource\"}},\"id\":\"901f91c6-203c-44f3-8e95-47fc43a52134\",\"type\":\"CDSView\"},{\"attributes\":{},\"id\":\"ef9ec7f6-80de-4ac3-bfa6-c3f017170aa5\",\"type\":\"Selection\"},{\"attributes\":{},\"id\":\"ca1a1f84-aff6-4a5f-a3bc-00a2e6e0fc24\",\"type\":\"UnionRenderers\"},{\"attributes\":{\"source\":{\"id\":\"1f3fb242-cb13-49b9-baa3-2a95dbe04735\",\"type\":\"ColumnDataSource\"}},\"id\":\"39b072b3-5cb4-49a6-9c5e-31e8f0c1e426\",\"type\":\"CDSView\"},{\"attributes\":{},\"id\":\"704d1db0-13ef-45cd-a132-cf6a5b264c01\",\"type\":\"Selection\"},{\"attributes\":{},\"id\":\"bbc36862-b004-4bbf-bc6b-0d09ce816ecc\",\"type\":\"LinearScale\"},{\"attributes\":{},\"id\":\"a6eb436e-295b-42ff-a67a-e9d38e093417\",\"type\":\"UnionRenderers\"},{\"attributes\":{},\"id\":\"63bdd484-90a6-44c9-9b06-b1b5b717941b\",\"type\":\"Selection\"},{\"attributes\":{\"children\":[{\"id\":\"d41d1542-113c-4372-aeff-36a33e7b3481\",\"type\":\"ToolbarBox\"},{\"id\":\"bb7367cf-3790-4ac7-908c-5acdd63acd12\",\"type\":\"Column\"}]},\"id\":\"d685f1e8-21de-4ec3-8740-5d52491765ec\",\"type\":\"Column\"},{\"attributes\":{\"callback\":null,\"data\":{\"x\":{\"__ndarray__\":\"DWUjHHwhNj/CjudI16E7Pz9SswAKHUQ/oCqsRvyeSz84Fh7dnDZSP9rX053gWlc/GLSabwJWXT+lWYuNgiJiPzctr7HlI2Y/Nmv3YDPBaj+4q36EJAdwP3IWL/qXEHM/j5DR9uCEdj/Z/LQBFPl5PwgtIRsM7Hw/+vmVI0Kvfz/c3RQA6FSBP3sjMekn8YI/kq291wmvhD+PN237rYyGPyuZot2IUIg/w4Z/cCDxhj+K1roYP/OBPxI1GBHeGXo/L9nbJPyRcj9cBr9r0b5pP+xyTKtXMmE/QSGPrno3Vz8ii+1A0NpQP8IiZi0hI0k/60ZnJFUqQj+EJqREFaQ5PzMG/LhKfzU/rM4bjjE4OD89loBLSyk8P0m++6kUwT8/TJjCU3jdQD9L18TQRkRAPypACKTGokM/UR1r8ygxRT+dGKeGr8JEP4iBD+LWrEA/oRjo/46PND84JI/xw//8PjOBTdn/6Te/urzhF0qeP7+CBraWOTgeP6U1hP137lQ/WpNCPkPMaj9Vb0psF/l5PzqRbvXWrIQ/RJ/5yNlCjT/iv0SSETeTP4E9R7b/PZg/crvc413SnT/YUmi1idehP9P+YjpntqQ/Kksr1i9Zpz+VLoidh7upP1O9ihmB3qs/LPtQms3ErT+IMXFHpWuvP5+akY4WZ7A/M45hoxD5sD/8UN2v73SxP/b9Juuv6LE/xHsMbcNmsj+3qmNykO2yP30m/vcsRbM/0p/5Eynssj8I1K0BHWaxP8fFhOzV/q0/+5gvQ8r9qD/raqd3pUikP+3WhR8RiZ4/\",\"dtype\":\"float64\",\"shape\":[75]},\"y\":{\"__ndarray__\":\"GhExyth1ND/Sv8nbtpRIP2vylNV0PVE/aTum7souWD/At0SJ8fVgPw3Iuahxymc/MSNhhJWvcD/bTfBN02d3P2zb5nxnaoA/CD5h5MAGhz8NmeH1TyaQP+zrCsc9p5Y/LbKd76fGnz/bLW5ISEmmPww9YvTcQq8/JV2OstnstT8Er5Y7M8G+P0c+r3jqkcU/5h99k6ZBzj88bCIzFzjVP4enV8oyxN0//yH99nXg5D8qOpLLf0jtP5kqGJXUifQ/c9cS8kHP/D+/DpwzojQEQIEmwoanVwxA4lgXt9HgE0BSSZ2AJuIbQAMJih9jjiNA5q4l5INuK0AwTKYKRj0zQNv5fmq8/DpAaCJseHrtQkB/+zpwzoxKQM3MzMzMeFJAZmZmZmZqWEAAAAAAAFxeQM3MzMzMJmJAmpmZmZkfZUBmZmZmZhhoQDMzMzMzEWtAAAAAAAAKbkBmZmZmZoFwQM3MzMzM/XFAMzMzMzN6c0CamZmZmfZ0QAAAAAAAc3ZAZmZmZmbvd0DNzMzMzGt5QDMzMzMz6HpAmpmZmZlkfEAAAAAAAOF9QGZmZmZmXX9AZmZmZuZsgECamZmZGSuBQM3MzMxM6YFAAAAAAICngkAzMzMzs2WDQGZmZmbmI4RAmpmZmRnihEDNzMzMTKCFQAAAAACAXoZAMzMzM7Mch0BmZmZm5tqHQJqZmZkZmYhAzczMzExXiUAAAAAAgBWKQDMzMzOz04pAZmZmZuaRi0CamZmZGVCMQM3MzMxMDo1AAAAAAIDMjUAzMzMzs4qOQGZmZmbmSI9A\",\"dtype\":\"float64\",\"shape\":[75]}},\"selected\":{\"id\":\"6aee5d7e-33de-4625-9a2b-0e2bb67eb6f3\",\"type\":\"Selection\"},\"selection_policy\":{\"id\":\"4c5ac03d-01a5-4ccf-8e71-7d500382cdb4\",\"type\":\"UnionRenderers\"}},\"id\":\"f708e32b-aa87-4adb-9fd2-a46407c8e0a7\",\"type\":\"ColumnDataSource\"},{\"attributes\":{},\"id\":\"488e6caa-bb60-4c4e-b2b6-b34eb3774774\",\"type\":\"LinearScale\"},{\"attributes\":{\"tools\":[{\"id\":\"ec669550-fc88-48ee-858c-398c8cdfa53b\",\"type\":\"PanTool\"},{\"id\":\"3e522e44-934b-42fb-8a42-e2ea1cee044f\",\"type\":\"WheelZoomTool\"},{\"id\":\"14dedbad-6042-432d-b709-55c8160fdc11\",\"type\":\"BoxZoomTool\"},{\"id\":\"59d1eec5-7c58-4d66-8cf3-f3755f950121\",\"type\":\"SaveTool\"},{\"id\":\"af711bcb-1284-4ce7-8d08-1c2405277cb6\",\"type\":\"ResetTool\"},{\"id\":\"087fd977-78e1-445d-818a-354c7cc995b9\",\"type\":\"HelpTool\"},{\"id\":\"a589d479-55f5-478a-8761-790ba2dbe4d8\",\"type\":\"PanTool\"},{\"id\":\"22f03992-34f7-4f02-a7ca-e01e0a4f1cf0\",\"type\":\"WheelZoomTool\"},{\"id\":\"c6e471c9-06fc-4976-8fa5-08fb9100dfc0\",\"type\":\"BoxZoomTool\"},{\"id\":\"a126d28f-b99b-490a-8617-0d575038ae4d\",\"type\":\"SaveTool\"},{\"id\":\"4ff43ae8-200d-407f-8126-f41ecb9852b8\",\"type\":\"ResetTool\"},{\"id\":\"d0fc1e59-b378-46c4-ae6a-f991f75e412b\",\"type\":\"HelpTool\"}]},\"id\":\"815a45f3-71f3-48f7-9dcf-123738f7b13f\",\"type\":\"ProxyToolbar\"},{\"attributes\":{\"callback\":null,\"end\":0.0771352697329,\"start\":-0.0013378930229000002},\"id\":\"3bacfc3b-b0a5-47c0-b7b5-2c40e8e8764d\",\"type\":\"Range1d\"},{\"attributes\":{\"callback\":null,\"data\":{\"x\":{\"__ndarray__\":\"DWUjHHwhNj/CjudI16E7Pz9SswAKHUQ/oCqsRvyeSz84Fh7dnDZSP9rX053gWlc/GLSabwJWXT+lWYuNgiJiPzctr7HlI2Y/Nmv3YDPBaj+4q36EJAdwP3IWL/qXEHM/j5DR9uCEdj/Z/LQBFPl5PwgtIRsM7Hw/+vmVI0Kvfz/c3RQA6FSBP3sjMekn8YI/kq291wmvhD+PN237rYyGPyuZot2IUIg/w4Z/cCDxhj+K1roYP/OBPxI1GBHeGXo/L9nbJPyRcj9cBr9r0b5pP+xyTKtXMmE/QSGPrno3Vz8ii+1A0NpQP8IiZi0hI0k/60ZnJFUqQj+EJqREFaQ5PzMG/LhKfzU/rM4bjjE4OD89loBLSyk8P0m++6kUwT8/TJjCU3jdQD9L18TQRkRAPypACKTGokM/UR1r8ygxRT+dGKeGr8JEP4iBD+LWrEA/oRjo/46PND84JI/xw//8PjOBTdn/6Te/urzhF0qeP7+CBraWOTgeP6U1hP137lQ/WpNCPkPMaj9Vb0psF/l5PzqRbvXWrIQ/RJ/5yNlCjT/iv0SSETeTP4E9R7b/PZg/crvc413SnT/YUmi1idehP9P+YjpntqQ/Kksr1i9Zpz+VLoidh7upP1O9ihmB3qs/LPtQms3ErT+IMXFHpWuvP5+akY4WZ7A/M45hoxD5sD/8UN2v73SxP/b9Juuv6LE/xHsMbcNmsj+3qmNykO2yP30m/vcsRbM/0p/5Eynssj8I1K0BHWaxP8fFhOzV/q0/+5gvQ8r9qD/raqd3pUikP+3WhR8RiZ4/\",\"dtype\":\"float64\",\"shape\":[75]},\"y\":{\"__ndarray__\":\"GhExyth1ND/Sv8nbtpRIP2vylNV0PVE/aTum7souWD/At0SJ8fVgPw3Iuahxymc/MSNhhJWvcD/bTfBN02d3P2zb5nxnaoA/CD5h5MAGhz8NmeH1TyaQP+zrCsc9p5Y/LbKd76fGnz/bLW5ISEmmPww9YvTcQq8/JV2OstnstT8Er5Y7M8G+P0c+r3jqkcU/5h99k6ZBzj88bCIzFzjVP4enV8oyxN0//yH99nXg5D8qOpLLf0jtP5kqGJXUifQ/c9cS8kHP/D+/DpwzojQEQIEmwoanVwxA4lgXt9HgE0BSSZ2AJuIbQAMJih9jjiNA5q4l5INuK0AwTKYKRj0zQNv5fmq8/DpAaCJseHrtQkB/+zpwzoxKQM3MzMzMeFJAZmZmZmZqWEAAAAAAAFxeQM3MzMzMJmJAmpmZmZkfZUBmZmZmZhhoQDMzMzMzEWtAAAAAAAAKbkBmZmZmZoFwQM3MzMzM/XFAMzMzMzN6c0CamZmZmfZ0QAAAAAAAc3ZAZmZmZmbvd0DNzMzMzGt5QDMzMzMz6HpAmpmZmZlkfEAAAAAAAOF9QGZmZmZmXX9AZmZmZuZsgECamZmZGSuBQM3MzMxM6YFAAAAAAICngkAzMzMzs2WDQGZmZmbmI4RAmpmZmRnihEDNzMzMTKCFQAAAAACAXoZAMzMzM7Mch0BmZmZm5tqHQJqZmZkZmYhAzczMzExXiUAAAAAAgBWKQDMzMzOz04pAZmZmZuaRi0CamZmZGVCMQM3MzMxMDo1AAAAAAIDMjUAzMzMzs4qOQGZmZmbmSI9A\",\"dtype\":\"float64\",\"shape\":[75]}},\"selected\":{\"id\":\"704d1db0-13ef-45cd-a132-cf6a5b264c01\",\"type\":\"Selection\"},\"selection_policy\":{\"id\":\"ca1a1f84-aff6-4a5f-a3bc-00a2e6e0fc24\",\"type\":\"UnionRenderers\"}},\"id\":\"c77d7fa9-8d4c-400a-932c-a99e167a6b4a\",\"type\":\"ColumnDataSource\"},{\"attributes\":{\"toolbar\":{\"id\":\"815a45f3-71f3-48f7-9dcf-123738f7b13f\",\"type\":\"ProxyToolbar\"},\"toolbar_location\":\"above\"},\"id\":\"d41d1542-113c-4372-aeff-36a33e7b3481\",\"type\":\"ToolbarBox\"},{\"attributes\":{\"dimension\":1,\"plot\":{\"id\":\"156caa36-aeb0-4a7f-b64c-ef26a246710f\",\"subtype\":\"Figure\",\"type\":\"Plot\"},\"ticker\":{\"id\":\"5b296788-fb3f-41c8-a393-126ce4d341df\",\"type\":\"LogTicker\"}},\"id\":\"13c92e4f-3b36-4bbe-8575-d1f6db74db09\",\"type\":\"Grid\"},{\"attributes\":{},\"id\":\"6540e581-b0b9-46f7-b108-809e808e0028\",\"type\":\"BasicTicker\"},{\"attributes\":{},\"id\":\"22f03992-34f7-4f02-a7ca-e01e0a4f1cf0\",\"type\":\"WheelZoomTool\"},{\"attributes\":{},\"id\":\"30e3be3b-3f1f-4513-a6fc-2bcf248d7420\",\"type\":\"LogScale\"},{\"attributes\":{\"active_drag\":\"auto\",\"active_inspect\":\"auto\",\"active_scroll\":\"auto\",\"active_tap\":\"auto\",\"tools\":[{\"id\":\"a589d479-55f5-478a-8761-790ba2dbe4d8\",\"type\":\"PanTool\"},{\"id\":\"22f03992-34f7-4f02-a7ca-e01e0a4f1cf0\",\"type\":\"WheelZoomTool\"},{\"id\":\"c6e471c9-06fc-4976-8fa5-08fb9100dfc0\",\"type\":\"BoxZoomTool\"},{\"id\":\"a126d28f-b99b-490a-8617-0d575038ae4d\",\"type\":\"SaveTool\"},{\"id\":\"4ff43ae8-200d-407f-8126-f41ecb9852b8\",\"type\":\"ResetTool\"},{\"id\":\"d0fc1e59-b378-46c4-ae6a-f991f75e412b\",\"type\":\"HelpTool\"}]},\"id\":\"1f909ba7-d31b-42bc-bdd5-69c44e2668c8\",\"type\":\"Toolbar\"},{\"attributes\":{\"axis_label\":\"cooling rate [K/day]\",\"formatter\":{\"id\":\"e864008c-03ec-424e-9425-8fd8dd9b9066\",\"type\":\"BasicTickFormatter\"},\"plot\":{\"id\":\"c431f3ee-a381-4988-b523-c614742578b5\",\"subtype\":\"Figure\",\"type\":\"Plot\"},\"ticker\":{\"id\":\"6540e581-b0b9-46f7-b108-809e808e0028\",\"type\":\"BasicTicker\"}},\"id\":\"a788d98f-8d6d-4e7c-b265-25e3c04245ad\",\"type\":\"LinearAxis\"},{\"attributes\":{\"callback\":null,\"end\":0.0180618510536,\"start\":-5.2436413600000004e-05},\"id\":\"3a478ba9-66f0-4ee1-aa5e-8bec851141ff\",\"type\":\"Range1d\"},{\"attributes\":{\"below\":[{\"id\":\"963c7dfe-3cba-4600-a68f-2b0d8a210f98\",\"type\":\"LinearAxis\"}],\"left\":[{\"id\":\"bd0d1996-f04c-44ff-af2d-0ae9b8cf2220\",\"type\":\"LogAxis\"}],\"plot_height\":500,\"plot_width\":560,\"renderers\":[{\"id\":\"963c7dfe-3cba-4600-a68f-2b0d8a210f98\",\"type\":\"LinearAxis\"},{\"id\":\"2ac7cd30-ad92-41ef-9d54-5716eaeaec27\",\"type\":\"Grid\"},{\"id\":\"bd0d1996-f04c-44ff-af2d-0ae9b8cf2220\",\"type\":\"LogAxis\"},{\"id\":\"13c92e4f-3b36-4bbe-8575-d1f6db74db09\",\"type\":\"Grid\"},{\"id\":\"d829b450-e48d-4792-a450-4796f2f7d47d\",\"type\":\"BoxAnnotation\"},{\"id\":\"c21f4373-3060-4d70-9872-66c8c489107f\",\"type\":\"GlyphRenderer\"},{\"id\":\"9ff726d5-856f-41b9-99af-a1b0700256e2\",\"type\":\"GlyphRenderer\"},{\"id\":\"b90b3325-3579-472b-879e-98b021dc62ad\",\"type\":\"GlyphRenderer\"},{\"id\":\"f73815fc-6739-4e2c-a3d1-1886ae1418ea\",\"type\":\"GlyphRenderer\"},{\"id\":\"5e34948a-c2a0-43fa-ac98-ead6d0ca17bb\",\"type\":\"GlyphRenderer\"},{\"id\":\"c32e3a12-0410-463c-8445-26f9b86c31a4\",\"type\":\"Legend\"}],\"right\":[{\"id\":\"c32e3a12-0410-463c-8445-26f9b86c31a4\",\"type\":\"Legend\"}],\"title\":{\"id\":\"73651703-fc08-4b2a-9059-9eb060df55ee\",\"type\":\"Title\"},\"toolbar\":{\"id\":\"1f909ba7-d31b-42bc-bdd5-69c44e2668c8\",\"type\":\"Toolbar\"},\"toolbar_location\":null,\"x_range\":{\"id\":\"3a478ba9-66f0-4ee1-aa5e-8bec851141ff\",\"type\":\"Range1d\"},\"x_scale\":{\"id\":\"e2343836-0fbc-436f-b7d3-0ec67e181c34\",\"type\":\"LinearScale\"},\"y_range\":{\"id\":\"3c92a8a1-2c7b-4031-a8c5-8dfc703e502e\",\"type\":\"Range1d\"},\"y_scale\":{\"id\":\"30e3be3b-3f1f-4513-a6fc-2bcf248d7420\",\"type\":\"LogScale\"}},\"id\":\"156caa36-aeb0-4a7f-b64c-ef26a246710f\",\"subtype\":\"Figure\",\"type\":\"Plot\"},{\"attributes\":{\"plot\":null,\"text\":\"Linear pressure scale\"},\"id\":\"4a6c0aed-7d70-4e1a-bfe5-657c16baf8b9\",\"type\":\"Title\"},{\"attributes\":{},\"id\":\"bfb04be2-e1c8-4212-ba07-e57415d28d5c\",\"type\":\"BasicTicker\"},{\"attributes\":{\"children\":[{\"id\":\"bdc42e91-a136-400d-8c9c-7256ed949680\",\"type\":\"Row\"}]},\"id\":\"bb7367cf-3790-4ac7-908c-5acdd63acd12\",\"type\":\"Column\"},{\"attributes\":{\"active_drag\":\"auto\",\"active_inspect\":\"auto\",\"active_scroll\":\"auto\",\"active_tap\":\"auto\",\"tools\":[{\"id\":\"ec669550-fc88-48ee-858c-398c8cdfa53b\",\"type\":\"PanTool\"},{\"id\":\"3e522e44-934b-42fb-8a42-e2ea1cee044f\",\"type\":\"WheelZoomTool\"},{\"id\":\"14dedbad-6042-432d-b709-55c8160fdc11\",\"type\":\"BoxZoomTool\"},{\"id\":\"59d1eec5-7c58-4d66-8cf3-f3755f950121\",\"type\":\"SaveTool\"},{\"id\":\"af711bcb-1284-4ce7-8d08-1c2405277cb6\",\"type\":\"ResetTool\"},{\"id\":\"087fd977-78e1-445d-818a-354c7cc995b9\",\"type\":\"HelpTool\"}]},\"id\":\"2053a3e1-5089-49d9-980c-bb81c29839de\",\"type\":\"Toolbar\"},{\"attributes\":{\"plot\":null,\"text\":\"Log pressure scale\"},\"id\":\"73651703-fc08-4b2a-9059-9eb060df55ee\",\"type\":\"Title\"},{\"attributes\":{\"plot\":{\"id\":\"c431f3ee-a381-4988-b523-c614742578b5\",\"subtype\":\"Figure\",\"type\":\"Plot\"},\"ticker\":{\"id\":\"6540e581-b0b9-46f7-b108-809e808e0028\",\"type\":\"BasicTicker\"}},\"id\":\"3c22c940-9ba6-4093-9e66-dd66683a448f\",\"type\":\"Grid\"},{\"attributes\":{\"axis_label\":\"cooling rate [K/day]\",\"formatter\":{\"id\":\"72e8c8f6-f0ee-4ec2-aa16-8f6ee544664e\",\"type\":\"BasicTickFormatter\"},\"plot\":{\"id\":\"156caa36-aeb0-4a7f-b64c-ef26a246710f\",\"subtype\":\"Figure\",\"type\":\"Plot\"},\"ticker\":{\"id\":\"bfb04be2-e1c8-4212-ba07-e57415d28d5c\",\"type\":\"BasicTicker\"}},\"id\":\"963c7dfe-3cba-4600-a68f-2b0d8a210f98\",\"type\":\"LinearAxis\"},{\"attributes\":{\"line_alpha\":0.1,\"line_color\":\"#1f77b4\",\"line_width\":1.5,\"x\":{\"field\":\"x\"},\"y\":{\"field\":\"y\"}},\"id\":\"e53b03c3-d3ca-4319-af18-6e92d9094fef\",\"type\":\"Line\"},{\"attributes\":{\"source\":{\"id\":\"a797e1d1-be1a-4630-91ed-a361bf755754\",\"type\":\"ColumnDataSource\"}},\"id\":\"299be766-1ff0-4fa0-84ce-a54dfa2101c0\",\"type\":\"CDSView\"},{\"attributes\":{\"axis_label\":\"pressure [mb]\",\"formatter\":{\"id\":\"44dba241-2933-414b-aac0-3303abaa80b4\",\"type\":\"BasicTickFormatter\"},\"plot\":{\"id\":\"c431f3ee-a381-4988-b523-c614742578b5\",\"subtype\":\"Figure\",\"type\":\"Plot\"},\"ticker\":{\"id\":\"6c73db76-1920-4ccd-aeef-302ec14dcdf9\",\"type\":\"BasicTicker\"}},\"id\":\"ef475027-8a54-4ad3-b085-741343806db8\",\"type\":\"LinearAxis\"},{\"attributes\":{},\"id\":\"087fd977-78e1-445d-818a-354c7cc995b9\",\"type\":\"HelpTool\"},{\"attributes\":{},\"id\":\"a589d479-55f5-478a-8761-790ba2dbe4d8\",\"type\":\"PanTool\"},{\"attributes\":{\"overlay\":{\"id\":\"a32bff36-d572-4b78-80a1-739bf7d43d26\",\"type\":\"BoxAnnotation\"}},\"id\":\"14dedbad-6042-432d-b709-55c8160fdc11\",\"type\":\"BoxZoomTool\"},{\"attributes\":{},\"id\":\"3e522e44-934b-42fb-8a42-e2ea1cee044f\",\"type\":\"WheelZoomTool\"},{\"attributes\":{},\"id\":\"59d1eec5-7c58-4d66-8cf3-f3755f950121\",\"type\":\"SaveTool\"},{\"attributes\":{},\"id\":\"af711bcb-1284-4ce7-8d08-1c2405277cb6\",\"type\":\"ResetTool\"},{\"attributes\":{},\"id\":\"6c73db76-1920-4ccd-aeef-302ec14dcdf9\",\"type\":\"BasicTicker\"},{\"attributes\":{},\"id\":\"d0fc1e59-b378-46c4-ae6a-f991f75e412b\",\"type\":\"HelpTool\"},{\"attributes\":{\"callback\":null,\"end\":0.01,\"start\":1020},\"id\":\"177de5ed-2e02-4f00-8d6c-078fcc7016aa\",\"type\":\"Range1d\"},{\"attributes\":{\"data_source\":{\"id\":\"a797e1d1-be1a-4630-91ed-a361bf755754\",\"type\":\"ColumnDataSource\"},\"glyph\":{\"id\":\"4860809b-dae6-45f1-b900-cd86a812cfa0\",\"type\":\"Square\"},\"hover_glyph\":null,\"muted_glyph\":null,\"nonselection_glyph\":{\"id\":\"699c5afe-d216-46b0-bff8-3fc5de44620e\",\"type\":\"Square\"},\"selection_glyph\":null,\"view\":{\"id\":\"299be766-1ff0-4fa0-84ce-a54dfa2101c0\",\"type\":\"CDSView\"}},\"id\":\"f73815fc-6739-4e2c-a3d1-1886ae1418ea\",\"type\":\"GlyphRenderer\"},{\"attributes\":{\"dimension\":1,\"plot\":{\"id\":\"c431f3ee-a381-4988-b523-c614742578b5\",\"subtype\":\"Figure\",\"type\":\"Plot\"},\"ticker\":{\"id\":\"6c73db76-1920-4ccd-aeef-302ec14dcdf9\",\"type\":\"BasicTicker\"}},\"id\":\"e9129b6d-464b-4077-9a49-069af44fb918\",\"type\":\"Grid\"},{\"attributes\":{\"bottom_units\":\"screen\",\"fill_alpha\":{\"value\":0.5},\"fill_color\":{\"value\":\"lightgrey\"},\"left_units\":\"screen\",\"level\":\"overlay\",\"line_alpha\":{\"value\":1.0},\"line_color\":{\"value\":\"black\"},\"line_dash\":[4,4],\"line_width\":{\"value\":2},\"plot\":null,\"render_mode\":\"css\",\"right_units\":\"screen\",\"top_units\":\"screen\"},\"id\":\"a32bff36-d572-4b78-80a1-739bf7d43d26\",\"type\":\"BoxAnnotation\"},{\"attributes\":{},\"id\":\"ec669550-fc88-48ee-858c-398c8cdfa53b\",\"type\":\"PanTool\"},{\"attributes\":{\"data_source\":{\"id\":\"f708e32b-aa87-4adb-9fd2-a46407c8e0a7\",\"type\":\"ColumnDataSource\"},\"glyph\":{\"id\":\"a6c13c4f-31dd-45b6-9e26-a163783d3d1b\",\"type\":\"Line\"},\"hover_glyph\":null,\"muted_glyph\":null,\"nonselection_glyph\":{\"id\":\"36d48511-8d85-4638-90b1-1c097c274a35\",\"type\":\"Line\"},\"selection_glyph\":null,\"view\":{\"id\":\"901f91c6-203c-44f3-8e95-47fc43a52134\",\"type\":\"CDSView\"}},\"id\":\"b90605f5-4be3-4255-ab6d-767926ba7c46\",\"type\":\"GlyphRenderer\"},{\"attributes\":{\"data_source\":{\"id\":\"1f3fb242-cb13-49b9-baa3-2a95dbe04735\",\"type\":\"ColumnDataSource\"},\"glyph\":{\"id\":\"e8ef8bc6-097e-4a20-a6ef-05e5afa5db5b\",\"type\":\"Line\"},\"hover_glyph\":null,\"muted_glyph\":null,\"nonselection_glyph\":{\"id\":\"e53b03c3-d3ca-4319-af18-6e92d9094fef\",\"type\":\"Line\"},\"selection_glyph\":null,\"view\":{\"id\":\"39b072b3-5cb4-49a6-9c5e-31e8f0c1e426\",\"type\":\"CDSView\"}},\"id\":\"9a8199dd-a844-43b0-ba6b-81caa1b257cd\",\"type\":\"GlyphRenderer\"},{\"attributes\":{\"source\":{\"id\":\"a7320d14-d2c9-4964-9244-7956fb525680\",\"type\":\"ColumnDataSource\"}},\"id\":\"ad565e11-e774-4443-993d-c6a5f1dfe011\",\"type\":\"CDSView\"},{\"attributes\":{\"line_alpha\":0.6,\"line_color\":\"#e41a1c\",\"line_dash\":[6],\"line_width\":5,\"x\":{\"field\":\"x\"},\"y\":{\"field\":\"y\"}},\"id\":\"249c9221-3ed3-4e8c-9ef4-a94166122c78\",\"type\":\"Line\"},{\"attributes\":{\"line_alpha\":0.1,\"line_color\":\"#1f77b4\",\"line_width\":3,\"x\":{\"field\":\"x\"},\"y\":{\"field\":\"y\"}},\"id\":\"36d48511-8d85-4638-90b1-1c097c274a35\",\"type\":\"Line\"},{\"attributes\":{\"line_alpha\":0.6,\"line_color\":\"#984ea3\",\"line_width\":3,\"x\":{\"field\":\"x\"},\"y\":{\"field\":\"y\"}},\"id\":\"a6c13c4f-31dd-45b6-9e26-a163783d3d1b\",\"type\":\"Line\"},{\"attributes\":{\"line_alpha\":0.6,\"line_color\":\"#e41a1c\",\"line_dash\":[6],\"line_width\":5,\"x\":{\"field\":\"x\"},\"y\":{\"field\":\"y\"}},\"id\":\"5e18608f-e2ce-4d80-9dd0-c6b891f8222c\",\"type\":\"Line\"},{\"attributes\":{},\"id\":\"a126d28f-b99b-490a-8617-0d575038ae4d\",\"type\":\"SaveTool\"},{\"attributes\":{\"callback\":null,\"data\":{\"x\":{\"__ndarray__\":\"/iJLEClPMz8r7R5fwh4wPw6omvm7z0M/2iAW4sJhSz/8O55AH/9RP7hPOXDP9lY/sRjG9LzPXD9BRsS9x9NhP2RwuDmTwmU/5IN4BghEaj/DDVP/wmlvPwlmUcPzpXI/0IySz2P/dT9hrn1sD1V5P8VEtHJ3Knw/FUOWZqrQfj8WrzamrtOAPyh90wstWII/meZ+0Hj3gz/MFBWfcrSFP9vt9+dJaYc/wKd0234shj8r4BYbF2+BP/kdtO/yenk/eEClx4A+cj/EEZlyNHlpP1HCP7G9MmE/uuGfm/uAVz+m4Xpl9UZRP2+81F15NEo/o0qCbChgQz8b/9FyrgI8PwpewyyiBTg/rERYM+mSOj/IpvHBC30+P2+mF+jP9UA/HZSS7hmuQT8xgYhXJ7dAP9TahsNPl0M/iYW0CF45RD9WS3DhtnpCP1j4yebOlzo/HIGSlL5FKT8fU/1lsn8Yv5qjAccR5D6/EFHnJ1ShQr8r4PVIMwsDP8B8n1rXCVM/BZ4SUBzZaD/IZZmTSWV4P/gE8GIftYM/cwg2XTjYiz/ltr+rzDGSPxrjp5c2IZc/wa1GbDPynD9+fzlp0IahP25Z4T3XXKQ/9O7rZ4Hbpj8rmVy/chqpP7AgWEu9S6s/SXHurGZorT98CvX+g2uvPwzxZhKXkbA/csYZi/JBsT+c8PRFoMyxP1QDKKFPP7I/EAtc7jGwsj8yuqLlVyuzP5gbMjz7bLM/LsQiOo8Asz8lsD7AiG2xPxUkAkpN/60/IABhdR70qD/LrZdGlkOkPx+Mm8RnhZ4/\",\"dtype\":\"float64\",\"shape\":[75]},\"y\":{\"__ndarray__\":\"S/O/Q+51ND/Sv8nbtpRIP2vylNV0PVE/aTum7souWD/At0SJ8fVgPw3Iuahxymc/MSNhhJWvcD/bTfBN02d3P2zb5nxnaoA/CD5h5MAGhz8NmeH1TyaQP+zrCsc9p5Y/LbKd76fGnz/bLW5ISEmmPww9YvTcQq8/JV2OstnstT8Er5Y7M8G+P0c+r3jqkcU/5h99k6ZBzj88bCIzFzjVP4enV8oyxN0//yH99nXg5D8qOpLLf0jtP5kqGJXUifQ/c9cS8kHP/D+/DpwzojQEQIEmwoanVwxA4lgXt9HgE0BSSZ2AJuIbQAMJih9jjiNA5q4l5INuK0AwTKYKRj0zQNv5fmq8/DpAaCJseHrtQkB/+zpwzoxKQM3MzMzMeFJAZmZmZmZqWEAAAAAAAFxeQM3MzMzMJmJAmpmZmZkfZUBmZmZmZhhoQDMzMzMzEWtAAAAAAAAKbkBmZmZmZoFwQM3MzMzM/XFAMzMzMzN6c0CamZmZmfZ0QAAAAAAAc3ZAZmZmZmbvd0DNzMzMzGt5QDMzMzMz6HpAmpmZmZlkfEAAAAAAAOF9QGZmZmZmXX9AZmZmZuZsgECamZmZGSuBQM3MzMxM6YFAAAAAAICngkAzMzMzs2WDQGZmZmbmI4RAmpmZmRnihEDNzMzMTKCFQAAAAACAXoZAMzMzM7Mch0BmZmZm5tqHQJqZmZkZmYhAzczMzExXiUAAAAAAgBWKQDMzMzOz04pAZmZmZuaRi0CamZmZGVCMQM3MzMxMDo1AAAAAAIDMjUAzMzMzs4qOQGZmZmbmSI9A\",\"dtype\":\"float64\",\"shape\":[75]}},\"selected\":{\"id\":\"60fc4203-c210-4b6c-a8c8-fedb52e508d1\",\"type\":\"Selection\"},\"selection_policy\":{\"id\":\"a3caf0ae-e05b-4f02-a69a-2b6c998f0fb3\",\"type\":\"UnionRenderers\"}},\"id\":\"de0556de-2c3f-46a6-b8ce-38ba5f032c46\",\"type\":\"ColumnDataSource\"},{\"attributes\":{\"line_alpha\":0.1,\"line_color\":\"#1f77b4\",\"line_dash\":[6],\"line_width\":5,\"x\":{\"field\":\"x\"},\"y\":{\"field\":\"y\"}},\"id\":\"c19c91f6-656e-4a41-8731-fcfb80cc4117\",\"type\":\"Line\"},{\"attributes\":{\"overlay\":{\"id\":\"d829b450-e48d-4792-a450-4796f2f7d47d\",\"type\":\"BoxAnnotation\"}},\"id\":\"c6e471c9-06fc-4976-8fa5-08fb9100dfc0\",\"type\":\"BoxZoomTool\"},{\"attributes\":{\"num_minor_ticks\":10},\"id\":\"5b296788-fb3f-41c8-a393-126ce4d341df\",\"type\":\"LogTicker\"},{\"attributes\":{},\"id\":\"4ff43ae8-200d-407f-8126-f41ecb9852b8\",\"type\":\"ResetTool\"},{\"attributes\":{},\"id\":\"e2343836-0fbc-436f-b7d3-0ec67e181c34\",\"type\":\"LinearScale\"},{\"attributes\":{\"plot\":{\"id\":\"156caa36-aeb0-4a7f-b64c-ef26a246710f\",\"subtype\":\"Figure\",\"type\":\"Plot\"},\"ticker\":{\"id\":\"bfb04be2-e1c8-4212-ba07-e57415d28d5c\",\"type\":\"BasicTicker\"}},\"id\":\"2ac7cd30-ad92-41ef-9d54-5716eaeaec27\",\"type\":\"Grid\"},{\"attributes\":{\"fill_alpha\":{\"value\":0.1},\"fill_color\":{\"value\":\"#1f77b4\"},\"line_alpha\":{\"value\":0.1},\"line_color\":{\"value\":\"#1f77b4\"},\"x\":{\"field\":\"x\"},\"y\":{\"field\":\"y\"}},\"id\":\"8d041b23-b766-4546-a468-f906e3b0b8f5\",\"type\":\"Square\"},{\"attributes\":{\"data_source\":{\"id\":\"a26631a2-63e0-486b-83f4-449102dbf144\",\"type\":\"ColumnDataSource\"},\"glyph\":{\"id\":\"0424595e-9ac5-4134-b6de-83bc0804867a\",\"type\":\"Circle\"},\"hover_glyph\":null,\"muted_glyph\":null,\"nonselection_glyph\":{\"id\":\"f426d758-eab7-42dd-b56c-432ab7295c62\",\"type\":\"Circle\"},\"selection_glyph\":null,\"view\":{\"id\":\"df9ed75f-f49b-4639-b289-e28ec460b23e\",\"type\":\"CDSView\"}},\"id\":\"f42608f5-e737-4ad0-b048-b384dd13b3f7\",\"type\":\"GlyphRenderer\"},{\"attributes\":{\"fill_alpha\":{\"value\":0.1},\"fill_color\":{\"value\":\"#1f77b4\"},\"line_alpha\":{\"value\":0.1},\"line_color\":{\"value\":\"#1f77b4\"},\"x\":{\"field\":\"x\"},\"y\":{\"field\":\"y\"}},\"id\":\"8039d48e-cd25-487a-8bef-22b87ff1cff5\",\"type\":\"Circle\"},{\"attributes\":{\"data_source\":{\"id\":\"f133917c-7af2-47cc-b9a9-32a7228f8e1f\",\"type\":\"ColumnDataSource\"},\"glyph\":{\"id\":\"249c9221-3ed3-4e8c-9ef4-a94166122c78\",\"type\":\"Line\"},\"hover_glyph\":null,\"muted_glyph\":null,\"nonselection_glyph\":{\"id\":\"c19c91f6-656e-4a41-8731-fcfb80cc4117\",\"type\":\"Line\"},\"selection_glyph\":null,\"view\":{\"id\":\"92e196b2-3b38-494f-b209-4626180d62e6\",\"type\":\"CDSView\"}},\"id\":\"23114352-679d-44d5-9587-10949cfbf08d\",\"type\":\"GlyphRenderer\"},{\"attributes\":{\"data_source\":{\"id\":\"676a19f6-c70e-4340-b3a1-b002c2d1e4fd\",\"type\":\"ColumnDataSource\"},\"glyph\":{\"id\":\"e6ec7aeb-baf0-46f7-b8d7-307b3b466895\",\"type\":\"Circle\"},\"hover_glyph\":null,\"muted_glyph\":null,\"nonselection_glyph\":{\"id\":\"8039d48e-cd25-487a-8bef-22b87ff1cff5\",\"type\":\"Circle\"},\"selection_glyph\":null,\"view\":{\"id\":\"0a493bfd-7d2a-4c54-b41c-3e5550cfbadf\",\"type\":\"CDSView\"}},\"id\":\"9ff726d5-856f-41b9-99af-a1b0700256e2\",\"type\":\"GlyphRenderer\"},{\"attributes\":{\"data_source\":{\"id\":\"de0556de-2c3f-46a6-b8ce-38ba5f032c46\",\"type\":\"ColumnDataSource\"},\"glyph\":{\"id\":\"5e18608f-e2ce-4d80-9dd0-c6b891f8222c\",\"type\":\"Line\"},\"hover_glyph\":null,\"muted_glyph\":null,\"nonselection_glyph\":{\"id\":\"fe6afa42-170d-458b-bd66-b71537560f96\",\"type\":\"Line\"},\"selection_glyph\":null,\"view\":{\"id\":\"8cdc39cf-e157-4096-af7d-c845ca1cafe1\",\"type\":\"CDSView\"}},\"id\":\"c21f4373-3060-4d70-9872-66c8c489107f\",\"type\":\"GlyphRenderer\"},{\"attributes\":{\"source\":{\"id\":\"de0556de-2c3f-46a6-b8ce-38ba5f032c46\",\"type\":\"ColumnDataSource\"}},\"id\":\"8cdc39cf-e157-4096-af7d-c845ca1cafe1\",\"type\":\"CDSView\"},{\"attributes\":{\"source\":{\"id\":\"f133917c-7af2-47cc-b9a9-32a7228f8e1f\",\"type\":\"ColumnDataSource\"}},\"id\":\"92e196b2-3b38-494f-b209-4626180d62e6\",\"type\":\"CDSView\"},{\"attributes\":{\"line_alpha\":0.1,\"line_color\":\"#1f77b4\",\"line_width\":3,\"x\":{\"field\":\"x\"},\"y\":{\"field\":\"y\"}},\"id\":\"5f412ae6-6ab7-4654-a957-e0266a14e584\",\"type\":\"Line\"},{\"attributes\":{\"source\":{\"id\":\"a26631a2-63e0-486b-83f4-449102dbf144\",\"type\":\"ColumnDataSource\"}},\"id\":\"df9ed75f-f49b-4639-b289-e28ec460b23e\",\"type\":\"CDSView\"},{\"attributes\":{\"source\":{\"id\":\"676a19f6-c70e-4340-b3a1-b002c2d1e4fd\",\"type\":\"ColumnDataSource\"}},\"id\":\"0a493bfd-7d2a-4c54-b41c-3e5550cfbadf\",\"type\":\"CDSView\"},{\"attributes\":{\"fill_alpha\":{\"value\":0.7},\"fill_color\":{\"value\":\"#984ea3\"},\"line_alpha\":{\"value\":0.7},\"line_color\":{\"value\":\"#984ea3\"},\"x\":{\"field\":\"x\"},\"y\":{\"field\":\"y\"}},\"id\":\"1ed18255-1f10-4b3b-a54a-9e24dc031edc\",\"type\":\"Square\"},{\"attributes\":{\"line_alpha\":0.1,\"line_color\":\"#1f77b4\",\"line_dash\":[6],\"line_width\":5,\"x\":{\"field\":\"x\"},\"y\":{\"field\":\"y\"}},\"id\":\"fe6afa42-170d-458b-bd66-b71537560f96\",\"type\":\"Line\"},{\"attributes\":{\"data_source\":{\"id\":\"c77d7fa9-8d4c-400a-932c-a99e167a6b4a\",\"type\":\"ColumnDataSource\"},\"glyph\":{\"id\":\"366ccf32-3198-442b-a95e-002591bf8c25\",\"type\":\"Line\"},\"hover_glyph\":null,\"muted_glyph\":null,\"nonselection_glyph\":{\"id\":\"5f412ae6-6ab7-4654-a957-e0266a14e584\",\"type\":\"Line\"},\"selection_glyph\":null,\"view\":{\"id\":\"05cf7c36-8618-4767-a6d0-fe6f9f34f546\",\"type\":\"CDSView\"}},\"id\":\"5e34948a-c2a0-43fa-ac98-ead6d0ca17bb\",\"type\":\"GlyphRenderer\"},{\"attributes\":{\"line_alpha\":0.1,\"line_color\":\"#1f77b4\",\"line_width\":1.5,\"x\":{\"field\":\"x\"},\"y\":{\"field\":\"y\"}},\"id\":\"a3646579-fd8c-4469-9fe2-35f5ad03937a\",\"type\":\"Line\"},{\"attributes\":{\"fill_alpha\":{\"value\":0.7},\"fill_color\":{\"value\":\"#4daf4a\"},\"line_alpha\":{\"value\":0.7},\"line_color\":{\"value\":\"#4daf4a\"},\"x\":{\"field\":\"x\"},\"y\":{\"field\":\"y\"}},\"id\":\"0424595e-9ac5-4134-b6de-83bc0804867a\",\"type\":\"Circle\"},{\"attributes\":{\"callback\":null,\"data\":{\"x\":{\"__ndarray__\":\"Xa4wS+OhVL+qogJjGbRSv8/KcOEnNky/OOQgsGbCQL/Otqec94oWv6jQvs9/6js/YnMXojgAUT9hDckpN9pcP1OvfTfUZWU/O9DJpuqLbT9iyxwacIBzP9LENyz/9Xg/iGYOaPEyfz9H42BYfbOCP1UX8DLDRoU/t7DR5vaahz9TfuKYFgmKP5cC4Sk1kow/3+Pp6Po2jz+6Uyh1Q/+QP0StQF9AUJI/jiQqHI24kD/BdWcb7/aHP2pgQ2o1yH4/k4fgXGXkcj9mlsVDZs5lPyDSLmha0FY/PX4O3aFHRz+PAff/kPs8P9Cybk/hqjQ/WnvC7OjYKz8JduYrfmcgP2OZ0XluryA/mkvr2WKZLD/fuYmDWzQ0P8TV3rdDQjk/3YMK3mqrPD9DVTrC44c8P2wzU7Puc0E/NXzBpss0Qz+4QygZgUdDP//B4yNXC0A/FIpzBPX6ND+sirtLM+QMPxP5B+WAADa/xIfocpXcPr+G5ii6428ZPwIFAEbVCFQ/fRPR0yr4aT8yyOi/0U55P2UT/puHMoQ/OiFlpfjhjD+AhfJc5ECTP+1LaxA8d5g/Pk4Vr1n+nT+GEyT419mhP5juUkNLuaQ/PsPWl2WCpz8d+Lg5DBuqPz5etSO2aqw/mLAuVQZhrj/PUEmOVfmvP90O8TUinbA/RnpMAqYcsT8f4oTh2ouxPxxh+Fhf/LE/YHCTcnOBsj8Veog8BR2zP7ReZ563jLM/YmU08nlFsz/2WzHfnsCxP1sWI30gmq4/OI3gi553qT9zfX1/E6KkPzXeDO1S2Z4/\",\"dtype\":\"float64\",\"shape\":[75]},\"y\":{\"__ndarray__\":\"GhExyth1ND/Sv8nbtpRIP2vylNV0PVE/aTum7souWD/At0SJ8fVgPw3Iuahxymc/MSNhhJWvcD/bTfBN02d3P2zb5nxnaoA/CD5h5MAGhz8NmeH1TyaQP+zrCsc9p5Y/LbKd76fGnz/bLW5ISEmmPww9YvTcQq8/JV2OstnstT8Er5Y7M8G+P0c+r3jqkcU/5h99k6ZBzj88bCIzFzjVP4enV8oyxN0//yH99nXg5D8qOpLLf0jtP5kqGJXUifQ/c9cS8kHP/D+/DpwzojQEQIEmwoanVwxA4lgXt9HgE0BSSZ2AJuIbQAMJih9jjiNA5q4l5INuK0AwTKYKRj0zQNv5fmq8/DpAaCJseHrtQkB/+zpwzoxKQM3MzMzMeFJAZmZmZmZqWEAAAAAAAFxeQM3MzMzMJmJAmpmZmZkfZUBmZmZmZhhoQDMzMzMzEWtAAAAAAAAKbkBmZmZmZoFwQM3MzMzM/XFAMzMzMzN6c0CamZmZmfZ0QAAAAAAAc3ZAZmZmZmbvd0DNzMzMzGt5QDMzMzMz6HpAmpmZmZlkfEAAAAAAAOF9QGZmZmZmXX9AZmZmZuZsgECamZmZGSuBQM3MzMxM6YFAAAAAAICngkAzMzMzs2WDQGZmZmbmI4RAmpmZmRnihEDNzMzMTKCFQAAAAACAXoZAMzMzM7Mch0BmZmZm5tqHQJqZmZkZmYhAzczMzExXiUAAAAAAgBWKQDMzMzOz04pAZmZmZuaRi0CamZmZGVCMQM3MzMxMDo1AAAAAAIDMjUAzMzMzs4qOQGZmZmbmSI9A\",\"dtype\":\"float64\",\"shape\":[75]}},\"selected\":{\"id\":\"ef9ec7f6-80de-4ac3-bfa6-c3f017170aa5\",\"type\":\"Selection\"},\"selection_policy\":{\"id\":\"ffbf639a-33ae-4344-b309-28492ff88685\",\"type\":\"UnionRenderers\"}},\"id\":\"d647169b-2640-4abd-8504-525f0201e50a\",\"type\":\"ColumnDataSource\"},{\"attributes\":{\"callback\":null,\"data\":{\"x\":{\"__ndarray__\":\"Xa4wS+OhVL+qogJjGbRSv8/KcOEnNky/OOQgsGbCQL/Otqec94oWv6jQvs9/6js/YnMXojgAUT9hDckpN9pcP1OvfTfUZWU/O9DJpuqLbT9iyxwacIBzP9LENyz/9Xg/iGYOaPEyfz9H42BYfbOCP1UX8DLDRoU/t7DR5vaahz9TfuKYFgmKP5cC4Sk1kow/3+Pp6Po2jz+6Uyh1Q/+QP0StQF9AUJI/jiQqHI24kD/BdWcb7/aHP2pgQ2o1yH4/k4fgXGXkcj9mlsVDZs5lPyDSLmha0FY/PX4O3aFHRz+PAff/kPs8P9Cybk/hqjQ/WnvC7OjYKz8JduYrfmcgP2OZ0XluryA/mkvr2WKZLD/fuYmDWzQ0P8TV3rdDQjk/3YMK3mqrPD9DVTrC44c8P2wzU7Puc0E/NXzBpss0Qz+4QygZgUdDP//B4yNXC0A/FIpzBPX6ND+sirtLM+QMPxP5B+WAADa/xIfocpXcPr+G5ii6428ZPwIFAEbVCFQ/fRPR0yr4aT8yyOi/0U55P2UT/puHMoQ/OiFlpfjhjD+AhfJc5ECTP+1LaxA8d5g/Pk4Vr1n+nT+GEyT419mhP5juUkNLuaQ/PsPWl2WCpz8d+Lg5DBuqPz5etSO2aqw/mLAuVQZhrj/PUEmOVfmvP90O8TUinbA/RnpMAqYcsT8f4oTh2ouxPxxh+Fhf/LE/YHCTcnOBsj8Veog8BR2zP7ReZ563jLM/YmU08nlFsz/2WzHfnsCxP1sWI30gmq4/OI3gi553qT9zfX1/E6KkPzXeDO1S2Z4/\",\"dtype\":\"float64\",\"shape\":[75]},\"y\":{\"__ndarray__\":\"GhExyth1ND/Sv8nbtpRIP2vylNV0PVE/aTum7souWD/At0SJ8fVgPw3Iuahxymc/MSNhhJWvcD/bTfBN02d3P2zb5nxnaoA/CD5h5MAGhz8NmeH1TyaQP+zrCsc9p5Y/LbKd76fGnz/bLW5ISEmmPww9YvTcQq8/JV2OstnstT8Er5Y7M8G+P0c+r3jqkcU/5h99k6ZBzj88bCIzFzjVP4enV8oyxN0//yH99nXg5D8qOpLLf0jtP5kqGJXUifQ/c9cS8kHP/D+/DpwzojQEQIEmwoanVwxA4lgXt9HgE0BSSZ2AJuIbQAMJih9jjiNA5q4l5INuK0AwTKYKRj0zQNv5fmq8/DpAaCJseHrtQkB/+zpwzoxKQM3MzMzMeFJAZmZmZmZqWEAAAAAAAFxeQM3MzMzMJmJAmpmZmZkfZUBmZmZmZhhoQDMzMzMzEWtAAAAAAAAKbkBmZmZmZoFwQM3MzMzM/XFAMzMzMzN6c0CamZmZmfZ0QAAAAAAAc3ZAZmZmZmbvd0DNzMzMzGt5QDMzMzMz6HpAmpmZmZlkfEAAAAAAAOF9QGZmZmZmXX9AZmZmZuZsgECamZmZGSuBQM3MzMxM6YFAAAAAAICngkAzMzMzs2WDQGZmZmbmI4RAmpmZmRnihEDNzMzMTKCFQAAAAACAXoZAMzMzM7Mch0BmZmZm5tqHQJqZmZkZmYhAzczMzExXiUAAAAAAgBWKQDMzMzOz04pAZmZmZuaRi0CamZmZGVCMQM3MzMxMDo1AAAAAAIDMjUAzMzMzs4qOQGZmZmbmSI9A\",\"dtype\":\"float64\",\"shape\":[75]}},\"selected\":{\"id\":\"95f5bfb6-1fc0-4f91-b19e-7d3101d7b625\",\"type\":\"Selection\"},\"selection_policy\":{\"id\":\"0214626e-167c-4ec7-8626-6288041240ac\",\"type\":\"UnionRenderers\"}},\"id\":\"a26631a2-63e0-486b-83f4-449102dbf144\",\"type\":\"ColumnDataSource\"},{\"attributes\":{\"callback\":null,\"data\":{\"x\":{\"__ndarray__\":\"DWUjHHwhNj/CjudI16E7Pz9SswAKHUQ/oCqsRvyeSz84Fh7dnDZSP9rX053gWlc/GLSabwJWXT+lWYuNgiJiPzctr7HlI2Y/Nmv3YDPBaj+4q36EJAdwP3IWL/qXEHM/j5DR9uCEdj/Z/LQBFPl5PwgtIRsM7Hw/+vmVI0Kvfz/c3RQA6FSBP3sjMekn8YI/kq291wmvhD+PN237rYyGPyuZot2IUIg/w4Z/cCDxhj+K1roYP/OBPxI1GBHeGXo/L9nbJPyRcj9cBr9r0b5pP+xyTKtXMmE/QSGPrno3Vz8ii+1A0NpQP8IiZi0hI0k/60ZnJFUqQj+EJqREFaQ5PzMG/LhKfzU/rM4bjjE4OD89loBLSyk8P0m++6kUwT8/TJjCU3jdQD9L18TQRkRAPypACKTGokM/UR1r8ygxRT+dGKeGr8JEP4iBD+LWrEA/oRjo/46PND84JI/xw//8PjOBTdn/6Te/urzhF0qeP7+CBraWOTgeP6U1hP137lQ/WpNCPkPMaj9Vb0psF/l5PzqRbvXWrIQ/RJ/5yNlCjT/iv0SSETeTP4E9R7b/PZg/crvc413SnT/YUmi1idehP9P+YjpntqQ/Kksr1i9Zpz+VLoidh7upP1O9ihmB3qs/LPtQms3ErT+IMXFHpWuvP5+akY4WZ7A/M45hoxD5sD/8UN2v73SxP/b9Juuv6LE/xHsMbcNmsj+3qmNykO2yP30m/vcsRbM/0p/5Eynssj8I1K0BHWaxP8fFhOzV/q0/+5gvQ8r9qD/raqd3pUikP+3WhR8RiZ4/\",\"dtype\":\"float64\",\"shape\":[75]},\"y\":{\"__ndarray__\":\"GhExyth1ND/Sv8nbtpRIP2vylNV0PVE/aTum7souWD/At0SJ8fVgPw3Iuahxymc/MSNhhJWvcD/bTfBN02d3P2zb5nxnaoA/CD5h5MAGhz8NmeH1TyaQP+zrCsc9p5Y/LbKd76fGnz/bLW5ISEmmPww9YvTcQq8/JV2OstnstT8Er5Y7M8G+P0c+r3jqkcU/5h99k6ZBzj88bCIzFzjVP4enV8oyxN0//yH99nXg5D8qOpLLf0jtP5kqGJXUifQ/c9cS8kHP/D+/DpwzojQEQIEmwoanVwxA4lgXt9HgE0BSSZ2AJuIbQAMJih9jjiNA5q4l5INuK0AwTKYKRj0zQNv5fmq8/DpAaCJseHrtQkB/+zpwzoxKQM3MzMzMeFJAZmZmZmZqWEAAAAAAAFxeQM3MzMzMJmJAmpmZmZkfZUBmZmZmZhhoQDMzMzMzEWtAAAAAAAAKbkBmZmZmZoFwQM3MzMzM/XFAMzMzMzN6c0CamZmZmfZ0QAAAAAAAc3ZAZmZmZmbvd0DNzMzMzGt5QDMzMzMz6HpAmpmZmZlkfEAAAAAAAOF9QGZmZmZmXX9AZmZmZuZsgECamZmZGSuBQM3MzMxM6YFAAAAAAICngkAzMzMzs2WDQGZmZmbmI4RAmpmZmRnihEDNzMzMTKCFQAAAAACAXoZAMzMzM7Mch0BmZmZm5tqHQJqZmZkZmYhAzczMzExXiUAAAAAAgBWKQDMzMzOz04pAZmZmZuaRi0CamZmZGVCMQM3MzMxMDo1AAAAAAIDMjUAzMzMzs4qOQGZmZmbmSI9A\",\"dtype\":\"float64\",\"shape\":[75]}},\"selected\":{\"id\":\"63bdd484-90a6-44c9-9b06-b1b5b717941b\",\"type\":\"Selection\"},\"selection_policy\":{\"id\":\"a6eb436e-295b-42ff-a67a-e9d38e093417\",\"type\":\"UnionRenderers\"}},\"id\":\"a797e1d1-be1a-4630-91ed-a361bf755754\",\"type\":\"ColumnDataSource\"},{\"attributes\":{\"fill_alpha\":{\"value\":0.1},\"fill_color\":{\"value\":\"#1f77b4\"},\"line_alpha\":{\"value\":0.1},\"line_color\":{\"value\":\"#1f77b4\"},\"x\":{\"field\":\"x\"},\"y\":{\"field\":\"y\"}},\"id\":\"f426d758-eab7-42dd-b56c-432ab7295c62\",\"type\":\"Circle\"},{\"attributes\":{\"line_color\":\"#4daf4a\",\"line_width\":1.5,\"x\":{\"field\":\"x\"},\"y\":{\"field\":\"y\"}},\"id\":\"9e58cfff-70e8-4333-9b97-cda844ef4ecc\",\"type\":\"Line\"},{\"attributes\":{\"fill_alpha\":{\"value\":0.7},\"fill_color\":{\"value\":\"#4daf4a\"},\"line_alpha\":{\"value\":0.7},\"line_color\":{\"value\":\"#4daf4a\"},\"x\":{\"field\":\"x\"},\"y\":{\"field\":\"y\"}},\"id\":\"e6ec7aeb-baf0-46f7-b8d7-307b3b466895\",\"type\":\"Circle\"},{\"attributes\":{\"data_source\":{\"id\":\"d647169b-2640-4abd-8504-525f0201e50a\",\"type\":\"ColumnDataSource\"},\"glyph\":{\"id\":\"9e58cfff-70e8-4333-9b97-cda844ef4ecc\",\"type\":\"Line\"},\"hover_glyph\":null,\"muted_glyph\":null,\"nonselection_glyph\":{\"id\":\"a3646579-fd8c-4469-9fe2-35f5ad03937a\",\"type\":\"Line\"},\"selection_glyph\":null,\"view\":{\"id\":\"93520cef-27c4-4ba1-9aef-0da3106faf8f\",\"type\":\"CDSView\"}},\"id\":\"b90b3325-3579-472b-879e-98b021dc62ad\",\"type\":\"GlyphRenderer\"},{\"attributes\":{\"ticker\":null},\"id\":\"b6e27c52-26b6-4248-bee9-a1fbca23a70c\",\"type\":\"LogTickFormatter\"},{\"attributes\":{\"callback\":null,\"data\":{\"x\":{\"__ndarray__\":\"Xa4wS+OhVL+qogJjGbRSv8/KcOEnNky/OOQgsGbCQL/Otqec94oWv6jQvs9/6js/YnMXojgAUT9hDckpN9pcP1OvfTfUZWU/O9DJpuqLbT9iyxwacIBzP9LENyz/9Xg/iGYOaPEyfz9H42BYfbOCP1UX8DLDRoU/t7DR5vaahz9TfuKYFgmKP5cC4Sk1kow/3+Pp6Po2jz+6Uyh1Q/+QP0StQF9AUJI/jiQqHI24kD/BdWcb7/aHP2pgQ2o1yH4/k4fgXGXkcj9mlsVDZs5lPyDSLmha0FY/PX4O3aFHRz+PAff/kPs8P9Cybk/hqjQ/WnvC7OjYKz8JduYrfmcgP2OZ0XluryA/mkvr2WKZLD/fuYmDWzQ0P8TV3rdDQjk/3YMK3mqrPD9DVTrC44c8P2wzU7Puc0E/NXzBpss0Qz+4QygZgUdDP//B4yNXC0A/FIpzBPX6ND+sirtLM+QMPxP5B+WAADa/xIfocpXcPr+G5ii6428ZPwIFAEbVCFQ/fRPR0yr4aT8yyOi/0U55P2UT/puHMoQ/OiFlpfjhjD+AhfJc5ECTP+1LaxA8d5g/Pk4Vr1n+nT+GEyT419mhP5juUkNLuaQ/PsPWl2WCpz8d+Lg5DBuqPz5etSO2aqw/mLAuVQZhrj/PUEmOVfmvP90O8TUinbA/RnpMAqYcsT8f4oTh2ouxPxxh+Fhf/LE/YHCTcnOBsj8Veog8BR2zP7ReZ563jLM/YmU08nlFsz/2WzHfnsCxP1sWI30gmq4/OI3gi553qT9zfX1/E6KkPzXeDO1S2Z4/\",\"dtype\":\"float64\",\"shape\":[75]},\"y\":{\"__ndarray__\":\"GhExyth1ND/Sv8nbtpRIP2vylNV0PVE/aTum7souWD/At0SJ8fVgPw3Iuahxymc/MSNhhJWvcD/bTfBN02d3P2zb5nxnaoA/CD5h5MAGhz8NmeH1TyaQP+zrCsc9p5Y/LbKd76fGnz/bLW5ISEmmPww9YvTcQq8/JV2OstnstT8Er5Y7M8G+P0c+r3jqkcU/5h99k6ZBzj88bCIzFzjVP4enV8oyxN0//yH99nXg5D8qOpLLf0jtP5kqGJXUifQ/c9cS8kHP/D+/DpwzojQEQIEmwoanVwxA4lgXt9HgE0BSSZ2AJuIbQAMJih9jjiNA5q4l5INuK0AwTKYKRj0zQNv5fmq8/DpAaCJseHrtQkB/+zpwzoxKQM3MzMzMeFJAZmZmZmZqWEAAAAAAAFxeQM3MzMzMJmJAmpmZmZkfZUBmZmZmZhhoQDMzMzMzEWtAAAAAAAAKbkBmZmZmZoFwQM3MzMzM/XFAMzMzMzN6c0CamZmZmfZ0QAAAAAAAc3ZAZmZmZmbvd0DNzMzMzGt5QDMzMzMz6HpAmpmZmZlkfEAAAAAAAOF9QGZmZmZmXX9AZmZmZuZsgECamZmZGSuBQM3MzMxM6YFAAAAAAICngkAzMzMzs2WDQGZmZmbmI4RAmpmZmRnihEDNzMzMTKCFQAAAAACAXoZAMzMzM7Mch0BmZmZm5tqHQJqZmZkZmYhAzczMzExXiUAAAAAAgBWKQDMzMzOz04pAZmZmZuaRi0CamZmZGVCMQM3MzMxMDo1AAAAAAIDMjUAzMzMzs4qOQGZmZmbmSI9A\",\"dtype\":\"float64\",\"shape\":[75]}},\"selected\":{\"id\":\"c05b0d61-746c-4ae9-a520-0e19ff36f0bd\",\"type\":\"Selection\"},\"selection_policy\":{\"id\":\"74183f75-ade1-4bb9-a793-ffe86c58d09f\",\"type\":\"UnionRenderers\"}},\"id\":\"676a19f6-c70e-4340-b3a1-b002c2d1e4fd\",\"type\":\"ColumnDataSource\"},{\"attributes\":{\"data_source\":{\"id\":\"a7320d14-d2c9-4964-9244-7956fb525680\",\"type\":\"ColumnDataSource\"},\"glyph\":{\"id\":\"1ed18255-1f10-4b3b-a54a-9e24dc031edc\",\"type\":\"Square\"},\"hover_glyph\":null,\"muted_glyph\":null,\"nonselection_glyph\":{\"id\":\"8d041b23-b766-4546-a468-f906e3b0b8f5\",\"type\":\"Square\"},\"selection_glyph\":null,\"view\":{\"id\":\"ad565e11-e774-4443-993d-c6a5f1dfe011\",\"type\":\"CDSView\"}},\"id\":\"88898dbd-1346-45fa-b0aa-5600c4f3edd4\",\"type\":\"GlyphRenderer\"},{\"attributes\":{\"source\":{\"id\":\"d647169b-2640-4abd-8504-525f0201e50a\",\"type\":\"ColumnDataSource\"}},\"id\":\"93520cef-27c4-4ba1-9aef-0da3106faf8f\",\"type\":\"CDSView\"},{\"attributes\":{\"fill_alpha\":{\"value\":0.7},\"fill_color\":{\"value\":\"#984ea3\"},\"line_alpha\":{\"value\":0.7},\"line_color\":{\"value\":\"#984ea3\"},\"x\":{\"field\":\"x\"},\"y\":{\"field\":\"y\"}},\"id\":\"4860809b-dae6-45f1-b900-cd86a812cfa0\",\"type\":\"Square\"},{\"attributes\":{\"source\":{\"id\":\"c77d7fa9-8d4c-400a-932c-a99e167a6b4a\",\"type\":\"ColumnDataSource\"}},\"id\":\"05cf7c36-8618-4767-a6d0-fe6f9f34f546\",\"type\":\"CDSView\"},{\"attributes\":{\"fill_alpha\":{\"value\":0.1},\"fill_color\":{\"value\":\"#1f77b4\"},\"line_alpha\":{\"value\":0.1},\"line_color\":{\"value\":\"#1f77b4\"},\"x\":{\"field\":\"x\"},\"y\":{\"field\":\"y\"}},\"id\":\"699c5afe-d216-46b0-bff8-3fc5de44620e\",\"type\":\"Square\"},{\"attributes\":{\"children\":[{\"id\":\"c431f3ee-a381-4988-b523-c614742578b5\",\"subtype\":\"Figure\",\"type\":\"Plot\"},{\"id\":\"156caa36-aeb0-4a7f-b64c-ef26a246710f\",\"subtype\":\"Figure\",\"type\":\"Plot\"}]},\"id\":\"bdc42e91-a136-400d-8c9c-7256ed949680\",\"type\":\"Row\"},{\"attributes\":{},\"id\":\"44dba241-2933-414b-aac0-3303abaa80b4\",\"type\":\"BasicTickFormatter\"},{\"attributes\":{\"callback\":null,\"data\":{\"x\":{\"__ndarray__\":\"Xa4wS+OhVL+qogJjGbRSv8/KcOEnNky/OOQgsGbCQL/Otqec94oWv6jQvs9/6js/YnMXojgAUT9hDckpN9pcP1OvfTfUZWU/O9DJpuqLbT9iyxwacIBzP9LENyz/9Xg/iGYOaPEyfz9H42BYfbOCP1UX8DLDRoU/t7DR5vaahz9TfuKYFgmKP5cC4Sk1kow/3+Pp6Po2jz+6Uyh1Q/+QP0StQF9AUJI/jiQqHI24kD/BdWcb7/aHP2pgQ2o1yH4/k4fgXGXkcj9mlsVDZs5lPyDSLmha0FY/PX4O3aFHRz+PAff/kPs8P9Cybk/hqjQ/WnvC7OjYKz8JduYrfmcgP2OZ0XluryA/mkvr2WKZLD/fuYmDWzQ0P8TV3rdDQjk/3YMK3mqrPD9DVTrC44c8P2wzU7Puc0E/NXzBpss0Qz+4QygZgUdDP//B4yNXC0A/FIpzBPX6ND+sirtLM+QMPxP5B+WAADa/xIfocpXcPr+G5ii6428ZPwIFAEbVCFQ/fRPR0yr4aT8yyOi/0U55P2UT/puHMoQ/OiFlpfjhjD+AhfJc5ECTP+1LaxA8d5g/Pk4Vr1n+nT+GEyT419mhP5juUkNLuaQ/PsPWl2WCpz8d+Lg5DBuqPz5etSO2aqw/mLAuVQZhrj/PUEmOVfmvP90O8TUinbA/RnpMAqYcsT8f4oTh2ouxPxxh+Fhf/LE/YHCTcnOBsj8Veog8BR2zP7ReZ563jLM/YmU08nlFsz/2WzHfnsCxP1sWI30gmq4/OI3gi553qT9zfX1/E6KkPzXeDO1S2Z4/\",\"dtype\":\"float64\",\"shape\":[75]},\"y\":{\"__ndarray__\":\"GhExyth1ND/Sv8nbtpRIP2vylNV0PVE/aTum7souWD/At0SJ8fVgPw3Iuahxymc/MSNhhJWvcD/bTfBN02d3P2zb5nxnaoA/CD5h5MAGhz8NmeH1TyaQP+zrCsc9p5Y/LbKd76fGnz/bLW5ISEmmPww9YvTcQq8/JV2OstnstT8Er5Y7M8G+P0c+r3jqkcU/5h99k6ZBzj88bCIzFzjVP4enV8oyxN0//yH99nXg5D8qOpLLf0jtP5kqGJXUifQ/c9cS8kHP/D+/DpwzojQEQIEmwoanVwxA4lgXt9HgE0BSSZ2AJuIbQAMJih9jjiNA5q4l5INuK0AwTKYKRj0zQNv5fmq8/DpAaCJseHrtQkB/+zpwzoxKQM3MzMzMeFJAZmZmZmZqWEAAAAAAAFxeQM3MzMzMJmJAmpmZmZkfZUBmZmZmZhhoQDMzMzMzEWtAAAAAAAAKbkBmZmZmZoFwQM3MzMzM/XFAMzMzMzN6c0CamZmZmfZ0QAAAAAAAc3ZAZmZmZmbvd0DNzMzMzGt5QDMzMzMz6HpAmpmZmZlkfEAAAAAAAOF9QGZmZmZmXX9AZmZmZuZsgECamZmZGSuBQM3MzMxM6YFAAAAAAICngkAzMzMzs2WDQGZmZmbmI4RAmpmZmRnihEDNzMzMTKCFQAAAAACAXoZAMzMzM7Mch0BmZmZm5tqHQJqZmZkZmYhAzczMzExXiUAAAAAAgBWKQDMzMzOz04pAZmZmZuaRi0CamZmZGVCMQM3MzMxMDo1AAAAAAIDMjUAzMzMzs4qOQGZmZmbmSI9A\",\"dtype\":\"float64\",\"shape\":[75]}},\"selected\":{\"id\":\"c8c47baf-8bff-41b7-b1d4-a5e3f5537a5c\",\"type\":\"Selection\"},\"selection_policy\":{\"id\":\"48d6a292-5cf3-4bf4-95fa-ca1831cdef33\",\"type\":\"UnionRenderers\"}},\"id\":\"1f3fb242-cb13-49b9-baa3-2a95dbe04735\",\"type\":\"ColumnDataSource\"},{\"attributes\":{\"label\":{\"value\":\"CLIRAD `coolr_bands`\"},\"renderers\":[{\"id\":\"c21f4373-3060-4d70-9872-66c8c489107f\",\"type\":\"GlyphRenderer\"}]},\"id\":\"2dc4231e-400c-4611-a5f3-e5cd927ac1b0\",\"type\":\"LegendItem\"},{\"attributes\":{},\"id\":\"ef61d418-2ac1-450f-8865-b17a6a7e807e\",\"type\":\"Selection\"},{\"attributes\":{\"label\":{\"value\":\"CRD\"},\"renderers\":[{\"id\":\"9ff726d5-856f-41b9-99af-a1b0700256e2\",\"type\":\"GlyphRenderer\"},{\"id\":\"b90b3325-3579-472b-879e-98b021dc62ad\",\"type\":\"GlyphRenderer\"}]},\"id\":\"40c10f8a-2eea-4ea2-8cbe-ca4df4743901\",\"type\":\"LegendItem\"},{\"attributes\":{},\"id\":\"4c5ac03d-01a5-4ccf-8e71-7d500382cdb4\",\"type\":\"UnionRenderers\"},{\"attributes\":{\"label\":{\"value\":\"WGT igg=10 wgt_flux=2\"},\"renderers\":[{\"id\":\"f73815fc-6739-4e2c-a3d1-1886ae1418ea\",\"type\":\"GlyphRenderer\"},{\"id\":\"5e34948a-c2a0-43fa-ac98-ead6d0ca17bb\",\"type\":\"GlyphRenderer\"}]},\"id\":\"8722e937-daa8-49d0-99bc-14a2f6eb46e1\",\"type\":\"LegendItem\"},{\"attributes\":{\"callback\":null,\"data\":{\"x\":{\"__ndarray__\":\"/iJLEClPMz8r7R5fwh4wPw6omvm7z0M/2iAW4sJhSz/8O55AH/9RP7hPOXDP9lY/sRjG9LzPXD9BRsS9x9NhP2RwuDmTwmU/5IN4BghEaj/DDVP/wmlvPwlmUcPzpXI/0IySz2P/dT9hrn1sD1V5P8VEtHJ3Knw/FUOWZqrQfj8WrzamrtOAPyh90wstWII/meZ+0Hj3gz/MFBWfcrSFP9vt9+dJaYc/wKd0234shj8r4BYbF2+BP/kdtO/yenk/eEClx4A+cj/EEZlyNHlpP1HCP7G9MmE/uuGfm/uAVz+m4Xpl9UZRP2+81F15NEo/o0qCbChgQz8b/9FyrgI8PwpewyyiBTg/rERYM+mSOj/IpvHBC30+P2+mF+jP9UA/HZSS7hmuQT8xgYhXJ7dAP9TahsNPl0M/iYW0CF45RD9WS3DhtnpCP1j4yebOlzo/HIGSlL5FKT8fU/1lsn8Yv5qjAccR5D6/EFHnJ1ShQr8r4PVIMwsDP8B8n1rXCVM/BZ4SUBzZaD/IZZmTSWV4P/gE8GIftYM/cwg2XTjYiz/ltr+rzDGSPxrjp5c2IZc/wa1GbDPynD9+fzlp0IahP25Z4T3XXKQ/9O7rZ4Hbpj8rmVy/chqpP7AgWEu9S6s/SXHurGZorT98CvX+g2uvPwzxZhKXkbA/csYZi/JBsT+c8PRFoMyxP1QDKKFPP7I/EAtc7jGwsj8yuqLlVyuzP5gbMjz7bLM/LsQiOo8Asz8lsD7AiG2xPxUkAkpN/60/IABhdR70qD/LrZdGlkOkPx+Mm8RnhZ4/\",\"dtype\":\"float64\",\"shape\":[75]},\"y\":{\"__ndarray__\":\"S/O/Q+51ND/Sv8nbtpRIP2vylNV0PVE/aTum7souWD/At0SJ8fVgPw3Iuahxymc/MSNhhJWvcD/bTfBN02d3P2zb5nxnaoA/CD5h5MAGhz8NmeH1TyaQP+zrCsc9p5Y/LbKd76fGnz/bLW5ISEmmPww9YvTcQq8/JV2OstnstT8Er5Y7M8G+P0c+r3jqkcU/5h99k6ZBzj88bCIzFzjVP4enV8oyxN0//yH99nXg5D8qOpLLf0jtP5kqGJXUifQ/c9cS8kHP/D+/DpwzojQEQIEmwoanVwxA4lgXt9HgE0BSSZ2AJuIbQAMJih9jjiNA5q4l5INuK0AwTKYKRj0zQNv5fmq8/DpAaCJseHrtQkB/+zpwzoxKQM3MzMzMeFJAZmZmZmZqWEAAAAAAAFxeQM3MzMzMJmJAmpmZmZkfZUBmZmZmZhhoQDMzMzMzEWtAAAAAAAAKbkBmZmZmZoFwQM3MzMzM/XFAMzMzMzN6c0CamZmZmfZ0QAAAAAAAc3ZAZmZmZmbvd0DNzMzMzGt5QDMzMzMz6HpAmpmZmZlkfEAAAAAAAOF9QGZmZmZmXX9AZmZmZuZsgECamZmZGSuBQM3MzMxM6YFAAAAAAICngkAzMzMzs2WDQGZmZmbmI4RAmpmZmRnihEDNzMzMTKCFQAAAAACAXoZAMzMzM7Mch0BmZmZm5tqHQJqZmZkZmYhAzczMzExXiUAAAAAAgBWKQDMzMzOz04pAZmZmZuaRi0CamZmZGVCMQM3MzMxMDo1AAAAAAIDMjUAzMzMzs4qOQGZmZmbmSI9A\",\"dtype\":\"float64\",\"shape\":[75]}},\"selected\":{\"id\":\"ef61d418-2ac1-450f-8865-b17a6a7e807e\",\"type\":\"Selection\"},\"selection_policy\":{\"id\":\"1c682140-5b57-4e06-aec5-bc06f37d4772\",\"type\":\"UnionRenderers\"}},\"id\":\"f133917c-7af2-47cc-b9a9-32a7228f8e1f\",\"type\":\"ColumnDataSource\"},{\"attributes\":{},\"id\":\"95f5bfb6-1fc0-4f91-b19e-7d3101d7b625\",\"type\":\"Selection\"},{\"attributes\":{},\"id\":\"e864008c-03ec-424e-9425-8fd8dd9b9066\",\"type\":\"BasicTickFormatter\"},{\"attributes\":{\"line_color\":\"#4daf4a\",\"line_width\":1.5,\"x\":{\"field\":\"x\"},\"y\":{\"field\":\"y\"}},\"id\":\"e8ef8bc6-097e-4a20-a6ef-05e5afa5db5b\",\"type\":\"Line\"},{\"attributes\":{},\"id\":\"1c682140-5b57-4e06-aec5-bc06f37d4772\",\"type\":\"UnionRenderers\"},{\"attributes\":{\"callback\":null,\"end\":0.01,\"start\":1020},\"id\":\"3c92a8a1-2c7b-4031-a8c5-8dfc703e502e\",\"type\":\"Range1d\"},{\"attributes\":{},\"id\":\"0214626e-167c-4ec7-8626-6288041240ac\",\"type\":\"UnionRenderers\"},{\"attributes\":{},\"id\":\"72e8c8f6-f0ee-4ec2-aa16-8f6ee544664e\",\"type\":\"BasicTickFormatter\"},{\"attributes\":{},\"id\":\"6aee5d7e-33de-4625-9a2b-0e2bb67eb6f3\",\"type\":\"Selection\"},{\"attributes\":{\"callback\":null,\"data\":{\"x\":{\"__ndarray__\":\"DWUjHHwhNj/CjudI16E7Pz9SswAKHUQ/oCqsRvyeSz84Fh7dnDZSP9rX053gWlc/GLSabwJWXT+lWYuNgiJiPzctr7HlI2Y/Nmv3YDPBaj+4q36EJAdwP3IWL/qXEHM/j5DR9uCEdj/Z/LQBFPl5PwgtIRsM7Hw/+vmVI0Kvfz/c3RQA6FSBP3sjMekn8YI/kq291wmvhD+PN237rYyGPyuZot2IUIg/w4Z/cCDxhj+K1roYP/OBPxI1GBHeGXo/L9nbJPyRcj9cBr9r0b5pP+xyTKtXMmE/QSGPrno3Vz8ii+1A0NpQP8IiZi0hI0k/60ZnJFUqQj+EJqREFaQ5PzMG/LhKfzU/rM4bjjE4OD89loBLSyk8P0m++6kUwT8/TJjCU3jdQD9L18TQRkRAPypACKTGokM/UR1r8ygxRT+dGKeGr8JEP4iBD+LWrEA/oRjo/46PND84JI/xw//8PjOBTdn/6Te/urzhF0qeP7+CBraWOTgeP6U1hP137lQ/WpNCPkPMaj9Vb0psF/l5PzqRbvXWrIQ/RJ/5yNlCjT/iv0SSETeTP4E9R7b/PZg/crvc413SnT/YUmi1idehP9P+YjpntqQ/Kksr1i9Zpz+VLoidh7upP1O9ihmB3qs/LPtQms3ErT+IMXFHpWuvP5+akY4WZ7A/M45hoxD5sD/8UN2v73SxP/b9Juuv6LE/xHsMbcNmsj+3qmNykO2yP30m/vcsRbM/0p/5Eynssj8I1K0BHWaxP8fFhOzV/q0/+5gvQ8r9qD/raqd3pUikP+3WhR8RiZ4/\",\"dtype\":\"float64\",\"shape\":[75]},\"y\":{\"__ndarray__\":\"GhExyth1ND/Sv8nbtpRIP2vylNV0PVE/aTum7souWD/At0SJ8fVgPw3Iuahxymc/MSNhhJWvcD/bTfBN02d3P2zb5nxnaoA/CD5h5MAGhz8NmeH1TyaQP+zrCsc9p5Y/LbKd76fGnz/bLW5ISEmmPww9YvTcQq8/JV2OstnstT8Er5Y7M8G+P0c+r3jqkcU/5h99k6ZBzj88bCIzFzjVP4enV8oyxN0//yH99nXg5D8qOpLLf0jtP5kqGJXUifQ/c9cS8kHP/D+/DpwzojQEQIEmwoanVwxA4lgXt9HgE0BSSZ2AJuIbQAMJih9jjiNA5q4l5INuK0AwTKYKRj0zQNv5fmq8/DpAaCJseHrtQkB/+zpwzoxKQM3MzMzMeFJAZmZmZmZqWEAAAAAAAFxeQM3MzMzMJmJAmpmZmZkfZUBmZmZmZhhoQDMzMzMzEWtAAAAAAAAKbkBmZmZmZoFwQM3MzMzM/XFAMzMzMzN6c0CamZmZmfZ0QAAAAAAAc3ZAZmZmZmbvd0DNzMzMzGt5QDMzMzMz6HpAmpmZmZlkfEAAAAAAAOF9QGZmZmZmXX9AZmZmZuZsgECamZmZGSuBQM3MzMxM6YFAAAAAAICngkAzMzMzs2WDQGZmZmbmI4RAmpmZmRnihEDNzMzMTKCFQAAAAACAXoZAMzMzM7Mch0BmZmZm5tqHQJqZmZkZmYhAzczMzExXiUAAAAAAgBWKQDMzMzOz04pAZmZmZuaRi0CamZmZGVCMQM3MzMxMDo1AAAAAAIDMjUAzMzMzs4qOQGZmZmbmSI9A\",\"dtype\":\"float64\",\"shape\":[75]}},\"selected\":{\"id\":\"731b2943-10da-423f-a856-bc12fbaf2773\",\"type\":\"Selection\"},\"selection_policy\":{\"id\":\"c28e9464-1456-41b9-bf38-cb8979dfd15f\",\"type\":\"UnionRenderers\"}},\"id\":\"a7320d14-d2c9-4964-9244-7956fb525680\",\"type\":\"ColumnDataSource\"},{\"attributes\":{},\"id\":\"48d6a292-5cf3-4bf4-95fa-ca1831cdef33\",\"type\":\"UnionRenderers\"},{\"attributes\":{},\"id\":\"c8c47baf-8bff-41b7-b1d4-a5e3f5537a5c\",\"type\":\"Selection\"},{\"attributes\":{},\"id\":\"c28e9464-1456-41b9-bf38-cb8979dfd15f\",\"type\":\"UnionRenderers\"},{\"attributes\":{},\"id\":\"731b2943-10da-423f-a856-bc12fbaf2773\",\"type\":\"Selection\"}],\"root_ids\":[\"d685f1e8-21de-4ec3-8740-5d52491765ec\"]},\"title\":\"Bokeh Application\",\"version\":\"0.12.16\"}};\n",
       "  var render_items = [{\"docid\":\"fce7f46d-417a-4081-a729-951c6273b4cf\",\"elementid\":\"371268fb-6fc9-4273-8015-6ab6c0915752\",\"modelid\":\"d685f1e8-21de-4ec3-8740-5d52491765ec\"}];\n",
       "  root.Bokeh.embed.embed_items_notebook(docs_json, render_items);\n",
       "\n",
       "  }\n",
       "  if (root.Bokeh !== undefined) {\n",
       "    embed_document(root);\n",
       "  } else {\n",
       "    var attempts = 0;\n",
       "    var timer = setInterval(function(root) {\n",
       "      if (root.Bokeh !== undefined) {\n",
       "        embed_document(root);\n",
       "        clearInterval(timer);\n",
       "      }\n",
       "      attempts++;\n",
       "      if (attempts > 100) {\n",
       "        console.log(\"Bokeh: ERROR: Unable to run BokehJS code because BokehJS library is missing\")\n",
       "        clearInterval(timer);\n",
       "      }\n",
       "    }, 10, root)\n",
       "  }\n",
       "})(window);"
      ],
      "application/vnd.bokehjs_exec.v0+json": ""
     },
     "metadata": {
      "application/vnd.bokehjs_exec.v0+json": {
       "id": "d685f1e8-21de-4ec3-8740-5d52491765ec"
      }
     },
     "output_type": "display_data"
    },
    {
     "name": "stdout",
     "output_type": "stream",
     "text": [
      "FIGURE. Cooling rate profiles.\n"
     ]
    },
    {
     "data": {
      "text/html": [
       "<a id=\"Flux_Comparison\"></a>"
      ],
      "text/plain": [
       "<IPython.core.display.HTML object>"
      ]
     },
     "metadata": {},
     "output_type": "display_data"
    },
    {
     "data": {
      "text/markdown": [
       "# Flux Comparison"
      ],
      "text/plain": [
       "<IPython.core.display.Markdown object>"
      ]
     },
     "metadata": {},
     "output_type": "display_data"
    },
    {
     "data": {
      "text/html": [
       "<div>\n",
       "<style scoped>\n",
       "    .dataframe tbody tr th:only-of-type {\n",
       "        vertical-align: middle;\n",
       "    }\n",
       "\n",
       "    .dataframe tbody tr th {\n",
       "        vertical-align: top;\n",
       "    }\n",
       "\n",
       "    .dataframe thead th {\n",
       "        text-align: right;\n",
       "    }\n",
       "</style>\n",
       "<table border=\"1\" class=\"dataframe\">\n",
       "  <thead>\n",
       "    <tr style=\"text-align: right;\">\n",
       "      <th></th>\n",
       "      <th></th>\n",
       "      <th>flug</th>\n",
       "      <th>fldg</th>\n",
       "      <th>fnetg</th>\n",
       "    </tr>\n",
       "    <tr>\n",
       "      <th>pressure</th>\n",
       "      <th>level</th>\n",
       "      <th></th>\n",
       "      <th></th>\n",
       "      <th></th>\n",
       "    </tr>\n",
       "  </thead>\n",
       "  <tbody>\n",
       "    <tr>\n",
       "      <th>0.0000</th>\n",
       "      <th>1</th>\n",
       "      <td>-8.627833</td>\n",
       "      <td>0.000000</td>\n",
       "      <td>-8.627833</td>\n",
       "    </tr>\n",
       "    <tr>\n",
       "      <th>1.0685</th>\n",
       "      <th>24</th>\n",
       "      <td>-8.627183</td>\n",
       "      <td>0.001145</td>\n",
       "      <td>-8.626038</td>\n",
       "    </tr>\n",
       "    <tr>\n",
       "      <th>1013.0000</th>\n",
       "      <th>76</th>\n",
       "      <td>-9.558030</td>\n",
       "      <td>4.532967</td>\n",
       "      <td>-5.025063</td>\n",
       "    </tr>\n",
       "  </tbody>\n",
       "</table>\n",
       "</div>"
      ],
      "text/plain": [
       "                     flug      fldg     fnetg\n",
       "pressure  level                              \n",
       "0.0000    1     -8.627833  0.000000 -8.627833\n",
       "1.0685    24    -8.627183  0.001145 -8.626038\n",
       "1013.0000 76    -9.558030  4.532967 -5.025063"
      ]
     },
     "metadata": {},
     "output_type": "display_data"
    },
    {
     "name": "stdout",
     "output_type": "stream",
     "text": [
      "Table. Fluxes. CRD\n"
     ]
    },
    {
     "data": {
      "text/html": [
       "<div>\n",
       "<style scoped>\n",
       "    .dataframe tbody tr th:only-of-type {\n",
       "        vertical-align: middle;\n",
       "    }\n",
       "\n",
       "    .dataframe tbody tr th {\n",
       "        vertical-align: top;\n",
       "    }\n",
       "\n",
       "    .dataframe thead th {\n",
       "        text-align: right;\n",
       "    }\n",
       "</style>\n",
       "<table border=\"1\" class=\"dataframe\">\n",
       "  <thead>\n",
       "    <tr style=\"text-align: right;\">\n",
       "      <th></th>\n",
       "      <th></th>\n",
       "      <th>flug</th>\n",
       "      <th>fldg</th>\n",
       "      <th>fnetg</th>\n",
       "    </tr>\n",
       "    <tr>\n",
       "      <th>pressure</th>\n",
       "      <th>level</th>\n",
       "      <th></th>\n",
       "      <th></th>\n",
       "      <th></th>\n",
       "    </tr>\n",
       "  </thead>\n",
       "  <tbody>\n",
       "    <tr>\n",
       "      <th>0.0000</th>\n",
       "      <th>1</th>\n",
       "      <td>-8.659366</td>\n",
       "      <td>0.000000</td>\n",
       "      <td>-8.659366</td>\n",
       "    </tr>\n",
       "    <tr>\n",
       "      <th>1.0685</th>\n",
       "      <th>24</th>\n",
       "      <td>-8.658869</td>\n",
       "      <td>0.000744</td>\n",
       "      <td>-8.658125</td>\n",
       "    </tr>\n",
       "    <tr>\n",
       "      <th>1013.0000</th>\n",
       "      <th>76</th>\n",
       "      <td>-9.558030</td>\n",
       "      <td>4.463588</td>\n",
       "      <td>-5.094442</td>\n",
       "    </tr>\n",
       "  </tbody>\n",
       "</table>\n",
       "</div>"
      ],
      "text/plain": [
       "                     flug      fldg     fnetg\n",
       "pressure  level                              \n",
       "0.0000    1     -8.659366  0.000000 -8.659366\n",
       "1.0685    24    -8.658869  0.000744 -8.658125\n",
       "1013.0000 76    -9.558030  4.463588 -5.094442"
      ]
     },
     "metadata": {},
     "output_type": "display_data"
    },
    {
     "name": "stdout",
     "output_type": "stream",
     "text": [
      "Table. Fluxes. WGT igg=10 wgt_flux=1\n"
     ]
    },
    {
     "data": {
      "text/html": [
       "<div>\n",
       "<style scoped>\n",
       "    .dataframe tbody tr th:only-of-type {\n",
       "        vertical-align: middle;\n",
       "    }\n",
       "\n",
       "    .dataframe tbody tr th {\n",
       "        vertical-align: top;\n",
       "    }\n",
       "\n",
       "    .dataframe thead th {\n",
       "        text-align: right;\n",
       "    }\n",
       "</style>\n",
       "<table border=\"1\" class=\"dataframe\">\n",
       "  <thead>\n",
       "    <tr style=\"text-align: right;\">\n",
       "      <th></th>\n",
       "      <th></th>\n",
       "      <th>flug</th>\n",
       "      <th>fldg</th>\n",
       "      <th>fnetg</th>\n",
       "    </tr>\n",
       "    <tr>\n",
       "      <th>pressure</th>\n",
       "      <th>level</th>\n",
       "      <th></th>\n",
       "      <th></th>\n",
       "      <th></th>\n",
       "    </tr>\n",
       "  </thead>\n",
       "  <tbody>\n",
       "    <tr>\n",
       "      <th>1.000000e-08</th>\n",
       "      <th>1</th>\n",
       "      <td>-8.687292</td>\n",
       "      <td>9.417060e-08</td>\n",
       "      <td>-8.687292</td>\n",
       "    </tr>\n",
       "    <tr>\n",
       "      <th>1.068500e+00</th>\n",
       "      <th>24</th>\n",
       "      <td>-8.686809</td>\n",
       "      <td>7.175766e-04</td>\n",
       "      <td>-8.686091</td>\n",
       "    </tr>\n",
       "    <tr>\n",
       "      <th>1.013000e+03</th>\n",
       "      <th>76</th>\n",
       "      <td>-9.558030</td>\n",
       "      <td>4.426620e+00</td>\n",
       "      <td>-5.131410</td>\n",
       "    </tr>\n",
       "  </tbody>\n",
       "</table>\n",
       "</div>"
      ],
      "text/plain": [
       "                        flug          fldg     fnetg\n",
       "pressure     level                                  \n",
       "1.000000e-08 1     -8.687292  9.417060e-08 -8.687292\n",
       "1.068500e+00 24    -8.686809  7.175766e-04 -8.686091\n",
       "1.013000e+03 76    -9.558030  4.426620e+00 -5.131410"
      ]
     },
     "metadata": {},
     "output_type": "display_data"
    },
    {
     "name": "stdout",
     "output_type": "stream",
     "text": [
      "Table. Fluxes. CLIRAD\n"
     ]
    },
    {
     "data": {
      "text/html": [
       "<div>\n",
       "<style scoped>\n",
       "    .dataframe tbody tr th:only-of-type {\n",
       "        vertical-align: middle;\n",
       "    }\n",
       "\n",
       "    .dataframe tbody tr th {\n",
       "        vertical-align: top;\n",
       "    }\n",
       "\n",
       "    .dataframe thead th {\n",
       "        text-align: right;\n",
       "    }\n",
       "</style>\n",
       "<table border=\"1\" class=\"dataframe\">\n",
       "  <thead>\n",
       "    <tr style=\"text-align: right;\">\n",
       "      <th></th>\n",
       "      <th></th>\n",
       "      <th>flug</th>\n",
       "      <th>fldg</th>\n",
       "      <th>fnetg</th>\n",
       "    </tr>\n",
       "    <tr>\n",
       "      <th>pressure</th>\n",
       "      <th>level</th>\n",
       "      <th></th>\n",
       "      <th></th>\n",
       "      <th></th>\n",
       "    </tr>\n",
       "  </thead>\n",
       "  <tbody>\n",
       "    <tr>\n",
       "      <th>0.0000</th>\n",
       "      <th>1</th>\n",
       "      <td>-3.153296e-02</td>\n",
       "      <td>0.000000</td>\n",
       "      <td>-0.031533</td>\n",
       "    </tr>\n",
       "    <tr>\n",
       "      <th>1.0685</th>\n",
       "      <th>24</th>\n",
       "      <td>-3.168545e-02</td>\n",
       "      <td>-0.000401</td>\n",
       "      <td>-0.032087</td>\n",
       "    </tr>\n",
       "    <tr>\n",
       "      <th>1013.0000</th>\n",
       "      <th>76</th>\n",
       "      <td>-7.900000e-08</td>\n",
       "      <td>-0.069379</td>\n",
       "      <td>-0.069379</td>\n",
       "    </tr>\n",
       "  </tbody>\n",
       "</table>\n",
       "</div>"
      ],
      "text/plain": [
       "                         flug      fldg     fnetg\n",
       "pressure  level                                  \n",
       "0.0000    1     -3.153296e-02  0.000000 -0.031533\n",
       "1.0685    24    -3.168545e-02 -0.000401 -0.032087\n",
       "1013.0000 76    -7.900000e-08 -0.069379 -0.069379"
      ]
     },
     "metadata": {},
     "output_type": "display_data"
    },
    {
     "name": "stdout",
     "output_type": "stream",
     "text": [
      "Table. Fluxes. (WGT igg=10 wgt_flux=1) - (CRD)\n"
     ]
    },
    {
     "data": {
      "text/html": [
       "<div>\n",
       "<style scoped>\n",
       "    .dataframe tbody tr th:only-of-type {\n",
       "        vertical-align: middle;\n",
       "    }\n",
       "\n",
       "    .dataframe tbody tr th {\n",
       "        vertical-align: top;\n",
       "    }\n",
       "\n",
       "    .dataframe thead th {\n",
       "        text-align: right;\n",
       "    }\n",
       "</style>\n",
       "<table border=\"1\" class=\"dataframe\">\n",
       "  <thead>\n",
       "    <tr style=\"text-align: right;\">\n",
       "      <th></th>\n",
       "      <th></th>\n",
       "      <th>flug</th>\n",
       "      <th>fldg</th>\n",
       "      <th>fnetg</th>\n",
       "    </tr>\n",
       "    <tr>\n",
       "      <th>pressure</th>\n",
       "      <th>level</th>\n",
       "      <th></th>\n",
       "      <th></th>\n",
       "      <th></th>\n",
       "    </tr>\n",
       "  </thead>\n",
       "  <tbody>\n",
       "    <tr>\n",
       "      <th>0.0000</th>\n",
       "      <th>1</th>\n",
       "      <td>-5.945880e-02</td>\n",
       "      <td>9.417060e-08</td>\n",
       "      <td>-0.059459</td>\n",
       "    </tr>\n",
       "    <tr>\n",
       "      <th>1.0685</th>\n",
       "      <th>24</th>\n",
       "      <td>-5.962560e-02</td>\n",
       "      <td>-4.272940e-04</td>\n",
       "      <td>-0.060053</td>\n",
       "    </tr>\n",
       "    <tr>\n",
       "      <th>1013.0000</th>\n",
       "      <th>76</th>\n",
       "      <td>3.000000e-07</td>\n",
       "      <td>-1.063475e-01</td>\n",
       "      <td>-0.106347</td>\n",
       "    </tr>\n",
       "  </tbody>\n",
       "</table>\n",
       "</div>"
      ],
      "text/plain": [
       "                         flug          fldg     fnetg\n",
       "pressure  level                                      \n",
       "0.0000    1     -5.945880e-02  9.417060e-08 -0.059459\n",
       "1.0685    24    -5.962560e-02 -4.272940e-04 -0.060053\n",
       "1013.0000 76     3.000000e-07 -1.063475e-01 -0.106347"
      ]
     },
     "metadata": {},
     "output_type": "display_data"
    },
    {
     "name": "stdout",
     "output_type": "stream",
     "text": [
      "Table. Fluxes. (CLIRAD) - (CRD)\n"
     ]
    },
    {
     "data": {
      "text/html": [
       "<a id=\"Best-fit_Parameters\"></a>"
      ],
      "text/plain": [
       "<IPython.core.display.HTML object>"
      ]
     },
     "metadata": {},
     "output_type": "display_data"
    },
    {
     "data": {
      "text/markdown": [
       "# Best-fit Parameters"
      ],
      "text/plain": [
       "<IPython.core.display.Markdown object>"
      ]
     },
     "metadata": {},
     "output_type": "display_data"
    },
    {
     "name": "stdout",
     "output_type": "stream",
     "text": [
      "Best-fit values for each (gas, band)\n",
      "------------------------------------\n",
      "o h2o band7\n",
      "  atmpro = mls\n",
      "  band = 7\n",
      "  commitnumber = a06b618\n",
      "  conc = None\n",
      "  dv = 0.001\n",
      "  klin = 0\n",
      "  molecule = h2o\n",
      "  ng_adju = [0]\n",
      "  ng_refs = [7]\n",
      "  nv = 1000\n",
      "  option_compute_btable = 0\n",
      "  option_compute_ktable = 1\n",
      "  option_wgt_flux = 1\n",
      "  option_wgt_k = 1\n",
      "  ref_pts = [(600, 250)]\n",
      "  tsfc = 294\n",
      "  vmax = 1380\n",
      "  vmin = 1215\n",
      "  w_diffuse = [(2, 1.6, 1.6, 1.6, 1.6, 1.6, 1.8)]\n",
      "  wgt = [(0.5, 0.5, 0.5, 0.5, 0.5, 0.5, 0.9)]\n"
     ]
    }
   ],
   "source": [
    "script()"
   ]
  },
  {
   "cell_type": "code",
   "execution_count": 13,
   "metadata": {
    "collapsed": true
   },
   "outputs": [
    {
     "data": {
      "text/html": [
       "<script>\n",
       "code_show=true; \n",
       "function code_toggle() {\n",
       " if (code_show){\n",
       " $('div.input').hide();\n",
       " } else {\n",
       " $('div.input').show();\n",
       " }\n",
       " code_show = !code_show\n",
       "} \n",
       "$( document ).ready(code_toggle);\n",
       "</script>\n",
       "<form action=\"javascript:code_toggle()\"><input type=\"submit\" value=\"Click here to toggle on/off the raw code.\"></form>"
      ],
      "text/plain": [
       "<IPython.core.display.HTML object>"
      ]
     },
     "execution_count": 13,
     "metadata": {},
     "output_type": "execute_result"
    }
   ],
   "source": [
    "display.HTML('''<script>\n",
    "code_show=true; \n",
    "function code_toggle() {\n",
    " if (code_show){\n",
    " $('div.input').hide();\n",
    " } else {\n",
    " $('div.input').show();\n",
    " }\n",
    " code_show = !code_show\n",
    "} \n",
    "$( document ).ready(code_toggle);\n",
    "</script>\n",
    "<form action=\"javascript:code_toggle()\"><input type=\"submit\" value=\"Click here to toggle on/off the raw code.\"></form>''')"
   ]
  }
 ],
 "metadata": {
  "kernelspec": {
   "display_name": "Python 3",
   "language": "python",
   "name": "python3"
  },
  "language_info": {
   "codemirror_mode": {
    "name": "ipython",
    "version": 3
   },
   "file_extension": ".py",
   "mimetype": "text/x-python",
   "name": "python",
   "nbconvert_exporter": "python",
   "pygments_lexer": "ipython3",
   "version": "3.6.1"
  }
 },
 "nbformat": 4,
 "nbformat_minor": 2
}
