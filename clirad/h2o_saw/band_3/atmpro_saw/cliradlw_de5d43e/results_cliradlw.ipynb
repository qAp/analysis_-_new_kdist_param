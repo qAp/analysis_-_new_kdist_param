{
 "cells": [
  {
   "cell_type": "code",
   "execution_count": 1,
   "metadata": {
    "collapsed": true
   },
   "outputs": [],
   "source": [
    "%matplotlib inline\n",
    "import os\n",
    "import re\n",
    "import io\n",
    "import itertools\n",
    "import pprint\n",
    "\n",
    "from bokeh.io import output_notebook, show\n",
    "from bokeh.layouts import gridplot\n",
    "from bokeh.plotting import figure\n",
    "from bokeh.models import Range1d, Legend\n",
    "from bokeh.palettes import all_palettes\n",
    "\n",
    "import matplotlib\n",
    "import matplotlib.pyplot as plt\n",
    "import numpy as np\n",
    "import pandas as pd\n",
    "import xarray as xr\n",
    "\n",
    "import climatools.lblnew.bestfit_params as bestfits\n",
    "from climatools.lblnew import setup_bestfit, setup_overlap\n",
    "import climatools.lblnew.pipeline as pipe_lblnew\n",
    "import climatools.cliradlw.setup as setup_cliradlw\n",
    "import climatools.cliradlw.pipeline as pipe_cliradlw\n",
    "\n",
    "import climatools.html.html as climahtml\n",
    "from climatools.lblnew.dataio import *\n",
    "from climatools.plot.plot import *\n",
    "\n",
    "\n",
    "import IPython.display as display"
   ]
  },
  {
   "cell_type": "code",
   "execution_count": 2,
   "metadata": {
    "collapsed": true
   },
   "outputs": [],
   "source": [
    "%run param.py"
   ]
  },
  {
   "cell_type": "code",
   "execution_count": 3,
   "metadata": {
    "collapsed": true
   },
   "outputs": [],
   "source": [
    "def load_output_file(path_csv):\n",
    "    '''\n",
    "    Load lblnew output .csv file to xarray.Dataset\n",
    "    \n",
    "    Parameters\n",
    "    ----------\n",
    "    path_csv: str\n",
    "              Path to the .csv file to be loaded.\n",
    "    ds: xarray.Dataset\n",
    "        Data in the input file in the form of an xarray.Dataset.\n",
    "    '''\n",
    "    toindex = ['band', 'pressure', 'igg', 'g']    \n",
    "    df = pd.read_csv(path_csv, sep=r'\\s+')\n",
    "    df = df.set_index([i for i in toindex if i in df.columns])\n",
    "    df = df.rename(columns={'sfu': 'flug',\n",
    "                            'sfd': 'fldg',\n",
    "                            'fnet': 'fnetg',\n",
    "                            'coolr': 'coolrg'})\n",
    "    ds = xr.Dataset.from_dataframe(df)\n",
    "\n",
    "    for l in ('level', 'layer'):\n",
    "        if l in ds.data_vars:\n",
    "            if len(ds[l].dims) > 1:\n",
    "                surface = {d: 0 for d in ds.dims if d != 'pressure'}\n",
    "                coord_level = ds[l][surface]\n",
    "                ds.coords[l] = ('pressure', coord_level)\n",
    "            else:\n",
    "                ds.coords[l] = ('pressure', ds[l])\n",
    "    \n",
    "    return ds"
   ]
  },
  {
   "cell_type": "code",
   "execution_count": 4,
   "metadata": {
    "collapsed": true
   },
   "outputs": [],
   "source": [
    "def lblnew_setup(param=None):\n",
    "    if 'ng_refs' in param:\n",
    "        return {'setup': setup_bestfit,\n",
    "                'fname_flux_crd': 'output_flux.dat',\n",
    "                'fname_cool_crd': 'output_coolr.dat',\n",
    "                'fname_flux_wgt': 'output_wfluxg.dat',\n",
    "                'fname_cool_wgt': 'output_wcoolrg.dat'}\n",
    "    else:\n",
    "        return {'setup': setup_overlap,\n",
    "                'fname_flux_crd': 'output_flux.dat',\n",
    "                'fname_cool_crd': 'output_coolr.dat',\n",
    "                'fname_flux_wgt': 'output_wflux.dat',\n",
    "                'fname_cool_wgt': 'output_wcoolr.dat'}\n",
    "\n",
    "    \n",
    "def load_lblnew_data(param):\n",
    "    \n",
    "    fname_dsname = [('fname_flux_crd', 'ds_flux_crd'),\n",
    "                    ('fname_cool_crd', 'ds_cool_crd'),\n",
    "                    ('fname_flux_wgt', 'ds_flux_wgt'),\n",
    "                    ('fname_cool_wgt', 'ds_cool_wgt')]\n",
    "    \n",
    "    d = lblnew_setup(param)\n",
    "    dir_fortran = pipe_lblnew.get_dir_case(param, setup=d['setup'])\n",
    "    \n",
    "    data_dict = {}\n",
    "    for fname, dsname in fname_dsname:\n",
    "        fpath = os.path.join(dir_fortran, d[fname])\n",
    "        data_dict[dsname] = load_output_file(fpath)\n",
    "    return data_dict\n",
    "    \n",
    "\n",
    "    \n",
    "    "
   ]
  },
  {
   "cell_type": "code",
   "execution_count": 5,
   "metadata": {
    "collapsed": true
   },
   "outputs": [],
   "source": [
    "d = load_lblnew_data(PARAM_LBLNEW)\n",
    "\n",
    "DS_FLUX_CRD = d['ds_flux_crd']\n",
    "DS_COOL_CRD = d['ds_cool_crd']\n",
    "DS_FLUX_WGT = d['ds_flux_wgt']\n",
    "DS_COOL_WGT = d['ds_cool_wgt']"
   ]
  },
  {
   "cell_type": "code",
   "execution_count": 6,
   "metadata": {
    "collapsed": true
   },
   "outputs": [],
   "source": [
    "DIR_FORTRAN = pipe_cliradlw.get_fortran_dir(PARAM, \n",
    "                                            setup=setup_cliradlw)\n",
    "\n",
    "PATH_FLUX = os.path.join(DIR_FORTRAN, 'output_flux.dat')\n",
    "PATH_COOL = os.path.join(DIR_FORTRAN, 'output_coolr.dat')\n",
    "\n",
    "DS_FLUX = load_output_file(PATH_FLUX)\n",
    "DS_COOL = load_output_file(PATH_COOL)"
   ]
  },
  {
   "cell_type": "code",
   "execution_count": 7,
   "metadata": {
    "collapsed": true
   },
   "outputs": [
    {
     "data": {
      "text/html": [
       "\n",
       "    <div class=\"bk-root\">\n",
       "        <a href=\"https://bokeh.pydata.org\" target=\"_blank\" class=\"bk-logo bk-logo-small bk-logo-notebook\"></a>\n",
       "        <span id=\"2a53aedb-0bce-4478-83f3-3c15d5e76ca1\">Loading BokehJS ...</span>\n",
       "    </div>"
      ]
     },
     "metadata": {},
     "output_type": "display_data"
    },
    {
     "data": {
      "application/javascript": [
       "\n",
       "(function(root) {\n",
       "  function now() {\n",
       "    return new Date();\n",
       "  }\n",
       "\n",
       "  var force = true;\n",
       "\n",
       "  if (typeof (root._bokeh_onload_callbacks) === \"undefined\" || force === true) {\n",
       "    root._bokeh_onload_callbacks = [];\n",
       "    root._bokeh_is_loading = undefined;\n",
       "  }\n",
       "\n",
       "  var JS_MIME_TYPE = 'application/javascript';\n",
       "  var HTML_MIME_TYPE = 'text/html';\n",
       "  var EXEC_MIME_TYPE = 'application/vnd.bokehjs_exec.v0+json';\n",
       "  var CLASS_NAME = 'output_bokeh rendered_html';\n",
       "\n",
       "  /**\n",
       "   * Render data to the DOM node\n",
       "   */\n",
       "  function render(props, node) {\n",
       "    var script = document.createElement(\"script\");\n",
       "    node.appendChild(script);\n",
       "  }\n",
       "\n",
       "  /**\n",
       "   * Handle when an output is cleared or removed\n",
       "   */\n",
       "  function handleClearOutput(event, handle) {\n",
       "    var cell = handle.cell;\n",
       "\n",
       "    var id = cell.output_area._bokeh_element_id;\n",
       "    var server_id = cell.output_area._bokeh_server_id;\n",
       "    // Clean up Bokeh references\n",
       "    if (id !== undefined) {\n",
       "      Bokeh.index[id].model.document.clear();\n",
       "      delete Bokeh.index[id];\n",
       "    }\n",
       "\n",
       "    if (server_id !== undefined) {\n",
       "      // Clean up Bokeh references\n",
       "      var cmd = \"from bokeh.io.state import curstate; print(curstate().uuid_to_server['\" + server_id + \"'].get_sessions()[0].document.roots[0]._id)\";\n",
       "      cell.notebook.kernel.execute(cmd, {\n",
       "        iopub: {\n",
       "          output: function(msg) {\n",
       "            var element_id = msg.content.text.trim();\n",
       "            Bokeh.index[element_id].model.document.clear();\n",
       "            delete Bokeh.index[element_id];\n",
       "          }\n",
       "        }\n",
       "      });\n",
       "      // Destroy server and session\n",
       "      var cmd = \"import bokeh.io.notebook as ion; ion.destroy_server('\" + server_id + \"')\";\n",
       "      cell.notebook.kernel.execute(cmd);\n",
       "    }\n",
       "  }\n",
       "\n",
       "  /**\n",
       "   * Handle when a new output is added\n",
       "   */\n",
       "  function handleAddOutput(event, handle) {\n",
       "    var output_area = handle.output_area;\n",
       "    var output = handle.output;\n",
       "\n",
       "    // limit handleAddOutput to display_data with EXEC_MIME_TYPE content only\n",
       "    if ((output.output_type != \"display_data\") || (!output.data.hasOwnProperty(EXEC_MIME_TYPE))) {\n",
       "      return\n",
       "    }\n",
       "\n",
       "    var toinsert = output_area.element.find(\".\" + CLASS_NAME.split(' ')[0]);\n",
       "\n",
       "    if (output.metadata[EXEC_MIME_TYPE][\"id\"] !== undefined) {\n",
       "      toinsert[toinsert.length - 1].firstChild.textContent = output.data[JS_MIME_TYPE];\n",
       "      // store reference to embed id on output_area\n",
       "      output_area._bokeh_element_id = output.metadata[EXEC_MIME_TYPE][\"id\"];\n",
       "    }\n",
       "    if (output.metadata[EXEC_MIME_TYPE][\"server_id\"] !== undefined) {\n",
       "      var bk_div = document.createElement(\"div\");\n",
       "      bk_div.innerHTML = output.data[HTML_MIME_TYPE];\n",
       "      var script_attrs = bk_div.children[0].attributes;\n",
       "      for (var i = 0; i < script_attrs.length; i++) {\n",
       "        toinsert[toinsert.length - 1].firstChild.setAttribute(script_attrs[i].name, script_attrs[i].value);\n",
       "      }\n",
       "      // store reference to server id on output_area\n",
       "      output_area._bokeh_server_id = output.metadata[EXEC_MIME_TYPE][\"server_id\"];\n",
       "    }\n",
       "  }\n",
       "\n",
       "  function register_renderer(events, OutputArea) {\n",
       "\n",
       "    function append_mime(data, metadata, element) {\n",
       "      // create a DOM node to render to\n",
       "      var toinsert = this.create_output_subarea(\n",
       "        metadata,\n",
       "        CLASS_NAME,\n",
       "        EXEC_MIME_TYPE\n",
       "      );\n",
       "      this.keyboard_manager.register_events(toinsert);\n",
       "      // Render to node\n",
       "      var props = {data: data, metadata: metadata[EXEC_MIME_TYPE]};\n",
       "      render(props, toinsert[toinsert.length - 1]);\n",
       "      element.append(toinsert);\n",
       "      return toinsert\n",
       "    }\n",
       "\n",
       "    /* Handle when an output is cleared or removed */\n",
       "    events.on('clear_output.CodeCell', handleClearOutput);\n",
       "    events.on('delete.Cell', handleClearOutput);\n",
       "\n",
       "    /* Handle when a new output is added */\n",
       "    events.on('output_added.OutputArea', handleAddOutput);\n",
       "\n",
       "    /**\n",
       "     * Register the mime type and append_mime function with output_area\n",
       "     */\n",
       "    OutputArea.prototype.register_mime_type(EXEC_MIME_TYPE, append_mime, {\n",
       "      /* Is output safe? */\n",
       "      safe: true,\n",
       "      /* Index of renderer in `output_area.display_order` */\n",
       "      index: 0\n",
       "    });\n",
       "  }\n",
       "\n",
       "  // register the mime type if in Jupyter Notebook environment and previously unregistered\n",
       "  if (root.Jupyter !== undefined) {\n",
       "    var events = require('base/js/events');\n",
       "    var OutputArea = require('notebook/js/outputarea').OutputArea;\n",
       "\n",
       "    if (OutputArea.prototype.mime_types().indexOf(EXEC_MIME_TYPE) == -1) {\n",
       "      register_renderer(events, OutputArea);\n",
       "    }\n",
       "  }\n",
       "\n",
       "  \n",
       "  if (typeof (root._bokeh_timeout) === \"undefined\" || force === true) {\n",
       "    root._bokeh_timeout = Date.now() + 5000;\n",
       "    root._bokeh_failed_load = false;\n",
       "  }\n",
       "\n",
       "  var NB_LOAD_WARNING = {'data': {'text/html':\n",
       "     \"<div style='background-color: #fdd'>\\n\"+\n",
       "     \"<p>\\n\"+\n",
       "     \"BokehJS does not appear to have successfully loaded. If loading BokehJS from CDN, this \\n\"+\n",
       "     \"may be due to a slow or bad network connection. Possible fixes:\\n\"+\n",
       "     \"</p>\\n\"+\n",
       "     \"<ul>\\n\"+\n",
       "     \"<li>re-rerun `output_notebook()` to attempt to load from CDN again, or</li>\\n\"+\n",
       "     \"<li>use INLINE resources instead, as so:</li>\\n\"+\n",
       "     \"</ul>\\n\"+\n",
       "     \"<code>\\n\"+\n",
       "     \"from bokeh.resources import INLINE\\n\"+\n",
       "     \"output_notebook(resources=INLINE)\\n\"+\n",
       "     \"</code>\\n\"+\n",
       "     \"</div>\"}};\n",
       "\n",
       "  function display_loaded() {\n",
       "    var el = document.getElementById(\"2a53aedb-0bce-4478-83f3-3c15d5e76ca1\");\n",
       "    if (el != null) {\n",
       "      el.textContent = \"BokehJS is loading...\";\n",
       "    }\n",
       "    if (root.Bokeh !== undefined) {\n",
       "      if (el != null) {\n",
       "        el.textContent = \"BokehJS \" + root.Bokeh.version + \" successfully loaded.\";\n",
       "      }\n",
       "    } else if (Date.now() < root._bokeh_timeout) {\n",
       "      setTimeout(display_loaded, 100)\n",
       "    }\n",
       "  }\n",
       "\n",
       "\n",
       "  function run_callbacks() {\n",
       "    try {\n",
       "      root._bokeh_onload_callbacks.forEach(function(callback) { callback() });\n",
       "    }\n",
       "    finally {\n",
       "      delete root._bokeh_onload_callbacks\n",
       "    }\n",
       "    console.info(\"Bokeh: all callbacks have finished\");\n",
       "  }\n",
       "\n",
       "  function load_libs(js_urls, callback) {\n",
       "    root._bokeh_onload_callbacks.push(callback);\n",
       "    if (root._bokeh_is_loading > 0) {\n",
       "      console.log(\"Bokeh: BokehJS is being loaded, scheduling callback at\", now());\n",
       "      return null;\n",
       "    }\n",
       "    if (js_urls == null || js_urls.length === 0) {\n",
       "      run_callbacks();\n",
       "      return null;\n",
       "    }\n",
       "    console.log(\"Bokeh: BokehJS not loaded, scheduling load and callback at\", now());\n",
       "    root._bokeh_is_loading = js_urls.length;\n",
       "    for (var i = 0; i < js_urls.length; i++) {\n",
       "      var url = js_urls[i];\n",
       "      var s = document.createElement('script');\n",
       "      s.src = url;\n",
       "      s.async = false;\n",
       "      s.onreadystatechange = s.onload = function() {\n",
       "        root._bokeh_is_loading--;\n",
       "        if (root._bokeh_is_loading === 0) {\n",
       "          console.log(\"Bokeh: all BokehJS libraries loaded\");\n",
       "          run_callbacks()\n",
       "        }\n",
       "      };\n",
       "      s.onerror = function() {\n",
       "        console.warn(\"failed to load library \" + url);\n",
       "      };\n",
       "      console.log(\"Bokeh: injecting script tag for BokehJS library: \", url);\n",
       "      document.getElementsByTagName(\"head\")[0].appendChild(s);\n",
       "    }\n",
       "  };var element = document.getElementById(\"2a53aedb-0bce-4478-83f3-3c15d5e76ca1\");\n",
       "  if (element == null) {\n",
       "    console.log(\"Bokeh: ERROR: autoload.js configured with elementid '2a53aedb-0bce-4478-83f3-3c15d5e76ca1' but no matching script tag was found. \")\n",
       "    return false;\n",
       "  }\n",
       "\n",
       "  var js_urls = [\"https://cdn.pydata.org/bokeh/release/bokeh-0.12.16.min.js\", \"https://cdn.pydata.org/bokeh/release/bokeh-widgets-0.12.16.min.js\", \"https://cdn.pydata.org/bokeh/release/bokeh-tables-0.12.16.min.js\", \"https://cdn.pydata.org/bokeh/release/bokeh-gl-0.12.16.min.js\"];\n",
       "\n",
       "  var inline_js = [\n",
       "    function(Bokeh) {\n",
       "      Bokeh.set_log_level(\"info\");\n",
       "    },\n",
       "    \n",
       "    function(Bokeh) {\n",
       "      \n",
       "    },\n",
       "    function(Bokeh) {\n",
       "      console.log(\"Bokeh: injecting CSS: https://cdn.pydata.org/bokeh/release/bokeh-0.12.16.min.css\");\n",
       "      Bokeh.embed.inject_css(\"https://cdn.pydata.org/bokeh/release/bokeh-0.12.16.min.css\");\n",
       "      console.log(\"Bokeh: injecting CSS: https://cdn.pydata.org/bokeh/release/bokeh-widgets-0.12.16.min.css\");\n",
       "      Bokeh.embed.inject_css(\"https://cdn.pydata.org/bokeh/release/bokeh-widgets-0.12.16.min.css\");\n",
       "      console.log(\"Bokeh: injecting CSS: https://cdn.pydata.org/bokeh/release/bokeh-tables-0.12.16.min.css\");\n",
       "      Bokeh.embed.inject_css(\"https://cdn.pydata.org/bokeh/release/bokeh-tables-0.12.16.min.css\");\n",
       "    }\n",
       "  ];\n",
       "\n",
       "  function run_inline_js() {\n",
       "    \n",
       "    if ((root.Bokeh !== undefined) || (force === true)) {\n",
       "      for (var i = 0; i < inline_js.length; i++) {\n",
       "        inline_js[i].call(root, root.Bokeh);\n",
       "      }if (force === true) {\n",
       "        display_loaded();\n",
       "      }} else if (Date.now() < root._bokeh_timeout) {\n",
       "      setTimeout(run_inline_js, 100);\n",
       "    } else if (!root._bokeh_failed_load) {\n",
       "      console.log(\"Bokeh: BokehJS failed to load within specified timeout.\");\n",
       "      root._bokeh_failed_load = true;\n",
       "    } else if (force !== true) {\n",
       "      var cell = $(document.getElementById(\"2a53aedb-0bce-4478-83f3-3c15d5e76ca1\")).parents('.cell').data().cell;\n",
       "      cell.output_area.append_execute_result(NB_LOAD_WARNING)\n",
       "    }\n",
       "\n",
       "  }\n",
       "\n",
       "  if (root._bokeh_is_loading === 0) {\n",
       "    console.log(\"Bokeh: BokehJS loaded, going straight to plotting\");\n",
       "    run_inline_js();\n",
       "  } else {\n",
       "    load_libs(js_urls, function() {\n",
       "      console.log(\"Bokeh: BokehJS plotting callback run at\", now());\n",
       "      run_inline_js();\n",
       "    });\n",
       "  }\n",
       "}(window));"
      ],
      "application/vnd.bokehjs_load.v0+json": "\n(function(root) {\n  function now() {\n    return new Date();\n  }\n\n  var force = true;\n\n  if (typeof (root._bokeh_onload_callbacks) === \"undefined\" || force === true) {\n    root._bokeh_onload_callbacks = [];\n    root._bokeh_is_loading = undefined;\n  }\n\n  \n\n  \n  if (typeof (root._bokeh_timeout) === \"undefined\" || force === true) {\n    root._bokeh_timeout = Date.now() + 5000;\n    root._bokeh_failed_load = false;\n  }\n\n  var NB_LOAD_WARNING = {'data': {'text/html':\n     \"<div style='background-color: #fdd'>\\n\"+\n     \"<p>\\n\"+\n     \"BokehJS does not appear to have successfully loaded. If loading BokehJS from CDN, this \\n\"+\n     \"may be due to a slow or bad network connection. Possible fixes:\\n\"+\n     \"</p>\\n\"+\n     \"<ul>\\n\"+\n     \"<li>re-rerun `output_notebook()` to attempt to load from CDN again, or</li>\\n\"+\n     \"<li>use INLINE resources instead, as so:</li>\\n\"+\n     \"</ul>\\n\"+\n     \"<code>\\n\"+\n     \"from bokeh.resources import INLINE\\n\"+\n     \"output_notebook(resources=INLINE)\\n\"+\n     \"</code>\\n\"+\n     \"</div>\"}};\n\n  function display_loaded() {\n    var el = document.getElementById(\"2a53aedb-0bce-4478-83f3-3c15d5e76ca1\");\n    if (el != null) {\n      el.textContent = \"BokehJS is loading...\";\n    }\n    if (root.Bokeh !== undefined) {\n      if (el != null) {\n        el.textContent = \"BokehJS \" + root.Bokeh.version + \" successfully loaded.\";\n      }\n    } else if (Date.now() < root._bokeh_timeout) {\n      setTimeout(display_loaded, 100)\n    }\n  }\n\n\n  function run_callbacks() {\n    try {\n      root._bokeh_onload_callbacks.forEach(function(callback) { callback() });\n    }\n    finally {\n      delete root._bokeh_onload_callbacks\n    }\n    console.info(\"Bokeh: all callbacks have finished\");\n  }\n\n  function load_libs(js_urls, callback) {\n    root._bokeh_onload_callbacks.push(callback);\n    if (root._bokeh_is_loading > 0) {\n      console.log(\"Bokeh: BokehJS is being loaded, scheduling callback at\", now());\n      return null;\n    }\n    if (js_urls == null || js_urls.length === 0) {\n      run_callbacks();\n      return null;\n    }\n    console.log(\"Bokeh: BokehJS not loaded, scheduling load and callback at\", now());\n    root._bokeh_is_loading = js_urls.length;\n    for (var i = 0; i < js_urls.length; i++) {\n      var url = js_urls[i];\n      var s = document.createElement('script');\n      s.src = url;\n      s.async = false;\n      s.onreadystatechange = s.onload = function() {\n        root._bokeh_is_loading--;\n        if (root._bokeh_is_loading === 0) {\n          console.log(\"Bokeh: all BokehJS libraries loaded\");\n          run_callbacks()\n        }\n      };\n      s.onerror = function() {\n        console.warn(\"failed to load library \" + url);\n      };\n      console.log(\"Bokeh: injecting script tag for BokehJS library: \", url);\n      document.getElementsByTagName(\"head\")[0].appendChild(s);\n    }\n  };var element = document.getElementById(\"2a53aedb-0bce-4478-83f3-3c15d5e76ca1\");\n  if (element == null) {\n    console.log(\"Bokeh: ERROR: autoload.js configured with elementid '2a53aedb-0bce-4478-83f3-3c15d5e76ca1' but no matching script tag was found. \")\n    return false;\n  }\n\n  var js_urls = [\"https://cdn.pydata.org/bokeh/release/bokeh-0.12.16.min.js\", \"https://cdn.pydata.org/bokeh/release/bokeh-widgets-0.12.16.min.js\", \"https://cdn.pydata.org/bokeh/release/bokeh-tables-0.12.16.min.js\", \"https://cdn.pydata.org/bokeh/release/bokeh-gl-0.12.16.min.js\"];\n\n  var inline_js = [\n    function(Bokeh) {\n      Bokeh.set_log_level(\"info\");\n    },\n    \n    function(Bokeh) {\n      \n    },\n    function(Bokeh) {\n      console.log(\"Bokeh: injecting CSS: https://cdn.pydata.org/bokeh/release/bokeh-0.12.16.min.css\");\n      Bokeh.embed.inject_css(\"https://cdn.pydata.org/bokeh/release/bokeh-0.12.16.min.css\");\n      console.log(\"Bokeh: injecting CSS: https://cdn.pydata.org/bokeh/release/bokeh-widgets-0.12.16.min.css\");\n      Bokeh.embed.inject_css(\"https://cdn.pydata.org/bokeh/release/bokeh-widgets-0.12.16.min.css\");\n      console.log(\"Bokeh: injecting CSS: https://cdn.pydata.org/bokeh/release/bokeh-tables-0.12.16.min.css\");\n      Bokeh.embed.inject_css(\"https://cdn.pydata.org/bokeh/release/bokeh-tables-0.12.16.min.css\");\n    }\n  ];\n\n  function run_inline_js() {\n    \n    if ((root.Bokeh !== undefined) || (force === true)) {\n      for (var i = 0; i < inline_js.length; i++) {\n        inline_js[i].call(root, root.Bokeh);\n      }if (force === true) {\n        display_loaded();\n      }} else if (Date.now() < root._bokeh_timeout) {\n      setTimeout(run_inline_js, 100);\n    } else if (!root._bokeh_failed_load) {\n      console.log(\"Bokeh: BokehJS failed to load within specified timeout.\");\n      root._bokeh_failed_load = true;\n    } else if (force !== true) {\n      var cell = $(document.getElementById(\"2a53aedb-0bce-4478-83f3-3c15d5e76ca1\")).parents('.cell').data().cell;\n      cell.output_area.append_execute_result(NB_LOAD_WARNING)\n    }\n\n  }\n\n  if (root._bokeh_is_loading === 0) {\n    console.log(\"Bokeh: BokehJS loaded, going straight to plotting\");\n    run_inline_js();\n  } else {\n    load_libs(js_urls, function() {\n      console.log(\"Bokeh: BokehJS plotting callback run at\", now());\n      run_inline_js();\n    });\n  }\n}(window));"
     },
     "metadata": {},
     "output_type": "display_data"
    }
   ],
   "source": [
    "output_notebook()"
   ]
  },
  {
   "cell_type": "code",
   "execution_count": 8,
   "metadata": {
    "collapsed": true
   },
   "outputs": [],
   "source": [
    "def fmt_cool(ds_in):\n",
    "    ds = ds_in.copy(deep=True)\n",
    "    if 'igg' in ds.dims:\n",
    "        ds = ds.sel(igg=1)\n",
    "\n",
    "    if 'g' in ds.dims:\n",
    "        ds = ds.sum('g')\n",
    "            \n",
    "    if 'band' in ds.dims:\n",
    "        try:\n",
    "            ds = ds.squeeze('band')\n",
    "        except ValueError:\n",
    "            ds = ds.sum('band')\n",
    "                \n",
    "    return ds['coolrg']\n",
    "\n",
    "\n",
    "def pltdata_cooling_1(ds_cool=None,\n",
    "                      ds_cool_crd=None, ds_cool_wgt=None):\n",
    "    \n",
    "\n",
    "\n",
    "    colors = all_palettes['Set1'][4]\n",
    "    data = [{'label': 'CLIRAD `coolr_bands`',\n",
    "             'srs': fmt_cool(ds_cool),\n",
    "             'line_dash': 'dashed', 'line_width': 5,\n",
    "             'color': colors[0], 'alpha': .6},\n",
    "            {'label': 'CRD',\n",
    "             'srs': fmt_cool(ds_cool_crd),\n",
    "             'line_dash': 'solid', 'line_width': 1.5,\n",
    "             'marker': 'circle', 'marker_size': 5,\n",
    "             'color': colors[2], 'alpha': 1,},\n",
    "            {'label': 'WGT igg=10 wgt_flux=2',\n",
    "             'srs': fmt_cool(ds_cool_wgt),\n",
    "             'line_dash': 'solid', 'line_width': 3,\n",
    "             'marker': 'square', 'marker_size': 5,\n",
    "             'color': colors[3], 'alpha': .6}]\n",
    "    return data\n",
    "\n",
    "\n",
    "def nice_xlims(pltdata=None, prange=None):\n",
    "    \n",
    "    def get_slice(srs):\n",
    "        return srs.sel(pressure=slice(*prange))\n",
    "    \n",
    "    srss = [d['srs'] for d in pltdata]\n",
    "    vmin = min([get_slice(srs).min() for srs in srss])\n",
    "    vmax = max([get_slice(srs).max() for srs in srss])\n",
    "    dv = (vmax - vmin) * .01\n",
    "    return float(vmin - dv), float(vmax + dv)\n",
    "    \n",
    "\n",
    "def plt_cooling_bokeh(pltdata=None):\n",
    "    '''\n",
    "    Plot a list of cooling rate profiles using bokeh.\n",
    "    '''\n",
    "    ymin = 1e-2 \n",
    "    ymax = 1020 \n",
    "        \n",
    "    p1 = figure(title=\"Linear pressure scale\", \n",
    "                plot_width=400)        \n",
    "    xmin, xmax = nice_xlims(pltdata, prange=(50, 1050))\n",
    "    for d in pltdata:\n",
    "        if 'marker' in d:\n",
    "            getattr(p1, d['marker'])(d['srs'].values, \n",
    "                    d['srs'].coords['pressure'].values,\n",
    "                    color=d['color'], alpha=.7)\n",
    "        p1.line(d['srs'].values, \n",
    "                d['srs'].coords['pressure'].values,\n",
    "                color=d['color'], alpha=d['alpha'], \n",
    "                line_width=d['line_width'], line_dash=d['line_dash'])\n",
    "    \n",
    "    p1.y_range = Range1d(ymax, ymin)\n",
    "    p1.yaxis.axis_label = 'pressure [mb]'   \n",
    "    p1.x_range = Range1d(xmin, xmax)\n",
    "    p1.xaxis.axis_label = 'cooling rate [K/day]'\n",
    "            \n",
    "    p2 = figure(title='Log pressure scale', y_axis_type='log',\n",
    "                plot_width=560)\n",
    "    xmin, xmax = nice_xlims(pltdata, prange=(.01, 200))\n",
    "    \n",
    "    rs = []\n",
    "    for d in pltdata:\n",
    "        rd = []\n",
    "        if 'marker' in d:\n",
    "            r_mark = getattr(p2, d['marker'])(d['srs'].values, \n",
    "                        d['srs'].coords['pressure'].values,\n",
    "                        color=d['color'], alpha=.7)\n",
    "            rd.append(r_mark)\n",
    "        r_line = p2.line(d['srs'].values, \n",
    "                    d['srs'].coords['pressure'].values,\n",
    "                    color=d['color'], alpha=d['alpha'], \n",
    "                    line_width=d['line_width'], line_dash=d['line_dash'])\n",
    "        rd.append(r_line)\n",
    "      \n",
    "        rs.append(rd)\n",
    "        \n",
    "    p2.y_range = Range1d(ymax, ymin)  \n",
    "    p2.yaxis.axis_label = 'pressure [mb]'\n",
    "    \n",
    "    p2.x_range = Range1d(xmin, xmax)\n",
    "    p2.xaxis.axis_label = 'cooling rate [K/day]'\n",
    "    \n",
    "    items = [(d['label'], r) for r, d in zip(rs, pltdata)]\n",
    "    legend = Legend(items=items, location=(10, -30))\n",
    "    legend.label_text_font_size = '8pt'\n",
    "    \n",
    "    p2.add_layout(legend, 'right')  \n",
    "    \n",
    "    show(gridplot(p1, p2, ncols=2, plot_height=500))\n",
    "    \n",
    "\n",
    "def script_plt_cooling():\n",
    "    pltdata = pltdata_cooling_1(\n",
    "        ds_cool=DS_COOL,\n",
    "        ds_cool_crd=DS_COOL_CRD,\n",
    "        ds_cool_wgt=DS_COOL_WGT)\n",
    "    plt_cooling_bokeh(pltdata=pltdata)\n",
    "    print('''FIGURE. Cooling rate profiles.''')"
   ]
  },
  {
   "cell_type": "code",
   "execution_count": 9,
   "metadata": {
    "collapsed": true
   },
   "outputs": [],
   "source": [
    "def fmt_flux(ds_in):\n",
    "    ds = ds_in.copy(deep=True)\n",
    "    \n",
    "    for l in ('level', 'layer'):\n",
    "        if l in ds.data_vars:\n",
    "            if len(ds[l].dims) > 1:\n",
    "                surface = {d: 0 for d in ds.dims if d != 'pressure'}\n",
    "                coord_level = ds[l][surface]\n",
    "                ds.coords[l] = ('pressure', coord_level)\n",
    "            else:\n",
    "                ds.coords[l] = ('pressure', ds[l])\n",
    "        \n",
    "    ds = ds.isel(pressure=[0, 23, -1])\n",
    "        \n",
    "    if 'igg' in ds.dims:\n",
    "        ds = ds.sel(igg=[1])\n",
    "        ds = ds.squeeze('igg').drop('igg')\n",
    "    \n",
    "    if 'g' in ds.dims:\n",
    "        ds = ds.sum('g')\n",
    "            \n",
    "    if 'band' in ds.dims:\n",
    "        try:\n",
    "            ds = ds.squeeze('band').drop('band')\n",
    "        except ValueError:\n",
    "            ds = ds.sum('band')\n",
    "                \n",
    "    df = ds.to_dataframe()\n",
    "    df = df.set_index('level', append=True)               \n",
    "    return df\n",
    "\n",
    "\n",
    "def tbdata_flux(ds_flux=None, ds_flux_crd=None, ds_flux_wgt=None):\n",
    "    ilevels = [0, 23, -1]\n",
    "            \n",
    "    benchmark = {'label': 'CRD',\n",
    "                 'df': fmt_flux(ds_flux_crd)}\n",
    "    \n",
    "    tbs = [{'label': 'WGT igg=10 wgt_flux=1',\n",
    "            'df': fmt_flux(ds_flux_wgt)},\n",
    "           {'label': 'CLIRAD',\n",
    "            'df': fmt_flux(ds_flux)}]\n",
    "    \n",
    "    data = {'benchmark': benchmark, 'others': tbs}\n",
    "    return data\n",
    "\n",
    "\n",
    "def tb_flux(tbdata=None):\n",
    "    benchmark = tbdata['benchmark']\n",
    "    others = tbdata['others']\n",
    "    \n",
    "    def show_tb(d=None):\n",
    "        display.display(d['df'])\n",
    "        print('Table.', 'Fluxes.', d['label'])\n",
    "        \n",
    "    def show_tbdiff(d0=None, d=None):\n",
    "        df = d['df']\n",
    "        df.index = d0['df'].index\n",
    "        display.display(df - d0['df'])\n",
    "        print('Table.', 'Fluxes.', \n",
    "              '({}) - ({})'.format(d['label'], d0['label']))\n",
    "        \n",
    "    show_tb(benchmark)\n",
    "    for d in others:\n",
    "        show_tb(d)\n",
    "        \n",
    "    for d in others:\n",
    "        show_tbdiff(d=d, d0=benchmark)\n",
    "        \n",
    "        \n",
    "def script_tb_flux():\n",
    "    data = tbdata_flux(ds_flux=DS_FLUX,\n",
    "                       ds_flux_crd=DS_FLUX_CRD,\n",
    "                       ds_flux_wgt=DS_FLUX_WGT)\n",
    "    tb_flux(tbdata=data)"
   ]
  },
  {
   "cell_type": "code",
   "execution_count": 10,
   "metadata": {
    "collapsed": true
   },
   "outputs": [],
   "source": [
    "def band_map():\n",
    "    '''\n",
    "    Maps spectral bands in lblnew to spectral bands in clirad.\n",
    "    '''\n",
    "    lblnew2clirad = {'1': '1',\n",
    "            '2': '2',\n",
    "            '3a': '3',\n",
    "            '3b': '4',\n",
    "            '3c': '5',\n",
    "            '4': '6', \n",
    "            '5': '7',\n",
    "            '6': '8',\n",
    "            '7': '9', \n",
    "            '8': '10',\n",
    "            '9': '11'}\n",
    "    \n",
    "    clirad2lblnew = {clirad: lblnew \n",
    "                     for lblnew, clirad in lblnew2clirad.items()}\n",
    "    return clirad2lblnew\n",
    "\n",
    "\n",
    "def gasbands():\n",
    "    bmap = band_map()\n",
    "    gases = list(PARAM['molecule'].keys())\n",
    "    \n",
    "    bands = [bmap[str(b)] for b in PARAM['band']]\n",
    "    return list(itertools.product(gases, bands))\n",
    "\n",
    "\n",
    "def print_bestfit_params():\n",
    "    print('Best-fit values for each (gas, band)')\n",
    "    print('------------------------------------')\n",
    "    for gas, band in gasbands():\n",
    "        print('o {} band{}'.format(gas, band))\n",
    "        param = bestfits.kdist_params(molecule=gas, band=band)\n",
    "        for name, value in sorted(param.items()):\n",
    "            print(2 * ' ' + '{} = {}'.format(name, value))\n",
    "\n",
    "        \n",
    "def print_input_param():        \n",
    "    for name, value in PARAM.items():\n",
    "        print('{} = {}'.format(name, value))\n",
    "        \n",
    "        \n",
    "def print_lblnew_param():\n",
    "    for name, value in sorted(PARAM_LBLNEW.items()):\n",
    "        print('{} = {}'.format(name, value))\n"
   ]
  },
  {
   "cell_type": "code",
   "execution_count": 11,
   "metadata": {
    "collapsed": true,
    "scrolled": false
   },
   "outputs": [],
   "source": [
    "def show_html(s):\n",
    "    display.display(display.HTML(s))\n",
    "\n",
    "    \n",
    "def show_markdown(s):\n",
    "    display.display(display.Markdown(s))\n",
    "\n",
    "    \n",
    "def script():\n",
    "    \n",
    "    title = '### CLIRAD-LW'\n",
    "    s_input = 'Input Parameters'\n",
    "    s_lblnew_param = 'LBLNEW case compaired against'\n",
    "    s_bestfits = 'Best-fit Parameters'\n",
    "    s_plt_cooling = 'Cooling Rate Profiles'\n",
    "    s_tb_flux = 'Flux Comparison'\n",
    "    \n",
    "    # title\n",
    "    show_markdown('### CLIRAD-LW')\n",
    "    \n",
    "    # TOC\n",
    "    show_markdown('### Table of Contents')\n",
    "    show_html(climahtml.getHTML_hrefanchor(s_input))\n",
    "    show_html(climahtml.getHTML_hrefanchor(s_lblnew_param))\n",
    "    show_html(climahtml.getHTML_hrefanchor(s_plt_cooling))\n",
    "    show_html(climahtml.getHTML_hrefanchor(s_tb_flux))\n",
    "    show_html(climahtml.getHTML_hrefanchor(s_bestfits))\n",
    "    \n",
    "    # Input parameters\n",
    "    show_html(climahtml.getHTML_idanchor(s_input))\n",
    "    show_markdown(climahtml.getMarkdown_sectitle(s_input))\n",
    "    print_input_param()\n",
    "    \n",
    "    # LBLNEW parameters \n",
    "    show_html(climahtml.getHTML_idanchor(s_lblnew_param))\n",
    "    show_markdown(climahtml.getMarkdown_sectitle(s_lblnew_param))\n",
    "    print_lblnew_param()\n",
    "    \n",
    "    # Cooling rate profiles\n",
    "    show_html(climahtml.getHTML_idanchor(s_plt_cooling))\n",
    "    show_markdown(climahtml.getMarkdown_sectitle(s_plt_cooling))\n",
    "    script_plt_cooling()\n",
    "    \n",
    "    # Flux comparison\n",
    "    show_html(climahtml.getHTML_idanchor(s_tb_flux))\n",
    "    show_markdown(climahtml.getMarkdown_sectitle(s_tb_flux))\n",
    "    script_tb_flux()\n",
    "    \n",
    "    # Best-fit values\n",
    "    show_html(climahtml.getHTML_idanchor(s_bestfits))\n",
    "    show_markdown(climahtml.getMarkdown_sectitle(s_bestfits))\n",
    "    print_bestfit_params()\n",
    "   \n",
    "    "
   ]
  },
  {
   "cell_type": "code",
   "execution_count": 12,
   "metadata": {
    "collapsed": true,
    "scrolled": false
   },
   "outputs": [
    {
     "name": "stdout",
     "output_type": "stream",
     "text": [
      "The history saving thread hit an unexpected error (OperationalError('database is locked',)).History will not be written to the database."
     ]
    },
    {
     "data": {
      "text/markdown": [
       "### CLIRAD-LW"
      ],
      "text/plain": [
       "<IPython.core.display.Markdown object>"
      ]
     },
     "metadata": {},
     "output_type": "display_data"
    },
    {
     "name": "stdout",
     "output_type": "stream",
     "text": [
      "\n"
     ]
    },
    {
     "data": {
      "text/markdown": [
       "### Table of Contents"
      ],
      "text/plain": [
       "<IPython.core.display.Markdown object>"
      ]
     },
     "metadata": {},
     "output_type": "display_data"
    },
    {
     "data": {
      "text/html": [
       "<a href=\"#Input_Parameters\">Input Parameters</a>"
      ],
      "text/plain": [
       "<IPython.core.display.HTML object>"
      ]
     },
     "metadata": {},
     "output_type": "display_data"
    },
    {
     "data": {
      "text/html": [
       "<a href=\"#LBLNEW_case_compaired_against\">LBLNEW case compaired against</a>"
      ],
      "text/plain": [
       "<IPython.core.display.HTML object>"
      ]
     },
     "metadata": {},
     "output_type": "display_data"
    },
    {
     "data": {
      "text/html": [
       "<a href=\"#Cooling_Rate_Profiles\">Cooling Rate Profiles</a>"
      ],
      "text/plain": [
       "<IPython.core.display.HTML object>"
      ]
     },
     "metadata": {},
     "output_type": "display_data"
    },
    {
     "data": {
      "text/html": [
       "<a href=\"#Flux_Comparison\">Flux Comparison</a>"
      ],
      "text/plain": [
       "<IPython.core.display.HTML object>"
      ]
     },
     "metadata": {},
     "output_type": "display_data"
    },
    {
     "data": {
      "text/html": [
       "<a href=\"#Best-fit_Parameters\">Best-fit Parameters</a>"
      ],
      "text/plain": [
       "<IPython.core.display.HTML object>"
      ]
     },
     "metadata": {},
     "output_type": "display_data"
    },
    {
     "data": {
      "text/html": [
       "<a id=\"Input_Parameters\"></a>"
      ],
      "text/plain": [
       "<IPython.core.display.HTML object>"
      ]
     },
     "metadata": {},
     "output_type": "display_data"
    },
    {
     "data": {
      "text/markdown": [
       "# Input Parameters"
      ],
      "text/plain": [
       "<IPython.core.display.Markdown object>"
      ]
     },
     "metadata": {},
     "output_type": "display_data"
    },
    {
     "name": "stdout",
     "output_type": "stream",
     "text": [
      "atmpro = saw\n",
      "band = [3]\n",
      "commitnumber = de5d43e\n",
      "molecule = {'h2o': 'atmpro'}\n",
      "tsfc = 257\n"
     ]
    },
    {
     "data": {
      "text/html": [
       "<a id=\"LBLNEW_case_compaired_against\"></a>"
      ],
      "text/plain": [
       "<IPython.core.display.HTML object>"
      ]
     },
     "metadata": {},
     "output_type": "display_data"
    },
    {
     "data": {
      "text/markdown": [
       "# LBLNEW case compaired against"
      ],
      "text/plain": [
       "<IPython.core.display.Markdown object>"
      ]
     },
     "metadata": {},
     "output_type": "display_data"
    },
    {
     "name": "stdout",
     "output_type": "stream",
     "text": [
      "atmpro = saw\n",
      "band = 3a\n",
      "commitnumber = 5014a19\n",
      "conc = None\n",
      "dv = 0.001\n",
      "klin = 0\n",
      "molecule = h2o\n",
      "ng_adju = [0, 0]\n",
      "ng_refs = [2, 6]\n",
      "nv = 1000\n",
      "option_compute_btable = 0\n",
      "option_compute_ktable = 0\n",
      "option_wgt_flux = 1\n",
      "option_wgt_k = 1\n",
      "ref_pts = [(10, 250), (600, 250)]\n",
      "tsfc = 257\n",
      "vmax = 620\n",
      "vmin = 540\n",
      "w_diffuse = [(1.9, 1.7), (1.4, 1.4, 1.4, 1.55, 1.6, 1.66)]\n",
      "wgt = [(0.7, 0.7), (0.7, 0.5, 0.5, 0.5, 0.5, 0.5)]\n"
     ]
    },
    {
     "data": {
      "text/html": [
       "<a id=\"Cooling_Rate_Profiles\"></a>"
      ],
      "text/plain": [
       "<IPython.core.display.HTML object>"
      ]
     },
     "metadata": {},
     "output_type": "display_data"
    },
    {
     "data": {
      "text/markdown": [
       "# Cooling Rate Profiles"
      ],
      "text/plain": [
       "<IPython.core.display.Markdown object>"
      ]
     },
     "metadata": {},
     "output_type": "display_data"
    },
    {
     "data": {
      "text/html": [
       "\n",
       "<div class=\"bk-root\">\n",
       "    <div class=\"bk-plotdiv\" id=\"50485a65-e701-4aea-a8a7-c5a8bde91ea7\"></div>\n",
       "</div>"
      ]
     },
     "metadata": {},
     "output_type": "display_data"
    },
    {
     "data": {
      "application/javascript": [
       "(function(root) {\n",
       "  function embed_document(root) {\n",
       "    \n",
       "  var docs_json = {\"e95eeda3-a26c-4274-9eb0-d0ea4e8d7ae5\":{\"roots\":{\"references\":[{\"attributes\":{},\"id\":\"8a81fbeb-4b8a-4565-9f2a-b917fb68591c\",\"type\":\"BasicTickFormatter\"},{\"attributes\":{},\"id\":\"8e18cad4-f1c0-4817-a3ec-bab9a74c79eb\",\"type\":\"Selection\"},{\"attributes\":{\"ticker\":null},\"id\":\"3027e70a-5577-4216-8a6e-42af0755b81a\",\"type\":\"LogTickFormatter\"},{\"attributes\":{},\"id\":\"5c3c9b79-ebee-4b47-8062-c03329bd75e0\",\"type\":\"UnionRenderers\"},{\"attributes\":{},\"id\":\"bb74b936-3144-487b-9dd9-43f6c4f2ac31\",\"type\":\"Selection\"},{\"attributes\":{},\"id\":\"ab16625b-4f9f-40d5-8abc-671a1b2f2567\",\"type\":\"UnionRenderers\"},{\"attributes\":{},\"id\":\"e035d18c-8b63-4e3d-9621-c9d7942044d7\",\"type\":\"UnionRenderers\"},{\"attributes\":{},\"id\":\"756b1c87-2c41-49e9-990e-5b63d804737e\",\"type\":\"BasicTicker\"},{\"attributes\":{},\"id\":\"1bf2b90e-72f1-47ee-afda-7d463f780099\",\"type\":\"Selection\"},{\"attributes\":{\"fill_alpha\":{\"value\":0.7},\"fill_color\":{\"value\":\"#4daf4a\"},\"line_alpha\":{\"value\":0.7},\"line_color\":{\"value\":\"#4daf4a\"},\"x\":{\"field\":\"x\"},\"y\":{\"field\":\"y\"}},\"id\":\"d994dc54-7774-4e76-9353-41279cd986af\",\"type\":\"Circle\"},{\"attributes\":{},\"id\":\"ec63a2bb-559e-42af-8919-af948035ab1f\",\"type\":\"Selection\"},{\"attributes\":{},\"id\":\"9eeb6d19-c7b4-4374-a7a9-6e12e4ec318f\",\"type\":\"LinearScale\"},{\"attributes\":{},\"id\":\"dc59fe56-60b0-469c-bbfd-7fd14c622e13\",\"type\":\"UnionRenderers\"},{\"attributes\":{},\"id\":\"8897c772-bb41-4ea9-961e-f6f4b851278d\",\"type\":\"Selection\"},{\"attributes\":{\"tools\":[{\"id\":\"7df25b05-1b48-4664-a611-86367215c342\",\"type\":\"PanTool\"},{\"id\":\"14895f2b-cde4-4b82-8b97-0b4569af9810\",\"type\":\"WheelZoomTool\"},{\"id\":\"777ebed8-31e1-497b-8bd4-50ee8825be65\",\"type\":\"BoxZoomTool\"},{\"id\":\"9331d3fd-f3cb-479f-ae2c-de766be98068\",\"type\":\"SaveTool\"},{\"id\":\"70d1ff47-40eb-4dbb-8ca5-d3c331b62c2e\",\"type\":\"ResetTool\"},{\"id\":\"1fea41d7-4758-4c9f-a00e-204f6c03993e\",\"type\":\"HelpTool\"},{\"id\":\"d9a89f92-85c2-4396-bed5-ac4e6f057bc5\",\"type\":\"PanTool\"},{\"id\":\"f45ffbb7-d4b2-4d5c-92ab-518a4178164b\",\"type\":\"WheelZoomTool\"},{\"id\":\"896a6a64-2827-4fdd-82be-62ba037f1e34\",\"type\":\"BoxZoomTool\"},{\"id\":\"969fdf94-06b1-42ec-8319-b479f99c29dd\",\"type\":\"SaveTool\"},{\"id\":\"20ce96ae-15c3-495b-bf02-ea8201055c36\",\"type\":\"ResetTool\"},{\"id\":\"87bbe8ad-dd8a-4a7d-bbbc-1f664d2349e9\",\"type\":\"HelpTool\"}]},\"id\":\"29aab942-56b0-40b9-a11a-241805feb27b\",\"type\":\"ProxyToolbar\"},{\"attributes\":{\"toolbar\":{\"id\":\"29aab942-56b0-40b9-a11a-241805feb27b\",\"type\":\"ProxyToolbar\"},\"toolbar_location\":\"above\"},\"id\":\"0a0ed7f1-dd27-4f67-8c2b-3cb5969fc4ae\",\"type\":\"ToolbarBox\"},{\"attributes\":{},\"id\":\"98624215-f659-4c0b-86ee-8d5c214c9e58\",\"type\":\"UnionRenderers\"},{\"attributes\":{},\"id\":\"20bae663-cbf7-461c-b2ea-be3b959692d4\",\"type\":\"Selection\"},{\"attributes\":{\"children\":[{\"id\":\"0a0ed7f1-dd27-4f67-8c2b-3cb5969fc4ae\",\"type\":\"ToolbarBox\"},{\"id\":\"2496782e-c03f-4f19-8231-1971dbc326c2\",\"type\":\"Column\"}]},\"id\":\"d750f659-e3f8-49e9-b2d5-4dd51a91759d\",\"type\":\"Column\"},{\"attributes\":{\"below\":[{\"id\":\"59fe53cd-ca0d-4385-a5ef-68f62c3c1b5f\",\"type\":\"LinearAxis\"}],\"left\":[{\"id\":\"3ecf19b7-6446-4853-af19-1081e226e394\",\"type\":\"LinearAxis\"}],\"plot_height\":500,\"plot_width\":400,\"renderers\":[{\"id\":\"59fe53cd-ca0d-4385-a5ef-68f62c3c1b5f\",\"type\":\"LinearAxis\"},{\"id\":\"c973e0f5-1ad8-4ca1-9b12-d507ba69de99\",\"type\":\"Grid\"},{\"id\":\"3ecf19b7-6446-4853-af19-1081e226e394\",\"type\":\"LinearAxis\"},{\"id\":\"4cf640b5-8d67-44c2-894a-2dbd73dca5d2\",\"type\":\"Grid\"},{\"id\":\"8716ed85-1f68-4889-9ac6-deb68df77dbd\",\"type\":\"BoxAnnotation\"},{\"id\":\"2e86f3c8-f62e-4bc8-ae14-d599662473ab\",\"type\":\"GlyphRenderer\"},{\"id\":\"a1c1c944-7641-4089-a3f1-b82b42e5650e\",\"type\":\"GlyphRenderer\"},{\"id\":\"1016b042-cc15-416d-b40c-289ce9343896\",\"type\":\"GlyphRenderer\"},{\"id\":\"92a24153-97c0-411c-bcac-793e3e7792f3\",\"type\":\"GlyphRenderer\"},{\"id\":\"32bd3465-ff5b-4ee7-8e14-35a7701bfa86\",\"type\":\"GlyphRenderer\"}],\"title\":{\"id\":\"7b789e5d-e5ac-4eac-af02-086077ca834a\",\"type\":\"Title\"},\"toolbar\":{\"id\":\"83fbdc79-8e40-44bd-bc8d-246c98de8f9a\",\"type\":\"Toolbar\"},\"toolbar_location\":null,\"x_range\":{\"id\":\"1a2e856d-334f-48e2-9451-0387dda6fa71\",\"type\":\"Range1d\"},\"x_scale\":{\"id\":\"b058c7e4-6781-4081-bc53-79800d719a1a\",\"type\":\"LinearScale\"},\"y_range\":{\"id\":\"a00b8df3-0cba-43f7-a4bb-79e24638cf6d\",\"type\":\"Range1d\"},\"y_scale\":{\"id\":\"9eeb6d19-c7b4-4374-a7a9-6e12e4ec318f\",\"type\":\"LinearScale\"}},\"id\":\"b2585b9a-304f-47cb-9316-81b23c28fcfc\",\"subtype\":\"Figure\",\"type\":\"Plot\"},{\"attributes\":{\"data_source\":{\"id\":\"b12d9325-1b31-413c-a0ee-66a37a5a144e\",\"type\":\"ColumnDataSource\"},\"glyph\":{\"id\":\"e395f4a5-cff1-40ad-bc4e-03e85f19566c\",\"type\":\"Line\"},\"hover_glyph\":null,\"muted_glyph\":null,\"nonselection_glyph\":{\"id\":\"fdf82f95-8308-4d55-9e6d-c79e787cd68a\",\"type\":\"Line\"},\"selection_glyph\":null,\"view\":{\"id\":\"463cf14c-a36f-4c6a-b2b8-921e55aa847f\",\"type\":\"CDSView\"}},\"id\":\"1016b042-cc15-416d-b40c-289ce9343896\",\"type\":\"GlyphRenderer\"},{\"attributes\":{},\"id\":\"10843f95-610b-46e9-97e9-fd86c4a9811f\",\"type\":\"BasicTicker\"},{\"attributes\":{\"axis_label\":\"cooling rate [K/day]\",\"formatter\":{\"id\":\"a66001cb-c9e8-4d37-9ca1-d79fc6902b5c\",\"type\":\"BasicTickFormatter\"},\"plot\":{\"id\":\"b2585b9a-304f-47cb-9316-81b23c28fcfc\",\"subtype\":\"Figure\",\"type\":\"Plot\"},\"ticker\":{\"id\":\"10843f95-610b-46e9-97e9-fd86c4a9811f\",\"type\":\"BasicTicker\"}},\"id\":\"59fe53cd-ca0d-4385-a5ef-68f62c3c1b5f\",\"type\":\"LinearAxis\"},{\"attributes\":{\"data_source\":{\"id\":\"7d0ff972-f38b-416a-8e0e-ee71e1aa8398\",\"type\":\"ColumnDataSource\"},\"glyph\":{\"id\":\"2c75567d-16c9-45cc-98e1-00d77f181ae8\",\"type\":\"Square\"},\"hover_glyph\":null,\"muted_glyph\":null,\"nonselection_glyph\":{\"id\":\"3e2e60f0-185f-42f2-acb8-b7a7ac86881d\",\"type\":\"Square\"},\"selection_glyph\":null,\"view\":{\"id\":\"4e8e043a-64be-49f8-b720-b71bd24e5a29\",\"type\":\"CDSView\"}},\"id\":\"11a08243-d1da-4fc9-8d01-8dc7158c2e44\",\"type\":\"GlyphRenderer\"},{\"attributes\":{\"axis_label\":\"pressure [mb]\",\"formatter\":{\"id\":\"3a29d243-aff7-436f-874c-a128213b1231\",\"type\":\"BasicTickFormatter\"},\"plot\":{\"id\":\"b2585b9a-304f-47cb-9316-81b23c28fcfc\",\"subtype\":\"Figure\",\"type\":\"Plot\"},\"ticker\":{\"id\":\"756b1c87-2c41-49e9-990e-5b63d804737e\",\"type\":\"BasicTicker\"}},\"id\":\"3ecf19b7-6446-4853-af19-1081e226e394\",\"type\":\"LinearAxis\"},{\"attributes\":{\"data_source\":{\"id\":\"8c790c58-060a-45ab-923b-710e2defcd92\",\"type\":\"ColumnDataSource\"},\"glyph\":{\"id\":\"d7ad6ddf-c800-46fd-9203-72a24c113062\",\"type\":\"Line\"},\"hover_glyph\":null,\"muted_glyph\":null,\"nonselection_glyph\":{\"id\":\"02fcfa59-e056-4e6d-b39e-08cdffa1f375\",\"type\":\"Line\"},\"selection_glyph\":null,\"view\":{\"id\":\"b7b8d501-2f07-425a-860b-89eed59596c1\",\"type\":\"CDSView\"}},\"id\":\"ede9b925-3e0c-4ee3-b753-dd2f035e8aa6\",\"type\":\"GlyphRenderer\"},{\"attributes\":{\"line_alpha\":0.1,\"line_color\":\"#1f77b4\",\"line_width\":3,\"x\":{\"field\":\"x\"},\"y\":{\"field\":\"y\"}},\"id\":\"ecd8e8c2-ec7d-4b29-8451-353d93988d91\",\"type\":\"Line\"},{\"attributes\":{\"line_color\":\"#4daf4a\",\"line_width\":1.5,\"x\":{\"field\":\"x\"},\"y\":{\"field\":\"y\"}},\"id\":\"e395f4a5-cff1-40ad-bc4e-03e85f19566c\",\"type\":\"Line\"},{\"attributes\":{\"source\":{\"id\":\"2ae3e019-f812-4ce0-90d4-0a7586ffacac\",\"type\":\"ColumnDataSource\"}},\"id\":\"28453eb8-a7d7-42e4-b498-d63be7b48f4e\",\"type\":\"CDSView\"},{\"attributes\":{\"children\":[{\"id\":\"f792562c-1e7e-4899-a0e3-e975d4274631\",\"type\":\"Row\"}]},\"id\":\"2496782e-c03f-4f19-8231-1971dbc326c2\",\"type\":\"Column\"},{\"attributes\":{\"below\":[{\"id\":\"84ea90e6-a614-4e89-a522-34d777c399fc\",\"type\":\"LinearAxis\"}],\"left\":[{\"id\":\"17b6dfe4-452e-4a4b-9ac0-23d622732e0c\",\"type\":\"LogAxis\"}],\"plot_height\":500,\"plot_width\":560,\"renderers\":[{\"id\":\"84ea90e6-a614-4e89-a522-34d777c399fc\",\"type\":\"LinearAxis\"},{\"id\":\"b349079e-791b-4445-ab3b-079d43646f48\",\"type\":\"Grid\"},{\"id\":\"17b6dfe4-452e-4a4b-9ac0-23d622732e0c\",\"type\":\"LogAxis\"},{\"id\":\"d920e9d2-45f1-437b-869a-733671a52adf\",\"type\":\"Grid\"},{\"id\":\"e323e12d-a364-45d6-85d6-ad0b7b755d50\",\"type\":\"BoxAnnotation\"},{\"id\":\"ede9b925-3e0c-4ee3-b753-dd2f035e8aa6\",\"type\":\"GlyphRenderer\"},{\"id\":\"090d08f7-0064-4e49-a2b0-37d7b17a265b\",\"type\":\"GlyphRenderer\"},{\"id\":\"dcd3eff2-4bd5-4617-b74f-af38840d2179\",\"type\":\"GlyphRenderer\"},{\"id\":\"11a08243-d1da-4fc9-8d01-8dc7158c2e44\",\"type\":\"GlyphRenderer\"},{\"id\":\"11ed10f9-b0bf-4a64-90d2-f684036aa810\",\"type\":\"GlyphRenderer\"},{\"id\":\"2aa0dd8e-6da0-4416-a26a-e0d20359833a\",\"type\":\"Legend\"}],\"right\":[{\"id\":\"2aa0dd8e-6da0-4416-a26a-e0d20359833a\",\"type\":\"Legend\"}],\"title\":{\"id\":\"fde8cab4-95f8-46ca-8205-71e22d7dab7e\",\"type\":\"Title\"},\"toolbar\":{\"id\":\"45aa696d-496a-421b-b120-9c7dc2d63375\",\"type\":\"Toolbar\"},\"toolbar_location\":null,\"x_range\":{\"id\":\"68df5646-8546-4e7a-ad5c-158e8b7557ee\",\"type\":\"Range1d\"},\"x_scale\":{\"id\":\"a39da9b9-74e4-4a3c-8b19-654b597291c0\",\"type\":\"LinearScale\"},\"y_range\":{\"id\":\"0cc63480-bc0a-401c-a317-065ada4c8d03\",\"type\":\"Range1d\"},\"y_scale\":{\"id\":\"bdecbe0c-1b6b-4ab1-b3d3-ef79f9dbd26a\",\"type\":\"LogScale\"}},\"id\":\"d1affdc2-f62a-43bc-b761-026d8f08655c\",\"subtype\":\"Figure\",\"type\":\"Plot\"},{\"attributes\":{\"callback\":null,\"data\":{\"x\":{\"__ndarray__\":\"dy43cMvgYD+rlmvi4IpiP0Kbh9tzMWY/wtN6MzxQaj+bFUHjiOVuP+XOV9bg+3E/zh3q0RfMdD+9dr6KK+h3P56PElXBVXs/jQY8HOMafz+IcmTnQ6KBP8cVUAE46oM/lfMHk9phhj/cTrlFwsGIPwgvMP/Rkoo/bY4V6G5QjD+QIU69gQ2OPzvBIrKi2Y8/JToYyKrakD9MYYkZTs6RPz+UykP2q5I/BYACJjC9kT9tG56gJEuNPz4nZdqW4oY/+/PFpOCTgT9Nw3YO7Xp6P36ociQ0e3M/ik37EloYbT+UJahYWDlnPwwEKGU0QWM/lloRd18NYD9Fl2ch7DBbP/rpCWul7Vk/ut0d1dsgXD/gIkh+XhlfP79h08KTEWE/NzGPZHg0Yj//IRJYzKdiP1fCVB8CRWk/4uZFQWPQbz+DkZep0S1zP/P5BVAf4nQ/1PG8R97wdT8z9FdUvsJ2Pxrcy5LBbnc/YxkmgF3hej/5gl4fnSGCP8NVTq9mOok/YbpG3znrlD8AJCVgivigP+XnP5KKeqg/5CxtM7wysD86Xbqv3iC0P6Sim9sC1Lc/hVuP6tg+uz+q3jWizXm+P9Te9TYt1cA/UMr66Gxhwj/JCr0Y4s3DP5xaf1n1AsU/bnqr1Q73xT/b1/xlV6jGP2HPWTxmJcc/yCP3sdl3xz9Ddbs8n6zHP8EOCJKQzMc/FAXXFyngxz8eXKNRsOXHP99FGXUEtMc/RxM5eNwJxz+asZ3tNJPFP3u+HEfifcM/cFls+aBhwT96gQgzdcm+P5Vqnwcux7o/\",\"dtype\":\"float64\",\"shape\":[75]},\"y\":{\"__ndarray__\":\"GhExyth1ND/Sv8nbtpRIP2vylNV0PVE/aTum7souWD/At0SJ8fVgPw3Iuahxymc/MSNhhJWvcD/bTfBN02d3P2zb5nxnaoA/CD5h5MAGhz8NmeH1TyaQP+zrCsc9p5Y/LbKd76fGnz/bLW5ISEmmPww9YvTcQq8/JV2OstnstT8Er5Y7M8G+P0c+r3jqkcU/5h99k6ZBzj88bCIzFzjVP4enV8oyxN0//yH99nXg5D8qOpLLf0jtP5kqGJXUifQ/c9cS8kHP/D+/DpwzojQEQIEmwoanVwxA4lgXt9HgE0BSSZ2AJuIbQAMJih9jjiNA5q4l5INuK0AwTKYKRj0zQNv5fmq8/DpAaCJseHrtQkB/+zpwzoxKQM3MzMzMeFJAZmZmZmZqWEAAAAAAAFxeQM3MzMzMJmJAmpmZmZkfZUBmZmZmZhhoQDMzMzMzEWtAAAAAAAAKbkBmZmZmZoFwQM3MzMzM/XFAMzMzMzN6c0CamZmZmfZ0QAAAAAAAc3ZAZmZmZmbvd0DNzMzMzGt5QDMzMzMz6HpAmpmZmZlkfEAAAAAAAOF9QGZmZmZmXX9AZmZmZuZsgECamZmZGSuBQM3MzMxM6YFAAAAAAICngkAzMzMzs2WDQGZmZmbmI4RAmpmZmRnihEDNzMzMTKCFQAAAAACAXoZAMzMzM7Mch0BmZmZm5tqHQJqZmZkZmYhAzczMzExXiUAAAAAAgBWKQDMzMzOz04pAZmZmZuaRi0CamZmZGVCMQM3MzMxMDo1AAAAAAIDMjUAzMzMzs4qOQGZmZmbmSI9A\",\"dtype\":\"float64\",\"shape\":[75]}},\"selected\":{\"id\":\"8897c772-bb41-4ea9-961e-f6f4b851278d\",\"type\":\"Selection\"},\"selection_policy\":{\"id\":\"dc59fe56-60b0-469c-bbfd-7fd14c622e13\",\"type\":\"UnionRenderers\"}},\"id\":\"7d0ff972-f38b-416a-8e0e-ee71e1aa8398\",\"type\":\"ColumnDataSource\"},{\"attributes\":{\"plot\":{\"id\":\"b2585b9a-304f-47cb-9316-81b23c28fcfc\",\"subtype\":\"Figure\",\"type\":\"Plot\"},\"ticker\":{\"id\":\"10843f95-610b-46e9-97e9-fd86c4a9811f\",\"type\":\"BasicTicker\"}},\"id\":\"c973e0f5-1ad8-4ca1-9b12-d507ba69de99\",\"type\":\"Grid\"},{\"attributes\":{\"line_color\":\"#4daf4a\",\"line_width\":1.5,\"x\":{\"field\":\"x\"},\"y\":{\"field\":\"y\"}},\"id\":\"b405bee7-d3ee-4f16-a3b4-8d9f4e8d25e0\",\"type\":\"Line\"},{\"attributes\":{\"fill_alpha\":{\"value\":0.1},\"fill_color\":{\"value\":\"#1f77b4\"},\"line_alpha\":{\"value\":0.1},\"line_color\":{\"value\":\"#1f77b4\"},\"x\":{\"field\":\"x\"},\"y\":{\"field\":\"y\"}},\"id\":\"eab67def-170d-4232-84b1-221d0a38f532\",\"type\":\"Circle\"},{\"attributes\":{\"source\":{\"id\":\"8c790c58-060a-45ab-923b-710e2defcd92\",\"type\":\"ColumnDataSource\"}},\"id\":\"b7b8d501-2f07-425a-860b-89eed59596c1\",\"type\":\"CDSView\"},{\"attributes\":{\"data_source\":{\"id\":\"2ae3e019-f812-4ce0-90d4-0a7586ffacac\",\"type\":\"ColumnDataSource\"},\"glyph\":{\"id\":\"d994dc54-7774-4e76-9353-41279cd986af\",\"type\":\"Circle\"},\"hover_glyph\":null,\"muted_glyph\":null,\"nonselection_glyph\":{\"id\":\"eab67def-170d-4232-84b1-221d0a38f532\",\"type\":\"Circle\"},\"selection_glyph\":null,\"view\":{\"id\":\"28453eb8-a7d7-42e4-b498-d63be7b48f4e\",\"type\":\"CDSView\"}},\"id\":\"090d08f7-0064-4e49-a2b0-37d7b17a265b\",\"type\":\"GlyphRenderer\"},{\"attributes\":{\"callback\":null,\"data\":{\"x\":{\"__ndarray__\":\"lecMkJlgYD8MTK9UJT9iPyz599gfYWY/jQy8W1wRaz+yVdmhoCdwP4RX1KHIE3M/n5hwBV9Tdj9XjFpksu15PyBFhfjs6n0/FwW8c0EpgT8ZSS4DtpGDP9m8+ELLMYY/5gsd5acLiT+T9px6+MCLP5ALlDVm6Y0/dNioR03Njz9c78eFtNqQPwHR5zE30JE/cJXyHabEkj+BE5UD+baTP7JtAiCvhpQ/H+quVGY2kz/ZYnWzWO2OP37buGpDaoc/F2mlusdsgT87ExF8V3Z5P8aFEEtbQHI/87yUrBX1aj99GgQROsxlP//LZUYnomI/YlZYwvQjYD/IrLNhGnRcP6HrGqPw9ls/+ctgaMu7Xj/jphmisOpgP1wcid/qQ2I/nTT0oyYgYz9uh160u09jP4hYsBX8y2k/hxMdrLQKcD84znGfcSlzP+nnfcdfv3Q/C/TGVkLBdT92M7UCyY92P1I0kOCmPHc/8ESDqg7Gej/xcOvIMjiCP6Xddg5WfYk/6DCmMwwslT8OfodHhyyhP2dlK8rNuag/frHJqqBTsD8PYJFfP0S0P/Iu/ZyZGLg/o/5A2nvIuz9APhnKJky/P+n6V7nET8E/DfYN6UPZwj8x1i+/cDrEPxn/oQ1+asU/EPFJBgRjxj95d4W6HyLHPzE+UJdaqcc/urjwMKv/xz8a1TPO8DDIP/qTvjGAR8g/qsUSnBtPyD/1Pwroz0jIP0+UxmCsDMg/02eLlPtXxz/bM0sC1NTFPxOB6h9EssM/iACWS5mKwT+kDVVrQAi/P8HTGjnB7bo/\",\"dtype\":\"float64\",\"shape\":[75]},\"y\":{\"__ndarray__\":\"GhExyth1ND/Sv8nbtpRIP2vylNV0PVE/aTum7souWD/At0SJ8fVgPw3Iuahxymc/MSNhhJWvcD/bTfBN02d3P2zb5nxnaoA/CD5h5MAGhz8NmeH1TyaQP+zrCsc9p5Y/LbKd76fGnz/bLW5ISEmmPww9YvTcQq8/JV2OstnstT8Er5Y7M8G+P0c+r3jqkcU/5h99k6ZBzj88bCIzFzjVP4enV8oyxN0//yH99nXg5D8qOpLLf0jtP5kqGJXUifQ/c9cS8kHP/D+/DpwzojQEQIEmwoanVwxA4lgXt9HgE0BSSZ2AJuIbQAMJih9jjiNA5q4l5INuK0AwTKYKRj0zQNv5fmq8/DpAaCJseHrtQkB/+zpwzoxKQM3MzMzMeFJAZmZmZmZqWEAAAAAAAFxeQM3MzMzMJmJAmpmZmZkfZUBmZmZmZhhoQDMzMzMzEWtAAAAAAAAKbkBmZmZmZoFwQM3MzMzM/XFAMzMzMzN6c0CamZmZmfZ0QAAAAAAAc3ZAZmZmZmbvd0DNzMzMzGt5QDMzMzMz6HpAmpmZmZlkfEAAAAAAAOF9QGZmZmZmXX9AZmZmZuZsgECamZmZGSuBQM3MzMxM6YFAAAAAAICngkAzMzMzs2WDQGZmZmbmI4RAmpmZmRnihEDNzMzMTKCFQAAAAACAXoZAMzMzM7Mch0BmZmZm5tqHQJqZmZkZmYhAzczMzExXiUAAAAAAgBWKQDMzMzOz04pAZmZmZuaRi0CamZmZGVCMQM3MzMxMDo1AAAAAAIDMjUAzMzMzs4qOQGZmZmbmSI9A\",\"dtype\":\"float64\",\"shape\":[75]}},\"selected\":{\"id\":\"ec63a2bb-559e-42af-8919-af948035ab1f\",\"type\":\"Selection\"},\"selection_policy\":{\"id\":\"e035d18c-8b63-4e3d-9621-c9d7942044d7\",\"type\":\"UnionRenderers\"}},\"id\":\"2ae3e019-f812-4ce0-90d4-0a7586ffacac\",\"type\":\"ColumnDataSource\"},{\"attributes\":{\"callback\":null,\"data\":{\"x\":{\"__ndarray__\":\"lecMkJlgYD8MTK9UJT9iPyz599gfYWY/jQy8W1wRaz+yVdmhoCdwP4RX1KHIE3M/n5hwBV9Tdj9XjFpksu15PyBFhfjs6n0/FwW8c0EpgT8ZSS4DtpGDP9m8+ELLMYY/5gsd5acLiT+T9px6+MCLP5ALlDVm6Y0/dNioR03Njz9c78eFtNqQPwHR5zE30JE/cJXyHabEkj+BE5UD+baTP7JtAiCvhpQ/H+quVGY2kz/ZYnWzWO2OP37buGpDaoc/F2mlusdsgT87ExF8V3Z5P8aFEEtbQHI/87yUrBX1aj99GgQROsxlP//LZUYnomI/YlZYwvQjYD/IrLNhGnRcP6HrGqPw9ls/+ctgaMu7Xj/jphmisOpgP1wcid/qQ2I/nTT0oyYgYz9uh160u09jP4hYsBX8y2k/hxMdrLQKcD84znGfcSlzP+nnfcdfv3Q/C/TGVkLBdT92M7UCyY92P1I0kOCmPHc/8ESDqg7Gej/xcOvIMjiCP6Xddg5WfYk/6DCmMwwslT8OfodHhyyhP2dlK8rNuag/frHJqqBTsD8PYJFfP0S0P/Iu/ZyZGLg/o/5A2nvIuz9APhnKJky/P+n6V7nET8E/DfYN6UPZwj8x1i+/cDrEPxn/oQ1+asU/EPFJBgRjxj95d4W6HyLHPzE+UJdaqcc/urjwMKv/xz8a1TPO8DDIP/qTvjGAR8g/qsUSnBtPyD/1Pwroz0jIP0+UxmCsDMg/02eLlPtXxz/bM0sC1NTFPxOB6h9EssM/iACWS5mKwT+kDVVrQAi/P8HTGjnB7bo/\",\"dtype\":\"float64\",\"shape\":[75]},\"y\":{\"__ndarray__\":\"GhExyth1ND/Sv8nbtpRIP2vylNV0PVE/aTum7souWD/At0SJ8fVgPw3Iuahxymc/MSNhhJWvcD/bTfBN02d3P2zb5nxnaoA/CD5h5MAGhz8NmeH1TyaQP+zrCsc9p5Y/LbKd76fGnz/bLW5ISEmmPww9YvTcQq8/JV2OstnstT8Er5Y7M8G+P0c+r3jqkcU/5h99k6ZBzj88bCIzFzjVP4enV8oyxN0//yH99nXg5D8qOpLLf0jtP5kqGJXUifQ/c9cS8kHP/D+/DpwzojQEQIEmwoanVwxA4lgXt9HgE0BSSZ2AJuIbQAMJih9jjiNA5q4l5INuK0AwTKYKRj0zQNv5fmq8/DpAaCJseHrtQkB/+zpwzoxKQM3MzMzMeFJAZmZmZmZqWEAAAAAAAFxeQM3MzMzMJmJAmpmZmZkfZUBmZmZmZhhoQDMzMzMzEWtAAAAAAAAKbkBmZmZmZoFwQM3MzMzM/XFAMzMzMzN6c0CamZmZmfZ0QAAAAAAAc3ZAZmZmZmbvd0DNzMzMzGt5QDMzMzMz6HpAmpmZmZlkfEAAAAAAAOF9QGZmZmZmXX9AZmZmZuZsgECamZmZGSuBQM3MzMxM6YFAAAAAAICngkAzMzMzs2WDQGZmZmbmI4RAmpmZmRnihEDNzMzMTKCFQAAAAACAXoZAMzMzM7Mch0BmZmZm5tqHQJqZmZkZmYhAzczMzExXiUAAAAAAgBWKQDMzMzOz04pAZmZmZuaRi0CamZmZGVCMQM3MzMxMDo1AAAAAAIDMjUAzMzMzs4qOQGZmZmbmSI9A\",\"dtype\":\"float64\",\"shape\":[75]}},\"selected\":{\"id\":\"1bf2b90e-72f1-47ee-afda-7d463f780099\",\"type\":\"Selection\"},\"selection_policy\":{\"id\":\"ab16625b-4f9f-40d5-8abc-671a1b2f2567\",\"type\":\"UnionRenderers\"}},\"id\":\"6808bb84-dc1e-47b5-80de-3ebbfa767175\",\"type\":\"ColumnDataSource\"},{\"attributes\":{\"line_alpha\":0.1,\"line_color\":\"#1f77b4\",\"line_width\":1.5,\"x\":{\"field\":\"x\"},\"y\":{\"field\":\"y\"}},\"id\":\"dcd3a305-9f4b-4a09-a442-6ac1f159e566\",\"type\":\"Line\"},{\"attributes\":{\"fill_alpha\":{\"value\":0.1},\"fill_color\":{\"value\":\"#1f77b4\"},\"line_alpha\":{\"value\":0.1},\"line_color\":{\"value\":\"#1f77b4\"},\"x\":{\"field\":\"x\"},\"y\":{\"field\":\"y\"}},\"id\":\"3e2e60f0-185f-42f2-acb8-b7a7ac86881d\",\"type\":\"Square\"},{\"attributes\":{\"callback\":null,\"data\":{\"x\":{\"__ndarray__\":\"r+5+MzYWYj/6YfZFUYZjP90zkWkbZWc/8pPg0Sphaz/9eaptyb1vP2Y0JP0lQXI/nysj1NkAdT9eLUJ0sht4P+Y2763Af3s/JRyGkGQvfz/Xv3G2VZmBP6Xwb3s6yoM/owcd+EErhj+40Um0uXGIPyr0XAdQUYo/0yEml7UDjD8PEgLvbcWNPwBUQaoAlo8/GmW5SWW6kD/EY+bSXbGRPzHUkb5xm5I/gj4ztkfXkT97LSUhSuGNPx2vzp68qYc/MGpB8Ptlgj9M3Rhxr/t7P3elN2zzsHQ/dsCVrlDLbj/EqlExTRZoPwlsVo5sTWM/72BlqNrLXj+5towkVeVYP5ayLX+VrlY/LdeS/jSvVz8HkTuWxolZP8+nC0LLi1s/b5NtA2cHXT+JfzXWYItdP6HIYyI282M/3Fq2AHNAaT+Vub9Sy8puP1pdh9gLBnE/UWUmxqowcj8QgPcPmyhzP5LUUfQRD3Q/yGldYYBPdz+X4nue/nV/P/w0p/jj6YU/+OO5aA9Okj8VFIArSweePwFVqccg8aU/tKvk8SGZrT97sfXhYLyyP3vnnhUbarY/4R3oulOuuT/ZzhhizMi8PxSYLd1NBcA/zq1KAe23wT+edZUHTFTDPzQ2bEL3uMQ/o03drvrQxT8GjAXw3JzGP+U8jN7jK8c/8dNdfkyQxz+wSelfs9jHP3lNOIl7C8g/DgucCdk7yD/TADm8e1vIP/WJlwItOMg/C6gFaaWUxz93hPSQACDGP0W6An5LCMQ/+MUh8sjlwT8VAneov8G/P3v8nIpttbs/\",\"dtype\":\"float64\",\"shape\":[75]},\"y\":{\"__ndarray__\":\"S/O/Q+51ND/Sv8nbtpRIP2vylNV0PVE/aTum7souWD/At0SJ8fVgPw3Iuahxymc/MSNhhJWvcD/bTfBN02d3P2zb5nxnaoA/CD5h5MAGhz8NmeH1TyaQP+zrCsc9p5Y/LbKd76fGnz/bLW5ISEmmPww9YvTcQq8/JV2OstnstT8Er5Y7M8G+P0c+r3jqkcU/5h99k6ZBzj88bCIzFzjVP4enV8oyxN0//yH99nXg5D8qOpLLf0jtP5kqGJXUifQ/c9cS8kHP/D+/DpwzojQEQIEmwoanVwxA4lgXt9HgE0BSSZ2AJuIbQAMJih9jjiNA5q4l5INuK0AwTKYKRj0zQNv5fmq8/DpAaCJseHrtQkB/+zpwzoxKQM3MzMzMeFJAZmZmZmZqWEAAAAAAAFxeQM3MzMzMJmJAmpmZmZkfZUBmZmZmZhhoQDMzMzMzEWtAAAAAAAAKbkBmZmZmZoFwQM3MzMzM/XFAMzMzMzN6c0CamZmZmfZ0QAAAAAAAc3ZAZmZmZmbvd0DNzMzMzGt5QDMzMzMz6HpAmpmZmZlkfEAAAAAAAOF9QGZmZmZmXX9AZmZmZuZsgECamZmZGSuBQM3MzMxM6YFAAAAAAICngkAzMzMzs2WDQGZmZmbmI4RAmpmZmRnihEDNzMzMTKCFQAAAAACAXoZAMzMzM7Mch0BmZmZm5tqHQJqZmZkZmYhAzczMzExXiUAAAAAAgBWKQDMzMzOz04pAZmZmZuaRi0CamZmZGVCMQM3MzMxMDo1AAAAAAIDMjUAzMzMzs4qOQGZmZmbmSI9A\",\"dtype\":\"float64\",\"shape\":[75]}},\"selected\":{\"id\":\"bb74b936-3144-487b-9dd9-43f6c4f2ac31\",\"type\":\"Selection\"},\"selection_policy\":{\"id\":\"5c3c9b79-ebee-4b47-8062-c03329bd75e0\",\"type\":\"UnionRenderers\"}},\"id\":\"8c790c58-060a-45ab-923b-710e2defcd92\",\"type\":\"ColumnDataSource\"},{\"attributes\":{\"data_source\":{\"id\":\"6808bb84-dc1e-47b5-80de-3ebbfa767175\",\"type\":\"ColumnDataSource\"},\"glyph\":{\"id\":\"b405bee7-d3ee-4f16-a3b4-8d9f4e8d25e0\",\"type\":\"Line\"},\"hover_glyph\":null,\"muted_glyph\":null,\"nonselection_glyph\":{\"id\":\"dcd3a305-9f4b-4a09-a442-6ac1f159e566\",\"type\":\"Line\"},\"selection_glyph\":null,\"view\":{\"id\":\"e34dc4fb-3a2e-4652-a6f8-4e1ab2eb4686\",\"type\":\"CDSView\"}},\"id\":\"dcd3eff2-4bd5-4617-b74f-af38840d2179\",\"type\":\"GlyphRenderer\"},{\"attributes\":{\"source\":{\"id\":\"6808bb84-dc1e-47b5-80de-3ebbfa767175\",\"type\":\"ColumnDataSource\"}},\"id\":\"e34dc4fb-3a2e-4652-a6f8-4e1ab2eb4686\",\"type\":\"CDSView\"},{\"attributes\":{\"fill_alpha\":{\"value\":0.7},\"fill_color\":{\"value\":\"#984ea3\"},\"line_alpha\":{\"value\":0.7},\"line_color\":{\"value\":\"#984ea3\"},\"x\":{\"field\":\"x\"},\"y\":{\"field\":\"y\"}},\"id\":\"2c75567d-16c9-45cc-98e1-00d77f181ae8\",\"type\":\"Square\"},{\"attributes\":{\"data_source\":{\"id\":\"f27ed0e7-3fbd-434a-b3b4-a1d0b1aa13b4\",\"type\":\"ColumnDataSource\"},\"glyph\":{\"id\":\"d3d60a30-99a9-4345-9b72-516052d24620\",\"type\":\"Line\"},\"hover_glyph\":null,\"muted_glyph\":null,\"nonselection_glyph\":{\"id\":\"ecd8e8c2-ec7d-4b29-8451-353d93988d91\",\"type\":\"Line\"},\"selection_glyph\":null,\"view\":{\"id\":\"7273f114-a917-48cc-8c93-989bc2537f05\",\"type\":\"CDSView\"}},\"id\":\"11ed10f9-b0bf-4a64-90d2-f684036aa810\",\"type\":\"GlyphRenderer\"},{\"attributes\":{\"line_alpha\":0.1,\"line_color\":\"#1f77b4\",\"line_width\":1.5,\"x\":{\"field\":\"x\"},\"y\":{\"field\":\"y\"}},\"id\":\"fdf82f95-8308-4d55-9e6d-c79e787cd68a\",\"type\":\"Line\"},{\"attributes\":{\"line_alpha\":0.6,\"line_color\":\"#984ea3\",\"line_width\":3,\"x\":{\"field\":\"x\"},\"y\":{\"field\":\"y\"}},\"id\":\"d3d60a30-99a9-4345-9b72-516052d24620\",\"type\":\"Line\"},{\"attributes\":{\"plot\":null,\"text\":\"Linear pressure scale\"},\"id\":\"7b789e5d-e5ac-4eac-af02-086077ca834a\",\"type\":\"Title\"},{\"attributes\":{\"source\":{\"id\":\"f27ed0e7-3fbd-434a-b3b4-a1d0b1aa13b4\",\"type\":\"ColumnDataSource\"}},\"id\":\"7273f114-a917-48cc-8c93-989bc2537f05\",\"type\":\"CDSView\"},{\"attributes\":{\"children\":[{\"id\":\"b2585b9a-304f-47cb-9316-81b23c28fcfc\",\"subtype\":\"Figure\",\"type\":\"Plot\"},{\"id\":\"d1affdc2-f62a-43bc-b761-026d8f08655c\",\"subtype\":\"Figure\",\"type\":\"Plot\"}]},\"id\":\"f792562c-1e7e-4899-a0e3-e975d4274631\",\"type\":\"Row\"},{\"attributes\":{\"label\":{\"value\":\"CLIRAD `coolr_bands`\"},\"renderers\":[{\"id\":\"ede9b925-3e0c-4ee3-b753-dd2f035e8aa6\",\"type\":\"GlyphRenderer\"}]},\"id\":\"c579363c-6358-4b43-9acc-93c6c536ee7a\",\"type\":\"LegendItem\"},{\"attributes\":{},\"id\":\"a66001cb-c9e8-4d37-9ca1-d79fc6902b5c\",\"type\":\"BasicTickFormatter\"},{\"attributes\":{\"callback\":null,\"end\":0.192179181228,\"start\":-0.000328604028},\"id\":\"1a2e856d-334f-48e2-9451-0387dda6fa71\",\"type\":\"Range1d\"},{\"attributes\":{\"label\":{\"value\":\"CRD\"},\"renderers\":[{\"id\":\"090d08f7-0064-4e49-a2b0-37d7b17a265b\",\"type\":\"GlyphRenderer\"},{\"id\":\"dcd3eff2-4bd5-4617-b74f-af38840d2179\",\"type\":\"GlyphRenderer\"}]},\"id\":\"1324bbed-7059-4cdf-b8e8-1af6c94148b2\",\"type\":\"LegendItem\"},{\"attributes\":{},\"id\":\"07fa5448-2786-41a0-be2f-d67b7b33a933\",\"type\":\"Selection\"},{\"attributes\":{\"label\":{\"value\":\"WGT igg=10 wgt_flux=2\"},\"renderers\":[{\"id\":\"11a08243-d1da-4fc9-8d01-8dc7158c2e44\",\"type\":\"GlyphRenderer\"},{\"id\":\"11ed10f9-b0bf-4a64-90d2-f684036aa810\",\"type\":\"GlyphRenderer\"}]},\"id\":\"90c91cd8-3a34-44f1-a61c-1e2c68811d74\",\"type\":\"LegendItem\"},{\"attributes\":{},\"id\":\"42bbc646-bd9a-42f9-842d-4a41fa3d4b82\",\"type\":\"UnionRenderers\"},{\"attributes\":{},\"id\":\"3a29d243-aff7-436f-874c-a128213b1231\",\"type\":\"BasicTickFormatter\"},{\"attributes\":{},\"id\":\"13b4abbb-8289-4e08-9212-f84d54df055b\",\"type\":\"Selection\"},{\"attributes\":{\"active_drag\":\"auto\",\"active_inspect\":\"auto\",\"active_scroll\":\"auto\",\"active_tap\":\"auto\",\"tools\":[{\"id\":\"7df25b05-1b48-4664-a611-86367215c342\",\"type\":\"PanTool\"},{\"id\":\"14895f2b-cde4-4b82-8b97-0b4569af9810\",\"type\":\"WheelZoomTool\"},{\"id\":\"777ebed8-31e1-497b-8bd4-50ee8825be65\",\"type\":\"BoxZoomTool\"},{\"id\":\"9331d3fd-f3cb-479f-ae2c-de766be98068\",\"type\":\"SaveTool\"},{\"id\":\"70d1ff47-40eb-4dbb-8ca5-d3c331b62c2e\",\"type\":\"ResetTool\"},{\"id\":\"1fea41d7-4758-4c9f-a00e-204f6c03993e\",\"type\":\"HelpTool\"}]},\"id\":\"83fbdc79-8e40-44bd-bc8d-246c98de8f9a\",\"type\":\"Toolbar\"},{\"attributes\":{},\"id\":\"63b16a84-84eb-4b2b-9d7b-fb81b6e86b53\",\"type\":\"UnionRenderers\"},{\"attributes\":{},\"id\":\"301e2803-b211-4118-aa67-36792983645f\",\"type\":\"UnionRenderers\"},{\"attributes\":{},\"id\":\"b5216145-262a-48de-b407-a97aecd0c8e9\",\"type\":\"UnionRenderers\"},{\"attributes\":{},\"id\":\"468dcbfb-6b8b-47e8-b7d8-4d0c61e722e2\",\"type\":\"Selection\"},{\"attributes\":{},\"id\":\"ebc85059-be1e-4970-ab63-6b094762ce93\",\"type\":\"UnionRenderers\"},{\"attributes\":{},\"id\":\"b058c7e4-6781-4081-bc53-79800d719a1a\",\"type\":\"LinearScale\"},{\"attributes\":{\"line_alpha\":0.1,\"line_color\":\"#1f77b4\",\"line_dash\":[6],\"line_width\":5,\"x\":{\"field\":\"x\"},\"y\":{\"field\":\"y\"}},\"id\":\"02fcfa59-e056-4e6d-b39e-08cdffa1f375\",\"type\":\"Line\"},{\"attributes\":{},\"id\":\"7c1d7947-dc0f-4ab8-a8a1-f466dda61ca3\",\"type\":\"Selection\"},{\"attributes\":{\"fill_alpha\":{\"value\":0.1},\"fill_color\":{\"value\":\"#1f77b4\"},\"line_alpha\":{\"value\":0.1},\"line_color\":{\"value\":\"#1f77b4\"},\"x\":{\"field\":\"x\"},\"y\":{\"field\":\"y\"}},\"id\":\"18e2e435-af34-4872-bd86-a6a67062c8a9\",\"type\":\"Circle\"},{\"attributes\":{\"source\":{\"id\":\"b12d9325-1b31-413c-a0ee-66a37a5a144e\",\"type\":\"ColumnDataSource\"}},\"id\":\"463cf14c-a36f-4c6a-b2b8-921e55aa847f\",\"type\":\"CDSView\"},{\"attributes\":{\"data_source\":{\"id\":\"7b3383b5-5abd-427e-90b1-50418e2b33ae\",\"type\":\"ColumnDataSource\"},\"glyph\":{\"id\":\"e04aa284-1af3-4efd-972c-ae33ae561325\",\"type\":\"Line\"},\"hover_glyph\":null,\"muted_glyph\":null,\"nonselection_glyph\":{\"id\":\"830ee21d-7323-44db-ba1d-6d35b1e9314e\",\"type\":\"Line\"},\"selection_glyph\":null,\"view\":{\"id\":\"113dc25b-7ade-4421-ab50-e3bb61197290\",\"type\":\"CDSView\"}},\"id\":\"32bd3465-ff5b-4ee7-8e14-35a7701bfa86\",\"type\":\"GlyphRenderer\"},{\"attributes\":{\"line_alpha\":0.6,\"line_color\":\"#984ea3\",\"line_width\":3,\"x\":{\"field\":\"x\"},\"y\":{\"field\":\"y\"}},\"id\":\"e04aa284-1af3-4efd-972c-ae33ae561325\",\"type\":\"Line\"},{\"attributes\":{\"callback\":null,\"end\":0.01,\"start\":1020},\"id\":\"a00b8df3-0cba-43f7-a4bb-79e24638cf6d\",\"type\":\"Range1d\"},{\"attributes\":{\"source\":{\"id\":\"7b3383b5-5abd-427e-90b1-50418e2b33ae\",\"type\":\"ColumnDataSource\"}},\"id\":\"113dc25b-7ade-4421-ab50-e3bb61197290\",\"type\":\"CDSView\"},{\"attributes\":{\"line_alpha\":0.1,\"line_color\":\"#1f77b4\",\"line_dash\":[6],\"line_width\":5,\"x\":{\"field\":\"x\"},\"y\":{\"field\":\"y\"}},\"id\":\"86a46717-5668-4aaa-861d-be96411d3877\",\"type\":\"Line\"},{\"attributes\":{\"data_source\":{\"id\":\"f4120fed-d338-4d2a-b830-1cebd3a03cc1\",\"type\":\"ColumnDataSource\"},\"glyph\":{\"id\":\"6d4769c9-7b5c-4eb8-b45e-4fc267af6e91\",\"type\":\"Line\"},\"hover_glyph\":null,\"muted_glyph\":null,\"nonselection_glyph\":{\"id\":\"86a46717-5668-4aaa-861d-be96411d3877\",\"type\":\"Line\"},\"selection_glyph\":null,\"view\":{\"id\":\"8675cfd7-fdcf-4690-9a0c-8b5abd24bcbf\",\"type\":\"CDSView\"}},\"id\":\"2e86f3c8-f62e-4bc8-ae14-d599662473ab\",\"type\":\"GlyphRenderer\"},{\"attributes\":{\"source\":{\"id\":\"41ee6d59-d0a4-4892-9ee6-3441fc0b1a65\",\"type\":\"ColumnDataSource\"}},\"id\":\"c36cf1eb-884e-458c-8a05-70df46a7ad15\",\"type\":\"CDSView\"},{\"attributes\":{\"num_minor_ticks\":10},\"id\":\"c42a8686-6fcd-4008-b41f-636f566dd407\",\"type\":\"LogTicker\"},{\"attributes\":{\"plot\":{\"id\":\"d1affdc2-f62a-43bc-b761-026d8f08655c\",\"subtype\":\"Figure\",\"type\":\"Plot\"},\"ticker\":{\"id\":\"8edc4ce9-c47b-446f-a096-9af4ee914f83\",\"type\":\"BasicTicker\"}},\"id\":\"b349079e-791b-4445-ab3b-079d43646f48\",\"type\":\"Grid\"},{\"attributes\":{},\"id\":\"8edc4ce9-c47b-446f-a096-9af4ee914f83\",\"type\":\"BasicTicker\"},{\"attributes\":{\"plot\":null,\"text\":\"Log pressure scale\"},\"id\":\"fde8cab4-95f8-46ca-8205-71e22d7dab7e\",\"type\":\"Title\"},{\"attributes\":{\"callback\":null,\"data\":{\"x\":{\"__ndarray__\":\"lecMkJlgYD8MTK9UJT9iPyz599gfYWY/jQy8W1wRaz+yVdmhoCdwP4RX1KHIE3M/n5hwBV9Tdj9XjFpksu15PyBFhfjs6n0/FwW8c0EpgT8ZSS4DtpGDP9m8+ELLMYY/5gsd5acLiT+T9px6+MCLP5ALlDVm6Y0/dNioR03Njz9c78eFtNqQPwHR5zE30JE/cJXyHabEkj+BE5UD+baTP7JtAiCvhpQ/H+quVGY2kz/ZYnWzWO2OP37buGpDaoc/F2mlusdsgT87ExF8V3Z5P8aFEEtbQHI/87yUrBX1aj99GgQROsxlP//LZUYnomI/YlZYwvQjYD/IrLNhGnRcP6HrGqPw9ls/+ctgaMu7Xj/jphmisOpgP1wcid/qQ2I/nTT0oyYgYz9uh160u09jP4hYsBX8y2k/hxMdrLQKcD84znGfcSlzP+nnfcdfv3Q/C/TGVkLBdT92M7UCyY92P1I0kOCmPHc/8ESDqg7Gej/xcOvIMjiCP6Xddg5WfYk/6DCmMwwslT8OfodHhyyhP2dlK8rNuag/frHJqqBTsD8PYJFfP0S0P/Iu/ZyZGLg/o/5A2nvIuz9APhnKJky/P+n6V7nET8E/DfYN6UPZwj8x1i+/cDrEPxn/oQ1+asU/EPFJBgRjxj95d4W6HyLHPzE+UJdaqcc/urjwMKv/xz8a1TPO8DDIP/qTvjGAR8g/qsUSnBtPyD/1Pwroz0jIP0+UxmCsDMg/02eLlPtXxz/bM0sC1NTFPxOB6h9EssM/iACWS5mKwT+kDVVrQAi/P8HTGjnB7bo/\",\"dtype\":\"float64\",\"shape\":[75]},\"y\":{\"__ndarray__\":\"GhExyth1ND/Sv8nbtpRIP2vylNV0PVE/aTum7souWD/At0SJ8fVgPw3Iuahxymc/MSNhhJWvcD/bTfBN02d3P2zb5nxnaoA/CD5h5MAGhz8NmeH1TyaQP+zrCsc9p5Y/LbKd76fGnz/bLW5ISEmmPww9YvTcQq8/JV2OstnstT8Er5Y7M8G+P0c+r3jqkcU/5h99k6ZBzj88bCIzFzjVP4enV8oyxN0//yH99nXg5D8qOpLLf0jtP5kqGJXUifQ/c9cS8kHP/D+/DpwzojQEQIEmwoanVwxA4lgXt9HgE0BSSZ2AJuIbQAMJih9jjiNA5q4l5INuK0AwTKYKRj0zQNv5fmq8/DpAaCJseHrtQkB/+zpwzoxKQM3MzMzMeFJAZmZmZmZqWEAAAAAAAFxeQM3MzMzMJmJAmpmZmZkfZUBmZmZmZhhoQDMzMzMzEWtAAAAAAAAKbkBmZmZmZoFwQM3MzMzM/XFAMzMzMzN6c0CamZmZmfZ0QAAAAAAAc3ZAZmZmZmbvd0DNzMzMzGt5QDMzMzMz6HpAmpmZmZlkfEAAAAAAAOF9QGZmZmZmXX9AZmZmZuZsgECamZmZGSuBQM3MzMxM6YFAAAAAAICngkAzMzMzs2WDQGZmZmbmI4RAmpmZmRnihEDNzMzMTKCFQAAAAACAXoZAMzMzM7Mch0BmZmZm5tqHQJqZmZkZmYhAzczMzExXiUAAAAAAgBWKQDMzMzOz04pAZmZmZuaRi0CamZmZGVCMQM3MzMxMDo1AAAAAAIDMjUAzMzMzs4qOQGZmZmbmSI9A\",\"dtype\":\"float64\",\"shape\":[75]}},\"selected\":{\"id\":\"07fa5448-2786-41a0-be2f-d67b7b33a933\",\"type\":\"Selection\"},\"selection_policy\":{\"id\":\"b5216145-262a-48de-b407-a97aecd0c8e9\",\"type\":\"UnionRenderers\"}},\"id\":\"b12d9325-1b31-413c-a0ee-66a37a5a144e\",\"type\":\"ColumnDataSource\"},{\"attributes\":{\"axis_label\":\"pressure [mb]\",\"formatter\":{\"id\":\"3027e70a-5577-4216-8a6e-42af0755b81a\",\"type\":\"LogTickFormatter\"},\"plot\":{\"id\":\"d1affdc2-f62a-43bc-b761-026d8f08655c\",\"subtype\":\"Figure\",\"type\":\"Plot\"},\"ticker\":{\"id\":\"c42a8686-6fcd-4008-b41f-636f566dd407\",\"type\":\"LogTicker\"}},\"id\":\"17b6dfe4-452e-4a4b-9ac0-23d622732e0c\",\"type\":\"LogAxis\"},{\"attributes\":{\"fill_alpha\":{\"value\":0.7},\"fill_color\":{\"value\":\"#4daf4a\"},\"line_alpha\":{\"value\":0.7},\"line_color\":{\"value\":\"#4daf4a\"},\"x\":{\"field\":\"x\"},\"y\":{\"field\":\"y\"}},\"id\":\"8ab70c97-bfde-42f3-8c27-ccae12b50995\",\"type\":\"Circle\"},{\"attributes\":{\"fill_alpha\":{\"value\":0.7},\"fill_color\":{\"value\":\"#984ea3\"},\"line_alpha\":{\"value\":0.7},\"line_color\":{\"value\":\"#984ea3\"},\"x\":{\"field\":\"x\"},\"y\":{\"field\":\"y\"}},\"id\":\"5101df7a-a612-4b2a-a0e3-13515bd9f439\",\"type\":\"Square\"},{\"attributes\":{\"bottom_units\":\"screen\",\"fill_alpha\":{\"value\":0.5},\"fill_color\":{\"value\":\"lightgrey\"},\"left_units\":\"screen\",\"level\":\"overlay\",\"line_alpha\":{\"value\":1.0},\"line_color\":{\"value\":\"black\"},\"line_dash\":[4,4],\"line_width\":{\"value\":2},\"plot\":null,\"render_mode\":\"css\",\"right_units\":\"screen\",\"top_units\":\"screen\"},\"id\":\"e323e12d-a364-45d6-85d6-ad0b7b755d50\",\"type\":\"BoxAnnotation\"},{\"attributes\":{\"line_alpha\":0.6,\"line_color\":\"#e41a1c\",\"line_dash\":[6],\"line_width\":5,\"x\":{\"field\":\"x\"},\"y\":{\"field\":\"y\"}},\"id\":\"d7ad6ddf-c800-46fd-9203-72a24c113062\",\"type\":\"Line\"},{\"attributes\":{\"axis_label\":\"cooling rate [K/day]\",\"formatter\":{\"id\":\"8a81fbeb-4b8a-4565-9f2a-b917fb68591c\",\"type\":\"BasicTickFormatter\"},\"plot\":{\"id\":\"d1affdc2-f62a-43bc-b761-026d8f08655c\",\"subtype\":\"Figure\",\"type\":\"Plot\"},\"ticker\":{\"id\":\"8edc4ce9-c47b-446f-a096-9af4ee914f83\",\"type\":\"BasicTicker\"}},\"id\":\"84ea90e6-a614-4e89-a522-34d777c399fc\",\"type\":\"LinearAxis\"},{\"attributes\":{},\"id\":\"d9a89f92-85c2-4396-bed5-ac4e6f057bc5\",\"type\":\"PanTool\"},{\"attributes\":{\"callback\":null,\"end\":0.020231635315,\"start\":0.001197791185},\"id\":\"68df5646-8546-4e7a-ad5c-158e8b7557ee\",\"type\":\"Range1d\"},{\"attributes\":{},\"id\":\"a39da9b9-74e4-4a3c-8b19-654b597291c0\",\"type\":\"LinearScale\"},{\"attributes\":{\"callback\":null,\"data\":{\"x\":{\"__ndarray__\":\"dy43cMvgYD+rlmvi4IpiP0Kbh9tzMWY/wtN6MzxQaj+bFUHjiOVuP+XOV9bg+3E/zh3q0RfMdD+9dr6KK+h3P56PElXBVXs/jQY8HOMafz+IcmTnQ6KBP8cVUAE46oM/lfMHk9phhj/cTrlFwsGIPwgvMP/Rkoo/bY4V6G5QjD+QIU69gQ2OPzvBIrKi2Y8/JToYyKrakD9MYYkZTs6RPz+UykP2q5I/BYACJjC9kT9tG56gJEuNPz4nZdqW4oY/+/PFpOCTgT9Nw3YO7Xp6P36ociQ0e3M/ik37EloYbT+UJahYWDlnPwwEKGU0QWM/lloRd18NYD9Fl2ch7DBbP/rpCWul7Vk/ut0d1dsgXD/gIkh+XhlfP79h08KTEWE/NzGPZHg0Yj//IRJYzKdiP1fCVB8CRWk/4uZFQWPQbz+DkZep0S1zP/P5BVAf4nQ/1PG8R97wdT8z9FdUvsJ2Pxrcy5LBbnc/YxkmgF3hej/5gl4fnSGCP8NVTq9mOok/YbpG3znrlD8AJCVgivigP+XnP5KKeqg/5CxtM7wysD86Xbqv3iC0P6Sim9sC1Lc/hVuP6tg+uz+q3jWizXm+P9Te9TYt1cA/UMr66Gxhwj/JCr0Y4s3DP5xaf1n1AsU/bnqr1Q73xT/b1/xlV6jGP2HPWTxmJcc/yCP3sdl3xz9Ddbs8n6zHP8EOCJKQzMc/FAXXFyngxz8eXKNRsOXHP99FGXUEtMc/RxM5eNwJxz+asZ3tNJPFP3u+HEfifcM/cFls+aBhwT96gQgzdcm+P5Vqnwcux7o/\",\"dtype\":\"float64\",\"shape\":[75]},\"y\":{\"__ndarray__\":\"GhExyth1ND/Sv8nbtpRIP2vylNV0PVE/aTum7souWD/At0SJ8fVgPw3Iuahxymc/MSNhhJWvcD/bTfBN02d3P2zb5nxnaoA/CD5h5MAGhz8NmeH1TyaQP+zrCsc9p5Y/LbKd76fGnz/bLW5ISEmmPww9YvTcQq8/JV2OstnstT8Er5Y7M8G+P0c+r3jqkcU/5h99k6ZBzj88bCIzFzjVP4enV8oyxN0//yH99nXg5D8qOpLLf0jtP5kqGJXUifQ/c9cS8kHP/D+/DpwzojQEQIEmwoanVwxA4lgXt9HgE0BSSZ2AJuIbQAMJih9jjiNA5q4l5INuK0AwTKYKRj0zQNv5fmq8/DpAaCJseHrtQkB/+zpwzoxKQM3MzMzMeFJAZmZmZmZqWEAAAAAAAFxeQM3MzMzMJmJAmpmZmZkfZUBmZmZmZhhoQDMzMzMzEWtAAAAAAAAKbkBmZmZmZoFwQM3MzMzM/XFAMzMzMzN6c0CamZmZmfZ0QAAAAAAAc3ZAZmZmZmbvd0DNzMzMzGt5QDMzMzMz6HpAmpmZmZlkfEAAAAAAAOF9QGZmZmZmXX9AZmZmZuZsgECamZmZGSuBQM3MzMxM6YFAAAAAAICngkAzMzMzs2WDQGZmZmbmI4RAmpmZmRnihEDNzMzMTKCFQAAAAACAXoZAMzMzM7Mch0BmZmZm5tqHQJqZmZkZmYhAzczMzExXiUAAAAAAgBWKQDMzMzOz04pAZmZmZuaRi0CamZmZGVCMQM3MzMxMDo1AAAAAAIDMjUAzMzMzs4qOQGZmZmbmSI9A\",\"dtype\":\"float64\",\"shape\":[75]}},\"selected\":{\"id\":\"7c1d7947-dc0f-4ab8-a8a1-f466dda61ca3\",\"type\":\"Selection\"},\"selection_policy\":{\"id\":\"ebc85059-be1e-4970-ab63-6b094762ce93\",\"type\":\"UnionRenderers\"}},\"id\":\"41ee6d59-d0a4-4892-9ee6-3441fc0b1a65\",\"type\":\"ColumnDataSource\"},{\"attributes\":{\"callback\":null,\"end\":0.01,\"start\":1020},\"id\":\"0cc63480-bc0a-401c-a317-065ada4c8d03\",\"type\":\"Range1d\"},{\"attributes\":{},\"id\":\"969fdf94-06b1-42ec-8319-b479f99c29dd\",\"type\":\"SaveTool\"},{\"attributes\":{\"source\":{\"id\":\"f4120fed-d338-4d2a-b830-1cebd3a03cc1\",\"type\":\"ColumnDataSource\"}},\"id\":\"8675cfd7-fdcf-4690-9a0c-8b5abd24bcbf\",\"type\":\"CDSView\"},{\"attributes\":{\"data_source\":{\"id\":\"41ee6d59-d0a4-4892-9ee6-3441fc0b1a65\",\"type\":\"ColumnDataSource\"},\"glyph\":{\"id\":\"5101df7a-a612-4b2a-a0e3-13515bd9f439\",\"type\":\"Square\"},\"hover_glyph\":null,\"muted_glyph\":null,\"nonselection_glyph\":{\"id\":\"2eb6fbcb-40c5-4812-b9ac-911e9fe177de\",\"type\":\"Square\"},\"selection_glyph\":null,\"view\":{\"id\":\"c36cf1eb-884e-458c-8a05-70df46a7ad15\",\"type\":\"CDSView\"}},\"id\":\"92a24153-97c0-411c-bcac-793e3e7792f3\",\"type\":\"GlyphRenderer\"},{\"attributes\":{\"line_alpha\":0.6,\"line_color\":\"#e41a1c\",\"line_dash\":[6],\"line_width\":5,\"x\":{\"field\":\"x\"},\"y\":{\"field\":\"y\"}},\"id\":\"6d4769c9-7b5c-4eb8-b45e-4fc267af6e91\",\"type\":\"Line\"},{\"attributes\":{\"callback\":null,\"data\":{\"x\":{\"__ndarray__\":\"lecMkJlgYD8MTK9UJT9iPyz599gfYWY/jQy8W1wRaz+yVdmhoCdwP4RX1KHIE3M/n5hwBV9Tdj9XjFpksu15PyBFhfjs6n0/FwW8c0EpgT8ZSS4DtpGDP9m8+ELLMYY/5gsd5acLiT+T9px6+MCLP5ALlDVm6Y0/dNioR03Njz9c78eFtNqQPwHR5zE30JE/cJXyHabEkj+BE5UD+baTP7JtAiCvhpQ/H+quVGY2kz/ZYnWzWO2OP37buGpDaoc/F2mlusdsgT87ExF8V3Z5P8aFEEtbQHI/87yUrBX1aj99GgQROsxlP//LZUYnomI/YlZYwvQjYD/IrLNhGnRcP6HrGqPw9ls/+ctgaMu7Xj/jphmisOpgP1wcid/qQ2I/nTT0oyYgYz9uh160u09jP4hYsBX8y2k/hxMdrLQKcD84znGfcSlzP+nnfcdfv3Q/C/TGVkLBdT92M7UCyY92P1I0kOCmPHc/8ESDqg7Gej/xcOvIMjiCP6Xddg5WfYk/6DCmMwwslT8OfodHhyyhP2dlK8rNuag/frHJqqBTsD8PYJFfP0S0P/Iu/ZyZGLg/o/5A2nvIuz9APhnKJky/P+n6V7nET8E/DfYN6UPZwj8x1i+/cDrEPxn/oQ1+asU/EPFJBgRjxj95d4W6HyLHPzE+UJdaqcc/urjwMKv/xz8a1TPO8DDIP/qTvjGAR8g/qsUSnBtPyD/1Pwroz0jIP0+UxmCsDMg/02eLlPtXxz/bM0sC1NTFPxOB6h9EssM/iACWS5mKwT+kDVVrQAi/P8HTGjnB7bo/\",\"dtype\":\"float64\",\"shape\":[75]},\"y\":{\"__ndarray__\":\"GhExyth1ND/Sv8nbtpRIP2vylNV0PVE/aTum7souWD/At0SJ8fVgPw3Iuahxymc/MSNhhJWvcD/bTfBN02d3P2zb5nxnaoA/CD5h5MAGhz8NmeH1TyaQP+zrCsc9p5Y/LbKd76fGnz/bLW5ISEmmPww9YvTcQq8/JV2OstnstT8Er5Y7M8G+P0c+r3jqkcU/5h99k6ZBzj88bCIzFzjVP4enV8oyxN0//yH99nXg5D8qOpLLf0jtP5kqGJXUifQ/c9cS8kHP/D+/DpwzojQEQIEmwoanVwxA4lgXt9HgE0BSSZ2AJuIbQAMJih9jjiNA5q4l5INuK0AwTKYKRj0zQNv5fmq8/DpAaCJseHrtQkB/+zpwzoxKQM3MzMzMeFJAZmZmZmZqWEAAAAAAAFxeQM3MzMzMJmJAmpmZmZkfZUBmZmZmZhhoQDMzMzMzEWtAAAAAAAAKbkBmZmZmZoFwQM3MzMzM/XFAMzMzMzN6c0CamZmZmfZ0QAAAAAAAc3ZAZmZmZmbvd0DNzMzMzGt5QDMzMzMz6HpAmpmZmZlkfEAAAAAAAOF9QGZmZmZmXX9AZmZmZuZsgECamZmZGSuBQM3MzMxM6YFAAAAAAICngkAzMzMzs2WDQGZmZmbmI4RAmpmZmRnihEDNzMzMTKCFQAAAAACAXoZAMzMzM7Mch0BmZmZm5tqHQJqZmZkZmYhAzczMzExXiUAAAAAAgBWKQDMzMzOz04pAZmZmZuaRi0CamZmZGVCMQM3MzMxMDo1AAAAAAIDMjUAzMzMzs4qOQGZmZmbmSI9A\",\"dtype\":\"float64\",\"shape\":[75]}},\"selected\":{\"id\":\"468dcbfb-6b8b-47e8-b7d8-4d0c61e722e2\",\"type\":\"Selection\"},\"selection_policy\":{\"id\":\"42bbc646-bd9a-42f9-842d-4a41fa3d4b82\",\"type\":\"UnionRenderers\"}},\"id\":\"f44d0d41-f065-4eee-9f70-c766048d63e3\",\"type\":\"ColumnDataSource\"},{\"attributes\":{\"overlay\":{\"id\":\"e323e12d-a364-45d6-85d6-ad0b7b755d50\",\"type\":\"BoxAnnotation\"}},\"id\":\"896a6a64-2827-4fdd-82be-62ba037f1e34\",\"type\":\"BoxZoomTool\"},{\"attributes\":{\"callback\":null,\"data\":{\"x\":{\"__ndarray__\":\"r+5+MzYWYj/6YfZFUYZjP90zkWkbZWc/8pPg0Sphaz/9eaptyb1vP2Y0JP0lQXI/nysj1NkAdT9eLUJ0sht4P+Y2763Af3s/JRyGkGQvfz/Xv3G2VZmBP6Xwb3s6yoM/owcd+EErhj+40Um0uXGIPyr0XAdQUYo/0yEml7UDjD8PEgLvbcWNPwBUQaoAlo8/GmW5SWW6kD/EY+bSXbGRPzHUkb5xm5I/gj4ztkfXkT97LSUhSuGNPx2vzp68qYc/MGpB8Ptlgj9M3Rhxr/t7P3elN2zzsHQ/dsCVrlDLbj/EqlExTRZoPwlsVo5sTWM/72BlqNrLXj+5towkVeVYP5ayLX+VrlY/LdeS/jSvVz8HkTuWxolZP8+nC0LLi1s/b5NtA2cHXT+JfzXWYItdP6HIYyI282M/3Fq2AHNAaT+Vub9Sy8puP1pdh9gLBnE/UWUmxqowcj8QgPcPmyhzP5LUUfQRD3Q/yGldYYBPdz+X4nue/nV/P/w0p/jj6YU/+OO5aA9Okj8VFIArSweePwFVqccg8aU/tKvk8SGZrT97sfXhYLyyP3vnnhUbarY/4R3oulOuuT/ZzhhizMi8PxSYLd1NBcA/zq1KAe23wT+edZUHTFTDPzQ2bEL3uMQ/o03drvrQxT8GjAXw3JzGP+U8jN7jK8c/8dNdfkyQxz+wSelfs9jHP3lNOIl7C8g/DgucCdk7yD/TADm8e1vIP/WJlwItOMg/C6gFaaWUxz93hPSQACDGP0W6An5LCMQ/+MUh8sjlwT8VAneov8G/P3v8nIpttbs/\",\"dtype\":\"float64\",\"shape\":[75]},\"y\":{\"__ndarray__\":\"S/O/Q+51ND/Sv8nbtpRIP2vylNV0PVE/aTum7souWD/At0SJ8fVgPw3Iuahxymc/MSNhhJWvcD/bTfBN02d3P2zb5nxnaoA/CD5h5MAGhz8NmeH1TyaQP+zrCsc9p5Y/LbKd76fGnz/bLW5ISEmmPww9YvTcQq8/JV2OstnstT8Er5Y7M8G+P0c+r3jqkcU/5h99k6ZBzj88bCIzFzjVP4enV8oyxN0//yH99nXg5D8qOpLLf0jtP5kqGJXUifQ/c9cS8kHP/D+/DpwzojQEQIEmwoanVwxA4lgXt9HgE0BSSZ2AJuIbQAMJih9jjiNA5q4l5INuK0AwTKYKRj0zQNv5fmq8/DpAaCJseHrtQkB/+zpwzoxKQM3MzMzMeFJAZmZmZmZqWEAAAAAAAFxeQM3MzMzMJmJAmpmZmZkfZUBmZmZmZhhoQDMzMzMzEWtAAAAAAAAKbkBmZmZmZoFwQM3MzMzM/XFAMzMzMzN6c0CamZmZmfZ0QAAAAAAAc3ZAZmZmZmbvd0DNzMzMzGt5QDMzMzMz6HpAmpmZmZlkfEAAAAAAAOF9QGZmZmZmXX9AZmZmZuZsgECamZmZGSuBQM3MzMxM6YFAAAAAAICngkAzMzMzs2WDQGZmZmbmI4RAmpmZmRnihEDNzMzMTKCFQAAAAACAXoZAMzMzM7Mch0BmZmZm5tqHQJqZmZkZmYhAzczMzExXiUAAAAAAgBWKQDMzMzOz04pAZmZmZuaRi0CamZmZGVCMQM3MzMxMDo1AAAAAAIDMjUAzMzMzs4qOQGZmZmbmSI9A\",\"dtype\":\"float64\",\"shape\":[75]}},\"selected\":{\"id\":\"13b4abbb-8289-4e08-9212-f84d54df055b\",\"type\":\"Selection\"},\"selection_policy\":{\"id\":\"63b16a84-84eb-4b2b-9d7b-fb81b6e86b53\",\"type\":\"UnionRenderers\"}},\"id\":\"f4120fed-d338-4d2a-b830-1cebd3a03cc1\",\"type\":\"ColumnDataSource\"},{\"attributes\":{},\"id\":\"7df25b05-1b48-4664-a611-86367215c342\",\"type\":\"PanTool\"},{\"attributes\":{\"source\":{\"id\":\"7d0ff972-f38b-416a-8e0e-ee71e1aa8398\",\"type\":\"ColumnDataSource\"}},\"id\":\"4e8e043a-64be-49f8-b720-b71bd24e5a29\",\"type\":\"CDSView\"},{\"attributes\":{},\"id\":\"bdecbe0c-1b6b-4ab1-b3d3-ef79f9dbd26a\",\"type\":\"LogScale\"},{\"attributes\":{},\"id\":\"87bbe8ad-dd8a-4a7d-bbbc-1f664d2349e9\",\"type\":\"HelpTool\"},{\"attributes\":{\"items\":[{\"id\":\"c579363c-6358-4b43-9acc-93c6c536ee7a\",\"type\":\"LegendItem\"},{\"id\":\"1324bbed-7059-4cdf-b8e8-1af6c94148b2\",\"type\":\"LegendItem\"},{\"id\":\"90c91cd8-3a34-44f1-a61c-1e2c68811d74\",\"type\":\"LegendItem\"}],\"label_text_font_size\":{\"value\":\"8pt\"},\"location\":[10,-30],\"plot\":{\"id\":\"d1affdc2-f62a-43bc-b761-026d8f08655c\",\"subtype\":\"Figure\",\"type\":\"Plot\"}},\"id\":\"2aa0dd8e-6da0-4416-a26a-e0d20359833a\",\"type\":\"Legend\"},{\"attributes\":{},\"id\":\"f45ffbb7-d4b2-4d5c-92ab-518a4178164b\",\"type\":\"WheelZoomTool\"},{\"attributes\":{\"data_source\":{\"id\":\"f44d0d41-f065-4eee-9f70-c766048d63e3\",\"type\":\"ColumnDataSource\"},\"glyph\":{\"id\":\"8ab70c97-bfde-42f3-8c27-ccae12b50995\",\"type\":\"Circle\"},\"hover_glyph\":null,\"muted_glyph\":null,\"nonselection_glyph\":{\"id\":\"18e2e435-af34-4872-bd86-a6a67062c8a9\",\"type\":\"Circle\"},\"selection_glyph\":null,\"view\":{\"id\":\"f620cfcb-013a-49a6-a3a0-c1a5bd3c728b\",\"type\":\"CDSView\"}},\"id\":\"a1c1c944-7641-4089-a3f1-b82b42e5650e\",\"type\":\"GlyphRenderer\"},{\"attributes\":{\"dimension\":1,\"plot\":{\"id\":\"b2585b9a-304f-47cb-9316-81b23c28fcfc\",\"subtype\":\"Figure\",\"type\":\"Plot\"},\"ticker\":{\"id\":\"756b1c87-2c41-49e9-990e-5b63d804737e\",\"type\":\"BasicTicker\"}},\"id\":\"4cf640b5-8d67-44c2-894a-2dbd73dca5d2\",\"type\":\"Grid\"},{\"attributes\":{\"bottom_units\":\"screen\",\"fill_alpha\":{\"value\":0.5},\"fill_color\":{\"value\":\"lightgrey\"},\"left_units\":\"screen\",\"level\":\"overlay\",\"line_alpha\":{\"value\":1.0},\"line_color\":{\"value\":\"black\"},\"line_dash\":[4,4],\"line_width\":{\"value\":2},\"plot\":null,\"render_mode\":\"css\",\"right_units\":\"screen\",\"top_units\":\"screen\"},\"id\":\"8716ed85-1f68-4889-9ac6-deb68df77dbd\",\"type\":\"BoxAnnotation\"},{\"attributes\":{\"dimension\":1,\"plot\":{\"id\":\"d1affdc2-f62a-43bc-b761-026d8f08655c\",\"subtype\":\"Figure\",\"type\":\"Plot\"},\"ticker\":{\"id\":\"c42a8686-6fcd-4008-b41f-636f566dd407\",\"type\":\"LogTicker\"}},\"id\":\"d920e9d2-45f1-437b-869a-733671a52adf\",\"type\":\"Grid\"},{\"attributes\":{\"line_alpha\":0.1,\"line_color\":\"#1f77b4\",\"line_width\":3,\"x\":{\"field\":\"x\"},\"y\":{\"field\":\"y\"}},\"id\":\"830ee21d-7323-44db-ba1d-6d35b1e9314e\",\"type\":\"Line\"},{\"attributes\":{},\"id\":\"9331d3fd-f3cb-479f-ae2c-de766be98068\",\"type\":\"SaveTool\"},{\"attributes\":{\"source\":{\"id\":\"f44d0d41-f065-4eee-9f70-c766048d63e3\",\"type\":\"ColumnDataSource\"}},\"id\":\"f620cfcb-013a-49a6-a3a0-c1a5bd3c728b\",\"type\":\"CDSView\"},{\"attributes\":{\"fill_alpha\":{\"value\":0.1},\"fill_color\":{\"value\":\"#1f77b4\"},\"line_alpha\":{\"value\":0.1},\"line_color\":{\"value\":\"#1f77b4\"},\"x\":{\"field\":\"x\"},\"y\":{\"field\":\"y\"}},\"id\":\"2eb6fbcb-40c5-4812-b9ac-911e9fe177de\",\"type\":\"Square\"},{\"attributes\":{},\"id\":\"14895f2b-cde4-4b82-8b97-0b4569af9810\",\"type\":\"WheelZoomTool\"},{\"attributes\":{\"callback\":null,\"data\":{\"x\":{\"__ndarray__\":\"dy43cMvgYD+rlmvi4IpiP0Kbh9tzMWY/wtN6MzxQaj+bFUHjiOVuP+XOV9bg+3E/zh3q0RfMdD+9dr6KK+h3P56PElXBVXs/jQY8HOMafz+IcmTnQ6KBP8cVUAE46oM/lfMHk9phhj/cTrlFwsGIPwgvMP/Rkoo/bY4V6G5QjD+QIU69gQ2OPzvBIrKi2Y8/JToYyKrakD9MYYkZTs6RPz+UykP2q5I/BYACJjC9kT9tG56gJEuNPz4nZdqW4oY/+/PFpOCTgT9Nw3YO7Xp6P36ociQ0e3M/ik37EloYbT+UJahYWDlnPwwEKGU0QWM/lloRd18NYD9Fl2ch7DBbP/rpCWul7Vk/ut0d1dsgXD/gIkh+XhlfP79h08KTEWE/NzGPZHg0Yj//IRJYzKdiP1fCVB8CRWk/4uZFQWPQbz+DkZep0S1zP/P5BVAf4nQ/1PG8R97wdT8z9FdUvsJ2Pxrcy5LBbnc/YxkmgF3hej/5gl4fnSGCP8NVTq9mOok/YbpG3znrlD8AJCVgivigP+XnP5KKeqg/5CxtM7wysD86Xbqv3iC0P6Sim9sC1Lc/hVuP6tg+uz+q3jWizXm+P9Te9TYt1cA/UMr66Gxhwj/JCr0Y4s3DP5xaf1n1AsU/bnqr1Q73xT/b1/xlV6jGP2HPWTxmJcc/yCP3sdl3xz9Ddbs8n6zHP8EOCJKQzMc/FAXXFyngxz8eXKNRsOXHP99FGXUEtMc/RxM5eNwJxz+asZ3tNJPFP3u+HEfifcM/cFls+aBhwT96gQgzdcm+P5Vqnwcux7o/\",\"dtype\":\"float64\",\"shape\":[75]},\"y\":{\"__ndarray__\":\"GhExyth1ND/Sv8nbtpRIP2vylNV0PVE/aTum7souWD/At0SJ8fVgPw3Iuahxymc/MSNhhJWvcD/bTfBN02d3P2zb5nxnaoA/CD5h5MAGhz8NmeH1TyaQP+zrCsc9p5Y/LbKd76fGnz/bLW5ISEmmPww9YvTcQq8/JV2OstnstT8Er5Y7M8G+P0c+r3jqkcU/5h99k6ZBzj88bCIzFzjVP4enV8oyxN0//yH99nXg5D8qOpLLf0jtP5kqGJXUifQ/c9cS8kHP/D+/DpwzojQEQIEmwoanVwxA4lgXt9HgE0BSSZ2AJuIbQAMJih9jjiNA5q4l5INuK0AwTKYKRj0zQNv5fmq8/DpAaCJseHrtQkB/+zpwzoxKQM3MzMzMeFJAZmZmZmZqWEAAAAAAAFxeQM3MzMzMJmJAmpmZmZkfZUBmZmZmZhhoQDMzMzMzEWtAAAAAAAAKbkBmZmZmZoFwQM3MzMzM/XFAMzMzMzN6c0CamZmZmfZ0QAAAAAAAc3ZAZmZmZmbvd0DNzMzMzGt5QDMzMzMz6HpAmpmZmZlkfEAAAAAAAOF9QGZmZmZmXX9AZmZmZuZsgECamZmZGSuBQM3MzMxM6YFAAAAAAICngkAzMzMzs2WDQGZmZmbmI4RAmpmZmRnihEDNzMzMTKCFQAAAAACAXoZAMzMzM7Mch0BmZmZm5tqHQJqZmZkZmYhAzczMzExXiUAAAAAAgBWKQDMzMzOz04pAZmZmZuaRi0CamZmZGVCMQM3MzMxMDo1AAAAAAIDMjUAzMzMzs4qOQGZmZmbmSI9A\",\"dtype\":\"float64\",\"shape\":[75]}},\"selected\":{\"id\":\"20bae663-cbf7-461c-b2ea-be3b959692d4\",\"type\":\"Selection\"},\"selection_policy\":{\"id\":\"98624215-f659-4c0b-86ee-8d5c214c9e58\",\"type\":\"UnionRenderers\"}},\"id\":\"f27ed0e7-3fbd-434a-b3b4-a1d0b1aa13b4\",\"type\":\"ColumnDataSource\"},{\"attributes\":{},\"id\":\"1fea41d7-4758-4c9f-a00e-204f6c03993e\",\"type\":\"HelpTool\"},{\"attributes\":{\"active_drag\":\"auto\",\"active_inspect\":\"auto\",\"active_scroll\":\"auto\",\"active_tap\":\"auto\",\"tools\":[{\"id\":\"d9a89f92-85c2-4396-bed5-ac4e6f057bc5\",\"type\":\"PanTool\"},{\"id\":\"f45ffbb7-d4b2-4d5c-92ab-518a4178164b\",\"type\":\"WheelZoomTool\"},{\"id\":\"896a6a64-2827-4fdd-82be-62ba037f1e34\",\"type\":\"BoxZoomTool\"},{\"id\":\"969fdf94-06b1-42ec-8319-b479f99c29dd\",\"type\":\"SaveTool\"},{\"id\":\"20ce96ae-15c3-495b-bf02-ea8201055c36\",\"type\":\"ResetTool\"},{\"id\":\"87bbe8ad-dd8a-4a7d-bbbc-1f664d2349e9\",\"type\":\"HelpTool\"}]},\"id\":\"45aa696d-496a-421b-b120-9c7dc2d63375\",\"type\":\"Toolbar\"},{\"attributes\":{},\"id\":\"20ce96ae-15c3-495b-bf02-ea8201055c36\",\"type\":\"ResetTool\"},{\"attributes\":{\"callback\":null,\"data\":{\"x\":{\"__ndarray__\":\"dy43cMvgYD+rlmvi4IpiP0Kbh9tzMWY/wtN6MzxQaj+bFUHjiOVuP+XOV9bg+3E/zh3q0RfMdD+9dr6KK+h3P56PElXBVXs/jQY8HOMafz+IcmTnQ6KBP8cVUAE46oM/lfMHk9phhj/cTrlFwsGIPwgvMP/Rkoo/bY4V6G5QjD+QIU69gQ2OPzvBIrKi2Y8/JToYyKrakD9MYYkZTs6RPz+UykP2q5I/BYACJjC9kT9tG56gJEuNPz4nZdqW4oY/+/PFpOCTgT9Nw3YO7Xp6P36ociQ0e3M/ik37EloYbT+UJahYWDlnPwwEKGU0QWM/lloRd18NYD9Fl2ch7DBbP/rpCWul7Vk/ut0d1dsgXD/gIkh+XhlfP79h08KTEWE/NzGPZHg0Yj//IRJYzKdiP1fCVB8CRWk/4uZFQWPQbz+DkZep0S1zP/P5BVAf4nQ/1PG8R97wdT8z9FdUvsJ2Pxrcy5LBbnc/YxkmgF3hej/5gl4fnSGCP8NVTq9mOok/YbpG3znrlD8AJCVgivigP+XnP5KKeqg/5CxtM7wysD86Xbqv3iC0P6Sim9sC1Lc/hVuP6tg+uz+q3jWizXm+P9Te9TYt1cA/UMr66Gxhwj/JCr0Y4s3DP5xaf1n1AsU/bnqr1Q73xT/b1/xlV6jGP2HPWTxmJcc/yCP3sdl3xz9Ddbs8n6zHP8EOCJKQzMc/FAXXFyngxz8eXKNRsOXHP99FGXUEtMc/RxM5eNwJxz+asZ3tNJPFP3u+HEfifcM/cFls+aBhwT96gQgzdcm+P5Vqnwcux7o/\",\"dtype\":\"float64\",\"shape\":[75]},\"y\":{\"__ndarray__\":\"GhExyth1ND/Sv8nbtpRIP2vylNV0PVE/aTum7souWD/At0SJ8fVgPw3Iuahxymc/MSNhhJWvcD/bTfBN02d3P2zb5nxnaoA/CD5h5MAGhz8NmeH1TyaQP+zrCsc9p5Y/LbKd76fGnz/bLW5ISEmmPww9YvTcQq8/JV2OstnstT8Er5Y7M8G+P0c+r3jqkcU/5h99k6ZBzj88bCIzFzjVP4enV8oyxN0//yH99nXg5D8qOpLLf0jtP5kqGJXUifQ/c9cS8kHP/D+/DpwzojQEQIEmwoanVwxA4lgXt9HgE0BSSZ2AJuIbQAMJih9jjiNA5q4l5INuK0AwTKYKRj0zQNv5fmq8/DpAaCJseHrtQkB/+zpwzoxKQM3MzMzMeFJAZmZmZmZqWEAAAAAAAFxeQM3MzMzMJmJAmpmZmZkfZUBmZmZmZhhoQDMzMzMzEWtAAAAAAAAKbkBmZmZmZoFwQM3MzMzM/XFAMzMzMzN6c0CamZmZmfZ0QAAAAAAAc3ZAZmZmZmbvd0DNzMzMzGt5QDMzMzMz6HpAmpmZmZlkfEAAAAAAAOF9QGZmZmZmXX9AZmZmZuZsgECamZmZGSuBQM3MzMxM6YFAAAAAAICngkAzMzMzs2WDQGZmZmbmI4RAmpmZmRnihEDNzMzMTKCFQAAAAACAXoZAMzMzM7Mch0BmZmZm5tqHQJqZmZkZmYhAzczMzExXiUAAAAAAgBWKQDMzMzOz04pAZmZmZuaRi0CamZmZGVCMQM3MzMxMDo1AAAAAAIDMjUAzMzMzs4qOQGZmZmbmSI9A\",\"dtype\":\"float64\",\"shape\":[75]}},\"selected\":{\"id\":\"8e18cad4-f1c0-4817-a3ec-bab9a74c79eb\",\"type\":\"Selection\"},\"selection_policy\":{\"id\":\"301e2803-b211-4118-aa67-36792983645f\",\"type\":\"UnionRenderers\"}},\"id\":\"7b3383b5-5abd-427e-90b1-50418e2b33ae\",\"type\":\"ColumnDataSource\"},{\"attributes\":{\"overlay\":{\"id\":\"8716ed85-1f68-4889-9ac6-deb68df77dbd\",\"type\":\"BoxAnnotation\"}},\"id\":\"777ebed8-31e1-497b-8bd4-50ee8825be65\",\"type\":\"BoxZoomTool\"},{\"attributes\":{},\"id\":\"70d1ff47-40eb-4dbb-8ca5-d3c331b62c2e\",\"type\":\"ResetTool\"}],\"root_ids\":[\"d750f659-e3f8-49e9-b2d5-4dd51a91759d\"]},\"title\":\"Bokeh Application\",\"version\":\"0.12.16\"}};\n",
       "  var render_items = [{\"docid\":\"e95eeda3-a26c-4274-9eb0-d0ea4e8d7ae5\",\"elementid\":\"50485a65-e701-4aea-a8a7-c5a8bde91ea7\",\"modelid\":\"d750f659-e3f8-49e9-b2d5-4dd51a91759d\"}];\n",
       "  root.Bokeh.embed.embed_items_notebook(docs_json, render_items);\n",
       "\n",
       "  }\n",
       "  if (root.Bokeh !== undefined) {\n",
       "    embed_document(root);\n",
       "  } else {\n",
       "    var attempts = 0;\n",
       "    var timer = setInterval(function(root) {\n",
       "      if (root.Bokeh !== undefined) {\n",
       "        embed_document(root);\n",
       "        clearInterval(timer);\n",
       "      }\n",
       "      attempts++;\n",
       "      if (attempts > 100) {\n",
       "        console.log(\"Bokeh: ERROR: Unable to run BokehJS code because BokehJS library is missing\")\n",
       "        clearInterval(timer);\n",
       "      }\n",
       "    }, 10, root)\n",
       "  }\n",
       "})(window);"
      ],
      "application/vnd.bokehjs_exec.v0+json": ""
     },
     "metadata": {
      "application/vnd.bokehjs_exec.v0+json": {
       "id": "d750f659-e3f8-49e9-b2d5-4dd51a91759d"
      }
     },
     "output_type": "display_data"
    },
    {
     "name": "stdout",
     "output_type": "stream",
     "text": [
      "FIGURE. Cooling rate profiles.\n"
     ]
    },
    {
     "data": {
      "text/html": [
       "<a id=\"Flux_Comparison\"></a>"
      ],
      "text/plain": [
       "<IPython.core.display.HTML object>"
      ]
     },
     "metadata": {},
     "output_type": "display_data"
    },
    {
     "data": {
      "text/markdown": [
       "# Flux Comparison"
      ],
      "text/plain": [
       "<IPython.core.display.Markdown object>"
      ]
     },
     "metadata": {},
     "output_type": "display_data"
    },
    {
     "data": {
      "text/html": [
       "<div>\n",
       "<style scoped>\n",
       "    .dataframe tbody tr th:only-of-type {\n",
       "        vertical-align: middle;\n",
       "    }\n",
       "\n",
       "    .dataframe tbody tr th {\n",
       "        vertical-align: top;\n",
       "    }\n",
       "\n",
       "    .dataframe thead th {\n",
       "        text-align: right;\n",
       "    }\n",
       "</style>\n",
       "<table border=\"1\" class=\"dataframe\">\n",
       "  <thead>\n",
       "    <tr style=\"text-align: right;\">\n",
       "      <th></th>\n",
       "      <th></th>\n",
       "      <th>flug</th>\n",
       "      <th>fldg</th>\n",
       "      <th>fnetg</th>\n",
       "    </tr>\n",
       "    <tr>\n",
       "      <th>pressure</th>\n",
       "      <th>level</th>\n",
       "      <th></th>\n",
       "      <th></th>\n",
       "      <th></th>\n",
       "    </tr>\n",
       "  </thead>\n",
       "  <tbody>\n",
       "    <tr>\n",
       "      <th>0.0000</th>\n",
       "      <th>1</th>\n",
       "      <td>-22.503850</td>\n",
       "      <td>0.000000</td>\n",
       "      <td>-22.503850</td>\n",
       "    </tr>\n",
       "    <tr>\n",
       "      <th>1.0685</th>\n",
       "      <th>24</th>\n",
       "      <td>-22.503284</td>\n",
       "      <td>0.001611</td>\n",
       "      <td>-22.501673</td>\n",
       "    </tr>\n",
       "    <tr>\n",
       "      <th>1013.0000</th>\n",
       "      <th>76</th>\n",
       "      <td>-23.591138</td>\n",
       "      <td>11.781515</td>\n",
       "      <td>-11.809623</td>\n",
       "    </tr>\n",
       "  </tbody>\n",
       "</table>\n",
       "</div>"
      ],
      "text/plain": [
       "                      flug       fldg      fnetg\n",
       "pressure  level                                 \n",
       "0.0000    1     -22.503850   0.000000 -22.503850\n",
       "1.0685    24    -22.503284   0.001611 -22.501673\n",
       "1013.0000 76    -23.591138  11.781515 -11.809623"
      ]
     },
     "metadata": {},
     "output_type": "display_data"
    },
    {
     "name": "stdout",
     "output_type": "stream",
     "text": [
      "Table. Fluxes. CRD\n"
     ]
    },
    {
     "data": {
      "text/html": [
       "<div>\n",
       "<style scoped>\n",
       "    .dataframe tbody tr th:only-of-type {\n",
       "        vertical-align: middle;\n",
       "    }\n",
       "\n",
       "    .dataframe tbody tr th {\n",
       "        vertical-align: top;\n",
       "    }\n",
       "\n",
       "    .dataframe thead th {\n",
       "        text-align: right;\n",
       "    }\n",
       "</style>\n",
       "<table border=\"1\" class=\"dataframe\">\n",
       "  <thead>\n",
       "    <tr style=\"text-align: right;\">\n",
       "      <th></th>\n",
       "      <th></th>\n",
       "      <th>flug</th>\n",
       "      <th>fldg</th>\n",
       "      <th>fnetg</th>\n",
       "    </tr>\n",
       "    <tr>\n",
       "      <th>pressure</th>\n",
       "      <th>level</th>\n",
       "      <th></th>\n",
       "      <th></th>\n",
       "      <th></th>\n",
       "    </tr>\n",
       "  </thead>\n",
       "  <tbody>\n",
       "    <tr>\n",
       "      <th>0.0000</th>\n",
       "      <th>1</th>\n",
       "      <td>-22.503938</td>\n",
       "      <td>0.000000</td>\n",
       "      <td>-22.503938</td>\n",
       "    </tr>\n",
       "    <tr>\n",
       "      <th>1.0685</th>\n",
       "      <th>24</th>\n",
       "      <td>-22.503379</td>\n",
       "      <td>0.001439</td>\n",
       "      <td>-22.501940</td>\n",
       "    </tr>\n",
       "    <tr>\n",
       "      <th>1013.0000</th>\n",
       "      <th>76</th>\n",
       "      <td>-23.591137</td>\n",
       "      <td>11.601337</td>\n",
       "      <td>-11.989801</td>\n",
       "    </tr>\n",
       "  </tbody>\n",
       "</table>\n",
       "</div>"
      ],
      "text/plain": [
       "                      flug       fldg      fnetg\n",
       "pressure  level                                 \n",
       "0.0000    1     -22.503938   0.000000 -22.503938\n",
       "1.0685    24    -22.503379   0.001439 -22.501940\n",
       "1013.0000 76    -23.591137  11.601337 -11.989801"
      ]
     },
     "metadata": {},
     "output_type": "display_data"
    },
    {
     "name": "stdout",
     "output_type": "stream",
     "text": [
      "Table. Fluxes. WGT igg=10 wgt_flux=1\n"
     ]
    },
    {
     "data": {
      "text/html": [
       "<div>\n",
       "<style scoped>\n",
       "    .dataframe tbody tr th:only-of-type {\n",
       "        vertical-align: middle;\n",
       "    }\n",
       "\n",
       "    .dataframe tbody tr th {\n",
       "        vertical-align: top;\n",
       "    }\n",
       "\n",
       "    .dataframe thead th {\n",
       "        text-align: right;\n",
       "    }\n",
       "</style>\n",
       "<table border=\"1\" class=\"dataframe\">\n",
       "  <thead>\n",
       "    <tr style=\"text-align: right;\">\n",
       "      <th></th>\n",
       "      <th></th>\n",
       "      <th>flug</th>\n",
       "      <th>fldg</th>\n",
       "      <th>fnetg</th>\n",
       "    </tr>\n",
       "    <tr>\n",
       "      <th>pressure</th>\n",
       "      <th>level</th>\n",
       "      <th></th>\n",
       "      <th></th>\n",
       "      <th></th>\n",
       "    </tr>\n",
       "  </thead>\n",
       "  <tbody>\n",
       "    <tr>\n",
       "      <th>1.000000e-08</th>\n",
       "      <th>1</th>\n",
       "      <td>-22.584901</td>\n",
       "      <td>0.000002</td>\n",
       "      <td>-22.584899</td>\n",
       "    </tr>\n",
       "    <tr>\n",
       "      <th>1.068500e+00</th>\n",
       "      <th>24</th>\n",
       "      <td>-22.584320</td>\n",
       "      <td>0.001426</td>\n",
       "      <td>-22.582894</td>\n",
       "    </tr>\n",
       "    <tr>\n",
       "      <th>1.013000e+03</th>\n",
       "      <th>76</th>\n",
       "      <td>-23.591140</td>\n",
       "      <td>11.431329</td>\n",
       "      <td>-12.159811</td>\n",
       "    </tr>\n",
       "  </tbody>\n",
       "</table>\n",
       "</div>"
      ],
      "text/plain": [
       "                         flug       fldg      fnetg\n",
       "pressure     level                                 \n",
       "1.000000e-08 1     -22.584901   0.000002 -22.584899\n",
       "1.068500e+00 24    -22.584320   0.001426 -22.582894\n",
       "1.013000e+03 76    -23.591140  11.431329 -12.159811"
      ]
     },
     "metadata": {},
     "output_type": "display_data"
    },
    {
     "name": "stdout",
     "output_type": "stream",
     "text": [
      "Table. Fluxes. CLIRAD\n"
     ]
    },
    {
     "data": {
      "text/html": [
       "<div>\n",
       "<style scoped>\n",
       "    .dataframe tbody tr th:only-of-type {\n",
       "        vertical-align: middle;\n",
       "    }\n",
       "\n",
       "    .dataframe tbody tr th {\n",
       "        vertical-align: top;\n",
       "    }\n",
       "\n",
       "    .dataframe thead th {\n",
       "        text-align: right;\n",
       "    }\n",
       "</style>\n",
       "<table border=\"1\" class=\"dataframe\">\n",
       "  <thead>\n",
       "    <tr style=\"text-align: right;\">\n",
       "      <th></th>\n",
       "      <th></th>\n",
       "      <th>flug</th>\n",
       "      <th>fldg</th>\n",
       "      <th>fnetg</th>\n",
       "    </tr>\n",
       "    <tr>\n",
       "      <th>pressure</th>\n",
       "      <th>level</th>\n",
       "      <th></th>\n",
       "      <th></th>\n",
       "      <th></th>\n",
       "    </tr>\n",
       "  </thead>\n",
       "  <tbody>\n",
       "    <tr>\n",
       "      <th>0.0000</th>\n",
       "      <th>1</th>\n",
       "      <td>-8.848490e-05</td>\n",
       "      <td>0.000000</td>\n",
       "      <td>-0.000088</td>\n",
       "    </tr>\n",
       "    <tr>\n",
       "      <th>1.0685</th>\n",
       "      <th>24</th>\n",
       "      <td>-9.461710e-05</td>\n",
       "      <td>-0.000173</td>\n",
       "      <td>-0.000267</td>\n",
       "    </tr>\n",
       "    <tr>\n",
       "      <th>1013.0000</th>\n",
       "      <th>76</th>\n",
       "      <td>6.810000e-07</td>\n",
       "      <td>-0.180178</td>\n",
       "      <td>-0.180178</td>\n",
       "    </tr>\n",
       "  </tbody>\n",
       "</table>\n",
       "</div>"
      ],
      "text/plain": [
       "                         flug      fldg     fnetg\n",
       "pressure  level                                  \n",
       "0.0000    1     -8.848490e-05  0.000000 -0.000088\n",
       "1.0685    24    -9.461710e-05 -0.000173 -0.000267\n",
       "1013.0000 76     6.810000e-07 -0.180178 -0.180178"
      ]
     },
     "metadata": {},
     "output_type": "display_data"
    },
    {
     "name": "stdout",
     "output_type": "stream",
     "text": [
      "Table. Fluxes. (WGT igg=10 wgt_flux=1) - (CRD)\n"
     ]
    },
    {
     "data": {
      "text/html": [
       "<div>\n",
       "<style scoped>\n",
       "    .dataframe tbody tr th:only-of-type {\n",
       "        vertical-align: middle;\n",
       "    }\n",
       "\n",
       "    .dataframe tbody tr th {\n",
       "        vertical-align: top;\n",
       "    }\n",
       "\n",
       "    .dataframe thead th {\n",
       "        text-align: right;\n",
       "    }\n",
       "</style>\n",
       "<table border=\"1\" class=\"dataframe\">\n",
       "  <thead>\n",
       "    <tr style=\"text-align: right;\">\n",
       "      <th></th>\n",
       "      <th></th>\n",
       "      <th>flug</th>\n",
       "      <th>fldg</th>\n",
       "      <th>fnetg</th>\n",
       "    </tr>\n",
       "    <tr>\n",
       "      <th>pressure</th>\n",
       "      <th>level</th>\n",
       "      <th></th>\n",
       "      <th></th>\n",
       "      <th></th>\n",
       "    </tr>\n",
       "  </thead>\n",
       "  <tbody>\n",
       "    <tr>\n",
       "      <th>0.0000</th>\n",
       "      <th>1</th>\n",
       "      <td>-0.081051</td>\n",
       "      <td>0.000002</td>\n",
       "      <td>-0.081049</td>\n",
       "    </tr>\n",
       "    <tr>\n",
       "      <th>1.0685</th>\n",
       "      <th>24</th>\n",
       "      <td>-0.081036</td>\n",
       "      <td>-0.000185</td>\n",
       "      <td>-0.081221</td>\n",
       "    </tr>\n",
       "    <tr>\n",
       "      <th>1013.0000</th>\n",
       "      <th>76</th>\n",
       "      <td>-0.000002</td>\n",
       "      <td>-0.350186</td>\n",
       "      <td>-0.350188</td>\n",
       "    </tr>\n",
       "  </tbody>\n",
       "</table>\n",
       "</div>"
      ],
      "text/plain": [
       "                     flug      fldg     fnetg\n",
       "pressure  level                              \n",
       "0.0000    1     -0.081051  0.000002 -0.081049\n",
       "1.0685    24    -0.081036 -0.000185 -0.081221\n",
       "1013.0000 76    -0.000002 -0.350186 -0.350188"
      ]
     },
     "metadata": {},
     "output_type": "display_data"
    },
    {
     "name": "stdout",
     "output_type": "stream",
     "text": [
      "Table. Fluxes. (CLIRAD) - (CRD)\n"
     ]
    },
    {
     "data": {
      "text/html": [
       "<a id=\"Best-fit_Parameters\"></a>"
      ],
      "text/plain": [
       "<IPython.core.display.HTML object>"
      ]
     },
     "metadata": {},
     "output_type": "display_data"
    },
    {
     "data": {
      "text/markdown": [
       "# Best-fit Parameters"
      ],
      "text/plain": [
       "<IPython.core.display.Markdown object>"
      ]
     },
     "metadata": {},
     "output_type": "display_data"
    },
    {
     "name": "stdout",
     "output_type": "stream",
     "text": [
      "Best-fit values for each (gas, band)\n",
      "------------------------------------\n",
      "o h2o band3a\n",
      "  atmpro = mls\n",
      "  band = 3a\n",
      "  commitnumber = a06b618\n",
      "  conc = None\n",
      "  dv = 0.001\n",
      "  klin = 0\n",
      "  molecule = h2o\n",
      "  ng_adju = [0, 0]\n",
      "  ng_refs = [2, 6]\n",
      "  nv = 1000\n",
      "  option_compute_btable = 0\n",
      "  option_compute_ktable = 1\n",
      "  option_wgt_flux = 1\n",
      "  option_wgt_k = 1\n",
      "  ref_pts = [(10, 250), (600, 250)]\n",
      "  tsfc = 294\n",
      "  vmax = 620\n",
      "  vmin = 540\n",
      "  w_diffuse = [(1.9, 1.7), (1.4, 1.4, 1.4, 1.55, 1.6, 1.66)]\n",
      "  wgt = [(0.7, 0.7), (0.7, 0.5, 0.5, 0.5, 0.5, 0.5)]\n"
     ]
    }
   ],
   "source": [
    "script()"
   ]
  },
  {
   "cell_type": "code",
   "execution_count": 13,
   "metadata": {
    "collapsed": true
   },
   "outputs": [
    {
     "data": {
      "text/html": [
       "<script>\n",
       "code_show=true; \n",
       "function code_toggle() {\n",
       " if (code_show){\n",
       " $('div.input').hide();\n",
       " } else {\n",
       " $('div.input').show();\n",
       " }\n",
       " code_show = !code_show\n",
       "} \n",
       "$( document ).ready(code_toggle);\n",
       "</script>\n",
       "<form action=\"javascript:code_toggle()\"><input type=\"submit\" value=\"Click here to toggle on/off the raw code.\"></form>"
      ],
      "text/plain": [
       "<IPython.core.display.HTML object>"
      ]
     },
     "execution_count": 13,
     "metadata": {},
     "output_type": "execute_result"
    }
   ],
   "source": [
    "display.HTML('''<script>\n",
    "code_show=true; \n",
    "function code_toggle() {\n",
    " if (code_show){\n",
    " $('div.input').hide();\n",
    " } else {\n",
    " $('div.input').show();\n",
    " }\n",
    " code_show = !code_show\n",
    "} \n",
    "$( document ).ready(code_toggle);\n",
    "</script>\n",
    "<form action=\"javascript:code_toggle()\"><input type=\"submit\" value=\"Click here to toggle on/off the raw code.\"></form>''')"
   ]
  }
 ],
 "metadata": {
  "kernelspec": {
   "display_name": "Python 3",
   "language": "python",
   "name": "python3"
  },
  "language_info": {
   "codemirror_mode": {
    "name": "ipython",
    "version": 3
   },
   "file_extension": ".py",
   "mimetype": "text/x-python",
   "name": "python",
   "nbconvert_exporter": "python",
   "pygments_lexer": "ipython3",
   "version": "3.6.1"
  }
 },
 "nbformat": 4,
 "nbformat_minor": 2
}
