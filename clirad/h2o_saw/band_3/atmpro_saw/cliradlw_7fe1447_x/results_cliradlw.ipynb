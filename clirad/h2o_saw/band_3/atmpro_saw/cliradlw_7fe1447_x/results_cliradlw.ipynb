{
 "cells": [
  {
   "cell_type": "code",
   "execution_count": 1,
   "metadata": {
    "collapsed": true
   },
   "outputs": [],
   "source": [
    "%matplotlib inline\n",
    "import os\n",
    "import re\n",
    "import io\n",
    "import itertools\n",
    "import pprint\n",
    "\n",
    "from bokeh.io import output_notebook, show\n",
    "from bokeh.layouts import gridplot\n",
    "from bokeh.plotting import figure\n",
    "from bokeh.models import Range1d, Legend\n",
    "from bokeh.palettes import all_palettes\n",
    "\n",
    "import matplotlib\n",
    "import matplotlib.pyplot as plt\n",
    "import numpy as np\n",
    "import pandas as pd\n",
    "import xarray as xr\n",
    "\n",
    "import climatools.lblnew.bestfit_params as bestfits\n",
    "from climatools.lblnew import setup_bestfit, setup_overlap\n",
    "import climatools.lblnew.pipeline as pipe_lblnew\n",
    "import climatools.cliradlw.setup as setup_cliradlw\n",
    "import climatools.cliradlw.pipeline as pipe_cliradlw\n",
    "\n",
    "import climatools.html.html as climahtml\n",
    "from climatools.lblnew.dataio import *\n",
    "from climatools.plot.plot import *\n",
    "\n",
    "\n",
    "import IPython.display as display"
   ]
  },
  {
   "cell_type": "code",
   "execution_count": 2,
   "metadata": {
    "collapsed": true
   },
   "outputs": [],
   "source": [
    "%run param.py"
   ]
  },
  {
   "cell_type": "code",
   "execution_count": 3,
   "metadata": {
    "collapsed": true
   },
   "outputs": [],
   "source": [
    "def load_output_file(path_csv):\n",
    "    '''\n",
    "    Load lblnew output .csv file to xarray.Dataset\n",
    "    \n",
    "    Parameters\n",
    "    ----------\n",
    "    path_csv: str\n",
    "              Path to the .csv file to be loaded.\n",
    "    ds: xarray.Dataset\n",
    "        Data in the input file in the form of an xarray.Dataset.\n",
    "    '''\n",
    "    toindex = ['band', 'pressure', 'igg', 'g']    \n",
    "    df = pd.read_csv(path_csv, sep=r'\\s+')\n",
    "    df = df.set_index([i for i in toindex if i in df.columns])\n",
    "    df = df.rename(columns={'sfu': 'flug',\n",
    "                            'sfd': 'fldg',\n",
    "                            'fnet': 'fnetg',\n",
    "                            'coolr': 'coolrg'})\n",
    "    ds = xr.Dataset.from_dataframe(df)\n",
    "\n",
    "    for l in ('level', 'layer'):\n",
    "        if l in ds.data_vars:\n",
    "            if len(ds[l].dims) > 1:\n",
    "                surface = {d: 0 for d in ds.dims if d != 'pressure'}\n",
    "                coord_level = ds[l][surface]\n",
    "                ds.coords[l] = ('pressure', coord_level)\n",
    "            else:\n",
    "                ds.coords[l] = ('pressure', ds[l])\n",
    "    \n",
    "    return ds"
   ]
  },
  {
   "cell_type": "code",
   "execution_count": 4,
   "metadata": {
    "collapsed": true
   },
   "outputs": [],
   "source": [
    "def lblnew_setup(param=None):\n",
    "    if 'ng_refs' in param:\n",
    "        return {'setup': setup_bestfit,\n",
    "                'fname_flux_crd': 'output_flux.dat',\n",
    "                'fname_cool_crd': 'output_coolr.dat',\n",
    "                'fname_flux_wgt': 'output_wfluxg.dat',\n",
    "                'fname_cool_wgt': 'output_wcoolrg.dat'}\n",
    "    else:\n",
    "        return {'setup': setup_overlap,\n",
    "                'fname_flux_crd': 'output_flux.dat',\n",
    "                'fname_cool_crd': 'output_coolr.dat',\n",
    "                'fname_flux_wgt': 'output_wflux.dat',\n",
    "                'fname_cool_wgt': 'output_wcoolr.dat'}\n",
    "\n",
    "    \n",
    "def load_lblnew_data(param):\n",
    "    \n",
    "    fname_dsname = [('fname_flux_crd', 'ds_flux_crd'),\n",
    "                    ('fname_cool_crd', 'ds_cool_crd'),\n",
    "                    ('fname_flux_wgt', 'ds_flux_wgt'),\n",
    "                    ('fname_cool_wgt', 'ds_cool_wgt')]\n",
    "    \n",
    "    d = lblnew_setup(param)\n",
    "    dir_fortran = pipe_lblnew.get_dir_case(param, setup=d['setup'])\n",
    "    \n",
    "    data_dict = {}\n",
    "    for fname, dsname in fname_dsname:\n",
    "        fpath = os.path.join(dir_fortran, d[fname])\n",
    "        data_dict[dsname] = load_output_file(fpath)\n",
    "    return data_dict\n",
    "    \n",
    "\n",
    "    \n",
    "    "
   ]
  },
  {
   "cell_type": "code",
   "execution_count": 5,
   "metadata": {
    "collapsed": true
   },
   "outputs": [],
   "source": [
    "d = load_lblnew_data(PARAM_LBLNEW)\n",
    "\n",
    "DS_FLUX_CRD = d['ds_flux_crd']\n",
    "DS_COOL_CRD = d['ds_cool_crd']\n",
    "DS_FLUX_WGT = d['ds_flux_wgt']\n",
    "DS_COOL_WGT = d['ds_cool_wgt']"
   ]
  },
  {
   "cell_type": "code",
   "execution_count": 6,
   "metadata": {
    "collapsed": true
   },
   "outputs": [],
   "source": [
    "DIR_FORTRAN = pipe_cliradlw.get_fortran_dir(PARAM, \n",
    "                                            setup=setup_cliradlw)\n",
    "\n",
    "PATH_FLUX = os.path.join(DIR_FORTRAN, 'output_flux.dat')\n",
    "PATH_COOL = os.path.join(DIR_FORTRAN, 'output_coolr.dat')\n",
    "\n",
    "DS_FLUX = load_output_file(PATH_FLUX)\n",
    "DS_COOL = load_output_file(PATH_COOL)"
   ]
  },
  {
   "cell_type": "code",
   "execution_count": 7,
   "metadata": {
    "collapsed": true
   },
   "outputs": [
    {
     "data": {
      "text/html": [
       "\n",
       "    <div class=\"bk-root\">\n",
       "        <a href=\"https://bokeh.pydata.org\" target=\"_blank\" class=\"bk-logo bk-logo-small bk-logo-notebook\"></a>\n",
       "        <span id=\"bab39731-e1fe-441e-b845-bb5256588344\">Loading BokehJS ...</span>\n",
       "    </div>"
      ]
     },
     "metadata": {},
     "output_type": "display_data"
    },
    {
     "data": {
      "application/javascript": [
       "\n",
       "(function(root) {\n",
       "  function now() {\n",
       "    return new Date();\n",
       "  }\n",
       "\n",
       "  var force = true;\n",
       "\n",
       "  if (typeof (root._bokeh_onload_callbacks) === \"undefined\" || force === true) {\n",
       "    root._bokeh_onload_callbacks = [];\n",
       "    root._bokeh_is_loading = undefined;\n",
       "  }\n",
       "\n",
       "  var JS_MIME_TYPE = 'application/javascript';\n",
       "  var HTML_MIME_TYPE = 'text/html';\n",
       "  var EXEC_MIME_TYPE = 'application/vnd.bokehjs_exec.v0+json';\n",
       "  var CLASS_NAME = 'output_bokeh rendered_html';\n",
       "\n",
       "  /**\n",
       "   * Render data to the DOM node\n",
       "   */\n",
       "  function render(props, node) {\n",
       "    var script = document.createElement(\"script\");\n",
       "    node.appendChild(script);\n",
       "  }\n",
       "\n",
       "  /**\n",
       "   * Handle when an output is cleared or removed\n",
       "   */\n",
       "  function handleClearOutput(event, handle) {\n",
       "    var cell = handle.cell;\n",
       "\n",
       "    var id = cell.output_area._bokeh_element_id;\n",
       "    var server_id = cell.output_area._bokeh_server_id;\n",
       "    // Clean up Bokeh references\n",
       "    if (id !== undefined) {\n",
       "      Bokeh.index[id].model.document.clear();\n",
       "      delete Bokeh.index[id];\n",
       "    }\n",
       "\n",
       "    if (server_id !== undefined) {\n",
       "      // Clean up Bokeh references\n",
       "      var cmd = \"from bokeh.io.state import curstate; print(curstate().uuid_to_server['\" + server_id + \"'].get_sessions()[0].document.roots[0]._id)\";\n",
       "      cell.notebook.kernel.execute(cmd, {\n",
       "        iopub: {\n",
       "          output: function(msg) {\n",
       "            var element_id = msg.content.text.trim();\n",
       "            Bokeh.index[element_id].model.document.clear();\n",
       "            delete Bokeh.index[element_id];\n",
       "          }\n",
       "        }\n",
       "      });\n",
       "      // Destroy server and session\n",
       "      var cmd = \"import bokeh.io.notebook as ion; ion.destroy_server('\" + server_id + \"')\";\n",
       "      cell.notebook.kernel.execute(cmd);\n",
       "    }\n",
       "  }\n",
       "\n",
       "  /**\n",
       "   * Handle when a new output is added\n",
       "   */\n",
       "  function handleAddOutput(event, handle) {\n",
       "    var output_area = handle.output_area;\n",
       "    var output = handle.output;\n",
       "\n",
       "    // limit handleAddOutput to display_data with EXEC_MIME_TYPE content only\n",
       "    if ((output.output_type != \"display_data\") || (!output.data.hasOwnProperty(EXEC_MIME_TYPE))) {\n",
       "      return\n",
       "    }\n",
       "\n",
       "    var toinsert = output_area.element.find(\".\" + CLASS_NAME.split(' ')[0]);\n",
       "\n",
       "    if (output.metadata[EXEC_MIME_TYPE][\"id\"] !== undefined) {\n",
       "      toinsert[0].firstChild.textContent = output.data[JS_MIME_TYPE];\n",
       "      // store reference to embed id on output_area\n",
       "      output_area._bokeh_element_id = output.metadata[EXEC_MIME_TYPE][\"id\"];\n",
       "    }\n",
       "    if (output.metadata[EXEC_MIME_TYPE][\"server_id\"] !== undefined) {\n",
       "      var bk_div = document.createElement(\"div\");\n",
       "      bk_div.innerHTML = output.data[HTML_MIME_TYPE];\n",
       "      var script_attrs = bk_div.children[0].attributes;\n",
       "      for (var i = 0; i < script_attrs.length; i++) {\n",
       "        toinsert[0].firstChild.setAttribute(script_attrs[i].name, script_attrs[i].value);\n",
       "      }\n",
       "      // store reference to server id on output_area\n",
       "      output_area._bokeh_server_id = output.metadata[EXEC_MIME_TYPE][\"server_id\"];\n",
       "    }\n",
       "  }\n",
       "\n",
       "  function register_renderer(events, OutputArea) {\n",
       "\n",
       "    function append_mime(data, metadata, element) {\n",
       "      // create a DOM node to render to\n",
       "      var toinsert = this.create_output_subarea(\n",
       "        metadata,\n",
       "        CLASS_NAME,\n",
       "        EXEC_MIME_TYPE\n",
       "      );\n",
       "      this.keyboard_manager.register_events(toinsert);\n",
       "      // Render to node\n",
       "      var props = {data: data, metadata: metadata[EXEC_MIME_TYPE]};\n",
       "      render(props, toinsert[0]);\n",
       "      element.append(toinsert);\n",
       "      return toinsert\n",
       "    }\n",
       "\n",
       "    /* Handle when an output is cleared or removed */\n",
       "    events.on('clear_output.CodeCell', handleClearOutput);\n",
       "    events.on('delete.Cell', handleClearOutput);\n",
       "\n",
       "    /* Handle when a new output is added */\n",
       "    events.on('output_added.OutputArea', handleAddOutput);\n",
       "\n",
       "    /**\n",
       "     * Register the mime type and append_mime function with output_area\n",
       "     */\n",
       "    OutputArea.prototype.register_mime_type(EXEC_MIME_TYPE, append_mime, {\n",
       "      /* Is output safe? */\n",
       "      safe: true,\n",
       "      /* Index of renderer in `output_area.display_order` */\n",
       "      index: 0\n",
       "    });\n",
       "  }\n",
       "\n",
       "  // register the mime type if in Jupyter Notebook environment and previously unregistered\n",
       "  if (root.Jupyter !== undefined) {\n",
       "    var events = require('base/js/events');\n",
       "    var OutputArea = require('notebook/js/outputarea').OutputArea;\n",
       "\n",
       "    if (OutputArea.prototype.mime_types().indexOf(EXEC_MIME_TYPE) == -1) {\n",
       "      register_renderer(events, OutputArea);\n",
       "    }\n",
       "  }\n",
       "\n",
       "  \n",
       "  if (typeof (root._bokeh_timeout) === \"undefined\" || force === true) {\n",
       "    root._bokeh_timeout = Date.now() + 5000;\n",
       "    root._bokeh_failed_load = false;\n",
       "  }\n",
       "\n",
       "  var NB_LOAD_WARNING = {'data': {'text/html':\n",
       "     \"<div style='background-color: #fdd'>\\n\"+\n",
       "     \"<p>\\n\"+\n",
       "     \"BokehJS does not appear to have successfully loaded. If loading BokehJS from CDN, this \\n\"+\n",
       "     \"may be due to a slow or bad network connection. Possible fixes:\\n\"+\n",
       "     \"</p>\\n\"+\n",
       "     \"<ul>\\n\"+\n",
       "     \"<li>re-rerun `output_notebook()` to attempt to load from CDN again, or</li>\\n\"+\n",
       "     \"<li>use INLINE resources instead, as so:</li>\\n\"+\n",
       "     \"</ul>\\n\"+\n",
       "     \"<code>\\n\"+\n",
       "     \"from bokeh.resources import INLINE\\n\"+\n",
       "     \"output_notebook(resources=INLINE)\\n\"+\n",
       "     \"</code>\\n\"+\n",
       "     \"</div>\"}};\n",
       "\n",
       "  function display_loaded() {\n",
       "    var el = document.getElementById(\"bab39731-e1fe-441e-b845-bb5256588344\");\n",
       "    if (el != null) {\n",
       "      el.textContent = \"BokehJS is loading...\";\n",
       "    }\n",
       "    if (root.Bokeh !== undefined) {\n",
       "      if (el != null) {\n",
       "        el.textContent = \"BokehJS \" + root.Bokeh.version + \" successfully loaded.\";\n",
       "      }\n",
       "    } else if (Date.now() < root._bokeh_timeout) {\n",
       "      setTimeout(display_loaded, 100)\n",
       "    }\n",
       "  }\n",
       "\n",
       "\n",
       "  function run_callbacks() {\n",
       "    try {\n",
       "      root._bokeh_onload_callbacks.forEach(function(callback) { callback() });\n",
       "    }\n",
       "    finally {\n",
       "      delete root._bokeh_onload_callbacks\n",
       "    }\n",
       "    console.info(\"Bokeh: all callbacks have finished\");\n",
       "  }\n",
       "\n",
       "  function load_libs(js_urls, callback) {\n",
       "    root._bokeh_onload_callbacks.push(callback);\n",
       "    if (root._bokeh_is_loading > 0) {\n",
       "      console.log(\"Bokeh: BokehJS is being loaded, scheduling callback at\", now());\n",
       "      return null;\n",
       "    }\n",
       "    if (js_urls == null || js_urls.length === 0) {\n",
       "      run_callbacks();\n",
       "      return null;\n",
       "    }\n",
       "    console.log(\"Bokeh: BokehJS not loaded, scheduling load and callback at\", now());\n",
       "    root._bokeh_is_loading = js_urls.length;\n",
       "    for (var i = 0; i < js_urls.length; i++) {\n",
       "      var url = js_urls[i];\n",
       "      var s = document.createElement('script');\n",
       "      s.src = url;\n",
       "      s.async = false;\n",
       "      s.onreadystatechange = s.onload = function() {\n",
       "        root._bokeh_is_loading--;\n",
       "        if (root._bokeh_is_loading === 0) {\n",
       "          console.log(\"Bokeh: all BokehJS libraries loaded\");\n",
       "          run_callbacks()\n",
       "        }\n",
       "      };\n",
       "      s.onerror = function() {\n",
       "        console.warn(\"failed to load library \" + url);\n",
       "      };\n",
       "      console.log(\"Bokeh: injecting script tag for BokehJS library: \", url);\n",
       "      document.getElementsByTagName(\"head\")[0].appendChild(s);\n",
       "    }\n",
       "  };var element = document.getElementById(\"bab39731-e1fe-441e-b845-bb5256588344\");\n",
       "  if (element == null) {\n",
       "    console.log(\"Bokeh: ERROR: autoload.js configured with elementid 'bab39731-e1fe-441e-b845-bb5256588344' but no matching script tag was found. \")\n",
       "    return false;\n",
       "  }\n",
       "\n",
       "  var js_urls = [\"https://cdn.pydata.org/bokeh/release/bokeh-0.12.14.min.js\", \"https://cdn.pydata.org/bokeh/release/bokeh-widgets-0.12.14.min.js\", \"https://cdn.pydata.org/bokeh/release/bokeh-tables-0.12.14.min.js\", \"https://cdn.pydata.org/bokeh/release/bokeh-gl-0.12.14.min.js\"];\n",
       "\n",
       "  var inline_js = [\n",
       "    function(Bokeh) {\n",
       "      Bokeh.set_log_level(\"info\");\n",
       "    },\n",
       "    \n",
       "    function(Bokeh) {\n",
       "      \n",
       "    },\n",
       "    function(Bokeh) {\n",
       "      console.log(\"Bokeh: injecting CSS: https://cdn.pydata.org/bokeh/release/bokeh-0.12.14.min.css\");\n",
       "      Bokeh.embed.inject_css(\"https://cdn.pydata.org/bokeh/release/bokeh-0.12.14.min.css\");\n",
       "      console.log(\"Bokeh: injecting CSS: https://cdn.pydata.org/bokeh/release/bokeh-widgets-0.12.14.min.css\");\n",
       "      Bokeh.embed.inject_css(\"https://cdn.pydata.org/bokeh/release/bokeh-widgets-0.12.14.min.css\");\n",
       "      console.log(\"Bokeh: injecting CSS: https://cdn.pydata.org/bokeh/release/bokeh-tables-0.12.14.min.css\");\n",
       "      Bokeh.embed.inject_css(\"https://cdn.pydata.org/bokeh/release/bokeh-tables-0.12.14.min.css\");\n",
       "    }\n",
       "  ];\n",
       "\n",
       "  function run_inline_js() {\n",
       "    \n",
       "    if ((root.Bokeh !== undefined) || (force === true)) {\n",
       "      for (var i = 0; i < inline_js.length; i++) {\n",
       "        inline_js[i].call(root, root.Bokeh);\n",
       "      }if (force === true) {\n",
       "        display_loaded();\n",
       "      }} else if (Date.now() < root._bokeh_timeout) {\n",
       "      setTimeout(run_inline_js, 100);\n",
       "    } else if (!root._bokeh_failed_load) {\n",
       "      console.log(\"Bokeh: BokehJS failed to load within specified timeout.\");\n",
       "      root._bokeh_failed_load = true;\n",
       "    } else if (force !== true) {\n",
       "      var cell = $(document.getElementById(\"bab39731-e1fe-441e-b845-bb5256588344\")).parents('.cell').data().cell;\n",
       "      cell.output_area.append_execute_result(NB_LOAD_WARNING)\n",
       "    }\n",
       "\n",
       "  }\n",
       "\n",
       "  if (root._bokeh_is_loading === 0) {\n",
       "    console.log(\"Bokeh: BokehJS loaded, going straight to plotting\");\n",
       "    run_inline_js();\n",
       "  } else {\n",
       "    load_libs(js_urls, function() {\n",
       "      console.log(\"Bokeh: BokehJS plotting callback run at\", now());\n",
       "      run_inline_js();\n",
       "    });\n",
       "  }\n",
       "}(window));"
      ],
      "application/vnd.bokehjs_load.v0+json": "\n(function(root) {\n  function now() {\n    return new Date();\n  }\n\n  var force = true;\n\n  if (typeof (root._bokeh_onload_callbacks) === \"undefined\" || force === true) {\n    root._bokeh_onload_callbacks = [];\n    root._bokeh_is_loading = undefined;\n  }\n\n  \n\n  \n  if (typeof (root._bokeh_timeout) === \"undefined\" || force === true) {\n    root._bokeh_timeout = Date.now() + 5000;\n    root._bokeh_failed_load = false;\n  }\n\n  var NB_LOAD_WARNING = {'data': {'text/html':\n     \"<div style='background-color: #fdd'>\\n\"+\n     \"<p>\\n\"+\n     \"BokehJS does not appear to have successfully loaded. If loading BokehJS from CDN, this \\n\"+\n     \"may be due to a slow or bad network connection. Possible fixes:\\n\"+\n     \"</p>\\n\"+\n     \"<ul>\\n\"+\n     \"<li>re-rerun `output_notebook()` to attempt to load from CDN again, or</li>\\n\"+\n     \"<li>use INLINE resources instead, as so:</li>\\n\"+\n     \"</ul>\\n\"+\n     \"<code>\\n\"+\n     \"from bokeh.resources import INLINE\\n\"+\n     \"output_notebook(resources=INLINE)\\n\"+\n     \"</code>\\n\"+\n     \"</div>\"}};\n\n  function display_loaded() {\n    var el = document.getElementById(\"bab39731-e1fe-441e-b845-bb5256588344\");\n    if (el != null) {\n      el.textContent = \"BokehJS is loading...\";\n    }\n    if (root.Bokeh !== undefined) {\n      if (el != null) {\n        el.textContent = \"BokehJS \" + root.Bokeh.version + \" successfully loaded.\";\n      }\n    } else if (Date.now() < root._bokeh_timeout) {\n      setTimeout(display_loaded, 100)\n    }\n  }\n\n\n  function run_callbacks() {\n    try {\n      root._bokeh_onload_callbacks.forEach(function(callback) { callback() });\n    }\n    finally {\n      delete root._bokeh_onload_callbacks\n    }\n    console.info(\"Bokeh: all callbacks have finished\");\n  }\n\n  function load_libs(js_urls, callback) {\n    root._bokeh_onload_callbacks.push(callback);\n    if (root._bokeh_is_loading > 0) {\n      console.log(\"Bokeh: BokehJS is being loaded, scheduling callback at\", now());\n      return null;\n    }\n    if (js_urls == null || js_urls.length === 0) {\n      run_callbacks();\n      return null;\n    }\n    console.log(\"Bokeh: BokehJS not loaded, scheduling load and callback at\", now());\n    root._bokeh_is_loading = js_urls.length;\n    for (var i = 0; i < js_urls.length; i++) {\n      var url = js_urls[i];\n      var s = document.createElement('script');\n      s.src = url;\n      s.async = false;\n      s.onreadystatechange = s.onload = function() {\n        root._bokeh_is_loading--;\n        if (root._bokeh_is_loading === 0) {\n          console.log(\"Bokeh: all BokehJS libraries loaded\");\n          run_callbacks()\n        }\n      };\n      s.onerror = function() {\n        console.warn(\"failed to load library \" + url);\n      };\n      console.log(\"Bokeh: injecting script tag for BokehJS library: \", url);\n      document.getElementsByTagName(\"head\")[0].appendChild(s);\n    }\n  };var element = document.getElementById(\"bab39731-e1fe-441e-b845-bb5256588344\");\n  if (element == null) {\n    console.log(\"Bokeh: ERROR: autoload.js configured with elementid 'bab39731-e1fe-441e-b845-bb5256588344' but no matching script tag was found. \")\n    return false;\n  }\n\n  var js_urls = [\"https://cdn.pydata.org/bokeh/release/bokeh-0.12.14.min.js\", \"https://cdn.pydata.org/bokeh/release/bokeh-widgets-0.12.14.min.js\", \"https://cdn.pydata.org/bokeh/release/bokeh-tables-0.12.14.min.js\", \"https://cdn.pydata.org/bokeh/release/bokeh-gl-0.12.14.min.js\"];\n\n  var inline_js = [\n    function(Bokeh) {\n      Bokeh.set_log_level(\"info\");\n    },\n    \n    function(Bokeh) {\n      \n    },\n    function(Bokeh) {\n      console.log(\"Bokeh: injecting CSS: https://cdn.pydata.org/bokeh/release/bokeh-0.12.14.min.css\");\n      Bokeh.embed.inject_css(\"https://cdn.pydata.org/bokeh/release/bokeh-0.12.14.min.css\");\n      console.log(\"Bokeh: injecting CSS: https://cdn.pydata.org/bokeh/release/bokeh-widgets-0.12.14.min.css\");\n      Bokeh.embed.inject_css(\"https://cdn.pydata.org/bokeh/release/bokeh-widgets-0.12.14.min.css\");\n      console.log(\"Bokeh: injecting CSS: https://cdn.pydata.org/bokeh/release/bokeh-tables-0.12.14.min.css\");\n      Bokeh.embed.inject_css(\"https://cdn.pydata.org/bokeh/release/bokeh-tables-0.12.14.min.css\");\n    }\n  ];\n\n  function run_inline_js() {\n    \n    if ((root.Bokeh !== undefined) || (force === true)) {\n      for (var i = 0; i < inline_js.length; i++) {\n        inline_js[i].call(root, root.Bokeh);\n      }if (force === true) {\n        display_loaded();\n      }} else if (Date.now() < root._bokeh_timeout) {\n      setTimeout(run_inline_js, 100);\n    } else if (!root._bokeh_failed_load) {\n      console.log(\"Bokeh: BokehJS failed to load within specified timeout.\");\n      root._bokeh_failed_load = true;\n    } else if (force !== true) {\n      var cell = $(document.getElementById(\"bab39731-e1fe-441e-b845-bb5256588344\")).parents('.cell').data().cell;\n      cell.output_area.append_execute_result(NB_LOAD_WARNING)\n    }\n\n  }\n\n  if (root._bokeh_is_loading === 0) {\n    console.log(\"Bokeh: BokehJS loaded, going straight to plotting\");\n    run_inline_js();\n  } else {\n    load_libs(js_urls, function() {\n      console.log(\"Bokeh: BokehJS plotting callback run at\", now());\n      run_inline_js();\n    });\n  }\n}(window));"
     },
     "metadata": {},
     "output_type": "display_data"
    }
   ],
   "source": [
    "output_notebook()"
   ]
  },
  {
   "cell_type": "code",
   "execution_count": 8,
   "metadata": {
    "collapsed": true
   },
   "outputs": [],
   "source": [
    "def fmt_cool(ds_in):\n",
    "    ds = ds_in.copy(deep=True)\n",
    "    if 'igg' in ds.dims:\n",
    "        ds = ds.sel(igg=1)\n",
    "\n",
    "    if 'g' in ds.dims:\n",
    "        ds = ds.sum('g')\n",
    "            \n",
    "    if 'band' in ds.dims:\n",
    "        try:\n",
    "            ds = ds.squeeze('band')\n",
    "        except ValueError:\n",
    "            ds = ds.sum('band')\n",
    "                \n",
    "    return ds['coolrg']\n",
    "\n",
    "\n",
    "def pltdata_cooling_1(ds_cool=None,\n",
    "                      ds_cool_crd=None, ds_cool_wgt=None):\n",
    "    \n",
    "\n",
    "\n",
    "    colors = all_palettes['Set1'][4]\n",
    "    data = [{'label': 'CLIRAD `coolr_bands`',\n",
    "             'srs': fmt_cool(ds_cool),\n",
    "             'line_dash': 'dashed', 'line_width': 5,\n",
    "             'color': colors[0], 'alpha': .6},\n",
    "            {'label': 'CRD',\n",
    "             'srs': fmt_cool(ds_cool_crd),\n",
    "             'line_dash': 'solid', 'line_width': 1.5,\n",
    "             'marker': 'circle', 'marker_size': 5,\n",
    "             'color': colors[2], 'alpha': 1,},\n",
    "            {'label': 'WGT igg=10 wgt_flux=2',\n",
    "             'srs': fmt_cool(ds_cool_wgt),\n",
    "             'line_dash': 'solid', 'line_width': 3,\n",
    "             'marker': 'square', 'marker_size': 5,\n",
    "             'color': colors[3], 'alpha': .6}]\n",
    "    return data\n",
    "\n",
    "\n",
    "def nice_xlims(pltdata=None, prange=None):\n",
    "    \n",
    "    def get_slice(srs):\n",
    "        return srs.sel(pressure=slice(*prange))\n",
    "    \n",
    "    srss = [d['srs'] for d in pltdata]\n",
    "    vmin = min([get_slice(srs).min() for srs in srss])\n",
    "    vmax = max([get_slice(srs).max() for srs in srss])\n",
    "    dv = (vmax - vmin) * .01\n",
    "    return float(vmin - dv), float(vmax + dv)\n",
    "    \n",
    "\n",
    "def plt_cooling_bokeh(pltdata=None):\n",
    "    '''\n",
    "    Plot a list of cooling rate profiles using bokeh.\n",
    "    '''\n",
    "    ymin = 1e-2 \n",
    "    ymax = 1020 \n",
    "        \n",
    "    p1 = figure(title=\"Linear pressure scale\", \n",
    "                plot_width=400)        \n",
    "    xmin, xmax = nice_xlims(pltdata, prange=(50, 1050))\n",
    "    for d in pltdata:\n",
    "        if 'marker' in d:\n",
    "            getattr(p1, d['marker'])(d['srs'].values, \n",
    "                    d['srs'].coords['pressure'].values,\n",
    "                    color=d['color'], alpha=.7)\n",
    "        p1.line(d['srs'].values, \n",
    "                d['srs'].coords['pressure'].values,\n",
    "                color=d['color'], alpha=d['alpha'], \n",
    "                line_width=d['line_width'], line_dash=d['line_dash'])\n",
    "    \n",
    "    p1.y_range = Range1d(ymax, ymin)\n",
    "    p1.yaxis.axis_label = 'pressure [mb]'   \n",
    "    p1.x_range = Range1d(xmin, xmax)\n",
    "    p1.xaxis.axis_label = 'cooling rate [K/day]'\n",
    "            \n",
    "    p2 = figure(title='Log pressure scale', y_axis_type='log',\n",
    "                plot_width=560)\n",
    "    xmin, xmax = nice_xlims(pltdata, prange=(.01, 200))\n",
    "    \n",
    "    rs = []\n",
    "    for d in pltdata:\n",
    "        rd = []\n",
    "        if 'marker' in d:\n",
    "            r_mark = getattr(p2, d['marker'])(d['srs'].values, \n",
    "                        d['srs'].coords['pressure'].values,\n",
    "                        color=d['color'], alpha=.7)\n",
    "            rd.append(r_mark)\n",
    "        r_line = p2.line(d['srs'].values, \n",
    "                    d['srs'].coords['pressure'].values,\n",
    "                    color=d['color'], alpha=d['alpha'], \n",
    "                    line_width=d['line_width'], line_dash=d['line_dash'])\n",
    "        rd.append(r_line)\n",
    "      \n",
    "        rs.append(rd)\n",
    "        \n",
    "    p2.y_range = Range1d(ymax, ymin)  \n",
    "    p2.yaxis.axis_label = 'pressure [mb]'\n",
    "    \n",
    "    p2.x_range = Range1d(xmin, xmax)\n",
    "    p2.xaxis.axis_label = 'cooling rate [K/day]'\n",
    "    \n",
    "    items = [(d['label'], r) for r, d in zip(rs, pltdata)]\n",
    "    legend = Legend(items=items, location=(10, -30))\n",
    "    legend.label_text_font_size = '8pt'\n",
    "    \n",
    "    p2.add_layout(legend, 'right')  \n",
    "    \n",
    "    show(gridplot(p1, p2, ncols=2, plot_height=500))\n",
    "    \n",
    "\n",
    "def script_plt_cooling():\n",
    "    pltdata = pltdata_cooling_1(\n",
    "        ds_cool=DS_COOL,\n",
    "        ds_cool_crd=DS_COOL_CRD,\n",
    "        ds_cool_wgt=DS_COOL_WGT)\n",
    "    plt_cooling_bokeh(pltdata=pltdata)\n",
    "    print('''FIGURE. Cooling rate profiles.''')"
   ]
  },
  {
   "cell_type": "code",
   "execution_count": 9,
   "metadata": {
    "collapsed": true
   },
   "outputs": [],
   "source": [
    "def fmt_flux(ds_in):\n",
    "    ds = ds_in.copy(deep=True)\n",
    "    \n",
    "    for l in ('level', 'layer'):\n",
    "        if l in ds.data_vars:\n",
    "            if len(ds[l].dims) > 1:\n",
    "                surface = {d: 0 for d in ds.dims if d != 'pressure'}\n",
    "                coord_level = ds[l][surface]\n",
    "                ds.coords[l] = ('pressure', coord_level)\n",
    "            else:\n",
    "                ds.coords[l] = ('pressure', ds[l])\n",
    "        \n",
    "    ds = ds.isel(pressure=[0, 23, -1])\n",
    "        \n",
    "    if 'igg' in ds.dims:\n",
    "        ds = ds.sel(igg=[1])\n",
    "        ds = ds.squeeze('igg').drop('igg')\n",
    "    \n",
    "    if 'g' in ds.dims:\n",
    "        ds = ds.sum('g')\n",
    "            \n",
    "    if 'band' in ds.dims:\n",
    "        try:\n",
    "            ds = ds.squeeze('band').drop('band')\n",
    "        except ValueError:\n",
    "            ds = ds.sum('band')\n",
    "                \n",
    "    df = ds.to_dataframe()\n",
    "    df = df.set_index('level', append=True)               \n",
    "    return df\n",
    "\n",
    "\n",
    "def tbdata_flux(ds_flux=None, ds_flux_crd=None, ds_flux_wgt=None):\n",
    "    ilevels = [0, 23, -1]\n",
    "            \n",
    "    benchmark = {'label': 'WGT igg=10 wgt_flux=1',\n",
    "                 'df': fmt_flux(ds_flux_wgt)}\n",
    "    \n",
    "    tbs = [{'label': 'CRD',\n",
    "            'df': fmt_flux(ds_flux_crd)},\n",
    "           {'label': 'CLIRAD',\n",
    "            'df': fmt_flux(ds_flux)}]\n",
    "    \n",
    "    data = {'benchmark': benchmark, 'others': tbs}\n",
    "    return data\n",
    "\n",
    "\n",
    "def tb_flux(tbdata=None):\n",
    "    benchmark = tbdata['benchmark']\n",
    "    others = tbdata['others']\n",
    "    \n",
    "    def show_tb(d=None):\n",
    "        display.display(d['df'])\n",
    "        print('Table.', 'Fluxes.', d['label'])\n",
    "        \n",
    "    def show_tbdiff(d0=None, d=None):\n",
    "        df = d['df']\n",
    "        df.index = d0['df'].index\n",
    "        display.display(df - d0['df'])\n",
    "        print('Table.', 'Fluxes.', \n",
    "              '({}) - ({})'.format(d['label'], d0['label']))\n",
    "        \n",
    "    show_tb(benchmark)\n",
    "    for d in others:\n",
    "        show_tb(d)\n",
    "        \n",
    "    for d in others:\n",
    "        show_tbdiff(d=d, d0=benchmark)\n",
    "        \n",
    "        \n",
    "def script_tb_flux():\n",
    "    data = tbdata_flux(ds_flux=DS_FLUX,\n",
    "                       ds_flux_crd=DS_FLUX_CRD,\n",
    "                       ds_flux_wgt=DS_FLUX_WGT)\n",
    "    tb_flux(tbdata=data)"
   ]
  },
  {
   "cell_type": "code",
   "execution_count": 10,
   "metadata": {
    "collapsed": true
   },
   "outputs": [],
   "source": [
    "def band_map():\n",
    "    '''\n",
    "    Maps spectral bands in lblnew to spectral bands in clirad.\n",
    "    '''\n",
    "    lblnew2clirad = {'1': '1',\n",
    "            '2': '2',\n",
    "            '3a': '3',\n",
    "            '3b': '4',\n",
    "            '3c': '5',\n",
    "            '4': '6', \n",
    "            '5': '7',\n",
    "            '6': '8',\n",
    "            '7': '9', \n",
    "            '8': '10',\n",
    "            '9': '11'}\n",
    "    \n",
    "    clirad2lblnew = {clirad: lblnew \n",
    "                     for lblnew, clirad in lblnew2clirad.items()}\n",
    "    return clirad2lblnew\n",
    "\n",
    "\n",
    "def gasbands():\n",
    "    bmap = band_map()\n",
    "    gases = list(PARAM['molecule'].keys())\n",
    "    \n",
    "    bands = [bmap[str(b)] for b in PARAM['band']]\n",
    "    return list(itertools.product(gases, bands))\n",
    "\n",
    "\n",
    "def print_bestfit_params():\n",
    "    print('Best-fit values for each (gas, band)')\n",
    "    print('------------------------------------')\n",
    "    for gas, band in gasbands():\n",
    "        print('o {} band{}'.format(gas, band))\n",
    "        param = bestfits.kdist_params(molecule=gas, band=band)\n",
    "        for name, value in sorted(param.items()):\n",
    "            print(2 * ' ' + '{} = {}'.format(name, value))\n",
    "\n",
    "        \n",
    "def print_input_param():        \n",
    "    for name, value in PARAM.items():\n",
    "        print('{} = {}'.format(name, value))\n",
    "        \n",
    "        \n",
    "def print_lblnew_param():\n",
    "    for name, value in sorted(PARAM_LBLNEW.items()):\n",
    "        print('{} = {}'.format(name, value))\n"
   ]
  },
  {
   "cell_type": "code",
   "execution_count": 11,
   "metadata": {
    "collapsed": true,
    "scrolled": false
   },
   "outputs": [],
   "source": [
    "def show_html(s):\n",
    "    display.display(display.HTML(s))\n",
    "\n",
    "    \n",
    "def show_markdown(s):\n",
    "    display.display(display.Markdown(s))\n",
    "\n",
    "    \n",
    "def script():\n",
    "    \n",
    "    title = '### CLIRAD-LW'\n",
    "    s_input = 'Input Parameters'\n",
    "    s_lblnew_param = 'LBLNEW case compaired against'\n",
    "    s_bestfits = 'Best-fit Parameters'\n",
    "    s_plt_cooling = 'Cooling Rate Profiles'\n",
    "    s_tb_flux = 'Flux Comparison'\n",
    "    \n",
    "    # title\n",
    "    show_markdown('### CLIRAD-LW')\n",
    "    \n",
    "    # TOC\n",
    "    show_markdown('### Table of Contents')\n",
    "    show_html(climahtml.getHTML_hrefanchor(s_input))\n",
    "    show_html(climahtml.getHTML_hrefanchor(s_lblnew_param))\n",
    "    show_html(climahtml.getHTML_hrefanchor(s_plt_cooling))\n",
    "    show_html(climahtml.getHTML_hrefanchor(s_tb_flux))\n",
    "    show_html(climahtml.getHTML_hrefanchor(s_bestfits))\n",
    "    \n",
    "    # Input parameters\n",
    "    show_html(climahtml.getHTML_idanchor(s_input))\n",
    "    show_markdown(climahtml.getMarkdown_sectitle(s_input))\n",
    "    print_input_param()\n",
    "    \n",
    "    # LBLNEW parameters \n",
    "    show_html(climahtml.getHTML_idanchor(s_lblnew_param))\n",
    "    show_markdown(climahtml.getMarkdown_sectitle(s_lblnew_param))\n",
    "    print_lblnew_param()\n",
    "    \n",
    "    # Cooling rate profiles\n",
    "    show_html(climahtml.getHTML_idanchor(s_plt_cooling))\n",
    "    show_markdown(climahtml.getMarkdown_sectitle(s_plt_cooling))\n",
    "    script_plt_cooling()\n",
    "    \n",
    "    # Flux comparison\n",
    "    show_html(climahtml.getHTML_idanchor(s_tb_flux))\n",
    "    show_markdown(climahtml.getMarkdown_sectitle(s_tb_flux))\n",
    "    script_tb_flux()\n",
    "    \n",
    "    # Best-fit values\n",
    "    show_html(climahtml.getHTML_idanchor(s_bestfits))\n",
    "    show_markdown(climahtml.getMarkdown_sectitle(s_bestfits))\n",
    "    print_bestfit_params()\n",
    "   \n",
    "    "
   ]
  },
  {
   "cell_type": "code",
   "execution_count": 12,
   "metadata": {
    "collapsed": true,
    "scrolled": false
   },
   "outputs": [
    {
     "data": {
      "text/markdown": [
       "### CLIRAD-LW"
      ],
      "text/plain": [
       "<IPython.core.display.Markdown object>"
      ]
     },
     "metadata": {},
     "output_type": "display_data"
    },
    {
     "data": {
      "text/markdown": [
       "### Table of Contents"
      ],
      "text/plain": [
       "<IPython.core.display.Markdown object>"
      ]
     },
     "metadata": {},
     "output_type": "display_data"
    },
    {
     "data": {
      "text/html": [
       "<a href=\"#Input_Parameters\">Input Parameters</a>"
      ],
      "text/plain": [
       "<IPython.core.display.HTML object>"
      ]
     },
     "metadata": {},
     "output_type": "display_data"
    },
    {
     "data": {
      "text/html": [
       "<a href=\"#LBLNEW_case_compaired_against\">LBLNEW case compaired against</a>"
      ],
      "text/plain": [
       "<IPython.core.display.HTML object>"
      ]
     },
     "metadata": {},
     "output_type": "display_data"
    },
    {
     "data": {
      "text/html": [
       "<a href=\"#Cooling_Rate_Profiles\">Cooling Rate Profiles</a>"
      ],
      "text/plain": [
       "<IPython.core.display.HTML object>"
      ]
     },
     "metadata": {},
     "output_type": "display_data"
    },
    {
     "data": {
      "text/html": [
       "<a href=\"#Flux_Comparison\">Flux Comparison</a>"
      ],
      "text/plain": [
       "<IPython.core.display.HTML object>"
      ]
     },
     "metadata": {},
     "output_type": "display_data"
    },
    {
     "data": {
      "text/html": [
       "<a href=\"#Best-fit_Parameters\">Best-fit Parameters</a>"
      ],
      "text/plain": [
       "<IPython.core.display.HTML object>"
      ]
     },
     "metadata": {},
     "output_type": "display_data"
    },
    {
     "data": {
      "text/html": [
       "<a id=\"Input_Parameters\"></a>"
      ],
      "text/plain": [
       "<IPython.core.display.HTML object>"
      ]
     },
     "metadata": {},
     "output_type": "display_data"
    },
    {
     "data": {
      "text/markdown": [
       "# Input Parameters"
      ],
      "text/plain": [
       "<IPython.core.display.Markdown object>"
      ]
     },
     "metadata": {},
     "output_type": "display_data"
    },
    {
     "name": "stdout",
     "output_type": "stream",
     "text": [
      "atmpro = saw\n",
      "band = [3]\n",
      "commitnumber = 7fe1447_x\n",
      "molecule = {'h2o': 'atmpro'}\n",
      "tsfc = 257\n"
     ]
    },
    {
     "data": {
      "text/html": [
       "<a id=\"LBLNEW_case_compaired_against\"></a>"
      ],
      "text/plain": [
       "<IPython.core.display.HTML object>"
      ]
     },
     "metadata": {},
     "output_type": "display_data"
    },
    {
     "data": {
      "text/markdown": [
       "# LBLNEW case compaired against"
      ],
      "text/plain": [
       "<IPython.core.display.Markdown object>"
      ]
     },
     "metadata": {},
     "output_type": "display_data"
    },
    {
     "name": "stdout",
     "output_type": "stream",
     "text": [
      "atmpro = saw\n",
      "band = 3a\n",
      "commitnumber = a06b618\n",
      "conc = None\n",
      "dv = 0.001\n",
      "klin = 0\n",
      "molecule = h2o\n",
      "ng_adju = [0, 0]\n",
      "ng_refs = [2, 6]\n",
      "nv = 1000\n",
      "option_compute_btable = 0\n",
      "option_compute_ktable = 0\n",
      "option_wgt_flux = 1\n",
      "option_wgt_k = 1\n",
      "ref_pts = [(10, 250), (600, 250)]\n",
      "tsfc = 257\n",
      "vmax = 620\n",
      "vmin = 540\n",
      "w_diffuse = [(1.9, 1.7), (1.4, 1.4, 1.4, 1.55, 1.6, 1.66)]\n",
      "wgt = [(0.7, 0.7), (0.7, 0.5, 0.5, 0.5, 0.5, 0.5)]\n"
     ]
    },
    {
     "data": {
      "text/html": [
       "<a id=\"Cooling_Rate_Profiles\"></a>"
      ],
      "text/plain": [
       "<IPython.core.display.HTML object>"
      ]
     },
     "metadata": {},
     "output_type": "display_data"
    },
    {
     "data": {
      "text/markdown": [
       "# Cooling Rate Profiles"
      ],
      "text/plain": [
       "<IPython.core.display.Markdown object>"
      ]
     },
     "metadata": {},
     "output_type": "display_data"
    },
    {
     "data": {
      "text/html": [
       "\n",
       "<div class=\"bk-root\">\n",
       "    <div class=\"bk-plotdiv\" id=\"d5c5049e-9b9d-4086-bb32-b8bbc609577c\"></div>\n",
       "</div>"
      ]
     },
     "metadata": {},
     "output_type": "display_data"
    },
    {
     "data": {
      "application/javascript": [
       "(function(root) {\n",
       "  function embed_document(root) {\n",
       "    \n",
       "  var docs_json = {\"979de545-60e7-4263-b934-f04e6c84971a\":{\"roots\":{\"references\":[{\"attributes\":{\"plot\":{\"id\":\"0954b7b6-8181-4136-9891-479b3be561c7\",\"subtype\":\"Figure\",\"type\":\"Plot\"},\"ticker\":{\"id\":\"deff6e89-1b10-41f4-8e0b-cbd37655e262\",\"type\":\"BasicTicker\"}},\"id\":\"bbb2ffcb-e3ba-4819-8ae9-6412dcd25448\",\"type\":\"Grid\"},{\"attributes\":{\"children\":[{\"id\":\"d138cbf8-8508-45b8-a5e2-44c84d0fed24\",\"type\":\"Row\"}]},\"id\":\"4580f290-0443-46c4-b1c8-758248bf308a\",\"type\":\"Column\"},{\"attributes\":{},\"id\":\"0a870590-a1c2-4728-b205-04ca9c3a54cf\",\"type\":\"ResetTool\"},{\"attributes\":{\"callback\":null,\"column_names\":[\"x\",\"y\"],\"data\":{\"x\":{\"__ndarray__\":\"lecMkJlgYD8MTK9UJT9iPyz599gfYWY/jQy8W1wRaz+yVdmhoCdwP4RX1KHIE3M/n5hwBV9Tdj9XjFpksu15PyBFhfjs6n0/FwW8c0EpgT8ZSS4DtpGDP9m8+ELLMYY/5gsd5acLiT+T9px6+MCLP5ALlDVm6Y0/dNioR03Njz9c78eFtNqQPwHR5zE30JE/cJXyHabEkj+BE5UD+baTP7JtAiCvhpQ/H+quVGY2kz/ZYnWzWO2OP37buGpDaoc/F2mlusdsgT87ExF8V3Z5P8aFEEtbQHI/87yUrBX1aj99GgQROsxlP//LZUYnomI/YlZYwvQjYD/IrLNhGnRcP6HrGqPw9ls/+ctgaMu7Xj/jphmisOpgP1wcid/qQ2I/nTT0oyYgYz9uh160u09jP4hYsBX8y2k/hxMdrLQKcD84znGfcSlzP+nnfcdfv3Q/C/TGVkLBdT92M7UCyY92P1I0kOCmPHc/8ESDqg7Gej/xcOvIMjiCP6Xddg5WfYk/6DCmMwwslT8OfodHhyyhP2dlK8rNuag/frHJqqBTsD8PYJFfP0S0P/Iu/ZyZGLg/o/5A2nvIuz9APhnKJky/P+n6V7nET8E/DfYN6UPZwj8x1i+/cDrEPxn/oQ1+asU/EPFJBgRjxj95d4W6HyLHPzE+UJdaqcc/urjwMKv/xz8a1TPO8DDIP/qTvjGAR8g/qsUSnBtPyD/1Pwroz0jIP0+UxmCsDMg/02eLlPtXxz/bM0sC1NTFPxOB6h9EssM/iACWS5mKwT+kDVVrQAi/P8HTGjnB7bo/\",\"dtype\":\"float64\",\"shape\":[75]},\"y\":{\"__ndarray__\":\"GhExyth1ND/Sv8nbtpRIP2vylNV0PVE/aTum7souWD/At0SJ8fVgPw3Iuahxymc/MSNhhJWvcD/bTfBN02d3P2zb5nxnaoA/CD5h5MAGhz8NmeH1TyaQP+zrCsc9p5Y/LbKd76fGnz/bLW5ISEmmPww9YvTcQq8/JV2OstnstT8Er5Y7M8G+P0c+r3jqkcU/5h99k6ZBzj88bCIzFzjVP4enV8oyxN0//yH99nXg5D8qOpLLf0jtP5kqGJXUifQ/c9cS8kHP/D+/DpwzojQEQIEmwoanVwxA4lgXt9HgE0BSSZ2AJuIbQAMJih9jjiNA5q4l5INuK0AwTKYKRj0zQNv5fmq8/DpAaCJseHrtQkB/+zpwzoxKQM3MzMzMeFJAZmZmZmZqWEAAAAAAAFxeQM3MzMzMJmJAmpmZmZkfZUBmZmZmZhhoQDMzMzMzEWtAAAAAAAAKbkBmZmZmZoFwQM3MzMzM/XFAMzMzMzN6c0CamZmZmfZ0QAAAAAAAc3ZAZmZmZmbvd0DNzMzMzGt5QDMzMzMz6HpAmpmZmZlkfEAAAAAAAOF9QGZmZmZmXX9AZmZmZuZsgECamZmZGSuBQM3MzMxM6YFAAAAAAICngkAzMzMzs2WDQGZmZmbmI4RAmpmZmRnihEDNzMzMTKCFQAAAAACAXoZAMzMzM7Mch0BmZmZm5tqHQJqZmZkZmYhAzczMzExXiUAAAAAAgBWKQDMzMzOz04pAZmZmZuaRi0CamZmZGVCMQM3MzMxMDo1AAAAAAIDMjUAzMzMzs4qOQGZmZmbmSI9A\",\"dtype\":\"float64\",\"shape\":[75]}}},\"id\":\"eb166020-7735-4f30-99a6-418e0584f4a2\",\"type\":\"ColumnDataSource\"},{\"attributes\":{\"line_alpha\":0.6,\"line_color\":\"#e41a1c\",\"line_dash\":[6],\"line_width\":5,\"x\":{\"field\":\"x\"},\"y\":{\"field\":\"y\"}},\"id\":\"577966d2-9350-4ef2-bcff-9bf59e5e19de\",\"type\":\"Line\"},{\"attributes\":{\"callback\":null,\"end\":0.01,\"start\":1020},\"id\":\"1e8fa8f2-393e-4274-af8a-b888947ede06\",\"type\":\"Range1d\"},{\"attributes\":{\"overlay\":{\"id\":\"628bb625-9bbd-4c94-9828-87834d1a20d4\",\"type\":\"BoxAnnotation\"}},\"id\":\"563b030a-e741-4867-a2f2-6d0126795796\",\"type\":\"BoxZoomTool\"},{\"attributes\":{},\"id\":\"05ec98dc-c784-474d-b1cf-1e88942a3969\",\"type\":\"SaveTool\"},{\"attributes\":{\"line_alpha\":0.1,\"line_color\":\"#1f77b4\",\"line_dash\":[6],\"line_width\":5,\"x\":{\"field\":\"x\"},\"y\":{\"field\":\"y\"}},\"id\":\"e3618bd0-6f9f-41c9-83fb-e0b07e714746\",\"type\":\"Line\"},{\"attributes\":{\"source\":{\"id\":\"eb166020-7735-4f30-99a6-418e0584f4a2\",\"type\":\"ColumnDataSource\"}},\"id\":\"f04cdca5-c624-41a6-bcac-7274b830b927\",\"type\":\"CDSView\"},{\"attributes\":{},\"id\":\"5718bfcf-2405-4a90-8040-64f07cfd7844\",\"type\":\"PanTool\"},{\"attributes\":{\"data_source\":{\"id\":\"0d59ee62-9dd3-4920-a381-fe25a7e08b2d\",\"type\":\"ColumnDataSource\"},\"glyph\":{\"id\":\"83b5ade6-22e1-419d-9747-732671c44317\",\"type\":\"Line\"},\"hover_glyph\":null,\"muted_glyph\":null,\"nonselection_glyph\":{\"id\":\"e3618bd0-6f9f-41c9-83fb-e0b07e714746\",\"type\":\"Line\"},\"selection_glyph\":null,\"view\":{\"id\":\"f1e20d6c-f684-49c6-945d-dfaa3e2d640c\",\"type\":\"CDSView\"}},\"id\":\"d3e98c62-689a-4628-bc32-8072331870db\",\"type\":\"GlyphRenderer\"},{\"attributes\":{\"label\":{\"value\":\"CLIRAD `coolr_bands`\"},\"renderers\":[{\"id\":\"ce4b55bb-76c6-41cc-a6fe-734fae1bdf04\",\"type\":\"GlyphRenderer\"}]},\"id\":\"2f2ad59f-5973-4bfc-89a3-3ec4945dc889\",\"type\":\"LegendItem\"},{\"attributes\":{\"dimension\":1,\"plot\":{\"id\":\"0954b7b6-8181-4136-9891-479b3be561c7\",\"subtype\":\"Figure\",\"type\":\"Plot\"},\"ticker\":{\"id\":\"b40ba0bd-38e5-4e67-8d31-96cf5fee8b7f\",\"type\":\"BasicTicker\"}},\"id\":\"bca1b90a-3969-448b-a8e5-0a3a95ad36e7\",\"type\":\"Grid\"},{\"attributes\":{},\"id\":\"eca5973f-fa0f-4a7f-8c14-653649a1176c\",\"type\":\"LogScale\"},{\"attributes\":{},\"id\":\"1fc46bae-0e3f-4c42-b5ec-b8e0a0bf5096\",\"type\":\"WheelZoomTool\"},{\"attributes\":{},\"id\":\"980612af-4f38-4b47-afa5-fc27ec349d65\",\"type\":\"HelpTool\"},{\"attributes\":{\"axis_label\":\"pressure [mb]\",\"formatter\":{\"id\":\"955a0c31-132e-4fb2-9b3c-a12bd352adfb\",\"type\":\"BasicTickFormatter\"},\"plot\":{\"id\":\"0954b7b6-8181-4136-9891-479b3be561c7\",\"subtype\":\"Figure\",\"type\":\"Plot\"},\"ticker\":{\"id\":\"b40ba0bd-38e5-4e67-8d31-96cf5fee8b7f\",\"type\":\"BasicTicker\"}},\"id\":\"f4860195-0dbd-4ee1-bb68-b93ad5409028\",\"type\":\"LinearAxis\"},{\"attributes\":{\"bottom_units\":\"screen\",\"fill_alpha\":{\"value\":0.5},\"fill_color\":{\"value\":\"lightgrey\"},\"left_units\":\"screen\",\"level\":\"overlay\",\"line_alpha\":{\"value\":1.0},\"line_color\":{\"value\":\"black\"},\"line_dash\":[4,4],\"line_width\":{\"value\":2},\"plot\":null,\"render_mode\":\"css\",\"right_units\":\"screen\",\"top_units\":\"screen\"},\"id\":\"628bb625-9bbd-4c94-9828-87834d1a20d4\",\"type\":\"BoxAnnotation\"},{\"attributes\":{\"tools\":[{\"id\":\"5718bfcf-2405-4a90-8040-64f07cfd7844\",\"type\":\"PanTool\"},{\"id\":\"1fc46bae-0e3f-4c42-b5ec-b8e0a0bf5096\",\"type\":\"WheelZoomTool\"},{\"id\":\"563b030a-e741-4867-a2f2-6d0126795796\",\"type\":\"BoxZoomTool\"},{\"id\":\"05ec98dc-c784-474d-b1cf-1e88942a3969\",\"type\":\"SaveTool\"},{\"id\":\"0a870590-a1c2-4728-b205-04ca9c3a54cf\",\"type\":\"ResetTool\"},{\"id\":\"c34eb71a-d70b-40d6-8881-30196f044baf\",\"type\":\"HelpTool\"},{\"id\":\"4adbc991-a862-493e-ac16-86ae88dc7d6c\",\"type\":\"PanTool\"},{\"id\":\"a43d1941-8d91-47e3-8338-f08c702fd158\",\"type\":\"WheelZoomTool\"},{\"id\":\"49c0fc11-f00c-4a7a-b109-f8f36a6d84d7\",\"type\":\"BoxZoomTool\"},{\"id\":\"0585670a-387f-4833-b52f-81ab5df98a8f\",\"type\":\"SaveTool\"},{\"id\":\"0c3d7fc2-bf2a-479b-9029-323ba16f51c5\",\"type\":\"ResetTool\"},{\"id\":\"980612af-4f38-4b47-afa5-fc27ec349d65\",\"type\":\"HelpTool\"}]},\"id\":\"502ca17e-7284-4528-afa8-94f46a9734ba\",\"type\":\"ProxyToolbar\"},{\"attributes\":{},\"id\":\"b40ba0bd-38e5-4e67-8d31-96cf5fee8b7f\",\"type\":\"BasicTicker\"},{\"attributes\":{\"dimension\":1,\"plot\":{\"id\":\"ca608262-507a-42d1-ae93-6166e731cc6e\",\"subtype\":\"Figure\",\"type\":\"Plot\"},\"ticker\":{\"id\":\"3d91d05d-e6d1-4f36-b5d9-5d2eb89fd231\",\"type\":\"LogTicker\"}},\"id\":\"354fde19-b1f8-492a-b50d-5bef6730ed0a\",\"type\":\"Grid\"},{\"attributes\":{},\"id\":\"c34eb71a-d70b-40d6-8881-30196f044baf\",\"type\":\"HelpTool\"},{\"attributes\":{\"children\":[{\"id\":\"0954b7b6-8181-4136-9891-479b3be561c7\",\"subtype\":\"Figure\",\"type\":\"Plot\"},{\"id\":\"ca608262-507a-42d1-ae93-6166e731cc6e\",\"subtype\":\"Figure\",\"type\":\"Plot\"}]},\"id\":\"d138cbf8-8508-45b8-a5e2-44c84d0fed24\",\"type\":\"Row\"},{\"attributes\":{\"data_source\":{\"id\":\"eb166020-7735-4f30-99a6-418e0584f4a2\",\"type\":\"ColumnDataSource\"},\"glyph\":{\"id\":\"f77d0741-bb3a-46c4-96fd-f1d422146ede\",\"type\":\"Circle\"},\"hover_glyph\":null,\"muted_glyph\":null,\"nonselection_glyph\":{\"id\":\"dad710ab-e7d9-42fe-a131-5d3862f52083\",\"type\":\"Circle\"},\"selection_glyph\":null,\"view\":{\"id\":\"f04cdca5-c624-41a6-bcac-7274b830b927\",\"type\":\"CDSView\"}},\"id\":\"03e29433-a893-4198-a371-ec06bc8c0e25\",\"type\":\"GlyphRenderer\"},{\"attributes\":{\"line_alpha\":0.1,\"line_color\":\"#1f77b4\",\"line_dash\":[6],\"line_width\":5,\"x\":{\"field\":\"x\"},\"y\":{\"field\":\"y\"}},\"id\":\"da90f054-c678-4abc-a0d4-79b27eb6c79a\",\"type\":\"Line\"},{\"attributes\":{},\"id\":\"a43d1941-8d91-47e3-8338-f08c702fd158\",\"type\":\"WheelZoomTool\"},{\"attributes\":{\"callback\":null,\"column_names\":[\"x\",\"y\"],\"data\":{\"x\":{\"__ndarray__\":\"r+5+MzYWYj/6YfZFUYZjP90zkWkbZWc/8pPg0Sphaz/9eaptyb1vP2Y0JP0lQXI/nysj1NkAdT9eLUJ0sht4P+Y2763Af3s/JRyGkGQvfz/Xv3G2VZmBP6Xwb3s6yoM/owcd+EErhj+40Um0uXGIPyr0XAdQUYo/0yEml7UDjD8PEgLvbcWNPwBUQaoAlo8/GmW5SWW6kD/EY+bSXbGRPzHUkb5xm5I/gj4ztkfXkT97LSUhSuGNPx2vzp68qYc/MGpB8Ptlgj9M3Rhxr/t7P3elN2zzsHQ/dsCVrlDLbj/EqlExTRZoPwlsVo5sTWM/72BlqNrLXj+5towkVeVYP5ayLX+VrlY/LdeS/jSvVz8HkTuWxolZP8+nC0LLi1s/b5NtA2cHXT+JfzXWYItdP6HIYyI282M/3Fq2AHNAaT+Vub9Sy8puP1pdh9gLBnE/UWUmxqowcj8QgPcPmyhzP5LUUfQRD3Q/yGldYYBPdz+X4nue/nV/P/w0p/jj6YU/+OO5aA9Okj8VFIArSweePwFVqccg8aU/tKvk8SGZrT97sfXhYLyyP3vnnhUbarY/4R3oulOuuT/ZzhhizMi8PxSYLd1NBcA/zq1KAe23wT+edZUHTFTDPzQ2bEL3uMQ/o03drvrQxT8GjAXw3JzGP+U8jN7jK8c/8dNdfkyQxz+wSelfs9jHP3lNOIl7C8g/DgucCdk7yD/TADm8e1vIP/WJlwItOMg/C6gFaaWUxz93hPSQACDGP0W6An5LCMQ/+MUh8sjlwT8VAneov8G/P3v8nIpttbs/\",\"dtype\":\"float64\",\"shape\":[75]},\"y\":{\"__ndarray__\":\"S/O/Q+51ND/Sv8nbtpRIP2vylNV0PVE/aTum7souWD/At0SJ8fVgPw3Iuahxymc/MSNhhJWvcD/bTfBN02d3P2zb5nxnaoA/CD5h5MAGhz8NmeH1TyaQP+zrCsc9p5Y/LbKd76fGnz/bLW5ISEmmPww9YvTcQq8/JV2OstnstT8Er5Y7M8G+P0c+r3jqkcU/5h99k6ZBzj88bCIzFzjVP4enV8oyxN0//yH99nXg5D8qOpLLf0jtP5kqGJXUifQ/c9cS8kHP/D+/DpwzojQEQIEmwoanVwxA4lgXt9HgE0BSSZ2AJuIbQAMJih9jjiNA5q4l5INuK0AwTKYKRj0zQNv5fmq8/DpAaCJseHrtQkB/+zpwzoxKQM3MzMzMeFJAZmZmZmZqWEAAAAAAAFxeQM3MzMzMJmJAmpmZmZkfZUBmZmZmZhhoQDMzMzMzEWtAAAAAAAAKbkBmZmZmZoFwQM3MzMzM/XFAMzMzMzN6c0CamZmZmfZ0QAAAAAAAc3ZAZmZmZmbvd0DNzMzMzGt5QDMzMzMz6HpAmpmZmZlkfEAAAAAAAOF9QGZmZmZmXX9AZmZmZuZsgECamZmZGSuBQM3MzMxM6YFAAAAAAICngkAzMzMzs2WDQGZmZmbmI4RAmpmZmRnihEDNzMzMTKCFQAAAAACAXoZAMzMzM7Mch0BmZmZm5tqHQJqZmZkZmYhAzczMzExXiUAAAAAAgBWKQDMzMzOz04pAZmZmZuaRi0CamZmZGVCMQM3MzMxMDo1AAAAAAIDMjUAzMzMzs4qOQGZmZmbmSI9A\",\"dtype\":\"float64\",\"shape\":[75]}}},\"id\":\"0d59ee62-9dd3-4920-a381-fe25a7e08b2d\",\"type\":\"ColumnDataSource\"},{\"attributes\":{\"plot\":{\"id\":\"ca608262-507a-42d1-ae93-6166e731cc6e\",\"subtype\":\"Figure\",\"type\":\"Plot\"},\"ticker\":{\"id\":\"d7000f68-0543-4068-b192-a793b7b857bb\",\"type\":\"BasicTicker\"}},\"id\":\"4ce1bd45-d423-4843-a1e9-173a3f876954\",\"type\":\"Grid\"},{\"attributes\":{\"active_drag\":\"auto\",\"active_inspect\":\"auto\",\"active_scroll\":\"auto\",\"active_tap\":\"auto\",\"tools\":[{\"id\":\"4adbc991-a862-493e-ac16-86ae88dc7d6c\",\"type\":\"PanTool\"},{\"id\":\"a43d1941-8d91-47e3-8338-f08c702fd158\",\"type\":\"WheelZoomTool\"},{\"id\":\"49c0fc11-f00c-4a7a-b109-f8f36a6d84d7\",\"type\":\"BoxZoomTool\"},{\"id\":\"0585670a-387f-4833-b52f-81ab5df98a8f\",\"type\":\"SaveTool\"},{\"id\":\"0c3d7fc2-bf2a-479b-9029-323ba16f51c5\",\"type\":\"ResetTool\"},{\"id\":\"980612af-4f38-4b47-afa5-fc27ec349d65\",\"type\":\"HelpTool\"}]},\"id\":\"42b1afa8-a579-4d8d-b209-2ee6199d000c\",\"type\":\"Toolbar\"},{\"attributes\":{\"callback\":null,\"column_names\":[\"x\",\"y\"],\"data\":{\"x\":{\"__ndarray__\":\"r+5+MzYWYj/6YfZFUYZjP90zkWkbZWc/8pPg0Sphaz/9eaptyb1vP2Y0JP0lQXI/nysj1NkAdT9eLUJ0sht4P+Y2763Af3s/JRyGkGQvfz/Xv3G2VZmBP6Xwb3s6yoM/owcd+EErhj+40Um0uXGIPyr0XAdQUYo/0yEml7UDjD8PEgLvbcWNPwBUQaoAlo8/GmW5SWW6kD/EY+bSXbGRPzHUkb5xm5I/gj4ztkfXkT97LSUhSuGNPx2vzp68qYc/MGpB8Ptlgj9M3Rhxr/t7P3elN2zzsHQ/dsCVrlDLbj/EqlExTRZoPwlsVo5sTWM/72BlqNrLXj+5towkVeVYP5ayLX+VrlY/LdeS/jSvVz8HkTuWxolZP8+nC0LLi1s/b5NtA2cHXT+JfzXWYItdP6HIYyI282M/3Fq2AHNAaT+Vub9Sy8puP1pdh9gLBnE/UWUmxqowcj8QgPcPmyhzP5LUUfQRD3Q/yGldYYBPdz+X4nue/nV/P/w0p/jj6YU/+OO5aA9Okj8VFIArSweePwFVqccg8aU/tKvk8SGZrT97sfXhYLyyP3vnnhUbarY/4R3oulOuuT/ZzhhizMi8PxSYLd1NBcA/zq1KAe23wT+edZUHTFTDPzQ2bEL3uMQ/o03drvrQxT8GjAXw3JzGP+U8jN7jK8c/8dNdfkyQxz+wSelfs9jHP3lNOIl7C8g/DgucCdk7yD/TADm8e1vIP/WJlwItOMg/C6gFaaWUxz93hPSQACDGP0W6An5LCMQ/+MUh8sjlwT8VAneov8G/P3v8nIpttbs/\",\"dtype\":\"float64\",\"shape\":[75]},\"y\":{\"__ndarray__\":\"S/O/Q+51ND/Sv8nbtpRIP2vylNV0PVE/aTum7souWD/At0SJ8fVgPw3Iuahxymc/MSNhhJWvcD/bTfBN02d3P2zb5nxnaoA/CD5h5MAGhz8NmeH1TyaQP+zrCsc9p5Y/LbKd76fGnz/bLW5ISEmmPww9YvTcQq8/JV2OstnstT8Er5Y7M8G+P0c+r3jqkcU/5h99k6ZBzj88bCIzFzjVP4enV8oyxN0//yH99nXg5D8qOpLLf0jtP5kqGJXUifQ/c9cS8kHP/D+/DpwzojQEQIEmwoanVwxA4lgXt9HgE0BSSZ2AJuIbQAMJih9jjiNA5q4l5INuK0AwTKYKRj0zQNv5fmq8/DpAaCJseHrtQkB/+zpwzoxKQM3MzMzMeFJAZmZmZmZqWEAAAAAAAFxeQM3MzMzMJmJAmpmZmZkfZUBmZmZmZhhoQDMzMzMzEWtAAAAAAAAKbkBmZmZmZoFwQM3MzMzM/XFAMzMzMzN6c0CamZmZmfZ0QAAAAAAAc3ZAZmZmZmbvd0DNzMzMzGt5QDMzMzMz6HpAmpmZmZlkfEAAAAAAAOF9QGZmZmZmXX9AZmZmZuZsgECamZmZGSuBQM3MzMxM6YFAAAAAAICngkAzMzMzs2WDQGZmZmbmI4RAmpmZmRnihEDNzMzMTKCFQAAAAACAXoZAMzMzM7Mch0BmZmZm5tqHQJqZmZkZmYhAzczMzExXiUAAAAAAgBWKQDMzMzOz04pAZmZmZuaRi0CamZmZGVCMQM3MzMxMDo1AAAAAAIDMjUAzMzMzs4qOQGZmZmbmSI9A\",\"dtype\":\"float64\",\"shape\":[75]}}},\"id\":\"de1fbc0d-cf27-4c18-80b4-8a325d1feb2a\",\"type\":\"ColumnDataSource\"},{\"attributes\":{\"plot\":null,\"text\":\"Log pressure scale\"},\"id\":\"e98a591e-10fb-427b-bd7a-7f1481fd6c04\",\"type\":\"Title\"},{\"attributes\":{\"line_color\":\"#4daf4a\",\"line_width\":1.5,\"x\":{\"field\":\"x\"},\"y\":{\"field\":\"y\"}},\"id\":\"8c9b50b8-bb51-46f3-a034-6f88731a078c\",\"type\":\"Line\"},{\"attributes\":{},\"id\":\"fa6a4d05-4636-49db-be2c-87a9211de50e\",\"type\":\"LinearScale\"},{\"attributes\":{\"callback\":null,\"column_names\":[\"x\",\"y\"],\"data\":{\"x\":{\"__ndarray__\":\"lecMkJlgYD8MTK9UJT9iPyz599gfYWY/jQy8W1wRaz+yVdmhoCdwP4RX1KHIE3M/n5hwBV9Tdj9XjFpksu15PyBFhfjs6n0/FwW8c0EpgT8ZSS4DtpGDP9m8+ELLMYY/5gsd5acLiT+T9px6+MCLP5ALlDVm6Y0/dNioR03Njz9c78eFtNqQPwHR5zE30JE/cJXyHabEkj+BE5UD+baTP7JtAiCvhpQ/H+quVGY2kz/ZYnWzWO2OP37buGpDaoc/F2mlusdsgT87ExF8V3Z5P8aFEEtbQHI/87yUrBX1aj99GgQROsxlP//LZUYnomI/YlZYwvQjYD/IrLNhGnRcP6HrGqPw9ls/+ctgaMu7Xj/jphmisOpgP1wcid/qQ2I/nTT0oyYgYz9uh160u09jP4hYsBX8y2k/hxMdrLQKcD84znGfcSlzP+nnfcdfv3Q/C/TGVkLBdT92M7UCyY92P1I0kOCmPHc/8ESDqg7Gej/xcOvIMjiCP6Xddg5WfYk/6DCmMwwslT8OfodHhyyhP2dlK8rNuag/frHJqqBTsD8PYJFfP0S0P/Iu/ZyZGLg/o/5A2nvIuz9APhnKJky/P+n6V7nET8E/DfYN6UPZwj8x1i+/cDrEPxn/oQ1+asU/EPFJBgRjxj95d4W6HyLHPzE+UJdaqcc/urjwMKv/xz8a1TPO8DDIP/qTvjGAR8g/qsUSnBtPyD/1Pwroz0jIP0+UxmCsDMg/02eLlPtXxz/bM0sC1NTFPxOB6h9EssM/iACWS5mKwT+kDVVrQAi/P8HTGjnB7bo/\",\"dtype\":\"float64\",\"shape\":[75]},\"y\":{\"__ndarray__\":\"GhExyth1ND/Sv8nbtpRIP2vylNV0PVE/aTum7souWD/At0SJ8fVgPw3Iuahxymc/MSNhhJWvcD/bTfBN02d3P2zb5nxnaoA/CD5h5MAGhz8NmeH1TyaQP+zrCsc9p5Y/LbKd76fGnz/bLW5ISEmmPww9YvTcQq8/JV2OstnstT8Er5Y7M8G+P0c+r3jqkcU/5h99k6ZBzj88bCIzFzjVP4enV8oyxN0//yH99nXg5D8qOpLLf0jtP5kqGJXUifQ/c9cS8kHP/D+/DpwzojQEQIEmwoanVwxA4lgXt9HgE0BSSZ2AJuIbQAMJih9jjiNA5q4l5INuK0AwTKYKRj0zQNv5fmq8/DpAaCJseHrtQkB/+zpwzoxKQM3MzMzMeFJAZmZmZmZqWEAAAAAAAFxeQM3MzMzMJmJAmpmZmZkfZUBmZmZmZhhoQDMzMzMzEWtAAAAAAAAKbkBmZmZmZoFwQM3MzMzM/XFAMzMzMzN6c0CamZmZmfZ0QAAAAAAAc3ZAZmZmZmbvd0DNzMzMzGt5QDMzMzMz6HpAmpmZmZlkfEAAAAAAAOF9QGZmZmZmXX9AZmZmZuZsgECamZmZGSuBQM3MzMxM6YFAAAAAAICngkAzMzMzs2WDQGZmZmbmI4RAmpmZmRnihEDNzMzMTKCFQAAAAACAXoZAMzMzM7Mch0BmZmZm5tqHQJqZmZkZmYhAzczMzExXiUAAAAAAgBWKQDMzMzOz04pAZmZmZuaRi0CamZmZGVCMQM3MzMxMDo1AAAAAAIDMjUAzMzMzs4qOQGZmZmbmSI9A\",\"dtype\":\"float64\",\"shape\":[75]}}},\"id\":\"be1ca4c9-3fef-44f8-9577-b7cf626d156c\",\"type\":\"ColumnDataSource\"},{\"attributes\":{\"source\":{\"id\":\"0d59ee62-9dd3-4920-a381-fe25a7e08b2d\",\"type\":\"ColumnDataSource\"}},\"id\":\"f1e20d6c-f684-49c6-945d-dfaa3e2d640c\",\"type\":\"CDSView\"},{\"attributes\":{\"bottom_units\":\"screen\",\"fill_alpha\":{\"value\":0.5},\"fill_color\":{\"value\":\"lightgrey\"},\"left_units\":\"screen\",\"level\":\"overlay\",\"line_alpha\":{\"value\":1.0},\"line_color\":{\"value\":\"black\"},\"line_dash\":[4,4],\"line_width\":{\"value\":2},\"plot\":null,\"render_mode\":\"css\",\"right_units\":\"screen\",\"top_units\":\"screen\"},\"id\":\"2c75825d-e832-4e16-8de0-1d1c517c331d\",\"type\":\"BoxAnnotation\"},{\"attributes\":{},\"id\":\"deff6e89-1b10-41f4-8e0b-cbd37655e262\",\"type\":\"BasicTicker\"},{\"attributes\":{\"below\":[{\"id\":\"0a5725c5-508f-4b2a-b8fa-a4b01cc5ab86\",\"type\":\"LinearAxis\"}],\"left\":[{\"id\":\"f4860195-0dbd-4ee1-bb68-b93ad5409028\",\"type\":\"LinearAxis\"}],\"plot_height\":500,\"plot_width\":400,\"renderers\":[{\"id\":\"0a5725c5-508f-4b2a-b8fa-a4b01cc5ab86\",\"type\":\"LinearAxis\"},{\"id\":\"bbb2ffcb-e3ba-4819-8ae9-6412dcd25448\",\"type\":\"Grid\"},{\"id\":\"f4860195-0dbd-4ee1-bb68-b93ad5409028\",\"type\":\"LinearAxis\"},{\"id\":\"bca1b90a-3969-448b-a8e5-0a3a95ad36e7\",\"type\":\"Grid\"},{\"id\":\"628bb625-9bbd-4c94-9828-87834d1a20d4\",\"type\":\"BoxAnnotation\"},{\"id\":\"d3e98c62-689a-4628-bc32-8072331870db\",\"type\":\"GlyphRenderer\"},{\"id\":\"03e29433-a893-4198-a371-ec06bc8c0e25\",\"type\":\"GlyphRenderer\"},{\"id\":\"f3706e13-5c1a-4e7c-b00d-81876c80cdc9\",\"type\":\"GlyphRenderer\"},{\"id\":\"e26da431-36a6-4898-87dd-12a9082e418f\",\"type\":\"GlyphRenderer\"},{\"id\":\"e82d76dd-df54-43ed-9540-40297118af96\",\"type\":\"GlyphRenderer\"}],\"title\":{\"id\":\"dc64ed62-221c-4384-8b7e-62672e7f74a5\",\"type\":\"Title\"},\"toolbar\":{\"id\":\"17c3fb78-991f-4a51-a4ed-d8fe6c961063\",\"type\":\"Toolbar\"},\"toolbar_location\":null,\"x_range\":{\"id\":\"502bff8f-dd21-4950-814c-493359976351\",\"type\":\"Range1d\"},\"x_scale\":{\"id\":\"a9f7eabe-317c-4622-a282-80bdd34119c7\",\"type\":\"LinearScale\"},\"y_range\":{\"id\":\"1e8fa8f2-393e-4274-af8a-b888947ede06\",\"type\":\"Range1d\"},\"y_scale\":{\"id\":\"4c3021ff-e598-4efd-a691-048225bb45d4\",\"type\":\"LinearScale\"}},\"id\":\"0954b7b6-8181-4136-9891-479b3be561c7\",\"subtype\":\"Figure\",\"type\":\"Plot\"},{\"attributes\":{},\"id\":\"0c3d7fc2-bf2a-479b-9029-323ba16f51c5\",\"type\":\"ResetTool\"},{\"attributes\":{},\"id\":\"955a0c31-132e-4fb2-9b3c-a12bd352adfb\",\"type\":\"BasicTickFormatter\"},{\"attributes\":{\"axis_label\":\"cooling rate [K/day]\",\"formatter\":{\"id\":\"f322ead2-a1d1-4172-9a6d-68fff11a5548\",\"type\":\"BasicTickFormatter\"},\"plot\":{\"id\":\"ca608262-507a-42d1-ae93-6166e731cc6e\",\"subtype\":\"Figure\",\"type\":\"Plot\"},\"ticker\":{\"id\":\"d7000f68-0543-4068-b192-a793b7b857bb\",\"type\":\"BasicTicker\"}},\"id\":\"0a3c93e1-0ba3-41ab-b433-22faf7d0b1d3\",\"type\":\"LinearAxis\"},{\"attributes\":{\"axis_label\":\"cooling rate [K/day]\",\"formatter\":{\"id\":\"20238f07-2103-409b-8091-bafe276a520c\",\"type\":\"BasicTickFormatter\"},\"plot\":{\"id\":\"0954b7b6-8181-4136-9891-479b3be561c7\",\"subtype\":\"Figure\",\"type\":\"Plot\"},\"ticker\":{\"id\":\"deff6e89-1b10-41f4-8e0b-cbd37655e262\",\"type\":\"BasicTicker\"}},\"id\":\"0a5725c5-508f-4b2a-b8fa-a4b01cc5ab86\",\"type\":\"LinearAxis\"},{\"attributes\":{\"plot\":null,\"text\":\"Linear pressure scale\"},\"id\":\"dc64ed62-221c-4384-8b7e-62672e7f74a5\",\"type\":\"Title\"},{\"attributes\":{},\"id\":\"d7000f68-0543-4068-b192-a793b7b857bb\",\"type\":\"BasicTicker\"},{\"attributes\":{},\"id\":\"0585670a-387f-4833-b52f-81ab5df98a8f\",\"type\":\"SaveTool\"},{\"attributes\":{},\"id\":\"4adbc991-a862-493e-ac16-86ae88dc7d6c\",\"type\":\"PanTool\"},{\"attributes\":{\"axis_label\":\"pressure [mb]\",\"formatter\":{\"id\":\"89555e5e-f56a-44b6-bfd8-a035d171b4b2\",\"type\":\"LogTickFormatter\"},\"plot\":{\"id\":\"ca608262-507a-42d1-ae93-6166e731cc6e\",\"subtype\":\"Figure\",\"type\":\"Plot\"},\"ticker\":{\"id\":\"3d91d05d-e6d1-4f36-b5d9-5d2eb89fd231\",\"type\":\"LogTicker\"}},\"id\":\"88afb162-ebe5-482c-a439-c6ddbe6b5991\",\"type\":\"LogAxis\"},{\"attributes\":{},\"id\":\"a9f7eabe-317c-4622-a282-80bdd34119c7\",\"type\":\"LinearScale\"},{\"attributes\":{\"items\":[{\"id\":\"2f2ad59f-5973-4bfc-89a3-3ec4945dc889\",\"type\":\"LegendItem\"},{\"id\":\"dce0fe87-f265-48fe-92f1-99c326aff6f7\",\"type\":\"LegendItem\"},{\"id\":\"b994e86d-2298-447d-8dcb-2bfe6552a052\",\"type\":\"LegendItem\"}],\"label_text_font_size\":{\"value\":\"8pt\"},\"location\":[10,-30],\"plot\":{\"id\":\"ca608262-507a-42d1-ae93-6166e731cc6e\",\"subtype\":\"Figure\",\"type\":\"Plot\"}},\"id\":\"ffbdc959-bc25-418f-8341-0c426bc43905\",\"type\":\"Legend\"},{\"attributes\":{\"fill_alpha\":{\"value\":0.1},\"fill_color\":{\"value\":\"#1f77b4\"},\"line_alpha\":{\"value\":0.1},\"line_color\":{\"value\":\"#1f77b4\"},\"x\":{\"field\":\"x\"},\"y\":{\"field\":\"y\"}},\"id\":\"dad710ab-e7d9-42fe-a131-5d3862f52083\",\"type\":\"Circle\"},{\"attributes\":{},\"id\":\"4c3021ff-e598-4efd-a691-048225bb45d4\",\"type\":\"LinearScale\"},{\"attributes\":{\"callback\":null,\"column_names\":[\"x\",\"y\"],\"data\":{\"x\":{\"__ndarray__\":\"lecMkJlgYD8MTK9UJT9iPyz599gfYWY/jQy8W1wRaz+yVdmhoCdwP4RX1KHIE3M/n5hwBV9Tdj9XjFpksu15PyBFhfjs6n0/FwW8c0EpgT8ZSS4DtpGDP9m8+ELLMYY/5gsd5acLiT+T9px6+MCLP5ALlDVm6Y0/dNioR03Njz9c78eFtNqQPwHR5zE30JE/cJXyHabEkj+BE5UD+baTP7JtAiCvhpQ/H+quVGY2kz/ZYnWzWO2OP37buGpDaoc/F2mlusdsgT87ExF8V3Z5P8aFEEtbQHI/87yUrBX1aj99GgQROsxlP//LZUYnomI/YlZYwvQjYD/IrLNhGnRcP6HrGqPw9ls/+ctgaMu7Xj/jphmisOpgP1wcid/qQ2I/nTT0oyYgYz9uh160u09jP4hYsBX8y2k/hxMdrLQKcD84znGfcSlzP+nnfcdfv3Q/C/TGVkLBdT92M7UCyY92P1I0kOCmPHc/8ESDqg7Gej/xcOvIMjiCP6Xddg5WfYk/6DCmMwwslT8OfodHhyyhP2dlK8rNuag/frHJqqBTsD8PYJFfP0S0P/Iu/ZyZGLg/o/5A2nvIuz9APhnKJky/P+n6V7nET8E/DfYN6UPZwj8x1i+/cDrEPxn/oQ1+asU/EPFJBgRjxj95d4W6HyLHPzE+UJdaqcc/urjwMKv/xz8a1TPO8DDIP/qTvjGAR8g/qsUSnBtPyD/1Pwroz0jIP0+UxmCsDMg/02eLlPtXxz/bM0sC1NTFPxOB6h9EssM/iACWS5mKwT+kDVVrQAi/P8HTGjnB7bo/\",\"dtype\":\"float64\",\"shape\":[75]},\"y\":{\"__ndarray__\":\"GhExyth1ND/Sv8nbtpRIP2vylNV0PVE/aTum7souWD/At0SJ8fVgPw3Iuahxymc/MSNhhJWvcD/bTfBN02d3P2zb5nxnaoA/CD5h5MAGhz8NmeH1TyaQP+zrCsc9p5Y/LbKd76fGnz/bLW5ISEmmPww9YvTcQq8/JV2OstnstT8Er5Y7M8G+P0c+r3jqkcU/5h99k6ZBzj88bCIzFzjVP4enV8oyxN0//yH99nXg5D8qOpLLf0jtP5kqGJXUifQ/c9cS8kHP/D+/DpwzojQEQIEmwoanVwxA4lgXt9HgE0BSSZ2AJuIbQAMJih9jjiNA5q4l5INuK0AwTKYKRj0zQNv5fmq8/DpAaCJseHrtQkB/+zpwzoxKQM3MzMzMeFJAZmZmZmZqWEAAAAAAAFxeQM3MzMzMJmJAmpmZmZkfZUBmZmZmZhhoQDMzMzMzEWtAAAAAAAAKbkBmZmZmZoFwQM3MzMzM/XFAMzMzMzN6c0CamZmZmfZ0QAAAAAAAc3ZAZmZmZmbvd0DNzMzMzGt5QDMzMzMz6HpAmpmZmZlkfEAAAAAAAOF9QGZmZmZmXX9AZmZmZuZsgECamZmZGSuBQM3MzMxM6YFAAAAAAICngkAzMzMzs2WDQGZmZmbmI4RAmpmZmRnihEDNzMzMTKCFQAAAAACAXoZAMzMzM7Mch0BmZmZm5tqHQJqZmZkZmYhAzczMzExXiUAAAAAAgBWKQDMzMzOz04pAZmZmZuaRi0CamZmZGVCMQM3MzMxMDo1AAAAAAIDMjUAzMzMzs4qOQGZmZmbmSI9A\",\"dtype\":\"float64\",\"shape\":[75]}}},\"id\":\"d0681621-6edc-4228-aace-d980bf69d10e\",\"type\":\"ColumnDataSource\"},{\"attributes\":{\"children\":[{\"id\":\"1c8f0ce2-7149-4fe6-bd82-f5be6c077a04\",\"type\":\"ToolbarBox\"},{\"id\":\"4580f290-0443-46c4-b1c8-758248bf308a\",\"type\":\"Column\"}]},\"id\":\"91e4ed8e-55ae-4fc4-bde1-71fac056d7b6\",\"type\":\"Column\"},{\"attributes\":{\"ticker\":null},\"id\":\"89555e5e-f56a-44b6-bfd8-a035d171b4b2\",\"type\":\"LogTickFormatter\"},{\"attributes\":{\"fill_alpha\":{\"value\":0.1},\"fill_color\":{\"value\":\"#1f77b4\"},\"line_alpha\":{\"value\":0.1},\"line_color\":{\"value\":\"#1f77b4\"},\"x\":{\"field\":\"x\"},\"y\":{\"field\":\"y\"}},\"id\":\"e19645a2-6725-42a6-880b-1e5a5aada54a\",\"type\":\"Square\"},{\"attributes\":{\"source\":{\"id\":\"d0681621-6edc-4228-aace-d980bf69d10e\",\"type\":\"ColumnDataSource\"}},\"id\":\"7119f6a4-d270-426e-b4a2-cd182bd1cb8d\",\"type\":\"CDSView\"},{\"attributes\":{},\"id\":\"f322ead2-a1d1-4172-9a6d-68fff11a5548\",\"type\":\"BasicTickFormatter\"},{\"attributes\":{\"callback\":null,\"column_names\":[\"x\",\"y\"],\"data\":{\"x\":{\"__ndarray__\":\"dy43cMvgYD+rlmvi4IpiP0Kbh9tzMWY/wtN6MzxQaj+bFUHjiOVuP+XOV9bg+3E/zh3q0RfMdD+9dr6KK+h3P56PElXBVXs/jQY8HOMafz+IcmTnQ6KBP8cVUAE46oM/lfMHk9phhj/cTrlFwsGIPwgvMP/Rkoo/bY4V6G5QjD+QIU69gQ2OPzvBIrKi2Y8/JToYyKrakD9MYYkZTs6RPz+UykP2q5I/BYACJjC9kT9tG56gJEuNPz4nZdqW4oY/+/PFpOCTgT9Nw3YO7Xp6P36ociQ0e3M/ik37EloYbT+UJahYWDlnPwwEKGU0QWM/lloRd18NYD9Fl2ch7DBbP/rpCWul7Vk/ut0d1dsgXD/gIkh+XhlfP79h08KTEWE/NzGPZHg0Yj//IRJYzKdiP1fCVB8CRWk/4uZFQWPQbz+DkZep0S1zP/P5BVAf4nQ/1PG8R97wdT8z9FdUvsJ2Pxrcy5LBbnc/YxkmgF3hej/5gl4fnSGCP8NVTq9mOok/YbpG3znrlD8AJCVgivigP+XnP5KKeqg/5CxtM7wysD86Xbqv3iC0P6Sim9sC1Lc/hVuP6tg+uz+q3jWizXm+P9Te9TYt1cA/UMr66Gxhwj/JCr0Y4s3DP5xaf1n1AsU/bnqr1Q73xT/b1/xlV6jGP2HPWTxmJcc/yCP3sdl3xz9Ddbs8n6zHP8EOCJKQzMc/FAXXFyngxz8eXKNRsOXHP99FGXUEtMc/RxM5eNwJxz+asZ3tNJPFP3u+HEfifcM/cFls+aBhwT96gQgzdcm+P5Vqnwcux7o/\",\"dtype\":\"float64\",\"shape\":[75]},\"y\":{\"__ndarray__\":\"GhExyth1ND/Sv8nbtpRIP2vylNV0PVE/aTum7souWD/At0SJ8fVgPw3Iuahxymc/MSNhhJWvcD/bTfBN02d3P2zb5nxnaoA/CD5h5MAGhz8NmeH1TyaQP+zrCsc9p5Y/LbKd76fGnz/bLW5ISEmmPww9YvTcQq8/JV2OstnstT8Er5Y7M8G+P0c+r3jqkcU/5h99k6ZBzj88bCIzFzjVP4enV8oyxN0//yH99nXg5D8qOpLLf0jtP5kqGJXUifQ/c9cS8kHP/D+/DpwzojQEQIEmwoanVwxA4lgXt9HgE0BSSZ2AJuIbQAMJih9jjiNA5q4l5INuK0AwTKYKRj0zQNv5fmq8/DpAaCJseHrtQkB/+zpwzoxKQM3MzMzMeFJAZmZmZmZqWEAAAAAAAFxeQM3MzMzMJmJAmpmZmZkfZUBmZmZmZhhoQDMzMzMzEWtAAAAAAAAKbkBmZmZmZoFwQM3MzMzM/XFAMzMzMzN6c0CamZmZmfZ0QAAAAAAAc3ZAZmZmZmbvd0DNzMzMzGt5QDMzMzMz6HpAmpmZmZlkfEAAAAAAAOF9QGZmZmZmXX9AZmZmZuZsgECamZmZGSuBQM3MzMxM6YFAAAAAAICngkAzMzMzs2WDQGZmZmbmI4RAmpmZmRnihEDNzMzMTKCFQAAAAACAXoZAMzMzM7Mch0BmZmZm5tqHQJqZmZkZmYhAzczMzExXiUAAAAAAgBWKQDMzMzOz04pAZmZmZuaRi0CamZmZGVCMQM3MzMxMDo1AAAAAAIDMjUAzMzMzs4qOQGZmZmbmSI9A\",\"dtype\":\"float64\",\"shape\":[75]}}},\"id\":\"908dc956-dbc4-475f-b749-5b6b46aaa41e\",\"type\":\"ColumnDataSource\"},{\"attributes\":{},\"id\":\"20238f07-2103-409b-8091-bafe276a520c\",\"type\":\"BasicTickFormatter\"},{\"attributes\":{\"callback\":null,\"column_names\":[\"x\",\"y\"],\"data\":{\"x\":{\"__ndarray__\":\"dy43cMvgYD+rlmvi4IpiP0Kbh9tzMWY/wtN6MzxQaj+bFUHjiOVuP+XOV9bg+3E/zh3q0RfMdD+9dr6KK+h3P56PElXBVXs/jQY8HOMafz+IcmTnQ6KBP8cVUAE46oM/lfMHk9phhj/cTrlFwsGIPwgvMP/Rkoo/bY4V6G5QjD+QIU69gQ2OPzvBIrKi2Y8/JToYyKrakD9MYYkZTs6RPz+UykP2q5I/BYACJjC9kT9tG56gJEuNPz4nZdqW4oY/+/PFpOCTgT9Nw3YO7Xp6P36ociQ0e3M/ik37EloYbT+UJahYWDlnPwwEKGU0QWM/lloRd18NYD9Fl2ch7DBbP/rpCWul7Vk/ut0d1dsgXD/gIkh+XhlfP79h08KTEWE/NzGPZHg0Yj//IRJYzKdiP1fCVB8CRWk/4uZFQWPQbz+DkZep0S1zP/P5BVAf4nQ/1PG8R97wdT8z9FdUvsJ2Pxrcy5LBbnc/YxkmgF3hej/5gl4fnSGCP8NVTq9mOok/YbpG3znrlD8AJCVgivigP+XnP5KKeqg/5CxtM7wysD86Xbqv3iC0P6Sim9sC1Lc/hVuP6tg+uz+q3jWizXm+P9Te9TYt1cA/UMr66Gxhwj/JCr0Y4s3DP5xaf1n1AsU/bnqr1Q73xT/b1/xlV6jGP2HPWTxmJcc/yCP3sdl3xz9Ddbs8n6zHP8EOCJKQzMc/FAXXFyngxz8eXKNRsOXHP99FGXUEtMc/RxM5eNwJxz+asZ3tNJPFP3u+HEfifcM/cFls+aBhwT96gQgzdcm+P5Vqnwcux7o/\",\"dtype\":\"float64\",\"shape\":[75]},\"y\":{\"__ndarray__\":\"GhExyth1ND/Sv8nbtpRIP2vylNV0PVE/aTum7souWD/At0SJ8fVgPw3Iuahxymc/MSNhhJWvcD/bTfBN02d3P2zb5nxnaoA/CD5h5MAGhz8NmeH1TyaQP+zrCsc9p5Y/LbKd76fGnz/bLW5ISEmmPww9YvTcQq8/JV2OstnstT8Er5Y7M8G+P0c+r3jqkcU/5h99k6ZBzj88bCIzFzjVP4enV8oyxN0//yH99nXg5D8qOpLLf0jtP5kqGJXUifQ/c9cS8kHP/D+/DpwzojQEQIEmwoanVwxA4lgXt9HgE0BSSZ2AJuIbQAMJih9jjiNA5q4l5INuK0AwTKYKRj0zQNv5fmq8/DpAaCJseHrtQkB/+zpwzoxKQM3MzMzMeFJAZmZmZmZqWEAAAAAAAFxeQM3MzMzMJmJAmpmZmZkfZUBmZmZmZhhoQDMzMzMzEWtAAAAAAAAKbkBmZmZmZoFwQM3MzMzM/XFAMzMzMzN6c0CamZmZmfZ0QAAAAAAAc3ZAZmZmZmbvd0DNzMzMzGt5QDMzMzMz6HpAmpmZmZlkfEAAAAAAAOF9QGZmZmZmXX9AZmZmZuZsgECamZmZGSuBQM3MzMxM6YFAAAAAAICngkAzMzMzs2WDQGZmZmbmI4RAmpmZmRnihEDNzMzMTKCFQAAAAACAXoZAMzMzM7Mch0BmZmZm5tqHQJqZmZkZmYhAzczMzExXiUAAAAAAgBWKQDMzMzOz04pAZmZmZuaRi0CamZmZGVCMQM3MzMxMDo1AAAAAAIDMjUAzMzMzs4qOQGZmZmbmSI9A\",\"dtype\":\"float64\",\"shape\":[75]}}},\"id\":\"e6da258f-d578-4af7-9bed-35dd0abf1f37\",\"type\":\"ColumnDataSource\"},{\"attributes\":{\"callback\":null,\"column_names\":[\"x\",\"y\"],\"data\":{\"x\":{\"__ndarray__\":\"dy43cMvgYD+rlmvi4IpiP0Kbh9tzMWY/wtN6MzxQaj+bFUHjiOVuP+XOV9bg+3E/zh3q0RfMdD+9dr6KK+h3P56PElXBVXs/jQY8HOMafz+IcmTnQ6KBP8cVUAE46oM/lfMHk9phhj/cTrlFwsGIPwgvMP/Rkoo/bY4V6G5QjD+QIU69gQ2OPzvBIrKi2Y8/JToYyKrakD9MYYkZTs6RPz+UykP2q5I/BYACJjC9kT9tG56gJEuNPz4nZdqW4oY/+/PFpOCTgT9Nw3YO7Xp6P36ociQ0e3M/ik37EloYbT+UJahYWDlnPwwEKGU0QWM/lloRd18NYD9Fl2ch7DBbP/rpCWul7Vk/ut0d1dsgXD/gIkh+XhlfP79h08KTEWE/NzGPZHg0Yj//IRJYzKdiP1fCVB8CRWk/4uZFQWPQbz+DkZep0S1zP/P5BVAf4nQ/1PG8R97wdT8z9FdUvsJ2Pxrcy5LBbnc/YxkmgF3hej/5gl4fnSGCP8NVTq9mOok/YbpG3znrlD8AJCVgivigP+XnP5KKeqg/5CxtM7wysD86Xbqv3iC0P6Sim9sC1Lc/hVuP6tg+uz+q3jWizXm+P9Te9TYt1cA/UMr66Gxhwj/JCr0Y4s3DP5xaf1n1AsU/bnqr1Q73xT/b1/xlV6jGP2HPWTxmJcc/yCP3sdl3xz9Ddbs8n6zHP8EOCJKQzMc/FAXXFyngxz8eXKNRsOXHP99FGXUEtMc/RxM5eNwJxz+asZ3tNJPFP3u+HEfifcM/cFls+aBhwT96gQgzdcm+P5Vqnwcux7o/\",\"dtype\":\"float64\",\"shape\":[75]},\"y\":{\"__ndarray__\":\"GhExyth1ND/Sv8nbtpRIP2vylNV0PVE/aTum7souWD/At0SJ8fVgPw3Iuahxymc/MSNhhJWvcD/bTfBN02d3P2zb5nxnaoA/CD5h5MAGhz8NmeH1TyaQP+zrCsc9p5Y/LbKd76fGnz/bLW5ISEmmPww9YvTcQq8/JV2OstnstT8Er5Y7M8G+P0c+r3jqkcU/5h99k6ZBzj88bCIzFzjVP4enV8oyxN0//yH99nXg5D8qOpLLf0jtP5kqGJXUifQ/c9cS8kHP/D+/DpwzojQEQIEmwoanVwxA4lgXt9HgE0BSSZ2AJuIbQAMJih9jjiNA5q4l5INuK0AwTKYKRj0zQNv5fmq8/DpAaCJseHrtQkB/+zpwzoxKQM3MzMzMeFJAZmZmZmZqWEAAAAAAAFxeQM3MzMzMJmJAmpmZmZkfZUBmZmZmZhhoQDMzMzMzEWtAAAAAAAAKbkBmZmZmZoFwQM3MzMzM/XFAMzMzMzN6c0CamZmZmfZ0QAAAAAAAc3ZAZmZmZmbvd0DNzMzMzGt5QDMzMzMz6HpAmpmZmZlkfEAAAAAAAOF9QGZmZmZmXX9AZmZmZuZsgECamZmZGSuBQM3MzMxM6YFAAAAAAICngkAzMzMzs2WDQGZmZmbmI4RAmpmZmRnihEDNzMzMTKCFQAAAAACAXoZAMzMzM7Mch0BmZmZm5tqHQJqZmZkZmYhAzczMzExXiUAAAAAAgBWKQDMzMzOz04pAZmZmZuaRi0CamZmZGVCMQM3MzMxMDo1AAAAAAIDMjUAzMzMzs4qOQGZmZmbmSI9A\",\"dtype\":\"float64\",\"shape\":[75]}}},\"id\":\"e0e73f43-2d34-48f5-adba-4c84f6d570c6\",\"type\":\"ColumnDataSource\"},{\"attributes\":{\"callback\":null,\"column_names\":[\"x\",\"y\"],\"data\":{\"x\":{\"__ndarray__\":\"lecMkJlgYD8MTK9UJT9iPyz599gfYWY/jQy8W1wRaz+yVdmhoCdwP4RX1KHIE3M/n5hwBV9Tdj9XjFpksu15PyBFhfjs6n0/FwW8c0EpgT8ZSS4DtpGDP9m8+ELLMYY/5gsd5acLiT+T9px6+MCLP5ALlDVm6Y0/dNioR03Njz9c78eFtNqQPwHR5zE30JE/cJXyHabEkj+BE5UD+baTP7JtAiCvhpQ/H+quVGY2kz/ZYnWzWO2OP37buGpDaoc/F2mlusdsgT87ExF8V3Z5P8aFEEtbQHI/87yUrBX1aj99GgQROsxlP//LZUYnomI/YlZYwvQjYD/IrLNhGnRcP6HrGqPw9ls/+ctgaMu7Xj/jphmisOpgP1wcid/qQ2I/nTT0oyYgYz9uh160u09jP4hYsBX8y2k/hxMdrLQKcD84znGfcSlzP+nnfcdfv3Q/C/TGVkLBdT92M7UCyY92P1I0kOCmPHc/8ESDqg7Gej/xcOvIMjiCP6Xddg5WfYk/6DCmMwwslT8OfodHhyyhP2dlK8rNuag/frHJqqBTsD8PYJFfP0S0P/Iu/ZyZGLg/o/5A2nvIuz9APhnKJky/P+n6V7nET8E/DfYN6UPZwj8x1i+/cDrEPxn/oQ1+asU/EPFJBgRjxj95d4W6HyLHPzE+UJdaqcc/urjwMKv/xz8a1TPO8DDIP/qTvjGAR8g/qsUSnBtPyD/1Pwroz0jIP0+UxmCsDMg/02eLlPtXxz/bM0sC1NTFPxOB6h9EssM/iACWS5mKwT+kDVVrQAi/P8HTGjnB7bo/\",\"dtype\":\"float64\",\"shape\":[75]},\"y\":{\"__ndarray__\":\"GhExyth1ND/Sv8nbtpRIP2vylNV0PVE/aTum7souWD/At0SJ8fVgPw3Iuahxymc/MSNhhJWvcD/bTfBN02d3P2zb5nxnaoA/CD5h5MAGhz8NmeH1TyaQP+zrCsc9p5Y/LbKd76fGnz/bLW5ISEmmPww9YvTcQq8/JV2OstnstT8Er5Y7M8G+P0c+r3jqkcU/5h99k6ZBzj88bCIzFzjVP4enV8oyxN0//yH99nXg5D8qOpLLf0jtP5kqGJXUifQ/c9cS8kHP/D+/DpwzojQEQIEmwoanVwxA4lgXt9HgE0BSSZ2AJuIbQAMJih9jjiNA5q4l5INuK0AwTKYKRj0zQNv5fmq8/DpAaCJseHrtQkB/+zpwzoxKQM3MzMzMeFJAZmZmZmZqWEAAAAAAAFxeQM3MzMzMJmJAmpmZmZkfZUBmZmZmZhhoQDMzMzMzEWtAAAAAAAAKbkBmZmZmZoFwQM3MzMzM/XFAMzMzMzN6c0CamZmZmfZ0QAAAAAAAc3ZAZmZmZmbvd0DNzMzMzGt5QDMzMzMz6HpAmpmZmZlkfEAAAAAAAOF9QGZmZmZmXX9AZmZmZuZsgECamZmZGSuBQM3MzMxM6YFAAAAAAICngkAzMzMzs2WDQGZmZmbmI4RAmpmZmRnihEDNzMzMTKCFQAAAAACAXoZAMzMzM7Mch0BmZmZm5tqHQJqZmZkZmYhAzczMzExXiUAAAAAAgBWKQDMzMzOz04pAZmZmZuaRi0CamZmZGVCMQM3MzMxMDo1AAAAAAIDMjUAzMzMzs4qOQGZmZmbmSI9A\",\"dtype\":\"float64\",\"shape\":[75]}}},\"id\":\"95843e4f-6278-410d-bca7-c00c6f5fe76f\",\"type\":\"ColumnDataSource\"},{\"attributes\":{\"source\":{\"id\":\"e6da258f-d578-4af7-9bed-35dd0abf1f37\",\"type\":\"ColumnDataSource\"}},\"id\":\"bb8c6db9-b9c0-4af6-a914-2054ab856c28\",\"type\":\"CDSView\"},{\"attributes\":{\"fill_alpha\":{\"value\":0.7},\"fill_color\":{\"value\":\"#4daf4a\"},\"line_alpha\":{\"value\":0.7},\"line_color\":{\"value\":\"#4daf4a\"},\"x\":{\"field\":\"x\"},\"y\":{\"field\":\"y\"}},\"id\":\"2acfcd49-a66d-408a-9aec-d027cf46b2c6\",\"type\":\"Circle\"},{\"attributes\":{\"data_source\":{\"id\":\"e6da258f-d578-4af7-9bed-35dd0abf1f37\",\"type\":\"ColumnDataSource\"},\"glyph\":{\"id\":\"2be41b87-6d92-4e61-bcb6-1eba389eeaf8\",\"type\":\"Square\"},\"hover_glyph\":null,\"muted_glyph\":null,\"nonselection_glyph\":{\"id\":\"e19645a2-6725-42a6-880b-1e5a5aada54a\",\"type\":\"Square\"},\"selection_glyph\":null,\"view\":{\"id\":\"bb8c6db9-b9c0-4af6-a914-2054ab856c28\",\"type\":\"CDSView\"}},\"id\":\"e26da431-36a6-4898-87dd-12a9082e418f\",\"type\":\"GlyphRenderer\"},{\"attributes\":{\"data_source\":{\"id\":\"de1fbc0d-cf27-4c18-80b4-8a325d1feb2a\",\"type\":\"ColumnDataSource\"},\"glyph\":{\"id\":\"577966d2-9350-4ef2-bcff-9bf59e5e19de\",\"type\":\"Line\"},\"hover_glyph\":null,\"muted_glyph\":null,\"nonselection_glyph\":{\"id\":\"da90f054-c678-4abc-a0d4-79b27eb6c79a\",\"type\":\"Line\"},\"selection_glyph\":null,\"view\":{\"id\":\"b4c4b4c3-f65a-46ce-b757-277b346ab7b1\",\"type\":\"CDSView\"}},\"id\":\"ce4b55bb-76c6-41cc-a6fe-734fae1bdf04\",\"type\":\"GlyphRenderer\"},{\"attributes\":{\"data_source\":{\"id\":\"d0681621-6edc-4228-aace-d980bf69d10e\",\"type\":\"ColumnDataSource\"},\"glyph\":{\"id\":\"2acfcd49-a66d-408a-9aec-d027cf46b2c6\",\"type\":\"Circle\"},\"hover_glyph\":null,\"muted_glyph\":null,\"nonselection_glyph\":{\"id\":\"860ae9f7-5681-45d5-993d-f4e39a8e880c\",\"type\":\"Circle\"},\"selection_glyph\":null,\"view\":{\"id\":\"7119f6a4-d270-426e-b4a2-cd182bd1cb8d\",\"type\":\"CDSView\"}},\"id\":\"d27179f8-21e7-477a-851f-7c39bb93afb8\",\"type\":\"GlyphRenderer\"},{\"attributes\":{\"source\":{\"id\":\"de1fbc0d-cf27-4c18-80b4-8a325d1feb2a\",\"type\":\"ColumnDataSource\"}},\"id\":\"b4c4b4c3-f65a-46ce-b757-277b346ab7b1\",\"type\":\"CDSView\"},{\"attributes\":{\"fill_alpha\":{\"value\":0.1},\"fill_color\":{\"value\":\"#1f77b4\"},\"line_alpha\":{\"value\":0.1},\"line_color\":{\"value\":\"#1f77b4\"},\"x\":{\"field\":\"x\"},\"y\":{\"field\":\"y\"}},\"id\":\"860ae9f7-5681-45d5-993d-f4e39a8e880c\",\"type\":\"Circle\"},{\"attributes\":{\"line_color\":\"#4daf4a\",\"line_width\":1.5,\"x\":{\"field\":\"x\"},\"y\":{\"field\":\"y\"}},\"id\":\"25c84575-43ed-4630-ae67-eb3a39e26231\",\"type\":\"Line\"},{\"attributes\":{\"num_minor_ticks\":10},\"id\":\"3d91d05d-e6d1-4f36-b5d9-5d2eb89fd231\",\"type\":\"LogTicker\"},{\"attributes\":{\"fill_alpha\":{\"value\":0.1},\"fill_color\":{\"value\":\"#1f77b4\"},\"line_alpha\":{\"value\":0.1},\"line_color\":{\"value\":\"#1f77b4\"},\"x\":{\"field\":\"x\"},\"y\":{\"field\":\"y\"}},\"id\":\"79bee08c-1f9b-4c6e-8fb3-53c919827a15\",\"type\":\"Square\"},{\"attributes\":{\"data_source\":{\"id\":\"95843e4f-6278-410d-bca7-c00c6f5fe76f\",\"type\":\"ColumnDataSource\"},\"glyph\":{\"id\":\"25c84575-43ed-4630-ae67-eb3a39e26231\",\"type\":\"Line\"},\"hover_glyph\":null,\"muted_glyph\":null,\"nonselection_glyph\":{\"id\":\"ed87d98c-482d-48ab-b25b-26c95678ad46\",\"type\":\"Line\"},\"selection_glyph\":null,\"view\":{\"id\":\"da51fb3a-0777-464d-be30-6e4121f5d4c5\",\"type\":\"CDSView\"}},\"id\":\"68176ffb-c1ee-4899-8072-96642e7b7f7d\",\"type\":\"GlyphRenderer\"},{\"attributes\":{\"overlay\":{\"id\":\"2c75825d-e832-4e16-8de0-1d1c517c331d\",\"type\":\"BoxAnnotation\"}},\"id\":\"49c0fc11-f00c-4a7a-b109-f8f36a6d84d7\",\"type\":\"BoxZoomTool\"},{\"attributes\":{\"active_drag\":\"auto\",\"active_inspect\":\"auto\",\"active_scroll\":\"auto\",\"active_tap\":\"auto\",\"tools\":[{\"id\":\"5718bfcf-2405-4a90-8040-64f07cfd7844\",\"type\":\"PanTool\"},{\"id\":\"1fc46bae-0e3f-4c42-b5ec-b8e0a0bf5096\",\"type\":\"WheelZoomTool\"},{\"id\":\"563b030a-e741-4867-a2f2-6d0126795796\",\"type\":\"BoxZoomTool\"},{\"id\":\"05ec98dc-c784-474d-b1cf-1e88942a3969\",\"type\":\"SaveTool\"},{\"id\":\"0a870590-a1c2-4728-b205-04ca9c3a54cf\",\"type\":\"ResetTool\"},{\"id\":\"c34eb71a-d70b-40d6-8881-30196f044baf\",\"type\":\"HelpTool\"}]},\"id\":\"17c3fb78-991f-4a51-a4ed-d8fe6c961063\",\"type\":\"Toolbar\"},{\"attributes\":{\"line_alpha\":0.1,\"line_color\":\"#1f77b4\",\"line_width\":1.5,\"x\":{\"field\":\"x\"},\"y\":{\"field\":\"y\"}},\"id\":\"ed87d98c-482d-48ab-b25b-26c95678ad46\",\"type\":\"Line\"},{\"attributes\":{\"line_alpha\":0.6,\"line_color\":\"#984ea3\",\"line_width\":3,\"x\":{\"field\":\"x\"},\"y\":{\"field\":\"y\"}},\"id\":\"1c183edf-a6d2-4c31-a604-4d590e738fbe\",\"type\":\"Line\"},{\"attributes\":{\"source\":{\"id\":\"95843e4f-6278-410d-bca7-c00c6f5fe76f\",\"type\":\"ColumnDataSource\"}},\"id\":\"da51fb3a-0777-464d-be30-6e4121f5d4c5\",\"type\":\"CDSView\"},{\"attributes\":{\"fill_alpha\":{\"value\":0.7},\"fill_color\":{\"value\":\"#984ea3\"},\"line_alpha\":{\"value\":0.7},\"line_color\":{\"value\":\"#984ea3\"},\"x\":{\"field\":\"x\"},\"y\":{\"field\":\"y\"}},\"id\":\"6f7656a5-41e7-4688-a88f-a341b8095a10\",\"type\":\"Square\"},{\"attributes\":{\"data_source\":{\"id\":\"908dc956-dbc4-475f-b749-5b6b46aaa41e\",\"type\":\"ColumnDataSource\"},\"glyph\":{\"id\":\"6f7656a5-41e7-4688-a88f-a341b8095a10\",\"type\":\"Square\"},\"hover_glyph\":null,\"muted_glyph\":null,\"nonselection_glyph\":{\"id\":\"79bee08c-1f9b-4c6e-8fb3-53c919827a15\",\"type\":\"Square\"},\"selection_glyph\":null,\"view\":{\"id\":\"cfbde81c-9f60-449e-ac23-eeb902f85fb2\",\"type\":\"CDSView\"}},\"id\":\"62aa6644-6d3d-4f1e-afdd-3c73f7303cc8\",\"type\":\"GlyphRenderer\"},{\"attributes\":{\"below\":[{\"id\":\"0a3c93e1-0ba3-41ab-b433-22faf7d0b1d3\",\"type\":\"LinearAxis\"}],\"left\":[{\"id\":\"88afb162-ebe5-482c-a439-c6ddbe6b5991\",\"type\":\"LogAxis\"}],\"plot_height\":500,\"plot_width\":560,\"renderers\":[{\"id\":\"0a3c93e1-0ba3-41ab-b433-22faf7d0b1d3\",\"type\":\"LinearAxis\"},{\"id\":\"4ce1bd45-d423-4843-a1e9-173a3f876954\",\"type\":\"Grid\"},{\"id\":\"88afb162-ebe5-482c-a439-c6ddbe6b5991\",\"type\":\"LogAxis\"},{\"id\":\"354fde19-b1f8-492a-b50d-5bef6730ed0a\",\"type\":\"Grid\"},{\"id\":\"2c75825d-e832-4e16-8de0-1d1c517c331d\",\"type\":\"BoxAnnotation\"},{\"id\":\"ce4b55bb-76c6-41cc-a6fe-734fae1bdf04\",\"type\":\"GlyphRenderer\"},{\"id\":\"d27179f8-21e7-477a-851f-7c39bb93afb8\",\"type\":\"GlyphRenderer\"},{\"id\":\"68176ffb-c1ee-4899-8072-96642e7b7f7d\",\"type\":\"GlyphRenderer\"},{\"id\":\"62aa6644-6d3d-4f1e-afdd-3c73f7303cc8\",\"type\":\"GlyphRenderer\"},{\"id\":\"7b31ae0d-f49d-47ba-a1a6-681893d8703f\",\"type\":\"GlyphRenderer\"},{\"id\":\"ffbdc959-bc25-418f-8341-0c426bc43905\",\"type\":\"Legend\"}],\"right\":[{\"id\":\"ffbdc959-bc25-418f-8341-0c426bc43905\",\"type\":\"Legend\"}],\"title\":{\"id\":\"e98a591e-10fb-427b-bd7a-7f1481fd6c04\",\"type\":\"Title\"},\"toolbar\":{\"id\":\"42b1afa8-a579-4d8d-b209-2ee6199d000c\",\"type\":\"Toolbar\"},\"toolbar_location\":null,\"x_range\":{\"id\":\"2859e198-4ed5-46d3-adee-d98132350062\",\"type\":\"Range1d\"},\"x_scale\":{\"id\":\"fa6a4d05-4636-49db-be2c-87a9211de50e\",\"type\":\"LinearScale\"},\"y_range\":{\"id\":\"e1c08df0-152d-4755-94c2-11afde7f4043\",\"type\":\"Range1d\"},\"y_scale\":{\"id\":\"eca5973f-fa0f-4a7f-8c14-653649a1176c\",\"type\":\"LogScale\"}},\"id\":\"ca608262-507a-42d1-ae93-6166e731cc6e\",\"subtype\":\"Figure\",\"type\":\"Plot\"},{\"attributes\":{\"line_alpha\":0.1,\"line_color\":\"#1f77b4\",\"line_width\":3,\"x\":{\"field\":\"x\"},\"y\":{\"field\":\"y\"}},\"id\":\"644b66e0-2ba1-49fd-b902-f398fd6eecac\",\"type\":\"Line\"},{\"attributes\":{\"callback\":null,\"end\":0.020231635315,\"start\":0.001197791185},\"id\":\"2859e198-4ed5-46d3-adee-d98132350062\",\"type\":\"Range1d\"},{\"attributes\":{\"source\":{\"id\":\"908dc956-dbc4-475f-b749-5b6b46aaa41e\",\"type\":\"ColumnDataSource\"}},\"id\":\"cfbde81c-9f60-449e-ac23-eeb902f85fb2\",\"type\":\"CDSView\"},{\"attributes\":{\"line_alpha\":0.1,\"line_color\":\"#1f77b4\",\"line_width\":3,\"x\":{\"field\":\"x\"},\"y\":{\"field\":\"y\"}},\"id\":\"aa7faa9d-b3f6-41e8-a009-6f254f3efc8c\",\"type\":\"Line\"},{\"attributes\":{\"line_alpha\":0.6,\"line_color\":\"#984ea3\",\"line_width\":3,\"x\":{\"field\":\"x\"},\"y\":{\"field\":\"y\"}},\"id\":\"209cb174-07b8-4c57-a84c-14daf2ed570d\",\"type\":\"Line\"},{\"attributes\":{\"data_source\":{\"id\":\"e0e73f43-2d34-48f5-adba-4c84f6d570c6\",\"type\":\"ColumnDataSource\"},\"glyph\":{\"id\":\"209cb174-07b8-4c57-a84c-14daf2ed570d\",\"type\":\"Line\"},\"hover_glyph\":null,\"muted_glyph\":null,\"nonselection_glyph\":{\"id\":\"644b66e0-2ba1-49fd-b902-f398fd6eecac\",\"type\":\"Line\"},\"selection_glyph\":null,\"view\":{\"id\":\"bfccdedf-2496-4c43-a567-01b14dda5fdc\",\"type\":\"CDSView\"}},\"id\":\"7b31ae0d-f49d-47ba-a1a6-681893d8703f\",\"type\":\"GlyphRenderer\"},{\"attributes\":{\"line_alpha\":0.1,\"line_color\":\"#1f77b4\",\"line_width\":1.5,\"x\":{\"field\":\"x\"},\"y\":{\"field\":\"y\"}},\"id\":\"7151e7e4-6586-45ed-b888-1621f6ff4ef8\",\"type\":\"Line\"},{\"attributes\":{\"data_source\":{\"id\":\"6dd67df2-a4cf-437d-bb22-7092f409a884\",\"type\":\"ColumnDataSource\"},\"glyph\":{\"id\":\"1c183edf-a6d2-4c31-a604-4d590e738fbe\",\"type\":\"Line\"},\"hover_glyph\":null,\"muted_glyph\":null,\"nonselection_glyph\":{\"id\":\"aa7faa9d-b3f6-41e8-a009-6f254f3efc8c\",\"type\":\"Line\"},\"selection_glyph\":null,\"view\":{\"id\":\"81fc7490-3826-43a2-a685-deed69eb7409\",\"type\":\"CDSView\"}},\"id\":\"e82d76dd-df54-43ed-9540-40297118af96\",\"type\":\"GlyphRenderer\"},{\"attributes\":{\"fill_alpha\":{\"value\":0.7},\"fill_color\":{\"value\":\"#4daf4a\"},\"line_alpha\":{\"value\":0.7},\"line_color\":{\"value\":\"#4daf4a\"},\"x\":{\"field\":\"x\"},\"y\":{\"field\":\"y\"}},\"id\":\"f77d0741-bb3a-46c4-96fd-f1d422146ede\",\"type\":\"Circle\"},{\"attributes\":{\"label\":{\"value\":\"CRD\"},\"renderers\":[{\"id\":\"d27179f8-21e7-477a-851f-7c39bb93afb8\",\"type\":\"GlyphRenderer\"},{\"id\":\"68176ffb-c1ee-4899-8072-96642e7b7f7d\",\"type\":\"GlyphRenderer\"}]},\"id\":\"dce0fe87-f265-48fe-92f1-99c326aff6f7\",\"type\":\"LegendItem\"},{\"attributes\":{\"callback\":null,\"end\":0.192179181228,\"start\":-0.000328604028},\"id\":\"502bff8f-dd21-4950-814c-493359976351\",\"type\":\"Range1d\"},{\"attributes\":{\"source\":{\"id\":\"e0e73f43-2d34-48f5-adba-4c84f6d570c6\",\"type\":\"ColumnDataSource\"}},\"id\":\"bfccdedf-2496-4c43-a567-01b14dda5fdc\",\"type\":\"CDSView\"},{\"attributes\":{\"label\":{\"value\":\"WGT igg=10 wgt_flux=2\"},\"renderers\":[{\"id\":\"62aa6644-6d3d-4f1e-afdd-3c73f7303cc8\",\"type\":\"GlyphRenderer\"},{\"id\":\"7b31ae0d-f49d-47ba-a1a6-681893d8703f\",\"type\":\"GlyphRenderer\"}]},\"id\":\"b994e86d-2298-447d-8dcb-2bfe6552a052\",\"type\":\"LegendItem\"},{\"attributes\":{\"toolbar\":{\"id\":\"502ca17e-7284-4528-afa8-94f46a9734ba\",\"type\":\"ProxyToolbar\"},\"toolbar_location\":\"above\"},\"id\":\"1c8f0ce2-7149-4fe6-bd82-f5be6c077a04\",\"type\":\"ToolbarBox\"},{\"attributes\":{\"callback\":null,\"column_names\":[\"x\",\"y\"],\"data\":{\"x\":{\"__ndarray__\":\"dy43cMvgYD+rlmvi4IpiP0Kbh9tzMWY/wtN6MzxQaj+bFUHjiOVuP+XOV9bg+3E/zh3q0RfMdD+9dr6KK+h3P56PElXBVXs/jQY8HOMafz+IcmTnQ6KBP8cVUAE46oM/lfMHk9phhj/cTrlFwsGIPwgvMP/Rkoo/bY4V6G5QjD+QIU69gQ2OPzvBIrKi2Y8/JToYyKrakD9MYYkZTs6RPz+UykP2q5I/BYACJjC9kT9tG56gJEuNPz4nZdqW4oY/+/PFpOCTgT9Nw3YO7Xp6P36ociQ0e3M/ik37EloYbT+UJahYWDlnPwwEKGU0QWM/lloRd18NYD9Fl2ch7DBbP/rpCWul7Vk/ut0d1dsgXD/gIkh+XhlfP79h08KTEWE/NzGPZHg0Yj//IRJYzKdiP1fCVB8CRWk/4uZFQWPQbz+DkZep0S1zP/P5BVAf4nQ/1PG8R97wdT8z9FdUvsJ2Pxrcy5LBbnc/YxkmgF3hej/5gl4fnSGCP8NVTq9mOok/YbpG3znrlD8AJCVgivigP+XnP5KKeqg/5CxtM7wysD86Xbqv3iC0P6Sim9sC1Lc/hVuP6tg+uz+q3jWizXm+P9Te9TYt1cA/UMr66Gxhwj/JCr0Y4s3DP5xaf1n1AsU/bnqr1Q73xT/b1/xlV6jGP2HPWTxmJcc/yCP3sdl3xz9Ddbs8n6zHP8EOCJKQzMc/FAXXFyngxz8eXKNRsOXHP99FGXUEtMc/RxM5eNwJxz+asZ3tNJPFP3u+HEfifcM/cFls+aBhwT96gQgzdcm+P5Vqnwcux7o/\",\"dtype\":\"float64\",\"shape\":[75]},\"y\":{\"__ndarray__\":\"GhExyth1ND/Sv8nbtpRIP2vylNV0PVE/aTum7souWD/At0SJ8fVgPw3Iuahxymc/MSNhhJWvcD/bTfBN02d3P2zb5nxnaoA/CD5h5MAGhz8NmeH1TyaQP+zrCsc9p5Y/LbKd76fGnz/bLW5ISEmmPww9YvTcQq8/JV2OstnstT8Er5Y7M8G+P0c+r3jqkcU/5h99k6ZBzj88bCIzFzjVP4enV8oyxN0//yH99nXg5D8qOpLLf0jtP5kqGJXUifQ/c9cS8kHP/D+/DpwzojQEQIEmwoanVwxA4lgXt9HgE0BSSZ2AJuIbQAMJih9jjiNA5q4l5INuK0AwTKYKRj0zQNv5fmq8/DpAaCJseHrtQkB/+zpwzoxKQM3MzMzMeFJAZmZmZmZqWEAAAAAAAFxeQM3MzMzMJmJAmpmZmZkfZUBmZmZmZhhoQDMzMzMzEWtAAAAAAAAKbkBmZmZmZoFwQM3MzMzM/XFAMzMzMzN6c0CamZmZmfZ0QAAAAAAAc3ZAZmZmZmbvd0DNzMzMzGt5QDMzMzMz6HpAmpmZmZlkfEAAAAAAAOF9QGZmZmZmXX9AZmZmZuZsgECamZmZGSuBQM3MzMxM6YFAAAAAAICngkAzMzMzs2WDQGZmZmbmI4RAmpmZmRnihEDNzMzMTKCFQAAAAACAXoZAMzMzM7Mch0BmZmZm5tqHQJqZmZkZmYhAzczMzExXiUAAAAAAgBWKQDMzMzOz04pAZmZmZuaRi0CamZmZGVCMQM3MzMxMDo1AAAAAAIDMjUAzMzMzs4qOQGZmZmbmSI9A\",\"dtype\":\"float64\",\"shape\":[75]}}},\"id\":\"6dd67df2-a4cf-437d-bb22-7092f409a884\",\"type\":\"ColumnDataSource\"},{\"attributes\":{\"line_alpha\":0.6,\"line_color\":\"#e41a1c\",\"line_dash\":[6],\"line_width\":5,\"x\":{\"field\":\"x\"},\"y\":{\"field\":\"y\"}},\"id\":\"83b5ade6-22e1-419d-9747-732671c44317\",\"type\":\"Line\"},{\"attributes\":{\"callback\":null,\"end\":0.01,\"start\":1020},\"id\":\"e1c08df0-152d-4755-94c2-11afde7f4043\",\"type\":\"Range1d\"},{\"attributes\":{\"source\":{\"id\":\"be1ca4c9-3fef-44f8-9577-b7cf626d156c\",\"type\":\"ColumnDataSource\"}},\"id\":\"cbcdaa29-5b29-4f3a-b0f2-49d0d9afff11\",\"type\":\"CDSView\"},{\"attributes\":{\"data_source\":{\"id\":\"be1ca4c9-3fef-44f8-9577-b7cf626d156c\",\"type\":\"ColumnDataSource\"},\"glyph\":{\"id\":\"8c9b50b8-bb51-46f3-a034-6f88731a078c\",\"type\":\"Line\"},\"hover_glyph\":null,\"muted_glyph\":null,\"nonselection_glyph\":{\"id\":\"7151e7e4-6586-45ed-b888-1621f6ff4ef8\",\"type\":\"Line\"},\"selection_glyph\":null,\"view\":{\"id\":\"cbcdaa29-5b29-4f3a-b0f2-49d0d9afff11\",\"type\":\"CDSView\"}},\"id\":\"f3706e13-5c1a-4e7c-b00d-81876c80cdc9\",\"type\":\"GlyphRenderer\"},{\"attributes\":{\"source\":{\"id\":\"6dd67df2-a4cf-437d-bb22-7092f409a884\",\"type\":\"ColumnDataSource\"}},\"id\":\"81fc7490-3826-43a2-a685-deed69eb7409\",\"type\":\"CDSView\"},{\"attributes\":{\"fill_alpha\":{\"value\":0.7},\"fill_color\":{\"value\":\"#984ea3\"},\"line_alpha\":{\"value\":0.7},\"line_color\":{\"value\":\"#984ea3\"},\"x\":{\"field\":\"x\"},\"y\":{\"field\":\"y\"}},\"id\":\"2be41b87-6d92-4e61-bcb6-1eba389eeaf8\",\"type\":\"Square\"}],\"root_ids\":[\"91e4ed8e-55ae-4fc4-bde1-71fac056d7b6\"]},\"title\":\"Bokeh Application\",\"version\":\"0.12.14\"}};\n",
       "  var render_items = [{\"docid\":\"979de545-60e7-4263-b934-f04e6c84971a\",\"elementid\":\"d5c5049e-9b9d-4086-bb32-b8bbc609577c\",\"modelid\":\"91e4ed8e-55ae-4fc4-bde1-71fac056d7b6\"}];\n",
       "  root.Bokeh.embed.embed_items_notebook(docs_json, render_items);\n",
       "\n",
       "  }\n",
       "  if (root.Bokeh !== undefined) {\n",
       "    embed_document(root);\n",
       "  } else {\n",
       "    var attempts = 0;\n",
       "    var timer = setInterval(function(root) {\n",
       "      if (root.Bokeh !== undefined) {\n",
       "        embed_document(root);\n",
       "        clearInterval(timer);\n",
       "      }\n",
       "      attempts++;\n",
       "      if (attempts > 100) {\n",
       "        console.log(\"Bokeh: ERROR: Unable to run BokehJS code because BokehJS library is missing\")\n",
       "        clearInterval(timer);\n",
       "      }\n",
       "    }, 10, root)\n",
       "  }\n",
       "})(window);"
      ],
      "application/vnd.bokehjs_exec.v0+json": ""
     },
     "metadata": {
      "application/vnd.bokehjs_exec.v0+json": {
       "id": "91e4ed8e-55ae-4fc4-bde1-71fac056d7b6"
      }
     },
     "output_type": "display_data"
    },
    {
     "name": "stdout",
     "output_type": "stream",
     "text": [
      "FIGURE. Cooling rate profiles.\n"
     ]
    },
    {
     "data": {
      "text/html": [
       "<a id=\"Flux_Comparison\"></a>"
      ],
      "text/plain": [
       "<IPython.core.display.HTML object>"
      ]
     },
     "metadata": {},
     "output_type": "display_data"
    },
    {
     "data": {
      "text/markdown": [
       "# Flux Comparison"
      ],
      "text/plain": [
       "<IPython.core.display.Markdown object>"
      ]
     },
     "metadata": {},
     "output_type": "display_data"
    },
    {
     "data": {
      "text/html": [
       "<div>\n",
       "<style>\n",
       "    .dataframe thead tr:only-child th {\n",
       "        text-align: right;\n",
       "    }\n",
       "\n",
       "    .dataframe thead th {\n",
       "        text-align: left;\n",
       "    }\n",
       "\n",
       "    .dataframe tbody tr th {\n",
       "        vertical-align: top;\n",
       "    }\n",
       "</style>\n",
       "<table border=\"1\" class=\"dataframe\">\n",
       "  <thead>\n",
       "    <tr style=\"text-align: right;\">\n",
       "      <th></th>\n",
       "      <th></th>\n",
       "      <th>flug</th>\n",
       "      <th>fldg</th>\n",
       "      <th>fnetg</th>\n",
       "    </tr>\n",
       "    <tr>\n",
       "      <th>pressure</th>\n",
       "      <th>level</th>\n",
       "      <th></th>\n",
       "      <th></th>\n",
       "      <th></th>\n",
       "    </tr>\n",
       "  </thead>\n",
       "  <tbody>\n",
       "    <tr>\n",
       "      <th>0.0000</th>\n",
       "      <th>1</th>\n",
       "      <td>-22.503938</td>\n",
       "      <td>0.000000</td>\n",
       "      <td>-22.503938</td>\n",
       "    </tr>\n",
       "    <tr>\n",
       "      <th>1.0685</th>\n",
       "      <th>24</th>\n",
       "      <td>-22.503379</td>\n",
       "      <td>0.001439</td>\n",
       "      <td>-22.501940</td>\n",
       "    </tr>\n",
       "    <tr>\n",
       "      <th>1013.0000</th>\n",
       "      <th>76</th>\n",
       "      <td>-23.591137</td>\n",
       "      <td>11.601337</td>\n",
       "      <td>-11.989801</td>\n",
       "    </tr>\n",
       "  </tbody>\n",
       "</table>\n",
       "</div>"
      ],
      "text/plain": [
       "                      flug       fldg      fnetg\n",
       "pressure  level                                 \n",
       "0.0000    1     -22.503938   0.000000 -22.503938\n",
       "1.0685    24    -22.503379   0.001439 -22.501940\n",
       "1013.0000 76    -23.591137  11.601337 -11.989801"
      ]
     },
     "metadata": {},
     "output_type": "display_data"
    },
    {
     "name": "stdout",
     "output_type": "stream",
     "text": [
      "Table. Fluxes. WGT igg=10 wgt_flux=1\n"
     ]
    },
    {
     "data": {
      "text/html": [
       "<div>\n",
       "<style>\n",
       "    .dataframe thead tr:only-child th {\n",
       "        text-align: right;\n",
       "    }\n",
       "\n",
       "    .dataframe thead th {\n",
       "        text-align: left;\n",
       "    }\n",
       "\n",
       "    .dataframe tbody tr th {\n",
       "        vertical-align: top;\n",
       "    }\n",
       "</style>\n",
       "<table border=\"1\" class=\"dataframe\">\n",
       "  <thead>\n",
       "    <tr style=\"text-align: right;\">\n",
       "      <th></th>\n",
       "      <th></th>\n",
       "      <th>flug</th>\n",
       "      <th>fldg</th>\n",
       "      <th>fnetg</th>\n",
       "    </tr>\n",
       "    <tr>\n",
       "      <th>pressure</th>\n",
       "      <th>level</th>\n",
       "      <th></th>\n",
       "      <th></th>\n",
       "      <th></th>\n",
       "    </tr>\n",
       "  </thead>\n",
       "  <tbody>\n",
       "    <tr>\n",
       "      <th>0.0000</th>\n",
       "      <th>1</th>\n",
       "      <td>-22.503850</td>\n",
       "      <td>0.000000</td>\n",
       "      <td>-22.503850</td>\n",
       "    </tr>\n",
       "    <tr>\n",
       "      <th>1.0685</th>\n",
       "      <th>24</th>\n",
       "      <td>-22.503284</td>\n",
       "      <td>0.001611</td>\n",
       "      <td>-22.501673</td>\n",
       "    </tr>\n",
       "    <tr>\n",
       "      <th>1013.0000</th>\n",
       "      <th>76</th>\n",
       "      <td>-23.591138</td>\n",
       "      <td>11.781515</td>\n",
       "      <td>-11.809623</td>\n",
       "    </tr>\n",
       "  </tbody>\n",
       "</table>\n",
       "</div>"
      ],
      "text/plain": [
       "                      flug       fldg      fnetg\n",
       "pressure  level                                 \n",
       "0.0000    1     -22.503850   0.000000 -22.503850\n",
       "1.0685    24    -22.503284   0.001611 -22.501673\n",
       "1013.0000 76    -23.591138  11.781515 -11.809623"
      ]
     },
     "metadata": {},
     "output_type": "display_data"
    },
    {
     "name": "stdout",
     "output_type": "stream",
     "text": [
      "Table. Fluxes. CRD\n"
     ]
    },
    {
     "data": {
      "text/html": [
       "<div>\n",
       "<style>\n",
       "    .dataframe thead tr:only-child th {\n",
       "        text-align: right;\n",
       "    }\n",
       "\n",
       "    .dataframe thead th {\n",
       "        text-align: left;\n",
       "    }\n",
       "\n",
       "    .dataframe tbody tr th {\n",
       "        vertical-align: top;\n",
       "    }\n",
       "</style>\n",
       "<table border=\"1\" class=\"dataframe\">\n",
       "  <thead>\n",
       "    <tr style=\"text-align: right;\">\n",
       "      <th></th>\n",
       "      <th></th>\n",
       "      <th>flug</th>\n",
       "      <th>fldg</th>\n",
       "      <th>fnetg</th>\n",
       "    </tr>\n",
       "    <tr>\n",
       "      <th>pressure</th>\n",
       "      <th>level</th>\n",
       "      <th></th>\n",
       "      <th></th>\n",
       "      <th></th>\n",
       "    </tr>\n",
       "  </thead>\n",
       "  <tbody>\n",
       "    <tr>\n",
       "      <th>1.000000e-08</th>\n",
       "      <th>1</th>\n",
       "      <td>-22.584901</td>\n",
       "      <td>0.000002</td>\n",
       "      <td>-22.584899</td>\n",
       "    </tr>\n",
       "    <tr>\n",
       "      <th>1.068500e+00</th>\n",
       "      <th>24</th>\n",
       "      <td>-22.584320</td>\n",
       "      <td>0.001426</td>\n",
       "      <td>-22.582894</td>\n",
       "    </tr>\n",
       "    <tr>\n",
       "      <th>1.013000e+03</th>\n",
       "      <th>76</th>\n",
       "      <td>-23.591140</td>\n",
       "      <td>11.431329</td>\n",
       "      <td>-12.159811</td>\n",
       "    </tr>\n",
       "  </tbody>\n",
       "</table>\n",
       "</div>"
      ],
      "text/plain": [
       "                         flug       fldg      fnetg\n",
       "pressure     level                                 \n",
       "1.000000e-08 1     -22.584901   0.000002 -22.584899\n",
       "1.068500e+00 24    -22.584320   0.001426 -22.582894\n",
       "1.013000e+03 76    -23.591140  11.431329 -12.159811"
      ]
     },
     "metadata": {},
     "output_type": "display_data"
    },
    {
     "name": "stdout",
     "output_type": "stream",
     "text": [
      "Table. Fluxes. CLIRAD\n"
     ]
    },
    {
     "data": {
      "text/html": [
       "<div>\n",
       "<style>\n",
       "    .dataframe thead tr:only-child th {\n",
       "        text-align: right;\n",
       "    }\n",
       "\n",
       "    .dataframe thead th {\n",
       "        text-align: left;\n",
       "    }\n",
       "\n",
       "    .dataframe tbody tr th {\n",
       "        vertical-align: top;\n",
       "    }\n",
       "</style>\n",
       "<table border=\"1\" class=\"dataframe\">\n",
       "  <thead>\n",
       "    <tr style=\"text-align: right;\">\n",
       "      <th></th>\n",
       "      <th></th>\n",
       "      <th>flug</th>\n",
       "      <th>fldg</th>\n",
       "      <th>fnetg</th>\n",
       "    </tr>\n",
       "    <tr>\n",
       "      <th>pressure</th>\n",
       "      <th>level</th>\n",
       "      <th></th>\n",
       "      <th></th>\n",
       "      <th></th>\n",
       "    </tr>\n",
       "  </thead>\n",
       "  <tbody>\n",
       "    <tr>\n",
       "      <th>0.0000</th>\n",
       "      <th>1</th>\n",
       "      <td>8.848490e-05</td>\n",
       "      <td>0.000000</td>\n",
       "      <td>0.000088</td>\n",
       "    </tr>\n",
       "    <tr>\n",
       "      <th>1.0685</th>\n",
       "      <th>24</th>\n",
       "      <td>9.461710e-05</td>\n",
       "      <td>0.000173</td>\n",
       "      <td>0.000267</td>\n",
       "    </tr>\n",
       "    <tr>\n",
       "      <th>1013.0000</th>\n",
       "      <th>76</th>\n",
       "      <td>-6.810000e-07</td>\n",
       "      <td>0.180178</td>\n",
       "      <td>0.180178</td>\n",
       "    </tr>\n",
       "  </tbody>\n",
       "</table>\n",
       "</div>"
      ],
      "text/plain": [
       "                         flug      fldg     fnetg\n",
       "pressure  level                                  \n",
       "0.0000    1      8.848490e-05  0.000000  0.000088\n",
       "1.0685    24     9.461710e-05  0.000173  0.000267\n",
       "1013.0000 76    -6.810000e-07  0.180178  0.180178"
      ]
     },
     "metadata": {},
     "output_type": "display_data"
    },
    {
     "name": "stdout",
     "output_type": "stream",
     "text": [
      "Table. Fluxes. (CRD) - (WGT igg=10 wgt_flux=1)\n"
     ]
    },
    {
     "data": {
      "text/html": [
       "<div>\n",
       "<style>\n",
       "    .dataframe thead tr:only-child th {\n",
       "        text-align: right;\n",
       "    }\n",
       "\n",
       "    .dataframe thead th {\n",
       "        text-align: left;\n",
       "    }\n",
       "\n",
       "    .dataframe tbody tr th {\n",
       "        vertical-align: top;\n",
       "    }\n",
       "</style>\n",
       "<table border=\"1\" class=\"dataframe\">\n",
       "  <thead>\n",
       "    <tr style=\"text-align: right;\">\n",
       "      <th></th>\n",
       "      <th></th>\n",
       "      <th>flug</th>\n",
       "      <th>fldg</th>\n",
       "      <th>fnetg</th>\n",
       "    </tr>\n",
       "    <tr>\n",
       "      <th>pressure</th>\n",
       "      <th>level</th>\n",
       "      <th></th>\n",
       "      <th></th>\n",
       "      <th></th>\n",
       "    </tr>\n",
       "  </thead>\n",
       "  <tbody>\n",
       "    <tr>\n",
       "      <th>0.0000</th>\n",
       "      <th>1</th>\n",
       "      <td>-0.080963</td>\n",
       "      <td>0.000002</td>\n",
       "      <td>-0.080961</td>\n",
       "    </tr>\n",
       "    <tr>\n",
       "      <th>1.0685</th>\n",
       "      <th>24</th>\n",
       "      <td>-0.080941</td>\n",
       "      <td>-0.000013</td>\n",
       "      <td>-0.080954</td>\n",
       "    </tr>\n",
       "    <tr>\n",
       "      <th>1013.0000</th>\n",
       "      <th>76</th>\n",
       "      <td>-0.000003</td>\n",
       "      <td>-0.170008</td>\n",
       "      <td>-0.170010</td>\n",
       "    </tr>\n",
       "  </tbody>\n",
       "</table>\n",
       "</div>"
      ],
      "text/plain": [
       "                     flug      fldg     fnetg\n",
       "pressure  level                              \n",
       "0.0000    1     -0.080963  0.000002 -0.080961\n",
       "1.0685    24    -0.080941 -0.000013 -0.080954\n",
       "1013.0000 76    -0.000003 -0.170008 -0.170010"
      ]
     },
     "metadata": {},
     "output_type": "display_data"
    },
    {
     "name": "stdout",
     "output_type": "stream",
     "text": [
      "Table. Fluxes. (CLIRAD) - (WGT igg=10 wgt_flux=1)\n"
     ]
    },
    {
     "data": {
      "text/html": [
       "<a id=\"Best-fit_Parameters\"></a>"
      ],
      "text/plain": [
       "<IPython.core.display.HTML object>"
      ]
     },
     "metadata": {},
     "output_type": "display_data"
    },
    {
     "data": {
      "text/markdown": [
       "# Best-fit Parameters"
      ],
      "text/plain": [
       "<IPython.core.display.Markdown object>"
      ]
     },
     "metadata": {},
     "output_type": "display_data"
    },
    {
     "name": "stdout",
     "output_type": "stream",
     "text": [
      "Best-fit values for each (gas, band)\n",
      "------------------------------------\n",
      "o h2o band3a\n",
      "  atmpro = mls\n",
      "  band = 3a\n",
      "  commitnumber = a06b618\n",
      "  conc = None\n",
      "  dv = 0.001\n",
      "  klin = 0\n",
      "  molecule = h2o\n",
      "  ng_adju = [0, 0]\n",
      "  ng_refs = [2, 6]\n",
      "  nv = 1000\n",
      "  option_compute_btable = 0\n",
      "  option_compute_ktable = 1\n",
      "  option_wgt_flux = 1\n",
      "  option_wgt_k = 1\n",
      "  ref_pts = [(10, 250), (600, 250)]\n",
      "  tsfc = 294\n",
      "  vmax = 620\n",
      "  vmin = 540\n",
      "  w_diffuse = [(1.9, 1.7), (1.4, 1.4, 1.4, 1.55, 1.6, 1.66)]\n",
      "  wgt = [(0.7, 0.7), (0.7, 0.5, 0.5, 0.5, 0.5, 0.5)]\n"
     ]
    }
   ],
   "source": [
    "script()"
   ]
  },
  {
   "cell_type": "code",
   "execution_count": 13,
   "metadata": {
    "collapsed": true
   },
   "outputs": [
    {
     "data": {
      "text/html": [
       "<script>\n",
       "code_show=true; \n",
       "function code_toggle() {\n",
       " if (code_show){\n",
       " $('div.input').hide();\n",
       " } else {\n",
       " $('div.input').show();\n",
       " }\n",
       " code_show = !code_show\n",
       "} \n",
       "$( document ).ready(code_toggle);\n",
       "</script>\n",
       "<form action=\"javascript:code_toggle()\"><input type=\"submit\" value=\"Click here to toggle on/off the raw code.\"></form>"
      ],
      "text/plain": [
       "<IPython.core.display.HTML object>"
      ]
     },
     "execution_count": 13,
     "metadata": {},
     "output_type": "execute_result"
    }
   ],
   "source": [
    "display.HTML('''<script>\n",
    "code_show=true; \n",
    "function code_toggle() {\n",
    " if (code_show){\n",
    " $('div.input').hide();\n",
    " } else {\n",
    " $('div.input').show();\n",
    " }\n",
    " code_show = !code_show\n",
    "} \n",
    "$( document ).ready(code_toggle);\n",
    "</script>\n",
    "<form action=\"javascript:code_toggle()\"><input type=\"submit\" value=\"Click here to toggle on/off the raw code.\"></form>''')"
   ]
  }
 ],
 "metadata": {
  "kernelspec": {
   "display_name": "Python 3",
   "language": "python",
   "name": "python3"
  },
  "language_info": {
   "codemirror_mode": {
    "name": "ipython",
    "version": 3
   },
   "file_extension": ".py",
   "mimetype": "text/x-python",
   "name": "python",
   "nbconvert_exporter": "python",
   "pygments_lexer": "ipython3",
   "version": "3.6.1"
  }
 },
 "nbformat": 4,
 "nbformat_minor": 2
}
