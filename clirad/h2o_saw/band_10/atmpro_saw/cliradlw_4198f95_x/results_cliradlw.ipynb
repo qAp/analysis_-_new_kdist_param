{
 "cells": [
  {
   "cell_type": "code",
   "execution_count": 1,
   "metadata": {
    "collapsed": true
   },
   "outputs": [],
   "source": [
    "%matplotlib inline\n",
    "import os\n",
    "import re\n",
    "import io\n",
    "import itertools\n",
    "import pprint\n",
    "\n",
    "from bokeh.io import output_notebook, show\n",
    "from bokeh.layouts import gridplot\n",
    "from bokeh.plotting import figure\n",
    "from bokeh.models import Range1d, Legend\n",
    "from bokeh.palettes import all_palettes\n",
    "\n",
    "import matplotlib\n",
    "import matplotlib.pyplot as plt\n",
    "import numpy as np\n",
    "import pandas as pd\n",
    "import xarray as xr\n",
    "\n",
    "import climatools.lblnew.bestfit_params as bestfits\n",
    "from climatools.lblnew import setup_bestfit, setup_overlap\n",
    "import climatools.lblnew.pipeline as pipe_lblnew\n",
    "import climatools.cliradlw.setup as setup_cliradlw\n",
    "import climatools.cliradlw.pipeline as pipe_cliradlw\n",
    "\n",
    "import climatools.html.html as climahtml\n",
    "from climatools.lblnew.dataio import *\n",
    "from climatools.plot.plot import *\n",
    "\n",
    "\n",
    "import IPython.display as display"
   ]
  },
  {
   "cell_type": "code",
   "execution_count": 2,
   "metadata": {
    "collapsed": true
   },
   "outputs": [],
   "source": [
    "%run param.py"
   ]
  },
  {
   "cell_type": "code",
   "execution_count": 3,
   "metadata": {
    "collapsed": true
   },
   "outputs": [],
   "source": [
    "def load_output_file(path_csv):\n",
    "    '''\n",
    "    Load lblnew output .csv file to xarray.Dataset\n",
    "    \n",
    "    Parameters\n",
    "    ----------\n",
    "    path_csv: str\n",
    "              Path to the .csv file to be loaded.\n",
    "    ds: xarray.Dataset\n",
    "        Data in the input file in the form of an xarray.Dataset.\n",
    "    '''\n",
    "    toindex = ['band', 'pressure', 'igg', 'g']    \n",
    "    df = pd.read_csv(path_csv, sep=r'\\s+')\n",
    "    df = df.set_index([i for i in toindex if i in df.columns])\n",
    "    df = df.rename(columns={'sfu': 'flug',\n",
    "                            'sfd': 'fldg',\n",
    "                            'fnet': 'fnetg',\n",
    "                            'coolr': 'coolrg'})\n",
    "    ds = xr.Dataset.from_dataframe(df)\n",
    "\n",
    "    for l in ('level', 'layer'):\n",
    "        if l in ds.data_vars:\n",
    "            if len(ds[l].dims) > 1:\n",
    "                surface = {d: 0 for d in ds.dims if d != 'pressure'}\n",
    "                coord_level = ds[l][surface]\n",
    "                ds.coords[l] = ('pressure', coord_level)\n",
    "            else:\n",
    "                ds.coords[l] = ('pressure', ds[l])\n",
    "    \n",
    "    return ds"
   ]
  },
  {
   "cell_type": "code",
   "execution_count": 4,
   "metadata": {
    "collapsed": true
   },
   "outputs": [],
   "source": [
    "def lblnew_setup(param=None):\n",
    "    if 'ng_refs' in param:\n",
    "        return {'setup': setup_bestfit,\n",
    "                'fname_flux_crd': 'output_flux.dat',\n",
    "                'fname_cool_crd': 'output_coolr.dat',\n",
    "                'fname_flux_wgt': 'output_wfluxg.dat',\n",
    "                'fname_cool_wgt': 'output_wcoolrg.dat'}\n",
    "    else:\n",
    "        return {'setup': setup_overlap,\n",
    "                'fname_flux_crd': 'output_flux.dat',\n",
    "                'fname_cool_crd': 'output_coolr.dat',\n",
    "                'fname_flux_wgt': 'output_wflux.dat',\n",
    "                'fname_cool_wgt': 'output_wcoolr.dat'}\n",
    "\n",
    "    \n",
    "def load_lblnew_data(param):\n",
    "    \n",
    "    fname_dsname = [('fname_flux_crd', 'ds_flux_crd'),\n",
    "                    ('fname_cool_crd', 'ds_cool_crd'),\n",
    "                    ('fname_flux_wgt', 'ds_flux_wgt'),\n",
    "                    ('fname_cool_wgt', 'ds_cool_wgt')]\n",
    "    \n",
    "    d = lblnew_setup(param)\n",
    "    dir_fortran = pipe_lblnew.get_dir_case(param, setup=d['setup'])\n",
    "    \n",
    "    data_dict = {}\n",
    "    for fname, dsname in fname_dsname:\n",
    "        fpath = os.path.join(dir_fortran, d[fname])\n",
    "        data_dict[dsname] = load_output_file(fpath)\n",
    "    return data_dict\n",
    "    \n",
    "\n",
    "    \n",
    "    "
   ]
  },
  {
   "cell_type": "code",
   "execution_count": 5,
   "metadata": {
    "collapsed": true
   },
   "outputs": [],
   "source": [
    "d = load_lblnew_data(PARAM_LBLNEW)\n",
    "\n",
    "DS_FLUX_CRD = d['ds_flux_crd']\n",
    "DS_COOL_CRD = d['ds_cool_crd']\n",
    "DS_FLUX_WGT = d['ds_flux_wgt']\n",
    "DS_COOL_WGT = d['ds_cool_wgt']"
   ]
  },
  {
   "cell_type": "code",
   "execution_count": 6,
   "metadata": {
    "collapsed": true
   },
   "outputs": [],
   "source": [
    "DIR_FORTRAN = pipe_cliradlw.get_fortran_dir(PARAM, \n",
    "                                            setup=setup_cliradlw)\n",
    "\n",
    "PATH_FLUX = os.path.join(DIR_FORTRAN, 'output_flux.dat')\n",
    "PATH_COOL = os.path.join(DIR_FORTRAN, 'output_coolr.dat')\n",
    "\n",
    "DS_FLUX = load_output_file(PATH_FLUX)\n",
    "DS_COOL = load_output_file(PATH_COOL)"
   ]
  },
  {
   "cell_type": "code",
   "execution_count": 7,
   "metadata": {
    "collapsed": true
   },
   "outputs": [
    {
     "data": {
      "text/html": [
       "\n",
       "    <div class=\"bk-root\">\n",
       "        <a href=\"https://bokeh.pydata.org\" target=\"_blank\" class=\"bk-logo bk-logo-small bk-logo-notebook\"></a>\n",
       "        <span id=\"6f99d6b6-cc80-4f08-b6c9-f3e0444f265f\">Loading BokehJS ...</span>\n",
       "    </div>"
      ]
     },
     "metadata": {},
     "output_type": "display_data"
    },
    {
     "data": {
      "application/javascript": [
       "\n",
       "(function(root) {\n",
       "  function now() {\n",
       "    return new Date();\n",
       "  }\n",
       "\n",
       "  var force = true;\n",
       "\n",
       "  if (typeof (root._bokeh_onload_callbacks) === \"undefined\" || force === true) {\n",
       "    root._bokeh_onload_callbacks = [];\n",
       "    root._bokeh_is_loading = undefined;\n",
       "  }\n",
       "\n",
       "  var JS_MIME_TYPE = 'application/javascript';\n",
       "  var HTML_MIME_TYPE = 'text/html';\n",
       "  var EXEC_MIME_TYPE = 'application/vnd.bokehjs_exec.v0+json';\n",
       "  var CLASS_NAME = 'output_bokeh rendered_html';\n",
       "\n",
       "  /**\n",
       "   * Render data to the DOM node\n",
       "   */\n",
       "  function render(props, node) {\n",
       "    var script = document.createElement(\"script\");\n",
       "    node.appendChild(script);\n",
       "  }\n",
       "\n",
       "  /**\n",
       "   * Handle when an output is cleared or removed\n",
       "   */\n",
       "  function handleClearOutput(event, handle) {\n",
       "    var cell = handle.cell;\n",
       "\n",
       "    var id = cell.output_area._bokeh_element_id;\n",
       "    var server_id = cell.output_area._bokeh_server_id;\n",
       "    // Clean up Bokeh references\n",
       "    if (id !== undefined) {\n",
       "      Bokeh.index[id].model.document.clear();\n",
       "      delete Bokeh.index[id];\n",
       "    }\n",
       "\n",
       "    if (server_id !== undefined) {\n",
       "      // Clean up Bokeh references\n",
       "      var cmd = \"from bokeh.io.state import curstate; print(curstate().uuid_to_server['\" + server_id + \"'].get_sessions()[0].document.roots[0]._id)\";\n",
       "      cell.notebook.kernel.execute(cmd, {\n",
       "        iopub: {\n",
       "          output: function(msg) {\n",
       "            var element_id = msg.content.text.trim();\n",
       "            Bokeh.index[element_id].model.document.clear();\n",
       "            delete Bokeh.index[element_id];\n",
       "          }\n",
       "        }\n",
       "      });\n",
       "      // Destroy server and session\n",
       "      var cmd = \"import bokeh.io.notebook as ion; ion.destroy_server('\" + server_id + \"')\";\n",
       "      cell.notebook.kernel.execute(cmd);\n",
       "    }\n",
       "  }\n",
       "\n",
       "  /**\n",
       "   * Handle when a new output is added\n",
       "   */\n",
       "  function handleAddOutput(event, handle) {\n",
       "    var output_area = handle.output_area;\n",
       "    var output = handle.output;\n",
       "\n",
       "    // limit handleAddOutput to display_data with EXEC_MIME_TYPE content only\n",
       "    if ((output.output_type != \"display_data\") || (!output.data.hasOwnProperty(EXEC_MIME_TYPE))) {\n",
       "      return\n",
       "    }\n",
       "\n",
       "    var toinsert = output_area.element.find(\".\" + CLASS_NAME.split(' ')[0]);\n",
       "\n",
       "    if (output.metadata[EXEC_MIME_TYPE][\"id\"] !== undefined) {\n",
       "      toinsert[toinsert.length - 1].firstChild.textContent = output.data[JS_MIME_TYPE];\n",
       "      // store reference to embed id on output_area\n",
       "      output_area._bokeh_element_id = output.metadata[EXEC_MIME_TYPE][\"id\"];\n",
       "    }\n",
       "    if (output.metadata[EXEC_MIME_TYPE][\"server_id\"] !== undefined) {\n",
       "      var bk_div = document.createElement(\"div\");\n",
       "      bk_div.innerHTML = output.data[HTML_MIME_TYPE];\n",
       "      var script_attrs = bk_div.children[0].attributes;\n",
       "      for (var i = 0; i < script_attrs.length; i++) {\n",
       "        toinsert[toinsert.length - 1].firstChild.setAttribute(script_attrs[i].name, script_attrs[i].value);\n",
       "      }\n",
       "      // store reference to server id on output_area\n",
       "      output_area._bokeh_server_id = output.metadata[EXEC_MIME_TYPE][\"server_id\"];\n",
       "    }\n",
       "  }\n",
       "\n",
       "  function register_renderer(events, OutputArea) {\n",
       "\n",
       "    function append_mime(data, metadata, element) {\n",
       "      // create a DOM node to render to\n",
       "      var toinsert = this.create_output_subarea(\n",
       "        metadata,\n",
       "        CLASS_NAME,\n",
       "        EXEC_MIME_TYPE\n",
       "      );\n",
       "      this.keyboard_manager.register_events(toinsert);\n",
       "      // Render to node\n",
       "      var props = {data: data, metadata: metadata[EXEC_MIME_TYPE]};\n",
       "      render(props, toinsert[toinsert.length - 1]);\n",
       "      element.append(toinsert);\n",
       "      return toinsert\n",
       "    }\n",
       "\n",
       "    /* Handle when an output is cleared or removed */\n",
       "    events.on('clear_output.CodeCell', handleClearOutput);\n",
       "    events.on('delete.Cell', handleClearOutput);\n",
       "\n",
       "    /* Handle when a new output is added */\n",
       "    events.on('output_added.OutputArea', handleAddOutput);\n",
       "\n",
       "    /**\n",
       "     * Register the mime type and append_mime function with output_area\n",
       "     */\n",
       "    OutputArea.prototype.register_mime_type(EXEC_MIME_TYPE, append_mime, {\n",
       "      /* Is output safe? */\n",
       "      safe: true,\n",
       "      /* Index of renderer in `output_area.display_order` */\n",
       "      index: 0\n",
       "    });\n",
       "  }\n",
       "\n",
       "  // register the mime type if in Jupyter Notebook environment and previously unregistered\n",
       "  if (root.Jupyter !== undefined) {\n",
       "    var events = require('base/js/events');\n",
       "    var OutputArea = require('notebook/js/outputarea').OutputArea;\n",
       "\n",
       "    if (OutputArea.prototype.mime_types().indexOf(EXEC_MIME_TYPE) == -1) {\n",
       "      register_renderer(events, OutputArea);\n",
       "    }\n",
       "  }\n",
       "\n",
       "  \n",
       "  if (typeof (root._bokeh_timeout) === \"undefined\" || force === true) {\n",
       "    root._bokeh_timeout = Date.now() + 5000;\n",
       "    root._bokeh_failed_load = false;\n",
       "  }\n",
       "\n",
       "  var NB_LOAD_WARNING = {'data': {'text/html':\n",
       "     \"<div style='background-color: #fdd'>\\n\"+\n",
       "     \"<p>\\n\"+\n",
       "     \"BokehJS does not appear to have successfully loaded. If loading BokehJS from CDN, this \\n\"+\n",
       "     \"may be due to a slow or bad network connection. Possible fixes:\\n\"+\n",
       "     \"</p>\\n\"+\n",
       "     \"<ul>\\n\"+\n",
       "     \"<li>re-rerun `output_notebook()` to attempt to load from CDN again, or</li>\\n\"+\n",
       "     \"<li>use INLINE resources instead, as so:</li>\\n\"+\n",
       "     \"</ul>\\n\"+\n",
       "     \"<code>\\n\"+\n",
       "     \"from bokeh.resources import INLINE\\n\"+\n",
       "     \"output_notebook(resources=INLINE)\\n\"+\n",
       "     \"</code>\\n\"+\n",
       "     \"</div>\"}};\n",
       "\n",
       "  function display_loaded() {\n",
       "    var el = document.getElementById(\"6f99d6b6-cc80-4f08-b6c9-f3e0444f265f\");\n",
       "    if (el != null) {\n",
       "      el.textContent = \"BokehJS is loading...\";\n",
       "    }\n",
       "    if (root.Bokeh !== undefined) {\n",
       "      if (el != null) {\n",
       "        el.textContent = \"BokehJS \" + root.Bokeh.version + \" successfully loaded.\";\n",
       "      }\n",
       "    } else if (Date.now() < root._bokeh_timeout) {\n",
       "      setTimeout(display_loaded, 100)\n",
       "    }\n",
       "  }\n",
       "\n",
       "\n",
       "  function run_callbacks() {\n",
       "    try {\n",
       "      root._bokeh_onload_callbacks.forEach(function(callback) { callback() });\n",
       "    }\n",
       "    finally {\n",
       "      delete root._bokeh_onload_callbacks\n",
       "    }\n",
       "    console.info(\"Bokeh: all callbacks have finished\");\n",
       "  }\n",
       "\n",
       "  function load_libs(js_urls, callback) {\n",
       "    root._bokeh_onload_callbacks.push(callback);\n",
       "    if (root._bokeh_is_loading > 0) {\n",
       "      console.log(\"Bokeh: BokehJS is being loaded, scheduling callback at\", now());\n",
       "      return null;\n",
       "    }\n",
       "    if (js_urls == null || js_urls.length === 0) {\n",
       "      run_callbacks();\n",
       "      return null;\n",
       "    }\n",
       "    console.log(\"Bokeh: BokehJS not loaded, scheduling load and callback at\", now());\n",
       "    root._bokeh_is_loading = js_urls.length;\n",
       "    for (var i = 0; i < js_urls.length; i++) {\n",
       "      var url = js_urls[i];\n",
       "      var s = document.createElement('script');\n",
       "      s.src = url;\n",
       "      s.async = false;\n",
       "      s.onreadystatechange = s.onload = function() {\n",
       "        root._bokeh_is_loading--;\n",
       "        if (root._bokeh_is_loading === 0) {\n",
       "          console.log(\"Bokeh: all BokehJS libraries loaded\");\n",
       "          run_callbacks()\n",
       "        }\n",
       "      };\n",
       "      s.onerror = function() {\n",
       "        console.warn(\"failed to load library \" + url);\n",
       "      };\n",
       "      console.log(\"Bokeh: injecting script tag for BokehJS library: \", url);\n",
       "      document.getElementsByTagName(\"head\")[0].appendChild(s);\n",
       "    }\n",
       "  };var element = document.getElementById(\"6f99d6b6-cc80-4f08-b6c9-f3e0444f265f\");\n",
       "  if (element == null) {\n",
       "    console.log(\"Bokeh: ERROR: autoload.js configured with elementid '6f99d6b6-cc80-4f08-b6c9-f3e0444f265f' but no matching script tag was found. \")\n",
       "    return false;\n",
       "  }\n",
       "\n",
       "  var js_urls = [\"https://cdn.pydata.org/bokeh/release/bokeh-0.12.16.min.js\", \"https://cdn.pydata.org/bokeh/release/bokeh-widgets-0.12.16.min.js\", \"https://cdn.pydata.org/bokeh/release/bokeh-tables-0.12.16.min.js\", \"https://cdn.pydata.org/bokeh/release/bokeh-gl-0.12.16.min.js\"];\n",
       "\n",
       "  var inline_js = [\n",
       "    function(Bokeh) {\n",
       "      Bokeh.set_log_level(\"info\");\n",
       "    },\n",
       "    \n",
       "    function(Bokeh) {\n",
       "      \n",
       "    },\n",
       "    function(Bokeh) {\n",
       "      console.log(\"Bokeh: injecting CSS: https://cdn.pydata.org/bokeh/release/bokeh-0.12.16.min.css\");\n",
       "      Bokeh.embed.inject_css(\"https://cdn.pydata.org/bokeh/release/bokeh-0.12.16.min.css\");\n",
       "      console.log(\"Bokeh: injecting CSS: https://cdn.pydata.org/bokeh/release/bokeh-widgets-0.12.16.min.css\");\n",
       "      Bokeh.embed.inject_css(\"https://cdn.pydata.org/bokeh/release/bokeh-widgets-0.12.16.min.css\");\n",
       "      console.log(\"Bokeh: injecting CSS: https://cdn.pydata.org/bokeh/release/bokeh-tables-0.12.16.min.css\");\n",
       "      Bokeh.embed.inject_css(\"https://cdn.pydata.org/bokeh/release/bokeh-tables-0.12.16.min.css\");\n",
       "    }\n",
       "  ];\n",
       "\n",
       "  function run_inline_js() {\n",
       "    \n",
       "    if ((root.Bokeh !== undefined) || (force === true)) {\n",
       "      for (var i = 0; i < inline_js.length; i++) {\n",
       "        inline_js[i].call(root, root.Bokeh);\n",
       "      }if (force === true) {\n",
       "        display_loaded();\n",
       "      }} else if (Date.now() < root._bokeh_timeout) {\n",
       "      setTimeout(run_inline_js, 100);\n",
       "    } else if (!root._bokeh_failed_load) {\n",
       "      console.log(\"Bokeh: BokehJS failed to load within specified timeout.\");\n",
       "      root._bokeh_failed_load = true;\n",
       "    } else if (force !== true) {\n",
       "      var cell = $(document.getElementById(\"6f99d6b6-cc80-4f08-b6c9-f3e0444f265f\")).parents('.cell').data().cell;\n",
       "      cell.output_area.append_execute_result(NB_LOAD_WARNING)\n",
       "    }\n",
       "\n",
       "  }\n",
       "\n",
       "  if (root._bokeh_is_loading === 0) {\n",
       "    console.log(\"Bokeh: BokehJS loaded, going straight to plotting\");\n",
       "    run_inline_js();\n",
       "  } else {\n",
       "    load_libs(js_urls, function() {\n",
       "      console.log(\"Bokeh: BokehJS plotting callback run at\", now());\n",
       "      run_inline_js();\n",
       "    });\n",
       "  }\n",
       "}(window));"
      ],
      "application/vnd.bokehjs_load.v0+json": "\n(function(root) {\n  function now() {\n    return new Date();\n  }\n\n  var force = true;\n\n  if (typeof (root._bokeh_onload_callbacks) === \"undefined\" || force === true) {\n    root._bokeh_onload_callbacks = [];\n    root._bokeh_is_loading = undefined;\n  }\n\n  \n\n  \n  if (typeof (root._bokeh_timeout) === \"undefined\" || force === true) {\n    root._bokeh_timeout = Date.now() + 5000;\n    root._bokeh_failed_load = false;\n  }\n\n  var NB_LOAD_WARNING = {'data': {'text/html':\n     \"<div style='background-color: #fdd'>\\n\"+\n     \"<p>\\n\"+\n     \"BokehJS does not appear to have successfully loaded. If loading BokehJS from CDN, this \\n\"+\n     \"may be due to a slow or bad network connection. Possible fixes:\\n\"+\n     \"</p>\\n\"+\n     \"<ul>\\n\"+\n     \"<li>re-rerun `output_notebook()` to attempt to load from CDN again, or</li>\\n\"+\n     \"<li>use INLINE resources instead, as so:</li>\\n\"+\n     \"</ul>\\n\"+\n     \"<code>\\n\"+\n     \"from bokeh.resources import INLINE\\n\"+\n     \"output_notebook(resources=INLINE)\\n\"+\n     \"</code>\\n\"+\n     \"</div>\"}};\n\n  function display_loaded() {\n    var el = document.getElementById(\"6f99d6b6-cc80-4f08-b6c9-f3e0444f265f\");\n    if (el != null) {\n      el.textContent = \"BokehJS is loading...\";\n    }\n    if (root.Bokeh !== undefined) {\n      if (el != null) {\n        el.textContent = \"BokehJS \" + root.Bokeh.version + \" successfully loaded.\";\n      }\n    } else if (Date.now() < root._bokeh_timeout) {\n      setTimeout(display_loaded, 100)\n    }\n  }\n\n\n  function run_callbacks() {\n    try {\n      root._bokeh_onload_callbacks.forEach(function(callback) { callback() });\n    }\n    finally {\n      delete root._bokeh_onload_callbacks\n    }\n    console.info(\"Bokeh: all callbacks have finished\");\n  }\n\n  function load_libs(js_urls, callback) {\n    root._bokeh_onload_callbacks.push(callback);\n    if (root._bokeh_is_loading > 0) {\n      console.log(\"Bokeh: BokehJS is being loaded, scheduling callback at\", now());\n      return null;\n    }\n    if (js_urls == null || js_urls.length === 0) {\n      run_callbacks();\n      return null;\n    }\n    console.log(\"Bokeh: BokehJS not loaded, scheduling load and callback at\", now());\n    root._bokeh_is_loading = js_urls.length;\n    for (var i = 0; i < js_urls.length; i++) {\n      var url = js_urls[i];\n      var s = document.createElement('script');\n      s.src = url;\n      s.async = false;\n      s.onreadystatechange = s.onload = function() {\n        root._bokeh_is_loading--;\n        if (root._bokeh_is_loading === 0) {\n          console.log(\"Bokeh: all BokehJS libraries loaded\");\n          run_callbacks()\n        }\n      };\n      s.onerror = function() {\n        console.warn(\"failed to load library \" + url);\n      };\n      console.log(\"Bokeh: injecting script tag for BokehJS library: \", url);\n      document.getElementsByTagName(\"head\")[0].appendChild(s);\n    }\n  };var element = document.getElementById(\"6f99d6b6-cc80-4f08-b6c9-f3e0444f265f\");\n  if (element == null) {\n    console.log(\"Bokeh: ERROR: autoload.js configured with elementid '6f99d6b6-cc80-4f08-b6c9-f3e0444f265f' but no matching script tag was found. \")\n    return false;\n  }\n\n  var js_urls = [\"https://cdn.pydata.org/bokeh/release/bokeh-0.12.16.min.js\", \"https://cdn.pydata.org/bokeh/release/bokeh-widgets-0.12.16.min.js\", \"https://cdn.pydata.org/bokeh/release/bokeh-tables-0.12.16.min.js\", \"https://cdn.pydata.org/bokeh/release/bokeh-gl-0.12.16.min.js\"];\n\n  var inline_js = [\n    function(Bokeh) {\n      Bokeh.set_log_level(\"info\");\n    },\n    \n    function(Bokeh) {\n      \n    },\n    function(Bokeh) {\n      console.log(\"Bokeh: injecting CSS: https://cdn.pydata.org/bokeh/release/bokeh-0.12.16.min.css\");\n      Bokeh.embed.inject_css(\"https://cdn.pydata.org/bokeh/release/bokeh-0.12.16.min.css\");\n      console.log(\"Bokeh: injecting CSS: https://cdn.pydata.org/bokeh/release/bokeh-widgets-0.12.16.min.css\");\n      Bokeh.embed.inject_css(\"https://cdn.pydata.org/bokeh/release/bokeh-widgets-0.12.16.min.css\");\n      console.log(\"Bokeh: injecting CSS: https://cdn.pydata.org/bokeh/release/bokeh-tables-0.12.16.min.css\");\n      Bokeh.embed.inject_css(\"https://cdn.pydata.org/bokeh/release/bokeh-tables-0.12.16.min.css\");\n    }\n  ];\n\n  function run_inline_js() {\n    \n    if ((root.Bokeh !== undefined) || (force === true)) {\n      for (var i = 0; i < inline_js.length; i++) {\n        inline_js[i].call(root, root.Bokeh);\n      }if (force === true) {\n        display_loaded();\n      }} else if (Date.now() < root._bokeh_timeout) {\n      setTimeout(run_inline_js, 100);\n    } else if (!root._bokeh_failed_load) {\n      console.log(\"Bokeh: BokehJS failed to load within specified timeout.\");\n      root._bokeh_failed_load = true;\n    } else if (force !== true) {\n      var cell = $(document.getElementById(\"6f99d6b6-cc80-4f08-b6c9-f3e0444f265f\")).parents('.cell').data().cell;\n      cell.output_area.append_execute_result(NB_LOAD_WARNING)\n    }\n\n  }\n\n  if (root._bokeh_is_loading === 0) {\n    console.log(\"Bokeh: BokehJS loaded, going straight to plotting\");\n    run_inline_js();\n  } else {\n    load_libs(js_urls, function() {\n      console.log(\"Bokeh: BokehJS plotting callback run at\", now());\n      run_inline_js();\n    });\n  }\n}(window));"
     },
     "metadata": {},
     "output_type": "display_data"
    }
   ],
   "source": [
    "output_notebook()"
   ]
  },
  {
   "cell_type": "code",
   "execution_count": 8,
   "metadata": {
    "collapsed": true
   },
   "outputs": [],
   "source": [
    "def fmt_cool(ds_in):\n",
    "    ds = ds_in.copy(deep=True)\n",
    "    if 'igg' in ds.dims:\n",
    "        ds = ds.sel(igg=1)\n",
    "\n",
    "    if 'g' in ds.dims:\n",
    "        ds = ds.sum('g')\n",
    "            \n",
    "    if 'band' in ds.dims:\n",
    "        try:\n",
    "            ds = ds.squeeze('band')\n",
    "        except ValueError:\n",
    "            ds = ds.sum('band')\n",
    "                \n",
    "    return ds['coolrg']\n",
    "\n",
    "\n",
    "def pltdata_cooling_1(ds_cool=None,\n",
    "                      ds_cool_crd=None, ds_cool_wgt=None):\n",
    "    \n",
    "\n",
    "\n",
    "    colors = all_palettes['Set1'][4]\n",
    "    data = [{'label': 'CLIRAD `coolr_bands`',\n",
    "             'srs': fmt_cool(ds_cool),\n",
    "             'line_dash': 'dashed', 'line_width': 5,\n",
    "             'color': colors[0], 'alpha': .6},\n",
    "            {'label': 'CRD',\n",
    "             'srs': fmt_cool(ds_cool_crd),\n",
    "             'line_dash': 'solid', 'line_width': 1.5,\n",
    "             'marker': 'circle', 'marker_size': 5,\n",
    "             'color': colors[2], 'alpha': 1,},\n",
    "            {'label': 'WGT igg=10 wgt_flux=2',\n",
    "             'srs': fmt_cool(ds_cool_wgt),\n",
    "             'line_dash': 'solid', 'line_width': 3,\n",
    "             'marker': 'square', 'marker_size': 5,\n",
    "             'color': colors[3], 'alpha': .6}]\n",
    "    return data\n",
    "\n",
    "\n",
    "def nice_xlims(pltdata=None, prange=None):\n",
    "    \n",
    "    def get_slice(srs):\n",
    "        return srs.sel(pressure=slice(*prange))\n",
    "    \n",
    "    srss = [d['srs'] for d in pltdata]\n",
    "    vmin = min([get_slice(srs).min() for srs in srss])\n",
    "    vmax = max([get_slice(srs).max() for srs in srss])\n",
    "    dv = (vmax - vmin) * .01\n",
    "    return float(vmin - dv), float(vmax + dv)\n",
    "    \n",
    "\n",
    "def plt_cooling_bokeh(pltdata=None):\n",
    "    '''\n",
    "    Plot a list of cooling rate profiles using bokeh.\n",
    "    '''\n",
    "    ymin = 1e-2 \n",
    "    ymax = 1020 \n",
    "        \n",
    "    p1 = figure(title=\"Linear pressure scale\", \n",
    "                plot_width=400)        \n",
    "    xmin, xmax = nice_xlims(pltdata, prange=(50, 1050))\n",
    "    for d in pltdata:\n",
    "        if 'marker' in d:\n",
    "            getattr(p1, d['marker'])(d['srs'].values, \n",
    "                    d['srs'].coords['pressure'].values,\n",
    "                    color=d['color'], alpha=.7)\n",
    "        p1.line(d['srs'].values, \n",
    "                d['srs'].coords['pressure'].values,\n",
    "                color=d['color'], alpha=d['alpha'], \n",
    "                line_width=d['line_width'], line_dash=d['line_dash'])\n",
    "    \n",
    "    p1.y_range = Range1d(ymax, ymin)\n",
    "    p1.yaxis.axis_label = 'pressure [mb]'   \n",
    "    p1.x_range = Range1d(xmin, xmax)\n",
    "    p1.xaxis.axis_label = 'cooling rate [K/day]'\n",
    "            \n",
    "    p2 = figure(title='Log pressure scale', y_axis_type='log',\n",
    "                plot_width=560)\n",
    "    xmin, xmax = nice_xlims(pltdata, prange=(.01, 200))\n",
    "    \n",
    "    rs = []\n",
    "    for d in pltdata:\n",
    "        rd = []\n",
    "        if 'marker' in d:\n",
    "            r_mark = getattr(p2, d['marker'])(d['srs'].values, \n",
    "                        d['srs'].coords['pressure'].values,\n",
    "                        color=d['color'], alpha=.7)\n",
    "            rd.append(r_mark)\n",
    "        r_line = p2.line(d['srs'].values, \n",
    "                    d['srs'].coords['pressure'].values,\n",
    "                    color=d['color'], alpha=d['alpha'], \n",
    "                    line_width=d['line_width'], line_dash=d['line_dash'])\n",
    "        rd.append(r_line)\n",
    "      \n",
    "        rs.append(rd)\n",
    "        \n",
    "    p2.y_range = Range1d(ymax, ymin)  \n",
    "    p2.yaxis.axis_label = 'pressure [mb]'\n",
    "    \n",
    "    p2.x_range = Range1d(xmin, xmax)\n",
    "    p2.xaxis.axis_label = 'cooling rate [K/day]'\n",
    "    \n",
    "    items = [(d['label'], r) for r, d in zip(rs, pltdata)]\n",
    "    legend = Legend(items=items, location=(10, -30))\n",
    "    legend.label_text_font_size = '8pt'\n",
    "    \n",
    "    p2.add_layout(legend, 'right')  \n",
    "    \n",
    "    show(gridplot(p1, p2, ncols=2, plot_height=500))\n",
    "    \n",
    "\n",
    "def script_plt_cooling():\n",
    "    pltdata = pltdata_cooling_1(\n",
    "        ds_cool=DS_COOL,\n",
    "        ds_cool_crd=DS_COOL_CRD,\n",
    "        ds_cool_wgt=DS_COOL_WGT)\n",
    "    plt_cooling_bokeh(pltdata=pltdata)\n",
    "    print('''FIGURE. Cooling rate profiles.''')"
   ]
  },
  {
   "cell_type": "code",
   "execution_count": 9,
   "metadata": {
    "collapsed": true
   },
   "outputs": [],
   "source": [
    "def fmt_flux(ds_in):\n",
    "    ds = ds_in.copy(deep=True)\n",
    "    \n",
    "    for l in ('level', 'layer'):\n",
    "        if l in ds.data_vars:\n",
    "            if len(ds[l].dims) > 1:\n",
    "                surface = {d: 0 for d in ds.dims if d != 'pressure'}\n",
    "                coord_level = ds[l][surface]\n",
    "                ds.coords[l] = ('pressure', coord_level)\n",
    "            else:\n",
    "                ds.coords[l] = ('pressure', ds[l])\n",
    "        \n",
    "    ds = ds.isel(pressure=[0, 23, -1])\n",
    "        \n",
    "    if 'igg' in ds.dims:\n",
    "        ds = ds.sel(igg=[1])\n",
    "        ds = ds.squeeze('igg').drop('igg')\n",
    "    \n",
    "    if 'g' in ds.dims:\n",
    "        ds = ds.sum('g')\n",
    "            \n",
    "    if 'band' in ds.dims:\n",
    "        try:\n",
    "            ds = ds.squeeze('band').drop('band')\n",
    "        except ValueError:\n",
    "            ds = ds.sum('band')\n",
    "                \n",
    "    df = ds.to_dataframe()\n",
    "    df = df.set_index('level', append=True)               \n",
    "    return df\n",
    "\n",
    "\n",
    "def tbdata_flux(ds_flux=None, ds_flux_crd=None, ds_flux_wgt=None):\n",
    "    ilevels = [0, 23, -1]\n",
    "            \n",
    "    benchmark = {'label': 'CRD',\n",
    "                 'df': fmt_flux(ds_flux_crd)}\n",
    "    \n",
    "    tbs = [{'label': 'WGT igg=10 wgt_flux=1',\n",
    "            'df': fmt_flux(ds_flux_wgt)},\n",
    "           {'label': 'CLIRAD',\n",
    "            'df': fmt_flux(ds_flux)}]\n",
    "    \n",
    "    data = {'benchmark': benchmark, 'others': tbs}\n",
    "    return data\n",
    "\n",
    "\n",
    "def tb_flux(tbdata=None):\n",
    "    benchmark = tbdata['benchmark']\n",
    "    others = tbdata['others']\n",
    "    \n",
    "    def show_tb(d=None):\n",
    "        display.display(d['df'])\n",
    "        print('Table.', 'Fluxes.', d['label'])\n",
    "        \n",
    "    def show_tbdiff(d0=None, d=None):\n",
    "        df = d['df']\n",
    "        df.index = d0['df'].index\n",
    "        display.display(df - d0['df'])\n",
    "        print('Table.', 'Fluxes.', \n",
    "              '({}) - ({})'.format(d['label'], d0['label']))\n",
    "        \n",
    "    show_tb(benchmark)\n",
    "    for d in others:\n",
    "        show_tb(d)\n",
    "        \n",
    "    for d in others:\n",
    "        show_tbdiff(d=d, d0=benchmark)\n",
    "        \n",
    "        \n",
    "def script_tb_flux():\n",
    "    data = tbdata_flux(ds_flux=DS_FLUX,\n",
    "                       ds_flux_crd=DS_FLUX_CRD,\n",
    "                       ds_flux_wgt=DS_FLUX_WGT)\n",
    "    tb_flux(tbdata=data)"
   ]
  },
  {
   "cell_type": "code",
   "execution_count": 10,
   "metadata": {
    "collapsed": true
   },
   "outputs": [],
   "source": [
    "def band_map():\n",
    "    '''\n",
    "    Maps spectral bands in lblnew to spectral bands in clirad.\n",
    "    '''\n",
    "    lblnew2clirad = {'1': '1',\n",
    "            '2': '2',\n",
    "            '3a': '3',\n",
    "            '3b': '4',\n",
    "            '3c': '5',\n",
    "            '4': '6', \n",
    "            '5': '7',\n",
    "            '6': '8',\n",
    "            '7': '9', \n",
    "            '8': '10',\n",
    "            '9': '11'}\n",
    "    \n",
    "    clirad2lblnew = {clirad: lblnew \n",
    "                     for lblnew, clirad in lblnew2clirad.items()}\n",
    "    return clirad2lblnew\n",
    "\n",
    "\n",
    "def gasbands():\n",
    "    bmap = band_map()\n",
    "    gases = list(PARAM['molecule'].keys())\n",
    "    \n",
    "    bands = [bmap[str(b)] for b in PARAM['band']]\n",
    "    return list(itertools.product(gases, bands))\n",
    "\n",
    "\n",
    "def print_bestfit_params():\n",
    "    print('Best-fit values for each (gas, band)')\n",
    "    print('------------------------------------')\n",
    "    for gas, band in gasbands():\n",
    "        print('o {} band{}'.format(gas, band))\n",
    "        param = bestfits.kdist_params(molecule=gas, band=band)\n",
    "        for name, value in sorted(param.items()):\n",
    "            print(2 * ' ' + '{} = {}'.format(name, value))\n",
    "\n",
    "        \n",
    "def print_input_param():        \n",
    "    for name, value in PARAM.items():\n",
    "        print('{} = {}'.format(name, value))\n",
    "        \n",
    "        \n",
    "def print_lblnew_param():\n",
    "    for name, value in sorted(PARAM_LBLNEW.items()):\n",
    "        print('{} = {}'.format(name, value))\n"
   ]
  },
  {
   "cell_type": "code",
   "execution_count": 11,
   "metadata": {
    "collapsed": true,
    "scrolled": false
   },
   "outputs": [],
   "source": [
    "def show_html(s):\n",
    "    display.display(display.HTML(s))\n",
    "\n",
    "    \n",
    "def show_markdown(s):\n",
    "    display.display(display.Markdown(s))\n",
    "\n",
    "    \n",
    "def script():\n",
    "    \n",
    "    title = '### CLIRAD-LW'\n",
    "    s_input = 'Input Parameters'\n",
    "    s_lblnew_param = 'LBLNEW case compaired against'\n",
    "    s_bestfits = 'Best-fit Parameters'\n",
    "    s_plt_cooling = 'Cooling Rate Profiles'\n",
    "    s_tb_flux = 'Flux Comparison'\n",
    "    \n",
    "    # title\n",
    "    show_markdown('### CLIRAD-LW')\n",
    "    \n",
    "    # TOC\n",
    "    show_markdown('### Table of Contents')\n",
    "    show_html(climahtml.getHTML_hrefanchor(s_input))\n",
    "    show_html(climahtml.getHTML_hrefanchor(s_lblnew_param))\n",
    "    show_html(climahtml.getHTML_hrefanchor(s_plt_cooling))\n",
    "    show_html(climahtml.getHTML_hrefanchor(s_tb_flux))\n",
    "    show_html(climahtml.getHTML_hrefanchor(s_bestfits))\n",
    "    \n",
    "    # Input parameters\n",
    "    show_html(climahtml.getHTML_idanchor(s_input))\n",
    "    show_markdown(climahtml.getMarkdown_sectitle(s_input))\n",
    "    print_input_param()\n",
    "    \n",
    "    # LBLNEW parameters \n",
    "    show_html(climahtml.getHTML_idanchor(s_lblnew_param))\n",
    "    show_markdown(climahtml.getMarkdown_sectitle(s_lblnew_param))\n",
    "    print_lblnew_param()\n",
    "    \n",
    "    # Cooling rate profiles\n",
    "    show_html(climahtml.getHTML_idanchor(s_plt_cooling))\n",
    "    show_markdown(climahtml.getMarkdown_sectitle(s_plt_cooling))\n",
    "    script_plt_cooling()\n",
    "    \n",
    "    # Flux comparison\n",
    "    show_html(climahtml.getHTML_idanchor(s_tb_flux))\n",
    "    show_markdown(climahtml.getMarkdown_sectitle(s_tb_flux))\n",
    "    script_tb_flux()\n",
    "    \n",
    "    # Best-fit values\n",
    "    show_html(climahtml.getHTML_idanchor(s_bestfits))\n",
    "    show_markdown(climahtml.getMarkdown_sectitle(s_bestfits))\n",
    "    print_bestfit_params()\n",
    "   \n",
    "    "
   ]
  },
  {
   "cell_type": "code",
   "execution_count": 12,
   "metadata": {
    "collapsed": true,
    "scrolled": false
   },
   "outputs": [
    {
     "data": {
      "text/markdown": [
       "### CLIRAD-LW"
      ],
      "text/plain": [
       "<IPython.core.display.Markdown object>"
      ]
     },
     "metadata": {},
     "output_type": "display_data"
    },
    {
     "data": {
      "text/markdown": [
       "### Table of Contents"
      ],
      "text/plain": [
       "<IPython.core.display.Markdown object>"
      ]
     },
     "metadata": {},
     "output_type": "display_data"
    },
    {
     "data": {
      "text/html": [
       "<a href=\"#Input_Parameters\">Input Parameters</a>"
      ],
      "text/plain": [
       "<IPython.core.display.HTML object>"
      ]
     },
     "metadata": {},
     "output_type": "display_data"
    },
    {
     "data": {
      "text/html": [
       "<a href=\"#LBLNEW_case_compaired_against\">LBLNEW case compaired against</a>"
      ],
      "text/plain": [
       "<IPython.core.display.HTML object>"
      ]
     },
     "metadata": {},
     "output_type": "display_data"
    },
    {
     "data": {
      "text/html": [
       "<a href=\"#Cooling_Rate_Profiles\">Cooling Rate Profiles</a>"
      ],
      "text/plain": [
       "<IPython.core.display.HTML object>"
      ]
     },
     "metadata": {},
     "output_type": "display_data"
    },
    {
     "data": {
      "text/html": [
       "<a href=\"#Flux_Comparison\">Flux Comparison</a>"
      ],
      "text/plain": [
       "<IPython.core.display.HTML object>"
      ]
     },
     "metadata": {},
     "output_type": "display_data"
    },
    {
     "data": {
      "text/html": [
       "<a href=\"#Best-fit_Parameters\">Best-fit Parameters</a>"
      ],
      "text/plain": [
       "<IPython.core.display.HTML object>"
      ]
     },
     "metadata": {},
     "output_type": "display_data"
    },
    {
     "data": {
      "text/html": [
       "<a id=\"Input_Parameters\"></a>"
      ],
      "text/plain": [
       "<IPython.core.display.HTML object>"
      ]
     },
     "metadata": {},
     "output_type": "display_data"
    },
    {
     "data": {
      "text/markdown": [
       "# Input Parameters"
      ],
      "text/plain": [
       "<IPython.core.display.Markdown object>"
      ]
     },
     "metadata": {},
     "output_type": "display_data"
    },
    {
     "name": "stdout",
     "output_type": "stream",
     "text": [
      "atmpro = saw\n",
      "band = [10]\n",
      "commitnumber = 4198f95_x\n",
      "molecule = {'h2o': 'atmpro'}\n",
      "tsfc = 257\n"
     ]
    },
    {
     "data": {
      "text/html": [
       "<a id=\"LBLNEW_case_compaired_against\"></a>"
      ],
      "text/plain": [
       "<IPython.core.display.HTML object>"
      ]
     },
     "metadata": {},
     "output_type": "display_data"
    },
    {
     "data": {
      "text/markdown": [
       "# LBLNEW case compaired against"
      ],
      "text/plain": [
       "<IPython.core.display.Markdown object>"
      ]
     },
     "metadata": {},
     "output_type": "display_data"
    },
    {
     "name": "stdout",
     "output_type": "stream",
     "text": [
      "atmpro = saw\n",
      "band = 8\n",
      "commitnumber = 5014a19\n",
      "conc = None\n",
      "dv = 0.001\n",
      "klin = 0\n",
      "molecule = h2o\n",
      "ng_adju = [0, -1, 0]\n",
      "ng_refs = [3, 2, 3]\n",
      "nv = 1000\n",
      "option_compute_btable = 0\n",
      "option_compute_ktable = 0\n",
      "option_wgt_flux = 1\n",
      "option_wgt_k = 1\n",
      "ref_pts = [(1, 250), (10, 250), (500, 250)]\n",
      "tsfc = 257\n",
      "vmax = 1900\n",
      "vmin = 1380\n",
      "w_diffuse = [(1.66, 1.66, 1.66), (1.66, 1.66), (1.66, 1.66, 1.66)]\n",
      "wgt = [(0.55, 0.55, 0.85), (0.85, 0.85), (0, 0.3, 0.55)]\n"
     ]
    },
    {
     "data": {
      "text/html": [
       "<a id=\"Cooling_Rate_Profiles\"></a>"
      ],
      "text/plain": [
       "<IPython.core.display.HTML object>"
      ]
     },
     "metadata": {},
     "output_type": "display_data"
    },
    {
     "data": {
      "text/markdown": [
       "# Cooling Rate Profiles"
      ],
      "text/plain": [
       "<IPython.core.display.Markdown object>"
      ]
     },
     "metadata": {},
     "output_type": "display_data"
    },
    {
     "data": {
      "text/html": [
       "\n",
       "<div class=\"bk-root\">\n",
       "    <div class=\"bk-plotdiv\" id=\"56af7f8c-86bb-4f37-9757-501869a403ea\"></div>\n",
       "</div>"
      ]
     },
     "metadata": {},
     "output_type": "display_data"
    },
    {
     "data": {
      "application/javascript": [
       "(function(root) {\n",
       "  function embed_document(root) {\n",
       "    \n",
       "  var docs_json = {\"7423f64b-0ddb-40f5-9288-c1a796799e28\":{\"roots\":{\"references\":[{\"attributes\":{},\"id\":\"d8a01070-7f11-47c6-a57b-f1dd0050d01c\",\"type\":\"UnionRenderers\"},{\"attributes\":{\"ticker\":null},\"id\":\"9a39dec2-feb4-4535-8714-27a0559f5da9\",\"type\":\"LogTickFormatter\"},{\"attributes\":{},\"id\":\"4fe3614c-4aa1-4f43-ac34-5fe2870dbc52\",\"type\":\"Selection\"},{\"attributes\":{},\"id\":\"d0c876c9-39a3-4d29-80cd-92f1a3d8cf2e\",\"type\":\"Selection\"},{\"attributes\":{},\"id\":\"9b08f574-7fde-4015-abc4-897011579482\",\"type\":\"BasicTickFormatter\"},{\"attributes\":{},\"id\":\"ab1bda46-d5f9-4270-aa03-81debee67e68\",\"type\":\"Selection\"},{\"attributes\":{},\"id\":\"33ee80fd-a01f-4af2-8eb3-607d130fbc5b\",\"type\":\"Selection\"},{\"attributes\":{},\"id\":\"d92e2012-6c27-46d3-9cb2-48167d9e2825\",\"type\":\"Selection\"},{\"attributes\":{\"toolbar\":{\"id\":\"1aa06ce0-0579-4a74-bc98-2d36115d3657\",\"type\":\"ProxyToolbar\"},\"toolbar_location\":\"above\"},\"id\":\"e5bc4724-4c68-483a-9579-9b1d55b2f9e1\",\"type\":\"ToolbarBox\"},{\"attributes\":{},\"id\":\"4dcf9080-c1a7-425c-9a74-4ce769879331\",\"type\":\"UnionRenderers\"},{\"attributes\":{\"callback\":null,\"end\":0.01,\"start\":1020},\"id\":\"6721110a-db17-4c71-a44a-0e4e3efa9255\",\"type\":\"Range1d\"},{\"attributes\":{},\"id\":\"63be7bbf-19ad-415b-bf81-fbb9644b577d\",\"type\":\"UnionRenderers\"},{\"attributes\":{},\"id\":\"f9e6a443-9aee-4105-8528-cd0df7f68457\",\"type\":\"UnionRenderers\"},{\"attributes\":{\"children\":[{\"id\":\"e5bc4724-4c68-483a-9579-9b1d55b2f9e1\",\"type\":\"ToolbarBox\"},{\"id\":\"564ab64a-f67f-4754-b23f-d72637f22742\",\"type\":\"Column\"}]},\"id\":\"4fc26068-ab92-4e3a-9325-b35116e1c808\",\"type\":\"Column\"},{\"attributes\":{},\"id\":\"5f162279-3e1a-4d6e-abdf-fe63b2c1c87b\",\"type\":\"UnionRenderers\"},{\"attributes\":{\"tools\":[{\"id\":\"3c34e4a0-7470-40cb-a033-798c1ad8ac34\",\"type\":\"PanTool\"},{\"id\":\"cbdd3a3e-f157-4d4b-8673-a0d1f52c7779\",\"type\":\"WheelZoomTool\"},{\"id\":\"3924ab29-c2cb-4daf-90c7-48209189738e\",\"type\":\"BoxZoomTool\"},{\"id\":\"5d5dacd8-d22a-4df4-81aa-ef94c09f5a17\",\"type\":\"SaveTool\"},{\"id\":\"e75744ab-bf36-4915-990c-488f13ac8638\",\"type\":\"ResetTool\"},{\"id\":\"64702f36-e92c-4554-bf10-1f9678b332c2\",\"type\":\"HelpTool\"},{\"id\":\"9b297a9f-eb6e-43a1-83b5-157433158e8f\",\"type\":\"PanTool\"},{\"id\":\"73560821-0045-4160-b999-ef57be13f021\",\"type\":\"WheelZoomTool\"},{\"id\":\"2865a2db-71b5-4c6e-974f-4eb4d02669b4\",\"type\":\"BoxZoomTool\"},{\"id\":\"2d6edb3a-100e-4671-9ff1-baba3f18f771\",\"type\":\"SaveTool\"},{\"id\":\"7515db6d-77d5-441c-9609-c5f07b6abb4f\",\"type\":\"ResetTool\"},{\"id\":\"3a773729-1631-4c3f-984b-8273c0d27118\",\"type\":\"HelpTool\"}]},\"id\":\"1aa06ce0-0579-4a74-bc98-2d36115d3657\",\"type\":\"ProxyToolbar\"},{\"attributes\":{\"source\":{\"id\":\"0e7e7151-e608-496d-b853-7327cdb6de3e\",\"type\":\"ColumnDataSource\"}},\"id\":\"ac0ee647-37cc-4453-98b7-ad449c5bd2e2\",\"type\":\"CDSView\"},{\"attributes\":{\"items\":[{\"id\":\"4999b864-af32-4bbc-8cf6-181301d28f0a\",\"type\":\"LegendItem\"},{\"id\":\"5fbb879f-691a-42ab-883a-547628cff3ee\",\"type\":\"LegendItem\"},{\"id\":\"1e166f6a-791f-4d9b-9ede-c06ef03f9c31\",\"type\":\"LegendItem\"}],\"label_text_font_size\":{\"value\":\"8pt\"},\"location\":[10,-30],\"plot\":{\"id\":\"7ca566b0-c36a-4ba0-ada7-79340bd32d6b\",\"subtype\":\"Figure\",\"type\":\"Plot\"}},\"id\":\"07b4e9b9-bee3-4377-823d-b5a56c719656\",\"type\":\"Legend\"},{\"attributes\":{\"axis_label\":\"cooling rate [K/day]\",\"formatter\":{\"id\":\"b413a00e-f696-400f-9bcf-c29fea149c17\",\"type\":\"BasicTickFormatter\"},\"plot\":{\"id\":\"8717cd6c-b562-4e81-afa7-6bde3dd91bcb\",\"subtype\":\"Figure\",\"type\":\"Plot\"},\"ticker\":{\"id\":\"49d6b9f6-c4e8-45f9-b090-e59d9f0138ee\",\"type\":\"BasicTicker\"}},\"id\":\"54d83caa-3774-44dc-8e6d-140dbeb23b10\",\"type\":\"LinearAxis\"},{\"attributes\":{},\"id\":\"3415cdf8-7974-4736-b08b-7ecd58152a73\",\"type\":\"BasicTicker\"},{\"attributes\":{},\"id\":\"8806296e-d608-4517-b1aa-ea3bef15584a\",\"type\":\"LinearScale\"},{\"attributes\":{\"source\":{\"id\":\"72cfaaf8-2acf-4f35-a701-003f2d449343\",\"type\":\"ColumnDataSource\"}},\"id\":\"05bf71f5-8805-4cd1-8ee2-2dc44d1b7baf\",\"type\":\"CDSView\"},{\"attributes\":{\"line_alpha\":0.1,\"line_color\":\"#1f77b4\",\"line_dash\":[6],\"line_width\":5,\"x\":{\"field\":\"x\"},\"y\":{\"field\":\"y\"}},\"id\":\"9b6008e1-c63a-4afe-8d65-007f5a596053\",\"type\":\"Line\"},{\"attributes\":{\"callback\":null,\"data\":{\"x\":{\"__ndarray__\":\"5UIGbrTOyb/fxkU5wczIv/F2jETLLsa/NL2jSr08w7/GYw6bK/e/v+s7Jwy20Li/Y1bC77MFsb/YQesC2i2hv3ZhTWCYHl0/9mxB4mMfpD/QCeOfACe0P/6ZIG53pL4/diKY1QGxxD8qK5fXWxTJP19NVCWAUcs/PN4/cVs2zD8JxqCXeqvMPwojSVLK0sw/5SFbr0zszD9+RUzDz4PNPwwEATJ0bM8/o5ZBEHt8yj9Rrt8Cv/y9P5Y5eWtCVa0/87FYFo4Ynj97ShVfyWKQPyN9z1L2uYE/jr70QCyeeD+tfidQ/ah6P4x7c8A1hXs/eeXLIkwFeD9ope24EbFxP7Nthg80PHA/JSb2uev/dD/SEUtSqiB5P31IIKet5nw/Bp6tkvcJgD93OA/d66F/P0Z/vuaCHoM/QLTLwbAfhT94WdSmOK6FPwxDPWQePoM//A56BU0Dfj9TKGA684tvP9LUr49uRmW/zBoNQOnbeL/89EUAnqgDPyAUek6Re4Y/MxUkrkq/mj+vOc0j+/emP74vcHE70a8/Lz0qlgyUsz+5d7RBi0S2P4ABmapv8bc/vvj4PRexuD/dPSwT/6m4PxZQEIsEErg/B3oLmH4Rtz/pUgOdrsa1P9pqKhltRrQ/xZSjWwqjsj+k73UfbvGwP6IZpfq3k64/dFRwo8Ggqz/w03QawmGpPwaWMI4iT6g/mAvMcigvqT/6gyN23cOsP7ae9ptW+LA/eJBaBYoIsj+9uCckpv+uP9/Upx9LVKU/MXVSvQd4mD8YbTIDxSqEP19JGiWtzY6/\",\"dtype\":\"float64\",\"shape\":[75]},\"y\":{\"__ndarray__\":\"GhExyth1ND/Sv8nbtpRIP2vylNV0PVE/aTum7souWD/At0SJ8fVgPw3Iuahxymc/MSNhhJWvcD/bTfBN02d3P2zb5nxnaoA/CD5h5MAGhz8NmeH1TyaQP+zrCsc9p5Y/LbKd76fGnz/bLW5ISEmmPww9YvTcQq8/JV2OstnstT8Er5Y7M8G+P0c+r3jqkcU/5h99k6ZBzj88bCIzFzjVP4enV8oyxN0//yH99nXg5D8qOpLLf0jtP5kqGJXUifQ/c9cS8kHP/D+/DpwzojQEQIEmwoanVwxA4lgXt9HgE0BSSZ2AJuIbQAMJih9jjiNA5q4l5INuK0AwTKYKRj0zQNv5fmq8/DpAaCJseHrtQkB/+zpwzoxKQM3MzMzMeFJAZmZmZmZqWEAAAAAAAFxeQM3MzMzMJmJAmpmZmZkfZUBmZmZmZhhoQDMzMzMzEWtAAAAAAAAKbkBmZmZmZoFwQM3MzMzM/XFAMzMzMzN6c0CamZmZmfZ0QAAAAAAAc3ZAZmZmZmbvd0DNzMzMzGt5QDMzMzMz6HpAmpmZmZlkfEAAAAAAAOF9QGZmZmZmXX9AZmZmZuZsgECamZmZGSuBQM3MzMxM6YFAAAAAAICngkAzMzMzs2WDQGZmZmbmI4RAmpmZmRnihEDNzMzMTKCFQAAAAACAXoZAMzMzM7Mch0BmZmZm5tqHQJqZmZkZmYhAzczMzExXiUAAAAAAgBWKQDMzMzOz04pAZmZmZuaRi0CamZmZGVCMQM3MzMxMDo1AAAAAAIDMjUAzMzMzs4qOQGZmZmbmSI9A\",\"dtype\":\"float64\",\"shape\":[75]}},\"selected\":{\"id\":\"c30fb944-2212-4604-9194-68875712c1f5\",\"type\":\"Selection\"},\"selection_policy\":{\"id\":\"915a5c88-8ef2-44d2-9190-95f23187f987\",\"type\":\"UnionRenderers\"}},\"id\":\"29140442-b0c4-402d-95ab-d085757fff4d\",\"type\":\"ColumnDataSource\"},{\"attributes\":{\"children\":[{\"id\":\"f3cce53e-9e57-4ee6-ac8f-ae578d9ba4d3\",\"type\":\"Row\"}]},\"id\":\"564ab64a-f67f-4754-b23f-d72637f22742\",\"type\":\"Column\"},{\"attributes\":{\"fill_alpha\":{\"value\":0.1},\"fill_color\":{\"value\":\"#1f77b4\"},\"line_alpha\":{\"value\":0.1},\"line_color\":{\"value\":\"#1f77b4\"},\"x\":{\"field\":\"x\"},\"y\":{\"field\":\"y\"}},\"id\":\"5fc0e341-dc5a-4474-a181-267abb6094d4\",\"type\":\"Circle\"},{\"attributes\":{},\"id\":\"ab0bb550-658b-4d10-a1e4-654478a501e9\",\"type\":\"UnionRenderers\"},{\"attributes\":{\"data_source\":{\"id\":\"0e7e7151-e608-496d-b853-7327cdb6de3e\",\"type\":\"ColumnDataSource\"},\"glyph\":{\"id\":\"3bb7f900-1f11-4713-a6d1-2c4044a6c628\",\"type\":\"Square\"},\"hover_glyph\":null,\"muted_glyph\":null,\"nonselection_glyph\":{\"id\":\"ce894a4c-75c0-4cde-ae9c-5f42bc84b7b5\",\"type\":\"Square\"},\"selection_glyph\":null,\"view\":{\"id\":\"ac0ee647-37cc-4453-98b7-ad449c5bd2e2\",\"type\":\"CDSView\"}},\"id\":\"f4edeef8-69e8-41bc-ac38-50da72c0ff70\",\"type\":\"GlyphRenderer\"},{\"attributes\":{\"plot\":null,\"text\":\"Linear pressure scale\"},\"id\":\"1f2722ed-8bfa-49ed-b397-a16cc0e91e88\",\"type\":\"Title\"},{\"attributes\":{\"callback\":null,\"data\":{\"x\":{\"__ndarray__\":\"VqYNkQxKxr+9wh0PN2zFvw8jHw90X8O/xZX3q5AOwb9xlBzrH8+8vyetCVO58ba/Q4ZOj+htsL9gA+3BjG6iv+yCge9smXW/HcZSqkLinD8kdJpcxGywPzfLK9gTOLo/iwpKBHtCwj8O0zpI8rfGP8S00xC2esk/czr42nAfyz/tSy0RW03MP/0qSUo8EM0/IOLbyZqNzT/b+PrF8zbOPwC12vaLqs8/8vKp6P50yj+tIvvYGMC9P+A6/y26maw/PYMJKSSgnj/hyO7st9iSP6pzdpQHyIY/Sf0iFqTAfj/9xSn1cdB9Px6Hff7VlX4/hgp59YxffD+PZT70HX52P+GD8hT873Q/37U3TFghej9QDkz21+F9P08L6sFI4H8/dx6z/4O9gD9EG/5aM1SAP+MfZFfZfoQ/oJy40kqwiD/bE6bCSMiLP5tQTa2fS4o/ZBOYaXkthT9Pkf1wnu52P1dlPmaZXme/ia3LW06ugL/uweyZn6Fmv5ZZ8FDjM4A/et35ldEqlT8fmsyneKqhP8PDGGPzWak/vAxl8JYasT+RInEby/u0P4V1USPxXLc/j8pxm01AuD+NhDzHSEe4P7xZaxlzFLg/4AXSNVTYtz+exdsvNGS3P2owgYvDfbY/2dIPGHgAtT82QVRHbxqzP5wXB+EXArE/OJ1ZS/IJrj8BuV/uFuGqP6uyA4KDM6k/VBYnD7rRqT8NkS24MWKtP/RnWfurT7E/MlTGslNksj80CxxrCa2vP2xzejywxaU/On0suR5imD8ZgOqSc2iBPwOIJtObHJG/\",\"dtype\":\"float64\",\"shape\":[75]},\"y\":{\"__ndarray__\":\"GhExyth1ND/Sv8nbtpRIP2vylNV0PVE/aTum7souWD/At0SJ8fVgPw3Iuahxymc/MSNhhJWvcD/bTfBN02d3P2zb5nxnaoA/CD5h5MAGhz8NmeH1TyaQP+zrCsc9p5Y/LbKd76fGnz/bLW5ISEmmPww9YvTcQq8/JV2OstnstT8Er5Y7M8G+P0c+r3jqkcU/5h99k6ZBzj88bCIzFzjVP4enV8oyxN0//yH99nXg5D8qOpLLf0jtP5kqGJXUifQ/c9cS8kHP/D+/DpwzojQEQIEmwoanVwxA4lgXt9HgE0BSSZ2AJuIbQAMJih9jjiNA5q4l5INuK0AwTKYKRj0zQNv5fmq8/DpAaCJseHrtQkB/+zpwzoxKQM3MzMzMeFJAZmZmZmZqWEAAAAAAAFxeQM3MzMzMJmJAmpmZmZkfZUBmZmZmZhhoQDMzMzMzEWtAAAAAAAAKbkBmZmZmZoFwQM3MzMzM/XFAMzMzMzN6c0CamZmZmfZ0QAAAAAAAc3ZAZmZmZmbvd0DNzMzMzGt5QDMzMzMz6HpAmpmZmZlkfEAAAAAAAOF9QGZmZmZmXX9AZmZmZuZsgECamZmZGSuBQM3MzMxM6YFAAAAAAICngkAzMzMzs2WDQGZmZmbmI4RAmpmZmRnihEDNzMzMTKCFQAAAAACAXoZAMzMzM7Mch0BmZmZm5tqHQJqZmZkZmYhAzczMzExXiUAAAAAAgBWKQDMzMzOz04pAZmZmZuaRi0CamZmZGVCMQM3MzMxMDo1AAAAAAIDMjUAzMzMzs4qOQGZmZmbmSI9A\",\"dtype\":\"float64\",\"shape\":[75]}},\"selected\":{\"id\":\"d92e2012-6c27-46d3-9cb2-48167d9e2825\",\"type\":\"Selection\"},\"selection_policy\":{\"id\":\"f9e6a443-9aee-4105-8528-cd0df7f68457\",\"type\":\"UnionRenderers\"}},\"id\":\"0e7e7151-e608-496d-b853-7327cdb6de3e\",\"type\":\"ColumnDataSource\"},{\"attributes\":{\"callback\":null,\"data\":{\"x\":{\"__ndarray__\":\"VqYNkQxKxr+9wh0PN2zFvw8jHw90X8O/xZX3q5AOwb9xlBzrH8+8vyetCVO58ba/Q4ZOj+htsL9gA+3BjG6iv+yCge9smXW/HcZSqkLinD8kdJpcxGywPzfLK9gTOLo/iwpKBHtCwj8O0zpI8rfGP8S00xC2esk/czr42nAfyz/tSy0RW03MP/0qSUo8EM0/IOLbyZqNzT/b+PrF8zbOPwC12vaLqs8/8vKp6P50yj+tIvvYGMC9P+A6/y26maw/PYMJKSSgnj/hyO7st9iSP6pzdpQHyIY/Sf0iFqTAfj/9xSn1cdB9Px6Hff7VlX4/hgp59YxffD+PZT70HX52P+GD8hT873Q/37U3TFghej9QDkz21+F9P08L6sFI4H8/dx6z/4O9gD9EG/5aM1SAP+MfZFfZfoQ/oJy40kqwiD/bE6bCSMiLP5tQTa2fS4o/ZBOYaXkthT9Pkf1wnu52P1dlPmaZXme/ia3LW06ugL/uweyZn6Fmv5ZZ8FDjM4A/et35ldEqlT8fmsyneKqhP8PDGGPzWak/vAxl8JYasT+RInEby/u0P4V1USPxXLc/j8pxm01AuD+NhDzHSEe4P7xZaxlzFLg/4AXSNVTYtz+exdsvNGS3P2owgYvDfbY/2dIPGHgAtT82QVRHbxqzP5wXB+EXArE/OJ1ZS/IJrj8BuV/uFuGqP6uyA4KDM6k/VBYnD7rRqT8NkS24MWKtP/RnWfurT7E/MlTGslNksj80CxxrCa2vP2xzejywxaU/On0suR5imD8ZgOqSc2iBPwOIJtObHJG/\",\"dtype\":\"float64\",\"shape\":[75]},\"y\":{\"__ndarray__\":\"GhExyth1ND/Sv8nbtpRIP2vylNV0PVE/aTum7souWD/At0SJ8fVgPw3Iuahxymc/MSNhhJWvcD/bTfBN02d3P2zb5nxnaoA/CD5h5MAGhz8NmeH1TyaQP+zrCsc9p5Y/LbKd76fGnz/bLW5ISEmmPww9YvTcQq8/JV2OstnstT8Er5Y7M8G+P0c+r3jqkcU/5h99k6ZBzj88bCIzFzjVP4enV8oyxN0//yH99nXg5D8qOpLLf0jtP5kqGJXUifQ/c9cS8kHP/D+/DpwzojQEQIEmwoanVwxA4lgXt9HgE0BSSZ2AJuIbQAMJih9jjiNA5q4l5INuK0AwTKYKRj0zQNv5fmq8/DpAaCJseHrtQkB/+zpwzoxKQM3MzMzMeFJAZmZmZmZqWEAAAAAAAFxeQM3MzMzMJmJAmpmZmZkfZUBmZmZmZhhoQDMzMzMzEWtAAAAAAAAKbkBmZmZmZoFwQM3MzMzM/XFAMzMzMzN6c0CamZmZmfZ0QAAAAAAAc3ZAZmZmZmbvd0DNzMzMzGt5QDMzMzMz6HpAmpmZmZlkfEAAAAAAAOF9QGZmZmZmXX9AZmZmZuZsgECamZmZGSuBQM3MzMxM6YFAAAAAAICngkAzMzMzs2WDQGZmZmbmI4RAmpmZmRnihEDNzMzMTKCFQAAAAACAXoZAMzMzM7Mch0BmZmZm5tqHQJqZmZkZmYhAzczMzExXiUAAAAAAgBWKQDMzMzOz04pAZmZmZuaRi0CamZmZGVCMQM3MzMxMDo1AAAAAAIDMjUAzMzMzs4qOQGZmZmbmSI9A\",\"dtype\":\"float64\",\"shape\":[75]}},\"selected\":{\"id\":\"6a063e4a-00c0-4451-bf70-3012908ae3eb\",\"type\":\"Selection\"},\"selection_policy\":{\"id\":\"d8a01070-7f11-47c6-a57b-f1dd0050d01c\",\"type\":\"UnionRenderers\"}},\"id\":\"72cfaaf8-2acf-4f35-a701-003f2d449343\",\"type\":\"ColumnDataSource\"},{\"attributes\":{\"active_drag\":\"auto\",\"active_inspect\":\"auto\",\"active_scroll\":\"auto\",\"active_tap\":\"auto\",\"tools\":[{\"id\":\"3c34e4a0-7470-40cb-a033-798c1ad8ac34\",\"type\":\"PanTool\"},{\"id\":\"cbdd3a3e-f157-4d4b-8673-a0d1f52c7779\",\"type\":\"WheelZoomTool\"},{\"id\":\"3924ab29-c2cb-4daf-90c7-48209189738e\",\"type\":\"BoxZoomTool\"},{\"id\":\"5d5dacd8-d22a-4df4-81aa-ef94c09f5a17\",\"type\":\"SaveTool\"},{\"id\":\"e75744ab-bf36-4915-990c-488f13ac8638\",\"type\":\"ResetTool\"},{\"id\":\"64702f36-e92c-4554-bf10-1f9678b332c2\",\"type\":\"HelpTool\"}]},\"id\":\"53d7cdea-6af4-41d8-9504-72d44f340070\",\"type\":\"Toolbar\"},{\"attributes\":{\"callback\":null,\"end\":0.09817323586000001,\"start\":-0.01906381586},\"id\":\"8010bb2e-3579-4701-989f-8ba95332692b\",\"type\":\"Range1d\"},{\"attributes\":{},\"id\":\"0af98424-3253-4a12-b31f-b98324dd7335\",\"type\":\"LinearScale\"},{\"attributes\":{\"line_alpha\":0.1,\"line_color\":\"#1f77b4\",\"line_width\":3,\"x\":{\"field\":\"x\"},\"y\":{\"field\":\"y\"}},\"id\":\"290bc744-8678-4485-b179-5f731d76c630\",\"type\":\"Line\"},{\"attributes\":{\"source\":{\"id\":\"29140442-b0c4-402d-95ab-d085757fff4d\",\"type\":\"ColumnDataSource\"}},\"id\":\"9ee46012-bb3b-4fe5-be71-d727e322c0ce\",\"type\":\"CDSView\"},{\"attributes\":{\"fill_alpha\":{\"value\":0.1},\"fill_color\":{\"value\":\"#1f77b4\"},\"line_alpha\":{\"value\":0.1},\"line_color\":{\"value\":\"#1f77b4\"},\"x\":{\"field\":\"x\"},\"y\":{\"field\":\"y\"}},\"id\":\"64351f82-0a88-4537-9502-fcb6a6672d9f\",\"type\":\"Circle\"},{\"attributes\":{\"below\":[{\"id\":\"568e1995-851f-46bd-9f43-e2a8393d567c\",\"type\":\"LinearAxis\"}],\"left\":[{\"id\":\"914fd9cc-2ede-422c-b6bf-24441d8dfc80\",\"type\":\"LogAxis\"}],\"plot_height\":500,\"plot_width\":560,\"renderers\":[{\"id\":\"568e1995-851f-46bd-9f43-e2a8393d567c\",\"type\":\"LinearAxis\"},{\"id\":\"ded3f1c0-d93c-43c8-ae1e-97e19adb664d\",\"type\":\"Grid\"},{\"id\":\"914fd9cc-2ede-422c-b6bf-24441d8dfc80\",\"type\":\"LogAxis\"},{\"id\":\"55fafc79-44f4-4b4c-b0bd-4c4f35f9bf8f\",\"type\":\"Grid\"},{\"id\":\"3e71600b-de65-40b9-ba89-cf5569eeab02\",\"type\":\"BoxAnnotation\"},{\"id\":\"b30cbf61-457c-4bed-88cd-505965da410c\",\"type\":\"GlyphRenderer\"},{\"id\":\"36cd9852-ea2a-4bf2-90fd-7b0ec5750e49\",\"type\":\"GlyphRenderer\"},{\"id\":\"1181a86e-4c33-4950-aadd-04d4f8078e23\",\"type\":\"GlyphRenderer\"},{\"id\":\"f4edeef8-69e8-41bc-ac38-50da72c0ff70\",\"type\":\"GlyphRenderer\"},{\"id\":\"a6094af6-777b-49f0-abd5-da96376155c1\",\"type\":\"GlyphRenderer\"},{\"id\":\"07b4e9b9-bee3-4377-823d-b5a56c719656\",\"type\":\"Legend\"}],\"right\":[{\"id\":\"07b4e9b9-bee3-4377-823d-b5a56c719656\",\"type\":\"Legend\"}],\"title\":{\"id\":\"f97a59c1-914e-403c-9dfb-e146dc91b337\",\"type\":\"Title\"},\"toolbar\":{\"id\":\"a1b0ecfc-75bb-4fcb-948d-f93dfd92f778\",\"type\":\"Toolbar\"},\"toolbar_location\":null,\"x_range\":{\"id\":\"6fcd2bb0-5e33-4ae0-bb15-dae7c76acd9c\",\"type\":\"Range1d\"},\"x_scale\":{\"id\":\"0af98424-3253-4a12-b31f-b98324dd7335\",\"type\":\"LinearScale\"},\"y_range\":{\"id\":\"bad02fc5-5ea1-4bfe-924c-5960e90fbbc9\",\"type\":\"Range1d\"},\"y_scale\":{\"id\":\"6ea0b974-92aa-40b2-a8c0-122a36a2c042\",\"type\":\"LogScale\"}},\"id\":\"7ca566b0-c36a-4ba0-ada7-79340bd32d6b\",\"subtype\":\"Figure\",\"type\":\"Plot\"},{\"attributes\":{\"axis_label\":\"pressure [mb]\",\"formatter\":{\"id\":\"9a39dec2-feb4-4535-8714-27a0559f5da9\",\"type\":\"LogTickFormatter\"},\"plot\":{\"id\":\"7ca566b0-c36a-4ba0-ada7-79340bd32d6b\",\"subtype\":\"Figure\",\"type\":\"Plot\"},\"ticker\":{\"id\":\"2756a88c-be38-42ed-8978-2753b293f1ea\",\"type\":\"LogTicker\"}},\"id\":\"914fd9cc-2ede-422c-b6bf-24441d8dfc80\",\"type\":\"LogAxis\"},{\"attributes\":{},\"id\":\"2d6edb3a-100e-4671-9ff1-baba3f18f771\",\"type\":\"SaveTool\"},{\"attributes\":{\"bottom_units\":\"screen\",\"fill_alpha\":{\"value\":0.5},\"fill_color\":{\"value\":\"lightgrey\"},\"left_units\":\"screen\",\"level\":\"overlay\",\"line_alpha\":{\"value\":1.0},\"line_color\":{\"value\":\"black\"},\"line_dash\":[4,4],\"line_width\":{\"value\":2},\"plot\":null,\"render_mode\":\"css\",\"right_units\":\"screen\",\"top_units\":\"screen\"},\"id\":\"3c585930-4041-406d-b99b-c312fdf20467\",\"type\":\"BoxAnnotation\"},{\"attributes\":{\"callback\":null,\"end\":0.25068012725600003,\"start\":0.001520927144},\"id\":\"6fcd2bb0-5e33-4ae0-bb15-dae7c76acd9c\",\"type\":\"Range1d\"},{\"attributes\":{},\"id\":\"6ea0b974-92aa-40b2-a8c0-122a36a2c042\",\"type\":\"LogScale\"},{\"attributes\":{},\"id\":\"3c34e4a0-7470-40cb-a033-798c1ad8ac34\",\"type\":\"PanTool\"},{\"attributes\":{},\"id\":\"3a773729-1631-4c3f-984b-8273c0d27118\",\"type\":\"HelpTool\"},{\"attributes\":{\"data_source\":{\"id\":\"29140442-b0c4-402d-95ab-d085757fff4d\",\"type\":\"ColumnDataSource\"},\"glyph\":{\"id\":\"49578278-dcfa-495c-92d7-1ab318bde160\",\"type\":\"Line\"},\"hover_glyph\":null,\"muted_glyph\":null,\"nonselection_glyph\":{\"id\":\"a3f5cfe3-5a49-40a6-8094-3bedbabdbd44\",\"type\":\"Line\"},\"selection_glyph\":null,\"view\":{\"id\":\"9ee46012-bb3b-4fe5-be71-d727e322c0ce\",\"type\":\"CDSView\"}},\"id\":\"49e29114-2bc9-4a35-841a-941afb80608d\",\"type\":\"GlyphRenderer\"},{\"attributes\":{\"data_source\":{\"id\":\"4c21f435-1496-4b30-a47b-7db15e620d68\",\"type\":\"ColumnDataSource\"},\"glyph\":{\"id\":\"3b889df1-d2be-430c-86db-68725e7b5d3e\",\"type\":\"Circle\"},\"hover_glyph\":null,\"muted_glyph\":null,\"nonselection_glyph\":{\"id\":\"5fc0e341-dc5a-4474-a181-267abb6094d4\",\"type\":\"Circle\"},\"selection_glyph\":null,\"view\":{\"id\":\"9f21277b-96ad-4c66-b874-68c8c6dba2ac\",\"type\":\"CDSView\"}},\"id\":\"e6dbcde7-c064-429d-b24e-7a2c87cc21d2\",\"type\":\"GlyphRenderer\"},{\"attributes\":{},\"id\":\"0d76b01b-2d25-45b2-b3ca-c9aa501eca15\",\"type\":\"LinearScale\"},{\"attributes\":{\"num_minor_ticks\":10},\"id\":\"2756a88c-be38-42ed-8978-2753b293f1ea\",\"type\":\"LogTicker\"},{\"attributes\":{\"data_source\":{\"id\":\"e6a31e6a-dbe1-4d7a-890b-8d21bfff8dfe\",\"type\":\"ColumnDataSource\"},\"glyph\":{\"id\":\"813da3ce-4a26-4e92-8b09-6f0ed041739a\",\"type\":\"Square\"},\"hover_glyph\":null,\"muted_glyph\":null,\"nonselection_glyph\":{\"id\":\"6d5eac21-1236-4847-8cc7-8860f002d505\",\"type\":\"Square\"},\"selection_glyph\":null,\"view\":{\"id\":\"0a9ad8a3-99e6-4b97-b476-9b76ff57f47b\",\"type\":\"CDSView\"}},\"id\":\"852180dc-ec6c-40ec-9c2c-8bb86a93639f\",\"type\":\"GlyphRenderer\"},{\"attributes\":{\"callback\":null,\"data\":{\"x\":{\"__ndarray__\":\"6mwz2zaIxL+4ySxrMMfDv4kevm0iCsK/UtZvJqYLwL/N6GjREpa7v2hkeR+Tgba/OJNQqfvIsL+G72I5wM6kvwgcvaWSvYq/2EQfWeTKkT+5Xon2Z/WpP46phsA7QLY/OF/TIFgXwD8pEfr8pJjEPxkCoXG4wcc/6qEqZLb9yT9ckJD1ks7LP6ZIW+iMIM0/q069JIT9zT+0IuZpK7zOPwTi2Cc+xs8/803DhXYtyj/Ean+pl8a8P5Ck+odavqo/aygqJUjInT+GjYy3kKWTP5/USF/J1Ic/yergnK1VfT+FLUjDwY96P8HCO5Q3tHs/hCHVbVX9ej8uUrpJC911P1kIqR4bT3Q/yd4+6jDYeT9xSdAGeel9P6niJ8U36n4/PTE9MnUWfz9nrYrvyRx+P4pYhiiGc4M/dQeQJZyriD+jpg+9wguNP8FLniLva4w/K3Ndcogqhz8BH0mzPAJ5Px3PbR6cymi/6UvKOKFrgr8aPNymKRZwv7uTeA6fU3w//Kj4Uof7kz+AJEWUkdugPycjqMa9jKk/YtuBvh32sT/cXCqmOjO2P5hiB8ipM7g/+VoUmWCIuD9jmncJP1K4P6HMX1Gse7g/HSGRI47WuD/82MTMtZ24P05MYDissLc/53NqPhmptT/DWvEX90KzPxneHBa5k7A/HgUqERhTrD8O1PScnr6oP6WSz2VJBKc/HJYYYRCspz/fhaggEeOrP2HpMut7w7A/qDpbdVoNsj/CCr/tbDyvP31kNnIkaqU/VsFrQTZjlz9jFK5FlzCAP24Ocj8pWJK/\",\"dtype\":\"float64\",\"shape\":[75]},\"y\":{\"__ndarray__\":\"S/O/Q+51ND/Sv8nbtpRIP2vylNV0PVE/aTum7souWD/At0SJ8fVgPw3Iuahxymc/MSNhhJWvcD/bTfBN02d3P2zb5nxnaoA/CD5h5MAGhz8NmeH1TyaQP+zrCsc9p5Y/LbKd76fGnz/bLW5ISEmmPww9YvTcQq8/JV2OstnstT8Er5Y7M8G+P0c+r3jqkcU/5h99k6ZBzj88bCIzFzjVP4enV8oyxN0//yH99nXg5D8qOpLLf0jtP5kqGJXUifQ/c9cS8kHP/D+/DpwzojQEQIEmwoanVwxA4lgXt9HgE0BSSZ2AJuIbQAMJih9jjiNA5q4l5INuK0AwTKYKRj0zQNv5fmq8/DpAaCJseHrtQkB/+zpwzoxKQM3MzMzMeFJAZmZmZmZqWEAAAAAAAFxeQM3MzMzMJmJAmpmZmZkfZUBmZmZmZhhoQDMzMzMzEWtAAAAAAAAKbkBmZmZmZoFwQM3MzMzM/XFAMzMzMzN6c0CamZmZmfZ0QAAAAAAAc3ZAZmZmZmbvd0DNzMzMzGt5QDMzMzMz6HpAmpmZmZlkfEAAAAAAAOF9QGZmZmZmXX9AZmZmZuZsgECamZmZGSuBQM3MzMxM6YFAAAAAAICngkAzMzMzs2WDQGZmZmbmI4RAmpmZmRnihEDNzMzMTKCFQAAAAACAXoZAMzMzM7Mch0BmZmZm5tqHQJqZmZkZmYhAzczMzExXiUAAAAAAgBWKQDMzMzOz04pAZmZmZuaRi0CamZmZGVCMQM3MzMxMDo1AAAAAAIDMjUAzMzMzs4qOQGZmZmbmSI9A\",\"dtype\":\"float64\",\"shape\":[75]}},\"selected\":{\"id\":\"33ee80fd-a01f-4af2-8eb3-607d130fbc5b\",\"type\":\"Selection\"},\"selection_policy\":{\"id\":\"ab0bb550-658b-4d10-a1e4-654478a501e9\",\"type\":\"UnionRenderers\"}},\"id\":\"007816e3-6736-4924-afe0-1b2a21c7ed12\",\"type\":\"ColumnDataSource\"},{\"attributes\":{},\"id\":\"7515db6d-77d5-441c-9609-c5f07b6abb4f\",\"type\":\"ResetTool\"},{\"attributes\":{\"source\":{\"id\":\"4c21f435-1496-4b30-a47b-7db15e620d68\",\"type\":\"ColumnDataSource\"}},\"id\":\"9f21277b-96ad-4c66-b874-68c8c6dba2ac\",\"type\":\"CDSView\"},{\"attributes\":{\"source\":{\"id\":\"ec57ee69-f714-4482-b7ea-57410e5aaa14\",\"type\":\"ColumnDataSource\"}},\"id\":\"3864f1f2-b3f8-4511-a142-67b49432f72c\",\"type\":\"CDSView\"},{\"attributes\":{\"dimension\":1,\"plot\":{\"id\":\"7ca566b0-c36a-4ba0-ada7-79340bd32d6b\",\"subtype\":\"Figure\",\"type\":\"Plot\"},\"ticker\":{\"id\":\"2756a88c-be38-42ed-8978-2753b293f1ea\",\"type\":\"LogTicker\"}},\"id\":\"55fafc79-44f4-4b4c-b0bd-4c4f35f9bf8f\",\"type\":\"Grid\"},{\"attributes\":{\"line_alpha\":0.1,\"line_color\":\"#1f77b4\",\"line_width\":1.5,\"x\":{\"field\":\"x\"},\"y\":{\"field\":\"y\"}},\"id\":\"a3f5cfe3-5a49-40a6-8094-3bedbabdbd44\",\"type\":\"Line\"},{\"attributes\":{\"line_color\":\"#4daf4a\",\"line_width\":1.5,\"x\":{\"field\":\"x\"},\"y\":{\"field\":\"y\"}},\"id\":\"0781c503-f251-40bf-b738-0c94d728aa2a\",\"type\":\"Line\"},{\"attributes\":{\"active_drag\":\"auto\",\"active_inspect\":\"auto\",\"active_scroll\":\"auto\",\"active_tap\":\"auto\",\"tools\":[{\"id\":\"9b297a9f-eb6e-43a1-83b5-157433158e8f\",\"type\":\"PanTool\"},{\"id\":\"73560821-0045-4160-b999-ef57be13f021\",\"type\":\"WheelZoomTool\"},{\"id\":\"2865a2db-71b5-4c6e-974f-4eb4d02669b4\",\"type\":\"BoxZoomTool\"},{\"id\":\"2d6edb3a-100e-4671-9ff1-baba3f18f771\",\"type\":\"SaveTool\"},{\"id\":\"7515db6d-77d5-441c-9609-c5f07b6abb4f\",\"type\":\"ResetTool\"},{\"id\":\"3a773729-1631-4c3f-984b-8273c0d27118\",\"type\":\"HelpTool\"}]},\"id\":\"a1b0ecfc-75bb-4fcb-948d-f93dfd92f778\",\"type\":\"Toolbar\"},{\"attributes\":{\"overlay\":{\"id\":\"3c585930-4041-406d-b99b-c312fdf20467\",\"type\":\"BoxAnnotation\"}},\"id\":\"3924ab29-c2cb-4daf-90c7-48209189738e\",\"type\":\"BoxZoomTool\"},{\"attributes\":{\"children\":[{\"id\":\"8717cd6c-b562-4e81-afa7-6bde3dd91bcb\",\"subtype\":\"Figure\",\"type\":\"Plot\"},{\"id\":\"7ca566b0-c36a-4ba0-ada7-79340bd32d6b\",\"subtype\":\"Figure\",\"type\":\"Plot\"}]},\"id\":\"f3cce53e-9e57-4ee6-ac8f-ae578d9ba4d3\",\"type\":\"Row\"},{\"attributes\":{},\"id\":\"cbdd3a3e-f157-4d4b-8673-a0d1f52c7779\",\"type\":\"WheelZoomTool\"},{\"attributes\":{\"fill_alpha\":{\"value\":0.1},\"fill_color\":{\"value\":\"#1f77b4\"},\"line_alpha\":{\"value\":0.1},\"line_color\":{\"value\":\"#1f77b4\"},\"x\":{\"field\":\"x\"},\"y\":{\"field\":\"y\"}},\"id\":\"ce894a4c-75c0-4cde-ae9c-5f42bc84b7b5\",\"type\":\"Square\"},{\"attributes\":{\"line_color\":\"#4daf4a\",\"line_width\":1.5,\"x\":{\"field\":\"x\"},\"y\":{\"field\":\"y\"}},\"id\":\"49578278-dcfa-495c-92d7-1ab318bde160\",\"type\":\"Line\"},{\"attributes\":{\"overlay\":{\"id\":\"3e71600b-de65-40b9-ba89-cf5569eeab02\",\"type\":\"BoxAnnotation\"}},\"id\":\"2865a2db-71b5-4c6e-974f-4eb4d02669b4\",\"type\":\"BoxZoomTool\"},{\"attributes\":{\"line_alpha\":0.6,\"line_color\":\"#984ea3\",\"line_width\":3,\"x\":{\"field\":\"x\"},\"y\":{\"field\":\"y\"}},\"id\":\"cfaa14fc-a53f-47b8-8a76-d576ddc9784d\",\"type\":\"Line\"},{\"attributes\":{\"fill_alpha\":{\"value\":0.7},\"fill_color\":{\"value\":\"#4daf4a\"},\"line_alpha\":{\"value\":0.7},\"line_color\":{\"value\":\"#4daf4a\"},\"x\":{\"field\":\"x\"},\"y\":{\"field\":\"y\"}},\"id\":\"3b889df1-d2be-430c-86db-68725e7b5d3e\",\"type\":\"Circle\"},{\"attributes\":{\"axis_label\":\"cooling rate [K/day]\",\"formatter\":{\"id\":\"9b08f574-7fde-4015-abc4-897011579482\",\"type\":\"BasicTickFormatter\"},\"plot\":{\"id\":\"7ca566b0-c36a-4ba0-ada7-79340bd32d6b\",\"subtype\":\"Figure\",\"type\":\"Plot\"},\"ticker\":{\"id\":\"3415cdf8-7974-4736-b08b-7ecd58152a73\",\"type\":\"BasicTicker\"}},\"id\":\"568e1995-851f-46bd-9f43-e2a8393d567c\",\"type\":\"LinearAxis\"},{\"attributes\":{\"data_source\":{\"id\":\"ec57ee69-f714-4482-b7ea-57410e5aaa14\",\"type\":\"ColumnDataSource\"},\"glyph\":{\"id\":\"85ac2bbe-8606-4e6f-898a-36de3af82549\",\"type\":\"Circle\"},\"hover_glyph\":null,\"muted_glyph\":null,\"nonselection_glyph\":{\"id\":\"64351f82-0a88-4537-9502-fcb6a6672d9f\",\"type\":\"Circle\"},\"selection_glyph\":null,\"view\":{\"id\":\"3864f1f2-b3f8-4511-a142-67b49432f72c\",\"type\":\"CDSView\"}},\"id\":\"36cd9852-ea2a-4bf2-90fd-7b0ec5750e49\",\"type\":\"GlyphRenderer\"},{\"attributes\":{},\"id\":\"73560821-0045-4160-b999-ef57be13f021\",\"type\":\"WheelZoomTool\"},{\"attributes\":{\"plot\":{\"id\":\"8717cd6c-b562-4e81-afa7-6bde3dd91bcb\",\"subtype\":\"Figure\",\"type\":\"Plot\"},\"ticker\":{\"id\":\"49d6b9f6-c4e8-45f9-b090-e59d9f0138ee\",\"type\":\"BasicTicker\"}},\"id\":\"cf94ec1a-c889-4200-8cdb-b42f79775f33\",\"type\":\"Grid\"},{\"attributes\":{\"plot\":{\"id\":\"7ca566b0-c36a-4ba0-ada7-79340bd32d6b\",\"subtype\":\"Figure\",\"type\":\"Plot\"},\"ticker\":{\"id\":\"3415cdf8-7974-4736-b08b-7ecd58152a73\",\"type\":\"BasicTicker\"}},\"id\":\"ded3f1c0-d93c-43c8-ae1e-97e19adb664d\",\"type\":\"Grid\"},{\"attributes\":{},\"id\":\"49d6b9f6-c4e8-45f9-b090-e59d9f0138ee\",\"type\":\"BasicTicker\"},{\"attributes\":{\"dimension\":1,\"plot\":{\"id\":\"8717cd6c-b562-4e81-afa7-6bde3dd91bcb\",\"subtype\":\"Figure\",\"type\":\"Plot\"},\"ticker\":{\"id\":\"57d47cae-05d1-41bf-a9c6-f5106ac601a4\",\"type\":\"BasicTicker\"}},\"id\":\"26f03c24-6f25-4925-a8b0-b631f9e3f250\",\"type\":\"Grid\"},{\"attributes\":{\"line_alpha\":0.6,\"line_color\":\"#e41a1c\",\"line_dash\":[6],\"line_width\":5,\"x\":{\"field\":\"x\"},\"y\":{\"field\":\"y\"}},\"id\":\"c5a4e57c-a4f9-44b6-a363-2ca8bffb4f2a\",\"type\":\"Line\"},{\"attributes\":{\"callback\":null,\"data\":{\"x\":{\"__ndarray__\":\"5UIGbrTOyb/fxkU5wczIv/F2jETLLsa/NL2jSr08w7/GYw6bK/e/v+s7Jwy20Li/Y1bC77MFsb/YQesC2i2hv3ZhTWCYHl0/9mxB4mMfpD/QCeOfACe0P/6ZIG53pL4/diKY1QGxxD8qK5fXWxTJP19NVCWAUcs/PN4/cVs2zD8JxqCXeqvMPwojSVLK0sw/5SFbr0zszD9+RUzDz4PNPwwEATJ0bM8/o5ZBEHt8yj9Rrt8Cv/y9P5Y5eWtCVa0/87FYFo4Ynj97ShVfyWKQPyN9z1L2uYE/jr70QCyeeD+tfidQ/ah6P4x7c8A1hXs/eeXLIkwFeD9ope24EbFxP7Nthg80PHA/JSb2uev/dD/SEUtSqiB5P31IIKet5nw/Bp6tkvcJgD93OA/d66F/P0Z/vuaCHoM/QLTLwbAfhT94WdSmOK6FPwxDPWQePoM//A56BU0Dfj9TKGA684tvP9LUr49uRmW/zBoNQOnbeL/89EUAnqgDPyAUek6Re4Y/MxUkrkq/mj+vOc0j+/emP74vcHE70a8/Lz0qlgyUsz+5d7RBi0S2P4ABmapv8bc/vvj4PRexuD/dPSwT/6m4PxZQEIsEErg/B3oLmH4Rtz/pUgOdrsa1P9pqKhltRrQ/xZSjWwqjsj+k73UfbvGwP6IZpfq3k64/dFRwo8Ggqz/w03QawmGpPwaWMI4iT6g/mAvMcigvqT/6gyN23cOsP7ae9ptW+LA/eJBaBYoIsj+9uCckpv+uP9/Upx9LVKU/MXVSvQd4mD8YbTIDxSqEP19JGiWtzY6/\",\"dtype\":\"float64\",\"shape\":[75]},\"y\":{\"__ndarray__\":\"GhExyth1ND/Sv8nbtpRIP2vylNV0PVE/aTum7souWD/At0SJ8fVgPw3Iuahxymc/MSNhhJWvcD/bTfBN02d3P2zb5nxnaoA/CD5h5MAGhz8NmeH1TyaQP+zrCsc9p5Y/LbKd76fGnz/bLW5ISEmmPww9YvTcQq8/JV2OstnstT8Er5Y7M8G+P0c+r3jqkcU/5h99k6ZBzj88bCIzFzjVP4enV8oyxN0//yH99nXg5D8qOpLLf0jtP5kqGJXUifQ/c9cS8kHP/D+/DpwzojQEQIEmwoanVwxA4lgXt9HgE0BSSZ2AJuIbQAMJih9jjiNA5q4l5INuK0AwTKYKRj0zQNv5fmq8/DpAaCJseHrtQkB/+zpwzoxKQM3MzMzMeFJAZmZmZmZqWEAAAAAAAFxeQM3MzMzMJmJAmpmZmZkfZUBmZmZmZhhoQDMzMzMzEWtAAAAAAAAKbkBmZmZmZoFwQM3MzMzM/XFAMzMzMzN6c0CamZmZmfZ0QAAAAAAAc3ZAZmZmZmbvd0DNzMzMzGt5QDMzMzMz6HpAmpmZmZlkfEAAAAAAAOF9QGZmZmZmXX9AZmZmZuZsgECamZmZGSuBQM3MzMxM6YFAAAAAAICngkAzMzMzs2WDQGZmZmbmI4RAmpmZmRnihEDNzMzMTKCFQAAAAACAXoZAMzMzM7Mch0BmZmZm5tqHQJqZmZkZmYhAzczMzExXiUAAAAAAgBWKQDMzMzOz04pAZmZmZuaRi0CamZmZGVCMQM3MzMxMDo1AAAAAAIDMjUAzMzMzs4qOQGZmZmbmSI9A\",\"dtype\":\"float64\",\"shape\":[75]}},\"selected\":{\"id\":\"4fe3614c-4aa1-4f43-ac34-5fe2870dbc52\",\"type\":\"Selection\"},\"selection_policy\":{\"id\":\"4dcf9080-c1a7-425c-9a74-4ce769879331\",\"type\":\"UnionRenderers\"}},\"id\":\"ec57ee69-f714-4482-b7ea-57410e5aaa14\",\"type\":\"ColumnDataSource\"},{\"attributes\":{},\"id\":\"57d47cae-05d1-41bf-a9c6-f5106ac601a4\",\"type\":\"BasicTicker\"},{\"attributes\":{\"line_alpha\":0.1,\"line_color\":\"#1f77b4\",\"line_width\":3,\"x\":{\"field\":\"x\"},\"y\":{\"field\":\"y\"}},\"id\":\"f28eebdf-a49d-45d7-ab31-35a5a9b250a9\",\"type\":\"Line\"},{\"attributes\":{\"axis_label\":\"pressure [mb]\",\"formatter\":{\"id\":\"b41b90c0-cf22-476b-b032-e789c462c627\",\"type\":\"BasicTickFormatter\"},\"plot\":{\"id\":\"8717cd6c-b562-4e81-afa7-6bde3dd91bcb\",\"subtype\":\"Figure\",\"type\":\"Plot\"},\"ticker\":{\"id\":\"57d47cae-05d1-41bf-a9c6-f5106ac601a4\",\"type\":\"BasicTicker\"}},\"id\":\"35c90012-7491-446a-8f0c-61a61bbec2b0\",\"type\":\"LinearAxis\"},{\"attributes\":{\"callback\":null,\"data\":{\"x\":{\"__ndarray__\":\"5UIGbrTOyb/fxkU5wczIv/F2jETLLsa/NL2jSr08w7/GYw6bK/e/v+s7Jwy20Li/Y1bC77MFsb/YQesC2i2hv3ZhTWCYHl0/9mxB4mMfpD/QCeOfACe0P/6ZIG53pL4/diKY1QGxxD8qK5fXWxTJP19NVCWAUcs/PN4/cVs2zD8JxqCXeqvMPwojSVLK0sw/5SFbr0zszD9+RUzDz4PNPwwEATJ0bM8/o5ZBEHt8yj9Rrt8Cv/y9P5Y5eWtCVa0/87FYFo4Ynj97ShVfyWKQPyN9z1L2uYE/jr70QCyeeD+tfidQ/ah6P4x7c8A1hXs/eeXLIkwFeD9ope24EbFxP7Nthg80PHA/JSb2uev/dD/SEUtSqiB5P31IIKet5nw/Bp6tkvcJgD93OA/d66F/P0Z/vuaCHoM/QLTLwbAfhT94WdSmOK6FPwxDPWQePoM//A56BU0Dfj9TKGA684tvP9LUr49uRmW/zBoNQOnbeL/89EUAnqgDPyAUek6Re4Y/MxUkrkq/mj+vOc0j+/emP74vcHE70a8/Lz0qlgyUsz+5d7RBi0S2P4ABmapv8bc/vvj4PRexuD/dPSwT/6m4PxZQEIsEErg/B3oLmH4Rtz/pUgOdrsa1P9pqKhltRrQ/xZSjWwqjsj+k73UfbvGwP6IZpfq3k64/dFRwo8Ggqz/w03QawmGpPwaWMI4iT6g/mAvMcigvqT/6gyN23cOsP7ae9ptW+LA/eJBaBYoIsj+9uCckpv+uP9/Upx9LVKU/MXVSvQd4mD8YbTIDxSqEP19JGiWtzY6/\",\"dtype\":\"float64\",\"shape\":[75]},\"y\":{\"__ndarray__\":\"GhExyth1ND/Sv8nbtpRIP2vylNV0PVE/aTum7souWD/At0SJ8fVgPw3Iuahxymc/MSNhhJWvcD/bTfBN02d3P2zb5nxnaoA/CD5h5MAGhz8NmeH1TyaQP+zrCsc9p5Y/LbKd76fGnz/bLW5ISEmmPww9YvTcQq8/JV2OstnstT8Er5Y7M8G+P0c+r3jqkcU/5h99k6ZBzj88bCIzFzjVP4enV8oyxN0//yH99nXg5D8qOpLLf0jtP5kqGJXUifQ/c9cS8kHP/D+/DpwzojQEQIEmwoanVwxA4lgXt9HgE0BSSZ2AJuIbQAMJih9jjiNA5q4l5INuK0AwTKYKRj0zQNv5fmq8/DpAaCJseHrtQkB/+zpwzoxKQM3MzMzMeFJAZmZmZmZqWEAAAAAAAFxeQM3MzMzMJmJAmpmZmZkfZUBmZmZmZhhoQDMzMzMzEWtAAAAAAAAKbkBmZmZmZoFwQM3MzMzM/XFAMzMzMzN6c0CamZmZmfZ0QAAAAAAAc3ZAZmZmZmbvd0DNzMzMzGt5QDMzMzMz6HpAmpmZmZlkfEAAAAAAAOF9QGZmZmZmXX9AZmZmZuZsgECamZmZGSuBQM3MzMxM6YFAAAAAAICngkAzMzMzs2WDQGZmZmbmI4RAmpmZmRnihEDNzMzMTKCFQAAAAACAXoZAMzMzM7Mch0BmZmZm5tqHQJqZmZkZmYhAzczMzExXiUAAAAAAgBWKQDMzMzOz04pAZmZmZuaRi0CamZmZGVCMQM3MzMxMDo1AAAAAAIDMjUAzMzMzs4qOQGZmZmbmSI9A\",\"dtype\":\"float64\",\"shape\":[75]}},\"selected\":{\"id\":\"ab1bda46-d5f9-4270-aa03-81debee67e68\",\"type\":\"Selection\"},\"selection_policy\":{\"id\":\"63be7bbf-19ad-415b-bf81-fbb9644b577d\",\"type\":\"UnionRenderers\"}},\"id\":\"d595b14a-74b4-443e-89bf-dec360e48d24\",\"type\":\"ColumnDataSource\"},{\"attributes\":{},\"id\":\"5d5dacd8-d22a-4df4-81aa-ef94c09f5a17\",\"type\":\"SaveTool\"},{\"attributes\":{\"data_source\":{\"id\":\"72cfaaf8-2acf-4f35-a701-003f2d449343\",\"type\":\"ColumnDataSource\"},\"glyph\":{\"id\":\"cfaa14fc-a53f-47b8-8a76-d576ddc9784d\",\"type\":\"Line\"},\"hover_glyph\":null,\"muted_glyph\":null,\"nonselection_glyph\":{\"id\":\"f28eebdf-a49d-45d7-ab31-35a5a9b250a9\",\"type\":\"Line\"},\"selection_glyph\":null,\"view\":{\"id\":\"05bf71f5-8805-4cd1-8ee2-2dc44d1b7baf\",\"type\":\"CDSView\"}},\"id\":\"95b19709-d34c-4ef8-b6bf-b01b5734dc72\",\"type\":\"GlyphRenderer\"},{\"attributes\":{\"fill_alpha\":{\"value\":0.7},\"fill_color\":{\"value\":\"#4daf4a\"},\"line_alpha\":{\"value\":0.7},\"line_color\":{\"value\":\"#4daf4a\"},\"x\":{\"field\":\"x\"},\"y\":{\"field\":\"y\"}},\"id\":\"85ac2bbe-8606-4e6f-898a-36de3af82549\",\"type\":\"Circle\"},{\"attributes\":{\"fill_alpha\":{\"value\":0.1},\"fill_color\":{\"value\":\"#1f77b4\"},\"line_alpha\":{\"value\":0.1},\"line_color\":{\"value\":\"#1f77b4\"},\"x\":{\"field\":\"x\"},\"y\":{\"field\":\"y\"}},\"id\":\"6d5eac21-1236-4847-8cc7-8860f002d505\",\"type\":\"Square\"},{\"attributes\":{\"data_source\":{\"id\":\"a3cfb25a-dca4-4fa1-9f1d-88d8ca54fa9b\",\"type\":\"ColumnDataSource\"},\"glyph\":{\"id\":\"4b5320d0-f319-471a-9d3e-6c555389b123\",\"type\":\"Line\"},\"hover_glyph\":null,\"muted_glyph\":null,\"nonselection_glyph\":{\"id\":\"9b6008e1-c63a-4afe-8d65-007f5a596053\",\"type\":\"Line\"},\"selection_glyph\":null,\"view\":{\"id\":\"5cbaea7f-122e-4854-98e1-f6386f3f59da\",\"type\":\"CDSView\"}},\"id\":\"11b6c485-11db-44ec-92fb-07691f73592b\",\"type\":\"GlyphRenderer\"},{\"attributes\":{},\"id\":\"9b297a9f-eb6e-43a1-83b5-157433158e8f\",\"type\":\"PanTool\"},{\"attributes\":{\"source\":{\"id\":\"007816e3-6736-4924-afe0-1b2a21c7ed12\",\"type\":\"ColumnDataSource\"}},\"id\":\"7c0cad5e-76e9-4687-92d7-1b201c4c6164\",\"type\":\"CDSView\"},{\"attributes\":{\"line_alpha\":0.1,\"line_color\":\"#1f77b4\",\"line_width\":1.5,\"x\":{\"field\":\"x\"},\"y\":{\"field\":\"y\"}},\"id\":\"f9f05692-c305-4c6a-ad37-a53255e19069\",\"type\":\"Line\"},{\"attributes\":{\"data_source\":{\"id\":\"d595b14a-74b4-443e-89bf-dec360e48d24\",\"type\":\"ColumnDataSource\"},\"glyph\":{\"id\":\"0781c503-f251-40bf-b738-0c94d728aa2a\",\"type\":\"Line\"},\"hover_glyph\":null,\"muted_glyph\":null,\"nonselection_glyph\":{\"id\":\"f9f05692-c305-4c6a-ad37-a53255e19069\",\"type\":\"Line\"},\"selection_glyph\":null,\"view\":{\"id\":\"8f812fa3-8dce-49a5-9aeb-7a648fa25dff\",\"type\":\"CDSView\"}},\"id\":\"1181a86e-4c33-4950-aadd-04d4f8078e23\",\"type\":\"GlyphRenderer\"},{\"attributes\":{\"callback\":null,\"data\":{\"x\":{\"__ndarray__\":\"6mwz2zaIxL+4ySxrMMfDv4kevm0iCsK/UtZvJqYLwL/N6GjREpa7v2hkeR+Tgba/OJNQqfvIsL+G72I5wM6kvwgcvaWSvYq/2EQfWeTKkT+5Xon2Z/WpP46phsA7QLY/OF/TIFgXwD8pEfr8pJjEPxkCoXG4wcc/6qEqZLb9yT9ckJD1ks7LP6ZIW+iMIM0/q069JIT9zT+0IuZpK7zOPwTi2Cc+xs8/803DhXYtyj/Ean+pl8a8P5Ck+odavqo/aygqJUjInT+GjYy3kKWTP5/USF/J1Ic/yergnK1VfT+FLUjDwY96P8HCO5Q3tHs/hCHVbVX9ej8uUrpJC911P1kIqR4bT3Q/yd4+6jDYeT9xSdAGeel9P6niJ8U36n4/PTE9MnUWfz9nrYrvyRx+P4pYhiiGc4M/dQeQJZyriD+jpg+9wguNP8FLniLva4w/K3Ndcogqhz8BH0mzPAJ5Px3PbR6cymi/6UvKOKFrgr8aPNymKRZwv7uTeA6fU3w//Kj4Uof7kz+AJEWUkdugPycjqMa9jKk/YtuBvh32sT/cXCqmOjO2P5hiB8ipM7g/+VoUmWCIuD9jmncJP1K4P6HMX1Gse7g/HSGRI47WuD/82MTMtZ24P05MYDissLc/53NqPhmptT/DWvEX90KzPxneHBa5k7A/HgUqERhTrD8O1PScnr6oP6WSz2VJBKc/HJYYYRCspz/fhaggEeOrP2HpMut7w7A/qDpbdVoNsj/CCr/tbDyvP31kNnIkaqU/VsFrQTZjlz9jFK5FlzCAP24Ocj8pWJK/\",\"dtype\":\"float64\",\"shape\":[75]},\"y\":{\"__ndarray__\":\"S/O/Q+51ND/Sv8nbtpRIP2vylNV0PVE/aTum7souWD/At0SJ8fVgPw3Iuahxymc/MSNhhJWvcD/bTfBN02d3P2zb5nxnaoA/CD5h5MAGhz8NmeH1TyaQP+zrCsc9p5Y/LbKd76fGnz/bLW5ISEmmPww9YvTcQq8/JV2OstnstT8Er5Y7M8G+P0c+r3jqkcU/5h99k6ZBzj88bCIzFzjVP4enV8oyxN0//yH99nXg5D8qOpLLf0jtP5kqGJXUifQ/c9cS8kHP/D+/DpwzojQEQIEmwoanVwxA4lgXt9HgE0BSSZ2AJuIbQAMJih9jjiNA5q4l5INuK0AwTKYKRj0zQNv5fmq8/DpAaCJseHrtQkB/+zpwzoxKQM3MzMzMeFJAZmZmZmZqWEAAAAAAAFxeQM3MzMzMJmJAmpmZmZkfZUBmZmZmZhhoQDMzMzMzEWtAAAAAAAAKbkBmZmZmZoFwQM3MzMzM/XFAMzMzMzN6c0CamZmZmfZ0QAAAAAAAc3ZAZmZmZmbvd0DNzMzMzGt5QDMzMzMz6HpAmpmZmZlkfEAAAAAAAOF9QGZmZmZmXX9AZmZmZuZsgECamZmZGSuBQM3MzMxM6YFAAAAAAICngkAzMzMzs2WDQGZmZmbmI4RAmpmZmRnihEDNzMzMTKCFQAAAAACAXoZAMzMzM7Mch0BmZmZm5tqHQJqZmZkZmYhAzczMzExXiUAAAAAAgBWKQDMzMzOz04pAZmZmZuaRi0CamZmZGVCMQM3MzMxMDo1AAAAAAIDMjUAzMzMzs4qOQGZmZmbmSI9A\",\"dtype\":\"float64\",\"shape\":[75]}},\"selected\":{\"id\":\"c6d15dc1-4ba6-42af-8c5a-1ca8d6c0ab9b\",\"type\":\"Selection\"},\"selection_policy\":{\"id\":\"6fe72ac8-dd13-46e1-a7d0-1ea16724d380\",\"type\":\"UnionRenderers\"}},\"id\":\"a3cfb25a-dca4-4fa1-9f1d-88d8ca54fa9b\",\"type\":\"ColumnDataSource\"},{\"attributes\":{\"line_alpha\":0.6,\"line_color\":\"#e41a1c\",\"line_dash\":[6],\"line_width\":5,\"x\":{\"field\":\"x\"},\"y\":{\"field\":\"y\"}},\"id\":\"4b5320d0-f319-471a-9d3e-6c555389b123\",\"type\":\"Line\"},{\"attributes\":{\"source\":{\"id\":\"d595b14a-74b4-443e-89bf-dec360e48d24\",\"type\":\"ColumnDataSource\"}},\"id\":\"8f812fa3-8dce-49a5-9aeb-7a648fa25dff\",\"type\":\"CDSView\"},{\"attributes\":{\"fill_alpha\":{\"value\":0.7},\"fill_color\":{\"value\":\"#984ea3\"},\"line_alpha\":{\"value\":0.7},\"line_color\":{\"value\":\"#984ea3\"},\"x\":{\"field\":\"x\"},\"y\":{\"field\":\"y\"}},\"id\":\"3bb7f900-1f11-4713-a6d1-2c4044a6c628\",\"type\":\"Square\"},{\"attributes\":{\"data_source\":{\"id\":\"e44891ad-3754-421d-a4ac-4bc81634ac4d\",\"type\":\"ColumnDataSource\"},\"glyph\":{\"id\":\"c94d0b3c-f31a-4afc-a81c-ee825f75ffff\",\"type\":\"Line\"},\"hover_glyph\":null,\"muted_glyph\":null,\"nonselection_glyph\":{\"id\":\"290bc744-8678-4485-b179-5f731d76c630\",\"type\":\"Line\"},\"selection_glyph\":null,\"view\":{\"id\":\"634531d5-db65-4b7d-87eb-6ce554a092c6\",\"type\":\"CDSView\"}},\"id\":\"a6094af6-777b-49f0-abd5-da96376155c1\",\"type\":\"GlyphRenderer\"},{\"attributes\":{\"callback\":null,\"data\":{\"x\":{\"__ndarray__\":\"5UIGbrTOyb/fxkU5wczIv/F2jETLLsa/NL2jSr08w7/GYw6bK/e/v+s7Jwy20Li/Y1bC77MFsb/YQesC2i2hv3ZhTWCYHl0/9mxB4mMfpD/QCeOfACe0P/6ZIG53pL4/diKY1QGxxD8qK5fXWxTJP19NVCWAUcs/PN4/cVs2zD8JxqCXeqvMPwojSVLK0sw/5SFbr0zszD9+RUzDz4PNPwwEATJ0bM8/o5ZBEHt8yj9Rrt8Cv/y9P5Y5eWtCVa0/87FYFo4Ynj97ShVfyWKQPyN9z1L2uYE/jr70QCyeeD+tfidQ/ah6P4x7c8A1hXs/eeXLIkwFeD9ope24EbFxP7Nthg80PHA/JSb2uev/dD/SEUtSqiB5P31IIKet5nw/Bp6tkvcJgD93OA/d66F/P0Z/vuaCHoM/QLTLwbAfhT94WdSmOK6FPwxDPWQePoM//A56BU0Dfj9TKGA684tvP9LUr49uRmW/zBoNQOnbeL/89EUAnqgDPyAUek6Re4Y/MxUkrkq/mj+vOc0j+/emP74vcHE70a8/Lz0qlgyUsz+5d7RBi0S2P4ABmapv8bc/vvj4PRexuD/dPSwT/6m4PxZQEIsEErg/B3oLmH4Rtz/pUgOdrsa1P9pqKhltRrQ/xZSjWwqjsj+k73UfbvGwP6IZpfq3k64/dFRwo8Ggqz/w03QawmGpPwaWMI4iT6g/mAvMcigvqT/6gyN23cOsP7ae9ptW+LA/eJBaBYoIsj+9uCckpv+uP9/Upx9LVKU/MXVSvQd4mD8YbTIDxSqEP19JGiWtzY6/\",\"dtype\":\"float64\",\"shape\":[75]},\"y\":{\"__ndarray__\":\"GhExyth1ND/Sv8nbtpRIP2vylNV0PVE/aTum7souWD/At0SJ8fVgPw3Iuahxymc/MSNhhJWvcD/bTfBN02d3P2zb5nxnaoA/CD5h5MAGhz8NmeH1TyaQP+zrCsc9p5Y/LbKd76fGnz/bLW5ISEmmPww9YvTcQq8/JV2OstnstT8Er5Y7M8G+P0c+r3jqkcU/5h99k6ZBzj88bCIzFzjVP4enV8oyxN0//yH99nXg5D8qOpLLf0jtP5kqGJXUifQ/c9cS8kHP/D+/DpwzojQEQIEmwoanVwxA4lgXt9HgE0BSSZ2AJuIbQAMJih9jjiNA5q4l5INuK0AwTKYKRj0zQNv5fmq8/DpAaCJseHrtQkB/+zpwzoxKQM3MzMzMeFJAZmZmZmZqWEAAAAAAAFxeQM3MzMzMJmJAmpmZmZkfZUBmZmZmZhhoQDMzMzMzEWtAAAAAAAAKbkBmZmZmZoFwQM3MzMzM/XFAMzMzMzN6c0CamZmZmfZ0QAAAAAAAc3ZAZmZmZmbvd0DNzMzMzGt5QDMzMzMz6HpAmpmZmZlkfEAAAAAAAOF9QGZmZmZmXX9AZmZmZuZsgECamZmZGSuBQM3MzMxM6YFAAAAAAICngkAzMzMzs2WDQGZmZmbmI4RAmpmZmRnihEDNzMzMTKCFQAAAAACAXoZAMzMzM7Mch0BmZmZm5tqHQJqZmZkZmYhAzczMzExXiUAAAAAAgBWKQDMzMzOz04pAZmZmZuaRi0CamZmZGVCMQM3MzMxMDo1AAAAAAIDMjUAzMzMzs4qOQGZmZmbmSI9A\",\"dtype\":\"float64\",\"shape\":[75]}},\"selected\":{\"id\":\"74d875e6-7599-4cbf-85cf-ff6209a668ab\",\"type\":\"Selection\"},\"selection_policy\":{\"id\":\"cb142696-c3e8-475a-919f-11a82d5281cf\",\"type\":\"UnionRenderers\"}},\"id\":\"4c21f435-1496-4b30-a47b-7db15e620d68\",\"type\":\"ColumnDataSource\"},{\"attributes\":{\"line_alpha\":0.1,\"line_color\":\"#1f77b4\",\"line_dash\":[6],\"line_width\":5,\"x\":{\"field\":\"x\"},\"y\":{\"field\":\"y\"}},\"id\":\"16cc758f-f578-4ba3-b491-f630319ed6db\",\"type\":\"Line\"},{\"attributes\":{\"line_alpha\":0.6,\"line_color\":\"#984ea3\",\"line_width\":3,\"x\":{\"field\":\"x\"},\"y\":{\"field\":\"y\"}},\"id\":\"c94d0b3c-f31a-4afc-a81c-ee825f75ffff\",\"type\":\"Line\"},{\"attributes\":{},\"id\":\"e75744ab-bf36-4915-990c-488f13ac8638\",\"type\":\"ResetTool\"},{\"attributes\":{\"source\":{\"id\":\"e44891ad-3754-421d-a4ac-4bc81634ac4d\",\"type\":\"ColumnDataSource\"}},\"id\":\"634531d5-db65-4b7d-87eb-6ce554a092c6\",\"type\":\"CDSView\"},{\"attributes\":{\"plot\":null,\"text\":\"Log pressure scale\"},\"id\":\"f97a59c1-914e-403c-9dfb-e146dc91b337\",\"type\":\"Title\"},{\"attributes\":{},\"id\":\"b413a00e-f696-400f-9bcf-c29fea149c17\",\"type\":\"BasicTickFormatter\"},{\"attributes\":{\"label\":{\"value\":\"CLIRAD `coolr_bands`\"},\"renderers\":[{\"id\":\"b30cbf61-457c-4bed-88cd-505965da410c\",\"type\":\"GlyphRenderer\"}]},\"id\":\"4999b864-af32-4bbc-8cf6-181301d28f0a\",\"type\":\"LegendItem\"},{\"attributes\":{},\"id\":\"74d875e6-7599-4cbf-85cf-ff6209a668ab\",\"type\":\"Selection\"},{\"attributes\":{\"label\":{\"value\":\"CRD\"},\"renderers\":[{\"id\":\"36cd9852-ea2a-4bf2-90fd-7b0ec5750e49\",\"type\":\"GlyphRenderer\"},{\"id\":\"1181a86e-4c33-4950-aadd-04d4f8078e23\",\"type\":\"GlyphRenderer\"}]},\"id\":\"5fbb879f-691a-42ab-883a-547628cff3ee\",\"type\":\"LegendItem\"},{\"attributes\":{},\"id\":\"c30fb944-2212-4604-9194-68875712c1f5\",\"type\":\"Selection\"},{\"attributes\":{\"callback\":null,\"data\":{\"x\":{\"__ndarray__\":\"VqYNkQxKxr+9wh0PN2zFvw8jHw90X8O/xZX3q5AOwb9xlBzrH8+8vyetCVO58ba/Q4ZOj+htsL9gA+3BjG6iv+yCge9smXW/HcZSqkLinD8kdJpcxGywPzfLK9gTOLo/iwpKBHtCwj8O0zpI8rfGP8S00xC2esk/czr42nAfyz/tSy0RW03MP/0qSUo8EM0/IOLbyZqNzT/b+PrF8zbOPwC12vaLqs8/8vKp6P50yj+tIvvYGMC9P+A6/y26maw/PYMJKSSgnj/hyO7st9iSP6pzdpQHyIY/Sf0iFqTAfj/9xSn1cdB9Px6Hff7VlX4/hgp59YxffD+PZT70HX52P+GD8hT873Q/37U3TFghej9QDkz21+F9P08L6sFI4H8/dx6z/4O9gD9EG/5aM1SAP+MfZFfZfoQ/oJy40kqwiD/bE6bCSMiLP5tQTa2fS4o/ZBOYaXkthT9Pkf1wnu52P1dlPmaZXme/ia3LW06ugL/uweyZn6Fmv5ZZ8FDjM4A/et35ldEqlT8fmsyneKqhP8PDGGPzWak/vAxl8JYasT+RInEby/u0P4V1USPxXLc/j8pxm01AuD+NhDzHSEe4P7xZaxlzFLg/4AXSNVTYtz+exdsvNGS3P2owgYvDfbY/2dIPGHgAtT82QVRHbxqzP5wXB+EXArE/OJ1ZS/IJrj8BuV/uFuGqP6uyA4KDM6k/VBYnD7rRqT8NkS24MWKtP/RnWfurT7E/MlTGslNksj80CxxrCa2vP2xzejywxaU/On0suR5imD8ZgOqSc2iBPwOIJtObHJG/\",\"dtype\":\"float64\",\"shape\":[75]},\"y\":{\"__ndarray__\":\"GhExyth1ND/Sv8nbtpRIP2vylNV0PVE/aTum7souWD/At0SJ8fVgPw3Iuahxymc/MSNhhJWvcD/bTfBN02d3P2zb5nxnaoA/CD5h5MAGhz8NmeH1TyaQP+zrCsc9p5Y/LbKd76fGnz/bLW5ISEmmPww9YvTcQq8/JV2OstnstT8Er5Y7M8G+P0c+r3jqkcU/5h99k6ZBzj88bCIzFzjVP4enV8oyxN0//yH99nXg5D8qOpLLf0jtP5kqGJXUifQ/c9cS8kHP/D+/DpwzojQEQIEmwoanVwxA4lgXt9HgE0BSSZ2AJuIbQAMJih9jjiNA5q4l5INuK0AwTKYKRj0zQNv5fmq8/DpAaCJseHrtQkB/+zpwzoxKQM3MzMzMeFJAZmZmZmZqWEAAAAAAAFxeQM3MzMzMJmJAmpmZmZkfZUBmZmZmZhhoQDMzMzMzEWtAAAAAAAAKbkBmZmZmZoFwQM3MzMzM/XFAMzMzMzN6c0CamZmZmfZ0QAAAAAAAc3ZAZmZmZmbvd0DNzMzMzGt5QDMzMzMz6HpAmpmZmZlkfEAAAAAAAOF9QGZmZmZmXX9AZmZmZuZsgECamZmZGSuBQM3MzMxM6YFAAAAAAICngkAzMzMzs2WDQGZmZmbmI4RAmpmZmRnihEDNzMzMTKCFQAAAAACAXoZAMzMzM7Mch0BmZmZm5tqHQJqZmZkZmYhAzczMzExXiUAAAAAAgBWKQDMzMzOz04pAZmZmZuaRi0CamZmZGVCMQM3MzMxMDo1AAAAAAIDMjUAzMzMzs4qOQGZmZmbmSI9A\",\"dtype\":\"float64\",\"shape\":[75]}},\"selected\":{\"id\":\"d0c876c9-39a3-4d29-80cd-92f1a3d8cf2e\",\"type\":\"Selection\"},\"selection_policy\":{\"id\":\"5f162279-3e1a-4d6e-abdf-fe63b2c1c87b\",\"type\":\"UnionRenderers\"}},\"id\":\"e44891ad-3754-421d-a4ac-4bc81634ac4d\",\"type\":\"ColumnDataSource\"},{\"attributes\":{\"label\":{\"value\":\"WGT igg=10 wgt_flux=2\"},\"renderers\":[{\"id\":\"f4edeef8-69e8-41bc-ac38-50da72c0ff70\",\"type\":\"GlyphRenderer\"},{\"id\":\"a6094af6-777b-49f0-abd5-da96376155c1\",\"type\":\"GlyphRenderer\"}]},\"id\":\"1e166f6a-791f-4d9b-9ede-c06ef03f9c31\",\"type\":\"LegendItem\"},{\"attributes\":{},\"id\":\"64702f36-e92c-4554-bf10-1f9678b332c2\",\"type\":\"HelpTool\"},{\"attributes\":{},\"id\":\"d56b7d7e-3830-4891-93fe-f55a7c428bd4\",\"type\":\"UnionRenderers\"},{\"attributes\":{\"data_source\":{\"id\":\"007816e3-6736-4924-afe0-1b2a21c7ed12\",\"type\":\"ColumnDataSource\"},\"glyph\":{\"id\":\"c5a4e57c-a4f9-44b6-a363-2ca8bffb4f2a\",\"type\":\"Line\"},\"hover_glyph\":null,\"muted_glyph\":null,\"nonselection_glyph\":{\"id\":\"16cc758f-f578-4ba3-b491-f630319ed6db\",\"type\":\"Line\"},\"selection_glyph\":null,\"view\":{\"id\":\"7c0cad5e-76e9-4687-92d7-1b201c4c6164\",\"type\":\"CDSView\"}},\"id\":\"b30cbf61-457c-4bed-88cd-505965da410c\",\"type\":\"GlyphRenderer\"},{\"attributes\":{},\"id\":\"b41b90c0-cf22-476b-b032-e789c462c627\",\"type\":\"BasicTickFormatter\"},{\"attributes\":{\"source\":{\"id\":\"a3cfb25a-dca4-4fa1-9f1d-88d8ca54fa9b\",\"type\":\"ColumnDataSource\"}},\"id\":\"5cbaea7f-122e-4854-98e1-f6386f3f59da\",\"type\":\"CDSView\"},{\"attributes\":{},\"id\":\"c6d15dc1-4ba6-42af-8c5a-1ca8d6c0ab9b\",\"type\":\"Selection\"},{\"attributes\":{},\"id\":\"6fe72ac8-dd13-46e1-a7d0-1ea16724d380\",\"type\":\"UnionRenderers\"},{\"attributes\":{},\"id\":\"915a5c88-8ef2-44d2-9190-95f23187f987\",\"type\":\"UnionRenderers\"},{\"attributes\":{\"below\":[{\"id\":\"54d83caa-3774-44dc-8e6d-140dbeb23b10\",\"type\":\"LinearAxis\"}],\"left\":[{\"id\":\"35c90012-7491-446a-8f0c-61a61bbec2b0\",\"type\":\"LinearAxis\"}],\"plot_height\":500,\"plot_width\":400,\"renderers\":[{\"id\":\"54d83caa-3774-44dc-8e6d-140dbeb23b10\",\"type\":\"LinearAxis\"},{\"id\":\"cf94ec1a-c889-4200-8cdb-b42f79775f33\",\"type\":\"Grid\"},{\"id\":\"35c90012-7491-446a-8f0c-61a61bbec2b0\",\"type\":\"LinearAxis\"},{\"id\":\"26f03c24-6f25-4925-a8b0-b631f9e3f250\",\"type\":\"Grid\"},{\"id\":\"3c585930-4041-406d-b99b-c312fdf20467\",\"type\":\"BoxAnnotation\"},{\"id\":\"11b6c485-11db-44ec-92fb-07691f73592b\",\"type\":\"GlyphRenderer\"},{\"id\":\"e6dbcde7-c064-429d-b24e-7a2c87cc21d2\",\"type\":\"GlyphRenderer\"},{\"id\":\"49e29114-2bc9-4a35-841a-941afb80608d\",\"type\":\"GlyphRenderer\"},{\"id\":\"852180dc-ec6c-40ec-9c2c-8bb86a93639f\",\"type\":\"GlyphRenderer\"},{\"id\":\"95b19709-d34c-4ef8-b6bf-b01b5734dc72\",\"type\":\"GlyphRenderer\"}],\"title\":{\"id\":\"1f2722ed-8bfa-49ed-b397-a16cc0e91e88\",\"type\":\"Title\"},\"toolbar\":{\"id\":\"53d7cdea-6af4-41d8-9504-72d44f340070\",\"type\":\"Toolbar\"},\"toolbar_location\":null,\"x_range\":{\"id\":\"8010bb2e-3579-4701-989f-8ba95332692b\",\"type\":\"Range1d\"},\"x_scale\":{\"id\":\"0d76b01b-2d25-45b2-b3ca-c9aa501eca15\",\"type\":\"LinearScale\"},\"y_range\":{\"id\":\"6721110a-db17-4c71-a44a-0e4e3efa9255\",\"type\":\"Range1d\"},\"y_scale\":{\"id\":\"8806296e-d608-4517-b1aa-ea3bef15584a\",\"type\":\"LinearScale\"}},\"id\":\"8717cd6c-b562-4e81-afa7-6bde3dd91bcb\",\"subtype\":\"Figure\",\"type\":\"Plot\"},{\"attributes\":{\"fill_alpha\":{\"value\":0.7},\"fill_color\":{\"value\":\"#984ea3\"},\"line_alpha\":{\"value\":0.7},\"line_color\":{\"value\":\"#984ea3\"},\"x\":{\"field\":\"x\"},\"y\":{\"field\":\"y\"}},\"id\":\"813da3ce-4a26-4e92-8b09-6f0ed041739a\",\"type\":\"Square\"},{\"attributes\":{},\"id\":\"cb142696-c3e8-475a-919f-11a82d5281cf\",\"type\":\"UnionRenderers\"},{\"attributes\":{},\"id\":\"0065a1d1-b135-40b2-9756-e7c109e13eee\",\"type\":\"Selection\"},{\"attributes\":{\"bottom_units\":\"screen\",\"fill_alpha\":{\"value\":0.5},\"fill_color\":{\"value\":\"lightgrey\"},\"left_units\":\"screen\",\"level\":\"overlay\",\"line_alpha\":{\"value\":1.0},\"line_color\":{\"value\":\"black\"},\"line_dash\":[4,4],\"line_width\":{\"value\":2},\"plot\":null,\"render_mode\":\"css\",\"right_units\":\"screen\",\"top_units\":\"screen\"},\"id\":\"3e71600b-de65-40b9-ba89-cf5569eeab02\",\"type\":\"BoxAnnotation\"},{\"attributes\":{\"source\":{\"id\":\"e6a31e6a-dbe1-4d7a-890b-8d21bfff8dfe\",\"type\":\"ColumnDataSource\"}},\"id\":\"0a9ad8a3-99e6-4b97-b476-9b76ff57f47b\",\"type\":\"CDSView\"},{\"attributes\":{},\"id\":\"6a063e4a-00c0-4451-bf70-3012908ae3eb\",\"type\":\"Selection\"},{\"attributes\":{\"callback\":null,\"data\":{\"x\":{\"__ndarray__\":\"VqYNkQxKxr+9wh0PN2zFvw8jHw90X8O/xZX3q5AOwb9xlBzrH8+8vyetCVO58ba/Q4ZOj+htsL9gA+3BjG6iv+yCge9smXW/HcZSqkLinD8kdJpcxGywPzfLK9gTOLo/iwpKBHtCwj8O0zpI8rfGP8S00xC2esk/czr42nAfyz/tSy0RW03MP/0qSUo8EM0/IOLbyZqNzT/b+PrF8zbOPwC12vaLqs8/8vKp6P50yj+tIvvYGMC9P+A6/y26maw/PYMJKSSgnj/hyO7st9iSP6pzdpQHyIY/Sf0iFqTAfj/9xSn1cdB9Px6Hff7VlX4/hgp59YxffD+PZT70HX52P+GD8hT873Q/37U3TFghej9QDkz21+F9P08L6sFI4H8/dx6z/4O9gD9EG/5aM1SAP+MfZFfZfoQ/oJy40kqwiD/bE6bCSMiLP5tQTa2fS4o/ZBOYaXkthT9Pkf1wnu52P1dlPmaZXme/ia3LW06ugL/uweyZn6Fmv5ZZ8FDjM4A/et35ldEqlT8fmsyneKqhP8PDGGPzWak/vAxl8JYasT+RInEby/u0P4V1USPxXLc/j8pxm01AuD+NhDzHSEe4P7xZaxlzFLg/4AXSNVTYtz+exdsvNGS3P2owgYvDfbY/2dIPGHgAtT82QVRHbxqzP5wXB+EXArE/OJ1ZS/IJrj8BuV/uFuGqP6uyA4KDM6k/VBYnD7rRqT8NkS24MWKtP/RnWfurT7E/MlTGslNksj80CxxrCa2vP2xzejywxaU/On0suR5imD8ZgOqSc2iBPwOIJtObHJG/\",\"dtype\":\"float64\",\"shape\":[75]},\"y\":{\"__ndarray__\":\"GhExyth1ND/Sv8nbtpRIP2vylNV0PVE/aTum7souWD/At0SJ8fVgPw3Iuahxymc/MSNhhJWvcD/bTfBN02d3P2zb5nxnaoA/CD5h5MAGhz8NmeH1TyaQP+zrCsc9p5Y/LbKd76fGnz/bLW5ISEmmPww9YvTcQq8/JV2OstnstT8Er5Y7M8G+P0c+r3jqkcU/5h99k6ZBzj88bCIzFzjVP4enV8oyxN0//yH99nXg5D8qOpLLf0jtP5kqGJXUifQ/c9cS8kHP/D+/DpwzojQEQIEmwoanVwxA4lgXt9HgE0BSSZ2AJuIbQAMJih9jjiNA5q4l5INuK0AwTKYKRj0zQNv5fmq8/DpAaCJseHrtQkB/+zpwzoxKQM3MzMzMeFJAZmZmZmZqWEAAAAAAAFxeQM3MzMzMJmJAmpmZmZkfZUBmZmZmZhhoQDMzMzMzEWtAAAAAAAAKbkBmZmZmZoFwQM3MzMzM/XFAMzMzMzN6c0CamZmZmfZ0QAAAAAAAc3ZAZmZmZmbvd0DNzMzMzGt5QDMzMzMz6HpAmpmZmZlkfEAAAAAAAOF9QGZmZmZmXX9AZmZmZuZsgECamZmZGSuBQM3MzMxM6YFAAAAAAICngkAzMzMzs2WDQGZmZmbmI4RAmpmZmRnihEDNzMzMTKCFQAAAAACAXoZAMzMzM7Mch0BmZmZm5tqHQJqZmZkZmYhAzczMzExXiUAAAAAAgBWKQDMzMzOz04pAZmZmZuaRi0CamZmZGVCMQM3MzMxMDo1AAAAAAIDMjUAzMzMzs4qOQGZmZmbmSI9A\",\"dtype\":\"float64\",\"shape\":[75]}},\"selected\":{\"id\":\"0065a1d1-b135-40b2-9756-e7c109e13eee\",\"type\":\"Selection\"},\"selection_policy\":{\"id\":\"d56b7d7e-3830-4891-93fe-f55a7c428bd4\",\"type\":\"UnionRenderers\"}},\"id\":\"e6a31e6a-dbe1-4d7a-890b-8d21bfff8dfe\",\"type\":\"ColumnDataSource\"},{\"attributes\":{\"callback\":null,\"end\":0.01,\"start\":1020},\"id\":\"bad02fc5-5ea1-4bfe-924c-5960e90fbbc9\",\"type\":\"Range1d\"}],\"root_ids\":[\"4fc26068-ab92-4e3a-9325-b35116e1c808\"]},\"title\":\"Bokeh Application\",\"version\":\"0.12.16\"}};\n",
       "  var render_items = [{\"docid\":\"7423f64b-0ddb-40f5-9288-c1a796799e28\",\"elementid\":\"56af7f8c-86bb-4f37-9757-501869a403ea\",\"modelid\":\"4fc26068-ab92-4e3a-9325-b35116e1c808\"}];\n",
       "  root.Bokeh.embed.embed_items_notebook(docs_json, render_items);\n",
       "\n",
       "  }\n",
       "  if (root.Bokeh !== undefined) {\n",
       "    embed_document(root);\n",
       "  } else {\n",
       "    var attempts = 0;\n",
       "    var timer = setInterval(function(root) {\n",
       "      if (root.Bokeh !== undefined) {\n",
       "        embed_document(root);\n",
       "        clearInterval(timer);\n",
       "      }\n",
       "      attempts++;\n",
       "      if (attempts > 100) {\n",
       "        console.log(\"Bokeh: ERROR: Unable to run BokehJS code because BokehJS library is missing\")\n",
       "        clearInterval(timer);\n",
       "      }\n",
       "    }, 10, root)\n",
       "  }\n",
       "})(window);"
      ],
      "application/vnd.bokehjs_exec.v0+json": ""
     },
     "metadata": {
      "application/vnd.bokehjs_exec.v0+json": {
       "id": "4fc26068-ab92-4e3a-9325-b35116e1c808"
      }
     },
     "output_type": "display_data"
    },
    {
     "name": "stdout",
     "output_type": "stream",
     "text": [
      "FIGURE. Cooling rate profiles.\n"
     ]
    },
    {
     "data": {
      "text/html": [
       "<a id=\"Flux_Comparison\"></a>"
      ],
      "text/plain": [
       "<IPython.core.display.HTML object>"
      ]
     },
     "metadata": {},
     "output_type": "display_data"
    },
    {
     "data": {
      "text/markdown": [
       "# Flux Comparison"
      ],
      "text/plain": [
       "<IPython.core.display.Markdown object>"
      ]
     },
     "metadata": {},
     "output_type": "display_data"
    },
    {
     "data": {
      "text/html": [
       "<div>\n",
       "<style scoped>\n",
       "    .dataframe tbody tr th:only-of-type {\n",
       "        vertical-align: middle;\n",
       "    }\n",
       "\n",
       "    .dataframe tbody tr th {\n",
       "        vertical-align: top;\n",
       "    }\n",
       "\n",
       "    .dataframe thead th {\n",
       "        text-align: right;\n",
       "    }\n",
       "</style>\n",
       "<table border=\"1\" class=\"dataframe\">\n",
       "  <thead>\n",
       "    <tr style=\"text-align: right;\">\n",
       "      <th></th>\n",
       "      <th></th>\n",
       "      <th>flug</th>\n",
       "      <th>fldg</th>\n",
       "      <th>fnetg</th>\n",
       "    </tr>\n",
       "    <tr>\n",
       "      <th>pressure</th>\n",
       "      <th>level</th>\n",
       "      <th></th>\n",
       "      <th></th>\n",
       "      <th></th>\n",
       "    </tr>\n",
       "  </thead>\n",
       "  <tbody>\n",
       "    <tr>\n",
       "      <th>0.0000</th>\n",
       "      <th>1</th>\n",
       "      <td>-4.883807</td>\n",
       "      <td>0.000000</td>\n",
       "      <td>-4.883807</td>\n",
       "    </tr>\n",
       "    <tr>\n",
       "      <th>1.0685</th>\n",
       "      <th>24</th>\n",
       "      <td>-4.877047</td>\n",
       "      <td>0.017023</td>\n",
       "      <td>-4.860024</td>\n",
       "    </tr>\n",
       "    <tr>\n",
       "      <th>1013.0000</th>\n",
       "      <th>76</th>\n",
       "      <td>-10.181441</td>\n",
       "      <td>10.209751</td>\n",
       "      <td>0.028310</td>\n",
       "    </tr>\n",
       "  </tbody>\n",
       "</table>\n",
       "</div>"
      ],
      "text/plain": [
       "                      flug       fldg     fnetg\n",
       "pressure  level                                \n",
       "0.0000    1      -4.883807   0.000000 -4.883807\n",
       "1.0685    24     -4.877047   0.017023 -4.860024\n",
       "1013.0000 76    -10.181441  10.209751  0.028310"
      ]
     },
     "metadata": {},
     "output_type": "display_data"
    },
    {
     "name": "stdout",
     "output_type": "stream",
     "text": [
      "Table. Fluxes. CRD\n"
     ]
    },
    {
     "data": {
      "text/html": [
       "<div>\n",
       "<style scoped>\n",
       "    .dataframe tbody tr th:only-of-type {\n",
       "        vertical-align: middle;\n",
       "    }\n",
       "\n",
       "    .dataframe tbody tr th {\n",
       "        vertical-align: top;\n",
       "    }\n",
       "\n",
       "    .dataframe thead th {\n",
       "        text-align: right;\n",
       "    }\n",
       "</style>\n",
       "<table border=\"1\" class=\"dataframe\">\n",
       "  <thead>\n",
       "    <tr style=\"text-align: right;\">\n",
       "      <th></th>\n",
       "      <th></th>\n",
       "      <th>flug</th>\n",
       "      <th>fldg</th>\n",
       "      <th>fnetg</th>\n",
       "    </tr>\n",
       "    <tr>\n",
       "      <th>pressure</th>\n",
       "      <th>level</th>\n",
       "      <th></th>\n",
       "      <th></th>\n",
       "      <th></th>\n",
       "    </tr>\n",
       "  </thead>\n",
       "  <tbody>\n",
       "    <tr>\n",
       "      <th>0.0000</th>\n",
       "      <th>1</th>\n",
       "      <td>-4.918822</td>\n",
       "      <td>0.000000</td>\n",
       "      <td>-4.918822</td>\n",
       "    </tr>\n",
       "    <tr>\n",
       "      <th>1.0685</th>\n",
       "      <th>24</th>\n",
       "      <td>-4.911915</td>\n",
       "      <td>0.016845</td>\n",
       "      <td>-4.895070</td>\n",
       "    </tr>\n",
       "    <tr>\n",
       "      <th>1013.0000</th>\n",
       "      <th>76</th>\n",
       "      <td>-10.181441</td>\n",
       "      <td>10.223037</td>\n",
       "      <td>0.041596</td>\n",
       "    </tr>\n",
       "  </tbody>\n",
       "</table>\n",
       "</div>"
      ],
      "text/plain": [
       "                      flug       fldg     fnetg\n",
       "pressure  level                                \n",
       "0.0000    1      -4.918822   0.000000 -4.918822\n",
       "1.0685    24     -4.911915   0.016845 -4.895070\n",
       "1013.0000 76    -10.181441  10.223037  0.041596"
      ]
     },
     "metadata": {},
     "output_type": "display_data"
    },
    {
     "name": "stdout",
     "output_type": "stream",
     "text": [
      "Table. Fluxes. WGT igg=10 wgt_flux=1\n"
     ]
    },
    {
     "data": {
      "text/html": [
       "<div>\n",
       "<style scoped>\n",
       "    .dataframe tbody tr th:only-of-type {\n",
       "        vertical-align: middle;\n",
       "    }\n",
       "\n",
       "    .dataframe tbody tr th {\n",
       "        vertical-align: top;\n",
       "    }\n",
       "\n",
       "    .dataframe thead th {\n",
       "        text-align: right;\n",
       "    }\n",
       "</style>\n",
       "<table border=\"1\" class=\"dataframe\">\n",
       "  <thead>\n",
       "    <tr style=\"text-align: right;\">\n",
       "      <th></th>\n",
       "      <th></th>\n",
       "      <th>flug</th>\n",
       "      <th>fldg</th>\n",
       "      <th>fnetg</th>\n",
       "    </tr>\n",
       "    <tr>\n",
       "      <th>pressure</th>\n",
       "      <th>level</th>\n",
       "      <th></th>\n",
       "      <th></th>\n",
       "      <th></th>\n",
       "    </tr>\n",
       "  </thead>\n",
       "  <tbody>\n",
       "    <tr>\n",
       "      <th>1.000000e-08</th>\n",
       "      <th>1</th>\n",
       "      <td>-4.889013</td>\n",
       "      <td>1.999387e-09</td>\n",
       "      <td>-4.889013</td>\n",
       "    </tr>\n",
       "    <tr>\n",
       "      <th>1.068500e+00</th>\n",
       "      <th>24</th>\n",
       "      <td>-4.882101</td>\n",
       "      <td>1.659400e-02</td>\n",
       "      <td>-4.865507</td>\n",
       "    </tr>\n",
       "    <tr>\n",
       "      <th>1.013000e+03</th>\n",
       "      <th>76</th>\n",
       "      <td>-10.181440</td>\n",
       "      <td>1.024633e+01</td>\n",
       "      <td>0.064885</td>\n",
       "    </tr>\n",
       "  </tbody>\n",
       "</table>\n",
       "</div>"
      ],
      "text/plain": [
       "                         flug          fldg     fnetg\n",
       "pressure     level                                   \n",
       "1.000000e-08 1      -4.889013  1.999387e-09 -4.889013\n",
       "1.068500e+00 24     -4.882101  1.659400e-02 -4.865507\n",
       "1.013000e+03 76    -10.181440  1.024633e+01  0.064885"
      ]
     },
     "metadata": {},
     "output_type": "display_data"
    },
    {
     "name": "stdout",
     "output_type": "stream",
     "text": [
      "Table. Fluxes. CLIRAD\n"
     ]
    },
    {
     "data": {
      "text/html": [
       "<div>\n",
       "<style scoped>\n",
       "    .dataframe tbody tr th:only-of-type {\n",
       "        vertical-align: middle;\n",
       "    }\n",
       "\n",
       "    .dataframe tbody tr th {\n",
       "        vertical-align: top;\n",
       "    }\n",
       "\n",
       "    .dataframe thead th {\n",
       "        text-align: right;\n",
       "    }\n",
       "</style>\n",
       "<table border=\"1\" class=\"dataframe\">\n",
       "  <thead>\n",
       "    <tr style=\"text-align: right;\">\n",
       "      <th></th>\n",
       "      <th></th>\n",
       "      <th>flug</th>\n",
       "      <th>fldg</th>\n",
       "      <th>fnetg</th>\n",
       "    </tr>\n",
       "    <tr>\n",
       "      <th>pressure</th>\n",
       "      <th>level</th>\n",
       "      <th></th>\n",
       "      <th></th>\n",
       "      <th></th>\n",
       "    </tr>\n",
       "  </thead>\n",
       "  <tbody>\n",
       "    <tr>\n",
       "      <th>0.0000</th>\n",
       "      <th>1</th>\n",
       "      <td>-3.501474e-02</td>\n",
       "      <td>0.000000</td>\n",
       "      <td>-0.035015</td>\n",
       "    </tr>\n",
       "    <tr>\n",
       "      <th>1.0685</th>\n",
       "      <th>24</th>\n",
       "      <td>-3.486865e-02</td>\n",
       "      <td>-0.000178</td>\n",
       "      <td>-0.035047</td>\n",
       "    </tr>\n",
       "    <tr>\n",
       "      <th>1013.0000</th>\n",
       "      <th>76</th>\n",
       "      <td>1.370000e-07</td>\n",
       "      <td>0.013286</td>\n",
       "      <td>0.013286</td>\n",
       "    </tr>\n",
       "  </tbody>\n",
       "</table>\n",
       "</div>"
      ],
      "text/plain": [
       "                         flug      fldg     fnetg\n",
       "pressure  level                                  \n",
       "0.0000    1     -3.501474e-02  0.000000 -0.035015\n",
       "1.0685    24    -3.486865e-02 -0.000178 -0.035047\n",
       "1013.0000 76     1.370000e-07  0.013286  0.013286"
      ]
     },
     "metadata": {},
     "output_type": "display_data"
    },
    {
     "name": "stdout",
     "output_type": "stream",
     "text": [
      "Table. Fluxes. (WGT igg=10 wgt_flux=1) - (CRD)\n"
     ]
    },
    {
     "data": {
      "text/html": [
       "<div>\n",
       "<style scoped>\n",
       "    .dataframe tbody tr th:only-of-type {\n",
       "        vertical-align: middle;\n",
       "    }\n",
       "\n",
       "    .dataframe tbody tr th {\n",
       "        vertical-align: top;\n",
       "    }\n",
       "\n",
       "    .dataframe thead th {\n",
       "        text-align: right;\n",
       "    }\n",
       "</style>\n",
       "<table border=\"1\" class=\"dataframe\">\n",
       "  <thead>\n",
       "    <tr style=\"text-align: right;\">\n",
       "      <th></th>\n",
       "      <th></th>\n",
       "      <th>flug</th>\n",
       "      <th>fldg</th>\n",
       "      <th>fnetg</th>\n",
       "    </tr>\n",
       "    <tr>\n",
       "      <th>pressure</th>\n",
       "      <th>level</th>\n",
       "      <th></th>\n",
       "      <th></th>\n",
       "      <th></th>\n",
       "    </tr>\n",
       "  </thead>\n",
       "  <tbody>\n",
       "    <tr>\n",
       "      <th>0.0000</th>\n",
       "      <th>1</th>\n",
       "      <td>-5.205600e-03</td>\n",
       "      <td>1.999387e-09</td>\n",
       "      <td>-0.005206</td>\n",
       "    </tr>\n",
       "    <tr>\n",
       "      <th>1.0685</th>\n",
       "      <th>24</th>\n",
       "      <td>-5.054500e-03</td>\n",
       "      <td>-4.291810e-04</td>\n",
       "      <td>-0.005484</td>\n",
       "    </tr>\n",
       "    <tr>\n",
       "      <th>1013.0000</th>\n",
       "      <th>76</th>\n",
       "      <td>1.000000e-06</td>\n",
       "      <td>3.657400e-02</td>\n",
       "      <td>0.036575</td>\n",
       "    </tr>\n",
       "  </tbody>\n",
       "</table>\n",
       "</div>"
      ],
      "text/plain": [
       "                         flug          fldg     fnetg\n",
       "pressure  level                                      \n",
       "0.0000    1     -5.205600e-03  1.999387e-09 -0.005206\n",
       "1.0685    24    -5.054500e-03 -4.291810e-04 -0.005484\n",
       "1013.0000 76     1.000000e-06  3.657400e-02  0.036575"
      ]
     },
     "metadata": {},
     "output_type": "display_data"
    },
    {
     "name": "stdout",
     "output_type": "stream",
     "text": [
      "Table. Fluxes. (CLIRAD) - (CRD)\n"
     ]
    },
    {
     "data": {
      "text/html": [
       "<a id=\"Best-fit_Parameters\"></a>"
      ],
      "text/plain": [
       "<IPython.core.display.HTML object>"
      ]
     },
     "metadata": {},
     "output_type": "display_data"
    },
    {
     "data": {
      "text/markdown": [
       "# Best-fit Parameters"
      ],
      "text/plain": [
       "<IPython.core.display.Markdown object>"
      ]
     },
     "metadata": {},
     "output_type": "display_data"
    },
    {
     "name": "stdout",
     "output_type": "stream",
     "text": [
      "Best-fit values for each (gas, band)\n",
      "------------------------------------\n",
      "o h2o band8\n",
      "  atmpro = mls\n",
      "  band = 8\n",
      "  commitnumber = a06b618\n",
      "  conc = None\n",
      "  dv = 0.001\n",
      "  klin = 0\n",
      "  molecule = h2o\n",
      "  ng_adju = [0, -1, 0]\n",
      "  ng_refs = [3, 2, 3]\n",
      "  nv = 1000\n",
      "  option_compute_btable = 0\n",
      "  option_compute_ktable = 1\n",
      "  option_wgt_flux = 1\n",
      "  option_wgt_k = 1\n",
      "  ref_pts = [(1, 250), (10, 250), (500, 250)]\n",
      "  tsfc = 294\n",
      "  vmax = 1900\n",
      "  vmin = 1380\n",
      "  w_diffuse = [(1.66, 1.66, 1.66), (1.66, 1.66), (1.66, 1.66, 1.66)]\n",
      "  wgt = [(0.55, 0.55, 0.85), (0.85, 0.85), (0, 0.3, 0.55)]\n"
     ]
    }
   ],
   "source": [
    "script()"
   ]
  },
  {
   "cell_type": "code",
   "execution_count": 13,
   "metadata": {
    "collapsed": true
   },
   "outputs": [
    {
     "data": {
      "text/html": [
       "<script>\n",
       "code_show=true; \n",
       "function code_toggle() {\n",
       " if (code_show){\n",
       " $('div.input').hide();\n",
       " } else {\n",
       " $('div.input').show();\n",
       " }\n",
       " code_show = !code_show\n",
       "} \n",
       "$( document ).ready(code_toggle);\n",
       "</script>\n",
       "<form action=\"javascript:code_toggle()\"><input type=\"submit\" value=\"Click here to toggle on/off the raw code.\"></form>"
      ],
      "text/plain": [
       "<IPython.core.display.HTML object>"
      ]
     },
     "execution_count": 13,
     "metadata": {},
     "output_type": "execute_result"
    }
   ],
   "source": [
    "display.HTML('''<script>\n",
    "code_show=true; \n",
    "function code_toggle() {\n",
    " if (code_show){\n",
    " $('div.input').hide();\n",
    " } else {\n",
    " $('div.input').show();\n",
    " }\n",
    " code_show = !code_show\n",
    "} \n",
    "$( document ).ready(code_toggle);\n",
    "</script>\n",
    "<form action=\"javascript:code_toggle()\"><input type=\"submit\" value=\"Click here to toggle on/off the raw code.\"></form>''')"
   ]
  }
 ],
 "metadata": {
  "kernelspec": {
   "display_name": "Python 3",
   "language": "python",
   "name": "python3"
  },
  "language_info": {
   "codemirror_mode": {
    "name": "ipython",
    "version": 3
   },
   "file_extension": ".py",
   "mimetype": "text/x-python",
   "name": "python",
   "nbconvert_exporter": "python",
   "pygments_lexer": "ipython3",
   "version": "3.6.1"
  }
 },
 "nbformat": 4,
 "nbformat_minor": 2
}
