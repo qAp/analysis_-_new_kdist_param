{
 "cells": [
  {
   "cell_type": "code",
   "execution_count": 1,
   "metadata": {
    "collapsed": true
   },
   "outputs": [],
   "source": [
    "%matplotlib inline\n",
    "import os\n",
    "import re\n",
    "import io\n",
    "import itertools\n",
    "import pprint\n",
    "\n",
    "from bokeh.io import output_notebook, show\n",
    "from bokeh.layouts import gridplot\n",
    "from bokeh.plotting import figure\n",
    "from bokeh.models import Range1d, Legend\n",
    "from bokeh.palettes import all_palettes\n",
    "\n",
    "import matplotlib\n",
    "import matplotlib.pyplot as plt\n",
    "import numpy as np\n",
    "import pandas as pd\n",
    "import xarray as xr\n",
    "\n",
    "import climatools.lblnew.bestfit_params as bestfits\n",
    "from climatools.lblnew import setup_bestfit, setup_overlap\n",
    "import climatools.lblnew.pipeline as pipe_lblnew\n",
    "import climatools.cliradlw.setup as setup_cliradlw\n",
    "import climatools.cliradlw.pipeline as pipe_cliradlw\n",
    "\n",
    "import climatools.html.html as climahtml\n",
    "from climatools.lblnew.dataio import *\n",
    "from climatools.plot.plot import *\n",
    "\n",
    "\n",
    "import IPython.display as display"
   ]
  },
  {
   "cell_type": "code",
   "execution_count": 2,
   "metadata": {
    "collapsed": true
   },
   "outputs": [],
   "source": [
    "%run param.py"
   ]
  },
  {
   "cell_type": "code",
   "execution_count": 3,
   "metadata": {
    "collapsed": true
   },
   "outputs": [],
   "source": [
    "def load_output_file(path_csv):\n",
    "    '''\n",
    "    Load lblnew output .csv file to xarray.Dataset\n",
    "    \n",
    "    Parameters\n",
    "    ----------\n",
    "    path_csv: str\n",
    "              Path to the .csv file to be loaded.\n",
    "    ds: xarray.Dataset\n",
    "        Data in the input file in the form of an xarray.Dataset.\n",
    "    '''\n",
    "    toindex = ['band', 'pressure', 'igg', 'g']    \n",
    "    df = pd.read_csv(path_csv, sep=r'\\s+')\n",
    "    df = df.set_index([i for i in toindex if i in df.columns])\n",
    "    df = df.rename(columns={'sfu': 'flug',\n",
    "                            'sfd': 'fldg',\n",
    "                            'fnet': 'fnetg',\n",
    "                            'coolr': 'coolrg'})\n",
    "    ds = xr.Dataset.from_dataframe(df)\n",
    "\n",
    "    for l in ('level', 'layer'):\n",
    "        if l in ds.data_vars:\n",
    "            if len(ds[l].dims) > 1:\n",
    "                surface = {d: 0 for d in ds.dims if d != 'pressure'}\n",
    "                coord_level = ds[l][surface]\n",
    "                ds.coords[l] = ('pressure', coord_level)\n",
    "            else:\n",
    "                ds.coords[l] = ('pressure', ds[l])\n",
    "    \n",
    "    return ds"
   ]
  },
  {
   "cell_type": "code",
   "execution_count": 4,
   "metadata": {
    "collapsed": true
   },
   "outputs": [],
   "source": [
    "def lblnew_setup(param=None):\n",
    "    if 'ng_refs' in param:\n",
    "        return {'setup': setup_bestfit,\n",
    "                'fname_flux_crd': 'output_flux.dat',\n",
    "                'fname_cool_crd': 'output_coolr.dat',\n",
    "                'fname_flux_wgt': 'output_wfluxg.dat',\n",
    "                'fname_cool_wgt': 'output_wcoolrg.dat'}\n",
    "    else:\n",
    "        return {'setup': setup_overlap,\n",
    "                'fname_flux_crd': 'output_flux.dat',\n",
    "                'fname_cool_crd': 'output_coolr.dat',\n",
    "                'fname_flux_wgt': 'output_wflux.dat',\n",
    "                'fname_cool_wgt': 'output_wcoolr.dat'}\n",
    "\n",
    "    \n",
    "def load_lblnew_data(param):\n",
    "    \n",
    "    fname_dsname = [('fname_flux_crd', 'ds_flux_crd'),\n",
    "                    ('fname_cool_crd', 'ds_cool_crd'),\n",
    "                    ('fname_flux_wgt', 'ds_flux_wgt'),\n",
    "                    ('fname_cool_wgt', 'ds_cool_wgt')]\n",
    "    \n",
    "    d = lblnew_setup(param)\n",
    "    dir_fortran = pipe_lblnew.get_dir_case(param, setup=d['setup'])\n",
    "    \n",
    "    data_dict = {}\n",
    "    for fname, dsname in fname_dsname:\n",
    "        fpath = os.path.join(dir_fortran, d[fname])\n",
    "        data_dict[dsname] = load_output_file(fpath)\n",
    "    return data_dict\n",
    "    \n",
    "\n",
    "    \n",
    "    "
   ]
  },
  {
   "cell_type": "code",
   "execution_count": 5,
   "metadata": {
    "collapsed": true
   },
   "outputs": [],
   "source": [
    "d = load_lblnew_data(PARAM_LBLNEW)\n",
    "\n",
    "DS_FLUX_CRD = d['ds_flux_crd']\n",
    "DS_COOL_CRD = d['ds_cool_crd']\n",
    "DS_FLUX_WGT = d['ds_flux_wgt']\n",
    "DS_COOL_WGT = d['ds_cool_wgt']"
   ]
  },
  {
   "cell_type": "code",
   "execution_count": 6,
   "metadata": {
    "collapsed": true
   },
   "outputs": [],
   "source": [
    "DIR_FORTRAN = pipe_cliradlw.get_fortran_dir(PARAM, \n",
    "                                            setup=setup_cliradlw)\n",
    "\n",
    "PATH_FLUX = os.path.join(DIR_FORTRAN, 'output_flux.dat')\n",
    "PATH_COOL = os.path.join(DIR_FORTRAN, 'output_coolr.dat')\n",
    "\n",
    "DS_FLUX = load_output_file(PATH_FLUX)\n",
    "DS_COOL = load_output_file(PATH_COOL)"
   ]
  },
  {
   "cell_type": "code",
   "execution_count": 7,
   "metadata": {
    "collapsed": true
   },
   "outputs": [
    {
     "data": {
      "text/html": [
       "\n",
       "    <div class=\"bk-root\">\n",
       "        <a href=\"https://bokeh.pydata.org\" target=\"_blank\" class=\"bk-logo bk-logo-small bk-logo-notebook\"></a>\n",
       "        <span id=\"72569b7d-37fd-4866-9d90-bc29d2cbdb50\">Loading BokehJS ...</span>\n",
       "    </div>"
      ]
     },
     "metadata": {},
     "output_type": "display_data"
    },
    {
     "data": {
      "application/javascript": [
       "\n",
       "(function(root) {\n",
       "  function now() {\n",
       "    return new Date();\n",
       "  }\n",
       "\n",
       "  var force = true;\n",
       "\n",
       "  if (typeof (root._bokeh_onload_callbacks) === \"undefined\" || force === true) {\n",
       "    root._bokeh_onload_callbacks = [];\n",
       "    root._bokeh_is_loading = undefined;\n",
       "  }\n",
       "\n",
       "  var JS_MIME_TYPE = 'application/javascript';\n",
       "  var HTML_MIME_TYPE = 'text/html';\n",
       "  var EXEC_MIME_TYPE = 'application/vnd.bokehjs_exec.v0+json';\n",
       "  var CLASS_NAME = 'output_bokeh rendered_html';\n",
       "\n",
       "  /**\n",
       "   * Render data to the DOM node\n",
       "   */\n",
       "  function render(props, node) {\n",
       "    var script = document.createElement(\"script\");\n",
       "    node.appendChild(script);\n",
       "  }\n",
       "\n",
       "  /**\n",
       "   * Handle when an output is cleared or removed\n",
       "   */\n",
       "  function handleClearOutput(event, handle) {\n",
       "    var cell = handle.cell;\n",
       "\n",
       "    var id = cell.output_area._bokeh_element_id;\n",
       "    var server_id = cell.output_area._bokeh_server_id;\n",
       "    // Clean up Bokeh references\n",
       "    if (id !== undefined) {\n",
       "      Bokeh.index[id].model.document.clear();\n",
       "      delete Bokeh.index[id];\n",
       "    }\n",
       "\n",
       "    if (server_id !== undefined) {\n",
       "      // Clean up Bokeh references\n",
       "      var cmd = \"from bokeh.io.state import curstate; print(curstate().uuid_to_server['\" + server_id + \"'].get_sessions()[0].document.roots[0]._id)\";\n",
       "      cell.notebook.kernel.execute(cmd, {\n",
       "        iopub: {\n",
       "          output: function(msg) {\n",
       "            var element_id = msg.content.text.trim();\n",
       "            Bokeh.index[element_id].model.document.clear();\n",
       "            delete Bokeh.index[element_id];\n",
       "          }\n",
       "        }\n",
       "      });\n",
       "      // Destroy server and session\n",
       "      var cmd = \"import bokeh.io.notebook as ion; ion.destroy_server('\" + server_id + \"')\";\n",
       "      cell.notebook.kernel.execute(cmd);\n",
       "    }\n",
       "  }\n",
       "\n",
       "  /**\n",
       "   * Handle when a new output is added\n",
       "   */\n",
       "  function handleAddOutput(event, handle) {\n",
       "    var output_area = handle.output_area;\n",
       "    var output = handle.output;\n",
       "\n",
       "    // limit handleAddOutput to display_data with EXEC_MIME_TYPE content only\n",
       "    if ((output.output_type != \"display_data\") || (!output.data.hasOwnProperty(EXEC_MIME_TYPE))) {\n",
       "      return\n",
       "    }\n",
       "\n",
       "    var toinsert = output_area.element.find(\".\" + CLASS_NAME.split(' ')[0]);\n",
       "\n",
       "    if (output.metadata[EXEC_MIME_TYPE][\"id\"] !== undefined) {\n",
       "      toinsert[toinsert.length - 1].firstChild.textContent = output.data[JS_MIME_TYPE];\n",
       "      // store reference to embed id on output_area\n",
       "      output_area._bokeh_element_id = output.metadata[EXEC_MIME_TYPE][\"id\"];\n",
       "    }\n",
       "    if (output.metadata[EXEC_MIME_TYPE][\"server_id\"] !== undefined) {\n",
       "      var bk_div = document.createElement(\"div\");\n",
       "      bk_div.innerHTML = output.data[HTML_MIME_TYPE];\n",
       "      var script_attrs = bk_div.children[0].attributes;\n",
       "      for (var i = 0; i < script_attrs.length; i++) {\n",
       "        toinsert[toinsert.length - 1].firstChild.setAttribute(script_attrs[i].name, script_attrs[i].value);\n",
       "      }\n",
       "      // store reference to server id on output_area\n",
       "      output_area._bokeh_server_id = output.metadata[EXEC_MIME_TYPE][\"server_id\"];\n",
       "    }\n",
       "  }\n",
       "\n",
       "  function register_renderer(events, OutputArea) {\n",
       "\n",
       "    function append_mime(data, metadata, element) {\n",
       "      // create a DOM node to render to\n",
       "      var toinsert = this.create_output_subarea(\n",
       "        metadata,\n",
       "        CLASS_NAME,\n",
       "        EXEC_MIME_TYPE\n",
       "      );\n",
       "      this.keyboard_manager.register_events(toinsert);\n",
       "      // Render to node\n",
       "      var props = {data: data, metadata: metadata[EXEC_MIME_TYPE]};\n",
       "      render(props, toinsert[toinsert.length - 1]);\n",
       "      element.append(toinsert);\n",
       "      return toinsert\n",
       "    }\n",
       "\n",
       "    /* Handle when an output is cleared or removed */\n",
       "    events.on('clear_output.CodeCell', handleClearOutput);\n",
       "    events.on('delete.Cell', handleClearOutput);\n",
       "\n",
       "    /* Handle when a new output is added */\n",
       "    events.on('output_added.OutputArea', handleAddOutput);\n",
       "\n",
       "    /**\n",
       "     * Register the mime type and append_mime function with output_area\n",
       "     */\n",
       "    OutputArea.prototype.register_mime_type(EXEC_MIME_TYPE, append_mime, {\n",
       "      /* Is output safe? */\n",
       "      safe: true,\n",
       "      /* Index of renderer in `output_area.display_order` */\n",
       "      index: 0\n",
       "    });\n",
       "  }\n",
       "\n",
       "  // register the mime type if in Jupyter Notebook environment and previously unregistered\n",
       "  if (root.Jupyter !== undefined) {\n",
       "    var events = require('base/js/events');\n",
       "    var OutputArea = require('notebook/js/outputarea').OutputArea;\n",
       "\n",
       "    if (OutputArea.prototype.mime_types().indexOf(EXEC_MIME_TYPE) == -1) {\n",
       "      register_renderer(events, OutputArea);\n",
       "    }\n",
       "  }\n",
       "\n",
       "  \n",
       "  if (typeof (root._bokeh_timeout) === \"undefined\" || force === true) {\n",
       "    root._bokeh_timeout = Date.now() + 5000;\n",
       "    root._bokeh_failed_load = false;\n",
       "  }\n",
       "\n",
       "  var NB_LOAD_WARNING = {'data': {'text/html':\n",
       "     \"<div style='background-color: #fdd'>\\n\"+\n",
       "     \"<p>\\n\"+\n",
       "     \"BokehJS does not appear to have successfully loaded. If loading BokehJS from CDN, this \\n\"+\n",
       "     \"may be due to a slow or bad network connection. Possible fixes:\\n\"+\n",
       "     \"</p>\\n\"+\n",
       "     \"<ul>\\n\"+\n",
       "     \"<li>re-rerun `output_notebook()` to attempt to load from CDN again, or</li>\\n\"+\n",
       "     \"<li>use INLINE resources instead, as so:</li>\\n\"+\n",
       "     \"</ul>\\n\"+\n",
       "     \"<code>\\n\"+\n",
       "     \"from bokeh.resources import INLINE\\n\"+\n",
       "     \"output_notebook(resources=INLINE)\\n\"+\n",
       "     \"</code>\\n\"+\n",
       "     \"</div>\"}};\n",
       "\n",
       "  function display_loaded() {\n",
       "    var el = document.getElementById(\"72569b7d-37fd-4866-9d90-bc29d2cbdb50\");\n",
       "    if (el != null) {\n",
       "      el.textContent = \"BokehJS is loading...\";\n",
       "    }\n",
       "    if (root.Bokeh !== undefined) {\n",
       "      if (el != null) {\n",
       "        el.textContent = \"BokehJS \" + root.Bokeh.version + \" successfully loaded.\";\n",
       "      }\n",
       "    } else if (Date.now() < root._bokeh_timeout) {\n",
       "      setTimeout(display_loaded, 100)\n",
       "    }\n",
       "  }\n",
       "\n",
       "\n",
       "  function run_callbacks() {\n",
       "    try {\n",
       "      root._bokeh_onload_callbacks.forEach(function(callback) { callback() });\n",
       "    }\n",
       "    finally {\n",
       "      delete root._bokeh_onload_callbacks\n",
       "    }\n",
       "    console.info(\"Bokeh: all callbacks have finished\");\n",
       "  }\n",
       "\n",
       "  function load_libs(js_urls, callback) {\n",
       "    root._bokeh_onload_callbacks.push(callback);\n",
       "    if (root._bokeh_is_loading > 0) {\n",
       "      console.log(\"Bokeh: BokehJS is being loaded, scheduling callback at\", now());\n",
       "      return null;\n",
       "    }\n",
       "    if (js_urls == null || js_urls.length === 0) {\n",
       "      run_callbacks();\n",
       "      return null;\n",
       "    }\n",
       "    console.log(\"Bokeh: BokehJS not loaded, scheduling load and callback at\", now());\n",
       "    root._bokeh_is_loading = js_urls.length;\n",
       "    for (var i = 0; i < js_urls.length; i++) {\n",
       "      var url = js_urls[i];\n",
       "      var s = document.createElement('script');\n",
       "      s.src = url;\n",
       "      s.async = false;\n",
       "      s.onreadystatechange = s.onload = function() {\n",
       "        root._bokeh_is_loading--;\n",
       "        if (root._bokeh_is_loading === 0) {\n",
       "          console.log(\"Bokeh: all BokehJS libraries loaded\");\n",
       "          run_callbacks()\n",
       "        }\n",
       "      };\n",
       "      s.onerror = function() {\n",
       "        console.warn(\"failed to load library \" + url);\n",
       "      };\n",
       "      console.log(\"Bokeh: injecting script tag for BokehJS library: \", url);\n",
       "      document.getElementsByTagName(\"head\")[0].appendChild(s);\n",
       "    }\n",
       "  };var element = document.getElementById(\"72569b7d-37fd-4866-9d90-bc29d2cbdb50\");\n",
       "  if (element == null) {\n",
       "    console.log(\"Bokeh: ERROR: autoload.js configured with elementid '72569b7d-37fd-4866-9d90-bc29d2cbdb50' but no matching script tag was found. \")\n",
       "    return false;\n",
       "  }\n",
       "\n",
       "  var js_urls = [\"https://cdn.pydata.org/bokeh/release/bokeh-0.12.16.min.js\", \"https://cdn.pydata.org/bokeh/release/bokeh-widgets-0.12.16.min.js\", \"https://cdn.pydata.org/bokeh/release/bokeh-tables-0.12.16.min.js\", \"https://cdn.pydata.org/bokeh/release/bokeh-gl-0.12.16.min.js\"];\n",
       "\n",
       "  var inline_js = [\n",
       "    function(Bokeh) {\n",
       "      Bokeh.set_log_level(\"info\");\n",
       "    },\n",
       "    \n",
       "    function(Bokeh) {\n",
       "      \n",
       "    },\n",
       "    function(Bokeh) {\n",
       "      console.log(\"Bokeh: injecting CSS: https://cdn.pydata.org/bokeh/release/bokeh-0.12.16.min.css\");\n",
       "      Bokeh.embed.inject_css(\"https://cdn.pydata.org/bokeh/release/bokeh-0.12.16.min.css\");\n",
       "      console.log(\"Bokeh: injecting CSS: https://cdn.pydata.org/bokeh/release/bokeh-widgets-0.12.16.min.css\");\n",
       "      Bokeh.embed.inject_css(\"https://cdn.pydata.org/bokeh/release/bokeh-widgets-0.12.16.min.css\");\n",
       "      console.log(\"Bokeh: injecting CSS: https://cdn.pydata.org/bokeh/release/bokeh-tables-0.12.16.min.css\");\n",
       "      Bokeh.embed.inject_css(\"https://cdn.pydata.org/bokeh/release/bokeh-tables-0.12.16.min.css\");\n",
       "    }\n",
       "  ];\n",
       "\n",
       "  function run_inline_js() {\n",
       "    \n",
       "    if ((root.Bokeh !== undefined) || (force === true)) {\n",
       "      for (var i = 0; i < inline_js.length; i++) {\n",
       "        inline_js[i].call(root, root.Bokeh);\n",
       "      }if (force === true) {\n",
       "        display_loaded();\n",
       "      }} else if (Date.now() < root._bokeh_timeout) {\n",
       "      setTimeout(run_inline_js, 100);\n",
       "    } else if (!root._bokeh_failed_load) {\n",
       "      console.log(\"Bokeh: BokehJS failed to load within specified timeout.\");\n",
       "      root._bokeh_failed_load = true;\n",
       "    } else if (force !== true) {\n",
       "      var cell = $(document.getElementById(\"72569b7d-37fd-4866-9d90-bc29d2cbdb50\")).parents('.cell').data().cell;\n",
       "      cell.output_area.append_execute_result(NB_LOAD_WARNING)\n",
       "    }\n",
       "\n",
       "  }\n",
       "\n",
       "  if (root._bokeh_is_loading === 0) {\n",
       "    console.log(\"Bokeh: BokehJS loaded, going straight to plotting\");\n",
       "    run_inline_js();\n",
       "  } else {\n",
       "    load_libs(js_urls, function() {\n",
       "      console.log(\"Bokeh: BokehJS plotting callback run at\", now());\n",
       "      run_inline_js();\n",
       "    });\n",
       "  }\n",
       "}(window));"
      ],
      "application/vnd.bokehjs_load.v0+json": "\n(function(root) {\n  function now() {\n    return new Date();\n  }\n\n  var force = true;\n\n  if (typeof (root._bokeh_onload_callbacks) === \"undefined\" || force === true) {\n    root._bokeh_onload_callbacks = [];\n    root._bokeh_is_loading = undefined;\n  }\n\n  \n\n  \n  if (typeof (root._bokeh_timeout) === \"undefined\" || force === true) {\n    root._bokeh_timeout = Date.now() + 5000;\n    root._bokeh_failed_load = false;\n  }\n\n  var NB_LOAD_WARNING = {'data': {'text/html':\n     \"<div style='background-color: #fdd'>\\n\"+\n     \"<p>\\n\"+\n     \"BokehJS does not appear to have successfully loaded. If loading BokehJS from CDN, this \\n\"+\n     \"may be due to a slow or bad network connection. Possible fixes:\\n\"+\n     \"</p>\\n\"+\n     \"<ul>\\n\"+\n     \"<li>re-rerun `output_notebook()` to attempt to load from CDN again, or</li>\\n\"+\n     \"<li>use INLINE resources instead, as so:</li>\\n\"+\n     \"</ul>\\n\"+\n     \"<code>\\n\"+\n     \"from bokeh.resources import INLINE\\n\"+\n     \"output_notebook(resources=INLINE)\\n\"+\n     \"</code>\\n\"+\n     \"</div>\"}};\n\n  function display_loaded() {\n    var el = document.getElementById(\"72569b7d-37fd-4866-9d90-bc29d2cbdb50\");\n    if (el != null) {\n      el.textContent = \"BokehJS is loading...\";\n    }\n    if (root.Bokeh !== undefined) {\n      if (el != null) {\n        el.textContent = \"BokehJS \" + root.Bokeh.version + \" successfully loaded.\";\n      }\n    } else if (Date.now() < root._bokeh_timeout) {\n      setTimeout(display_loaded, 100)\n    }\n  }\n\n\n  function run_callbacks() {\n    try {\n      root._bokeh_onload_callbacks.forEach(function(callback) { callback() });\n    }\n    finally {\n      delete root._bokeh_onload_callbacks\n    }\n    console.info(\"Bokeh: all callbacks have finished\");\n  }\n\n  function load_libs(js_urls, callback) {\n    root._bokeh_onload_callbacks.push(callback);\n    if (root._bokeh_is_loading > 0) {\n      console.log(\"Bokeh: BokehJS is being loaded, scheduling callback at\", now());\n      return null;\n    }\n    if (js_urls == null || js_urls.length === 0) {\n      run_callbacks();\n      return null;\n    }\n    console.log(\"Bokeh: BokehJS not loaded, scheduling load and callback at\", now());\n    root._bokeh_is_loading = js_urls.length;\n    for (var i = 0; i < js_urls.length; i++) {\n      var url = js_urls[i];\n      var s = document.createElement('script');\n      s.src = url;\n      s.async = false;\n      s.onreadystatechange = s.onload = function() {\n        root._bokeh_is_loading--;\n        if (root._bokeh_is_loading === 0) {\n          console.log(\"Bokeh: all BokehJS libraries loaded\");\n          run_callbacks()\n        }\n      };\n      s.onerror = function() {\n        console.warn(\"failed to load library \" + url);\n      };\n      console.log(\"Bokeh: injecting script tag for BokehJS library: \", url);\n      document.getElementsByTagName(\"head\")[0].appendChild(s);\n    }\n  };var element = document.getElementById(\"72569b7d-37fd-4866-9d90-bc29d2cbdb50\");\n  if (element == null) {\n    console.log(\"Bokeh: ERROR: autoload.js configured with elementid '72569b7d-37fd-4866-9d90-bc29d2cbdb50' but no matching script tag was found. \")\n    return false;\n  }\n\n  var js_urls = [\"https://cdn.pydata.org/bokeh/release/bokeh-0.12.16.min.js\", \"https://cdn.pydata.org/bokeh/release/bokeh-widgets-0.12.16.min.js\", \"https://cdn.pydata.org/bokeh/release/bokeh-tables-0.12.16.min.js\", \"https://cdn.pydata.org/bokeh/release/bokeh-gl-0.12.16.min.js\"];\n\n  var inline_js = [\n    function(Bokeh) {\n      Bokeh.set_log_level(\"info\");\n    },\n    \n    function(Bokeh) {\n      \n    },\n    function(Bokeh) {\n      console.log(\"Bokeh: injecting CSS: https://cdn.pydata.org/bokeh/release/bokeh-0.12.16.min.css\");\n      Bokeh.embed.inject_css(\"https://cdn.pydata.org/bokeh/release/bokeh-0.12.16.min.css\");\n      console.log(\"Bokeh: injecting CSS: https://cdn.pydata.org/bokeh/release/bokeh-widgets-0.12.16.min.css\");\n      Bokeh.embed.inject_css(\"https://cdn.pydata.org/bokeh/release/bokeh-widgets-0.12.16.min.css\");\n      console.log(\"Bokeh: injecting CSS: https://cdn.pydata.org/bokeh/release/bokeh-tables-0.12.16.min.css\");\n      Bokeh.embed.inject_css(\"https://cdn.pydata.org/bokeh/release/bokeh-tables-0.12.16.min.css\");\n    }\n  ];\n\n  function run_inline_js() {\n    \n    if ((root.Bokeh !== undefined) || (force === true)) {\n      for (var i = 0; i < inline_js.length; i++) {\n        inline_js[i].call(root, root.Bokeh);\n      }if (force === true) {\n        display_loaded();\n      }} else if (Date.now() < root._bokeh_timeout) {\n      setTimeout(run_inline_js, 100);\n    } else if (!root._bokeh_failed_load) {\n      console.log(\"Bokeh: BokehJS failed to load within specified timeout.\");\n      root._bokeh_failed_load = true;\n    } else if (force !== true) {\n      var cell = $(document.getElementById(\"72569b7d-37fd-4866-9d90-bc29d2cbdb50\")).parents('.cell').data().cell;\n      cell.output_area.append_execute_result(NB_LOAD_WARNING)\n    }\n\n  }\n\n  if (root._bokeh_is_loading === 0) {\n    console.log(\"Bokeh: BokehJS loaded, going straight to plotting\");\n    run_inline_js();\n  } else {\n    load_libs(js_urls, function() {\n      console.log(\"Bokeh: BokehJS plotting callback run at\", now());\n      run_inline_js();\n    });\n  }\n}(window));"
     },
     "metadata": {},
     "output_type": "display_data"
    }
   ],
   "source": [
    "output_notebook()"
   ]
  },
  {
   "cell_type": "code",
   "execution_count": 8,
   "metadata": {
    "collapsed": true
   },
   "outputs": [],
   "source": [
    "def fmt_cool(ds_in):\n",
    "    ds = ds_in.copy(deep=True)\n",
    "    if 'igg' in ds.dims:\n",
    "        ds = ds.sel(igg=1)\n",
    "\n",
    "    if 'g' in ds.dims:\n",
    "        ds = ds.sum('g')\n",
    "            \n",
    "    if 'band' in ds.dims:\n",
    "        try:\n",
    "            ds = ds.squeeze('band')\n",
    "        except ValueError:\n",
    "            ds = ds.sum('band')\n",
    "                \n",
    "    return ds['coolrg']\n",
    "\n",
    "\n",
    "def pltdata_cooling_1(ds_cool=None,\n",
    "                      ds_cool_crd=None, ds_cool_wgt=None):\n",
    "    \n",
    "\n",
    "\n",
    "    colors = all_palettes['Set1'][4]\n",
    "    data = [{'label': 'CLIRAD `coolr_bands`',\n",
    "             'srs': fmt_cool(ds_cool),\n",
    "             'line_dash': 'dashed', 'line_width': 5,\n",
    "             'color': colors[0], 'alpha': .6},\n",
    "            {'label': 'CRD',\n",
    "             'srs': fmt_cool(ds_cool_crd),\n",
    "             'line_dash': 'solid', 'line_width': 1.5,\n",
    "             'marker': 'circle', 'marker_size': 5,\n",
    "             'color': colors[2], 'alpha': 1,},\n",
    "            {'label': 'WGT igg=10 wgt_flux=2',\n",
    "             'srs': fmt_cool(ds_cool_wgt),\n",
    "             'line_dash': 'solid', 'line_width': 3,\n",
    "             'marker': 'square', 'marker_size': 5,\n",
    "             'color': colors[3], 'alpha': .6}]\n",
    "    return data\n",
    "\n",
    "\n",
    "def nice_xlims(pltdata=None, prange=None):\n",
    "    \n",
    "    def get_slice(srs):\n",
    "        return srs.sel(pressure=slice(*prange))\n",
    "    \n",
    "    srss = [d['srs'] for d in pltdata]\n",
    "    vmin = min([get_slice(srs).min() for srs in srss])\n",
    "    vmax = max([get_slice(srs).max() for srs in srss])\n",
    "    dv = (vmax - vmin) * .01\n",
    "    return float(vmin - dv), float(vmax + dv)\n",
    "    \n",
    "\n",
    "def plt_cooling_bokeh(pltdata=None):\n",
    "    '''\n",
    "    Plot a list of cooling rate profiles using bokeh.\n",
    "    '''\n",
    "    ymin = 1e-2 \n",
    "    ymax = 1020 \n",
    "        \n",
    "    p1 = figure(title=\"Linear pressure scale\", \n",
    "                plot_width=400)        \n",
    "    xmin, xmax = nice_xlims(pltdata, prange=(50, 1050))\n",
    "    for d in pltdata:\n",
    "        if 'marker' in d:\n",
    "            getattr(p1, d['marker'])(d['srs'].values, \n",
    "                    d['srs'].coords['pressure'].values,\n",
    "                    color=d['color'], alpha=.7)\n",
    "        p1.line(d['srs'].values, \n",
    "                d['srs'].coords['pressure'].values,\n",
    "                color=d['color'], alpha=d['alpha'], \n",
    "                line_width=d['line_width'], line_dash=d['line_dash'])\n",
    "    \n",
    "    p1.y_range = Range1d(ymax, ymin)\n",
    "    p1.yaxis.axis_label = 'pressure [mb]'   \n",
    "    p1.x_range = Range1d(xmin, xmax)\n",
    "    p1.xaxis.axis_label = 'cooling rate [K/day]'\n",
    "            \n",
    "    p2 = figure(title='Log pressure scale', y_axis_type='log',\n",
    "                plot_width=560)\n",
    "    xmin, xmax = nice_xlims(pltdata, prange=(.01, 200))\n",
    "    \n",
    "    rs = []\n",
    "    for d in pltdata:\n",
    "        rd = []\n",
    "        if 'marker' in d:\n",
    "            r_mark = getattr(p2, d['marker'])(d['srs'].values, \n",
    "                        d['srs'].coords['pressure'].values,\n",
    "                        color=d['color'], alpha=.7)\n",
    "            rd.append(r_mark)\n",
    "        r_line = p2.line(d['srs'].values, \n",
    "                    d['srs'].coords['pressure'].values,\n",
    "                    color=d['color'], alpha=d['alpha'], \n",
    "                    line_width=d['line_width'], line_dash=d['line_dash'])\n",
    "        rd.append(r_line)\n",
    "      \n",
    "        rs.append(rd)\n",
    "        \n",
    "    p2.y_range = Range1d(ymax, ymin)  \n",
    "    p2.yaxis.axis_label = 'pressure [mb]'\n",
    "    \n",
    "    p2.x_range = Range1d(xmin, xmax)\n",
    "    p2.xaxis.axis_label = 'cooling rate [K/day]'\n",
    "    \n",
    "    items = [(d['label'], r) for r, d in zip(rs, pltdata)]\n",
    "    legend = Legend(items=items, location=(10, -30))\n",
    "    legend.label_text_font_size = '8pt'\n",
    "    \n",
    "    p2.add_layout(legend, 'right')  \n",
    "    \n",
    "    show(gridplot(p1, p2, ncols=2, plot_height=500))\n",
    "    \n",
    "\n",
    "def script_plt_cooling():\n",
    "    pltdata = pltdata_cooling_1(\n",
    "        ds_cool=DS_COOL,\n",
    "        ds_cool_crd=DS_COOL_CRD,\n",
    "        ds_cool_wgt=DS_COOL_WGT)\n",
    "    plt_cooling_bokeh(pltdata=pltdata)\n",
    "    print('''FIGURE. Cooling rate profiles.''')"
   ]
  },
  {
   "cell_type": "code",
   "execution_count": 9,
   "metadata": {
    "collapsed": true
   },
   "outputs": [],
   "source": [
    "def fmt_flux(ds_in):\n",
    "    ds = ds_in.copy(deep=True)\n",
    "    \n",
    "    for l in ('level', 'layer'):\n",
    "        if l in ds.data_vars:\n",
    "            if len(ds[l].dims) > 1:\n",
    "                surface = {d: 0 for d in ds.dims if d != 'pressure'}\n",
    "                coord_level = ds[l][surface]\n",
    "                ds.coords[l] = ('pressure', coord_level)\n",
    "            else:\n",
    "                ds.coords[l] = ('pressure', ds[l])\n",
    "        \n",
    "    ds = ds.isel(pressure=[0, 23, -1])\n",
    "        \n",
    "    if 'igg' in ds.dims:\n",
    "        ds = ds.sel(igg=[1])\n",
    "        ds = ds.squeeze('igg').drop('igg')\n",
    "    \n",
    "    if 'g' in ds.dims:\n",
    "        ds = ds.sum('g')\n",
    "            \n",
    "    if 'band' in ds.dims:\n",
    "        try:\n",
    "            ds = ds.squeeze('band').drop('band')\n",
    "        except ValueError:\n",
    "            ds = ds.sum('band')\n",
    "                \n",
    "    df = ds.to_dataframe()\n",
    "    df = df.set_index('level', append=True)               \n",
    "    return df\n",
    "\n",
    "\n",
    "def tbdata_flux(ds_flux=None, ds_flux_crd=None, ds_flux_wgt=None):\n",
    "    ilevels = [0, 23, -1]\n",
    "            \n",
    "    benchmark = {'label': 'CRD',\n",
    "                 'df': fmt_flux(ds_flux_crd)}\n",
    "    \n",
    "    tbs = [{'label': 'WGT igg=10 wgt_flux=1',\n",
    "            'df': fmt_flux(ds_flux_wgt)},\n",
    "           {'label': 'CLIRAD',\n",
    "            'df': fmt_flux(ds_flux)}]\n",
    "    \n",
    "    data = {'benchmark': benchmark, 'others': tbs}\n",
    "    return data\n",
    "\n",
    "\n",
    "def tb_flux(tbdata=None):\n",
    "    benchmark = tbdata['benchmark']\n",
    "    others = tbdata['others']\n",
    "    \n",
    "    def show_tb(d=None):\n",
    "        display.display(d['df'])\n",
    "        print('Table.', 'Fluxes.', d['label'])\n",
    "        \n",
    "    def show_tbdiff(d0=None, d=None):\n",
    "        df = d['df']\n",
    "        df.index = d0['df'].index\n",
    "        display.display(df - d0['df'])\n",
    "        print('Table.', 'Fluxes.', \n",
    "              '({}) - ({})'.format(d['label'], d0['label']))\n",
    "        \n",
    "    show_tb(benchmark)\n",
    "    for d in others:\n",
    "        show_tb(d)\n",
    "        \n",
    "    for d in others:\n",
    "        show_tbdiff(d=d, d0=benchmark)\n",
    "        \n",
    "        \n",
    "def script_tb_flux():\n",
    "    data = tbdata_flux(ds_flux=DS_FLUX,\n",
    "                       ds_flux_crd=DS_FLUX_CRD,\n",
    "                       ds_flux_wgt=DS_FLUX_WGT)\n",
    "    tb_flux(tbdata=data)"
   ]
  },
  {
   "cell_type": "code",
   "execution_count": 10,
   "metadata": {
    "collapsed": true
   },
   "outputs": [],
   "source": [
    "def band_map():\n",
    "    '''\n",
    "    Maps spectral bands in lblnew to spectral bands in clirad.\n",
    "    '''\n",
    "    lblnew2clirad = {'1': '1',\n",
    "            '2': '2',\n",
    "            '3a': '3',\n",
    "            '3b': '4',\n",
    "            '3c': '5',\n",
    "            '4': '6', \n",
    "            '5': '7',\n",
    "            '6': '8',\n",
    "            '7': '9', \n",
    "            '8': '10',\n",
    "            '9': '11'}\n",
    "    \n",
    "    clirad2lblnew = {clirad: lblnew \n",
    "                     for lblnew, clirad in lblnew2clirad.items()}\n",
    "    return clirad2lblnew\n",
    "\n",
    "\n",
    "def gasbands():\n",
    "    bmap = band_map()\n",
    "    gases = list(PARAM['molecule'].keys())\n",
    "    \n",
    "    bands = [bmap[str(b)] for b in PARAM['band']]\n",
    "    return list(itertools.product(gases, bands))\n",
    "\n",
    "\n",
    "def print_bestfit_params():\n",
    "    print('Best-fit values for each (gas, band)')\n",
    "    print('------------------------------------')\n",
    "    for gas, band in gasbands():\n",
    "        print('o {} band{}'.format(gas, band))\n",
    "        param = bestfits.kdist_params(molecule=gas, band=band)\n",
    "        for name, value in sorted(param.items()):\n",
    "            print(2 * ' ' + '{} = {}'.format(name, value))\n",
    "\n",
    "        \n",
    "def print_input_param():        \n",
    "    for name, value in PARAM.items():\n",
    "        print('{} = {}'.format(name, value))\n",
    "        \n",
    "        \n",
    "def print_lblnew_param():\n",
    "    for name, value in sorted(PARAM_LBLNEW.items()):\n",
    "        print('{} = {}'.format(name, value))\n"
   ]
  },
  {
   "cell_type": "code",
   "execution_count": 11,
   "metadata": {
    "collapsed": true,
    "scrolled": false
   },
   "outputs": [],
   "source": [
    "def show_html(s):\n",
    "    display.display(display.HTML(s))\n",
    "\n",
    "    \n",
    "def show_markdown(s):\n",
    "    display.display(display.Markdown(s))\n",
    "\n",
    "    \n",
    "def script():\n",
    "    \n",
    "    title = '### CLIRAD-LW'\n",
    "    s_input = 'Input Parameters'\n",
    "    s_lblnew_param = 'LBLNEW case compaired against'\n",
    "    s_bestfits = 'Best-fit Parameters'\n",
    "    s_plt_cooling = 'Cooling Rate Profiles'\n",
    "    s_tb_flux = 'Flux Comparison'\n",
    "    \n",
    "    # title\n",
    "    show_markdown('### CLIRAD-LW')\n",
    "    \n",
    "    # TOC\n",
    "    show_markdown('### Table of Contents')\n",
    "    show_html(climahtml.getHTML_hrefanchor(s_input))\n",
    "    show_html(climahtml.getHTML_hrefanchor(s_lblnew_param))\n",
    "    show_html(climahtml.getHTML_hrefanchor(s_plt_cooling))\n",
    "    show_html(climahtml.getHTML_hrefanchor(s_tb_flux))\n",
    "    show_html(climahtml.getHTML_hrefanchor(s_bestfits))\n",
    "    \n",
    "    # Input parameters\n",
    "    show_html(climahtml.getHTML_idanchor(s_input))\n",
    "    show_markdown(climahtml.getMarkdown_sectitle(s_input))\n",
    "    print_input_param()\n",
    "    \n",
    "    # LBLNEW parameters \n",
    "    show_html(climahtml.getHTML_idanchor(s_lblnew_param))\n",
    "    show_markdown(climahtml.getMarkdown_sectitle(s_lblnew_param))\n",
    "    print_lblnew_param()\n",
    "    \n",
    "    # Cooling rate profiles\n",
    "    show_html(climahtml.getHTML_idanchor(s_plt_cooling))\n",
    "    show_markdown(climahtml.getMarkdown_sectitle(s_plt_cooling))\n",
    "    script_plt_cooling()\n",
    "    \n",
    "    # Flux comparison\n",
    "    show_html(climahtml.getHTML_idanchor(s_tb_flux))\n",
    "    show_markdown(climahtml.getMarkdown_sectitle(s_tb_flux))\n",
    "    script_tb_flux()\n",
    "    \n",
    "    # Best-fit values\n",
    "    show_html(climahtml.getHTML_idanchor(s_bestfits))\n",
    "    show_markdown(climahtml.getMarkdown_sectitle(s_bestfits))\n",
    "    print_bestfit_params()\n",
    "   \n",
    "    "
   ]
  },
  {
   "cell_type": "code",
   "execution_count": 12,
   "metadata": {
    "collapsed": true,
    "scrolled": false
   },
   "outputs": [
    {
     "data": {
      "text/markdown": [
       "### CLIRAD-LW"
      ],
      "text/plain": [
       "<IPython.core.display.Markdown object>"
      ]
     },
     "metadata": {},
     "output_type": "display_data"
    },
    {
     "data": {
      "text/markdown": [
       "### Table of Contents"
      ],
      "text/plain": [
       "<IPython.core.display.Markdown object>"
      ]
     },
     "metadata": {},
     "output_type": "display_data"
    },
    {
     "data": {
      "text/html": [
       "<a href=\"#Input_Parameters\">Input Parameters</a>"
      ],
      "text/plain": [
       "<IPython.core.display.HTML object>"
      ]
     },
     "metadata": {},
     "output_type": "display_data"
    },
    {
     "data": {
      "text/html": [
       "<a href=\"#LBLNEW_case_compaired_against\">LBLNEW case compaired against</a>"
      ],
      "text/plain": [
       "<IPython.core.display.HTML object>"
      ]
     },
     "metadata": {},
     "output_type": "display_data"
    },
    {
     "data": {
      "text/html": [
       "<a href=\"#Cooling_Rate_Profiles\">Cooling Rate Profiles</a>"
      ],
      "text/plain": [
       "<IPython.core.display.HTML object>"
      ]
     },
     "metadata": {},
     "output_type": "display_data"
    },
    {
     "data": {
      "text/html": [
       "<a href=\"#Flux_Comparison\">Flux Comparison</a>"
      ],
      "text/plain": [
       "<IPython.core.display.HTML object>"
      ]
     },
     "metadata": {},
     "output_type": "display_data"
    },
    {
     "data": {
      "text/html": [
       "<a href=\"#Best-fit_Parameters\">Best-fit Parameters</a>"
      ],
      "text/plain": [
       "<IPython.core.display.HTML object>"
      ]
     },
     "metadata": {},
     "output_type": "display_data"
    },
    {
     "data": {
      "text/html": [
       "<a id=\"Input_Parameters\"></a>"
      ],
      "text/plain": [
       "<IPython.core.display.HTML object>"
      ]
     },
     "metadata": {},
     "output_type": "display_data"
    },
    {
     "data": {
      "text/markdown": [
       "# Input Parameters"
      ],
      "text/plain": [
       "<IPython.core.display.Markdown object>"
      ]
     },
     "metadata": {},
     "output_type": "display_data"
    },
    {
     "name": "stdout",
     "output_type": "stream",
     "text": [
      "atmpro = saw\n",
      "band = [10]\n",
      "commitnumber = 4198f95\n",
      "molecule = {'h2o': 'atmpro'}\n",
      "tsfc = 257\n"
     ]
    },
    {
     "data": {
      "text/html": [
       "<a id=\"LBLNEW_case_compaired_against\"></a>"
      ],
      "text/plain": [
       "<IPython.core.display.HTML object>"
      ]
     },
     "metadata": {},
     "output_type": "display_data"
    },
    {
     "data": {
      "text/markdown": [
       "# LBLNEW case compaired against"
      ],
      "text/plain": [
       "<IPython.core.display.Markdown object>"
      ]
     },
     "metadata": {},
     "output_type": "display_data"
    },
    {
     "name": "stdout",
     "output_type": "stream",
     "text": [
      "atmpro = saw\n",
      "band = 8\n",
      "commitnumber = 5014a19\n",
      "conc = None\n",
      "dv = 0.001\n",
      "klin = 0\n",
      "molecule = h2o\n",
      "ng_adju = [0, -1, 0]\n",
      "ng_refs = [3, 2, 3]\n",
      "nv = 1000\n",
      "option_compute_btable = 0\n",
      "option_compute_ktable = 0\n",
      "option_wgt_flux = 1\n",
      "option_wgt_k = 1\n",
      "ref_pts = [(1, 250), (10, 250), (500, 250)]\n",
      "tsfc = 257\n",
      "vmax = 1900\n",
      "vmin = 1380\n",
      "w_diffuse = [(1.66, 1.66, 1.66), (1.66, 1.66), (1.66, 1.66, 1.66)]\n",
      "wgt = [(0.55, 0.55, 0.85), (0.85, 0.85), (0, 0.3, 0.55)]\n"
     ]
    },
    {
     "data": {
      "text/html": [
       "<a id=\"Cooling_Rate_Profiles\"></a>"
      ],
      "text/plain": [
       "<IPython.core.display.HTML object>"
      ]
     },
     "metadata": {},
     "output_type": "display_data"
    },
    {
     "data": {
      "text/markdown": [
       "# Cooling Rate Profiles"
      ],
      "text/plain": [
       "<IPython.core.display.Markdown object>"
      ]
     },
     "metadata": {},
     "output_type": "display_data"
    },
    {
     "data": {
      "text/html": [
       "\n",
       "<div class=\"bk-root\">\n",
       "    <div class=\"bk-plotdiv\" id=\"608b0016-b107-42e4-b78b-76451f93cadd\"></div>\n",
       "</div>"
      ]
     },
     "metadata": {},
     "output_type": "display_data"
    },
    {
     "data": {
      "application/javascript": [
       "(function(root) {\n",
       "  function embed_document(root) {\n",
       "    \n",
       "  var docs_json = {\"c464943a-d908-4cb7-ac3d-114bfd7a8ee6\":{\"roots\":{\"references\":[{\"attributes\":{},\"id\":\"4cb0b67f-64ff-44f6-ac95-2456200d962a\",\"type\":\"UnionRenderers\"},{\"attributes\":{\"dimension\":1,\"plot\":{\"id\":\"3c0e2902-1d0b-4753-8353-483dbc333d36\",\"subtype\":\"Figure\",\"type\":\"Plot\"},\"ticker\":{\"id\":\"c97f3adc-116d-466f-8213-f626b4eccdf8\",\"type\":\"LogTicker\"}},\"id\":\"96804f66-62ab-4fe3-b29e-0c2efc00b9ff\",\"type\":\"Grid\"},{\"attributes\":{},\"id\":\"80f2f65b-962f-4c82-b261-9d4299b57b88\",\"type\":\"UnionRenderers\"},{\"attributes\":{\"active_drag\":\"auto\",\"active_inspect\":\"auto\",\"active_scroll\":\"auto\",\"active_tap\":\"auto\",\"tools\":[{\"id\":\"a53c4f66-2a62-41b6-b57e-c9b9bbd8192e\",\"type\":\"PanTool\"},{\"id\":\"f587446d-bef2-41e7-b911-eef334ea883e\",\"type\":\"WheelZoomTool\"},{\"id\":\"21cd9c87-cdd4-4e63-9d9a-ee9707061358\",\"type\":\"BoxZoomTool\"},{\"id\":\"e42e0614-e7df-4217-aad1-806319c55767\",\"type\":\"SaveTool\"},{\"id\":\"23b19fca-fa37-4869-9522-e096dc3f1063\",\"type\":\"ResetTool\"},{\"id\":\"7dd8e75c-8650-442e-b9ce-30e0cc56b0a1\",\"type\":\"HelpTool\"}]},\"id\":\"d37b6243-14a5-48c6-bba6-f67c86495dff\",\"type\":\"Toolbar\"},{\"attributes\":{},\"id\":\"206de6ce-19bb-43b2-8a53-b1b7b60943b7\",\"type\":\"Selection\"},{\"attributes\":{},\"id\":\"0d1245af-e6cb-49ab-ab82-a13cf96eb9e2\",\"type\":\"UnionRenderers\"},{\"attributes\":{\"source\":{\"id\":\"2016a2fd-8f7b-4f13-8d43-3290c7c985da\",\"type\":\"ColumnDataSource\"}},\"id\":\"dd4c3d6d-8825-46c6-b452-f0b8e56100c2\",\"type\":\"CDSView\"},{\"attributes\":{},\"id\":\"68d076c9-88d7-4271-8726-9f76e14135bc\",\"type\":\"UnionRenderers\"},{\"attributes\":{\"axis_label\":\"cooling rate [K/day]\",\"formatter\":{\"id\":\"9639b1d0-9aef-4242-b6f3-8cd66eac3a32\",\"type\":\"BasicTickFormatter\"},\"plot\":{\"id\":\"3c0e2902-1d0b-4753-8353-483dbc333d36\",\"subtype\":\"Figure\",\"type\":\"Plot\"},\"ticker\":{\"id\":\"2cfff1d0-26f0-48c8-9cb4-d201aefdf876\",\"type\":\"BasicTicker\"}},\"id\":\"25d58a34-5e9a-4afc-8bca-5ad9af1e9dab\",\"type\":\"LinearAxis\"},{\"attributes\":{\"callback\":null,\"data\":{\"x\":{\"__ndarray__\":\"AAAAAAAAAAAAAAAAAAAAAAAAAAAAAAAAAAAAAAAAAAAAAAAAAAAAAAAAAAAAAAAAAAAAAAAAAAAAAAAAAAAAAAAAAAAAAAAAAAAAAAAAAAAAAAAAAAAAAAAAAAAAAAAAAAAAAAAAAAAAAAAAAAAAAAAAAAAAAAAAAAAAAAAAAAAAAAAAAAAAAAAAAAAAAAAAAAAAAAAAAAAAAAAAAAAAAAAAAAAAAAAAAAAAAAAAAAAAAAAAAAAAAAAAAAAAAAAAAAAAAAAAAAAAAAAAAAAAAAAAAAAAAAAAAAAAAAAAAAAAAAAAAAAAAAAAAAAAAAAAAAAAAAAAAAAAAAAAAAAAAAAAAAAAAAAAAAAAAAAAAAAAAAAAAAAAAAAAAAAAAAAAAAAAAAAAAAAAAAAAAAAAAAAAAAAAAAAAAAAAAAAAAAAAAAAAAAAAAAAAAAAAAAAAAAAAAAAAAAAAAAAAAAAAAAAAAAAAAAAAAAAAAAAAAAAAAAAAAAAAAAAAAAAAAAAAAAAAAAAAAAAAAAAAAAAAAAAAAAAAAAAAAAAAAAAAAAAAAAAAAAAAAAAAAAAAAAAAAAAAAAAAAAAAAAAAAAAAAAAAAAAAAAAAAAAAAAAAAAAAAAAAAAAAAAAAAAAAAAAAAAAAAAAAAAAAAAAAAAAAAAAAAAAAAAAAAAAAAAAAAAAAAAAAAAAAAAAAAAAAAAAAAAAAAAAAAAAAAAAAAAAAAAAAAAAAAAAAAAAAAAAAAAAAAAAAAAAAAAAAAAAAAAAAAAAAAAAAAAAAAAAAAAAAAAAAAAAAAAAA\",\"dtype\":\"float64\",\"shape\":[75]},\"y\":{\"__ndarray__\":\"S/O/Q+51ND/Sv8nbtpRIP2vylNV0PVE/aTum7souWD/At0SJ8fVgPw3Iuahxymc/MSNhhJWvcD/bTfBN02d3P2zb5nxnaoA/CD5h5MAGhz8NmeH1TyaQP+zrCsc9p5Y/LbKd76fGnz/bLW5ISEmmPww9YvTcQq8/JV2OstnstT8Er5Y7M8G+P0c+r3jqkcU/5h99k6ZBzj88bCIzFzjVP4enV8oyxN0//yH99nXg5D8qOpLLf0jtP5kqGJXUifQ/c9cS8kHP/D+/DpwzojQEQIEmwoanVwxA4lgXt9HgE0BSSZ2AJuIbQAMJih9jjiNA5q4l5INuK0AwTKYKRj0zQNv5fmq8/DpAaCJseHrtQkB/+zpwzoxKQM3MzMzMeFJAZmZmZmZqWEAAAAAAAFxeQM3MzMzMJmJAmpmZmZkfZUBmZmZmZhhoQDMzMzMzEWtAAAAAAAAKbkBmZmZmZoFwQM3MzMzM/XFAMzMzMzN6c0CamZmZmfZ0QAAAAAAAc3ZAZmZmZmbvd0DNzMzMzGt5QDMzMzMz6HpAmpmZmZlkfEAAAAAAAOF9QGZmZmZmXX9AZmZmZuZsgECamZmZGSuBQM3MzMxM6YFAAAAAAICngkAzMzMzs2WDQGZmZmbmI4RAmpmZmRnihEDNzMzMTKCFQAAAAACAXoZAMzMzM7Mch0BmZmZm5tqHQJqZmZkZmYhAzczMzExXiUAAAAAAgBWKQDMzMzOz04pAZmZmZuaRi0CamZmZGVCMQM3MzMxMDo1AAAAAAIDMjUAzMzMzs4qOQGZmZmbmSI9A\",\"dtype\":\"float64\",\"shape\":[75]}},\"selected\":{\"id\":\"5d2c3026-db67-45ae-9119-200c1b8ae2da\",\"type\":\"Selection\"},\"selection_policy\":{\"id\":\"9a07f3ff-1ccf-4d37-ac43-639ddb152a8b\",\"type\":\"UnionRenderers\"}},\"id\":\"4f1ee264-9a97-408a-83de-e099d3642ea8\",\"type\":\"ColumnDataSource\"},{\"attributes\":{},\"id\":\"c8fe8b2a-8415-4b7d-9c6d-c5e0987bd8ad\",\"type\":\"UnionRenderers\"},{\"attributes\":{\"toolbar\":{\"id\":\"f1a50421-185b-4f1e-a6e0-c9a93dee7afc\",\"type\":\"ProxyToolbar\"},\"toolbar_location\":\"above\"},\"id\":\"735de6f4-649b-40bd-8cb6-ae6b6105fa1d\",\"type\":\"ToolbarBox\"},{\"attributes\":{\"axis_label\":\"pressure [mb]\",\"formatter\":{\"id\":\"7f442a92-e5d4-4fc1-9e36-9a483afe61c3\",\"type\":\"LogTickFormatter\"},\"plot\":{\"id\":\"3c0e2902-1d0b-4753-8353-483dbc333d36\",\"subtype\":\"Figure\",\"type\":\"Plot\"},\"ticker\":{\"id\":\"c97f3adc-116d-466f-8213-f626b4eccdf8\",\"type\":\"LogTicker\"}},\"id\":\"c0034a66-4780-46c2-8351-0ac9a70adeb6\",\"type\":\"LogAxis\"},{\"attributes\":{},\"id\":\"74166203-4960-4bd2-a87f-6136961f1a04\",\"type\":\"BasicTicker\"},{\"attributes\":{\"num_minor_ticks\":10},\"id\":\"c97f3adc-116d-466f-8213-f626b4eccdf8\",\"type\":\"LogTicker\"},{\"attributes\":{},\"id\":\"57eb5a9f-05ad-43f2-8fd8-5dc480c28fcc\",\"type\":\"Selection\"},{\"attributes\":{\"fill_alpha\":{\"value\":0.1},\"fill_color\":{\"value\":\"#1f77b4\"},\"line_alpha\":{\"value\":0.1},\"line_color\":{\"value\":\"#1f77b4\"},\"x\":{\"field\":\"x\"},\"y\":{\"field\":\"y\"}},\"id\":\"431f3ff3-36f9-4f25-b3cd-5167d9868f0f\",\"type\":\"Square\"},{\"attributes\":{},\"id\":\"a1485cf4-9958-42b3-be9d-3db208032ff6\",\"type\":\"LinearScale\"},{\"attributes\":{},\"id\":\"0ea4c612-ced5-4668-abc0-e4dfe30cd331\",\"type\":\"Selection\"},{\"attributes\":{\"children\":[{\"id\":\"735de6f4-649b-40bd-8cb6-ae6b6105fa1d\",\"type\":\"ToolbarBox\"},{\"id\":\"1a40e4f8-df07-4b66-a1e1-82aae4837a4c\",\"type\":\"Column\"}]},\"id\":\"7e86e1eb-3ddc-4558-9c67-f8e2dd3a9456\",\"type\":\"Column\"},{\"attributes\":{},\"id\":\"df4ab0a0-a6cc-4b56-b349-10bed9a8f827\",\"type\":\"ResetTool\"},{\"attributes\":{\"callback\":null,\"end\":0.24986609505623,\"start\":-0.00247392173323},\"id\":\"ea2c9ad4-129d-4518-862c-4f571b964ca8\",\"type\":\"Range1d\"},{\"attributes\":{},\"id\":\"2cfff1d0-26f0-48c8-9cb4-d201aefdf876\",\"type\":\"BasicTicker\"},{\"attributes\":{},\"id\":\"ddb43e7f-bff3-4d91-a175-3cd3b3a505d8\",\"type\":\"Selection\"},{\"attributes\":{},\"id\":\"fb2e295c-58e9-4248-aab2-a294adb89648\",\"type\":\"LogScale\"},{\"attributes\":{\"tools\":[{\"id\":\"a50b02ba-fa96-4f79-9a68-74db6d156ca9\",\"type\":\"PanTool\"},{\"id\":\"3054402a-d22c-470b-9fd5-6eb96ce79f30\",\"type\":\"WheelZoomTool\"},{\"id\":\"7e560c06-15c3-4e6e-9117-624a2a5e189f\",\"type\":\"BoxZoomTool\"},{\"id\":\"38b465a1-b527-40e1-9b9c-7f36863502c5\",\"type\":\"SaveTool\"},{\"id\":\"df4ab0a0-a6cc-4b56-b349-10bed9a8f827\",\"type\":\"ResetTool\"},{\"id\":\"2241ac87-718f-4bd1-8082-75022934d9e6\",\"type\":\"HelpTool\"},{\"id\":\"a53c4f66-2a62-41b6-b57e-c9b9bbd8192e\",\"type\":\"PanTool\"},{\"id\":\"f587446d-bef2-41e7-b911-eef334ea883e\",\"type\":\"WheelZoomTool\"},{\"id\":\"21cd9c87-cdd4-4e63-9d9a-ee9707061358\",\"type\":\"BoxZoomTool\"},{\"id\":\"e42e0614-e7df-4217-aad1-806319c55767\",\"type\":\"SaveTool\"},{\"id\":\"23b19fca-fa37-4869-9522-e096dc3f1063\",\"type\":\"ResetTool\"},{\"id\":\"7dd8e75c-8650-442e-b9ce-30e0cc56b0a1\",\"type\":\"HelpTool\"}]},\"id\":\"f1a50421-185b-4f1e-a6e0-c9a93dee7afc\",\"type\":\"ProxyToolbar\"},{\"attributes\":{\"overlay\":{\"id\":\"ab524e00-3de6-49e5-9774-ede0a8e4cef3\",\"type\":\"BoxAnnotation\"}},\"id\":\"7e560c06-15c3-4e6e-9117-624a2a5e189f\",\"type\":\"BoxZoomTool\"},{\"attributes\":{\"plot\":{\"id\":\"3c0e2902-1d0b-4753-8353-483dbc333d36\",\"subtype\":\"Figure\",\"type\":\"Plot\"},\"ticker\":{\"id\":\"2cfff1d0-26f0-48c8-9cb4-d201aefdf876\",\"type\":\"BasicTicker\"}},\"id\":\"e65b96ef-ce86-4153-9693-14f931e121f8\",\"type\":\"Grid\"},{\"attributes\":{\"bottom_units\":\"screen\",\"fill_alpha\":{\"value\":0.5},\"fill_color\":{\"value\":\"lightgrey\"},\"left_units\":\"screen\",\"level\":\"overlay\",\"line_alpha\":{\"value\":1.0},\"line_color\":{\"value\":\"black\"},\"line_dash\":[4,4],\"line_width\":{\"value\":2},\"plot\":null,\"render_mode\":\"css\",\"right_units\":\"screen\",\"top_units\":\"screen\"},\"id\":\"248400b0-17fd-43d0-94bb-1b6fca6d5240\",\"type\":\"BoxAnnotation\"},{\"attributes\":{},\"id\":\"a53c4f66-2a62-41b6-b57e-c9b9bbd8192e\",\"type\":\"PanTool\"},{\"attributes\":{},\"id\":\"3054402a-d22c-470b-9fd5-6eb96ce79f30\",\"type\":\"WheelZoomTool\"},{\"attributes\":{\"data_source\":{\"id\":\"2016a2fd-8f7b-4f13-8d43-3290c7c985da\",\"type\":\"ColumnDataSource\"},\"glyph\":{\"id\":\"4f2a0fc7-ff74-487c-8872-76c6f1bde554\",\"type\":\"Square\"},\"hover_glyph\":null,\"muted_glyph\":null,\"nonselection_glyph\":{\"id\":\"431f3ff3-36f9-4f25-b3cd-5167d9868f0f\",\"type\":\"Square\"},\"selection_glyph\":null,\"view\":{\"id\":\"dd4c3d6d-8825-46c6-b452-f0b8e56100c2\",\"type\":\"CDSView\"}},\"id\":\"2204496f-4617-4156-ae5d-13db705c02c1\",\"type\":\"GlyphRenderer\"},{\"attributes\":{\"below\":[{\"id\":\"25d58a34-5e9a-4afc-8bca-5ad9af1e9dab\",\"type\":\"LinearAxis\"}],\"left\":[{\"id\":\"c0034a66-4780-46c2-8351-0ac9a70adeb6\",\"type\":\"LogAxis\"}],\"plot_height\":500,\"plot_width\":560,\"renderers\":[{\"id\":\"25d58a34-5e9a-4afc-8bca-5ad9af1e9dab\",\"type\":\"LinearAxis\"},{\"id\":\"e65b96ef-ce86-4153-9693-14f931e121f8\",\"type\":\"Grid\"},{\"id\":\"c0034a66-4780-46c2-8351-0ac9a70adeb6\",\"type\":\"LogAxis\"},{\"id\":\"96804f66-62ab-4fe3-b29e-0c2efc00b9ff\",\"type\":\"Grid\"},{\"id\":\"248400b0-17fd-43d0-94bb-1b6fca6d5240\",\"type\":\"BoxAnnotation\"},{\"id\":\"7f5feea1-05a6-4846-a629-1e541733221b\",\"type\":\"GlyphRenderer\"},{\"id\":\"3bb99a8d-ce75-42d4-b7a3-1fd7a17d99cc\",\"type\":\"GlyphRenderer\"},{\"id\":\"56e9e3e0-7ae7-4e6d-b17e-9002cc3f16ca\",\"type\":\"GlyphRenderer\"},{\"id\":\"2204496f-4617-4156-ae5d-13db705c02c1\",\"type\":\"GlyphRenderer\"},{\"id\":\"fd339102-f3a3-4515-9890-cd6418203c2a\",\"type\":\"GlyphRenderer\"},{\"id\":\"2446a508-d3c5-41a6-8978-9212989365d0\",\"type\":\"Legend\"}],\"right\":[{\"id\":\"2446a508-d3c5-41a6-8978-9212989365d0\",\"type\":\"Legend\"}],\"title\":{\"id\":\"4641d254-0b95-4f8f-b100-2bc0c8e3d25f\",\"type\":\"Title\"},\"toolbar\":{\"id\":\"d37b6243-14a5-48c6-bba6-f67c86495dff\",\"type\":\"Toolbar\"},\"toolbar_location\":null,\"x_range\":{\"id\":\"ea2c9ad4-129d-4518-862c-4f571b964ca8\",\"type\":\"Range1d\"},\"x_scale\":{\"id\":\"a1485cf4-9958-42b3-be9d-3db208032ff6\",\"type\":\"LinearScale\"},\"y_range\":{\"id\":\"52ae7eda-3f49-4fb8-b63f-edd0d7328625\",\"type\":\"Range1d\"},\"y_scale\":{\"id\":\"fb2e295c-58e9-4248-aab2-a294adb89648\",\"type\":\"LogScale\"}},\"id\":\"3c0e2902-1d0b-4753-8353-483dbc333d36\",\"subtype\":\"Figure\",\"type\":\"Plot\"},{\"attributes\":{},\"id\":\"5ba9e9cd-5f2e-4b4e-8ec8-2b88fd81dbd8\",\"type\":\"LinearScale\"},{\"attributes\":{},\"id\":\"f587446d-bef2-41e7-b911-eef334ea883e\",\"type\":\"WheelZoomTool\"},{\"attributes\":{\"line_alpha\":0.1,\"line_color\":\"#1f77b4\",\"line_dash\":[6],\"line_width\":5,\"x\":{\"field\":\"x\"},\"y\":{\"field\":\"y\"}},\"id\":\"b14857c9-90ef-4c03-b992-718f91c3da1c\",\"type\":\"Line\"},{\"attributes\":{},\"id\":\"23b19fca-fa37-4869-9522-e096dc3f1063\",\"type\":\"ResetTool\"},{\"attributes\":{\"plot\":{\"id\":\"2d4f4957-c4ad-4311-bb6b-af5cc82ce694\",\"subtype\":\"Figure\",\"type\":\"Plot\"},\"ticker\":{\"id\":\"74166203-4960-4bd2-a87f-6136961f1a04\",\"type\":\"BasicTicker\"}},\"id\":\"9293d719-8bd7-4885-a664-b825e3ebe1cd\",\"type\":\"Grid\"},{\"attributes\":{\"overlay\":{\"id\":\"248400b0-17fd-43d0-94bb-1b6fca6d5240\",\"type\":\"BoxAnnotation\"}},\"id\":\"21cd9c87-cdd4-4e63-9d9a-ee9707061358\",\"type\":\"BoxZoomTool\"},{\"attributes\":{},\"id\":\"7dd8e75c-8650-442e-b9ce-30e0cc56b0a1\",\"type\":\"HelpTool\"},{\"attributes\":{\"callback\":null,\"end\":0.01,\"start\":1020},\"id\":\"9cc357a0-54b4-4c3f-bb8f-bc564eeae2c8\",\"type\":\"Range1d\"},{\"attributes\":{\"label\":{\"value\":\"CRD\"},\"renderers\":[{\"id\":\"3bb99a8d-ce75-42d4-b7a3-1fd7a17d99cc\",\"type\":\"GlyphRenderer\"},{\"id\":\"56e9e3e0-7ae7-4e6d-b17e-9002cc3f16ca\",\"type\":\"GlyphRenderer\"}]},\"id\":\"f2cad90a-82e4-40ec-bec3-a877df551cd6\",\"type\":\"LegendItem\"},{\"attributes\":{},\"id\":\"e42e0614-e7df-4217-aad1-806319c55767\",\"type\":\"SaveTool\"},{\"attributes\":{\"active_drag\":\"auto\",\"active_inspect\":\"auto\",\"active_scroll\":\"auto\",\"active_tap\":\"auto\",\"tools\":[{\"id\":\"a50b02ba-fa96-4f79-9a68-74db6d156ca9\",\"type\":\"PanTool\"},{\"id\":\"3054402a-d22c-470b-9fd5-6eb96ce79f30\",\"type\":\"WheelZoomTool\"},{\"id\":\"7e560c06-15c3-4e6e-9117-624a2a5e189f\",\"type\":\"BoxZoomTool\"},{\"id\":\"38b465a1-b527-40e1-9b9c-7f36863502c5\",\"type\":\"SaveTool\"},{\"id\":\"df4ab0a0-a6cc-4b56-b349-10bed9a8f827\",\"type\":\"ResetTool\"},{\"id\":\"2241ac87-718f-4bd1-8082-75022934d9e6\",\"type\":\"HelpTool\"}]},\"id\":\"7c9e462d-f3e7-45fc-a621-6121f0f4c1c8\",\"type\":\"Toolbar\"},{\"attributes\":{\"below\":[{\"id\":\"029fcf6a-40e9-42e1-acf4-e5704f40b7d1\",\"type\":\"LinearAxis\"}],\"left\":[{\"id\":\"9e41afdb-8ded-4731-a611-ad37a9de04c0\",\"type\":\"LinearAxis\"}],\"plot_height\":500,\"plot_width\":400,\"renderers\":[{\"id\":\"029fcf6a-40e9-42e1-acf4-e5704f40b7d1\",\"type\":\"LinearAxis\"},{\"id\":\"9293d719-8bd7-4885-a664-b825e3ebe1cd\",\"type\":\"Grid\"},{\"id\":\"9e41afdb-8ded-4731-a611-ad37a9de04c0\",\"type\":\"LinearAxis\"},{\"id\":\"4953fbbe-5cfe-450d-961b-e796a14ed995\",\"type\":\"Grid\"},{\"id\":\"ab524e00-3de6-49e5-9774-ede0a8e4cef3\",\"type\":\"BoxAnnotation\"},{\"id\":\"ceb77169-67e1-4e6c-be5c-3d4b62c2b1b8\",\"type\":\"GlyphRenderer\"},{\"id\":\"cb263972-3a6f-4b13-9c3b-63611b9ad1b4\",\"type\":\"GlyphRenderer\"},{\"id\":\"49c4155f-df9b-4632-8f52-5a8b2b62e63e\",\"type\":\"GlyphRenderer\"},{\"id\":\"f927646c-1ca1-4619-9e97-a89592e8cff0\",\"type\":\"GlyphRenderer\"},{\"id\":\"0c175f05-70cf-4c52-9bb3-da2d8ee3f60c\",\"type\":\"GlyphRenderer\"}],\"title\":{\"id\":\"341c75de-c3a2-4c0a-877d-de1ceaa2f2c9\",\"type\":\"Title\"},\"toolbar\":{\"id\":\"7c9e462d-f3e7-45fc-a621-6121f0f4c1c8\",\"type\":\"Toolbar\"},\"toolbar_location\":null,\"x_range\":{\"id\":\"4ba7f641-3c2e-4af7-8640-b702bdf01374\",\"type\":\"Range1d\"},\"x_scale\":{\"id\":\"5ba9e9cd-5f2e-4b4e-8ec8-2b88fd81dbd8\",\"type\":\"LinearScale\"},\"y_range\":{\"id\":\"9cc357a0-54b4-4c3f-bb8f-bc564eeae2c8\",\"type\":\"Range1d\"},\"y_scale\":{\"id\":\"237c173a-e33a-445b-af7b-6431fd1999b5\",\"type\":\"LinearScale\"}},\"id\":\"2d4f4957-c4ad-4311-bb6b-af5cc82ce694\",\"subtype\":\"Figure\",\"type\":\"Plot\"},{\"attributes\":{\"line_alpha\":0.6,\"line_color\":\"#e41a1c\",\"line_dash\":[6],\"line_width\":5,\"x\":{\"field\":\"x\"},\"y\":{\"field\":\"y\"}},\"id\":\"79ae2ef8-9255-4dbe-aa39-332e7cbf843b\",\"type\":\"Line\"},{\"attributes\":{\"data_source\":{\"id\":\"bb18a729-e2d8-4d8f-a26e-834391399b39\",\"type\":\"ColumnDataSource\"},\"glyph\":{\"id\":\"79ae2ef8-9255-4dbe-aa39-332e7cbf843b\",\"type\":\"Line\"},\"hover_glyph\":null,\"muted_glyph\":null,\"nonselection_glyph\":{\"id\":\"9787fbdc-bb22-4643-95a8-5ea18c598745\",\"type\":\"Line\"},\"selection_glyph\":null,\"view\":{\"id\":\"f75709b6-3f37-49e1-ab8c-b4d9e53961ab\",\"type\":\"CDSView\"}},\"id\":\"7f5feea1-05a6-4846-a629-1e541733221b\",\"type\":\"GlyphRenderer\"},{\"attributes\":{\"axis_label\":\"cooling rate [K/day]\",\"formatter\":{\"id\":\"9655318a-7d72-47d8-9c99-e2af6b058b32\",\"type\":\"BasicTickFormatter\"},\"plot\":{\"id\":\"2d4f4957-c4ad-4311-bb6b-af5cc82ce694\",\"subtype\":\"Figure\",\"type\":\"Plot\"},\"ticker\":{\"id\":\"74166203-4960-4bd2-a87f-6136961f1a04\",\"type\":\"BasicTicker\"}},\"id\":\"029fcf6a-40e9-42e1-acf4-e5704f40b7d1\",\"type\":\"LinearAxis\"},{\"attributes\":{},\"id\":\"7295e80e-f435-4c19-af88-ffd033589816\",\"type\":\"BasicTicker\"},{\"attributes\":{},\"id\":\"38b465a1-b527-40e1-9b9c-7f36863502c5\",\"type\":\"SaveTool\"},{\"attributes\":{\"line_alpha\":0.1,\"line_color\":\"#1f77b4\",\"line_dash\":[6],\"line_width\":5,\"x\":{\"field\":\"x\"},\"y\":{\"field\":\"y\"}},\"id\":\"9787fbdc-bb22-4643-95a8-5ea18c598745\",\"type\":\"Line\"},{\"attributes\":{\"callback\":null,\"data\":{\"x\":{\"__ndarray__\":\"VqYNkQxKxr+9wh0PN2zFvw8jHw90X8O/xZX3q5AOwb9xlBzrH8+8vyetCVO58ba/Q4ZOj+htsL9gA+3BjG6iv+yCge9smXW/HcZSqkLinD8kdJpcxGywPzfLK9gTOLo/iwpKBHtCwj8O0zpI8rfGP8S00xC2esk/czr42nAfyz/tSy0RW03MP/0qSUo8EM0/IOLbyZqNzT/b+PrF8zbOPwC12vaLqs8/8vKp6P50yj+tIvvYGMC9P+A6/y26maw/PYMJKSSgnj/hyO7st9iSP6pzdpQHyIY/Sf0iFqTAfj/9xSn1cdB9Px6Hff7VlX4/hgp59YxffD+PZT70HX52P+GD8hT873Q/37U3TFghej9QDkz21+F9P08L6sFI4H8/dx6z/4O9gD9EG/5aM1SAP+MfZFfZfoQ/oJy40kqwiD/bE6bCSMiLP5tQTa2fS4o/ZBOYaXkthT9Pkf1wnu52P1dlPmaZXme/ia3LW06ugL/uweyZn6Fmv5ZZ8FDjM4A/et35ldEqlT8fmsyneKqhP8PDGGPzWak/vAxl8JYasT+RInEby/u0P4V1USPxXLc/j8pxm01AuD+NhDzHSEe4P7xZaxlzFLg/4AXSNVTYtz+exdsvNGS3P2owgYvDfbY/2dIPGHgAtT82QVRHbxqzP5wXB+EXArE/OJ1ZS/IJrj8BuV/uFuGqP6uyA4KDM6k/VBYnD7rRqT8NkS24MWKtP/RnWfurT7E/MlTGslNksj80CxxrCa2vP2xzejywxaU/On0suR5imD8ZgOqSc2iBPwOIJtObHJG/\",\"dtype\":\"float64\",\"shape\":[75]},\"y\":{\"__ndarray__\":\"GhExyth1ND/Sv8nbtpRIP2vylNV0PVE/aTum7souWD/At0SJ8fVgPw3Iuahxymc/MSNhhJWvcD/bTfBN02d3P2zb5nxnaoA/CD5h5MAGhz8NmeH1TyaQP+zrCsc9p5Y/LbKd76fGnz/bLW5ISEmmPww9YvTcQq8/JV2OstnstT8Er5Y7M8G+P0c+r3jqkcU/5h99k6ZBzj88bCIzFzjVP4enV8oyxN0//yH99nXg5D8qOpLLf0jtP5kqGJXUifQ/c9cS8kHP/D+/DpwzojQEQIEmwoanVwxA4lgXt9HgE0BSSZ2AJuIbQAMJih9jjiNA5q4l5INuK0AwTKYKRj0zQNv5fmq8/DpAaCJseHrtQkB/+zpwzoxKQM3MzMzMeFJAZmZmZmZqWEAAAAAAAFxeQM3MzMzMJmJAmpmZmZkfZUBmZmZmZhhoQDMzMzMzEWtAAAAAAAAKbkBmZmZmZoFwQM3MzMzM/XFAMzMzMzN6c0CamZmZmfZ0QAAAAAAAc3ZAZmZmZmbvd0DNzMzMzGt5QDMzMzMz6HpAmpmZmZlkfEAAAAAAAOF9QGZmZmZmXX9AZmZmZuZsgECamZmZGSuBQM3MzMxM6YFAAAAAAICngkAzMzMzs2WDQGZmZmbmI4RAmpmZmRnihEDNzMzMTKCFQAAAAACAXoZAMzMzM7Mch0BmZmZm5tqHQJqZmZkZmYhAzczMzExXiUAAAAAAgBWKQDMzMzOz04pAZmZmZuaRi0CamZmZGVCMQM3MzMxMDo1AAAAAAIDMjUAzMzMzs4qOQGZmZmbmSI9A\",\"dtype\":\"float64\",\"shape\":[75]}},\"selected\":{\"id\":\"ddb43e7f-bff3-4d91-a175-3cd3b3a505d8\",\"type\":\"Selection\"},\"selection_policy\":{\"id\":\"c8fe8b2a-8415-4b7d-9c6d-c5e0987bd8ad\",\"type\":\"UnionRenderers\"}},\"id\":\"32916c1b-95a8-4a11-adf6-9791895f2f16\",\"type\":\"ColumnDataSource\"},{\"attributes\":{\"plot\":null,\"text\":\"Linear pressure scale\"},\"id\":\"341c75de-c3a2-4c0a-877d-de1ceaa2f2c9\",\"type\":\"Title\"},{\"attributes\":{\"line_alpha\":0.6,\"line_color\":\"#984ea3\",\"line_width\":3,\"x\":{\"field\":\"x\"},\"y\":{\"field\":\"y\"}},\"id\":\"51919019-feb1-4025-ac92-9e51e1a3e7f7\",\"type\":\"Line\"},{\"attributes\":{\"callback\":null,\"end\":0.09758381986994,\"start\":-0.017842324863940003},\"id\":\"4ba7f641-3c2e-4af7-8640-b702bdf01374\",\"type\":\"Range1d\"},{\"attributes\":{\"dimension\":1,\"plot\":{\"id\":\"2d4f4957-c4ad-4311-bb6b-af5cc82ce694\",\"subtype\":\"Figure\",\"type\":\"Plot\"},\"ticker\":{\"id\":\"7295e80e-f435-4c19-af88-ffd033589816\",\"type\":\"BasicTicker\"}},\"id\":\"4953fbbe-5cfe-450d-961b-e796a14ed995\",\"type\":\"Grid\"},{\"attributes\":{\"line_alpha\":0.6,\"line_color\":\"#e41a1c\",\"line_dash\":[6],\"line_width\":5,\"x\":{\"field\":\"x\"},\"y\":{\"field\":\"y\"}},\"id\":\"2f16f94a-25b0-4ce9-ae5d-c393747accca\",\"type\":\"Line\"},{\"attributes\":{\"data_source\":{\"id\":\"dda318a8-a552-4824-b7bb-5db7256e9cd6\",\"type\":\"ColumnDataSource\"},\"glyph\":{\"id\":\"58158098-2f2f-4d1c-a9e4-4f6385bd8418\",\"type\":\"Square\"},\"hover_glyph\":null,\"muted_glyph\":null,\"nonselection_glyph\":{\"id\":\"d0924a7d-f70f-4df4-87f7-1e0b4a5e46aa\",\"type\":\"Square\"},\"selection_glyph\":null,\"view\":{\"id\":\"e930faff-7c51-4e64-b514-e597419f7827\",\"type\":\"CDSView\"}},\"id\":\"f927646c-1ca1-4619-9e97-a89592e8cff0\",\"type\":\"GlyphRenderer\"},{\"attributes\":{\"source\":{\"id\":\"4f1ee264-9a97-408a-83de-e099d3642ea8\",\"type\":\"ColumnDataSource\"}},\"id\":\"6b4bb79b-3b5d-495e-8ba8-caec7cdb9b54\",\"type\":\"CDSView\"},{\"attributes\":{\"source\":{\"id\":\"dda318a8-a552-4824-b7bb-5db7256e9cd6\",\"type\":\"ColumnDataSource\"}},\"id\":\"e930faff-7c51-4e64-b514-e597419f7827\",\"type\":\"CDSView\"},{\"attributes\":{},\"id\":\"237c173a-e33a-445b-af7b-6431fd1999b5\",\"type\":\"LinearScale\"},{\"attributes\":{\"axis_label\":\"pressure [mb]\",\"formatter\":{\"id\":\"540781d2-2c07-43d4-bcf7-1b9c2152386d\",\"type\":\"BasicTickFormatter\"},\"plot\":{\"id\":\"2d4f4957-c4ad-4311-bb6b-af5cc82ce694\",\"subtype\":\"Figure\",\"type\":\"Plot\"},\"ticker\":{\"id\":\"7295e80e-f435-4c19-af88-ffd033589816\",\"type\":\"BasicTicker\"}},\"id\":\"9e41afdb-8ded-4731-a611-ad37a9de04c0\",\"type\":\"LinearAxis\"},{\"attributes\":{\"callback\":null,\"data\":{\"x\":{\"__ndarray__\":\"VqYNkQxKxr+9wh0PN2zFvw8jHw90X8O/xZX3q5AOwb9xlBzrH8+8vyetCVO58ba/Q4ZOj+htsL9gA+3BjG6iv+yCge9smXW/HcZSqkLinD8kdJpcxGywPzfLK9gTOLo/iwpKBHtCwj8O0zpI8rfGP8S00xC2esk/czr42nAfyz/tSy0RW03MP/0qSUo8EM0/IOLbyZqNzT/b+PrF8zbOPwC12vaLqs8/8vKp6P50yj+tIvvYGMC9P+A6/y26maw/PYMJKSSgnj/hyO7st9iSP6pzdpQHyIY/Sf0iFqTAfj/9xSn1cdB9Px6Hff7VlX4/hgp59YxffD+PZT70HX52P+GD8hT873Q/37U3TFghej9QDkz21+F9P08L6sFI4H8/dx6z/4O9gD9EG/5aM1SAP+MfZFfZfoQ/oJy40kqwiD/bE6bCSMiLP5tQTa2fS4o/ZBOYaXkthT9Pkf1wnu52P1dlPmaZXme/ia3LW06ugL/uweyZn6Fmv5ZZ8FDjM4A/et35ldEqlT8fmsyneKqhP8PDGGPzWak/vAxl8JYasT+RInEby/u0P4V1USPxXLc/j8pxm01AuD+NhDzHSEe4P7xZaxlzFLg/4AXSNVTYtz+exdsvNGS3P2owgYvDfbY/2dIPGHgAtT82QVRHbxqzP5wXB+EXArE/OJ1ZS/IJrj8BuV/uFuGqP6uyA4KDM6k/VBYnD7rRqT8NkS24MWKtP/RnWfurT7E/MlTGslNksj80CxxrCa2vP2xzejywxaU/On0suR5imD8ZgOqSc2iBPwOIJtObHJG/\",\"dtype\":\"float64\",\"shape\":[75]},\"y\":{\"__ndarray__\":\"GhExyth1ND/Sv8nbtpRIP2vylNV0PVE/aTum7souWD/At0SJ8fVgPw3Iuahxymc/MSNhhJWvcD/bTfBN02d3P2zb5nxnaoA/CD5h5MAGhz8NmeH1TyaQP+zrCsc9p5Y/LbKd76fGnz/bLW5ISEmmPww9YvTcQq8/JV2OstnstT8Er5Y7M8G+P0c+r3jqkcU/5h99k6ZBzj88bCIzFzjVP4enV8oyxN0//yH99nXg5D8qOpLLf0jtP5kqGJXUifQ/c9cS8kHP/D+/DpwzojQEQIEmwoanVwxA4lgXt9HgE0BSSZ2AJuIbQAMJih9jjiNA5q4l5INuK0AwTKYKRj0zQNv5fmq8/DpAaCJseHrtQkB/+zpwzoxKQM3MzMzMeFJAZmZmZmZqWEAAAAAAAFxeQM3MzMzMJmJAmpmZmZkfZUBmZmZmZhhoQDMzMzMzEWtAAAAAAAAKbkBmZmZmZoFwQM3MzMzM/XFAMzMzMzN6c0CamZmZmfZ0QAAAAAAAc3ZAZmZmZmbvd0DNzMzMzGt5QDMzMzMz6HpAmpmZmZlkfEAAAAAAAOF9QGZmZmZmXX9AZmZmZuZsgECamZmZGSuBQM3MzMxM6YFAAAAAAICngkAzMzMzs2WDQGZmZmbmI4RAmpmZmRnihEDNzMzMTKCFQAAAAACAXoZAMzMzM7Mch0BmZmZm5tqHQJqZmZkZmYhAzczMzExXiUAAAAAAgBWKQDMzMzOz04pAZmZmZuaRi0CamZmZGVCMQM3MzMxMDo1AAAAAAIDMjUAzMzMzs4qOQGZmZmbmSI9A\",\"dtype\":\"float64\",\"shape\":[75]}},\"selected\":{\"id\":\"8f508a36-6e7a-4003-bbd1-051165397bea\",\"type\":\"Selection\"},\"selection_policy\":{\"id\":\"6e86ac8e-43d5-44bd-8c90-42224179f14e\",\"type\":\"UnionRenderers\"}},\"id\":\"23bee2ae-c167-464c-831e-2929cabd17f9\",\"type\":\"ColumnDataSource\"},{\"attributes\":{},\"id\":\"a50b02ba-fa96-4f79-9a68-74db6d156ca9\",\"type\":\"PanTool\"},{\"attributes\":{\"children\":[{\"id\":\"67e0bace-4cce-47ef-918b-2b42b332561e\",\"type\":\"Row\"}]},\"id\":\"1a40e4f8-df07-4b66-a1e1-82aae4837a4c\",\"type\":\"Column\"},{\"attributes\":{\"data_source\":{\"id\":\"23bee2ae-c167-464c-831e-2929cabd17f9\",\"type\":\"ColumnDataSource\"},\"glyph\":{\"id\":\"51919019-feb1-4025-ac92-9e51e1a3e7f7\",\"type\":\"Line\"},\"hover_glyph\":null,\"muted_glyph\":null,\"nonselection_glyph\":{\"id\":\"24092238-1cbf-4b70-9b64-b5e2664bcc72\",\"type\":\"Line\"},\"selection_glyph\":null,\"view\":{\"id\":\"0eefeb00-456c-402a-a455-c6ca6e2bd24e\",\"type\":\"CDSView\"}},\"id\":\"0c175f05-70cf-4c52-9bb3-da2d8ee3f60c\",\"type\":\"GlyphRenderer\"},{\"attributes\":{\"fill_alpha\":{\"value\":0.1},\"fill_color\":{\"value\":\"#1f77b4\"},\"line_alpha\":{\"value\":0.1},\"line_color\":{\"value\":\"#1f77b4\"},\"x\":{\"field\":\"x\"},\"y\":{\"field\":\"y\"}},\"id\":\"d0924a7d-f70f-4df4-87f7-1e0b4a5e46aa\",\"type\":\"Square\"},{\"attributes\":{\"callback\":null,\"data\":{\"x\":{\"__ndarray__\":\"AAAAAAAAAAAAAAAAAAAAAAAAAAAAAAAAAAAAAAAAAAAAAAAAAAAAAAAAAAAAAAAAAAAAAAAAAAAAAAAAAAAAAAAAAAAAAAAAAAAAAAAAAAAAAAAAAAAAAAAAAAAAAAAAAAAAAAAAAAAAAAAAAAAAAAAAAAAAAAAAAAAAAAAAAAAAAAAAAAAAAAAAAAAAAAAAAAAAAAAAAAAAAAAAAAAAAAAAAAAAAAAAAAAAAAAAAAAAAAAAAAAAAAAAAAAAAAAAAAAAAAAAAAAAAAAAAAAAAAAAAAAAAAAAAAAAAAAAAAAAAAAAAAAAAAAAAAAAAAAAAAAAAAAAAAAAAAAAAAAAAAAAAAAAAAAAAAAAAAAAAAAAAAAAAAAAAAAAAAAAAAAAAAAAAAAAAAAAAAAAAAAAAAAAAAAAAAAAAAAAAAAAAAAAAAAAAAAAAAAAAAAAAAAAAAAAAAAAAAAAAAAAAAAAAAAAAAAAAAAAAAAAAAAAAAAAAAAAAAAAAAAAAAAAAAAAAAAAAAAAAAAAAAAAAAAAAAAAAAAAAAAAAAAAAAAAAAAAAAAAAAAAAAAAAAAAAAAAAAAAAAAAAAAAAAAAAAAAAAAAAAAAAAAAAAAAAAAAAAAAAAAAAAAAAAAAAAAAAAAAAAAAAAAAAAAAAAAAAAAAAAAAAAAAAAAAAAAAAAAAAAAAAAAAAAAAAAAAAAAAAAAAAAAAAAAAAAAAAAAAAAAAAAAAAAAAAAAAAAAAAAAAAAAAAAAAAAAAAAAAAAAAAAAAAAAAAAAAAAAAAAAAAAAAAAAAAAAAAAAA\",\"dtype\":\"float64\",\"shape\":[75]},\"y\":{\"__ndarray__\":\"S/O/Q+51ND/Sv8nbtpRIP2vylNV0PVE/aTum7souWD/At0SJ8fVgPw3Iuahxymc/MSNhhJWvcD/bTfBN02d3P2zb5nxnaoA/CD5h5MAGhz8NmeH1TyaQP+zrCsc9p5Y/LbKd76fGnz/bLW5ISEmmPww9YvTcQq8/JV2OstnstT8Er5Y7M8G+P0c+r3jqkcU/5h99k6ZBzj88bCIzFzjVP4enV8oyxN0//yH99nXg5D8qOpLLf0jtP5kqGJXUifQ/c9cS8kHP/D+/DpwzojQEQIEmwoanVwxA4lgXt9HgE0BSSZ2AJuIbQAMJih9jjiNA5q4l5INuK0AwTKYKRj0zQNv5fmq8/DpAaCJseHrtQkB/+zpwzoxKQM3MzMzMeFJAZmZmZmZqWEAAAAAAAFxeQM3MzMzMJmJAmpmZmZkfZUBmZmZmZhhoQDMzMzMzEWtAAAAAAAAKbkBmZmZmZoFwQM3MzMzM/XFAMzMzMzN6c0CamZmZmfZ0QAAAAAAAc3ZAZmZmZmbvd0DNzMzMzGt5QDMzMzMz6HpAmpmZmZlkfEAAAAAAAOF9QGZmZmZmXX9AZmZmZuZsgECamZmZGSuBQM3MzMxM6YFAAAAAAICngkAzMzMzs2WDQGZmZmbmI4RAmpmZmRnihEDNzMzMTKCFQAAAAACAXoZAMzMzM7Mch0BmZmZm5tqHQJqZmZkZmYhAzczMzExXiUAAAAAAgBWKQDMzMzOz04pAZmZmZuaRi0CamZmZGVCMQM3MzMxMDo1AAAAAAIDMjUAzMzMzs4qOQGZmZmbmSI9A\",\"dtype\":\"float64\",\"shape\":[75]}},\"selected\":{\"id\":\"19d6e907-fc23-4673-ad7e-19cab1988181\",\"type\":\"Selection\"},\"selection_policy\":{\"id\":\"80f2f65b-962f-4c82-b261-9d4299b57b88\",\"type\":\"UnionRenderers\"}},\"id\":\"bb18a729-e2d8-4d8f-a26e-834391399b39\",\"type\":\"ColumnDataSource\"},{\"attributes\":{\"line_alpha\":0.1,\"line_color\":\"#1f77b4\",\"line_width\":3,\"x\":{\"field\":\"x\"},\"y\":{\"field\":\"y\"}},\"id\":\"24092238-1cbf-4b70-9b64-b5e2664bcc72\",\"type\":\"Line\"},{\"attributes\":{\"plot\":null,\"text\":\"Log pressure scale\"},\"id\":\"4641d254-0b95-4f8f-b100-2bc0c8e3d25f\",\"type\":\"Title\"},{\"attributes\":{\"source\":{\"id\":\"23bee2ae-c167-464c-831e-2929cabd17f9\",\"type\":\"ColumnDataSource\"}},\"id\":\"0eefeb00-456c-402a-a455-c6ca6e2bd24e\",\"type\":\"CDSView\"},{\"attributes\":{\"items\":[{\"id\":\"58ed1cf9-5372-4d9e-ac24-90c5fdba31c5\",\"type\":\"LegendItem\"},{\"id\":\"f2cad90a-82e4-40ec-bec3-a877df551cd6\",\"type\":\"LegendItem\"},{\"id\":\"7967da31-8590-4108-baed-8d269000418c\",\"type\":\"LegendItem\"}],\"label_text_font_size\":{\"value\":\"8pt\"},\"location\":[10,-30],\"plot\":{\"id\":\"3c0e2902-1d0b-4753-8353-483dbc333d36\",\"subtype\":\"Figure\",\"type\":\"Plot\"}},\"id\":\"2446a508-d3c5-41a6-8978-9212989365d0\",\"type\":\"Legend\"},{\"attributes\":{\"data_source\":{\"id\":\"4f1ee264-9a97-408a-83de-e099d3642ea8\",\"type\":\"ColumnDataSource\"},\"glyph\":{\"id\":\"2f16f94a-25b0-4ce9-ae5d-c393747accca\",\"type\":\"Line\"},\"hover_glyph\":null,\"muted_glyph\":null,\"nonselection_glyph\":{\"id\":\"b14857c9-90ef-4c03-b992-718f91c3da1c\",\"type\":\"Line\"},\"selection_glyph\":null,\"view\":{\"id\":\"6b4bb79b-3b5d-495e-8ba8-caec7cdb9b54\",\"type\":\"CDSView\"}},\"id\":\"ceb77169-67e1-4e6c-be5c-3d4b62c2b1b8\",\"type\":\"GlyphRenderer\"},{\"attributes\":{\"data_source\":{\"id\":\"2e88f3c1-ad6b-480c-83d2-aabaa57c5b6a\",\"type\":\"ColumnDataSource\"},\"glyph\":{\"id\":\"029f10df-8481-46a3-9c5d-5dc85db4502b\",\"type\":\"Circle\"},\"hover_glyph\":null,\"muted_glyph\":null,\"nonselection_glyph\":{\"id\":\"aa83ce89-07d3-49d3-928c-302203edf43c\",\"type\":\"Circle\"},\"selection_glyph\":null,\"view\":{\"id\":\"6f4b2dc0-8a36-4d65-a1bd-b5b95a81754a\",\"type\":\"CDSView\"}},\"id\":\"cb263972-3a6f-4b13-9c3b-63611b9ad1b4\",\"type\":\"GlyphRenderer\"},{\"attributes\":{\"fill_alpha\":{\"value\":0.1},\"fill_color\":{\"value\":\"#1f77b4\"},\"line_alpha\":{\"value\":0.1},\"line_color\":{\"value\":\"#1f77b4\"},\"x\":{\"field\":\"x\"},\"y\":{\"field\":\"y\"}},\"id\":\"aa83ce89-07d3-49d3-928c-302203edf43c\",\"type\":\"Circle\"},{\"attributes\":{\"data_source\":{\"id\":\"50719cc1-6248-484b-ae76-cb42f4f62971\",\"type\":\"ColumnDataSource\"},\"glyph\":{\"id\":\"dc99da5e-3415-418a-9fe9-676351340f7b\",\"type\":\"Circle\"},\"hover_glyph\":null,\"muted_glyph\":null,\"nonselection_glyph\":{\"id\":\"56e5b987-d663-4484-8933-2c7258633822\",\"type\":\"Circle\"},\"selection_glyph\":null,\"view\":{\"id\":\"7b16048a-cdd0-4570-a09c-565256baf0a2\",\"type\":\"CDSView\"}},\"id\":\"3bb99a8d-ce75-42d4-b7a3-1fd7a17d99cc\",\"type\":\"GlyphRenderer\"},{\"attributes\":{\"source\":{\"id\":\"50719cc1-6248-484b-ae76-cb42f4f62971\",\"type\":\"ColumnDataSource\"}},\"id\":\"7b16048a-cdd0-4570-a09c-565256baf0a2\",\"type\":\"CDSView\"},{\"attributes\":{\"line_color\":\"#4daf4a\",\"line_width\":1.5,\"x\":{\"field\":\"x\"},\"y\":{\"field\":\"y\"}},\"id\":\"217b9c3c-0fda-46b8-a67e-2dc402b21e06\",\"type\":\"Line\"},{\"attributes\":{\"data_source\":{\"id\":\"68fa3195-c2da-46b4-9d72-a3cfb4bcb956\",\"type\":\"ColumnDataSource\"},\"glyph\":{\"id\":\"217b9c3c-0fda-46b8-a67e-2dc402b21e06\",\"type\":\"Line\"},\"hover_glyph\":null,\"muted_glyph\":null,\"nonselection_glyph\":{\"id\":\"926c0ac4-b5ed-4c34-bccd-b8710d07dbca\",\"type\":\"Line\"},\"selection_glyph\":null,\"view\":{\"id\":\"a50caf06-b181-4d5d-b40d-12169b5588fa\",\"type\":\"CDSView\"}},\"id\":\"49c4155f-df9b-4632-8f52-5a8b2b62e63e\",\"type\":\"GlyphRenderer\"},{\"attributes\":{\"fill_alpha\":{\"value\":0.7},\"fill_color\":{\"value\":\"#4daf4a\"},\"line_alpha\":{\"value\":0.7},\"line_color\":{\"value\":\"#4daf4a\"},\"x\":{\"field\":\"x\"},\"y\":{\"field\":\"y\"}},\"id\":\"029f10df-8481-46a3-9c5d-5dc85db4502b\",\"type\":\"Circle\"},{\"attributes\":{\"line_alpha\":0.1,\"line_color\":\"#1f77b4\",\"line_width\":3,\"x\":{\"field\":\"x\"},\"y\":{\"field\":\"y\"}},\"id\":\"c8963126-4993-44c9-b9d3-a2e5146d2326\",\"type\":\"Line\"},{\"attributes\":{\"source\":{\"id\":\"bb18a729-e2d8-4d8f-a26e-834391399b39\",\"type\":\"ColumnDataSource\"}},\"id\":\"f75709b6-3f37-49e1-ab8c-b4d9e53961ab\",\"type\":\"CDSView\"},{\"attributes\":{\"line_color\":\"#4daf4a\",\"line_width\":1.5,\"x\":{\"field\":\"x\"},\"y\":{\"field\":\"y\"}},\"id\":\"ef33d361-d539-4da4-a133-201e98b72dda\",\"type\":\"Line\"},{\"attributes\":{},\"id\":\"2241ac87-718f-4bd1-8082-75022934d9e6\",\"type\":\"HelpTool\"},{\"attributes\":{\"fill_alpha\":{\"value\":0.1},\"fill_color\":{\"value\":\"#1f77b4\"},\"line_alpha\":{\"value\":0.1},\"line_color\":{\"value\":\"#1f77b4\"},\"x\":{\"field\":\"x\"},\"y\":{\"field\":\"y\"}},\"id\":\"56e5b987-d663-4484-8933-2c7258633822\",\"type\":\"Circle\"},{\"attributes\":{\"fill_alpha\":{\"value\":0.7},\"fill_color\":{\"value\":\"#984ea3\"},\"line_alpha\":{\"value\":0.7},\"line_color\":{\"value\":\"#984ea3\"},\"x\":{\"field\":\"x\"},\"y\":{\"field\":\"y\"}},\"id\":\"58158098-2f2f-4d1c-a9e4-4f6385bd8418\",\"type\":\"Square\"},{\"attributes\":{\"callback\":null,\"data\":{\"x\":{\"__ndarray__\":\"VqYNkQxKxr+9wh0PN2zFvw8jHw90X8O/xZX3q5AOwb9xlBzrH8+8vyetCVO58ba/Q4ZOj+htsL9gA+3BjG6iv+yCge9smXW/HcZSqkLinD8kdJpcxGywPzfLK9gTOLo/iwpKBHtCwj8O0zpI8rfGP8S00xC2esk/czr42nAfyz/tSy0RW03MP/0qSUo8EM0/IOLbyZqNzT/b+PrF8zbOPwC12vaLqs8/8vKp6P50yj+tIvvYGMC9P+A6/y26maw/PYMJKSSgnj/hyO7st9iSP6pzdpQHyIY/Sf0iFqTAfj/9xSn1cdB9Px6Hff7VlX4/hgp59YxffD+PZT70HX52P+GD8hT873Q/37U3TFghej9QDkz21+F9P08L6sFI4H8/dx6z/4O9gD9EG/5aM1SAP+MfZFfZfoQ/oJy40kqwiD/bE6bCSMiLP5tQTa2fS4o/ZBOYaXkthT9Pkf1wnu52P1dlPmaZXme/ia3LW06ugL/uweyZn6Fmv5ZZ8FDjM4A/et35ldEqlT8fmsyneKqhP8PDGGPzWak/vAxl8JYasT+RInEby/u0P4V1USPxXLc/j8pxm01AuD+NhDzHSEe4P7xZaxlzFLg/4AXSNVTYtz+exdsvNGS3P2owgYvDfbY/2dIPGHgAtT82QVRHbxqzP5wXB+EXArE/OJ1ZS/IJrj8BuV/uFuGqP6uyA4KDM6k/VBYnD7rRqT8NkS24MWKtP/RnWfurT7E/MlTGslNksj80CxxrCa2vP2xzejywxaU/On0suR5imD8ZgOqSc2iBPwOIJtObHJG/\",\"dtype\":\"float64\",\"shape\":[75]},\"y\":{\"__ndarray__\":\"GhExyth1ND/Sv8nbtpRIP2vylNV0PVE/aTum7souWD/At0SJ8fVgPw3Iuahxymc/MSNhhJWvcD/bTfBN02d3P2zb5nxnaoA/CD5h5MAGhz8NmeH1TyaQP+zrCsc9p5Y/LbKd76fGnz/bLW5ISEmmPww9YvTcQq8/JV2OstnstT8Er5Y7M8G+P0c+r3jqkcU/5h99k6ZBzj88bCIzFzjVP4enV8oyxN0//yH99nXg5D8qOpLLf0jtP5kqGJXUifQ/c9cS8kHP/D+/DpwzojQEQIEmwoanVwxA4lgXt9HgE0BSSZ2AJuIbQAMJih9jjiNA5q4l5INuK0AwTKYKRj0zQNv5fmq8/DpAaCJseHrtQkB/+zpwzoxKQM3MzMzMeFJAZmZmZmZqWEAAAAAAAFxeQM3MzMzMJmJAmpmZmZkfZUBmZmZmZhhoQDMzMzMzEWtAAAAAAAAKbkBmZmZmZoFwQM3MzMzM/XFAMzMzMzN6c0CamZmZmfZ0QAAAAAAAc3ZAZmZmZmbvd0DNzMzMzGt5QDMzMzMz6HpAmpmZmZlkfEAAAAAAAOF9QGZmZmZmXX9AZmZmZuZsgECamZmZGSuBQM3MzMxM6YFAAAAAAICngkAzMzMzs2WDQGZmZmbmI4RAmpmZmRnihEDNzMzMTKCFQAAAAACAXoZAMzMzM7Mch0BmZmZm5tqHQJqZmZkZmYhAzczMzExXiUAAAAAAgBWKQDMzMzOz04pAZmZmZuaRi0CamZmZGVCMQM3MzMxMDo1AAAAAAIDMjUAzMzMzs4qOQGZmZmbmSI9A\",\"dtype\":\"float64\",\"shape\":[75]}},\"selected\":{\"id\":\"0ea4c612-ced5-4668-abc0-e4dfe30cd331\",\"type\":\"Selection\"},\"selection_policy\":{\"id\":\"68d076c9-88d7-4271-8726-9f76e14135bc\",\"type\":\"UnionRenderers\"}},\"id\":\"2016a2fd-8f7b-4f13-8d43-3290c7c985da\",\"type\":\"ColumnDataSource\"},{\"attributes\":{\"callback\":null,\"data\":{\"x\":{\"__ndarray__\":\"5UIGbrTOyb/fxkU5wczIv/F2jETLLsa/NL2jSr08w7/GYw6bK/e/v+s7Jwy20Li/Y1bC77MFsb/YQesC2i2hv3ZhTWCYHl0/9mxB4mMfpD/QCeOfACe0P/6ZIG53pL4/diKY1QGxxD8qK5fXWxTJP19NVCWAUcs/PN4/cVs2zD8JxqCXeqvMPwojSVLK0sw/5SFbr0zszD9+RUzDz4PNPwwEATJ0bM8/o5ZBEHt8yj9Rrt8Cv/y9P5Y5eWtCVa0/87FYFo4Ynj97ShVfyWKQPyN9z1L2uYE/jr70QCyeeD+tfidQ/ah6P4x7c8A1hXs/eeXLIkwFeD9ope24EbFxP7Nthg80PHA/JSb2uev/dD/SEUtSqiB5P31IIKet5nw/Bp6tkvcJgD93OA/d66F/P0Z/vuaCHoM/QLTLwbAfhT94WdSmOK6FPwxDPWQePoM//A56BU0Dfj9TKGA684tvP9LUr49uRmW/zBoNQOnbeL/89EUAnqgDPyAUek6Re4Y/MxUkrkq/mj+vOc0j+/emP74vcHE70a8/Lz0qlgyUsz+5d7RBi0S2P4ABmapv8bc/vvj4PRexuD/dPSwT/6m4PxZQEIsEErg/B3oLmH4Rtz/pUgOdrsa1P9pqKhltRrQ/xZSjWwqjsj+k73UfbvGwP6IZpfq3k64/dFRwo8Ggqz/w03QawmGpPwaWMI4iT6g/mAvMcigvqT/6gyN23cOsP7ae9ptW+LA/eJBaBYoIsj+9uCckpv+uP9/Upx9LVKU/MXVSvQd4mD8YbTIDxSqEP19JGiWtzY6/\",\"dtype\":\"float64\",\"shape\":[75]},\"y\":{\"__ndarray__\":\"GhExyth1ND/Sv8nbtpRIP2vylNV0PVE/aTum7souWD/At0SJ8fVgPw3Iuahxymc/MSNhhJWvcD/bTfBN02d3P2zb5nxnaoA/CD5h5MAGhz8NmeH1TyaQP+zrCsc9p5Y/LbKd76fGnz/bLW5ISEmmPww9YvTcQq8/JV2OstnstT8Er5Y7M8G+P0c+r3jqkcU/5h99k6ZBzj88bCIzFzjVP4enV8oyxN0//yH99nXg5D8qOpLLf0jtP5kqGJXUifQ/c9cS8kHP/D+/DpwzojQEQIEmwoanVwxA4lgXt9HgE0BSSZ2AJuIbQAMJih9jjiNA5q4l5INuK0AwTKYKRj0zQNv5fmq8/DpAaCJseHrtQkB/+zpwzoxKQM3MzMzMeFJAZmZmZmZqWEAAAAAAAFxeQM3MzMzMJmJAmpmZmZkfZUBmZmZmZhhoQDMzMzMzEWtAAAAAAAAKbkBmZmZmZoFwQM3MzMzM/XFAMzMzMzN6c0CamZmZmfZ0QAAAAAAAc3ZAZmZmZmbvd0DNzMzMzGt5QDMzMzMz6HpAmpmZmZlkfEAAAAAAAOF9QGZmZmZmXX9AZmZmZuZsgECamZmZGSuBQM3MzMxM6YFAAAAAAICngkAzMzMzs2WDQGZmZmbmI4RAmpmZmRnihEDNzMzMTKCFQAAAAACAXoZAMzMzM7Mch0BmZmZm5tqHQJqZmZkZmYhAzczMzExXiUAAAAAAgBWKQDMzMzOz04pAZmZmZuaRi0CamZmZGVCMQM3MzMxMDo1AAAAAAIDMjUAzMzMzs4qOQGZmZmbmSI9A\",\"dtype\":\"float64\",\"shape\":[75]}},\"selected\":{\"id\":\"ecf086c2-a912-42ab-bdce-2ec5cf82b7de\",\"type\":\"Selection\"},\"selection_policy\":{\"id\":\"ac1e9a4b-5b79-4888-9a95-481e461afe4b\",\"type\":\"UnionRenderers\"}},\"id\":\"68fa3195-c2da-46b4-9d72-a3cfb4bcb956\",\"type\":\"ColumnDataSource\"},{\"attributes\":{\"callback\":null,\"end\":0.01,\"start\":1020},\"id\":\"52ae7eda-3f49-4fb8-b63f-edd0d7328625\",\"type\":\"Range1d\"},{\"attributes\":{\"children\":[{\"id\":\"2d4f4957-c4ad-4311-bb6b-af5cc82ce694\",\"subtype\":\"Figure\",\"type\":\"Plot\"},{\"id\":\"3c0e2902-1d0b-4753-8353-483dbc333d36\",\"subtype\":\"Figure\",\"type\":\"Plot\"}]},\"id\":\"67e0bace-4cce-47ef-918b-2b42b332561e\",\"type\":\"Row\"},{\"attributes\":{\"line_alpha\":0.1,\"line_color\":\"#1f77b4\",\"line_width\":1.5,\"x\":{\"field\":\"x\"},\"y\":{\"field\":\"y\"}},\"id\":\"926c0ac4-b5ed-4c34-bccd-b8710d07dbca\",\"type\":\"Line\"},{\"attributes\":{\"callback\":null,\"data\":{\"x\":{\"__ndarray__\":\"5UIGbrTOyb/fxkU5wczIv/F2jETLLsa/NL2jSr08w7/GYw6bK/e/v+s7Jwy20Li/Y1bC77MFsb/YQesC2i2hv3ZhTWCYHl0/9mxB4mMfpD/QCeOfACe0P/6ZIG53pL4/diKY1QGxxD8qK5fXWxTJP19NVCWAUcs/PN4/cVs2zD8JxqCXeqvMPwojSVLK0sw/5SFbr0zszD9+RUzDz4PNPwwEATJ0bM8/o5ZBEHt8yj9Rrt8Cv/y9P5Y5eWtCVa0/87FYFo4Ynj97ShVfyWKQPyN9z1L2uYE/jr70QCyeeD+tfidQ/ah6P4x7c8A1hXs/eeXLIkwFeD9ope24EbFxP7Nthg80PHA/JSb2uev/dD/SEUtSqiB5P31IIKet5nw/Bp6tkvcJgD93OA/d66F/P0Z/vuaCHoM/QLTLwbAfhT94WdSmOK6FPwxDPWQePoM//A56BU0Dfj9TKGA684tvP9LUr49uRmW/zBoNQOnbeL/89EUAnqgDPyAUek6Re4Y/MxUkrkq/mj+vOc0j+/emP74vcHE70a8/Lz0qlgyUsz+5d7RBi0S2P4ABmapv8bc/vvj4PRexuD/dPSwT/6m4PxZQEIsEErg/B3oLmH4Rtz/pUgOdrsa1P9pqKhltRrQ/xZSjWwqjsj+k73UfbvGwP6IZpfq3k64/dFRwo8Ggqz/w03QawmGpPwaWMI4iT6g/mAvMcigvqT/6gyN23cOsP7ae9ptW+LA/eJBaBYoIsj+9uCckpv+uP9/Upx9LVKU/MXVSvQd4mD8YbTIDxSqEP19JGiWtzY6/\",\"dtype\":\"float64\",\"shape\":[75]},\"y\":{\"__ndarray__\":\"GhExyth1ND/Sv8nbtpRIP2vylNV0PVE/aTum7souWD/At0SJ8fVgPw3Iuahxymc/MSNhhJWvcD/bTfBN02d3P2zb5nxnaoA/CD5h5MAGhz8NmeH1TyaQP+zrCsc9p5Y/LbKd76fGnz/bLW5ISEmmPww9YvTcQq8/JV2OstnstT8Er5Y7M8G+P0c+r3jqkcU/5h99k6ZBzj88bCIzFzjVP4enV8oyxN0//yH99nXg5D8qOpLLf0jtP5kqGJXUifQ/c9cS8kHP/D+/DpwzojQEQIEmwoanVwxA4lgXt9HgE0BSSZ2AJuIbQAMJih9jjiNA5q4l5INuK0AwTKYKRj0zQNv5fmq8/DpAaCJseHrtQkB/+zpwzoxKQM3MzMzMeFJAZmZmZmZqWEAAAAAAAFxeQM3MzMzMJmJAmpmZmZkfZUBmZmZmZhhoQDMzMzMzEWtAAAAAAAAKbkBmZmZmZoFwQM3MzMzM/XFAMzMzMzN6c0CamZmZmfZ0QAAAAAAAc3ZAZmZmZmbvd0DNzMzMzGt5QDMzMzMz6HpAmpmZmZlkfEAAAAAAAOF9QGZmZmZmXX9AZmZmZuZsgECamZmZGSuBQM3MzMxM6YFAAAAAAICngkAzMzMzs2WDQGZmZmbmI4RAmpmZmRnihEDNzMzMTKCFQAAAAACAXoZAMzMzM7Mch0BmZmZm5tqHQJqZmZkZmYhAzczMzExXiUAAAAAAgBWKQDMzMzOz04pAZmZmZuaRi0CamZmZGVCMQM3MzMxMDo1AAAAAAIDMjUAzMzMzs4qOQGZmZmbmSI9A\",\"dtype\":\"float64\",\"shape\":[75]}},\"selected\":{\"id\":\"57eb5a9f-05ad-43f2-8fd8-5dc480c28fcc\",\"type\":\"Selection\"},\"selection_policy\":{\"id\":\"0d1245af-e6cb-49ab-ab82-a13cf96eb9e2\",\"type\":\"UnionRenderers\"}},\"id\":\"6d7e8bd5-cd36-44e5-bcfd-60738c533a2f\",\"type\":\"ColumnDataSource\"},{\"attributes\":{\"callback\":null,\"data\":{\"x\":{\"__ndarray__\":\"5UIGbrTOyb/fxkU5wczIv/F2jETLLsa/NL2jSr08w7/GYw6bK/e/v+s7Jwy20Li/Y1bC77MFsb/YQesC2i2hv3ZhTWCYHl0/9mxB4mMfpD/QCeOfACe0P/6ZIG53pL4/diKY1QGxxD8qK5fXWxTJP19NVCWAUcs/PN4/cVs2zD8JxqCXeqvMPwojSVLK0sw/5SFbr0zszD9+RUzDz4PNPwwEATJ0bM8/o5ZBEHt8yj9Rrt8Cv/y9P5Y5eWtCVa0/87FYFo4Ynj97ShVfyWKQPyN9z1L2uYE/jr70QCyeeD+tfidQ/ah6P4x7c8A1hXs/eeXLIkwFeD9ope24EbFxP7Nthg80PHA/JSb2uev/dD/SEUtSqiB5P31IIKet5nw/Bp6tkvcJgD93OA/d66F/P0Z/vuaCHoM/QLTLwbAfhT94WdSmOK6FPwxDPWQePoM//A56BU0Dfj9TKGA684tvP9LUr49uRmW/zBoNQOnbeL/89EUAnqgDPyAUek6Re4Y/MxUkrkq/mj+vOc0j+/emP74vcHE70a8/Lz0qlgyUsz+5d7RBi0S2P4ABmapv8bc/vvj4PRexuD/dPSwT/6m4PxZQEIsEErg/B3oLmH4Rtz/pUgOdrsa1P9pqKhltRrQ/xZSjWwqjsj+k73UfbvGwP6IZpfq3k64/dFRwo8Ggqz/w03QawmGpPwaWMI4iT6g/mAvMcigvqT/6gyN23cOsP7ae9ptW+LA/eJBaBYoIsj+9uCckpv+uP9/Upx9LVKU/MXVSvQd4mD8YbTIDxSqEP19JGiWtzY6/\",\"dtype\":\"float64\",\"shape\":[75]},\"y\":{\"__ndarray__\":\"GhExyth1ND/Sv8nbtpRIP2vylNV0PVE/aTum7souWD/At0SJ8fVgPw3Iuahxymc/MSNhhJWvcD/bTfBN02d3P2zb5nxnaoA/CD5h5MAGhz8NmeH1TyaQP+zrCsc9p5Y/LbKd76fGnz/bLW5ISEmmPww9YvTcQq8/JV2OstnstT8Er5Y7M8G+P0c+r3jqkcU/5h99k6ZBzj88bCIzFzjVP4enV8oyxN0//yH99nXg5D8qOpLLf0jtP5kqGJXUifQ/c9cS8kHP/D+/DpwzojQEQIEmwoanVwxA4lgXt9HgE0BSSZ2AJuIbQAMJih9jjiNA5q4l5INuK0AwTKYKRj0zQNv5fmq8/DpAaCJseHrtQkB/+zpwzoxKQM3MzMzMeFJAZmZmZmZqWEAAAAAAAFxeQM3MzMzMJmJAmpmZmZkfZUBmZmZmZhhoQDMzMzMzEWtAAAAAAAAKbkBmZmZmZoFwQM3MzMzM/XFAMzMzMzN6c0CamZmZmfZ0QAAAAAAAc3ZAZmZmZmbvd0DNzMzMzGt5QDMzMzMz6HpAmpmZmZlkfEAAAAAAAOF9QGZmZmZmXX9AZmZmZuZsgECamZmZGSuBQM3MzMxM6YFAAAAAAICngkAzMzMzs2WDQGZmZmbmI4RAmpmZmRnihEDNzMzMTKCFQAAAAACAXoZAMzMzM7Mch0BmZmZm5tqHQJqZmZkZmYhAzczMzExXiUAAAAAAgBWKQDMzMzOz04pAZmZmZuaRi0CamZmZGVCMQM3MzMxMDo1AAAAAAIDMjUAzMzMzs4qOQGZmZmbmSI9A\",\"dtype\":\"float64\",\"shape\":[75]}},\"selected\":{\"id\":\"206de6ce-19bb-43b2-8a53-b1b7b60943b7\",\"type\":\"Selection\"},\"selection_policy\":{\"id\":\"4cb0b67f-64ff-44f6-ac95-2456200d962a\",\"type\":\"UnionRenderers\"}},\"id\":\"50719cc1-6248-484b-ae76-cb42f4f62971\",\"type\":\"ColumnDataSource\"},{\"attributes\":{\"callback\":null,\"data\":{\"x\":{\"__ndarray__\":\"5UIGbrTOyb/fxkU5wczIv/F2jETLLsa/NL2jSr08w7/GYw6bK/e/v+s7Jwy20Li/Y1bC77MFsb/YQesC2i2hv3ZhTWCYHl0/9mxB4mMfpD/QCeOfACe0P/6ZIG53pL4/diKY1QGxxD8qK5fXWxTJP19NVCWAUcs/PN4/cVs2zD8JxqCXeqvMPwojSVLK0sw/5SFbr0zszD9+RUzDz4PNPwwEATJ0bM8/o5ZBEHt8yj9Rrt8Cv/y9P5Y5eWtCVa0/87FYFo4Ynj97ShVfyWKQPyN9z1L2uYE/jr70QCyeeD+tfidQ/ah6P4x7c8A1hXs/eeXLIkwFeD9ope24EbFxP7Nthg80PHA/JSb2uev/dD/SEUtSqiB5P31IIKet5nw/Bp6tkvcJgD93OA/d66F/P0Z/vuaCHoM/QLTLwbAfhT94WdSmOK6FPwxDPWQePoM//A56BU0Dfj9TKGA684tvP9LUr49uRmW/zBoNQOnbeL/89EUAnqgDPyAUek6Re4Y/MxUkrkq/mj+vOc0j+/emP74vcHE70a8/Lz0qlgyUsz+5d7RBi0S2P4ABmapv8bc/vvj4PRexuD/dPSwT/6m4PxZQEIsEErg/B3oLmH4Rtz/pUgOdrsa1P9pqKhltRrQ/xZSjWwqjsj+k73UfbvGwP6IZpfq3k64/dFRwo8Ggqz/w03QawmGpPwaWMI4iT6g/mAvMcigvqT/6gyN23cOsP7ae9ptW+LA/eJBaBYoIsj+9uCckpv+uP9/Upx9LVKU/MXVSvQd4mD8YbTIDxSqEP19JGiWtzY6/\",\"dtype\":\"float64\",\"shape\":[75]},\"y\":{\"__ndarray__\":\"GhExyth1ND/Sv8nbtpRIP2vylNV0PVE/aTum7souWD/At0SJ8fVgPw3Iuahxymc/MSNhhJWvcD/bTfBN02d3P2zb5nxnaoA/CD5h5MAGhz8NmeH1TyaQP+zrCsc9p5Y/LbKd76fGnz/bLW5ISEmmPww9YvTcQq8/JV2OstnstT8Er5Y7M8G+P0c+r3jqkcU/5h99k6ZBzj88bCIzFzjVP4enV8oyxN0//yH99nXg5D8qOpLLf0jtP5kqGJXUifQ/c9cS8kHP/D+/DpwzojQEQIEmwoanVwxA4lgXt9HgE0BSSZ2AJuIbQAMJih9jjiNA5q4l5INuK0AwTKYKRj0zQNv5fmq8/DpAaCJseHrtQkB/+zpwzoxKQM3MzMzMeFJAZmZmZmZqWEAAAAAAAFxeQM3MzMzMJmJAmpmZmZkfZUBmZmZmZhhoQDMzMzMzEWtAAAAAAAAKbkBmZmZmZoFwQM3MzMzM/XFAMzMzMzN6c0CamZmZmfZ0QAAAAAAAc3ZAZmZmZmbvd0DNzMzMzGt5QDMzMzMz6HpAmpmZmZlkfEAAAAAAAOF9QGZmZmZmXX9AZmZmZuZsgECamZmZGSuBQM3MzMxM6YFAAAAAAICngkAzMzMzs2WDQGZmZmbmI4RAmpmZmRnihEDNzMzMTKCFQAAAAACAXoZAMzMzM7Mch0BmZmZm5tqHQJqZmZkZmYhAzczMzExXiUAAAAAAgBWKQDMzMzOz04pAZmZmZuaRi0CamZmZGVCMQM3MzMxMDo1AAAAAAIDMjUAzMzMzs4qOQGZmZmbmSI9A\",\"dtype\":\"float64\",\"shape\":[75]}},\"selected\":{\"id\":\"974ec77d-b3a0-490e-b718-248173803efb\",\"type\":\"Selection\"},\"selection_policy\":{\"id\":\"63be864a-57fe-4f49-9f55-d2ef70f1ff43\",\"type\":\"UnionRenderers\"}},\"id\":\"2e88f3c1-ad6b-480c-83d2-aabaa57c5b6a\",\"type\":\"ColumnDataSource\"},{\"attributes\":{\"fill_alpha\":{\"value\":0.7},\"fill_color\":{\"value\":\"#4daf4a\"},\"line_alpha\":{\"value\":0.7},\"line_color\":{\"value\":\"#4daf4a\"},\"x\":{\"field\":\"x\"},\"y\":{\"field\":\"y\"}},\"id\":\"dc99da5e-3415-418a-9fe9-676351340f7b\",\"type\":\"Circle\"},{\"attributes\":{\"line_alpha\":0.1,\"line_color\":\"#1f77b4\",\"line_width\":1.5,\"x\":{\"field\":\"x\"},\"y\":{\"field\":\"y\"}},\"id\":\"4930894b-617e-4d77-9f9f-0ec800e53a98\",\"type\":\"Line\"},{\"attributes\":{\"source\":{\"id\":\"2e88f3c1-ad6b-480c-83d2-aabaa57c5b6a\",\"type\":\"ColumnDataSource\"}},\"id\":\"6f4b2dc0-8a36-4d65-a1bd-b5b95a81754a\",\"type\":\"CDSView\"},{\"attributes\":{\"data_source\":{\"id\":\"6d7e8bd5-cd36-44e5-bcfd-60738c533a2f\",\"type\":\"ColumnDataSource\"},\"glyph\":{\"id\":\"ef33d361-d539-4da4-a133-201e98b72dda\",\"type\":\"Line\"},\"hover_glyph\":null,\"muted_glyph\":null,\"nonselection_glyph\":{\"id\":\"4930894b-617e-4d77-9f9f-0ec800e53a98\",\"type\":\"Line\"},\"selection_glyph\":null,\"view\":{\"id\":\"a6ee2f7d-8ac5-4e78-9e21-ebb5ab4edfa9\",\"type\":\"CDSView\"}},\"id\":\"56e9e3e0-7ae7-4e6d-b17e-9002cc3f16ca\",\"type\":\"GlyphRenderer\"},{\"attributes\":{\"source\":{\"id\":\"6d7e8bd5-cd36-44e5-bcfd-60738c533a2f\",\"type\":\"ColumnDataSource\"}},\"id\":\"a6ee2f7d-8ac5-4e78-9e21-ebb5ab4edfa9\",\"type\":\"CDSView\"},{\"attributes\":{\"source\":{\"id\":\"68fa3195-c2da-46b4-9d72-a3cfb4bcb956\",\"type\":\"ColumnDataSource\"}},\"id\":\"a50caf06-b181-4d5d-b40d-12169b5588fa\",\"type\":\"CDSView\"},{\"attributes\":{\"fill_alpha\":{\"value\":0.7},\"fill_color\":{\"value\":\"#984ea3\"},\"line_alpha\":{\"value\":0.7},\"line_color\":{\"value\":\"#984ea3\"},\"x\":{\"field\":\"x\"},\"y\":{\"field\":\"y\"}},\"id\":\"4f2a0fc7-ff74-487c-8872-76c6f1bde554\",\"type\":\"Square\"},{\"attributes\":{\"data_source\":{\"id\":\"32916c1b-95a8-4a11-adf6-9791895f2f16\",\"type\":\"ColumnDataSource\"},\"glyph\":{\"id\":\"ff48a27d-8338-45be-b638-3a570fd42442\",\"type\":\"Line\"},\"hover_glyph\":null,\"muted_glyph\":null,\"nonselection_glyph\":{\"id\":\"c8963126-4993-44c9-b9d3-a2e5146d2326\",\"type\":\"Line\"},\"selection_glyph\":null,\"view\":{\"id\":\"8b634f20-5989-48a3-9633-4c84e5ea3882\",\"type\":\"CDSView\"}},\"id\":\"fd339102-f3a3-4515-9890-cd6418203c2a\",\"type\":\"GlyphRenderer\"},{\"attributes\":{\"line_alpha\":0.6,\"line_color\":\"#984ea3\",\"line_width\":3,\"x\":{\"field\":\"x\"},\"y\":{\"field\":\"y\"}},\"id\":\"ff48a27d-8338-45be-b638-3a570fd42442\",\"type\":\"Line\"},{\"attributes\":{\"source\":{\"id\":\"32916c1b-95a8-4a11-adf6-9791895f2f16\",\"type\":\"ColumnDataSource\"}},\"id\":\"8b634f20-5989-48a3-9633-4c84e5ea3882\",\"type\":\"CDSView\"},{\"attributes\":{},\"id\":\"9655318a-7d72-47d8-9c99-e2af6b058b32\",\"type\":\"BasicTickFormatter\"},{\"attributes\":{\"callback\":null,\"data\":{\"x\":{\"__ndarray__\":\"VqYNkQxKxr+9wh0PN2zFvw8jHw90X8O/xZX3q5AOwb9xlBzrH8+8vyetCVO58ba/Q4ZOj+htsL9gA+3BjG6iv+yCge9smXW/HcZSqkLinD8kdJpcxGywPzfLK9gTOLo/iwpKBHtCwj8O0zpI8rfGP8S00xC2esk/czr42nAfyz/tSy0RW03MP/0qSUo8EM0/IOLbyZqNzT/b+PrF8zbOPwC12vaLqs8/8vKp6P50yj+tIvvYGMC9P+A6/y26maw/PYMJKSSgnj/hyO7st9iSP6pzdpQHyIY/Sf0iFqTAfj/9xSn1cdB9Px6Hff7VlX4/hgp59YxffD+PZT70HX52P+GD8hT873Q/37U3TFghej9QDkz21+F9P08L6sFI4H8/dx6z/4O9gD9EG/5aM1SAP+MfZFfZfoQ/oJy40kqwiD/bE6bCSMiLP5tQTa2fS4o/ZBOYaXkthT9Pkf1wnu52P1dlPmaZXme/ia3LW06ugL/uweyZn6Fmv5ZZ8FDjM4A/et35ldEqlT8fmsyneKqhP8PDGGPzWak/vAxl8JYasT+RInEby/u0P4V1USPxXLc/j8pxm01AuD+NhDzHSEe4P7xZaxlzFLg/4AXSNVTYtz+exdsvNGS3P2owgYvDfbY/2dIPGHgAtT82QVRHbxqzP5wXB+EXArE/OJ1ZS/IJrj8BuV/uFuGqP6uyA4KDM6k/VBYnD7rRqT8NkS24MWKtP/RnWfurT7E/MlTGslNksj80CxxrCa2vP2xzejywxaU/On0suR5imD8ZgOqSc2iBPwOIJtObHJG/\",\"dtype\":\"float64\",\"shape\":[75]},\"y\":{\"__ndarray__\":\"GhExyth1ND/Sv8nbtpRIP2vylNV0PVE/aTum7souWD/At0SJ8fVgPw3Iuahxymc/MSNhhJWvcD/bTfBN02d3P2zb5nxnaoA/CD5h5MAGhz8NmeH1TyaQP+zrCsc9p5Y/LbKd76fGnz/bLW5ISEmmPww9YvTcQq8/JV2OstnstT8Er5Y7M8G+P0c+r3jqkcU/5h99k6ZBzj88bCIzFzjVP4enV8oyxN0//yH99nXg5D8qOpLLf0jtP5kqGJXUifQ/c9cS8kHP/D+/DpwzojQEQIEmwoanVwxA4lgXt9HgE0BSSZ2AJuIbQAMJih9jjiNA5q4l5INuK0AwTKYKRj0zQNv5fmq8/DpAaCJseHrtQkB/+zpwzoxKQM3MzMzMeFJAZmZmZmZqWEAAAAAAAFxeQM3MzMzMJmJAmpmZmZkfZUBmZmZmZhhoQDMzMzMzEWtAAAAAAAAKbkBmZmZmZoFwQM3MzMzM/XFAMzMzMzN6c0CamZmZmfZ0QAAAAAAAc3ZAZmZmZmbvd0DNzMzMzGt5QDMzMzMz6HpAmpmZmZlkfEAAAAAAAOF9QGZmZmZmXX9AZmZmZuZsgECamZmZGSuBQM3MzMxM6YFAAAAAAICngkAzMzMzs2WDQGZmZmbmI4RAmpmZmRnihEDNzMzMTKCFQAAAAACAXoZAMzMzM7Mch0BmZmZm5tqHQJqZmZkZmYhAzczMzExXiUAAAAAAgBWKQDMzMzOz04pAZmZmZuaRi0CamZmZGVCMQM3MzMxMDo1AAAAAAIDMjUAzMzMzs4qOQGZmZmbmSI9A\",\"dtype\":\"float64\",\"shape\":[75]}},\"selected\":{\"id\":\"7e164f74-4172-48d5-8d75-f4df499f2a4d\",\"type\":\"Selection\"},\"selection_policy\":{\"id\":\"72354135-c9e3-431a-b943-ad4d75ca08a5\",\"type\":\"UnionRenderers\"}},\"id\":\"dda318a8-a552-4824-b7bb-5db7256e9cd6\",\"type\":\"ColumnDataSource\"},{\"attributes\":{\"label\":{\"value\":\"CLIRAD `coolr_bands`\"},\"renderers\":[{\"id\":\"7f5feea1-05a6-4846-a629-1e541733221b\",\"type\":\"GlyphRenderer\"}]},\"id\":\"58ed1cf9-5372-4d9e-ac24-90c5fdba31c5\",\"type\":\"LegendItem\"},{\"attributes\":{},\"id\":\"72354135-c9e3-431a-b943-ad4d75ca08a5\",\"type\":\"UnionRenderers\"},{\"attributes\":{},\"id\":\"540781d2-2c07-43d4-bcf7-1b9c2152386d\",\"type\":\"BasicTickFormatter\"},{\"attributes\":{\"label\":{\"value\":\"WGT igg=10 wgt_flux=2\"},\"renderers\":[{\"id\":\"2204496f-4617-4156-ae5d-13db705c02c1\",\"type\":\"GlyphRenderer\"},{\"id\":\"fd339102-f3a3-4515-9890-cd6418203c2a\",\"type\":\"GlyphRenderer\"}]},\"id\":\"7967da31-8590-4108-baed-8d269000418c\",\"type\":\"LegendItem\"},{\"attributes\":{},\"id\":\"6e86ac8e-43d5-44bd-8c90-42224179f14e\",\"type\":\"UnionRenderers\"},{\"attributes\":{},\"id\":\"9a07f3ff-1ccf-4d37-ac43-639ddb152a8b\",\"type\":\"UnionRenderers\"},{\"attributes\":{},\"id\":\"974ec77d-b3a0-490e-b718-248173803efb\",\"type\":\"Selection\"},{\"attributes\":{},\"id\":\"5d2c3026-db67-45ae-9119-200c1b8ae2da\",\"type\":\"Selection\"},{\"attributes\":{},\"id\":\"63be864a-57fe-4f49-9f55-d2ef70f1ff43\",\"type\":\"UnionRenderers\"},{\"attributes\":{},\"id\":\"ac1e9a4b-5b79-4888-9a95-481e461afe4b\",\"type\":\"UnionRenderers\"},{\"attributes\":{\"bottom_units\":\"screen\",\"fill_alpha\":{\"value\":0.5},\"fill_color\":{\"value\":\"lightgrey\"},\"left_units\":\"screen\",\"level\":\"overlay\",\"line_alpha\":{\"value\":1.0},\"line_color\":{\"value\":\"black\"},\"line_dash\":[4,4],\"line_width\":{\"value\":2},\"plot\":null,\"render_mode\":\"css\",\"right_units\":\"screen\",\"top_units\":\"screen\"},\"id\":\"ab524e00-3de6-49e5-9774-ede0a8e4cef3\",\"type\":\"BoxAnnotation\"},{\"attributes\":{},\"id\":\"19d6e907-fc23-4673-ad7e-19cab1988181\",\"type\":\"Selection\"},{\"attributes\":{},\"id\":\"ecf086c2-a912-42ab-bdce-2ec5cf82b7de\",\"type\":\"Selection\"},{\"attributes\":{},\"id\":\"9639b1d0-9aef-4242-b6f3-8cd66eac3a32\",\"type\":\"BasicTickFormatter\"},{\"attributes\":{},\"id\":\"7e164f74-4172-48d5-8d75-f4df499f2a4d\",\"type\":\"Selection\"},{\"attributes\":{\"ticker\":null},\"id\":\"7f442a92-e5d4-4fc1-9e36-9a483afe61c3\",\"type\":\"LogTickFormatter\"},{\"attributes\":{},\"id\":\"8f508a36-6e7a-4003-bbd1-051165397bea\",\"type\":\"Selection\"}],\"root_ids\":[\"7e86e1eb-3ddc-4558-9c67-f8e2dd3a9456\"]},\"title\":\"Bokeh Application\",\"version\":\"0.12.16\"}};\n",
       "  var render_items = [{\"docid\":\"c464943a-d908-4cb7-ac3d-114bfd7a8ee6\",\"elementid\":\"608b0016-b107-42e4-b78b-76451f93cadd\",\"modelid\":\"7e86e1eb-3ddc-4558-9c67-f8e2dd3a9456\"}];\n",
       "  root.Bokeh.embed.embed_items_notebook(docs_json, render_items);\n",
       "\n",
       "  }\n",
       "  if (root.Bokeh !== undefined) {\n",
       "    embed_document(root);\n",
       "  } else {\n",
       "    var attempts = 0;\n",
       "    var timer = setInterval(function(root) {\n",
       "      if (root.Bokeh !== undefined) {\n",
       "        embed_document(root);\n",
       "        clearInterval(timer);\n",
       "      }\n",
       "      attempts++;\n",
       "      if (attempts > 100) {\n",
       "        console.log(\"Bokeh: ERROR: Unable to run BokehJS code because BokehJS library is missing\")\n",
       "        clearInterval(timer);\n",
       "      }\n",
       "    }, 10, root)\n",
       "  }\n",
       "})(window);"
      ],
      "application/vnd.bokehjs_exec.v0+json": ""
     },
     "metadata": {
      "application/vnd.bokehjs_exec.v0+json": {
       "id": "7e86e1eb-3ddc-4558-9c67-f8e2dd3a9456"
      }
     },
     "output_type": "display_data"
    },
    {
     "name": "stdout",
     "output_type": "stream",
     "text": [
      "FIGURE. Cooling rate profiles.\n"
     ]
    },
    {
     "data": {
      "text/html": [
       "<a id=\"Flux_Comparison\"></a>"
      ],
      "text/plain": [
       "<IPython.core.display.HTML object>"
      ]
     },
     "metadata": {},
     "output_type": "display_data"
    },
    {
     "data": {
      "text/markdown": [
       "# Flux Comparison"
      ],
      "text/plain": [
       "<IPython.core.display.Markdown object>"
      ]
     },
     "metadata": {},
     "output_type": "display_data"
    },
    {
     "data": {
      "text/html": [
       "<div>\n",
       "<style scoped>\n",
       "    .dataframe tbody tr th:only-of-type {\n",
       "        vertical-align: middle;\n",
       "    }\n",
       "\n",
       "    .dataframe tbody tr th {\n",
       "        vertical-align: top;\n",
       "    }\n",
       "\n",
       "    .dataframe thead th {\n",
       "        text-align: right;\n",
       "    }\n",
       "</style>\n",
       "<table border=\"1\" class=\"dataframe\">\n",
       "  <thead>\n",
       "    <tr style=\"text-align: right;\">\n",
       "      <th></th>\n",
       "      <th></th>\n",
       "      <th>flug</th>\n",
       "      <th>fldg</th>\n",
       "      <th>fnetg</th>\n",
       "    </tr>\n",
       "    <tr>\n",
       "      <th>pressure</th>\n",
       "      <th>level</th>\n",
       "      <th></th>\n",
       "      <th></th>\n",
       "      <th></th>\n",
       "    </tr>\n",
       "  </thead>\n",
       "  <tbody>\n",
       "    <tr>\n",
       "      <th>0.0000</th>\n",
       "      <th>1</th>\n",
       "      <td>-4.883807</td>\n",
       "      <td>0.000000</td>\n",
       "      <td>-4.883807</td>\n",
       "    </tr>\n",
       "    <tr>\n",
       "      <th>1.0685</th>\n",
       "      <th>24</th>\n",
       "      <td>-4.877047</td>\n",
       "      <td>0.017023</td>\n",
       "      <td>-4.860024</td>\n",
       "    </tr>\n",
       "    <tr>\n",
       "      <th>1013.0000</th>\n",
       "      <th>76</th>\n",
       "      <td>-10.181441</td>\n",
       "      <td>10.209751</td>\n",
       "      <td>0.028310</td>\n",
       "    </tr>\n",
       "  </tbody>\n",
       "</table>\n",
       "</div>"
      ],
      "text/plain": [
       "                      flug       fldg     fnetg\n",
       "pressure  level                                \n",
       "0.0000    1      -4.883807   0.000000 -4.883807\n",
       "1.0685    24     -4.877047   0.017023 -4.860024\n",
       "1013.0000 76    -10.181441  10.209751  0.028310"
      ]
     },
     "metadata": {},
     "output_type": "display_data"
    },
    {
     "name": "stdout",
     "output_type": "stream",
     "text": [
      "Table. Fluxes. CRD\n"
     ]
    },
    {
     "data": {
      "text/html": [
       "<div>\n",
       "<style scoped>\n",
       "    .dataframe tbody tr th:only-of-type {\n",
       "        vertical-align: middle;\n",
       "    }\n",
       "\n",
       "    .dataframe tbody tr th {\n",
       "        vertical-align: top;\n",
       "    }\n",
       "\n",
       "    .dataframe thead th {\n",
       "        text-align: right;\n",
       "    }\n",
       "</style>\n",
       "<table border=\"1\" class=\"dataframe\">\n",
       "  <thead>\n",
       "    <tr style=\"text-align: right;\">\n",
       "      <th></th>\n",
       "      <th></th>\n",
       "      <th>flug</th>\n",
       "      <th>fldg</th>\n",
       "      <th>fnetg</th>\n",
       "    </tr>\n",
       "    <tr>\n",
       "      <th>pressure</th>\n",
       "      <th>level</th>\n",
       "      <th></th>\n",
       "      <th></th>\n",
       "      <th></th>\n",
       "    </tr>\n",
       "  </thead>\n",
       "  <tbody>\n",
       "    <tr>\n",
       "      <th>0.0000</th>\n",
       "      <th>1</th>\n",
       "      <td>-4.918822</td>\n",
       "      <td>0.000000</td>\n",
       "      <td>-4.918822</td>\n",
       "    </tr>\n",
       "    <tr>\n",
       "      <th>1.0685</th>\n",
       "      <th>24</th>\n",
       "      <td>-4.911915</td>\n",
       "      <td>0.016845</td>\n",
       "      <td>-4.895070</td>\n",
       "    </tr>\n",
       "    <tr>\n",
       "      <th>1013.0000</th>\n",
       "      <th>76</th>\n",
       "      <td>-10.181441</td>\n",
       "      <td>10.223037</td>\n",
       "      <td>0.041596</td>\n",
       "    </tr>\n",
       "  </tbody>\n",
       "</table>\n",
       "</div>"
      ],
      "text/plain": [
       "                      flug       fldg     fnetg\n",
       "pressure  level                                \n",
       "0.0000    1      -4.918822   0.000000 -4.918822\n",
       "1.0685    24     -4.911915   0.016845 -4.895070\n",
       "1013.0000 76    -10.181441  10.223037  0.041596"
      ]
     },
     "metadata": {},
     "output_type": "display_data"
    },
    {
     "name": "stdout",
     "output_type": "stream",
     "text": [
      "Table. Fluxes. WGT igg=10 wgt_flux=1\n"
     ]
    },
    {
     "data": {
      "text/html": [
       "<div>\n",
       "<style scoped>\n",
       "    .dataframe tbody tr th:only-of-type {\n",
       "        vertical-align: middle;\n",
       "    }\n",
       "\n",
       "    .dataframe tbody tr th {\n",
       "        vertical-align: top;\n",
       "    }\n",
       "\n",
       "    .dataframe thead th {\n",
       "        text-align: right;\n",
       "    }\n",
       "</style>\n",
       "<table border=\"1\" class=\"dataframe\">\n",
       "  <thead>\n",
       "    <tr style=\"text-align: right;\">\n",
       "      <th></th>\n",
       "      <th></th>\n",
       "      <th>flug</th>\n",
       "      <th>fldg</th>\n",
       "      <th>fnetg</th>\n",
       "    </tr>\n",
       "    <tr>\n",
       "      <th>pressure</th>\n",
       "      <th>level</th>\n",
       "      <th></th>\n",
       "      <th></th>\n",
       "      <th></th>\n",
       "    </tr>\n",
       "  </thead>\n",
       "  <tbody>\n",
       "    <tr>\n",
       "      <th>1.000000e-08</th>\n",
       "      <th>1</th>\n",
       "      <td>0.0</td>\n",
       "      <td>0.0</td>\n",
       "      <td>0.0</td>\n",
       "    </tr>\n",
       "    <tr>\n",
       "      <th>1.068500e+00</th>\n",
       "      <th>24</th>\n",
       "      <td>0.0</td>\n",
       "      <td>0.0</td>\n",
       "      <td>0.0</td>\n",
       "    </tr>\n",
       "    <tr>\n",
       "      <th>1.013000e+03</th>\n",
       "      <th>76</th>\n",
       "      <td>0.0</td>\n",
       "      <td>0.0</td>\n",
       "      <td>0.0</td>\n",
       "    </tr>\n",
       "  </tbody>\n",
       "</table>\n",
       "</div>"
      ],
      "text/plain": [
       "                    flug  fldg  fnetg\n",
       "pressure     level                   \n",
       "1.000000e-08 1       0.0   0.0    0.0\n",
       "1.068500e+00 24      0.0   0.0    0.0\n",
       "1.013000e+03 76      0.0   0.0    0.0"
      ]
     },
     "metadata": {},
     "output_type": "display_data"
    },
    {
     "name": "stdout",
     "output_type": "stream",
     "text": [
      "Table. Fluxes. CLIRAD\n"
     ]
    },
    {
     "data": {
      "text/html": [
       "<div>\n",
       "<style scoped>\n",
       "    .dataframe tbody tr th:only-of-type {\n",
       "        vertical-align: middle;\n",
       "    }\n",
       "\n",
       "    .dataframe tbody tr th {\n",
       "        vertical-align: top;\n",
       "    }\n",
       "\n",
       "    .dataframe thead th {\n",
       "        text-align: right;\n",
       "    }\n",
       "</style>\n",
       "<table border=\"1\" class=\"dataframe\">\n",
       "  <thead>\n",
       "    <tr style=\"text-align: right;\">\n",
       "      <th></th>\n",
       "      <th></th>\n",
       "      <th>flug</th>\n",
       "      <th>fldg</th>\n",
       "      <th>fnetg</th>\n",
       "    </tr>\n",
       "    <tr>\n",
       "      <th>pressure</th>\n",
       "      <th>level</th>\n",
       "      <th></th>\n",
       "      <th></th>\n",
       "      <th></th>\n",
       "    </tr>\n",
       "  </thead>\n",
       "  <tbody>\n",
       "    <tr>\n",
       "      <th>0.0000</th>\n",
       "      <th>1</th>\n",
       "      <td>-3.501474e-02</td>\n",
       "      <td>0.000000</td>\n",
       "      <td>-0.035015</td>\n",
       "    </tr>\n",
       "    <tr>\n",
       "      <th>1.0685</th>\n",
       "      <th>24</th>\n",
       "      <td>-3.486865e-02</td>\n",
       "      <td>-0.000178</td>\n",
       "      <td>-0.035047</td>\n",
       "    </tr>\n",
       "    <tr>\n",
       "      <th>1013.0000</th>\n",
       "      <th>76</th>\n",
       "      <td>1.370000e-07</td>\n",
       "      <td>0.013286</td>\n",
       "      <td>0.013286</td>\n",
       "    </tr>\n",
       "  </tbody>\n",
       "</table>\n",
       "</div>"
      ],
      "text/plain": [
       "                         flug      fldg     fnetg\n",
       "pressure  level                                  \n",
       "0.0000    1     -3.501474e-02  0.000000 -0.035015\n",
       "1.0685    24    -3.486865e-02 -0.000178 -0.035047\n",
       "1013.0000 76     1.370000e-07  0.013286  0.013286"
      ]
     },
     "metadata": {},
     "output_type": "display_data"
    },
    {
     "name": "stdout",
     "output_type": "stream",
     "text": [
      "Table. Fluxes. (WGT igg=10 wgt_flux=1) - (CRD)\n"
     ]
    },
    {
     "data": {
      "text/html": [
       "<div>\n",
       "<style scoped>\n",
       "    .dataframe tbody tr th:only-of-type {\n",
       "        vertical-align: middle;\n",
       "    }\n",
       "\n",
       "    .dataframe tbody tr th {\n",
       "        vertical-align: top;\n",
       "    }\n",
       "\n",
       "    .dataframe thead th {\n",
       "        text-align: right;\n",
       "    }\n",
       "</style>\n",
       "<table border=\"1\" class=\"dataframe\">\n",
       "  <thead>\n",
       "    <tr style=\"text-align: right;\">\n",
       "      <th></th>\n",
       "      <th></th>\n",
       "      <th>flug</th>\n",
       "      <th>fldg</th>\n",
       "      <th>fnetg</th>\n",
       "    </tr>\n",
       "    <tr>\n",
       "      <th>pressure</th>\n",
       "      <th>level</th>\n",
       "      <th></th>\n",
       "      <th></th>\n",
       "      <th></th>\n",
       "    </tr>\n",
       "  </thead>\n",
       "  <tbody>\n",
       "    <tr>\n",
       "      <th>0.0000</th>\n",
       "      <th>1</th>\n",
       "      <td>4.883807</td>\n",
       "      <td>0.000000</td>\n",
       "      <td>4.883807</td>\n",
       "    </tr>\n",
       "    <tr>\n",
       "      <th>1.0685</th>\n",
       "      <th>24</th>\n",
       "      <td>4.877047</td>\n",
       "      <td>-0.017023</td>\n",
       "      <td>4.860024</td>\n",
       "    </tr>\n",
       "    <tr>\n",
       "      <th>1013.0000</th>\n",
       "      <th>76</th>\n",
       "      <td>10.181441</td>\n",
       "      <td>-10.209751</td>\n",
       "      <td>-0.028310</td>\n",
       "    </tr>\n",
       "  </tbody>\n",
       "</table>\n",
       "</div>"
      ],
      "text/plain": [
       "                      flug       fldg     fnetg\n",
       "pressure  level                                \n",
       "0.0000    1       4.883807   0.000000  4.883807\n",
       "1.0685    24      4.877047  -0.017023  4.860024\n",
       "1013.0000 76     10.181441 -10.209751 -0.028310"
      ]
     },
     "metadata": {},
     "output_type": "display_data"
    },
    {
     "name": "stdout",
     "output_type": "stream",
     "text": [
      "Table. Fluxes. (CLIRAD) - (CRD)\n"
     ]
    },
    {
     "data": {
      "text/html": [
       "<a id=\"Best-fit_Parameters\"></a>"
      ],
      "text/plain": [
       "<IPython.core.display.HTML object>"
      ]
     },
     "metadata": {},
     "output_type": "display_data"
    },
    {
     "data": {
      "text/markdown": [
       "# Best-fit Parameters"
      ],
      "text/plain": [
       "<IPython.core.display.Markdown object>"
      ]
     },
     "metadata": {},
     "output_type": "display_data"
    },
    {
     "name": "stdout",
     "output_type": "stream",
     "text": [
      "Best-fit values for each (gas, band)\n",
      "------------------------------------\n",
      "o h2o band8\n",
      "  atmpro = mls\n",
      "  band = 8\n",
      "  commitnumber = a06b618\n",
      "  conc = None\n",
      "  dv = 0.001\n",
      "  klin = 0\n",
      "  molecule = h2o\n",
      "  ng_adju = [0, -1, 0]\n",
      "  ng_refs = [3, 2, 3]\n",
      "  nv = 1000\n",
      "  option_compute_btable = 0\n",
      "  option_compute_ktable = 1\n",
      "  option_wgt_flux = 1\n",
      "  option_wgt_k = 1\n",
      "  ref_pts = [(1, 250), (10, 250), (500, 250)]\n",
      "  tsfc = 294\n",
      "  vmax = 1900\n",
      "  vmin = 1380\n",
      "  w_diffuse = [(1.66, 1.66, 1.66), (1.66, 1.66), (1.66, 1.66, 1.66)]\n",
      "  wgt = [(0.55, 0.55, 0.85), (0.85, 0.85), (0, 0.3, 0.55)]\n"
     ]
    }
   ],
   "source": [
    "script()"
   ]
  },
  {
   "cell_type": "code",
   "execution_count": 13,
   "metadata": {
    "collapsed": true
   },
   "outputs": [
    {
     "data": {
      "text/html": [
       "<script>\n",
       "code_show=true; \n",
       "function code_toggle() {\n",
       " if (code_show){\n",
       " $('div.input').hide();\n",
       " } else {\n",
       " $('div.input').show();\n",
       " }\n",
       " code_show = !code_show\n",
       "} \n",
       "$( document ).ready(code_toggle);\n",
       "</script>\n",
       "<form action=\"javascript:code_toggle()\"><input type=\"submit\" value=\"Click here to toggle on/off the raw code.\"></form>"
      ],
      "text/plain": [
       "<IPython.core.display.HTML object>"
      ]
     },
     "execution_count": 13,
     "metadata": {},
     "output_type": "execute_result"
    }
   ],
   "source": [
    "display.HTML('''<script>\n",
    "code_show=true; \n",
    "function code_toggle() {\n",
    " if (code_show){\n",
    " $('div.input').hide();\n",
    " } else {\n",
    " $('div.input').show();\n",
    " }\n",
    " code_show = !code_show\n",
    "} \n",
    "$( document ).ready(code_toggle);\n",
    "</script>\n",
    "<form action=\"javascript:code_toggle()\"><input type=\"submit\" value=\"Click here to toggle on/off the raw code.\"></form>''')"
   ]
  }
 ],
 "metadata": {
  "kernelspec": {
   "display_name": "Python 3",
   "language": "python",
   "name": "python3"
  },
  "language_info": {
   "codemirror_mode": {
    "name": "ipython",
    "version": 3
   },
   "file_extension": ".py",
   "mimetype": "text/x-python",
   "name": "python",
   "nbconvert_exporter": "python",
   "pygments_lexer": "ipython3",
   "version": "3.6.1"
  }
 },
 "nbformat": 4,
 "nbformat_minor": 2
}
