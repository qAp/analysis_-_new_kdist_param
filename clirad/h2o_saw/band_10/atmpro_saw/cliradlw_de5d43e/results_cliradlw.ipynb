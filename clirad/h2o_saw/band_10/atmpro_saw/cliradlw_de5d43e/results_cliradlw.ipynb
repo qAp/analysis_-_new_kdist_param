{
 "cells": [
  {
   "cell_type": "code",
   "execution_count": 1,
   "metadata": {
    "collapsed": true
   },
   "outputs": [],
   "source": [
    "%matplotlib inline\n",
    "import os\n",
    "import re\n",
    "import io\n",
    "import itertools\n",
    "import pprint\n",
    "\n",
    "from bokeh.io import output_notebook, show\n",
    "from bokeh.layouts import gridplot\n",
    "from bokeh.plotting import figure\n",
    "from bokeh.models import Range1d, Legend\n",
    "from bokeh.palettes import all_palettes\n",
    "\n",
    "import matplotlib\n",
    "import matplotlib.pyplot as plt\n",
    "import numpy as np\n",
    "import pandas as pd\n",
    "import xarray as xr\n",
    "\n",
    "import climatools.lblnew.bestfit_params as bestfits\n",
    "from climatools.lblnew import setup_bestfit, setup_overlap\n",
    "import climatools.lblnew.pipeline as pipe_lblnew\n",
    "import climatools.cliradlw.setup as setup_cliradlw\n",
    "import climatools.cliradlw.pipeline as pipe_cliradlw\n",
    "\n",
    "import climatools.html.html as climahtml\n",
    "from climatools.lblnew.dataio import *\n",
    "from climatools.plot.plot import *\n",
    "\n",
    "\n",
    "import IPython.display as display"
   ]
  },
  {
   "cell_type": "code",
   "execution_count": 2,
   "metadata": {
    "collapsed": true
   },
   "outputs": [],
   "source": [
    "%run param.py"
   ]
  },
  {
   "cell_type": "code",
   "execution_count": 3,
   "metadata": {
    "collapsed": true
   },
   "outputs": [],
   "source": [
    "def load_output_file(path_csv):\n",
    "    '''\n",
    "    Load lblnew output .csv file to xarray.Dataset\n",
    "    \n",
    "    Parameters\n",
    "    ----------\n",
    "    path_csv: str\n",
    "              Path to the .csv file to be loaded.\n",
    "    ds: xarray.Dataset\n",
    "        Data in the input file in the form of an xarray.Dataset.\n",
    "    '''\n",
    "    toindex = ['band', 'pressure', 'igg', 'g']    \n",
    "    df = pd.read_csv(path_csv, sep=r'\\s+')\n",
    "    df = df.set_index([i for i in toindex if i in df.columns])\n",
    "    df = df.rename(columns={'sfu': 'flug',\n",
    "                            'sfd': 'fldg',\n",
    "                            'fnet': 'fnetg',\n",
    "                            'coolr': 'coolrg'})\n",
    "    ds = xr.Dataset.from_dataframe(df)\n",
    "\n",
    "    for l in ('level', 'layer'):\n",
    "        if l in ds.data_vars:\n",
    "            if len(ds[l].dims) > 1:\n",
    "                surface = {d: 0 for d in ds.dims if d != 'pressure'}\n",
    "                coord_level = ds[l][surface]\n",
    "                ds.coords[l] = ('pressure', coord_level)\n",
    "            else:\n",
    "                ds.coords[l] = ('pressure', ds[l])\n",
    "    \n",
    "    return ds"
   ]
  },
  {
   "cell_type": "code",
   "execution_count": 4,
   "metadata": {
    "collapsed": true
   },
   "outputs": [],
   "source": [
    "def lblnew_setup(param=None):\n",
    "    if 'ng_refs' in param:\n",
    "        return {'setup': setup_bestfit,\n",
    "                'fname_flux_crd': 'output_flux.dat',\n",
    "                'fname_cool_crd': 'output_coolr.dat',\n",
    "                'fname_flux_wgt': 'output_wfluxg.dat',\n",
    "                'fname_cool_wgt': 'output_wcoolrg.dat'}\n",
    "    else:\n",
    "        return {'setup': setup_overlap,\n",
    "                'fname_flux_crd': 'output_flux.dat',\n",
    "                'fname_cool_crd': 'output_coolr.dat',\n",
    "                'fname_flux_wgt': 'output_wflux.dat',\n",
    "                'fname_cool_wgt': 'output_wcoolr.dat'}\n",
    "\n",
    "    \n",
    "def load_lblnew_data(param):\n",
    "    \n",
    "    fname_dsname = [('fname_flux_crd', 'ds_flux_crd'),\n",
    "                    ('fname_cool_crd', 'ds_cool_crd'),\n",
    "                    ('fname_flux_wgt', 'ds_flux_wgt'),\n",
    "                    ('fname_cool_wgt', 'ds_cool_wgt')]\n",
    "    \n",
    "    d = lblnew_setup(param)\n",
    "    dir_fortran = pipe_lblnew.get_dir_case(param, setup=d['setup'])\n",
    "    \n",
    "    data_dict = {}\n",
    "    for fname, dsname in fname_dsname:\n",
    "        fpath = os.path.join(dir_fortran, d[fname])\n",
    "        data_dict[dsname] = load_output_file(fpath)\n",
    "    return data_dict\n",
    "    \n",
    "\n",
    "    \n",
    "    "
   ]
  },
  {
   "cell_type": "code",
   "execution_count": 5,
   "metadata": {
    "collapsed": true
   },
   "outputs": [],
   "source": [
    "d = load_lblnew_data(PARAM_LBLNEW)\n",
    "\n",
    "DS_FLUX_CRD = d['ds_flux_crd']\n",
    "DS_COOL_CRD = d['ds_cool_crd']\n",
    "DS_FLUX_WGT = d['ds_flux_wgt']\n",
    "DS_COOL_WGT = d['ds_cool_wgt']"
   ]
  },
  {
   "cell_type": "code",
   "execution_count": 6,
   "metadata": {
    "collapsed": true
   },
   "outputs": [],
   "source": [
    "DIR_FORTRAN = pipe_cliradlw.get_fortran_dir(PARAM, \n",
    "                                            setup=setup_cliradlw)\n",
    "\n",
    "PATH_FLUX = os.path.join(DIR_FORTRAN, 'output_flux.dat')\n",
    "PATH_COOL = os.path.join(DIR_FORTRAN, 'output_coolr.dat')\n",
    "\n",
    "DS_FLUX = load_output_file(PATH_FLUX)\n",
    "DS_COOL = load_output_file(PATH_COOL)"
   ]
  },
  {
   "cell_type": "code",
   "execution_count": 7,
   "metadata": {
    "collapsed": true
   },
   "outputs": [
    {
     "data": {
      "text/html": [
       "\n",
       "    <div class=\"bk-root\">\n",
       "        <a href=\"https://bokeh.pydata.org\" target=\"_blank\" class=\"bk-logo bk-logo-small bk-logo-notebook\"></a>\n",
       "        <span id=\"f7d12068-f481-4bb7-97e7-be871e55b2bc\">Loading BokehJS ...</span>\n",
       "    </div>"
      ]
     },
     "metadata": {},
     "output_type": "display_data"
    },
    {
     "data": {
      "application/javascript": [
       "\n",
       "(function(root) {\n",
       "  function now() {\n",
       "    return new Date();\n",
       "  }\n",
       "\n",
       "  var force = true;\n",
       "\n",
       "  if (typeof (root._bokeh_onload_callbacks) === \"undefined\" || force === true) {\n",
       "    root._bokeh_onload_callbacks = [];\n",
       "    root._bokeh_is_loading = undefined;\n",
       "  }\n",
       "\n",
       "  var JS_MIME_TYPE = 'application/javascript';\n",
       "  var HTML_MIME_TYPE = 'text/html';\n",
       "  var EXEC_MIME_TYPE = 'application/vnd.bokehjs_exec.v0+json';\n",
       "  var CLASS_NAME = 'output_bokeh rendered_html';\n",
       "\n",
       "  /**\n",
       "   * Render data to the DOM node\n",
       "   */\n",
       "  function render(props, node) {\n",
       "    var script = document.createElement(\"script\");\n",
       "    node.appendChild(script);\n",
       "  }\n",
       "\n",
       "  /**\n",
       "   * Handle when an output is cleared or removed\n",
       "   */\n",
       "  function handleClearOutput(event, handle) {\n",
       "    var cell = handle.cell;\n",
       "\n",
       "    var id = cell.output_area._bokeh_element_id;\n",
       "    var server_id = cell.output_area._bokeh_server_id;\n",
       "    // Clean up Bokeh references\n",
       "    if (id !== undefined) {\n",
       "      Bokeh.index[id].model.document.clear();\n",
       "      delete Bokeh.index[id];\n",
       "    }\n",
       "\n",
       "    if (server_id !== undefined) {\n",
       "      // Clean up Bokeh references\n",
       "      var cmd = \"from bokeh.io.state import curstate; print(curstate().uuid_to_server['\" + server_id + \"'].get_sessions()[0].document.roots[0]._id)\";\n",
       "      cell.notebook.kernel.execute(cmd, {\n",
       "        iopub: {\n",
       "          output: function(msg) {\n",
       "            var element_id = msg.content.text.trim();\n",
       "            Bokeh.index[element_id].model.document.clear();\n",
       "            delete Bokeh.index[element_id];\n",
       "          }\n",
       "        }\n",
       "      });\n",
       "      // Destroy server and session\n",
       "      var cmd = \"import bokeh.io.notebook as ion; ion.destroy_server('\" + server_id + \"')\";\n",
       "      cell.notebook.kernel.execute(cmd);\n",
       "    }\n",
       "  }\n",
       "\n",
       "  /**\n",
       "   * Handle when a new output is added\n",
       "   */\n",
       "  function handleAddOutput(event, handle) {\n",
       "    var output_area = handle.output_area;\n",
       "    var output = handle.output;\n",
       "\n",
       "    // limit handleAddOutput to display_data with EXEC_MIME_TYPE content only\n",
       "    if ((output.output_type != \"display_data\") || (!output.data.hasOwnProperty(EXEC_MIME_TYPE))) {\n",
       "      return\n",
       "    }\n",
       "\n",
       "    var toinsert = output_area.element.find(\".\" + CLASS_NAME.split(' ')[0]);\n",
       "\n",
       "    if (output.metadata[EXEC_MIME_TYPE][\"id\"] !== undefined) {\n",
       "      toinsert[toinsert.length - 1].firstChild.textContent = output.data[JS_MIME_TYPE];\n",
       "      // store reference to embed id on output_area\n",
       "      output_area._bokeh_element_id = output.metadata[EXEC_MIME_TYPE][\"id\"];\n",
       "    }\n",
       "    if (output.metadata[EXEC_MIME_TYPE][\"server_id\"] !== undefined) {\n",
       "      var bk_div = document.createElement(\"div\");\n",
       "      bk_div.innerHTML = output.data[HTML_MIME_TYPE];\n",
       "      var script_attrs = bk_div.children[0].attributes;\n",
       "      for (var i = 0; i < script_attrs.length; i++) {\n",
       "        toinsert[toinsert.length - 1].firstChild.setAttribute(script_attrs[i].name, script_attrs[i].value);\n",
       "      }\n",
       "      // store reference to server id on output_area\n",
       "      output_area._bokeh_server_id = output.metadata[EXEC_MIME_TYPE][\"server_id\"];\n",
       "    }\n",
       "  }\n",
       "\n",
       "  function register_renderer(events, OutputArea) {\n",
       "\n",
       "    function append_mime(data, metadata, element) {\n",
       "      // create a DOM node to render to\n",
       "      var toinsert = this.create_output_subarea(\n",
       "        metadata,\n",
       "        CLASS_NAME,\n",
       "        EXEC_MIME_TYPE\n",
       "      );\n",
       "      this.keyboard_manager.register_events(toinsert);\n",
       "      // Render to node\n",
       "      var props = {data: data, metadata: metadata[EXEC_MIME_TYPE]};\n",
       "      render(props, toinsert[toinsert.length - 1]);\n",
       "      element.append(toinsert);\n",
       "      return toinsert\n",
       "    }\n",
       "\n",
       "    /* Handle when an output is cleared or removed */\n",
       "    events.on('clear_output.CodeCell', handleClearOutput);\n",
       "    events.on('delete.Cell', handleClearOutput);\n",
       "\n",
       "    /* Handle when a new output is added */\n",
       "    events.on('output_added.OutputArea', handleAddOutput);\n",
       "\n",
       "    /**\n",
       "     * Register the mime type and append_mime function with output_area\n",
       "     */\n",
       "    OutputArea.prototype.register_mime_type(EXEC_MIME_TYPE, append_mime, {\n",
       "      /* Is output safe? */\n",
       "      safe: true,\n",
       "      /* Index of renderer in `output_area.display_order` */\n",
       "      index: 0\n",
       "    });\n",
       "  }\n",
       "\n",
       "  // register the mime type if in Jupyter Notebook environment and previously unregistered\n",
       "  if (root.Jupyter !== undefined) {\n",
       "    var events = require('base/js/events');\n",
       "    var OutputArea = require('notebook/js/outputarea').OutputArea;\n",
       "\n",
       "    if (OutputArea.prototype.mime_types().indexOf(EXEC_MIME_TYPE) == -1) {\n",
       "      register_renderer(events, OutputArea);\n",
       "    }\n",
       "  }\n",
       "\n",
       "  \n",
       "  if (typeof (root._bokeh_timeout) === \"undefined\" || force === true) {\n",
       "    root._bokeh_timeout = Date.now() + 5000;\n",
       "    root._bokeh_failed_load = false;\n",
       "  }\n",
       "\n",
       "  var NB_LOAD_WARNING = {'data': {'text/html':\n",
       "     \"<div style='background-color: #fdd'>\\n\"+\n",
       "     \"<p>\\n\"+\n",
       "     \"BokehJS does not appear to have successfully loaded. If loading BokehJS from CDN, this \\n\"+\n",
       "     \"may be due to a slow or bad network connection. Possible fixes:\\n\"+\n",
       "     \"</p>\\n\"+\n",
       "     \"<ul>\\n\"+\n",
       "     \"<li>re-rerun `output_notebook()` to attempt to load from CDN again, or</li>\\n\"+\n",
       "     \"<li>use INLINE resources instead, as so:</li>\\n\"+\n",
       "     \"</ul>\\n\"+\n",
       "     \"<code>\\n\"+\n",
       "     \"from bokeh.resources import INLINE\\n\"+\n",
       "     \"output_notebook(resources=INLINE)\\n\"+\n",
       "     \"</code>\\n\"+\n",
       "     \"</div>\"}};\n",
       "\n",
       "  function display_loaded() {\n",
       "    var el = document.getElementById(\"f7d12068-f481-4bb7-97e7-be871e55b2bc\");\n",
       "    if (el != null) {\n",
       "      el.textContent = \"BokehJS is loading...\";\n",
       "    }\n",
       "    if (root.Bokeh !== undefined) {\n",
       "      if (el != null) {\n",
       "        el.textContent = \"BokehJS \" + root.Bokeh.version + \" successfully loaded.\";\n",
       "      }\n",
       "    } else if (Date.now() < root._bokeh_timeout) {\n",
       "      setTimeout(display_loaded, 100)\n",
       "    }\n",
       "  }\n",
       "\n",
       "\n",
       "  function run_callbacks() {\n",
       "    try {\n",
       "      root._bokeh_onload_callbacks.forEach(function(callback) { callback() });\n",
       "    }\n",
       "    finally {\n",
       "      delete root._bokeh_onload_callbacks\n",
       "    }\n",
       "    console.info(\"Bokeh: all callbacks have finished\");\n",
       "  }\n",
       "\n",
       "  function load_libs(js_urls, callback) {\n",
       "    root._bokeh_onload_callbacks.push(callback);\n",
       "    if (root._bokeh_is_loading > 0) {\n",
       "      console.log(\"Bokeh: BokehJS is being loaded, scheduling callback at\", now());\n",
       "      return null;\n",
       "    }\n",
       "    if (js_urls == null || js_urls.length === 0) {\n",
       "      run_callbacks();\n",
       "      return null;\n",
       "    }\n",
       "    console.log(\"Bokeh: BokehJS not loaded, scheduling load and callback at\", now());\n",
       "    root._bokeh_is_loading = js_urls.length;\n",
       "    for (var i = 0; i < js_urls.length; i++) {\n",
       "      var url = js_urls[i];\n",
       "      var s = document.createElement('script');\n",
       "      s.src = url;\n",
       "      s.async = false;\n",
       "      s.onreadystatechange = s.onload = function() {\n",
       "        root._bokeh_is_loading--;\n",
       "        if (root._bokeh_is_loading === 0) {\n",
       "          console.log(\"Bokeh: all BokehJS libraries loaded\");\n",
       "          run_callbacks()\n",
       "        }\n",
       "      };\n",
       "      s.onerror = function() {\n",
       "        console.warn(\"failed to load library \" + url);\n",
       "      };\n",
       "      console.log(\"Bokeh: injecting script tag for BokehJS library: \", url);\n",
       "      document.getElementsByTagName(\"head\")[0].appendChild(s);\n",
       "    }\n",
       "  };var element = document.getElementById(\"f7d12068-f481-4bb7-97e7-be871e55b2bc\");\n",
       "  if (element == null) {\n",
       "    console.log(\"Bokeh: ERROR: autoload.js configured with elementid 'f7d12068-f481-4bb7-97e7-be871e55b2bc' but no matching script tag was found. \")\n",
       "    return false;\n",
       "  }\n",
       "\n",
       "  var js_urls = [\"https://cdn.pydata.org/bokeh/release/bokeh-0.12.16.min.js\", \"https://cdn.pydata.org/bokeh/release/bokeh-widgets-0.12.16.min.js\", \"https://cdn.pydata.org/bokeh/release/bokeh-tables-0.12.16.min.js\", \"https://cdn.pydata.org/bokeh/release/bokeh-gl-0.12.16.min.js\"];\n",
       "\n",
       "  var inline_js = [\n",
       "    function(Bokeh) {\n",
       "      Bokeh.set_log_level(\"info\");\n",
       "    },\n",
       "    \n",
       "    function(Bokeh) {\n",
       "      \n",
       "    },\n",
       "    function(Bokeh) {\n",
       "      console.log(\"Bokeh: injecting CSS: https://cdn.pydata.org/bokeh/release/bokeh-0.12.16.min.css\");\n",
       "      Bokeh.embed.inject_css(\"https://cdn.pydata.org/bokeh/release/bokeh-0.12.16.min.css\");\n",
       "      console.log(\"Bokeh: injecting CSS: https://cdn.pydata.org/bokeh/release/bokeh-widgets-0.12.16.min.css\");\n",
       "      Bokeh.embed.inject_css(\"https://cdn.pydata.org/bokeh/release/bokeh-widgets-0.12.16.min.css\");\n",
       "      console.log(\"Bokeh: injecting CSS: https://cdn.pydata.org/bokeh/release/bokeh-tables-0.12.16.min.css\");\n",
       "      Bokeh.embed.inject_css(\"https://cdn.pydata.org/bokeh/release/bokeh-tables-0.12.16.min.css\");\n",
       "    }\n",
       "  ];\n",
       "\n",
       "  function run_inline_js() {\n",
       "    \n",
       "    if ((root.Bokeh !== undefined) || (force === true)) {\n",
       "      for (var i = 0; i < inline_js.length; i++) {\n",
       "        inline_js[i].call(root, root.Bokeh);\n",
       "      }if (force === true) {\n",
       "        display_loaded();\n",
       "      }} else if (Date.now() < root._bokeh_timeout) {\n",
       "      setTimeout(run_inline_js, 100);\n",
       "    } else if (!root._bokeh_failed_load) {\n",
       "      console.log(\"Bokeh: BokehJS failed to load within specified timeout.\");\n",
       "      root._bokeh_failed_load = true;\n",
       "    } else if (force !== true) {\n",
       "      var cell = $(document.getElementById(\"f7d12068-f481-4bb7-97e7-be871e55b2bc\")).parents('.cell').data().cell;\n",
       "      cell.output_area.append_execute_result(NB_LOAD_WARNING)\n",
       "    }\n",
       "\n",
       "  }\n",
       "\n",
       "  if (root._bokeh_is_loading === 0) {\n",
       "    console.log(\"Bokeh: BokehJS loaded, going straight to plotting\");\n",
       "    run_inline_js();\n",
       "  } else {\n",
       "    load_libs(js_urls, function() {\n",
       "      console.log(\"Bokeh: BokehJS plotting callback run at\", now());\n",
       "      run_inline_js();\n",
       "    });\n",
       "  }\n",
       "}(window));"
      ],
      "application/vnd.bokehjs_load.v0+json": "\n(function(root) {\n  function now() {\n    return new Date();\n  }\n\n  var force = true;\n\n  if (typeof (root._bokeh_onload_callbacks) === \"undefined\" || force === true) {\n    root._bokeh_onload_callbacks = [];\n    root._bokeh_is_loading = undefined;\n  }\n\n  \n\n  \n  if (typeof (root._bokeh_timeout) === \"undefined\" || force === true) {\n    root._bokeh_timeout = Date.now() + 5000;\n    root._bokeh_failed_load = false;\n  }\n\n  var NB_LOAD_WARNING = {'data': {'text/html':\n     \"<div style='background-color: #fdd'>\\n\"+\n     \"<p>\\n\"+\n     \"BokehJS does not appear to have successfully loaded. If loading BokehJS from CDN, this \\n\"+\n     \"may be due to a slow or bad network connection. Possible fixes:\\n\"+\n     \"</p>\\n\"+\n     \"<ul>\\n\"+\n     \"<li>re-rerun `output_notebook()` to attempt to load from CDN again, or</li>\\n\"+\n     \"<li>use INLINE resources instead, as so:</li>\\n\"+\n     \"</ul>\\n\"+\n     \"<code>\\n\"+\n     \"from bokeh.resources import INLINE\\n\"+\n     \"output_notebook(resources=INLINE)\\n\"+\n     \"</code>\\n\"+\n     \"</div>\"}};\n\n  function display_loaded() {\n    var el = document.getElementById(\"f7d12068-f481-4bb7-97e7-be871e55b2bc\");\n    if (el != null) {\n      el.textContent = \"BokehJS is loading...\";\n    }\n    if (root.Bokeh !== undefined) {\n      if (el != null) {\n        el.textContent = \"BokehJS \" + root.Bokeh.version + \" successfully loaded.\";\n      }\n    } else if (Date.now() < root._bokeh_timeout) {\n      setTimeout(display_loaded, 100)\n    }\n  }\n\n\n  function run_callbacks() {\n    try {\n      root._bokeh_onload_callbacks.forEach(function(callback) { callback() });\n    }\n    finally {\n      delete root._bokeh_onload_callbacks\n    }\n    console.info(\"Bokeh: all callbacks have finished\");\n  }\n\n  function load_libs(js_urls, callback) {\n    root._bokeh_onload_callbacks.push(callback);\n    if (root._bokeh_is_loading > 0) {\n      console.log(\"Bokeh: BokehJS is being loaded, scheduling callback at\", now());\n      return null;\n    }\n    if (js_urls == null || js_urls.length === 0) {\n      run_callbacks();\n      return null;\n    }\n    console.log(\"Bokeh: BokehJS not loaded, scheduling load and callback at\", now());\n    root._bokeh_is_loading = js_urls.length;\n    for (var i = 0; i < js_urls.length; i++) {\n      var url = js_urls[i];\n      var s = document.createElement('script');\n      s.src = url;\n      s.async = false;\n      s.onreadystatechange = s.onload = function() {\n        root._bokeh_is_loading--;\n        if (root._bokeh_is_loading === 0) {\n          console.log(\"Bokeh: all BokehJS libraries loaded\");\n          run_callbacks()\n        }\n      };\n      s.onerror = function() {\n        console.warn(\"failed to load library \" + url);\n      };\n      console.log(\"Bokeh: injecting script tag for BokehJS library: \", url);\n      document.getElementsByTagName(\"head\")[0].appendChild(s);\n    }\n  };var element = document.getElementById(\"f7d12068-f481-4bb7-97e7-be871e55b2bc\");\n  if (element == null) {\n    console.log(\"Bokeh: ERROR: autoload.js configured with elementid 'f7d12068-f481-4bb7-97e7-be871e55b2bc' but no matching script tag was found. \")\n    return false;\n  }\n\n  var js_urls = [\"https://cdn.pydata.org/bokeh/release/bokeh-0.12.16.min.js\", \"https://cdn.pydata.org/bokeh/release/bokeh-widgets-0.12.16.min.js\", \"https://cdn.pydata.org/bokeh/release/bokeh-tables-0.12.16.min.js\", \"https://cdn.pydata.org/bokeh/release/bokeh-gl-0.12.16.min.js\"];\n\n  var inline_js = [\n    function(Bokeh) {\n      Bokeh.set_log_level(\"info\");\n    },\n    \n    function(Bokeh) {\n      \n    },\n    function(Bokeh) {\n      console.log(\"Bokeh: injecting CSS: https://cdn.pydata.org/bokeh/release/bokeh-0.12.16.min.css\");\n      Bokeh.embed.inject_css(\"https://cdn.pydata.org/bokeh/release/bokeh-0.12.16.min.css\");\n      console.log(\"Bokeh: injecting CSS: https://cdn.pydata.org/bokeh/release/bokeh-widgets-0.12.16.min.css\");\n      Bokeh.embed.inject_css(\"https://cdn.pydata.org/bokeh/release/bokeh-widgets-0.12.16.min.css\");\n      console.log(\"Bokeh: injecting CSS: https://cdn.pydata.org/bokeh/release/bokeh-tables-0.12.16.min.css\");\n      Bokeh.embed.inject_css(\"https://cdn.pydata.org/bokeh/release/bokeh-tables-0.12.16.min.css\");\n    }\n  ];\n\n  function run_inline_js() {\n    \n    if ((root.Bokeh !== undefined) || (force === true)) {\n      for (var i = 0; i < inline_js.length; i++) {\n        inline_js[i].call(root, root.Bokeh);\n      }if (force === true) {\n        display_loaded();\n      }} else if (Date.now() < root._bokeh_timeout) {\n      setTimeout(run_inline_js, 100);\n    } else if (!root._bokeh_failed_load) {\n      console.log(\"Bokeh: BokehJS failed to load within specified timeout.\");\n      root._bokeh_failed_load = true;\n    } else if (force !== true) {\n      var cell = $(document.getElementById(\"f7d12068-f481-4bb7-97e7-be871e55b2bc\")).parents('.cell').data().cell;\n      cell.output_area.append_execute_result(NB_LOAD_WARNING)\n    }\n\n  }\n\n  if (root._bokeh_is_loading === 0) {\n    console.log(\"Bokeh: BokehJS loaded, going straight to plotting\");\n    run_inline_js();\n  } else {\n    load_libs(js_urls, function() {\n      console.log(\"Bokeh: BokehJS plotting callback run at\", now());\n      run_inline_js();\n    });\n  }\n}(window));"
     },
     "metadata": {},
     "output_type": "display_data"
    }
   ],
   "source": [
    "output_notebook()"
   ]
  },
  {
   "cell_type": "code",
   "execution_count": 8,
   "metadata": {
    "collapsed": true
   },
   "outputs": [],
   "source": [
    "def fmt_cool(ds_in):\n",
    "    ds = ds_in.copy(deep=True)\n",
    "    if 'igg' in ds.dims:\n",
    "        ds = ds.sel(igg=1)\n",
    "\n",
    "    if 'g' in ds.dims:\n",
    "        ds = ds.sum('g')\n",
    "            \n",
    "    if 'band' in ds.dims:\n",
    "        try:\n",
    "            ds = ds.squeeze('band')\n",
    "        except ValueError:\n",
    "            ds = ds.sum('band')\n",
    "                \n",
    "    return ds['coolrg']\n",
    "\n",
    "\n",
    "def pltdata_cooling_1(ds_cool=None,\n",
    "                      ds_cool_crd=None, ds_cool_wgt=None):\n",
    "    \n",
    "\n",
    "\n",
    "    colors = all_palettes['Set1'][4]\n",
    "    data = [{'label': 'CLIRAD `coolr_bands`',\n",
    "             'srs': fmt_cool(ds_cool),\n",
    "             'line_dash': 'dashed', 'line_width': 5,\n",
    "             'color': colors[0], 'alpha': .6},\n",
    "            {'label': 'CRD',\n",
    "             'srs': fmt_cool(ds_cool_crd),\n",
    "             'line_dash': 'solid', 'line_width': 1.5,\n",
    "             'marker': 'circle', 'marker_size': 5,\n",
    "             'color': colors[2], 'alpha': 1,},\n",
    "            {'label': 'WGT igg=10 wgt_flux=2',\n",
    "             'srs': fmt_cool(ds_cool_wgt),\n",
    "             'line_dash': 'solid', 'line_width': 3,\n",
    "             'marker': 'square', 'marker_size': 5,\n",
    "             'color': colors[3], 'alpha': .6}]\n",
    "    return data\n",
    "\n",
    "\n",
    "def nice_xlims(pltdata=None, prange=None):\n",
    "    \n",
    "    def get_slice(srs):\n",
    "        return srs.sel(pressure=slice(*prange))\n",
    "    \n",
    "    srss = [d['srs'] for d in pltdata]\n",
    "    vmin = min([get_slice(srs).min() for srs in srss])\n",
    "    vmax = max([get_slice(srs).max() for srs in srss])\n",
    "    dv = (vmax - vmin) * .01\n",
    "    return float(vmin - dv), float(vmax + dv)\n",
    "    \n",
    "\n",
    "def plt_cooling_bokeh(pltdata=None):\n",
    "    '''\n",
    "    Plot a list of cooling rate profiles using bokeh.\n",
    "    '''\n",
    "    ymin = 1e-2 \n",
    "    ymax = 1020 \n",
    "        \n",
    "    p1 = figure(title=\"Linear pressure scale\", \n",
    "                plot_width=400)        \n",
    "    xmin, xmax = nice_xlims(pltdata, prange=(50, 1050))\n",
    "    for d in pltdata:\n",
    "        if 'marker' in d:\n",
    "            getattr(p1, d['marker'])(d['srs'].values, \n",
    "                    d['srs'].coords['pressure'].values,\n",
    "                    color=d['color'], alpha=.7)\n",
    "        p1.line(d['srs'].values, \n",
    "                d['srs'].coords['pressure'].values,\n",
    "                color=d['color'], alpha=d['alpha'], \n",
    "                line_width=d['line_width'], line_dash=d['line_dash'])\n",
    "    \n",
    "    p1.y_range = Range1d(ymax, ymin)\n",
    "    p1.yaxis.axis_label = 'pressure [mb]'   \n",
    "    p1.x_range = Range1d(xmin, xmax)\n",
    "    p1.xaxis.axis_label = 'cooling rate [K/day]'\n",
    "            \n",
    "    p2 = figure(title='Log pressure scale', y_axis_type='log',\n",
    "                plot_width=560)\n",
    "    xmin, xmax = nice_xlims(pltdata, prange=(.01, 200))\n",
    "    \n",
    "    rs = []\n",
    "    for d in pltdata:\n",
    "        rd = []\n",
    "        if 'marker' in d:\n",
    "            r_mark = getattr(p2, d['marker'])(d['srs'].values, \n",
    "                        d['srs'].coords['pressure'].values,\n",
    "                        color=d['color'], alpha=.7)\n",
    "            rd.append(r_mark)\n",
    "        r_line = p2.line(d['srs'].values, \n",
    "                    d['srs'].coords['pressure'].values,\n",
    "                    color=d['color'], alpha=d['alpha'], \n",
    "                    line_width=d['line_width'], line_dash=d['line_dash'])\n",
    "        rd.append(r_line)\n",
    "      \n",
    "        rs.append(rd)\n",
    "        \n",
    "    p2.y_range = Range1d(ymax, ymin)  \n",
    "    p2.yaxis.axis_label = 'pressure [mb]'\n",
    "    \n",
    "    p2.x_range = Range1d(xmin, xmax)\n",
    "    p2.xaxis.axis_label = 'cooling rate [K/day]'\n",
    "    \n",
    "    items = [(d['label'], r) for r, d in zip(rs, pltdata)]\n",
    "    legend = Legend(items=items, location=(10, -30))\n",
    "    legend.label_text_font_size = '8pt'\n",
    "    \n",
    "    p2.add_layout(legend, 'right')  \n",
    "    \n",
    "    show(gridplot(p1, p2, ncols=2, plot_height=500))\n",
    "    \n",
    "\n",
    "def script_plt_cooling():\n",
    "    pltdata = pltdata_cooling_1(\n",
    "        ds_cool=DS_COOL,\n",
    "        ds_cool_crd=DS_COOL_CRD,\n",
    "        ds_cool_wgt=DS_COOL_WGT)\n",
    "    plt_cooling_bokeh(pltdata=pltdata)\n",
    "    print('''FIGURE. Cooling rate profiles.''')"
   ]
  },
  {
   "cell_type": "code",
   "execution_count": 9,
   "metadata": {
    "collapsed": true
   },
   "outputs": [],
   "source": [
    "def fmt_flux(ds_in):\n",
    "    ds = ds_in.copy(deep=True)\n",
    "    \n",
    "    for l in ('level', 'layer'):\n",
    "        if l in ds.data_vars:\n",
    "            if len(ds[l].dims) > 1:\n",
    "                surface = {d: 0 for d in ds.dims if d != 'pressure'}\n",
    "                coord_level = ds[l][surface]\n",
    "                ds.coords[l] = ('pressure', coord_level)\n",
    "            else:\n",
    "                ds.coords[l] = ('pressure', ds[l])\n",
    "        \n",
    "    ds = ds.isel(pressure=[0, 23, -1])\n",
    "        \n",
    "    if 'igg' in ds.dims:\n",
    "        ds = ds.sel(igg=[1])\n",
    "        ds = ds.squeeze('igg').drop('igg')\n",
    "    \n",
    "    if 'g' in ds.dims:\n",
    "        ds = ds.sum('g')\n",
    "            \n",
    "    if 'band' in ds.dims:\n",
    "        try:\n",
    "            ds = ds.squeeze('band').drop('band')\n",
    "        except ValueError:\n",
    "            ds = ds.sum('band')\n",
    "                \n",
    "    df = ds.to_dataframe()\n",
    "    df = df.set_index('level', append=True)               \n",
    "    return df\n",
    "\n",
    "\n",
    "def tbdata_flux(ds_flux=None, ds_flux_crd=None, ds_flux_wgt=None):\n",
    "    ilevels = [0, 23, -1]\n",
    "            \n",
    "    benchmark = {'label': 'CRD',\n",
    "                 'df': fmt_flux(ds_flux_crd)}\n",
    "    \n",
    "    tbs = [{'label': 'WGT igg=10 wgt_flux=1',\n",
    "            'df': fmt_flux(ds_flux_wgt)},\n",
    "           {'label': 'CLIRAD',\n",
    "            'df': fmt_flux(ds_flux)}]\n",
    "    \n",
    "    data = {'benchmark': benchmark, 'others': tbs}\n",
    "    return data\n",
    "\n",
    "\n",
    "def tb_flux(tbdata=None):\n",
    "    benchmark = tbdata['benchmark']\n",
    "    others = tbdata['others']\n",
    "    \n",
    "    def show_tb(d=None):\n",
    "        display.display(d['df'])\n",
    "        print('Table.', 'Fluxes.', d['label'])\n",
    "        \n",
    "    def show_tbdiff(d0=None, d=None):\n",
    "        df = d['df']\n",
    "        df.index = d0['df'].index\n",
    "        display.display(df - d0['df'])\n",
    "        print('Table.', 'Fluxes.', \n",
    "              '({}) - ({})'.format(d['label'], d0['label']))\n",
    "        \n",
    "    show_tb(benchmark)\n",
    "    for d in others:\n",
    "        show_tb(d)\n",
    "        \n",
    "    for d in others:\n",
    "        show_tbdiff(d=d, d0=benchmark)\n",
    "        \n",
    "        \n",
    "def script_tb_flux():\n",
    "    data = tbdata_flux(ds_flux=DS_FLUX,\n",
    "                       ds_flux_crd=DS_FLUX_CRD,\n",
    "                       ds_flux_wgt=DS_FLUX_WGT)\n",
    "    tb_flux(tbdata=data)"
   ]
  },
  {
   "cell_type": "code",
   "execution_count": 10,
   "metadata": {
    "collapsed": true
   },
   "outputs": [],
   "source": [
    "def band_map():\n",
    "    '''\n",
    "    Maps spectral bands in lblnew to spectral bands in clirad.\n",
    "    '''\n",
    "    lblnew2clirad = {'1': '1',\n",
    "            '2': '2',\n",
    "            '3a': '3',\n",
    "            '3b': '4',\n",
    "            '3c': '5',\n",
    "            '4': '6', \n",
    "            '5': '7',\n",
    "            '6': '8',\n",
    "            '7': '9', \n",
    "            '8': '10',\n",
    "            '9': '11'}\n",
    "    \n",
    "    clirad2lblnew = {clirad: lblnew \n",
    "                     for lblnew, clirad in lblnew2clirad.items()}\n",
    "    return clirad2lblnew\n",
    "\n",
    "\n",
    "def gasbands():\n",
    "    bmap = band_map()\n",
    "    gases = list(PARAM['molecule'].keys())\n",
    "    \n",
    "    bands = [bmap[str(b)] for b in PARAM['band']]\n",
    "    return list(itertools.product(gases, bands))\n",
    "\n",
    "\n",
    "def print_bestfit_params():\n",
    "    print('Best-fit values for each (gas, band)')\n",
    "    print('------------------------------------')\n",
    "    for gas, band in gasbands():\n",
    "        print('o {} band{}'.format(gas, band))\n",
    "        param = bestfits.kdist_params(molecule=gas, band=band)\n",
    "        for name, value in sorted(param.items()):\n",
    "            print(2 * ' ' + '{} = {}'.format(name, value))\n",
    "\n",
    "        \n",
    "def print_input_param():        \n",
    "    for name, value in PARAM.items():\n",
    "        print('{} = {}'.format(name, value))\n",
    "        \n",
    "        \n",
    "def print_lblnew_param():\n",
    "    for name, value in sorted(PARAM_LBLNEW.items()):\n",
    "        print('{} = {}'.format(name, value))\n"
   ]
  },
  {
   "cell_type": "code",
   "execution_count": 11,
   "metadata": {
    "collapsed": true,
    "scrolled": false
   },
   "outputs": [],
   "source": [
    "def show_html(s):\n",
    "    display.display(display.HTML(s))\n",
    "\n",
    "    \n",
    "def show_markdown(s):\n",
    "    display.display(display.Markdown(s))\n",
    "\n",
    "    \n",
    "def script():\n",
    "    \n",
    "    title = '### CLIRAD-LW'\n",
    "    s_input = 'Input Parameters'\n",
    "    s_lblnew_param = 'LBLNEW case compaired against'\n",
    "    s_bestfits = 'Best-fit Parameters'\n",
    "    s_plt_cooling = 'Cooling Rate Profiles'\n",
    "    s_tb_flux = 'Flux Comparison'\n",
    "    \n",
    "    # title\n",
    "    show_markdown('### CLIRAD-LW')\n",
    "    \n",
    "    # TOC\n",
    "    show_markdown('### Table of Contents')\n",
    "    show_html(climahtml.getHTML_hrefanchor(s_input))\n",
    "    show_html(climahtml.getHTML_hrefanchor(s_lblnew_param))\n",
    "    show_html(climahtml.getHTML_hrefanchor(s_plt_cooling))\n",
    "    show_html(climahtml.getHTML_hrefanchor(s_tb_flux))\n",
    "    show_html(climahtml.getHTML_hrefanchor(s_bestfits))\n",
    "    \n",
    "    # Input parameters\n",
    "    show_html(climahtml.getHTML_idanchor(s_input))\n",
    "    show_markdown(climahtml.getMarkdown_sectitle(s_input))\n",
    "    print_input_param()\n",
    "    \n",
    "    # LBLNEW parameters \n",
    "    show_html(climahtml.getHTML_idanchor(s_lblnew_param))\n",
    "    show_markdown(climahtml.getMarkdown_sectitle(s_lblnew_param))\n",
    "    print_lblnew_param()\n",
    "    \n",
    "    # Cooling rate profiles\n",
    "    show_html(climahtml.getHTML_idanchor(s_plt_cooling))\n",
    "    show_markdown(climahtml.getMarkdown_sectitle(s_plt_cooling))\n",
    "    script_plt_cooling()\n",
    "    \n",
    "    # Flux comparison\n",
    "    show_html(climahtml.getHTML_idanchor(s_tb_flux))\n",
    "    show_markdown(climahtml.getMarkdown_sectitle(s_tb_flux))\n",
    "    script_tb_flux()\n",
    "    \n",
    "    # Best-fit values\n",
    "    show_html(climahtml.getHTML_idanchor(s_bestfits))\n",
    "    show_markdown(climahtml.getMarkdown_sectitle(s_bestfits))\n",
    "    print_bestfit_params()\n",
    "   \n",
    "    "
   ]
  },
  {
   "cell_type": "code",
   "execution_count": 12,
   "metadata": {
    "collapsed": true,
    "scrolled": false
   },
   "outputs": [
    {
     "data": {
      "text/markdown": [
       "### CLIRAD-LW"
      ],
      "text/plain": [
       "<IPython.core.display.Markdown object>"
      ]
     },
     "metadata": {},
     "output_type": "display_data"
    },
    {
     "data": {
      "text/markdown": [
       "### Table of Contents"
      ],
      "text/plain": [
       "<IPython.core.display.Markdown object>"
      ]
     },
     "metadata": {},
     "output_type": "display_data"
    },
    {
     "data": {
      "text/html": [
       "<a href=\"#Input_Parameters\">Input Parameters</a>"
      ],
      "text/plain": [
       "<IPython.core.display.HTML object>"
      ]
     },
     "metadata": {},
     "output_type": "display_data"
    },
    {
     "data": {
      "text/html": [
       "<a href=\"#LBLNEW_case_compaired_against\">LBLNEW case compaired against</a>"
      ],
      "text/plain": [
       "<IPython.core.display.HTML object>"
      ]
     },
     "metadata": {},
     "output_type": "display_data"
    },
    {
     "data": {
      "text/html": [
       "<a href=\"#Cooling_Rate_Profiles\">Cooling Rate Profiles</a>"
      ],
      "text/plain": [
       "<IPython.core.display.HTML object>"
      ]
     },
     "metadata": {},
     "output_type": "display_data"
    },
    {
     "data": {
      "text/html": [
       "<a href=\"#Flux_Comparison\">Flux Comparison</a>"
      ],
      "text/plain": [
       "<IPython.core.display.HTML object>"
      ]
     },
     "metadata": {},
     "output_type": "display_data"
    },
    {
     "data": {
      "text/html": [
       "<a href=\"#Best-fit_Parameters\">Best-fit Parameters</a>"
      ],
      "text/plain": [
       "<IPython.core.display.HTML object>"
      ]
     },
     "metadata": {},
     "output_type": "display_data"
    },
    {
     "data": {
      "text/html": [
       "<a id=\"Input_Parameters\"></a>"
      ],
      "text/plain": [
       "<IPython.core.display.HTML object>"
      ]
     },
     "metadata": {},
     "output_type": "display_data"
    },
    {
     "data": {
      "text/markdown": [
       "# Input Parameters"
      ],
      "text/plain": [
       "<IPython.core.display.Markdown object>"
      ]
     },
     "metadata": {},
     "output_type": "display_data"
    },
    {
     "name": "stdout",
     "output_type": "stream",
     "text": [
      "atmpro = saw\n",
      "band = [10]\n",
      "commitnumber = de5d43e\n",
      "molecule = {'h2o': 'atmpro'}\n",
      "tsfc = 257\n"
     ]
    },
    {
     "data": {
      "text/html": [
       "<a id=\"LBLNEW_case_compaired_against\"></a>"
      ],
      "text/plain": [
       "<IPython.core.display.HTML object>"
      ]
     },
     "metadata": {},
     "output_type": "display_data"
    },
    {
     "data": {
      "text/markdown": [
       "# LBLNEW case compaired against"
      ],
      "text/plain": [
       "<IPython.core.display.Markdown object>"
      ]
     },
     "metadata": {},
     "output_type": "display_data"
    },
    {
     "name": "stdout",
     "output_type": "stream",
     "text": [
      "atmpro = saw\n",
      "band = 8\n",
      "commitnumber = 5014a19\n",
      "conc = None\n",
      "dv = 0.001\n",
      "klin = 0\n",
      "molecule = h2o\n",
      "ng_adju = [0, -1, 0]\n",
      "ng_refs = [3, 2, 3]\n",
      "nv = 1000\n",
      "option_compute_btable = 0\n",
      "option_compute_ktable = 0\n",
      "option_wgt_flux = 1\n",
      "option_wgt_k = 1\n",
      "ref_pts = [(1, 250), (10, 250), (500, 250)]\n",
      "tsfc = 257\n",
      "vmax = 1900\n",
      "vmin = 1380\n",
      "w_diffuse = [(1.66, 1.66, 1.66), (1.66, 1.66), (1.66, 1.66, 1.66)]\n",
      "wgt = [(0.55, 0.55, 0.85), (0.85, 0.85), (0, 0.3, 0.55)]\n"
     ]
    },
    {
     "data": {
      "text/html": [
       "<a id=\"Cooling_Rate_Profiles\"></a>"
      ],
      "text/plain": [
       "<IPython.core.display.HTML object>"
      ]
     },
     "metadata": {},
     "output_type": "display_data"
    },
    {
     "data": {
      "text/markdown": [
       "# Cooling Rate Profiles"
      ],
      "text/plain": [
       "<IPython.core.display.Markdown object>"
      ]
     },
     "metadata": {},
     "output_type": "display_data"
    },
    {
     "data": {
      "text/html": [
       "\n",
       "<div class=\"bk-root\">\n",
       "    <div class=\"bk-plotdiv\" id=\"3e48ee1e-5fcf-4025-a7b3-1113b375fa05\"></div>\n",
       "</div>"
      ]
     },
     "metadata": {},
     "output_type": "display_data"
    },
    {
     "data": {
      "application/javascript": [
       "(function(root) {\n",
       "  function embed_document(root) {\n",
       "    \n",
       "  var docs_json = {\"3e79a3c9-2e9a-4614-9b1a-2933821a8898\":{\"roots\":{\"references\":[{\"attributes\":{},\"id\":\"d0d72051-86fc-464c-a6f0-3326284b69c2\",\"type\":\"Selection\"},{\"attributes\":{},\"id\":\"6727e478-194a-4ac0-8dfd-e9ddc409e058\",\"type\":\"UnionRenderers\"},{\"attributes\":{},\"id\":\"256de49f-ff80-4144-b838-f715e3db730b\",\"type\":\"UnionRenderers\"},{\"attributes\":{\"data_source\":{\"id\":\"70318e4d-544a-4987-bf1e-5d526e760239\",\"type\":\"ColumnDataSource\"},\"glyph\":{\"id\":\"cb3cf02b-e0e1-42e1-a26f-6d3d3104228b\",\"type\":\"Square\"},\"hover_glyph\":null,\"muted_glyph\":null,\"nonselection_glyph\":{\"id\":\"2e3313c2-1e22-40c8-9174-7873c45f3f1b\",\"type\":\"Square\"},\"selection_glyph\":null,\"view\":{\"id\":\"2c6703e3-f31e-412d-9ceb-c0bd152aceff\",\"type\":\"CDSView\"}},\"id\":\"c5cbecab-e692-4b5c-870f-678dd0b78106\",\"type\":\"GlyphRenderer\"},{\"attributes\":{},\"id\":\"9f45fdfb-cc54-424c-8f4d-f787460a79a4\",\"type\":\"UnionRenderers\"},{\"attributes\":{},\"id\":\"15b26c94-b8d1-420b-ba82-ae82d2b211fd\",\"type\":\"UnionRenderers\"},{\"attributes\":{\"toolbar\":{\"id\":\"949a9d9b-4f8a-4886-a929-539e982e5db8\",\"type\":\"ProxyToolbar\"},\"toolbar_location\":\"above\"},\"id\":\"61d99cef-fb17-4b5b-b206-25eed1614138\",\"type\":\"ToolbarBox\"},{\"attributes\":{\"plot\":null,\"text\":\"Linear pressure scale\"},\"id\":\"09792d7c-2f6d-433d-9b9e-6b8d01b5c469\",\"type\":\"Title\"},{\"attributes\":{},\"id\":\"0f4f9353-e11e-4860-b894-d0b206c2eac6\",\"type\":\"Selection\"},{\"attributes\":{\"active_drag\":\"auto\",\"active_inspect\":\"auto\",\"active_scroll\":\"auto\",\"active_tap\":\"auto\",\"tools\":[{\"id\":\"4db50863-2864-44e0-8e38-6a0bbab3823b\",\"type\":\"PanTool\"},{\"id\":\"8ebffdf1-aa2f-4808-8620-23cdf298de8d\",\"type\":\"WheelZoomTool\"},{\"id\":\"0e8446e1-afe8-4128-8cff-ae9febac2928\",\"type\":\"BoxZoomTool\"},{\"id\":\"a243fa91-4237-4dd5-b94d-adfb321f84d8\",\"type\":\"SaveTool\"},{\"id\":\"7baa2813-b847-4925-af98-523d9c535dd7\",\"type\":\"ResetTool\"},{\"id\":\"6d5c85cb-cd75-42d9-bd86-4fbfa5000d97\",\"type\":\"HelpTool\"}]},\"id\":\"bf1e2ab4-7709-420c-9572-2f882b0f10dd\",\"type\":\"Toolbar\"},{\"attributes\":{},\"id\":\"0fbe2249-5db4-4d76-9a30-6f9bc090287c\",\"type\":\"Selection\"},{\"attributes\":{\"children\":[{\"id\":\"61d99cef-fb17-4b5b-b206-25eed1614138\",\"type\":\"ToolbarBox\"},{\"id\":\"042faca3-5540-48f2-b5b2-4b98b824d812\",\"type\":\"Column\"}]},\"id\":\"86345883-e042-482a-bcfe-d63ccb2f83f7\",\"type\":\"Column\"},{\"attributes\":{\"callback\":null,\"data\":{\"x\":{\"__ndarray__\":\"5UIGbrTOyb/fxkU5wczIv/F2jETLLsa/NL2jSr08w7/GYw6bK/e/v+s7Jwy20Li/Y1bC77MFsb/YQesC2i2hv3ZhTWCYHl0/9mxB4mMfpD/QCeOfACe0P/6ZIG53pL4/diKY1QGxxD8qK5fXWxTJP19NVCWAUcs/PN4/cVs2zD8JxqCXeqvMPwojSVLK0sw/5SFbr0zszD9+RUzDz4PNPwwEATJ0bM8/o5ZBEHt8yj9Rrt8Cv/y9P5Y5eWtCVa0/87FYFo4Ynj97ShVfyWKQPyN9z1L2uYE/jr70QCyeeD+tfidQ/ah6P4x7c8A1hXs/eeXLIkwFeD9ope24EbFxP7Nthg80PHA/JSb2uev/dD/SEUtSqiB5P31IIKet5nw/Bp6tkvcJgD93OA/d66F/P0Z/vuaCHoM/QLTLwbAfhT94WdSmOK6FPwxDPWQePoM//A56BU0Dfj9TKGA684tvP9LUr49uRmW/zBoNQOnbeL/89EUAnqgDPyAUek6Re4Y/MxUkrkq/mj+vOc0j+/emP74vcHE70a8/Lz0qlgyUsz+5d7RBi0S2P4ABmapv8bc/vvj4PRexuD/dPSwT/6m4PxZQEIsEErg/B3oLmH4Rtz/pUgOdrsa1P9pqKhltRrQ/xZSjWwqjsj+k73UfbvGwP6IZpfq3k64/dFRwo8Ggqz/w03QawmGpPwaWMI4iT6g/mAvMcigvqT/6gyN23cOsP7ae9ptW+LA/eJBaBYoIsj+9uCckpv+uP9/Upx9LVKU/MXVSvQd4mD8YbTIDxSqEP19JGiWtzY6/\",\"dtype\":\"float64\",\"shape\":[75]},\"y\":{\"__ndarray__\":\"GhExyth1ND/Sv8nbtpRIP2vylNV0PVE/aTum7souWD/At0SJ8fVgPw3Iuahxymc/MSNhhJWvcD/bTfBN02d3P2zb5nxnaoA/CD5h5MAGhz8NmeH1TyaQP+zrCsc9p5Y/LbKd76fGnz/bLW5ISEmmPww9YvTcQq8/JV2OstnstT8Er5Y7M8G+P0c+r3jqkcU/5h99k6ZBzj88bCIzFzjVP4enV8oyxN0//yH99nXg5D8qOpLLf0jtP5kqGJXUifQ/c9cS8kHP/D+/DpwzojQEQIEmwoanVwxA4lgXt9HgE0BSSZ2AJuIbQAMJih9jjiNA5q4l5INuK0AwTKYKRj0zQNv5fmq8/DpAaCJseHrtQkB/+zpwzoxKQM3MzMzMeFJAZmZmZmZqWEAAAAAAAFxeQM3MzMzMJmJAmpmZmZkfZUBmZmZmZhhoQDMzMzMzEWtAAAAAAAAKbkBmZmZmZoFwQM3MzMzM/XFAMzMzMzN6c0CamZmZmfZ0QAAAAAAAc3ZAZmZmZmbvd0DNzMzMzGt5QDMzMzMz6HpAmpmZmZlkfEAAAAAAAOF9QGZmZmZmXX9AZmZmZuZsgECamZmZGSuBQM3MzMxM6YFAAAAAAICngkAzMzMzs2WDQGZmZmbmI4RAmpmZmRnihEDNzMzMTKCFQAAAAACAXoZAMzMzM7Mch0BmZmZm5tqHQJqZmZkZmYhAzczMzExXiUAAAAAAgBWKQDMzMzOz04pAZmZmZuaRi0CamZmZGVCMQM3MzMxMDo1AAAAAAIDMjUAzMzMzs4qOQGZmZmbmSI9A\",\"dtype\":\"float64\",\"shape\":[75]}},\"selected\":{\"id\":\"d0d72051-86fc-464c-a6f0-3326284b69c2\",\"type\":\"Selection\"},\"selection_policy\":{\"id\":\"6727e478-194a-4ac0-8dfd-e9ddc409e058\",\"type\":\"UnionRenderers\"}},\"id\":\"3b0d6540-2027-487c-acbf-418e904d7140\",\"type\":\"ColumnDataSource\"},{\"attributes\":{},\"id\":\"eec8dd80-943f-4d35-b05d-c1cb8db27de1\",\"type\":\"Selection\"},{\"attributes\":{\"below\":[{\"id\":\"5038eae0-6cc1-42df-9a70-ba2d1fbef0b3\",\"type\":\"LinearAxis\"}],\"left\":[{\"id\":\"95995d6e-d503-4238-a6d0-7840fd521c62\",\"type\":\"LogAxis\"}],\"plot_height\":500,\"plot_width\":560,\"renderers\":[{\"id\":\"5038eae0-6cc1-42df-9a70-ba2d1fbef0b3\",\"type\":\"LinearAxis\"},{\"id\":\"a07242cb-ee55-48d1-98b2-6cbb1e4b3767\",\"type\":\"Grid\"},{\"id\":\"95995d6e-d503-4238-a6d0-7840fd521c62\",\"type\":\"LogAxis\"},{\"id\":\"2058f09e-a4e0-4ec4-9d3f-d9f5ba7235cb\",\"type\":\"Grid\"},{\"id\":\"83d58709-3279-47d4-ac98-fcd537a5376a\",\"type\":\"BoxAnnotation\"},{\"id\":\"a8b525b4-dc93-4487-b27f-3cbdf0abe126\",\"type\":\"GlyphRenderer\"},{\"id\":\"9a8852b1-06d2-4520-babd-aa656e84a6b8\",\"type\":\"GlyphRenderer\"},{\"id\":\"cf99f70d-6cf8-410a-a7e6-2b4e50932700\",\"type\":\"GlyphRenderer\"},{\"id\":\"fb73d1af-2770-4fbd-9085-c642a057035a\",\"type\":\"GlyphRenderer\"},{\"id\":\"f36aafdb-a79f-42ba-a57e-c1ddb4691fb8\",\"type\":\"GlyphRenderer\"},{\"id\":\"d30e74bc-b732-47b9-bf15-f9cde224d9c8\",\"type\":\"Legend\"}],\"right\":[{\"id\":\"d30e74bc-b732-47b9-bf15-f9cde224d9c8\",\"type\":\"Legend\"}],\"title\":{\"id\":\"51aa5781-504b-45f1-8e95-49dafbe88acb\",\"type\":\"Title\"},\"toolbar\":{\"id\":\"e8b5e541-a7af-4346-87d3-c00444f4630a\",\"type\":\"Toolbar\"},\"toolbar_location\":null,\"x_range\":{\"id\":\"21eafe4b-8299-43c3-9b3a-596eed9f03ee\",\"type\":\"Range1d\"},\"x_scale\":{\"id\":\"3590b937-3a91-4899-a202-a96ee3c8779e\",\"type\":\"LinearScale\"},\"y_range\":{\"id\":\"35e88600-8baa-40a8-9b46-8247f893cb26\",\"type\":\"Range1d\"},\"y_scale\":{\"id\":\"d8d3fa0c-1158-49aa-8320-f32a0e4f5049\",\"type\":\"LogScale\"}},\"id\":\"6531fe94-1b49-4f87-aabc-02abdd5efd34\",\"subtype\":\"Figure\",\"type\":\"Plot\"},{\"attributes\":{\"tools\":[{\"id\":\"4db50863-2864-44e0-8e38-6a0bbab3823b\",\"type\":\"PanTool\"},{\"id\":\"8ebffdf1-aa2f-4808-8620-23cdf298de8d\",\"type\":\"WheelZoomTool\"},{\"id\":\"0e8446e1-afe8-4128-8cff-ae9febac2928\",\"type\":\"BoxZoomTool\"},{\"id\":\"a243fa91-4237-4dd5-b94d-adfb321f84d8\",\"type\":\"SaveTool\"},{\"id\":\"7baa2813-b847-4925-af98-523d9c535dd7\",\"type\":\"ResetTool\"},{\"id\":\"6d5c85cb-cd75-42d9-bd86-4fbfa5000d97\",\"type\":\"HelpTool\"},{\"id\":\"bed1dbe8-838d-410a-8853-13f246d88157\",\"type\":\"PanTool\"},{\"id\":\"32eac1f3-4c77-4266-9d12-0f84a2976150\",\"type\":\"WheelZoomTool\"},{\"id\":\"1696a68c-deb6-42ae-a23a-1c50c85dea32\",\"type\":\"BoxZoomTool\"},{\"id\":\"b79d6ac0-a207-4f3d-932c-710c9861e34e\",\"type\":\"SaveTool\"},{\"id\":\"975d4552-6060-4348-953f-9220dd47e2a8\",\"type\":\"ResetTool\"},{\"id\":\"c0149024-865a-4cd4-a081-4077dab218f8\",\"type\":\"HelpTool\"}]},\"id\":\"949a9d9b-4f8a-4886-a929-539e982e5db8\",\"type\":\"ProxyToolbar\"},{\"attributes\":{\"plot\":{\"id\":\"a0fe8c1a-e519-4e6c-a9ed-71f25c6ca19e\",\"subtype\":\"Figure\",\"type\":\"Plot\"},\"ticker\":{\"id\":\"d2f71604-965d-4e88-862c-d1741a048da3\",\"type\":\"BasicTicker\"}},\"id\":\"e5063633-6e84-4ff1-8eed-edc1ac02188f\",\"type\":\"Grid\"},{\"attributes\":{\"data_source\":{\"id\":\"6d471044-5021-4ab2-a534-ce690b53fd34\",\"type\":\"ColumnDataSource\"},\"glyph\":{\"id\":\"817de9e9-fc2f-4fa9-973f-ba43452d2ba4\",\"type\":\"Line\"},\"hover_glyph\":null,\"muted_glyph\":null,\"nonselection_glyph\":{\"id\":\"2e0b58a7-256c-49ac-8b61-671cfe0ac110\",\"type\":\"Line\"},\"selection_glyph\":null,\"view\":{\"id\":\"df98ef70-a529-4783-be2d-b614f12c0131\",\"type\":\"CDSView\"}},\"id\":\"633a890e-4c9f-4c4a-bf1c-b3a4d4bf748a\",\"type\":\"GlyphRenderer\"},{\"attributes\":{},\"id\":\"52d33561-a534-4e55-9b05-60192ed02a76\",\"type\":\"Selection\"},{\"attributes\":{},\"id\":\"8ebffdf1-aa2f-4808-8620-23cdf298de8d\",\"type\":\"WheelZoomTool\"},{\"attributes\":{},\"id\":\"4db50863-2864-44e0-8e38-6a0bbab3823b\",\"type\":\"PanTool\"},{\"attributes\":{\"fill_alpha\":{\"value\":0.7},\"fill_color\":{\"value\":\"#984ea3\"},\"line_alpha\":{\"value\":0.7},\"line_color\":{\"value\":\"#984ea3\"},\"x\":{\"field\":\"x\"},\"y\":{\"field\":\"y\"}},\"id\":\"cb3cf02b-e0e1-42e1-a26f-6d3d3104228b\",\"type\":\"Square\"},{\"attributes\":{\"source\":{\"id\":\"5097274f-d054-400d-8f1d-728d1b1b7451\",\"type\":\"ColumnDataSource\"}},\"id\":\"8929534d-e5d4-40de-b0ea-b873c30d28d6\",\"type\":\"CDSView\"},{\"attributes\":{},\"id\":\"6d5c85cb-cd75-42d9-bd86-4fbfa5000d97\",\"type\":\"HelpTool\"},{\"attributes\":{\"fill_alpha\":{\"value\":0.7},\"fill_color\":{\"value\":\"#4daf4a\"},\"line_alpha\":{\"value\":0.7},\"line_color\":{\"value\":\"#4daf4a\"},\"x\":{\"field\":\"x\"},\"y\":{\"field\":\"y\"}},\"id\":\"c1430baa-aa52-4cc9-b62d-8bcab15e2395\",\"type\":\"Circle\"},{\"attributes\":{\"source\":{\"id\":\"7bcc8d2c-664c-4e9e-9d04-4ea2fef5308c\",\"type\":\"ColumnDataSource\"}},\"id\":\"5c179f06-f84d-4408-b9b6-311af2e97de4\",\"type\":\"CDSView\"},{\"attributes\":{\"fill_alpha\":{\"value\":0.1},\"fill_color\":{\"value\":\"#1f77b4\"},\"line_alpha\":{\"value\":0.1},\"line_color\":{\"value\":\"#1f77b4\"},\"x\":{\"field\":\"x\"},\"y\":{\"field\":\"y\"}},\"id\":\"2e3313c2-1e22-40c8-9174-7873c45f3f1b\",\"type\":\"Square\"},{\"attributes\":{\"callback\":null,\"end\":0.01,\"start\":1020},\"id\":\"91af7630-f7a8-438b-91d0-f45e496f51b4\",\"type\":\"Range1d\"},{\"attributes\":{\"callback\":null,\"data\":{\"x\":{\"__ndarray__\":\"VqYNkQxKxr+9wh0PN2zFvw8jHw90X8O/xZX3q5AOwb9xlBzrH8+8vyetCVO58ba/Q4ZOj+htsL9gA+3BjG6iv+yCge9smXW/HcZSqkLinD8kdJpcxGywPzfLK9gTOLo/iwpKBHtCwj8O0zpI8rfGP8S00xC2esk/czr42nAfyz/tSy0RW03MP/0qSUo8EM0/IOLbyZqNzT/b+PrF8zbOPwC12vaLqs8/8vKp6P50yj+tIvvYGMC9P+A6/y26maw/PYMJKSSgnj/hyO7st9iSP6pzdpQHyIY/Sf0iFqTAfj/9xSn1cdB9Px6Hff7VlX4/hgp59YxffD+PZT70HX52P+GD8hT873Q/37U3TFghej9QDkz21+F9P08L6sFI4H8/dx6z/4O9gD9EG/5aM1SAP+MfZFfZfoQ/oJy40kqwiD/bE6bCSMiLP5tQTa2fS4o/ZBOYaXkthT9Pkf1wnu52P1dlPmaZXme/ia3LW06ugL/uweyZn6Fmv5ZZ8FDjM4A/et35ldEqlT8fmsyneKqhP8PDGGPzWak/vAxl8JYasT+RInEby/u0P4V1USPxXLc/j8pxm01AuD+NhDzHSEe4P7xZaxlzFLg/4AXSNVTYtz+exdsvNGS3P2owgYvDfbY/2dIPGHgAtT82QVRHbxqzP5wXB+EXArE/OJ1ZS/IJrj8BuV/uFuGqP6uyA4KDM6k/VBYnD7rRqT8NkS24MWKtP/RnWfurT7E/MlTGslNksj80CxxrCa2vP2xzejywxaU/On0suR5imD8ZgOqSc2iBPwOIJtObHJG/\",\"dtype\":\"float64\",\"shape\":[75]},\"y\":{\"__ndarray__\":\"GhExyth1ND/Sv8nbtpRIP2vylNV0PVE/aTum7souWD/At0SJ8fVgPw3Iuahxymc/MSNhhJWvcD/bTfBN02d3P2zb5nxnaoA/CD5h5MAGhz8NmeH1TyaQP+zrCsc9p5Y/LbKd76fGnz/bLW5ISEmmPww9YvTcQq8/JV2OstnstT8Er5Y7M8G+P0c+r3jqkcU/5h99k6ZBzj88bCIzFzjVP4enV8oyxN0//yH99nXg5D8qOpLLf0jtP5kqGJXUifQ/c9cS8kHP/D+/DpwzojQEQIEmwoanVwxA4lgXt9HgE0BSSZ2AJuIbQAMJih9jjiNA5q4l5INuK0AwTKYKRj0zQNv5fmq8/DpAaCJseHrtQkB/+zpwzoxKQM3MzMzMeFJAZmZmZmZqWEAAAAAAAFxeQM3MzMzMJmJAmpmZmZkfZUBmZmZmZhhoQDMzMzMzEWtAAAAAAAAKbkBmZmZmZoFwQM3MzMzM/XFAMzMzMzN6c0CamZmZmfZ0QAAAAAAAc3ZAZmZmZmbvd0DNzMzMzGt5QDMzMzMz6HpAmpmZmZlkfEAAAAAAAOF9QGZmZmZmXX9AZmZmZuZsgECamZmZGSuBQM3MzMxM6YFAAAAAAICngkAzMzMzs2WDQGZmZmbmI4RAmpmZmRnihEDNzMzMTKCFQAAAAACAXoZAMzMzM7Mch0BmZmZm5tqHQJqZmZkZmYhAzczMzExXiUAAAAAAgBWKQDMzMzOz04pAZmZmZuaRi0CamZmZGVCMQM3MzMxMDo1AAAAAAIDMjUAzMzMzs4qOQGZmZmbmSI9A\",\"dtype\":\"float64\",\"shape\":[75]}},\"selected\":{\"id\":\"0fbe2249-5db4-4d76-9a30-6f9bc090287c\",\"type\":\"Selection\"},\"selection_policy\":{\"id\":\"9f45fdfb-cc54-424c-8f4d-f787460a79a4\",\"type\":\"UnionRenderers\"}},\"id\":\"c28e2f30-6688-4026-8331-71d6bfa65a7d\",\"type\":\"ColumnDataSource\"},{\"attributes\":{\"data_source\":{\"id\":\"3b0d6540-2027-487c-acbf-418e904d7140\",\"type\":\"ColumnDataSource\"},\"glyph\":{\"id\":\"c1430baa-aa52-4cc9-b62d-8bcab15e2395\",\"type\":\"Circle\"},\"hover_glyph\":null,\"muted_glyph\":null,\"nonselection_glyph\":{\"id\":\"6a0183a7-0a2a-4d03-8354-12114a22c6cb\",\"type\":\"Circle\"},\"selection_glyph\":null,\"view\":{\"id\":\"bc6ead0f-c89d-4b45-bbc0-af9cb417a149\",\"type\":\"CDSView\"}},\"id\":\"9a8852b1-06d2-4520-babd-aa656e84a6b8\",\"type\":\"GlyphRenderer\"},{\"attributes\":{\"axis_label\":\"pressure [mb]\",\"formatter\":{\"id\":\"16e3d660-96ed-489e-8c8c-fb5569b5af8e\",\"type\":\"BasicTickFormatter\"},\"plot\":{\"id\":\"a0fe8c1a-e519-4e6c-a9ed-71f25c6ca19e\",\"subtype\":\"Figure\",\"type\":\"Plot\"},\"ticker\":{\"id\":\"6e326656-9d2c-4643-9656-ad98b922a5d2\",\"type\":\"BasicTicker\"}},\"id\":\"7eac4b65-49f3-4854-a641-8614e0acad3b\",\"type\":\"LinearAxis\"},{\"attributes\":{\"source\":{\"id\":\"6d471044-5021-4ab2-a534-ce690b53fd34\",\"type\":\"ColumnDataSource\"}},\"id\":\"df98ef70-a529-4783-be2d-b614f12c0131\",\"type\":\"CDSView\"},{\"attributes\":{\"line_color\":\"#4daf4a\",\"line_width\":1.5,\"x\":{\"field\":\"x\"},\"y\":{\"field\":\"y\"}},\"id\":\"713a8e46-d8e8-4405-be55-9532c69de664\",\"type\":\"Line\"},{\"attributes\":{\"axis_label\":\"cooling rate [K/day]\",\"formatter\":{\"id\":\"a12f0722-a623-4eee-8e42-256cda145037\",\"type\":\"BasicTickFormatter\"},\"plot\":{\"id\":\"a0fe8c1a-e519-4e6c-a9ed-71f25c6ca19e\",\"subtype\":\"Figure\",\"type\":\"Plot\"},\"ticker\":{\"id\":\"d2f71604-965d-4e88-862c-d1741a048da3\",\"type\":\"BasicTicker\"}},\"id\":\"3242d953-b2e3-4c0f-915c-26eba67e80bf\",\"type\":\"LinearAxis\"},{\"attributes\":{\"fill_alpha\":{\"value\":0.1},\"fill_color\":{\"value\":\"#1f77b4\"},\"line_alpha\":{\"value\":0.1},\"line_color\":{\"value\":\"#1f77b4\"},\"x\":{\"field\":\"x\"},\"y\":{\"field\":\"y\"}},\"id\":\"bdf78986-79ed-4296-a393-b545314bd631\",\"type\":\"Circle\"},{\"attributes\":{},\"id\":\"6e326656-9d2c-4643-9656-ad98b922a5d2\",\"type\":\"BasicTicker\"},{\"attributes\":{\"dimension\":1,\"plot\":{\"id\":\"a0fe8c1a-e519-4e6c-a9ed-71f25c6ca19e\",\"subtype\":\"Figure\",\"type\":\"Plot\"},\"ticker\":{\"id\":\"6e326656-9d2c-4643-9656-ad98b922a5d2\",\"type\":\"BasicTicker\"}},\"id\":\"c2fbd0c7-5c69-4d59-8bbd-b658fe1e1dce\",\"type\":\"Grid\"},{\"attributes\":{\"bottom_units\":\"screen\",\"fill_alpha\":{\"value\":0.5},\"fill_color\":{\"value\":\"lightgrey\"},\"left_units\":\"screen\",\"level\":\"overlay\",\"line_alpha\":{\"value\":1.0},\"line_color\":{\"value\":\"black\"},\"line_dash\":[4,4],\"line_width\":{\"value\":2},\"plot\":null,\"render_mode\":\"css\",\"right_units\":\"screen\",\"top_units\":\"screen\"},\"id\":\"0fbdf202-961a-4c01-aa2e-67f46f578d22\",\"type\":\"BoxAnnotation\"},{\"attributes\":{},\"id\":\"d2f71604-965d-4e88-862c-d1741a048da3\",\"type\":\"BasicTicker\"},{\"attributes\":{},\"id\":\"a243fa91-4237-4dd5-b94d-adfb321f84d8\",\"type\":\"SaveTool\"},{\"attributes\":{\"fill_alpha\":{\"value\":0.1},\"fill_color\":{\"value\":\"#1f77b4\"},\"line_alpha\":{\"value\":0.1},\"line_color\":{\"value\":\"#1f77b4\"},\"x\":{\"field\":\"x\"},\"y\":{\"field\":\"y\"}},\"id\":\"6a0183a7-0a2a-4d03-8354-12114a22c6cb\",\"type\":\"Circle\"},{\"attributes\":{},\"id\":\"7baa2813-b847-4925-af98-523d9c535dd7\",\"type\":\"ResetTool\"},{\"attributes\":{\"source\":{\"id\":\"70318e4d-544a-4987-bf1e-5d526e760239\",\"type\":\"ColumnDataSource\"}},\"id\":\"2c6703e3-f31e-412d-9ceb-c0bd152aceff\",\"type\":\"CDSView\"},{\"attributes\":{\"line_alpha\":0.1,\"line_color\":\"#1f77b4\",\"line_dash\":[6],\"line_width\":5,\"x\":{\"field\":\"x\"},\"y\":{\"field\":\"y\"}},\"id\":\"95278f68-baf3-4f8e-b33d-a42a35fcc85c\",\"type\":\"Line\"},{\"attributes\":{\"callback\":null,\"data\":{\"x\":{\"__ndarray__\":\"6mwz2zaIxL+4ySxrMMfDv4kevm0iCsK/UtZvJqYLwL/N6GjREpa7v2hkeR+Tgba/OJNQqfvIsL+G72I5wM6kvwgcvaWSvYq/2EQfWeTKkT+5Xon2Z/WpP46phsA7QLY/OF/TIFgXwD8pEfr8pJjEPxkCoXG4wcc/6qEqZLb9yT9ckJD1ks7LP6ZIW+iMIM0/q069JIT9zT+0IuZpK7zOPwTi2Cc+xs8/803DhXYtyj/Ean+pl8a8P5Ck+odavqo/aygqJUjInT+GjYy3kKWTP5/USF/J1Ic/yergnK1VfT+FLUjDwY96P8HCO5Q3tHs/hCHVbVX9ej8uUrpJC911P1kIqR4bT3Q/yd4+6jDYeT9xSdAGeel9P6niJ8U36n4/PTE9MnUWfz9nrYrvyRx+P4pYhiiGc4M/dQeQJZyriD+jpg+9wguNP8FLniLva4w/K3Ndcogqhz8BH0mzPAJ5Px3PbR6cymi/6UvKOKFrgr8aPNymKRZwv7uTeA6fU3w//Kj4Uof7kz+AJEWUkdugPycjqMa9jKk/YtuBvh32sT/cXCqmOjO2P5hiB8ipM7g/+VoUmWCIuD9jmncJP1K4P6HMX1Gse7g/HSGRI47WuD/82MTMtZ24P05MYDissLc/53NqPhmptT/DWvEX90KzPxneHBa5k7A/HgUqERhTrD8O1PScnr6oP6WSz2VJBKc/HJYYYRCspz/fhaggEeOrP2HpMut7w7A/qDpbdVoNsj/CCr/tbDyvP31kNnIkaqU/VsFrQTZjlz9jFK5FlzCAP24Ocj8pWJK/\",\"dtype\":\"float64\",\"shape\":[75]},\"y\":{\"__ndarray__\":\"S/O/Q+51ND/Sv8nbtpRIP2vylNV0PVE/aTum7souWD/At0SJ8fVgPw3Iuahxymc/MSNhhJWvcD/bTfBN02d3P2zb5nxnaoA/CD5h5MAGhz8NmeH1TyaQP+zrCsc9p5Y/LbKd76fGnz/bLW5ISEmmPww9YvTcQq8/JV2OstnstT8Er5Y7M8G+P0c+r3jqkcU/5h99k6ZBzj88bCIzFzjVP4enV8oyxN0//yH99nXg5D8qOpLLf0jtP5kqGJXUifQ/c9cS8kHP/D+/DpwzojQEQIEmwoanVwxA4lgXt9HgE0BSSZ2AJuIbQAMJih9jjiNA5q4l5INuK0AwTKYKRj0zQNv5fmq8/DpAaCJseHrtQkB/+zpwzoxKQM3MzMzMeFJAZmZmZmZqWEAAAAAAAFxeQM3MzMzMJmJAmpmZmZkfZUBmZmZmZhhoQDMzMzMzEWtAAAAAAAAKbkBmZmZmZoFwQM3MzMzM/XFAMzMzMzN6c0CamZmZmfZ0QAAAAAAAc3ZAZmZmZmbvd0DNzMzMzGt5QDMzMzMz6HpAmpmZmZlkfEAAAAAAAOF9QGZmZmZmXX9AZmZmZuZsgECamZmZGSuBQM3MzMxM6YFAAAAAAICngkAzMzMzs2WDQGZmZmbmI4RAmpmZmRnihEDNzMzMTKCFQAAAAACAXoZAMzMzM7Mch0BmZmZm5tqHQJqZmZkZmYhAzczMzExXiUAAAAAAgBWKQDMzMzOz04pAZmZmZuaRi0CamZmZGVCMQM3MzMxMDo1AAAAAAIDMjUAzMzMzs4qOQGZmZmbmSI9A\",\"dtype\":\"float64\",\"shape\":[75]}},\"selected\":{\"id\":\"52d33561-a534-4e55-9b05-60192ed02a76\",\"type\":\"Selection\"},\"selection_policy\":{\"id\":\"c49c96e9-7da3-4539-b303-87cdc797fac0\",\"type\":\"UnionRenderers\"}},\"id\":\"7bcc8d2c-664c-4e9e-9d04-4ea2fef5308c\",\"type\":\"ColumnDataSource\"},{\"attributes\":{\"callback\":null,\"data\":{\"x\":{\"__ndarray__\":\"5UIGbrTOyb/fxkU5wczIv/F2jETLLsa/NL2jSr08w7/GYw6bK/e/v+s7Jwy20Li/Y1bC77MFsb/YQesC2i2hv3ZhTWCYHl0/9mxB4mMfpD/QCeOfACe0P/6ZIG53pL4/diKY1QGxxD8qK5fXWxTJP19NVCWAUcs/PN4/cVs2zD8JxqCXeqvMPwojSVLK0sw/5SFbr0zszD9+RUzDz4PNPwwEATJ0bM8/o5ZBEHt8yj9Rrt8Cv/y9P5Y5eWtCVa0/87FYFo4Ynj97ShVfyWKQPyN9z1L2uYE/jr70QCyeeD+tfidQ/ah6P4x7c8A1hXs/eeXLIkwFeD9ope24EbFxP7Nthg80PHA/JSb2uev/dD/SEUtSqiB5P31IIKet5nw/Bp6tkvcJgD93OA/d66F/P0Z/vuaCHoM/QLTLwbAfhT94WdSmOK6FPwxDPWQePoM//A56BU0Dfj9TKGA684tvP9LUr49uRmW/zBoNQOnbeL/89EUAnqgDPyAUek6Re4Y/MxUkrkq/mj+vOc0j+/emP74vcHE70a8/Lz0qlgyUsz+5d7RBi0S2P4ABmapv8bc/vvj4PRexuD/dPSwT/6m4PxZQEIsEErg/B3oLmH4Rtz/pUgOdrsa1P9pqKhltRrQ/xZSjWwqjsj+k73UfbvGwP6IZpfq3k64/dFRwo8Ggqz/w03QawmGpPwaWMI4iT6g/mAvMcigvqT/6gyN23cOsP7ae9ptW+LA/eJBaBYoIsj+9uCckpv+uP9/Upx9LVKU/MXVSvQd4mD8YbTIDxSqEP19JGiWtzY6/\",\"dtype\":\"float64\",\"shape\":[75]},\"y\":{\"__ndarray__\":\"GhExyth1ND/Sv8nbtpRIP2vylNV0PVE/aTum7souWD/At0SJ8fVgPw3Iuahxymc/MSNhhJWvcD/bTfBN02d3P2zb5nxnaoA/CD5h5MAGhz8NmeH1TyaQP+zrCsc9p5Y/LbKd76fGnz/bLW5ISEmmPww9YvTcQq8/JV2OstnstT8Er5Y7M8G+P0c+r3jqkcU/5h99k6ZBzj88bCIzFzjVP4enV8oyxN0//yH99nXg5D8qOpLLf0jtP5kqGJXUifQ/c9cS8kHP/D+/DpwzojQEQIEmwoanVwxA4lgXt9HgE0BSSZ2AJuIbQAMJih9jjiNA5q4l5INuK0AwTKYKRj0zQNv5fmq8/DpAaCJseHrtQkB/+zpwzoxKQM3MzMzMeFJAZmZmZmZqWEAAAAAAAFxeQM3MzMzMJmJAmpmZmZkfZUBmZmZmZhhoQDMzMzMzEWtAAAAAAAAKbkBmZmZmZoFwQM3MzMzM/XFAMzMzMzN6c0CamZmZmfZ0QAAAAAAAc3ZAZmZmZmbvd0DNzMzMzGt5QDMzMzMz6HpAmpmZmZlkfEAAAAAAAOF9QGZmZmZmXX9AZmZmZuZsgECamZmZGSuBQM3MzMxM6YFAAAAAAICngkAzMzMzs2WDQGZmZmbmI4RAmpmZmRnihEDNzMzMTKCFQAAAAACAXoZAMzMzM7Mch0BmZmZm5tqHQJqZmZkZmYhAzczMzExXiUAAAAAAgBWKQDMzMzOz04pAZmZmZuaRi0CamZmZGVCMQM3MzMxMDo1AAAAAAIDMjUAzMzMzs4qOQGZmZmbmSI9A\",\"dtype\":\"float64\",\"shape\":[75]}},\"selected\":{\"id\":\"0f4f9353-e11e-4860-b894-d0b206c2eac6\",\"type\":\"Selection\"},\"selection_policy\":{\"id\":\"256de49f-ff80-4144-b838-f715e3db730b\",\"type\":\"UnionRenderers\"}},\"id\":\"2ca7c07c-3e3c-49db-81cf-84cd50462926\",\"type\":\"ColumnDataSource\"},{\"attributes\":{\"data_source\":{\"id\":\"deb970e7-2671-493f-ba9e-4ffe1a5177e3\",\"type\":\"ColumnDataSource\"},\"glyph\":{\"id\":\"c1329052-efb3-4459-9ec3-1080976b9dba\",\"type\":\"Line\"},\"hover_glyph\":null,\"muted_glyph\":null,\"nonselection_glyph\":{\"id\":\"151f5bb4-ad11-425a-a09d-75b3a8272e03\",\"type\":\"Line\"},\"selection_glyph\":null,\"view\":{\"id\":\"16dcbb78-4435-4e83-9458-9e4d7db7c59b\",\"type\":\"CDSView\"}},\"id\":\"a8b525b4-dc93-4487-b27f-3cbdf0abe126\",\"type\":\"GlyphRenderer\"},{\"attributes\":{\"callback\":null,\"data\":{\"x\":{\"__ndarray__\":\"5UIGbrTOyb/fxkU5wczIv/F2jETLLsa/NL2jSr08w7/GYw6bK/e/v+s7Jwy20Li/Y1bC77MFsb/YQesC2i2hv3ZhTWCYHl0/9mxB4mMfpD/QCeOfACe0P/6ZIG53pL4/diKY1QGxxD8qK5fXWxTJP19NVCWAUcs/PN4/cVs2zD8JxqCXeqvMPwojSVLK0sw/5SFbr0zszD9+RUzDz4PNPwwEATJ0bM8/o5ZBEHt8yj9Rrt8Cv/y9P5Y5eWtCVa0/87FYFo4Ynj97ShVfyWKQPyN9z1L2uYE/jr70QCyeeD+tfidQ/ah6P4x7c8A1hXs/eeXLIkwFeD9ope24EbFxP7Nthg80PHA/JSb2uev/dD/SEUtSqiB5P31IIKet5nw/Bp6tkvcJgD93OA/d66F/P0Z/vuaCHoM/QLTLwbAfhT94WdSmOK6FPwxDPWQePoM//A56BU0Dfj9TKGA684tvP9LUr49uRmW/zBoNQOnbeL/89EUAnqgDPyAUek6Re4Y/MxUkrkq/mj+vOc0j+/emP74vcHE70a8/Lz0qlgyUsz+5d7RBi0S2P4ABmapv8bc/vvj4PRexuD/dPSwT/6m4PxZQEIsEErg/B3oLmH4Rtz/pUgOdrsa1P9pqKhltRrQ/xZSjWwqjsj+k73UfbvGwP6IZpfq3k64/dFRwo8Ggqz/w03QawmGpPwaWMI4iT6g/mAvMcigvqT/6gyN23cOsP7ae9ptW+LA/eJBaBYoIsj+9uCckpv+uP9/Upx9LVKU/MXVSvQd4mD8YbTIDxSqEP19JGiWtzY6/\",\"dtype\":\"float64\",\"shape\":[75]},\"y\":{\"__ndarray__\":\"GhExyth1ND/Sv8nbtpRIP2vylNV0PVE/aTum7souWD/At0SJ8fVgPw3Iuahxymc/MSNhhJWvcD/bTfBN02d3P2zb5nxnaoA/CD5h5MAGhz8NmeH1TyaQP+zrCsc9p5Y/LbKd76fGnz/bLW5ISEmmPww9YvTcQq8/JV2OstnstT8Er5Y7M8G+P0c+r3jqkcU/5h99k6ZBzj88bCIzFzjVP4enV8oyxN0//yH99nXg5D8qOpLLf0jtP5kqGJXUifQ/c9cS8kHP/D+/DpwzojQEQIEmwoanVwxA4lgXt9HgE0BSSZ2AJuIbQAMJih9jjiNA5q4l5INuK0AwTKYKRj0zQNv5fmq8/DpAaCJseHrtQkB/+zpwzoxKQM3MzMzMeFJAZmZmZmZqWEAAAAAAAFxeQM3MzMzMJmJAmpmZmZkfZUBmZmZmZhhoQDMzMzMzEWtAAAAAAAAKbkBmZmZmZoFwQM3MzMzM/XFAMzMzMzN6c0CamZmZmfZ0QAAAAAAAc3ZAZmZmZmbvd0DNzMzMzGt5QDMzMzMz6HpAmpmZmZlkfEAAAAAAAOF9QGZmZmZmXX9AZmZmZuZsgECamZmZGSuBQM3MzMxM6YFAAAAAAICngkAzMzMzs2WDQGZmZmbmI4RAmpmZmRnihEDNzMzMTKCFQAAAAACAXoZAMzMzM7Mch0BmZmZm5tqHQJqZmZkZmYhAzczMzExXiUAAAAAAgBWKQDMzMzOz04pAZmZmZuaRi0CamZmZGVCMQM3MzMxMDo1AAAAAAIDMjUAzMzMzs4qOQGZmZmbmSI9A\",\"dtype\":\"float64\",\"shape\":[75]}},\"selected\":{\"id\":\"bacb62c4-5166-4ea8-8a16-d7edd24e1849\",\"type\":\"Selection\"},\"selection_policy\":{\"id\":\"f9eab7fd-79f1-405b-9e92-0dc8459c6aaa\",\"type\":\"UnionRenderers\"}},\"id\":\"6c847953-a804-4037-9fc0-9b04000eeee7\",\"type\":\"ColumnDataSource\"},{\"attributes\":{\"overlay\":{\"id\":\"0fbdf202-961a-4c01-aa2e-67f46f578d22\",\"type\":\"BoxAnnotation\"}},\"id\":\"0e8446e1-afe8-4128-8cff-ae9febac2928\",\"type\":\"BoxZoomTool\"},{\"attributes\":{\"source\":{\"id\":\"3b0d6540-2027-487c-acbf-418e904d7140\",\"type\":\"ColumnDataSource\"}},\"id\":\"bc6ead0f-c89d-4b45-bbc0-af9cb417a149\",\"type\":\"CDSView\"},{\"attributes\":{\"source\":{\"id\":\"deb970e7-2671-493f-ba9e-4ffe1a5177e3\",\"type\":\"ColumnDataSource\"}},\"id\":\"16dcbb78-4435-4e83-9458-9e4d7db7c59b\",\"type\":\"CDSView\"},{\"attributes\":{\"line_alpha\":0.1,\"line_color\":\"#1f77b4\",\"line_width\":1.5,\"x\":{\"field\":\"x\"},\"y\":{\"field\":\"y\"}},\"id\":\"9faa6b50-e549-423f-b096-015e79e59eb0\",\"type\":\"Line\"},{\"attributes\":{\"data_source\":{\"id\":\"2ca7c07c-3e3c-49db-81cf-84cd50462926\",\"type\":\"ColumnDataSource\"},\"glyph\":{\"id\":\"713a8e46-d8e8-4405-be55-9532c69de664\",\"type\":\"Line\"},\"hover_glyph\":null,\"muted_glyph\":null,\"nonselection_glyph\":{\"id\":\"9faa6b50-e549-423f-b096-015e79e59eb0\",\"type\":\"Line\"},\"selection_glyph\":null,\"view\":{\"id\":\"945c3a87-07ff-4590-8f8a-f8a639bc007e\",\"type\":\"CDSView\"}},\"id\":\"cf99f70d-6cf8-410a-a7e6-2b4e50932700\",\"type\":\"GlyphRenderer\"},{\"attributes\":{\"source\":{\"id\":\"2ca7c07c-3e3c-49db-81cf-84cd50462926\",\"type\":\"ColumnDataSource\"}},\"id\":\"945c3a87-07ff-4590-8f8a-f8a639bc007e\",\"type\":\"CDSView\"},{\"attributes\":{\"line_alpha\":0.6,\"line_color\":\"#e41a1c\",\"line_dash\":[6],\"line_width\":5,\"x\":{\"field\":\"x\"},\"y\":{\"field\":\"y\"}},\"id\":\"c2cc06d9-184e-4c93-be13-dedfb0a04058\",\"type\":\"Line\"},{\"attributes\":{\"fill_alpha\":{\"value\":0.7},\"fill_color\":{\"value\":\"#984ea3\"},\"line_alpha\":{\"value\":0.7},\"line_color\":{\"value\":\"#984ea3\"},\"x\":{\"field\":\"x\"},\"y\":{\"field\":\"y\"}},\"id\":\"c9bacb40-80f0-4a25-bb4b-db05618f7608\",\"type\":\"Square\"},{\"attributes\":{\"children\":[{\"id\":\"a0fe8c1a-e519-4e6c-a9ed-71f25c6ca19e\",\"subtype\":\"Figure\",\"type\":\"Plot\"},{\"id\":\"6531fe94-1b49-4f87-aabc-02abdd5efd34\",\"subtype\":\"Figure\",\"type\":\"Plot\"}]},\"id\":\"24f86f58-5de3-4dc3-b724-583997b1fd25\",\"type\":\"Row\"},{\"attributes\":{\"callback\":null,\"end\":0.09817323586000001,\"start\":-0.01906381586},\"id\":\"69abded7-8662-4983-822a-7849f72b5958\",\"type\":\"Range1d\"},{\"attributes\":{\"fill_alpha\":{\"value\":0.7},\"fill_color\":{\"value\":\"#4daf4a\"},\"line_alpha\":{\"value\":0.7},\"line_color\":{\"value\":\"#4daf4a\"},\"x\":{\"field\":\"x\"},\"y\":{\"field\":\"y\"}},\"id\":\"bb4e2457-91f2-4d3c-b85e-0b22f4116aad\",\"type\":\"Circle\"},{\"attributes\":{\"fill_alpha\":{\"value\":0.1},\"fill_color\":{\"value\":\"#1f77b4\"},\"line_alpha\":{\"value\":0.1},\"line_color\":{\"value\":\"#1f77b4\"},\"x\":{\"field\":\"x\"},\"y\":{\"field\":\"y\"}},\"id\":\"a9bfb503-3985-4331-ac12-b92de7c56b6c\",\"type\":\"Square\"},{\"attributes\":{\"below\":[{\"id\":\"3242d953-b2e3-4c0f-915c-26eba67e80bf\",\"type\":\"LinearAxis\"}],\"left\":[{\"id\":\"7eac4b65-49f3-4854-a641-8614e0acad3b\",\"type\":\"LinearAxis\"}],\"plot_height\":500,\"plot_width\":400,\"renderers\":[{\"id\":\"3242d953-b2e3-4c0f-915c-26eba67e80bf\",\"type\":\"LinearAxis\"},{\"id\":\"e5063633-6e84-4ff1-8eed-edc1ac02188f\",\"type\":\"Grid\"},{\"id\":\"7eac4b65-49f3-4854-a641-8614e0acad3b\",\"type\":\"LinearAxis\"},{\"id\":\"c2fbd0c7-5c69-4d59-8bbd-b658fe1e1dce\",\"type\":\"Grid\"},{\"id\":\"0fbdf202-961a-4c01-aa2e-67f46f578d22\",\"type\":\"BoxAnnotation\"},{\"id\":\"0b1711dc-f2ba-44ae-95ba-86d26aa736ec\",\"type\":\"GlyphRenderer\"},{\"id\":\"268b2462-0793-4846-a344-ef573a35931c\",\"type\":\"GlyphRenderer\"},{\"id\":\"633a890e-4c9f-4c4a-bf1c-b3a4d4bf748a\",\"type\":\"GlyphRenderer\"},{\"id\":\"c5cbecab-e692-4b5c-870f-678dd0b78106\",\"type\":\"GlyphRenderer\"},{\"id\":\"ca8d8a74-0efc-42a3-a843-68ee36369b96\",\"type\":\"GlyphRenderer\"}],\"title\":{\"id\":\"09792d7c-2f6d-433d-9b9e-6b8d01b5c469\",\"type\":\"Title\"},\"toolbar\":{\"id\":\"bf1e2ab4-7709-420c-9572-2f882b0f10dd\",\"type\":\"Toolbar\"},\"toolbar_location\":null,\"x_range\":{\"id\":\"69abded7-8662-4983-822a-7849f72b5958\",\"type\":\"Range1d\"},\"x_scale\":{\"id\":\"5eb80729-dd82-4b00-884d-e48d698ab9b3\",\"type\":\"LinearScale\"},\"y_range\":{\"id\":\"91af7630-f7a8-438b-91d0-f45e496f51b4\",\"type\":\"Range1d\"},\"y_scale\":{\"id\":\"f4ca7422-1428-4c65-b913-140feb139bc0\",\"type\":\"LinearScale\"}},\"id\":\"a0fe8c1a-e519-4e6c-a9ed-71f25c6ca19e\",\"subtype\":\"Figure\",\"type\":\"Plot\"},{\"attributes\":{\"data_source\":{\"id\":\"c28e2f30-6688-4026-8331-71d6bfa65a7d\",\"type\":\"ColumnDataSource\"},\"glyph\":{\"id\":\"c9bacb40-80f0-4a25-bb4b-db05618f7608\",\"type\":\"Square\"},\"hover_glyph\":null,\"muted_glyph\":null,\"nonselection_glyph\":{\"id\":\"a9bfb503-3985-4331-ac12-b92de7c56b6c\",\"type\":\"Square\"},\"selection_glyph\":null,\"view\":{\"id\":\"1e7a1680-e289-4b56-b00a-039ed0f98abc\",\"type\":\"CDSView\"}},\"id\":\"fb73d1af-2770-4fbd-9085-c642a057035a\",\"type\":\"GlyphRenderer\"},{\"attributes\":{\"data_source\":{\"id\":\"6c847953-a804-4037-9fc0-9b04000eeee7\",\"type\":\"ColumnDataSource\"},\"glyph\":{\"id\":\"bb4e2457-91f2-4d3c-b85e-0b22f4116aad\",\"type\":\"Circle\"},\"hover_glyph\":null,\"muted_glyph\":null,\"nonselection_glyph\":{\"id\":\"bdf78986-79ed-4296-a393-b545314bd631\",\"type\":\"Circle\"},\"selection_glyph\":null,\"view\":{\"id\":\"f0f9b8da-1744-46ad-8a3b-c651a7bb6999\",\"type\":\"CDSView\"}},\"id\":\"268b2462-0793-4846-a344-ef573a35931c\",\"type\":\"GlyphRenderer\"},{\"attributes\":{\"source\":{\"id\":\"c28e2f30-6688-4026-8331-71d6bfa65a7d\",\"type\":\"ColumnDataSource\"}},\"id\":\"1e7a1680-e289-4b56-b00a-039ed0f98abc\",\"type\":\"CDSView\"},{\"attributes\":{\"label\":{\"value\":\"CLIRAD `coolr_bands`\"},\"renderers\":[{\"id\":\"a8b525b4-dc93-4487-b27f-3cbdf0abe126\",\"type\":\"GlyphRenderer\"}]},\"id\":\"f4df925d-52e1-4ad3-b767-76cad66d093b\",\"type\":\"LegendItem\"},{\"attributes\":{\"children\":[{\"id\":\"24f86f58-5de3-4dc3-b724-583997b1fd25\",\"type\":\"Row\"}]},\"id\":\"042faca3-5540-48f2-b5b2-4b98b824d812\",\"type\":\"Column\"},{\"attributes\":{},\"id\":\"cfef5707-95e8-4ac2-9517-4457ccd5a066\",\"type\":\"UnionRenderers\"},{\"attributes\":{},\"id\":\"16e3d660-96ed-489e-8c8c-fb5569b5af8e\",\"type\":\"BasicTickFormatter\"},{\"attributes\":{\"callback\":null,\"data\":{\"x\":{\"__ndarray__\":\"5UIGbrTOyb/fxkU5wczIv/F2jETLLsa/NL2jSr08w7/GYw6bK/e/v+s7Jwy20Li/Y1bC77MFsb/YQesC2i2hv3ZhTWCYHl0/9mxB4mMfpD/QCeOfACe0P/6ZIG53pL4/diKY1QGxxD8qK5fXWxTJP19NVCWAUcs/PN4/cVs2zD8JxqCXeqvMPwojSVLK0sw/5SFbr0zszD9+RUzDz4PNPwwEATJ0bM8/o5ZBEHt8yj9Rrt8Cv/y9P5Y5eWtCVa0/87FYFo4Ynj97ShVfyWKQPyN9z1L2uYE/jr70QCyeeD+tfidQ/ah6P4x7c8A1hXs/eeXLIkwFeD9ope24EbFxP7Nthg80PHA/JSb2uev/dD/SEUtSqiB5P31IIKet5nw/Bp6tkvcJgD93OA/d66F/P0Z/vuaCHoM/QLTLwbAfhT94WdSmOK6FPwxDPWQePoM//A56BU0Dfj9TKGA684tvP9LUr49uRmW/zBoNQOnbeL/89EUAnqgDPyAUek6Re4Y/MxUkrkq/mj+vOc0j+/emP74vcHE70a8/Lz0qlgyUsz+5d7RBi0S2P4ABmapv8bc/vvj4PRexuD/dPSwT/6m4PxZQEIsEErg/B3oLmH4Rtz/pUgOdrsa1P9pqKhltRrQ/xZSjWwqjsj+k73UfbvGwP6IZpfq3k64/dFRwo8Ggqz/w03QawmGpPwaWMI4iT6g/mAvMcigvqT/6gyN23cOsP7ae9ptW+LA/eJBaBYoIsj+9uCckpv+uP9/Upx9LVKU/MXVSvQd4mD8YbTIDxSqEP19JGiWtzY6/\",\"dtype\":\"float64\",\"shape\":[75]},\"y\":{\"__ndarray__\":\"GhExyth1ND/Sv8nbtpRIP2vylNV0PVE/aTum7souWD/At0SJ8fVgPw3Iuahxymc/MSNhhJWvcD/bTfBN02d3P2zb5nxnaoA/CD5h5MAGhz8NmeH1TyaQP+zrCsc9p5Y/LbKd76fGnz/bLW5ISEmmPww9YvTcQq8/JV2OstnstT8Er5Y7M8G+P0c+r3jqkcU/5h99k6ZBzj88bCIzFzjVP4enV8oyxN0//yH99nXg5D8qOpLLf0jtP5kqGJXUifQ/c9cS8kHP/D+/DpwzojQEQIEmwoanVwxA4lgXt9HgE0BSSZ2AJuIbQAMJih9jjiNA5q4l5INuK0AwTKYKRj0zQNv5fmq8/DpAaCJseHrtQkB/+zpwzoxKQM3MzMzMeFJAZmZmZmZqWEAAAAAAAFxeQM3MzMzMJmJAmpmZmZkfZUBmZmZmZhhoQDMzMzMzEWtAAAAAAAAKbkBmZmZmZoFwQM3MzMzM/XFAMzMzMzN6c0CamZmZmfZ0QAAAAAAAc3ZAZmZmZmbvd0DNzMzMzGt5QDMzMzMz6HpAmpmZmZlkfEAAAAAAAOF9QGZmZmZmXX9AZmZmZuZsgECamZmZGSuBQM3MzMxM6YFAAAAAAICngkAzMzMzs2WDQGZmZmbmI4RAmpmZmRnihEDNzMzMTKCFQAAAAACAXoZAMzMzM7Mch0BmZmZm5tqHQJqZmZkZmYhAzczMzExXiUAAAAAAgBWKQDMzMzOz04pAZmZmZuaRi0CamZmZGVCMQM3MzMxMDo1AAAAAAIDMjUAzMzMzs4qOQGZmZmbmSI9A\",\"dtype\":\"float64\",\"shape\":[75]}},\"selected\":{\"id\":\"8f708cde-07f6-4018-a711-093bf0752f2f\",\"type\":\"Selection\"},\"selection_policy\":{\"id\":\"cfef5707-95e8-4ac2-9517-4457ccd5a066\",\"type\":\"UnionRenderers\"}},\"id\":\"6d471044-5021-4ab2-a534-ce690b53fd34\",\"type\":\"ColumnDataSource\"},{\"attributes\":{\"label\":{\"value\":\"CRD\"},\"renderers\":[{\"id\":\"9a8852b1-06d2-4520-babd-aa656e84a6b8\",\"type\":\"GlyphRenderer\"},{\"id\":\"cf99f70d-6cf8-410a-a7e6-2b4e50932700\",\"type\":\"GlyphRenderer\"}]},\"id\":\"4c2c413e-de79-4ee5-b848-3e8a930fd0f8\",\"type\":\"LegendItem\"},{\"attributes\":{},\"id\":\"bacb62c4-5166-4ea8-8a16-d7edd24e1849\",\"type\":\"Selection\"},{\"attributes\":{\"line_alpha\":0.1,\"line_color\":\"#1f77b4\",\"line_width\":1.5,\"x\":{\"field\":\"x\"},\"y\":{\"field\":\"y\"}},\"id\":\"2e0b58a7-256c-49ac-8b61-671cfe0ac110\",\"type\":\"Line\"},{\"attributes\":{\"label\":{\"value\":\"WGT igg=10 wgt_flux=2\"},\"renderers\":[{\"id\":\"fb73d1af-2770-4fbd-9085-c642a057035a\",\"type\":\"GlyphRenderer\"},{\"id\":\"f36aafdb-a79f-42ba-a57e-c1ddb4691fb8\",\"type\":\"GlyphRenderer\"}]},\"id\":\"5da5e4ad-eb46-4806-a83d-8d3992e41d25\",\"type\":\"LegendItem\"},{\"attributes\":{\"line_color\":\"#4daf4a\",\"line_width\":1.5,\"x\":{\"field\":\"x\"},\"y\":{\"field\":\"y\"}},\"id\":\"817de9e9-fc2f-4fa9-973f-ba43452d2ba4\",\"type\":\"Line\"},{\"attributes\":{},\"id\":\"c49c96e9-7da3-4539-b303-87cdc797fac0\",\"type\":\"UnionRenderers\"},{\"attributes\":{\"callback\":null,\"data\":{\"x\":{\"__ndarray__\":\"VqYNkQxKxr+9wh0PN2zFvw8jHw90X8O/xZX3q5AOwb9xlBzrH8+8vyetCVO58ba/Q4ZOj+htsL9gA+3BjG6iv+yCge9smXW/HcZSqkLinD8kdJpcxGywPzfLK9gTOLo/iwpKBHtCwj8O0zpI8rfGP8S00xC2esk/czr42nAfyz/tSy0RW03MP/0qSUo8EM0/IOLbyZqNzT/b+PrF8zbOPwC12vaLqs8/8vKp6P50yj+tIvvYGMC9P+A6/y26maw/PYMJKSSgnj/hyO7st9iSP6pzdpQHyIY/Sf0iFqTAfj/9xSn1cdB9Px6Hff7VlX4/hgp59YxffD+PZT70HX52P+GD8hT873Q/37U3TFghej9QDkz21+F9P08L6sFI4H8/dx6z/4O9gD9EG/5aM1SAP+MfZFfZfoQ/oJy40kqwiD/bE6bCSMiLP5tQTa2fS4o/ZBOYaXkthT9Pkf1wnu52P1dlPmaZXme/ia3LW06ugL/uweyZn6Fmv5ZZ8FDjM4A/et35ldEqlT8fmsyneKqhP8PDGGPzWak/vAxl8JYasT+RInEby/u0P4V1USPxXLc/j8pxm01AuD+NhDzHSEe4P7xZaxlzFLg/4AXSNVTYtz+exdsvNGS3P2owgYvDfbY/2dIPGHgAtT82QVRHbxqzP5wXB+EXArE/OJ1ZS/IJrj8BuV/uFuGqP6uyA4KDM6k/VBYnD7rRqT8NkS24MWKtP/RnWfurT7E/MlTGslNksj80CxxrCa2vP2xzejywxaU/On0suR5imD8ZgOqSc2iBPwOIJtObHJG/\",\"dtype\":\"float64\",\"shape\":[75]},\"y\":{\"__ndarray__\":\"GhExyth1ND/Sv8nbtpRIP2vylNV0PVE/aTum7souWD/At0SJ8fVgPw3Iuahxymc/MSNhhJWvcD/bTfBN02d3P2zb5nxnaoA/CD5h5MAGhz8NmeH1TyaQP+zrCsc9p5Y/LbKd76fGnz/bLW5ISEmmPww9YvTcQq8/JV2OstnstT8Er5Y7M8G+P0c+r3jqkcU/5h99k6ZBzj88bCIzFzjVP4enV8oyxN0//yH99nXg5D8qOpLLf0jtP5kqGJXUifQ/c9cS8kHP/D+/DpwzojQEQIEmwoanVwxA4lgXt9HgE0BSSZ2AJuIbQAMJih9jjiNA5q4l5INuK0AwTKYKRj0zQNv5fmq8/DpAaCJseHrtQkB/+zpwzoxKQM3MzMzMeFJAZmZmZmZqWEAAAAAAAFxeQM3MzMzMJmJAmpmZmZkfZUBmZmZmZhhoQDMzMzMzEWtAAAAAAAAKbkBmZmZmZoFwQM3MzMzM/XFAMzMzMzN6c0CamZmZmfZ0QAAAAAAAc3ZAZmZmZmbvd0DNzMzMzGt5QDMzMzMz6HpAmpmZmZlkfEAAAAAAAOF9QGZmZmZmXX9AZmZmZuZsgECamZmZGSuBQM3MzMxM6YFAAAAAAICngkAzMzMzs2WDQGZmZmbmI4RAmpmZmRnihEDNzMzMTKCFQAAAAACAXoZAMzMzM7Mch0BmZmZm5tqHQJqZmZkZmYhAzczMzExXiUAAAAAAgBWKQDMzMzOz04pAZmZmZuaRi0CamZmZGVCMQM3MzMxMDo1AAAAAAIDMjUAzMzMzs4qOQGZmZmbmSI9A\",\"dtype\":\"float64\",\"shape\":[75]}},\"selected\":{\"id\":\"92b4f86f-a5bc-4210-8762-2828ce5130c6\",\"type\":\"Selection\"},\"selection_policy\":{\"id\":\"b90e08b2-38a7-4cd7-84a3-4fd83a775699\",\"type\":\"UnionRenderers\"}},\"id\":\"70318e4d-544a-4987-bf1e-5d526e760239\",\"type\":\"ColumnDataSource\"},{\"attributes\":{},\"id\":\"a12f0722-a623-4eee-8e42-256cda145037\",\"type\":\"BasicTickFormatter\"},{\"attributes\":{},\"id\":\"f4ca7422-1428-4c65-b913-140feb139bc0\",\"type\":\"LinearScale\"},{\"attributes\":{},\"id\":\"f9eab7fd-79f1-405b-9e92-0dc8459c6aaa\",\"type\":\"UnionRenderers\"},{\"attributes\":{},\"id\":\"b90e08b2-38a7-4cd7-84a3-4fd83a775699\",\"type\":\"UnionRenderers\"},{\"attributes\":{},\"id\":\"3f65ad22-6009-48df-8b47-bf8c022fe6d3\",\"type\":\"UnionRenderers\"},{\"attributes\":{\"data_source\":{\"id\":\"7bcc8d2c-664c-4e9e-9d04-4ea2fef5308c\",\"type\":\"ColumnDataSource\"},\"glyph\":{\"id\":\"c2cc06d9-184e-4c93-be13-dedfb0a04058\",\"type\":\"Line\"},\"hover_glyph\":null,\"muted_glyph\":null,\"nonselection_glyph\":{\"id\":\"95278f68-baf3-4f8e-b33d-a42a35fcc85c\",\"type\":\"Line\"},\"selection_glyph\":null,\"view\":{\"id\":\"5c179f06-f84d-4408-b9b6-311af2e97de4\",\"type\":\"CDSView\"}},\"id\":\"0b1711dc-f2ba-44ae-95ba-86d26aa736ec\",\"type\":\"GlyphRenderer\"},{\"attributes\":{},\"id\":\"95836d9e-2401-4aab-96dc-7a76b936f6ff\",\"type\":\"BasicTickFormatter\"},{\"attributes\":{},\"id\":\"5eb80729-dd82-4b00-884d-e48d698ab9b3\",\"type\":\"LinearScale\"},{\"attributes\":{},\"id\":\"8f708cde-07f6-4018-a711-093bf0752f2f\",\"type\":\"Selection\"},{\"attributes\":{\"source\":{\"id\":\"6c847953-a804-4037-9fc0-9b04000eeee7\",\"type\":\"ColumnDataSource\"}},\"id\":\"f0f9b8da-1744-46ad-8a3b-c651a7bb6999\",\"type\":\"CDSView\"},{\"attributes\":{\"ticker\":null},\"id\":\"90391545-806e-48ba-928a-278d01b0c520\",\"type\":\"LogTickFormatter\"},{\"attributes\":{},\"id\":\"92b4f86f-a5bc-4210-8762-2828ce5130c6\",\"type\":\"Selection\"},{\"attributes\":{},\"id\":\"497fda63-5910-44e4-a969-20070327c5c5\",\"type\":\"UnionRenderers\"},{\"attributes\":{},\"id\":\"e68f1854-238c-4ac8-b839-e90a3b7106a1\",\"type\":\"Selection\"},{\"attributes\":{},\"id\":\"06808e62-66d5-41b2-bcf2-6c3e6361a590\",\"type\":\"Selection\"},{\"attributes\":{\"callback\":null,\"data\":{\"x\":{\"__ndarray__\":\"VqYNkQxKxr+9wh0PN2zFvw8jHw90X8O/xZX3q5AOwb9xlBzrH8+8vyetCVO58ba/Q4ZOj+htsL9gA+3BjG6iv+yCge9smXW/HcZSqkLinD8kdJpcxGywPzfLK9gTOLo/iwpKBHtCwj8O0zpI8rfGP8S00xC2esk/czr42nAfyz/tSy0RW03MP/0qSUo8EM0/IOLbyZqNzT/b+PrF8zbOPwC12vaLqs8/8vKp6P50yj+tIvvYGMC9P+A6/y26maw/PYMJKSSgnj/hyO7st9iSP6pzdpQHyIY/Sf0iFqTAfj/9xSn1cdB9Px6Hff7VlX4/hgp59YxffD+PZT70HX52P+GD8hT873Q/37U3TFghej9QDkz21+F9P08L6sFI4H8/dx6z/4O9gD9EG/5aM1SAP+MfZFfZfoQ/oJy40kqwiD/bE6bCSMiLP5tQTa2fS4o/ZBOYaXkthT9Pkf1wnu52P1dlPmaZXme/ia3LW06ugL/uweyZn6Fmv5ZZ8FDjM4A/et35ldEqlT8fmsyneKqhP8PDGGPzWak/vAxl8JYasT+RInEby/u0P4V1USPxXLc/j8pxm01AuD+NhDzHSEe4P7xZaxlzFLg/4AXSNVTYtz+exdsvNGS3P2owgYvDfbY/2dIPGHgAtT82QVRHbxqzP5wXB+EXArE/OJ1ZS/IJrj8BuV/uFuGqP6uyA4KDM6k/VBYnD7rRqT8NkS24MWKtP/RnWfurT7E/MlTGslNksj80CxxrCa2vP2xzejywxaU/On0suR5imD8ZgOqSc2iBPwOIJtObHJG/\",\"dtype\":\"float64\",\"shape\":[75]},\"y\":{\"__ndarray__\":\"GhExyth1ND/Sv8nbtpRIP2vylNV0PVE/aTum7souWD/At0SJ8fVgPw3Iuahxymc/MSNhhJWvcD/bTfBN02d3P2zb5nxnaoA/CD5h5MAGhz8NmeH1TyaQP+zrCsc9p5Y/LbKd76fGnz/bLW5ISEmmPww9YvTcQq8/JV2OstnstT8Er5Y7M8G+P0c+r3jqkcU/5h99k6ZBzj88bCIzFzjVP4enV8oyxN0//yH99nXg5D8qOpLLf0jtP5kqGJXUifQ/c9cS8kHP/D+/DpwzojQEQIEmwoanVwxA4lgXt9HgE0BSSZ2AJuIbQAMJih9jjiNA5q4l5INuK0AwTKYKRj0zQNv5fmq8/DpAaCJseHrtQkB/+zpwzoxKQM3MzMzMeFJAZmZmZmZqWEAAAAAAAFxeQM3MzMzMJmJAmpmZmZkfZUBmZmZmZhhoQDMzMzMzEWtAAAAAAAAKbkBmZmZmZoFwQM3MzMzM/XFAMzMzMzN6c0CamZmZmfZ0QAAAAAAAc3ZAZmZmZmbvd0DNzMzMzGt5QDMzMzMz6HpAmpmZmZlkfEAAAAAAAOF9QGZmZmZmXX9AZmZmZuZsgECamZmZGSuBQM3MzMxM6YFAAAAAAICngkAzMzMzs2WDQGZmZmbmI4RAmpmZmRnihEDNzMzMTKCFQAAAAACAXoZAMzMzM7Mch0BmZmZm5tqHQJqZmZkZmYhAzczMzExXiUAAAAAAgBWKQDMzMzOz04pAZmZmZuaRi0CamZmZGVCMQM3MzMxMDo1AAAAAAIDMjUAzMzMzs4qOQGZmZmbmSI9A\",\"dtype\":\"float64\",\"shape\":[75]}},\"selected\":{\"id\":\"e68f1854-238c-4ac8-b839-e90a3b7106a1\",\"type\":\"Selection\"},\"selection_policy\":{\"id\":\"3f65ad22-6009-48df-8b47-bf8c022fe6d3\",\"type\":\"UnionRenderers\"}},\"id\":\"4dbabce7-cd4c-4713-9815-410ba045ec10\",\"type\":\"ColumnDataSource\"},{\"attributes\":{\"active_drag\":\"auto\",\"active_inspect\":\"auto\",\"active_scroll\":\"auto\",\"active_tap\":\"auto\",\"tools\":[{\"id\":\"bed1dbe8-838d-410a-8853-13f246d88157\",\"type\":\"PanTool\"},{\"id\":\"32eac1f3-4c77-4266-9d12-0f84a2976150\",\"type\":\"WheelZoomTool\"},{\"id\":\"1696a68c-deb6-42ae-a23a-1c50c85dea32\",\"type\":\"BoxZoomTool\"},{\"id\":\"b79d6ac0-a207-4f3d-932c-710c9861e34e\",\"type\":\"SaveTool\"},{\"id\":\"975d4552-6060-4348-953f-9220dd47e2a8\",\"type\":\"ResetTool\"},{\"id\":\"c0149024-865a-4cd4-a081-4077dab218f8\",\"type\":\"HelpTool\"}]},\"id\":\"e8b5e541-a7af-4346-87d3-c00444f4630a\",\"type\":\"Toolbar\"},{\"attributes\":{\"num_minor_ticks\":10},\"id\":\"c29145a3-8c0a-420e-ac23-5414235c4a5e\",\"type\":\"LogTicker\"},{\"attributes\":{\"line_alpha\":0.6,\"line_color\":\"#984ea3\",\"line_width\":3,\"x\":{\"field\":\"x\"},\"y\":{\"field\":\"y\"}},\"id\":\"01a50a3a-a206-4db1-a733-0fe135992367\",\"type\":\"Line\"},{\"attributes\":{\"overlay\":{\"id\":\"83d58709-3279-47d4-ac98-fcd537a5376a\",\"type\":\"BoxAnnotation\"}},\"id\":\"1696a68c-deb6-42ae-a23a-1c50c85dea32\",\"type\":\"BoxZoomTool\"},{\"attributes\":{\"data_source\":{\"id\":\"5097274f-d054-400d-8f1d-728d1b1b7451\",\"type\":\"ColumnDataSource\"},\"glyph\":{\"id\":\"ee837dba-9ead-49c7-87c5-495ac88195ce\",\"type\":\"Line\"},\"hover_glyph\":null,\"muted_glyph\":null,\"nonselection_glyph\":{\"id\":\"8b2174b0-5726-4a7e-9b57-bcf1c5ffa018\",\"type\":\"Line\"},\"selection_glyph\":null,\"view\":{\"id\":\"8929534d-e5d4-40de-b0ea-b873c30d28d6\",\"type\":\"CDSView\"}},\"id\":\"f36aafdb-a79f-42ba-a57e-c1ddb4691fb8\",\"type\":\"GlyphRenderer\"},{\"attributes\":{},\"id\":\"b79d6ac0-a207-4f3d-932c-710c9861e34e\",\"type\":\"SaveTool\"},{\"attributes\":{\"callback\":null,\"data\":{\"x\":{\"__ndarray__\":\"VqYNkQxKxr+9wh0PN2zFvw8jHw90X8O/xZX3q5AOwb9xlBzrH8+8vyetCVO58ba/Q4ZOj+htsL9gA+3BjG6iv+yCge9smXW/HcZSqkLinD8kdJpcxGywPzfLK9gTOLo/iwpKBHtCwj8O0zpI8rfGP8S00xC2esk/czr42nAfyz/tSy0RW03MP/0qSUo8EM0/IOLbyZqNzT/b+PrF8zbOPwC12vaLqs8/8vKp6P50yj+tIvvYGMC9P+A6/y26maw/PYMJKSSgnj/hyO7st9iSP6pzdpQHyIY/Sf0iFqTAfj/9xSn1cdB9Px6Hff7VlX4/hgp59YxffD+PZT70HX52P+GD8hT873Q/37U3TFghej9QDkz21+F9P08L6sFI4H8/dx6z/4O9gD9EG/5aM1SAP+MfZFfZfoQ/oJy40kqwiD/bE6bCSMiLP5tQTa2fS4o/ZBOYaXkthT9Pkf1wnu52P1dlPmaZXme/ia3LW06ugL/uweyZn6Fmv5ZZ8FDjM4A/et35ldEqlT8fmsyneKqhP8PDGGPzWak/vAxl8JYasT+RInEby/u0P4V1USPxXLc/j8pxm01AuD+NhDzHSEe4P7xZaxlzFLg/4AXSNVTYtz+exdsvNGS3P2owgYvDfbY/2dIPGHgAtT82QVRHbxqzP5wXB+EXArE/OJ1ZS/IJrj8BuV/uFuGqP6uyA4KDM6k/VBYnD7rRqT8NkS24MWKtP/RnWfurT7E/MlTGslNksj80CxxrCa2vP2xzejywxaU/On0suR5imD8ZgOqSc2iBPwOIJtObHJG/\",\"dtype\":\"float64\",\"shape\":[75]},\"y\":{\"__ndarray__\":\"GhExyth1ND/Sv8nbtpRIP2vylNV0PVE/aTum7souWD/At0SJ8fVgPw3Iuahxymc/MSNhhJWvcD/bTfBN02d3P2zb5nxnaoA/CD5h5MAGhz8NmeH1TyaQP+zrCsc9p5Y/LbKd76fGnz/bLW5ISEmmPww9YvTcQq8/JV2OstnstT8Er5Y7M8G+P0c+r3jqkcU/5h99k6ZBzj88bCIzFzjVP4enV8oyxN0//yH99nXg5D8qOpLLf0jtP5kqGJXUifQ/c9cS8kHP/D+/DpwzojQEQIEmwoanVwxA4lgXt9HgE0BSSZ2AJuIbQAMJih9jjiNA5q4l5INuK0AwTKYKRj0zQNv5fmq8/DpAaCJseHrtQkB/+zpwzoxKQM3MzMzMeFJAZmZmZmZqWEAAAAAAAFxeQM3MzMzMJmJAmpmZmZkfZUBmZmZmZhhoQDMzMzMzEWtAAAAAAAAKbkBmZmZmZoFwQM3MzMzM/XFAMzMzMzN6c0CamZmZmfZ0QAAAAAAAc3ZAZmZmZmbvd0DNzMzMzGt5QDMzMzMz6HpAmpmZmZlkfEAAAAAAAOF9QGZmZmZmXX9AZmZmZuZsgECamZmZGSuBQM3MzMxM6YFAAAAAAICngkAzMzMzs2WDQGZmZmbmI4RAmpmZmRnihEDNzMzMTKCFQAAAAACAXoZAMzMzM7Mch0BmZmZm5tqHQJqZmZkZmYhAzczMzExXiUAAAAAAgBWKQDMzMzOz04pAZmZmZuaRi0CamZmZGVCMQM3MzMxMDo1AAAAAAIDMjUAzMzMzs4qOQGZmZmbmSI9A\",\"dtype\":\"float64\",\"shape\":[75]}},\"selected\":{\"id\":\"eec8dd80-943f-4d35-b05d-c1cb8db27de1\",\"type\":\"Selection\"},\"selection_policy\":{\"id\":\"15b26c94-b8d1-420b-ba82-ae82d2b211fd\",\"type\":\"UnionRenderers\"}},\"id\":\"5097274f-d054-400d-8f1d-728d1b1b7451\",\"type\":\"ColumnDataSource\"},{\"attributes\":{},\"id\":\"55ee8340-396a-405e-9ee3-371f6dd4164a\",\"type\":\"BasicTicker\"},{\"attributes\":{\"axis_label\":\"cooling rate [K/day]\",\"formatter\":{\"id\":\"95836d9e-2401-4aab-96dc-7a76b936f6ff\",\"type\":\"BasicTickFormatter\"},\"plot\":{\"id\":\"6531fe94-1b49-4f87-aabc-02abdd5efd34\",\"subtype\":\"Figure\",\"type\":\"Plot\"},\"ticker\":{\"id\":\"55ee8340-396a-405e-9ee3-371f6dd4164a\",\"type\":\"BasicTicker\"}},\"id\":\"5038eae0-6cc1-42df-9a70-ba2d1fbef0b3\",\"type\":\"LinearAxis\"},{\"attributes\":{\"line_alpha\":0.1,\"line_color\":\"#1f77b4\",\"line_width\":3,\"x\":{\"field\":\"x\"},\"y\":{\"field\":\"y\"}},\"id\":\"8b2174b0-5726-4a7e-9b57-bcf1c5ffa018\",\"type\":\"Line\"},{\"attributes\":{\"items\":[{\"id\":\"f4df925d-52e1-4ad3-b767-76cad66d093b\",\"type\":\"LegendItem\"},{\"id\":\"4c2c413e-de79-4ee5-b848-3e8a930fd0f8\",\"type\":\"LegendItem\"},{\"id\":\"5da5e4ad-eb46-4806-a83d-8d3992e41d25\",\"type\":\"LegendItem\"}],\"label_text_font_size\":{\"value\":\"8pt\"},\"location\":[10,-30],\"plot\":{\"id\":\"6531fe94-1b49-4f87-aabc-02abdd5efd34\",\"subtype\":\"Figure\",\"type\":\"Plot\"}},\"id\":\"d30e74bc-b732-47b9-bf15-f9cde224d9c8\",\"type\":\"Legend\"},{\"attributes\":{\"plot\":{\"id\":\"6531fe94-1b49-4f87-aabc-02abdd5efd34\",\"subtype\":\"Figure\",\"type\":\"Plot\"},\"ticker\":{\"id\":\"55ee8340-396a-405e-9ee3-371f6dd4164a\",\"type\":\"BasicTicker\"}},\"id\":\"a07242cb-ee55-48d1-98b2-6cbb1e4b3767\",\"type\":\"Grid\"},{\"attributes\":{\"callback\":null,\"end\":0.25068012725600003,\"start\":0.001520927144},\"id\":\"21eafe4b-8299-43c3-9b3a-596eed9f03ee\",\"type\":\"Range1d\"},{\"attributes\":{},\"id\":\"3590b937-3a91-4899-a202-a96ee3c8779e\",\"type\":\"LinearScale\"},{\"attributes\":{\"callback\":null,\"data\":{\"x\":{\"__ndarray__\":\"6mwz2zaIxL+4ySxrMMfDv4kevm0iCsK/UtZvJqYLwL/N6GjREpa7v2hkeR+Tgba/OJNQqfvIsL+G72I5wM6kvwgcvaWSvYq/2EQfWeTKkT+5Xon2Z/WpP46phsA7QLY/OF/TIFgXwD8pEfr8pJjEPxkCoXG4wcc/6qEqZLb9yT9ckJD1ks7LP6ZIW+iMIM0/q069JIT9zT+0IuZpK7zOPwTi2Cc+xs8/803DhXYtyj/Ean+pl8a8P5Ck+odavqo/aygqJUjInT+GjYy3kKWTP5/USF/J1Ic/yergnK1VfT+FLUjDwY96P8HCO5Q3tHs/hCHVbVX9ej8uUrpJC911P1kIqR4bT3Q/yd4+6jDYeT9xSdAGeel9P6niJ8U36n4/PTE9MnUWfz9nrYrvyRx+P4pYhiiGc4M/dQeQJZyriD+jpg+9wguNP8FLniLva4w/K3Ndcogqhz8BH0mzPAJ5Px3PbR6cymi/6UvKOKFrgr8aPNymKRZwv7uTeA6fU3w//Kj4Uof7kz+AJEWUkdugPycjqMa9jKk/YtuBvh32sT/cXCqmOjO2P5hiB8ipM7g/+VoUmWCIuD9jmncJP1K4P6HMX1Gse7g/HSGRI47WuD/82MTMtZ24P05MYDissLc/53NqPhmptT/DWvEX90KzPxneHBa5k7A/HgUqERhTrD8O1PScnr6oP6WSz2VJBKc/HJYYYRCspz/fhaggEeOrP2HpMut7w7A/qDpbdVoNsj/CCr/tbDyvP31kNnIkaqU/VsFrQTZjlz9jFK5FlzCAP24Ocj8pWJK/\",\"dtype\":\"float64\",\"shape\":[75]},\"y\":{\"__ndarray__\":\"S/O/Q+51ND/Sv8nbtpRIP2vylNV0PVE/aTum7souWD/At0SJ8fVgPw3Iuahxymc/MSNhhJWvcD/bTfBN02d3P2zb5nxnaoA/CD5h5MAGhz8NmeH1TyaQP+zrCsc9p5Y/LbKd76fGnz/bLW5ISEmmPww9YvTcQq8/JV2OstnstT8Er5Y7M8G+P0c+r3jqkcU/5h99k6ZBzj88bCIzFzjVP4enV8oyxN0//yH99nXg5D8qOpLLf0jtP5kqGJXUifQ/c9cS8kHP/D+/DpwzojQEQIEmwoanVwxA4lgXt9HgE0BSSZ2AJuIbQAMJih9jjiNA5q4l5INuK0AwTKYKRj0zQNv5fmq8/DpAaCJseHrtQkB/+zpwzoxKQM3MzMzMeFJAZmZmZmZqWEAAAAAAAFxeQM3MzMzMJmJAmpmZmZkfZUBmZmZmZhhoQDMzMzMzEWtAAAAAAAAKbkBmZmZmZoFwQM3MzMzM/XFAMzMzMzN6c0CamZmZmfZ0QAAAAAAAc3ZAZmZmZmbvd0DNzMzMzGt5QDMzMzMz6HpAmpmZmZlkfEAAAAAAAOF9QGZmZmZmXX9AZmZmZuZsgECamZmZGSuBQM3MzMxM6YFAAAAAAICngkAzMzMzs2WDQGZmZmbmI4RAmpmZmRnihEDNzMzMTKCFQAAAAACAXoZAMzMzM7Mch0BmZmZm5tqHQJqZmZkZmYhAzczMzExXiUAAAAAAgBWKQDMzMzOz04pAZmZmZuaRi0CamZmZGVCMQM3MzMxMDo1AAAAAAIDMjUAzMzMzs4qOQGZmZmbmSI9A\",\"dtype\":\"float64\",\"shape\":[75]}},\"selected\":{\"id\":\"06808e62-66d5-41b2-bcf2-6c3e6361a590\",\"type\":\"Selection\"},\"selection_policy\":{\"id\":\"497fda63-5910-44e4-a969-20070327c5c5\",\"type\":\"UnionRenderers\"}},\"id\":\"deb970e7-2671-493f-ba9e-4ffe1a5177e3\",\"type\":\"ColumnDataSource\"},{\"attributes\":{\"line_alpha\":0.6,\"line_color\":\"#984ea3\",\"line_width\":3,\"x\":{\"field\":\"x\"},\"y\":{\"field\":\"y\"}},\"id\":\"ee837dba-9ead-49c7-87c5-495ac88195ce\",\"type\":\"Line\"},{\"attributes\":{},\"id\":\"d8d3fa0c-1158-49aa-8320-f32a0e4f5049\",\"type\":\"LogScale\"},{\"attributes\":{},\"id\":\"32eac1f3-4c77-4266-9d12-0f84a2976150\",\"type\":\"WheelZoomTool\"},{\"attributes\":{\"bottom_units\":\"screen\",\"fill_alpha\":{\"value\":0.5},\"fill_color\":{\"value\":\"lightgrey\"},\"left_units\":\"screen\",\"level\":\"overlay\",\"line_alpha\":{\"value\":1.0},\"line_color\":{\"value\":\"black\"},\"line_dash\":[4,4],\"line_width\":{\"value\":2},\"plot\":null,\"render_mode\":\"css\",\"right_units\":\"screen\",\"top_units\":\"screen\"},\"id\":\"83d58709-3279-47d4-ac98-fcd537a5376a\",\"type\":\"BoxAnnotation\"},{\"attributes\":{\"dimension\":1,\"plot\":{\"id\":\"6531fe94-1b49-4f87-aabc-02abdd5efd34\",\"subtype\":\"Figure\",\"type\":\"Plot\"},\"ticker\":{\"id\":\"c29145a3-8c0a-420e-ac23-5414235c4a5e\",\"type\":\"LogTicker\"}},\"id\":\"2058f09e-a4e0-4ec4-9d3f-d9f5ba7235cb\",\"type\":\"Grid\"},{\"attributes\":{\"axis_label\":\"pressure [mb]\",\"formatter\":{\"id\":\"90391545-806e-48ba-928a-278d01b0c520\",\"type\":\"LogTickFormatter\"},\"plot\":{\"id\":\"6531fe94-1b49-4f87-aabc-02abdd5efd34\",\"subtype\":\"Figure\",\"type\":\"Plot\"},\"ticker\":{\"id\":\"c29145a3-8c0a-420e-ac23-5414235c4a5e\",\"type\":\"LogTicker\"}},\"id\":\"95995d6e-d503-4238-a6d0-7840fd521c62\",\"type\":\"LogAxis\"},{\"attributes\":{\"source\":{\"id\":\"4dbabce7-cd4c-4713-9815-410ba045ec10\",\"type\":\"ColumnDataSource\"}},\"id\":\"d2cb3623-02fe-4e0f-b6e7-f40210ca4f26\",\"type\":\"CDSView\"},{\"attributes\":{\"line_alpha\":0.1,\"line_color\":\"#1f77b4\",\"line_width\":3,\"x\":{\"field\":\"x\"},\"y\":{\"field\":\"y\"}},\"id\":\"4d9f56c3-e0d4-4aa1-867c-98e0b6648c21\",\"type\":\"Line\"},{\"attributes\":{\"plot\":null,\"text\":\"Log pressure scale\"},\"id\":\"51aa5781-504b-45f1-8e95-49dafbe88acb\",\"type\":\"Title\"},{\"attributes\":{\"line_alpha\":0.6,\"line_color\":\"#e41a1c\",\"line_dash\":[6],\"line_width\":5,\"x\":{\"field\":\"x\"},\"y\":{\"field\":\"y\"}},\"id\":\"c1329052-efb3-4459-9ec3-1080976b9dba\",\"type\":\"Line\"},{\"attributes\":{\"data_source\":{\"id\":\"4dbabce7-cd4c-4713-9815-410ba045ec10\",\"type\":\"ColumnDataSource\"},\"glyph\":{\"id\":\"01a50a3a-a206-4db1-a733-0fe135992367\",\"type\":\"Line\"},\"hover_glyph\":null,\"muted_glyph\":null,\"nonselection_glyph\":{\"id\":\"4d9f56c3-e0d4-4aa1-867c-98e0b6648c21\",\"type\":\"Line\"},\"selection_glyph\":null,\"view\":{\"id\":\"d2cb3623-02fe-4e0f-b6e7-f40210ca4f26\",\"type\":\"CDSView\"}},\"id\":\"ca8d8a74-0efc-42a3-a843-68ee36369b96\",\"type\":\"GlyphRenderer\"},{\"attributes\":{},\"id\":\"bed1dbe8-838d-410a-8853-13f246d88157\",\"type\":\"PanTool\"},{\"attributes\":{},\"id\":\"c0149024-865a-4cd4-a081-4077dab218f8\",\"type\":\"HelpTool\"},{\"attributes\":{\"callback\":null,\"end\":0.01,\"start\":1020},\"id\":\"35e88600-8baa-40a8-9b46-8247f893cb26\",\"type\":\"Range1d\"},{\"attributes\":{},\"id\":\"975d4552-6060-4348-953f-9220dd47e2a8\",\"type\":\"ResetTool\"},{\"attributes\":{\"line_alpha\":0.1,\"line_color\":\"#1f77b4\",\"line_dash\":[6],\"line_width\":5,\"x\":{\"field\":\"x\"},\"y\":{\"field\":\"y\"}},\"id\":\"151f5bb4-ad11-425a-a09d-75b3a8272e03\",\"type\":\"Line\"}],\"root_ids\":[\"86345883-e042-482a-bcfe-d63ccb2f83f7\"]},\"title\":\"Bokeh Application\",\"version\":\"0.12.16\"}};\n",
       "  var render_items = [{\"docid\":\"3e79a3c9-2e9a-4614-9b1a-2933821a8898\",\"elementid\":\"3e48ee1e-5fcf-4025-a7b3-1113b375fa05\",\"modelid\":\"86345883-e042-482a-bcfe-d63ccb2f83f7\"}];\n",
       "  root.Bokeh.embed.embed_items_notebook(docs_json, render_items);\n",
       "\n",
       "  }\n",
       "  if (root.Bokeh !== undefined) {\n",
       "    embed_document(root);\n",
       "  } else {\n",
       "    var attempts = 0;\n",
       "    var timer = setInterval(function(root) {\n",
       "      if (root.Bokeh !== undefined) {\n",
       "        embed_document(root);\n",
       "        clearInterval(timer);\n",
       "      }\n",
       "      attempts++;\n",
       "      if (attempts > 100) {\n",
       "        console.log(\"Bokeh: ERROR: Unable to run BokehJS code because BokehJS library is missing\")\n",
       "        clearInterval(timer);\n",
       "      }\n",
       "    }, 10, root)\n",
       "  }\n",
       "})(window);"
      ],
      "application/vnd.bokehjs_exec.v0+json": ""
     },
     "metadata": {
      "application/vnd.bokehjs_exec.v0+json": {
       "id": "86345883-e042-482a-bcfe-d63ccb2f83f7"
      }
     },
     "output_type": "display_data"
    },
    {
     "name": "stdout",
     "output_type": "stream",
     "text": [
      "FIGURE. Cooling rate profiles.\n"
     ]
    },
    {
     "data": {
      "text/html": [
       "<a id=\"Flux_Comparison\"></a>"
      ],
      "text/plain": [
       "<IPython.core.display.HTML object>"
      ]
     },
     "metadata": {},
     "output_type": "display_data"
    },
    {
     "data": {
      "text/markdown": [
       "# Flux Comparison"
      ],
      "text/plain": [
       "<IPython.core.display.Markdown object>"
      ]
     },
     "metadata": {},
     "output_type": "display_data"
    },
    {
     "data": {
      "text/html": [
       "<div>\n",
       "<style scoped>\n",
       "    .dataframe tbody tr th:only-of-type {\n",
       "        vertical-align: middle;\n",
       "    }\n",
       "\n",
       "    .dataframe tbody tr th {\n",
       "        vertical-align: top;\n",
       "    }\n",
       "\n",
       "    .dataframe thead th {\n",
       "        text-align: right;\n",
       "    }\n",
       "</style>\n",
       "<table border=\"1\" class=\"dataframe\">\n",
       "  <thead>\n",
       "    <tr style=\"text-align: right;\">\n",
       "      <th></th>\n",
       "      <th></th>\n",
       "      <th>flug</th>\n",
       "      <th>fldg</th>\n",
       "      <th>fnetg</th>\n",
       "    </tr>\n",
       "    <tr>\n",
       "      <th>pressure</th>\n",
       "      <th>level</th>\n",
       "      <th></th>\n",
       "      <th></th>\n",
       "      <th></th>\n",
       "    </tr>\n",
       "  </thead>\n",
       "  <tbody>\n",
       "    <tr>\n",
       "      <th>0.0000</th>\n",
       "      <th>1</th>\n",
       "      <td>-4.883807</td>\n",
       "      <td>0.000000</td>\n",
       "      <td>-4.883807</td>\n",
       "    </tr>\n",
       "    <tr>\n",
       "      <th>1.0685</th>\n",
       "      <th>24</th>\n",
       "      <td>-4.877047</td>\n",
       "      <td>0.017023</td>\n",
       "      <td>-4.860024</td>\n",
       "    </tr>\n",
       "    <tr>\n",
       "      <th>1013.0000</th>\n",
       "      <th>76</th>\n",
       "      <td>-10.181441</td>\n",
       "      <td>10.209751</td>\n",
       "      <td>0.028310</td>\n",
       "    </tr>\n",
       "  </tbody>\n",
       "</table>\n",
       "</div>"
      ],
      "text/plain": [
       "                      flug       fldg     fnetg\n",
       "pressure  level                                \n",
       "0.0000    1      -4.883807   0.000000 -4.883807\n",
       "1.0685    24     -4.877047   0.017023 -4.860024\n",
       "1013.0000 76    -10.181441  10.209751  0.028310"
      ]
     },
     "metadata": {},
     "output_type": "display_data"
    },
    {
     "name": "stdout",
     "output_type": "stream",
     "text": [
      "Table. Fluxes. CRD\n"
     ]
    },
    {
     "data": {
      "text/html": [
       "<div>\n",
       "<style scoped>\n",
       "    .dataframe tbody tr th:only-of-type {\n",
       "        vertical-align: middle;\n",
       "    }\n",
       "\n",
       "    .dataframe tbody tr th {\n",
       "        vertical-align: top;\n",
       "    }\n",
       "\n",
       "    .dataframe thead th {\n",
       "        text-align: right;\n",
       "    }\n",
       "</style>\n",
       "<table border=\"1\" class=\"dataframe\">\n",
       "  <thead>\n",
       "    <tr style=\"text-align: right;\">\n",
       "      <th></th>\n",
       "      <th></th>\n",
       "      <th>flug</th>\n",
       "      <th>fldg</th>\n",
       "      <th>fnetg</th>\n",
       "    </tr>\n",
       "    <tr>\n",
       "      <th>pressure</th>\n",
       "      <th>level</th>\n",
       "      <th></th>\n",
       "      <th></th>\n",
       "      <th></th>\n",
       "    </tr>\n",
       "  </thead>\n",
       "  <tbody>\n",
       "    <tr>\n",
       "      <th>0.0000</th>\n",
       "      <th>1</th>\n",
       "      <td>-4.918822</td>\n",
       "      <td>0.000000</td>\n",
       "      <td>-4.918822</td>\n",
       "    </tr>\n",
       "    <tr>\n",
       "      <th>1.0685</th>\n",
       "      <th>24</th>\n",
       "      <td>-4.911915</td>\n",
       "      <td>0.016845</td>\n",
       "      <td>-4.895070</td>\n",
       "    </tr>\n",
       "    <tr>\n",
       "      <th>1013.0000</th>\n",
       "      <th>76</th>\n",
       "      <td>-10.181441</td>\n",
       "      <td>10.223037</td>\n",
       "      <td>0.041596</td>\n",
       "    </tr>\n",
       "  </tbody>\n",
       "</table>\n",
       "</div>"
      ],
      "text/plain": [
       "                      flug       fldg     fnetg\n",
       "pressure  level                                \n",
       "0.0000    1      -4.918822   0.000000 -4.918822\n",
       "1.0685    24     -4.911915   0.016845 -4.895070\n",
       "1013.0000 76    -10.181441  10.223037  0.041596"
      ]
     },
     "metadata": {},
     "output_type": "display_data"
    },
    {
     "name": "stdout",
     "output_type": "stream",
     "text": [
      "Table. Fluxes. WGT igg=10 wgt_flux=1\n"
     ]
    },
    {
     "data": {
      "text/html": [
       "<div>\n",
       "<style scoped>\n",
       "    .dataframe tbody tr th:only-of-type {\n",
       "        vertical-align: middle;\n",
       "    }\n",
       "\n",
       "    .dataframe tbody tr th {\n",
       "        vertical-align: top;\n",
       "    }\n",
       "\n",
       "    .dataframe thead th {\n",
       "        text-align: right;\n",
       "    }\n",
       "</style>\n",
       "<table border=\"1\" class=\"dataframe\">\n",
       "  <thead>\n",
       "    <tr style=\"text-align: right;\">\n",
       "      <th></th>\n",
       "      <th></th>\n",
       "      <th>flug</th>\n",
       "      <th>fldg</th>\n",
       "      <th>fnetg</th>\n",
       "    </tr>\n",
       "    <tr>\n",
       "      <th>pressure</th>\n",
       "      <th>level</th>\n",
       "      <th></th>\n",
       "      <th></th>\n",
       "      <th></th>\n",
       "    </tr>\n",
       "  </thead>\n",
       "  <tbody>\n",
       "    <tr>\n",
       "      <th>1.000000e-08</th>\n",
       "      <th>1</th>\n",
       "      <td>-4.889013</td>\n",
       "      <td>1.999387e-09</td>\n",
       "      <td>-4.889013</td>\n",
       "    </tr>\n",
       "    <tr>\n",
       "      <th>1.068500e+00</th>\n",
       "      <th>24</th>\n",
       "      <td>-4.882101</td>\n",
       "      <td>1.659400e-02</td>\n",
       "      <td>-4.865507</td>\n",
       "    </tr>\n",
       "    <tr>\n",
       "      <th>1.013000e+03</th>\n",
       "      <th>76</th>\n",
       "      <td>-10.181440</td>\n",
       "      <td>1.024633e+01</td>\n",
       "      <td>0.064885</td>\n",
       "    </tr>\n",
       "  </tbody>\n",
       "</table>\n",
       "</div>"
      ],
      "text/plain": [
       "                         flug          fldg     fnetg\n",
       "pressure     level                                   \n",
       "1.000000e-08 1      -4.889013  1.999387e-09 -4.889013\n",
       "1.068500e+00 24     -4.882101  1.659400e-02 -4.865507\n",
       "1.013000e+03 76    -10.181440  1.024633e+01  0.064885"
      ]
     },
     "metadata": {},
     "output_type": "display_data"
    },
    {
     "name": "stdout",
     "output_type": "stream",
     "text": [
      "Table. Fluxes. CLIRAD\n"
     ]
    },
    {
     "data": {
      "text/html": [
       "<div>\n",
       "<style scoped>\n",
       "    .dataframe tbody tr th:only-of-type {\n",
       "        vertical-align: middle;\n",
       "    }\n",
       "\n",
       "    .dataframe tbody tr th {\n",
       "        vertical-align: top;\n",
       "    }\n",
       "\n",
       "    .dataframe thead th {\n",
       "        text-align: right;\n",
       "    }\n",
       "</style>\n",
       "<table border=\"1\" class=\"dataframe\">\n",
       "  <thead>\n",
       "    <tr style=\"text-align: right;\">\n",
       "      <th></th>\n",
       "      <th></th>\n",
       "      <th>flug</th>\n",
       "      <th>fldg</th>\n",
       "      <th>fnetg</th>\n",
       "    </tr>\n",
       "    <tr>\n",
       "      <th>pressure</th>\n",
       "      <th>level</th>\n",
       "      <th></th>\n",
       "      <th></th>\n",
       "      <th></th>\n",
       "    </tr>\n",
       "  </thead>\n",
       "  <tbody>\n",
       "    <tr>\n",
       "      <th>0.0000</th>\n",
       "      <th>1</th>\n",
       "      <td>-3.501474e-02</td>\n",
       "      <td>0.000000</td>\n",
       "      <td>-0.035015</td>\n",
       "    </tr>\n",
       "    <tr>\n",
       "      <th>1.0685</th>\n",
       "      <th>24</th>\n",
       "      <td>-3.486865e-02</td>\n",
       "      <td>-0.000178</td>\n",
       "      <td>-0.035047</td>\n",
       "    </tr>\n",
       "    <tr>\n",
       "      <th>1013.0000</th>\n",
       "      <th>76</th>\n",
       "      <td>1.370000e-07</td>\n",
       "      <td>0.013286</td>\n",
       "      <td>0.013286</td>\n",
       "    </tr>\n",
       "  </tbody>\n",
       "</table>\n",
       "</div>"
      ],
      "text/plain": [
       "                         flug      fldg     fnetg\n",
       "pressure  level                                  \n",
       "0.0000    1     -3.501474e-02  0.000000 -0.035015\n",
       "1.0685    24    -3.486865e-02 -0.000178 -0.035047\n",
       "1013.0000 76     1.370000e-07  0.013286  0.013286"
      ]
     },
     "metadata": {},
     "output_type": "display_data"
    },
    {
     "name": "stdout",
     "output_type": "stream",
     "text": [
      "Table. Fluxes. (WGT igg=10 wgt_flux=1) - (CRD)\n"
     ]
    },
    {
     "data": {
      "text/html": [
       "<div>\n",
       "<style scoped>\n",
       "    .dataframe tbody tr th:only-of-type {\n",
       "        vertical-align: middle;\n",
       "    }\n",
       "\n",
       "    .dataframe tbody tr th {\n",
       "        vertical-align: top;\n",
       "    }\n",
       "\n",
       "    .dataframe thead th {\n",
       "        text-align: right;\n",
       "    }\n",
       "</style>\n",
       "<table border=\"1\" class=\"dataframe\">\n",
       "  <thead>\n",
       "    <tr style=\"text-align: right;\">\n",
       "      <th></th>\n",
       "      <th></th>\n",
       "      <th>flug</th>\n",
       "      <th>fldg</th>\n",
       "      <th>fnetg</th>\n",
       "    </tr>\n",
       "    <tr>\n",
       "      <th>pressure</th>\n",
       "      <th>level</th>\n",
       "      <th></th>\n",
       "      <th></th>\n",
       "      <th></th>\n",
       "    </tr>\n",
       "  </thead>\n",
       "  <tbody>\n",
       "    <tr>\n",
       "      <th>0.0000</th>\n",
       "      <th>1</th>\n",
       "      <td>-5.205600e-03</td>\n",
       "      <td>1.999387e-09</td>\n",
       "      <td>-0.005206</td>\n",
       "    </tr>\n",
       "    <tr>\n",
       "      <th>1.0685</th>\n",
       "      <th>24</th>\n",
       "      <td>-5.054500e-03</td>\n",
       "      <td>-4.291810e-04</td>\n",
       "      <td>-0.005484</td>\n",
       "    </tr>\n",
       "    <tr>\n",
       "      <th>1013.0000</th>\n",
       "      <th>76</th>\n",
       "      <td>1.000000e-06</td>\n",
       "      <td>3.657400e-02</td>\n",
       "      <td>0.036575</td>\n",
       "    </tr>\n",
       "  </tbody>\n",
       "</table>\n",
       "</div>"
      ],
      "text/plain": [
       "                         flug          fldg     fnetg\n",
       "pressure  level                                      \n",
       "0.0000    1     -5.205600e-03  1.999387e-09 -0.005206\n",
       "1.0685    24    -5.054500e-03 -4.291810e-04 -0.005484\n",
       "1013.0000 76     1.000000e-06  3.657400e-02  0.036575"
      ]
     },
     "metadata": {},
     "output_type": "display_data"
    },
    {
     "name": "stdout",
     "output_type": "stream",
     "text": [
      "Table. Fluxes. (CLIRAD) - (CRD)\n"
     ]
    },
    {
     "data": {
      "text/html": [
       "<a id=\"Best-fit_Parameters\"></a>"
      ],
      "text/plain": [
       "<IPython.core.display.HTML object>"
      ]
     },
     "metadata": {},
     "output_type": "display_data"
    },
    {
     "data": {
      "text/markdown": [
       "# Best-fit Parameters"
      ],
      "text/plain": [
       "<IPython.core.display.Markdown object>"
      ]
     },
     "metadata": {},
     "output_type": "display_data"
    },
    {
     "name": "stdout",
     "output_type": "stream",
     "text": [
      "Best-fit values for each (gas, band)\n",
      "------------------------------------\n",
      "o h2o band8\n",
      "  atmpro = mls\n",
      "  band = 8\n",
      "  commitnumber = a06b618\n",
      "  conc = None\n",
      "  dv = 0.001\n",
      "  klin = 0\n",
      "  molecule = h2o\n",
      "  ng_adju = [0, -1, 0]\n",
      "  ng_refs = [3, 2, 3]\n",
      "  nv = 1000\n",
      "  option_compute_btable = 0\n",
      "  option_compute_ktable = 1\n",
      "  option_wgt_flux = 1\n",
      "  option_wgt_k = 1\n",
      "  ref_pts = [(1, 250), (10, 250), (500, 250)]\n",
      "  tsfc = 294\n",
      "  vmax = 1900\n",
      "  vmin = 1380\n",
      "  w_diffuse = [(1.66, 1.66, 1.66), (1.66, 1.66), (1.66, 1.66, 1.66)]\n",
      "  wgt = [(0.55, 0.55, 0.85), (0.85, 0.85), (0, 0.3, 0.55)]\n"
     ]
    }
   ],
   "source": [
    "script()"
   ]
  },
  {
   "cell_type": "code",
   "execution_count": 13,
   "metadata": {
    "collapsed": true
   },
   "outputs": [
    {
     "data": {
      "text/html": [
       "<script>\n",
       "code_show=true; \n",
       "function code_toggle() {\n",
       " if (code_show){\n",
       " $('div.input').hide();\n",
       " } else {\n",
       " $('div.input').show();\n",
       " }\n",
       " code_show = !code_show\n",
       "} \n",
       "$( document ).ready(code_toggle);\n",
       "</script>\n",
       "<form action=\"javascript:code_toggle()\"><input type=\"submit\" value=\"Click here to toggle on/off the raw code.\"></form>"
      ],
      "text/plain": [
       "<IPython.core.display.HTML object>"
      ]
     },
     "execution_count": 13,
     "metadata": {},
     "output_type": "execute_result"
    }
   ],
   "source": [
    "display.HTML('''<script>\n",
    "code_show=true; \n",
    "function code_toggle() {\n",
    " if (code_show){\n",
    " $('div.input').hide();\n",
    " } else {\n",
    " $('div.input').show();\n",
    " }\n",
    " code_show = !code_show\n",
    "} \n",
    "$( document ).ready(code_toggle);\n",
    "</script>\n",
    "<form action=\"javascript:code_toggle()\"><input type=\"submit\" value=\"Click here to toggle on/off the raw code.\"></form>''')"
   ]
  }
 ],
 "metadata": {
  "kernelspec": {
   "display_name": "Python 3",
   "language": "python",
   "name": "python3"
  },
  "language_info": {
   "codemirror_mode": {
    "name": "ipython",
    "version": 3
   },
   "file_extension": ".py",
   "mimetype": "text/x-python",
   "name": "python",
   "nbconvert_exporter": "python",
   "pygments_lexer": "ipython3",
   "version": "3.6.1"
  }
 },
 "nbformat": 4,
 "nbformat_minor": 2
}
