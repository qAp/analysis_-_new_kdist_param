{
 "cells": [
  {
   "cell_type": "code",
   "execution_count": 1,
   "metadata": {
    "collapsed": true
   },
   "outputs": [],
   "source": [
    "%matplotlib inline\n",
    "import os\n",
    "import re\n",
    "import io\n",
    "import itertools\n",
    "import pprint\n",
    "\n",
    "from bokeh.io import output_notebook, show\n",
    "from bokeh.layouts import gridplot\n",
    "from bokeh.plotting import figure\n",
    "from bokeh.models import Range1d, Legend\n",
    "from bokeh.palettes import all_palettes\n",
    "\n",
    "import matplotlib\n",
    "import matplotlib.pyplot as plt\n",
    "import numpy as np\n",
    "import pandas as pd\n",
    "import xarray as xr\n",
    "\n",
    "import climatools.lblnew.bestfit_params as bestfits\n",
    "from climatools.lblnew import setup_bestfit, setup_overlap\n",
    "import climatools.lblnew.pipeline as pipe_lblnew\n",
    "import climatools.cliradlw.setup as setup_cliradlw\n",
    "import climatools.cliradlw.pipeline as pipe_cliradlw\n",
    "\n",
    "import climatools.html.html as climahtml\n",
    "from climatools.lblnew.dataio import *\n",
    "from climatools.plot.plot import *\n",
    "\n",
    "\n",
    "import IPython.display as display"
   ]
  },
  {
   "cell_type": "code",
   "execution_count": 2,
   "metadata": {
    "collapsed": true
   },
   "outputs": [],
   "source": [
    "%run param.py"
   ]
  },
  {
   "cell_type": "code",
   "execution_count": 3,
   "metadata": {
    "collapsed": true
   },
   "outputs": [],
   "source": [
    "def load_output_file(path_csv):\n",
    "    '''\n",
    "    Load lblnew output .csv file to xarray.Dataset\n",
    "    \n",
    "    Parameters\n",
    "    ----------\n",
    "    path_csv: str\n",
    "              Path to the .csv file to be loaded.\n",
    "    ds: xarray.Dataset\n",
    "        Data in the input file in the form of an xarray.Dataset.\n",
    "    '''\n",
    "    toindex = ['band', 'pressure', 'igg', 'g']    \n",
    "    df = pd.read_csv(path_csv, sep=r'\\s+')\n",
    "    df = df.set_index([i for i in toindex if i in df.columns])\n",
    "    df = df.rename(columns={'sfu': 'flug',\n",
    "                            'sfd': 'fldg',\n",
    "                            'fnet': 'fnetg',\n",
    "                            'coolr': 'coolrg'})\n",
    "    ds = xr.Dataset.from_dataframe(df)\n",
    "\n",
    "    for l in ('level', 'layer'):\n",
    "        if l in ds.data_vars:\n",
    "            if len(ds[l].dims) > 1:\n",
    "                surface = {d: 0 for d in ds.dims if d != 'pressure'}\n",
    "                coord_level = ds[l][surface]\n",
    "                ds.coords[l] = ('pressure', coord_level)\n",
    "            else:\n",
    "                ds.coords[l] = ('pressure', ds[l])\n",
    "    \n",
    "    return ds"
   ]
  },
  {
   "cell_type": "code",
   "execution_count": 4,
   "metadata": {
    "collapsed": true
   },
   "outputs": [],
   "source": [
    "def lblnew_setup(param=None):\n",
    "    if 'ng_refs' in param:\n",
    "        return {'setup': setup_bestfit,\n",
    "                'fname_flux_crd': 'output_flux.dat',\n",
    "                'fname_cool_crd': 'output_coolr.dat',\n",
    "                'fname_flux_wgt': 'output_wfluxg.dat',\n",
    "                'fname_cool_wgt': 'output_wcoolrg.dat'}\n",
    "    else:\n",
    "        return {'setup': setup_overlap,\n",
    "                'fname_flux_crd': 'output_flux.dat',\n",
    "                'fname_cool_crd': 'output_coolr.dat',\n",
    "                'fname_flux_wgt': 'output_wflux.dat',\n",
    "                'fname_cool_wgt': 'output_wcoolr.dat'}\n",
    "\n",
    "    \n",
    "def load_lblnew_data(param):\n",
    "    \n",
    "    fname_dsname = [('fname_flux_crd', 'ds_flux_crd'),\n",
    "                    ('fname_cool_crd', 'ds_cool_crd'),\n",
    "                    ('fname_flux_wgt', 'ds_flux_wgt'),\n",
    "                    ('fname_cool_wgt', 'ds_cool_wgt')]\n",
    "    \n",
    "    d = lblnew_setup(param)\n",
    "    dir_fortran = pipe_lblnew.get_dir_case(param, setup=d['setup'])\n",
    "    \n",
    "    data_dict = {}\n",
    "    for fname, dsname in fname_dsname:\n",
    "        fpath = os.path.join(dir_fortran, d[fname])\n",
    "        data_dict[dsname] = load_output_file(fpath)\n",
    "    return data_dict\n",
    "    \n",
    "\n",
    "    \n",
    "    "
   ]
  },
  {
   "cell_type": "code",
   "execution_count": 5,
   "metadata": {
    "collapsed": true
   },
   "outputs": [],
   "source": [
    "d = load_lblnew_data(PARAM_LBLNEW)\n",
    "\n",
    "DS_FLUX_CRD = d['ds_flux_crd']\n",
    "DS_COOL_CRD = d['ds_cool_crd']\n",
    "DS_FLUX_WGT = d['ds_flux_wgt']\n",
    "DS_COOL_WGT = d['ds_cool_wgt']"
   ]
  },
  {
   "cell_type": "code",
   "execution_count": 6,
   "metadata": {
    "collapsed": true
   },
   "outputs": [],
   "source": [
    "DIR_FORTRAN = pipe_cliradlw.get_fortran_dir(PARAM, \n",
    "                                            setup=setup_cliradlw)\n",
    "\n",
    "PATH_FLUX = os.path.join(DIR_FORTRAN, 'output_flux.dat')\n",
    "PATH_COOL = os.path.join(DIR_FORTRAN, 'output_coolr.dat')\n",
    "\n",
    "DS_FLUX = load_output_file(PATH_FLUX)\n",
    "DS_COOL = load_output_file(PATH_COOL)"
   ]
  },
  {
   "cell_type": "code",
   "execution_count": 7,
   "metadata": {
    "collapsed": true
   },
   "outputs": [
    {
     "data": {
      "text/html": [
       "\n",
       "    <div class=\"bk-root\">\n",
       "        <a href=\"https://bokeh.pydata.org\" target=\"_blank\" class=\"bk-logo bk-logo-small bk-logo-notebook\"></a>\n",
       "        <span id=\"ad378b1d-c3c5-442a-994a-441e6990b128\">Loading BokehJS ...</span>\n",
       "    </div>"
      ]
     },
     "metadata": {},
     "output_type": "display_data"
    },
    {
     "data": {
      "application/javascript": [
       "\n",
       "(function(root) {\n",
       "  function now() {\n",
       "    return new Date();\n",
       "  }\n",
       "\n",
       "  var force = true;\n",
       "\n",
       "  if (typeof (root._bokeh_onload_callbacks) === \"undefined\" || force === true) {\n",
       "    root._bokeh_onload_callbacks = [];\n",
       "    root._bokeh_is_loading = undefined;\n",
       "  }\n",
       "\n",
       "  var JS_MIME_TYPE = 'application/javascript';\n",
       "  var HTML_MIME_TYPE = 'text/html';\n",
       "  var EXEC_MIME_TYPE = 'application/vnd.bokehjs_exec.v0+json';\n",
       "  var CLASS_NAME = 'output_bokeh rendered_html';\n",
       "\n",
       "  /**\n",
       "   * Render data to the DOM node\n",
       "   */\n",
       "  function render(props, node) {\n",
       "    var script = document.createElement(\"script\");\n",
       "    node.appendChild(script);\n",
       "  }\n",
       "\n",
       "  /**\n",
       "   * Handle when an output is cleared or removed\n",
       "   */\n",
       "  function handleClearOutput(event, handle) {\n",
       "    var cell = handle.cell;\n",
       "\n",
       "    var id = cell.output_area._bokeh_element_id;\n",
       "    var server_id = cell.output_area._bokeh_server_id;\n",
       "    // Clean up Bokeh references\n",
       "    if (id !== undefined) {\n",
       "      Bokeh.index[id].model.document.clear();\n",
       "      delete Bokeh.index[id];\n",
       "    }\n",
       "\n",
       "    if (server_id !== undefined) {\n",
       "      // Clean up Bokeh references\n",
       "      var cmd = \"from bokeh.io.state import curstate; print(curstate().uuid_to_server['\" + server_id + \"'].get_sessions()[0].document.roots[0]._id)\";\n",
       "      cell.notebook.kernel.execute(cmd, {\n",
       "        iopub: {\n",
       "          output: function(msg) {\n",
       "            var element_id = msg.content.text.trim();\n",
       "            Bokeh.index[element_id].model.document.clear();\n",
       "            delete Bokeh.index[element_id];\n",
       "          }\n",
       "        }\n",
       "      });\n",
       "      // Destroy server and session\n",
       "      var cmd = \"import bokeh.io.notebook as ion; ion.destroy_server('\" + server_id + \"')\";\n",
       "      cell.notebook.kernel.execute(cmd);\n",
       "    }\n",
       "  }\n",
       "\n",
       "  /**\n",
       "   * Handle when a new output is added\n",
       "   */\n",
       "  function handleAddOutput(event, handle) {\n",
       "    var output_area = handle.output_area;\n",
       "    var output = handle.output;\n",
       "\n",
       "    // limit handleAddOutput to display_data with EXEC_MIME_TYPE content only\n",
       "    if ((output.output_type != \"display_data\") || (!output.data.hasOwnProperty(EXEC_MIME_TYPE))) {\n",
       "      return\n",
       "    }\n",
       "\n",
       "    var toinsert = output_area.element.find(\".\" + CLASS_NAME.split(' ')[0]);\n",
       "\n",
       "    if (output.metadata[EXEC_MIME_TYPE][\"id\"] !== undefined) {\n",
       "      toinsert[toinsert.length - 1].firstChild.textContent = output.data[JS_MIME_TYPE];\n",
       "      // store reference to embed id on output_area\n",
       "      output_area._bokeh_element_id = output.metadata[EXEC_MIME_TYPE][\"id\"];\n",
       "    }\n",
       "    if (output.metadata[EXEC_MIME_TYPE][\"server_id\"] !== undefined) {\n",
       "      var bk_div = document.createElement(\"div\");\n",
       "      bk_div.innerHTML = output.data[HTML_MIME_TYPE];\n",
       "      var script_attrs = bk_div.children[0].attributes;\n",
       "      for (var i = 0; i < script_attrs.length; i++) {\n",
       "        toinsert[toinsert.length - 1].firstChild.setAttribute(script_attrs[i].name, script_attrs[i].value);\n",
       "      }\n",
       "      // store reference to server id on output_area\n",
       "      output_area._bokeh_server_id = output.metadata[EXEC_MIME_TYPE][\"server_id\"];\n",
       "    }\n",
       "  }\n",
       "\n",
       "  function register_renderer(events, OutputArea) {\n",
       "\n",
       "    function append_mime(data, metadata, element) {\n",
       "      // create a DOM node to render to\n",
       "      var toinsert = this.create_output_subarea(\n",
       "        metadata,\n",
       "        CLASS_NAME,\n",
       "        EXEC_MIME_TYPE\n",
       "      );\n",
       "      this.keyboard_manager.register_events(toinsert);\n",
       "      // Render to node\n",
       "      var props = {data: data, metadata: metadata[EXEC_MIME_TYPE]};\n",
       "      render(props, toinsert[toinsert.length - 1]);\n",
       "      element.append(toinsert);\n",
       "      return toinsert\n",
       "    }\n",
       "\n",
       "    /* Handle when an output is cleared or removed */\n",
       "    events.on('clear_output.CodeCell', handleClearOutput);\n",
       "    events.on('delete.Cell', handleClearOutput);\n",
       "\n",
       "    /* Handle when a new output is added */\n",
       "    events.on('output_added.OutputArea', handleAddOutput);\n",
       "\n",
       "    /**\n",
       "     * Register the mime type and append_mime function with output_area\n",
       "     */\n",
       "    OutputArea.prototype.register_mime_type(EXEC_MIME_TYPE, append_mime, {\n",
       "      /* Is output safe? */\n",
       "      safe: true,\n",
       "      /* Index of renderer in `output_area.display_order` */\n",
       "      index: 0\n",
       "    });\n",
       "  }\n",
       "\n",
       "  // register the mime type if in Jupyter Notebook environment and previously unregistered\n",
       "  if (root.Jupyter !== undefined) {\n",
       "    var events = require('base/js/events');\n",
       "    var OutputArea = require('notebook/js/outputarea').OutputArea;\n",
       "\n",
       "    if (OutputArea.prototype.mime_types().indexOf(EXEC_MIME_TYPE) == -1) {\n",
       "      register_renderer(events, OutputArea);\n",
       "    }\n",
       "  }\n",
       "\n",
       "  \n",
       "  if (typeof (root._bokeh_timeout) === \"undefined\" || force === true) {\n",
       "    root._bokeh_timeout = Date.now() + 5000;\n",
       "    root._bokeh_failed_load = false;\n",
       "  }\n",
       "\n",
       "  var NB_LOAD_WARNING = {'data': {'text/html':\n",
       "     \"<div style='background-color: #fdd'>\\n\"+\n",
       "     \"<p>\\n\"+\n",
       "     \"BokehJS does not appear to have successfully loaded. If loading BokehJS from CDN, this \\n\"+\n",
       "     \"may be due to a slow or bad network connection. Possible fixes:\\n\"+\n",
       "     \"</p>\\n\"+\n",
       "     \"<ul>\\n\"+\n",
       "     \"<li>re-rerun `output_notebook()` to attempt to load from CDN again, or</li>\\n\"+\n",
       "     \"<li>use INLINE resources instead, as so:</li>\\n\"+\n",
       "     \"</ul>\\n\"+\n",
       "     \"<code>\\n\"+\n",
       "     \"from bokeh.resources import INLINE\\n\"+\n",
       "     \"output_notebook(resources=INLINE)\\n\"+\n",
       "     \"</code>\\n\"+\n",
       "     \"</div>\"}};\n",
       "\n",
       "  function display_loaded() {\n",
       "    var el = document.getElementById(\"ad378b1d-c3c5-442a-994a-441e6990b128\");\n",
       "    if (el != null) {\n",
       "      el.textContent = \"BokehJS is loading...\";\n",
       "    }\n",
       "    if (root.Bokeh !== undefined) {\n",
       "      if (el != null) {\n",
       "        el.textContent = \"BokehJS \" + root.Bokeh.version + \" successfully loaded.\";\n",
       "      }\n",
       "    } else if (Date.now() < root._bokeh_timeout) {\n",
       "      setTimeout(display_loaded, 100)\n",
       "    }\n",
       "  }\n",
       "\n",
       "\n",
       "  function run_callbacks() {\n",
       "    try {\n",
       "      root._bokeh_onload_callbacks.forEach(function(callback) { callback() });\n",
       "    }\n",
       "    finally {\n",
       "      delete root._bokeh_onload_callbacks\n",
       "    }\n",
       "    console.info(\"Bokeh: all callbacks have finished\");\n",
       "  }\n",
       "\n",
       "  function load_libs(js_urls, callback) {\n",
       "    root._bokeh_onload_callbacks.push(callback);\n",
       "    if (root._bokeh_is_loading > 0) {\n",
       "      console.log(\"Bokeh: BokehJS is being loaded, scheduling callback at\", now());\n",
       "      return null;\n",
       "    }\n",
       "    if (js_urls == null || js_urls.length === 0) {\n",
       "      run_callbacks();\n",
       "      return null;\n",
       "    }\n",
       "    console.log(\"Bokeh: BokehJS not loaded, scheduling load and callback at\", now());\n",
       "    root._bokeh_is_loading = js_urls.length;\n",
       "    for (var i = 0; i < js_urls.length; i++) {\n",
       "      var url = js_urls[i];\n",
       "      var s = document.createElement('script');\n",
       "      s.src = url;\n",
       "      s.async = false;\n",
       "      s.onreadystatechange = s.onload = function() {\n",
       "        root._bokeh_is_loading--;\n",
       "        if (root._bokeh_is_loading === 0) {\n",
       "          console.log(\"Bokeh: all BokehJS libraries loaded\");\n",
       "          run_callbacks()\n",
       "        }\n",
       "      };\n",
       "      s.onerror = function() {\n",
       "        console.warn(\"failed to load library \" + url);\n",
       "      };\n",
       "      console.log(\"Bokeh: injecting script tag for BokehJS library: \", url);\n",
       "      document.getElementsByTagName(\"head\")[0].appendChild(s);\n",
       "    }\n",
       "  };var element = document.getElementById(\"ad378b1d-c3c5-442a-994a-441e6990b128\");\n",
       "  if (element == null) {\n",
       "    console.log(\"Bokeh: ERROR: autoload.js configured with elementid 'ad378b1d-c3c5-442a-994a-441e6990b128' but no matching script tag was found. \")\n",
       "    return false;\n",
       "  }\n",
       "\n",
       "  var js_urls = [\"https://cdn.pydata.org/bokeh/release/bokeh-0.12.16.min.js\", \"https://cdn.pydata.org/bokeh/release/bokeh-widgets-0.12.16.min.js\", \"https://cdn.pydata.org/bokeh/release/bokeh-tables-0.12.16.min.js\", \"https://cdn.pydata.org/bokeh/release/bokeh-gl-0.12.16.min.js\"];\n",
       "\n",
       "  var inline_js = [\n",
       "    function(Bokeh) {\n",
       "      Bokeh.set_log_level(\"info\");\n",
       "    },\n",
       "    \n",
       "    function(Bokeh) {\n",
       "      \n",
       "    },\n",
       "    function(Bokeh) {\n",
       "      console.log(\"Bokeh: injecting CSS: https://cdn.pydata.org/bokeh/release/bokeh-0.12.16.min.css\");\n",
       "      Bokeh.embed.inject_css(\"https://cdn.pydata.org/bokeh/release/bokeh-0.12.16.min.css\");\n",
       "      console.log(\"Bokeh: injecting CSS: https://cdn.pydata.org/bokeh/release/bokeh-widgets-0.12.16.min.css\");\n",
       "      Bokeh.embed.inject_css(\"https://cdn.pydata.org/bokeh/release/bokeh-widgets-0.12.16.min.css\");\n",
       "      console.log(\"Bokeh: injecting CSS: https://cdn.pydata.org/bokeh/release/bokeh-tables-0.12.16.min.css\");\n",
       "      Bokeh.embed.inject_css(\"https://cdn.pydata.org/bokeh/release/bokeh-tables-0.12.16.min.css\");\n",
       "    }\n",
       "  ];\n",
       "\n",
       "  function run_inline_js() {\n",
       "    \n",
       "    if ((root.Bokeh !== undefined) || (force === true)) {\n",
       "      for (var i = 0; i < inline_js.length; i++) {\n",
       "        inline_js[i].call(root, root.Bokeh);\n",
       "      }if (force === true) {\n",
       "        display_loaded();\n",
       "      }} else if (Date.now() < root._bokeh_timeout) {\n",
       "      setTimeout(run_inline_js, 100);\n",
       "    } else if (!root._bokeh_failed_load) {\n",
       "      console.log(\"Bokeh: BokehJS failed to load within specified timeout.\");\n",
       "      root._bokeh_failed_load = true;\n",
       "    } else if (force !== true) {\n",
       "      var cell = $(document.getElementById(\"ad378b1d-c3c5-442a-994a-441e6990b128\")).parents('.cell').data().cell;\n",
       "      cell.output_area.append_execute_result(NB_LOAD_WARNING)\n",
       "    }\n",
       "\n",
       "  }\n",
       "\n",
       "  if (root._bokeh_is_loading === 0) {\n",
       "    console.log(\"Bokeh: BokehJS loaded, going straight to plotting\");\n",
       "    run_inline_js();\n",
       "  } else {\n",
       "    load_libs(js_urls, function() {\n",
       "      console.log(\"Bokeh: BokehJS plotting callback run at\", now());\n",
       "      run_inline_js();\n",
       "    });\n",
       "  }\n",
       "}(window));"
      ],
      "application/vnd.bokehjs_load.v0+json": "\n(function(root) {\n  function now() {\n    return new Date();\n  }\n\n  var force = true;\n\n  if (typeof (root._bokeh_onload_callbacks) === \"undefined\" || force === true) {\n    root._bokeh_onload_callbacks = [];\n    root._bokeh_is_loading = undefined;\n  }\n\n  \n\n  \n  if (typeof (root._bokeh_timeout) === \"undefined\" || force === true) {\n    root._bokeh_timeout = Date.now() + 5000;\n    root._bokeh_failed_load = false;\n  }\n\n  var NB_LOAD_WARNING = {'data': {'text/html':\n     \"<div style='background-color: #fdd'>\\n\"+\n     \"<p>\\n\"+\n     \"BokehJS does not appear to have successfully loaded. If loading BokehJS from CDN, this \\n\"+\n     \"may be due to a slow or bad network connection. Possible fixes:\\n\"+\n     \"</p>\\n\"+\n     \"<ul>\\n\"+\n     \"<li>re-rerun `output_notebook()` to attempt to load from CDN again, or</li>\\n\"+\n     \"<li>use INLINE resources instead, as so:</li>\\n\"+\n     \"</ul>\\n\"+\n     \"<code>\\n\"+\n     \"from bokeh.resources import INLINE\\n\"+\n     \"output_notebook(resources=INLINE)\\n\"+\n     \"</code>\\n\"+\n     \"</div>\"}};\n\n  function display_loaded() {\n    var el = document.getElementById(\"ad378b1d-c3c5-442a-994a-441e6990b128\");\n    if (el != null) {\n      el.textContent = \"BokehJS is loading...\";\n    }\n    if (root.Bokeh !== undefined) {\n      if (el != null) {\n        el.textContent = \"BokehJS \" + root.Bokeh.version + \" successfully loaded.\";\n      }\n    } else if (Date.now() < root._bokeh_timeout) {\n      setTimeout(display_loaded, 100)\n    }\n  }\n\n\n  function run_callbacks() {\n    try {\n      root._bokeh_onload_callbacks.forEach(function(callback) { callback() });\n    }\n    finally {\n      delete root._bokeh_onload_callbacks\n    }\n    console.info(\"Bokeh: all callbacks have finished\");\n  }\n\n  function load_libs(js_urls, callback) {\n    root._bokeh_onload_callbacks.push(callback);\n    if (root._bokeh_is_loading > 0) {\n      console.log(\"Bokeh: BokehJS is being loaded, scheduling callback at\", now());\n      return null;\n    }\n    if (js_urls == null || js_urls.length === 0) {\n      run_callbacks();\n      return null;\n    }\n    console.log(\"Bokeh: BokehJS not loaded, scheduling load and callback at\", now());\n    root._bokeh_is_loading = js_urls.length;\n    for (var i = 0; i < js_urls.length; i++) {\n      var url = js_urls[i];\n      var s = document.createElement('script');\n      s.src = url;\n      s.async = false;\n      s.onreadystatechange = s.onload = function() {\n        root._bokeh_is_loading--;\n        if (root._bokeh_is_loading === 0) {\n          console.log(\"Bokeh: all BokehJS libraries loaded\");\n          run_callbacks()\n        }\n      };\n      s.onerror = function() {\n        console.warn(\"failed to load library \" + url);\n      };\n      console.log(\"Bokeh: injecting script tag for BokehJS library: \", url);\n      document.getElementsByTagName(\"head\")[0].appendChild(s);\n    }\n  };var element = document.getElementById(\"ad378b1d-c3c5-442a-994a-441e6990b128\");\n  if (element == null) {\n    console.log(\"Bokeh: ERROR: autoload.js configured with elementid 'ad378b1d-c3c5-442a-994a-441e6990b128' but no matching script tag was found. \")\n    return false;\n  }\n\n  var js_urls = [\"https://cdn.pydata.org/bokeh/release/bokeh-0.12.16.min.js\", \"https://cdn.pydata.org/bokeh/release/bokeh-widgets-0.12.16.min.js\", \"https://cdn.pydata.org/bokeh/release/bokeh-tables-0.12.16.min.js\", \"https://cdn.pydata.org/bokeh/release/bokeh-gl-0.12.16.min.js\"];\n\n  var inline_js = [\n    function(Bokeh) {\n      Bokeh.set_log_level(\"info\");\n    },\n    \n    function(Bokeh) {\n      \n    },\n    function(Bokeh) {\n      console.log(\"Bokeh: injecting CSS: https://cdn.pydata.org/bokeh/release/bokeh-0.12.16.min.css\");\n      Bokeh.embed.inject_css(\"https://cdn.pydata.org/bokeh/release/bokeh-0.12.16.min.css\");\n      console.log(\"Bokeh: injecting CSS: https://cdn.pydata.org/bokeh/release/bokeh-widgets-0.12.16.min.css\");\n      Bokeh.embed.inject_css(\"https://cdn.pydata.org/bokeh/release/bokeh-widgets-0.12.16.min.css\");\n      console.log(\"Bokeh: injecting CSS: https://cdn.pydata.org/bokeh/release/bokeh-tables-0.12.16.min.css\");\n      Bokeh.embed.inject_css(\"https://cdn.pydata.org/bokeh/release/bokeh-tables-0.12.16.min.css\");\n    }\n  ];\n\n  function run_inline_js() {\n    \n    if ((root.Bokeh !== undefined) || (force === true)) {\n      for (var i = 0; i < inline_js.length; i++) {\n        inline_js[i].call(root, root.Bokeh);\n      }if (force === true) {\n        display_loaded();\n      }} else if (Date.now() < root._bokeh_timeout) {\n      setTimeout(run_inline_js, 100);\n    } else if (!root._bokeh_failed_load) {\n      console.log(\"Bokeh: BokehJS failed to load within specified timeout.\");\n      root._bokeh_failed_load = true;\n    } else if (force !== true) {\n      var cell = $(document.getElementById(\"ad378b1d-c3c5-442a-994a-441e6990b128\")).parents('.cell').data().cell;\n      cell.output_area.append_execute_result(NB_LOAD_WARNING)\n    }\n\n  }\n\n  if (root._bokeh_is_loading === 0) {\n    console.log(\"Bokeh: BokehJS loaded, going straight to plotting\");\n    run_inline_js();\n  } else {\n    load_libs(js_urls, function() {\n      console.log(\"Bokeh: BokehJS plotting callback run at\", now());\n      run_inline_js();\n    });\n  }\n}(window));"
     },
     "metadata": {},
     "output_type": "display_data"
    }
   ],
   "source": [
    "output_notebook()"
   ]
  },
  {
   "cell_type": "code",
   "execution_count": 8,
   "metadata": {
    "collapsed": true
   },
   "outputs": [],
   "source": [
    "def fmt_cool(ds_in):\n",
    "    ds = ds_in.copy(deep=True)\n",
    "    if 'igg' in ds.dims:\n",
    "        ds = ds.sel(igg=1)\n",
    "\n",
    "    if 'g' in ds.dims:\n",
    "        ds = ds.sum('g')\n",
    "            \n",
    "    if 'band' in ds.dims:\n",
    "        try:\n",
    "            ds = ds.squeeze('band')\n",
    "        except ValueError:\n",
    "            ds = ds.sum('band')\n",
    "                \n",
    "    return ds['coolrg']\n",
    "\n",
    "\n",
    "def pltdata_cooling_1(ds_cool=None,\n",
    "                      ds_cool_crd=None, ds_cool_wgt=None):\n",
    "    \n",
    "\n",
    "\n",
    "    colors = all_palettes['Set1'][4]\n",
    "    data = [{'label': 'CLIRAD `coolr_bands`',\n",
    "             'srs': fmt_cool(ds_cool),\n",
    "             'line_dash': 'dashed', 'line_width': 5,\n",
    "             'color': colors[0], 'alpha': .6},\n",
    "            {'label': 'CRD',\n",
    "             'srs': fmt_cool(ds_cool_crd),\n",
    "             'line_dash': 'solid', 'line_width': 1.5,\n",
    "             'marker': 'circle', 'marker_size': 5,\n",
    "             'color': colors[2], 'alpha': 1,},\n",
    "            {'label': 'WGT igg=10 wgt_flux=2',\n",
    "             'srs': fmt_cool(ds_cool_wgt),\n",
    "             'line_dash': 'solid', 'line_width': 3,\n",
    "             'marker': 'square', 'marker_size': 5,\n",
    "             'color': colors[3], 'alpha': .6}]\n",
    "    return data\n",
    "\n",
    "\n",
    "def nice_xlims(pltdata=None, prange=None):\n",
    "    \n",
    "    def get_slice(srs):\n",
    "        return srs.sel(pressure=slice(*prange))\n",
    "    \n",
    "    srss = [d['srs'] for d in pltdata]\n",
    "    vmin = min([get_slice(srs).min() for srs in srss])\n",
    "    vmax = max([get_slice(srs).max() for srs in srss])\n",
    "    dv = (vmax - vmin) * .01\n",
    "    return float(vmin - dv), float(vmax + dv)\n",
    "    \n",
    "\n",
    "def plt_cooling_bokeh(pltdata=None):\n",
    "    '''\n",
    "    Plot a list of cooling rate profiles using bokeh.\n",
    "    '''\n",
    "    ymin = 1e-2 \n",
    "    ymax = 1020 \n",
    "        \n",
    "    p1 = figure(title=\"Linear pressure scale\", \n",
    "                plot_width=400)        \n",
    "    xmin, xmax = nice_xlims(pltdata, prange=(50, 1050))\n",
    "    for d in pltdata:\n",
    "        if 'marker' in d:\n",
    "            getattr(p1, d['marker'])(d['srs'].values, \n",
    "                    d['srs'].coords['pressure'].values,\n",
    "                    color=d['color'], alpha=.7)\n",
    "        p1.line(d['srs'].values, \n",
    "                d['srs'].coords['pressure'].values,\n",
    "                color=d['color'], alpha=d['alpha'], \n",
    "                line_width=d['line_width'], line_dash=d['line_dash'])\n",
    "    \n",
    "    p1.y_range = Range1d(ymax, ymin)\n",
    "    p1.yaxis.axis_label = 'pressure [mb]'   \n",
    "    p1.x_range = Range1d(xmin, xmax)\n",
    "    p1.xaxis.axis_label = 'cooling rate [K/day]'\n",
    "            \n",
    "    p2 = figure(title='Log pressure scale', y_axis_type='log',\n",
    "                plot_width=560)\n",
    "    xmin, xmax = nice_xlims(pltdata, prange=(.01, 200))\n",
    "    \n",
    "    rs = []\n",
    "    for d in pltdata:\n",
    "        rd = []\n",
    "        if 'marker' in d:\n",
    "            r_mark = getattr(p2, d['marker'])(d['srs'].values, \n",
    "                        d['srs'].coords['pressure'].values,\n",
    "                        color=d['color'], alpha=.7)\n",
    "            rd.append(r_mark)\n",
    "        r_line = p2.line(d['srs'].values, \n",
    "                    d['srs'].coords['pressure'].values,\n",
    "                    color=d['color'], alpha=d['alpha'], \n",
    "                    line_width=d['line_width'], line_dash=d['line_dash'])\n",
    "        rd.append(r_line)\n",
    "      \n",
    "        rs.append(rd)\n",
    "        \n",
    "    p2.y_range = Range1d(ymax, ymin)  \n",
    "    p2.yaxis.axis_label = 'pressure [mb]'\n",
    "    \n",
    "    p2.x_range = Range1d(xmin, xmax)\n",
    "    p2.xaxis.axis_label = 'cooling rate [K/day]'\n",
    "    \n",
    "    items = [(d['label'], r) for r, d in zip(rs, pltdata)]\n",
    "    legend = Legend(items=items, location=(10, -30))\n",
    "    legend.label_text_font_size = '8pt'\n",
    "    \n",
    "    p2.add_layout(legend, 'right')  \n",
    "    \n",
    "    show(gridplot(p1, p2, ncols=2, plot_height=500))\n",
    "    \n",
    "\n",
    "def script_plt_cooling():\n",
    "    pltdata = pltdata_cooling_1(\n",
    "        ds_cool=DS_COOL,\n",
    "        ds_cool_crd=DS_COOL_CRD,\n",
    "        ds_cool_wgt=DS_COOL_WGT)\n",
    "    plt_cooling_bokeh(pltdata=pltdata)\n",
    "    print('''FIGURE. Cooling rate profiles.''')"
   ]
  },
  {
   "cell_type": "code",
   "execution_count": 9,
   "metadata": {
    "collapsed": true
   },
   "outputs": [],
   "source": [
    "def fmt_flux(ds_in):\n",
    "    ds = ds_in.copy(deep=True)\n",
    "    \n",
    "    for l in ('level', 'layer'):\n",
    "        if l in ds.data_vars:\n",
    "            if len(ds[l].dims) > 1:\n",
    "                surface = {d: 0 for d in ds.dims if d != 'pressure'}\n",
    "                coord_level = ds[l][surface]\n",
    "                ds.coords[l] = ('pressure', coord_level)\n",
    "            else:\n",
    "                ds.coords[l] = ('pressure', ds[l])\n",
    "        \n",
    "    ds = ds.isel(pressure=[0, 23, -1])\n",
    "        \n",
    "    if 'igg' in ds.dims:\n",
    "        ds = ds.sel(igg=[1])\n",
    "        ds = ds.squeeze('igg').drop('igg')\n",
    "    \n",
    "    if 'g' in ds.dims:\n",
    "        ds = ds.sum('g')\n",
    "            \n",
    "    if 'band' in ds.dims:\n",
    "        try:\n",
    "            ds = ds.squeeze('band').drop('band')\n",
    "        except ValueError:\n",
    "            ds = ds.sum('band')\n",
    "                \n",
    "    df = ds.to_dataframe()\n",
    "    df = df.set_index('level', append=True)               \n",
    "    return df\n",
    "\n",
    "\n",
    "def tbdata_flux(ds_flux=None, ds_flux_crd=None, ds_flux_wgt=None):\n",
    "    ilevels = [0, 23, -1]\n",
    "            \n",
    "    benchmark = {'label': 'CRD',\n",
    "                 'df': fmt_flux(ds_flux_crd)}\n",
    "    \n",
    "    tbs = [{'label': 'WGT igg=10 wgt_flux=1',\n",
    "            'df': fmt_flux(ds_flux_wgt)},\n",
    "           {'label': 'CLIRAD',\n",
    "            'df': fmt_flux(ds_flux)}]\n",
    "    \n",
    "    data = {'benchmark': benchmark, 'others': tbs}\n",
    "    return data\n",
    "\n",
    "\n",
    "def tb_flux(tbdata=None):\n",
    "    benchmark = tbdata['benchmark']\n",
    "    others = tbdata['others']\n",
    "    \n",
    "    def show_tb(d=None):\n",
    "        display.display(d['df'])\n",
    "        print('Table.', 'Fluxes.', d['label'])\n",
    "        \n",
    "    def show_tbdiff(d0=None, d=None):\n",
    "        df = d['df']\n",
    "        df.index = d0['df'].index\n",
    "        display.display(df - d0['df'])\n",
    "        print('Table.', 'Fluxes.', \n",
    "              '({}) - ({})'.format(d['label'], d0['label']))\n",
    "        \n",
    "    show_tb(benchmark)\n",
    "    for d in others:\n",
    "        show_tb(d)\n",
    "        \n",
    "    for d in others:\n",
    "        show_tbdiff(d=d, d0=benchmark)\n",
    "        \n",
    "        \n",
    "def script_tb_flux():\n",
    "    data = tbdata_flux(ds_flux=DS_FLUX,\n",
    "                       ds_flux_crd=DS_FLUX_CRD,\n",
    "                       ds_flux_wgt=DS_FLUX_WGT)\n",
    "    tb_flux(tbdata=data)"
   ]
  },
  {
   "cell_type": "code",
   "execution_count": 10,
   "metadata": {
    "collapsed": true
   },
   "outputs": [],
   "source": [
    "def band_map():\n",
    "    '''\n",
    "    Maps spectral bands in lblnew to spectral bands in clirad.\n",
    "    '''\n",
    "    lblnew2clirad = {'1': '1',\n",
    "            '2': '2',\n",
    "            '3a': '3',\n",
    "            '3b': '4',\n",
    "            '3c': '5',\n",
    "            '4': '6', \n",
    "            '5': '7',\n",
    "            '6': '8',\n",
    "            '7': '9', \n",
    "            '8': '10',\n",
    "            '9': '11'}\n",
    "    \n",
    "    clirad2lblnew = {clirad: lblnew \n",
    "                     for lblnew, clirad in lblnew2clirad.items()}\n",
    "    return clirad2lblnew\n",
    "\n",
    "\n",
    "def gasbands():\n",
    "    bmap = band_map()\n",
    "    gases = list(PARAM['molecule'].keys())\n",
    "    \n",
    "    bands = [bmap[str(b)] for b in PARAM['band']]\n",
    "    return list(itertools.product(gases, bands))\n",
    "\n",
    "\n",
    "def print_bestfit_params():\n",
    "    print('Best-fit values for each (gas, band)')\n",
    "    print('------------------------------------')\n",
    "    for gas, band in gasbands():\n",
    "        print('o {} band{}'.format(gas, band))\n",
    "        param = bestfits.kdist_params(molecule=gas, band=band)\n",
    "        for name, value in sorted(param.items()):\n",
    "            print(2 * ' ' + '{} = {}'.format(name, value))\n",
    "\n",
    "        \n",
    "def print_input_param():        \n",
    "    for name, value in PARAM.items():\n",
    "        print('{} = {}'.format(name, value))\n",
    "        \n",
    "        \n",
    "def print_lblnew_param():\n",
    "    for name, value in sorted(PARAM_LBLNEW.items()):\n",
    "        print('{} = {}'.format(name, value))\n"
   ]
  },
  {
   "cell_type": "code",
   "execution_count": 11,
   "metadata": {
    "collapsed": true,
    "scrolled": false
   },
   "outputs": [],
   "source": [
    "def show_html(s):\n",
    "    display.display(display.HTML(s))\n",
    "\n",
    "    \n",
    "def show_markdown(s):\n",
    "    display.display(display.Markdown(s))\n",
    "\n",
    "    \n",
    "def script():\n",
    "    \n",
    "    title = '### CLIRAD-LW'\n",
    "    s_input = 'Input Parameters'\n",
    "    s_lblnew_param = 'LBLNEW case compaired against'\n",
    "    s_bestfits = 'Best-fit Parameters'\n",
    "    s_plt_cooling = 'Cooling Rate Profiles'\n",
    "    s_tb_flux = 'Flux Comparison'\n",
    "    \n",
    "    # title\n",
    "    show_markdown('### CLIRAD-LW')\n",
    "    \n",
    "    # TOC\n",
    "    show_markdown('### Table of Contents')\n",
    "    show_html(climahtml.getHTML_hrefanchor(s_input))\n",
    "    show_html(climahtml.getHTML_hrefanchor(s_lblnew_param))\n",
    "    show_html(climahtml.getHTML_hrefanchor(s_plt_cooling))\n",
    "    show_html(climahtml.getHTML_hrefanchor(s_tb_flux))\n",
    "    show_html(climahtml.getHTML_hrefanchor(s_bestfits))\n",
    "    \n",
    "    # Input parameters\n",
    "    show_html(climahtml.getHTML_idanchor(s_input))\n",
    "    show_markdown(climahtml.getMarkdown_sectitle(s_input))\n",
    "    print_input_param()\n",
    "    \n",
    "    # LBLNEW parameters \n",
    "    show_html(climahtml.getHTML_idanchor(s_lblnew_param))\n",
    "    show_markdown(climahtml.getMarkdown_sectitle(s_lblnew_param))\n",
    "    print_lblnew_param()\n",
    "    \n",
    "    # Cooling rate profiles\n",
    "    show_html(climahtml.getHTML_idanchor(s_plt_cooling))\n",
    "    show_markdown(climahtml.getMarkdown_sectitle(s_plt_cooling))\n",
    "    script_plt_cooling()\n",
    "    \n",
    "    # Flux comparison\n",
    "    show_html(climahtml.getHTML_idanchor(s_tb_flux))\n",
    "    show_markdown(climahtml.getMarkdown_sectitle(s_tb_flux))\n",
    "    script_tb_flux()\n",
    "    \n",
    "    # Best-fit values\n",
    "    show_html(climahtml.getHTML_idanchor(s_bestfits))\n",
    "    show_markdown(climahtml.getMarkdown_sectitle(s_bestfits))\n",
    "    print_bestfit_params()\n",
    "   \n",
    "    "
   ]
  },
  {
   "cell_type": "code",
   "execution_count": 12,
   "metadata": {
    "collapsed": true,
    "scrolled": false
   },
   "outputs": [
    {
     "data": {
      "text/markdown": [
       "### CLIRAD-LW"
      ],
      "text/plain": [
       "<IPython.core.display.Markdown object>"
      ]
     },
     "metadata": {},
     "output_type": "display_data"
    },
    {
     "data": {
      "text/markdown": [
       "### Table of Contents"
      ],
      "text/plain": [
       "<IPython.core.display.Markdown object>"
      ]
     },
     "metadata": {},
     "output_type": "display_data"
    },
    {
     "data": {
      "text/html": [
       "<a href=\"#Input_Parameters\">Input Parameters</a>"
      ],
      "text/plain": [
       "<IPython.core.display.HTML object>"
      ]
     },
     "metadata": {},
     "output_type": "display_data"
    },
    {
     "data": {
      "text/html": [
       "<a href=\"#LBLNEW_case_compaired_against\">LBLNEW case compaired against</a>"
      ],
      "text/plain": [
       "<IPython.core.display.HTML object>"
      ]
     },
     "metadata": {},
     "output_type": "display_data"
    },
    {
     "data": {
      "text/html": [
       "<a href=\"#Cooling_Rate_Profiles\">Cooling Rate Profiles</a>"
      ],
      "text/plain": [
       "<IPython.core.display.HTML object>"
      ]
     },
     "metadata": {},
     "output_type": "display_data"
    },
    {
     "data": {
      "text/html": [
       "<a href=\"#Flux_Comparison\">Flux Comparison</a>"
      ],
      "text/plain": [
       "<IPython.core.display.HTML object>"
      ]
     },
     "metadata": {},
     "output_type": "display_data"
    },
    {
     "data": {
      "text/html": [
       "<a href=\"#Best-fit_Parameters\">Best-fit Parameters</a>"
      ],
      "text/plain": [
       "<IPython.core.display.HTML object>"
      ]
     },
     "metadata": {},
     "output_type": "display_data"
    },
    {
     "data": {
      "text/html": [
       "<a id=\"Input_Parameters\"></a>"
      ],
      "text/plain": [
       "<IPython.core.display.HTML object>"
      ]
     },
     "metadata": {},
     "output_type": "display_data"
    },
    {
     "data": {
      "text/markdown": [
       "# Input Parameters"
      ],
      "text/plain": [
       "<IPython.core.display.Markdown object>"
      ]
     },
     "metadata": {},
     "output_type": "display_data"
    },
    {
     "name": "stdout",
     "output_type": "stream",
     "text": [
      "atmpro = saw\n",
      "band = [10]\n",
      "commitnumber = de5d43e\n",
      "molecule = {'h2o': 'atmpro'}\n",
      "tsfc = 257\n"
     ]
    },
    {
     "data": {
      "text/html": [
       "<a id=\"LBLNEW_case_compaired_against\"></a>"
      ],
      "text/plain": [
       "<IPython.core.display.HTML object>"
      ]
     },
     "metadata": {},
     "output_type": "display_data"
    },
    {
     "data": {
      "text/markdown": [
       "# LBLNEW case compaired against"
      ],
      "text/plain": [
       "<IPython.core.display.Markdown object>"
      ]
     },
     "metadata": {},
     "output_type": "display_data"
    },
    {
     "name": "stdout",
     "output_type": "stream",
     "text": [
      "atmpro = saw\n",
      "band = 8\n",
      "commitnumber = 5014a19\n",
      "conc = None\n",
      "dv = 0.001\n",
      "klin = 0\n",
      "molecule = h2o\n",
      "ng_adju = [0, -1, 0]\n",
      "ng_refs = [3, 2, 3]\n",
      "nv = 1000\n",
      "option_compute_btable = 0\n",
      "option_compute_ktable = 0\n",
      "option_wgt_flux = 1\n",
      "option_wgt_k = 1\n",
      "ref_pts = [(1, 250), (10, 250), (500, 250)]\n",
      "tsfc = 257\n",
      "vmax = 1900\n",
      "vmin = 1380\n",
      "w_diffuse = [(1.66, 1.66, 1.66), (1.66, 1.66), (1.66, 1.66, 1.66)]\n",
      "wgt = [(0.55, 0.55, 0.85), (0.85, 0.85), (0, 0.3, 0.55)]\n"
     ]
    },
    {
     "data": {
      "text/html": [
       "<a id=\"Cooling_Rate_Profiles\"></a>"
      ],
      "text/plain": [
       "<IPython.core.display.HTML object>"
      ]
     },
     "metadata": {},
     "output_type": "display_data"
    },
    {
     "data": {
      "text/markdown": [
       "# Cooling Rate Profiles"
      ],
      "text/plain": [
       "<IPython.core.display.Markdown object>"
      ]
     },
     "metadata": {},
     "output_type": "display_data"
    },
    {
     "data": {
      "text/html": [
       "\n",
       "<div class=\"bk-root\">\n",
       "    <div class=\"bk-plotdiv\" id=\"d393b254-bb8e-4b74-a450-d8531f14dbb2\"></div>\n",
       "</div>"
      ]
     },
     "metadata": {},
     "output_type": "display_data"
    },
    {
     "data": {
      "application/javascript": [
       "(function(root) {\n",
       "  function embed_document(root) {\n",
       "    \n",
       "  var docs_json = {\"3b57e12a-29cc-4c6e-b70f-d3384ef7523d\":{\"roots\":{\"references\":[{\"attributes\":{},\"id\":\"3b3556e5-92fb-423d-a679-f0d87406365d\",\"type\":\"SaveTool\"},{\"attributes\":{},\"id\":\"2b62823a-2ce7-4fa7-b3f1-a73f083a84cb\",\"type\":\"UnionRenderers\"},{\"attributes\":{\"callback\":null,\"end\":0.25068012725600003,\"start\":0.001520927144},\"id\":\"38f2ceb7-9695-4d24-9faa-6df7179a756a\",\"type\":\"Range1d\"},{\"attributes\":{},\"id\":\"9347ee2e-a29c-47d0-8f44-f49fdc06ac73\",\"type\":\"UnionRenderers\"},{\"attributes\":{},\"id\":\"f3130a96-ec61-4a9f-b8e7-012cedf81ab4\",\"type\":\"Selection\"},{\"attributes\":{\"overlay\":{\"id\":\"2533f22b-8559-4f56-81eb-62b7dc099b65\",\"type\":\"BoxAnnotation\"}},\"id\":\"58f15b68-d60f-43fc-9b60-0a09ee3d24a9\",\"type\":\"BoxZoomTool\"},{\"attributes\":{\"line_alpha\":0.1,\"line_color\":\"#1f77b4\",\"line_dash\":[6],\"line_width\":5,\"x\":{\"field\":\"x\"},\"y\":{\"field\":\"y\"}},\"id\":\"df83ddb9-b286-42e1-a256-e528247e0838\",\"type\":\"Line\"},{\"attributes\":{},\"id\":\"6ad76b03-e160-4dd1-b799-08a9815821b2\",\"type\":\"Selection\"},{\"attributes\":{},\"id\":\"677c760b-67d5-4b70-82d2-f0df22251716\",\"type\":\"PanTool\"},{\"attributes\":{\"line_alpha\":0.1,\"line_color\":\"#1f77b4\",\"line_width\":3,\"x\":{\"field\":\"x\"},\"y\":{\"field\":\"y\"}},\"id\":\"fee7fed4-0083-45df-8750-8c3f5da16ee2\",\"type\":\"Line\"},{\"attributes\":{},\"id\":\"fae6f4af-97c2-4c49-b16d-fd08a8d491a9\",\"type\":\"Selection\"},{\"attributes\":{\"ticker\":null},\"id\":\"399fac78-df23-49b6-b7ec-f02c718d2776\",\"type\":\"LogTickFormatter\"},{\"attributes\":{},\"id\":\"5f1831ab-c18d-4bf5-ada1-f52f74d1f4c0\",\"type\":\"BasicTickFormatter\"},{\"attributes\":{\"callback\":null,\"data\":{\"x\":{\"__ndarray__\":\"5UIGbrTOyb/fxkU5wczIv/F2jETLLsa/NL2jSr08w7/GYw6bK/e/v+s7Jwy20Li/Y1bC77MFsb/YQesC2i2hv3ZhTWCYHl0/9mxB4mMfpD/QCeOfACe0P/6ZIG53pL4/diKY1QGxxD8qK5fXWxTJP19NVCWAUcs/PN4/cVs2zD8JxqCXeqvMPwojSVLK0sw/5SFbr0zszD9+RUzDz4PNPwwEATJ0bM8/o5ZBEHt8yj9Rrt8Cv/y9P5Y5eWtCVa0/87FYFo4Ynj97ShVfyWKQPyN9z1L2uYE/jr70QCyeeD+tfidQ/ah6P4x7c8A1hXs/eeXLIkwFeD9ope24EbFxP7Nthg80PHA/JSb2uev/dD/SEUtSqiB5P31IIKet5nw/Bp6tkvcJgD93OA/d66F/P0Z/vuaCHoM/QLTLwbAfhT94WdSmOK6FPwxDPWQePoM//A56BU0Dfj9TKGA684tvP9LUr49uRmW/zBoNQOnbeL/89EUAnqgDPyAUek6Re4Y/MxUkrkq/mj+vOc0j+/emP74vcHE70a8/Lz0qlgyUsz+5d7RBi0S2P4ABmapv8bc/vvj4PRexuD/dPSwT/6m4PxZQEIsEErg/B3oLmH4Rtz/pUgOdrsa1P9pqKhltRrQ/xZSjWwqjsj+k73UfbvGwP6IZpfq3k64/dFRwo8Ggqz/w03QawmGpPwaWMI4iT6g/mAvMcigvqT/6gyN23cOsP7ae9ptW+LA/eJBaBYoIsj+9uCckpv+uP9/Upx9LVKU/MXVSvQd4mD8YbTIDxSqEP19JGiWtzY6/\",\"dtype\":\"float64\",\"shape\":[75]},\"y\":{\"__ndarray__\":\"GhExyth1ND/Sv8nbtpRIP2vylNV0PVE/aTum7souWD/At0SJ8fVgPw3Iuahxymc/MSNhhJWvcD/bTfBN02d3P2zb5nxnaoA/CD5h5MAGhz8NmeH1TyaQP+zrCsc9p5Y/LbKd76fGnz/bLW5ISEmmPww9YvTcQq8/JV2OstnstT8Er5Y7M8G+P0c+r3jqkcU/5h99k6ZBzj88bCIzFzjVP4enV8oyxN0//yH99nXg5D8qOpLLf0jtP5kqGJXUifQ/c9cS8kHP/D+/DpwzojQEQIEmwoanVwxA4lgXt9HgE0BSSZ2AJuIbQAMJih9jjiNA5q4l5INuK0AwTKYKRj0zQNv5fmq8/DpAaCJseHrtQkB/+zpwzoxKQM3MzMzMeFJAZmZmZmZqWEAAAAAAAFxeQM3MzMzMJmJAmpmZmZkfZUBmZmZmZhhoQDMzMzMzEWtAAAAAAAAKbkBmZmZmZoFwQM3MzMzM/XFAMzMzMzN6c0CamZmZmfZ0QAAAAAAAc3ZAZmZmZmbvd0DNzMzMzGt5QDMzMzMz6HpAmpmZmZlkfEAAAAAAAOF9QGZmZmZmXX9AZmZmZuZsgECamZmZGSuBQM3MzMxM6YFAAAAAAICngkAzMzMzs2WDQGZmZmbmI4RAmpmZmRnihEDNzMzMTKCFQAAAAACAXoZAMzMzM7Mch0BmZmZm5tqHQJqZmZkZmYhAzczMzExXiUAAAAAAgBWKQDMzMzOz04pAZmZmZuaRi0CamZmZGVCMQM3MzMxMDo1AAAAAAIDMjUAzMzMzs4qOQGZmZmbmSI9A\",\"dtype\":\"float64\",\"shape\":[75]}},\"selected\":{\"id\":\"fae6f4af-97c2-4c49-b16d-fd08a8d491a9\",\"type\":\"Selection\"},\"selection_policy\":{\"id\":\"82c3d23e-dd14-407c-a913-6439df609ae6\",\"type\":\"UnionRenderers\"}},\"id\":\"cf9f0e69-4048-4a5c-ab03-fe95b6d18169\",\"type\":\"ColumnDataSource\"},{\"attributes\":{},\"id\":\"cf6d69f1-c5f1-4f09-be46-48fda56e0d36\",\"type\":\"Selection\"},{\"attributes\":{},\"id\":\"78fbc141-bb4b-4844-b16c-db1171a740dc\",\"type\":\"LinearScale\"},{\"attributes\":{\"fill_alpha\":{\"value\":0.7},\"fill_color\":{\"value\":\"#4daf4a\"},\"line_alpha\":{\"value\":0.7},\"line_color\":{\"value\":\"#4daf4a\"},\"x\":{\"field\":\"x\"},\"y\":{\"field\":\"y\"}},\"id\":\"01c4fc72-3511-40dc-9c5f-dbeaf3bee329\",\"type\":\"Circle\"},{\"attributes\":{},\"id\":\"82c3d23e-dd14-407c-a913-6439df609ae6\",\"type\":\"UnionRenderers\"},{\"attributes\":{\"num_minor_ticks\":10},\"id\":\"8fc7c276-12e3-42af-9542-eef3a43f4db0\",\"type\":\"LogTicker\"},{\"attributes\":{\"line_color\":\"#4daf4a\",\"line_width\":1.5,\"x\":{\"field\":\"x\"},\"y\":{\"field\":\"y\"}},\"id\":\"e40e179a-15be-4e35-9e01-0085c3b0844f\",\"type\":\"Line\"},{\"attributes\":{},\"id\":\"e22ab103-19dd-4b11-b76e-d3979f1cb8f8\",\"type\":\"UnionRenderers\"},{\"attributes\":{\"callback\":null,\"data\":{\"x\":{\"__ndarray__\":\"5UIGbrTOyb/fxkU5wczIv/F2jETLLsa/NL2jSr08w7/GYw6bK/e/v+s7Jwy20Li/Y1bC77MFsb/YQesC2i2hv3ZhTWCYHl0/9mxB4mMfpD/QCeOfACe0P/6ZIG53pL4/diKY1QGxxD8qK5fXWxTJP19NVCWAUcs/PN4/cVs2zD8JxqCXeqvMPwojSVLK0sw/5SFbr0zszD9+RUzDz4PNPwwEATJ0bM8/o5ZBEHt8yj9Rrt8Cv/y9P5Y5eWtCVa0/87FYFo4Ynj97ShVfyWKQPyN9z1L2uYE/jr70QCyeeD+tfidQ/ah6P4x7c8A1hXs/eeXLIkwFeD9ope24EbFxP7Nthg80PHA/JSb2uev/dD/SEUtSqiB5P31IIKet5nw/Bp6tkvcJgD93OA/d66F/P0Z/vuaCHoM/QLTLwbAfhT94WdSmOK6FPwxDPWQePoM//A56BU0Dfj9TKGA684tvP9LUr49uRmW/zBoNQOnbeL/89EUAnqgDPyAUek6Re4Y/MxUkrkq/mj+vOc0j+/emP74vcHE70a8/Lz0qlgyUsz+5d7RBi0S2P4ABmapv8bc/vvj4PRexuD/dPSwT/6m4PxZQEIsEErg/B3oLmH4Rtz/pUgOdrsa1P9pqKhltRrQ/xZSjWwqjsj+k73UfbvGwP6IZpfq3k64/dFRwo8Ggqz/w03QawmGpPwaWMI4iT6g/mAvMcigvqT/6gyN23cOsP7ae9ptW+LA/eJBaBYoIsj+9uCckpv+uP9/Upx9LVKU/MXVSvQd4mD8YbTIDxSqEP19JGiWtzY6/\",\"dtype\":\"float64\",\"shape\":[75]},\"y\":{\"__ndarray__\":\"GhExyth1ND/Sv8nbtpRIP2vylNV0PVE/aTum7souWD/At0SJ8fVgPw3Iuahxymc/MSNhhJWvcD/bTfBN02d3P2zb5nxnaoA/CD5h5MAGhz8NmeH1TyaQP+zrCsc9p5Y/LbKd76fGnz/bLW5ISEmmPww9YvTcQq8/JV2OstnstT8Er5Y7M8G+P0c+r3jqkcU/5h99k6ZBzj88bCIzFzjVP4enV8oyxN0//yH99nXg5D8qOpLLf0jtP5kqGJXUifQ/c9cS8kHP/D+/DpwzojQEQIEmwoanVwxA4lgXt9HgE0BSSZ2AJuIbQAMJih9jjiNA5q4l5INuK0AwTKYKRj0zQNv5fmq8/DpAaCJseHrtQkB/+zpwzoxKQM3MzMzMeFJAZmZmZmZqWEAAAAAAAFxeQM3MzMzMJmJAmpmZmZkfZUBmZmZmZhhoQDMzMzMzEWtAAAAAAAAKbkBmZmZmZoFwQM3MzMzM/XFAMzMzMzN6c0CamZmZmfZ0QAAAAAAAc3ZAZmZmZmbvd0DNzMzMzGt5QDMzMzMz6HpAmpmZmZlkfEAAAAAAAOF9QGZmZmZmXX9AZmZmZuZsgECamZmZGSuBQM3MzMxM6YFAAAAAAICngkAzMzMzs2WDQGZmZmbmI4RAmpmZmRnihEDNzMzMTKCFQAAAAACAXoZAMzMzM7Mch0BmZmZm5tqHQJqZmZkZmYhAzczMzExXiUAAAAAAgBWKQDMzMzOz04pAZmZmZuaRi0CamZmZGVCMQM3MzMxMDo1AAAAAAIDMjUAzMzMzs4qOQGZmZmbmSI9A\",\"dtype\":\"float64\",\"shape\":[75]}},\"selected\":{\"id\":\"2382a369-5567-4bcf-bd00-30ba7cf7f3c7\",\"type\":\"Selection\"},\"selection_policy\":{\"id\":\"f27251b0-488b-4f87-8443-7b4b37c5628c\",\"type\":\"UnionRenderers\"}},\"id\":\"6f819c96-0da5-4879-bca8-451fb856606f\",\"type\":\"ColumnDataSource\"},{\"attributes\":{},\"id\":\"f27251b0-488b-4f87-8443-7b4b37c5628c\",\"type\":\"UnionRenderers\"},{\"attributes\":{\"line_alpha\":0.1,\"line_color\":\"#1f77b4\",\"line_width\":3,\"x\":{\"field\":\"x\"},\"y\":{\"field\":\"y\"}},\"id\":\"940adcc1-adb8-4c88-807a-46d51f41301a\",\"type\":\"Line\"},{\"attributes\":{},\"id\":\"2382a369-5567-4bcf-bd00-30ba7cf7f3c7\",\"type\":\"Selection\"},{\"attributes\":{},\"id\":\"a822592b-0279-48de-952e-aa600d009743\",\"type\":\"UnionRenderers\"},{\"attributes\":{\"below\":[{\"id\":\"1eda32f5-8ab0-428d-8f2b-026062e0a38d\",\"type\":\"LinearAxis\"}],\"left\":[{\"id\":\"1f541040-2b67-48ad-bdce-65f016fb2353\",\"type\":\"LogAxis\"}],\"plot_height\":500,\"plot_width\":560,\"renderers\":[{\"id\":\"1eda32f5-8ab0-428d-8f2b-026062e0a38d\",\"type\":\"LinearAxis\"},{\"id\":\"c3ec43c5-9c1d-4748-b7fb-cf0dd92a31b2\",\"type\":\"Grid\"},{\"id\":\"1f541040-2b67-48ad-bdce-65f016fb2353\",\"type\":\"LogAxis\"},{\"id\":\"8496be8d-3a18-42c1-8258-88df63ea0351\",\"type\":\"Grid\"},{\"id\":\"2533f22b-8559-4f56-81eb-62b7dc099b65\",\"type\":\"BoxAnnotation\"},{\"id\":\"372caf71-6093-4a1f-8d5f-744942038087\",\"type\":\"GlyphRenderer\"},{\"id\":\"51d18809-db4f-471d-b1c8-4ac61f9e1bb3\",\"type\":\"GlyphRenderer\"},{\"id\":\"ffb8cd18-c594-4e36-bbef-47c7a72b757b\",\"type\":\"GlyphRenderer\"},{\"id\":\"ef3da72a-4077-42cb-9b03-1c5b5d27ea63\",\"type\":\"GlyphRenderer\"},{\"id\":\"8e87c03a-7b0f-4d17-9421-fdad5510fe0d\",\"type\":\"GlyphRenderer\"},{\"id\":\"8fb099af-3ef8-452d-8540-ccf27aa1843c\",\"type\":\"Legend\"}],\"right\":[{\"id\":\"8fb099af-3ef8-452d-8540-ccf27aa1843c\",\"type\":\"Legend\"}],\"title\":{\"id\":\"01e75340-3e75-4c5c-99d8-2d3894edc2ae\",\"type\":\"Title\"},\"toolbar\":{\"id\":\"4fd5e545-1592-44ca-a3be-2e13b030ad73\",\"type\":\"Toolbar\"},\"toolbar_location\":null,\"x_range\":{\"id\":\"38f2ceb7-9695-4d24-9faa-6df7179a756a\",\"type\":\"Range1d\"},\"x_scale\":{\"id\":\"02da14e3-cbd0-40e8-8e92-0807ec24b2df\",\"type\":\"LinearScale\"},\"y_range\":{\"id\":\"c548243d-3640-45bd-9744-e55d481c3bf1\",\"type\":\"Range1d\"},\"y_scale\":{\"id\":\"2c8feeb8-e079-42cd-b8b8-f319f9b50a8e\",\"type\":\"LogScale\"}},\"id\":\"7b4264e4-f37c-46b5-bd45-e5f3dd163dd6\",\"subtype\":\"Figure\",\"type\":\"Plot\"},{\"attributes\":{\"axis_label\":\"pressure [mb]\",\"formatter\":{\"id\":\"399fac78-df23-49b6-b7ec-f02c718d2776\",\"type\":\"LogTickFormatter\"},\"plot\":{\"id\":\"7b4264e4-f37c-46b5-bd45-e5f3dd163dd6\",\"subtype\":\"Figure\",\"type\":\"Plot\"},\"ticker\":{\"id\":\"8fc7c276-12e3-42af-9542-eef3a43f4db0\",\"type\":\"LogTicker\"}},\"id\":\"1f541040-2b67-48ad-bdce-65f016fb2353\",\"type\":\"LogAxis\"},{\"attributes\":{},\"id\":\"6d77d74d-a45d-4d33-9186-a094417b1483\",\"type\":\"Selection\"},{\"attributes\":{},\"id\":\"7ae8f2dc-194e-463a-995c-8a4328d025a0\",\"type\":\"SaveTool\"},{\"attributes\":{\"children\":[{\"id\":\"70f30d28-9b6e-4e75-8b8c-ee9025f67c82\",\"type\":\"ToolbarBox\"},{\"id\":\"2ffb4e92-b32f-4e09-9011-2f6ddddc6808\",\"type\":\"Column\"}]},\"id\":\"7a174c5b-1e35-47e8-a627-cdb6b7123087\",\"type\":\"Column\"},{\"attributes\":{\"plot\":null,\"text\":\"Linear pressure scale\"},\"id\":\"7fbba02a-f320-4e30-8f64-3021832f827f\",\"type\":\"Title\"},{\"attributes\":{\"tools\":[{\"id\":\"060aad68-bd54-49d2-8fc8-b686523e1ac8\",\"type\":\"PanTool\"},{\"id\":\"be001d7a-052b-4028-a39e-a64534cb4b8a\",\"type\":\"WheelZoomTool\"},{\"id\":\"38fd0dd6-74f6-4d7e-b507-5276af5b4ebf\",\"type\":\"BoxZoomTool\"},{\"id\":\"7ae8f2dc-194e-463a-995c-8a4328d025a0\",\"type\":\"SaveTool\"},{\"id\":\"d306dfdc-2fde-42f7-afcf-2a7981583fe1\",\"type\":\"ResetTool\"},{\"id\":\"035225d1-730c-4441-b3dc-dfa93d78351e\",\"type\":\"HelpTool\"},{\"id\":\"677c760b-67d5-4b70-82d2-f0df22251716\",\"type\":\"PanTool\"},{\"id\":\"8c4cd768-191d-47ca-83f0-dec92d9bdb9d\",\"type\":\"WheelZoomTool\"},{\"id\":\"58f15b68-d60f-43fc-9b60-0a09ee3d24a9\",\"type\":\"BoxZoomTool\"},{\"id\":\"3b3556e5-92fb-423d-a679-f0d87406365d\",\"type\":\"SaveTool\"},{\"id\":\"c78c81d5-e6ce-469f-8c4d-dd49cf03353c\",\"type\":\"ResetTool\"},{\"id\":\"cac554e3-2699-4693-851a-691c0f1b0e02\",\"type\":\"HelpTool\"}]},\"id\":\"8cdf2048-fc29-4c7b-901b-1c1fe516daac\",\"type\":\"ProxyToolbar\"},{\"attributes\":{\"data_source\":{\"id\":\"0d761d71-4ac1-4bed-b59a-2ab9d737ba09\",\"type\":\"ColumnDataSource\"},\"glyph\":{\"id\":\"d5181b6f-bd80-4f75-9139-2f91f84db783\",\"type\":\"Line\"},\"hover_glyph\":null,\"muted_glyph\":null,\"nonselection_glyph\":{\"id\":\"940adcc1-adb8-4c88-807a-46d51f41301a\",\"type\":\"Line\"},\"selection_glyph\":null,\"view\":{\"id\":\"5699678f-0d52-4fee-9130-1e3f670b66ea\",\"type\":\"CDSView\"}},\"id\":\"ddda0d35-72a6-4000-8e00-33c331d0c7e7\",\"type\":\"GlyphRenderer\"},{\"attributes\":{\"line_color\":\"#4daf4a\",\"line_width\":1.5,\"x\":{\"field\":\"x\"},\"y\":{\"field\":\"y\"}},\"id\":\"0e85b5e6-f1f9-401c-a6ef-ee99dd64d86a\",\"type\":\"Line\"},{\"attributes\":{\"toolbar\":{\"id\":\"8cdf2048-fc29-4c7b-901b-1c1fe516daac\",\"type\":\"ProxyToolbar\"},\"toolbar_location\":\"above\"},\"id\":\"70f30d28-9b6e-4e75-8b8c-ee9025f67c82\",\"type\":\"ToolbarBox\"},{\"attributes\":{\"source\":{\"id\":\"d8537097-08dd-427e-8299-994ac6824387\",\"type\":\"ColumnDataSource\"}},\"id\":\"e42c814e-fa8c-40b6-b2d2-595446f85ef5\",\"type\":\"CDSView\"},{\"attributes\":{\"callback\":null,\"end\":0.01,\"start\":1020},\"id\":\"d9e31b75-a3b4-4248-aecd-6f947d5d8401\",\"type\":\"Range1d\"},{\"attributes\":{\"items\":[{\"id\":\"818ee04d-77ce-4fde-a9c3-e54e9ee891d9\",\"type\":\"LegendItem\"},{\"id\":\"b72f21d9-fd3f-4214-90c2-198641d6ce7c\",\"type\":\"LegendItem\"},{\"id\":\"6b334675-10e8-4463-9e26-acbd24259ee1\",\"type\":\"LegendItem\"}],\"label_text_font_size\":{\"value\":\"8pt\"},\"location\":[10,-30],\"plot\":{\"id\":\"7b4264e4-f37c-46b5-bd45-e5f3dd163dd6\",\"subtype\":\"Figure\",\"type\":\"Plot\"}},\"id\":\"8fb099af-3ef8-452d-8540-ccf27aa1843c\",\"type\":\"Legend\"},{\"attributes\":{\"callback\":null,\"data\":{\"x\":{\"__ndarray__\":\"6mwz2zaIxL+4ySxrMMfDv4kevm0iCsK/UtZvJqYLwL/N6GjREpa7v2hkeR+Tgba/OJNQqfvIsL+G72I5wM6kvwgcvaWSvYq/2EQfWeTKkT+5Xon2Z/WpP46phsA7QLY/OF/TIFgXwD8pEfr8pJjEPxkCoXG4wcc/6qEqZLb9yT9ckJD1ks7LP6ZIW+iMIM0/q069JIT9zT+0IuZpK7zOPwTi2Cc+xs8/803DhXYtyj/Ean+pl8a8P5Ck+odavqo/aygqJUjInT+GjYy3kKWTP5/USF/J1Ic/yergnK1VfT+FLUjDwY96P8HCO5Q3tHs/hCHVbVX9ej8uUrpJC911P1kIqR4bT3Q/yd4+6jDYeT9xSdAGeel9P6niJ8U36n4/PTE9MnUWfz9nrYrvyRx+P4pYhiiGc4M/dQeQJZyriD+jpg+9wguNP8FLniLva4w/K3Ndcogqhz8BH0mzPAJ5Px3PbR6cymi/6UvKOKFrgr8aPNymKRZwv7uTeA6fU3w//Kj4Uof7kz+AJEWUkdugPycjqMa9jKk/YtuBvh32sT/cXCqmOjO2P5hiB8ipM7g/+VoUmWCIuD9jmncJP1K4P6HMX1Gse7g/HSGRI47WuD/82MTMtZ24P05MYDissLc/53NqPhmptT/DWvEX90KzPxneHBa5k7A/HgUqERhTrD8O1PScnr6oP6WSz2VJBKc/HJYYYRCspz/fhaggEeOrP2HpMut7w7A/qDpbdVoNsj/CCr/tbDyvP31kNnIkaqU/VsFrQTZjlz9jFK5FlzCAP24Ocj8pWJK/\",\"dtype\":\"float64\",\"shape\":[75]},\"y\":{\"__ndarray__\":\"S/O/Q+51ND/Sv8nbtpRIP2vylNV0PVE/aTum7souWD/At0SJ8fVgPw3Iuahxymc/MSNhhJWvcD/bTfBN02d3P2zb5nxnaoA/CD5h5MAGhz8NmeH1TyaQP+zrCsc9p5Y/LbKd76fGnz/bLW5ISEmmPww9YvTcQq8/JV2OstnstT8Er5Y7M8G+P0c+r3jqkcU/5h99k6ZBzj88bCIzFzjVP4enV8oyxN0//yH99nXg5D8qOpLLf0jtP5kqGJXUifQ/c9cS8kHP/D+/DpwzojQEQIEmwoanVwxA4lgXt9HgE0BSSZ2AJuIbQAMJih9jjiNA5q4l5INuK0AwTKYKRj0zQNv5fmq8/DpAaCJseHrtQkB/+zpwzoxKQM3MzMzMeFJAZmZmZmZqWEAAAAAAAFxeQM3MzMzMJmJAmpmZmZkfZUBmZmZmZhhoQDMzMzMzEWtAAAAAAAAKbkBmZmZmZoFwQM3MzMzM/XFAMzMzMzN6c0CamZmZmfZ0QAAAAAAAc3ZAZmZmZmbvd0DNzMzMzGt5QDMzMzMz6HpAmpmZmZlkfEAAAAAAAOF9QGZmZmZmXX9AZmZmZuZsgECamZmZGSuBQM3MzMxM6YFAAAAAAICngkAzMzMzs2WDQGZmZmbmI4RAmpmZmRnihEDNzMzMTKCFQAAAAACAXoZAMzMzM7Mch0BmZmZm5tqHQJqZmZkZmYhAzczMzExXiUAAAAAAgBWKQDMzMzOz04pAZmZmZuaRi0CamZmZGVCMQM3MzMxMDo1AAAAAAIDMjUAzMzMzs4qOQGZmZmbmSI9A\",\"dtype\":\"float64\",\"shape\":[75]}},\"selected\":{\"id\":\"6ad76b03-e160-4dd1-b799-08a9815821b2\",\"type\":\"Selection\"},\"selection_policy\":{\"id\":\"9347ee2e-a29c-47d0-8f44-f49fdc06ac73\",\"type\":\"UnionRenderers\"}},\"id\":\"6a3e6b83-5248-431b-a15b-779d56ee20d3\",\"type\":\"ColumnDataSource\"},{\"attributes\":{\"dimension\":1,\"plot\":{\"id\":\"fccd65ae-16f5-41ed-9462-4d134ea545da\",\"subtype\":\"Figure\",\"type\":\"Plot\"},\"ticker\":{\"id\":\"c6c0f889-c613-4eae-bc40-ce4a74c15334\",\"type\":\"BasicTicker\"}},\"id\":\"cf19a40f-000a-41d0-b8bf-25d9278c9a84\",\"type\":\"Grid\"},{\"attributes\":{\"data_source\":{\"id\":\"ccd4ed56-9589-4391-a589-f17c31288ee0\",\"type\":\"ColumnDataSource\"},\"glyph\":{\"id\":\"0e85b5e6-f1f9-401c-a6ef-ee99dd64d86a\",\"type\":\"Line\"},\"hover_glyph\":null,\"muted_glyph\":null,\"nonselection_glyph\":{\"id\":\"6d1b7684-eace-4b95-b39f-7be0483333e1\",\"type\":\"Line\"},\"selection_glyph\":null,\"view\":{\"id\":\"e4fd9603-987c-4130-aff9-7f259073040f\",\"type\":\"CDSView\"}},\"id\":\"bcc44755-eca9-4237-ad85-18a53fb5a8a4\",\"type\":\"GlyphRenderer\"},{\"attributes\":{\"source\":{\"id\":\"0d761d71-4ac1-4bed-b59a-2ab9d737ba09\",\"type\":\"ColumnDataSource\"}},\"id\":\"5699678f-0d52-4fee-9130-1e3f670b66ea\",\"type\":\"CDSView\"},{\"attributes\":{},\"id\":\"8c4cd768-191d-47ca-83f0-dec92d9bdb9d\",\"type\":\"WheelZoomTool\"},{\"attributes\":{\"bottom_units\":\"screen\",\"fill_alpha\":{\"value\":0.5},\"fill_color\":{\"value\":\"lightgrey\"},\"left_units\":\"screen\",\"level\":\"overlay\",\"line_alpha\":{\"value\":1.0},\"line_color\":{\"value\":\"black\"},\"line_dash\":[4,4],\"line_width\":{\"value\":2},\"plot\":null,\"render_mode\":\"css\",\"right_units\":\"screen\",\"top_units\":\"screen\"},\"id\":\"771648c1-4ea8-4553-9766-45e16cfaf13d\",\"type\":\"BoxAnnotation\"},{\"attributes\":{\"line_alpha\":0.1,\"line_color\":\"#1f77b4\",\"line_width\":1.5,\"x\":{\"field\":\"x\"},\"y\":{\"field\":\"y\"}},\"id\":\"6d1b7684-eace-4b95-b39f-7be0483333e1\",\"type\":\"Line\"},{\"attributes\":{},\"id\":\"c163439a-7af6-468f-90a7-7a8279353fcb\",\"type\":\"UnionRenderers\"},{\"attributes\":{\"fill_alpha\":{\"value\":0.7},\"fill_color\":{\"value\":\"#984ea3\"},\"line_alpha\":{\"value\":0.7},\"line_color\":{\"value\":\"#984ea3\"},\"x\":{\"field\":\"x\"},\"y\":{\"field\":\"y\"}},\"id\":\"4a129e71-b5bb-4994-9508-78db83b9d6ce\",\"type\":\"Square\"},{\"attributes\":{},\"id\":\"cac554e3-2699-4693-851a-691c0f1b0e02\",\"type\":\"HelpTool\"},{\"attributes\":{\"callback\":null,\"end\":0.09817323586000001,\"start\":-0.01906381586},\"id\":\"0bb5c682-2207-48ef-b0eb-a72847e5c5f5\",\"type\":\"Range1d\"},{\"attributes\":{\"axis_label\":\"pressure [mb]\",\"formatter\":{\"id\":\"dbc70819-4e15-47e7-8646-f95340134a17\",\"type\":\"BasicTickFormatter\"},\"plot\":{\"id\":\"fccd65ae-16f5-41ed-9462-4d134ea545da\",\"subtype\":\"Figure\",\"type\":\"Plot\"},\"ticker\":{\"id\":\"c6c0f889-c613-4eae-bc40-ce4a74c15334\",\"type\":\"BasicTicker\"}},\"id\":\"cb6c97cd-a024-44a3-9e65-14b53276ef57\",\"type\":\"LinearAxis\"},{\"attributes\":{},\"id\":\"ad1813df-4970-4ebe-a151-91c0b618510f\",\"type\":\"BasicTicker\"},{\"attributes\":{\"data_source\":{\"id\":\"91865a6e-1a7f-489f-a53e-74621afcdfce\",\"type\":\"ColumnDataSource\"},\"glyph\":{\"id\":\"f01ab39a-152b-4b51-887e-09c77c3bcec2\",\"type\":\"Square\"},\"hover_glyph\":null,\"muted_glyph\":null,\"nonselection_glyph\":{\"id\":\"b64c6c09-aeb7-44b3-b7e8-1602a4520b4c\",\"type\":\"Square\"},\"selection_glyph\":null,\"view\":{\"id\":\"664bef69-af44-4c88-af33-71f5f1e47036\",\"type\":\"CDSView\"}},\"id\":\"ef3da72a-4077-42cb-9b03-1c5b5d27ea63\",\"type\":\"GlyphRenderer\"},{\"attributes\":{\"plot\":{\"id\":\"fccd65ae-16f5-41ed-9462-4d134ea545da\",\"subtype\":\"Figure\",\"type\":\"Plot\"},\"ticker\":{\"id\":\"ad1813df-4970-4ebe-a151-91c0b618510f\",\"type\":\"BasicTicker\"}},\"id\":\"f9772b6c-595e-4aa3-b29c-0a28e7af17f8\",\"type\":\"Grid\"},{\"attributes\":{\"callback\":null,\"data\":{\"x\":{\"__ndarray__\":\"VqYNkQxKxr+9wh0PN2zFvw8jHw90X8O/xZX3q5AOwb9xlBzrH8+8vyetCVO58ba/Q4ZOj+htsL9gA+3BjG6iv+yCge9smXW/HcZSqkLinD8kdJpcxGywPzfLK9gTOLo/iwpKBHtCwj8O0zpI8rfGP8S00xC2esk/czr42nAfyz/tSy0RW03MP/0qSUo8EM0/IOLbyZqNzT/b+PrF8zbOPwC12vaLqs8/8vKp6P50yj+tIvvYGMC9P+A6/y26maw/PYMJKSSgnj/hyO7st9iSP6pzdpQHyIY/Sf0iFqTAfj/9xSn1cdB9Px6Hff7VlX4/hgp59YxffD+PZT70HX52P+GD8hT873Q/37U3TFghej9QDkz21+F9P08L6sFI4H8/dx6z/4O9gD9EG/5aM1SAP+MfZFfZfoQ/oJy40kqwiD/bE6bCSMiLP5tQTa2fS4o/ZBOYaXkthT9Pkf1wnu52P1dlPmaZXme/ia3LW06ugL/uweyZn6Fmv5ZZ8FDjM4A/et35ldEqlT8fmsyneKqhP8PDGGPzWak/vAxl8JYasT+RInEby/u0P4V1USPxXLc/j8pxm01AuD+NhDzHSEe4P7xZaxlzFLg/4AXSNVTYtz+exdsvNGS3P2owgYvDfbY/2dIPGHgAtT82QVRHbxqzP5wXB+EXArE/OJ1ZS/IJrj8BuV/uFuGqP6uyA4KDM6k/VBYnD7rRqT8NkS24MWKtP/RnWfurT7E/MlTGslNksj80CxxrCa2vP2xzejywxaU/On0suR5imD8ZgOqSc2iBPwOIJtObHJG/\",\"dtype\":\"float64\",\"shape\":[75]},\"y\":{\"__ndarray__\":\"GhExyth1ND/Sv8nbtpRIP2vylNV0PVE/aTum7souWD/At0SJ8fVgPw3Iuahxymc/MSNhhJWvcD/bTfBN02d3P2zb5nxnaoA/CD5h5MAGhz8NmeH1TyaQP+zrCsc9p5Y/LbKd76fGnz/bLW5ISEmmPww9YvTcQq8/JV2OstnstT8Er5Y7M8G+P0c+r3jqkcU/5h99k6ZBzj88bCIzFzjVP4enV8oyxN0//yH99nXg5D8qOpLLf0jtP5kqGJXUifQ/c9cS8kHP/D+/DpwzojQEQIEmwoanVwxA4lgXt9HgE0BSSZ2AJuIbQAMJih9jjiNA5q4l5INuK0AwTKYKRj0zQNv5fmq8/DpAaCJseHrtQkB/+zpwzoxKQM3MzMzMeFJAZmZmZmZqWEAAAAAAAFxeQM3MzMzMJmJAmpmZmZkfZUBmZmZmZhhoQDMzMzMzEWtAAAAAAAAKbkBmZmZmZoFwQM3MzMzM/XFAMzMzMzN6c0CamZmZmfZ0QAAAAAAAc3ZAZmZmZmbvd0DNzMzMzGt5QDMzMzMz6HpAmpmZmZlkfEAAAAAAAOF9QGZmZmZmXX9AZmZmZuZsgECamZmZGSuBQM3MzMxM6YFAAAAAAICngkAzMzMzs2WDQGZmZmbmI4RAmpmZmRnihEDNzMzMTKCFQAAAAACAXoZAMzMzM7Mch0BmZmZm5tqHQJqZmZkZmYhAzczMzExXiUAAAAAAgBWKQDMzMzOz04pAZmZmZuaRi0CamZmZGVCMQM3MzMxMDo1AAAAAAIDMjUAzMzMzs4qOQGZmZmbmSI9A\",\"dtype\":\"float64\",\"shape\":[75]}},\"selected\":{\"id\":\"f3130a96-ec61-4a9f-b8e7-012cedf81ab4\",\"type\":\"Selection\"},\"selection_policy\":{\"id\":\"2b62823a-2ce7-4fa7-b3f1-a73f083a84cb\",\"type\":\"UnionRenderers\"}},\"id\":\"0d761d71-4ac1-4bed-b59a-2ab9d737ba09\",\"type\":\"ColumnDataSource\"},{\"attributes\":{\"callback\":null,\"data\":{\"x\":{\"__ndarray__\":\"VqYNkQxKxr+9wh0PN2zFvw8jHw90X8O/xZX3q5AOwb9xlBzrH8+8vyetCVO58ba/Q4ZOj+htsL9gA+3BjG6iv+yCge9smXW/HcZSqkLinD8kdJpcxGywPzfLK9gTOLo/iwpKBHtCwj8O0zpI8rfGP8S00xC2esk/czr42nAfyz/tSy0RW03MP/0qSUo8EM0/IOLbyZqNzT/b+PrF8zbOPwC12vaLqs8/8vKp6P50yj+tIvvYGMC9P+A6/y26maw/PYMJKSSgnj/hyO7st9iSP6pzdpQHyIY/Sf0iFqTAfj/9xSn1cdB9Px6Hff7VlX4/hgp59YxffD+PZT70HX52P+GD8hT873Q/37U3TFghej9QDkz21+F9P08L6sFI4H8/dx6z/4O9gD9EG/5aM1SAP+MfZFfZfoQ/oJy40kqwiD/bE6bCSMiLP5tQTa2fS4o/ZBOYaXkthT9Pkf1wnu52P1dlPmaZXme/ia3LW06ugL/uweyZn6Fmv5ZZ8FDjM4A/et35ldEqlT8fmsyneKqhP8PDGGPzWak/vAxl8JYasT+RInEby/u0P4V1USPxXLc/j8pxm01AuD+NhDzHSEe4P7xZaxlzFLg/4AXSNVTYtz+exdsvNGS3P2owgYvDfbY/2dIPGHgAtT82QVRHbxqzP5wXB+EXArE/OJ1ZS/IJrj8BuV/uFuGqP6uyA4KDM6k/VBYnD7rRqT8NkS24MWKtP/RnWfurT7E/MlTGslNksj80CxxrCa2vP2xzejywxaU/On0suR5imD8ZgOqSc2iBPwOIJtObHJG/\",\"dtype\":\"float64\",\"shape\":[75]},\"y\":{\"__ndarray__\":\"GhExyth1ND/Sv8nbtpRIP2vylNV0PVE/aTum7souWD/At0SJ8fVgPw3Iuahxymc/MSNhhJWvcD/bTfBN02d3P2zb5nxnaoA/CD5h5MAGhz8NmeH1TyaQP+zrCsc9p5Y/LbKd76fGnz/bLW5ISEmmPww9YvTcQq8/JV2OstnstT8Er5Y7M8G+P0c+r3jqkcU/5h99k6ZBzj88bCIzFzjVP4enV8oyxN0//yH99nXg5D8qOpLLf0jtP5kqGJXUifQ/c9cS8kHP/D+/DpwzojQEQIEmwoanVwxA4lgXt9HgE0BSSZ2AJuIbQAMJih9jjiNA5q4l5INuK0AwTKYKRj0zQNv5fmq8/DpAaCJseHrtQkB/+zpwzoxKQM3MzMzMeFJAZmZmZmZqWEAAAAAAAFxeQM3MzMzMJmJAmpmZmZkfZUBmZmZmZhhoQDMzMzMzEWtAAAAAAAAKbkBmZmZmZoFwQM3MzMzM/XFAMzMzMzN6c0CamZmZmfZ0QAAAAAAAc3ZAZmZmZmbvd0DNzMzMzGt5QDMzMzMz6HpAmpmZmZlkfEAAAAAAAOF9QGZmZmZmXX9AZmZmZuZsgECamZmZGSuBQM3MzMxM6YFAAAAAAICngkAzMzMzs2WDQGZmZmbmI4RAmpmZmRnihEDNzMzMTKCFQAAAAACAXoZAMzMzM7Mch0BmZmZm5tqHQJqZmZkZmYhAzczMzExXiUAAAAAAgBWKQDMzMzOz04pAZmZmZuaRi0CamZmZGVCMQM3MzMxMDo1AAAAAAIDMjUAzMzMzs4qOQGZmZmbmSI9A\",\"dtype\":\"float64\",\"shape\":[75]}},\"selected\":{\"id\":\"6d77d74d-a45d-4d33-9186-a094417b1483\",\"type\":\"Selection\"},\"selection_policy\":{\"id\":\"a822592b-0279-48de-952e-aa600d009743\",\"type\":\"UnionRenderers\"}},\"id\":\"91865a6e-1a7f-489f-a53e-74621afcdfce\",\"type\":\"ColumnDataSource\"},{\"attributes\":{\"fill_alpha\":{\"value\":0.7},\"fill_color\":{\"value\":\"#984ea3\"},\"line_alpha\":{\"value\":0.7},\"line_color\":{\"value\":\"#984ea3\"},\"x\":{\"field\":\"x\"},\"y\":{\"field\":\"y\"}},\"id\":\"f01ab39a-152b-4b51-887e-09c77c3bcec2\",\"type\":\"Square\"},{\"attributes\":{},\"id\":\"c6c0f889-c613-4eae-bc40-ce4a74c15334\",\"type\":\"BasicTicker\"},{\"attributes\":{\"line_alpha\":0.1,\"line_color\":\"#1f77b4\",\"line_dash\":[6],\"line_width\":5,\"x\":{\"field\":\"x\"},\"y\":{\"field\":\"y\"}},\"id\":\"44d9bca0-88b7-43a8-b142-9fb4b01fcb10\",\"type\":\"Line\"},{\"attributes\":{},\"id\":\"060aad68-bd54-49d2-8fc8-b686523e1ac8\",\"type\":\"PanTool\"},{\"attributes\":{\"data_source\":{\"id\":\"6a3e6b83-5248-431b-a15b-779d56ee20d3\",\"type\":\"ColumnDataSource\"},\"glyph\":{\"id\":\"09f6e9ea-163d-4de3-abb3-346f48d0309e\",\"type\":\"Line\"},\"hover_glyph\":null,\"muted_glyph\":null,\"nonselection_glyph\":{\"id\":\"44d9bca0-88b7-43a8-b142-9fb4b01fcb10\",\"type\":\"Line\"},\"selection_glyph\":null,\"view\":{\"id\":\"17479f52-ef1d-4037-8488-75e4ccd13211\",\"type\":\"CDSView\"}},\"id\":\"372caf71-6093-4a1f-8d5f-744942038087\",\"type\":\"GlyphRenderer\"},{\"attributes\":{},\"id\":\"be001d7a-052b-4028-a39e-a64534cb4b8a\",\"type\":\"WheelZoomTool\"},{\"attributes\":{\"fill_alpha\":{\"value\":0.1},\"fill_color\":{\"value\":\"#1f77b4\"},\"line_alpha\":{\"value\":0.1},\"line_color\":{\"value\":\"#1f77b4\"},\"x\":{\"field\":\"x\"},\"y\":{\"field\":\"y\"}},\"id\":\"282fbb46-9593-4d18-8f8a-3a8b36957a4e\",\"type\":\"Square\"},{\"attributes\":{},\"id\":\"1b038a6c-2095-4a2a-8e40-aa113752f257\",\"type\":\"BasicTicker\"},{\"attributes\":{\"callback\":null,\"data\":{\"x\":{\"__ndarray__\":\"5UIGbrTOyb/fxkU5wczIv/F2jETLLsa/NL2jSr08w7/GYw6bK/e/v+s7Jwy20Li/Y1bC77MFsb/YQesC2i2hv3ZhTWCYHl0/9mxB4mMfpD/QCeOfACe0P/6ZIG53pL4/diKY1QGxxD8qK5fXWxTJP19NVCWAUcs/PN4/cVs2zD8JxqCXeqvMPwojSVLK0sw/5SFbr0zszD9+RUzDz4PNPwwEATJ0bM8/o5ZBEHt8yj9Rrt8Cv/y9P5Y5eWtCVa0/87FYFo4Ynj97ShVfyWKQPyN9z1L2uYE/jr70QCyeeD+tfidQ/ah6P4x7c8A1hXs/eeXLIkwFeD9ope24EbFxP7Nthg80PHA/JSb2uev/dD/SEUtSqiB5P31IIKet5nw/Bp6tkvcJgD93OA/d66F/P0Z/vuaCHoM/QLTLwbAfhT94WdSmOK6FPwxDPWQePoM//A56BU0Dfj9TKGA684tvP9LUr49uRmW/zBoNQOnbeL/89EUAnqgDPyAUek6Re4Y/MxUkrkq/mj+vOc0j+/emP74vcHE70a8/Lz0qlgyUsz+5d7RBi0S2P4ABmapv8bc/vvj4PRexuD/dPSwT/6m4PxZQEIsEErg/B3oLmH4Rtz/pUgOdrsa1P9pqKhltRrQ/xZSjWwqjsj+k73UfbvGwP6IZpfq3k64/dFRwo8Ggqz/w03QawmGpPwaWMI4iT6g/mAvMcigvqT/6gyN23cOsP7ae9ptW+LA/eJBaBYoIsj+9uCckpv+uP9/Upx9LVKU/MXVSvQd4mD8YbTIDxSqEP19JGiWtzY6/\",\"dtype\":\"float64\",\"shape\":[75]},\"y\":{\"__ndarray__\":\"GhExyth1ND/Sv8nbtpRIP2vylNV0PVE/aTum7souWD/At0SJ8fVgPw3Iuahxymc/MSNhhJWvcD/bTfBN02d3P2zb5nxnaoA/CD5h5MAGhz8NmeH1TyaQP+zrCsc9p5Y/LbKd76fGnz/bLW5ISEmmPww9YvTcQq8/JV2OstnstT8Er5Y7M8G+P0c+r3jqkcU/5h99k6ZBzj88bCIzFzjVP4enV8oyxN0//yH99nXg5D8qOpLLf0jtP5kqGJXUifQ/c9cS8kHP/D+/DpwzojQEQIEmwoanVwxA4lgXt9HgE0BSSZ2AJuIbQAMJih9jjiNA5q4l5INuK0AwTKYKRj0zQNv5fmq8/DpAaCJseHrtQkB/+zpwzoxKQM3MzMzMeFJAZmZmZmZqWEAAAAAAAFxeQM3MzMzMJmJAmpmZmZkfZUBmZmZmZhhoQDMzMzMzEWtAAAAAAAAKbkBmZmZmZoFwQM3MzMzM/XFAMzMzMzN6c0CamZmZmfZ0QAAAAAAAc3ZAZmZmZmbvd0DNzMzMzGt5QDMzMzMz6HpAmpmZmZlkfEAAAAAAAOF9QGZmZmZmXX9AZmZmZuZsgECamZmZGSuBQM3MzMxM6YFAAAAAAICngkAzMzMzs2WDQGZmZmbmI4RAmpmZmRnihEDNzMzMTKCFQAAAAACAXoZAMzMzM7Mch0BmZmZm5tqHQJqZmZkZmYhAzczMzExXiUAAAAAAgBWKQDMzMzOz04pAZmZmZuaRi0CamZmZGVCMQM3MzMxMDo1AAAAAAIDMjUAzMzMzs4qOQGZmZmbmSI9A\",\"dtype\":\"float64\",\"shape\":[75]}},\"selected\":{\"id\":\"34548866-21c2-4970-8af0-2299c404e561\",\"type\":\"Selection\"},\"selection_policy\":{\"id\":\"ed263b03-eef0-4061-b367-bb93fa116490\",\"type\":\"UnionRenderers\"}},\"id\":\"5dcaef82-2361-4096-84c4-7ba7ae217ab5\",\"type\":\"ColumnDataSource\"},{\"attributes\":{\"children\":[{\"id\":\"fccd65ae-16f5-41ed-9462-4d134ea545da\",\"subtype\":\"Figure\",\"type\":\"Plot\"},{\"id\":\"7b4264e4-f37c-46b5-bd45-e5f3dd163dd6\",\"subtype\":\"Figure\",\"type\":\"Plot\"}]},\"id\":\"1ce10d7e-c866-4fab-a394-285cb7adb226\",\"type\":\"Row\"},{\"attributes\":{\"data_source\":{\"id\":\"5dcaef82-2361-4096-84c4-7ba7ae217ab5\",\"type\":\"ColumnDataSource\"},\"glyph\":{\"id\":\"01c4fc72-3511-40dc-9c5f-dbeaf3bee329\",\"type\":\"Circle\"},\"hover_glyph\":null,\"muted_glyph\":null,\"nonselection_glyph\":{\"id\":\"df3182ac-5ead-4803-91ee-12d19477e729\",\"type\":\"Circle\"},\"selection_glyph\":null,\"view\":{\"id\":\"d0481b9e-45e0-4763-ae00-2a4bcb0005d0\",\"type\":\"CDSView\"}},\"id\":\"bdad7bc0-221a-4973-a870-803b7ef39ed8\",\"type\":\"GlyphRenderer\"},{\"attributes\":{\"dimension\":1,\"plot\":{\"id\":\"7b4264e4-f37c-46b5-bd45-e5f3dd163dd6\",\"subtype\":\"Figure\",\"type\":\"Plot\"},\"ticker\":{\"id\":\"8fc7c276-12e3-42af-9542-eef3a43f4db0\",\"type\":\"LogTicker\"}},\"id\":\"8496be8d-3a18-42c1-8258-88df63ea0351\",\"type\":\"Grid\"},{\"attributes\":{\"callback\":null,\"data\":{\"x\":{\"__ndarray__\":\"6mwz2zaIxL+4ySxrMMfDv4kevm0iCsK/UtZvJqYLwL/N6GjREpa7v2hkeR+Tgba/OJNQqfvIsL+G72I5wM6kvwgcvaWSvYq/2EQfWeTKkT+5Xon2Z/WpP46phsA7QLY/OF/TIFgXwD8pEfr8pJjEPxkCoXG4wcc/6qEqZLb9yT9ckJD1ks7LP6ZIW+iMIM0/q069JIT9zT+0IuZpK7zOPwTi2Cc+xs8/803DhXYtyj/Ean+pl8a8P5Ck+odavqo/aygqJUjInT+GjYy3kKWTP5/USF/J1Ic/yergnK1VfT+FLUjDwY96P8HCO5Q3tHs/hCHVbVX9ej8uUrpJC911P1kIqR4bT3Q/yd4+6jDYeT9xSdAGeel9P6niJ8U36n4/PTE9MnUWfz9nrYrvyRx+P4pYhiiGc4M/dQeQJZyriD+jpg+9wguNP8FLniLva4w/K3Ndcogqhz8BH0mzPAJ5Px3PbR6cymi/6UvKOKFrgr8aPNymKRZwv7uTeA6fU3w//Kj4Uof7kz+AJEWUkdugPycjqMa9jKk/YtuBvh32sT/cXCqmOjO2P5hiB8ipM7g/+VoUmWCIuD9jmncJP1K4P6HMX1Gse7g/HSGRI47WuD/82MTMtZ24P05MYDissLc/53NqPhmptT/DWvEX90KzPxneHBa5k7A/HgUqERhTrD8O1PScnr6oP6WSz2VJBKc/HJYYYRCspz/fhaggEeOrP2HpMut7w7A/qDpbdVoNsj/CCr/tbDyvP31kNnIkaqU/VsFrQTZjlz9jFK5FlzCAP24Ocj8pWJK/\",\"dtype\":\"float64\",\"shape\":[75]},\"y\":{\"__ndarray__\":\"S/O/Q+51ND/Sv8nbtpRIP2vylNV0PVE/aTum7souWD/At0SJ8fVgPw3Iuahxymc/MSNhhJWvcD/bTfBN02d3P2zb5nxnaoA/CD5h5MAGhz8NmeH1TyaQP+zrCsc9p5Y/LbKd76fGnz/bLW5ISEmmPww9YvTcQq8/JV2OstnstT8Er5Y7M8G+P0c+r3jqkcU/5h99k6ZBzj88bCIzFzjVP4enV8oyxN0//yH99nXg5D8qOpLLf0jtP5kqGJXUifQ/c9cS8kHP/D+/DpwzojQEQIEmwoanVwxA4lgXt9HgE0BSSZ2AJuIbQAMJih9jjiNA5q4l5INuK0AwTKYKRj0zQNv5fmq8/DpAaCJseHrtQkB/+zpwzoxKQM3MzMzMeFJAZmZmZmZqWEAAAAAAAFxeQM3MzMzMJmJAmpmZmZkfZUBmZmZmZhhoQDMzMzMzEWtAAAAAAAAKbkBmZmZmZoFwQM3MzMzM/XFAMzMzMzN6c0CamZmZmfZ0QAAAAAAAc3ZAZmZmZmbvd0DNzMzMzGt5QDMzMzMz6HpAmpmZmZlkfEAAAAAAAOF9QGZmZmZmXX9AZmZmZuZsgECamZmZGSuBQM3MzMxM6YFAAAAAAICngkAzMzMzs2WDQGZmZmbmI4RAmpmZmRnihEDNzMzMTKCFQAAAAACAXoZAMzMzM7Mch0BmZmZm5tqHQJqZmZkZmYhAzczMzExXiUAAAAAAgBWKQDMzMzOz04pAZmZmZuaRi0CamZmZGVCMQM3MzMxMDo1AAAAAAIDMjUAzMzMzs4qOQGZmZmbmSI9A\",\"dtype\":\"float64\",\"shape\":[75]}},\"selected\":{\"id\":\"eed3c2e7-7245-4f12-8278-9217b2d21b30\",\"type\":\"Selection\"},\"selection_policy\":{\"id\":\"8f3f6d0d-fe76-4dc0-b258-d19b26a2c29f\",\"type\":\"UnionRenderers\"}},\"id\":\"d8537097-08dd-427e-8299-994ac6824387\",\"type\":\"ColumnDataSource\"},{\"attributes\":{\"data_source\":{\"id\":\"cf9f0e69-4048-4a5c-ab03-fe95b6d18169\",\"type\":\"ColumnDataSource\"},\"glyph\":{\"id\":\"54a89de7-3081-422d-8e26-66d7fc674df8\",\"type\":\"Circle\"},\"hover_glyph\":null,\"muted_glyph\":null,\"nonselection_glyph\":{\"id\":\"bc3612b5-9a61-43a1-a152-337b6d61f3b2\",\"type\":\"Circle\"},\"selection_glyph\":null,\"view\":{\"id\":\"7c390941-0706-4fef-a574-286f6358d649\",\"type\":\"CDSView\"}},\"id\":\"51d18809-db4f-471d-b1c8-4ac61f9e1bb3\",\"type\":\"GlyphRenderer\"},{\"attributes\":{\"plot\":{\"id\":\"7b4264e4-f37c-46b5-bd45-e5f3dd163dd6\",\"subtype\":\"Figure\",\"type\":\"Plot\"},\"ticker\":{\"id\":\"1b038a6c-2095-4a2a-8e40-aa113752f257\",\"type\":\"BasicTicker\"}},\"id\":\"c3ec43c5-9c1d-4748-b7fb-cf0dd92a31b2\",\"type\":\"Grid\"},{\"attributes\":{\"axis_label\":\"cooling rate [K/day]\",\"formatter\":{\"id\":\"5f1831ab-c18d-4bf5-ada1-f52f74d1f4c0\",\"type\":\"BasicTickFormatter\"},\"plot\":{\"id\":\"7b4264e4-f37c-46b5-bd45-e5f3dd163dd6\",\"subtype\":\"Figure\",\"type\":\"Plot\"},\"ticker\":{\"id\":\"1b038a6c-2095-4a2a-8e40-aa113752f257\",\"type\":\"BasicTicker\"}},\"id\":\"1eda32f5-8ab0-428d-8f2b-026062e0a38d\",\"type\":\"LinearAxis\"},{\"attributes\":{\"fill_alpha\":{\"value\":0.1},\"fill_color\":{\"value\":\"#1f77b4\"},\"line_alpha\":{\"value\":0.1},\"line_color\":{\"value\":\"#1f77b4\"},\"x\":{\"field\":\"x\"},\"y\":{\"field\":\"y\"}},\"id\":\"bc3612b5-9a61-43a1-a152-337b6d61f3b2\",\"type\":\"Circle\"},{\"attributes\":{\"overlay\":{\"id\":\"771648c1-4ea8-4553-9766-45e16cfaf13d\",\"type\":\"BoxAnnotation\"}},\"id\":\"38fd0dd6-74f6-4d7e-b507-5276af5b4ebf\",\"type\":\"BoxZoomTool\"},{\"attributes\":{\"plot\":null,\"text\":\"Log pressure scale\"},\"id\":\"01e75340-3e75-4c5c-99d8-2d3894edc2ae\",\"type\":\"Title\"},{\"attributes\":{\"source\":{\"id\":\"7223aeea-4e14-402c-a3bf-bc49097e9061\",\"type\":\"ColumnDataSource\"}},\"id\":\"bafd2a4a-27d3-4848-a67a-57207bfbb8fd\",\"type\":\"CDSView\"},{\"attributes\":{\"data_source\":{\"id\":\"d8537097-08dd-427e-8299-994ac6824387\",\"type\":\"ColumnDataSource\"},\"glyph\":{\"id\":\"deccd12a-853b-4074-a91d-4280a8678885\",\"type\":\"Line\"},\"hover_glyph\":null,\"muted_glyph\":null,\"nonselection_glyph\":{\"id\":\"df83ddb9-b286-42e1-a256-e528247e0838\",\"type\":\"Line\"},\"selection_glyph\":null,\"view\":{\"id\":\"e42c814e-fa8c-40b6-b2d2-595446f85ef5\",\"type\":\"CDSView\"}},\"id\":\"442387f5-eff6-40b0-9443-32cc6c644dad\",\"type\":\"GlyphRenderer\"},{\"attributes\":{\"callback\":null,\"end\":0.01,\"start\":1020},\"id\":\"c548243d-3640-45bd-9744-e55d481c3bf1\",\"type\":\"Range1d\"},{\"attributes\":{},\"id\":\"2c8feeb8-e079-42cd-b8b8-f319f9b50a8e\",\"type\":\"LogScale\"},{\"attributes\":{\"fill_alpha\":{\"value\":0.7},\"fill_color\":{\"value\":\"#4daf4a\"},\"line_alpha\":{\"value\":0.7},\"line_color\":{\"value\":\"#4daf4a\"},\"x\":{\"field\":\"x\"},\"y\":{\"field\":\"y\"}},\"id\":\"54a89de7-3081-422d-8e26-66d7fc674df8\",\"type\":\"Circle\"},{\"attributes\":{},\"id\":\"d306dfdc-2fde-42f7-afcf-2a7981583fe1\",\"type\":\"ResetTool\"},{\"attributes\":{\"fill_alpha\":{\"value\":0.1},\"fill_color\":{\"value\":\"#1f77b4\"},\"line_alpha\":{\"value\":0.1},\"line_color\":{\"value\":\"#1f77b4\"},\"x\":{\"field\":\"x\"},\"y\":{\"field\":\"y\"}},\"id\":\"b64c6c09-aeb7-44b3-b7e8-1602a4520b4c\",\"type\":\"Square\"},{\"attributes\":{\"source\":{\"id\":\"cf9f0e69-4048-4a5c-ab03-fe95b6d18169\",\"type\":\"ColumnDataSource\"}},\"id\":\"7c390941-0706-4fef-a574-286f6358d649\",\"type\":\"CDSView\"},{\"attributes\":{},\"id\":\"035225d1-730c-4441-b3dc-dfa93d78351e\",\"type\":\"HelpTool\"},{\"attributes\":{\"source\":{\"id\":\"ccd4ed56-9589-4391-a589-f17c31288ee0\",\"type\":\"ColumnDataSource\"}},\"id\":\"e4fd9603-987c-4130-aff9-7f259073040f\",\"type\":\"CDSView\"},{\"attributes\":{\"source\":{\"id\":\"6a3e6b83-5248-431b-a15b-779d56ee20d3\",\"type\":\"ColumnDataSource\"}},\"id\":\"17479f52-ef1d-4037-8488-75e4ccd13211\",\"type\":\"CDSView\"},{\"attributes\":{},\"id\":\"8f3f6d0d-fe76-4dc0-b258-d19b26a2c29f\",\"type\":\"UnionRenderers\"},{\"attributes\":{\"active_drag\":\"auto\",\"active_inspect\":\"auto\",\"active_scroll\":\"auto\",\"active_tap\":\"auto\",\"tools\":[{\"id\":\"060aad68-bd54-49d2-8fc8-b686523e1ac8\",\"type\":\"PanTool\"},{\"id\":\"be001d7a-052b-4028-a39e-a64534cb4b8a\",\"type\":\"WheelZoomTool\"},{\"id\":\"38fd0dd6-74f6-4d7e-b507-5276af5b4ebf\",\"type\":\"BoxZoomTool\"},{\"id\":\"7ae8f2dc-194e-463a-995c-8a4328d025a0\",\"type\":\"SaveTool\"},{\"id\":\"d306dfdc-2fde-42f7-afcf-2a7981583fe1\",\"type\":\"ResetTool\"},{\"id\":\"035225d1-730c-4441-b3dc-dfa93d78351e\",\"type\":\"HelpTool\"}]},\"id\":\"bc4ff3fe-598a-45e0-8f18-ee17f36b6dcc\",\"type\":\"Toolbar\"},{\"attributes\":{\"line_alpha\":0.1,\"line_color\":\"#1f77b4\",\"line_width\":1.5,\"x\":{\"field\":\"x\"},\"y\":{\"field\":\"y\"}},\"id\":\"3ac92607-d5e6-4362-a146-dd56a7890b86\",\"type\":\"Line\"},{\"attributes\":{\"line_alpha\":0.6,\"line_color\":\"#e41a1c\",\"line_dash\":[6],\"line_width\":5,\"x\":{\"field\":\"x\"},\"y\":{\"field\":\"y\"}},\"id\":\"deccd12a-853b-4074-a91d-4280a8678885\",\"type\":\"Line\"},{\"attributes\":{\"bottom_units\":\"screen\",\"fill_alpha\":{\"value\":0.5},\"fill_color\":{\"value\":\"lightgrey\"},\"left_units\":\"screen\",\"level\":\"overlay\",\"line_alpha\":{\"value\":1.0},\"line_color\":{\"value\":\"black\"},\"line_dash\":[4,4],\"line_width\":{\"value\":2},\"plot\":null,\"render_mode\":\"css\",\"right_units\":\"screen\",\"top_units\":\"screen\"},\"id\":\"2533f22b-8559-4f56-81eb-62b7dc099b65\",\"type\":\"BoxAnnotation\"},{\"attributes\":{\"data_source\":{\"id\":\"6f819c96-0da5-4879-bca8-451fb856606f\",\"type\":\"ColumnDataSource\"},\"glyph\":{\"id\":\"e40e179a-15be-4e35-9e01-0085c3b0844f\",\"type\":\"Line\"},\"hover_glyph\":null,\"muted_glyph\":null,\"nonselection_glyph\":{\"id\":\"3ac92607-d5e6-4362-a146-dd56a7890b86\",\"type\":\"Line\"},\"selection_glyph\":null,\"view\":{\"id\":\"f028fa2b-dd11-410f-883f-611a350a8ce9\",\"type\":\"CDSView\"}},\"id\":\"ffb8cd18-c594-4e36-bbef-47c7a72b757b\",\"type\":\"GlyphRenderer\"},{\"attributes\":{\"source\":{\"id\":\"6f819c96-0da5-4879-bca8-451fb856606f\",\"type\":\"ColumnDataSource\"}},\"id\":\"f028fa2b-dd11-410f-883f-611a350a8ce9\",\"type\":\"CDSView\"},{\"attributes\":{\"callback\":null,\"data\":{\"x\":{\"__ndarray__\":\"VqYNkQxKxr+9wh0PN2zFvw8jHw90X8O/xZX3q5AOwb9xlBzrH8+8vyetCVO58ba/Q4ZOj+htsL9gA+3BjG6iv+yCge9smXW/HcZSqkLinD8kdJpcxGywPzfLK9gTOLo/iwpKBHtCwj8O0zpI8rfGP8S00xC2esk/czr42nAfyz/tSy0RW03MP/0qSUo8EM0/IOLbyZqNzT/b+PrF8zbOPwC12vaLqs8/8vKp6P50yj+tIvvYGMC9P+A6/y26maw/PYMJKSSgnj/hyO7st9iSP6pzdpQHyIY/Sf0iFqTAfj/9xSn1cdB9Px6Hff7VlX4/hgp59YxffD+PZT70HX52P+GD8hT873Q/37U3TFghej9QDkz21+F9P08L6sFI4H8/dx6z/4O9gD9EG/5aM1SAP+MfZFfZfoQ/oJy40kqwiD/bE6bCSMiLP5tQTa2fS4o/ZBOYaXkthT9Pkf1wnu52P1dlPmaZXme/ia3LW06ugL/uweyZn6Fmv5ZZ8FDjM4A/et35ldEqlT8fmsyneKqhP8PDGGPzWak/vAxl8JYasT+RInEby/u0P4V1USPxXLc/j8pxm01AuD+NhDzHSEe4P7xZaxlzFLg/4AXSNVTYtz+exdsvNGS3P2owgYvDfbY/2dIPGHgAtT82QVRHbxqzP5wXB+EXArE/OJ1ZS/IJrj8BuV/uFuGqP6uyA4KDM6k/VBYnD7rRqT8NkS24MWKtP/RnWfurT7E/MlTGslNksj80CxxrCa2vP2xzejywxaU/On0suR5imD8ZgOqSc2iBPwOIJtObHJG/\",\"dtype\":\"float64\",\"shape\":[75]},\"y\":{\"__ndarray__\":\"GhExyth1ND/Sv8nbtpRIP2vylNV0PVE/aTum7souWD/At0SJ8fVgPw3Iuahxymc/MSNhhJWvcD/bTfBN02d3P2zb5nxnaoA/CD5h5MAGhz8NmeH1TyaQP+zrCsc9p5Y/LbKd76fGnz/bLW5ISEmmPww9YvTcQq8/JV2OstnstT8Er5Y7M8G+P0c+r3jqkcU/5h99k6ZBzj88bCIzFzjVP4enV8oyxN0//yH99nXg5D8qOpLLf0jtP5kqGJXUifQ/c9cS8kHP/D+/DpwzojQEQIEmwoanVwxA4lgXt9HgE0BSSZ2AJuIbQAMJih9jjiNA5q4l5INuK0AwTKYKRj0zQNv5fmq8/DpAaCJseHrtQkB/+zpwzoxKQM3MzMzMeFJAZmZmZmZqWEAAAAAAAFxeQM3MzMzMJmJAmpmZmZkfZUBmZmZmZhhoQDMzMzMzEWtAAAAAAAAKbkBmZmZmZoFwQM3MzMzM/XFAMzMzMzN6c0CamZmZmfZ0QAAAAAAAc3ZAZmZmZmbvd0DNzMzMzGt5QDMzMzMz6HpAmpmZmZlkfEAAAAAAAOF9QGZmZmZmXX9AZmZmZuZsgECamZmZGSuBQM3MzMxM6YFAAAAAAICngkAzMzMzs2WDQGZmZmbmI4RAmpmZmRnihEDNzMzMTKCFQAAAAACAXoZAMzMzM7Mch0BmZmZm5tqHQJqZmZkZmYhAzczMzExXiUAAAAAAgBWKQDMzMzOz04pAZmZmZuaRi0CamZmZGVCMQM3MzMxMDo1AAAAAAIDMjUAzMzMzs4qOQGZmZmbmSI9A\",\"dtype\":\"float64\",\"shape\":[75]}},\"selected\":{\"id\":\"cf6d69f1-c5f1-4f09-be46-48fda56e0d36\",\"type\":\"Selection\"},\"selection_policy\":{\"id\":\"e22ab103-19dd-4b11-b76e-d3979f1cb8f8\",\"type\":\"UnionRenderers\"}},\"id\":\"0a467212-287e-45c6-823b-4d1a0a46a315\",\"type\":\"ColumnDataSource\"},{\"attributes\":{\"below\":[{\"id\":\"0989abee-ed10-4c57-9ef0-c866e74bd2f0\",\"type\":\"LinearAxis\"}],\"left\":[{\"id\":\"cb6c97cd-a024-44a3-9e65-14b53276ef57\",\"type\":\"LinearAxis\"}],\"plot_height\":500,\"plot_width\":400,\"renderers\":[{\"id\":\"0989abee-ed10-4c57-9ef0-c866e74bd2f0\",\"type\":\"LinearAxis\"},{\"id\":\"f9772b6c-595e-4aa3-b29c-0a28e7af17f8\",\"type\":\"Grid\"},{\"id\":\"cb6c97cd-a024-44a3-9e65-14b53276ef57\",\"type\":\"LinearAxis\"},{\"id\":\"cf19a40f-000a-41d0-b8bf-25d9278c9a84\",\"type\":\"Grid\"},{\"id\":\"771648c1-4ea8-4553-9766-45e16cfaf13d\",\"type\":\"BoxAnnotation\"},{\"id\":\"442387f5-eff6-40b0-9443-32cc6c644dad\",\"type\":\"GlyphRenderer\"},{\"id\":\"bdad7bc0-221a-4973-a870-803b7ef39ed8\",\"type\":\"GlyphRenderer\"},{\"id\":\"bcc44755-eca9-4237-ad85-18a53fb5a8a4\",\"type\":\"GlyphRenderer\"},{\"id\":\"e44dea33-676d-45ed-921c-79b1cce80bff\",\"type\":\"GlyphRenderer\"},{\"id\":\"ddda0d35-72a6-4000-8e00-33c331d0c7e7\",\"type\":\"GlyphRenderer\"}],\"title\":{\"id\":\"7fbba02a-f320-4e30-8f64-3021832f827f\",\"type\":\"Title\"},\"toolbar\":{\"id\":\"bc4ff3fe-598a-45e0-8f18-ee17f36b6dcc\",\"type\":\"Toolbar\"},\"toolbar_location\":null,\"x_range\":{\"id\":\"0bb5c682-2207-48ef-b0eb-a72847e5c5f5\",\"type\":\"Range1d\"},\"x_scale\":{\"id\":\"78fbc141-bb4b-4844-b16c-db1171a740dc\",\"type\":\"LinearScale\"},\"y_range\":{\"id\":\"d9e31b75-a3b4-4248-aecd-6f947d5d8401\",\"type\":\"Range1d\"},\"y_scale\":{\"id\":\"3a819552-25a7-4555-9c8f-c225180bcafe\",\"type\":\"LinearScale\"}},\"id\":\"fccd65ae-16f5-41ed-9462-4d134ea545da\",\"subtype\":\"Figure\",\"type\":\"Plot\"},{\"attributes\":{\"fill_alpha\":{\"value\":0.1},\"fill_color\":{\"value\":\"#1f77b4\"},\"line_alpha\":{\"value\":0.1},\"line_color\":{\"value\":\"#1f77b4\"},\"x\":{\"field\":\"x\"},\"y\":{\"field\":\"y\"}},\"id\":\"df3182ac-5ead-4803-91ee-12d19477e729\",\"type\":\"Circle\"},{\"attributes\":{\"line_alpha\":0.6,\"line_color\":\"#984ea3\",\"line_width\":3,\"x\":{\"field\":\"x\"},\"y\":{\"field\":\"y\"}},\"id\":\"62c63c65-f4a5-460a-af4c-d81e28caf2f0\",\"type\":\"Line\"},{\"attributes\":{\"active_drag\":\"auto\",\"active_inspect\":\"auto\",\"active_scroll\":\"auto\",\"active_tap\":\"auto\",\"tools\":[{\"id\":\"677c760b-67d5-4b70-82d2-f0df22251716\",\"type\":\"PanTool\"},{\"id\":\"8c4cd768-191d-47ca-83f0-dec92d9bdb9d\",\"type\":\"WheelZoomTool\"},{\"id\":\"58f15b68-d60f-43fc-9b60-0a09ee3d24a9\",\"type\":\"BoxZoomTool\"},{\"id\":\"3b3556e5-92fb-423d-a679-f0d87406365d\",\"type\":\"SaveTool\"},{\"id\":\"c78c81d5-e6ce-469f-8c4d-dd49cf03353c\",\"type\":\"ResetTool\"},{\"id\":\"cac554e3-2699-4693-851a-691c0f1b0e02\",\"type\":\"HelpTool\"}]},\"id\":\"4fd5e545-1592-44ca-a3be-2e13b030ad73\",\"type\":\"Toolbar\"},{\"attributes\":{\"data_source\":{\"id\":\"0a467212-287e-45c6-823b-4d1a0a46a315\",\"type\":\"ColumnDataSource\"},\"glyph\":{\"id\":\"62c63c65-f4a5-460a-af4c-d81e28caf2f0\",\"type\":\"Line\"},\"hover_glyph\":null,\"muted_glyph\":null,\"nonselection_glyph\":{\"id\":\"fee7fed4-0083-45df-8750-8c3f5da16ee2\",\"type\":\"Line\"},\"selection_glyph\":null,\"view\":{\"id\":\"675b643e-ea8f-4219-a019-15b783a12c43\",\"type\":\"CDSView\"}},\"id\":\"8e87c03a-7b0f-4d17-9421-fdad5510fe0d\",\"type\":\"GlyphRenderer\"},{\"attributes\":{\"line_alpha\":0.6,\"line_color\":\"#984ea3\",\"line_width\":3,\"x\":{\"field\":\"x\"},\"y\":{\"field\":\"y\"}},\"id\":\"d5181b6f-bd80-4f75-9139-2f91f84db783\",\"type\":\"Line\"},{\"attributes\":{\"source\":{\"id\":\"0a467212-287e-45c6-823b-4d1a0a46a315\",\"type\":\"ColumnDataSource\"}},\"id\":\"675b643e-ea8f-4219-a019-15b783a12c43\",\"type\":\"CDSView\"},{\"attributes\":{},\"id\":\"dbc70819-4e15-47e7-8646-f95340134a17\",\"type\":\"BasicTickFormatter\"},{\"attributes\":{\"label\":{\"value\":\"CLIRAD `coolr_bands`\"},\"renderers\":[{\"id\":\"372caf71-6093-4a1f-8d5f-744942038087\",\"type\":\"GlyphRenderer\"}]},\"id\":\"818ee04d-77ce-4fde-a9c3-e54e9ee891d9\",\"type\":\"LegendItem\"},{\"attributes\":{},\"id\":\"37e475fd-120d-48bc-b81b-1760f2e638e3\",\"type\":\"BasicTickFormatter\"},{\"attributes\":{},\"id\":\"3a819552-25a7-4555-9c8f-c225180bcafe\",\"type\":\"LinearScale\"},{\"attributes\":{\"label\":{\"value\":\"CRD\"},\"renderers\":[{\"id\":\"51d18809-db4f-471d-b1c8-4ac61f9e1bb3\",\"type\":\"GlyphRenderer\"},{\"id\":\"ffb8cd18-c594-4e36-bbef-47c7a72b757b\",\"type\":\"GlyphRenderer\"}]},\"id\":\"b72f21d9-fd3f-4214-90c2-198641d6ce7c\",\"type\":\"LegendItem\"},{\"attributes\":{},\"id\":\"c78c81d5-e6ce-469f-8c4d-dd49cf03353c\",\"type\":\"ResetTool\"},{\"attributes\":{\"callback\":null,\"data\":{\"x\":{\"__ndarray__\":\"5UIGbrTOyb/fxkU5wczIv/F2jETLLsa/NL2jSr08w7/GYw6bK/e/v+s7Jwy20Li/Y1bC77MFsb/YQesC2i2hv3ZhTWCYHl0/9mxB4mMfpD/QCeOfACe0P/6ZIG53pL4/diKY1QGxxD8qK5fXWxTJP19NVCWAUcs/PN4/cVs2zD8JxqCXeqvMPwojSVLK0sw/5SFbr0zszD9+RUzDz4PNPwwEATJ0bM8/o5ZBEHt8yj9Rrt8Cv/y9P5Y5eWtCVa0/87FYFo4Ynj97ShVfyWKQPyN9z1L2uYE/jr70QCyeeD+tfidQ/ah6P4x7c8A1hXs/eeXLIkwFeD9ope24EbFxP7Nthg80PHA/JSb2uev/dD/SEUtSqiB5P31IIKet5nw/Bp6tkvcJgD93OA/d66F/P0Z/vuaCHoM/QLTLwbAfhT94WdSmOK6FPwxDPWQePoM//A56BU0Dfj9TKGA684tvP9LUr49uRmW/zBoNQOnbeL/89EUAnqgDPyAUek6Re4Y/MxUkrkq/mj+vOc0j+/emP74vcHE70a8/Lz0qlgyUsz+5d7RBi0S2P4ABmapv8bc/vvj4PRexuD/dPSwT/6m4PxZQEIsEErg/B3oLmH4Rtz/pUgOdrsa1P9pqKhltRrQ/xZSjWwqjsj+k73UfbvGwP6IZpfq3k64/dFRwo8Ggqz/w03QawmGpPwaWMI4iT6g/mAvMcigvqT/6gyN23cOsP7ae9ptW+LA/eJBaBYoIsj+9uCckpv+uP9/Upx9LVKU/MXVSvQd4mD8YbTIDxSqEP19JGiWtzY6/\",\"dtype\":\"float64\",\"shape\":[75]},\"y\":{\"__ndarray__\":\"GhExyth1ND/Sv8nbtpRIP2vylNV0PVE/aTum7souWD/At0SJ8fVgPw3Iuahxymc/MSNhhJWvcD/bTfBN02d3P2zb5nxnaoA/CD5h5MAGhz8NmeH1TyaQP+zrCsc9p5Y/LbKd76fGnz/bLW5ISEmmPww9YvTcQq8/JV2OstnstT8Er5Y7M8G+P0c+r3jqkcU/5h99k6ZBzj88bCIzFzjVP4enV8oyxN0//yH99nXg5D8qOpLLf0jtP5kqGJXUifQ/c9cS8kHP/D+/DpwzojQEQIEmwoanVwxA4lgXt9HgE0BSSZ2AJuIbQAMJih9jjiNA5q4l5INuK0AwTKYKRj0zQNv5fmq8/DpAaCJseHrtQkB/+zpwzoxKQM3MzMzMeFJAZmZmZmZqWEAAAAAAAFxeQM3MzMzMJmJAmpmZmZkfZUBmZmZmZhhoQDMzMzMzEWtAAAAAAAAKbkBmZmZmZoFwQM3MzMzM/XFAMzMzMzN6c0CamZmZmfZ0QAAAAAAAc3ZAZmZmZmbvd0DNzMzMzGt5QDMzMzMz6HpAmpmZmZlkfEAAAAAAAOF9QGZmZmZmXX9AZmZmZuZsgECamZmZGSuBQM3MzMxM6YFAAAAAAICngkAzMzMzs2WDQGZmZmbmI4RAmpmZmRnihEDNzMzMTKCFQAAAAACAXoZAMzMzM7Mch0BmZmZm5tqHQJqZmZkZmYhAzczMzExXiUAAAAAAgBWKQDMzMzOz04pAZmZmZuaRi0CamZmZGVCMQM3MzMxMDo1AAAAAAIDMjUAzMzMzs4qOQGZmZmbmSI9A\",\"dtype\":\"float64\",\"shape\":[75]}},\"selected\":{\"id\":\"d79d3b77-fe88-498e-9a6e-e70576d899f2\",\"type\":\"Selection\"},\"selection_policy\":{\"id\":\"c163439a-7af6-468f-90a7-7a8279353fcb\",\"type\":\"UnionRenderers\"}},\"id\":\"ccd4ed56-9589-4391-a589-f17c31288ee0\",\"type\":\"ColumnDataSource\"},{\"attributes\":{},\"id\":\"34548866-21c2-4970-8af0-2299c404e561\",\"type\":\"Selection\"},{\"attributes\":{\"line_alpha\":0.6,\"line_color\":\"#e41a1c\",\"line_dash\":[6],\"line_width\":5,\"x\":{\"field\":\"x\"},\"y\":{\"field\":\"y\"}},\"id\":\"09f6e9ea-163d-4de3-abb3-346f48d0309e\",\"type\":\"Line\"},{\"attributes\":{\"label\":{\"value\":\"WGT igg=10 wgt_flux=2\"},\"renderers\":[{\"id\":\"ef3da72a-4077-42cb-9b03-1c5b5d27ea63\",\"type\":\"GlyphRenderer\"},{\"id\":\"8e87c03a-7b0f-4d17-9421-fdad5510fe0d\",\"type\":\"GlyphRenderer\"}]},\"id\":\"6b334675-10e8-4463-9e26-acbd24259ee1\",\"type\":\"LegendItem\"},{\"attributes\":{\"axis_label\":\"cooling rate [K/day]\",\"formatter\":{\"id\":\"37e475fd-120d-48bc-b81b-1760f2e638e3\",\"type\":\"BasicTickFormatter\"},\"plot\":{\"id\":\"fccd65ae-16f5-41ed-9462-4d134ea545da\",\"subtype\":\"Figure\",\"type\":\"Plot\"},\"ticker\":{\"id\":\"ad1813df-4970-4ebe-a151-91c0b618510f\",\"type\":\"BasicTicker\"}},\"id\":\"0989abee-ed10-4c57-9ef0-c866e74bd2f0\",\"type\":\"LinearAxis\"},{\"attributes\":{},\"id\":\"02da14e3-cbd0-40e8-8e92-0807ec24b2df\",\"type\":\"LinearScale\"},{\"attributes\":{},\"id\":\"ed263b03-eef0-4061-b367-bb93fa116490\",\"type\":\"UnionRenderers\"},{\"attributes\":{\"source\":{\"id\":\"91865a6e-1a7f-489f-a53e-74621afcdfce\",\"type\":\"ColumnDataSource\"}},\"id\":\"664bef69-af44-4c88-af33-71f5f1e47036\",\"type\":\"CDSView\"},{\"attributes\":{},\"id\":\"8460c301-862e-4015-bb5c-083f4d27a963\",\"type\":\"Selection\"},{\"attributes\":{\"source\":{\"id\":\"5dcaef82-2361-4096-84c4-7ba7ae217ab5\",\"type\":\"ColumnDataSource\"}},\"id\":\"d0481b9e-45e0-4763-ae00-2a4bcb0005d0\",\"type\":\"CDSView\"},{\"attributes\":{},\"id\":\"eed3c2e7-7245-4f12-8278-9217b2d21b30\",\"type\":\"Selection\"},{\"attributes\":{\"children\":[{\"id\":\"1ce10d7e-c866-4fab-a394-285cb7adb226\",\"type\":\"Row\"}]},\"id\":\"2ffb4e92-b32f-4e09-9011-2f6ddddc6808\",\"type\":\"Column\"},{\"attributes\":{\"callback\":null,\"data\":{\"x\":{\"__ndarray__\":\"VqYNkQxKxr+9wh0PN2zFvw8jHw90X8O/xZX3q5AOwb9xlBzrH8+8vyetCVO58ba/Q4ZOj+htsL9gA+3BjG6iv+yCge9smXW/HcZSqkLinD8kdJpcxGywPzfLK9gTOLo/iwpKBHtCwj8O0zpI8rfGP8S00xC2esk/czr42nAfyz/tSy0RW03MP/0qSUo8EM0/IOLbyZqNzT/b+PrF8zbOPwC12vaLqs8/8vKp6P50yj+tIvvYGMC9P+A6/y26maw/PYMJKSSgnj/hyO7st9iSP6pzdpQHyIY/Sf0iFqTAfj/9xSn1cdB9Px6Hff7VlX4/hgp59YxffD+PZT70HX52P+GD8hT873Q/37U3TFghej9QDkz21+F9P08L6sFI4H8/dx6z/4O9gD9EG/5aM1SAP+MfZFfZfoQ/oJy40kqwiD/bE6bCSMiLP5tQTa2fS4o/ZBOYaXkthT9Pkf1wnu52P1dlPmaZXme/ia3LW06ugL/uweyZn6Fmv5ZZ8FDjM4A/et35ldEqlT8fmsyneKqhP8PDGGPzWak/vAxl8JYasT+RInEby/u0P4V1USPxXLc/j8pxm01AuD+NhDzHSEe4P7xZaxlzFLg/4AXSNVTYtz+exdsvNGS3P2owgYvDfbY/2dIPGHgAtT82QVRHbxqzP5wXB+EXArE/OJ1ZS/IJrj8BuV/uFuGqP6uyA4KDM6k/VBYnD7rRqT8NkS24MWKtP/RnWfurT7E/MlTGslNksj80CxxrCa2vP2xzejywxaU/On0suR5imD8ZgOqSc2iBPwOIJtObHJG/\",\"dtype\":\"float64\",\"shape\":[75]},\"y\":{\"__ndarray__\":\"GhExyth1ND/Sv8nbtpRIP2vylNV0PVE/aTum7souWD/At0SJ8fVgPw3Iuahxymc/MSNhhJWvcD/bTfBN02d3P2zb5nxnaoA/CD5h5MAGhz8NmeH1TyaQP+zrCsc9p5Y/LbKd76fGnz/bLW5ISEmmPww9YvTcQq8/JV2OstnstT8Er5Y7M8G+P0c+r3jqkcU/5h99k6ZBzj88bCIzFzjVP4enV8oyxN0//yH99nXg5D8qOpLLf0jtP5kqGJXUifQ/c9cS8kHP/D+/DpwzojQEQIEmwoanVwxA4lgXt9HgE0BSSZ2AJuIbQAMJih9jjiNA5q4l5INuK0AwTKYKRj0zQNv5fmq8/DpAaCJseHrtQkB/+zpwzoxKQM3MzMzMeFJAZmZmZmZqWEAAAAAAAFxeQM3MzMzMJmJAmpmZmZkfZUBmZmZmZhhoQDMzMzMzEWtAAAAAAAAKbkBmZmZmZoFwQM3MzMzM/XFAMzMzMzN6c0CamZmZmfZ0QAAAAAAAc3ZAZmZmZmbvd0DNzMzMzGt5QDMzMzMz6HpAmpmZmZlkfEAAAAAAAOF9QGZmZmZmXX9AZmZmZuZsgECamZmZGSuBQM3MzMxM6YFAAAAAAICngkAzMzMzs2WDQGZmZmbmI4RAmpmZmRnihEDNzMzMTKCFQAAAAACAXoZAMzMzM7Mch0BmZmZm5tqHQJqZmZkZmYhAzczMzExXiUAAAAAAgBWKQDMzMzOz04pAZmZmZuaRi0CamZmZGVCMQM3MzMxMDo1AAAAAAIDMjUAzMzMzs4qOQGZmZmbmSI9A\",\"dtype\":\"float64\",\"shape\":[75]}},\"selected\":{\"id\":\"8460c301-862e-4015-bb5c-083f4d27a963\",\"type\":\"Selection\"},\"selection_policy\":{\"id\":\"aa0d6223-855e-4e80-b2ed-56290ec07414\",\"type\":\"UnionRenderers\"}},\"id\":\"7223aeea-4e14-402c-a3bf-bc49097e9061\",\"type\":\"ColumnDataSource\"},{\"attributes\":{},\"id\":\"d79d3b77-fe88-498e-9a6e-e70576d899f2\",\"type\":\"Selection\"},{\"attributes\":{},\"id\":\"aa0d6223-855e-4e80-b2ed-56290ec07414\",\"type\":\"UnionRenderers\"},{\"attributes\":{\"data_source\":{\"id\":\"7223aeea-4e14-402c-a3bf-bc49097e9061\",\"type\":\"ColumnDataSource\"},\"glyph\":{\"id\":\"4a129e71-b5bb-4994-9508-78db83b9d6ce\",\"type\":\"Square\"},\"hover_glyph\":null,\"muted_glyph\":null,\"nonselection_glyph\":{\"id\":\"282fbb46-9593-4d18-8f8a-3a8b36957a4e\",\"type\":\"Square\"},\"selection_glyph\":null,\"view\":{\"id\":\"bafd2a4a-27d3-4848-a67a-57207bfbb8fd\",\"type\":\"CDSView\"}},\"id\":\"e44dea33-676d-45ed-921c-79b1cce80bff\",\"type\":\"GlyphRenderer\"}],\"root_ids\":[\"7a174c5b-1e35-47e8-a627-cdb6b7123087\"]},\"title\":\"Bokeh Application\",\"version\":\"0.12.16\"}};\n",
       "  var render_items = [{\"docid\":\"3b57e12a-29cc-4c6e-b70f-d3384ef7523d\",\"elementid\":\"d393b254-bb8e-4b74-a450-d8531f14dbb2\",\"modelid\":\"7a174c5b-1e35-47e8-a627-cdb6b7123087\"}];\n",
       "  root.Bokeh.embed.embed_items_notebook(docs_json, render_items);\n",
       "\n",
       "  }\n",
       "  if (root.Bokeh !== undefined) {\n",
       "    embed_document(root);\n",
       "  } else {\n",
       "    var attempts = 0;\n",
       "    var timer = setInterval(function(root) {\n",
       "      if (root.Bokeh !== undefined) {\n",
       "        embed_document(root);\n",
       "        clearInterval(timer);\n",
       "      }\n",
       "      attempts++;\n",
       "      if (attempts > 100) {\n",
       "        console.log(\"Bokeh: ERROR: Unable to run BokehJS code because BokehJS library is missing\")\n",
       "        clearInterval(timer);\n",
       "      }\n",
       "    }, 10, root)\n",
       "  }\n",
       "})(window);"
      ],
      "application/vnd.bokehjs_exec.v0+json": ""
     },
     "metadata": {
      "application/vnd.bokehjs_exec.v0+json": {
       "id": "7a174c5b-1e35-47e8-a627-cdb6b7123087"
      }
     },
     "output_type": "display_data"
    },
    {
     "name": "stdout",
     "output_type": "stream",
     "text": [
      "FIGURE. Cooling rate profiles.\n"
     ]
    },
    {
     "data": {
      "text/html": [
       "<a id=\"Flux_Comparison\"></a>"
      ],
      "text/plain": [
       "<IPython.core.display.HTML object>"
      ]
     },
     "metadata": {},
     "output_type": "display_data"
    },
    {
     "data": {
      "text/markdown": [
       "# Flux Comparison"
      ],
      "text/plain": [
       "<IPython.core.display.Markdown object>"
      ]
     },
     "metadata": {},
     "output_type": "display_data"
    },
    {
     "data": {
      "text/html": [
       "<div>\n",
       "<style scoped>\n",
       "    .dataframe tbody tr th:only-of-type {\n",
       "        vertical-align: middle;\n",
       "    }\n",
       "\n",
       "    .dataframe tbody tr th {\n",
       "        vertical-align: top;\n",
       "    }\n",
       "\n",
       "    .dataframe thead th {\n",
       "        text-align: right;\n",
       "    }\n",
       "</style>\n",
       "<table border=\"1\" class=\"dataframe\">\n",
       "  <thead>\n",
       "    <tr style=\"text-align: right;\">\n",
       "      <th></th>\n",
       "      <th></th>\n",
       "      <th>flug</th>\n",
       "      <th>fldg</th>\n",
       "      <th>fnetg</th>\n",
       "    </tr>\n",
       "    <tr>\n",
       "      <th>pressure</th>\n",
       "      <th>level</th>\n",
       "      <th></th>\n",
       "      <th></th>\n",
       "      <th></th>\n",
       "    </tr>\n",
       "  </thead>\n",
       "  <tbody>\n",
       "    <tr>\n",
       "      <th>0.0000</th>\n",
       "      <th>1</th>\n",
       "      <td>-4.883807</td>\n",
       "      <td>0.000000</td>\n",
       "      <td>-4.883807</td>\n",
       "    </tr>\n",
       "    <tr>\n",
       "      <th>1.0685</th>\n",
       "      <th>24</th>\n",
       "      <td>-4.877047</td>\n",
       "      <td>0.017023</td>\n",
       "      <td>-4.860024</td>\n",
       "    </tr>\n",
       "    <tr>\n",
       "      <th>1013.0000</th>\n",
       "      <th>76</th>\n",
       "      <td>-10.181441</td>\n",
       "      <td>10.209751</td>\n",
       "      <td>0.028310</td>\n",
       "    </tr>\n",
       "  </tbody>\n",
       "</table>\n",
       "</div>"
      ],
      "text/plain": [
       "                      flug       fldg     fnetg\n",
       "pressure  level                                \n",
       "0.0000    1      -4.883807   0.000000 -4.883807\n",
       "1.0685    24     -4.877047   0.017023 -4.860024\n",
       "1013.0000 76    -10.181441  10.209751  0.028310"
      ]
     },
     "metadata": {},
     "output_type": "display_data"
    },
    {
     "name": "stdout",
     "output_type": "stream",
     "text": [
      "Table. Fluxes. CRD\n"
     ]
    },
    {
     "data": {
      "text/html": [
       "<div>\n",
       "<style scoped>\n",
       "    .dataframe tbody tr th:only-of-type {\n",
       "        vertical-align: middle;\n",
       "    }\n",
       "\n",
       "    .dataframe tbody tr th {\n",
       "        vertical-align: top;\n",
       "    }\n",
       "\n",
       "    .dataframe thead th {\n",
       "        text-align: right;\n",
       "    }\n",
       "</style>\n",
       "<table border=\"1\" class=\"dataframe\">\n",
       "  <thead>\n",
       "    <tr style=\"text-align: right;\">\n",
       "      <th></th>\n",
       "      <th></th>\n",
       "      <th>flug</th>\n",
       "      <th>fldg</th>\n",
       "      <th>fnetg</th>\n",
       "    </tr>\n",
       "    <tr>\n",
       "      <th>pressure</th>\n",
       "      <th>level</th>\n",
       "      <th></th>\n",
       "      <th></th>\n",
       "      <th></th>\n",
       "    </tr>\n",
       "  </thead>\n",
       "  <tbody>\n",
       "    <tr>\n",
       "      <th>0.0000</th>\n",
       "      <th>1</th>\n",
       "      <td>-4.918822</td>\n",
       "      <td>0.000000</td>\n",
       "      <td>-4.918822</td>\n",
       "    </tr>\n",
       "    <tr>\n",
       "      <th>1.0685</th>\n",
       "      <th>24</th>\n",
       "      <td>-4.911915</td>\n",
       "      <td>0.016845</td>\n",
       "      <td>-4.895070</td>\n",
       "    </tr>\n",
       "    <tr>\n",
       "      <th>1013.0000</th>\n",
       "      <th>76</th>\n",
       "      <td>-10.181441</td>\n",
       "      <td>10.223037</td>\n",
       "      <td>0.041596</td>\n",
       "    </tr>\n",
       "  </tbody>\n",
       "</table>\n",
       "</div>"
      ],
      "text/plain": [
       "                      flug       fldg     fnetg\n",
       "pressure  level                                \n",
       "0.0000    1      -4.918822   0.000000 -4.918822\n",
       "1.0685    24     -4.911915   0.016845 -4.895070\n",
       "1013.0000 76    -10.181441  10.223037  0.041596"
      ]
     },
     "metadata": {},
     "output_type": "display_data"
    },
    {
     "name": "stdout",
     "output_type": "stream",
     "text": [
      "Table. Fluxes. WGT igg=10 wgt_flux=1\n"
     ]
    },
    {
     "data": {
      "text/html": [
       "<div>\n",
       "<style scoped>\n",
       "    .dataframe tbody tr th:only-of-type {\n",
       "        vertical-align: middle;\n",
       "    }\n",
       "\n",
       "    .dataframe tbody tr th {\n",
       "        vertical-align: top;\n",
       "    }\n",
       "\n",
       "    .dataframe thead th {\n",
       "        text-align: right;\n",
       "    }\n",
       "</style>\n",
       "<table border=\"1\" class=\"dataframe\">\n",
       "  <thead>\n",
       "    <tr style=\"text-align: right;\">\n",
       "      <th></th>\n",
       "      <th></th>\n",
       "      <th>flug</th>\n",
       "      <th>fldg</th>\n",
       "      <th>fnetg</th>\n",
       "    </tr>\n",
       "    <tr>\n",
       "      <th>pressure</th>\n",
       "      <th>level</th>\n",
       "      <th></th>\n",
       "      <th></th>\n",
       "      <th></th>\n",
       "    </tr>\n",
       "  </thead>\n",
       "  <tbody>\n",
       "    <tr>\n",
       "      <th>1.000000e-08</th>\n",
       "      <th>1</th>\n",
       "      <td>-4.889013</td>\n",
       "      <td>1.999387e-09</td>\n",
       "      <td>-4.889013</td>\n",
       "    </tr>\n",
       "    <tr>\n",
       "      <th>1.068500e+00</th>\n",
       "      <th>24</th>\n",
       "      <td>-4.882101</td>\n",
       "      <td>1.659400e-02</td>\n",
       "      <td>-4.865507</td>\n",
       "    </tr>\n",
       "    <tr>\n",
       "      <th>1.013000e+03</th>\n",
       "      <th>76</th>\n",
       "      <td>-10.181440</td>\n",
       "      <td>1.024633e+01</td>\n",
       "      <td>0.064885</td>\n",
       "    </tr>\n",
       "  </tbody>\n",
       "</table>\n",
       "</div>"
      ],
      "text/plain": [
       "                         flug          fldg     fnetg\n",
       "pressure     level                                   \n",
       "1.000000e-08 1      -4.889013  1.999387e-09 -4.889013\n",
       "1.068500e+00 24     -4.882101  1.659400e-02 -4.865507\n",
       "1.013000e+03 76    -10.181440  1.024633e+01  0.064885"
      ]
     },
     "metadata": {},
     "output_type": "display_data"
    },
    {
     "name": "stdout",
     "output_type": "stream",
     "text": [
      "Table. Fluxes. CLIRAD\n"
     ]
    },
    {
     "data": {
      "text/html": [
       "<div>\n",
       "<style scoped>\n",
       "    .dataframe tbody tr th:only-of-type {\n",
       "        vertical-align: middle;\n",
       "    }\n",
       "\n",
       "    .dataframe tbody tr th {\n",
       "        vertical-align: top;\n",
       "    }\n",
       "\n",
       "    .dataframe thead th {\n",
       "        text-align: right;\n",
       "    }\n",
       "</style>\n",
       "<table border=\"1\" class=\"dataframe\">\n",
       "  <thead>\n",
       "    <tr style=\"text-align: right;\">\n",
       "      <th></th>\n",
       "      <th></th>\n",
       "      <th>flug</th>\n",
       "      <th>fldg</th>\n",
       "      <th>fnetg</th>\n",
       "    </tr>\n",
       "    <tr>\n",
       "      <th>pressure</th>\n",
       "      <th>level</th>\n",
       "      <th></th>\n",
       "      <th></th>\n",
       "      <th></th>\n",
       "    </tr>\n",
       "  </thead>\n",
       "  <tbody>\n",
       "    <tr>\n",
       "      <th>0.0000</th>\n",
       "      <th>1</th>\n",
       "      <td>-3.501474e-02</td>\n",
       "      <td>0.000000</td>\n",
       "      <td>-0.035015</td>\n",
       "    </tr>\n",
       "    <tr>\n",
       "      <th>1.0685</th>\n",
       "      <th>24</th>\n",
       "      <td>-3.486865e-02</td>\n",
       "      <td>-0.000178</td>\n",
       "      <td>-0.035047</td>\n",
       "    </tr>\n",
       "    <tr>\n",
       "      <th>1013.0000</th>\n",
       "      <th>76</th>\n",
       "      <td>1.370000e-07</td>\n",
       "      <td>0.013286</td>\n",
       "      <td>0.013286</td>\n",
       "    </tr>\n",
       "  </tbody>\n",
       "</table>\n",
       "</div>"
      ],
      "text/plain": [
       "                         flug      fldg     fnetg\n",
       "pressure  level                                  \n",
       "0.0000    1     -3.501474e-02  0.000000 -0.035015\n",
       "1.0685    24    -3.486865e-02 -0.000178 -0.035047\n",
       "1013.0000 76     1.370000e-07  0.013286  0.013286"
      ]
     },
     "metadata": {},
     "output_type": "display_data"
    },
    {
     "name": "stdout",
     "output_type": "stream",
     "text": [
      "Table. Fluxes. (WGT igg=10 wgt_flux=1) - (CRD)\n"
     ]
    },
    {
     "data": {
      "text/html": [
       "<div>\n",
       "<style scoped>\n",
       "    .dataframe tbody tr th:only-of-type {\n",
       "        vertical-align: middle;\n",
       "    }\n",
       "\n",
       "    .dataframe tbody tr th {\n",
       "        vertical-align: top;\n",
       "    }\n",
       "\n",
       "    .dataframe thead th {\n",
       "        text-align: right;\n",
       "    }\n",
       "</style>\n",
       "<table border=\"1\" class=\"dataframe\">\n",
       "  <thead>\n",
       "    <tr style=\"text-align: right;\">\n",
       "      <th></th>\n",
       "      <th></th>\n",
       "      <th>flug</th>\n",
       "      <th>fldg</th>\n",
       "      <th>fnetg</th>\n",
       "    </tr>\n",
       "    <tr>\n",
       "      <th>pressure</th>\n",
       "      <th>level</th>\n",
       "      <th></th>\n",
       "      <th></th>\n",
       "      <th></th>\n",
       "    </tr>\n",
       "  </thead>\n",
       "  <tbody>\n",
       "    <tr>\n",
       "      <th>0.0000</th>\n",
       "      <th>1</th>\n",
       "      <td>-5.205600e-03</td>\n",
       "      <td>1.999387e-09</td>\n",
       "      <td>-0.005206</td>\n",
       "    </tr>\n",
       "    <tr>\n",
       "      <th>1.0685</th>\n",
       "      <th>24</th>\n",
       "      <td>-5.054500e-03</td>\n",
       "      <td>-4.291810e-04</td>\n",
       "      <td>-0.005484</td>\n",
       "    </tr>\n",
       "    <tr>\n",
       "      <th>1013.0000</th>\n",
       "      <th>76</th>\n",
       "      <td>1.000000e-06</td>\n",
       "      <td>3.657400e-02</td>\n",
       "      <td>0.036575</td>\n",
       "    </tr>\n",
       "  </tbody>\n",
       "</table>\n",
       "</div>"
      ],
      "text/plain": [
       "                         flug          fldg     fnetg\n",
       "pressure  level                                      \n",
       "0.0000    1     -5.205600e-03  1.999387e-09 -0.005206\n",
       "1.0685    24    -5.054500e-03 -4.291810e-04 -0.005484\n",
       "1013.0000 76     1.000000e-06  3.657400e-02  0.036575"
      ]
     },
     "metadata": {},
     "output_type": "display_data"
    },
    {
     "name": "stdout",
     "output_type": "stream",
     "text": [
      "Table. Fluxes. (CLIRAD) - (CRD)\n"
     ]
    },
    {
     "data": {
      "text/html": [
       "<a id=\"Best-fit_Parameters\"></a>"
      ],
      "text/plain": [
       "<IPython.core.display.HTML object>"
      ]
     },
     "metadata": {},
     "output_type": "display_data"
    },
    {
     "data": {
      "text/markdown": [
       "# Best-fit Parameters"
      ],
      "text/plain": [
       "<IPython.core.display.Markdown object>"
      ]
     },
     "metadata": {},
     "output_type": "display_data"
    },
    {
     "name": "stdout",
     "output_type": "stream",
     "text": [
      "Best-fit values for each (gas, band)\n",
      "------------------------------------\n",
      "o h2o band8\n",
      "  atmpro = mls\n",
      "  band = 8\n",
      "  commitnumber = a06b618\n",
      "  conc = None\n",
      "  dv = 0.001\n",
      "  klin = 0\n",
      "  molecule = h2o\n",
      "  ng_adju = [0, -1, 0]\n",
      "  ng_refs = [3, 2, 3]\n",
      "  nv = 1000\n",
      "  option_compute_btable = 0\n",
      "  option_compute_ktable = 1\n",
      "  option_wgt_flux = 1\n",
      "  option_wgt_k = 1\n",
      "  ref_pts = [(1, 250), (10, 250), (500, 250)]\n",
      "  tsfc = 294\n",
      "  vmax = 1900\n",
      "  vmin = 1380\n",
      "  w_diffuse = [(1.66, 1.66, 1.66), (1.66, 1.66), (1.66, 1.66, 1.66)]\n",
      "  wgt = [(0.55, 0.55, 0.85), (0.85, 0.85), (0, 0.3, 0.55)]\n"
     ]
    }
   ],
   "source": [
    "script()"
   ]
  },
  {
   "cell_type": "code",
   "execution_count": 13,
   "metadata": {
    "collapsed": true
   },
   "outputs": [
    {
     "data": {
      "text/html": [
       "<script>\n",
       "code_show=true; \n",
       "function code_toggle() {\n",
       " if (code_show){\n",
       " $('div.input').hide();\n",
       " } else {\n",
       " $('div.input').show();\n",
       " }\n",
       " code_show = !code_show\n",
       "} \n",
       "$( document ).ready(code_toggle);\n",
       "</script>\n",
       "<form action=\"javascript:code_toggle()\"><input type=\"submit\" value=\"Click here to toggle on/off the raw code.\"></form>"
      ],
      "text/plain": [
       "<IPython.core.display.HTML object>"
      ]
     },
     "execution_count": 13,
     "metadata": {},
     "output_type": "execute_result"
    }
   ],
   "source": [
    "display.HTML('''<script>\n",
    "code_show=true; \n",
    "function code_toggle() {\n",
    " if (code_show){\n",
    " $('div.input').hide();\n",
    " } else {\n",
    " $('div.input').show();\n",
    " }\n",
    " code_show = !code_show\n",
    "} \n",
    "$( document ).ready(code_toggle);\n",
    "</script>\n",
    "<form action=\"javascript:code_toggle()\"><input type=\"submit\" value=\"Click here to toggle on/off the raw code.\"></form>''')"
   ]
  }
 ],
 "metadata": {
  "kernelspec": {
   "display_name": "Python 3",
   "language": "python",
   "name": "python3"
  },
  "language_info": {
   "codemirror_mode": {
    "name": "ipython",
    "version": 3
   },
   "file_extension": ".py",
   "mimetype": "text/x-python",
   "name": "python",
   "nbconvert_exporter": "python",
   "pygments_lexer": "ipython3",
   "version": "3.6.1"
  }
 },
 "nbformat": 4,
 "nbformat_minor": 2
}
