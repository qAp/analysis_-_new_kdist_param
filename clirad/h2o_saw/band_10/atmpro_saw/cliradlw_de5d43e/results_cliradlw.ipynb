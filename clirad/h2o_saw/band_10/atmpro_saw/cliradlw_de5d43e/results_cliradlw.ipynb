{
 "cells": [
  {
   "cell_type": "code",
   "execution_count": 1,
   "metadata": {
    "collapsed": true
   },
   "outputs": [],
   "source": [
    "%matplotlib inline\n",
    "import os\n",
    "import re\n",
    "import io\n",
    "import itertools\n",
    "import pprint\n",
    "\n",
    "from bokeh.io import output_notebook, show\n",
    "from bokeh.layouts import gridplot\n",
    "from bokeh.plotting import figure\n",
    "from bokeh.models import Range1d, Legend\n",
    "from bokeh.palettes import all_palettes\n",
    "\n",
    "import matplotlib\n",
    "import matplotlib.pyplot as plt\n",
    "import numpy as np\n",
    "import pandas as pd\n",
    "import xarray as xr\n",
    "\n",
    "import climatools.lblnew.bestfit_params as bestfits\n",
    "from climatools.lblnew import setup_bestfit, setup_overlap\n",
    "import climatools.lblnew.pipeline as pipe_lblnew\n",
    "import climatools.cliradlw.setup as setup_cliradlw\n",
    "import climatools.cliradlw.pipeline as pipe_cliradlw\n",
    "\n",
    "import climatools.html.html as climahtml\n",
    "from climatools.lblnew.dataio import *\n",
    "from climatools.plot.plot import *\n",
    "\n",
    "\n",
    "import IPython.display as display"
   ]
  },
  {
   "cell_type": "code",
   "execution_count": 2,
   "metadata": {
    "collapsed": true
   },
   "outputs": [],
   "source": [
    "%run param.py"
   ]
  },
  {
   "cell_type": "code",
   "execution_count": 3,
   "metadata": {
    "collapsed": true
   },
   "outputs": [],
   "source": [
    "def load_output_file(path_csv):\n",
    "    '''\n",
    "    Load lblnew output .csv file to xarray.Dataset\n",
    "    \n",
    "    Parameters\n",
    "    ----------\n",
    "    path_csv: str\n",
    "              Path to the .csv file to be loaded.\n",
    "    ds: xarray.Dataset\n",
    "        Data in the input file in the form of an xarray.Dataset.\n",
    "    '''\n",
    "    toindex = ['band', 'pressure', 'igg', 'g']    \n",
    "    df = pd.read_csv(path_csv, sep=r'\\s+')\n",
    "    df = df.set_index([i for i in toindex if i in df.columns])\n",
    "    df = df.rename(columns={'sfu': 'flug',\n",
    "                            'sfd': 'fldg',\n",
    "                            'fnet': 'fnetg',\n",
    "                            'coolr': 'coolrg'})\n",
    "    ds = xr.Dataset.from_dataframe(df)\n",
    "\n",
    "    for l in ('level', 'layer'):\n",
    "        if l in ds.data_vars:\n",
    "            if len(ds[l].dims) > 1:\n",
    "                surface = {d: 0 for d in ds.dims if d != 'pressure'}\n",
    "                coord_level = ds[l][surface]\n",
    "                ds.coords[l] = ('pressure', coord_level)\n",
    "            else:\n",
    "                ds.coords[l] = ('pressure', ds[l])\n",
    "    \n",
    "    return ds"
   ]
  },
  {
   "cell_type": "code",
   "execution_count": 4,
   "metadata": {
    "collapsed": true
   },
   "outputs": [],
   "source": [
    "def lblnew_setup(param=None):\n",
    "    if 'ng_refs' in param:\n",
    "        return {'setup': setup_bestfit,\n",
    "                'fname_flux_crd': 'output_flux.dat',\n",
    "                'fname_cool_crd': 'output_coolr.dat',\n",
    "                'fname_flux_wgt': 'output_wfluxg.dat',\n",
    "                'fname_cool_wgt': 'output_wcoolrg.dat'}\n",
    "    else:\n",
    "        return {'setup': setup_overlap,\n",
    "                'fname_flux_crd': 'output_flux.dat',\n",
    "                'fname_cool_crd': 'output_coolr.dat',\n",
    "                'fname_flux_wgt': 'output_wflux.dat',\n",
    "                'fname_cool_wgt': 'output_wcoolr.dat'}\n",
    "\n",
    "    \n",
    "def load_lblnew_data(param):\n",
    "    \n",
    "    fname_dsname = [('fname_flux_crd', 'ds_flux_crd'),\n",
    "                    ('fname_cool_crd', 'ds_cool_crd'),\n",
    "                    ('fname_flux_wgt', 'ds_flux_wgt'),\n",
    "                    ('fname_cool_wgt', 'ds_cool_wgt')]\n",
    "    \n",
    "    d = lblnew_setup(param)\n",
    "    dir_fortran = pipe_lblnew.get_dir_case(param, setup=d['setup'])\n",
    "    \n",
    "    data_dict = {}\n",
    "    for fname, dsname in fname_dsname:\n",
    "        fpath = os.path.join(dir_fortran, d[fname])\n",
    "        data_dict[dsname] = load_output_file(fpath)\n",
    "    return data_dict\n",
    "    \n",
    "\n",
    "    \n",
    "    "
   ]
  },
  {
   "cell_type": "code",
   "execution_count": 5,
   "metadata": {
    "collapsed": true
   },
   "outputs": [],
   "source": [
    "d = load_lblnew_data(PARAM_LBLNEW)\n",
    "\n",
    "DS_FLUX_CRD = d['ds_flux_crd']\n",
    "DS_COOL_CRD = d['ds_cool_crd']\n",
    "DS_FLUX_WGT = d['ds_flux_wgt']\n",
    "DS_COOL_WGT = d['ds_cool_wgt']"
   ]
  },
  {
   "cell_type": "code",
   "execution_count": 6,
   "metadata": {
    "collapsed": true
   },
   "outputs": [],
   "source": [
    "DIR_FORTRAN = pipe_cliradlw.get_fortran_dir(PARAM, \n",
    "                                            setup=setup_cliradlw)\n",
    "\n",
    "PATH_FLUX = os.path.join(DIR_FORTRAN, 'output_flux.dat')\n",
    "PATH_COOL = os.path.join(DIR_FORTRAN, 'output_coolr.dat')\n",
    "\n",
    "DS_FLUX = load_output_file(PATH_FLUX)\n",
    "DS_COOL = load_output_file(PATH_COOL)"
   ]
  },
  {
   "cell_type": "code",
   "execution_count": 7,
   "metadata": {
    "collapsed": true
   },
   "outputs": [
    {
     "data": {
      "text/html": [
       "\n",
       "    <div class=\"bk-root\">\n",
       "        <a href=\"https://bokeh.pydata.org\" target=\"_blank\" class=\"bk-logo bk-logo-small bk-logo-notebook\"></a>\n",
       "        <span id=\"4e20eea7-3bac-4a10-b736-7351e1e00679\">Loading BokehJS ...</span>\n",
       "    </div>"
      ]
     },
     "metadata": {},
     "output_type": "display_data"
    },
    {
     "data": {
      "application/javascript": [
       "\n",
       "(function(root) {\n",
       "  function now() {\n",
       "    return new Date();\n",
       "  }\n",
       "\n",
       "  var force = true;\n",
       "\n",
       "  if (typeof (root._bokeh_onload_callbacks) === \"undefined\" || force === true) {\n",
       "    root._bokeh_onload_callbacks = [];\n",
       "    root._bokeh_is_loading = undefined;\n",
       "  }\n",
       "\n",
       "  var JS_MIME_TYPE = 'application/javascript';\n",
       "  var HTML_MIME_TYPE = 'text/html';\n",
       "  var EXEC_MIME_TYPE = 'application/vnd.bokehjs_exec.v0+json';\n",
       "  var CLASS_NAME = 'output_bokeh rendered_html';\n",
       "\n",
       "  /**\n",
       "   * Render data to the DOM node\n",
       "   */\n",
       "  function render(props, node) {\n",
       "    var script = document.createElement(\"script\");\n",
       "    node.appendChild(script);\n",
       "  }\n",
       "\n",
       "  /**\n",
       "   * Handle when an output is cleared or removed\n",
       "   */\n",
       "  function handleClearOutput(event, handle) {\n",
       "    var cell = handle.cell;\n",
       "\n",
       "    var id = cell.output_area._bokeh_element_id;\n",
       "    var server_id = cell.output_area._bokeh_server_id;\n",
       "    // Clean up Bokeh references\n",
       "    if (id !== undefined) {\n",
       "      Bokeh.index[id].model.document.clear();\n",
       "      delete Bokeh.index[id];\n",
       "    }\n",
       "\n",
       "    if (server_id !== undefined) {\n",
       "      // Clean up Bokeh references\n",
       "      var cmd = \"from bokeh.io.state import curstate; print(curstate().uuid_to_server['\" + server_id + \"'].get_sessions()[0].document.roots[0]._id)\";\n",
       "      cell.notebook.kernel.execute(cmd, {\n",
       "        iopub: {\n",
       "          output: function(msg) {\n",
       "            var element_id = msg.content.text.trim();\n",
       "            Bokeh.index[element_id].model.document.clear();\n",
       "            delete Bokeh.index[element_id];\n",
       "          }\n",
       "        }\n",
       "      });\n",
       "      // Destroy server and session\n",
       "      var cmd = \"import bokeh.io.notebook as ion; ion.destroy_server('\" + server_id + \"')\";\n",
       "      cell.notebook.kernel.execute(cmd);\n",
       "    }\n",
       "  }\n",
       "\n",
       "  /**\n",
       "   * Handle when a new output is added\n",
       "   */\n",
       "  function handleAddOutput(event, handle) {\n",
       "    var output_area = handle.output_area;\n",
       "    var output = handle.output;\n",
       "\n",
       "    // limit handleAddOutput to display_data with EXEC_MIME_TYPE content only\n",
       "    if ((output.output_type != \"display_data\") || (!output.data.hasOwnProperty(EXEC_MIME_TYPE))) {\n",
       "      return\n",
       "    }\n",
       "\n",
       "    var toinsert = output_area.element.find(\".\" + CLASS_NAME.split(' ')[0]);\n",
       "\n",
       "    if (output.metadata[EXEC_MIME_TYPE][\"id\"] !== undefined) {\n",
       "      toinsert[toinsert.length - 1].firstChild.textContent = output.data[JS_MIME_TYPE];\n",
       "      // store reference to embed id on output_area\n",
       "      output_area._bokeh_element_id = output.metadata[EXEC_MIME_TYPE][\"id\"];\n",
       "    }\n",
       "    if (output.metadata[EXEC_MIME_TYPE][\"server_id\"] !== undefined) {\n",
       "      var bk_div = document.createElement(\"div\");\n",
       "      bk_div.innerHTML = output.data[HTML_MIME_TYPE];\n",
       "      var script_attrs = bk_div.children[0].attributes;\n",
       "      for (var i = 0; i < script_attrs.length; i++) {\n",
       "        toinsert[toinsert.length - 1].firstChild.setAttribute(script_attrs[i].name, script_attrs[i].value);\n",
       "      }\n",
       "      // store reference to server id on output_area\n",
       "      output_area._bokeh_server_id = output.metadata[EXEC_MIME_TYPE][\"server_id\"];\n",
       "    }\n",
       "  }\n",
       "\n",
       "  function register_renderer(events, OutputArea) {\n",
       "\n",
       "    function append_mime(data, metadata, element) {\n",
       "      // create a DOM node to render to\n",
       "      var toinsert = this.create_output_subarea(\n",
       "        metadata,\n",
       "        CLASS_NAME,\n",
       "        EXEC_MIME_TYPE\n",
       "      );\n",
       "      this.keyboard_manager.register_events(toinsert);\n",
       "      // Render to node\n",
       "      var props = {data: data, metadata: metadata[EXEC_MIME_TYPE]};\n",
       "      render(props, toinsert[toinsert.length - 1]);\n",
       "      element.append(toinsert);\n",
       "      return toinsert\n",
       "    }\n",
       "\n",
       "    /* Handle when an output is cleared or removed */\n",
       "    events.on('clear_output.CodeCell', handleClearOutput);\n",
       "    events.on('delete.Cell', handleClearOutput);\n",
       "\n",
       "    /* Handle when a new output is added */\n",
       "    events.on('output_added.OutputArea', handleAddOutput);\n",
       "\n",
       "    /**\n",
       "     * Register the mime type and append_mime function with output_area\n",
       "     */\n",
       "    OutputArea.prototype.register_mime_type(EXEC_MIME_TYPE, append_mime, {\n",
       "      /* Is output safe? */\n",
       "      safe: true,\n",
       "      /* Index of renderer in `output_area.display_order` */\n",
       "      index: 0\n",
       "    });\n",
       "  }\n",
       "\n",
       "  // register the mime type if in Jupyter Notebook environment and previously unregistered\n",
       "  if (root.Jupyter !== undefined) {\n",
       "    var events = require('base/js/events');\n",
       "    var OutputArea = require('notebook/js/outputarea').OutputArea;\n",
       "\n",
       "    if (OutputArea.prototype.mime_types().indexOf(EXEC_MIME_TYPE) == -1) {\n",
       "      register_renderer(events, OutputArea);\n",
       "    }\n",
       "  }\n",
       "\n",
       "  \n",
       "  if (typeof (root._bokeh_timeout) === \"undefined\" || force === true) {\n",
       "    root._bokeh_timeout = Date.now() + 5000;\n",
       "    root._bokeh_failed_load = false;\n",
       "  }\n",
       "\n",
       "  var NB_LOAD_WARNING = {'data': {'text/html':\n",
       "     \"<div style='background-color: #fdd'>\\n\"+\n",
       "     \"<p>\\n\"+\n",
       "     \"BokehJS does not appear to have successfully loaded. If loading BokehJS from CDN, this \\n\"+\n",
       "     \"may be due to a slow or bad network connection. Possible fixes:\\n\"+\n",
       "     \"</p>\\n\"+\n",
       "     \"<ul>\\n\"+\n",
       "     \"<li>re-rerun `output_notebook()` to attempt to load from CDN again, or</li>\\n\"+\n",
       "     \"<li>use INLINE resources instead, as so:</li>\\n\"+\n",
       "     \"</ul>\\n\"+\n",
       "     \"<code>\\n\"+\n",
       "     \"from bokeh.resources import INLINE\\n\"+\n",
       "     \"output_notebook(resources=INLINE)\\n\"+\n",
       "     \"</code>\\n\"+\n",
       "     \"</div>\"}};\n",
       "\n",
       "  function display_loaded() {\n",
       "    var el = document.getElementById(\"4e20eea7-3bac-4a10-b736-7351e1e00679\");\n",
       "    if (el != null) {\n",
       "      el.textContent = \"BokehJS is loading...\";\n",
       "    }\n",
       "    if (root.Bokeh !== undefined) {\n",
       "      if (el != null) {\n",
       "        el.textContent = \"BokehJS \" + root.Bokeh.version + \" successfully loaded.\";\n",
       "      }\n",
       "    } else if (Date.now() < root._bokeh_timeout) {\n",
       "      setTimeout(display_loaded, 100)\n",
       "    }\n",
       "  }\n",
       "\n",
       "\n",
       "  function run_callbacks() {\n",
       "    try {\n",
       "      root._bokeh_onload_callbacks.forEach(function(callback) { callback() });\n",
       "    }\n",
       "    finally {\n",
       "      delete root._bokeh_onload_callbacks\n",
       "    }\n",
       "    console.info(\"Bokeh: all callbacks have finished\");\n",
       "  }\n",
       "\n",
       "  function load_libs(js_urls, callback) {\n",
       "    root._bokeh_onload_callbacks.push(callback);\n",
       "    if (root._bokeh_is_loading > 0) {\n",
       "      console.log(\"Bokeh: BokehJS is being loaded, scheduling callback at\", now());\n",
       "      return null;\n",
       "    }\n",
       "    if (js_urls == null || js_urls.length === 0) {\n",
       "      run_callbacks();\n",
       "      return null;\n",
       "    }\n",
       "    console.log(\"Bokeh: BokehJS not loaded, scheduling load and callback at\", now());\n",
       "    root._bokeh_is_loading = js_urls.length;\n",
       "    for (var i = 0; i < js_urls.length; i++) {\n",
       "      var url = js_urls[i];\n",
       "      var s = document.createElement('script');\n",
       "      s.src = url;\n",
       "      s.async = false;\n",
       "      s.onreadystatechange = s.onload = function() {\n",
       "        root._bokeh_is_loading--;\n",
       "        if (root._bokeh_is_loading === 0) {\n",
       "          console.log(\"Bokeh: all BokehJS libraries loaded\");\n",
       "          run_callbacks()\n",
       "        }\n",
       "      };\n",
       "      s.onerror = function() {\n",
       "        console.warn(\"failed to load library \" + url);\n",
       "      };\n",
       "      console.log(\"Bokeh: injecting script tag for BokehJS library: \", url);\n",
       "      document.getElementsByTagName(\"head\")[0].appendChild(s);\n",
       "    }\n",
       "  };var element = document.getElementById(\"4e20eea7-3bac-4a10-b736-7351e1e00679\");\n",
       "  if (element == null) {\n",
       "    console.log(\"Bokeh: ERROR: autoload.js configured with elementid '4e20eea7-3bac-4a10-b736-7351e1e00679' but no matching script tag was found. \")\n",
       "    return false;\n",
       "  }\n",
       "\n",
       "  var js_urls = [\"https://cdn.pydata.org/bokeh/release/bokeh-0.12.16.min.js\", \"https://cdn.pydata.org/bokeh/release/bokeh-widgets-0.12.16.min.js\", \"https://cdn.pydata.org/bokeh/release/bokeh-tables-0.12.16.min.js\", \"https://cdn.pydata.org/bokeh/release/bokeh-gl-0.12.16.min.js\"];\n",
       "\n",
       "  var inline_js = [\n",
       "    function(Bokeh) {\n",
       "      Bokeh.set_log_level(\"info\");\n",
       "    },\n",
       "    \n",
       "    function(Bokeh) {\n",
       "      \n",
       "    },\n",
       "    function(Bokeh) {\n",
       "      console.log(\"Bokeh: injecting CSS: https://cdn.pydata.org/bokeh/release/bokeh-0.12.16.min.css\");\n",
       "      Bokeh.embed.inject_css(\"https://cdn.pydata.org/bokeh/release/bokeh-0.12.16.min.css\");\n",
       "      console.log(\"Bokeh: injecting CSS: https://cdn.pydata.org/bokeh/release/bokeh-widgets-0.12.16.min.css\");\n",
       "      Bokeh.embed.inject_css(\"https://cdn.pydata.org/bokeh/release/bokeh-widgets-0.12.16.min.css\");\n",
       "      console.log(\"Bokeh: injecting CSS: https://cdn.pydata.org/bokeh/release/bokeh-tables-0.12.16.min.css\");\n",
       "      Bokeh.embed.inject_css(\"https://cdn.pydata.org/bokeh/release/bokeh-tables-0.12.16.min.css\");\n",
       "    }\n",
       "  ];\n",
       "\n",
       "  function run_inline_js() {\n",
       "    \n",
       "    if ((root.Bokeh !== undefined) || (force === true)) {\n",
       "      for (var i = 0; i < inline_js.length; i++) {\n",
       "        inline_js[i].call(root, root.Bokeh);\n",
       "      }if (force === true) {\n",
       "        display_loaded();\n",
       "      }} else if (Date.now() < root._bokeh_timeout) {\n",
       "      setTimeout(run_inline_js, 100);\n",
       "    } else if (!root._bokeh_failed_load) {\n",
       "      console.log(\"Bokeh: BokehJS failed to load within specified timeout.\");\n",
       "      root._bokeh_failed_load = true;\n",
       "    } else if (force !== true) {\n",
       "      var cell = $(document.getElementById(\"4e20eea7-3bac-4a10-b736-7351e1e00679\")).parents('.cell').data().cell;\n",
       "      cell.output_area.append_execute_result(NB_LOAD_WARNING)\n",
       "    }\n",
       "\n",
       "  }\n",
       "\n",
       "  if (root._bokeh_is_loading === 0) {\n",
       "    console.log(\"Bokeh: BokehJS loaded, going straight to plotting\");\n",
       "    run_inline_js();\n",
       "  } else {\n",
       "    load_libs(js_urls, function() {\n",
       "      console.log(\"Bokeh: BokehJS plotting callback run at\", now());\n",
       "      run_inline_js();\n",
       "    });\n",
       "  }\n",
       "}(window));"
      ],
      "application/vnd.bokehjs_load.v0+json": "\n(function(root) {\n  function now() {\n    return new Date();\n  }\n\n  var force = true;\n\n  if (typeof (root._bokeh_onload_callbacks) === \"undefined\" || force === true) {\n    root._bokeh_onload_callbacks = [];\n    root._bokeh_is_loading = undefined;\n  }\n\n  \n\n  \n  if (typeof (root._bokeh_timeout) === \"undefined\" || force === true) {\n    root._bokeh_timeout = Date.now() + 5000;\n    root._bokeh_failed_load = false;\n  }\n\n  var NB_LOAD_WARNING = {'data': {'text/html':\n     \"<div style='background-color: #fdd'>\\n\"+\n     \"<p>\\n\"+\n     \"BokehJS does not appear to have successfully loaded. If loading BokehJS from CDN, this \\n\"+\n     \"may be due to a slow or bad network connection. Possible fixes:\\n\"+\n     \"</p>\\n\"+\n     \"<ul>\\n\"+\n     \"<li>re-rerun `output_notebook()` to attempt to load from CDN again, or</li>\\n\"+\n     \"<li>use INLINE resources instead, as so:</li>\\n\"+\n     \"</ul>\\n\"+\n     \"<code>\\n\"+\n     \"from bokeh.resources import INLINE\\n\"+\n     \"output_notebook(resources=INLINE)\\n\"+\n     \"</code>\\n\"+\n     \"</div>\"}};\n\n  function display_loaded() {\n    var el = document.getElementById(\"4e20eea7-3bac-4a10-b736-7351e1e00679\");\n    if (el != null) {\n      el.textContent = \"BokehJS is loading...\";\n    }\n    if (root.Bokeh !== undefined) {\n      if (el != null) {\n        el.textContent = \"BokehJS \" + root.Bokeh.version + \" successfully loaded.\";\n      }\n    } else if (Date.now() < root._bokeh_timeout) {\n      setTimeout(display_loaded, 100)\n    }\n  }\n\n\n  function run_callbacks() {\n    try {\n      root._bokeh_onload_callbacks.forEach(function(callback) { callback() });\n    }\n    finally {\n      delete root._bokeh_onload_callbacks\n    }\n    console.info(\"Bokeh: all callbacks have finished\");\n  }\n\n  function load_libs(js_urls, callback) {\n    root._bokeh_onload_callbacks.push(callback);\n    if (root._bokeh_is_loading > 0) {\n      console.log(\"Bokeh: BokehJS is being loaded, scheduling callback at\", now());\n      return null;\n    }\n    if (js_urls == null || js_urls.length === 0) {\n      run_callbacks();\n      return null;\n    }\n    console.log(\"Bokeh: BokehJS not loaded, scheduling load and callback at\", now());\n    root._bokeh_is_loading = js_urls.length;\n    for (var i = 0; i < js_urls.length; i++) {\n      var url = js_urls[i];\n      var s = document.createElement('script');\n      s.src = url;\n      s.async = false;\n      s.onreadystatechange = s.onload = function() {\n        root._bokeh_is_loading--;\n        if (root._bokeh_is_loading === 0) {\n          console.log(\"Bokeh: all BokehJS libraries loaded\");\n          run_callbacks()\n        }\n      };\n      s.onerror = function() {\n        console.warn(\"failed to load library \" + url);\n      };\n      console.log(\"Bokeh: injecting script tag for BokehJS library: \", url);\n      document.getElementsByTagName(\"head\")[0].appendChild(s);\n    }\n  };var element = document.getElementById(\"4e20eea7-3bac-4a10-b736-7351e1e00679\");\n  if (element == null) {\n    console.log(\"Bokeh: ERROR: autoload.js configured with elementid '4e20eea7-3bac-4a10-b736-7351e1e00679' but no matching script tag was found. \")\n    return false;\n  }\n\n  var js_urls = [\"https://cdn.pydata.org/bokeh/release/bokeh-0.12.16.min.js\", \"https://cdn.pydata.org/bokeh/release/bokeh-widgets-0.12.16.min.js\", \"https://cdn.pydata.org/bokeh/release/bokeh-tables-0.12.16.min.js\", \"https://cdn.pydata.org/bokeh/release/bokeh-gl-0.12.16.min.js\"];\n\n  var inline_js = [\n    function(Bokeh) {\n      Bokeh.set_log_level(\"info\");\n    },\n    \n    function(Bokeh) {\n      \n    },\n    function(Bokeh) {\n      console.log(\"Bokeh: injecting CSS: https://cdn.pydata.org/bokeh/release/bokeh-0.12.16.min.css\");\n      Bokeh.embed.inject_css(\"https://cdn.pydata.org/bokeh/release/bokeh-0.12.16.min.css\");\n      console.log(\"Bokeh: injecting CSS: https://cdn.pydata.org/bokeh/release/bokeh-widgets-0.12.16.min.css\");\n      Bokeh.embed.inject_css(\"https://cdn.pydata.org/bokeh/release/bokeh-widgets-0.12.16.min.css\");\n      console.log(\"Bokeh: injecting CSS: https://cdn.pydata.org/bokeh/release/bokeh-tables-0.12.16.min.css\");\n      Bokeh.embed.inject_css(\"https://cdn.pydata.org/bokeh/release/bokeh-tables-0.12.16.min.css\");\n    }\n  ];\n\n  function run_inline_js() {\n    \n    if ((root.Bokeh !== undefined) || (force === true)) {\n      for (var i = 0; i < inline_js.length; i++) {\n        inline_js[i].call(root, root.Bokeh);\n      }if (force === true) {\n        display_loaded();\n      }} else if (Date.now() < root._bokeh_timeout) {\n      setTimeout(run_inline_js, 100);\n    } else if (!root._bokeh_failed_load) {\n      console.log(\"Bokeh: BokehJS failed to load within specified timeout.\");\n      root._bokeh_failed_load = true;\n    } else if (force !== true) {\n      var cell = $(document.getElementById(\"4e20eea7-3bac-4a10-b736-7351e1e00679\")).parents('.cell').data().cell;\n      cell.output_area.append_execute_result(NB_LOAD_WARNING)\n    }\n\n  }\n\n  if (root._bokeh_is_loading === 0) {\n    console.log(\"Bokeh: BokehJS loaded, going straight to plotting\");\n    run_inline_js();\n  } else {\n    load_libs(js_urls, function() {\n      console.log(\"Bokeh: BokehJS plotting callback run at\", now());\n      run_inline_js();\n    });\n  }\n}(window));"
     },
     "metadata": {},
     "output_type": "display_data"
    }
   ],
   "source": [
    "output_notebook()"
   ]
  },
  {
   "cell_type": "code",
   "execution_count": 8,
   "metadata": {
    "collapsed": true
   },
   "outputs": [],
   "source": [
    "def fmt_cool(ds_in):\n",
    "    ds = ds_in.copy(deep=True)\n",
    "    if 'igg' in ds.dims:\n",
    "        ds = ds.sel(igg=1)\n",
    "\n",
    "    if 'g' in ds.dims:\n",
    "        ds = ds.sum('g')\n",
    "            \n",
    "    if 'band' in ds.dims:\n",
    "        try:\n",
    "            ds = ds.squeeze('band')\n",
    "        except ValueError:\n",
    "            ds = ds.sum('band')\n",
    "                \n",
    "    return ds['coolrg']\n",
    "\n",
    "\n",
    "def pltdata_cooling_1(ds_cool=None,\n",
    "                      ds_cool_crd=None, ds_cool_wgt=None):\n",
    "    \n",
    "\n",
    "\n",
    "    colors = all_palettes['Set1'][4]\n",
    "    data = [{'label': 'CLIRAD `coolr_bands`',\n",
    "             'srs': fmt_cool(ds_cool),\n",
    "             'line_dash': 'dashed', 'line_width': 5,\n",
    "             'color': colors[0], 'alpha': .6},\n",
    "            {'label': 'CRD',\n",
    "             'srs': fmt_cool(ds_cool_crd),\n",
    "             'line_dash': 'solid', 'line_width': 1.5,\n",
    "             'marker': 'circle', 'marker_size': 5,\n",
    "             'color': colors[2], 'alpha': 1,},\n",
    "            {'label': 'WGT igg=10 wgt_flux=2',\n",
    "             'srs': fmt_cool(ds_cool_wgt),\n",
    "             'line_dash': 'solid', 'line_width': 3,\n",
    "             'marker': 'square', 'marker_size': 5,\n",
    "             'color': colors[3], 'alpha': .6}]\n",
    "    return data\n",
    "\n",
    "\n",
    "def nice_xlims(pltdata=None, prange=None):\n",
    "    \n",
    "    def get_slice(srs):\n",
    "        return srs.sel(pressure=slice(*prange))\n",
    "    \n",
    "    srss = [d['srs'] for d in pltdata]\n",
    "    vmin = min([get_slice(srs).min() for srs in srss])\n",
    "    vmax = max([get_slice(srs).max() for srs in srss])\n",
    "    dv = (vmax - vmin) * .01\n",
    "    return float(vmin - dv), float(vmax + dv)\n",
    "    \n",
    "\n",
    "def plt_cooling_bokeh(pltdata=None):\n",
    "    '''\n",
    "    Plot a list of cooling rate profiles using bokeh.\n",
    "    '''\n",
    "    ymin = 1e-2 \n",
    "    ymax = 1020 \n",
    "        \n",
    "    p1 = figure(title=\"Linear pressure scale\", \n",
    "                plot_width=400)        \n",
    "    xmin, xmax = nice_xlims(pltdata, prange=(50, 1050))\n",
    "    for d in pltdata:\n",
    "        if 'marker' in d:\n",
    "            getattr(p1, d['marker'])(d['srs'].values, \n",
    "                    d['srs'].coords['pressure'].values,\n",
    "                    color=d['color'], alpha=.7)\n",
    "        p1.line(d['srs'].values, \n",
    "                d['srs'].coords['pressure'].values,\n",
    "                color=d['color'], alpha=d['alpha'], \n",
    "                line_width=d['line_width'], line_dash=d['line_dash'])\n",
    "    \n",
    "    p1.y_range = Range1d(ymax, ymin)\n",
    "    p1.yaxis.axis_label = 'pressure [mb]'   \n",
    "    p1.x_range = Range1d(xmin, xmax)\n",
    "    p1.xaxis.axis_label = 'cooling rate [K/day]'\n",
    "            \n",
    "    p2 = figure(title='Log pressure scale', y_axis_type='log',\n",
    "                plot_width=560)\n",
    "    xmin, xmax = nice_xlims(pltdata, prange=(.01, 200))\n",
    "    \n",
    "    rs = []\n",
    "    for d in pltdata:\n",
    "        rd = []\n",
    "        if 'marker' in d:\n",
    "            r_mark = getattr(p2, d['marker'])(d['srs'].values, \n",
    "                        d['srs'].coords['pressure'].values,\n",
    "                        color=d['color'], alpha=.7)\n",
    "            rd.append(r_mark)\n",
    "        r_line = p2.line(d['srs'].values, \n",
    "                    d['srs'].coords['pressure'].values,\n",
    "                    color=d['color'], alpha=d['alpha'], \n",
    "                    line_width=d['line_width'], line_dash=d['line_dash'])\n",
    "        rd.append(r_line)\n",
    "      \n",
    "        rs.append(rd)\n",
    "        \n",
    "    p2.y_range = Range1d(ymax, ymin)  \n",
    "    p2.yaxis.axis_label = 'pressure [mb]'\n",
    "    \n",
    "    p2.x_range = Range1d(xmin, xmax)\n",
    "    p2.xaxis.axis_label = 'cooling rate [K/day]'\n",
    "    \n",
    "    items = [(d['label'], r) for r, d in zip(rs, pltdata)]\n",
    "    legend = Legend(items=items, location=(10, -30))\n",
    "    legend.label_text_font_size = '8pt'\n",
    "    \n",
    "    p2.add_layout(legend, 'right')  \n",
    "    \n",
    "    show(gridplot(p1, p2, ncols=2, plot_height=500))\n",
    "    \n",
    "\n",
    "def script_plt_cooling():\n",
    "    pltdata = pltdata_cooling_1(\n",
    "        ds_cool=DS_COOL,\n",
    "        ds_cool_crd=DS_COOL_CRD,\n",
    "        ds_cool_wgt=DS_COOL_WGT)\n",
    "    plt_cooling_bokeh(pltdata=pltdata)\n",
    "    print('''FIGURE. Cooling rate profiles.''')"
   ]
  },
  {
   "cell_type": "code",
   "execution_count": 9,
   "metadata": {
    "collapsed": true
   },
   "outputs": [],
   "source": [
    "def fmt_flux(ds_in):\n",
    "    ds = ds_in.copy(deep=True)\n",
    "    \n",
    "    for l in ('level', 'layer'):\n",
    "        if l in ds.data_vars:\n",
    "            if len(ds[l].dims) > 1:\n",
    "                surface = {d: 0 for d in ds.dims if d != 'pressure'}\n",
    "                coord_level = ds[l][surface]\n",
    "                ds.coords[l] = ('pressure', coord_level)\n",
    "            else:\n",
    "                ds.coords[l] = ('pressure', ds[l])\n",
    "        \n",
    "    ds = ds.isel(pressure=[0, 23, -1])\n",
    "        \n",
    "    if 'igg' in ds.dims:\n",
    "        ds = ds.sel(igg=[1])\n",
    "        ds = ds.squeeze('igg').drop('igg')\n",
    "    \n",
    "    if 'g' in ds.dims:\n",
    "        ds = ds.sum('g')\n",
    "            \n",
    "    if 'band' in ds.dims:\n",
    "        try:\n",
    "            ds = ds.squeeze('band').drop('band')\n",
    "        except ValueError:\n",
    "            ds = ds.sum('band')\n",
    "                \n",
    "    df = ds.to_dataframe()\n",
    "    df = df.set_index('level', append=True)               \n",
    "    return df\n",
    "\n",
    "\n",
    "def tbdata_flux(ds_flux=None, ds_flux_crd=None, ds_flux_wgt=None):\n",
    "    ilevels = [0, 23, -1]\n",
    "            \n",
    "    benchmark = {'label': 'CRD',\n",
    "                 'df': fmt_flux(ds_flux_crd)}\n",
    "    \n",
    "    tbs = [{'label': 'WGT igg=10 wgt_flux=1',\n",
    "            'df': fmt_flux(ds_flux_wgt)},\n",
    "           {'label': 'CLIRAD',\n",
    "            'df': fmt_flux(ds_flux)}]\n",
    "    \n",
    "    data = {'benchmark': benchmark, 'others': tbs}\n",
    "    return data\n",
    "\n",
    "\n",
    "def tb_flux(tbdata=None):\n",
    "    benchmark = tbdata['benchmark']\n",
    "    others = tbdata['others']\n",
    "    \n",
    "    def show_tb(d=None):\n",
    "        display.display(d['df'])\n",
    "        print('Table.', 'Fluxes.', d['label'])\n",
    "        \n",
    "    def show_tbdiff(d0=None, d=None):\n",
    "        df = d['df']\n",
    "        df.index = d0['df'].index\n",
    "        display.display(df - d0['df'])\n",
    "        print('Table.', 'Fluxes.', \n",
    "              '({}) - ({})'.format(d['label'], d0['label']))\n",
    "        \n",
    "    show_tb(benchmark)\n",
    "    for d in others:\n",
    "        show_tb(d)\n",
    "        \n",
    "    for d in others:\n",
    "        show_tbdiff(d=d, d0=benchmark)\n",
    "        \n",
    "        \n",
    "def script_tb_flux():\n",
    "    data = tbdata_flux(ds_flux=DS_FLUX,\n",
    "                       ds_flux_crd=DS_FLUX_CRD,\n",
    "                       ds_flux_wgt=DS_FLUX_WGT)\n",
    "    tb_flux(tbdata=data)"
   ]
  },
  {
   "cell_type": "code",
   "execution_count": 10,
   "metadata": {
    "collapsed": true
   },
   "outputs": [],
   "source": [
    "def band_map():\n",
    "    '''\n",
    "    Maps spectral bands in lblnew to spectral bands in clirad.\n",
    "    '''\n",
    "    lblnew2clirad = {'1': '1',\n",
    "            '2': '2',\n",
    "            '3a': '3',\n",
    "            '3b': '4',\n",
    "            '3c': '5',\n",
    "            '4': '6', \n",
    "            '5': '7',\n",
    "            '6': '8',\n",
    "            '7': '9', \n",
    "            '8': '10',\n",
    "            '9': '11'}\n",
    "    \n",
    "    clirad2lblnew = {clirad: lblnew \n",
    "                     for lblnew, clirad in lblnew2clirad.items()}\n",
    "    return clirad2lblnew\n",
    "\n",
    "\n",
    "def gasbands():\n",
    "    bmap = band_map()\n",
    "    gases = list(PARAM['molecule'].keys())\n",
    "    \n",
    "    bands = [bmap[str(b)] for b in PARAM['band']]\n",
    "    return list(itertools.product(gases, bands))\n",
    "\n",
    "\n",
    "def print_bestfit_params():\n",
    "    print('Best-fit values for each (gas, band)')\n",
    "    print('------------------------------------')\n",
    "    for gas, band in gasbands():\n",
    "        print('o {} band{}'.format(gas, band))\n",
    "        param = bestfits.kdist_params(molecule=gas, band=band)\n",
    "        for name, value in sorted(param.items()):\n",
    "            print(2 * ' ' + '{} = {}'.format(name, value))\n",
    "\n",
    "        \n",
    "def print_input_param():        \n",
    "    for name, value in PARAM.items():\n",
    "        print('{} = {}'.format(name, value))\n",
    "        \n",
    "        \n",
    "def print_lblnew_param():\n",
    "    for name, value in sorted(PARAM_LBLNEW.items()):\n",
    "        print('{} = {}'.format(name, value))\n"
   ]
  },
  {
   "cell_type": "code",
   "execution_count": 11,
   "metadata": {
    "collapsed": true,
    "scrolled": false
   },
   "outputs": [],
   "source": [
    "def show_html(s):\n",
    "    display.display(display.HTML(s))\n",
    "\n",
    "    \n",
    "def show_markdown(s):\n",
    "    display.display(display.Markdown(s))\n",
    "\n",
    "    \n",
    "def script():\n",
    "    \n",
    "    title = '### CLIRAD-LW'\n",
    "    s_input = 'Input Parameters'\n",
    "    s_lblnew_param = 'LBLNEW case compaired against'\n",
    "    s_bestfits = 'Best-fit Parameters'\n",
    "    s_plt_cooling = 'Cooling Rate Profiles'\n",
    "    s_tb_flux = 'Flux Comparison'\n",
    "    \n",
    "    # title\n",
    "    show_markdown('### CLIRAD-LW')\n",
    "    \n",
    "    # TOC\n",
    "    show_markdown('### Table of Contents')\n",
    "    show_html(climahtml.getHTML_hrefanchor(s_input))\n",
    "    show_html(climahtml.getHTML_hrefanchor(s_lblnew_param))\n",
    "    show_html(climahtml.getHTML_hrefanchor(s_plt_cooling))\n",
    "    show_html(climahtml.getHTML_hrefanchor(s_tb_flux))\n",
    "    show_html(climahtml.getHTML_hrefanchor(s_bestfits))\n",
    "    \n",
    "    # Input parameters\n",
    "    show_html(climahtml.getHTML_idanchor(s_input))\n",
    "    show_markdown(climahtml.getMarkdown_sectitle(s_input))\n",
    "    print_input_param()\n",
    "    \n",
    "    # LBLNEW parameters \n",
    "    show_html(climahtml.getHTML_idanchor(s_lblnew_param))\n",
    "    show_markdown(climahtml.getMarkdown_sectitle(s_lblnew_param))\n",
    "    print_lblnew_param()\n",
    "    \n",
    "    # Cooling rate profiles\n",
    "    show_html(climahtml.getHTML_idanchor(s_plt_cooling))\n",
    "    show_markdown(climahtml.getMarkdown_sectitle(s_plt_cooling))\n",
    "    script_plt_cooling()\n",
    "    \n",
    "    # Flux comparison\n",
    "    show_html(climahtml.getHTML_idanchor(s_tb_flux))\n",
    "    show_markdown(climahtml.getMarkdown_sectitle(s_tb_flux))\n",
    "    script_tb_flux()\n",
    "    \n",
    "    # Best-fit values\n",
    "    show_html(climahtml.getHTML_idanchor(s_bestfits))\n",
    "    show_markdown(climahtml.getMarkdown_sectitle(s_bestfits))\n",
    "    print_bestfit_params()\n",
    "   \n",
    "    "
   ]
  },
  {
   "cell_type": "code",
   "execution_count": 12,
   "metadata": {
    "collapsed": true,
    "scrolled": false
   },
   "outputs": [
    {
     "data": {
      "text/markdown": [
       "### CLIRAD-LW"
      ],
      "text/plain": [
       "<IPython.core.display.Markdown object>"
      ]
     },
     "metadata": {},
     "output_type": "display_data"
    },
    {
     "data": {
      "text/markdown": [
       "### Table of Contents"
      ],
      "text/plain": [
       "<IPython.core.display.Markdown object>"
      ]
     },
     "metadata": {},
     "output_type": "display_data"
    },
    {
     "data": {
      "text/html": [
       "<a href=\"#Input_Parameters\">Input Parameters</a>"
      ],
      "text/plain": [
       "<IPython.core.display.HTML object>"
      ]
     },
     "metadata": {},
     "output_type": "display_data"
    },
    {
     "data": {
      "text/html": [
       "<a href=\"#LBLNEW_case_compaired_against\">LBLNEW case compaired against</a>"
      ],
      "text/plain": [
       "<IPython.core.display.HTML object>"
      ]
     },
     "metadata": {},
     "output_type": "display_data"
    },
    {
     "data": {
      "text/html": [
       "<a href=\"#Cooling_Rate_Profiles\">Cooling Rate Profiles</a>"
      ],
      "text/plain": [
       "<IPython.core.display.HTML object>"
      ]
     },
     "metadata": {},
     "output_type": "display_data"
    },
    {
     "data": {
      "text/html": [
       "<a href=\"#Flux_Comparison\">Flux Comparison</a>"
      ],
      "text/plain": [
       "<IPython.core.display.HTML object>"
      ]
     },
     "metadata": {},
     "output_type": "display_data"
    },
    {
     "data": {
      "text/html": [
       "<a href=\"#Best-fit_Parameters\">Best-fit Parameters</a>"
      ],
      "text/plain": [
       "<IPython.core.display.HTML object>"
      ]
     },
     "metadata": {},
     "output_type": "display_data"
    },
    {
     "data": {
      "text/html": [
       "<a id=\"Input_Parameters\"></a>"
      ],
      "text/plain": [
       "<IPython.core.display.HTML object>"
      ]
     },
     "metadata": {},
     "output_type": "display_data"
    },
    {
     "data": {
      "text/markdown": [
       "# Input Parameters"
      ],
      "text/plain": [
       "<IPython.core.display.Markdown object>"
      ]
     },
     "metadata": {},
     "output_type": "display_data"
    },
    {
     "name": "stdout",
     "output_type": "stream",
     "text": [
      "atmpro = saw\n",
      "band = [10]\n",
      "commitnumber = de5d43e\n",
      "molecule = {'h2o': 'atmpro'}\n",
      "tsfc = 257\n"
     ]
    },
    {
     "data": {
      "text/html": [
       "<a id=\"LBLNEW_case_compaired_against\"></a>"
      ],
      "text/plain": [
       "<IPython.core.display.HTML object>"
      ]
     },
     "metadata": {},
     "output_type": "display_data"
    },
    {
     "data": {
      "text/markdown": [
       "# LBLNEW case compaired against"
      ],
      "text/plain": [
       "<IPython.core.display.Markdown object>"
      ]
     },
     "metadata": {},
     "output_type": "display_data"
    },
    {
     "name": "stdout",
     "output_type": "stream",
     "text": [
      "atmpro = saw\n",
      "band = 8\n",
      "commitnumber = 5014a19\n",
      "conc = None\n",
      "dv = 0.001\n",
      "klin = 0\n",
      "molecule = h2o\n",
      "ng_adju = [0, -1, 0]\n",
      "ng_refs = [3, 2, 3]\n",
      "nv = 1000\n",
      "option_compute_btable = 0\n",
      "option_compute_ktable = 0\n",
      "option_wgt_flux = 1\n",
      "option_wgt_k = 1\n",
      "ref_pts = [(1, 250), (10, 250), (500, 250)]\n",
      "tsfc = 257\n",
      "vmax = 1900\n",
      "vmin = 1380\n",
      "w_diffuse = [(1.66, 1.66, 1.66), (1.66, 1.66), (1.66, 1.66, 1.66)]\n",
      "wgt = [(0.55, 0.55, 0.85), (0.85, 0.85), (0, 0.3, 0.55)]\n"
     ]
    },
    {
     "data": {
      "text/html": [
       "<a id=\"Cooling_Rate_Profiles\"></a>"
      ],
      "text/plain": [
       "<IPython.core.display.HTML object>"
      ]
     },
     "metadata": {},
     "output_type": "display_data"
    },
    {
     "data": {
      "text/markdown": [
       "# Cooling Rate Profiles"
      ],
      "text/plain": [
       "<IPython.core.display.Markdown object>"
      ]
     },
     "metadata": {},
     "output_type": "display_data"
    },
    {
     "data": {
      "text/html": [
       "\n",
       "<div class=\"bk-root\">\n",
       "    <div class=\"bk-plotdiv\" id=\"b00095ad-fc1d-46a8-87ed-8f3366743176\"></div>\n",
       "</div>"
      ]
     },
     "metadata": {},
     "output_type": "display_data"
    },
    {
     "data": {
      "application/javascript": [
       "(function(root) {\n",
       "  function embed_document(root) {\n",
       "    \n",
       "  var docs_json = {\"7eef3d80-40cd-44e1-b840-330eb4f0a00a\":{\"roots\":{\"references\":[{\"attributes\":{\"below\":[{\"id\":\"4ce362ca-d28a-4d5f-8cde-c79743661083\",\"type\":\"LinearAxis\"}],\"left\":[{\"id\":\"1a1b115a-3532-4084-9697-4359d076309e\",\"type\":\"LogAxis\"}],\"plot_height\":500,\"plot_width\":560,\"renderers\":[{\"id\":\"4ce362ca-d28a-4d5f-8cde-c79743661083\",\"type\":\"LinearAxis\"},{\"id\":\"2c717f40-0791-406c-9de1-fe6a19ea5d7a\",\"type\":\"Grid\"},{\"id\":\"1a1b115a-3532-4084-9697-4359d076309e\",\"type\":\"LogAxis\"},{\"id\":\"602d10e1-ef21-455c-a5a8-2c03059a31a4\",\"type\":\"Grid\"},{\"id\":\"cd50a052-a9bf-448f-8006-08b4b9a5a6c9\",\"type\":\"BoxAnnotation\"},{\"id\":\"77a23f3d-d528-4b5c-b9ca-8cb60ce1983f\",\"type\":\"GlyphRenderer\"},{\"id\":\"0cd9fc82-300f-4bd6-af69-459f3dfd07f4\",\"type\":\"GlyphRenderer\"},{\"id\":\"447bca90-f3aa-4106-9210-254bcf92f8d6\",\"type\":\"GlyphRenderer\"},{\"id\":\"a66f2460-f782-4709-a009-6ae0f99188f0\",\"type\":\"GlyphRenderer\"},{\"id\":\"77374e43-09f8-46d7-9a08-cef79541dce2\",\"type\":\"GlyphRenderer\"},{\"id\":\"d2c21523-87c4-4acd-a664-d2b0752b0d91\",\"type\":\"Legend\"}],\"right\":[{\"id\":\"d2c21523-87c4-4acd-a664-d2b0752b0d91\",\"type\":\"Legend\"}],\"title\":{\"id\":\"d4be3d5e-e291-4ebf-a763-3794e33fd01a\",\"type\":\"Title\"},\"toolbar\":{\"id\":\"97401e08-7b01-4d99-b9a7-9fd7b11624e0\",\"type\":\"Toolbar\"},\"toolbar_location\":null,\"x_range\":{\"id\":\"fb5a9bf6-a664-4e80-b1e3-0e4263f80dce\",\"type\":\"Range1d\"},\"x_scale\":{\"id\":\"9ec7610d-40f1-4007-98f2-8cf5a8268e20\",\"type\":\"LinearScale\"},\"y_range\":{\"id\":\"7b3a9c8f-6f3b-4144-8ba7-bb03524684a0\",\"type\":\"Range1d\"},\"y_scale\":{\"id\":\"5fc35141-4d49-4e43-9187-c5810858a880\",\"type\":\"LogScale\"}},\"id\":\"781b7b32-debe-4e4f-a345-47b43d79cb25\",\"subtype\":\"Figure\",\"type\":\"Plot\"},{\"attributes\":{\"ticker\":null},\"id\":\"424ac194-9d29-47bd-bb1a-8326239f1bdb\",\"type\":\"LogTickFormatter\"},{\"attributes\":{\"active_drag\":\"auto\",\"active_inspect\":\"auto\",\"active_scroll\":\"auto\",\"active_tap\":\"auto\",\"tools\":[{\"id\":\"19d93ca0-348a-4481-a65c-dae6a95c3263\",\"type\":\"PanTool\"},{\"id\":\"61d82481-a71a-40d9-86a6-585ef44ce494\",\"type\":\"WheelZoomTool\"},{\"id\":\"7241d7f2-fde0-4c3d-93a2-11bab1ed3e71\",\"type\":\"BoxZoomTool\"},{\"id\":\"4ece2b7a-c9e0-4fdc-b447-9a56dfa09d82\",\"type\":\"SaveTool\"},{\"id\":\"46cc9c3e-3bdc-4ea9-b11b-03ce9c3d874c\",\"type\":\"ResetTool\"},{\"id\":\"5ec75ea6-ef33-4441-acb8-91254c1acf32\",\"type\":\"HelpTool\"}]},\"id\":\"cbdc4866-17b2-4b89-99a0-367f4c76d60c\",\"type\":\"Toolbar\"},{\"attributes\":{},\"id\":\"b80aa35f-2430-4a72-b4e6-4d0986a3713f\",\"type\":\"UnionRenderers\"},{\"attributes\":{},\"id\":\"76bed6cd-7864-4a4c-8d4b-2b04dbdcbf31\",\"type\":\"Selection\"},{\"attributes\":{},\"id\":\"1ad14b10-a28d-4a87-aa1b-4fbc67438304\",\"type\":\"UnionRenderers\"},{\"attributes\":{},\"id\":\"a66e22b2-eaf6-4f8c-ac85-6b6f7a9374e6\",\"type\":\"Selection\"},{\"attributes\":{},\"id\":\"4fe7aa70-e5ac-4684-ab98-56ecd0d4a3ad\",\"type\":\"BasicTicker\"},{\"attributes\":{},\"id\":\"76fb329c-7a60-4239-8d83-fb5d52598ea2\",\"type\":\"Selection\"},{\"attributes\":{},\"id\":\"dd3c1dd3-b4d9-4dcc-a84e-8424abdf390d\",\"type\":\"UnionRenderers\"},{\"attributes\":{},\"id\":\"12621b1f-df92-4245-a521-53870fc5690e\",\"type\":\"UnionRenderers\"},{\"attributes\":{},\"id\":\"163ae12d-663f-4e01-b816-de8b286743be\",\"type\":\"Selection\"},{\"attributes\":{},\"id\":\"76540ebe-9b74-4668-a8bd-abac865f7138\",\"type\":\"UnionRenderers\"},{\"attributes\":{},\"id\":\"a5f4c723-8356-46df-844a-df5ed8f3f1e3\",\"type\":\"Selection\"},{\"attributes\":{\"callback\":null,\"data\":{\"x\":{\"__ndarray__\":\"5UIGbrTOyb/fxkU5wczIv/F2jETLLsa/NL2jSr08w7/GYw6bK/e/v+s7Jwy20Li/Y1bC77MFsb/YQesC2i2hv3ZhTWCYHl0/9mxB4mMfpD/QCeOfACe0P/6ZIG53pL4/diKY1QGxxD8qK5fXWxTJP19NVCWAUcs/PN4/cVs2zD8JxqCXeqvMPwojSVLK0sw/5SFbr0zszD9+RUzDz4PNPwwEATJ0bM8/o5ZBEHt8yj9Rrt8Cv/y9P5Y5eWtCVa0/87FYFo4Ynj97ShVfyWKQPyN9z1L2uYE/jr70QCyeeD+tfidQ/ah6P4x7c8A1hXs/eeXLIkwFeD9ope24EbFxP7Nthg80PHA/JSb2uev/dD/SEUtSqiB5P31IIKet5nw/Bp6tkvcJgD93OA/d66F/P0Z/vuaCHoM/QLTLwbAfhT94WdSmOK6FPwxDPWQePoM//A56BU0Dfj9TKGA684tvP9LUr49uRmW/zBoNQOnbeL/89EUAnqgDPyAUek6Re4Y/MxUkrkq/mj+vOc0j+/emP74vcHE70a8/Lz0qlgyUsz+5d7RBi0S2P4ABmapv8bc/vvj4PRexuD/dPSwT/6m4PxZQEIsEErg/B3oLmH4Rtz/pUgOdrsa1P9pqKhltRrQ/xZSjWwqjsj+k73UfbvGwP6IZpfq3k64/dFRwo8Ggqz/w03QawmGpPwaWMI4iT6g/mAvMcigvqT/6gyN23cOsP7ae9ptW+LA/eJBaBYoIsj+9uCckpv+uP9/Upx9LVKU/MXVSvQd4mD8YbTIDxSqEP19JGiWtzY6/\",\"dtype\":\"float64\",\"shape\":[75]},\"y\":{\"__ndarray__\":\"GhExyth1ND/Sv8nbtpRIP2vylNV0PVE/aTum7souWD/At0SJ8fVgPw3Iuahxymc/MSNhhJWvcD/bTfBN02d3P2zb5nxnaoA/CD5h5MAGhz8NmeH1TyaQP+zrCsc9p5Y/LbKd76fGnz/bLW5ISEmmPww9YvTcQq8/JV2OstnstT8Er5Y7M8G+P0c+r3jqkcU/5h99k6ZBzj88bCIzFzjVP4enV8oyxN0//yH99nXg5D8qOpLLf0jtP5kqGJXUifQ/c9cS8kHP/D+/DpwzojQEQIEmwoanVwxA4lgXt9HgE0BSSZ2AJuIbQAMJih9jjiNA5q4l5INuK0AwTKYKRj0zQNv5fmq8/DpAaCJseHrtQkB/+zpwzoxKQM3MzMzMeFJAZmZmZmZqWEAAAAAAAFxeQM3MzMzMJmJAmpmZmZkfZUBmZmZmZhhoQDMzMzMzEWtAAAAAAAAKbkBmZmZmZoFwQM3MzMzM/XFAMzMzMzN6c0CamZmZmfZ0QAAAAAAAc3ZAZmZmZmbvd0DNzMzMzGt5QDMzMzMz6HpAmpmZmZlkfEAAAAAAAOF9QGZmZmZmXX9AZmZmZuZsgECamZmZGSuBQM3MzMxM6YFAAAAAAICngkAzMzMzs2WDQGZmZmbmI4RAmpmZmRnihEDNzMzMTKCFQAAAAACAXoZAMzMzM7Mch0BmZmZm5tqHQJqZmZkZmYhAzczMzExXiUAAAAAAgBWKQDMzMzOz04pAZmZmZuaRi0CamZmZGVCMQM3MzMxMDo1AAAAAAIDMjUAzMzMzs4qOQGZmZmbmSI9A\",\"dtype\":\"float64\",\"shape\":[75]}},\"selected\":{\"id\":\"a66e22b2-eaf6-4f8c-ac85-6b6f7a9374e6\",\"type\":\"Selection\"},\"selection_policy\":{\"id\":\"dd3c1dd3-b4d9-4dcc-a84e-8424abdf390d\",\"type\":\"UnionRenderers\"}},\"id\":\"ce2b94d1-c2ca-4e1b-8312-8bd365b0eb0d\",\"type\":\"ColumnDataSource\"},{\"attributes\":{\"children\":[{\"id\":\"0d1d0dc3-bb57-4a8b-87c4-f8de22fcfc21\",\"subtype\":\"Figure\",\"type\":\"Plot\"},{\"id\":\"781b7b32-debe-4e4f-a345-47b43d79cb25\",\"subtype\":\"Figure\",\"type\":\"Plot\"}]},\"id\":\"9c6c0a11-5990-41aa-988d-7f7b95a85cd3\",\"type\":\"Row\"},{\"attributes\":{\"toolbar\":{\"id\":\"a456138f-eee5-4b6d-acb7-ac49bcde14b0\",\"type\":\"ProxyToolbar\"},\"toolbar_location\":\"above\"},\"id\":\"7fc6a1a6-d1f1-48ce-b942-f3805d88a20e\",\"type\":\"ToolbarBox\"},{\"attributes\":{\"children\":[{\"id\":\"7fc6a1a6-d1f1-48ce-b942-f3805d88a20e\",\"type\":\"ToolbarBox\"},{\"id\":\"2750a42b-3dbd-4f8a-beda-c04491c080b3\",\"type\":\"Column\"}]},\"id\":\"6919db4e-de26-44ad-82fe-2c0f25be82e6\",\"type\":\"Column\"},{\"attributes\":{},\"id\":\"19d93ca0-348a-4481-a65c-dae6a95c3263\",\"type\":\"PanTool\"},{\"attributes\":{\"line_color\":\"#4daf4a\",\"line_width\":1.5,\"x\":{\"field\":\"x\"},\"y\":{\"field\":\"y\"}},\"id\":\"0f0cc2d0-cf1e-48e4-b8d7-5b4bfba738db\",\"type\":\"Line\"},{\"attributes\":{\"plot\":null,\"text\":\"Linear pressure scale\"},\"id\":\"ebbeed61-c3d4-48d6-85d8-c0b8603d4eeb\",\"type\":\"Title\"},{\"attributes\":{\"fill_alpha\":{\"value\":0.1},\"fill_color\":{\"value\":\"#1f77b4\"},\"line_alpha\":{\"value\":0.1},\"line_color\":{\"value\":\"#1f77b4\"},\"x\":{\"field\":\"x\"},\"y\":{\"field\":\"y\"}},\"id\":\"0ea92425-d26f-43b7-b9ff-88695b85293c\",\"type\":\"Circle\"},{\"attributes\":{\"dimension\":1,\"plot\":{\"id\":\"0d1d0dc3-bb57-4a8b-87c4-f8de22fcfc21\",\"subtype\":\"Figure\",\"type\":\"Plot\"},\"ticker\":{\"id\":\"c4e60253-387f-47dc-99fc-cf7f71b353b9\",\"type\":\"BasicTicker\"}},\"id\":\"43a81276-8153-45fa-ad0d-174c21c8a826\",\"type\":\"Grid\"},{\"attributes\":{\"fill_alpha\":{\"value\":0.7},\"fill_color\":{\"value\":\"#4daf4a\"},\"line_alpha\":{\"value\":0.7},\"line_color\":{\"value\":\"#4daf4a\"},\"x\":{\"field\":\"x\"},\"y\":{\"field\":\"y\"}},\"id\":\"cca6fbcc-6e2d-496a-98f4-8bb3b6d4bdf4\",\"type\":\"Circle\"},{\"attributes\":{\"callback\":null,\"end\":0.01,\"start\":1020},\"id\":\"ff4ebd6a-86f9-4eab-ab28-4eb2f7d294e1\",\"type\":\"Range1d\"},{\"attributes\":{\"line_alpha\":0.1,\"line_color\":\"#1f77b4\",\"line_width\":3,\"x\":{\"field\":\"x\"},\"y\":{\"field\":\"y\"}},\"id\":\"259b8687-fa95-48a6-ad16-dbd593af5002\",\"type\":\"Line\"},{\"attributes\":{\"source\":{\"id\":\"e8a7bcd1-dd2b-4ffb-98ac-bad38af8fe39\",\"type\":\"ColumnDataSource\"}},\"id\":\"40c0f996-8469-43cb-a18e-4d588c99945b\",\"type\":\"CDSView\"},{\"attributes\":{},\"id\":\"c4e60253-387f-47dc-99fc-cf7f71b353b9\",\"type\":\"BasicTicker\"},{\"attributes\":{\"bottom_units\":\"screen\",\"fill_alpha\":{\"value\":0.5},\"fill_color\":{\"value\":\"lightgrey\"},\"left_units\":\"screen\",\"level\":\"overlay\",\"line_alpha\":{\"value\":1.0},\"line_color\":{\"value\":\"black\"},\"line_dash\":[4,4],\"line_width\":{\"value\":2},\"plot\":null,\"render_mode\":\"css\",\"right_units\":\"screen\",\"top_units\":\"screen\"},\"id\":\"f756ac1d-6f31-46c7-a338-f4f4843aa3d6\",\"type\":\"BoxAnnotation\"},{\"attributes\":{\"data_source\":{\"id\":\"ce2b94d1-c2ca-4e1b-8312-8bd365b0eb0d\",\"type\":\"ColumnDataSource\"},\"glyph\":{\"id\":\"cca6fbcc-6e2d-496a-98f4-8bb3b6d4bdf4\",\"type\":\"Circle\"},\"hover_glyph\":null,\"muted_glyph\":null,\"nonselection_glyph\":{\"id\":\"0ea92425-d26f-43b7-b9ff-88695b85293c\",\"type\":\"Circle\"},\"selection_glyph\":null,\"view\":{\"id\":\"e706ee75-0872-4901-88ca-2acc1c04d6da\",\"type\":\"CDSView\"}},\"id\":\"0cd9fc82-300f-4bd6-af69-459f3dfd07f4\",\"type\":\"GlyphRenderer\"},{\"attributes\":{\"data_source\":{\"id\":\"543cc35a-a644-481d-a88c-cbb0461fbff0\",\"type\":\"ColumnDataSource\"},\"glyph\":{\"id\":\"8656fcc9-7f22-43b8-9d3d-70c8326d455f\",\"type\":\"Line\"},\"hover_glyph\":null,\"muted_glyph\":null,\"nonselection_glyph\":{\"id\":\"016430fe-a39c-44a0-a562-434adc1eb90f\",\"type\":\"Line\"},\"selection_glyph\":null,\"view\":{\"id\":\"7df20b61-b5cd-4de2-8d00-38a980aa40e1\",\"type\":\"CDSView\"}},\"id\":\"77a23f3d-d528-4b5c-b9ca-8cb60ce1983f\",\"type\":\"GlyphRenderer\"},{\"attributes\":{\"axis_label\":\"pressure [mb]\",\"formatter\":{\"id\":\"600a334c-7bd5-4d83-aab9-b1b758868105\",\"type\":\"BasicTickFormatter\"},\"plot\":{\"id\":\"0d1d0dc3-bb57-4a8b-87c4-f8de22fcfc21\",\"subtype\":\"Figure\",\"type\":\"Plot\"},\"ticker\":{\"id\":\"c4e60253-387f-47dc-99fc-cf7f71b353b9\",\"type\":\"BasicTicker\"}},\"id\":\"483ef77d-4fd2-418f-bd2b-c3a4c90b8bc1\",\"type\":\"LinearAxis\"},{\"attributes\":{\"axis_label\":\"cooling rate [K/day]\",\"formatter\":{\"id\":\"aa8ea90c-b632-4947-a0bb-d2d969b70a96\",\"type\":\"BasicTickFormatter\"},\"plot\":{\"id\":\"0d1d0dc3-bb57-4a8b-87c4-f8de22fcfc21\",\"subtype\":\"Figure\",\"type\":\"Plot\"},\"ticker\":{\"id\":\"4fe7aa70-e5ac-4684-ab98-56ecd0d4a3ad\",\"type\":\"BasicTicker\"}},\"id\":\"8429001d-ef2b-4828-85bf-1dd6a8c378a6\",\"type\":\"LinearAxis\"},{\"attributes\":{\"callback\":null,\"data\":{\"x\":{\"__ndarray__\":\"5UIGbrTOyb/fxkU5wczIv/F2jETLLsa/NL2jSr08w7/GYw6bK/e/v+s7Jwy20Li/Y1bC77MFsb/YQesC2i2hv3ZhTWCYHl0/9mxB4mMfpD/QCeOfACe0P/6ZIG53pL4/diKY1QGxxD8qK5fXWxTJP19NVCWAUcs/PN4/cVs2zD8JxqCXeqvMPwojSVLK0sw/5SFbr0zszD9+RUzDz4PNPwwEATJ0bM8/o5ZBEHt8yj9Rrt8Cv/y9P5Y5eWtCVa0/87FYFo4Ynj97ShVfyWKQPyN9z1L2uYE/jr70QCyeeD+tfidQ/ah6P4x7c8A1hXs/eeXLIkwFeD9ope24EbFxP7Nthg80PHA/JSb2uev/dD/SEUtSqiB5P31IIKet5nw/Bp6tkvcJgD93OA/d66F/P0Z/vuaCHoM/QLTLwbAfhT94WdSmOK6FPwxDPWQePoM//A56BU0Dfj9TKGA684tvP9LUr49uRmW/zBoNQOnbeL/89EUAnqgDPyAUek6Re4Y/MxUkrkq/mj+vOc0j+/emP74vcHE70a8/Lz0qlgyUsz+5d7RBi0S2P4ABmapv8bc/vvj4PRexuD/dPSwT/6m4PxZQEIsEErg/B3oLmH4Rtz/pUgOdrsa1P9pqKhltRrQ/xZSjWwqjsj+k73UfbvGwP6IZpfq3k64/dFRwo8Ggqz/w03QawmGpPwaWMI4iT6g/mAvMcigvqT/6gyN23cOsP7ae9ptW+LA/eJBaBYoIsj+9uCckpv+uP9/Upx9LVKU/MXVSvQd4mD8YbTIDxSqEP19JGiWtzY6/\",\"dtype\":\"float64\",\"shape\":[75]},\"y\":{\"__ndarray__\":\"GhExyth1ND/Sv8nbtpRIP2vylNV0PVE/aTum7souWD/At0SJ8fVgPw3Iuahxymc/MSNhhJWvcD/bTfBN02d3P2zb5nxnaoA/CD5h5MAGhz8NmeH1TyaQP+zrCsc9p5Y/LbKd76fGnz/bLW5ISEmmPww9YvTcQq8/JV2OstnstT8Er5Y7M8G+P0c+r3jqkcU/5h99k6ZBzj88bCIzFzjVP4enV8oyxN0//yH99nXg5D8qOpLLf0jtP5kqGJXUifQ/c9cS8kHP/D+/DpwzojQEQIEmwoanVwxA4lgXt9HgE0BSSZ2AJuIbQAMJih9jjiNA5q4l5INuK0AwTKYKRj0zQNv5fmq8/DpAaCJseHrtQkB/+zpwzoxKQM3MzMzMeFJAZmZmZmZqWEAAAAAAAFxeQM3MzMzMJmJAmpmZmZkfZUBmZmZmZhhoQDMzMzMzEWtAAAAAAAAKbkBmZmZmZoFwQM3MzMzM/XFAMzMzMzN6c0CamZmZmfZ0QAAAAAAAc3ZAZmZmZmbvd0DNzMzMzGt5QDMzMzMz6HpAmpmZmZlkfEAAAAAAAOF9QGZmZmZmXX9AZmZmZuZsgECamZmZGSuBQM3MzMxM6YFAAAAAAICngkAzMzMzs2WDQGZmZmbmI4RAmpmZmRnihEDNzMzMTKCFQAAAAACAXoZAMzMzM7Mch0BmZmZm5tqHQJqZmZkZmYhAzczMzExXiUAAAAAAgBWKQDMzMzOz04pAZmZmZuaRi0CamZmZGVCMQM3MzMxMDo1AAAAAAIDMjUAzMzMzs4qOQGZmZmbmSI9A\",\"dtype\":\"float64\",\"shape\":[75]}},\"selected\":{\"id\":\"163ae12d-663f-4e01-b816-de8b286743be\",\"type\":\"Selection\"},\"selection_policy\":{\"id\":\"12621b1f-df92-4245-a521-53870fc5690e\",\"type\":\"UnionRenderers\"}},\"id\":\"acf670c5-d430-41bd-b7fb-589a7ba49a12\",\"type\":\"ColumnDataSource\"},{\"attributes\":{\"line_alpha\":0.1,\"line_color\":\"#1f77b4\",\"line_dash\":[6],\"line_width\":5,\"x\":{\"field\":\"x\"},\"y\":{\"field\":\"y\"}},\"id\":\"fd00b5f8-632a-48dc-b294-43f435843147\",\"type\":\"Line\"},{\"attributes\":{\"callback\":null,\"data\":{\"x\":{\"__ndarray__\":\"6mwz2zaIxL+4ySxrMMfDv4kevm0iCsK/UtZvJqYLwL/N6GjREpa7v2hkeR+Tgba/OJNQqfvIsL+G72I5wM6kvwgcvaWSvYq/2EQfWeTKkT+5Xon2Z/WpP46phsA7QLY/OF/TIFgXwD8pEfr8pJjEPxkCoXG4wcc/6qEqZLb9yT9ckJD1ks7LP6ZIW+iMIM0/q069JIT9zT+0IuZpK7zOPwTi2Cc+xs8/803DhXYtyj/Ean+pl8a8P5Ck+odavqo/aygqJUjInT+GjYy3kKWTP5/USF/J1Ic/yergnK1VfT+FLUjDwY96P8HCO5Q3tHs/hCHVbVX9ej8uUrpJC911P1kIqR4bT3Q/yd4+6jDYeT9xSdAGeel9P6niJ8U36n4/PTE9MnUWfz9nrYrvyRx+P4pYhiiGc4M/dQeQJZyriD+jpg+9wguNP8FLniLva4w/K3Ndcogqhz8BH0mzPAJ5Px3PbR6cymi/6UvKOKFrgr8aPNymKRZwv7uTeA6fU3w//Kj4Uof7kz+AJEWUkdugPycjqMa9jKk/YtuBvh32sT/cXCqmOjO2P5hiB8ipM7g/+VoUmWCIuD9jmncJP1K4P6HMX1Gse7g/HSGRI47WuD/82MTMtZ24P05MYDissLc/53NqPhmptT/DWvEX90KzPxneHBa5k7A/HgUqERhTrD8O1PScnr6oP6WSz2VJBKc/HJYYYRCspz/fhaggEeOrP2HpMut7w7A/qDpbdVoNsj/CCr/tbDyvP31kNnIkaqU/VsFrQTZjlz9jFK5FlzCAP24Ocj8pWJK/\",\"dtype\":\"float64\",\"shape\":[75]},\"y\":{\"__ndarray__\":\"S/O/Q+51ND/Sv8nbtpRIP2vylNV0PVE/aTum7souWD/At0SJ8fVgPw3Iuahxymc/MSNhhJWvcD/bTfBN02d3P2zb5nxnaoA/CD5h5MAGhz8NmeH1TyaQP+zrCsc9p5Y/LbKd76fGnz/bLW5ISEmmPww9YvTcQq8/JV2OstnstT8Er5Y7M8G+P0c+r3jqkcU/5h99k6ZBzj88bCIzFzjVP4enV8oyxN0//yH99nXg5D8qOpLLf0jtP5kqGJXUifQ/c9cS8kHP/D+/DpwzojQEQIEmwoanVwxA4lgXt9HgE0BSSZ2AJuIbQAMJih9jjiNA5q4l5INuK0AwTKYKRj0zQNv5fmq8/DpAaCJseHrtQkB/+zpwzoxKQM3MzMzMeFJAZmZmZmZqWEAAAAAAAFxeQM3MzMzMJmJAmpmZmZkfZUBmZmZmZhhoQDMzMzMzEWtAAAAAAAAKbkBmZmZmZoFwQM3MzMzM/XFAMzMzMzN6c0CamZmZmfZ0QAAAAAAAc3ZAZmZmZmbvd0DNzMzMzGt5QDMzMzMz6HpAmpmZmZlkfEAAAAAAAOF9QGZmZmZmXX9AZmZmZuZsgECamZmZGSuBQM3MzMxM6YFAAAAAAICngkAzMzMzs2WDQGZmZmbmI4RAmpmZmRnihEDNzMzMTKCFQAAAAACAXoZAMzMzM7Mch0BmZmZm5tqHQJqZmZkZmYhAzczMzExXiUAAAAAAgBWKQDMzMzOz04pAZmZmZuaRi0CamZmZGVCMQM3MzMxMDo1AAAAAAIDMjUAzMzMzs4qOQGZmZmbmSI9A\",\"dtype\":\"float64\",\"shape\":[75]}},\"selected\":{\"id\":\"0244fcfe-1fa0-4967-8d9c-0a19a0c93aa0\",\"type\":\"Selection\"},\"selection_policy\":{\"id\":\"cd08bed2-2fc3-4257-b06c-49ac52534c53\",\"type\":\"UnionRenderers\"}},\"id\":\"e8a7bcd1-dd2b-4ffb-98ac-bad38af8fe39\",\"type\":\"ColumnDataSource\"},{\"attributes\":{},\"id\":\"61d82481-a71a-40d9-86a6-585ef44ce494\",\"type\":\"WheelZoomTool\"},{\"attributes\":{\"callback\":null,\"data\":{\"x\":{\"__ndarray__\":\"5UIGbrTOyb/fxkU5wczIv/F2jETLLsa/NL2jSr08w7/GYw6bK/e/v+s7Jwy20Li/Y1bC77MFsb/YQesC2i2hv3ZhTWCYHl0/9mxB4mMfpD/QCeOfACe0P/6ZIG53pL4/diKY1QGxxD8qK5fXWxTJP19NVCWAUcs/PN4/cVs2zD8JxqCXeqvMPwojSVLK0sw/5SFbr0zszD9+RUzDz4PNPwwEATJ0bM8/o5ZBEHt8yj9Rrt8Cv/y9P5Y5eWtCVa0/87FYFo4Ynj97ShVfyWKQPyN9z1L2uYE/jr70QCyeeD+tfidQ/ah6P4x7c8A1hXs/eeXLIkwFeD9ope24EbFxP7Nthg80PHA/JSb2uev/dD/SEUtSqiB5P31IIKet5nw/Bp6tkvcJgD93OA/d66F/P0Z/vuaCHoM/QLTLwbAfhT94WdSmOK6FPwxDPWQePoM//A56BU0Dfj9TKGA684tvP9LUr49uRmW/zBoNQOnbeL/89EUAnqgDPyAUek6Re4Y/MxUkrkq/mj+vOc0j+/emP74vcHE70a8/Lz0qlgyUsz+5d7RBi0S2P4ABmapv8bc/vvj4PRexuD/dPSwT/6m4PxZQEIsEErg/B3oLmH4Rtz/pUgOdrsa1P9pqKhltRrQ/xZSjWwqjsj+k73UfbvGwP6IZpfq3k64/dFRwo8Ggqz/w03QawmGpPwaWMI4iT6g/mAvMcigvqT/6gyN23cOsP7ae9ptW+LA/eJBaBYoIsj+9uCckpv+uP9/Upx9LVKU/MXVSvQd4mD8YbTIDxSqEP19JGiWtzY6/\",\"dtype\":\"float64\",\"shape\":[75]},\"y\":{\"__ndarray__\":\"GhExyth1ND/Sv8nbtpRIP2vylNV0PVE/aTum7souWD/At0SJ8fVgPw3Iuahxymc/MSNhhJWvcD/bTfBN02d3P2zb5nxnaoA/CD5h5MAGhz8NmeH1TyaQP+zrCsc9p5Y/LbKd76fGnz/bLW5ISEmmPww9YvTcQq8/JV2OstnstT8Er5Y7M8G+P0c+r3jqkcU/5h99k6ZBzj88bCIzFzjVP4enV8oyxN0//yH99nXg5D8qOpLLf0jtP5kqGJXUifQ/c9cS8kHP/D+/DpwzojQEQIEmwoanVwxA4lgXt9HgE0BSSZ2AJuIbQAMJih9jjiNA5q4l5INuK0AwTKYKRj0zQNv5fmq8/DpAaCJseHrtQkB/+zpwzoxKQM3MzMzMeFJAZmZmZmZqWEAAAAAAAFxeQM3MzMzMJmJAmpmZmZkfZUBmZmZmZhhoQDMzMzMzEWtAAAAAAAAKbkBmZmZmZoFwQM3MzMzM/XFAMzMzMzN6c0CamZmZmfZ0QAAAAAAAc3ZAZmZmZmbvd0DNzMzMzGt5QDMzMzMz6HpAmpmZmZlkfEAAAAAAAOF9QGZmZmZmXX9AZmZmZuZsgECamZmZGSuBQM3MzMxM6YFAAAAAAICngkAzMzMzs2WDQGZmZmbmI4RAmpmZmRnihEDNzMzMTKCFQAAAAACAXoZAMzMzM7Mch0BmZmZm5tqHQJqZmZkZmYhAzczMzExXiUAAAAAAgBWKQDMzMzOz04pAZmZmZuaRi0CamZmZGVCMQM3MzMxMDo1AAAAAAIDMjUAzMzMzs4qOQGZmZmbmSI9A\",\"dtype\":\"float64\",\"shape\":[75]}},\"selected\":{\"id\":\"6551e970-eb63-43a0-8ba6-33dd6aaad750\",\"type\":\"Selection\"},\"selection_policy\":{\"id\":\"f2ae3897-4b66-44eb-b3df-cb1b50942cad\",\"type\":\"UnionRenderers\"}},\"id\":\"ee93997f-3062-4716-a70e-7c4111957401\",\"type\":\"ColumnDataSource\"},{\"attributes\":{\"callback\":null,\"data\":{\"x\":{\"__ndarray__\":\"VqYNkQxKxr+9wh0PN2zFvw8jHw90X8O/xZX3q5AOwb9xlBzrH8+8vyetCVO58ba/Q4ZOj+htsL9gA+3BjG6iv+yCge9smXW/HcZSqkLinD8kdJpcxGywPzfLK9gTOLo/iwpKBHtCwj8O0zpI8rfGP8S00xC2esk/czr42nAfyz/tSy0RW03MP/0qSUo8EM0/IOLbyZqNzT/b+PrF8zbOPwC12vaLqs8/8vKp6P50yj+tIvvYGMC9P+A6/y26maw/PYMJKSSgnj/hyO7st9iSP6pzdpQHyIY/Sf0iFqTAfj/9xSn1cdB9Px6Hff7VlX4/hgp59YxffD+PZT70HX52P+GD8hT873Q/37U3TFghej9QDkz21+F9P08L6sFI4H8/dx6z/4O9gD9EG/5aM1SAP+MfZFfZfoQ/oJy40kqwiD/bE6bCSMiLP5tQTa2fS4o/ZBOYaXkthT9Pkf1wnu52P1dlPmaZXme/ia3LW06ugL/uweyZn6Fmv5ZZ8FDjM4A/et35ldEqlT8fmsyneKqhP8PDGGPzWak/vAxl8JYasT+RInEby/u0P4V1USPxXLc/j8pxm01AuD+NhDzHSEe4P7xZaxlzFLg/4AXSNVTYtz+exdsvNGS3P2owgYvDfbY/2dIPGHgAtT82QVRHbxqzP5wXB+EXArE/OJ1ZS/IJrj8BuV/uFuGqP6uyA4KDM6k/VBYnD7rRqT8NkS24MWKtP/RnWfurT7E/MlTGslNksj80CxxrCa2vP2xzejywxaU/On0suR5imD8ZgOqSc2iBPwOIJtObHJG/\",\"dtype\":\"float64\",\"shape\":[75]},\"y\":{\"__ndarray__\":\"GhExyth1ND/Sv8nbtpRIP2vylNV0PVE/aTum7souWD/At0SJ8fVgPw3Iuahxymc/MSNhhJWvcD/bTfBN02d3P2zb5nxnaoA/CD5h5MAGhz8NmeH1TyaQP+zrCsc9p5Y/LbKd76fGnz/bLW5ISEmmPww9YvTcQq8/JV2OstnstT8Er5Y7M8G+P0c+r3jqkcU/5h99k6ZBzj88bCIzFzjVP4enV8oyxN0//yH99nXg5D8qOpLLf0jtP5kqGJXUifQ/c9cS8kHP/D+/DpwzojQEQIEmwoanVwxA4lgXt9HgE0BSSZ2AJuIbQAMJih9jjiNA5q4l5INuK0AwTKYKRj0zQNv5fmq8/DpAaCJseHrtQkB/+zpwzoxKQM3MzMzMeFJAZmZmZmZqWEAAAAAAAFxeQM3MzMzMJmJAmpmZmZkfZUBmZmZmZhhoQDMzMzMzEWtAAAAAAAAKbkBmZmZmZoFwQM3MzMzM/XFAMzMzMzN6c0CamZmZmfZ0QAAAAAAAc3ZAZmZmZmbvd0DNzMzMzGt5QDMzMzMz6HpAmpmZmZlkfEAAAAAAAOF9QGZmZmZmXX9AZmZmZuZsgECamZmZGSuBQM3MzMxM6YFAAAAAAICngkAzMzMzs2WDQGZmZmbmI4RAmpmZmRnihEDNzMzMTKCFQAAAAACAXoZAMzMzM7Mch0BmZmZm5tqHQJqZmZkZmYhAzczMzExXiUAAAAAAgBWKQDMzMzOz04pAZmZmZuaRi0CamZmZGVCMQM3MzMxMDo1AAAAAAIDMjUAzMzMzs4qOQGZmZmbmSI9A\",\"dtype\":\"float64\",\"shape\":[75]}},\"selected\":{\"id\":\"a5f4c723-8356-46df-844a-df5ed8f3f1e3\",\"type\":\"Selection\"},\"selection_policy\":{\"id\":\"76540ebe-9b74-4668-a8bd-abac865f7138\",\"type\":\"UnionRenderers\"}},\"id\":\"f102e371-df3e-443a-86c6-c0f6f6d02f60\",\"type\":\"ColumnDataSource\"},{\"attributes\":{\"source\":{\"id\":\"ce2b94d1-c2ca-4e1b-8312-8bd365b0eb0d\",\"type\":\"ColumnDataSource\"}},\"id\":\"e706ee75-0872-4901-88ca-2acc1c04d6da\",\"type\":\"CDSView\"},{\"attributes\":{\"overlay\":{\"id\":\"f756ac1d-6f31-46c7-a338-f4f4843aa3d6\",\"type\":\"BoxAnnotation\"}},\"id\":\"7241d7f2-fde0-4c3d-93a2-11bab1ed3e71\",\"type\":\"BoxZoomTool\"},{\"attributes\":{\"source\":{\"id\":\"543cc35a-a644-481d-a88c-cbb0461fbff0\",\"type\":\"ColumnDataSource\"}},\"id\":\"7df20b61-b5cd-4de2-8d00-38a980aa40e1\",\"type\":\"CDSView\"},{\"attributes\":{},\"id\":\"4ece2b7a-c9e0-4fdc-b447-9a56dfa09d82\",\"type\":\"SaveTool\"},{\"attributes\":{\"line_alpha\":0.1,\"line_color\":\"#1f77b4\",\"line_width\":1.5,\"x\":{\"field\":\"x\"},\"y\":{\"field\":\"y\"}},\"id\":\"a61993ba-a47c-4c36-8dff-1e859c9e0c2d\",\"type\":\"Line\"},{\"attributes\":{},\"id\":\"46cc9c3e-3bdc-4ea9-b11b-03ce9c3d874c\",\"type\":\"ResetTool\"},{\"attributes\":{\"data_source\":{\"id\":\"e8a7bcd1-dd2b-4ffb-98ac-bad38af8fe39\",\"type\":\"ColumnDataSource\"},\"glyph\":{\"id\":\"566fec29-c6a4-4f4a-88b7-554d31eeb589\",\"type\":\"Line\"},\"hover_glyph\":null,\"muted_glyph\":null,\"nonselection_glyph\":{\"id\":\"fd00b5f8-632a-48dc-b294-43f435843147\",\"type\":\"Line\"},\"selection_glyph\":null,\"view\":{\"id\":\"40c0f996-8469-43cb-a18e-4d588c99945b\",\"type\":\"CDSView\"}},\"id\":\"5c5cd616-8bea-4857-b9d3-4643200e9c3c\",\"type\":\"GlyphRenderer\"},{\"attributes\":{\"data_source\":{\"id\":\"acf670c5-d430-41bd-b7fb-589a7ba49a12\",\"type\":\"ColumnDataSource\"},\"glyph\":{\"id\":\"0f0cc2d0-cf1e-48e4-b8d7-5b4bfba738db\",\"type\":\"Line\"},\"hover_glyph\":null,\"muted_glyph\":null,\"nonselection_glyph\":{\"id\":\"a61993ba-a47c-4c36-8dff-1e859c9e0c2d\",\"type\":\"Line\"},\"selection_glyph\":null,\"view\":{\"id\":\"eaa89daa-78de-4b95-a6b3-94b96cacb46c\",\"type\":\"CDSView\"}},\"id\":\"447bca90-f3aa-4106-9210-254bcf92f8d6\",\"type\":\"GlyphRenderer\"},{\"attributes\":{},\"id\":\"5ec75ea6-ef33-4441-acb8-91254c1acf32\",\"type\":\"HelpTool\"},{\"attributes\":{\"line_alpha\":0.6,\"line_color\":\"#e41a1c\",\"line_dash\":[6],\"line_width\":5,\"x\":{\"field\":\"x\"},\"y\":{\"field\":\"y\"}},\"id\":\"566fec29-c6a4-4f4a-88b7-554d31eeb589\",\"type\":\"Line\"},{\"attributes\":{\"source\":{\"id\":\"acf670c5-d430-41bd-b7fb-589a7ba49a12\",\"type\":\"ColumnDataSource\"}},\"id\":\"eaa89daa-78de-4b95-a6b3-94b96cacb46c\",\"type\":\"CDSView\"},{\"attributes\":{\"fill_alpha\":{\"value\":0.7},\"fill_color\":{\"value\":\"#984ea3\"},\"line_alpha\":{\"value\":0.7},\"line_color\":{\"value\":\"#984ea3\"},\"x\":{\"field\":\"x\"},\"y\":{\"field\":\"y\"}},\"id\":\"519fe3b9-1144-420f-81d6-fcce4f3dc244\",\"type\":\"Square\"},{\"attributes\":{\"data_source\":{\"id\":\"6f382ca5-48a9-4565-aa54-81eb26aa0f7f\",\"type\":\"ColumnDataSource\"},\"glyph\":{\"id\":\"cd6ea87a-1e18-4616-8c50-98b44a68e438\",\"type\":\"Line\"},\"hover_glyph\":null,\"muted_glyph\":null,\"nonselection_glyph\":{\"id\":\"259b8687-fa95-48a6-ad16-dbd593af5002\",\"type\":\"Line\"},\"selection_glyph\":null,\"view\":{\"id\":\"e8930290-1631-44fb-8557-adb040618c00\",\"type\":\"CDSView\"}},\"id\":\"77374e43-09f8-46d7-9a08-cef79541dce2\",\"type\":\"GlyphRenderer\"},{\"attributes\":{\"line_alpha\":0.6,\"line_color\":\"#984ea3\",\"line_width\":3,\"x\":{\"field\":\"x\"},\"y\":{\"field\":\"y\"}},\"id\":\"cd6ea87a-1e18-4616-8c50-98b44a68e438\",\"type\":\"Line\"},{\"attributes\":{\"source\":{\"id\":\"6f382ca5-48a9-4565-aa54-81eb26aa0f7f\",\"type\":\"ColumnDataSource\"}},\"id\":\"e8930290-1631-44fb-8557-adb040618c00\",\"type\":\"CDSView\"},{\"attributes\":{},\"id\":\"aa8ea90c-b632-4947-a0bb-d2d969b70a96\",\"type\":\"BasicTickFormatter\"},{\"attributes\":{\"children\":[{\"id\":\"9c6c0a11-5990-41aa-988d-7f7b95a85cd3\",\"type\":\"Row\"}]},\"id\":\"2750a42b-3dbd-4f8a-beda-c04491c080b3\",\"type\":\"Column\"},{\"attributes\":{\"label\":{\"value\":\"CLIRAD `coolr_bands`\"},\"renderers\":[{\"id\":\"77a23f3d-d528-4b5c-b9ca-8cb60ce1983f\",\"type\":\"GlyphRenderer\"}]},\"id\":\"ac704896-f248-4550-94a9-f28e9a575822\",\"type\":\"LegendItem\"},{\"attributes\":{},\"id\":\"cd08bed2-2fc3-4257-b06c-49ac52534c53\",\"type\":\"UnionRenderers\"},{\"attributes\":{\"label\":{\"value\":\"CRD\"},\"renderers\":[{\"id\":\"0cd9fc82-300f-4bd6-af69-459f3dfd07f4\",\"type\":\"GlyphRenderer\"},{\"id\":\"447bca90-f3aa-4106-9210-254bcf92f8d6\",\"type\":\"GlyphRenderer\"}]},\"id\":\"b7f1714f-7cc7-485c-8ef4-e3ed660b76d2\",\"type\":\"LegendItem\"},{\"attributes\":{},\"id\":\"17eb7205-0bf1-4eb4-8192-48f417042c5a\",\"type\":\"Selection\"},{\"attributes\":{\"label\":{\"value\":\"WGT igg=10 wgt_flux=2\"},\"renderers\":[{\"id\":\"a66f2460-f782-4709-a009-6ae0f99188f0\",\"type\":\"GlyphRenderer\"},{\"id\":\"77374e43-09f8-46d7-9a08-cef79541dce2\",\"type\":\"GlyphRenderer\"}]},\"id\":\"eac472b1-29c8-48dc-af00-77d37877de03\",\"type\":\"LegendItem\"},{\"attributes\":{},\"id\":\"249ed4a2-efd6-457c-a8d6-d7bf5494d29e\",\"type\":\"BasicTickFormatter\"},{\"attributes\":{\"tools\":[{\"id\":\"19d93ca0-348a-4481-a65c-dae6a95c3263\",\"type\":\"PanTool\"},{\"id\":\"61d82481-a71a-40d9-86a6-585ef44ce494\",\"type\":\"WheelZoomTool\"},{\"id\":\"7241d7f2-fde0-4c3d-93a2-11bab1ed3e71\",\"type\":\"BoxZoomTool\"},{\"id\":\"4ece2b7a-c9e0-4fdc-b447-9a56dfa09d82\",\"type\":\"SaveTool\"},{\"id\":\"46cc9c3e-3bdc-4ea9-b11b-03ce9c3d874c\",\"type\":\"ResetTool\"},{\"id\":\"5ec75ea6-ef33-4441-acb8-91254c1acf32\",\"type\":\"HelpTool\"},{\"id\":\"e6145681-2b3d-4b2f-ad83-f8f63e50f08f\",\"type\":\"PanTool\"},{\"id\":\"388be82d-d066-4b8b-8439-e3fffe093f63\",\"type\":\"WheelZoomTool\"},{\"id\":\"4461daf4-8d91-4c05-bfda-53eb48c1037b\",\"type\":\"BoxZoomTool\"},{\"id\":\"08108db9-1301-472f-ad92-5fe01b465dcf\",\"type\":\"SaveTool\"},{\"id\":\"a5f530b4-fe9c-4dfa-b405-d3bf328277aa\",\"type\":\"ResetTool\"},{\"id\":\"0b021aa1-41db-479a-86db-ac8ac82fde4a\",\"type\":\"HelpTool\"}]},\"id\":\"a456138f-eee5-4b6d-acb7-ac49bcde14b0\",\"type\":\"ProxyToolbar\"},{\"attributes\":{\"below\":[{\"id\":\"8429001d-ef2b-4828-85bf-1dd6a8c378a6\",\"type\":\"LinearAxis\"}],\"left\":[{\"id\":\"483ef77d-4fd2-418f-bd2b-c3a4c90b8bc1\",\"type\":\"LinearAxis\"}],\"plot_height\":500,\"plot_width\":400,\"renderers\":[{\"id\":\"8429001d-ef2b-4828-85bf-1dd6a8c378a6\",\"type\":\"LinearAxis\"},{\"id\":\"02811f3f-2b5e-41d6-8ddb-2f8e73a5c326\",\"type\":\"Grid\"},{\"id\":\"483ef77d-4fd2-418f-bd2b-c3a4c90b8bc1\",\"type\":\"LinearAxis\"},{\"id\":\"43a81276-8153-45fa-ad0d-174c21c8a826\",\"type\":\"Grid\"},{\"id\":\"f756ac1d-6f31-46c7-a338-f4f4843aa3d6\",\"type\":\"BoxAnnotation\"},{\"id\":\"5c5cd616-8bea-4857-b9d3-4643200e9c3c\",\"type\":\"GlyphRenderer\"},{\"id\":\"dfc4d55b-4d61-4254-8f6e-8cbea9071d11\",\"type\":\"GlyphRenderer\"},{\"id\":\"c3085190-74aa-498d-a15e-61ca9ba1f4a7\",\"type\":\"GlyphRenderer\"},{\"id\":\"d0399585-366b-4fc7-83f4-e39eac5a0a88\",\"type\":\"GlyphRenderer\"},{\"id\":\"7f6a3907-1bda-4661-af18-c9fb00c3ab6d\",\"type\":\"GlyphRenderer\"}],\"title\":{\"id\":\"ebbeed61-c3d4-48d6-85d8-c0b8603d4eeb\",\"type\":\"Title\"},\"toolbar\":{\"id\":\"cbdc4866-17b2-4b89-99a0-367f4c76d60c\",\"type\":\"Toolbar\"},\"toolbar_location\":null,\"x_range\":{\"id\":\"cb434823-f62c-4364-ac2c-691ed7e0ebbd\",\"type\":\"Range1d\"},\"x_scale\":{\"id\":\"c352a48c-26ae-4486-85fa-5cfa09d51d8c\",\"type\":\"LinearScale\"},\"y_range\":{\"id\":\"ff4ebd6a-86f9-4eab-ab28-4eb2f7d294e1\",\"type\":\"Range1d\"},\"y_scale\":{\"id\":\"d2ceb619-93bd-4b22-8bb6-a4645475e71f\",\"type\":\"LinearScale\"}},\"id\":\"0d1d0dc3-bb57-4a8b-87c4-f8de22fcfc21\",\"subtype\":\"Figure\",\"type\":\"Plot\"},{\"attributes\":{},\"id\":\"600a334c-7bd5-4d83-aab9-b1b758868105\",\"type\":\"BasicTickFormatter\"},{\"attributes\":{},\"id\":\"48450543-9150-4837-92d6-ac5ba11babaf\",\"type\":\"UnionRenderers\"},{\"attributes\":{},\"id\":\"6551e970-eb63-43a0-8ba6-33dd6aaad750\",\"type\":\"Selection\"},{\"attributes\":{\"plot\":{\"id\":\"0d1d0dc3-bb57-4a8b-87c4-f8de22fcfc21\",\"subtype\":\"Figure\",\"type\":\"Plot\"},\"ticker\":{\"id\":\"4fe7aa70-e5ac-4684-ab98-56ecd0d4a3ad\",\"type\":\"BasicTicker\"}},\"id\":\"02811f3f-2b5e-41d6-8ddb-2f8e73a5c326\",\"type\":\"Grid\"},{\"attributes\":{},\"id\":\"0244fcfe-1fa0-4967-8d9c-0a19a0c93aa0\",\"type\":\"Selection\"},{\"attributes\":{},\"id\":\"f2ae3897-4b66-44eb-b3df-cb1b50942cad\",\"type\":\"UnionRenderers\"},{\"attributes\":{},\"id\":\"d2ceb619-93bd-4b22-8bb6-a4645475e71f\",\"type\":\"LinearScale\"},{\"attributes\":{},\"id\":\"660404e6-e45f-4fd9-81d8-1f04d2e43abb\",\"type\":\"UnionRenderers\"},{\"attributes\":{\"callback\":null,\"end\":0.09817323586000001,\"start\":-0.01906381586},\"id\":\"cb434823-f62c-4364-ac2c-691ed7e0ebbd\",\"type\":\"Range1d\"},{\"attributes\":{},\"id\":\"75eae177-22d7-4b5a-9190-4d680f4bcbbb\",\"type\":\"Selection\"},{\"attributes\":{\"fill_alpha\":{\"value\":0.7},\"fill_color\":{\"value\":\"#4daf4a\"},\"line_alpha\":{\"value\":0.7},\"line_color\":{\"value\":\"#4daf4a\"},\"x\":{\"field\":\"x\"},\"y\":{\"field\":\"y\"}},\"id\":\"d8eeed38-69fa-4b4c-ab82-afc61dadf8e8\",\"type\":\"Circle\"},{\"attributes\":{},\"id\":\"d723da97-929a-440e-9175-7f7e67fc229f\",\"type\":\"UnionRenderers\"},{\"attributes\":{},\"id\":\"c352a48c-26ae-4486-85fa-5cfa09d51d8c\",\"type\":\"LinearScale\"},{\"attributes\":{},\"id\":\"111bcac2-a6a7-4270-b90e-f29398f83632\",\"type\":\"Selection\"},{\"attributes\":{\"active_drag\":\"auto\",\"active_inspect\":\"auto\",\"active_scroll\":\"auto\",\"active_tap\":\"auto\",\"tools\":[{\"id\":\"e6145681-2b3d-4b2f-ad83-f8f63e50f08f\",\"type\":\"PanTool\"},{\"id\":\"388be82d-d066-4b8b-8439-e3fffe093f63\",\"type\":\"WheelZoomTool\"},{\"id\":\"4461daf4-8d91-4c05-bfda-53eb48c1037b\",\"type\":\"BoxZoomTool\"},{\"id\":\"08108db9-1301-472f-ad92-5fe01b465dcf\",\"type\":\"SaveTool\"},{\"id\":\"a5f530b4-fe9c-4dfa-b405-d3bf328277aa\",\"type\":\"ResetTool\"},{\"id\":\"0b021aa1-41db-479a-86db-ac8ac82fde4a\",\"type\":\"HelpTool\"}]},\"id\":\"97401e08-7b01-4d99-b9a7-9fd7b11624e0\",\"type\":\"Toolbar\"},{\"attributes\":{},\"id\":\"a5f530b4-fe9c-4dfa-b405-d3bf328277aa\",\"type\":\"ResetTool\"},{\"attributes\":{\"callback\":null,\"data\":{\"x\":{\"__ndarray__\":\"6mwz2zaIxL+4ySxrMMfDv4kevm0iCsK/UtZvJqYLwL/N6GjREpa7v2hkeR+Tgba/OJNQqfvIsL+G72I5wM6kvwgcvaWSvYq/2EQfWeTKkT+5Xon2Z/WpP46phsA7QLY/OF/TIFgXwD8pEfr8pJjEPxkCoXG4wcc/6qEqZLb9yT9ckJD1ks7LP6ZIW+iMIM0/q069JIT9zT+0IuZpK7zOPwTi2Cc+xs8/803DhXYtyj/Ean+pl8a8P5Ck+odavqo/aygqJUjInT+GjYy3kKWTP5/USF/J1Ic/yergnK1VfT+FLUjDwY96P8HCO5Q3tHs/hCHVbVX9ej8uUrpJC911P1kIqR4bT3Q/yd4+6jDYeT9xSdAGeel9P6niJ8U36n4/PTE9MnUWfz9nrYrvyRx+P4pYhiiGc4M/dQeQJZyriD+jpg+9wguNP8FLniLva4w/K3Ndcogqhz8BH0mzPAJ5Px3PbR6cymi/6UvKOKFrgr8aPNymKRZwv7uTeA6fU3w//Kj4Uof7kz+AJEWUkdugPycjqMa9jKk/YtuBvh32sT/cXCqmOjO2P5hiB8ipM7g/+VoUmWCIuD9jmncJP1K4P6HMX1Gse7g/HSGRI47WuD/82MTMtZ24P05MYDissLc/53NqPhmptT/DWvEX90KzPxneHBa5k7A/HgUqERhTrD8O1PScnr6oP6WSz2VJBKc/HJYYYRCspz/fhaggEeOrP2HpMut7w7A/qDpbdVoNsj/CCr/tbDyvP31kNnIkaqU/VsFrQTZjlz9jFK5FlzCAP24Ocj8pWJK/\",\"dtype\":\"float64\",\"shape\":[75]},\"y\":{\"__ndarray__\":\"S/O/Q+51ND/Sv8nbtpRIP2vylNV0PVE/aTum7souWD/At0SJ8fVgPw3Iuahxymc/MSNhhJWvcD/bTfBN02d3P2zb5nxnaoA/CD5h5MAGhz8NmeH1TyaQP+zrCsc9p5Y/LbKd76fGnz/bLW5ISEmmPww9YvTcQq8/JV2OstnstT8Er5Y7M8G+P0c+r3jqkcU/5h99k6ZBzj88bCIzFzjVP4enV8oyxN0//yH99nXg5D8qOpLLf0jtP5kqGJXUifQ/c9cS8kHP/D+/DpwzojQEQIEmwoanVwxA4lgXt9HgE0BSSZ2AJuIbQAMJih9jjiNA5q4l5INuK0AwTKYKRj0zQNv5fmq8/DpAaCJseHrtQkB/+zpwzoxKQM3MzMzMeFJAZmZmZmZqWEAAAAAAAFxeQM3MzMzMJmJAmpmZmZkfZUBmZmZmZhhoQDMzMzMzEWtAAAAAAAAKbkBmZmZmZoFwQM3MzMzM/XFAMzMzMzN6c0CamZmZmfZ0QAAAAAAAc3ZAZmZmZmbvd0DNzMzMzGt5QDMzMzMz6HpAmpmZmZlkfEAAAAAAAOF9QGZmZmZmXX9AZmZmZuZsgECamZmZGSuBQM3MzMxM6YFAAAAAAICngkAzMzMzs2WDQGZmZmbmI4RAmpmZmRnihEDNzMzMTKCFQAAAAACAXoZAMzMzM7Mch0BmZmZm5tqHQJqZmZkZmYhAzczMzExXiUAAAAAAgBWKQDMzMzOz04pAZmZmZuaRi0CamZmZGVCMQM3MzMxMDo1AAAAAAIDMjUAzMzMzs4qOQGZmZmbmSI9A\",\"dtype\":\"float64\",\"shape\":[75]}},\"selected\":{\"id\":\"76fb329c-7a60-4239-8d83-fb5d52598ea2\",\"type\":\"Selection\"},\"selection_policy\":{\"id\":\"b80aa35f-2430-4a72-b4e6-4d0986a3713f\",\"type\":\"UnionRenderers\"}},\"id\":\"543cc35a-a644-481d-a88c-cbb0461fbff0\",\"type\":\"ColumnDataSource\"},{\"attributes\":{\"bottom_units\":\"screen\",\"fill_alpha\":{\"value\":0.5},\"fill_color\":{\"value\":\"lightgrey\"},\"left_units\":\"screen\",\"level\":\"overlay\",\"line_alpha\":{\"value\":1.0},\"line_color\":{\"value\":\"black\"},\"line_dash\":[4,4],\"line_width\":{\"value\":2},\"plot\":null,\"render_mode\":\"css\",\"right_units\":\"screen\",\"top_units\":\"screen\"},\"id\":\"cd50a052-a9bf-448f-8006-08b4b9a5a6c9\",\"type\":\"BoxAnnotation\"},{\"attributes\":{\"dimension\":1,\"plot\":{\"id\":\"781b7b32-debe-4e4f-a345-47b43d79cb25\",\"subtype\":\"Figure\",\"type\":\"Plot\"},\"ticker\":{\"id\":\"f432a62e-7164-4e4e-842b-c2b17b2e07d6\",\"type\":\"LogTicker\"}},\"id\":\"602d10e1-ef21-455c-a5a8-2c03059a31a4\",\"type\":\"Grid\"},{\"attributes\":{\"line_alpha\":0.1,\"line_color\":\"#1f77b4\",\"line_width\":3,\"x\":{\"field\":\"x\"},\"y\":{\"field\":\"y\"}},\"id\":\"74d7c729-91c8-4189-838b-36cb1e1e7f8f\",\"type\":\"Line\"},{\"attributes\":{\"line_color\":\"#4daf4a\",\"line_width\":1.5,\"x\":{\"field\":\"x\"},\"y\":{\"field\":\"y\"}},\"id\":\"ab52d601-0760-43ea-9d88-c7a21a33e69e\",\"type\":\"Line\"},{\"attributes\":{\"source\":{\"id\":\"bea2c247-8cf9-4407-9d38-c5541f55fce7\",\"type\":\"ColumnDataSource\"}},\"id\":\"b875abcc-1a2e-42ee-8b58-ea07bca71ded\",\"type\":\"CDSView\"},{\"attributes\":{\"data_source\":{\"id\":\"38996996-fc8f-46fb-a340-cd51c04db9d1\",\"type\":\"ColumnDataSource\"},\"glyph\":{\"id\":\"ab52d601-0760-43ea-9d88-c7a21a33e69e\",\"type\":\"Line\"},\"hover_glyph\":null,\"muted_glyph\":null,\"nonselection_glyph\":{\"id\":\"d9c34a0a-f66b-4512-b55f-22f06361ccb0\",\"type\":\"Line\"},\"selection_glyph\":null,\"view\":{\"id\":\"63eb9b65-90dc-4056-9ace-fc107c1a520f\",\"type\":\"CDSView\"}},\"id\":\"c3085190-74aa-498d-a15e-61ca9ba1f4a7\",\"type\":\"GlyphRenderer\"},{\"attributes\":{\"callback\":null,\"end\":0.01,\"start\":1020},\"id\":\"7b3a9c8f-6f3b-4144-8ba7-bb03524684a0\",\"type\":\"Range1d\"},{\"attributes\":{\"line_alpha\":0.1,\"line_color\":\"#1f77b4\",\"line_dash\":[6],\"line_width\":5,\"x\":{\"field\":\"x\"},\"y\":{\"field\":\"y\"}},\"id\":\"016430fe-a39c-44a0-a562-434adc1eb90f\",\"type\":\"Line\"},{\"attributes\":{\"data_source\":{\"id\":\"bea2c247-8cf9-4407-9d38-c5541f55fce7\",\"type\":\"ColumnDataSource\"},\"glyph\":{\"id\":\"ca868704-965b-4fb3-ab7b-1a3fb8be7a90\",\"type\":\"Line\"},\"hover_glyph\":null,\"muted_glyph\":null,\"nonselection_glyph\":{\"id\":\"74d7c729-91c8-4189-838b-36cb1e1e7f8f\",\"type\":\"Line\"},\"selection_glyph\":null,\"view\":{\"id\":\"b875abcc-1a2e-42ee-8b58-ea07bca71ded\",\"type\":\"CDSView\"}},\"id\":\"7f6a3907-1bda-4661-af18-c9fb00c3ab6d\",\"type\":\"GlyphRenderer\"},{\"attributes\":{\"data_source\":{\"id\":\"f102e371-df3e-443a-86c6-c0f6f6d02f60\",\"type\":\"ColumnDataSource\"},\"glyph\":{\"id\":\"519fe3b9-1144-420f-81d6-fcce4f3dc244\",\"type\":\"Square\"},\"hover_glyph\":null,\"muted_glyph\":null,\"nonselection_glyph\":{\"id\":\"32d249ae-e808-4e4a-98d8-bcf2fbc71819\",\"type\":\"Square\"},\"selection_glyph\":null,\"view\":{\"id\":\"d46ed40a-2915-4a54-80bb-f32b6c33d8e2\",\"type\":\"CDSView\"}},\"id\":\"a66f2460-f782-4709-a009-6ae0f99188f0\",\"type\":\"GlyphRenderer\"},{\"attributes\":{},\"id\":\"7047f87f-314a-4daf-ad23-d3e42cad8ea1\",\"type\":\"BasicTicker\"},{\"attributes\":{\"axis_label\":\"pressure [mb]\",\"formatter\":{\"id\":\"424ac194-9d29-47bd-bb1a-8326239f1bdb\",\"type\":\"LogTickFormatter\"},\"plot\":{\"id\":\"781b7b32-debe-4e4f-a345-47b43d79cb25\",\"subtype\":\"Figure\",\"type\":\"Plot\"},\"ticker\":{\"id\":\"f432a62e-7164-4e4e-842b-c2b17b2e07d6\",\"type\":\"LogTicker\"}},\"id\":\"1a1b115a-3532-4084-9697-4359d076309e\",\"type\":\"LogAxis\"},{\"attributes\":{},\"id\":\"5fc35141-4d49-4e43-9187-c5810858a880\",\"type\":\"LogScale\"},{\"attributes\":{\"source\":{\"id\":\"38996996-fc8f-46fb-a340-cd51c04db9d1\",\"type\":\"ColumnDataSource\"}},\"id\":\"63eb9b65-90dc-4056-9ace-fc107c1a520f\",\"type\":\"CDSView\"},{\"attributes\":{\"overlay\":{\"id\":\"cd50a052-a9bf-448f-8006-08b4b9a5a6c9\",\"type\":\"BoxAnnotation\"}},\"id\":\"4461daf4-8d91-4c05-bfda-53eb48c1037b\",\"type\":\"BoxZoomTool\"},{\"attributes\":{\"source\":{\"id\":\"2b53ff25-f45d-4135-b1d3-c8503f23fbad\",\"type\":\"ColumnDataSource\"}},\"id\":\"e364f47e-d259-4fa9-881b-1e192658b329\",\"type\":\"CDSView\"},{\"attributes\":{\"line_alpha\":0.6,\"line_color\":\"#e41a1c\",\"line_dash\":[6],\"line_width\":5,\"x\":{\"field\":\"x\"},\"y\":{\"field\":\"y\"}},\"id\":\"8656fcc9-7f22-43b8-9d3d-70c8326d455f\",\"type\":\"Line\"},{\"attributes\":{\"line_alpha\":0.1,\"line_color\":\"#1f77b4\",\"line_width\":1.5,\"x\":{\"field\":\"x\"},\"y\":{\"field\":\"y\"}},\"id\":\"d9c34a0a-f66b-4512-b55f-22f06361ccb0\",\"type\":\"Line\"},{\"attributes\":{\"items\":[{\"id\":\"ac704896-f248-4550-94a9-f28e9a575822\",\"type\":\"LegendItem\"},{\"id\":\"b7f1714f-7cc7-485c-8ef4-e3ed660b76d2\",\"type\":\"LegendItem\"},{\"id\":\"eac472b1-29c8-48dc-af00-77d37877de03\",\"type\":\"LegendItem\"}],\"label_text_font_size\":{\"value\":\"8pt\"},\"location\":[10,-30],\"plot\":{\"id\":\"781b7b32-debe-4e4f-a345-47b43d79cb25\",\"subtype\":\"Figure\",\"type\":\"Plot\"}},\"id\":\"d2c21523-87c4-4acd-a664-d2b0752b0d91\",\"type\":\"Legend\"},{\"attributes\":{},\"id\":\"9ec7610d-40f1-4007-98f2-8cf5a8268e20\",\"type\":\"LinearScale\"},{\"attributes\":{},\"id\":\"e6145681-2b3d-4b2f-ad83-f8f63e50f08f\",\"type\":\"PanTool\"},{\"attributes\":{\"fill_alpha\":{\"value\":0.1},\"fill_color\":{\"value\":\"#1f77b4\"},\"line_alpha\":{\"value\":0.1},\"line_color\":{\"value\":\"#1f77b4\"},\"x\":{\"field\":\"x\"},\"y\":{\"field\":\"y\"}},\"id\":\"f9650208-b203-4f7d-82ab-822c0f0e6661\",\"type\":\"Square\"},{\"attributes\":{\"source\":{\"id\":\"f102e371-df3e-443a-86c6-c0f6f6d02f60\",\"type\":\"ColumnDataSource\"}},\"id\":\"d46ed40a-2915-4a54-80bb-f32b6c33d8e2\",\"type\":\"CDSView\"},{\"attributes\":{\"num_minor_ticks\":10},\"id\":\"f432a62e-7164-4e4e-842b-c2b17b2e07d6\",\"type\":\"LogTicker\"},{\"attributes\":{\"callback\":null,\"data\":{\"x\":{\"__ndarray__\":\"VqYNkQxKxr+9wh0PN2zFvw8jHw90X8O/xZX3q5AOwb9xlBzrH8+8vyetCVO58ba/Q4ZOj+htsL9gA+3BjG6iv+yCge9smXW/HcZSqkLinD8kdJpcxGywPzfLK9gTOLo/iwpKBHtCwj8O0zpI8rfGP8S00xC2esk/czr42nAfyz/tSy0RW03MP/0qSUo8EM0/IOLbyZqNzT/b+PrF8zbOPwC12vaLqs8/8vKp6P50yj+tIvvYGMC9P+A6/y26maw/PYMJKSSgnj/hyO7st9iSP6pzdpQHyIY/Sf0iFqTAfj/9xSn1cdB9Px6Hff7VlX4/hgp59YxffD+PZT70HX52P+GD8hT873Q/37U3TFghej9QDkz21+F9P08L6sFI4H8/dx6z/4O9gD9EG/5aM1SAP+MfZFfZfoQ/oJy40kqwiD/bE6bCSMiLP5tQTa2fS4o/ZBOYaXkthT9Pkf1wnu52P1dlPmaZXme/ia3LW06ugL/uweyZn6Fmv5ZZ8FDjM4A/et35ldEqlT8fmsyneKqhP8PDGGPzWak/vAxl8JYasT+RInEby/u0P4V1USPxXLc/j8pxm01AuD+NhDzHSEe4P7xZaxlzFLg/4AXSNVTYtz+exdsvNGS3P2owgYvDfbY/2dIPGHgAtT82QVRHbxqzP5wXB+EXArE/OJ1ZS/IJrj8BuV/uFuGqP6uyA4KDM6k/VBYnD7rRqT8NkS24MWKtP/RnWfurT7E/MlTGslNksj80CxxrCa2vP2xzejywxaU/On0suR5imD8ZgOqSc2iBPwOIJtObHJG/\",\"dtype\":\"float64\",\"shape\":[75]},\"y\":{\"__ndarray__\":\"GhExyth1ND/Sv8nbtpRIP2vylNV0PVE/aTum7souWD/At0SJ8fVgPw3Iuahxymc/MSNhhJWvcD/bTfBN02d3P2zb5nxnaoA/CD5h5MAGhz8NmeH1TyaQP+zrCsc9p5Y/LbKd76fGnz/bLW5ISEmmPww9YvTcQq8/JV2OstnstT8Er5Y7M8G+P0c+r3jqkcU/5h99k6ZBzj88bCIzFzjVP4enV8oyxN0//yH99nXg5D8qOpLLf0jtP5kqGJXUifQ/c9cS8kHP/D+/DpwzojQEQIEmwoanVwxA4lgXt9HgE0BSSZ2AJuIbQAMJih9jjiNA5q4l5INuK0AwTKYKRj0zQNv5fmq8/DpAaCJseHrtQkB/+zpwzoxKQM3MzMzMeFJAZmZmZmZqWEAAAAAAAFxeQM3MzMzMJmJAmpmZmZkfZUBmZmZmZhhoQDMzMzMzEWtAAAAAAAAKbkBmZmZmZoFwQM3MzMzM/XFAMzMzMzN6c0CamZmZmfZ0QAAAAAAAc3ZAZmZmZmbvd0DNzMzMzGt5QDMzMzMz6HpAmpmZmZlkfEAAAAAAAOF9QGZmZmZmXX9AZmZmZuZsgECamZmZGSuBQM3MzMxM6YFAAAAAAICngkAzMzMzs2WDQGZmZmbmI4RAmpmZmRnihEDNzMzMTKCFQAAAAACAXoZAMzMzM7Mch0BmZmZm5tqHQJqZmZkZmYhAzczMzExXiUAAAAAAgBWKQDMzMzOz04pAZmZmZuaRi0CamZmZGVCMQM3MzMxMDo1AAAAAAIDMjUAzMzMzs4qOQGZmZmbmSI9A\",\"dtype\":\"float64\",\"shape\":[75]}},\"selected\":{\"id\":\"111bcac2-a6a7-4270-b90e-f29398f83632\",\"type\":\"Selection\"},\"selection_policy\":{\"id\":\"d723da97-929a-440e-9175-7f7e67fc229f\",\"type\":\"UnionRenderers\"}},\"id\":\"2b53ff25-f45d-4135-b1d3-c8503f23fbad\",\"type\":\"ColumnDataSource\"},{\"attributes\":{\"callback\":null,\"data\":{\"x\":{\"__ndarray__\":\"VqYNkQxKxr+9wh0PN2zFvw8jHw90X8O/xZX3q5AOwb9xlBzrH8+8vyetCVO58ba/Q4ZOj+htsL9gA+3BjG6iv+yCge9smXW/HcZSqkLinD8kdJpcxGywPzfLK9gTOLo/iwpKBHtCwj8O0zpI8rfGP8S00xC2esk/czr42nAfyz/tSy0RW03MP/0qSUo8EM0/IOLbyZqNzT/b+PrF8zbOPwC12vaLqs8/8vKp6P50yj+tIvvYGMC9P+A6/y26maw/PYMJKSSgnj/hyO7st9iSP6pzdpQHyIY/Sf0iFqTAfj/9xSn1cdB9Px6Hff7VlX4/hgp59YxffD+PZT70HX52P+GD8hT873Q/37U3TFghej9QDkz21+F9P08L6sFI4H8/dx6z/4O9gD9EG/5aM1SAP+MfZFfZfoQ/oJy40kqwiD/bE6bCSMiLP5tQTa2fS4o/ZBOYaXkthT9Pkf1wnu52P1dlPmaZXme/ia3LW06ugL/uweyZn6Fmv5ZZ8FDjM4A/et35ldEqlT8fmsyneKqhP8PDGGPzWak/vAxl8JYasT+RInEby/u0P4V1USPxXLc/j8pxm01AuD+NhDzHSEe4P7xZaxlzFLg/4AXSNVTYtz+exdsvNGS3P2owgYvDfbY/2dIPGHgAtT82QVRHbxqzP5wXB+EXArE/OJ1ZS/IJrj8BuV/uFuGqP6uyA4KDM6k/VBYnD7rRqT8NkS24MWKtP/RnWfurT7E/MlTGslNksj80CxxrCa2vP2xzejywxaU/On0suR5imD8ZgOqSc2iBPwOIJtObHJG/\",\"dtype\":\"float64\",\"shape\":[75]},\"y\":{\"__ndarray__\":\"GhExyth1ND/Sv8nbtpRIP2vylNV0PVE/aTum7souWD/At0SJ8fVgPw3Iuahxymc/MSNhhJWvcD/bTfBN02d3P2zb5nxnaoA/CD5h5MAGhz8NmeH1TyaQP+zrCsc9p5Y/LbKd76fGnz/bLW5ISEmmPww9YvTcQq8/JV2OstnstT8Er5Y7M8G+P0c+r3jqkcU/5h99k6ZBzj88bCIzFzjVP4enV8oyxN0//yH99nXg5D8qOpLLf0jtP5kqGJXUifQ/c9cS8kHP/D+/DpwzojQEQIEmwoanVwxA4lgXt9HgE0BSSZ2AJuIbQAMJih9jjiNA5q4l5INuK0AwTKYKRj0zQNv5fmq8/DpAaCJseHrtQkB/+zpwzoxKQM3MzMzMeFJAZmZmZmZqWEAAAAAAAFxeQM3MzMzMJmJAmpmZmZkfZUBmZmZmZhhoQDMzMzMzEWtAAAAAAAAKbkBmZmZmZoFwQM3MzMzM/XFAMzMzMzN6c0CamZmZmfZ0QAAAAAAAc3ZAZmZmZmbvd0DNzMzMzGt5QDMzMzMz6HpAmpmZmZlkfEAAAAAAAOF9QGZmZmZmXX9AZmZmZuZsgECamZmZGSuBQM3MzMxM6YFAAAAAAICngkAzMzMzs2WDQGZmZmbmI4RAmpmZmRnihEDNzMzMTKCFQAAAAACAXoZAMzMzM7Mch0BmZmZm5tqHQJqZmZkZmYhAzczMzExXiUAAAAAAgBWKQDMzMzOz04pAZmZmZuaRi0CamZmZGVCMQM3MzMxMDo1AAAAAAIDMjUAzMzMzs4qOQGZmZmbmSI9A\",\"dtype\":\"float64\",\"shape\":[75]}},\"selected\":{\"id\":\"76bed6cd-7864-4a4c-8d4b-2b04dbdcbf31\",\"type\":\"Selection\"},\"selection_policy\":{\"id\":\"1ad14b10-a28d-4a87-aa1b-4fbc67438304\",\"type\":\"UnionRenderers\"}},\"id\":\"6f382ca5-48a9-4565-aa54-81eb26aa0f7f\",\"type\":\"ColumnDataSource\"},{\"attributes\":{\"fill_alpha\":{\"value\":0.7},\"fill_color\":{\"value\":\"#984ea3\"},\"line_alpha\":{\"value\":0.7},\"line_color\":{\"value\":\"#984ea3\"},\"x\":{\"field\":\"x\"},\"y\":{\"field\":\"y\"}},\"id\":\"67a30e3c-fb77-45ad-983b-ee5b58392984\",\"type\":\"Square\"},{\"attributes\":{\"line_alpha\":0.6,\"line_color\":\"#984ea3\",\"line_width\":3,\"x\":{\"field\":\"x\"},\"y\":{\"field\":\"y\"}},\"id\":\"ca868704-965b-4fb3-ab7b-1a3fb8be7a90\",\"type\":\"Line\"},{\"attributes\":{\"callback\":null,\"data\":{\"x\":{\"__ndarray__\":\"5UIGbrTOyb/fxkU5wczIv/F2jETLLsa/NL2jSr08w7/GYw6bK/e/v+s7Jwy20Li/Y1bC77MFsb/YQesC2i2hv3ZhTWCYHl0/9mxB4mMfpD/QCeOfACe0P/6ZIG53pL4/diKY1QGxxD8qK5fXWxTJP19NVCWAUcs/PN4/cVs2zD8JxqCXeqvMPwojSVLK0sw/5SFbr0zszD9+RUzDz4PNPwwEATJ0bM8/o5ZBEHt8yj9Rrt8Cv/y9P5Y5eWtCVa0/87FYFo4Ynj97ShVfyWKQPyN9z1L2uYE/jr70QCyeeD+tfidQ/ah6P4x7c8A1hXs/eeXLIkwFeD9ope24EbFxP7Nthg80PHA/JSb2uev/dD/SEUtSqiB5P31IIKet5nw/Bp6tkvcJgD93OA/d66F/P0Z/vuaCHoM/QLTLwbAfhT94WdSmOK6FPwxDPWQePoM//A56BU0Dfj9TKGA684tvP9LUr49uRmW/zBoNQOnbeL/89EUAnqgDPyAUek6Re4Y/MxUkrkq/mj+vOc0j+/emP74vcHE70a8/Lz0qlgyUsz+5d7RBi0S2P4ABmapv8bc/vvj4PRexuD/dPSwT/6m4PxZQEIsEErg/B3oLmH4Rtz/pUgOdrsa1P9pqKhltRrQ/xZSjWwqjsj+k73UfbvGwP6IZpfq3k64/dFRwo8Ggqz/w03QawmGpPwaWMI4iT6g/mAvMcigvqT/6gyN23cOsP7ae9ptW+LA/eJBaBYoIsj+9uCckpv+uP9/Upx9LVKU/MXVSvQd4mD8YbTIDxSqEP19JGiWtzY6/\",\"dtype\":\"float64\",\"shape\":[75]},\"y\":{\"__ndarray__\":\"GhExyth1ND/Sv8nbtpRIP2vylNV0PVE/aTum7souWD/At0SJ8fVgPw3Iuahxymc/MSNhhJWvcD/bTfBN02d3P2zb5nxnaoA/CD5h5MAGhz8NmeH1TyaQP+zrCsc9p5Y/LbKd76fGnz/bLW5ISEmmPww9YvTcQq8/JV2OstnstT8Er5Y7M8G+P0c+r3jqkcU/5h99k6ZBzj88bCIzFzjVP4enV8oyxN0//yH99nXg5D8qOpLLf0jtP5kqGJXUifQ/c9cS8kHP/D+/DpwzojQEQIEmwoanVwxA4lgXt9HgE0BSSZ2AJuIbQAMJih9jjiNA5q4l5INuK0AwTKYKRj0zQNv5fmq8/DpAaCJseHrtQkB/+zpwzoxKQM3MzMzMeFJAZmZmZmZqWEAAAAAAAFxeQM3MzMzMJmJAmpmZmZkfZUBmZmZmZhhoQDMzMzMzEWtAAAAAAAAKbkBmZmZmZoFwQM3MzMzM/XFAMzMzMzN6c0CamZmZmfZ0QAAAAAAAc3ZAZmZmZmbvd0DNzMzMzGt5QDMzMzMz6HpAmpmZmZlkfEAAAAAAAOF9QGZmZmZmXX9AZmZmZuZsgECamZmZGSuBQM3MzMxM6YFAAAAAAICngkAzMzMzs2WDQGZmZmbmI4RAmpmZmRnihEDNzMzMTKCFQAAAAACAXoZAMzMzM7Mch0BmZmZm5tqHQJqZmZkZmYhAzczMzExXiUAAAAAAgBWKQDMzMzOz04pAZmZmZuaRi0CamZmZGVCMQM3MzMxMDo1AAAAAAIDMjUAzMzMzs4qOQGZmZmbmSI9A\",\"dtype\":\"float64\",\"shape\":[75]}},\"selected\":{\"id\":\"75eae177-22d7-4b5a-9190-4d680f4bcbbb\",\"type\":\"Selection\"},\"selection_policy\":{\"id\":\"660404e6-e45f-4fd9-81d8-1f04d2e43abb\",\"type\":\"UnionRenderers\"}},\"id\":\"38996996-fc8f-46fb-a340-cd51c04db9d1\",\"type\":\"ColumnDataSource\"},{\"attributes\":{\"data_source\":{\"id\":\"2b53ff25-f45d-4135-b1d3-c8503f23fbad\",\"type\":\"ColumnDataSource\"},\"glyph\":{\"id\":\"67a30e3c-fb77-45ad-983b-ee5b58392984\",\"type\":\"Square\"},\"hover_glyph\":null,\"muted_glyph\":null,\"nonselection_glyph\":{\"id\":\"f9650208-b203-4f7d-82ab-822c0f0e6661\",\"type\":\"Square\"},\"selection_glyph\":null,\"view\":{\"id\":\"e364f47e-d259-4fa9-881b-1e192658b329\",\"type\":\"CDSView\"}},\"id\":\"d0399585-366b-4fc7-83f4-e39eac5a0a88\",\"type\":\"GlyphRenderer\"},{\"attributes\":{\"callback\":null,\"data\":{\"x\":{\"__ndarray__\":\"VqYNkQxKxr+9wh0PN2zFvw8jHw90X8O/xZX3q5AOwb9xlBzrH8+8vyetCVO58ba/Q4ZOj+htsL9gA+3BjG6iv+yCge9smXW/HcZSqkLinD8kdJpcxGywPzfLK9gTOLo/iwpKBHtCwj8O0zpI8rfGP8S00xC2esk/czr42nAfyz/tSy0RW03MP/0qSUo8EM0/IOLbyZqNzT/b+PrF8zbOPwC12vaLqs8/8vKp6P50yj+tIvvYGMC9P+A6/y26maw/PYMJKSSgnj/hyO7st9iSP6pzdpQHyIY/Sf0iFqTAfj/9xSn1cdB9Px6Hff7VlX4/hgp59YxffD+PZT70HX52P+GD8hT873Q/37U3TFghej9QDkz21+F9P08L6sFI4H8/dx6z/4O9gD9EG/5aM1SAP+MfZFfZfoQ/oJy40kqwiD/bE6bCSMiLP5tQTa2fS4o/ZBOYaXkthT9Pkf1wnu52P1dlPmaZXme/ia3LW06ugL/uweyZn6Fmv5ZZ8FDjM4A/et35ldEqlT8fmsyneKqhP8PDGGPzWak/vAxl8JYasT+RInEby/u0P4V1USPxXLc/j8pxm01AuD+NhDzHSEe4P7xZaxlzFLg/4AXSNVTYtz+exdsvNGS3P2owgYvDfbY/2dIPGHgAtT82QVRHbxqzP5wXB+EXArE/OJ1ZS/IJrj8BuV/uFuGqP6uyA4KDM6k/VBYnD7rRqT8NkS24MWKtP/RnWfurT7E/MlTGslNksj80CxxrCa2vP2xzejywxaU/On0suR5imD8ZgOqSc2iBPwOIJtObHJG/\",\"dtype\":\"float64\",\"shape\":[75]},\"y\":{\"__ndarray__\":\"GhExyth1ND/Sv8nbtpRIP2vylNV0PVE/aTum7souWD/At0SJ8fVgPw3Iuahxymc/MSNhhJWvcD/bTfBN02d3P2zb5nxnaoA/CD5h5MAGhz8NmeH1TyaQP+zrCsc9p5Y/LbKd76fGnz/bLW5ISEmmPww9YvTcQq8/JV2OstnstT8Er5Y7M8G+P0c+r3jqkcU/5h99k6ZBzj88bCIzFzjVP4enV8oyxN0//yH99nXg5D8qOpLLf0jtP5kqGJXUifQ/c9cS8kHP/D+/DpwzojQEQIEmwoanVwxA4lgXt9HgE0BSSZ2AJuIbQAMJih9jjiNA5q4l5INuK0AwTKYKRj0zQNv5fmq8/DpAaCJseHrtQkB/+zpwzoxKQM3MzMzMeFJAZmZmZmZqWEAAAAAAAFxeQM3MzMzMJmJAmpmZmZkfZUBmZmZmZhhoQDMzMzMzEWtAAAAAAAAKbkBmZmZmZoFwQM3MzMzM/XFAMzMzMzN6c0CamZmZmfZ0QAAAAAAAc3ZAZmZmZmbvd0DNzMzMzGt5QDMzMzMz6HpAmpmZmZlkfEAAAAAAAOF9QGZmZmZmXX9AZmZmZuZsgECamZmZGSuBQM3MzMxM6YFAAAAAAICngkAzMzMzs2WDQGZmZmbmI4RAmpmZmRnihEDNzMzMTKCFQAAAAACAXoZAMzMzM7Mch0BmZmZm5tqHQJqZmZkZmYhAzczMzExXiUAAAAAAgBWKQDMzMzOz04pAZmZmZuaRi0CamZmZGVCMQM3MzMxMDo1AAAAAAIDMjUAzMzMzs4qOQGZmZmbmSI9A\",\"dtype\":\"float64\",\"shape\":[75]}},\"selected\":{\"id\":\"17eb7205-0bf1-4eb4-8192-48f417042c5a\",\"type\":\"Selection\"},\"selection_policy\":{\"id\":\"48450543-9150-4837-92d6-ac5ba11babaf\",\"type\":\"UnionRenderers\"}},\"id\":\"bea2c247-8cf9-4407-9d38-c5541f55fce7\",\"type\":\"ColumnDataSource\"},{\"attributes\":{\"plot\":null,\"text\":\"Log pressure scale\"},\"id\":\"d4be3d5e-e291-4ebf-a763-3794e33fd01a\",\"type\":\"Title\"},{\"attributes\":{\"axis_label\":\"cooling rate [K/day]\",\"formatter\":{\"id\":\"249ed4a2-efd6-457c-a8d6-d7bf5494d29e\",\"type\":\"BasicTickFormatter\"},\"plot\":{\"id\":\"781b7b32-debe-4e4f-a345-47b43d79cb25\",\"subtype\":\"Figure\",\"type\":\"Plot\"},\"ticker\":{\"id\":\"7047f87f-314a-4daf-ad23-d3e42cad8ea1\",\"type\":\"BasicTicker\"}},\"id\":\"4ce362ca-d28a-4d5f-8cde-c79743661083\",\"type\":\"LinearAxis\"},{\"attributes\":{\"source\":{\"id\":\"ee93997f-3062-4716-a70e-7c4111957401\",\"type\":\"ColumnDataSource\"}},\"id\":\"d4dfd981-e594-4073-9574-bed562325948\",\"type\":\"CDSView\"},{\"attributes\":{\"fill_alpha\":{\"value\":0.1},\"fill_color\":{\"value\":\"#1f77b4\"},\"line_alpha\":{\"value\":0.1},\"line_color\":{\"value\":\"#1f77b4\"},\"x\":{\"field\":\"x\"},\"y\":{\"field\":\"y\"}},\"id\":\"32d249ae-e808-4e4a-98d8-bcf2fbc71819\",\"type\":\"Square\"},{\"attributes\":{\"plot\":{\"id\":\"781b7b32-debe-4e4f-a345-47b43d79cb25\",\"subtype\":\"Figure\",\"type\":\"Plot\"},\"ticker\":{\"id\":\"7047f87f-314a-4daf-ad23-d3e42cad8ea1\",\"type\":\"BasicTicker\"}},\"id\":\"2c717f40-0791-406c-9de1-fe6a19ea5d7a\",\"type\":\"Grid\"},{\"attributes\":{},\"id\":\"388be82d-d066-4b8b-8439-e3fffe093f63\",\"type\":\"WheelZoomTool\"},{\"attributes\":{\"callback\":null,\"end\":0.25068012725600003,\"start\":0.001520927144},\"id\":\"fb5a9bf6-a664-4e80-b1e3-0e4263f80dce\",\"type\":\"Range1d\"},{\"attributes\":{},\"id\":\"0b021aa1-41db-479a-86db-ac8ac82fde4a\",\"type\":\"HelpTool\"},{\"attributes\":{\"data_source\":{\"id\":\"ee93997f-3062-4716-a70e-7c4111957401\",\"type\":\"ColumnDataSource\"},\"glyph\":{\"id\":\"d8eeed38-69fa-4b4c-ab82-afc61dadf8e8\",\"type\":\"Circle\"},\"hover_glyph\":null,\"muted_glyph\":null,\"nonselection_glyph\":{\"id\":\"d57c21af-c8e9-4f83-9d28-71b26948a550\",\"type\":\"Circle\"},\"selection_glyph\":null,\"view\":{\"id\":\"d4dfd981-e594-4073-9574-bed562325948\",\"type\":\"CDSView\"}},\"id\":\"dfc4d55b-4d61-4254-8f6e-8cbea9071d11\",\"type\":\"GlyphRenderer\"},{\"attributes\":{},\"id\":\"08108db9-1301-472f-ad92-5fe01b465dcf\",\"type\":\"SaveTool\"},{\"attributes\":{\"fill_alpha\":{\"value\":0.1},\"fill_color\":{\"value\":\"#1f77b4\"},\"line_alpha\":{\"value\":0.1},\"line_color\":{\"value\":\"#1f77b4\"},\"x\":{\"field\":\"x\"},\"y\":{\"field\":\"y\"}},\"id\":\"d57c21af-c8e9-4f83-9d28-71b26948a550\",\"type\":\"Circle\"}],\"root_ids\":[\"6919db4e-de26-44ad-82fe-2c0f25be82e6\"]},\"title\":\"Bokeh Application\",\"version\":\"0.12.16\"}};\n",
       "  var render_items = [{\"docid\":\"7eef3d80-40cd-44e1-b840-330eb4f0a00a\",\"elementid\":\"b00095ad-fc1d-46a8-87ed-8f3366743176\",\"modelid\":\"6919db4e-de26-44ad-82fe-2c0f25be82e6\"}];\n",
       "  root.Bokeh.embed.embed_items_notebook(docs_json, render_items);\n",
       "\n",
       "  }\n",
       "  if (root.Bokeh !== undefined) {\n",
       "    embed_document(root);\n",
       "  } else {\n",
       "    var attempts = 0;\n",
       "    var timer = setInterval(function(root) {\n",
       "      if (root.Bokeh !== undefined) {\n",
       "        embed_document(root);\n",
       "        clearInterval(timer);\n",
       "      }\n",
       "      attempts++;\n",
       "      if (attempts > 100) {\n",
       "        console.log(\"Bokeh: ERROR: Unable to run BokehJS code because BokehJS library is missing\")\n",
       "        clearInterval(timer);\n",
       "      }\n",
       "    }, 10, root)\n",
       "  }\n",
       "})(window);"
      ],
      "application/vnd.bokehjs_exec.v0+json": ""
     },
     "metadata": {
      "application/vnd.bokehjs_exec.v0+json": {
       "id": "6919db4e-de26-44ad-82fe-2c0f25be82e6"
      }
     },
     "output_type": "display_data"
    },
    {
     "name": "stdout",
     "output_type": "stream",
     "text": [
      "FIGURE. Cooling rate profiles.\n"
     ]
    },
    {
     "data": {
      "text/html": [
       "<a id=\"Flux_Comparison\"></a>"
      ],
      "text/plain": [
       "<IPython.core.display.HTML object>"
      ]
     },
     "metadata": {},
     "output_type": "display_data"
    },
    {
     "data": {
      "text/markdown": [
       "# Flux Comparison"
      ],
      "text/plain": [
       "<IPython.core.display.Markdown object>"
      ]
     },
     "metadata": {},
     "output_type": "display_data"
    },
    {
     "data": {
      "text/html": [
       "<div>\n",
       "<style scoped>\n",
       "    .dataframe tbody tr th:only-of-type {\n",
       "        vertical-align: middle;\n",
       "    }\n",
       "\n",
       "    .dataframe tbody tr th {\n",
       "        vertical-align: top;\n",
       "    }\n",
       "\n",
       "    .dataframe thead th {\n",
       "        text-align: right;\n",
       "    }\n",
       "</style>\n",
       "<table border=\"1\" class=\"dataframe\">\n",
       "  <thead>\n",
       "    <tr style=\"text-align: right;\">\n",
       "      <th></th>\n",
       "      <th></th>\n",
       "      <th>flug</th>\n",
       "      <th>fldg</th>\n",
       "      <th>fnetg</th>\n",
       "    </tr>\n",
       "    <tr>\n",
       "      <th>pressure</th>\n",
       "      <th>level</th>\n",
       "      <th></th>\n",
       "      <th></th>\n",
       "      <th></th>\n",
       "    </tr>\n",
       "  </thead>\n",
       "  <tbody>\n",
       "    <tr>\n",
       "      <th>0.0000</th>\n",
       "      <th>1</th>\n",
       "      <td>-4.883807</td>\n",
       "      <td>0.000000</td>\n",
       "      <td>-4.883807</td>\n",
       "    </tr>\n",
       "    <tr>\n",
       "      <th>1.0685</th>\n",
       "      <th>24</th>\n",
       "      <td>-4.877047</td>\n",
       "      <td>0.017023</td>\n",
       "      <td>-4.860024</td>\n",
       "    </tr>\n",
       "    <tr>\n",
       "      <th>1013.0000</th>\n",
       "      <th>76</th>\n",
       "      <td>-10.181441</td>\n",
       "      <td>10.209751</td>\n",
       "      <td>0.028310</td>\n",
       "    </tr>\n",
       "  </tbody>\n",
       "</table>\n",
       "</div>"
      ],
      "text/plain": [
       "                      flug       fldg     fnetg\n",
       "pressure  level                                \n",
       "0.0000    1      -4.883807   0.000000 -4.883807\n",
       "1.0685    24     -4.877047   0.017023 -4.860024\n",
       "1013.0000 76    -10.181441  10.209751  0.028310"
      ]
     },
     "metadata": {},
     "output_type": "display_data"
    },
    {
     "name": "stdout",
     "output_type": "stream",
     "text": [
      "Table. Fluxes. CRD\n"
     ]
    },
    {
     "data": {
      "text/html": [
       "<div>\n",
       "<style scoped>\n",
       "    .dataframe tbody tr th:only-of-type {\n",
       "        vertical-align: middle;\n",
       "    }\n",
       "\n",
       "    .dataframe tbody tr th {\n",
       "        vertical-align: top;\n",
       "    }\n",
       "\n",
       "    .dataframe thead th {\n",
       "        text-align: right;\n",
       "    }\n",
       "</style>\n",
       "<table border=\"1\" class=\"dataframe\">\n",
       "  <thead>\n",
       "    <tr style=\"text-align: right;\">\n",
       "      <th></th>\n",
       "      <th></th>\n",
       "      <th>flug</th>\n",
       "      <th>fldg</th>\n",
       "      <th>fnetg</th>\n",
       "    </tr>\n",
       "    <tr>\n",
       "      <th>pressure</th>\n",
       "      <th>level</th>\n",
       "      <th></th>\n",
       "      <th></th>\n",
       "      <th></th>\n",
       "    </tr>\n",
       "  </thead>\n",
       "  <tbody>\n",
       "    <tr>\n",
       "      <th>0.0000</th>\n",
       "      <th>1</th>\n",
       "      <td>-4.918822</td>\n",
       "      <td>0.000000</td>\n",
       "      <td>-4.918822</td>\n",
       "    </tr>\n",
       "    <tr>\n",
       "      <th>1.0685</th>\n",
       "      <th>24</th>\n",
       "      <td>-4.911915</td>\n",
       "      <td>0.016845</td>\n",
       "      <td>-4.895070</td>\n",
       "    </tr>\n",
       "    <tr>\n",
       "      <th>1013.0000</th>\n",
       "      <th>76</th>\n",
       "      <td>-10.181441</td>\n",
       "      <td>10.223037</td>\n",
       "      <td>0.041596</td>\n",
       "    </tr>\n",
       "  </tbody>\n",
       "</table>\n",
       "</div>"
      ],
      "text/plain": [
       "                      flug       fldg     fnetg\n",
       "pressure  level                                \n",
       "0.0000    1      -4.918822   0.000000 -4.918822\n",
       "1.0685    24     -4.911915   0.016845 -4.895070\n",
       "1013.0000 76    -10.181441  10.223037  0.041596"
      ]
     },
     "metadata": {},
     "output_type": "display_data"
    },
    {
     "name": "stdout",
     "output_type": "stream",
     "text": [
      "Table. Fluxes. WGT igg=10 wgt_flux=1\n"
     ]
    },
    {
     "data": {
      "text/html": [
       "<div>\n",
       "<style scoped>\n",
       "    .dataframe tbody tr th:only-of-type {\n",
       "        vertical-align: middle;\n",
       "    }\n",
       "\n",
       "    .dataframe tbody tr th {\n",
       "        vertical-align: top;\n",
       "    }\n",
       "\n",
       "    .dataframe thead th {\n",
       "        text-align: right;\n",
       "    }\n",
       "</style>\n",
       "<table border=\"1\" class=\"dataframe\">\n",
       "  <thead>\n",
       "    <tr style=\"text-align: right;\">\n",
       "      <th></th>\n",
       "      <th></th>\n",
       "      <th>flug</th>\n",
       "      <th>fldg</th>\n",
       "      <th>fnetg</th>\n",
       "    </tr>\n",
       "    <tr>\n",
       "      <th>pressure</th>\n",
       "      <th>level</th>\n",
       "      <th></th>\n",
       "      <th></th>\n",
       "      <th></th>\n",
       "    </tr>\n",
       "  </thead>\n",
       "  <tbody>\n",
       "    <tr>\n",
       "      <th>1.000000e-08</th>\n",
       "      <th>1</th>\n",
       "      <td>-4.889013</td>\n",
       "      <td>1.999387e-09</td>\n",
       "      <td>-4.889013</td>\n",
       "    </tr>\n",
       "    <tr>\n",
       "      <th>1.068500e+00</th>\n",
       "      <th>24</th>\n",
       "      <td>-4.882101</td>\n",
       "      <td>1.659400e-02</td>\n",
       "      <td>-4.865507</td>\n",
       "    </tr>\n",
       "    <tr>\n",
       "      <th>1.013000e+03</th>\n",
       "      <th>76</th>\n",
       "      <td>-10.181440</td>\n",
       "      <td>1.024633e+01</td>\n",
       "      <td>0.064885</td>\n",
       "    </tr>\n",
       "  </tbody>\n",
       "</table>\n",
       "</div>"
      ],
      "text/plain": [
       "                         flug          fldg     fnetg\n",
       "pressure     level                                   \n",
       "1.000000e-08 1      -4.889013  1.999387e-09 -4.889013\n",
       "1.068500e+00 24     -4.882101  1.659400e-02 -4.865507\n",
       "1.013000e+03 76    -10.181440  1.024633e+01  0.064885"
      ]
     },
     "metadata": {},
     "output_type": "display_data"
    },
    {
     "name": "stdout",
     "output_type": "stream",
     "text": [
      "Table. Fluxes. CLIRAD\n"
     ]
    },
    {
     "data": {
      "text/html": [
       "<div>\n",
       "<style scoped>\n",
       "    .dataframe tbody tr th:only-of-type {\n",
       "        vertical-align: middle;\n",
       "    }\n",
       "\n",
       "    .dataframe tbody tr th {\n",
       "        vertical-align: top;\n",
       "    }\n",
       "\n",
       "    .dataframe thead th {\n",
       "        text-align: right;\n",
       "    }\n",
       "</style>\n",
       "<table border=\"1\" class=\"dataframe\">\n",
       "  <thead>\n",
       "    <tr style=\"text-align: right;\">\n",
       "      <th></th>\n",
       "      <th></th>\n",
       "      <th>flug</th>\n",
       "      <th>fldg</th>\n",
       "      <th>fnetg</th>\n",
       "    </tr>\n",
       "    <tr>\n",
       "      <th>pressure</th>\n",
       "      <th>level</th>\n",
       "      <th></th>\n",
       "      <th></th>\n",
       "      <th></th>\n",
       "    </tr>\n",
       "  </thead>\n",
       "  <tbody>\n",
       "    <tr>\n",
       "      <th>0.0000</th>\n",
       "      <th>1</th>\n",
       "      <td>-3.501474e-02</td>\n",
       "      <td>0.000000</td>\n",
       "      <td>-0.035015</td>\n",
       "    </tr>\n",
       "    <tr>\n",
       "      <th>1.0685</th>\n",
       "      <th>24</th>\n",
       "      <td>-3.486865e-02</td>\n",
       "      <td>-0.000178</td>\n",
       "      <td>-0.035047</td>\n",
       "    </tr>\n",
       "    <tr>\n",
       "      <th>1013.0000</th>\n",
       "      <th>76</th>\n",
       "      <td>1.370000e-07</td>\n",
       "      <td>0.013286</td>\n",
       "      <td>0.013286</td>\n",
       "    </tr>\n",
       "  </tbody>\n",
       "</table>\n",
       "</div>"
      ],
      "text/plain": [
       "                         flug      fldg     fnetg\n",
       "pressure  level                                  \n",
       "0.0000    1     -3.501474e-02  0.000000 -0.035015\n",
       "1.0685    24    -3.486865e-02 -0.000178 -0.035047\n",
       "1013.0000 76     1.370000e-07  0.013286  0.013286"
      ]
     },
     "metadata": {},
     "output_type": "display_data"
    },
    {
     "name": "stdout",
     "output_type": "stream",
     "text": [
      "Table. Fluxes. (WGT igg=10 wgt_flux=1) - (CRD)\n"
     ]
    },
    {
     "data": {
      "text/html": [
       "<div>\n",
       "<style scoped>\n",
       "    .dataframe tbody tr th:only-of-type {\n",
       "        vertical-align: middle;\n",
       "    }\n",
       "\n",
       "    .dataframe tbody tr th {\n",
       "        vertical-align: top;\n",
       "    }\n",
       "\n",
       "    .dataframe thead th {\n",
       "        text-align: right;\n",
       "    }\n",
       "</style>\n",
       "<table border=\"1\" class=\"dataframe\">\n",
       "  <thead>\n",
       "    <tr style=\"text-align: right;\">\n",
       "      <th></th>\n",
       "      <th></th>\n",
       "      <th>flug</th>\n",
       "      <th>fldg</th>\n",
       "      <th>fnetg</th>\n",
       "    </tr>\n",
       "    <tr>\n",
       "      <th>pressure</th>\n",
       "      <th>level</th>\n",
       "      <th></th>\n",
       "      <th></th>\n",
       "      <th></th>\n",
       "    </tr>\n",
       "  </thead>\n",
       "  <tbody>\n",
       "    <tr>\n",
       "      <th>0.0000</th>\n",
       "      <th>1</th>\n",
       "      <td>-5.205600e-03</td>\n",
       "      <td>1.999387e-09</td>\n",
       "      <td>-0.005206</td>\n",
       "    </tr>\n",
       "    <tr>\n",
       "      <th>1.0685</th>\n",
       "      <th>24</th>\n",
       "      <td>-5.054500e-03</td>\n",
       "      <td>-4.291810e-04</td>\n",
       "      <td>-0.005484</td>\n",
       "    </tr>\n",
       "    <tr>\n",
       "      <th>1013.0000</th>\n",
       "      <th>76</th>\n",
       "      <td>1.000000e-06</td>\n",
       "      <td>3.657400e-02</td>\n",
       "      <td>0.036575</td>\n",
       "    </tr>\n",
       "  </tbody>\n",
       "</table>\n",
       "</div>"
      ],
      "text/plain": [
       "                         flug          fldg     fnetg\n",
       "pressure  level                                      \n",
       "0.0000    1     -5.205600e-03  1.999387e-09 -0.005206\n",
       "1.0685    24    -5.054500e-03 -4.291810e-04 -0.005484\n",
       "1013.0000 76     1.000000e-06  3.657400e-02  0.036575"
      ]
     },
     "metadata": {},
     "output_type": "display_data"
    },
    {
     "name": "stdout",
     "output_type": "stream",
     "text": [
      "Table. Fluxes. (CLIRAD) - (CRD)\n"
     ]
    },
    {
     "data": {
      "text/html": [
       "<a id=\"Best-fit_Parameters\"></a>"
      ],
      "text/plain": [
       "<IPython.core.display.HTML object>"
      ]
     },
     "metadata": {},
     "output_type": "display_data"
    },
    {
     "data": {
      "text/markdown": [
       "# Best-fit Parameters"
      ],
      "text/plain": [
       "<IPython.core.display.Markdown object>"
      ]
     },
     "metadata": {},
     "output_type": "display_data"
    },
    {
     "name": "stdout",
     "output_type": "stream",
     "text": [
      "Best-fit values for each (gas, band)\n",
      "------------------------------------\n",
      "o h2o band8\n",
      "  atmpro = mls\n",
      "  band = 8\n",
      "  commitnumber = a06b618\n",
      "  conc = None\n",
      "  dv = 0.001\n",
      "  klin = 0\n",
      "  molecule = h2o\n",
      "  ng_adju = [0, -1, 0]\n",
      "  ng_refs = [3, 2, 3]\n",
      "  nv = 1000\n",
      "  option_compute_btable = 0\n",
      "  option_compute_ktable = 1\n",
      "  option_wgt_flux = 1\n",
      "  option_wgt_k = 1\n",
      "  ref_pts = [(1, 250), (10, 250), (500, 250)]\n",
      "  tsfc = 294\n",
      "  vmax = 1900\n",
      "  vmin = 1380\n",
      "  w_diffuse = [(1.66, 1.66, 1.66), (1.66, 1.66), (1.66, 1.66, 1.66)]\n",
      "  wgt = [(0.55, 0.55, 0.85), (0.85, 0.85), (0, 0.3, 0.55)]\n"
     ]
    }
   ],
   "source": [
    "script()"
   ]
  },
  {
   "cell_type": "code",
   "execution_count": 13,
   "metadata": {
    "collapsed": true
   },
   "outputs": [
    {
     "data": {
      "text/html": [
       "<script>\n",
       "code_show=true; \n",
       "function code_toggle() {\n",
       " if (code_show){\n",
       " $('div.input').hide();\n",
       " } else {\n",
       " $('div.input').show();\n",
       " }\n",
       " code_show = !code_show\n",
       "} \n",
       "$( document ).ready(code_toggle);\n",
       "</script>\n",
       "<form action=\"javascript:code_toggle()\"><input type=\"submit\" value=\"Click here to toggle on/off the raw code.\"></form>"
      ],
      "text/plain": [
       "<IPython.core.display.HTML object>"
      ]
     },
     "execution_count": 13,
     "metadata": {},
     "output_type": "execute_result"
    }
   ],
   "source": [
    "display.HTML('''<script>\n",
    "code_show=true; \n",
    "function code_toggle() {\n",
    " if (code_show){\n",
    " $('div.input').hide();\n",
    " } else {\n",
    " $('div.input').show();\n",
    " }\n",
    " code_show = !code_show\n",
    "} \n",
    "$( document ).ready(code_toggle);\n",
    "</script>\n",
    "<form action=\"javascript:code_toggle()\"><input type=\"submit\" value=\"Click here to toggle on/off the raw code.\"></form>''')"
   ]
  }
 ],
 "metadata": {
  "kernelspec": {
   "display_name": "Python 3",
   "language": "python",
   "name": "python3"
  },
  "language_info": {
   "codemirror_mode": {
    "name": "ipython",
    "version": 3
   },
   "file_extension": ".py",
   "mimetype": "text/x-python",
   "name": "python",
   "nbconvert_exporter": "python",
   "pygments_lexer": "ipython3",
   "version": "3.6.1"
  }
 },
 "nbformat": 4,
 "nbformat_minor": 2
}
