{
 "cells": [
  {
   "cell_type": "code",
   "execution_count": 1,
   "metadata": {
    "collapsed": true
   },
   "outputs": [
    {
     "name": "stdout",
     "output_type": "stream",
     "text": [
      "The history saving thread hit an unexpected error (OperationalError('database is locked',)).History will not be written to the database.\n"
     ]
    }
   ],
   "source": [
    "%matplotlib inline\n",
    "import os\n",
    "import re\n",
    "import io\n",
    "import itertools\n",
    "import pprint\n",
    "\n",
    "from bokeh.io import output_notebook, show\n",
    "from bokeh.layouts import gridplot\n",
    "from bokeh.plotting import figure\n",
    "from bokeh.models import Range1d, Legend\n",
    "from bokeh.palettes import all_palettes\n",
    "\n",
    "import matplotlib\n",
    "import matplotlib.pyplot as plt\n",
    "import numpy as np\n",
    "import pandas as pd\n",
    "import xarray as xr\n",
    "\n",
    "import climatools.lblnew.bestfit_params as bestfits\n",
    "from climatools.lblnew import setup_bestfit, setup_overlap\n",
    "import climatools.lblnew.pipeline as pipe_lblnew\n",
    "import climatools.cliradlw.setup as setup_cliradlw\n",
    "import climatools.cliradlw.pipeline as pipe_cliradlw\n",
    "\n",
    "import climatools.html.html as climahtml\n",
    "from climatools.lblnew.dataio import *\n",
    "from climatools.plot.plot import *\n",
    "\n",
    "\n",
    "import IPython.display as display"
   ]
  },
  {
   "cell_type": "code",
   "execution_count": 2,
   "metadata": {
    "collapsed": true
   },
   "outputs": [],
   "source": [
    "%run param.py"
   ]
  },
  {
   "cell_type": "code",
   "execution_count": 3,
   "metadata": {
    "collapsed": true
   },
   "outputs": [],
   "source": [
    "def load_output_file(path_csv):\n",
    "    '''\n",
    "    Load lblnew output .csv file to xarray.Dataset\n",
    "    \n",
    "    Parameters\n",
    "    ----------\n",
    "    path_csv: str\n",
    "              Path to the .csv file to be loaded.\n",
    "    ds: xarray.Dataset\n",
    "        Data in the input file in the form of an xarray.Dataset.\n",
    "    '''\n",
    "    toindex = ['band', 'pressure', 'igg', 'g']    \n",
    "    df = pd.read_csv(path_csv, sep=r'\\s+')\n",
    "    df = df.set_index([i for i in toindex if i in df.columns])\n",
    "    df = df.rename(columns={'sfu': 'flug',\n",
    "                            'sfd': 'fldg',\n",
    "                            'fnet': 'fnetg',\n",
    "                            'coolr': 'coolrg'})\n",
    "    ds = xr.Dataset.from_dataframe(df)\n",
    "\n",
    "    for l in ('level', 'layer'):\n",
    "        if l in ds.data_vars:\n",
    "            if len(ds[l].dims) > 1:\n",
    "                surface = {d: 0 for d in ds.dims if d != 'pressure'}\n",
    "                coord_level = ds[l][surface]\n",
    "                ds.coords[l] = ('pressure', coord_level)\n",
    "            else:\n",
    "                ds.coords[l] = ('pressure', ds[l])\n",
    "    \n",
    "    return ds"
   ]
  },
  {
   "cell_type": "code",
   "execution_count": 4,
   "metadata": {
    "collapsed": true
   },
   "outputs": [],
   "source": [
    "def lblnew_setup(param=None):\n",
    "    if 'ng_refs' in param:\n",
    "        return {'setup': setup_bestfit,\n",
    "                'fname_flux_crd': 'output_flux.dat',\n",
    "                'fname_cool_crd': 'output_coolr.dat',\n",
    "                'fname_flux_wgt': 'output_wfluxg.dat',\n",
    "                'fname_cool_wgt': 'output_wcoolrg.dat'}\n",
    "    else:\n",
    "        return {'setup': setup_overlap,\n",
    "                'fname_flux_crd': 'output_flux.dat',\n",
    "                'fname_cool_crd': 'output_coolr.dat',\n",
    "                'fname_flux_wgt': 'output_wflux.dat',\n",
    "                'fname_cool_wgt': 'output_wcoolr.dat'}\n",
    "\n",
    "    \n",
    "def load_lblnew_data(param):\n",
    "    \n",
    "    fname_dsname = [('fname_flux_crd', 'ds_flux_crd'),\n",
    "                    ('fname_cool_crd', 'ds_cool_crd'),\n",
    "                    ('fname_flux_wgt', 'ds_flux_wgt'),\n",
    "                    ('fname_cool_wgt', 'ds_cool_wgt')]\n",
    "    \n",
    "    d = lblnew_setup(param)\n",
    "    dir_fortran = pipe_lblnew.get_dir_case(param, setup=d['setup'])\n",
    "    \n",
    "    data_dict = {}\n",
    "    for fname, dsname in fname_dsname:\n",
    "        fpath = os.path.join(dir_fortran, d[fname])\n",
    "        data_dict[dsname] = load_output_file(fpath)\n",
    "    return data_dict\n",
    "    \n",
    "\n",
    "    \n",
    "    "
   ]
  },
  {
   "cell_type": "code",
   "execution_count": 5,
   "metadata": {
    "collapsed": true
   },
   "outputs": [],
   "source": [
    "d = load_lblnew_data(PARAM_LBLNEW)\n",
    "\n",
    "DS_FLUX_CRD = d['ds_flux_crd']\n",
    "DS_COOL_CRD = d['ds_cool_crd']\n",
    "DS_FLUX_WGT = d['ds_flux_wgt']\n",
    "DS_COOL_WGT = d['ds_cool_wgt']"
   ]
  },
  {
   "cell_type": "code",
   "execution_count": 6,
   "metadata": {
    "collapsed": true
   },
   "outputs": [],
   "source": [
    "DIR_FORTRAN = pipe_cliradlw.get_fortran_dir(PARAM, \n",
    "                                            setup=setup_cliradlw)\n",
    "\n",
    "PATH_FLUX = os.path.join(DIR_FORTRAN, 'output_flux.dat')\n",
    "PATH_COOL = os.path.join(DIR_FORTRAN, 'output_coolr.dat')\n",
    "\n",
    "DS_FLUX = load_output_file(PATH_FLUX)\n",
    "DS_COOL = load_output_file(PATH_COOL)"
   ]
  },
  {
   "cell_type": "code",
   "execution_count": 7,
   "metadata": {
    "collapsed": true
   },
   "outputs": [
    {
     "data": {
      "text/html": [
       "\n",
       "    <div class=\"bk-root\">\n",
       "        <a href=\"https://bokeh.pydata.org\" target=\"_blank\" class=\"bk-logo bk-logo-small bk-logo-notebook\"></a>\n",
       "        <span id=\"3c82f65b-f657-44c3-afce-789bfb2d7d98\">Loading BokehJS ...</span>\n",
       "    </div>"
      ]
     },
     "metadata": {},
     "output_type": "display_data"
    },
    {
     "data": {
      "application/javascript": [
       "\n",
       "(function(root) {\n",
       "  function now() {\n",
       "    return new Date();\n",
       "  }\n",
       "\n",
       "  var force = true;\n",
       "\n",
       "  if (typeof (root._bokeh_onload_callbacks) === \"undefined\" || force === true) {\n",
       "    root._bokeh_onload_callbacks = [];\n",
       "    root._bokeh_is_loading = undefined;\n",
       "  }\n",
       "\n",
       "  var JS_MIME_TYPE = 'application/javascript';\n",
       "  var HTML_MIME_TYPE = 'text/html';\n",
       "  var EXEC_MIME_TYPE = 'application/vnd.bokehjs_exec.v0+json';\n",
       "  var CLASS_NAME = 'output_bokeh rendered_html';\n",
       "\n",
       "  /**\n",
       "   * Render data to the DOM node\n",
       "   */\n",
       "  function render(props, node) {\n",
       "    var script = document.createElement(\"script\");\n",
       "    node.appendChild(script);\n",
       "  }\n",
       "\n",
       "  /**\n",
       "   * Handle when an output is cleared or removed\n",
       "   */\n",
       "  function handleClearOutput(event, handle) {\n",
       "    var cell = handle.cell;\n",
       "\n",
       "    var id = cell.output_area._bokeh_element_id;\n",
       "    var server_id = cell.output_area._bokeh_server_id;\n",
       "    // Clean up Bokeh references\n",
       "    if (id !== undefined) {\n",
       "      Bokeh.index[id].model.document.clear();\n",
       "      delete Bokeh.index[id];\n",
       "    }\n",
       "\n",
       "    if (server_id !== undefined) {\n",
       "      // Clean up Bokeh references\n",
       "      var cmd = \"from bokeh.io.state import curstate; print(curstate().uuid_to_server['\" + server_id + \"'].get_sessions()[0].document.roots[0]._id)\";\n",
       "      cell.notebook.kernel.execute(cmd, {\n",
       "        iopub: {\n",
       "          output: function(msg) {\n",
       "            var element_id = msg.content.text.trim();\n",
       "            Bokeh.index[element_id].model.document.clear();\n",
       "            delete Bokeh.index[element_id];\n",
       "          }\n",
       "        }\n",
       "      });\n",
       "      // Destroy server and session\n",
       "      var cmd = \"import bokeh.io.notebook as ion; ion.destroy_server('\" + server_id + \"')\";\n",
       "      cell.notebook.kernel.execute(cmd);\n",
       "    }\n",
       "  }\n",
       "\n",
       "  /**\n",
       "   * Handle when a new output is added\n",
       "   */\n",
       "  function handleAddOutput(event, handle) {\n",
       "    var output_area = handle.output_area;\n",
       "    var output = handle.output;\n",
       "\n",
       "    // limit handleAddOutput to display_data with EXEC_MIME_TYPE content only\n",
       "    if ((output.output_type != \"display_data\") || (!output.data.hasOwnProperty(EXEC_MIME_TYPE))) {\n",
       "      return\n",
       "    }\n",
       "\n",
       "    var toinsert = output_area.element.find(\".\" + CLASS_NAME.split(' ')[0]);\n",
       "\n",
       "    if (output.metadata[EXEC_MIME_TYPE][\"id\"] !== undefined) {\n",
       "      toinsert[toinsert.length - 1].firstChild.textContent = output.data[JS_MIME_TYPE];\n",
       "      // store reference to embed id on output_area\n",
       "      output_area._bokeh_element_id = output.metadata[EXEC_MIME_TYPE][\"id\"];\n",
       "    }\n",
       "    if (output.metadata[EXEC_MIME_TYPE][\"server_id\"] !== undefined) {\n",
       "      var bk_div = document.createElement(\"div\");\n",
       "      bk_div.innerHTML = output.data[HTML_MIME_TYPE];\n",
       "      var script_attrs = bk_div.children[0].attributes;\n",
       "      for (var i = 0; i < script_attrs.length; i++) {\n",
       "        toinsert[toinsert.length - 1].firstChild.setAttribute(script_attrs[i].name, script_attrs[i].value);\n",
       "      }\n",
       "      // store reference to server id on output_area\n",
       "      output_area._bokeh_server_id = output.metadata[EXEC_MIME_TYPE][\"server_id\"];\n",
       "    }\n",
       "  }\n",
       "\n",
       "  function register_renderer(events, OutputArea) {\n",
       "\n",
       "    function append_mime(data, metadata, element) {\n",
       "      // create a DOM node to render to\n",
       "      var toinsert = this.create_output_subarea(\n",
       "        metadata,\n",
       "        CLASS_NAME,\n",
       "        EXEC_MIME_TYPE\n",
       "      );\n",
       "      this.keyboard_manager.register_events(toinsert);\n",
       "      // Render to node\n",
       "      var props = {data: data, metadata: metadata[EXEC_MIME_TYPE]};\n",
       "      render(props, toinsert[toinsert.length - 1]);\n",
       "      element.append(toinsert);\n",
       "      return toinsert\n",
       "    }\n",
       "\n",
       "    /* Handle when an output is cleared or removed */\n",
       "    events.on('clear_output.CodeCell', handleClearOutput);\n",
       "    events.on('delete.Cell', handleClearOutput);\n",
       "\n",
       "    /* Handle when a new output is added */\n",
       "    events.on('output_added.OutputArea', handleAddOutput);\n",
       "\n",
       "    /**\n",
       "     * Register the mime type and append_mime function with output_area\n",
       "     */\n",
       "    OutputArea.prototype.register_mime_type(EXEC_MIME_TYPE, append_mime, {\n",
       "      /* Is output safe? */\n",
       "      safe: true,\n",
       "      /* Index of renderer in `output_area.display_order` */\n",
       "      index: 0\n",
       "    });\n",
       "  }\n",
       "\n",
       "  // register the mime type if in Jupyter Notebook environment and previously unregistered\n",
       "  if (root.Jupyter !== undefined) {\n",
       "    var events = require('base/js/events');\n",
       "    var OutputArea = require('notebook/js/outputarea').OutputArea;\n",
       "\n",
       "    if (OutputArea.prototype.mime_types().indexOf(EXEC_MIME_TYPE) == -1) {\n",
       "      register_renderer(events, OutputArea);\n",
       "    }\n",
       "  }\n",
       "\n",
       "  \n",
       "  if (typeof (root._bokeh_timeout) === \"undefined\" || force === true) {\n",
       "    root._bokeh_timeout = Date.now() + 5000;\n",
       "    root._bokeh_failed_load = false;\n",
       "  }\n",
       "\n",
       "  var NB_LOAD_WARNING = {'data': {'text/html':\n",
       "     \"<div style='background-color: #fdd'>\\n\"+\n",
       "     \"<p>\\n\"+\n",
       "     \"BokehJS does not appear to have successfully loaded. If loading BokehJS from CDN, this \\n\"+\n",
       "     \"may be due to a slow or bad network connection. Possible fixes:\\n\"+\n",
       "     \"</p>\\n\"+\n",
       "     \"<ul>\\n\"+\n",
       "     \"<li>re-rerun `output_notebook()` to attempt to load from CDN again, or</li>\\n\"+\n",
       "     \"<li>use INLINE resources instead, as so:</li>\\n\"+\n",
       "     \"</ul>\\n\"+\n",
       "     \"<code>\\n\"+\n",
       "     \"from bokeh.resources import INLINE\\n\"+\n",
       "     \"output_notebook(resources=INLINE)\\n\"+\n",
       "     \"</code>\\n\"+\n",
       "     \"</div>\"}};\n",
       "\n",
       "  function display_loaded() {\n",
       "    var el = document.getElementById(\"3c82f65b-f657-44c3-afce-789bfb2d7d98\");\n",
       "    if (el != null) {\n",
       "      el.textContent = \"BokehJS is loading...\";\n",
       "    }\n",
       "    if (root.Bokeh !== undefined) {\n",
       "      if (el != null) {\n",
       "        el.textContent = \"BokehJS \" + root.Bokeh.version + \" successfully loaded.\";\n",
       "      }\n",
       "    } else if (Date.now() < root._bokeh_timeout) {\n",
       "      setTimeout(display_loaded, 100)\n",
       "    }\n",
       "  }\n",
       "\n",
       "\n",
       "  function run_callbacks() {\n",
       "    try {\n",
       "      root._bokeh_onload_callbacks.forEach(function(callback) { callback() });\n",
       "    }\n",
       "    finally {\n",
       "      delete root._bokeh_onload_callbacks\n",
       "    }\n",
       "    console.info(\"Bokeh: all callbacks have finished\");\n",
       "  }\n",
       "\n",
       "  function load_libs(js_urls, callback) {\n",
       "    root._bokeh_onload_callbacks.push(callback);\n",
       "    if (root._bokeh_is_loading > 0) {\n",
       "      console.log(\"Bokeh: BokehJS is being loaded, scheduling callback at\", now());\n",
       "      return null;\n",
       "    }\n",
       "    if (js_urls == null || js_urls.length === 0) {\n",
       "      run_callbacks();\n",
       "      return null;\n",
       "    }\n",
       "    console.log(\"Bokeh: BokehJS not loaded, scheduling load and callback at\", now());\n",
       "    root._bokeh_is_loading = js_urls.length;\n",
       "    for (var i = 0; i < js_urls.length; i++) {\n",
       "      var url = js_urls[i];\n",
       "      var s = document.createElement('script');\n",
       "      s.src = url;\n",
       "      s.async = false;\n",
       "      s.onreadystatechange = s.onload = function() {\n",
       "        root._bokeh_is_loading--;\n",
       "        if (root._bokeh_is_loading === 0) {\n",
       "          console.log(\"Bokeh: all BokehJS libraries loaded\");\n",
       "          run_callbacks()\n",
       "        }\n",
       "      };\n",
       "      s.onerror = function() {\n",
       "        console.warn(\"failed to load library \" + url);\n",
       "      };\n",
       "      console.log(\"Bokeh: injecting script tag for BokehJS library: \", url);\n",
       "      document.getElementsByTagName(\"head\")[0].appendChild(s);\n",
       "    }\n",
       "  };var element = document.getElementById(\"3c82f65b-f657-44c3-afce-789bfb2d7d98\");\n",
       "  if (element == null) {\n",
       "    console.log(\"Bokeh: ERROR: autoload.js configured with elementid '3c82f65b-f657-44c3-afce-789bfb2d7d98' but no matching script tag was found. \")\n",
       "    return false;\n",
       "  }\n",
       "\n",
       "  var js_urls = [\"https://cdn.pydata.org/bokeh/release/bokeh-0.12.16.min.js\", \"https://cdn.pydata.org/bokeh/release/bokeh-widgets-0.12.16.min.js\", \"https://cdn.pydata.org/bokeh/release/bokeh-tables-0.12.16.min.js\", \"https://cdn.pydata.org/bokeh/release/bokeh-gl-0.12.16.min.js\"];\n",
       "\n",
       "  var inline_js = [\n",
       "    function(Bokeh) {\n",
       "      Bokeh.set_log_level(\"info\");\n",
       "    },\n",
       "    \n",
       "    function(Bokeh) {\n",
       "      \n",
       "    },\n",
       "    function(Bokeh) {\n",
       "      console.log(\"Bokeh: injecting CSS: https://cdn.pydata.org/bokeh/release/bokeh-0.12.16.min.css\");\n",
       "      Bokeh.embed.inject_css(\"https://cdn.pydata.org/bokeh/release/bokeh-0.12.16.min.css\");\n",
       "      console.log(\"Bokeh: injecting CSS: https://cdn.pydata.org/bokeh/release/bokeh-widgets-0.12.16.min.css\");\n",
       "      Bokeh.embed.inject_css(\"https://cdn.pydata.org/bokeh/release/bokeh-widgets-0.12.16.min.css\");\n",
       "      console.log(\"Bokeh: injecting CSS: https://cdn.pydata.org/bokeh/release/bokeh-tables-0.12.16.min.css\");\n",
       "      Bokeh.embed.inject_css(\"https://cdn.pydata.org/bokeh/release/bokeh-tables-0.12.16.min.css\");\n",
       "    }\n",
       "  ];\n",
       "\n",
       "  function run_inline_js() {\n",
       "    \n",
       "    if ((root.Bokeh !== undefined) || (force === true)) {\n",
       "      for (var i = 0; i < inline_js.length; i++) {\n",
       "        inline_js[i].call(root, root.Bokeh);\n",
       "      }if (force === true) {\n",
       "        display_loaded();\n",
       "      }} else if (Date.now() < root._bokeh_timeout) {\n",
       "      setTimeout(run_inline_js, 100);\n",
       "    } else if (!root._bokeh_failed_load) {\n",
       "      console.log(\"Bokeh: BokehJS failed to load within specified timeout.\");\n",
       "      root._bokeh_failed_load = true;\n",
       "    } else if (force !== true) {\n",
       "      var cell = $(document.getElementById(\"3c82f65b-f657-44c3-afce-789bfb2d7d98\")).parents('.cell').data().cell;\n",
       "      cell.output_area.append_execute_result(NB_LOAD_WARNING)\n",
       "    }\n",
       "\n",
       "  }\n",
       "\n",
       "  if (root._bokeh_is_loading === 0) {\n",
       "    console.log(\"Bokeh: BokehJS loaded, going straight to plotting\");\n",
       "    run_inline_js();\n",
       "  } else {\n",
       "    load_libs(js_urls, function() {\n",
       "      console.log(\"Bokeh: BokehJS plotting callback run at\", now());\n",
       "      run_inline_js();\n",
       "    });\n",
       "  }\n",
       "}(window));"
      ],
      "application/vnd.bokehjs_load.v0+json": "\n(function(root) {\n  function now() {\n    return new Date();\n  }\n\n  var force = true;\n\n  if (typeof (root._bokeh_onload_callbacks) === \"undefined\" || force === true) {\n    root._bokeh_onload_callbacks = [];\n    root._bokeh_is_loading = undefined;\n  }\n\n  \n\n  \n  if (typeof (root._bokeh_timeout) === \"undefined\" || force === true) {\n    root._bokeh_timeout = Date.now() + 5000;\n    root._bokeh_failed_load = false;\n  }\n\n  var NB_LOAD_WARNING = {'data': {'text/html':\n     \"<div style='background-color: #fdd'>\\n\"+\n     \"<p>\\n\"+\n     \"BokehJS does not appear to have successfully loaded. If loading BokehJS from CDN, this \\n\"+\n     \"may be due to a slow or bad network connection. Possible fixes:\\n\"+\n     \"</p>\\n\"+\n     \"<ul>\\n\"+\n     \"<li>re-rerun `output_notebook()` to attempt to load from CDN again, or</li>\\n\"+\n     \"<li>use INLINE resources instead, as so:</li>\\n\"+\n     \"</ul>\\n\"+\n     \"<code>\\n\"+\n     \"from bokeh.resources import INLINE\\n\"+\n     \"output_notebook(resources=INLINE)\\n\"+\n     \"</code>\\n\"+\n     \"</div>\"}};\n\n  function display_loaded() {\n    var el = document.getElementById(\"3c82f65b-f657-44c3-afce-789bfb2d7d98\");\n    if (el != null) {\n      el.textContent = \"BokehJS is loading...\";\n    }\n    if (root.Bokeh !== undefined) {\n      if (el != null) {\n        el.textContent = \"BokehJS \" + root.Bokeh.version + \" successfully loaded.\";\n      }\n    } else if (Date.now() < root._bokeh_timeout) {\n      setTimeout(display_loaded, 100)\n    }\n  }\n\n\n  function run_callbacks() {\n    try {\n      root._bokeh_onload_callbacks.forEach(function(callback) { callback() });\n    }\n    finally {\n      delete root._bokeh_onload_callbacks\n    }\n    console.info(\"Bokeh: all callbacks have finished\");\n  }\n\n  function load_libs(js_urls, callback) {\n    root._bokeh_onload_callbacks.push(callback);\n    if (root._bokeh_is_loading > 0) {\n      console.log(\"Bokeh: BokehJS is being loaded, scheduling callback at\", now());\n      return null;\n    }\n    if (js_urls == null || js_urls.length === 0) {\n      run_callbacks();\n      return null;\n    }\n    console.log(\"Bokeh: BokehJS not loaded, scheduling load and callback at\", now());\n    root._bokeh_is_loading = js_urls.length;\n    for (var i = 0; i < js_urls.length; i++) {\n      var url = js_urls[i];\n      var s = document.createElement('script');\n      s.src = url;\n      s.async = false;\n      s.onreadystatechange = s.onload = function() {\n        root._bokeh_is_loading--;\n        if (root._bokeh_is_loading === 0) {\n          console.log(\"Bokeh: all BokehJS libraries loaded\");\n          run_callbacks()\n        }\n      };\n      s.onerror = function() {\n        console.warn(\"failed to load library \" + url);\n      };\n      console.log(\"Bokeh: injecting script tag for BokehJS library: \", url);\n      document.getElementsByTagName(\"head\")[0].appendChild(s);\n    }\n  };var element = document.getElementById(\"3c82f65b-f657-44c3-afce-789bfb2d7d98\");\n  if (element == null) {\n    console.log(\"Bokeh: ERROR: autoload.js configured with elementid '3c82f65b-f657-44c3-afce-789bfb2d7d98' but no matching script tag was found. \")\n    return false;\n  }\n\n  var js_urls = [\"https://cdn.pydata.org/bokeh/release/bokeh-0.12.16.min.js\", \"https://cdn.pydata.org/bokeh/release/bokeh-widgets-0.12.16.min.js\", \"https://cdn.pydata.org/bokeh/release/bokeh-tables-0.12.16.min.js\", \"https://cdn.pydata.org/bokeh/release/bokeh-gl-0.12.16.min.js\"];\n\n  var inline_js = [\n    function(Bokeh) {\n      Bokeh.set_log_level(\"info\");\n    },\n    \n    function(Bokeh) {\n      \n    },\n    function(Bokeh) {\n      console.log(\"Bokeh: injecting CSS: https://cdn.pydata.org/bokeh/release/bokeh-0.12.16.min.css\");\n      Bokeh.embed.inject_css(\"https://cdn.pydata.org/bokeh/release/bokeh-0.12.16.min.css\");\n      console.log(\"Bokeh: injecting CSS: https://cdn.pydata.org/bokeh/release/bokeh-widgets-0.12.16.min.css\");\n      Bokeh.embed.inject_css(\"https://cdn.pydata.org/bokeh/release/bokeh-widgets-0.12.16.min.css\");\n      console.log(\"Bokeh: injecting CSS: https://cdn.pydata.org/bokeh/release/bokeh-tables-0.12.16.min.css\");\n      Bokeh.embed.inject_css(\"https://cdn.pydata.org/bokeh/release/bokeh-tables-0.12.16.min.css\");\n    }\n  ];\n\n  function run_inline_js() {\n    \n    if ((root.Bokeh !== undefined) || (force === true)) {\n      for (var i = 0; i < inline_js.length; i++) {\n        inline_js[i].call(root, root.Bokeh);\n      }if (force === true) {\n        display_loaded();\n      }} else if (Date.now() < root._bokeh_timeout) {\n      setTimeout(run_inline_js, 100);\n    } else if (!root._bokeh_failed_load) {\n      console.log(\"Bokeh: BokehJS failed to load within specified timeout.\");\n      root._bokeh_failed_load = true;\n    } else if (force !== true) {\n      var cell = $(document.getElementById(\"3c82f65b-f657-44c3-afce-789bfb2d7d98\")).parents('.cell').data().cell;\n      cell.output_area.append_execute_result(NB_LOAD_WARNING)\n    }\n\n  }\n\n  if (root._bokeh_is_loading === 0) {\n    console.log(\"Bokeh: BokehJS loaded, going straight to plotting\");\n    run_inline_js();\n  } else {\n    load_libs(js_urls, function() {\n      console.log(\"Bokeh: BokehJS plotting callback run at\", now());\n      run_inline_js();\n    });\n  }\n}(window));"
     },
     "metadata": {},
     "output_type": "display_data"
    }
   ],
   "source": [
    "output_notebook()"
   ]
  },
  {
   "cell_type": "code",
   "execution_count": 8,
   "metadata": {
    "collapsed": true
   },
   "outputs": [],
   "source": [
    "def fmt_cool(ds_in):\n",
    "    ds = ds_in.copy(deep=True)\n",
    "    if 'igg' in ds.dims:\n",
    "        ds = ds.sel(igg=1)\n",
    "\n",
    "    if 'g' in ds.dims:\n",
    "        ds = ds.sum('g')\n",
    "            \n",
    "    if 'band' in ds.dims:\n",
    "        try:\n",
    "            ds = ds.squeeze('band')\n",
    "        except ValueError:\n",
    "            ds = ds.sum('band')\n",
    "                \n",
    "    return ds['coolrg']\n",
    "\n",
    "\n",
    "def pltdata_cooling_1(ds_cool=None,\n",
    "                      ds_cool_crd=None, ds_cool_wgt=None):\n",
    "    \n",
    "\n",
    "\n",
    "    colors = all_palettes['Set1'][4]\n",
    "    data = [{'label': 'CLIRAD `coolr_bands`',\n",
    "             'srs': fmt_cool(ds_cool),\n",
    "             'line_dash': 'dashed', 'line_width': 5,\n",
    "             'color': colors[0], 'alpha': .6},\n",
    "            {'label': 'CRD',\n",
    "             'srs': fmt_cool(ds_cool_crd),\n",
    "             'line_dash': 'solid', 'line_width': 1.5,\n",
    "             'marker': 'circle', 'marker_size': 5,\n",
    "             'color': colors[2], 'alpha': 1,},\n",
    "            {'label': 'WGT igg=10 wgt_flux=2',\n",
    "             'srs': fmt_cool(ds_cool_wgt),\n",
    "             'line_dash': 'solid', 'line_width': 3,\n",
    "             'marker': 'square', 'marker_size': 5,\n",
    "             'color': colors[3], 'alpha': .6}]\n",
    "    return data\n",
    "\n",
    "\n",
    "def nice_xlims(pltdata=None, prange=None):\n",
    "    \n",
    "    def get_slice(srs):\n",
    "        return srs.sel(pressure=slice(*prange))\n",
    "    \n",
    "    srss = [d['srs'] for d in pltdata]\n",
    "    vmin = min([get_slice(srs).min() for srs in srss])\n",
    "    vmax = max([get_slice(srs).max() for srs in srss])\n",
    "    dv = (vmax - vmin) * .01\n",
    "    return float(vmin - dv), float(vmax + dv)\n",
    "    \n",
    "\n",
    "def plt_cooling_bokeh(pltdata=None):\n",
    "    '''\n",
    "    Plot a list of cooling rate profiles using bokeh.\n",
    "    '''\n",
    "    ymin = 1e-2 \n",
    "    ymax = 1020 \n",
    "        \n",
    "    p1 = figure(title=\"Linear pressure scale\", \n",
    "                plot_width=400)        \n",
    "    xmin, xmax = nice_xlims(pltdata, prange=(50, 1050))\n",
    "    for d in pltdata:\n",
    "        if 'marker' in d:\n",
    "            getattr(p1, d['marker'])(d['srs'].values, \n",
    "                    d['srs'].coords['pressure'].values,\n",
    "                    color=d['color'], alpha=.7)\n",
    "        p1.line(d['srs'].values, \n",
    "                d['srs'].coords['pressure'].values,\n",
    "                color=d['color'], alpha=d['alpha'], \n",
    "                line_width=d['line_width'], line_dash=d['line_dash'])\n",
    "    \n",
    "    p1.y_range = Range1d(ymax, ymin)\n",
    "    p1.yaxis.axis_label = 'pressure [mb]'   \n",
    "    p1.x_range = Range1d(xmin, xmax)\n",
    "    p1.xaxis.axis_label = 'cooling rate [K/day]'\n",
    "            \n",
    "    p2 = figure(title='Log pressure scale', y_axis_type='log',\n",
    "                plot_width=560)\n",
    "    xmin, xmax = nice_xlims(pltdata, prange=(.01, 200))\n",
    "    \n",
    "    rs = []\n",
    "    for d in pltdata:\n",
    "        rd = []\n",
    "        if 'marker' in d:\n",
    "            r_mark = getattr(p2, d['marker'])(d['srs'].values, \n",
    "                        d['srs'].coords['pressure'].values,\n",
    "                        color=d['color'], alpha=.7)\n",
    "            rd.append(r_mark)\n",
    "        r_line = p2.line(d['srs'].values, \n",
    "                    d['srs'].coords['pressure'].values,\n",
    "                    color=d['color'], alpha=d['alpha'], \n",
    "                    line_width=d['line_width'], line_dash=d['line_dash'])\n",
    "        rd.append(r_line)\n",
    "      \n",
    "        rs.append(rd)\n",
    "        \n",
    "    p2.y_range = Range1d(ymax, ymin)  \n",
    "    p2.yaxis.axis_label = 'pressure [mb]'\n",
    "    \n",
    "    p2.x_range = Range1d(xmin, xmax)\n",
    "    p2.xaxis.axis_label = 'cooling rate [K/day]'\n",
    "    \n",
    "    items = [(d['label'], r) for r, d in zip(rs, pltdata)]\n",
    "    legend = Legend(items=items, location=(10, -30))\n",
    "    legend.label_text_font_size = '8pt'\n",
    "    \n",
    "    p2.add_layout(legend, 'right')  \n",
    "    \n",
    "    show(gridplot(p1, p2, ncols=2, plot_height=500))\n",
    "    \n",
    "\n",
    "def script_plt_cooling():\n",
    "    pltdata = pltdata_cooling_1(\n",
    "        ds_cool=DS_COOL,\n",
    "        ds_cool_crd=DS_COOL_CRD,\n",
    "        ds_cool_wgt=DS_COOL_WGT)\n",
    "    plt_cooling_bokeh(pltdata=pltdata)\n",
    "    print('''FIGURE. Cooling rate profiles.''')"
   ]
  },
  {
   "cell_type": "code",
   "execution_count": 9,
   "metadata": {
    "collapsed": true
   },
   "outputs": [],
   "source": [
    "def fmt_flux(ds_in):\n",
    "    ds = ds_in.copy(deep=True)\n",
    "    \n",
    "    for l in ('level', 'layer'):\n",
    "        if l in ds.data_vars:\n",
    "            if len(ds[l].dims) > 1:\n",
    "                surface = {d: 0 for d in ds.dims if d != 'pressure'}\n",
    "                coord_level = ds[l][surface]\n",
    "                ds.coords[l] = ('pressure', coord_level)\n",
    "            else:\n",
    "                ds.coords[l] = ('pressure', ds[l])\n",
    "        \n",
    "    ds = ds.isel(pressure=[0, 23, -1])\n",
    "        \n",
    "    if 'igg' in ds.dims:\n",
    "        ds = ds.sel(igg=[1])\n",
    "        ds = ds.squeeze('igg').drop('igg')\n",
    "    \n",
    "    if 'g' in ds.dims:\n",
    "        ds = ds.sum('g')\n",
    "            \n",
    "    if 'band' in ds.dims:\n",
    "        try:\n",
    "            ds = ds.squeeze('band').drop('band')\n",
    "        except ValueError:\n",
    "            ds = ds.sum('band')\n",
    "                \n",
    "    df = ds.to_dataframe()\n",
    "    df = df.set_index('level', append=True)               \n",
    "    return df\n",
    "\n",
    "\n",
    "def tbdata_flux(ds_flux=None, ds_flux_crd=None, ds_flux_wgt=None):\n",
    "    ilevels = [0, 23, -1]\n",
    "            \n",
    "    benchmark = {'label': 'CRD',\n",
    "                 'df': fmt_flux(ds_flux_crd)}\n",
    "    \n",
    "    tbs = [{'label': 'WGT igg=10 wgt_flux=1',\n",
    "            'df': fmt_flux(ds_flux_wgt)},\n",
    "           {'label': 'CLIRAD',\n",
    "            'df': fmt_flux(ds_flux)}]\n",
    "    \n",
    "    data = {'benchmark': benchmark, 'others': tbs}\n",
    "    return data\n",
    "\n",
    "\n",
    "def tb_flux(tbdata=None):\n",
    "    benchmark = tbdata['benchmark']\n",
    "    others = tbdata['others']\n",
    "    \n",
    "    def show_tb(d=None):\n",
    "        display.display(d['df'])\n",
    "        print('Table.', 'Fluxes.', d['label'])\n",
    "        \n",
    "    def show_tbdiff(d0=None, d=None):\n",
    "        df = d['df']\n",
    "        df.index = d0['df'].index\n",
    "        display.display(df - d0['df'])\n",
    "        print('Table.', 'Fluxes.', \n",
    "              '({}) - ({})'.format(d['label'], d0['label']))\n",
    "        \n",
    "    show_tb(benchmark)\n",
    "    for d in others:\n",
    "        show_tb(d)\n",
    "        \n",
    "    for d in others:\n",
    "        show_tbdiff(d=d, d0=benchmark)\n",
    "        \n",
    "        \n",
    "def script_tb_flux():\n",
    "    data = tbdata_flux(ds_flux=DS_FLUX,\n",
    "                       ds_flux_crd=DS_FLUX_CRD,\n",
    "                       ds_flux_wgt=DS_FLUX_WGT)\n",
    "    tb_flux(tbdata=data)"
   ]
  },
  {
   "cell_type": "code",
   "execution_count": 10,
   "metadata": {
    "collapsed": true
   },
   "outputs": [],
   "source": [
    "def band_map():\n",
    "    '''\n",
    "    Maps spectral bands in lblnew to spectral bands in clirad.\n",
    "    '''\n",
    "    lblnew2clirad = {'1': '1',\n",
    "            '2': '2',\n",
    "            '3a': '3',\n",
    "            '3b': '4',\n",
    "            '3c': '5',\n",
    "            '4': '6', \n",
    "            '5': '7',\n",
    "            '6': '8',\n",
    "            '7': '9', \n",
    "            '8': '10',\n",
    "            '9': '11'}\n",
    "    \n",
    "    clirad2lblnew = {clirad: lblnew \n",
    "                     for lblnew, clirad in lblnew2clirad.items()}\n",
    "    return clirad2lblnew\n",
    "\n",
    "\n",
    "def gasbands():\n",
    "    bmap = band_map()\n",
    "    gases = list(PARAM['molecule'].keys())\n",
    "    \n",
    "    bands = [bmap[str(b)] for b in PARAM['band']]\n",
    "    return list(itertools.product(gases, bands))\n",
    "\n",
    "\n",
    "def print_bestfit_params():\n",
    "    print('Best-fit values for each (gas, band)')\n",
    "    print('------------------------------------')\n",
    "    for gas, band in gasbands():\n",
    "        print('o {} band{}'.format(gas, band))\n",
    "        param = bestfits.kdist_params(molecule=gas, band=band)\n",
    "        for name, value in sorted(param.items()):\n",
    "            print(2 * ' ' + '{} = {}'.format(name, value))\n",
    "\n",
    "        \n",
    "def print_input_param():        \n",
    "    for name, value in PARAM.items():\n",
    "        print('{} = {}'.format(name, value))\n",
    "        \n",
    "        \n",
    "def print_lblnew_param():\n",
    "    for name, value in sorted(PARAM_LBLNEW.items()):\n",
    "        print('{} = {}'.format(name, value))\n"
   ]
  },
  {
   "cell_type": "code",
   "execution_count": 11,
   "metadata": {
    "collapsed": true,
    "scrolled": false
   },
   "outputs": [],
   "source": [
    "def show_html(s):\n",
    "    display.display(display.HTML(s))\n",
    "\n",
    "    \n",
    "def show_markdown(s):\n",
    "    display.display(display.Markdown(s))\n",
    "\n",
    "    \n",
    "def script():\n",
    "    \n",
    "    title = '### CLIRAD-LW'\n",
    "    s_input = 'Input Parameters'\n",
    "    s_lblnew_param = 'LBLNEW case compaired against'\n",
    "    s_bestfits = 'Best-fit Parameters'\n",
    "    s_plt_cooling = 'Cooling Rate Profiles'\n",
    "    s_tb_flux = 'Flux Comparison'\n",
    "    \n",
    "    # title\n",
    "    show_markdown('### CLIRAD-LW')\n",
    "    \n",
    "    # TOC\n",
    "    show_markdown('### Table of Contents')\n",
    "    show_html(climahtml.getHTML_hrefanchor(s_input))\n",
    "    show_html(climahtml.getHTML_hrefanchor(s_lblnew_param))\n",
    "    show_html(climahtml.getHTML_hrefanchor(s_plt_cooling))\n",
    "    show_html(climahtml.getHTML_hrefanchor(s_tb_flux))\n",
    "    show_html(climahtml.getHTML_hrefanchor(s_bestfits))\n",
    "    \n",
    "    # Input parameters\n",
    "    show_html(climahtml.getHTML_idanchor(s_input))\n",
    "    show_markdown(climahtml.getMarkdown_sectitle(s_input))\n",
    "    print_input_param()\n",
    "    \n",
    "    # LBLNEW parameters \n",
    "    show_html(climahtml.getHTML_idanchor(s_lblnew_param))\n",
    "    show_markdown(climahtml.getMarkdown_sectitle(s_lblnew_param))\n",
    "    print_lblnew_param()\n",
    "    \n",
    "    # Cooling rate profiles\n",
    "    show_html(climahtml.getHTML_idanchor(s_plt_cooling))\n",
    "    show_markdown(climahtml.getMarkdown_sectitle(s_plt_cooling))\n",
    "    script_plt_cooling()\n",
    "    \n",
    "    # Flux comparison\n",
    "    show_html(climahtml.getHTML_idanchor(s_tb_flux))\n",
    "    show_markdown(climahtml.getMarkdown_sectitle(s_tb_flux))\n",
    "    script_tb_flux()\n",
    "    \n",
    "    # Best-fit values\n",
    "    show_html(climahtml.getHTML_idanchor(s_bestfits))\n",
    "    show_markdown(climahtml.getMarkdown_sectitle(s_bestfits))\n",
    "    print_bestfit_params()\n",
    "   \n",
    "    "
   ]
  },
  {
   "cell_type": "code",
   "execution_count": 12,
   "metadata": {
    "collapsed": true,
    "scrolled": false
   },
   "outputs": [
    {
     "data": {
      "text/markdown": [
       "### CLIRAD-LW"
      ],
      "text/plain": [
       "<IPython.core.display.Markdown object>"
      ]
     },
     "metadata": {},
     "output_type": "display_data"
    },
    {
     "data": {
      "text/markdown": [
       "### Table of Contents"
      ],
      "text/plain": [
       "<IPython.core.display.Markdown object>"
      ]
     },
     "metadata": {},
     "output_type": "display_data"
    },
    {
     "data": {
      "text/html": [
       "<a href=\"#Input_Parameters\">Input Parameters</a>"
      ],
      "text/plain": [
       "<IPython.core.display.HTML object>"
      ]
     },
     "metadata": {},
     "output_type": "display_data"
    },
    {
     "data": {
      "text/html": [
       "<a href=\"#LBLNEW_case_compaired_against\">LBLNEW case compaired against</a>"
      ],
      "text/plain": [
       "<IPython.core.display.HTML object>"
      ]
     },
     "metadata": {},
     "output_type": "display_data"
    },
    {
     "data": {
      "text/html": [
       "<a href=\"#Cooling_Rate_Profiles\">Cooling Rate Profiles</a>"
      ],
      "text/plain": [
       "<IPython.core.display.HTML object>"
      ]
     },
     "metadata": {},
     "output_type": "display_data"
    },
    {
     "data": {
      "text/html": [
       "<a href=\"#Flux_Comparison\">Flux Comparison</a>"
      ],
      "text/plain": [
       "<IPython.core.display.HTML object>"
      ]
     },
     "metadata": {},
     "output_type": "display_data"
    },
    {
     "data": {
      "text/html": [
       "<a href=\"#Best-fit_Parameters\">Best-fit Parameters</a>"
      ],
      "text/plain": [
       "<IPython.core.display.HTML object>"
      ]
     },
     "metadata": {},
     "output_type": "display_data"
    },
    {
     "data": {
      "text/html": [
       "<a id=\"Input_Parameters\"></a>"
      ],
      "text/plain": [
       "<IPython.core.display.HTML object>"
      ]
     },
     "metadata": {},
     "output_type": "display_data"
    },
    {
     "data": {
      "text/markdown": [
       "# Input Parameters"
      ],
      "text/plain": [
       "<IPython.core.display.Markdown object>"
      ]
     },
     "metadata": {},
     "output_type": "display_data"
    },
    {
     "name": "stdout",
     "output_type": "stream",
     "text": [
      "atmpro = saw\n",
      "band = [11]\n",
      "commitnumber = de5d43e\n",
      "molecule = {'h2o': 'atmpro'}\n",
      "tsfc = 257\n"
     ]
    },
    {
     "data": {
      "text/html": [
       "<a id=\"LBLNEW_case_compaired_against\"></a>"
      ],
      "text/plain": [
       "<IPython.core.display.HTML object>"
      ]
     },
     "metadata": {},
     "output_type": "display_data"
    },
    {
     "data": {
      "text/markdown": [
       "# LBLNEW case compaired against"
      ],
      "text/plain": [
       "<IPython.core.display.Markdown object>"
      ]
     },
     "metadata": {},
     "output_type": "display_data"
    },
    {
     "name": "stdout",
     "output_type": "stream",
     "text": [
      "atmpro = saw\n",
      "band = 9\n",
      "commitnumber = 5014a19\n",
      "conc = None\n",
      "dv = 0.001\n",
      "klin = 1e-24\n",
      "molecule = h2o\n",
      "ng_adju = [0]\n",
      "ng_refs = [5]\n",
      "nv = 1000\n",
      "option_compute_btable = 0\n",
      "option_compute_ktable = 0\n",
      "option_wgt_flux = 1\n",
      "option_wgt_k = 1\n",
      "ref_pts = [(500, 250)]\n",
      "tsfc = 257\n",
      "vmax = 3000\n",
      "vmin = 1900\n",
      "w_diffuse = [(1.66, 1.66, 1.66, 1.66, 1.66)]\n",
      "wgt = [(0.4, 0.4, 0.5, 0.55, 0.85)]\n"
     ]
    },
    {
     "data": {
      "text/html": [
       "<a id=\"Cooling_Rate_Profiles\"></a>"
      ],
      "text/plain": [
       "<IPython.core.display.HTML object>"
      ]
     },
     "metadata": {},
     "output_type": "display_data"
    },
    {
     "data": {
      "text/markdown": [
       "# Cooling Rate Profiles"
      ],
      "text/plain": [
       "<IPython.core.display.Markdown object>"
      ]
     },
     "metadata": {},
     "output_type": "display_data"
    },
    {
     "data": {
      "text/html": [
       "\n",
       "<div class=\"bk-root\">\n",
       "    <div class=\"bk-plotdiv\" id=\"bad30d54-9a4a-4a83-b18c-ac964d0d52f6\"></div>\n",
       "</div>"
      ]
     },
     "metadata": {},
     "output_type": "display_data"
    },
    {
     "data": {
      "application/javascript": [
       "(function(root) {\n",
       "  function embed_document(root) {\n",
       "    \n",
       "  var docs_json = {\"c70ad5d5-618a-4578-a9b4-81bd62ea02d4\":{\"roots\":{\"references\":[{\"attributes\":{},\"id\":\"074d583f-3be1-47ba-825c-65208c5bd713\",\"type\":\"UnionRenderers\"},{\"attributes\":{\"toolbar\":{\"id\":\"85db0768-abec-4691-be43-783a07b7a592\",\"type\":\"ProxyToolbar\"},\"toolbar_location\":\"above\"},\"id\":\"8a9edf19-44b4-4ffc-8457-66b1efb735a3\",\"type\":\"ToolbarBox\"},{\"attributes\":{},\"id\":\"f16037f9-13bf-4f98-ae5d-7e68bb34884e\",\"type\":\"Selection\"},{\"attributes\":{\"tools\":[{\"id\":\"35931994-1030-48bb-b268-2ac34850004a\",\"type\":\"PanTool\"},{\"id\":\"ecbfe6f0-f12c-4145-9023-19aa154622ec\",\"type\":\"WheelZoomTool\"},{\"id\":\"03d2c972-7580-43d6-a8ee-b5392864df67\",\"type\":\"BoxZoomTool\"},{\"id\":\"e9e5c64d-70b0-4ad1-93c6-dc0b5fde60c9\",\"type\":\"SaveTool\"},{\"id\":\"31fdf977-d9aa-4b26-8c15-fc1a394dcd22\",\"type\":\"ResetTool\"},{\"id\":\"856ebd85-4e80-4a5b-a17c-aa32c5205ad4\",\"type\":\"HelpTool\"},{\"id\":\"353dfbda-44bc-49df-b28c-a2df17de3c67\",\"type\":\"PanTool\"},{\"id\":\"902226b4-3301-40e8-911e-301ac6c68dfe\",\"type\":\"WheelZoomTool\"},{\"id\":\"dc5a1de3-870a-46de-995e-c11e15e892ae\",\"type\":\"BoxZoomTool\"},{\"id\":\"025f9fa0-6f73-4d35-9a71-15ebeb216860\",\"type\":\"SaveTool\"},{\"id\":\"b2113e2e-8020-4da3-89a9-bc1dc73b6f9c\",\"type\":\"ResetTool\"},{\"id\":\"377f173c-1a3a-4f12-b04a-e5383251efa9\",\"type\":\"HelpTool\"}]},\"id\":\"85db0768-abec-4691-be43-783a07b7a592\",\"type\":\"ProxyToolbar\"},{\"attributes\":{\"callback\":null,\"data\":{\"x\":{\"__ndarray__\":\"2Ya0Dt1rMb9y1mzXqr0wvz3GSRAMHi6/1lIxr9LGKb/jBV5yYVQkv/ofv6KtMRu/9A6rIrdzBb/Pw2PNOI4CP9gvPHNIpSA/jycOZkr7Lj9kyptCqv43P/53Kk7rAUE/kcgv/DHaRj/AMBSavMhMP8pQr7m+5lA/30yysIw2Uz84T+Jk/KpVPy0a3YswSFg/tAGLzZ0RWz8LBVD7EhJeP274+KTVgGA/I/6JE13sXT9ksDXmtHFUP8yfkLrSWUg/P/1rS5cCOz8eIYT5i9YqP3RM8ridSRU/qrYCQD98+D6lQ8nFiDrcPve1mpcaOL0+Xf0tQ5M/xr6nWXtLj4XdvjVnSesmz9a+NyKp4C70vz5Gr2v0A+TgPoRSiUoHsuo+Cwj1H2Np8D5pWo4z//ztPhuQmWdH0Os+e+x1sb2h4D63B7zC/0rJvpumIppf5fS+mY+pxWCEBr++CaV2IPQTvzW6s4bpMCC/2lEZZPWPJL9F3475d2givyiTr71/pxW/TB1O1y/x7L6vL6mF6FEYP9VmAmJ6nC8/hWRh+h3BPD8i+c0zpLlGP5OCxZ1mk1A/q44zhYLdVj+6st6ETy5eP6iARdBpNWM/4hqy0d+qZz+K1k6vtE5sPydeq2bZeHA/6i/iXPa0cj/uSKZXi850P3+iQAxlwnY/fi3JsHObeD/OTebaOnF6P3UwYugfYHw/Uwz5J32Ifj9bMArl8XKAP6hKoVVpcIE/7PC0VXmdgT+Rasl7PWWAPwB9x94+M3w/cZGpqYYwdz9YIBJvsWNyP+XWgqgETmo/\",\"dtype\":\"float64\",\"shape\":[75]},\"y\":{\"__ndarray__\":\"GhExyth1ND/Sv8nbtpRIP2vylNV0PVE/aTum7souWD/At0SJ8fVgPw3Iuahxymc/MSNhhJWvcD/bTfBN02d3P2zb5nxnaoA/CD5h5MAGhz8NmeH1TyaQP+zrCsc9p5Y/LbKd76fGnz/bLW5ISEmmPww9YvTcQq8/JV2OstnstT8Er5Y7M8G+P0c+r3jqkcU/5h99k6ZBzj88bCIzFzjVP4enV8oyxN0//yH99nXg5D8qOpLLf0jtP5kqGJXUifQ/c9cS8kHP/D+/DpwzojQEQIEmwoanVwxA4lgXt9HgE0BSSZ2AJuIbQAMJih9jjiNA5q4l5INuK0AwTKYKRj0zQNv5fmq8/DpAaCJseHrtQkB/+zpwzoxKQM3MzMzMeFJAZmZmZmZqWEAAAAAAAFxeQM3MzMzMJmJAmpmZmZkfZUBmZmZmZhhoQDMzMzMzEWtAAAAAAAAKbkBmZmZmZoFwQM3MzMzM/XFAMzMzMzN6c0CamZmZmfZ0QAAAAAAAc3ZAZmZmZmbvd0DNzMzMzGt5QDMzMzMz6HpAmpmZmZlkfEAAAAAAAOF9QGZmZmZmXX9AZmZmZuZsgECamZmZGSuBQM3MzMxM6YFAAAAAAICngkAzMzMzs2WDQGZmZmbmI4RAmpmZmRnihEDNzMzMTKCFQAAAAACAXoZAMzMzM7Mch0BmZmZm5tqHQJqZmZkZmYhAzczMzExXiUAAAAAAgBWKQDMzMzOz04pAZmZmZuaRi0CamZmZGVCMQM3MzMxMDo1AAAAAAIDMjUAzMzMzs4qOQGZmZmbmSI9A\",\"dtype\":\"float64\",\"shape\":[75]}},\"selected\":{\"id\":\"86fccaa7-4dfa-42bd-a15f-666c9ed292d8\",\"type\":\"Selection\"},\"selection_policy\":{\"id\":\"a495abd8-837a-4733-b2fa-45159e5a7cdb\",\"type\":\"UnionRenderers\"}},\"id\":\"93ca725e-7692-4832-8e4b-2807855fb17a\",\"type\":\"ColumnDataSource\"},{\"attributes\":{\"children\":[{\"id\":\"8a9edf19-44b4-4ffc-8457-66b1efb735a3\",\"type\":\"ToolbarBox\"},{\"id\":\"c9f61737-c095-47a7-911d-effc857ec3db\",\"type\":\"Column\"}]},\"id\":\"887d672f-0737-4bc8-8f7a-87a3b9388545\",\"type\":\"Column\"},{\"attributes\":{},\"id\":\"0cac556d-be44-4dea-8987-f595f2953aee\",\"type\":\"LinearScale\"},{\"attributes\":{\"bottom_units\":\"screen\",\"fill_alpha\":{\"value\":0.5},\"fill_color\":{\"value\":\"lightgrey\"},\"left_units\":\"screen\",\"level\":\"overlay\",\"line_alpha\":{\"value\":1.0},\"line_color\":{\"value\":\"black\"},\"line_dash\":[4,4],\"line_width\":{\"value\":2},\"plot\":null,\"render_mode\":\"css\",\"right_units\":\"screen\",\"top_units\":\"screen\"},\"id\":\"d72271a9-94c5-4aa7-9397-32e71a7c83dc\",\"type\":\"BoxAnnotation\"},{\"attributes\":{\"children\":[{\"id\":\"1097df6f-47be-4077-b11d-ab6de438d9b2\",\"type\":\"Row\"}]},\"id\":\"c9f61737-c095-47a7-911d-effc857ec3db\",\"type\":\"Column\"},{\"attributes\":{\"line_alpha\":0.1,\"line_color\":\"#1f77b4\",\"line_dash\":[6],\"line_width\":5,\"x\":{\"field\":\"x\"},\"y\":{\"field\":\"y\"}},\"id\":\"17d54f34-1436-404e-b302-10785515b265\",\"type\":\"Line\"},{\"attributes\":{\"source\":{\"id\":\"bdec3279-c361-41c8-a892-3e0ca4b6a727\",\"type\":\"ColumnDataSource\"}},\"id\":\"6817ee93-e3a8-41ff-8b0a-14e3e94b1031\",\"type\":\"CDSView\"},{\"attributes\":{\"overlay\":{\"id\":\"d72271a9-94c5-4aa7-9397-32e71a7c83dc\",\"type\":\"BoxAnnotation\"}},\"id\":\"dc5a1de3-870a-46de-995e-c11e15e892ae\",\"type\":\"BoxZoomTool\"},{\"attributes\":{\"fill_alpha\":{\"value\":0.7},\"fill_color\":{\"value\":\"#4daf4a\"},\"line_alpha\":{\"value\":0.7},\"line_color\":{\"value\":\"#4daf4a\"},\"x\":{\"field\":\"x\"},\"y\":{\"field\":\"y\"}},\"id\":\"b548d8e1-5d67-4ee3-ae2d-0dedbfbf4ab0\",\"type\":\"Circle\"},{\"attributes\":{\"data_source\":{\"id\":\"85c27ef7-70ec-476f-a004-75b712d824b1\",\"type\":\"ColumnDataSource\"},\"glyph\":{\"id\":\"2e591947-e8e4-42c1-94e8-66d15497bdf7\",\"type\":\"Line\"},\"hover_glyph\":null,\"muted_glyph\":null,\"nonselection_glyph\":{\"id\":\"bab306db-5499-4198-aeaa-57195f91070d\",\"type\":\"Line\"},\"selection_glyph\":null,\"view\":{\"id\":\"bb57a22a-7320-4091-9b4e-84e182f90f2a\",\"type\":\"CDSView\"}},\"id\":\"b0cdff9c-1432-45a3-b5c9-e48f79b6354b\",\"type\":\"GlyphRenderer\"},{\"attributes\":{\"data_source\":{\"id\":\"d5458b75-b4cc-4744-8ddf-fdd5acc712de\",\"type\":\"ColumnDataSource\"},\"glyph\":{\"id\":\"cab84ac6-75b8-48d4-a11f-f859050d0a52\",\"type\":\"Line\"},\"hover_glyph\":null,\"muted_glyph\":null,\"nonselection_glyph\":{\"id\":\"12b273ce-dd35-42be-baec-a0f500835bd0\",\"type\":\"Line\"},\"selection_glyph\":null,\"view\":{\"id\":\"5a87d878-8271-4368-912b-0ae7a61210d5\",\"type\":\"CDSView\"}},\"id\":\"50deb2a5-84ac-4e87-a280-b7ad08e997f6\",\"type\":\"GlyphRenderer\"},{\"attributes\":{\"axis_label\":\"cooling rate [K/day]\",\"formatter\":{\"id\":\"036c5821-8fed-437d-9d3f-f78db28c832e\",\"type\":\"BasicTickFormatter\"},\"plot\":{\"id\":\"26953136-9878-48f0-9540-aa1a054f2dc0\",\"subtype\":\"Figure\",\"type\":\"Plot\"},\"ticker\":{\"id\":\"654adb70-aba5-4253-94d5-02aceab32297\",\"type\":\"BasicTicker\"}},\"id\":\"def57af3-644c-48a2-8cad-4f33c944484d\",\"type\":\"LinearAxis\"},{\"attributes\":{},\"id\":\"353dfbda-44bc-49df-b28c-a2df17de3c67\",\"type\":\"PanTool\"},{\"attributes\":{\"num_minor_ticks\":10},\"id\":\"024400aa-13f9-4dd6-bd31-e33fb9f3f2b9\",\"type\":\"LogTicker\"},{\"attributes\":{\"fill_alpha\":{\"value\":0.1},\"fill_color\":{\"value\":\"#1f77b4\"},\"line_alpha\":{\"value\":0.1},\"line_color\":{\"value\":\"#1f77b4\"},\"x\":{\"field\":\"x\"},\"y\":{\"field\":\"y\"}},\"id\":\"eb45f8f7-bf03-4f6d-9089-91db49f9374a\",\"type\":\"Circle\"},{\"attributes\":{},\"id\":\"902226b4-3301-40e8-911e-301ac6c68dfe\",\"type\":\"WheelZoomTool\"},{\"attributes\":{\"line_color\":\"#4daf4a\",\"line_width\":1.5,\"x\":{\"field\":\"x\"},\"y\":{\"field\":\"y\"}},\"id\":\"24573a3a-8003-4ecc-be70-619ec000d16c\",\"type\":\"Line\"},{\"attributes\":{},\"id\":\"654adb70-aba5-4253-94d5-02aceab32297\",\"type\":\"BasicTicker\"},{\"attributes\":{\"items\":[{\"id\":\"fd4a4dea-65d8-41a7-a49c-fd2347fb35fb\",\"type\":\"LegendItem\"},{\"id\":\"f679f243-3216-4330-a2fc-8723d11927cd\",\"type\":\"LegendItem\"},{\"id\":\"094ad167-6624-40d9-a6cc-2495227b3842\",\"type\":\"LegendItem\"}],\"label_text_font_size\":{\"value\":\"8pt\"},\"location\":[10,-30],\"plot\":{\"id\":\"26953136-9878-48f0-9540-aa1a054f2dc0\",\"subtype\":\"Figure\",\"type\":\"Plot\"}},\"id\":\"16009dee-7e00-4025-850e-d6d3812497ed\",\"type\":\"Legend\"},{\"attributes\":{\"data_source\":{\"id\":\"93ca725e-7692-4832-8e4b-2807855fb17a\",\"type\":\"ColumnDataSource\"},\"glyph\":{\"id\":\"a582255e-fa12-41e2-acd7-70dcf8e5697e\",\"type\":\"Circle\"},\"hover_glyph\":null,\"muted_glyph\":null,\"nonselection_glyph\":{\"id\":\"eb45f8f7-bf03-4f6d-9089-91db49f9374a\",\"type\":\"Circle\"},\"selection_glyph\":null,\"view\":{\"id\":\"6dbc44c7-9d76-4f28-b67c-ce1b07743ed3\",\"type\":\"CDSView\"}},\"id\":\"9fd36c33-43fd-4929-95ed-2ecfa5070e14\",\"type\":\"GlyphRenderer\"},{\"attributes\":{\"callback\":null,\"data\":{\"x\":{\"__ndarray__\":\"KjNfexeNvj7ciR+LQhTePpRJf0fc0fQ+A6mjv9SyAj8Y/k3anNkMPyRBBmybmxQ/qIFGLGkaHD8JwKfRfZMiP62RmntVBCg/6VTdHJeJLj9ANAUMvC4zP+3dog9j4jc/jefv/ftdPT9CSdnqOoZBP5f5mZ29BkQ/z9AyklNrRj8PS4/a7QtJP1LPLGMm8Us//co/bsAiTz/1TLDmp1RRP7gZrI/sEVM/KtKxDtC5UT+dKVdVrilKP562q+o6mEE/6L4WK9MUNz+zF9g81ywtP3FehwPpbSE/tbUZxXuZFD/SLvRd7AkKP6CgZxahTAA/9OykotVE8T4YvwXL4aHVPssnL0vPD6c+hyK7rDf9xT7dqfcBr2LYPqS19qCK2uE+pWHtMbM55D6M4kG9xQ/ePr9eEOSHkMU+KrhIz5ia3r7G6jTGT8P4vuuN/+a2Xwe/GrR5whCEEr8IAVHTJsAbvxfVTwJSGCS/Sqx2BPWmKL/aIkYCvI0nv78QEhSJsSG/pYBeWrLpGb9T0a2G9acCvxEdMirffBc/uRonBe6aMj/rA4hlDCFBP0+IC9yHgkk/aR3705U+UT8knHSmW4FWP0Qc7B9eSF0//Ypv12kBYz96XRxbxEdoPzOF4YvPKW4/SNGnZqYdcj8JLMXVdhF1P+SP/rh10Hc/MhZsBmdYej8fwCoBH7h8PxEtfNX+CX8/P76lTlq3gD9wwCts2u+BPylcDwhZ4II/OSKOItDmgj+yN+/h3GuBP9j7VEXbk30/1j7M+bTcdz/26XfuxWpyP6gTVSqXRmk/\",\"dtype\":\"float64\",\"shape\":[75]},\"y\":{\"__ndarray__\":\"GhExyth1ND/Sv8nbtpRIP2vylNV0PVE/aTum7souWD/At0SJ8fVgPw3Iuahxymc/MSNhhJWvcD/bTfBN02d3P2zb5nxnaoA/CD5h5MAGhz8NmeH1TyaQP+zrCsc9p5Y/LbKd76fGnz/bLW5ISEmmPww9YvTcQq8/JV2OstnstT8Er5Y7M8G+P0c+r3jqkcU/5h99k6ZBzj88bCIzFzjVP4enV8oyxN0//yH99nXg5D8qOpLLf0jtP5kqGJXUifQ/c9cS8kHP/D+/DpwzojQEQIEmwoanVwxA4lgXt9HgE0BSSZ2AJuIbQAMJih9jjiNA5q4l5INuK0AwTKYKRj0zQNv5fmq8/DpAaCJseHrtQkB/+zpwzoxKQM3MzMzMeFJAZmZmZmZqWEAAAAAAAFxeQM3MzMzMJmJAmpmZmZkfZUBmZmZmZhhoQDMzMzMzEWtAAAAAAAAKbkBmZmZmZoFwQM3MzMzM/XFAMzMzMzN6c0CamZmZmfZ0QAAAAAAAc3ZAZmZmZmbvd0DNzMzMzGt5QDMzMzMz6HpAmpmZmZlkfEAAAAAAAOF9QGZmZmZmXX9AZmZmZuZsgECamZmZGSuBQM3MzMxM6YFAAAAAAICngkAzMzMzs2WDQGZmZmbmI4RAmpmZmRnihEDNzMzMTKCFQAAAAACAXoZAMzMzM7Mch0BmZmZm5tqHQJqZmZkZmYhAzczMzExXiUAAAAAAgBWKQDMzMzOz04pAZmZmZuaRi0CamZmZGVCMQM3MzMxMDo1AAAAAAIDMjUAzMzMzs4qOQGZmZmbmSI9A\",\"dtype\":\"float64\",\"shape\":[75]}},\"selected\":{\"id\":\"9cf4f3f3-2995-4b5c-9f0f-fe905b523964\",\"type\":\"Selection\"},\"selection_policy\":{\"id\":\"eaa7c49a-f2d7-40ea-be78-4bc58a34a765\",\"type\":\"UnionRenderers\"}},\"id\":\"4d6d0382-0d10-4056-b9cd-12d7a4a94a51\",\"type\":\"ColumnDataSource\"},{\"attributes\":{\"source\":{\"id\":\"3de50a8a-3b90-425c-b6f4-333d72e48898\",\"type\":\"ColumnDataSource\"}},\"id\":\"ef2ecb88-c8d8-431a-a2c5-65437bf03a44\",\"type\":\"CDSView\"},{\"attributes\":{\"dimension\":1,\"plot\":{\"id\":\"26953136-9878-48f0-9540-aa1a054f2dc0\",\"subtype\":\"Figure\",\"type\":\"Plot\"},\"ticker\":{\"id\":\"024400aa-13f9-4dd6-bd31-e33fb9f3f2b9\",\"type\":\"LogTicker\"}},\"id\":\"72947dcf-5cd5-4069-b983-a49bd5deea27\",\"type\":\"Grid\"},{\"attributes\":{\"source\":{\"id\":\"93ca725e-7692-4832-8e4b-2807855fb17a\",\"type\":\"ColumnDataSource\"}},\"id\":\"6dbc44c7-9d76-4f28-b67c-ce1b07743ed3\",\"type\":\"CDSView\"},{\"attributes\":{\"line_alpha\":0.1,\"line_color\":\"#1f77b4\",\"line_width\":3,\"x\":{\"field\":\"x\"},\"y\":{\"field\":\"y\"}},\"id\":\"2350d7a5-a63f-42d1-aefc-3269ae4b5a81\",\"type\":\"Line\"},{\"attributes\":{\"line_alpha\":0.6,\"line_color\":\"#e41a1c\",\"line_dash\":[6],\"line_width\":5,\"x\":{\"field\":\"x\"},\"y\":{\"field\":\"y\"}},\"id\":\"2e591947-e8e4-42c1-94e8-66d15497bdf7\",\"type\":\"Line\"},{\"attributes\":{\"source\":{\"id\":\"85c27ef7-70ec-476f-a004-75b712d824b1\",\"type\":\"ColumnDataSource\"}},\"id\":\"bb57a22a-7320-4091-9b4e-84e182f90f2a\",\"type\":\"CDSView\"},{\"attributes\":{\"data_source\":{\"id\":\"3de50a8a-3b90-425c-b6f4-333d72e48898\",\"type\":\"ColumnDataSource\"},\"glyph\":{\"id\":\"23a2a257-65f6-46c5-beac-df0acc89950a\",\"type\":\"Line\"},\"hover_glyph\":null,\"muted_glyph\":null,\"nonselection_glyph\":{\"id\":\"2350d7a5-a63f-42d1-aefc-3269ae4b5a81\",\"type\":\"Line\"},\"selection_glyph\":null,\"view\":{\"id\":\"ef2ecb88-c8d8-431a-a2c5-65437bf03a44\",\"type\":\"CDSView\"}},\"id\":\"2247c1c8-effe-45fd-b1c4-060e2bde85eb\",\"type\":\"GlyphRenderer\"},{\"attributes\":{\"fill_alpha\":{\"value\":0.7},\"fill_color\":{\"value\":\"#4daf4a\"},\"line_alpha\":{\"value\":0.7},\"line_color\":{\"value\":\"#4daf4a\"},\"x\":{\"field\":\"x\"},\"y\":{\"field\":\"y\"}},\"id\":\"a582255e-fa12-41e2-acd7-70dcf8e5697e\",\"type\":\"Circle\"},{\"attributes\":{\"line_alpha\":0.1,\"line_color\":\"#1f77b4\",\"line_width\":3,\"x\":{\"field\":\"x\"},\"y\":{\"field\":\"y\"}},\"id\":\"12b273ce-dd35-42be-baec-a0f500835bd0\",\"type\":\"Line\"},{\"attributes\":{\"callback\":null,\"data\":{\"x\":{\"__ndarray__\":\"2Ya0Dt1rMb9y1mzXqr0wvz3GSRAMHi6/1lIxr9LGKb/jBV5yYVQkv/ofv6KtMRu/9A6rIrdzBb/Pw2PNOI4CP9gvPHNIpSA/jycOZkr7Lj9kyptCqv43P/53Kk7rAUE/kcgv/DHaRj/AMBSavMhMP8pQr7m+5lA/30yysIw2Uz84T+Jk/KpVPy0a3YswSFg/tAGLzZ0RWz8LBVD7EhJeP274+KTVgGA/I/6JE13sXT9ksDXmtHFUP8yfkLrSWUg/P/1rS5cCOz8eIYT5i9YqP3RM8ridSRU/qrYCQD98+D6lQ8nFiDrcPve1mpcaOL0+Xf0tQ5M/xr6nWXtLj4XdvjVnSesmz9a+NyKp4C70vz5Gr2v0A+TgPoRSiUoHsuo+Cwj1H2Np8D5pWo4z//ztPhuQmWdH0Os+e+x1sb2h4D63B7zC/0rJvpumIppf5fS+mY+pxWCEBr++CaV2IPQTvzW6s4bpMCC/2lEZZPWPJL9F3475d2givyiTr71/pxW/TB1O1y/x7L6vL6mF6FEYP9VmAmJ6nC8/hWRh+h3BPD8i+c0zpLlGP5OCxZ1mk1A/q44zhYLdVj+6st6ETy5eP6iARdBpNWM/4hqy0d+qZz+K1k6vtE5sPydeq2bZeHA/6i/iXPa0cj/uSKZXi850P3+iQAxlwnY/fi3JsHObeD/OTebaOnF6P3UwYugfYHw/Uwz5J32Ifj9bMArl8XKAP6hKoVVpcIE/7PC0VXmdgT+Rasl7PWWAPwB9x94+M3w/cZGpqYYwdz9YIBJvsWNyP+XWgqgETmo/\",\"dtype\":\"float64\",\"shape\":[75]},\"y\":{\"__ndarray__\":\"GhExyth1ND/Sv8nbtpRIP2vylNV0PVE/aTum7souWD/At0SJ8fVgPw3Iuahxymc/MSNhhJWvcD/bTfBN02d3P2zb5nxnaoA/CD5h5MAGhz8NmeH1TyaQP+zrCsc9p5Y/LbKd76fGnz/bLW5ISEmmPww9YvTcQq8/JV2OstnstT8Er5Y7M8G+P0c+r3jqkcU/5h99k6ZBzj88bCIzFzjVP4enV8oyxN0//yH99nXg5D8qOpLLf0jtP5kqGJXUifQ/c9cS8kHP/D+/DpwzojQEQIEmwoanVwxA4lgXt9HgE0BSSZ2AJuIbQAMJih9jjiNA5q4l5INuK0AwTKYKRj0zQNv5fmq8/DpAaCJseHrtQkB/+zpwzoxKQM3MzMzMeFJAZmZmZmZqWEAAAAAAAFxeQM3MzMzMJmJAmpmZmZkfZUBmZmZmZhhoQDMzMzMzEWtAAAAAAAAKbkBmZmZmZoFwQM3MzMzM/XFAMzMzMzN6c0CamZmZmfZ0QAAAAAAAc3ZAZmZmZmbvd0DNzMzMzGt5QDMzMzMz6HpAmpmZmZlkfEAAAAAAAOF9QGZmZmZmXX9AZmZmZuZsgECamZmZGSuBQM3MzMxM6YFAAAAAAICngkAzMzMzs2WDQGZmZmbmI4RAmpmZmRnihEDNzMzMTKCFQAAAAACAXoZAMzMzM7Mch0BmZmZm5tqHQJqZmZkZmYhAzczMzExXiUAAAAAAgBWKQDMzMzOz04pAZmZmZuaRi0CamZmZGVCMQM3MzMxMDo1AAAAAAIDMjUAzMzMzs4qOQGZmZmbmSI9A\",\"dtype\":\"float64\",\"shape\":[75]}},\"selected\":{\"id\":\"96f2fcbe-01d0-4488-bcd3-37fa40dfa1f0\",\"type\":\"Selection\"},\"selection_policy\":{\"id\":\"4b06dc4c-7a1e-41ba-824e-c55143e2a15e\",\"type\":\"UnionRenderers\"}},\"id\":\"6b988d5e-3bf7-4a6e-8300-02d88b70cb4a\",\"type\":\"ColumnDataSource\"},{\"attributes\":{\"plot\":{\"id\":\"26953136-9878-48f0-9540-aa1a054f2dc0\",\"subtype\":\"Figure\",\"type\":\"Plot\"},\"ticker\":{\"id\":\"654adb70-aba5-4253-94d5-02aceab32297\",\"type\":\"BasicTicker\"}},\"id\":\"d10cc0a8-e877-44af-ad80-e025a321ebb1\",\"type\":\"Grid\"},{\"attributes\":{\"line_alpha\":0.1,\"line_color\":\"#1f77b4\",\"line_width\":1.5,\"x\":{\"field\":\"x\"},\"y\":{\"field\":\"y\"}},\"id\":\"052565e3-5abd-459d-bead-707fd5309b7d\",\"type\":\"Line\"},{\"attributes\":{\"data_source\":{\"id\":\"6b988d5e-3bf7-4a6e-8300-02d88b70cb4a\",\"type\":\"ColumnDataSource\"},\"glyph\":{\"id\":\"24573a3a-8003-4ecc-be70-619ec000d16c\",\"type\":\"Line\"},\"hover_glyph\":null,\"muted_glyph\":null,\"nonselection_glyph\":{\"id\":\"052565e3-5abd-459d-bead-707fd5309b7d\",\"type\":\"Line\"},\"selection_glyph\":null,\"view\":{\"id\":\"26697029-c5bf-4781-8fa2-302bcabdf1be\",\"type\":\"CDSView\"}},\"id\":\"ee0f013c-cd3f-4529-8728-fdd947a7d2e4\",\"type\":\"GlyphRenderer\"},{\"attributes\":{},\"id\":\"377f173c-1a3a-4f12-b04a-e5383251efa9\",\"type\":\"HelpTool\"},{\"attributes\":{\"source\":{\"id\":\"6b988d5e-3bf7-4a6e-8300-02d88b70cb4a\",\"type\":\"ColumnDataSource\"}},\"id\":\"26697029-c5bf-4781-8fa2-302bcabdf1be\",\"type\":\"CDSView\"},{\"attributes\":{\"fill_alpha\":{\"value\":0.7},\"fill_color\":{\"value\":\"#984ea3\"},\"line_alpha\":{\"value\":0.7},\"line_color\":{\"value\":\"#984ea3\"},\"x\":{\"field\":\"x\"},\"y\":{\"field\":\"y\"}},\"id\":\"405accee-7f4c-4a72-92b0-ff824ff27e6c\",\"type\":\"Square\"},{\"attributes\":{},\"id\":\"1c70a6c9-01a1-4d98-9bb5-b9a0570099cd\",\"type\":\"LogScale\"},{\"attributes\":{\"callback\":null,\"data\":{\"x\":{\"__ndarray__\":\"KjNfexeNvj7ciR+LQhTePpRJf0fc0fQ+A6mjv9SyAj8Y/k3anNkMPyRBBmybmxQ/qIFGLGkaHD8JwKfRfZMiP62RmntVBCg/6VTdHJeJLj9ANAUMvC4zP+3dog9j4jc/jefv/ftdPT9CSdnqOoZBP5f5mZ29BkQ/z9AyklNrRj8PS4/a7QtJP1LPLGMm8Us//co/bsAiTz/1TLDmp1RRP7gZrI/sEVM/KtKxDtC5UT+dKVdVrilKP562q+o6mEE/6L4WK9MUNz+zF9g81ywtP3FehwPpbSE/tbUZxXuZFD/SLvRd7AkKP6CgZxahTAA/9OykotVE8T4YvwXL4aHVPssnL0vPD6c+hyK7rDf9xT7dqfcBr2LYPqS19qCK2uE+pWHtMbM55D6M4kG9xQ/ePr9eEOSHkMU+KrhIz5ia3r7G6jTGT8P4vuuN/+a2Xwe/GrR5whCEEr8IAVHTJsAbvxfVTwJSGCS/Sqx2BPWmKL/aIkYCvI0nv78QEhSJsSG/pYBeWrLpGb9T0a2G9acCvxEdMirffBc/uRonBe6aMj/rA4hlDCFBP0+IC9yHgkk/aR3705U+UT8knHSmW4FWP0Qc7B9eSF0//Ypv12kBYz96XRxbxEdoPzOF4YvPKW4/SNGnZqYdcj8JLMXVdhF1P+SP/rh10Hc/MhZsBmdYej8fwCoBH7h8PxEtfNX+CX8/P76lTlq3gD9wwCts2u+BPylcDwhZ4II/OSKOItDmgj+yN+/h3GuBP9j7VEXbk30/1j7M+bTcdz/26XfuxWpyP6gTVSqXRmk/\",\"dtype\":\"float64\",\"shape\":[75]},\"y\":{\"__ndarray__\":\"GhExyth1ND/Sv8nbtpRIP2vylNV0PVE/aTum7souWD/At0SJ8fVgPw3Iuahxymc/MSNhhJWvcD/bTfBN02d3P2zb5nxnaoA/CD5h5MAGhz8NmeH1TyaQP+zrCsc9p5Y/LbKd76fGnz/bLW5ISEmmPww9YvTcQq8/JV2OstnstT8Er5Y7M8G+P0c+r3jqkcU/5h99k6ZBzj88bCIzFzjVP4enV8oyxN0//yH99nXg5D8qOpLLf0jtP5kqGJXUifQ/c9cS8kHP/D+/DpwzojQEQIEmwoanVwxA4lgXt9HgE0BSSZ2AJuIbQAMJih9jjiNA5q4l5INuK0AwTKYKRj0zQNv5fmq8/DpAaCJseHrtQkB/+zpwzoxKQM3MzMzMeFJAZmZmZmZqWEAAAAAAAFxeQM3MzMzMJmJAmpmZmZkfZUBmZmZmZhhoQDMzMzMzEWtAAAAAAAAKbkBmZmZmZoFwQM3MzMzM/XFAMzMzMzN6c0CamZmZmfZ0QAAAAAAAc3ZAZmZmZmbvd0DNzMzMzGt5QDMzMzMz6HpAmpmZmZlkfEAAAAAAAOF9QGZmZmZmXX9AZmZmZuZsgECamZmZGSuBQM3MzMxM6YFAAAAAAICngkAzMzMzs2WDQGZmZmbmI4RAmpmZmRnihEDNzMzMTKCFQAAAAACAXoZAMzMzM7Mch0BmZmZm5tqHQJqZmZkZmYhAzczMzExXiUAAAAAAgBWKQDMzMzOz04pAZmZmZuaRi0CamZmZGVCMQM3MzMxMDo1AAAAAAIDMjUAzMzMzs4qOQGZmZmbmSI9A\",\"dtype\":\"float64\",\"shape\":[75]}},\"selected\":{\"id\":\"f16037f9-13bf-4f98-ae5d-7e68bb34884e\",\"type\":\"Selection\"},\"selection_policy\":{\"id\":\"074d583f-3be1-47ba-825c-65208c5bd713\",\"type\":\"UnionRenderers\"}},\"id\":\"3de50a8a-3b90-425c-b6f4-333d72e48898\",\"type\":\"ColumnDataSource\"},{\"attributes\":{\"fill_alpha\":{\"value\":0.1},\"fill_color\":{\"value\":\"#1f77b4\"},\"line_alpha\":{\"value\":0.1},\"line_color\":{\"value\":\"#1f77b4\"},\"x\":{\"field\":\"x\"},\"y\":{\"field\":\"y\"}},\"id\":\"6504f2e0-eb11-4a42-a0b7-c69a0e2c88d6\",\"type\":\"Square\"},{\"attributes\":{\"data_source\":{\"id\":\"4d6d0382-0d10-4056-b9cd-12d7a4a94a51\",\"type\":\"ColumnDataSource\"},\"glyph\":{\"id\":\"405accee-7f4c-4a72-92b0-ff824ff27e6c\",\"type\":\"Square\"},\"hover_glyph\":null,\"muted_glyph\":null,\"nonselection_glyph\":{\"id\":\"6504f2e0-eb11-4a42-a0b7-c69a0e2c88d6\",\"type\":\"Square\"},\"selection_glyph\":null,\"view\":{\"id\":\"7143b93e-8f66-4387-ba54-9385da5ad709\",\"type\":\"CDSView\"}},\"id\":\"f94c9a44-95c6-44cc-a7a1-02f92e969878\",\"type\":\"GlyphRenderer\"},{\"attributes\":{\"callback\":null,\"data\":{\"x\":{\"__ndarray__\":\"uaIiumcj477U2MUuGIYCv0X1g72kVOQ+pV5G/kB8+j7upfXuoncGP9ht6uxJyxA/tkk+/mtWFz8/QKZVriAfP5WKXNk6MyQ/UmrQlo2/KT9QGhcODyswP2ERpmj0FDQ/t8Yi+yPFOD9xArg505Q9PwVNh+p/20A/knET9hXXQj9Y4d4UHApFPzaXhWVOdUc/Fyta9kceSj9xhmzu2QtNP2V2AEYD+E8/cY4mQDrGTT/DST/I2vxFP/Od/4AguT0/Ob2dBrqaMz/iWDlfGf0oP1OvtWz5SB4/VP71t0NBEj+vEDSFXokHP4K8fWqmWf4+5vo7MtkA8T6tPjZQmYnaProiojI9TsM+CqsPZu2N0D7H3ttSEADcPi+vKnMXGuM+Z7CIzGEL5T7y49ICWezfPmDP7NBU68s+Aq9pJrWd2762RRB4r5v4vk0xloW94Qe/uOYjcK4CE78ANBWlLmAcvzipK74eUiS/MiHKsrTEKL9U3YfU/rknv3jSdAK/HyK/LeQXGdQ9HL8pb1IVFHsLv0h5BWEwuBQ/w0DzE7AYMz/XirC5BMNBP8f0+zPAW0k/nJl1dHUUUD/ClPxccRBUP5muLyt3E1o/AFyexRF2YT/xEaXExBtnP+pxPdyeuG0/fiuUb+8/cj/Ho5VwoaF1P6F7PmLutXg/KICSnd95ez/UsX8kifp9P9eBhk51J4A/FvAZJqZNgT/FfMr/1XuCP5lN1BdoTIM/TyioxuIugz/dOllURo+BP2+Uirdmk30/pViTwpORdz/S9liHVvhxP7hyHwV7D2g/\",\"dtype\":\"float64\",\"shape\":[75]},\"y\":{\"__ndarray__\":\"S/O/Q+51ND/Sv8nbtpRIP2vylNV0PVE/aTum7souWD/At0SJ8fVgPw3Iuahxymc/MSNhhJWvcD/bTfBN02d3P2zb5nxnaoA/CD5h5MAGhz8NmeH1TyaQP+zrCsc9p5Y/LbKd76fGnz/bLW5ISEmmPww9YvTcQq8/JV2OstnstT8Er5Y7M8G+P0c+r3jqkcU/5h99k6ZBzj88bCIzFzjVP4enV8oyxN0//yH99nXg5D8qOpLLf0jtP5kqGJXUifQ/c9cS8kHP/D+/DpwzojQEQIEmwoanVwxA4lgXt9HgE0BSSZ2AJuIbQAMJih9jjiNA5q4l5INuK0AwTKYKRj0zQNv5fmq8/DpAaCJseHrtQkB/+zpwzoxKQM3MzMzMeFJAZmZmZmZqWEAAAAAAAFxeQM3MzMzMJmJAmpmZmZkfZUBmZmZmZhhoQDMzMzMzEWtAAAAAAAAKbkBmZmZmZoFwQM3MzMzM/XFAMzMzMzN6c0CamZmZmfZ0QAAAAAAAc3ZAZmZmZmbvd0DNzMzMzGt5QDMzMzMz6HpAmpmZmZlkfEAAAAAAAOF9QGZmZmZmXX9AZmZmZuZsgECamZmZGSuBQM3MzMxM6YFAAAAAAICngkAzMzMzs2WDQGZmZmbmI4RAmpmZmRnihEDNzMzMTKCFQAAAAACAXoZAMzMzM7Mch0BmZmZm5tqHQJqZmZkZmYhAzczMzExXiUAAAAAAgBWKQDMzMzOz04pAZmZmZuaRi0CamZmZGVCMQM3MzMxMDo1AAAAAAIDMjUAzMzMzs4qOQGZmZmbmSI9A\",\"dtype\":\"float64\",\"shape\":[75]}},\"selected\":{\"id\":\"43c8be3c-5cb3-4363-a065-62e1851c8f49\",\"type\":\"Selection\"},\"selection_policy\":{\"id\":\"317a9029-8a37-4035-93fc-7958469eec05\",\"type\":\"UnionRenderers\"}},\"id\":\"85c27ef7-70ec-476f-a004-75b712d824b1\",\"type\":\"ColumnDataSource\"},{\"attributes\":{\"source\":{\"id\":\"4d6d0382-0d10-4056-b9cd-12d7a4a94a51\",\"type\":\"ColumnDataSource\"}},\"id\":\"7143b93e-8f66-4387-ba54-9385da5ad709\",\"type\":\"CDSView\"},{\"attributes\":{\"children\":[{\"id\":\"653d88fa-ec62-4ca8-84be-39f07d53e11d\",\"subtype\":\"Figure\",\"type\":\"Plot\"},{\"id\":\"26953136-9878-48f0-9540-aa1a054f2dc0\",\"subtype\":\"Figure\",\"type\":\"Plot\"}]},\"id\":\"1097df6f-47be-4077-b11d-ab6de438d9b2\",\"type\":\"Row\"},{\"attributes\":{\"label\":{\"value\":\"CLIRAD `coolr_bands`\"},\"renderers\":[{\"id\":\"b0cdff9c-1432-45a3-b5c9-e48f79b6354b\",\"type\":\"GlyphRenderer\"}]},\"id\":\"fd4a4dea-65d8-41a7-a49c-fd2347fb35fb\",\"type\":\"LegendItem\"},{\"attributes\":{},\"id\":\"c78443ca-1e7a-4ead-9523-1c2b8619fd48\",\"type\":\"Selection\"},{\"attributes\":{\"label\":{\"value\":\"CRD\"},\"renderers\":[{\"id\":\"9fd36c33-43fd-4929-95ed-2ecfa5070e14\",\"type\":\"GlyphRenderer\"},{\"id\":\"ee0f013c-cd3f-4529-8728-fdd947a7d2e4\",\"type\":\"GlyphRenderer\"}]},\"id\":\"f679f243-3216-4330-a2fc-8723d11927cd\",\"type\":\"LegendItem\"},{\"attributes\":{},\"id\":\"865fae04-bbff-4489-9f90-d1848b472296\",\"type\":\"Selection\"},{\"attributes\":{\"label\":{\"value\":\"WGT igg=10 wgt_flux=2\"},\"renderers\":[{\"id\":\"f94c9a44-95c6-44cc-a7a1-02f92e969878\",\"type\":\"GlyphRenderer\"},{\"id\":\"2247c1c8-effe-45fd-b1c4-060e2bde85eb\",\"type\":\"GlyphRenderer\"}]},\"id\":\"094ad167-6624-40d9-a6cc-2495227b3842\",\"type\":\"LegendItem\"},{\"attributes\":{\"plot\":null,\"text\":\"Log pressure scale\"},\"id\":\"d9b63285-5caf-409d-9c37-2ff9ee781971\",\"type\":\"Title\"},{\"attributes\":{},\"id\":\"ee47e5cb-9858-4d81-80c2-7b3ffe55ba58\",\"type\":\"Selection\"},{\"attributes\":{},\"id\":\"9f1dc047-0abb-4509-bd62-c072c390788f\",\"type\":\"BasicTickFormatter\"},{\"attributes\":{},\"id\":\"a206c5a4-b7a8-4a28-bb4f-f69693db9d77\",\"type\":\"BasicTickFormatter\"},{\"attributes\":{\"callback\":null,\"end\":0.0020349398387607,\"start\":-4.399751483070001e-05},\"id\":\"9937041a-a252-45ad-9a87-e32919f18620\",\"type\":\"Range1d\"},{\"attributes\":{},\"id\":\"f9509a9f-1602-4c32-973b-726301d450c7\",\"type\":\"Selection\"},{\"attributes\":{},\"id\":\"acfa2530-a696-43b3-89e5-b65581e06b48\",\"type\":\"UnionRenderers\"},{\"attributes\":{\"active_drag\":\"auto\",\"active_inspect\":\"auto\",\"active_scroll\":\"auto\",\"active_tap\":\"auto\",\"tools\":[{\"id\":\"353dfbda-44bc-49df-b28c-a2df17de3c67\",\"type\":\"PanTool\"},{\"id\":\"902226b4-3301-40e8-911e-301ac6c68dfe\",\"type\":\"WheelZoomTool\"},{\"id\":\"dc5a1de3-870a-46de-995e-c11e15e892ae\",\"type\":\"BoxZoomTool\"},{\"id\":\"025f9fa0-6f73-4d35-9a71-15ebeb216860\",\"type\":\"SaveTool\"},{\"id\":\"b2113e2e-8020-4da3-89a9-bc1dc73b6f9c\",\"type\":\"ResetTool\"},{\"id\":\"377f173c-1a3a-4f12-b04a-e5383251efa9\",\"type\":\"HelpTool\"}]},\"id\":\"8743807d-b108-4af1-a8c4-2265c2b55da3\",\"type\":\"Toolbar\"},{\"attributes\":{},\"id\":\"e4dcf96b-50a1-4b17-b769-c00439b7b73f\",\"type\":\"Selection\"},{\"attributes\":{\"line_alpha\":0.1,\"line_color\":\"#1f77b4\",\"line_dash\":[6],\"line_width\":5,\"x\":{\"field\":\"x\"},\"y\":{\"field\":\"y\"}},\"id\":\"bab306db-5499-4198-aeaa-57195f91070d\",\"type\":\"Line\"},{\"attributes\":{},\"id\":\"43c8be3c-5cb3-4363-a065-62e1851c8f49\",\"type\":\"Selection\"},{\"attributes\":{},\"id\":\"35931994-1030-48bb-b268-2ac34850004a\",\"type\":\"PanTool\"},{\"attributes\":{\"axis_label\":\"pressure [mb]\",\"formatter\":{\"id\":\"43e8f47f-ee69-4ee7-93ed-40eaf124475e\",\"type\":\"LogTickFormatter\"},\"plot\":{\"id\":\"26953136-9878-48f0-9540-aa1a054f2dc0\",\"subtype\":\"Figure\",\"type\":\"Plot\"},\"ticker\":{\"id\":\"024400aa-13f9-4dd6-bd31-e33fb9f3f2b9\",\"type\":\"LogTicker\"}},\"id\":\"0ed4b900-b658-4f7c-9288-de06f08fdccb\",\"type\":\"LogAxis\"},{\"attributes\":{},\"id\":\"aa57143a-beee-40fd-9705-222ea9571c23\",\"type\":\"UnionRenderers\"},{\"attributes\":{},\"id\":\"025f9fa0-6f73-4d35-9a71-15ebeb216860\",\"type\":\"SaveTool\"},{\"attributes\":{\"ticker\":null},\"id\":\"43e8f47f-ee69-4ee7-93ed-40eaf124475e\",\"type\":\"LogTickFormatter\"},{\"attributes\":{\"line_alpha\":0.6,\"line_color\":\"#984ea3\",\"line_width\":3,\"x\":{\"field\":\"x\"},\"y\":{\"field\":\"y\"}},\"id\":\"23a2a257-65f6-46c5-beac-df0acc89950a\",\"type\":\"Line\"},{\"attributes\":{},\"id\":\"ab63d6c1-5eb3-4516-a745-29268bace117\",\"type\":\"UnionRenderers\"},{\"attributes\":{},\"id\":\"86fccaa7-4dfa-42bd-a15f-666c9ed292d8\",\"type\":\"Selection\"},{\"attributes\":{\"source\":{\"id\":\"d5458b75-b4cc-4744-8ddf-fdd5acc712de\",\"type\":\"ColumnDataSource\"}},\"id\":\"5a87d878-8271-4368-912b-0ae7a61210d5\",\"type\":\"CDSView\"},{\"attributes\":{},\"id\":\"9afdb574-fa1a-4ee4-bd1a-d56a6a415571\",\"type\":\"UnionRenderers\"},{\"attributes\":{},\"id\":\"4b06dc4c-7a1e-41ba-824e-c55143e2a15e\",\"type\":\"UnionRenderers\"},{\"attributes\":{\"data_source\":{\"id\":\"bdec3279-c361-41c8-a892-3e0ca4b6a727\",\"type\":\"ColumnDataSource\"},\"glyph\":{\"id\":\"abd9f624-620b-451f-a3df-db3c379513b6\",\"type\":\"Line\"},\"hover_glyph\":null,\"muted_glyph\":null,\"nonselection_glyph\":{\"id\":\"17d54f34-1436-404e-b302-10785515b265\",\"type\":\"Line\"},\"selection_glyph\":null,\"view\":{\"id\":\"6817ee93-e3a8-41ff-8b0a-14e3e94b1031\",\"type\":\"CDSView\"}},\"id\":\"71145446-3791-428d-9c97-3cea3503a863\",\"type\":\"GlyphRenderer\"},{\"attributes\":{},\"id\":\"036c5821-8fed-437d-9d3f-f78db28c832e\",\"type\":\"BasicTickFormatter\"},{\"attributes\":{},\"id\":\"a495abd8-837a-4733-b2fa-45159e5a7cdb\",\"type\":\"UnionRenderers\"},{\"attributes\":{\"callback\":null,\"end\":0.01,\"start\":1020},\"id\":\"490912a8-ef00-4848-ae93-40818004e1f9\",\"type\":\"Range1d\"},{\"attributes\":{},\"id\":\"9cf4f3f3-2995-4b5c-9f0f-fe905b523964\",\"type\":\"Selection\"},{\"attributes\":{},\"id\":\"b2113e2e-8020-4da3-89a9-bc1dc73b6f9c\",\"type\":\"ResetTool\"},{\"attributes\":{},\"id\":\"96f2fcbe-01d0-4488-bcd3-37fa40dfa1f0\",\"type\":\"Selection\"},{\"attributes\":{},\"id\":\"317a9029-8a37-4035-93fc-7958469eec05\",\"type\":\"UnionRenderers\"},{\"attributes\":{\"callback\":null,\"data\":{\"x\":{\"__ndarray__\":\"uaIiumcj477U2MUuGIYCv0X1g72kVOQ+pV5G/kB8+j7upfXuoncGP9ht6uxJyxA/tkk+/mtWFz8/QKZVriAfP5WKXNk6MyQ/UmrQlo2/KT9QGhcODyswP2ERpmj0FDQ/t8Yi+yPFOD9xArg505Q9PwVNh+p/20A/knET9hXXQj9Y4d4UHApFPzaXhWVOdUc/Fyta9kceSj9xhmzu2QtNP2V2AEYD+E8/cY4mQDrGTT/DST/I2vxFP/Od/4AguT0/Ob2dBrqaMz/iWDlfGf0oP1OvtWz5SB4/VP71t0NBEj+vEDSFXokHP4K8fWqmWf4+5vo7MtkA8T6tPjZQmYnaProiojI9TsM+CqsPZu2N0D7H3ttSEADcPi+vKnMXGuM+Z7CIzGEL5T7y49ICWezfPmDP7NBU68s+Aq9pJrWd2762RRB4r5v4vk0xloW94Qe/uOYjcK4CE78ANBWlLmAcvzipK74eUiS/MiHKsrTEKL9U3YfU/rknv3jSdAK/HyK/LeQXGdQ9HL8pb1IVFHsLv0h5BWEwuBQ/w0DzE7AYMz/XirC5BMNBP8f0+zPAW0k/nJl1dHUUUD/ClPxccRBUP5muLyt3E1o/AFyexRF2YT/xEaXExBtnP+pxPdyeuG0/fiuUb+8/cj/Ho5VwoaF1P6F7PmLutXg/KICSnd95ez/UsX8kifp9P9eBhk51J4A/FvAZJqZNgT/FfMr/1XuCP5lN1BdoTIM/TyioxuIugz/dOllURo+BP2+Uirdmk30/pViTwpORdz/S9liHVvhxP7hyHwV7D2g/\",\"dtype\":\"float64\",\"shape\":[75]},\"y\":{\"__ndarray__\":\"S/O/Q+51ND/Sv8nbtpRIP2vylNV0PVE/aTum7souWD/At0SJ8fVgPw3Iuahxymc/MSNhhJWvcD/bTfBN02d3P2zb5nxnaoA/CD5h5MAGhz8NmeH1TyaQP+zrCsc9p5Y/LbKd76fGnz/bLW5ISEmmPww9YvTcQq8/JV2OstnstT8Er5Y7M8G+P0c+r3jqkcU/5h99k6ZBzj88bCIzFzjVP4enV8oyxN0//yH99nXg5D8qOpLLf0jtP5kqGJXUifQ/c9cS8kHP/D+/DpwzojQEQIEmwoanVwxA4lgXt9HgE0BSSZ2AJuIbQAMJih9jjiNA5q4l5INuK0AwTKYKRj0zQNv5fmq8/DpAaCJseHrtQkB/+zpwzoxKQM3MzMzMeFJAZmZmZmZqWEAAAAAAAFxeQM3MzMzMJmJAmpmZmZkfZUBmZmZmZhhoQDMzMzMzEWtAAAAAAAAKbkBmZmZmZoFwQM3MzMzM/XFAMzMzMzN6c0CamZmZmfZ0QAAAAAAAc3ZAZmZmZmbvd0DNzMzMzGt5QDMzMzMz6HpAmpmZmZlkfEAAAAAAAOF9QGZmZmZmXX9AZmZmZuZsgECamZmZGSuBQM3MzMxM6YFAAAAAAICngkAzMzMzs2WDQGZmZmbmI4RAmpmZmRnihEDNzMzMTKCFQAAAAACAXoZAMzMzM7Mch0BmZmZm5tqHQJqZmZkZmYhAzczMzExXiUAAAAAAgBWKQDMzMzOz04pAZmZmZuaRi0CamZmZGVCMQM3MzMxMDo1AAAAAAIDMjUAzMzMzs4qOQGZmZmbmSI9A\",\"dtype\":\"float64\",\"shape\":[75]}},\"selected\":{\"id\":\"865fae04-bbff-4489-9f90-d1848b472296\",\"type\":\"Selection\"},\"selection_policy\":{\"id\":\"f04366e9-8a6e-4fb9-bc83-14b8d12c9faa\",\"type\":\"UnionRenderers\"}},\"id\":\"bdec3279-c361-41c8-a892-3e0ca4b6a727\",\"type\":\"ColumnDataSource\"},{\"attributes\":{},\"id\":\"eaa7c49a-f2d7-40ea-be78-4bc58a34a765\",\"type\":\"UnionRenderers\"},{\"attributes\":{\"line_color\":\"#4daf4a\",\"line_width\":1.5,\"x\":{\"field\":\"x\"},\"y\":{\"field\":\"y\"}},\"id\":\"574c6ff2-c435-45ff-9971-46b5f7657f66\",\"type\":\"Line\"},{\"attributes\":{\"source\":{\"id\":\"2a102893-5caa-4241-8dbd-4f4e927af0c0\",\"type\":\"ColumnDataSource\"}},\"id\":\"a0322ab3-6d04-4889-98b6-577577bb2e43\",\"type\":\"CDSView\"},{\"attributes\":{},\"id\":\"ebfc9b44-dee4-4a13-9bbf-e5a60aad77e0\",\"type\":\"BasicTicker\"},{\"attributes\":{\"line_alpha\":0.1,\"line_color\":\"#1f77b4\",\"line_width\":1.5,\"x\":{\"field\":\"x\"},\"y\":{\"field\":\"y\"}},\"id\":\"28c29757-e20a-48b1-87f7-7cb46e5dee05\",\"type\":\"Line\"},{\"attributes\":{\"callback\":null,\"data\":{\"x\":{\"__ndarray__\":\"KjNfexeNvj7ciR+LQhTePpRJf0fc0fQ+A6mjv9SyAj8Y/k3anNkMPyRBBmybmxQ/qIFGLGkaHD8JwKfRfZMiP62RmntVBCg/6VTdHJeJLj9ANAUMvC4zP+3dog9j4jc/jefv/ftdPT9CSdnqOoZBP5f5mZ29BkQ/z9AyklNrRj8PS4/a7QtJP1LPLGMm8Us//co/bsAiTz/1TLDmp1RRP7gZrI/sEVM/KtKxDtC5UT+dKVdVrilKP562q+o6mEE/6L4WK9MUNz+zF9g81ywtP3FehwPpbSE/tbUZxXuZFD/SLvRd7AkKP6CgZxahTAA/9OykotVE8T4YvwXL4aHVPssnL0vPD6c+hyK7rDf9xT7dqfcBr2LYPqS19qCK2uE+pWHtMbM55D6M4kG9xQ/ePr9eEOSHkMU+KrhIz5ia3r7G6jTGT8P4vuuN/+a2Xwe/GrR5whCEEr8IAVHTJsAbvxfVTwJSGCS/Sqx2BPWmKL/aIkYCvI0nv78QEhSJsSG/pYBeWrLpGb9T0a2G9acCvxEdMirffBc/uRonBe6aMj/rA4hlDCFBP0+IC9yHgkk/aR3705U+UT8knHSmW4FWP0Qc7B9eSF0//Ypv12kBYz96XRxbxEdoPzOF4YvPKW4/SNGnZqYdcj8JLMXVdhF1P+SP/rh10Hc/MhZsBmdYej8fwCoBH7h8PxEtfNX+CX8/P76lTlq3gD9wwCts2u+BPylcDwhZ4II/OSKOItDmgj+yN+/h3GuBP9j7VEXbk30/1j7M+bTcdz/26XfuxWpyP6gTVSqXRmk/\",\"dtype\":\"float64\",\"shape\":[75]},\"y\":{\"__ndarray__\":\"GhExyth1ND/Sv8nbtpRIP2vylNV0PVE/aTum7souWD/At0SJ8fVgPw3Iuahxymc/MSNhhJWvcD/bTfBN02d3P2zb5nxnaoA/CD5h5MAGhz8NmeH1TyaQP+zrCsc9p5Y/LbKd76fGnz/bLW5ISEmmPww9YvTcQq8/JV2OstnstT8Er5Y7M8G+P0c+r3jqkcU/5h99k6ZBzj88bCIzFzjVP4enV8oyxN0//yH99nXg5D8qOpLLf0jtP5kqGJXUifQ/c9cS8kHP/D+/DpwzojQEQIEmwoanVwxA4lgXt9HgE0BSSZ2AJuIbQAMJih9jjiNA5q4l5INuK0AwTKYKRj0zQNv5fmq8/DpAaCJseHrtQkB/+zpwzoxKQM3MzMzMeFJAZmZmZmZqWEAAAAAAAFxeQM3MzMzMJmJAmpmZmZkfZUBmZmZmZhhoQDMzMzMzEWtAAAAAAAAKbkBmZmZmZoFwQM3MzMzM/XFAMzMzMzN6c0CamZmZmfZ0QAAAAAAAc3ZAZmZmZmbvd0DNzMzMzGt5QDMzMzMz6HpAmpmZmZlkfEAAAAAAAOF9QGZmZmZmXX9AZmZmZuZsgECamZmZGSuBQM3MzMxM6YFAAAAAAICngkAzMzMzs2WDQGZmZmbmI4RAmpmZmRnihEDNzMzMTKCFQAAAAACAXoZAMzMzM7Mch0BmZmZm5tqHQJqZmZkZmYhAzczMzExXiUAAAAAAgBWKQDMzMzOz04pAZmZmZuaRi0CamZmZGVCMQM3MzMxMDo1AAAAAAIDMjUAzMzMzs4qOQGZmZmbmSI9A\",\"dtype\":\"float64\",\"shape\":[75]}},\"selected\":{\"id\":\"e4dcf96b-50a1-4b17-b769-c00439b7b73f\",\"type\":\"Selection\"},\"selection_policy\":{\"id\":\"ab63d6c1-5eb3-4516-a745-29268bace117\",\"type\":\"UnionRenderers\"}},\"id\":\"c2b794a7-b906-4955-8b2b-720150f976c7\",\"type\":\"ColumnDataSource\"},{\"attributes\":{\"plot\":null,\"text\":\"Linear pressure scale\"},\"id\":\"a88d9727-f36f-4f6d-beab-d9f0492dfc5d\",\"type\":\"Title\"},{\"attributes\":{},\"id\":\"758c5fd1-d625-4c3a-a485-ac98e545dda6\",\"type\":\"LinearScale\"},{\"attributes\":{},\"id\":\"f04366e9-8a6e-4fb9-bc83-14b8d12c9faa\",\"type\":\"UnionRenderers\"},{\"attributes\":{},\"id\":\"ecbfe6f0-f12c-4145-9023-19aa154622ec\",\"type\":\"WheelZoomTool\"},{\"attributes\":{\"overlay\":{\"id\":\"202deb39-3145-4bf1-926b-1c3f43846bce\",\"type\":\"BoxAnnotation\"}},\"id\":\"03d2c972-7580-43d6-a8ee-b5392864df67\",\"type\":\"BoxZoomTool\"},{\"attributes\":{\"bottom_units\":\"screen\",\"fill_alpha\":{\"value\":0.5},\"fill_color\":{\"value\":\"lightgrey\"},\"left_units\":\"screen\",\"level\":\"overlay\",\"line_alpha\":{\"value\":1.0},\"line_color\":{\"value\":\"black\"},\"line_dash\":[4,4],\"line_width\":{\"value\":2},\"plot\":null,\"render_mode\":\"css\",\"right_units\":\"screen\",\"top_units\":\"screen\"},\"id\":\"202deb39-3145-4bf1-926b-1c3f43846bce\",\"type\":\"BoxAnnotation\"},{\"attributes\":{\"below\":[{\"id\":\"def57af3-644c-48a2-8cad-4f33c944484d\",\"type\":\"LinearAxis\"}],\"left\":[{\"id\":\"0ed4b900-b658-4f7c-9288-de06f08fdccb\",\"type\":\"LogAxis\"}],\"plot_height\":500,\"plot_width\":560,\"renderers\":[{\"id\":\"def57af3-644c-48a2-8cad-4f33c944484d\",\"type\":\"LinearAxis\"},{\"id\":\"d10cc0a8-e877-44af-ad80-e025a321ebb1\",\"type\":\"Grid\"},{\"id\":\"0ed4b900-b658-4f7c-9288-de06f08fdccb\",\"type\":\"LogAxis\"},{\"id\":\"72947dcf-5cd5-4069-b983-a49bd5deea27\",\"type\":\"Grid\"},{\"id\":\"d72271a9-94c5-4aa7-9397-32e71a7c83dc\",\"type\":\"BoxAnnotation\"},{\"id\":\"b0cdff9c-1432-45a3-b5c9-e48f79b6354b\",\"type\":\"GlyphRenderer\"},{\"id\":\"9fd36c33-43fd-4929-95ed-2ecfa5070e14\",\"type\":\"GlyphRenderer\"},{\"id\":\"ee0f013c-cd3f-4529-8728-fdd947a7d2e4\",\"type\":\"GlyphRenderer\"},{\"id\":\"f94c9a44-95c6-44cc-a7a1-02f92e969878\",\"type\":\"GlyphRenderer\"},{\"id\":\"2247c1c8-effe-45fd-b1c4-060e2bde85eb\",\"type\":\"GlyphRenderer\"},{\"id\":\"16009dee-7e00-4025-850e-d6d3812497ed\",\"type\":\"Legend\"}],\"right\":[{\"id\":\"16009dee-7e00-4025-850e-d6d3812497ed\",\"type\":\"Legend\"}],\"title\":{\"id\":\"d9b63285-5caf-409d-9c37-2ff9ee781971\",\"type\":\"Title\"},\"toolbar\":{\"id\":\"8743807d-b108-4af1-a8c4-2265c2b55da3\",\"type\":\"Toolbar\"},\"toolbar_location\":null,\"x_range\":{\"id\":\"9937041a-a252-45ad-9a87-e32919f18620\",\"type\":\"Range1d\"},\"x_scale\":{\"id\":\"0cac556d-be44-4dea-8987-f595f2953aee\",\"type\":\"LinearScale\"},\"y_range\":{\"id\":\"490912a8-ef00-4848-ae93-40818004e1f9\",\"type\":\"Range1d\"},\"y_scale\":{\"id\":\"1c70a6c9-01a1-4d98-9bb5-b9a0570099cd\",\"type\":\"LogScale\"}},\"id\":\"26953136-9878-48f0-9540-aa1a054f2dc0\",\"subtype\":\"Figure\",\"type\":\"Plot\"},{\"attributes\":{},\"id\":\"4ea2ae6d-62b8-4f7b-98bb-e2020d761379\",\"type\":\"LinearScale\"},{\"attributes\":{},\"id\":\"856ebd85-4e80-4a5b-a17c-aa32c5205ad4\",\"type\":\"HelpTool\"},{\"attributes\":{},\"id\":\"e9e5c64d-70b0-4ad1-93c6-dc0b5fde60c9\",\"type\":\"SaveTool\"},{\"attributes\":{},\"id\":\"31fdf977-d9aa-4b26-8c15-fc1a394dcd22\",\"type\":\"ResetTool\"},{\"attributes\":{\"below\":[{\"id\":\"bc38ee0e-fcc1-4dc0-97eb-49d70a5a7b76\",\"type\":\"LinearAxis\"}],\"left\":[{\"id\":\"982335d0-877d-46b5-bda2-40d49954d07b\",\"type\":\"LinearAxis\"}],\"plot_height\":500,\"plot_width\":400,\"renderers\":[{\"id\":\"bc38ee0e-fcc1-4dc0-97eb-49d70a5a7b76\",\"type\":\"LinearAxis\"},{\"id\":\"e498c507-6630-4d5f-91e2-e3aea06f5b95\",\"type\":\"Grid\"},{\"id\":\"982335d0-877d-46b5-bda2-40d49954d07b\",\"type\":\"LinearAxis\"},{\"id\":\"ce56f55e-154d-459f-ad1f-30cc0d3ba6dc\",\"type\":\"Grid\"},{\"id\":\"202deb39-3145-4bf1-926b-1c3f43846bce\",\"type\":\"BoxAnnotation\"},{\"id\":\"71145446-3791-428d-9c97-3cea3503a863\",\"type\":\"GlyphRenderer\"},{\"id\":\"19357d39-8fcf-4500-90e0-81b876a574d8\",\"type\":\"GlyphRenderer\"},{\"id\":\"98834c13-6343-46b0-90fe-8b0b6c6af5d5\",\"type\":\"GlyphRenderer\"},{\"id\":\"d1b2437a-6708-4920-9c5b-c220181dc2b9\",\"type\":\"GlyphRenderer\"},{\"id\":\"50deb2a5-84ac-4e87-a280-b7ad08e997f6\",\"type\":\"GlyphRenderer\"}],\"title\":{\"id\":\"a88d9727-f36f-4f6d-beab-d9f0492dfc5d\",\"type\":\"Title\"},\"toolbar\":{\"id\":\"c55cdea8-9857-4217-b834-288aac5899f5\",\"type\":\"Toolbar\"},\"toolbar_location\":null,\"x_range\":{\"id\":\"ccd6ef5b-c185-496c-bbbd-5855f6eb7cde\",\"type\":\"Range1d\"},\"x_scale\":{\"id\":\"758c5fd1-d625-4c3a-a485-ac98e545dda6\",\"type\":\"LinearScale\"},\"y_range\":{\"id\":\"e836b0ac-4e6e-45e3-9afb-36df4736bfa9\",\"type\":\"Range1d\"},\"y_scale\":{\"id\":\"4ea2ae6d-62b8-4f7b-98bb-e2020d761379\",\"type\":\"LinearScale\"}},\"id\":\"653d88fa-ec62-4ca8-84be-39f07d53e11d\",\"subtype\":\"Figure\",\"type\":\"Plot\"},{\"attributes\":{\"line_alpha\":0.6,\"line_color\":\"#984ea3\",\"line_width\":3,\"x\":{\"field\":\"x\"},\"y\":{\"field\":\"y\"}},\"id\":\"cab84ac6-75b8-48d4-a11f-f859050d0a52\",\"type\":\"Line\"},{\"attributes\":{\"fill_alpha\":{\"value\":0.1},\"fill_color\":{\"value\":\"#1f77b4\"},\"line_alpha\":{\"value\":0.1},\"line_color\":{\"value\":\"#1f77b4\"},\"x\":{\"field\":\"x\"},\"y\":{\"field\":\"y\"}},\"id\":\"878b102a-1ee3-41b3-8254-b5c2431e2029\",\"type\":\"Square\"},{\"attributes\":{\"source\":{\"id\":\"7e731dca-36ce-42fa-ac5a-f7a23659fb6b\",\"type\":\"ColumnDataSource\"}},\"id\":\"15da4de9-fbde-4269-934a-d206c84eacc4\",\"type\":\"CDSView\"},{\"attributes\":{\"callback\":null,\"end\":0.0095191982556,\"start\":-0.0002850882156},\"id\":\"ccd6ef5b-c185-496c-bbbd-5855f6eb7cde\",\"type\":\"Range1d\"},{\"attributes\":{\"callback\":null,\"end\":0.01,\"start\":1020},\"id\":\"e836b0ac-4e6e-45e3-9afb-36df4736bfa9\",\"type\":\"Range1d\"},{\"attributes\":{\"callback\":null,\"data\":{\"x\":{\"__ndarray__\":\"2Ya0Dt1rMb9y1mzXqr0wvz3GSRAMHi6/1lIxr9LGKb/jBV5yYVQkv/ofv6KtMRu/9A6rIrdzBb/Pw2PNOI4CP9gvPHNIpSA/jycOZkr7Lj9kyptCqv43P/53Kk7rAUE/kcgv/DHaRj/AMBSavMhMP8pQr7m+5lA/30yysIw2Uz84T+Jk/KpVPy0a3YswSFg/tAGLzZ0RWz8LBVD7EhJeP274+KTVgGA/I/6JE13sXT9ksDXmtHFUP8yfkLrSWUg/P/1rS5cCOz8eIYT5i9YqP3RM8ridSRU/qrYCQD98+D6lQ8nFiDrcPve1mpcaOL0+Xf0tQ5M/xr6nWXtLj4XdvjVnSesmz9a+NyKp4C70vz5Gr2v0A+TgPoRSiUoHsuo+Cwj1H2Np8D5pWo4z//ztPhuQmWdH0Os+e+x1sb2h4D63B7zC/0rJvpumIppf5fS+mY+pxWCEBr++CaV2IPQTvzW6s4bpMCC/2lEZZPWPJL9F3475d2givyiTr71/pxW/TB1O1y/x7L6vL6mF6FEYP9VmAmJ6nC8/hWRh+h3BPD8i+c0zpLlGP5OCxZ1mk1A/q44zhYLdVj+6st6ETy5eP6iARdBpNWM/4hqy0d+qZz+K1k6vtE5sPydeq2bZeHA/6i/iXPa0cj/uSKZXi850P3+iQAxlwnY/fi3JsHObeD/OTebaOnF6P3UwYugfYHw/Uwz5J32Ifj9bMArl8XKAP6hKoVVpcIE/7PC0VXmdgT+Rasl7PWWAPwB9x94+M3w/cZGpqYYwdz9YIBJvsWNyP+XWgqgETmo/\",\"dtype\":\"float64\",\"shape\":[75]},\"y\":{\"__ndarray__\":\"GhExyth1ND/Sv8nbtpRIP2vylNV0PVE/aTum7souWD/At0SJ8fVgPw3Iuahxymc/MSNhhJWvcD/bTfBN02d3P2zb5nxnaoA/CD5h5MAGhz8NmeH1TyaQP+zrCsc9p5Y/LbKd76fGnz/bLW5ISEmmPww9YvTcQq8/JV2OstnstT8Er5Y7M8G+P0c+r3jqkcU/5h99k6ZBzj88bCIzFzjVP4enV8oyxN0//yH99nXg5D8qOpLLf0jtP5kqGJXUifQ/c9cS8kHP/D+/DpwzojQEQIEmwoanVwxA4lgXt9HgE0BSSZ2AJuIbQAMJih9jjiNA5q4l5INuK0AwTKYKRj0zQNv5fmq8/DpAaCJseHrtQkB/+zpwzoxKQM3MzMzMeFJAZmZmZmZqWEAAAAAAAFxeQM3MzMzMJmJAmpmZmZkfZUBmZmZmZhhoQDMzMzMzEWtAAAAAAAAKbkBmZmZmZoFwQM3MzMzM/XFAMzMzMzN6c0CamZmZmfZ0QAAAAAAAc3ZAZmZmZmbvd0DNzMzMzGt5QDMzMzMz6HpAmpmZmZlkfEAAAAAAAOF9QGZmZmZmXX9AZmZmZuZsgECamZmZGSuBQM3MzMxM6YFAAAAAAICngkAzMzMzs2WDQGZmZmbmI4RAmpmZmRnihEDNzMzMTKCFQAAAAACAXoZAMzMzM7Mch0BmZmZm5tqHQJqZmZkZmYhAzczMzExXiUAAAAAAgBWKQDMzMzOz04pAZmZmZuaRi0CamZmZGVCMQM3MzMxMDo1AAAAAAIDMjUAzMzMzs4qOQGZmZmbmSI9A\",\"dtype\":\"float64\",\"shape\":[75]}},\"selected\":{\"id\":\"f9509a9f-1602-4c32-973b-726301d450c7\",\"type\":\"Selection\"},\"selection_policy\":{\"id\":\"aa57143a-beee-40fd-9705-222ea9571c23\",\"type\":\"UnionRenderers\"}},\"id\":\"2a102893-5caa-4241-8dbd-4f4e927af0c0\",\"type\":\"ColumnDataSource\"},{\"attributes\":{\"line_alpha\":0.6,\"line_color\":\"#e41a1c\",\"line_dash\":[6],\"line_width\":5,\"x\":{\"field\":\"x\"},\"y\":{\"field\":\"y\"}},\"id\":\"abd9f624-620b-451f-a3df-db3c379513b6\",\"type\":\"Line\"},{\"attributes\":{\"data_source\":{\"id\":\"2a102893-5caa-4241-8dbd-4f4e927af0c0\",\"type\":\"ColumnDataSource\"},\"glyph\":{\"id\":\"574c6ff2-c435-45ff-9971-46b5f7657f66\",\"type\":\"Line\"},\"hover_glyph\":null,\"muted_glyph\":null,\"nonselection_glyph\":{\"id\":\"28c29757-e20a-48b1-87f7-7cb46e5dee05\",\"type\":\"Line\"},\"selection_glyph\":null,\"view\":{\"id\":\"a0322ab3-6d04-4889-98b6-577577bb2e43\",\"type\":\"CDSView\"}},\"id\":\"98834c13-6343-46b0-90fe-8b0b6c6af5d5\",\"type\":\"GlyphRenderer\"},{\"attributes\":{\"data_source\":{\"id\":\"7e731dca-36ce-42fa-ac5a-f7a23659fb6b\",\"type\":\"ColumnDataSource\"},\"glyph\":{\"id\":\"b548d8e1-5d67-4ee3-ae2d-0dedbfbf4ab0\",\"type\":\"Circle\"},\"hover_glyph\":null,\"muted_glyph\":null,\"nonselection_glyph\":{\"id\":\"d7166d05-8fd4-4d3f-addf-7a385ba081af\",\"type\":\"Circle\"},\"selection_glyph\":null,\"view\":{\"id\":\"15da4de9-fbde-4269-934a-d206c84eacc4\",\"type\":\"CDSView\"}},\"id\":\"19357d39-8fcf-4500-90e0-81b876a574d8\",\"type\":\"GlyphRenderer\"},{\"attributes\":{\"callback\":null,\"data\":{\"x\":{\"__ndarray__\":\"KjNfexeNvj7ciR+LQhTePpRJf0fc0fQ+A6mjv9SyAj8Y/k3anNkMPyRBBmybmxQ/qIFGLGkaHD8JwKfRfZMiP62RmntVBCg/6VTdHJeJLj9ANAUMvC4zP+3dog9j4jc/jefv/ftdPT9CSdnqOoZBP5f5mZ29BkQ/z9AyklNrRj8PS4/a7QtJP1LPLGMm8Us//co/bsAiTz/1TLDmp1RRP7gZrI/sEVM/KtKxDtC5UT+dKVdVrilKP562q+o6mEE/6L4WK9MUNz+zF9g81ywtP3FehwPpbSE/tbUZxXuZFD/SLvRd7AkKP6CgZxahTAA/9OykotVE8T4YvwXL4aHVPssnL0vPD6c+hyK7rDf9xT7dqfcBr2LYPqS19qCK2uE+pWHtMbM55D6M4kG9xQ/ePr9eEOSHkMU+KrhIz5ia3r7G6jTGT8P4vuuN/+a2Xwe/GrR5whCEEr8IAVHTJsAbvxfVTwJSGCS/Sqx2BPWmKL/aIkYCvI0nv78QEhSJsSG/pYBeWrLpGb9T0a2G9acCvxEdMirffBc/uRonBe6aMj/rA4hlDCFBP0+IC9yHgkk/aR3705U+UT8knHSmW4FWP0Qc7B9eSF0//Ypv12kBYz96XRxbxEdoPzOF4YvPKW4/SNGnZqYdcj8JLMXVdhF1P+SP/rh10Hc/MhZsBmdYej8fwCoBH7h8PxEtfNX+CX8/P76lTlq3gD9wwCts2u+BPylcDwhZ4II/OSKOItDmgj+yN+/h3GuBP9j7VEXbk30/1j7M+bTcdz/26XfuxWpyP6gTVSqXRmk/\",\"dtype\":\"float64\",\"shape\":[75]},\"y\":{\"__ndarray__\":\"GhExyth1ND/Sv8nbtpRIP2vylNV0PVE/aTum7souWD/At0SJ8fVgPw3Iuahxymc/MSNhhJWvcD/bTfBN02d3P2zb5nxnaoA/CD5h5MAGhz8NmeH1TyaQP+zrCsc9p5Y/LbKd76fGnz/bLW5ISEmmPww9YvTcQq8/JV2OstnstT8Er5Y7M8G+P0c+r3jqkcU/5h99k6ZBzj88bCIzFzjVP4enV8oyxN0//yH99nXg5D8qOpLLf0jtP5kqGJXUifQ/c9cS8kHP/D+/DpwzojQEQIEmwoanVwxA4lgXt9HgE0BSSZ2AJuIbQAMJih9jjiNA5q4l5INuK0AwTKYKRj0zQNv5fmq8/DpAaCJseHrtQkB/+zpwzoxKQM3MzMzMeFJAZmZmZmZqWEAAAAAAAFxeQM3MzMzMJmJAmpmZmZkfZUBmZmZmZhhoQDMzMzMzEWtAAAAAAAAKbkBmZmZmZoFwQM3MzMzM/XFAMzMzMzN6c0CamZmZmfZ0QAAAAAAAc3ZAZmZmZmbvd0DNzMzMzGt5QDMzMzMz6HpAmpmZmZlkfEAAAAAAAOF9QGZmZmZmXX9AZmZmZuZsgECamZmZGSuBQM3MzMxM6YFAAAAAAICngkAzMzMzs2WDQGZmZmbmI4RAmpmZmRnihEDNzMzMTKCFQAAAAACAXoZAMzMzM7Mch0BmZmZm5tqHQJqZmZkZmYhAzczMzExXiUAAAAAAgBWKQDMzMzOz04pAZmZmZuaRi0CamZmZGVCMQM3MzMxMDo1AAAAAAIDMjUAzMzMzs4qOQGZmZmbmSI9A\",\"dtype\":\"float64\",\"shape\":[75]}},\"selected\":{\"id\":\"ee47e5cb-9858-4d81-80c2-7b3ffe55ba58\",\"type\":\"Selection\"},\"selection_policy\":{\"id\":\"9afdb574-fa1a-4ee4-bd1a-d56a6a415571\",\"type\":\"UnionRenderers\"}},\"id\":\"d5458b75-b4cc-4744-8ddf-fdd5acc712de\",\"type\":\"ColumnDataSource\"},{\"attributes\":{\"axis_label\":\"cooling rate [K/day]\",\"formatter\":{\"id\":\"9f1dc047-0abb-4509-bd62-c072c390788f\",\"type\":\"BasicTickFormatter\"},\"plot\":{\"id\":\"653d88fa-ec62-4ca8-84be-39f07d53e11d\",\"subtype\":\"Figure\",\"type\":\"Plot\"},\"ticker\":{\"id\":\"923952fe-6e56-4ac4-97aa-c3b9d8ca85e4\",\"type\":\"BasicTicker\"}},\"id\":\"bc38ee0e-fcc1-4dc0-97eb-49d70a5a7b76\",\"type\":\"LinearAxis\"},{\"attributes\":{\"source\":{\"id\":\"c2b794a7-b906-4955-8b2b-720150f976c7\",\"type\":\"ColumnDataSource\"}},\"id\":\"d5e11adb-3ccb-41c0-b518-8e51edd9cadd\",\"type\":\"CDSView\"},{\"attributes\":{\"plot\":{\"id\":\"653d88fa-ec62-4ca8-84be-39f07d53e11d\",\"subtype\":\"Figure\",\"type\":\"Plot\"},\"ticker\":{\"id\":\"923952fe-6e56-4ac4-97aa-c3b9d8ca85e4\",\"type\":\"BasicTicker\"}},\"id\":\"e498c507-6630-4d5f-91e2-e3aea06f5b95\",\"type\":\"Grid\"},{\"attributes\":{\"fill_alpha\":{\"value\":0.7},\"fill_color\":{\"value\":\"#984ea3\"},\"line_alpha\":{\"value\":0.7},\"line_color\":{\"value\":\"#984ea3\"},\"x\":{\"field\":\"x\"},\"y\":{\"field\":\"y\"}},\"id\":\"ef2cb846-70d0-4686-9dd4-8fff6846d665\",\"type\":\"Square\"},{\"attributes\":{\"dimension\":1,\"plot\":{\"id\":\"653d88fa-ec62-4ca8-84be-39f07d53e11d\",\"subtype\":\"Figure\",\"type\":\"Plot\"},\"ticker\":{\"id\":\"ebfc9b44-dee4-4a13-9bbf-e5a60aad77e0\",\"type\":\"BasicTicker\"}},\"id\":\"ce56f55e-154d-459f-ad1f-30cc0d3ba6dc\",\"type\":\"Grid\"},{\"attributes\":{\"data_source\":{\"id\":\"c2b794a7-b906-4955-8b2b-720150f976c7\",\"type\":\"ColumnDataSource\"},\"glyph\":{\"id\":\"ef2cb846-70d0-4686-9dd4-8fff6846d665\",\"type\":\"Square\"},\"hover_glyph\":null,\"muted_glyph\":null,\"nonselection_glyph\":{\"id\":\"878b102a-1ee3-41b3-8254-b5c2431e2029\",\"type\":\"Square\"},\"selection_glyph\":null,\"view\":{\"id\":\"d5e11adb-3ccb-41c0-b518-8e51edd9cadd\",\"type\":\"CDSView\"}},\"id\":\"d1b2437a-6708-4920-9c5b-c220181dc2b9\",\"type\":\"GlyphRenderer\"},{\"attributes\":{},\"id\":\"923952fe-6e56-4ac4-97aa-c3b9d8ca85e4\",\"type\":\"BasicTicker\"},{\"attributes\":{\"active_drag\":\"auto\",\"active_inspect\":\"auto\",\"active_scroll\":\"auto\",\"active_tap\":\"auto\",\"tools\":[{\"id\":\"35931994-1030-48bb-b268-2ac34850004a\",\"type\":\"PanTool\"},{\"id\":\"ecbfe6f0-f12c-4145-9023-19aa154622ec\",\"type\":\"WheelZoomTool\"},{\"id\":\"03d2c972-7580-43d6-a8ee-b5392864df67\",\"type\":\"BoxZoomTool\"},{\"id\":\"e9e5c64d-70b0-4ad1-93c6-dc0b5fde60c9\",\"type\":\"SaveTool\"},{\"id\":\"31fdf977-d9aa-4b26-8c15-fc1a394dcd22\",\"type\":\"ResetTool\"},{\"id\":\"856ebd85-4e80-4a5b-a17c-aa32c5205ad4\",\"type\":\"HelpTool\"}]},\"id\":\"c55cdea8-9857-4217-b834-288aac5899f5\",\"type\":\"Toolbar\"},{\"attributes\":{\"fill_alpha\":{\"value\":0.1},\"fill_color\":{\"value\":\"#1f77b4\"},\"line_alpha\":{\"value\":0.1},\"line_color\":{\"value\":\"#1f77b4\"},\"x\":{\"field\":\"x\"},\"y\":{\"field\":\"y\"}},\"id\":\"d7166d05-8fd4-4d3f-addf-7a385ba081af\",\"type\":\"Circle\"},{\"attributes\":{\"axis_label\":\"pressure [mb]\",\"formatter\":{\"id\":\"a206c5a4-b7a8-4a28-bb4f-f69693db9d77\",\"type\":\"BasicTickFormatter\"},\"plot\":{\"id\":\"653d88fa-ec62-4ca8-84be-39f07d53e11d\",\"subtype\":\"Figure\",\"type\":\"Plot\"},\"ticker\":{\"id\":\"ebfc9b44-dee4-4a13-9bbf-e5a60aad77e0\",\"type\":\"BasicTicker\"}},\"id\":\"982335d0-877d-46b5-bda2-40d49954d07b\",\"type\":\"LinearAxis\"},{\"attributes\":{\"callback\":null,\"data\":{\"x\":{\"__ndarray__\":\"2Ya0Dt1rMb9y1mzXqr0wvz3GSRAMHi6/1lIxr9LGKb/jBV5yYVQkv/ofv6KtMRu/9A6rIrdzBb/Pw2PNOI4CP9gvPHNIpSA/jycOZkr7Lj9kyptCqv43P/53Kk7rAUE/kcgv/DHaRj/AMBSavMhMP8pQr7m+5lA/30yysIw2Uz84T+Jk/KpVPy0a3YswSFg/tAGLzZ0RWz8LBVD7EhJeP274+KTVgGA/I/6JE13sXT9ksDXmtHFUP8yfkLrSWUg/P/1rS5cCOz8eIYT5i9YqP3RM8ridSRU/qrYCQD98+D6lQ8nFiDrcPve1mpcaOL0+Xf0tQ5M/xr6nWXtLj4XdvjVnSesmz9a+NyKp4C70vz5Gr2v0A+TgPoRSiUoHsuo+Cwj1H2Np8D5pWo4z//ztPhuQmWdH0Os+e+x1sb2h4D63B7zC/0rJvpumIppf5fS+mY+pxWCEBr++CaV2IPQTvzW6s4bpMCC/2lEZZPWPJL9F3475d2givyiTr71/pxW/TB1O1y/x7L6vL6mF6FEYP9VmAmJ6nC8/hWRh+h3BPD8i+c0zpLlGP5OCxZ1mk1A/q44zhYLdVj+6st6ETy5eP6iARdBpNWM/4hqy0d+qZz+K1k6vtE5sPydeq2bZeHA/6i/iXPa0cj/uSKZXi850P3+iQAxlwnY/fi3JsHObeD/OTebaOnF6P3UwYugfYHw/Uwz5J32Ifj9bMArl8XKAP6hKoVVpcIE/7PC0VXmdgT+Rasl7PWWAPwB9x94+M3w/cZGpqYYwdz9YIBJvsWNyP+XWgqgETmo/\",\"dtype\":\"float64\",\"shape\":[75]},\"y\":{\"__ndarray__\":\"GhExyth1ND/Sv8nbtpRIP2vylNV0PVE/aTum7souWD/At0SJ8fVgPw3Iuahxymc/MSNhhJWvcD/bTfBN02d3P2zb5nxnaoA/CD5h5MAGhz8NmeH1TyaQP+zrCsc9p5Y/LbKd76fGnz/bLW5ISEmmPww9YvTcQq8/JV2OstnstT8Er5Y7M8G+P0c+r3jqkcU/5h99k6ZBzj88bCIzFzjVP4enV8oyxN0//yH99nXg5D8qOpLLf0jtP5kqGJXUifQ/c9cS8kHP/D+/DpwzojQEQIEmwoanVwxA4lgXt9HgE0BSSZ2AJuIbQAMJih9jjiNA5q4l5INuK0AwTKYKRj0zQNv5fmq8/DpAaCJseHrtQkB/+zpwzoxKQM3MzMzMeFJAZmZmZmZqWEAAAAAAAFxeQM3MzMzMJmJAmpmZmZkfZUBmZmZmZhhoQDMzMzMzEWtAAAAAAAAKbkBmZmZmZoFwQM3MzMzM/XFAMzMzMzN6c0CamZmZmfZ0QAAAAAAAc3ZAZmZmZmbvd0DNzMzMzGt5QDMzMzMz6HpAmpmZmZlkfEAAAAAAAOF9QGZmZmZmXX9AZmZmZuZsgECamZmZGSuBQM3MzMxM6YFAAAAAAICngkAzMzMzs2WDQGZmZmbmI4RAmpmZmRnihEDNzMzMTKCFQAAAAACAXoZAMzMzM7Mch0BmZmZm5tqHQJqZmZkZmYhAzczMzExXiUAAAAAAgBWKQDMzMzOz04pAZmZmZuaRi0CamZmZGVCMQM3MzMxMDo1AAAAAAIDMjUAzMzMzs4qOQGZmZmbmSI9A\",\"dtype\":\"float64\",\"shape\":[75]}},\"selected\":{\"id\":\"c78443ca-1e7a-4ead-9523-1c2b8619fd48\",\"type\":\"Selection\"},\"selection_policy\":{\"id\":\"acfa2530-a696-43b3-89e5-b65581e06b48\",\"type\":\"UnionRenderers\"}},\"id\":\"7e731dca-36ce-42fa-ac5a-f7a23659fb6b\",\"type\":\"ColumnDataSource\"}],\"root_ids\":[\"887d672f-0737-4bc8-8f7a-87a3b9388545\"]},\"title\":\"Bokeh Application\",\"version\":\"0.12.16\"}};\n",
       "  var render_items = [{\"docid\":\"c70ad5d5-618a-4578-a9b4-81bd62ea02d4\",\"elementid\":\"bad30d54-9a4a-4a83-b18c-ac964d0d52f6\",\"modelid\":\"887d672f-0737-4bc8-8f7a-87a3b9388545\"}];\n",
       "  root.Bokeh.embed.embed_items_notebook(docs_json, render_items);\n",
       "\n",
       "  }\n",
       "  if (root.Bokeh !== undefined) {\n",
       "    embed_document(root);\n",
       "  } else {\n",
       "    var attempts = 0;\n",
       "    var timer = setInterval(function(root) {\n",
       "      if (root.Bokeh !== undefined) {\n",
       "        embed_document(root);\n",
       "        clearInterval(timer);\n",
       "      }\n",
       "      attempts++;\n",
       "      if (attempts > 100) {\n",
       "        console.log(\"Bokeh: ERROR: Unable to run BokehJS code because BokehJS library is missing\")\n",
       "        clearInterval(timer);\n",
       "      }\n",
       "    }, 10, root)\n",
       "  }\n",
       "})(window);"
      ],
      "application/vnd.bokehjs_exec.v0+json": ""
     },
     "metadata": {
      "application/vnd.bokehjs_exec.v0+json": {
       "id": "887d672f-0737-4bc8-8f7a-87a3b9388545"
      }
     },
     "output_type": "display_data"
    },
    {
     "name": "stdout",
     "output_type": "stream",
     "text": [
      "FIGURE. Cooling rate profiles.\n"
     ]
    },
    {
     "data": {
      "text/html": [
       "<a id=\"Flux_Comparison\"></a>"
      ],
      "text/plain": [
       "<IPython.core.display.HTML object>"
      ]
     },
     "metadata": {},
     "output_type": "display_data"
    },
    {
     "data": {
      "text/markdown": [
       "# Flux Comparison"
      ],
      "text/plain": [
       "<IPython.core.display.Markdown object>"
      ]
     },
     "metadata": {},
     "output_type": "display_data"
    },
    {
     "data": {
      "text/html": [
       "<div>\n",
       "<style scoped>\n",
       "    .dataframe tbody tr th:only-of-type {\n",
       "        vertical-align: middle;\n",
       "    }\n",
       "\n",
       "    .dataframe tbody tr th {\n",
       "        vertical-align: top;\n",
       "    }\n",
       "\n",
       "    .dataframe thead th {\n",
       "        text-align: right;\n",
       "    }\n",
       "</style>\n",
       "<table border=\"1\" class=\"dataframe\">\n",
       "  <thead>\n",
       "    <tr style=\"text-align: right;\">\n",
       "      <th></th>\n",
       "      <th></th>\n",
       "      <th>flug</th>\n",
       "      <th>fldg</th>\n",
       "      <th>fnetg</th>\n",
       "    </tr>\n",
       "    <tr>\n",
       "      <th>pressure</th>\n",
       "      <th>level</th>\n",
       "      <th></th>\n",
       "      <th></th>\n",
       "      <th></th>\n",
       "    </tr>\n",
       "  </thead>\n",
       "  <tbody>\n",
       "    <tr>\n",
       "      <th>0.0000</th>\n",
       "      <th>1</th>\n",
       "      <td>-1.357878</td>\n",
       "      <td>0.000000</td>\n",
       "      <td>-1.357878</td>\n",
       "    </tr>\n",
       "    <tr>\n",
       "      <th>1.0685</th>\n",
       "      <th>24</th>\n",
       "      <td>-1.357799</td>\n",
       "      <td>0.000116</td>\n",
       "      <td>-1.357683</td>\n",
       "    </tr>\n",
       "    <tr>\n",
       "      <th>1013.0000</th>\n",
       "      <th>76</th>\n",
       "      <td>-1.466909</td>\n",
       "      <td>0.428373</td>\n",
       "      <td>-1.038535</td>\n",
       "    </tr>\n",
       "  </tbody>\n",
       "</table>\n",
       "</div>"
      ],
      "text/plain": [
       "                     flug      fldg     fnetg\n",
       "pressure  level                              \n",
       "0.0000    1     -1.357878  0.000000 -1.357878\n",
       "1.0685    24    -1.357799  0.000116 -1.357683\n",
       "1013.0000 76    -1.466909  0.428373 -1.038535"
      ]
     },
     "metadata": {},
     "output_type": "display_data"
    },
    {
     "name": "stdout",
     "output_type": "stream",
     "text": [
      "Table. Fluxes. CRD\n"
     ]
    },
    {
     "data": {
      "text/html": [
       "<div>\n",
       "<style scoped>\n",
       "    .dataframe tbody tr th:only-of-type {\n",
       "        vertical-align: middle;\n",
       "    }\n",
       "\n",
       "    .dataframe tbody tr th {\n",
       "        vertical-align: top;\n",
       "    }\n",
       "\n",
       "    .dataframe thead th {\n",
       "        text-align: right;\n",
       "    }\n",
       "</style>\n",
       "<table border=\"1\" class=\"dataframe\">\n",
       "  <thead>\n",
       "    <tr style=\"text-align: right;\">\n",
       "      <th></th>\n",
       "      <th></th>\n",
       "      <th>flug</th>\n",
       "      <th>fldg</th>\n",
       "      <th>fnetg</th>\n",
       "    </tr>\n",
       "    <tr>\n",
       "      <th>pressure</th>\n",
       "      <th>level</th>\n",
       "      <th></th>\n",
       "      <th></th>\n",
       "      <th></th>\n",
       "    </tr>\n",
       "  </thead>\n",
       "  <tbody>\n",
       "    <tr>\n",
       "      <th>0.0000</th>\n",
       "      <th>1</th>\n",
       "      <td>-1.354176</td>\n",
       "      <td>0.000000</td>\n",
       "      <td>-1.354176</td>\n",
       "    </tr>\n",
       "    <tr>\n",
       "      <th>1.0685</th>\n",
       "      <th>24</th>\n",
       "      <td>-1.354123</td>\n",
       "      <td>0.000063</td>\n",
       "      <td>-1.354060</td>\n",
       "    </tr>\n",
       "    <tr>\n",
       "      <th>1013.0000</th>\n",
       "      <th>76</th>\n",
       "      <td>-1.466909</td>\n",
       "      <td>0.436167</td>\n",
       "      <td>-1.030742</td>\n",
       "    </tr>\n",
       "  </tbody>\n",
       "</table>\n",
       "</div>"
      ],
      "text/plain": [
       "                     flug      fldg     fnetg\n",
       "pressure  level                              \n",
       "0.0000    1     -1.354176  0.000000 -1.354176\n",
       "1.0685    24    -1.354123  0.000063 -1.354060\n",
       "1013.0000 76    -1.466909  0.436167 -1.030742"
      ]
     },
     "metadata": {},
     "output_type": "display_data"
    },
    {
     "name": "stdout",
     "output_type": "stream",
     "text": [
      "Table. Fluxes. WGT igg=10 wgt_flux=1\n"
     ]
    },
    {
     "data": {
      "text/html": [
       "<div>\n",
       "<style scoped>\n",
       "    .dataframe tbody tr th:only-of-type {\n",
       "        vertical-align: middle;\n",
       "    }\n",
       "\n",
       "    .dataframe tbody tr th {\n",
       "        vertical-align: top;\n",
       "    }\n",
       "\n",
       "    .dataframe thead th {\n",
       "        text-align: right;\n",
       "    }\n",
       "</style>\n",
       "<table border=\"1\" class=\"dataframe\">\n",
       "  <thead>\n",
       "    <tr style=\"text-align: right;\">\n",
       "      <th></th>\n",
       "      <th></th>\n",
       "      <th>flug</th>\n",
       "      <th>fldg</th>\n",
       "      <th>fnetg</th>\n",
       "    </tr>\n",
       "    <tr>\n",
       "      <th>pressure</th>\n",
       "      <th>level</th>\n",
       "      <th></th>\n",
       "      <th></th>\n",
       "      <th></th>\n",
       "    </tr>\n",
       "  </thead>\n",
       "  <tbody>\n",
       "    <tr>\n",
       "      <th>1.000000e-08</th>\n",
       "      <th>1</th>\n",
       "      <td>-1.356134</td>\n",
       "      <td>0.000002</td>\n",
       "      <td>-1.356131</td>\n",
       "    </tr>\n",
       "    <tr>\n",
       "      <th>1.068500e+00</th>\n",
       "      <th>24</th>\n",
       "      <td>-1.356089</td>\n",
       "      <td>0.000056</td>\n",
       "      <td>-1.356033</td>\n",
       "    </tr>\n",
       "    <tr>\n",
       "      <th>1.013000e+03</th>\n",
       "      <th>76</th>\n",
       "      <td>-1.466909</td>\n",
       "      <td>0.437294</td>\n",
       "      <td>-1.029615</td>\n",
       "    </tr>\n",
       "  </tbody>\n",
       "</table>\n",
       "</div>"
      ],
      "text/plain": [
       "                        flug      fldg     fnetg\n",
       "pressure     level                              \n",
       "1.000000e-08 1     -1.356134  0.000002 -1.356131\n",
       "1.068500e+00 24    -1.356089  0.000056 -1.356033\n",
       "1.013000e+03 76    -1.466909  0.437294 -1.029615"
      ]
     },
     "metadata": {},
     "output_type": "display_data"
    },
    {
     "name": "stdout",
     "output_type": "stream",
     "text": [
      "Table. Fluxes. CLIRAD\n"
     ]
    },
    {
     "data": {
      "text/html": [
       "<div>\n",
       "<style scoped>\n",
       "    .dataframe tbody tr th:only-of-type {\n",
       "        vertical-align: middle;\n",
       "    }\n",
       "\n",
       "    .dataframe tbody tr th {\n",
       "        vertical-align: top;\n",
       "    }\n",
       "\n",
       "    .dataframe thead th {\n",
       "        text-align: right;\n",
       "    }\n",
       "</style>\n",
       "<table border=\"1\" class=\"dataframe\">\n",
       "  <thead>\n",
       "    <tr style=\"text-align: right;\">\n",
       "      <th></th>\n",
       "      <th></th>\n",
       "      <th>flug</th>\n",
       "      <th>fldg</th>\n",
       "      <th>fnetg</th>\n",
       "    </tr>\n",
       "    <tr>\n",
       "      <th>pressure</th>\n",
       "      <th>level</th>\n",
       "      <th></th>\n",
       "      <th></th>\n",
       "      <th></th>\n",
       "    </tr>\n",
       "  </thead>\n",
       "  <tbody>\n",
       "    <tr>\n",
       "      <th>0.0000</th>\n",
       "      <th>1</th>\n",
       "      <td>3.701612e-03</td>\n",
       "      <td>0.000000</td>\n",
       "      <td>0.003702</td>\n",
       "    </tr>\n",
       "    <tr>\n",
       "      <th>1.0685</th>\n",
       "      <th>24</th>\n",
       "      <td>3.675658e-03</td>\n",
       "      <td>-0.000053</td>\n",
       "      <td>0.003623</td>\n",
       "    </tr>\n",
       "    <tr>\n",
       "      <th>1013.0000</th>\n",
       "      <th>76</th>\n",
       "      <td>1.640000e-08</td>\n",
       "      <td>0.007794</td>\n",
       "      <td>0.007794</td>\n",
       "    </tr>\n",
       "  </tbody>\n",
       "</table>\n",
       "</div>"
      ],
      "text/plain": [
       "                         flug      fldg     fnetg\n",
       "pressure  level                                  \n",
       "0.0000    1      3.701612e-03  0.000000  0.003702\n",
       "1.0685    24     3.675658e-03 -0.000053  0.003623\n",
       "1013.0000 76     1.640000e-08  0.007794  0.007794"
      ]
     },
     "metadata": {},
     "output_type": "display_data"
    },
    {
     "name": "stdout",
     "output_type": "stream",
     "text": [
      "Table. Fluxes. (WGT igg=10 wgt_flux=1) - (CRD)\n"
     ]
    },
    {
     "data": {
      "text/html": [
       "<div>\n",
       "<style scoped>\n",
       "    .dataframe tbody tr th:only-of-type {\n",
       "        vertical-align: middle;\n",
       "    }\n",
       "\n",
       "    .dataframe tbody tr th {\n",
       "        vertical-align: top;\n",
       "    }\n",
       "\n",
       "    .dataframe thead th {\n",
       "        text-align: right;\n",
       "    }\n",
       "</style>\n",
       "<table border=\"1\" class=\"dataframe\">\n",
       "  <thead>\n",
       "    <tr style=\"text-align: right;\">\n",
       "      <th></th>\n",
       "      <th></th>\n",
       "      <th>flug</th>\n",
       "      <th>fldg</th>\n",
       "      <th>fnetg</th>\n",
       "    </tr>\n",
       "    <tr>\n",
       "      <th>pressure</th>\n",
       "      <th>level</th>\n",
       "      <th></th>\n",
       "      <th></th>\n",
       "      <th></th>\n",
       "    </tr>\n",
       "  </thead>\n",
       "  <tbody>\n",
       "    <tr>\n",
       "      <th>0.0000</th>\n",
       "      <th>1</th>\n",
       "      <td>1.744300e-03</td>\n",
       "      <td>0.000002</td>\n",
       "      <td>0.001747</td>\n",
       "    </tr>\n",
       "    <tr>\n",
       "      <th>1.0685</th>\n",
       "      <th>24</th>\n",
       "      <td>1.709700e-03</td>\n",
       "      <td>-0.000060</td>\n",
       "      <td>0.001649</td>\n",
       "    </tr>\n",
       "    <tr>\n",
       "      <th>1013.0000</th>\n",
       "      <th>76</th>\n",
       "      <td>-2.000000e-07</td>\n",
       "      <td>0.008920</td>\n",
       "      <td>0.008920</td>\n",
       "    </tr>\n",
       "  </tbody>\n",
       "</table>\n",
       "</div>"
      ],
      "text/plain": [
       "                         flug      fldg     fnetg\n",
       "pressure  level                                  \n",
       "0.0000    1      1.744300e-03  0.000002  0.001747\n",
       "1.0685    24     1.709700e-03 -0.000060  0.001649\n",
       "1013.0000 76    -2.000000e-07  0.008920  0.008920"
      ]
     },
     "metadata": {},
     "output_type": "display_data"
    },
    {
     "name": "stdout",
     "output_type": "stream",
     "text": [
      "Table. Fluxes. (CLIRAD) - (CRD)\n"
     ]
    },
    {
     "data": {
      "text/html": [
       "<a id=\"Best-fit_Parameters\"></a>"
      ],
      "text/plain": [
       "<IPython.core.display.HTML object>"
      ]
     },
     "metadata": {},
     "output_type": "display_data"
    },
    {
     "data": {
      "text/markdown": [
       "# Best-fit Parameters"
      ],
      "text/plain": [
       "<IPython.core.display.Markdown object>"
      ]
     },
     "metadata": {},
     "output_type": "display_data"
    },
    {
     "name": "stdout",
     "output_type": "stream",
     "text": [
      "Best-fit values for each (gas, band)\n",
      "------------------------------------\n",
      "o h2o band9\n",
      "  atmpro = mls\n",
      "  band = 9\n",
      "  commitnumber = a06b618\n",
      "  conc = None\n",
      "  dv = 0.001\n",
      "  klin = 1e-24\n",
      "  molecule = h2o\n",
      "  ng_adju = [0]\n",
      "  ng_refs = [5]\n",
      "  nv = 1000\n",
      "  option_compute_btable = 0\n",
      "  option_compute_ktable = 1\n",
      "  option_wgt_flux = 1\n",
      "  option_wgt_k = 1\n",
      "  ref_pts = [(500, 250)]\n",
      "  tsfc = 294\n",
      "  vmax = 3000\n",
      "  vmin = 1900\n",
      "  w_diffuse = [(1.66, 1.66, 1.66, 1.66, 1.66)]\n",
      "  wgt = [(0.4, 0.4, 0.5, 0.55, 0.85)]\n"
     ]
    }
   ],
   "source": [
    "script()"
   ]
  },
  {
   "cell_type": "code",
   "execution_count": 13,
   "metadata": {
    "collapsed": true
   },
   "outputs": [
    {
     "data": {
      "text/html": [
       "<script>\n",
       "code_show=true; \n",
       "function code_toggle() {\n",
       " if (code_show){\n",
       " $('div.input').hide();\n",
       " } else {\n",
       " $('div.input').show();\n",
       " }\n",
       " code_show = !code_show\n",
       "} \n",
       "$( document ).ready(code_toggle);\n",
       "</script>\n",
       "<form action=\"javascript:code_toggle()\"><input type=\"submit\" value=\"Click here to toggle on/off the raw code.\"></form>"
      ],
      "text/plain": [
       "<IPython.core.display.HTML object>"
      ]
     },
     "execution_count": 13,
     "metadata": {},
     "output_type": "execute_result"
    }
   ],
   "source": [
    "display.HTML('''<script>\n",
    "code_show=true; \n",
    "function code_toggle() {\n",
    " if (code_show){\n",
    " $('div.input').hide();\n",
    " } else {\n",
    " $('div.input').show();\n",
    " }\n",
    " code_show = !code_show\n",
    "} \n",
    "$( document ).ready(code_toggle);\n",
    "</script>\n",
    "<form action=\"javascript:code_toggle()\"><input type=\"submit\" value=\"Click here to toggle on/off the raw code.\"></form>''')"
   ]
  }
 ],
 "metadata": {
  "kernelspec": {
   "display_name": "Python 3",
   "language": "python",
   "name": "python3"
  },
  "language_info": {
   "codemirror_mode": {
    "name": "ipython",
    "version": 3
   },
   "file_extension": ".py",
   "mimetype": "text/x-python",
   "name": "python",
   "nbconvert_exporter": "python",
   "pygments_lexer": "ipython3",
   "version": "3.6.1"
  }
 },
 "nbformat": 4,
 "nbformat_minor": 2
}
