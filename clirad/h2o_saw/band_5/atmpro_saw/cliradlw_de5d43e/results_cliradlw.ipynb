{
 "cells": [
  {
   "cell_type": "code",
   "execution_count": 1,
   "metadata": {
    "collapsed": true
   },
   "outputs": [
    {
     "name": "stdout",
     "output_type": "stream",
     "text": [
      "The history saving thread hit an unexpected error (OperationalError('database is locked',)).History will not be written to the database.\n"
     ]
    }
   ],
   "source": [
    "%matplotlib inline\n",
    "import os\n",
    "import re\n",
    "import io\n",
    "import itertools\n",
    "import pprint\n",
    "\n",
    "from bokeh.io import output_notebook, show\n",
    "from bokeh.layouts import gridplot\n",
    "from bokeh.plotting import figure\n",
    "from bokeh.models import Range1d, Legend\n",
    "from bokeh.palettes import all_palettes\n",
    "\n",
    "import matplotlib\n",
    "import matplotlib.pyplot as plt\n",
    "import numpy as np\n",
    "import pandas as pd\n",
    "import xarray as xr\n",
    "\n",
    "import climatools.lblnew.bestfit_params as bestfits\n",
    "from climatools.lblnew import setup_bestfit, setup_overlap\n",
    "import climatools.lblnew.pipeline as pipe_lblnew\n",
    "import climatools.cliradlw.setup as setup_cliradlw\n",
    "import climatools.cliradlw.pipeline as pipe_cliradlw\n",
    "\n",
    "import climatools.html.html as climahtml\n",
    "from climatools.lblnew.dataio import *\n",
    "from climatools.plot.plot import *\n",
    "\n",
    "\n",
    "import IPython.display as display"
   ]
  },
  {
   "cell_type": "code",
   "execution_count": 2,
   "metadata": {
    "collapsed": true
   },
   "outputs": [],
   "source": [
    "%run param.py"
   ]
  },
  {
   "cell_type": "code",
   "execution_count": 3,
   "metadata": {
    "collapsed": true
   },
   "outputs": [],
   "source": [
    "def load_output_file(path_csv):\n",
    "    '''\n",
    "    Load lblnew output .csv file to xarray.Dataset\n",
    "    \n",
    "    Parameters\n",
    "    ----------\n",
    "    path_csv: str\n",
    "              Path to the .csv file to be loaded.\n",
    "    ds: xarray.Dataset\n",
    "        Data in the input file in the form of an xarray.Dataset.\n",
    "    '''\n",
    "    toindex = ['band', 'pressure', 'igg', 'g']    \n",
    "    df = pd.read_csv(path_csv, sep=r'\\s+')\n",
    "    df = df.set_index([i for i in toindex if i in df.columns])\n",
    "    df = df.rename(columns={'sfu': 'flug',\n",
    "                            'sfd': 'fldg',\n",
    "                            'fnet': 'fnetg',\n",
    "                            'coolr': 'coolrg'})\n",
    "    ds = xr.Dataset.from_dataframe(df)\n",
    "\n",
    "    for l in ('level', 'layer'):\n",
    "        if l in ds.data_vars:\n",
    "            if len(ds[l].dims) > 1:\n",
    "                surface = {d: 0 for d in ds.dims if d != 'pressure'}\n",
    "                coord_level = ds[l][surface]\n",
    "                ds.coords[l] = ('pressure', coord_level)\n",
    "            else:\n",
    "                ds.coords[l] = ('pressure', ds[l])\n",
    "    \n",
    "    return ds"
   ]
  },
  {
   "cell_type": "code",
   "execution_count": 4,
   "metadata": {
    "collapsed": true
   },
   "outputs": [],
   "source": [
    "def lblnew_setup(param=None):\n",
    "    if 'ng_refs' in param:\n",
    "        return {'setup': setup_bestfit,\n",
    "                'fname_flux_crd': 'output_flux.dat',\n",
    "                'fname_cool_crd': 'output_coolr.dat',\n",
    "                'fname_flux_wgt': 'output_wfluxg.dat',\n",
    "                'fname_cool_wgt': 'output_wcoolrg.dat'}\n",
    "    else:\n",
    "        return {'setup': setup_overlap,\n",
    "                'fname_flux_crd': 'output_flux.dat',\n",
    "                'fname_cool_crd': 'output_coolr.dat',\n",
    "                'fname_flux_wgt': 'output_wflux.dat',\n",
    "                'fname_cool_wgt': 'output_wcoolr.dat'}\n",
    "\n",
    "    \n",
    "def load_lblnew_data(param):\n",
    "    \n",
    "    fname_dsname = [('fname_flux_crd', 'ds_flux_crd'),\n",
    "                    ('fname_cool_crd', 'ds_cool_crd'),\n",
    "                    ('fname_flux_wgt', 'ds_flux_wgt'),\n",
    "                    ('fname_cool_wgt', 'ds_cool_wgt')]\n",
    "    \n",
    "    d = lblnew_setup(param)\n",
    "    dir_fortran = pipe_lblnew.get_dir_case(param, setup=d['setup'])\n",
    "    \n",
    "    data_dict = {}\n",
    "    for fname, dsname in fname_dsname:\n",
    "        fpath = os.path.join(dir_fortran, d[fname])\n",
    "        data_dict[dsname] = load_output_file(fpath)\n",
    "    return data_dict\n",
    "    \n",
    "\n",
    "    \n",
    "    "
   ]
  },
  {
   "cell_type": "code",
   "execution_count": 5,
   "metadata": {
    "collapsed": true
   },
   "outputs": [],
   "source": [
    "d = load_lblnew_data(PARAM_LBLNEW)\n",
    "\n",
    "DS_FLUX_CRD = d['ds_flux_crd']\n",
    "DS_COOL_CRD = d['ds_cool_crd']\n",
    "DS_FLUX_WGT = d['ds_flux_wgt']\n",
    "DS_COOL_WGT = d['ds_cool_wgt']"
   ]
  },
  {
   "cell_type": "code",
   "execution_count": 6,
   "metadata": {
    "collapsed": true
   },
   "outputs": [],
   "source": [
    "DIR_FORTRAN = pipe_cliradlw.get_fortran_dir(PARAM, \n",
    "                                            setup=setup_cliradlw)\n",
    "\n",
    "PATH_FLUX = os.path.join(DIR_FORTRAN, 'output_flux.dat')\n",
    "PATH_COOL = os.path.join(DIR_FORTRAN, 'output_coolr.dat')\n",
    "\n",
    "DS_FLUX = load_output_file(PATH_FLUX)\n",
    "DS_COOL = load_output_file(PATH_COOL)"
   ]
  },
  {
   "cell_type": "code",
   "execution_count": 7,
   "metadata": {
    "collapsed": true
   },
   "outputs": [
    {
     "data": {
      "text/html": [
       "\n",
       "    <div class=\"bk-root\">\n",
       "        <a href=\"https://bokeh.pydata.org\" target=\"_blank\" class=\"bk-logo bk-logo-small bk-logo-notebook\"></a>\n",
       "        <span id=\"f2ea3e73-6529-4615-9663-6e79b0655aa8\">Loading BokehJS ...</span>\n",
       "    </div>"
      ]
     },
     "metadata": {},
     "output_type": "display_data"
    },
    {
     "data": {
      "application/javascript": [
       "\n",
       "(function(root) {\n",
       "  function now() {\n",
       "    return new Date();\n",
       "  }\n",
       "\n",
       "  var force = true;\n",
       "\n",
       "  if (typeof (root._bokeh_onload_callbacks) === \"undefined\" || force === true) {\n",
       "    root._bokeh_onload_callbacks = [];\n",
       "    root._bokeh_is_loading = undefined;\n",
       "  }\n",
       "\n",
       "  var JS_MIME_TYPE = 'application/javascript';\n",
       "  var HTML_MIME_TYPE = 'text/html';\n",
       "  var EXEC_MIME_TYPE = 'application/vnd.bokehjs_exec.v0+json';\n",
       "  var CLASS_NAME = 'output_bokeh rendered_html';\n",
       "\n",
       "  /**\n",
       "   * Render data to the DOM node\n",
       "   */\n",
       "  function render(props, node) {\n",
       "    var script = document.createElement(\"script\");\n",
       "    node.appendChild(script);\n",
       "  }\n",
       "\n",
       "  /**\n",
       "   * Handle when an output is cleared or removed\n",
       "   */\n",
       "  function handleClearOutput(event, handle) {\n",
       "    var cell = handle.cell;\n",
       "\n",
       "    var id = cell.output_area._bokeh_element_id;\n",
       "    var server_id = cell.output_area._bokeh_server_id;\n",
       "    // Clean up Bokeh references\n",
       "    if (id !== undefined) {\n",
       "      Bokeh.index[id].model.document.clear();\n",
       "      delete Bokeh.index[id];\n",
       "    }\n",
       "\n",
       "    if (server_id !== undefined) {\n",
       "      // Clean up Bokeh references\n",
       "      var cmd = \"from bokeh.io.state import curstate; print(curstate().uuid_to_server['\" + server_id + \"'].get_sessions()[0].document.roots[0]._id)\";\n",
       "      cell.notebook.kernel.execute(cmd, {\n",
       "        iopub: {\n",
       "          output: function(msg) {\n",
       "            var element_id = msg.content.text.trim();\n",
       "            Bokeh.index[element_id].model.document.clear();\n",
       "            delete Bokeh.index[element_id];\n",
       "          }\n",
       "        }\n",
       "      });\n",
       "      // Destroy server and session\n",
       "      var cmd = \"import bokeh.io.notebook as ion; ion.destroy_server('\" + server_id + \"')\";\n",
       "      cell.notebook.kernel.execute(cmd);\n",
       "    }\n",
       "  }\n",
       "\n",
       "  /**\n",
       "   * Handle when a new output is added\n",
       "   */\n",
       "  function handleAddOutput(event, handle) {\n",
       "    var output_area = handle.output_area;\n",
       "    var output = handle.output;\n",
       "\n",
       "    // limit handleAddOutput to display_data with EXEC_MIME_TYPE content only\n",
       "    if ((output.output_type != \"display_data\") || (!output.data.hasOwnProperty(EXEC_MIME_TYPE))) {\n",
       "      return\n",
       "    }\n",
       "\n",
       "    var toinsert = output_area.element.find(\".\" + CLASS_NAME.split(' ')[0]);\n",
       "\n",
       "    if (output.metadata[EXEC_MIME_TYPE][\"id\"] !== undefined) {\n",
       "      toinsert[toinsert.length - 1].firstChild.textContent = output.data[JS_MIME_TYPE];\n",
       "      // store reference to embed id on output_area\n",
       "      output_area._bokeh_element_id = output.metadata[EXEC_MIME_TYPE][\"id\"];\n",
       "    }\n",
       "    if (output.metadata[EXEC_MIME_TYPE][\"server_id\"] !== undefined) {\n",
       "      var bk_div = document.createElement(\"div\");\n",
       "      bk_div.innerHTML = output.data[HTML_MIME_TYPE];\n",
       "      var script_attrs = bk_div.children[0].attributes;\n",
       "      for (var i = 0; i < script_attrs.length; i++) {\n",
       "        toinsert[toinsert.length - 1].firstChild.setAttribute(script_attrs[i].name, script_attrs[i].value);\n",
       "      }\n",
       "      // store reference to server id on output_area\n",
       "      output_area._bokeh_server_id = output.metadata[EXEC_MIME_TYPE][\"server_id\"];\n",
       "    }\n",
       "  }\n",
       "\n",
       "  function register_renderer(events, OutputArea) {\n",
       "\n",
       "    function append_mime(data, metadata, element) {\n",
       "      // create a DOM node to render to\n",
       "      var toinsert = this.create_output_subarea(\n",
       "        metadata,\n",
       "        CLASS_NAME,\n",
       "        EXEC_MIME_TYPE\n",
       "      );\n",
       "      this.keyboard_manager.register_events(toinsert);\n",
       "      // Render to node\n",
       "      var props = {data: data, metadata: metadata[EXEC_MIME_TYPE]};\n",
       "      render(props, toinsert[toinsert.length - 1]);\n",
       "      element.append(toinsert);\n",
       "      return toinsert\n",
       "    }\n",
       "\n",
       "    /* Handle when an output is cleared or removed */\n",
       "    events.on('clear_output.CodeCell', handleClearOutput);\n",
       "    events.on('delete.Cell', handleClearOutput);\n",
       "\n",
       "    /* Handle when a new output is added */\n",
       "    events.on('output_added.OutputArea', handleAddOutput);\n",
       "\n",
       "    /**\n",
       "     * Register the mime type and append_mime function with output_area\n",
       "     */\n",
       "    OutputArea.prototype.register_mime_type(EXEC_MIME_TYPE, append_mime, {\n",
       "      /* Is output safe? */\n",
       "      safe: true,\n",
       "      /* Index of renderer in `output_area.display_order` */\n",
       "      index: 0\n",
       "    });\n",
       "  }\n",
       "\n",
       "  // register the mime type if in Jupyter Notebook environment and previously unregistered\n",
       "  if (root.Jupyter !== undefined) {\n",
       "    var events = require('base/js/events');\n",
       "    var OutputArea = require('notebook/js/outputarea').OutputArea;\n",
       "\n",
       "    if (OutputArea.prototype.mime_types().indexOf(EXEC_MIME_TYPE) == -1) {\n",
       "      register_renderer(events, OutputArea);\n",
       "    }\n",
       "  }\n",
       "\n",
       "  \n",
       "  if (typeof (root._bokeh_timeout) === \"undefined\" || force === true) {\n",
       "    root._bokeh_timeout = Date.now() + 5000;\n",
       "    root._bokeh_failed_load = false;\n",
       "  }\n",
       "\n",
       "  var NB_LOAD_WARNING = {'data': {'text/html':\n",
       "     \"<div style='background-color: #fdd'>\\n\"+\n",
       "     \"<p>\\n\"+\n",
       "     \"BokehJS does not appear to have successfully loaded. If loading BokehJS from CDN, this \\n\"+\n",
       "     \"may be due to a slow or bad network connection. Possible fixes:\\n\"+\n",
       "     \"</p>\\n\"+\n",
       "     \"<ul>\\n\"+\n",
       "     \"<li>re-rerun `output_notebook()` to attempt to load from CDN again, or</li>\\n\"+\n",
       "     \"<li>use INLINE resources instead, as so:</li>\\n\"+\n",
       "     \"</ul>\\n\"+\n",
       "     \"<code>\\n\"+\n",
       "     \"from bokeh.resources import INLINE\\n\"+\n",
       "     \"output_notebook(resources=INLINE)\\n\"+\n",
       "     \"</code>\\n\"+\n",
       "     \"</div>\"}};\n",
       "\n",
       "  function display_loaded() {\n",
       "    var el = document.getElementById(\"f2ea3e73-6529-4615-9663-6e79b0655aa8\");\n",
       "    if (el != null) {\n",
       "      el.textContent = \"BokehJS is loading...\";\n",
       "    }\n",
       "    if (root.Bokeh !== undefined) {\n",
       "      if (el != null) {\n",
       "        el.textContent = \"BokehJS \" + root.Bokeh.version + \" successfully loaded.\";\n",
       "      }\n",
       "    } else if (Date.now() < root._bokeh_timeout) {\n",
       "      setTimeout(display_loaded, 100)\n",
       "    }\n",
       "  }\n",
       "\n",
       "\n",
       "  function run_callbacks() {\n",
       "    try {\n",
       "      root._bokeh_onload_callbacks.forEach(function(callback) { callback() });\n",
       "    }\n",
       "    finally {\n",
       "      delete root._bokeh_onload_callbacks\n",
       "    }\n",
       "    console.info(\"Bokeh: all callbacks have finished\");\n",
       "  }\n",
       "\n",
       "  function load_libs(js_urls, callback) {\n",
       "    root._bokeh_onload_callbacks.push(callback);\n",
       "    if (root._bokeh_is_loading > 0) {\n",
       "      console.log(\"Bokeh: BokehJS is being loaded, scheduling callback at\", now());\n",
       "      return null;\n",
       "    }\n",
       "    if (js_urls == null || js_urls.length === 0) {\n",
       "      run_callbacks();\n",
       "      return null;\n",
       "    }\n",
       "    console.log(\"Bokeh: BokehJS not loaded, scheduling load and callback at\", now());\n",
       "    root._bokeh_is_loading = js_urls.length;\n",
       "    for (var i = 0; i < js_urls.length; i++) {\n",
       "      var url = js_urls[i];\n",
       "      var s = document.createElement('script');\n",
       "      s.src = url;\n",
       "      s.async = false;\n",
       "      s.onreadystatechange = s.onload = function() {\n",
       "        root._bokeh_is_loading--;\n",
       "        if (root._bokeh_is_loading === 0) {\n",
       "          console.log(\"Bokeh: all BokehJS libraries loaded\");\n",
       "          run_callbacks()\n",
       "        }\n",
       "      };\n",
       "      s.onerror = function() {\n",
       "        console.warn(\"failed to load library \" + url);\n",
       "      };\n",
       "      console.log(\"Bokeh: injecting script tag for BokehJS library: \", url);\n",
       "      document.getElementsByTagName(\"head\")[0].appendChild(s);\n",
       "    }\n",
       "  };var element = document.getElementById(\"f2ea3e73-6529-4615-9663-6e79b0655aa8\");\n",
       "  if (element == null) {\n",
       "    console.log(\"Bokeh: ERROR: autoload.js configured with elementid 'f2ea3e73-6529-4615-9663-6e79b0655aa8' but no matching script tag was found. \")\n",
       "    return false;\n",
       "  }\n",
       "\n",
       "  var js_urls = [\"https://cdn.pydata.org/bokeh/release/bokeh-0.12.16.min.js\", \"https://cdn.pydata.org/bokeh/release/bokeh-widgets-0.12.16.min.js\", \"https://cdn.pydata.org/bokeh/release/bokeh-tables-0.12.16.min.js\", \"https://cdn.pydata.org/bokeh/release/bokeh-gl-0.12.16.min.js\"];\n",
       "\n",
       "  var inline_js = [\n",
       "    function(Bokeh) {\n",
       "      Bokeh.set_log_level(\"info\");\n",
       "    },\n",
       "    \n",
       "    function(Bokeh) {\n",
       "      \n",
       "    },\n",
       "    function(Bokeh) {\n",
       "      console.log(\"Bokeh: injecting CSS: https://cdn.pydata.org/bokeh/release/bokeh-0.12.16.min.css\");\n",
       "      Bokeh.embed.inject_css(\"https://cdn.pydata.org/bokeh/release/bokeh-0.12.16.min.css\");\n",
       "      console.log(\"Bokeh: injecting CSS: https://cdn.pydata.org/bokeh/release/bokeh-widgets-0.12.16.min.css\");\n",
       "      Bokeh.embed.inject_css(\"https://cdn.pydata.org/bokeh/release/bokeh-widgets-0.12.16.min.css\");\n",
       "      console.log(\"Bokeh: injecting CSS: https://cdn.pydata.org/bokeh/release/bokeh-tables-0.12.16.min.css\");\n",
       "      Bokeh.embed.inject_css(\"https://cdn.pydata.org/bokeh/release/bokeh-tables-0.12.16.min.css\");\n",
       "    }\n",
       "  ];\n",
       "\n",
       "  function run_inline_js() {\n",
       "    \n",
       "    if ((root.Bokeh !== undefined) || (force === true)) {\n",
       "      for (var i = 0; i < inline_js.length; i++) {\n",
       "        inline_js[i].call(root, root.Bokeh);\n",
       "      }if (force === true) {\n",
       "        display_loaded();\n",
       "      }} else if (Date.now() < root._bokeh_timeout) {\n",
       "      setTimeout(run_inline_js, 100);\n",
       "    } else if (!root._bokeh_failed_load) {\n",
       "      console.log(\"Bokeh: BokehJS failed to load within specified timeout.\");\n",
       "      root._bokeh_failed_load = true;\n",
       "    } else if (force !== true) {\n",
       "      var cell = $(document.getElementById(\"f2ea3e73-6529-4615-9663-6e79b0655aa8\")).parents('.cell').data().cell;\n",
       "      cell.output_area.append_execute_result(NB_LOAD_WARNING)\n",
       "    }\n",
       "\n",
       "  }\n",
       "\n",
       "  if (root._bokeh_is_loading === 0) {\n",
       "    console.log(\"Bokeh: BokehJS loaded, going straight to plotting\");\n",
       "    run_inline_js();\n",
       "  } else {\n",
       "    load_libs(js_urls, function() {\n",
       "      console.log(\"Bokeh: BokehJS plotting callback run at\", now());\n",
       "      run_inline_js();\n",
       "    });\n",
       "  }\n",
       "}(window));"
      ],
      "application/vnd.bokehjs_load.v0+json": "\n(function(root) {\n  function now() {\n    return new Date();\n  }\n\n  var force = true;\n\n  if (typeof (root._bokeh_onload_callbacks) === \"undefined\" || force === true) {\n    root._bokeh_onload_callbacks = [];\n    root._bokeh_is_loading = undefined;\n  }\n\n  \n\n  \n  if (typeof (root._bokeh_timeout) === \"undefined\" || force === true) {\n    root._bokeh_timeout = Date.now() + 5000;\n    root._bokeh_failed_load = false;\n  }\n\n  var NB_LOAD_WARNING = {'data': {'text/html':\n     \"<div style='background-color: #fdd'>\\n\"+\n     \"<p>\\n\"+\n     \"BokehJS does not appear to have successfully loaded. If loading BokehJS from CDN, this \\n\"+\n     \"may be due to a slow or bad network connection. Possible fixes:\\n\"+\n     \"</p>\\n\"+\n     \"<ul>\\n\"+\n     \"<li>re-rerun `output_notebook()` to attempt to load from CDN again, or</li>\\n\"+\n     \"<li>use INLINE resources instead, as so:</li>\\n\"+\n     \"</ul>\\n\"+\n     \"<code>\\n\"+\n     \"from bokeh.resources import INLINE\\n\"+\n     \"output_notebook(resources=INLINE)\\n\"+\n     \"</code>\\n\"+\n     \"</div>\"}};\n\n  function display_loaded() {\n    var el = document.getElementById(\"f2ea3e73-6529-4615-9663-6e79b0655aa8\");\n    if (el != null) {\n      el.textContent = \"BokehJS is loading...\";\n    }\n    if (root.Bokeh !== undefined) {\n      if (el != null) {\n        el.textContent = \"BokehJS \" + root.Bokeh.version + \" successfully loaded.\";\n      }\n    } else if (Date.now() < root._bokeh_timeout) {\n      setTimeout(display_loaded, 100)\n    }\n  }\n\n\n  function run_callbacks() {\n    try {\n      root._bokeh_onload_callbacks.forEach(function(callback) { callback() });\n    }\n    finally {\n      delete root._bokeh_onload_callbacks\n    }\n    console.info(\"Bokeh: all callbacks have finished\");\n  }\n\n  function load_libs(js_urls, callback) {\n    root._bokeh_onload_callbacks.push(callback);\n    if (root._bokeh_is_loading > 0) {\n      console.log(\"Bokeh: BokehJS is being loaded, scheduling callback at\", now());\n      return null;\n    }\n    if (js_urls == null || js_urls.length === 0) {\n      run_callbacks();\n      return null;\n    }\n    console.log(\"Bokeh: BokehJS not loaded, scheduling load and callback at\", now());\n    root._bokeh_is_loading = js_urls.length;\n    for (var i = 0; i < js_urls.length; i++) {\n      var url = js_urls[i];\n      var s = document.createElement('script');\n      s.src = url;\n      s.async = false;\n      s.onreadystatechange = s.onload = function() {\n        root._bokeh_is_loading--;\n        if (root._bokeh_is_loading === 0) {\n          console.log(\"Bokeh: all BokehJS libraries loaded\");\n          run_callbacks()\n        }\n      };\n      s.onerror = function() {\n        console.warn(\"failed to load library \" + url);\n      };\n      console.log(\"Bokeh: injecting script tag for BokehJS library: \", url);\n      document.getElementsByTagName(\"head\")[0].appendChild(s);\n    }\n  };var element = document.getElementById(\"f2ea3e73-6529-4615-9663-6e79b0655aa8\");\n  if (element == null) {\n    console.log(\"Bokeh: ERROR: autoload.js configured with elementid 'f2ea3e73-6529-4615-9663-6e79b0655aa8' but no matching script tag was found. \")\n    return false;\n  }\n\n  var js_urls = [\"https://cdn.pydata.org/bokeh/release/bokeh-0.12.16.min.js\", \"https://cdn.pydata.org/bokeh/release/bokeh-widgets-0.12.16.min.js\", \"https://cdn.pydata.org/bokeh/release/bokeh-tables-0.12.16.min.js\", \"https://cdn.pydata.org/bokeh/release/bokeh-gl-0.12.16.min.js\"];\n\n  var inline_js = [\n    function(Bokeh) {\n      Bokeh.set_log_level(\"info\");\n    },\n    \n    function(Bokeh) {\n      \n    },\n    function(Bokeh) {\n      console.log(\"Bokeh: injecting CSS: https://cdn.pydata.org/bokeh/release/bokeh-0.12.16.min.css\");\n      Bokeh.embed.inject_css(\"https://cdn.pydata.org/bokeh/release/bokeh-0.12.16.min.css\");\n      console.log(\"Bokeh: injecting CSS: https://cdn.pydata.org/bokeh/release/bokeh-widgets-0.12.16.min.css\");\n      Bokeh.embed.inject_css(\"https://cdn.pydata.org/bokeh/release/bokeh-widgets-0.12.16.min.css\");\n      console.log(\"Bokeh: injecting CSS: https://cdn.pydata.org/bokeh/release/bokeh-tables-0.12.16.min.css\");\n      Bokeh.embed.inject_css(\"https://cdn.pydata.org/bokeh/release/bokeh-tables-0.12.16.min.css\");\n    }\n  ];\n\n  function run_inline_js() {\n    \n    if ((root.Bokeh !== undefined) || (force === true)) {\n      for (var i = 0; i < inline_js.length; i++) {\n        inline_js[i].call(root, root.Bokeh);\n      }if (force === true) {\n        display_loaded();\n      }} else if (Date.now() < root._bokeh_timeout) {\n      setTimeout(run_inline_js, 100);\n    } else if (!root._bokeh_failed_load) {\n      console.log(\"Bokeh: BokehJS failed to load within specified timeout.\");\n      root._bokeh_failed_load = true;\n    } else if (force !== true) {\n      var cell = $(document.getElementById(\"f2ea3e73-6529-4615-9663-6e79b0655aa8\")).parents('.cell').data().cell;\n      cell.output_area.append_execute_result(NB_LOAD_WARNING)\n    }\n\n  }\n\n  if (root._bokeh_is_loading === 0) {\n    console.log(\"Bokeh: BokehJS loaded, going straight to plotting\");\n    run_inline_js();\n  } else {\n    load_libs(js_urls, function() {\n      console.log(\"Bokeh: BokehJS plotting callback run at\", now());\n      run_inline_js();\n    });\n  }\n}(window));"
     },
     "metadata": {},
     "output_type": "display_data"
    }
   ],
   "source": [
    "output_notebook()"
   ]
  },
  {
   "cell_type": "code",
   "execution_count": 8,
   "metadata": {
    "collapsed": true
   },
   "outputs": [],
   "source": [
    "def fmt_cool(ds_in):\n",
    "    ds = ds_in.copy(deep=True)\n",
    "    if 'igg' in ds.dims:\n",
    "        ds = ds.sel(igg=1)\n",
    "\n",
    "    if 'g' in ds.dims:\n",
    "        ds = ds.sum('g')\n",
    "            \n",
    "    if 'band' in ds.dims:\n",
    "        try:\n",
    "            ds = ds.squeeze('band')\n",
    "        except ValueError:\n",
    "            ds = ds.sum('band')\n",
    "                \n",
    "    return ds['coolrg']\n",
    "\n",
    "\n",
    "def pltdata_cooling_1(ds_cool=None,\n",
    "                      ds_cool_crd=None, ds_cool_wgt=None):\n",
    "    \n",
    "\n",
    "\n",
    "    colors = all_palettes['Set1'][4]\n",
    "    data = [{'label': 'CLIRAD `coolr_bands`',\n",
    "             'srs': fmt_cool(ds_cool),\n",
    "             'line_dash': 'dashed', 'line_width': 5,\n",
    "             'color': colors[0], 'alpha': .6},\n",
    "            {'label': 'CRD',\n",
    "             'srs': fmt_cool(ds_cool_crd),\n",
    "             'line_dash': 'solid', 'line_width': 1.5,\n",
    "             'marker': 'circle', 'marker_size': 5,\n",
    "             'color': colors[2], 'alpha': 1,},\n",
    "            {'label': 'WGT igg=10 wgt_flux=2',\n",
    "             'srs': fmt_cool(ds_cool_wgt),\n",
    "             'line_dash': 'solid', 'line_width': 3,\n",
    "             'marker': 'square', 'marker_size': 5,\n",
    "             'color': colors[3], 'alpha': .6}]\n",
    "    return data\n",
    "\n",
    "\n",
    "def nice_xlims(pltdata=None, prange=None):\n",
    "    \n",
    "    def get_slice(srs):\n",
    "        return srs.sel(pressure=slice(*prange))\n",
    "    \n",
    "    srss = [d['srs'] for d in pltdata]\n",
    "    vmin = min([get_slice(srs).min() for srs in srss])\n",
    "    vmax = max([get_slice(srs).max() for srs in srss])\n",
    "    dv = (vmax - vmin) * .01\n",
    "    return float(vmin - dv), float(vmax + dv)\n",
    "    \n",
    "\n",
    "def plt_cooling_bokeh(pltdata=None):\n",
    "    '''\n",
    "    Plot a list of cooling rate profiles using bokeh.\n",
    "    '''\n",
    "    ymin = 1e-2 \n",
    "    ymax = 1020 \n",
    "        \n",
    "    p1 = figure(title=\"Linear pressure scale\", \n",
    "                plot_width=400)        \n",
    "    xmin, xmax = nice_xlims(pltdata, prange=(50, 1050))\n",
    "    for d in pltdata:\n",
    "        if 'marker' in d:\n",
    "            getattr(p1, d['marker'])(d['srs'].values, \n",
    "                    d['srs'].coords['pressure'].values,\n",
    "                    color=d['color'], alpha=.7)\n",
    "        p1.line(d['srs'].values, \n",
    "                d['srs'].coords['pressure'].values,\n",
    "                color=d['color'], alpha=d['alpha'], \n",
    "                line_width=d['line_width'], line_dash=d['line_dash'])\n",
    "    \n",
    "    p1.y_range = Range1d(ymax, ymin)\n",
    "    p1.yaxis.axis_label = 'pressure [mb]'   \n",
    "    p1.x_range = Range1d(xmin, xmax)\n",
    "    p1.xaxis.axis_label = 'cooling rate [K/day]'\n",
    "            \n",
    "    p2 = figure(title='Log pressure scale', y_axis_type='log',\n",
    "                plot_width=560)\n",
    "    xmin, xmax = nice_xlims(pltdata, prange=(.01, 200))\n",
    "    \n",
    "    rs = []\n",
    "    for d in pltdata:\n",
    "        rd = []\n",
    "        if 'marker' in d:\n",
    "            r_mark = getattr(p2, d['marker'])(d['srs'].values, \n",
    "                        d['srs'].coords['pressure'].values,\n",
    "                        color=d['color'], alpha=.7)\n",
    "            rd.append(r_mark)\n",
    "        r_line = p2.line(d['srs'].values, \n",
    "                    d['srs'].coords['pressure'].values,\n",
    "                    color=d['color'], alpha=d['alpha'], \n",
    "                    line_width=d['line_width'], line_dash=d['line_dash'])\n",
    "        rd.append(r_line)\n",
    "      \n",
    "        rs.append(rd)\n",
    "        \n",
    "    p2.y_range = Range1d(ymax, ymin)  \n",
    "    p2.yaxis.axis_label = 'pressure [mb]'\n",
    "    \n",
    "    p2.x_range = Range1d(xmin, xmax)\n",
    "    p2.xaxis.axis_label = 'cooling rate [K/day]'\n",
    "    \n",
    "    items = [(d['label'], r) for r, d in zip(rs, pltdata)]\n",
    "    legend = Legend(items=items, location=(10, -30))\n",
    "    legend.label_text_font_size = '8pt'\n",
    "    \n",
    "    p2.add_layout(legend, 'right')  \n",
    "    \n",
    "    show(gridplot(p1, p2, ncols=2, plot_height=500))\n",
    "    \n",
    "\n",
    "def script_plt_cooling():\n",
    "    pltdata = pltdata_cooling_1(\n",
    "        ds_cool=DS_COOL,\n",
    "        ds_cool_crd=DS_COOL_CRD,\n",
    "        ds_cool_wgt=DS_COOL_WGT)\n",
    "    plt_cooling_bokeh(pltdata=pltdata)\n",
    "    print('''FIGURE. Cooling rate profiles.''')"
   ]
  },
  {
   "cell_type": "code",
   "execution_count": 9,
   "metadata": {
    "collapsed": true
   },
   "outputs": [],
   "source": [
    "def fmt_flux(ds_in):\n",
    "    ds = ds_in.copy(deep=True)\n",
    "    \n",
    "    for l in ('level', 'layer'):\n",
    "        if l in ds.data_vars:\n",
    "            if len(ds[l].dims) > 1:\n",
    "                surface = {d: 0 for d in ds.dims if d != 'pressure'}\n",
    "                coord_level = ds[l][surface]\n",
    "                ds.coords[l] = ('pressure', coord_level)\n",
    "            else:\n",
    "                ds.coords[l] = ('pressure', ds[l])\n",
    "        \n",
    "    ds = ds.isel(pressure=[0, 23, -1])\n",
    "        \n",
    "    if 'igg' in ds.dims:\n",
    "        ds = ds.sel(igg=[1])\n",
    "        ds = ds.squeeze('igg').drop('igg')\n",
    "    \n",
    "    if 'g' in ds.dims:\n",
    "        ds = ds.sum('g')\n",
    "            \n",
    "    if 'band' in ds.dims:\n",
    "        try:\n",
    "            ds = ds.squeeze('band').drop('band')\n",
    "        except ValueError:\n",
    "            ds = ds.sum('band')\n",
    "                \n",
    "    df = ds.to_dataframe()\n",
    "    df = df.set_index('level', append=True)               \n",
    "    return df\n",
    "\n",
    "\n",
    "def tbdata_flux(ds_flux=None, ds_flux_crd=None, ds_flux_wgt=None):\n",
    "    ilevels = [0, 23, -1]\n",
    "            \n",
    "    benchmark = {'label': 'CRD',\n",
    "                 'df': fmt_flux(ds_flux_crd)}\n",
    "    \n",
    "    tbs = [{'label': 'WGT igg=10 wgt_flux=1',\n",
    "            'df': fmt_flux(ds_flux_wgt)},\n",
    "           {'label': 'CLIRAD',\n",
    "            'df': fmt_flux(ds_flux)}]\n",
    "    \n",
    "    data = {'benchmark': benchmark, 'others': tbs}\n",
    "    return data\n",
    "\n",
    "\n",
    "def tb_flux(tbdata=None):\n",
    "    benchmark = tbdata['benchmark']\n",
    "    others = tbdata['others']\n",
    "    \n",
    "    def show_tb(d=None):\n",
    "        display.display(d['df'])\n",
    "        print('Table.', 'Fluxes.', d['label'])\n",
    "        \n",
    "    def show_tbdiff(d0=None, d=None):\n",
    "        df = d['df']\n",
    "        df.index = d0['df'].index\n",
    "        display.display(df - d0['df'])\n",
    "        print('Table.', 'Fluxes.', \n",
    "              '({}) - ({})'.format(d['label'], d0['label']))\n",
    "        \n",
    "    show_tb(benchmark)\n",
    "    for d in others:\n",
    "        show_tb(d)\n",
    "        \n",
    "    for d in others:\n",
    "        show_tbdiff(d=d, d0=benchmark)\n",
    "        \n",
    "        \n",
    "def script_tb_flux():\n",
    "    data = tbdata_flux(ds_flux=DS_FLUX,\n",
    "                       ds_flux_crd=DS_FLUX_CRD,\n",
    "                       ds_flux_wgt=DS_FLUX_WGT)\n",
    "    tb_flux(tbdata=data)"
   ]
  },
  {
   "cell_type": "code",
   "execution_count": 10,
   "metadata": {
    "collapsed": true
   },
   "outputs": [],
   "source": [
    "def band_map():\n",
    "    '''\n",
    "    Maps spectral bands in lblnew to spectral bands in clirad.\n",
    "    '''\n",
    "    lblnew2clirad = {'1': '1',\n",
    "            '2': '2',\n",
    "            '3a': '3',\n",
    "            '3b': '4',\n",
    "            '3c': '5',\n",
    "            '4': '6', \n",
    "            '5': '7',\n",
    "            '6': '8',\n",
    "            '7': '9', \n",
    "            '8': '10',\n",
    "            '9': '11'}\n",
    "    \n",
    "    clirad2lblnew = {clirad: lblnew \n",
    "                     for lblnew, clirad in lblnew2clirad.items()}\n",
    "    return clirad2lblnew\n",
    "\n",
    "\n",
    "def gasbands():\n",
    "    bmap = band_map()\n",
    "    gases = list(PARAM['molecule'].keys())\n",
    "    \n",
    "    bands = [bmap[str(b)] for b in PARAM['band']]\n",
    "    return list(itertools.product(gases, bands))\n",
    "\n",
    "\n",
    "def print_bestfit_params():\n",
    "    print('Best-fit values for each (gas, band)')\n",
    "    print('------------------------------------')\n",
    "    for gas, band in gasbands():\n",
    "        print('o {} band{}'.format(gas, band))\n",
    "        param = bestfits.kdist_params(molecule=gas, band=band)\n",
    "        for name, value in sorted(param.items()):\n",
    "            print(2 * ' ' + '{} = {}'.format(name, value))\n",
    "\n",
    "        \n",
    "def print_input_param():        \n",
    "    for name, value in PARAM.items():\n",
    "        print('{} = {}'.format(name, value))\n",
    "        \n",
    "        \n",
    "def print_lblnew_param():\n",
    "    for name, value in sorted(PARAM_LBLNEW.items()):\n",
    "        print('{} = {}'.format(name, value))\n"
   ]
  },
  {
   "cell_type": "code",
   "execution_count": 11,
   "metadata": {
    "collapsed": true,
    "scrolled": false
   },
   "outputs": [],
   "source": [
    "def show_html(s):\n",
    "    display.display(display.HTML(s))\n",
    "\n",
    "    \n",
    "def show_markdown(s):\n",
    "    display.display(display.Markdown(s))\n",
    "\n",
    "    \n",
    "def script():\n",
    "    \n",
    "    title = '### CLIRAD-LW'\n",
    "    s_input = 'Input Parameters'\n",
    "    s_lblnew_param = 'LBLNEW case compaired against'\n",
    "    s_bestfits = 'Best-fit Parameters'\n",
    "    s_plt_cooling = 'Cooling Rate Profiles'\n",
    "    s_tb_flux = 'Flux Comparison'\n",
    "    \n",
    "    # title\n",
    "    show_markdown('### CLIRAD-LW')\n",
    "    \n",
    "    # TOC\n",
    "    show_markdown('### Table of Contents')\n",
    "    show_html(climahtml.getHTML_hrefanchor(s_input))\n",
    "    show_html(climahtml.getHTML_hrefanchor(s_lblnew_param))\n",
    "    show_html(climahtml.getHTML_hrefanchor(s_plt_cooling))\n",
    "    show_html(climahtml.getHTML_hrefanchor(s_tb_flux))\n",
    "    show_html(climahtml.getHTML_hrefanchor(s_bestfits))\n",
    "    \n",
    "    # Input parameters\n",
    "    show_html(climahtml.getHTML_idanchor(s_input))\n",
    "    show_markdown(climahtml.getMarkdown_sectitle(s_input))\n",
    "    print_input_param()\n",
    "    \n",
    "    # LBLNEW parameters \n",
    "    show_html(climahtml.getHTML_idanchor(s_lblnew_param))\n",
    "    show_markdown(climahtml.getMarkdown_sectitle(s_lblnew_param))\n",
    "    print_lblnew_param()\n",
    "    \n",
    "    # Cooling rate profiles\n",
    "    show_html(climahtml.getHTML_idanchor(s_plt_cooling))\n",
    "    show_markdown(climahtml.getMarkdown_sectitle(s_plt_cooling))\n",
    "    script_plt_cooling()\n",
    "    \n",
    "    # Flux comparison\n",
    "    show_html(climahtml.getHTML_idanchor(s_tb_flux))\n",
    "    show_markdown(climahtml.getMarkdown_sectitle(s_tb_flux))\n",
    "    script_tb_flux()\n",
    "    \n",
    "    # Best-fit values\n",
    "    show_html(climahtml.getHTML_idanchor(s_bestfits))\n",
    "    show_markdown(climahtml.getMarkdown_sectitle(s_bestfits))\n",
    "    print_bestfit_params()\n",
    "   \n",
    "    "
   ]
  },
  {
   "cell_type": "code",
   "execution_count": 12,
   "metadata": {
    "collapsed": true,
    "scrolled": false
   },
   "outputs": [
    {
     "data": {
      "text/markdown": [
       "### CLIRAD-LW"
      ],
      "text/plain": [
       "<IPython.core.display.Markdown object>"
      ]
     },
     "metadata": {},
     "output_type": "display_data"
    },
    {
     "data": {
      "text/markdown": [
       "### Table of Contents"
      ],
      "text/plain": [
       "<IPython.core.display.Markdown object>"
      ]
     },
     "metadata": {},
     "output_type": "display_data"
    },
    {
     "data": {
      "text/html": [
       "<a href=\"#Input_Parameters\">Input Parameters</a>"
      ],
      "text/plain": [
       "<IPython.core.display.HTML object>"
      ]
     },
     "metadata": {},
     "output_type": "display_data"
    },
    {
     "data": {
      "text/html": [
       "<a href=\"#LBLNEW_case_compaired_against\">LBLNEW case compaired against</a>"
      ],
      "text/plain": [
       "<IPython.core.display.HTML object>"
      ]
     },
     "metadata": {},
     "output_type": "display_data"
    },
    {
     "data": {
      "text/html": [
       "<a href=\"#Cooling_Rate_Profiles\">Cooling Rate Profiles</a>"
      ],
      "text/plain": [
       "<IPython.core.display.HTML object>"
      ]
     },
     "metadata": {},
     "output_type": "display_data"
    },
    {
     "data": {
      "text/html": [
       "<a href=\"#Flux_Comparison\">Flux Comparison</a>"
      ],
      "text/plain": [
       "<IPython.core.display.HTML object>"
      ]
     },
     "metadata": {},
     "output_type": "display_data"
    },
    {
     "data": {
      "text/html": [
       "<a href=\"#Best-fit_Parameters\">Best-fit Parameters</a>"
      ],
      "text/plain": [
       "<IPython.core.display.HTML object>"
      ]
     },
     "metadata": {},
     "output_type": "display_data"
    },
    {
     "data": {
      "text/html": [
       "<a id=\"Input_Parameters\"></a>"
      ],
      "text/plain": [
       "<IPython.core.display.HTML object>"
      ]
     },
     "metadata": {},
     "output_type": "display_data"
    },
    {
     "data": {
      "text/markdown": [
       "# Input Parameters"
      ],
      "text/plain": [
       "<IPython.core.display.Markdown object>"
      ]
     },
     "metadata": {},
     "output_type": "display_data"
    },
    {
     "name": "stdout",
     "output_type": "stream",
     "text": [
      "atmpro = saw\n",
      "band = [5]\n",
      "commitnumber = de5d43e\n",
      "molecule = {'h2o': 'atmpro'}\n",
      "tsfc = 257\n"
     ]
    },
    {
     "data": {
      "text/html": [
       "<a id=\"LBLNEW_case_compaired_against\"></a>"
      ],
      "text/plain": [
       "<IPython.core.display.HTML object>"
      ]
     },
     "metadata": {},
     "output_type": "display_data"
    },
    {
     "data": {
      "text/markdown": [
       "# LBLNEW case compaired against"
      ],
      "text/plain": [
       "<IPython.core.display.Markdown object>"
      ]
     },
     "metadata": {},
     "output_type": "display_data"
    },
    {
     "name": "stdout",
     "output_type": "stream",
     "text": [
      "atmpro = saw\n",
      "band = 3c\n",
      "commitnumber = 5014a19\n",
      "conc = None\n",
      "dv = 0.001\n",
      "klin = 5e-25\n",
      "molecule = h2o\n",
      "ng_adju = [0]\n",
      "ng_refs = [5]\n",
      "nv = 1000\n",
      "option_compute_btable = 0\n",
      "option_compute_ktable = 0\n",
      "option_wgt_flux = 1\n",
      "option_wgt_k = 1\n",
      "ref_pts = [(600, 250)]\n",
      "tsfc = 257\n",
      "vmax = 800\n",
      "vmin = 720\n",
      "w_diffuse = [(1.55, 1.6, 1.66, 1.66, 1.8)]\n",
      "wgt = [(0.5, 0.5, 0.6, 0.7, 0.9)]\n"
     ]
    },
    {
     "data": {
      "text/html": [
       "<a id=\"Cooling_Rate_Profiles\"></a>"
      ],
      "text/plain": [
       "<IPython.core.display.HTML object>"
      ]
     },
     "metadata": {},
     "output_type": "display_data"
    },
    {
     "data": {
      "text/markdown": [
       "# Cooling Rate Profiles"
      ],
      "text/plain": [
       "<IPython.core.display.Markdown object>"
      ]
     },
     "metadata": {},
     "output_type": "display_data"
    },
    {
     "data": {
      "text/html": [
       "\n",
       "<div class=\"bk-root\">\n",
       "    <div class=\"bk-plotdiv\" id=\"8ba33335-eadc-49d4-ae66-72b532e164cc\"></div>\n",
       "</div>"
      ]
     },
     "metadata": {},
     "output_type": "display_data"
    },
    {
     "data": {
      "application/javascript": [
       "(function(root) {\n",
       "  function embed_document(root) {\n",
       "    \n",
       "  var docs_json = {\"bb9cc4f1-93d6-4e53-8f74-2149282a7d0f\":{\"roots\":{\"references\":[{\"attributes\":{},\"id\":\"d1a6ba8b-cf1b-42e5-9c2c-06f317573e33\",\"type\":\"LinearScale\"},{\"attributes\":{},\"id\":\"3dd4887e-fb3e-44bb-a2d0-f4612cf0df9b\",\"type\":\"Selection\"},{\"attributes\":{\"tools\":[{\"id\":\"47142109-6eee-4417-acc1-0f3f595607ff\",\"type\":\"PanTool\"},{\"id\":\"d33e22a8-a7f5-43ca-afe9-f4c0da5767fe\",\"type\":\"WheelZoomTool\"},{\"id\":\"f0216c96-1797-4f40-ac8e-8e876a8112ec\",\"type\":\"BoxZoomTool\"},{\"id\":\"9ca7071a-7caf-4c3e-a6d5-560e18d2f934\",\"type\":\"SaveTool\"},{\"id\":\"1697efef-81eb-4927-a8d7-81fefab73d20\",\"type\":\"ResetTool\"},{\"id\":\"9cda9cec-6b25-4049-9992-722b7908a204\",\"type\":\"HelpTool\"},{\"id\":\"d69f8f16-af8f-4bba-aceb-fdb3ed45f5a5\",\"type\":\"PanTool\"},{\"id\":\"ed51a7ec-4225-4ad2-8b76-b16a3f9d1010\",\"type\":\"WheelZoomTool\"},{\"id\":\"2aeca699-4567-4727-9fe2-bdb6152b2c87\",\"type\":\"BoxZoomTool\"},{\"id\":\"fd3cb849-8c7a-4d66-8431-87df1d61541c\",\"type\":\"SaveTool\"},{\"id\":\"7b348c5e-64ae-42d5-b3f8-863496b78669\",\"type\":\"ResetTool\"},{\"id\":\"ef62849a-36af-4e6e-9b7e-2826eea650f7\",\"type\":\"HelpTool\"}]},\"id\":\"1244eb74-aae8-4720-803f-98d12ac89f54\",\"type\":\"ProxyToolbar\"},{\"attributes\":{\"toolbar\":{\"id\":\"1244eb74-aae8-4720-803f-98d12ac89f54\",\"type\":\"ProxyToolbar\"},\"toolbar_location\":\"above\"},\"id\":\"229de6c8-4552-4b40-b8d4-5989d41233f6\",\"type\":\"ToolbarBox\"},{\"attributes\":{},\"id\":\"47969251-65a8-43b9-a120-8863d61f6d53\",\"type\":\"UnionRenderers\"},{\"attributes\":{\"line_alpha\":0.6,\"line_color\":\"#e41a1c\",\"line_dash\":[6],\"line_width\":5,\"x\":{\"field\":\"x\"},\"y\":{\"field\":\"y\"}},\"id\":\"3b6cd812-d42c-4a06-91f2-c0da4ddf3327\",\"type\":\"Line\"},{\"attributes\":{},\"id\":\"d69f8f16-af8f-4bba-aceb-fdb3ed45f5a5\",\"type\":\"PanTool\"},{\"attributes\":{\"active_drag\":\"auto\",\"active_inspect\":\"auto\",\"active_scroll\":\"auto\",\"active_tap\":\"auto\",\"tools\":[{\"id\":\"47142109-6eee-4417-acc1-0f3f595607ff\",\"type\":\"PanTool\"},{\"id\":\"d33e22a8-a7f5-43ca-afe9-f4c0da5767fe\",\"type\":\"WheelZoomTool\"},{\"id\":\"f0216c96-1797-4f40-ac8e-8e876a8112ec\",\"type\":\"BoxZoomTool\"},{\"id\":\"9ca7071a-7caf-4c3e-a6d5-560e18d2f934\",\"type\":\"SaveTool\"},{\"id\":\"1697efef-81eb-4927-a8d7-81fefab73d20\",\"type\":\"ResetTool\"},{\"id\":\"9cda9cec-6b25-4049-9992-722b7908a204\",\"type\":\"HelpTool\"}]},\"id\":\"3454a70b-e59f-413a-aff7-305d4211501e\",\"type\":\"Toolbar\"},{\"attributes\":{\"callback\":null,\"data\":{\"x\":{\"__ndarray__\":\"TPGj6/ro5z4n2hq3IH/wPkqgUnc2A/s+hfrP1U7aAz8gpr82R2ELPyV9+65YIBI/nHBeI99UFz/tTnFh7WkdP2/RL+wVPyI/NPs5eF1aJj+eXDtfGBorPxXkrMSlSTA/gxvcvUZrMz+Ak4O2C5E2P9gu/HyiQzk/lzeqOCLMOz81E7TevoU+Pzr6gbU5u0A/jnd1KnBRQj/OmWaPgwdEP9uEGPl7qUU/wnJYk3xYRD+8vVha9Vk/P1S9pGM8VDY/qAf9HZPwLj8OBHM+PbkkPxU5Zm5XaRo/iB2FZPPDED/B8AZucr0GPzD0yXlfWf8+8BA5TxVf9D7K3cN4P4noPgfdkcwwf+M+lqVZzI+96D7O5PUnNDfwPvILqpQIFPQ+fSqGDJXP9j5WRHpDxUL3PleuShuZcP4+p9kFjBq6Aj+OkpC2nEwGP7yPTROBKAg/nkAcGGhlCT/wUyrrlI4KPxxTWkee0Aw/wusBEwiFFT/qtL/K2e8kP/V+SNn9OzM/PLOyqL3xQz8R/gBFVytUPwH6grigLmI/72q5fDLibT/YBNfnsbd2P2eu7sF0LYA/RsfdOffLhT89p3yv8f6LPyJsInrsQ5E/R1fDJ5iPlD84eH/skMOXP7qmDXXCxZo/1AmbExGEnT++/zZb3vSfP0qVkF7ACqE/NZRUUpn1oT+dYaeuNcGiP1ENer2bcaM/BpCV8GgJpD+puMDRzX+kP+c1donqraQ/l+QTwR5kpD/5qNNCSGSjP6vKhID40KE/3jitBCAooD9NVDdjDSGdP906lZI5JJo/\",\"dtype\":\"float64\",\"shape\":[75]},\"y\":{\"__ndarray__\":\"GhExyth1ND/Sv8nbtpRIP2vylNV0PVE/aTum7souWD/At0SJ8fVgPw3Iuahxymc/MSNhhJWvcD/bTfBN02d3P2zb5nxnaoA/CD5h5MAGhz8NmeH1TyaQP+zrCsc9p5Y/LbKd76fGnz/bLW5ISEmmPww9YvTcQq8/JV2OstnstT8Er5Y7M8G+P0c+r3jqkcU/5h99k6ZBzj88bCIzFzjVP4enV8oyxN0//yH99nXg5D8qOpLLf0jtP5kqGJXUifQ/c9cS8kHP/D+/DpwzojQEQIEmwoanVwxA4lgXt9HgE0BSSZ2AJuIbQAMJih9jjiNA5q4l5INuK0AwTKYKRj0zQNv5fmq8/DpAaCJseHrtQkB/+zpwzoxKQM3MzMzMeFJAZmZmZmZqWEAAAAAAAFxeQM3MzMzMJmJAmpmZmZkfZUBmZmZmZhhoQDMzMzMzEWtAAAAAAAAKbkBmZmZmZoFwQM3MzMzM/XFAMzMzMzN6c0CamZmZmfZ0QAAAAAAAc3ZAZmZmZmbvd0DNzMzMzGt5QDMzMzMz6HpAmpmZmZlkfEAAAAAAAOF9QGZmZmZmXX9AZmZmZuZsgECamZmZGSuBQM3MzMxM6YFAAAAAAICngkAzMzMzs2WDQGZmZmbmI4RAmpmZmRnihEDNzMzMTKCFQAAAAACAXoZAMzMzM7Mch0BmZmZm5tqHQJqZmZkZmYhAzczMzExXiUAAAAAAgBWKQDMzMzOz04pAZmZmZuaRi0CamZmZGVCMQM3MzMxMDo1AAAAAAIDMjUAzMzMzs4qOQGZmZmbmSI9A\",\"dtype\":\"float64\",\"shape\":[75]}},\"selected\":{\"id\":\"ce285b8a-51ba-41fd-b2c1-9252957a7219\",\"type\":\"Selection\"},\"selection_policy\":{\"id\":\"77a162af-06f3-489b-b1b6-0f1145b26c6c\",\"type\":\"UnionRenderers\"}},\"id\":\"3445b06f-e062-402a-9bfd-7376fcc2dcb5\",\"type\":\"ColumnDataSource\"},{\"attributes\":{},\"id\":\"d33e22a8-a7f5-43ca-afe9-f4c0da5767fe\",\"type\":\"WheelZoomTool\"},{\"attributes\":{\"items\":[{\"id\":\"38396b8a-8b3f-4c57-aa17-83226ddc0ae6\",\"type\":\"LegendItem\"},{\"id\":\"d419e016-b327-4261-8c0b-400e53b241c0\",\"type\":\"LegendItem\"},{\"id\":\"0d4fb590-09d1-4041-81ff-b176bb3a5f7c\",\"type\":\"LegendItem\"}],\"label_text_font_size\":{\"value\":\"8pt\"},\"location\":[10,-30],\"plot\":{\"id\":\"4b2212d7-e01f-4ac0-9adf-93de3801eb68\",\"subtype\":\"Figure\",\"type\":\"Plot\"}},\"id\":\"f5d946bf-05d1-4326-9068-036777cfa55b\",\"type\":\"Legend\"},{\"attributes\":{},\"id\":\"8b7796f8-642e-4316-ba52-6795a5ef45a5\",\"type\":\"UnionRenderers\"},{\"attributes\":{\"below\":[{\"id\":\"66b1e65f-2f71-4634-8123-eba865d2d736\",\"type\":\"LinearAxis\"}],\"left\":[{\"id\":\"04d7a148-3af0-4174-9999-e27811bff9c1\",\"type\":\"LogAxis\"}],\"plot_height\":500,\"plot_width\":560,\"renderers\":[{\"id\":\"66b1e65f-2f71-4634-8123-eba865d2d736\",\"type\":\"LinearAxis\"},{\"id\":\"8922ba49-460c-4941-8c54-959c6e61aa12\",\"type\":\"Grid\"},{\"id\":\"04d7a148-3af0-4174-9999-e27811bff9c1\",\"type\":\"LogAxis\"},{\"id\":\"3dcfed7c-2ae8-42eb-9241-99379b2e8e85\",\"type\":\"Grid\"},{\"id\":\"c8296e0c-39ad-458f-a4e7-aa641a8eabee\",\"type\":\"BoxAnnotation\"},{\"id\":\"13899e48-49c4-435d-bd42-b3fa76e69a70\",\"type\":\"GlyphRenderer\"},{\"id\":\"39e91f73-c06f-4f21-b56e-5a7839b43ceb\",\"type\":\"GlyphRenderer\"},{\"id\":\"999b5105-c517-478e-bb9d-2ddf1c24404b\",\"type\":\"GlyphRenderer\"},{\"id\":\"bccb2da9-b8ed-4101-bc9f-3a9817bc7b74\",\"type\":\"GlyphRenderer\"},{\"id\":\"04db453d-aeac-4ff1-95a6-354ea0344552\",\"type\":\"GlyphRenderer\"},{\"id\":\"f5d946bf-05d1-4326-9068-036777cfa55b\",\"type\":\"Legend\"}],\"right\":[{\"id\":\"f5d946bf-05d1-4326-9068-036777cfa55b\",\"type\":\"Legend\"}],\"title\":{\"id\":\"eb135319-e672-49be-967b-6fc6a6915cce\",\"type\":\"Title\"},\"toolbar\":{\"id\":\"7dc33492-f335-443d-876c-ff53382e1f60\",\"type\":\"Toolbar\"},\"toolbar_location\":null,\"x_range\":{\"id\":\"020e9c1f-904f-41c1-9bca-dbe02cb067ca\",\"type\":\"Range1d\"},\"x_scale\":{\"id\":\"e6b717a1-9bae-4da3-8336-dd510964913e\",\"type\":\"LinearScale\"},\"y_range\":{\"id\":\"53f7c9dc-90ca-44dd-a3d2-e93651c209f7\",\"type\":\"Range1d\"},\"y_scale\":{\"id\":\"739c4dca-5fd2-4fe4-9de4-60ada57d8b51\",\"type\":\"LogScale\"}},\"id\":\"4b2212d7-e01f-4ac0-9adf-93de3801eb68\",\"subtype\":\"Figure\",\"type\":\"Plot\"},{\"attributes\":{\"fill_alpha\":{\"value\":0.1},\"fill_color\":{\"value\":\"#1f77b4\"},\"line_alpha\":{\"value\":0.1},\"line_color\":{\"value\":\"#1f77b4\"},\"x\":{\"field\":\"x\"},\"y\":{\"field\":\"y\"}},\"id\":\"612b9c66-0687-4190-aab5-94f803e8083d\",\"type\":\"Circle\"},{\"attributes\":{\"plot\":null,\"text\":\"Linear pressure scale\"},\"id\":\"fb80edd2-6727-41f7-b270-632bd2fb80f1\",\"type\":\"Title\"},{\"attributes\":{\"source\":{\"id\":\"fbe7ee04-1db7-48b6-b750-c56cfa3f6119\",\"type\":\"ColumnDataSource\"}},\"id\":\"a1d138db-384c-4c4d-8c95-359dade8c051\",\"type\":\"CDSView\"},{\"attributes\":{},\"id\":\"47142109-6eee-4417-acc1-0f3f595607ff\",\"type\":\"PanTool\"},{\"attributes\":{\"callback\":null,\"data\":{\"x\":{\"__ndarray__\":\"qqk3Zmen0L5qndV3Rl/NvmQz94Elmb0+yamRaxwz2j47IdbuGQfoPt5LPu07V/I+tgmvLOcl+j5TCoNxn9cBP3Fwo6yHZwc/DbYdr1jODT/Voeh0hZUSP++9zt4Q1BY/WaTwNdCwGz/LqnfUckkgP2O8jAP3ZCI/EVx8F3dhJD9GlMpLUH4mPytRof2Ftig/2LBnrZEIKz+jDJ58hXgtP2FIx1JA9i8/6XQqvMlaLj+v0ATnL2cnP93n+pwueSA/LZ64RV1dFj824CTgnO0MPyeTqZDfRgE/68fcUpmX8z5LJTlxPnPmPhhoNRx09tY+/AFmD3DctT7CYWIHpi6/vlli5qTZkse+GN7f/pB5ub4TsF7LlsqePjiEukYlacc+Io8ikSsg1D7qYl4/H0fXPrDO/r/7Od8+W12w116g4z7Et+ItIujnPsQ1Ae49fuo+UOJb23Z37D6GO+DQKynuPslbVpyIk/E+uQ1/ShWnAj/v2pwyocAXP6qZodH8nyg/TvLo2TBfOz9+jxI4dx5NP/8b30U9V1s/N5wNTEJvZz/OpdiTsJZyP8RfkeufkXs/dNbB3lgZgz8Vx6cebimJP/3MRAQotY8/UScVlyczkz8kXgayinaWP04egQVRc5k/lVCwta0cnD9Hg72EaH+eP6UTkpf4TaA/6WlnaKE8oT8ZmGMZ5RCiP+jYpE9pzKI/XAtVX81poz8ibsB66+KjP4uocqKpE6Q/shG9ycXRoz/xVX5bqOOiP1AGFNgGaKE/VUnZLNuqnz9yxHuK86KcP/RObb9ozpk/\",\"dtype\":\"float64\",\"shape\":[75]},\"y\":{\"__ndarray__\":\"S/O/Q+51ND/Sv8nbtpRIP2vylNV0PVE/aTum7souWD/At0SJ8fVgPw3Iuahxymc/MSNhhJWvcD/bTfBN02d3P2zb5nxnaoA/CD5h5MAGhz8NmeH1TyaQP+zrCsc9p5Y/LbKd76fGnz/bLW5ISEmmPww9YvTcQq8/JV2OstnstT8Er5Y7M8G+P0c+r3jqkcU/5h99k6ZBzj88bCIzFzjVP4enV8oyxN0//yH99nXg5D8qOpLLf0jtP5kqGJXUifQ/c9cS8kHP/D+/DpwzojQEQIEmwoanVwxA4lgXt9HgE0BSSZ2AJuIbQAMJih9jjiNA5q4l5INuK0AwTKYKRj0zQNv5fmq8/DpAaCJseHrtQkB/+zpwzoxKQM3MzMzMeFJAZmZmZmZqWEAAAAAAAFxeQM3MzMzMJmJAmpmZmZkfZUBmZmZmZhhoQDMzMzMzEWtAAAAAAAAKbkBmZmZmZoFwQM3MzMzM/XFAMzMzMzN6c0CamZmZmfZ0QAAAAAAAc3ZAZmZmZmbvd0DNzMzMzGt5QDMzMzMz6HpAmpmZmZlkfEAAAAAAAOF9QGZmZmZmXX9AZmZmZuZsgECamZmZGSuBQM3MzMxM6YFAAAAAAICngkAzMzMzs2WDQGZmZmbmI4RAmpmZmRnihEDNzMzMTKCFQAAAAACAXoZAMzMzM7Mch0BmZmZm5tqHQJqZmZkZmYhAzczMzExXiUAAAAAAgBWKQDMzMzOz04pAZmZmZuaRi0CamZmZGVCMQM3MzMxMDo1AAAAAAIDMjUAzMzMzs4qOQGZmZmbmSI9A\",\"dtype\":\"float64\",\"shape\":[75]}},\"selected\":{\"id\":\"86b84b39-d25c-46ba-bb76-533e44b77c04\",\"type\":\"Selection\"},\"selection_policy\":{\"id\":\"072c6bfe-b08f-4cf2-adf4-e83701d69f65\",\"type\":\"UnionRenderers\"}},\"id\":\"dec70a8e-d86f-4bcd-851e-8cebdcecc6b5\",\"type\":\"ColumnDataSource\"},{\"attributes\":{\"fill_alpha\":{\"value\":0.7},\"fill_color\":{\"value\":\"#4daf4a\"},\"line_alpha\":{\"value\":0.7},\"line_color\":{\"value\":\"#4daf4a\"},\"x\":{\"field\":\"x\"},\"y\":{\"field\":\"y\"}},\"id\":\"9164f221-86a2-4473-81f7-fdc637d90cce\",\"type\":\"Circle\"},{\"attributes\":{\"callback\":null,\"end\":0.01,\"start\":1020},\"id\":\"53f7c9dc-90ca-44dd-a3d2-e93651c209f7\",\"type\":\"Range1d\"},{\"attributes\":{\"source\":{\"id\":\"dec70a8e-d86f-4bcd-851e-8cebdcecc6b5\",\"type\":\"ColumnDataSource\"}},\"id\":\"5b504179-d707-4156-899c-c2c088fe07eb\",\"type\":\"CDSView\"},{\"attributes\":{\"callback\":null,\"data\":{\"x\":{\"__ndarray__\":\"n235nGuWl76RT6jFOGS8PjSqLN3bC9s+mRm8Gmmj6T770Bt+pwr0PhEe7svkmPw+vhNFKJNWAz8EOhh3VT8JP4jIu32rEhA/9fGpaLUVFD87VGjqJbwYP8YmxG2iGx4/WHxo23AiIj8OS+28vzwlP0cS/+/I5ic/LFWLZNBoKj9+RwzkIB0tP0Ry0klWBTA//wNrIxebMT8u92ZIUFIzP/+BXKBz/TQ/xztnJ1vAMz+S8c/LCF8uP3opYNJ2gSU/Yl9gjV6YHT9nWQvvq48TP2GJYysBVwg/AJZAWBSh/T6UvNOgNgLzPvUJbSHIGug+pw06AZD52T6qjtaEjVbCPvnuUDkc9rE+CJ2n6PKTyD4OYJTQfEvYPtbZ4Sf9CeM+WiCFmzF56D7AI7AK2IDqPqK9l7OPZfI+co4c61GQ9z6YC6Xd6jn9Pl+2ErZHWgA/GBIIomLTAT8ix8JoST4DPx1SDN8psgU/tdxAnCBuET8C84EMtvYhP/XibSWc6DA/90dQ4erdQT8SyeWeh1JSP3NAsjQAu2A/BFQL4fbTaz9foO1EJ2R1P3JF55bEu34/BOl7z5fghD+OFQPik/uKP9YFswopt5A/4VjeRvr3kz8F+9LLBhqXPzHsq7KmDJo/qWfUAPq6nD8p3lKclBqfP9lnRcAXmaA/BDDVND5/oT/GJp0zJ0miPyCvUPvX+KI/qysojriOoz9VmXM62gKkPwnCvQWlLqQ/XxWHbtjooz9/KiFyF/WiP80CfQOLc6E/6fAkCeO5nz/Rc060DaycPxas3Tu+zpk/\",\"dtype\":\"float64\",\"shape\":[75]},\"y\":{\"__ndarray__\":\"GhExyth1ND/Sv8nbtpRIP2vylNV0PVE/aTum7souWD/At0SJ8fVgPw3Iuahxymc/MSNhhJWvcD/bTfBN02d3P2zb5nxnaoA/CD5h5MAGhz8NmeH1TyaQP+zrCsc9p5Y/LbKd76fGnz/bLW5ISEmmPww9YvTcQq8/JV2OstnstT8Er5Y7M8G+P0c+r3jqkcU/5h99k6ZBzj88bCIzFzjVP4enV8oyxN0//yH99nXg5D8qOpLLf0jtP5kqGJXUifQ/c9cS8kHP/D+/DpwzojQEQIEmwoanVwxA4lgXt9HgE0BSSZ2AJuIbQAMJih9jjiNA5q4l5INuK0AwTKYKRj0zQNv5fmq8/DpAaCJseHrtQkB/+zpwzoxKQM3MzMzMeFJAZmZmZmZqWEAAAAAAAFxeQM3MzMzMJmJAmpmZmZkfZUBmZmZmZhhoQDMzMzMzEWtAAAAAAAAKbkBmZmZmZoFwQM3MzMzM/XFAMzMzMzN6c0CamZmZmfZ0QAAAAAAAc3ZAZmZmZmbvd0DNzMzMzGt5QDMzMzMz6HpAmpmZmZlkfEAAAAAAAOF9QGZmZmZmXX9AZmZmZuZsgECamZmZGSuBQM3MzMxM6YFAAAAAAICngkAzMzMzs2WDQGZmZmbmI4RAmpmZmRnihEDNzMzMTKCFQAAAAACAXoZAMzMzM7Mch0BmZmZm5tqHQJqZmZkZmYhAzczMzExXiUAAAAAAgBWKQDMzMzOz04pAZmZmZuaRi0CamZmZGVCMQM3MzMxMDo1AAAAAAIDMjUAzMzMzs4qOQGZmZmbmSI9A\",\"dtype\":\"float64\",\"shape\":[75]}},\"selected\":{\"id\":\"813f12bb-4aed-4df5-b1f0-d9ed17112dd2\",\"type\":\"Selection\"},\"selection_policy\":{\"id\":\"47969251-65a8-43b9-a120-8863d61f6d53\",\"type\":\"UnionRenderers\"}},\"id\":\"e61658ff-a7be-42b4-bd08-2fe6a8a1f87a\",\"type\":\"ColumnDataSource\"},{\"attributes\":{},\"id\":\"24778f2a-c9b9-4b9b-9d67-b4d158d491c9\",\"type\":\"BasicTicker\"},{\"attributes\":{\"line_alpha\":0.1,\"line_color\":\"#1f77b4\",\"line_width\":3,\"x\":{\"field\":\"x\"},\"y\":{\"field\":\"y\"}},\"id\":\"819c24f3-c94f-445c-aa3a-aaff4a2d5267\",\"type\":\"Line\"},{\"attributes\":{\"line_alpha\":0.6,\"line_color\":\"#e41a1c\",\"line_dash\":[6],\"line_width\":5,\"x\":{\"field\":\"x\"},\"y\":{\"field\":\"y\"}},\"id\":\"fec5afa5-35cb-4321-8a71-9a5ec5a2214a\",\"type\":\"Line\"},{\"attributes\":{},\"id\":\"7b348c5e-64ae-42d5-b3f8-863496b78669\",\"type\":\"ResetTool\"},{\"attributes\":{},\"id\":\"513ecee6-4c11-49b5-a0e3-a3f8ccb2621e\",\"type\":\"BasicTicker\"},{\"attributes\":{\"dimension\":1,\"plot\":{\"id\":\"a2f9e2c6-1bfe-435e-9ee2-fe925c71ce1d\",\"subtype\":\"Figure\",\"type\":\"Plot\"},\"ticker\":{\"id\":\"202272d7-c7ac-4725-93ce-e73a836267f4\",\"type\":\"BasicTicker\"}},\"id\":\"74f67610-9bcd-4a0c-b789-8dc5b456c2a0\",\"type\":\"Grid\"},{\"attributes\":{\"axis_label\":\"pressure [mb]\",\"formatter\":{\"id\":\"fe2964cf-49e4-4971-8cb4-6388687ed6f7\",\"type\":\"LogTickFormatter\"},\"plot\":{\"id\":\"4b2212d7-e01f-4ac0-9adf-93de3801eb68\",\"subtype\":\"Figure\",\"type\":\"Plot\"},\"ticker\":{\"id\":\"3ef00747-8cbd-4a0d-8d4a-4e6931b122a6\",\"type\":\"LogTicker\"}},\"id\":\"04d7a148-3af0-4174-9999-e27811bff9c1\",\"type\":\"LogAxis\"},{\"attributes\":{},\"id\":\"fd3cb849-8c7a-4d66-8431-87df1d61541c\",\"type\":\"SaveTool\"},{\"attributes\":{\"bottom_units\":\"screen\",\"fill_alpha\":{\"value\":0.5},\"fill_color\":{\"value\":\"lightgrey\"},\"left_units\":\"screen\",\"level\":\"overlay\",\"line_alpha\":{\"value\":1.0},\"line_color\":{\"value\":\"black\"},\"line_dash\":[4,4],\"line_width\":{\"value\":2},\"plot\":null,\"render_mode\":\"css\",\"right_units\":\"screen\",\"top_units\":\"screen\"},\"id\":\"3d40ddcf-a496-485f-ae01-445413d666e6\",\"type\":\"BoxAnnotation\"},{\"attributes\":{\"data_source\":{\"id\":\"dec70a8e-d86f-4bcd-851e-8cebdcecc6b5\",\"type\":\"ColumnDataSource\"},\"glyph\":{\"id\":\"3b6cd812-d42c-4a06-91f2-c0da4ddf3327\",\"type\":\"Line\"},\"hover_glyph\":null,\"muted_glyph\":null,\"nonselection_glyph\":{\"id\":\"1aae431e-bf22-4f6d-bc3f-2d296495c92a\",\"type\":\"Line\"},\"selection_glyph\":null,\"view\":{\"id\":\"5b504179-d707-4156-899c-c2c088fe07eb\",\"type\":\"CDSView\"}},\"id\":\"c907e50d-bc78-4bbb-8986-c90f72bbcadf\",\"type\":\"GlyphRenderer\"},{\"attributes\":{\"children\":[{\"id\":\"a2f9e2c6-1bfe-435e-9ee2-fe925c71ce1d\",\"subtype\":\"Figure\",\"type\":\"Plot\"},{\"id\":\"4b2212d7-e01f-4ac0-9adf-93de3801eb68\",\"subtype\":\"Figure\",\"type\":\"Plot\"}]},\"id\":\"0d6be41c-48ab-4161-8c58-c82de2cc0fe2\",\"type\":\"Row\"},{\"attributes\":{\"data_source\":{\"id\":\"fbe7ee04-1db7-48b6-b750-c56cfa3f6119\",\"type\":\"ColumnDataSource\"},\"glyph\":{\"id\":\"23f201de-f273-4d03-92dc-7388528962b8\",\"type\":\"Line\"},\"hover_glyph\":null,\"muted_glyph\":null,\"nonselection_glyph\":{\"id\":\"819c24f3-c94f-445c-aa3a-aaff4a2d5267\",\"type\":\"Line\"},\"selection_glyph\":null,\"view\":{\"id\":\"a1d138db-384c-4c4d-8c95-359dade8c051\",\"type\":\"CDSView\"}},\"id\":\"a9aeb596-344a-4d1d-b7aa-79f99c49e9f3\",\"type\":\"GlyphRenderer\"},{\"attributes\":{\"line_alpha\":0.1,\"line_color\":\"#1f77b4\",\"line_dash\":[6],\"line_width\":5,\"x\":{\"field\":\"x\"},\"y\":{\"field\":\"y\"}},\"id\":\"1aae431e-bf22-4f6d-bc3f-2d296495c92a\",\"type\":\"Line\"},{\"attributes\":{\"axis_label\":\"cooling rate [K/day]\",\"formatter\":{\"id\":\"d64c06fe-4bf6-4bf8-8fa1-bd06c6d64eb8\",\"type\":\"BasicTickFormatter\"},\"plot\":{\"id\":\"a2f9e2c6-1bfe-435e-9ee2-fe925c71ce1d\",\"subtype\":\"Figure\",\"type\":\"Plot\"},\"ticker\":{\"id\":\"513ecee6-4c11-49b5-a0e3-a3f8ccb2621e\",\"type\":\"BasicTicker\"}},\"id\":\"889dd521-73af-431f-a4db-1944b4ce0af9\",\"type\":\"LinearAxis\"},{\"attributes\":{},\"id\":\"e6b717a1-9bae-4da3-8336-dd510964913e\",\"type\":\"LinearScale\"},{\"attributes\":{},\"id\":\"ef62849a-36af-4e6e-9b7e-2826eea650f7\",\"type\":\"HelpTool\"},{\"attributes\":{\"axis_label\":\"pressure [mb]\",\"formatter\":{\"id\":\"c8c4c19d-dfba-4c92-8208-61efd1259670\",\"type\":\"BasicTickFormatter\"},\"plot\":{\"id\":\"a2f9e2c6-1bfe-435e-9ee2-fe925c71ce1d\",\"subtype\":\"Figure\",\"type\":\"Plot\"},\"ticker\":{\"id\":\"202272d7-c7ac-4725-93ce-e73a836267f4\",\"type\":\"BasicTicker\"}},\"id\":\"fc817962-f2f5-46ba-a1d5-60449e67b2f1\",\"type\":\"LinearAxis\"},{\"attributes\":{\"source\":{\"id\":\"4fda8753-e779-4e72-b6ee-172801cf12d0\",\"type\":\"ColumnDataSource\"}},\"id\":\"17783a78-3ce0-4052-9012-b1af6811b805\",\"type\":\"CDSView\"},{\"attributes\":{\"line_alpha\":0.1,\"line_color\":\"#1f77b4\",\"line_width\":1.5,\"x\":{\"field\":\"x\"},\"y\":{\"field\":\"y\"}},\"id\":\"f6967d64-255b-4ada-92a9-573f24ef0a47\",\"type\":\"Line\"},{\"attributes\":{\"plot\":{\"id\":\"a2f9e2c6-1bfe-435e-9ee2-fe925c71ce1d\",\"subtype\":\"Figure\",\"type\":\"Plot\"},\"ticker\":{\"id\":\"513ecee6-4c11-49b5-a0e3-a3f8ccb2621e\",\"type\":\"BasicTicker\"}},\"id\":\"29ffefe1-9b62-4235-9896-57345b791d81\",\"type\":\"Grid\"},{\"attributes\":{\"line_alpha\":0.6,\"line_color\":\"#984ea3\",\"line_width\":3,\"x\":{\"field\":\"x\"},\"y\":{\"field\":\"y\"}},\"id\":\"12f87c3e-483f-45f6-b74f-9b4be288793e\",\"type\":\"Line\"},{\"attributes\":{},\"id\":\"202272d7-c7ac-4725-93ce-e73a836267f4\",\"type\":\"BasicTicker\"},{\"attributes\":{\"callback\":null,\"data\":{\"x\":{\"__ndarray__\":\"n235nGuWl76RT6jFOGS8PjSqLN3bC9s+mRm8Gmmj6T770Bt+pwr0PhEe7svkmPw+vhNFKJNWAz8EOhh3VT8JP4jIu32rEhA/9fGpaLUVFD87VGjqJbwYP8YmxG2iGx4/WHxo23AiIj8OS+28vzwlP0cS/+/I5ic/LFWLZNBoKj9+RwzkIB0tP0Ry0klWBTA//wNrIxebMT8u92ZIUFIzP/+BXKBz/TQ/xztnJ1vAMz+S8c/LCF8uP3opYNJ2gSU/Yl9gjV6YHT9nWQvvq48TP2GJYysBVwg/AJZAWBSh/T6UvNOgNgLzPvUJbSHIGug+pw06AZD52T6qjtaEjVbCPvnuUDkc9rE+CJ2n6PKTyD4OYJTQfEvYPtbZ4Sf9CeM+WiCFmzF56D7AI7AK2IDqPqK9l7OPZfI+co4c61GQ9z6YC6Xd6jn9Pl+2ErZHWgA/GBIIomLTAT8ix8JoST4DPx1SDN8psgU/tdxAnCBuET8C84EMtvYhP/XibSWc6DA/90dQ4erdQT8SyeWeh1JSP3NAsjQAu2A/BFQL4fbTaz9foO1EJ2R1P3JF55bEu34/BOl7z5fghD+OFQPik/uKP9YFswopt5A/4VjeRvr3kz8F+9LLBhqXPzHsq7KmDJo/qWfUAPq6nD8p3lKclBqfP9lnRcAXmaA/BDDVND5/oT/GJp0zJ0miPyCvUPvX+KI/qysojriOoz9VmXM62gKkPwnCvQWlLqQ/XxWHbtjooz9/KiFyF/WiP80CfQOLc6E/6fAkCeO5nz/Rc060DaycPxas3Tu+zpk/\",\"dtype\":\"float64\",\"shape\":[75]},\"y\":{\"__ndarray__\":\"GhExyth1ND/Sv8nbtpRIP2vylNV0PVE/aTum7souWD/At0SJ8fVgPw3Iuahxymc/MSNhhJWvcD/bTfBN02d3P2zb5nxnaoA/CD5h5MAGhz8NmeH1TyaQP+zrCsc9p5Y/LbKd76fGnz/bLW5ISEmmPww9YvTcQq8/JV2OstnstT8Er5Y7M8G+P0c+r3jqkcU/5h99k6ZBzj88bCIzFzjVP4enV8oyxN0//yH99nXg5D8qOpLLf0jtP5kqGJXUifQ/c9cS8kHP/D+/DpwzojQEQIEmwoanVwxA4lgXt9HgE0BSSZ2AJuIbQAMJih9jjiNA5q4l5INuK0AwTKYKRj0zQNv5fmq8/DpAaCJseHrtQkB/+zpwzoxKQM3MzMzMeFJAZmZmZmZqWEAAAAAAAFxeQM3MzMzMJmJAmpmZmZkfZUBmZmZmZhhoQDMzMzMzEWtAAAAAAAAKbkBmZmZmZoFwQM3MzMzM/XFAMzMzMzN6c0CamZmZmfZ0QAAAAAAAc3ZAZmZmZmbvd0DNzMzMzGt5QDMzMzMz6HpAmpmZmZlkfEAAAAAAAOF9QGZmZmZmXX9AZmZmZuZsgECamZmZGSuBQM3MzMxM6YFAAAAAAICngkAzMzMzs2WDQGZmZmbmI4RAmpmZmRnihEDNzMzMTKCFQAAAAACAXoZAMzMzM7Mch0BmZmZm5tqHQJqZmZkZmYhAzczMzExXiUAAAAAAgBWKQDMzMzOz04pAZmZmZuaRi0CamZmZGVCMQM3MzMxMDo1AAAAAAIDMjUAzMzMzs4qOQGZmZmbmSI9A\",\"dtype\":\"float64\",\"shape\":[75]}},\"selected\":{\"id\":\"7e8ff704-7109-4e74-b711-2c54b9cb0c55\",\"type\":\"Selection\"},\"selection_policy\":{\"id\":\"d249b1d7-5a5a-438b-bb43-a8e270628315\",\"type\":\"UnionRenderers\"}},\"id\":\"fbe7ee04-1db7-48b6-b750-c56cfa3f6119\",\"type\":\"ColumnDataSource\"},{\"attributes\":{\"bottom_units\":\"screen\",\"fill_alpha\":{\"value\":0.5},\"fill_color\":{\"value\":\"lightgrey\"},\"left_units\":\"screen\",\"level\":\"overlay\",\"line_alpha\":{\"value\":1.0},\"line_color\":{\"value\":\"black\"},\"line_dash\":[4,4],\"line_width\":{\"value\":2},\"plot\":null,\"render_mode\":\"css\",\"right_units\":\"screen\",\"top_units\":\"screen\"},\"id\":\"c8296e0c-39ad-458f-a4e7-aa641a8eabee\",\"type\":\"BoxAnnotation\"},{\"attributes\":{\"data_source\":{\"id\":\"52ca8bf0-3c66-4eb0-bccf-b60b653b6629\",\"type\":\"ColumnDataSource\"},\"glyph\":{\"id\":\"a1a54a10-5fec-4998-8f07-e68bac99a77e\",\"type\":\"Square\"},\"hover_glyph\":null,\"muted_glyph\":null,\"nonselection_glyph\":{\"id\":\"9dae719c-1929-4a76-96dd-70469c56ac11\",\"type\":\"Square\"},\"selection_glyph\":null,\"view\":{\"id\":\"cd19d5e9-60b5-4284-ab40-bb81a1fce119\",\"type\":\"CDSView\"}},\"id\":\"429e4835-6d52-4561-a4f6-dd3a5ac2b4fd\",\"type\":\"GlyphRenderer\"},{\"attributes\":{\"data_source\":{\"id\":\"4fda8753-e779-4e72-b6ee-172801cf12d0\",\"type\":\"ColumnDataSource\"},\"glyph\":{\"id\":\"9164f221-86a2-4473-81f7-fdc637d90cce\",\"type\":\"Circle\"},\"hover_glyph\":null,\"muted_glyph\":null,\"nonselection_glyph\":{\"id\":\"612b9c66-0687-4190-aab5-94f803e8083d\",\"type\":\"Circle\"},\"selection_glyph\":null,\"view\":{\"id\":\"17783a78-3ce0-4052-9012-b1af6811b805\",\"type\":\"CDSView\"}},\"id\":\"39e91f73-c06f-4f21-b56e-5a7839b43ceb\",\"type\":\"GlyphRenderer\"},{\"attributes\":{\"overlay\":{\"id\":\"3d40ddcf-a496-485f-ae01-445413d666e6\",\"type\":\"BoxAnnotation\"}},\"id\":\"f0216c96-1797-4f40-ac8e-8e876a8112ec\",\"type\":\"BoxZoomTool\"},{\"attributes\":{\"data_source\":{\"id\":\"e98e66da-42af-418b-a535-6a3a8152a030\",\"type\":\"ColumnDataSource\"},\"glyph\":{\"id\":\"fec5afa5-35cb-4321-8a71-9a5ec5a2214a\",\"type\":\"Line\"},\"hover_glyph\":null,\"muted_glyph\":null,\"nonselection_glyph\":{\"id\":\"18dd710f-faca-4694-8e4a-7b08ebfb727a\",\"type\":\"Line\"},\"selection_glyph\":null,\"view\":{\"id\":\"8366f1e2-abc1-4a32-88a5-4f827e5c9364\",\"type\":\"CDSView\"}},\"id\":\"13899e48-49c4-435d-bd42-b3fa76e69a70\",\"type\":\"GlyphRenderer\"},{\"attributes\":{\"fill_alpha\":{\"value\":0.1},\"fill_color\":{\"value\":\"#1f77b4\"},\"line_alpha\":{\"value\":0.1},\"line_color\":{\"value\":\"#1f77b4\"},\"x\":{\"field\":\"x\"},\"y\":{\"field\":\"y\"}},\"id\":\"5e3e373e-ed23-449c-b12c-8a672381ed53\",\"type\":\"Circle\"},{\"attributes\":{\"source\":{\"id\":\"52ca8bf0-3c66-4eb0-bccf-b60b653b6629\",\"type\":\"ColumnDataSource\"}},\"id\":\"cd19d5e9-60b5-4284-ab40-bb81a1fce119\",\"type\":\"CDSView\"},{\"attributes\":{\"line_alpha\":0.1,\"line_color\":\"#1f77b4\",\"line_dash\":[6],\"line_width\":5,\"x\":{\"field\":\"x\"},\"y\":{\"field\":\"y\"}},\"id\":\"18dd710f-faca-4694-8e4a-7b08ebfb727a\",\"type\":\"Line\"},{\"attributes\":{\"line_alpha\":0.1,\"line_color\":\"#1f77b4\",\"line_width\":1.5,\"x\":{\"field\":\"x\"},\"y\":{\"field\":\"y\"}},\"id\":\"04b57615-933a-4ce2-9236-208b1011fb06\",\"type\":\"Line\"},{\"attributes\":{\"callback\":null,\"data\":{\"x\":{\"__ndarray__\":\"n235nGuWl76RT6jFOGS8PjSqLN3bC9s+mRm8Gmmj6T770Bt+pwr0PhEe7svkmPw+vhNFKJNWAz8EOhh3VT8JP4jIu32rEhA/9fGpaLUVFD87VGjqJbwYP8YmxG2iGx4/WHxo23AiIj8OS+28vzwlP0cS/+/I5ic/LFWLZNBoKj9+RwzkIB0tP0Ry0klWBTA//wNrIxebMT8u92ZIUFIzP/+BXKBz/TQ/xztnJ1vAMz+S8c/LCF8uP3opYNJ2gSU/Yl9gjV6YHT9nWQvvq48TP2GJYysBVwg/AJZAWBSh/T6UvNOgNgLzPvUJbSHIGug+pw06AZD52T6qjtaEjVbCPvnuUDkc9rE+CJ2n6PKTyD4OYJTQfEvYPtbZ4Sf9CeM+WiCFmzF56D7AI7AK2IDqPqK9l7OPZfI+co4c61GQ9z6YC6Xd6jn9Pl+2ErZHWgA/GBIIomLTAT8ix8JoST4DPx1SDN8psgU/tdxAnCBuET8C84EMtvYhP/XibSWc6DA/90dQ4erdQT8SyeWeh1JSP3NAsjQAu2A/BFQL4fbTaz9foO1EJ2R1P3JF55bEu34/BOl7z5fghD+OFQPik/uKP9YFswopt5A/4VjeRvr3kz8F+9LLBhqXPzHsq7KmDJo/qWfUAPq6nD8p3lKclBqfP9lnRcAXmaA/BDDVND5/oT/GJp0zJ0miPyCvUPvX+KI/qysojriOoz9VmXM62gKkPwnCvQWlLqQ/XxWHbtjooz9/KiFyF/WiP80CfQOLc6E/6fAkCeO5nz/Rc060DaycPxas3Tu+zpk/\",\"dtype\":\"float64\",\"shape\":[75]},\"y\":{\"__ndarray__\":\"GhExyth1ND/Sv8nbtpRIP2vylNV0PVE/aTum7souWD/At0SJ8fVgPw3Iuahxymc/MSNhhJWvcD/bTfBN02d3P2zb5nxnaoA/CD5h5MAGhz8NmeH1TyaQP+zrCsc9p5Y/LbKd76fGnz/bLW5ISEmmPww9YvTcQq8/JV2OstnstT8Er5Y7M8G+P0c+r3jqkcU/5h99k6ZBzj88bCIzFzjVP4enV8oyxN0//yH99nXg5D8qOpLLf0jtP5kqGJXUifQ/c9cS8kHP/D+/DpwzojQEQIEmwoanVwxA4lgXt9HgE0BSSZ2AJuIbQAMJih9jjiNA5q4l5INuK0AwTKYKRj0zQNv5fmq8/DpAaCJseHrtQkB/+zpwzoxKQM3MzMzMeFJAZmZmZmZqWEAAAAAAAFxeQM3MzMzMJmJAmpmZmZkfZUBmZmZmZhhoQDMzMzMzEWtAAAAAAAAKbkBmZmZmZoFwQM3MzMzM/XFAMzMzMzN6c0CamZmZmfZ0QAAAAAAAc3ZAZmZmZmbvd0DNzMzMzGt5QDMzMzMz6HpAmpmZmZlkfEAAAAAAAOF9QGZmZmZmXX9AZmZmZuZsgECamZmZGSuBQM3MzMxM6YFAAAAAAICngkAzMzMzs2WDQGZmZmbmI4RAmpmZmRnihEDNzMzMTKCFQAAAAACAXoZAMzMzM7Mch0BmZmZm5tqHQJqZmZkZmYhAzczMzExXiUAAAAAAgBWKQDMzMzOz04pAZmZmZuaRi0CamZmZGVCMQM3MzMxMDo1AAAAAAIDMjUAzMzMzs4qOQGZmZmbmSI9A\",\"dtype\":\"float64\",\"shape\":[75]}},\"selected\":{\"id\":\"3dd4887e-fb3e-44bb-a2d0-f4612cf0df9b\",\"type\":\"Selection\"},\"selection_policy\":{\"id\":\"3072ed06-646e-44d5-9fb5-775b479396a5\",\"type\":\"UnionRenderers\"}},\"id\":\"5e36afe1-eb82-4f69-b55c-911bbf1f04de\",\"type\":\"ColumnDataSource\"},{\"attributes\":{\"overlay\":{\"id\":\"c8296e0c-39ad-458f-a4e7-aa641a8eabee\",\"type\":\"BoxAnnotation\"}},\"id\":\"2aeca699-4567-4727-9fe2-bdb6152b2c87\",\"type\":\"BoxZoomTool\"},{\"attributes\":{\"line_color\":\"#4daf4a\",\"line_width\":1.5,\"x\":{\"field\":\"x\"},\"y\":{\"field\":\"y\"}},\"id\":\"4a829a9f-5dd9-4c6b-96c5-4adf119b24be\",\"type\":\"Line\"},{\"attributes\":{\"plot\":null,\"text\":\"Log pressure scale\"},\"id\":\"eb135319-e672-49be-967b-6fc6a6915cce\",\"type\":\"Title\"},{\"attributes\":{\"line_alpha\":0.6,\"line_color\":\"#984ea3\",\"line_width\":3,\"x\":{\"field\":\"x\"},\"y\":{\"field\":\"y\"}},\"id\":\"23f201de-f273-4d03-92dc-7388528962b8\",\"type\":\"Line\"},{\"attributes\":{},\"id\":\"9ca7071a-7caf-4c3e-a6d5-560e18d2f934\",\"type\":\"SaveTool\"},{\"attributes\":{\"line_color\":\"#4daf4a\",\"line_width\":1.5,\"x\":{\"field\":\"x\"},\"y\":{\"field\":\"y\"}},\"id\":\"798bb927-1764-4f4e-aa2a-307fe5121661\",\"type\":\"Line\"},{\"attributes\":{\"source\":{\"id\":\"5e36afe1-eb82-4f69-b55c-911bbf1f04de\",\"type\":\"ColumnDataSource\"}},\"id\":\"2ab3301c-6b3f-4b7d-8a2d-991d45a5ad49\",\"type\":\"CDSView\"},{\"attributes\":{\"dimension\":1,\"plot\":{\"id\":\"4b2212d7-e01f-4ac0-9adf-93de3801eb68\",\"subtype\":\"Figure\",\"type\":\"Plot\"},\"ticker\":{\"id\":\"3ef00747-8cbd-4a0d-8d4a-4e6931b122a6\",\"type\":\"LogTicker\"}},\"id\":\"3dcfed7c-2ae8-42eb-9241-99379b2e8e85\",\"type\":\"Grid\"},{\"attributes\":{},\"id\":\"1697efef-81eb-4927-a8d7-81fefab73d20\",\"type\":\"ResetTool\"},{\"attributes\":{},\"id\":\"739c4dca-5fd2-4fe4-9de4-60ada57d8b51\",\"type\":\"LogScale\"},{\"attributes\":{},\"id\":\"9cda9cec-6b25-4049-9992-722b7908a204\",\"type\":\"HelpTool\"},{\"attributes\":{\"num_minor_ticks\":10},\"id\":\"3ef00747-8cbd-4a0d-8d4a-4e6931b122a6\",\"type\":\"LogTicker\"},{\"attributes\":{\"source\":{\"id\":\"e98e66da-42af-418b-a535-6a3a8152a030\",\"type\":\"ColumnDataSource\"}},\"id\":\"8366f1e2-abc1-4a32-88a5-4f827e5c9364\",\"type\":\"CDSView\"},{\"attributes\":{\"data_source\":{\"id\":\"3445b06f-e062-402a-9bfd-7376fcc2dcb5\",\"type\":\"ColumnDataSource\"},\"glyph\":{\"id\":\"798bb927-1764-4f4e-aa2a-307fe5121661\",\"type\":\"Line\"},\"hover_glyph\":null,\"muted_glyph\":null,\"nonselection_glyph\":{\"id\":\"04b57615-933a-4ce2-9236-208b1011fb06\",\"type\":\"Line\"},\"selection_glyph\":null,\"view\":{\"id\":\"5035d8a8-541c-4405-a089-58511fcb1127\",\"type\":\"CDSView\"}},\"id\":\"999b5105-c517-478e-bb9d-2ddf1c24404b\",\"type\":\"GlyphRenderer\"},{\"attributes\":{\"data_source\":{\"id\":\"5e36afe1-eb82-4f69-b55c-911bbf1f04de\",\"type\":\"ColumnDataSource\"},\"glyph\":{\"id\":\"12f87c3e-483f-45f6-b74f-9b4be288793e\",\"type\":\"Line\"},\"hover_glyph\":null,\"muted_glyph\":null,\"nonselection_glyph\":{\"id\":\"47fba965-1cac-4eba-b344-abc84a7e297b\",\"type\":\"Line\"},\"selection_glyph\":null,\"view\":{\"id\":\"2ab3301c-6b3f-4b7d-8a2d-991d45a5ad49\",\"type\":\"CDSView\"}},\"id\":\"04db453d-aeac-4ff1-95a6-354ea0344552\",\"type\":\"GlyphRenderer\"},{\"attributes\":{\"fill_alpha\":{\"value\":0.7},\"fill_color\":{\"value\":\"#984ea3\"},\"line_alpha\":{\"value\":0.7},\"line_color\":{\"value\":\"#984ea3\"},\"x\":{\"field\":\"x\"},\"y\":{\"field\":\"y\"}},\"id\":\"a1a54a10-5fec-4998-8f07-e68bac99a77e\",\"type\":\"Square\"},{\"attributes\":{\"callback\":null,\"data\":{\"x\":{\"__ndarray__\":\"TPGj6/ro5z4n2hq3IH/wPkqgUnc2A/s+hfrP1U7aAz8gpr82R2ELPyV9+65YIBI/nHBeI99UFz/tTnFh7WkdP2/RL+wVPyI/NPs5eF1aJj+eXDtfGBorPxXkrMSlSTA/gxvcvUZrMz+Ak4O2C5E2P9gu/HyiQzk/lzeqOCLMOz81E7TevoU+Pzr6gbU5u0A/jnd1KnBRQj/OmWaPgwdEP9uEGPl7qUU/wnJYk3xYRD+8vVha9Vk/P1S9pGM8VDY/qAf9HZPwLj8OBHM+PbkkPxU5Zm5XaRo/iB2FZPPDED/B8AZucr0GPzD0yXlfWf8+8BA5TxVf9D7K3cN4P4noPgfdkcwwf+M+lqVZzI+96D7O5PUnNDfwPvILqpQIFPQ+fSqGDJXP9j5WRHpDxUL3PleuShuZcP4+p9kFjBq6Aj+OkpC2nEwGP7yPTROBKAg/nkAcGGhlCT/wUyrrlI4KPxxTWkee0Aw/wusBEwiFFT/qtL/K2e8kP/V+SNn9OzM/PLOyqL3xQz8R/gBFVytUPwH6grigLmI/72q5fDLibT/YBNfnsbd2P2eu7sF0LYA/RsfdOffLhT89p3yv8f6LPyJsInrsQ5E/R1fDJ5iPlD84eH/skMOXP7qmDXXCxZo/1AmbExGEnT++/zZb3vSfP0qVkF7ACqE/NZRUUpn1oT+dYaeuNcGiP1ENer2bcaM/BpCV8GgJpD+puMDRzX+kP+c1donqraQ/l+QTwR5kpD/5qNNCSGSjP6vKhID40KE/3jitBCAooD9NVDdjDSGdP906lZI5JJo/\",\"dtype\":\"float64\",\"shape\":[75]},\"y\":{\"__ndarray__\":\"GhExyth1ND/Sv8nbtpRIP2vylNV0PVE/aTum7souWD/At0SJ8fVgPw3Iuahxymc/MSNhhJWvcD/bTfBN02d3P2zb5nxnaoA/CD5h5MAGhz8NmeH1TyaQP+zrCsc9p5Y/LbKd76fGnz/bLW5ISEmmPww9YvTcQq8/JV2OstnstT8Er5Y7M8G+P0c+r3jqkcU/5h99k6ZBzj88bCIzFzjVP4enV8oyxN0//yH99nXg5D8qOpLLf0jtP5kqGJXUifQ/c9cS8kHP/D+/DpwzojQEQIEmwoanVwxA4lgXt9HgE0BSSZ2AJuIbQAMJih9jjiNA5q4l5INuK0AwTKYKRj0zQNv5fmq8/DpAaCJseHrtQkB/+zpwzoxKQM3MzMzMeFJAZmZmZmZqWEAAAAAAAFxeQM3MzMzMJmJAmpmZmZkfZUBmZmZmZhhoQDMzMzMzEWtAAAAAAAAKbkBmZmZmZoFwQM3MzMzM/XFAMzMzMzN6c0CamZmZmfZ0QAAAAAAAc3ZAZmZmZmbvd0DNzMzMzGt5QDMzMzMz6HpAmpmZmZlkfEAAAAAAAOF9QGZmZmZmXX9AZmZmZuZsgECamZmZGSuBQM3MzMxM6YFAAAAAAICngkAzMzMzs2WDQGZmZmbmI4RAmpmZmRnihEDNzMzMTKCFQAAAAACAXoZAMzMzM7Mch0BmZmZm5tqHQJqZmZkZmYhAzczMzExXiUAAAAAAgBWKQDMzMzOz04pAZmZmZuaRi0CamZmZGVCMQM3MzMxMDo1AAAAAAIDMjUAzMzMzs4qOQGZmZmbmSI9A\",\"dtype\":\"float64\",\"shape\":[75]}},\"selected\":{\"id\":\"3cba48a2-2716-4d40-b853-f1a22e6d3157\",\"type\":\"Selection\"},\"selection_policy\":{\"id\":\"847c23ea-ae2c-4290-9996-aee8b112dac6\",\"type\":\"UnionRenderers\"}},\"id\":\"4fda8753-e779-4e72-b6ee-172801cf12d0\",\"type\":\"ColumnDataSource\"},{\"attributes\":{\"source\":{\"id\":\"3445b06f-e062-402a-9bfd-7376fcc2dcb5\",\"type\":\"ColumnDataSource\"}},\"id\":\"5035d8a8-541c-4405-a089-58511fcb1127\",\"type\":\"CDSView\"},{\"attributes\":{\"data_source\":{\"id\":\"0308a333-984a-49a1-a9af-d3235fbf96d1\",\"type\":\"ColumnDataSource\"},\"glyph\":{\"id\":\"4a829a9f-5dd9-4c6b-96c5-4adf119b24be\",\"type\":\"Line\"},\"hover_glyph\":null,\"muted_glyph\":null,\"nonselection_glyph\":{\"id\":\"f6967d64-255b-4ada-92a9-573f24ef0a47\",\"type\":\"Line\"},\"selection_glyph\":null,\"view\":{\"id\":\"ec8977ac-d73a-41fd-b8be-3ec50d2049ab\",\"type\":\"CDSView\"}},\"id\":\"7f2e0e78-aa9c-4885-8430-14a962d597d9\",\"type\":\"GlyphRenderer\"},{\"attributes\":{\"active_drag\":\"auto\",\"active_inspect\":\"auto\",\"active_scroll\":\"auto\",\"active_tap\":\"auto\",\"tools\":[{\"id\":\"d69f8f16-af8f-4bba-aceb-fdb3ed45f5a5\",\"type\":\"PanTool\"},{\"id\":\"ed51a7ec-4225-4ad2-8b76-b16a3f9d1010\",\"type\":\"WheelZoomTool\"},{\"id\":\"2aeca699-4567-4727-9fe2-bdb6152b2c87\",\"type\":\"BoxZoomTool\"},{\"id\":\"fd3cb849-8c7a-4d66-8431-87df1d61541c\",\"type\":\"SaveTool\"},{\"id\":\"7b348c5e-64ae-42d5-b3f8-863496b78669\",\"type\":\"ResetTool\"},{\"id\":\"ef62849a-36af-4e6e-9b7e-2826eea650f7\",\"type\":\"HelpTool\"}]},\"id\":\"7dc33492-f335-443d-876c-ff53382e1f60\",\"type\":\"Toolbar\"},{\"attributes\":{\"fill_alpha\":{\"value\":0.7},\"fill_color\":{\"value\":\"#984ea3\"},\"line_alpha\":{\"value\":0.7},\"line_color\":{\"value\":\"#984ea3\"},\"x\":{\"field\":\"x\"},\"y\":{\"field\":\"y\"}},\"id\":\"a498f209-20d3-4715-9d02-c54a793b2afe\",\"type\":\"Square\"},{\"attributes\":{\"below\":[{\"id\":\"889dd521-73af-431f-a4db-1944b4ce0af9\",\"type\":\"LinearAxis\"}],\"left\":[{\"id\":\"fc817962-f2f5-46ba-a1d5-60449e67b2f1\",\"type\":\"LinearAxis\"}],\"plot_height\":500,\"plot_width\":400,\"renderers\":[{\"id\":\"889dd521-73af-431f-a4db-1944b4ce0af9\",\"type\":\"LinearAxis\"},{\"id\":\"29ffefe1-9b62-4235-9896-57345b791d81\",\"type\":\"Grid\"},{\"id\":\"fc817962-f2f5-46ba-a1d5-60449e67b2f1\",\"type\":\"LinearAxis\"},{\"id\":\"74f67610-9bcd-4a0c-b789-8dc5b456c2a0\",\"type\":\"Grid\"},{\"id\":\"3d40ddcf-a496-485f-ae01-445413d666e6\",\"type\":\"BoxAnnotation\"},{\"id\":\"c907e50d-bc78-4bbb-8986-c90f72bbcadf\",\"type\":\"GlyphRenderer\"},{\"id\":\"cc0ba076-5e17-4b31-ae56-754f3b3db462\",\"type\":\"GlyphRenderer\"},{\"id\":\"7f2e0e78-aa9c-4885-8430-14a962d597d9\",\"type\":\"GlyphRenderer\"},{\"id\":\"429e4835-6d52-4561-a4f6-dd3a5ac2b4fd\",\"type\":\"GlyphRenderer\"},{\"id\":\"a9aeb596-344a-4d1d-b7aa-79f99c49e9f3\",\"type\":\"GlyphRenderer\"}],\"title\":{\"id\":\"fb80edd2-6727-41f7-b270-632bd2fb80f1\",\"type\":\"Title\"},\"toolbar\":{\"id\":\"3454a70b-e59f-413a-aff7-305d4211501e\",\"type\":\"Toolbar\"},\"toolbar_location\":null,\"x_range\":{\"id\":\"0daac2c4-d743-4c6d-a192-dbfd477f0648\",\"type\":\"Range1d\"},\"x_scale\":{\"id\":\"d1a6ba8b-cf1b-42e5-9c2c-06f317573e33\",\"type\":\"LinearScale\"},\"y_range\":{\"id\":\"51d3de06-efae-4392-9e3b-1d46227f1dc2\",\"type\":\"Range1d\"},\"y_scale\":{\"id\":\"aac4a777-d642-4970-a601-ab2fb22c91b1\",\"type\":\"LinearScale\"}},\"id\":\"a2f9e2c6-1bfe-435e-9ee2-fe925c71ce1d\",\"subtype\":\"Figure\",\"type\":\"Plot\"},{\"attributes\":{\"callback\":null,\"data\":{\"x\":{\"__ndarray__\":\"qqk3Zmen0L5qndV3Rl/NvmQz94Elmb0+yamRaxwz2j47IdbuGQfoPt5LPu07V/I+tgmvLOcl+j5TCoNxn9cBP3Fwo6yHZwc/DbYdr1jODT/Voeh0hZUSP++9zt4Q1BY/WaTwNdCwGz/LqnfUckkgP2O8jAP3ZCI/EVx8F3dhJD9GlMpLUH4mPytRof2Ftig/2LBnrZEIKz+jDJ58hXgtP2FIx1JA9i8/6XQqvMlaLj+v0ATnL2cnP93n+pwueSA/LZ64RV1dFj824CTgnO0MPyeTqZDfRgE/68fcUpmX8z5LJTlxPnPmPhhoNRx09tY+/AFmD3DctT7CYWIHpi6/vlli5qTZkse+GN7f/pB5ub4TsF7LlsqePjiEukYlacc+Io8ikSsg1D7qYl4/H0fXPrDO/r/7Od8+W12w116g4z7Et+ItIujnPsQ1Ae49fuo+UOJb23Z37D6GO+DQKynuPslbVpyIk/E+uQ1/ShWnAj/v2pwyocAXP6qZodH8nyg/TvLo2TBfOz9+jxI4dx5NP/8b30U9V1s/N5wNTEJvZz/OpdiTsJZyP8RfkeufkXs/dNbB3lgZgz8Vx6cebimJP/3MRAQotY8/UScVlyczkz8kXgayinaWP04egQVRc5k/lVCwta0cnD9Hg72EaH+eP6UTkpf4TaA/6WlnaKE8oT8ZmGMZ5RCiP+jYpE9pzKI/XAtVX81poz8ibsB66+KjP4uocqKpE6Q/shG9ycXRoz/xVX5bqOOiP1AGFNgGaKE/VUnZLNuqnz9yxHuK86KcP/RObb9ozpk/\",\"dtype\":\"float64\",\"shape\":[75]},\"y\":{\"__ndarray__\":\"S/O/Q+51ND/Sv8nbtpRIP2vylNV0PVE/aTum7souWD/At0SJ8fVgPw3Iuahxymc/MSNhhJWvcD/bTfBN02d3P2zb5nxnaoA/CD5h5MAGhz8NmeH1TyaQP+zrCsc9p5Y/LbKd76fGnz/bLW5ISEmmPww9YvTcQq8/JV2OstnstT8Er5Y7M8G+P0c+r3jqkcU/5h99k6ZBzj88bCIzFzjVP4enV8oyxN0//yH99nXg5D8qOpLLf0jtP5kqGJXUifQ/c9cS8kHP/D+/DpwzojQEQIEmwoanVwxA4lgXt9HgE0BSSZ2AJuIbQAMJih9jjiNA5q4l5INuK0AwTKYKRj0zQNv5fmq8/DpAaCJseHrtQkB/+zpwzoxKQM3MzMzMeFJAZmZmZmZqWEAAAAAAAFxeQM3MzMzMJmJAmpmZmZkfZUBmZmZmZhhoQDMzMzMzEWtAAAAAAAAKbkBmZmZmZoFwQM3MzMzM/XFAMzMzMzN6c0CamZmZmfZ0QAAAAAAAc3ZAZmZmZmbvd0DNzMzMzGt5QDMzMzMz6HpAmpmZmZlkfEAAAAAAAOF9QGZmZmZmXX9AZmZmZuZsgECamZmZGSuBQM3MzMxM6YFAAAAAAICngkAzMzMzs2WDQGZmZmbmI4RAmpmZmRnihEDNzMzMTKCFQAAAAACAXoZAMzMzM7Mch0BmZmZm5tqHQJqZmZkZmYhAzczMzExXiUAAAAAAgBWKQDMzMzOz04pAZmZmZuaRi0CamZmZGVCMQM3MzMxMDo1AAAAAAIDMjUAzMzMzs4qOQGZmZmbmSI9A\",\"dtype\":\"float64\",\"shape\":[75]}},\"selected\":{\"id\":\"f6f9c2a8-d839-4ed0-bd0a-bb3d73801bc8\",\"type\":\"Selection\"},\"selection_policy\":{\"id\":\"3fa5a935-927c-497b-be3d-99b7298a23d7\",\"type\":\"UnionRenderers\"}},\"id\":\"e98e66da-42af-418b-a535-6a3a8152a030\",\"type\":\"ColumnDataSource\"},{\"attributes\":{\"fill_alpha\":{\"value\":0.1},\"fill_color\":{\"value\":\"#1f77b4\"},\"line_alpha\":{\"value\":0.1},\"line_color\":{\"value\":\"#1f77b4\"},\"x\":{\"field\":\"x\"},\"y\":{\"field\":\"y\"}},\"id\":\"e26f1d59-6437-4efa-9105-4c888afe47b6\",\"type\":\"Square\"},{\"attributes\":{\"plot\":{\"id\":\"4b2212d7-e01f-4ac0-9adf-93de3801eb68\",\"subtype\":\"Figure\",\"type\":\"Plot\"},\"ticker\":{\"id\":\"24778f2a-c9b9-4b9b-9d67-b4d158d491c9\",\"type\":\"BasicTicker\"}},\"id\":\"8922ba49-460c-4941-8c54-959c6e61aa12\",\"type\":\"Grid\"},{\"attributes\":{\"data_source\":{\"id\":\"e61658ff-a7be-42b4-bd08-2fe6a8a1f87a\",\"type\":\"ColumnDataSource\"},\"glyph\":{\"id\":\"a498f209-20d3-4715-9d02-c54a793b2afe\",\"type\":\"Square\"},\"hover_glyph\":null,\"muted_glyph\":null,\"nonselection_glyph\":{\"id\":\"e26f1d59-6437-4efa-9105-4c888afe47b6\",\"type\":\"Square\"},\"selection_glyph\":null,\"view\":{\"id\":\"2459b7f8-5c14-4c9c-a068-c0f8a3b94e24\",\"type\":\"CDSView\"}},\"id\":\"bccb2da9-b8ed-4101-bc9f-3a9817bc7b74\",\"type\":\"GlyphRenderer\"},{\"attributes\":{\"source\":{\"id\":\"e61658ff-a7be-42b4-bd08-2fe6a8a1f87a\",\"type\":\"ColumnDataSource\"}},\"id\":\"2459b7f8-5c14-4c9c-a068-c0f8a3b94e24\",\"type\":\"CDSView\"},{\"attributes\":{\"callback\":null,\"end\":0.01,\"start\":1020},\"id\":\"51d3de06-efae-4392-9e3b-1d46227f1dc2\",\"type\":\"Range1d\"},{\"attributes\":{\"label\":{\"value\":\"CLIRAD `coolr_bands`\"},\"renderers\":[{\"id\":\"13899e48-49c4-435d-bd42-b3fa76e69a70\",\"type\":\"GlyphRenderer\"}]},\"id\":\"38396b8a-8b3f-4c57-aa17-83226ddc0ae6\",\"type\":\"LegendItem\"},{\"attributes\":{\"children\":[{\"id\":\"0d6be41c-48ab-4161-8c58-c82de2cc0fe2\",\"type\":\"Row\"}]},\"id\":\"de0251a1-b5db-4c26-a991-af8ddfad802e\",\"type\":\"Column\"},{\"attributes\":{\"line_alpha\":0.1,\"line_color\":\"#1f77b4\",\"line_width\":3,\"x\":{\"field\":\"x\"},\"y\":{\"field\":\"y\"}},\"id\":\"47fba965-1cac-4eba-b344-abc84a7e297b\",\"type\":\"Line\"},{\"attributes\":{},\"id\":\"d64c06fe-4bf6-4bf8-8fa1-bd06c6d64eb8\",\"type\":\"BasicTickFormatter\"},{\"attributes\":{\"axis_label\":\"cooling rate [K/day]\",\"formatter\":{\"id\":\"b5fd68b4-e592-4c9a-9bf7-b5f9cd467d6d\",\"type\":\"BasicTickFormatter\"},\"plot\":{\"id\":\"4b2212d7-e01f-4ac0-9adf-93de3801eb68\",\"subtype\":\"Figure\",\"type\":\"Plot\"},\"ticker\":{\"id\":\"24778f2a-c9b9-4b9b-9d67-b4d158d491c9\",\"type\":\"BasicTicker\"}},\"id\":\"66b1e65f-2f71-4634-8123-eba865d2d736\",\"type\":\"LinearAxis\"},{\"attributes\":{\"label\":{\"value\":\"CRD\"},\"renderers\":[{\"id\":\"39e91f73-c06f-4f21-b56e-5a7839b43ceb\",\"type\":\"GlyphRenderer\"},{\"id\":\"999b5105-c517-478e-bb9d-2ddf1c24404b\",\"type\":\"GlyphRenderer\"}]},\"id\":\"d419e016-b327-4261-8c0b-400e53b241c0\",\"type\":\"LegendItem\"},{\"attributes\":{\"source\":{\"id\":\"0308a333-984a-49a1-a9af-d3235fbf96d1\",\"type\":\"ColumnDataSource\"}},\"id\":\"ec8977ac-d73a-41fd-b8be-3ec50d2049ab\",\"type\":\"CDSView\"},{\"attributes\":{},\"id\":\"66a5b735-a2c6-4504-b9b7-75ba344ffa21\",\"type\":\"Selection\"},{\"attributes\":{\"label\":{\"value\":\"WGT igg=10 wgt_flux=2\"},\"renderers\":[{\"id\":\"bccb2da9-b8ed-4101-bc9f-3a9817bc7b74\",\"type\":\"GlyphRenderer\"},{\"id\":\"04db453d-aeac-4ff1-95a6-354ea0344552\",\"type\":\"GlyphRenderer\"}]},\"id\":\"0d4fb590-09d1-4041-81ff-b176bb3a5f7c\",\"type\":\"LegendItem\"},{\"attributes\":{},\"id\":\"86b84b39-d25c-46ba-bb76-533e44b77c04\",\"type\":\"Selection\"},{\"attributes\":{},\"id\":\"c8c4c19d-dfba-4c92-8208-61efd1259670\",\"type\":\"BasicTickFormatter\"},{\"attributes\":{\"callback\":null,\"end\":0.0006677120743610001,\"start\":-9.449030461000002e-06},\"id\":\"020e9c1f-904f-41c1-9bca-dbe02cb067ca\",\"type\":\"Range1d\"},{\"attributes\":{},\"id\":\"072c6bfe-b08f-4cf2-adf4-e83701d69f65\",\"type\":\"UnionRenderers\"},{\"attributes\":{},\"id\":\"ed51a7ec-4225-4ad2-8b76-b16a3f9d1010\",\"type\":\"WheelZoomTool\"},{\"attributes\":{\"fill_alpha\":{\"value\":0.7},\"fill_color\":{\"value\":\"#4daf4a\"},\"line_alpha\":{\"value\":0.7},\"line_color\":{\"value\":\"#4daf4a\"},\"x\":{\"field\":\"x\"},\"y\":{\"field\":\"y\"}},\"id\":\"4ccd2d05-14d4-455c-9fca-8d33f3421b02\",\"type\":\"Circle\"},{\"attributes\":{},\"id\":\"32ec52a8-d99d-47d3-852f-6985776ca785\",\"type\":\"Selection\"},{\"attributes\":{},\"id\":\"3d70fb3c-6689-4a23-aa5e-a802bccdee54\",\"type\":\"UnionRenderers\"},{\"attributes\":{\"source\":{\"id\":\"619b5e71-939d-44ab-850a-7de29a03b7e4\",\"type\":\"ColumnDataSource\"}},\"id\":\"85dc55c8-7e4b-49d8-baa0-11810789fde4\",\"type\":\"CDSView\"},{\"attributes\":{},\"id\":\"f97382f9-da03-4c08-a3c9-6e5c6322c882\",\"type\":\"UnionRenderers\"},{\"attributes\":{\"fill_alpha\":{\"value\":0.1},\"fill_color\":{\"value\":\"#1f77b4\"},\"line_alpha\":{\"value\":0.1},\"line_color\":{\"value\":\"#1f77b4\"},\"x\":{\"field\":\"x\"},\"y\":{\"field\":\"y\"}},\"id\":\"9dae719c-1929-4a76-96dd-70469c56ac11\",\"type\":\"Square\"},{\"attributes\":{},\"id\":\"b5fd68b4-e592-4c9a-9bf7-b5f9cd467d6d\",\"type\":\"BasicTickFormatter\"},{\"attributes\":{\"children\":[{\"id\":\"229de6c8-4552-4b40-b8d4-5989d41233f6\",\"type\":\"ToolbarBox\"},{\"id\":\"de0251a1-b5db-4c26-a991-af8ddfad802e\",\"type\":\"Column\"}]},\"id\":\"45e1ad56-7343-4153-824d-af1c664d4da6\",\"type\":\"Column\"},{\"attributes\":{\"callback\":null,\"data\":{\"x\":{\"__ndarray__\":\"TPGj6/ro5z4n2hq3IH/wPkqgUnc2A/s+hfrP1U7aAz8gpr82R2ELPyV9+65YIBI/nHBeI99UFz/tTnFh7WkdP2/RL+wVPyI/NPs5eF1aJj+eXDtfGBorPxXkrMSlSTA/gxvcvUZrMz+Ak4O2C5E2P9gu/HyiQzk/lzeqOCLMOz81E7TevoU+Pzr6gbU5u0A/jnd1KnBRQj/OmWaPgwdEP9uEGPl7qUU/wnJYk3xYRD+8vVha9Vk/P1S9pGM8VDY/qAf9HZPwLj8OBHM+PbkkPxU5Zm5XaRo/iB2FZPPDED/B8AZucr0GPzD0yXlfWf8+8BA5TxVf9D7K3cN4P4noPgfdkcwwf+M+lqVZzI+96D7O5PUnNDfwPvILqpQIFPQ+fSqGDJXP9j5WRHpDxUL3PleuShuZcP4+p9kFjBq6Aj+OkpC2nEwGP7yPTROBKAg/nkAcGGhlCT/wUyrrlI4KPxxTWkee0Aw/wusBEwiFFT/qtL/K2e8kP/V+SNn9OzM/PLOyqL3xQz8R/gBFVytUPwH6grigLmI/72q5fDLibT/YBNfnsbd2P2eu7sF0LYA/RsfdOffLhT89p3yv8f6LPyJsInrsQ5E/R1fDJ5iPlD84eH/skMOXP7qmDXXCxZo/1AmbExGEnT++/zZb3vSfP0qVkF7ACqE/NZRUUpn1oT+dYaeuNcGiP1ENer2bcaM/BpCV8GgJpD+puMDRzX+kP+c1donqraQ/l+QTwR5kpD/5qNNCSGSjP6vKhID40KE/3jitBCAooD9NVDdjDSGdP906lZI5JJo/\",\"dtype\":\"float64\",\"shape\":[75]},\"y\":{\"__ndarray__\":\"GhExyth1ND/Sv8nbtpRIP2vylNV0PVE/aTum7souWD/At0SJ8fVgPw3Iuahxymc/MSNhhJWvcD/bTfBN02d3P2zb5nxnaoA/CD5h5MAGhz8NmeH1TyaQP+zrCsc9p5Y/LbKd76fGnz/bLW5ISEmmPww9YvTcQq8/JV2OstnstT8Er5Y7M8G+P0c+r3jqkcU/5h99k6ZBzj88bCIzFzjVP4enV8oyxN0//yH99nXg5D8qOpLLf0jtP5kqGJXUifQ/c9cS8kHP/D+/DpwzojQEQIEmwoanVwxA4lgXt9HgE0BSSZ2AJuIbQAMJih9jjiNA5q4l5INuK0AwTKYKRj0zQNv5fmq8/DpAaCJseHrtQkB/+zpwzoxKQM3MzMzMeFJAZmZmZmZqWEAAAAAAAFxeQM3MzMzMJmJAmpmZmZkfZUBmZmZmZhhoQDMzMzMzEWtAAAAAAAAKbkBmZmZmZoFwQM3MzMzM/XFAMzMzMzN6c0CamZmZmfZ0QAAAAAAAc3ZAZmZmZmbvd0DNzMzMzGt5QDMzMzMz6HpAmpmZmZlkfEAAAAAAAOF9QGZmZmZmXX9AZmZmZuZsgECamZmZGSuBQM3MzMxM6YFAAAAAAICngkAzMzMzs2WDQGZmZmbmI4RAmpmZmRnihEDNzMzMTKCFQAAAAACAXoZAMzMzM7Mch0BmZmZm5tqHQJqZmZkZmYhAzczMzExXiUAAAAAAgBWKQDMzMzOz04pAZmZmZuaRi0CamZmZGVCMQM3MzMxMDo1AAAAAAIDMjUAzMzMzs4qOQGZmZmbmSI9A\",\"dtype\":\"float64\",\"shape\":[75]}},\"selected\":{\"id\":\"66a5b735-a2c6-4504-b9b7-75ba344ffa21\",\"type\":\"Selection\"},\"selection_policy\":{\"id\":\"3d70fb3c-6689-4a23-aa5e-a802bccdee54\",\"type\":\"UnionRenderers\"}},\"id\":\"0308a333-984a-49a1-a9af-d3235fbf96d1\",\"type\":\"ColumnDataSource\"},{\"attributes\":{},\"id\":\"d249b1d7-5a5a-438b-bb43-a8e270628315\",\"type\":\"UnionRenderers\"},{\"attributes\":{},\"id\":\"dc9d6987-1488-4763-a26b-9f8421b8d0e7\",\"type\":\"Selection\"},{\"attributes\":{},\"id\":\"3cba48a2-2716-4d40-b853-f1a22e6d3157\",\"type\":\"Selection\"},{\"attributes\":{\"callback\":null,\"data\":{\"x\":{\"__ndarray__\":\"n235nGuWl76RT6jFOGS8PjSqLN3bC9s+mRm8Gmmj6T770Bt+pwr0PhEe7svkmPw+vhNFKJNWAz8EOhh3VT8JP4jIu32rEhA/9fGpaLUVFD87VGjqJbwYP8YmxG2iGx4/WHxo23AiIj8OS+28vzwlP0cS/+/I5ic/LFWLZNBoKj9+RwzkIB0tP0Ry0klWBTA//wNrIxebMT8u92ZIUFIzP/+BXKBz/TQ/xztnJ1vAMz+S8c/LCF8uP3opYNJ2gSU/Yl9gjV6YHT9nWQvvq48TP2GJYysBVwg/AJZAWBSh/T6UvNOgNgLzPvUJbSHIGug+pw06AZD52T6qjtaEjVbCPvnuUDkc9rE+CJ2n6PKTyD4OYJTQfEvYPtbZ4Sf9CeM+WiCFmzF56D7AI7AK2IDqPqK9l7OPZfI+co4c61GQ9z6YC6Xd6jn9Pl+2ErZHWgA/GBIIomLTAT8ix8JoST4DPx1SDN8psgU/tdxAnCBuET8C84EMtvYhP/XibSWc6DA/90dQ4erdQT8SyeWeh1JSP3NAsjQAu2A/BFQL4fbTaz9foO1EJ2R1P3JF55bEu34/BOl7z5fghD+OFQPik/uKP9YFswopt5A/4VjeRvr3kz8F+9LLBhqXPzHsq7KmDJo/qWfUAPq6nD8p3lKclBqfP9lnRcAXmaA/BDDVND5/oT/GJp0zJ0miPyCvUPvX+KI/qysojriOoz9VmXM62gKkPwnCvQWlLqQ/XxWHbtjooz9/KiFyF/WiP80CfQOLc6E/6fAkCeO5nz/Rc060DaycPxas3Tu+zpk/\",\"dtype\":\"float64\",\"shape\":[75]},\"y\":{\"__ndarray__\":\"GhExyth1ND/Sv8nbtpRIP2vylNV0PVE/aTum7souWD/At0SJ8fVgPw3Iuahxymc/MSNhhJWvcD/bTfBN02d3P2zb5nxnaoA/CD5h5MAGhz8NmeH1TyaQP+zrCsc9p5Y/LbKd76fGnz/bLW5ISEmmPww9YvTcQq8/JV2OstnstT8Er5Y7M8G+P0c+r3jqkcU/5h99k6ZBzj88bCIzFzjVP4enV8oyxN0//yH99nXg5D8qOpLLf0jtP5kqGJXUifQ/c9cS8kHP/D+/DpwzojQEQIEmwoanVwxA4lgXt9HgE0BSSZ2AJuIbQAMJih9jjiNA5q4l5INuK0AwTKYKRj0zQNv5fmq8/DpAaCJseHrtQkB/+zpwzoxKQM3MzMzMeFJAZmZmZmZqWEAAAAAAAFxeQM3MzMzMJmJAmpmZmZkfZUBmZmZmZhhoQDMzMzMzEWtAAAAAAAAKbkBmZmZmZoFwQM3MzMzM/XFAMzMzMzN6c0CamZmZmfZ0QAAAAAAAc3ZAZmZmZmbvd0DNzMzMzGt5QDMzMzMz6HpAmpmZmZlkfEAAAAAAAOF9QGZmZmZmXX9AZmZmZuZsgECamZmZGSuBQM3MzMxM6YFAAAAAAICngkAzMzMzs2WDQGZmZmbmI4RAmpmZmRnihEDNzMzMTKCFQAAAAACAXoZAMzMzM7Mch0BmZmZm5tqHQJqZmZkZmYhAzczMzExXiUAAAAAAgBWKQDMzMzOz04pAZmZmZuaRi0CamZmZGVCMQM3MzMxMDo1AAAAAAIDMjUAzMzMzs4qOQGZmZmbmSI9A\",\"dtype\":\"float64\",\"shape\":[75]}},\"selected\":{\"id\":\"dc9d6987-1488-4763-a26b-9f8421b8d0e7\",\"type\":\"Selection\"},\"selection_policy\":{\"id\":\"8b7796f8-642e-4316-ba52-6795a5ef45a5\",\"type\":\"UnionRenderers\"}},\"id\":\"52ca8bf0-3c66-4eb0-bccf-b60b653b6629\",\"type\":\"ColumnDataSource\"},{\"attributes\":{},\"id\":\"7e8ff704-7109-4e74-b711-2c54b9cb0c55\",\"type\":\"Selection\"},{\"attributes\":{},\"id\":\"f6f9c2a8-d839-4ed0-bd0a-bb3d73801bc8\",\"type\":\"Selection\"},{\"attributes\":{},\"id\":\"3fa5a935-927c-497b-be3d-99b7298a23d7\",\"type\":\"UnionRenderers\"},{\"attributes\":{\"ticker\":null},\"id\":\"fe2964cf-49e4-4971-8cb4-6388687ed6f7\",\"type\":\"LogTickFormatter\"},{\"attributes\":{},\"id\":\"77a162af-06f3-489b-b1b6-0f1145b26c6c\",\"type\":\"UnionRenderers\"},{\"attributes\":{\"callback\":null,\"data\":{\"x\":{\"__ndarray__\":\"TPGj6/ro5z4n2hq3IH/wPkqgUnc2A/s+hfrP1U7aAz8gpr82R2ELPyV9+65YIBI/nHBeI99UFz/tTnFh7WkdP2/RL+wVPyI/NPs5eF1aJj+eXDtfGBorPxXkrMSlSTA/gxvcvUZrMz+Ak4O2C5E2P9gu/HyiQzk/lzeqOCLMOz81E7TevoU+Pzr6gbU5u0A/jnd1KnBRQj/OmWaPgwdEP9uEGPl7qUU/wnJYk3xYRD+8vVha9Vk/P1S9pGM8VDY/qAf9HZPwLj8OBHM+PbkkPxU5Zm5XaRo/iB2FZPPDED/B8AZucr0GPzD0yXlfWf8+8BA5TxVf9D7K3cN4P4noPgfdkcwwf+M+lqVZzI+96D7O5PUnNDfwPvILqpQIFPQ+fSqGDJXP9j5WRHpDxUL3PleuShuZcP4+p9kFjBq6Aj+OkpC2nEwGP7yPTROBKAg/nkAcGGhlCT/wUyrrlI4KPxxTWkee0Aw/wusBEwiFFT/qtL/K2e8kP/V+SNn9OzM/PLOyqL3xQz8R/gBFVytUPwH6grigLmI/72q5fDLibT/YBNfnsbd2P2eu7sF0LYA/RsfdOffLhT89p3yv8f6LPyJsInrsQ5E/R1fDJ5iPlD84eH/skMOXP7qmDXXCxZo/1AmbExGEnT++/zZb3vSfP0qVkF7ACqE/NZRUUpn1oT+dYaeuNcGiP1ENer2bcaM/BpCV8GgJpD+puMDRzX+kP+c1donqraQ/l+QTwR5kpD/5qNNCSGSjP6vKhID40KE/3jitBCAooD9NVDdjDSGdP906lZI5JJo/\",\"dtype\":\"float64\",\"shape\":[75]},\"y\":{\"__ndarray__\":\"GhExyth1ND/Sv8nbtpRIP2vylNV0PVE/aTum7souWD/At0SJ8fVgPw3Iuahxymc/MSNhhJWvcD/bTfBN02d3P2zb5nxnaoA/CD5h5MAGhz8NmeH1TyaQP+zrCsc9p5Y/LbKd76fGnz/bLW5ISEmmPww9YvTcQq8/JV2OstnstT8Er5Y7M8G+P0c+r3jqkcU/5h99k6ZBzj88bCIzFzjVP4enV8oyxN0//yH99nXg5D8qOpLLf0jtP5kqGJXUifQ/c9cS8kHP/D+/DpwzojQEQIEmwoanVwxA4lgXt9HgE0BSSZ2AJuIbQAMJih9jjiNA5q4l5INuK0AwTKYKRj0zQNv5fmq8/DpAaCJseHrtQkB/+zpwzoxKQM3MzMzMeFJAZmZmZmZqWEAAAAAAAFxeQM3MzMzMJmJAmpmZmZkfZUBmZmZmZhhoQDMzMzMzEWtAAAAAAAAKbkBmZmZmZoFwQM3MzMzM/XFAMzMzMzN6c0CamZmZmfZ0QAAAAAAAc3ZAZmZmZmbvd0DNzMzMzGt5QDMzMzMz6HpAmpmZmZlkfEAAAAAAAOF9QGZmZmZmXX9AZmZmZuZsgECamZmZGSuBQM3MzMxM6YFAAAAAAICngkAzMzMzs2WDQGZmZmbmI4RAmpmZmRnihEDNzMzMTKCFQAAAAACAXoZAMzMzM7Mch0BmZmZm5tqHQJqZmZkZmYhAzczMzExXiUAAAAAAgBWKQDMzMzOz04pAZmZmZuaRi0CamZmZGVCMQM3MzMxMDo1AAAAAAIDMjUAzMzMzs4qOQGZmZmbmSI9A\",\"dtype\":\"float64\",\"shape\":[75]}},\"selected\":{\"id\":\"32ec52a8-d99d-47d3-852f-6985776ca785\",\"type\":\"Selection\"},\"selection_policy\":{\"id\":\"f97382f9-da03-4c08-a3c9-6e5c6322c882\",\"type\":\"UnionRenderers\"}},\"id\":\"619b5e71-939d-44ab-850a-7de29a03b7e4\",\"type\":\"ColumnDataSource\"},{\"attributes\":{},\"id\":\"ce285b8a-51ba-41fd-b2c1-9252957a7219\",\"type\":\"Selection\"},{\"attributes\":{\"callback\":null,\"end\":0.0407932641617293,\"start\":-0.00040343033465930003},\"id\":\"0daac2c4-d743-4c6d-a192-dbfd477f0648\",\"type\":\"Range1d\"},{\"attributes\":{},\"id\":\"847c23ea-ae2c-4290-9996-aee8b112dac6\",\"type\":\"UnionRenderers\"},{\"attributes\":{},\"id\":\"aac4a777-d642-4970-a601-ab2fb22c91b1\",\"type\":\"LinearScale\"},{\"attributes\":{},\"id\":\"3072ed06-646e-44d5-9fb5-775b479396a5\",\"type\":\"UnionRenderers\"},{\"attributes\":{},\"id\":\"813f12bb-4aed-4df5-b1f0-d9ed17112dd2\",\"type\":\"Selection\"},{\"attributes\":{\"data_source\":{\"id\":\"619b5e71-939d-44ab-850a-7de29a03b7e4\",\"type\":\"ColumnDataSource\"},\"glyph\":{\"id\":\"4ccd2d05-14d4-455c-9fca-8d33f3421b02\",\"type\":\"Circle\"},\"hover_glyph\":null,\"muted_glyph\":null,\"nonselection_glyph\":{\"id\":\"5e3e373e-ed23-449c-b12c-8a672381ed53\",\"type\":\"Circle\"},\"selection_glyph\":null,\"view\":{\"id\":\"85dc55c8-7e4b-49d8-baa0-11810789fde4\",\"type\":\"CDSView\"}},\"id\":\"cc0ba076-5e17-4b31-ae56-754f3b3db462\",\"type\":\"GlyphRenderer\"}],\"root_ids\":[\"45e1ad56-7343-4153-824d-af1c664d4da6\"]},\"title\":\"Bokeh Application\",\"version\":\"0.12.16\"}};\n",
       "  var render_items = [{\"docid\":\"bb9cc4f1-93d6-4e53-8f74-2149282a7d0f\",\"elementid\":\"8ba33335-eadc-49d4-ae66-72b532e164cc\",\"modelid\":\"45e1ad56-7343-4153-824d-af1c664d4da6\"}];\n",
       "  root.Bokeh.embed.embed_items_notebook(docs_json, render_items);\n",
       "\n",
       "  }\n",
       "  if (root.Bokeh !== undefined) {\n",
       "    embed_document(root);\n",
       "  } else {\n",
       "    var attempts = 0;\n",
       "    var timer = setInterval(function(root) {\n",
       "      if (root.Bokeh !== undefined) {\n",
       "        embed_document(root);\n",
       "        clearInterval(timer);\n",
       "      }\n",
       "      attempts++;\n",
       "      if (attempts > 100) {\n",
       "        console.log(\"Bokeh: ERROR: Unable to run BokehJS code because BokehJS library is missing\")\n",
       "        clearInterval(timer);\n",
       "      }\n",
       "    }, 10, root)\n",
       "  }\n",
       "})(window);"
      ],
      "application/vnd.bokehjs_exec.v0+json": ""
     },
     "metadata": {
      "application/vnd.bokehjs_exec.v0+json": {
       "id": "45e1ad56-7343-4153-824d-af1c664d4da6"
      }
     },
     "output_type": "display_data"
    },
    {
     "name": "stdout",
     "output_type": "stream",
     "text": [
      "FIGURE. Cooling rate profiles.\n"
     ]
    },
    {
     "data": {
      "text/html": [
       "<a id=\"Flux_Comparison\"></a>"
      ],
      "text/plain": [
       "<IPython.core.display.HTML object>"
      ]
     },
     "metadata": {},
     "output_type": "display_data"
    },
    {
     "data": {
      "text/markdown": [
       "# Flux Comparison"
      ],
      "text/plain": [
       "<IPython.core.display.Markdown object>"
      ]
     },
     "metadata": {},
     "output_type": "display_data"
    },
    {
     "data": {
      "text/html": [
       "<div>\n",
       "<style scoped>\n",
       "    .dataframe tbody tr th:only-of-type {\n",
       "        vertical-align: middle;\n",
       "    }\n",
       "\n",
       "    .dataframe tbody tr th {\n",
       "        vertical-align: top;\n",
       "    }\n",
       "\n",
       "    .dataframe thead th {\n",
       "        text-align: right;\n",
       "    }\n",
       "</style>\n",
       "<table border=\"1\" class=\"dataframe\">\n",
       "  <thead>\n",
       "    <tr style=\"text-align: right;\">\n",
       "      <th></th>\n",
       "      <th></th>\n",
       "      <th>flug</th>\n",
       "      <th>fldg</th>\n",
       "      <th>fnetg</th>\n",
       "    </tr>\n",
       "    <tr>\n",
       "      <th>pressure</th>\n",
       "      <th>level</th>\n",
       "      <th></th>\n",
       "      <th></th>\n",
       "      <th></th>\n",
       "    </tr>\n",
       "  </thead>\n",
       "  <tbody>\n",
       "    <tr>\n",
       "      <th>0.0000</th>\n",
       "      <th>1</th>\n",
       "      <td>-18.787640</td>\n",
       "      <td>0.000000</td>\n",
       "      <td>-18.787640</td>\n",
       "    </tr>\n",
       "    <tr>\n",
       "      <th>1.0685</th>\n",
       "      <th>24</th>\n",
       "      <td>-18.787626</td>\n",
       "      <td>0.000055</td>\n",
       "      <td>-18.787571</td>\n",
       "    </tr>\n",
       "    <tr>\n",
       "      <th>1013.0000</th>\n",
       "      <th>76</th>\n",
       "      <td>-18.921523</td>\n",
       "      <td>1.973902</td>\n",
       "      <td>-16.947620</td>\n",
       "    </tr>\n",
       "  </tbody>\n",
       "</table>\n",
       "</div>"
      ],
      "text/plain": [
       "                      flug      fldg      fnetg\n",
       "pressure  level                                \n",
       "0.0000    1     -18.787640  0.000000 -18.787640\n",
       "1.0685    24    -18.787626  0.000055 -18.787571\n",
       "1013.0000 76    -18.921523  1.973902 -16.947620"
      ]
     },
     "metadata": {},
     "output_type": "display_data"
    },
    {
     "name": "stdout",
     "output_type": "stream",
     "text": [
      "Table. Fluxes. CRD\n"
     ]
    },
    {
     "data": {
      "text/html": [
       "<div>\n",
       "<style scoped>\n",
       "    .dataframe tbody tr th:only-of-type {\n",
       "        vertical-align: middle;\n",
       "    }\n",
       "\n",
       "    .dataframe tbody tr th {\n",
       "        vertical-align: top;\n",
       "    }\n",
       "\n",
       "    .dataframe thead th {\n",
       "        text-align: right;\n",
       "    }\n",
       "</style>\n",
       "<table border=\"1\" class=\"dataframe\">\n",
       "  <thead>\n",
       "    <tr style=\"text-align: right;\">\n",
       "      <th></th>\n",
       "      <th></th>\n",
       "      <th>flug</th>\n",
       "      <th>fldg</th>\n",
       "      <th>fnetg</th>\n",
       "    </tr>\n",
       "    <tr>\n",
       "      <th>pressure</th>\n",
       "      <th>level</th>\n",
       "      <th></th>\n",
       "      <th></th>\n",
       "      <th></th>\n",
       "    </tr>\n",
       "  </thead>\n",
       "  <tbody>\n",
       "    <tr>\n",
       "      <th>0.0000</th>\n",
       "      <th>1</th>\n",
       "      <td>-18.793940</td>\n",
       "      <td>0.000000</td>\n",
       "      <td>-18.793940</td>\n",
       "    </tr>\n",
       "    <tr>\n",
       "      <th>1.0685</th>\n",
       "      <th>24</th>\n",
       "      <td>-18.793936</td>\n",
       "      <td>0.000028</td>\n",
       "      <td>-18.793907</td>\n",
       "    </tr>\n",
       "    <tr>\n",
       "      <th>1013.0000</th>\n",
       "      <th>76</th>\n",
       "      <td>-18.921523</td>\n",
       "      <td>1.919997</td>\n",
       "      <td>-17.001526</td>\n",
       "    </tr>\n",
       "  </tbody>\n",
       "</table>\n",
       "</div>"
      ],
      "text/plain": [
       "                      flug      fldg      fnetg\n",
       "pressure  level                                \n",
       "0.0000    1     -18.793940  0.000000 -18.793940\n",
       "1.0685    24    -18.793936  0.000028 -18.793907\n",
       "1013.0000 76    -18.921523  1.919997 -17.001526"
      ]
     },
     "metadata": {},
     "output_type": "display_data"
    },
    {
     "name": "stdout",
     "output_type": "stream",
     "text": [
      "Table. Fluxes. WGT igg=10 wgt_flux=1\n"
     ]
    },
    {
     "data": {
      "text/html": [
       "<div>\n",
       "<style scoped>\n",
       "    .dataframe tbody tr th:only-of-type {\n",
       "        vertical-align: middle;\n",
       "    }\n",
       "\n",
       "    .dataframe tbody tr th {\n",
       "        vertical-align: top;\n",
       "    }\n",
       "\n",
       "    .dataframe thead th {\n",
       "        text-align: right;\n",
       "    }\n",
       "</style>\n",
       "<table border=\"1\" class=\"dataframe\">\n",
       "  <thead>\n",
       "    <tr style=\"text-align: right;\">\n",
       "      <th></th>\n",
       "      <th></th>\n",
       "      <th>flug</th>\n",
       "      <th>fldg</th>\n",
       "      <th>fnetg</th>\n",
       "    </tr>\n",
       "    <tr>\n",
       "      <th>pressure</th>\n",
       "      <th>level</th>\n",
       "      <th></th>\n",
       "      <th></th>\n",
       "      <th></th>\n",
       "    </tr>\n",
       "  </thead>\n",
       "  <tbody>\n",
       "    <tr>\n",
       "      <th>1.000000e-08</th>\n",
       "      <th>1</th>\n",
       "      <td>-18.803282</td>\n",
       "      <td>0.000001</td>\n",
       "      <td>-18.803281</td>\n",
       "    </tr>\n",
       "    <tr>\n",
       "      <th>1.068500e+00</th>\n",
       "      <th>24</th>\n",
       "      <td>-18.803279</td>\n",
       "      <td>0.000024</td>\n",
       "      <td>-18.803255</td>\n",
       "    </tr>\n",
       "    <tr>\n",
       "      <th>1.013000e+03</th>\n",
       "      <th>76</th>\n",
       "      <td>-18.921520</td>\n",
       "      <td>1.877435</td>\n",
       "      <td>-17.044085</td>\n",
       "    </tr>\n",
       "  </tbody>\n",
       "</table>\n",
       "</div>"
      ],
      "text/plain": [
       "                         flug      fldg      fnetg\n",
       "pressure     level                                \n",
       "1.000000e-08 1     -18.803282  0.000001 -18.803281\n",
       "1.068500e+00 24    -18.803279  0.000024 -18.803255\n",
       "1.013000e+03 76    -18.921520  1.877435 -17.044085"
      ]
     },
     "metadata": {},
     "output_type": "display_data"
    },
    {
     "name": "stdout",
     "output_type": "stream",
     "text": [
      "Table. Fluxes. CLIRAD\n"
     ]
    },
    {
     "data": {
      "text/html": [
       "<div>\n",
       "<style scoped>\n",
       "    .dataframe tbody tr th:only-of-type {\n",
       "        vertical-align: middle;\n",
       "    }\n",
       "\n",
       "    .dataframe tbody tr th {\n",
       "        vertical-align: top;\n",
       "    }\n",
       "\n",
       "    .dataframe thead th {\n",
       "        text-align: right;\n",
       "    }\n",
       "</style>\n",
       "<table border=\"1\" class=\"dataframe\">\n",
       "  <thead>\n",
       "    <tr style=\"text-align: right;\">\n",
       "      <th></th>\n",
       "      <th></th>\n",
       "      <th>flug</th>\n",
       "      <th>fldg</th>\n",
       "      <th>fnetg</th>\n",
       "    </tr>\n",
       "    <tr>\n",
       "      <th>pressure</th>\n",
       "      <th>level</th>\n",
       "      <th></th>\n",
       "      <th></th>\n",
       "      <th></th>\n",
       "    </tr>\n",
       "  </thead>\n",
       "  <tbody>\n",
       "    <tr>\n",
       "      <th>0.0000</th>\n",
       "      <th>1</th>\n",
       "      <td>-6.300420e-03</td>\n",
       "      <td>0.000000</td>\n",
       "      <td>-0.006300</td>\n",
       "    </tr>\n",
       "    <tr>\n",
       "      <th>1.0685</th>\n",
       "      <th>24</th>\n",
       "      <td>-6.309680e-03</td>\n",
       "      <td>-0.000027</td>\n",
       "      <td>-0.006336</td>\n",
       "    </tr>\n",
       "    <tr>\n",
       "      <th>1013.0000</th>\n",
       "      <th>76</th>\n",
       "      <td>3.000000e-07</td>\n",
       "      <td>-0.053905</td>\n",
       "      <td>-0.053906</td>\n",
       "    </tr>\n",
       "  </tbody>\n",
       "</table>\n",
       "</div>"
      ],
      "text/plain": [
       "                         flug      fldg     fnetg\n",
       "pressure  level                                  \n",
       "0.0000    1     -6.300420e-03  0.000000 -0.006300\n",
       "1.0685    24    -6.309680e-03 -0.000027 -0.006336\n",
       "1013.0000 76     3.000000e-07 -0.053905 -0.053906"
      ]
     },
     "metadata": {},
     "output_type": "display_data"
    },
    {
     "name": "stdout",
     "output_type": "stream",
     "text": [
      "Table. Fluxes. (WGT igg=10 wgt_flux=1) - (CRD)\n"
     ]
    },
    {
     "data": {
      "text/html": [
       "<div>\n",
       "<style scoped>\n",
       "    .dataframe tbody tr th:only-of-type {\n",
       "        vertical-align: middle;\n",
       "    }\n",
       "\n",
       "    .dataframe tbody tr th {\n",
       "        vertical-align: top;\n",
       "    }\n",
       "\n",
       "    .dataframe thead th {\n",
       "        text-align: right;\n",
       "    }\n",
       "</style>\n",
       "<table border=\"1\" class=\"dataframe\">\n",
       "  <thead>\n",
       "    <tr style=\"text-align: right;\">\n",
       "      <th></th>\n",
       "      <th></th>\n",
       "      <th>flug</th>\n",
       "      <th>fldg</th>\n",
       "      <th>fnetg</th>\n",
       "    </tr>\n",
       "    <tr>\n",
       "      <th>pressure</th>\n",
       "      <th>level</th>\n",
       "      <th></th>\n",
       "      <th></th>\n",
       "      <th></th>\n",
       "    </tr>\n",
       "  </thead>\n",
       "  <tbody>\n",
       "    <tr>\n",
       "      <th>0.0000</th>\n",
       "      <th>1</th>\n",
       "      <td>-0.015642</td>\n",
       "      <td>0.000001</td>\n",
       "      <td>-0.015641</td>\n",
       "    </tr>\n",
       "    <tr>\n",
       "      <th>1.0685</th>\n",
       "      <th>24</th>\n",
       "      <td>-0.015653</td>\n",
       "      <td>-0.000031</td>\n",
       "      <td>-0.015684</td>\n",
       "    </tr>\n",
       "    <tr>\n",
       "      <th>1013.0000</th>\n",
       "      <th>76</th>\n",
       "      <td>0.000003</td>\n",
       "      <td>-0.096468</td>\n",
       "      <td>-0.096465</td>\n",
       "    </tr>\n",
       "  </tbody>\n",
       "</table>\n",
       "</div>"
      ],
      "text/plain": [
       "                     flug      fldg     fnetg\n",
       "pressure  level                              \n",
       "0.0000    1     -0.015642  0.000001 -0.015641\n",
       "1.0685    24    -0.015653 -0.000031 -0.015684\n",
       "1013.0000 76     0.000003 -0.096468 -0.096465"
      ]
     },
     "metadata": {},
     "output_type": "display_data"
    },
    {
     "name": "stdout",
     "output_type": "stream",
     "text": [
      "Table. Fluxes. (CLIRAD) - (CRD)\n"
     ]
    },
    {
     "data": {
      "text/html": [
       "<a id=\"Best-fit_Parameters\"></a>"
      ],
      "text/plain": [
       "<IPython.core.display.HTML object>"
      ]
     },
     "metadata": {},
     "output_type": "display_data"
    },
    {
     "data": {
      "text/markdown": [
       "# Best-fit Parameters"
      ],
      "text/plain": [
       "<IPython.core.display.Markdown object>"
      ]
     },
     "metadata": {},
     "output_type": "display_data"
    },
    {
     "name": "stdout",
     "output_type": "stream",
     "text": [
      "Best-fit values for each (gas, band)\n",
      "------------------------------------\n",
      "o h2o band3c\n",
      "  atmpro = mls\n",
      "  band = 3c\n",
      "  commitnumber = a06b618\n",
      "  conc = None\n",
      "  dv = 0.001\n",
      "  klin = 5e-25\n",
      "  molecule = h2o\n",
      "  ng_adju = [0]\n",
      "  ng_refs = [5]\n",
      "  nv = 1000\n",
      "  option_compute_btable = 0\n",
      "  option_compute_ktable = 1\n",
      "  option_wgt_flux = 1\n",
      "  option_wgt_k = 1\n",
      "  ref_pts = [(600, 250)]\n",
      "  tsfc = 294\n",
      "  vmax = 800\n",
      "  vmin = 720\n",
      "  w_diffuse = [(1.55, 1.6, 1.66, 1.66, 1.8)]\n",
      "  wgt = [(0.5, 0.5, 0.6, 0.7, 0.9)]\n"
     ]
    }
   ],
   "source": [
    "script()"
   ]
  },
  {
   "cell_type": "code",
   "execution_count": 13,
   "metadata": {
    "collapsed": true
   },
   "outputs": [
    {
     "data": {
      "text/html": [
       "<script>\n",
       "code_show=true; \n",
       "function code_toggle() {\n",
       " if (code_show){\n",
       " $('div.input').hide();\n",
       " } else {\n",
       " $('div.input').show();\n",
       " }\n",
       " code_show = !code_show\n",
       "} \n",
       "$( document ).ready(code_toggle);\n",
       "</script>\n",
       "<form action=\"javascript:code_toggle()\"><input type=\"submit\" value=\"Click here to toggle on/off the raw code.\"></form>"
      ],
      "text/plain": [
       "<IPython.core.display.HTML object>"
      ]
     },
     "execution_count": 13,
     "metadata": {},
     "output_type": "execute_result"
    }
   ],
   "source": [
    "display.HTML('''<script>\n",
    "code_show=true; \n",
    "function code_toggle() {\n",
    " if (code_show){\n",
    " $('div.input').hide();\n",
    " } else {\n",
    " $('div.input').show();\n",
    " }\n",
    " code_show = !code_show\n",
    "} \n",
    "$( document ).ready(code_toggle);\n",
    "</script>\n",
    "<form action=\"javascript:code_toggle()\"><input type=\"submit\" value=\"Click here to toggle on/off the raw code.\"></form>''')"
   ]
  }
 ],
 "metadata": {
  "kernelspec": {
   "display_name": "Python 3",
   "language": "python",
   "name": "python3"
  },
  "language_info": {
   "codemirror_mode": {
    "name": "ipython",
    "version": 3
   },
   "file_extension": ".py",
   "mimetype": "text/x-python",
   "name": "python",
   "nbconvert_exporter": "python",
   "pygments_lexer": "ipython3",
   "version": "3.6.1"
  }
 },
 "nbformat": 4,
 "nbformat_minor": 2
}
