{
 "cells": [
  {
   "cell_type": "code",
   "execution_count": 1,
   "metadata": {
    "collapsed": true
   },
   "outputs": [],
   "source": [
    "%matplotlib inline\n",
    "import os\n",
    "import re\n",
    "import io\n",
    "import itertools\n",
    "import pprint\n",
    "\n",
    "from bokeh.io import output_notebook, show\n",
    "from bokeh.layouts import gridplot\n",
    "from bokeh.plotting import figure\n",
    "from bokeh.models import Range1d, Legend\n",
    "from bokeh.palettes import all_palettes\n",
    "\n",
    "import matplotlib\n",
    "import matplotlib.pyplot as plt\n",
    "import numpy as np\n",
    "import pandas as pd\n",
    "import xarray as xr\n",
    "\n",
    "import climatools.lblnew.bestfit_params as bestfits\n",
    "from climatools.lblnew import setup_bestfit, setup_overlap\n",
    "import climatools.lblnew.pipeline as pipe_lblnew\n",
    "import climatools.cliradlw.setup as setup_cliradlw\n",
    "import climatools.cliradlw.pipeline as pipe_cliradlw\n",
    "\n",
    "import climatools.html.html as climahtml\n",
    "from climatools.lblnew.dataio import *\n",
    "from climatools.plot.plot import *\n",
    "\n",
    "\n",
    "import IPython.display as display"
   ]
  },
  {
   "cell_type": "code",
   "execution_count": 2,
   "metadata": {
    "collapsed": true
   },
   "outputs": [],
   "source": [
    "%run param.py"
   ]
  },
  {
   "cell_type": "code",
   "execution_count": 3,
   "metadata": {
    "collapsed": true
   },
   "outputs": [],
   "source": [
    "def load_output_file(path_csv):\n",
    "    '''\n",
    "    Load lblnew output .csv file to xarray.Dataset\n",
    "    \n",
    "    Parameters\n",
    "    ----------\n",
    "    path_csv: str\n",
    "              Path to the .csv file to be loaded.\n",
    "    ds: xarray.Dataset\n",
    "        Data in the input file in the form of an xarray.Dataset.\n",
    "    '''\n",
    "    toindex = ['band', 'pressure', 'igg', 'g']    \n",
    "    df = pd.read_csv(path_csv, sep=r'\\s+')\n",
    "    df = df.set_index([i for i in toindex if i in df.columns])\n",
    "    df = df.rename(columns={'sfu': 'flug',\n",
    "                            'sfd': 'fldg',\n",
    "                            'fnet': 'fnetg',\n",
    "                            'coolr': 'coolrg'})\n",
    "    ds = xr.Dataset.from_dataframe(df)\n",
    "\n",
    "    for l in ('level', 'layer'):\n",
    "        if l in ds.data_vars:\n",
    "            if len(ds[l].dims) > 1:\n",
    "                surface = {d: 0 for d in ds.dims if d != 'pressure'}\n",
    "                coord_level = ds[l][surface]\n",
    "                ds.coords[l] = ('pressure', coord_level)\n",
    "            else:\n",
    "                ds.coords[l] = ('pressure', ds[l])\n",
    "    \n",
    "    return ds"
   ]
  },
  {
   "cell_type": "code",
   "execution_count": 4,
   "metadata": {
    "collapsed": true
   },
   "outputs": [],
   "source": [
    "def lblnew_setup(param=None):\n",
    "    if 'ng_refs' in param:\n",
    "        return {'setup': setup_bestfit,\n",
    "                'fname_flux_crd': 'output_flux.dat',\n",
    "                'fname_cool_crd': 'output_coolr.dat',\n",
    "                'fname_flux_wgt': 'output_wfluxg.dat',\n",
    "                'fname_cool_wgt': 'output_wcoolrg.dat'}\n",
    "    else:\n",
    "        return {'setup': setup_overlap,\n",
    "                'fname_flux_crd': 'output_flux.dat',\n",
    "                'fname_cool_crd': 'output_coolr.dat',\n",
    "                'fname_flux_wgt': 'output_wflux.dat',\n",
    "                'fname_cool_wgt': 'output_wcoolr.dat'}\n",
    "\n",
    "    \n",
    "def load_lblnew_data(param):\n",
    "    \n",
    "    fname_dsname = [('fname_flux_crd', 'ds_flux_crd'),\n",
    "                    ('fname_cool_crd', 'ds_cool_crd'),\n",
    "                    ('fname_flux_wgt', 'ds_flux_wgt'),\n",
    "                    ('fname_cool_wgt', 'ds_cool_wgt')]\n",
    "    \n",
    "    d = lblnew_setup(param)\n",
    "    dir_fortran = pipe_lblnew.get_dir_case(param, setup=d['setup'])\n",
    "    \n",
    "    data_dict = {}\n",
    "    for fname, dsname in fname_dsname:\n",
    "        fpath = os.path.join(dir_fortran, d[fname])\n",
    "        data_dict[dsname] = load_output_file(fpath)\n",
    "    return data_dict\n",
    "    \n",
    "\n",
    "    \n",
    "    "
   ]
  },
  {
   "cell_type": "code",
   "execution_count": 5,
   "metadata": {
    "collapsed": true
   },
   "outputs": [],
   "source": [
    "d = load_lblnew_data(PARAM_LBLNEW)\n",
    "\n",
    "DS_FLUX_CRD = d['ds_flux_crd']\n",
    "DS_COOL_CRD = d['ds_cool_crd']\n",
    "DS_FLUX_WGT = d['ds_flux_wgt']\n",
    "DS_COOL_WGT = d['ds_cool_wgt']"
   ]
  },
  {
   "cell_type": "code",
   "execution_count": 6,
   "metadata": {
    "collapsed": true
   },
   "outputs": [],
   "source": [
    "DIR_FORTRAN = pipe_cliradlw.get_fortran_dir(PARAM, \n",
    "                                            setup=setup_cliradlw)\n",
    "\n",
    "PATH_FLUX = os.path.join(DIR_FORTRAN, 'output_flux.dat')\n",
    "PATH_COOL = os.path.join(DIR_FORTRAN, 'output_coolr.dat')\n",
    "\n",
    "DS_FLUX = load_output_file(PATH_FLUX)\n",
    "DS_COOL = load_output_file(PATH_COOL)"
   ]
  },
  {
   "cell_type": "code",
   "execution_count": 7,
   "metadata": {
    "collapsed": true
   },
   "outputs": [
    {
     "data": {
      "text/html": [
       "\n",
       "    <div class=\"bk-root\">\n",
       "        <a href=\"https://bokeh.pydata.org\" target=\"_blank\" class=\"bk-logo bk-logo-small bk-logo-notebook\"></a>\n",
       "        <span id=\"a569bfe4-8bea-416d-bf28-f01f05c30656\">Loading BokehJS ...</span>\n",
       "    </div>"
      ]
     },
     "metadata": {},
     "output_type": "display_data"
    },
    {
     "data": {
      "application/javascript": [
       "\n",
       "(function(root) {\n",
       "  function now() {\n",
       "    return new Date();\n",
       "  }\n",
       "\n",
       "  var force = true;\n",
       "\n",
       "  if (typeof (root._bokeh_onload_callbacks) === \"undefined\" || force === true) {\n",
       "    root._bokeh_onload_callbacks = [];\n",
       "    root._bokeh_is_loading = undefined;\n",
       "  }\n",
       "\n",
       "  var JS_MIME_TYPE = 'application/javascript';\n",
       "  var HTML_MIME_TYPE = 'text/html';\n",
       "  var EXEC_MIME_TYPE = 'application/vnd.bokehjs_exec.v0+json';\n",
       "  var CLASS_NAME = 'output_bokeh rendered_html';\n",
       "\n",
       "  /**\n",
       "   * Render data to the DOM node\n",
       "   */\n",
       "  function render(props, node) {\n",
       "    var script = document.createElement(\"script\");\n",
       "    node.appendChild(script);\n",
       "  }\n",
       "\n",
       "  /**\n",
       "   * Handle when an output is cleared or removed\n",
       "   */\n",
       "  function handleClearOutput(event, handle) {\n",
       "    var cell = handle.cell;\n",
       "\n",
       "    var id = cell.output_area._bokeh_element_id;\n",
       "    var server_id = cell.output_area._bokeh_server_id;\n",
       "    // Clean up Bokeh references\n",
       "    if (id !== undefined) {\n",
       "      Bokeh.index[id].model.document.clear();\n",
       "      delete Bokeh.index[id];\n",
       "    }\n",
       "\n",
       "    if (server_id !== undefined) {\n",
       "      // Clean up Bokeh references\n",
       "      var cmd = \"from bokeh.io.state import curstate; print(curstate().uuid_to_server['\" + server_id + \"'].get_sessions()[0].document.roots[0]._id)\";\n",
       "      cell.notebook.kernel.execute(cmd, {\n",
       "        iopub: {\n",
       "          output: function(msg) {\n",
       "            var element_id = msg.content.text.trim();\n",
       "            Bokeh.index[element_id].model.document.clear();\n",
       "            delete Bokeh.index[element_id];\n",
       "          }\n",
       "        }\n",
       "      });\n",
       "      // Destroy server and session\n",
       "      var cmd = \"import bokeh.io.notebook as ion; ion.destroy_server('\" + server_id + \"')\";\n",
       "      cell.notebook.kernel.execute(cmd);\n",
       "    }\n",
       "  }\n",
       "\n",
       "  /**\n",
       "   * Handle when a new output is added\n",
       "   */\n",
       "  function handleAddOutput(event, handle) {\n",
       "    var output_area = handle.output_area;\n",
       "    var output = handle.output;\n",
       "\n",
       "    // limit handleAddOutput to display_data with EXEC_MIME_TYPE content only\n",
       "    if ((output.output_type != \"display_data\") || (!output.data.hasOwnProperty(EXEC_MIME_TYPE))) {\n",
       "      return\n",
       "    }\n",
       "\n",
       "    var toinsert = output_area.element.find(\".\" + CLASS_NAME.split(' ')[0]);\n",
       "\n",
       "    if (output.metadata[EXEC_MIME_TYPE][\"id\"] !== undefined) {\n",
       "      toinsert[toinsert.length - 1].firstChild.textContent = output.data[JS_MIME_TYPE];\n",
       "      // store reference to embed id on output_area\n",
       "      output_area._bokeh_element_id = output.metadata[EXEC_MIME_TYPE][\"id\"];\n",
       "    }\n",
       "    if (output.metadata[EXEC_MIME_TYPE][\"server_id\"] !== undefined) {\n",
       "      var bk_div = document.createElement(\"div\");\n",
       "      bk_div.innerHTML = output.data[HTML_MIME_TYPE];\n",
       "      var script_attrs = bk_div.children[0].attributes;\n",
       "      for (var i = 0; i < script_attrs.length; i++) {\n",
       "        toinsert[toinsert.length - 1].firstChild.setAttribute(script_attrs[i].name, script_attrs[i].value);\n",
       "      }\n",
       "      // store reference to server id on output_area\n",
       "      output_area._bokeh_server_id = output.metadata[EXEC_MIME_TYPE][\"server_id\"];\n",
       "    }\n",
       "  }\n",
       "\n",
       "  function register_renderer(events, OutputArea) {\n",
       "\n",
       "    function append_mime(data, metadata, element) {\n",
       "      // create a DOM node to render to\n",
       "      var toinsert = this.create_output_subarea(\n",
       "        metadata,\n",
       "        CLASS_NAME,\n",
       "        EXEC_MIME_TYPE\n",
       "      );\n",
       "      this.keyboard_manager.register_events(toinsert);\n",
       "      // Render to node\n",
       "      var props = {data: data, metadata: metadata[EXEC_MIME_TYPE]};\n",
       "      render(props, toinsert[toinsert.length - 1]);\n",
       "      element.append(toinsert);\n",
       "      return toinsert\n",
       "    }\n",
       "\n",
       "    /* Handle when an output is cleared or removed */\n",
       "    events.on('clear_output.CodeCell', handleClearOutput);\n",
       "    events.on('delete.Cell', handleClearOutput);\n",
       "\n",
       "    /* Handle when a new output is added */\n",
       "    events.on('output_added.OutputArea', handleAddOutput);\n",
       "\n",
       "    /**\n",
       "     * Register the mime type and append_mime function with output_area\n",
       "     */\n",
       "    OutputArea.prototype.register_mime_type(EXEC_MIME_TYPE, append_mime, {\n",
       "      /* Is output safe? */\n",
       "      safe: true,\n",
       "      /* Index of renderer in `output_area.display_order` */\n",
       "      index: 0\n",
       "    });\n",
       "  }\n",
       "\n",
       "  // register the mime type if in Jupyter Notebook environment and previously unregistered\n",
       "  if (root.Jupyter !== undefined) {\n",
       "    var events = require('base/js/events');\n",
       "    var OutputArea = require('notebook/js/outputarea').OutputArea;\n",
       "\n",
       "    if (OutputArea.prototype.mime_types().indexOf(EXEC_MIME_TYPE) == -1) {\n",
       "      register_renderer(events, OutputArea);\n",
       "    }\n",
       "  }\n",
       "\n",
       "  \n",
       "  if (typeof (root._bokeh_timeout) === \"undefined\" || force === true) {\n",
       "    root._bokeh_timeout = Date.now() + 5000;\n",
       "    root._bokeh_failed_load = false;\n",
       "  }\n",
       "\n",
       "  var NB_LOAD_WARNING = {'data': {'text/html':\n",
       "     \"<div style='background-color: #fdd'>\\n\"+\n",
       "     \"<p>\\n\"+\n",
       "     \"BokehJS does not appear to have successfully loaded. If loading BokehJS from CDN, this \\n\"+\n",
       "     \"may be due to a slow or bad network connection. Possible fixes:\\n\"+\n",
       "     \"</p>\\n\"+\n",
       "     \"<ul>\\n\"+\n",
       "     \"<li>re-rerun `output_notebook()` to attempt to load from CDN again, or</li>\\n\"+\n",
       "     \"<li>use INLINE resources instead, as so:</li>\\n\"+\n",
       "     \"</ul>\\n\"+\n",
       "     \"<code>\\n\"+\n",
       "     \"from bokeh.resources import INLINE\\n\"+\n",
       "     \"output_notebook(resources=INLINE)\\n\"+\n",
       "     \"</code>\\n\"+\n",
       "     \"</div>\"}};\n",
       "\n",
       "  function display_loaded() {\n",
       "    var el = document.getElementById(\"a569bfe4-8bea-416d-bf28-f01f05c30656\");\n",
       "    if (el != null) {\n",
       "      el.textContent = \"BokehJS is loading...\";\n",
       "    }\n",
       "    if (root.Bokeh !== undefined) {\n",
       "      if (el != null) {\n",
       "        el.textContent = \"BokehJS \" + root.Bokeh.version + \" successfully loaded.\";\n",
       "      }\n",
       "    } else if (Date.now() < root._bokeh_timeout) {\n",
       "      setTimeout(display_loaded, 100)\n",
       "    }\n",
       "  }\n",
       "\n",
       "\n",
       "  function run_callbacks() {\n",
       "    try {\n",
       "      root._bokeh_onload_callbacks.forEach(function(callback) { callback() });\n",
       "    }\n",
       "    finally {\n",
       "      delete root._bokeh_onload_callbacks\n",
       "    }\n",
       "    console.info(\"Bokeh: all callbacks have finished\");\n",
       "  }\n",
       "\n",
       "  function load_libs(js_urls, callback) {\n",
       "    root._bokeh_onload_callbacks.push(callback);\n",
       "    if (root._bokeh_is_loading > 0) {\n",
       "      console.log(\"Bokeh: BokehJS is being loaded, scheduling callback at\", now());\n",
       "      return null;\n",
       "    }\n",
       "    if (js_urls == null || js_urls.length === 0) {\n",
       "      run_callbacks();\n",
       "      return null;\n",
       "    }\n",
       "    console.log(\"Bokeh: BokehJS not loaded, scheduling load and callback at\", now());\n",
       "    root._bokeh_is_loading = js_urls.length;\n",
       "    for (var i = 0; i < js_urls.length; i++) {\n",
       "      var url = js_urls[i];\n",
       "      var s = document.createElement('script');\n",
       "      s.src = url;\n",
       "      s.async = false;\n",
       "      s.onreadystatechange = s.onload = function() {\n",
       "        root._bokeh_is_loading--;\n",
       "        if (root._bokeh_is_loading === 0) {\n",
       "          console.log(\"Bokeh: all BokehJS libraries loaded\");\n",
       "          run_callbacks()\n",
       "        }\n",
       "      };\n",
       "      s.onerror = function() {\n",
       "        console.warn(\"failed to load library \" + url);\n",
       "      };\n",
       "      console.log(\"Bokeh: injecting script tag for BokehJS library: \", url);\n",
       "      document.getElementsByTagName(\"head\")[0].appendChild(s);\n",
       "    }\n",
       "  };var element = document.getElementById(\"a569bfe4-8bea-416d-bf28-f01f05c30656\");\n",
       "  if (element == null) {\n",
       "    console.log(\"Bokeh: ERROR: autoload.js configured with elementid 'a569bfe4-8bea-416d-bf28-f01f05c30656' but no matching script tag was found. \")\n",
       "    return false;\n",
       "  }\n",
       "\n",
       "  var js_urls = [\"https://cdn.pydata.org/bokeh/release/bokeh-0.12.16.min.js\", \"https://cdn.pydata.org/bokeh/release/bokeh-widgets-0.12.16.min.js\", \"https://cdn.pydata.org/bokeh/release/bokeh-tables-0.12.16.min.js\", \"https://cdn.pydata.org/bokeh/release/bokeh-gl-0.12.16.min.js\"];\n",
       "\n",
       "  var inline_js = [\n",
       "    function(Bokeh) {\n",
       "      Bokeh.set_log_level(\"info\");\n",
       "    },\n",
       "    \n",
       "    function(Bokeh) {\n",
       "      \n",
       "    },\n",
       "    function(Bokeh) {\n",
       "      console.log(\"Bokeh: injecting CSS: https://cdn.pydata.org/bokeh/release/bokeh-0.12.16.min.css\");\n",
       "      Bokeh.embed.inject_css(\"https://cdn.pydata.org/bokeh/release/bokeh-0.12.16.min.css\");\n",
       "      console.log(\"Bokeh: injecting CSS: https://cdn.pydata.org/bokeh/release/bokeh-widgets-0.12.16.min.css\");\n",
       "      Bokeh.embed.inject_css(\"https://cdn.pydata.org/bokeh/release/bokeh-widgets-0.12.16.min.css\");\n",
       "      console.log(\"Bokeh: injecting CSS: https://cdn.pydata.org/bokeh/release/bokeh-tables-0.12.16.min.css\");\n",
       "      Bokeh.embed.inject_css(\"https://cdn.pydata.org/bokeh/release/bokeh-tables-0.12.16.min.css\");\n",
       "    }\n",
       "  ];\n",
       "\n",
       "  function run_inline_js() {\n",
       "    \n",
       "    if ((root.Bokeh !== undefined) || (force === true)) {\n",
       "      for (var i = 0; i < inline_js.length; i++) {\n",
       "        inline_js[i].call(root, root.Bokeh);\n",
       "      }if (force === true) {\n",
       "        display_loaded();\n",
       "      }} else if (Date.now() < root._bokeh_timeout) {\n",
       "      setTimeout(run_inline_js, 100);\n",
       "    } else if (!root._bokeh_failed_load) {\n",
       "      console.log(\"Bokeh: BokehJS failed to load within specified timeout.\");\n",
       "      root._bokeh_failed_load = true;\n",
       "    } else if (force !== true) {\n",
       "      var cell = $(document.getElementById(\"a569bfe4-8bea-416d-bf28-f01f05c30656\")).parents('.cell').data().cell;\n",
       "      cell.output_area.append_execute_result(NB_LOAD_WARNING)\n",
       "    }\n",
       "\n",
       "  }\n",
       "\n",
       "  if (root._bokeh_is_loading === 0) {\n",
       "    console.log(\"Bokeh: BokehJS loaded, going straight to plotting\");\n",
       "    run_inline_js();\n",
       "  } else {\n",
       "    load_libs(js_urls, function() {\n",
       "      console.log(\"Bokeh: BokehJS plotting callback run at\", now());\n",
       "      run_inline_js();\n",
       "    });\n",
       "  }\n",
       "}(window));"
      ],
      "application/vnd.bokehjs_load.v0+json": "\n(function(root) {\n  function now() {\n    return new Date();\n  }\n\n  var force = true;\n\n  if (typeof (root._bokeh_onload_callbacks) === \"undefined\" || force === true) {\n    root._bokeh_onload_callbacks = [];\n    root._bokeh_is_loading = undefined;\n  }\n\n  \n\n  \n  if (typeof (root._bokeh_timeout) === \"undefined\" || force === true) {\n    root._bokeh_timeout = Date.now() + 5000;\n    root._bokeh_failed_load = false;\n  }\n\n  var NB_LOAD_WARNING = {'data': {'text/html':\n     \"<div style='background-color: #fdd'>\\n\"+\n     \"<p>\\n\"+\n     \"BokehJS does not appear to have successfully loaded. If loading BokehJS from CDN, this \\n\"+\n     \"may be due to a slow or bad network connection. Possible fixes:\\n\"+\n     \"</p>\\n\"+\n     \"<ul>\\n\"+\n     \"<li>re-rerun `output_notebook()` to attempt to load from CDN again, or</li>\\n\"+\n     \"<li>use INLINE resources instead, as so:</li>\\n\"+\n     \"</ul>\\n\"+\n     \"<code>\\n\"+\n     \"from bokeh.resources import INLINE\\n\"+\n     \"output_notebook(resources=INLINE)\\n\"+\n     \"</code>\\n\"+\n     \"</div>\"}};\n\n  function display_loaded() {\n    var el = document.getElementById(\"a569bfe4-8bea-416d-bf28-f01f05c30656\");\n    if (el != null) {\n      el.textContent = \"BokehJS is loading...\";\n    }\n    if (root.Bokeh !== undefined) {\n      if (el != null) {\n        el.textContent = \"BokehJS \" + root.Bokeh.version + \" successfully loaded.\";\n      }\n    } else if (Date.now() < root._bokeh_timeout) {\n      setTimeout(display_loaded, 100)\n    }\n  }\n\n\n  function run_callbacks() {\n    try {\n      root._bokeh_onload_callbacks.forEach(function(callback) { callback() });\n    }\n    finally {\n      delete root._bokeh_onload_callbacks\n    }\n    console.info(\"Bokeh: all callbacks have finished\");\n  }\n\n  function load_libs(js_urls, callback) {\n    root._bokeh_onload_callbacks.push(callback);\n    if (root._bokeh_is_loading > 0) {\n      console.log(\"Bokeh: BokehJS is being loaded, scheduling callback at\", now());\n      return null;\n    }\n    if (js_urls == null || js_urls.length === 0) {\n      run_callbacks();\n      return null;\n    }\n    console.log(\"Bokeh: BokehJS not loaded, scheduling load and callback at\", now());\n    root._bokeh_is_loading = js_urls.length;\n    for (var i = 0; i < js_urls.length; i++) {\n      var url = js_urls[i];\n      var s = document.createElement('script');\n      s.src = url;\n      s.async = false;\n      s.onreadystatechange = s.onload = function() {\n        root._bokeh_is_loading--;\n        if (root._bokeh_is_loading === 0) {\n          console.log(\"Bokeh: all BokehJS libraries loaded\");\n          run_callbacks()\n        }\n      };\n      s.onerror = function() {\n        console.warn(\"failed to load library \" + url);\n      };\n      console.log(\"Bokeh: injecting script tag for BokehJS library: \", url);\n      document.getElementsByTagName(\"head\")[0].appendChild(s);\n    }\n  };var element = document.getElementById(\"a569bfe4-8bea-416d-bf28-f01f05c30656\");\n  if (element == null) {\n    console.log(\"Bokeh: ERROR: autoload.js configured with elementid 'a569bfe4-8bea-416d-bf28-f01f05c30656' but no matching script tag was found. \")\n    return false;\n  }\n\n  var js_urls = [\"https://cdn.pydata.org/bokeh/release/bokeh-0.12.16.min.js\", \"https://cdn.pydata.org/bokeh/release/bokeh-widgets-0.12.16.min.js\", \"https://cdn.pydata.org/bokeh/release/bokeh-tables-0.12.16.min.js\", \"https://cdn.pydata.org/bokeh/release/bokeh-gl-0.12.16.min.js\"];\n\n  var inline_js = [\n    function(Bokeh) {\n      Bokeh.set_log_level(\"info\");\n    },\n    \n    function(Bokeh) {\n      \n    },\n    function(Bokeh) {\n      console.log(\"Bokeh: injecting CSS: https://cdn.pydata.org/bokeh/release/bokeh-0.12.16.min.css\");\n      Bokeh.embed.inject_css(\"https://cdn.pydata.org/bokeh/release/bokeh-0.12.16.min.css\");\n      console.log(\"Bokeh: injecting CSS: https://cdn.pydata.org/bokeh/release/bokeh-widgets-0.12.16.min.css\");\n      Bokeh.embed.inject_css(\"https://cdn.pydata.org/bokeh/release/bokeh-widgets-0.12.16.min.css\");\n      console.log(\"Bokeh: injecting CSS: https://cdn.pydata.org/bokeh/release/bokeh-tables-0.12.16.min.css\");\n      Bokeh.embed.inject_css(\"https://cdn.pydata.org/bokeh/release/bokeh-tables-0.12.16.min.css\");\n    }\n  ];\n\n  function run_inline_js() {\n    \n    if ((root.Bokeh !== undefined) || (force === true)) {\n      for (var i = 0; i < inline_js.length; i++) {\n        inline_js[i].call(root, root.Bokeh);\n      }if (force === true) {\n        display_loaded();\n      }} else if (Date.now() < root._bokeh_timeout) {\n      setTimeout(run_inline_js, 100);\n    } else if (!root._bokeh_failed_load) {\n      console.log(\"Bokeh: BokehJS failed to load within specified timeout.\");\n      root._bokeh_failed_load = true;\n    } else if (force !== true) {\n      var cell = $(document.getElementById(\"a569bfe4-8bea-416d-bf28-f01f05c30656\")).parents('.cell').data().cell;\n      cell.output_area.append_execute_result(NB_LOAD_WARNING)\n    }\n\n  }\n\n  if (root._bokeh_is_loading === 0) {\n    console.log(\"Bokeh: BokehJS loaded, going straight to plotting\");\n    run_inline_js();\n  } else {\n    load_libs(js_urls, function() {\n      console.log(\"Bokeh: BokehJS plotting callback run at\", now());\n      run_inline_js();\n    });\n  }\n}(window));"
     },
     "metadata": {},
     "output_type": "display_data"
    }
   ],
   "source": [
    "output_notebook()"
   ]
  },
  {
   "cell_type": "code",
   "execution_count": 8,
   "metadata": {
    "collapsed": true
   },
   "outputs": [],
   "source": [
    "def fmt_cool(ds_in):\n",
    "    ds = ds_in.copy(deep=True)\n",
    "    if 'igg' in ds.dims:\n",
    "        ds = ds.sel(igg=1)\n",
    "\n",
    "    if 'g' in ds.dims:\n",
    "        ds = ds.sum('g')\n",
    "            \n",
    "    if 'band' in ds.dims:\n",
    "        try:\n",
    "            ds = ds.squeeze('band')\n",
    "        except ValueError:\n",
    "            ds = ds.sum('band')\n",
    "                \n",
    "    return ds['coolrg']\n",
    "\n",
    "\n",
    "def pltdata_cooling_1(ds_cool=None,\n",
    "                      ds_cool_crd=None, ds_cool_wgt=None):\n",
    "    \n",
    "\n",
    "\n",
    "    colors = all_palettes['Set1'][4]\n",
    "    data = [{'label': 'CLIRAD `coolr_bands`',\n",
    "             'srs': fmt_cool(ds_cool),\n",
    "             'line_dash': 'dashed', 'line_width': 5,\n",
    "             'color': colors[0], 'alpha': .6},\n",
    "            {'label': 'CRD',\n",
    "             'srs': fmt_cool(ds_cool_crd),\n",
    "             'line_dash': 'solid', 'line_width': 1.5,\n",
    "             'marker': 'circle', 'marker_size': 5,\n",
    "             'color': colors[2], 'alpha': 1,},\n",
    "            {'label': 'WGT igg=10 wgt_flux=2',\n",
    "             'srs': fmt_cool(ds_cool_wgt),\n",
    "             'line_dash': 'solid', 'line_width': 3,\n",
    "             'marker': 'square', 'marker_size': 5,\n",
    "             'color': colors[3], 'alpha': .6}]\n",
    "    return data\n",
    "\n",
    "\n",
    "def nice_xlims(pltdata=None, prange=None):\n",
    "    \n",
    "    def get_slice(srs):\n",
    "        return srs.sel(pressure=slice(*prange))\n",
    "    \n",
    "    srss = [d['srs'] for d in pltdata]\n",
    "    vmin = min([get_slice(srs).min() for srs in srss])\n",
    "    vmax = max([get_slice(srs).max() for srs in srss])\n",
    "    dv = (vmax - vmin) * .01\n",
    "    return float(vmin - dv), float(vmax + dv)\n",
    "    \n",
    "\n",
    "def plt_cooling_bokeh(pltdata=None):\n",
    "    '''\n",
    "    Plot a list of cooling rate profiles using bokeh.\n",
    "    '''\n",
    "    ymin = 1e-2 \n",
    "    ymax = 1020 \n",
    "        \n",
    "    p1 = figure(title=\"Linear pressure scale\", \n",
    "                plot_width=400)        \n",
    "    xmin, xmax = nice_xlims(pltdata, prange=(50, 1050))\n",
    "    for d in pltdata:\n",
    "        if 'marker' in d:\n",
    "            getattr(p1, d['marker'])(d['srs'].values, \n",
    "                    d['srs'].coords['pressure'].values,\n",
    "                    color=d['color'], alpha=.7)\n",
    "        p1.line(d['srs'].values, \n",
    "                d['srs'].coords['pressure'].values,\n",
    "                color=d['color'], alpha=d['alpha'], \n",
    "                line_width=d['line_width'], line_dash=d['line_dash'])\n",
    "    \n",
    "    p1.y_range = Range1d(ymax, ymin)\n",
    "    p1.yaxis.axis_label = 'pressure [mb]'   \n",
    "    p1.x_range = Range1d(xmin, xmax)\n",
    "    p1.xaxis.axis_label = 'cooling rate [K/day]'\n",
    "            \n",
    "    p2 = figure(title='Log pressure scale', y_axis_type='log',\n",
    "                plot_width=560)\n",
    "    xmin, xmax = nice_xlims(pltdata, prange=(.01, 200))\n",
    "    \n",
    "    rs = []\n",
    "    for d in pltdata:\n",
    "        rd = []\n",
    "        if 'marker' in d:\n",
    "            r_mark = getattr(p2, d['marker'])(d['srs'].values, \n",
    "                        d['srs'].coords['pressure'].values,\n",
    "                        color=d['color'], alpha=.7)\n",
    "            rd.append(r_mark)\n",
    "        r_line = p2.line(d['srs'].values, \n",
    "                    d['srs'].coords['pressure'].values,\n",
    "                    color=d['color'], alpha=d['alpha'], \n",
    "                    line_width=d['line_width'], line_dash=d['line_dash'])\n",
    "        rd.append(r_line)\n",
    "      \n",
    "        rs.append(rd)\n",
    "        \n",
    "    p2.y_range = Range1d(ymax, ymin)  \n",
    "    p2.yaxis.axis_label = 'pressure [mb]'\n",
    "    \n",
    "    p2.x_range = Range1d(xmin, xmax)\n",
    "    p2.xaxis.axis_label = 'cooling rate [K/day]'\n",
    "    \n",
    "    items = [(d['label'], r) for r, d in zip(rs, pltdata)]\n",
    "    legend = Legend(items=items, location=(10, -30))\n",
    "    legend.label_text_font_size = '8pt'\n",
    "    \n",
    "    p2.add_layout(legend, 'right')  \n",
    "    \n",
    "    show(gridplot(p1, p2, ncols=2, plot_height=500))\n",
    "    \n",
    "\n",
    "def script_plt_cooling():\n",
    "    pltdata = pltdata_cooling_1(\n",
    "        ds_cool=DS_COOL,\n",
    "        ds_cool_crd=DS_COOL_CRD,\n",
    "        ds_cool_wgt=DS_COOL_WGT)\n",
    "    plt_cooling_bokeh(pltdata=pltdata)\n",
    "    print('''FIGURE. Cooling rate profiles.''')"
   ]
  },
  {
   "cell_type": "code",
   "execution_count": 9,
   "metadata": {
    "collapsed": true
   },
   "outputs": [],
   "source": [
    "def fmt_flux(ds_in):\n",
    "    ds = ds_in.copy(deep=True)\n",
    "    \n",
    "    for l in ('level', 'layer'):\n",
    "        if l in ds.data_vars:\n",
    "            if len(ds[l].dims) > 1:\n",
    "                surface = {d: 0 for d in ds.dims if d != 'pressure'}\n",
    "                coord_level = ds[l][surface]\n",
    "                ds.coords[l] = ('pressure', coord_level)\n",
    "            else:\n",
    "                ds.coords[l] = ('pressure', ds[l])\n",
    "        \n",
    "    ds = ds.isel(pressure=[0, 23, -1])\n",
    "        \n",
    "    if 'igg' in ds.dims:\n",
    "        ds = ds.sel(igg=[1])\n",
    "        ds = ds.squeeze('igg').drop('igg')\n",
    "    \n",
    "    if 'g' in ds.dims:\n",
    "        ds = ds.sum('g')\n",
    "            \n",
    "    if 'band' in ds.dims:\n",
    "        try:\n",
    "            ds = ds.squeeze('band').drop('band')\n",
    "        except ValueError:\n",
    "            ds = ds.sum('band')\n",
    "                \n",
    "    df = ds.to_dataframe()\n",
    "    df = df.set_index('level', append=True)               \n",
    "    return df\n",
    "\n",
    "\n",
    "def tbdata_flux(ds_flux=None, ds_flux_crd=None, ds_flux_wgt=None):\n",
    "    ilevels = [0, 23, -1]\n",
    "            \n",
    "    benchmark = {'label': 'CRD',\n",
    "                 'df': fmt_flux(ds_flux_crd)}\n",
    "    \n",
    "    tbs = [{'label': 'WGT igg=10 wgt_flux=1',\n",
    "            'df': fmt_flux(ds_flux_wgt)},\n",
    "           {'label': 'CLIRAD',\n",
    "            'df': fmt_flux(ds_flux)}]\n",
    "    \n",
    "    data = {'benchmark': benchmark, 'others': tbs}\n",
    "    return data\n",
    "\n",
    "\n",
    "def tb_flux(tbdata=None):\n",
    "    benchmark = tbdata['benchmark']\n",
    "    others = tbdata['others']\n",
    "    \n",
    "    def show_tb(d=None):\n",
    "        display.display(d['df'])\n",
    "        print('Table.', 'Fluxes.', d['label'])\n",
    "        \n",
    "    def show_tbdiff(d0=None, d=None):\n",
    "        df = d['df']\n",
    "        df.index = d0['df'].index\n",
    "        display.display(df - d0['df'])\n",
    "        print('Table.', 'Fluxes.', \n",
    "              '({}) - ({})'.format(d['label'], d0['label']))\n",
    "        \n",
    "    show_tb(benchmark)\n",
    "    for d in others:\n",
    "        show_tb(d)\n",
    "        \n",
    "    for d in others:\n",
    "        show_tbdiff(d=d, d0=benchmark)\n",
    "        \n",
    "        \n",
    "def script_tb_flux():\n",
    "    data = tbdata_flux(ds_flux=DS_FLUX,\n",
    "                       ds_flux_crd=DS_FLUX_CRD,\n",
    "                       ds_flux_wgt=DS_FLUX_WGT)\n",
    "    tb_flux(tbdata=data)"
   ]
  },
  {
   "cell_type": "code",
   "execution_count": 10,
   "metadata": {
    "collapsed": true
   },
   "outputs": [],
   "source": [
    "def band_map():\n",
    "    '''\n",
    "    Maps spectral bands in lblnew to spectral bands in clirad.\n",
    "    '''\n",
    "    lblnew2clirad = {'1': '1',\n",
    "            '2': '2',\n",
    "            '3a': '3',\n",
    "            '3b': '4',\n",
    "            '3c': '5',\n",
    "            '4': '6', \n",
    "            '5': '7',\n",
    "            '6': '8',\n",
    "            '7': '9', \n",
    "            '8': '10',\n",
    "            '9': '11'}\n",
    "    \n",
    "    clirad2lblnew = {clirad: lblnew \n",
    "                     for lblnew, clirad in lblnew2clirad.items()}\n",
    "    return clirad2lblnew\n",
    "\n",
    "\n",
    "def gasbands():\n",
    "    bmap = band_map()\n",
    "    gases = list(PARAM['molecule'].keys())\n",
    "    \n",
    "    bands = [bmap[str(b)] for b in PARAM['band']]\n",
    "    return list(itertools.product(gases, bands))\n",
    "\n",
    "\n",
    "def print_bestfit_params():\n",
    "    print('Best-fit values for each (gas, band)')\n",
    "    print('------------------------------------')\n",
    "    for gas, band in gasbands():\n",
    "        print('o {} band{}'.format(gas, band))\n",
    "        param = bestfits.kdist_params(molecule=gas, band=band)\n",
    "        for name, value in sorted(param.items()):\n",
    "            print(2 * ' ' + '{} = {}'.format(name, value))\n",
    "\n",
    "        \n",
    "def print_input_param():        \n",
    "    for name, value in PARAM.items():\n",
    "        print('{} = {}'.format(name, value))\n",
    "        \n",
    "        \n",
    "def print_lblnew_param():\n",
    "    for name, value in sorted(PARAM_LBLNEW.items()):\n",
    "        print('{} = {}'.format(name, value))\n"
   ]
  },
  {
   "cell_type": "code",
   "execution_count": 11,
   "metadata": {
    "collapsed": true,
    "scrolled": false
   },
   "outputs": [],
   "source": [
    "def show_html(s):\n",
    "    display.display(display.HTML(s))\n",
    "\n",
    "    \n",
    "def show_markdown(s):\n",
    "    display.display(display.Markdown(s))\n",
    "\n",
    "    \n",
    "def script():\n",
    "    \n",
    "    title = '### CLIRAD-LW'\n",
    "    s_input = 'Input Parameters'\n",
    "    s_lblnew_param = 'LBLNEW case compaired against'\n",
    "    s_bestfits = 'Best-fit Parameters'\n",
    "    s_plt_cooling = 'Cooling Rate Profiles'\n",
    "    s_tb_flux = 'Flux Comparison'\n",
    "    \n",
    "    # title\n",
    "    show_markdown('### CLIRAD-LW')\n",
    "    \n",
    "    # TOC\n",
    "    show_markdown('### Table of Contents')\n",
    "    show_html(climahtml.getHTML_hrefanchor(s_input))\n",
    "    show_html(climahtml.getHTML_hrefanchor(s_lblnew_param))\n",
    "    show_html(climahtml.getHTML_hrefanchor(s_plt_cooling))\n",
    "    show_html(climahtml.getHTML_hrefanchor(s_tb_flux))\n",
    "    show_html(climahtml.getHTML_hrefanchor(s_bestfits))\n",
    "    \n",
    "    # Input parameters\n",
    "    show_html(climahtml.getHTML_idanchor(s_input))\n",
    "    show_markdown(climahtml.getMarkdown_sectitle(s_input))\n",
    "    print_input_param()\n",
    "    \n",
    "    # LBLNEW parameters \n",
    "    show_html(climahtml.getHTML_idanchor(s_lblnew_param))\n",
    "    show_markdown(climahtml.getMarkdown_sectitle(s_lblnew_param))\n",
    "    print_lblnew_param()\n",
    "    \n",
    "    # Cooling rate profiles\n",
    "    show_html(climahtml.getHTML_idanchor(s_plt_cooling))\n",
    "    show_markdown(climahtml.getMarkdown_sectitle(s_plt_cooling))\n",
    "    script_plt_cooling()\n",
    "    \n",
    "    # Flux comparison\n",
    "    show_html(climahtml.getHTML_idanchor(s_tb_flux))\n",
    "    show_markdown(climahtml.getMarkdown_sectitle(s_tb_flux))\n",
    "    script_tb_flux()\n",
    "    \n",
    "    # Best-fit values\n",
    "    show_html(climahtml.getHTML_idanchor(s_bestfits))\n",
    "    show_markdown(climahtml.getMarkdown_sectitle(s_bestfits))\n",
    "    print_bestfit_params()\n",
    "   \n",
    "    "
   ]
  },
  {
   "cell_type": "code",
   "execution_count": 12,
   "metadata": {
    "collapsed": true,
    "scrolled": false
   },
   "outputs": [
    {
     "data": {
      "text/markdown": [
       "### CLIRAD-LW"
      ],
      "text/plain": [
       "<IPython.core.display.Markdown object>"
      ]
     },
     "metadata": {},
     "output_type": "display_data"
    },
    {
     "data": {
      "text/markdown": [
       "### Table of Contents"
      ],
      "text/plain": [
       "<IPython.core.display.Markdown object>"
      ]
     },
     "metadata": {},
     "output_type": "display_data"
    },
    {
     "data": {
      "text/html": [
       "<a href=\"#Input_Parameters\">Input Parameters</a>"
      ],
      "text/plain": [
       "<IPython.core.display.HTML object>"
      ]
     },
     "metadata": {},
     "output_type": "display_data"
    },
    {
     "data": {
      "text/html": [
       "<a href=\"#LBLNEW_case_compaired_against\">LBLNEW case compaired against</a>"
      ],
      "text/plain": [
       "<IPython.core.display.HTML object>"
      ]
     },
     "metadata": {},
     "output_type": "display_data"
    },
    {
     "data": {
      "text/html": [
       "<a href=\"#Cooling_Rate_Profiles\">Cooling Rate Profiles</a>"
      ],
      "text/plain": [
       "<IPython.core.display.HTML object>"
      ]
     },
     "metadata": {},
     "output_type": "display_data"
    },
    {
     "data": {
      "text/html": [
       "<a href=\"#Flux_Comparison\">Flux Comparison</a>"
      ],
      "text/plain": [
       "<IPython.core.display.HTML object>"
      ]
     },
     "metadata": {},
     "output_type": "display_data"
    },
    {
     "data": {
      "text/html": [
       "<a href=\"#Best-fit_Parameters\">Best-fit Parameters</a>"
      ],
      "text/plain": [
       "<IPython.core.display.HTML object>"
      ]
     },
     "metadata": {},
     "output_type": "display_data"
    },
    {
     "data": {
      "text/html": [
       "<a id=\"Input_Parameters\"></a>"
      ],
      "text/plain": [
       "<IPython.core.display.HTML object>"
      ]
     },
     "metadata": {},
     "output_type": "display_data"
    },
    {
     "data": {
      "text/markdown": [
       "# Input Parameters"
      ],
      "text/plain": [
       "<IPython.core.display.Markdown object>"
      ]
     },
     "metadata": {},
     "output_type": "display_data"
    },
    {
     "name": "stdout",
     "output_type": "stream",
     "text": [
      "atmpro = saw\n",
      "band = [4]\n",
      "commitnumber = de5d43e\n",
      "molecule = {'h2o': 'atmpro'}\n",
      "tsfc = 257\n"
     ]
    },
    {
     "data": {
      "text/html": [
       "<a id=\"LBLNEW_case_compaired_against\"></a>"
      ],
      "text/plain": [
       "<IPython.core.display.HTML object>"
      ]
     },
     "metadata": {},
     "output_type": "display_data"
    },
    {
     "data": {
      "text/markdown": [
       "# LBLNEW case compaired against"
      ],
      "text/plain": [
       "<IPython.core.display.Markdown object>"
      ]
     },
     "metadata": {},
     "output_type": "display_data"
    },
    {
     "name": "stdout",
     "output_type": "stream",
     "text": [
      "atmpro = saw\n",
      "band = 3b\n",
      "commitnumber = 5014a19\n",
      "conc = None\n",
      "dv = 0.001\n",
      "klin = 1e-24\n",
      "molecule = h2o\n",
      "ng_adju = [0]\n",
      "ng_refs = [6]\n",
      "nv = 1000\n",
      "option_compute_btable = 0\n",
      "option_compute_ktable = 0\n",
      "option_wgt_flux = 1\n",
      "option_wgt_k = 1\n",
      "ref_pts = [(600, 250)]\n",
      "tsfc = 257\n",
      "vmax = 720\n",
      "vmin = 620\n",
      "w_diffuse = [(1.66, 1.66, 1.66, 1.55, 1.5, 1.66)]\n",
      "wgt = [(0.8, 0.8, 0.8, 0.6, 0.6, 0.9)]\n"
     ]
    },
    {
     "data": {
      "text/html": [
       "<a id=\"Cooling_Rate_Profiles\"></a>"
      ],
      "text/plain": [
       "<IPython.core.display.HTML object>"
      ]
     },
     "metadata": {},
     "output_type": "display_data"
    },
    {
     "data": {
      "text/markdown": [
       "# Cooling Rate Profiles"
      ],
      "text/plain": [
       "<IPython.core.display.Markdown object>"
      ]
     },
     "metadata": {},
     "output_type": "display_data"
    },
    {
     "data": {
      "text/html": [
       "\n",
       "<div class=\"bk-root\">\n",
       "    <div class=\"bk-plotdiv\" id=\"09fa569b-ab5f-4666-86c8-94345990e406\"></div>\n",
       "</div>"
      ]
     },
     "metadata": {},
     "output_type": "display_data"
    },
    {
     "data": {
      "application/javascript": [
       "(function(root) {\n",
       "  function embed_document(root) {\n",
       "    \n",
       "  var docs_json = {\"4403a60f-bb25-4034-ab3e-ecaa7d05aa9e\":{\"roots\":{\"references\":[{\"attributes\":{},\"id\":\"def4f234-f5fd-4be9-b29e-cebfbc0db6ad\",\"type\":\"UnionRenderers\"},{\"attributes\":{\"toolbar\":{\"id\":\"2a666054-7b98-4d18-adf2-1b09c6c6d17a\",\"type\":\"ProxyToolbar\"},\"toolbar_location\":\"above\"},\"id\":\"27f30fe3-5c5c-4f89-a70c-157df6f77f04\",\"type\":\"ToolbarBox\"},{\"attributes\":{},\"id\":\"6d7df7cc-2cb9-481b-be72-648fac533645\",\"type\":\"Selection\"},{\"attributes\":{\"line_alpha\":0.1,\"line_color\":\"#1f77b4\",\"line_width\":3,\"x\":{\"field\":\"x\"},\"y\":{\"field\":\"y\"}},\"id\":\"769c07a9-82be-4433-878f-74386cfe27b5\",\"type\":\"Line\"},{\"attributes\":{},\"id\":\"608e4182-f020-427a-b388-050b7dadc46d\",\"type\":\"UnionRenderers\"},{\"attributes\":{},\"id\":\"92ec5d0a-754c-4f7d-ac01-705a94726022\",\"type\":\"ResetTool\"},{\"attributes\":{},\"id\":\"753e2589-def4-43b4-b723-398fa41ee7de\",\"type\":\"Selection\"},{\"attributes\":{\"source\":{\"id\":\"3cfb917c-d44f-4ce3-b495-e4f8b769d32e\",\"type\":\"ColumnDataSource\"}},\"id\":\"451c5812-7b24-4e32-b441-34e8da2c2153\",\"type\":\"CDSView\"},{\"attributes\":{},\"id\":\"33246b6a-a1cd-43e4-b607-6a576349fdc7\",\"type\":\"UnionRenderers\"},{\"attributes\":{},\"id\":\"b1377edf-d3c7-473e-80bf-74532ced3f0d\",\"type\":\"Selection\"},{\"attributes\":{},\"id\":\"a28456b6-e57c-421c-b331-c34c5faeaf14\",\"type\":\"HelpTool\"},{\"attributes\":{},\"id\":\"7e7ada64-a899-47da-8516-79642f344d85\",\"type\":\"UnionRenderers\"},{\"attributes\":{\"children\":[{\"id\":\"27f30fe3-5c5c-4f89-a70c-157df6f77f04\",\"type\":\"ToolbarBox\"},{\"id\":\"b00c7978-7eba-447e-8dcc-291195232836\",\"type\":\"Column\"}]},\"id\":\"a60ed72b-d94e-4a2a-a2ff-5e34bc620101\",\"type\":\"Column\"},{\"attributes\":{\"axis_label\":\"pressure [mb]\",\"formatter\":{\"id\":\"b4a91970-2554-4c38-9db6-27fb9ee2eba2\",\"type\":\"LogTickFormatter\"},\"plot\":{\"id\":\"84eab9a8-c0e9-457b-908e-c266b8e4a09a\",\"subtype\":\"Figure\",\"type\":\"Plot\"},\"ticker\":{\"id\":\"5887bece-ec64-4941-9997-8cd797914a08\",\"type\":\"LogTicker\"}},\"id\":\"c7ac6a88-6194-4aa8-9bd5-d0c20ed7a940\",\"type\":\"LogAxis\"},{\"attributes\":{\"tools\":[{\"id\":\"9cd165c1-4801-41a7-ad4f-8834db6b175b\",\"type\":\"PanTool\"},{\"id\":\"6161db19-b62b-4d79-9bd3-077248837700\",\"type\":\"WheelZoomTool\"},{\"id\":\"19d514f6-35b5-4bc8-9e5e-1a535440774c\",\"type\":\"BoxZoomTool\"},{\"id\":\"66fef87a-7b8e-463d-a97b-999b0a57ed56\",\"type\":\"SaveTool\"},{\"id\":\"62aa672a-d5af-4051-a487-d4b47b97c809\",\"type\":\"ResetTool\"},{\"id\":\"ef54a15c-d64e-4189-96d2-6c0bd6cdc4d8\",\"type\":\"HelpTool\"},{\"id\":\"5976a125-6020-4dd3-8ebe-29a52b3b6e78\",\"type\":\"PanTool\"},{\"id\":\"5ba98080-5dfb-4875-bce2-872530d3f4d5\",\"type\":\"WheelZoomTool\"},{\"id\":\"4738177b-3758-4de3-845a-c2e599704fe7\",\"type\":\"BoxZoomTool\"},{\"id\":\"2f98b4c3-f23c-41d8-a772-d6523854247a\",\"type\":\"SaveTool\"},{\"id\":\"92ec5d0a-754c-4f7d-ac01-705a94726022\",\"type\":\"ResetTool\"},{\"id\":\"a28456b6-e57c-421c-b331-c34c5faeaf14\",\"type\":\"HelpTool\"}]},\"id\":\"2a666054-7b98-4d18-adf2-1b09c6c6d17a\",\"type\":\"ProxyToolbar\"},{\"attributes\":{\"items\":[{\"id\":\"2c9a343d-d601-4186-9dd6-64edc4f2e988\",\"type\":\"LegendItem\"},{\"id\":\"97d2febf-b2dd-41a1-899f-95340273ac77\",\"type\":\"LegendItem\"},{\"id\":\"5204421c-7f19-4bad-b459-a62569eaf142\",\"type\":\"LegendItem\"}],\"label_text_font_size\":{\"value\":\"8pt\"},\"location\":[10,-30],\"plot\":{\"id\":\"84eab9a8-c0e9-457b-908e-c266b8e4a09a\",\"subtype\":\"Figure\",\"type\":\"Plot\"}},\"id\":\"7deca782-7071-421e-932c-3b71da77e18a\",\"type\":\"Legend\"},{\"attributes\":{\"fill_alpha\":{\"value\":0.1},\"fill_color\":{\"value\":\"#1f77b4\"},\"line_alpha\":{\"value\":0.1},\"line_color\":{\"value\":\"#1f77b4\"},\"x\":{\"field\":\"x\"},\"y\":{\"field\":\"y\"}},\"id\":\"9cea7bb6-3f24-4884-9d24-9f8aad4c5270\",\"type\":\"Square\"},{\"attributes\":{\"children\":[{\"id\":\"789c524d-8f4a-4ab8-affd-10d0c0672ed2\",\"type\":\"Row\"}]},\"id\":\"b00c7978-7eba-447e-8dcc-291195232836\",\"type\":\"Column\"},{\"attributes\":{},\"id\":\"e192103a-5af6-4cd4-9a0a-d9ad405b7ffa\",\"type\":\"LinearScale\"},{\"attributes\":{},\"id\":\"5976a125-6020-4dd3-8ebe-29a52b3b6e78\",\"type\":\"PanTool\"},{\"attributes\":{\"plot\":{\"id\":\"84eab9a8-c0e9-457b-908e-c266b8e4a09a\",\"subtype\":\"Figure\",\"type\":\"Plot\"},\"ticker\":{\"id\":\"374237d5-d5ae-4ba4-90c8-7fc4b72faa82\",\"type\":\"BasicTicker\"}},\"id\":\"d7ca830a-9b41-4e18-8acc-4b3cc6432c19\",\"type\":\"Grid\"},{\"attributes\":{\"plot\":null,\"text\":\"Log pressure scale\"},\"id\":\"07312250-7616-4748-837b-0b6c4b2c7ea0\",\"type\":\"Title\"},{\"attributes\":{\"data_source\":{\"id\":\"3cfb917c-d44f-4ce3-b495-e4f8b769d32e\",\"type\":\"ColumnDataSource\"},\"glyph\":{\"id\":\"b10d4146-0735-4587-af94-78db10fb271a\",\"type\":\"Line\"},\"hover_glyph\":null,\"muted_glyph\":null,\"nonselection_glyph\":{\"id\":\"769c07a9-82be-4433-878f-74386cfe27b5\",\"type\":\"Line\"},\"selection_glyph\":null,\"view\":{\"id\":\"451c5812-7b24-4e32-b441-34e8da2c2153\",\"type\":\"CDSView\"}},\"id\":\"1cccb206-6fe4-47c7-be7d-8d7b3717c4a7\",\"type\":\"GlyphRenderer\"},{\"attributes\":{\"source\":{\"id\":\"49d2dac9-917d-447d-802c-34b45a7e373c\",\"type\":\"ColumnDataSource\"}},\"id\":\"ae8771b8-fb57-4ce9-b952-2ebf42f8ea37\",\"type\":\"CDSView\"},{\"attributes\":{\"axis_label\":\"cooling rate [K/day]\",\"formatter\":{\"id\":\"d57a0f56-42af-4f6a-b608-e324d59b4815\",\"type\":\"BasicTickFormatter\"},\"plot\":{\"id\":\"84eab9a8-c0e9-457b-908e-c266b8e4a09a\",\"subtype\":\"Figure\",\"type\":\"Plot\"},\"ticker\":{\"id\":\"374237d5-d5ae-4ba4-90c8-7fc4b72faa82\",\"type\":\"BasicTicker\"}},\"id\":\"6ee5aa4a-fedf-4e0a-aa22-4ea5a0d9a237\",\"type\":\"LinearAxis\"},{\"attributes\":{\"line_alpha\":0.6,\"line_color\":\"#e41a1c\",\"line_dash\":[6],\"line_width\":5,\"x\":{\"field\":\"x\"},\"y\":{\"field\":\"y\"}},\"id\":\"129186fd-c412-4cfb-9170-bcdff70ff1f2\",\"type\":\"Line\"},{\"attributes\":{\"overlay\":{\"id\":\"d65487f5-8e08-4b59-b0fa-83d12049f87b\",\"type\":\"BoxAnnotation\"}},\"id\":\"4738177b-3758-4de3-845a-c2e599704fe7\",\"type\":\"BoxZoomTool\"},{\"attributes\":{\"line_alpha\":0.6,\"line_color\":\"#984ea3\",\"line_width\":3,\"x\":{\"field\":\"x\"},\"y\":{\"field\":\"y\"}},\"id\":\"b10d4146-0735-4587-af94-78db10fb271a\",\"type\":\"Line\"},{\"attributes\":{\"active_drag\":\"auto\",\"active_inspect\":\"auto\",\"active_scroll\":\"auto\",\"active_tap\":\"auto\",\"tools\":[{\"id\":\"5976a125-6020-4dd3-8ebe-29a52b3b6e78\",\"type\":\"PanTool\"},{\"id\":\"5ba98080-5dfb-4875-bce2-872530d3f4d5\",\"type\":\"WheelZoomTool\"},{\"id\":\"4738177b-3758-4de3-845a-c2e599704fe7\",\"type\":\"BoxZoomTool\"},{\"id\":\"2f98b4c3-f23c-41d8-a772-d6523854247a\",\"type\":\"SaveTool\"},{\"id\":\"92ec5d0a-754c-4f7d-ac01-705a94726022\",\"type\":\"ResetTool\"},{\"id\":\"a28456b6-e57c-421c-b331-c34c5faeaf14\",\"type\":\"HelpTool\"}]},\"id\":\"3816cbf1-4410-41d7-a639-c8c7fd4f72f6\",\"type\":\"Toolbar\"},{\"attributes\":{},\"id\":\"374237d5-d5ae-4ba4-90c8-7fc4b72faa82\",\"type\":\"BasicTicker\"},{\"attributes\":{\"line_alpha\":0.1,\"line_color\":\"#1f77b4\",\"line_dash\":[6],\"line_width\":5,\"x\":{\"field\":\"x\"},\"y\":{\"field\":\"y\"}},\"id\":\"2e210fe2-29d7-4e66-b694-1ffa0b88ea9f\",\"type\":\"Line\"},{\"attributes\":{\"data_source\":{\"id\":\"49d2dac9-917d-447d-802c-34b45a7e373c\",\"type\":\"ColumnDataSource\"},\"glyph\":{\"id\":\"1e287b29-b244-4f90-8ab4-e7992ff49c39\",\"type\":\"Square\"},\"hover_glyph\":null,\"muted_glyph\":null,\"nonselection_glyph\":{\"id\":\"9cea7bb6-3f24-4884-9d24-9f8aad4c5270\",\"type\":\"Square\"},\"selection_glyph\":null,\"view\":{\"id\":\"ae8771b8-fb57-4ce9-b952-2ebf42f8ea37\",\"type\":\"CDSView\"}},\"id\":\"b8085d7f-9a4d-4f6d-a408-21bd34674cbb\",\"type\":\"GlyphRenderer\"},{\"attributes\":{\"callback\":null,\"data\":{\"x\":{\"__ndarray__\":\"dIlwothtGb9LrsRra3RFvzLZZMVmjjM/WDI8ACbMOz/eGb3WmMRBP4YwJkUt/0U/uekfQtIMSz+NVHUVpn1QP8I/H3+Gy1M/0k6f9jp2Vz+bTlhBmItbPwv2JhgjEWA/tEZbmv2vYj8JjGT0xDhlP0fzN1ITTGc/MmFaqV49aT8njut/Ok5rP7UkjwHDdG0/RzIorViwbz8BAmnFDwNxP+Lq/2KWMnI/AoPYHFZmcT9glBM63g5sPwXE42QbJmU/Ceat2K1OXz9tEEIMqLpWPwYJzB4wGVA/VQsCNKhKRz8X5HnpjRtCPyKMIAUsPj0/spkdi2iZNz+dCGD2DU8zPwXOba8U/jE/5TD5y815Mz/E1ruZuxg2P81dkRnC7zg/PrWO6NrfOj8sOPcc62Y7P63XLeVdYkI/Jb9XabNJRz8wq1Jfv6xMP2FSl02gNFA/aWhS9tXWUT8ippMPcnxTP+luwrAIbVU//pirJlXJWj/4U9CdupNjPzCn6m8gXG0/YEzbAKp/ej9UAwLarLOHPz7Ex6bj0ZI/gHuwIik9mz/ksR2O2VKiPxhig/IvY6c/wolVdAWKrD83JnrPN9iwP0ovbPjWOrM/ef3pCcJKtT/HajzWYQy3PzRZUNZ3l7g/FADrinwLuj/Rax5NFnO7P7SfOak3vLw/fi3Y26DVvT+T3bNLp7e+P7f3BOSmYb8/QyuDrJ/lvz9E+zezhiDAP7qvFBPlHMA/t74f6Zl/vz9L8Su1Yqi9P8W/lQ3n8bo//ZdfXmQouD/bto/fUoO1P1uwHyUg7bI/\",\"dtype\":\"float64\",\"shape\":[75]},\"y\":{\"__ndarray__\":\"S/O/Q+51ND/Sv8nbtpRIP2vylNV0PVE/aTum7souWD/At0SJ8fVgPw3Iuahxymc/MSNhhJWvcD/bTfBN02d3P2zb5nxnaoA/CD5h5MAGhz8NmeH1TyaQP+zrCsc9p5Y/LbKd76fGnz/bLW5ISEmmPww9YvTcQq8/JV2OstnstT8Er5Y7M8G+P0c+r3jqkcU/5h99k6ZBzj88bCIzFzjVP4enV8oyxN0//yH99nXg5D8qOpLLf0jtP5kqGJXUifQ/c9cS8kHP/D+/DpwzojQEQIEmwoanVwxA4lgXt9HgE0BSSZ2AJuIbQAMJih9jjiNA5q4l5INuK0AwTKYKRj0zQNv5fmq8/DpAaCJseHrtQkB/+zpwzoxKQM3MzMzMeFJAZmZmZmZqWEAAAAAAAFxeQM3MzMzMJmJAmpmZmZkfZUBmZmZmZhhoQDMzMzMzEWtAAAAAAAAKbkBmZmZmZoFwQM3MzMzM/XFAMzMzMzN6c0CamZmZmfZ0QAAAAAAAc3ZAZmZmZmbvd0DNzMzMzGt5QDMzMzMz6HpAmpmZmZlkfEAAAAAAAOF9QGZmZmZmXX9AZmZmZuZsgECamZmZGSuBQM3MzMxM6YFAAAAAAICngkAzMzMzs2WDQGZmZmbmI4RAmpmZmRnihEDNzMzMTKCFQAAAAACAXoZAMzMzM7Mch0BmZmZm5tqHQJqZmZkZmYhAzczMzExXiUAAAAAAgBWKQDMzMzOz04pAZmZmZuaRi0CamZmZGVCMQM3MzMxMDo1AAAAAAIDMjUAzMzMzs4qOQGZmZmbmSI9A\",\"dtype\":\"float64\",\"shape\":[75]}},\"selected\":{\"id\":\"cd9fe68a-ca97-46bc-ac52-37cc57895ee6\",\"type\":\"Selection\"},\"selection_policy\":{\"id\":\"400a3736-c8ad-4302-a840-c6391ed11031\",\"type\":\"UnionRenderers\"}},\"id\":\"4c9a121f-a3e7-467e-bd9b-d49d927a4229\",\"type\":\"ColumnDataSource\"},{\"attributes\":{\"dimension\":1,\"plot\":{\"id\":\"84eab9a8-c0e9-457b-908e-c266b8e4a09a\",\"subtype\":\"Figure\",\"type\":\"Plot\"},\"ticker\":{\"id\":\"5887bece-ec64-4941-9997-8cd797914a08\",\"type\":\"LogTicker\"}},\"id\":\"922a3b36-311d-4d6e-aaa5-e33f72a33b39\",\"type\":\"Grid\"},{\"attributes\":{\"callback\":null,\"data\":{\"x\":{\"__ndarray__\":\"dIlwothtGb9LrsRra3RFvzLZZMVmjjM/WDI8ACbMOz/eGb3WmMRBP4YwJkUt/0U/uekfQtIMSz+NVHUVpn1QP8I/H3+Gy1M/0k6f9jp2Vz+bTlhBmItbPwv2JhgjEWA/tEZbmv2vYj8JjGT0xDhlP0fzN1ITTGc/MmFaqV49aT8njut/Ok5rP7UkjwHDdG0/RzIorViwbz8BAmnFDwNxP+Lq/2KWMnI/AoPYHFZmcT9glBM63g5sPwXE42QbJmU/Ceat2K1OXz9tEEIMqLpWPwYJzB4wGVA/VQsCNKhKRz8X5HnpjRtCPyKMIAUsPj0/spkdi2iZNz+dCGD2DU8zPwXOba8U/jE/5TD5y815Mz/E1ruZuxg2P81dkRnC7zg/PrWO6NrfOj8sOPcc62Y7P63XLeVdYkI/Jb9XabNJRz8wq1Jfv6xMP2FSl02gNFA/aWhS9tXWUT8ippMPcnxTP+luwrAIbVU//pirJlXJWj/4U9CdupNjPzCn6m8gXG0/YEzbAKp/ej9UAwLarLOHPz7Ex6bj0ZI/gHuwIik9mz/ksR2O2VKiPxhig/IvY6c/wolVdAWKrD83JnrPN9iwP0ovbPjWOrM/ef3pCcJKtT/HajzWYQy3PzRZUNZ3l7g/FADrinwLuj/Rax5NFnO7P7SfOak3vLw/fi3Y26DVvT+T3bNLp7e+P7f3BOSmYb8/QyuDrJ/lvz9E+zezhiDAP7qvFBPlHMA/t74f6Zl/vz9L8Su1Yqi9P8W/lQ3n8bo//ZdfXmQouD/bto/fUoO1P1uwHyUg7bI/\",\"dtype\":\"float64\",\"shape\":[75]},\"y\":{\"__ndarray__\":\"S/O/Q+51ND/Sv8nbtpRIP2vylNV0PVE/aTum7souWD/At0SJ8fVgPw3Iuahxymc/MSNhhJWvcD/bTfBN02d3P2zb5nxnaoA/CD5h5MAGhz8NmeH1TyaQP+zrCsc9p5Y/LbKd76fGnz/bLW5ISEmmPww9YvTcQq8/JV2OstnstT8Er5Y7M8G+P0c+r3jqkcU/5h99k6ZBzj88bCIzFzjVP4enV8oyxN0//yH99nXg5D8qOpLLf0jtP5kqGJXUifQ/c9cS8kHP/D+/DpwzojQEQIEmwoanVwxA4lgXt9HgE0BSSZ2AJuIbQAMJih9jjiNA5q4l5INuK0AwTKYKRj0zQNv5fmq8/DpAaCJseHrtQkB/+zpwzoxKQM3MzMzMeFJAZmZmZmZqWEAAAAAAAFxeQM3MzMzMJmJAmpmZmZkfZUBmZmZmZhhoQDMzMzMzEWtAAAAAAAAKbkBmZmZmZoFwQM3MzMzM/XFAMzMzMzN6c0CamZmZmfZ0QAAAAAAAc3ZAZmZmZmbvd0DNzMzMzGt5QDMzMzMz6HpAmpmZmZlkfEAAAAAAAOF9QGZmZmZmXX9AZmZmZuZsgECamZmZGSuBQM3MzMxM6YFAAAAAAICngkAzMzMzs2WDQGZmZmbmI4RAmpmZmRnihEDNzMzMTKCFQAAAAACAXoZAMzMzM7Mch0BmZmZm5tqHQJqZmZkZmYhAzczMzExXiUAAAAAAgBWKQDMzMzOz04pAZmZmZuaRi0CamZmZGVCMQM3MzMxMDo1AAAAAAIDMjUAzMzMzs4qOQGZmZmbmSI9A\",\"dtype\":\"float64\",\"shape\":[75]}},\"selected\":{\"id\":\"04f49c1f-7b8c-47c0-b111-da752c2f3d7b\",\"type\":\"Selection\"},\"selection_policy\":{\"id\":\"36a90376-5876-4216-9ea4-ef3b05267c3a\",\"type\":\"UnionRenderers\"}},\"id\":\"841f8687-36a9-4a8c-9b32-c2b39de799cc\",\"type\":\"ColumnDataSource\"},{\"attributes\":{\"callback\":null,\"data\":{\"x\":{\"__ndarray__\":\"9UlasRFANT/Mk/MFciU4P2k9JX4crT4/qHZ1FPQnQz8d5yj/To1HPyGlUTZkmEw/lxvAAGIuUT/IwAAMGXhUPxTSuWoQNVg/J1kilWRyXD84b27/IJ9gP15Afs4QVGM/zog+GMlcZj9Ld6Ir3VppPy+fuewz4Ws/gcFNZcI4bj/cufHTS1twP9KS8tTXr3E/NZKGMkkbcz80hns12Z50P8NBpZSTEXY/6RfzbNv1dD/HXwJ53ddwPwgJ9ufaZWk/8+idBYHdYj+oCeY394JbPwB9QhHvblM/TB22YXQ/TD8+WhDqDURGP5qczcxZ6UE/ZR4pA+BLPT99lKKDlSU4P0a3vA2BlzY/NPy2DLqAOD/8FaxjyDg7P4Edf43w6T0/qwAMU9CuPz9JV/ICzxBAP5KYo9y6nUU/EXb4vxs4Sz9hc/RLGJ1QP0wrPxWebFI/fbxisVfVUz+oxHKudDJVP8jhH9BL21Y/CFt4vpEhXD9JSWNKUKRkP9UjGuSgDm8/d3yVcTbZez8lvo+m1LuIP9f+pkd5kpM/stPbazk3nD9F27QTneiiP5rn5/ww/ac/0XAbmbU0rT8zU5CAszCxP2FIEqbTp7M/SBNJPWjttT9zU1/BDPS3PwKFhqA5wLk/xDw+/GxXuz/1pDxGMLy8P0bn/8xV8L0/AMqJFR/0vj8Sfm6WVMy/P15esqtxPsA/kaeIXCWHwD9Xb7mYIb3AP/5lyQsjwsA/pzYsynhqwD8c6bORzfy+P433F089NLw/L4aH4cxVuT9VxwJbRpy2P0n0EEFK7rM/\",\"dtype\":\"float64\",\"shape\":[75]},\"y\":{\"__ndarray__\":\"GhExyth1ND/Sv8nbtpRIP2vylNV0PVE/aTum7souWD/At0SJ8fVgPw3Iuahxymc/MSNhhJWvcD/bTfBN02d3P2zb5nxnaoA/CD5h5MAGhz8NmeH1TyaQP+zrCsc9p5Y/LbKd76fGnz/bLW5ISEmmPww9YvTcQq8/JV2OstnstT8Er5Y7M8G+P0c+r3jqkcU/5h99k6ZBzj88bCIzFzjVP4enV8oyxN0//yH99nXg5D8qOpLLf0jtP5kqGJXUifQ/c9cS8kHP/D+/DpwzojQEQIEmwoanVwxA4lgXt9HgE0BSSZ2AJuIbQAMJih9jjiNA5q4l5INuK0AwTKYKRj0zQNv5fmq8/DpAaCJseHrtQkB/+zpwzoxKQM3MzMzMeFJAZmZmZmZqWEAAAAAAAFxeQM3MzMzMJmJAmpmZmZkfZUBmZmZmZhhoQDMzMzMzEWtAAAAAAAAKbkBmZmZmZoFwQM3MzMzM/XFAMzMzMzN6c0CamZmZmfZ0QAAAAAAAc3ZAZmZmZmbvd0DNzMzMzGt5QDMzMzMz6HpAmpmZmZlkfEAAAAAAAOF9QGZmZmZmXX9AZmZmZuZsgECamZmZGSuBQM3MzMxM6YFAAAAAAICngkAzMzMzs2WDQGZmZmbmI4RAmpmZmRnihEDNzMzMTKCFQAAAAACAXoZAMzMzM7Mch0BmZmZm5tqHQJqZmZkZmYhAzczMzExXiUAAAAAAgBWKQDMzMzOz04pAZmZmZuaRi0CamZmZGVCMQM3MzMxMDo1AAAAAAIDMjUAzMzMzs4qOQGZmZmbmSI9A\",\"dtype\":\"float64\",\"shape\":[75]}},\"selected\":{\"id\":\"753e2589-def4-43b4-b723-398fa41ee7de\",\"type\":\"Selection\"},\"selection_policy\":{\"id\":\"33246b6a-a1cd-43e4-b607-6a576349fdc7\",\"type\":\"UnionRenderers\"}},\"id\":\"2cb00034-f63a-46a9-ab9d-bb03cf09d1f9\",\"type\":\"ColumnDataSource\"},{\"attributes\":{},\"id\":\"2f98b4c3-f23c-41d8-a772-d6523854247a\",\"type\":\"SaveTool\"},{\"attributes\":{\"callback\":null,\"end\":0.006536464413900001,\"start\":0.00021254459609999998},\"id\":\"935a4c45-475f-4ab7-a5c6-c6a9879dfebf\",\"type\":\"Range1d\"},{\"attributes\":{\"callback\":null,\"end\":0.01,\"start\":1020},\"id\":\"387b8216-e377-4b90-b107-a6182ee3bdaf\",\"type\":\"Range1d\"},{\"attributes\":{\"callback\":null,\"data\":{\"x\":{\"__ndarray__\":\"9UlasRFANT/Mk/MFciU4P2k9JX4crT4/qHZ1FPQnQz8d5yj/To1HPyGlUTZkmEw/lxvAAGIuUT/IwAAMGXhUPxTSuWoQNVg/J1kilWRyXD84b27/IJ9gP15Afs4QVGM/zog+GMlcZj9Ld6Ir3VppPy+fuewz4Ws/gcFNZcI4bj/cufHTS1twP9KS8tTXr3E/NZKGMkkbcz80hns12Z50P8NBpZSTEXY/6RfzbNv1dD/HXwJ53ddwPwgJ9ufaZWk/8+idBYHdYj+oCeY394JbPwB9QhHvblM/TB22YXQ/TD8+WhDqDURGP5qczcxZ6UE/ZR4pA+BLPT99lKKDlSU4P0a3vA2BlzY/NPy2DLqAOD/8FaxjyDg7P4Edf43w6T0/qwAMU9CuPz9JV/ICzxBAP5KYo9y6nUU/EXb4vxs4Sz9hc/RLGJ1QP0wrPxWebFI/fbxisVfVUz+oxHKudDJVP8jhH9BL21Y/CFt4vpEhXD9JSWNKUKRkP9UjGuSgDm8/d3yVcTbZez8lvo+m1LuIP9f+pkd5kpM/stPbazk3nD9F27QTneiiP5rn5/ww/ac/0XAbmbU0rT8zU5CAszCxP2FIEqbTp7M/SBNJPWjttT9zU1/BDPS3PwKFhqA5wLk/xDw+/GxXuz/1pDxGMLy8P0bn/8xV8L0/AMqJFR/0vj8Sfm6WVMy/P15esqtxPsA/kaeIXCWHwD9Xb7mYIb3AP/5lyQsjwsA/pzYsynhqwD8c6bORzfy+P433F089NLw/L4aH4cxVuT9VxwJbRpy2P0n0EEFK7rM/\",\"dtype\":\"float64\",\"shape\":[75]},\"y\":{\"__ndarray__\":\"GhExyth1ND/Sv8nbtpRIP2vylNV0PVE/aTum7souWD/At0SJ8fVgPw3Iuahxymc/MSNhhJWvcD/bTfBN02d3P2zb5nxnaoA/CD5h5MAGhz8NmeH1TyaQP+zrCsc9p5Y/LbKd76fGnz/bLW5ISEmmPww9YvTcQq8/JV2OstnstT8Er5Y7M8G+P0c+r3jqkcU/5h99k6ZBzj88bCIzFzjVP4enV8oyxN0//yH99nXg5D8qOpLLf0jtP5kqGJXUifQ/c9cS8kHP/D+/DpwzojQEQIEmwoanVwxA4lgXt9HgE0BSSZ2AJuIbQAMJih9jjiNA5q4l5INuK0AwTKYKRj0zQNv5fmq8/DpAaCJseHrtQkB/+zpwzoxKQM3MzMzMeFJAZmZmZmZqWEAAAAAAAFxeQM3MzMzMJmJAmpmZmZkfZUBmZmZmZhhoQDMzMzMzEWtAAAAAAAAKbkBmZmZmZoFwQM3MzMzM/XFAMzMzMzN6c0CamZmZmfZ0QAAAAAAAc3ZAZmZmZmbvd0DNzMzMzGt5QDMzMzMz6HpAmpmZmZlkfEAAAAAAAOF9QGZmZmZmXX9AZmZmZuZsgECamZmZGSuBQM3MzMxM6YFAAAAAAICngkAzMzMzs2WDQGZmZmbmI4RAmpmZmRnihEDNzMzMTKCFQAAAAACAXoZAMzMzM7Mch0BmZmZm5tqHQJqZmZkZmYhAzczMzExXiUAAAAAAgBWKQDMzMzOz04pAZmZmZuaRi0CamZmZGVCMQM3MzMxMDo1AAAAAAIDMjUAzMzMzs4qOQGZmZmbmSI9A\",\"dtype\":\"float64\",\"shape\":[75]}},\"selected\":{\"id\":\"403c0233-6bd3-4888-8b17-d03d59fc40a5\",\"type\":\"Selection\"},\"selection_policy\":{\"id\":\"98e45266-a822-4b4a-b857-92be12617193\",\"type\":\"UnionRenderers\"}},\"id\":\"3cfb917c-d44f-4ce3-b495-e4f8b769d32e\",\"type\":\"ColumnDataSource\"},{\"attributes\":{},\"id\":\"2d6acd58-0574-4150-ae9a-894ae4203b17\",\"type\":\"LogScale\"},{\"attributes\":{\"bottom_units\":\"screen\",\"fill_alpha\":{\"value\":0.5},\"fill_color\":{\"value\":\"lightgrey\"},\"left_units\":\"screen\",\"level\":\"overlay\",\"line_alpha\":{\"value\":1.0},\"line_color\":{\"value\":\"black\"},\"line_dash\":[4,4],\"line_width\":{\"value\":2},\"plot\":null,\"render_mode\":\"css\",\"right_units\":\"screen\",\"top_units\":\"screen\"},\"id\":\"d65487f5-8e08-4b59-b0fa-83d12049f87b\",\"type\":\"BoxAnnotation\"},{\"attributes\":{},\"id\":\"5ba98080-5dfb-4875-bce2-872530d3f4d5\",\"type\":\"WheelZoomTool\"},{\"attributes\":{\"num_minor_ticks\":10},\"id\":\"5887bece-ec64-4941-9997-8cd797914a08\",\"type\":\"LogTicker\"},{\"attributes\":{},\"id\":\"f154cc23-9b24-446b-a8f2-bc5b4e2ebec6\",\"type\":\"LinearScale\"},{\"attributes\":{\"callback\":null,\"data\":{\"x\":{\"__ndarray__\":\"kNl4WUHkOj/6DKbXy3g+P13EVJVpR0M/UEEj1TMCSD8cDPitB3NNPzoR0exZ11E/6RrhwVNnVT/AQgGyi3ZZP/1LjI0LE14/UgtHxmGmYT8NhuOGkppkP7to+dbP72c/D8So3rCqaz+Od7j2LU5vP5+7iGaKL3E/HNCsTsmXcj//ImVdtRF0P52Qi2Y0nXU/PJ15a7g+dz9KS0eqf/F4Pz9/sAT4hHo/Pa7tdD74eD/fvLsEVdJzP3JgJsxjbW0/MAIoGxZwZT8LzexxKoteP4RmQhD6MlU/B6TpmYoHTj/uyEWuPAVHP+wGr1pVdEI/JnQ9XCbDPT+CfzBBJHs4P2zQCJqIJjc/pyMICVKEOT+8e6ZANZQ8PzT6NFJmbz8/dnWiAsWpQD+zOiYPdttAPz4pHdKwiUY/HW6ioEI9TD+ex846bxNRPwDeDMQcx1I/JOJDD9ALVD9JSTKb3kZVPye+hFHjulY/gaxzibTfWz/nfpQ6BHNkP+R6vNEFvG4/AqdnWA2Eez/hhv5adVWIPx9QvB7aNJM/c4R0x063mz/s0YtC4Z+iPx/VobTmsKc/jS7r1TLfrD+jfDmawACxP8Udlbn+f7M/IOeixinftT88xk/C0BO4P1dzZ8PtEro/gviG43XUuz+FXTVL2VS9P+rvY9TOk74/QGWANDGXvz/ounS8lzXAPy+g/lC8jMA/Up4WDzHWwD8CsZVlwg7BP/aIJLw1F8E/mbQt8+vBwD+QoxikCam/P5d3k+cT3Lw/KJpJzJr1uT8w4T/5lTC3P6ykIglTeLQ/\",\"dtype\":\"float64\",\"shape\":[75]},\"y\":{\"__ndarray__\":\"GhExyth1ND/Sv8nbtpRIP2vylNV0PVE/aTum7souWD/At0SJ8fVgPw3Iuahxymc/MSNhhJWvcD/bTfBN02d3P2zb5nxnaoA/CD5h5MAGhz8NmeH1TyaQP+zrCsc9p5Y/LbKd76fGnz/bLW5ISEmmPww9YvTcQq8/JV2OstnstT8Er5Y7M8G+P0c+r3jqkcU/5h99k6ZBzj88bCIzFzjVP4enV8oyxN0//yH99nXg5D8qOpLLf0jtP5kqGJXUifQ/c9cS8kHP/D+/DpwzojQEQIEmwoanVwxA4lgXt9HgE0BSSZ2AJuIbQAMJih9jjiNA5q4l5INuK0AwTKYKRj0zQNv5fmq8/DpAaCJseHrtQkB/+zpwzoxKQM3MzMzMeFJAZmZmZmZqWEAAAAAAAFxeQM3MzMzMJmJAmpmZmZkfZUBmZmZmZhhoQDMzMzMzEWtAAAAAAAAKbkBmZmZmZoFwQM3MzMzM/XFAMzMzMzN6c0CamZmZmfZ0QAAAAAAAc3ZAZmZmZmbvd0DNzMzMzGt5QDMzMzMz6HpAmpmZmZlkfEAAAAAAAOF9QGZmZmZmXX9AZmZmZuZsgECamZmZGSuBQM3MzMxM6YFAAAAAAICngkAzMzMzs2WDQGZmZmbmI4RAmpmZmRnihEDNzMzMTKCFQAAAAACAXoZAMzMzM7Mch0BmZmZm5tqHQJqZmZkZmYhAzczMzExXiUAAAAAAgBWKQDMzMzOz04pAZmZmZuaRi0CamZmZGVCMQM3MzMxMDo1AAAAAAIDMjUAzMzMzs4qOQGZmZmbmSI9A\",\"dtype\":\"float64\",\"shape\":[75]}},\"selected\":{\"id\":\"6d7df7cc-2cb9-481b-be72-648fac533645\",\"type\":\"Selection\"},\"selection_policy\":{\"id\":\"608e4182-f020-427a-b388-050b7dadc46d\",\"type\":\"UnionRenderers\"}},\"id\":\"45740a0c-81fd-41b1-8d3e-beb673ee5f8c\",\"type\":\"ColumnDataSource\"},{\"attributes\":{\"data_source\":{\"id\":\"3a445c7e-022d-416a-a069-ede0d2efa21b\",\"type\":\"ColumnDataSource\"},\"glyph\":{\"id\":\"0682eb55-3410-455c-a057-e9f0499eac9e\",\"type\":\"Circle\"},\"hover_glyph\":null,\"muted_glyph\":null,\"nonselection_glyph\":{\"id\":\"c98e7d8d-f21a-4e35-ba0b-7a737c8b6e5c\",\"type\":\"Circle\"},\"selection_glyph\":null,\"view\":{\"id\":\"8875c121-bf4c-406e-8473-28981d7f94e8\",\"type\":\"CDSView\"}},\"id\":\"d5810bee-6a1a-4dcd-9389-1f124090c9e0\",\"type\":\"GlyphRenderer\"},{\"attributes\":{\"source\":{\"id\":\"69505966-8eef-4a48-af22-008a0d589bce\",\"type\":\"ColumnDataSource\"}},\"id\":\"6a28ac1f-2ce3-459a-96ba-5f250a11d4c2\",\"type\":\"CDSView\"},{\"attributes\":{\"fill_alpha\":{\"value\":0.1},\"fill_color\":{\"value\":\"#1f77b4\"},\"line_alpha\":{\"value\":0.1},\"line_color\":{\"value\":\"#1f77b4\"},\"x\":{\"field\":\"x\"},\"y\":{\"field\":\"y\"}},\"id\":\"e22ce818-4dcc-4c63-9e97-6e0d03648c6a\",\"type\":\"Square\"},{\"attributes\":{\"dimension\":1,\"plot\":{\"id\":\"8a55ad68-d9ad-4131-aa57-0dafd7191113\",\"subtype\":\"Figure\",\"type\":\"Plot\"},\"ticker\":{\"id\":\"81bba84a-119d-4a8e-8199-9bdb4a0b94d4\",\"type\":\"BasicTicker\"}},\"id\":\"17a88c01-ad51-4886-8d2b-279cfeeaa078\",\"type\":\"Grid\"},{\"attributes\":{\"data_source\":{\"id\":\"69505966-8eef-4a48-af22-008a0d589bce\",\"type\":\"ColumnDataSource\"},\"glyph\":{\"id\":\"1d6da495-7563-4392-b846-1523c2a03559\",\"type\":\"Square\"},\"hover_glyph\":null,\"muted_glyph\":null,\"nonselection_glyph\":{\"id\":\"e22ce818-4dcc-4c63-9e97-6e0d03648c6a\",\"type\":\"Square\"},\"selection_glyph\":null,\"view\":{\"id\":\"6a28ac1f-2ce3-459a-96ba-5f250a11d4c2\",\"type\":\"CDSView\"}},\"id\":\"12de649d-52af-4cb3-865f-c5091c06dcf4\",\"type\":\"GlyphRenderer\"},{\"attributes\":{\"below\":[{\"id\":\"6ee5aa4a-fedf-4e0a-aa22-4ea5a0d9a237\",\"type\":\"LinearAxis\"}],\"left\":[{\"id\":\"c7ac6a88-6194-4aa8-9bd5-d0c20ed7a940\",\"type\":\"LogAxis\"}],\"plot_height\":500,\"plot_width\":560,\"renderers\":[{\"id\":\"6ee5aa4a-fedf-4e0a-aa22-4ea5a0d9a237\",\"type\":\"LinearAxis\"},{\"id\":\"d7ca830a-9b41-4e18-8acc-4b3cc6432c19\",\"type\":\"Grid\"},{\"id\":\"c7ac6a88-6194-4aa8-9bd5-d0c20ed7a940\",\"type\":\"LogAxis\"},{\"id\":\"922a3b36-311d-4d6e-aaa5-e33f72a33b39\",\"type\":\"Grid\"},{\"id\":\"d65487f5-8e08-4b59-b0fa-83d12049f87b\",\"type\":\"BoxAnnotation\"},{\"id\":\"9bb3875b-8277-4543-b2d4-841a9343b327\",\"type\":\"GlyphRenderer\"},{\"id\":\"d5810bee-6a1a-4dcd-9389-1f124090c9e0\",\"type\":\"GlyphRenderer\"},{\"id\":\"924bc8d3-a69c-4d99-b196-f7a67e440adb\",\"type\":\"GlyphRenderer\"},{\"id\":\"b8085d7f-9a4d-4f6d-a408-21bd34674cbb\",\"type\":\"GlyphRenderer\"},{\"id\":\"7a76981e-9eaa-4c8f-8df7-e90dc389f4bb\",\"type\":\"GlyphRenderer\"},{\"id\":\"7deca782-7071-421e-932c-3b71da77e18a\",\"type\":\"Legend\"}],\"right\":[{\"id\":\"7deca782-7071-421e-932c-3b71da77e18a\",\"type\":\"Legend\"}],\"title\":{\"id\":\"07312250-7616-4748-837b-0b6c4b2c7ea0\",\"type\":\"Title\"},\"toolbar\":{\"id\":\"3816cbf1-4410-41d7-a639-c8c7fd4f72f6\",\"type\":\"Toolbar\"},\"toolbar_location\":null,\"x_range\":{\"id\":\"935a4c45-475f-4ab7-a5c6-c6a9879dfebf\",\"type\":\"Range1d\"},\"x_scale\":{\"id\":\"e192103a-5af6-4cd4-9a0a-d9ad405b7ffa\",\"type\":\"LinearScale\"},\"y_range\":{\"id\":\"387b8216-e377-4b90-b107-a6182ee3bdaf\",\"type\":\"Range1d\"},\"y_scale\":{\"id\":\"2d6acd58-0574-4150-ae9a-894ae4203b17\",\"type\":\"LogScale\"}},\"id\":\"84eab9a8-c0e9-457b-908e-c266b8e4a09a\",\"subtype\":\"Figure\",\"type\":\"Plot\"},{\"attributes\":{\"callback\":null,\"data\":{\"x\":{\"__ndarray__\":\"9UlasRFANT/Mk/MFciU4P2k9JX4crT4/qHZ1FPQnQz8d5yj/To1HPyGlUTZkmEw/lxvAAGIuUT/IwAAMGXhUPxTSuWoQNVg/J1kilWRyXD84b27/IJ9gP15Afs4QVGM/zog+GMlcZj9Ld6Ir3VppPy+fuewz4Ws/gcFNZcI4bj/cufHTS1twP9KS8tTXr3E/NZKGMkkbcz80hns12Z50P8NBpZSTEXY/6RfzbNv1dD/HXwJ53ddwPwgJ9ufaZWk/8+idBYHdYj+oCeY394JbPwB9QhHvblM/TB22YXQ/TD8+WhDqDURGP5qczcxZ6UE/ZR4pA+BLPT99lKKDlSU4P0a3vA2BlzY/NPy2DLqAOD/8FaxjyDg7P4Edf43w6T0/qwAMU9CuPz9JV/ICzxBAP5KYo9y6nUU/EXb4vxs4Sz9hc/RLGJ1QP0wrPxWebFI/fbxisVfVUz+oxHKudDJVP8jhH9BL21Y/CFt4vpEhXD9JSWNKUKRkP9UjGuSgDm8/d3yVcTbZez8lvo+m1LuIP9f+pkd5kpM/stPbazk3nD9F27QTneiiP5rn5/ww/ac/0XAbmbU0rT8zU5CAszCxP2FIEqbTp7M/SBNJPWjttT9zU1/BDPS3PwKFhqA5wLk/xDw+/GxXuz/1pDxGMLy8P0bn/8xV8L0/AMqJFR/0vj8Sfm6WVMy/P15esqtxPsA/kaeIXCWHwD9Xb7mYIb3AP/5lyQsjwsA/pzYsynhqwD8c6bORzfy+P433F089NLw/L4aH4cxVuT9VxwJbRpy2P0n0EEFK7rM/\",\"dtype\":\"float64\",\"shape\":[75]},\"y\":{\"__ndarray__\":\"GhExyth1ND/Sv8nbtpRIP2vylNV0PVE/aTum7souWD/At0SJ8fVgPw3Iuahxymc/MSNhhJWvcD/bTfBN02d3P2zb5nxnaoA/CD5h5MAGhz8NmeH1TyaQP+zrCsc9p5Y/LbKd76fGnz/bLW5ISEmmPww9YvTcQq8/JV2OstnstT8Er5Y7M8G+P0c+r3jqkcU/5h99k6ZBzj88bCIzFzjVP4enV8oyxN0//yH99nXg5D8qOpLLf0jtP5kqGJXUifQ/c9cS8kHP/D+/DpwzojQEQIEmwoanVwxA4lgXt9HgE0BSSZ2AJuIbQAMJih9jjiNA5q4l5INuK0AwTKYKRj0zQNv5fmq8/DpAaCJseHrtQkB/+zpwzoxKQM3MzMzMeFJAZmZmZmZqWEAAAAAAAFxeQM3MzMzMJmJAmpmZmZkfZUBmZmZmZhhoQDMzMzMzEWtAAAAAAAAKbkBmZmZmZoFwQM3MzMzM/XFAMzMzMzN6c0CamZmZmfZ0QAAAAAAAc3ZAZmZmZmbvd0DNzMzMzGt5QDMzMzMz6HpAmpmZmZlkfEAAAAAAAOF9QGZmZmZmXX9AZmZmZuZsgECamZmZGSuBQM3MzMxM6YFAAAAAAICngkAzMzMzs2WDQGZmZmbmI4RAmpmZmRnihEDNzMzMTKCFQAAAAACAXoZAMzMzM7Mch0BmZmZm5tqHQJqZmZkZmYhAzczMzExXiUAAAAAAgBWKQDMzMzOz04pAZmZmZuaRi0CamZmZGVCMQM3MzMxMDo1AAAAAAIDMjUAzMzMzs4qOQGZmZmbmSI9A\",\"dtype\":\"float64\",\"shape\":[75]}},\"selected\":{\"id\":\"2fc81c14-c004-4f3b-864b-408beb13d0d1\",\"type\":\"Selection\"},\"selection_policy\":{\"id\":\"eaca8e35-ee54-4440-ad11-8473670ecd15\",\"type\":\"UnionRenderers\"}},\"id\":\"69505966-8eef-4a48-af22-008a0d589bce\",\"type\":\"ColumnDataSource\"},{\"attributes\":{},\"id\":\"9cd165c1-4801-41a7-ad4f-8834db6b175b\",\"type\":\"PanTool\"},{\"attributes\":{\"below\":[{\"id\":\"759348ee-c82f-4e5e-81db-915f9fd89373\",\"type\":\"LinearAxis\"}],\"left\":[{\"id\":\"02203c7e-236a-42bf-b2fa-9620e4796797\",\"type\":\"LinearAxis\"}],\"plot_height\":500,\"plot_width\":400,\"renderers\":[{\"id\":\"759348ee-c82f-4e5e-81db-915f9fd89373\",\"type\":\"LinearAxis\"},{\"id\":\"830883ab-4760-4673-ad29-61924da7a4d0\",\"type\":\"Grid\"},{\"id\":\"02203c7e-236a-42bf-b2fa-9620e4796797\",\"type\":\"LinearAxis\"},{\"id\":\"17a88c01-ad51-4886-8d2b-279cfeeaa078\",\"type\":\"Grid\"},{\"id\":\"d28e909b-cc9b-48dd-845d-aabcd0ece6a7\",\"type\":\"BoxAnnotation\"},{\"id\":\"c61ab258-9765-4f64-a9c9-ea001a4ba2ad\",\"type\":\"GlyphRenderer\"},{\"id\":\"0d0b5860-8e8e-4f40-8fac-3467c66e63f9\",\"type\":\"GlyphRenderer\"},{\"id\":\"f7523a52-dea1-4ec9-8d68-2bf32f2fec4f\",\"type\":\"GlyphRenderer\"},{\"id\":\"12de649d-52af-4cb3-865f-c5091c06dcf4\",\"type\":\"GlyphRenderer\"},{\"id\":\"1cccb206-6fe4-47c7-be7d-8d7b3717c4a7\",\"type\":\"GlyphRenderer\"}],\"title\":{\"id\":\"0b422b7e-786a-4663-aa2b-f76c443734f9\",\"type\":\"Title\"},\"toolbar\":{\"id\":\"98959c10-1fdf-4cff-80e3-14ab14dae9ee\",\"type\":\"Toolbar\"},\"toolbar_location\":null,\"x_range\":{\"id\":\"dfea8701-8b03-461f-aab4-ae75756047f7\",\"type\":\"Range1d\"},\"x_scale\":{\"id\":\"f932bcbc-11a6-4e36-92bb-7696ee54c196\",\"type\":\"LinearScale\"},\"y_range\":{\"id\":\"d165548b-c677-4e82-b76a-141dc357ddf6\",\"type\":\"Range1d\"},\"y_scale\":{\"id\":\"f154cc23-9b24-446b-a8f2-bc5b4e2ebec6\",\"type\":\"LinearScale\"}},\"id\":\"8a55ad68-d9ad-4131-aa57-0dafd7191113\",\"subtype\":\"Figure\",\"type\":\"Plot\"},{\"attributes\":{\"line_alpha\":0.1,\"line_color\":\"#1f77b4\",\"line_width\":3,\"x\":{\"field\":\"x\"},\"y\":{\"field\":\"y\"}},\"id\":\"0eea935d-09c4-4705-95ed-371949c67b8b\",\"type\":\"Line\"},{\"attributes\":{\"callback\":null,\"end\":0.01,\"start\":1020},\"id\":\"d165548b-c677-4e82-b76a-141dc357ddf6\",\"type\":\"Range1d\"},{\"attributes\":{\"callback\":null,\"data\":{\"x\":{\"__ndarray__\":\"9UlasRFANT/Mk/MFciU4P2k9JX4crT4/qHZ1FPQnQz8d5yj/To1HPyGlUTZkmEw/lxvAAGIuUT/IwAAMGXhUPxTSuWoQNVg/J1kilWRyXD84b27/IJ9gP15Afs4QVGM/zog+GMlcZj9Ld6Ir3VppPy+fuewz4Ws/gcFNZcI4bj/cufHTS1twP9KS8tTXr3E/NZKGMkkbcz80hns12Z50P8NBpZSTEXY/6RfzbNv1dD/HXwJ53ddwPwgJ9ufaZWk/8+idBYHdYj+oCeY394JbPwB9QhHvblM/TB22YXQ/TD8+WhDqDURGP5qczcxZ6UE/ZR4pA+BLPT99lKKDlSU4P0a3vA2BlzY/NPy2DLqAOD/8FaxjyDg7P4Edf43w6T0/qwAMU9CuPz9JV/ICzxBAP5KYo9y6nUU/EXb4vxs4Sz9hc/RLGJ1QP0wrPxWebFI/fbxisVfVUz+oxHKudDJVP8jhH9BL21Y/CFt4vpEhXD9JSWNKUKRkP9UjGuSgDm8/d3yVcTbZez8lvo+m1LuIP9f+pkd5kpM/stPbazk3nD9F27QTneiiP5rn5/ww/ac/0XAbmbU0rT8zU5CAszCxP2FIEqbTp7M/SBNJPWjttT9zU1/BDPS3PwKFhqA5wLk/xDw+/GxXuz/1pDxGMLy8P0bn/8xV8L0/AMqJFR/0vj8Sfm6WVMy/P15esqtxPsA/kaeIXCWHwD9Xb7mYIb3AP/5lyQsjwsA/pzYsynhqwD8c6bORzfy+P433F089NLw/L4aH4cxVuT9VxwJbRpy2P0n0EEFK7rM/\",\"dtype\":\"float64\",\"shape\":[75]},\"y\":{\"__ndarray__\":\"GhExyth1ND/Sv8nbtpRIP2vylNV0PVE/aTum7souWD/At0SJ8fVgPw3Iuahxymc/MSNhhJWvcD/bTfBN02d3P2zb5nxnaoA/CD5h5MAGhz8NmeH1TyaQP+zrCsc9p5Y/LbKd76fGnz/bLW5ISEmmPww9YvTcQq8/JV2OstnstT8Er5Y7M8G+P0c+r3jqkcU/5h99k6ZBzj88bCIzFzjVP4enV8oyxN0//yH99nXg5D8qOpLLf0jtP5kqGJXUifQ/c9cS8kHP/D+/DpwzojQEQIEmwoanVwxA4lgXt9HgE0BSSZ2AJuIbQAMJih9jjiNA5q4l5INuK0AwTKYKRj0zQNv5fmq8/DpAaCJseHrtQkB/+zpwzoxKQM3MzMzMeFJAZmZmZmZqWEAAAAAAAFxeQM3MzMzMJmJAmpmZmZkfZUBmZmZmZhhoQDMzMzMzEWtAAAAAAAAKbkBmZmZmZoFwQM3MzMzM/XFAMzMzMzN6c0CamZmZmfZ0QAAAAAAAc3ZAZmZmZmbvd0DNzMzMzGt5QDMzMzMz6HpAmpmZmZlkfEAAAAAAAOF9QGZmZmZmXX9AZmZmZuZsgECamZmZGSuBQM3MzMxM6YFAAAAAAICngkAzMzMzs2WDQGZmZmbmI4RAmpmZmRnihEDNzMzMTKCFQAAAAACAXoZAMzMzM7Mch0BmZmZm5tqHQJqZmZkZmYhAzczMzExXiUAAAAAAgBWKQDMzMzOz04pAZmZmZuaRi0CamZmZGVCMQM3MzMxMDo1AAAAAAIDMjUAzMzMzs4qOQGZmZmbmSI9A\",\"dtype\":\"float64\",\"shape\":[75]}},\"selected\":{\"id\":\"b1377edf-d3c7-473e-80bf-74532ced3f0d\",\"type\":\"Selection\"},\"selection_policy\":{\"id\":\"7e7ada64-a899-47da-8516-79642f344d85\",\"type\":\"UnionRenderers\"}},\"id\":\"49d2dac9-917d-447d-802c-34b45a7e373c\",\"type\":\"ColumnDataSource\"},{\"attributes\":{\"data_source\":{\"id\":\"841f8687-36a9-4a8c-9b32-c2b39de799cc\",\"type\":\"ColumnDataSource\"},\"glyph\":{\"id\":\"129186fd-c412-4cfb-9170-bcdff70ff1f2\",\"type\":\"Line\"},\"hover_glyph\":null,\"muted_glyph\":null,\"nonselection_glyph\":{\"id\":\"2e210fe2-29d7-4e66-b694-1ffa0b88ea9f\",\"type\":\"Line\"},\"selection_glyph\":null,\"view\":{\"id\":\"aeb100a6-2bc1-4bd6-8a25-faa5b2984091\",\"type\":\"CDSView\"}},\"id\":\"9bb3875b-8277-4543-b2d4-841a9343b327\",\"type\":\"GlyphRenderer\"},{\"attributes\":{\"plot\":{\"id\":\"8a55ad68-d9ad-4131-aa57-0dafd7191113\",\"subtype\":\"Figure\",\"type\":\"Plot\"},\"ticker\":{\"id\":\"d2348f95-b256-4378-9270-8a85110379a9\",\"type\":\"BasicTicker\"}},\"id\":\"830883ab-4760-4673-ad29-61924da7a4d0\",\"type\":\"Grid\"},{\"attributes\":{},\"id\":\"81bba84a-119d-4a8e-8199-9bdb4a0b94d4\",\"type\":\"BasicTicker\"},{\"attributes\":{\"line_color\":\"#4daf4a\",\"line_width\":1.5,\"x\":{\"field\":\"x\"},\"y\":{\"field\":\"y\"}},\"id\":\"1180fcd0-7e05-4d97-a729-2c951bf8622a\",\"type\":\"Line\"},{\"attributes\":{\"line_color\":\"#4daf4a\",\"line_width\":1.5,\"x\":{\"field\":\"x\"},\"y\":{\"field\":\"y\"}},\"id\":\"0cfe641d-02c1-4803-b605-f606a9e046dc\",\"type\":\"Line\"},{\"attributes\":{\"plot\":null,\"text\":\"Linear pressure scale\"},\"id\":\"0b422b7e-786a-4663-aa2b-f76c443734f9\",\"type\":\"Title\"},{\"attributes\":{\"callback\":null,\"data\":{\"x\":{\"__ndarray__\":\"kNl4WUHkOj/6DKbXy3g+P13EVJVpR0M/UEEj1TMCSD8cDPitB3NNPzoR0exZ11E/6RrhwVNnVT/AQgGyi3ZZP/1LjI0LE14/UgtHxmGmYT8NhuOGkppkP7to+dbP72c/D8So3rCqaz+Od7j2LU5vP5+7iGaKL3E/HNCsTsmXcj//ImVdtRF0P52Qi2Y0nXU/PJ15a7g+dz9KS0eqf/F4Pz9/sAT4hHo/Pa7tdD74eD/fvLsEVdJzP3JgJsxjbW0/MAIoGxZwZT8LzexxKoteP4RmQhD6MlU/B6TpmYoHTj/uyEWuPAVHP+wGr1pVdEI/JnQ9XCbDPT+CfzBBJHs4P2zQCJqIJjc/pyMICVKEOT+8e6ZANZQ8PzT6NFJmbz8/dnWiAsWpQD+zOiYPdttAPz4pHdKwiUY/HW6ioEI9TD+ex846bxNRPwDeDMQcx1I/JOJDD9ALVD9JSTKb3kZVPye+hFHjulY/gaxzibTfWz/nfpQ6BHNkP+R6vNEFvG4/AqdnWA2Eez/hhv5adVWIPx9QvB7aNJM/c4R0x063mz/s0YtC4Z+iPx/VobTmsKc/jS7r1TLfrD+jfDmawACxP8Udlbn+f7M/IOeixinftT88xk/C0BO4P1dzZ8PtEro/gviG43XUuz+FXTVL2VS9P+rvY9TOk74/QGWANDGXvz/ounS8lzXAPy+g/lC8jMA/Up4WDzHWwD8CsZVlwg7BP/aIJLw1F8E/mbQt8+vBwD+QoxikCam/P5d3k+cT3Lw/KJpJzJr1uT8w4T/5lTC3P6ykIglTeLQ/\",\"dtype\":\"float64\",\"shape\":[75]},\"y\":{\"__ndarray__\":\"GhExyth1ND/Sv8nbtpRIP2vylNV0PVE/aTum7souWD/At0SJ8fVgPw3Iuahxymc/MSNhhJWvcD/bTfBN02d3P2zb5nxnaoA/CD5h5MAGhz8NmeH1TyaQP+zrCsc9p5Y/LbKd76fGnz/bLW5ISEmmPww9YvTcQq8/JV2OstnstT8Er5Y7M8G+P0c+r3jqkcU/5h99k6ZBzj88bCIzFzjVP4enV8oyxN0//yH99nXg5D8qOpLLf0jtP5kqGJXUifQ/c9cS8kHP/D+/DpwzojQEQIEmwoanVwxA4lgXt9HgE0BSSZ2AJuIbQAMJih9jjiNA5q4l5INuK0AwTKYKRj0zQNv5fmq8/DpAaCJseHrtQkB/+zpwzoxKQM3MzMzMeFJAZmZmZmZqWEAAAAAAAFxeQM3MzMzMJmJAmpmZmZkfZUBmZmZmZhhoQDMzMzMzEWtAAAAAAAAKbkBmZmZmZoFwQM3MzMzM/XFAMzMzMzN6c0CamZmZmfZ0QAAAAAAAc3ZAZmZmZmbvd0DNzMzMzGt5QDMzMzMz6HpAmpmZmZlkfEAAAAAAAOF9QGZmZmZmXX9AZmZmZuZsgECamZmZGSuBQM3MzMxM6YFAAAAAAICngkAzMzMzs2WDQGZmZmbmI4RAmpmZmRnihEDNzMzMTKCFQAAAAACAXoZAMzMzM7Mch0BmZmZm5tqHQJqZmZkZmYhAzczMzExXiUAAAAAAgBWKQDMzMzOz04pAZmZmZuaRi0CamZmZGVCMQM3MzMxMDo1AAAAAAIDMjUAzMzMzs4qOQGZmZmbmSI9A\",\"dtype\":\"float64\",\"shape\":[75]}},\"selected\":{\"id\":\"9d114389-d1df-4534-ac75-db4c012b2a37\",\"type\":\"Selection\"},\"selection_policy\":{\"id\":\"def4f234-f5fd-4be9-b29e-cebfbc0db6ad\",\"type\":\"UnionRenderers\"}},\"id\":\"3a445c7e-022d-416a-a069-ede0d2efa21b\",\"type\":\"ColumnDataSource\"},{\"attributes\":{},\"id\":\"f932bcbc-11a6-4e36-92bb-7696ee54c196\",\"type\":\"LinearScale\"},{\"attributes\":{\"line_alpha\":0.1,\"line_color\":\"#1f77b4\",\"line_width\":1.5,\"x\":{\"field\":\"x\"},\"y\":{\"field\":\"y\"}},\"id\":\"dadb1062-e8bf-4b92-b7f1-f14d19c1e89c\",\"type\":\"Line\"},{\"attributes\":{\"data_source\":{\"id\":\"54d1a991-74c6-495b-a660-06ba67696cca\",\"type\":\"ColumnDataSource\"},\"glyph\":{\"id\":\"5b4a3b36-4bb7-47eb-9c7d-9b707a74c8a0\",\"type\":\"Circle\"},\"hover_glyph\":null,\"muted_glyph\":null,\"nonselection_glyph\":{\"id\":\"f2d61733-6d94-451e-a23e-36fa71c0b3e1\",\"type\":\"Circle\"},\"selection_glyph\":null,\"view\":{\"id\":\"ddc213d5-ee3e-4f13-be05-c819056094c4\",\"type\":\"CDSView\"}},\"id\":\"0d0b5860-8e8e-4f40-8fac-3467c66e63f9\",\"type\":\"GlyphRenderer\"},{\"attributes\":{\"line_alpha\":0.1,\"line_color\":\"#1f77b4\",\"line_dash\":[6],\"line_width\":5,\"x\":{\"field\":\"x\"},\"y\":{\"field\":\"y\"}},\"id\":\"1fd64ce4-2bec-428d-92d9-9767531e5187\",\"type\":\"Line\"},{\"attributes\":{\"source\":{\"id\":\"4c9a121f-a3e7-467e-bd9b-d49d927a4229\",\"type\":\"ColumnDataSource\"}},\"id\":\"e6a64fd0-1427-4a90-b110-515771b259e1\",\"type\":\"CDSView\"},{\"attributes\":{\"axis_label\":\"pressure [mb]\",\"formatter\":{\"id\":\"d6091d09-e6ce-48e8-a44b-5713e37f2923\",\"type\":\"BasicTickFormatter\"},\"plot\":{\"id\":\"8a55ad68-d9ad-4131-aa57-0dafd7191113\",\"subtype\":\"Figure\",\"type\":\"Plot\"},\"ticker\":{\"id\":\"81bba84a-119d-4a8e-8199-9bdb4a0b94d4\",\"type\":\"BasicTicker\"}},\"id\":\"02203c7e-236a-42bf-b2fa-9620e4796797\",\"type\":\"LinearAxis\"},{\"attributes\":{\"fill_alpha\":{\"value\":0.7},\"fill_color\":{\"value\":\"#4daf4a\"},\"line_alpha\":{\"value\":0.7},\"line_color\":{\"value\":\"#4daf4a\"},\"x\":{\"field\":\"x\"},\"y\":{\"field\":\"y\"}},\"id\":\"0682eb55-3410-455c-a057-e9f0499eac9e\",\"type\":\"Circle\"},{\"attributes\":{\"data_source\":{\"id\":\"073543aa-206b-4d1f-a6dd-63b00d1254a4\",\"type\":\"ColumnDataSource\"},\"glyph\":{\"id\":\"1180fcd0-7e05-4d97-a729-2c951bf8622a\",\"type\":\"Line\"},\"hover_glyph\":null,\"muted_glyph\":null,\"nonselection_glyph\":{\"id\":\"dadb1062-e8bf-4b92-b7f1-f14d19c1e89c\",\"type\":\"Line\"},\"selection_glyph\":null,\"view\":{\"id\":\"12ead606-5110-4ec4-b345-5da9291b7fe3\",\"type\":\"CDSView\"}},\"id\":\"f7523a52-dea1-4ec9-8d68-2bf32f2fec4f\",\"type\":\"GlyphRenderer\"},{\"attributes\":{\"fill_alpha\":{\"value\":0.1},\"fill_color\":{\"value\":\"#1f77b4\"},\"line_alpha\":{\"value\":0.1},\"line_color\":{\"value\":\"#1f77b4\"},\"x\":{\"field\":\"x\"},\"y\":{\"field\":\"y\"}},\"id\":\"c98e7d8d-f21a-4e35-ba0b-7a737c8b6e5c\",\"type\":\"Circle\"},{\"attributes\":{\"source\":{\"id\":\"54d1a991-74c6-495b-a660-06ba67696cca\",\"type\":\"ColumnDataSource\"}},\"id\":\"ddc213d5-ee3e-4f13-be05-c819056094c4\",\"type\":\"CDSView\"},{\"attributes\":{\"axis_label\":\"cooling rate [K/day]\",\"formatter\":{\"id\":\"743ec001-6069-4767-bbab-084b99689fda\",\"type\":\"BasicTickFormatter\"},\"plot\":{\"id\":\"8a55ad68-d9ad-4131-aa57-0dafd7191113\",\"subtype\":\"Figure\",\"type\":\"Plot\"},\"ticker\":{\"id\":\"d2348f95-b256-4378-9270-8a85110379a9\",\"type\":\"BasicTicker\"}},\"id\":\"759348ee-c82f-4e5e-81db-915f9fd89373\",\"type\":\"LinearAxis\"},{\"attributes\":{\"fill_alpha\":{\"value\":0.1},\"fill_color\":{\"value\":\"#1f77b4\"},\"line_alpha\":{\"value\":0.1},\"line_color\":{\"value\":\"#1f77b4\"},\"x\":{\"field\":\"x\"},\"y\":{\"field\":\"y\"}},\"id\":\"f2d61733-6d94-451e-a23e-36fa71c0b3e1\",\"type\":\"Circle\"},{\"attributes\":{\"source\":{\"id\":\"3a445c7e-022d-416a-a069-ede0d2efa21b\",\"type\":\"ColumnDataSource\"}},\"id\":\"8875c121-bf4c-406e-8473-28981d7f94e8\",\"type\":\"CDSView\"},{\"attributes\":{},\"id\":\"ef54a15c-d64e-4189-96d2-6c0bd6cdc4d8\",\"type\":\"HelpTool\"},{\"attributes\":{\"fill_alpha\":{\"value\":0.7},\"fill_color\":{\"value\":\"#984ea3\"},\"line_alpha\":{\"value\":0.7},\"line_color\":{\"value\":\"#984ea3\"},\"x\":{\"field\":\"x\"},\"y\":{\"field\":\"y\"}},\"id\":\"1d6da495-7563-4392-b846-1523c2a03559\",\"type\":\"Square\"},{\"attributes\":{\"source\":{\"id\":\"841f8687-36a9-4a8c-9b32-c2b39de799cc\",\"type\":\"ColumnDataSource\"}},\"id\":\"aeb100a6-2bc1-4bd6-8a25-faa5b2984091\",\"type\":\"CDSView\"},{\"attributes\":{\"active_drag\":\"auto\",\"active_inspect\":\"auto\",\"active_scroll\":\"auto\",\"active_tap\":\"auto\",\"tools\":[{\"id\":\"9cd165c1-4801-41a7-ad4f-8834db6b175b\",\"type\":\"PanTool\"},{\"id\":\"6161db19-b62b-4d79-9bd3-077248837700\",\"type\":\"WheelZoomTool\"},{\"id\":\"19d514f6-35b5-4bc8-9e5e-1a535440774c\",\"type\":\"BoxZoomTool\"},{\"id\":\"66fef87a-7b8e-463d-a97b-999b0a57ed56\",\"type\":\"SaveTool\"},{\"id\":\"62aa672a-d5af-4051-a487-d4b47b97c809\",\"type\":\"ResetTool\"},{\"id\":\"ef54a15c-d64e-4189-96d2-6c0bd6cdc4d8\",\"type\":\"HelpTool\"}]},\"id\":\"98959c10-1fdf-4cff-80e3-14ab14dae9ee\",\"type\":\"Toolbar\"},{\"attributes\":{\"line_alpha\":0.1,\"line_color\":\"#1f77b4\",\"line_width\":1.5,\"x\":{\"field\":\"x\"},\"y\":{\"field\":\"y\"}},\"id\":\"9979f789-a55a-44e8-ba24-997a8c50aa19\",\"type\":\"Line\"},{\"attributes\":{\"data_source\":{\"id\":\"4c9a121f-a3e7-467e-bd9b-d49d927a4229\",\"type\":\"ColumnDataSource\"},\"glyph\":{\"id\":\"ddabce70-b8ba-4234-a4cf-126a9d9f341f\",\"type\":\"Line\"},\"hover_glyph\":null,\"muted_glyph\":null,\"nonselection_glyph\":{\"id\":\"1fd64ce4-2bec-428d-92d9-9767531e5187\",\"type\":\"Line\"},\"selection_glyph\":null,\"view\":{\"id\":\"e6a64fd0-1427-4a90-b110-515771b259e1\",\"type\":\"CDSView\"}},\"id\":\"c61ab258-9765-4f64-a9c9-ea001a4ba2ad\",\"type\":\"GlyphRenderer\"},{\"attributes\":{\"data_source\":{\"id\":\"45740a0c-81fd-41b1-8d3e-beb673ee5f8c\",\"type\":\"ColumnDataSource\"},\"glyph\":{\"id\":\"0cfe641d-02c1-4803-b605-f606a9e046dc\",\"type\":\"Line\"},\"hover_glyph\":null,\"muted_glyph\":null,\"nonselection_glyph\":{\"id\":\"9979f789-a55a-44e8-ba24-997a8c50aa19\",\"type\":\"Line\"},\"selection_glyph\":null,\"view\":{\"id\":\"1480bfa0-d9fc-4d24-affe-9bc4e6fd4437\",\"type\":\"CDSView\"}},\"id\":\"924bc8d3-a69c-4d99-b196-f7a67e440adb\",\"type\":\"GlyphRenderer\"},{\"attributes\":{\"source\":{\"id\":\"45740a0c-81fd-41b1-8d3e-beb673ee5f8c\",\"type\":\"ColumnDataSource\"}},\"id\":\"1480bfa0-d9fc-4d24-affe-9bc4e6fd4437\",\"type\":\"CDSView\"},{\"attributes\":{\"fill_alpha\":{\"value\":0.7},\"fill_color\":{\"value\":\"#984ea3\"},\"line_alpha\":{\"value\":0.7},\"line_color\":{\"value\":\"#984ea3\"},\"x\":{\"field\":\"x\"},\"y\":{\"field\":\"y\"}},\"id\":\"1e287b29-b244-4f90-8ab4-e7992ff49c39\",\"type\":\"Square\"},{\"attributes\":{\"data_source\":{\"id\":\"2cb00034-f63a-46a9-ab9d-bb03cf09d1f9\",\"type\":\"ColumnDataSource\"},\"glyph\":{\"id\":\"6735e9f5-fa7d-4e44-9f36-54e3939e581a\",\"type\":\"Line\"},\"hover_glyph\":null,\"muted_glyph\":null,\"nonselection_glyph\":{\"id\":\"0eea935d-09c4-4705-95ed-371949c67b8b\",\"type\":\"Line\"},\"selection_glyph\":null,\"view\":{\"id\":\"ced7f68a-8e0c-43ca-baba-ad67ef83aec7\",\"type\":\"CDSView\"}},\"id\":\"7a76981e-9eaa-4c8f-8df7-e90dc389f4bb\",\"type\":\"GlyphRenderer\"},{\"attributes\":{\"fill_alpha\":{\"value\":0.7},\"fill_color\":{\"value\":\"#4daf4a\"},\"line_alpha\":{\"value\":0.7},\"line_color\":{\"value\":\"#4daf4a\"},\"x\":{\"field\":\"x\"},\"y\":{\"field\":\"y\"}},\"id\":\"5b4a3b36-4bb7-47eb-9c7d-9b707a74c8a0\",\"type\":\"Circle\"},{\"attributes\":{\"line_alpha\":0.6,\"line_color\":\"#984ea3\",\"line_width\":3,\"x\":{\"field\":\"x\"},\"y\":{\"field\":\"y\"}},\"id\":\"6735e9f5-fa7d-4e44-9f36-54e3939e581a\",\"type\":\"Line\"},{\"attributes\":{\"line_alpha\":0.6,\"line_color\":\"#e41a1c\",\"line_dash\":[6],\"line_width\":5,\"x\":{\"field\":\"x\"},\"y\":{\"field\":\"y\"}},\"id\":\"ddabce70-b8ba-4234-a4cf-126a9d9f341f\",\"type\":\"Line\"},{\"attributes\":{\"source\":{\"id\":\"2cb00034-f63a-46a9-ab9d-bb03cf09d1f9\",\"type\":\"ColumnDataSource\"}},\"id\":\"ced7f68a-8e0c-43ca-baba-ad67ef83aec7\",\"type\":\"CDSView\"},{\"attributes\":{\"ticker\":null},\"id\":\"b4a91970-2554-4c38-9db6-27fb9ee2eba2\",\"type\":\"LogTickFormatter\"},{\"attributes\":{},\"id\":\"743ec001-6069-4767-bbab-084b99689fda\",\"type\":\"BasicTickFormatter\"},{\"attributes\":{\"callback\":null,\"data\":{\"x\":{\"__ndarray__\":\"kNl4WUHkOj/6DKbXy3g+P13EVJVpR0M/UEEj1TMCSD8cDPitB3NNPzoR0exZ11E/6RrhwVNnVT/AQgGyi3ZZP/1LjI0LE14/UgtHxmGmYT8NhuOGkppkP7to+dbP72c/D8So3rCqaz+Od7j2LU5vP5+7iGaKL3E/HNCsTsmXcj//ImVdtRF0P52Qi2Y0nXU/PJ15a7g+dz9KS0eqf/F4Pz9/sAT4hHo/Pa7tdD74eD/fvLsEVdJzP3JgJsxjbW0/MAIoGxZwZT8LzexxKoteP4RmQhD6MlU/B6TpmYoHTj/uyEWuPAVHP+wGr1pVdEI/JnQ9XCbDPT+CfzBBJHs4P2zQCJqIJjc/pyMICVKEOT+8e6ZANZQ8PzT6NFJmbz8/dnWiAsWpQD+zOiYPdttAPz4pHdKwiUY/HW6ioEI9TD+ex846bxNRPwDeDMQcx1I/JOJDD9ALVD9JSTKb3kZVPye+hFHjulY/gaxzibTfWz/nfpQ6BHNkP+R6vNEFvG4/AqdnWA2Eez/hhv5adVWIPx9QvB7aNJM/c4R0x063mz/s0YtC4Z+iPx/VobTmsKc/jS7r1TLfrD+jfDmawACxP8Udlbn+f7M/IOeixinftT88xk/C0BO4P1dzZ8PtEro/gviG43XUuz+FXTVL2VS9P+rvY9TOk74/QGWANDGXvz/ounS8lzXAPy+g/lC8jMA/Up4WDzHWwD8CsZVlwg7BP/aIJLw1F8E/mbQt8+vBwD+QoxikCam/P5d3k+cT3Lw/KJpJzJr1uT8w4T/5lTC3P6ykIglTeLQ/\",\"dtype\":\"float64\",\"shape\":[75]},\"y\":{\"__ndarray__\":\"GhExyth1ND/Sv8nbtpRIP2vylNV0PVE/aTum7souWD/At0SJ8fVgPw3Iuahxymc/MSNhhJWvcD/bTfBN02d3P2zb5nxnaoA/CD5h5MAGhz8NmeH1TyaQP+zrCsc9p5Y/LbKd76fGnz/bLW5ISEmmPww9YvTcQq8/JV2OstnstT8Er5Y7M8G+P0c+r3jqkcU/5h99k6ZBzj88bCIzFzjVP4enV8oyxN0//yH99nXg5D8qOpLLf0jtP5kqGJXUifQ/c9cS8kHP/D+/DpwzojQEQIEmwoanVwxA4lgXt9HgE0BSSZ2AJuIbQAMJih9jjiNA5q4l5INuK0AwTKYKRj0zQNv5fmq8/DpAaCJseHrtQkB/+zpwzoxKQM3MzMzMeFJAZmZmZmZqWEAAAAAAAFxeQM3MzMzMJmJAmpmZmZkfZUBmZmZmZhhoQDMzMzMzEWtAAAAAAAAKbkBmZmZmZoFwQM3MzMzM/XFAMzMzMzN6c0CamZmZmfZ0QAAAAAAAc3ZAZmZmZmbvd0DNzMzMzGt5QDMzMzMz6HpAmpmZmZlkfEAAAAAAAOF9QGZmZmZmXX9AZmZmZuZsgECamZmZGSuBQM3MzMxM6YFAAAAAAICngkAzMzMzs2WDQGZmZmbmI4RAmpmZmRnihEDNzMzMTKCFQAAAAACAXoZAMzMzM7Mch0BmZmZm5tqHQJqZmZkZmYhAzczMzExXiUAAAAAAgBWKQDMzMzOz04pAZmZmZuaRi0CamZmZGVCMQM3MzMxMDo1AAAAAAIDMjUAzMzMzs4qOQGZmZmbmSI9A\",\"dtype\":\"float64\",\"shape\":[75]}},\"selected\":{\"id\":\"49761b27-d9a5-468b-bb27-c17a5ef2540b\",\"type\":\"Selection\"},\"selection_policy\":{\"id\":\"1d720460-37ad-4a3e-a20e-5442ac1c5f97\",\"type\":\"UnionRenderers\"}},\"id\":\"54d1a991-74c6-495b-a660-06ba67696cca\",\"type\":\"ColumnDataSource\"},{\"attributes\":{},\"id\":\"d2348f95-b256-4378-9270-8a85110379a9\",\"type\":\"BasicTicker\"},{\"attributes\":{\"label\":{\"value\":\"CLIRAD `coolr_bands`\"},\"renderers\":[{\"id\":\"9bb3875b-8277-4543-b2d4-841a9343b327\",\"type\":\"GlyphRenderer\"}]},\"id\":\"2c9a343d-d601-4186-9dd6-64edc4f2e988\",\"type\":\"LegendItem\"},{\"attributes\":{},\"id\":\"b795be44-6ec4-474f-9350-b4de3c5c682a\",\"type\":\"UnionRenderers\"},{\"attributes\":{\"label\":{\"value\":\"CRD\"},\"renderers\":[{\"id\":\"d5810bee-6a1a-4dcd-9389-1f124090c9e0\",\"type\":\"GlyphRenderer\"},{\"id\":\"924bc8d3-a69c-4d99-b196-f7a67e440adb\",\"type\":\"GlyphRenderer\"}]},\"id\":\"97d2febf-b2dd-41a1-899f-95340273ac77\",\"type\":\"LegendItem\"},{\"attributes\":{},\"id\":\"7744aa29-f658-4143-812b-882111d15b46\",\"type\":\"Selection\"},{\"attributes\":{\"bottom_units\":\"screen\",\"fill_alpha\":{\"value\":0.5},\"fill_color\":{\"value\":\"lightgrey\"},\"left_units\":\"screen\",\"level\":\"overlay\",\"line_alpha\":{\"value\":1.0},\"line_color\":{\"value\":\"black\"},\"line_dash\":[4,4],\"line_width\":{\"value\":2},\"plot\":null,\"render_mode\":\"css\",\"right_units\":\"screen\",\"top_units\":\"screen\"},\"id\":\"d28e909b-cc9b-48dd-845d-aabcd0ece6a7\",\"type\":\"BoxAnnotation\"},{\"attributes\":{\"label\":{\"value\":\"WGT igg=10 wgt_flux=2\"},\"renderers\":[{\"id\":\"b8085d7f-9a4d-4f6d-a408-21bd34674cbb\",\"type\":\"GlyphRenderer\"},{\"id\":\"7a76981e-9eaa-4c8f-8df7-e90dc389f4bb\",\"type\":\"GlyphRenderer\"}]},\"id\":\"5204421c-7f19-4bad-b459-a62569eaf142\",\"type\":\"LegendItem\"},{\"attributes\":{\"overlay\":{\"id\":\"d28e909b-cc9b-48dd-845d-aabcd0ece6a7\",\"type\":\"BoxAnnotation\"}},\"id\":\"19d514f6-35b5-4bc8-9e5e-1a535440774c\",\"type\":\"BoxZoomTool\"},{\"attributes\":{},\"id\":\"400a3736-c8ad-4302-a840-c6391ed11031\",\"type\":\"UnionRenderers\"},{\"attributes\":{\"children\":[{\"id\":\"8a55ad68-d9ad-4131-aa57-0dafd7191113\",\"subtype\":\"Figure\",\"type\":\"Plot\"},{\"id\":\"84eab9a8-c0e9-457b-908e-c266b8e4a09a\",\"subtype\":\"Figure\",\"type\":\"Plot\"}]},\"id\":\"789c524d-8f4a-4ab8-affd-10d0c0672ed2\",\"type\":\"Row\"},{\"attributes\":{\"callback\":null,\"end\":0.13485264642449998,\"start\":-0.0009946688745000002},\"id\":\"dfea8701-8b03-461f-aab4-ae75756047f7\",\"type\":\"Range1d\"},{\"attributes\":{},\"id\":\"d6091d09-e6ce-48e8-a44b-5713e37f2923\",\"type\":\"BasicTickFormatter\"},{\"attributes\":{},\"id\":\"cd9fe68a-ca97-46bc-ac52-37cc57895ee6\",\"type\":\"Selection\"},{\"attributes\":{},\"id\":\"49761b27-d9a5-468b-bb27-c17a5ef2540b\",\"type\":\"Selection\"},{\"attributes\":{},\"id\":\"66fef87a-7b8e-463d-a97b-999b0a57ed56\",\"type\":\"SaveTool\"},{\"attributes\":{},\"id\":\"1d720460-37ad-4a3e-a20e-5442ac1c5f97\",\"type\":\"UnionRenderers\"},{\"attributes\":{\"source\":{\"id\":\"073543aa-206b-4d1f-a6dd-63b00d1254a4\",\"type\":\"ColumnDataSource\"}},\"id\":\"12ead606-5110-4ec4-b345-5da9291b7fe3\",\"type\":\"CDSView\"},{\"attributes\":{},\"id\":\"403c0233-6bd3-4888-8b17-d03d59fc40a5\",\"type\":\"Selection\"},{\"attributes\":{},\"id\":\"62aa672a-d5af-4051-a487-d4b47b97c809\",\"type\":\"ResetTool\"},{\"attributes\":{\"callback\":null,\"data\":{\"x\":{\"__ndarray__\":\"kNl4WUHkOj/6DKbXy3g+P13EVJVpR0M/UEEj1TMCSD8cDPitB3NNPzoR0exZ11E/6RrhwVNnVT/AQgGyi3ZZP/1LjI0LE14/UgtHxmGmYT8NhuOGkppkP7to+dbP72c/D8So3rCqaz+Od7j2LU5vP5+7iGaKL3E/HNCsTsmXcj//ImVdtRF0P52Qi2Y0nXU/PJ15a7g+dz9KS0eqf/F4Pz9/sAT4hHo/Pa7tdD74eD/fvLsEVdJzP3JgJsxjbW0/MAIoGxZwZT8LzexxKoteP4RmQhD6MlU/B6TpmYoHTj/uyEWuPAVHP+wGr1pVdEI/JnQ9XCbDPT+CfzBBJHs4P2zQCJqIJjc/pyMICVKEOT+8e6ZANZQ8PzT6NFJmbz8/dnWiAsWpQD+zOiYPdttAPz4pHdKwiUY/HW6ioEI9TD+ex846bxNRPwDeDMQcx1I/JOJDD9ALVD9JSTKb3kZVPye+hFHjulY/gaxzibTfWz/nfpQ6BHNkP+R6vNEFvG4/AqdnWA2Eez/hhv5adVWIPx9QvB7aNJM/c4R0x063mz/s0YtC4Z+iPx/VobTmsKc/jS7r1TLfrD+jfDmawACxP8Udlbn+f7M/IOeixinftT88xk/C0BO4P1dzZ8PtEro/gviG43XUuz+FXTVL2VS9P+rvY9TOk74/QGWANDGXvz/ounS8lzXAPy+g/lC8jMA/Up4WDzHWwD8CsZVlwg7BP/aIJLw1F8E/mbQt8+vBwD+QoxikCam/P5d3k+cT3Lw/KJpJzJr1uT8w4T/5lTC3P6ykIglTeLQ/\",\"dtype\":\"float64\",\"shape\":[75]},\"y\":{\"__ndarray__\":\"GhExyth1ND/Sv8nbtpRIP2vylNV0PVE/aTum7souWD/At0SJ8fVgPw3Iuahxymc/MSNhhJWvcD/bTfBN02d3P2zb5nxnaoA/CD5h5MAGhz8NmeH1TyaQP+zrCsc9p5Y/LbKd76fGnz/bLW5ISEmmPww9YvTcQq8/JV2OstnstT8Er5Y7M8G+P0c+r3jqkcU/5h99k6ZBzj88bCIzFzjVP4enV8oyxN0//yH99nXg5D8qOpLLf0jtP5kqGJXUifQ/c9cS8kHP/D+/DpwzojQEQIEmwoanVwxA4lgXt9HgE0BSSZ2AJuIbQAMJih9jjiNA5q4l5INuK0AwTKYKRj0zQNv5fmq8/DpAaCJseHrtQkB/+zpwzoxKQM3MzMzMeFJAZmZmZmZqWEAAAAAAAFxeQM3MzMzMJmJAmpmZmZkfZUBmZmZmZhhoQDMzMzMzEWtAAAAAAAAKbkBmZmZmZoFwQM3MzMzM/XFAMzMzMzN6c0CamZmZmfZ0QAAAAAAAc3ZAZmZmZmbvd0DNzMzMzGt5QDMzMzMz6HpAmpmZmZlkfEAAAAAAAOF9QGZmZmZmXX9AZmZmZuZsgECamZmZGSuBQM3MzMxM6YFAAAAAAICngkAzMzMzs2WDQGZmZmbmI4RAmpmZmRnihEDNzMzMTKCFQAAAAACAXoZAMzMzM7Mch0BmZmZm5tqHQJqZmZkZmYhAzczMzExXiUAAAAAAgBWKQDMzMzOz04pAZmZmZuaRi0CamZmZGVCMQM3MzMxMDo1AAAAAAIDMjUAzMzMzs4qOQGZmZmbmSI9A\",\"dtype\":\"float64\",\"shape\":[75]}},\"selected\":{\"id\":\"7744aa29-f658-4143-812b-882111d15b46\",\"type\":\"Selection\"},\"selection_policy\":{\"id\":\"b795be44-6ec4-474f-9350-b4de3c5c682a\",\"type\":\"UnionRenderers\"}},\"id\":\"073543aa-206b-4d1f-a6dd-63b00d1254a4\",\"type\":\"ColumnDataSource\"},{\"attributes\":{},\"id\":\"98e45266-a822-4b4a-b857-92be12617193\",\"type\":\"UnionRenderers\"},{\"attributes\":{},\"id\":\"6161db19-b62b-4d79-9bd3-077248837700\",\"type\":\"WheelZoomTool\"},{\"attributes\":{},\"id\":\"2fc81c14-c004-4f3b-864b-408beb13d0d1\",\"type\":\"Selection\"},{\"attributes\":{},\"id\":\"eaca8e35-ee54-4440-ad11-8473670ecd15\",\"type\":\"UnionRenderers\"},{\"attributes\":{},\"id\":\"36a90376-5876-4216-9ea4-ef3b05267c3a\",\"type\":\"UnionRenderers\"},{\"attributes\":{},\"id\":\"04f49c1f-7b8c-47c0-b111-da752c2f3d7b\",\"type\":\"Selection\"},{\"attributes\":{},\"id\":\"d57a0f56-42af-4f6a-b608-e324d59b4815\",\"type\":\"BasicTickFormatter\"},{\"attributes\":{},\"id\":\"9d114389-d1df-4534-ac75-db4c012b2a37\",\"type\":\"Selection\"}],\"root_ids\":[\"a60ed72b-d94e-4a2a-a2ff-5e34bc620101\"]},\"title\":\"Bokeh Application\",\"version\":\"0.12.16\"}};\n",
       "  var render_items = [{\"docid\":\"4403a60f-bb25-4034-ab3e-ecaa7d05aa9e\",\"elementid\":\"09fa569b-ab5f-4666-86c8-94345990e406\",\"modelid\":\"a60ed72b-d94e-4a2a-a2ff-5e34bc620101\"}];\n",
       "  root.Bokeh.embed.embed_items_notebook(docs_json, render_items);\n",
       "\n",
       "  }\n",
       "  if (root.Bokeh !== undefined) {\n",
       "    embed_document(root);\n",
       "  } else {\n",
       "    var attempts = 0;\n",
       "    var timer = setInterval(function(root) {\n",
       "      if (root.Bokeh !== undefined) {\n",
       "        embed_document(root);\n",
       "        clearInterval(timer);\n",
       "      }\n",
       "      attempts++;\n",
       "      if (attempts > 100) {\n",
       "        console.log(\"Bokeh: ERROR: Unable to run BokehJS code because BokehJS library is missing\")\n",
       "        clearInterval(timer);\n",
       "      }\n",
       "    }, 10, root)\n",
       "  }\n",
       "})(window);"
      ],
      "application/vnd.bokehjs_exec.v0+json": ""
     },
     "metadata": {
      "application/vnd.bokehjs_exec.v0+json": {
       "id": "a60ed72b-d94e-4a2a-a2ff-5e34bc620101"
      }
     },
     "output_type": "display_data"
    },
    {
     "name": "stdout",
     "output_type": "stream",
     "text": [
      "FIGURE. Cooling rate profiles.\n"
     ]
    },
    {
     "data": {
      "text/html": [
       "<a id=\"Flux_Comparison\"></a>"
      ],
      "text/plain": [
       "<IPython.core.display.HTML object>"
      ]
     },
     "metadata": {},
     "output_type": "display_data"
    },
    {
     "data": {
      "text/markdown": [
       "# Flux Comparison"
      ],
      "text/plain": [
       "<IPython.core.display.Markdown object>"
      ]
     },
     "metadata": {},
     "output_type": "display_data"
    },
    {
     "data": {
      "text/html": [
       "<div>\n",
       "<style scoped>\n",
       "    .dataframe tbody tr th:only-of-type {\n",
       "        vertical-align: middle;\n",
       "    }\n",
       "\n",
       "    .dataframe tbody tr th {\n",
       "        vertical-align: top;\n",
       "    }\n",
       "\n",
       "    .dataframe thead th {\n",
       "        text-align: right;\n",
       "    }\n",
       "</style>\n",
       "<table border=\"1\" class=\"dataframe\">\n",
       "  <thead>\n",
       "    <tr style=\"text-align: right;\">\n",
       "      <th></th>\n",
       "      <th></th>\n",
       "      <th>flug</th>\n",
       "      <th>fldg</th>\n",
       "      <th>fnetg</th>\n",
       "    </tr>\n",
       "    <tr>\n",
       "      <th>pressure</th>\n",
       "      <th>level</th>\n",
       "      <th></th>\n",
       "      <th></th>\n",
       "      <th></th>\n",
       "    </tr>\n",
       "  </thead>\n",
       "  <tbody>\n",
       "    <tr>\n",
       "      <th>0.0000</th>\n",
       "      <th>1</th>\n",
       "      <td>-26.440621</td>\n",
       "      <td>0.000000</td>\n",
       "      <td>-26.440621</td>\n",
       "    </tr>\n",
       "    <tr>\n",
       "      <th>1.0685</th>\n",
       "      <th>24</th>\n",
       "      <td>-26.440436</td>\n",
       "      <td>0.000503</td>\n",
       "      <td>-26.439933</td>\n",
       "    </tr>\n",
       "    <tr>\n",
       "      <th>1013.0000</th>\n",
       "      <th>76</th>\n",
       "      <td>-27.037219</td>\n",
       "      <td>7.371870</td>\n",
       "      <td>-19.665349</td>\n",
       "    </tr>\n",
       "  </tbody>\n",
       "</table>\n",
       "</div>"
      ],
      "text/plain": [
       "                      flug      fldg      fnetg\n",
       "pressure  level                                \n",
       "0.0000    1     -26.440621  0.000000 -26.440621\n",
       "1.0685    24    -26.440436  0.000503 -26.439933\n",
       "1013.0000 76    -27.037219  7.371870 -19.665349"
      ]
     },
     "metadata": {},
     "output_type": "display_data"
    },
    {
     "name": "stdout",
     "output_type": "stream",
     "text": [
      "Table. Fluxes. CRD\n"
     ]
    },
    {
     "data": {
      "text/html": [
       "<div>\n",
       "<style scoped>\n",
       "    .dataframe tbody tr th:only-of-type {\n",
       "        vertical-align: middle;\n",
       "    }\n",
       "\n",
       "    .dataframe tbody tr th {\n",
       "        vertical-align: top;\n",
       "    }\n",
       "\n",
       "    .dataframe thead th {\n",
       "        text-align: right;\n",
       "    }\n",
       "</style>\n",
       "<table border=\"1\" class=\"dataframe\">\n",
       "  <thead>\n",
       "    <tr style=\"text-align: right;\">\n",
       "      <th></th>\n",
       "      <th></th>\n",
       "      <th>flug</th>\n",
       "      <th>fldg</th>\n",
       "      <th>fnetg</th>\n",
       "    </tr>\n",
       "    <tr>\n",
       "      <th>pressure</th>\n",
       "      <th>level</th>\n",
       "      <th></th>\n",
       "      <th></th>\n",
       "      <th></th>\n",
       "    </tr>\n",
       "  </thead>\n",
       "  <tbody>\n",
       "    <tr>\n",
       "      <th>0.0000</th>\n",
       "      <th>1</th>\n",
       "      <td>-26.425714</td>\n",
       "      <td>0.000000</td>\n",
       "      <td>-26.425714</td>\n",
       "    </tr>\n",
       "    <tr>\n",
       "      <th>1.0685</th>\n",
       "      <th>24</th>\n",
       "      <td>-26.425567</td>\n",
       "      <td>0.000427</td>\n",
       "      <td>-26.425139</td>\n",
       "    </tr>\n",
       "    <tr>\n",
       "      <th>1013.0000</th>\n",
       "      <th>76</th>\n",
       "      <td>-27.037219</td>\n",
       "      <td>7.291874</td>\n",
       "      <td>-19.745345</td>\n",
       "    </tr>\n",
       "  </tbody>\n",
       "</table>\n",
       "</div>"
      ],
      "text/plain": [
       "                      flug      fldg      fnetg\n",
       "pressure  level                                \n",
       "0.0000    1     -26.425714  0.000000 -26.425714\n",
       "1.0685    24    -26.425567  0.000427 -26.425139\n",
       "1013.0000 76    -27.037219  7.291874 -19.745345"
      ]
     },
     "metadata": {},
     "output_type": "display_data"
    },
    {
     "name": "stdout",
     "output_type": "stream",
     "text": [
      "Table. Fluxes. WGT igg=10 wgt_flux=1\n"
     ]
    },
    {
     "data": {
      "text/html": [
       "<div>\n",
       "<style scoped>\n",
       "    .dataframe tbody tr th:only-of-type {\n",
       "        vertical-align: middle;\n",
       "    }\n",
       "\n",
       "    .dataframe tbody tr th {\n",
       "        vertical-align: top;\n",
       "    }\n",
       "\n",
       "    .dataframe thead th {\n",
       "        text-align: right;\n",
       "    }\n",
       "</style>\n",
       "<table border=\"1\" class=\"dataframe\">\n",
       "  <thead>\n",
       "    <tr style=\"text-align: right;\">\n",
       "      <th></th>\n",
       "      <th></th>\n",
       "      <th>flug</th>\n",
       "      <th>fldg</th>\n",
       "      <th>fnetg</th>\n",
       "    </tr>\n",
       "    <tr>\n",
       "      <th>pressure</th>\n",
       "      <th>level</th>\n",
       "      <th></th>\n",
       "      <th></th>\n",
       "      <th></th>\n",
       "    </tr>\n",
       "  </thead>\n",
       "  <tbody>\n",
       "    <tr>\n",
       "      <th>1.000000e-08</th>\n",
       "      <th>1</th>\n",
       "      <td>-26.447472</td>\n",
       "      <td>0.000188</td>\n",
       "      <td>-26.447283</td>\n",
       "    </tr>\n",
       "    <tr>\n",
       "      <th>1.068500e+00</th>\n",
       "      <th>24</th>\n",
       "      <td>-26.447358</td>\n",
       "      <td>0.000551</td>\n",
       "      <td>-26.446807</td>\n",
       "    </tr>\n",
       "    <tr>\n",
       "      <th>1.013000e+03</th>\n",
       "      <th>76</th>\n",
       "      <td>-27.037220</td>\n",
       "      <td>7.012981</td>\n",
       "      <td>-20.024239</td>\n",
       "    </tr>\n",
       "  </tbody>\n",
       "</table>\n",
       "</div>"
      ],
      "text/plain": [
       "                         flug      fldg      fnetg\n",
       "pressure     level                                \n",
       "1.000000e-08 1     -26.447472  0.000188 -26.447283\n",
       "1.068500e+00 24    -26.447358  0.000551 -26.446807\n",
       "1.013000e+03 76    -27.037220  7.012981 -20.024239"
      ]
     },
     "metadata": {},
     "output_type": "display_data"
    },
    {
     "name": "stdout",
     "output_type": "stream",
     "text": [
      "Table. Fluxes. CLIRAD\n"
     ]
    },
    {
     "data": {
      "text/html": [
       "<div>\n",
       "<style scoped>\n",
       "    .dataframe tbody tr th:only-of-type {\n",
       "        vertical-align: middle;\n",
       "    }\n",
       "\n",
       "    .dataframe tbody tr th {\n",
       "        vertical-align: top;\n",
       "    }\n",
       "\n",
       "    .dataframe thead th {\n",
       "        text-align: right;\n",
       "    }\n",
       "</style>\n",
       "<table border=\"1\" class=\"dataframe\">\n",
       "  <thead>\n",
       "    <tr style=\"text-align: right;\">\n",
       "      <th></th>\n",
       "      <th></th>\n",
       "      <th>flug</th>\n",
       "      <th>fldg</th>\n",
       "      <th>fnetg</th>\n",
       "    </tr>\n",
       "    <tr>\n",
       "      <th>pressure</th>\n",
       "      <th>level</th>\n",
       "      <th></th>\n",
       "      <th></th>\n",
       "      <th></th>\n",
       "    </tr>\n",
       "  </thead>\n",
       "  <tbody>\n",
       "    <tr>\n",
       "      <th>0.0000</th>\n",
       "      <th>1</th>\n",
       "      <td>1.490665e-02</td>\n",
       "      <td>0.000000</td>\n",
       "      <td>0.014907</td>\n",
       "    </tr>\n",
       "    <tr>\n",
       "      <th>1.0685</th>\n",
       "      <th>24</th>\n",
       "      <td>1.486878e-02</td>\n",
       "      <td>-0.000076</td>\n",
       "      <td>0.014794</td>\n",
       "    </tr>\n",
       "    <tr>\n",
       "      <th>1013.0000</th>\n",
       "      <th>76</th>\n",
       "      <td>-2.500000e-07</td>\n",
       "      <td>-0.079996</td>\n",
       "      <td>-0.079996</td>\n",
       "    </tr>\n",
       "  </tbody>\n",
       "</table>\n",
       "</div>"
      ],
      "text/plain": [
       "                         flug      fldg     fnetg\n",
       "pressure  level                                  \n",
       "0.0000    1      1.490665e-02  0.000000  0.014907\n",
       "1.0685    24     1.486878e-02 -0.000076  0.014794\n",
       "1013.0000 76    -2.500000e-07 -0.079996 -0.079996"
      ]
     },
     "metadata": {},
     "output_type": "display_data"
    },
    {
     "name": "stdout",
     "output_type": "stream",
     "text": [
      "Table. Fluxes. (WGT igg=10 wgt_flux=1) - (CRD)\n"
     ]
    },
    {
     "data": {
      "text/html": [
       "<div>\n",
       "<style scoped>\n",
       "    .dataframe tbody tr th:only-of-type {\n",
       "        vertical-align: middle;\n",
       "    }\n",
       "\n",
       "    .dataframe tbody tr th {\n",
       "        vertical-align: top;\n",
       "    }\n",
       "\n",
       "    .dataframe thead th {\n",
       "        text-align: right;\n",
       "    }\n",
       "</style>\n",
       "<table border=\"1\" class=\"dataframe\">\n",
       "  <thead>\n",
       "    <tr style=\"text-align: right;\">\n",
       "      <th></th>\n",
       "      <th></th>\n",
       "      <th>flug</th>\n",
       "      <th>fldg</th>\n",
       "      <th>fnetg</th>\n",
       "    </tr>\n",
       "    <tr>\n",
       "      <th>pressure</th>\n",
       "      <th>level</th>\n",
       "      <th></th>\n",
       "      <th></th>\n",
       "      <th></th>\n",
       "    </tr>\n",
       "  </thead>\n",
       "  <tbody>\n",
       "    <tr>\n",
       "      <th>0.0000</th>\n",
       "      <th>1</th>\n",
       "      <td>-0.006851</td>\n",
       "      <td>0.000188</td>\n",
       "      <td>-0.006662</td>\n",
       "    </tr>\n",
       "    <tr>\n",
       "      <th>1.0685</th>\n",
       "      <th>24</th>\n",
       "      <td>-0.006922</td>\n",
       "      <td>0.000048</td>\n",
       "      <td>-0.006874</td>\n",
       "    </tr>\n",
       "    <tr>\n",
       "      <th>1013.0000</th>\n",
       "      <th>76</th>\n",
       "      <td>-0.000001</td>\n",
       "      <td>-0.358889</td>\n",
       "      <td>-0.358890</td>\n",
       "    </tr>\n",
       "  </tbody>\n",
       "</table>\n",
       "</div>"
      ],
      "text/plain": [
       "                     flug      fldg     fnetg\n",
       "pressure  level                              \n",
       "0.0000    1     -0.006851  0.000188 -0.006662\n",
       "1.0685    24    -0.006922  0.000048 -0.006874\n",
       "1013.0000 76    -0.000001 -0.358889 -0.358890"
      ]
     },
     "metadata": {},
     "output_type": "display_data"
    },
    {
     "name": "stdout",
     "output_type": "stream",
     "text": [
      "Table. Fluxes. (CLIRAD) - (CRD)\n"
     ]
    },
    {
     "data": {
      "text/html": [
       "<a id=\"Best-fit_Parameters\"></a>"
      ],
      "text/plain": [
       "<IPython.core.display.HTML object>"
      ]
     },
     "metadata": {},
     "output_type": "display_data"
    },
    {
     "data": {
      "text/markdown": [
       "# Best-fit Parameters"
      ],
      "text/plain": [
       "<IPython.core.display.Markdown object>"
      ]
     },
     "metadata": {},
     "output_type": "display_data"
    },
    {
     "name": "stdout",
     "output_type": "stream",
     "text": [
      "Best-fit values for each (gas, band)\n",
      "------------------------------------\n",
      "o h2o band3b\n",
      "  atmpro = trp\n",
      "  band = 3b\n",
      "  commitnumber = a06b618\n",
      "  conc = None\n",
      "  dv = 0.001\n",
      "  klin = 1e-24\n",
      "  molecule = h2o\n",
      "  ng_adju = [0]\n",
      "  ng_refs = [6]\n",
      "  nv = 1000\n",
      "  option_compute_btable = 0\n",
      "  option_compute_ktable = 1\n",
      "  option_wgt_flux = 1\n",
      "  option_wgt_k = 1\n",
      "  ref_pts = [(600, 250)]\n",
      "  tsfc = 294\n",
      "  vmax = 720\n",
      "  vmin = 620\n",
      "  w_diffuse = [(1.66, 1.66, 1.66, 1.55, 1.5, 1.66)]\n",
      "  wgt = [(0.8, 0.8, 0.8, 0.6, 0.6, 0.9)]\n"
     ]
    }
   ],
   "source": [
    "script()"
   ]
  },
  {
   "cell_type": "code",
   "execution_count": 13,
   "metadata": {
    "collapsed": true
   },
   "outputs": [
    {
     "data": {
      "text/html": [
       "<script>\n",
       "code_show=true; \n",
       "function code_toggle() {\n",
       " if (code_show){\n",
       " $('div.input').hide();\n",
       " } else {\n",
       " $('div.input').show();\n",
       " }\n",
       " code_show = !code_show\n",
       "} \n",
       "$( document ).ready(code_toggle);\n",
       "</script>\n",
       "<form action=\"javascript:code_toggle()\"><input type=\"submit\" value=\"Click here to toggle on/off the raw code.\"></form>"
      ],
      "text/plain": [
       "<IPython.core.display.HTML object>"
      ]
     },
     "execution_count": 13,
     "metadata": {},
     "output_type": "execute_result"
    }
   ],
   "source": [
    "display.HTML('''<script>\n",
    "code_show=true; \n",
    "function code_toggle() {\n",
    " if (code_show){\n",
    " $('div.input').hide();\n",
    " } else {\n",
    " $('div.input').show();\n",
    " }\n",
    " code_show = !code_show\n",
    "} \n",
    "$( document ).ready(code_toggle);\n",
    "</script>\n",
    "<form action=\"javascript:code_toggle()\"><input type=\"submit\" value=\"Click here to toggle on/off the raw code.\"></form>''')"
   ]
  }
 ],
 "metadata": {
  "kernelspec": {
   "display_name": "Python 3",
   "language": "python",
   "name": "python3"
  },
  "language_info": {
   "codemirror_mode": {
    "name": "ipython",
    "version": 3
   },
   "file_extension": ".py",
   "mimetype": "text/x-python",
   "name": "python",
   "nbconvert_exporter": "python",
   "pygments_lexer": "ipython3",
   "version": "3.6.1"
  }
 },
 "nbformat": 4,
 "nbformat_minor": 2
}
