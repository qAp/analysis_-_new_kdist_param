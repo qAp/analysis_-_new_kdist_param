{
 "cells": [
  {
   "cell_type": "code",
   "execution_count": 1,
   "metadata": {
    "collapsed": true
   },
   "outputs": [],
   "source": [
    "%matplotlib inline\n",
    "import os\n",
    "import re\n",
    "import io\n",
    "import itertools\n",
    "import pprint\n",
    "\n",
    "from bokeh.io import output_notebook, show\n",
    "from bokeh.layouts import gridplot\n",
    "from bokeh.plotting import figure\n",
    "from bokeh.models import Range1d, Legend\n",
    "from bokeh.palettes import all_palettes\n",
    "\n",
    "import matplotlib\n",
    "import matplotlib.pyplot as plt\n",
    "import numpy as np\n",
    "import pandas as pd\n",
    "import xarray as xr\n",
    "\n",
    "import climatools.lblnew.bestfit_params as bestfits\n",
    "from climatools.lblnew import setup_bestfit, setup_overlap\n",
    "import climatools.lblnew.pipeline as pipe_lblnew\n",
    "import climatools.cliradlw.setup as setup_cliradlw\n",
    "import climatools.cliradlw.pipeline as pipe_cliradlw\n",
    "\n",
    "import climatools.html.html as climahtml\n",
    "from climatools.lblnew.dataio import *\n",
    "from climatools.plot.plot import *\n",
    "\n",
    "\n",
    "import IPython.display as display"
   ]
  },
  {
   "cell_type": "code",
   "execution_count": 2,
   "metadata": {
    "collapsed": true
   },
   "outputs": [],
   "source": [
    "%run param.py"
   ]
  },
  {
   "cell_type": "code",
   "execution_count": 3,
   "metadata": {
    "collapsed": true
   },
   "outputs": [],
   "source": [
    "def load_output_file(path_csv):\n",
    "    '''\n",
    "    Load lblnew output .csv file to xarray.Dataset\n",
    "    \n",
    "    Parameters\n",
    "    ----------\n",
    "    path_csv: str\n",
    "              Path to the .csv file to be loaded.\n",
    "    ds: xarray.Dataset\n",
    "        Data in the input file in the form of an xarray.Dataset.\n",
    "    '''\n",
    "    toindex = ['band', 'pressure', 'igg', 'g']    \n",
    "    df = pd.read_csv(path_csv, sep=r'\\s+')\n",
    "    df = df.set_index([i for i in toindex if i in df.columns])\n",
    "    df = df.rename(columns={'sfu': 'flug',\n",
    "                            'sfd': 'fldg',\n",
    "                            'fnet': 'fnetg',\n",
    "                            'coolr': 'coolrg'})\n",
    "    ds = xr.Dataset.from_dataframe(df)\n",
    "\n",
    "    for l in ('level', 'layer'):\n",
    "        if l in ds.data_vars:\n",
    "            if len(ds[l].dims) > 1:\n",
    "                surface = {d: 0 for d in ds.dims if d != 'pressure'}\n",
    "                coord_level = ds[l][surface]\n",
    "                ds.coords[l] = ('pressure', coord_level)\n",
    "            else:\n",
    "                ds.coords[l] = ('pressure', ds[l])\n",
    "    \n",
    "    return ds"
   ]
  },
  {
   "cell_type": "code",
   "execution_count": 4,
   "metadata": {
    "collapsed": true
   },
   "outputs": [],
   "source": [
    "def lblnew_setup(param=None):\n",
    "    if 'ng_refs' in param:\n",
    "        return {'setup': setup_bestfit,\n",
    "                'fname_flux_crd': 'output_flux.dat',\n",
    "                'fname_cool_crd': 'output_coolr.dat',\n",
    "                'fname_flux_wgt': 'output_wfluxg.dat',\n",
    "                'fname_cool_wgt': 'output_wcoolrg.dat'}\n",
    "    else:\n",
    "        return {'setup': setup_overlap,\n",
    "                'fname_flux_crd': 'output_flux.dat',\n",
    "                'fname_cool_crd': 'output_coolr.dat',\n",
    "                'fname_flux_wgt': 'output_wflux.dat',\n",
    "                'fname_cool_wgt': 'output_wcoolr.dat'}\n",
    "\n",
    "    \n",
    "def load_lblnew_data(param):\n",
    "    \n",
    "    fname_dsname = [('fname_flux_crd', 'ds_flux_crd'),\n",
    "                    ('fname_cool_crd', 'ds_cool_crd'),\n",
    "                    ('fname_flux_wgt', 'ds_flux_wgt'),\n",
    "                    ('fname_cool_wgt', 'ds_cool_wgt')]\n",
    "    \n",
    "    d = lblnew_setup(param)\n",
    "    dir_fortran = pipe_lblnew.get_dir_case(param, setup=d['setup'])\n",
    "    \n",
    "    data_dict = {}\n",
    "    for fname, dsname in fname_dsname:\n",
    "        fpath = os.path.join(dir_fortran, d[fname])\n",
    "        data_dict[dsname] = load_output_file(fpath)\n",
    "    return data_dict\n",
    "    \n",
    "\n",
    "    \n",
    "    "
   ]
  },
  {
   "cell_type": "code",
   "execution_count": 5,
   "metadata": {
    "collapsed": true
   },
   "outputs": [],
   "source": [
    "d = load_lblnew_data(PARAM_LBLNEW)\n",
    "\n",
    "DS_FLUX_CRD = d['ds_flux_crd']\n",
    "DS_COOL_CRD = d['ds_cool_crd']\n",
    "DS_FLUX_WGT = d['ds_flux_wgt']\n",
    "DS_COOL_WGT = d['ds_cool_wgt']"
   ]
  },
  {
   "cell_type": "code",
   "execution_count": 6,
   "metadata": {
    "collapsed": true
   },
   "outputs": [],
   "source": [
    "DIR_FORTRAN = pipe_cliradlw.get_fortran_dir(PARAM, \n",
    "                                            setup=setup_cliradlw)\n",
    "\n",
    "PATH_FLUX = os.path.join(DIR_FORTRAN, 'output_flux.dat')\n",
    "PATH_COOL = os.path.join(DIR_FORTRAN, 'output_coolr.dat')\n",
    "\n",
    "DS_FLUX = load_output_file(PATH_FLUX)\n",
    "DS_COOL = load_output_file(PATH_COOL)"
   ]
  },
  {
   "cell_type": "code",
   "execution_count": 7,
   "metadata": {
    "collapsed": true
   },
   "outputs": [
    {
     "data": {
      "text/html": [
       "\n",
       "    <div class=\"bk-root\">\n",
       "        <a href=\"https://bokeh.pydata.org\" target=\"_blank\" class=\"bk-logo bk-logo-small bk-logo-notebook\"></a>\n",
       "        <span id=\"a3124683-9a70-4d18-9fe5-546c26ecd3e0\">Loading BokehJS ...</span>\n",
       "    </div>"
      ]
     },
     "metadata": {},
     "output_type": "display_data"
    },
    {
     "data": {
      "application/javascript": [
       "\n",
       "(function(root) {\n",
       "  function now() {\n",
       "    return new Date();\n",
       "  }\n",
       "\n",
       "  var force = true;\n",
       "\n",
       "  if (typeof (root._bokeh_onload_callbacks) === \"undefined\" || force === true) {\n",
       "    root._bokeh_onload_callbacks = [];\n",
       "    root._bokeh_is_loading = undefined;\n",
       "  }\n",
       "\n",
       "  var JS_MIME_TYPE = 'application/javascript';\n",
       "  var HTML_MIME_TYPE = 'text/html';\n",
       "  var EXEC_MIME_TYPE = 'application/vnd.bokehjs_exec.v0+json';\n",
       "  var CLASS_NAME = 'output_bokeh rendered_html';\n",
       "\n",
       "  /**\n",
       "   * Render data to the DOM node\n",
       "   */\n",
       "  function render(props, node) {\n",
       "    var script = document.createElement(\"script\");\n",
       "    node.appendChild(script);\n",
       "  }\n",
       "\n",
       "  /**\n",
       "   * Handle when an output is cleared or removed\n",
       "   */\n",
       "  function handleClearOutput(event, handle) {\n",
       "    var cell = handle.cell;\n",
       "\n",
       "    var id = cell.output_area._bokeh_element_id;\n",
       "    var server_id = cell.output_area._bokeh_server_id;\n",
       "    // Clean up Bokeh references\n",
       "    if (id !== undefined) {\n",
       "      Bokeh.index[id].model.document.clear();\n",
       "      delete Bokeh.index[id];\n",
       "    }\n",
       "\n",
       "    if (server_id !== undefined) {\n",
       "      // Clean up Bokeh references\n",
       "      var cmd = \"from bokeh.io.state import curstate; print(curstate().uuid_to_server['\" + server_id + \"'].get_sessions()[0].document.roots[0]._id)\";\n",
       "      cell.notebook.kernel.execute(cmd, {\n",
       "        iopub: {\n",
       "          output: function(msg) {\n",
       "            var element_id = msg.content.text.trim();\n",
       "            Bokeh.index[element_id].model.document.clear();\n",
       "            delete Bokeh.index[element_id];\n",
       "          }\n",
       "        }\n",
       "      });\n",
       "      // Destroy server and session\n",
       "      var cmd = \"import bokeh.io.notebook as ion; ion.destroy_server('\" + server_id + \"')\";\n",
       "      cell.notebook.kernel.execute(cmd);\n",
       "    }\n",
       "  }\n",
       "\n",
       "  /**\n",
       "   * Handle when a new output is added\n",
       "   */\n",
       "  function handleAddOutput(event, handle) {\n",
       "    var output_area = handle.output_area;\n",
       "    var output = handle.output;\n",
       "\n",
       "    // limit handleAddOutput to display_data with EXEC_MIME_TYPE content only\n",
       "    if ((output.output_type != \"display_data\") || (!output.data.hasOwnProperty(EXEC_MIME_TYPE))) {\n",
       "      return\n",
       "    }\n",
       "\n",
       "    var toinsert = output_area.element.find(\".\" + CLASS_NAME.split(' ')[0]);\n",
       "\n",
       "    if (output.metadata[EXEC_MIME_TYPE][\"id\"] !== undefined) {\n",
       "      toinsert[toinsert.length - 1].firstChild.textContent = output.data[JS_MIME_TYPE];\n",
       "      // store reference to embed id on output_area\n",
       "      output_area._bokeh_element_id = output.metadata[EXEC_MIME_TYPE][\"id\"];\n",
       "    }\n",
       "    if (output.metadata[EXEC_MIME_TYPE][\"server_id\"] !== undefined) {\n",
       "      var bk_div = document.createElement(\"div\");\n",
       "      bk_div.innerHTML = output.data[HTML_MIME_TYPE];\n",
       "      var script_attrs = bk_div.children[0].attributes;\n",
       "      for (var i = 0; i < script_attrs.length; i++) {\n",
       "        toinsert[toinsert.length - 1].firstChild.setAttribute(script_attrs[i].name, script_attrs[i].value);\n",
       "      }\n",
       "      // store reference to server id on output_area\n",
       "      output_area._bokeh_server_id = output.metadata[EXEC_MIME_TYPE][\"server_id\"];\n",
       "    }\n",
       "  }\n",
       "\n",
       "  function register_renderer(events, OutputArea) {\n",
       "\n",
       "    function append_mime(data, metadata, element) {\n",
       "      // create a DOM node to render to\n",
       "      var toinsert = this.create_output_subarea(\n",
       "        metadata,\n",
       "        CLASS_NAME,\n",
       "        EXEC_MIME_TYPE\n",
       "      );\n",
       "      this.keyboard_manager.register_events(toinsert);\n",
       "      // Render to node\n",
       "      var props = {data: data, metadata: metadata[EXEC_MIME_TYPE]};\n",
       "      render(props, toinsert[toinsert.length - 1]);\n",
       "      element.append(toinsert);\n",
       "      return toinsert\n",
       "    }\n",
       "\n",
       "    /* Handle when an output is cleared or removed */\n",
       "    events.on('clear_output.CodeCell', handleClearOutput);\n",
       "    events.on('delete.Cell', handleClearOutput);\n",
       "\n",
       "    /* Handle when a new output is added */\n",
       "    events.on('output_added.OutputArea', handleAddOutput);\n",
       "\n",
       "    /**\n",
       "     * Register the mime type and append_mime function with output_area\n",
       "     */\n",
       "    OutputArea.prototype.register_mime_type(EXEC_MIME_TYPE, append_mime, {\n",
       "      /* Is output safe? */\n",
       "      safe: true,\n",
       "      /* Index of renderer in `output_area.display_order` */\n",
       "      index: 0\n",
       "    });\n",
       "  }\n",
       "\n",
       "  // register the mime type if in Jupyter Notebook environment and previously unregistered\n",
       "  if (root.Jupyter !== undefined) {\n",
       "    var events = require('base/js/events');\n",
       "    var OutputArea = require('notebook/js/outputarea').OutputArea;\n",
       "\n",
       "    if (OutputArea.prototype.mime_types().indexOf(EXEC_MIME_TYPE) == -1) {\n",
       "      register_renderer(events, OutputArea);\n",
       "    }\n",
       "  }\n",
       "\n",
       "  \n",
       "  if (typeof (root._bokeh_timeout) === \"undefined\" || force === true) {\n",
       "    root._bokeh_timeout = Date.now() + 5000;\n",
       "    root._bokeh_failed_load = false;\n",
       "  }\n",
       "\n",
       "  var NB_LOAD_WARNING = {'data': {'text/html':\n",
       "     \"<div style='background-color: #fdd'>\\n\"+\n",
       "     \"<p>\\n\"+\n",
       "     \"BokehJS does not appear to have successfully loaded. If loading BokehJS from CDN, this \\n\"+\n",
       "     \"may be due to a slow or bad network connection. Possible fixes:\\n\"+\n",
       "     \"</p>\\n\"+\n",
       "     \"<ul>\\n\"+\n",
       "     \"<li>re-rerun `output_notebook()` to attempt to load from CDN again, or</li>\\n\"+\n",
       "     \"<li>use INLINE resources instead, as so:</li>\\n\"+\n",
       "     \"</ul>\\n\"+\n",
       "     \"<code>\\n\"+\n",
       "     \"from bokeh.resources import INLINE\\n\"+\n",
       "     \"output_notebook(resources=INLINE)\\n\"+\n",
       "     \"</code>\\n\"+\n",
       "     \"</div>\"}};\n",
       "\n",
       "  function display_loaded() {\n",
       "    var el = document.getElementById(\"a3124683-9a70-4d18-9fe5-546c26ecd3e0\");\n",
       "    if (el != null) {\n",
       "      el.textContent = \"BokehJS is loading...\";\n",
       "    }\n",
       "    if (root.Bokeh !== undefined) {\n",
       "      if (el != null) {\n",
       "        el.textContent = \"BokehJS \" + root.Bokeh.version + \" successfully loaded.\";\n",
       "      }\n",
       "    } else if (Date.now() < root._bokeh_timeout) {\n",
       "      setTimeout(display_loaded, 100)\n",
       "    }\n",
       "  }\n",
       "\n",
       "\n",
       "  function run_callbacks() {\n",
       "    try {\n",
       "      root._bokeh_onload_callbacks.forEach(function(callback) { callback() });\n",
       "    }\n",
       "    finally {\n",
       "      delete root._bokeh_onload_callbacks\n",
       "    }\n",
       "    console.info(\"Bokeh: all callbacks have finished\");\n",
       "  }\n",
       "\n",
       "  function load_libs(js_urls, callback) {\n",
       "    root._bokeh_onload_callbacks.push(callback);\n",
       "    if (root._bokeh_is_loading > 0) {\n",
       "      console.log(\"Bokeh: BokehJS is being loaded, scheduling callback at\", now());\n",
       "      return null;\n",
       "    }\n",
       "    if (js_urls == null || js_urls.length === 0) {\n",
       "      run_callbacks();\n",
       "      return null;\n",
       "    }\n",
       "    console.log(\"Bokeh: BokehJS not loaded, scheduling load and callback at\", now());\n",
       "    root._bokeh_is_loading = js_urls.length;\n",
       "    for (var i = 0; i < js_urls.length; i++) {\n",
       "      var url = js_urls[i];\n",
       "      var s = document.createElement('script');\n",
       "      s.src = url;\n",
       "      s.async = false;\n",
       "      s.onreadystatechange = s.onload = function() {\n",
       "        root._bokeh_is_loading--;\n",
       "        if (root._bokeh_is_loading === 0) {\n",
       "          console.log(\"Bokeh: all BokehJS libraries loaded\");\n",
       "          run_callbacks()\n",
       "        }\n",
       "      };\n",
       "      s.onerror = function() {\n",
       "        console.warn(\"failed to load library \" + url);\n",
       "      };\n",
       "      console.log(\"Bokeh: injecting script tag for BokehJS library: \", url);\n",
       "      document.getElementsByTagName(\"head\")[0].appendChild(s);\n",
       "    }\n",
       "  };var element = document.getElementById(\"a3124683-9a70-4d18-9fe5-546c26ecd3e0\");\n",
       "  if (element == null) {\n",
       "    console.log(\"Bokeh: ERROR: autoload.js configured with elementid 'a3124683-9a70-4d18-9fe5-546c26ecd3e0' but no matching script tag was found. \")\n",
       "    return false;\n",
       "  }\n",
       "\n",
       "  var js_urls = [\"https://cdn.pydata.org/bokeh/release/bokeh-0.12.16.min.js\", \"https://cdn.pydata.org/bokeh/release/bokeh-widgets-0.12.16.min.js\", \"https://cdn.pydata.org/bokeh/release/bokeh-tables-0.12.16.min.js\", \"https://cdn.pydata.org/bokeh/release/bokeh-gl-0.12.16.min.js\"];\n",
       "\n",
       "  var inline_js = [\n",
       "    function(Bokeh) {\n",
       "      Bokeh.set_log_level(\"info\");\n",
       "    },\n",
       "    \n",
       "    function(Bokeh) {\n",
       "      \n",
       "    },\n",
       "    function(Bokeh) {\n",
       "      console.log(\"Bokeh: injecting CSS: https://cdn.pydata.org/bokeh/release/bokeh-0.12.16.min.css\");\n",
       "      Bokeh.embed.inject_css(\"https://cdn.pydata.org/bokeh/release/bokeh-0.12.16.min.css\");\n",
       "      console.log(\"Bokeh: injecting CSS: https://cdn.pydata.org/bokeh/release/bokeh-widgets-0.12.16.min.css\");\n",
       "      Bokeh.embed.inject_css(\"https://cdn.pydata.org/bokeh/release/bokeh-widgets-0.12.16.min.css\");\n",
       "      console.log(\"Bokeh: injecting CSS: https://cdn.pydata.org/bokeh/release/bokeh-tables-0.12.16.min.css\");\n",
       "      Bokeh.embed.inject_css(\"https://cdn.pydata.org/bokeh/release/bokeh-tables-0.12.16.min.css\");\n",
       "    }\n",
       "  ];\n",
       "\n",
       "  function run_inline_js() {\n",
       "    \n",
       "    if ((root.Bokeh !== undefined) || (force === true)) {\n",
       "      for (var i = 0; i < inline_js.length; i++) {\n",
       "        inline_js[i].call(root, root.Bokeh);\n",
       "      }if (force === true) {\n",
       "        display_loaded();\n",
       "      }} else if (Date.now() < root._bokeh_timeout) {\n",
       "      setTimeout(run_inline_js, 100);\n",
       "    } else if (!root._bokeh_failed_load) {\n",
       "      console.log(\"Bokeh: BokehJS failed to load within specified timeout.\");\n",
       "      root._bokeh_failed_load = true;\n",
       "    } else if (force !== true) {\n",
       "      var cell = $(document.getElementById(\"a3124683-9a70-4d18-9fe5-546c26ecd3e0\")).parents('.cell').data().cell;\n",
       "      cell.output_area.append_execute_result(NB_LOAD_WARNING)\n",
       "    }\n",
       "\n",
       "  }\n",
       "\n",
       "  if (root._bokeh_is_loading === 0) {\n",
       "    console.log(\"Bokeh: BokehJS loaded, going straight to plotting\");\n",
       "    run_inline_js();\n",
       "  } else {\n",
       "    load_libs(js_urls, function() {\n",
       "      console.log(\"Bokeh: BokehJS plotting callback run at\", now());\n",
       "      run_inline_js();\n",
       "    });\n",
       "  }\n",
       "}(window));"
      ],
      "application/vnd.bokehjs_load.v0+json": "\n(function(root) {\n  function now() {\n    return new Date();\n  }\n\n  var force = true;\n\n  if (typeof (root._bokeh_onload_callbacks) === \"undefined\" || force === true) {\n    root._bokeh_onload_callbacks = [];\n    root._bokeh_is_loading = undefined;\n  }\n\n  \n\n  \n  if (typeof (root._bokeh_timeout) === \"undefined\" || force === true) {\n    root._bokeh_timeout = Date.now() + 5000;\n    root._bokeh_failed_load = false;\n  }\n\n  var NB_LOAD_WARNING = {'data': {'text/html':\n     \"<div style='background-color: #fdd'>\\n\"+\n     \"<p>\\n\"+\n     \"BokehJS does not appear to have successfully loaded. If loading BokehJS from CDN, this \\n\"+\n     \"may be due to a slow or bad network connection. Possible fixes:\\n\"+\n     \"</p>\\n\"+\n     \"<ul>\\n\"+\n     \"<li>re-rerun `output_notebook()` to attempt to load from CDN again, or</li>\\n\"+\n     \"<li>use INLINE resources instead, as so:</li>\\n\"+\n     \"</ul>\\n\"+\n     \"<code>\\n\"+\n     \"from bokeh.resources import INLINE\\n\"+\n     \"output_notebook(resources=INLINE)\\n\"+\n     \"</code>\\n\"+\n     \"</div>\"}};\n\n  function display_loaded() {\n    var el = document.getElementById(\"a3124683-9a70-4d18-9fe5-546c26ecd3e0\");\n    if (el != null) {\n      el.textContent = \"BokehJS is loading...\";\n    }\n    if (root.Bokeh !== undefined) {\n      if (el != null) {\n        el.textContent = \"BokehJS \" + root.Bokeh.version + \" successfully loaded.\";\n      }\n    } else if (Date.now() < root._bokeh_timeout) {\n      setTimeout(display_loaded, 100)\n    }\n  }\n\n\n  function run_callbacks() {\n    try {\n      root._bokeh_onload_callbacks.forEach(function(callback) { callback() });\n    }\n    finally {\n      delete root._bokeh_onload_callbacks\n    }\n    console.info(\"Bokeh: all callbacks have finished\");\n  }\n\n  function load_libs(js_urls, callback) {\n    root._bokeh_onload_callbacks.push(callback);\n    if (root._bokeh_is_loading > 0) {\n      console.log(\"Bokeh: BokehJS is being loaded, scheduling callback at\", now());\n      return null;\n    }\n    if (js_urls == null || js_urls.length === 0) {\n      run_callbacks();\n      return null;\n    }\n    console.log(\"Bokeh: BokehJS not loaded, scheduling load and callback at\", now());\n    root._bokeh_is_loading = js_urls.length;\n    for (var i = 0; i < js_urls.length; i++) {\n      var url = js_urls[i];\n      var s = document.createElement('script');\n      s.src = url;\n      s.async = false;\n      s.onreadystatechange = s.onload = function() {\n        root._bokeh_is_loading--;\n        if (root._bokeh_is_loading === 0) {\n          console.log(\"Bokeh: all BokehJS libraries loaded\");\n          run_callbacks()\n        }\n      };\n      s.onerror = function() {\n        console.warn(\"failed to load library \" + url);\n      };\n      console.log(\"Bokeh: injecting script tag for BokehJS library: \", url);\n      document.getElementsByTagName(\"head\")[0].appendChild(s);\n    }\n  };var element = document.getElementById(\"a3124683-9a70-4d18-9fe5-546c26ecd3e0\");\n  if (element == null) {\n    console.log(\"Bokeh: ERROR: autoload.js configured with elementid 'a3124683-9a70-4d18-9fe5-546c26ecd3e0' but no matching script tag was found. \")\n    return false;\n  }\n\n  var js_urls = [\"https://cdn.pydata.org/bokeh/release/bokeh-0.12.16.min.js\", \"https://cdn.pydata.org/bokeh/release/bokeh-widgets-0.12.16.min.js\", \"https://cdn.pydata.org/bokeh/release/bokeh-tables-0.12.16.min.js\", \"https://cdn.pydata.org/bokeh/release/bokeh-gl-0.12.16.min.js\"];\n\n  var inline_js = [\n    function(Bokeh) {\n      Bokeh.set_log_level(\"info\");\n    },\n    \n    function(Bokeh) {\n      \n    },\n    function(Bokeh) {\n      console.log(\"Bokeh: injecting CSS: https://cdn.pydata.org/bokeh/release/bokeh-0.12.16.min.css\");\n      Bokeh.embed.inject_css(\"https://cdn.pydata.org/bokeh/release/bokeh-0.12.16.min.css\");\n      console.log(\"Bokeh: injecting CSS: https://cdn.pydata.org/bokeh/release/bokeh-widgets-0.12.16.min.css\");\n      Bokeh.embed.inject_css(\"https://cdn.pydata.org/bokeh/release/bokeh-widgets-0.12.16.min.css\");\n      console.log(\"Bokeh: injecting CSS: https://cdn.pydata.org/bokeh/release/bokeh-tables-0.12.16.min.css\");\n      Bokeh.embed.inject_css(\"https://cdn.pydata.org/bokeh/release/bokeh-tables-0.12.16.min.css\");\n    }\n  ];\n\n  function run_inline_js() {\n    \n    if ((root.Bokeh !== undefined) || (force === true)) {\n      for (var i = 0; i < inline_js.length; i++) {\n        inline_js[i].call(root, root.Bokeh);\n      }if (force === true) {\n        display_loaded();\n      }} else if (Date.now() < root._bokeh_timeout) {\n      setTimeout(run_inline_js, 100);\n    } else if (!root._bokeh_failed_load) {\n      console.log(\"Bokeh: BokehJS failed to load within specified timeout.\");\n      root._bokeh_failed_load = true;\n    } else if (force !== true) {\n      var cell = $(document.getElementById(\"a3124683-9a70-4d18-9fe5-546c26ecd3e0\")).parents('.cell').data().cell;\n      cell.output_area.append_execute_result(NB_LOAD_WARNING)\n    }\n\n  }\n\n  if (root._bokeh_is_loading === 0) {\n    console.log(\"Bokeh: BokehJS loaded, going straight to plotting\");\n    run_inline_js();\n  } else {\n    load_libs(js_urls, function() {\n      console.log(\"Bokeh: BokehJS plotting callback run at\", now());\n      run_inline_js();\n    });\n  }\n}(window));"
     },
     "metadata": {},
     "output_type": "display_data"
    }
   ],
   "source": [
    "output_notebook()"
   ]
  },
  {
   "cell_type": "code",
   "execution_count": 8,
   "metadata": {
    "collapsed": true
   },
   "outputs": [],
   "source": [
    "def fmt_cool(ds_in):\n",
    "    ds = ds_in.copy(deep=True)\n",
    "    if 'igg' in ds.dims:\n",
    "        ds = ds.sel(igg=1)\n",
    "\n",
    "    if 'g' in ds.dims:\n",
    "        ds = ds.sum('g')\n",
    "            \n",
    "    if 'band' in ds.dims:\n",
    "        try:\n",
    "            ds = ds.squeeze('band')\n",
    "        except ValueError:\n",
    "            ds = ds.sum('band')\n",
    "                \n",
    "    return ds['coolrg']\n",
    "\n",
    "\n",
    "def pltdata_cooling_1(ds_cool=None,\n",
    "                      ds_cool_crd=None, ds_cool_wgt=None):\n",
    "    \n",
    "\n",
    "\n",
    "    colors = all_palettes['Set1'][4]\n",
    "    data = [{'label': 'CLIRAD `coolr_bands`',\n",
    "             'srs': fmt_cool(ds_cool),\n",
    "             'line_dash': 'dashed', 'line_width': 5,\n",
    "             'color': colors[0], 'alpha': .6},\n",
    "            {'label': 'CRD',\n",
    "             'srs': fmt_cool(ds_cool_crd),\n",
    "             'line_dash': 'solid', 'line_width': 1.5,\n",
    "             'marker': 'circle', 'marker_size': 5,\n",
    "             'color': colors[2], 'alpha': 1,},\n",
    "            {'label': 'WGT igg=10 wgt_flux=2',\n",
    "             'srs': fmt_cool(ds_cool_wgt),\n",
    "             'line_dash': 'solid', 'line_width': 3,\n",
    "             'marker': 'square', 'marker_size': 5,\n",
    "             'color': colors[3], 'alpha': .6}]\n",
    "    return data\n",
    "\n",
    "\n",
    "def nice_xlims(pltdata=None, prange=None):\n",
    "    \n",
    "    def get_slice(srs):\n",
    "        return srs.sel(pressure=slice(*prange))\n",
    "    \n",
    "    srss = [d['srs'] for d in pltdata]\n",
    "    vmin = min([get_slice(srs).min() for srs in srss])\n",
    "    vmax = max([get_slice(srs).max() for srs in srss])\n",
    "    dv = (vmax - vmin) * .01\n",
    "    return float(vmin - dv), float(vmax + dv)\n",
    "    \n",
    "\n",
    "def plt_cooling_bokeh(pltdata=None):\n",
    "    '''\n",
    "    Plot a list of cooling rate profiles using bokeh.\n",
    "    '''\n",
    "    ymin = 1e-2 \n",
    "    ymax = 1020 \n",
    "        \n",
    "    p1 = figure(title=\"Linear pressure scale\", \n",
    "                plot_width=400)        \n",
    "    xmin, xmax = nice_xlims(pltdata, prange=(50, 1050))\n",
    "    for d in pltdata:\n",
    "        if 'marker' in d:\n",
    "            getattr(p1, d['marker'])(d['srs'].values, \n",
    "                    d['srs'].coords['pressure'].values,\n",
    "                    color=d['color'], alpha=.7)\n",
    "        p1.line(d['srs'].values, \n",
    "                d['srs'].coords['pressure'].values,\n",
    "                color=d['color'], alpha=d['alpha'], \n",
    "                line_width=d['line_width'], line_dash=d['line_dash'])\n",
    "    \n",
    "    p1.y_range = Range1d(ymax, ymin)\n",
    "    p1.yaxis.axis_label = 'pressure [mb]'   \n",
    "    p1.x_range = Range1d(xmin, xmax)\n",
    "    p1.xaxis.axis_label = 'cooling rate [K/day]'\n",
    "            \n",
    "    p2 = figure(title='Log pressure scale', y_axis_type='log',\n",
    "                plot_width=560)\n",
    "    xmin, xmax = nice_xlims(pltdata, prange=(.01, 200))\n",
    "    \n",
    "    rs = []\n",
    "    for d in pltdata:\n",
    "        rd = []\n",
    "        if 'marker' in d:\n",
    "            r_mark = getattr(p2, d['marker'])(d['srs'].values, \n",
    "                        d['srs'].coords['pressure'].values,\n",
    "                        color=d['color'], alpha=.7)\n",
    "            rd.append(r_mark)\n",
    "        r_line = p2.line(d['srs'].values, \n",
    "                    d['srs'].coords['pressure'].values,\n",
    "                    color=d['color'], alpha=d['alpha'], \n",
    "                    line_width=d['line_width'], line_dash=d['line_dash'])\n",
    "        rd.append(r_line)\n",
    "      \n",
    "        rs.append(rd)\n",
    "        \n",
    "    p2.y_range = Range1d(ymax, ymin)  \n",
    "    p2.yaxis.axis_label = 'pressure [mb]'\n",
    "    \n",
    "    p2.x_range = Range1d(xmin, xmax)\n",
    "    p2.xaxis.axis_label = 'cooling rate [K/day]'\n",
    "    \n",
    "    items = [(d['label'], r) for r, d in zip(rs, pltdata)]\n",
    "    legend = Legend(items=items, location=(10, -30))\n",
    "    legend.label_text_font_size = '8pt'\n",
    "    \n",
    "    p2.add_layout(legend, 'right')  \n",
    "    \n",
    "    show(gridplot(p1, p2, ncols=2, plot_height=500))\n",
    "    \n",
    "\n",
    "def script_plt_cooling():\n",
    "    pltdata = pltdata_cooling_1(\n",
    "        ds_cool=DS_COOL,\n",
    "        ds_cool_crd=DS_COOL_CRD,\n",
    "        ds_cool_wgt=DS_COOL_WGT)\n",
    "    plt_cooling_bokeh(pltdata=pltdata)\n",
    "    print('''FIGURE. Cooling rate profiles.''')"
   ]
  },
  {
   "cell_type": "code",
   "execution_count": 9,
   "metadata": {
    "collapsed": true
   },
   "outputs": [],
   "source": [
    "def fmt_flux(ds_in):\n",
    "    ds = ds_in.copy(deep=True)\n",
    "    \n",
    "    for l in ('level', 'layer'):\n",
    "        if l in ds.data_vars:\n",
    "            if len(ds[l].dims) > 1:\n",
    "                surface = {d: 0 for d in ds.dims if d != 'pressure'}\n",
    "                coord_level = ds[l][surface]\n",
    "                ds.coords[l] = ('pressure', coord_level)\n",
    "            else:\n",
    "                ds.coords[l] = ('pressure', ds[l])\n",
    "        \n",
    "    ds = ds.isel(pressure=[0, 23, -1])\n",
    "        \n",
    "    if 'igg' in ds.dims:\n",
    "        ds = ds.sel(igg=[1])\n",
    "        ds = ds.squeeze('igg').drop('igg')\n",
    "    \n",
    "    if 'g' in ds.dims:\n",
    "        ds = ds.sum('g')\n",
    "            \n",
    "    if 'band' in ds.dims:\n",
    "        try:\n",
    "            ds = ds.squeeze('band').drop('band')\n",
    "        except ValueError:\n",
    "            ds = ds.sum('band')\n",
    "                \n",
    "    df = ds.to_dataframe()\n",
    "    df = df.set_index('level', append=True)               \n",
    "    return df\n",
    "\n",
    "\n",
    "def tbdata_flux(ds_flux=None, ds_flux_crd=None, ds_flux_wgt=None):\n",
    "    ilevels = [0, 23, -1]\n",
    "            \n",
    "    benchmark = {'label': 'CRD',\n",
    "                 'df': fmt_flux(ds_flux_crd)}\n",
    "    \n",
    "    tbs = [{'label': 'WGT igg=10 wgt_flux=1',\n",
    "            'df': fmt_flux(ds_flux_wgt)},\n",
    "           {'label': 'CLIRAD',\n",
    "            'df': fmt_flux(ds_flux)}]\n",
    "    \n",
    "    data = {'benchmark': benchmark, 'others': tbs}\n",
    "    return data\n",
    "\n",
    "\n",
    "def tb_flux(tbdata=None):\n",
    "    benchmark = tbdata['benchmark']\n",
    "    others = tbdata['others']\n",
    "    \n",
    "    def show_tb(d=None):\n",
    "        display.display(d['df'])\n",
    "        print('Table.', 'Fluxes.', d['label'])\n",
    "        \n",
    "    def show_tbdiff(d0=None, d=None):\n",
    "        df = d['df']\n",
    "        df.index = d0['df'].index\n",
    "        display.display(df - d0['df'])\n",
    "        print('Table.', 'Fluxes.', \n",
    "              '({}) - ({})'.format(d['label'], d0['label']))\n",
    "        \n",
    "    show_tb(benchmark)\n",
    "    for d in others:\n",
    "        show_tb(d)\n",
    "        \n",
    "    for d in others:\n",
    "        show_tbdiff(d=d, d0=benchmark)\n",
    "        \n",
    "        \n",
    "def script_tb_flux():\n",
    "    data = tbdata_flux(ds_flux=DS_FLUX,\n",
    "                       ds_flux_crd=DS_FLUX_CRD,\n",
    "                       ds_flux_wgt=DS_FLUX_WGT)\n",
    "    tb_flux(tbdata=data)"
   ]
  },
  {
   "cell_type": "code",
   "execution_count": 10,
   "metadata": {
    "collapsed": true
   },
   "outputs": [],
   "source": [
    "def band_map():\n",
    "    '''\n",
    "    Maps spectral bands in lblnew to spectral bands in clirad.\n",
    "    '''\n",
    "    lblnew2clirad = {'1': '1',\n",
    "            '2': '2',\n",
    "            '3a': '3',\n",
    "            '3b': '4',\n",
    "            '3c': '5',\n",
    "            '4': '6', \n",
    "            '5': '7',\n",
    "            '6': '8',\n",
    "            '7': '9', \n",
    "            '8': '10',\n",
    "            '9': '11'}\n",
    "    \n",
    "    clirad2lblnew = {clirad: lblnew \n",
    "                     for lblnew, clirad in lblnew2clirad.items()}\n",
    "    return clirad2lblnew\n",
    "\n",
    "\n",
    "def gasbands():\n",
    "    bmap = band_map()\n",
    "    gases = list(PARAM['molecule'].keys())\n",
    "    \n",
    "    bands = [bmap[str(b)] for b in PARAM['band']]\n",
    "    return list(itertools.product(gases, bands))\n",
    "\n",
    "\n",
    "def print_bestfit_params():\n",
    "    print('Best-fit values for each (gas, band)')\n",
    "    print('------------------------------------')\n",
    "    for gas, band in gasbands():\n",
    "        print('o {} band{}'.format(gas, band))\n",
    "        param = bestfits.kdist_params(molecule=gas, band=band)\n",
    "        for name, value in sorted(param.items()):\n",
    "            print(2 * ' ' + '{} = {}'.format(name, value))\n",
    "\n",
    "        \n",
    "def print_input_param():        \n",
    "    for name, value in PARAM.items():\n",
    "        print('{} = {}'.format(name, value))\n",
    "        \n",
    "        \n",
    "def print_lblnew_param():\n",
    "    for name, value in sorted(PARAM_LBLNEW.items()):\n",
    "        print('{} = {}'.format(name, value))\n"
   ]
  },
  {
   "cell_type": "code",
   "execution_count": 11,
   "metadata": {
    "collapsed": true,
    "scrolled": false
   },
   "outputs": [],
   "source": [
    "def show_html(s):\n",
    "    display.display(display.HTML(s))\n",
    "\n",
    "    \n",
    "def show_markdown(s):\n",
    "    display.display(display.Markdown(s))\n",
    "\n",
    "    \n",
    "def script():\n",
    "    \n",
    "    title = '### CLIRAD-LW'\n",
    "    s_input = 'Input Parameters'\n",
    "    s_lblnew_param = 'LBLNEW case compaired against'\n",
    "    s_bestfits = 'Best-fit Parameters'\n",
    "    s_plt_cooling = 'Cooling Rate Profiles'\n",
    "    s_tb_flux = 'Flux Comparison'\n",
    "    \n",
    "    # title\n",
    "    show_markdown('### CLIRAD-LW')\n",
    "    \n",
    "    # TOC\n",
    "    show_markdown('### Table of Contents')\n",
    "    show_html(climahtml.getHTML_hrefanchor(s_input))\n",
    "    show_html(climahtml.getHTML_hrefanchor(s_lblnew_param))\n",
    "    show_html(climahtml.getHTML_hrefanchor(s_plt_cooling))\n",
    "    show_html(climahtml.getHTML_hrefanchor(s_tb_flux))\n",
    "    show_html(climahtml.getHTML_hrefanchor(s_bestfits))\n",
    "    \n",
    "    # Input parameters\n",
    "    show_html(climahtml.getHTML_idanchor(s_input))\n",
    "    show_markdown(climahtml.getMarkdown_sectitle(s_input))\n",
    "    print_input_param()\n",
    "    \n",
    "    # LBLNEW parameters \n",
    "    show_html(climahtml.getHTML_idanchor(s_lblnew_param))\n",
    "    show_markdown(climahtml.getMarkdown_sectitle(s_lblnew_param))\n",
    "    print_lblnew_param()\n",
    "    \n",
    "    # Cooling rate profiles\n",
    "    show_html(climahtml.getHTML_idanchor(s_plt_cooling))\n",
    "    show_markdown(climahtml.getMarkdown_sectitle(s_plt_cooling))\n",
    "    script_plt_cooling()\n",
    "    \n",
    "    # Flux comparison\n",
    "    show_html(climahtml.getHTML_idanchor(s_tb_flux))\n",
    "    show_markdown(climahtml.getMarkdown_sectitle(s_tb_flux))\n",
    "    script_tb_flux()\n",
    "    \n",
    "    # Best-fit values\n",
    "    show_html(climahtml.getHTML_idanchor(s_bestfits))\n",
    "    show_markdown(climahtml.getMarkdown_sectitle(s_bestfits))\n",
    "    print_bestfit_params()\n",
    "   \n",
    "    "
   ]
  },
  {
   "cell_type": "code",
   "execution_count": 12,
   "metadata": {
    "collapsed": true,
    "scrolled": false
   },
   "outputs": [
    {
     "data": {
      "text/markdown": [
       "### CLIRAD-LW"
      ],
      "text/plain": [
       "<IPython.core.display.Markdown object>"
      ]
     },
     "metadata": {},
     "output_type": "display_data"
    },
    {
     "data": {
      "text/markdown": [
       "### Table of Contents"
      ],
      "text/plain": [
       "<IPython.core.display.Markdown object>"
      ]
     },
     "metadata": {},
     "output_type": "display_data"
    },
    {
     "data": {
      "text/html": [
       "<a href=\"#Input_Parameters\">Input Parameters</a>"
      ],
      "text/plain": [
       "<IPython.core.display.HTML object>"
      ]
     },
     "metadata": {},
     "output_type": "display_data"
    },
    {
     "data": {
      "text/html": [
       "<a href=\"#LBLNEW_case_compaired_against\">LBLNEW case compaired against</a>"
      ],
      "text/plain": [
       "<IPython.core.display.HTML object>"
      ]
     },
     "metadata": {},
     "output_type": "display_data"
    },
    {
     "data": {
      "text/html": [
       "<a href=\"#Cooling_Rate_Profiles\">Cooling Rate Profiles</a>"
      ],
      "text/plain": [
       "<IPython.core.display.HTML object>"
      ]
     },
     "metadata": {},
     "output_type": "display_data"
    },
    {
     "data": {
      "text/html": [
       "<a href=\"#Flux_Comparison\">Flux Comparison</a>"
      ],
      "text/plain": [
       "<IPython.core.display.HTML object>"
      ]
     },
     "metadata": {},
     "output_type": "display_data"
    },
    {
     "data": {
      "text/html": [
       "<a href=\"#Best-fit_Parameters\">Best-fit Parameters</a>"
      ],
      "text/plain": [
       "<IPython.core.display.HTML object>"
      ]
     },
     "metadata": {},
     "output_type": "display_data"
    },
    {
     "data": {
      "text/html": [
       "<a id=\"Input_Parameters\"></a>"
      ],
      "text/plain": [
       "<IPython.core.display.HTML object>"
      ]
     },
     "metadata": {},
     "output_type": "display_data"
    },
    {
     "data": {
      "text/markdown": [
       "# Input Parameters"
      ],
      "text/plain": [
       "<IPython.core.display.Markdown object>"
      ]
     },
     "metadata": {},
     "output_type": "display_data"
    },
    {
     "name": "stdout",
     "output_type": "stream",
     "text": [
      "atmpro = saw\n",
      "band = [7]\n",
      "commitnumber = de5d43e\n",
      "molecule = {'h2o': 'atmpro'}\n",
      "tsfc = 257\n"
     ]
    },
    {
     "data": {
      "text/html": [
       "<a id=\"LBLNEW_case_compaired_against\"></a>"
      ],
      "text/plain": [
       "<IPython.core.display.HTML object>"
      ]
     },
     "metadata": {},
     "output_type": "display_data"
    },
    {
     "data": {
      "text/markdown": [
       "# LBLNEW case compaired against"
      ],
      "text/plain": [
       "<IPython.core.display.Markdown object>"
      ]
     },
     "metadata": {},
     "output_type": "display_data"
    },
    {
     "name": "stdout",
     "output_type": "stream",
     "text": [
      "atmpro = saw\n",
      "band = 5\n",
      "commitnumber = 5014a19\n",
      "conc = None\n",
      "dv = 0.001\n",
      "klin = 1e-24\n",
      "molecule = h2o\n",
      "ng_adju = [0]\n",
      "ng_refs = [3]\n",
      "nv = 1000\n",
      "option_compute_btable = 0\n",
      "option_compute_ktable = 0\n",
      "option_wgt_flux = 1\n",
      "option_wgt_k = 1\n",
      "ref_pts = [(600, 250)]\n",
      "tsfc = 257\n",
      "vmax = 1100\n",
      "vmin = 980\n",
      "w_diffuse = [(1.66, 1.66, 1.8)]\n",
      "wgt = [(0.5, 0.55, 0.9)]\n"
     ]
    },
    {
     "data": {
      "text/html": [
       "<a id=\"Cooling_Rate_Profiles\"></a>"
      ],
      "text/plain": [
       "<IPython.core.display.HTML object>"
      ]
     },
     "metadata": {},
     "output_type": "display_data"
    },
    {
     "data": {
      "text/markdown": [
       "# Cooling Rate Profiles"
      ],
      "text/plain": [
       "<IPython.core.display.Markdown object>"
      ]
     },
     "metadata": {},
     "output_type": "display_data"
    },
    {
     "data": {
      "text/html": [
       "\n",
       "<div class=\"bk-root\">\n",
       "    <div class=\"bk-plotdiv\" id=\"4fd7159a-5975-490e-ba0a-c0f67091e35b\"></div>\n",
       "</div>"
      ]
     },
     "metadata": {},
     "output_type": "display_data"
    },
    {
     "data": {
      "application/javascript": [
       "(function(root) {\n",
       "  function embed_document(root) {\n",
       "    \n",
       "  var docs_json = {\"0bd66401-763a-41e4-b370-d8b448da32c7\":{\"roots\":{\"references\":[{\"attributes\":{},\"id\":\"d9576afe-db93-41af-acb6-7ebaeeaa22ee\",\"type\":\"Selection\"},{\"attributes\":{\"children\":[{\"id\":\"ae411863-cc73-4b66-a71a-81dad3aba455\",\"type\":\"ToolbarBox\"},{\"id\":\"b15c2352-0ad7-4b0d-90d0-1db493b5124a\",\"type\":\"Column\"}]},\"id\":\"225ec320-2124-4be3-9010-01639cb25b3f\",\"type\":\"Column\"},{\"attributes\":{\"below\":[{\"id\":\"ed0c1c1b-4c69-489e-9107-cf5d55315799\",\"type\":\"LinearAxis\"}],\"left\":[{\"id\":\"a7832223-7e55-43d5-94c3-fcbaff035abc\",\"type\":\"LogAxis\"}],\"plot_height\":500,\"plot_width\":560,\"renderers\":[{\"id\":\"ed0c1c1b-4c69-489e-9107-cf5d55315799\",\"type\":\"LinearAxis\"},{\"id\":\"ff904404-ee21-4303-998f-8ae837a2f1a7\",\"type\":\"Grid\"},{\"id\":\"a7832223-7e55-43d5-94c3-fcbaff035abc\",\"type\":\"LogAxis\"},{\"id\":\"f5408587-c74a-45d1-afbb-7a619cb40e86\",\"type\":\"Grid\"},{\"id\":\"28184be0-e7e9-4659-bacc-a5907eb01266\",\"type\":\"BoxAnnotation\"},{\"id\":\"6a27b2f6-fe55-431a-bc4a-ee810a1b0767\",\"type\":\"GlyphRenderer\"},{\"id\":\"9ad9c50c-33d7-419e-8fa1-38bd4c478b59\",\"type\":\"GlyphRenderer\"},{\"id\":\"320bd26c-27a4-4d83-b935-12fe7246a338\",\"type\":\"GlyphRenderer\"},{\"id\":\"27b533e6-8ee0-4909-bd23-9c1b7c9dd828\",\"type\":\"GlyphRenderer\"},{\"id\":\"2257f758-1932-4f31-a6bf-a2c40980ec3e\",\"type\":\"GlyphRenderer\"},{\"id\":\"7349efb1-3d49-412f-a1d2-207e292702ca\",\"type\":\"Legend\"}],\"right\":[{\"id\":\"7349efb1-3d49-412f-a1d2-207e292702ca\",\"type\":\"Legend\"}],\"title\":{\"id\":\"0908027b-d01a-4928-a10c-ad1e8b7dd3bd\",\"type\":\"Title\"},\"toolbar\":{\"id\":\"153d1cf7-221f-4157-a6b5-2f685470b665\",\"type\":\"Toolbar\"},\"toolbar_location\":null,\"x_range\":{\"id\":\"5e4812d7-3a73-4666-b426-e2aea87f38a9\",\"type\":\"Range1d\"},\"x_scale\":{\"id\":\"6ae0e2d2-8a51-4b1b-bb6d-61c92a95cdfe\",\"type\":\"LinearScale\"},\"y_range\":{\"id\":\"1232fa0f-9f13-4b28-b46e-ae351a08d120\",\"type\":\"Range1d\"},\"y_scale\":{\"id\":\"8a832b88-a732-4187-869a-90a1a334b48b\",\"type\":\"LogScale\"}},\"id\":\"573bb279-169a-4454-8b22-b62120a42afe\",\"subtype\":\"Figure\",\"type\":\"Plot\"},{\"attributes\":{},\"id\":\"21932497-27c3-4858-9647-c7c0cb9fcfcb\",\"type\":\"UnionRenderers\"},{\"attributes\":{\"plot\":null,\"text\":\"Log pressure scale\"},\"id\":\"0908027b-d01a-4928-a10c-ad1e8b7dd3bd\",\"type\":\"Title\"},{\"attributes\":{},\"id\":\"c0d1fd85-65d2-4124-8920-157ee83d4e9d\",\"type\":\"Selection\"},{\"attributes\":{\"children\":[{\"id\":\"7ff460e4-2c5d-4ad0-8b6f-1cd67bb9de46\",\"type\":\"Row\"}]},\"id\":\"b15c2352-0ad7-4b0d-90d0-1db493b5124a\",\"type\":\"Column\"},{\"attributes\":{},\"id\":\"3f430c09-7a6a-46f9-8da7-5cb5f884a7cc\",\"type\":\"UnionRenderers\"},{\"attributes\":{},\"id\":\"31e76e33-4a06-4274-add3-de4882b4f040\",\"type\":\"Selection\"},{\"attributes\":{\"axis_label\":\"cooling rate [K/day]\",\"formatter\":{\"id\":\"85089497-008b-4792-b9ee-4a75441d7b9e\",\"type\":\"BasicTickFormatter\"},\"plot\":{\"id\":\"b87ee17e-9ca8-468c-92d7-f6dc99e1e2fc\",\"subtype\":\"Figure\",\"type\":\"Plot\"},\"ticker\":{\"id\":\"4e0fb034-cfac-4fc6-8bf8-622aa71cc475\",\"type\":\"BasicTicker\"}},\"id\":\"ae156491-33f2-427e-9b45-64051b32e7b8\",\"type\":\"LinearAxis\"},{\"attributes\":{},\"id\":\"ffa2826f-736b-4231-9116-9c900edd907d\",\"type\":\"UnionRenderers\"},{\"attributes\":{\"data_source\":{\"id\":\"f7e8dfad-e156-4b27-861d-cddd4bde6c56\",\"type\":\"ColumnDataSource\"},\"glyph\":{\"id\":\"10c1c2c2-d7b5-42e2-8360-c65ece1ca94a\",\"type\":\"Line\"},\"hover_glyph\":null,\"muted_glyph\":null,\"nonselection_glyph\":{\"id\":\"561ad430-ec00-40df-a0ac-d9196d00dbc5\",\"type\":\"Line\"},\"selection_glyph\":null,\"view\":{\"id\":\"e2c8cf80-5664-43da-a3fc-4d4c79b0dac9\",\"type\":\"CDSView\"}},\"id\":\"2257f758-1932-4f31-a6bf-a2c40980ec3e\",\"type\":\"GlyphRenderer\"},{\"attributes\":{},\"id\":\"09ec41be-848f-4bd5-ae35-f7854406bf64\",\"type\":\"WheelZoomTool\"},{\"attributes\":{\"active_drag\":\"auto\",\"active_inspect\":\"auto\",\"active_scroll\":\"auto\",\"active_tap\":\"auto\",\"tools\":[{\"id\":\"aa8320d3-8ee7-40ce-beab-c4c298d9da6f\",\"type\":\"PanTool\"},{\"id\":\"181c05cb-551c-4e73-8581-cfa25496a254\",\"type\":\"WheelZoomTool\"},{\"id\":\"8ae70c2f-77f6-4258-80fd-bf735d4be15a\",\"type\":\"BoxZoomTool\"},{\"id\":\"e607a310-7463-414e-bb0a-21e3faa4a764\",\"type\":\"SaveTool\"},{\"id\":\"c36f51dd-7830-43b5-99c3-02ef2cae5869\",\"type\":\"ResetTool\"},{\"id\":\"78d0b3e1-0f8b-40c6-b4dd-89a602dee2f1\",\"type\":\"HelpTool\"}]},\"id\":\"5dd0fd51-ab7f-47f0-a765-87f50f84a0c6\",\"type\":\"Toolbar\"},{\"attributes\":{\"callback\":null,\"data\":{\"x\":{\"__ndarray__\":\"jlwtch8xvb4H/1atPmC8vpoYbUNb9Lm+AEEJKlIqtr5ih43NjbKwvnHQQu1jX6K+1zTGld+XaT6unFimxJqrPkiFEtKaar4+eCquw5WsyT73JMJZJFvTPtOQXQozZds+7oCtHySX4j5fsfiRA8fnPmRhK9jXaOw+TVff4D9z8D6uhEnnXO/yPpTrU1vCsPU+bTZAwgS++D41jZKnyhz8PmDVNmMUcP8+OZ1vp7LQ/D7+uQ9JZc/zPlXWLQCLm+c+vm4G+VyA2T5iU8CM/XHGPmsu0ogG8qE+hcPgtmmYpL4rslCyjxyzviyQnjw88be+tqO8+CcLu76cZQsHbwS9vqhte9OUhL2+Vnbqxo8Lvb4XQcAqJzW8vo9zSj89Kru+WBy5s29Tur5gGCgjl3i6voMbTohon8K+XCZyOBXiyL7WoRhWqjzQvoDiaYDEcNO+FG6KXwDD1r7OdQxY/Lvavo6E8/ePLN++ZpjPAhkt4b5dlBrZrJ7gvqvMLMohc9m+BhZUVwjIxr5VsygnYlDgPticRtgP+wA/4S94g3W3FD+pzI2RNIEkP3WVIcxy6DE/oq04/ZefPD/BatiUcVZFP9xT80M7EE4/F0nBr6YtVD/mmdO4wvpZP2/D0r5FIGA/ROrqTKlkYz+EOinvirBmP7/IXP3+62k/ltEIup0EbT/D6TUZ9O5vP01xr23FTnE/5EaHQxOBcj8jMGmbAX9zP+ZR21EWIXQ/qOp4bao+dD+cawnStJ9zPxzRzgSiYnI/FTLZ9C4CcT9JtQzPi05vP66pKndRwmw/\",\"dtype\":\"float64\",\"shape\":[75]},\"y\":{\"__ndarray__\":\"GhExyth1ND/Sv8nbtpRIP2vylNV0PVE/aTum7souWD/At0SJ8fVgPw3Iuahxymc/MSNhhJWvcD/bTfBN02d3P2zb5nxnaoA/CD5h5MAGhz8NmeH1TyaQP+zrCsc9p5Y/LbKd76fGnz/bLW5ISEmmPww9YvTcQq8/JV2OstnstT8Er5Y7M8G+P0c+r3jqkcU/5h99k6ZBzj88bCIzFzjVP4enV8oyxN0//yH99nXg5D8qOpLLf0jtP5kqGJXUifQ/c9cS8kHP/D+/DpwzojQEQIEmwoanVwxA4lgXt9HgE0BSSZ2AJuIbQAMJih9jjiNA5q4l5INuK0AwTKYKRj0zQNv5fmq8/DpAaCJseHrtQkB/+zpwzoxKQM3MzMzMeFJAZmZmZmZqWEAAAAAAAFxeQM3MzMzMJmJAmpmZmZkfZUBmZmZmZhhoQDMzMzMzEWtAAAAAAAAKbkBmZmZmZoFwQM3MzMzM/XFAMzMzMzN6c0CamZmZmfZ0QAAAAAAAc3ZAZmZmZmbvd0DNzMzMzGt5QDMzMzMz6HpAmpmZmZlkfEAAAAAAAOF9QGZmZmZmXX9AZmZmZuZsgECamZmZGSuBQM3MzMxM6YFAAAAAAICngkAzMzMzs2WDQGZmZmbmI4RAmpmZmRnihEDNzMzMTKCFQAAAAACAXoZAMzMzM7Mch0BmZmZm5tqHQJqZmZkZmYhAzczMzExXiUAAAAAAgBWKQDMzMzOz04pAZmZmZuaRi0CamZmZGVCMQM3MzMxMDo1AAAAAAIDMjUAzMzMzs4qOQGZmZmbmSI9A\",\"dtype\":\"float64\",\"shape\":[75]}},\"selected\":{\"id\":\"1f58b2ab-2787-43e3-8ac1-bbfadac0386f\",\"type\":\"Selection\"},\"selection_policy\":{\"id\":\"f7ce6507-149d-4846-9cab-2c08431cb9c4\",\"type\":\"UnionRenderers\"}},\"id\":\"8b568931-ab87-483e-afd0-b5b7aedc2c00\",\"type\":\"ColumnDataSource\"},{\"attributes\":{\"toolbar\":{\"id\":\"4ad3c11d-c595-47e4-bac7-a77332781684\",\"type\":\"ProxyToolbar\"},\"toolbar_location\":\"above\"},\"id\":\"ae411863-cc73-4b66-a71a-81dad3aba455\",\"type\":\"ToolbarBox\"},{\"attributes\":{\"plot\":null,\"text\":\"Linear pressure scale\"},\"id\":\"2b7eef27-5b66-4c4b-ad35-ae09a0386d3d\",\"type\":\"Title\"},{\"attributes\":{\"axis_label\":\"pressure [mb]\",\"formatter\":{\"id\":\"3326222c-25dd-4241-9179-472af947a01a\",\"type\":\"LogTickFormatter\"},\"plot\":{\"id\":\"573bb279-169a-4454-8b22-b62120a42afe\",\"subtype\":\"Figure\",\"type\":\"Plot\"},\"ticker\":{\"id\":\"4a1bc30b-ccad-4a38-9f9b-b1d0e95df60d\",\"type\":\"LogTicker\"}},\"id\":\"a7832223-7e55-43d5-94c3-fcbaff035abc\",\"type\":\"LogAxis\"},{\"attributes\":{\"overlay\":{\"id\":\"c48fa270-d29f-4d0b-8eae-0691779ea1a4\",\"type\":\"BoxAnnotation\"}},\"id\":\"8ae70c2f-77f6-4258-80fd-bf735d4be15a\",\"type\":\"BoxZoomTool\"},{\"attributes\":{\"callback\":null,\"end\":0.01,\"start\":1020},\"id\":\"1232fa0f-9f13-4b28-b46e-ae351a08d120\",\"type\":\"Range1d\"},{\"attributes\":{},\"id\":\"4e0fb034-cfac-4fc6-8bf8-622aa71cc475\",\"type\":\"BasicTicker\"},{\"attributes\":{},\"id\":\"181c05cb-551c-4e73-8581-cfa25496a254\",\"type\":\"WheelZoomTool\"},{\"attributes\":{\"fill_alpha\":{\"value\":0.1},\"fill_color\":{\"value\":\"#1f77b4\"},\"line_alpha\":{\"value\":0.1},\"line_color\":{\"value\":\"#1f77b4\"},\"x\":{\"field\":\"x\"},\"y\":{\"field\":\"y\"}},\"id\":\"fb71d47d-a834-495a-99a5-3ec7ee39194e\",\"type\":\"Circle\"},{\"attributes\":{},\"id\":\"e607a310-7463-414e-bb0a-21e3faa4a764\",\"type\":\"SaveTool\"},{\"attributes\":{\"axis_label\":\"cooling rate [K/day]\",\"formatter\":{\"id\":\"4cd81940-b49c-49fd-ab8a-5cabd8edc567\",\"type\":\"BasicTickFormatter\"},\"plot\":{\"id\":\"573bb279-169a-4454-8b22-b62120a42afe\",\"subtype\":\"Figure\",\"type\":\"Plot\"},\"ticker\":{\"id\":\"8a4430f3-161d-420f-9c83-ca5d182150b1\",\"type\":\"BasicTicker\"}},\"id\":\"ed0c1c1b-4c69-489e-9107-cf5d55315799\",\"type\":\"LinearAxis\"},{\"attributes\":{\"callback\":null,\"data\":{\"x\":{\"__ndarray__\":\"qdMLq1C3sr58BhIqKGCyvuYpKtngQrG+2fT31n7nrr4AM6HNdZepvsHWYO+JM6K+hsigu/mKkL6cWjOPkuKCPsE71oqBZqU+4fhbEeY9tT5QvC81tjPBPiLbAG2hVck+m2VzIaOf0T5yiaPfxuLWPjkWiOJRl9s+NnC88GcU4D5ERaWubpziPjvoqgR3bOU+J9N2b22L6D4nlgscoADsPkRtFvJ8bu8+iRyx4iHO7D6XJbHZdafjPtNLZmimAdc+iJOwvfLfxz5uV6RCMpayPjWas7Z7cUM+yb6FMZioo77LK9AsETCtvstTbHhUYbG+h90JwBtms76BLKZiOeG0vtcAB+fxurW+qkfCZ0APtr6i/9Y8IC22vikONSw3K7a+Q3oCZD0mtr6/BduwErq2vnVdMnwHMMC+e0ye9lrYxb6dWQxRKrLMvlcEwqcsRtG+jAglLFlK1L5BE4ApLeLXvr6XJcUg6Nu+O07VpGjn3r75Os198FvevpVw6kACS9i+bB3Jgj+ZzL5CXNSDZHvUPhDx2nOSPfo+AlVGPrnUED+3PWpvhBEhP5yEkhmgXS4/unTi5s2dOD9JN78QDIFCPw0uSdZ4VUo/GKX1vDLTUT9qsyQ1zCFXPyRUP+7r41w/oBosDwl6YT9OdNhYUY1kP3LZShdvlGc/VPjVfep7aj9ihcnpWDdtP+cFbqWuu28/O5z/atz6cD+2OHnGROdxP2RQVh3MfnI/l6mInemhcj/OuuUzMBxyP/IbnpaKCnE/hf5mZKWubz+I/t+J/1FtP0eVnTCOFGs/\",\"dtype\":\"float64\",\"shape\":[75]},\"y\":{\"__ndarray__\":\"GhExyth1ND/Sv8nbtpRIP2vylNV0PVE/aTum7souWD/At0SJ8fVgPw3Iuahxymc/MSNhhJWvcD/bTfBN02d3P2zb5nxnaoA/CD5h5MAGhz8NmeH1TyaQP+zrCsc9p5Y/LbKd76fGnz/bLW5ISEmmPww9YvTcQq8/JV2OstnstT8Er5Y7M8G+P0c+r3jqkcU/5h99k6ZBzj88bCIzFzjVP4enV8oyxN0//yH99nXg5D8qOpLLf0jtP5kqGJXUifQ/c9cS8kHP/D+/DpwzojQEQIEmwoanVwxA4lgXt9HgE0BSSZ2AJuIbQAMJih9jjiNA5q4l5INuK0AwTKYKRj0zQNv5fmq8/DpAaCJseHrtQkB/+zpwzoxKQM3MzMzMeFJAZmZmZmZqWEAAAAAAAFxeQM3MzMzMJmJAmpmZmZkfZUBmZmZmZhhoQDMzMzMzEWtAAAAAAAAKbkBmZmZmZoFwQM3MzMzM/XFAMzMzMzN6c0CamZmZmfZ0QAAAAAAAc3ZAZmZmZmbvd0DNzMzMzGt5QDMzMzMz6HpAmpmZmZlkfEAAAAAAAOF9QGZmZmZmXX9AZmZmZuZsgECamZmZGSuBQM3MzMxM6YFAAAAAAICngkAzMzMzs2WDQGZmZmbmI4RAmpmZmRnihEDNzMzMTKCFQAAAAACAXoZAMzMzM7Mch0BmZmZm5tqHQJqZmZkZmYhAzczMzExXiUAAAAAAgBWKQDMzMzOz04pAZmZmZuaRi0CamZmZGVCMQM3MzMxMDo1AAAAAAIDMjUAzMzMzs4qOQGZmZmbmSI9A\",\"dtype\":\"float64\",\"shape\":[75]}},\"selected\":{\"id\":\"c0d1fd85-65d2-4124-8920-157ee83d4e9d\",\"type\":\"Selection\"},\"selection_policy\":{\"id\":\"3f430c09-7a6a-46f9-8da7-5cb5f884a7cc\",\"type\":\"UnionRenderers\"}},\"id\":\"693c76f0-578e-48c7-9957-b870dc0bae74\",\"type\":\"ColumnDataSource\"},{\"attributes\":{},\"id\":\"c36f51dd-7830-43b5-99c3-02ef2cae5869\",\"type\":\"ResetTool\"},{\"attributes\":{\"source\":{\"id\":\"55d92d4e-2143-4bc5-b8e9-53ca7d073f3b\",\"type\":\"ColumnDataSource\"}},\"id\":\"7a6f44ee-fd92-49df-a44d-6c3d9d140009\",\"type\":\"CDSView\"},{\"attributes\":{},\"id\":\"aa8320d3-8ee7-40ce-beab-c4c298d9da6f\",\"type\":\"PanTool\"},{\"attributes\":{\"source\":{\"id\":\"f7e8dfad-e156-4b27-861d-cddd4bde6c56\",\"type\":\"ColumnDataSource\"}},\"id\":\"e2c8cf80-5664-43da-a3fc-4d4c79b0dac9\",\"type\":\"CDSView\"},{\"attributes\":{},\"id\":\"78d0b3e1-0f8b-40c6-b4dd-89a602dee2f1\",\"type\":\"HelpTool\"},{\"attributes\":{\"callback\":null,\"end\":3.0319959293e-05,\"start\":-4.209722593e-06},\"id\":\"5e4812d7-3a73-4666-b426-e2aea87f38a9\",\"type\":\"Range1d\"},{\"attributes\":{\"plot\":{\"id\":\"b87ee17e-9ca8-468c-92d7-f6dc99e1e2fc\",\"subtype\":\"Figure\",\"type\":\"Plot\"},\"ticker\":{\"id\":\"4e0fb034-cfac-4fc6-8bf8-622aa71cc475\",\"type\":\"BasicTicker\"}},\"id\":\"2f8e499b-f4d9-4785-9a61-6117289896b3\",\"type\":\"Grid\"},{\"attributes\":{\"source\":{\"id\":\"c2bc0884-d241-4b4f-8c8e-bd7f0cffece2\",\"type\":\"ColumnDataSource\"}},\"id\":\"9cff5f27-701e-4f23-a61e-2ca52aff3801\",\"type\":\"CDSView\"},{\"attributes\":{\"line_color\":\"#4daf4a\",\"line_width\":1.5,\"x\":{\"field\":\"x\"},\"y\":{\"field\":\"y\"}},\"id\":\"f16bab42-5567-4620-bd76-32d3d3503f4c\",\"type\":\"Line\"},{\"attributes\":{\"callback\":null,\"data\":{\"x\":{\"__ndarray__\":\"qdMLq1C3sr58BhIqKGCyvuYpKtngQrG+2fT31n7nrr4AM6HNdZepvsHWYO+JM6K+hsigu/mKkL6cWjOPkuKCPsE71oqBZqU+4fhbEeY9tT5QvC81tjPBPiLbAG2hVck+m2VzIaOf0T5yiaPfxuLWPjkWiOJRl9s+NnC88GcU4D5ERaWubpziPjvoqgR3bOU+J9N2b22L6D4nlgscoADsPkRtFvJ8bu8+iRyx4iHO7D6XJbHZdafjPtNLZmimAdc+iJOwvfLfxz5uV6RCMpayPjWas7Z7cUM+yb6FMZioo77LK9AsETCtvstTbHhUYbG+h90JwBtms76BLKZiOeG0vtcAB+fxurW+qkfCZ0APtr6i/9Y8IC22vikONSw3K7a+Q3oCZD0mtr6/BduwErq2vnVdMnwHMMC+e0ye9lrYxb6dWQxRKrLMvlcEwqcsRtG+jAglLFlK1L5BE4ApLeLXvr6XJcUg6Nu+O07VpGjn3r75Os198FvevpVw6kACS9i+bB3Jgj+ZzL5CXNSDZHvUPhDx2nOSPfo+AlVGPrnUED+3PWpvhBEhP5yEkhmgXS4/unTi5s2dOD9JN78QDIFCPw0uSdZ4VUo/GKX1vDLTUT9qsyQ1zCFXPyRUP+7r41w/oBosDwl6YT9OdNhYUY1kP3LZShdvlGc/VPjVfep7aj9ihcnpWDdtP+cFbqWuu28/O5z/atz6cD+2OHnGROdxP2RQVh3MfnI/l6mInemhcj/OuuUzMBxyP/IbnpaKCnE/hf5mZKWubz+I/t+J/1FtP0eVnTCOFGs/\",\"dtype\":\"float64\",\"shape\":[75]},\"y\":{\"__ndarray__\":\"GhExyth1ND/Sv8nbtpRIP2vylNV0PVE/aTum7souWD/At0SJ8fVgPw3Iuahxymc/MSNhhJWvcD/bTfBN02d3P2zb5nxnaoA/CD5h5MAGhz8NmeH1TyaQP+zrCsc9p5Y/LbKd76fGnz/bLW5ISEmmPww9YvTcQq8/JV2OstnstT8Er5Y7M8G+P0c+r3jqkcU/5h99k6ZBzj88bCIzFzjVP4enV8oyxN0//yH99nXg5D8qOpLLf0jtP5kqGJXUifQ/c9cS8kHP/D+/DpwzojQEQIEmwoanVwxA4lgXt9HgE0BSSZ2AJuIbQAMJih9jjiNA5q4l5INuK0AwTKYKRj0zQNv5fmq8/DpAaCJseHrtQkB/+zpwzoxKQM3MzMzMeFJAZmZmZmZqWEAAAAAAAFxeQM3MzMzMJmJAmpmZmZkfZUBmZmZmZhhoQDMzMzMzEWtAAAAAAAAKbkBmZmZmZoFwQM3MzMzM/XFAMzMzMzN6c0CamZmZmfZ0QAAAAAAAc3ZAZmZmZmbvd0DNzMzMzGt5QDMzMzMz6HpAmpmZmZlkfEAAAAAAAOF9QGZmZmZmXX9AZmZmZuZsgECamZmZGSuBQM3MzMxM6YFAAAAAAICngkAzMzMzs2WDQGZmZmbmI4RAmpmZmRnihEDNzMzMTKCFQAAAAACAXoZAMzMzM7Mch0BmZmZm5tqHQJqZmZkZmYhAzczMzExXiUAAAAAAgBWKQDMzMzOz04pAZmZmZuaRi0CamZmZGVCMQM3MzMxMDo1AAAAAAIDMjUAzMzMzs4qOQGZmZmbmSI9A\",\"dtype\":\"float64\",\"shape\":[75]}},\"selected\":{\"id\":\"31e76e33-4a06-4274-add3-de4882b4f040\",\"type\":\"Selection\"},\"selection_policy\":{\"id\":\"ffa2826f-736b-4231-9116-9c900edd907d\",\"type\":\"UnionRenderers\"}},\"id\":\"f7e8dfad-e156-4b27-861d-cddd4bde6c56\",\"type\":\"ColumnDataSource\"},{\"attributes\":{},\"id\":\"b3c7b7cd-7f02-4878-a0b3-6245b667256c\",\"type\":\"BasicTicker\"},{\"attributes\":{\"line_alpha\":0.6,\"line_color\":\"#984ea3\",\"line_width\":3,\"x\":{\"field\":\"x\"},\"y\":{\"field\":\"y\"}},\"id\":\"10c1c2c2-d7b5-42e2-8360-c65ece1ca94a\",\"type\":\"Line\"},{\"attributes\":{\"active_drag\":\"auto\",\"active_inspect\":\"auto\",\"active_scroll\":\"auto\",\"active_tap\":\"auto\",\"tools\":[{\"id\":\"7e59db58-e53f-4775-ac71-e040a06d7511\",\"type\":\"PanTool\"},{\"id\":\"09ec41be-848f-4bd5-ae35-f7854406bf64\",\"type\":\"WheelZoomTool\"},{\"id\":\"d1ce0a70-6d54-4c2b-b1ed-6db3d4e87e7c\",\"type\":\"BoxZoomTool\"},{\"id\":\"ea87ab58-386d-46be-aeb6-285e47b49dff\",\"type\":\"SaveTool\"},{\"id\":\"9d741fa8-b921-490c-aa1a-5d56138c72a0\",\"type\":\"ResetTool\"},{\"id\":\"a2569c67-ee67-45d2-bcdd-e7240253b38c\",\"type\":\"HelpTool\"}]},\"id\":\"153d1cf7-221f-4157-a6b5-2f685470b665\",\"type\":\"Toolbar\"},{\"attributes\":{\"dimension\":1,\"plot\":{\"id\":\"b87ee17e-9ca8-468c-92d7-f6dc99e1e2fc\",\"subtype\":\"Figure\",\"type\":\"Plot\"},\"ticker\":{\"id\":\"b3c7b7cd-7f02-4878-a0b3-6245b667256c\",\"type\":\"BasicTicker\"}},\"id\":\"7fd6a5e3-aafb-4b95-86a5-51def4d7b89d\",\"type\":\"Grid\"},{\"attributes\":{\"data_source\":{\"id\":\"8b568931-ab87-483e-afd0-b5b7aedc2c00\",\"type\":\"ColumnDataSource\"},\"glyph\":{\"id\":\"9a1324fb-7e34-4a09-899e-9db00575247c\",\"type\":\"Circle\"},\"hover_glyph\":null,\"muted_glyph\":null,\"nonselection_glyph\":{\"id\":\"fb71d47d-a834-495a-99a5-3ec7ee39194e\",\"type\":\"Circle\"},\"selection_glyph\":null,\"view\":{\"id\":\"9fbc79a5-6994-4df0-a49a-09a8b6f333d2\",\"type\":\"CDSView\"}},\"id\":\"9ad9c50c-33d7-419e-8fa1-38bd4c478b59\",\"type\":\"GlyphRenderer\"},{\"attributes\":{},\"id\":\"8a4430f3-161d-420f-9c83-ca5d182150b1\",\"type\":\"BasicTicker\"},{\"attributes\":{\"axis_label\":\"pressure [mb]\",\"formatter\":{\"id\":\"efa7b3e0-8390-429d-8d9a-5a8428526f16\",\"type\":\"BasicTickFormatter\"},\"plot\":{\"id\":\"b87ee17e-9ca8-468c-92d7-f6dc99e1e2fc\",\"subtype\":\"Figure\",\"type\":\"Plot\"},\"ticker\":{\"id\":\"b3c7b7cd-7f02-4878-a0b3-6245b667256c\",\"type\":\"BasicTicker\"}},\"id\":\"8c9f692a-41ba-46ca-bfd9-85cf77061ca9\",\"type\":\"LinearAxis\"},{\"attributes\":{\"items\":[{\"id\":\"740b8b1e-9e2e-43cf-91e8-fa8f93b21974\",\"type\":\"LegendItem\"},{\"id\":\"0cf28648-0e59-4ea2-9c00-78ab73a0daf0\",\"type\":\"LegendItem\"},{\"id\":\"04331611-2ea3-4b68-b196-e9510e489011\",\"type\":\"LegendItem\"}],\"label_text_font_size\":{\"value\":\"8pt\"},\"location\":[10,-30],\"plot\":{\"id\":\"573bb279-169a-4454-8b22-b62120a42afe\",\"subtype\":\"Figure\",\"type\":\"Plot\"}},\"id\":\"7349efb1-3d49-412f-a1d2-207e292702ca\",\"type\":\"Legend\"},{\"attributes\":{\"bottom_units\":\"screen\",\"fill_alpha\":{\"value\":0.5},\"fill_color\":{\"value\":\"lightgrey\"},\"left_units\":\"screen\",\"level\":\"overlay\",\"line_alpha\":{\"value\":1.0},\"line_color\":{\"value\":\"black\"},\"line_dash\":[4,4],\"line_width\":{\"value\":2},\"plot\":null,\"render_mode\":\"css\",\"right_units\":\"screen\",\"top_units\":\"screen\"},\"id\":\"c48fa270-d29f-4d0b-8eae-0691779ea1a4\",\"type\":\"BoxAnnotation\"},{\"attributes\":{},\"id\":\"6ae0e2d2-8a51-4b1b-bb6d-61c92a95cdfe\",\"type\":\"LinearScale\"},{\"attributes\":{\"source\":{\"id\":\"8b568931-ab87-483e-afd0-b5b7aedc2c00\",\"type\":\"ColumnDataSource\"}},\"id\":\"9fbc79a5-6994-4df0-a49a-09a8b6f333d2\",\"type\":\"CDSView\"},{\"attributes\":{},\"id\":\"7e59db58-e53f-4775-ac71-e040a06d7511\",\"type\":\"PanTool\"},{\"attributes\":{},\"id\":\"9d741fa8-b921-490c-aa1a-5d56138c72a0\",\"type\":\"ResetTool\"},{\"attributes\":{\"fill_alpha\":{\"value\":0.7},\"fill_color\":{\"value\":\"#4daf4a\"},\"line_alpha\":{\"value\":0.7},\"line_color\":{\"value\":\"#4daf4a\"},\"x\":{\"field\":\"x\"},\"y\":{\"field\":\"y\"}},\"id\":\"9a1324fb-7e34-4a09-899e-9db00575247c\",\"type\":\"Circle\"},{\"attributes\":{\"fill_alpha\":{\"value\":0.7},\"fill_color\":{\"value\":\"#4daf4a\"},\"line_alpha\":{\"value\":0.7},\"line_color\":{\"value\":\"#4daf4a\"},\"x\":{\"field\":\"x\"},\"y\":{\"field\":\"y\"}},\"id\":\"f3e65b1c-8a5b-4216-ac27-427cb98aeddc\",\"type\":\"Circle\"},{\"attributes\":{\"source\":{\"id\":\"2944a94e-9670-484f-a729-aa8430ede279\",\"type\":\"ColumnDataSource\"}},\"id\":\"10c83090-c5de-4fd2-9479-634d39a13616\",\"type\":\"CDSView\"},{\"attributes\":{},\"id\":\"a2569c67-ee67-45d2-bcdd-e7240253b38c\",\"type\":\"HelpTool\"},{\"attributes\":{},\"id\":\"ea87ab58-386d-46be-aeb6-285e47b49dff\",\"type\":\"SaveTool\"},{\"attributes\":{\"callback\":null,\"data\":{\"x\":{\"__ndarray__\":\"JqJnfcZkAD8W0CQx1LIXPyY5DKT1O+Q+dTf9f1Kf2T6Xl2ZaFlzTPgeRIALKbsw+JXP2c8NQxj6TSqaUEdHCPg5mmm4v+ME+JTxGs3/Mwj53kXU5md7FPnqTznE4fMo+N6gCYAQxyT5XJfDRUtXNPmUIPpacANY+L1oXi5Se2z5+3Lqx1+DfPo24xLfcOuI+1OZ4Tc+t5D5g+4AJNCvnPhR3R9zOh+g+ObI9vXbd5j5VgX8sBYHgPmIO0ZmBoNM+bZLC3/j4wz67drLrGfusPrHFWg+wlne+jH9fu0WCpL5P5xnPLDutvsG6OrKAELG+AGiXN8Kysr7kK8tLmMWzvtr/i6jyO7S+I2mcUrIRtL7Zn7T4YKq0vvJRpQ4TWbW+3Q9kFrKMtb6W0fb+zgW2vs/96BD/w76+jgfn+41uxL5Hfgt/QpjKvntJLn/+J9C+x0sDNf1E077VAkkrwefWvvLso8MW7Nq+GxQZV/Qg3r6QomQWSPbdvviY3ClIS9m+jvq+W1pb0r4CujV+ya7BPn9O90/IyPM+zvYOlsNxCz9TpZcOQ/QcP+eXaHbWbio/5LYDhyKZNT/Z+ZqT0XNAP20vMq9or0c/xjVeB4g9UD+9td1WS1lVP9IoqT++5Vo/r3Lm67JXYD9qFRetflFjP+YZYSy4SGY/hFUYAlAqaT9zvfVye+hrP3iWhHKAc24/9MThd9RScD/l14t4HTdxP3hNjtJTynE/gJLf+0vtcT9zGPMCynBxP6MfAesObHA/4+VSHMyNbj98AK8wNEdsPwe8b2R1Hmo/\",\"dtype\":\"float64\",\"shape\":[75]},\"y\":{\"__ndarray__\":\"S/O/Q+51ND/Sv8nbtpRIP2vylNV0PVE/aTum7souWD/At0SJ8fVgPw3Iuahxymc/MSNhhJWvcD/bTfBN02d3P2zb5nxnaoA/CD5h5MAGhz8NmeH1TyaQP+zrCsc9p5Y/LbKd76fGnz/bLW5ISEmmPww9YvTcQq8/JV2OstnstT8Er5Y7M8G+P0c+r3jqkcU/5h99k6ZBzj88bCIzFzjVP4enV8oyxN0//yH99nXg5D8qOpLLf0jtP5kqGJXUifQ/c9cS8kHP/D+/DpwzojQEQIEmwoanVwxA4lgXt9HgE0BSSZ2AJuIbQAMJih9jjiNA5q4l5INuK0AwTKYKRj0zQNv5fmq8/DpAaCJseHrtQkB/+zpwzoxKQM3MzMzMeFJAZmZmZmZqWEAAAAAAAFxeQM3MzMzMJmJAmpmZmZkfZUBmZmZmZhhoQDMzMzMzEWtAAAAAAAAKbkBmZmZmZoFwQM3MzMzM/XFAMzMzMzN6c0CamZmZmfZ0QAAAAAAAc3ZAZmZmZmbvd0DNzMzMzGt5QDMzMzMz6HpAmpmZmZlkfEAAAAAAAOF9QGZmZmZmXX9AZmZmZuZsgECamZmZGSuBQM3MzMxM6YFAAAAAAICngkAzMzMzs2WDQGZmZmbmI4RAmpmZmRnihEDNzMzMTKCFQAAAAACAXoZAMzMzM7Mch0BmZmZm5tqHQJqZmZkZmYhAzczMzExXiUAAAAAAgBWKQDMzMzOz04pAZmZmZuaRi0CamZmZGVCMQM3MzMxMDo1AAAAAAIDMjUAzMzMzs4qOQGZmZmbmSI9A\",\"dtype\":\"float64\",\"shape\":[75]}},\"selected\":{\"id\":\"dd50e662-5be0-4d50-9179-47cee750d29a\",\"type\":\"Selection\"},\"selection_policy\":{\"id\":\"f7721690-fd37-46ea-827b-4869cf8d1658\",\"type\":\"UnionRenderers\"}},\"id\":\"c2bc0884-d241-4b4f-8c8e-bd7f0cffece2\",\"type\":\"ColumnDataSource\"},{\"attributes\":{\"line_alpha\":0.1,\"line_color\":\"#1f77b4\",\"line_width\":3,\"x\":{\"field\":\"x\"},\"y\":{\"field\":\"y\"}},\"id\":\"561ad430-ec00-40df-a0ac-d9196d00dbc5\",\"type\":\"Line\"},{\"attributes\":{\"callback\":null,\"data\":{\"x\":{\"__ndarray__\":\"jlwtch8xvb4H/1atPmC8vpoYbUNb9Lm+AEEJKlIqtr5ih43NjbKwvnHQQu1jX6K+1zTGld+XaT6unFimxJqrPkiFEtKaar4+eCquw5WsyT73JMJZJFvTPtOQXQozZds+7oCtHySX4j5fsfiRA8fnPmRhK9jXaOw+TVff4D9z8D6uhEnnXO/yPpTrU1vCsPU+bTZAwgS++D41jZKnyhz8PmDVNmMUcP8+OZ1vp7LQ/D7+uQ9JZc/zPlXWLQCLm+c+vm4G+VyA2T5iU8CM/XHGPmsu0ogG8qE+hcPgtmmYpL4rslCyjxyzviyQnjw88be+tqO8+CcLu76cZQsHbwS9vqhte9OUhL2+Vnbqxo8Lvb4XQcAqJzW8vo9zSj89Kru+WBy5s29Tur5gGCgjl3i6voMbTohon8K+XCZyOBXiyL7WoRhWqjzQvoDiaYDEcNO+FG6KXwDD1r7OdQxY/Lvavo6E8/ePLN++ZpjPAhkt4b5dlBrZrJ7gvqvMLMohc9m+BhZUVwjIxr5VsygnYlDgPticRtgP+wA/4S94g3W3FD+pzI2RNIEkP3WVIcxy6DE/oq04/ZefPD/BatiUcVZFP9xT80M7EE4/F0nBr6YtVD/mmdO4wvpZP2/D0r5FIGA/ROrqTKlkYz+EOinvirBmP7/IXP3+62k/ltEIup0EbT/D6TUZ9O5vP01xr23FTnE/5EaHQxOBcj8jMGmbAX9zP+ZR21EWIXQ/qOp4bao+dD+cawnStJ9zPxzRzgSiYnI/FTLZ9C4CcT9JtQzPi05vP66pKndRwmw/\",\"dtype\":\"float64\",\"shape\":[75]},\"y\":{\"__ndarray__\":\"GhExyth1ND/Sv8nbtpRIP2vylNV0PVE/aTum7souWD/At0SJ8fVgPw3Iuahxymc/MSNhhJWvcD/bTfBN02d3P2zb5nxnaoA/CD5h5MAGhz8NmeH1TyaQP+zrCsc9p5Y/LbKd76fGnz/bLW5ISEmmPww9YvTcQq8/JV2OstnstT8Er5Y7M8G+P0c+r3jqkcU/5h99k6ZBzj88bCIzFzjVP4enV8oyxN0//yH99nXg5D8qOpLLf0jtP5kqGJXUifQ/c9cS8kHP/D+/DpwzojQEQIEmwoanVwxA4lgXt9HgE0BSSZ2AJuIbQAMJih9jjiNA5q4l5INuK0AwTKYKRj0zQNv5fmq8/DpAaCJseHrtQkB/+zpwzoxKQM3MzMzMeFJAZmZmZmZqWEAAAAAAAFxeQM3MzMzMJmJAmpmZmZkfZUBmZmZmZhhoQDMzMzMzEWtAAAAAAAAKbkBmZmZmZoFwQM3MzMzM/XFAMzMzMzN6c0CamZmZmfZ0QAAAAAAAc3ZAZmZmZmbvd0DNzMzMzGt5QDMzMzMz6HpAmpmZmZlkfEAAAAAAAOF9QGZmZmZmXX9AZmZmZuZsgECamZmZGSuBQM3MzMxM6YFAAAAAAICngkAzMzMzs2WDQGZmZmbmI4RAmpmZmRnihEDNzMzMTKCFQAAAAACAXoZAMzMzM7Mch0BmZmZm5tqHQJqZmZkZmYhAzczMzExXiUAAAAAAgBWKQDMzMzOz04pAZmZmZuaRi0CamZmZGVCMQM3MzMxMDo1AAAAAAIDMjUAzMzMzs4qOQGZmZmbmSI9A\",\"dtype\":\"float64\",\"shape\":[75]}},\"selected\":{\"id\":\"065d9e1d-85dc-47a4-8a11-4ebd2b331b3c\",\"type\":\"Selection\"},\"selection_policy\":{\"id\":\"7266ab2b-f960-433e-a3c9-50843497c45a\",\"type\":\"UnionRenderers\"}},\"id\":\"30d7fdd5-0bc9-4688-ba45-9bfaf9baa5cc\",\"type\":\"ColumnDataSource\"},{\"attributes\":{\"callback\":null,\"data\":{\"x\":{\"__ndarray__\":\"jlwtch8xvb4H/1atPmC8vpoYbUNb9Lm+AEEJKlIqtr5ih43NjbKwvnHQQu1jX6K+1zTGld+XaT6unFimxJqrPkiFEtKaar4+eCquw5WsyT73JMJZJFvTPtOQXQozZds+7oCtHySX4j5fsfiRA8fnPmRhK9jXaOw+TVff4D9z8D6uhEnnXO/yPpTrU1vCsPU+bTZAwgS++D41jZKnyhz8PmDVNmMUcP8+OZ1vp7LQ/D7+uQ9JZc/zPlXWLQCLm+c+vm4G+VyA2T5iU8CM/XHGPmsu0ogG8qE+hcPgtmmYpL4rslCyjxyzviyQnjw88be+tqO8+CcLu76cZQsHbwS9vqhte9OUhL2+Vnbqxo8Lvb4XQcAqJzW8vo9zSj89Kru+WBy5s29Tur5gGCgjl3i6voMbTohon8K+XCZyOBXiyL7WoRhWqjzQvoDiaYDEcNO+FG6KXwDD1r7OdQxY/Lvavo6E8/ePLN++ZpjPAhkt4b5dlBrZrJ7gvqvMLMohc9m+BhZUVwjIxr5VsygnYlDgPticRtgP+wA/4S94g3W3FD+pzI2RNIEkP3WVIcxy6DE/oq04/ZefPD/BatiUcVZFP9xT80M7EE4/F0nBr6YtVD/mmdO4wvpZP2/D0r5FIGA/ROrqTKlkYz+EOinvirBmP7/IXP3+62k/ltEIup0EbT/D6TUZ9O5vP01xr23FTnE/5EaHQxOBcj8jMGmbAX9zP+ZR21EWIXQ/qOp4bao+dD+cawnStJ9zPxzRzgSiYnI/FTLZ9C4CcT9JtQzPi05vP66pKndRwmw/\",\"dtype\":\"float64\",\"shape\":[75]},\"y\":{\"__ndarray__\":\"GhExyth1ND/Sv8nbtpRIP2vylNV0PVE/aTum7souWD/At0SJ8fVgPw3Iuahxymc/MSNhhJWvcD/bTfBN02d3P2zb5nxnaoA/CD5h5MAGhz8NmeH1TyaQP+zrCsc9p5Y/LbKd76fGnz/bLW5ISEmmPww9YvTcQq8/JV2OstnstT8Er5Y7M8G+P0c+r3jqkcU/5h99k6ZBzj88bCIzFzjVP4enV8oyxN0//yH99nXg5D8qOpLLf0jtP5kqGJXUifQ/c9cS8kHP/D+/DpwzojQEQIEmwoanVwxA4lgXt9HgE0BSSZ2AJuIbQAMJih9jjiNA5q4l5INuK0AwTKYKRj0zQNv5fmq8/DpAaCJseHrtQkB/+zpwzoxKQM3MzMzMeFJAZmZmZmZqWEAAAAAAAFxeQM3MzMzMJmJAmpmZmZkfZUBmZmZmZhhoQDMzMzMzEWtAAAAAAAAKbkBmZmZmZoFwQM3MzMzM/XFAMzMzMzN6c0CamZmZmfZ0QAAAAAAAc3ZAZmZmZmbvd0DNzMzMzGt5QDMzMzMz6HpAmpmZmZlkfEAAAAAAAOF9QGZmZmZmXX9AZmZmZuZsgECamZmZGSuBQM3MzMxM6YFAAAAAAICngkAzMzMzs2WDQGZmZmbmI4RAmpmZmRnihEDNzMzMTKCFQAAAAACAXoZAMzMzM7Mch0BmZmZm5tqHQJqZmZkZmYhAzczMzExXiUAAAAAAgBWKQDMzMzOz04pAZmZmZuaRi0CamZmZGVCMQM3MzMxMDo1AAAAAAIDMjUAzMzMzs4qOQGZmZmbmSI9A\",\"dtype\":\"float64\",\"shape\":[75]}},\"selected\":{\"id\":\"d9576afe-db93-41af-acb6-7ebaeeaa22ee\",\"type\":\"Selection\"},\"selection_policy\":{\"id\":\"21932497-27c3-4858-9647-c7c0cb9fcfcb\",\"type\":\"UnionRenderers\"}},\"id\":\"adfb2111-1076-4161-826a-1b28053171ba\",\"type\":\"ColumnDataSource\"},{\"attributes\":{\"plot\":{\"id\":\"573bb279-169a-4454-8b22-b62120a42afe\",\"subtype\":\"Figure\",\"type\":\"Plot\"},\"ticker\":{\"id\":\"8a4430f3-161d-420f-9c83-ca5d182150b1\",\"type\":\"BasicTicker\"}},\"id\":\"ff904404-ee21-4303-998f-8ae837a2f1a7\",\"type\":\"Grid\"},{\"attributes\":{\"source\":{\"id\":\"30d7fdd5-0bc9-4688-ba45-9bfaf9baa5cc\",\"type\":\"ColumnDataSource\"}},\"id\":\"5622d7d4-6188-4341-acb2-ff0971f51243\",\"type\":\"CDSView\"},{\"attributes\":{\"line_alpha\":0.1,\"line_color\":\"#1f77b4\",\"line_width\":1.5,\"x\":{\"field\":\"x\"},\"y\":{\"field\":\"y\"}},\"id\":\"28eb65a5-c737-4518-b51d-e915fc468f39\",\"type\":\"Line\"},{\"attributes\":{\"callback\":null,\"data\":{\"x\":{\"__ndarray__\":\"JqJnfcZkAD8W0CQx1LIXPyY5DKT1O+Q+dTf9f1Kf2T6Xl2ZaFlzTPgeRIALKbsw+JXP2c8NQxj6TSqaUEdHCPg5mmm4v+ME+JTxGs3/Mwj53kXU5md7FPnqTznE4fMo+N6gCYAQxyT5XJfDRUtXNPmUIPpacANY+L1oXi5Se2z5+3Lqx1+DfPo24xLfcOuI+1OZ4Tc+t5D5g+4AJNCvnPhR3R9zOh+g+ObI9vXbd5j5VgX8sBYHgPmIO0ZmBoNM+bZLC3/j4wz67drLrGfusPrHFWg+wlne+jH9fu0WCpL5P5xnPLDutvsG6OrKAELG+AGiXN8Kysr7kK8tLmMWzvtr/i6jyO7S+I2mcUrIRtL7Zn7T4YKq0vvJRpQ4TWbW+3Q9kFrKMtb6W0fb+zgW2vs/96BD/w76+jgfn+41uxL5Hfgt/QpjKvntJLn/+J9C+x0sDNf1E077VAkkrwefWvvLso8MW7Nq+GxQZV/Qg3r6QomQWSPbdvviY3ClIS9m+jvq+W1pb0r4CujV+ya7BPn9O90/IyPM+zvYOlsNxCz9TpZcOQ/QcP+eXaHbWbio/5LYDhyKZNT/Z+ZqT0XNAP20vMq9or0c/xjVeB4g9UD+9td1WS1lVP9IoqT++5Vo/r3Lm67JXYD9qFRetflFjP+YZYSy4SGY/hFUYAlAqaT9zvfVye+hrP3iWhHKAc24/9MThd9RScD/l14t4HTdxP3hNjtJTynE/gJLf+0vtcT9zGPMCynBxP6MfAesObHA/4+VSHMyNbj98AK8wNEdsPwe8b2R1Hmo/\",\"dtype\":\"float64\",\"shape\":[75]},\"y\":{\"__ndarray__\":\"S/O/Q+51ND/Sv8nbtpRIP2vylNV0PVE/aTum7souWD/At0SJ8fVgPw3Iuahxymc/MSNhhJWvcD/bTfBN02d3P2zb5nxnaoA/CD5h5MAGhz8NmeH1TyaQP+zrCsc9p5Y/LbKd76fGnz/bLW5ISEmmPww9YvTcQq8/JV2OstnstT8Er5Y7M8G+P0c+r3jqkcU/5h99k6ZBzj88bCIzFzjVP4enV8oyxN0//yH99nXg5D8qOpLLf0jtP5kqGJXUifQ/c9cS8kHP/D+/DpwzojQEQIEmwoanVwxA4lgXt9HgE0BSSZ2AJuIbQAMJih9jjiNA5q4l5INuK0AwTKYKRj0zQNv5fmq8/DpAaCJseHrtQkB/+zpwzoxKQM3MzMzMeFJAZmZmZmZqWEAAAAAAAFxeQM3MzMzMJmJAmpmZmZkfZUBmZmZmZhhoQDMzMzMzEWtAAAAAAAAKbkBmZmZmZoFwQM3MzMzM/XFAMzMzMzN6c0CamZmZmfZ0QAAAAAAAc3ZAZmZmZmbvd0DNzMzMzGt5QDMzMzMz6HpAmpmZmZlkfEAAAAAAAOF9QGZmZmZmXX9AZmZmZuZsgECamZmZGSuBQM3MzMxM6YFAAAAAAICngkAzMzMzs2WDQGZmZmbmI4RAmpmZmRnihEDNzMzMTKCFQAAAAACAXoZAMzMzM7Mch0BmZmZm5tqHQJqZmZkZmYhAzczMzExXiUAAAAAAgBWKQDMzMzOz04pAZmZmZuaRi0CamZmZGVCMQM3MzMxMDo1AAAAAAIDMjUAzMzMzs4qOQGZmZmbmSI9A\",\"dtype\":\"float64\",\"shape\":[75]}},\"selected\":{\"id\":\"ce0772e6-f1c0-4459-bd62-ec552b974d17\",\"type\":\"Selection\"},\"selection_policy\":{\"id\":\"cfe6af09-0b81-4e51-9c28-7d7c67fc2ae2\",\"type\":\"UnionRenderers\"}},\"id\":\"2944a94e-9670-484f-a729-aa8430ede279\",\"type\":\"ColumnDataSource\"},{\"attributes\":{\"data_source\":{\"id\":\"adfb2111-1076-4161-826a-1b28053171ba\",\"type\":\"ColumnDataSource\"},\"glyph\":{\"id\":\"f16bab42-5567-4620-bd76-32d3d3503f4c\",\"type\":\"Line\"},\"hover_glyph\":null,\"muted_glyph\":null,\"nonselection_glyph\":{\"id\":\"28eb65a5-c737-4518-b51d-e915fc468f39\",\"type\":\"Line\"},\"selection_glyph\":null,\"view\":{\"id\":\"0a5b136b-05ad-4278-b5bf-c3909dfb7698\",\"type\":\"CDSView\"}},\"id\":\"320bd26c-27a4-4d83-b935-12fe7246a338\",\"type\":\"GlyphRenderer\"},{\"attributes\":{\"source\":{\"id\":\"693c76f0-578e-48c7-9957-b870dc0bae74\",\"type\":\"ColumnDataSource\"}},\"id\":\"d176f59d-0566-460d-b3ea-72e686c00056\",\"type\":\"CDSView\"},{\"attributes\":{\"data_source\":{\"id\":\"55d92d4e-2143-4bc5-b8e9-53ca7d073f3b\",\"type\":\"ColumnDataSource\"},\"glyph\":{\"id\":\"95f485f9-9cc8-429f-a3a2-318a93f0e4b8\",\"type\":\"Line\"},\"hover_glyph\":null,\"muted_glyph\":null,\"nonselection_glyph\":{\"id\":\"de0483bf-2edd-4ca4-9809-dba1b4e1ba41\",\"type\":\"Line\"},\"selection_glyph\":null,\"view\":{\"id\":\"7a6f44ee-fd92-49df-a44d-6c3d9d140009\",\"type\":\"CDSView\"}},\"id\":\"31cee833-d783-4d62-a83d-91e90f1534cf\",\"type\":\"GlyphRenderer\"},{\"attributes\":{\"source\":{\"id\":\"adfb2111-1076-4161-826a-1b28053171ba\",\"type\":\"ColumnDataSource\"}},\"id\":\"0a5b136b-05ad-4278-b5bf-c3909dfb7698\",\"type\":\"CDSView\"},{\"attributes\":{\"fill_alpha\":{\"value\":0.7},\"fill_color\":{\"value\":\"#984ea3\"},\"line_alpha\":{\"value\":0.7},\"line_color\":{\"value\":\"#984ea3\"},\"x\":{\"field\":\"x\"},\"y\":{\"field\":\"y\"}},\"id\":\"2202110e-2fb7-4b6b-850c-5327ab5a1e3e\",\"type\":\"Square\"},{\"attributes\":{},\"id\":\"85089497-008b-4792-b9ee-4a75441d7b9e\",\"type\":\"BasicTickFormatter\"},{\"attributes\":{\"fill_alpha\":{\"value\":0.1},\"fill_color\":{\"value\":\"#1f77b4\"},\"line_alpha\":{\"value\":0.1},\"line_color\":{\"value\":\"#1f77b4\"},\"x\":{\"field\":\"x\"},\"y\":{\"field\":\"y\"}},\"id\":\"96390790-dcc3-40f4-951d-b85cad703824\",\"type\":\"Square\"},{\"attributes\":{\"below\":[{\"id\":\"ae156491-33f2-427e-9b45-64051b32e7b8\",\"type\":\"LinearAxis\"}],\"left\":[{\"id\":\"8c9f692a-41ba-46ca-bfd9-85cf77061ca9\",\"type\":\"LinearAxis\"}],\"plot_height\":500,\"plot_width\":400,\"renderers\":[{\"id\":\"ae156491-33f2-427e-9b45-64051b32e7b8\",\"type\":\"LinearAxis\"},{\"id\":\"2f8e499b-f4d9-4785-9a61-6117289896b3\",\"type\":\"Grid\"},{\"id\":\"8c9f692a-41ba-46ca-bfd9-85cf77061ca9\",\"type\":\"LinearAxis\"},{\"id\":\"7fd6a5e3-aafb-4b95-86a5-51def4d7b89d\",\"type\":\"Grid\"},{\"id\":\"c48fa270-d29f-4d0b-8eae-0691779ea1a4\",\"type\":\"BoxAnnotation\"},{\"id\":\"369d137f-7e32-41db-80d4-2acacbef7bb9\",\"type\":\"GlyphRenderer\"},{\"id\":\"24f4604f-3e0b-4575-83a3-2a857c1450f8\",\"type\":\"GlyphRenderer\"},{\"id\":\"e536ad3a-d404-4c14-beb2-3b7ae69c1595\",\"type\":\"GlyphRenderer\"},{\"id\":\"7ba06670-bcb0-42e0-a71d-a15585b0c779\",\"type\":\"GlyphRenderer\"},{\"id\":\"31cee833-d783-4d62-a83d-91e90f1534cf\",\"type\":\"GlyphRenderer\"}],\"title\":{\"id\":\"2b7eef27-5b66-4c4b-ad35-ae09a0386d3d\",\"type\":\"Title\"},\"toolbar\":{\"id\":\"5dd0fd51-ab7f-47f0-a765-87f50f84a0c6\",\"type\":\"Toolbar\"},\"toolbar_location\":null,\"x_range\":{\"id\":\"124013cf-ca76-4d6e-a60e-73833089eb00\",\"type\":\"Range1d\"},\"x_scale\":{\"id\":\"0d14de25-4dc5-48ac-ab8c-95f6698c5ea1\",\"type\":\"LinearScale\"},\"y_range\":{\"id\":\"b5d56be4-55a9-4778-99e5-cb10bb61c7af\",\"type\":\"Range1d\"},\"y_scale\":{\"id\":\"68ee74a7-a4cd-430b-84c9-e5a5266a0566\",\"type\":\"LinearScale\"}},\"id\":\"b87ee17e-9ca8-468c-92d7-f6dc99e1e2fc\",\"subtype\":\"Figure\",\"type\":\"Plot\"},{\"attributes\":{\"data_source\":{\"id\":\"693c76f0-578e-48c7-9957-b870dc0bae74\",\"type\":\"ColumnDataSource\"},\"glyph\":{\"id\":\"2202110e-2fb7-4b6b-850c-5327ab5a1e3e\",\"type\":\"Square\"},\"hover_glyph\":null,\"muted_glyph\":null,\"nonselection_glyph\":{\"id\":\"96390790-dcc3-40f4-951d-b85cad703824\",\"type\":\"Square\"},\"selection_glyph\":null,\"view\":{\"id\":\"d176f59d-0566-460d-b3ea-72e686c00056\",\"type\":\"CDSView\"}},\"id\":\"27b533e6-8ee0-4909-bd23-9c1b7c9dd828\",\"type\":\"GlyphRenderer\"},{\"attributes\":{\"children\":[{\"id\":\"b87ee17e-9ca8-468c-92d7-f6dc99e1e2fc\",\"subtype\":\"Figure\",\"type\":\"Plot\"},{\"id\":\"573bb279-169a-4454-8b22-b62120a42afe\",\"subtype\":\"Figure\",\"type\":\"Plot\"}]},\"id\":\"7ff460e4-2c5d-4ad0-8b6f-1cd67bb9de46\",\"type\":\"Row\"},{\"attributes\":{\"overlay\":{\"id\":\"28184be0-e7e9-4659-bacc-a5907eb01266\",\"type\":\"BoxAnnotation\"}},\"id\":\"d1ce0a70-6d54-4c2b-b1ed-6db3d4e87e7c\",\"type\":\"BoxZoomTool\"},{\"attributes\":{\"tools\":[{\"id\":\"aa8320d3-8ee7-40ce-beab-c4c298d9da6f\",\"type\":\"PanTool\"},{\"id\":\"181c05cb-551c-4e73-8581-cfa25496a254\",\"type\":\"WheelZoomTool\"},{\"id\":\"8ae70c2f-77f6-4258-80fd-bf735d4be15a\",\"type\":\"BoxZoomTool\"},{\"id\":\"e607a310-7463-414e-bb0a-21e3faa4a764\",\"type\":\"SaveTool\"},{\"id\":\"c36f51dd-7830-43b5-99c3-02ef2cae5869\",\"type\":\"ResetTool\"},{\"id\":\"78d0b3e1-0f8b-40c6-b4dd-89a602dee2f1\",\"type\":\"HelpTool\"},{\"id\":\"7e59db58-e53f-4775-ac71-e040a06d7511\",\"type\":\"PanTool\"},{\"id\":\"09ec41be-848f-4bd5-ae35-f7854406bf64\",\"type\":\"WheelZoomTool\"},{\"id\":\"d1ce0a70-6d54-4c2b-b1ed-6db3d4e87e7c\",\"type\":\"BoxZoomTool\"},{\"id\":\"ea87ab58-386d-46be-aeb6-285e47b49dff\",\"type\":\"SaveTool\"},{\"id\":\"9d741fa8-b921-490c-aa1a-5d56138c72a0\",\"type\":\"ResetTool\"},{\"id\":\"a2569c67-ee67-45d2-bcdd-e7240253b38c\",\"type\":\"HelpTool\"}]},\"id\":\"4ad3c11d-c595-47e4-bac7-a77332781684\",\"type\":\"ProxyToolbar\"},{\"attributes\":{\"dimension\":1,\"plot\":{\"id\":\"573bb279-169a-4454-8b22-b62120a42afe\",\"subtype\":\"Figure\",\"type\":\"Plot\"},\"ticker\":{\"id\":\"4a1bc30b-ccad-4a38-9f9b-b1d0e95df60d\",\"type\":\"LogTicker\"}},\"id\":\"f5408587-c74a-45d1-afbb-7a619cb40e86\",\"type\":\"Grid\"},{\"attributes\":{\"line_alpha\":0.1,\"line_color\":\"#1f77b4\",\"line_dash\":[6],\"line_width\":5,\"x\":{\"field\":\"x\"},\"y\":{\"field\":\"y\"}},\"id\":\"50f7de77-adb3-4275-98b9-252193070e30\",\"type\":\"Line\"},{\"attributes\":{\"label\":{\"value\":\"CLIRAD `coolr_bands`\"},\"renderers\":[{\"id\":\"6a27b2f6-fe55-431a-bc4a-ee810a1b0767\",\"type\":\"GlyphRenderer\"}]},\"id\":\"740b8b1e-9e2e-43cf-91e8-fa8f93b21974\",\"type\":\"LegendItem\"},{\"attributes\":{},\"id\":\"68ee74a7-a4cd-430b-84c9-e5a5266a0566\",\"type\":\"LinearScale\"},{\"attributes\":{},\"id\":\"dd50e662-5be0-4d50-9179-47cee750d29a\",\"type\":\"Selection\"},{\"attributes\":{\"label\":{\"value\":\"CRD\"},\"renderers\":[{\"id\":\"9ad9c50c-33d7-419e-8fa1-38bd4c478b59\",\"type\":\"GlyphRenderer\"},{\"id\":\"320bd26c-27a4-4d83-b935-12fe7246a338\",\"type\":\"GlyphRenderer\"}]},\"id\":\"0cf28648-0e59-4ea2-9c00-78ab73a0daf0\",\"type\":\"LegendItem\"},{\"attributes\":{\"data_source\":{\"id\":\"2944a94e-9670-484f-a729-aa8430ede279\",\"type\":\"ColumnDataSource\"},\"glyph\":{\"id\":\"e3e8dcf2-23a2-4ccb-b4f8-19fa79f9d327\",\"type\":\"Line\"},\"hover_glyph\":null,\"muted_glyph\":null,\"nonselection_glyph\":{\"id\":\"bef24ae3-1dc0-455e-8492-0fdc04de1e9a\",\"type\":\"Line\"},\"selection_glyph\":null,\"view\":{\"id\":\"10c83090-c5de-4fd2-9479-634d39a13616\",\"type\":\"CDSView\"}},\"id\":\"6a27b2f6-fe55-431a-bc4a-ee810a1b0767\",\"type\":\"GlyphRenderer\"},{\"attributes\":{},\"id\":\"065d9e1d-85dc-47a4-8a11-4ebd2b331b3c\",\"type\":\"Selection\"},{\"attributes\":{\"label\":{\"value\":\"WGT igg=10 wgt_flux=2\"},\"renderers\":[{\"id\":\"27b533e6-8ee0-4909-bd23-9c1b7c9dd828\",\"type\":\"GlyphRenderer\"},{\"id\":\"2257f758-1932-4f31-a6bf-a2c40980ec3e\",\"type\":\"GlyphRenderer\"}]},\"id\":\"04331611-2ea3-4b68-b196-e9510e489011\",\"type\":\"LegendItem\"},{\"attributes\":{},\"id\":\"7266ab2b-f960-433e-a3c9-50843497c45a\",\"type\":\"UnionRenderers\"},{\"attributes\":{},\"id\":\"efa7b3e0-8390-429d-8d9a-5a8428526f16\",\"type\":\"BasicTickFormatter\"},{\"attributes\":{\"fill_alpha\":{\"value\":0.1},\"fill_color\":{\"value\":\"#1f77b4\"},\"line_alpha\":{\"value\":0.1},\"line_color\":{\"value\":\"#1f77b4\"},\"x\":{\"field\":\"x\"},\"y\":{\"field\":\"y\"}},\"id\":\"8df87c66-38f0-443a-b06f-ab97e0f8325b\",\"type\":\"Circle\"},{\"attributes\":{},\"id\":\"0d14de25-4dc5-48ac-ab8c-95f6698c5ea1\",\"type\":\"LinearScale\"},{\"attributes\":{\"line_alpha\":0.6,\"line_color\":\"#e41a1c\",\"line_dash\":[6],\"line_width\":5,\"x\":{\"field\":\"x\"},\"y\":{\"field\":\"y\"}},\"id\":\"e3e8dcf2-23a2-4ccb-b4f8-19fa79f9d327\",\"type\":\"Line\"},{\"attributes\":{},\"id\":\"f7721690-fd37-46ea-827b-4869cf8d1658\",\"type\":\"UnionRenderers\"},{\"attributes\":{\"callback\":null,\"end\":0.004992082854327001,\"start\":-5.7697887027e-05},\"id\":\"124013cf-ca76-4d6e-a60e-73833089eb00\",\"type\":\"Range1d\"},{\"attributes\":{},\"id\":\"ce0772e6-f1c0-4459-bd62-ec552b974d17\",\"type\":\"Selection\"},{\"attributes\":{},\"id\":\"cd9c536d-aded-4cf8-a37d-0a21429de709\",\"type\":\"Selection\"},{\"attributes\":{\"data_source\":{\"id\":\"c2bc0884-d241-4b4f-8c8e-bd7f0cffece2\",\"type\":\"ColumnDataSource\"},\"glyph\":{\"id\":\"c9e0449e-d506-4134-a52b-8ba4f7632df7\",\"type\":\"Line\"},\"hover_glyph\":null,\"muted_glyph\":null,\"nonselection_glyph\":{\"id\":\"50f7de77-adb3-4275-98b9-252193070e30\",\"type\":\"Line\"},\"selection_glyph\":null,\"view\":{\"id\":\"9cff5f27-701e-4f23-a61e-2ca52aff3801\",\"type\":\"CDSView\"}},\"id\":\"369d137f-7e32-41db-80d4-2acacbef7bb9\",\"type\":\"GlyphRenderer\"},{\"attributes\":{},\"id\":\"c0017d76-4b89-48d1-97ce-41807876fcd3\",\"type\":\"UnionRenderers\"},{\"attributes\":{},\"id\":\"ff0d92a6-6983-4fb2-992c-a89ab8c51daf\",\"type\":\"Selection\"},{\"attributes\":{\"data_source\":{\"id\":\"30d7fdd5-0bc9-4688-ba45-9bfaf9baa5cc\",\"type\":\"ColumnDataSource\"},\"glyph\":{\"id\":\"f3e65b1c-8a5b-4216-ac27-427cb98aeddc\",\"type\":\"Circle\"},\"hover_glyph\":null,\"muted_glyph\":null,\"nonselection_glyph\":{\"id\":\"8df87c66-38f0-443a-b06f-ab97e0f8325b\",\"type\":\"Circle\"},\"selection_glyph\":null,\"view\":{\"id\":\"5622d7d4-6188-4341-acb2-ff0971f51243\",\"type\":\"CDSView\"}},\"id\":\"24f4604f-3e0b-4575-83a3-2a857c1450f8\",\"type\":\"GlyphRenderer\"},{\"attributes\":{},\"id\":\"30c0d361-0c7e-4c6c-9e55-da0bf333a660\",\"type\":\"UnionRenderers\"},{\"attributes\":{\"line_alpha\":0.1,\"line_color\":\"#1f77b4\",\"line_dash\":[6],\"line_width\":5,\"x\":{\"field\":\"x\"},\"y\":{\"field\":\"y\"}},\"id\":\"bef24ae3-1dc0-455e-8492-0fdc04de1e9a\",\"type\":\"Line\"},{\"attributes\":{},\"id\":\"d102a72e-c6fa-4de7-a979-49dd0f377a42\",\"type\":\"Selection\"},{\"attributes\":{},\"id\":\"1e6d32e4-2f9c-4822-8be5-549596b0facf\",\"type\":\"UnionRenderers\"},{\"attributes\":{},\"id\":\"f7ce6507-149d-4846-9cab-2c08431cb9c4\",\"type\":\"UnionRenderers\"},{\"attributes\":{},\"id\":\"cfe6af09-0b81-4e51-9c28-7d7c67fc2ae2\",\"type\":\"UnionRenderers\"},{\"attributes\":{\"line_alpha\":0.1,\"line_color\":\"#1f77b4\",\"line_width\":3,\"x\":{\"field\":\"x\"},\"y\":{\"field\":\"y\"}},\"id\":\"de0483bf-2edd-4ca4-9809-dba1b4e1ba41\",\"type\":\"Line\"},{\"attributes\":{},\"id\":\"4cd81940-b49c-49fd-ab8a-5cabd8edc567\",\"type\":\"BasicTickFormatter\"},{\"attributes\":{\"ticker\":null},\"id\":\"3326222c-25dd-4241-9179-472af947a01a\",\"type\":\"LogTickFormatter\"},{\"attributes\":{\"bottom_units\":\"screen\",\"fill_alpha\":{\"value\":0.5},\"fill_color\":{\"value\":\"lightgrey\"},\"left_units\":\"screen\",\"level\":\"overlay\",\"line_alpha\":{\"value\":1.0},\"line_color\":{\"value\":\"black\"},\"line_dash\":[4,4],\"line_width\":{\"value\":2},\"plot\":null,\"render_mode\":\"css\",\"right_units\":\"screen\",\"top_units\":\"screen\"},\"id\":\"28184be0-e7e9-4659-bacc-a5907eb01266\",\"type\":\"BoxAnnotation\"},{\"attributes\":{},\"id\":\"8a832b88-a732-4187-869a-90a1a334b48b\",\"type\":\"LogScale\"},{\"attributes\":{},\"id\":\"1f58b2ab-2787-43e3-8ac1-bbfadac0386f\",\"type\":\"Selection\"},{\"attributes\":{\"num_minor_ticks\":10},\"id\":\"4a1bc30b-ccad-4a38-9f9b-b1d0e95df60d\",\"type\":\"LogTicker\"},{\"attributes\":{\"callback\":null,\"end\":0.01,\"start\":1020},\"id\":\"b5d56be4-55a9-4778-99e5-cb10bb61c7af\",\"type\":\"Range1d\"},{\"attributes\":{\"fill_alpha\":{\"value\":0.1},\"fill_color\":{\"value\":\"#1f77b4\"},\"line_alpha\":{\"value\":0.1},\"line_color\":{\"value\":\"#1f77b4\"},\"x\":{\"field\":\"x\"},\"y\":{\"field\":\"y\"}},\"id\":\"5eb1afea-974d-4997-852a-71f40e659701\",\"type\":\"Square\"},{\"attributes\":{\"callback\":null,\"data\":{\"x\":{\"__ndarray__\":\"jlwtch8xvb4H/1atPmC8vpoYbUNb9Lm+AEEJKlIqtr5ih43NjbKwvnHQQu1jX6K+1zTGld+XaT6unFimxJqrPkiFEtKaar4+eCquw5WsyT73JMJZJFvTPtOQXQozZds+7oCtHySX4j5fsfiRA8fnPmRhK9jXaOw+TVff4D9z8D6uhEnnXO/yPpTrU1vCsPU+bTZAwgS++D41jZKnyhz8PmDVNmMUcP8+OZ1vp7LQ/D7+uQ9JZc/zPlXWLQCLm+c+vm4G+VyA2T5iU8CM/XHGPmsu0ogG8qE+hcPgtmmYpL4rslCyjxyzviyQnjw88be+tqO8+CcLu76cZQsHbwS9vqhte9OUhL2+Vnbqxo8Lvb4XQcAqJzW8vo9zSj89Kru+WBy5s29Tur5gGCgjl3i6voMbTohon8K+XCZyOBXiyL7WoRhWqjzQvoDiaYDEcNO+FG6KXwDD1r7OdQxY/Lvavo6E8/ePLN++ZpjPAhkt4b5dlBrZrJ7gvqvMLMohc9m+BhZUVwjIxr5VsygnYlDgPticRtgP+wA/4S94g3W3FD+pzI2RNIEkP3WVIcxy6DE/oq04/ZefPD/BatiUcVZFP9xT80M7EE4/F0nBr6YtVD/mmdO4wvpZP2/D0r5FIGA/ROrqTKlkYz+EOinvirBmP7/IXP3+62k/ltEIup0EbT/D6TUZ9O5vP01xr23FTnE/5EaHQxOBcj8jMGmbAX9zP+ZR21EWIXQ/qOp4bao+dD+cawnStJ9zPxzRzgSiYnI/FTLZ9C4CcT9JtQzPi05vP66pKndRwmw/\",\"dtype\":\"float64\",\"shape\":[75]},\"y\":{\"__ndarray__\":\"GhExyth1ND/Sv8nbtpRIP2vylNV0PVE/aTum7souWD/At0SJ8fVgPw3Iuahxymc/MSNhhJWvcD/bTfBN02d3P2zb5nxnaoA/CD5h5MAGhz8NmeH1TyaQP+zrCsc9p5Y/LbKd76fGnz/bLW5ISEmmPww9YvTcQq8/JV2OstnstT8Er5Y7M8G+P0c+r3jqkcU/5h99k6ZBzj88bCIzFzjVP4enV8oyxN0//yH99nXg5D8qOpLLf0jtP5kqGJXUifQ/c9cS8kHP/D+/DpwzojQEQIEmwoanVwxA4lgXt9HgE0BSSZ2AJuIbQAMJih9jjiNA5q4l5INuK0AwTKYKRj0zQNv5fmq8/DpAaCJseHrtQkB/+zpwzoxKQM3MzMzMeFJAZmZmZmZqWEAAAAAAAFxeQM3MzMzMJmJAmpmZmZkfZUBmZmZmZhhoQDMzMzMzEWtAAAAAAAAKbkBmZmZmZoFwQM3MzMzM/XFAMzMzMzN6c0CamZmZmfZ0QAAAAAAAc3ZAZmZmZmbvd0DNzMzMzGt5QDMzMzMz6HpAmpmZmZlkfEAAAAAAAOF9QGZmZmZmXX9AZmZmZuZsgECamZmZGSuBQM3MzMxM6YFAAAAAAICngkAzMzMzs2WDQGZmZmbmI4RAmpmZmRnihEDNzMzMTKCFQAAAAACAXoZAMzMzM7Mch0BmZmZm5tqHQJqZmZkZmYhAzczMzExXiUAAAAAAgBWKQDMzMzOz04pAZmZmZuaRi0CamZmZGVCMQM3MzMxMDo1AAAAAAIDMjUAzMzMzs4qOQGZmZmbmSI9A\",\"dtype\":\"float64\",\"shape\":[75]}},\"selected\":{\"id\":\"cd9c536d-aded-4cf8-a37d-0a21429de709\",\"type\":\"Selection\"},\"selection_policy\":{\"id\":\"c0017d76-4b89-48d1-97ce-41807876fcd3\",\"type\":\"UnionRenderers\"}},\"id\":\"7476b62e-3cb8-47df-9d23-efc3e52efc6a\",\"type\":\"ColumnDataSource\"},{\"attributes\":{\"source\":{\"id\":\"7476b62e-3cb8-47df-9d23-efc3e52efc6a\",\"type\":\"ColumnDataSource\"}},\"id\":\"b7a62581-853c-4d6f-8466-acc3dc3440ba\",\"type\":\"CDSView\"},{\"attributes\":{\"source\":{\"id\":\"136020dd-5699-4000-9653-e3b0be5b1f74\",\"type\":\"ColumnDataSource\"}},\"id\":\"548b97ca-ffbf-40b5-a787-70074c3c8416\",\"type\":\"CDSView\"},{\"attributes\":{\"line_alpha\":0.1,\"line_color\":\"#1f77b4\",\"line_width\":1.5,\"x\":{\"field\":\"x\"},\"y\":{\"field\":\"y\"}},\"id\":\"0be6f1bd-30e9-434a-ad0f-23d0de538c07\",\"type\":\"Line\"},{\"attributes\":{\"fill_alpha\":{\"value\":0.7},\"fill_color\":{\"value\":\"#984ea3\"},\"line_alpha\":{\"value\":0.7},\"line_color\":{\"value\":\"#984ea3\"},\"x\":{\"field\":\"x\"},\"y\":{\"field\":\"y\"}},\"id\":\"8624b2fe-4e11-44be-9aed-c73ab64f48b3\",\"type\":\"Square\"},{\"attributes\":{\"callback\":null,\"data\":{\"x\":{\"__ndarray__\":\"qdMLq1C3sr58BhIqKGCyvuYpKtngQrG+2fT31n7nrr4AM6HNdZepvsHWYO+JM6K+hsigu/mKkL6cWjOPkuKCPsE71oqBZqU+4fhbEeY9tT5QvC81tjPBPiLbAG2hVck+m2VzIaOf0T5yiaPfxuLWPjkWiOJRl9s+NnC88GcU4D5ERaWubpziPjvoqgR3bOU+J9N2b22L6D4nlgscoADsPkRtFvJ8bu8+iRyx4iHO7D6XJbHZdafjPtNLZmimAdc+iJOwvfLfxz5uV6RCMpayPjWas7Z7cUM+yb6FMZioo77LK9AsETCtvstTbHhUYbG+h90JwBtms76BLKZiOeG0vtcAB+fxurW+qkfCZ0APtr6i/9Y8IC22vikONSw3K7a+Q3oCZD0mtr6/BduwErq2vnVdMnwHMMC+e0ye9lrYxb6dWQxRKrLMvlcEwqcsRtG+jAglLFlK1L5BE4ApLeLXvr6XJcUg6Nu+O07VpGjn3r75Os198FvevpVw6kACS9i+bB3Jgj+ZzL5CXNSDZHvUPhDx2nOSPfo+AlVGPrnUED+3PWpvhBEhP5yEkhmgXS4/unTi5s2dOD9JN78QDIFCPw0uSdZ4VUo/GKX1vDLTUT9qsyQ1zCFXPyRUP+7r41w/oBosDwl6YT9OdNhYUY1kP3LZShdvlGc/VPjVfep7aj9ihcnpWDdtP+cFbqWuu28/O5z/atz6cD+2OHnGROdxP2RQVh3MfnI/l6mInemhcj/OuuUzMBxyP/IbnpaKCnE/hf5mZKWubz+I/t+J/1FtP0eVnTCOFGs/\",\"dtype\":\"float64\",\"shape\":[75]},\"y\":{\"__ndarray__\":\"GhExyth1ND/Sv8nbtpRIP2vylNV0PVE/aTum7souWD/At0SJ8fVgPw3Iuahxymc/MSNhhJWvcD/bTfBN02d3P2zb5nxnaoA/CD5h5MAGhz8NmeH1TyaQP+zrCsc9p5Y/LbKd76fGnz/bLW5ISEmmPww9YvTcQq8/JV2OstnstT8Er5Y7M8G+P0c+r3jqkcU/5h99k6ZBzj88bCIzFzjVP4enV8oyxN0//yH99nXg5D8qOpLLf0jtP5kqGJXUifQ/c9cS8kHP/D+/DpwzojQEQIEmwoanVwxA4lgXt9HgE0BSSZ2AJuIbQAMJih9jjiNA5q4l5INuK0AwTKYKRj0zQNv5fmq8/DpAaCJseHrtQkB/+zpwzoxKQM3MzMzMeFJAZmZmZmZqWEAAAAAAAFxeQM3MzMzMJmJAmpmZmZkfZUBmZmZmZhhoQDMzMzMzEWtAAAAAAAAKbkBmZmZmZoFwQM3MzMzM/XFAMzMzMzN6c0CamZmZmfZ0QAAAAAAAc3ZAZmZmZmbvd0DNzMzMzGt5QDMzMzMz6HpAmpmZmZlkfEAAAAAAAOF9QGZmZmZmXX9AZmZmZuZsgECamZmZGSuBQM3MzMxM6YFAAAAAAICngkAzMzMzs2WDQGZmZmbmI4RAmpmZmRnihEDNzMzMTKCFQAAAAACAXoZAMzMzM7Mch0BmZmZm5tqHQJqZmZkZmYhAzczMzExXiUAAAAAAgBWKQDMzMzOz04pAZmZmZuaRi0CamZmZGVCMQM3MzMxMDo1AAAAAAIDMjUAzMzMzs4qOQGZmZmbmSI9A\",\"dtype\":\"float64\",\"shape\":[75]}},\"selected\":{\"id\":\"d102a72e-c6fa-4de7-a979-49dd0f377a42\",\"type\":\"Selection\"},\"selection_policy\":{\"id\":\"1e6d32e4-2f9c-4822-8be5-549596b0facf\",\"type\":\"UnionRenderers\"}},\"id\":\"136020dd-5699-4000-9653-e3b0be5b1f74\",\"type\":\"ColumnDataSource\"},{\"attributes\":{\"line_color\":\"#4daf4a\",\"line_width\":1.5,\"x\":{\"field\":\"x\"},\"y\":{\"field\":\"y\"}},\"id\":\"24b9d006-80af-46c7-9ca4-205c250c8322\",\"type\":\"Line\"},{\"attributes\":{\"data_source\":{\"id\":\"7476b62e-3cb8-47df-9d23-efc3e52efc6a\",\"type\":\"ColumnDataSource\"},\"glyph\":{\"id\":\"24b9d006-80af-46c7-9ca4-205c250c8322\",\"type\":\"Line\"},\"hover_glyph\":null,\"muted_glyph\":null,\"nonselection_glyph\":{\"id\":\"0be6f1bd-30e9-434a-ad0f-23d0de538c07\",\"type\":\"Line\"},\"selection_glyph\":null,\"view\":{\"id\":\"b7a62581-853c-4d6f-8466-acc3dc3440ba\",\"type\":\"CDSView\"}},\"id\":\"e536ad3a-d404-4c14-beb2-3b7ae69c1595\",\"type\":\"GlyphRenderer\"},{\"attributes\":{\"callback\":null,\"data\":{\"x\":{\"__ndarray__\":\"qdMLq1C3sr58BhIqKGCyvuYpKtngQrG+2fT31n7nrr4AM6HNdZepvsHWYO+JM6K+hsigu/mKkL6cWjOPkuKCPsE71oqBZqU+4fhbEeY9tT5QvC81tjPBPiLbAG2hVck+m2VzIaOf0T5yiaPfxuLWPjkWiOJRl9s+NnC88GcU4D5ERaWubpziPjvoqgR3bOU+J9N2b22L6D4nlgscoADsPkRtFvJ8bu8+iRyx4iHO7D6XJbHZdafjPtNLZmimAdc+iJOwvfLfxz5uV6RCMpayPjWas7Z7cUM+yb6FMZioo77LK9AsETCtvstTbHhUYbG+h90JwBtms76BLKZiOeG0vtcAB+fxurW+qkfCZ0APtr6i/9Y8IC22vikONSw3K7a+Q3oCZD0mtr6/BduwErq2vnVdMnwHMMC+e0ye9lrYxb6dWQxRKrLMvlcEwqcsRtG+jAglLFlK1L5BE4ApLeLXvr6XJcUg6Nu+O07VpGjn3r75Os198FvevpVw6kACS9i+bB3Jgj+ZzL5CXNSDZHvUPhDx2nOSPfo+AlVGPrnUED+3PWpvhBEhP5yEkhmgXS4/unTi5s2dOD9JN78QDIFCPw0uSdZ4VUo/GKX1vDLTUT9qsyQ1zCFXPyRUP+7r41w/oBosDwl6YT9OdNhYUY1kP3LZShdvlGc/VPjVfep7aj9ihcnpWDdtP+cFbqWuu28/O5z/atz6cD+2OHnGROdxP2RQVh3MfnI/l6mInemhcj/OuuUzMBxyP/IbnpaKCnE/hf5mZKWubz+I/t+J/1FtP0eVnTCOFGs/\",\"dtype\":\"float64\",\"shape\":[75]},\"y\":{\"__ndarray__\":\"GhExyth1ND/Sv8nbtpRIP2vylNV0PVE/aTum7souWD/At0SJ8fVgPw3Iuahxymc/MSNhhJWvcD/bTfBN02d3P2zb5nxnaoA/CD5h5MAGhz8NmeH1TyaQP+zrCsc9p5Y/LbKd76fGnz/bLW5ISEmmPww9YvTcQq8/JV2OstnstT8Er5Y7M8G+P0c+r3jqkcU/5h99k6ZBzj88bCIzFzjVP4enV8oyxN0//yH99nXg5D8qOpLLf0jtP5kqGJXUifQ/c9cS8kHP/D+/DpwzojQEQIEmwoanVwxA4lgXt9HgE0BSSZ2AJuIbQAMJih9jjiNA5q4l5INuK0AwTKYKRj0zQNv5fmq8/DpAaCJseHrtQkB/+zpwzoxKQM3MzMzMeFJAZmZmZmZqWEAAAAAAAFxeQM3MzMzMJmJAmpmZmZkfZUBmZmZmZhhoQDMzMzMzEWtAAAAAAAAKbkBmZmZmZoFwQM3MzMzM/XFAMzMzMzN6c0CamZmZmfZ0QAAAAAAAc3ZAZmZmZmbvd0DNzMzMzGt5QDMzMzMz6HpAmpmZmZlkfEAAAAAAAOF9QGZmZmZmXX9AZmZmZuZsgECamZmZGSuBQM3MzMxM6YFAAAAAAICngkAzMzMzs2WDQGZmZmbmI4RAmpmZmRnihEDNzMzMTKCFQAAAAACAXoZAMzMzM7Mch0BmZmZm5tqHQJqZmZkZmYhAzczMzExXiUAAAAAAgBWKQDMzMzOz04pAZmZmZuaRi0CamZmZGVCMQM3MzMxMDo1AAAAAAIDMjUAzMzMzs4qOQGZmZmbmSI9A\",\"dtype\":\"float64\",\"shape\":[75]}},\"selected\":{\"id\":\"ff0d92a6-6983-4fb2-992c-a89ab8c51daf\",\"type\":\"Selection\"},\"selection_policy\":{\"id\":\"30c0d361-0c7e-4c6c-9e55-da0bf333a660\",\"type\":\"UnionRenderers\"}},\"id\":\"55d92d4e-2143-4bc5-b8e9-53ca7d073f3b\",\"type\":\"ColumnDataSource\"},{\"attributes\":{\"data_source\":{\"id\":\"136020dd-5699-4000-9653-e3b0be5b1f74\",\"type\":\"ColumnDataSource\"},\"glyph\":{\"id\":\"8624b2fe-4e11-44be-9aed-c73ab64f48b3\",\"type\":\"Square\"},\"hover_glyph\":null,\"muted_glyph\":null,\"nonselection_glyph\":{\"id\":\"5eb1afea-974d-4997-852a-71f40e659701\",\"type\":\"Square\"},\"selection_glyph\":null,\"view\":{\"id\":\"548b97ca-ffbf-40b5-a787-70074c3c8416\",\"type\":\"CDSView\"}},\"id\":\"7ba06670-bcb0-42e0-a71d-a15585b0c779\",\"type\":\"GlyphRenderer\"},{\"attributes\":{\"line_alpha\":0.6,\"line_color\":\"#984ea3\",\"line_width\":3,\"x\":{\"field\":\"x\"},\"y\":{\"field\":\"y\"}},\"id\":\"95f485f9-9cc8-429f-a3a2-318a93f0e4b8\",\"type\":\"Line\"},{\"attributes\":{\"line_alpha\":0.6,\"line_color\":\"#e41a1c\",\"line_dash\":[6],\"line_width\":5,\"x\":{\"field\":\"x\"},\"y\":{\"field\":\"y\"}},\"id\":\"c9e0449e-d506-4134-a52b-8ba4f7632df7\",\"type\":\"Line\"}],\"root_ids\":[\"225ec320-2124-4be3-9010-01639cb25b3f\"]},\"title\":\"Bokeh Application\",\"version\":\"0.12.16\"}};\n",
       "  var render_items = [{\"docid\":\"0bd66401-763a-41e4-b370-d8b448da32c7\",\"elementid\":\"4fd7159a-5975-490e-ba0a-c0f67091e35b\",\"modelid\":\"225ec320-2124-4be3-9010-01639cb25b3f\"}];\n",
       "  root.Bokeh.embed.embed_items_notebook(docs_json, render_items);\n",
       "\n",
       "  }\n",
       "  if (root.Bokeh !== undefined) {\n",
       "    embed_document(root);\n",
       "  } else {\n",
       "    var attempts = 0;\n",
       "    var timer = setInterval(function(root) {\n",
       "      if (root.Bokeh !== undefined) {\n",
       "        embed_document(root);\n",
       "        clearInterval(timer);\n",
       "      }\n",
       "      attempts++;\n",
       "      if (attempts > 100) {\n",
       "        console.log(\"Bokeh: ERROR: Unable to run BokehJS code because BokehJS library is missing\")\n",
       "        clearInterval(timer);\n",
       "      }\n",
       "    }, 10, root)\n",
       "  }\n",
       "})(window);"
      ],
      "application/vnd.bokehjs_exec.v0+json": ""
     },
     "metadata": {
      "application/vnd.bokehjs_exec.v0+json": {
       "id": "225ec320-2124-4be3-9010-01639cb25b3f"
      }
     },
     "output_type": "display_data"
    },
    {
     "name": "stdout",
     "output_type": "stream",
     "text": [
      "FIGURE. Cooling rate profiles.\n"
     ]
    },
    {
     "data": {
      "text/html": [
       "<a id=\"Flux_Comparison\"></a>"
      ],
      "text/plain": [
       "<IPython.core.display.HTML object>"
      ]
     },
     "metadata": {},
     "output_type": "display_data"
    },
    {
     "data": {
      "text/markdown": [
       "# Flux Comparison"
      ],
      "text/plain": [
       "<IPython.core.display.Markdown object>"
      ]
     },
     "metadata": {},
     "output_type": "display_data"
    },
    {
     "data": {
      "text/html": [
       "<div>\n",
       "<style scoped>\n",
       "    .dataframe tbody tr th:only-of-type {\n",
       "        vertical-align: middle;\n",
       "    }\n",
       "\n",
       "    .dataframe tbody tr th {\n",
       "        vertical-align: top;\n",
       "    }\n",
       "\n",
       "    .dataframe thead th {\n",
       "        text-align: right;\n",
       "    }\n",
       "</style>\n",
       "<table border=\"1\" class=\"dataframe\">\n",
       "  <thead>\n",
       "    <tr style=\"text-align: right;\">\n",
       "      <th></th>\n",
       "      <th></th>\n",
       "      <th>flug</th>\n",
       "      <th>fldg</th>\n",
       "      <th>fnetg</th>\n",
       "    </tr>\n",
       "    <tr>\n",
       "      <th>pressure</th>\n",
       "      <th>level</th>\n",
       "      <th></th>\n",
       "      <th></th>\n",
       "      <th></th>\n",
       "    </tr>\n",
       "  </thead>\n",
       "  <tbody>\n",
       "    <tr>\n",
       "      <th>0.0000</th>\n",
       "      <th>1</th>\n",
       "      <td>-15.040846</td>\n",
       "      <td>0.000000</td>\n",
       "      <td>-15.040846</td>\n",
       "    </tr>\n",
       "    <tr>\n",
       "      <th>1.0685</th>\n",
       "      <th>24</th>\n",
       "      <td>-15.040846</td>\n",
       "      <td>0.000003</td>\n",
       "      <td>-15.040843</td>\n",
       "    </tr>\n",
       "    <tr>\n",
       "      <th>1013.0000</th>\n",
       "      <th>76</th>\n",
       "      <td>-15.051406</td>\n",
       "      <td>0.199651</td>\n",
       "      <td>-14.851756</td>\n",
       "    </tr>\n",
       "  </tbody>\n",
       "</table>\n",
       "</div>"
      ],
      "text/plain": [
       "                      flug      fldg      fnetg\n",
       "pressure  level                                \n",
       "0.0000    1     -15.040846  0.000000 -15.040846\n",
       "1.0685    24    -15.040846  0.000003 -15.040843\n",
       "1013.0000 76    -15.051406  0.199651 -14.851756"
      ]
     },
     "metadata": {},
     "output_type": "display_data"
    },
    {
     "name": "stdout",
     "output_type": "stream",
     "text": [
      "Table. Fluxes. CRD\n"
     ]
    },
    {
     "data": {
      "text/html": [
       "<div>\n",
       "<style scoped>\n",
       "    .dataframe tbody tr th:only-of-type {\n",
       "        vertical-align: middle;\n",
       "    }\n",
       "\n",
       "    .dataframe tbody tr th {\n",
       "        vertical-align: top;\n",
       "    }\n",
       "\n",
       "    .dataframe thead th {\n",
       "        text-align: right;\n",
       "    }\n",
       "</style>\n",
       "<table border=\"1\" class=\"dataframe\">\n",
       "  <thead>\n",
       "    <tr style=\"text-align: right;\">\n",
       "      <th></th>\n",
       "      <th></th>\n",
       "      <th>flug</th>\n",
       "      <th>fldg</th>\n",
       "      <th>fnetg</th>\n",
       "    </tr>\n",
       "    <tr>\n",
       "      <th>pressure</th>\n",
       "      <th>level</th>\n",
       "      <th></th>\n",
       "      <th></th>\n",
       "      <th></th>\n",
       "    </tr>\n",
       "  </thead>\n",
       "  <tbody>\n",
       "    <tr>\n",
       "      <th>0.0000</th>\n",
       "      <th>1</th>\n",
       "      <td>-15.042436</td>\n",
       "      <td>0.000000</td>\n",
       "      <td>-15.042436</td>\n",
       "    </tr>\n",
       "    <tr>\n",
       "      <th>1.0685</th>\n",
       "      <th>24</th>\n",
       "      <td>-15.042436</td>\n",
       "      <td>0.000001</td>\n",
       "      <td>-15.042433</td>\n",
       "    </tr>\n",
       "    <tr>\n",
       "      <th>1013.0000</th>\n",
       "      <th>76</th>\n",
       "      <td>-15.051406</td>\n",
       "      <td>0.182209</td>\n",
       "      <td>-14.869197</td>\n",
       "    </tr>\n",
       "  </tbody>\n",
       "</table>\n",
       "</div>"
      ],
      "text/plain": [
       "                      flug      fldg      fnetg\n",
       "pressure  level                                \n",
       "0.0000    1     -15.042436  0.000000 -15.042436\n",
       "1.0685    24    -15.042436  0.000001 -15.042433\n",
       "1013.0000 76    -15.051406  0.182209 -14.869197"
      ]
     },
     "metadata": {},
     "output_type": "display_data"
    },
    {
     "name": "stdout",
     "output_type": "stream",
     "text": [
      "Table. Fluxes. WGT igg=10 wgt_flux=1\n"
     ]
    },
    {
     "data": {
      "text/html": [
       "<div>\n",
       "<style scoped>\n",
       "    .dataframe tbody tr th:only-of-type {\n",
       "        vertical-align: middle;\n",
       "    }\n",
       "\n",
       "    .dataframe tbody tr th {\n",
       "        vertical-align: top;\n",
       "    }\n",
       "\n",
       "    .dataframe thead th {\n",
       "        text-align: right;\n",
       "    }\n",
       "</style>\n",
       "<table border=\"1\" class=\"dataframe\">\n",
       "  <thead>\n",
       "    <tr style=\"text-align: right;\">\n",
       "      <th></th>\n",
       "      <th></th>\n",
       "      <th>flug</th>\n",
       "      <th>fldg</th>\n",
       "      <th>fnetg</th>\n",
       "    </tr>\n",
       "    <tr>\n",
       "      <th>pressure</th>\n",
       "      <th>level</th>\n",
       "      <th></th>\n",
       "      <th></th>\n",
       "      <th></th>\n",
       "    </tr>\n",
       "  </thead>\n",
       "  <tbody>\n",
       "    <tr>\n",
       "      <th>1.000000e-08</th>\n",
       "      <th>1</th>\n",
       "      <td>-15.043313</td>\n",
       "      <td>0.000002</td>\n",
       "      <td>-15.043311</td>\n",
       "    </tr>\n",
       "    <tr>\n",
       "      <th>1.068500e+00</th>\n",
       "      <th>24</th>\n",
       "      <td>-15.043313</td>\n",
       "      <td>0.000003</td>\n",
       "      <td>-15.043310</td>\n",
       "    </tr>\n",
       "    <tr>\n",
       "      <th>1.013000e+03</th>\n",
       "      <th>76</th>\n",
       "      <td>-15.051410</td>\n",
       "      <td>0.173242</td>\n",
       "      <td>-14.878168</td>\n",
       "    </tr>\n",
       "  </tbody>\n",
       "</table>\n",
       "</div>"
      ],
      "text/plain": [
       "                         flug      fldg      fnetg\n",
       "pressure     level                                \n",
       "1.000000e-08 1     -15.043313  0.000002 -15.043311\n",
       "1.068500e+00 24    -15.043313  0.000003 -15.043310\n",
       "1.013000e+03 76    -15.051410  0.173242 -14.878168"
      ]
     },
     "metadata": {},
     "output_type": "display_data"
    },
    {
     "name": "stdout",
     "output_type": "stream",
     "text": [
      "Table. Fluxes. CLIRAD\n"
     ]
    },
    {
     "data": {
      "text/html": [
       "<div>\n",
       "<style scoped>\n",
       "    .dataframe tbody tr th:only-of-type {\n",
       "        vertical-align: middle;\n",
       "    }\n",
       "\n",
       "    .dataframe tbody tr th {\n",
       "        vertical-align: top;\n",
       "    }\n",
       "\n",
       "    .dataframe thead th {\n",
       "        text-align: right;\n",
       "    }\n",
       "</style>\n",
       "<table border=\"1\" class=\"dataframe\">\n",
       "  <thead>\n",
       "    <tr style=\"text-align: right;\">\n",
       "      <th></th>\n",
       "      <th></th>\n",
       "      <th>flug</th>\n",
       "      <th>fldg</th>\n",
       "      <th>fnetg</th>\n",
       "    </tr>\n",
       "    <tr>\n",
       "      <th>pressure</th>\n",
       "      <th>level</th>\n",
       "      <th></th>\n",
       "      <th></th>\n",
       "      <th></th>\n",
       "    </tr>\n",
       "  </thead>\n",
       "  <tbody>\n",
       "    <tr>\n",
       "      <th>0.0000</th>\n",
       "      <th>1</th>\n",
       "      <td>-1.589870e-03</td>\n",
       "      <td>0.000000</td>\n",
       "      <td>-0.001590</td>\n",
       "    </tr>\n",
       "    <tr>\n",
       "      <th>1.0685</th>\n",
       "      <th>24</th>\n",
       "      <td>-1.589870e-03</td>\n",
       "      <td>-0.000001</td>\n",
       "      <td>-0.001590</td>\n",
       "    </tr>\n",
       "    <tr>\n",
       "      <th>1013.0000</th>\n",
       "      <th>76</th>\n",
       "      <td>-4.000000e-07</td>\n",
       "      <td>-0.017441</td>\n",
       "      <td>-0.017441</td>\n",
       "    </tr>\n",
       "  </tbody>\n",
       "</table>\n",
       "</div>"
      ],
      "text/plain": [
       "                         flug      fldg     fnetg\n",
       "pressure  level                                  \n",
       "0.0000    1     -1.589870e-03  0.000000 -0.001590\n",
       "1.0685    24    -1.589870e-03 -0.000001 -0.001590\n",
       "1013.0000 76    -4.000000e-07 -0.017441 -0.017441"
      ]
     },
     "metadata": {},
     "output_type": "display_data"
    },
    {
     "name": "stdout",
     "output_type": "stream",
     "text": [
      "Table. Fluxes. (WGT igg=10 wgt_flux=1) - (CRD)\n"
     ]
    },
    {
     "data": {
      "text/html": [
       "<div>\n",
       "<style scoped>\n",
       "    .dataframe tbody tr th:only-of-type {\n",
       "        vertical-align: middle;\n",
       "    }\n",
       "\n",
       "    .dataframe tbody tr th {\n",
       "        vertical-align: top;\n",
       "    }\n",
       "\n",
       "    .dataframe thead th {\n",
       "        text-align: right;\n",
       "    }\n",
       "</style>\n",
       "<table border=\"1\" class=\"dataframe\">\n",
       "  <thead>\n",
       "    <tr style=\"text-align: right;\">\n",
       "      <th></th>\n",
       "      <th></th>\n",
       "      <th>flug</th>\n",
       "      <th>fldg</th>\n",
       "      <th>fnetg</th>\n",
       "    </tr>\n",
       "    <tr>\n",
       "      <th>pressure</th>\n",
       "      <th>level</th>\n",
       "      <th></th>\n",
       "      <th></th>\n",
       "      <th></th>\n",
       "    </tr>\n",
       "  </thead>\n",
       "  <tbody>\n",
       "    <tr>\n",
       "      <th>0.0000</th>\n",
       "      <th>1</th>\n",
       "      <td>-0.002467</td>\n",
       "      <td>1.929953e-06</td>\n",
       "      <td>-0.002465</td>\n",
       "    </tr>\n",
       "    <tr>\n",
       "      <th>1.0685</th>\n",
       "      <th>24</th>\n",
       "      <td>-0.002467</td>\n",
       "      <td>3.496853e-07</td>\n",
       "      <td>-0.002467</td>\n",
       "    </tr>\n",
       "    <tr>\n",
       "      <th>1013.0000</th>\n",
       "      <th>76</th>\n",
       "      <td>-0.000004</td>\n",
       "      <td>-2.640854e-02</td>\n",
       "      <td>-0.026412</td>\n",
       "    </tr>\n",
       "  </tbody>\n",
       "</table>\n",
       "</div>"
      ],
      "text/plain": [
       "                     flug          fldg     fnetg\n",
       "pressure  level                                  \n",
       "0.0000    1     -0.002467  1.929953e-06 -0.002465\n",
       "1.0685    24    -0.002467  3.496853e-07 -0.002467\n",
       "1013.0000 76    -0.000004 -2.640854e-02 -0.026412"
      ]
     },
     "metadata": {},
     "output_type": "display_data"
    },
    {
     "name": "stdout",
     "output_type": "stream",
     "text": [
      "Table. Fluxes. (CLIRAD) - (CRD)\n"
     ]
    },
    {
     "data": {
      "text/html": [
       "<a id=\"Best-fit_Parameters\"></a>"
      ],
      "text/plain": [
       "<IPython.core.display.HTML object>"
      ]
     },
     "metadata": {},
     "output_type": "display_data"
    },
    {
     "data": {
      "text/markdown": [
       "# Best-fit Parameters"
      ],
      "text/plain": [
       "<IPython.core.display.Markdown object>"
      ]
     },
     "metadata": {},
     "output_type": "display_data"
    },
    {
     "name": "stdout",
     "output_type": "stream",
     "text": [
      "Best-fit values for each (gas, band)\n",
      "------------------------------------\n",
      "o h2o band5\n",
      "  atmpro = mls\n",
      "  band = 5\n",
      "  commitnumber = a06b618\n",
      "  conc = None\n",
      "  dv = 0.001\n",
      "  klin = 1e-24\n",
      "  molecule = h2o\n",
      "  ng_adju = [0]\n",
      "  ng_refs = [3]\n",
      "  nv = 1000\n",
      "  option_compute_btable = 0\n",
      "  option_compute_ktable = 1\n",
      "  option_wgt_flux = 1\n",
      "  option_wgt_k = 1\n",
      "  ref_pts = [(600, 250)]\n",
      "  tsfc = 294\n",
      "  vmax = 1100\n",
      "  vmin = 980\n",
      "  w_diffuse = [(1.66, 1.66, 1.8)]\n",
      "  wgt = [(0.5, 0.55, 0.9)]\n"
     ]
    }
   ],
   "source": [
    "script()"
   ]
  },
  {
   "cell_type": "code",
   "execution_count": 13,
   "metadata": {
    "collapsed": true
   },
   "outputs": [
    {
     "data": {
      "text/html": [
       "<script>\n",
       "code_show=true; \n",
       "function code_toggle() {\n",
       " if (code_show){\n",
       " $('div.input').hide();\n",
       " } else {\n",
       " $('div.input').show();\n",
       " }\n",
       " code_show = !code_show\n",
       "} \n",
       "$( document ).ready(code_toggle);\n",
       "</script>\n",
       "<form action=\"javascript:code_toggle()\"><input type=\"submit\" value=\"Click here to toggle on/off the raw code.\"></form>"
      ],
      "text/plain": [
       "<IPython.core.display.HTML object>"
      ]
     },
     "execution_count": 13,
     "metadata": {},
     "output_type": "execute_result"
    }
   ],
   "source": [
    "display.HTML('''<script>\n",
    "code_show=true; \n",
    "function code_toggle() {\n",
    " if (code_show){\n",
    " $('div.input').hide();\n",
    " } else {\n",
    " $('div.input').show();\n",
    " }\n",
    " code_show = !code_show\n",
    "} \n",
    "$( document ).ready(code_toggle);\n",
    "</script>\n",
    "<form action=\"javascript:code_toggle()\"><input type=\"submit\" value=\"Click here to toggle on/off the raw code.\"></form>''')"
   ]
  }
 ],
 "metadata": {
  "kernelspec": {
   "display_name": "Python 3",
   "language": "python",
   "name": "python3"
  },
  "language_info": {
   "codemirror_mode": {
    "name": "ipython",
    "version": 3
   },
   "file_extension": ".py",
   "mimetype": "text/x-python",
   "name": "python",
   "nbconvert_exporter": "python",
   "pygments_lexer": "ipython3",
   "version": "3.6.1"
  }
 },
 "nbformat": 4,
 "nbformat_minor": 2
}
