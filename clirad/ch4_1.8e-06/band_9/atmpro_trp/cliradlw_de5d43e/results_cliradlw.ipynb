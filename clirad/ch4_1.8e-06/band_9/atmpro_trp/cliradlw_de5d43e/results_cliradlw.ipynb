{
 "cells": [
  {
   "cell_type": "code",
   "execution_count": 1,
   "metadata": {
    "collapsed": true
   },
   "outputs": [],
   "source": [
    "%matplotlib inline\n",
    "import os\n",
    "import re\n",
    "import io\n",
    "import itertools\n",
    "import pprint\n",
    "\n",
    "from bokeh.io import output_notebook, show\n",
    "from bokeh.layouts import gridplot\n",
    "from bokeh.plotting import figure\n",
    "from bokeh.models import Range1d, Legend\n",
    "from bokeh.palettes import all_palettes\n",
    "\n",
    "import matplotlib\n",
    "import matplotlib.pyplot as plt\n",
    "import numpy as np\n",
    "import pandas as pd\n",
    "import xarray as xr\n",
    "\n",
    "import climatools.lblnew.bestfit_params as bestfits\n",
    "from climatools.lblnew import setup_bestfit, setup_overlap\n",
    "import climatools.lblnew.pipeline as pipe_lblnew\n",
    "import climatools.cliradlw.setup as setup_cliradlw\n",
    "import climatools.cliradlw.pipeline as pipe_cliradlw\n",
    "\n",
    "import climatools.html.html as climahtml\n",
    "from climatools.lblnew.dataio import *\n",
    "from climatools.plot.plot import *\n",
    "\n",
    "\n",
    "import IPython.display as display"
   ]
  },
  {
   "cell_type": "code",
   "execution_count": 2,
   "metadata": {
    "collapsed": true
   },
   "outputs": [],
   "source": [
    "%run param.py"
   ]
  },
  {
   "cell_type": "code",
   "execution_count": 3,
   "metadata": {
    "collapsed": true
   },
   "outputs": [],
   "source": [
    "def load_output_file(path_csv):\n",
    "    '''\n",
    "    Load lblnew output .csv file to xarray.Dataset\n",
    "    \n",
    "    Parameters\n",
    "    ----------\n",
    "    path_csv: str\n",
    "              Path to the .csv file to be loaded.\n",
    "    ds: xarray.Dataset\n",
    "        Data in the input file in the form of an xarray.Dataset.\n",
    "    '''\n",
    "    toindex = ['band', 'pressure', 'igg', 'g']    \n",
    "    df = pd.read_csv(path_csv, sep=r'\\s+')\n",
    "    df = df.set_index([i for i in toindex if i in df.columns])\n",
    "    df = df.rename(columns={'sfu': 'flug',\n",
    "                            'sfd': 'fldg',\n",
    "                            'fnet': 'fnetg',\n",
    "                            'coolr': 'coolrg'})\n",
    "    ds = xr.Dataset.from_dataframe(df)\n",
    "\n",
    "    for l in ('level', 'layer'):\n",
    "        if l in ds.data_vars:\n",
    "            if len(ds[l].dims) > 1:\n",
    "                surface = {d: 0 for d in ds.dims if d != 'pressure'}\n",
    "                coord_level = ds[l][surface]\n",
    "                ds.coords[l] = ('pressure', coord_level)\n",
    "            else:\n",
    "                ds.coords[l] = ('pressure', ds[l])\n",
    "    \n",
    "    return ds"
   ]
  },
  {
   "cell_type": "code",
   "execution_count": 4,
   "metadata": {
    "collapsed": true
   },
   "outputs": [],
   "source": [
    "def lblnew_setup(param=None):\n",
    "    if 'ng_refs' in param:\n",
    "        return {'setup': setup_bestfit,\n",
    "                'fname_flux_crd': 'output_flux.dat',\n",
    "                'fname_cool_crd': 'output_coolr.dat',\n",
    "                'fname_flux_wgt': 'output_wfluxg.dat',\n",
    "                'fname_cool_wgt': 'output_wcoolrg.dat'}\n",
    "    else:\n",
    "        return {'setup': setup_overlap,\n",
    "                'fname_flux_crd': 'output_flux.dat',\n",
    "                'fname_cool_crd': 'output_coolr.dat',\n",
    "                'fname_flux_wgt': 'output_wflux.dat',\n",
    "                'fname_cool_wgt': 'output_wcoolr.dat'}\n",
    "\n",
    "    \n",
    "def load_lblnew_data(param):\n",
    "    \n",
    "    fname_dsname = [('fname_flux_crd', 'ds_flux_crd'),\n",
    "                    ('fname_cool_crd', 'ds_cool_crd'),\n",
    "                    ('fname_flux_wgt', 'ds_flux_wgt'),\n",
    "                    ('fname_cool_wgt', 'ds_cool_wgt')]\n",
    "    \n",
    "    d = lblnew_setup(param)\n",
    "    dir_fortran = pipe_lblnew.get_dir_case(param, setup=d['setup'])\n",
    "    \n",
    "    data_dict = {}\n",
    "    for fname, dsname in fname_dsname:\n",
    "        fpath = os.path.join(dir_fortran, d[fname])\n",
    "        data_dict[dsname] = load_output_file(fpath)\n",
    "    return data_dict\n",
    "    \n",
    "\n",
    "    \n",
    "    "
   ]
  },
  {
   "cell_type": "code",
   "execution_count": 5,
   "metadata": {
    "collapsed": true
   },
   "outputs": [],
   "source": [
    "d = load_lblnew_data(PARAM_LBLNEW)\n",
    "\n",
    "DS_FLUX_CRD = d['ds_flux_crd']\n",
    "DS_COOL_CRD = d['ds_cool_crd']\n",
    "DS_FLUX_WGT = d['ds_flux_wgt']\n",
    "DS_COOL_WGT = d['ds_cool_wgt']"
   ]
  },
  {
   "cell_type": "code",
   "execution_count": 6,
   "metadata": {
    "collapsed": true
   },
   "outputs": [],
   "source": [
    "DIR_FORTRAN = pipe_cliradlw.get_fortran_dir(PARAM, \n",
    "                                            setup=setup_cliradlw)\n",
    "\n",
    "PATH_FLUX = os.path.join(DIR_FORTRAN, 'output_flux.dat')\n",
    "PATH_COOL = os.path.join(DIR_FORTRAN, 'output_coolr.dat')\n",
    "\n",
    "DS_FLUX = load_output_file(PATH_FLUX)\n",
    "DS_COOL = load_output_file(PATH_COOL)"
   ]
  },
  {
   "cell_type": "code",
   "execution_count": 7,
   "metadata": {
    "collapsed": true
   },
   "outputs": [
    {
     "data": {
      "text/html": [
       "\n",
       "    <div class=\"bk-root\">\n",
       "        <a href=\"https://bokeh.pydata.org\" target=\"_blank\" class=\"bk-logo bk-logo-small bk-logo-notebook\"></a>\n",
       "        <span id=\"42796aee-3198-4e97-a118-3e9b852e49fc\">Loading BokehJS ...</span>\n",
       "    </div>"
      ]
     },
     "metadata": {},
     "output_type": "display_data"
    },
    {
     "data": {
      "application/javascript": [
       "\n",
       "(function(root) {\n",
       "  function now() {\n",
       "    return new Date();\n",
       "  }\n",
       "\n",
       "  var force = true;\n",
       "\n",
       "  if (typeof (root._bokeh_onload_callbacks) === \"undefined\" || force === true) {\n",
       "    root._bokeh_onload_callbacks = [];\n",
       "    root._bokeh_is_loading = undefined;\n",
       "  }\n",
       "\n",
       "  var JS_MIME_TYPE = 'application/javascript';\n",
       "  var HTML_MIME_TYPE = 'text/html';\n",
       "  var EXEC_MIME_TYPE = 'application/vnd.bokehjs_exec.v0+json';\n",
       "  var CLASS_NAME = 'output_bokeh rendered_html';\n",
       "\n",
       "  /**\n",
       "   * Render data to the DOM node\n",
       "   */\n",
       "  function render(props, node) {\n",
       "    var script = document.createElement(\"script\");\n",
       "    node.appendChild(script);\n",
       "  }\n",
       "\n",
       "  /**\n",
       "   * Handle when an output is cleared or removed\n",
       "   */\n",
       "  function handleClearOutput(event, handle) {\n",
       "    var cell = handle.cell;\n",
       "\n",
       "    var id = cell.output_area._bokeh_element_id;\n",
       "    var server_id = cell.output_area._bokeh_server_id;\n",
       "    // Clean up Bokeh references\n",
       "    if (id !== undefined) {\n",
       "      Bokeh.index[id].model.document.clear();\n",
       "      delete Bokeh.index[id];\n",
       "    }\n",
       "\n",
       "    if (server_id !== undefined) {\n",
       "      // Clean up Bokeh references\n",
       "      var cmd = \"from bokeh.io.state import curstate; print(curstate().uuid_to_server['\" + server_id + \"'].get_sessions()[0].document.roots[0]._id)\";\n",
       "      cell.notebook.kernel.execute(cmd, {\n",
       "        iopub: {\n",
       "          output: function(msg) {\n",
       "            var element_id = msg.content.text.trim();\n",
       "            Bokeh.index[element_id].model.document.clear();\n",
       "            delete Bokeh.index[element_id];\n",
       "          }\n",
       "        }\n",
       "      });\n",
       "      // Destroy server and session\n",
       "      var cmd = \"import bokeh.io.notebook as ion; ion.destroy_server('\" + server_id + \"')\";\n",
       "      cell.notebook.kernel.execute(cmd);\n",
       "    }\n",
       "  }\n",
       "\n",
       "  /**\n",
       "   * Handle when a new output is added\n",
       "   */\n",
       "  function handleAddOutput(event, handle) {\n",
       "    var output_area = handle.output_area;\n",
       "    var output = handle.output;\n",
       "\n",
       "    // limit handleAddOutput to display_data with EXEC_MIME_TYPE content only\n",
       "    if ((output.output_type != \"display_data\") || (!output.data.hasOwnProperty(EXEC_MIME_TYPE))) {\n",
       "      return\n",
       "    }\n",
       "\n",
       "    var toinsert = output_area.element.find(\".\" + CLASS_NAME.split(' ')[0]);\n",
       "\n",
       "    if (output.metadata[EXEC_MIME_TYPE][\"id\"] !== undefined) {\n",
       "      toinsert[toinsert.length - 1].firstChild.textContent = output.data[JS_MIME_TYPE];\n",
       "      // store reference to embed id on output_area\n",
       "      output_area._bokeh_element_id = output.metadata[EXEC_MIME_TYPE][\"id\"];\n",
       "    }\n",
       "    if (output.metadata[EXEC_MIME_TYPE][\"server_id\"] !== undefined) {\n",
       "      var bk_div = document.createElement(\"div\");\n",
       "      bk_div.innerHTML = output.data[HTML_MIME_TYPE];\n",
       "      var script_attrs = bk_div.children[0].attributes;\n",
       "      for (var i = 0; i < script_attrs.length; i++) {\n",
       "        toinsert[toinsert.length - 1].firstChild.setAttribute(script_attrs[i].name, script_attrs[i].value);\n",
       "      }\n",
       "      // store reference to server id on output_area\n",
       "      output_area._bokeh_server_id = output.metadata[EXEC_MIME_TYPE][\"server_id\"];\n",
       "    }\n",
       "  }\n",
       "\n",
       "  function register_renderer(events, OutputArea) {\n",
       "\n",
       "    function append_mime(data, metadata, element) {\n",
       "      // create a DOM node to render to\n",
       "      var toinsert = this.create_output_subarea(\n",
       "        metadata,\n",
       "        CLASS_NAME,\n",
       "        EXEC_MIME_TYPE\n",
       "      );\n",
       "      this.keyboard_manager.register_events(toinsert);\n",
       "      // Render to node\n",
       "      var props = {data: data, metadata: metadata[EXEC_MIME_TYPE]};\n",
       "      render(props, toinsert[toinsert.length - 1]);\n",
       "      element.append(toinsert);\n",
       "      return toinsert\n",
       "    }\n",
       "\n",
       "    /* Handle when an output is cleared or removed */\n",
       "    events.on('clear_output.CodeCell', handleClearOutput);\n",
       "    events.on('delete.Cell', handleClearOutput);\n",
       "\n",
       "    /* Handle when a new output is added */\n",
       "    events.on('output_added.OutputArea', handleAddOutput);\n",
       "\n",
       "    /**\n",
       "     * Register the mime type and append_mime function with output_area\n",
       "     */\n",
       "    OutputArea.prototype.register_mime_type(EXEC_MIME_TYPE, append_mime, {\n",
       "      /* Is output safe? */\n",
       "      safe: true,\n",
       "      /* Index of renderer in `output_area.display_order` */\n",
       "      index: 0\n",
       "    });\n",
       "  }\n",
       "\n",
       "  // register the mime type if in Jupyter Notebook environment and previously unregistered\n",
       "  if (root.Jupyter !== undefined) {\n",
       "    var events = require('base/js/events');\n",
       "    var OutputArea = require('notebook/js/outputarea').OutputArea;\n",
       "\n",
       "    if (OutputArea.prototype.mime_types().indexOf(EXEC_MIME_TYPE) == -1) {\n",
       "      register_renderer(events, OutputArea);\n",
       "    }\n",
       "  }\n",
       "\n",
       "  \n",
       "  if (typeof (root._bokeh_timeout) === \"undefined\" || force === true) {\n",
       "    root._bokeh_timeout = Date.now() + 5000;\n",
       "    root._bokeh_failed_load = false;\n",
       "  }\n",
       "\n",
       "  var NB_LOAD_WARNING = {'data': {'text/html':\n",
       "     \"<div style='background-color: #fdd'>\\n\"+\n",
       "     \"<p>\\n\"+\n",
       "     \"BokehJS does not appear to have successfully loaded. If loading BokehJS from CDN, this \\n\"+\n",
       "     \"may be due to a slow or bad network connection. Possible fixes:\\n\"+\n",
       "     \"</p>\\n\"+\n",
       "     \"<ul>\\n\"+\n",
       "     \"<li>re-rerun `output_notebook()` to attempt to load from CDN again, or</li>\\n\"+\n",
       "     \"<li>use INLINE resources instead, as so:</li>\\n\"+\n",
       "     \"</ul>\\n\"+\n",
       "     \"<code>\\n\"+\n",
       "     \"from bokeh.resources import INLINE\\n\"+\n",
       "     \"output_notebook(resources=INLINE)\\n\"+\n",
       "     \"</code>\\n\"+\n",
       "     \"</div>\"}};\n",
       "\n",
       "  function display_loaded() {\n",
       "    var el = document.getElementById(\"42796aee-3198-4e97-a118-3e9b852e49fc\");\n",
       "    if (el != null) {\n",
       "      el.textContent = \"BokehJS is loading...\";\n",
       "    }\n",
       "    if (root.Bokeh !== undefined) {\n",
       "      if (el != null) {\n",
       "        el.textContent = \"BokehJS \" + root.Bokeh.version + \" successfully loaded.\";\n",
       "      }\n",
       "    } else if (Date.now() < root._bokeh_timeout) {\n",
       "      setTimeout(display_loaded, 100)\n",
       "    }\n",
       "  }\n",
       "\n",
       "\n",
       "  function run_callbacks() {\n",
       "    try {\n",
       "      root._bokeh_onload_callbacks.forEach(function(callback) { callback() });\n",
       "    }\n",
       "    finally {\n",
       "      delete root._bokeh_onload_callbacks\n",
       "    }\n",
       "    console.info(\"Bokeh: all callbacks have finished\");\n",
       "  }\n",
       "\n",
       "  function load_libs(js_urls, callback) {\n",
       "    root._bokeh_onload_callbacks.push(callback);\n",
       "    if (root._bokeh_is_loading > 0) {\n",
       "      console.log(\"Bokeh: BokehJS is being loaded, scheduling callback at\", now());\n",
       "      return null;\n",
       "    }\n",
       "    if (js_urls == null || js_urls.length === 0) {\n",
       "      run_callbacks();\n",
       "      return null;\n",
       "    }\n",
       "    console.log(\"Bokeh: BokehJS not loaded, scheduling load and callback at\", now());\n",
       "    root._bokeh_is_loading = js_urls.length;\n",
       "    for (var i = 0; i < js_urls.length; i++) {\n",
       "      var url = js_urls[i];\n",
       "      var s = document.createElement('script');\n",
       "      s.src = url;\n",
       "      s.async = false;\n",
       "      s.onreadystatechange = s.onload = function() {\n",
       "        root._bokeh_is_loading--;\n",
       "        if (root._bokeh_is_loading === 0) {\n",
       "          console.log(\"Bokeh: all BokehJS libraries loaded\");\n",
       "          run_callbacks()\n",
       "        }\n",
       "      };\n",
       "      s.onerror = function() {\n",
       "        console.warn(\"failed to load library \" + url);\n",
       "      };\n",
       "      console.log(\"Bokeh: injecting script tag for BokehJS library: \", url);\n",
       "      document.getElementsByTagName(\"head\")[0].appendChild(s);\n",
       "    }\n",
       "  };var element = document.getElementById(\"42796aee-3198-4e97-a118-3e9b852e49fc\");\n",
       "  if (element == null) {\n",
       "    console.log(\"Bokeh: ERROR: autoload.js configured with elementid '42796aee-3198-4e97-a118-3e9b852e49fc' but no matching script tag was found. \")\n",
       "    return false;\n",
       "  }\n",
       "\n",
       "  var js_urls = [\"https://cdn.pydata.org/bokeh/release/bokeh-0.12.16.min.js\", \"https://cdn.pydata.org/bokeh/release/bokeh-widgets-0.12.16.min.js\", \"https://cdn.pydata.org/bokeh/release/bokeh-tables-0.12.16.min.js\", \"https://cdn.pydata.org/bokeh/release/bokeh-gl-0.12.16.min.js\"];\n",
       "\n",
       "  var inline_js = [\n",
       "    function(Bokeh) {\n",
       "      Bokeh.set_log_level(\"info\");\n",
       "    },\n",
       "    \n",
       "    function(Bokeh) {\n",
       "      \n",
       "    },\n",
       "    function(Bokeh) {\n",
       "      console.log(\"Bokeh: injecting CSS: https://cdn.pydata.org/bokeh/release/bokeh-0.12.16.min.css\");\n",
       "      Bokeh.embed.inject_css(\"https://cdn.pydata.org/bokeh/release/bokeh-0.12.16.min.css\");\n",
       "      console.log(\"Bokeh: injecting CSS: https://cdn.pydata.org/bokeh/release/bokeh-widgets-0.12.16.min.css\");\n",
       "      Bokeh.embed.inject_css(\"https://cdn.pydata.org/bokeh/release/bokeh-widgets-0.12.16.min.css\");\n",
       "      console.log(\"Bokeh: injecting CSS: https://cdn.pydata.org/bokeh/release/bokeh-tables-0.12.16.min.css\");\n",
       "      Bokeh.embed.inject_css(\"https://cdn.pydata.org/bokeh/release/bokeh-tables-0.12.16.min.css\");\n",
       "    }\n",
       "  ];\n",
       "\n",
       "  function run_inline_js() {\n",
       "    \n",
       "    if ((root.Bokeh !== undefined) || (force === true)) {\n",
       "      for (var i = 0; i < inline_js.length; i++) {\n",
       "        inline_js[i].call(root, root.Bokeh);\n",
       "      }if (force === true) {\n",
       "        display_loaded();\n",
       "      }} else if (Date.now() < root._bokeh_timeout) {\n",
       "      setTimeout(run_inline_js, 100);\n",
       "    } else if (!root._bokeh_failed_load) {\n",
       "      console.log(\"Bokeh: BokehJS failed to load within specified timeout.\");\n",
       "      root._bokeh_failed_load = true;\n",
       "    } else if (force !== true) {\n",
       "      var cell = $(document.getElementById(\"42796aee-3198-4e97-a118-3e9b852e49fc\")).parents('.cell').data().cell;\n",
       "      cell.output_area.append_execute_result(NB_LOAD_WARNING)\n",
       "    }\n",
       "\n",
       "  }\n",
       "\n",
       "  if (root._bokeh_is_loading === 0) {\n",
       "    console.log(\"Bokeh: BokehJS loaded, going straight to plotting\");\n",
       "    run_inline_js();\n",
       "  } else {\n",
       "    load_libs(js_urls, function() {\n",
       "      console.log(\"Bokeh: BokehJS plotting callback run at\", now());\n",
       "      run_inline_js();\n",
       "    });\n",
       "  }\n",
       "}(window));"
      ],
      "application/vnd.bokehjs_load.v0+json": "\n(function(root) {\n  function now() {\n    return new Date();\n  }\n\n  var force = true;\n\n  if (typeof (root._bokeh_onload_callbacks) === \"undefined\" || force === true) {\n    root._bokeh_onload_callbacks = [];\n    root._bokeh_is_loading = undefined;\n  }\n\n  \n\n  \n  if (typeof (root._bokeh_timeout) === \"undefined\" || force === true) {\n    root._bokeh_timeout = Date.now() + 5000;\n    root._bokeh_failed_load = false;\n  }\n\n  var NB_LOAD_WARNING = {'data': {'text/html':\n     \"<div style='background-color: #fdd'>\\n\"+\n     \"<p>\\n\"+\n     \"BokehJS does not appear to have successfully loaded. If loading BokehJS from CDN, this \\n\"+\n     \"may be due to a slow or bad network connection. Possible fixes:\\n\"+\n     \"</p>\\n\"+\n     \"<ul>\\n\"+\n     \"<li>re-rerun `output_notebook()` to attempt to load from CDN again, or</li>\\n\"+\n     \"<li>use INLINE resources instead, as so:</li>\\n\"+\n     \"</ul>\\n\"+\n     \"<code>\\n\"+\n     \"from bokeh.resources import INLINE\\n\"+\n     \"output_notebook(resources=INLINE)\\n\"+\n     \"</code>\\n\"+\n     \"</div>\"}};\n\n  function display_loaded() {\n    var el = document.getElementById(\"42796aee-3198-4e97-a118-3e9b852e49fc\");\n    if (el != null) {\n      el.textContent = \"BokehJS is loading...\";\n    }\n    if (root.Bokeh !== undefined) {\n      if (el != null) {\n        el.textContent = \"BokehJS \" + root.Bokeh.version + \" successfully loaded.\";\n      }\n    } else if (Date.now() < root._bokeh_timeout) {\n      setTimeout(display_loaded, 100)\n    }\n  }\n\n\n  function run_callbacks() {\n    try {\n      root._bokeh_onload_callbacks.forEach(function(callback) { callback() });\n    }\n    finally {\n      delete root._bokeh_onload_callbacks\n    }\n    console.info(\"Bokeh: all callbacks have finished\");\n  }\n\n  function load_libs(js_urls, callback) {\n    root._bokeh_onload_callbacks.push(callback);\n    if (root._bokeh_is_loading > 0) {\n      console.log(\"Bokeh: BokehJS is being loaded, scheduling callback at\", now());\n      return null;\n    }\n    if (js_urls == null || js_urls.length === 0) {\n      run_callbacks();\n      return null;\n    }\n    console.log(\"Bokeh: BokehJS not loaded, scheduling load and callback at\", now());\n    root._bokeh_is_loading = js_urls.length;\n    for (var i = 0; i < js_urls.length; i++) {\n      var url = js_urls[i];\n      var s = document.createElement('script');\n      s.src = url;\n      s.async = false;\n      s.onreadystatechange = s.onload = function() {\n        root._bokeh_is_loading--;\n        if (root._bokeh_is_loading === 0) {\n          console.log(\"Bokeh: all BokehJS libraries loaded\");\n          run_callbacks()\n        }\n      };\n      s.onerror = function() {\n        console.warn(\"failed to load library \" + url);\n      };\n      console.log(\"Bokeh: injecting script tag for BokehJS library: \", url);\n      document.getElementsByTagName(\"head\")[0].appendChild(s);\n    }\n  };var element = document.getElementById(\"42796aee-3198-4e97-a118-3e9b852e49fc\");\n  if (element == null) {\n    console.log(\"Bokeh: ERROR: autoload.js configured with elementid '42796aee-3198-4e97-a118-3e9b852e49fc' but no matching script tag was found. \")\n    return false;\n  }\n\n  var js_urls = [\"https://cdn.pydata.org/bokeh/release/bokeh-0.12.16.min.js\", \"https://cdn.pydata.org/bokeh/release/bokeh-widgets-0.12.16.min.js\", \"https://cdn.pydata.org/bokeh/release/bokeh-tables-0.12.16.min.js\", \"https://cdn.pydata.org/bokeh/release/bokeh-gl-0.12.16.min.js\"];\n\n  var inline_js = [\n    function(Bokeh) {\n      Bokeh.set_log_level(\"info\");\n    },\n    \n    function(Bokeh) {\n      \n    },\n    function(Bokeh) {\n      console.log(\"Bokeh: injecting CSS: https://cdn.pydata.org/bokeh/release/bokeh-0.12.16.min.css\");\n      Bokeh.embed.inject_css(\"https://cdn.pydata.org/bokeh/release/bokeh-0.12.16.min.css\");\n      console.log(\"Bokeh: injecting CSS: https://cdn.pydata.org/bokeh/release/bokeh-widgets-0.12.16.min.css\");\n      Bokeh.embed.inject_css(\"https://cdn.pydata.org/bokeh/release/bokeh-widgets-0.12.16.min.css\");\n      console.log(\"Bokeh: injecting CSS: https://cdn.pydata.org/bokeh/release/bokeh-tables-0.12.16.min.css\");\n      Bokeh.embed.inject_css(\"https://cdn.pydata.org/bokeh/release/bokeh-tables-0.12.16.min.css\");\n    }\n  ];\n\n  function run_inline_js() {\n    \n    if ((root.Bokeh !== undefined) || (force === true)) {\n      for (var i = 0; i < inline_js.length; i++) {\n        inline_js[i].call(root, root.Bokeh);\n      }if (force === true) {\n        display_loaded();\n      }} else if (Date.now() < root._bokeh_timeout) {\n      setTimeout(run_inline_js, 100);\n    } else if (!root._bokeh_failed_load) {\n      console.log(\"Bokeh: BokehJS failed to load within specified timeout.\");\n      root._bokeh_failed_load = true;\n    } else if (force !== true) {\n      var cell = $(document.getElementById(\"42796aee-3198-4e97-a118-3e9b852e49fc\")).parents('.cell').data().cell;\n      cell.output_area.append_execute_result(NB_LOAD_WARNING)\n    }\n\n  }\n\n  if (root._bokeh_is_loading === 0) {\n    console.log(\"Bokeh: BokehJS loaded, going straight to plotting\");\n    run_inline_js();\n  } else {\n    load_libs(js_urls, function() {\n      console.log(\"Bokeh: BokehJS plotting callback run at\", now());\n      run_inline_js();\n    });\n  }\n}(window));"
     },
     "metadata": {},
     "output_type": "display_data"
    }
   ],
   "source": [
    "output_notebook()"
   ]
  },
  {
   "cell_type": "code",
   "execution_count": 8,
   "metadata": {
    "collapsed": true
   },
   "outputs": [],
   "source": [
    "def fmt_cool(ds_in):\n",
    "    ds = ds_in.copy(deep=True)\n",
    "    if 'igg' in ds.dims:\n",
    "        ds = ds.sel(igg=1)\n",
    "\n",
    "    if 'g' in ds.dims:\n",
    "        ds = ds.sum('g')\n",
    "            \n",
    "    if 'band' in ds.dims:\n",
    "        try:\n",
    "            ds = ds.squeeze('band')\n",
    "        except ValueError:\n",
    "            ds = ds.sum('band')\n",
    "                \n",
    "    return ds['coolrg']\n",
    "\n",
    "\n",
    "def pltdata_cooling_1(ds_cool=None,\n",
    "                      ds_cool_crd=None, ds_cool_wgt=None):\n",
    "    \n",
    "\n",
    "\n",
    "    colors = all_palettes['Set1'][4]\n",
    "    data = [{'label': 'CLIRAD `coolr_bands`',\n",
    "             'srs': fmt_cool(ds_cool),\n",
    "             'line_dash': 'dashed', 'line_width': 5,\n",
    "             'color': colors[0], 'alpha': .6},\n",
    "            {'label': 'CRD',\n",
    "             'srs': fmt_cool(ds_cool_crd),\n",
    "             'line_dash': 'solid', 'line_width': 1.5,\n",
    "             'marker': 'circle', 'marker_size': 5,\n",
    "             'color': colors[2], 'alpha': 1,},\n",
    "            {'label': 'WGT igg=10 wgt_flux=2',\n",
    "             'srs': fmt_cool(ds_cool_wgt),\n",
    "             'line_dash': 'solid', 'line_width': 3,\n",
    "             'marker': 'square', 'marker_size': 5,\n",
    "             'color': colors[3], 'alpha': .6}]\n",
    "    return data\n",
    "\n",
    "\n",
    "def nice_xlims(pltdata=None, prange=None):\n",
    "    \n",
    "    def get_slice(srs):\n",
    "        return srs.sel(pressure=slice(*prange))\n",
    "    \n",
    "    srss = [d['srs'] for d in pltdata]\n",
    "    vmin = min([get_slice(srs).min() for srs in srss])\n",
    "    vmax = max([get_slice(srs).max() for srs in srss])\n",
    "    dv = (vmax - vmin) * .01\n",
    "    return float(vmin - dv), float(vmax + dv)\n",
    "    \n",
    "\n",
    "def plt_cooling_bokeh(pltdata=None):\n",
    "    '''\n",
    "    Plot a list of cooling rate profiles using bokeh.\n",
    "    '''\n",
    "    ymin = 1e-2 \n",
    "    ymax = 1020 \n",
    "        \n",
    "    p1 = figure(title=\"Linear pressure scale\", \n",
    "                plot_width=400)        \n",
    "    xmin, xmax = nice_xlims(pltdata, prange=(50, 1050))\n",
    "    for d in pltdata:\n",
    "        if 'marker' in d:\n",
    "            getattr(p1, d['marker'])(d['srs'].values, \n",
    "                    d['srs'].coords['pressure'].values,\n",
    "                    color=d['color'], alpha=.7)\n",
    "        p1.line(d['srs'].values, \n",
    "                d['srs'].coords['pressure'].values,\n",
    "                color=d['color'], alpha=d['alpha'], \n",
    "                line_width=d['line_width'], line_dash=d['line_dash'])\n",
    "    \n",
    "    p1.y_range = Range1d(ymax, ymin)\n",
    "    p1.yaxis.axis_label = 'pressure [mb]'   \n",
    "    p1.x_range = Range1d(xmin, xmax)\n",
    "    p1.xaxis.axis_label = 'cooling rate [K/day]'\n",
    "            \n",
    "    p2 = figure(title='Log pressure scale', y_axis_type='log',\n",
    "                plot_width=560)\n",
    "    xmin, xmax = nice_xlims(pltdata, prange=(.01, 200))\n",
    "    \n",
    "    rs = []\n",
    "    for d in pltdata:\n",
    "        rd = []\n",
    "        if 'marker' in d:\n",
    "            r_mark = getattr(p2, d['marker'])(d['srs'].values, \n",
    "                        d['srs'].coords['pressure'].values,\n",
    "                        color=d['color'], alpha=.7)\n",
    "            rd.append(r_mark)\n",
    "        r_line = p2.line(d['srs'].values, \n",
    "                    d['srs'].coords['pressure'].values,\n",
    "                    color=d['color'], alpha=d['alpha'], \n",
    "                    line_width=d['line_width'], line_dash=d['line_dash'])\n",
    "        rd.append(r_line)\n",
    "      \n",
    "        rs.append(rd)\n",
    "        \n",
    "    p2.y_range = Range1d(ymax, ymin)  \n",
    "    p2.yaxis.axis_label = 'pressure [mb]'\n",
    "    \n",
    "    p2.x_range = Range1d(xmin, xmax)\n",
    "    p2.xaxis.axis_label = 'cooling rate [K/day]'\n",
    "    \n",
    "    items = [(d['label'], r) for r, d in zip(rs, pltdata)]\n",
    "    legend = Legend(items=items, location=(10, -30))\n",
    "    legend.label_text_font_size = '8pt'\n",
    "    \n",
    "    p2.add_layout(legend, 'right')  \n",
    "    \n",
    "    show(gridplot(p1, p2, ncols=2, plot_height=500))\n",
    "    \n",
    "\n",
    "def script_plt_cooling():\n",
    "    pltdata = pltdata_cooling_1(\n",
    "        ds_cool=DS_COOL,\n",
    "        ds_cool_crd=DS_COOL_CRD,\n",
    "        ds_cool_wgt=DS_COOL_WGT)\n",
    "    plt_cooling_bokeh(pltdata=pltdata)\n",
    "    print('''FIGURE. Cooling rate profiles.''')"
   ]
  },
  {
   "cell_type": "code",
   "execution_count": 9,
   "metadata": {
    "collapsed": true
   },
   "outputs": [],
   "source": [
    "def fmt_flux(ds_in):\n",
    "    ds = ds_in.copy(deep=True)\n",
    "    \n",
    "    for l in ('level', 'layer'):\n",
    "        if l in ds.data_vars:\n",
    "            if len(ds[l].dims) > 1:\n",
    "                surface = {d: 0 for d in ds.dims if d != 'pressure'}\n",
    "                coord_level = ds[l][surface]\n",
    "                ds.coords[l] = ('pressure', coord_level)\n",
    "            else:\n",
    "                ds.coords[l] = ('pressure', ds[l])\n",
    "        \n",
    "    ds = ds.isel(pressure=[0, 23, -1])\n",
    "        \n",
    "    if 'igg' in ds.dims:\n",
    "        ds = ds.sel(igg=[1])\n",
    "        ds = ds.squeeze('igg').drop('igg')\n",
    "    \n",
    "    if 'g' in ds.dims:\n",
    "        ds = ds.sum('g')\n",
    "            \n",
    "    if 'band' in ds.dims:\n",
    "        try:\n",
    "            ds = ds.squeeze('band').drop('band')\n",
    "        except ValueError:\n",
    "            ds = ds.sum('band')\n",
    "                \n",
    "    df = ds.to_dataframe()\n",
    "    df = df.set_index('level', append=True)               \n",
    "    return df\n",
    "\n",
    "\n",
    "def tbdata_flux(ds_flux=None, ds_flux_crd=None, ds_flux_wgt=None):\n",
    "    ilevels = [0, 23, -1]\n",
    "            \n",
    "    benchmark = {'label': 'CRD',\n",
    "                 'df': fmt_flux(ds_flux_crd)}\n",
    "    \n",
    "    tbs = [{'label': 'WGT igg=10 wgt_flux=1',\n",
    "            'df': fmt_flux(ds_flux_wgt)},\n",
    "           {'label': 'CLIRAD',\n",
    "            'df': fmt_flux(ds_flux)}]\n",
    "    \n",
    "    data = {'benchmark': benchmark, 'others': tbs}\n",
    "    return data\n",
    "\n",
    "\n",
    "def tb_flux(tbdata=None):\n",
    "    benchmark = tbdata['benchmark']\n",
    "    others = tbdata['others']\n",
    "    \n",
    "    def show_tb(d=None):\n",
    "        display.display(d['df'])\n",
    "        print('Table.', 'Fluxes.', d['label'])\n",
    "        \n",
    "    def show_tbdiff(d0=None, d=None):\n",
    "        df = d['df']\n",
    "        df.index = d0['df'].index\n",
    "        display.display(df - d0['df'])\n",
    "        print('Table.', 'Fluxes.', \n",
    "              '({}) - ({})'.format(d['label'], d0['label']))\n",
    "        \n",
    "    show_tb(benchmark)\n",
    "    for d in others:\n",
    "        show_tb(d)\n",
    "        \n",
    "    for d in others:\n",
    "        show_tbdiff(d=d, d0=benchmark)\n",
    "        \n",
    "        \n",
    "def script_tb_flux():\n",
    "    data = tbdata_flux(ds_flux=DS_FLUX,\n",
    "                       ds_flux_crd=DS_FLUX_CRD,\n",
    "                       ds_flux_wgt=DS_FLUX_WGT)\n",
    "    tb_flux(tbdata=data)"
   ]
  },
  {
   "cell_type": "code",
   "execution_count": 10,
   "metadata": {
    "collapsed": true
   },
   "outputs": [],
   "source": [
    "def band_map():\n",
    "    '''\n",
    "    Maps spectral bands in lblnew to spectral bands in clirad.\n",
    "    '''\n",
    "    lblnew2clirad = {'1': '1',\n",
    "            '2': '2',\n",
    "            '3a': '3',\n",
    "            '3b': '4',\n",
    "            '3c': '5',\n",
    "            '4': '6', \n",
    "            '5': '7',\n",
    "            '6': '8',\n",
    "            '7': '9', \n",
    "            '8': '10',\n",
    "            '9': '11'}\n",
    "    \n",
    "    clirad2lblnew = {clirad: lblnew \n",
    "                     for lblnew, clirad in lblnew2clirad.items()}\n",
    "    return clirad2lblnew\n",
    "\n",
    "\n",
    "def gasbands():\n",
    "    bmap = band_map()\n",
    "    gases = list(PARAM['molecule'].keys())\n",
    "    \n",
    "    bands = [bmap[str(b)] for b in PARAM['band']]\n",
    "    return list(itertools.product(gases, bands))\n",
    "\n",
    "\n",
    "def print_bestfit_params():\n",
    "    print('Best-fit values for each (gas, band)')\n",
    "    print('------------------------------------')\n",
    "    for gas, band in gasbands():\n",
    "        print('o {} band{}'.format(gas, band))\n",
    "        param = bestfits.kdist_params(molecule=gas, band=band)\n",
    "        for name, value in sorted(param.items()):\n",
    "            print(2 * ' ' + '{} = {}'.format(name, value))\n",
    "\n",
    "        \n",
    "def print_input_param():        \n",
    "    for name, value in PARAM.items():\n",
    "        print('{} = {}'.format(name, value))\n",
    "        \n",
    "        \n",
    "def print_lblnew_param():\n",
    "    for name, value in sorted(PARAM_LBLNEW.items()):\n",
    "        print('{} = {}'.format(name, value))\n"
   ]
  },
  {
   "cell_type": "code",
   "execution_count": 11,
   "metadata": {
    "collapsed": true,
    "scrolled": false
   },
   "outputs": [],
   "source": [
    "def show_html(s):\n",
    "    display.display(display.HTML(s))\n",
    "\n",
    "    \n",
    "def show_markdown(s):\n",
    "    display.display(display.Markdown(s))\n",
    "\n",
    "    \n",
    "def script():\n",
    "    \n",
    "    title = '### CLIRAD-LW'\n",
    "    s_input = 'Input Parameters'\n",
    "    s_lblnew_param = 'LBLNEW case compaired against'\n",
    "    s_bestfits = 'Best-fit Parameters'\n",
    "    s_plt_cooling = 'Cooling Rate Profiles'\n",
    "    s_tb_flux = 'Flux Comparison'\n",
    "    \n",
    "    # title\n",
    "    show_markdown('### CLIRAD-LW')\n",
    "    \n",
    "    # TOC\n",
    "    show_markdown('### Table of Contents')\n",
    "    show_html(climahtml.getHTML_hrefanchor(s_input))\n",
    "    show_html(climahtml.getHTML_hrefanchor(s_lblnew_param))\n",
    "    show_html(climahtml.getHTML_hrefanchor(s_plt_cooling))\n",
    "    show_html(climahtml.getHTML_hrefanchor(s_tb_flux))\n",
    "    show_html(climahtml.getHTML_hrefanchor(s_bestfits))\n",
    "    \n",
    "    # Input parameters\n",
    "    show_html(climahtml.getHTML_idanchor(s_input))\n",
    "    show_markdown(climahtml.getMarkdown_sectitle(s_input))\n",
    "    print_input_param()\n",
    "    \n",
    "    # LBLNEW parameters \n",
    "    show_html(climahtml.getHTML_idanchor(s_lblnew_param))\n",
    "    show_markdown(climahtml.getMarkdown_sectitle(s_lblnew_param))\n",
    "    print_lblnew_param()\n",
    "    \n",
    "    # Cooling rate profiles\n",
    "    show_html(climahtml.getHTML_idanchor(s_plt_cooling))\n",
    "    show_markdown(climahtml.getMarkdown_sectitle(s_plt_cooling))\n",
    "    script_plt_cooling()\n",
    "    \n",
    "    # Flux comparison\n",
    "    show_html(climahtml.getHTML_idanchor(s_tb_flux))\n",
    "    show_markdown(climahtml.getMarkdown_sectitle(s_tb_flux))\n",
    "    script_tb_flux()\n",
    "    \n",
    "    # Best-fit values\n",
    "    show_html(climahtml.getHTML_idanchor(s_bestfits))\n",
    "    show_markdown(climahtml.getMarkdown_sectitle(s_bestfits))\n",
    "    print_bestfit_params()\n",
    "   \n",
    "    "
   ]
  },
  {
   "cell_type": "code",
   "execution_count": 12,
   "metadata": {
    "collapsed": true,
    "scrolled": false
   },
   "outputs": [
    {
     "data": {
      "text/markdown": [
       "### CLIRAD-LW"
      ],
      "text/plain": [
       "<IPython.core.display.Markdown object>"
      ]
     },
     "metadata": {},
     "output_type": "display_data"
    },
    {
     "data": {
      "text/markdown": [
       "### Table of Contents"
      ],
      "text/plain": [
       "<IPython.core.display.Markdown object>"
      ]
     },
     "metadata": {},
     "output_type": "display_data"
    },
    {
     "data": {
      "text/html": [
       "<a href=\"#Input_Parameters\">Input Parameters</a>"
      ],
      "text/plain": [
       "<IPython.core.display.HTML object>"
      ]
     },
     "metadata": {},
     "output_type": "display_data"
    },
    {
     "data": {
      "text/html": [
       "<a href=\"#LBLNEW_case_compaired_against\">LBLNEW case compaired against</a>"
      ],
      "text/plain": [
       "<IPython.core.display.HTML object>"
      ]
     },
     "metadata": {},
     "output_type": "display_data"
    },
    {
     "data": {
      "text/html": [
       "<a href=\"#Cooling_Rate_Profiles\">Cooling Rate Profiles</a>"
      ],
      "text/plain": [
       "<IPython.core.display.HTML object>"
      ]
     },
     "metadata": {},
     "output_type": "display_data"
    },
    {
     "data": {
      "text/html": [
       "<a href=\"#Flux_Comparison\">Flux Comparison</a>"
      ],
      "text/plain": [
       "<IPython.core.display.HTML object>"
      ]
     },
     "metadata": {},
     "output_type": "display_data"
    },
    {
     "data": {
      "text/html": [
       "<a href=\"#Best-fit_Parameters\">Best-fit Parameters</a>"
      ],
      "text/plain": [
       "<IPython.core.display.HTML object>"
      ]
     },
     "metadata": {},
     "output_type": "display_data"
    },
    {
     "data": {
      "text/html": [
       "<a id=\"Input_Parameters\"></a>"
      ],
      "text/plain": [
       "<IPython.core.display.HTML object>"
      ]
     },
     "metadata": {},
     "output_type": "display_data"
    },
    {
     "data": {
      "text/markdown": [
       "# Input Parameters"
      ],
      "text/plain": [
       "<IPython.core.display.Markdown object>"
      ]
     },
     "metadata": {},
     "output_type": "display_data"
    },
    {
     "name": "stdout",
     "output_type": "stream",
     "text": [
      "atmpro = trp\n",
      "band = [9]\n",
      "commitnumber = de5d43e\n",
      "molecule = {'ch4': 1.8e-06}\n",
      "tsfc = 300\n"
     ]
    },
    {
     "data": {
      "text/html": [
       "<a id=\"LBLNEW_case_compaired_against\"></a>"
      ],
      "text/plain": [
       "<IPython.core.display.HTML object>"
      ]
     },
     "metadata": {},
     "output_type": "display_data"
    },
    {
     "data": {
      "text/markdown": [
       "# LBLNEW case compaired against"
      ],
      "text/plain": [
       "<IPython.core.display.Markdown object>"
      ]
     },
     "metadata": {},
     "output_type": "display_data"
    },
    {
     "name": "stdout",
     "output_type": "stream",
     "text": [
      "atmpro = trp\n",
      "band = 7\n",
      "commitnumber = 5014a19\n",
      "conc = 1.8e-06\n",
      "dv = 0.001\n",
      "klin = 2e-21\n",
      "molecule = ch4\n",
      "ng_adju = [0, 0]\n",
      "ng_refs = [2, 3]\n",
      "nv = 1000\n",
      "option_compute_btable = 0\n",
      "option_compute_ktable = 0\n",
      "option_wgt_flux = 1\n",
      "option_wgt_k = 1\n",
      "ref_pts = [(1, 250), (500, 250)]\n",
      "tsfc = 300\n",
      "vmax = 1380\n",
      "vmin = 1215\n",
      "w_diffuse = [(1.66, 1.66), (1.66, 1.66, 1.66)]\n",
      "wgt = [(0.7, 0.7), (0.4, 0.6, 0.75)]\n"
     ]
    },
    {
     "data": {
      "text/html": [
       "<a id=\"Cooling_Rate_Profiles\"></a>"
      ],
      "text/plain": [
       "<IPython.core.display.HTML object>"
      ]
     },
     "metadata": {},
     "output_type": "display_data"
    },
    {
     "data": {
      "text/markdown": [
       "# Cooling Rate Profiles"
      ],
      "text/plain": [
       "<IPython.core.display.Markdown object>"
      ]
     },
     "metadata": {},
     "output_type": "display_data"
    },
    {
     "data": {
      "text/html": [
       "\n",
       "<div class=\"bk-root\">\n",
       "    <div class=\"bk-plotdiv\" id=\"d0532899-2e5a-4cd9-8937-4c82655be771\"></div>\n",
       "</div>"
      ]
     },
     "metadata": {},
     "output_type": "display_data"
    },
    {
     "data": {
      "application/javascript": [
       "(function(root) {\n",
       "  function embed_document(root) {\n",
       "    \n",
       "  var docs_json = {\"286c05ac-182f-4845-b849-6268d3d5f909\":{\"roots\":{\"references\":[{\"attributes\":{\"tools\":[{\"id\":\"ce486f55-8a2d-441a-a1ce-987bb574b415\",\"type\":\"PanTool\"},{\"id\":\"576f0da1-5a3e-4588-a62d-ac0f5eb38ac4\",\"type\":\"WheelZoomTool\"},{\"id\":\"2e758a9c-8530-4dbb-a1e7-6e63c442ae3d\",\"type\":\"BoxZoomTool\"},{\"id\":\"1c286630-905b-47ea-a147-60e3a6327224\",\"type\":\"SaveTool\"},{\"id\":\"158a4b4f-9daf-4f48-b7eb-888cb9f31261\",\"type\":\"ResetTool\"},{\"id\":\"32f8a98d-943d-4731-b5d6-412795df0241\",\"type\":\"HelpTool\"},{\"id\":\"6592d3a9-9da9-4399-8392-d79bb9e03a85\",\"type\":\"PanTool\"},{\"id\":\"1b16e1b9-906a-4cde-8b47-b1706ebfbae3\",\"type\":\"WheelZoomTool\"},{\"id\":\"41b129b2-f038-453a-909f-3bf5f3768368\",\"type\":\"BoxZoomTool\"},{\"id\":\"dc2baca5-c30c-428f-aa8b-1f6bf15777f0\",\"type\":\"SaveTool\"},{\"id\":\"5fdf7df2-954f-4a63-819b-fbeeebee4af7\",\"type\":\"ResetTool\"},{\"id\":\"a779e265-db25-4162-8e46-bfcc5fdfb344\",\"type\":\"HelpTool\"}]},\"id\":\"eca047f0-b7d2-41b9-96b6-b1af8350bbde\",\"type\":\"ProxyToolbar\"},{\"attributes\":{},\"id\":\"a779e265-db25-4162-8e46-bfcc5fdfb344\",\"type\":\"HelpTool\"},{\"attributes\":{\"fill_alpha\":{\"value\":0.1},\"fill_color\":{\"value\":\"#1f77b4\"},\"line_alpha\":{\"value\":0.1},\"line_color\":{\"value\":\"#1f77b4\"},\"x\":{\"field\":\"x\"},\"y\":{\"field\":\"y\"}},\"id\":\"ab18d500-67da-4a9d-a129-7aa83be99a3b\",\"type\":\"Square\"},{\"attributes\":{\"toolbar\":{\"id\":\"eca047f0-b7d2-41b9-96b6-b1af8350bbde\",\"type\":\"ProxyToolbar\"},\"toolbar_location\":\"above\"},\"id\":\"459721d2-0300-4c67-af00-5da5003a9d4a\",\"type\":\"ToolbarBox\"},{\"attributes\":{\"fill_alpha\":{\"value\":0.1},\"fill_color\":{\"value\":\"#1f77b4\"},\"line_alpha\":{\"value\":0.1},\"line_color\":{\"value\":\"#1f77b4\"},\"x\":{\"field\":\"x\"},\"y\":{\"field\":\"y\"}},\"id\":\"e4f72f61-d645-4fa8-8d3e-052872584035\",\"type\":\"Circle\"},{\"attributes\":{\"children\":[{\"id\":\"459721d2-0300-4c67-af00-5da5003a9d4a\",\"type\":\"ToolbarBox\"},{\"id\":\"e4ae3779-e71f-42dc-8fb1-2174e55b588f\",\"type\":\"Column\"}]},\"id\":\"49afba05-c442-4f4e-8b8e-34867335a9d9\",\"type\":\"Column\"},{\"attributes\":{\"callback\":null,\"data\":{\"x\":{\"__ndarray__\":\"asjUYwVLsL8pJy0PfyOwvxFoyizjkK+/yV5apsDSrr9KQ8Sr3w6uv1Bj998SSa2/ladeUU5/rL9nR/Isbrarv6fZdXUq/Kq/eL82gqMyqr8Jkmvtm4mpvyFIQQh046i/XfmTs0tGqL/Gx68NeYWnv1/qRTSAu6O/V+sWjqIMlb+G1QBujnV0P0RsQ0mdfaI/uMtxh83Tsj9z7FOoi0i+P6Yj29wt98U/B8KW1zUqzT+DBWZmSBnPPyWok4D3Mss/1shA9gmnxT+4wGF3Cui+P3IppmF+gbQ/WFj0LmW3qT/02yLVBrieP5gq2RoEFZI/Fs34AvNWhj++yQUSzER9P0TwrHd+ynA/2AZ2t+tyJz+gbCd4R3uAvwIYtSCDRJS/BoJpIdSPnr//Ip7jGXihv4SPHi9kW6G//fst6hlLob/PvJJJzxehv5d/Fil0u6C/8+cmd4w4oL8Vv4sQlySfv2e1DxzImJ2/Rcf2CSrQm78QyZ492dCZvxXU5di6mpe/npM7hJoulb8wkON70IySv1+z6Ubzao+/dXw6/fhMib9kM4GwqruCv9AExoAqaHe/8EhK0SerYL+CGDlVqUhfP5aXzdxgJnk/aa4TvCbnhT+QNGtfEeqPPxV6Vxf+SZU/vE+YK5i8mj8Y4zpEJ72fP74citmlvKE/W5StexHQoj/ezjc23G+jPxmNMC9YMaQ/gyy2SmqIpT9jnF84rJqnP/7RRt1mRKo/JuR1ENBWrT9rIZEF71ywPwDGR6t7NrI/rx3PeMtBtD/2P62xgI62Px5OcfhDPLk/\",\"dtype\":\"float64\",\"shape\":[75]},\"y\":{\"__ndarray__\":\"GhExyth1ND/Sv8nbtpRIP2vylNV0PVE/aTum7souWD/At0SJ8fVgPw3Iuahxymc/MSNhhJWvcD/bTfBN02d3P2zb5nxnaoA/CD5h5MAGhz8NmeH1TyaQP+zrCsc9p5Y/LbKd76fGnz/bLW5ISEmmPww9YvTcQq8/JV2OstnstT8Er5Y7M8G+P0c+r3jqkcU/5h99k6ZBzj88bCIzFzjVP4enV8oyxN0//yH99nXg5D8qOpLLf0jtP5kqGJXUifQ/c9cS8kHP/D+/DpwzojQEQIEmwoanVwxA4lgXt9HgE0BSSZ2AJuIbQAMJih9jjiNA5q4l5INuK0AwTKYKRj0zQNv5fmq8/DpAaCJseHrtQkB/+zpwzoxKQM3MzMzMeFJAZmZmZmZqWEAAAAAAAFxeQM3MzMzMJmJAmpmZmZkfZUBmZmZmZhhoQDMzMzMzEWtAAAAAAAAKbkBmZmZmZoFwQM3MzMzM/XFAMzMzMzN6c0CamZmZmfZ0QAAAAAAAc3ZAZmZmZmbvd0DNzMzMzGt5QDMzMzMz6HpAmpmZmZlkfEAAAAAAAOF9QGZmZmZmXX9AZmZmZuZsgECamZmZGSuBQM3MzMxM6YFAAAAAAICngkAzMzMzs2WDQGZmZmbmI4RAmpmZmRnihEDNzMzMTKCFQAAAAACAXoZAMzMzM7Mch0BmZmZm5tqHQJqZmZkZmYhAzczMzExXiUAAAAAAgBWKQDMzMzOz04pAZmZmZuaRi0CamZmZGVCMQM3MzMxMDo1AAAAAAIDMjUAzMzMzs4qOQGZmZmbmSI9A\",\"dtype\":\"float64\",\"shape\":[75]}},\"selected\":{\"id\":\"4278e60f-1763-4478-b067-94c0d9ee031d\",\"type\":\"Selection\"},\"selection_policy\":{\"id\":\"a20c4997-b04d-4fde-b2de-b3f12f380550\",\"type\":\"UnionRenderers\"}},\"id\":\"3e80fc2a-9901-4016-8942-923f4e0b4b68\",\"type\":\"ColumnDataSource\"},{\"attributes\":{},\"id\":\"dc2baca5-c30c-428f-aa8b-1f6bf15777f0\",\"type\":\"SaveTool\"},{\"attributes\":{\"num_minor_ticks\":10},\"id\":\"e8bdff66-e04c-47cf-bb98-76e463bc2c11\",\"type\":\"LogTicker\"},{\"attributes\":{},\"id\":\"33327601-15f9-4f68-8bb0-f92dde639569\",\"type\":\"BasicTicker\"},{\"attributes\":{\"plot\":null,\"text\":\"Log pressure scale\"},\"id\":\"303e7275-14a4-462b-a0e1-b60d7797446e\",\"type\":\"Title\"},{\"attributes\":{},\"id\":\"5fdf7df2-954f-4a63-819b-fbeeebee4af7\",\"type\":\"ResetTool\"},{\"attributes\":{\"plot\":{\"id\":\"4f09e0b2-e3ac-4356-8b7e-dfe64de825c0\",\"subtype\":\"Figure\",\"type\":\"Plot\"},\"ticker\":{\"id\":\"33327601-15f9-4f68-8bb0-f92dde639569\",\"type\":\"BasicTicker\"}},\"id\":\"3d8a09e7-7323-4794-8f4d-4d6a5dc938eb\",\"type\":\"Grid\"},{\"attributes\":{\"line_alpha\":0.6,\"line_color\":\"#984ea3\",\"line_width\":3,\"x\":{\"field\":\"x\"},\"y\":{\"field\":\"y\"}},\"id\":\"ab807981-38be-47cf-b803-775b07b97347\",\"type\":\"Line\"},{\"attributes\":{},\"id\":\"1b16e1b9-906a-4cde-8b47-b1706ebfbae3\",\"type\":\"WheelZoomTool\"},{\"attributes\":{\"callback\":null,\"data\":{\"x\":{\"__ndarray__\":\"asjUYwVLsL8pJy0PfyOwvxFoyizjkK+/yV5apsDSrr9KQ8Sr3w6uv1Bj998SSa2/ladeUU5/rL9nR/Isbrarv6fZdXUq/Kq/eL82gqMyqr8Jkmvtm4mpvyFIQQh046i/XfmTs0tGqL/Gx68NeYWnv1/qRTSAu6O/V+sWjqIMlb+G1QBujnV0P0RsQ0mdfaI/uMtxh83Tsj9z7FOoi0i+P6Yj29wt98U/B8KW1zUqzT+DBWZmSBnPPyWok4D3Mss/1shA9gmnxT+4wGF3Cui+P3IppmF+gbQ/WFj0LmW3qT/02yLVBrieP5gq2RoEFZI/Fs34AvNWhj++yQUSzER9P0TwrHd+ynA/2AZ2t+tyJz+gbCd4R3uAvwIYtSCDRJS/BoJpIdSPnr//Ip7jGXihv4SPHi9kW6G//fst6hlLob/PvJJJzxehv5d/Fil0u6C/8+cmd4w4oL8Vv4sQlySfv2e1DxzImJ2/Rcf2CSrQm78QyZ492dCZvxXU5di6mpe/npM7hJoulb8wkON70IySv1+z6Ubzao+/dXw6/fhMib9kM4GwqruCv9AExoAqaHe/8EhK0SerYL+CGDlVqUhfP5aXzdxgJnk/aa4TvCbnhT+QNGtfEeqPPxV6Vxf+SZU/vE+YK5i8mj8Y4zpEJ72fP74citmlvKE/W5StexHQoj/ezjc23G+jPxmNMC9YMaQ/gyy2SmqIpT9jnF84rJqnP/7RRt1mRKo/JuR1ENBWrT9rIZEF71ywPwDGR6t7NrI/rx3PeMtBtD/2P62xgI62Px5OcfhDPLk/\",\"dtype\":\"float64\",\"shape\":[75]},\"y\":{\"__ndarray__\":\"GhExyth1ND/Sv8nbtpRIP2vylNV0PVE/aTum7souWD/At0SJ8fVgPw3Iuahxymc/MSNhhJWvcD/bTfBN02d3P2zb5nxnaoA/CD5h5MAGhz8NmeH1TyaQP+zrCsc9p5Y/LbKd76fGnz/bLW5ISEmmPww9YvTcQq8/JV2OstnstT8Er5Y7M8G+P0c+r3jqkcU/5h99k6ZBzj88bCIzFzjVP4enV8oyxN0//yH99nXg5D8qOpLLf0jtP5kqGJXUifQ/c9cS8kHP/D+/DpwzojQEQIEmwoanVwxA4lgXt9HgE0BSSZ2AJuIbQAMJih9jjiNA5q4l5INuK0AwTKYKRj0zQNv5fmq8/DpAaCJseHrtQkB/+zpwzoxKQM3MzMzMeFJAZmZmZmZqWEAAAAAAAFxeQM3MzMzMJmJAmpmZmZkfZUBmZmZmZhhoQDMzMzMzEWtAAAAAAAAKbkBmZmZmZoFwQM3MzMzM/XFAMzMzMzN6c0CamZmZmfZ0QAAAAAAAc3ZAZmZmZmbvd0DNzMzMzGt5QDMzMzMz6HpAmpmZmZlkfEAAAAAAAOF9QGZmZmZmXX9AZmZmZuZsgECamZmZGSuBQM3MzMxM6YFAAAAAAICngkAzMzMzs2WDQGZmZmbmI4RAmpmZmRnihEDNzMzMTKCFQAAAAACAXoZAMzMzM7Mch0BmZmZm5tqHQJqZmZkZmYhAzczMzExXiUAAAAAAgBWKQDMzMzOz04pAZmZmZuaRi0CamZmZGVCMQM3MzMxMDo1AAAAAAIDMjUAzMzMzs4qOQGZmZmbmSI9A\",\"dtype\":\"float64\",\"shape\":[75]}},\"selected\":{\"id\":\"9ee97574-e6b2-48dd-9acd-f453fdc2e3d4\",\"type\":\"Selection\"},\"selection_policy\":{\"id\":\"52684a5c-7905-4fca-a93b-ddccae65b49d\",\"type\":\"UnionRenderers\"}},\"id\":\"da4bd3ae-f7ca-4abe-a3e1-bb64b69a1b1d\",\"type\":\"ColumnDataSource\"},{\"attributes\":{\"active_drag\":\"auto\",\"active_inspect\":\"auto\",\"active_scroll\":\"auto\",\"active_tap\":\"auto\",\"tools\":[{\"id\":\"6592d3a9-9da9-4399-8392-d79bb9e03a85\",\"type\":\"PanTool\"},{\"id\":\"1b16e1b9-906a-4cde-8b47-b1706ebfbae3\",\"type\":\"WheelZoomTool\"},{\"id\":\"41b129b2-f038-453a-909f-3bf5f3768368\",\"type\":\"BoxZoomTool\"},{\"id\":\"dc2baca5-c30c-428f-aa8b-1f6bf15777f0\",\"type\":\"SaveTool\"},{\"id\":\"5fdf7df2-954f-4a63-819b-fbeeebee4af7\",\"type\":\"ResetTool\"},{\"id\":\"a779e265-db25-4162-8e46-bfcc5fdfb344\",\"type\":\"HelpTool\"}]},\"id\":\"74c81a92-8ab9-460d-be7f-d51192632005\",\"type\":\"Toolbar\"},{\"attributes\":{\"callback\":null,\"end\":0.24761859694,\"start\":-0.07739593094000001},\"id\":\"84421e9a-14e1-4c7c-b576-883c9982c5be\",\"type\":\"Range1d\"},{\"attributes\":{},\"id\":\"3346f1a4-08d7-42df-854b-e758cef18a59\",\"type\":\"LinearScale\"},{\"attributes\":{\"line_alpha\":0.6,\"line_color\":\"#984ea3\",\"line_width\":3,\"x\":{\"field\":\"x\"},\"y\":{\"field\":\"y\"}},\"id\":\"1260789c-a6f7-4eed-9989-a9d7d1a8e8bb\",\"type\":\"Line\"},{\"attributes\":{\"dimension\":1,\"plot\":{\"id\":\"4f09e0b2-e3ac-4356-8b7e-dfe64de825c0\",\"subtype\":\"Figure\",\"type\":\"Plot\"},\"ticker\":{\"id\":\"e8bdff66-e04c-47cf-bb98-76e463bc2c11\",\"type\":\"LogTicker\"}},\"id\":\"88318999-7f16-49ec-9b0e-9da153918a81\",\"type\":\"Grid\"},{\"attributes\":{\"bottom_units\":\"screen\",\"fill_alpha\":{\"value\":0.5},\"fill_color\":{\"value\":\"lightgrey\"},\"left_units\":\"screen\",\"level\":\"overlay\",\"line_alpha\":{\"value\":1.0},\"line_color\":{\"value\":\"black\"},\"line_dash\":[4,4],\"line_width\":{\"value\":2},\"plot\":null,\"render_mode\":\"css\",\"right_units\":\"screen\",\"top_units\":\"screen\"},\"id\":\"626825d4-7a3e-49dd-aa46-aaec6401fabc\",\"type\":\"BoxAnnotation\"},{\"attributes\":{\"callback\":null,\"end\":0.01,\"start\":1020},\"id\":\"a289d32f-521b-4ad2-a1aa-30c3724086af\",\"type\":\"Range1d\"},{\"attributes\":{\"data_source\":{\"id\":\"35dc5176-9df3-4427-a729-2dd337bcda91\",\"type\":\"ColumnDataSource\"},\"glyph\":{\"id\":\"061ab4b0-1096-4d4a-b4a0-c2079d1d5e47\",\"type\":\"Circle\"},\"hover_glyph\":null,\"muted_glyph\":null,\"nonselection_glyph\":{\"id\":\"e4f72f61-d645-4fa8-8d3e-052872584035\",\"type\":\"Circle\"},\"selection_glyph\":null,\"view\":{\"id\":\"73316086-a2f1-4636-a6ee-3777f2ef9e1b\",\"type\":\"CDSView\"}},\"id\":\"726340d7-4671-44d3-9ddb-7a535ff09996\",\"type\":\"GlyphRenderer\"},{\"attributes\":{\"line_color\":\"#4daf4a\",\"line_width\":1.5,\"x\":{\"field\":\"x\"},\"y\":{\"field\":\"y\"}},\"id\":\"137729d8-dce4-4c66-a2e6-e5e13f329b47\",\"type\":\"Line\"},{\"attributes\":{\"source\":{\"id\":\"da4bd3ae-f7ca-4abe-a3e1-bb64b69a1b1d\",\"type\":\"ColumnDataSource\"}},\"id\":\"5c4f28b6-d65c-4381-9c5f-00d2f1e9118f\",\"type\":\"CDSView\"},{\"attributes\":{\"line_alpha\":0.1,\"line_color\":\"#1f77b4\",\"line_dash\":[6],\"line_width\":5,\"x\":{\"field\":\"x\"},\"y\":{\"field\":\"y\"}},\"id\":\"1ab6b1b1-b866-4dc2-ad32-d96e372d814d\",\"type\":\"Line\"},{\"attributes\":{\"source\":{\"id\":\"80920798-4246-4993-951c-e5bdd97fc8a8\",\"type\":\"ColumnDataSource\"}},\"id\":\"5c92d717-8abb-4033-9469-67fd640cf4d0\",\"type\":\"CDSView\"},{\"attributes\":{},\"id\":\"6592d3a9-9da9-4399-8392-d79bb9e03a85\",\"type\":\"PanTool\"},{\"attributes\":{\"data_source\":{\"id\":\"da4bd3ae-f7ca-4abe-a3e1-bb64b69a1b1d\",\"type\":\"ColumnDataSource\"},\"glyph\":{\"id\":\"da75b918-6897-4b68-9803-6fb63a9f6841\",\"type\":\"Square\"},\"hover_glyph\":null,\"muted_glyph\":null,\"nonselection_glyph\":{\"id\":\"4c690f11-7f64-4886-852a-32170c3d4988\",\"type\":\"Square\"},\"selection_glyph\":null,\"view\":{\"id\":\"5c4f28b6-d65c-4381-9c5f-00d2f1e9118f\",\"type\":\"CDSView\"}},\"id\":\"37729163-96df-44cc-b125-8f596771f882\",\"type\":\"GlyphRenderer\"},{\"attributes\":{\"fill_alpha\":{\"value\":0.7},\"fill_color\":{\"value\":\"#4daf4a\"},\"line_alpha\":{\"value\":0.7},\"line_color\":{\"value\":\"#4daf4a\"},\"x\":{\"field\":\"x\"},\"y\":{\"field\":\"y\"}},\"id\":\"061ab4b0-1096-4d4a-b4a0-c2079d1d5e47\",\"type\":\"Circle\"},{\"attributes\":{\"callback\":null,\"data\":{\"x\":{\"__ndarray__\":\"gZeBGT/Mqb/mzA6iyYapv4RZYS1Q6Ki/vdk1DclKqL+EhSHflqmnvyaMQJ5YBae/jp/DBWtfpr9xkTTlLrWlv7Bx+AKFCqW/Meh1pRRdpL+LEXClKq+jvzHJHFlmAqO/FkuCUfhVor9+ni+Lw3ihvzE/eVA37Zu/+TOgBFQ9h78GC6uhoiSHP5vdYpcLCaQ/hmAnhRGssj/AYoneFBy9P5XwQkKtzMQ/kwVlfXdpyz809Zk3d4nNP7ZeeMoPgco/2DDguM63xT8MQEBKLve/P0xnQ9jSnrU/74jfVHHRqj/nSOBvsSueP6LEScIHdI8/hErxdNQ4gT82RiBSG3J2Py7HzgyAR2w/EaljxLoKJz8iJf7wiI1/vxLxcc7RqJO/EI32kb69nb+hPyiARg+hvy14oR56CaG/UIbG7Xn5oL/CeSdVkcCgv3dENKPnYqC/Cws/Tzuwn7+hSv1XfmKev4ROtB3m2py/qWkF8JAOm781ZJJK3iSZvy1W4YocBpe/CAohvzWylL/SvZh35i+Sv9PUzgruAo+/oErDrPQzib+7t3gx+vWCv5gmWcl2Xni/7I3avOrzY78oZcbiTbNWPy+MoKPokHY/lroP+G9ihD9ESZyj+yqOP9s46GYNS5Q/Gm7mriqdmT+3wEuUsHueP0jDerryDaE/sBnRVz8foj+8W4QiEMGiP/XC0v3ygqM/D40XoKfgpD930wVz9vmmP5BIhfharKk/kAumGCLSrD9vVzvMjyawPyg71dhgDLI/yXZHkXgjtD/V9ZJm9nC2PxNTJIqJALk/\",\"dtype\":\"float64\",\"shape\":[75]},\"y\":{\"__ndarray__\":\"S/O/Q+51ND/Sv8nbtpRIP2vylNV0PVE/aTum7souWD/At0SJ8fVgPw3Iuahxymc/MSNhhJWvcD/bTfBN02d3P2zb5nxnaoA/CD5h5MAGhz8NmeH1TyaQP+zrCsc9p5Y/LbKd76fGnz/bLW5ISEmmPww9YvTcQq8/JV2OstnstT8Er5Y7M8G+P0c+r3jqkcU/5h99k6ZBzj88bCIzFzjVP4enV8oyxN0//yH99nXg5D8qOpLLf0jtP5kqGJXUifQ/c9cS8kHP/D+/DpwzojQEQIEmwoanVwxA4lgXt9HgE0BSSZ2AJuIbQAMJih9jjiNA5q4l5INuK0AwTKYKRj0zQNv5fmq8/DpAaCJseHrtQkB/+zpwzoxKQM3MzMzMeFJAZmZmZmZqWEAAAAAAAFxeQM3MzMzMJmJAmpmZmZkfZUBmZmZmZhhoQDMzMzMzEWtAAAAAAAAKbkBmZmZmZoFwQM3MzMzM/XFAMzMzMzN6c0CamZmZmfZ0QAAAAAAAc3ZAZmZmZmbvd0DNzMzMzGt5QDMzMzMz6HpAmpmZmZlkfEAAAAAAAOF9QGZmZmZmXX9AZmZmZuZsgECamZmZGSuBQM3MzMxM6YFAAAAAAICngkAzMzMzs2WDQGZmZmbmI4RAmpmZmRnihEDNzMzMTKCFQAAAAACAXoZAMzMzM7Mch0BmZmZm5tqHQJqZmZkZmYhAzczMzExXiUAAAAAAgBWKQDMzMzOz04pAZmZmZuaRi0CamZmZGVCMQM3MzMxMDo1AAAAAAIDMjUAzMzMzs4qOQGZmZmbmSI9A\",\"dtype\":\"float64\",\"shape\":[75]}},\"selected\":{\"id\":\"1423681c-3926-42cd-9770-a91ecaf33682\",\"type\":\"Selection\"},\"selection_policy\":{\"id\":\"6435a9c0-eb78-4a0a-9263-370b69611867\",\"type\":\"UnionRenderers\"}},\"id\":\"1ac38854-cf7e-4cb3-9d98-9861fa2aa7c8\",\"type\":\"ColumnDataSource\"},{\"attributes\":{\"fill_alpha\":{\"value\":0.7},\"fill_color\":{\"value\":\"#984ea3\"},\"line_alpha\":{\"value\":0.7},\"line_color\":{\"value\":\"#984ea3\"},\"x\":{\"field\":\"x\"},\"y\":{\"field\":\"y\"}},\"id\":\"da75b918-6897-4b68-9803-6fb63a9f6841\",\"type\":\"Square\"},{\"attributes\":{\"source\":{\"id\":\"35dc5176-9df3-4427-a729-2dd337bcda91\",\"type\":\"ColumnDataSource\"}},\"id\":\"73316086-a2f1-4636-a6ee-3777f2ef9e1b\",\"type\":\"CDSView\"},{\"attributes\":{\"data_source\":{\"id\":\"80920798-4246-4993-951c-e5bdd97fc8a8\",\"type\":\"ColumnDataSource\"},\"glyph\":{\"id\":\"a1b37d89-c689-4ab2-8af8-98ea02b9d1ab\",\"type\":\"Square\"},\"hover_glyph\":null,\"muted_glyph\":null,\"nonselection_glyph\":{\"id\":\"ab18d500-67da-4a9d-a129-7aa83be99a3b\",\"type\":\"Square\"},\"selection_glyph\":null,\"view\":{\"id\":\"5c92d717-8abb-4033-9469-67fd640cf4d0\",\"type\":\"CDSView\"}},\"id\":\"dab5f1da-6268-4360-85b4-c35e4f2e34d1\",\"type\":\"GlyphRenderer\"},{\"attributes\":{\"line_alpha\":0.1,\"line_color\":\"#1f77b4\",\"line_width\":1.5,\"x\":{\"field\":\"x\"},\"y\":{\"field\":\"y\"}},\"id\":\"0c069d05-bb99-46cc-85e6-fdf546bb4c63\",\"type\":\"Line\"},{\"attributes\":{\"axis_label\":\"pressure [mb]\",\"formatter\":{\"id\":\"df60a77e-779a-4483-b2a3-0a455a9da97e\",\"type\":\"LogTickFormatter\"},\"plot\":{\"id\":\"4f09e0b2-e3ac-4356-8b7e-dfe64de825c0\",\"subtype\":\"Figure\",\"type\":\"Plot\"},\"ticker\":{\"id\":\"e8bdff66-e04c-47cf-bb98-76e463bc2c11\",\"type\":\"LogTicker\"}},\"id\":\"bc65a72c-5015-4957-a12d-e96870911f2b\",\"type\":\"LogAxis\"},{\"attributes\":{\"fill_alpha\":{\"value\":0.1},\"fill_color\":{\"value\":\"#1f77b4\"},\"line_alpha\":{\"value\":0.1},\"line_color\":{\"value\":\"#1f77b4\"},\"x\":{\"field\":\"x\"},\"y\":{\"field\":\"y\"}},\"id\":\"4c690f11-7f64-4886-852a-32170c3d4988\",\"type\":\"Square\"},{\"attributes\":{\"axis_label\":\"cooling rate [K/day]\",\"formatter\":{\"id\":\"7b339e06-ad13-45f2-894e-48dbb8cec62f\",\"type\":\"BasicTickFormatter\"},\"plot\":{\"id\":\"4f09e0b2-e3ac-4356-8b7e-dfe64de825c0\",\"subtype\":\"Figure\",\"type\":\"Plot\"},\"ticker\":{\"id\":\"33327601-15f9-4f68-8bb0-f92dde639569\",\"type\":\"BasicTicker\"}},\"id\":\"a8d260bb-1564-4342-9180-ed2b72985d0e\",\"type\":\"LinearAxis\"},{\"attributes\":{\"items\":[{\"id\":\"76c38021-90e6-4174-9056-46af2a258e7a\",\"type\":\"LegendItem\"},{\"id\":\"79c37f0e-68ee-405a-bb50-9ca0ac9b6740\",\"type\":\"LegendItem\"},{\"id\":\"ecad3d64-7d81-4a6e-8461-293759d0f9b1\",\"type\":\"LegendItem\"}],\"label_text_font_size\":{\"value\":\"8pt\"},\"location\":[10,-30],\"plot\":{\"id\":\"4f09e0b2-e3ac-4356-8b7e-dfe64de825c0\",\"subtype\":\"Figure\",\"type\":\"Plot\"}},\"id\":\"41774502-8e40-44de-aa4d-da546aff3849\",\"type\":\"Legend\"},{\"attributes\":{},\"id\":\"ea7b7a6b-3d55-44a0-bd59-143851715cb3\",\"type\":\"LogScale\"},{\"attributes\":{\"source\":{\"id\":\"e1a07f39-369b-4427-92a4-6425911addbb\",\"type\":\"ColumnDataSource\"}},\"id\":\"4d2ee55e-8c47-4096-8495-07c54d5a745f\",\"type\":\"CDSView\"},{\"attributes\":{\"callback\":null,\"data\":{\"x\":{\"__ndarray__\":\"3XuSHRbItr9Zx+QZo5G2v0mqf6jlG7a/1ueQ8pijtb+WNwbrnyq1v2ghq6ISs7S/Am8M900+tL8OMvRItsyzv9LrUeOeYbO/GpuuC2X/sr9PruK6Tauyv94EaCbbarK/FNBOSmRGsr8E9SEAHCGyvwiDFDfMIrC/xCaIczq0pb+10Muxh7mKvyWcX5KflJY/gznfJ8VJsD+Yg0Xq4tu8P3rrsk5L4sU/qOE6Sk67zT9wUZi9jUnPPzRgmGWyLMo/ZZY1mCO3wz9SeFQlX0O6Pz7qAJ9XcLA/D/YeFZxNpD9Q5J/S7nuZP8E3Qy2qnpA/7CmDtBAuhj8+YEAc1Nh7P3/x1Li6iWk/fv68/RSBR79mv3iLasZ/vwT3j8cE45G/HhLx6Nxzmr/KwGRXGCqevwSX23545J2/NtSuXWgbnr/zaYCYpRmev+mtONdbw52/wFPi6X4Wnb+buPmfLBecv4GMqYl4ypq//K4c4p41mb++msSfL12Xvy4eVYICRZW/H5canObvkr/r8tHVYl+Qv5Sc6PoLK4u/8IFLN/Ekhb9+gal6A1l9v1iUcxmn926/PBv9296MJL84lCbRjnxuP+Bu5b73JIA/pBDQltZTiT//E3+7vJ6RP0S6FGEH8ZY/Ygjn8JxvnD+8RJweeb+gP7758b3dl6I//A+XuUyPoz+/35CP2wSkP95uOuOqm6Q/bYjdtnDSpT8YciNnjM+nPywvY4Scaao/37Bl4B1srT/A7MQDz1+wP0Y+3bDVNLI/idfo4XNDtD9qk4jFr6W2P4q5sN1Zlbk/\",\"dtype\":\"float64\",\"shape\":[75]},\"y\":{\"__ndarray__\":\"GhExyth1ND/Sv8nbtpRIP2vylNV0PVE/aTum7souWD/At0SJ8fVgPw3Iuahxymc/MSNhhJWvcD/bTfBN02d3P2zb5nxnaoA/CD5h5MAGhz8NmeH1TyaQP+zrCsc9p5Y/LbKd76fGnz/bLW5ISEmmPww9YvTcQq8/JV2OstnstT8Er5Y7M8G+P0c+r3jqkcU/5h99k6ZBzj88bCIzFzjVP4enV8oyxN0//yH99nXg5D8qOpLLf0jtP5kqGJXUifQ/c9cS8kHP/D+/DpwzojQEQIEmwoanVwxA4lgXt9HgE0BSSZ2AJuIbQAMJih9jjiNA5q4l5INuK0AwTKYKRj0zQNv5fmq8/DpAaCJseHrtQkB/+zpwzoxKQM3MzMzMeFJAZmZmZmZqWEAAAAAAAFxeQM3MzMzMJmJAmpmZmZkfZUBmZmZmZhhoQDMzMzMzEWtAAAAAAAAKbkBmZmZmZoFwQM3MzMzM/XFAMzMzMzN6c0CamZmZmfZ0QAAAAAAAc3ZAZmZmZmbvd0DNzMzMzGt5QDMzMzMz6HpAmpmZmZlkfEAAAAAAAOF9QGZmZmZmXX9AZmZmZuZsgECamZmZGSuBQM3MzMxM6YFAAAAAAICngkAzMzMzs2WDQGZmZmbmI4RAmpmZmRnihEDNzMzMTKCFQAAAAACAXoZAMzMzM7Mch0BmZmZm5tqHQJqZmZkZmYhAzczMzExXiUAAAAAAgBWKQDMzMzOz04pAZmZmZuaRi0CamZmZGVCMQM3MzMxMDo1AAAAAAIDMjUAzMzMzs4qOQGZmZmbmSI9A\",\"dtype\":\"float64\",\"shape\":[75]}},\"selected\":{\"id\":\"a9207390-9704-4684-8e48-81f3b11ac01f\",\"type\":\"Selection\"},\"selection_policy\":{\"id\":\"0818b4a7-7f18-4781-8783-cebd77cd6725\",\"type\":\"UnionRenderers\"}},\"id\":\"35dc5176-9df3-4427-a729-2dd337bcda91\",\"type\":\"ColumnDataSource\"},{\"attributes\":{\"callback\":null,\"data\":{\"x\":{\"__ndarray__\":\"asjUYwVLsL8pJy0PfyOwvxFoyizjkK+/yV5apsDSrr9KQ8Sr3w6uv1Bj998SSa2/ladeUU5/rL9nR/Isbrarv6fZdXUq/Kq/eL82gqMyqr8Jkmvtm4mpvyFIQQh046i/XfmTs0tGqL/Gx68NeYWnv1/qRTSAu6O/V+sWjqIMlb+G1QBujnV0P0RsQ0mdfaI/uMtxh83Tsj9z7FOoi0i+P6Yj29wt98U/B8KW1zUqzT+DBWZmSBnPPyWok4D3Mss/1shA9gmnxT+4wGF3Cui+P3IppmF+gbQ/WFj0LmW3qT/02yLVBrieP5gq2RoEFZI/Fs34AvNWhj++yQUSzER9P0TwrHd+ynA/2AZ2t+tyJz+gbCd4R3uAvwIYtSCDRJS/BoJpIdSPnr//Ip7jGXihv4SPHi9kW6G//fst6hlLob/PvJJJzxehv5d/Fil0u6C/8+cmd4w4oL8Vv4sQlySfv2e1DxzImJ2/Rcf2CSrQm78QyZ492dCZvxXU5di6mpe/npM7hJoulb8wkON70IySv1+z6Ubzao+/dXw6/fhMib9kM4GwqruCv9AExoAqaHe/8EhK0SerYL+CGDlVqUhfP5aXzdxgJnk/aa4TvCbnhT+QNGtfEeqPPxV6Vxf+SZU/vE+YK5i8mj8Y4zpEJ72fP74citmlvKE/W5StexHQoj/ezjc23G+jPxmNMC9YMaQ/gyy2SmqIpT9jnF84rJqnP/7RRt1mRKo/JuR1ENBWrT9rIZEF71ywPwDGR6t7NrI/rx3PeMtBtD/2P62xgI62Px5OcfhDPLk/\",\"dtype\":\"float64\",\"shape\":[75]},\"y\":{\"__ndarray__\":\"GhExyth1ND/Sv8nbtpRIP2vylNV0PVE/aTum7souWD/At0SJ8fVgPw3Iuahxymc/MSNhhJWvcD/bTfBN02d3P2zb5nxnaoA/CD5h5MAGhz8NmeH1TyaQP+zrCsc9p5Y/LbKd76fGnz/bLW5ISEmmPww9YvTcQq8/JV2OstnstT8Er5Y7M8G+P0c+r3jqkcU/5h99k6ZBzj88bCIzFzjVP4enV8oyxN0//yH99nXg5D8qOpLLf0jtP5kqGJXUifQ/c9cS8kHP/D+/DpwzojQEQIEmwoanVwxA4lgXt9HgE0BSSZ2AJuIbQAMJih9jjiNA5q4l5INuK0AwTKYKRj0zQNv5fmq8/DpAaCJseHrtQkB/+zpwzoxKQM3MzMzMeFJAZmZmZmZqWEAAAAAAAFxeQM3MzMzMJmJAmpmZmZkfZUBmZmZmZhhoQDMzMzMzEWtAAAAAAAAKbkBmZmZmZoFwQM3MzMzM/XFAMzMzMzN6c0CamZmZmfZ0QAAAAAAAc3ZAZmZmZmbvd0DNzMzMzGt5QDMzMzMz6HpAmpmZmZlkfEAAAAAAAOF9QGZmZmZmXX9AZmZmZuZsgECamZmZGSuBQM3MzMxM6YFAAAAAAICngkAzMzMzs2WDQGZmZmbmI4RAmpmZmRnihEDNzMzMTKCFQAAAAACAXoZAMzMzM7Mch0BmZmZm5tqHQJqZmZkZmYhAzczMzExXiUAAAAAAgBWKQDMzMzOz04pAZmZmZuaRi0CamZmZGVCMQM3MzMxMDo1AAAAAAIDMjUAzMzMzs4qOQGZmZmbmSI9A\",\"dtype\":\"float64\",\"shape\":[75]}},\"selected\":{\"id\":\"7ca61ee2-9240-40da-a324-ccf80f351730\",\"type\":\"Selection\"},\"selection_policy\":{\"id\":\"39c44a59-9456-46db-9662-2fdb0092c642\",\"type\":\"UnionRenderers\"}},\"id\":\"6acc7dfe-6674-4d38-ac43-6b4bdbf8efcc\",\"type\":\"ColumnDataSource\"},{\"attributes\":{\"source\":{\"id\":\"6acc7dfe-6674-4d38-ac43-6b4bdbf8efcc\",\"type\":\"ColumnDataSource\"}},\"id\":\"f19b6e66-d4a5-4951-9bdd-e5e18ba15270\",\"type\":\"CDSView\"},{\"attributes\":{\"callback\":null,\"data\":{\"x\":{\"__ndarray__\":\"3XuSHRbItr9Zx+QZo5G2v0mqf6jlG7a/1ueQ8pijtb+WNwbrnyq1v2ghq6ISs7S/Am8M900+tL8OMvRItsyzv9LrUeOeYbO/GpuuC2X/sr9PruK6Tauyv94EaCbbarK/FNBOSmRGsr8E9SEAHCGyvwiDFDfMIrC/xCaIczq0pb+10Muxh7mKvyWcX5KflJY/gznfJ8VJsD+Yg0Xq4tu8P3rrsk5L4sU/qOE6Sk67zT9wUZi9jUnPPzRgmGWyLMo/ZZY1mCO3wz9SeFQlX0O6Pz7qAJ9XcLA/D/YeFZxNpD9Q5J/S7nuZP8E3Qy2qnpA/7CmDtBAuhj8+YEAc1Nh7P3/x1Li6iWk/fv68/RSBR79mv3iLasZ/vwT3j8cE45G/HhLx6Nxzmr/KwGRXGCqevwSX23545J2/NtSuXWgbnr/zaYCYpRmev+mtONdbw52/wFPi6X4Wnb+buPmfLBecv4GMqYl4ypq//K4c4p41mb++msSfL12Xvy4eVYICRZW/H5canObvkr/r8tHVYl+Qv5Sc6PoLK4u/8IFLN/Ekhb9+gal6A1l9v1iUcxmn926/PBv9296MJL84lCbRjnxuP+Bu5b73JIA/pBDQltZTiT//E3+7vJ6RP0S6FGEH8ZY/Ygjn8JxvnD+8RJweeb+gP7758b3dl6I//A+XuUyPoz+/35CP2wSkP95uOuOqm6Q/bYjdtnDSpT8YciNnjM+nPywvY4Scaao/37Bl4B1srT/A7MQDz1+wP0Y+3bDVNLI/idfo4XNDtD9qk4jFr6W2P4q5sN1Zlbk/\",\"dtype\":\"float64\",\"shape\":[75]},\"y\":{\"__ndarray__\":\"GhExyth1ND/Sv8nbtpRIP2vylNV0PVE/aTum7souWD/At0SJ8fVgPw3Iuahxymc/MSNhhJWvcD/bTfBN02d3P2zb5nxnaoA/CD5h5MAGhz8NmeH1TyaQP+zrCsc9p5Y/LbKd76fGnz/bLW5ISEmmPww9YvTcQq8/JV2OstnstT8Er5Y7M8G+P0c+r3jqkcU/5h99k6ZBzj88bCIzFzjVP4enV8oyxN0//yH99nXg5D8qOpLLf0jtP5kqGJXUifQ/c9cS8kHP/D+/DpwzojQEQIEmwoanVwxA4lgXt9HgE0BSSZ2AJuIbQAMJih9jjiNA5q4l5INuK0AwTKYKRj0zQNv5fmq8/DpAaCJseHrtQkB/+zpwzoxKQM3MzMzMeFJAZmZmZmZqWEAAAAAAAFxeQM3MzMzMJmJAmpmZmZkfZUBmZmZmZhhoQDMzMzMzEWtAAAAAAAAKbkBmZmZmZoFwQM3MzMzM/XFAMzMzMzN6c0CamZmZmfZ0QAAAAAAAc3ZAZmZmZmbvd0DNzMzMzGt5QDMzMzMz6HpAmpmZmZlkfEAAAAAAAOF9QGZmZmZmXX9AZmZmZuZsgECamZmZGSuBQM3MzMxM6YFAAAAAAICngkAzMzMzs2WDQGZmZmbmI4RAmpmZmRnihEDNzMzMTKCFQAAAAACAXoZAMzMzM7Mch0BmZmZm5tqHQJqZmZkZmYhAzczMzExXiUAAAAAAgBWKQDMzMzOz04pAZmZmZuaRi0CamZmZGVCMQM3MzMxMDo1AAAAAAIDMjUAzMzMzs4qOQGZmZmbmSI9A\",\"dtype\":\"float64\",\"shape\":[75]}},\"selected\":{\"id\":\"382bdc0e-6095-4e5b-ad59-054bc10636e8\",\"type\":\"Selection\"},\"selection_policy\":{\"id\":\"ccf8f2d0-84e4-43f1-ad8f-fb76cb6a369e\",\"type\":\"UnionRenderers\"}},\"id\":\"e1a07f39-369b-4427-92a4-6425911addbb\",\"type\":\"ColumnDataSource\"},{\"attributes\":{\"line_alpha\":0.6,\"line_color\":\"#e41a1c\",\"line_dash\":[6],\"line_width\":5,\"x\":{\"field\":\"x\"},\"y\":{\"field\":\"y\"}},\"id\":\"3c1c5e26-6a64-4514-accd-20739a56a022\",\"type\":\"Line\"},{\"attributes\":{\"overlay\":{\"id\":\"626825d4-7a3e-49dd-aa46-aaec6401fabc\",\"type\":\"BoxAnnotation\"}},\"id\":\"41b129b2-f038-453a-909f-3bf5f3768368\",\"type\":\"BoxZoomTool\"},{\"attributes\":{\"data_source\":{\"id\":\"e1a07f39-369b-4427-92a4-6425911addbb\",\"type\":\"ColumnDataSource\"},\"glyph\":{\"id\":\"137729d8-dce4-4c66-a2e6-e5e13f329b47\",\"type\":\"Line\"},\"hover_glyph\":null,\"muted_glyph\":null,\"nonselection_glyph\":{\"id\":\"0c069d05-bb99-46cc-85e6-fdf546bb4c63\",\"type\":\"Line\"},\"selection_glyph\":null,\"view\":{\"id\":\"4d2ee55e-8c47-4096-8495-07c54d5a745f\",\"type\":\"CDSView\"}},\"id\":\"86406a0c-7a20-4799-a1ef-dc48191d2587\",\"type\":\"GlyphRenderer\"},{\"attributes\":{\"source\":{\"id\":\"f8d10420-1867-4625-b963-f8c6387e72a7\",\"type\":\"ColumnDataSource\"}},\"id\":\"ebe9395c-b1d5-4eb1-b629-55822592a0ba\",\"type\":\"CDSView\"},{\"attributes\":{\"callback\":null,\"data\":{\"x\":{\"__ndarray__\":\"asjUYwVLsL8pJy0PfyOwvxFoyizjkK+/yV5apsDSrr9KQ8Sr3w6uv1Bj998SSa2/ladeUU5/rL9nR/Isbrarv6fZdXUq/Kq/eL82gqMyqr8Jkmvtm4mpvyFIQQh046i/XfmTs0tGqL/Gx68NeYWnv1/qRTSAu6O/V+sWjqIMlb+G1QBujnV0P0RsQ0mdfaI/uMtxh83Tsj9z7FOoi0i+P6Yj29wt98U/B8KW1zUqzT+DBWZmSBnPPyWok4D3Mss/1shA9gmnxT+4wGF3Cui+P3IppmF+gbQ/WFj0LmW3qT/02yLVBrieP5gq2RoEFZI/Fs34AvNWhj++yQUSzER9P0TwrHd+ynA/2AZ2t+tyJz+gbCd4R3uAvwIYtSCDRJS/BoJpIdSPnr//Ip7jGXihv4SPHi9kW6G//fst6hlLob/PvJJJzxehv5d/Fil0u6C/8+cmd4w4oL8Vv4sQlySfv2e1DxzImJ2/Rcf2CSrQm78QyZ492dCZvxXU5di6mpe/npM7hJoulb8wkON70IySv1+z6Ubzao+/dXw6/fhMib9kM4GwqruCv9AExoAqaHe/8EhK0SerYL+CGDlVqUhfP5aXzdxgJnk/aa4TvCbnhT+QNGtfEeqPPxV6Vxf+SZU/vE+YK5i8mj8Y4zpEJ72fP74citmlvKE/W5StexHQoj/ezjc23G+jPxmNMC9YMaQ/gyy2SmqIpT9jnF84rJqnP/7RRt1mRKo/JuR1ENBWrT9rIZEF71ywPwDGR6t7NrI/rx3PeMtBtD/2P62xgI62Px5OcfhDPLk/\",\"dtype\":\"float64\",\"shape\":[75]},\"y\":{\"__ndarray__\":\"GhExyth1ND/Sv8nbtpRIP2vylNV0PVE/aTum7souWD/At0SJ8fVgPw3Iuahxymc/MSNhhJWvcD/bTfBN02d3P2zb5nxnaoA/CD5h5MAGhz8NmeH1TyaQP+zrCsc9p5Y/LbKd76fGnz/bLW5ISEmmPww9YvTcQq8/JV2OstnstT8Er5Y7M8G+P0c+r3jqkcU/5h99k6ZBzj88bCIzFzjVP4enV8oyxN0//yH99nXg5D8qOpLLf0jtP5kqGJXUifQ/c9cS8kHP/D+/DpwzojQEQIEmwoanVwxA4lgXt9HgE0BSSZ2AJuIbQAMJih9jjiNA5q4l5INuK0AwTKYKRj0zQNv5fmq8/DpAaCJseHrtQkB/+zpwzoxKQM3MzMzMeFJAZmZmZmZqWEAAAAAAAFxeQM3MzMzMJmJAmpmZmZkfZUBmZmZmZhhoQDMzMzMzEWtAAAAAAAAKbkBmZmZmZoFwQM3MzMzM/XFAMzMzMzN6c0CamZmZmfZ0QAAAAAAAc3ZAZmZmZmbvd0DNzMzMzGt5QDMzMzMz6HpAmpmZmZlkfEAAAAAAAOF9QGZmZmZmXX9AZmZmZuZsgECamZmZGSuBQM3MzMxM6YFAAAAAAICngkAzMzMzs2WDQGZmZmbmI4RAmpmZmRnihEDNzMzMTKCFQAAAAACAXoZAMzMzM7Mch0BmZmZm5tqHQJqZmZkZmYhAzczMzExXiUAAAAAAgBWKQDMzMzOz04pAZmZmZuaRi0CamZmZGVCMQM3MzMxMDo1AAAAAAIDMjUAzMzMzs4qOQGZmZmbmSI9A\",\"dtype\":\"float64\",\"shape\":[75]}},\"selected\":{\"id\":\"3c4b4761-8eca-4fbc-bb4d-c3a6477be43d\",\"type\":\"Selection\"},\"selection_policy\":{\"id\":\"5e4fec17-4b69-4df7-9038-192ee47d4e28\",\"type\":\"UnionRenderers\"}},\"id\":\"80920798-4246-4993-951c-e5bdd97fc8a8\",\"type\":\"ColumnDataSource\"},{\"attributes\":{\"below\":[{\"id\":\"4c71787f-122a-40c7-8ea8-c566146da74b\",\"type\":\"LinearAxis\"}],\"left\":[{\"id\":\"62273149-aa61-453d-a13d-56d9dd352d88\",\"type\":\"LinearAxis\"}],\"plot_height\":500,\"plot_width\":400,\"renderers\":[{\"id\":\"4c71787f-122a-40c7-8ea8-c566146da74b\",\"type\":\"LinearAxis\"},{\"id\":\"78ba1860-8848-485d-be39-0ed1e2029424\",\"type\":\"Grid\"},{\"id\":\"62273149-aa61-453d-a13d-56d9dd352d88\",\"type\":\"LinearAxis\"},{\"id\":\"f40e87ff-35fa-40bf-85c8-4bd227bcf241\",\"type\":\"Grid\"},{\"id\":\"c63bf6ee-e1b1-4c13-a168-b495b1134921\",\"type\":\"BoxAnnotation\"},{\"id\":\"4bbcdda2-037b-4ae8-884f-d36b7f0c9d2f\",\"type\":\"GlyphRenderer\"},{\"id\":\"726340d7-4671-44d3-9ddb-7a535ff09996\",\"type\":\"GlyphRenderer\"},{\"id\":\"86406a0c-7a20-4799-a1ef-dc48191d2587\",\"type\":\"GlyphRenderer\"},{\"id\":\"37729163-96df-44cc-b125-8f596771f882\",\"type\":\"GlyphRenderer\"},{\"id\":\"3d693b36-8b44-4099-b25e-71abf6bf186a\",\"type\":\"GlyphRenderer\"}],\"title\":{\"id\":\"b1291be3-0111-48e1-8ea2-b2bf530c6e2b\",\"type\":\"Title\"},\"toolbar\":{\"id\":\"23cd1651-df2f-401c-9b08-58cef28785a7\",\"type\":\"Toolbar\"},\"toolbar_location\":null,\"x_range\":{\"id\":\"f8ce5aa8-e53c-433f-ab44-c0fdad9447fb\",\"type\":\"Range1d\"},\"x_scale\":{\"id\":\"3dfdfe47-5ef2-4970-b5c6-f462c6377d67\",\"type\":\"LinearScale\"},\"y_range\":{\"id\":\"b81a0542-1ff0-4bd8-828d-803e2e2ce5ff\",\"type\":\"Range1d\"},\"y_scale\":{\"id\":\"53c52a4a-3cc6-42c4-b9ec-acbbaae757bb\",\"type\":\"LinearScale\"}},\"id\":\"3f3903c6-f3f9-4909-ab04-777a6eae045a\",\"subtype\":\"Figure\",\"type\":\"Plot\"},{\"attributes\":{\"children\":[{\"id\":\"0dba573d-071f-4303-9fd6-56363f3964f1\",\"type\":\"Row\"}]},\"id\":\"e4ae3779-e71f-42dc-8fb1-2174e55b588f\",\"type\":\"Column\"},{\"attributes\":{\"active_drag\":\"auto\",\"active_inspect\":\"auto\",\"active_scroll\":\"auto\",\"active_tap\":\"auto\",\"tools\":[{\"id\":\"ce486f55-8a2d-441a-a1ce-987bb574b415\",\"type\":\"PanTool\"},{\"id\":\"576f0da1-5a3e-4588-a62d-ac0f5eb38ac4\",\"type\":\"WheelZoomTool\"},{\"id\":\"2e758a9c-8530-4dbb-a1e7-6e63c442ae3d\",\"type\":\"BoxZoomTool\"},{\"id\":\"1c286630-905b-47ea-a147-60e3a6327224\",\"type\":\"SaveTool\"},{\"id\":\"158a4b4f-9daf-4f48-b7eb-888cb9f31261\",\"type\":\"ResetTool\"},{\"id\":\"32f8a98d-943d-4731-b5d6-412795df0241\",\"type\":\"HelpTool\"}]},\"id\":\"23cd1651-df2f-401c-9b08-58cef28785a7\",\"type\":\"Toolbar\"},{\"attributes\":{\"axis_label\":\"pressure [mb]\",\"formatter\":{\"id\":\"3f5e5546-3738-436e-9f62-3a1e91bbfb6c\",\"type\":\"BasicTickFormatter\"},\"plot\":{\"id\":\"3f3903c6-f3f9-4909-ab04-777a6eae045a\",\"subtype\":\"Figure\",\"type\":\"Plot\"},\"ticker\":{\"id\":\"3e457347-37ca-4657-bf1f-e975288cefa4\",\"type\":\"BasicTicker\"}},\"id\":\"62273149-aa61-453d-a13d-56d9dd352d88\",\"type\":\"LinearAxis\"},{\"attributes\":{\"source\":{\"id\":\"1a1db58f-13b1-438b-ac4d-6f94ce52773d\",\"type\":\"ColumnDataSource\"}},\"id\":\"0244dcbc-08db-495f-be20-304be0942b6e\",\"type\":\"CDSView\"},{\"attributes\":{\"plot\":{\"id\":\"3f3903c6-f3f9-4909-ab04-777a6eae045a\",\"subtype\":\"Figure\",\"type\":\"Plot\"},\"ticker\":{\"id\":\"58f94736-4247-4349-8fff-0354bf095752\",\"type\":\"BasicTicker\"}},\"id\":\"78ba1860-8848-485d-be39-0ed1e2029424\",\"type\":\"Grid\"},{\"attributes\":{\"callback\":null,\"data\":{\"x\":{\"__ndarray__\":\"3XuSHRbItr9Zx+QZo5G2v0mqf6jlG7a/1ueQ8pijtb+WNwbrnyq1v2ghq6ISs7S/Am8M900+tL8OMvRItsyzv9LrUeOeYbO/GpuuC2X/sr9PruK6Tauyv94EaCbbarK/FNBOSmRGsr8E9SEAHCGyvwiDFDfMIrC/xCaIczq0pb+10Muxh7mKvyWcX5KflJY/gznfJ8VJsD+Yg0Xq4tu8P3rrsk5L4sU/qOE6Sk67zT9wUZi9jUnPPzRgmGWyLMo/ZZY1mCO3wz9SeFQlX0O6Pz7qAJ9XcLA/D/YeFZxNpD9Q5J/S7nuZP8E3Qy2qnpA/7CmDtBAuhj8+YEAc1Nh7P3/x1Li6iWk/fv68/RSBR79mv3iLasZ/vwT3j8cE45G/HhLx6Nxzmr/KwGRXGCqevwSX23545J2/NtSuXWgbnr/zaYCYpRmev+mtONdbw52/wFPi6X4Wnb+buPmfLBecv4GMqYl4ypq//K4c4p41mb++msSfL12Xvy4eVYICRZW/H5canObvkr/r8tHVYl+Qv5Sc6PoLK4u/8IFLN/Ekhb9+gal6A1l9v1iUcxmn926/PBv9296MJL84lCbRjnxuP+Bu5b73JIA/pBDQltZTiT//E3+7vJ6RP0S6FGEH8ZY/Ygjn8JxvnD+8RJweeb+gP7758b3dl6I//A+XuUyPoz+/35CP2wSkP95uOuOqm6Q/bYjdtnDSpT8YciNnjM+nPywvY4Scaao/37Bl4B1srT/A7MQDz1+wP0Y+3bDVNLI/idfo4XNDtD9qk4jFr6W2P4q5sN1Zlbk/\",\"dtype\":\"float64\",\"shape\":[75]},\"y\":{\"__ndarray__\":\"GhExyth1ND/Sv8nbtpRIP2vylNV0PVE/aTum7souWD/At0SJ8fVgPw3Iuahxymc/MSNhhJWvcD/bTfBN02d3P2zb5nxnaoA/CD5h5MAGhz8NmeH1TyaQP+zrCsc9p5Y/LbKd76fGnz/bLW5ISEmmPww9YvTcQq8/JV2OstnstT8Er5Y7M8G+P0c+r3jqkcU/5h99k6ZBzj88bCIzFzjVP4enV8oyxN0//yH99nXg5D8qOpLLf0jtP5kqGJXUifQ/c9cS8kHP/D+/DpwzojQEQIEmwoanVwxA4lgXt9HgE0BSSZ2AJuIbQAMJih9jjiNA5q4l5INuK0AwTKYKRj0zQNv5fmq8/DpAaCJseHrtQkB/+zpwzoxKQM3MzMzMeFJAZmZmZmZqWEAAAAAAAFxeQM3MzMzMJmJAmpmZmZkfZUBmZmZmZhhoQDMzMzMzEWtAAAAAAAAKbkBmZmZmZoFwQM3MzMzM/XFAMzMzMzN6c0CamZmZmfZ0QAAAAAAAc3ZAZmZmZmbvd0DNzMzMzGt5QDMzMzMz6HpAmpmZmZlkfEAAAAAAAOF9QGZmZmZmXX9AZmZmZuZsgECamZmZGSuBQM3MzMxM6YFAAAAAAICngkAzMzMzs2WDQGZmZmbmI4RAmpmZmRnihEDNzMzMTKCFQAAAAACAXoZAMzMzM7Mch0BmZmZm5tqHQJqZmZkZmYhAzczMzExXiUAAAAAAgBWKQDMzMzOz04pAZmZmZuaRi0CamZmZGVCMQM3MzMxMDo1AAAAAAIDMjUAzMzMzs4qOQGZmZmbmSI9A\",\"dtype\":\"float64\",\"shape\":[75]}},\"selected\":{\"id\":\"cff1fa4d-a800-4d30-a342-79c3b99c38f8\",\"type\":\"Selection\"},\"selection_policy\":{\"id\":\"25b7a3bc-c3c1-4f4d-b612-b8aca496ac82\",\"type\":\"UnionRenderers\"}},\"id\":\"649f19ee-2ba5-476d-8917-f4e81ba33c36\",\"type\":\"ColumnDataSource\"},{\"attributes\":{\"data_source\":{\"id\":\"3e80fc2a-9901-4016-8942-923f4e0b4b68\",\"type\":\"ColumnDataSource\"},\"glyph\":{\"id\":\"1260789c-a6f7-4eed-9989-a9d7d1a8e8bb\",\"type\":\"Line\"},\"hover_glyph\":null,\"muted_glyph\":null,\"nonselection_glyph\":{\"id\":\"d14e4d45-f768-4bb1-ba02-63eecadb7f46\",\"type\":\"Line\"},\"selection_glyph\":null,\"view\":{\"id\":\"96d5d963-ace5-4e55-9026-8d3c120bf000\",\"type\":\"CDSView\"}},\"id\":\"7ea7e02e-04ed-484d-946d-1169f6874a5c\",\"type\":\"GlyphRenderer\"},{\"attributes\":{\"data_source\":{\"id\":\"f8d10420-1867-4625-b963-f8c6387e72a7\",\"type\":\"ColumnDataSource\"},\"glyph\":{\"id\":\"64cbc3b2-ba18-4c6c-b288-1868573a5882\",\"type\":\"Line\"},\"hover_glyph\":null,\"muted_glyph\":null,\"nonselection_glyph\":{\"id\":\"8c320a02-f3d8-450f-853c-5df745719e48\",\"type\":\"Line\"},\"selection_glyph\":null,\"view\":{\"id\":\"ebe9395c-b1d5-4eb1-b629-55822592a0ba\",\"type\":\"CDSView\"}},\"id\":\"4bbcdda2-037b-4ae8-884f-d36b7f0c9d2f\",\"type\":\"GlyphRenderer\"},{\"attributes\":{\"fill_alpha\":{\"value\":0.1},\"fill_color\":{\"value\":\"#1f77b4\"},\"line_alpha\":{\"value\":0.1},\"line_color\":{\"value\":\"#1f77b4\"},\"x\":{\"field\":\"x\"},\"y\":{\"field\":\"y\"}},\"id\":\"6ad5d2ad-4526-4f37-b00c-7148f2956218\",\"type\":\"Circle\"},{\"attributes\":{\"below\":[{\"id\":\"a8d260bb-1564-4342-9180-ed2b72985d0e\",\"type\":\"LinearAxis\"}],\"left\":[{\"id\":\"bc65a72c-5015-4957-a12d-e96870911f2b\",\"type\":\"LogAxis\"}],\"plot_height\":500,\"plot_width\":560,\"renderers\":[{\"id\":\"a8d260bb-1564-4342-9180-ed2b72985d0e\",\"type\":\"LinearAxis\"},{\"id\":\"3d8a09e7-7323-4794-8f4d-4d6a5dc938eb\",\"type\":\"Grid\"},{\"id\":\"bc65a72c-5015-4957-a12d-e96870911f2b\",\"type\":\"LogAxis\"},{\"id\":\"88318999-7f16-49ec-9b0e-9da153918a81\",\"type\":\"Grid\"},{\"id\":\"626825d4-7a3e-49dd-aa46-aaec6401fabc\",\"type\":\"BoxAnnotation\"},{\"id\":\"2c770d6c-a69b-4ec7-b1ed-379944cdb709\",\"type\":\"GlyphRenderer\"},{\"id\":\"4f945566-25fb-4782-b3c8-c4b52b2d0eb8\",\"type\":\"GlyphRenderer\"},{\"id\":\"446e5dfa-24dc-497f-b5d3-5d48d357afd7\",\"type\":\"GlyphRenderer\"},{\"id\":\"dab5f1da-6268-4360-85b4-c35e4f2e34d1\",\"type\":\"GlyphRenderer\"},{\"id\":\"7ea7e02e-04ed-484d-946d-1169f6874a5c\",\"type\":\"GlyphRenderer\"},{\"id\":\"41774502-8e40-44de-aa4d-da546aff3849\",\"type\":\"Legend\"}],\"right\":[{\"id\":\"41774502-8e40-44de-aa4d-da546aff3849\",\"type\":\"Legend\"}],\"title\":{\"id\":\"303e7275-14a4-462b-a0e1-b60d7797446e\",\"type\":\"Title\"},\"toolbar\":{\"id\":\"74c81a92-8ab9-460d-be7f-d51192632005\",\"type\":\"Toolbar\"},\"toolbar_location\":null,\"x_range\":{\"id\":\"84421e9a-14e1-4c7c-b576-883c9982c5be\",\"type\":\"Range1d\"},\"x_scale\":{\"id\":\"3346f1a4-08d7-42df-854b-e758cef18a59\",\"type\":\"LinearScale\"},\"y_range\":{\"id\":\"a289d32f-521b-4ad2-a1aa-30c3724086af\",\"type\":\"Range1d\"},\"y_scale\":{\"id\":\"ea7b7a6b-3d55-44a0-bd59-143851715cb3\",\"type\":\"LogScale\"}},\"id\":\"4f09e0b2-e3ac-4356-8b7e-dfe64de825c0\",\"subtype\":\"Figure\",\"type\":\"Plot\"},{\"attributes\":{\"callback\":null,\"data\":{\"x\":{\"__ndarray__\":\"3XuSHRbItr9Zx+QZo5G2v0mqf6jlG7a/1ueQ8pijtb+WNwbrnyq1v2ghq6ISs7S/Am8M900+tL8OMvRItsyzv9LrUeOeYbO/GpuuC2X/sr9PruK6Tauyv94EaCbbarK/FNBOSmRGsr8E9SEAHCGyvwiDFDfMIrC/xCaIczq0pb+10Muxh7mKvyWcX5KflJY/gznfJ8VJsD+Yg0Xq4tu8P3rrsk5L4sU/qOE6Sk67zT9wUZi9jUnPPzRgmGWyLMo/ZZY1mCO3wz9SeFQlX0O6Pz7qAJ9XcLA/D/YeFZxNpD9Q5J/S7nuZP8E3Qy2qnpA/7CmDtBAuhj8+YEAc1Nh7P3/x1Li6iWk/fv68/RSBR79mv3iLasZ/vwT3j8cE45G/HhLx6Nxzmr/KwGRXGCqevwSX23545J2/NtSuXWgbnr/zaYCYpRmev+mtONdbw52/wFPi6X4Wnb+buPmfLBecv4GMqYl4ypq//K4c4p41mb++msSfL12Xvy4eVYICRZW/H5canObvkr/r8tHVYl+Qv5Sc6PoLK4u/8IFLN/Ekhb9+gal6A1l9v1iUcxmn926/PBv9296MJL84lCbRjnxuP+Bu5b73JIA/pBDQltZTiT//E3+7vJ6RP0S6FGEH8ZY/Ygjn8JxvnD+8RJweeb+gP7758b3dl6I//A+XuUyPoz+/35CP2wSkP95uOuOqm6Q/bYjdtnDSpT8YciNnjM+nPywvY4Scaao/37Bl4B1srT/A7MQDz1+wP0Y+3bDVNLI/idfo4XNDtD9qk4jFr6W2P4q5sN1Zlbk/\",\"dtype\":\"float64\",\"shape\":[75]},\"y\":{\"__ndarray__\":\"GhExyth1ND/Sv8nbtpRIP2vylNV0PVE/aTum7souWD/At0SJ8fVgPw3Iuahxymc/MSNhhJWvcD/bTfBN02d3P2zb5nxnaoA/CD5h5MAGhz8NmeH1TyaQP+zrCsc9p5Y/LbKd76fGnz/bLW5ISEmmPww9YvTcQq8/JV2OstnstT8Er5Y7M8G+P0c+r3jqkcU/5h99k6ZBzj88bCIzFzjVP4enV8oyxN0//yH99nXg5D8qOpLLf0jtP5kqGJXUifQ/c9cS8kHP/D+/DpwzojQEQIEmwoanVwxA4lgXt9HgE0BSSZ2AJuIbQAMJih9jjiNA5q4l5INuK0AwTKYKRj0zQNv5fmq8/DpAaCJseHrtQkB/+zpwzoxKQM3MzMzMeFJAZmZmZmZqWEAAAAAAAFxeQM3MzMzMJmJAmpmZmZkfZUBmZmZmZhhoQDMzMzMzEWtAAAAAAAAKbkBmZmZmZoFwQM3MzMzM/XFAMzMzMzN6c0CamZmZmfZ0QAAAAAAAc3ZAZmZmZmbvd0DNzMzMzGt5QDMzMzMz6HpAmpmZmZlkfEAAAAAAAOF9QGZmZmZmXX9AZmZmZuZsgECamZmZGSuBQM3MzMxM6YFAAAAAAICngkAzMzMzs2WDQGZmZmbmI4RAmpmZmRnihEDNzMzMTKCFQAAAAACAXoZAMzMzM7Mch0BmZmZm5tqHQJqZmZkZmYhAzczMzExXiUAAAAAAgBWKQDMzMzOz04pAZmZmZuaRi0CamZmZGVCMQM3MzMxMDo1AAAAAAIDMjUAzMzMzs4qOQGZmZmbmSI9A\",\"dtype\":\"float64\",\"shape\":[75]}},\"selected\":{\"id\":\"6311f309-f4e5-45ca-ac86-76b09db8d286\",\"type\":\"Selection\"},\"selection_policy\":{\"id\":\"442ca1a6-db69-4f57-a8a8-f9fb87209bed\",\"type\":\"UnionRenderers\"}},\"id\":\"1a1db58f-13b1-438b-ac4d-6f94ce52773d\",\"type\":\"ColumnDataSource\"},{\"attributes\":{},\"id\":\"3dfdfe47-5ef2-4970-b5c6-f462c6377d67\",\"type\":\"LinearScale\"},{\"attributes\":{\"data_source\":{\"id\":\"1ac38854-cf7e-4cb3-9d98-9861fa2aa7c8\",\"type\":\"ColumnDataSource\"},\"glyph\":{\"id\":\"3c1c5e26-6a64-4514-accd-20739a56a022\",\"type\":\"Line\"},\"hover_glyph\":null,\"muted_glyph\":null,\"nonselection_glyph\":{\"id\":\"1ab6b1b1-b866-4dc2-ad32-d96e372d814d\",\"type\":\"Line\"},\"selection_glyph\":null,\"view\":{\"id\":\"2ebf5eba-90cc-4169-a59a-310e7ed8f4c4\",\"type\":\"CDSView\"}},\"id\":\"2c770d6c-a69b-4ec7-b1ed-379944cdb709\",\"type\":\"GlyphRenderer\"},{\"attributes\":{},\"id\":\"3e457347-37ca-4657-bf1f-e975288cefa4\",\"type\":\"BasicTicker\"},{\"attributes\":{\"fill_alpha\":{\"value\":0.7},\"fill_color\":{\"value\":\"#4daf4a\"},\"line_alpha\":{\"value\":0.7},\"line_color\":{\"value\":\"#4daf4a\"},\"x\":{\"field\":\"x\"},\"y\":{\"field\":\"y\"}},\"id\":\"353c4281-93da-4d62-9918-f74756277c3c\",\"type\":\"Circle\"},{\"attributes\":{\"bottom_units\":\"screen\",\"fill_alpha\":{\"value\":0.5},\"fill_color\":{\"value\":\"lightgrey\"},\"left_units\":\"screen\",\"level\":\"overlay\",\"line_alpha\":{\"value\":1.0},\"line_color\":{\"value\":\"black\"},\"line_dash\":[4,4],\"line_width\":{\"value\":2},\"plot\":null,\"render_mode\":\"css\",\"right_units\":\"screen\",\"top_units\":\"screen\"},\"id\":\"c63bf6ee-e1b1-4c13-a168-b495b1134921\",\"type\":\"BoxAnnotation\"},{\"attributes\":{\"callback\":null,\"end\":0.01,\"start\":1020},\"id\":\"b81a0542-1ff0-4bd8-828d-803e2e2ce5ff\",\"type\":\"Range1d\"},{\"attributes\":{\"callback\":null,\"end\":0.10127571189899999,\"start\":-0.03545996979899999},\"id\":\"f8ce5aa8-e53c-433f-ab44-c0fdad9447fb\",\"type\":\"Range1d\"},{\"attributes\":{\"line_color\":\"#4daf4a\",\"line_width\":1.5,\"x\":{\"field\":\"x\"},\"y\":{\"field\":\"y\"}},\"id\":\"9189a902-b32f-4859-bc85-83a770cfc859\",\"type\":\"Line\"},{\"attributes\":{\"data_source\":{\"id\":\"1a1db58f-13b1-438b-ac4d-6f94ce52773d\",\"type\":\"ColumnDataSource\"},\"glyph\":{\"id\":\"353c4281-93da-4d62-9918-f74756277c3c\",\"type\":\"Circle\"},\"hover_glyph\":null,\"muted_glyph\":null,\"nonselection_glyph\":{\"id\":\"6ad5d2ad-4526-4f37-b00c-7148f2956218\",\"type\":\"Circle\"},\"selection_glyph\":null,\"view\":{\"id\":\"0244dcbc-08db-495f-be20-304be0942b6e\",\"type\":\"CDSView\"}},\"id\":\"4f945566-25fb-4782-b3c8-c4b52b2d0eb8\",\"type\":\"GlyphRenderer\"},{\"attributes\":{\"source\":{\"id\":\"1ac38854-cf7e-4cb3-9d98-9861fa2aa7c8\",\"type\":\"ColumnDataSource\"}},\"id\":\"2ebf5eba-90cc-4169-a59a-310e7ed8f4c4\",\"type\":\"CDSView\"},{\"attributes\":{\"line_alpha\":0.1,\"line_color\":\"#1f77b4\",\"line_width\":3,\"x\":{\"field\":\"x\"},\"y\":{\"field\":\"y\"}},\"id\":\"6f6213b0-ad99-4e73-957a-bc50a9afd5f0\",\"type\":\"Line\"},{\"attributes\":{\"line_alpha\":0.1,\"line_color\":\"#1f77b4\",\"line_width\":1.5,\"x\":{\"field\":\"x\"},\"y\":{\"field\":\"y\"}},\"id\":\"327bfaf1-db3b-4ce2-8062-fb32ed6b3cb7\",\"type\":\"Line\"},{\"attributes\":{},\"id\":\"576f0da1-5a3e-4588-a62d-ac0f5eb38ac4\",\"type\":\"WheelZoomTool\"},{\"attributes\":{},\"id\":\"7b339e06-ad13-45f2-894e-48dbb8cec62f\",\"type\":\"BasicTickFormatter\"},{\"attributes\":{},\"id\":\"3c4b4761-8eca-4fbc-bb4d-c3a6477be43d\",\"type\":\"Selection\"},{\"attributes\":{\"axis_label\":\"cooling rate [K/day]\",\"formatter\":{\"id\":\"bb7e5250-134c-4d5b-8648-77b7f079ce77\",\"type\":\"BasicTickFormatter\"},\"plot\":{\"id\":\"3f3903c6-f3f9-4909-ab04-777a6eae045a\",\"subtype\":\"Figure\",\"type\":\"Plot\"},\"ticker\":{\"id\":\"58f94736-4247-4349-8fff-0354bf095752\",\"type\":\"BasicTicker\"}},\"id\":\"4c71787f-122a-40c7-8ea8-c566146da74b\",\"type\":\"LinearAxis\"},{\"attributes\":{\"data_source\":{\"id\":\"649f19ee-2ba5-476d-8917-f4e81ba33c36\",\"type\":\"ColumnDataSource\"},\"glyph\":{\"id\":\"9189a902-b32f-4859-bc85-83a770cfc859\",\"type\":\"Line\"},\"hover_glyph\":null,\"muted_glyph\":null,\"nonselection_glyph\":{\"id\":\"327bfaf1-db3b-4ce2-8062-fb32ed6b3cb7\",\"type\":\"Line\"},\"selection_glyph\":null,\"view\":{\"id\":\"cc71097c-2190-4fd0-9843-ab45549f7e59\",\"type\":\"CDSView\"}},\"id\":\"446e5dfa-24dc-497f-b5d3-5d48d357afd7\",\"type\":\"GlyphRenderer\"},{\"attributes\":{\"source\":{\"id\":\"649f19ee-2ba5-476d-8917-f4e81ba33c36\",\"type\":\"ColumnDataSource\"}},\"id\":\"cc71097c-2190-4fd0-9843-ab45549f7e59\",\"type\":\"CDSView\"},{\"attributes\":{\"fill_alpha\":{\"value\":0.7},\"fill_color\":{\"value\":\"#984ea3\"},\"line_alpha\":{\"value\":0.7},\"line_color\":{\"value\":\"#984ea3\"},\"x\":{\"field\":\"x\"},\"y\":{\"field\":\"y\"}},\"id\":\"a1b37d89-c689-4ab2-8af8-98ea02b9d1ab\",\"type\":\"Square\"},{\"attributes\":{\"children\":[{\"id\":\"3f3903c6-f3f9-4909-ab04-777a6eae045a\",\"subtype\":\"Figure\",\"type\":\"Plot\"},{\"id\":\"4f09e0b2-e3ac-4356-8b7e-dfe64de825c0\",\"subtype\":\"Figure\",\"type\":\"Plot\"}]},\"id\":\"0dba573d-071f-4303-9fd6-56363f3964f1\",\"type\":\"Row\"},{\"attributes\":{\"line_alpha\":0.1,\"line_color\":\"#1f77b4\",\"line_width\":3,\"x\":{\"field\":\"x\"},\"y\":{\"field\":\"y\"}},\"id\":\"d14e4d45-f768-4bb1-ba02-63eecadb7f46\",\"type\":\"Line\"},{\"attributes\":{},\"id\":\"58f94736-4247-4349-8fff-0354bf095752\",\"type\":\"BasicTicker\"},{\"attributes\":{\"source\":{\"id\":\"3e80fc2a-9901-4016-8942-923f4e0b4b68\",\"type\":\"ColumnDataSource\"}},\"id\":\"96d5d963-ace5-4e55-9026-8d3c120bf000\",\"type\":\"CDSView\"},{\"attributes\":{},\"id\":\"1c286630-905b-47ea-a147-60e3a6327224\",\"type\":\"SaveTool\"},{\"attributes\":{},\"id\":\"0818b4a7-7f18-4781-8783-cebd77cd6725\",\"type\":\"UnionRenderers\"},{\"attributes\":{\"plot\":null,\"text\":\"Linear pressure scale\"},\"id\":\"b1291be3-0111-48e1-8ea2-b2bf530c6e2b\",\"type\":\"Title\"},{\"attributes\":{},\"id\":\"3f5e5546-3738-436e-9f62-3a1e91bbfb6c\",\"type\":\"BasicTickFormatter\"},{\"attributes\":{},\"id\":\"53c52a4a-3cc6-42c4-b9ec-acbbaae757bb\",\"type\":\"LinearScale\"},{\"attributes\":{\"label\":{\"value\":\"CLIRAD `coolr_bands`\"},\"renderers\":[{\"id\":\"2c770d6c-a69b-4ec7-b1ed-379944cdb709\",\"type\":\"GlyphRenderer\"}]},\"id\":\"76c38021-90e6-4174-9056-46af2a258e7a\",\"type\":\"LegendItem\"},{\"attributes\":{},\"id\":\"39c44a59-9456-46db-9662-2fdb0092c642\",\"type\":\"UnionRenderers\"},{\"attributes\":{\"label\":{\"value\":\"CRD\"},\"renderers\":[{\"id\":\"4f945566-25fb-4782-b3c8-c4b52b2d0eb8\",\"type\":\"GlyphRenderer\"},{\"id\":\"446e5dfa-24dc-497f-b5d3-5d48d357afd7\",\"type\":\"GlyphRenderer\"}]},\"id\":\"79c37f0e-68ee-405a-bb50-9ca0ac9b6740\",\"type\":\"LegendItem\"},{\"attributes\":{\"line_alpha\":0.6,\"line_color\":\"#e41a1c\",\"line_dash\":[6],\"line_width\":5,\"x\":{\"field\":\"x\"},\"y\":{\"field\":\"y\"}},\"id\":\"64cbc3b2-ba18-4c6c-b288-1868573a5882\",\"type\":\"Line\"},{\"attributes\":{},\"id\":\"a9207390-9704-4684-8e48-81f3b11ac01f\",\"type\":\"Selection\"},{\"attributes\":{\"label\":{\"value\":\"WGT igg=10 wgt_flux=2\"},\"renderers\":[{\"id\":\"dab5f1da-6268-4360-85b4-c35e4f2e34d1\",\"type\":\"GlyphRenderer\"},{\"id\":\"7ea7e02e-04ed-484d-946d-1169f6874a5c\",\"type\":\"GlyphRenderer\"}]},\"id\":\"ecad3d64-7d81-4a6e-8461-293759d0f9b1\",\"type\":\"LegendItem\"},{\"attributes\":{},\"id\":\"0fd7b598-34b5-4be4-9c1b-2edd6dfa46ad\",\"type\":\"Selection\"},{\"attributes\":{},\"id\":\"32f8a98d-943d-4731-b5d6-412795df0241\",\"type\":\"HelpTool\"},{\"attributes\":{},\"id\":\"bb7e5250-134c-4d5b-8648-77b7f079ce77\",\"type\":\"BasicTickFormatter\"},{\"attributes\":{\"data_source\":{\"id\":\"6acc7dfe-6674-4d38-ac43-6b4bdbf8efcc\",\"type\":\"ColumnDataSource\"},\"glyph\":{\"id\":\"ab807981-38be-47cf-b803-775b07b97347\",\"type\":\"Line\"},\"hover_glyph\":null,\"muted_glyph\":null,\"nonselection_glyph\":{\"id\":\"6f6213b0-ad99-4e73-957a-bc50a9afd5f0\",\"type\":\"Line\"},\"selection_glyph\":null,\"view\":{\"id\":\"f19b6e66-d4a5-4951-9bdd-e5e18ba15270\",\"type\":\"CDSView\"}},\"id\":\"3d693b36-8b44-4099-b25e-71abf6bf186a\",\"type\":\"GlyphRenderer\"},{\"attributes\":{},\"id\":\"382bdc0e-6095-4e5b-ad59-054bc10636e8\",\"type\":\"Selection\"},{\"attributes\":{\"dimension\":1,\"plot\":{\"id\":\"3f3903c6-f3f9-4909-ab04-777a6eae045a\",\"subtype\":\"Figure\",\"type\":\"Plot\"},\"ticker\":{\"id\":\"3e457347-37ca-4657-bf1f-e975288cefa4\",\"type\":\"BasicTicker\"}},\"id\":\"f40e87ff-35fa-40bf-85c8-4bd227bcf241\",\"type\":\"Grid\"},{\"attributes\":{},\"id\":\"ae8c49b0-c5d3-4e91-85c0-18d9d80e3cf2\",\"type\":\"UnionRenderers\"},{\"attributes\":{},\"id\":\"ccf8f2d0-84e4-43f1-ad8f-fb76cb6a369e\",\"type\":\"UnionRenderers\"},{\"attributes\":{},\"id\":\"7ca61ee2-9240-40da-a324-ccf80f351730\",\"type\":\"Selection\"},{\"attributes\":{},\"id\":\"52684a5c-7905-4fca-a93b-ddccae65b49d\",\"type\":\"UnionRenderers\"},{\"attributes\":{},\"id\":\"9ee97574-e6b2-48dd-9acd-f453fdc2e3d4\",\"type\":\"Selection\"},{\"attributes\":{\"overlay\":{\"id\":\"c63bf6ee-e1b1-4c13-a168-b495b1134921\",\"type\":\"BoxAnnotation\"}},\"id\":\"2e758a9c-8530-4dbb-a1e7-6e63c442ae3d\",\"type\":\"BoxZoomTool\"},{\"attributes\":{},\"id\":\"442ca1a6-db69-4f57-a8a8-f9fb87209bed\",\"type\":\"UnionRenderers\"},{\"attributes\":{},\"id\":\"ce486f55-8a2d-441a-a1ce-987bb574b415\",\"type\":\"PanTool\"},{\"attributes\":{},\"id\":\"cff1fa4d-a800-4d30-a342-79c3b99c38f8\",\"type\":\"Selection\"},{\"attributes\":{\"line_alpha\":0.1,\"line_color\":\"#1f77b4\",\"line_dash\":[6],\"line_width\":5,\"x\":{\"field\":\"x\"},\"y\":{\"field\":\"y\"}},\"id\":\"8c320a02-f3d8-450f-853c-5df745719e48\",\"type\":\"Line\"},{\"attributes\":{\"ticker\":null},\"id\":\"df60a77e-779a-4483-b2a3-0a455a9da97e\",\"type\":\"LogTickFormatter\"},{\"attributes\":{},\"id\":\"4278e60f-1763-4478-b067-94c0d9ee031d\",\"type\":\"Selection\"},{\"attributes\":{},\"id\":\"1423681c-3926-42cd-9770-a91ecaf33682\",\"type\":\"Selection\"},{\"attributes\":{},\"id\":\"25b7a3bc-c3c1-4f4d-b612-b8aca496ac82\",\"type\":\"UnionRenderers\"},{\"attributes\":{\"callback\":null,\"data\":{\"x\":{\"__ndarray__\":\"gZeBGT/Mqb/mzA6iyYapv4RZYS1Q6Ki/vdk1DclKqL+EhSHflqmnvyaMQJ5YBae/jp/DBWtfpr9xkTTlLrWlv7Bx+AKFCqW/Meh1pRRdpL+LEXClKq+jvzHJHFlmAqO/FkuCUfhVor9+ni+Lw3ihvzE/eVA37Zu/+TOgBFQ9h78GC6uhoiSHP5vdYpcLCaQ/hmAnhRGssj/AYoneFBy9P5XwQkKtzMQ/kwVlfXdpyz809Zk3d4nNP7ZeeMoPgco/2DDguM63xT8MQEBKLve/P0xnQ9jSnrU/74jfVHHRqj/nSOBvsSueP6LEScIHdI8/hErxdNQ4gT82RiBSG3J2Py7HzgyAR2w/EaljxLoKJz8iJf7wiI1/vxLxcc7RqJO/EI32kb69nb+hPyiARg+hvy14oR56CaG/UIbG7Xn5oL/CeSdVkcCgv3dENKPnYqC/Cws/Tzuwn7+hSv1XfmKev4ROtB3m2py/qWkF8JAOm781ZJJK3iSZvy1W4YocBpe/CAohvzWylL/SvZh35i+Sv9PUzgruAo+/oErDrPQzib+7t3gx+vWCv5gmWcl2Xni/7I3avOrzY78oZcbiTbNWPy+MoKPokHY/lroP+G9ihD9ESZyj+yqOP9s46GYNS5Q/Gm7mriqdmT+3wEuUsHueP0jDerryDaE/sBnRVz8foj+8W4QiEMGiP/XC0v3ygqM/D40XoKfgpD930wVz9vmmP5BIhfharKk/kAumGCLSrD9vVzvMjyawPyg71dhgDLI/yXZHkXgjtD/V9ZJm9nC2PxNTJIqJALk/\",\"dtype\":\"float64\",\"shape\":[75]},\"y\":{\"__ndarray__\":\"S/O/Q+51ND/Sv8nbtpRIP2vylNV0PVE/aTum7souWD/At0SJ8fVgPw3Iuahxymc/MSNhhJWvcD/bTfBN02d3P2zb5nxnaoA/CD5h5MAGhz8NmeH1TyaQP+zrCsc9p5Y/LbKd76fGnz/bLW5ISEmmPww9YvTcQq8/JV2OstnstT8Er5Y7M8G+P0c+r3jqkcU/5h99k6ZBzj88bCIzFzjVP4enV8oyxN0//yH99nXg5D8qOpLLf0jtP5kqGJXUifQ/c9cS8kHP/D+/DpwzojQEQIEmwoanVwxA4lgXt9HgE0BSSZ2AJuIbQAMJih9jjiNA5q4l5INuK0AwTKYKRj0zQNv5fmq8/DpAaCJseHrtQkB/+zpwzoxKQM3MzMzMeFJAZmZmZmZqWEAAAAAAAFxeQM3MzMzMJmJAmpmZmZkfZUBmZmZmZhhoQDMzMzMzEWtAAAAAAAAKbkBmZmZmZoFwQM3MzMzM/XFAMzMzMzN6c0CamZmZmfZ0QAAAAAAAc3ZAZmZmZmbvd0DNzMzMzGt5QDMzMzMz6HpAmpmZmZlkfEAAAAAAAOF9QGZmZmZmXX9AZmZmZuZsgECamZmZGSuBQM3MzMxM6YFAAAAAAICngkAzMzMzs2WDQGZmZmbmI4RAmpmZmRnihEDNzMzMTKCFQAAAAACAXoZAMzMzM7Mch0BmZmZm5tqHQJqZmZkZmYhAzczMzExXiUAAAAAAgBWKQDMzMzOz04pAZmZmZuaRi0CamZmZGVCMQM3MzMxMDo1AAAAAAIDMjUAzMzMzs4qOQGZmZmbmSI9A\",\"dtype\":\"float64\",\"shape\":[75]}},\"selected\":{\"id\":\"0fd7b598-34b5-4be4-9c1b-2edd6dfa46ad\",\"type\":\"Selection\"},\"selection_policy\":{\"id\":\"ae8c49b0-c5d3-4e91-85c0-18d9d80e3cf2\",\"type\":\"UnionRenderers\"}},\"id\":\"f8d10420-1867-4625-b963-f8c6387e72a7\",\"type\":\"ColumnDataSource\"},{\"attributes\":{},\"id\":\"6311f309-f4e5-45ca-ac86-76b09db8d286\",\"type\":\"Selection\"},{\"attributes\":{},\"id\":\"6435a9c0-eb78-4a0a-9263-370b69611867\",\"type\":\"UnionRenderers\"},{\"attributes\":{},\"id\":\"5e4fec17-4b69-4df7-9038-192ee47d4e28\",\"type\":\"UnionRenderers\"},{\"attributes\":{},\"id\":\"158a4b4f-9daf-4f48-b7eb-888cb9f31261\",\"type\":\"ResetTool\"},{\"attributes\":{},\"id\":\"a20c4997-b04d-4fde-b2de-b3f12f380550\",\"type\":\"UnionRenderers\"}],\"root_ids\":[\"49afba05-c442-4f4e-8b8e-34867335a9d9\"]},\"title\":\"Bokeh Application\",\"version\":\"0.12.16\"}};\n",
       "  var render_items = [{\"docid\":\"286c05ac-182f-4845-b849-6268d3d5f909\",\"elementid\":\"d0532899-2e5a-4cd9-8937-4c82655be771\",\"modelid\":\"49afba05-c442-4f4e-8b8e-34867335a9d9\"}];\n",
       "  root.Bokeh.embed.embed_items_notebook(docs_json, render_items);\n",
       "\n",
       "  }\n",
       "  if (root.Bokeh !== undefined) {\n",
       "    embed_document(root);\n",
       "  } else {\n",
       "    var attempts = 0;\n",
       "    var timer = setInterval(function(root) {\n",
       "      if (root.Bokeh !== undefined) {\n",
       "        embed_document(root);\n",
       "        clearInterval(timer);\n",
       "      }\n",
       "      attempts++;\n",
       "      if (attempts > 100) {\n",
       "        console.log(\"Bokeh: ERROR: Unable to run BokehJS code because BokehJS library is missing\")\n",
       "        clearInterval(timer);\n",
       "      }\n",
       "    }, 10, root)\n",
       "  }\n",
       "})(window);"
      ],
      "application/vnd.bokehjs_exec.v0+json": ""
     },
     "metadata": {
      "application/vnd.bokehjs_exec.v0+json": {
       "id": "49afba05-c442-4f4e-8b8e-34867335a9d9"
      }
     },
     "output_type": "display_data"
    },
    {
     "name": "stdout",
     "output_type": "stream",
     "text": [
      "FIGURE. Cooling rate profiles.\n"
     ]
    },
    {
     "data": {
      "text/html": [
       "<a id=\"Flux_Comparison\"></a>"
      ],
      "text/plain": [
       "<IPython.core.display.HTML object>"
      ]
     },
     "metadata": {},
     "output_type": "display_data"
    },
    {
     "data": {
      "text/markdown": [
       "# Flux Comparison"
      ],
      "text/plain": [
       "<IPython.core.display.Markdown object>"
      ]
     },
     "metadata": {},
     "output_type": "display_data"
    },
    {
     "data": {
      "text/html": [
       "<div>\n",
       "<style scoped>\n",
       "    .dataframe tbody tr th:only-of-type {\n",
       "        vertical-align: middle;\n",
       "    }\n",
       "\n",
       "    .dataframe tbody tr th {\n",
       "        vertical-align: top;\n",
       "    }\n",
       "\n",
       "    .dataframe thead th {\n",
       "        text-align: right;\n",
       "    }\n",
       "</style>\n",
       "<table border=\"1\" class=\"dataframe\">\n",
       "  <thead>\n",
       "    <tr style=\"text-align: right;\">\n",
       "      <th></th>\n",
       "      <th></th>\n",
       "      <th>flug</th>\n",
       "      <th>fldg</th>\n",
       "      <th>fnetg</th>\n",
       "    </tr>\n",
       "    <tr>\n",
       "      <th>pressure</th>\n",
       "      <th>level</th>\n",
       "      <th></th>\n",
       "      <th></th>\n",
       "      <th></th>\n",
       "    </tr>\n",
       "  </thead>\n",
       "  <tbody>\n",
       "    <tr>\n",
       "      <th>0.0000</th>\n",
       "      <th>1</th>\n",
       "      <td>-21.608790</td>\n",
       "      <td>0.000000</td>\n",
       "      <td>-21.608790</td>\n",
       "    </tr>\n",
       "    <tr>\n",
       "      <th>1.0685</th>\n",
       "      <th>24</th>\n",
       "      <td>-21.607707</td>\n",
       "      <td>0.018403</td>\n",
       "      <td>-21.589304</td>\n",
       "    </tr>\n",
       "    <tr>\n",
       "      <th>1013.0000</th>\n",
       "      <th>76</th>\n",
       "      <td>-26.962746</td>\n",
       "      <td>6.754622</td>\n",
       "      <td>-20.208124</td>\n",
       "    </tr>\n",
       "  </tbody>\n",
       "</table>\n",
       "</div>"
      ],
      "text/plain": [
       "                      flug      fldg      fnetg\n",
       "pressure  level                                \n",
       "0.0000    1     -21.608790  0.000000 -21.608790\n",
       "1.0685    24    -21.607707  0.018403 -21.589304\n",
       "1013.0000 76    -26.962746  6.754622 -20.208124"
      ]
     },
     "metadata": {},
     "output_type": "display_data"
    },
    {
     "name": "stdout",
     "output_type": "stream",
     "text": [
      "Table. Fluxes. CRD\n"
     ]
    },
    {
     "data": {
      "text/html": [
       "<div>\n",
       "<style scoped>\n",
       "    .dataframe tbody tr th:only-of-type {\n",
       "        vertical-align: middle;\n",
       "    }\n",
       "\n",
       "    .dataframe tbody tr th {\n",
       "        vertical-align: top;\n",
       "    }\n",
       "\n",
       "    .dataframe thead th {\n",
       "        text-align: right;\n",
       "    }\n",
       "</style>\n",
       "<table border=\"1\" class=\"dataframe\">\n",
       "  <thead>\n",
       "    <tr style=\"text-align: right;\">\n",
       "      <th></th>\n",
       "      <th></th>\n",
       "      <th>flug</th>\n",
       "      <th>fldg</th>\n",
       "      <th>fnetg</th>\n",
       "    </tr>\n",
       "    <tr>\n",
       "      <th>pressure</th>\n",
       "      <th>level</th>\n",
       "      <th></th>\n",
       "      <th></th>\n",
       "      <th></th>\n",
       "    </tr>\n",
       "  </thead>\n",
       "  <tbody>\n",
       "    <tr>\n",
       "      <th>0.0000</th>\n",
       "      <th>1</th>\n",
       "      <td>-21.526876</td>\n",
       "      <td>0.000000</td>\n",
       "      <td>-21.526876</td>\n",
       "    </tr>\n",
       "    <tr>\n",
       "      <th>1.0685</th>\n",
       "      <th>24</th>\n",
       "      <td>-21.523769</td>\n",
       "      <td>0.016847</td>\n",
       "      <td>-21.506923</td>\n",
       "    </tr>\n",
       "    <tr>\n",
       "      <th>1013.0000</th>\n",
       "      <th>76</th>\n",
       "      <td>-26.962746</td>\n",
       "      <td>6.628434</td>\n",
       "      <td>-20.334312</td>\n",
       "    </tr>\n",
       "  </tbody>\n",
       "</table>\n",
       "</div>"
      ],
      "text/plain": [
       "                      flug      fldg      fnetg\n",
       "pressure  level                                \n",
       "0.0000    1     -21.526876  0.000000 -21.526876\n",
       "1.0685    24    -21.523769  0.016847 -21.506923\n",
       "1013.0000 76    -26.962746  6.628434 -20.334312"
      ]
     },
     "metadata": {},
     "output_type": "display_data"
    },
    {
     "name": "stdout",
     "output_type": "stream",
     "text": [
      "Table. Fluxes. WGT igg=10 wgt_flux=1\n"
     ]
    },
    {
     "data": {
      "text/html": [
       "<div>\n",
       "<style scoped>\n",
       "    .dataframe tbody tr th:only-of-type {\n",
       "        vertical-align: middle;\n",
       "    }\n",
       "\n",
       "    .dataframe tbody tr th {\n",
       "        vertical-align: top;\n",
       "    }\n",
       "\n",
       "    .dataframe thead th {\n",
       "        text-align: right;\n",
       "    }\n",
       "</style>\n",
       "<table border=\"1\" class=\"dataframe\">\n",
       "  <thead>\n",
       "    <tr style=\"text-align: right;\">\n",
       "      <th></th>\n",
       "      <th></th>\n",
       "      <th>flug</th>\n",
       "      <th>fldg</th>\n",
       "      <th>fnetg</th>\n",
       "    </tr>\n",
       "    <tr>\n",
       "      <th>pressure</th>\n",
       "      <th>level</th>\n",
       "      <th></th>\n",
       "      <th></th>\n",
       "      <th></th>\n",
       "    </tr>\n",
       "  </thead>\n",
       "  <tbody>\n",
       "    <tr>\n",
       "      <th>1.000000e-08</th>\n",
       "      <th>1</th>\n",
       "      <td>-21.638339</td>\n",
       "      <td>9.046431e-08</td>\n",
       "      <td>-21.638339</td>\n",
       "    </tr>\n",
       "    <tr>\n",
       "      <th>1.068500e+00</th>\n",
       "      <th>24</th>\n",
       "      <td>-21.634528</td>\n",
       "      <td>1.529193e-02</td>\n",
       "      <td>-21.619237</td>\n",
       "    </tr>\n",
       "    <tr>\n",
       "      <th>1.013000e+03</th>\n",
       "      <th>76</th>\n",
       "      <td>-26.962750</td>\n",
       "      <td>6.485386e+00</td>\n",
       "      <td>-20.477364</td>\n",
       "    </tr>\n",
       "  </tbody>\n",
       "</table>\n",
       "</div>"
      ],
      "text/plain": [
       "                         flug          fldg      fnetg\n",
       "pressure     level                                    \n",
       "1.000000e-08 1     -21.638339  9.046431e-08 -21.638339\n",
       "1.068500e+00 24    -21.634528  1.529193e-02 -21.619237\n",
       "1.013000e+03 76    -26.962750  6.485386e+00 -20.477364"
      ]
     },
     "metadata": {},
     "output_type": "display_data"
    },
    {
     "name": "stdout",
     "output_type": "stream",
     "text": [
      "Table. Fluxes. CLIRAD\n"
     ]
    },
    {
     "data": {
      "text/html": [
       "<div>\n",
       "<style scoped>\n",
       "    .dataframe tbody tr th:only-of-type {\n",
       "        vertical-align: middle;\n",
       "    }\n",
       "\n",
       "    .dataframe tbody tr th {\n",
       "        vertical-align: top;\n",
       "    }\n",
       "\n",
       "    .dataframe thead th {\n",
       "        text-align: right;\n",
       "    }\n",
       "</style>\n",
       "<table border=\"1\" class=\"dataframe\">\n",
       "  <thead>\n",
       "    <tr style=\"text-align: right;\">\n",
       "      <th></th>\n",
       "      <th></th>\n",
       "      <th>flug</th>\n",
       "      <th>fldg</th>\n",
       "      <th>fnetg</th>\n",
       "    </tr>\n",
       "    <tr>\n",
       "      <th>pressure</th>\n",
       "      <th>level</th>\n",
       "      <th></th>\n",
       "      <th></th>\n",
       "      <th></th>\n",
       "    </tr>\n",
       "  </thead>\n",
       "  <tbody>\n",
       "    <tr>\n",
       "      <th>0.0000</th>\n",
       "      <th>1</th>\n",
       "      <td>8.191374e-02</td>\n",
       "      <td>0.000000</td>\n",
       "      <td>0.081914</td>\n",
       "    </tr>\n",
       "    <tr>\n",
       "      <th>1.0685</th>\n",
       "      <th>24</th>\n",
       "      <td>8.393751e-02</td>\n",
       "      <td>-0.001556</td>\n",
       "      <td>0.082381</td>\n",
       "    </tr>\n",
       "    <tr>\n",
       "      <th>1013.0000</th>\n",
       "      <th>76</th>\n",
       "      <td>-4.400000e-07</td>\n",
       "      <td>-0.126188</td>\n",
       "      <td>-0.126188</td>\n",
       "    </tr>\n",
       "  </tbody>\n",
       "</table>\n",
       "</div>"
      ],
      "text/plain": [
       "                         flug      fldg     fnetg\n",
       "pressure  level                                  \n",
       "0.0000    1      8.191374e-02  0.000000  0.081914\n",
       "1.0685    24     8.393751e-02 -0.001556  0.082381\n",
       "1013.0000 76    -4.400000e-07 -0.126188 -0.126188"
      ]
     },
     "metadata": {},
     "output_type": "display_data"
    },
    {
     "name": "stdout",
     "output_type": "stream",
     "text": [
      "Table. Fluxes. (WGT igg=10 wgt_flux=1) - (CRD)\n"
     ]
    },
    {
     "data": {
      "text/html": [
       "<div>\n",
       "<style scoped>\n",
       "    .dataframe tbody tr th:only-of-type {\n",
       "        vertical-align: middle;\n",
       "    }\n",
       "\n",
       "    .dataframe tbody tr th {\n",
       "        vertical-align: top;\n",
       "    }\n",
       "\n",
       "    .dataframe thead th {\n",
       "        text-align: right;\n",
       "    }\n",
       "</style>\n",
       "<table border=\"1\" class=\"dataframe\">\n",
       "  <thead>\n",
       "    <tr style=\"text-align: right;\">\n",
       "      <th></th>\n",
       "      <th></th>\n",
       "      <th>flug</th>\n",
       "      <th>fldg</th>\n",
       "      <th>fnetg</th>\n",
       "    </tr>\n",
       "    <tr>\n",
       "      <th>pressure</th>\n",
       "      <th>level</th>\n",
       "      <th></th>\n",
       "      <th></th>\n",
       "      <th></th>\n",
       "    </tr>\n",
       "  </thead>\n",
       "  <tbody>\n",
       "    <tr>\n",
       "      <th>0.0000</th>\n",
       "      <th>1</th>\n",
       "      <td>-0.029549</td>\n",
       "      <td>9.046431e-08</td>\n",
       "      <td>-0.029549</td>\n",
       "    </tr>\n",
       "    <tr>\n",
       "      <th>1.0685</th>\n",
       "      <th>24</th>\n",
       "      <td>-0.026821</td>\n",
       "      <td>-3.111563e-03</td>\n",
       "      <td>-0.029933</td>\n",
       "    </tr>\n",
       "    <tr>\n",
       "      <th>1013.0000</th>\n",
       "      <th>76</th>\n",
       "      <td>-0.000004</td>\n",
       "      <td>-2.692358e-01</td>\n",
       "      <td>-0.269240</td>\n",
       "    </tr>\n",
       "  </tbody>\n",
       "</table>\n",
       "</div>"
      ],
      "text/plain": [
       "                     flug          fldg     fnetg\n",
       "pressure  level                                  \n",
       "0.0000    1     -0.029549  9.046431e-08 -0.029549\n",
       "1.0685    24    -0.026821 -3.111563e-03 -0.029933\n",
       "1013.0000 76    -0.000004 -2.692358e-01 -0.269240"
      ]
     },
     "metadata": {},
     "output_type": "display_data"
    },
    {
     "name": "stdout",
     "output_type": "stream",
     "text": [
      "Table. Fluxes. (CLIRAD) - (CRD)\n"
     ]
    },
    {
     "data": {
      "text/html": [
       "<a id=\"Best-fit_Parameters\"></a>"
      ],
      "text/plain": [
       "<IPython.core.display.HTML object>"
      ]
     },
     "metadata": {},
     "output_type": "display_data"
    },
    {
     "data": {
      "text/markdown": [
       "# Best-fit Parameters"
      ],
      "text/plain": [
       "<IPython.core.display.Markdown object>"
      ]
     },
     "metadata": {},
     "output_type": "display_data"
    },
    {
     "name": "stdout",
     "output_type": "stream",
     "text": [
      "Best-fit values for each (gas, band)\n",
      "------------------------------------\n",
      "o ch4 band7\n",
      "  atmpro = mls\n",
      "  band = 7\n",
      "  commitnumber = a06b618\n",
      "  conc = 1.8e-06\n",
      "  dv = 0.001\n",
      "  klin = 2e-21\n",
      "  molecule = ch4\n",
      "  ng_adju = [0, 0]\n",
      "  ng_refs = [2, 3]\n",
      "  nv = 1000\n",
      "  option_compute_btable = 0\n",
      "  option_compute_ktable = 1\n",
      "  option_wgt_flux = 1\n",
      "  option_wgt_k = 1\n",
      "  ref_pts = [(1, 250), (500, 250)]\n",
      "  tsfc = 294\n",
      "  vmax = 1380\n",
      "  vmin = 1215\n",
      "  w_diffuse = [(1.66, 1.66), (1.66, 1.66, 1.66)]\n",
      "  wgt = [(0.7, 0.7), (0.4, 0.6, 0.75)]\n"
     ]
    }
   ],
   "source": [
    "script()"
   ]
  },
  {
   "cell_type": "code",
   "execution_count": 13,
   "metadata": {
    "collapsed": true
   },
   "outputs": [
    {
     "data": {
      "text/html": [
       "<script>\n",
       "code_show=true; \n",
       "function code_toggle() {\n",
       " if (code_show){\n",
       " $('div.input').hide();\n",
       " } else {\n",
       " $('div.input').show();\n",
       " }\n",
       " code_show = !code_show\n",
       "} \n",
       "$( document ).ready(code_toggle);\n",
       "</script>\n",
       "<form action=\"javascript:code_toggle()\"><input type=\"submit\" value=\"Click here to toggle on/off the raw code.\"></form>"
      ],
      "text/plain": [
       "<IPython.core.display.HTML object>"
      ]
     },
     "execution_count": 13,
     "metadata": {},
     "output_type": "execute_result"
    }
   ],
   "source": [
    "display.HTML('''<script>\n",
    "code_show=true; \n",
    "function code_toggle() {\n",
    " if (code_show){\n",
    " $('div.input').hide();\n",
    " } else {\n",
    " $('div.input').show();\n",
    " }\n",
    " code_show = !code_show\n",
    "} \n",
    "$( document ).ready(code_toggle);\n",
    "</script>\n",
    "<form action=\"javascript:code_toggle()\"><input type=\"submit\" value=\"Click here to toggle on/off the raw code.\"></form>''')"
   ]
  }
 ],
 "metadata": {
  "kernelspec": {
   "display_name": "Python 3",
   "language": "python",
   "name": "python3"
  },
  "language_info": {
   "codemirror_mode": {
    "name": "ipython",
    "version": 3
   },
   "file_extension": ".py",
   "mimetype": "text/x-python",
   "name": "python",
   "nbconvert_exporter": "python",
   "pygments_lexer": "ipython3",
   "version": "3.6.1"
  }
 },
 "nbformat": 4,
 "nbformat_minor": 2
}
