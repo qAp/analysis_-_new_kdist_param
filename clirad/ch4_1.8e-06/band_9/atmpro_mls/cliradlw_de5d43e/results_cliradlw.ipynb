{
 "cells": [
  {
   "cell_type": "code",
   "execution_count": 1,
   "metadata": {
    "collapsed": true
   },
   "outputs": [],
   "source": [
    "%matplotlib inline\n",
    "import os\n",
    "import re\n",
    "import io\n",
    "import itertools\n",
    "import pprint\n",
    "\n",
    "from bokeh.io import output_notebook, show\n",
    "from bokeh.layouts import gridplot\n",
    "from bokeh.plotting import figure\n",
    "from bokeh.models import Range1d, Legend\n",
    "from bokeh.palettes import all_palettes\n",
    "\n",
    "import matplotlib\n",
    "import matplotlib.pyplot as plt\n",
    "import numpy as np\n",
    "import pandas as pd\n",
    "import xarray as xr\n",
    "\n",
    "import climatools.lblnew.bestfit_params as bestfits\n",
    "from climatools.lblnew import setup_bestfit, setup_overlap\n",
    "import climatools.lblnew.pipeline as pipe_lblnew\n",
    "import climatools.cliradlw.setup as setup_cliradlw\n",
    "import climatools.cliradlw.pipeline as pipe_cliradlw\n",
    "\n",
    "import climatools.html.html as climahtml\n",
    "from climatools.lblnew.dataio import *\n",
    "from climatools.plot.plot import *\n",
    "\n",
    "\n",
    "import IPython.display as display"
   ]
  },
  {
   "cell_type": "code",
   "execution_count": 2,
   "metadata": {
    "collapsed": true
   },
   "outputs": [],
   "source": [
    "%run param.py"
   ]
  },
  {
   "cell_type": "code",
   "execution_count": 3,
   "metadata": {
    "collapsed": true
   },
   "outputs": [],
   "source": [
    "def load_output_file(path_csv):\n",
    "    '''\n",
    "    Load lblnew output .csv file to xarray.Dataset\n",
    "    \n",
    "    Parameters\n",
    "    ----------\n",
    "    path_csv: str\n",
    "              Path to the .csv file to be loaded.\n",
    "    ds: xarray.Dataset\n",
    "        Data in the input file in the form of an xarray.Dataset.\n",
    "    '''\n",
    "    toindex = ['band', 'pressure', 'igg', 'g']    \n",
    "    df = pd.read_csv(path_csv, sep=r'\\s+')\n",
    "    df = df.set_index([i for i in toindex if i in df.columns])\n",
    "    df = df.rename(columns={'sfu': 'flug',\n",
    "                            'sfd': 'fldg',\n",
    "                            'fnet': 'fnetg',\n",
    "                            'coolr': 'coolrg'})\n",
    "    ds = xr.Dataset.from_dataframe(df)\n",
    "\n",
    "    for l in ('level', 'layer'):\n",
    "        if l in ds.data_vars:\n",
    "            if len(ds[l].dims) > 1:\n",
    "                surface = {d: 0 for d in ds.dims if d != 'pressure'}\n",
    "                coord_level = ds[l][surface]\n",
    "                ds.coords[l] = ('pressure', coord_level)\n",
    "            else:\n",
    "                ds.coords[l] = ('pressure', ds[l])\n",
    "    \n",
    "    return ds"
   ]
  },
  {
   "cell_type": "code",
   "execution_count": 4,
   "metadata": {
    "collapsed": true
   },
   "outputs": [],
   "source": [
    "def lblnew_setup(param=None):\n",
    "    if 'ng_refs' in param:\n",
    "        return {'setup': setup_bestfit,\n",
    "                'fname_flux_crd': 'output_flux.dat',\n",
    "                'fname_cool_crd': 'output_coolr.dat',\n",
    "                'fname_flux_wgt': 'output_wfluxg.dat',\n",
    "                'fname_cool_wgt': 'output_wcoolrg.dat'}\n",
    "    else:\n",
    "        return {'setup': setup_overlap,\n",
    "                'fname_flux_crd': 'output_flux.dat',\n",
    "                'fname_cool_crd': 'output_coolr.dat',\n",
    "                'fname_flux_wgt': 'output_wflux.dat',\n",
    "                'fname_cool_wgt': 'output_wcoolr.dat'}\n",
    "\n",
    "    \n",
    "def load_lblnew_data(param):\n",
    "    \n",
    "    fname_dsname = [('fname_flux_crd', 'ds_flux_crd'),\n",
    "                    ('fname_cool_crd', 'ds_cool_crd'),\n",
    "                    ('fname_flux_wgt', 'ds_flux_wgt'),\n",
    "                    ('fname_cool_wgt', 'ds_cool_wgt')]\n",
    "    \n",
    "    d = lblnew_setup(param)\n",
    "    dir_fortran = pipe_lblnew.get_dir_case(param, setup=d['setup'])\n",
    "    \n",
    "    data_dict = {}\n",
    "    for fname, dsname in fname_dsname:\n",
    "        fpath = os.path.join(dir_fortran, d[fname])\n",
    "        data_dict[dsname] = load_output_file(fpath)\n",
    "    return data_dict\n",
    "    \n",
    "\n",
    "    \n",
    "    "
   ]
  },
  {
   "cell_type": "code",
   "execution_count": 5,
   "metadata": {
    "collapsed": true
   },
   "outputs": [],
   "source": [
    "d = load_lblnew_data(PARAM_LBLNEW)\n",
    "\n",
    "DS_FLUX_CRD = d['ds_flux_crd']\n",
    "DS_COOL_CRD = d['ds_cool_crd']\n",
    "DS_FLUX_WGT = d['ds_flux_wgt']\n",
    "DS_COOL_WGT = d['ds_cool_wgt']"
   ]
  },
  {
   "cell_type": "code",
   "execution_count": 6,
   "metadata": {
    "collapsed": true
   },
   "outputs": [],
   "source": [
    "DIR_FORTRAN = pipe_cliradlw.get_fortran_dir(PARAM, \n",
    "                                            setup=setup_cliradlw)\n",
    "\n",
    "PATH_FLUX = os.path.join(DIR_FORTRAN, 'output_flux.dat')\n",
    "PATH_COOL = os.path.join(DIR_FORTRAN, 'output_coolr.dat')\n",
    "\n",
    "DS_FLUX = load_output_file(PATH_FLUX)\n",
    "DS_COOL = load_output_file(PATH_COOL)"
   ]
  },
  {
   "cell_type": "code",
   "execution_count": 7,
   "metadata": {
    "collapsed": true
   },
   "outputs": [
    {
     "data": {
      "text/html": [
       "\n",
       "    <div class=\"bk-root\">\n",
       "        <a href=\"https://bokeh.pydata.org\" target=\"_blank\" class=\"bk-logo bk-logo-small bk-logo-notebook\"></a>\n",
       "        <span id=\"738136f0-82db-4626-b37e-3ff343a87d48\">Loading BokehJS ...</span>\n",
       "    </div>"
      ]
     },
     "metadata": {},
     "output_type": "display_data"
    },
    {
     "data": {
      "application/javascript": [
       "\n",
       "(function(root) {\n",
       "  function now() {\n",
       "    return new Date();\n",
       "  }\n",
       "\n",
       "  var force = true;\n",
       "\n",
       "  if (typeof (root._bokeh_onload_callbacks) === \"undefined\" || force === true) {\n",
       "    root._bokeh_onload_callbacks = [];\n",
       "    root._bokeh_is_loading = undefined;\n",
       "  }\n",
       "\n",
       "  var JS_MIME_TYPE = 'application/javascript';\n",
       "  var HTML_MIME_TYPE = 'text/html';\n",
       "  var EXEC_MIME_TYPE = 'application/vnd.bokehjs_exec.v0+json';\n",
       "  var CLASS_NAME = 'output_bokeh rendered_html';\n",
       "\n",
       "  /**\n",
       "   * Render data to the DOM node\n",
       "   */\n",
       "  function render(props, node) {\n",
       "    var script = document.createElement(\"script\");\n",
       "    node.appendChild(script);\n",
       "  }\n",
       "\n",
       "  /**\n",
       "   * Handle when an output is cleared or removed\n",
       "   */\n",
       "  function handleClearOutput(event, handle) {\n",
       "    var cell = handle.cell;\n",
       "\n",
       "    var id = cell.output_area._bokeh_element_id;\n",
       "    var server_id = cell.output_area._bokeh_server_id;\n",
       "    // Clean up Bokeh references\n",
       "    if (id !== undefined) {\n",
       "      Bokeh.index[id].model.document.clear();\n",
       "      delete Bokeh.index[id];\n",
       "    }\n",
       "\n",
       "    if (server_id !== undefined) {\n",
       "      // Clean up Bokeh references\n",
       "      var cmd = \"from bokeh.io.state import curstate; print(curstate().uuid_to_server['\" + server_id + \"'].get_sessions()[0].document.roots[0]._id)\";\n",
       "      cell.notebook.kernel.execute(cmd, {\n",
       "        iopub: {\n",
       "          output: function(msg) {\n",
       "            var element_id = msg.content.text.trim();\n",
       "            Bokeh.index[element_id].model.document.clear();\n",
       "            delete Bokeh.index[element_id];\n",
       "          }\n",
       "        }\n",
       "      });\n",
       "      // Destroy server and session\n",
       "      var cmd = \"import bokeh.io.notebook as ion; ion.destroy_server('\" + server_id + \"')\";\n",
       "      cell.notebook.kernel.execute(cmd);\n",
       "    }\n",
       "  }\n",
       "\n",
       "  /**\n",
       "   * Handle when a new output is added\n",
       "   */\n",
       "  function handleAddOutput(event, handle) {\n",
       "    var output_area = handle.output_area;\n",
       "    var output = handle.output;\n",
       "\n",
       "    // limit handleAddOutput to display_data with EXEC_MIME_TYPE content only\n",
       "    if ((output.output_type != \"display_data\") || (!output.data.hasOwnProperty(EXEC_MIME_TYPE))) {\n",
       "      return\n",
       "    }\n",
       "\n",
       "    var toinsert = output_area.element.find(\".\" + CLASS_NAME.split(' ')[0]);\n",
       "\n",
       "    if (output.metadata[EXEC_MIME_TYPE][\"id\"] !== undefined) {\n",
       "      toinsert[toinsert.length - 1].firstChild.textContent = output.data[JS_MIME_TYPE];\n",
       "      // store reference to embed id on output_area\n",
       "      output_area._bokeh_element_id = output.metadata[EXEC_MIME_TYPE][\"id\"];\n",
       "    }\n",
       "    if (output.metadata[EXEC_MIME_TYPE][\"server_id\"] !== undefined) {\n",
       "      var bk_div = document.createElement(\"div\");\n",
       "      bk_div.innerHTML = output.data[HTML_MIME_TYPE];\n",
       "      var script_attrs = bk_div.children[0].attributes;\n",
       "      for (var i = 0; i < script_attrs.length; i++) {\n",
       "        toinsert[toinsert.length - 1].firstChild.setAttribute(script_attrs[i].name, script_attrs[i].value);\n",
       "      }\n",
       "      // store reference to server id on output_area\n",
       "      output_area._bokeh_server_id = output.metadata[EXEC_MIME_TYPE][\"server_id\"];\n",
       "    }\n",
       "  }\n",
       "\n",
       "  function register_renderer(events, OutputArea) {\n",
       "\n",
       "    function append_mime(data, metadata, element) {\n",
       "      // create a DOM node to render to\n",
       "      var toinsert = this.create_output_subarea(\n",
       "        metadata,\n",
       "        CLASS_NAME,\n",
       "        EXEC_MIME_TYPE\n",
       "      );\n",
       "      this.keyboard_manager.register_events(toinsert);\n",
       "      // Render to node\n",
       "      var props = {data: data, metadata: metadata[EXEC_MIME_TYPE]};\n",
       "      render(props, toinsert[toinsert.length - 1]);\n",
       "      element.append(toinsert);\n",
       "      return toinsert\n",
       "    }\n",
       "\n",
       "    /* Handle when an output is cleared or removed */\n",
       "    events.on('clear_output.CodeCell', handleClearOutput);\n",
       "    events.on('delete.Cell', handleClearOutput);\n",
       "\n",
       "    /* Handle when a new output is added */\n",
       "    events.on('output_added.OutputArea', handleAddOutput);\n",
       "\n",
       "    /**\n",
       "     * Register the mime type and append_mime function with output_area\n",
       "     */\n",
       "    OutputArea.prototype.register_mime_type(EXEC_MIME_TYPE, append_mime, {\n",
       "      /* Is output safe? */\n",
       "      safe: true,\n",
       "      /* Index of renderer in `output_area.display_order` */\n",
       "      index: 0\n",
       "    });\n",
       "  }\n",
       "\n",
       "  // register the mime type if in Jupyter Notebook environment and previously unregistered\n",
       "  if (root.Jupyter !== undefined) {\n",
       "    var events = require('base/js/events');\n",
       "    var OutputArea = require('notebook/js/outputarea').OutputArea;\n",
       "\n",
       "    if (OutputArea.prototype.mime_types().indexOf(EXEC_MIME_TYPE) == -1) {\n",
       "      register_renderer(events, OutputArea);\n",
       "    }\n",
       "  }\n",
       "\n",
       "  \n",
       "  if (typeof (root._bokeh_timeout) === \"undefined\" || force === true) {\n",
       "    root._bokeh_timeout = Date.now() + 5000;\n",
       "    root._bokeh_failed_load = false;\n",
       "  }\n",
       "\n",
       "  var NB_LOAD_WARNING = {'data': {'text/html':\n",
       "     \"<div style='background-color: #fdd'>\\n\"+\n",
       "     \"<p>\\n\"+\n",
       "     \"BokehJS does not appear to have successfully loaded. If loading BokehJS from CDN, this \\n\"+\n",
       "     \"may be due to a slow or bad network connection. Possible fixes:\\n\"+\n",
       "     \"</p>\\n\"+\n",
       "     \"<ul>\\n\"+\n",
       "     \"<li>re-rerun `output_notebook()` to attempt to load from CDN again, or</li>\\n\"+\n",
       "     \"<li>use INLINE resources instead, as so:</li>\\n\"+\n",
       "     \"</ul>\\n\"+\n",
       "     \"<code>\\n\"+\n",
       "     \"from bokeh.resources import INLINE\\n\"+\n",
       "     \"output_notebook(resources=INLINE)\\n\"+\n",
       "     \"</code>\\n\"+\n",
       "     \"</div>\"}};\n",
       "\n",
       "  function display_loaded() {\n",
       "    var el = document.getElementById(\"738136f0-82db-4626-b37e-3ff343a87d48\");\n",
       "    if (el != null) {\n",
       "      el.textContent = \"BokehJS is loading...\";\n",
       "    }\n",
       "    if (root.Bokeh !== undefined) {\n",
       "      if (el != null) {\n",
       "        el.textContent = \"BokehJS \" + root.Bokeh.version + \" successfully loaded.\";\n",
       "      }\n",
       "    } else if (Date.now() < root._bokeh_timeout) {\n",
       "      setTimeout(display_loaded, 100)\n",
       "    }\n",
       "  }\n",
       "\n",
       "\n",
       "  function run_callbacks() {\n",
       "    try {\n",
       "      root._bokeh_onload_callbacks.forEach(function(callback) { callback() });\n",
       "    }\n",
       "    finally {\n",
       "      delete root._bokeh_onload_callbacks\n",
       "    }\n",
       "    console.info(\"Bokeh: all callbacks have finished\");\n",
       "  }\n",
       "\n",
       "  function load_libs(js_urls, callback) {\n",
       "    root._bokeh_onload_callbacks.push(callback);\n",
       "    if (root._bokeh_is_loading > 0) {\n",
       "      console.log(\"Bokeh: BokehJS is being loaded, scheduling callback at\", now());\n",
       "      return null;\n",
       "    }\n",
       "    if (js_urls == null || js_urls.length === 0) {\n",
       "      run_callbacks();\n",
       "      return null;\n",
       "    }\n",
       "    console.log(\"Bokeh: BokehJS not loaded, scheduling load and callback at\", now());\n",
       "    root._bokeh_is_loading = js_urls.length;\n",
       "    for (var i = 0; i < js_urls.length; i++) {\n",
       "      var url = js_urls[i];\n",
       "      var s = document.createElement('script');\n",
       "      s.src = url;\n",
       "      s.async = false;\n",
       "      s.onreadystatechange = s.onload = function() {\n",
       "        root._bokeh_is_loading--;\n",
       "        if (root._bokeh_is_loading === 0) {\n",
       "          console.log(\"Bokeh: all BokehJS libraries loaded\");\n",
       "          run_callbacks()\n",
       "        }\n",
       "      };\n",
       "      s.onerror = function() {\n",
       "        console.warn(\"failed to load library \" + url);\n",
       "      };\n",
       "      console.log(\"Bokeh: injecting script tag for BokehJS library: \", url);\n",
       "      document.getElementsByTagName(\"head\")[0].appendChild(s);\n",
       "    }\n",
       "  };var element = document.getElementById(\"738136f0-82db-4626-b37e-3ff343a87d48\");\n",
       "  if (element == null) {\n",
       "    console.log(\"Bokeh: ERROR: autoload.js configured with elementid '738136f0-82db-4626-b37e-3ff343a87d48' but no matching script tag was found. \")\n",
       "    return false;\n",
       "  }\n",
       "\n",
       "  var js_urls = [\"https://cdn.pydata.org/bokeh/release/bokeh-0.12.16.min.js\", \"https://cdn.pydata.org/bokeh/release/bokeh-widgets-0.12.16.min.js\", \"https://cdn.pydata.org/bokeh/release/bokeh-tables-0.12.16.min.js\", \"https://cdn.pydata.org/bokeh/release/bokeh-gl-0.12.16.min.js\"];\n",
       "\n",
       "  var inline_js = [\n",
       "    function(Bokeh) {\n",
       "      Bokeh.set_log_level(\"info\");\n",
       "    },\n",
       "    \n",
       "    function(Bokeh) {\n",
       "      \n",
       "    },\n",
       "    function(Bokeh) {\n",
       "      console.log(\"Bokeh: injecting CSS: https://cdn.pydata.org/bokeh/release/bokeh-0.12.16.min.css\");\n",
       "      Bokeh.embed.inject_css(\"https://cdn.pydata.org/bokeh/release/bokeh-0.12.16.min.css\");\n",
       "      console.log(\"Bokeh: injecting CSS: https://cdn.pydata.org/bokeh/release/bokeh-widgets-0.12.16.min.css\");\n",
       "      Bokeh.embed.inject_css(\"https://cdn.pydata.org/bokeh/release/bokeh-widgets-0.12.16.min.css\");\n",
       "      console.log(\"Bokeh: injecting CSS: https://cdn.pydata.org/bokeh/release/bokeh-tables-0.12.16.min.css\");\n",
       "      Bokeh.embed.inject_css(\"https://cdn.pydata.org/bokeh/release/bokeh-tables-0.12.16.min.css\");\n",
       "    }\n",
       "  ];\n",
       "\n",
       "  function run_inline_js() {\n",
       "    \n",
       "    if ((root.Bokeh !== undefined) || (force === true)) {\n",
       "      for (var i = 0; i < inline_js.length; i++) {\n",
       "        inline_js[i].call(root, root.Bokeh);\n",
       "      }if (force === true) {\n",
       "        display_loaded();\n",
       "      }} else if (Date.now() < root._bokeh_timeout) {\n",
       "      setTimeout(run_inline_js, 100);\n",
       "    } else if (!root._bokeh_failed_load) {\n",
       "      console.log(\"Bokeh: BokehJS failed to load within specified timeout.\");\n",
       "      root._bokeh_failed_load = true;\n",
       "    } else if (force !== true) {\n",
       "      var cell = $(document.getElementById(\"738136f0-82db-4626-b37e-3ff343a87d48\")).parents('.cell').data().cell;\n",
       "      cell.output_area.append_execute_result(NB_LOAD_WARNING)\n",
       "    }\n",
       "\n",
       "  }\n",
       "\n",
       "  if (root._bokeh_is_loading === 0) {\n",
       "    console.log(\"Bokeh: BokehJS loaded, going straight to plotting\");\n",
       "    run_inline_js();\n",
       "  } else {\n",
       "    load_libs(js_urls, function() {\n",
       "      console.log(\"Bokeh: BokehJS plotting callback run at\", now());\n",
       "      run_inline_js();\n",
       "    });\n",
       "  }\n",
       "}(window));"
      ],
      "application/vnd.bokehjs_load.v0+json": "\n(function(root) {\n  function now() {\n    return new Date();\n  }\n\n  var force = true;\n\n  if (typeof (root._bokeh_onload_callbacks) === \"undefined\" || force === true) {\n    root._bokeh_onload_callbacks = [];\n    root._bokeh_is_loading = undefined;\n  }\n\n  \n\n  \n  if (typeof (root._bokeh_timeout) === \"undefined\" || force === true) {\n    root._bokeh_timeout = Date.now() + 5000;\n    root._bokeh_failed_load = false;\n  }\n\n  var NB_LOAD_WARNING = {'data': {'text/html':\n     \"<div style='background-color: #fdd'>\\n\"+\n     \"<p>\\n\"+\n     \"BokehJS does not appear to have successfully loaded. If loading BokehJS from CDN, this \\n\"+\n     \"may be due to a slow or bad network connection. Possible fixes:\\n\"+\n     \"</p>\\n\"+\n     \"<ul>\\n\"+\n     \"<li>re-rerun `output_notebook()` to attempt to load from CDN again, or</li>\\n\"+\n     \"<li>use INLINE resources instead, as so:</li>\\n\"+\n     \"</ul>\\n\"+\n     \"<code>\\n\"+\n     \"from bokeh.resources import INLINE\\n\"+\n     \"output_notebook(resources=INLINE)\\n\"+\n     \"</code>\\n\"+\n     \"</div>\"}};\n\n  function display_loaded() {\n    var el = document.getElementById(\"738136f0-82db-4626-b37e-3ff343a87d48\");\n    if (el != null) {\n      el.textContent = \"BokehJS is loading...\";\n    }\n    if (root.Bokeh !== undefined) {\n      if (el != null) {\n        el.textContent = \"BokehJS \" + root.Bokeh.version + \" successfully loaded.\";\n      }\n    } else if (Date.now() < root._bokeh_timeout) {\n      setTimeout(display_loaded, 100)\n    }\n  }\n\n\n  function run_callbacks() {\n    try {\n      root._bokeh_onload_callbacks.forEach(function(callback) { callback() });\n    }\n    finally {\n      delete root._bokeh_onload_callbacks\n    }\n    console.info(\"Bokeh: all callbacks have finished\");\n  }\n\n  function load_libs(js_urls, callback) {\n    root._bokeh_onload_callbacks.push(callback);\n    if (root._bokeh_is_loading > 0) {\n      console.log(\"Bokeh: BokehJS is being loaded, scheduling callback at\", now());\n      return null;\n    }\n    if (js_urls == null || js_urls.length === 0) {\n      run_callbacks();\n      return null;\n    }\n    console.log(\"Bokeh: BokehJS not loaded, scheduling load and callback at\", now());\n    root._bokeh_is_loading = js_urls.length;\n    for (var i = 0; i < js_urls.length; i++) {\n      var url = js_urls[i];\n      var s = document.createElement('script');\n      s.src = url;\n      s.async = false;\n      s.onreadystatechange = s.onload = function() {\n        root._bokeh_is_loading--;\n        if (root._bokeh_is_loading === 0) {\n          console.log(\"Bokeh: all BokehJS libraries loaded\");\n          run_callbacks()\n        }\n      };\n      s.onerror = function() {\n        console.warn(\"failed to load library \" + url);\n      };\n      console.log(\"Bokeh: injecting script tag for BokehJS library: \", url);\n      document.getElementsByTagName(\"head\")[0].appendChild(s);\n    }\n  };var element = document.getElementById(\"738136f0-82db-4626-b37e-3ff343a87d48\");\n  if (element == null) {\n    console.log(\"Bokeh: ERROR: autoload.js configured with elementid '738136f0-82db-4626-b37e-3ff343a87d48' but no matching script tag was found. \")\n    return false;\n  }\n\n  var js_urls = [\"https://cdn.pydata.org/bokeh/release/bokeh-0.12.16.min.js\", \"https://cdn.pydata.org/bokeh/release/bokeh-widgets-0.12.16.min.js\", \"https://cdn.pydata.org/bokeh/release/bokeh-tables-0.12.16.min.js\", \"https://cdn.pydata.org/bokeh/release/bokeh-gl-0.12.16.min.js\"];\n\n  var inline_js = [\n    function(Bokeh) {\n      Bokeh.set_log_level(\"info\");\n    },\n    \n    function(Bokeh) {\n      \n    },\n    function(Bokeh) {\n      console.log(\"Bokeh: injecting CSS: https://cdn.pydata.org/bokeh/release/bokeh-0.12.16.min.css\");\n      Bokeh.embed.inject_css(\"https://cdn.pydata.org/bokeh/release/bokeh-0.12.16.min.css\");\n      console.log(\"Bokeh: injecting CSS: https://cdn.pydata.org/bokeh/release/bokeh-widgets-0.12.16.min.css\");\n      Bokeh.embed.inject_css(\"https://cdn.pydata.org/bokeh/release/bokeh-widgets-0.12.16.min.css\");\n      console.log(\"Bokeh: injecting CSS: https://cdn.pydata.org/bokeh/release/bokeh-tables-0.12.16.min.css\");\n      Bokeh.embed.inject_css(\"https://cdn.pydata.org/bokeh/release/bokeh-tables-0.12.16.min.css\");\n    }\n  ];\n\n  function run_inline_js() {\n    \n    if ((root.Bokeh !== undefined) || (force === true)) {\n      for (var i = 0; i < inline_js.length; i++) {\n        inline_js[i].call(root, root.Bokeh);\n      }if (force === true) {\n        display_loaded();\n      }} else if (Date.now() < root._bokeh_timeout) {\n      setTimeout(run_inline_js, 100);\n    } else if (!root._bokeh_failed_load) {\n      console.log(\"Bokeh: BokehJS failed to load within specified timeout.\");\n      root._bokeh_failed_load = true;\n    } else if (force !== true) {\n      var cell = $(document.getElementById(\"738136f0-82db-4626-b37e-3ff343a87d48\")).parents('.cell').data().cell;\n      cell.output_area.append_execute_result(NB_LOAD_WARNING)\n    }\n\n  }\n\n  if (root._bokeh_is_loading === 0) {\n    console.log(\"Bokeh: BokehJS loaded, going straight to plotting\");\n    run_inline_js();\n  } else {\n    load_libs(js_urls, function() {\n      console.log(\"Bokeh: BokehJS plotting callback run at\", now());\n      run_inline_js();\n    });\n  }\n}(window));"
     },
     "metadata": {},
     "output_type": "display_data"
    }
   ],
   "source": [
    "output_notebook()"
   ]
  },
  {
   "cell_type": "code",
   "execution_count": 8,
   "metadata": {
    "collapsed": true
   },
   "outputs": [],
   "source": [
    "def fmt_cool(ds_in):\n",
    "    ds = ds_in.copy(deep=True)\n",
    "    if 'igg' in ds.dims:\n",
    "        ds = ds.sel(igg=1)\n",
    "\n",
    "    if 'g' in ds.dims:\n",
    "        ds = ds.sum('g')\n",
    "            \n",
    "    if 'band' in ds.dims:\n",
    "        try:\n",
    "            ds = ds.squeeze('band')\n",
    "        except ValueError:\n",
    "            ds = ds.sum('band')\n",
    "                \n",
    "    return ds['coolrg']\n",
    "\n",
    "\n",
    "def pltdata_cooling_1(ds_cool=None,\n",
    "                      ds_cool_crd=None, ds_cool_wgt=None):\n",
    "    \n",
    "\n",
    "\n",
    "    colors = all_palettes['Set1'][4]\n",
    "    data = [{'label': 'CLIRAD `coolr_bands`',\n",
    "             'srs': fmt_cool(ds_cool),\n",
    "             'line_dash': 'dashed', 'line_width': 5,\n",
    "             'color': colors[0], 'alpha': .6},\n",
    "            {'label': 'CRD',\n",
    "             'srs': fmt_cool(ds_cool_crd),\n",
    "             'line_dash': 'solid', 'line_width': 1.5,\n",
    "             'marker': 'circle', 'marker_size': 5,\n",
    "             'color': colors[2], 'alpha': 1,},\n",
    "            {'label': 'WGT igg=10 wgt_flux=2',\n",
    "             'srs': fmt_cool(ds_cool_wgt),\n",
    "             'line_dash': 'solid', 'line_width': 3,\n",
    "             'marker': 'square', 'marker_size': 5,\n",
    "             'color': colors[3], 'alpha': .6}]\n",
    "    return data\n",
    "\n",
    "\n",
    "def nice_xlims(pltdata=None, prange=None):\n",
    "    \n",
    "    def get_slice(srs):\n",
    "        return srs.sel(pressure=slice(*prange))\n",
    "    \n",
    "    srss = [d['srs'] for d in pltdata]\n",
    "    vmin = min([get_slice(srs).min() for srs in srss])\n",
    "    vmax = max([get_slice(srs).max() for srs in srss])\n",
    "    dv = (vmax - vmin) * .01\n",
    "    return float(vmin - dv), float(vmax + dv)\n",
    "    \n",
    "\n",
    "def plt_cooling_bokeh(pltdata=None):\n",
    "    '''\n",
    "    Plot a list of cooling rate profiles using bokeh.\n",
    "    '''\n",
    "    ymin = 1e-2 \n",
    "    ymax = 1020 \n",
    "        \n",
    "    p1 = figure(title=\"Linear pressure scale\", \n",
    "                plot_width=400)        \n",
    "    xmin, xmax = nice_xlims(pltdata, prange=(50, 1050))\n",
    "    for d in pltdata:\n",
    "        if 'marker' in d:\n",
    "            getattr(p1, d['marker'])(d['srs'].values, \n",
    "                    d['srs'].coords['pressure'].values,\n",
    "                    color=d['color'], alpha=.7)\n",
    "        p1.line(d['srs'].values, \n",
    "                d['srs'].coords['pressure'].values,\n",
    "                color=d['color'], alpha=d['alpha'], \n",
    "                line_width=d['line_width'], line_dash=d['line_dash'])\n",
    "    \n",
    "    p1.y_range = Range1d(ymax, ymin)\n",
    "    p1.yaxis.axis_label = 'pressure [mb]'   \n",
    "    p1.x_range = Range1d(xmin, xmax)\n",
    "    p1.xaxis.axis_label = 'cooling rate [K/day]'\n",
    "            \n",
    "    p2 = figure(title='Log pressure scale', y_axis_type='log',\n",
    "                plot_width=560)\n",
    "    xmin, xmax = nice_xlims(pltdata, prange=(.01, 200))\n",
    "    \n",
    "    rs = []\n",
    "    for d in pltdata:\n",
    "        rd = []\n",
    "        if 'marker' in d:\n",
    "            r_mark = getattr(p2, d['marker'])(d['srs'].values, \n",
    "                        d['srs'].coords['pressure'].values,\n",
    "                        color=d['color'], alpha=.7)\n",
    "            rd.append(r_mark)\n",
    "        r_line = p2.line(d['srs'].values, \n",
    "                    d['srs'].coords['pressure'].values,\n",
    "                    color=d['color'], alpha=d['alpha'], \n",
    "                    line_width=d['line_width'], line_dash=d['line_dash'])\n",
    "        rd.append(r_line)\n",
    "      \n",
    "        rs.append(rd)\n",
    "        \n",
    "    p2.y_range = Range1d(ymax, ymin)  \n",
    "    p2.yaxis.axis_label = 'pressure [mb]'\n",
    "    \n",
    "    p2.x_range = Range1d(xmin, xmax)\n",
    "    p2.xaxis.axis_label = 'cooling rate [K/day]'\n",
    "    \n",
    "    items = [(d['label'], r) for r, d in zip(rs, pltdata)]\n",
    "    legend = Legend(items=items, location=(10, -30))\n",
    "    legend.label_text_font_size = '8pt'\n",
    "    \n",
    "    p2.add_layout(legend, 'right')  \n",
    "    \n",
    "    show(gridplot(p1, p2, ncols=2, plot_height=500))\n",
    "    \n",
    "\n",
    "def script_plt_cooling():\n",
    "    pltdata = pltdata_cooling_1(\n",
    "        ds_cool=DS_COOL,\n",
    "        ds_cool_crd=DS_COOL_CRD,\n",
    "        ds_cool_wgt=DS_COOL_WGT)\n",
    "    plt_cooling_bokeh(pltdata=pltdata)\n",
    "    print('''FIGURE. Cooling rate profiles.''')"
   ]
  },
  {
   "cell_type": "code",
   "execution_count": 9,
   "metadata": {
    "collapsed": true
   },
   "outputs": [],
   "source": [
    "def fmt_flux(ds_in):\n",
    "    ds = ds_in.copy(deep=True)\n",
    "    \n",
    "    for l in ('level', 'layer'):\n",
    "        if l in ds.data_vars:\n",
    "            if len(ds[l].dims) > 1:\n",
    "                surface = {d: 0 for d in ds.dims if d != 'pressure'}\n",
    "                coord_level = ds[l][surface]\n",
    "                ds.coords[l] = ('pressure', coord_level)\n",
    "            else:\n",
    "                ds.coords[l] = ('pressure', ds[l])\n",
    "        \n",
    "    ds = ds.isel(pressure=[0, 23, -1])\n",
    "        \n",
    "    if 'igg' in ds.dims:\n",
    "        ds = ds.sel(igg=[1])\n",
    "        ds = ds.squeeze('igg').drop('igg')\n",
    "    \n",
    "    if 'g' in ds.dims:\n",
    "        ds = ds.sum('g')\n",
    "            \n",
    "    if 'band' in ds.dims:\n",
    "        try:\n",
    "            ds = ds.squeeze('band').drop('band')\n",
    "        except ValueError:\n",
    "            ds = ds.sum('band')\n",
    "                \n",
    "    df = ds.to_dataframe()\n",
    "    df = df.set_index('level', append=True)               \n",
    "    return df\n",
    "\n",
    "\n",
    "def tbdata_flux(ds_flux=None, ds_flux_crd=None, ds_flux_wgt=None):\n",
    "    ilevels = [0, 23, -1]\n",
    "            \n",
    "    benchmark = {'label': 'CRD',\n",
    "                 'df': fmt_flux(ds_flux_crd)}\n",
    "    \n",
    "    tbs = [{'label': 'WGT igg=10 wgt_flux=1',\n",
    "            'df': fmt_flux(ds_flux_wgt)},\n",
    "           {'label': 'CLIRAD',\n",
    "            'df': fmt_flux(ds_flux)}]\n",
    "    \n",
    "    data = {'benchmark': benchmark, 'others': tbs}\n",
    "    return data\n",
    "\n",
    "\n",
    "def tb_flux(tbdata=None):\n",
    "    benchmark = tbdata['benchmark']\n",
    "    others = tbdata['others']\n",
    "    \n",
    "    def show_tb(d=None):\n",
    "        display.display(d['df'])\n",
    "        print('Table.', 'Fluxes.', d['label'])\n",
    "        \n",
    "    def show_tbdiff(d0=None, d=None):\n",
    "        df = d['df']\n",
    "        df.index = d0['df'].index\n",
    "        display.display(df - d0['df'])\n",
    "        print('Table.', 'Fluxes.', \n",
    "              '({}) - ({})'.format(d['label'], d0['label']))\n",
    "        \n",
    "    show_tb(benchmark)\n",
    "    for d in others:\n",
    "        show_tb(d)\n",
    "        \n",
    "    for d in others:\n",
    "        show_tbdiff(d=d, d0=benchmark)\n",
    "        \n",
    "        \n",
    "def script_tb_flux():\n",
    "    data = tbdata_flux(ds_flux=DS_FLUX,\n",
    "                       ds_flux_crd=DS_FLUX_CRD,\n",
    "                       ds_flux_wgt=DS_FLUX_WGT)\n",
    "    tb_flux(tbdata=data)"
   ]
  },
  {
   "cell_type": "code",
   "execution_count": 10,
   "metadata": {
    "collapsed": true
   },
   "outputs": [],
   "source": [
    "def band_map():\n",
    "    '''\n",
    "    Maps spectral bands in lblnew to spectral bands in clirad.\n",
    "    '''\n",
    "    lblnew2clirad = {'1': '1',\n",
    "            '2': '2',\n",
    "            '3a': '3',\n",
    "            '3b': '4',\n",
    "            '3c': '5',\n",
    "            '4': '6', \n",
    "            '5': '7',\n",
    "            '6': '8',\n",
    "            '7': '9', \n",
    "            '8': '10',\n",
    "            '9': '11'}\n",
    "    \n",
    "    clirad2lblnew = {clirad: lblnew \n",
    "                     for lblnew, clirad in lblnew2clirad.items()}\n",
    "    return clirad2lblnew\n",
    "\n",
    "\n",
    "def gasbands():\n",
    "    bmap = band_map()\n",
    "    gases = list(PARAM['molecule'].keys())\n",
    "    \n",
    "    bands = [bmap[str(b)] for b in PARAM['band']]\n",
    "    return list(itertools.product(gases, bands))\n",
    "\n",
    "\n",
    "def print_bestfit_params():\n",
    "    print('Best-fit values for each (gas, band)')\n",
    "    print('------------------------------------')\n",
    "    for gas, band in gasbands():\n",
    "        print('o {} band{}'.format(gas, band))\n",
    "        param = bestfits.kdist_params(molecule=gas, band=band)\n",
    "        for name, value in sorted(param.items()):\n",
    "            print(2 * ' ' + '{} = {}'.format(name, value))\n",
    "\n",
    "        \n",
    "def print_input_param():        \n",
    "    for name, value in PARAM.items():\n",
    "        print('{} = {}'.format(name, value))\n",
    "        \n",
    "        \n",
    "def print_lblnew_param():\n",
    "    for name, value in sorted(PARAM_LBLNEW.items()):\n",
    "        print('{} = {}'.format(name, value))\n"
   ]
  },
  {
   "cell_type": "code",
   "execution_count": 11,
   "metadata": {
    "collapsed": true,
    "scrolled": false
   },
   "outputs": [],
   "source": [
    "def show_html(s):\n",
    "    display.display(display.HTML(s))\n",
    "\n",
    "    \n",
    "def show_markdown(s):\n",
    "    display.display(display.Markdown(s))\n",
    "\n",
    "    \n",
    "def script():\n",
    "    \n",
    "    title = '### CLIRAD-LW'\n",
    "    s_input = 'Input Parameters'\n",
    "    s_lblnew_param = 'LBLNEW case compaired against'\n",
    "    s_bestfits = 'Best-fit Parameters'\n",
    "    s_plt_cooling = 'Cooling Rate Profiles'\n",
    "    s_tb_flux = 'Flux Comparison'\n",
    "    \n",
    "    # title\n",
    "    show_markdown('### CLIRAD-LW')\n",
    "    \n",
    "    # TOC\n",
    "    show_markdown('### Table of Contents')\n",
    "    show_html(climahtml.getHTML_hrefanchor(s_input))\n",
    "    show_html(climahtml.getHTML_hrefanchor(s_lblnew_param))\n",
    "    show_html(climahtml.getHTML_hrefanchor(s_plt_cooling))\n",
    "    show_html(climahtml.getHTML_hrefanchor(s_tb_flux))\n",
    "    show_html(climahtml.getHTML_hrefanchor(s_bestfits))\n",
    "    \n",
    "    # Input parameters\n",
    "    show_html(climahtml.getHTML_idanchor(s_input))\n",
    "    show_markdown(climahtml.getMarkdown_sectitle(s_input))\n",
    "    print_input_param()\n",
    "    \n",
    "    # LBLNEW parameters \n",
    "    show_html(climahtml.getHTML_idanchor(s_lblnew_param))\n",
    "    show_markdown(climahtml.getMarkdown_sectitle(s_lblnew_param))\n",
    "    print_lblnew_param()\n",
    "    \n",
    "    # Cooling rate profiles\n",
    "    show_html(climahtml.getHTML_idanchor(s_plt_cooling))\n",
    "    show_markdown(climahtml.getMarkdown_sectitle(s_plt_cooling))\n",
    "    script_plt_cooling()\n",
    "    \n",
    "    # Flux comparison\n",
    "    show_html(climahtml.getHTML_idanchor(s_tb_flux))\n",
    "    show_markdown(climahtml.getMarkdown_sectitle(s_tb_flux))\n",
    "    script_tb_flux()\n",
    "    \n",
    "    # Best-fit values\n",
    "    show_html(climahtml.getHTML_idanchor(s_bestfits))\n",
    "    show_markdown(climahtml.getMarkdown_sectitle(s_bestfits))\n",
    "    print_bestfit_params()\n",
    "   \n",
    "    "
   ]
  },
  {
   "cell_type": "code",
   "execution_count": 12,
   "metadata": {
    "collapsed": true,
    "scrolled": false
   },
   "outputs": [
    {
     "data": {
      "text/markdown": [
       "### CLIRAD-LW"
      ],
      "text/plain": [
       "<IPython.core.display.Markdown object>"
      ]
     },
     "metadata": {},
     "output_type": "display_data"
    },
    {
     "data": {
      "text/markdown": [
       "### Table of Contents"
      ],
      "text/plain": [
       "<IPython.core.display.Markdown object>"
      ]
     },
     "metadata": {},
     "output_type": "display_data"
    },
    {
     "data": {
      "text/html": [
       "<a href=\"#Input_Parameters\">Input Parameters</a>"
      ],
      "text/plain": [
       "<IPython.core.display.HTML object>"
      ]
     },
     "metadata": {},
     "output_type": "display_data"
    },
    {
     "data": {
      "text/html": [
       "<a href=\"#LBLNEW_case_compaired_against\">LBLNEW case compaired against</a>"
      ],
      "text/plain": [
       "<IPython.core.display.HTML object>"
      ]
     },
     "metadata": {},
     "output_type": "display_data"
    },
    {
     "data": {
      "text/html": [
       "<a href=\"#Cooling_Rate_Profiles\">Cooling Rate Profiles</a>"
      ],
      "text/plain": [
       "<IPython.core.display.HTML object>"
      ]
     },
     "metadata": {},
     "output_type": "display_data"
    },
    {
     "data": {
      "text/html": [
       "<a href=\"#Flux_Comparison\">Flux Comparison</a>"
      ],
      "text/plain": [
       "<IPython.core.display.HTML object>"
      ]
     },
     "metadata": {},
     "output_type": "display_data"
    },
    {
     "data": {
      "text/html": [
       "<a href=\"#Best-fit_Parameters\">Best-fit Parameters</a>"
      ],
      "text/plain": [
       "<IPython.core.display.HTML object>"
      ]
     },
     "metadata": {},
     "output_type": "display_data"
    },
    {
     "data": {
      "text/html": [
       "<a id=\"Input_Parameters\"></a>"
      ],
      "text/plain": [
       "<IPython.core.display.HTML object>"
      ]
     },
     "metadata": {},
     "output_type": "display_data"
    },
    {
     "data": {
      "text/markdown": [
       "# Input Parameters"
      ],
      "text/plain": [
       "<IPython.core.display.Markdown object>"
      ]
     },
     "metadata": {},
     "output_type": "display_data"
    },
    {
     "name": "stdout",
     "output_type": "stream",
     "text": [
      "atmpro = mls\n",
      "band = [9]\n",
      "commitnumber = de5d43e\n",
      "molecule = {'ch4': 1.8e-06}\n",
      "tsfc = 294\n"
     ]
    },
    {
     "data": {
      "text/html": [
       "<a id=\"LBLNEW_case_compaired_against\"></a>"
      ],
      "text/plain": [
       "<IPython.core.display.HTML object>"
      ]
     },
     "metadata": {},
     "output_type": "display_data"
    },
    {
     "data": {
      "text/markdown": [
       "# LBLNEW case compaired against"
      ],
      "text/plain": [
       "<IPython.core.display.Markdown object>"
      ]
     },
     "metadata": {},
     "output_type": "display_data"
    },
    {
     "name": "stdout",
     "output_type": "stream",
     "text": [
      "atmpro = mls\n",
      "band = 7\n",
      "commitnumber = 5014a19\n",
      "conc = 1.8e-06\n",
      "dv = 0.001\n",
      "klin = 2e-21\n",
      "molecule = ch4\n",
      "ng_adju = [0, 0]\n",
      "ng_refs = [2, 3]\n",
      "nv = 1000\n",
      "option_compute_btable = 0\n",
      "option_compute_ktable = 0\n",
      "option_wgt_flux = 1\n",
      "option_wgt_k = 1\n",
      "ref_pts = [(1, 250), (500, 250)]\n",
      "tsfc = 294\n",
      "vmax = 1380\n",
      "vmin = 1215\n",
      "w_diffuse = [(1.66, 1.66), (1.66, 1.66, 1.66)]\n",
      "wgt = [(0.7, 0.7), (0.4, 0.6, 0.75)]\n"
     ]
    },
    {
     "data": {
      "text/html": [
       "<a id=\"Cooling_Rate_Profiles\"></a>"
      ],
      "text/plain": [
       "<IPython.core.display.HTML object>"
      ]
     },
     "metadata": {},
     "output_type": "display_data"
    },
    {
     "data": {
      "text/markdown": [
       "# Cooling Rate Profiles"
      ],
      "text/plain": [
       "<IPython.core.display.Markdown object>"
      ]
     },
     "metadata": {},
     "output_type": "display_data"
    },
    {
     "data": {
      "text/html": [
       "\n",
       "<div class=\"bk-root\">\n",
       "    <div class=\"bk-plotdiv\" id=\"65f5050c-d316-4c95-a097-c66116ba1b89\"></div>\n",
       "</div>"
      ]
     },
     "metadata": {},
     "output_type": "display_data"
    },
    {
     "data": {
      "application/javascript": [
       "(function(root) {\n",
       "  function embed_document(root) {\n",
       "    \n",
       "  var docs_json = {\"19b5e207-c341-4c5a-81d5-726338e2e2fc\":{\"roots\":{\"references\":[{\"attributes\":{\"toolbar\":{\"id\":\"a6a48fdb-b3e5-4a5f-abaa-07684dd17d8f\",\"type\":\"ProxyToolbar\"},\"toolbar_location\":\"above\"},\"id\":\"41f70437-da77-4612-9667-54caf5960a7d\",\"type\":\"ToolbarBox\"},{\"attributes\":{},\"id\":\"f195bee8-25ae-4ea0-8db5-e55f3012d84f\",\"type\":\"Selection\"},{\"attributes\":{\"tools\":[{\"id\":\"b74a48ac-d50c-4659-9239-b04f5dde5a69\",\"type\":\"PanTool\"},{\"id\":\"d9a3065c-3456-4c44-aba0-f70a14af328e\",\"type\":\"WheelZoomTool\"},{\"id\":\"5e627d36-7d97-4c65-8ab6-907ffa31269f\",\"type\":\"BoxZoomTool\"},{\"id\":\"f1cb6996-7344-4091-8d6d-f918bab71298\",\"type\":\"SaveTool\"},{\"id\":\"8136b223-e805-4bb3-a45c-45c6ae51396b\",\"type\":\"ResetTool\"},{\"id\":\"a125645b-f939-44b5-aafd-345622df0517\",\"type\":\"HelpTool\"},{\"id\":\"3deafce6-eb09-42ca-a20a-70d3663f30cd\",\"type\":\"PanTool\"},{\"id\":\"bdab440b-72a5-4dda-8efa-ed24f0312605\",\"type\":\"WheelZoomTool\"},{\"id\":\"564b2f3f-1842-4dda-878d-c8db6420ccb4\",\"type\":\"BoxZoomTool\"},{\"id\":\"9f898707-7ea2-43d4-8d97-d935c3890b1f\",\"type\":\"SaveTool\"},{\"id\":\"9eb34028-d72a-4d49-8050-21c58782e333\",\"type\":\"ResetTool\"},{\"id\":\"5363f31b-8646-4b6c-be65-8382db257643\",\"type\":\"HelpTool\"}]},\"id\":\"a6a48fdb-b3e5-4a5f-abaa-07684dd17d8f\",\"type\":\"ProxyToolbar\"},{\"attributes\":{\"data_source\":{\"id\":\"bd80d61f-f344-4e67-8ed1-67ac8cfdbec7\",\"type\":\"ColumnDataSource\"},\"glyph\":{\"id\":\"d264e024-47f9-4721-a15b-ce10705b7347\",\"type\":\"Line\"},\"hover_glyph\":null,\"muted_glyph\":null,\"nonselection_glyph\":{\"id\":\"4104cb1a-886d-4a16-9f72-cfdaad510b9c\",\"type\":\"Line\"},\"selection_glyph\":null,\"view\":{\"id\":\"e8e529f0-7b60-42c3-a344-d484454e239e\",\"type\":\"CDSView\"}},\"id\":\"0cb764e7-0a70-47f8-bcff-7494215e2ad3\",\"type\":\"GlyphRenderer\"},{\"attributes\":{\"bottom_units\":\"screen\",\"fill_alpha\":{\"value\":0.5},\"fill_color\":{\"value\":\"lightgrey\"},\"left_units\":\"screen\",\"level\":\"overlay\",\"line_alpha\":{\"value\":1.0},\"line_color\":{\"value\":\"black\"},\"line_dash\":[4,4],\"line_width\":{\"value\":2},\"plot\":null,\"render_mode\":\"css\",\"right_units\":\"screen\",\"top_units\":\"screen\"},\"id\":\"39fd49d0-303f-4a1b-b92d-480c335a10ae\",\"type\":\"BoxAnnotation\"},{\"attributes\":{\"callback\":null,\"data\":{\"x\":{\"__ndarray__\":\"XLWE3/puur94oj3BckK6v6L6vQPy27m/bT7HqrVuub8/dsMomwG5vwAegdrQlri/JOgbEKIuuL+2UMLk98q3v31ua4Ldbbe/oEVjq9Mat78RmK8Ux9a2v9FiPXaWp7a/8E3vvDaWtr+L6yTK+qe2v3mdNcE1zLW/Ffv+327Psb9w9APnJEWlv9qySWzh83u/Kv0us6LioT/Ppk4A+Lm1P93oCIWtfsI/CFIx53ylyz945qsFcuDRPytWJl99OtE/3ckrAFsYyT/5xXyrOzfAP1W59T9lobM/4Rdz5Dz0pj+MU6BbV+ibP3uBCFpJd5I/KjLxSVKSiD+EZ68v88x8P+9C7RpYPm8/EnK9qL8QWT+loo/DaUthvzVDhGG72X2/tcyHP0FkiL8ARBhERjWQv03p+9G5oJW/X9/72ZeFm79wwG3B4Aeev15/TwJUnpy/FzIuh6PMmr8j+lLLGBeZv6rNU6scS5e/lhaB89pTlb+zDvgQFSmTvyXJj9JOyJC/vQdSozxljL/Ee/xIi9+GvzrlAjULJIG/DMPAZaC6dr+VDzmtv5RmvzHI/jNRa/c+NFij5PZHZz/HwINk1pJ3P1Kstn34AoI/ppVZvAyKiD9V0Qb92GaPPw5C4EtYUJM/85vb56Uglz/T9XfIKiubP5s/v1IKeJ8/g0OO/q4Hoj/32DXY1nqkPx+eiPLDEKc/1G/iiA6xqT+Eu4M9xSisP8f0DRd8RK4/84j/q/b/rz+o2weQCcewP8Y1UnfklrE/bGElBWeHsj/J1nLopq2zP9lNnQWpLbU/\",\"dtype\":\"float64\",\"shape\":[75]},\"y\":{\"__ndarray__\":\"GhExyth1ND/Sv8nbtpRIP2vylNV0PVE/aTum7souWD/At0SJ8fVgPw3Iuahxymc/MSNhhJWvcD/bTfBN02d3P2zb5nxnaoA/CD5h5MAGhz8NmeH1TyaQP+zrCsc9p5Y/LbKd76fGnz/bLW5ISEmmPww9YvTcQq8/JV2OstnstT8Er5Y7M8G+P0c+r3jqkcU/5h99k6ZBzj88bCIzFzjVP4enV8oyxN0//yH99nXg5D8qOpLLf0jtP5kqGJXUifQ/c9cS8kHP/D+/DpwzojQEQIEmwoanVwxA4lgXt9HgE0BSSZ2AJuIbQAMJih9jjiNA5q4l5INuK0AwTKYKRj0zQNv5fmq8/DpAaCJseHrtQkB/+zpwzoxKQM3MzMzMeFJAZmZmZmZqWEAAAAAAAFxeQM3MzMzMJmJAmpmZmZkfZUBmZmZmZhhoQDMzMzMzEWtAAAAAAAAKbkBmZmZmZoFwQM3MzMzM/XFAMzMzMzN6c0CamZmZmfZ0QAAAAAAAc3ZAZmZmZmbvd0DNzMzMzGt5QDMzMzMz6HpAmpmZmZlkfEAAAAAAAOF9QGZmZmZmXX9AZmZmZuZsgECamZmZGSuBQM3MzMxM6YFAAAAAAICngkAzMzMzs2WDQGZmZmbmI4RAmpmZmRnihEDNzMzMTKCFQAAAAACAXoZAMzMzM7Mch0BmZmZm5tqHQJqZmZkZmYhAzczMzExXiUAAAAAAgBWKQDMzMzOz04pAZmZmZuaRi0CamZmZGVCMQM3MzMxMDo1AAAAAAIDMjUAzMzMzs4qOQGZmZmbmSI9A\",\"dtype\":\"float64\",\"shape\":[75]}},\"selected\":{\"id\":\"52a9ee8e-f74f-4c0d-abac-269aa72f8c4d\",\"type\":\"Selection\"},\"selection_policy\":{\"id\":\"d828b7e0-395d-4a4d-ac8e-f1a9f1f2b6c1\",\"type\":\"UnionRenderers\"}},\"id\":\"819b136d-2a06-489d-9506-689deb6b61a2\",\"type\":\"ColumnDataSource\"},{\"attributes\":{\"children\":[{\"id\":\"41f70437-da77-4612-9667-54caf5960a7d\",\"type\":\"ToolbarBox\"},{\"id\":\"ead804ee-00ca-46fe-a610-cc84e8039c48\",\"type\":\"Column\"}]},\"id\":\"8fe7bf39-0426-4387-9886-bfe9d4688d2d\",\"type\":\"Column\"},{\"attributes\":{\"fill_alpha\":{\"value\":0.1},\"fill_color\":{\"value\":\"#1f77b4\"},\"line_alpha\":{\"value\":0.1},\"line_color\":{\"value\":\"#1f77b4\"},\"x\":{\"field\":\"x\"},\"y\":{\"field\":\"y\"}},\"id\":\"8cf1fca0-2d6b-42ea-9b6c-c46eab4c3915\",\"type\":\"Circle\"},{\"attributes\":{},\"id\":\"3deafce6-eb09-42ca-a20a-70d3663f30cd\",\"type\":\"PanTool\"},{\"attributes\":{\"source\":{\"id\":\"819b136d-2a06-489d-9506-689deb6b61a2\",\"type\":\"ColumnDataSource\"}},\"id\":\"220a07d7-5a97-47cc-8546-d0593b5c7695\",\"type\":\"CDSView\"},{\"attributes\":{\"data_source\":{\"id\":\"819b136d-2a06-489d-9506-689deb6b61a2\",\"type\":\"ColumnDataSource\"},\"glyph\":{\"id\":\"404b926f-7deb-43f4-bf61-c868cda5b984\",\"type\":\"Circle\"},\"hover_glyph\":null,\"muted_glyph\":null,\"nonselection_glyph\":{\"id\":\"8cf1fca0-2d6b-42ea-9b6c-c46eab4c3915\",\"type\":\"Circle\"},\"selection_glyph\":null,\"view\":{\"id\":\"220a07d7-5a97-47cc-8546-d0593b5c7695\",\"type\":\"CDSView\"}},\"id\":\"350a7141-d9cf-469b-b8ea-1f08f95dabba\",\"type\":\"GlyphRenderer\"},{\"attributes\":{\"line_alpha\":0.1,\"line_color\":\"#1f77b4\",\"line_width\":1.5,\"x\":{\"field\":\"x\"},\"y\":{\"field\":\"y\"}},\"id\":\"4befa4df-0af5-4c35-8172-5fff097ef525\",\"type\":\"Line\"},{\"attributes\":{},\"id\":\"613c4acf-c4e6-4ceb-86d5-d20fab973872\",\"type\":\"BasicTicker\"},{\"attributes\":{\"fill_alpha\":{\"value\":0.1},\"fill_color\":{\"value\":\"#1f77b4\"},\"line_alpha\":{\"value\":0.1},\"line_color\":{\"value\":\"#1f77b4\"},\"x\":{\"field\":\"x\"},\"y\":{\"field\":\"y\"}},\"id\":\"0e8ba9f7-534c-4be6-86ef-05c643dda91c\",\"type\":\"Square\"},{\"attributes\":{\"num_minor_ticks\":10},\"id\":\"28b3c3cf-643c-45f8-8cd4-baac58cf9617\",\"type\":\"LogTicker\"},{\"attributes\":{\"line_color\":\"#4daf4a\",\"line_width\":1.5,\"x\":{\"field\":\"x\"},\"y\":{\"field\":\"y\"}},\"id\":\"b8c47c5a-03c1-4824-bad8-1e390c6809e4\",\"type\":\"Line\"},{\"attributes\":{},\"id\":\"5363f31b-8646-4b6c-be65-8382db257643\",\"type\":\"HelpTool\"},{\"attributes\":{\"plot\":{\"id\":\"793428c3-1d01-40aa-a5e1-d3269ddca311\",\"subtype\":\"Figure\",\"type\":\"Plot\"},\"ticker\":{\"id\":\"613c4acf-c4e6-4ceb-86d5-d20fab973872\",\"type\":\"BasicTicker\"}},\"id\":\"dd518c98-4456-4db8-84eb-4b38c7637efc\",\"type\":\"Grid\"},{\"attributes\":{},\"id\":\"825d8fec-2a2f-4d50-b454-87ef9f15a891\",\"type\":\"LogScale\"},{\"attributes\":{\"source\":{\"id\":\"bd80d61f-f344-4e67-8ed1-67ac8cfdbec7\",\"type\":\"ColumnDataSource\"}},\"id\":\"e8e529f0-7b60-42c3-a344-d484454e239e\",\"type\":\"CDSView\"},{\"attributes\":{\"items\":[{\"id\":\"a77cfadc-639f-4d4d-aa17-c218859ceadc\",\"type\":\"LegendItem\"},{\"id\":\"0a07ebd2-041c-4c02-92d5-91265e863231\",\"type\":\"LegendItem\"},{\"id\":\"b123ca35-c78d-4fba-8aba-d8eb9d744d89\",\"type\":\"LegendItem\"}],\"label_text_font_size\":{\"value\":\"8pt\"},\"location\":[10,-30],\"plot\":{\"id\":\"793428c3-1d01-40aa-a5e1-d3269ddca311\",\"subtype\":\"Figure\",\"type\":\"Plot\"}},\"id\":\"d315b18c-7594-41d1-9ae3-56d8889eba88\",\"type\":\"Legend\"},{\"attributes\":{},\"id\":\"9eb34028-d72a-4d49-8050-21c58782e333\",\"type\":\"ResetTool\"},{\"attributes\":{\"line_alpha\":0.1,\"line_color\":\"#1f77b4\",\"line_width\":3,\"x\":{\"field\":\"x\"},\"y\":{\"field\":\"y\"}},\"id\":\"1c963cd2-bd81-479c-8ab5-36cb9e2aeb2f\",\"type\":\"Line\"},{\"attributes\":{\"axis_label\":\"cooling rate [K/day]\",\"formatter\":{\"id\":\"a8d8db92-adb2-410c-ac5c-024c1c8a2fee\",\"type\":\"BasicTickFormatter\"},\"plot\":{\"id\":\"793428c3-1d01-40aa-a5e1-d3269ddca311\",\"subtype\":\"Figure\",\"type\":\"Plot\"},\"ticker\":{\"id\":\"613c4acf-c4e6-4ceb-86d5-d20fab973872\",\"type\":\"BasicTicker\"}},\"id\":\"dc659060-c0f8-43c8-aed7-6c7678f96e2b\",\"type\":\"LinearAxis\"},{\"attributes\":{\"children\":[{\"id\":\"f884b963-4490-430e-8df1-63151fc652b7\",\"type\":\"Row\"}]},\"id\":\"ead804ee-00ca-46fe-a610-cc84e8039c48\",\"type\":\"Column\"},{\"attributes\":{\"line_alpha\":0.1,\"line_color\":\"#1f77b4\",\"line_dash\":[6],\"line_width\":5,\"x\":{\"field\":\"x\"},\"y\":{\"field\":\"y\"}},\"id\":\"4104cb1a-886d-4a16-9f72-cfdaad510b9c\",\"type\":\"Line\"},{\"attributes\":{\"line_color\":\"#4daf4a\",\"line_width\":1.5,\"x\":{\"field\":\"x\"},\"y\":{\"field\":\"y\"}},\"id\":\"35663339-2280-46b2-8c82-ceafdc920759\",\"type\":\"Line\"},{\"attributes\":{\"source\":{\"id\":\"fc1ea36b-2b54-488a-8258-3b41a14df289\",\"type\":\"ColumnDataSource\"}},\"id\":\"0a60edc6-592c-47c5-87e5-961800c00c2f\",\"type\":\"CDSView\"},{\"attributes\":{\"fill_alpha\":{\"value\":0.7},\"fill_color\":{\"value\":\"#984ea3\"},\"line_alpha\":{\"value\":0.7},\"line_color\":{\"value\":\"#984ea3\"},\"x\":{\"field\":\"x\"},\"y\":{\"field\":\"y\"}},\"id\":\"48213bcf-a6dd-411d-ad4f-b9065a3a3518\",\"type\":\"Square\"},{\"attributes\":{\"active_drag\":\"auto\",\"active_inspect\":\"auto\",\"active_scroll\":\"auto\",\"active_tap\":\"auto\",\"tools\":[{\"id\":\"3deafce6-eb09-42ca-a20a-70d3663f30cd\",\"type\":\"PanTool\"},{\"id\":\"bdab440b-72a5-4dda-8efa-ed24f0312605\",\"type\":\"WheelZoomTool\"},{\"id\":\"564b2f3f-1842-4dda-878d-c8db6420ccb4\",\"type\":\"BoxZoomTool\"},{\"id\":\"9f898707-7ea2-43d4-8d97-d935c3890b1f\",\"type\":\"SaveTool\"},{\"id\":\"9eb34028-d72a-4d49-8050-21c58782e333\",\"type\":\"ResetTool\"},{\"id\":\"5363f31b-8646-4b6c-be65-8382db257643\",\"type\":\"HelpTool\"}]},\"id\":\"dd80f575-bb31-4ba5-aa00-c65bcce8444e\",\"type\":\"Toolbar\"},{\"attributes\":{\"fill_alpha\":{\"value\":0.7},\"fill_color\":{\"value\":\"#4daf4a\"},\"line_alpha\":{\"value\":0.7},\"line_color\":{\"value\":\"#4daf4a\"},\"x\":{\"field\":\"x\"},\"y\":{\"field\":\"y\"}},\"id\":\"404b926f-7deb-43f4-bf61-c868cda5b984\",\"type\":\"Circle\"},{\"attributes\":{\"fill_alpha\":{\"value\":0.1},\"fill_color\":{\"value\":\"#1f77b4\"},\"line_alpha\":{\"value\":0.1},\"line_color\":{\"value\":\"#1f77b4\"},\"x\":{\"field\":\"x\"},\"y\":{\"field\":\"y\"}},\"id\":\"dd9f1e87-648e-41b4-badb-bf6db2a8f404\",\"type\":\"Circle\"},{\"attributes\":{\"callback\":null,\"data\":{\"x\":{\"__ndarray__\":\"IuDtctPVs7+17XjUh7azvzXBy4ftZ7O/hlkkiNMSs78zu5BlQruyv+lX0q+pYbK/FWEtnlQGsr/W7Amjuqyxv4i8o7bzWrG/115+NuH/sL8kOiq53LawvwcJpKVmc7C/6q5+2W8xsL9qgu6MqvavvxT5lRpf7K2/4nzvr+G8pr/drrynMmeUv+FIdDKyb4Y/Cv2ZcNnwqD92b0RmpjC4PzahA0B6JsM/wLQbKSyWyz8ZD0ewzZDRP4el2u2pTdE/ukM/gmTAyj8ps1kkFY7CP9C+Iwo/2bc/H2DyxCNzrD8ZSCZuT06gP6XjiWqdBZM/hiyhrx/xhj+TCY+MpJ57P+JGhaGUenI/2GrmcKnXZT+cIIPJz/VVvzgdztT6dH6/mhZRai3jir/ftfMvt4WSv0Hm2q6Fypi/Ek/JT7Men790YCrOueGgv8gkVx5/L6C/OJeZqOFLnr9iY66yFUCcv35UywUlIZq/nU/TB+3jl7+69bp8EYCVv2S6qRgK9JK/7QZzMu88kL/WQ4dhWsaKvyXMqXwg74S/5hZ6c4stfr8bxDYVtJtyv3tckzFzkly/Jr3Xwd8LUj8hmg5Mg5JwP2RjN/ynKn0/bGcS+bc3hT9+RlTj/DWMPxcVTpl2zZE/5qkmyXW3lT/Do6KhG9+ZP0QLLNivS54/zBAi/CCBoT/wGc6EkwKkP33FZWt4o6Y/P08KaPlLqT/PFdyq7c2rP54Y0hzy+q0/hYvUClnQrz8/o4Ii+rywP5k1iFezl7E/UXtLwByNsj90cGNCH6yzP/Kd1NSpCbU/\",\"dtype\":\"float64\",\"shape\":[75]},\"y\":{\"__ndarray__\":\"GhExyth1ND/Sv8nbtpRIP2vylNV0PVE/aTum7souWD/At0SJ8fVgPw3Iuahxymc/MSNhhJWvcD/bTfBN02d3P2zb5nxnaoA/CD5h5MAGhz8NmeH1TyaQP+zrCsc9p5Y/LbKd76fGnz/bLW5ISEmmPww9YvTcQq8/JV2OstnstT8Er5Y7M8G+P0c+r3jqkcU/5h99k6ZBzj88bCIzFzjVP4enV8oyxN0//yH99nXg5D8qOpLLf0jtP5kqGJXUifQ/c9cS8kHP/D+/DpwzojQEQIEmwoanVwxA4lgXt9HgE0BSSZ2AJuIbQAMJih9jjiNA5q4l5INuK0AwTKYKRj0zQNv5fmq8/DpAaCJseHrtQkB/+zpwzoxKQM3MzMzMeFJAZmZmZmZqWEAAAAAAAFxeQM3MzMzMJmJAmpmZmZkfZUBmZmZmZhhoQDMzMzMzEWtAAAAAAAAKbkBmZmZmZoFwQM3MzMzM/XFAMzMzMzN6c0CamZmZmfZ0QAAAAAAAc3ZAZmZmZmbvd0DNzMzMzGt5QDMzMzMz6HpAmpmZmZlkfEAAAAAAAOF9QGZmZmZmXX9AZmZmZuZsgECamZmZGSuBQM3MzMxM6YFAAAAAAICngkAzMzMzs2WDQGZmZmbmI4RAmpmZmRnihEDNzMzMTKCFQAAAAACAXoZAMzMzM7Mch0BmZmZm5tqHQJqZmZkZmYhAzczMzExXiUAAAAAAgBWKQDMzMzOz04pAZmZmZuaRi0CamZmZGVCMQM3MzMxMDo1AAAAAAIDMjUAzMzMzs4qOQGZmZmbmSI9A\",\"dtype\":\"float64\",\"shape\":[75]}},\"selected\":{\"id\":\"07372df4-cb0f-47bc-bb33-92bc20d5a433\",\"type\":\"Selection\"},\"selection_policy\":{\"id\":\"43bebdb7-0a15-445e-9b86-4f1ef6d3d53f\",\"type\":\"UnionRenderers\"}},\"id\":\"0ecd2992-c532-43dc-acfb-d76128ab5a11\",\"type\":\"ColumnDataSource\"},{\"attributes\":{\"bottom_units\":\"screen\",\"fill_alpha\":{\"value\":0.5},\"fill_color\":{\"value\":\"lightgrey\"},\"left_units\":\"screen\",\"level\":\"overlay\",\"line_alpha\":{\"value\":1.0},\"line_color\":{\"value\":\"black\"},\"line_dash\":[4,4],\"line_width\":{\"value\":2},\"plot\":null,\"render_mode\":\"css\",\"right_units\":\"screen\",\"top_units\":\"screen\"},\"id\":\"d44fb699-7b01-4686-8b6b-5ceb6b388288\",\"type\":\"BoxAnnotation\"},{\"attributes\":{\"line_alpha\":0.1,\"line_color\":\"#1f77b4\",\"line_width\":3,\"x\":{\"field\":\"x\"},\"y\":{\"field\":\"y\"}},\"id\":\"b7ab3001-2b66-49de-9ca5-3cccbd3e7b9a\",\"type\":\"Line\"},{\"attributes\":{\"callback\":null,\"data\":{\"x\":{\"__ndarray__\":\"XLWE3/puur94oj3BckK6v6L6vQPy27m/bT7HqrVuub8/dsMomwG5vwAegdrQlri/JOgbEKIuuL+2UMLk98q3v31ua4Ldbbe/oEVjq9Mat78RmK8Ux9a2v9FiPXaWp7a/8E3vvDaWtr+L6yTK+qe2v3mdNcE1zLW/Ffv+327Psb9w9APnJEWlv9qySWzh83u/Kv0us6LioT/Ppk4A+Lm1P93oCIWtfsI/CFIx53ylyz945qsFcuDRPytWJl99OtE/3ckrAFsYyT/5xXyrOzfAP1W59T9lobM/4Rdz5Dz0pj+MU6BbV+ibP3uBCFpJd5I/KjLxSVKSiD+EZ68v88x8P+9C7RpYPm8/EnK9qL8QWT+loo/DaUthvzVDhGG72X2/tcyHP0FkiL8ARBhERjWQv03p+9G5oJW/X9/72ZeFm79wwG3B4Aeev15/TwJUnpy/FzIuh6PMmr8j+lLLGBeZv6rNU6scS5e/lhaB89pTlb+zDvgQFSmTvyXJj9JOyJC/vQdSozxljL/Ee/xIi9+GvzrlAjULJIG/DMPAZaC6dr+VDzmtv5RmvzHI/jNRa/c+NFij5PZHZz/HwINk1pJ3P1Kstn34AoI/ppVZvAyKiD9V0Qb92GaPPw5C4EtYUJM/85vb56Uglz/T9XfIKiubP5s/v1IKeJ8/g0OO/q4Hoj/32DXY1nqkPx+eiPLDEKc/1G/iiA6xqT+Eu4M9xSisP8f0DRd8RK4/84j/q/b/rz+o2weQCcewP8Y1UnfklrE/bGElBWeHsj/J1nLopq2zP9lNnQWpLbU/\",\"dtype\":\"float64\",\"shape\":[75]},\"y\":{\"__ndarray__\":\"GhExyth1ND/Sv8nbtpRIP2vylNV0PVE/aTum7souWD/At0SJ8fVgPw3Iuahxymc/MSNhhJWvcD/bTfBN02d3P2zb5nxnaoA/CD5h5MAGhz8NmeH1TyaQP+zrCsc9p5Y/LbKd76fGnz/bLW5ISEmmPww9YvTcQq8/JV2OstnstT8Er5Y7M8G+P0c+r3jqkcU/5h99k6ZBzj88bCIzFzjVP4enV8oyxN0//yH99nXg5D8qOpLLf0jtP5kqGJXUifQ/c9cS8kHP/D+/DpwzojQEQIEmwoanVwxA4lgXt9HgE0BSSZ2AJuIbQAMJih9jjiNA5q4l5INuK0AwTKYKRj0zQNv5fmq8/DpAaCJseHrtQkB/+zpwzoxKQM3MzMzMeFJAZmZmZmZqWEAAAAAAAFxeQM3MzMzMJmJAmpmZmZkfZUBmZmZmZhhoQDMzMzMzEWtAAAAAAAAKbkBmZmZmZoFwQM3MzMzM/XFAMzMzMzN6c0CamZmZmfZ0QAAAAAAAc3ZAZmZmZmbvd0DNzMzMzGt5QDMzMzMz6HpAmpmZmZlkfEAAAAAAAOF9QGZmZmZmXX9AZmZmZuZsgECamZmZGSuBQM3MzMxM6YFAAAAAAICngkAzMzMzs2WDQGZmZmbmI4RAmpmZmRnihEDNzMzMTKCFQAAAAACAXoZAMzMzM7Mch0BmZmZm5tqHQJqZmZkZmYhAzczMzExXiUAAAAAAgBWKQDMzMzOz04pAZmZmZuaRi0CamZmZGVCMQM3MzMxMDo1AAAAAAIDMjUAzMzMzs4qOQGZmZmbmSI9A\",\"dtype\":\"float64\",\"shape\":[75]}},\"selected\":{\"id\":\"d626cdca-5abd-484f-a509-7f324c019033\",\"type\":\"Selection\"},\"selection_policy\":{\"id\":\"08f49715-cfbe-4cff-94fb-9b361202694e\",\"type\":\"UnionRenderers\"}},\"id\":\"83862508-59db-4e8f-b00b-4d3677146a57\",\"type\":\"ColumnDataSource\"},{\"attributes\":{\"line_alpha\":0.1,\"line_color\":\"#1f77b4\",\"line_width\":1.5,\"x\":{\"field\":\"x\"},\"y\":{\"field\":\"y\"}},\"id\":\"5c777ecd-d1c8-47d0-ab27-ac76f6ac0bc9\",\"type\":\"Line\"},{\"attributes\":{},\"id\":\"9f898707-7ea2-43d4-8d97-d935c3890b1f\",\"type\":\"SaveTool\"},{\"attributes\":{\"data_source\":{\"id\":\"83862508-59db-4e8f-b00b-4d3677146a57\",\"type\":\"ColumnDataSource\"},\"glyph\":{\"id\":\"b8c47c5a-03c1-4824-bad8-1e390c6809e4\",\"type\":\"Line\"},\"hover_glyph\":null,\"muted_glyph\":null,\"nonselection_glyph\":{\"id\":\"5c777ecd-d1c8-47d0-ab27-ac76f6ac0bc9\",\"type\":\"Line\"},\"selection_glyph\":null,\"view\":{\"id\":\"b4030be0-3051-432e-9ae8-10869318656a\",\"type\":\"CDSView\"}},\"id\":\"f1c795d8-298f-4a60-a468-0b1abb8362c1\",\"type\":\"GlyphRenderer\"},{\"attributes\":{\"callback\":null,\"end\":0.28301983155,\"start\":-0.09394886655000001},\"id\":\"8c1af97c-7a13-459f-9c4b-ca06e54f4e85\",\"type\":\"Range1d\"},{\"attributes\":{\"callback\":null,\"data\":{\"x\":{\"__ndarray__\":\"XLWE3/puur94oj3BckK6v6L6vQPy27m/bT7HqrVuub8/dsMomwG5vwAegdrQlri/JOgbEKIuuL+2UMLk98q3v31ua4Ldbbe/oEVjq9Mat78RmK8Ux9a2v9FiPXaWp7a/8E3vvDaWtr+L6yTK+qe2v3mdNcE1zLW/Ffv+327Psb9w9APnJEWlv9qySWzh83u/Kv0us6LioT/Ppk4A+Lm1P93oCIWtfsI/CFIx53ylyz945qsFcuDRPytWJl99OtE/3ckrAFsYyT/5xXyrOzfAP1W59T9lobM/4Rdz5Dz0pj+MU6BbV+ibP3uBCFpJd5I/KjLxSVKSiD+EZ68v88x8P+9C7RpYPm8/EnK9qL8QWT+loo/DaUthvzVDhGG72X2/tcyHP0FkiL8ARBhERjWQv03p+9G5oJW/X9/72ZeFm79wwG3B4Aeev15/TwJUnpy/FzIuh6PMmr8j+lLLGBeZv6rNU6scS5e/lhaB89pTlb+zDvgQFSmTvyXJj9JOyJC/vQdSozxljL/Ee/xIi9+GvzrlAjULJIG/DMPAZaC6dr+VDzmtv5RmvzHI/jNRa/c+NFij5PZHZz/HwINk1pJ3P1Kstn34AoI/ppVZvAyKiD9V0Qb92GaPPw5C4EtYUJM/85vb56Uglz/T9XfIKiubP5s/v1IKeJ8/g0OO/q4Hoj/32DXY1nqkPx+eiPLDEKc/1G/iiA6xqT+Eu4M9xSisP8f0DRd8RK4/84j/q/b/rz+o2weQCcewP8Y1UnfklrE/bGElBWeHsj/J1nLopq2zP9lNnQWpLbU/\",\"dtype\":\"float64\",\"shape\":[75]},\"y\":{\"__ndarray__\":\"GhExyth1ND/Sv8nbtpRIP2vylNV0PVE/aTum7souWD/At0SJ8fVgPw3Iuahxymc/MSNhhJWvcD/bTfBN02d3P2zb5nxnaoA/CD5h5MAGhz8NmeH1TyaQP+zrCsc9p5Y/LbKd76fGnz/bLW5ISEmmPww9YvTcQq8/JV2OstnstT8Er5Y7M8G+P0c+r3jqkcU/5h99k6ZBzj88bCIzFzjVP4enV8oyxN0//yH99nXg5D8qOpLLf0jtP5kqGJXUifQ/c9cS8kHP/D+/DpwzojQEQIEmwoanVwxA4lgXt9HgE0BSSZ2AJuIbQAMJih9jjiNA5q4l5INuK0AwTKYKRj0zQNv5fmq8/DpAaCJseHrtQkB/+zpwzoxKQM3MzMzMeFJAZmZmZmZqWEAAAAAAAFxeQM3MzMzMJmJAmpmZmZkfZUBmZmZmZhhoQDMzMzMzEWtAAAAAAAAKbkBmZmZmZoFwQM3MzMzM/XFAMzMzMzN6c0CamZmZmfZ0QAAAAAAAc3ZAZmZmZmbvd0DNzMzMzGt5QDMzMzMz6HpAmpmZmZlkfEAAAAAAAOF9QGZmZmZmXX9AZmZmZuZsgECamZmZGSuBQM3MzMxM6YFAAAAAAICngkAzMzMzs2WDQGZmZmbmI4RAmpmZmRnihEDNzMzMTKCFQAAAAACAXoZAMzMzM7Mch0BmZmZm5tqHQJqZmZkZmYhAzczMzExXiUAAAAAAgBWKQDMzMzOz04pAZmZmZuaRi0CamZmZGVCMQM3MzMxMDo1AAAAAAIDMjUAzMzMzs4qOQGZmZmbmSI9A\",\"dtype\":\"float64\",\"shape\":[75]}},\"selected\":{\"id\":\"f0399ad6-02e9-4263-beb2-600455ee5da6\",\"type\":\"Selection\"},\"selection_policy\":{\"id\":\"3da25605-982d-44c0-8624-dde070d4be45\",\"type\":\"UnionRenderers\"}},\"id\":\"171b8ed5-6992-4364-94e8-d6554bf9ecb6\",\"type\":\"ColumnDataSource\"},{\"attributes\":{\"source\":{\"id\":\"83862508-59db-4e8f-b00b-4d3677146a57\",\"type\":\"ColumnDataSource\"}},\"id\":\"b4030be0-3051-432e-9ae8-10869318656a\",\"type\":\"CDSView\"},{\"attributes\":{\"callback\":null,\"data\":{\"x\":{\"__ndarray__\":\"IuDtctPVs7+17XjUh7azvzXBy4ftZ7O/hlkkiNMSs78zu5BlQruyv+lX0q+pYbK/FWEtnlQGsr/W7Amjuqyxv4i8o7bzWrG/115+NuH/sL8kOiq53LawvwcJpKVmc7C/6q5+2W8xsL9qgu6MqvavvxT5lRpf7K2/4nzvr+G8pr/drrynMmeUv+FIdDKyb4Y/Cv2ZcNnwqD92b0RmpjC4PzahA0B6JsM/wLQbKSyWyz8ZD0ewzZDRP4el2u2pTdE/ukM/gmTAyj8ps1kkFY7CP9C+Iwo/2bc/H2DyxCNzrD8ZSCZuT06gP6XjiWqdBZM/hiyhrx/xhj+TCY+MpJ57P+JGhaGUenI/2GrmcKnXZT+cIIPJz/VVvzgdztT6dH6/mhZRai3jir/ftfMvt4WSv0Hm2q6Fypi/Ek/JT7Men790YCrOueGgv8gkVx5/L6C/OJeZqOFLnr9iY66yFUCcv35UywUlIZq/nU/TB+3jl7+69bp8EYCVv2S6qRgK9JK/7QZzMu88kL/WQ4dhWsaKvyXMqXwg74S/5hZ6c4stfr8bxDYVtJtyv3tckzFzkly/Jr3Xwd8LUj8hmg5Mg5JwP2RjN/ynKn0/bGcS+bc3hT9+RlTj/DWMPxcVTpl2zZE/5qkmyXW3lT/Do6KhG9+ZP0QLLNivS54/zBAi/CCBoT/wGc6EkwKkP33FZWt4o6Y/P08KaPlLqT/PFdyq7c2rP54Y0hzy+q0/hYvUClnQrz8/o4Ii+rywP5k1iFezl7E/UXtLwByNsj90cGNCH6yzP/Kd1NSpCbU/\",\"dtype\":\"float64\",\"shape\":[75]},\"y\":{\"__ndarray__\":\"GhExyth1ND/Sv8nbtpRIP2vylNV0PVE/aTum7souWD/At0SJ8fVgPw3Iuahxymc/MSNhhJWvcD/bTfBN02d3P2zb5nxnaoA/CD5h5MAGhz8NmeH1TyaQP+zrCsc9p5Y/LbKd76fGnz/bLW5ISEmmPww9YvTcQq8/JV2OstnstT8Er5Y7M8G+P0c+r3jqkcU/5h99k6ZBzj88bCIzFzjVP4enV8oyxN0//yH99nXg5D8qOpLLf0jtP5kqGJXUifQ/c9cS8kHP/D+/DpwzojQEQIEmwoanVwxA4lgXt9HgE0BSSZ2AJuIbQAMJih9jjiNA5q4l5INuK0AwTKYKRj0zQNv5fmq8/DpAaCJseHrtQkB/+zpwzoxKQM3MzMzMeFJAZmZmZmZqWEAAAAAAAFxeQM3MzMzMJmJAmpmZmZkfZUBmZmZmZhhoQDMzMzMzEWtAAAAAAAAKbkBmZmZmZoFwQM3MzMzM/XFAMzMzMzN6c0CamZmZmfZ0QAAAAAAAc3ZAZmZmZmbvd0DNzMzMzGt5QDMzMzMz6HpAmpmZmZlkfEAAAAAAAOF9QGZmZmZmXX9AZmZmZuZsgECamZmZGSuBQM3MzMxM6YFAAAAAAICngkAzMzMzs2WDQGZmZmbmI4RAmpmZmRnihEDNzMzMTKCFQAAAAACAXoZAMzMzM7Mch0BmZmZm5tqHQJqZmZkZmYhAzczMzExXiUAAAAAAgBWKQDMzMzOz04pAZmZmZuaRi0CamZmZGVCMQM3MzMxMDo1AAAAAAIDMjUAzMzMzs4qOQGZmZmbmSI9A\",\"dtype\":\"float64\",\"shape\":[75]}},\"selected\":{\"id\":\"f195bee8-25ae-4ea0-8db5-e55f3012d84f\",\"type\":\"Selection\"},\"selection_policy\":{\"id\":\"63b2fabe-a58c-4556-bf56-3978438f01a9\",\"type\":\"UnionRenderers\"}},\"id\":\"1f16239d-0f66-486e-be40-58d4bc6f7ca6\",\"type\":\"ColumnDataSource\"},{\"attributes\":{\"line_alpha\":0.6,\"line_color\":\"#984ea3\",\"line_width\":3,\"x\":{\"field\":\"x\"},\"y\":{\"field\":\"y\"}},\"id\":\"0bffcfed-eba3-474c-b433-78456b15eb87\",\"type\":\"Line\"},{\"attributes\":{\"dimension\":1,\"plot\":{\"id\":\"793428c3-1d01-40aa-a5e1-d3269ddca311\",\"subtype\":\"Figure\",\"type\":\"Plot\"},\"ticker\":{\"id\":\"28b3c3cf-643c-45f8-8cd4-baac58cf9617\",\"type\":\"LogTicker\"}},\"id\":\"ccd24a65-753d-443b-ad24-43b855a0c265\",\"type\":\"Grid\"},{\"attributes\":{\"data_source\":{\"id\":\"1f16239d-0f66-486e-be40-58d4bc6f7ca6\",\"type\":\"ColumnDataSource\"},\"glyph\":{\"id\":\"0bffcfed-eba3-474c-b433-78456b15eb87\",\"type\":\"Line\"},\"hover_glyph\":null,\"muted_glyph\":null,\"nonselection_glyph\":{\"id\":\"1c963cd2-bd81-479c-8ab5-36cb9e2aeb2f\",\"type\":\"Line\"},\"selection_glyph\":null,\"view\":{\"id\":\"146e5aef-a08d-4f19-9c4b-0e89ff1b5ad0\",\"type\":\"CDSView\"}},\"id\":\"47432f16-a706-4e56-9961-3de2f2e06c08\",\"type\":\"GlyphRenderer\"},{\"attributes\":{\"source\":{\"id\":\"171b8ed5-6992-4364-94e8-d6554bf9ecb6\",\"type\":\"ColumnDataSource\"}},\"id\":\"7ffd3f47-52f3-4273-97ef-bdbce3011243\",\"type\":\"CDSView\"},{\"attributes\":{\"source\":{\"id\":\"c9acc2f2-5daa-45f7-8c39-0452c206fc96\",\"type\":\"ColumnDataSource\"}},\"id\":\"54d4badf-b258-4a20-9810-347e71e4fc5d\",\"type\":\"CDSView\"},{\"attributes\":{\"source\":{\"id\":\"1f16239d-0f66-486e-be40-58d4bc6f7ca6\",\"type\":\"ColumnDataSource\"}},\"id\":\"146e5aef-a08d-4f19-9c4b-0e89ff1b5ad0\",\"type\":\"CDSView\"},{\"attributes\":{},\"id\":\"bdab440b-72a5-4dda-8efa-ed24f0312605\",\"type\":\"WheelZoomTool\"},{\"attributes\":{},\"id\":\"d5969aa5-7705-45a6-95c9-a1cee00cdd1f\",\"type\":\"Selection\"},{\"attributes\":{\"data_source\":{\"id\":\"c9acc2f2-5daa-45f7-8c39-0452c206fc96\",\"type\":\"ColumnDataSource\"},\"glyph\":{\"id\":\"14d4e6ec-aa21-4c3b-b814-02ec557ba292\",\"type\":\"Square\"},\"hover_glyph\":null,\"muted_glyph\":null,\"nonselection_glyph\":{\"id\":\"0e8ba9f7-534c-4be6-86ef-05c643dda91c\",\"type\":\"Square\"},\"selection_glyph\":null,\"view\":{\"id\":\"54d4badf-b258-4a20-9810-347e71e4fc5d\",\"type\":\"CDSView\"}},\"id\":\"b2c99242-7086-41f7-95f0-a961ac6e00f6\",\"type\":\"GlyphRenderer\"},{\"attributes\":{},\"id\":\"a2c59c67-24a0-4a6b-ba5f-faa389b2ac78\",\"type\":\"BasicTickFormatter\"},{\"attributes\":{\"label\":{\"value\":\"CLIRAD `coolr_bands`\"},\"renderers\":[{\"id\":\"0cb764e7-0a70-47f8-bcff-7494215e2ad3\",\"type\":\"GlyphRenderer\"}]},\"id\":\"a77cfadc-639f-4d4d-aa17-c218859ceadc\",\"type\":\"LegendItem\"},{\"attributes\":{},\"id\":\"51668c8a-cbb9-485b-b955-887455c44656\",\"type\":\"Selection\"},{\"attributes\":{\"overlay\":{\"id\":\"d44fb699-7b01-4686-8b6b-5ceb6b388288\",\"type\":\"BoxAnnotation\"}},\"id\":\"564b2f3f-1842-4dda-878d-c8db6420ccb4\",\"type\":\"BoxZoomTool\"},{\"attributes\":{\"callback\":null,\"data\":{\"x\":{\"__ndarray__\":\"IuDtctPVs7+17XjUh7azvzXBy4ftZ7O/hlkkiNMSs78zu5BlQruyv+lX0q+pYbK/FWEtnlQGsr/W7Amjuqyxv4i8o7bzWrG/115+NuH/sL8kOiq53LawvwcJpKVmc7C/6q5+2W8xsL9qgu6MqvavvxT5lRpf7K2/4nzvr+G8pr/drrynMmeUv+FIdDKyb4Y/Cv2ZcNnwqD92b0RmpjC4PzahA0B6JsM/wLQbKSyWyz8ZD0ewzZDRP4el2u2pTdE/ukM/gmTAyj8ps1kkFY7CP9C+Iwo/2bc/H2DyxCNzrD8ZSCZuT06gP6XjiWqdBZM/hiyhrx/xhj+TCY+MpJ57P+JGhaGUenI/2GrmcKnXZT+cIIPJz/VVvzgdztT6dH6/mhZRai3jir/ftfMvt4WSv0Hm2q6Fypi/Ek/JT7Men790YCrOueGgv8gkVx5/L6C/OJeZqOFLnr9iY66yFUCcv35UywUlIZq/nU/TB+3jl7+69bp8EYCVv2S6qRgK9JK/7QZzMu88kL/WQ4dhWsaKvyXMqXwg74S/5hZ6c4stfr8bxDYVtJtyv3tckzFzkly/Jr3Xwd8LUj8hmg5Mg5JwP2RjN/ynKn0/bGcS+bc3hT9+RlTj/DWMPxcVTpl2zZE/5qkmyXW3lT/Do6KhG9+ZP0QLLNivS54/zBAi/CCBoT/wGc6EkwKkP33FZWt4o6Y/P08KaPlLqT/PFdyq7c2rP54Y0hzy+q0/hYvUClnQrz8/o4Ii+rywP5k1iFezl7E/UXtLwByNsj90cGNCH6yzP/Kd1NSpCbU/\",\"dtype\":\"float64\",\"shape\":[75]},\"y\":{\"__ndarray__\":\"GhExyth1ND/Sv8nbtpRIP2vylNV0PVE/aTum7souWD/At0SJ8fVgPw3Iuahxymc/MSNhhJWvcD/bTfBN02d3P2zb5nxnaoA/CD5h5MAGhz8NmeH1TyaQP+zrCsc9p5Y/LbKd76fGnz/bLW5ISEmmPww9YvTcQq8/JV2OstnstT8Er5Y7M8G+P0c+r3jqkcU/5h99k6ZBzj88bCIzFzjVP4enV8oyxN0//yH99nXg5D8qOpLLf0jtP5kqGJXUifQ/c9cS8kHP/D+/DpwzojQEQIEmwoanVwxA4lgXt9HgE0BSSZ2AJuIbQAMJih9jjiNA5q4l5INuK0AwTKYKRj0zQNv5fmq8/DpAaCJseHrtQkB/+zpwzoxKQM3MzMzMeFJAZmZmZmZqWEAAAAAAAFxeQM3MzMzMJmJAmpmZmZkfZUBmZmZmZhhoQDMzMzMzEWtAAAAAAAAKbkBmZmZmZoFwQM3MzMzM/XFAMzMzMzN6c0CamZmZmfZ0QAAAAAAAc3ZAZmZmZmbvd0DNzMzMzGt5QDMzMzMz6HpAmpmZmZlkfEAAAAAAAOF9QGZmZmZmXX9AZmZmZuZsgECamZmZGSuBQM3MzMxM6YFAAAAAAICngkAzMzMzs2WDQGZmZmbmI4RAmpmZmRnihEDNzMzMTKCFQAAAAACAXoZAMzMzM7Mch0BmZmZm5tqHQJqZmZkZmYhAzczMzExXiUAAAAAAgBWKQDMzMzOz04pAZmZmZuaRi0CamZmZGVCMQM3MzMxMDo1AAAAAAIDMjUAzMzMzs4qOQGZmZmbmSI9A\",\"dtype\":\"float64\",\"shape\":[75]}},\"selected\":{\"id\":\"2e6cb643-f21f-45cd-8d48-63dee2a207cc\",\"type\":\"Selection\"},\"selection_policy\":{\"id\":\"671b3ef3-7498-4131-a096-a8d7d07eef34\",\"type\":\"UnionRenderers\"}},\"id\":\"c9acc2f2-5daa-45f7-8c39-0452c206fc96\",\"type\":\"ColumnDataSource\"},{\"attributes\":{\"label\":{\"value\":\"CRD\"},\"renderers\":[{\"id\":\"350a7141-d9cf-469b-b8ea-1f08f95dabba\",\"type\":\"GlyphRenderer\"},{\"id\":\"f1c795d8-298f-4a60-a468-0b1abb8362c1\",\"type\":\"GlyphRenderer\"}]},\"id\":\"0a07ebd2-041c-4c02-92d5-91265e863231\",\"type\":\"LegendItem\"},{\"attributes\":{},\"id\":\"c3d16826-5677-46d0-be58-e37967dc3282\",\"type\":\"UnionRenderers\"},{\"attributes\":{\"label\":{\"value\":\"WGT igg=10 wgt_flux=2\"},\"renderers\":[{\"id\":\"b541259b-2973-437e-adca-3a2e4bc3b9e8\",\"type\":\"GlyphRenderer\"},{\"id\":\"47432f16-a706-4e56-9961-3de2f2e06c08\",\"type\":\"GlyphRenderer\"}]},\"id\":\"b123ca35-c78d-4fba-8aba-d8eb9d744d89\",\"type\":\"LegendItem\"},{\"attributes\":{\"data_source\":{\"id\":\"ec90c03d-37f9-417c-be7b-9550938ba9f2\",\"type\":\"ColumnDataSource\"},\"glyph\":{\"id\":\"9ec6fd33-f3b4-4673-9bd0-fa0a3b5caf8e\",\"type\":\"Circle\"},\"hover_glyph\":null,\"muted_glyph\":null,\"nonselection_glyph\":{\"id\":\"dd9f1e87-648e-41b4-badb-bf6db2a8f404\",\"type\":\"Circle\"},\"selection_glyph\":null,\"view\":{\"id\":\"2a1ddf35-5a96-4ef6-a71b-f36abe850ad7\",\"type\":\"CDSView\"}},\"id\":\"6c914968-4e64-4d1e-89a8-6f15000ca509\",\"type\":\"GlyphRenderer\"},{\"attributes\":{\"data_source\":{\"id\":\"fc1ea36b-2b54-488a-8258-3b41a14df289\",\"type\":\"ColumnDataSource\"},\"glyph\":{\"id\":\"0c913eab-4ac0-401e-aa8a-ac252d9fe442\",\"type\":\"Line\"},\"hover_glyph\":null,\"muted_glyph\":null,\"nonselection_glyph\":{\"id\":\"b7ab3001-2b66-49de-9ca5-3cccbd3e7b9a\",\"type\":\"Line\"},\"selection_glyph\":null,\"view\":{\"id\":\"0a60edc6-592c-47c5-87e5-961800c00c2f\",\"type\":\"CDSView\"}},\"id\":\"8af132cc-b350-49e9-842f-482ea7a9aed8\",\"type\":\"GlyphRenderer\"},{\"attributes\":{},\"id\":\"f01dba5e-dcd6-4f92-858b-044fc502d157\",\"type\":\"UnionRenderers\"},{\"attributes\":{\"children\":[{\"id\":\"fb305ca9-13b8-4da7-82a8-65cf161d9c0e\",\"subtype\":\"Figure\",\"type\":\"Plot\"},{\"id\":\"793428c3-1d01-40aa-a5e1-d3269ddca311\",\"subtype\":\"Figure\",\"type\":\"Plot\"}]},\"id\":\"f884b963-4490-430e-8df1-63151fc652b7\",\"type\":\"Row\"},{\"attributes\":{\"source\":{\"id\":\"ec90c03d-37f9-417c-be7b-9550938ba9f2\",\"type\":\"ColumnDataSource\"}},\"id\":\"2a1ddf35-5a96-4ef6-a71b-f36abe850ad7\",\"type\":\"CDSView\"},{\"attributes\":{},\"id\":\"3bb696e0-accd-49ad-886c-592a71641201\",\"type\":\"BasicTickFormatter\"},{\"attributes\":{},\"id\":\"958e63d1-d45b-4b72-8c46-b8229bbc0f56\",\"type\":\"Selection\"},{\"attributes\":{\"fill_alpha\":{\"value\":0.1},\"fill_color\":{\"value\":\"#1f77b4\"},\"line_alpha\":{\"value\":0.1},\"line_color\":{\"value\":\"#1f77b4\"},\"x\":{\"field\":\"x\"},\"y\":{\"field\":\"y\"}},\"id\":\"2f8e1405-7da5-49e7-a7d8-9898003d617d\",\"type\":\"Square\"},{\"attributes\":{},\"id\":\"de354433-e8d7-4b10-a16c-c29265b7bcef\",\"type\":\"Selection\"},{\"attributes\":{\"callback\":null,\"data\":{\"x\":{\"__ndarray__\":\"IuDtctPVs7+17XjUh7azvzXBy4ftZ7O/hlkkiNMSs78zu5BlQruyv+lX0q+pYbK/FWEtnlQGsr/W7Amjuqyxv4i8o7bzWrG/115+NuH/sL8kOiq53LawvwcJpKVmc7C/6q5+2W8xsL9qgu6MqvavvxT5lRpf7K2/4nzvr+G8pr/drrynMmeUv+FIdDKyb4Y/Cv2ZcNnwqD92b0RmpjC4PzahA0B6JsM/wLQbKSyWyz8ZD0ewzZDRP4el2u2pTdE/ukM/gmTAyj8ps1kkFY7CP9C+Iwo/2bc/H2DyxCNzrD8ZSCZuT06gP6XjiWqdBZM/hiyhrx/xhj+TCY+MpJ57P+JGhaGUenI/2GrmcKnXZT+cIIPJz/VVvzgdztT6dH6/mhZRai3jir/ftfMvt4WSv0Hm2q6Fypi/Ek/JT7Men790YCrOueGgv8gkVx5/L6C/OJeZqOFLnr9iY66yFUCcv35UywUlIZq/nU/TB+3jl7+69bp8EYCVv2S6qRgK9JK/7QZzMu88kL/WQ4dhWsaKvyXMqXwg74S/5hZ6c4stfr8bxDYVtJtyv3tckzFzkly/Jr3Xwd8LUj8hmg5Mg5JwP2RjN/ynKn0/bGcS+bc3hT9+RlTj/DWMPxcVTpl2zZE/5qkmyXW3lT/Do6KhG9+ZP0QLLNivS54/zBAi/CCBoT/wGc6EkwKkP33FZWt4o6Y/P08KaPlLqT/PFdyq7c2rP54Y0hzy+q0/hYvUClnQrz8/o4Ii+rywP5k1iFezl7E/UXtLwByNsj90cGNCH6yzP/Kd1NSpCbU/\",\"dtype\":\"float64\",\"shape\":[75]},\"y\":{\"__ndarray__\":\"GhExyth1ND/Sv8nbtpRIP2vylNV0PVE/aTum7souWD/At0SJ8fVgPw3Iuahxymc/MSNhhJWvcD/bTfBN02d3P2zb5nxnaoA/CD5h5MAGhz8NmeH1TyaQP+zrCsc9p5Y/LbKd76fGnz/bLW5ISEmmPww9YvTcQq8/JV2OstnstT8Er5Y7M8G+P0c+r3jqkcU/5h99k6ZBzj88bCIzFzjVP4enV8oyxN0//yH99nXg5D8qOpLLf0jtP5kqGJXUifQ/c9cS8kHP/D+/DpwzojQEQIEmwoanVwxA4lgXt9HgE0BSSZ2AJuIbQAMJih9jjiNA5q4l5INuK0AwTKYKRj0zQNv5fmq8/DpAaCJseHrtQkB/+zpwzoxKQM3MzMzMeFJAZmZmZmZqWEAAAAAAAFxeQM3MzMzMJmJAmpmZmZkfZUBmZmZmZhhoQDMzMzMzEWtAAAAAAAAKbkBmZmZmZoFwQM3MzMzM/XFAMzMzMzN6c0CamZmZmfZ0QAAAAAAAc3ZAZmZmZmbvd0DNzMzMzGt5QDMzMzMz6HpAmpmZmZlkfEAAAAAAAOF9QGZmZmZmXX9AZmZmZuZsgECamZmZGSuBQM3MzMxM6YFAAAAAAICngkAzMzMzs2WDQGZmZmbmI4RAmpmZmRnihEDNzMzMTKCFQAAAAACAXoZAMzMzM7Mch0BmZmZm5tqHQJqZmZkZmYhAzczMzExXiUAAAAAAgBWKQDMzMzOz04pAZmZmZuaRi0CamZmZGVCMQM3MzMxMDo1AAAAAAIDMjUAzMzMzs4qOQGZmZmbmSI9A\",\"dtype\":\"float64\",\"shape\":[75]}},\"selected\":{\"id\":\"d5969aa5-7705-45a6-95c9-a1cee00cdd1f\",\"type\":\"Selection\"},\"selection_policy\":{\"id\":\"5cb08f64-c9a0-49c1-a966-c90343d7c779\",\"type\":\"UnionRenderers\"}},\"id\":\"fc1ea36b-2b54-488a-8258-3b41a14df289\",\"type\":\"ColumnDataSource\"},{\"attributes\":{},\"id\":\"2e6cb643-f21f-45cd-8d48-63dee2a207cc\",\"type\":\"Selection\"},{\"attributes\":{},\"id\":\"3da25605-982d-44c0-8624-dde070d4be45\",\"type\":\"UnionRenderers\"},{\"attributes\":{},\"id\":\"f0399ad6-02e9-4263-beb2-600455ee5da6\",\"type\":\"Selection\"},{\"attributes\":{\"ticker\":null},\"id\":\"169433f0-fece-4d6d-92a8-88dfd21df04f\",\"type\":\"LogTickFormatter\"},{\"attributes\":{\"line_alpha\":0.6,\"line_color\":\"#e41a1c\",\"line_dash\":[6],\"line_width\":5,\"x\":{\"field\":\"x\"},\"y\":{\"field\":\"y\"}},\"id\":\"d264e024-47f9-4721-a15b-ce10705b7347\",\"type\":\"Line\"},{\"attributes\":{\"plot\":null,\"text\":\"Log pressure scale\"},\"id\":\"b191a9d8-eacd-4d6b-b846-8d852394a17c\",\"type\":\"Title\"},{\"attributes\":{},\"id\":\"5cb08f64-c9a0-49c1-a966-c90343d7c779\",\"type\":\"UnionRenderers\"},{\"attributes\":{},\"id\":\"63b2fabe-a58c-4556-bf56-3978438f01a9\",\"type\":\"UnionRenderers\"},{\"attributes\":{},\"id\":\"a8d8db92-adb2-410c-ac5c-024c1c8a2fee\",\"type\":\"BasicTickFormatter\"},{\"attributes\":{},\"id\":\"479df3e8-010f-45b8-8bed-cad0302b8d41\",\"type\":\"LinearScale\"},{\"attributes\":{},\"id\":\"43bebdb7-0a15-445e-9b86-4f1ef6d3d53f\",\"type\":\"UnionRenderers\"},{\"attributes\":{\"data_source\":{\"id\":\"171b8ed5-6992-4364-94e8-d6554bf9ecb6\",\"type\":\"ColumnDataSource\"},\"glyph\":{\"id\":\"35663339-2280-46b2-8c82-ceafdc920759\",\"type\":\"Line\"},\"hover_glyph\":null,\"muted_glyph\":null,\"nonselection_glyph\":{\"id\":\"4befa4df-0af5-4c35-8172-5fff097ef525\",\"type\":\"Line\"},\"selection_glyph\":null,\"view\":{\"id\":\"7ffd3f47-52f3-4273-97ef-bdbce3011243\",\"type\":\"CDSView\"}},\"id\":\"ab027166-e45f-4936-a032-ec56ff2e958e\",\"type\":\"GlyphRenderer\"},{\"attributes\":{\"source\":{\"id\":\"0ecd2992-c532-43dc-acfb-d76128ab5a11\",\"type\":\"ColumnDataSource\"}},\"id\":\"fb7be83f-05e5-4114-96d6-2cfc12452c9b\",\"type\":\"CDSView\"},{\"attributes\":{},\"id\":\"d828b7e0-395d-4a4d-ac8e-f1a9f1f2b6c1\",\"type\":\"UnionRenderers\"},{\"attributes\":{\"data_source\":{\"id\":\"0ecd2992-c532-43dc-acfb-d76128ab5a11\",\"type\":\"ColumnDataSource\"},\"glyph\":{\"id\":\"48213bcf-a6dd-411d-ad4f-b9065a3a3518\",\"type\":\"Square\"},\"hover_glyph\":null,\"muted_glyph\":null,\"nonselection_glyph\":{\"id\":\"2f8e1405-7da5-49e7-a7d8-9898003d617d\",\"type\":\"Square\"},\"selection_glyph\":null,\"view\":{\"id\":\"fb7be83f-05e5-4114-96d6-2cfc12452c9b\",\"type\":\"CDSView\"}},\"id\":\"b541259b-2973-437e-adca-3a2e4bc3b9e8\",\"type\":\"GlyphRenderer\"},{\"attributes\":{\"callback\":null,\"end\":0.01,\"start\":1020},\"id\":\"ab96e2ff-c406-4e61-b2ac-097eab2aa5b5\",\"type\":\"Range1d\"},{\"attributes\":{},\"id\":\"07372df4-cb0f-47bc-bb33-92bc20d5a433\",\"type\":\"Selection\"},{\"attributes\":{\"axis_label\":\"pressure [mb]\",\"formatter\":{\"id\":\"169433f0-fece-4d6d-92a8-88dfd21df04f\",\"type\":\"LogTickFormatter\"},\"plot\":{\"id\":\"793428c3-1d01-40aa-a5e1-d3269ddca311\",\"subtype\":\"Figure\",\"type\":\"Plot\"},\"ticker\":{\"id\":\"28b3c3cf-643c-45f8-8cd4-baac58cf9617\",\"type\":\"LogTicker\"}},\"id\":\"9950d96b-d57e-4559-a7b9-44382e0b2d7c\",\"type\":\"LogAxis\"},{\"attributes\":{},\"id\":\"52a9ee8e-f74f-4c0d-abac-269aa72f8c4d\",\"type\":\"Selection\"},{\"attributes\":{\"fill_alpha\":{\"value\":0.7},\"fill_color\":{\"value\":\"#984ea3\"},\"line_alpha\":{\"value\":0.7},\"line_color\":{\"value\":\"#984ea3\"},\"x\":{\"field\":\"x\"},\"y\":{\"field\":\"y\"}},\"id\":\"14d4e6ec-aa21-4c3b-b814-02ec557ba292\",\"type\":\"Square\"},{\"attributes\":{},\"id\":\"62fd4aa6-ca84-4e6d-9f82-68df74496e97\",\"type\":\"UnionRenderers\"},{\"attributes\":{\"line_alpha\":0.6,\"line_color\":\"#984ea3\",\"line_width\":3,\"x\":{\"field\":\"x\"},\"y\":{\"field\":\"y\"}},\"id\":\"0c913eab-4ac0-401e-aa8a-ac252d9fe442\",\"type\":\"Line\"},{\"attributes\":{},\"id\":\"08f49715-cfbe-4cff-94fb-9b361202694e\",\"type\":\"UnionRenderers\"},{\"attributes\":{},\"id\":\"d626cdca-5abd-484f-a509-7f324c019033\",\"type\":\"Selection\"},{\"attributes\":{},\"id\":\"d9a3065c-3456-4c44-aba0-f70a14af328e\",\"type\":\"WheelZoomTool\"},{\"attributes\":{\"callback\":null,\"data\":{\"x\":{\"__ndarray__\":\"XLWE3/puur94oj3BckK6v6L6vQPy27m/bT7HqrVuub8/dsMomwG5vwAegdrQlri/JOgbEKIuuL+2UMLk98q3v31ua4Ldbbe/oEVjq9Mat78RmK8Ux9a2v9FiPXaWp7a/8E3vvDaWtr+L6yTK+qe2v3mdNcE1zLW/Ffv+327Psb9w9APnJEWlv9qySWzh83u/Kv0us6LioT/Ppk4A+Lm1P93oCIWtfsI/CFIx53ylyz945qsFcuDRPytWJl99OtE/3ckrAFsYyT/5xXyrOzfAP1W59T9lobM/4Rdz5Dz0pj+MU6BbV+ibP3uBCFpJd5I/KjLxSVKSiD+EZ68v88x8P+9C7RpYPm8/EnK9qL8QWT+loo/DaUthvzVDhGG72X2/tcyHP0FkiL8ARBhERjWQv03p+9G5oJW/X9/72ZeFm79wwG3B4Aeev15/TwJUnpy/FzIuh6PMmr8j+lLLGBeZv6rNU6scS5e/lhaB89pTlb+zDvgQFSmTvyXJj9JOyJC/vQdSozxljL/Ee/xIi9+GvzrlAjULJIG/DMPAZaC6dr+VDzmtv5RmvzHI/jNRa/c+NFij5PZHZz/HwINk1pJ3P1Kstn34AoI/ppVZvAyKiD9V0Qb92GaPPw5C4EtYUJM/85vb56Uglz/T9XfIKiubP5s/v1IKeJ8/g0OO/q4Hoj/32DXY1nqkPx+eiPLDEKc/1G/iiA6xqT+Eu4M9xSisP8f0DRd8RK4/84j/q/b/rz+o2weQCcewP8Y1UnfklrE/bGElBWeHsj/J1nLopq2zP9lNnQWpLbU/\",\"dtype\":\"float64\",\"shape\":[75]},\"y\":{\"__ndarray__\":\"GhExyth1ND/Sv8nbtpRIP2vylNV0PVE/aTum7souWD/At0SJ8fVgPw3Iuahxymc/MSNhhJWvcD/bTfBN02d3P2zb5nxnaoA/CD5h5MAGhz8NmeH1TyaQP+zrCsc9p5Y/LbKd76fGnz/bLW5ISEmmPww9YvTcQq8/JV2OstnstT8Er5Y7M8G+P0c+r3jqkcU/5h99k6ZBzj88bCIzFzjVP4enV8oyxN0//yH99nXg5D8qOpLLf0jtP5kqGJXUifQ/c9cS8kHP/D+/DpwzojQEQIEmwoanVwxA4lgXt9HgE0BSSZ2AJuIbQAMJih9jjiNA5q4l5INuK0AwTKYKRj0zQNv5fmq8/DpAaCJseHrtQkB/+zpwzoxKQM3MzMzMeFJAZmZmZmZqWEAAAAAAAFxeQM3MzMzMJmJAmpmZmZkfZUBmZmZmZhhoQDMzMzMzEWtAAAAAAAAKbkBmZmZmZoFwQM3MzMzM/XFAMzMzMzN6c0CamZmZmfZ0QAAAAAAAc3ZAZmZmZmbvd0DNzMzMzGt5QDMzMzMz6HpAmpmZmZlkfEAAAAAAAOF9QGZmZmZmXX9AZmZmZuZsgECamZmZGSuBQM3MzMxM6YFAAAAAAICngkAzMzMzs2WDQGZmZmbmI4RAmpmZmRnihEDNzMzMTKCFQAAAAACAXoZAMzMzM7Mch0BmZmZm5tqHQJqZmZkZmYhAzczMzExXiUAAAAAAgBWKQDMzMzOz04pAZmZmZuaRi0CamZmZGVCMQM3MzMxMDo1AAAAAAIDMjUAzMzMzs4qOQGZmZmbmSI9A\",\"dtype\":\"float64\",\"shape\":[75]}},\"selected\":{\"id\":\"de354433-e8d7-4b10-a16c-c29265b7bcef\",\"type\":\"Selection\"},\"selection_policy\":{\"id\":\"c3d16826-5677-46d0-be58-e37967dc3282\",\"type\":\"UnionRenderers\"}},\"id\":\"ec90c03d-37f9-417c-be7b-9550938ba9f2\",\"type\":\"ColumnDataSource\"},{\"attributes\":{\"callback\":null,\"end\":0.01,\"start\":1020},\"id\":\"70c19f6a-6d00-40a4-bbb8-23f09c7e26fa\",\"type\":\"Range1d\"},{\"attributes\":{\"source\":{\"id\":\"b367b5ef-cc9f-4c74-9338-29e28d0a4e96\",\"type\":\"ColumnDataSource\"}},\"id\":\"91665e81-3835-40c8-b021-7e759066f187\",\"type\":\"CDSView\"},{\"attributes\":{\"axis_label\":\"pressure [mb]\",\"formatter\":{\"id\":\"3bb696e0-accd-49ad-886c-592a71641201\",\"type\":\"BasicTickFormatter\"},\"plot\":{\"id\":\"fb305ca9-13b8-4da7-82a8-65cf161d9c0e\",\"subtype\":\"Figure\",\"type\":\"Plot\"},\"ticker\":{\"id\":\"9cad3ffa-07b1-4219-9f44-d5dcc0e3a6ad\",\"type\":\"BasicTicker\"}},\"id\":\"c4d887f7-c7fa-4b0e-bc1a-71624082f412\",\"type\":\"LinearAxis\"},{\"attributes\":{},\"id\":\"8136b223-e805-4bb3-a45c-45c6ae51396b\",\"type\":\"ResetTool\"},{\"attributes\":{},\"id\":\"a125645b-f939-44b5-aafd-345622df0517\",\"type\":\"HelpTool\"},{\"attributes\":{\"callback\":null,\"data\":{\"x\":{\"__ndarray__\":\"f6iFqWUfsL+uBJJ9fgKwv+CEUS9JfK+/cj+Hybnsrr+D0W0I3Fquv8rDVJAlx62/NWQJWYAwrb86WA4TXpmsv/iyslJI/6u/msVy6IBmq7+9ICfupsuqv4a74PdiNKq/1PXzj4afqb8oLNByyQapvzX4NXH296a/rXLgVvN8oL89E4OIIEOFvxv5OKoFvJE/JK+Co9pjqj+vzeKf++23P5sa7HaLesI/emBTKW5Dyj8zFYfYBajQPxqpMQDYqdA/fm+ykRSmyj/lOyEJNSLDP8Xr3rCLJ7k/TUORROjNrT+lE/IJJQigP94w2ZFNZpA/tDdcEkVbgT8T3R/du450PylvIt/OCnA/mzaNNIssZj+YtcYAhm5Rv01KswyA13y/BU1G89Ldib891Xc3fPaRv5QBR9LTH5i/r3VOWIdInr+W1k6w2XOgv6RXoGnLsZ+/6sJKMJWxnb/EuGQaIq6bv9EGyOaWlZm/WTrn88ZTl79Q3Gvt7/+Uv+pEaw3xhJK/9eziy368j78prJZsIzuKv1gLmDIDpIS/YU/HXAMmfr8nVYdOYh9zvw8ttQxfgGC/PY4vR00iRj9pWVNuHYJsP5KxAzPSTno/uKm9JGeDgz9pLSX7gj6KP4cvUKhgupA/PHgRmf6UlD/7/kKZirCYPyIxWKlUFJ0/7rMgTSLmoD8IAoX2wWSjPw9W77JXBqY//VjIKSivqD9EshVu2DqrP8TPPfOLda0/u/n85rRdrz//LQP50o6wPyPiVfKLdLE/0ZXBfnNysj/f3WIvKJSzP96vqcNv4rQ/\",\"dtype\":\"float64\",\"shape\":[75]},\"y\":{\"__ndarray__\":\"S/O/Q+51ND/Sv8nbtpRIP2vylNV0PVE/aTum7souWD/At0SJ8fVgPw3Iuahxymc/MSNhhJWvcD/bTfBN02d3P2zb5nxnaoA/CD5h5MAGhz8NmeH1TyaQP+zrCsc9p5Y/LbKd76fGnz/bLW5ISEmmPww9YvTcQq8/JV2OstnstT8Er5Y7M8G+P0c+r3jqkcU/5h99k6ZBzj88bCIzFzjVP4enV8oyxN0//yH99nXg5D8qOpLLf0jtP5kqGJXUifQ/c9cS8kHP/D+/DpwzojQEQIEmwoanVwxA4lgXt9HgE0BSSZ2AJuIbQAMJih9jjiNA5q4l5INuK0AwTKYKRj0zQNv5fmq8/DpAaCJseHrtQkB/+zpwzoxKQM3MzMzMeFJAZmZmZmZqWEAAAAAAAFxeQM3MzMzMJmJAmpmZmZkfZUBmZmZmZhhoQDMzMzMzEWtAAAAAAAAKbkBmZmZmZoFwQM3MzMzM/XFAMzMzMzN6c0CamZmZmfZ0QAAAAAAAc3ZAZmZmZmbvd0DNzMzMzGt5QDMzMzMz6HpAmpmZmZlkfEAAAAAAAOF9QGZmZmZmXX9AZmZmZuZsgECamZmZGSuBQM3MzMxM6YFAAAAAAICngkAzMzMzs2WDQGZmZmbmI4RAmpmZmRnihEDNzMzMTKCFQAAAAACAXoZAMzMzM7Mch0BmZmZm5tqHQJqZmZkZmYhAzczMzExXiUAAAAAAgBWKQDMzMzOz04pAZmZmZuaRi0CamZmZGVCMQM3MzMxMDo1AAAAAAIDMjUAzMzMzs4qOQGZmZmbmSI9A\",\"dtype\":\"float64\",\"shape\":[75]}},\"selected\":{\"id\":\"51668c8a-cbb9-485b-b955-887455c44656\",\"type\":\"Selection\"},\"selection_policy\":{\"id\":\"f01dba5e-dcd6-4f92-858b-044fc502d157\",\"type\":\"UnionRenderers\"}},\"id\":\"b367b5ef-cc9f-4c74-9338-29e28d0a4e96\",\"type\":\"ColumnDataSource\"},{\"attributes\":{\"below\":[{\"id\":\"dc659060-c0f8-43c8-aed7-6c7678f96e2b\",\"type\":\"LinearAxis\"}],\"left\":[{\"id\":\"9950d96b-d57e-4559-a7b9-44382e0b2d7c\",\"type\":\"LogAxis\"}],\"plot_height\":500,\"plot_width\":560,\"renderers\":[{\"id\":\"dc659060-c0f8-43c8-aed7-6c7678f96e2b\",\"type\":\"LinearAxis\"},{\"id\":\"dd518c98-4456-4db8-84eb-4b38c7637efc\",\"type\":\"Grid\"},{\"id\":\"9950d96b-d57e-4559-a7b9-44382e0b2d7c\",\"type\":\"LogAxis\"},{\"id\":\"ccd24a65-753d-443b-ad24-43b855a0c265\",\"type\":\"Grid\"},{\"id\":\"d44fb699-7b01-4686-8b6b-5ceb6b388288\",\"type\":\"BoxAnnotation\"},{\"id\":\"0cb764e7-0a70-47f8-bcff-7494215e2ad3\",\"type\":\"GlyphRenderer\"},{\"id\":\"350a7141-d9cf-469b-b8ea-1f08f95dabba\",\"type\":\"GlyphRenderer\"},{\"id\":\"f1c795d8-298f-4a60-a468-0b1abb8362c1\",\"type\":\"GlyphRenderer\"},{\"id\":\"b541259b-2973-437e-adca-3a2e4bc3b9e8\",\"type\":\"GlyphRenderer\"},{\"id\":\"47432f16-a706-4e56-9961-3de2f2e06c08\",\"type\":\"GlyphRenderer\"},{\"id\":\"d315b18c-7594-41d1-9ae3-56d8889eba88\",\"type\":\"Legend\"}],\"right\":[{\"id\":\"d315b18c-7594-41d1-9ae3-56d8889eba88\",\"type\":\"Legend\"}],\"title\":{\"id\":\"b191a9d8-eacd-4d6b-b846-8d852394a17c\",\"type\":\"Title\"},\"toolbar\":{\"id\":\"dd80f575-bb31-4ba5-aa00-c65bcce8444e\",\"type\":\"Toolbar\"},\"toolbar_location\":null,\"x_range\":{\"id\":\"8c1af97c-7a13-459f-9c4b-ca06e54f4e85\",\"type\":\"Range1d\"},\"x_scale\":{\"id\":\"479df3e8-010f-45b8-8bed-cad0302b8d41\",\"type\":\"LinearScale\"},\"y_range\":{\"id\":\"ab96e2ff-c406-4e61-b2ac-097eab2aa5b5\",\"type\":\"Range1d\"},\"y_scale\":{\"id\":\"825d8fec-2a2f-4d50-b454-87ef9f15a891\",\"type\":\"LogScale\"}},\"id\":\"793428c3-1d01-40aa-a5e1-d3269ddca311\",\"subtype\":\"Figure\",\"type\":\"Plot\"},{\"attributes\":{},\"id\":\"59c36f77-90ee-4b35-a0b0-1dcbefe1bab6\",\"type\":\"LinearScale\"},{\"attributes\":{\"dimension\":1,\"plot\":{\"id\":\"fb305ca9-13b8-4da7-82a8-65cf161d9c0e\",\"subtype\":\"Figure\",\"type\":\"Plot\"},\"ticker\":{\"id\":\"9cad3ffa-07b1-4219-9f44-d5dcc0e3a6ad\",\"type\":\"BasicTicker\"}},\"id\":\"c91239dd-9435-4375-8223-c01dc31692ff\",\"type\":\"Grid\"},{\"attributes\":{\"below\":[{\"id\":\"ac4531ab-27a2-4123-9d47-34adb0d1f2cb\",\"type\":\"LinearAxis\"}],\"left\":[{\"id\":\"c4d887f7-c7fa-4b0e-bc1a-71624082f412\",\"type\":\"LinearAxis\"}],\"plot_height\":500,\"plot_width\":400,\"renderers\":[{\"id\":\"ac4531ab-27a2-4123-9d47-34adb0d1f2cb\",\"type\":\"LinearAxis\"},{\"id\":\"75d797b0-7842-4d94-b922-6c56afc2db47\",\"type\":\"Grid\"},{\"id\":\"c4d887f7-c7fa-4b0e-bc1a-71624082f412\",\"type\":\"LinearAxis\"},{\"id\":\"c91239dd-9435-4375-8223-c01dc31692ff\",\"type\":\"Grid\"},{\"id\":\"39fd49d0-303f-4a1b-b92d-480c335a10ae\",\"type\":\"BoxAnnotation\"},{\"id\":\"494fd068-313c-4fb9-9e79-a37e96e978c3\",\"type\":\"GlyphRenderer\"},{\"id\":\"6c914968-4e64-4d1e-89a8-6f15000ca509\",\"type\":\"GlyphRenderer\"},{\"id\":\"ab027166-e45f-4936-a032-ec56ff2e958e\",\"type\":\"GlyphRenderer\"},{\"id\":\"b2c99242-7086-41f7-95f0-a961ac6e00f6\",\"type\":\"GlyphRenderer\"},{\"id\":\"8af132cc-b350-49e9-842f-482ea7a9aed8\",\"type\":\"GlyphRenderer\"}],\"title\":{\"id\":\"3cfdbe55-6435-4045-a28d-fd658b4900c5\",\"type\":\"Title\"},\"toolbar\":{\"id\":\"3cc7a76c-2cdc-4581-94da-608f0da9f7a0\",\"type\":\"Toolbar\"},\"toolbar_location\":null,\"x_range\":{\"id\":\"2d314b2f-8724-4f64-8c2f-7022b3451181\",\"type\":\"Range1d\"},\"x_scale\":{\"id\":\"e445a27c-2691-4244-9347-4eec433a6109\",\"type\":\"LinearScale\"},\"y_range\":{\"id\":\"70c19f6a-6d00-40a4-bbb8-23f09c7e26fa\",\"type\":\"Range1d\"},\"y_scale\":{\"id\":\"59c36f77-90ee-4b35-a0b0-1dcbefe1bab6\",\"type\":\"LinearScale\"}},\"id\":\"fb305ca9-13b8-4da7-82a8-65cf161d9c0e\",\"subtype\":\"Figure\",\"type\":\"Plot\"},{\"attributes\":{},\"id\":\"e445a27c-2691-4244-9347-4eec433a6109\",\"type\":\"LinearScale\"},{\"attributes\":{},\"id\":\"9cad3ffa-07b1-4219-9f44-d5dcc0e3a6ad\",\"type\":\"BasicTicker\"},{\"attributes\":{\"plot\":null,\"text\":\"Linear pressure scale\"},\"id\":\"3cfdbe55-6435-4045-a28d-fd658b4900c5\",\"type\":\"Title\"},{\"attributes\":{},\"id\":\"04a59f66-503d-4be0-9ef7-46da7b7e6263\",\"type\":\"BasicTicker\"},{\"attributes\":{},\"id\":\"671b3ef3-7498-4131-a096-a8d7d07eef34\",\"type\":\"UnionRenderers\"},{\"attributes\":{\"callback\":null,\"data\":{\"x\":{\"__ndarray__\":\"f6iFqWUfsL+uBJJ9fgKwv+CEUS9JfK+/cj+Hybnsrr+D0W0I3Fquv8rDVJAlx62/NWQJWYAwrb86WA4TXpmsv/iyslJI/6u/msVy6IBmq7+9ICfupsuqv4a74PdiNKq/1PXzj4afqb8oLNByyQapvzX4NXH296a/rXLgVvN8oL89E4OIIEOFvxv5OKoFvJE/JK+Co9pjqj+vzeKf++23P5sa7HaLesI/emBTKW5Dyj8zFYfYBajQPxqpMQDYqdA/fm+ykRSmyj/lOyEJNSLDP8Xr3rCLJ7k/TUORROjNrT+lE/IJJQigP94w2ZFNZpA/tDdcEkVbgT8T3R/du450PylvIt/OCnA/mzaNNIssZj+YtcYAhm5Rv01KswyA13y/BU1G89Ldib891Xc3fPaRv5QBR9LTH5i/r3VOWIdInr+W1k6w2XOgv6RXoGnLsZ+/6sJKMJWxnb/EuGQaIq6bv9EGyOaWlZm/WTrn88ZTl79Q3Gvt7/+Uv+pEaw3xhJK/9eziy368j78prJZsIzuKv1gLmDIDpIS/YU/HXAMmfr8nVYdOYh9zvw8ttQxfgGC/PY4vR00iRj9pWVNuHYJsP5KxAzPSTno/uKm9JGeDgz9pLSX7gj6KP4cvUKhgupA/PHgRmf6UlD/7/kKZirCYPyIxWKlUFJ0/7rMgTSLmoD8IAoX2wWSjPw9W77JXBqY//VjIKSivqD9EshVu2DqrP8TPPfOLda0/u/n85rRdrz//LQP50o6wPyPiVfKLdLE/0ZXBfnNysj/f3WIvKJSzP96vqcNv4rQ/\",\"dtype\":\"float64\",\"shape\":[75]},\"y\":{\"__ndarray__\":\"S/O/Q+51ND/Sv8nbtpRIP2vylNV0PVE/aTum7souWD/At0SJ8fVgPw3Iuahxymc/MSNhhJWvcD/bTfBN02d3P2zb5nxnaoA/CD5h5MAGhz8NmeH1TyaQP+zrCsc9p5Y/LbKd76fGnz/bLW5ISEmmPww9YvTcQq8/JV2OstnstT8Er5Y7M8G+P0c+r3jqkcU/5h99k6ZBzj88bCIzFzjVP4enV8oyxN0//yH99nXg5D8qOpLLf0jtP5kqGJXUifQ/c9cS8kHP/D+/DpwzojQEQIEmwoanVwxA4lgXt9HgE0BSSZ2AJuIbQAMJih9jjiNA5q4l5INuK0AwTKYKRj0zQNv5fmq8/DpAaCJseHrtQkB/+zpwzoxKQM3MzMzMeFJAZmZmZmZqWEAAAAAAAFxeQM3MzMzMJmJAmpmZmZkfZUBmZmZmZhhoQDMzMzMzEWtAAAAAAAAKbkBmZmZmZoFwQM3MzMzM/XFAMzMzMzN6c0CamZmZmfZ0QAAAAAAAc3ZAZmZmZmbvd0DNzMzMzGt5QDMzMzMz6HpAmpmZmZlkfEAAAAAAAOF9QGZmZmZmXX9AZmZmZuZsgECamZmZGSuBQM3MzMxM6YFAAAAAAICngkAzMzMzs2WDQGZmZmbmI4RAmpmZmRnihEDNzMzMTKCFQAAAAACAXoZAMzMzM7Mch0BmZmZm5tqHQJqZmZkZmYhAzczMzExXiUAAAAAAgBWKQDMzMzOz04pAZmZmZuaRi0CamZmZGVCMQM3MzMxMDo1AAAAAAIDMjUAzMzMzs4qOQGZmZmbmSI9A\",\"dtype\":\"float64\",\"shape\":[75]}},\"selected\":{\"id\":\"958e63d1-d45b-4b72-8c46-b8229bbc0f56\",\"type\":\"Selection\"},\"selection_policy\":{\"id\":\"62fd4aa6-ca84-4e6d-9f82-68df74496e97\",\"type\":\"UnionRenderers\"}},\"id\":\"bd80d61f-f344-4e67-8ed1-67ac8cfdbec7\",\"type\":\"ColumnDataSource\"},{\"attributes\":{},\"id\":\"f1cb6996-7344-4091-8d6d-f918bab71298\",\"type\":\"SaveTool\"},{\"attributes\":{\"line_alpha\":0.6,\"line_color\":\"#e41a1c\",\"line_dash\":[6],\"line_width\":5,\"x\":{\"field\":\"x\"},\"y\":{\"field\":\"y\"}},\"id\":\"e0dc69bf-a943-444a-9714-8cf718977d03\",\"type\":\"Line\"},{\"attributes\":{\"active_drag\":\"auto\",\"active_inspect\":\"auto\",\"active_scroll\":\"auto\",\"active_tap\":\"auto\",\"tools\":[{\"id\":\"b74a48ac-d50c-4659-9239-b04f5dde5a69\",\"type\":\"PanTool\"},{\"id\":\"d9a3065c-3456-4c44-aba0-f70a14af328e\",\"type\":\"WheelZoomTool\"},{\"id\":\"5e627d36-7d97-4c65-8ab6-907ffa31269f\",\"type\":\"BoxZoomTool\"},{\"id\":\"f1cb6996-7344-4091-8d6d-f918bab71298\",\"type\":\"SaveTool\"},{\"id\":\"8136b223-e805-4bb3-a45c-45c6ae51396b\",\"type\":\"ResetTool\"},{\"id\":\"a125645b-f939-44b5-aafd-345622df0517\",\"type\":\"HelpTool\"}]},\"id\":\"3cc7a76c-2cdc-4581-94da-608f0da9f7a0\",\"type\":\"Toolbar\"},{\"attributes\":{\"plot\":{\"id\":\"fb305ca9-13b8-4da7-82a8-65cf161d9c0e\",\"subtype\":\"Figure\",\"type\":\"Plot\"},\"ticker\":{\"id\":\"04a59f66-503d-4be0-9ef7-46da7b7e6263\",\"type\":\"BasicTicker\"}},\"id\":\"75d797b0-7842-4d94-b922-6c56afc2db47\",\"type\":\"Grid\"},{\"attributes\":{},\"id\":\"b74a48ac-d50c-4659-9239-b04f5dde5a69\",\"type\":\"PanTool\"},{\"attributes\":{\"overlay\":{\"id\":\"39fd49d0-303f-4a1b-b92d-480c335a10ae\",\"type\":\"BoxAnnotation\"}},\"id\":\"5e627d36-7d97-4c65-8ab6-907ffa31269f\",\"type\":\"BoxZoomTool\"},{\"attributes\":{\"axis_label\":\"cooling rate [K/day]\",\"formatter\":{\"id\":\"a2c59c67-24a0-4a6b-ba5f-faa389b2ac78\",\"type\":\"BasicTickFormatter\"},\"plot\":{\"id\":\"fb305ca9-13b8-4da7-82a8-65cf161d9c0e\",\"subtype\":\"Figure\",\"type\":\"Plot\"},\"ticker\":{\"id\":\"04a59f66-503d-4be0-9ef7-46da7b7e6263\",\"type\":\"BasicTicker\"}},\"id\":\"ac4531ab-27a2-4123-9d47-34adb0d1f2cb\",\"type\":\"LinearAxis\"},{\"attributes\":{\"callback\":null,\"end\":0.083884971212,\"start\":-0.03412915241199999},\"id\":\"2d314b2f-8724-4f64-8c2f-7022b3451181\",\"type\":\"Range1d\"},{\"attributes\":{\"data_source\":{\"id\":\"b367b5ef-cc9f-4c74-9338-29e28d0a4e96\",\"type\":\"ColumnDataSource\"},\"glyph\":{\"id\":\"e0dc69bf-a943-444a-9714-8cf718977d03\",\"type\":\"Line\"},\"hover_glyph\":null,\"muted_glyph\":null,\"nonselection_glyph\":{\"id\":\"3c9fc071-50c4-46eb-bf40-cf8c50dc676b\",\"type\":\"Line\"},\"selection_glyph\":null,\"view\":{\"id\":\"91665e81-3835-40c8-b021-7e759066f187\",\"type\":\"CDSView\"}},\"id\":\"494fd068-313c-4fb9-9e79-a37e96e978c3\",\"type\":\"GlyphRenderer\"},{\"attributes\":{\"line_alpha\":0.1,\"line_color\":\"#1f77b4\",\"line_dash\":[6],\"line_width\":5,\"x\":{\"field\":\"x\"},\"y\":{\"field\":\"y\"}},\"id\":\"3c9fc071-50c4-46eb-bf40-cf8c50dc676b\",\"type\":\"Line\"},{\"attributes\":{\"fill_alpha\":{\"value\":0.7},\"fill_color\":{\"value\":\"#4daf4a\"},\"line_alpha\":{\"value\":0.7},\"line_color\":{\"value\":\"#4daf4a\"},\"x\":{\"field\":\"x\"},\"y\":{\"field\":\"y\"}},\"id\":\"9ec6fd33-f3b4-4673-9bd0-fa0a3b5caf8e\",\"type\":\"Circle\"}],\"root_ids\":[\"8fe7bf39-0426-4387-9886-bfe9d4688d2d\"]},\"title\":\"Bokeh Application\",\"version\":\"0.12.16\"}};\n",
       "  var render_items = [{\"docid\":\"19b5e207-c341-4c5a-81d5-726338e2e2fc\",\"elementid\":\"65f5050c-d316-4c95-a097-c66116ba1b89\",\"modelid\":\"8fe7bf39-0426-4387-9886-bfe9d4688d2d\"}];\n",
       "  root.Bokeh.embed.embed_items_notebook(docs_json, render_items);\n",
       "\n",
       "  }\n",
       "  if (root.Bokeh !== undefined) {\n",
       "    embed_document(root);\n",
       "  } else {\n",
       "    var attempts = 0;\n",
       "    var timer = setInterval(function(root) {\n",
       "      if (root.Bokeh !== undefined) {\n",
       "        embed_document(root);\n",
       "        clearInterval(timer);\n",
       "      }\n",
       "      attempts++;\n",
       "      if (attempts > 100) {\n",
       "        console.log(\"Bokeh: ERROR: Unable to run BokehJS code because BokehJS library is missing\")\n",
       "        clearInterval(timer);\n",
       "      }\n",
       "    }, 10, root)\n",
       "  }\n",
       "})(window);"
      ],
      "application/vnd.bokehjs_exec.v0+json": ""
     },
     "metadata": {
      "application/vnd.bokehjs_exec.v0+json": {
       "id": "8fe7bf39-0426-4387-9886-bfe9d4688d2d"
      }
     },
     "output_type": "display_data"
    },
    {
     "name": "stdout",
     "output_type": "stream",
     "text": [
      "FIGURE. Cooling rate profiles.\n"
     ]
    },
    {
     "data": {
      "text/html": [
       "<a id=\"Flux_Comparison\"></a>"
      ],
      "text/plain": [
       "<IPython.core.display.HTML object>"
      ]
     },
     "metadata": {},
     "output_type": "display_data"
    },
    {
     "data": {
      "text/markdown": [
       "# Flux Comparison"
      ],
      "text/plain": [
       "<IPython.core.display.Markdown object>"
      ]
     },
     "metadata": {},
     "output_type": "display_data"
    },
    {
     "data": {
      "text/html": [
       "<div>\n",
       "<style scoped>\n",
       "    .dataframe tbody tr th:only-of-type {\n",
       "        vertical-align: middle;\n",
       "    }\n",
       "\n",
       "    .dataframe tbody tr th {\n",
       "        vertical-align: top;\n",
       "    }\n",
       "\n",
       "    .dataframe thead th {\n",
       "        text-align: right;\n",
       "    }\n",
       "</style>\n",
       "<table border=\"1\" class=\"dataframe\">\n",
       "  <thead>\n",
       "    <tr style=\"text-align: right;\">\n",
       "      <th></th>\n",
       "      <th></th>\n",
       "      <th>flug</th>\n",
       "      <th>fldg</th>\n",
       "      <th>fnetg</th>\n",
       "    </tr>\n",
       "    <tr>\n",
       "      <th>pressure</th>\n",
       "      <th>level</th>\n",
       "      <th></th>\n",
       "      <th></th>\n",
       "      <th></th>\n",
       "    </tr>\n",
       "  </thead>\n",
       "  <tbody>\n",
       "    <tr>\n",
       "      <th>0.0000</th>\n",
       "      <th>1</th>\n",
       "      <td>-19.274965</td>\n",
       "      <td>0.000000</td>\n",
       "      <td>-19.274965</td>\n",
       "    </tr>\n",
       "    <tr>\n",
       "      <th>1.0685</th>\n",
       "      <th>24</th>\n",
       "      <td>-19.275686</td>\n",
       "      <td>0.019352</td>\n",
       "      <td>-19.256334</td>\n",
       "    </tr>\n",
       "    <tr>\n",
       "      <th>1013.0000</th>\n",
       "      <th>76</th>\n",
       "      <td>-23.755175</td>\n",
       "      <td>6.123220</td>\n",
       "      <td>-17.631956</td>\n",
       "    </tr>\n",
       "  </tbody>\n",
       "</table>\n",
       "</div>"
      ],
      "text/plain": [
       "                      flug      fldg      fnetg\n",
       "pressure  level                                \n",
       "0.0000    1     -19.274965  0.000000 -19.274965\n",
       "1.0685    24    -19.275686  0.019352 -19.256334\n",
       "1013.0000 76    -23.755175  6.123220 -17.631956"
      ]
     },
     "metadata": {},
     "output_type": "display_data"
    },
    {
     "name": "stdout",
     "output_type": "stream",
     "text": [
      "Table. Fluxes. CRD\n"
     ]
    },
    {
     "data": {
      "text/html": [
       "<div>\n",
       "<style scoped>\n",
       "    .dataframe tbody tr th:only-of-type {\n",
       "        vertical-align: middle;\n",
       "    }\n",
       "\n",
       "    .dataframe tbody tr th {\n",
       "        vertical-align: top;\n",
       "    }\n",
       "\n",
       "    .dataframe thead th {\n",
       "        text-align: right;\n",
       "    }\n",
       "</style>\n",
       "<table border=\"1\" class=\"dataframe\">\n",
       "  <thead>\n",
       "    <tr style=\"text-align: right;\">\n",
       "      <th></th>\n",
       "      <th></th>\n",
       "      <th>flug</th>\n",
       "      <th>fldg</th>\n",
       "      <th>fnetg</th>\n",
       "    </tr>\n",
       "    <tr>\n",
       "      <th>pressure</th>\n",
       "      <th>level</th>\n",
       "      <th></th>\n",
       "      <th></th>\n",
       "      <th></th>\n",
       "    </tr>\n",
       "  </thead>\n",
       "  <tbody>\n",
       "    <tr>\n",
       "      <th>0.0000</th>\n",
       "      <th>1</th>\n",
       "      <td>-19.207528</td>\n",
       "      <td>0.000000</td>\n",
       "      <td>-19.207528</td>\n",
       "    </tr>\n",
       "    <tr>\n",
       "      <th>1.0685</th>\n",
       "      <th>24</th>\n",
       "      <td>-19.205840</td>\n",
       "      <td>0.017627</td>\n",
       "      <td>-19.188213</td>\n",
       "    </tr>\n",
       "    <tr>\n",
       "      <th>1013.0000</th>\n",
       "      <th>76</th>\n",
       "      <td>-23.755175</td>\n",
       "      <td>6.022691</td>\n",
       "      <td>-17.732484</td>\n",
       "    </tr>\n",
       "  </tbody>\n",
       "</table>\n",
       "</div>"
      ],
      "text/plain": [
       "                      flug      fldg      fnetg\n",
       "pressure  level                                \n",
       "0.0000    1     -19.207528  0.000000 -19.207528\n",
       "1.0685    24    -19.205840  0.017627 -19.188213\n",
       "1013.0000 76    -23.755175  6.022691 -17.732484"
      ]
     },
     "metadata": {},
     "output_type": "display_data"
    },
    {
     "name": "stdout",
     "output_type": "stream",
     "text": [
      "Table. Fluxes. WGT igg=10 wgt_flux=1\n"
     ]
    },
    {
     "data": {
      "text/html": [
       "<div>\n",
       "<style scoped>\n",
       "    .dataframe tbody tr th:only-of-type {\n",
       "        vertical-align: middle;\n",
       "    }\n",
       "\n",
       "    .dataframe tbody tr th {\n",
       "        vertical-align: top;\n",
       "    }\n",
       "\n",
       "    .dataframe thead th {\n",
       "        text-align: right;\n",
       "    }\n",
       "</style>\n",
       "<table border=\"1\" class=\"dataframe\">\n",
       "  <thead>\n",
       "    <tr style=\"text-align: right;\">\n",
       "      <th></th>\n",
       "      <th></th>\n",
       "      <th>flug</th>\n",
       "      <th>fldg</th>\n",
       "      <th>fnetg</th>\n",
       "    </tr>\n",
       "    <tr>\n",
       "      <th>pressure</th>\n",
       "      <th>level</th>\n",
       "      <th></th>\n",
       "      <th></th>\n",
       "      <th></th>\n",
       "    </tr>\n",
       "  </thead>\n",
       "  <tbody>\n",
       "    <tr>\n",
       "      <th>1.000000e-08</th>\n",
       "      <th>1</th>\n",
       "      <td>-19.301753</td>\n",
       "      <td>8.944598e-08</td>\n",
       "      <td>-19.301753</td>\n",
       "    </tr>\n",
       "    <tr>\n",
       "      <th>1.068500e+00</th>\n",
       "      <th>24</th>\n",
       "      <td>-19.299015</td>\n",
       "      <td>1.595398e-02</td>\n",
       "      <td>-19.283061</td>\n",
       "    </tr>\n",
       "    <tr>\n",
       "      <th>1.013000e+03</th>\n",
       "      <th>76</th>\n",
       "      <td>-23.755180</td>\n",
       "      <td>5.895718e+00</td>\n",
       "      <td>-17.859462</td>\n",
       "    </tr>\n",
       "  </tbody>\n",
       "</table>\n",
       "</div>"
      ],
      "text/plain": [
       "                         flug          fldg      fnetg\n",
       "pressure     level                                    \n",
       "1.000000e-08 1     -19.301753  8.944598e-08 -19.301753\n",
       "1.068500e+00 24    -19.299015  1.595398e-02 -19.283061\n",
       "1.013000e+03 76    -23.755180  5.895718e+00 -17.859462"
      ]
     },
     "metadata": {},
     "output_type": "display_data"
    },
    {
     "name": "stdout",
     "output_type": "stream",
     "text": [
      "Table. Fluxes. CLIRAD\n"
     ]
    },
    {
     "data": {
      "text/html": [
       "<div>\n",
       "<style scoped>\n",
       "    .dataframe tbody tr th:only-of-type {\n",
       "        vertical-align: middle;\n",
       "    }\n",
       "\n",
       "    .dataframe tbody tr th {\n",
       "        vertical-align: top;\n",
       "    }\n",
       "\n",
       "    .dataframe thead th {\n",
       "        text-align: right;\n",
       "    }\n",
       "</style>\n",
       "<table border=\"1\" class=\"dataframe\">\n",
       "  <thead>\n",
       "    <tr style=\"text-align: right;\">\n",
       "      <th></th>\n",
       "      <th></th>\n",
       "      <th>flug</th>\n",
       "      <th>fldg</th>\n",
       "      <th>fnetg</th>\n",
       "    </tr>\n",
       "    <tr>\n",
       "      <th>pressure</th>\n",
       "      <th>level</th>\n",
       "      <th></th>\n",
       "      <th></th>\n",
       "      <th></th>\n",
       "    </tr>\n",
       "  </thead>\n",
       "  <tbody>\n",
       "    <tr>\n",
       "      <th>0.0000</th>\n",
       "      <th>1</th>\n",
       "      <td>6.743694e-02</td>\n",
       "      <td>0.000000</td>\n",
       "      <td>0.067437</td>\n",
       "    </tr>\n",
       "    <tr>\n",
       "      <th>1.0685</th>\n",
       "      <th>24</th>\n",
       "      <td>6.984610e-02</td>\n",
       "      <td>-0.001725</td>\n",
       "      <td>0.068121</td>\n",
       "    </tr>\n",
       "    <tr>\n",
       "      <th>1013.0000</th>\n",
       "      <th>76</th>\n",
       "      <td>-4.100000e-07</td>\n",
       "      <td>-0.100528</td>\n",
       "      <td>-0.100528</td>\n",
       "    </tr>\n",
       "  </tbody>\n",
       "</table>\n",
       "</div>"
      ],
      "text/plain": [
       "                         flug      fldg     fnetg\n",
       "pressure  level                                  \n",
       "0.0000    1      6.743694e-02  0.000000  0.067437\n",
       "1.0685    24     6.984610e-02 -0.001725  0.068121\n",
       "1013.0000 76    -4.100000e-07 -0.100528 -0.100528"
      ]
     },
     "metadata": {},
     "output_type": "display_data"
    },
    {
     "name": "stdout",
     "output_type": "stream",
     "text": [
      "Table. Fluxes. (WGT igg=10 wgt_flux=1) - (CRD)\n"
     ]
    },
    {
     "data": {
      "text/html": [
       "<div>\n",
       "<style scoped>\n",
       "    .dataframe tbody tr th:only-of-type {\n",
       "        vertical-align: middle;\n",
       "    }\n",
       "\n",
       "    .dataframe tbody tr th {\n",
       "        vertical-align: top;\n",
       "    }\n",
       "\n",
       "    .dataframe thead th {\n",
       "        text-align: right;\n",
       "    }\n",
       "</style>\n",
       "<table border=\"1\" class=\"dataframe\">\n",
       "  <thead>\n",
       "    <tr style=\"text-align: right;\">\n",
       "      <th></th>\n",
       "      <th></th>\n",
       "      <th>flug</th>\n",
       "      <th>fldg</th>\n",
       "      <th>fnetg</th>\n",
       "    </tr>\n",
       "    <tr>\n",
       "      <th>pressure</th>\n",
       "      <th>level</th>\n",
       "      <th></th>\n",
       "      <th></th>\n",
       "      <th></th>\n",
       "    </tr>\n",
       "  </thead>\n",
       "  <tbody>\n",
       "    <tr>\n",
       "      <th>0.0000</th>\n",
       "      <th>1</th>\n",
       "      <td>-0.026788</td>\n",
       "      <td>8.944598e-08</td>\n",
       "      <td>-0.026788</td>\n",
       "    </tr>\n",
       "    <tr>\n",
       "      <th>1.0685</th>\n",
       "      <th>24</th>\n",
       "      <td>-0.023329</td>\n",
       "      <td>-3.398274e-03</td>\n",
       "      <td>-0.026727</td>\n",
       "    </tr>\n",
       "    <tr>\n",
       "      <th>1013.0000</th>\n",
       "      <th>76</th>\n",
       "      <td>-0.000005</td>\n",
       "      <td>-2.275017e-01</td>\n",
       "      <td>-0.227506</td>\n",
       "    </tr>\n",
       "  </tbody>\n",
       "</table>\n",
       "</div>"
      ],
      "text/plain": [
       "                     flug          fldg     fnetg\n",
       "pressure  level                                  \n",
       "0.0000    1     -0.026788  8.944598e-08 -0.026788\n",
       "1.0685    24    -0.023329 -3.398274e-03 -0.026727\n",
       "1013.0000 76    -0.000005 -2.275017e-01 -0.227506"
      ]
     },
     "metadata": {},
     "output_type": "display_data"
    },
    {
     "name": "stdout",
     "output_type": "stream",
     "text": [
      "Table. Fluxes. (CLIRAD) - (CRD)\n"
     ]
    },
    {
     "data": {
      "text/html": [
       "<a id=\"Best-fit_Parameters\"></a>"
      ],
      "text/plain": [
       "<IPython.core.display.HTML object>"
      ]
     },
     "metadata": {},
     "output_type": "display_data"
    },
    {
     "data": {
      "text/markdown": [
       "# Best-fit Parameters"
      ],
      "text/plain": [
       "<IPython.core.display.Markdown object>"
      ]
     },
     "metadata": {},
     "output_type": "display_data"
    },
    {
     "name": "stdout",
     "output_type": "stream",
     "text": [
      "Best-fit values for each (gas, band)\n",
      "------------------------------------\n",
      "o ch4 band7\n",
      "  atmpro = mls\n",
      "  band = 7\n",
      "  commitnumber = a06b618\n",
      "  conc = 1.8e-06\n",
      "  dv = 0.001\n",
      "  klin = 2e-21\n",
      "  molecule = ch4\n",
      "  ng_adju = [0, 0]\n",
      "  ng_refs = [2, 3]\n",
      "  nv = 1000\n",
      "  option_compute_btable = 0\n",
      "  option_compute_ktable = 1\n",
      "  option_wgt_flux = 1\n",
      "  option_wgt_k = 1\n",
      "  ref_pts = [(1, 250), (500, 250)]\n",
      "  tsfc = 294\n",
      "  vmax = 1380\n",
      "  vmin = 1215\n",
      "  w_diffuse = [(1.66, 1.66), (1.66, 1.66, 1.66)]\n",
      "  wgt = [(0.7, 0.7), (0.4, 0.6, 0.75)]\n"
     ]
    }
   ],
   "source": [
    "script()"
   ]
  },
  {
   "cell_type": "code",
   "execution_count": 13,
   "metadata": {
    "collapsed": true
   },
   "outputs": [
    {
     "data": {
      "text/html": [
       "<script>\n",
       "code_show=true; \n",
       "function code_toggle() {\n",
       " if (code_show){\n",
       " $('div.input').hide();\n",
       " } else {\n",
       " $('div.input').show();\n",
       " }\n",
       " code_show = !code_show\n",
       "} \n",
       "$( document ).ready(code_toggle);\n",
       "</script>\n",
       "<form action=\"javascript:code_toggle()\"><input type=\"submit\" value=\"Click here to toggle on/off the raw code.\"></form>"
      ],
      "text/plain": [
       "<IPython.core.display.HTML object>"
      ]
     },
     "execution_count": 13,
     "metadata": {},
     "output_type": "execute_result"
    }
   ],
   "source": [
    "display.HTML('''<script>\n",
    "code_show=true; \n",
    "function code_toggle() {\n",
    " if (code_show){\n",
    " $('div.input').hide();\n",
    " } else {\n",
    " $('div.input').show();\n",
    " }\n",
    " code_show = !code_show\n",
    "} \n",
    "$( document ).ready(code_toggle);\n",
    "</script>\n",
    "<form action=\"javascript:code_toggle()\"><input type=\"submit\" value=\"Click here to toggle on/off the raw code.\"></form>''')"
   ]
  }
 ],
 "metadata": {
  "kernelspec": {
   "display_name": "Python 3",
   "language": "python",
   "name": "python3"
  },
  "language_info": {
   "codemirror_mode": {
    "name": "ipython",
    "version": 3
   },
   "file_extension": ".py",
   "mimetype": "text/x-python",
   "name": "python",
   "nbconvert_exporter": "python",
   "pygments_lexer": "ipython3",
   "version": "3.6.1"
  }
 },
 "nbformat": 4,
 "nbformat_minor": 2
}
