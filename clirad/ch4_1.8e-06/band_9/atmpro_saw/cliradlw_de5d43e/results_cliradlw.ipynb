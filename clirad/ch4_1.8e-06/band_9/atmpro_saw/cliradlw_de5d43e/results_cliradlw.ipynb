{
 "cells": [
  {
   "cell_type": "code",
   "execution_count": 1,
   "metadata": {
    "collapsed": true
   },
   "outputs": [
    {
     "name": "stdout",
     "output_type": "stream",
     "text": [
      "The history saving thread hit an unexpected error (OperationalError('database is locked',)).History will not be written to the database.\n"
     ]
    }
   ],
   "source": [
    "%matplotlib inline\n",
    "import os\n",
    "import re\n",
    "import io\n",
    "import itertools\n",
    "import pprint\n",
    "\n",
    "from bokeh.io import output_notebook, show\n",
    "from bokeh.layouts import gridplot\n",
    "from bokeh.plotting import figure\n",
    "from bokeh.models import Range1d, Legend\n",
    "from bokeh.palettes import all_palettes\n",
    "\n",
    "import matplotlib\n",
    "import matplotlib.pyplot as plt\n",
    "import numpy as np\n",
    "import pandas as pd\n",
    "import xarray as xr\n",
    "\n",
    "import climatools.lblnew.bestfit_params as bestfits\n",
    "from climatools.lblnew import setup_bestfit, setup_overlap\n",
    "import climatools.lblnew.pipeline as pipe_lblnew\n",
    "import climatools.cliradlw.setup as setup_cliradlw\n",
    "import climatools.cliradlw.pipeline as pipe_cliradlw\n",
    "\n",
    "import climatools.html.html as climahtml\n",
    "from climatools.lblnew.dataio import *\n",
    "from climatools.plot.plot import *\n",
    "\n",
    "\n",
    "import IPython.display as display"
   ]
  },
  {
   "cell_type": "code",
   "execution_count": 2,
   "metadata": {
    "collapsed": true
   },
   "outputs": [],
   "source": [
    "%run param.py"
   ]
  },
  {
   "cell_type": "code",
   "execution_count": 3,
   "metadata": {
    "collapsed": true
   },
   "outputs": [],
   "source": [
    "def load_output_file(path_csv):\n",
    "    '''\n",
    "    Load lblnew output .csv file to xarray.Dataset\n",
    "    \n",
    "    Parameters\n",
    "    ----------\n",
    "    path_csv: str\n",
    "              Path to the .csv file to be loaded.\n",
    "    ds: xarray.Dataset\n",
    "        Data in the input file in the form of an xarray.Dataset.\n",
    "    '''\n",
    "    toindex = ['band', 'pressure', 'igg', 'g']    \n",
    "    df = pd.read_csv(path_csv, sep=r'\\s+')\n",
    "    df = df.set_index([i for i in toindex if i in df.columns])\n",
    "    df = df.rename(columns={'sfu': 'flug',\n",
    "                            'sfd': 'fldg',\n",
    "                            'fnet': 'fnetg',\n",
    "                            'coolr': 'coolrg'})\n",
    "    ds = xr.Dataset.from_dataframe(df)\n",
    "\n",
    "    for l in ('level', 'layer'):\n",
    "        if l in ds.data_vars:\n",
    "            if len(ds[l].dims) > 1:\n",
    "                surface = {d: 0 for d in ds.dims if d != 'pressure'}\n",
    "                coord_level = ds[l][surface]\n",
    "                ds.coords[l] = ('pressure', coord_level)\n",
    "            else:\n",
    "                ds.coords[l] = ('pressure', ds[l])\n",
    "    \n",
    "    return ds"
   ]
  },
  {
   "cell_type": "code",
   "execution_count": 4,
   "metadata": {
    "collapsed": true
   },
   "outputs": [],
   "source": [
    "def lblnew_setup(param=None):\n",
    "    if 'ng_refs' in param:\n",
    "        return {'setup': setup_bestfit,\n",
    "                'fname_flux_crd': 'output_flux.dat',\n",
    "                'fname_cool_crd': 'output_coolr.dat',\n",
    "                'fname_flux_wgt': 'output_wfluxg.dat',\n",
    "                'fname_cool_wgt': 'output_wcoolrg.dat'}\n",
    "    else:\n",
    "        return {'setup': setup_overlap,\n",
    "                'fname_flux_crd': 'output_flux.dat',\n",
    "                'fname_cool_crd': 'output_coolr.dat',\n",
    "                'fname_flux_wgt': 'output_wflux.dat',\n",
    "                'fname_cool_wgt': 'output_wcoolr.dat'}\n",
    "\n",
    "    \n",
    "def load_lblnew_data(param):\n",
    "    \n",
    "    fname_dsname = [('fname_flux_crd', 'ds_flux_crd'),\n",
    "                    ('fname_cool_crd', 'ds_cool_crd'),\n",
    "                    ('fname_flux_wgt', 'ds_flux_wgt'),\n",
    "                    ('fname_cool_wgt', 'ds_cool_wgt')]\n",
    "    \n",
    "    d = lblnew_setup(param)\n",
    "    dir_fortran = pipe_lblnew.get_dir_case(param, setup=d['setup'])\n",
    "    \n",
    "    data_dict = {}\n",
    "    for fname, dsname in fname_dsname:\n",
    "        fpath = os.path.join(dir_fortran, d[fname])\n",
    "        data_dict[dsname] = load_output_file(fpath)\n",
    "    return data_dict\n",
    "    \n",
    "\n",
    "    \n",
    "    "
   ]
  },
  {
   "cell_type": "code",
   "execution_count": 5,
   "metadata": {
    "collapsed": true
   },
   "outputs": [],
   "source": [
    "d = load_lblnew_data(PARAM_LBLNEW)\n",
    "\n",
    "DS_FLUX_CRD = d['ds_flux_crd']\n",
    "DS_COOL_CRD = d['ds_cool_crd']\n",
    "DS_FLUX_WGT = d['ds_flux_wgt']\n",
    "DS_COOL_WGT = d['ds_cool_wgt']"
   ]
  },
  {
   "cell_type": "code",
   "execution_count": 6,
   "metadata": {
    "collapsed": true
   },
   "outputs": [],
   "source": [
    "DIR_FORTRAN = pipe_cliradlw.get_fortran_dir(PARAM, \n",
    "                                            setup=setup_cliradlw)\n",
    "\n",
    "PATH_FLUX = os.path.join(DIR_FORTRAN, 'output_flux.dat')\n",
    "PATH_COOL = os.path.join(DIR_FORTRAN, 'output_coolr.dat')\n",
    "\n",
    "DS_FLUX = load_output_file(PATH_FLUX)\n",
    "DS_COOL = load_output_file(PATH_COOL)"
   ]
  },
  {
   "cell_type": "code",
   "execution_count": 7,
   "metadata": {
    "collapsed": true
   },
   "outputs": [
    {
     "data": {
      "text/html": [
       "\n",
       "    <div class=\"bk-root\">\n",
       "        <a href=\"https://bokeh.pydata.org\" target=\"_blank\" class=\"bk-logo bk-logo-small bk-logo-notebook\"></a>\n",
       "        <span id=\"958eb6d1-f339-442e-9882-72cbeaaf61fd\">Loading BokehJS ...</span>\n",
       "    </div>"
      ]
     },
     "metadata": {},
     "output_type": "display_data"
    },
    {
     "data": {
      "application/javascript": [
       "\n",
       "(function(root) {\n",
       "  function now() {\n",
       "    return new Date();\n",
       "  }\n",
       "\n",
       "  var force = true;\n",
       "\n",
       "  if (typeof (root._bokeh_onload_callbacks) === \"undefined\" || force === true) {\n",
       "    root._bokeh_onload_callbacks = [];\n",
       "    root._bokeh_is_loading = undefined;\n",
       "  }\n",
       "\n",
       "  var JS_MIME_TYPE = 'application/javascript';\n",
       "  var HTML_MIME_TYPE = 'text/html';\n",
       "  var EXEC_MIME_TYPE = 'application/vnd.bokehjs_exec.v0+json';\n",
       "  var CLASS_NAME = 'output_bokeh rendered_html';\n",
       "\n",
       "  /**\n",
       "   * Render data to the DOM node\n",
       "   */\n",
       "  function render(props, node) {\n",
       "    var script = document.createElement(\"script\");\n",
       "    node.appendChild(script);\n",
       "  }\n",
       "\n",
       "  /**\n",
       "   * Handle when an output is cleared or removed\n",
       "   */\n",
       "  function handleClearOutput(event, handle) {\n",
       "    var cell = handle.cell;\n",
       "\n",
       "    var id = cell.output_area._bokeh_element_id;\n",
       "    var server_id = cell.output_area._bokeh_server_id;\n",
       "    // Clean up Bokeh references\n",
       "    if (id !== undefined) {\n",
       "      Bokeh.index[id].model.document.clear();\n",
       "      delete Bokeh.index[id];\n",
       "    }\n",
       "\n",
       "    if (server_id !== undefined) {\n",
       "      // Clean up Bokeh references\n",
       "      var cmd = \"from bokeh.io.state import curstate; print(curstate().uuid_to_server['\" + server_id + \"'].get_sessions()[0].document.roots[0]._id)\";\n",
       "      cell.notebook.kernel.execute(cmd, {\n",
       "        iopub: {\n",
       "          output: function(msg) {\n",
       "            var element_id = msg.content.text.trim();\n",
       "            Bokeh.index[element_id].model.document.clear();\n",
       "            delete Bokeh.index[element_id];\n",
       "          }\n",
       "        }\n",
       "      });\n",
       "      // Destroy server and session\n",
       "      var cmd = \"import bokeh.io.notebook as ion; ion.destroy_server('\" + server_id + \"')\";\n",
       "      cell.notebook.kernel.execute(cmd);\n",
       "    }\n",
       "  }\n",
       "\n",
       "  /**\n",
       "   * Handle when a new output is added\n",
       "   */\n",
       "  function handleAddOutput(event, handle) {\n",
       "    var output_area = handle.output_area;\n",
       "    var output = handle.output;\n",
       "\n",
       "    // limit handleAddOutput to display_data with EXEC_MIME_TYPE content only\n",
       "    if ((output.output_type != \"display_data\") || (!output.data.hasOwnProperty(EXEC_MIME_TYPE))) {\n",
       "      return\n",
       "    }\n",
       "\n",
       "    var toinsert = output_area.element.find(\".\" + CLASS_NAME.split(' ')[0]);\n",
       "\n",
       "    if (output.metadata[EXEC_MIME_TYPE][\"id\"] !== undefined) {\n",
       "      toinsert[toinsert.length - 1].firstChild.textContent = output.data[JS_MIME_TYPE];\n",
       "      // store reference to embed id on output_area\n",
       "      output_area._bokeh_element_id = output.metadata[EXEC_MIME_TYPE][\"id\"];\n",
       "    }\n",
       "    if (output.metadata[EXEC_MIME_TYPE][\"server_id\"] !== undefined) {\n",
       "      var bk_div = document.createElement(\"div\");\n",
       "      bk_div.innerHTML = output.data[HTML_MIME_TYPE];\n",
       "      var script_attrs = bk_div.children[0].attributes;\n",
       "      for (var i = 0; i < script_attrs.length; i++) {\n",
       "        toinsert[toinsert.length - 1].firstChild.setAttribute(script_attrs[i].name, script_attrs[i].value);\n",
       "      }\n",
       "      // store reference to server id on output_area\n",
       "      output_area._bokeh_server_id = output.metadata[EXEC_MIME_TYPE][\"server_id\"];\n",
       "    }\n",
       "  }\n",
       "\n",
       "  function register_renderer(events, OutputArea) {\n",
       "\n",
       "    function append_mime(data, metadata, element) {\n",
       "      // create a DOM node to render to\n",
       "      var toinsert = this.create_output_subarea(\n",
       "        metadata,\n",
       "        CLASS_NAME,\n",
       "        EXEC_MIME_TYPE\n",
       "      );\n",
       "      this.keyboard_manager.register_events(toinsert);\n",
       "      // Render to node\n",
       "      var props = {data: data, metadata: metadata[EXEC_MIME_TYPE]};\n",
       "      render(props, toinsert[toinsert.length - 1]);\n",
       "      element.append(toinsert);\n",
       "      return toinsert\n",
       "    }\n",
       "\n",
       "    /* Handle when an output is cleared or removed */\n",
       "    events.on('clear_output.CodeCell', handleClearOutput);\n",
       "    events.on('delete.Cell', handleClearOutput);\n",
       "\n",
       "    /* Handle when a new output is added */\n",
       "    events.on('output_added.OutputArea', handleAddOutput);\n",
       "\n",
       "    /**\n",
       "     * Register the mime type and append_mime function with output_area\n",
       "     */\n",
       "    OutputArea.prototype.register_mime_type(EXEC_MIME_TYPE, append_mime, {\n",
       "      /* Is output safe? */\n",
       "      safe: true,\n",
       "      /* Index of renderer in `output_area.display_order` */\n",
       "      index: 0\n",
       "    });\n",
       "  }\n",
       "\n",
       "  // register the mime type if in Jupyter Notebook environment and previously unregistered\n",
       "  if (root.Jupyter !== undefined) {\n",
       "    var events = require('base/js/events');\n",
       "    var OutputArea = require('notebook/js/outputarea').OutputArea;\n",
       "\n",
       "    if (OutputArea.prototype.mime_types().indexOf(EXEC_MIME_TYPE) == -1) {\n",
       "      register_renderer(events, OutputArea);\n",
       "    }\n",
       "  }\n",
       "\n",
       "  \n",
       "  if (typeof (root._bokeh_timeout) === \"undefined\" || force === true) {\n",
       "    root._bokeh_timeout = Date.now() + 5000;\n",
       "    root._bokeh_failed_load = false;\n",
       "  }\n",
       "\n",
       "  var NB_LOAD_WARNING = {'data': {'text/html':\n",
       "     \"<div style='background-color: #fdd'>\\n\"+\n",
       "     \"<p>\\n\"+\n",
       "     \"BokehJS does not appear to have successfully loaded. If loading BokehJS from CDN, this \\n\"+\n",
       "     \"may be due to a slow or bad network connection. Possible fixes:\\n\"+\n",
       "     \"</p>\\n\"+\n",
       "     \"<ul>\\n\"+\n",
       "     \"<li>re-rerun `output_notebook()` to attempt to load from CDN again, or</li>\\n\"+\n",
       "     \"<li>use INLINE resources instead, as so:</li>\\n\"+\n",
       "     \"</ul>\\n\"+\n",
       "     \"<code>\\n\"+\n",
       "     \"from bokeh.resources import INLINE\\n\"+\n",
       "     \"output_notebook(resources=INLINE)\\n\"+\n",
       "     \"</code>\\n\"+\n",
       "     \"</div>\"}};\n",
       "\n",
       "  function display_loaded() {\n",
       "    var el = document.getElementById(\"958eb6d1-f339-442e-9882-72cbeaaf61fd\");\n",
       "    if (el != null) {\n",
       "      el.textContent = \"BokehJS is loading...\";\n",
       "    }\n",
       "    if (root.Bokeh !== undefined) {\n",
       "      if (el != null) {\n",
       "        el.textContent = \"BokehJS \" + root.Bokeh.version + \" successfully loaded.\";\n",
       "      }\n",
       "    } else if (Date.now() < root._bokeh_timeout) {\n",
       "      setTimeout(display_loaded, 100)\n",
       "    }\n",
       "  }\n",
       "\n",
       "\n",
       "  function run_callbacks() {\n",
       "    try {\n",
       "      root._bokeh_onload_callbacks.forEach(function(callback) { callback() });\n",
       "    }\n",
       "    finally {\n",
       "      delete root._bokeh_onload_callbacks\n",
       "    }\n",
       "    console.info(\"Bokeh: all callbacks have finished\");\n",
       "  }\n",
       "\n",
       "  function load_libs(js_urls, callback) {\n",
       "    root._bokeh_onload_callbacks.push(callback);\n",
       "    if (root._bokeh_is_loading > 0) {\n",
       "      console.log(\"Bokeh: BokehJS is being loaded, scheduling callback at\", now());\n",
       "      return null;\n",
       "    }\n",
       "    if (js_urls == null || js_urls.length === 0) {\n",
       "      run_callbacks();\n",
       "      return null;\n",
       "    }\n",
       "    console.log(\"Bokeh: BokehJS not loaded, scheduling load and callback at\", now());\n",
       "    root._bokeh_is_loading = js_urls.length;\n",
       "    for (var i = 0; i < js_urls.length; i++) {\n",
       "      var url = js_urls[i];\n",
       "      var s = document.createElement('script');\n",
       "      s.src = url;\n",
       "      s.async = false;\n",
       "      s.onreadystatechange = s.onload = function() {\n",
       "        root._bokeh_is_loading--;\n",
       "        if (root._bokeh_is_loading === 0) {\n",
       "          console.log(\"Bokeh: all BokehJS libraries loaded\");\n",
       "          run_callbacks()\n",
       "        }\n",
       "      };\n",
       "      s.onerror = function() {\n",
       "        console.warn(\"failed to load library \" + url);\n",
       "      };\n",
       "      console.log(\"Bokeh: injecting script tag for BokehJS library: \", url);\n",
       "      document.getElementsByTagName(\"head\")[0].appendChild(s);\n",
       "    }\n",
       "  };var element = document.getElementById(\"958eb6d1-f339-442e-9882-72cbeaaf61fd\");\n",
       "  if (element == null) {\n",
       "    console.log(\"Bokeh: ERROR: autoload.js configured with elementid '958eb6d1-f339-442e-9882-72cbeaaf61fd' but no matching script tag was found. \")\n",
       "    return false;\n",
       "  }\n",
       "\n",
       "  var js_urls = [\"https://cdn.pydata.org/bokeh/release/bokeh-0.12.16.min.js\", \"https://cdn.pydata.org/bokeh/release/bokeh-widgets-0.12.16.min.js\", \"https://cdn.pydata.org/bokeh/release/bokeh-tables-0.12.16.min.js\", \"https://cdn.pydata.org/bokeh/release/bokeh-gl-0.12.16.min.js\"];\n",
       "\n",
       "  var inline_js = [\n",
       "    function(Bokeh) {\n",
       "      Bokeh.set_log_level(\"info\");\n",
       "    },\n",
       "    \n",
       "    function(Bokeh) {\n",
       "      \n",
       "    },\n",
       "    function(Bokeh) {\n",
       "      console.log(\"Bokeh: injecting CSS: https://cdn.pydata.org/bokeh/release/bokeh-0.12.16.min.css\");\n",
       "      Bokeh.embed.inject_css(\"https://cdn.pydata.org/bokeh/release/bokeh-0.12.16.min.css\");\n",
       "      console.log(\"Bokeh: injecting CSS: https://cdn.pydata.org/bokeh/release/bokeh-widgets-0.12.16.min.css\");\n",
       "      Bokeh.embed.inject_css(\"https://cdn.pydata.org/bokeh/release/bokeh-widgets-0.12.16.min.css\");\n",
       "      console.log(\"Bokeh: injecting CSS: https://cdn.pydata.org/bokeh/release/bokeh-tables-0.12.16.min.css\");\n",
       "      Bokeh.embed.inject_css(\"https://cdn.pydata.org/bokeh/release/bokeh-tables-0.12.16.min.css\");\n",
       "    }\n",
       "  ];\n",
       "\n",
       "  function run_inline_js() {\n",
       "    \n",
       "    if ((root.Bokeh !== undefined) || (force === true)) {\n",
       "      for (var i = 0; i < inline_js.length; i++) {\n",
       "        inline_js[i].call(root, root.Bokeh);\n",
       "      }if (force === true) {\n",
       "        display_loaded();\n",
       "      }} else if (Date.now() < root._bokeh_timeout) {\n",
       "      setTimeout(run_inline_js, 100);\n",
       "    } else if (!root._bokeh_failed_load) {\n",
       "      console.log(\"Bokeh: BokehJS failed to load within specified timeout.\");\n",
       "      root._bokeh_failed_load = true;\n",
       "    } else if (force !== true) {\n",
       "      var cell = $(document.getElementById(\"958eb6d1-f339-442e-9882-72cbeaaf61fd\")).parents('.cell').data().cell;\n",
       "      cell.output_area.append_execute_result(NB_LOAD_WARNING)\n",
       "    }\n",
       "\n",
       "  }\n",
       "\n",
       "  if (root._bokeh_is_loading === 0) {\n",
       "    console.log(\"Bokeh: BokehJS loaded, going straight to plotting\");\n",
       "    run_inline_js();\n",
       "  } else {\n",
       "    load_libs(js_urls, function() {\n",
       "      console.log(\"Bokeh: BokehJS plotting callback run at\", now());\n",
       "      run_inline_js();\n",
       "    });\n",
       "  }\n",
       "}(window));"
      ],
      "application/vnd.bokehjs_load.v0+json": "\n(function(root) {\n  function now() {\n    return new Date();\n  }\n\n  var force = true;\n\n  if (typeof (root._bokeh_onload_callbacks) === \"undefined\" || force === true) {\n    root._bokeh_onload_callbacks = [];\n    root._bokeh_is_loading = undefined;\n  }\n\n  \n\n  \n  if (typeof (root._bokeh_timeout) === \"undefined\" || force === true) {\n    root._bokeh_timeout = Date.now() + 5000;\n    root._bokeh_failed_load = false;\n  }\n\n  var NB_LOAD_WARNING = {'data': {'text/html':\n     \"<div style='background-color: #fdd'>\\n\"+\n     \"<p>\\n\"+\n     \"BokehJS does not appear to have successfully loaded. If loading BokehJS from CDN, this \\n\"+\n     \"may be due to a slow or bad network connection. Possible fixes:\\n\"+\n     \"</p>\\n\"+\n     \"<ul>\\n\"+\n     \"<li>re-rerun `output_notebook()` to attempt to load from CDN again, or</li>\\n\"+\n     \"<li>use INLINE resources instead, as so:</li>\\n\"+\n     \"</ul>\\n\"+\n     \"<code>\\n\"+\n     \"from bokeh.resources import INLINE\\n\"+\n     \"output_notebook(resources=INLINE)\\n\"+\n     \"</code>\\n\"+\n     \"</div>\"}};\n\n  function display_loaded() {\n    var el = document.getElementById(\"958eb6d1-f339-442e-9882-72cbeaaf61fd\");\n    if (el != null) {\n      el.textContent = \"BokehJS is loading...\";\n    }\n    if (root.Bokeh !== undefined) {\n      if (el != null) {\n        el.textContent = \"BokehJS \" + root.Bokeh.version + \" successfully loaded.\";\n      }\n    } else if (Date.now() < root._bokeh_timeout) {\n      setTimeout(display_loaded, 100)\n    }\n  }\n\n\n  function run_callbacks() {\n    try {\n      root._bokeh_onload_callbacks.forEach(function(callback) { callback() });\n    }\n    finally {\n      delete root._bokeh_onload_callbacks\n    }\n    console.info(\"Bokeh: all callbacks have finished\");\n  }\n\n  function load_libs(js_urls, callback) {\n    root._bokeh_onload_callbacks.push(callback);\n    if (root._bokeh_is_loading > 0) {\n      console.log(\"Bokeh: BokehJS is being loaded, scheduling callback at\", now());\n      return null;\n    }\n    if (js_urls == null || js_urls.length === 0) {\n      run_callbacks();\n      return null;\n    }\n    console.log(\"Bokeh: BokehJS not loaded, scheduling load and callback at\", now());\n    root._bokeh_is_loading = js_urls.length;\n    for (var i = 0; i < js_urls.length; i++) {\n      var url = js_urls[i];\n      var s = document.createElement('script');\n      s.src = url;\n      s.async = false;\n      s.onreadystatechange = s.onload = function() {\n        root._bokeh_is_loading--;\n        if (root._bokeh_is_loading === 0) {\n          console.log(\"Bokeh: all BokehJS libraries loaded\");\n          run_callbacks()\n        }\n      };\n      s.onerror = function() {\n        console.warn(\"failed to load library \" + url);\n      };\n      console.log(\"Bokeh: injecting script tag for BokehJS library: \", url);\n      document.getElementsByTagName(\"head\")[0].appendChild(s);\n    }\n  };var element = document.getElementById(\"958eb6d1-f339-442e-9882-72cbeaaf61fd\");\n  if (element == null) {\n    console.log(\"Bokeh: ERROR: autoload.js configured with elementid '958eb6d1-f339-442e-9882-72cbeaaf61fd' but no matching script tag was found. \")\n    return false;\n  }\n\n  var js_urls = [\"https://cdn.pydata.org/bokeh/release/bokeh-0.12.16.min.js\", \"https://cdn.pydata.org/bokeh/release/bokeh-widgets-0.12.16.min.js\", \"https://cdn.pydata.org/bokeh/release/bokeh-tables-0.12.16.min.js\", \"https://cdn.pydata.org/bokeh/release/bokeh-gl-0.12.16.min.js\"];\n\n  var inline_js = [\n    function(Bokeh) {\n      Bokeh.set_log_level(\"info\");\n    },\n    \n    function(Bokeh) {\n      \n    },\n    function(Bokeh) {\n      console.log(\"Bokeh: injecting CSS: https://cdn.pydata.org/bokeh/release/bokeh-0.12.16.min.css\");\n      Bokeh.embed.inject_css(\"https://cdn.pydata.org/bokeh/release/bokeh-0.12.16.min.css\");\n      console.log(\"Bokeh: injecting CSS: https://cdn.pydata.org/bokeh/release/bokeh-widgets-0.12.16.min.css\");\n      Bokeh.embed.inject_css(\"https://cdn.pydata.org/bokeh/release/bokeh-widgets-0.12.16.min.css\");\n      console.log(\"Bokeh: injecting CSS: https://cdn.pydata.org/bokeh/release/bokeh-tables-0.12.16.min.css\");\n      Bokeh.embed.inject_css(\"https://cdn.pydata.org/bokeh/release/bokeh-tables-0.12.16.min.css\");\n    }\n  ];\n\n  function run_inline_js() {\n    \n    if ((root.Bokeh !== undefined) || (force === true)) {\n      for (var i = 0; i < inline_js.length; i++) {\n        inline_js[i].call(root, root.Bokeh);\n      }if (force === true) {\n        display_loaded();\n      }} else if (Date.now() < root._bokeh_timeout) {\n      setTimeout(run_inline_js, 100);\n    } else if (!root._bokeh_failed_load) {\n      console.log(\"Bokeh: BokehJS failed to load within specified timeout.\");\n      root._bokeh_failed_load = true;\n    } else if (force !== true) {\n      var cell = $(document.getElementById(\"958eb6d1-f339-442e-9882-72cbeaaf61fd\")).parents('.cell').data().cell;\n      cell.output_area.append_execute_result(NB_LOAD_WARNING)\n    }\n\n  }\n\n  if (root._bokeh_is_loading === 0) {\n    console.log(\"Bokeh: BokehJS loaded, going straight to plotting\");\n    run_inline_js();\n  } else {\n    load_libs(js_urls, function() {\n      console.log(\"Bokeh: BokehJS plotting callback run at\", now());\n      run_inline_js();\n    });\n  }\n}(window));"
     },
     "metadata": {},
     "output_type": "display_data"
    }
   ],
   "source": [
    "output_notebook()"
   ]
  },
  {
   "cell_type": "code",
   "execution_count": 8,
   "metadata": {
    "collapsed": true
   },
   "outputs": [],
   "source": [
    "def fmt_cool(ds_in):\n",
    "    ds = ds_in.copy(deep=True)\n",
    "    if 'igg' in ds.dims:\n",
    "        ds = ds.sel(igg=1)\n",
    "\n",
    "    if 'g' in ds.dims:\n",
    "        ds = ds.sum('g')\n",
    "            \n",
    "    if 'band' in ds.dims:\n",
    "        try:\n",
    "            ds = ds.squeeze('band')\n",
    "        except ValueError:\n",
    "            ds = ds.sum('band')\n",
    "                \n",
    "    return ds['coolrg']\n",
    "\n",
    "\n",
    "def pltdata_cooling_1(ds_cool=None,\n",
    "                      ds_cool_crd=None, ds_cool_wgt=None):\n",
    "    \n",
    "\n",
    "\n",
    "    colors = all_palettes['Set1'][4]\n",
    "    data = [{'label': 'CLIRAD `coolr_bands`',\n",
    "             'srs': fmt_cool(ds_cool),\n",
    "             'line_dash': 'dashed', 'line_width': 5,\n",
    "             'color': colors[0], 'alpha': .6},\n",
    "            {'label': 'CRD',\n",
    "             'srs': fmt_cool(ds_cool_crd),\n",
    "             'line_dash': 'solid', 'line_width': 1.5,\n",
    "             'marker': 'circle', 'marker_size': 5,\n",
    "             'color': colors[2], 'alpha': 1,},\n",
    "            {'label': 'WGT igg=10 wgt_flux=2',\n",
    "             'srs': fmt_cool(ds_cool_wgt),\n",
    "             'line_dash': 'solid', 'line_width': 3,\n",
    "             'marker': 'square', 'marker_size': 5,\n",
    "             'color': colors[3], 'alpha': .6}]\n",
    "    return data\n",
    "\n",
    "\n",
    "def nice_xlims(pltdata=None, prange=None):\n",
    "    \n",
    "    def get_slice(srs):\n",
    "        return srs.sel(pressure=slice(*prange))\n",
    "    \n",
    "    srss = [d['srs'] for d in pltdata]\n",
    "    vmin = min([get_slice(srs).min() for srs in srss])\n",
    "    vmax = max([get_slice(srs).max() for srs in srss])\n",
    "    dv = (vmax - vmin) * .01\n",
    "    return float(vmin - dv), float(vmax + dv)\n",
    "    \n",
    "\n",
    "def plt_cooling_bokeh(pltdata=None):\n",
    "    '''\n",
    "    Plot a list of cooling rate profiles using bokeh.\n",
    "    '''\n",
    "    ymin = 1e-2 \n",
    "    ymax = 1020 \n",
    "        \n",
    "    p1 = figure(title=\"Linear pressure scale\", \n",
    "                plot_width=400)        \n",
    "    xmin, xmax = nice_xlims(pltdata, prange=(50, 1050))\n",
    "    for d in pltdata:\n",
    "        if 'marker' in d:\n",
    "            getattr(p1, d['marker'])(d['srs'].values, \n",
    "                    d['srs'].coords['pressure'].values,\n",
    "                    color=d['color'], alpha=.7)\n",
    "        p1.line(d['srs'].values, \n",
    "                d['srs'].coords['pressure'].values,\n",
    "                color=d['color'], alpha=d['alpha'], \n",
    "                line_width=d['line_width'], line_dash=d['line_dash'])\n",
    "    \n",
    "    p1.y_range = Range1d(ymax, ymin)\n",
    "    p1.yaxis.axis_label = 'pressure [mb]'   \n",
    "    p1.x_range = Range1d(xmin, xmax)\n",
    "    p1.xaxis.axis_label = 'cooling rate [K/day]'\n",
    "            \n",
    "    p2 = figure(title='Log pressure scale', y_axis_type='log',\n",
    "                plot_width=560)\n",
    "    xmin, xmax = nice_xlims(pltdata, prange=(.01, 200))\n",
    "    \n",
    "    rs = []\n",
    "    for d in pltdata:\n",
    "        rd = []\n",
    "        if 'marker' in d:\n",
    "            r_mark = getattr(p2, d['marker'])(d['srs'].values, \n",
    "                        d['srs'].coords['pressure'].values,\n",
    "                        color=d['color'], alpha=.7)\n",
    "            rd.append(r_mark)\n",
    "        r_line = p2.line(d['srs'].values, \n",
    "                    d['srs'].coords['pressure'].values,\n",
    "                    color=d['color'], alpha=d['alpha'], \n",
    "                    line_width=d['line_width'], line_dash=d['line_dash'])\n",
    "        rd.append(r_line)\n",
    "      \n",
    "        rs.append(rd)\n",
    "        \n",
    "    p2.y_range = Range1d(ymax, ymin)  \n",
    "    p2.yaxis.axis_label = 'pressure [mb]'\n",
    "    \n",
    "    p2.x_range = Range1d(xmin, xmax)\n",
    "    p2.xaxis.axis_label = 'cooling rate [K/day]'\n",
    "    \n",
    "    items = [(d['label'], r) for r, d in zip(rs, pltdata)]\n",
    "    legend = Legend(items=items, location=(10, -30))\n",
    "    legend.label_text_font_size = '8pt'\n",
    "    \n",
    "    p2.add_layout(legend, 'right')  \n",
    "    \n",
    "    show(gridplot(p1, p2, ncols=2, plot_height=500))\n",
    "    \n",
    "\n",
    "def script_plt_cooling():\n",
    "    pltdata = pltdata_cooling_1(\n",
    "        ds_cool=DS_COOL,\n",
    "        ds_cool_crd=DS_COOL_CRD,\n",
    "        ds_cool_wgt=DS_COOL_WGT)\n",
    "    plt_cooling_bokeh(pltdata=pltdata)\n",
    "    print('''FIGURE. Cooling rate profiles.''')"
   ]
  },
  {
   "cell_type": "code",
   "execution_count": 9,
   "metadata": {
    "collapsed": true
   },
   "outputs": [],
   "source": [
    "def fmt_flux(ds_in):\n",
    "    ds = ds_in.copy(deep=True)\n",
    "    \n",
    "    for l in ('level', 'layer'):\n",
    "        if l in ds.data_vars:\n",
    "            if len(ds[l].dims) > 1:\n",
    "                surface = {d: 0 for d in ds.dims if d != 'pressure'}\n",
    "                coord_level = ds[l][surface]\n",
    "                ds.coords[l] = ('pressure', coord_level)\n",
    "            else:\n",
    "                ds.coords[l] = ('pressure', ds[l])\n",
    "        \n",
    "    ds = ds.isel(pressure=[0, 23, -1])\n",
    "        \n",
    "    if 'igg' in ds.dims:\n",
    "        ds = ds.sel(igg=[1])\n",
    "        ds = ds.squeeze('igg').drop('igg')\n",
    "    \n",
    "    if 'g' in ds.dims:\n",
    "        ds = ds.sum('g')\n",
    "            \n",
    "    if 'band' in ds.dims:\n",
    "        try:\n",
    "            ds = ds.squeeze('band').drop('band')\n",
    "        except ValueError:\n",
    "            ds = ds.sum('band')\n",
    "                \n",
    "    df = ds.to_dataframe()\n",
    "    df = df.set_index('level', append=True)               \n",
    "    return df\n",
    "\n",
    "\n",
    "def tbdata_flux(ds_flux=None, ds_flux_crd=None, ds_flux_wgt=None):\n",
    "    ilevels = [0, 23, -1]\n",
    "            \n",
    "    benchmark = {'label': 'CRD',\n",
    "                 'df': fmt_flux(ds_flux_crd)}\n",
    "    \n",
    "    tbs = [{'label': 'WGT igg=10 wgt_flux=1',\n",
    "            'df': fmt_flux(ds_flux_wgt)},\n",
    "           {'label': 'CLIRAD',\n",
    "            'df': fmt_flux(ds_flux)}]\n",
    "    \n",
    "    data = {'benchmark': benchmark, 'others': tbs}\n",
    "    return data\n",
    "\n",
    "\n",
    "def tb_flux(tbdata=None):\n",
    "    benchmark = tbdata['benchmark']\n",
    "    others = tbdata['others']\n",
    "    \n",
    "    def show_tb(d=None):\n",
    "        display.display(d['df'])\n",
    "        print('Table.', 'Fluxes.', d['label'])\n",
    "        \n",
    "    def show_tbdiff(d0=None, d=None):\n",
    "        df = d['df']\n",
    "        df.index = d0['df'].index\n",
    "        display.display(df - d0['df'])\n",
    "        print('Table.', 'Fluxes.', \n",
    "              '({}) - ({})'.format(d['label'], d0['label']))\n",
    "        \n",
    "    show_tb(benchmark)\n",
    "    for d in others:\n",
    "        show_tb(d)\n",
    "        \n",
    "    for d in others:\n",
    "        show_tbdiff(d=d, d0=benchmark)\n",
    "        \n",
    "        \n",
    "def script_tb_flux():\n",
    "    data = tbdata_flux(ds_flux=DS_FLUX,\n",
    "                       ds_flux_crd=DS_FLUX_CRD,\n",
    "                       ds_flux_wgt=DS_FLUX_WGT)\n",
    "    tb_flux(tbdata=data)"
   ]
  },
  {
   "cell_type": "code",
   "execution_count": 10,
   "metadata": {
    "collapsed": true
   },
   "outputs": [],
   "source": [
    "def band_map():\n",
    "    '''\n",
    "    Maps spectral bands in lblnew to spectral bands in clirad.\n",
    "    '''\n",
    "    lblnew2clirad = {'1': '1',\n",
    "            '2': '2',\n",
    "            '3a': '3',\n",
    "            '3b': '4',\n",
    "            '3c': '5',\n",
    "            '4': '6', \n",
    "            '5': '7',\n",
    "            '6': '8',\n",
    "            '7': '9', \n",
    "            '8': '10',\n",
    "            '9': '11'}\n",
    "    \n",
    "    clirad2lblnew = {clirad: lblnew \n",
    "                     for lblnew, clirad in lblnew2clirad.items()}\n",
    "    return clirad2lblnew\n",
    "\n",
    "\n",
    "def gasbands():\n",
    "    bmap = band_map()\n",
    "    gases = list(PARAM['molecule'].keys())\n",
    "    \n",
    "    bands = [bmap[str(b)] for b in PARAM['band']]\n",
    "    return list(itertools.product(gases, bands))\n",
    "\n",
    "\n",
    "def print_bestfit_params():\n",
    "    print('Best-fit values for each (gas, band)')\n",
    "    print('------------------------------------')\n",
    "    for gas, band in gasbands():\n",
    "        print('o {} band{}'.format(gas, band))\n",
    "        param = bestfits.kdist_params(molecule=gas, band=band)\n",
    "        for name, value in sorted(param.items()):\n",
    "            print(2 * ' ' + '{} = {}'.format(name, value))\n",
    "\n",
    "        \n",
    "def print_input_param():        \n",
    "    for name, value in PARAM.items():\n",
    "        print('{} = {}'.format(name, value))\n",
    "        \n",
    "        \n",
    "def print_lblnew_param():\n",
    "    for name, value in sorted(PARAM_LBLNEW.items()):\n",
    "        print('{} = {}'.format(name, value))\n"
   ]
  },
  {
   "cell_type": "code",
   "execution_count": 11,
   "metadata": {
    "collapsed": true,
    "scrolled": false
   },
   "outputs": [],
   "source": [
    "def show_html(s):\n",
    "    display.display(display.HTML(s))\n",
    "\n",
    "    \n",
    "def show_markdown(s):\n",
    "    display.display(display.Markdown(s))\n",
    "\n",
    "    \n",
    "def script():\n",
    "    \n",
    "    title = '### CLIRAD-LW'\n",
    "    s_input = 'Input Parameters'\n",
    "    s_lblnew_param = 'LBLNEW case compaired against'\n",
    "    s_bestfits = 'Best-fit Parameters'\n",
    "    s_plt_cooling = 'Cooling Rate Profiles'\n",
    "    s_tb_flux = 'Flux Comparison'\n",
    "    \n",
    "    # title\n",
    "    show_markdown('### CLIRAD-LW')\n",
    "    \n",
    "    # TOC\n",
    "    show_markdown('### Table of Contents')\n",
    "    show_html(climahtml.getHTML_hrefanchor(s_input))\n",
    "    show_html(climahtml.getHTML_hrefanchor(s_lblnew_param))\n",
    "    show_html(climahtml.getHTML_hrefanchor(s_plt_cooling))\n",
    "    show_html(climahtml.getHTML_hrefanchor(s_tb_flux))\n",
    "    show_html(climahtml.getHTML_hrefanchor(s_bestfits))\n",
    "    \n",
    "    # Input parameters\n",
    "    show_html(climahtml.getHTML_idanchor(s_input))\n",
    "    show_markdown(climahtml.getMarkdown_sectitle(s_input))\n",
    "    print_input_param()\n",
    "    \n",
    "    # LBLNEW parameters \n",
    "    show_html(climahtml.getHTML_idanchor(s_lblnew_param))\n",
    "    show_markdown(climahtml.getMarkdown_sectitle(s_lblnew_param))\n",
    "    print_lblnew_param()\n",
    "    \n",
    "    # Cooling rate profiles\n",
    "    show_html(climahtml.getHTML_idanchor(s_plt_cooling))\n",
    "    show_markdown(climahtml.getMarkdown_sectitle(s_plt_cooling))\n",
    "    script_plt_cooling()\n",
    "    \n",
    "    # Flux comparison\n",
    "    show_html(climahtml.getHTML_idanchor(s_tb_flux))\n",
    "    show_markdown(climahtml.getMarkdown_sectitle(s_tb_flux))\n",
    "    script_tb_flux()\n",
    "    \n",
    "    # Best-fit values\n",
    "    show_html(climahtml.getHTML_idanchor(s_bestfits))\n",
    "    show_markdown(climahtml.getMarkdown_sectitle(s_bestfits))\n",
    "    print_bestfit_params()\n",
    "   \n",
    "    "
   ]
  },
  {
   "cell_type": "code",
   "execution_count": 12,
   "metadata": {
    "collapsed": true,
    "scrolled": false
   },
   "outputs": [
    {
     "data": {
      "text/markdown": [
       "### CLIRAD-LW"
      ],
      "text/plain": [
       "<IPython.core.display.Markdown object>"
      ]
     },
     "metadata": {},
     "output_type": "display_data"
    },
    {
     "data": {
      "text/markdown": [
       "### Table of Contents"
      ],
      "text/plain": [
       "<IPython.core.display.Markdown object>"
      ]
     },
     "metadata": {},
     "output_type": "display_data"
    },
    {
     "data": {
      "text/html": [
       "<a href=\"#Input_Parameters\">Input Parameters</a>"
      ],
      "text/plain": [
       "<IPython.core.display.HTML object>"
      ]
     },
     "metadata": {},
     "output_type": "display_data"
    },
    {
     "data": {
      "text/html": [
       "<a href=\"#LBLNEW_case_compaired_against\">LBLNEW case compaired against</a>"
      ],
      "text/plain": [
       "<IPython.core.display.HTML object>"
      ]
     },
     "metadata": {},
     "output_type": "display_data"
    },
    {
     "data": {
      "text/html": [
       "<a href=\"#Cooling_Rate_Profiles\">Cooling Rate Profiles</a>"
      ],
      "text/plain": [
       "<IPython.core.display.HTML object>"
      ]
     },
     "metadata": {},
     "output_type": "display_data"
    },
    {
     "data": {
      "text/html": [
       "<a href=\"#Flux_Comparison\">Flux Comparison</a>"
      ],
      "text/plain": [
       "<IPython.core.display.HTML object>"
      ]
     },
     "metadata": {},
     "output_type": "display_data"
    },
    {
     "data": {
      "text/html": [
       "<a href=\"#Best-fit_Parameters\">Best-fit Parameters</a>"
      ],
      "text/plain": [
       "<IPython.core.display.HTML object>"
      ]
     },
     "metadata": {},
     "output_type": "display_data"
    },
    {
     "data": {
      "text/html": [
       "<a id=\"Input_Parameters\"></a>"
      ],
      "text/plain": [
       "<IPython.core.display.HTML object>"
      ]
     },
     "metadata": {},
     "output_type": "display_data"
    },
    {
     "data": {
      "text/markdown": [
       "# Input Parameters"
      ],
      "text/plain": [
       "<IPython.core.display.Markdown object>"
      ]
     },
     "metadata": {},
     "output_type": "display_data"
    },
    {
     "name": "stdout",
     "output_type": "stream",
     "text": [
      "atmpro = saw\n",
      "band = [9]\n",
      "commitnumber = de5d43e\n",
      "molecule = {'ch4': 1.8e-06}\n",
      "tsfc = 257\n"
     ]
    },
    {
     "data": {
      "text/html": [
       "<a id=\"LBLNEW_case_compaired_against\"></a>"
      ],
      "text/plain": [
       "<IPython.core.display.HTML object>"
      ]
     },
     "metadata": {},
     "output_type": "display_data"
    },
    {
     "data": {
      "text/markdown": [
       "# LBLNEW case compaired against"
      ],
      "text/plain": [
       "<IPython.core.display.Markdown object>"
      ]
     },
     "metadata": {},
     "output_type": "display_data"
    },
    {
     "name": "stdout",
     "output_type": "stream",
     "text": [
      "atmpro = saw\n",
      "band = 7\n",
      "commitnumber = 5014a19\n",
      "conc = 1.8e-06\n",
      "dv = 0.001\n",
      "klin = 2e-21\n",
      "molecule = ch4\n",
      "ng_adju = [0, 0]\n",
      "ng_refs = [2, 3]\n",
      "nv = 1000\n",
      "option_compute_btable = 0\n",
      "option_compute_ktable = 0\n",
      "option_wgt_flux = 1\n",
      "option_wgt_k = 1\n",
      "ref_pts = [(1, 250), (500, 250)]\n",
      "tsfc = 257\n",
      "vmax = 1380\n",
      "vmin = 1215\n",
      "w_diffuse = [(1.66, 1.66), (1.66, 1.66, 1.66)]\n",
      "wgt = [(0.7, 0.7), (0.4, 0.6, 0.75)]\n"
     ]
    },
    {
     "data": {
      "text/html": [
       "<a id=\"Cooling_Rate_Profiles\"></a>"
      ],
      "text/plain": [
       "<IPython.core.display.HTML object>"
      ]
     },
     "metadata": {},
     "output_type": "display_data"
    },
    {
     "data": {
      "text/markdown": [
       "# Cooling Rate Profiles"
      ],
      "text/plain": [
       "<IPython.core.display.Markdown object>"
      ]
     },
     "metadata": {},
     "output_type": "display_data"
    },
    {
     "data": {
      "text/html": [
       "\n",
       "<div class=\"bk-root\">\n",
       "    <div class=\"bk-plotdiv\" id=\"cd89a32f-4e3f-4166-a5c0-88b6e86d1b8c\"></div>\n",
       "</div>"
      ]
     },
     "metadata": {},
     "output_type": "display_data"
    },
    {
     "data": {
      "application/javascript": [
       "(function(root) {\n",
       "  function embed_document(root) {\n",
       "    \n",
       "  var docs_json = {\"00ed9445-7ee7-4637-8b03-cf74011251f6\":{\"roots\":{\"references\":[{\"attributes\":{\"toolbar\":{\"id\":\"df12a253-7b3f-45c1-83e4-48ebdcefcded\",\"type\":\"ProxyToolbar\"},\"toolbar_location\":\"above\"},\"id\":\"6be604ce-220b-40c0-8147-fab460daf07b\",\"type\":\"ToolbarBox\"},{\"attributes\":{\"callback\":null,\"data\":{\"x\":{\"__ndarray__\":\"V2Fta48Hqb/dNiagltqmvx7JlvnPGaK/+RJQ/16smb8j7siQF12Mv0irr63lrlq/TjJ50NrXhz+qtQWLkKiaPwLI6gWISqU/KEt6BnfhrT/gRe3rsY6zP3SanfaogLg/Lai5Ju7CvT8OQ9QSZU7BP3nTJcp7KMM/anRBXL2zxD9O/KQcxDXGP3bEvvCMrsc/ABophKMeyT8je60ZU4/KPysLDWGI3ss/Ms5bTJ54yT8ZgUYjfsnCP+C0oeEbqrg/jc16cPhWrj8hGhqlBCqhPwx3XsUKAJE/I4/oJdSBgD9loHM+Spp3PyEPGd8rxHQ/qC01B2+kcD/MmRwfbsVlP7zpv1P0g2M/l5BkVcpLaz/+RihmF61vPzxH1GtCOHA/gt9kLsDkbT+a35If1vtjP9T/Xrc0MUc/PhNXD7nBT79wyt7GbUpmvwpL6jNIAnO/EkEOJhsRfL/VA5FGv52Dvwgapd5iZIq/62CD2ZLCjb+gCCZamcCKv1hSMFuZjYW/5IVFZBfOgL8uXZsmIGh4v/0YGfqlEm6/I5MJQOcjVb8Qk+qeoMRTP5QE+F1+T28/IQ0nKL7Mej8DIApAhR6DP0+1+hBy44g/nZvvDamVjj/e+pdBCAqSP1MAUrxGopQ/p14Dl9EMlz+rr2J8jkuZP/+goqg7aJs/MQyucs5znT8kQARXpIKfP9vyv8zf06A/8lLV9yb1oT89H1lRZxSjP9myBU/k86M/96giiRwqpD+8HwPug3CjP14H1oqZ8aE/Y5w2GCcUoD/gguNnYDqcP4PcrXsXLpg/\",\"dtype\":\"float64\",\"shape\":[75]},\"y\":{\"__ndarray__\":\"GhExyth1ND/Sv8nbtpRIP2vylNV0PVE/aTum7souWD/At0SJ8fVgPw3Iuahxymc/MSNhhJWvcD/bTfBN02d3P2zb5nxnaoA/CD5h5MAGhz8NmeH1TyaQP+zrCsc9p5Y/LbKd76fGnz/bLW5ISEmmPww9YvTcQq8/JV2OstnstT8Er5Y7M8G+P0c+r3jqkcU/5h99k6ZBzj88bCIzFzjVP4enV8oyxN0//yH99nXg5D8qOpLLf0jtP5kqGJXUifQ/c9cS8kHP/D+/DpwzojQEQIEmwoanVwxA4lgXt9HgE0BSSZ2AJuIbQAMJih9jjiNA5q4l5INuK0AwTKYKRj0zQNv5fmq8/DpAaCJseHrtQkB/+zpwzoxKQM3MzMzMeFJAZmZmZmZqWEAAAAAAAFxeQM3MzMzMJmJAmpmZmZkfZUBmZmZmZhhoQDMzMzMzEWtAAAAAAAAKbkBmZmZmZoFwQM3MzMzM/XFAMzMzMzN6c0CamZmZmfZ0QAAAAAAAc3ZAZmZmZmbvd0DNzMzMzGt5QDMzMzMz6HpAmpmZmZlkfEAAAAAAAOF9QGZmZmZmXX9AZmZmZuZsgECamZmZGSuBQM3MzMxM6YFAAAAAAICngkAzMzMzs2WDQGZmZmbmI4RAmpmZmRnihEDNzMzMTKCFQAAAAACAXoZAMzMzM7Mch0BmZmZm5tqHQJqZmZkZmYhAzczMzExXiUAAAAAAgBWKQDMzMzOz04pAZmZmZuaRi0CamZmZGVCMQM3MzMxMDo1AAAAAAIDMjUAzMzMzs4qOQGZmZmbmSI9A\",\"dtype\":\"float64\",\"shape\":[75]}},\"selected\":{\"id\":\"eae7b3e4-6c67-43e6-99c6-8f8cb79f034b\",\"type\":\"Selection\"},\"selection_policy\":{\"id\":\"81a9e0e4-8cc5-4a04-b79d-cbcfd0d68e46\",\"type\":\"UnionRenderers\"}},\"id\":\"e86bbbca-b8c3-4d3f-a39e-1bc4d4da17ac\",\"type\":\"ColumnDataSource\"},{\"attributes\":{\"children\":[{\"id\":\"6be604ce-220b-40c0-8147-fab460daf07b\",\"type\":\"ToolbarBox\"},{\"id\":\"8a286c84-a4a5-45d1-afad-5304115c3416\",\"type\":\"Column\"}]},\"id\":\"21c078e4-d6b8-4df3-a276-e82c787097f7\",\"type\":\"Column\"},{\"attributes\":{\"plot\":null,\"text\":\"Linear pressure scale\"},\"id\":\"0c03e299-eb17-4c84-87d2-86b886607cc0\",\"type\":\"Title\"},{\"attributes\":{\"axis_label\":\"cooling rate [K/day]\",\"formatter\":{\"id\":\"34f9dae7-4e28-49ad-8156-d6921e8b9d07\",\"type\":\"BasicTickFormatter\"},\"plot\":{\"id\":\"41f2c1d4-7cba-4f74-a948-49be5e517a5c\",\"subtype\":\"Figure\",\"type\":\"Plot\"},\"ticker\":{\"id\":\"4a0a8a29-adba-45fc-83f5-6f30c1a1d185\",\"type\":\"BasicTicker\"}},\"id\":\"85442708-7bb1-4465-8572-4862dc850edd\",\"type\":\"LinearAxis\"},{\"attributes\":{\"callback\":null,\"data\":{\"x\":{\"__ndarray__\":\"n/Bu7VbDlL/fFcuLQXKRv0gNiwEti4S/IF5l7atbYr+KCaiDJeh5P4sA4qZMKZA/CiutHk3Pmj+z7GnDtj+jP0b1mLAjoqk/dhztrsFGsD+I5WLlcwu0P/ACIdmgCbg/ujus3fVtvD8KWBik5ELAP72gdI8U5ME/0VMSX+lTwz/FBozTmMbEP1yXu5U/QMY/D7cHEDa+xz/OTh6TKkTJPxNe93Yjp8o/xKPMEuDoyD+n0qss4GzDPwRLNO5Snrs/sI0sDsmUsj/5H6oSbBKnP4NGiQpa/Zg/yIhuxjkkiD9hPTxdhol6P+w9gkPI33E/gxMLuuOBaT/P9k9XDYphPztVjcDJxmQ/q3Gw4zGWcD8TmoPd+VN0PyZqQYMQdnU/Mq18wIsYdD/8FDY8ttpsP2lSx19oTFg/MvDTMhGsRL+4dUkSW6lnvxg7rlRp8XW/5MmVCZ2hgL8oGRcEhyqHv/jVX0sCVI6/ASMlWJvjkL9yzxNIMu+Ov3ctlb4moIm/do2oEhN4hL9gv4QM+cx+v1O54H94jHS/cCCsQAkLZL9sM0X9fZUsPwMMBMGFZGg/zYOuRPzVdz/dIFe5mdeBP5HDeHlXyYc/b0PYe4+fjT/gaoxvv5+RPzmjU//zR5Q/AAY823jClj/Qg1wdUBOZPz9MNx56Qps/uL3HR+ZhnT9tuXPIjoGfPwz0VC102aA/k9fpr4n6oT+iPynRhRKjP8misfnm5aM/UdJTmTIXpD/z4zMgK2ijPx/zoP8JAKI/XQUaSs07oD/legZ+IL2cPwCPG96m+Jg/\",\"dtype\":\"float64\",\"shape\":[75]},\"y\":{\"__ndarray__\":\"GhExyth1ND/Sv8nbtpRIP2vylNV0PVE/aTum7souWD/At0SJ8fVgPw3Iuahxymc/MSNhhJWvcD/bTfBN02d3P2zb5nxnaoA/CD5h5MAGhz8NmeH1TyaQP+zrCsc9p5Y/LbKd76fGnz/bLW5ISEmmPww9YvTcQq8/JV2OstnstT8Er5Y7M8G+P0c+r3jqkcU/5h99k6ZBzj88bCIzFzjVP4enV8oyxN0//yH99nXg5D8qOpLLf0jtP5kqGJXUifQ/c9cS8kHP/D+/DpwzojQEQIEmwoanVwxA4lgXt9HgE0BSSZ2AJuIbQAMJih9jjiNA5q4l5INuK0AwTKYKRj0zQNv5fmq8/DpAaCJseHrtQkB/+zpwzoxKQM3MzMzMeFJAZmZmZmZqWEAAAAAAAFxeQM3MzMzMJmJAmpmZmZkfZUBmZmZmZhhoQDMzMzMzEWtAAAAAAAAKbkBmZmZmZoFwQM3MzMzM/XFAMzMzMzN6c0CamZmZmfZ0QAAAAAAAc3ZAZmZmZmbvd0DNzMzMzGt5QDMzMzMz6HpAmpmZmZlkfEAAAAAAAOF9QGZmZmZmXX9AZmZmZuZsgECamZmZGSuBQM3MzMxM6YFAAAAAAICngkAzMzMzs2WDQGZmZmbmI4RAmpmZmRnihEDNzMzMTKCFQAAAAACAXoZAMzMzM7Mch0BmZmZm5tqHQJqZmZkZmYhAzczMzExXiUAAAAAAgBWKQDMzMzOz04pAZmZmZuaRi0CamZmZGVCMQM3MzMxMDo1AAAAAAIDMjUAzMzMzs4qOQGZmZmbmSI9A\",\"dtype\":\"float64\",\"shape\":[75]}},\"selected\":{\"id\":\"3fcf1ac4-184f-408b-9198-e4514ccacea5\",\"type\":\"Selection\"},\"selection_policy\":{\"id\":\"8dc40578-0580-4f05-8223-d1ee3cbcd0b0\",\"type\":\"UnionRenderers\"}},\"id\":\"3cd66875-b1c0-4147-8052-59c33ba496c1\",\"type\":\"ColumnDataSource\"},{\"attributes\":{\"overlay\":{\"id\":\"84932307-131d-49ce-bebf-7bcd0b92cf60\",\"type\":\"BoxAnnotation\"}},\"id\":\"c9b2478e-4814-4a73-9d46-f1d4fa8913be\",\"type\":\"BoxZoomTool\"},{\"attributes\":{},\"id\":\"a964d10e-1e48-4011-a7e3-7689e18310a6\",\"type\":\"WheelZoomTool\"},{\"attributes\":{\"fill_alpha\":{\"value\":0.1},\"fill_color\":{\"value\":\"#1f77b4\"},\"line_alpha\":{\"value\":0.1},\"line_color\":{\"value\":\"#1f77b4\"},\"x\":{\"field\":\"x\"},\"y\":{\"field\":\"y\"}},\"id\":\"f1621ced-7670-4bad-ab7b-b18752888dc2\",\"type\":\"Circle\"},{\"attributes\":{\"bottom_units\":\"screen\",\"fill_alpha\":{\"value\":0.5},\"fill_color\":{\"value\":\"lightgrey\"},\"left_units\":\"screen\",\"level\":\"overlay\",\"line_alpha\":{\"value\":1.0},\"line_color\":{\"value\":\"black\"},\"line_dash\":[4,4],\"line_width\":{\"value\":2},\"plot\":null,\"render_mode\":\"css\",\"right_units\":\"screen\",\"top_units\":\"screen\"},\"id\":\"84932307-131d-49ce-bebf-7bcd0b92cf60\",\"type\":\"BoxAnnotation\"},{\"attributes\":{\"data_source\":{\"id\":\"842224c7-aba0-4e07-940a-ee237b35dd21\",\"type\":\"ColumnDataSource\"},\"glyph\":{\"id\":\"b62e9e6b-f315-4c83-8b61-9925a1ee3ee3\",\"type\":\"Circle\"},\"hover_glyph\":null,\"muted_glyph\":null,\"nonselection_glyph\":{\"id\":\"6ca8e223-096d-4686-9d64-5c2c5f1d8d6b\",\"type\":\"Circle\"},\"selection_glyph\":null,\"view\":{\"id\":\"65d93d93-9c68-43e3-999d-3eb8b9274480\",\"type\":\"CDSView\"}},\"id\":\"99754225-ecf3-46bf-8e01-cb2289c13779\",\"type\":\"GlyphRenderer\"},{\"attributes\":{\"fill_alpha\":{\"value\":0.7},\"fill_color\":{\"value\":\"#4daf4a\"},\"line_alpha\":{\"value\":0.7},\"line_color\":{\"value\":\"#4daf4a\"},\"x\":{\"field\":\"x\"},\"y\":{\"field\":\"y\"}},\"id\":\"b62e9e6b-f315-4c83-8b61-9925a1ee3ee3\",\"type\":\"Circle\"},{\"attributes\":{\"axis_label\":\"pressure [mb]\",\"formatter\":{\"id\":\"35774434-4634-4247-b0d1-eef360ee5019\",\"type\":\"BasicTickFormatter\"},\"plot\":{\"id\":\"41f2c1d4-7cba-4f74-a948-49be5e517a5c\",\"subtype\":\"Figure\",\"type\":\"Plot\"},\"ticker\":{\"id\":\"79ec0f3a-dbc3-47d1-be66-f835fdb56bce\",\"type\":\"BasicTicker\"}},\"id\":\"5b67b1ae-9a02-42a2-9ee7-ee807d747ffd\",\"type\":\"LinearAxis\"},{\"attributes\":{\"data_source\":{\"id\":\"5e97f762-564a-4721-a5c4-2d47b084a932\",\"type\":\"ColumnDataSource\"},\"glyph\":{\"id\":\"21e19b76-280c-491e-aa77-89b85b43ff89\",\"type\":\"Circle\"},\"hover_glyph\":null,\"muted_glyph\":null,\"nonselection_glyph\":{\"id\":\"f1621ced-7670-4bad-ab7b-b18752888dc2\",\"type\":\"Circle\"},\"selection_glyph\":null,\"view\":{\"id\":\"bdeb0517-f5bf-4f0b-9b9d-a4b55a6af8b4\",\"type\":\"CDSView\"}},\"id\":\"c0b7b8a1-de4c-4673-9d00-0f5ce9a86945\",\"type\":\"GlyphRenderer\"},{\"attributes\":{},\"id\":\"33fb3dc9-b479-44e2-9136-8b3c48c11639\",\"type\":\"PanTool\"},{\"attributes\":{},\"id\":\"4a0a8a29-adba-45fc-83f5-6f30c1a1d185\",\"type\":\"BasicTicker\"},{\"attributes\":{\"fill_alpha\":{\"value\":0.7},\"fill_color\":{\"value\":\"#4daf4a\"},\"line_alpha\":{\"value\":0.7},\"line_color\":{\"value\":\"#4daf4a\"},\"x\":{\"field\":\"x\"},\"y\":{\"field\":\"y\"}},\"id\":\"21e19b76-280c-491e-aa77-89b85b43ff89\",\"type\":\"Circle\"},{\"attributes\":{},\"id\":\"79ec0f3a-dbc3-47d1-be66-f835fdb56bce\",\"type\":\"BasicTicker\"},{\"attributes\":{\"line_color\":\"#4daf4a\",\"line_width\":1.5,\"x\":{\"field\":\"x\"},\"y\":{\"field\":\"y\"}},\"id\":\"f911af57-2e80-433a-927d-576740c3bf74\",\"type\":\"Line\"},{\"attributes\":{\"dimension\":1,\"plot\":{\"id\":\"41f2c1d4-7cba-4f74-a948-49be5e517a5c\",\"subtype\":\"Figure\",\"type\":\"Plot\"},\"ticker\":{\"id\":\"79ec0f3a-dbc3-47d1-be66-f835fdb56bce\",\"type\":\"BasicTicker\"}},\"id\":\"7268eeed-079d-479f-876f-00d44ee33c12\",\"type\":\"Grid\"},{\"attributes\":{\"plot\":{\"id\":\"41f2c1d4-7cba-4f74-a948-49be5e517a5c\",\"subtype\":\"Figure\",\"type\":\"Plot\"},\"ticker\":{\"id\":\"4a0a8a29-adba-45fc-83f5-6f30c1a1d185\",\"type\":\"BasicTicker\"}},\"id\":\"f140551c-ca83-4486-985b-ae882e4200bb\",\"type\":\"Grid\"},{\"attributes\":{},\"id\":\"d268f297-f68f-41c2-b473-fe4d21d538c3\",\"type\":\"SaveTool\"},{\"attributes\":{\"data_source\":{\"id\":\"ce7915f7-d415-472a-a8ef-a8b992788d63\",\"type\":\"ColumnDataSource\"},\"glyph\":{\"id\":\"e822b7b5-79b3-4643-a6f6-5c274ba771c6\",\"type\":\"Line\"},\"hover_glyph\":null,\"muted_glyph\":null,\"nonselection_glyph\":{\"id\":\"cd95cc3e-8d08-4115-82bc-93bd703d1813\",\"type\":\"Line\"},\"selection_glyph\":null,\"view\":{\"id\":\"2aa19933-9183-4c95-a198-717d389add22\",\"type\":\"CDSView\"}},\"id\":\"ad4db914-178e-4e3a-9c94-cd1d265bd904\",\"type\":\"GlyphRenderer\"},{\"attributes\":{\"data_source\":{\"id\":\"92a939ea-4cd9-419c-a743-ef622c9908b2\",\"type\":\"ColumnDataSource\"},\"glyph\":{\"id\":\"1dbd841b-7030-4862-8926-8b73733165b7\",\"type\":\"Line\"},\"hover_glyph\":null,\"muted_glyph\":null,\"nonselection_glyph\":{\"id\":\"b0971fd5-efaf-4030-81a3-24cc57f92249\",\"type\":\"Line\"},\"selection_glyph\":null,\"view\":{\"id\":\"1ec2d16d-8dcc-4a9e-8737-a28ebdde19d5\",\"type\":\"CDSView\"}},\"id\":\"40e10578-4c92-48b7-8a1c-c4bf7f518975\",\"type\":\"GlyphRenderer\"},{\"attributes\":{},\"id\":\"e0a31448-ca16-402b-8053-2c1f322de63c\",\"type\":\"ResetTool\"},{\"attributes\":{\"callback\":null,\"data\":{\"x\":{\"__ndarray__\":\"V2Fta48Hqb/dNiagltqmvx7JlvnPGaK/+RJQ/16smb8j7siQF12Mv0irr63lrlq/TjJ50NrXhz+qtQWLkKiaPwLI6gWISqU/KEt6BnfhrT/gRe3rsY6zP3SanfaogLg/Lai5Ju7CvT8OQ9QSZU7BP3nTJcp7KMM/anRBXL2zxD9O/KQcxDXGP3bEvvCMrsc/ABophKMeyT8je60ZU4/KPysLDWGI3ss/Ms5bTJ54yT8ZgUYjfsnCP+C0oeEbqrg/jc16cPhWrj8hGhqlBCqhPwx3XsUKAJE/I4/oJdSBgD9loHM+Spp3PyEPGd8rxHQ/qC01B2+kcD/MmRwfbsVlP7zpv1P0g2M/l5BkVcpLaz/+RihmF61vPzxH1GtCOHA/gt9kLsDkbT+a35If1vtjP9T/Xrc0MUc/PhNXD7nBT79wyt7GbUpmvwpL6jNIAnO/EkEOJhsRfL/VA5FGv52Dvwgapd5iZIq/62CD2ZLCjb+gCCZamcCKv1hSMFuZjYW/5IVFZBfOgL8uXZsmIGh4v/0YGfqlEm6/I5MJQOcjVb8Qk+qeoMRTP5QE+F1+T28/IQ0nKL7Mej8DIApAhR6DP0+1+hBy44g/nZvvDamVjj/e+pdBCAqSP1MAUrxGopQ/p14Dl9EMlz+rr2J8jkuZP/+goqg7aJs/MQyucs5znT8kQARXpIKfP9vyv8zf06A/8lLV9yb1oT89H1lRZxSjP9myBU/k86M/96giiRwqpD+8HwPug3CjP14H1oqZ8aE/Y5w2GCcUoD/gguNnYDqcP4PcrXsXLpg/\",\"dtype\":\"float64\",\"shape\":[75]},\"y\":{\"__ndarray__\":\"GhExyth1ND/Sv8nbtpRIP2vylNV0PVE/aTum7souWD/At0SJ8fVgPw3Iuahxymc/MSNhhJWvcD/bTfBN02d3P2zb5nxnaoA/CD5h5MAGhz8NmeH1TyaQP+zrCsc9p5Y/LbKd76fGnz/bLW5ISEmmPww9YvTcQq8/JV2OstnstT8Er5Y7M8G+P0c+r3jqkcU/5h99k6ZBzj88bCIzFzjVP4enV8oyxN0//yH99nXg5D8qOpLLf0jtP5kqGJXUifQ/c9cS8kHP/D+/DpwzojQEQIEmwoanVwxA4lgXt9HgE0BSSZ2AJuIbQAMJih9jjiNA5q4l5INuK0AwTKYKRj0zQNv5fmq8/DpAaCJseHrtQkB/+zpwzoxKQM3MzMzMeFJAZmZmZmZqWEAAAAAAAFxeQM3MzMzMJmJAmpmZmZkfZUBmZmZmZhhoQDMzMzMzEWtAAAAAAAAKbkBmZmZmZoFwQM3MzMzM/XFAMzMzMzN6c0CamZmZmfZ0QAAAAAAAc3ZAZmZmZmbvd0DNzMzMzGt5QDMzMzMz6HpAmpmZmZlkfEAAAAAAAOF9QGZmZmZmXX9AZmZmZuZsgECamZmZGSuBQM3MzMxM6YFAAAAAAICngkAzMzMzs2WDQGZmZmbmI4RAmpmZmRnihEDNzMzMTKCFQAAAAACAXoZAMzMzM7Mch0BmZmZm5tqHQJqZmZkZmYhAzczMzExXiUAAAAAAgBWKQDMzMzOz04pAZmZmZuaRi0CamZmZGVCMQM3MzMxMDo1AAAAAAIDMjUAzMzMzs4qOQGZmZmbmSI9A\",\"dtype\":\"float64\",\"shape\":[75]}},\"selected\":{\"id\":\"5854fbc6-8d74-4ce2-8c9f-21b0912e23eb\",\"type\":\"Selection\"},\"selection_policy\":{\"id\":\"f118b1ba-655e-4d3b-a147-74a057919970\",\"type\":\"UnionRenderers\"}},\"id\":\"5e97f762-564a-4721-a5c4-2d47b084a932\",\"type\":\"ColumnDataSource\"},{\"attributes\":{\"callback\":null,\"data\":{\"x\":{\"__ndarray__\":\"KKpLRo2CgL//3BSymn52v0ROyiG81kI/skt0WNFGfT+YFIeCBW+NPxArYixh2pY/DYT1Y7nDnz9G9m4XjcGkP/CtowXDFKo/idGjRHPmrz9a5EtmxB6zP19KUAiMkbY/qpHpEgZMuj/hriSavNi9PwdeDGl9X8A/e4NQWo+twT8ZQxBSfQjDP/Z4xmOrcMQ/GEmzYH/lxT/mSPzE4GXHP6yIgUtTxsg/cYpUOWlxxz/ilJjrXdHCPwSikgBWw7s/oEje1mlmsz/YFXyYkuyoPy/4498vsps/88yYcFISij9ySuWSTzR4PzOP9XWdpGk/Fm+r84QyYD8B71Zya9RXPygopeZCk2I/sCeXjalXcD8MfqnDtG10P9Jcai5+7XU/2WgTwIELdT9pz6OpMAtwP6wYV+mhh2A/6yYSg+M1Ab/JbJ+9kt5iv79Hm/B06nO/kjTvoCi8f7/o8ZfwLaeGvxGK3dl/5o2/yvLlbbu8kL+xXgrkGQGPv/e+3Bod/4m/cdE48ETyhL8hQhL1f+B/v0JY0rDtq3W/bkmSEHpwZr/ysg6hTbQYvyokbMJ1gWU/+3eS77g6dj9jjtnqVvWAP5PQnS0O0YY/YOsk6wiRjD8aMet5wgiRP/k+H9zSp5M/SG8J19salj+Ywso7Y2yYP7hPh0hfnpo/7IoMt+vBnD+ATcl+heieP0JpHKhbj6A/wG6UmSuzoT/QH6ejdM2iP7hsyM3dn6M/3Hakcd3Roz9/Z3GCEyqjPzGXKe3azKE/E5Fkzf0SoD+MvD/t1oOcP0OShD0g4pg/\",\"dtype\":\"float64\",\"shape\":[75]},\"y\":{\"__ndarray__\":\"S/O/Q+51ND/Sv8nbtpRIP2vylNV0PVE/aTum7souWD/At0SJ8fVgPw3Iuahxymc/MSNhhJWvcD/bTfBN02d3P2zb5nxnaoA/CD5h5MAGhz8NmeH1TyaQP+zrCsc9p5Y/LbKd76fGnz/bLW5ISEmmPww9YvTcQq8/JV2OstnstT8Er5Y7M8G+P0c+r3jqkcU/5h99k6ZBzj88bCIzFzjVP4enV8oyxN0//yH99nXg5D8qOpLLf0jtP5kqGJXUifQ/c9cS8kHP/D+/DpwzojQEQIEmwoanVwxA4lgXt9HgE0BSSZ2AJuIbQAMJih9jjiNA5q4l5INuK0AwTKYKRj0zQNv5fmq8/DpAaCJseHrtQkB/+zpwzoxKQM3MzMzMeFJAZmZmZmZqWEAAAAAAAFxeQM3MzMzMJmJAmpmZmZkfZUBmZmZmZhhoQDMzMzMzEWtAAAAAAAAKbkBmZmZmZoFwQM3MzMzM/XFAMzMzMzN6c0CamZmZmfZ0QAAAAAAAc3ZAZmZmZmbvd0DNzMzMzGt5QDMzMzMz6HpAmpmZmZlkfEAAAAAAAOF9QGZmZmZmXX9AZmZmZuZsgECamZmZGSuBQM3MzMxM6YFAAAAAAICngkAzMzMzs2WDQGZmZmbmI4RAmpmZmRnihEDNzMzMTKCFQAAAAACAXoZAMzMzM7Mch0BmZmZm5tqHQJqZmZkZmYhAzczMzExXiUAAAAAAgBWKQDMzMzOz04pAZmZmZuaRi0CamZmZGVCMQM3MzMxMDo1AAAAAAIDMjUAzMzMzs4qOQGZmZmbmSI9A\",\"dtype\":\"float64\",\"shape\":[75]}},\"selected\":{\"id\":\"43f43373-4b7d-4893-a018-0affb4e7f502\",\"type\":\"Selection\"},\"selection_policy\":{\"id\":\"9cfd9f3c-f118-4ba8-b08b-2eaf924c57ca\",\"type\":\"UnionRenderers\"}},\"id\":\"92a939ea-4cd9-419c-a743-ef622c9908b2\",\"type\":\"ColumnDataSource\"},{\"attributes\":{\"line_alpha\":0.1,\"line_color\":\"#1f77b4\",\"line_dash\":[6],\"line_width\":5,\"x\":{\"field\":\"x\"},\"y\":{\"field\":\"y\"}},\"id\":\"cd95cc3e-8d08-4115-82bc-93bd703d1813\",\"type\":\"Line\"},{\"attributes\":{\"source\":{\"id\":\"5e97f762-564a-4721-a5c4-2d47b084a932\",\"type\":\"ColumnDataSource\"}},\"id\":\"bdeb0517-f5bf-4f0b-9b9d-a4b55a6af8b4\",\"type\":\"CDSView\"},{\"attributes\":{\"source\":{\"id\":\"92a939ea-4cd9-419c-a743-ef622c9908b2\",\"type\":\"ColumnDataSource\"}},\"id\":\"1ec2d16d-8dcc-4a9e-8737-a28ebdde19d5\",\"type\":\"CDSView\"},{\"attributes\":{},\"id\":\"bb8a9ed3-9a53-44ee-92bb-2b77ecf19364\",\"type\":\"HelpTool\"},{\"attributes\":{\"source\":{\"id\":\"ce7915f7-d415-472a-a8ef-a8b992788d63\",\"type\":\"ColumnDataSource\"}},\"id\":\"2aa19933-9183-4c95-a198-717d389add22\",\"type\":\"CDSView\"},{\"attributes\":{\"callback\":null,\"end\":0.01,\"start\":1020},\"id\":\"f4a6341a-cd32-4361-9068-5a194eb6b68a\",\"type\":\"Range1d\"},{\"attributes\":{\"line_alpha\":0.1,\"line_color\":\"#1f77b4\",\"line_width\":1.5,\"x\":{\"field\":\"x\"},\"y\":{\"field\":\"y\"}},\"id\":\"8f072001-0d6b-4b54-8afc-b10579e10eca\",\"type\":\"Line\"},{\"attributes\":{\"data_source\":{\"id\":\"e86bbbca-b8c3-4d3f-a39e-1bc4d4da17ac\",\"type\":\"ColumnDataSource\"},\"glyph\":{\"id\":\"f911af57-2e80-433a-927d-576740c3bf74\",\"type\":\"Line\"},\"hover_glyph\":null,\"muted_glyph\":null,\"nonselection_glyph\":{\"id\":\"8f072001-0d6b-4b54-8afc-b10579e10eca\",\"type\":\"Line\"},\"selection_glyph\":null,\"view\":{\"id\":\"965cb191-d385-4ec4-b612-abff980baa9a\",\"type\":\"CDSView\"}},\"id\":\"6636ec53-70c6-44c4-ab65-2022ecafb484\",\"type\":\"GlyphRenderer\"},{\"attributes\":{\"source\":{\"id\":\"e86bbbca-b8c3-4d3f-a39e-1bc4d4da17ac\",\"type\":\"ColumnDataSource\"}},\"id\":\"965cb191-d385-4ec4-b612-abff980baa9a\",\"type\":\"CDSView\"},{\"attributes\":{\"fill_alpha\":{\"value\":0.7},\"fill_color\":{\"value\":\"#984ea3\"},\"line_alpha\":{\"value\":0.7},\"line_color\":{\"value\":\"#984ea3\"},\"x\":{\"field\":\"x\"},\"y\":{\"field\":\"y\"}},\"id\":\"3227cc6c-8f89-4847-8a30-7c551617347a\",\"type\":\"Square\"},{\"attributes\":{\"callback\":null,\"data\":{\"x\":{\"__ndarray__\":\"n/Bu7VbDlL/fFcuLQXKRv0gNiwEti4S/IF5l7atbYr+KCaiDJeh5P4sA4qZMKZA/CiutHk3Pmj+z7GnDtj+jP0b1mLAjoqk/dhztrsFGsD+I5WLlcwu0P/ACIdmgCbg/ujus3fVtvD8KWBik5ELAP72gdI8U5ME/0VMSX+lTwz/FBozTmMbEP1yXu5U/QMY/D7cHEDa+xz/OTh6TKkTJPxNe93Yjp8o/xKPMEuDoyD+n0qss4GzDPwRLNO5Snrs/sI0sDsmUsj/5H6oSbBKnP4NGiQpa/Zg/yIhuxjkkiD9hPTxdhol6P+w9gkPI33E/gxMLuuOBaT/P9k9XDYphPztVjcDJxmQ/q3Gw4zGWcD8TmoPd+VN0PyZqQYMQdnU/Mq18wIsYdD/8FDY8ttpsP2lSx19oTFg/MvDTMhGsRL+4dUkSW6lnvxg7rlRp8XW/5MmVCZ2hgL8oGRcEhyqHv/jVX0sCVI6/ASMlWJvjkL9yzxNIMu+Ov3ctlb4moIm/do2oEhN4hL9gv4QM+cx+v1O54H94jHS/cCCsQAkLZL9sM0X9fZUsPwMMBMGFZGg/zYOuRPzVdz/dIFe5mdeBP5HDeHlXyYc/b0PYe4+fjT/gaoxvv5+RPzmjU//zR5Q/AAY823jClj/Qg1wdUBOZPz9MNx56Qps/uL3HR+ZhnT9tuXPIjoGfPwz0VC102aA/k9fpr4n6oT+iPynRhRKjP8misfnm5aM/UdJTmTIXpD/z4zMgK2ijPx/zoP8JAKI/XQUaSs07oD/legZ+IL2cPwCPG96m+Jg/\",\"dtype\":\"float64\",\"shape\":[75]},\"y\":{\"__ndarray__\":\"GhExyth1ND/Sv8nbtpRIP2vylNV0PVE/aTum7souWD/At0SJ8fVgPw3Iuahxymc/MSNhhJWvcD/bTfBN02d3P2zb5nxnaoA/CD5h5MAGhz8NmeH1TyaQP+zrCsc9p5Y/LbKd76fGnz/bLW5ISEmmPww9YvTcQq8/JV2OstnstT8Er5Y7M8G+P0c+r3jqkcU/5h99k6ZBzj88bCIzFzjVP4enV8oyxN0//yH99nXg5D8qOpLLf0jtP5kqGJXUifQ/c9cS8kHP/D+/DpwzojQEQIEmwoanVwxA4lgXt9HgE0BSSZ2AJuIbQAMJih9jjiNA5q4l5INuK0AwTKYKRj0zQNv5fmq8/DpAaCJseHrtQkB/+zpwzoxKQM3MzMzMeFJAZmZmZmZqWEAAAAAAAFxeQM3MzMzMJmJAmpmZmZkfZUBmZmZmZhhoQDMzMzMzEWtAAAAAAAAKbkBmZmZmZoFwQM3MzMzM/XFAMzMzMzN6c0CamZmZmfZ0QAAAAAAAc3ZAZmZmZmbvd0DNzMzMzGt5QDMzMzMz6HpAmpmZmZlkfEAAAAAAAOF9QGZmZmZmXX9AZmZmZuZsgECamZmZGSuBQM3MzMxM6YFAAAAAAICngkAzMzMzs2WDQGZmZmbmI4RAmpmZmRnihEDNzMzMTKCFQAAAAACAXoZAMzMzM7Mch0BmZmZm5tqHQJqZmZkZmYhAzczMzExXiUAAAAAAgBWKQDMzMzOz04pAZmZmZuaRi0CamZmZGVCMQM3MzMxMDo1AAAAAAIDMjUAzMzMzs4qOQGZmZmbmSI9A\",\"dtype\":\"float64\",\"shape\":[75]}},\"selected\":{\"id\":\"c3b3f770-e5fd-467b-b9d5-ee4d728c42f2\",\"type\":\"Selection\"},\"selection_policy\":{\"id\":\"3e93d73c-6a49-46b6-a77e-c1b9e05383af\",\"type\":\"UnionRenderers\"}},\"id\":\"4a89776e-71aa-4ce0-9255-e61e9cf88fa8\",\"type\":\"ColumnDataSource\"},{\"attributes\":{\"fill_alpha\":{\"value\":0.1},\"fill_color\":{\"value\":\"#1f77b4\"},\"line_alpha\":{\"value\":0.1},\"line_color\":{\"value\":\"#1f77b4\"},\"x\":{\"field\":\"x\"},\"y\":{\"field\":\"y\"}},\"id\":\"523741da-7db6-4d12-bab9-30cad410325e\",\"type\":\"Square\"},{\"attributes\":{\"data_source\":{\"id\":\"3cd66875-b1c0-4147-8052-59c33ba496c1\",\"type\":\"ColumnDataSource\"},\"glyph\":{\"id\":\"3227cc6c-8f89-4847-8a30-7c551617347a\",\"type\":\"Square\"},\"hover_glyph\":null,\"muted_glyph\":null,\"nonselection_glyph\":{\"id\":\"523741da-7db6-4d12-bab9-30cad410325e\",\"type\":\"Square\"},\"selection_glyph\":null,\"view\":{\"id\":\"49c56d53-ad81-4fa2-829b-102fa07f6c00\",\"type\":\"CDSView\"}},\"id\":\"881aa8ee-8f7a-4740-8609-9f0f21da3661\",\"type\":\"GlyphRenderer\"},{\"attributes\":{\"line_alpha\":0.6,\"line_color\":\"#e41a1c\",\"line_dash\":[6],\"line_width\":5,\"x\":{\"field\":\"x\"},\"y\":{\"field\":\"y\"}},\"id\":\"1dbd841b-7030-4862-8926-8b73733165b7\",\"type\":\"Line\"},{\"attributes\":{\"source\":{\"id\":\"3cd66875-b1c0-4147-8052-59c33ba496c1\",\"type\":\"ColumnDataSource\"}},\"id\":\"49c56d53-ad81-4fa2-829b-102fa07f6c00\",\"type\":\"CDSView\"},{\"attributes\":{},\"id\":\"34f9dae7-4e28-49ad-8156-d6921e8b9d07\",\"type\":\"BasicTickFormatter\"},{\"attributes\":{\"label\":{\"value\":\"CLIRAD `coolr_bands`\"},\"renderers\":[{\"id\":\"ad4db914-178e-4e3a-9c94-cd1d265bd904\",\"type\":\"GlyphRenderer\"}]},\"id\":\"ccdbee7c-2039-4cdc-b2a6-6e3c12a6cf9e\",\"type\":\"LegendItem\"},{\"attributes\":{\"below\":[{\"id\":\"85442708-7bb1-4465-8572-4862dc850edd\",\"type\":\"LinearAxis\"}],\"left\":[{\"id\":\"5b67b1ae-9a02-42a2-9ee7-ee807d747ffd\",\"type\":\"LinearAxis\"}],\"plot_height\":500,\"plot_width\":400,\"renderers\":[{\"id\":\"85442708-7bb1-4465-8572-4862dc850edd\",\"type\":\"LinearAxis\"},{\"id\":\"f140551c-ca83-4486-985b-ae882e4200bb\",\"type\":\"Grid\"},{\"id\":\"5b67b1ae-9a02-42a2-9ee7-ee807d747ffd\",\"type\":\"LinearAxis\"},{\"id\":\"7268eeed-079d-479f-876f-00d44ee33c12\",\"type\":\"Grid\"},{\"id\":\"84932307-131d-49ce-bebf-7bcd0b92cf60\",\"type\":\"BoxAnnotation\"},{\"id\":\"40e10578-4c92-48b7-8a1c-c4bf7f518975\",\"type\":\"GlyphRenderer\"},{\"id\":\"99754225-ecf3-46bf-8e01-cb2289c13779\",\"type\":\"GlyphRenderer\"},{\"id\":\"e5ecdb9d-6011-4405-85d1-3fa5c2856d7c\",\"type\":\"GlyphRenderer\"},{\"id\":\"0c883ad3-5c64-4457-ab5a-3ddab41f642f\",\"type\":\"GlyphRenderer\"},{\"id\":\"7546545b-8f9a-4d1f-aaa2-7e236ed5a714\",\"type\":\"GlyphRenderer\"}],\"title\":{\"id\":\"0c03e299-eb17-4c84-87d2-86b886607cc0\",\"type\":\"Title\"},\"toolbar\":{\"id\":\"2dfbc90b-ab85-4dec-8137-9eebcfec424e\",\"type\":\"Toolbar\"},\"toolbar_location\":null,\"x_range\":{\"id\":\"86fea24b-1f74-476e-acaf-2e56d9f20293\",\"type\":\"Range1d\"},\"x_scale\":{\"id\":\"e5d307a1-ef90-43b1-8393-49d52aee40d2\",\"type\":\"LinearScale\"},\"y_range\":{\"id\":\"f4a6341a-cd32-4361-9068-5a194eb6b68a\",\"type\":\"Range1d\"},\"y_scale\":{\"id\":\"53dced1e-0f25-471a-ae18-9b9b6382e90b\",\"type\":\"LinearScale\"}},\"id\":\"41f2c1d4-7cba-4f74-a948-49be5e517a5c\",\"subtype\":\"Figure\",\"type\":\"Plot\"},{\"attributes\":{},\"id\":\"35774434-4634-4247-b0d1-eef360ee5019\",\"type\":\"BasicTickFormatter\"},{\"attributes\":{\"label\":{\"value\":\"CRD\"},\"renderers\":[{\"id\":\"c0b7b8a1-de4c-4673-9d00-0f5ce9a86945\",\"type\":\"GlyphRenderer\"},{\"id\":\"6636ec53-70c6-44c4-ab65-2022ecafb484\",\"type\":\"GlyphRenderer\"}]},\"id\":\"23e7a45f-fd11-4a14-9f41-b09df1447ee4\",\"type\":\"LegendItem\"},{\"attributes\":{},\"id\":\"9b1781dc-1374-4e5f-b659-44d5bbb97ef1\",\"type\":\"Selection\"},{\"attributes\":{\"label\":{\"value\":\"WGT igg=10 wgt_flux=2\"},\"renderers\":[{\"id\":\"881aa8ee-8f7a-4740-8609-9f0f21da3661\",\"type\":\"GlyphRenderer\"},{\"id\":\"c313a6e8-28aa-4d5a-b186-de9c29e81a39\",\"type\":\"GlyphRenderer\"}]},\"id\":\"ea443222-b025-497b-8856-7cb2d6a5f30a\",\"type\":\"LegendItem\"},{\"attributes\":{},\"id\":\"53dced1e-0f25-471a-ae18-9b9b6382e90b\",\"type\":\"LinearScale\"},{\"attributes\":{},\"id\":\"9cfd9f3c-f118-4ba8-b08b-2eaf924c57ca\",\"type\":\"UnionRenderers\"},{\"attributes\":{},\"id\":\"43f43373-4b7d-4893-a018-0affb4e7f502\",\"type\":\"Selection\"},{\"attributes\":{},\"id\":\"a3a517fd-8dca-4537-9496-fea2844f2a7e\",\"type\":\"UnionRenderers\"},{\"attributes\":{\"callback\":null,\"data\":{\"x\":{\"__ndarray__\":\"V2Fta48Hqb/dNiagltqmvx7JlvnPGaK/+RJQ/16smb8j7siQF12Mv0irr63lrlq/TjJ50NrXhz+qtQWLkKiaPwLI6gWISqU/KEt6BnfhrT/gRe3rsY6zP3SanfaogLg/Lai5Ju7CvT8OQ9QSZU7BP3nTJcp7KMM/anRBXL2zxD9O/KQcxDXGP3bEvvCMrsc/ABophKMeyT8je60ZU4/KPysLDWGI3ss/Ms5bTJ54yT8ZgUYjfsnCP+C0oeEbqrg/jc16cPhWrj8hGhqlBCqhPwx3XsUKAJE/I4/oJdSBgD9loHM+Spp3PyEPGd8rxHQ/qC01B2+kcD/MmRwfbsVlP7zpv1P0g2M/l5BkVcpLaz/+RihmF61vPzxH1GtCOHA/gt9kLsDkbT+a35If1vtjP9T/Xrc0MUc/PhNXD7nBT79wyt7GbUpmvwpL6jNIAnO/EkEOJhsRfL/VA5FGv52Dvwgapd5iZIq/62CD2ZLCjb+gCCZamcCKv1hSMFuZjYW/5IVFZBfOgL8uXZsmIGh4v/0YGfqlEm6/I5MJQOcjVb8Qk+qeoMRTP5QE+F1+T28/IQ0nKL7Mej8DIApAhR6DP0+1+hBy44g/nZvvDamVjj/e+pdBCAqSP1MAUrxGopQ/p14Dl9EMlz+rr2J8jkuZP/+goqg7aJs/MQyucs5znT8kQARXpIKfP9vyv8zf06A/8lLV9yb1oT89H1lRZxSjP9myBU/k86M/96giiRwqpD+8HwPug3CjP14H1oqZ8aE/Y5w2GCcUoD/gguNnYDqcP4PcrXsXLpg/\",\"dtype\":\"float64\",\"shape\":[75]},\"y\":{\"__ndarray__\":\"GhExyth1ND/Sv8nbtpRIP2vylNV0PVE/aTum7souWD/At0SJ8fVgPw3Iuahxymc/MSNhhJWvcD/bTfBN02d3P2zb5nxnaoA/CD5h5MAGhz8NmeH1TyaQP+zrCsc9p5Y/LbKd76fGnz/bLW5ISEmmPww9YvTcQq8/JV2OstnstT8Er5Y7M8G+P0c+r3jqkcU/5h99k6ZBzj88bCIzFzjVP4enV8oyxN0//yH99nXg5D8qOpLLf0jtP5kqGJXUifQ/c9cS8kHP/D+/DpwzojQEQIEmwoanVwxA4lgXt9HgE0BSSZ2AJuIbQAMJih9jjiNA5q4l5INuK0AwTKYKRj0zQNv5fmq8/DpAaCJseHrtQkB/+zpwzoxKQM3MzMzMeFJAZmZmZmZqWEAAAAAAAFxeQM3MzMzMJmJAmpmZmZkfZUBmZmZmZhhoQDMzMzMzEWtAAAAAAAAKbkBmZmZmZoFwQM3MzMzM/XFAMzMzMzN6c0CamZmZmfZ0QAAAAAAAc3ZAZmZmZmbvd0DNzMzMzGt5QDMzMzMz6HpAmpmZmZlkfEAAAAAAAOF9QGZmZmZmXX9AZmZmZuZsgECamZmZGSuBQM3MzMxM6YFAAAAAAICngkAzMzMzs2WDQGZmZmbmI4RAmpmZmRnihEDNzMzMTKCFQAAAAACAXoZAMzMzM7Mch0BmZmZm5tqHQJqZmZkZmYhAzczMzExXiUAAAAAAgBWKQDMzMzOz04pAZmZmZuaRi0CamZmZGVCMQM3MzMxMDo1AAAAAAIDMjUAzMzMzs4qOQGZmZmbmSI9A\",\"dtype\":\"float64\",\"shape\":[75]}},\"selected\":{\"id\":\"9b1781dc-1374-4e5f-b659-44d5bbb97ef1\",\"type\":\"Selection\"},\"selection_policy\":{\"id\":\"a3a517fd-8dca-4537-9496-fea2844f2a7e\",\"type\":\"UnionRenderers\"}},\"id\":\"842224c7-aba0-4e07-940a-ee237b35dd21\",\"type\":\"ColumnDataSource\"},{\"attributes\":{},\"id\":\"e69942d1-b308-40bf-94a3-f1639376e980\",\"type\":\"Selection\"},{\"attributes\":{\"below\":[{\"id\":\"e4f24021-3195-4eb2-9454-d0312aec990d\",\"type\":\"LinearAxis\"}],\"left\":[{\"id\":\"ccdececb-74fd-4856-8b5d-7b0ce233c837\",\"type\":\"LogAxis\"}],\"plot_height\":500,\"plot_width\":560,\"renderers\":[{\"id\":\"e4f24021-3195-4eb2-9454-d0312aec990d\",\"type\":\"LinearAxis\"},{\"id\":\"c2729b67-1b5d-4b9d-8b5a-3236c671e618\",\"type\":\"Grid\"},{\"id\":\"ccdececb-74fd-4856-8b5d-7b0ce233c837\",\"type\":\"LogAxis\"},{\"id\":\"d8f1fb4b-9cdc-4e4f-b649-8c2ccd5b71dc\",\"type\":\"Grid\"},{\"id\":\"949b166f-e385-459d-93e1-480d45b4150f\",\"type\":\"BoxAnnotation\"},{\"id\":\"ad4db914-178e-4e3a-9c94-cd1d265bd904\",\"type\":\"GlyphRenderer\"},{\"id\":\"c0b7b8a1-de4c-4673-9d00-0f5ce9a86945\",\"type\":\"GlyphRenderer\"},{\"id\":\"6636ec53-70c6-44c4-ab65-2022ecafb484\",\"type\":\"GlyphRenderer\"},{\"id\":\"881aa8ee-8f7a-4740-8609-9f0f21da3661\",\"type\":\"GlyphRenderer\"},{\"id\":\"c313a6e8-28aa-4d5a-b186-de9c29e81a39\",\"type\":\"GlyphRenderer\"},{\"id\":\"be01d296-3291-4230-bcc2-2d3b77867e03\",\"type\":\"Legend\"}],\"right\":[{\"id\":\"be01d296-3291-4230-bcc2-2d3b77867e03\",\"type\":\"Legend\"}],\"title\":{\"id\":\"95306df1-5366-4b74-873d-994719b3463a\",\"type\":\"Title\"},\"toolbar\":{\"id\":\"34000d1d-85eb-4606-80bd-4a0b7ab823d4\",\"type\":\"Toolbar\"},\"toolbar_location\":null,\"x_range\":{\"id\":\"861d9a7f-8734-411b-a7a3-5de9c1c674e0\",\"type\":\"Range1d\"},\"x_scale\":{\"id\":\"32e99eeb-5533-4c9d-92e4-a45622bfe415\",\"type\":\"LinearScale\"},\"y_range\":{\"id\":\"beb33a76-3dcd-4812-9517-680a90f3a295\",\"type\":\"Range1d\"},\"y_scale\":{\"id\":\"64600298-6c24-4240-ba34-a912703907c7\",\"type\":\"LogScale\"}},\"id\":\"0593ccb9-aa19-4d2c-a08d-0a1c6da6e781\",\"subtype\":\"Figure\",\"type\":\"Plot\"},{\"attributes\":{\"ticker\":null},\"id\":\"89c6288c-7076-43c8-9d45-99cc0ec21d87\",\"type\":\"LogTickFormatter\"},{\"attributes\":{},\"id\":\"506919d1-d386-447d-bc45-a5bc3d5b3c3c\",\"type\":\"UnionRenderers\"},{\"attributes\":{},\"id\":\"2f0163e7-76fa-4a8d-9d7f-dd1ac7b6d7b9\",\"type\":\"UnionRenderers\"},{\"attributes\":{},\"id\":\"0cb11117-22bb-4178-81f8-2eb022073acb\",\"type\":\"Selection\"},{\"attributes\":{},\"id\":\"76890133-fcfb-45bf-8e52-9c456b6ab545\",\"type\":\"BasicTickFormatter\"},{\"attributes\":{\"tools\":[{\"id\":\"33fb3dc9-b479-44e2-9136-8b3c48c11639\",\"type\":\"PanTool\"},{\"id\":\"a964d10e-1e48-4011-a7e3-7689e18310a6\",\"type\":\"WheelZoomTool\"},{\"id\":\"c9b2478e-4814-4a73-9d46-f1d4fa8913be\",\"type\":\"BoxZoomTool\"},{\"id\":\"d268f297-f68f-41c2-b473-fe4d21d538c3\",\"type\":\"SaveTool\"},{\"id\":\"e0a31448-ca16-402b-8053-2c1f322de63c\",\"type\":\"ResetTool\"},{\"id\":\"bb8a9ed3-9a53-44ee-92bb-2b77ecf19364\",\"type\":\"HelpTool\"},{\"id\":\"c40af40f-5c4b-4c9c-8b0e-79c93a66cf79\",\"type\":\"PanTool\"},{\"id\":\"2d5b766f-7a7c-41b9-86c6-9d80c9cb3f2c\",\"type\":\"WheelZoomTool\"},{\"id\":\"ff80c33a-ed56-4359-b465-072ad700ce07\",\"type\":\"BoxZoomTool\"},{\"id\":\"aa267a3b-76be-4f91-ba79-d8035806d47d\",\"type\":\"SaveTool\"},{\"id\":\"120e76fb-a2e1-4dc7-bfeb-9d5dfd5bb537\",\"type\":\"ResetTool\"},{\"id\":\"ecb930da-02f3-444b-809a-1c34457bc429\",\"type\":\"HelpTool\"}]},\"id\":\"df12a253-7b3f-45c1-83e4-48ebdcefcded\",\"type\":\"ProxyToolbar\"},{\"attributes\":{},\"id\":\"7aa79c44-9a8d-40df-9bef-95f1cd1a900d\",\"type\":\"UnionRenderers\"},{\"attributes\":{\"children\":[{\"id\":\"41f2c1d4-7cba-4f74-a948-49be5e517a5c\",\"subtype\":\"Figure\",\"type\":\"Plot\"},{\"id\":\"0593ccb9-aa19-4d2c-a08d-0a1c6da6e781\",\"subtype\":\"Figure\",\"type\":\"Plot\"}]},\"id\":\"6d6b037a-3ad6-4c81-996f-f08e56e886a4\",\"type\":\"Row\"},{\"attributes\":{},\"id\":\"8967e6f0-d932-49bd-b414-c60ff61507cd\",\"type\":\"Selection\"},{\"attributes\":{\"active_drag\":\"auto\",\"active_inspect\":\"auto\",\"active_scroll\":\"auto\",\"active_tap\":\"auto\",\"tools\":[{\"id\":\"33fb3dc9-b479-44e2-9136-8b3c48c11639\",\"type\":\"PanTool\"},{\"id\":\"a964d10e-1e48-4011-a7e3-7689e18310a6\",\"type\":\"WheelZoomTool\"},{\"id\":\"c9b2478e-4814-4a73-9d46-f1d4fa8913be\",\"type\":\"BoxZoomTool\"},{\"id\":\"d268f297-f68f-41c2-b473-fe4d21d538c3\",\"type\":\"SaveTool\"},{\"id\":\"e0a31448-ca16-402b-8053-2c1f322de63c\",\"type\":\"ResetTool\"},{\"id\":\"bb8a9ed3-9a53-44ee-92bb-2b77ecf19364\",\"type\":\"HelpTool\"}]},\"id\":\"2dfbc90b-ab85-4dec-8137-9eebcfec424e\",\"type\":\"Toolbar\"},{\"attributes\":{},\"id\":\"5854fbc6-8d74-4ce2-8c9f-21b0912e23eb\",\"type\":\"Selection\"},{\"attributes\":{},\"id\":\"3fcf1ac4-184f-408b-9198-e4514ccacea5\",\"type\":\"Selection\"},{\"attributes\":{},\"id\":\"934b476b-797d-48ef-9a1f-d96111455f60\",\"type\":\"Selection\"},{\"attributes\":{},\"id\":\"f118b1ba-655e-4d3b-a147-74a057919970\",\"type\":\"UnionRenderers\"},{\"attributes\":{\"fill_alpha\":{\"value\":0.1},\"fill_color\":{\"value\":\"#1f77b4\"},\"line_alpha\":{\"value\":0.1},\"line_color\":{\"value\":\"#1f77b4\"},\"x\":{\"field\":\"x\"},\"y\":{\"field\":\"y\"}},\"id\":\"6ca8e223-096d-4686-9d64-5c2c5f1d8d6b\",\"type\":\"Circle\"},{\"attributes\":{},\"id\":\"8dc40578-0580-4f05-8223-d1ee3cbcd0b0\",\"type\":\"UnionRenderers\"},{\"attributes\":{},\"id\":\"e5d307a1-ef90-43b1-8393-49d52aee40d2\",\"type\":\"LinearScale\"},{\"attributes\":{},\"id\":\"8fe63868-bb01-4343-a026-5b8accc62bda\",\"type\":\"UnionRenderers\"},{\"attributes\":{},\"id\":\"81a9e0e4-8cc5-4a04-b79d-cbcfd0d68e46\",\"type\":\"UnionRenderers\"},{\"attributes\":{},\"id\":\"eae7b3e4-6c67-43e6-99c6-8f8cb79f034b\",\"type\":\"Selection\"},{\"attributes\":{\"callback\":null,\"end\":0.039942555360899995,\"start\":-0.0170520214509},\"id\":\"86fea24b-1f74-476e-acaf-2e56d9f20293\",\"type\":\"Range1d\"},{\"attributes\":{},\"id\":\"3e93d73c-6a49-46b6-a77e-c1b9e05383af\",\"type\":\"UnionRenderers\"},{\"attributes\":{},\"id\":\"c3b3f770-e5fd-467b-b9d5-ee4d728c42f2\",\"type\":\"Selection\"},{\"attributes\":{\"data_source\":{\"id\":\"4a89776e-71aa-4ce0-9255-e61e9cf88fa8\",\"type\":\"ColumnDataSource\"},\"glyph\":{\"id\":\"b4d0e89e-f9f3-4cfb-96f3-03f0e5f2582d\",\"type\":\"Line\"},\"hover_glyph\":null,\"muted_glyph\":null,\"nonselection_glyph\":{\"id\":\"d9d09987-f917-4524-99cd-b84aa9278660\",\"type\":\"Line\"},\"selection_glyph\":null,\"view\":{\"id\":\"5faa942f-7df1-49ba-8430-4eed2b8c0774\",\"type\":\"CDSView\"}},\"id\":\"c313a6e8-28aa-4d5a-b186-de9c29e81a39\",\"type\":\"GlyphRenderer\"},{\"attributes\":{\"callback\":null,\"end\":0.01,\"start\":1020},\"id\":\"beb33a76-3dcd-4812-9517-680a90f3a295\",\"type\":\"Range1d\"},{\"attributes\":{\"data_source\":{\"id\":\"61955670-5588-4b8b-ae4e-aa4b58b9deef\",\"type\":\"ColumnDataSource\"},\"glyph\":{\"id\":\"8ef725b6-74f5-4574-901a-26faa404e357\",\"type\":\"Line\"},\"hover_glyph\":null,\"muted_glyph\":null,\"nonselection_glyph\":{\"id\":\"3cbc5c40-81c3-491c-9feb-93d43807374a\",\"type\":\"Line\"},\"selection_glyph\":null,\"view\":{\"id\":\"a43b959b-b154-47f2-b47e-6f0473e4a7e7\",\"type\":\"CDSView\"}},\"id\":\"e5ecdb9d-6011-4405-85d1-3fa5c2856d7c\",\"type\":\"GlyphRenderer\"},{\"attributes\":{\"line_color\":\"#4daf4a\",\"line_width\":1.5,\"x\":{\"field\":\"x\"},\"y\":{\"field\":\"y\"}},\"id\":\"8ef725b6-74f5-4574-901a-26faa404e357\",\"type\":\"Line\"},{\"attributes\":{},\"id\":\"64600298-6c24-4240-ba34-a912703907c7\",\"type\":\"LogScale\"},{\"attributes\":{},\"id\":\"32e99eeb-5533-4c9d-92e4-a45622bfe415\",\"type\":\"LinearScale\"},{\"attributes\":{\"overlay\":{\"id\":\"949b166f-e385-459d-93e1-480d45b4150f\",\"type\":\"BoxAnnotation\"}},\"id\":\"ff80c33a-ed56-4359-b465-072ad700ce07\",\"type\":\"BoxZoomTool\"},{\"attributes\":{\"data_source\":{\"id\":\"c4352ac1-a98b-419d-8656-6e00d5d49715\",\"type\":\"ColumnDataSource\"},\"glyph\":{\"id\":\"cb8b8974-e827-4408-9b62-07200485a804\",\"type\":\"Line\"},\"hover_glyph\":null,\"muted_glyph\":null,\"nonselection_glyph\":{\"id\":\"3f7c975f-cab7-4d32-be0b-a33153d5bc28\",\"type\":\"Line\"},\"selection_glyph\":null,\"view\":{\"id\":\"9ee03a4a-5cec-4ea9-8c68-b06e0d9fbeda\",\"type\":\"CDSView\"}},\"id\":\"7546545b-8f9a-4d1f-aaa2-7e236ed5a714\",\"type\":\"GlyphRenderer\"},{\"attributes\":{\"source\":{\"id\":\"c4352ac1-a98b-419d-8656-6e00d5d49715\",\"type\":\"ColumnDataSource\"}},\"id\":\"9ee03a4a-5cec-4ea9-8c68-b06e0d9fbeda\",\"type\":\"CDSView\"},{\"attributes\":{},\"id\":\"aa267a3b-76be-4f91-ba79-d8035806d47d\",\"type\":\"SaveTool\"},{\"attributes\":{\"items\":[{\"id\":\"ccdbee7c-2039-4cdc-b2a6-6e3c12a6cf9e\",\"type\":\"LegendItem\"},{\"id\":\"23e7a45f-fd11-4a14-9f41-b09df1447ee4\",\"type\":\"LegendItem\"},{\"id\":\"ea443222-b025-497b-8856-7cb2d6a5f30a\",\"type\":\"LegendItem\"}],\"label_text_font_size\":{\"value\":\"8pt\"},\"location\":[10,-30],\"plot\":{\"id\":\"0593ccb9-aa19-4d2c-a08d-0a1c6da6e781\",\"subtype\":\"Figure\",\"type\":\"Plot\"}},\"id\":\"be01d296-3291-4230-bcc2-2d3b77867e03\",\"type\":\"Legend\"},{\"attributes\":{\"line_alpha\":0.6,\"line_color\":\"#984ea3\",\"line_width\":3,\"x\":{\"field\":\"x\"},\"y\":{\"field\":\"y\"}},\"id\":\"cb8b8974-e827-4408-9b62-07200485a804\",\"type\":\"Line\"},{\"attributes\":{\"plot\":{\"id\":\"0593ccb9-aa19-4d2c-a08d-0a1c6da6e781\",\"subtype\":\"Figure\",\"type\":\"Plot\"},\"ticker\":{\"id\":\"68c0582b-569e-4f8c-aacf-fa9f113ff342\",\"type\":\"BasicTicker\"}},\"id\":\"c2729b67-1b5d-4b9d-8b5a-3236c671e618\",\"type\":\"Grid\"},{\"attributes\":{\"num_minor_ticks\":10},\"id\":\"eb81d656-b4e1-4513-8383-311b5a87a7de\",\"type\":\"LogTicker\"},{\"attributes\":{\"data_source\":{\"id\":\"dd39dca8-efa7-422d-8475-74c80f8fcc08\",\"type\":\"ColumnDataSource\"},\"glyph\":{\"id\":\"1a4d24e9-efb6-4fad-9858-d36a57e41c8a\",\"type\":\"Square\"},\"hover_glyph\":null,\"muted_glyph\":null,\"nonselection_glyph\":{\"id\":\"df1382c6-73bc-429b-8555-35a7a93658b3\",\"type\":\"Square\"},\"selection_glyph\":null,\"view\":{\"id\":\"719fa9c8-ce84-48e6-950a-1da875de06f0\",\"type\":\"CDSView\"}},\"id\":\"0c883ad3-5c64-4457-ab5a-3ddab41f642f\",\"type\":\"GlyphRenderer\"},{\"attributes\":{\"source\":{\"id\":\"dd39dca8-efa7-422d-8475-74c80f8fcc08\",\"type\":\"ColumnDataSource\"}},\"id\":\"719fa9c8-ce84-48e6-950a-1da875de06f0\",\"type\":\"CDSView\"},{\"attributes\":{},\"id\":\"120e76fb-a2e1-4dc7-bfeb-9d5dfd5bb537\",\"type\":\"ResetTool\"},{\"attributes\":{\"line_alpha\":0.1,\"line_color\":\"#1f77b4\",\"line_width\":3,\"x\":{\"field\":\"x\"},\"y\":{\"field\":\"y\"}},\"id\":\"d9d09987-f917-4524-99cd-b84aa9278660\",\"type\":\"Line\"},{\"attributes\":{\"source\":{\"id\":\"842224c7-aba0-4e07-940a-ee237b35dd21\",\"type\":\"ColumnDataSource\"}},\"id\":\"65d93d93-9c68-43e3-999d-3eb8b9274480\",\"type\":\"CDSView\"},{\"attributes\":{\"line_alpha\":0.6,\"line_color\":\"#e41a1c\",\"line_dash\":[6],\"line_width\":5,\"x\":{\"field\":\"x\"},\"y\":{\"field\":\"y\"}},\"id\":\"e822b7b5-79b3-4643-a6f6-5c274ba771c6\",\"type\":\"Line\"},{\"attributes\":{\"bottom_units\":\"screen\",\"fill_alpha\":{\"value\":0.5},\"fill_color\":{\"value\":\"lightgrey\"},\"left_units\":\"screen\",\"level\":\"overlay\",\"line_alpha\":{\"value\":1.0},\"line_color\":{\"value\":\"black\"},\"line_dash\":[4,4],\"line_width\":{\"value\":2},\"plot\":null,\"render_mode\":\"css\",\"right_units\":\"screen\",\"top_units\":\"screen\"},\"id\":\"949b166f-e385-459d-93e1-480d45b4150f\",\"type\":\"BoxAnnotation\"},{\"attributes\":{\"source\":{\"id\":\"61955670-5588-4b8b-ae4e-aa4b58b9deef\",\"type\":\"ColumnDataSource\"}},\"id\":\"a43b959b-b154-47f2-b47e-6f0473e4a7e7\",\"type\":\"CDSView\"},{\"attributes\":{\"callback\":null,\"end\":0.21993483032300998,\"start\":-0.00509454262401},\"id\":\"861d9a7f-8734-411b-a7a3-5de9c1c674e0\",\"type\":\"Range1d\"},{\"attributes\":{\"dimension\":1,\"plot\":{\"id\":\"0593ccb9-aa19-4d2c-a08d-0a1c6da6e781\",\"subtype\":\"Figure\",\"type\":\"Plot\"},\"ticker\":{\"id\":\"eb81d656-b4e1-4513-8383-311b5a87a7de\",\"type\":\"LogTicker\"}},\"id\":\"d8f1fb4b-9cdc-4e4f-b649-8c2ccd5b71dc\",\"type\":\"Grid\"},{\"attributes\":{\"active_drag\":\"auto\",\"active_inspect\":\"auto\",\"active_scroll\":\"auto\",\"active_tap\":\"auto\",\"tools\":[{\"id\":\"c40af40f-5c4b-4c9c-8b0e-79c93a66cf79\",\"type\":\"PanTool\"},{\"id\":\"2d5b766f-7a7c-41b9-86c6-9d80c9cb3f2c\",\"type\":\"WheelZoomTool\"},{\"id\":\"ff80c33a-ed56-4359-b465-072ad700ce07\",\"type\":\"BoxZoomTool\"},{\"id\":\"aa267a3b-76be-4f91-ba79-d8035806d47d\",\"type\":\"SaveTool\"},{\"id\":\"120e76fb-a2e1-4dc7-bfeb-9d5dfd5bb537\",\"type\":\"ResetTool\"},{\"id\":\"ecb930da-02f3-444b-809a-1c34457bc429\",\"type\":\"HelpTool\"}]},\"id\":\"34000d1d-85eb-4606-80bd-4a0b7ab823d4\",\"type\":\"Toolbar\"},{\"attributes\":{},\"id\":\"c40af40f-5c4b-4c9c-8b0e-79c93a66cf79\",\"type\":\"PanTool\"},{\"attributes\":{},\"id\":\"68c0582b-569e-4f8c-aacf-fa9f113ff342\",\"type\":\"BasicTicker\"},{\"attributes\":{\"axis_label\":\"pressure [mb]\",\"formatter\":{\"id\":\"89c6288c-7076-43c8-9d45-99cc0ec21d87\",\"type\":\"LogTickFormatter\"},\"plot\":{\"id\":\"0593ccb9-aa19-4d2c-a08d-0a1c6da6e781\",\"subtype\":\"Figure\",\"type\":\"Plot\"},\"ticker\":{\"id\":\"eb81d656-b4e1-4513-8383-311b5a87a7de\",\"type\":\"LogTicker\"}},\"id\":\"ccdececb-74fd-4856-8b5d-7b0ce233c837\",\"type\":\"LogAxis\"},{\"attributes\":{\"source\":{\"id\":\"4a89776e-71aa-4ce0-9255-e61e9cf88fa8\",\"type\":\"ColumnDataSource\"}},\"id\":\"5faa942f-7df1-49ba-8430-4eed2b8c0774\",\"type\":\"CDSView\"},{\"attributes\":{\"callback\":null,\"data\":{\"x\":{\"__ndarray__\":\"V2Fta48Hqb/dNiagltqmvx7JlvnPGaK/+RJQ/16smb8j7siQF12Mv0irr63lrlq/TjJ50NrXhz+qtQWLkKiaPwLI6gWISqU/KEt6BnfhrT/gRe3rsY6zP3SanfaogLg/Lai5Ju7CvT8OQ9QSZU7BP3nTJcp7KMM/anRBXL2zxD9O/KQcxDXGP3bEvvCMrsc/ABophKMeyT8je60ZU4/KPysLDWGI3ss/Ms5bTJ54yT8ZgUYjfsnCP+C0oeEbqrg/jc16cPhWrj8hGhqlBCqhPwx3XsUKAJE/I4/oJdSBgD9loHM+Spp3PyEPGd8rxHQ/qC01B2+kcD/MmRwfbsVlP7zpv1P0g2M/l5BkVcpLaz/+RihmF61vPzxH1GtCOHA/gt9kLsDkbT+a35If1vtjP9T/Xrc0MUc/PhNXD7nBT79wyt7GbUpmvwpL6jNIAnO/EkEOJhsRfL/VA5FGv52Dvwgapd5iZIq/62CD2ZLCjb+gCCZamcCKv1hSMFuZjYW/5IVFZBfOgL8uXZsmIGh4v/0YGfqlEm6/I5MJQOcjVb8Qk+qeoMRTP5QE+F1+T28/IQ0nKL7Mej8DIApAhR6DP0+1+hBy44g/nZvvDamVjj/e+pdBCAqSP1MAUrxGopQ/p14Dl9EMlz+rr2J8jkuZP/+goqg7aJs/MQyucs5znT8kQARXpIKfP9vyv8zf06A/8lLV9yb1oT89H1lRZxSjP9myBU/k86M/96giiRwqpD+8HwPug3CjP14H1oqZ8aE/Y5w2GCcUoD/gguNnYDqcP4PcrXsXLpg/\",\"dtype\":\"float64\",\"shape\":[75]},\"y\":{\"__ndarray__\":\"GhExyth1ND/Sv8nbtpRIP2vylNV0PVE/aTum7souWD/At0SJ8fVgPw3Iuahxymc/MSNhhJWvcD/bTfBN02d3P2zb5nxnaoA/CD5h5MAGhz8NmeH1TyaQP+zrCsc9p5Y/LbKd76fGnz/bLW5ISEmmPww9YvTcQq8/JV2OstnstT8Er5Y7M8G+P0c+r3jqkcU/5h99k6ZBzj88bCIzFzjVP4enV8oyxN0//yH99nXg5D8qOpLLf0jtP5kqGJXUifQ/c9cS8kHP/D+/DpwzojQEQIEmwoanVwxA4lgXt9HgE0BSSZ2AJuIbQAMJih9jjiNA5q4l5INuK0AwTKYKRj0zQNv5fmq8/DpAaCJseHrtQkB/+zpwzoxKQM3MzMzMeFJAZmZmZmZqWEAAAAAAAFxeQM3MzMzMJmJAmpmZmZkfZUBmZmZmZhhoQDMzMzMzEWtAAAAAAAAKbkBmZmZmZoFwQM3MzMzM/XFAMzMzMzN6c0CamZmZmfZ0QAAAAAAAc3ZAZmZmZmbvd0DNzMzMzGt5QDMzMzMz6HpAmpmZmZlkfEAAAAAAAOF9QGZmZmZmXX9AZmZmZuZsgECamZmZGSuBQM3MzMxM6YFAAAAAAICngkAzMzMzs2WDQGZmZmbmI4RAmpmZmRnihEDNzMzMTKCFQAAAAACAXoZAMzMzM7Mch0BmZmZm5tqHQJqZmZkZmYhAzczMzExXiUAAAAAAgBWKQDMzMzOz04pAZmZmZuaRi0CamZmZGVCMQM3MzMxMDo1AAAAAAIDMjUAzMzMzs4qOQGZmZmbmSI9A\",\"dtype\":\"float64\",\"shape\":[75]}},\"selected\":{\"id\":\"0cb11117-22bb-4178-81f8-2eb022073acb\",\"type\":\"Selection\"},\"selection_policy\":{\"id\":\"2f0163e7-76fa-4a8d-9d7f-dd1ac7b6d7b9\",\"type\":\"UnionRenderers\"}},\"id\":\"61955670-5588-4b8b-ae4e-aa4b58b9deef\",\"type\":\"ColumnDataSource\"},{\"attributes\":{},\"id\":\"ecb930da-02f3-444b-809a-1c34457bc429\",\"type\":\"HelpTool\"},{\"attributes\":{\"line_alpha\":0.1,\"line_color\":\"#1f77b4\",\"line_dash\":[6],\"line_width\":5,\"x\":{\"field\":\"x\"},\"y\":{\"field\":\"y\"}},\"id\":\"b0971fd5-efaf-4030-81a3-24cc57f92249\",\"type\":\"Line\"},{\"attributes\":{\"fill_alpha\":{\"value\":0.1},\"fill_color\":{\"value\":\"#1f77b4\"},\"line_alpha\":{\"value\":0.1},\"line_color\":{\"value\":\"#1f77b4\"},\"x\":{\"field\":\"x\"},\"y\":{\"field\":\"y\"}},\"id\":\"df1382c6-73bc-429b-8555-35a7a93658b3\",\"type\":\"Square\"},{\"attributes\":{\"axis_label\":\"cooling rate [K/day]\",\"formatter\":{\"id\":\"76890133-fcfb-45bf-8e52-9c456b6ab545\",\"type\":\"BasicTickFormatter\"},\"plot\":{\"id\":\"0593ccb9-aa19-4d2c-a08d-0a1c6da6e781\",\"subtype\":\"Figure\",\"type\":\"Plot\"},\"ticker\":{\"id\":\"68c0582b-569e-4f8c-aacf-fa9f113ff342\",\"type\":\"BasicTicker\"}},\"id\":\"e4f24021-3195-4eb2-9454-d0312aec990d\",\"type\":\"LinearAxis\"},{\"attributes\":{},\"id\":\"2d5b766f-7a7c-41b9-86c6-9d80c9cb3f2c\",\"type\":\"WheelZoomTool\"},{\"attributes\":{\"line_alpha\":0.6,\"line_color\":\"#984ea3\",\"line_width\":3,\"x\":{\"field\":\"x\"},\"y\":{\"field\":\"y\"}},\"id\":\"b4d0e89e-f9f3-4cfb-96f3-03f0e5f2582d\",\"type\":\"Line\"},{\"attributes\":{\"plot\":null,\"text\":\"Log pressure scale\"},\"id\":\"95306df1-5366-4b74-873d-994719b3463a\",\"type\":\"Title\"},{\"attributes\":{\"callback\":null,\"data\":{\"x\":{\"__ndarray__\":\"n/Bu7VbDlL/fFcuLQXKRv0gNiwEti4S/IF5l7atbYr+KCaiDJeh5P4sA4qZMKZA/CiutHk3Pmj+z7GnDtj+jP0b1mLAjoqk/dhztrsFGsD+I5WLlcwu0P/ACIdmgCbg/ujus3fVtvD8KWBik5ELAP72gdI8U5ME/0VMSX+lTwz/FBozTmMbEP1yXu5U/QMY/D7cHEDa+xz/OTh6TKkTJPxNe93Yjp8o/xKPMEuDoyD+n0qss4GzDPwRLNO5Snrs/sI0sDsmUsj/5H6oSbBKnP4NGiQpa/Zg/yIhuxjkkiD9hPTxdhol6P+w9gkPI33E/gxMLuuOBaT/P9k9XDYphPztVjcDJxmQ/q3Gw4zGWcD8TmoPd+VN0PyZqQYMQdnU/Mq18wIsYdD/8FDY8ttpsP2lSx19oTFg/MvDTMhGsRL+4dUkSW6lnvxg7rlRp8XW/5MmVCZ2hgL8oGRcEhyqHv/jVX0sCVI6/ASMlWJvjkL9yzxNIMu+Ov3ctlb4moIm/do2oEhN4hL9gv4QM+cx+v1O54H94jHS/cCCsQAkLZL9sM0X9fZUsPwMMBMGFZGg/zYOuRPzVdz/dIFe5mdeBP5HDeHlXyYc/b0PYe4+fjT/gaoxvv5+RPzmjU//zR5Q/AAY823jClj/Qg1wdUBOZPz9MNx56Qps/uL3HR+ZhnT9tuXPIjoGfPwz0VC102aA/k9fpr4n6oT+iPynRhRKjP8misfnm5aM/UdJTmTIXpD/z4zMgK2ijPx/zoP8JAKI/XQUaSs07oD/legZ+IL2cPwCPG96m+Jg/\",\"dtype\":\"float64\",\"shape\":[75]},\"y\":{\"__ndarray__\":\"GhExyth1ND/Sv8nbtpRIP2vylNV0PVE/aTum7souWD/At0SJ8fVgPw3Iuahxymc/MSNhhJWvcD/bTfBN02d3P2zb5nxnaoA/CD5h5MAGhz8NmeH1TyaQP+zrCsc9p5Y/LbKd76fGnz/bLW5ISEmmPww9YvTcQq8/JV2OstnstT8Er5Y7M8G+P0c+r3jqkcU/5h99k6ZBzj88bCIzFzjVP4enV8oyxN0//yH99nXg5D8qOpLLf0jtP5kqGJXUifQ/c9cS8kHP/D+/DpwzojQEQIEmwoanVwxA4lgXt9HgE0BSSZ2AJuIbQAMJih9jjiNA5q4l5INuK0AwTKYKRj0zQNv5fmq8/DpAaCJseHrtQkB/+zpwzoxKQM3MzMzMeFJAZmZmZmZqWEAAAAAAAFxeQM3MzMzMJmJAmpmZmZkfZUBmZmZmZhhoQDMzMzMzEWtAAAAAAAAKbkBmZmZmZoFwQM3MzMzM/XFAMzMzMzN6c0CamZmZmfZ0QAAAAAAAc3ZAZmZmZmbvd0DNzMzMzGt5QDMzMzMz6HpAmpmZmZlkfEAAAAAAAOF9QGZmZmZmXX9AZmZmZuZsgECamZmZGSuBQM3MzMxM6YFAAAAAAICngkAzMzMzs2WDQGZmZmbmI4RAmpmZmRnihEDNzMzMTKCFQAAAAACAXoZAMzMzM7Mch0BmZmZm5tqHQJqZmZkZmYhAzczMzExXiUAAAAAAgBWKQDMzMzOz04pAZmZmZuaRi0CamZmZGVCMQM3MzMxMDo1AAAAAAIDMjUAzMzMzs4qOQGZmZmbmSI9A\",\"dtype\":\"float64\",\"shape\":[75]}},\"selected\":{\"id\":\"e69942d1-b308-40bf-94a3-f1639376e980\",\"type\":\"Selection\"},\"selection_policy\":{\"id\":\"506919d1-d386-447d-bc45-a5bc3d5b3c3c\",\"type\":\"UnionRenderers\"}},\"id\":\"dd39dca8-efa7-422d-8475-74c80f8fcc08\",\"type\":\"ColumnDataSource\"},{\"attributes\":{\"children\":[{\"id\":\"6d6b037a-3ad6-4c81-996f-f08e56e886a4\",\"type\":\"Row\"}]},\"id\":\"8a286c84-a4a5-45d1-afad-5304115c3416\",\"type\":\"Column\"},{\"attributes\":{\"line_alpha\":0.1,\"line_color\":\"#1f77b4\",\"line_width\":3,\"x\":{\"field\":\"x\"},\"y\":{\"field\":\"y\"}},\"id\":\"3f7c975f-cab7-4d32-be0b-a33153d5bc28\",\"type\":\"Line\"},{\"attributes\":{\"callback\":null,\"data\":{\"x\":{\"__ndarray__\":\"KKpLRo2CgL//3BSymn52v0ROyiG81kI/skt0WNFGfT+YFIeCBW+NPxArYixh2pY/DYT1Y7nDnz9G9m4XjcGkP/CtowXDFKo/idGjRHPmrz9a5EtmxB6zP19KUAiMkbY/qpHpEgZMuj/hriSavNi9PwdeDGl9X8A/e4NQWo+twT8ZQxBSfQjDP/Z4xmOrcMQ/GEmzYH/lxT/mSPzE4GXHP6yIgUtTxsg/cYpUOWlxxz/ilJjrXdHCPwSikgBWw7s/oEje1mlmsz/YFXyYkuyoPy/4498vsps/88yYcFISij9ySuWSTzR4PzOP9XWdpGk/Fm+r84QyYD8B71Zya9RXPygopeZCk2I/sCeXjalXcD8MfqnDtG10P9Jcai5+7XU/2WgTwIELdT9pz6OpMAtwP6wYV+mhh2A/6yYSg+M1Ab/JbJ+9kt5iv79Hm/B06nO/kjTvoCi8f7/o8ZfwLaeGvxGK3dl/5o2/yvLlbbu8kL+xXgrkGQGPv/e+3Bod/4m/cdE48ETyhL8hQhL1f+B/v0JY0rDtq3W/bkmSEHpwZr/ysg6hTbQYvyokbMJ1gWU/+3eS77g6dj9jjtnqVvWAP5PQnS0O0YY/YOsk6wiRjD8aMet5wgiRP/k+H9zSp5M/SG8J19salj+Ywso7Y2yYP7hPh0hfnpo/7IoMt+vBnD+ATcl+heieP0JpHKhbj6A/wG6UmSuzoT/QH6ejdM2iP7hsyM3dn6M/3Hakcd3Roz9/Z3GCEyqjPzGXKe3azKE/E5Fkzf0SoD+MvD/t1oOcP0OShD0g4pg/\",\"dtype\":\"float64\",\"shape\":[75]},\"y\":{\"__ndarray__\":\"S/O/Q+51ND/Sv8nbtpRIP2vylNV0PVE/aTum7souWD/At0SJ8fVgPw3Iuahxymc/MSNhhJWvcD/bTfBN02d3P2zb5nxnaoA/CD5h5MAGhz8NmeH1TyaQP+zrCsc9p5Y/LbKd76fGnz/bLW5ISEmmPww9YvTcQq8/JV2OstnstT8Er5Y7M8G+P0c+r3jqkcU/5h99k6ZBzj88bCIzFzjVP4enV8oyxN0//yH99nXg5D8qOpLLf0jtP5kqGJXUifQ/c9cS8kHP/D+/DpwzojQEQIEmwoanVwxA4lgXt9HgE0BSSZ2AJuIbQAMJih9jjiNA5q4l5INuK0AwTKYKRj0zQNv5fmq8/DpAaCJseHrtQkB/+zpwzoxKQM3MzMzMeFJAZmZmZmZqWEAAAAAAAFxeQM3MzMzMJmJAmpmZmZkfZUBmZmZmZhhoQDMzMzMzEWtAAAAAAAAKbkBmZmZmZoFwQM3MzMzM/XFAMzMzMzN6c0CamZmZmfZ0QAAAAAAAc3ZAZmZmZmbvd0DNzMzMzGt5QDMzMzMz6HpAmpmZmZlkfEAAAAAAAOF9QGZmZmZmXX9AZmZmZuZsgECamZmZGSuBQM3MzMxM6YFAAAAAAICngkAzMzMzs2WDQGZmZmbmI4RAmpmZmRnihEDNzMzMTKCFQAAAAACAXoZAMzMzM7Mch0BmZmZm5tqHQJqZmZkZmYhAzczMzExXiUAAAAAAgBWKQDMzMzOz04pAZmZmZuaRi0CamZmZGVCMQM3MzMxMDo1AAAAAAIDMjUAzMzMzs4qOQGZmZmbmSI9A\",\"dtype\":\"float64\",\"shape\":[75]}},\"selected\":{\"id\":\"934b476b-797d-48ef-9a1f-d96111455f60\",\"type\":\"Selection\"},\"selection_policy\":{\"id\":\"8fe63868-bb01-4343-a026-5b8accc62bda\",\"type\":\"UnionRenderers\"}},\"id\":\"ce7915f7-d415-472a-a8ef-a8b992788d63\",\"type\":\"ColumnDataSource\"},{\"attributes\":{\"fill_alpha\":{\"value\":0.7},\"fill_color\":{\"value\":\"#984ea3\"},\"line_alpha\":{\"value\":0.7},\"line_color\":{\"value\":\"#984ea3\"},\"x\":{\"field\":\"x\"},\"y\":{\"field\":\"y\"}},\"id\":\"1a4d24e9-efb6-4fad-9858-d36a57e41c8a\",\"type\":\"Square\"},{\"attributes\":{\"callback\":null,\"data\":{\"x\":{\"__ndarray__\":\"n/Bu7VbDlL/fFcuLQXKRv0gNiwEti4S/IF5l7atbYr+KCaiDJeh5P4sA4qZMKZA/CiutHk3Pmj+z7GnDtj+jP0b1mLAjoqk/dhztrsFGsD+I5WLlcwu0P/ACIdmgCbg/ujus3fVtvD8KWBik5ELAP72gdI8U5ME/0VMSX+lTwz/FBozTmMbEP1yXu5U/QMY/D7cHEDa+xz/OTh6TKkTJPxNe93Yjp8o/xKPMEuDoyD+n0qss4GzDPwRLNO5Snrs/sI0sDsmUsj/5H6oSbBKnP4NGiQpa/Zg/yIhuxjkkiD9hPTxdhol6P+w9gkPI33E/gxMLuuOBaT/P9k9XDYphPztVjcDJxmQ/q3Gw4zGWcD8TmoPd+VN0PyZqQYMQdnU/Mq18wIsYdD/8FDY8ttpsP2lSx19oTFg/MvDTMhGsRL+4dUkSW6lnvxg7rlRp8XW/5MmVCZ2hgL8oGRcEhyqHv/jVX0sCVI6/ASMlWJvjkL9yzxNIMu+Ov3ctlb4moIm/do2oEhN4hL9gv4QM+cx+v1O54H94jHS/cCCsQAkLZL9sM0X9fZUsPwMMBMGFZGg/zYOuRPzVdz/dIFe5mdeBP5HDeHlXyYc/b0PYe4+fjT/gaoxvv5+RPzmjU//zR5Q/AAY823jClj/Qg1wdUBOZPz9MNx56Qps/uL3HR+ZhnT9tuXPIjoGfPwz0VC102aA/k9fpr4n6oT+iPynRhRKjP8misfnm5aM/UdJTmTIXpD/z4zMgK2ijPx/zoP8JAKI/XQUaSs07oD/legZ+IL2cPwCPG96m+Jg/\",\"dtype\":\"float64\",\"shape\":[75]},\"y\":{\"__ndarray__\":\"GhExyth1ND/Sv8nbtpRIP2vylNV0PVE/aTum7souWD/At0SJ8fVgPw3Iuahxymc/MSNhhJWvcD/bTfBN02d3P2zb5nxnaoA/CD5h5MAGhz8NmeH1TyaQP+zrCsc9p5Y/LbKd76fGnz/bLW5ISEmmPww9YvTcQq8/JV2OstnstT8Er5Y7M8G+P0c+r3jqkcU/5h99k6ZBzj88bCIzFzjVP4enV8oyxN0//yH99nXg5D8qOpLLf0jtP5kqGJXUifQ/c9cS8kHP/D+/DpwzojQEQIEmwoanVwxA4lgXt9HgE0BSSZ2AJuIbQAMJih9jjiNA5q4l5INuK0AwTKYKRj0zQNv5fmq8/DpAaCJseHrtQkB/+zpwzoxKQM3MzMzMeFJAZmZmZmZqWEAAAAAAAFxeQM3MzMzMJmJAmpmZmZkfZUBmZmZmZhhoQDMzMzMzEWtAAAAAAAAKbkBmZmZmZoFwQM3MzMzM/XFAMzMzMzN6c0CamZmZmfZ0QAAAAAAAc3ZAZmZmZmbvd0DNzMzMzGt5QDMzMzMz6HpAmpmZmZlkfEAAAAAAAOF9QGZmZmZmXX9AZmZmZuZsgECamZmZGSuBQM3MzMxM6YFAAAAAAICngkAzMzMzs2WDQGZmZmbmI4RAmpmZmRnihEDNzMzMTKCFQAAAAACAXoZAMzMzM7Mch0BmZmZm5tqHQJqZmZkZmYhAzczMzExXiUAAAAAAgBWKQDMzMzOz04pAZmZmZuaRi0CamZmZGVCMQM3MzMxMDo1AAAAAAIDMjUAzMzMzs4qOQGZmZmbmSI9A\",\"dtype\":\"float64\",\"shape\":[75]}},\"selected\":{\"id\":\"8967e6f0-d932-49bd-b414-c60ff61507cd\",\"type\":\"Selection\"},\"selection_policy\":{\"id\":\"7aa79c44-9a8d-40df-9bef-95f1cd1a900d\",\"type\":\"UnionRenderers\"}},\"id\":\"c4352ac1-a98b-419d-8656-6e00d5d49715\",\"type\":\"ColumnDataSource\"},{\"attributes\":{\"line_alpha\":0.1,\"line_color\":\"#1f77b4\",\"line_width\":1.5,\"x\":{\"field\":\"x\"},\"y\":{\"field\":\"y\"}},\"id\":\"3cbc5c40-81c3-491c-9feb-93d43807374a\",\"type\":\"Line\"}],\"root_ids\":[\"21c078e4-d6b8-4df3-a276-e82c787097f7\"]},\"title\":\"Bokeh Application\",\"version\":\"0.12.16\"}};\n",
       "  var render_items = [{\"docid\":\"00ed9445-7ee7-4637-8b03-cf74011251f6\",\"elementid\":\"cd89a32f-4e3f-4166-a5c0-88b6e86d1b8c\",\"modelid\":\"21c078e4-d6b8-4df3-a276-e82c787097f7\"}];\n",
       "  root.Bokeh.embed.embed_items_notebook(docs_json, render_items);\n",
       "\n",
       "  }\n",
       "  if (root.Bokeh !== undefined) {\n",
       "    embed_document(root);\n",
       "  } else {\n",
       "    var attempts = 0;\n",
       "    var timer = setInterval(function(root) {\n",
       "      if (root.Bokeh !== undefined) {\n",
       "        embed_document(root);\n",
       "        clearInterval(timer);\n",
       "      }\n",
       "      attempts++;\n",
       "      if (attempts > 100) {\n",
       "        console.log(\"Bokeh: ERROR: Unable to run BokehJS code because BokehJS library is missing\")\n",
       "        clearInterval(timer);\n",
       "      }\n",
       "    }, 10, root)\n",
       "  }\n",
       "})(window);"
      ],
      "application/vnd.bokehjs_exec.v0+json": ""
     },
     "metadata": {
      "application/vnd.bokehjs_exec.v0+json": {
       "id": "21c078e4-d6b8-4df3-a276-e82c787097f7"
      }
     },
     "output_type": "display_data"
    },
    {
     "name": "stdout",
     "output_type": "stream",
     "text": [
      "FIGURE. Cooling rate profiles.\n"
     ]
    },
    {
     "data": {
      "text/html": [
       "<a id=\"Flux_Comparison\"></a>"
      ],
      "text/plain": [
       "<IPython.core.display.HTML object>"
      ]
     },
     "metadata": {},
     "output_type": "display_data"
    },
    {
     "data": {
      "text/markdown": [
       "# Flux Comparison"
      ],
      "text/plain": [
       "<IPython.core.display.Markdown object>"
      ]
     },
     "metadata": {},
     "output_type": "display_data"
    },
    {
     "data": {
      "text/html": [
       "<div>\n",
       "<style scoped>\n",
       "    .dataframe tbody tr th:only-of-type {\n",
       "        vertical-align: middle;\n",
       "    }\n",
       "\n",
       "    .dataframe tbody tr th {\n",
       "        vertical-align: top;\n",
       "    }\n",
       "\n",
       "    .dataframe thead th {\n",
       "        text-align: right;\n",
       "    }\n",
       "</style>\n",
       "<table border=\"1\" class=\"dataframe\">\n",
       "  <thead>\n",
       "    <tr style=\"text-align: right;\">\n",
       "      <th></th>\n",
       "      <th></th>\n",
       "      <th>flug</th>\n",
       "      <th>fldg</th>\n",
       "      <th>fnetg</th>\n",
       "    </tr>\n",
       "    <tr>\n",
       "      <th>pressure</th>\n",
       "      <th>level</th>\n",
       "      <th></th>\n",
       "      <th></th>\n",
       "      <th></th>\n",
       "    </tr>\n",
       "  </thead>\n",
       "  <tbody>\n",
       "    <tr>\n",
       "      <th>0.0000</th>\n",
       "      <th>1</th>\n",
       "      <td>-8.18527</td>\n",
       "      <td>0.000000</td>\n",
       "      <td>-8.185270</td>\n",
       "    </tr>\n",
       "    <tr>\n",
       "      <th>1.0685</th>\n",
       "      <th>24</th>\n",
       "      <td>-8.17786</td>\n",
       "      <td>0.015199</td>\n",
       "      <td>-8.162661</td>\n",
       "    </tr>\n",
       "    <tr>\n",
       "      <th>1013.0000</th>\n",
       "      <th>76</th>\n",
       "      <td>-9.55803</td>\n",
       "      <td>2.771084</td>\n",
       "      <td>-6.786946</td>\n",
       "    </tr>\n",
       "  </tbody>\n",
       "</table>\n",
       "</div>"
      ],
      "text/plain": [
       "                    flug      fldg     fnetg\n",
       "pressure  level                             \n",
       "0.0000    1     -8.18527  0.000000 -8.185270\n",
       "1.0685    24    -8.17786  0.015199 -8.162661\n",
       "1013.0000 76    -9.55803  2.771084 -6.786946"
      ]
     },
     "metadata": {},
     "output_type": "display_data"
    },
    {
     "name": "stdout",
     "output_type": "stream",
     "text": [
      "Table. Fluxes. CRD\n"
     ]
    },
    {
     "data": {
      "text/html": [
       "<div>\n",
       "<style scoped>\n",
       "    .dataframe tbody tr th:only-of-type {\n",
       "        vertical-align: middle;\n",
       "    }\n",
       "\n",
       "    .dataframe tbody tr th {\n",
       "        vertical-align: top;\n",
       "    }\n",
       "\n",
       "    .dataframe thead th {\n",
       "        text-align: right;\n",
       "    }\n",
       "</style>\n",
       "<table border=\"1\" class=\"dataframe\">\n",
       "  <thead>\n",
       "    <tr style=\"text-align: right;\">\n",
       "      <th></th>\n",
       "      <th></th>\n",
       "      <th>flug</th>\n",
       "      <th>fldg</th>\n",
       "      <th>fnetg</th>\n",
       "    </tr>\n",
       "    <tr>\n",
       "      <th>pressure</th>\n",
       "      <th>level</th>\n",
       "      <th></th>\n",
       "      <th></th>\n",
       "      <th></th>\n",
       "    </tr>\n",
       "  </thead>\n",
       "  <tbody>\n",
       "    <tr>\n",
       "      <th>0.0000</th>\n",
       "      <th>1</th>\n",
       "      <td>-8.147775</td>\n",
       "      <td>0.000000</td>\n",
       "      <td>-8.147775</td>\n",
       "    </tr>\n",
       "    <tr>\n",
       "      <th>1.0685</th>\n",
       "      <th>24</th>\n",
       "      <td>-8.139963</td>\n",
       "      <td>0.014264</td>\n",
       "      <td>-8.125699</td>\n",
       "    </tr>\n",
       "    <tr>\n",
       "      <th>1013.0000</th>\n",
       "      <th>76</th>\n",
       "      <td>-9.558030</td>\n",
       "      <td>2.766894</td>\n",
       "      <td>-6.791136</td>\n",
       "    </tr>\n",
       "  </tbody>\n",
       "</table>\n",
       "</div>"
      ],
      "text/plain": [
       "                     flug      fldg     fnetg\n",
       "pressure  level                              \n",
       "0.0000    1     -8.147775  0.000000 -8.147775\n",
       "1.0685    24    -8.139963  0.014264 -8.125699\n",
       "1013.0000 76    -9.558030  2.766894 -6.791136"
      ]
     },
     "metadata": {},
     "output_type": "display_data"
    },
    {
     "name": "stdout",
     "output_type": "stream",
     "text": [
      "Table. Fluxes. WGT igg=10 wgt_flux=1\n"
     ]
    },
    {
     "data": {
      "text/html": [
       "<div>\n",
       "<style scoped>\n",
       "    .dataframe tbody tr th:only-of-type {\n",
       "        vertical-align: middle;\n",
       "    }\n",
       "\n",
       "    .dataframe tbody tr th {\n",
       "        vertical-align: top;\n",
       "    }\n",
       "\n",
       "    .dataframe thead th {\n",
       "        text-align: right;\n",
       "    }\n",
       "</style>\n",
       "<table border=\"1\" class=\"dataframe\">\n",
       "  <thead>\n",
       "    <tr style=\"text-align: right;\">\n",
       "      <th></th>\n",
       "      <th></th>\n",
       "      <th>flug</th>\n",
       "      <th>fldg</th>\n",
       "      <th>fnetg</th>\n",
       "    </tr>\n",
       "    <tr>\n",
       "      <th>pressure</th>\n",
       "      <th>level</th>\n",
       "      <th></th>\n",
       "      <th></th>\n",
       "      <th></th>\n",
       "    </tr>\n",
       "  </thead>\n",
       "  <tbody>\n",
       "    <tr>\n",
       "      <th>1.000000e-08</th>\n",
       "      <th>1</th>\n",
       "      <td>-8.177808</td>\n",
       "      <td>9.420030e-08</td>\n",
       "      <td>-8.177808</td>\n",
       "    </tr>\n",
       "    <tr>\n",
       "      <th>1.068500e+00</th>\n",
       "      <th>24</th>\n",
       "      <td>-8.170184</td>\n",
       "      <td>1.312311e-02</td>\n",
       "      <td>-8.157061</td>\n",
       "    </tr>\n",
       "    <tr>\n",
       "      <th>1.013000e+03</th>\n",
       "      <th>76</th>\n",
       "      <td>-9.558030</td>\n",
       "      <td>2.711406e+00</td>\n",
       "      <td>-6.846624</td>\n",
       "    </tr>\n",
       "  </tbody>\n",
       "</table>\n",
       "</div>"
      ],
      "text/plain": [
       "                        flug          fldg     fnetg\n",
       "pressure     level                                  \n",
       "1.000000e-08 1     -8.177808  9.420030e-08 -8.177808\n",
       "1.068500e+00 24    -8.170184  1.312311e-02 -8.157061\n",
       "1.013000e+03 76    -9.558030  2.711406e+00 -6.846624"
      ]
     },
     "metadata": {},
     "output_type": "display_data"
    },
    {
     "name": "stdout",
     "output_type": "stream",
     "text": [
      "Table. Fluxes. CLIRAD\n"
     ]
    },
    {
     "data": {
      "text/html": [
       "<div>\n",
       "<style scoped>\n",
       "    .dataframe tbody tr th:only-of-type {\n",
       "        vertical-align: middle;\n",
       "    }\n",
       "\n",
       "    .dataframe tbody tr th {\n",
       "        vertical-align: top;\n",
       "    }\n",
       "\n",
       "    .dataframe thead th {\n",
       "        text-align: right;\n",
       "    }\n",
       "</style>\n",
       "<table border=\"1\" class=\"dataframe\">\n",
       "  <thead>\n",
       "    <tr style=\"text-align: right;\">\n",
       "      <th></th>\n",
       "      <th></th>\n",
       "      <th>flug</th>\n",
       "      <th>fldg</th>\n",
       "      <th>fnetg</th>\n",
       "    </tr>\n",
       "    <tr>\n",
       "      <th>pressure</th>\n",
       "      <th>level</th>\n",
       "      <th></th>\n",
       "      <th></th>\n",
       "      <th></th>\n",
       "    </tr>\n",
       "  </thead>\n",
       "  <tbody>\n",
       "    <tr>\n",
       "      <th>0.0000</th>\n",
       "      <th>1</th>\n",
       "      <td>3.749438e-02</td>\n",
       "      <td>0.000000</td>\n",
       "      <td>0.037494</td>\n",
       "    </tr>\n",
       "    <tr>\n",
       "      <th>1.0685</th>\n",
       "      <th>24</th>\n",
       "      <td>3.789685e-02</td>\n",
       "      <td>-0.000935</td>\n",
       "      <td>0.036962</td>\n",
       "    </tr>\n",
       "    <tr>\n",
       "      <th>1013.0000</th>\n",
       "      <th>76</th>\n",
       "      <td>4.000002e-09</td>\n",
       "      <td>-0.004190</td>\n",
       "      <td>-0.004190</td>\n",
       "    </tr>\n",
       "  </tbody>\n",
       "</table>\n",
       "</div>"
      ],
      "text/plain": [
       "                         flug      fldg     fnetg\n",
       "pressure  level                                  \n",
       "0.0000    1      3.749438e-02  0.000000  0.037494\n",
       "1.0685    24     3.789685e-02 -0.000935  0.036962\n",
       "1013.0000 76     4.000002e-09 -0.004190 -0.004190"
      ]
     },
     "metadata": {},
     "output_type": "display_data"
    },
    {
     "name": "stdout",
     "output_type": "stream",
     "text": [
      "Table. Fluxes. (WGT igg=10 wgt_flux=1) - (CRD)\n"
     ]
    },
    {
     "data": {
      "text/html": [
       "<div>\n",
       "<style scoped>\n",
       "    .dataframe tbody tr th:only-of-type {\n",
       "        vertical-align: middle;\n",
       "    }\n",
       "\n",
       "    .dataframe tbody tr th {\n",
       "        vertical-align: top;\n",
       "    }\n",
       "\n",
       "    .dataframe thead th {\n",
       "        text-align: right;\n",
       "    }\n",
       "</style>\n",
       "<table border=\"1\" class=\"dataframe\">\n",
       "  <thead>\n",
       "    <tr style=\"text-align: right;\">\n",
       "      <th></th>\n",
       "      <th></th>\n",
       "      <th>flug</th>\n",
       "      <th>fldg</th>\n",
       "      <th>fnetg</th>\n",
       "    </tr>\n",
       "    <tr>\n",
       "      <th>pressure</th>\n",
       "      <th>level</th>\n",
       "      <th></th>\n",
       "      <th></th>\n",
       "      <th></th>\n",
       "    </tr>\n",
       "  </thead>\n",
       "  <tbody>\n",
       "    <tr>\n",
       "      <th>0.0000</th>\n",
       "      <th>1</th>\n",
       "      <td>7.461500e-03</td>\n",
       "      <td>9.420030e-08</td>\n",
       "      <td>0.007462</td>\n",
       "    </tr>\n",
       "    <tr>\n",
       "      <th>1.0685</th>\n",
       "      <th>24</th>\n",
       "      <td>7.676400e-03</td>\n",
       "      <td>-2.076137e-03</td>\n",
       "      <td>0.005600</td>\n",
       "    </tr>\n",
       "    <tr>\n",
       "      <th>1013.0000</th>\n",
       "      <th>76</th>\n",
       "      <td>3.000000e-07</td>\n",
       "      <td>-5.967840e-02</td>\n",
       "      <td>-0.059678</td>\n",
       "    </tr>\n",
       "  </tbody>\n",
       "</table>\n",
       "</div>"
      ],
      "text/plain": [
       "                         flug          fldg     fnetg\n",
       "pressure  level                                      \n",
       "0.0000    1      7.461500e-03  9.420030e-08  0.007462\n",
       "1.0685    24     7.676400e-03 -2.076137e-03  0.005600\n",
       "1013.0000 76     3.000000e-07 -5.967840e-02 -0.059678"
      ]
     },
     "metadata": {},
     "output_type": "display_data"
    },
    {
     "name": "stdout",
     "output_type": "stream",
     "text": [
      "Table. Fluxes. (CLIRAD) - (CRD)\n"
     ]
    },
    {
     "data": {
      "text/html": [
       "<a id=\"Best-fit_Parameters\"></a>"
      ],
      "text/plain": [
       "<IPython.core.display.HTML object>"
      ]
     },
     "metadata": {},
     "output_type": "display_data"
    },
    {
     "data": {
      "text/markdown": [
       "# Best-fit Parameters"
      ],
      "text/plain": [
       "<IPython.core.display.Markdown object>"
      ]
     },
     "metadata": {},
     "output_type": "display_data"
    },
    {
     "name": "stdout",
     "output_type": "stream",
     "text": [
      "Best-fit values for each (gas, band)\n",
      "------------------------------------\n",
      "o ch4 band7\n",
      "  atmpro = mls\n",
      "  band = 7\n",
      "  commitnumber = a06b618\n",
      "  conc = 1.8e-06\n",
      "  dv = 0.001\n",
      "  klin = 2e-21\n",
      "  molecule = ch4\n",
      "  ng_adju = [0, 0]\n",
      "  ng_refs = [2, 3]\n",
      "  nv = 1000\n",
      "  option_compute_btable = 0\n",
      "  option_compute_ktable = 1\n",
      "  option_wgt_flux = 1\n",
      "  option_wgt_k = 1\n",
      "  ref_pts = [(1, 250), (500, 250)]\n",
      "  tsfc = 294\n",
      "  vmax = 1380\n",
      "  vmin = 1215\n",
      "  w_diffuse = [(1.66, 1.66), (1.66, 1.66, 1.66)]\n",
      "  wgt = [(0.7, 0.7), (0.4, 0.6, 0.75)]\n"
     ]
    }
   ],
   "source": [
    "script()"
   ]
  },
  {
   "cell_type": "code",
   "execution_count": 13,
   "metadata": {
    "collapsed": true
   },
   "outputs": [
    {
     "data": {
      "text/html": [
       "<script>\n",
       "code_show=true; \n",
       "function code_toggle() {\n",
       " if (code_show){\n",
       " $('div.input').hide();\n",
       " } else {\n",
       " $('div.input').show();\n",
       " }\n",
       " code_show = !code_show\n",
       "} \n",
       "$( document ).ready(code_toggle);\n",
       "</script>\n",
       "<form action=\"javascript:code_toggle()\"><input type=\"submit\" value=\"Click here to toggle on/off the raw code.\"></form>"
      ],
      "text/plain": [
       "<IPython.core.display.HTML object>"
      ]
     },
     "execution_count": 13,
     "metadata": {},
     "output_type": "execute_result"
    }
   ],
   "source": [
    "display.HTML('''<script>\n",
    "code_show=true; \n",
    "function code_toggle() {\n",
    " if (code_show){\n",
    " $('div.input').hide();\n",
    " } else {\n",
    " $('div.input').show();\n",
    " }\n",
    " code_show = !code_show\n",
    "} \n",
    "$( document ).ready(code_toggle);\n",
    "</script>\n",
    "<form action=\"javascript:code_toggle()\"><input type=\"submit\" value=\"Click here to toggle on/off the raw code.\"></form>''')"
   ]
  }
 ],
 "metadata": {
  "kernelspec": {
   "display_name": "Python 3",
   "language": "python",
   "name": "python3"
  },
  "language_info": {
   "codemirror_mode": {
    "name": "ipython",
    "version": 3
   },
   "file_extension": ".py",
   "mimetype": "text/x-python",
   "name": "python",
   "nbconvert_exporter": "python",
   "pygments_lexer": "ipython3",
   "version": "3.6.1"
  }
 },
 "nbformat": 4,
 "nbformat_minor": 2
}
