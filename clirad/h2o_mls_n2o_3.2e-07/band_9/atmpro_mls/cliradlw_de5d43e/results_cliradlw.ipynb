{
 "cells": [
  {
   "cell_type": "code",
   "execution_count": 1,
   "metadata": {
    "collapsed": true
   },
   "outputs": [],
   "source": [
    "%matplotlib inline\n",
    "import os\n",
    "import re\n",
    "import io\n",
    "import itertools\n",
    "import pprint\n",
    "\n",
    "from bokeh.io import output_notebook, show\n",
    "from bokeh.layouts import gridplot\n",
    "from bokeh.plotting import figure\n",
    "from bokeh.models import Range1d, Legend\n",
    "from bokeh.palettes import all_palettes\n",
    "\n",
    "import matplotlib\n",
    "import matplotlib.pyplot as plt\n",
    "import numpy as np\n",
    "import pandas as pd\n",
    "import xarray as xr\n",
    "\n",
    "import climatools.lblnew.bestfit_params as bestfits\n",
    "from climatools.lblnew import setup_bestfit, setup_overlap\n",
    "import climatools.lblnew.pipeline as pipe_lblnew\n",
    "import climatools.cliradlw.setup as setup_cliradlw\n",
    "import climatools.cliradlw.pipeline as pipe_cliradlw\n",
    "\n",
    "import climatools.html.html as climahtml\n",
    "from climatools.lblnew.dataio import *\n",
    "from climatools.plot.plot import *\n",
    "\n",
    "\n",
    "import IPython.display as display"
   ]
  },
  {
   "cell_type": "code",
   "execution_count": 2,
   "metadata": {
    "collapsed": true
   },
   "outputs": [],
   "source": [
    "%run param.py"
   ]
  },
  {
   "cell_type": "code",
   "execution_count": 3,
   "metadata": {
    "collapsed": true
   },
   "outputs": [],
   "source": [
    "def load_output_file(path_csv):\n",
    "    '''\n",
    "    Load lblnew output .csv file to xarray.Dataset\n",
    "    \n",
    "    Parameters\n",
    "    ----------\n",
    "    path_csv: str\n",
    "              Path to the .csv file to be loaded.\n",
    "    ds: xarray.Dataset\n",
    "        Data in the input file in the form of an xarray.Dataset.\n",
    "    '''\n",
    "    toindex = ['band', 'pressure', 'igg', 'g']    \n",
    "    df = pd.read_csv(path_csv, sep=r'\\s+')\n",
    "    df = df.set_index([i for i in toindex if i in df.columns])\n",
    "    df = df.rename(columns={'sfu': 'flug',\n",
    "                            'sfd': 'fldg',\n",
    "                            'fnet': 'fnetg',\n",
    "                            'coolr': 'coolrg'})\n",
    "    ds = xr.Dataset.from_dataframe(df)\n",
    "\n",
    "    for l in ('level', 'layer'):\n",
    "        if l in ds.data_vars:\n",
    "            if len(ds[l].dims) > 1:\n",
    "                surface = {d: 0 for d in ds.dims if d != 'pressure'}\n",
    "                coord_level = ds[l][surface]\n",
    "                ds.coords[l] = ('pressure', coord_level)\n",
    "            else:\n",
    "                ds.coords[l] = ('pressure', ds[l])\n",
    "    \n",
    "    return ds"
   ]
  },
  {
   "cell_type": "code",
   "execution_count": 4,
   "metadata": {
    "collapsed": true
   },
   "outputs": [],
   "source": [
    "def lblnew_setup(param=None):\n",
    "    if 'ng_refs' in param:\n",
    "        return {'setup': setup_bestfit,\n",
    "                'fname_flux_crd': 'output_flux.dat',\n",
    "                'fname_cool_crd': 'output_coolr.dat',\n",
    "                'fname_flux_wgt': 'output_wfluxg.dat',\n",
    "                'fname_cool_wgt': 'output_wcoolrg.dat'}\n",
    "    else:\n",
    "        return {'setup': setup_overlap,\n",
    "                'fname_flux_crd': 'output_flux.dat',\n",
    "                'fname_cool_crd': 'output_coolr.dat',\n",
    "                'fname_flux_wgt': 'output_wflux.dat',\n",
    "                'fname_cool_wgt': 'output_wcoolr.dat'}\n",
    "\n",
    "    \n",
    "def load_lblnew_data(param):\n",
    "    \n",
    "    fname_dsname = [('fname_flux_crd', 'ds_flux_crd'),\n",
    "                    ('fname_cool_crd', 'ds_cool_crd'),\n",
    "                    ('fname_flux_wgt', 'ds_flux_wgt'),\n",
    "                    ('fname_cool_wgt', 'ds_cool_wgt')]\n",
    "    \n",
    "    d = lblnew_setup(param)\n",
    "    dir_fortran = pipe_lblnew.get_dir_case(param, setup=d['setup'])\n",
    "    \n",
    "    data_dict = {}\n",
    "    for fname, dsname in fname_dsname:\n",
    "        fpath = os.path.join(dir_fortran, d[fname])\n",
    "        data_dict[dsname] = load_output_file(fpath)\n",
    "    return data_dict\n",
    "    \n",
    "\n",
    "    \n",
    "    "
   ]
  },
  {
   "cell_type": "code",
   "execution_count": 5,
   "metadata": {
    "collapsed": true
   },
   "outputs": [],
   "source": [
    "d = load_lblnew_data(PARAM_LBLNEW)\n",
    "\n",
    "DS_FLUX_CRD = d['ds_flux_crd']\n",
    "DS_COOL_CRD = d['ds_cool_crd']\n",
    "DS_FLUX_WGT = d['ds_flux_wgt']\n",
    "DS_COOL_WGT = d['ds_cool_wgt']"
   ]
  },
  {
   "cell_type": "code",
   "execution_count": 6,
   "metadata": {
    "collapsed": true
   },
   "outputs": [],
   "source": [
    "DIR_FORTRAN = pipe_cliradlw.get_fortran_dir(PARAM, \n",
    "                                            setup=setup_cliradlw)\n",
    "\n",
    "PATH_FLUX = os.path.join(DIR_FORTRAN, 'output_flux.dat')\n",
    "PATH_COOL = os.path.join(DIR_FORTRAN, 'output_coolr.dat')\n",
    "\n",
    "DS_FLUX = load_output_file(PATH_FLUX)\n",
    "DS_COOL = load_output_file(PATH_COOL)"
   ]
  },
  {
   "cell_type": "code",
   "execution_count": 7,
   "metadata": {},
   "outputs": [
    {
     "data": {
      "text/html": [
       "\n",
       "    <div class=\"bk-root\">\n",
       "        <a href=\"https://bokeh.pydata.org\" target=\"_blank\" class=\"bk-logo bk-logo-small bk-logo-notebook\"></a>\n",
       "        <span id=\"e812da26-c974-4cc3-9657-48af370fe911\">Loading BokehJS ...</span>\n",
       "    </div>"
      ]
     },
     "metadata": {},
     "output_type": "display_data"
    },
    {
     "data": {
      "application/javascript": [
       "\n",
       "(function(root) {\n",
       "  function now() {\n",
       "    return new Date();\n",
       "  }\n",
       "\n",
       "  var force = true;\n",
       "\n",
       "  if (typeof (root._bokeh_onload_callbacks) === \"undefined\" || force === true) {\n",
       "    root._bokeh_onload_callbacks = [];\n",
       "    root._bokeh_is_loading = undefined;\n",
       "  }\n",
       "\n",
       "  var JS_MIME_TYPE = 'application/javascript';\n",
       "  var HTML_MIME_TYPE = 'text/html';\n",
       "  var EXEC_MIME_TYPE = 'application/vnd.bokehjs_exec.v0+json';\n",
       "  var CLASS_NAME = 'output_bokeh rendered_html';\n",
       "\n",
       "  /**\n",
       "   * Render data to the DOM node\n",
       "   */\n",
       "  function render(props, node) {\n",
       "    var script = document.createElement(\"script\");\n",
       "    node.appendChild(script);\n",
       "  }\n",
       "\n",
       "  /**\n",
       "   * Handle when an output is cleared or removed\n",
       "   */\n",
       "  function handleClearOutput(event, handle) {\n",
       "    var cell = handle.cell;\n",
       "\n",
       "    var id = cell.output_area._bokeh_element_id;\n",
       "    var server_id = cell.output_area._bokeh_server_id;\n",
       "    // Clean up Bokeh references\n",
       "    if (id !== undefined) {\n",
       "      Bokeh.index[id].model.document.clear();\n",
       "      delete Bokeh.index[id];\n",
       "    }\n",
       "\n",
       "    if (server_id !== undefined) {\n",
       "      // Clean up Bokeh references\n",
       "      var cmd = \"from bokeh.io.state import curstate; print(curstate().uuid_to_server['\" + server_id + \"'].get_sessions()[0].document.roots[0]._id)\";\n",
       "      cell.notebook.kernel.execute(cmd, {\n",
       "        iopub: {\n",
       "          output: function(msg) {\n",
       "            var element_id = msg.content.text.trim();\n",
       "            Bokeh.index[element_id].model.document.clear();\n",
       "            delete Bokeh.index[element_id];\n",
       "          }\n",
       "        }\n",
       "      });\n",
       "      // Destroy server and session\n",
       "      var cmd = \"import bokeh.io.notebook as ion; ion.destroy_server('\" + server_id + \"')\";\n",
       "      cell.notebook.kernel.execute(cmd);\n",
       "    }\n",
       "  }\n",
       "\n",
       "  /**\n",
       "   * Handle when a new output is added\n",
       "   */\n",
       "  function handleAddOutput(event, handle) {\n",
       "    var output_area = handle.output_area;\n",
       "    var output = handle.output;\n",
       "\n",
       "    // limit handleAddOutput to display_data with EXEC_MIME_TYPE content only\n",
       "    if ((output.output_type != \"display_data\") || (!output.data.hasOwnProperty(EXEC_MIME_TYPE))) {\n",
       "      return\n",
       "    }\n",
       "\n",
       "    var toinsert = output_area.element.find(\".\" + CLASS_NAME.split(' ')[0]);\n",
       "\n",
       "    if (output.metadata[EXEC_MIME_TYPE][\"id\"] !== undefined) {\n",
       "      toinsert[toinsert.length - 1].firstChild.textContent = output.data[JS_MIME_TYPE];\n",
       "      // store reference to embed id on output_area\n",
       "      output_area._bokeh_element_id = output.metadata[EXEC_MIME_TYPE][\"id\"];\n",
       "    }\n",
       "    if (output.metadata[EXEC_MIME_TYPE][\"server_id\"] !== undefined) {\n",
       "      var bk_div = document.createElement(\"div\");\n",
       "      bk_div.innerHTML = output.data[HTML_MIME_TYPE];\n",
       "      var script_attrs = bk_div.children[0].attributes;\n",
       "      for (var i = 0; i < script_attrs.length; i++) {\n",
       "        toinsert[toinsert.length - 1].firstChild.setAttribute(script_attrs[i].name, script_attrs[i].value);\n",
       "      }\n",
       "      // store reference to server id on output_area\n",
       "      output_area._bokeh_server_id = output.metadata[EXEC_MIME_TYPE][\"server_id\"];\n",
       "    }\n",
       "  }\n",
       "\n",
       "  function register_renderer(events, OutputArea) {\n",
       "\n",
       "    function append_mime(data, metadata, element) {\n",
       "      // create a DOM node to render to\n",
       "      var toinsert = this.create_output_subarea(\n",
       "        metadata,\n",
       "        CLASS_NAME,\n",
       "        EXEC_MIME_TYPE\n",
       "      );\n",
       "      this.keyboard_manager.register_events(toinsert);\n",
       "      // Render to node\n",
       "      var props = {data: data, metadata: metadata[EXEC_MIME_TYPE]};\n",
       "      render(props, toinsert[toinsert.length - 1]);\n",
       "      element.append(toinsert);\n",
       "      return toinsert\n",
       "    }\n",
       "\n",
       "    /* Handle when an output is cleared or removed */\n",
       "    events.on('clear_output.CodeCell', handleClearOutput);\n",
       "    events.on('delete.Cell', handleClearOutput);\n",
       "\n",
       "    /* Handle when a new output is added */\n",
       "    events.on('output_added.OutputArea', handleAddOutput);\n",
       "\n",
       "    /**\n",
       "     * Register the mime type and append_mime function with output_area\n",
       "     */\n",
       "    OutputArea.prototype.register_mime_type(EXEC_MIME_TYPE, append_mime, {\n",
       "      /* Is output safe? */\n",
       "      safe: true,\n",
       "      /* Index of renderer in `output_area.display_order` */\n",
       "      index: 0\n",
       "    });\n",
       "  }\n",
       "\n",
       "  // register the mime type if in Jupyter Notebook environment and previously unregistered\n",
       "  if (root.Jupyter !== undefined) {\n",
       "    var events = require('base/js/events');\n",
       "    var OutputArea = require('notebook/js/outputarea').OutputArea;\n",
       "\n",
       "    if (OutputArea.prototype.mime_types().indexOf(EXEC_MIME_TYPE) == -1) {\n",
       "      register_renderer(events, OutputArea);\n",
       "    }\n",
       "  }\n",
       "\n",
       "  \n",
       "  if (typeof (root._bokeh_timeout) === \"undefined\" || force === true) {\n",
       "    root._bokeh_timeout = Date.now() + 5000;\n",
       "    root._bokeh_failed_load = false;\n",
       "  }\n",
       "\n",
       "  var NB_LOAD_WARNING = {'data': {'text/html':\n",
       "     \"<div style='background-color: #fdd'>\\n\"+\n",
       "     \"<p>\\n\"+\n",
       "     \"BokehJS does not appear to have successfully loaded. If loading BokehJS from CDN, this \\n\"+\n",
       "     \"may be due to a slow or bad network connection. Possible fixes:\\n\"+\n",
       "     \"</p>\\n\"+\n",
       "     \"<ul>\\n\"+\n",
       "     \"<li>re-rerun `output_notebook()` to attempt to load from CDN again, or</li>\\n\"+\n",
       "     \"<li>use INLINE resources instead, as so:</li>\\n\"+\n",
       "     \"</ul>\\n\"+\n",
       "     \"<code>\\n\"+\n",
       "     \"from bokeh.resources import INLINE\\n\"+\n",
       "     \"output_notebook(resources=INLINE)\\n\"+\n",
       "     \"</code>\\n\"+\n",
       "     \"</div>\"}};\n",
       "\n",
       "  function display_loaded() {\n",
       "    var el = document.getElementById(\"e812da26-c974-4cc3-9657-48af370fe911\");\n",
       "    if (el != null) {\n",
       "      el.textContent = \"BokehJS is loading...\";\n",
       "    }\n",
       "    if (root.Bokeh !== undefined) {\n",
       "      if (el != null) {\n",
       "        el.textContent = \"BokehJS \" + root.Bokeh.version + \" successfully loaded.\";\n",
       "      }\n",
       "    } else if (Date.now() < root._bokeh_timeout) {\n",
       "      setTimeout(display_loaded, 100)\n",
       "    }\n",
       "  }\n",
       "\n",
       "\n",
       "  function run_callbacks() {\n",
       "    try {\n",
       "      root._bokeh_onload_callbacks.forEach(function(callback) { callback() });\n",
       "    }\n",
       "    finally {\n",
       "      delete root._bokeh_onload_callbacks\n",
       "    }\n",
       "    console.info(\"Bokeh: all callbacks have finished\");\n",
       "  }\n",
       "\n",
       "  function load_libs(js_urls, callback) {\n",
       "    root._bokeh_onload_callbacks.push(callback);\n",
       "    if (root._bokeh_is_loading > 0) {\n",
       "      console.log(\"Bokeh: BokehJS is being loaded, scheduling callback at\", now());\n",
       "      return null;\n",
       "    }\n",
       "    if (js_urls == null || js_urls.length === 0) {\n",
       "      run_callbacks();\n",
       "      return null;\n",
       "    }\n",
       "    console.log(\"Bokeh: BokehJS not loaded, scheduling load and callback at\", now());\n",
       "    root._bokeh_is_loading = js_urls.length;\n",
       "    for (var i = 0; i < js_urls.length; i++) {\n",
       "      var url = js_urls[i];\n",
       "      var s = document.createElement('script');\n",
       "      s.src = url;\n",
       "      s.async = false;\n",
       "      s.onreadystatechange = s.onload = function() {\n",
       "        root._bokeh_is_loading--;\n",
       "        if (root._bokeh_is_loading === 0) {\n",
       "          console.log(\"Bokeh: all BokehJS libraries loaded\");\n",
       "          run_callbacks()\n",
       "        }\n",
       "      };\n",
       "      s.onerror = function() {\n",
       "        console.warn(\"failed to load library \" + url);\n",
       "      };\n",
       "      console.log(\"Bokeh: injecting script tag for BokehJS library: \", url);\n",
       "      document.getElementsByTagName(\"head\")[0].appendChild(s);\n",
       "    }\n",
       "  };var element = document.getElementById(\"e812da26-c974-4cc3-9657-48af370fe911\");\n",
       "  if (element == null) {\n",
       "    console.log(\"Bokeh: ERROR: autoload.js configured with elementid 'e812da26-c974-4cc3-9657-48af370fe911' but no matching script tag was found. \")\n",
       "    return false;\n",
       "  }\n",
       "\n",
       "  var js_urls = [\"https://cdn.pydata.org/bokeh/release/bokeh-0.12.16.min.js\", \"https://cdn.pydata.org/bokeh/release/bokeh-widgets-0.12.16.min.js\", \"https://cdn.pydata.org/bokeh/release/bokeh-tables-0.12.16.min.js\", \"https://cdn.pydata.org/bokeh/release/bokeh-gl-0.12.16.min.js\"];\n",
       "\n",
       "  var inline_js = [\n",
       "    function(Bokeh) {\n",
       "      Bokeh.set_log_level(\"info\");\n",
       "    },\n",
       "    \n",
       "    function(Bokeh) {\n",
       "      \n",
       "    },\n",
       "    function(Bokeh) {\n",
       "      console.log(\"Bokeh: injecting CSS: https://cdn.pydata.org/bokeh/release/bokeh-0.12.16.min.css\");\n",
       "      Bokeh.embed.inject_css(\"https://cdn.pydata.org/bokeh/release/bokeh-0.12.16.min.css\");\n",
       "      console.log(\"Bokeh: injecting CSS: https://cdn.pydata.org/bokeh/release/bokeh-widgets-0.12.16.min.css\");\n",
       "      Bokeh.embed.inject_css(\"https://cdn.pydata.org/bokeh/release/bokeh-widgets-0.12.16.min.css\");\n",
       "      console.log(\"Bokeh: injecting CSS: https://cdn.pydata.org/bokeh/release/bokeh-tables-0.12.16.min.css\");\n",
       "      Bokeh.embed.inject_css(\"https://cdn.pydata.org/bokeh/release/bokeh-tables-0.12.16.min.css\");\n",
       "    }\n",
       "  ];\n",
       "\n",
       "  function run_inline_js() {\n",
       "    \n",
       "    if ((root.Bokeh !== undefined) || (force === true)) {\n",
       "      for (var i = 0; i < inline_js.length; i++) {\n",
       "        inline_js[i].call(root, root.Bokeh);\n",
       "      }if (force === true) {\n",
       "        display_loaded();\n",
       "      }} else if (Date.now() < root._bokeh_timeout) {\n",
       "      setTimeout(run_inline_js, 100);\n",
       "    } else if (!root._bokeh_failed_load) {\n",
       "      console.log(\"Bokeh: BokehJS failed to load within specified timeout.\");\n",
       "      root._bokeh_failed_load = true;\n",
       "    } else if (force !== true) {\n",
       "      var cell = $(document.getElementById(\"e812da26-c974-4cc3-9657-48af370fe911\")).parents('.cell').data().cell;\n",
       "      cell.output_area.append_execute_result(NB_LOAD_WARNING)\n",
       "    }\n",
       "\n",
       "  }\n",
       "\n",
       "  if (root._bokeh_is_loading === 0) {\n",
       "    console.log(\"Bokeh: BokehJS loaded, going straight to plotting\");\n",
       "    run_inline_js();\n",
       "  } else {\n",
       "    load_libs(js_urls, function() {\n",
       "      console.log(\"Bokeh: BokehJS plotting callback run at\", now());\n",
       "      run_inline_js();\n",
       "    });\n",
       "  }\n",
       "}(window));"
      ],
      "application/vnd.bokehjs_load.v0+json": "\n(function(root) {\n  function now() {\n    return new Date();\n  }\n\n  var force = true;\n\n  if (typeof (root._bokeh_onload_callbacks) === \"undefined\" || force === true) {\n    root._bokeh_onload_callbacks = [];\n    root._bokeh_is_loading = undefined;\n  }\n\n  \n\n  \n  if (typeof (root._bokeh_timeout) === \"undefined\" || force === true) {\n    root._bokeh_timeout = Date.now() + 5000;\n    root._bokeh_failed_load = false;\n  }\n\n  var NB_LOAD_WARNING = {'data': {'text/html':\n     \"<div style='background-color: #fdd'>\\n\"+\n     \"<p>\\n\"+\n     \"BokehJS does not appear to have successfully loaded. If loading BokehJS from CDN, this \\n\"+\n     \"may be due to a slow or bad network connection. Possible fixes:\\n\"+\n     \"</p>\\n\"+\n     \"<ul>\\n\"+\n     \"<li>re-rerun `output_notebook()` to attempt to load from CDN again, or</li>\\n\"+\n     \"<li>use INLINE resources instead, as so:</li>\\n\"+\n     \"</ul>\\n\"+\n     \"<code>\\n\"+\n     \"from bokeh.resources import INLINE\\n\"+\n     \"output_notebook(resources=INLINE)\\n\"+\n     \"</code>\\n\"+\n     \"</div>\"}};\n\n  function display_loaded() {\n    var el = document.getElementById(\"e812da26-c974-4cc3-9657-48af370fe911\");\n    if (el != null) {\n      el.textContent = \"BokehJS is loading...\";\n    }\n    if (root.Bokeh !== undefined) {\n      if (el != null) {\n        el.textContent = \"BokehJS \" + root.Bokeh.version + \" successfully loaded.\";\n      }\n    } else if (Date.now() < root._bokeh_timeout) {\n      setTimeout(display_loaded, 100)\n    }\n  }\n\n\n  function run_callbacks() {\n    try {\n      root._bokeh_onload_callbacks.forEach(function(callback) { callback() });\n    }\n    finally {\n      delete root._bokeh_onload_callbacks\n    }\n    console.info(\"Bokeh: all callbacks have finished\");\n  }\n\n  function load_libs(js_urls, callback) {\n    root._bokeh_onload_callbacks.push(callback);\n    if (root._bokeh_is_loading > 0) {\n      console.log(\"Bokeh: BokehJS is being loaded, scheduling callback at\", now());\n      return null;\n    }\n    if (js_urls == null || js_urls.length === 0) {\n      run_callbacks();\n      return null;\n    }\n    console.log(\"Bokeh: BokehJS not loaded, scheduling load and callback at\", now());\n    root._bokeh_is_loading = js_urls.length;\n    for (var i = 0; i < js_urls.length; i++) {\n      var url = js_urls[i];\n      var s = document.createElement('script');\n      s.src = url;\n      s.async = false;\n      s.onreadystatechange = s.onload = function() {\n        root._bokeh_is_loading--;\n        if (root._bokeh_is_loading === 0) {\n          console.log(\"Bokeh: all BokehJS libraries loaded\");\n          run_callbacks()\n        }\n      };\n      s.onerror = function() {\n        console.warn(\"failed to load library \" + url);\n      };\n      console.log(\"Bokeh: injecting script tag for BokehJS library: \", url);\n      document.getElementsByTagName(\"head\")[0].appendChild(s);\n    }\n  };var element = document.getElementById(\"e812da26-c974-4cc3-9657-48af370fe911\");\n  if (element == null) {\n    console.log(\"Bokeh: ERROR: autoload.js configured with elementid 'e812da26-c974-4cc3-9657-48af370fe911' but no matching script tag was found. \")\n    return false;\n  }\n\n  var js_urls = [\"https://cdn.pydata.org/bokeh/release/bokeh-0.12.16.min.js\", \"https://cdn.pydata.org/bokeh/release/bokeh-widgets-0.12.16.min.js\", \"https://cdn.pydata.org/bokeh/release/bokeh-tables-0.12.16.min.js\", \"https://cdn.pydata.org/bokeh/release/bokeh-gl-0.12.16.min.js\"];\n\n  var inline_js = [\n    function(Bokeh) {\n      Bokeh.set_log_level(\"info\");\n    },\n    \n    function(Bokeh) {\n      \n    },\n    function(Bokeh) {\n      console.log(\"Bokeh: injecting CSS: https://cdn.pydata.org/bokeh/release/bokeh-0.12.16.min.css\");\n      Bokeh.embed.inject_css(\"https://cdn.pydata.org/bokeh/release/bokeh-0.12.16.min.css\");\n      console.log(\"Bokeh: injecting CSS: https://cdn.pydata.org/bokeh/release/bokeh-widgets-0.12.16.min.css\");\n      Bokeh.embed.inject_css(\"https://cdn.pydata.org/bokeh/release/bokeh-widgets-0.12.16.min.css\");\n      console.log(\"Bokeh: injecting CSS: https://cdn.pydata.org/bokeh/release/bokeh-tables-0.12.16.min.css\");\n      Bokeh.embed.inject_css(\"https://cdn.pydata.org/bokeh/release/bokeh-tables-0.12.16.min.css\");\n    }\n  ];\n\n  function run_inline_js() {\n    \n    if ((root.Bokeh !== undefined) || (force === true)) {\n      for (var i = 0; i < inline_js.length; i++) {\n        inline_js[i].call(root, root.Bokeh);\n      }if (force === true) {\n        display_loaded();\n      }} else if (Date.now() < root._bokeh_timeout) {\n      setTimeout(run_inline_js, 100);\n    } else if (!root._bokeh_failed_load) {\n      console.log(\"Bokeh: BokehJS failed to load within specified timeout.\");\n      root._bokeh_failed_load = true;\n    } else if (force !== true) {\n      var cell = $(document.getElementById(\"e812da26-c974-4cc3-9657-48af370fe911\")).parents('.cell').data().cell;\n      cell.output_area.append_execute_result(NB_LOAD_WARNING)\n    }\n\n  }\n\n  if (root._bokeh_is_loading === 0) {\n    console.log(\"Bokeh: BokehJS loaded, going straight to plotting\");\n    run_inline_js();\n  } else {\n    load_libs(js_urls, function() {\n      console.log(\"Bokeh: BokehJS plotting callback run at\", now());\n      run_inline_js();\n    });\n  }\n}(window));"
     },
     "metadata": {},
     "output_type": "display_data"
    }
   ],
   "source": [
    "output_notebook()"
   ]
  },
  {
   "cell_type": "code",
   "execution_count": 8,
   "metadata": {
    "collapsed": true
   },
   "outputs": [],
   "source": [
    "def fmt_cool(ds_in):\n",
    "    ds = ds_in.copy(deep=True)\n",
    "    if 'igg' in ds.dims:\n",
    "        ds = ds.sel(igg=1)\n",
    "\n",
    "    if 'g' in ds.dims:\n",
    "        ds = ds.sum('g')\n",
    "            \n",
    "    if 'band' in ds.dims:\n",
    "        try:\n",
    "            ds = ds.squeeze('band')\n",
    "        except ValueError:\n",
    "            ds = ds.sum('band')\n",
    "                \n",
    "    return ds['coolrg']\n",
    "\n",
    "\n",
    "def pltdata_cooling_1(ds_cool=None,\n",
    "                      ds_cool_crd=None, ds_cool_wgt=None):\n",
    "    \n",
    "\n",
    "\n",
    "    colors = all_palettes['Set1'][4]\n",
    "    data = [{'label': 'CLIRAD `coolr_bands`',\n",
    "             'srs': fmt_cool(ds_cool),\n",
    "             'line_dash': 'dashed', 'line_width': 5,\n",
    "             'color': colors[0], 'alpha': .6},\n",
    "            {'label': 'CRD',\n",
    "             'srs': fmt_cool(ds_cool_crd),\n",
    "             'line_dash': 'solid', 'line_width': 1.5,\n",
    "             'marker': 'circle', 'marker_size': 5,\n",
    "             'color': colors[2], 'alpha': 1,},\n",
    "            {'label': 'WGT igg=10 wgt_flux=2',\n",
    "             'srs': fmt_cool(ds_cool_wgt),\n",
    "             'line_dash': 'solid', 'line_width': 3,\n",
    "             'marker': 'square', 'marker_size': 5,\n",
    "             'color': colors[3], 'alpha': .6}]\n",
    "    return data\n",
    "\n",
    "\n",
    "def nice_xlims(pltdata=None, prange=None):\n",
    "    \n",
    "    def get_slice(srs):\n",
    "        return srs.sel(pressure=slice(*prange))\n",
    "    \n",
    "    srss = [d['srs'] for d in pltdata]\n",
    "    vmin = min([get_slice(srs).min() for srs in srss])\n",
    "    vmax = max([get_slice(srs).max() for srs in srss])\n",
    "    dv = (vmax - vmin) * .01\n",
    "    return float(vmin - dv), float(vmax + dv)\n",
    "    \n",
    "\n",
    "def plt_cooling_bokeh(pltdata=None):\n",
    "    '''\n",
    "    Plot a list of cooling rate profiles using bokeh.\n",
    "    '''\n",
    "    ymin = 1e-2 \n",
    "    ymax = 1020 \n",
    "        \n",
    "    p1 = figure(title=\"Linear pressure scale\", \n",
    "                plot_width=400)        \n",
    "    xmin, xmax = nice_xlims(pltdata, prange=(50, 1050))\n",
    "    for d in pltdata:\n",
    "        if 'marker' in d:\n",
    "            getattr(p1, d['marker'])(d['srs'].values, \n",
    "                    d['srs'].coords['pressure'].values,\n",
    "                    color=d['color'], alpha=.7)\n",
    "        p1.line(d['srs'].values, \n",
    "                d['srs'].coords['pressure'].values,\n",
    "                color=d['color'], alpha=d['alpha'], \n",
    "                line_width=d['line_width'], line_dash=d['line_dash'])\n",
    "    \n",
    "    p1.y_range = Range1d(ymax, ymin)\n",
    "    p1.yaxis.axis_label = 'pressure [mb]'   \n",
    "    p1.x_range = Range1d(xmin, xmax)\n",
    "    p1.xaxis.axis_label = 'cooling rate [K/day]'\n",
    "            \n",
    "    p2 = figure(title='Log pressure scale', y_axis_type='log',\n",
    "                plot_width=560)\n",
    "    xmin, xmax = nice_xlims(pltdata, prange=(.01, 200))\n",
    "    \n",
    "    rs = []\n",
    "    for d in pltdata:\n",
    "        rd = []\n",
    "        if 'marker' in d:\n",
    "            r_mark = getattr(p2, d['marker'])(d['srs'].values, \n",
    "                        d['srs'].coords['pressure'].values,\n",
    "                        color=d['color'], alpha=.7)\n",
    "            rd.append(r_mark)\n",
    "        r_line = p2.line(d['srs'].values, \n",
    "                    d['srs'].coords['pressure'].values,\n",
    "                    color=d['color'], alpha=d['alpha'], \n",
    "                    line_width=d['line_width'], line_dash=d['line_dash'])\n",
    "        rd.append(r_line)\n",
    "      \n",
    "        rs.append(rd)\n",
    "        \n",
    "    p2.y_range = Range1d(ymax, ymin)  \n",
    "    p2.yaxis.axis_label = 'pressure [mb]'\n",
    "    \n",
    "    p2.x_range = Range1d(xmin, xmax)\n",
    "    p2.xaxis.axis_label = 'cooling rate [K/day]'\n",
    "    \n",
    "    items = [(d['label'], r) for r, d in zip(rs, pltdata)]\n",
    "    legend = Legend(items=items, location=(10, -30))\n",
    "    legend.label_text_font_size = '8pt'\n",
    "    \n",
    "    p2.add_layout(legend, 'right')  \n",
    "    \n",
    "    show(gridplot(p1, p2, ncols=2, plot_height=500))\n",
    "    \n",
    "\n",
    "def script_plt_cooling():\n",
    "    pltdata = pltdata_cooling_1(\n",
    "        ds_cool=DS_COOL,\n",
    "        ds_cool_crd=DS_COOL_CRD,\n",
    "        ds_cool_wgt=DS_COOL_WGT)\n",
    "    plt_cooling_bokeh(pltdata=pltdata)\n",
    "    print('''FIGURE. Cooling rate profiles.''')"
   ]
  },
  {
   "cell_type": "code",
   "execution_count": 9,
   "metadata": {
    "collapsed": true
   },
   "outputs": [],
   "source": [
    "def fmt_flux(ds_in):\n",
    "    ds = ds_in.copy(deep=True)\n",
    "    \n",
    "    for l in ('level', 'layer'):\n",
    "        if l in ds.data_vars:\n",
    "            if len(ds[l].dims) > 1:\n",
    "                surface = {d: 0 for d in ds.dims if d != 'pressure'}\n",
    "                coord_level = ds[l][surface]\n",
    "                ds.coords[l] = ('pressure', coord_level)\n",
    "            else:\n",
    "                ds.coords[l] = ('pressure', ds[l])\n",
    "        \n",
    "    ds = ds.isel(pressure=[0, 23, -1])\n",
    "        \n",
    "    if 'igg' in ds.dims:\n",
    "        ds = ds.sel(igg=[1])\n",
    "        ds = ds.squeeze('igg').drop('igg')\n",
    "    \n",
    "    if 'g' in ds.dims:\n",
    "        ds = ds.sum('g')\n",
    "            \n",
    "    if 'band' in ds.dims:\n",
    "        try:\n",
    "            ds = ds.squeeze('band').drop('band')\n",
    "        except ValueError:\n",
    "            ds = ds.sum('band')\n",
    "                \n",
    "    df = ds.to_dataframe()\n",
    "    df = df.set_index('level', append=True)               \n",
    "    return df\n",
    "\n",
    "\n",
    "def tbdata_flux(ds_flux=None, ds_flux_crd=None, ds_flux_wgt=None):\n",
    "    ilevels = [0, 23, -1]\n",
    "            \n",
    "    benchmark = {'label': 'CRD',\n",
    "                 'df': fmt_flux(ds_flux_crd)}\n",
    "    \n",
    "    tbs = [{'label': 'WGT igg=10 wgt_flux=1',\n",
    "            'df': fmt_flux(ds_flux_wgt)},\n",
    "           {'label': 'CLIRAD',\n",
    "            'df': fmt_flux(ds_flux)}]\n",
    "    \n",
    "    data = {'benchmark': benchmark, 'others': tbs}\n",
    "    return data\n",
    "\n",
    "\n",
    "def tb_flux(tbdata=None):\n",
    "    benchmark = tbdata['benchmark']\n",
    "    others = tbdata['others']\n",
    "    \n",
    "    def show_tb(d=None):\n",
    "        display.display(d['df'])\n",
    "        print('Table.', 'Fluxes.', d['label'])\n",
    "        \n",
    "    def show_tbdiff(d0=None, d=None):\n",
    "        df = d['df']\n",
    "        df.index = d0['df'].index\n",
    "        display.display(df - d0['df'])\n",
    "        print('Table.', 'Fluxes.', \n",
    "              '({}) - ({})'.format(d['label'], d0['label']))\n",
    "        \n",
    "    show_tb(benchmark)\n",
    "    for d in others:\n",
    "        show_tb(d)\n",
    "        \n",
    "    for d in others:\n",
    "        show_tbdiff(d=d, d0=benchmark)\n",
    "        \n",
    "        \n",
    "def script_tb_flux():\n",
    "    data = tbdata_flux(ds_flux=DS_FLUX,\n",
    "                       ds_flux_crd=DS_FLUX_CRD,\n",
    "                       ds_flux_wgt=DS_FLUX_WGT)\n",
    "    tb_flux(tbdata=data)"
   ]
  },
  {
   "cell_type": "code",
   "execution_count": 10,
   "metadata": {
    "collapsed": true
   },
   "outputs": [],
   "source": [
    "def band_map():\n",
    "    '''\n",
    "    Maps spectral bands in lblnew to spectral bands in clirad.\n",
    "    '''\n",
    "    lblnew2clirad = {'1': '1',\n",
    "            '2': '2',\n",
    "            '3a': '3',\n",
    "            '3b': '4',\n",
    "            '3c': '5',\n",
    "            '4': '6', \n",
    "            '5': '7',\n",
    "            '6': '8',\n",
    "            '7': '9', \n",
    "            '8': '10',\n",
    "            '9': '11'}\n",
    "    \n",
    "    clirad2lblnew = {clirad: lblnew \n",
    "                     for lblnew, clirad in lblnew2clirad.items()}\n",
    "    return clirad2lblnew\n",
    "\n",
    "\n",
    "def gasbands():\n",
    "    bmap = band_map()\n",
    "    gases = list(PARAM['molecule'].keys())\n",
    "    \n",
    "    bands = [bmap[str(b)] for b in PARAM['band']]\n",
    "    return list(itertools.product(gases, bands))\n",
    "\n",
    "\n",
    "def print_bestfit_params():\n",
    "    print('Best-fit values for each (gas, band)')\n",
    "    print('------------------------------------')\n",
    "    for gas, band in gasbands():\n",
    "        print('o {} band{}'.format(gas, band))\n",
    "        param = bestfits.kdist_params(molecule=gas, band=band)\n",
    "        for name, value in sorted(param.items()):\n",
    "            print(2 * ' ' + '{} = {}'.format(name, value))\n",
    "\n",
    "        \n",
    "def print_input_param():        \n",
    "    for name, value in PARAM.items():\n",
    "        print('{} = {}'.format(name, value))\n",
    "        \n",
    "        \n",
    "def print_lblnew_param():\n",
    "    for name, value in sorted(PARAM_LBLNEW.items()):\n",
    "        print('{} = {}'.format(name, value))\n"
   ]
  },
  {
   "cell_type": "code",
   "execution_count": 11,
   "metadata": {
    "collapsed": true,
    "scrolled": false
   },
   "outputs": [],
   "source": [
    "def show_html(s):\n",
    "    display.display(display.HTML(s))\n",
    "\n",
    "    \n",
    "def show_markdown(s):\n",
    "    display.display(display.Markdown(s))\n",
    "\n",
    "    \n",
    "def script():\n",
    "    \n",
    "    title = '### CLIRAD-LW'\n",
    "    s_input = 'Input Parameters'\n",
    "    s_lblnew_param = 'LBLNEW case compaired against'\n",
    "    s_bestfits = 'Best-fit Parameters'\n",
    "    s_plt_cooling = 'Cooling Rate Profiles'\n",
    "    s_tb_flux = 'Flux Comparison'\n",
    "    \n",
    "    # title\n",
    "    show_markdown('### CLIRAD-LW')\n",
    "    \n",
    "    # TOC\n",
    "    show_markdown('### Table of Contents')\n",
    "    show_html(climahtml.getHTML_hrefanchor(s_input))\n",
    "    show_html(climahtml.getHTML_hrefanchor(s_lblnew_param))\n",
    "    show_html(climahtml.getHTML_hrefanchor(s_plt_cooling))\n",
    "    show_html(climahtml.getHTML_hrefanchor(s_tb_flux))\n",
    "    show_html(climahtml.getHTML_hrefanchor(s_bestfits))\n",
    "    \n",
    "    # Input parameters\n",
    "    show_html(climahtml.getHTML_idanchor(s_input))\n",
    "    show_markdown(climahtml.getMarkdown_sectitle(s_input))\n",
    "    print_input_param()\n",
    "    \n",
    "    # LBLNEW parameters \n",
    "    show_html(climahtml.getHTML_idanchor(s_lblnew_param))\n",
    "    show_markdown(climahtml.getMarkdown_sectitle(s_lblnew_param))\n",
    "    print_lblnew_param()\n",
    "    \n",
    "    # Cooling rate profiles\n",
    "    show_html(climahtml.getHTML_idanchor(s_plt_cooling))\n",
    "    show_markdown(climahtml.getMarkdown_sectitle(s_plt_cooling))\n",
    "    script_plt_cooling()\n",
    "    \n",
    "    # Flux comparison\n",
    "    show_html(climahtml.getHTML_idanchor(s_tb_flux))\n",
    "    show_markdown(climahtml.getMarkdown_sectitle(s_tb_flux))\n",
    "    script_tb_flux()\n",
    "    \n",
    "    # Best-fit values\n",
    "    show_html(climahtml.getHTML_idanchor(s_bestfits))\n",
    "    show_markdown(climahtml.getMarkdown_sectitle(s_bestfits))\n",
    "    print_bestfit_params()\n",
    "   \n",
    "    "
   ]
  },
  {
   "cell_type": "code",
   "execution_count": 12,
   "metadata": {
    "scrolled": false
   },
   "outputs": [
    {
     "data": {
      "text/markdown": [
       "### CLIRAD-LW"
      ],
      "text/plain": [
       "<IPython.core.display.Markdown object>"
      ]
     },
     "metadata": {},
     "output_type": "display_data"
    },
    {
     "data": {
      "text/markdown": [
       "### Table of Contents"
      ],
      "text/plain": [
       "<IPython.core.display.Markdown object>"
      ]
     },
     "metadata": {},
     "output_type": "display_data"
    },
    {
     "data": {
      "text/html": [
       "<a href=\"#Input_Parameters\">Input Parameters</a>"
      ],
      "text/plain": [
       "<IPython.core.display.HTML object>"
      ]
     },
     "metadata": {},
     "output_type": "display_data"
    },
    {
     "data": {
      "text/html": [
       "<a href=\"#LBLNEW_case_compaired_against\">LBLNEW case compaired against</a>"
      ],
      "text/plain": [
       "<IPython.core.display.HTML object>"
      ]
     },
     "metadata": {},
     "output_type": "display_data"
    },
    {
     "data": {
      "text/html": [
       "<a href=\"#Cooling_Rate_Profiles\">Cooling Rate Profiles</a>"
      ],
      "text/plain": [
       "<IPython.core.display.HTML object>"
      ]
     },
     "metadata": {},
     "output_type": "display_data"
    },
    {
     "data": {
      "text/html": [
       "<a href=\"#Flux_Comparison\">Flux Comparison</a>"
      ],
      "text/plain": [
       "<IPython.core.display.HTML object>"
      ]
     },
     "metadata": {},
     "output_type": "display_data"
    },
    {
     "data": {
      "text/html": [
       "<a href=\"#Best-fit_Parameters\">Best-fit Parameters</a>"
      ],
      "text/plain": [
       "<IPython.core.display.HTML object>"
      ]
     },
     "metadata": {},
     "output_type": "display_data"
    },
    {
     "data": {
      "text/html": [
       "<a id=\"Input_Parameters\"></a>"
      ],
      "text/plain": [
       "<IPython.core.display.HTML object>"
      ]
     },
     "metadata": {},
     "output_type": "display_data"
    },
    {
     "data": {
      "text/markdown": [
       "# Input Parameters"
      ],
      "text/plain": [
       "<IPython.core.display.Markdown object>"
      ]
     },
     "metadata": {},
     "output_type": "display_data"
    },
    {
     "name": "stdout",
     "output_type": "stream",
     "text": [
      "commitnumber = de5d43e\n",
      "molecule = {'h2o': 'atmpro', 'n2o': 3.2e-07}\n",
      "band = [9]\n",
      "atmpro = mls\n",
      "tsfc = 294\n"
     ]
    },
    {
     "data": {
      "text/html": [
       "<a id=\"LBLNEW_case_compaired_against\"></a>"
      ],
      "text/plain": [
       "<IPython.core.display.HTML object>"
      ]
     },
     "metadata": {},
     "output_type": "display_data"
    },
    {
     "data": {
      "text/markdown": [
       "# LBLNEW case compaired against"
      ],
      "text/plain": [
       "<IPython.core.display.Markdown object>"
      ]
     },
     "metadata": {},
     "output_type": "display_data"
    },
    {
     "name": "stdout",
     "output_type": "stream",
     "text": [
      "atmpro = mls\n",
      "band = 7\n",
      "commitnumber = 5014a19\n",
      "dv = 0.001\n",
      "molecule = {'h2o': 'atmpro', 'n2o': 3.2e-07}\n",
      "nv = 1000\n",
      "tsfc = 294\n"
     ]
    },
    {
     "data": {
      "text/html": [
       "<a id=\"Cooling_Rate_Profiles\"></a>"
      ],
      "text/plain": [
       "<IPython.core.display.HTML object>"
      ]
     },
     "metadata": {},
     "output_type": "display_data"
    },
    {
     "data": {
      "text/markdown": [
       "# Cooling Rate Profiles"
      ],
      "text/plain": [
       "<IPython.core.display.Markdown object>"
      ]
     },
     "metadata": {},
     "output_type": "display_data"
    },
    {
     "data": {
      "text/html": [
       "\n",
       "<div class=\"bk-root\">\n",
       "    <div class=\"bk-plotdiv\" id=\"ed4aa2a2-3244-4fb5-8d78-59da2bd882ad\"></div>\n",
       "</div>"
      ]
     },
     "metadata": {},
     "output_type": "display_data"
    },
    {
     "data": {
      "application/javascript": [
       "(function(root) {\n",
       "  function embed_document(root) {\n",
       "    \n",
       "  var docs_json = {\"76cfb39b-f166-4a0d-8324-c48bf0531522\":{\"roots\":{\"references\":[{\"attributes\":{\"tools\":[{\"id\":\"e0e5e7b4-8726-4a95-a861-1b2045a67af9\",\"type\":\"PanTool\"},{\"id\":\"ee2a7ce9-7cda-4773-9874-e92a4bf6fe92\",\"type\":\"WheelZoomTool\"},{\"id\":\"24067f10-a3a4-4bd0-bb30-286b8340e86d\",\"type\":\"BoxZoomTool\"},{\"id\":\"0dda587b-0709-4d25-a035-f9ea15594055\",\"type\":\"SaveTool\"},{\"id\":\"92459385-177c-4bd3-b63b-bb9d052c05c8\",\"type\":\"ResetTool\"},{\"id\":\"e3f98029-c5a4-40e1-9574-ed794deee63d\",\"type\":\"HelpTool\"},{\"id\":\"3a578cb3-0cae-4e91-b7bf-dd1577bd1662\",\"type\":\"PanTool\"},{\"id\":\"17ffd188-52ca-4892-860f-4cc7fd2109a2\",\"type\":\"WheelZoomTool\"},{\"id\":\"9a261487-b2cd-4f45-9c43-f044c48a1f72\",\"type\":\"BoxZoomTool\"},{\"id\":\"4f7ab864-81a6-43cb-b834-e78397e06f79\",\"type\":\"SaveTool\"},{\"id\":\"dd07293b-262d-45fb-be2e-555079386563\",\"type\":\"ResetTool\"},{\"id\":\"28edc66c-1fdc-491a-9844-05ed8c5187b2\",\"type\":\"HelpTool\"}]},\"id\":\"2f8860e2-8993-434b-8200-75d6079b1aaf\",\"type\":\"ProxyToolbar\"},{\"attributes\":{\"source\":{\"id\":\"043e0062-52cf-4da1-9bcd-32fd05ff7a92\",\"type\":\"ColumnDataSource\"}},\"id\":\"448f23b4-9259-4d20-98f2-8cca4108daae\",\"type\":\"CDSView\"},{\"attributes\":{\"callback\":null,\"data\":{\"x\":{\"__ndarray__\":\"+6eap9pxpL9cfSYPzFCkv+/w49crBqS/Z21s2c61o7/bK44rd2Sjv3qoQkPME6O/e/M8NAPHor+yZ9QeJHuivxBup7eDNKK/1bLbhevzob+Fn7kAlLyhv7oxYygsk6G/rLMnb+p9ob8eQiCNxn6hvw7VX3JNyKC/zHjxBBZOm7+WD49kWaePv9L/na22dFK/rxeMD4gXkT9qkjlFMNajP30UmayW47A//0p8KLCEuT82F4dMXLvAP7wzZlQRVcA/60Hjt1g5uD8ujz+V9i2wP6XWweLsraQ/9D/2A+klmj+lmGoDA0qRP9w9eKFEQYg/I0qSH6WdgD86uL/ser9zP4hkpDSdEWQ/iRExoJPLRT/Pd8KS/FZcvwrAJ+Sv+nO/dbObLgZ1f7+tA6YnupuEvzyYHJDnp4q/KMDvYD1OkL9N/rJxgD2Rv82Xw2CRbo6/8hpybj5uhr9LamOTFW93v0TZh1nuwTc/kPwCbwEXdj90deO3yg6HPwjFbWwqFpM/RgoUmuzrmz9nB5m65OWiP9BgHvWBK6g/Y4fGTewlrT/gk9rNhA2xPxEJ14rTnLM/9kfHviw5tj9q7K2pdeC4P6k9ukvBnrs/i9ZZRk1ovz+ovW8Zw17BPzSCS88NsMI/ZCyqsN+0wz+JKAVhl3bEP7G6Wax2B8U/DKRysIp5xT9J1fpLIN/FP93qnBM5TMY/zvEbcKe+xj9P+q1jff/GPxOwJf0gv8Y/ljUcXFv0xT+QUbcW2vfEP8s9TfsgKsQ/o7dP+Z3Hwz9SjU3h9yXEP6F0lhdoEMk/\",\"dtype\":\"float64\",\"shape\":[75]},\"y\":{\"__ndarray__\":\"GhExyth1ND/Sv8nbtpRIP2vylNV0PVE/aTum7souWD/At0SJ8fVgPw3Iuahxymc/MSNhhJWvcD/bTfBN02d3P2zb5nxnaoA/CD5h5MAGhz8NmeH1TyaQP+zrCsc9p5Y/LbKd76fGnz/bLW5ISEmmPww9YvTcQq8/JV2OstnstT8Er5Y7M8G+P0c+r3jqkcU/5h99k6ZBzj88bCIzFzjVP4enV8oyxN0//yH99nXg5D8qOpLLf0jtP5kqGJXUifQ/c9cS8kHP/D+/DpwzojQEQIEmwoanVwxA4lgXt9HgE0BSSZ2AJuIbQAMJih9jjiNA5q4l5INuK0AwTKYKRj0zQNv5fmq8/DpAaCJseHrtQkB/+zpwzoxKQM3MzMzMeFJAZmZmZmZqWEAAAAAAAFxeQM3MzMzMJmJAmpmZmZkfZUBmZmZmZhhoQDMzMzMzEWtAAAAAAAAKbkBmZmZmZoFwQM3MzMzM/XFAMzMzMzN6c0CamZmZmfZ0QAAAAAAAc3ZAZmZmZmbvd0DNzMzMzGt5QDMzMzMz6HpAmpmZmZlkfEAAAAAAAOF9QGZmZmZmXX9AZmZmZuZsgECamZmZGSuBQM3MzMxM6YFAAAAAAICngkAzMzMzs2WDQGZmZmbmI4RAmpmZmRnihEDNzMzMTKCFQAAAAACAXoZAMzMzM7Mch0BmZmZm5tqHQJqZmZkZmYhAzczMzExXiUAAAAAAgBWKQDMzMzOz04pAZmZmZuaRi0CamZmZGVCMQM3MzMxMDo1AAAAAAIDMjUAzMzMzs4qOQGZmZmbmSI9A\",\"dtype\":\"float64\",\"shape\":[75]}},\"selected\":{\"id\":\"4551144d-6a0d-4d1d-a303-52225ca0b6b9\",\"type\":\"Selection\"},\"selection_policy\":{\"id\":\"aaafe485-4021-4832-ba4a-a23315621415\",\"type\":\"UnionRenderers\"}},\"id\":\"9de2d151-4b7d-458b-960d-0b4482b9eb63\",\"type\":\"ColumnDataSource\"},{\"attributes\":{\"fill_alpha\":{\"value\":0.7},\"fill_color\":{\"value\":\"#4daf4a\"},\"line_alpha\":{\"value\":0.7},\"line_color\":{\"value\":\"#4daf4a\"},\"x\":{\"field\":\"x\"},\"y\":{\"field\":\"y\"}},\"id\":\"eaa97251-b403-4147-ba02-ea0cdbd9f3b0\",\"type\":\"Circle\"},{\"attributes\":{\"callback\":null,\"end\":0.01,\"start\":1020},\"id\":\"68a6845b-b729-455c-a232-29b600daa5f2\",\"type\":\"Range1d\"},{\"attributes\":{\"callback\":null,\"data\":{\"x\":{\"__ndarray__\":\"F+Rka0ifkL+/7451OXGQv3ar2nr1DZC/k9aMylVFj78hoCj07WmOv/v69LTQiY2/8IGcfvCkjL9IWvLE6MOLv51kva7l6Yq/mvxgKkcSir8A6hruojaJv1SiCIMUN4i/LqiBfI9Oh7+fRDU5PW6GvzLQP/0DfoO/MbgX7Tk9c7+ZHNGVNR5uP1xMTTHwpI0/onKkF9vCnD/GUqAmZRinP9c7JeXD87A/nfjUKxGatz8be5ujM9W9P/eFgBFuEb4/rULf6vSUuD/1B9xQt4eyP5mZzIo+pao/OyjQQ0dUoj/kcZ+8kluYP8KjrjG/BY8/iHJ+lw3DgT81/9oD7m5uP6meBqncvDU/Z+yJvluRYr+rSLNXMhd2vz2Yosm27YK/q3/YHjLvib9S5rmaSY+Pvw5vMZrwppK/fpK87DcQlb9K51nPZI2VvwmzLD9AXJO/L9G72Wj+jb/km+TFDTGCvwDp8TTGcl6/iCHsLm3MbD/1y4l5O6KCP++EEPChzZA/bIXFtZXvmT/vLaCoUAOiP1PIw7IBJ6c/DhA0tVjJqz9wV1RpMDKwPwsrXCngq7I/YM7HEFtVtT91R6Nb3yK4P3zi780lC7s/zow8GMrsvj+1SAMNcCDBPxIANRiXaMI/MOtql9tiwz+gZ5pN0ynEP5Srkqcw38Q/kwbxYA+WxT++FWj7gFXGPwjM4HvBH8c/3LYQYGjgxz+tU6NfdFzIPwXxqpwwQMg/oib6fJSRxz/pl+vhiajGP8RdnHyj68U/BJ3/DZCexT/XHWLuIBfGP5u2FMqhyco/\",\"dtype\":\"float64\",\"shape\":[75]},\"y\":{\"__ndarray__\":\"GhExyth1ND/Sv8nbtpRIP2vylNV0PVE/aTum7souWD/At0SJ8fVgPw3Iuahxymc/MSNhhJWvcD/bTfBN02d3P2zb5nxnaoA/CD5h5MAGhz8NmeH1TyaQP+zrCsc9p5Y/LbKd76fGnz/bLW5ISEmmPww9YvTcQq8/JV2OstnstT8Er5Y7M8G+P0c+r3jqkcU/5h99k6ZBzj88bCIzFzjVP4enV8oyxN0//yH99nXg5D8qOpLLf0jtP5kqGJXUifQ/c9cS8kHP/D+/DpwzojQEQIEmwoanVwxA4lgXt9HgE0BSSZ2AJuIbQAMJih9jjiNA5q4l5INuK0AwTKYKRj0zQNv5fmq8/DpAaCJseHrtQkB/+zpwzoxKQM3MzMzMeFJAZmZmZmZqWEAAAAAAAFxeQM3MzMzMJmJAmpmZmZkfZUBmZmZmZhhoQDMzMzMzEWtAAAAAAAAKbkBmZmZmZoFwQM3MzMzM/XFAMzMzMzN6c0CamZmZmfZ0QAAAAAAAc3ZAZmZmZmbvd0DNzMzMzGt5QDMzMzMz6HpAmpmZmZlkfEAAAAAAAOF9QGZmZmZmXX9AZmZmZuZsgECamZmZGSuBQM3MzMxM6YFAAAAAAICngkAzMzMzs2WDQGZmZmbmI4RAmpmZmRnihEDNzMzMTKCFQAAAAACAXoZAMzMzM7Mch0BmZmZm5tqHQJqZmZkZmYhAzczMzExXiUAAAAAAgBWKQDMzMzOz04pAZmZmZuaRi0CamZmZGVCMQM3MzMxMDo1AAAAAAIDMjUAzMzMzs4qOQGZmZmbmSI9A\",\"dtype\":\"float64\",\"shape\":[75]}},\"selected\":{\"id\":\"747df2c5-8875-4beb-9b9a-9daaf47d898e\",\"type\":\"Selection\"},\"selection_policy\":{\"id\":\"7ae7bd28-fa08-4e80-ba23-98c31bf0c280\",\"type\":\"UnionRenderers\"}},\"id\":\"043e0062-52cf-4da1-9bcd-32fd05ff7a92\",\"type\":\"ColumnDataSource\"},{\"attributes\":{\"source\":{\"id\":\"9de2d151-4b7d-458b-960d-0b4482b9eb63\",\"type\":\"ColumnDataSource\"}},\"id\":\"af49d836-7c60-41c4-93b6-4b3f6a70572f\",\"type\":\"CDSView\"},{\"attributes\":{\"data_source\":{\"id\":\"9de2d151-4b7d-458b-960d-0b4482b9eb63\",\"type\":\"ColumnDataSource\"},\"glyph\":{\"id\":\"dbab41ca-acac-4aae-97cf-54fbe1e90f86\",\"type\":\"Line\"},\"hover_glyph\":null,\"muted_glyph\":null,\"nonselection_glyph\":{\"id\":\"aa8a3cfa-81e2-4b36-957e-5896a0f544c0\",\"type\":\"Line\"},\"selection_glyph\":null,\"view\":{\"id\":\"af49d836-7c60-41c4-93b6-4b3f6a70572f\",\"type\":\"CDSView\"}},\"id\":\"9942b297-17ef-4d75-92d1-285f1b207049\",\"type\":\"GlyphRenderer\"},{\"attributes\":{\"children\":[{\"id\":\"b625f549-e1a3-4b27-a02f-9d87f9ec7080\",\"type\":\"Row\"}]},\"id\":\"a9617f32-2f0d-4d47-9b32-f907f22071a0\",\"type\":\"Column\"},{\"attributes\":{\"line_alpha\":0.1,\"line_color\":\"#1f77b4\",\"line_width\":3,\"x\":{\"field\":\"x\"},\"y\":{\"field\":\"y\"}},\"id\":\"2fda29e3-fdff-4afc-a4ce-b4e25fa45df8\",\"type\":\"Line\"},{\"attributes\":{\"fill_alpha\":{\"value\":0.1},\"fill_color\":{\"value\":\"#1f77b4\"},\"line_alpha\":{\"value\":0.1},\"line_color\":{\"value\":\"#1f77b4\"},\"x\":{\"field\":\"x\"},\"y\":{\"field\":\"y\"}},\"id\":\"8605486e-7fba-4bb1-a166-20548f4dfa7a\",\"type\":\"Circle\"},{\"attributes\":{},\"id\":\"ee2a7ce9-7cda-4773-9874-e92a4bf6fe92\",\"type\":\"WheelZoomTool\"},{\"attributes\":{\"fill_alpha\":{\"value\":0.1},\"fill_color\":{\"value\":\"#1f77b4\"},\"line_alpha\":{\"value\":0.1},\"line_color\":{\"value\":\"#1f77b4\"},\"x\":{\"field\":\"x\"},\"y\":{\"field\":\"y\"}},\"id\":\"d0fce749-a753-407a-9927-01dc135d4361\",\"type\":\"Square\"},{\"attributes\":{\"below\":[{\"id\":\"0c8d73de-58fe-4565-b95f-42a9a3b2410f\",\"type\":\"LinearAxis\"}],\"left\":[{\"id\":\"6867e311-c289-4255-a16d-cf61f7b61e3d\",\"type\":\"LogAxis\"}],\"plot_height\":500,\"plot_width\":560,\"renderers\":[{\"id\":\"0c8d73de-58fe-4565-b95f-42a9a3b2410f\",\"type\":\"LinearAxis\"},{\"id\":\"8bc0f0b2-6d19-4ec3-9b1a-083edf6f419a\",\"type\":\"Grid\"},{\"id\":\"6867e311-c289-4255-a16d-cf61f7b61e3d\",\"type\":\"LogAxis\"},{\"id\":\"3826c679-b047-41ff-aef9-3309ca583917\",\"type\":\"Grid\"},{\"id\":\"15e18268-8825-4643-b1ff-b29979998f87\",\"type\":\"BoxAnnotation\"},{\"id\":\"d919a5de-57fc-4e31-9cb2-1ae448f8459f\",\"type\":\"GlyphRenderer\"},{\"id\":\"d227d3b3-7bc7-47e0-aa37-9a529a95ded5\",\"type\":\"GlyphRenderer\"},{\"id\":\"9942b297-17ef-4d75-92d1-285f1b207049\",\"type\":\"GlyphRenderer\"},{\"id\":\"60982ea3-52e3-4f0c-a86f-b1315832b968\",\"type\":\"GlyphRenderer\"},{\"id\":\"c9689b35-f0e5-4dff-94c0-2d34097276b2\",\"type\":\"GlyphRenderer\"},{\"id\":\"ce74e87b-daea-4861-a570-b9a30d431f67\",\"type\":\"Legend\"}],\"right\":[{\"id\":\"ce74e87b-daea-4861-a570-b9a30d431f67\",\"type\":\"Legend\"}],\"title\":{\"id\":\"08ad8c3f-b719-4950-bb90-efad112d9940\",\"type\":\"Title\"},\"toolbar\":{\"id\":\"a3099eac-049e-4bac-8194-0e63483cad07\",\"type\":\"Toolbar\"},\"toolbar_location\":null,\"x_range\":{\"id\":\"7f22a281-af49-4b7c-83e3-a20a91b3e98c\",\"type\":\"Range1d\"},\"x_scale\":{\"id\":\"cd173e32-9c76-43fa-ac10-e0de57e9b4ae\",\"type\":\"LinearScale\"},\"y_range\":{\"id\":\"341e301b-3612-460c-8f88-76d7b95c0a94\",\"type\":\"Range1d\"},\"y_scale\":{\"id\":\"bc2aabe8-8bec-45c6-82f6-a78d88e51680\",\"type\":\"LogScale\"}},\"id\":\"cf8cd169-898a-4223-b38e-e39341d5f50d\",\"subtype\":\"Figure\",\"type\":\"Plot\"},{\"attributes\":{\"axis_label\":\"cooling rate [K/day]\",\"formatter\":{\"id\":\"4fa873b0-efbc-459a-abf4-3c46d66729ea\",\"type\":\"BasicTickFormatter\"},\"plot\":{\"id\":\"cf8cd169-898a-4223-b38e-e39341d5f50d\",\"subtype\":\"Figure\",\"type\":\"Plot\"},\"ticker\":{\"id\":\"c8cd57d3-535a-4c1a-93fb-0b69c324fa36\",\"type\":\"BasicTicker\"}},\"id\":\"0c8d73de-58fe-4565-b95f-42a9a3b2410f\",\"type\":\"LinearAxis\"},{\"attributes\":{\"line_alpha\":0.1,\"line_color\":\"#1f77b4\",\"line_width\":1.5,\"x\":{\"field\":\"x\"},\"y\":{\"field\":\"y\"}},\"id\":\"aa8a3cfa-81e2-4b36-957e-5896a0f544c0\",\"type\":\"Line\"},{\"attributes\":{},\"id\":\"0dda587b-0709-4d25-a035-f9ea15594055\",\"type\":\"SaveTool\"},{\"attributes\":{},\"id\":\"cd173e32-9c76-43fa-ac10-e0de57e9b4ae\",\"type\":\"LinearScale\"},{\"attributes\":{\"line_alpha\":0.1,\"line_color\":\"#1f77b4\",\"line_width\":1.5,\"x\":{\"field\":\"x\"},\"y\":{\"field\":\"y\"}},\"id\":\"1d1e7535-f405-408c-b105-eb945b286c07\",\"type\":\"Line\"},{\"attributes\":{\"source\":{\"id\":\"9f6dc4af-6414-4a04-9981-89b7de74e6e6\",\"type\":\"ColumnDataSource\"}},\"id\":\"97d486f2-baba-4fc2-9efc-28632bdf7555\",\"type\":\"CDSView\"},{\"attributes\":{\"source\":{\"id\":\"a6373684-1133-46b1-8d9b-0f1e13e5316b\",\"type\":\"ColumnDataSource\"}},\"id\":\"036124f9-c081-45c6-b689-0c7d615efb26\",\"type\":\"CDSView\"},{\"attributes\":{\"line_alpha\":0.1,\"line_color\":\"#1f77b4\",\"line_width\":3,\"x\":{\"field\":\"x\"},\"y\":{\"field\":\"y\"}},\"id\":\"e58ebc77-702c-4fcf-99c6-08197315bdda\",\"type\":\"Line\"},{\"attributes\":{\"children\":[{\"id\":\"4f937a0b-77c5-4c7b-81a3-45a738168822\",\"subtype\":\"Figure\",\"type\":\"Plot\"},{\"id\":\"cf8cd169-898a-4223-b38e-e39341d5f50d\",\"subtype\":\"Figure\",\"type\":\"Plot\"}]},\"id\":\"b625f549-e1a3-4b27-a02f-9d87f9ec7080\",\"type\":\"Row\"},{\"attributes\":{\"overlay\":{\"id\":\"7aecd178-63fe-41c6-952e-600f1078d50e\",\"type\":\"BoxAnnotation\"}},\"id\":\"24067f10-a3a4-4bd0-bb30-286b8340e86d\",\"type\":\"BoxZoomTool\"},{\"attributes\":{\"active_drag\":\"auto\",\"active_inspect\":\"auto\",\"active_scroll\":\"auto\",\"active_tap\":\"auto\",\"tools\":[{\"id\":\"3a578cb3-0cae-4e91-b7bf-dd1577bd1662\",\"type\":\"PanTool\"},{\"id\":\"17ffd188-52ca-4892-860f-4cc7fd2109a2\",\"type\":\"WheelZoomTool\"},{\"id\":\"9a261487-b2cd-4f45-9c43-f044c48a1f72\",\"type\":\"BoxZoomTool\"},{\"id\":\"4f7ab864-81a6-43cb-b834-e78397e06f79\",\"type\":\"SaveTool\"},{\"id\":\"dd07293b-262d-45fb-be2e-555079386563\",\"type\":\"ResetTool\"},{\"id\":\"28edc66c-1fdc-491a-9844-05ed8c5187b2\",\"type\":\"HelpTool\"}]},\"id\":\"a3099eac-049e-4bac-8194-0e63483cad07\",\"type\":\"Toolbar\"},{\"attributes\":{\"data_source\":{\"id\":\"ae43a01c-30e8-4039-8dc0-f28937dda304\",\"type\":\"ColumnDataSource\"},\"glyph\":{\"id\":\"946054b7-abce-4fb9-8328-c52622b7c469\",\"type\":\"Line\"},\"hover_glyph\":null,\"muted_glyph\":null,\"nonselection_glyph\":{\"id\":\"1d1e7535-f405-408c-b105-eb945b286c07\",\"type\":\"Line\"},\"selection_glyph\":null,\"view\":{\"id\":\"90cf9675-52bd-4db4-9bf0-ededb7697495\",\"type\":\"CDSView\"}},\"id\":\"d1e6ab99-a5a9-4ee8-9e48-4c9e5fca0e81\",\"type\":\"GlyphRenderer\"},{\"attributes\":{\"data_source\":{\"id\":\"9f6dc4af-6414-4a04-9981-89b7de74e6e6\",\"type\":\"ColumnDataSource\"},\"glyph\":{\"id\":\"eaa97251-b403-4147-ba02-ea0cdbd9f3b0\",\"type\":\"Circle\"},\"hover_glyph\":null,\"muted_glyph\":null,\"nonselection_glyph\":{\"id\":\"8605486e-7fba-4bb1-a166-20548f4dfa7a\",\"type\":\"Circle\"},\"selection_glyph\":null,\"view\":{\"id\":\"97d486f2-baba-4fc2-9efc-28632bdf7555\",\"type\":\"CDSView\"}},\"id\":\"d227d3b3-7bc7-47e0-aa37-9a529a95ded5\",\"type\":\"GlyphRenderer\"},{\"attributes\":{\"source\":{\"id\":\"ae43a01c-30e8-4039-8dc0-f28937dda304\",\"type\":\"ColumnDataSource\"}},\"id\":\"90cf9675-52bd-4db4-9bf0-ededb7697495\",\"type\":\"CDSView\"},{\"attributes\":{\"plot\":{\"id\":\"4f937a0b-77c5-4c7b-81a3-45a738168822\",\"subtype\":\"Figure\",\"type\":\"Plot\"},\"ticker\":{\"id\":\"d66c1300-2976-4a8e-a58e-db76e15a3512\",\"type\":\"BasicTicker\"}},\"id\":\"50f71e4b-ad01-46e3-8a02-930f77660751\",\"type\":\"Grid\"},{\"attributes\":{\"data_source\":{\"id\":\"f8093bd5-43da-4ba4-9033-67fad6cc0666\",\"type\":\"ColumnDataSource\"},\"glyph\":{\"id\":\"f6be62af-c769-49f8-9a1a-65316530a649\",\"type\":\"Line\"},\"hover_glyph\":null,\"muted_glyph\":null,\"nonselection_glyph\":{\"id\":\"e58ebc77-702c-4fcf-99c6-08197315bdda\",\"type\":\"Line\"},\"selection_glyph\":null,\"view\":{\"id\":\"2978b8e2-c26a-408b-848a-4f22cfd17201\",\"type\":\"CDSView\"}},\"id\":\"c9689b35-f0e5-4dff-94c0-2d34097276b2\",\"type\":\"GlyphRenderer\"},{\"attributes\":{\"fill_alpha\":{\"value\":0.1},\"fill_color\":{\"value\":\"#1f77b4\"},\"line_alpha\":{\"value\":0.1},\"line_color\":{\"value\":\"#1f77b4\"},\"x\":{\"field\":\"x\"},\"y\":{\"field\":\"y\"}},\"id\":\"ed323dfc-ad08-4fcb-8a3f-815060b8ea39\",\"type\":\"Circle\"},{\"attributes\":{\"dimension\":1,\"plot\":{\"id\":\"4f937a0b-77c5-4c7b-81a3-45a738168822\",\"subtype\":\"Figure\",\"type\":\"Plot\"},\"ticker\":{\"id\":\"48ee3acc-0d50-436d-ba7f-767b148d2f0c\",\"type\":\"BasicTicker\"}},\"id\":\"fe98c0c4-2040-4d2d-a852-3131ca172cf2\",\"type\":\"Grid\"},{\"attributes\":{\"line_alpha\":0.6,\"line_color\":\"#984ea3\",\"line_width\":3,\"x\":{\"field\":\"x\"},\"y\":{\"field\":\"y\"}},\"id\":\"8c683122-4641-42e7-9722-50d7df658382\",\"type\":\"Line\"},{\"attributes\":{\"line_color\":\"#4daf4a\",\"line_width\":1.5,\"x\":{\"field\":\"x\"},\"y\":{\"field\":\"y\"}},\"id\":\"dbab41ca-acac-4aae-97cf-54fbe1e90f86\",\"type\":\"Line\"},{\"attributes\":{\"data_source\":{\"id\":\"fc0a8331-d34f-47ee-8b81-0ed6ef3a6f6b\",\"type\":\"ColumnDataSource\"},\"glyph\":{\"id\":\"93de30d7-87a8-48be-bb7c-891176e8ebbc\",\"type\":\"Square\"},\"hover_glyph\":null,\"muted_glyph\":null,\"nonselection_glyph\":{\"id\":\"d0fce749-a753-407a-9927-01dc135d4361\",\"type\":\"Square\"},\"selection_glyph\":null,\"view\":{\"id\":\"d25a8b3c-069a-4c30-a20c-f6c04460a5fc\",\"type\":\"CDSView\"}},\"id\":\"a251d57f-18c2-44c8-baa3-76bb7f4f0a83\",\"type\":\"GlyphRenderer\"},{\"attributes\":{\"callback\":null,\"data\":{\"x\":{\"__ndarray__\":\"F+Rka0ifkL+/7451OXGQv3ar2nr1DZC/k9aMylVFj78hoCj07WmOv/v69LTQiY2/8IGcfvCkjL9IWvLE6MOLv51kva7l6Yq/mvxgKkcSir8A6hruojaJv1SiCIMUN4i/LqiBfI9Oh7+fRDU5PW6GvzLQP/0DfoO/MbgX7Tk9c7+ZHNGVNR5uP1xMTTHwpI0/onKkF9vCnD/GUqAmZRinP9c7JeXD87A/nfjUKxGatz8be5ujM9W9P/eFgBFuEb4/rULf6vSUuD/1B9xQt4eyP5mZzIo+pao/OyjQQ0dUoj/kcZ+8kluYP8KjrjG/BY8/iHJ+lw3DgT81/9oD7m5uP6meBqncvDU/Z+yJvluRYr+rSLNXMhd2vz2Yosm27YK/q3/YHjLvib9S5rmaSY+Pvw5vMZrwppK/fpK87DcQlb9K51nPZI2VvwmzLD9AXJO/L9G72Wj+jb/km+TFDTGCvwDp8TTGcl6/iCHsLm3MbD/1y4l5O6KCP++EEPChzZA/bIXFtZXvmT/vLaCoUAOiP1PIw7IBJ6c/DhA0tVjJqz9wV1RpMDKwPwsrXCngq7I/YM7HEFtVtT91R6Nb3yK4P3zi780lC7s/zow8GMrsvj+1SAMNcCDBPxIANRiXaMI/MOtql9tiwz+gZ5pN0ynEP5Srkqcw38Q/kwbxYA+WxT++FWj7gFXGPwjM4HvBH8c/3LYQYGjgxz+tU6NfdFzIPwXxqpwwQMg/oib6fJSRxz/pl+vhiajGP8RdnHyj68U/BJ3/DZCexT/XHWLuIBfGP5u2FMqhyco/\",\"dtype\":\"float64\",\"shape\":[75]},\"y\":{\"__ndarray__\":\"GhExyth1ND/Sv8nbtpRIP2vylNV0PVE/aTum7souWD/At0SJ8fVgPw3Iuahxymc/MSNhhJWvcD/bTfBN02d3P2zb5nxnaoA/CD5h5MAGhz8NmeH1TyaQP+zrCsc9p5Y/LbKd76fGnz/bLW5ISEmmPww9YvTcQq8/JV2OstnstT8Er5Y7M8G+P0c+r3jqkcU/5h99k6ZBzj88bCIzFzjVP4enV8oyxN0//yH99nXg5D8qOpLLf0jtP5kqGJXUifQ/c9cS8kHP/D+/DpwzojQEQIEmwoanVwxA4lgXt9HgE0BSSZ2AJuIbQAMJih9jjiNA5q4l5INuK0AwTKYKRj0zQNv5fmq8/DpAaCJseHrtQkB/+zpwzoxKQM3MzMzMeFJAZmZmZmZqWEAAAAAAAFxeQM3MzMzMJmJAmpmZmZkfZUBmZmZmZhhoQDMzMzMzEWtAAAAAAAAKbkBmZmZmZoFwQM3MzMzM/XFAMzMzMzN6c0CamZmZmfZ0QAAAAAAAc3ZAZmZmZmbvd0DNzMzMzGt5QDMzMzMz6HpAmpmZmZlkfEAAAAAAAOF9QGZmZmZmXX9AZmZmZuZsgECamZmZGSuBQM3MzMxM6YFAAAAAAICngkAzMzMzs2WDQGZmZmbmI4RAmpmZmRnihEDNzMzMTKCFQAAAAACAXoZAMzMzM7Mch0BmZmZm5tqHQJqZmZkZmYhAzczMzExXiUAAAAAAgBWKQDMzMzOz04pAZmZmZuaRi0CamZmZGVCMQM3MzMxMDo1AAAAAAIDMjUAzMzMzs4qOQGZmZmbmSI9A\",\"dtype\":\"float64\",\"shape\":[75]}},\"selected\":{\"id\":\"b8bb6277-d221-4f17-8c9c-44f7fa6d11ca\",\"type\":\"Selection\"},\"selection_policy\":{\"id\":\"8b431b9d-3ae5-4049-a752-bc842db35b08\",\"type\":\"UnionRenderers\"}},\"id\":\"c9ee5e46-3d64-4972-80ad-41585656248b\",\"type\":\"ColumnDataSource\"},{\"attributes\":{\"source\":{\"id\":\"f8093bd5-43da-4ba4-9033-67fad6cc0666\",\"type\":\"ColumnDataSource\"}},\"id\":\"2978b8e2-c26a-408b-848a-4f22cfd17201\",\"type\":\"CDSView\"},{\"attributes\":{},\"id\":\"bc2aabe8-8bec-45c6-82f6-a78d88e51680\",\"type\":\"LogScale\"},{\"attributes\":{},\"id\":\"32e3ea8a-d1a6-4cec-9cfc-c6a7c09af897\",\"type\":\"BasicTickFormatter\"},{\"attributes\":{\"callback\":null,\"data\":{\"x\":{\"__ndarray__\":\"+6eap9pxpL9cfSYPzFCkv+/w49crBqS/Z21s2c61o7/bK44rd2Sjv3qoQkPME6O/e/M8NAPHor+yZ9QeJHuivxBup7eDNKK/1bLbhevzob+Fn7kAlLyhv7oxYygsk6G/rLMnb+p9ob8eQiCNxn6hvw7VX3JNyKC/zHjxBBZOm7+WD49kWaePv9L/na22dFK/rxeMD4gXkT9qkjlFMNajP30UmayW47A//0p8KLCEuT82F4dMXLvAP7wzZlQRVcA/60Hjt1g5uD8ujz+V9i2wP6XWweLsraQ/9D/2A+klmj+lmGoDA0qRP9w9eKFEQYg/I0qSH6WdgD86uL/ser9zP4hkpDSdEWQ/iRExoJPLRT/Pd8KS/FZcvwrAJ+Sv+nO/dbObLgZ1f7+tA6YnupuEvzyYHJDnp4q/KMDvYD1OkL9N/rJxgD2Rv82Xw2CRbo6/8hpybj5uhr9LamOTFW93v0TZh1nuwTc/kPwCbwEXdj90deO3yg6HPwjFbWwqFpM/RgoUmuzrmz9nB5m65OWiP9BgHvWBK6g/Y4fGTewlrT/gk9rNhA2xPxEJ14rTnLM/9kfHviw5tj9q7K2pdeC4P6k9ukvBnrs/i9ZZRk1ovz+ovW8Zw17BPzSCS88NsMI/ZCyqsN+0wz+JKAVhl3bEP7G6Wax2B8U/DKRysIp5xT9J1fpLIN/FP93qnBM5TMY/zvEbcKe+xj9P+q1jff/GPxOwJf0gv8Y/ljUcXFv0xT+QUbcW2vfEP8s9TfsgKsQ/o7dP+Z3Hwz9SjU3h9yXEP6F0lhdoEMk/\",\"dtype\":\"float64\",\"shape\":[75]},\"y\":{\"__ndarray__\":\"GhExyth1ND/Sv8nbtpRIP2vylNV0PVE/aTum7souWD/At0SJ8fVgPw3Iuahxymc/MSNhhJWvcD/bTfBN02d3P2zb5nxnaoA/CD5h5MAGhz8NmeH1TyaQP+zrCsc9p5Y/LbKd76fGnz/bLW5ISEmmPww9YvTcQq8/JV2OstnstT8Er5Y7M8G+P0c+r3jqkcU/5h99k6ZBzj88bCIzFzjVP4enV8oyxN0//yH99nXg5D8qOpLLf0jtP5kqGJXUifQ/c9cS8kHP/D+/DpwzojQEQIEmwoanVwxA4lgXt9HgE0BSSZ2AJuIbQAMJih9jjiNA5q4l5INuK0AwTKYKRj0zQNv5fmq8/DpAaCJseHrtQkB/+zpwzoxKQM3MzMzMeFJAZmZmZmZqWEAAAAAAAFxeQM3MzMzMJmJAmpmZmZkfZUBmZmZmZhhoQDMzMzMzEWtAAAAAAAAKbkBmZmZmZoFwQM3MzMzM/XFAMzMzMzN6c0CamZmZmfZ0QAAAAAAAc3ZAZmZmZmbvd0DNzMzMzGt5QDMzMzMz6HpAmpmZmZlkfEAAAAAAAOF9QGZmZmZmXX9AZmZmZuZsgECamZmZGSuBQM3MzMxM6YFAAAAAAICngkAzMzMzs2WDQGZmZmbmI4RAmpmZmRnihEDNzMzMTKCFQAAAAACAXoZAMzMzM7Mch0BmZmZm5tqHQJqZmZkZmYhAzczMzExXiUAAAAAAgBWKQDMzMzOz04pAZmZmZuaRi0CamZmZGVCMQM3MzMxMDo1AAAAAAIDMjUAzMzMzs4qOQGZmZmbmSI9A\",\"dtype\":\"float64\",\"shape\":[75]}},\"selected\":{\"id\":\"89b21d50-e8d7-459d-b880-4726d6141a10\",\"type\":\"Selection\"},\"selection_policy\":{\"id\":\"e7d79cf1-574c-4a44-8ef5-1bf5f1fa76ee\",\"type\":\"UnionRenderers\"}},\"id\":\"ae43a01c-30e8-4039-8dc0-f28937dda304\",\"type\":\"ColumnDataSource\"},{\"attributes\":{\"label\":{\"value\":\"CLIRAD `coolr_bands`\"},\"renderers\":[{\"id\":\"d919a5de-57fc-4e31-9cb2-1ae448f8459f\",\"type\":\"GlyphRenderer\"}]},\"id\":\"d854ec1f-e21e-447b-91ae-92aed7562593\",\"type\":\"LegendItem\"},{\"attributes\":{\"plot\":{\"id\":\"cf8cd169-898a-4223-b38e-e39341d5f50d\",\"subtype\":\"Figure\",\"type\":\"Plot\"},\"ticker\":{\"id\":\"c8cd57d3-535a-4c1a-93fb-0b69c324fa36\",\"type\":\"BasicTicker\"}},\"id\":\"8bc0f0b2-6d19-4ec3-9b1a-083edf6f419a\",\"type\":\"Grid\"},{\"attributes\":{},\"id\":\"24b0c7c1-7f49-4d03-a649-cb034f5d6c00\",\"type\":\"BasicTickFormatter\"},{\"attributes\":{\"label\":{\"value\":\"CRD\"},\"renderers\":[{\"id\":\"d227d3b3-7bc7-47e0-aa37-9a529a95ded5\",\"type\":\"GlyphRenderer\"},{\"id\":\"9942b297-17ef-4d75-92d1-285f1b207049\",\"type\":\"GlyphRenderer\"}]},\"id\":\"927808e5-5ee5-46b0-b716-dd946e610843\",\"type\":\"LegendItem\"},{\"attributes\":{\"callback\":null,\"end\":0.13237560877000001,\"start\":-0.03672190577},\"id\":\"7f22a281-af49-4b7c-83e3-a20a91b3e98c\",\"type\":\"Range1d\"},{\"attributes\":{},\"id\":\"21e74855-8903-42b1-b0a9-d7e76ec91d5a\",\"type\":\"UnionRenderers\"},{\"attributes\":{\"fill_alpha\":{\"value\":0.7},\"fill_color\":{\"value\":\"#4daf4a\"},\"line_alpha\":{\"value\":0.7},\"line_color\":{\"value\":\"#4daf4a\"},\"x\":{\"field\":\"x\"},\"y\":{\"field\":\"y\"}},\"id\":\"987756f8-6bee-4102-98f2-bf02a7481b9c\",\"type\":\"Circle\"},{\"attributes\":{\"callback\":null,\"data\":{\"x\":{\"__ndarray__\":\"qn0FLGOKiL9SK7l7mkKIv3UBQRYofYe/L5ZhXY63hr/jbSkQC++FvzlNdp4+I4W/PLINaixShL9OSqNzDn+Dv80SX5S5pYK/ti04LuTLgb9CQVBGgeuAv69GAHPJCoC/rlXtYOVMfr//VW2eNmh8v7RePUOAYHa/W8tKAZ/qTr8lK5aNlE58P5BhAYt9e5E/bYVQqB6enj8I3cX+KYqnPxreaqUp5bA/3VpCGCE3tz+lZ1l7yCm9P9XGnl6lkr0/AcbV9uafuD8sqr0JN/myP9K0M2jC2Ks/oLOQdl9yoz+7Po8r19aZP8EscFadBZA/RbYoOcQUgT+fvLEfZ/NnP1Xf/CmyY0K/XAL2LYjDaL8sksAwqlZ4vw8/8BJLs4O/3bywttuOir/Ra5Ci/hWQvx7hBShF35K/2FM7W/Ehlb/8UFXg5ZuVv90WcalmsJO/zQ0MdHu2j7+IaPDODKiEv6Nir37L32a/ybC937fEYj+9OSK3lOd9P/v7BtI3/I0/4/b+GNCRmD+/Fpsm0WqhP95FlerNa6Y/2L5SJs3Qqj9H4GM+jWyvP7PQqKJzXLI/3I2yPBdftT+gNonFmIm4P1d3j+AErrs/XBKx0u6hvz/ZPol05G3BP8QBulB1n8I/Gr8RWXuKwz+GQtucEFvEPxachzSmN8U/9PIisMUwxj9u/dORTBzHP3sodtlUAsg/2L4+QuatyD+GX8FoHAvJPwZEToDdwMg/Njz/bmjnxz9xHgxEaOfGP6dUkSMALMY/qdlm13v5xT/jSJDfFaDGP2MBPDenccs/\",\"dtype\":\"float64\",\"shape\":[75]},\"y\":{\"__ndarray__\":\"S/O/Q+51ND/Sv8nbtpRIP2vylNV0PVE/aTum7souWD/At0SJ8fVgPw3Iuahxymc/MSNhhJWvcD/bTfBN02d3P2zb5nxnaoA/CD5h5MAGhz8NmeH1TyaQP+zrCsc9p5Y/LbKd76fGnz/bLW5ISEmmPww9YvTcQq8/JV2OstnstT8Er5Y7M8G+P0c+r3jqkcU/5h99k6ZBzj88bCIzFzjVP4enV8oyxN0//yH99nXg5D8qOpLLf0jtP5kqGJXUifQ/c9cS8kHP/D+/DpwzojQEQIEmwoanVwxA4lgXt9HgE0BSSZ2AJuIbQAMJih9jjiNA5q4l5INuK0AwTKYKRj0zQNv5fmq8/DpAaCJseHrtQkB/+zpwzoxKQM3MzMzMeFJAZmZmZmZqWEAAAAAAAFxeQM3MzMzMJmJAmpmZmZkfZUBmZmZmZhhoQDMzMzMzEWtAAAAAAAAKbkBmZmZmZoFwQM3MzMzM/XFAMzMzMzN6c0CamZmZmfZ0QAAAAAAAc3ZAZmZmZmbvd0DNzMzMzGt5QDMzMzMz6HpAmpmZmZlkfEAAAAAAAOF9QGZmZmZmXX9AZmZmZuZsgECamZmZGSuBQM3MzMxM6YFAAAAAAICngkAzMzMzs2WDQGZmZmbmI4RAmpmZmRnihEDNzMzMTKCFQAAAAACAXoZAMzMzM7Mch0BmZmZm5tqHQJqZmZkZmYhAzczMzExXiUAAAAAAgBWKQDMzMzOz04pAZmZmZuaRi0CamZmZGVCMQM3MzMxMDo1AAAAAAIDMjUAzMzMzs4qOQGZmZmbmSI9A\",\"dtype\":\"float64\",\"shape\":[75]}},\"selected\":{\"id\":\"b500c134-936f-402a-8818-59d5e95f582c\",\"type\":\"Selection\"},\"selection_policy\":{\"id\":\"21e74855-8903-42b1-b0a9-d7e76ec91d5a\",\"type\":\"UnionRenderers\"}},\"id\":\"000c7dbd-8339-4d81-9017-514a2291d99c\",\"type\":\"ColumnDataSource\"},{\"attributes\":{\"label\":{\"value\":\"WGT igg=10 wgt_flux=2\"},\"renderers\":[{\"id\":\"60982ea3-52e3-4f0c-a86f-b1315832b968\",\"type\":\"GlyphRenderer\"},{\"id\":\"c9689b35-f0e5-4dff-94c0-2d34097276b2\",\"type\":\"GlyphRenderer\"}]},\"id\":\"98970560-1eca-4266-a664-7d8114894a44\",\"type\":\"LegendItem\"},{\"attributes\":{},\"id\":\"df3e288b-1279-4201-9f85-cd08a5620105\",\"type\":\"Selection\"},{\"attributes\":{\"source\":{\"id\":\"fc0a8331-d34f-47ee-8b81-0ed6ef3a6f6b\",\"type\":\"ColumnDataSource\"}},\"id\":\"d25a8b3c-069a-4c30-a20c-f6c04460a5fc\",\"type\":\"CDSView\"},{\"attributes\":{},\"id\":\"63cb2b34-946b-4141-8bb7-d064e542ecec\",\"type\":\"UnionRenderers\"},{\"attributes\":{},\"id\":\"1679a3a0-e4b7-4612-9962-e67295d75d30\",\"type\":\"Selection\"},{\"attributes\":{},\"id\":\"a0c42cbb-464d-4dc0-944c-f8238b370a94\",\"type\":\"UnionRenderers\"},{\"attributes\":{},\"id\":\"e7d79cf1-574c-4a44-8ef5-1bf5f1fa76ee\",\"type\":\"UnionRenderers\"},{\"attributes\":{\"line_color\":\"#4daf4a\",\"line_width\":1.5,\"x\":{\"field\":\"x\"},\"y\":{\"field\":\"y\"}},\"id\":\"946054b7-abce-4fb9-8328-c52622b7c469\",\"type\":\"Line\"},{\"attributes\":{},\"id\":\"89b21d50-e8d7-459d-b880-4726d6141a10\",\"type\":\"Selection\"},{\"attributes\":{},\"id\":\"97f7c254-5fce-4eef-aeb5-d1b229412913\",\"type\":\"Selection\"},{\"attributes\":{},\"id\":\"747df2c5-8875-4beb-9b9a-9daaf47d898e\",\"type\":\"Selection\"},{\"attributes\":{},\"id\":\"4fa873b0-efbc-459a-abf4-3c46d66729ea\",\"type\":\"BasicTickFormatter\"},{\"attributes\":{\"line_alpha\":0.1,\"line_color\":\"#1f77b4\",\"line_dash\":[6],\"line_width\":5,\"x\":{\"field\":\"x\"},\"y\":{\"field\":\"y\"}},\"id\":\"8b752e10-4008-4549-8474-8426510d20fb\",\"type\":\"Line\"},{\"attributes\":{},\"id\":\"d66c1300-2976-4a8e-a58e-db76e15a3512\",\"type\":\"BasicTicker\"},{\"attributes\":{},\"id\":\"792cd374-741d-4b72-9b45-5d63d8c9c483\",\"type\":\"UnionRenderers\"},{\"attributes\":{},\"id\":\"5c39db6f-15ba-44d9-99ea-eeb2244d4901\",\"type\":\"Selection\"},{\"attributes\":{\"bottom_units\":\"screen\",\"fill_alpha\":{\"value\":0.5},\"fill_color\":{\"value\":\"lightgrey\"},\"left_units\":\"screen\",\"level\":\"overlay\",\"line_alpha\":{\"value\":1.0},\"line_color\":{\"value\":\"black\"},\"line_dash\":[4,4],\"line_width\":{\"value\":2},\"plot\":null,\"render_mode\":\"css\",\"right_units\":\"screen\",\"top_units\":\"screen\"},\"id\":\"7aecd178-63fe-41c6-952e-600f1078d50e\",\"type\":\"BoxAnnotation\"},{\"attributes\":{},\"id\":\"7ae7bd28-fa08-4e80-ba23-98c31bf0c280\",\"type\":\"UnionRenderers\"},{\"attributes\":{\"items\":[{\"id\":\"d854ec1f-e21e-447b-91ae-92aed7562593\",\"type\":\"LegendItem\"},{\"id\":\"927808e5-5ee5-46b0-b716-dd946e610843\",\"type\":\"LegendItem\"},{\"id\":\"98970560-1eca-4266-a664-7d8114894a44\",\"type\":\"LegendItem\"}],\"label_text_font_size\":{\"value\":\"8pt\"},\"location\":[10,-30],\"plot\":{\"id\":\"cf8cd169-898a-4223-b38e-e39341d5f50d\",\"subtype\":\"Figure\",\"type\":\"Plot\"}},\"id\":\"ce74e87b-daea-4861-a570-b9a30d431f67\",\"type\":\"Legend\"},{\"attributes\":{},\"id\":\"aaafe485-4021-4832-ba4a-a23315621415\",\"type\":\"UnionRenderers\"},{\"attributes\":{\"ticker\":null},\"id\":\"9d1e1198-f232-424c-aafd-45a2e53de43b\",\"type\":\"LogTickFormatter\"},{\"attributes\":{},\"id\":\"4551144d-6a0d-4d1d-a303-52225ca0b6b9\",\"type\":\"Selection\"},{\"attributes\":{},\"id\":\"92459385-177c-4bd3-b63b-bb9d052c05c8\",\"type\":\"ResetTool\"},{\"attributes\":{\"data_source\":{\"id\":\"c4acfa24-cb72-4759-bb9f-4dc814e458a4\",\"type\":\"ColumnDataSource\"},\"glyph\":{\"id\":\"987756f8-6bee-4102-98f2-bf02a7481b9c\",\"type\":\"Circle\"},\"hover_glyph\":null,\"muted_glyph\":null,\"nonselection_glyph\":{\"id\":\"ed323dfc-ad08-4fcb-8a3f-815060b8ea39\",\"type\":\"Circle\"},\"selection_glyph\":null,\"view\":{\"id\":\"d428f7ba-11ff-4157-9aa2-d0c87e245195\",\"type\":\"CDSView\"}},\"id\":\"4a98db27-169e-4921-8fc8-d177da304bd9\",\"type\":\"GlyphRenderer\"},{\"attributes\":{},\"id\":\"b500c134-936f-402a-8818-59d5e95f582c\",\"type\":\"Selection\"},{\"attributes\":{},\"id\":\"1346f9b6-fe66-48eb-a0d4-0a78d4744e00\",\"type\":\"UnionRenderers\"},{\"attributes\":{\"below\":[{\"id\":\"13f9a16d-7f53-4917-bfbc-fd9a85df9932\",\"type\":\"LinearAxis\"}],\"left\":[{\"id\":\"bab6760b-4253-4e03-b0f6-e9c0571c5406\",\"type\":\"LinearAxis\"}],\"plot_height\":500,\"plot_width\":400,\"renderers\":[{\"id\":\"13f9a16d-7f53-4917-bfbc-fd9a85df9932\",\"type\":\"LinearAxis\"},{\"id\":\"50f71e4b-ad01-46e3-8a02-930f77660751\",\"type\":\"Grid\"},{\"id\":\"bab6760b-4253-4e03-b0f6-e9c0571c5406\",\"type\":\"LinearAxis\"},{\"id\":\"fe98c0c4-2040-4d2d-a852-3131ca172cf2\",\"type\":\"Grid\"},{\"id\":\"7aecd178-63fe-41c6-952e-600f1078d50e\",\"type\":\"BoxAnnotation\"},{\"id\":\"bb1fba30-5365-413e-936d-236da6f16e58\",\"type\":\"GlyphRenderer\"},{\"id\":\"4a98db27-169e-4921-8fc8-d177da304bd9\",\"type\":\"GlyphRenderer\"},{\"id\":\"d1e6ab99-a5a9-4ee8-9e48-4c9e5fca0e81\",\"type\":\"GlyphRenderer\"},{\"id\":\"a251d57f-18c2-44c8-baa3-76bb7f4f0a83\",\"type\":\"GlyphRenderer\"},{\"id\":\"9c1198cd-6943-45fc-9d3e-a3573eb6a66a\",\"type\":\"GlyphRenderer\"}],\"title\":{\"id\":\"497a0162-bf36-4f85-ba7a-30aeef257e91\",\"type\":\"Title\"},\"toolbar\":{\"id\":\"1236259b-6df0-4acc-b489-22d2d7da658e\",\"type\":\"Toolbar\"},\"toolbar_location\":null,\"x_range\":{\"id\":\"6a75712f-ad05-473c-ba4d-73c48df8a4a7\",\"type\":\"Range1d\"},\"x_scale\":{\"id\":\"b3acc31d-a1f7-4562-b33e-35d409a78f6b\",\"type\":\"LinearScale\"},\"y_range\":{\"id\":\"68a6845b-b729-455c-a232-29b600daa5f2\",\"type\":\"Range1d\"},\"y_scale\":{\"id\":\"03674354-811e-4907-a4b9-de8c599f0e36\",\"type\":\"LinearScale\"}},\"id\":\"4f937a0b-77c5-4c7b-81a3-45a738168822\",\"subtype\":\"Figure\",\"type\":\"Plot\"},{\"attributes\":{},\"id\":\"b8bb6277-d221-4f17-8c9c-44f7fa6d11ca\",\"type\":\"Selection\"},{\"attributes\":{},\"id\":\"a744a619-6986-46fb-819e-43572fcfbb59\",\"type\":\"Selection\"},{\"attributes\":{\"children\":[{\"id\":\"ff42a629-0df0-4ba7-8eb5-c02e79bc09c2\",\"type\":\"ToolbarBox\"},{\"id\":\"a9617f32-2f0d-4d47-9b32-f907f22071a0\",\"type\":\"Column\"}]},\"id\":\"3e691389-8da0-4bee-8861-37fc8e4bb624\",\"type\":\"Column\"},{\"attributes\":{},\"id\":\"48ee3acc-0d50-436d-ba7f-767b148d2f0c\",\"type\":\"BasicTicker\"},{\"attributes\":{},\"id\":\"e3f98029-c5a4-40e1-9574-ed794deee63d\",\"type\":\"HelpTool\"},{\"attributes\":{\"plot\":null,\"text\":\"Log pressure scale\"},\"id\":\"08ad8c3f-b719-4950-bb90-efad112d9940\",\"type\":\"Title\"},{\"attributes\":{},\"id\":\"8b431b9d-3ae5-4049-a752-bc842db35b08\",\"type\":\"UnionRenderers\"},{\"attributes\":{\"source\":{\"id\":\"c4acfa24-cb72-4759-bb9f-4dc814e458a4\",\"type\":\"ColumnDataSource\"}},\"id\":\"d428f7ba-11ff-4157-9aa2-d0c87e245195\",\"type\":\"CDSView\"},{\"attributes\":{},\"id\":\"dfd08eec-2369-418f-a2ba-241fddbee76c\",\"type\":\"UnionRenderers\"},{\"attributes\":{\"toolbar\":{\"id\":\"2f8860e2-8993-434b-8200-75d6079b1aaf\",\"type\":\"ProxyToolbar\"},\"toolbar_location\":\"above\"},\"id\":\"ff42a629-0df0-4ba7-8eb5-c02e79bc09c2\",\"type\":\"ToolbarBox\"},{\"attributes\":{\"data_source\":{\"id\":\"043e0062-52cf-4da1-9bcd-32fd05ff7a92\",\"type\":\"ColumnDataSource\"},\"glyph\":{\"id\":\"8c683122-4641-42e7-9722-50d7df658382\",\"type\":\"Line\"},\"hover_glyph\":null,\"muted_glyph\":null,\"nonselection_glyph\":{\"id\":\"2fda29e3-fdff-4afc-a4ce-b4e25fa45df8\",\"type\":\"Line\"},\"selection_glyph\":null,\"view\":{\"id\":\"448f23b4-9259-4d20-98f2-8cca4108daae\",\"type\":\"CDSView\"}},\"id\":\"9c1198cd-6943-45fc-9d3e-a3573eb6a66a\",\"type\":\"GlyphRenderer\"},{\"attributes\":{\"callback\":null,\"end\":0.01,\"start\":1020},\"id\":\"341e301b-3612-460c-8f88-76d7b95c0a94\",\"type\":\"Range1d\"},{\"attributes\":{\"axis_label\":\"cooling rate [K/day]\",\"formatter\":{\"id\":\"24b0c7c1-7f49-4d03-a649-cb034f5d6c00\",\"type\":\"BasicTickFormatter\"},\"plot\":{\"id\":\"4f937a0b-77c5-4c7b-81a3-45a738168822\",\"subtype\":\"Figure\",\"type\":\"Plot\"},\"ticker\":{\"id\":\"d66c1300-2976-4a8e-a58e-db76e15a3512\",\"type\":\"BasicTicker\"}},\"id\":\"13f9a16d-7f53-4917-bfbc-fd9a85df9932\",\"type\":\"LinearAxis\"},{\"attributes\":{},\"id\":\"03674354-811e-4907-a4b9-de8c599f0e36\",\"type\":\"LinearScale\"},{\"attributes\":{\"plot\":null,\"text\":\"Linear pressure scale\"},\"id\":\"497a0162-bf36-4f85-ba7a-30aeef257e91\",\"type\":\"Title\"},{\"attributes\":{\"callback\":null,\"end\":0.21676100436,\"start\":-0.02345760036},\"id\":\"6a75712f-ad05-473c-ba4d-73c48df8a4a7\",\"type\":\"Range1d\"},{\"attributes\":{\"callback\":null,\"data\":{\"x\":{\"__ndarray__\":\"F+Rka0ifkL+/7451OXGQv3ar2nr1DZC/k9aMylVFj78hoCj07WmOv/v69LTQiY2/8IGcfvCkjL9IWvLE6MOLv51kva7l6Yq/mvxgKkcSir8A6hruojaJv1SiCIMUN4i/LqiBfI9Oh7+fRDU5PW6GvzLQP/0DfoO/MbgX7Tk9c7+ZHNGVNR5uP1xMTTHwpI0/onKkF9vCnD/GUqAmZRinP9c7JeXD87A/nfjUKxGatz8be5ujM9W9P/eFgBFuEb4/rULf6vSUuD/1B9xQt4eyP5mZzIo+pao/OyjQQ0dUoj/kcZ+8kluYP8KjrjG/BY8/iHJ+lw3DgT81/9oD7m5uP6meBqncvDU/Z+yJvluRYr+rSLNXMhd2vz2Yosm27YK/q3/YHjLvib9S5rmaSY+Pvw5vMZrwppK/fpK87DcQlb9K51nPZI2VvwmzLD9AXJO/L9G72Wj+jb/km+TFDTGCvwDp8TTGcl6/iCHsLm3MbD/1y4l5O6KCP++EEPChzZA/bIXFtZXvmT/vLaCoUAOiP1PIw7IBJ6c/DhA0tVjJqz9wV1RpMDKwPwsrXCngq7I/YM7HEFtVtT91R6Nb3yK4P3zi780lC7s/zow8GMrsvj+1SAMNcCDBPxIANRiXaMI/MOtql9tiwz+gZ5pN0ynEP5Srkqcw38Q/kwbxYA+WxT++FWj7gFXGPwjM4HvBH8c/3LYQYGjgxz+tU6NfdFzIPwXxqpwwQMg/oib6fJSRxz/pl+vhiajGP8RdnHyj68U/BJ3/DZCexT/XHWLuIBfGP5u2FMqhyco/\",\"dtype\":\"float64\",\"shape\":[75]},\"y\":{\"__ndarray__\":\"GhExyth1ND/Sv8nbtpRIP2vylNV0PVE/aTum7souWD/At0SJ8fVgPw3Iuahxymc/MSNhhJWvcD/bTfBN02d3P2zb5nxnaoA/CD5h5MAGhz8NmeH1TyaQP+zrCsc9p5Y/LbKd76fGnz/bLW5ISEmmPww9YvTcQq8/JV2OstnstT8Er5Y7M8G+P0c+r3jqkcU/5h99k6ZBzj88bCIzFzjVP4enV8oyxN0//yH99nXg5D8qOpLLf0jtP5kqGJXUifQ/c9cS8kHP/D+/DpwzojQEQIEmwoanVwxA4lgXt9HgE0BSSZ2AJuIbQAMJih9jjiNA5q4l5INuK0AwTKYKRj0zQNv5fmq8/DpAaCJseHrtQkB/+zpwzoxKQM3MzMzMeFJAZmZmZmZqWEAAAAAAAFxeQM3MzMzMJmJAmpmZmZkfZUBmZmZmZhhoQDMzMzMzEWtAAAAAAAAKbkBmZmZmZoFwQM3MzMzM/XFAMzMzMzN6c0CamZmZmfZ0QAAAAAAAc3ZAZmZmZmbvd0DNzMzMzGt5QDMzMzMz6HpAmpmZmZlkfEAAAAAAAOF9QGZmZmZmXX9AZmZmZuZsgECamZmZGSuBQM3MzMxM6YFAAAAAAICngkAzMzMzs2WDQGZmZmbmI4RAmpmZmRnihEDNzMzMTKCFQAAAAACAXoZAMzMzM7Mch0BmZmZm5tqHQJqZmZkZmYhAzczMzExXiUAAAAAAgBWKQDMzMzOz04pAZmZmZuaRi0CamZmZGVCMQM3MzMxMDo1AAAAAAIDMjUAzMzMzs4qOQGZmZmbmSI9A\",\"dtype\":\"float64\",\"shape\":[75]}},\"selected\":{\"id\":\"97f7c254-5fce-4eef-aeb5-d1b229412913\",\"type\":\"Selection\"},\"selection_policy\":{\"id\":\"792cd374-741d-4b72-9b45-5d63d8c9c483\",\"type\":\"UnionRenderers\"}},\"id\":\"fc0a8331-d34f-47ee-8b81-0ed6ef3a6f6b\",\"type\":\"ColumnDataSource\"},{\"attributes\":{\"callback\":null,\"data\":{\"x\":{\"__ndarray__\":\"+6eap9pxpL9cfSYPzFCkv+/w49crBqS/Z21s2c61o7/bK44rd2Sjv3qoQkPME6O/e/M8NAPHor+yZ9QeJHuivxBup7eDNKK/1bLbhevzob+Fn7kAlLyhv7oxYygsk6G/rLMnb+p9ob8eQiCNxn6hvw7VX3JNyKC/zHjxBBZOm7+WD49kWaePv9L/na22dFK/rxeMD4gXkT9qkjlFMNajP30UmayW47A//0p8KLCEuT82F4dMXLvAP7wzZlQRVcA/60Hjt1g5uD8ujz+V9i2wP6XWweLsraQ/9D/2A+klmj+lmGoDA0qRP9w9eKFEQYg/I0qSH6WdgD86uL/ser9zP4hkpDSdEWQ/iRExoJPLRT/Pd8KS/FZcvwrAJ+Sv+nO/dbObLgZ1f7+tA6YnupuEvzyYHJDnp4q/KMDvYD1OkL9N/rJxgD2Rv82Xw2CRbo6/8hpybj5uhr9LamOTFW93v0TZh1nuwTc/kPwCbwEXdj90deO3yg6HPwjFbWwqFpM/RgoUmuzrmz9nB5m65OWiP9BgHvWBK6g/Y4fGTewlrT/gk9rNhA2xPxEJ14rTnLM/9kfHviw5tj9q7K2pdeC4P6k9ukvBnrs/i9ZZRk1ovz+ovW8Zw17BPzSCS88NsMI/ZCyqsN+0wz+JKAVhl3bEP7G6Wax2B8U/DKRysIp5xT9J1fpLIN/FP93qnBM5TMY/zvEbcKe+xj9P+q1jff/GPxOwJf0gv8Y/ljUcXFv0xT+QUbcW2vfEP8s9TfsgKsQ/o7dP+Z3Hwz9SjU3h9yXEP6F0lhdoEMk/\",\"dtype\":\"float64\",\"shape\":[75]},\"y\":{\"__ndarray__\":\"GhExyth1ND/Sv8nbtpRIP2vylNV0PVE/aTum7souWD/At0SJ8fVgPw3Iuahxymc/MSNhhJWvcD/bTfBN02d3P2zb5nxnaoA/CD5h5MAGhz8NmeH1TyaQP+zrCsc9p5Y/LbKd76fGnz/bLW5ISEmmPww9YvTcQq8/JV2OstnstT8Er5Y7M8G+P0c+r3jqkcU/5h99k6ZBzj88bCIzFzjVP4enV8oyxN0//yH99nXg5D8qOpLLf0jtP5kqGJXUifQ/c9cS8kHP/D+/DpwzojQEQIEmwoanVwxA4lgXt9HgE0BSSZ2AJuIbQAMJih9jjiNA5q4l5INuK0AwTKYKRj0zQNv5fmq8/DpAaCJseHrtQkB/+zpwzoxKQM3MzMzMeFJAZmZmZmZqWEAAAAAAAFxeQM3MzMzMJmJAmpmZmZkfZUBmZmZmZhhoQDMzMzMzEWtAAAAAAAAKbkBmZmZmZoFwQM3MzMzM/XFAMzMzMzN6c0CamZmZmfZ0QAAAAAAAc3ZAZmZmZmbvd0DNzMzMzGt5QDMzMzMz6HpAmpmZmZlkfEAAAAAAAOF9QGZmZmZmXX9AZmZmZuZsgECamZmZGSuBQM3MzMxM6YFAAAAAAICngkAzMzMzs2WDQGZmZmbmI4RAmpmZmRnihEDNzMzMTKCFQAAAAACAXoZAMzMzM7Mch0BmZmZm5tqHQJqZmZkZmYhAzczMzExXiUAAAAAAgBWKQDMzMzOz04pAZmZmZuaRi0CamZmZGVCMQM3MzMxMDo1AAAAAAIDMjUAzMzMzs4qOQGZmZmbmSI9A\",\"dtype\":\"float64\",\"shape\":[75]}},\"selected\":{\"id\":\"df3e288b-1279-4201-9f85-cd08a5620105\",\"type\":\"Selection\"},\"selection_policy\":{\"id\":\"a0c42cbb-464d-4dc0-944c-f8238b370a94\",\"type\":\"UnionRenderers\"}},\"id\":\"c4acfa24-cb72-4759-bb9f-4dc814e458a4\",\"type\":\"ColumnDataSource\"},{\"attributes\":{\"axis_label\":\"pressure [mb]\",\"formatter\":{\"id\":\"32e3ea8a-d1a6-4cec-9cfc-c6a7c09af897\",\"type\":\"BasicTickFormatter\"},\"plot\":{\"id\":\"4f937a0b-77c5-4c7b-81a3-45a738168822\",\"subtype\":\"Figure\",\"type\":\"Plot\"},\"ticker\":{\"id\":\"48ee3acc-0d50-436d-ba7f-767b148d2f0c\",\"type\":\"BasicTicker\"}},\"id\":\"bab6760b-4253-4e03-b0f6-e9c0571c5406\",\"type\":\"LinearAxis\"},{\"attributes\":{},\"id\":\"b3acc31d-a1f7-4562-b33e-35d409a78f6b\",\"type\":\"LinearScale\"},{\"attributes\":{\"data_source\":{\"id\":\"a6373684-1133-46b1-8d9b-0f1e13e5316b\",\"type\":\"ColumnDataSource\"},\"glyph\":{\"id\":\"bcdab24d-294d-496d-b6bf-3513f726cbef\",\"type\":\"Line\"},\"hover_glyph\":null,\"muted_glyph\":null,\"nonselection_glyph\":{\"id\":\"8b752e10-4008-4549-8474-8426510d20fb\",\"type\":\"Line\"},\"selection_glyph\":null,\"view\":{\"id\":\"036124f9-c081-45c6-b689-0c7d615efb26\",\"type\":\"CDSView\"}},\"id\":\"bb1fba30-5365-413e-936d-236da6f16e58\",\"type\":\"GlyphRenderer\"},{\"attributes\":{\"callback\":null,\"data\":{\"x\":{\"__ndarray__\":\"qn0FLGOKiL9SK7l7mkKIv3UBQRYofYe/L5ZhXY63hr/jbSkQC++FvzlNdp4+I4W/PLINaixShL9OSqNzDn+Dv80SX5S5pYK/ti04LuTLgb9CQVBGgeuAv69GAHPJCoC/rlXtYOVMfr//VW2eNmh8v7RePUOAYHa/W8tKAZ/qTr8lK5aNlE58P5BhAYt9e5E/bYVQqB6enj8I3cX+KYqnPxreaqUp5bA/3VpCGCE3tz+lZ1l7yCm9P9XGnl6lkr0/AcbV9uafuD8sqr0JN/myP9K0M2jC2Ks/oLOQdl9yoz+7Po8r19aZP8EscFadBZA/RbYoOcQUgT+fvLEfZ/NnP1Xf/CmyY0K/XAL2LYjDaL8sksAwqlZ4vw8/8BJLs4O/3bywttuOir/Ra5Ci/hWQvx7hBShF35K/2FM7W/Ehlb/8UFXg5ZuVv90WcalmsJO/zQ0MdHu2j7+IaPDODKiEv6Nir37L32a/ybC937fEYj+9OSK3lOd9P/v7BtI3/I0/4/b+GNCRmD+/Fpsm0WqhP95FlerNa6Y/2L5SJs3Qqj9H4GM+jWyvP7PQqKJzXLI/3I2yPBdftT+gNonFmIm4P1d3j+AErrs/XBKx0u6hvz/ZPol05G3BP8QBulB1n8I/Gr8RWXuKwz+GQtucEFvEPxachzSmN8U/9PIisMUwxj9u/dORTBzHP3sodtlUAsg/2L4+QuatyD+GX8FoHAvJPwZEToDdwMg/Njz/bmjnxz9xHgxEaOfGP6dUkSMALMY/qdlm13v5xT/jSJDfFaDGP2MBPDenccs/\",\"dtype\":\"float64\",\"shape\":[75]},\"y\":{\"__ndarray__\":\"S/O/Q+51ND/Sv8nbtpRIP2vylNV0PVE/aTum7souWD/At0SJ8fVgPw3Iuahxymc/MSNhhJWvcD/bTfBN02d3P2zb5nxnaoA/CD5h5MAGhz8NmeH1TyaQP+zrCsc9p5Y/LbKd76fGnz/bLW5ISEmmPww9YvTcQq8/JV2OstnstT8Er5Y7M8G+P0c+r3jqkcU/5h99k6ZBzj88bCIzFzjVP4enV8oyxN0//yH99nXg5D8qOpLLf0jtP5kqGJXUifQ/c9cS8kHP/D+/DpwzojQEQIEmwoanVwxA4lgXt9HgE0BSSZ2AJuIbQAMJih9jjiNA5q4l5INuK0AwTKYKRj0zQNv5fmq8/DpAaCJseHrtQkB/+zpwzoxKQM3MzMzMeFJAZmZmZmZqWEAAAAAAAFxeQM3MzMzMJmJAmpmZmZkfZUBmZmZmZhhoQDMzMzMzEWtAAAAAAAAKbkBmZmZmZoFwQM3MzMzM/XFAMzMzMzN6c0CamZmZmfZ0QAAAAAAAc3ZAZmZmZmbvd0DNzMzMzGt5QDMzMzMz6HpAmpmZmZlkfEAAAAAAAOF9QGZmZmZmXX9AZmZmZuZsgECamZmZGSuBQM3MzMxM6YFAAAAAAICngkAzMzMzs2WDQGZmZmbmI4RAmpmZmRnihEDNzMzMTKCFQAAAAACAXoZAMzMzM7Mch0BmZmZm5tqHQJqZmZkZmYhAzczMzExXiUAAAAAAgBWKQDMzMzOz04pAZmZmZuaRi0CamZmZGVCMQM3MzMxMDo1AAAAAAIDMjUAzMzMzs4qOQGZmZmbmSI9A\",\"dtype\":\"float64\",\"shape\":[75]}},\"selected\":{\"id\":\"1679a3a0-e4b7-4612-9962-e67295d75d30\",\"type\":\"Selection\"},\"selection_policy\":{\"id\":\"63cb2b34-946b-4141-8bb7-d064e542ecec\",\"type\":\"UnionRenderers\"}},\"id\":\"a6373684-1133-46b1-8d9b-0f1e13e5316b\",\"type\":\"ColumnDataSource\"},{\"attributes\":{},\"id\":\"e0e5e7b4-8726-4a95-a861-1b2045a67af9\",\"type\":\"PanTool\"},{\"attributes\":{\"fill_alpha\":{\"value\":0.7},\"fill_color\":{\"value\":\"#984ea3\"},\"line_alpha\":{\"value\":0.7},\"line_color\":{\"value\":\"#984ea3\"},\"x\":{\"field\":\"x\"},\"y\":{\"field\":\"y\"}},\"id\":\"93de30d7-87a8-48be-bb7c-891176e8ebbc\",\"type\":\"Square\"},{\"attributes\":{},\"id\":\"c8cd57d3-535a-4c1a-93fb-0b69c324fa36\",\"type\":\"BasicTicker\"},{\"attributes\":{\"active_drag\":\"auto\",\"active_inspect\":\"auto\",\"active_scroll\":\"auto\",\"active_tap\":\"auto\",\"tools\":[{\"id\":\"e0e5e7b4-8726-4a95-a861-1b2045a67af9\",\"type\":\"PanTool\"},{\"id\":\"ee2a7ce9-7cda-4773-9874-e92a4bf6fe92\",\"type\":\"WheelZoomTool\"},{\"id\":\"24067f10-a3a4-4bd0-bb30-286b8340e86d\",\"type\":\"BoxZoomTool\"},{\"id\":\"0dda587b-0709-4d25-a035-f9ea15594055\",\"type\":\"SaveTool\"},{\"id\":\"92459385-177c-4bd3-b63b-bb9d052c05c8\",\"type\":\"ResetTool\"},{\"id\":\"e3f98029-c5a4-40e1-9574-ed794deee63d\",\"type\":\"HelpTool\"}]},\"id\":\"1236259b-6df0-4acc-b489-22d2d7da658e\",\"type\":\"Toolbar\"},{\"attributes\":{\"line_alpha\":0.6,\"line_color\":\"#984ea3\",\"line_width\":3,\"x\":{\"field\":\"x\"},\"y\":{\"field\":\"y\"}},\"id\":\"f6be62af-c769-49f8-9a1a-65316530a649\",\"type\":\"Line\"},{\"attributes\":{\"axis_label\":\"pressure [mb]\",\"formatter\":{\"id\":\"9d1e1198-f232-424c-aafd-45a2e53de43b\",\"type\":\"LogTickFormatter\"},\"plot\":{\"id\":\"cf8cd169-898a-4223-b38e-e39341d5f50d\",\"subtype\":\"Figure\",\"type\":\"Plot\"},\"ticker\":{\"id\":\"25599ae9-ff87-4a14-a5da-7832acc03acc\",\"type\":\"LogTicker\"}},\"id\":\"6867e311-c289-4255-a16d-cf61f7b61e3d\",\"type\":\"LogAxis\"},{\"attributes\":{\"dimension\":1,\"plot\":{\"id\":\"cf8cd169-898a-4223-b38e-e39341d5f50d\",\"subtype\":\"Figure\",\"type\":\"Plot\"},\"ticker\":{\"id\":\"25599ae9-ff87-4a14-a5da-7832acc03acc\",\"type\":\"LogTicker\"}},\"id\":\"3826c679-b047-41ff-aef9-3309ca583917\",\"type\":\"Grid\"},{\"attributes\":{\"num_minor_ticks\":10},\"id\":\"25599ae9-ff87-4a14-a5da-7832acc03acc\",\"type\":\"LogTicker\"},{\"attributes\":{\"bottom_units\":\"screen\",\"fill_alpha\":{\"value\":0.5},\"fill_color\":{\"value\":\"lightgrey\"},\"left_units\":\"screen\",\"level\":\"overlay\",\"line_alpha\":{\"value\":1.0},\"line_color\":{\"value\":\"black\"},\"line_dash\":[4,4],\"line_width\":{\"value\":2},\"plot\":null,\"render_mode\":\"css\",\"right_units\":\"screen\",\"top_units\":\"screen\"},\"id\":\"15e18268-8825-4643-b1ff-b29979998f87\",\"type\":\"BoxAnnotation\"},{\"attributes\":{},\"id\":\"3a578cb3-0cae-4e91-b7bf-dd1577bd1662\",\"type\":\"PanTool\"},{\"attributes\":{},\"id\":\"17ffd188-52ca-4892-860f-4cc7fd2109a2\",\"type\":\"WheelZoomTool\"},{\"attributes\":{\"source\":{\"id\":\"c9ee5e46-3d64-4972-80ad-41585656248b\",\"type\":\"ColumnDataSource\"}},\"id\":\"da4b83cc-7582-4932-aeee-acc320fa7a18\",\"type\":\"CDSView\"},{\"attributes\":{\"overlay\":{\"id\":\"15e18268-8825-4643-b1ff-b29979998f87\",\"type\":\"BoxAnnotation\"}},\"id\":\"9a261487-b2cd-4f45-9c43-f044c48a1f72\",\"type\":\"BoxZoomTool\"},{\"attributes\":{},\"id\":\"dd07293b-262d-45fb-be2e-555079386563\",\"type\":\"ResetTool\"},{\"attributes\":{},\"id\":\"28edc66c-1fdc-491a-9844-05ed8c5187b2\",\"type\":\"HelpTool\"},{\"attributes\":{},\"id\":\"4f7ab864-81a6-43cb-b834-e78397e06f79\",\"type\":\"SaveTool\"},{\"attributes\":{\"line_alpha\":0.6,\"line_color\":\"#e41a1c\",\"line_dash\":[6],\"line_width\":5,\"x\":{\"field\":\"x\"},\"y\":{\"field\":\"y\"}},\"id\":\"ea45324c-947f-479a-8b37-d49dd7112c0c\",\"type\":\"Line\"},{\"attributes\":{\"data_source\":{\"id\":\"c9ee5e46-3d64-4972-80ad-41585656248b\",\"type\":\"ColumnDataSource\"},\"glyph\":{\"id\":\"c4186d01-97c9-4557-af4c-bb1ea19e1520\",\"type\":\"Square\"},\"hover_glyph\":null,\"muted_glyph\":null,\"nonselection_glyph\":{\"id\":\"1e5d9495-ffb7-4866-9d2a-6c364b65543f\",\"type\":\"Square\"},\"selection_glyph\":null,\"view\":{\"id\":\"da4b83cc-7582-4932-aeee-acc320fa7a18\",\"type\":\"CDSView\"}},\"id\":\"60982ea3-52e3-4f0c-a86f-b1315832b968\",\"type\":\"GlyphRenderer\"},{\"attributes\":{\"line_alpha\":0.1,\"line_color\":\"#1f77b4\",\"line_dash\":[6],\"line_width\":5,\"x\":{\"field\":\"x\"},\"y\":{\"field\":\"y\"}},\"id\":\"e93129d5-81d2-459e-a694-f5c39c61cfc6\",\"type\":\"Line\"},{\"attributes\":{\"fill_alpha\":{\"value\":0.1},\"fill_color\":{\"value\":\"#1f77b4\"},\"line_alpha\":{\"value\":0.1},\"line_color\":{\"value\":\"#1f77b4\"},\"x\":{\"field\":\"x\"},\"y\":{\"field\":\"y\"}},\"id\":\"1e5d9495-ffb7-4866-9d2a-6c364b65543f\",\"type\":\"Square\"},{\"attributes\":{\"line_alpha\":0.6,\"line_color\":\"#e41a1c\",\"line_dash\":[6],\"line_width\":5,\"x\":{\"field\":\"x\"},\"y\":{\"field\":\"y\"}},\"id\":\"bcdab24d-294d-496d-b6bf-3513f726cbef\",\"type\":\"Line\"},{\"attributes\":{\"source\":{\"id\":\"000c7dbd-8339-4d81-9017-514a2291d99c\",\"type\":\"ColumnDataSource\"}},\"id\":\"1c19769e-42d4-4a9b-b370-1bbad871a9c4\",\"type\":\"CDSView\"},{\"attributes\":{\"callback\":null,\"data\":{\"x\":{\"__ndarray__\":\"F+Rka0ifkL+/7451OXGQv3ar2nr1DZC/k9aMylVFj78hoCj07WmOv/v69LTQiY2/8IGcfvCkjL9IWvLE6MOLv51kva7l6Yq/mvxgKkcSir8A6hruojaJv1SiCIMUN4i/LqiBfI9Oh7+fRDU5PW6GvzLQP/0DfoO/MbgX7Tk9c7+ZHNGVNR5uP1xMTTHwpI0/onKkF9vCnD/GUqAmZRinP9c7JeXD87A/nfjUKxGatz8be5ujM9W9P/eFgBFuEb4/rULf6vSUuD/1B9xQt4eyP5mZzIo+pao/OyjQQ0dUoj/kcZ+8kluYP8KjrjG/BY8/iHJ+lw3DgT81/9oD7m5uP6meBqncvDU/Z+yJvluRYr+rSLNXMhd2vz2Yosm27YK/q3/YHjLvib9S5rmaSY+Pvw5vMZrwppK/fpK87DcQlb9K51nPZI2VvwmzLD9AXJO/L9G72Wj+jb/km+TFDTGCvwDp8TTGcl6/iCHsLm3MbD/1y4l5O6KCP++EEPChzZA/bIXFtZXvmT/vLaCoUAOiP1PIw7IBJ6c/DhA0tVjJqz9wV1RpMDKwPwsrXCngq7I/YM7HEFtVtT91R6Nb3yK4P3zi780lC7s/zow8GMrsvj+1SAMNcCDBPxIANRiXaMI/MOtql9tiwz+gZ5pN0ynEP5Srkqcw38Q/kwbxYA+WxT++FWj7gFXGPwjM4HvBH8c/3LYQYGjgxz+tU6NfdFzIPwXxqpwwQMg/oib6fJSRxz/pl+vhiajGP8RdnHyj68U/BJ3/DZCexT/XHWLuIBfGP5u2FMqhyco/\",\"dtype\":\"float64\",\"shape\":[75]},\"y\":{\"__ndarray__\":\"GhExyth1ND/Sv8nbtpRIP2vylNV0PVE/aTum7souWD/At0SJ8fVgPw3Iuahxymc/MSNhhJWvcD/bTfBN02d3P2zb5nxnaoA/CD5h5MAGhz8NmeH1TyaQP+zrCsc9p5Y/LbKd76fGnz/bLW5ISEmmPww9YvTcQq8/JV2OstnstT8Er5Y7M8G+P0c+r3jqkcU/5h99k6ZBzj88bCIzFzjVP4enV8oyxN0//yH99nXg5D8qOpLLf0jtP5kqGJXUifQ/c9cS8kHP/D+/DpwzojQEQIEmwoanVwxA4lgXt9HgE0BSSZ2AJuIbQAMJih9jjiNA5q4l5INuK0AwTKYKRj0zQNv5fmq8/DpAaCJseHrtQkB/+zpwzoxKQM3MzMzMeFJAZmZmZmZqWEAAAAAAAFxeQM3MzMzMJmJAmpmZmZkfZUBmZmZmZhhoQDMzMzMzEWtAAAAAAAAKbkBmZmZmZoFwQM3MzMzM/XFAMzMzMzN6c0CamZmZmfZ0QAAAAAAAc3ZAZmZmZmbvd0DNzMzMzGt5QDMzMzMz6HpAmpmZmZlkfEAAAAAAAOF9QGZmZmZmXX9AZmZmZuZsgECamZmZGSuBQM3MzMxM6YFAAAAAAICngkAzMzMzs2WDQGZmZmbmI4RAmpmZmRnihEDNzMzMTKCFQAAAAACAXoZAMzMzM7Mch0BmZmZm5tqHQJqZmZkZmYhAzczMzExXiUAAAAAAgBWKQDMzMzOz04pAZmZmZuaRi0CamZmZGVCMQM3MzMxMDo1AAAAAAIDMjUAzMzMzs4qOQGZmZmbmSI9A\",\"dtype\":\"float64\",\"shape\":[75]}},\"selected\":{\"id\":\"a744a619-6986-46fb-819e-43572fcfbb59\",\"type\":\"Selection\"},\"selection_policy\":{\"id\":\"dfd08eec-2369-418f-a2ba-241fddbee76c\",\"type\":\"UnionRenderers\"}},\"id\":\"f8093bd5-43da-4ba4-9033-67fad6cc0666\",\"type\":\"ColumnDataSource\"},{\"attributes\":{\"data_source\":{\"id\":\"000c7dbd-8339-4d81-9017-514a2291d99c\",\"type\":\"ColumnDataSource\"},\"glyph\":{\"id\":\"ea45324c-947f-479a-8b37-d49dd7112c0c\",\"type\":\"Line\"},\"hover_glyph\":null,\"muted_glyph\":null,\"nonselection_glyph\":{\"id\":\"e93129d5-81d2-459e-a694-f5c39c61cfc6\",\"type\":\"Line\"},\"selection_glyph\":null,\"view\":{\"id\":\"1c19769e-42d4-4a9b-b370-1bbad871a9c4\",\"type\":\"CDSView\"}},\"id\":\"d919a5de-57fc-4e31-9cb2-1ae448f8459f\",\"type\":\"GlyphRenderer\"},{\"attributes\":{\"fill_alpha\":{\"value\":0.7},\"fill_color\":{\"value\":\"#984ea3\"},\"line_alpha\":{\"value\":0.7},\"line_color\":{\"value\":\"#984ea3\"},\"x\":{\"field\":\"x\"},\"y\":{\"field\":\"y\"}},\"id\":\"c4186d01-97c9-4557-af4c-bb1ea19e1520\",\"type\":\"Square\"},{\"attributes\":{\"callback\":null,\"data\":{\"x\":{\"__ndarray__\":\"+6eap9pxpL9cfSYPzFCkv+/w49crBqS/Z21s2c61o7/bK44rd2Sjv3qoQkPME6O/e/M8NAPHor+yZ9QeJHuivxBup7eDNKK/1bLbhevzob+Fn7kAlLyhv7oxYygsk6G/rLMnb+p9ob8eQiCNxn6hvw7VX3JNyKC/zHjxBBZOm7+WD49kWaePv9L/na22dFK/rxeMD4gXkT9qkjlFMNajP30UmayW47A//0p8KLCEuT82F4dMXLvAP7wzZlQRVcA/60Hjt1g5uD8ujz+V9i2wP6XWweLsraQ/9D/2A+klmj+lmGoDA0qRP9w9eKFEQYg/I0qSH6WdgD86uL/ser9zP4hkpDSdEWQ/iRExoJPLRT/Pd8KS/FZcvwrAJ+Sv+nO/dbObLgZ1f7+tA6YnupuEvzyYHJDnp4q/KMDvYD1OkL9N/rJxgD2Rv82Xw2CRbo6/8hpybj5uhr9LamOTFW93v0TZh1nuwTc/kPwCbwEXdj90deO3yg6HPwjFbWwqFpM/RgoUmuzrmz9nB5m65OWiP9BgHvWBK6g/Y4fGTewlrT/gk9rNhA2xPxEJ14rTnLM/9kfHviw5tj9q7K2pdeC4P6k9ukvBnrs/i9ZZRk1ovz+ovW8Zw17BPzSCS88NsMI/ZCyqsN+0wz+JKAVhl3bEP7G6Wax2B8U/DKRysIp5xT9J1fpLIN/FP93qnBM5TMY/zvEbcKe+xj9P+q1jff/GPxOwJf0gv8Y/ljUcXFv0xT+QUbcW2vfEP8s9TfsgKsQ/o7dP+Z3Hwz9SjU3h9yXEP6F0lhdoEMk/\",\"dtype\":\"float64\",\"shape\":[75]},\"y\":{\"__ndarray__\":\"GhExyth1ND/Sv8nbtpRIP2vylNV0PVE/aTum7souWD/At0SJ8fVgPw3Iuahxymc/MSNhhJWvcD/bTfBN02d3P2zb5nxnaoA/CD5h5MAGhz8NmeH1TyaQP+zrCsc9p5Y/LbKd76fGnz/bLW5ISEmmPww9YvTcQq8/JV2OstnstT8Er5Y7M8G+P0c+r3jqkcU/5h99k6ZBzj88bCIzFzjVP4enV8oyxN0//yH99nXg5D8qOpLLf0jtP5kqGJXUifQ/c9cS8kHP/D+/DpwzojQEQIEmwoanVwxA4lgXt9HgE0BSSZ2AJuIbQAMJih9jjiNA5q4l5INuK0AwTKYKRj0zQNv5fmq8/DpAaCJseHrtQkB/+zpwzoxKQM3MzMzMeFJAZmZmZmZqWEAAAAAAAFxeQM3MzMzMJmJAmpmZmZkfZUBmZmZmZhhoQDMzMzMzEWtAAAAAAAAKbkBmZmZmZoFwQM3MzMzM/XFAMzMzMzN6c0CamZmZmfZ0QAAAAAAAc3ZAZmZmZmbvd0DNzMzMzGt5QDMzMzMz6HpAmpmZmZlkfEAAAAAAAOF9QGZmZmZmXX9AZmZmZuZsgECamZmZGSuBQM3MzMxM6YFAAAAAAICngkAzMzMzs2WDQGZmZmbmI4RAmpmZmRnihEDNzMzMTKCFQAAAAACAXoZAMzMzM7Mch0BmZmZm5tqHQJqZmZkZmYhAzczMzExXiUAAAAAAgBWKQDMzMzOz04pAZmZmZuaRi0CamZmZGVCMQM3MzMxMDo1AAAAAAIDMjUAzMzMzs4qOQGZmZmbmSI9A\",\"dtype\":\"float64\",\"shape\":[75]}},\"selected\":{\"id\":\"5c39db6f-15ba-44d9-99ea-eeb2244d4901\",\"type\":\"Selection\"},\"selection_policy\":{\"id\":\"1346f9b6-fe66-48eb-a0d4-0a78d4744e00\",\"type\":\"UnionRenderers\"}},\"id\":\"9f6dc4af-6414-4a04-9981-89b7de74e6e6\",\"type\":\"ColumnDataSource\"}],\"root_ids\":[\"3e691389-8da0-4bee-8861-37fc8e4bb624\"]},\"title\":\"Bokeh Application\",\"version\":\"0.12.16\"}};\n",
       "  var render_items = [{\"docid\":\"76cfb39b-f166-4a0d-8324-c48bf0531522\",\"elementid\":\"ed4aa2a2-3244-4fb5-8d78-59da2bd882ad\",\"modelid\":\"3e691389-8da0-4bee-8861-37fc8e4bb624\"}];\n",
       "  root.Bokeh.embed.embed_items_notebook(docs_json, render_items);\n",
       "\n",
       "  }\n",
       "  if (root.Bokeh !== undefined) {\n",
       "    embed_document(root);\n",
       "  } else {\n",
       "    var attempts = 0;\n",
       "    var timer = setInterval(function(root) {\n",
       "      if (root.Bokeh !== undefined) {\n",
       "        embed_document(root);\n",
       "        clearInterval(timer);\n",
       "      }\n",
       "      attempts++;\n",
       "      if (attempts > 100) {\n",
       "        console.log(\"Bokeh: ERROR: Unable to run BokehJS code because BokehJS library is missing\")\n",
       "        clearInterval(timer);\n",
       "      }\n",
       "    }, 10, root)\n",
       "  }\n",
       "})(window);"
      ],
      "application/vnd.bokehjs_exec.v0+json": ""
     },
     "metadata": {
      "application/vnd.bokehjs_exec.v0+json": {
       "id": "3e691389-8da0-4bee-8861-37fc8e4bb624"
      }
     },
     "output_type": "display_data"
    },
    {
     "name": "stdout",
     "output_type": "stream",
     "text": [
      "FIGURE. Cooling rate profiles.\n"
     ]
    },
    {
     "data": {
      "text/html": [
       "<a id=\"Flux_Comparison\"></a>"
      ],
      "text/plain": [
       "<IPython.core.display.HTML object>"
      ]
     },
     "metadata": {},
     "output_type": "display_data"
    },
    {
     "data": {
      "text/markdown": [
       "# Flux Comparison"
      ],
      "text/plain": [
       "<IPython.core.display.Markdown object>"
      ]
     },
     "metadata": {},
     "output_type": "display_data"
    },
    {
     "data": {
      "text/html": [
       "<div>\n",
       "<style scoped>\n",
       "    .dataframe tbody tr th:only-of-type {\n",
       "        vertical-align: middle;\n",
       "    }\n",
       "\n",
       "    .dataframe tbody tr th {\n",
       "        vertical-align: top;\n",
       "    }\n",
       "\n",
       "    .dataframe thead th {\n",
       "        text-align: right;\n",
       "    }\n",
       "</style>\n",
       "<table border=\"1\" class=\"dataframe\">\n",
       "  <thead>\n",
       "    <tr style=\"text-align: right;\">\n",
       "      <th></th>\n",
       "      <th></th>\n",
       "      <th>flug</th>\n",
       "      <th>fldg</th>\n",
       "      <th>fnetg</th>\n",
       "    </tr>\n",
       "    <tr>\n",
       "      <th>pressure</th>\n",
       "      <th>level</th>\n",
       "      <th></th>\n",
       "      <th></th>\n",
       "      <th></th>\n",
       "    </tr>\n",
       "  </thead>\n",
       "  <tbody>\n",
       "    <tr>\n",
       "      <th>0.0000</th>\n",
       "      <th>1</th>\n",
       "      <td>-14.443847</td>\n",
       "      <td>0.000000</td>\n",
       "      <td>-14.443847</td>\n",
       "    </tr>\n",
       "    <tr>\n",
       "      <th>1.0685</th>\n",
       "      <th>24</th>\n",
       "      <td>-14.443736</td>\n",
       "      <td>0.008646</td>\n",
       "      <td>-14.435090</td>\n",
       "    </tr>\n",
       "    <tr>\n",
       "      <th>1013.0000</th>\n",
       "      <th>76</th>\n",
       "      <td>-23.755175</td>\n",
       "      <td>19.140901</td>\n",
       "      <td>-4.614275</td>\n",
       "    </tr>\n",
       "  </tbody>\n",
       "</table>\n",
       "</div>"
      ],
      "text/plain": [
       "                      flug       fldg      fnetg\n",
       "pressure  level                                 \n",
       "0.0000    1     -14.443847   0.000000 -14.443847\n",
       "1.0685    24    -14.443736   0.008646 -14.435090\n",
       "1013.0000 76    -23.755175  19.140901  -4.614275"
      ]
     },
     "metadata": {},
     "output_type": "display_data"
    },
    {
     "name": "stdout",
     "output_type": "stream",
     "text": [
      "Table. Fluxes. CRD\n"
     ]
    },
    {
     "data": {
      "text/html": [
       "<div>\n",
       "<style scoped>\n",
       "    .dataframe tbody tr th:only-of-type {\n",
       "        vertical-align: middle;\n",
       "    }\n",
       "\n",
       "    .dataframe tbody tr th {\n",
       "        vertical-align: top;\n",
       "    }\n",
       "\n",
       "    .dataframe thead th {\n",
       "        text-align: right;\n",
       "    }\n",
       "</style>\n",
       "<table border=\"1\" class=\"dataframe\">\n",
       "  <thead>\n",
       "    <tr style=\"text-align: right;\">\n",
       "      <th></th>\n",
       "      <th></th>\n",
       "      <th>flug</th>\n",
       "      <th>fldg</th>\n",
       "      <th>fnetg</th>\n",
       "    </tr>\n",
       "    <tr>\n",
       "      <th>pressure</th>\n",
       "      <th>level</th>\n",
       "      <th></th>\n",
       "      <th></th>\n",
       "      <th></th>\n",
       "    </tr>\n",
       "  </thead>\n",
       "  <tbody>\n",
       "    <tr>\n",
       "      <th>0.0000</th>\n",
       "      <th>1</th>\n",
       "      <td>-14.601045</td>\n",
       "      <td>0.00000</td>\n",
       "      <td>-14.601045</td>\n",
       "    </tr>\n",
       "    <tr>\n",
       "      <th>1.0685</th>\n",
       "      <th>24</th>\n",
       "      <td>-14.598878</td>\n",
       "      <td>0.00654</td>\n",
       "      <td>-14.592338</td>\n",
       "    </tr>\n",
       "    <tr>\n",
       "      <th>1013.0000</th>\n",
       "      <th>76</th>\n",
       "      <td>-23.755175</td>\n",
       "      <td>19.09036</td>\n",
       "      <td>-4.664815</td>\n",
       "    </tr>\n",
       "  </tbody>\n",
       "</table>\n",
       "</div>"
      ],
      "text/plain": [
       "                      flug      fldg      fnetg\n",
       "pressure  level                                \n",
       "0.0000    1     -14.601045   0.00000 -14.601045\n",
       "1.0685    24    -14.598878   0.00654 -14.592338\n",
       "1013.0000 76    -23.755175  19.09036  -4.664815"
      ]
     },
     "metadata": {},
     "output_type": "display_data"
    },
    {
     "name": "stdout",
     "output_type": "stream",
     "text": [
      "Table. Fluxes. WGT igg=10 wgt_flux=1\n"
     ]
    },
    {
     "data": {
      "text/html": [
       "<div>\n",
       "<style scoped>\n",
       "    .dataframe tbody tr th:only-of-type {\n",
       "        vertical-align: middle;\n",
       "    }\n",
       "\n",
       "    .dataframe tbody tr th {\n",
       "        vertical-align: top;\n",
       "    }\n",
       "\n",
       "    .dataframe thead th {\n",
       "        text-align: right;\n",
       "    }\n",
       "</style>\n",
       "<table border=\"1\" class=\"dataframe\">\n",
       "  <thead>\n",
       "    <tr style=\"text-align: right;\">\n",
       "      <th></th>\n",
       "      <th></th>\n",
       "      <th>flug</th>\n",
       "      <th>fldg</th>\n",
       "      <th>fnetg</th>\n",
       "    </tr>\n",
       "    <tr>\n",
       "      <th>pressure</th>\n",
       "      <th>level</th>\n",
       "      <th></th>\n",
       "      <th></th>\n",
       "      <th></th>\n",
       "    </tr>\n",
       "  </thead>\n",
       "  <tbody>\n",
       "    <tr>\n",
       "      <th>1.000000e-08</th>\n",
       "      <th>1</th>\n",
       "      <td>-14.715277</td>\n",
       "      <td>8.942664e-08</td>\n",
       "      <td>-14.715277</td>\n",
       "    </tr>\n",
       "    <tr>\n",
       "      <th>1.068500e+00</th>\n",
       "      <th>24</th>\n",
       "      <td>-14.712774</td>\n",
       "      <td>6.173676e-03</td>\n",
       "      <td>-14.706600</td>\n",
       "    </tr>\n",
       "    <tr>\n",
       "      <th>1.013000e+03</th>\n",
       "      <th>76</th>\n",
       "      <td>-23.755180</td>\n",
       "      <td>1.911508e+01</td>\n",
       "      <td>-4.640099</td>\n",
       "    </tr>\n",
       "  </tbody>\n",
       "</table>\n",
       "</div>"
      ],
      "text/plain": [
       "                         flug          fldg      fnetg\n",
       "pressure     level                                    \n",
       "1.000000e-08 1     -14.715277  8.942664e-08 -14.715277\n",
       "1.068500e+00 24    -14.712774  6.173676e-03 -14.706600\n",
       "1.013000e+03 76    -23.755180  1.911508e+01  -4.640099"
      ]
     },
     "metadata": {},
     "output_type": "display_data"
    },
    {
     "name": "stdout",
     "output_type": "stream",
     "text": [
      "Table. Fluxes. CLIRAD\n"
     ]
    },
    {
     "data": {
      "text/html": [
       "<div>\n",
       "<style scoped>\n",
       "    .dataframe tbody tr th:only-of-type {\n",
       "        vertical-align: middle;\n",
       "    }\n",
       "\n",
       "    .dataframe tbody tr th {\n",
       "        vertical-align: top;\n",
       "    }\n",
       "\n",
       "    .dataframe thead th {\n",
       "        text-align: right;\n",
       "    }\n",
       "</style>\n",
       "<table border=\"1\" class=\"dataframe\">\n",
       "  <thead>\n",
       "    <tr style=\"text-align: right;\">\n",
       "      <th></th>\n",
       "      <th></th>\n",
       "      <th>flug</th>\n",
       "      <th>fldg</th>\n",
       "      <th>fnetg</th>\n",
       "    </tr>\n",
       "    <tr>\n",
       "      <th>pressure</th>\n",
       "      <th>level</th>\n",
       "      <th></th>\n",
       "      <th></th>\n",
       "      <th></th>\n",
       "    </tr>\n",
       "  </thead>\n",
       "  <tbody>\n",
       "    <tr>\n",
       "      <th>0.0000</th>\n",
       "      <th>1</th>\n",
       "      <td>-0.157198</td>\n",
       "      <td>0.000000</td>\n",
       "      <td>-0.157198</td>\n",
       "    </tr>\n",
       "    <tr>\n",
       "      <th>1.0685</th>\n",
       "      <th>24</th>\n",
       "      <td>-0.155142</td>\n",
       "      <td>-0.002106</td>\n",
       "      <td>-0.157248</td>\n",
       "    </tr>\n",
       "    <tr>\n",
       "      <th>1013.0000</th>\n",
       "      <th>76</th>\n",
       "      <td>0.000000</td>\n",
       "      <td>-0.050541</td>\n",
       "      <td>-0.050541</td>\n",
       "    </tr>\n",
       "  </tbody>\n",
       "</table>\n",
       "</div>"
      ],
      "text/plain": [
       "                     flug      fldg     fnetg\n",
       "pressure  level                              \n",
       "0.0000    1     -0.157198  0.000000 -0.157198\n",
       "1.0685    24    -0.155142 -0.002106 -0.157248\n",
       "1013.0000 76     0.000000 -0.050541 -0.050541"
      ]
     },
     "metadata": {},
     "output_type": "display_data"
    },
    {
     "name": "stdout",
     "output_type": "stream",
     "text": [
      "Table. Fluxes. (WGT igg=10 wgt_flux=1) - (CRD)\n"
     ]
    },
    {
     "data": {
      "text/html": [
       "<div>\n",
       "<style scoped>\n",
       "    .dataframe tbody tr th:only-of-type {\n",
       "        vertical-align: middle;\n",
       "    }\n",
       "\n",
       "    .dataframe tbody tr th {\n",
       "        vertical-align: top;\n",
       "    }\n",
       "\n",
       "    .dataframe thead th {\n",
       "        text-align: right;\n",
       "    }\n",
       "</style>\n",
       "<table border=\"1\" class=\"dataframe\">\n",
       "  <thead>\n",
       "    <tr style=\"text-align: right;\">\n",
       "      <th></th>\n",
       "      <th></th>\n",
       "      <th>flug</th>\n",
       "      <th>fldg</th>\n",
       "      <th>fnetg</th>\n",
       "    </tr>\n",
       "    <tr>\n",
       "      <th>pressure</th>\n",
       "      <th>level</th>\n",
       "      <th></th>\n",
       "      <th></th>\n",
       "      <th></th>\n",
       "    </tr>\n",
       "  </thead>\n",
       "  <tbody>\n",
       "    <tr>\n",
       "      <th>0.0000</th>\n",
       "      <th>1</th>\n",
       "      <td>-0.271430</td>\n",
       "      <td>8.942664e-08</td>\n",
       "      <td>-0.271430</td>\n",
       "    </tr>\n",
       "    <tr>\n",
       "      <th>1.0685</th>\n",
       "      <th>24</th>\n",
       "      <td>-0.269038</td>\n",
       "      <td>-2.472067e-03</td>\n",
       "      <td>-0.271510</td>\n",
       "    </tr>\n",
       "    <tr>\n",
       "      <th>1013.0000</th>\n",
       "      <th>76</th>\n",
       "      <td>-0.000005</td>\n",
       "      <td>-2.582000e-02</td>\n",
       "      <td>-0.025825</td>\n",
       "    </tr>\n",
       "  </tbody>\n",
       "</table>\n",
       "</div>"
      ],
      "text/plain": [
       "                     flug          fldg     fnetg\n",
       "pressure  level                                  \n",
       "0.0000    1     -0.271430  8.942664e-08 -0.271430\n",
       "1.0685    24    -0.269038 -2.472067e-03 -0.271510\n",
       "1013.0000 76    -0.000005 -2.582000e-02 -0.025825"
      ]
     },
     "metadata": {},
     "output_type": "display_data"
    },
    {
     "name": "stdout",
     "output_type": "stream",
     "text": [
      "Table. Fluxes. (CLIRAD) - (CRD)\n"
     ]
    },
    {
     "data": {
      "text/html": [
       "<a id=\"Best-fit_Parameters\"></a>"
      ],
      "text/plain": [
       "<IPython.core.display.HTML object>"
      ]
     },
     "metadata": {},
     "output_type": "display_data"
    },
    {
     "data": {
      "text/markdown": [
       "# Best-fit Parameters"
      ],
      "text/plain": [
       "<IPython.core.display.Markdown object>"
      ]
     },
     "metadata": {},
     "output_type": "display_data"
    },
    {
     "name": "stdout",
     "output_type": "stream",
     "text": [
      "Best-fit values for each (gas, band)\n",
      "------------------------------------\n",
      "o h2o band7\n",
      "  atmpro = mls\n",
      "  band = 7\n",
      "  commitnumber = a06b618\n",
      "  conc = None\n",
      "  dv = 0.001\n",
      "  klin = 0\n",
      "  molecule = h2o\n",
      "  ng_adju = [0]\n",
      "  ng_refs = [7]\n",
      "  nv = 1000\n",
      "  option_compute_btable = 0\n",
      "  option_compute_ktable = 1\n",
      "  option_wgt_flux = 1\n",
      "  option_wgt_k = 1\n",
      "  ref_pts = [(600, 250)]\n",
      "  tsfc = 294\n",
      "  vmax = 1380\n",
      "  vmin = 1215\n",
      "  w_diffuse = [(2, 1.6, 1.6, 1.6, 1.6, 1.6, 1.8)]\n",
      "  wgt = [(0.5, 0.5, 0.5, 0.5, 0.5, 0.5, 0.9)]\n",
      "o n2o band7\n",
      "  atmpro = mls\n",
      "  band = 7\n",
      "  commitnumber = a06b618\n",
      "  conc = 3.2e-07\n",
      "  dv = 0.001\n",
      "  klin = 2.22e-20\n",
      "  molecule = n2o\n",
      "  ng_adju = [0, 0]\n",
      "  ng_refs = [2, 2]\n",
      "  nv = 1000\n",
      "  option_compute_btable = 0\n",
      "  option_compute_ktable = 1\n",
      "  option_wgt_flux = 1\n",
      "  option_wgt_k = 1\n",
      "  ref_pts = [(1, 250), (500, 250)]\n",
      "  tsfc = 294\n",
      "  vmax = 1380\n",
      "  vmin = 1215\n",
      "  w_diffuse = [(1.8, 1.66), (1.6, 1.8)]\n",
      "  wgt = [(0.6, 0.5), (0.6, 0.9)]\n"
     ]
    }
   ],
   "source": [
    "script()"
   ]
  },
  {
   "cell_type": "code",
   "execution_count": 13,
   "metadata": {},
   "outputs": [
    {
     "data": {
      "text/html": [
       "<script>\n",
       "code_show=true; \n",
       "function code_toggle() {\n",
       " if (code_show){\n",
       " $('div.input').hide();\n",
       " } else {\n",
       " $('div.input').show();\n",
       " }\n",
       " code_show = !code_show\n",
       "} \n",
       "$( document ).ready(code_toggle);\n",
       "</script>\n",
       "<form action=\"javascript:code_toggle()\"><input type=\"submit\" value=\"Click here to toggle on/off the raw code.\"></form>"
      ],
      "text/plain": [
       "<IPython.core.display.HTML object>"
      ]
     },
     "execution_count": 13,
     "metadata": {},
     "output_type": "execute_result"
    }
   ],
   "source": [
    "display.HTML('''<script>\n",
    "code_show=true; \n",
    "function code_toggle() {\n",
    " if (code_show){\n",
    " $('div.input').hide();\n",
    " } else {\n",
    " $('div.input').show();\n",
    " }\n",
    " code_show = !code_show\n",
    "} \n",
    "$( document ).ready(code_toggle);\n",
    "</script>\n",
    "<form action=\"javascript:code_toggle()\"><input type=\"submit\" value=\"Click here to toggle on/off the raw code.\"></form>''')"
   ]
  }
 ],
 "metadata": {
  "kernelspec": {
   "display_name": "Python 3",
   "language": "python",
   "name": "python3"
  },
  "language_info": {
   "codemirror_mode": {
    "name": "ipython",
    "version": 3
   },
   "file_extension": ".py",
   "mimetype": "text/x-python",
   "name": "python",
   "nbconvert_exporter": "python",
   "pygments_lexer": "ipython3",
   "version": "3.6.1"
  }
 },
 "nbformat": 4,
 "nbformat_minor": 2
}
