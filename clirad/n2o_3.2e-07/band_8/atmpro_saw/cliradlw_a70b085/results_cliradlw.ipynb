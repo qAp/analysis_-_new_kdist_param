{
 "cells": [
  {
   "cell_type": "code",
   "execution_count": 1,
   "metadata": {
    "collapsed": true
   },
   "outputs": [],
   "source": [
    "%matplotlib inline\n",
    "import os\n",
    "import re\n",
    "import io\n",
    "import itertools\n",
    "import pprint\n",
    "\n",
    "from bokeh.io import output_notebook, show\n",
    "from bokeh.layouts import gridplot\n",
    "from bokeh.plotting import figure\n",
    "from bokeh.models import Range1d, Legend\n",
    "from bokeh.palettes import all_palettes\n",
    "\n",
    "import matplotlib\n",
    "import matplotlib.pyplot as plt\n",
    "import numpy as np\n",
    "import pandas as pd\n",
    "import xarray as xr\n",
    "\n",
    "import climatools.lblnew.bestfit_params as bestfits\n",
    "from climatools.lblnew import setup_bestfit, setup_overlap\n",
    "import climatools.lblnew.pipeline as pipe_lblnew\n",
    "import climatools.cliradlw.setup as setup_cliradlw\n",
    "import climatools.cliradlw.pipeline as pipe_cliradlw\n",
    "\n",
    "import climatools.html.html as climahtml\n",
    "from climatools.lblnew.dataio import *\n",
    "from climatools.plot.plot import *\n",
    "\n",
    "\n",
    "import IPython.display as display"
   ]
  },
  {
   "cell_type": "code",
   "execution_count": 2,
   "metadata": {
    "collapsed": true
   },
   "outputs": [],
   "source": [
    "%run param.py"
   ]
  },
  {
   "cell_type": "code",
   "execution_count": 3,
   "metadata": {
    "collapsed": true
   },
   "outputs": [],
   "source": [
    "def load_output_file(path_csv):\n",
    "    '''\n",
    "    Load lblnew output .csv file to xarray.Dataset\n",
    "    \n",
    "    Parameters\n",
    "    ----------\n",
    "    path_csv: str\n",
    "              Path to the .csv file to be loaded.\n",
    "    ds: xarray.Dataset\n",
    "        Data in the input file in the form of an xarray.Dataset.\n",
    "    '''\n",
    "    toindex = ['band', 'pressure', 'igg', 'g']    \n",
    "    df = pd.read_csv(path_csv, sep=r'\\s+')\n",
    "    df = df.set_index([i for i in toindex if i in df.columns])\n",
    "    df = df.rename(columns={'sfu': 'flug',\n",
    "                            'sfd': 'fldg',\n",
    "                            'fnet': 'fnetg',\n",
    "                            'coolr': 'coolrg'})\n",
    "    ds = xr.Dataset.from_dataframe(df)\n",
    "\n",
    "    for l in ('level', 'layer'):\n",
    "        if l in ds.data_vars:\n",
    "            if len(ds[l].dims) > 1:\n",
    "                surface = {d: 0 for d in ds.dims if d != 'pressure'}\n",
    "                coord_level = ds[l][surface]\n",
    "                ds.coords[l] = ('pressure', coord_level)\n",
    "            else:\n",
    "                ds.coords[l] = ('pressure', ds[l])\n",
    "    \n",
    "    return ds"
   ]
  },
  {
   "cell_type": "code",
   "execution_count": 4,
   "metadata": {
    "collapsed": true
   },
   "outputs": [],
   "source": [
    "def lblnew_setup(param=None):\n",
    "    if 'ng_refs' in param:\n",
    "        return {'setup': setup_bestfit,\n",
    "                'fname_flux_crd': 'output_flux.dat',\n",
    "                'fname_cool_crd': 'output_coolr.dat',\n",
    "                'fname_flux_wgt': 'output_wfluxg.dat',\n",
    "                'fname_cool_wgt': 'output_wcoolrg.dat'}\n",
    "    else:\n",
    "        return {'setup': setup_overlap,\n",
    "                'fname_flux_crd': 'output_flux.dat',\n",
    "                'fname_cool_crd': 'output_coolr.dat',\n",
    "                'fname_flux_wgt': 'output_wflux.dat',\n",
    "                'fname_cool_wgt': 'output_wcoolr.dat'}\n",
    "\n",
    "    \n",
    "def load_lblnew_data(param):\n",
    "    \n",
    "    fname_dsname = [('fname_flux_crd', 'ds_flux_crd'),\n",
    "                    ('fname_cool_crd', 'ds_cool_crd'),\n",
    "                    ('fname_flux_wgt', 'ds_flux_wgt'),\n",
    "                    ('fname_cool_wgt', 'ds_cool_wgt')]\n",
    "    \n",
    "    d = lblnew_setup(param)\n",
    "    dir_fortran = pipe_lblnew.get_dir_case(param, setup=d['setup'])\n",
    "    \n",
    "    data_dict = {}\n",
    "    for fname, dsname in fname_dsname:\n",
    "        fpath = os.path.join(dir_fortran, d[fname])\n",
    "        data_dict[dsname] = load_output_file(fpath)\n",
    "    return data_dict\n",
    "    \n",
    "\n",
    "    \n",
    "    "
   ]
  },
  {
   "cell_type": "code",
   "execution_count": 5,
   "metadata": {
    "collapsed": true
   },
   "outputs": [],
   "source": [
    "d = load_lblnew_data(PARAM_LBLNEW)\n",
    "\n",
    "DS_FLUX_CRD = d['ds_flux_crd']\n",
    "DS_COOL_CRD = d['ds_cool_crd']\n",
    "DS_FLUX_WGT = d['ds_flux_wgt']\n",
    "DS_COOL_WGT = d['ds_cool_wgt']"
   ]
  },
  {
   "cell_type": "code",
   "execution_count": 6,
   "metadata": {
    "collapsed": true
   },
   "outputs": [],
   "source": [
    "DIR_FORTRAN = pipe_cliradlw.get_fortran_dir(PARAM, \n",
    "                                            setup=setup_cliradlw)\n",
    "\n",
    "PATH_FLUX = os.path.join(DIR_FORTRAN, 'output_flux.dat')\n",
    "PATH_COOL = os.path.join(DIR_FORTRAN, 'output_coolr.dat')\n",
    "\n",
    "DS_FLUX = load_output_file(PATH_FLUX)\n",
    "DS_COOL = load_output_file(PATH_COOL)"
   ]
  },
  {
   "cell_type": "code",
   "execution_count": 7,
   "metadata": {
    "collapsed": true
   },
   "outputs": [
    {
     "data": {
      "text/html": [
       "\n",
       "    <div class=\"bk-root\">\n",
       "        <a href=\"https://bokeh.pydata.org\" target=\"_blank\" class=\"bk-logo bk-logo-small bk-logo-notebook\"></a>\n",
       "        <span id=\"b5dc54ed-1c07-40b8-9763-2a8168415b1b\">Loading BokehJS ...</span>\n",
       "    </div>"
      ]
     },
     "metadata": {},
     "output_type": "display_data"
    },
    {
     "data": {
      "application/javascript": [
       "\n",
       "(function(root) {\n",
       "  function now() {\n",
       "    return new Date();\n",
       "  }\n",
       "\n",
       "  var force = true;\n",
       "\n",
       "  if (typeof (root._bokeh_onload_callbacks) === \"undefined\" || force === true) {\n",
       "    root._bokeh_onload_callbacks = [];\n",
       "    root._bokeh_is_loading = undefined;\n",
       "  }\n",
       "\n",
       "  var JS_MIME_TYPE = 'application/javascript';\n",
       "  var HTML_MIME_TYPE = 'text/html';\n",
       "  var EXEC_MIME_TYPE = 'application/vnd.bokehjs_exec.v0+json';\n",
       "  var CLASS_NAME = 'output_bokeh rendered_html';\n",
       "\n",
       "  /**\n",
       "   * Render data to the DOM node\n",
       "   */\n",
       "  function render(props, node) {\n",
       "    var script = document.createElement(\"script\");\n",
       "    node.appendChild(script);\n",
       "  }\n",
       "\n",
       "  /**\n",
       "   * Handle when an output is cleared or removed\n",
       "   */\n",
       "  function handleClearOutput(event, handle) {\n",
       "    var cell = handle.cell;\n",
       "\n",
       "    var id = cell.output_area._bokeh_element_id;\n",
       "    var server_id = cell.output_area._bokeh_server_id;\n",
       "    // Clean up Bokeh references\n",
       "    if (id !== undefined) {\n",
       "      Bokeh.index[id].model.document.clear();\n",
       "      delete Bokeh.index[id];\n",
       "    }\n",
       "\n",
       "    if (server_id !== undefined) {\n",
       "      // Clean up Bokeh references\n",
       "      var cmd = \"from bokeh.io.state import curstate; print(curstate().uuid_to_server['\" + server_id + \"'].get_sessions()[0].document.roots[0]._id)\";\n",
       "      cell.notebook.kernel.execute(cmd, {\n",
       "        iopub: {\n",
       "          output: function(msg) {\n",
       "            var element_id = msg.content.text.trim();\n",
       "            Bokeh.index[element_id].model.document.clear();\n",
       "            delete Bokeh.index[element_id];\n",
       "          }\n",
       "        }\n",
       "      });\n",
       "      // Destroy server and session\n",
       "      var cmd = \"import bokeh.io.notebook as ion; ion.destroy_server('\" + server_id + \"')\";\n",
       "      cell.notebook.kernel.execute(cmd);\n",
       "    }\n",
       "  }\n",
       "\n",
       "  /**\n",
       "   * Handle when a new output is added\n",
       "   */\n",
       "  function handleAddOutput(event, handle) {\n",
       "    var output_area = handle.output_area;\n",
       "    var output = handle.output;\n",
       "\n",
       "    // limit handleAddOutput to display_data with EXEC_MIME_TYPE content only\n",
       "    if ((output.output_type != \"display_data\") || (!output.data.hasOwnProperty(EXEC_MIME_TYPE))) {\n",
       "      return\n",
       "    }\n",
       "\n",
       "    var toinsert = output_area.element.find(\".\" + CLASS_NAME.split(' ')[0]);\n",
       "\n",
       "    if (output.metadata[EXEC_MIME_TYPE][\"id\"] !== undefined) {\n",
       "      toinsert[toinsert.length - 1].firstChild.textContent = output.data[JS_MIME_TYPE];\n",
       "      // store reference to embed id on output_area\n",
       "      output_area._bokeh_element_id = output.metadata[EXEC_MIME_TYPE][\"id\"];\n",
       "    }\n",
       "    if (output.metadata[EXEC_MIME_TYPE][\"server_id\"] !== undefined) {\n",
       "      var bk_div = document.createElement(\"div\");\n",
       "      bk_div.innerHTML = output.data[HTML_MIME_TYPE];\n",
       "      var script_attrs = bk_div.children[0].attributes;\n",
       "      for (var i = 0; i < script_attrs.length; i++) {\n",
       "        toinsert[toinsert.length - 1].firstChild.setAttribute(script_attrs[i].name, script_attrs[i].value);\n",
       "      }\n",
       "      // store reference to server id on output_area\n",
       "      output_area._bokeh_server_id = output.metadata[EXEC_MIME_TYPE][\"server_id\"];\n",
       "    }\n",
       "  }\n",
       "\n",
       "  function register_renderer(events, OutputArea) {\n",
       "\n",
       "    function append_mime(data, metadata, element) {\n",
       "      // create a DOM node to render to\n",
       "      var toinsert = this.create_output_subarea(\n",
       "        metadata,\n",
       "        CLASS_NAME,\n",
       "        EXEC_MIME_TYPE\n",
       "      );\n",
       "      this.keyboard_manager.register_events(toinsert);\n",
       "      // Render to node\n",
       "      var props = {data: data, metadata: metadata[EXEC_MIME_TYPE]};\n",
       "      render(props, toinsert[toinsert.length - 1]);\n",
       "      element.append(toinsert);\n",
       "      return toinsert\n",
       "    }\n",
       "\n",
       "    /* Handle when an output is cleared or removed */\n",
       "    events.on('clear_output.CodeCell', handleClearOutput);\n",
       "    events.on('delete.Cell', handleClearOutput);\n",
       "\n",
       "    /* Handle when a new output is added */\n",
       "    events.on('output_added.OutputArea', handleAddOutput);\n",
       "\n",
       "    /**\n",
       "     * Register the mime type and append_mime function with output_area\n",
       "     */\n",
       "    OutputArea.prototype.register_mime_type(EXEC_MIME_TYPE, append_mime, {\n",
       "      /* Is output safe? */\n",
       "      safe: true,\n",
       "      /* Index of renderer in `output_area.display_order` */\n",
       "      index: 0\n",
       "    });\n",
       "  }\n",
       "\n",
       "  // register the mime type if in Jupyter Notebook environment and previously unregistered\n",
       "  if (root.Jupyter !== undefined) {\n",
       "    var events = require('base/js/events');\n",
       "    var OutputArea = require('notebook/js/outputarea').OutputArea;\n",
       "\n",
       "    if (OutputArea.prototype.mime_types().indexOf(EXEC_MIME_TYPE) == -1) {\n",
       "      register_renderer(events, OutputArea);\n",
       "    }\n",
       "  }\n",
       "\n",
       "  \n",
       "  if (typeof (root._bokeh_timeout) === \"undefined\" || force === true) {\n",
       "    root._bokeh_timeout = Date.now() + 5000;\n",
       "    root._bokeh_failed_load = false;\n",
       "  }\n",
       "\n",
       "  var NB_LOAD_WARNING = {'data': {'text/html':\n",
       "     \"<div style='background-color: #fdd'>\\n\"+\n",
       "     \"<p>\\n\"+\n",
       "     \"BokehJS does not appear to have successfully loaded. If loading BokehJS from CDN, this \\n\"+\n",
       "     \"may be due to a slow or bad network connection. Possible fixes:\\n\"+\n",
       "     \"</p>\\n\"+\n",
       "     \"<ul>\\n\"+\n",
       "     \"<li>re-rerun `output_notebook()` to attempt to load from CDN again, or</li>\\n\"+\n",
       "     \"<li>use INLINE resources instead, as so:</li>\\n\"+\n",
       "     \"</ul>\\n\"+\n",
       "     \"<code>\\n\"+\n",
       "     \"from bokeh.resources import INLINE\\n\"+\n",
       "     \"output_notebook(resources=INLINE)\\n\"+\n",
       "     \"</code>\\n\"+\n",
       "     \"</div>\"}};\n",
       "\n",
       "  function display_loaded() {\n",
       "    var el = document.getElementById(\"b5dc54ed-1c07-40b8-9763-2a8168415b1b\");\n",
       "    if (el != null) {\n",
       "      el.textContent = \"BokehJS is loading...\";\n",
       "    }\n",
       "    if (root.Bokeh !== undefined) {\n",
       "      if (el != null) {\n",
       "        el.textContent = \"BokehJS \" + root.Bokeh.version + \" successfully loaded.\";\n",
       "      }\n",
       "    } else if (Date.now() < root._bokeh_timeout) {\n",
       "      setTimeout(display_loaded, 100)\n",
       "    }\n",
       "  }\n",
       "\n",
       "\n",
       "  function run_callbacks() {\n",
       "    try {\n",
       "      root._bokeh_onload_callbacks.forEach(function(callback) { callback() });\n",
       "    }\n",
       "    finally {\n",
       "      delete root._bokeh_onload_callbacks\n",
       "    }\n",
       "    console.info(\"Bokeh: all callbacks have finished\");\n",
       "  }\n",
       "\n",
       "  function load_libs(js_urls, callback) {\n",
       "    root._bokeh_onload_callbacks.push(callback);\n",
       "    if (root._bokeh_is_loading > 0) {\n",
       "      console.log(\"Bokeh: BokehJS is being loaded, scheduling callback at\", now());\n",
       "      return null;\n",
       "    }\n",
       "    if (js_urls == null || js_urls.length === 0) {\n",
       "      run_callbacks();\n",
       "      return null;\n",
       "    }\n",
       "    console.log(\"Bokeh: BokehJS not loaded, scheduling load and callback at\", now());\n",
       "    root._bokeh_is_loading = js_urls.length;\n",
       "    for (var i = 0; i < js_urls.length; i++) {\n",
       "      var url = js_urls[i];\n",
       "      var s = document.createElement('script');\n",
       "      s.src = url;\n",
       "      s.async = false;\n",
       "      s.onreadystatechange = s.onload = function() {\n",
       "        root._bokeh_is_loading--;\n",
       "        if (root._bokeh_is_loading === 0) {\n",
       "          console.log(\"Bokeh: all BokehJS libraries loaded\");\n",
       "          run_callbacks()\n",
       "        }\n",
       "      };\n",
       "      s.onerror = function() {\n",
       "        console.warn(\"failed to load library \" + url);\n",
       "      };\n",
       "      console.log(\"Bokeh: injecting script tag for BokehJS library: \", url);\n",
       "      document.getElementsByTagName(\"head\")[0].appendChild(s);\n",
       "    }\n",
       "  };var element = document.getElementById(\"b5dc54ed-1c07-40b8-9763-2a8168415b1b\");\n",
       "  if (element == null) {\n",
       "    console.log(\"Bokeh: ERROR: autoload.js configured with elementid 'b5dc54ed-1c07-40b8-9763-2a8168415b1b' but no matching script tag was found. \")\n",
       "    return false;\n",
       "  }\n",
       "\n",
       "  var js_urls = [\"https://cdn.pydata.org/bokeh/release/bokeh-0.12.16.min.js\", \"https://cdn.pydata.org/bokeh/release/bokeh-widgets-0.12.16.min.js\", \"https://cdn.pydata.org/bokeh/release/bokeh-tables-0.12.16.min.js\", \"https://cdn.pydata.org/bokeh/release/bokeh-gl-0.12.16.min.js\"];\n",
       "\n",
       "  var inline_js = [\n",
       "    function(Bokeh) {\n",
       "      Bokeh.set_log_level(\"info\");\n",
       "    },\n",
       "    \n",
       "    function(Bokeh) {\n",
       "      \n",
       "    },\n",
       "    function(Bokeh) {\n",
       "      console.log(\"Bokeh: injecting CSS: https://cdn.pydata.org/bokeh/release/bokeh-0.12.16.min.css\");\n",
       "      Bokeh.embed.inject_css(\"https://cdn.pydata.org/bokeh/release/bokeh-0.12.16.min.css\");\n",
       "      console.log(\"Bokeh: injecting CSS: https://cdn.pydata.org/bokeh/release/bokeh-widgets-0.12.16.min.css\");\n",
       "      Bokeh.embed.inject_css(\"https://cdn.pydata.org/bokeh/release/bokeh-widgets-0.12.16.min.css\");\n",
       "      console.log(\"Bokeh: injecting CSS: https://cdn.pydata.org/bokeh/release/bokeh-tables-0.12.16.min.css\");\n",
       "      Bokeh.embed.inject_css(\"https://cdn.pydata.org/bokeh/release/bokeh-tables-0.12.16.min.css\");\n",
       "    }\n",
       "  ];\n",
       "\n",
       "  function run_inline_js() {\n",
       "    \n",
       "    if ((root.Bokeh !== undefined) || (force === true)) {\n",
       "      for (var i = 0; i < inline_js.length; i++) {\n",
       "        inline_js[i].call(root, root.Bokeh);\n",
       "      }if (force === true) {\n",
       "        display_loaded();\n",
       "      }} else if (Date.now() < root._bokeh_timeout) {\n",
       "      setTimeout(run_inline_js, 100);\n",
       "    } else if (!root._bokeh_failed_load) {\n",
       "      console.log(\"Bokeh: BokehJS failed to load within specified timeout.\");\n",
       "      root._bokeh_failed_load = true;\n",
       "    } else if (force !== true) {\n",
       "      var cell = $(document.getElementById(\"b5dc54ed-1c07-40b8-9763-2a8168415b1b\")).parents('.cell').data().cell;\n",
       "      cell.output_area.append_execute_result(NB_LOAD_WARNING)\n",
       "    }\n",
       "\n",
       "  }\n",
       "\n",
       "  if (root._bokeh_is_loading === 0) {\n",
       "    console.log(\"Bokeh: BokehJS loaded, going straight to plotting\");\n",
       "    run_inline_js();\n",
       "  } else {\n",
       "    load_libs(js_urls, function() {\n",
       "      console.log(\"Bokeh: BokehJS plotting callback run at\", now());\n",
       "      run_inline_js();\n",
       "    });\n",
       "  }\n",
       "}(window));"
      ],
      "application/vnd.bokehjs_load.v0+json": "\n(function(root) {\n  function now() {\n    return new Date();\n  }\n\n  var force = true;\n\n  if (typeof (root._bokeh_onload_callbacks) === \"undefined\" || force === true) {\n    root._bokeh_onload_callbacks = [];\n    root._bokeh_is_loading = undefined;\n  }\n\n  \n\n  \n  if (typeof (root._bokeh_timeout) === \"undefined\" || force === true) {\n    root._bokeh_timeout = Date.now() + 5000;\n    root._bokeh_failed_load = false;\n  }\n\n  var NB_LOAD_WARNING = {'data': {'text/html':\n     \"<div style='background-color: #fdd'>\\n\"+\n     \"<p>\\n\"+\n     \"BokehJS does not appear to have successfully loaded. If loading BokehJS from CDN, this \\n\"+\n     \"may be due to a slow or bad network connection. Possible fixes:\\n\"+\n     \"</p>\\n\"+\n     \"<ul>\\n\"+\n     \"<li>re-rerun `output_notebook()` to attempt to load from CDN again, or</li>\\n\"+\n     \"<li>use INLINE resources instead, as so:</li>\\n\"+\n     \"</ul>\\n\"+\n     \"<code>\\n\"+\n     \"from bokeh.resources import INLINE\\n\"+\n     \"output_notebook(resources=INLINE)\\n\"+\n     \"</code>\\n\"+\n     \"</div>\"}};\n\n  function display_loaded() {\n    var el = document.getElementById(\"b5dc54ed-1c07-40b8-9763-2a8168415b1b\");\n    if (el != null) {\n      el.textContent = \"BokehJS is loading...\";\n    }\n    if (root.Bokeh !== undefined) {\n      if (el != null) {\n        el.textContent = \"BokehJS \" + root.Bokeh.version + \" successfully loaded.\";\n      }\n    } else if (Date.now() < root._bokeh_timeout) {\n      setTimeout(display_loaded, 100)\n    }\n  }\n\n\n  function run_callbacks() {\n    try {\n      root._bokeh_onload_callbacks.forEach(function(callback) { callback() });\n    }\n    finally {\n      delete root._bokeh_onload_callbacks\n    }\n    console.info(\"Bokeh: all callbacks have finished\");\n  }\n\n  function load_libs(js_urls, callback) {\n    root._bokeh_onload_callbacks.push(callback);\n    if (root._bokeh_is_loading > 0) {\n      console.log(\"Bokeh: BokehJS is being loaded, scheduling callback at\", now());\n      return null;\n    }\n    if (js_urls == null || js_urls.length === 0) {\n      run_callbacks();\n      return null;\n    }\n    console.log(\"Bokeh: BokehJS not loaded, scheduling load and callback at\", now());\n    root._bokeh_is_loading = js_urls.length;\n    for (var i = 0; i < js_urls.length; i++) {\n      var url = js_urls[i];\n      var s = document.createElement('script');\n      s.src = url;\n      s.async = false;\n      s.onreadystatechange = s.onload = function() {\n        root._bokeh_is_loading--;\n        if (root._bokeh_is_loading === 0) {\n          console.log(\"Bokeh: all BokehJS libraries loaded\");\n          run_callbacks()\n        }\n      };\n      s.onerror = function() {\n        console.warn(\"failed to load library \" + url);\n      };\n      console.log(\"Bokeh: injecting script tag for BokehJS library: \", url);\n      document.getElementsByTagName(\"head\")[0].appendChild(s);\n    }\n  };var element = document.getElementById(\"b5dc54ed-1c07-40b8-9763-2a8168415b1b\");\n  if (element == null) {\n    console.log(\"Bokeh: ERROR: autoload.js configured with elementid 'b5dc54ed-1c07-40b8-9763-2a8168415b1b' but no matching script tag was found. \")\n    return false;\n  }\n\n  var js_urls = [\"https://cdn.pydata.org/bokeh/release/bokeh-0.12.16.min.js\", \"https://cdn.pydata.org/bokeh/release/bokeh-widgets-0.12.16.min.js\", \"https://cdn.pydata.org/bokeh/release/bokeh-tables-0.12.16.min.js\", \"https://cdn.pydata.org/bokeh/release/bokeh-gl-0.12.16.min.js\"];\n\n  var inline_js = [\n    function(Bokeh) {\n      Bokeh.set_log_level(\"info\");\n    },\n    \n    function(Bokeh) {\n      \n    },\n    function(Bokeh) {\n      console.log(\"Bokeh: injecting CSS: https://cdn.pydata.org/bokeh/release/bokeh-0.12.16.min.css\");\n      Bokeh.embed.inject_css(\"https://cdn.pydata.org/bokeh/release/bokeh-0.12.16.min.css\");\n      console.log(\"Bokeh: injecting CSS: https://cdn.pydata.org/bokeh/release/bokeh-widgets-0.12.16.min.css\");\n      Bokeh.embed.inject_css(\"https://cdn.pydata.org/bokeh/release/bokeh-widgets-0.12.16.min.css\");\n      console.log(\"Bokeh: injecting CSS: https://cdn.pydata.org/bokeh/release/bokeh-tables-0.12.16.min.css\");\n      Bokeh.embed.inject_css(\"https://cdn.pydata.org/bokeh/release/bokeh-tables-0.12.16.min.css\");\n    }\n  ];\n\n  function run_inline_js() {\n    \n    if ((root.Bokeh !== undefined) || (force === true)) {\n      for (var i = 0; i < inline_js.length; i++) {\n        inline_js[i].call(root, root.Bokeh);\n      }if (force === true) {\n        display_loaded();\n      }} else if (Date.now() < root._bokeh_timeout) {\n      setTimeout(run_inline_js, 100);\n    } else if (!root._bokeh_failed_load) {\n      console.log(\"Bokeh: BokehJS failed to load within specified timeout.\");\n      root._bokeh_failed_load = true;\n    } else if (force !== true) {\n      var cell = $(document.getElementById(\"b5dc54ed-1c07-40b8-9763-2a8168415b1b\")).parents('.cell').data().cell;\n      cell.output_area.append_execute_result(NB_LOAD_WARNING)\n    }\n\n  }\n\n  if (root._bokeh_is_loading === 0) {\n    console.log(\"Bokeh: BokehJS loaded, going straight to plotting\");\n    run_inline_js();\n  } else {\n    load_libs(js_urls, function() {\n      console.log(\"Bokeh: BokehJS plotting callback run at\", now());\n      run_inline_js();\n    });\n  }\n}(window));"
     },
     "metadata": {},
     "output_type": "display_data"
    }
   ],
   "source": [
    "output_notebook()"
   ]
  },
  {
   "cell_type": "code",
   "execution_count": 8,
   "metadata": {
    "collapsed": true
   },
   "outputs": [],
   "source": [
    "def fmt_cool(ds_in):\n",
    "    ds = ds_in.copy(deep=True)\n",
    "    if 'igg' in ds.dims:\n",
    "        ds = ds.sel(igg=1)\n",
    "\n",
    "    if 'g' in ds.dims:\n",
    "        ds = ds.sum('g')\n",
    "            \n",
    "    if 'band' in ds.dims:\n",
    "        try:\n",
    "            ds = ds.squeeze('band')\n",
    "        except ValueError:\n",
    "            ds = ds.sum('band')\n",
    "                \n",
    "    return ds['coolrg']\n",
    "\n",
    "\n",
    "def pltdata_cooling_1(ds_cool=None,\n",
    "                      ds_cool_crd=None, ds_cool_wgt=None):\n",
    "    \n",
    "\n",
    "\n",
    "    colors = all_palettes['Set1'][4]\n",
    "    data = [{'label': 'CLIRAD `coolr_bands`',\n",
    "             'srs': fmt_cool(ds_cool),\n",
    "             'line_dash': 'dashed', 'line_width': 5,\n",
    "             'color': colors[0], 'alpha': .6},\n",
    "            {'label': 'CRD',\n",
    "             'srs': fmt_cool(ds_cool_crd),\n",
    "             'line_dash': 'solid', 'line_width': 1.5,\n",
    "             'marker': 'circle', 'marker_size': 5,\n",
    "             'color': colors[2], 'alpha': 1,},\n",
    "            {'label': 'WGT igg=10 wgt_flux=2',\n",
    "             'srs': fmt_cool(ds_cool_wgt),\n",
    "             'line_dash': 'solid', 'line_width': 3,\n",
    "             'marker': 'square', 'marker_size': 5,\n",
    "             'color': colors[3], 'alpha': .6}]\n",
    "    return data\n",
    "\n",
    "\n",
    "def nice_xlims(pltdata=None, prange=None):\n",
    "    \n",
    "    def get_slice(srs):\n",
    "        return srs.sel(pressure=slice(*prange))\n",
    "    \n",
    "    srss = [d['srs'] for d in pltdata]\n",
    "    vmin = min([get_slice(srs).min() for srs in srss])\n",
    "    vmax = max([get_slice(srs).max() for srs in srss])\n",
    "    dv = (vmax - vmin) * .01\n",
    "    return float(vmin - dv), float(vmax + dv)\n",
    "    \n",
    "\n",
    "def plt_cooling_bokeh(pltdata=None):\n",
    "    '''\n",
    "    Plot a list of cooling rate profiles using bokeh.\n",
    "    '''\n",
    "    ymin = 1e-2 \n",
    "    ymax = 1020 \n",
    "        \n",
    "    p1 = figure(title=\"Linear pressure scale\", \n",
    "                plot_width=400)        \n",
    "    xmin, xmax = nice_xlims(pltdata, prange=(50, 1050))\n",
    "    for d in pltdata:\n",
    "        if 'marker' in d:\n",
    "            getattr(p1, d['marker'])(d['srs'].values, \n",
    "                    d['srs'].coords['pressure'].values,\n",
    "                    color=d['color'], alpha=.7)\n",
    "        p1.line(d['srs'].values, \n",
    "                d['srs'].coords['pressure'].values,\n",
    "                color=d['color'], alpha=d['alpha'], \n",
    "                line_width=d['line_width'], line_dash=d['line_dash'])\n",
    "    \n",
    "    p1.y_range = Range1d(ymax, ymin)\n",
    "    p1.yaxis.axis_label = 'pressure [mb]'   \n",
    "    p1.x_range = Range1d(xmin, xmax)\n",
    "    p1.xaxis.axis_label = 'cooling rate [K/day]'\n",
    "            \n",
    "    p2 = figure(title='Log pressure scale', y_axis_type='log',\n",
    "                plot_width=560)\n",
    "    xmin, xmax = nice_xlims(pltdata, prange=(.01, 200))\n",
    "    \n",
    "    rs = []\n",
    "    for d in pltdata:\n",
    "        rd = []\n",
    "        if 'marker' in d:\n",
    "            r_mark = getattr(p2, d['marker'])(d['srs'].values, \n",
    "                        d['srs'].coords['pressure'].values,\n",
    "                        color=d['color'], alpha=.7)\n",
    "            rd.append(r_mark)\n",
    "        r_line = p2.line(d['srs'].values, \n",
    "                    d['srs'].coords['pressure'].values,\n",
    "                    color=d['color'], alpha=d['alpha'], \n",
    "                    line_width=d['line_width'], line_dash=d['line_dash'])\n",
    "        rd.append(r_line)\n",
    "      \n",
    "        rs.append(rd)\n",
    "        \n",
    "    p2.y_range = Range1d(ymax, ymin)  \n",
    "    p2.yaxis.axis_label = 'pressure [mb]'\n",
    "    \n",
    "    p2.x_range = Range1d(xmin, xmax)\n",
    "    p2.xaxis.axis_label = 'cooling rate [K/day]'\n",
    "    \n",
    "    items = [(d['label'], r) for r, d in zip(rs, pltdata)]\n",
    "    legend = Legend(items=items, location=(10, -30))\n",
    "    legend.label_text_font_size = '8pt'\n",
    "    \n",
    "    p2.add_layout(legend, 'right')  \n",
    "    \n",
    "    show(gridplot(p1, p2, ncols=2, plot_height=500))\n",
    "    \n",
    "\n",
    "def script_plt_cooling():\n",
    "    pltdata = pltdata_cooling_1(\n",
    "        ds_cool=DS_COOL,\n",
    "        ds_cool_crd=DS_COOL_CRD,\n",
    "        ds_cool_wgt=DS_COOL_WGT)\n",
    "    plt_cooling_bokeh(pltdata=pltdata)\n",
    "    print('''FIGURE. Cooling rate profiles.''')"
   ]
  },
  {
   "cell_type": "code",
   "execution_count": 9,
   "metadata": {
    "collapsed": true
   },
   "outputs": [],
   "source": [
    "def fmt_flux(ds_in):\n",
    "    ds = ds_in.copy(deep=True)\n",
    "    \n",
    "    for l in ('level', 'layer'):\n",
    "        if l in ds.data_vars:\n",
    "            if len(ds[l].dims) > 1:\n",
    "                surface = {d: 0 for d in ds.dims if d != 'pressure'}\n",
    "                coord_level = ds[l][surface]\n",
    "                ds.coords[l] = ('pressure', coord_level)\n",
    "            else:\n",
    "                ds.coords[l] = ('pressure', ds[l])\n",
    "        \n",
    "    ds = ds.isel(pressure=[0, 23, -1])\n",
    "        \n",
    "    if 'igg' in ds.dims:\n",
    "        ds = ds.sel(igg=[1])\n",
    "        ds = ds.squeeze('igg').drop('igg')\n",
    "    \n",
    "    if 'g' in ds.dims:\n",
    "        ds = ds.sum('g')\n",
    "            \n",
    "    if 'band' in ds.dims:\n",
    "        try:\n",
    "            ds = ds.squeeze('band').drop('band')\n",
    "        except ValueError:\n",
    "            ds = ds.sum('band')\n",
    "                \n",
    "    df = ds.to_dataframe()\n",
    "    df = df.set_index('level', append=True)               \n",
    "    return df\n",
    "\n",
    "\n",
    "def tbdata_flux(ds_flux=None, ds_flux_crd=None, ds_flux_wgt=None):\n",
    "    ilevels = [0, 23, -1]\n",
    "            \n",
    "    benchmark = {'label': 'CRD',\n",
    "                 'df': fmt_flux(ds_flux_crd)}\n",
    "    \n",
    "    tbs = [{'label': 'WGT igg=10 wgt_flux=1',\n",
    "            'df': fmt_flux(ds_flux_wgt)},\n",
    "           {'label': 'CLIRAD',\n",
    "            'df': fmt_flux(ds_flux)}]\n",
    "    \n",
    "    data = {'benchmark': benchmark, 'others': tbs}\n",
    "    return data\n",
    "\n",
    "\n",
    "def tb_flux(tbdata=None):\n",
    "    benchmark = tbdata['benchmark']\n",
    "    others = tbdata['others']\n",
    "    \n",
    "    def show_tb(d=None):\n",
    "        display.display(d['df'])\n",
    "        print('Table.', 'Fluxes.', d['label'])\n",
    "        \n",
    "    def show_tbdiff(d0=None, d=None):\n",
    "        df = d['df']\n",
    "        df.index = d0['df'].index\n",
    "        display.display(df - d0['df'])\n",
    "        print('Table.', 'Fluxes.', \n",
    "              '({}) - ({})'.format(d['label'], d0['label']))\n",
    "        \n",
    "    show_tb(benchmark)\n",
    "    for d in others:\n",
    "        show_tb(d)\n",
    "        \n",
    "    for d in others:\n",
    "        show_tbdiff(d=d, d0=benchmark)\n",
    "        \n",
    "        \n",
    "def script_tb_flux():\n",
    "    data = tbdata_flux(ds_flux=DS_FLUX,\n",
    "                       ds_flux_crd=DS_FLUX_CRD,\n",
    "                       ds_flux_wgt=DS_FLUX_WGT)\n",
    "    tb_flux(tbdata=data)"
   ]
  },
  {
   "cell_type": "code",
   "execution_count": 10,
   "metadata": {
    "collapsed": true
   },
   "outputs": [],
   "source": [
    "def band_map():\n",
    "    '''\n",
    "    Maps spectral bands in lblnew to spectral bands in clirad.\n",
    "    '''\n",
    "    lblnew2clirad = {'1': '1',\n",
    "            '2': '2',\n",
    "            '3a': '3',\n",
    "            '3b': '4',\n",
    "            '3c': '5',\n",
    "            '4': '6', \n",
    "            '5': '7',\n",
    "            '6': '8',\n",
    "            '7': '9', \n",
    "            '8': '10',\n",
    "            '9': '11'}\n",
    "    \n",
    "    clirad2lblnew = {clirad: lblnew \n",
    "                     for lblnew, clirad in lblnew2clirad.items()}\n",
    "    return clirad2lblnew\n",
    "\n",
    "\n",
    "def gasbands():\n",
    "    bmap = band_map()\n",
    "    gases = list(PARAM['molecule'].keys())\n",
    "    \n",
    "    bands = [bmap[str(b)] for b in PARAM['band']]\n",
    "    return list(itertools.product(gases, bands))\n",
    "\n",
    "\n",
    "def print_bestfit_params():\n",
    "    print('Best-fit values for each (gas, band)')\n",
    "    print('------------------------------------')\n",
    "    for gas, band in gasbands():\n",
    "        print('o {} band{}'.format(gas, band))\n",
    "        param = bestfits.kdist_params(molecule=gas, band=band)\n",
    "        for name, value in sorted(param.items()):\n",
    "            print(2 * ' ' + '{} = {}'.format(name, value))\n",
    "\n",
    "        \n",
    "def print_input_param():        \n",
    "    for name, value in PARAM.items():\n",
    "        print('{} = {}'.format(name, value))\n",
    "        \n",
    "        \n",
    "def print_lblnew_param():\n",
    "    for name, value in sorted(PARAM_LBLNEW.items()):\n",
    "        print('{} = {}'.format(name, value))\n"
   ]
  },
  {
   "cell_type": "code",
   "execution_count": 11,
   "metadata": {
    "collapsed": true,
    "scrolled": false
   },
   "outputs": [],
   "source": [
    "def show_html(s):\n",
    "    display.display(display.HTML(s))\n",
    "\n",
    "    \n",
    "def show_markdown(s):\n",
    "    display.display(display.Markdown(s))\n",
    "\n",
    "    \n",
    "def script():\n",
    "    \n",
    "    title = '### CLIRAD-LW'\n",
    "    s_input = 'Input Parameters'\n",
    "    s_lblnew_param = 'LBLNEW case compaired against'\n",
    "    s_bestfits = 'Best-fit Parameters'\n",
    "    s_plt_cooling = 'Cooling Rate Profiles'\n",
    "    s_tb_flux = 'Flux Comparison'\n",
    "    \n",
    "    # title\n",
    "    show_markdown('### CLIRAD-LW')\n",
    "    \n",
    "    # TOC\n",
    "    show_markdown('### Table of Contents')\n",
    "    show_html(climahtml.getHTML_hrefanchor(s_input))\n",
    "    show_html(climahtml.getHTML_hrefanchor(s_lblnew_param))\n",
    "    show_html(climahtml.getHTML_hrefanchor(s_plt_cooling))\n",
    "    show_html(climahtml.getHTML_hrefanchor(s_tb_flux))\n",
    "    show_html(climahtml.getHTML_hrefanchor(s_bestfits))\n",
    "    \n",
    "    # Input parameters\n",
    "    show_html(climahtml.getHTML_idanchor(s_input))\n",
    "    show_markdown(climahtml.getMarkdown_sectitle(s_input))\n",
    "    print_input_param()\n",
    "    \n",
    "    # LBLNEW parameters \n",
    "    show_html(climahtml.getHTML_idanchor(s_lblnew_param))\n",
    "    show_markdown(climahtml.getMarkdown_sectitle(s_lblnew_param))\n",
    "    print_lblnew_param()\n",
    "    \n",
    "    # Cooling rate profiles\n",
    "    show_html(climahtml.getHTML_idanchor(s_plt_cooling))\n",
    "    show_markdown(climahtml.getMarkdown_sectitle(s_plt_cooling))\n",
    "    script_plt_cooling()\n",
    "    \n",
    "    # Flux comparison\n",
    "    show_html(climahtml.getHTML_idanchor(s_tb_flux))\n",
    "    show_markdown(climahtml.getMarkdown_sectitle(s_tb_flux))\n",
    "    script_tb_flux()\n",
    "    \n",
    "    # Best-fit values\n",
    "    show_html(climahtml.getHTML_idanchor(s_bestfits))\n",
    "    show_markdown(climahtml.getMarkdown_sectitle(s_bestfits))\n",
    "    print_bestfit_params()\n",
    "   \n",
    "    "
   ]
  },
  {
   "cell_type": "code",
   "execution_count": 12,
   "metadata": {
    "collapsed": true,
    "scrolled": false
   },
   "outputs": [
    {
     "data": {
      "text/markdown": [
       "### CLIRAD-LW"
      ],
      "text/plain": [
       "<IPython.core.display.Markdown object>"
      ]
     },
     "metadata": {},
     "output_type": "display_data"
    },
    {
     "data": {
      "text/markdown": [
       "### Table of Contents"
      ],
      "text/plain": [
       "<IPython.core.display.Markdown object>"
      ]
     },
     "metadata": {},
     "output_type": "display_data"
    },
    {
     "data": {
      "text/html": [
       "<a href=\"#Input_Parameters\">Input Parameters</a>"
      ],
      "text/plain": [
       "<IPython.core.display.HTML object>"
      ]
     },
     "metadata": {},
     "output_type": "display_data"
    },
    {
     "data": {
      "text/html": [
       "<a href=\"#LBLNEW_case_compaired_against\">LBLNEW case compaired against</a>"
      ],
      "text/plain": [
       "<IPython.core.display.HTML object>"
      ]
     },
     "metadata": {},
     "output_type": "display_data"
    },
    {
     "data": {
      "text/html": [
       "<a href=\"#Cooling_Rate_Profiles\">Cooling Rate Profiles</a>"
      ],
      "text/plain": [
       "<IPython.core.display.HTML object>"
      ]
     },
     "metadata": {},
     "output_type": "display_data"
    },
    {
     "data": {
      "text/html": [
       "<a href=\"#Flux_Comparison\">Flux Comparison</a>"
      ],
      "text/plain": [
       "<IPython.core.display.HTML object>"
      ]
     },
     "metadata": {},
     "output_type": "display_data"
    },
    {
     "data": {
      "text/html": [
       "<a href=\"#Best-fit_Parameters\">Best-fit Parameters</a>"
      ],
      "text/plain": [
       "<IPython.core.display.HTML object>"
      ]
     },
     "metadata": {},
     "output_type": "display_data"
    },
    {
     "data": {
      "text/html": [
       "<a id=\"Input_Parameters\"></a>"
      ],
      "text/plain": [
       "<IPython.core.display.HTML object>"
      ]
     },
     "metadata": {},
     "output_type": "display_data"
    },
    {
     "data": {
      "text/markdown": [
       "# Input Parameters"
      ],
      "text/plain": [
       "<IPython.core.display.Markdown object>"
      ]
     },
     "metadata": {},
     "output_type": "display_data"
    },
    {
     "name": "stdout",
     "output_type": "stream",
     "text": [
      "atmpro = saw\n",
      "band = [8]\n",
      "commitnumber = a70b085\n",
      "molecule = {'n2o': 3.2e-07}\n",
      "tsfc = 257\n"
     ]
    },
    {
     "data": {
      "text/html": [
       "<a id=\"LBLNEW_case_compaired_against\"></a>"
      ],
      "text/plain": [
       "<IPython.core.display.HTML object>"
      ]
     },
     "metadata": {},
     "output_type": "display_data"
    },
    {
     "data": {
      "text/markdown": [
       "# LBLNEW case compaired against"
      ],
      "text/plain": [
       "<IPython.core.display.Markdown object>"
      ]
     },
     "metadata": {},
     "output_type": "display_data"
    },
    {
     "name": "stdout",
     "output_type": "stream",
     "text": [
      "atmpro = saw\n",
      "band = 6\n",
      "commitnumber = bca49ce\n",
      "conc = 3.2e-07\n",
      "dv = 0.005\n",
      "klin = 0\n",
      "molecule = n2o\n",
      "ng_adju = [0]\n",
      "ng_refs = [1]\n",
      "nv = 200\n",
      "option_compute_btable = 0\n",
      "option_compute_ktable = 0\n",
      "option_wgt_flux = 1\n",
      "option_wgt_k = 1\n",
      "ref_pts = [(500, 250)]\n",
      "tsfc = 257\n",
      "vmax = 1215\n",
      "vmin = 1100\n",
      "w_diffuse = [(1.66,)]\n",
      "wgt = [(0.95,)]\n"
     ]
    },
    {
     "data": {
      "text/html": [
       "<a id=\"Cooling_Rate_Profiles\"></a>"
      ],
      "text/plain": [
       "<IPython.core.display.HTML object>"
      ]
     },
     "metadata": {},
     "output_type": "display_data"
    },
    {
     "data": {
      "text/markdown": [
       "# Cooling Rate Profiles"
      ],
      "text/plain": [
       "<IPython.core.display.Markdown object>"
      ]
     },
     "metadata": {},
     "output_type": "display_data"
    },
    {
     "data": {
      "text/html": [
       "\n",
       "<div class=\"bk-root\">\n",
       "    <div class=\"bk-plotdiv\" id=\"3f2ef85a-4651-467a-b46a-ba48f313ac04\"></div>\n",
       "</div>"
      ]
     },
     "metadata": {},
     "output_type": "display_data"
    },
    {
     "data": {
      "application/javascript": [
       "(function(root) {\n",
       "  function embed_document(root) {\n",
       "    \n",
       "  var docs_json = {\"9c9c3e75-59b0-41a4-8a24-2d3a6748c3da\":{\"roots\":{\"references\":[{\"attributes\":{\"children\":[{\"id\":\"3dc3af21-8adc-4f5a-8885-328684ed862f\",\"type\":\"ToolbarBox\"},{\"id\":\"50723ca3-0271-40d9-889f-c12c28696ecc\",\"type\":\"Column\"}]},\"id\":\"d0d69c22-8af0-4726-bde7-b70d081f5980\",\"type\":\"Column\"},{\"attributes\":{\"source\":{\"id\":\"1ae572ff-8ee0-4295-a399-630ae765f935\",\"type\":\"ColumnDataSource\"}},\"id\":\"56cc40e8-ecf5-4082-9e90-8af9fa73d58a\",\"type\":\"CDSView\"},{\"attributes\":{},\"id\":\"8cd4ec3c-a75b-4f0e-a065-7653a502410c\",\"type\":\"UnionRenderers\"},{\"attributes\":{\"plot\":null,\"text\":\"Log pressure scale\"},\"id\":\"6e381612-919b-41f0-99dd-afeab02e887a\",\"type\":\"Title\"},{\"attributes\":{\"data_source\":{\"id\":\"1ae572ff-8ee0-4295-a399-630ae765f935\",\"type\":\"ColumnDataSource\"},\"glyph\":{\"id\":\"b77bacf9-d9d4-476d-8652-e9942829801d\",\"type\":\"Square\"},\"hover_glyph\":null,\"muted_glyph\":null,\"nonselection_glyph\":{\"id\":\"6d23d8b8-ee21-441d-87a5-9f32a1b12329\",\"type\":\"Square\"},\"selection_glyph\":null,\"view\":{\"id\":\"56cc40e8-ecf5-4082-9e90-8af9fa73d58a\",\"type\":\"CDSView\"}},\"id\":\"433693c2-882e-4bf2-9e4b-6e2746a06bc2\",\"type\":\"GlyphRenderer\"},{\"attributes\":{\"bottom_units\":\"screen\",\"fill_alpha\":{\"value\":0.5},\"fill_color\":{\"value\":\"lightgrey\"},\"left_units\":\"screen\",\"level\":\"overlay\",\"line_alpha\":{\"value\":1.0},\"line_color\":{\"value\":\"black\"},\"line_dash\":[4,4],\"line_width\":{\"value\":2},\"plot\":null,\"render_mode\":\"css\",\"right_units\":\"screen\",\"top_units\":\"screen\"},\"id\":\"bedc7562-a7df-4278-894e-8fcf478d0a7b\",\"type\":\"BoxAnnotation\"},{\"attributes\":{},\"id\":\"2b949761-86b6-40ce-b1c7-6192fc1e796d\",\"type\":\"PanTool\"},{\"attributes\":{},\"id\":\"ad4cb455-2e66-49eb-be09-f0961f0762f3\",\"type\":\"HelpTool\"},{\"attributes\":{},\"id\":\"bf911681-3a73-4fd1-8a0f-52c2a6f15f25\",\"type\":\"ResetTool\"},{\"attributes\":{},\"id\":\"f509b3b7-5614-4862-aa1e-450b0217fe1a\",\"type\":\"SaveTool\"},{\"attributes\":{},\"id\":\"96d81100-dbb4-4803-9ba8-5f65b624c0bc\",\"type\":\"WheelZoomTool\"},{\"attributes\":{\"overlay\":{\"id\":\"bedc7562-a7df-4278-894e-8fcf478d0a7b\",\"type\":\"BoxAnnotation\"}},\"id\":\"38588a4e-08a4-42a5-ba19-f799ec45f7ba\",\"type\":\"BoxZoomTool\"},{\"attributes\":{\"callback\":null,\"end\":0.01,\"start\":1020},\"id\":\"721a5932-d2f6-4fcb-85ce-586055fefa86\",\"type\":\"Range1d\"},{\"attributes\":{\"callback\":null,\"data\":{\"x\":{\"__ndarray__\":\"V/s4tVM1Ub/JGuOMfblMv9oGkhnmgk6/vU83YbTBSr972RgncnhGv9mxwzoOvUG/4kUX6DwHOb9s62HEfyQrv8p90Vi0tfC+GfBrSas/KT+86E17QYE7P9S5P9+O1EU/WbnjVTF7Tj9jOaR5SWFTP9DsbQS40VY/HGVxBpXtWT9pDVv7RildP041c3tbRmA/rWojgJYMYj/gC8/ndeZjP4OeWQudomU/GS5rlXJUZD+4GJRN34leP0GKgNpWmVM/GCYQT3JzRD9cFnQGx7IhP4d2GRmlazK/xB9zdvh2Q7+LfvmJ3CdKvwdm3YJtJk+/nPsb0xu+Ub8VqWz0A3lTv1eKnsQ5BFS/5SKecw5aU7/+TISfjVtSv8AZj6pTUlG/ao/ilvKFUL/apBIcQT5Qv7QqTxXgQlC/R/ernsNKUL/jrPhG2lJQv0IlYAAGW1C/8b5TTTxjUL9aHTYai2lQv0S6pOAvTVC/xUhdJjGATr8Yt2DQGqhJv+gC5xWPhEO/R5CylBhDOr+/J2fDeXMqvzt+ongGk6c+Z/dOu3rzKj9+oQ57cwY7P6AuQI5uTEQ/vSUxZEgNSz8UgkxfhdxQP++T8v0FIFQ/8o9qk2RIVz+HpVjpwkxaPy0wsLrRKF0/+XiUTgzXXz9fyxysrixhP/UWXcfJV2I/lclrzARvYz8qXwrui3RkPyk18K2MaWU/WQ2Qx09MZj9cjit7+BVnPwCy1N4Osmc/QajXWfADaD9TRM8rc/pnP+v1D+f/o2c/SfDqgwohZz8uhskQW4xmPxNGEdtf8mU/\",\"dtype\":\"float64\",\"shape\":[75]},\"y\":{\"__ndarray__\":\"S/O/Q+51ND/Sv8nbtpRIP2vylNV0PVE/aTum7souWD/At0SJ8fVgPw3Iuahxymc/MSNhhJWvcD/bTfBN02d3P2zb5nxnaoA/CD5h5MAGhz8NmeH1TyaQP+zrCsc9p5Y/LbKd76fGnz/bLW5ISEmmPww9YvTcQq8/JV2OstnstT8Er5Y7M8G+P0c+r3jqkcU/5h99k6ZBzj88bCIzFzjVP4enV8oyxN0//yH99nXg5D8qOpLLf0jtP5kqGJXUifQ/c9cS8kHP/D+/DpwzojQEQIEmwoanVwxA4lgXt9HgE0BSSZ2AJuIbQAMJih9jjiNA5q4l5INuK0AwTKYKRj0zQNv5fmq8/DpAaCJseHrtQkB/+zpwzoxKQM3MzMzMeFJAZmZmZmZqWEAAAAAAAFxeQM3MzMzMJmJAmpmZmZkfZUBmZmZmZhhoQDMzMzMzEWtAAAAAAAAKbkBmZmZmZoFwQM3MzMzM/XFAMzMzMzN6c0CamZmZmfZ0QAAAAAAAc3ZAZmZmZmbvd0DNzMzMzGt5QDMzMzMz6HpAmpmZmZlkfEAAAAAAAOF9QGZmZmZmXX9AZmZmZuZsgECamZmZGSuBQM3MzMxM6YFAAAAAAICngkAzMzMzs2WDQGZmZmbmI4RAmpmZmRnihEDNzMzMTKCFQAAAAACAXoZAMzMzM7Mch0BmZmZm5tqHQJqZmZkZmYhAzczMzExXiUAAAAAAgBWKQDMzMzOz04pAZmZmZuaRi0CamZmZGVCMQM3MzMxMDo1AAAAAAIDMjUAzMzMzs4qOQGZmZmbmSI9A\",\"dtype\":\"float64\",\"shape\":[75]}},\"selected\":{\"id\":\"1e808d44-f3af-4fe8-87ad-b40fb72cea25\",\"type\":\"Selection\"},\"selection_policy\":{\"id\":\"a3abaa18-313a-4da5-8a07-6986014ce5ba\",\"type\":\"UnionRenderers\"}},\"id\":\"fa0879a7-1a2b-4bef-b84c-3b02ca1087d4\",\"type\":\"ColumnDataSource\"},{\"attributes\":{\"fill_alpha\":{\"value\":0.1},\"fill_color\":{\"value\":\"#1f77b4\"},\"line_alpha\":{\"value\":0.1},\"line_color\":{\"value\":\"#1f77b4\"},\"x\":{\"field\":\"x\"},\"y\":{\"field\":\"y\"}},\"id\":\"6d23d8b8-ee21-441d-87a5-9f32a1b12329\",\"type\":\"Square\"},{\"attributes\":{\"callback\":null,\"data\":{\"x\":{\"__ndarray__\":\"S27eQXYaVb8g2xxp3BtUvzNVziQT81G/0Gf7MdgWT7++y20uaM5Jv+X4CfikA0S/qLn3eiVYO78pQYCw3/Yqvz8Vu22h+Pk+EC183i4QMj8OmWzSS/dBP5gK7Nghqks/Ld2zHt0QUz98a3D7Vg1YP+sW8wanJFw/vW9eTiDbXz9SiYB9U9xhP8JWlAgQ4mM/SPb7U2AAZj8ejL4cmzhoP/qMXbyFUGo/zoe9UgrBaD8TV9ksk7BiPxuIeRduR1g/DlwPrtofSj9OmXw2bNMrPxYanL5TuzK/KptoPx6jRb/6t63fY59NvyLy9/lRx1G/0TDa/mxfVL/X7YUkoHJWv0HvpgfAGVe/o2QT1EBQVr9HQWzAUiNVvzn/lguT7FO/UKn4WYr/Ur/AOxeUUuFSv0MRXryQ51K/rwSMVoD7Ur+8r8Sn6w5Tv91tw1E+MFO/ZmHrNDtbU7+bIVTviWpTvxkpCQHoVFO/C9Kx51AdUr8b0w2iDLJOv7m5SWy9dke/wVBZm9u9P7+tvPZ4Oz4wv5KwyTSCjN++M2azp3vdLT/2JSo64xI/P5dM3HoflUc/TPHdHnqZTz9u1TPV87RTPzdCIpA7g1c/z6i97AVEWz+Eknw/UtheP7MborekHWE/0NzVt4SmYj8bqn0R6CBkP2KbIGcrgWU/7kgoRuXJZj9z2TQr5flnP+oVb5RXD2k/dGFKOkgcaj9s8/qoSghrPx6ujgBLvms/UrCbWRgQbD/J24B9o/5rP5kUSh/tkWs/DujWOffvaj/S59Y0PjZqPywNWNA9bWk/\",\"dtype\":\"float64\",\"shape\":[75]},\"y\":{\"__ndarray__\":\"GhExyth1ND/Sv8nbtpRIP2vylNV0PVE/aTum7souWD/At0SJ8fVgPw3Iuahxymc/MSNhhJWvcD/bTfBN02d3P2zb5nxnaoA/CD5h5MAGhz8NmeH1TyaQP+zrCsc9p5Y/LbKd76fGnz/bLW5ISEmmPww9YvTcQq8/JV2OstnstT8Er5Y7M8G+P0c+r3jqkcU/5h99k6ZBzj88bCIzFzjVP4enV8oyxN0//yH99nXg5D8qOpLLf0jtP5kqGJXUifQ/c9cS8kHP/D+/DpwzojQEQIEmwoanVwxA4lgXt9HgE0BSSZ2AJuIbQAMJih9jjiNA5q4l5INuK0AwTKYKRj0zQNv5fmq8/DpAaCJseHrtQkB/+zpwzoxKQM3MzMzMeFJAZmZmZmZqWEAAAAAAAFxeQM3MzMzMJmJAmpmZmZkfZUBmZmZmZhhoQDMzMzMzEWtAAAAAAAAKbkBmZmZmZoFwQM3MzMzM/XFAMzMzMzN6c0CamZmZmfZ0QAAAAAAAc3ZAZmZmZmbvd0DNzMzMzGt5QDMzMzMz6HpAmpmZmZlkfEAAAAAAAOF9QGZmZmZmXX9AZmZmZuZsgECamZmZGSuBQM3MzMxM6YFAAAAAAICngkAzMzMzs2WDQGZmZmbmI4RAmpmZmRnihEDNzMzMTKCFQAAAAACAXoZAMzMzM7Mch0BmZmZm5tqHQJqZmZkZmYhAzczMzExXiUAAAAAAgBWKQDMzMzOz04pAZmZmZuaRi0CamZmZGVCMQM3MzMxMDo1AAAAAAIDMjUAzMzMzs4qOQGZmZmbmSI9A\",\"dtype\":\"float64\",\"shape\":[75]}},\"selected\":{\"id\":\"1b67673c-8395-4475-8f8a-f91299c4b8f7\",\"type\":\"Selection\"},\"selection_policy\":{\"id\":\"cbb834ad-0716-4fd7-b548-cd3885b48396\",\"type\":\"UnionRenderers\"}},\"id\":\"b579587f-d1d0-4820-ab56-b9799a50788f\",\"type\":\"ColumnDataSource\"},{\"attributes\":{\"source\":{\"id\":\"3030ec90-9c4d-470f-af9d-bf33673b4850\",\"type\":\"ColumnDataSource\"}},\"id\":\"560531f8-f1d8-459a-93b0-8ad2564faab3\",\"type\":\"CDSView\"},{\"attributes\":{\"data_source\":{\"id\":\"b2d681af-97e4-4c2a-b44a-be17dbac2257\",\"type\":\"ColumnDataSource\"},\"glyph\":{\"id\":\"a75508ee-2dc0-4104-ae4b-a4f13aa68b10\",\"type\":\"Square\"},\"hover_glyph\":null,\"muted_glyph\":null,\"nonselection_glyph\":{\"id\":\"0649956a-52cf-4ac3-99ba-0313627498bf\",\"type\":\"Square\"},\"selection_glyph\":null,\"view\":{\"id\":\"e9362f31-be2c-43e1-874b-ba36023f8b8b\",\"type\":\"CDSView\"}},\"id\":\"e7c1a2f8-c244-4039-a374-74054a716517\",\"type\":\"GlyphRenderer\"},{\"attributes\":{\"fill_alpha\":{\"value\":0.1},\"fill_color\":{\"value\":\"#1f77b4\"},\"line_alpha\":{\"value\":0.1},\"line_color\":{\"value\":\"#1f77b4\"},\"x\":{\"field\":\"x\"},\"y\":{\"field\":\"y\"}},\"id\":\"0649956a-52cf-4ac3-99ba-0313627498bf\",\"type\":\"Square\"},{\"attributes\":{\"fill_alpha\":{\"value\":0.7},\"fill_color\":{\"value\":\"#984ea3\"},\"line_alpha\":{\"value\":0.7},\"line_color\":{\"value\":\"#984ea3\"},\"x\":{\"field\":\"x\"},\"y\":{\"field\":\"y\"}},\"id\":\"a75508ee-2dc0-4104-ae4b-a4f13aa68b10\",\"type\":\"Square\"},{\"attributes\":{\"plot\":{\"id\":\"41e5c2f3-ffa4-4d13-9ba6-1a38a5a8bc1a\",\"subtype\":\"Figure\",\"type\":\"Plot\"},\"ticker\":{\"id\":\"6305233c-53b1-4394-a388-b29c2563e9e0\",\"type\":\"BasicTicker\"}},\"id\":\"238925c3-779b-4753-8510-e9084bcf5722\",\"type\":\"Grid\"},{\"attributes\":{\"callback\":null,\"data\":{\"x\":{\"__ndarray__\":\"S27eQXYaVb8g2xxp3BtUvzNVziQT81G/0Gf7MdgWT7++y20uaM5Jv+X4CfikA0S/qLn3eiVYO78pQYCw3/Yqvz8Vu22h+Pk+EC183i4QMj8OmWzSS/dBP5gK7Nghqks/Ld2zHt0QUz98a3D7Vg1YP+sW8wanJFw/vW9eTiDbXz9SiYB9U9xhP8JWlAgQ4mM/SPb7U2AAZj8ejL4cmzhoP/qMXbyFUGo/zoe9UgrBaD8TV9ksk7BiPxuIeRduR1g/DlwPrtofSj9OmXw2bNMrPxYanL5TuzK/KptoPx6jRb/6t63fY59NvyLy9/lRx1G/0TDa/mxfVL/X7YUkoHJWv0HvpgfAGVe/o2QT1EBQVr9HQWzAUiNVvzn/lguT7FO/UKn4WYr/Ur/AOxeUUuFSv0MRXryQ51K/rwSMVoD7Ur+8r8Sn6w5Tv91tw1E+MFO/ZmHrNDtbU7+bIVTviWpTvxkpCQHoVFO/C9Kx51AdUr8b0w2iDLJOv7m5SWy9dke/wVBZm9u9P7+tvPZ4Oz4wv5KwyTSCjN++M2azp3vdLT/2JSo64xI/P5dM3HoflUc/TPHdHnqZTz9u1TPV87RTPzdCIpA7g1c/z6i97AVEWz+Eknw/UtheP7MborekHWE/0NzVt4SmYj8bqn0R6CBkP2KbIGcrgWU/7kgoRuXJZj9z2TQr5flnP+oVb5RXD2k/dGFKOkgcaj9s8/qoSghrPx6ujgBLvms/UrCbWRgQbD/J24B9o/5rP5kUSh/tkWs/DujWOffvaj/S59Y0PjZqPywNWNA9bWk/\",\"dtype\":\"float64\",\"shape\":[75]},\"y\":{\"__ndarray__\":\"GhExyth1ND/Sv8nbtpRIP2vylNV0PVE/aTum7souWD/At0SJ8fVgPw3Iuahxymc/MSNhhJWvcD/bTfBN02d3P2zb5nxnaoA/CD5h5MAGhz8NmeH1TyaQP+zrCsc9p5Y/LbKd76fGnz/bLW5ISEmmPww9YvTcQq8/JV2OstnstT8Er5Y7M8G+P0c+r3jqkcU/5h99k6ZBzj88bCIzFzjVP4enV8oyxN0//yH99nXg5D8qOpLLf0jtP5kqGJXUifQ/c9cS8kHP/D+/DpwzojQEQIEmwoanVwxA4lgXt9HgE0BSSZ2AJuIbQAMJih9jjiNA5q4l5INuK0AwTKYKRj0zQNv5fmq8/DpAaCJseHrtQkB/+zpwzoxKQM3MzMzMeFJAZmZmZmZqWEAAAAAAAFxeQM3MzMzMJmJAmpmZmZkfZUBmZmZmZhhoQDMzMzMzEWtAAAAAAAAKbkBmZmZmZoFwQM3MzMzM/XFAMzMzMzN6c0CamZmZmfZ0QAAAAAAAc3ZAZmZmZmbvd0DNzMzMzGt5QDMzMzMz6HpAmpmZmZlkfEAAAAAAAOF9QGZmZmZmXX9AZmZmZuZsgECamZmZGSuBQM3MzMxM6YFAAAAAAICngkAzMzMzs2WDQGZmZmbmI4RAmpmZmRnihEDNzMzMTKCFQAAAAACAXoZAMzMzM7Mch0BmZmZm5tqHQJqZmZkZmYhAzczMzExXiUAAAAAAgBWKQDMzMzOz04pAZmZmZuaRi0CamZmZGVCMQM3MzMxMDo1AAAAAAIDMjUAzMzMzs4qOQGZmZmbmSI9A\",\"dtype\":\"float64\",\"shape\":[75]}},\"selected\":{\"id\":\"564fc180-9692-40ef-8aae-45c5e4a1fde3\",\"type\":\"Selection\"},\"selection_policy\":{\"id\":\"bfb20470-3f9a-479a-8571-23e13d96ebe8\",\"type\":\"UnionRenderers\"}},\"id\":\"130b7e55-3a55-45c7-a9d2-4a37c85a46fa\",\"type\":\"ColumnDataSource\"},{\"attributes\":{\"num_minor_ticks\":10},\"id\":\"09bfde29-9d58-4ec2-b5dc-58115f4b9412\",\"type\":\"LogTicker\"},{\"attributes\":{\"line_alpha\":0.6,\"line_color\":\"#e41a1c\",\"line_dash\":[6],\"line_width\":5,\"x\":{\"field\":\"x\"},\"y\":{\"field\":\"y\"}},\"id\":\"8ba0271d-6a53-4f66-9020-6640f7e2393a\",\"type\":\"Line\"},{\"attributes\":{\"items\":[{\"id\":\"750fcdcd-7305-4d40-9967-8be00ff7773c\",\"type\":\"LegendItem\"},{\"id\":\"939c9fac-c936-4566-aabd-d684c80473b8\",\"type\":\"LegendItem\"},{\"id\":\"37c7307d-7556-4866-8d8e-3684b4e7f3a0\",\"type\":\"LegendItem\"}],\"label_text_font_size\":{\"value\":\"8pt\"},\"location\":[10,-30],\"plot\":{\"id\":\"41e5c2f3-ffa4-4d13-9ba6-1a38a5a8bc1a\",\"subtype\":\"Figure\",\"type\":\"Plot\"}},\"id\":\"6026dc89-2a30-4aed-b692-4b1da0cd858a\",\"type\":\"Legend\"},{\"attributes\":{},\"id\":\"6305233c-53b1-4394-a388-b29c2563e9e0\",\"type\":\"BasicTicker\"},{\"attributes\":{\"axis_label\":\"cooling rate [K/day]\",\"formatter\":{\"id\":\"e42c6790-e4f8-4f5a-842c-8d1444748b3c\",\"type\":\"BasicTickFormatter\"},\"plot\":{\"id\":\"41e5c2f3-ffa4-4d13-9ba6-1a38a5a8bc1a\",\"subtype\":\"Figure\",\"type\":\"Plot\"},\"ticker\":{\"id\":\"6305233c-53b1-4394-a388-b29c2563e9e0\",\"type\":\"BasicTicker\"}},\"id\":\"6527e539-a9b2-4250-9e6c-8352bd276483\",\"type\":\"LinearAxis\"},{\"attributes\":{\"line_alpha\":0.1,\"line_color\":\"#1f77b4\",\"line_width\":3,\"x\":{\"field\":\"x\"},\"y\":{\"field\":\"y\"}},\"id\":\"6df971f7-553e-4a0a-8d4a-d9d1bea324f4\",\"type\":\"Line\"},{\"attributes\":{\"data_source\":{\"id\":\"130b7e55-3a55-45c7-a9d2-4a37c85a46fa\",\"type\":\"ColumnDataSource\"},\"glyph\":{\"id\":\"0f48c858-8f32-42da-b756-ed924a6347cb\",\"type\":\"Line\"},\"hover_glyph\":null,\"muted_glyph\":null,\"nonselection_glyph\":{\"id\":\"6df971f7-553e-4a0a-8d4a-d9d1bea324f4\",\"type\":\"Line\"},\"selection_glyph\":null,\"view\":{\"id\":\"1d4ef2ba-613f-42a0-946f-724f090403a8\",\"type\":\"CDSView\"}},\"id\":\"a8d9c42f-f488-4a5a-94ab-5cfce7da62de\",\"type\":\"GlyphRenderer\"},{\"attributes\":{\"source\":{\"id\":\"130b7e55-3a55-45c7-a9d2-4a37c85a46fa\",\"type\":\"ColumnDataSource\"}},\"id\":\"1d4ef2ba-613f-42a0-946f-724f090403a8\",\"type\":\"CDSView\"},{\"attributes\":{\"callback\":null,\"end\":0.004407054382,\"start\":-0.0014675419820000001},\"id\":\"2508b3b0-93f1-4f7c-a4cd-b1cd7b721dba\",\"type\":\"Range1d\"},{\"attributes\":{\"active_drag\":\"auto\",\"active_inspect\":\"auto\",\"active_scroll\":\"auto\",\"active_tap\":\"auto\",\"tools\":[{\"id\":\"2b949761-86b6-40ce-b1c7-6192fc1e796d\",\"type\":\"PanTool\"},{\"id\":\"96d81100-dbb4-4803-9ba8-5f65b624c0bc\",\"type\":\"WheelZoomTool\"},{\"id\":\"38588a4e-08a4-42a5-ba19-f799ec45f7ba\",\"type\":\"BoxZoomTool\"},{\"id\":\"f509b3b7-5614-4862-aa1e-450b0217fe1a\",\"type\":\"SaveTool\"},{\"id\":\"bf911681-3a73-4fd1-8a0f-52c2a6f15f25\",\"type\":\"ResetTool\"},{\"id\":\"ad4cb455-2e66-49eb-be09-f0961f0762f3\",\"type\":\"HelpTool\"}]},\"id\":\"085efcd7-a3b1-405f-b206-1156b2ddd6af\",\"type\":\"Toolbar\"},{\"attributes\":{},\"id\":\"15033541-c02e-4a09-a6b2-c5c17a1109ac\",\"type\":\"LinearScale\"},{\"attributes\":{\"line_alpha\":0.6,\"line_color\":\"#984ea3\",\"line_width\":3,\"x\":{\"field\":\"x\"},\"y\":{\"field\":\"y\"}},\"id\":\"0f48c858-8f32-42da-b756-ed924a6347cb\",\"type\":\"Line\"},{\"attributes\":{},\"id\":\"2567449c-9807-4341-bd02-0239788be759\",\"type\":\"LogScale\"},{\"attributes\":{\"dimension\":1,\"plot\":{\"id\":\"41e5c2f3-ffa4-4d13-9ba6-1a38a5a8bc1a\",\"subtype\":\"Figure\",\"type\":\"Plot\"},\"ticker\":{\"id\":\"09bfde29-9d58-4ec2-b5dc-58115f4b9412\",\"type\":\"LogTicker\"}},\"id\":\"3ef92458-b9e3-4168-b665-0de18440bc24\",\"type\":\"Grid\"},{\"attributes\":{\"callback\":null,\"data\":{\"x\":{\"__ndarray__\":\"S27eQXYaVb8g2xxp3BtUvzNVziQT81G/0Gf7MdgWT7++y20uaM5Jv+X4CfikA0S/qLn3eiVYO78pQYCw3/Yqvz8Vu22h+Pk+EC183i4QMj8OmWzSS/dBP5gK7Nghqks/Ld2zHt0QUz98a3D7Vg1YP+sW8wanJFw/vW9eTiDbXz9SiYB9U9xhP8JWlAgQ4mM/SPb7U2AAZj8ejL4cmzhoP/qMXbyFUGo/zoe9UgrBaD8TV9ksk7BiPxuIeRduR1g/DlwPrtofSj9OmXw2bNMrPxYanL5TuzK/KptoPx6jRb/6t63fY59NvyLy9/lRx1G/0TDa/mxfVL/X7YUkoHJWv0HvpgfAGVe/o2QT1EBQVr9HQWzAUiNVvzn/lguT7FO/UKn4WYr/Ur/AOxeUUuFSv0MRXryQ51K/rwSMVoD7Ur+8r8Sn6w5Tv91tw1E+MFO/ZmHrNDtbU7+bIVTviWpTvxkpCQHoVFO/C9Kx51AdUr8b0w2iDLJOv7m5SWy9dke/wVBZm9u9P7+tvPZ4Oz4wv5KwyTSCjN++M2azp3vdLT/2JSo64xI/P5dM3HoflUc/TPHdHnqZTz9u1TPV87RTPzdCIpA7g1c/z6i97AVEWz+Eknw/UtheP7MborekHWE/0NzVt4SmYj8bqn0R6CBkP2KbIGcrgWU/7kgoRuXJZj9z2TQr5flnP+oVb5RXD2k/dGFKOkgcaj9s8/qoSghrPx6ujgBLvms/UrCbWRgQbD/J24B9o/5rP5kUSh/tkWs/DujWOffvaj/S59Y0PjZqPywNWNA9bWk/\",\"dtype\":\"float64\",\"shape\":[75]},\"y\":{\"__ndarray__\":\"GhExyth1ND/Sv8nbtpRIP2vylNV0PVE/aTum7souWD/At0SJ8fVgPw3Iuahxymc/MSNhhJWvcD/bTfBN02d3P2zb5nxnaoA/CD5h5MAGhz8NmeH1TyaQP+zrCsc9p5Y/LbKd76fGnz/bLW5ISEmmPww9YvTcQq8/JV2OstnstT8Er5Y7M8G+P0c+r3jqkcU/5h99k6ZBzj88bCIzFzjVP4enV8oyxN0//yH99nXg5D8qOpLLf0jtP5kqGJXUifQ/c9cS8kHP/D+/DpwzojQEQIEmwoanVwxA4lgXt9HgE0BSSZ2AJuIbQAMJih9jjiNA5q4l5INuK0AwTKYKRj0zQNv5fmq8/DpAaCJseHrtQkB/+zpwzoxKQM3MzMzMeFJAZmZmZmZqWEAAAAAAAFxeQM3MzMzMJmJAmpmZmZkfZUBmZmZmZhhoQDMzMzMzEWtAAAAAAAAKbkBmZmZmZoFwQM3MzMzM/XFAMzMzMzN6c0CamZmZmfZ0QAAAAAAAc3ZAZmZmZmbvd0DNzMzMzGt5QDMzMzMz6HpAmpmZmZlkfEAAAAAAAOF9QGZmZmZmXX9AZmZmZuZsgECamZmZGSuBQM3MzMxM6YFAAAAAAICngkAzMzMzs2WDQGZmZmbmI4RAmpmZmRnihEDNzMzMTKCFQAAAAACAXoZAMzMzM7Mch0BmZmZm5tqHQJqZmZkZmYhAzczMzExXiUAAAAAAgBWKQDMzMzOz04pAZmZmZuaRi0CamZmZGVCMQM3MzMxMDo1AAAAAAIDMjUAzMzMzs4qOQGZmZmbmSI9A\",\"dtype\":\"float64\",\"shape\":[75]}},\"selected\":{\"id\":\"d964ec40-f71a-4387-a188-9487603ebcd7\",\"type\":\"Selection\"},\"selection_policy\":{\"id\":\"e50ba990-b0e4-428f-9962-de9f848d5115\",\"type\":\"UnionRenderers\"}},\"id\":\"b2d681af-97e4-4c2a-b44a-be17dbac2257\",\"type\":\"ColumnDataSource\"},{\"attributes\":{\"axis_label\":\"pressure [mb]\",\"formatter\":{\"id\":\"8726a0d9-97bf-4849-895f-5bf635c347e5\",\"type\":\"LogTickFormatter\"},\"plot\":{\"id\":\"41e5c2f3-ffa4-4d13-9ba6-1a38a5a8bc1a\",\"subtype\":\"Figure\",\"type\":\"Plot\"},\"ticker\":{\"id\":\"09bfde29-9d58-4ec2-b5dc-58115f4b9412\",\"type\":\"LogTicker\"}},\"id\":\"efd1f516-8e88-4b68-acdf-c174ade3e2dd\",\"type\":\"LogAxis\"},{\"attributes\":{},\"id\":\"909a58d5-6846-44ad-a895-f67516dfd03b\",\"type\":\"UnionRenderers\"},{\"attributes\":{\"line_alpha\":0.1,\"line_color\":\"#1f77b4\",\"line_dash\":[6],\"line_width\":5,\"x\":{\"field\":\"x\"},\"y\":{\"field\":\"y\"}},\"id\":\"0cb53c63-bd85-4992-aaaf-13c9a93f319f\",\"type\":\"Line\"},{\"attributes\":{\"source\":{\"id\":\"b2d681af-97e4-4c2a-b44a-be17dbac2257\",\"type\":\"ColumnDataSource\"}},\"id\":\"e9362f31-be2c-43e1-874b-ba36023f8b8b\",\"type\":\"CDSView\"},{\"attributes\":{\"fill_alpha\":{\"value\":0.1},\"fill_color\":{\"value\":\"#1f77b4\"},\"line_alpha\":{\"value\":0.1},\"line_color\":{\"value\":\"#1f77b4\"},\"x\":{\"field\":\"x\"},\"y\":{\"field\":\"y\"}},\"id\":\"aaae7f5e-7809-4b56-ae8d-6433df13bd79\",\"type\":\"Circle\"},{\"attributes\":{\"callback\":null,\"data\":{\"x\":{\"__ndarray__\":\"/Qmu+uPLOb/9WIlQq4Y1vxs+Iv54iCi/UqGC1mWV/76jqFmopp4iPwEnl6MgqDU/qeaj92mRQT9Okhy6fOlIP3I7xNeIdFA/xcYfufPMVD8k5F9qlIVZP7senRqupV4/A+vz8mYWYj/Yj6A6TrhkP7Tyyc0i4mY/cmdUULnYaD/2fr8pR+BqP+g1EjoK/Ww/uJtxbA4vbz9lBa5Pmr1wP8Rm5lu90HE/swd4IJv1cD8LzI+ig3NrP7ohX2TvdWQ/l+UJ0nXyXD+VBGWxjbNSPzJeIHV170M/N0kTECXFKj+NI9VY4CoRv3Ti6iJcHTK/CE4lS6//Pr+5cxibzlNFv8OFwQv/t0i/FM8psOKRSb+IRxTI9v1Jv47MO0DLiUq/4T5deFNgS79b9bhWuQFNvxv7/FsaCU+/LmfdYNtrUL/4NJTLYDtRv10nanPg+FG/YuX9o2KoUr8P5Do0jktTvxsUs/hyulO/BvN+tCTtUr83NvrlllhQv703CO851Em/z3j6SuyZQr/bZIzDJFI2vyaHzX7JXRy/4FK8qfjXID8BIzqqxiQ4PyIBM2FR/UM/bV9Ztu/nSz97TwkyAOBRP5EFyjqcuFU/C4YASgZzWT+maHBR6QRdPxvOe+r4MmA/+Yi//hDIYT8M9n09AUJjPzhWNrD0oWQ/FTeRiXLqZT/5KosXCh5nPxpj3uVNPmg/Wc2a52ZJaT+dO416YDVqP2u/qQ5I6Wo/dZzhGTtAaz/u8ORFcCRrPzhagAAaqGo/wwpgV0b0aT9DNLzNIippP+T4WLOyWmg/\",\"dtype\":\"float64\",\"shape\":[75]},\"y\":{\"__ndarray__\":\"GhExyth1ND/Sv8nbtpRIP2vylNV0PVE/aTum7souWD/At0SJ8fVgPw3Iuahxymc/MSNhhJWvcD/bTfBN02d3P2zb5nxnaoA/CD5h5MAGhz8NmeH1TyaQP+zrCsc9p5Y/LbKd76fGnz/bLW5ISEmmPww9YvTcQq8/JV2OstnstT8Er5Y7M8G+P0c+r3jqkcU/5h99k6ZBzj88bCIzFzjVP4enV8oyxN0//yH99nXg5D8qOpLLf0jtP5kqGJXUifQ/c9cS8kHP/D+/DpwzojQEQIEmwoanVwxA4lgXt9HgE0BSSZ2AJuIbQAMJih9jjiNA5q4l5INuK0AwTKYKRj0zQNv5fmq8/DpAaCJseHrtQkB/+zpwzoxKQM3MzMzMeFJAZmZmZmZqWEAAAAAAAFxeQM3MzMzMJmJAmpmZmZkfZUBmZmZmZhhoQDMzMzMzEWtAAAAAAAAKbkBmZmZmZoFwQM3MzMzM/XFAMzMzMzN6c0CamZmZmfZ0QAAAAAAAc3ZAZmZmZmbvd0DNzMzMzGt5QDMzMzMz6HpAmpmZmZlkfEAAAAAAAOF9QGZmZmZmXX9AZmZmZuZsgECamZmZGSuBQM3MzMxM6YFAAAAAAICngkAzMzMzs2WDQGZmZmbmI4RAmpmZmRnihEDNzMzMTKCFQAAAAACAXoZAMzMzM7Mch0BmZmZm5tqHQJqZmZkZmYhAzczMzExXiUAAAAAAgBWKQDMzMzOz04pAZmZmZuaRi0CamZmZGVCMQM3MzMxMDo1AAAAAAIDMjUAzMzMzs4qOQGZmZmbmSI9A\",\"dtype\":\"float64\",\"shape\":[75]}},\"selected\":{\"id\":\"8cfe0909-8098-4777-a1b3-2e0022144a8c\",\"type\":\"Selection\"},\"selection_policy\":{\"id\":\"42189cff-61b1-40f1-b796-755e26235dba\",\"type\":\"UnionRenderers\"}},\"id\":\"51ac1b18-0623-4fc2-ac2c-b1d4c7465fec\",\"type\":\"ColumnDataSource\"},{\"attributes\":{\"active_drag\":\"auto\",\"active_inspect\":\"auto\",\"active_scroll\":\"auto\",\"active_tap\":\"auto\",\"tools\":[{\"id\":\"3787b35a-0468-41bd-a696-bb1b3db177d4\",\"type\":\"PanTool\"},{\"id\":\"39d9c5cd-6174-41c2-b78b-49d250daf966\",\"type\":\"WheelZoomTool\"},{\"id\":\"1f9dad26-8e34-457f-a188-b2e3f60ca7c8\",\"type\":\"BoxZoomTool\"},{\"id\":\"e749f354-f470-48ed-8b0c-583bbbcd02f2\",\"type\":\"SaveTool\"},{\"id\":\"492cd142-2970-40d3-9cfa-fa001be60c6a\",\"type\":\"ResetTool\"},{\"id\":\"e13dc6f5-4ce8-49e6-8700-fb9f20c715c8\",\"type\":\"HelpTool\"}]},\"id\":\"87fa0119-dea8-4748-96e1-7c2310b22977\",\"type\":\"Toolbar\"},{\"attributes\":{\"data_source\":{\"id\":\"38589f1a-6fbc-4da6-bd6e-a2c9789788c0\",\"type\":\"ColumnDataSource\"},\"glyph\":{\"id\":\"8ba0271d-6a53-4f66-9020-6640f7e2393a\",\"type\":\"Line\"},\"hover_glyph\":null,\"muted_glyph\":null,\"nonselection_glyph\":{\"id\":\"ff21e0a7-1dfa-42e2-93a4-921e08aefb4c\",\"type\":\"Line\"},\"selection_glyph\":null,\"view\":{\"id\":\"7cf8b96a-0f3f-4b9d-a5aa-c73bdac81d5e\",\"type\":\"CDSView\"}},\"id\":\"19eae917-9afe-4697-a499-bf4eb64960eb\",\"type\":\"GlyphRenderer\"},{\"attributes\":{\"dimension\":1,\"plot\":{\"id\":\"89b79cdb-180a-40c4-876d-4253b5126992\",\"subtype\":\"Figure\",\"type\":\"Plot\"},\"ticker\":{\"id\":\"93efac48-f4d7-448f-aaad-49d6767de27d\",\"type\":\"BasicTicker\"}},\"id\":\"04159c77-952b-4a1b-8f51-a77ecabee904\",\"type\":\"Grid\"},{\"attributes\":{\"fill_alpha\":{\"value\":0.7},\"fill_color\":{\"value\":\"#4daf4a\"},\"line_alpha\":{\"value\":0.7},\"line_color\":{\"value\":\"#4daf4a\"},\"x\":{\"field\":\"x\"},\"y\":{\"field\":\"y\"}},\"id\":\"9e6e99ef-2104-48b9-bdcc-0d2d856ce5bd\",\"type\":\"Circle\"},{\"attributes\":{\"bottom_units\":\"screen\",\"fill_alpha\":{\"value\":0.5},\"fill_color\":{\"value\":\"lightgrey\"},\"left_units\":\"screen\",\"level\":\"overlay\",\"line_alpha\":{\"value\":1.0},\"line_color\":{\"value\":\"black\"},\"line_dash\":[4,4],\"line_width\":{\"value\":2},\"plot\":null,\"render_mode\":\"css\",\"right_units\":\"screen\",\"top_units\":\"screen\"},\"id\":\"4c7b0583-10d4-44c1-8e3a-600d9a3271f4\",\"type\":\"BoxAnnotation\"},{\"attributes\":{\"fill_alpha\":{\"value\":0.1},\"fill_color\":{\"value\":\"#1f77b4\"},\"line_alpha\":{\"value\":0.1},\"line_color\":{\"value\":\"#1f77b4\"},\"x\":{\"field\":\"x\"},\"y\":{\"field\":\"y\"}},\"id\":\"998b1259-818e-4f90-997b-65b13d80efe2\",\"type\":\"Circle\"},{\"attributes\":{\"data_source\":{\"id\":\"251808a3-7f89-4273-bc20-2b40271488d2\",\"type\":\"ColumnDataSource\"},\"glyph\":{\"id\":\"9e6e99ef-2104-48b9-bdcc-0d2d856ce5bd\",\"type\":\"Circle\"},\"hover_glyph\":null,\"muted_glyph\":null,\"nonselection_glyph\":{\"id\":\"aaae7f5e-7809-4b56-ae8d-6433df13bd79\",\"type\":\"Circle\"},\"selection_glyph\":null,\"view\":{\"id\":\"58e0afe1-75e9-4508-b008-1d4170cbdf78\",\"type\":\"CDSView\"}},\"id\":\"5ab7fbfd-ce75-4fb4-a747-83c712099f0c\",\"type\":\"GlyphRenderer\"},{\"attributes\":{\"source\":{\"id\":\"fa0879a7-1a2b-4bef-b84c-3b02ca1087d4\",\"type\":\"ColumnDataSource\"}},\"id\":\"cbea0943-a6e6-43ea-a790-bbdf223b793d\",\"type\":\"CDSView\"},{\"attributes\":{\"data_source\":{\"id\":\"fa0879a7-1a2b-4bef-b84c-3b02ca1087d4\",\"type\":\"ColumnDataSource\"},\"glyph\":{\"id\":\"707418e6-b209-46a7-82fa-abe7c42dbf4e\",\"type\":\"Line\"},\"hover_glyph\":null,\"muted_glyph\":null,\"nonselection_glyph\":{\"id\":\"0cb53c63-bd85-4992-aaaf-13c9a93f319f\",\"type\":\"Line\"},\"selection_glyph\":null,\"view\":{\"id\":\"cbea0943-a6e6-43ea-a790-bbdf223b793d\",\"type\":\"CDSView\"}},\"id\":\"563125a4-c595-4122-a625-a52e14cf9be5\",\"type\":\"GlyphRenderer\"},{\"attributes\":{},\"id\":\"3787b35a-0468-41bd-a696-bb1b3db177d4\",\"type\":\"PanTool\"},{\"attributes\":{\"line_alpha\":0.1,\"line_color\":\"#1f77b4\",\"line_width\":3,\"x\":{\"field\":\"x\"},\"y\":{\"field\":\"y\"}},\"id\":\"303db30c-3a9d-4870-8457-68f13c0ae2c6\",\"type\":\"Line\"},{\"attributes\":{},\"id\":\"e749f354-f470-48ed-8b0c-583bbbcd02f2\",\"type\":\"SaveTool\"},{\"attributes\":{\"callback\":null,\"end\":0.01,\"start\":1020},\"id\":\"8aceb50a-b87f-432a-8b43-616bf291f8f4\",\"type\":\"Range1d\"},{\"attributes\":{\"callback\":null,\"data\":{\"x\":{\"__ndarray__\":\"V/s4tVM1Ub/JGuOMfblMv9oGkhnmgk6/vU83YbTBSr972RgncnhGv9mxwzoOvUG/4kUX6DwHOb9s62HEfyQrv8p90Vi0tfC+GfBrSas/KT+86E17QYE7P9S5P9+O1EU/WbnjVTF7Tj9jOaR5SWFTP9DsbQS40VY/HGVxBpXtWT9pDVv7RildP041c3tbRmA/rWojgJYMYj/gC8/ndeZjP4OeWQudomU/GS5rlXJUZD+4GJRN34leP0GKgNpWmVM/GCYQT3JzRD9cFnQGx7IhP4d2GRmlazK/xB9zdvh2Q7+LfvmJ3CdKvwdm3YJtJk+/nPsb0xu+Ub8VqWz0A3lTv1eKnsQ5BFS/5SKecw5aU7/+TISfjVtSv8AZj6pTUlG/ao/ilvKFUL/apBIcQT5Qv7QqTxXgQlC/R/ernsNKUL/jrPhG2lJQv0IlYAAGW1C/8b5TTTxjUL9aHTYai2lQv0S6pOAvTVC/xUhdJjGATr8Yt2DQGqhJv+gC5xWPhEO/R5CylBhDOr+/J2fDeXMqvzt+ongGk6c+Z/dOu3rzKj9+oQ57cwY7P6AuQI5uTEQ/vSUxZEgNSz8UgkxfhdxQP++T8v0FIFQ/8o9qk2RIVz+HpVjpwkxaPy0wsLrRKF0/+XiUTgzXXz9fyxysrixhP/UWXcfJV2I/lclrzARvYz8qXwrui3RkPyk18K2MaWU/WQ2Qx09MZj9cjit7+BVnPwCy1N4Osmc/QajXWfADaD9TRM8rc/pnP+v1D+f/o2c/SfDqgwohZz8uhskQW4xmPxNGEdtf8mU/\",\"dtype\":\"float64\",\"shape\":[75]},\"y\":{\"__ndarray__\":\"S/O/Q+51ND/Sv8nbtpRIP2vylNV0PVE/aTum7souWD/At0SJ8fVgPw3Iuahxymc/MSNhhJWvcD/bTfBN02d3P2zb5nxnaoA/CD5h5MAGhz8NmeH1TyaQP+zrCsc9p5Y/LbKd76fGnz/bLW5ISEmmPww9YvTcQq8/JV2OstnstT8Er5Y7M8G+P0c+r3jqkcU/5h99k6ZBzj88bCIzFzjVP4enV8oyxN0//yH99nXg5D8qOpLLf0jtP5kqGJXUifQ/c9cS8kHP/D+/DpwzojQEQIEmwoanVwxA4lgXt9HgE0BSSZ2AJuIbQAMJih9jjiNA5q4l5INuK0AwTKYKRj0zQNv5fmq8/DpAaCJseHrtQkB/+zpwzoxKQM3MzMzMeFJAZmZmZmZqWEAAAAAAAFxeQM3MzMzMJmJAmpmZmZkfZUBmZmZmZhhoQDMzMzMzEWtAAAAAAAAKbkBmZmZmZoFwQM3MzMzM/XFAMzMzMzN6c0CamZmZmfZ0QAAAAAAAc3ZAZmZmZmbvd0DNzMzMzGt5QDMzMzMz6HpAmpmZmZlkfEAAAAAAAOF9QGZmZmZmXX9AZmZmZuZsgECamZmZGSuBQM3MzMxM6YFAAAAAAICngkAzMzMzs2WDQGZmZmbmI4RAmpmZmRnihEDNzMzMTKCFQAAAAACAXoZAMzMzM7Mch0BmZmZm5tqHQJqZmZkZmYhAzczMzExXiUAAAAAAgBWKQDMzMzOz04pAZmZmZuaRi0CamZmZGVCMQM3MzMxMDo1AAAAAAIDMjUAzMzMzs4qOQGZmZmbmSI9A\",\"dtype\":\"float64\",\"shape\":[75]}},\"selected\":{\"id\":\"26b64f2b-fcd5-42e3-b97b-01612436df77\",\"type\":\"Selection\"},\"selection_policy\":{\"id\":\"fdfd75f4-11ab-4b7a-9488-55a4322aefc6\",\"type\":\"UnionRenderers\"}},\"id\":\"38589f1a-6fbc-4da6-bd6e-a2c9789788c0\",\"type\":\"ColumnDataSource\"},{\"attributes\":{\"plot\":null,\"text\":\"Linear pressure scale\"},\"id\":\"02c673a7-0cc7-40c3-bc64-3616318c5a9b\",\"type\":\"Title\"},{\"attributes\":{},\"id\":\"492cd142-2970-40d3-9cfa-fa001be60c6a\",\"type\":\"ResetTool\"},{\"attributes\":{\"callback\":null,\"data\":{\"x\":{\"__ndarray__\":\"S27eQXYaVb8g2xxp3BtUvzNVziQT81G/0Gf7MdgWT7++y20uaM5Jv+X4CfikA0S/qLn3eiVYO78pQYCw3/Yqvz8Vu22h+Pk+EC183i4QMj8OmWzSS/dBP5gK7Nghqks/Ld2zHt0QUz98a3D7Vg1YP+sW8wanJFw/vW9eTiDbXz9SiYB9U9xhP8JWlAgQ4mM/SPb7U2AAZj8ejL4cmzhoP/qMXbyFUGo/zoe9UgrBaD8TV9ksk7BiPxuIeRduR1g/DlwPrtofSj9OmXw2bNMrPxYanL5TuzK/KptoPx6jRb/6t63fY59NvyLy9/lRx1G/0TDa/mxfVL/X7YUkoHJWv0HvpgfAGVe/o2QT1EBQVr9HQWzAUiNVvzn/lguT7FO/UKn4WYr/Ur/AOxeUUuFSv0MRXryQ51K/rwSMVoD7Ur+8r8Sn6w5Tv91tw1E+MFO/ZmHrNDtbU7+bIVTviWpTvxkpCQHoVFO/C9Kx51AdUr8b0w2iDLJOv7m5SWy9dke/wVBZm9u9P7+tvPZ4Oz4wv5KwyTSCjN++M2azp3vdLT/2JSo64xI/P5dM3HoflUc/TPHdHnqZTz9u1TPV87RTPzdCIpA7g1c/z6i97AVEWz+Eknw/UtheP7MborekHWE/0NzVt4SmYj8bqn0R6CBkP2KbIGcrgWU/7kgoRuXJZj9z2TQr5flnP+oVb5RXD2k/dGFKOkgcaj9s8/qoSghrPx6ujgBLvms/UrCbWRgQbD/J24B9o/5rP5kUSh/tkWs/DujWOffvaj/S59Y0PjZqPywNWNA9bWk/\",\"dtype\":\"float64\",\"shape\":[75]},\"y\":{\"__ndarray__\":\"GhExyth1ND/Sv8nbtpRIP2vylNV0PVE/aTum7souWD/At0SJ8fVgPw3Iuahxymc/MSNhhJWvcD/bTfBN02d3P2zb5nxnaoA/CD5h5MAGhz8NmeH1TyaQP+zrCsc9p5Y/LbKd76fGnz/bLW5ISEmmPww9YvTcQq8/JV2OstnstT8Er5Y7M8G+P0c+r3jqkcU/5h99k6ZBzj88bCIzFzjVP4enV8oyxN0//yH99nXg5D8qOpLLf0jtP5kqGJXUifQ/c9cS8kHP/D+/DpwzojQEQIEmwoanVwxA4lgXt9HgE0BSSZ2AJuIbQAMJih9jjiNA5q4l5INuK0AwTKYKRj0zQNv5fmq8/DpAaCJseHrtQkB/+zpwzoxKQM3MzMzMeFJAZmZmZmZqWEAAAAAAAFxeQM3MzMzMJmJAmpmZmZkfZUBmZmZmZhhoQDMzMzMzEWtAAAAAAAAKbkBmZmZmZoFwQM3MzMzM/XFAMzMzMzN6c0CamZmZmfZ0QAAAAAAAc3ZAZmZmZmbvd0DNzMzMzGt5QDMzMzMz6HpAmpmZmZlkfEAAAAAAAOF9QGZmZmZmXX9AZmZmZuZsgECamZmZGSuBQM3MzMxM6YFAAAAAAICngkAzMzMzs2WDQGZmZmbmI4RAmpmZmRnihEDNzMzMTKCFQAAAAACAXoZAMzMzM7Mch0BmZmZm5tqHQJqZmZkZmYhAzczMzExXiUAAAAAAgBWKQDMzMzOz04pAZmZmZuaRi0CamZmZGVCMQM3MzMxMDo1AAAAAAIDMjUAzMzMzs4qOQGZmZmbmSI9A\",\"dtype\":\"float64\",\"shape\":[75]}},\"selected\":{\"id\":\"885434cd-f656-47b9-bbe2-7ade484f4908\",\"type\":\"Selection\"},\"selection_policy\":{\"id\":\"bb769901-ffaf-4a09-8b69-739fd1da6a7e\",\"type\":\"UnionRenderers\"}},\"id\":\"1ae572ff-8ee0-4295-a399-630ae765f935\",\"type\":\"ColumnDataSource\"},{\"attributes\":{\"data_source\":{\"id\":\"51ac1b18-0623-4fc2-ac2c-b1d4c7465fec\",\"type\":\"ColumnDataSource\"},\"glyph\":{\"id\":\"2c29a0ea-7796-4d80-96f2-5e6aa6750f33\",\"type\":\"Circle\"},\"hover_glyph\":null,\"muted_glyph\":null,\"nonselection_glyph\":{\"id\":\"998b1259-818e-4f90-997b-65b13d80efe2\",\"type\":\"Circle\"},\"selection_glyph\":null,\"view\":{\"id\":\"df2b3aa5-16a6-40dc-9333-e29835eda894\",\"type\":\"CDSView\"}},\"id\":\"7c6e2846-d3e3-4254-a2e2-89346a51f956\",\"type\":\"GlyphRenderer\"},{\"attributes\":{\"line_alpha\":0.1,\"line_color\":\"#1f77b4\",\"line_width\":1.5,\"x\":{\"field\":\"x\"},\"y\":{\"field\":\"y\"}},\"id\":\"9bd2b305-cf3e-49e5-964d-bb96ed58e53f\",\"type\":\"Line\"},{\"attributes\":{\"line_color\":\"#4daf4a\",\"line_width\":1.5,\"x\":{\"field\":\"x\"},\"y\":{\"field\":\"y\"}},\"id\":\"adea9ead-c20f-40ee-bd2b-de8ca2792cf9\",\"type\":\"Line\"},{\"attributes\":{},\"id\":\"b390ebe8-4e91-48bf-bc39-0e37c917c47b\",\"type\":\"LinearScale\"},{\"attributes\":{\"source\":{\"id\":\"51ac1b18-0623-4fc2-ac2c-b1d4c7465fec\",\"type\":\"ColumnDataSource\"}},\"id\":\"df2b3aa5-16a6-40dc-9333-e29835eda894\",\"type\":\"CDSView\"},{\"attributes\":{\"below\":[{\"id\":\"6527e539-a9b2-4250-9e6c-8352bd276483\",\"type\":\"LinearAxis\"}],\"left\":[{\"id\":\"efd1f516-8e88-4b68-acdf-c174ade3e2dd\",\"type\":\"LogAxis\"}],\"plot_height\":500,\"plot_width\":560,\"renderers\":[{\"id\":\"6527e539-a9b2-4250-9e6c-8352bd276483\",\"type\":\"LinearAxis\"},{\"id\":\"238925c3-779b-4753-8510-e9084bcf5722\",\"type\":\"Grid\"},{\"id\":\"efd1f516-8e88-4b68-acdf-c174ade3e2dd\",\"type\":\"LogAxis\"},{\"id\":\"3ef92458-b9e3-4168-b665-0de18440bc24\",\"type\":\"Grid\"},{\"id\":\"bedc7562-a7df-4278-894e-8fcf478d0a7b\",\"type\":\"BoxAnnotation\"},{\"id\":\"563125a4-c595-4122-a625-a52e14cf9be5\",\"type\":\"GlyphRenderer\"},{\"id\":\"7c6e2846-d3e3-4254-a2e2-89346a51f956\",\"type\":\"GlyphRenderer\"},{\"id\":\"a5a0c6b8-2e8d-432e-86f2-208fb20bf762\",\"type\":\"GlyphRenderer\"},{\"id\":\"433693c2-882e-4bf2-9e4b-6e2746a06bc2\",\"type\":\"GlyphRenderer\"},{\"id\":\"17e590ae-5518-427e-9578-887438a57a3f\",\"type\":\"GlyphRenderer\"},{\"id\":\"6026dc89-2a30-4aed-b692-4b1da0cd858a\",\"type\":\"Legend\"}],\"right\":[{\"id\":\"6026dc89-2a30-4aed-b692-4b1da0cd858a\",\"type\":\"Legend\"}],\"title\":{\"id\":\"6e381612-919b-41f0-99dd-afeab02e887a\",\"type\":\"Title\"},\"toolbar\":{\"id\":\"085efcd7-a3b1-405f-b206-1156b2ddd6af\",\"type\":\"Toolbar\"},\"toolbar_location\":null,\"x_range\":{\"id\":\"2508b3b0-93f1-4f7c-a4cd-b1cd7b721dba\",\"type\":\"Range1d\"},\"x_scale\":{\"id\":\"15033541-c02e-4a09-a6b2-c5c17a1109ac\",\"type\":\"LinearScale\"},\"y_range\":{\"id\":\"721a5932-d2f6-4fcb-85ce-586055fefa86\",\"type\":\"Range1d\"},\"y_scale\":{\"id\":\"2567449c-9807-4341-bd02-0239788be759\",\"type\":\"LogScale\"}},\"id\":\"41e5c2f3-ffa4-4d13-9ba6-1a38a5a8bc1a\",\"subtype\":\"Figure\",\"type\":\"Plot\"},{\"attributes\":{\"line_color\":\"#4daf4a\",\"line_width\":1.5,\"x\":{\"field\":\"x\"},\"y\":{\"field\":\"y\"}},\"id\":\"65b1ce3c-b020-4a1c-b627-2b0f6be0f91b\",\"type\":\"Line\"},{\"attributes\":{\"fill_alpha\":{\"value\":0.7},\"fill_color\":{\"value\":\"#4daf4a\"},\"line_alpha\":{\"value\":0.7},\"line_color\":{\"value\":\"#4daf4a\"},\"x\":{\"field\":\"x\"},\"y\":{\"field\":\"y\"}},\"id\":\"2c29a0ea-7796-4d80-96f2-5e6aa6750f33\",\"type\":\"Circle\"},{\"attributes\":{\"axis_label\":\"cooling rate [K/day]\",\"formatter\":{\"id\":\"ae81410c-cb13-4e9a-b5d3-a9ee3526fce6\",\"type\":\"BasicTickFormatter\"},\"plot\":{\"id\":\"89b79cdb-180a-40c4-876d-4253b5126992\",\"subtype\":\"Figure\",\"type\":\"Plot\"},\"ticker\":{\"id\":\"e146bf05-e8b2-4bd1-8176-d1e449a3cb16\",\"type\":\"BasicTicker\"}},\"id\":\"9801ca10-f195-4b06-b8de-f40290f622f0\",\"type\":\"LinearAxis\"},{\"attributes\":{\"callback\":null,\"data\":{\"x\":{\"__ndarray__\":\"/Qmu+uPLOb/9WIlQq4Y1vxs+Iv54iCi/UqGC1mWV/76jqFmopp4iPwEnl6MgqDU/qeaj92mRQT9Okhy6fOlIP3I7xNeIdFA/xcYfufPMVD8k5F9qlIVZP7senRqupV4/A+vz8mYWYj/Yj6A6TrhkP7Tyyc0i4mY/cmdUULnYaD/2fr8pR+BqP+g1EjoK/Ww/uJtxbA4vbz9lBa5Pmr1wP8Rm5lu90HE/swd4IJv1cD8LzI+ig3NrP7ohX2TvdWQ/l+UJ0nXyXD+VBGWxjbNSPzJeIHV170M/N0kTECXFKj+NI9VY4CoRv3Ti6iJcHTK/CE4lS6//Pr+5cxibzlNFv8OFwQv/t0i/FM8psOKRSb+IRxTI9v1Jv47MO0DLiUq/4T5deFNgS79b9bhWuQFNvxv7/FsaCU+/LmfdYNtrUL/4NJTLYDtRv10nanPg+FG/YuX9o2KoUr8P5Do0jktTvxsUs/hyulO/BvN+tCTtUr83NvrlllhQv703CO851Em/z3j6SuyZQr/bZIzDJFI2vyaHzX7JXRy/4FK8qfjXID8BIzqqxiQ4PyIBM2FR/UM/bV9Ztu/nSz97TwkyAOBRP5EFyjqcuFU/C4YASgZzWT+maHBR6QRdPxvOe+r4MmA/+Yi//hDIYT8M9n09AUJjPzhWNrD0oWQ/FTeRiXLqZT/5KosXCh5nPxpj3uVNPmg/Wc2a52ZJaT+dO416YDVqP2u/qQ5I6Wo/dZzhGTtAaz/u8ORFcCRrPzhagAAaqGo/wwpgV0b0aT9DNLzNIippP+T4WLOyWmg/\",\"dtype\":\"float64\",\"shape\":[75]},\"y\":{\"__ndarray__\":\"GhExyth1ND/Sv8nbtpRIP2vylNV0PVE/aTum7souWD/At0SJ8fVgPw3Iuahxymc/MSNhhJWvcD/bTfBN02d3P2zb5nxnaoA/CD5h5MAGhz8NmeH1TyaQP+zrCsc9p5Y/LbKd76fGnz/bLW5ISEmmPww9YvTcQq8/JV2OstnstT8Er5Y7M8G+P0c+r3jqkcU/5h99k6ZBzj88bCIzFzjVP4enV8oyxN0//yH99nXg5D8qOpLLf0jtP5kqGJXUifQ/c9cS8kHP/D+/DpwzojQEQIEmwoanVwxA4lgXt9HgE0BSSZ2AJuIbQAMJih9jjiNA5q4l5INuK0AwTKYKRj0zQNv5fmq8/DpAaCJseHrtQkB/+zpwzoxKQM3MzMzMeFJAZmZmZmZqWEAAAAAAAFxeQM3MzMzMJmJAmpmZmZkfZUBmZmZmZhhoQDMzMzMzEWtAAAAAAAAKbkBmZmZmZoFwQM3MzMzM/XFAMzMzMzN6c0CamZmZmfZ0QAAAAAAAc3ZAZmZmZmbvd0DNzMzMzGt5QDMzMzMz6HpAmpmZmZlkfEAAAAAAAOF9QGZmZmZmXX9AZmZmZuZsgECamZmZGSuBQM3MzMxM6YFAAAAAAICngkAzMzMzs2WDQGZmZmbmI4RAmpmZmRnihEDNzMzMTKCFQAAAAACAXoZAMzMzM7Mch0BmZmZm5tqHQJqZmZkZmYhAzczMzExXiUAAAAAAgBWKQDMzMzOz04pAZmZmZuaRi0CamZmZGVCMQM3MzMxMDo1AAAAAAIDMjUAzMzMzs4qOQGZmZmbmSI9A\",\"dtype\":\"float64\",\"shape\":[75]}},\"selected\":{\"id\":\"a2aff597-158c-4ad0-8656-19ec47854ddd\",\"type\":\"Selection\"},\"selection_policy\":{\"id\":\"b1d87beb-a517-4e57-b26d-ad3c988f4ba3\",\"type\":\"UnionRenderers\"}},\"id\":\"42cafe32-fdc8-4a9f-9422-b75d04f7b955\",\"type\":\"ColumnDataSource\"},{\"attributes\":{\"line_alpha\":0.1,\"line_color\":\"#1f77b4\",\"line_width\":1.5,\"x\":{\"field\":\"x\"},\"y\":{\"field\":\"y\"}},\"id\":\"cb7d2500-e767-42b4-aab9-4992a4f6af6e\",\"type\":\"Line\"},{\"attributes\":{},\"id\":\"e146bf05-e8b2-4bd1-8176-d1e449a3cb16\",\"type\":\"BasicTicker\"},{\"attributes\":{\"data_source\":{\"id\":\"42cafe32-fdc8-4a9f-9422-b75d04f7b955\",\"type\":\"ColumnDataSource\"},\"glyph\":{\"id\":\"adea9ead-c20f-40ee-bd2b-de8ca2792cf9\",\"type\":\"Line\"},\"hover_glyph\":null,\"muted_glyph\":null,\"nonselection_glyph\":{\"id\":\"cb7d2500-e767-42b4-aab9-4992a4f6af6e\",\"type\":\"Line\"},\"selection_glyph\":null,\"view\":{\"id\":\"291831b8-ec4d-45c2-8be9-b6fa2ef518c2\",\"type\":\"CDSView\"}},\"id\":\"a5a0c6b8-2e8d-432e-86f2-208fb20bf762\",\"type\":\"GlyphRenderer\"},{\"attributes\":{},\"id\":\"e13dc6f5-4ce8-49e6-8700-fb9f20c715c8\",\"type\":\"HelpTool\"},{\"attributes\":{\"data_source\":{\"id\":\"3030ec90-9c4d-470f-af9d-bf33673b4850\",\"type\":\"ColumnDataSource\"},\"glyph\":{\"id\":\"65b1ce3c-b020-4a1c-b627-2b0f6be0f91b\",\"type\":\"Line\"},\"hover_glyph\":null,\"muted_glyph\":null,\"nonselection_glyph\":{\"id\":\"9bd2b305-cf3e-49e5-964d-bb96ed58e53f\",\"type\":\"Line\"},\"selection_glyph\":null,\"view\":{\"id\":\"560531f8-f1d8-459a-93b0-8ad2564faab3\",\"type\":\"CDSView\"}},\"id\":\"fd8a01e4-9e8f-4668-976b-2ee5b7db6826\",\"type\":\"GlyphRenderer\"},{\"attributes\":{\"source\":{\"id\":\"42cafe32-fdc8-4a9f-9422-b75d04f7b955\",\"type\":\"ColumnDataSource\"}},\"id\":\"291831b8-ec4d-45c2-8be9-b6fa2ef518c2\",\"type\":\"CDSView\"},{\"attributes\":{},\"id\":\"532f498f-9fe5-4b65-979b-9aee3cb6f6c1\",\"type\":\"LinearScale\"},{\"attributes\":{\"line_alpha\":0.6,\"line_color\":\"#984ea3\",\"line_width\":3,\"x\":{\"field\":\"x\"},\"y\":{\"field\":\"y\"}},\"id\":\"17dcba67-cccb-4bfa-ab67-4fc1e202a361\",\"type\":\"Line\"},{\"attributes\":{\"children\":[{\"id\":\"834537e4-c4e3-466c-8cde-1c9ce8992427\",\"type\":\"Row\"}]},\"id\":\"50723ca3-0271-40d9-889f-c12c28696ecc\",\"type\":\"Column\"},{\"attributes\":{},\"id\":\"39d9c5cd-6174-41c2-b78b-49d250daf966\",\"type\":\"WheelZoomTool\"},{\"attributes\":{\"data_source\":{\"id\":\"b579587f-d1d0-4820-ab56-b9799a50788f\",\"type\":\"ColumnDataSource\"},\"glyph\":{\"id\":\"17dcba67-cccb-4bfa-ab67-4fc1e202a361\",\"type\":\"Line\"},\"hover_glyph\":null,\"muted_glyph\":null,\"nonselection_glyph\":{\"id\":\"303db30c-3a9d-4870-8457-68f13c0ae2c6\",\"type\":\"Line\"},\"selection_glyph\":null,\"view\":{\"id\":\"2bfc5dce-cc5d-4bd4-8f60-7945d930136f\",\"type\":\"CDSView\"}},\"id\":\"17e590ae-5518-427e-9578-887438a57a3f\",\"type\":\"GlyphRenderer\"},{\"attributes\":{\"line_alpha\":0.6,\"line_color\":\"#e41a1c\",\"line_dash\":[6],\"line_width\":5,\"x\":{\"field\":\"x\"},\"y\":{\"field\":\"y\"}},\"id\":\"707418e6-b209-46a7-82fa-abe7c42dbf4e\",\"type\":\"Line\"},{\"attributes\":{\"source\":{\"id\":\"b579587f-d1d0-4820-ab56-b9799a50788f\",\"type\":\"ColumnDataSource\"}},\"id\":\"2bfc5dce-cc5d-4bd4-8f60-7945d930136f\",\"type\":\"CDSView\"},{\"attributes\":{\"children\":[{\"id\":\"89b79cdb-180a-40c4-876d-4253b5126992\",\"subtype\":\"Figure\",\"type\":\"Plot\"},{\"id\":\"41e5c2f3-ffa4-4d13-9ba6-1a38a5a8bc1a\",\"subtype\":\"Figure\",\"type\":\"Plot\"}]},\"id\":\"834537e4-c4e3-466c-8cde-1c9ce8992427\",\"type\":\"Row\"},{\"attributes\":{},\"id\":\"fdfd75f4-11ab-4b7a-9488-55a4322aefc6\",\"type\":\"UnionRenderers\"},{\"attributes\":{\"line_alpha\":0.1,\"line_color\":\"#1f77b4\",\"line_dash\":[6],\"line_width\":5,\"x\":{\"field\":\"x\"},\"y\":{\"field\":\"y\"}},\"id\":\"ff21e0a7-1dfa-42e2-93a4-921e08aefb4c\",\"type\":\"Line\"},{\"attributes\":{\"label\":{\"value\":\"CLIRAD `coolr_bands`\"},\"renderers\":[{\"id\":\"563125a4-c595-4122-a625-a52e14cf9be5\",\"type\":\"GlyphRenderer\"}]},\"id\":\"750fcdcd-7305-4d40-9967-8be00ff7773c\",\"type\":\"LegendItem\"},{\"attributes\":{},\"id\":\"26b64f2b-fcd5-42e3-b97b-01612436df77\",\"type\":\"Selection\"},{\"attributes\":{\"overlay\":{\"id\":\"4c7b0583-10d4-44c1-8e3a-600d9a3271f4\",\"type\":\"BoxAnnotation\"}},\"id\":\"1f9dad26-8e34-457f-a188-b2e3f60ca7c8\",\"type\":\"BoxZoomTool\"},{\"attributes\":{\"label\":{\"value\":\"CRD\"},\"renderers\":[{\"id\":\"7c6e2846-d3e3-4254-a2e2-89346a51f956\",\"type\":\"GlyphRenderer\"},{\"id\":\"a5a0c6b8-2e8d-432e-86f2-208fb20bf762\",\"type\":\"GlyphRenderer\"}]},\"id\":\"939c9fac-c936-4566-aabd-d684c80473b8\",\"type\":\"LegendItem\"},{\"attributes\":{},\"id\":\"2841c8ec-2dbb-41a3-9fd6-42b2ecdaae66\",\"type\":\"Selection\"},{\"attributes\":{\"callback\":null,\"end\":0.003472801535,\"start\":-0.001337318035},\"id\":\"c7c1bd44-5fca-4cdf-89b8-3308fe4675bf\",\"type\":\"Range1d\"},{\"attributes\":{\"source\":{\"id\":\"251808a3-7f89-4273-bc20-2b40271488d2\",\"type\":\"ColumnDataSource\"}},\"id\":\"58e0afe1-75e9-4508-b008-1d4170cbdf78\",\"type\":\"CDSView\"},{\"attributes\":{\"label\":{\"value\":\"WGT igg=10 wgt_flux=2\"},\"renderers\":[{\"id\":\"433693c2-882e-4bf2-9e4b-6e2746a06bc2\",\"type\":\"GlyphRenderer\"},{\"id\":\"17e590ae-5518-427e-9578-887438a57a3f\",\"type\":\"GlyphRenderer\"}]},\"id\":\"37c7307d-7556-4866-8d8e-3684b4e7f3a0\",\"type\":\"LegendItem\"},{\"attributes\":{},\"id\":\"2f4ba759-c207-456c-a1ae-981d2c15b4d9\",\"type\":\"Selection\"},{\"attributes\":{},\"id\":\"050ec54e-0dad-473a-801a-a14fcb2b06a3\",\"type\":\"BasicTickFormatter\"},{\"attributes\":{},\"id\":\"ae81410c-cb13-4e9a-b5d3-a9ee3526fce6\",\"type\":\"BasicTickFormatter\"},{\"attributes\":{},\"id\":\"bfb20470-3f9a-479a-8571-23e13d96ebe8\",\"type\":\"UnionRenderers\"},{\"attributes\":{\"callback\":null,\"data\":{\"x\":{\"__ndarray__\":\"/Qmu+uPLOb/9WIlQq4Y1vxs+Iv54iCi/UqGC1mWV/76jqFmopp4iPwEnl6MgqDU/qeaj92mRQT9Okhy6fOlIP3I7xNeIdFA/xcYfufPMVD8k5F9qlIVZP7senRqupV4/A+vz8mYWYj/Yj6A6TrhkP7Tyyc0i4mY/cmdUULnYaD/2fr8pR+BqP+g1EjoK/Ww/uJtxbA4vbz9lBa5Pmr1wP8Rm5lu90HE/swd4IJv1cD8LzI+ig3NrP7ohX2TvdWQ/l+UJ0nXyXD+VBGWxjbNSPzJeIHV170M/N0kTECXFKj+NI9VY4CoRv3Ti6iJcHTK/CE4lS6//Pr+5cxibzlNFv8OFwQv/t0i/FM8psOKRSb+IRxTI9v1Jv47MO0DLiUq/4T5deFNgS79b9bhWuQFNvxv7/FsaCU+/LmfdYNtrUL/4NJTLYDtRv10nanPg+FG/YuX9o2KoUr8P5Do0jktTvxsUs/hyulO/BvN+tCTtUr83NvrlllhQv703CO851Em/z3j6SuyZQr/bZIzDJFI2vyaHzX7JXRy/4FK8qfjXID8BIzqqxiQ4PyIBM2FR/UM/bV9Ztu/nSz97TwkyAOBRP5EFyjqcuFU/C4YASgZzWT+maHBR6QRdPxvOe+r4MmA/+Yi//hDIYT8M9n09AUJjPzhWNrD0oWQ/FTeRiXLqZT/5KosXCh5nPxpj3uVNPmg/Wc2a52ZJaT+dO416YDVqP2u/qQ5I6Wo/dZzhGTtAaz/u8ORFcCRrPzhagAAaqGo/wwpgV0b0aT9DNLzNIippP+T4WLOyWmg/\",\"dtype\":\"float64\",\"shape\":[75]},\"y\":{\"__ndarray__\":\"GhExyth1ND/Sv8nbtpRIP2vylNV0PVE/aTum7souWD/At0SJ8fVgPw3Iuahxymc/MSNhhJWvcD/bTfBN02d3P2zb5nxnaoA/CD5h5MAGhz8NmeH1TyaQP+zrCsc9p5Y/LbKd76fGnz/bLW5ISEmmPww9YvTcQq8/JV2OstnstT8Er5Y7M8G+P0c+r3jqkcU/5h99k6ZBzj88bCIzFzjVP4enV8oyxN0//yH99nXg5D8qOpLLf0jtP5kqGJXUifQ/c9cS8kHP/D+/DpwzojQEQIEmwoanVwxA4lgXt9HgE0BSSZ2AJuIbQAMJih9jjiNA5q4l5INuK0AwTKYKRj0zQNv5fmq8/DpAaCJseHrtQkB/+zpwzoxKQM3MzMzMeFJAZmZmZmZqWEAAAAAAAFxeQM3MzMzMJmJAmpmZmZkfZUBmZmZmZhhoQDMzMzMzEWtAAAAAAAAKbkBmZmZmZoFwQM3MzMzM/XFAMzMzMzN6c0CamZmZmfZ0QAAAAAAAc3ZAZmZmZmbvd0DNzMzMzGt5QDMzMzMz6HpAmpmZmZlkfEAAAAAAAOF9QGZmZmZmXX9AZmZmZuZsgECamZmZGSuBQM3MzMxM6YFAAAAAAICngkAzMzMzs2WDQGZmZmbmI4RAmpmZmRnihEDNzMzMTKCFQAAAAACAXoZAMzMzM7Mch0BmZmZm5tqHQJqZmZkZmYhAzczMzExXiUAAAAAAgBWKQDMzMzOz04pAZmZmZuaRi0CamZmZGVCMQM3MzMxMDo1AAAAAAIDMjUAzMzMzs4qOQGZmZmbmSI9A\",\"dtype\":\"float64\",\"shape\":[75]}},\"selected\":{\"id\":\"2841c8ec-2dbb-41a3-9fd6-42b2ecdaae66\",\"type\":\"Selection\"},\"selection_policy\":{\"id\":\"8cd4ec3c-a75b-4f0e-a065-7653a502410c\",\"type\":\"UnionRenderers\"}},\"id\":\"251808a3-7f89-4273-bc20-2b40271488d2\",\"type\":\"ColumnDataSource\"},{\"attributes\":{},\"id\":\"e42c6790-e4f8-4f5a-842c-8d1444748b3c\",\"type\":\"BasicTickFormatter\"},{\"attributes\":{\"source\":{\"id\":\"38589f1a-6fbc-4da6-bd6e-a2c9789788c0\",\"type\":\"ColumnDataSource\"}},\"id\":\"7cf8b96a-0f3f-4b9d-a5aa-c73bdac81d5e\",\"type\":\"CDSView\"},{\"attributes\":{},\"id\":\"d964ec40-f71a-4387-a188-9487603ebcd7\",\"type\":\"Selection\"},{\"attributes\":{\"plot\":{\"id\":\"89b79cdb-180a-40c4-876d-4253b5126992\",\"subtype\":\"Figure\",\"type\":\"Plot\"},\"ticker\":{\"id\":\"e146bf05-e8b2-4bd1-8176-d1e449a3cb16\",\"type\":\"BasicTicker\"}},\"id\":\"a4043414-3aa1-4b84-9806-6973d42bf119\",\"type\":\"Grid\"},{\"attributes\":{\"fill_alpha\":{\"value\":0.7},\"fill_color\":{\"value\":\"#984ea3\"},\"line_alpha\":{\"value\":0.7},\"line_color\":{\"value\":\"#984ea3\"},\"x\":{\"field\":\"x\"},\"y\":{\"field\":\"y\"}},\"id\":\"b77bacf9-d9d4-476d-8652-e9942829801d\",\"type\":\"Square\"},{\"attributes\":{},\"id\":\"e50ba990-b0e4-428f-9962-de9f848d5115\",\"type\":\"UnionRenderers\"},{\"attributes\":{},\"id\":\"564fc180-9692-40ef-8aae-45c5e4a1fde3\",\"type\":\"Selection\"},{\"attributes\":{},\"id\":\"93efac48-f4d7-448f-aaad-49d6767de27d\",\"type\":\"BasicTicker\"},{\"attributes\":{},\"id\":\"1b67673c-8395-4475-8f8a-f91299c4b8f7\",\"type\":\"Selection\"},{\"attributes\":{\"toolbar\":{\"id\":\"bfe3c2f0-67ac-4567-a975-fd4081b6c7d0\",\"type\":\"ProxyToolbar\"},\"toolbar_location\":\"above\"},\"id\":\"3dc3af21-8adc-4f5a-8885-328684ed862f\",\"type\":\"ToolbarBox\"},{\"attributes\":{\"axis_label\":\"pressure [mb]\",\"formatter\":{\"id\":\"050ec54e-0dad-473a-801a-a14fcb2b06a3\",\"type\":\"BasicTickFormatter\"},\"plot\":{\"id\":\"89b79cdb-180a-40c4-876d-4253b5126992\",\"subtype\":\"Figure\",\"type\":\"Plot\"},\"ticker\":{\"id\":\"93efac48-f4d7-448f-aaad-49d6767de27d\",\"type\":\"BasicTicker\"}},\"id\":\"7c7541ee-a731-4f74-97db-68f37e73411d\",\"type\":\"LinearAxis\"},{\"attributes\":{\"ticker\":null},\"id\":\"8726a0d9-97bf-4849-895f-5bf635c347e5\",\"type\":\"LogTickFormatter\"},{\"attributes\":{},\"id\":\"a3abaa18-313a-4da5-8a07-6986014ce5ba\",\"type\":\"UnionRenderers\"},{\"attributes\":{},\"id\":\"42189cff-61b1-40f1-b796-755e26235dba\",\"type\":\"UnionRenderers\"},{\"attributes\":{},\"id\":\"1e808d44-f3af-4fe8-87ad-b40fb72cea25\",\"type\":\"Selection\"},{\"attributes\":{\"callback\":null,\"data\":{\"x\":{\"__ndarray__\":\"/Qmu+uPLOb/9WIlQq4Y1vxs+Iv54iCi/UqGC1mWV/76jqFmopp4iPwEnl6MgqDU/qeaj92mRQT9Okhy6fOlIP3I7xNeIdFA/xcYfufPMVD8k5F9qlIVZP7senRqupV4/A+vz8mYWYj/Yj6A6TrhkP7Tyyc0i4mY/cmdUULnYaD/2fr8pR+BqP+g1EjoK/Ww/uJtxbA4vbz9lBa5Pmr1wP8Rm5lu90HE/swd4IJv1cD8LzI+ig3NrP7ohX2TvdWQ/l+UJ0nXyXD+VBGWxjbNSPzJeIHV170M/N0kTECXFKj+NI9VY4CoRv3Ti6iJcHTK/CE4lS6//Pr+5cxibzlNFv8OFwQv/t0i/FM8psOKRSb+IRxTI9v1Jv47MO0DLiUq/4T5deFNgS79b9bhWuQFNvxv7/FsaCU+/LmfdYNtrUL/4NJTLYDtRv10nanPg+FG/YuX9o2KoUr8P5Do0jktTvxsUs/hyulO/BvN+tCTtUr83NvrlllhQv703CO851Em/z3j6SuyZQr/bZIzDJFI2vyaHzX7JXRy/4FK8qfjXID8BIzqqxiQ4PyIBM2FR/UM/bV9Ztu/nSz97TwkyAOBRP5EFyjqcuFU/C4YASgZzWT+maHBR6QRdPxvOe+r4MmA/+Yi//hDIYT8M9n09AUJjPzhWNrD0oWQ/FTeRiXLqZT/5KosXCh5nPxpj3uVNPmg/Wc2a52ZJaT+dO416YDVqP2u/qQ5I6Wo/dZzhGTtAaz/u8ORFcCRrPzhagAAaqGo/wwpgV0b0aT9DNLzNIippP+T4WLOyWmg/\",\"dtype\":\"float64\",\"shape\":[75]},\"y\":{\"__ndarray__\":\"GhExyth1ND/Sv8nbtpRIP2vylNV0PVE/aTum7souWD/At0SJ8fVgPw3Iuahxymc/MSNhhJWvcD/bTfBN02d3P2zb5nxnaoA/CD5h5MAGhz8NmeH1TyaQP+zrCsc9p5Y/LbKd76fGnz/bLW5ISEmmPww9YvTcQq8/JV2OstnstT8Er5Y7M8G+P0c+r3jqkcU/5h99k6ZBzj88bCIzFzjVP4enV8oyxN0//yH99nXg5D8qOpLLf0jtP5kqGJXUifQ/c9cS8kHP/D+/DpwzojQEQIEmwoanVwxA4lgXt9HgE0BSSZ2AJuIbQAMJih9jjiNA5q4l5INuK0AwTKYKRj0zQNv5fmq8/DpAaCJseHrtQkB/+zpwzoxKQM3MzMzMeFJAZmZmZmZqWEAAAAAAAFxeQM3MzMzMJmJAmpmZmZkfZUBmZmZmZhhoQDMzMzMzEWtAAAAAAAAKbkBmZmZmZoFwQM3MzMzM/XFAMzMzMzN6c0CamZmZmfZ0QAAAAAAAc3ZAZmZmZmbvd0DNzMzMzGt5QDMzMzMz6HpAmpmZmZlkfEAAAAAAAOF9QGZmZmZmXX9AZmZmZuZsgECamZmZGSuBQM3MzMxM6YFAAAAAAICngkAzMzMzs2WDQGZmZmbmI4RAmpmZmRnihEDNzMzMTKCFQAAAAACAXoZAMzMzM7Mch0BmZmZm5tqHQJqZmZkZmYhAzczMzExXiUAAAAAAgBWKQDMzMzOz04pAZmZmZuaRi0CamZmZGVCMQM3MzMxMDo1AAAAAAIDMjUAzMzMzs4qOQGZmZmbmSI9A\",\"dtype\":\"float64\",\"shape\":[75]}},\"selected\":{\"id\":\"2f4ba759-c207-456c-a1ae-981d2c15b4d9\",\"type\":\"Selection\"},\"selection_policy\":{\"id\":\"909a58d5-6846-44ad-a895-f67516dfd03b\",\"type\":\"UnionRenderers\"}},\"id\":\"3030ec90-9c4d-470f-af9d-bf33673b4850\",\"type\":\"ColumnDataSource\"},{\"attributes\":{},\"id\":\"cbb834ad-0716-4fd7-b548-cd3885b48396\",\"type\":\"UnionRenderers\"},{\"attributes\":{\"below\":[{\"id\":\"9801ca10-f195-4b06-b8de-f40290f622f0\",\"type\":\"LinearAxis\"}],\"left\":[{\"id\":\"7c7541ee-a731-4f74-97db-68f37e73411d\",\"type\":\"LinearAxis\"}],\"plot_height\":500,\"plot_width\":400,\"renderers\":[{\"id\":\"9801ca10-f195-4b06-b8de-f40290f622f0\",\"type\":\"LinearAxis\"},{\"id\":\"a4043414-3aa1-4b84-9806-6973d42bf119\",\"type\":\"Grid\"},{\"id\":\"7c7541ee-a731-4f74-97db-68f37e73411d\",\"type\":\"LinearAxis\"},{\"id\":\"04159c77-952b-4a1b-8f51-a77ecabee904\",\"type\":\"Grid\"},{\"id\":\"4c7b0583-10d4-44c1-8e3a-600d9a3271f4\",\"type\":\"BoxAnnotation\"},{\"id\":\"19eae917-9afe-4697-a499-bf4eb64960eb\",\"type\":\"GlyphRenderer\"},{\"id\":\"5ab7fbfd-ce75-4fb4-a747-83c712099f0c\",\"type\":\"GlyphRenderer\"},{\"id\":\"fd8a01e4-9e8f-4668-976b-2ee5b7db6826\",\"type\":\"GlyphRenderer\"},{\"id\":\"e7c1a2f8-c244-4039-a374-74054a716517\",\"type\":\"GlyphRenderer\"},{\"id\":\"a8d9c42f-f488-4a5a-94ab-5cfce7da62de\",\"type\":\"GlyphRenderer\"}],\"title\":{\"id\":\"02c673a7-0cc7-40c3-bc64-3616318c5a9b\",\"type\":\"Title\"},\"toolbar\":{\"id\":\"87fa0119-dea8-4748-96e1-7c2310b22977\",\"type\":\"Toolbar\"},\"toolbar_location\":null,\"x_range\":{\"id\":\"c7c1bd44-5fca-4cdf-89b8-3308fe4675bf\",\"type\":\"Range1d\"},\"x_scale\":{\"id\":\"b390ebe8-4e91-48bf-bc39-0e37c917c47b\",\"type\":\"LinearScale\"},\"y_range\":{\"id\":\"8aceb50a-b87f-432a-8b43-616bf291f8f4\",\"type\":\"Range1d\"},\"y_scale\":{\"id\":\"532f498f-9fe5-4b65-979b-9aee3cb6f6c1\",\"type\":\"LinearScale\"}},\"id\":\"89b79cdb-180a-40c4-876d-4253b5126992\",\"subtype\":\"Figure\",\"type\":\"Plot\"},{\"attributes\":{},\"id\":\"8cfe0909-8098-4777-a1b3-2e0022144a8c\",\"type\":\"Selection\"},{\"attributes\":{},\"id\":\"b1d87beb-a517-4e57-b26d-ad3c988f4ba3\",\"type\":\"UnionRenderers\"},{\"attributes\":{},\"id\":\"a2aff597-158c-4ad0-8656-19ec47854ddd\",\"type\":\"Selection\"},{\"attributes\":{},\"id\":\"bb769901-ffaf-4a09-8b69-739fd1da6a7e\",\"type\":\"UnionRenderers\"},{\"attributes\":{},\"id\":\"885434cd-f656-47b9-bbe2-7ade484f4908\",\"type\":\"Selection\"},{\"attributes\":{\"tools\":[{\"id\":\"3787b35a-0468-41bd-a696-bb1b3db177d4\",\"type\":\"PanTool\"},{\"id\":\"39d9c5cd-6174-41c2-b78b-49d250daf966\",\"type\":\"WheelZoomTool\"},{\"id\":\"1f9dad26-8e34-457f-a188-b2e3f60ca7c8\",\"type\":\"BoxZoomTool\"},{\"id\":\"e749f354-f470-48ed-8b0c-583bbbcd02f2\",\"type\":\"SaveTool\"},{\"id\":\"492cd142-2970-40d3-9cfa-fa001be60c6a\",\"type\":\"ResetTool\"},{\"id\":\"e13dc6f5-4ce8-49e6-8700-fb9f20c715c8\",\"type\":\"HelpTool\"},{\"id\":\"2b949761-86b6-40ce-b1c7-6192fc1e796d\",\"type\":\"PanTool\"},{\"id\":\"96d81100-dbb4-4803-9ba8-5f65b624c0bc\",\"type\":\"WheelZoomTool\"},{\"id\":\"38588a4e-08a4-42a5-ba19-f799ec45f7ba\",\"type\":\"BoxZoomTool\"},{\"id\":\"f509b3b7-5614-4862-aa1e-450b0217fe1a\",\"type\":\"SaveTool\"},{\"id\":\"bf911681-3a73-4fd1-8a0f-52c2a6f15f25\",\"type\":\"ResetTool\"},{\"id\":\"ad4cb455-2e66-49eb-be09-f0961f0762f3\",\"type\":\"HelpTool\"}]},\"id\":\"bfe3c2f0-67ac-4567-a975-fd4081b6c7d0\",\"type\":\"ProxyToolbar\"}],\"root_ids\":[\"d0d69c22-8af0-4726-bde7-b70d081f5980\"]},\"title\":\"Bokeh Application\",\"version\":\"0.12.16\"}};\n",
       "  var render_items = [{\"docid\":\"9c9c3e75-59b0-41a4-8a24-2d3a6748c3da\",\"elementid\":\"3f2ef85a-4651-467a-b46a-ba48f313ac04\",\"modelid\":\"d0d69c22-8af0-4726-bde7-b70d081f5980\"}];\n",
       "  root.Bokeh.embed.embed_items_notebook(docs_json, render_items);\n",
       "\n",
       "  }\n",
       "  if (root.Bokeh !== undefined) {\n",
       "    embed_document(root);\n",
       "  } else {\n",
       "    var attempts = 0;\n",
       "    var timer = setInterval(function(root) {\n",
       "      if (root.Bokeh !== undefined) {\n",
       "        embed_document(root);\n",
       "        clearInterval(timer);\n",
       "      }\n",
       "      attempts++;\n",
       "      if (attempts > 100) {\n",
       "        console.log(\"Bokeh: ERROR: Unable to run BokehJS code because BokehJS library is missing\")\n",
       "        clearInterval(timer);\n",
       "      }\n",
       "    }, 10, root)\n",
       "  }\n",
       "})(window);"
      ],
      "application/vnd.bokehjs_exec.v0+json": ""
     },
     "metadata": {
      "application/vnd.bokehjs_exec.v0+json": {
       "id": "d0d69c22-8af0-4726-bde7-b70d081f5980"
      }
     },
     "output_type": "display_data"
    },
    {
     "name": "stdout",
     "output_type": "stream",
     "text": [
      "FIGURE. Cooling rate profiles.\n"
     ]
    },
    {
     "data": {
      "text/html": [
       "<a id=\"Flux_Comparison\"></a>"
      ],
      "text/plain": [
       "<IPython.core.display.HTML object>"
      ]
     },
     "metadata": {},
     "output_type": "display_data"
    },
    {
     "data": {
      "text/markdown": [
       "# Flux Comparison"
      ],
      "text/plain": [
       "<IPython.core.display.Markdown object>"
      ]
     },
     "metadata": {},
     "output_type": "display_data"
    },
    {
     "data": {
      "text/html": [
       "<div>\n",
       "<style scoped>\n",
       "    .dataframe tbody tr th:only-of-type {\n",
       "        vertical-align: middle;\n",
       "    }\n",
       "\n",
       "    .dataframe tbody tr th {\n",
       "        vertical-align: top;\n",
       "    }\n",
       "\n",
       "    .dataframe thead th {\n",
       "        text-align: right;\n",
       "    }\n",
       "</style>\n",
       "<table border=\"1\" class=\"dataframe\">\n",
       "  <thead>\n",
       "    <tr style=\"text-align: right;\">\n",
       "      <th></th>\n",
       "      <th></th>\n",
       "      <th>flug</th>\n",
       "      <th>fldg</th>\n",
       "      <th>fnetg</th>\n",
       "    </tr>\n",
       "    <tr>\n",
       "      <th>pressure</th>\n",
       "      <th>level</th>\n",
       "      <th></th>\n",
       "      <th></th>\n",
       "      <th></th>\n",
       "    </tr>\n",
       "  </thead>\n",
       "  <tbody>\n",
       "    <tr>\n",
       "      <th>0.0000</th>\n",
       "      <th>1</th>\n",
       "      <td>-10.179575</td>\n",
       "      <td>0.000000</td>\n",
       "      <td>-10.179575</td>\n",
       "    </tr>\n",
       "    <tr>\n",
       "      <th>1.0685</th>\n",
       "      <th>24</th>\n",
       "      <td>-10.179464</td>\n",
       "      <td>0.000355</td>\n",
       "      <td>-10.179109</td>\n",
       "    </tr>\n",
       "    <tr>\n",
       "      <th>1013.0000</th>\n",
       "      <th>76</th>\n",
       "      <td>-10.297125</td>\n",
       "      <td>0.225910</td>\n",
       "      <td>-10.071215</td>\n",
       "    </tr>\n",
       "  </tbody>\n",
       "</table>\n",
       "</div>"
      ],
      "text/plain": [
       "                      flug      fldg      fnetg\n",
       "pressure  level                                \n",
       "0.0000    1     -10.179575  0.000000 -10.179575\n",
       "1.0685    24    -10.179464  0.000355 -10.179109\n",
       "1013.0000 76    -10.297125  0.225910 -10.071215"
      ]
     },
     "metadata": {},
     "output_type": "display_data"
    },
    {
     "name": "stdout",
     "output_type": "stream",
     "text": [
      "Table. Fluxes. CRD\n"
     ]
    },
    {
     "data": {
      "text/html": [
       "<div>\n",
       "<style scoped>\n",
       "    .dataframe tbody tr th:only-of-type {\n",
       "        vertical-align: middle;\n",
       "    }\n",
       "\n",
       "    .dataframe tbody tr th {\n",
       "        vertical-align: top;\n",
       "    }\n",
       "\n",
       "    .dataframe thead th {\n",
       "        text-align: right;\n",
       "    }\n",
       "</style>\n",
       "<table border=\"1\" class=\"dataframe\">\n",
       "  <thead>\n",
       "    <tr style=\"text-align: right;\">\n",
       "      <th></th>\n",
       "      <th></th>\n",
       "      <th>flug</th>\n",
       "      <th>fldg</th>\n",
       "      <th>fnetg</th>\n",
       "    </tr>\n",
       "    <tr>\n",
       "      <th>pressure</th>\n",
       "      <th>level</th>\n",
       "      <th></th>\n",
       "      <th></th>\n",
       "      <th></th>\n",
       "    </tr>\n",
       "  </thead>\n",
       "  <tbody>\n",
       "    <tr>\n",
       "      <th>0.0000</th>\n",
       "      <th>1</th>\n",
       "      <td>-10.167046</td>\n",
       "      <td>0.000000</td>\n",
       "      <td>-10.167046</td>\n",
       "    </tr>\n",
       "    <tr>\n",
       "      <th>1.0685</th>\n",
       "      <th>24</th>\n",
       "      <td>-10.167063</td>\n",
       "      <td>0.000343</td>\n",
       "      <td>-10.166720</td>\n",
       "    </tr>\n",
       "    <tr>\n",
       "      <th>1013.0000</th>\n",
       "      <th>76</th>\n",
       "      <td>-10.297125</td>\n",
       "      <td>0.237863</td>\n",
       "      <td>-10.059262</td>\n",
       "    </tr>\n",
       "  </tbody>\n",
       "</table>\n",
       "</div>"
      ],
      "text/plain": [
       "                      flug      fldg      fnetg\n",
       "pressure  level                                \n",
       "0.0000    1     -10.167046  0.000000 -10.167046\n",
       "1.0685    24    -10.167063  0.000343 -10.166720\n",
       "1013.0000 76    -10.297125  0.237863 -10.059262"
      ]
     },
     "metadata": {},
     "output_type": "display_data"
    },
    {
     "name": "stdout",
     "output_type": "stream",
     "text": [
      "Table. Fluxes. WGT igg=10 wgt_flux=1\n"
     ]
    },
    {
     "data": {
      "text/html": [
       "<div>\n",
       "<style scoped>\n",
       "    .dataframe tbody tr th:only-of-type {\n",
       "        vertical-align: middle;\n",
       "    }\n",
       "\n",
       "    .dataframe tbody tr th {\n",
       "        vertical-align: top;\n",
       "    }\n",
       "\n",
       "    .dataframe thead th {\n",
       "        text-align: right;\n",
       "    }\n",
       "</style>\n",
       "<table border=\"1\" class=\"dataframe\">\n",
       "  <thead>\n",
       "    <tr style=\"text-align: right;\">\n",
       "      <th></th>\n",
       "      <th></th>\n",
       "      <th>flug</th>\n",
       "      <th>fldg</th>\n",
       "      <th>fnetg</th>\n",
       "    </tr>\n",
       "    <tr>\n",
       "      <th>pressure</th>\n",
       "      <th>level</th>\n",
       "      <th></th>\n",
       "      <th></th>\n",
       "      <th></th>\n",
       "    </tr>\n",
       "  </thead>\n",
       "  <tbody>\n",
       "    <tr>\n",
       "      <th>1.000000e-08</th>\n",
       "      <th>1</th>\n",
       "      <td>-10.187029</td>\n",
       "      <td>-1.014646e-07</td>\n",
       "      <td>-10.187030</td>\n",
       "    </tr>\n",
       "    <tr>\n",
       "      <th>1.068500e+00</th>\n",
       "      <th>24</th>\n",
       "      <td>-10.187048</td>\n",
       "      <td>2.862595e-04</td>\n",
       "      <td>-10.186762</td>\n",
       "    </tr>\n",
       "    <tr>\n",
       "      <th>1.013000e+03</th>\n",
       "      <th>76</th>\n",
       "      <td>-10.297120</td>\n",
       "      <td>2.024186e-01</td>\n",
       "      <td>-10.094701</td>\n",
       "    </tr>\n",
       "  </tbody>\n",
       "</table>\n",
       "</div>"
      ],
      "text/plain": [
       "                         flug          fldg      fnetg\n",
       "pressure     level                                    \n",
       "1.000000e-08 1     -10.187029 -1.014646e-07 -10.187030\n",
       "1.068500e+00 24    -10.187048  2.862595e-04 -10.186762\n",
       "1.013000e+03 76    -10.297120  2.024186e-01 -10.094701"
      ]
     },
     "metadata": {},
     "output_type": "display_data"
    },
    {
     "name": "stdout",
     "output_type": "stream",
     "text": [
      "Table. Fluxes. CLIRAD\n"
     ]
    },
    {
     "data": {
      "text/html": [
       "<div>\n",
       "<style scoped>\n",
       "    .dataframe tbody tr th:only-of-type {\n",
       "        vertical-align: middle;\n",
       "    }\n",
       "\n",
       "    .dataframe tbody tr th {\n",
       "        vertical-align: top;\n",
       "    }\n",
       "\n",
       "    .dataframe thead th {\n",
       "        text-align: right;\n",
       "    }\n",
       "</style>\n",
       "<table border=\"1\" class=\"dataframe\">\n",
       "  <thead>\n",
       "    <tr style=\"text-align: right;\">\n",
       "      <th></th>\n",
       "      <th></th>\n",
       "      <th>flug</th>\n",
       "      <th>fldg</th>\n",
       "      <th>fnetg</th>\n",
       "    </tr>\n",
       "    <tr>\n",
       "      <th>pressure</th>\n",
       "      <th>level</th>\n",
       "      <th></th>\n",
       "      <th></th>\n",
       "      <th></th>\n",
       "    </tr>\n",
       "  </thead>\n",
       "  <tbody>\n",
       "    <tr>\n",
       "      <th>0.0000</th>\n",
       "      <th>1</th>\n",
       "      <td>0.012529</td>\n",
       "      <td>0.000000</td>\n",
       "      <td>0.012529</td>\n",
       "    </tr>\n",
       "    <tr>\n",
       "      <th>1.0685</th>\n",
       "      <th>24</th>\n",
       "      <td>0.012401</td>\n",
       "      <td>-0.000012</td>\n",
       "      <td>0.012389</td>\n",
       "    </tr>\n",
       "    <tr>\n",
       "      <th>1013.0000</th>\n",
       "      <th>76</th>\n",
       "      <td>0.000000</td>\n",
       "      <td>0.011953</td>\n",
       "      <td>0.011953</td>\n",
       "    </tr>\n",
       "  </tbody>\n",
       "</table>\n",
       "</div>"
      ],
      "text/plain": [
       "                     flug      fldg     fnetg\n",
       "pressure  level                              \n",
       "0.0000    1      0.012529  0.000000  0.012529\n",
       "1.0685    24     0.012401 -0.000012  0.012389\n",
       "1013.0000 76     0.000000  0.011953  0.011953"
      ]
     },
     "metadata": {},
     "output_type": "display_data"
    },
    {
     "name": "stdout",
     "output_type": "stream",
     "text": [
      "Table. Fluxes. (WGT igg=10 wgt_flux=1) - (CRD)\n"
     ]
    },
    {
     "data": {
      "text/html": [
       "<div>\n",
       "<style scoped>\n",
       "    .dataframe tbody tr th:only-of-type {\n",
       "        vertical-align: middle;\n",
       "    }\n",
       "\n",
       "    .dataframe tbody tr th {\n",
       "        vertical-align: top;\n",
       "    }\n",
       "\n",
       "    .dataframe thead th {\n",
       "        text-align: right;\n",
       "    }\n",
       "</style>\n",
       "<table border=\"1\" class=\"dataframe\">\n",
       "  <thead>\n",
       "    <tr style=\"text-align: right;\">\n",
       "      <th></th>\n",
       "      <th></th>\n",
       "      <th>flug</th>\n",
       "      <th>fldg</th>\n",
       "      <th>fnetg</th>\n",
       "    </tr>\n",
       "    <tr>\n",
       "      <th>pressure</th>\n",
       "      <th>level</th>\n",
       "      <th></th>\n",
       "      <th></th>\n",
       "      <th></th>\n",
       "    </tr>\n",
       "  </thead>\n",
       "  <tbody>\n",
       "    <tr>\n",
       "      <th>0.0000</th>\n",
       "      <th>1</th>\n",
       "      <td>-0.007454</td>\n",
       "      <td>-1.014646e-07</td>\n",
       "      <td>-0.007455</td>\n",
       "    </tr>\n",
       "    <tr>\n",
       "      <th>1.0685</th>\n",
       "      <th>24</th>\n",
       "      <td>-0.007584</td>\n",
       "      <td>-6.880999e-05</td>\n",
       "      <td>-0.007653</td>\n",
       "    </tr>\n",
       "    <tr>\n",
       "      <th>1013.0000</th>\n",
       "      <th>76</th>\n",
       "      <td>0.000005</td>\n",
       "      <td>-2.349136e-02</td>\n",
       "      <td>-0.023486</td>\n",
       "    </tr>\n",
       "  </tbody>\n",
       "</table>\n",
       "</div>"
      ],
      "text/plain": [
       "                     flug          fldg     fnetg\n",
       "pressure  level                                  \n",
       "0.0000    1     -0.007454 -1.014646e-07 -0.007455\n",
       "1.0685    24    -0.007584 -6.880999e-05 -0.007653\n",
       "1013.0000 76     0.000005 -2.349136e-02 -0.023486"
      ]
     },
     "metadata": {},
     "output_type": "display_data"
    },
    {
     "name": "stdout",
     "output_type": "stream",
     "text": [
      "Table. Fluxes. (CLIRAD) - (CRD)\n"
     ]
    },
    {
     "data": {
      "text/html": [
       "<a id=\"Best-fit_Parameters\"></a>"
      ],
      "text/plain": [
       "<IPython.core.display.HTML object>"
      ]
     },
     "metadata": {},
     "output_type": "display_data"
    },
    {
     "data": {
      "text/markdown": [
       "# Best-fit Parameters"
      ],
      "text/plain": [
       "<IPython.core.display.Markdown object>"
      ]
     },
     "metadata": {},
     "output_type": "display_data"
    },
    {
     "name": "stdout",
     "output_type": "stream",
     "text": [
      "Best-fit values for each (gas, band)\n",
      "------------------------------------\n",
      "o n2o band6\n",
      "  atmpro = mls\n",
      "  band = 6\n",
      "  commitnumber = bca49ce\n",
      "  conc = 3.2e-07\n",
      "  dv = 0.005\n",
      "  klin = 0\n",
      "  molecule = n2o\n",
      "  ng_adju = [0]\n",
      "  ng_refs = [1]\n",
      "  nv = 200\n",
      "  option_compute_btable = 0\n",
      "  option_compute_ktable = 1\n",
      "  option_wgt_flux = 1\n",
      "  option_wgt_k = 1\n",
      "  ref_pts = [(500, 250)]\n",
      "  tsfc = 294\n",
      "  vmax = 1215\n",
      "  vmin = 1100\n",
      "  w_diffuse = [(1.66,)]\n",
      "  wgt = [(0.95,)]\n"
     ]
    }
   ],
   "source": [
    "script()"
   ]
  },
  {
   "cell_type": "code",
   "execution_count": 13,
   "metadata": {
    "collapsed": true
   },
   "outputs": [
    {
     "data": {
      "text/html": [
       "<script>\n",
       "code_show=true; \n",
       "function code_toggle() {\n",
       " if (code_show){\n",
       " $('div.input').hide();\n",
       " } else {\n",
       " $('div.input').show();\n",
       " }\n",
       " code_show = !code_show\n",
       "} \n",
       "$( document ).ready(code_toggle);\n",
       "</script>\n",
       "<form action=\"javascript:code_toggle()\"><input type=\"submit\" value=\"Click here to toggle on/off the raw code.\"></form>"
      ],
      "text/plain": [
       "<IPython.core.display.HTML object>"
      ]
     },
     "execution_count": 13,
     "metadata": {},
     "output_type": "execute_result"
    }
   ],
   "source": [
    "display.HTML('''<script>\n",
    "code_show=true; \n",
    "function code_toggle() {\n",
    " if (code_show){\n",
    " $('div.input').hide();\n",
    " } else {\n",
    " $('div.input').show();\n",
    " }\n",
    " code_show = !code_show\n",
    "} \n",
    "$( document ).ready(code_toggle);\n",
    "</script>\n",
    "<form action=\"javascript:code_toggle()\"><input type=\"submit\" value=\"Click here to toggle on/off the raw code.\"></form>''')"
   ]
  }
 ],
 "metadata": {
  "kernelspec": {
   "display_name": "Python 3",
   "language": "python",
   "name": "python3"
  },
  "language_info": {
   "codemirror_mode": {
    "name": "ipython",
    "version": 3
   },
   "file_extension": ".py",
   "mimetype": "text/x-python",
   "name": "python",
   "nbconvert_exporter": "python",
   "pygments_lexer": "ipython3",
   "version": "3.6.1"
  }
 },
 "nbformat": 4,
 "nbformat_minor": 2
}
