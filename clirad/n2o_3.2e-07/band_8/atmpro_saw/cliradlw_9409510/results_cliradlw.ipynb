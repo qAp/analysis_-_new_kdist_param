{
 "cells": [
  {
   "cell_type": "code",
   "execution_count": 1,
   "metadata": {
    "collapsed": true
   },
   "outputs": [],
   "source": [
    "%matplotlib inline\n",
    "import os\n",
    "import re\n",
    "import io\n",
    "import itertools\n",
    "import pprint\n",
    "\n",
    "from bokeh.io import output_notebook, show\n",
    "from bokeh.layouts import gridplot\n",
    "from bokeh.plotting import figure\n",
    "from bokeh.models import Range1d, Legend\n",
    "from bokeh.palettes import all_palettes\n",
    "\n",
    "import matplotlib\n",
    "import matplotlib.pyplot as plt\n",
    "import numpy as np\n",
    "import pandas as pd\n",
    "import xarray as xr\n",
    "\n",
    "import climatools.lblnew.bestfit_params as bestfits\n",
    "from climatools.lblnew import setup_bestfit, setup_overlap\n",
    "import climatools.lblnew.pipeline as pipe_lblnew\n",
    "import climatools.cliradlw.setup as setup_cliradlw\n",
    "import climatools.cliradlw.pipeline as pipe_cliradlw\n",
    "\n",
    "import climatools.html.html as climahtml\n",
    "from climatools.lblnew.dataio import *\n",
    "from climatools.plot.plot import *\n",
    "\n",
    "\n",
    "import IPython.display as display"
   ]
  },
  {
   "cell_type": "code",
   "execution_count": 2,
   "metadata": {
    "collapsed": true
   },
   "outputs": [],
   "source": [
    "%run param.py"
   ]
  },
  {
   "cell_type": "code",
   "execution_count": 3,
   "metadata": {
    "collapsed": true
   },
   "outputs": [],
   "source": [
    "def load_output_file(path_csv):\n",
    "    '''\n",
    "    Load lblnew output .csv file to xarray.Dataset\n",
    "    \n",
    "    Parameters\n",
    "    ----------\n",
    "    path_csv: str\n",
    "              Path to the .csv file to be loaded.\n",
    "    ds: xarray.Dataset\n",
    "        Data in the input file in the form of an xarray.Dataset.\n",
    "    '''\n",
    "    toindex = ['band', 'pressure', 'igg', 'g']    \n",
    "    df = pd.read_csv(path_csv, sep=r'\\s+')\n",
    "    df = df.set_index([i for i in toindex if i in df.columns])\n",
    "    df = df.rename(columns={'sfu': 'flug',\n",
    "                            'sfd': 'fldg',\n",
    "                            'fnet': 'fnetg',\n",
    "                            'coolr': 'coolrg'})\n",
    "    ds = xr.Dataset.from_dataframe(df)\n",
    "\n",
    "    for l in ('level', 'layer'):\n",
    "        if l in ds.data_vars:\n",
    "            if len(ds[l].dims) > 1:\n",
    "                surface = {d: 0 for d in ds.dims if d != 'pressure'}\n",
    "                coord_level = ds[l][surface]\n",
    "                ds.coords[l] = ('pressure', coord_level)\n",
    "            else:\n",
    "                ds.coords[l] = ('pressure', ds[l])\n",
    "    \n",
    "    return ds"
   ]
  },
  {
   "cell_type": "code",
   "execution_count": 4,
   "metadata": {
    "collapsed": true
   },
   "outputs": [],
   "source": [
    "def lblnew_setup(param=None):\n",
    "    if 'ng_refs' in param:\n",
    "        return {'setup': setup_bestfit,\n",
    "                'fname_flux_crd': 'output_flux.dat',\n",
    "                'fname_cool_crd': 'output_coolr.dat',\n",
    "                'fname_flux_wgt': 'output_wfluxg.dat',\n",
    "                'fname_cool_wgt': 'output_wcoolrg.dat'}\n",
    "    else:\n",
    "        return {'setup': setup_overlap,\n",
    "                'fname_flux_crd': 'output_flux.dat',\n",
    "                'fname_cool_crd': 'output_coolr.dat',\n",
    "                'fname_flux_wgt': 'output_wflux.dat',\n",
    "                'fname_cool_wgt': 'output_wcoolr.dat'}\n",
    "\n",
    "    \n",
    "def load_lblnew_data(param):\n",
    "    \n",
    "    fname_dsname = [('fname_flux_crd', 'ds_flux_crd'),\n",
    "                    ('fname_cool_crd', 'ds_cool_crd'),\n",
    "                    ('fname_flux_wgt', 'ds_flux_wgt'),\n",
    "                    ('fname_cool_wgt', 'ds_cool_wgt')]\n",
    "    \n",
    "    d = lblnew_setup(param)\n",
    "    dir_fortran = pipe_lblnew.get_dir_case(param, setup=d['setup'])\n",
    "    \n",
    "    data_dict = {}\n",
    "    for fname, dsname in fname_dsname:\n",
    "        fpath = os.path.join(dir_fortran, d[fname])\n",
    "        data_dict[dsname] = load_output_file(fpath)\n",
    "    return data_dict\n",
    "    \n",
    "\n",
    "    \n",
    "    "
   ]
  },
  {
   "cell_type": "code",
   "execution_count": 5,
   "metadata": {
    "collapsed": true
   },
   "outputs": [],
   "source": [
    "d = load_lblnew_data(PARAM_LBLNEW)\n",
    "\n",
    "DS_FLUX_CRD = d['ds_flux_crd']\n",
    "DS_COOL_CRD = d['ds_cool_crd']\n",
    "DS_FLUX_WGT = d['ds_flux_wgt']\n",
    "DS_COOL_WGT = d['ds_cool_wgt']"
   ]
  },
  {
   "cell_type": "code",
   "execution_count": 6,
   "metadata": {
    "collapsed": true
   },
   "outputs": [],
   "source": [
    "DIR_FORTRAN = pipe_cliradlw.get_fortran_dir(PARAM, \n",
    "                                            setup=setup_cliradlw)\n",
    "\n",
    "PATH_FLUX = os.path.join(DIR_FORTRAN, 'output_flux.dat')\n",
    "PATH_COOL = os.path.join(DIR_FORTRAN, 'output_coolr.dat')\n",
    "\n",
    "DS_FLUX = load_output_file(PATH_FLUX)\n",
    "DS_COOL = load_output_file(PATH_COOL)"
   ]
  },
  {
   "cell_type": "code",
   "execution_count": 7,
   "metadata": {
    "collapsed": true
   },
   "outputs": [
    {
     "data": {
      "text/html": [
       "\n",
       "    <div class=\"bk-root\">\n",
       "        <a href=\"https://bokeh.pydata.org\" target=\"_blank\" class=\"bk-logo bk-logo-small bk-logo-notebook\"></a>\n",
       "        <span id=\"d37ccff9-81a8-4a21-a40e-8172069a59be\">Loading BokehJS ...</span>\n",
       "    </div>"
      ]
     },
     "metadata": {},
     "output_type": "display_data"
    },
    {
     "data": {
      "application/javascript": [
       "\n",
       "(function(root) {\n",
       "  function now() {\n",
       "    return new Date();\n",
       "  }\n",
       "\n",
       "  var force = true;\n",
       "\n",
       "  if (typeof (root._bokeh_onload_callbacks) === \"undefined\" || force === true) {\n",
       "    root._bokeh_onload_callbacks = [];\n",
       "    root._bokeh_is_loading = undefined;\n",
       "  }\n",
       "\n",
       "  var JS_MIME_TYPE = 'application/javascript';\n",
       "  var HTML_MIME_TYPE = 'text/html';\n",
       "  var EXEC_MIME_TYPE = 'application/vnd.bokehjs_exec.v0+json';\n",
       "  var CLASS_NAME = 'output_bokeh rendered_html';\n",
       "\n",
       "  /**\n",
       "   * Render data to the DOM node\n",
       "   */\n",
       "  function render(props, node) {\n",
       "    var script = document.createElement(\"script\");\n",
       "    node.appendChild(script);\n",
       "  }\n",
       "\n",
       "  /**\n",
       "   * Handle when an output is cleared or removed\n",
       "   */\n",
       "  function handleClearOutput(event, handle) {\n",
       "    var cell = handle.cell;\n",
       "\n",
       "    var id = cell.output_area._bokeh_element_id;\n",
       "    var server_id = cell.output_area._bokeh_server_id;\n",
       "    // Clean up Bokeh references\n",
       "    if (id !== undefined) {\n",
       "      Bokeh.index[id].model.document.clear();\n",
       "      delete Bokeh.index[id];\n",
       "    }\n",
       "\n",
       "    if (server_id !== undefined) {\n",
       "      // Clean up Bokeh references\n",
       "      var cmd = \"from bokeh.io.state import curstate; print(curstate().uuid_to_server['\" + server_id + \"'].get_sessions()[0].document.roots[0]._id)\";\n",
       "      cell.notebook.kernel.execute(cmd, {\n",
       "        iopub: {\n",
       "          output: function(msg) {\n",
       "            var element_id = msg.content.text.trim();\n",
       "            Bokeh.index[element_id].model.document.clear();\n",
       "            delete Bokeh.index[element_id];\n",
       "          }\n",
       "        }\n",
       "      });\n",
       "      // Destroy server and session\n",
       "      var cmd = \"import bokeh.io.notebook as ion; ion.destroy_server('\" + server_id + \"')\";\n",
       "      cell.notebook.kernel.execute(cmd);\n",
       "    }\n",
       "  }\n",
       "\n",
       "  /**\n",
       "   * Handle when a new output is added\n",
       "   */\n",
       "  function handleAddOutput(event, handle) {\n",
       "    var output_area = handle.output_area;\n",
       "    var output = handle.output;\n",
       "\n",
       "    // limit handleAddOutput to display_data with EXEC_MIME_TYPE content only\n",
       "    if ((output.output_type != \"display_data\") || (!output.data.hasOwnProperty(EXEC_MIME_TYPE))) {\n",
       "      return\n",
       "    }\n",
       "\n",
       "    var toinsert = output_area.element.find(\".\" + CLASS_NAME.split(' ')[0]);\n",
       "\n",
       "    if (output.metadata[EXEC_MIME_TYPE][\"id\"] !== undefined) {\n",
       "      toinsert[toinsert.length - 1].firstChild.textContent = output.data[JS_MIME_TYPE];\n",
       "      // store reference to embed id on output_area\n",
       "      output_area._bokeh_element_id = output.metadata[EXEC_MIME_TYPE][\"id\"];\n",
       "    }\n",
       "    if (output.metadata[EXEC_MIME_TYPE][\"server_id\"] !== undefined) {\n",
       "      var bk_div = document.createElement(\"div\");\n",
       "      bk_div.innerHTML = output.data[HTML_MIME_TYPE];\n",
       "      var script_attrs = bk_div.children[0].attributes;\n",
       "      for (var i = 0; i < script_attrs.length; i++) {\n",
       "        toinsert[toinsert.length - 1].firstChild.setAttribute(script_attrs[i].name, script_attrs[i].value);\n",
       "      }\n",
       "      // store reference to server id on output_area\n",
       "      output_area._bokeh_server_id = output.metadata[EXEC_MIME_TYPE][\"server_id\"];\n",
       "    }\n",
       "  }\n",
       "\n",
       "  function register_renderer(events, OutputArea) {\n",
       "\n",
       "    function append_mime(data, metadata, element) {\n",
       "      // create a DOM node to render to\n",
       "      var toinsert = this.create_output_subarea(\n",
       "        metadata,\n",
       "        CLASS_NAME,\n",
       "        EXEC_MIME_TYPE\n",
       "      );\n",
       "      this.keyboard_manager.register_events(toinsert);\n",
       "      // Render to node\n",
       "      var props = {data: data, metadata: metadata[EXEC_MIME_TYPE]};\n",
       "      render(props, toinsert[toinsert.length - 1]);\n",
       "      element.append(toinsert);\n",
       "      return toinsert\n",
       "    }\n",
       "\n",
       "    /* Handle when an output is cleared or removed */\n",
       "    events.on('clear_output.CodeCell', handleClearOutput);\n",
       "    events.on('delete.Cell', handleClearOutput);\n",
       "\n",
       "    /* Handle when a new output is added */\n",
       "    events.on('output_added.OutputArea', handleAddOutput);\n",
       "\n",
       "    /**\n",
       "     * Register the mime type and append_mime function with output_area\n",
       "     */\n",
       "    OutputArea.prototype.register_mime_type(EXEC_MIME_TYPE, append_mime, {\n",
       "      /* Is output safe? */\n",
       "      safe: true,\n",
       "      /* Index of renderer in `output_area.display_order` */\n",
       "      index: 0\n",
       "    });\n",
       "  }\n",
       "\n",
       "  // register the mime type if in Jupyter Notebook environment and previously unregistered\n",
       "  if (root.Jupyter !== undefined) {\n",
       "    var events = require('base/js/events');\n",
       "    var OutputArea = require('notebook/js/outputarea').OutputArea;\n",
       "\n",
       "    if (OutputArea.prototype.mime_types().indexOf(EXEC_MIME_TYPE) == -1) {\n",
       "      register_renderer(events, OutputArea);\n",
       "    }\n",
       "  }\n",
       "\n",
       "  \n",
       "  if (typeof (root._bokeh_timeout) === \"undefined\" || force === true) {\n",
       "    root._bokeh_timeout = Date.now() + 5000;\n",
       "    root._bokeh_failed_load = false;\n",
       "  }\n",
       "\n",
       "  var NB_LOAD_WARNING = {'data': {'text/html':\n",
       "     \"<div style='background-color: #fdd'>\\n\"+\n",
       "     \"<p>\\n\"+\n",
       "     \"BokehJS does not appear to have successfully loaded. If loading BokehJS from CDN, this \\n\"+\n",
       "     \"may be due to a slow or bad network connection. Possible fixes:\\n\"+\n",
       "     \"</p>\\n\"+\n",
       "     \"<ul>\\n\"+\n",
       "     \"<li>re-rerun `output_notebook()` to attempt to load from CDN again, or</li>\\n\"+\n",
       "     \"<li>use INLINE resources instead, as so:</li>\\n\"+\n",
       "     \"</ul>\\n\"+\n",
       "     \"<code>\\n\"+\n",
       "     \"from bokeh.resources import INLINE\\n\"+\n",
       "     \"output_notebook(resources=INLINE)\\n\"+\n",
       "     \"</code>\\n\"+\n",
       "     \"</div>\"}};\n",
       "\n",
       "  function display_loaded() {\n",
       "    var el = document.getElementById(\"d37ccff9-81a8-4a21-a40e-8172069a59be\");\n",
       "    if (el != null) {\n",
       "      el.textContent = \"BokehJS is loading...\";\n",
       "    }\n",
       "    if (root.Bokeh !== undefined) {\n",
       "      if (el != null) {\n",
       "        el.textContent = \"BokehJS \" + root.Bokeh.version + \" successfully loaded.\";\n",
       "      }\n",
       "    } else if (Date.now() < root._bokeh_timeout) {\n",
       "      setTimeout(display_loaded, 100)\n",
       "    }\n",
       "  }\n",
       "\n",
       "\n",
       "  function run_callbacks() {\n",
       "    try {\n",
       "      root._bokeh_onload_callbacks.forEach(function(callback) { callback() });\n",
       "    }\n",
       "    finally {\n",
       "      delete root._bokeh_onload_callbacks\n",
       "    }\n",
       "    console.info(\"Bokeh: all callbacks have finished\");\n",
       "  }\n",
       "\n",
       "  function load_libs(js_urls, callback) {\n",
       "    root._bokeh_onload_callbacks.push(callback);\n",
       "    if (root._bokeh_is_loading > 0) {\n",
       "      console.log(\"Bokeh: BokehJS is being loaded, scheduling callback at\", now());\n",
       "      return null;\n",
       "    }\n",
       "    if (js_urls == null || js_urls.length === 0) {\n",
       "      run_callbacks();\n",
       "      return null;\n",
       "    }\n",
       "    console.log(\"Bokeh: BokehJS not loaded, scheduling load and callback at\", now());\n",
       "    root._bokeh_is_loading = js_urls.length;\n",
       "    for (var i = 0; i < js_urls.length; i++) {\n",
       "      var url = js_urls[i];\n",
       "      var s = document.createElement('script');\n",
       "      s.src = url;\n",
       "      s.async = false;\n",
       "      s.onreadystatechange = s.onload = function() {\n",
       "        root._bokeh_is_loading--;\n",
       "        if (root._bokeh_is_loading === 0) {\n",
       "          console.log(\"Bokeh: all BokehJS libraries loaded\");\n",
       "          run_callbacks()\n",
       "        }\n",
       "      };\n",
       "      s.onerror = function() {\n",
       "        console.warn(\"failed to load library \" + url);\n",
       "      };\n",
       "      console.log(\"Bokeh: injecting script tag for BokehJS library: \", url);\n",
       "      document.getElementsByTagName(\"head\")[0].appendChild(s);\n",
       "    }\n",
       "  };var element = document.getElementById(\"d37ccff9-81a8-4a21-a40e-8172069a59be\");\n",
       "  if (element == null) {\n",
       "    console.log(\"Bokeh: ERROR: autoload.js configured with elementid 'd37ccff9-81a8-4a21-a40e-8172069a59be' but no matching script tag was found. \")\n",
       "    return false;\n",
       "  }\n",
       "\n",
       "  var js_urls = [\"https://cdn.pydata.org/bokeh/release/bokeh-0.12.16.min.js\", \"https://cdn.pydata.org/bokeh/release/bokeh-widgets-0.12.16.min.js\", \"https://cdn.pydata.org/bokeh/release/bokeh-tables-0.12.16.min.js\", \"https://cdn.pydata.org/bokeh/release/bokeh-gl-0.12.16.min.js\"];\n",
       "\n",
       "  var inline_js = [\n",
       "    function(Bokeh) {\n",
       "      Bokeh.set_log_level(\"info\");\n",
       "    },\n",
       "    \n",
       "    function(Bokeh) {\n",
       "      \n",
       "    },\n",
       "    function(Bokeh) {\n",
       "      console.log(\"Bokeh: injecting CSS: https://cdn.pydata.org/bokeh/release/bokeh-0.12.16.min.css\");\n",
       "      Bokeh.embed.inject_css(\"https://cdn.pydata.org/bokeh/release/bokeh-0.12.16.min.css\");\n",
       "      console.log(\"Bokeh: injecting CSS: https://cdn.pydata.org/bokeh/release/bokeh-widgets-0.12.16.min.css\");\n",
       "      Bokeh.embed.inject_css(\"https://cdn.pydata.org/bokeh/release/bokeh-widgets-0.12.16.min.css\");\n",
       "      console.log(\"Bokeh: injecting CSS: https://cdn.pydata.org/bokeh/release/bokeh-tables-0.12.16.min.css\");\n",
       "      Bokeh.embed.inject_css(\"https://cdn.pydata.org/bokeh/release/bokeh-tables-0.12.16.min.css\");\n",
       "    }\n",
       "  ];\n",
       "\n",
       "  function run_inline_js() {\n",
       "    \n",
       "    if ((root.Bokeh !== undefined) || (force === true)) {\n",
       "      for (var i = 0; i < inline_js.length; i++) {\n",
       "        inline_js[i].call(root, root.Bokeh);\n",
       "      }if (force === true) {\n",
       "        display_loaded();\n",
       "      }} else if (Date.now() < root._bokeh_timeout) {\n",
       "      setTimeout(run_inline_js, 100);\n",
       "    } else if (!root._bokeh_failed_load) {\n",
       "      console.log(\"Bokeh: BokehJS failed to load within specified timeout.\");\n",
       "      root._bokeh_failed_load = true;\n",
       "    } else if (force !== true) {\n",
       "      var cell = $(document.getElementById(\"d37ccff9-81a8-4a21-a40e-8172069a59be\")).parents('.cell').data().cell;\n",
       "      cell.output_area.append_execute_result(NB_LOAD_WARNING)\n",
       "    }\n",
       "\n",
       "  }\n",
       "\n",
       "  if (root._bokeh_is_loading === 0) {\n",
       "    console.log(\"Bokeh: BokehJS loaded, going straight to plotting\");\n",
       "    run_inline_js();\n",
       "  } else {\n",
       "    load_libs(js_urls, function() {\n",
       "      console.log(\"Bokeh: BokehJS plotting callback run at\", now());\n",
       "      run_inline_js();\n",
       "    });\n",
       "  }\n",
       "}(window));"
      ],
      "application/vnd.bokehjs_load.v0+json": "\n(function(root) {\n  function now() {\n    return new Date();\n  }\n\n  var force = true;\n\n  if (typeof (root._bokeh_onload_callbacks) === \"undefined\" || force === true) {\n    root._bokeh_onload_callbacks = [];\n    root._bokeh_is_loading = undefined;\n  }\n\n  \n\n  \n  if (typeof (root._bokeh_timeout) === \"undefined\" || force === true) {\n    root._bokeh_timeout = Date.now() + 5000;\n    root._bokeh_failed_load = false;\n  }\n\n  var NB_LOAD_WARNING = {'data': {'text/html':\n     \"<div style='background-color: #fdd'>\\n\"+\n     \"<p>\\n\"+\n     \"BokehJS does not appear to have successfully loaded. If loading BokehJS from CDN, this \\n\"+\n     \"may be due to a slow or bad network connection. Possible fixes:\\n\"+\n     \"</p>\\n\"+\n     \"<ul>\\n\"+\n     \"<li>re-rerun `output_notebook()` to attempt to load from CDN again, or</li>\\n\"+\n     \"<li>use INLINE resources instead, as so:</li>\\n\"+\n     \"</ul>\\n\"+\n     \"<code>\\n\"+\n     \"from bokeh.resources import INLINE\\n\"+\n     \"output_notebook(resources=INLINE)\\n\"+\n     \"</code>\\n\"+\n     \"</div>\"}};\n\n  function display_loaded() {\n    var el = document.getElementById(\"d37ccff9-81a8-4a21-a40e-8172069a59be\");\n    if (el != null) {\n      el.textContent = \"BokehJS is loading...\";\n    }\n    if (root.Bokeh !== undefined) {\n      if (el != null) {\n        el.textContent = \"BokehJS \" + root.Bokeh.version + \" successfully loaded.\";\n      }\n    } else if (Date.now() < root._bokeh_timeout) {\n      setTimeout(display_loaded, 100)\n    }\n  }\n\n\n  function run_callbacks() {\n    try {\n      root._bokeh_onload_callbacks.forEach(function(callback) { callback() });\n    }\n    finally {\n      delete root._bokeh_onload_callbacks\n    }\n    console.info(\"Bokeh: all callbacks have finished\");\n  }\n\n  function load_libs(js_urls, callback) {\n    root._bokeh_onload_callbacks.push(callback);\n    if (root._bokeh_is_loading > 0) {\n      console.log(\"Bokeh: BokehJS is being loaded, scheduling callback at\", now());\n      return null;\n    }\n    if (js_urls == null || js_urls.length === 0) {\n      run_callbacks();\n      return null;\n    }\n    console.log(\"Bokeh: BokehJS not loaded, scheduling load and callback at\", now());\n    root._bokeh_is_loading = js_urls.length;\n    for (var i = 0; i < js_urls.length; i++) {\n      var url = js_urls[i];\n      var s = document.createElement('script');\n      s.src = url;\n      s.async = false;\n      s.onreadystatechange = s.onload = function() {\n        root._bokeh_is_loading--;\n        if (root._bokeh_is_loading === 0) {\n          console.log(\"Bokeh: all BokehJS libraries loaded\");\n          run_callbacks()\n        }\n      };\n      s.onerror = function() {\n        console.warn(\"failed to load library \" + url);\n      };\n      console.log(\"Bokeh: injecting script tag for BokehJS library: \", url);\n      document.getElementsByTagName(\"head\")[0].appendChild(s);\n    }\n  };var element = document.getElementById(\"d37ccff9-81a8-4a21-a40e-8172069a59be\");\n  if (element == null) {\n    console.log(\"Bokeh: ERROR: autoload.js configured with elementid 'd37ccff9-81a8-4a21-a40e-8172069a59be' but no matching script tag was found. \")\n    return false;\n  }\n\n  var js_urls = [\"https://cdn.pydata.org/bokeh/release/bokeh-0.12.16.min.js\", \"https://cdn.pydata.org/bokeh/release/bokeh-widgets-0.12.16.min.js\", \"https://cdn.pydata.org/bokeh/release/bokeh-tables-0.12.16.min.js\", \"https://cdn.pydata.org/bokeh/release/bokeh-gl-0.12.16.min.js\"];\n\n  var inline_js = [\n    function(Bokeh) {\n      Bokeh.set_log_level(\"info\");\n    },\n    \n    function(Bokeh) {\n      \n    },\n    function(Bokeh) {\n      console.log(\"Bokeh: injecting CSS: https://cdn.pydata.org/bokeh/release/bokeh-0.12.16.min.css\");\n      Bokeh.embed.inject_css(\"https://cdn.pydata.org/bokeh/release/bokeh-0.12.16.min.css\");\n      console.log(\"Bokeh: injecting CSS: https://cdn.pydata.org/bokeh/release/bokeh-widgets-0.12.16.min.css\");\n      Bokeh.embed.inject_css(\"https://cdn.pydata.org/bokeh/release/bokeh-widgets-0.12.16.min.css\");\n      console.log(\"Bokeh: injecting CSS: https://cdn.pydata.org/bokeh/release/bokeh-tables-0.12.16.min.css\");\n      Bokeh.embed.inject_css(\"https://cdn.pydata.org/bokeh/release/bokeh-tables-0.12.16.min.css\");\n    }\n  ];\n\n  function run_inline_js() {\n    \n    if ((root.Bokeh !== undefined) || (force === true)) {\n      for (var i = 0; i < inline_js.length; i++) {\n        inline_js[i].call(root, root.Bokeh);\n      }if (force === true) {\n        display_loaded();\n      }} else if (Date.now() < root._bokeh_timeout) {\n      setTimeout(run_inline_js, 100);\n    } else if (!root._bokeh_failed_load) {\n      console.log(\"Bokeh: BokehJS failed to load within specified timeout.\");\n      root._bokeh_failed_load = true;\n    } else if (force !== true) {\n      var cell = $(document.getElementById(\"d37ccff9-81a8-4a21-a40e-8172069a59be\")).parents('.cell').data().cell;\n      cell.output_area.append_execute_result(NB_LOAD_WARNING)\n    }\n\n  }\n\n  if (root._bokeh_is_loading === 0) {\n    console.log(\"Bokeh: BokehJS loaded, going straight to plotting\");\n    run_inline_js();\n  } else {\n    load_libs(js_urls, function() {\n      console.log(\"Bokeh: BokehJS plotting callback run at\", now());\n      run_inline_js();\n    });\n  }\n}(window));"
     },
     "metadata": {},
     "output_type": "display_data"
    }
   ],
   "source": [
    "output_notebook()"
   ]
  },
  {
   "cell_type": "code",
   "execution_count": 8,
   "metadata": {
    "collapsed": true
   },
   "outputs": [],
   "source": [
    "def fmt_cool(ds_in):\n",
    "    ds = ds_in.copy(deep=True)\n",
    "    if 'igg' in ds.dims:\n",
    "        ds = ds.sel(igg=1)\n",
    "\n",
    "    if 'g' in ds.dims:\n",
    "        ds = ds.sum('g')\n",
    "            \n",
    "    if 'band' in ds.dims:\n",
    "        try:\n",
    "            ds = ds.squeeze('band')\n",
    "        except ValueError:\n",
    "            ds = ds.sum('band')\n",
    "                \n",
    "    return ds['coolrg']\n",
    "\n",
    "\n",
    "def pltdata_cooling_1(ds_cool=None,\n",
    "                      ds_cool_crd=None, ds_cool_wgt=None):\n",
    "    \n",
    "\n",
    "\n",
    "    colors = all_palettes['Set1'][4]\n",
    "    data = [{'label': 'CLIRAD `coolr_bands`',\n",
    "             'srs': fmt_cool(ds_cool),\n",
    "             'line_dash': 'dashed', 'line_width': 5,\n",
    "             'color': colors[0], 'alpha': .6},\n",
    "            {'label': 'CRD',\n",
    "             'srs': fmt_cool(ds_cool_crd),\n",
    "             'line_dash': 'solid', 'line_width': 1.5,\n",
    "             'marker': 'circle', 'marker_size': 5,\n",
    "             'color': colors[2], 'alpha': 1,},\n",
    "            {'label': 'WGT igg=10 wgt_flux=2',\n",
    "             'srs': fmt_cool(ds_cool_wgt),\n",
    "             'line_dash': 'solid', 'line_width': 3,\n",
    "             'marker': 'square', 'marker_size': 5,\n",
    "             'color': colors[3], 'alpha': .6}]\n",
    "    return data\n",
    "\n",
    "\n",
    "def nice_xlims(pltdata=None, prange=None):\n",
    "    \n",
    "    def get_slice(srs):\n",
    "        return srs.sel(pressure=slice(*prange))\n",
    "    \n",
    "    srss = [d['srs'] for d in pltdata]\n",
    "    vmin = min([get_slice(srs).min() for srs in srss])\n",
    "    vmax = max([get_slice(srs).max() for srs in srss])\n",
    "    dv = (vmax - vmin) * .01\n",
    "    return float(vmin - dv), float(vmax + dv)\n",
    "    \n",
    "\n",
    "def plt_cooling_bokeh(pltdata=None):\n",
    "    '''\n",
    "    Plot a list of cooling rate profiles using bokeh.\n",
    "    '''\n",
    "    ymin = 1e-2 \n",
    "    ymax = 1020 \n",
    "        \n",
    "    p1 = figure(title=\"Linear pressure scale\", \n",
    "                plot_width=400)        \n",
    "    xmin, xmax = nice_xlims(pltdata, prange=(50, 1050))\n",
    "    for d in pltdata:\n",
    "        if 'marker' in d:\n",
    "            getattr(p1, d['marker'])(d['srs'].values, \n",
    "                    d['srs'].coords['pressure'].values,\n",
    "                    color=d['color'], alpha=.7)\n",
    "        p1.line(d['srs'].values, \n",
    "                d['srs'].coords['pressure'].values,\n",
    "                color=d['color'], alpha=d['alpha'], \n",
    "                line_width=d['line_width'], line_dash=d['line_dash'])\n",
    "    \n",
    "    p1.y_range = Range1d(ymax, ymin)\n",
    "    p1.yaxis.axis_label = 'pressure [mb]'   \n",
    "    p1.x_range = Range1d(xmin, xmax)\n",
    "    p1.xaxis.axis_label = 'cooling rate [K/day]'\n",
    "            \n",
    "    p2 = figure(title='Log pressure scale', y_axis_type='log',\n",
    "                plot_width=560)\n",
    "    xmin, xmax = nice_xlims(pltdata, prange=(.01, 200))\n",
    "    \n",
    "    rs = []\n",
    "    for d in pltdata:\n",
    "        rd = []\n",
    "        if 'marker' in d:\n",
    "            r_mark = getattr(p2, d['marker'])(d['srs'].values, \n",
    "                        d['srs'].coords['pressure'].values,\n",
    "                        color=d['color'], alpha=.7)\n",
    "            rd.append(r_mark)\n",
    "        r_line = p2.line(d['srs'].values, \n",
    "                    d['srs'].coords['pressure'].values,\n",
    "                    color=d['color'], alpha=d['alpha'], \n",
    "                    line_width=d['line_width'], line_dash=d['line_dash'])\n",
    "        rd.append(r_line)\n",
    "      \n",
    "        rs.append(rd)\n",
    "        \n",
    "    p2.y_range = Range1d(ymax, ymin)  \n",
    "    p2.yaxis.axis_label = 'pressure [mb]'\n",
    "    \n",
    "    p2.x_range = Range1d(xmin, xmax)\n",
    "    p2.xaxis.axis_label = 'cooling rate [K/day]'\n",
    "    \n",
    "    items = [(d['label'], r) for r, d in zip(rs, pltdata)]\n",
    "    legend = Legend(items=items, location=(10, -30))\n",
    "    legend.label_text_font_size = '8pt'\n",
    "    \n",
    "    p2.add_layout(legend, 'right')  \n",
    "    \n",
    "    show(gridplot(p1, p2, ncols=2, plot_height=500))\n",
    "    \n",
    "\n",
    "def script_plt_cooling():\n",
    "    pltdata = pltdata_cooling_1(\n",
    "        ds_cool=DS_COOL,\n",
    "        ds_cool_crd=DS_COOL_CRD,\n",
    "        ds_cool_wgt=DS_COOL_WGT)\n",
    "    plt_cooling_bokeh(pltdata=pltdata)\n",
    "    print('''FIGURE. Cooling rate profiles.''')"
   ]
  },
  {
   "cell_type": "code",
   "execution_count": 9,
   "metadata": {
    "collapsed": true
   },
   "outputs": [],
   "source": [
    "def fmt_flux(ds_in):\n",
    "    ds = ds_in.copy(deep=True)\n",
    "    \n",
    "    for l in ('level', 'layer'):\n",
    "        if l in ds.data_vars:\n",
    "            if len(ds[l].dims) > 1:\n",
    "                surface = {d: 0 for d in ds.dims if d != 'pressure'}\n",
    "                coord_level = ds[l][surface]\n",
    "                ds.coords[l] = ('pressure', coord_level)\n",
    "            else:\n",
    "                ds.coords[l] = ('pressure', ds[l])\n",
    "        \n",
    "    ds = ds.isel(pressure=[0, 23, -1])\n",
    "        \n",
    "    if 'igg' in ds.dims:\n",
    "        ds = ds.sel(igg=[1])\n",
    "        ds = ds.squeeze('igg').drop('igg')\n",
    "    \n",
    "    if 'g' in ds.dims:\n",
    "        ds = ds.sum('g')\n",
    "            \n",
    "    if 'band' in ds.dims:\n",
    "        try:\n",
    "            ds = ds.squeeze('band').drop('band')\n",
    "        except ValueError:\n",
    "            ds = ds.sum('band')\n",
    "                \n",
    "    df = ds.to_dataframe()\n",
    "    df = df.set_index('level', append=True)               \n",
    "    return df\n",
    "\n",
    "\n",
    "def tbdata_flux(ds_flux=None, ds_flux_crd=None, ds_flux_wgt=None):\n",
    "    ilevels = [0, 23, -1]\n",
    "            \n",
    "    benchmark = {'label': 'CRD',\n",
    "                 'df': fmt_flux(ds_flux_crd)}\n",
    "    \n",
    "    tbs = [{'label': 'WGT igg=10 wgt_flux=1',\n",
    "            'df': fmt_flux(ds_flux_wgt)},\n",
    "           {'label': 'CLIRAD',\n",
    "            'df': fmt_flux(ds_flux)}]\n",
    "    \n",
    "    data = {'benchmark': benchmark, 'others': tbs}\n",
    "    return data\n",
    "\n",
    "\n",
    "def tb_flux(tbdata=None):\n",
    "    benchmark = tbdata['benchmark']\n",
    "    others = tbdata['others']\n",
    "    \n",
    "    def show_tb(d=None):\n",
    "        display.display(d['df'])\n",
    "        print('Table.', 'Fluxes.', d['label'])\n",
    "        \n",
    "    def show_tbdiff(d0=None, d=None):\n",
    "        df = d['df']\n",
    "        df.index = d0['df'].index\n",
    "        display.display(df - d0['df'])\n",
    "        print('Table.', 'Fluxes.', \n",
    "              '({}) - ({})'.format(d['label'], d0['label']))\n",
    "        \n",
    "    show_tb(benchmark)\n",
    "    for d in others:\n",
    "        show_tb(d)\n",
    "        \n",
    "    for d in others:\n",
    "        show_tbdiff(d=d, d0=benchmark)\n",
    "        \n",
    "        \n",
    "def script_tb_flux():\n",
    "    data = tbdata_flux(ds_flux=DS_FLUX,\n",
    "                       ds_flux_crd=DS_FLUX_CRD,\n",
    "                       ds_flux_wgt=DS_FLUX_WGT)\n",
    "    tb_flux(tbdata=data)"
   ]
  },
  {
   "cell_type": "code",
   "execution_count": 10,
   "metadata": {
    "collapsed": true
   },
   "outputs": [],
   "source": [
    "def band_map():\n",
    "    '''\n",
    "    Maps spectral bands in lblnew to spectral bands in clirad.\n",
    "    '''\n",
    "    lblnew2clirad = {'1': '1',\n",
    "            '2': '2',\n",
    "            '3a': '3',\n",
    "            '3b': '4',\n",
    "            '3c': '5',\n",
    "            '4': '6', \n",
    "            '5': '7',\n",
    "            '6': '8',\n",
    "            '7': '9', \n",
    "            '8': '10',\n",
    "            '9': '11'}\n",
    "    \n",
    "    clirad2lblnew = {clirad: lblnew \n",
    "                     for lblnew, clirad in lblnew2clirad.items()}\n",
    "    return clirad2lblnew\n",
    "\n",
    "\n",
    "def gasbands():\n",
    "    bmap = band_map()\n",
    "    gases = list(PARAM['molecule'].keys())\n",
    "    \n",
    "    bands = [bmap[str(b)] for b in PARAM['band']]\n",
    "    return list(itertools.product(gases, bands))\n",
    "\n",
    "\n",
    "def print_bestfit_params():\n",
    "    print('Best-fit values for each (gas, band)')\n",
    "    print('------------------------------------')\n",
    "    for gas, band in gasbands():\n",
    "        print('o {} band{}'.format(gas, band))\n",
    "        param = bestfits.kdist_params(molecule=gas, band=band)\n",
    "        for name, value in sorted(param.items()):\n",
    "            print(2 * ' ' + '{} = {}'.format(name, value))\n",
    "\n",
    "        \n",
    "def print_input_param():        \n",
    "    for name, value in PARAM.items():\n",
    "        print('{} = {}'.format(name, value))\n",
    "        \n",
    "        \n",
    "def print_lblnew_param():\n",
    "    for name, value in sorted(PARAM_LBLNEW.items()):\n",
    "        print('{} = {}'.format(name, value))\n"
   ]
  },
  {
   "cell_type": "code",
   "execution_count": 11,
   "metadata": {
    "collapsed": true,
    "scrolled": false
   },
   "outputs": [],
   "source": [
    "def show_html(s):\n",
    "    display.display(display.HTML(s))\n",
    "\n",
    "    \n",
    "def show_markdown(s):\n",
    "    display.display(display.Markdown(s))\n",
    "\n",
    "    \n",
    "def script():\n",
    "    \n",
    "    title = '### CLIRAD-LW'\n",
    "    s_input = 'Input Parameters'\n",
    "    s_lblnew_param = 'LBLNEW case compaired against'\n",
    "    s_bestfits = 'Best-fit Parameters'\n",
    "    s_plt_cooling = 'Cooling Rate Profiles'\n",
    "    s_tb_flux = 'Flux Comparison'\n",
    "    \n",
    "    # title\n",
    "    show_markdown('### CLIRAD-LW')\n",
    "    \n",
    "    # TOC\n",
    "    show_markdown('### Table of Contents')\n",
    "    show_html(climahtml.getHTML_hrefanchor(s_input))\n",
    "    show_html(climahtml.getHTML_hrefanchor(s_lblnew_param))\n",
    "    show_html(climahtml.getHTML_hrefanchor(s_plt_cooling))\n",
    "    show_html(climahtml.getHTML_hrefanchor(s_tb_flux))\n",
    "    show_html(climahtml.getHTML_hrefanchor(s_bestfits))\n",
    "    \n",
    "    # Input parameters\n",
    "    show_html(climahtml.getHTML_idanchor(s_input))\n",
    "    show_markdown(climahtml.getMarkdown_sectitle(s_input))\n",
    "    print_input_param()\n",
    "    \n",
    "    # LBLNEW parameters \n",
    "    show_html(climahtml.getHTML_idanchor(s_lblnew_param))\n",
    "    show_markdown(climahtml.getMarkdown_sectitle(s_lblnew_param))\n",
    "    print_lblnew_param()\n",
    "    \n",
    "    # Cooling rate profiles\n",
    "    show_html(climahtml.getHTML_idanchor(s_plt_cooling))\n",
    "    show_markdown(climahtml.getMarkdown_sectitle(s_plt_cooling))\n",
    "    script_plt_cooling()\n",
    "    \n",
    "    # Flux comparison\n",
    "    show_html(climahtml.getHTML_idanchor(s_tb_flux))\n",
    "    show_markdown(climahtml.getMarkdown_sectitle(s_tb_flux))\n",
    "    script_tb_flux()\n",
    "    \n",
    "    # Best-fit values\n",
    "    show_html(climahtml.getHTML_idanchor(s_bestfits))\n",
    "    show_markdown(climahtml.getMarkdown_sectitle(s_bestfits))\n",
    "    print_bestfit_params()\n",
    "   \n",
    "    "
   ]
  },
  {
   "cell_type": "code",
   "execution_count": 12,
   "metadata": {
    "collapsed": true,
    "scrolled": false
   },
   "outputs": [
    {
     "data": {
      "text/markdown": [
       "### CLIRAD-LW"
      ],
      "text/plain": [
       "<IPython.core.display.Markdown object>"
      ]
     },
     "metadata": {},
     "output_type": "display_data"
    },
    {
     "data": {
      "text/markdown": [
       "### Table of Contents"
      ],
      "text/plain": [
       "<IPython.core.display.Markdown object>"
      ]
     },
     "metadata": {},
     "output_type": "display_data"
    },
    {
     "data": {
      "text/html": [
       "<a href=\"#Input_Parameters\">Input Parameters</a>"
      ],
      "text/plain": [
       "<IPython.core.display.HTML object>"
      ]
     },
     "metadata": {},
     "output_type": "display_data"
    },
    {
     "data": {
      "text/html": [
       "<a href=\"#LBLNEW_case_compaired_against\">LBLNEW case compaired against</a>"
      ],
      "text/plain": [
       "<IPython.core.display.HTML object>"
      ]
     },
     "metadata": {},
     "output_type": "display_data"
    },
    {
     "data": {
      "text/html": [
       "<a href=\"#Cooling_Rate_Profiles\">Cooling Rate Profiles</a>"
      ],
      "text/plain": [
       "<IPython.core.display.HTML object>"
      ]
     },
     "metadata": {},
     "output_type": "display_data"
    },
    {
     "data": {
      "text/html": [
       "<a href=\"#Flux_Comparison\">Flux Comparison</a>"
      ],
      "text/plain": [
       "<IPython.core.display.HTML object>"
      ]
     },
     "metadata": {},
     "output_type": "display_data"
    },
    {
     "data": {
      "text/html": [
       "<a href=\"#Best-fit_Parameters\">Best-fit Parameters</a>"
      ],
      "text/plain": [
       "<IPython.core.display.HTML object>"
      ]
     },
     "metadata": {},
     "output_type": "display_data"
    },
    {
     "data": {
      "text/html": [
       "<a id=\"Input_Parameters\"></a>"
      ],
      "text/plain": [
       "<IPython.core.display.HTML object>"
      ]
     },
     "metadata": {},
     "output_type": "display_data"
    },
    {
     "data": {
      "text/markdown": [
       "# Input Parameters"
      ],
      "text/plain": [
       "<IPython.core.display.Markdown object>"
      ]
     },
     "metadata": {},
     "output_type": "display_data"
    },
    {
     "name": "stdout",
     "output_type": "stream",
     "text": [
      "atmpro = saw\n",
      "band = [8]\n",
      "commitnumber = 9409510\n",
      "molecule = {'n2o': 3.2e-07}\n",
      "tsfc = 257\n"
     ]
    },
    {
     "data": {
      "text/html": [
       "<a id=\"LBLNEW_case_compaired_against\"></a>"
      ],
      "text/plain": [
       "<IPython.core.display.HTML object>"
      ]
     },
     "metadata": {},
     "output_type": "display_data"
    },
    {
     "data": {
      "text/markdown": [
       "# LBLNEW case compaired against"
      ],
      "text/plain": [
       "<IPython.core.display.Markdown object>"
      ]
     },
     "metadata": {},
     "output_type": "display_data"
    },
    {
     "name": "stdout",
     "output_type": "stream",
     "text": [
      "atmpro = saw\n",
      "band = 6\n",
      "commitnumber = bca49ce\n",
      "conc = 3.2e-07\n",
      "dv = 0.005\n",
      "klin = 0\n",
      "molecule = n2o\n",
      "ng_adju = [0]\n",
      "ng_refs = [1]\n",
      "nv = 200\n",
      "option_compute_btable = 0\n",
      "option_compute_ktable = 0\n",
      "option_wgt_flux = 1\n",
      "option_wgt_k = 1\n",
      "ref_pts = [(500, 250)]\n",
      "tsfc = 257\n",
      "vmax = 1215\n",
      "vmin = 1100\n",
      "w_diffuse = [(1.66,)]\n",
      "wgt = [(0.95,)]\n"
     ]
    },
    {
     "data": {
      "text/html": [
       "<a id=\"Cooling_Rate_Profiles\"></a>"
      ],
      "text/plain": [
       "<IPython.core.display.HTML object>"
      ]
     },
     "metadata": {},
     "output_type": "display_data"
    },
    {
     "data": {
      "text/markdown": [
       "# Cooling Rate Profiles"
      ],
      "text/plain": [
       "<IPython.core.display.Markdown object>"
      ]
     },
     "metadata": {},
     "output_type": "display_data"
    },
    {
     "data": {
      "text/html": [
       "\n",
       "<div class=\"bk-root\">\n",
       "    <div class=\"bk-plotdiv\" id=\"151a868d-928e-4b6d-8ef4-846f4a175820\"></div>\n",
       "</div>"
      ]
     },
     "metadata": {},
     "output_type": "display_data"
    },
    {
     "data": {
      "application/javascript": [
       "(function(root) {\n",
       "  function embed_document(root) {\n",
       "    \n",
       "  var docs_json = {\"fe9e821b-376b-475d-b830-b22e0bbd8aa0\":{\"roots\":{\"references\":[{\"attributes\":{},\"id\":\"e3dbf6b5-114c-4bfd-91e1-92f8eb467650\",\"type\":\"Selection\"},{\"attributes\":{\"children\":[{\"id\":\"acb44823-b643-4f63-b20c-e09078cfdcb6\",\"type\":\"ToolbarBox\"},{\"id\":\"1fd720d5-3c8d-46b7-adfb-aca2cc9a39d8\",\"type\":\"Column\"}]},\"id\":\"f5792db7-3608-4931-bdd9-96b3f564dc7a\",\"type\":\"Column\"},{\"attributes\":{\"tools\":[{\"id\":\"6f7b47b1-f679-4a7e-abf2-20caaaa0eb94\",\"type\":\"PanTool\"},{\"id\":\"c851c4f4-3c17-4cd6-ae57-c582854ec915\",\"type\":\"WheelZoomTool\"},{\"id\":\"058ce71e-e9c3-47d5-90fa-aa485324289c\",\"type\":\"BoxZoomTool\"},{\"id\":\"161c662e-7a60-4f69-8c78-6af8bfde1c72\",\"type\":\"SaveTool\"},{\"id\":\"f2139003-1c1a-4e23-89f9-7946828974c0\",\"type\":\"ResetTool\"},{\"id\":\"a828a736-098c-4b62-87a1-8b0f423365d4\",\"type\":\"HelpTool\"},{\"id\":\"79016984-7a4c-40d9-8970-7e9a3284475f\",\"type\":\"PanTool\"},{\"id\":\"f3e106c8-5f2f-4cbc-ad0e-2e6749cd52e6\",\"type\":\"WheelZoomTool\"},{\"id\":\"e65d852e-1292-411d-b95b-f6c3e994d442\",\"type\":\"BoxZoomTool\"},{\"id\":\"d99f93cd-4099-41f9-90f5-24700f0a922e\",\"type\":\"SaveTool\"},{\"id\":\"5b48e37d-9f1f-4dcc-ad3d-ac9b3ae8d0de\",\"type\":\"ResetTool\"},{\"id\":\"02f52625-1a88-445c-850e-135f1935b718\",\"type\":\"HelpTool\"}]},\"id\":\"4b5475ff-1def-4fa8-b35d-e478593d7536\",\"type\":\"ProxyToolbar\"},{\"attributes\":{\"callback\":null,\"end\":0.003472801535,\"start\":-0.001337318035},\"id\":\"82e8d525-9dd3-46bd-8775-b88cb0c30e6a\",\"type\":\"Range1d\"},{\"attributes\":{\"below\":[{\"id\":\"716f33c9-c977-4c22-a71f-0f647714491a\",\"type\":\"LinearAxis\"}],\"left\":[{\"id\":\"8a393ed8-3a2d-46cb-9d8c-aa8b8a4e1929\",\"type\":\"LogAxis\"}],\"plot_height\":500,\"plot_width\":560,\"renderers\":[{\"id\":\"716f33c9-c977-4c22-a71f-0f647714491a\",\"type\":\"LinearAxis\"},{\"id\":\"7f15a3b5-822f-4b88-80da-1e4d6c98a038\",\"type\":\"Grid\"},{\"id\":\"8a393ed8-3a2d-46cb-9d8c-aa8b8a4e1929\",\"type\":\"LogAxis\"},{\"id\":\"9d2cbd1c-339c-49ed-a516-006776f63437\",\"type\":\"Grid\"},{\"id\":\"6a8fad85-752b-4892-aad9-463222afde88\",\"type\":\"BoxAnnotation\"},{\"id\":\"0f145600-e2af-46aa-8e27-93a57b24c83e\",\"type\":\"GlyphRenderer\"},{\"id\":\"22c354ea-89d3-422d-99d7-87d6e5bbc875\",\"type\":\"GlyphRenderer\"},{\"id\":\"07bfa0fb-56e5-4875-977f-c98efe475869\",\"type\":\"GlyphRenderer\"},{\"id\":\"33d95df3-eef6-4700-a0c3-a13cebc70e80\",\"type\":\"GlyphRenderer\"},{\"id\":\"a199ecf1-d9a7-41f9-89c4-ae8cad83773a\",\"type\":\"GlyphRenderer\"},{\"id\":\"fefa9eed-3033-4434-83a0-0c580788739e\",\"type\":\"Legend\"}],\"right\":[{\"id\":\"fefa9eed-3033-4434-83a0-0c580788739e\",\"type\":\"Legend\"}],\"title\":{\"id\":\"1634e0a3-3cac-4355-9940-37ffb24cc813\",\"type\":\"Title\"},\"toolbar\":{\"id\":\"18d0802c-1bf9-486c-862d-d4e45ed972d6\",\"type\":\"Toolbar\"},\"toolbar_location\":null,\"x_range\":{\"id\":\"9718b9e4-1aca-4ff5-9269-11bbc7f20f13\",\"type\":\"Range1d\"},\"x_scale\":{\"id\":\"7dfaa9de-4c44-4b86-ad2c-d25d988906b9\",\"type\":\"LinearScale\"},\"y_range\":{\"id\":\"334cde4a-a1f1-46e1-bef4-db479b553bc9\",\"type\":\"Range1d\"},\"y_scale\":{\"id\":\"e9b193c8-f4dc-4ecd-82ae-604c3c6eb35c\",\"type\":\"LogScale\"}},\"id\":\"c770f480-4b7d-474b-b07b-2f4bb79bd528\",\"subtype\":\"Figure\",\"type\":\"Plot\"},{\"attributes\":{\"source\":{\"id\":\"b1cf77cd-ee31-47dd-8fcb-64a65ffded99\",\"type\":\"ColumnDataSource\"}},\"id\":\"30c8232e-0c69-4b97-864f-2bdd7aa52417\",\"type\":\"CDSView\"},{\"attributes\":{},\"id\":\"45afcd1b-3ceb-4a5b-9522-d1e2419df95c\",\"type\":\"LinearScale\"},{\"attributes\":{\"data_source\":{\"id\":\"a42d40c6-c610-4163-a036-04143795ae03\",\"type\":\"ColumnDataSource\"},\"glyph\":{\"id\":\"d014fe18-95b3-4e11-959f-549b0aca93cc\",\"type\":\"Square\"},\"hover_glyph\":null,\"muted_glyph\":null,\"nonselection_glyph\":{\"id\":\"937e0f13-9312-4e6d-96ca-9d8edae15ef6\",\"type\":\"Square\"},\"selection_glyph\":null,\"view\":{\"id\":\"4660cdfa-aac1-4467-af3a-31b668e908dc\",\"type\":\"CDSView\"}},\"id\":\"2cc63859-011d-408d-a697-cfdac4a5f180\",\"type\":\"GlyphRenderer\"},{\"attributes\":{\"data_source\":{\"id\":\"a12fcda9-d8d5-4058-ba0d-5b15bdf272cb\",\"type\":\"ColumnDataSource\"},\"glyph\":{\"id\":\"74045559-8dfa-42e8-add9-a01961c8cad3\",\"type\":\"Line\"},\"hover_glyph\":null,\"muted_glyph\":null,\"nonselection_glyph\":{\"id\":\"2165dd3a-b1cf-40f5-b161-caf149db2d4a\",\"type\":\"Line\"},\"selection_glyph\":null,\"view\":{\"id\":\"17b1eb31-b07d-455c-bcac-105709561a5b\",\"type\":\"CDSView\"}},\"id\":\"852005cf-847d-4cd6-9147-963a835cdc48\",\"type\":\"GlyphRenderer\"},{\"attributes\":{},\"id\":\"089de803-b93f-41b3-8d43-ace50ea3c326\",\"type\":\"BasicTicker\"},{\"attributes\":{\"line_alpha\":0.6,\"line_color\":\"#984ea3\",\"line_width\":3,\"x\":{\"field\":\"x\"},\"y\":{\"field\":\"y\"}},\"id\":\"74045559-8dfa-42e8-add9-a01961c8cad3\",\"type\":\"Line\"},{\"attributes\":{},\"id\":\"4fd9c6ef-b47f-4934-85c6-4fba7c286a3f\",\"type\":\"LinearScale\"},{\"attributes\":{\"callback\":null,\"data\":{\"x\":{\"__ndarray__\":\"S27eQXYaVb8g2xxp3BtUvzNVziQT81G/0Gf7MdgWT7++y20uaM5Jv+X4CfikA0S/qLn3eiVYO78pQYCw3/Yqvz8Vu22h+Pk+EC183i4QMj8OmWzSS/dBP5gK7Nghqks/Ld2zHt0QUz98a3D7Vg1YP+sW8wanJFw/vW9eTiDbXz9SiYB9U9xhP8JWlAgQ4mM/SPb7U2AAZj8ejL4cmzhoP/qMXbyFUGo/zoe9UgrBaD8TV9ksk7BiPxuIeRduR1g/DlwPrtofSj9OmXw2bNMrPxYanL5TuzK/KptoPx6jRb/6t63fY59NvyLy9/lRx1G/0TDa/mxfVL/X7YUkoHJWv0HvpgfAGVe/o2QT1EBQVr9HQWzAUiNVvzn/lguT7FO/UKn4WYr/Ur/AOxeUUuFSv0MRXryQ51K/rwSMVoD7Ur+8r8Sn6w5Tv91tw1E+MFO/ZmHrNDtbU7+bIVTviWpTvxkpCQHoVFO/C9Kx51AdUr8b0w2iDLJOv7m5SWy9dke/wVBZm9u9P7+tvPZ4Oz4wv5KwyTSCjN++M2azp3vdLT/2JSo64xI/P5dM3HoflUc/TPHdHnqZTz9u1TPV87RTPzdCIpA7g1c/z6i97AVEWz+Eknw/UtheP7MborekHWE/0NzVt4SmYj8bqn0R6CBkP2KbIGcrgWU/7kgoRuXJZj9z2TQr5flnP+oVb5RXD2k/dGFKOkgcaj9s8/qoSghrPx6ujgBLvms/UrCbWRgQbD/J24B9o/5rP5kUSh/tkWs/DujWOffvaj/S59Y0PjZqPywNWNA9bWk/\",\"dtype\":\"float64\",\"shape\":[75]},\"y\":{\"__ndarray__\":\"GhExyth1ND/Sv8nbtpRIP2vylNV0PVE/aTum7souWD/At0SJ8fVgPw3Iuahxymc/MSNhhJWvcD/bTfBN02d3P2zb5nxnaoA/CD5h5MAGhz8NmeH1TyaQP+zrCsc9p5Y/LbKd76fGnz/bLW5ISEmmPww9YvTcQq8/JV2OstnstT8Er5Y7M8G+P0c+r3jqkcU/5h99k6ZBzj88bCIzFzjVP4enV8oyxN0//yH99nXg5D8qOpLLf0jtP5kqGJXUifQ/c9cS8kHP/D+/DpwzojQEQIEmwoanVwxA4lgXt9HgE0BSSZ2AJuIbQAMJih9jjiNA5q4l5INuK0AwTKYKRj0zQNv5fmq8/DpAaCJseHrtQkB/+zpwzoxKQM3MzMzMeFJAZmZmZmZqWEAAAAAAAFxeQM3MzMzMJmJAmpmZmZkfZUBmZmZmZhhoQDMzMzMzEWtAAAAAAAAKbkBmZmZmZoFwQM3MzMzM/XFAMzMzMzN6c0CamZmZmfZ0QAAAAAAAc3ZAZmZmZmbvd0DNzMzMzGt5QDMzMzMz6HpAmpmZmZlkfEAAAAAAAOF9QGZmZmZmXX9AZmZmZuZsgECamZmZGSuBQM3MzMxM6YFAAAAAAICngkAzMzMzs2WDQGZmZmbmI4RAmpmZmRnihEDNzMzMTKCFQAAAAACAXoZAMzMzM7Mch0BmZmZm5tqHQJqZmZkZmYhAzczMzExXiUAAAAAAgBWKQDMzMzOz04pAZmZmZuaRi0CamZmZGVCMQM3MzMxMDo1AAAAAAIDMjUAzMzMzs4qOQGZmZmbmSI9A\",\"dtype\":\"float64\",\"shape\":[75]}},\"selected\":{\"id\":\"c41041c9-e073-4af3-8571-c8ddcb8b1a25\",\"type\":\"Selection\"},\"selection_policy\":{\"id\":\"e5723b7d-cd55-41c5-922f-895d66cc8af4\",\"type\":\"UnionRenderers\"}},\"id\":\"a42d40c6-c610-4163-a036-04143795ae03\",\"type\":\"ColumnDataSource\"},{\"attributes\":{\"source\":{\"id\":\"a12fcda9-d8d5-4058-ba0d-5b15bdf272cb\",\"type\":\"ColumnDataSource\"}},\"id\":\"17b1eb31-b07d-455c-bcac-105709561a5b\",\"type\":\"CDSView\"},{\"attributes\":{},\"id\":\"6f7b47b1-f679-4a7e-abf2-20caaaa0eb94\",\"type\":\"PanTool\"},{\"attributes\":{},\"id\":\"c851c4f4-3c17-4cd6-ae57-c582854ec915\",\"type\":\"WheelZoomTool\"},{\"attributes\":{\"overlay\":{\"id\":\"fbdcf30c-26f9-42a0-a221-56cf1d0a2b60\",\"type\":\"BoxAnnotation\"}},\"id\":\"058ce71e-e9c3-47d5-90fa-aa485324289c\",\"type\":\"BoxZoomTool\"},{\"attributes\":{},\"id\":\"161c662e-7a60-4f69-8c78-6af8bfde1c72\",\"type\":\"SaveTool\"},{\"attributes\":{\"fill_alpha\":{\"value\":0.7},\"fill_color\":{\"value\":\"#984ea3\"},\"line_alpha\":{\"value\":0.7},\"line_color\":{\"value\":\"#984ea3\"},\"x\":{\"field\":\"x\"},\"y\":{\"field\":\"y\"}},\"id\":\"d014fe18-95b3-4e11-959f-549b0aca93cc\",\"type\":\"Square\"},{\"attributes\":{\"items\":[{\"id\":\"e2da2a58-7718-427f-9fac-d466471584af\",\"type\":\"LegendItem\"},{\"id\":\"b996ae5e-1068-4569-bd61-eaeefa46017c\",\"type\":\"LegendItem\"},{\"id\":\"802e9220-3580-4b00-a3c6-2d4a642617e4\",\"type\":\"LegendItem\"}],\"label_text_font_size\":{\"value\":\"8pt\"},\"location\":[10,-30],\"plot\":{\"id\":\"c770f480-4b7d-474b-b07b-2f4bb79bd528\",\"subtype\":\"Figure\",\"type\":\"Plot\"}},\"id\":\"fefa9eed-3033-4434-83a0-0c580788739e\",\"type\":\"Legend\"},{\"attributes\":{\"line_alpha\":0.1,\"line_color\":\"#1f77b4\",\"line_width\":1.5,\"x\":{\"field\":\"x\"},\"y\":{\"field\":\"y\"}},\"id\":\"e8afdc74-529b-45a9-84d1-6a5b44248af0\",\"type\":\"Line\"},{\"attributes\":{\"axis_label\":\"cooling rate [K/day]\",\"formatter\":{\"id\":\"0ec7a5ae-7e95-47ed-82e7-661cba1f67d2\",\"type\":\"BasicTickFormatter\"},\"plot\":{\"id\":\"03d64d67-7246-4b61-a63f-5432ae0a3b92\",\"subtype\":\"Figure\",\"type\":\"Plot\"},\"ticker\":{\"id\":\"089de803-b93f-41b3-8d43-ace50ea3c326\",\"type\":\"BasicTicker\"}},\"id\":\"05500983-cc13-49b5-bcab-5724ddb27ad7\",\"type\":\"LinearAxis\"},{\"attributes\":{\"below\":[{\"id\":\"05500983-cc13-49b5-bcab-5724ddb27ad7\",\"type\":\"LinearAxis\"}],\"left\":[{\"id\":\"d41a2ed6-2008-4c4d-9530-848e907bbd9c\",\"type\":\"LinearAxis\"}],\"plot_height\":500,\"plot_width\":400,\"renderers\":[{\"id\":\"05500983-cc13-49b5-bcab-5724ddb27ad7\",\"type\":\"LinearAxis\"},{\"id\":\"f758e538-9652-49b8-a307-52537cf43a94\",\"type\":\"Grid\"},{\"id\":\"d41a2ed6-2008-4c4d-9530-848e907bbd9c\",\"type\":\"LinearAxis\"},{\"id\":\"7c72cc57-6bca-407e-85df-b55f70fc9854\",\"type\":\"Grid\"},{\"id\":\"fbdcf30c-26f9-42a0-a221-56cf1d0a2b60\",\"type\":\"BoxAnnotation\"},{\"id\":\"b3265e22-cead-473c-841d-6ff7ed8f115a\",\"type\":\"GlyphRenderer\"},{\"id\":\"fbcd1caf-a89c-4940-ab5f-71cc5a528807\",\"type\":\"GlyphRenderer\"},{\"id\":\"4c0b2322-2596-4f84-bc60-a0aa085e96d2\",\"type\":\"GlyphRenderer\"},{\"id\":\"2cc63859-011d-408d-a697-cfdac4a5f180\",\"type\":\"GlyphRenderer\"},{\"id\":\"852005cf-847d-4cd6-9147-963a835cdc48\",\"type\":\"GlyphRenderer\"}],\"title\":{\"id\":\"08224639-5a94-4671-882f-861f367f1dd7\",\"type\":\"Title\"},\"toolbar\":{\"id\":\"3586bd70-2380-4388-b7a0-ef3754b8a4bb\",\"type\":\"Toolbar\"},\"toolbar_location\":null,\"x_range\":{\"id\":\"82e8d525-9dd3-46bd-8775-b88cb0c30e6a\",\"type\":\"Range1d\"},\"x_scale\":{\"id\":\"4fd9c6ef-b47f-4934-85c6-4fba7c286a3f\",\"type\":\"LinearScale\"},\"y_range\":{\"id\":\"9a3c581a-3b29-4e0a-9d87-4313a7e9730f\",\"type\":\"Range1d\"},\"y_scale\":{\"id\":\"45afcd1b-3ceb-4a5b-9522-d1e2419df95c\",\"type\":\"LinearScale\"}},\"id\":\"03d64d67-7246-4b61-a63f-5432ae0a3b92\",\"subtype\":\"Figure\",\"type\":\"Plot\"},{\"attributes\":{\"fill_alpha\":{\"value\":0.1},\"fill_color\":{\"value\":\"#1f77b4\"},\"line_alpha\":{\"value\":0.1},\"line_color\":{\"value\":\"#1f77b4\"},\"x\":{\"field\":\"x\"},\"y\":{\"field\":\"y\"}},\"id\":\"937e0f13-9312-4e6d-96ca-9d8edae15ef6\",\"type\":\"Square\"},{\"attributes\":{\"callback\":null,\"data\":{\"x\":{\"__ndarray__\":\"S27eQXYaVb8g2xxp3BtUvzNVziQT81G/0Gf7MdgWT7++y20uaM5Jv+X4CfikA0S/qLn3eiVYO78pQYCw3/Yqvz8Vu22h+Pk+EC183i4QMj8OmWzSS/dBP5gK7Nghqks/Ld2zHt0QUz98a3D7Vg1YP+sW8wanJFw/vW9eTiDbXz9SiYB9U9xhP8JWlAgQ4mM/SPb7U2AAZj8ejL4cmzhoP/qMXbyFUGo/zoe9UgrBaD8TV9ksk7BiPxuIeRduR1g/DlwPrtofSj9OmXw2bNMrPxYanL5TuzK/KptoPx6jRb/6t63fY59NvyLy9/lRx1G/0TDa/mxfVL/X7YUkoHJWv0HvpgfAGVe/o2QT1EBQVr9HQWzAUiNVvzn/lguT7FO/UKn4WYr/Ur/AOxeUUuFSv0MRXryQ51K/rwSMVoD7Ur+8r8Sn6w5Tv91tw1E+MFO/ZmHrNDtbU7+bIVTviWpTvxkpCQHoVFO/C9Kx51AdUr8b0w2iDLJOv7m5SWy9dke/wVBZm9u9P7+tvPZ4Oz4wv5KwyTSCjN++M2azp3vdLT/2JSo64xI/P5dM3HoflUc/TPHdHnqZTz9u1TPV87RTPzdCIpA7g1c/z6i97AVEWz+Eknw/UtheP7MborekHWE/0NzVt4SmYj8bqn0R6CBkP2KbIGcrgWU/7kgoRuXJZj9z2TQr5flnP+oVb5RXD2k/dGFKOkgcaj9s8/qoSghrPx6ujgBLvms/UrCbWRgQbD/J24B9o/5rP5kUSh/tkWs/DujWOffvaj/S59Y0PjZqPywNWNA9bWk/\",\"dtype\":\"float64\",\"shape\":[75]},\"y\":{\"__ndarray__\":\"GhExyth1ND/Sv8nbtpRIP2vylNV0PVE/aTum7souWD/At0SJ8fVgPw3Iuahxymc/MSNhhJWvcD/bTfBN02d3P2zb5nxnaoA/CD5h5MAGhz8NmeH1TyaQP+zrCsc9p5Y/LbKd76fGnz/bLW5ISEmmPww9YvTcQq8/JV2OstnstT8Er5Y7M8G+P0c+r3jqkcU/5h99k6ZBzj88bCIzFzjVP4enV8oyxN0//yH99nXg5D8qOpLLf0jtP5kqGJXUifQ/c9cS8kHP/D+/DpwzojQEQIEmwoanVwxA4lgXt9HgE0BSSZ2AJuIbQAMJih9jjiNA5q4l5INuK0AwTKYKRj0zQNv5fmq8/DpAaCJseHrtQkB/+zpwzoxKQM3MzMzMeFJAZmZmZmZqWEAAAAAAAFxeQM3MzMzMJmJAmpmZmZkfZUBmZmZmZhhoQDMzMzMzEWtAAAAAAAAKbkBmZmZmZoFwQM3MzMzM/XFAMzMzMzN6c0CamZmZmfZ0QAAAAAAAc3ZAZmZmZmbvd0DNzMzMzGt5QDMzMzMz6HpAmpmZmZlkfEAAAAAAAOF9QGZmZmZmXX9AZmZmZuZsgECamZmZGSuBQM3MzMxM6YFAAAAAAICngkAzMzMzs2WDQGZmZmbmI4RAmpmZmRnihEDNzMzMTKCFQAAAAACAXoZAMzMzM7Mch0BmZmZm5tqHQJqZmZkZmYhAzczMzExXiUAAAAAAgBWKQDMzMzOz04pAZmZmZuaRi0CamZmZGVCMQM3MzMxMDo1AAAAAAIDMjUAzMzMzs4qOQGZmZmbmSI9A\",\"dtype\":\"float64\",\"shape\":[75]}},\"selected\":{\"id\":\"92f5c9f9-a39e-4006-b810-ea76da031c89\",\"type\":\"Selection\"},\"selection_policy\":{\"id\":\"38b04782-2077-4827-8808-2aa8c469adef\",\"type\":\"UnionRenderers\"}},\"id\":\"a12fcda9-d8d5-4058-ba0d-5b15bdf272cb\",\"type\":\"ColumnDataSource\"},{\"attributes\":{\"axis_label\":\"pressure [mb]\",\"formatter\":{\"id\":\"541529ae-ef87-4300-b41a-e28666b92d8b\",\"type\":\"BasicTickFormatter\"},\"plot\":{\"id\":\"03d64d67-7246-4b61-a63f-5432ae0a3b92\",\"subtype\":\"Figure\",\"type\":\"Plot\"},\"ticker\":{\"id\":\"bc48526c-3663-4df8-9ebd-fd3c72e5a5cb\",\"type\":\"BasicTicker\"}},\"id\":\"d41a2ed6-2008-4c4d-9530-848e907bbd9c\",\"type\":\"LinearAxis\"},{\"attributes\":{\"line_alpha\":0.6,\"line_color\":\"#e41a1c\",\"line_dash\":[6],\"line_width\":5,\"x\":{\"field\":\"x\"},\"y\":{\"field\":\"y\"}},\"id\":\"93f71b8e-cf30-4868-b75c-972503234b80\",\"type\":\"Line\"},{\"attributes\":{\"callback\":null,\"end\":0.01,\"start\":1020},\"id\":\"334cde4a-a1f1-46e1-bef4-db479b553bc9\",\"type\":\"Range1d\"},{\"attributes\":{\"active_drag\":\"auto\",\"active_inspect\":\"auto\",\"active_scroll\":\"auto\",\"active_tap\":\"auto\",\"tools\":[{\"id\":\"6f7b47b1-f679-4a7e-abf2-20caaaa0eb94\",\"type\":\"PanTool\"},{\"id\":\"c851c4f4-3c17-4cd6-ae57-c582854ec915\",\"type\":\"WheelZoomTool\"},{\"id\":\"058ce71e-e9c3-47d5-90fa-aa485324289c\",\"type\":\"BoxZoomTool\"},{\"id\":\"161c662e-7a60-4f69-8c78-6af8bfde1c72\",\"type\":\"SaveTool\"},{\"id\":\"f2139003-1c1a-4e23-89f9-7946828974c0\",\"type\":\"ResetTool\"},{\"id\":\"a828a736-098c-4b62-87a1-8b0f423365d4\",\"type\":\"HelpTool\"}]},\"id\":\"3586bd70-2380-4388-b7a0-ef3754b8a4bb\",\"type\":\"Toolbar\"},{\"attributes\":{\"source\":{\"id\":\"a42d40c6-c610-4163-a036-04143795ae03\",\"type\":\"ColumnDataSource\"}},\"id\":\"4660cdfa-aac1-4467-af3a-31b668e908dc\",\"type\":\"CDSView\"},{\"attributes\":{\"plot\":null,\"text\":\"Linear pressure scale\"},\"id\":\"08224639-5a94-4671-882f-861f367f1dd7\",\"type\":\"Title\"},{\"attributes\":{},\"id\":\"bc48526c-3663-4df8-9ebd-fd3c72e5a5cb\",\"type\":\"BasicTicker\"},{\"attributes\":{\"dimension\":1,\"plot\":{\"id\":\"03d64d67-7246-4b61-a63f-5432ae0a3b92\",\"subtype\":\"Figure\",\"type\":\"Plot\"},\"ticker\":{\"id\":\"bc48526c-3663-4df8-9ebd-fd3c72e5a5cb\",\"type\":\"BasicTicker\"}},\"id\":\"7c72cc57-6bca-407e-85df-b55f70fc9854\",\"type\":\"Grid\"},{\"attributes\":{\"plot\":{\"id\":\"03d64d67-7246-4b61-a63f-5432ae0a3b92\",\"subtype\":\"Figure\",\"type\":\"Plot\"},\"ticker\":{\"id\":\"089de803-b93f-41b3-8d43-ace50ea3c326\",\"type\":\"BasicTicker\"}},\"id\":\"f758e538-9652-49b8-a307-52537cf43a94\",\"type\":\"Grid\"},{\"attributes\":{\"bottom_units\":\"screen\",\"fill_alpha\":{\"value\":0.5},\"fill_color\":{\"value\":\"lightgrey\"},\"left_units\":\"screen\",\"level\":\"overlay\",\"line_alpha\":{\"value\":1.0},\"line_color\":{\"value\":\"black\"},\"line_dash\":[4,4],\"line_width\":{\"value\":2},\"plot\":null,\"render_mode\":\"css\",\"right_units\":\"screen\",\"top_units\":\"screen\"},\"id\":\"fbdcf30c-26f9-42a0-a221-56cf1d0a2b60\",\"type\":\"BoxAnnotation\"},{\"attributes\":{\"line_alpha\":0.1,\"line_color\":\"#1f77b4\",\"line_width\":3,\"x\":{\"field\":\"x\"},\"y\":{\"field\":\"y\"}},\"id\":\"2165dd3a-b1cf-40f5-b161-caf149db2d4a\",\"type\":\"Line\"},{\"attributes\":{\"data_source\":{\"id\":\"b1cf77cd-ee31-47dd-8fcb-64a65ffded99\",\"type\":\"ColumnDataSource\"},\"glyph\":{\"id\":\"95974759-a01b-4b35-a9ff-a7d34713daa7\",\"type\":\"Line\"},\"hover_glyph\":null,\"muted_glyph\":null,\"nonselection_glyph\":{\"id\":\"e8afdc74-529b-45a9-84d1-6a5b44248af0\",\"type\":\"Line\"},\"selection_glyph\":null,\"view\":{\"id\":\"30c8232e-0c69-4b97-864f-2bdd7aa52417\",\"type\":\"CDSView\"}},\"id\":\"4c0b2322-2596-4f84-bc60-a0aa085e96d2\",\"type\":\"GlyphRenderer\"},{\"attributes\":{},\"id\":\"a828a736-098c-4b62-87a1-8b0f423365d4\",\"type\":\"HelpTool\"},{\"attributes\":{},\"id\":\"f2139003-1c1a-4e23-89f9-7946828974c0\",\"type\":\"ResetTool\"},{\"attributes\":{\"data_source\":{\"id\":\"e2fc7147-3bdb-4bdc-bbbf-bd7530032d12\",\"type\":\"ColumnDataSource\"},\"glyph\":{\"id\":\"775e3411-b8cd-4778-8884-db9850ccbe8b\",\"type\":\"Line\"},\"hover_glyph\":null,\"muted_glyph\":null,\"nonselection_glyph\":{\"id\":\"3a5ff344-05e5-4b37-8ec7-627073a927a9\",\"type\":\"Line\"},\"selection_glyph\":null,\"view\":{\"id\":\"eb2bdc8d-cae4-4a43-b46d-c9dc8a100564\",\"type\":\"CDSView\"}},\"id\":\"0f145600-e2af-46aa-8e27-93a57b24c83e\",\"type\":\"GlyphRenderer\"},{\"attributes\":{\"axis_label\":\"cooling rate [K/day]\",\"formatter\":{\"id\":\"f96329d4-ff8f-47cb-8d4d-a8a206797bcb\",\"type\":\"BasicTickFormatter\"},\"plot\":{\"id\":\"c770f480-4b7d-474b-b07b-2f4bb79bd528\",\"subtype\":\"Figure\",\"type\":\"Plot\"},\"ticker\":{\"id\":\"e7e1a343-12be-482d-b212-3cda9a637b01\",\"type\":\"BasicTicker\"}},\"id\":\"716f33c9-c977-4c22-a71f-0f647714491a\",\"type\":\"LinearAxis\"},{\"attributes\":{\"line_color\":\"#4daf4a\",\"line_width\":1.5,\"x\":{\"field\":\"x\"},\"y\":{\"field\":\"y\"}},\"id\":\"b556fd35-acdc-49b3-88fc-a8ddce70a3de\",\"type\":\"Line\"},{\"attributes\":{\"fill_alpha\":{\"value\":0.1},\"fill_color\":{\"value\":\"#1f77b4\"},\"line_alpha\":{\"value\":0.1},\"line_color\":{\"value\":\"#1f77b4\"},\"x\":{\"field\":\"x\"},\"y\":{\"field\":\"y\"}},\"id\":\"c7f59e2f-4ef4-4ffa-9418-681f0faf95a4\",\"type\":\"Square\"},{\"attributes\":{},\"id\":\"02f52625-1a88-445c-850e-135f1935b718\",\"type\":\"HelpTool\"},{\"attributes\":{\"callback\":null,\"data\":{\"x\":{\"__ndarray__\":\"/Qmu+uPLOb/9WIlQq4Y1vxs+Iv54iCi/UqGC1mWV/76jqFmopp4iPwEnl6MgqDU/qeaj92mRQT9Okhy6fOlIP3I7xNeIdFA/xcYfufPMVD8k5F9qlIVZP7senRqupV4/A+vz8mYWYj/Yj6A6TrhkP7Tyyc0i4mY/cmdUULnYaD/2fr8pR+BqP+g1EjoK/Ww/uJtxbA4vbz9lBa5Pmr1wP8Rm5lu90HE/swd4IJv1cD8LzI+ig3NrP7ohX2TvdWQ/l+UJ0nXyXD+VBGWxjbNSPzJeIHV170M/N0kTECXFKj+NI9VY4CoRv3Ti6iJcHTK/CE4lS6//Pr+5cxibzlNFv8OFwQv/t0i/FM8psOKRSb+IRxTI9v1Jv47MO0DLiUq/4T5deFNgS79b9bhWuQFNvxv7/FsaCU+/LmfdYNtrUL/4NJTLYDtRv10nanPg+FG/YuX9o2KoUr8P5Do0jktTvxsUs/hyulO/BvN+tCTtUr83NvrlllhQv703CO851Em/z3j6SuyZQr/bZIzDJFI2vyaHzX7JXRy/4FK8qfjXID8BIzqqxiQ4PyIBM2FR/UM/bV9Ztu/nSz97TwkyAOBRP5EFyjqcuFU/C4YASgZzWT+maHBR6QRdPxvOe+r4MmA/+Yi//hDIYT8M9n09AUJjPzhWNrD0oWQ/FTeRiXLqZT/5KosXCh5nPxpj3uVNPmg/Wc2a52ZJaT+dO416YDVqP2u/qQ5I6Wo/dZzhGTtAaz/u8ORFcCRrPzhagAAaqGo/wwpgV0b0aT9DNLzNIippP+T4WLOyWmg/\",\"dtype\":\"float64\",\"shape\":[75]},\"y\":{\"__ndarray__\":\"GhExyth1ND/Sv8nbtpRIP2vylNV0PVE/aTum7souWD/At0SJ8fVgPw3Iuahxymc/MSNhhJWvcD/bTfBN02d3P2zb5nxnaoA/CD5h5MAGhz8NmeH1TyaQP+zrCsc9p5Y/LbKd76fGnz/bLW5ISEmmPww9YvTcQq8/JV2OstnstT8Er5Y7M8G+P0c+r3jqkcU/5h99k6ZBzj88bCIzFzjVP4enV8oyxN0//yH99nXg5D8qOpLLf0jtP5kqGJXUifQ/c9cS8kHP/D+/DpwzojQEQIEmwoanVwxA4lgXt9HgE0BSSZ2AJuIbQAMJih9jjiNA5q4l5INuK0AwTKYKRj0zQNv5fmq8/DpAaCJseHrtQkB/+zpwzoxKQM3MzMzMeFJAZmZmZmZqWEAAAAAAAFxeQM3MzMzMJmJAmpmZmZkfZUBmZmZmZhhoQDMzMzMzEWtAAAAAAAAKbkBmZmZmZoFwQM3MzMzM/XFAMzMzMzN6c0CamZmZmfZ0QAAAAAAAc3ZAZmZmZmbvd0DNzMzMzGt5QDMzMzMz6HpAmpmZmZlkfEAAAAAAAOF9QGZmZmZmXX9AZmZmZuZsgECamZmZGSuBQM3MzMxM6YFAAAAAAICngkAzMzMzs2WDQGZmZmbmI4RAmpmZmRnihEDNzMzMTKCFQAAAAACAXoZAMzMzM7Mch0BmZmZm5tqHQJqZmZkZmYhAzczMzExXiUAAAAAAgBWKQDMzMzOz04pAZmZmZuaRi0CamZmZGVCMQM3MzMxMDo1AAAAAAIDMjUAzMzMzs4qOQGZmZmbmSI9A\",\"dtype\":\"float64\",\"shape\":[75]}},\"selected\":{\"id\":\"7e19d648-6c6c-4c0d-8f20-438fa5c144ff\",\"type\":\"Selection\"},\"selection_policy\":{\"id\":\"d1d8cadc-1f70-4daa-a36a-9aadb4a5a81a\",\"type\":\"UnionRenderers\"}},\"id\":\"43598a17-db27-498b-8e3f-07c40120862e\",\"type\":\"ColumnDataSource\"},{\"attributes\":{\"data_source\":{\"id\":\"f07f6d73-fe25-4850-96c4-17e2d95dfdc1\",\"type\":\"ColumnDataSource\"},\"glyph\":{\"id\":\"93f71b8e-cf30-4868-b75c-972503234b80\",\"type\":\"Line\"},\"hover_glyph\":null,\"muted_glyph\":null,\"nonselection_glyph\":{\"id\":\"dfc6d556-b0fe-40b8-b8af-a18d951cc569\",\"type\":\"Line\"},\"selection_glyph\":null,\"view\":{\"id\":\"f40e062c-a451-43e6-b9d8-6834aa41ec1c\",\"type\":\"CDSView\"}},\"id\":\"b3265e22-cead-473c-841d-6ff7ed8f115a\",\"type\":\"GlyphRenderer\"},{\"attributes\":{\"plot\":{\"id\":\"c770f480-4b7d-474b-b07b-2f4bb79bd528\",\"subtype\":\"Figure\",\"type\":\"Plot\"},\"ticker\":{\"id\":\"e7e1a343-12be-482d-b212-3cda9a637b01\",\"type\":\"BasicTicker\"}},\"id\":\"7f15a3b5-822f-4b88-80da-1e4d6c98a038\",\"type\":\"Grid\"},{\"attributes\":{\"data_source\":{\"id\":\"d8c6386a-2ce2-4d83-bec5-991092b5bc74\",\"type\":\"ColumnDataSource\"},\"glyph\":{\"id\":\"7baf1cc3-ad5f-44e4-9a5f-2f837abe724b\",\"type\":\"Square\"},\"hover_glyph\":null,\"muted_glyph\":null,\"nonselection_glyph\":{\"id\":\"c7f59e2f-4ef4-4ffa-9418-681f0faf95a4\",\"type\":\"Square\"},\"selection_glyph\":null,\"view\":{\"id\":\"1855aa2a-f651-4921-aa3a-9467b39dae22\",\"type\":\"CDSView\"}},\"id\":\"33d95df3-eef6-4700-a0c3-a13cebc70e80\",\"type\":\"GlyphRenderer\"},{\"attributes\":{},\"id\":\"f3e106c8-5f2f-4cbc-ad0e-2e6749cd52e6\",\"type\":\"WheelZoomTool\"},{\"attributes\":{\"dimension\":1,\"plot\":{\"id\":\"c770f480-4b7d-474b-b07b-2f4bb79bd528\",\"subtype\":\"Figure\",\"type\":\"Plot\"},\"ticker\":{\"id\":\"63667df4-871e-44d5-b5c9-8689b9a9b532\",\"type\":\"LogTicker\"}},\"id\":\"9d2cbd1c-339c-49ed-a516-006776f63437\",\"type\":\"Grid\"},{\"attributes\":{\"data_source\":{\"id\":\"656b0e12-fa2e-4704-b434-6751af00870f\",\"type\":\"ColumnDataSource\"},\"glyph\":{\"id\":\"48705d8c-56f4-45d5-bd96-7499f0210ebe\",\"type\":\"Circle\"},\"hover_glyph\":null,\"muted_glyph\":null,\"nonselection_glyph\":{\"id\":\"6c7cfa5c-c1d5-4374-8b0f-1855f8637fc5\",\"type\":\"Circle\"},\"selection_glyph\":null,\"view\":{\"id\":\"96d9ac90-ecf4-47ba-8775-3acd572a0d1e\",\"type\":\"CDSView\"}},\"id\":\"fbcd1caf-a89c-4940-ab5f-71cc5a528807\",\"type\":\"GlyphRenderer\"},{\"attributes\":{},\"id\":\"d99f93cd-4099-41f9-90f5-24700f0a922e\",\"type\":\"SaveTool\"},{\"attributes\":{\"line_color\":\"#4daf4a\",\"line_width\":1.5,\"x\":{\"field\":\"x\"},\"y\":{\"field\":\"y\"}},\"id\":\"95974759-a01b-4b35-a9ff-a7d34713daa7\",\"type\":\"Line\"},{\"attributes\":{\"callback\":null,\"data\":{\"x\":{\"__ndarray__\":\"/Qmu+uPLOb/9WIlQq4Y1vxs+Iv54iCi/UqGC1mWV/76jqFmopp4iPwEnl6MgqDU/qeaj92mRQT9Okhy6fOlIP3I7xNeIdFA/xcYfufPMVD8k5F9qlIVZP7senRqupV4/A+vz8mYWYj/Yj6A6TrhkP7Tyyc0i4mY/cmdUULnYaD/2fr8pR+BqP+g1EjoK/Ww/uJtxbA4vbz9lBa5Pmr1wP8Rm5lu90HE/swd4IJv1cD8LzI+ig3NrP7ohX2TvdWQ/l+UJ0nXyXD+VBGWxjbNSPzJeIHV170M/N0kTECXFKj+NI9VY4CoRv3Ti6iJcHTK/CE4lS6//Pr+5cxibzlNFv8OFwQv/t0i/FM8psOKRSb+IRxTI9v1Jv47MO0DLiUq/4T5deFNgS79b9bhWuQFNvxv7/FsaCU+/LmfdYNtrUL/4NJTLYDtRv10nanPg+FG/YuX9o2KoUr8P5Do0jktTvxsUs/hyulO/BvN+tCTtUr83NvrlllhQv703CO851Em/z3j6SuyZQr/bZIzDJFI2vyaHzX7JXRy/4FK8qfjXID8BIzqqxiQ4PyIBM2FR/UM/bV9Ztu/nSz97TwkyAOBRP5EFyjqcuFU/C4YASgZzWT+maHBR6QRdPxvOe+r4MmA/+Yi//hDIYT8M9n09AUJjPzhWNrD0oWQ/FTeRiXLqZT/5KosXCh5nPxpj3uVNPmg/Wc2a52ZJaT+dO416YDVqP2u/qQ5I6Wo/dZzhGTtAaz/u8ORFcCRrPzhagAAaqGo/wwpgV0b0aT9DNLzNIippP+T4WLOyWmg/\",\"dtype\":\"float64\",\"shape\":[75]},\"y\":{\"__ndarray__\":\"GhExyth1ND/Sv8nbtpRIP2vylNV0PVE/aTum7souWD/At0SJ8fVgPw3Iuahxymc/MSNhhJWvcD/bTfBN02d3P2zb5nxnaoA/CD5h5MAGhz8NmeH1TyaQP+zrCsc9p5Y/LbKd76fGnz/bLW5ISEmmPww9YvTcQq8/JV2OstnstT8Er5Y7M8G+P0c+r3jqkcU/5h99k6ZBzj88bCIzFzjVP4enV8oyxN0//yH99nXg5D8qOpLLf0jtP5kqGJXUifQ/c9cS8kHP/D+/DpwzojQEQIEmwoanVwxA4lgXt9HgE0BSSZ2AJuIbQAMJih9jjiNA5q4l5INuK0AwTKYKRj0zQNv5fmq8/DpAaCJseHrtQkB/+zpwzoxKQM3MzMzMeFJAZmZmZmZqWEAAAAAAAFxeQM3MzMzMJmJAmpmZmZkfZUBmZmZmZhhoQDMzMzMzEWtAAAAAAAAKbkBmZmZmZoFwQM3MzMzM/XFAMzMzMzN6c0CamZmZmfZ0QAAAAAAAc3ZAZmZmZmbvd0DNzMzMzGt5QDMzMzMz6HpAmpmZmZlkfEAAAAAAAOF9QGZmZmZmXX9AZmZmZuZsgECamZmZGSuBQM3MzMxM6YFAAAAAAICngkAzMzMzs2WDQGZmZmbmI4RAmpmZmRnihEDNzMzMTKCFQAAAAACAXoZAMzMzM7Mch0BmZmZm5tqHQJqZmZkZmYhAzczMzExXiUAAAAAAgBWKQDMzMzOz04pAZmZmZuaRi0CamZmZGVCMQM3MzMxMDo1AAAAAAIDMjUAzMzMzs4qOQGZmZmbmSI9A\",\"dtype\":\"float64\",\"shape\":[75]}},\"selected\":{\"id\":\"601a2baf-c0ed-4087-82c2-31d39ec3b5ad\",\"type\":\"Selection\"},\"selection_policy\":{\"id\":\"3361ba21-6efa-4950-a6a6-69973eb8ecfd\",\"type\":\"UnionRenderers\"}},\"id\":\"b7a19106-f0dd-4706-9ec1-dccda1e94e9c\",\"type\":\"ColumnDataSource\"},{\"attributes\":{\"line_alpha\":0.6,\"line_color\":\"#984ea3\",\"line_width\":3,\"x\":{\"field\":\"x\"},\"y\":{\"field\":\"y\"}},\"id\":\"8165b091-8f10-4ea2-bea3-b980c11bd118\",\"type\":\"Line\"},{\"attributes\":{\"data_source\":{\"id\":\"303238ce-958d-4c28-bf89-5f6c419d11cd\",\"type\":\"ColumnDataSource\"},\"glyph\":{\"id\":\"8165b091-8f10-4ea2-bea3-b980c11bd118\",\"type\":\"Line\"},\"hover_glyph\":null,\"muted_glyph\":null,\"nonselection_glyph\":{\"id\":\"768e5a48-59a2-45fb-874b-bc4537fcecdd\",\"type\":\"Line\"},\"selection_glyph\":null,\"view\":{\"id\":\"8b597b29-2707-46e4-a0b2-c68fade3b2b1\",\"type\":\"CDSView\"}},\"id\":\"a199ecf1-d9a7-41f9-89c4-ae8cad83773a\",\"type\":\"GlyphRenderer\"},{\"attributes\":{\"source\":{\"id\":\"f07f6d73-fe25-4850-96c4-17e2d95dfdc1\",\"type\":\"ColumnDataSource\"}},\"id\":\"f40e062c-a451-43e6-b9d8-6834aa41ec1c\",\"type\":\"CDSView\"},{\"attributes\":{\"fill_alpha\":{\"value\":0.7},\"fill_color\":{\"value\":\"#4daf4a\"},\"line_alpha\":{\"value\":0.7},\"line_color\":{\"value\":\"#4daf4a\"},\"x\":{\"field\":\"x\"},\"y\":{\"field\":\"y\"}},\"id\":\"8898b24a-6134-4c21-b336-0d522fd47466\",\"type\":\"Circle\"},{\"attributes\":{\"callback\":null,\"data\":{\"x\":{\"__ndarray__\":\"/Qmu+uPLOb/9WIlQq4Y1vxs+Iv54iCi/UqGC1mWV/76jqFmopp4iPwEnl6MgqDU/qeaj92mRQT9Okhy6fOlIP3I7xNeIdFA/xcYfufPMVD8k5F9qlIVZP7senRqupV4/A+vz8mYWYj/Yj6A6TrhkP7Tyyc0i4mY/cmdUULnYaD/2fr8pR+BqP+g1EjoK/Ww/uJtxbA4vbz9lBa5Pmr1wP8Rm5lu90HE/swd4IJv1cD8LzI+ig3NrP7ohX2TvdWQ/l+UJ0nXyXD+VBGWxjbNSPzJeIHV170M/N0kTECXFKj+NI9VY4CoRv3Ti6iJcHTK/CE4lS6//Pr+5cxibzlNFv8OFwQv/t0i/FM8psOKRSb+IRxTI9v1Jv47MO0DLiUq/4T5deFNgS79b9bhWuQFNvxv7/FsaCU+/LmfdYNtrUL/4NJTLYDtRv10nanPg+FG/YuX9o2KoUr8P5Do0jktTvxsUs/hyulO/BvN+tCTtUr83NvrlllhQv703CO851Em/z3j6SuyZQr/bZIzDJFI2vyaHzX7JXRy/4FK8qfjXID8BIzqqxiQ4PyIBM2FR/UM/bV9Ztu/nSz97TwkyAOBRP5EFyjqcuFU/C4YASgZzWT+maHBR6QRdPxvOe+r4MmA/+Yi//hDIYT8M9n09AUJjPzhWNrD0oWQ/FTeRiXLqZT/5KosXCh5nPxpj3uVNPmg/Wc2a52ZJaT+dO416YDVqP2u/qQ5I6Wo/dZzhGTtAaz/u8ORFcCRrPzhagAAaqGo/wwpgV0b0aT9DNLzNIippP+T4WLOyWmg/\",\"dtype\":\"float64\",\"shape\":[75]},\"y\":{\"__ndarray__\":\"GhExyth1ND/Sv8nbtpRIP2vylNV0PVE/aTum7souWD/At0SJ8fVgPw3Iuahxymc/MSNhhJWvcD/bTfBN02d3P2zb5nxnaoA/CD5h5MAGhz8NmeH1TyaQP+zrCsc9p5Y/LbKd76fGnz/bLW5ISEmmPww9YvTcQq8/JV2OstnstT8Er5Y7M8G+P0c+r3jqkcU/5h99k6ZBzj88bCIzFzjVP4enV8oyxN0//yH99nXg5D8qOpLLf0jtP5kqGJXUifQ/c9cS8kHP/D+/DpwzojQEQIEmwoanVwxA4lgXt9HgE0BSSZ2AJuIbQAMJih9jjiNA5q4l5INuK0AwTKYKRj0zQNv5fmq8/DpAaCJseHrtQkB/+zpwzoxKQM3MzMzMeFJAZmZmZmZqWEAAAAAAAFxeQM3MzMzMJmJAmpmZmZkfZUBmZmZmZhhoQDMzMzMzEWtAAAAAAAAKbkBmZmZmZoFwQM3MzMzM/XFAMzMzMzN6c0CamZmZmfZ0QAAAAAAAc3ZAZmZmZmbvd0DNzMzMzGt5QDMzMzMz6HpAmpmZmZlkfEAAAAAAAOF9QGZmZmZmXX9AZmZmZuZsgECamZmZGSuBQM3MzMxM6YFAAAAAAICngkAzMzMzs2WDQGZmZmbmI4RAmpmZmRnihEDNzMzMTKCFQAAAAACAXoZAMzMzM7Mch0BmZmZm5tqHQJqZmZkZmYhAzczMzExXiUAAAAAAgBWKQDMzMzOz04pAZmZmZuaRi0CamZmZGVCMQM3MzMxMDo1AAAAAAIDMjUAzMzMzs4qOQGZmZmbmSI9A\",\"dtype\":\"float64\",\"shape\":[75]}},\"selected\":{\"id\":\"6aa3bf0b-40b1-4637-ba50-f59e59ff1d58\",\"type\":\"Selection\"},\"selection_policy\":{\"id\":\"7392f2eb-e957-4bd3-a3ce-525c918d466f\",\"type\":\"UnionRenderers\"}},\"id\":\"656b0e12-fa2e-4704-b434-6751af00870f\",\"type\":\"ColumnDataSource\"},{\"attributes\":{\"callback\":null,\"data\":{\"x\":{\"__ndarray__\":\"S27eQXYaVb8g2xxp3BtUvzNVziQT81G/0Gf7MdgWT7++y20uaM5Jv+X4CfikA0S/qLn3eiVYO78pQYCw3/Yqvz8Vu22h+Pk+EC183i4QMj8OmWzSS/dBP5gK7Nghqks/Ld2zHt0QUz98a3D7Vg1YP+sW8wanJFw/vW9eTiDbXz9SiYB9U9xhP8JWlAgQ4mM/SPb7U2AAZj8ejL4cmzhoP/qMXbyFUGo/zoe9UgrBaD8TV9ksk7BiPxuIeRduR1g/DlwPrtofSj9OmXw2bNMrPxYanL5TuzK/KptoPx6jRb/6t63fY59NvyLy9/lRx1G/0TDa/mxfVL/X7YUkoHJWv0HvpgfAGVe/o2QT1EBQVr9HQWzAUiNVvzn/lguT7FO/UKn4WYr/Ur/AOxeUUuFSv0MRXryQ51K/rwSMVoD7Ur+8r8Sn6w5Tv91tw1E+MFO/ZmHrNDtbU7+bIVTviWpTvxkpCQHoVFO/C9Kx51AdUr8b0w2iDLJOv7m5SWy9dke/wVBZm9u9P7+tvPZ4Oz4wv5KwyTSCjN++M2azp3vdLT/2JSo64xI/P5dM3HoflUc/TPHdHnqZTz9u1TPV87RTPzdCIpA7g1c/z6i97AVEWz+Eknw/UtheP7MborekHWE/0NzVt4SmYj8bqn0R6CBkP2KbIGcrgWU/7kgoRuXJZj9z2TQr5flnP+oVb5RXD2k/dGFKOkgcaj9s8/qoSghrPx6ujgBLvms/UrCbWRgQbD/J24B9o/5rP5kUSh/tkWs/DujWOffvaj/S59Y0PjZqPywNWNA9bWk/\",\"dtype\":\"float64\",\"shape\":[75]},\"y\":{\"__ndarray__\":\"GhExyth1ND/Sv8nbtpRIP2vylNV0PVE/aTum7souWD/At0SJ8fVgPw3Iuahxymc/MSNhhJWvcD/bTfBN02d3P2zb5nxnaoA/CD5h5MAGhz8NmeH1TyaQP+zrCsc9p5Y/LbKd76fGnz/bLW5ISEmmPww9YvTcQq8/JV2OstnstT8Er5Y7M8G+P0c+r3jqkcU/5h99k6ZBzj88bCIzFzjVP4enV8oyxN0//yH99nXg5D8qOpLLf0jtP5kqGJXUifQ/c9cS8kHP/D+/DpwzojQEQIEmwoanVwxA4lgXt9HgE0BSSZ2AJuIbQAMJih9jjiNA5q4l5INuK0AwTKYKRj0zQNv5fmq8/DpAaCJseHrtQkB/+zpwzoxKQM3MzMzMeFJAZmZmZmZqWEAAAAAAAFxeQM3MzMzMJmJAmpmZmZkfZUBmZmZmZhhoQDMzMzMzEWtAAAAAAAAKbkBmZmZmZoFwQM3MzMzM/XFAMzMzMzN6c0CamZmZmfZ0QAAAAAAAc3ZAZmZmZmbvd0DNzMzMzGt5QDMzMzMz6HpAmpmZmZlkfEAAAAAAAOF9QGZmZmZmXX9AZmZmZuZsgECamZmZGSuBQM3MzMxM6YFAAAAAAICngkAzMzMzs2WDQGZmZmbmI4RAmpmZmRnihEDNzMzMTKCFQAAAAACAXoZAMzMzM7Mch0BmZmZm5tqHQJqZmZkZmYhAzczMzExXiUAAAAAAgBWKQDMzMzOz04pAZmZmZuaRi0CamZmZGVCMQM3MzMxMDo1AAAAAAIDMjUAzMzMzs4qOQGZmZmbmSI9A\",\"dtype\":\"float64\",\"shape\":[75]}},\"selected\":{\"id\":\"01a61f44-1c0e-4a84-bfa3-63d9a22a3a51\",\"type\":\"Selection\"},\"selection_policy\":{\"id\":\"a9c79e13-fc93-42da-9fba-89411c124c3a\",\"type\":\"UnionRenderers\"}},\"id\":\"d8c6386a-2ce2-4d83-bec5-991092b5bc74\",\"type\":\"ColumnDataSource\"},{\"attributes\":{\"callback\":null,\"data\":{\"x\":{\"__ndarray__\":\"xP9+MRKTVL/HFLEq8IVRv2xJkTR0/lG/ubjIUlBcT78pvmVasi9Kv82+DZpmjUS/PCm0h2/XPL/szY6PmRsvv5V4rJyO4PK+sKKQHEaxLD9HVrriRRU/P8tLvaULi0g/8yJp8CQNUT+Z8oKIi5VVP/hd0LujUVk/J7bTNkSsXD+zM0uRoxFgP7Inx32g3mE/qpaq9Je9Yz8NyJGXhK5lP5q3iVrjemc/JLZ0MlwQZj8DiuyVxqdgPzXTPhgff1U/Zldh6kGDRj9ShU8pe5UjPzJUHoJ7MjS/M95Nolg+Rb+f1jHJ6EJMvymq1O7LoFC/OtDcrsu8Ur99Wte9FGRUvwLGqi1r1VS/HHlEL6EOVL8fCHcEw/tSvz+n3Nj+4lG/RCe0/rALUb/ypqe7rsBQv5HK5/GIxVC/SEJwjpLNUL+d0LPuotVQvw2e5POz3VC/wHkhwNHlUL/wToiBsexQv6xpony2z1C/GmZwIpNsT789lM7Bul5Kv7lvcDhUAUS/u/oBguXZOr98m7cBL/4qv9J2vVta6ps+V5RGmB9JKz9g5+yTLFE7PyC3AB1sekQ/KQ6PrCc+Sz+DXphBfvNQPxPtbeXzMlQ/ypF5nBVVVz8ho9hac1FaP9q8ZLrUI10/qO4wfyPHXz+FXPFh8h5hPzfw2zIWRGI/ry3t6EBVYz8yrPWVrVRkP8iUgHGYQ2U/M0xSwpggZj9Smgj9/uRmPy831s3efGc/2I1pr3/MZz//p9sMScNnP+bFWFE7b2c/RyH/w9PvZj8Oj23vFF9mP1KBUVEOyWU/\",\"dtype\":\"float64\",\"shape\":[75]},\"y\":{\"__ndarray__\":\"S/O/Q+51ND/Sv8nbtpRIP2vylNV0PVE/aTum7souWD/At0SJ8fVgPw3Iuahxymc/MSNhhJWvcD/bTfBN02d3P2zb5nxnaoA/CD5h5MAGhz8NmeH1TyaQP+zrCsc9p5Y/LbKd76fGnz/bLW5ISEmmPww9YvTcQq8/JV2OstnstT8Er5Y7M8G+P0c+r3jqkcU/5h99k6ZBzj88bCIzFzjVP4enV8oyxN0//yH99nXg5D8qOpLLf0jtP5kqGJXUifQ/c9cS8kHP/D+/DpwzojQEQIEmwoanVwxA4lgXt9HgE0BSSZ2AJuIbQAMJih9jjiNA5q4l5INuK0AwTKYKRj0zQNv5fmq8/DpAaCJseHrtQkB/+zpwzoxKQM3MzMzMeFJAZmZmZmZqWEAAAAAAAFxeQM3MzMzMJmJAmpmZmZkfZUBmZmZmZhhoQDMzMzMzEWtAAAAAAAAKbkBmZmZmZoFwQM3MzMzM/XFAMzMzMzN6c0CamZmZmfZ0QAAAAAAAc3ZAZmZmZmbvd0DNzMzMzGt5QDMzMzMz6HpAmpmZmZlkfEAAAAAAAOF9QGZmZmZmXX9AZmZmZuZsgECamZmZGSuBQM3MzMxM6YFAAAAAAICngkAzMzMzs2WDQGZmZmbmI4RAmpmZmRnihEDNzMzMTKCFQAAAAACAXoZAMzMzM7Mch0BmZmZm5tqHQJqZmZkZmYhAzczMzExXiUAAAAAAgBWKQDMzMzOz04pAZmZmZuaRi0CamZmZGVCMQM3MzMxMDo1AAAAAAIDMjUAzMzMzs4qOQGZmZmbmSI9A\",\"dtype\":\"float64\",\"shape\":[75]}},\"selected\":{\"id\":\"fb9e6d8d-6a4e-470e-8158-5805d3fb72a8\",\"type\":\"Selection\"},\"selection_policy\":{\"id\":\"558d4a73-b669-467a-af59-e9e6fb260eac\",\"type\":\"UnionRenderers\"}},\"id\":\"f07f6d73-fe25-4850-96c4-17e2d95dfdc1\",\"type\":\"ColumnDataSource\"},{\"attributes\":{\"fill_alpha\":{\"value\":0.1},\"fill_color\":{\"value\":\"#1f77b4\"},\"line_alpha\":{\"value\":0.1},\"line_color\":{\"value\":\"#1f77b4\"},\"x\":{\"field\":\"x\"},\"y\":{\"field\":\"y\"}},\"id\":\"86fb3f56-9206-44ce-8e20-931f5bbc0163\",\"type\":\"Circle\"},{\"attributes\":{},\"id\":\"e9b193c8-f4dc-4ecd-82ae-604c3c6eb35c\",\"type\":\"LogScale\"},{\"attributes\":{\"data_source\":{\"id\":\"b7a19106-f0dd-4706-9ec1-dccda1e94e9c\",\"type\":\"ColumnDataSource\"},\"glyph\":{\"id\":\"8898b24a-6134-4c21-b336-0d522fd47466\",\"type\":\"Circle\"},\"hover_glyph\":null,\"muted_glyph\":null,\"nonselection_glyph\":{\"id\":\"86fb3f56-9206-44ce-8e20-931f5bbc0163\",\"type\":\"Circle\"},\"selection_glyph\":null,\"view\":{\"id\":\"47339b8b-0eb7-4b87-9838-1b13e68ddfc7\",\"type\":\"CDSView\"}},\"id\":\"22c354ea-89d3-422d-99d7-87d6e5bbc875\",\"type\":\"GlyphRenderer\"},{\"attributes\":{},\"id\":\"5b48e37d-9f1f-4dcc-ad3d-ac9b3ae8d0de\",\"type\":\"ResetTool\"},{\"attributes\":{\"source\":{\"id\":\"b7a19106-f0dd-4706-9ec1-dccda1e94e9c\",\"type\":\"ColumnDataSource\"}},\"id\":\"47339b8b-0eb7-4b87-9838-1b13e68ddfc7\",\"type\":\"CDSView\"},{\"attributes\":{},\"id\":\"79016984-7a4c-40d9-8970-7e9a3284475f\",\"type\":\"PanTool\"},{\"attributes\":{\"source\":{\"id\":\"656b0e12-fa2e-4704-b434-6751af00870f\",\"type\":\"ColumnDataSource\"}},\"id\":\"96d9ac90-ecf4-47ba-8775-3acd572a0d1e\",\"type\":\"CDSView\"},{\"attributes\":{\"callback\":null,\"data\":{\"x\":{\"__ndarray__\":\"S27eQXYaVb8g2xxp3BtUvzNVziQT81G/0Gf7MdgWT7++y20uaM5Jv+X4CfikA0S/qLn3eiVYO78pQYCw3/Yqvz8Vu22h+Pk+EC183i4QMj8OmWzSS/dBP5gK7Nghqks/Ld2zHt0QUz98a3D7Vg1YP+sW8wanJFw/vW9eTiDbXz9SiYB9U9xhP8JWlAgQ4mM/SPb7U2AAZj8ejL4cmzhoP/qMXbyFUGo/zoe9UgrBaD8TV9ksk7BiPxuIeRduR1g/DlwPrtofSj9OmXw2bNMrPxYanL5TuzK/KptoPx6jRb/6t63fY59NvyLy9/lRx1G/0TDa/mxfVL/X7YUkoHJWv0HvpgfAGVe/o2QT1EBQVr9HQWzAUiNVvzn/lguT7FO/UKn4WYr/Ur/AOxeUUuFSv0MRXryQ51K/rwSMVoD7Ur+8r8Sn6w5Tv91tw1E+MFO/ZmHrNDtbU7+bIVTviWpTvxkpCQHoVFO/C9Kx51AdUr8b0w2iDLJOv7m5SWy9dke/wVBZm9u9P7+tvPZ4Oz4wv5KwyTSCjN++M2azp3vdLT/2JSo64xI/P5dM3HoflUc/TPHdHnqZTz9u1TPV87RTPzdCIpA7g1c/z6i97AVEWz+Eknw/UtheP7MborekHWE/0NzVt4SmYj8bqn0R6CBkP2KbIGcrgWU/7kgoRuXJZj9z2TQr5flnP+oVb5RXD2k/dGFKOkgcaj9s8/qoSghrPx6ujgBLvms/UrCbWRgQbD/J24B9o/5rP5kUSh/tkWs/DujWOffvaj/S59Y0PjZqPywNWNA9bWk/\",\"dtype\":\"float64\",\"shape\":[75]},\"y\":{\"__ndarray__\":\"GhExyth1ND/Sv8nbtpRIP2vylNV0PVE/aTum7souWD/At0SJ8fVgPw3Iuahxymc/MSNhhJWvcD/bTfBN02d3P2zb5nxnaoA/CD5h5MAGhz8NmeH1TyaQP+zrCsc9p5Y/LbKd76fGnz/bLW5ISEmmPww9YvTcQq8/JV2OstnstT8Er5Y7M8G+P0c+r3jqkcU/5h99k6ZBzj88bCIzFzjVP4enV8oyxN0//yH99nXg5D8qOpLLf0jtP5kqGJXUifQ/c9cS8kHP/D+/DpwzojQEQIEmwoanVwxA4lgXt9HgE0BSSZ2AJuIbQAMJih9jjiNA5q4l5INuK0AwTKYKRj0zQNv5fmq8/DpAaCJseHrtQkB/+zpwzoxKQM3MzMzMeFJAZmZmZmZqWEAAAAAAAFxeQM3MzMzMJmJAmpmZmZkfZUBmZmZmZhhoQDMzMzMzEWtAAAAAAAAKbkBmZmZmZoFwQM3MzMzM/XFAMzMzMzN6c0CamZmZmfZ0QAAAAAAAc3ZAZmZmZmbvd0DNzMzMzGt5QDMzMzMz6HpAmpmZmZlkfEAAAAAAAOF9QGZmZmZmXX9AZmZmZuZsgECamZmZGSuBQM3MzMxM6YFAAAAAAICngkAzMzMzs2WDQGZmZmbmI4RAmpmZmRnihEDNzMzMTKCFQAAAAACAXoZAMzMzM7Mch0BmZmZm5tqHQJqZmZkZmYhAzczMzExXiUAAAAAAgBWKQDMzMzOz04pAZmZmZuaRi0CamZmZGVCMQM3MzMxMDo1AAAAAAIDMjUAzMzMzs4qOQGZmZmbmSI9A\",\"dtype\":\"float64\",\"shape\":[75]}},\"selected\":{\"id\":\"e3dbf6b5-114c-4bfd-91e1-92f8eb467650\",\"type\":\"Selection\"},\"selection_policy\":{\"id\":\"f4228089-8e7b-4170-98d5-b493779badaf\",\"type\":\"UnionRenderers\"}},\"id\":\"303238ce-958d-4c28-bf89-5f6c419d11cd\",\"type\":\"ColumnDataSource\"},{\"attributes\":{\"source\":{\"id\":\"e2fc7147-3bdb-4bdc-bbbf-bd7530032d12\",\"type\":\"ColumnDataSource\"}},\"id\":\"eb2bdc8d-cae4-4a43-b46d-c9dc8a100564\",\"type\":\"CDSView\"},{\"attributes\":{\"line_alpha\":0.1,\"line_color\":\"#1f77b4\",\"line_width\":1.5,\"x\":{\"field\":\"x\"},\"y\":{\"field\":\"y\"}},\"id\":\"8526ffa1-e97b-4897-a951-2f3f3494a872\",\"type\":\"Line\"},{\"attributes\":{\"toolbar\":{\"id\":\"4b5475ff-1def-4fa8-b35d-e478593d7536\",\"type\":\"ProxyToolbar\"},\"toolbar_location\":\"above\"},\"id\":\"acb44823-b643-4f63-b20c-e09078cfdcb6\",\"type\":\"ToolbarBox\"},{\"attributes\":{\"data_source\":{\"id\":\"43598a17-db27-498b-8e3f-07c40120862e\",\"type\":\"ColumnDataSource\"},\"glyph\":{\"id\":\"b556fd35-acdc-49b3-88fc-a8ddce70a3de\",\"type\":\"Line\"},\"hover_glyph\":null,\"muted_glyph\":null,\"nonselection_glyph\":{\"id\":\"8526ffa1-e97b-4897-a951-2f3f3494a872\",\"type\":\"Line\"},\"selection_glyph\":null,\"view\":{\"id\":\"c90e86a8-0c7d-40b5-b41e-1e210c723827\",\"type\":\"CDSView\"}},\"id\":\"07bfa0fb-56e5-4875-977f-c98efe475869\",\"type\":\"GlyphRenderer\"},{\"attributes\":{\"source\":{\"id\":\"43598a17-db27-498b-8e3f-07c40120862e\",\"type\":\"ColumnDataSource\"}},\"id\":\"c90e86a8-0c7d-40b5-b41e-1e210c723827\",\"type\":\"CDSView\"},{\"attributes\":{\"fill_alpha\":{\"value\":0.7},\"fill_color\":{\"value\":\"#4daf4a\"},\"line_alpha\":{\"value\":0.7},\"line_color\":{\"value\":\"#4daf4a\"},\"x\":{\"field\":\"x\"},\"y\":{\"field\":\"y\"}},\"id\":\"48705d8c-56f4-45d5-bd96-7499f0210ebe\",\"type\":\"Circle\"},{\"attributes\":{\"callback\":null,\"data\":{\"x\":{\"__ndarray__\":\"xP9+MRKTVL/HFLEq8IVRv2xJkTR0/lG/ubjIUlBcT78pvmVasi9Kv82+DZpmjUS/PCm0h2/XPL/szY6PmRsvv5V4rJyO4PK+sKKQHEaxLD9HVrriRRU/P8tLvaULi0g/8yJp8CQNUT+Z8oKIi5VVP/hd0LujUVk/J7bTNkSsXD+zM0uRoxFgP7Inx32g3mE/qpaq9Je9Yz8NyJGXhK5lP5q3iVrjemc/JLZ0MlwQZj8DiuyVxqdgPzXTPhgff1U/Zldh6kGDRj9ShU8pe5UjPzJUHoJ7MjS/M95Nolg+Rb+f1jHJ6EJMvymq1O7LoFC/OtDcrsu8Ur99Wte9FGRUvwLGqi1r1VS/HHlEL6EOVL8fCHcEw/tSvz+n3Nj+4lG/RCe0/rALUb/ypqe7rsBQv5HK5/GIxVC/SEJwjpLNUL+d0LPuotVQvw2e5POz3VC/wHkhwNHlUL/wToiBsexQv6xpony2z1C/GmZwIpNsT789lM7Bul5Kv7lvcDhUAUS/u/oBguXZOr98m7cBL/4qv9J2vVta6ps+V5RGmB9JKz9g5+yTLFE7PyC3AB1sekQ/KQ6PrCc+Sz+DXphBfvNQPxPtbeXzMlQ/ypF5nBVVVz8ho9hac1FaP9q8ZLrUI10/qO4wfyPHXz+FXPFh8h5hPzfw2zIWRGI/ry3t6EBVYz8yrPWVrVRkP8iUgHGYQ2U/M0xSwpggZj9Smgj9/uRmPy831s3efGc/2I1pr3/MZz//p9sMScNnP+bFWFE7b2c/RyH/w9PvZj8Oj23vFF9mP1KBUVEOyWU/\",\"dtype\":\"float64\",\"shape\":[75]},\"y\":{\"__ndarray__\":\"S/O/Q+51ND/Sv8nbtpRIP2vylNV0PVE/aTum7souWD/At0SJ8fVgPw3Iuahxymc/MSNhhJWvcD/bTfBN02d3P2zb5nxnaoA/CD5h5MAGhz8NmeH1TyaQP+zrCsc9p5Y/LbKd76fGnz/bLW5ISEmmPww9YvTcQq8/JV2OstnstT8Er5Y7M8G+P0c+r3jqkcU/5h99k6ZBzj88bCIzFzjVP4enV8oyxN0//yH99nXg5D8qOpLLf0jtP5kqGJXUifQ/c9cS8kHP/D+/DpwzojQEQIEmwoanVwxA4lgXt9HgE0BSSZ2AJuIbQAMJih9jjiNA5q4l5INuK0AwTKYKRj0zQNv5fmq8/DpAaCJseHrtQkB/+zpwzoxKQM3MzMzMeFJAZmZmZmZqWEAAAAAAAFxeQM3MzMzMJmJAmpmZmZkfZUBmZmZmZhhoQDMzMzMzEWtAAAAAAAAKbkBmZmZmZoFwQM3MzMzM/XFAMzMzMzN6c0CamZmZmfZ0QAAAAAAAc3ZAZmZmZmbvd0DNzMzMzGt5QDMzMzMz6HpAmpmZmZlkfEAAAAAAAOF9QGZmZmZmXX9AZmZmZuZsgECamZmZGSuBQM3MzMxM6YFAAAAAAICngkAzMzMzs2WDQGZmZmbmI4RAmpmZmRnihEDNzMzMTKCFQAAAAACAXoZAMzMzM7Mch0BmZmZm5tqHQJqZmZkZmYhAzczMzExXiUAAAAAAgBWKQDMzMzOz04pAZmZmZuaRi0CamZmZGVCMQM3MzMxMDo1AAAAAAIDMjUAzMzMzs4qOQGZmZmbmSI9A\",\"dtype\":\"float64\",\"shape\":[75]}},\"selected\":{\"id\":\"c76176bc-6d4e-4aea-8b59-5ba4a8da46a2\",\"type\":\"Selection\"},\"selection_policy\":{\"id\":\"b819a718-df9c-4b82-ab3b-58801ab7b80e\",\"type\":\"UnionRenderers\"}},\"id\":\"e2fc7147-3bdb-4bdc-bbbf-bd7530032d12\",\"type\":\"ColumnDataSource\"},{\"attributes\":{\"fill_alpha\":{\"value\":0.7},\"fill_color\":{\"value\":\"#984ea3\"},\"line_alpha\":{\"value\":0.7},\"line_color\":{\"value\":\"#984ea3\"},\"x\":{\"field\":\"x\"},\"y\":{\"field\":\"y\"}},\"id\":\"7baf1cc3-ad5f-44e4-9a5f-2f837abe724b\",\"type\":\"Square\"},{\"attributes\":{\"children\":[{\"id\":\"0db91e51-431f-4953-ba10-61e95fd5916a\",\"type\":\"Row\"}]},\"id\":\"1fd720d5-3c8d-46b7-adfb-aca2cc9a39d8\",\"type\":\"Column\"},{\"attributes\":{\"callback\":null,\"data\":{\"x\":{\"__ndarray__\":\"/Qmu+uPLOb/9WIlQq4Y1vxs+Iv54iCi/UqGC1mWV/76jqFmopp4iPwEnl6MgqDU/qeaj92mRQT9Okhy6fOlIP3I7xNeIdFA/xcYfufPMVD8k5F9qlIVZP7senRqupV4/A+vz8mYWYj/Yj6A6TrhkP7Tyyc0i4mY/cmdUULnYaD/2fr8pR+BqP+g1EjoK/Ww/uJtxbA4vbz9lBa5Pmr1wP8Rm5lu90HE/swd4IJv1cD8LzI+ig3NrP7ohX2TvdWQ/l+UJ0nXyXD+VBGWxjbNSPzJeIHV170M/N0kTECXFKj+NI9VY4CoRv3Ti6iJcHTK/CE4lS6//Pr+5cxibzlNFv8OFwQv/t0i/FM8psOKRSb+IRxTI9v1Jv47MO0DLiUq/4T5deFNgS79b9bhWuQFNvxv7/FsaCU+/LmfdYNtrUL/4NJTLYDtRv10nanPg+FG/YuX9o2KoUr8P5Do0jktTvxsUs/hyulO/BvN+tCTtUr83NvrlllhQv703CO851Em/z3j6SuyZQr/bZIzDJFI2vyaHzX7JXRy/4FK8qfjXID8BIzqqxiQ4PyIBM2FR/UM/bV9Ztu/nSz97TwkyAOBRP5EFyjqcuFU/C4YASgZzWT+maHBR6QRdPxvOe+r4MmA/+Yi//hDIYT8M9n09AUJjPzhWNrD0oWQ/FTeRiXLqZT/5KosXCh5nPxpj3uVNPmg/Wc2a52ZJaT+dO416YDVqP2u/qQ5I6Wo/dZzhGTtAaz/u8ORFcCRrPzhagAAaqGo/wwpgV0b0aT9DNLzNIippP+T4WLOyWmg/\",\"dtype\":\"float64\",\"shape\":[75]},\"y\":{\"__ndarray__\":\"GhExyth1ND/Sv8nbtpRIP2vylNV0PVE/aTum7souWD/At0SJ8fVgPw3Iuahxymc/MSNhhJWvcD/bTfBN02d3P2zb5nxnaoA/CD5h5MAGhz8NmeH1TyaQP+zrCsc9p5Y/LbKd76fGnz/bLW5ISEmmPww9YvTcQq8/JV2OstnstT8Er5Y7M8G+P0c+r3jqkcU/5h99k6ZBzj88bCIzFzjVP4enV8oyxN0//yH99nXg5D8qOpLLf0jtP5kqGJXUifQ/c9cS8kHP/D+/DpwzojQEQIEmwoanVwxA4lgXt9HgE0BSSZ2AJuIbQAMJih9jjiNA5q4l5INuK0AwTKYKRj0zQNv5fmq8/DpAaCJseHrtQkB/+zpwzoxKQM3MzMzMeFJAZmZmZmZqWEAAAAAAAFxeQM3MzMzMJmJAmpmZmZkfZUBmZmZmZhhoQDMzMzMzEWtAAAAAAAAKbkBmZmZmZoFwQM3MzMzM/XFAMzMzMzN6c0CamZmZmfZ0QAAAAAAAc3ZAZmZmZmbvd0DNzMzMzGt5QDMzMzMz6HpAmpmZmZlkfEAAAAAAAOF9QGZmZmZmXX9AZmZmZuZsgECamZmZGSuBQM3MzMxM6YFAAAAAAICngkAzMzMzs2WDQGZmZmbmI4RAmpmZmRnihEDNzMzMTKCFQAAAAACAXoZAMzMzM7Mch0BmZmZm5tqHQJqZmZkZmYhAzczMzExXiUAAAAAAgBWKQDMzMzOz04pAZmZmZuaRi0CamZmZGVCMQM3MzMxMDo1AAAAAAIDMjUAzMzMzs4qOQGZmZmbmSI9A\",\"dtype\":\"float64\",\"shape\":[75]}},\"selected\":{\"id\":\"fdefc684-b0c4-4861-a9dd-7ccc4b786eef\",\"type\":\"Selection\"},\"selection_policy\":{\"id\":\"fb001d4e-db4f-4369-b4ec-67f15d59282a\",\"type\":\"UnionRenderers\"}},\"id\":\"b1cf77cd-ee31-47dd-8fcb-64a65ffded99\",\"type\":\"ColumnDataSource\"},{\"attributes\":{\"line_alpha\":0.1,\"line_color\":\"#1f77b4\",\"line_dash\":[6],\"line_width\":5,\"x\":{\"field\":\"x\"},\"y\":{\"field\":\"y\"}},\"id\":\"3a5ff344-05e5-4b37-8ec7-627073a927a9\",\"type\":\"Line\"},{\"attributes\":{\"line_alpha\":0.1,\"line_color\":\"#1f77b4\",\"line_width\":3,\"x\":{\"field\":\"x\"},\"y\":{\"field\":\"y\"}},\"id\":\"768e5a48-59a2-45fb-874b-bc4537fcecdd\",\"type\":\"Line\"},{\"attributes\":{\"overlay\":{\"id\":\"6a8fad85-752b-4892-aad9-463222afde88\",\"type\":\"BoxAnnotation\"}},\"id\":\"e65d852e-1292-411d-b95b-f6c3e994d442\",\"type\":\"BoxZoomTool\"},{\"attributes\":{\"source\":{\"id\":\"303238ce-958d-4c28-bf89-5f6c419d11cd\",\"type\":\"ColumnDataSource\"}},\"id\":\"8b597b29-2707-46e4-a0b2-c68fade3b2b1\",\"type\":\"CDSView\"},{\"attributes\":{\"children\":[{\"id\":\"03d64d67-7246-4b61-a63f-5432ae0a3b92\",\"subtype\":\"Figure\",\"type\":\"Plot\"},{\"id\":\"c770f480-4b7d-474b-b07b-2f4bb79bd528\",\"subtype\":\"Figure\",\"type\":\"Plot\"}]},\"id\":\"0db91e51-431f-4953-ba10-61e95fd5916a\",\"type\":\"Row\"},{\"attributes\":{\"label\":{\"value\":\"CLIRAD `coolr_bands`\"},\"renderers\":[{\"id\":\"0f145600-e2af-46aa-8e27-93a57b24c83e\",\"type\":\"GlyphRenderer\"}]},\"id\":\"e2da2a58-7718-427f-9fac-d466471584af\",\"type\":\"LegendItem\"},{\"attributes\":{},\"id\":\"558d4a73-b669-467a-af59-e9e6fb260eac\",\"type\":\"UnionRenderers\"},{\"attributes\":{\"label\":{\"value\":\"CRD\"},\"renderers\":[{\"id\":\"22c354ea-89d3-422d-99d7-87d6e5bbc875\",\"type\":\"GlyphRenderer\"},{\"id\":\"07bfa0fb-56e5-4875-977f-c98efe475869\",\"type\":\"GlyphRenderer\"}]},\"id\":\"b996ae5e-1068-4569-bd61-eaeefa46017c\",\"type\":\"LegendItem\"},{\"attributes\":{},\"id\":\"6aa3bf0b-40b1-4637-ba50-f59e59ff1d58\",\"type\":\"Selection\"},{\"attributes\":{\"label\":{\"value\":\"WGT igg=10 wgt_flux=2\"},\"renderers\":[{\"id\":\"33d95df3-eef6-4700-a0c3-a13cebc70e80\",\"type\":\"GlyphRenderer\"},{\"id\":\"a199ecf1-d9a7-41f9-89c4-ae8cad83773a\",\"type\":\"GlyphRenderer\"}]},\"id\":\"802e9220-3580-4b00-a3c6-2d4a642617e4\",\"type\":\"LegendItem\"},{\"attributes\":{},\"id\":\"fdefc684-b0c4-4861-a9dd-7ccc4b786eef\",\"type\":\"Selection\"},{\"attributes\":{\"axis_label\":\"pressure [mb]\",\"formatter\":{\"id\":\"b301617f-3aba-41b8-bf12-a0495dc95ff0\",\"type\":\"LogTickFormatter\"},\"plot\":{\"id\":\"c770f480-4b7d-474b-b07b-2f4bb79bd528\",\"subtype\":\"Figure\",\"type\":\"Plot\"},\"ticker\":{\"id\":\"63667df4-871e-44d5-b5c9-8689b9a9b532\",\"type\":\"LogTicker\"}},\"id\":\"8a393ed8-3a2d-46cb-9d8c-aa8b8a4e1929\",\"type\":\"LogAxis\"},{\"attributes\":{},\"id\":\"0ec7a5ae-7e95-47ed-82e7-661cba1f67d2\",\"type\":\"BasicTickFormatter\"},{\"attributes\":{},\"id\":\"541529ae-ef87-4300-b41a-e28666b92d8b\",\"type\":\"BasicTickFormatter\"},{\"attributes\":{\"num_minor_ticks\":10},\"id\":\"63667df4-871e-44d5-b5c9-8689b9a9b532\",\"type\":\"LogTicker\"},{\"attributes\":{},\"id\":\"b819a718-df9c-4b82-ab3b-58801ab7b80e\",\"type\":\"UnionRenderers\"},{\"attributes\":{},\"id\":\"e7e1a343-12be-482d-b212-3cda9a637b01\",\"type\":\"BasicTicker\"},{\"attributes\":{},\"id\":\"fb9e6d8d-6a4e-470e-8158-5805d3fb72a8\",\"type\":\"Selection\"},{\"attributes\":{\"bottom_units\":\"screen\",\"fill_alpha\":{\"value\":0.5},\"fill_color\":{\"value\":\"lightgrey\"},\"left_units\":\"screen\",\"level\":\"overlay\",\"line_alpha\":{\"value\":1.0},\"line_color\":{\"value\":\"black\"},\"line_dash\":[4,4],\"line_width\":{\"value\":2},\"plot\":null,\"render_mode\":\"css\",\"right_units\":\"screen\",\"top_units\":\"screen\"},\"id\":\"6a8fad85-752b-4892-aad9-463222afde88\",\"type\":\"BoxAnnotation\"},{\"attributes\":{},\"id\":\"fb001d4e-db4f-4369-b4ec-67f15d59282a\",\"type\":\"UnionRenderers\"},{\"attributes\":{},\"id\":\"7392f2eb-e957-4bd3-a3ce-525c918d466f\",\"type\":\"UnionRenderers\"},{\"attributes\":{\"callback\":null,\"end\":0.01,\"start\":1020},\"id\":\"9a3c581a-3b29-4e0a-9d87-4313a7e9730f\",\"type\":\"Range1d\"},{\"attributes\":{\"callback\":null,\"end\":0.004407054382,\"start\":-0.0014675419820000001},\"id\":\"9718b9e4-1aca-4ff5-9269-11bbc7f20f13\",\"type\":\"Range1d\"},{\"attributes\":{},\"id\":\"c41041c9-e073-4af3-8571-c8ddcb8b1a25\",\"type\":\"Selection\"},{\"attributes\":{},\"id\":\"92f5c9f9-a39e-4006-b810-ea76da031c89\",\"type\":\"Selection\"},{\"attributes\":{\"fill_alpha\":{\"value\":0.1},\"fill_color\":{\"value\":\"#1f77b4\"},\"line_alpha\":{\"value\":0.1},\"line_color\":{\"value\":\"#1f77b4\"},\"x\":{\"field\":\"x\"},\"y\":{\"field\":\"y\"}},\"id\":\"6c7cfa5c-c1d5-4374-8b0f-1855f8637fc5\",\"type\":\"Circle\"},{\"attributes\":{\"ticker\":null},\"id\":\"b301617f-3aba-41b8-bf12-a0495dc95ff0\",\"type\":\"LogTickFormatter\"},{\"attributes\":{\"source\":{\"id\":\"d8c6386a-2ce2-4d83-bec5-991092b5bc74\",\"type\":\"ColumnDataSource\"}},\"id\":\"1855aa2a-f651-4921-aa3a-9467b39dae22\",\"type\":\"CDSView\"},{\"attributes\":{},\"id\":\"e5723b7d-cd55-41c5-922f-895d66cc8af4\",\"type\":\"UnionRenderers\"},{\"attributes\":{},\"id\":\"c76176bc-6d4e-4aea-8b59-5ba4a8da46a2\",\"type\":\"Selection\"},{\"attributes\":{\"line_alpha\":0.1,\"line_color\":\"#1f77b4\",\"line_dash\":[6],\"line_width\":5,\"x\":{\"field\":\"x\"},\"y\":{\"field\":\"y\"}},\"id\":\"dfc6d556-b0fe-40b8-b8af-a18d951cc569\",\"type\":\"Line\"},{\"attributes\":{},\"id\":\"38b04782-2077-4827-8808-2aa8c469adef\",\"type\":\"UnionRenderers\"},{\"attributes\":{},\"id\":\"d1d8cadc-1f70-4daa-a36a-9aadb4a5a81a\",\"type\":\"UnionRenderers\"},{\"attributes\":{},\"id\":\"f96329d4-ff8f-47cb-8d4d-a8a206797bcb\",\"type\":\"BasicTickFormatter\"},{\"attributes\":{\"line_alpha\":0.6,\"line_color\":\"#e41a1c\",\"line_dash\":[6],\"line_width\":5,\"x\":{\"field\":\"x\"},\"y\":{\"field\":\"y\"}},\"id\":\"775e3411-b8cd-4778-8884-db9850ccbe8b\",\"type\":\"Line\"},{\"attributes\":{},\"id\":\"7dfaa9de-4c44-4b86-ad2c-d25d988906b9\",\"type\":\"LinearScale\"},{\"attributes\":{},\"id\":\"f4228089-8e7b-4170-98d5-b493779badaf\",\"type\":\"UnionRenderers\"},{\"attributes\":{\"plot\":null,\"text\":\"Log pressure scale\"},\"id\":\"1634e0a3-3cac-4355-9940-37ffb24cc813\",\"type\":\"Title\"},{\"attributes\":{},\"id\":\"601a2baf-c0ed-4087-82c2-31d39ec3b5ad\",\"type\":\"Selection\"},{\"attributes\":{},\"id\":\"3361ba21-6efa-4950-a6a6-69973eb8ecfd\",\"type\":\"UnionRenderers\"},{\"attributes\":{\"active_drag\":\"auto\",\"active_inspect\":\"auto\",\"active_scroll\":\"auto\",\"active_tap\":\"auto\",\"tools\":[{\"id\":\"79016984-7a4c-40d9-8970-7e9a3284475f\",\"type\":\"PanTool\"},{\"id\":\"f3e106c8-5f2f-4cbc-ad0e-2e6749cd52e6\",\"type\":\"WheelZoomTool\"},{\"id\":\"e65d852e-1292-411d-b95b-f6c3e994d442\",\"type\":\"BoxZoomTool\"},{\"id\":\"d99f93cd-4099-41f9-90f5-24700f0a922e\",\"type\":\"SaveTool\"},{\"id\":\"5b48e37d-9f1f-4dcc-ad3d-ac9b3ae8d0de\",\"type\":\"ResetTool\"},{\"id\":\"02f52625-1a88-445c-850e-135f1935b718\",\"type\":\"HelpTool\"}]},\"id\":\"18d0802c-1bf9-486c-862d-d4e45ed972d6\",\"type\":\"Toolbar\"},{\"attributes\":{},\"id\":\"7e19d648-6c6c-4c0d-8f20-438fa5c144ff\",\"type\":\"Selection\"},{\"attributes\":{},\"id\":\"01a61f44-1c0e-4a84-bfa3-63d9a22a3a51\",\"type\":\"Selection\"},{\"attributes\":{},\"id\":\"a9c79e13-fc93-42da-9fba-89411c124c3a\",\"type\":\"UnionRenderers\"}],\"root_ids\":[\"f5792db7-3608-4931-bdd9-96b3f564dc7a\"]},\"title\":\"Bokeh Application\",\"version\":\"0.12.16\"}};\n",
       "  var render_items = [{\"docid\":\"fe9e821b-376b-475d-b830-b22e0bbd8aa0\",\"elementid\":\"151a868d-928e-4b6d-8ef4-846f4a175820\",\"modelid\":\"f5792db7-3608-4931-bdd9-96b3f564dc7a\"}];\n",
       "  root.Bokeh.embed.embed_items_notebook(docs_json, render_items);\n",
       "\n",
       "  }\n",
       "  if (root.Bokeh !== undefined) {\n",
       "    embed_document(root);\n",
       "  } else {\n",
       "    var attempts = 0;\n",
       "    var timer = setInterval(function(root) {\n",
       "      if (root.Bokeh !== undefined) {\n",
       "        embed_document(root);\n",
       "        clearInterval(timer);\n",
       "      }\n",
       "      attempts++;\n",
       "      if (attempts > 100) {\n",
       "        console.log(\"Bokeh: ERROR: Unable to run BokehJS code because BokehJS library is missing\")\n",
       "        clearInterval(timer);\n",
       "      }\n",
       "    }, 10, root)\n",
       "  }\n",
       "})(window);"
      ],
      "application/vnd.bokehjs_exec.v0+json": ""
     },
     "metadata": {
      "application/vnd.bokehjs_exec.v0+json": {
       "id": "f5792db7-3608-4931-bdd9-96b3f564dc7a"
      }
     },
     "output_type": "display_data"
    },
    {
     "name": "stdout",
     "output_type": "stream",
     "text": [
      "FIGURE. Cooling rate profiles.\n"
     ]
    },
    {
     "data": {
      "text/html": [
       "<a id=\"Flux_Comparison\"></a>"
      ],
      "text/plain": [
       "<IPython.core.display.HTML object>"
      ]
     },
     "metadata": {},
     "output_type": "display_data"
    },
    {
     "data": {
      "text/markdown": [
       "# Flux Comparison"
      ],
      "text/plain": [
       "<IPython.core.display.Markdown object>"
      ]
     },
     "metadata": {},
     "output_type": "display_data"
    },
    {
     "data": {
      "text/html": [
       "<div>\n",
       "<style scoped>\n",
       "    .dataframe tbody tr th:only-of-type {\n",
       "        vertical-align: middle;\n",
       "    }\n",
       "\n",
       "    .dataframe tbody tr th {\n",
       "        vertical-align: top;\n",
       "    }\n",
       "\n",
       "    .dataframe thead th {\n",
       "        text-align: right;\n",
       "    }\n",
       "</style>\n",
       "<table border=\"1\" class=\"dataframe\">\n",
       "  <thead>\n",
       "    <tr style=\"text-align: right;\">\n",
       "      <th></th>\n",
       "      <th></th>\n",
       "      <th>flug</th>\n",
       "      <th>fldg</th>\n",
       "      <th>fnetg</th>\n",
       "    </tr>\n",
       "    <tr>\n",
       "      <th>pressure</th>\n",
       "      <th>level</th>\n",
       "      <th></th>\n",
       "      <th></th>\n",
       "      <th></th>\n",
       "    </tr>\n",
       "  </thead>\n",
       "  <tbody>\n",
       "    <tr>\n",
       "      <th>0.0000</th>\n",
       "      <th>1</th>\n",
       "      <td>-10.179575</td>\n",
       "      <td>0.000000</td>\n",
       "      <td>-10.179575</td>\n",
       "    </tr>\n",
       "    <tr>\n",
       "      <th>1.0685</th>\n",
       "      <th>24</th>\n",
       "      <td>-10.179464</td>\n",
       "      <td>0.000355</td>\n",
       "      <td>-10.179109</td>\n",
       "    </tr>\n",
       "    <tr>\n",
       "      <th>1013.0000</th>\n",
       "      <th>76</th>\n",
       "      <td>-10.297125</td>\n",
       "      <td>0.225910</td>\n",
       "      <td>-10.071215</td>\n",
       "    </tr>\n",
       "  </tbody>\n",
       "</table>\n",
       "</div>"
      ],
      "text/plain": [
       "                      flug      fldg      fnetg\n",
       "pressure  level                                \n",
       "0.0000    1     -10.179575  0.000000 -10.179575\n",
       "1.0685    24    -10.179464  0.000355 -10.179109\n",
       "1013.0000 76    -10.297125  0.225910 -10.071215"
      ]
     },
     "metadata": {},
     "output_type": "display_data"
    },
    {
     "name": "stdout",
     "output_type": "stream",
     "text": [
      "Table. Fluxes. CRD\n"
     ]
    },
    {
     "data": {
      "text/html": [
       "<div>\n",
       "<style scoped>\n",
       "    .dataframe tbody tr th:only-of-type {\n",
       "        vertical-align: middle;\n",
       "    }\n",
       "\n",
       "    .dataframe tbody tr th {\n",
       "        vertical-align: top;\n",
       "    }\n",
       "\n",
       "    .dataframe thead th {\n",
       "        text-align: right;\n",
       "    }\n",
       "</style>\n",
       "<table border=\"1\" class=\"dataframe\">\n",
       "  <thead>\n",
       "    <tr style=\"text-align: right;\">\n",
       "      <th></th>\n",
       "      <th></th>\n",
       "      <th>flug</th>\n",
       "      <th>fldg</th>\n",
       "      <th>fnetg</th>\n",
       "    </tr>\n",
       "    <tr>\n",
       "      <th>pressure</th>\n",
       "      <th>level</th>\n",
       "      <th></th>\n",
       "      <th></th>\n",
       "      <th></th>\n",
       "    </tr>\n",
       "  </thead>\n",
       "  <tbody>\n",
       "    <tr>\n",
       "      <th>0.0000</th>\n",
       "      <th>1</th>\n",
       "      <td>-10.167046</td>\n",
       "      <td>0.000000</td>\n",
       "      <td>-10.167046</td>\n",
       "    </tr>\n",
       "    <tr>\n",
       "      <th>1.0685</th>\n",
       "      <th>24</th>\n",
       "      <td>-10.167063</td>\n",
       "      <td>0.000343</td>\n",
       "      <td>-10.166720</td>\n",
       "    </tr>\n",
       "    <tr>\n",
       "      <th>1013.0000</th>\n",
       "      <th>76</th>\n",
       "      <td>-10.297125</td>\n",
       "      <td>0.237863</td>\n",
       "      <td>-10.059262</td>\n",
       "    </tr>\n",
       "  </tbody>\n",
       "</table>\n",
       "</div>"
      ],
      "text/plain": [
       "                      flug      fldg      fnetg\n",
       "pressure  level                                \n",
       "0.0000    1     -10.167046  0.000000 -10.167046\n",
       "1.0685    24    -10.167063  0.000343 -10.166720\n",
       "1013.0000 76    -10.297125  0.237863 -10.059262"
      ]
     },
     "metadata": {},
     "output_type": "display_data"
    },
    {
     "name": "stdout",
     "output_type": "stream",
     "text": [
      "Table. Fluxes. WGT igg=10 wgt_flux=1\n"
     ]
    },
    {
     "data": {
      "text/html": [
       "<div>\n",
       "<style scoped>\n",
       "    .dataframe tbody tr th:only-of-type {\n",
       "        vertical-align: middle;\n",
       "    }\n",
       "\n",
       "    .dataframe tbody tr th {\n",
       "        vertical-align: top;\n",
       "    }\n",
       "\n",
       "    .dataframe thead th {\n",
       "        text-align: right;\n",
       "    }\n",
       "</style>\n",
       "<table border=\"1\" class=\"dataframe\">\n",
       "  <thead>\n",
       "    <tr style=\"text-align: right;\">\n",
       "      <th></th>\n",
       "      <th></th>\n",
       "      <th>flug</th>\n",
       "      <th>fldg</th>\n",
       "      <th>fnetg</th>\n",
       "    </tr>\n",
       "    <tr>\n",
       "      <th>pressure</th>\n",
       "      <th>level</th>\n",
       "      <th></th>\n",
       "      <th></th>\n",
       "      <th></th>\n",
       "    </tr>\n",
       "  </thead>\n",
       "  <tbody>\n",
       "    <tr>\n",
       "      <th>1.000000e-08</th>\n",
       "      <th>1</th>\n",
       "      <td>-10.184082</td>\n",
       "      <td>-1.014630e-07</td>\n",
       "      <td>-10.184082</td>\n",
       "    </tr>\n",
       "    <tr>\n",
       "      <th>1.068500e+00</th>\n",
       "      <th>24</th>\n",
       "      <td>-10.184102</td>\n",
       "      <td>3.122825e-04</td>\n",
       "      <td>-10.183790</td>\n",
       "    </tr>\n",
       "    <tr>\n",
       "      <th>1.013000e+03</th>\n",
       "      <th>76</th>\n",
       "      <td>-10.297120</td>\n",
       "      <td>2.032671e-01</td>\n",
       "      <td>-10.093853</td>\n",
       "    </tr>\n",
       "  </tbody>\n",
       "</table>\n",
       "</div>"
      ],
      "text/plain": [
       "                         flug          fldg      fnetg\n",
       "pressure     level                                    \n",
       "1.000000e-08 1     -10.184082 -1.014630e-07 -10.184082\n",
       "1.068500e+00 24    -10.184102  3.122825e-04 -10.183790\n",
       "1.013000e+03 76    -10.297120  2.032671e-01 -10.093853"
      ]
     },
     "metadata": {},
     "output_type": "display_data"
    },
    {
     "name": "stdout",
     "output_type": "stream",
     "text": [
      "Table. Fluxes. CLIRAD\n"
     ]
    },
    {
     "data": {
      "text/html": [
       "<div>\n",
       "<style scoped>\n",
       "    .dataframe tbody tr th:only-of-type {\n",
       "        vertical-align: middle;\n",
       "    }\n",
       "\n",
       "    .dataframe tbody tr th {\n",
       "        vertical-align: top;\n",
       "    }\n",
       "\n",
       "    .dataframe thead th {\n",
       "        text-align: right;\n",
       "    }\n",
       "</style>\n",
       "<table border=\"1\" class=\"dataframe\">\n",
       "  <thead>\n",
       "    <tr style=\"text-align: right;\">\n",
       "      <th></th>\n",
       "      <th></th>\n",
       "      <th>flug</th>\n",
       "      <th>fldg</th>\n",
       "      <th>fnetg</th>\n",
       "    </tr>\n",
       "    <tr>\n",
       "      <th>pressure</th>\n",
       "      <th>level</th>\n",
       "      <th></th>\n",
       "      <th></th>\n",
       "      <th></th>\n",
       "    </tr>\n",
       "  </thead>\n",
       "  <tbody>\n",
       "    <tr>\n",
       "      <th>0.0000</th>\n",
       "      <th>1</th>\n",
       "      <td>0.012529</td>\n",
       "      <td>0.000000</td>\n",
       "      <td>0.012529</td>\n",
       "    </tr>\n",
       "    <tr>\n",
       "      <th>1.0685</th>\n",
       "      <th>24</th>\n",
       "      <td>0.012401</td>\n",
       "      <td>-0.000012</td>\n",
       "      <td>0.012389</td>\n",
       "    </tr>\n",
       "    <tr>\n",
       "      <th>1013.0000</th>\n",
       "      <th>76</th>\n",
       "      <td>0.000000</td>\n",
       "      <td>0.011953</td>\n",
       "      <td>0.011953</td>\n",
       "    </tr>\n",
       "  </tbody>\n",
       "</table>\n",
       "</div>"
      ],
      "text/plain": [
       "                     flug      fldg     fnetg\n",
       "pressure  level                              \n",
       "0.0000    1      0.012529  0.000000  0.012529\n",
       "1.0685    24     0.012401 -0.000012  0.012389\n",
       "1013.0000 76     0.000000  0.011953  0.011953"
      ]
     },
     "metadata": {},
     "output_type": "display_data"
    },
    {
     "name": "stdout",
     "output_type": "stream",
     "text": [
      "Table. Fluxes. (WGT igg=10 wgt_flux=1) - (CRD)\n"
     ]
    },
    {
     "data": {
      "text/html": [
       "<div>\n",
       "<style scoped>\n",
       "    .dataframe tbody tr th:only-of-type {\n",
       "        vertical-align: middle;\n",
       "    }\n",
       "\n",
       "    .dataframe tbody tr th {\n",
       "        vertical-align: top;\n",
       "    }\n",
       "\n",
       "    .dataframe thead th {\n",
       "        text-align: right;\n",
       "    }\n",
       "</style>\n",
       "<table border=\"1\" class=\"dataframe\">\n",
       "  <thead>\n",
       "    <tr style=\"text-align: right;\">\n",
       "      <th></th>\n",
       "      <th></th>\n",
       "      <th>flug</th>\n",
       "      <th>fldg</th>\n",
       "      <th>fnetg</th>\n",
       "    </tr>\n",
       "    <tr>\n",
       "      <th>pressure</th>\n",
       "      <th>level</th>\n",
       "      <th></th>\n",
       "      <th></th>\n",
       "      <th></th>\n",
       "    </tr>\n",
       "  </thead>\n",
       "  <tbody>\n",
       "    <tr>\n",
       "      <th>0.0000</th>\n",
       "      <th>1</th>\n",
       "      <td>-0.004507</td>\n",
       "      <td>-1.014630e-07</td>\n",
       "      <td>-0.004507</td>\n",
       "    </tr>\n",
       "    <tr>\n",
       "      <th>1.0685</th>\n",
       "      <th>24</th>\n",
       "      <td>-0.004638</td>\n",
       "      <td>-4.278700e-05</td>\n",
       "      <td>-0.004681</td>\n",
       "    </tr>\n",
       "    <tr>\n",
       "      <th>1013.0000</th>\n",
       "      <th>76</th>\n",
       "      <td>0.000005</td>\n",
       "      <td>-2.264286e-02</td>\n",
       "      <td>-0.022638</td>\n",
       "    </tr>\n",
       "  </tbody>\n",
       "</table>\n",
       "</div>"
      ],
      "text/plain": [
       "                     flug          fldg     fnetg\n",
       "pressure  level                                  \n",
       "0.0000    1     -0.004507 -1.014630e-07 -0.004507\n",
       "1.0685    24    -0.004638 -4.278700e-05 -0.004681\n",
       "1013.0000 76     0.000005 -2.264286e-02 -0.022638"
      ]
     },
     "metadata": {},
     "output_type": "display_data"
    },
    {
     "name": "stdout",
     "output_type": "stream",
     "text": [
      "Table. Fluxes. (CLIRAD) - (CRD)\n"
     ]
    },
    {
     "data": {
      "text/html": [
       "<a id=\"Best-fit_Parameters\"></a>"
      ],
      "text/plain": [
       "<IPython.core.display.HTML object>"
      ]
     },
     "metadata": {},
     "output_type": "display_data"
    },
    {
     "data": {
      "text/markdown": [
       "# Best-fit Parameters"
      ],
      "text/plain": [
       "<IPython.core.display.Markdown object>"
      ]
     },
     "metadata": {},
     "output_type": "display_data"
    },
    {
     "name": "stdout",
     "output_type": "stream",
     "text": [
      "Best-fit values for each (gas, band)\n",
      "------------------------------------\n",
      "o n2o band6\n",
      "  atmpro = mls\n",
      "  band = 6\n",
      "  commitnumber = bca49ce\n",
      "  conc = 3.2e-07\n",
      "  dv = 0.005\n",
      "  klin = 0\n",
      "  molecule = n2o\n",
      "  ng_adju = [0]\n",
      "  ng_refs = [1]\n",
      "  nv = 200\n",
      "  option_compute_btable = 0\n",
      "  option_compute_ktable = 1\n",
      "  option_wgt_flux = 1\n",
      "  option_wgt_k = 1\n",
      "  ref_pts = [(500, 250)]\n",
      "  tsfc = 294\n",
      "  vmax = 1215\n",
      "  vmin = 1100\n",
      "  w_diffuse = [(1.66,)]\n",
      "  wgt = [(0.95,)]\n"
     ]
    }
   ],
   "source": [
    "script()"
   ]
  },
  {
   "cell_type": "code",
   "execution_count": 13,
   "metadata": {
    "collapsed": true
   },
   "outputs": [
    {
     "data": {
      "text/html": [
       "<script>\n",
       "code_show=true; \n",
       "function code_toggle() {\n",
       " if (code_show){\n",
       " $('div.input').hide();\n",
       " } else {\n",
       " $('div.input').show();\n",
       " }\n",
       " code_show = !code_show\n",
       "} \n",
       "$( document ).ready(code_toggle);\n",
       "</script>\n",
       "<form action=\"javascript:code_toggle()\"><input type=\"submit\" value=\"Click here to toggle on/off the raw code.\"></form>"
      ],
      "text/plain": [
       "<IPython.core.display.HTML object>"
      ]
     },
     "execution_count": 13,
     "metadata": {},
     "output_type": "execute_result"
    }
   ],
   "source": [
    "display.HTML('''<script>\n",
    "code_show=true; \n",
    "function code_toggle() {\n",
    " if (code_show){\n",
    " $('div.input').hide();\n",
    " } else {\n",
    " $('div.input').show();\n",
    " }\n",
    " code_show = !code_show\n",
    "} \n",
    "$( document ).ready(code_toggle);\n",
    "</script>\n",
    "<form action=\"javascript:code_toggle()\"><input type=\"submit\" value=\"Click here to toggle on/off the raw code.\"></form>''')"
   ]
  }
 ],
 "metadata": {
  "kernelspec": {
   "display_name": "Python 3",
   "language": "python",
   "name": "python3"
  },
  "language_info": {
   "codemirror_mode": {
    "name": "ipython",
    "version": 3
   },
   "file_extension": ".py",
   "mimetype": "text/x-python",
   "name": "python",
   "nbconvert_exporter": "python",
   "pygments_lexer": "ipython3",
   "version": "3.6.1"
  }
 },
 "nbformat": 4,
 "nbformat_minor": 2
}
