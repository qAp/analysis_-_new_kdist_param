{
 "cells": [
  {
   "cell_type": "code",
   "execution_count": 1,
   "metadata": {
    "collapsed": true
   },
   "outputs": [],
   "source": [
    "%matplotlib inline\n",
    "import os\n",
    "import re\n",
    "import io\n",
    "import itertools\n",
    "import pprint\n",
    "\n",
    "from bokeh.io import output_notebook, show\n",
    "from bokeh.layouts import gridplot\n",
    "from bokeh.plotting import figure\n",
    "from bokeh.models import Range1d, Legend\n",
    "from bokeh.palettes import all_palettes\n",
    "\n",
    "import matplotlib\n",
    "import matplotlib.pyplot as plt\n",
    "import numpy as np\n",
    "import pandas as pd\n",
    "import xarray as xr\n",
    "\n",
    "import climatools.lblnew.bestfit_params as bestfits\n",
    "from climatools.lblnew import setup_bestfit, setup_overlap\n",
    "import climatools.lblnew.pipeline as pipe_lblnew\n",
    "import climatools.cliradlw.setup as setup_cliradlw\n",
    "import climatools.cliradlw.pipeline as pipe_cliradlw\n",
    "\n",
    "import climatools.html.html as climahtml\n",
    "from climatools.lblnew.dataio import *\n",
    "from climatools.plot.plot import *\n",
    "\n",
    "\n",
    "import IPython.display as display"
   ]
  },
  {
   "cell_type": "code",
   "execution_count": 2,
   "metadata": {
    "collapsed": true
   },
   "outputs": [],
   "source": [
    "%run param.py"
   ]
  },
  {
   "cell_type": "code",
   "execution_count": 3,
   "metadata": {
    "collapsed": true
   },
   "outputs": [],
   "source": [
    "def load_output_file(path_csv):\n",
    "    '''\n",
    "    Load lblnew output .csv file to xarray.Dataset\n",
    "    \n",
    "    Parameters\n",
    "    ----------\n",
    "    path_csv: str\n",
    "              Path to the .csv file to be loaded.\n",
    "    ds: xarray.Dataset\n",
    "        Data in the input file in the form of an xarray.Dataset.\n",
    "    '''\n",
    "    toindex = ['band', 'pressure', 'igg', 'g']    \n",
    "    df = pd.read_csv(path_csv, sep=r'\\s+')\n",
    "    df = df.set_index([i for i in toindex if i in df.columns])\n",
    "    df = df.rename(columns={'sfu': 'flug',\n",
    "                            'sfd': 'fldg',\n",
    "                            'fnet': 'fnetg',\n",
    "                            'coolr': 'coolrg'})\n",
    "    ds = xr.Dataset.from_dataframe(df)\n",
    "\n",
    "    for l in ('level', 'layer'):\n",
    "        if l in ds.data_vars:\n",
    "            if len(ds[l].dims) > 1:\n",
    "                surface = {d: 0 for d in ds.dims if d != 'pressure'}\n",
    "                coord_level = ds[l][surface]\n",
    "                ds.coords[l] = ('pressure', coord_level)\n",
    "            else:\n",
    "                ds.coords[l] = ('pressure', ds[l])\n",
    "    \n",
    "    return ds"
   ]
  },
  {
   "cell_type": "code",
   "execution_count": 4,
   "metadata": {
    "collapsed": true
   },
   "outputs": [],
   "source": [
    "def lblnew_setup(param=None):\n",
    "    if 'ng_refs' in param:\n",
    "        return {'setup': setup_bestfit,\n",
    "                'fname_flux_crd': 'output_flux.dat',\n",
    "                'fname_cool_crd': 'output_coolr.dat',\n",
    "                'fname_flux_wgt': 'output_wfluxg.dat',\n",
    "                'fname_cool_wgt': 'output_wcoolrg.dat'}\n",
    "    else:\n",
    "        return {'setup': setup_overlap,\n",
    "                'fname_flux_crd': 'output_flux.dat',\n",
    "                'fname_cool_crd': 'output_coolr.dat',\n",
    "                'fname_flux_wgt': 'output_wflux.dat',\n",
    "                'fname_cool_wgt': 'output_wcoolr.dat'}\n",
    "\n",
    "    \n",
    "def load_lblnew_data(param):\n",
    "    \n",
    "    fname_dsname = [('fname_flux_crd', 'ds_flux_crd'),\n",
    "                    ('fname_cool_crd', 'ds_cool_crd'),\n",
    "                    ('fname_flux_wgt', 'ds_flux_wgt'),\n",
    "                    ('fname_cool_wgt', 'ds_cool_wgt')]\n",
    "    \n",
    "    d = lblnew_setup(param)\n",
    "    dir_fortran = pipe_lblnew.get_dir_case(param, setup=d['setup'])\n",
    "    \n",
    "    data_dict = {}\n",
    "    for fname, dsname in fname_dsname:\n",
    "        fpath = os.path.join(dir_fortran, d[fname])\n",
    "        data_dict[dsname] = load_output_file(fpath)\n",
    "    return data_dict\n",
    "    \n",
    "\n",
    "    \n",
    "    "
   ]
  },
  {
   "cell_type": "code",
   "execution_count": 5,
   "metadata": {
    "collapsed": true
   },
   "outputs": [],
   "source": [
    "d = load_lblnew_data(PARAM_LBLNEW)\n",
    "\n",
    "DS_FLUX_CRD = d['ds_flux_crd']\n",
    "DS_COOL_CRD = d['ds_cool_crd']\n",
    "DS_FLUX_WGT = d['ds_flux_wgt']\n",
    "DS_COOL_WGT = d['ds_cool_wgt']"
   ]
  },
  {
   "cell_type": "code",
   "execution_count": 6,
   "metadata": {
    "collapsed": true
   },
   "outputs": [],
   "source": [
    "DIR_FORTRAN = pipe_cliradlw.get_fortran_dir(PARAM, \n",
    "                                            setup=setup_cliradlw)\n",
    "\n",
    "PATH_FLUX = os.path.join(DIR_FORTRAN, 'output_flux.dat')\n",
    "PATH_COOL = os.path.join(DIR_FORTRAN, 'output_coolr.dat')\n",
    "\n",
    "DS_FLUX = load_output_file(PATH_FLUX)\n",
    "DS_COOL = load_output_file(PATH_COOL)"
   ]
  },
  {
   "cell_type": "code",
   "execution_count": 7,
   "metadata": {
    "collapsed": true
   },
   "outputs": [
    {
     "name": "stdout",
     "output_type": "stream",
     "text": [
      "The history saving thread hit an unexpected error (OperationalError('database is locked',)).History will not be written to the database.\n"
     ]
    },
    {
     "data": {
      "text/html": [
       "\n",
       "    <div class=\"bk-root\">\n",
       "        <a href=\"https://bokeh.pydata.org\" target=\"_blank\" class=\"bk-logo bk-logo-small bk-logo-notebook\"></a>\n",
       "        <span id=\"bf359275-ef10-4508-8bec-7ed07c949242\">Loading BokehJS ...</span>\n",
       "    </div>"
      ]
     },
     "metadata": {},
     "output_type": "display_data"
    },
    {
     "data": {
      "application/javascript": [
       "\n",
       "(function(root) {\n",
       "  function now() {\n",
       "    return new Date();\n",
       "  }\n",
       "\n",
       "  var force = true;\n",
       "\n",
       "  if (typeof (root._bokeh_onload_callbacks) === \"undefined\" || force === true) {\n",
       "    root._bokeh_onload_callbacks = [];\n",
       "    root._bokeh_is_loading = undefined;\n",
       "  }\n",
       "\n",
       "  var JS_MIME_TYPE = 'application/javascript';\n",
       "  var HTML_MIME_TYPE = 'text/html';\n",
       "  var EXEC_MIME_TYPE = 'application/vnd.bokehjs_exec.v0+json';\n",
       "  var CLASS_NAME = 'output_bokeh rendered_html';\n",
       "\n",
       "  /**\n",
       "   * Render data to the DOM node\n",
       "   */\n",
       "  function render(props, node) {\n",
       "    var script = document.createElement(\"script\");\n",
       "    node.appendChild(script);\n",
       "  }\n",
       "\n",
       "  /**\n",
       "   * Handle when an output is cleared or removed\n",
       "   */\n",
       "  function handleClearOutput(event, handle) {\n",
       "    var cell = handle.cell;\n",
       "\n",
       "    var id = cell.output_area._bokeh_element_id;\n",
       "    var server_id = cell.output_area._bokeh_server_id;\n",
       "    // Clean up Bokeh references\n",
       "    if (id !== undefined) {\n",
       "      Bokeh.index[id].model.document.clear();\n",
       "      delete Bokeh.index[id];\n",
       "    }\n",
       "\n",
       "    if (server_id !== undefined) {\n",
       "      // Clean up Bokeh references\n",
       "      var cmd = \"from bokeh.io.state import curstate; print(curstate().uuid_to_server['\" + server_id + \"'].get_sessions()[0].document.roots[0]._id)\";\n",
       "      cell.notebook.kernel.execute(cmd, {\n",
       "        iopub: {\n",
       "          output: function(msg) {\n",
       "            var element_id = msg.content.text.trim();\n",
       "            Bokeh.index[element_id].model.document.clear();\n",
       "            delete Bokeh.index[element_id];\n",
       "          }\n",
       "        }\n",
       "      });\n",
       "      // Destroy server and session\n",
       "      var cmd = \"import bokeh.io.notebook as ion; ion.destroy_server('\" + server_id + \"')\";\n",
       "      cell.notebook.kernel.execute(cmd);\n",
       "    }\n",
       "  }\n",
       "\n",
       "  /**\n",
       "   * Handle when a new output is added\n",
       "   */\n",
       "  function handleAddOutput(event, handle) {\n",
       "    var output_area = handle.output_area;\n",
       "    var output = handle.output;\n",
       "\n",
       "    // limit handleAddOutput to display_data with EXEC_MIME_TYPE content only\n",
       "    if ((output.output_type != \"display_data\") || (!output.data.hasOwnProperty(EXEC_MIME_TYPE))) {\n",
       "      return\n",
       "    }\n",
       "\n",
       "    var toinsert = output_area.element.find(\".\" + CLASS_NAME.split(' ')[0]);\n",
       "\n",
       "    if (output.metadata[EXEC_MIME_TYPE][\"id\"] !== undefined) {\n",
       "      toinsert[toinsert.length - 1].firstChild.textContent = output.data[JS_MIME_TYPE];\n",
       "      // store reference to embed id on output_area\n",
       "      output_area._bokeh_element_id = output.metadata[EXEC_MIME_TYPE][\"id\"];\n",
       "    }\n",
       "    if (output.metadata[EXEC_MIME_TYPE][\"server_id\"] !== undefined) {\n",
       "      var bk_div = document.createElement(\"div\");\n",
       "      bk_div.innerHTML = output.data[HTML_MIME_TYPE];\n",
       "      var script_attrs = bk_div.children[0].attributes;\n",
       "      for (var i = 0; i < script_attrs.length; i++) {\n",
       "        toinsert[toinsert.length - 1].firstChild.setAttribute(script_attrs[i].name, script_attrs[i].value);\n",
       "      }\n",
       "      // store reference to server id on output_area\n",
       "      output_area._bokeh_server_id = output.metadata[EXEC_MIME_TYPE][\"server_id\"];\n",
       "    }\n",
       "  }\n",
       "\n",
       "  function register_renderer(events, OutputArea) {\n",
       "\n",
       "    function append_mime(data, metadata, element) {\n",
       "      // create a DOM node to render to\n",
       "      var toinsert = this.create_output_subarea(\n",
       "        metadata,\n",
       "        CLASS_NAME,\n",
       "        EXEC_MIME_TYPE\n",
       "      );\n",
       "      this.keyboard_manager.register_events(toinsert);\n",
       "      // Render to node\n",
       "      var props = {data: data, metadata: metadata[EXEC_MIME_TYPE]};\n",
       "      render(props, toinsert[toinsert.length - 1]);\n",
       "      element.append(toinsert);\n",
       "      return toinsert\n",
       "    }\n",
       "\n",
       "    /* Handle when an output is cleared or removed */\n",
       "    events.on('clear_output.CodeCell', handleClearOutput);\n",
       "    events.on('delete.Cell', handleClearOutput);\n",
       "\n",
       "    /* Handle when a new output is added */\n",
       "    events.on('output_added.OutputArea', handleAddOutput);\n",
       "\n",
       "    /**\n",
       "     * Register the mime type and append_mime function with output_area\n",
       "     */\n",
       "    OutputArea.prototype.register_mime_type(EXEC_MIME_TYPE, append_mime, {\n",
       "      /* Is output safe? */\n",
       "      safe: true,\n",
       "      /* Index of renderer in `output_area.display_order` */\n",
       "      index: 0\n",
       "    });\n",
       "  }\n",
       "\n",
       "  // register the mime type if in Jupyter Notebook environment and previously unregistered\n",
       "  if (root.Jupyter !== undefined) {\n",
       "    var events = require('base/js/events');\n",
       "    var OutputArea = require('notebook/js/outputarea').OutputArea;\n",
       "\n",
       "    if (OutputArea.prototype.mime_types().indexOf(EXEC_MIME_TYPE) == -1) {\n",
       "      register_renderer(events, OutputArea);\n",
       "    }\n",
       "  }\n",
       "\n",
       "  \n",
       "  if (typeof (root._bokeh_timeout) === \"undefined\" || force === true) {\n",
       "    root._bokeh_timeout = Date.now() + 5000;\n",
       "    root._bokeh_failed_load = false;\n",
       "  }\n",
       "\n",
       "  var NB_LOAD_WARNING = {'data': {'text/html':\n",
       "     \"<div style='background-color: #fdd'>\\n\"+\n",
       "     \"<p>\\n\"+\n",
       "     \"BokehJS does not appear to have successfully loaded. If loading BokehJS from CDN, this \\n\"+\n",
       "     \"may be due to a slow or bad network connection. Possible fixes:\\n\"+\n",
       "     \"</p>\\n\"+\n",
       "     \"<ul>\\n\"+\n",
       "     \"<li>re-rerun `output_notebook()` to attempt to load from CDN again, or</li>\\n\"+\n",
       "     \"<li>use INLINE resources instead, as so:</li>\\n\"+\n",
       "     \"</ul>\\n\"+\n",
       "     \"<code>\\n\"+\n",
       "     \"from bokeh.resources import INLINE\\n\"+\n",
       "     \"output_notebook(resources=INLINE)\\n\"+\n",
       "     \"</code>\\n\"+\n",
       "     \"</div>\"}};\n",
       "\n",
       "  function display_loaded() {\n",
       "    var el = document.getElementById(\"bf359275-ef10-4508-8bec-7ed07c949242\");\n",
       "    if (el != null) {\n",
       "      el.textContent = \"BokehJS is loading...\";\n",
       "    }\n",
       "    if (root.Bokeh !== undefined) {\n",
       "      if (el != null) {\n",
       "        el.textContent = \"BokehJS \" + root.Bokeh.version + \" successfully loaded.\";\n",
       "      }\n",
       "    } else if (Date.now() < root._bokeh_timeout) {\n",
       "      setTimeout(display_loaded, 100)\n",
       "    }\n",
       "  }\n",
       "\n",
       "\n",
       "  function run_callbacks() {\n",
       "    try {\n",
       "      root._bokeh_onload_callbacks.forEach(function(callback) { callback() });\n",
       "    }\n",
       "    finally {\n",
       "      delete root._bokeh_onload_callbacks\n",
       "    }\n",
       "    console.info(\"Bokeh: all callbacks have finished\");\n",
       "  }\n",
       "\n",
       "  function load_libs(js_urls, callback) {\n",
       "    root._bokeh_onload_callbacks.push(callback);\n",
       "    if (root._bokeh_is_loading > 0) {\n",
       "      console.log(\"Bokeh: BokehJS is being loaded, scheduling callback at\", now());\n",
       "      return null;\n",
       "    }\n",
       "    if (js_urls == null || js_urls.length === 0) {\n",
       "      run_callbacks();\n",
       "      return null;\n",
       "    }\n",
       "    console.log(\"Bokeh: BokehJS not loaded, scheduling load and callback at\", now());\n",
       "    root._bokeh_is_loading = js_urls.length;\n",
       "    for (var i = 0; i < js_urls.length; i++) {\n",
       "      var url = js_urls[i];\n",
       "      var s = document.createElement('script');\n",
       "      s.src = url;\n",
       "      s.async = false;\n",
       "      s.onreadystatechange = s.onload = function() {\n",
       "        root._bokeh_is_loading--;\n",
       "        if (root._bokeh_is_loading === 0) {\n",
       "          console.log(\"Bokeh: all BokehJS libraries loaded\");\n",
       "          run_callbacks()\n",
       "        }\n",
       "      };\n",
       "      s.onerror = function() {\n",
       "        console.warn(\"failed to load library \" + url);\n",
       "      };\n",
       "      console.log(\"Bokeh: injecting script tag for BokehJS library: \", url);\n",
       "      document.getElementsByTagName(\"head\")[0].appendChild(s);\n",
       "    }\n",
       "  };var element = document.getElementById(\"bf359275-ef10-4508-8bec-7ed07c949242\");\n",
       "  if (element == null) {\n",
       "    console.log(\"Bokeh: ERROR: autoload.js configured with elementid 'bf359275-ef10-4508-8bec-7ed07c949242' but no matching script tag was found. \")\n",
       "    return false;\n",
       "  }\n",
       "\n",
       "  var js_urls = [\"https://cdn.pydata.org/bokeh/release/bokeh-0.12.16.min.js\", \"https://cdn.pydata.org/bokeh/release/bokeh-widgets-0.12.16.min.js\", \"https://cdn.pydata.org/bokeh/release/bokeh-tables-0.12.16.min.js\", \"https://cdn.pydata.org/bokeh/release/bokeh-gl-0.12.16.min.js\"];\n",
       "\n",
       "  var inline_js = [\n",
       "    function(Bokeh) {\n",
       "      Bokeh.set_log_level(\"info\");\n",
       "    },\n",
       "    \n",
       "    function(Bokeh) {\n",
       "      \n",
       "    },\n",
       "    function(Bokeh) {\n",
       "      console.log(\"Bokeh: injecting CSS: https://cdn.pydata.org/bokeh/release/bokeh-0.12.16.min.css\");\n",
       "      Bokeh.embed.inject_css(\"https://cdn.pydata.org/bokeh/release/bokeh-0.12.16.min.css\");\n",
       "      console.log(\"Bokeh: injecting CSS: https://cdn.pydata.org/bokeh/release/bokeh-widgets-0.12.16.min.css\");\n",
       "      Bokeh.embed.inject_css(\"https://cdn.pydata.org/bokeh/release/bokeh-widgets-0.12.16.min.css\");\n",
       "      console.log(\"Bokeh: injecting CSS: https://cdn.pydata.org/bokeh/release/bokeh-tables-0.12.16.min.css\");\n",
       "      Bokeh.embed.inject_css(\"https://cdn.pydata.org/bokeh/release/bokeh-tables-0.12.16.min.css\");\n",
       "    }\n",
       "  ];\n",
       "\n",
       "  function run_inline_js() {\n",
       "    \n",
       "    if ((root.Bokeh !== undefined) || (force === true)) {\n",
       "      for (var i = 0; i < inline_js.length; i++) {\n",
       "        inline_js[i].call(root, root.Bokeh);\n",
       "      }if (force === true) {\n",
       "        display_loaded();\n",
       "      }} else if (Date.now() < root._bokeh_timeout) {\n",
       "      setTimeout(run_inline_js, 100);\n",
       "    } else if (!root._bokeh_failed_load) {\n",
       "      console.log(\"Bokeh: BokehJS failed to load within specified timeout.\");\n",
       "      root._bokeh_failed_load = true;\n",
       "    } else if (force !== true) {\n",
       "      var cell = $(document.getElementById(\"bf359275-ef10-4508-8bec-7ed07c949242\")).parents('.cell').data().cell;\n",
       "      cell.output_area.append_execute_result(NB_LOAD_WARNING)\n",
       "    }\n",
       "\n",
       "  }\n",
       "\n",
       "  if (root._bokeh_is_loading === 0) {\n",
       "    console.log(\"Bokeh: BokehJS loaded, going straight to plotting\");\n",
       "    run_inline_js();\n",
       "  } else {\n",
       "    load_libs(js_urls, function() {\n",
       "      console.log(\"Bokeh: BokehJS plotting callback run at\", now());\n",
       "      run_inline_js();\n",
       "    });\n",
       "  }\n",
       "}(window));"
      ],
      "application/vnd.bokehjs_load.v0+json": "\n(function(root) {\n  function now() {\n    return new Date();\n  }\n\n  var force = true;\n\n  if (typeof (root._bokeh_onload_callbacks) === \"undefined\" || force === true) {\n    root._bokeh_onload_callbacks = [];\n    root._bokeh_is_loading = undefined;\n  }\n\n  \n\n  \n  if (typeof (root._bokeh_timeout) === \"undefined\" || force === true) {\n    root._bokeh_timeout = Date.now() + 5000;\n    root._bokeh_failed_load = false;\n  }\n\n  var NB_LOAD_WARNING = {'data': {'text/html':\n     \"<div style='background-color: #fdd'>\\n\"+\n     \"<p>\\n\"+\n     \"BokehJS does not appear to have successfully loaded. If loading BokehJS from CDN, this \\n\"+\n     \"may be due to a slow or bad network connection. Possible fixes:\\n\"+\n     \"</p>\\n\"+\n     \"<ul>\\n\"+\n     \"<li>re-rerun `output_notebook()` to attempt to load from CDN again, or</li>\\n\"+\n     \"<li>use INLINE resources instead, as so:</li>\\n\"+\n     \"</ul>\\n\"+\n     \"<code>\\n\"+\n     \"from bokeh.resources import INLINE\\n\"+\n     \"output_notebook(resources=INLINE)\\n\"+\n     \"</code>\\n\"+\n     \"</div>\"}};\n\n  function display_loaded() {\n    var el = document.getElementById(\"bf359275-ef10-4508-8bec-7ed07c949242\");\n    if (el != null) {\n      el.textContent = \"BokehJS is loading...\";\n    }\n    if (root.Bokeh !== undefined) {\n      if (el != null) {\n        el.textContent = \"BokehJS \" + root.Bokeh.version + \" successfully loaded.\";\n      }\n    } else if (Date.now() < root._bokeh_timeout) {\n      setTimeout(display_loaded, 100)\n    }\n  }\n\n\n  function run_callbacks() {\n    try {\n      root._bokeh_onload_callbacks.forEach(function(callback) { callback() });\n    }\n    finally {\n      delete root._bokeh_onload_callbacks\n    }\n    console.info(\"Bokeh: all callbacks have finished\");\n  }\n\n  function load_libs(js_urls, callback) {\n    root._bokeh_onload_callbacks.push(callback);\n    if (root._bokeh_is_loading > 0) {\n      console.log(\"Bokeh: BokehJS is being loaded, scheduling callback at\", now());\n      return null;\n    }\n    if (js_urls == null || js_urls.length === 0) {\n      run_callbacks();\n      return null;\n    }\n    console.log(\"Bokeh: BokehJS not loaded, scheduling load and callback at\", now());\n    root._bokeh_is_loading = js_urls.length;\n    for (var i = 0; i < js_urls.length; i++) {\n      var url = js_urls[i];\n      var s = document.createElement('script');\n      s.src = url;\n      s.async = false;\n      s.onreadystatechange = s.onload = function() {\n        root._bokeh_is_loading--;\n        if (root._bokeh_is_loading === 0) {\n          console.log(\"Bokeh: all BokehJS libraries loaded\");\n          run_callbacks()\n        }\n      };\n      s.onerror = function() {\n        console.warn(\"failed to load library \" + url);\n      };\n      console.log(\"Bokeh: injecting script tag for BokehJS library: \", url);\n      document.getElementsByTagName(\"head\")[0].appendChild(s);\n    }\n  };var element = document.getElementById(\"bf359275-ef10-4508-8bec-7ed07c949242\");\n  if (element == null) {\n    console.log(\"Bokeh: ERROR: autoload.js configured with elementid 'bf359275-ef10-4508-8bec-7ed07c949242' but no matching script tag was found. \")\n    return false;\n  }\n\n  var js_urls = [\"https://cdn.pydata.org/bokeh/release/bokeh-0.12.16.min.js\", \"https://cdn.pydata.org/bokeh/release/bokeh-widgets-0.12.16.min.js\", \"https://cdn.pydata.org/bokeh/release/bokeh-tables-0.12.16.min.js\", \"https://cdn.pydata.org/bokeh/release/bokeh-gl-0.12.16.min.js\"];\n\n  var inline_js = [\n    function(Bokeh) {\n      Bokeh.set_log_level(\"info\");\n    },\n    \n    function(Bokeh) {\n      \n    },\n    function(Bokeh) {\n      console.log(\"Bokeh: injecting CSS: https://cdn.pydata.org/bokeh/release/bokeh-0.12.16.min.css\");\n      Bokeh.embed.inject_css(\"https://cdn.pydata.org/bokeh/release/bokeh-0.12.16.min.css\");\n      console.log(\"Bokeh: injecting CSS: https://cdn.pydata.org/bokeh/release/bokeh-widgets-0.12.16.min.css\");\n      Bokeh.embed.inject_css(\"https://cdn.pydata.org/bokeh/release/bokeh-widgets-0.12.16.min.css\");\n      console.log(\"Bokeh: injecting CSS: https://cdn.pydata.org/bokeh/release/bokeh-tables-0.12.16.min.css\");\n      Bokeh.embed.inject_css(\"https://cdn.pydata.org/bokeh/release/bokeh-tables-0.12.16.min.css\");\n    }\n  ];\n\n  function run_inline_js() {\n    \n    if ((root.Bokeh !== undefined) || (force === true)) {\n      for (var i = 0; i < inline_js.length; i++) {\n        inline_js[i].call(root, root.Bokeh);\n      }if (force === true) {\n        display_loaded();\n      }} else if (Date.now() < root._bokeh_timeout) {\n      setTimeout(run_inline_js, 100);\n    } else if (!root._bokeh_failed_load) {\n      console.log(\"Bokeh: BokehJS failed to load within specified timeout.\");\n      root._bokeh_failed_load = true;\n    } else if (force !== true) {\n      var cell = $(document.getElementById(\"bf359275-ef10-4508-8bec-7ed07c949242\")).parents('.cell').data().cell;\n      cell.output_area.append_execute_result(NB_LOAD_WARNING)\n    }\n\n  }\n\n  if (root._bokeh_is_loading === 0) {\n    console.log(\"Bokeh: BokehJS loaded, going straight to plotting\");\n    run_inline_js();\n  } else {\n    load_libs(js_urls, function() {\n      console.log(\"Bokeh: BokehJS plotting callback run at\", now());\n      run_inline_js();\n    });\n  }\n}(window));"
     },
     "metadata": {},
     "output_type": "display_data"
    }
   ],
   "source": [
    "output_notebook()"
   ]
  },
  {
   "cell_type": "code",
   "execution_count": 8,
   "metadata": {
    "collapsed": true
   },
   "outputs": [],
   "source": [
    "def fmt_cool(ds_in):\n",
    "    ds = ds_in.copy(deep=True)\n",
    "    if 'igg' in ds.dims:\n",
    "        ds = ds.sel(igg=1)\n",
    "\n",
    "    if 'g' in ds.dims:\n",
    "        ds = ds.sum('g')\n",
    "            \n",
    "    if 'band' in ds.dims:\n",
    "        try:\n",
    "            ds = ds.squeeze('band')\n",
    "        except ValueError:\n",
    "            ds = ds.sum('band')\n",
    "                \n",
    "    return ds['coolrg']\n",
    "\n",
    "\n",
    "def pltdata_cooling_1(ds_cool=None,\n",
    "                      ds_cool_crd=None, ds_cool_wgt=None):\n",
    "    \n",
    "\n",
    "\n",
    "    colors = all_palettes['Set1'][4]\n",
    "    data = [{'label': 'CLIRAD `coolr_bands`',\n",
    "             'srs': fmt_cool(ds_cool),\n",
    "             'line_dash': 'dashed', 'line_width': 5,\n",
    "             'color': colors[0], 'alpha': .6},\n",
    "            {'label': 'CRD',\n",
    "             'srs': fmt_cool(ds_cool_crd),\n",
    "             'line_dash': 'solid', 'line_width': 1.5,\n",
    "             'marker': 'circle', 'marker_size': 5,\n",
    "             'color': colors[2], 'alpha': 1,},\n",
    "            {'label': 'WGT igg=10 wgt_flux=2',\n",
    "             'srs': fmt_cool(ds_cool_wgt),\n",
    "             'line_dash': 'solid', 'line_width': 3,\n",
    "             'marker': 'square', 'marker_size': 5,\n",
    "             'color': colors[3], 'alpha': .6}]\n",
    "    return data\n",
    "\n",
    "\n",
    "def nice_xlims(pltdata=None, prange=None):\n",
    "    \n",
    "    def get_slice(srs):\n",
    "        return srs.sel(pressure=slice(*prange))\n",
    "    \n",
    "    srss = [d['srs'] for d in pltdata]\n",
    "    vmin = min([get_slice(srs).min() for srs in srss])\n",
    "    vmax = max([get_slice(srs).max() for srs in srss])\n",
    "    dv = (vmax - vmin) * .01\n",
    "    return float(vmin - dv), float(vmax + dv)\n",
    "    \n",
    "\n",
    "def plt_cooling_bokeh(pltdata=None):\n",
    "    '''\n",
    "    Plot a list of cooling rate profiles using bokeh.\n",
    "    '''\n",
    "    ymin = 1e-2 \n",
    "    ymax = 1020 \n",
    "        \n",
    "    p1 = figure(title=\"Linear pressure scale\", \n",
    "                plot_width=400)        \n",
    "    xmin, xmax = nice_xlims(pltdata, prange=(50, 1050))\n",
    "    for d in pltdata:\n",
    "        if 'marker' in d:\n",
    "            getattr(p1, d['marker'])(d['srs'].values, \n",
    "                    d['srs'].coords['pressure'].values,\n",
    "                    color=d['color'], alpha=.7)\n",
    "        p1.line(d['srs'].values, \n",
    "                d['srs'].coords['pressure'].values,\n",
    "                color=d['color'], alpha=d['alpha'], \n",
    "                line_width=d['line_width'], line_dash=d['line_dash'])\n",
    "    \n",
    "    p1.y_range = Range1d(ymax, ymin)\n",
    "    p1.yaxis.axis_label = 'pressure [mb]'   \n",
    "    p1.x_range = Range1d(xmin, xmax)\n",
    "    p1.xaxis.axis_label = 'cooling rate [K/day]'\n",
    "            \n",
    "    p2 = figure(title='Log pressure scale', y_axis_type='log',\n",
    "                plot_width=560)\n",
    "    xmin, xmax = nice_xlims(pltdata, prange=(.01, 200))\n",
    "    \n",
    "    rs = []\n",
    "    for d in pltdata:\n",
    "        rd = []\n",
    "        if 'marker' in d:\n",
    "            r_mark = getattr(p2, d['marker'])(d['srs'].values, \n",
    "                        d['srs'].coords['pressure'].values,\n",
    "                        color=d['color'], alpha=.7)\n",
    "            rd.append(r_mark)\n",
    "        r_line = p2.line(d['srs'].values, \n",
    "                    d['srs'].coords['pressure'].values,\n",
    "                    color=d['color'], alpha=d['alpha'], \n",
    "                    line_width=d['line_width'], line_dash=d['line_dash'])\n",
    "        rd.append(r_line)\n",
    "      \n",
    "        rs.append(rd)\n",
    "        \n",
    "    p2.y_range = Range1d(ymax, ymin)  \n",
    "    p2.yaxis.axis_label = 'pressure [mb]'\n",
    "    \n",
    "    p2.x_range = Range1d(xmin, xmax)\n",
    "    p2.xaxis.axis_label = 'cooling rate [K/day]'\n",
    "    \n",
    "    items = [(d['label'], r) for r, d in zip(rs, pltdata)]\n",
    "    legend = Legend(items=items, location=(10, -30))\n",
    "    legend.label_text_font_size = '8pt'\n",
    "    \n",
    "    p2.add_layout(legend, 'right')  \n",
    "    \n",
    "    show(gridplot(p1, p2, ncols=2, plot_height=500))\n",
    "    \n",
    "\n",
    "def script_plt_cooling():\n",
    "    pltdata = pltdata_cooling_1(\n",
    "        ds_cool=DS_COOL,\n",
    "        ds_cool_crd=DS_COOL_CRD,\n",
    "        ds_cool_wgt=DS_COOL_WGT)\n",
    "    plt_cooling_bokeh(pltdata=pltdata)\n",
    "    print('''FIGURE. Cooling rate profiles.''')"
   ]
  },
  {
   "cell_type": "code",
   "execution_count": 9,
   "metadata": {
    "collapsed": true
   },
   "outputs": [],
   "source": [
    "def fmt_flux(ds_in):\n",
    "    ds = ds_in.copy(deep=True)\n",
    "    \n",
    "    for l in ('level', 'layer'):\n",
    "        if l in ds.data_vars:\n",
    "            if len(ds[l].dims) > 1:\n",
    "                surface = {d: 0 for d in ds.dims if d != 'pressure'}\n",
    "                coord_level = ds[l][surface]\n",
    "                ds.coords[l] = ('pressure', coord_level)\n",
    "            else:\n",
    "                ds.coords[l] = ('pressure', ds[l])\n",
    "        \n",
    "    ds = ds.isel(pressure=[0, 23, -1])\n",
    "        \n",
    "    if 'igg' in ds.dims:\n",
    "        ds = ds.sel(igg=[1])\n",
    "        ds = ds.squeeze('igg').drop('igg')\n",
    "    \n",
    "    if 'g' in ds.dims:\n",
    "        ds = ds.sum('g')\n",
    "            \n",
    "    if 'band' in ds.dims:\n",
    "        try:\n",
    "            ds = ds.squeeze('band').drop('band')\n",
    "        except ValueError:\n",
    "            ds = ds.sum('band')\n",
    "                \n",
    "    df = ds.to_dataframe()\n",
    "    df = df.set_index('level', append=True)               \n",
    "    return df\n",
    "\n",
    "\n",
    "def tbdata_flux(ds_flux=None, ds_flux_crd=None, ds_flux_wgt=None):\n",
    "    ilevels = [0, 23, -1]\n",
    "            \n",
    "    benchmark = {'label': 'CRD',\n",
    "                 'df': fmt_flux(ds_flux_crd)}\n",
    "    \n",
    "    tbs = [{'label': 'WGT igg=10 wgt_flux=1',\n",
    "            'df': fmt_flux(ds_flux_wgt)},\n",
    "           {'label': 'CLIRAD',\n",
    "            'df': fmt_flux(ds_flux)}]\n",
    "    \n",
    "    data = {'benchmark': benchmark, 'others': tbs}\n",
    "    return data\n",
    "\n",
    "\n",
    "def tb_flux(tbdata=None):\n",
    "    benchmark = tbdata['benchmark']\n",
    "    others = tbdata['others']\n",
    "    \n",
    "    def show_tb(d=None):\n",
    "        display.display(d['df'])\n",
    "        print('Table.', 'Fluxes.', d['label'])\n",
    "        \n",
    "    def show_tbdiff(d0=None, d=None):\n",
    "        df = d['df']\n",
    "        df.index = d0['df'].index\n",
    "        display.display(df - d0['df'])\n",
    "        print('Table.', 'Fluxes.', \n",
    "              '({}) - ({})'.format(d['label'], d0['label']))\n",
    "        \n",
    "    show_tb(benchmark)\n",
    "    for d in others:\n",
    "        show_tb(d)\n",
    "        \n",
    "    for d in others:\n",
    "        show_tbdiff(d=d, d0=benchmark)\n",
    "        \n",
    "        \n",
    "def script_tb_flux():\n",
    "    data = tbdata_flux(ds_flux=DS_FLUX,\n",
    "                       ds_flux_crd=DS_FLUX_CRD,\n",
    "                       ds_flux_wgt=DS_FLUX_WGT)\n",
    "    tb_flux(tbdata=data)"
   ]
  },
  {
   "cell_type": "code",
   "execution_count": 10,
   "metadata": {
    "collapsed": true
   },
   "outputs": [],
   "source": [
    "def band_map():\n",
    "    '''\n",
    "    Maps spectral bands in lblnew to spectral bands in clirad.\n",
    "    '''\n",
    "    lblnew2clirad = {'1': '1',\n",
    "            '2': '2',\n",
    "            '3a': '3',\n",
    "            '3b': '4',\n",
    "            '3c': '5',\n",
    "            '4': '6', \n",
    "            '5': '7',\n",
    "            '6': '8',\n",
    "            '7': '9', \n",
    "            '8': '10',\n",
    "            '9': '11'}\n",
    "    \n",
    "    clirad2lblnew = {clirad: lblnew \n",
    "                     for lblnew, clirad in lblnew2clirad.items()}\n",
    "    return clirad2lblnew\n",
    "\n",
    "\n",
    "def gasbands():\n",
    "    bmap = band_map()\n",
    "    gases = list(PARAM['molecule'].keys())\n",
    "    \n",
    "    bands = [bmap[str(b)] for b in PARAM['band']]\n",
    "    return list(itertools.product(gases, bands))\n",
    "\n",
    "\n",
    "def print_bestfit_params():\n",
    "    print('Best-fit values for each (gas, band)')\n",
    "    print('------------------------------------')\n",
    "    for gas, band in gasbands():\n",
    "        print('o {} band{}'.format(gas, band))\n",
    "        param = bestfits.kdist_params(molecule=gas, band=band)\n",
    "        for name, value in sorted(param.items()):\n",
    "            print(2 * ' ' + '{} = {}'.format(name, value))\n",
    "\n",
    "        \n",
    "def print_input_param():        \n",
    "    for name, value in PARAM.items():\n",
    "        print('{} = {}'.format(name, value))\n",
    "        \n",
    "        \n",
    "def print_lblnew_param():\n",
    "    for name, value in sorted(PARAM_LBLNEW.items()):\n",
    "        print('{} = {}'.format(name, value))\n"
   ]
  },
  {
   "cell_type": "code",
   "execution_count": 11,
   "metadata": {
    "collapsed": true,
    "scrolled": false
   },
   "outputs": [],
   "source": [
    "def show_html(s):\n",
    "    display.display(display.HTML(s))\n",
    "\n",
    "    \n",
    "def show_markdown(s):\n",
    "    display.display(display.Markdown(s))\n",
    "\n",
    "    \n",
    "def script():\n",
    "    \n",
    "    title = '### CLIRAD-LW'\n",
    "    s_input = 'Input Parameters'\n",
    "    s_lblnew_param = 'LBLNEW case compaired against'\n",
    "    s_bestfits = 'Best-fit Parameters'\n",
    "    s_plt_cooling = 'Cooling Rate Profiles'\n",
    "    s_tb_flux = 'Flux Comparison'\n",
    "    \n",
    "    # title\n",
    "    show_markdown('### CLIRAD-LW')\n",
    "    \n",
    "    # TOC\n",
    "    show_markdown('### Table of Contents')\n",
    "    show_html(climahtml.getHTML_hrefanchor(s_input))\n",
    "    show_html(climahtml.getHTML_hrefanchor(s_lblnew_param))\n",
    "    show_html(climahtml.getHTML_hrefanchor(s_plt_cooling))\n",
    "    show_html(climahtml.getHTML_hrefanchor(s_tb_flux))\n",
    "    show_html(climahtml.getHTML_hrefanchor(s_bestfits))\n",
    "    \n",
    "    # Input parameters\n",
    "    show_html(climahtml.getHTML_idanchor(s_input))\n",
    "    show_markdown(climahtml.getMarkdown_sectitle(s_input))\n",
    "    print_input_param()\n",
    "    \n",
    "    # LBLNEW parameters \n",
    "    show_html(climahtml.getHTML_idanchor(s_lblnew_param))\n",
    "    show_markdown(climahtml.getMarkdown_sectitle(s_lblnew_param))\n",
    "    print_lblnew_param()\n",
    "    \n",
    "    # Cooling rate profiles\n",
    "    show_html(climahtml.getHTML_idanchor(s_plt_cooling))\n",
    "    show_markdown(climahtml.getMarkdown_sectitle(s_plt_cooling))\n",
    "    script_plt_cooling()\n",
    "    \n",
    "    # Flux comparison\n",
    "    show_html(climahtml.getHTML_idanchor(s_tb_flux))\n",
    "    show_markdown(climahtml.getMarkdown_sectitle(s_tb_flux))\n",
    "    script_tb_flux()\n",
    "    \n",
    "    # Best-fit values\n",
    "    show_html(climahtml.getHTML_idanchor(s_bestfits))\n",
    "    show_markdown(climahtml.getMarkdown_sectitle(s_bestfits))\n",
    "    print_bestfit_params()\n",
    "   \n",
    "    "
   ]
  },
  {
   "cell_type": "code",
   "execution_count": 12,
   "metadata": {
    "collapsed": true,
    "scrolled": false
   },
   "outputs": [
    {
     "data": {
      "text/markdown": [
       "### CLIRAD-LW"
      ],
      "text/plain": [
       "<IPython.core.display.Markdown object>"
      ]
     },
     "metadata": {},
     "output_type": "display_data"
    },
    {
     "data": {
      "text/markdown": [
       "### Table of Contents"
      ],
      "text/plain": [
       "<IPython.core.display.Markdown object>"
      ]
     },
     "metadata": {},
     "output_type": "display_data"
    },
    {
     "data": {
      "text/html": [
       "<a href=\"#Input_Parameters\">Input Parameters</a>"
      ],
      "text/plain": [
       "<IPython.core.display.HTML object>"
      ]
     },
     "metadata": {},
     "output_type": "display_data"
    },
    {
     "data": {
      "text/html": [
       "<a href=\"#LBLNEW_case_compaired_against\">LBLNEW case compaired against</a>"
      ],
      "text/plain": [
       "<IPython.core.display.HTML object>"
      ]
     },
     "metadata": {},
     "output_type": "display_data"
    },
    {
     "data": {
      "text/html": [
       "<a href=\"#Cooling_Rate_Profiles\">Cooling Rate Profiles</a>"
      ],
      "text/plain": [
       "<IPython.core.display.HTML object>"
      ]
     },
     "metadata": {},
     "output_type": "display_data"
    },
    {
     "data": {
      "text/html": [
       "<a href=\"#Flux_Comparison\">Flux Comparison</a>"
      ],
      "text/plain": [
       "<IPython.core.display.HTML object>"
      ]
     },
     "metadata": {},
     "output_type": "display_data"
    },
    {
     "data": {
      "text/html": [
       "<a href=\"#Best-fit_Parameters\">Best-fit Parameters</a>"
      ],
      "text/plain": [
       "<IPython.core.display.HTML object>"
      ]
     },
     "metadata": {},
     "output_type": "display_data"
    },
    {
     "data": {
      "text/html": [
       "<a id=\"Input_Parameters\"></a>"
      ],
      "text/plain": [
       "<IPython.core.display.HTML object>"
      ]
     },
     "metadata": {},
     "output_type": "display_data"
    },
    {
     "data": {
      "text/markdown": [
       "# Input Parameters"
      ],
      "text/plain": [
       "<IPython.core.display.Markdown object>"
      ]
     },
     "metadata": {},
     "output_type": "display_data"
    },
    {
     "name": "stdout",
     "output_type": "stream",
     "text": [
      "atmpro = trp\n",
      "band = [8]\n",
      "commitnumber = 9409510\n",
      "molecule = {'n2o': 3.2e-07}\n",
      "tsfc = 300\n"
     ]
    },
    {
     "data": {
      "text/html": [
       "<a id=\"LBLNEW_case_compaired_against\"></a>"
      ],
      "text/plain": [
       "<IPython.core.display.HTML object>"
      ]
     },
     "metadata": {},
     "output_type": "display_data"
    },
    {
     "data": {
      "text/markdown": [
       "# LBLNEW case compaired against"
      ],
      "text/plain": [
       "<IPython.core.display.Markdown object>"
      ]
     },
     "metadata": {},
     "output_type": "display_data"
    },
    {
     "name": "stdout",
     "output_type": "stream",
     "text": [
      "atmpro = trp\n",
      "band = 6\n",
      "commitnumber = bca49ce\n",
      "conc = 3.2e-07\n",
      "dv = 0.005\n",
      "klin = 0\n",
      "molecule = n2o\n",
      "ng_adju = [0]\n",
      "ng_refs = [1]\n",
      "nv = 200\n",
      "option_compute_btable = 0\n",
      "option_compute_ktable = 0\n",
      "option_wgt_flux = 1\n",
      "option_wgt_k = 1\n",
      "ref_pts = [(500, 250)]\n",
      "tsfc = 300\n",
      "vmax = 1215\n",
      "vmin = 1100\n",
      "w_diffuse = [(1.66,)]\n",
      "wgt = [(0.95,)]\n"
     ]
    },
    {
     "data": {
      "text/html": [
       "<a id=\"Cooling_Rate_Profiles\"></a>"
      ],
      "text/plain": [
       "<IPython.core.display.HTML object>"
      ]
     },
     "metadata": {},
     "output_type": "display_data"
    },
    {
     "data": {
      "text/markdown": [
       "# Cooling Rate Profiles"
      ],
      "text/plain": [
       "<IPython.core.display.Markdown object>"
      ]
     },
     "metadata": {},
     "output_type": "display_data"
    },
    {
     "data": {
      "text/html": [
       "\n",
       "<div class=\"bk-root\">\n",
       "    <div class=\"bk-plotdiv\" id=\"fd2ad1bd-7869-4c5d-bf3c-7af7e3a87adc\"></div>\n",
       "</div>"
      ]
     },
     "metadata": {},
     "output_type": "display_data"
    },
    {
     "data": {
      "application/javascript": [
       "(function(root) {\n",
       "  function embed_document(root) {\n",
       "    \n",
       "  var docs_json = {\"4673c052-ca0e-4f2c-b3b8-084adfed230d\":{\"roots\":{\"references\":[{\"attributes\":{\"active_drag\":\"auto\",\"active_inspect\":\"auto\",\"active_scroll\":\"auto\",\"active_tap\":\"auto\",\"tools\":[{\"id\":\"67ba4015-c256-4f63-a3b0-b48885139887\",\"type\":\"PanTool\"},{\"id\":\"f140a88a-1917-4704-80b1-709ec942753a\",\"type\":\"WheelZoomTool\"},{\"id\":\"baf031dc-b0ce-46f5-94d3-0f20d6fa21ef\",\"type\":\"BoxZoomTool\"},{\"id\":\"41c26263-3e25-4841-bf42-b25d1d839f00\",\"type\":\"SaveTool\"},{\"id\":\"7769d5c4-e4e3-45fe-9f7c-7dca5dda99d3\",\"type\":\"ResetTool\"},{\"id\":\"0ffd6bf4-a23a-49ca-9193-a9b71fc616ca\",\"type\":\"HelpTool\"}]},\"id\":\"6fc1da07-54a8-4c39-8913-7fd71012f603\",\"type\":\"Toolbar\"},{\"attributes\":{\"dimension\":1,\"plot\":{\"id\":\"35d66ff4-56ce-440c-9e7d-05efe2806935\",\"subtype\":\"Figure\",\"type\":\"Plot\"},\"ticker\":{\"id\":\"11f4681e-8713-49f0-ac39-ddd29f542720\",\"type\":\"BasicTicker\"}},\"id\":\"586e6740-be95-4bad-ade1-af899578edbf\",\"type\":\"Grid\"},{\"attributes\":{\"line_alpha\":0.1,\"line_color\":\"#1f77b4\",\"line_dash\":[6],\"line_width\":5,\"x\":{\"field\":\"x\"},\"y\":{\"field\":\"y\"}},\"id\":\"c51d9657-00d1-4b44-aaa4-2b32ae6d4f8e\",\"type\":\"Line\"},{\"attributes\":{\"axis_label\":\"pressure [mb]\",\"formatter\":{\"id\":\"8226d4c0-4572-4cee-9c3e-743fbcec963b\",\"type\":\"BasicTickFormatter\"},\"plot\":{\"id\":\"35d66ff4-56ce-440c-9e7d-05efe2806935\",\"subtype\":\"Figure\",\"type\":\"Plot\"},\"ticker\":{\"id\":\"11f4681e-8713-49f0-ac39-ddd29f542720\",\"type\":\"BasicTicker\"}},\"id\":\"ca588264-b1e6-4c85-86d0-17cfd23a6a64\",\"type\":\"LinearAxis\"},{\"attributes\":{},\"id\":\"11f4681e-8713-49f0-ac39-ddd29f542720\",\"type\":\"BasicTicker\"},{\"attributes\":{\"callback\":null,\"end\":0.01,\"start\":1020},\"id\":\"87979010-54ee-4a27-8338-6ea403ee6866\",\"type\":\"Range1d\"},{\"attributes\":{\"plot\":null,\"text\":\"Linear pressure scale\"},\"id\":\"f75119af-4be3-4850-9a20-420cfcec6466\",\"type\":\"Title\"},{\"attributes\":{\"axis_label\":\"cooling rate [K/day]\",\"formatter\":{\"id\":\"699c2556-e54b-4042-a7ae-cf2dfc8bac66\",\"type\":\"BasicTickFormatter\"},\"plot\":{\"id\":\"35d66ff4-56ce-440c-9e7d-05efe2806935\",\"subtype\":\"Figure\",\"type\":\"Plot\"},\"ticker\":{\"id\":\"96639b64-76b5-4e26-a040-44436594d7b9\",\"type\":\"BasicTicker\"}},\"id\":\"34c162dd-cc64-4799-9295-d813b1bc2b91\",\"type\":\"LinearAxis\"},{\"attributes\":{\"bottom_units\":\"screen\",\"fill_alpha\":{\"value\":0.5},\"fill_color\":{\"value\":\"lightgrey\"},\"left_units\":\"screen\",\"level\":\"overlay\",\"line_alpha\":{\"value\":1.0},\"line_color\":{\"value\":\"black\"},\"line_dash\":[4,4],\"line_width\":{\"value\":2},\"plot\":null,\"render_mode\":\"css\",\"right_units\":\"screen\",\"top_units\":\"screen\"},\"id\":\"1b96f6f8-29b7-48cb-b9cd-88f762c176df\",\"type\":\"BoxAnnotation\"},{\"attributes\":{\"callback\":null,\"data\":{\"x\":{\"__ndarray__\":\"V43MPGXwdb/LJ77pfMl1v38ekn5c0nW/Ml2il+W0db80Eg6umpZ1vw8D/GOxd3W/hNytMvhXdb9IqgUr1Dd1vzqppqL8FnW/1S2ILov1dL/O3i6/gNN0v59ICaDlsHS/ekTW6MaMdL8WMMcL3ll0vwb1mzQOr3O/ZP3BZEw4cr+4QoVXzDBwv8eD0nNphWu/xw+YtTvFZb+Sz1vXkAFev1WXy2i7Xky/UXE/5nVtIj+Uu+RD/aNAP1WoYMlJESQ/Xsu/M7i5Pb826u0DE+5Tv4pjpGiz21+/9iWMP3kzZb8+3dRSjdZpv0Zlp0Wb6G2/DAwLvDu8cL/S6gE++klyv6sT2UgHpHO/dTV6OK/YdL/kjavMdjd2v8y8P2BRkXe//uMf3rw2eL8xWk18Ect3v+/xp2Uip3a/41fnsdFtdb9cCBdOMCV0vy0jO08x0HK/llHbuNRwcb8IIKeDiwlwv9IHFK+HNm2/6oxUAFFOar8N21KjKV1nvzF+lZkdZGS/iOZzyvlkYb8J1EW/+8Bcv3DGtqlWr1a/lvBTtySXUL8SoktYCfVEvyjgO0/TXjG/0NwcGNfDHD8UnqbSv84/P2fG5f7JN0w/qWfsTFtDVD8Snw73V2daP2e7IRFDQGA/EUanP988Yz9UGytYuxJmP8yjINHro2g/rBZbd6Hoaj8pDVf0N/tsP7gOYmN2CG8/u0rRayeacD/xsEdna8RxPyn7rAfT/XI/o/nV+KI/dD+jpAFoBoR1P+Yx7K9cyHY/1j+bI4oMeD+tblVYQE95P10CJB1UkHo/\",\"dtype\":\"float64\",\"shape\":[75]},\"y\":{\"__ndarray__\":\"S/O/Q+51ND/Sv8nbtpRIP2vylNV0PVE/aTum7souWD/At0SJ8fVgPw3Iuahxymc/MSNhhJWvcD/bTfBN02d3P2zb5nxnaoA/CD5h5MAGhz8NmeH1TyaQP+zrCsc9p5Y/LbKd76fGnz/bLW5ISEmmPww9YvTcQq8/JV2OstnstT8Er5Y7M8G+P0c+r3jqkcU/5h99k6ZBzj88bCIzFzjVP4enV8oyxN0//yH99nXg5D8qOpLLf0jtP5kqGJXUifQ/c9cS8kHP/D+/DpwzojQEQIEmwoanVwxA4lgXt9HgE0BSSZ2AJuIbQAMJih9jjiNA5q4l5INuK0AwTKYKRj0zQNv5fmq8/DpAaCJseHrtQkB/+zpwzoxKQM3MzMzMeFJAZmZmZmZqWEAAAAAAAFxeQM3MzMzMJmJAmpmZmZkfZUBmZmZmZhhoQDMzMzMzEWtAAAAAAAAKbkBmZmZmZoFwQM3MzMzM/XFAMzMzMzN6c0CamZmZmfZ0QAAAAAAAc3ZAZmZmZmbvd0DNzMzMzGt5QDMzMzMz6HpAmpmZmZlkfEAAAAAAAOF9QGZmZmZmXX9AZmZmZuZsgECamZmZGSuBQM3MzMxM6YFAAAAAAICngkAzMzMzs2WDQGZmZmbmI4RAmpmZmRnihEDNzMzMTKCFQAAAAACAXoZAMzMzM7Mch0BmZmZm5tqHQJqZmZkZmYhAzczMzExXiUAAAAAAgBWKQDMzMzOz04pAZmZmZuaRi0CamZmZGVCMQM3MzMxMDo1AAAAAAIDMjUAzMzMzs4qOQGZmZmbmSI9A\",\"dtype\":\"float64\",\"shape\":[75]}},\"selected\":{\"id\":\"27eea3de-9d32-4d4d-b145-400e19e9a3ce\",\"type\":\"Selection\"},\"selection_policy\":{\"id\":\"2f17821f-fd2a-4fbc-bcc5-5a02bf1d4e9a\",\"type\":\"UnionRenderers\"}},\"id\":\"1b563f9a-f180-4fe6-b054-6f2c67544ba1\",\"type\":\"ColumnDataSource\"},{\"attributes\":{},\"id\":\"67ba4015-c256-4f63-a3b0-b48885139887\",\"type\":\"PanTool\"},{\"attributes\":{},\"id\":\"0ffd6bf4-a23a-49ca-9193-a9b71fc616ca\",\"type\":\"HelpTool\"},{\"attributes\":{\"source\":{\"id\":\"1b563f9a-f180-4fe6-b054-6f2c67544ba1\",\"type\":\"ColumnDataSource\"}},\"id\":\"02c3d80d-ede2-4c10-93b5-dfa6e6c2f3c2\",\"type\":\"CDSView\"},{\"attributes\":{},\"id\":\"f140a88a-1917-4704-80b1-709ec942753a\",\"type\":\"WheelZoomTool\"},{\"attributes\":{\"overlay\":{\"id\":\"1b96f6f8-29b7-48cb-b9cd-88f762c176df\",\"type\":\"BoxAnnotation\"}},\"id\":\"baf031dc-b0ce-46f5-94d3-0f20d6fa21ef\",\"type\":\"BoxZoomTool\"},{\"attributes\":{},\"id\":\"7769d5c4-e4e3-45fe-9f7c-7dca5dda99d3\",\"type\":\"ResetTool\"},{\"attributes\":{},\"id\":\"41c26263-3e25-4841-bf42-b25d1d839f00\",\"type\":\"SaveTool\"},{\"attributes\":{},\"id\":\"1d796120-025b-488d-bec1-a8e3a6db393a\",\"type\":\"LinearScale\"},{\"attributes\":{\"plot\":{\"id\":\"35d66ff4-56ce-440c-9e7d-05efe2806935\",\"subtype\":\"Figure\",\"type\":\"Plot\"},\"ticker\":{\"id\":\"96639b64-76b5-4e26-a040-44436594d7b9\",\"type\":\"BasicTicker\"}},\"id\":\"c2bc2b28-4fa1-4ffb-a8aa-ccbf0f621c41\",\"type\":\"Grid\"},{\"attributes\":{},\"id\":\"a078ff22-1d90-4771-8712-c5f69443560c\",\"type\":\"LinearScale\"},{\"attributes\":{\"callback\":null,\"end\":0.008062708771999999,\"start\":-0.006703114372},\"id\":\"ed5708c7-e993-4d80-944e-25d3c8318c04\",\"type\":\"Range1d\"},{\"attributes\":{\"data_source\":{\"id\":\"1b563f9a-f180-4fe6-b054-6f2c67544ba1\",\"type\":\"ColumnDataSource\"},\"glyph\":{\"id\":\"699e982e-2347-4147-ad1a-6b33fe68c0bc\",\"type\":\"Line\"},\"hover_glyph\":null,\"muted_glyph\":null,\"nonselection_glyph\":{\"id\":\"c51d9657-00d1-4b44-aaa4-2b32ae6d4f8e\",\"type\":\"Line\"},\"selection_glyph\":null,\"view\":{\"id\":\"02c3d80d-ede2-4c10-93b5-dfa6e6c2f3c2\",\"type\":\"CDSView\"}},\"id\":\"d3b85ec2-9a39-48b4-86c9-28746e21464d\",\"type\":\"GlyphRenderer\"},{\"attributes\":{\"fill_alpha\":{\"value\":0.1},\"fill_color\":{\"value\":\"#1f77b4\"},\"line_alpha\":{\"value\":0.1},\"line_color\":{\"value\":\"#1f77b4\"},\"x\":{\"field\":\"x\"},\"y\":{\"field\":\"y\"}},\"id\":\"71a0e3bb-23d8-4d5a-add8-4e05f9841959\",\"type\":\"Square\"},{\"attributes\":{\"below\":[{\"id\":\"34c162dd-cc64-4799-9295-d813b1bc2b91\",\"type\":\"LinearAxis\"}],\"left\":[{\"id\":\"ca588264-b1e6-4c85-86d0-17cfd23a6a64\",\"type\":\"LinearAxis\"}],\"plot_height\":500,\"plot_width\":400,\"renderers\":[{\"id\":\"34c162dd-cc64-4799-9295-d813b1bc2b91\",\"type\":\"LinearAxis\"},{\"id\":\"c2bc2b28-4fa1-4ffb-a8aa-ccbf0f621c41\",\"type\":\"Grid\"},{\"id\":\"ca588264-b1e6-4c85-86d0-17cfd23a6a64\",\"type\":\"LinearAxis\"},{\"id\":\"586e6740-be95-4bad-ade1-af899578edbf\",\"type\":\"Grid\"},{\"id\":\"1b96f6f8-29b7-48cb-b9cd-88f762c176df\",\"type\":\"BoxAnnotation\"},{\"id\":\"d3b85ec2-9a39-48b4-86c9-28746e21464d\",\"type\":\"GlyphRenderer\"},{\"id\":\"c34300b6-9414-4711-a63f-9e1e98b2efc6\",\"type\":\"GlyphRenderer\"},{\"id\":\"0c077e5f-283e-4324-921a-4c0d297e1510\",\"type\":\"GlyphRenderer\"},{\"id\":\"bb01a8d4-f01e-4d69-80d9-0d1614e37f79\",\"type\":\"GlyphRenderer\"},{\"id\":\"54e9e4fa-7254-4210-acce-9ea017331d6f\",\"type\":\"GlyphRenderer\"}],\"title\":{\"id\":\"f75119af-4be3-4850-9a20-420cfcec6466\",\"type\":\"Title\"},\"toolbar\":{\"id\":\"6fc1da07-54a8-4c39-8913-7fd71012f603\",\"type\":\"Toolbar\"},\"toolbar_location\":null,\"x_range\":{\"id\":\"ed5708c7-e993-4d80-944e-25d3c8318c04\",\"type\":\"Range1d\"},\"x_scale\":{\"id\":\"1d796120-025b-488d-bec1-a8e3a6db393a\",\"type\":\"LinearScale\"},\"y_range\":{\"id\":\"87979010-54ee-4a27-8338-6ea403ee6866\",\"type\":\"Range1d\"},\"y_scale\":{\"id\":\"a078ff22-1d90-4771-8712-c5f69443560c\",\"type\":\"LinearScale\"}},\"id\":\"35d66ff4-56ce-440c-9e7d-05efe2806935\",\"subtype\":\"Figure\",\"type\":\"Plot\"},{\"attributes\":{\"below\":[{\"id\":\"b3770b3a-75c2-4c86-bdb1-50e97df6fd69\",\"type\":\"LinearAxis\"}],\"left\":[{\"id\":\"d91f01e7-f8c5-449f-9e4a-07f4389e9779\",\"type\":\"LogAxis\"}],\"plot_height\":500,\"plot_width\":560,\"renderers\":[{\"id\":\"b3770b3a-75c2-4c86-bdb1-50e97df6fd69\",\"type\":\"LinearAxis\"},{\"id\":\"84c84fff-8c8c-4e12-9d3f-c752bb25ad3c\",\"type\":\"Grid\"},{\"id\":\"d91f01e7-f8c5-449f-9e4a-07f4389e9779\",\"type\":\"LogAxis\"},{\"id\":\"70a46e11-b9de-44b7-8953-ad66e849ca21\",\"type\":\"Grid\"},{\"id\":\"4cfa8cb3-222c-4b15-afa1-1534c13b0838\",\"type\":\"BoxAnnotation\"},{\"id\":\"2a07f501-e2da-4a3a-a6c5-8d02247e2ec4\",\"type\":\"GlyphRenderer\"},{\"id\":\"19e7be32-f46c-4f2c-9024-e4f1028e4667\",\"type\":\"GlyphRenderer\"},{\"id\":\"6d6a3cfd-554c-4ed6-82b9-d190f3ae4fa5\",\"type\":\"GlyphRenderer\"},{\"id\":\"cd594b1b-a314-4356-88ab-4a742dd016d3\",\"type\":\"GlyphRenderer\"},{\"id\":\"cf63b854-1fbb-488d-92b9-e9e139129181\",\"type\":\"GlyphRenderer\"},{\"id\":\"5eedade8-1cdf-4eb4-95db-0e5ba98735a9\",\"type\":\"Legend\"}],\"right\":[{\"id\":\"5eedade8-1cdf-4eb4-95db-0e5ba98735a9\",\"type\":\"Legend\"}],\"title\":{\"id\":\"10e5a19f-24a9-4cf2-85be-73829b40c728\",\"type\":\"Title\"},\"toolbar\":{\"id\":\"d8fffb7d-640a-4323-82ec-bce5a7b3bf9f\",\"type\":\"Toolbar\"},\"toolbar_location\":null,\"x_range\":{\"id\":\"61e4ac8a-58da-42b5-8278-36176a514a8c\",\"type\":\"Range1d\"},\"x_scale\":{\"id\":\"d9f160b5-c47a-42ea-8c9a-1180ab29e20b\",\"type\":\"LinearScale\"},\"y_range\":{\"id\":\"61fbd40a-7b8b-4b1e-904e-7dc5a6419a20\",\"type\":\"Range1d\"},\"y_scale\":{\"id\":\"41bdc028-6a7d-49cb-b80d-cfa9f485216d\",\"type\":\"LogScale\"}},\"id\":\"b18a8b71-4d1c-4403-914b-156b7bf9551e\",\"subtype\":\"Figure\",\"type\":\"Plot\"},{\"attributes\":{\"children\":[{\"id\":\"5c487c3e-3308-4b83-8fa7-dd79fa7bb5c9\",\"type\":\"Row\"}]},\"id\":\"e05acf18-f998-4855-b943-7ee000c9a2bc\",\"type\":\"Column\"},{\"attributes\":{\"line_alpha\":0.1,\"line_color\":\"#1f77b4\",\"line_width\":3,\"x\":{\"field\":\"x\"},\"y\":{\"field\":\"y\"}},\"id\":\"87ea95f3-31a4-42cd-808a-83ad84b958bc\",\"type\":\"Line\"},{\"attributes\":{\"axis_label\":\"pressure [mb]\",\"formatter\":{\"id\":\"4c1b151e-0771-4ee4-a930-2135fc35589e\",\"type\":\"LogTickFormatter\"},\"plot\":{\"id\":\"b18a8b71-4d1c-4403-914b-156b7bf9551e\",\"subtype\":\"Figure\",\"type\":\"Plot\"},\"ticker\":{\"id\":\"f5494aaf-c760-4204-b13a-57bf786f9ca8\",\"type\":\"LogTicker\"}},\"id\":\"d91f01e7-f8c5-449f-9e4a-07f4389e9779\",\"type\":\"LogAxis\"},{\"attributes\":{\"fill_alpha\":{\"value\":0.7},\"fill_color\":{\"value\":\"#4daf4a\"},\"line_alpha\":{\"value\":0.7},\"line_color\":{\"value\":\"#4daf4a\"},\"x\":{\"field\":\"x\"},\"y\":{\"field\":\"y\"}},\"id\":\"0e18fd3d-3dcc-4c2f-a846-4b7bcd9612d0\",\"type\":\"Circle\"},{\"attributes\":{\"active_drag\":\"auto\",\"active_inspect\":\"auto\",\"active_scroll\":\"auto\",\"active_tap\":\"auto\",\"tools\":[{\"id\":\"405d1894-67eb-4f2f-99ee-c9a9873b940f\",\"type\":\"PanTool\"},{\"id\":\"88b957a3-8ecf-4f5a-b15c-ee85fddb44e7\",\"type\":\"WheelZoomTool\"},{\"id\":\"56f74813-273b-4428-aaa4-d49f550a27bb\",\"type\":\"BoxZoomTool\"},{\"id\":\"be2c8716-082f-48a3-a712-630bebe1b953\",\"type\":\"SaveTool\"},{\"id\":\"2dc2da2a-67ba-4a3b-a341-357efd216d37\",\"type\":\"ResetTool\"},{\"id\":\"ccb3c72e-31dc-4e51-a922-6624ec4b25de\",\"type\":\"HelpTool\"}]},\"id\":\"d8fffb7d-640a-4323-82ec-bce5a7b3bf9f\",\"type\":\"Toolbar\"},{\"attributes\":{},\"id\":\"ccb3c72e-31dc-4e51-a922-6624ec4b25de\",\"type\":\"HelpTool\"},{\"attributes\":{\"source\":{\"id\":\"6733a8de-52af-4aac-81c4-e3cab189292c\",\"type\":\"ColumnDataSource\"}},\"id\":\"e4b776ee-ee17-4883-a867-ce44192a6237\",\"type\":\"CDSView\"},{\"attributes\":{\"source\":{\"id\":\"b1628539-e13a-4acd-869a-6c6703180804\",\"type\":\"ColumnDataSource\"}},\"id\":\"462dc500-4157-44a1-a465-8cf6acb36d81\",\"type\":\"CDSView\"},{\"attributes\":{\"source\":{\"id\":\"efcec611-c5b1-494c-922f-1e87c917f70b\",\"type\":\"ColumnDataSource\"}},\"id\":\"dc66c18a-783d-44f0-ad73-15fb6e5c5159\",\"type\":\"CDSView\"},{\"attributes\":{\"bottom_units\":\"screen\",\"fill_alpha\":{\"value\":0.5},\"fill_color\":{\"value\":\"lightgrey\"},\"left_units\":\"screen\",\"level\":\"overlay\",\"line_alpha\":{\"value\":1.0},\"line_color\":{\"value\":\"black\"},\"line_dash\":[4,4],\"line_width\":{\"value\":2},\"plot\":null,\"render_mode\":\"css\",\"right_units\":\"screen\",\"top_units\":\"screen\"},\"id\":\"4cfa8cb3-222c-4b15-afa1-1534c13b0838\",\"type\":\"BoxAnnotation\"},{\"attributes\":{\"callback\":null,\"data\":{\"x\":{\"__ndarray__\":\"xUlzCr8LZL/geDhuKvNjv5KPHdjRv2O/mz7a/0mKY7+t15sxeFNjvzqXXU3pG2O/D3tts0LjYr8KPA8p6Khiv0QRSo+KbmK/Jtsa+xQzYr/90mGQO/Zhv/Cjr6OXuGG/jWdxOhl5Yb+pXOyrpyVhv6zfqHPO0V+/cru4Uu0hWr+MUFVp1/lRvw+Uj36FsD+/J7MYrl88MT85DwvbbRxTP8mIziWqbWI/LZ7S7sTmaz9RwL0F7k1vP0hr10dRrms/S6RWF/WiZT/qFZCiQDJcP9nGzNG/kEs/H/huR6MwCz/JjcvmgsBFv+AYxPclqlW/508o/+vAX78dFCmZ0KdkvzTuFbNoNWm/zBht9Z+sbb+VwILNW2Jxv2f69oSdCHS/ldQHHtjbdb+Pf4mxcWF2vxvDWjtc8nW/rutUT59Kdb8dPhc0TnZ0v6qkum79fHO/V5OB5QNgcr8b/h0J8Chxv3SSjGndt2+/qj+4vuz3bL+CtyBQ/xZqvy52MJ8CGWe/jEmGMokAZL9slT9jT9Bgvx8fhxlHGVu/M66q6QJvVL9SPblSK0tLvztp5++V/zq/EqEZQvOj7z6NgCW5QVU9P7WgVTgSAE0/ySSmMcG8VT/7ZOUQGgVdP6UbVCcPJ2I/hnBWyaq9ZT+jHRg40CdpP3Haag7EPWw/Vt7vB6zybj/4T+FPJ7VwP3OMgwrQ73E/Mfm/nIJAcz+MVTvt5q50P1/mrHFsNHY/vKmuHtzGdz+KjH13Wl95Pw1iomyK+no/+xTyStOVfD+P5KkA/DB+P1oTOpA2zH8/\",\"dtype\":\"float64\",\"shape\":[75]},\"y\":{\"__ndarray__\":\"GhExyth1ND/Sv8nbtpRIP2vylNV0PVE/aTum7souWD/At0SJ8fVgPw3Iuahxymc/MSNhhJWvcD/bTfBN02d3P2zb5nxnaoA/CD5h5MAGhz8NmeH1TyaQP+zrCsc9p5Y/LbKd76fGnz/bLW5ISEmmPww9YvTcQq8/JV2OstnstT8Er5Y7M8G+P0c+r3jqkcU/5h99k6ZBzj88bCIzFzjVP4enV8oyxN0//yH99nXg5D8qOpLLf0jtP5kqGJXUifQ/c9cS8kHP/D+/DpwzojQEQIEmwoanVwxA4lgXt9HgE0BSSZ2AJuIbQAMJih9jjiNA5q4l5INuK0AwTKYKRj0zQNv5fmq8/DpAaCJseHrtQkB/+zpwzoxKQM3MzMzMeFJAZmZmZmZqWEAAAAAAAFxeQM3MzMzMJmJAmpmZmZkfZUBmZmZmZhhoQDMzMzMzEWtAAAAAAAAKbkBmZmZmZoFwQM3MzMzM/XFAMzMzMzN6c0CamZmZmfZ0QAAAAAAAc3ZAZmZmZmbvd0DNzMzMzGt5QDMzMzMz6HpAmpmZmZlkfEAAAAAAAOF9QGZmZmZmXX9AZmZmZuZsgECamZmZGSuBQM3MzMxM6YFAAAAAAICngkAzMzMzs2WDQGZmZmbmI4RAmpmZmRnihEDNzMzMTKCFQAAAAACAXoZAMzMzM7Mch0BmZmZm5tqHQJqZmZkZmYhAzczMzExXiUAAAAAAgBWKQDMzMzOz04pAZmZmZuaRi0CamZmZGVCMQM3MzMxMDo1AAAAAAIDMjUAzMzMzs4qOQGZmZmbmSI9A\",\"dtype\":\"float64\",\"shape\":[75]}},\"selected\":{\"id\":\"1c6c6e41-e9fa-4fbd-bb71-e29cba5b6701\",\"type\":\"Selection\"},\"selection_policy\":{\"id\":\"dd1d6807-fd8a-44b8-b9b3-d8087f0ede58\",\"type\":\"UnionRenderers\"}},\"id\":\"60cfc32a-58e2-4672-816b-d8c256043362\",\"type\":\"ColumnDataSource\"},{\"attributes\":{},\"id\":\"2dc2da2a-67ba-4a3b-a341-357efd216d37\",\"type\":\"ResetTool\"},{\"attributes\":{\"data_source\":{\"id\":\"4e8f8535-cae8-4b42-8f70-8c8b676a41b3\",\"type\":\"ColumnDataSource\"},\"glyph\":{\"id\":\"1a1065c1-accb-4709-8c5e-1fda4b2a42e9\",\"type\":\"Line\"},\"hover_glyph\":null,\"muted_glyph\":null,\"nonselection_glyph\":{\"id\":\"9649996a-e1be-4864-a159-c414eb95193d\",\"type\":\"Line\"},\"selection_glyph\":null,\"view\":{\"id\":\"05c8a54d-ffd9-441c-8c13-82e7d8b7f95c\",\"type\":\"CDSView\"}},\"id\":\"0c077e5f-283e-4324-921a-4c0d297e1510\",\"type\":\"GlyphRenderer\"},{\"attributes\":{\"callback\":null,\"data\":{\"x\":{\"__ndarray__\":\"xUlzCr8LZL/geDhuKvNjv5KPHdjRv2O/mz7a/0mKY7+t15sxeFNjvzqXXU3pG2O/D3tts0LjYr8KPA8p6Khiv0QRSo+KbmK/Jtsa+xQzYr/90mGQO/Zhv/Cjr6OXuGG/jWdxOhl5Yb+pXOyrpyVhv6zfqHPO0V+/cru4Uu0hWr+MUFVp1/lRvw+Uj36FsD+/J7MYrl88MT85DwvbbRxTP8mIziWqbWI/LZ7S7sTmaz9RwL0F7k1vP0hr10dRrms/S6RWF/WiZT/qFZCiQDJcP9nGzNG/kEs/H/huR6MwCz/JjcvmgsBFv+AYxPclqlW/508o/+vAX78dFCmZ0KdkvzTuFbNoNWm/zBht9Z+sbb+VwILNW2Jxv2f69oSdCHS/ldQHHtjbdb+Pf4mxcWF2vxvDWjtc8nW/rutUT59Kdb8dPhc0TnZ0v6qkum79fHO/V5OB5QNgcr8b/h0J8Chxv3SSjGndt2+/qj+4vuz3bL+CtyBQ/xZqvy52MJ8CGWe/jEmGMokAZL9slT9jT9Bgvx8fhxlHGVu/M66q6QJvVL9SPblSK0tLvztp5++V/zq/EqEZQvOj7z6NgCW5QVU9P7WgVTgSAE0/ySSmMcG8VT/7ZOUQGgVdP6UbVCcPJ2I/hnBWyaq9ZT+jHRg40CdpP3Haag7EPWw/Vt7vB6zybj/4T+FPJ7VwP3OMgwrQ73E/Mfm/nIJAcz+MVTvt5q50P1/mrHFsNHY/vKmuHtzGdz+KjH13Wl95Pw1iomyK+no/+xTyStOVfD+P5KkA/DB+P1oTOpA2zH8/\",\"dtype\":\"float64\",\"shape\":[75]},\"y\":{\"__ndarray__\":\"GhExyth1ND/Sv8nbtpRIP2vylNV0PVE/aTum7souWD/At0SJ8fVgPw3Iuahxymc/MSNhhJWvcD/bTfBN02d3P2zb5nxnaoA/CD5h5MAGhz8NmeH1TyaQP+zrCsc9p5Y/LbKd76fGnz/bLW5ISEmmPww9YvTcQq8/JV2OstnstT8Er5Y7M8G+P0c+r3jqkcU/5h99k6ZBzj88bCIzFzjVP4enV8oyxN0//yH99nXg5D8qOpLLf0jtP5kqGJXUifQ/c9cS8kHP/D+/DpwzojQEQIEmwoanVwxA4lgXt9HgE0BSSZ2AJuIbQAMJih9jjiNA5q4l5INuK0AwTKYKRj0zQNv5fmq8/DpAaCJseHrtQkB/+zpwzoxKQM3MzMzMeFJAZmZmZmZqWEAAAAAAAFxeQM3MzMzMJmJAmpmZmZkfZUBmZmZmZhhoQDMzMzMzEWtAAAAAAAAKbkBmZmZmZoFwQM3MzMzM/XFAMzMzMzN6c0CamZmZmfZ0QAAAAAAAc3ZAZmZmZmbvd0DNzMzMzGt5QDMzMzMz6HpAmpmZmZlkfEAAAAAAAOF9QGZmZmZmXX9AZmZmZuZsgECamZmZGSuBQM3MzMxM6YFAAAAAAICngkAzMzMzs2WDQGZmZmbmI4RAmpmZmRnihEDNzMzMTKCFQAAAAACAXoZAMzMzM7Mch0BmZmZm5tqHQJqZmZkZmYhAzczMzExXiUAAAAAAgBWKQDMzMzOz04pAZmZmZuaRi0CamZmZGVCMQM3MzMxMDo1AAAAAAIDMjUAzMzMzs4qOQGZmZmbmSI9A\",\"dtype\":\"float64\",\"shape\":[75]}},\"selected\":{\"id\":\"d5fee975-25a1-4dff-ae90-8870e4e66691\",\"type\":\"Selection\"},\"selection_policy\":{\"id\":\"e3fb0df4-80ec-4539-8c5f-fea65f59924b\",\"type\":\"UnionRenderers\"}},\"id\":\"a0707e28-139c-474c-80b7-a2f5a5d49c33\",\"type\":\"ColumnDataSource\"},{\"attributes\":{\"num_minor_ticks\":10},\"id\":\"f5494aaf-c760-4204-b13a-57bf786f9ca8\",\"type\":\"LogTicker\"},{\"attributes\":{},\"id\":\"be2c8716-082f-48a3-a712-630bebe1b953\",\"type\":\"SaveTool\"},{\"attributes\":{\"dimension\":1,\"plot\":{\"id\":\"b18a8b71-4d1c-4403-914b-156b7bf9551e\",\"subtype\":\"Figure\",\"type\":\"Plot\"},\"ticker\":{\"id\":\"f5494aaf-c760-4204-b13a-57bf786f9ca8\",\"type\":\"LogTicker\"}},\"id\":\"70a46e11-b9de-44b7-8953-ad66e849ca21\",\"type\":\"Grid\"},{\"attributes\":{\"callback\":null,\"data\":{\"x\":{\"__ndarray__\":\"xUlzCr8LZL/geDhuKvNjv5KPHdjRv2O/mz7a/0mKY7+t15sxeFNjvzqXXU3pG2O/D3tts0LjYr8KPA8p6Khiv0QRSo+KbmK/Jtsa+xQzYr/90mGQO/Zhv/Cjr6OXuGG/jWdxOhl5Yb+pXOyrpyVhv6zfqHPO0V+/cru4Uu0hWr+MUFVp1/lRvw+Uj36FsD+/J7MYrl88MT85DwvbbRxTP8mIziWqbWI/LZ7S7sTmaz9RwL0F7k1vP0hr10dRrms/S6RWF/WiZT/qFZCiQDJcP9nGzNG/kEs/H/huR6MwCz/JjcvmgsBFv+AYxPclqlW/508o/+vAX78dFCmZ0KdkvzTuFbNoNWm/zBht9Z+sbb+VwILNW2Jxv2f69oSdCHS/ldQHHtjbdb+Pf4mxcWF2vxvDWjtc8nW/rutUT59Kdb8dPhc0TnZ0v6qkum79fHO/V5OB5QNgcr8b/h0J8Chxv3SSjGndt2+/qj+4vuz3bL+CtyBQ/xZqvy52MJ8CGWe/jEmGMokAZL9slT9jT9Bgvx8fhxlHGVu/M66q6QJvVL9SPblSK0tLvztp5++V/zq/EqEZQvOj7z6NgCW5QVU9P7WgVTgSAE0/ySSmMcG8VT/7ZOUQGgVdP6UbVCcPJ2I/hnBWyaq9ZT+jHRg40CdpP3Haag7EPWw/Vt7vB6zybj/4T+FPJ7VwP3OMgwrQ73E/Mfm/nIJAcz+MVTvt5q50P1/mrHFsNHY/vKmuHtzGdz+KjH13Wl95Pw1iomyK+no/+xTyStOVfD+P5KkA/DB+P1oTOpA2zH8/\",\"dtype\":\"float64\",\"shape\":[75]},\"y\":{\"__ndarray__\":\"GhExyth1ND/Sv8nbtpRIP2vylNV0PVE/aTum7souWD/At0SJ8fVgPw3Iuahxymc/MSNhhJWvcD/bTfBN02d3P2zb5nxnaoA/CD5h5MAGhz8NmeH1TyaQP+zrCsc9p5Y/LbKd76fGnz/bLW5ISEmmPww9YvTcQq8/JV2OstnstT8Er5Y7M8G+P0c+r3jqkcU/5h99k6ZBzj88bCIzFzjVP4enV8oyxN0//yH99nXg5D8qOpLLf0jtP5kqGJXUifQ/c9cS8kHP/D+/DpwzojQEQIEmwoanVwxA4lgXt9HgE0BSSZ2AJuIbQAMJih9jjiNA5q4l5INuK0AwTKYKRj0zQNv5fmq8/DpAaCJseHrtQkB/+zpwzoxKQM3MzMzMeFJAZmZmZmZqWEAAAAAAAFxeQM3MzMzMJmJAmpmZmZkfZUBmZmZmZhhoQDMzMzMzEWtAAAAAAAAKbkBmZmZmZoFwQM3MzMzM/XFAMzMzMzN6c0CamZmZmfZ0QAAAAAAAc3ZAZmZmZmbvd0DNzMzMzGt5QDMzMzMz6HpAmpmZmZlkfEAAAAAAAOF9QGZmZmZmXX9AZmZmZuZsgECamZmZGSuBQM3MzMxM6YFAAAAAAICngkAzMzMzs2WDQGZmZmbmI4RAmpmZmRnihEDNzMzMTKCFQAAAAACAXoZAMzMzM7Mch0BmZmZm5tqHQJqZmZkZmYhAzczMzExXiUAAAAAAgBWKQDMzMzOz04pAZmZmZuaRi0CamZmZGVCMQM3MzMxMDo1AAAAAAIDMjUAzMzMzs4qOQGZmZmbmSI9A\",\"dtype\":\"float64\",\"shape\":[75]}},\"selected\":{\"id\":\"1704d3da-b6ba-4cfd-bdb6-f2d1ebc75faf\",\"type\":\"Selection\"},\"selection_policy\":{\"id\":\"ad4cb9f3-ae8b-47a1-a345-16cc1390161c\",\"type\":\"UnionRenderers\"}},\"id\":\"4e8f8535-cae8-4b42-8f70-8c8b676a41b3\",\"type\":\"ColumnDataSource\"},{\"attributes\":{\"fill_alpha\":{\"value\":0.1},\"fill_color\":{\"value\":\"#1f77b4\"},\"line_alpha\":{\"value\":0.1},\"line_color\":{\"value\":\"#1f77b4\"},\"x\":{\"field\":\"x\"},\"y\":{\"field\":\"y\"}},\"id\":\"9b66313d-22b2-4b68-ba11-bdedbb6325ad\",\"type\":\"Circle\"},{\"attributes\":{},\"id\":\"41bdc028-6a7d-49cb-b80d-cfa9f485216d\",\"type\":\"LogScale\"},{\"attributes\":{\"fill_alpha\":{\"value\":0.7},\"fill_color\":{\"value\":\"#4daf4a\"},\"line_alpha\":{\"value\":0.7},\"line_color\":{\"value\":\"#4daf4a\"},\"x\":{\"field\":\"x\"},\"y\":{\"field\":\"y\"}},\"id\":\"2de0ae86-867d-4ef0-868c-0ddf28eda7a3\",\"type\":\"Circle\"},{\"attributes\":{\"callback\":null,\"end\":0.003925136409,\"start\":-0.006662148309},\"id\":\"61e4ac8a-58da-42b5-8278-36176a514a8c\",\"type\":\"Range1d\"},{\"attributes\":{\"callback\":null,\"data\":{\"x\":{\"__ndarray__\":\"2E7M5YN4db9+WjFSYm11vxt+BVpSVnW/SJYvk1g+db/ClTyywyV1v8rCJ/qUDHW/fFzeD83ydL/AbtIhadh0v4KCr0luvXS/2aR4n96hdL8RFqyxv4V0v/G7M9sYaXS/t+KXiNtLdL+OudzwnCV0v9a8OKeRk3O/IcCp1FNAcr8k1yiHMVJwvzsw2ajp22u/F5VLYSkEZr92Nw5+G9Bdv8mqQafwXUm/hrEAZJGdNj+5LC8rOepIP5Owt03ckjc/Da+v4HAvNb8mXTX6kVVTv0qixNKzZWC/LDNTQHRmZr/bcvmJZslrv43PiaG6UHC/nN/mjCV+cr8d4Fh/42V0vwi9nLHmAna/Hr57cTFgd7/GpDfLidd4v0gyj2uoOXq/xXR1DO7cer8B5QUNg5Z6v3yf3zTTdnm/fQESlZo5eL/QPttNpeR2v6TsvGuagHW/OipSODYPdL8c+TOoLH1yv30SkX7Y4nC/MGaASBV+br+Vysd2hj5rv3Uz06FC2me/dhiGHXxgZL86l1UlwNpgvy7HRkBHm1q/2H/Eh/62U79UJoMt5ctIvy867PmoYDS/37qOv9/8IT9wVKiWP+tCP6XJnb5L1VA/4sfRihpNWD/Tvg/AM8VfP0gKJKEfmGM/H8dN1GQbZz+wwxQFc51qP+lQ3vSbw20/yqSgQeVEcD/ae+xDon1xP+rNO138vnI/ezCyL5wVdD92JzGmpoZ1P1mpK5VzBnc/AQ2oEyaOeD9XWkg0iCV6P50KbFm0vHs/4SAVDlpSfT/Y88bk7Nh+P+SZGbJIN4A/\",\"dtype\":\"float64\",\"shape\":[75]},\"y\":{\"__ndarray__\":\"GhExyth1ND/Sv8nbtpRIP2vylNV0PVE/aTum7souWD/At0SJ8fVgPw3Iuahxymc/MSNhhJWvcD/bTfBN02d3P2zb5nxnaoA/CD5h5MAGhz8NmeH1TyaQP+zrCsc9p5Y/LbKd76fGnz/bLW5ISEmmPww9YvTcQq8/JV2OstnstT8Er5Y7M8G+P0c+r3jqkcU/5h99k6ZBzj88bCIzFzjVP4enV8oyxN0//yH99nXg5D8qOpLLf0jtP5kqGJXUifQ/c9cS8kHP/D+/DpwzojQEQIEmwoanVwxA4lgXt9HgE0BSSZ2AJuIbQAMJih9jjiNA5q4l5INuK0AwTKYKRj0zQNv5fmq8/DpAaCJseHrtQkB/+zpwzoxKQM3MzMzMeFJAZmZmZmZqWEAAAAAAAFxeQM3MzMzMJmJAmpmZmZkfZUBmZmZmZhhoQDMzMzMzEWtAAAAAAAAKbkBmZmZmZoFwQM3MzMzM/XFAMzMzMzN6c0CamZmZmfZ0QAAAAAAAc3ZAZmZmZmbvd0DNzMzMzGt5QDMzMzMz6HpAmpmZmZlkfEAAAAAAAOF9QGZmZmZmXX9AZmZmZuZsgECamZmZGSuBQM3MzMxM6YFAAAAAAICngkAzMzMzs2WDQGZmZmbmI4RAmpmZmRnihEDNzMzMTKCFQAAAAACAXoZAMzMzM7Mch0BmZmZm5tqHQJqZmZkZmYhAzczMzExXiUAAAAAAgBWKQDMzMzOz04pAZmZmZuaRi0CamZmZGVCMQM3MzMxMDo1AAAAAAIDMjUAzMzMzs4qOQGZmZmbmSI9A\",\"dtype\":\"float64\",\"shape\":[75]}},\"selected\":{\"id\":\"f88bcdd0-5de2-498a-916d-05a095e1984a\",\"type\":\"Selection\"},\"selection_policy\":{\"id\":\"f2687151-59cd-4855-8775-03cd092de5af\",\"type\":\"UnionRenderers\"}},\"id\":\"32bdadc3-a969-4143-9ae4-c641fb9b574d\",\"type\":\"ColumnDataSource\"},{\"attributes\":{\"data_source\":{\"id\":\"b62f4a0b-deaf-4a36-b678-f44c9b7414ee\",\"type\":\"ColumnDataSource\"},\"glyph\":{\"id\":\"05e2e78b-33fc-4750-bb69-cd667efaa952\",\"type\":\"Line\"},\"hover_glyph\":null,\"muted_glyph\":null,\"nonselection_glyph\":{\"id\":\"8a65e2b5-1c75-4bee-bab4-a966998c6ccd\",\"type\":\"Line\"},\"selection_glyph\":null,\"view\":{\"id\":\"c5442f43-233e-4f91-be42-242dd0427a8f\",\"type\":\"CDSView\"}},\"id\":\"2a07f501-e2da-4a3a-a6c5-8d02247e2ec4\",\"type\":\"GlyphRenderer\"},{\"attributes\":{\"line_color\":\"#4daf4a\",\"line_width\":1.5,\"x\":{\"field\":\"x\"},\"y\":{\"field\":\"y\"}},\"id\":\"7847fe5d-a6b0-493a-911d-25df71a47b97\",\"type\":\"Line\"},{\"attributes\":{\"callback\":null,\"data\":{\"x\":{\"__ndarray__\":\"2E7M5YN4db9+WjFSYm11vxt+BVpSVnW/SJYvk1g+db/ClTyywyV1v8rCJ/qUDHW/fFzeD83ydL/AbtIhadh0v4KCr0luvXS/2aR4n96hdL8RFqyxv4V0v/G7M9sYaXS/t+KXiNtLdL+OudzwnCV0v9a8OKeRk3O/IcCp1FNAcr8k1yiHMVJwvzsw2ajp22u/F5VLYSkEZr92Nw5+G9Bdv8mqQafwXUm/hrEAZJGdNj+5LC8rOepIP5Owt03ckjc/Da+v4HAvNb8mXTX6kVVTv0qixNKzZWC/LDNTQHRmZr/bcvmJZslrv43PiaG6UHC/nN/mjCV+cr8d4Fh/42V0vwi9nLHmAna/Hr57cTFgd7/GpDfLidd4v0gyj2uoOXq/xXR1DO7cer8B5QUNg5Z6v3yf3zTTdnm/fQESlZo5eL/QPttNpeR2v6TsvGuagHW/OipSODYPdL8c+TOoLH1yv30SkX7Y4nC/MGaASBV+br+Vysd2hj5rv3Uz06FC2me/dhiGHXxgZL86l1UlwNpgvy7HRkBHm1q/2H/Eh/62U79UJoMt5ctIvy867PmoYDS/37qOv9/8IT9wVKiWP+tCP6XJnb5L1VA/4sfRihpNWD/Tvg/AM8VfP0gKJKEfmGM/H8dN1GQbZz+wwxQFc51qP+lQ3vSbw20/yqSgQeVEcD/ae+xDon1xP+rNO138vnI/ezCyL5wVdD92JzGmpoZ1P1mpK5VzBnc/AQ2oEyaOeD9XWkg0iCV6P50KbFm0vHs/4SAVDlpSfT/Y88bk7Nh+P+SZGbJIN4A/\",\"dtype\":\"float64\",\"shape\":[75]},\"y\":{\"__ndarray__\":\"GhExyth1ND/Sv8nbtpRIP2vylNV0PVE/aTum7souWD/At0SJ8fVgPw3Iuahxymc/MSNhhJWvcD/bTfBN02d3P2zb5nxnaoA/CD5h5MAGhz8NmeH1TyaQP+zrCsc9p5Y/LbKd76fGnz/bLW5ISEmmPww9YvTcQq8/JV2OstnstT8Er5Y7M8G+P0c+r3jqkcU/5h99k6ZBzj88bCIzFzjVP4enV8oyxN0//yH99nXg5D8qOpLLf0jtP5kqGJXUifQ/c9cS8kHP/D+/DpwzojQEQIEmwoanVwxA4lgXt9HgE0BSSZ2AJuIbQAMJih9jjiNA5q4l5INuK0AwTKYKRj0zQNv5fmq8/DpAaCJseHrtQkB/+zpwzoxKQM3MzMzMeFJAZmZmZmZqWEAAAAAAAFxeQM3MzMzMJmJAmpmZmZkfZUBmZmZmZhhoQDMzMzMzEWtAAAAAAAAKbkBmZmZmZoFwQM3MzMzM/XFAMzMzMzN6c0CamZmZmfZ0QAAAAAAAc3ZAZmZmZmbvd0DNzMzMzGt5QDMzMzMz6HpAmpmZmZlkfEAAAAAAAOF9QGZmZmZmXX9AZmZmZuZsgECamZmZGSuBQM3MzMxM6YFAAAAAAICngkAzMzMzs2WDQGZmZmbmI4RAmpmZmRnihEDNzMzMTKCFQAAAAACAXoZAMzMzM7Mch0BmZmZm5tqHQJqZmZkZmYhAzczMzExXiUAAAAAAgBWKQDMzMzOz04pAZmZmZuaRi0CamZmZGVCMQM3MzMxMDo1AAAAAAIDMjUAzMzMzs4qOQGZmZmbmSI9A\",\"dtype\":\"float64\",\"shape\":[75]}},\"selected\":{\"id\":\"8ca15c05-9c37-4865-973d-a4b0592cbd4a\",\"type\":\"Selection\"},\"selection_policy\":{\"id\":\"4c6dcf7c-790a-4e6c-870a-071c44a9f8db\",\"type\":\"UnionRenderers\"}},\"id\":\"efcec611-c5b1-494c-922f-1e87c917f70b\",\"type\":\"ColumnDataSource\"},{\"attributes\":{\"data_source\":{\"id\":\"6733a8de-52af-4aac-81c4-e3cab189292c\",\"type\":\"ColumnDataSource\"},\"glyph\":{\"id\":\"a19c770d-97f7-4744-86af-f0410a3324f1\",\"type\":\"Line\"},\"hover_glyph\":null,\"muted_glyph\":null,\"nonselection_glyph\":{\"id\":\"08b06c2a-d11e-4ab0-807e-8a8ff806d3a9\",\"type\":\"Line\"},\"selection_glyph\":null,\"view\":{\"id\":\"e4b776ee-ee17-4883-a867-ce44192a6237\",\"type\":\"CDSView\"}},\"id\":\"54e9e4fa-7254-4210-acce-9ea017331d6f\",\"type\":\"GlyphRenderer\"},{\"attributes\":{\"source\":{\"id\":\"32bdadc3-a969-4143-9ae4-c641fb9b574d\",\"type\":\"ColumnDataSource\"}},\"id\":\"b668144b-0c55-416e-8f2b-55f80ddebdbb\",\"type\":\"CDSView\"},{\"attributes\":{},\"id\":\"96639b64-76b5-4e26-a040-44436594d7b9\",\"type\":\"BasicTicker\"},{\"attributes\":{\"plot\":{\"id\":\"b18a8b71-4d1c-4403-914b-156b7bf9551e\",\"subtype\":\"Figure\",\"type\":\"Plot\"},\"ticker\":{\"id\":\"2529bb8e-2a60-4762-b35e-ca81bede6153\",\"type\":\"BasicTicker\"}},\"id\":\"84c84fff-8c8c-4e12-9d3f-c752bb25ad3c\",\"type\":\"Grid\"},{\"attributes\":{\"data_source\":{\"id\":\"60cfc32a-58e2-4672-816b-d8c256043362\",\"type\":\"ColumnDataSource\"},\"glyph\":{\"id\":\"2de0ae86-867d-4ef0-868c-0ddf28eda7a3\",\"type\":\"Circle\"},\"hover_glyph\":null,\"muted_glyph\":null,\"nonselection_glyph\":{\"id\":\"9b66313d-22b2-4b68-ba11-bdedbb6325ad\",\"type\":\"Circle\"},\"selection_glyph\":null,\"view\":{\"id\":\"b93c3e44-9da6-4890-974f-6ab2e3308e44\",\"type\":\"CDSView\"}},\"id\":\"19e7be32-f46c-4f2c-9024-e4f1028e4667\",\"type\":\"GlyphRenderer\"},{\"attributes\":{\"axis_label\":\"cooling rate [K/day]\",\"formatter\":{\"id\":\"47c06941-7b17-43f8-9a38-0f47c127189d\",\"type\":\"BasicTickFormatter\"},\"plot\":{\"id\":\"b18a8b71-4d1c-4403-914b-156b7bf9551e\",\"subtype\":\"Figure\",\"type\":\"Plot\"},\"ticker\":{\"id\":\"2529bb8e-2a60-4762-b35e-ca81bede6153\",\"type\":\"BasicTicker\"}},\"id\":\"b3770b3a-75c2-4c86-bdb1-50e97df6fd69\",\"type\":\"LinearAxis\"},{\"attributes\":{\"callback\":null,\"data\":{\"x\":{\"__ndarray__\":\"2E7M5YN4db9+WjFSYm11vxt+BVpSVnW/SJYvk1g+db/ClTyywyV1v8rCJ/qUDHW/fFzeD83ydL/AbtIhadh0v4KCr0luvXS/2aR4n96hdL8RFqyxv4V0v/G7M9sYaXS/t+KXiNtLdL+OudzwnCV0v9a8OKeRk3O/IcCp1FNAcr8k1yiHMVJwvzsw2ajp22u/F5VLYSkEZr92Nw5+G9Bdv8mqQafwXUm/hrEAZJGdNj+5LC8rOepIP5Owt03ckjc/Da+v4HAvNb8mXTX6kVVTv0qixNKzZWC/LDNTQHRmZr/bcvmJZslrv43PiaG6UHC/nN/mjCV+cr8d4Fh/42V0vwi9nLHmAna/Hr57cTFgd7/GpDfLidd4v0gyj2uoOXq/xXR1DO7cer8B5QUNg5Z6v3yf3zTTdnm/fQESlZo5eL/QPttNpeR2v6TsvGuagHW/OipSODYPdL8c+TOoLH1yv30SkX7Y4nC/MGaASBV+br+Vysd2hj5rv3Uz06FC2me/dhiGHXxgZL86l1UlwNpgvy7HRkBHm1q/2H/Eh/62U79UJoMt5ctIvy867PmoYDS/37qOv9/8IT9wVKiWP+tCP6XJnb5L1VA/4sfRihpNWD/Tvg/AM8VfP0gKJKEfmGM/H8dN1GQbZz+wwxQFc51qP+lQ3vSbw20/yqSgQeVEcD/ae+xDon1xP+rNO138vnI/ezCyL5wVdD92JzGmpoZ1P1mpK5VzBnc/AQ2oEyaOeD9XWkg0iCV6P50KbFm0vHs/4SAVDlpSfT/Y88bk7Nh+P+SZGbJIN4A/\",\"dtype\":\"float64\",\"shape\":[75]},\"y\":{\"__ndarray__\":\"GhExyth1ND/Sv8nbtpRIP2vylNV0PVE/aTum7souWD/At0SJ8fVgPw3Iuahxymc/MSNhhJWvcD/bTfBN02d3P2zb5nxnaoA/CD5h5MAGhz8NmeH1TyaQP+zrCsc9p5Y/LbKd76fGnz/bLW5ISEmmPww9YvTcQq8/JV2OstnstT8Er5Y7M8G+P0c+r3jqkcU/5h99k6ZBzj88bCIzFzjVP4enV8oyxN0//yH99nXg5D8qOpLLf0jtP5kqGJXUifQ/c9cS8kHP/D+/DpwzojQEQIEmwoanVwxA4lgXt9HgE0BSSZ2AJuIbQAMJih9jjiNA5q4l5INuK0AwTKYKRj0zQNv5fmq8/DpAaCJseHrtQkB/+zpwzoxKQM3MzMzMeFJAZmZmZmZqWEAAAAAAAFxeQM3MzMzMJmJAmpmZmZkfZUBmZmZmZhhoQDMzMzMzEWtAAAAAAAAKbkBmZmZmZoFwQM3MzMzM/XFAMzMzMzN6c0CamZmZmfZ0QAAAAAAAc3ZAZmZmZmbvd0DNzMzMzGt5QDMzMzMz6HpAmpmZmZlkfEAAAAAAAOF9QGZmZmZmXX9AZmZmZuZsgECamZmZGSuBQM3MzMxM6YFAAAAAAICngkAzMzMzs2WDQGZmZmbmI4RAmpmZmRnihEDNzMzMTKCFQAAAAACAXoZAMzMzM7Mch0BmZmZm5tqHQJqZmZkZmYhAzczMzExXiUAAAAAAgBWKQDMzMzOz04pAZmZmZuaRi0CamZmZGVCMQM3MzMxMDo1AAAAAAIDMjUAzMzMzs4qOQGZmZmbmSI9A\",\"dtype\":\"float64\",\"shape\":[75]}},\"selected\":{\"id\":\"5573bc87-ed62-4526-a9e0-5bb74297330b\",\"type\":\"Selection\"},\"selection_policy\":{\"id\":\"dfd2e7a1-41a8-41c0-8412-747f585b5feb\",\"type\":\"UnionRenderers\"}},\"id\":\"1188e13a-aa31-4287-b7ae-82c39bd19941\",\"type\":\"ColumnDataSource\"},{\"attributes\":{\"fill_alpha\":{\"value\":0.1},\"fill_color\":{\"value\":\"#1f77b4\"},\"line_alpha\":{\"value\":0.1},\"line_color\":{\"value\":\"#1f77b4\"},\"x\":{\"field\":\"x\"},\"y\":{\"field\":\"y\"}},\"id\":\"63936c87-f076-42b6-8ed5-165a67396a64\",\"type\":\"Circle\"},{\"attributes\":{\"line_alpha\":0.1,\"line_color\":\"#1f77b4\",\"line_dash\":[6],\"line_width\":5,\"x\":{\"field\":\"x\"},\"y\":{\"field\":\"y\"}},\"id\":\"8a65e2b5-1c75-4bee-bab4-a966998c6ccd\",\"type\":\"Line\"},{\"attributes\":{\"source\":{\"id\":\"60cfc32a-58e2-4672-816b-d8c256043362\",\"type\":\"ColumnDataSource\"}},\"id\":\"b93c3e44-9da6-4890-974f-6ab2e3308e44\",\"type\":\"CDSView\"},{\"attributes\":{\"line_alpha\":0.6,\"line_color\":\"#984ea3\",\"line_width\":3,\"x\":{\"field\":\"x\"},\"y\":{\"field\":\"y\"}},\"id\":\"7069eeb8-ff86-4eca-b9b9-5ea6e0865f13\",\"type\":\"Line\"},{\"attributes\":{},\"id\":\"88b957a3-8ecf-4f5a-b15c-ee85fddb44e7\",\"type\":\"WheelZoomTool\"},{\"attributes\":{\"source\":{\"id\":\"b62f4a0b-deaf-4a36-b678-f44c9b7414ee\",\"type\":\"ColumnDataSource\"}},\"id\":\"c5442f43-233e-4f91-be42-242dd0427a8f\",\"type\":\"CDSView\"},{\"attributes\":{\"line_alpha\":0.1,\"line_color\":\"#1f77b4\",\"line_width\":1.5,\"x\":{\"field\":\"x\"},\"y\":{\"field\":\"y\"}},\"id\":\"6de5c27c-8f77-4ecf-9518-52641540932c\",\"type\":\"Line\"},{\"attributes\":{\"ticker\":null},\"id\":\"4c1b151e-0771-4ee4-a930-2135fc35589e\",\"type\":\"LogTickFormatter\"},{\"attributes\":{\"callback\":null,\"data\":{\"x\":{\"__ndarray__\":\"2E7M5YN4db9+WjFSYm11vxt+BVpSVnW/SJYvk1g+db/ClTyywyV1v8rCJ/qUDHW/fFzeD83ydL/AbtIhadh0v4KCr0luvXS/2aR4n96hdL8RFqyxv4V0v/G7M9sYaXS/t+KXiNtLdL+OudzwnCV0v9a8OKeRk3O/IcCp1FNAcr8k1yiHMVJwvzsw2ajp22u/F5VLYSkEZr92Nw5+G9Bdv8mqQafwXUm/hrEAZJGdNj+5LC8rOepIP5Owt03ckjc/Da+v4HAvNb8mXTX6kVVTv0qixNKzZWC/LDNTQHRmZr/bcvmJZslrv43PiaG6UHC/nN/mjCV+cr8d4Fh/42V0vwi9nLHmAna/Hr57cTFgd7/GpDfLidd4v0gyj2uoOXq/xXR1DO7cer8B5QUNg5Z6v3yf3zTTdnm/fQESlZo5eL/QPttNpeR2v6TsvGuagHW/OipSODYPdL8c+TOoLH1yv30SkX7Y4nC/MGaASBV+br+Vysd2hj5rv3Uz06FC2me/dhiGHXxgZL86l1UlwNpgvy7HRkBHm1q/2H/Eh/62U79UJoMt5ctIvy867PmoYDS/37qOv9/8IT9wVKiWP+tCP6XJnb5L1VA/4sfRihpNWD/Tvg/AM8VfP0gKJKEfmGM/H8dN1GQbZz+wwxQFc51qP+lQ3vSbw20/yqSgQeVEcD/ae+xDon1xP+rNO138vnI/ezCyL5wVdD92JzGmpoZ1P1mpK5VzBnc/AQ2oEyaOeD9XWkg0iCV6P50KbFm0vHs/4SAVDlpSfT/Y88bk7Nh+P+SZGbJIN4A/\",\"dtype\":\"float64\",\"shape\":[75]},\"y\":{\"__ndarray__\":\"GhExyth1ND/Sv8nbtpRIP2vylNV0PVE/aTum7souWD/At0SJ8fVgPw3Iuahxymc/MSNhhJWvcD/bTfBN02d3P2zb5nxnaoA/CD5h5MAGhz8NmeH1TyaQP+zrCsc9p5Y/LbKd76fGnz/bLW5ISEmmPww9YvTcQq8/JV2OstnstT8Er5Y7M8G+P0c+r3jqkcU/5h99k6ZBzj88bCIzFzjVP4enV8oyxN0//yH99nXg5D8qOpLLf0jtP5kqGJXUifQ/c9cS8kHP/D+/DpwzojQEQIEmwoanVwxA4lgXt9HgE0BSSZ2AJuIbQAMJih9jjiNA5q4l5INuK0AwTKYKRj0zQNv5fmq8/DpAaCJseHrtQkB/+zpwzoxKQM3MzMzMeFJAZmZmZmZqWEAAAAAAAFxeQM3MzMzMJmJAmpmZmZkfZUBmZmZmZhhoQDMzMzMzEWtAAAAAAAAKbkBmZmZmZoFwQM3MzMzM/XFAMzMzMzN6c0CamZmZmfZ0QAAAAAAAc3ZAZmZmZmbvd0DNzMzMzGt5QDMzMzMz6HpAmpmZmZlkfEAAAAAAAOF9QGZmZmZmXX9AZmZmZuZsgECamZmZGSuBQM3MzMxM6YFAAAAAAICngkAzMzMzs2WDQGZmZmbmI4RAmpmZmRnihEDNzMzMTKCFQAAAAACAXoZAMzMzM7Mch0BmZmZm5tqHQJqZmZkZmYhAzczMzExXiUAAAAAAgBWKQDMzMzOz04pAZmZmZuaRi0CamZmZGVCMQM3MzMxMDo1AAAAAAIDMjUAzMzMzs4qOQGZmZmbmSI9A\",\"dtype\":\"float64\",\"shape\":[75]}},\"selected\":{\"id\":\"55fb5833-9598-4d63-907d-dc7b7ec32a75\",\"type\":\"Selection\"},\"selection_policy\":{\"id\":\"bc1ae35e-1cae-4b54-9aa3-35310aea6475\",\"type\":\"UnionRenderers\"}},\"id\":\"6733a8de-52af-4aac-81c4-e3cab189292c\",\"type\":\"ColumnDataSource\"},{\"attributes\":{},\"id\":\"2529bb8e-2a60-4762-b35e-ca81bede6153\",\"type\":\"BasicTicker\"},{\"attributes\":{\"data_source\":{\"id\":\"a0707e28-139c-474c-80b7-a2f5a5d49c33\",\"type\":\"ColumnDataSource\"},\"glyph\":{\"id\":\"7847fe5d-a6b0-493a-911d-25df71a47b97\",\"type\":\"Line\"},\"hover_glyph\":null,\"muted_glyph\":null,\"nonselection_glyph\":{\"id\":\"6de5c27c-8f77-4ecf-9518-52641540932c\",\"type\":\"Line\"},\"selection_glyph\":null,\"view\":{\"id\":\"89c93dc4-cd09-43ff-9181-18aa9a527064\",\"type\":\"CDSView\"}},\"id\":\"6d6a3cfd-554c-4ed6-82b9-d190f3ae4fa5\",\"type\":\"GlyphRenderer\"},{\"attributes\":{\"source\":{\"id\":\"a0707e28-139c-474c-80b7-a2f5a5d49c33\",\"type\":\"ColumnDataSource\"}},\"id\":\"89c93dc4-cd09-43ff-9181-18aa9a527064\",\"type\":\"CDSView\"},{\"attributes\":{\"overlay\":{\"id\":\"4cfa8cb3-222c-4b15-afa1-1534c13b0838\",\"type\":\"BoxAnnotation\"}},\"id\":\"56f74813-273b-4428-aaa4-d49f550a27bb\",\"type\":\"BoxZoomTool\"},{\"attributes\":{\"callback\":null,\"data\":{\"x\":{\"__ndarray__\":\"xUlzCr8LZL/geDhuKvNjv5KPHdjRv2O/mz7a/0mKY7+t15sxeFNjvzqXXU3pG2O/D3tts0LjYr8KPA8p6Khiv0QRSo+KbmK/Jtsa+xQzYr/90mGQO/Zhv/Cjr6OXuGG/jWdxOhl5Yb+pXOyrpyVhv6zfqHPO0V+/cru4Uu0hWr+MUFVp1/lRvw+Uj36FsD+/J7MYrl88MT85DwvbbRxTP8mIziWqbWI/LZ7S7sTmaz9RwL0F7k1vP0hr10dRrms/S6RWF/WiZT/qFZCiQDJcP9nGzNG/kEs/H/huR6MwCz/JjcvmgsBFv+AYxPclqlW/508o/+vAX78dFCmZ0KdkvzTuFbNoNWm/zBht9Z+sbb+VwILNW2Jxv2f69oSdCHS/ldQHHtjbdb+Pf4mxcWF2vxvDWjtc8nW/rutUT59Kdb8dPhc0TnZ0v6qkum79fHO/V5OB5QNgcr8b/h0J8Chxv3SSjGndt2+/qj+4vuz3bL+CtyBQ/xZqvy52MJ8CGWe/jEmGMokAZL9slT9jT9Bgvx8fhxlHGVu/M66q6QJvVL9SPblSK0tLvztp5++V/zq/EqEZQvOj7z6NgCW5QVU9P7WgVTgSAE0/ySSmMcG8VT/7ZOUQGgVdP6UbVCcPJ2I/hnBWyaq9ZT+jHRg40CdpP3Haag7EPWw/Vt7vB6zybj/4T+FPJ7VwP3OMgwrQ73E/Mfm/nIJAcz+MVTvt5q50P1/mrHFsNHY/vKmuHtzGdz+KjH13Wl95Pw1iomyK+no/+xTyStOVfD+P5KkA/DB+P1oTOpA2zH8/\",\"dtype\":\"float64\",\"shape\":[75]},\"y\":{\"__ndarray__\":\"GhExyth1ND/Sv8nbtpRIP2vylNV0PVE/aTum7souWD/At0SJ8fVgPw3Iuahxymc/MSNhhJWvcD/bTfBN02d3P2zb5nxnaoA/CD5h5MAGhz8NmeH1TyaQP+zrCsc9p5Y/LbKd76fGnz/bLW5ISEmmPww9YvTcQq8/JV2OstnstT8Er5Y7M8G+P0c+r3jqkcU/5h99k6ZBzj88bCIzFzjVP4enV8oyxN0//yH99nXg5D8qOpLLf0jtP5kqGJXUifQ/c9cS8kHP/D+/DpwzojQEQIEmwoanVwxA4lgXt9HgE0BSSZ2AJuIbQAMJih9jjiNA5q4l5INuK0AwTKYKRj0zQNv5fmq8/DpAaCJseHrtQkB/+zpwzoxKQM3MzMzMeFJAZmZmZmZqWEAAAAAAAFxeQM3MzMzMJmJAmpmZmZkfZUBmZmZmZhhoQDMzMzMzEWtAAAAAAAAKbkBmZmZmZoFwQM3MzMzM/XFAMzMzMzN6c0CamZmZmfZ0QAAAAAAAc3ZAZmZmZmbvd0DNzMzMzGt5QDMzMzMz6HpAmpmZmZlkfEAAAAAAAOF9QGZmZmZmXX9AZmZmZuZsgECamZmZGSuBQM3MzMxM6YFAAAAAAICngkAzMzMzs2WDQGZmZmbmI4RAmpmZmRnihEDNzMzMTKCFQAAAAACAXoZAMzMzM7Mch0BmZmZm5tqHQJqZmZkZmYhAzczMzExXiUAAAAAAgBWKQDMzMzOz04pAZmZmZuaRi0CamZmZGVCMQM3MzMxMDo1AAAAAAIDMjUAzMzMzs4qOQGZmZmbmSI9A\",\"dtype\":\"float64\",\"shape\":[75]}},\"selected\":{\"id\":\"89423081-63c3-41d0-b6e5-26a8c293729d\",\"type\":\"Selection\"},\"selection_policy\":{\"id\":\"74e1b6dc-a512-4b97-b03b-a64fb7e63316\",\"type\":\"UnionRenderers\"}},\"id\":\"b1628539-e13a-4acd-869a-6c6703180804\",\"type\":\"ColumnDataSource\"},{\"attributes\":{\"fill_alpha\":{\"value\":0.7},\"fill_color\":{\"value\":\"#984ea3\"},\"line_alpha\":{\"value\":0.7},\"line_color\":{\"value\":\"#984ea3\"},\"x\":{\"field\":\"x\"},\"y\":{\"field\":\"y\"}},\"id\":\"3b6a3f7d-3c38-4248-ad8a-b82ca6886b5b\",\"type\":\"Square\"},{\"attributes\":{},\"id\":\"699c2556-e54b-4042-a7ae-cf2dfc8bac66\",\"type\":\"BasicTickFormatter\"},{\"attributes\":{\"fill_alpha\":{\"value\":0.1},\"fill_color\":{\"value\":\"#1f77b4\"},\"line_alpha\":{\"value\":0.1},\"line_color\":{\"value\":\"#1f77b4\"},\"x\":{\"field\":\"x\"},\"y\":{\"field\":\"y\"}},\"id\":\"b59aa7f9-d2ac-47e8-b4d6-249e3d94df5b\",\"type\":\"Square\"},{\"attributes\":{\"data_source\":{\"id\":\"32bdadc3-a969-4143-9ae4-c641fb9b574d\",\"type\":\"ColumnDataSource\"},\"glyph\":{\"id\":\"3b6a3f7d-3c38-4248-ad8a-b82ca6886b5b\",\"type\":\"Square\"},\"hover_glyph\":null,\"muted_glyph\":null,\"nonselection_glyph\":{\"id\":\"b59aa7f9-d2ac-47e8-b4d6-249e3d94df5b\",\"type\":\"Square\"},\"selection_glyph\":null,\"view\":{\"id\":\"b668144b-0c55-416e-8f2b-55f80ddebdbb\",\"type\":\"CDSView\"}},\"id\":\"cd594b1b-a314-4356-88ab-4a742dd016d3\",\"type\":\"GlyphRenderer\"},{\"attributes\":{\"source\":{\"id\":\"1188e13a-aa31-4287-b7ae-82c39bd19941\",\"type\":\"ColumnDataSource\"}},\"id\":\"88e4c84d-9eb6-4c83-988e-4e665f270d03\",\"type\":\"CDSView\"},{\"attributes\":{\"children\":[{\"id\":\"35d66ff4-56ce-440c-9e7d-05efe2806935\",\"subtype\":\"Figure\",\"type\":\"Plot\"},{\"id\":\"b18a8b71-4d1c-4403-914b-156b7bf9551e\",\"subtype\":\"Figure\",\"type\":\"Plot\"}]},\"id\":\"5c487c3e-3308-4b83-8fa7-dd79fa7bb5c9\",\"type\":\"Row\"},{\"attributes\":{\"source\":{\"id\":\"4e8f8535-cae8-4b42-8f70-8c8b676a41b3\",\"type\":\"ColumnDataSource\"}},\"id\":\"05c8a54d-ffd9-441c-8c13-82e7d8b7f95c\",\"type\":\"CDSView\"},{\"attributes\":{},\"id\":\"27eea3de-9d32-4d4d-b145-400e19e9a3ce\",\"type\":\"Selection\"},{\"attributes\":{\"label\":{\"value\":\"CLIRAD `coolr_bands`\"},\"renderers\":[{\"id\":\"2a07f501-e2da-4a3a-a6c5-8d02247e2ec4\",\"type\":\"GlyphRenderer\"}]},\"id\":\"c21f0536-69c9-413a-a835-2d90a6e29bcb\",\"type\":\"LegendItem\"},{\"attributes\":{},\"id\":\"89423081-63c3-41d0-b6e5-26a8c293729d\",\"type\":\"Selection\"},{\"attributes\":{\"label\":{\"value\":\"CRD\"},\"renderers\":[{\"id\":\"19e7be32-f46c-4f2c-9024-e4f1028e4667\",\"type\":\"GlyphRenderer\"},{\"id\":\"6d6a3cfd-554c-4ed6-82b9-d190f3ae4fa5\",\"type\":\"GlyphRenderer\"}]},\"id\":\"7bb830f0-2778-489b-9bb9-8d7f24a91fb6\",\"type\":\"LegendItem\"},{\"attributes\":{},\"id\":\"d9f160b5-c47a-42ea-8c9a-1180ab29e20b\",\"type\":\"LinearScale\"},{\"attributes\":{\"label\":{\"value\":\"WGT igg=10 wgt_flux=2\"},\"renderers\":[{\"id\":\"cd594b1b-a314-4356-88ab-4a742dd016d3\",\"type\":\"GlyphRenderer\"},{\"id\":\"cf63b854-1fbb-488d-92b9-e9e139129181\",\"type\":\"GlyphRenderer\"}]},\"id\":\"a9a72cae-1724-4195-a013-ae5c0f64306f\",\"type\":\"LegendItem\"},{\"attributes\":{},\"id\":\"bc1ae35e-1cae-4b54-9aa3-35310aea6475\",\"type\":\"UnionRenderers\"},{\"attributes\":{},\"id\":\"8226d4c0-4572-4cee-9c3e-743fbcec963b\",\"type\":\"BasicTickFormatter\"},{\"attributes\":{\"data_source\":{\"id\":\"b1628539-e13a-4acd-869a-6c6703180804\",\"type\":\"ColumnDataSource\"},\"glyph\":{\"id\":\"0e18fd3d-3dcc-4c2f-a846-4b7bcd9612d0\",\"type\":\"Circle\"},\"hover_glyph\":null,\"muted_glyph\":null,\"nonselection_glyph\":{\"id\":\"63936c87-f076-42b6-8ed5-165a67396a64\",\"type\":\"Circle\"},\"selection_glyph\":null,\"view\":{\"id\":\"462dc500-4157-44a1-a465-8cf6acb36d81\",\"type\":\"CDSView\"}},\"id\":\"c34300b6-9414-4711-a63f-9e1e98b2efc6\",\"type\":\"GlyphRenderer\"},{\"attributes\":{},\"id\":\"5573bc87-ed62-4526-a9e0-5bb74297330b\",\"type\":\"Selection\"},{\"attributes\":{},\"id\":\"1704d3da-b6ba-4cfd-bdb6-f2d1ebc75faf\",\"type\":\"Selection\"},{\"attributes\":{\"line_color\":\"#4daf4a\",\"line_width\":1.5,\"x\":{\"field\":\"x\"},\"y\":{\"field\":\"y\"}},\"id\":\"1a1065c1-accb-4709-8c5e-1fda4b2a42e9\",\"type\":\"Line\"},{\"attributes\":{},\"id\":\"2f17821f-fd2a-4fbc-bcc5-5a02bf1d4e9a\",\"type\":\"UnionRenderers\"},{\"attributes\":{},\"id\":\"405d1894-67eb-4f2f-99ee-c9a9873b940f\",\"type\":\"PanTool\"},{\"attributes\":{\"line_alpha\":0.6,\"line_color\":\"#e41a1c\",\"line_dash\":[6],\"line_width\":5,\"x\":{\"field\":\"x\"},\"y\":{\"field\":\"y\"}},\"id\":\"699e982e-2347-4147-ad1a-6b33fe68c0bc\",\"type\":\"Line\"},{\"attributes\":{},\"id\":\"74e1b6dc-a512-4b97-b03b-a64fb7e63316\",\"type\":\"UnionRenderers\"},{\"attributes\":{},\"id\":\"ad4cb9f3-ae8b-47a1-a345-16cc1390161c\",\"type\":\"UnionRenderers\"},{\"attributes\":{\"line_alpha\":0.1,\"line_color\":\"#1f77b4\",\"line_width\":3,\"x\":{\"field\":\"x\"},\"y\":{\"field\":\"y\"}},\"id\":\"08b06c2a-d11e-4ab0-807e-8a8ff806d3a9\",\"type\":\"Line\"},{\"attributes\":{},\"id\":\"55fb5833-9598-4d63-907d-dc7b7ec32a75\",\"type\":\"Selection\"},{\"attributes\":{},\"id\":\"dfd2e7a1-41a8-41c0-8412-747f585b5feb\",\"type\":\"UnionRenderers\"},{\"attributes\":{\"data_source\":{\"id\":\"efcec611-c5b1-494c-922f-1e87c917f70b\",\"type\":\"ColumnDataSource\"},\"glyph\":{\"id\":\"7069eeb8-ff86-4eca-b9b9-5ea6e0865f13\",\"type\":\"Line\"},\"hover_glyph\":null,\"muted_glyph\":null,\"nonselection_glyph\":{\"id\":\"87ea95f3-31a4-42cd-808a-83ad84b958bc\",\"type\":\"Line\"},\"selection_glyph\":null,\"view\":{\"id\":\"dc66c18a-783d-44f0-ad73-15fb6e5c5159\",\"type\":\"CDSView\"}},\"id\":\"cf63b854-1fbb-488d-92b9-e9e139129181\",\"type\":\"GlyphRenderer\"},{\"attributes\":{},\"id\":\"8ca15c05-9c37-4865-973d-a4b0592cbd4a\",\"type\":\"Selection\"},{\"attributes\":{\"line_alpha\":0.1,\"line_color\":\"#1f77b4\",\"line_width\":1.5,\"x\":{\"field\":\"x\"},\"y\":{\"field\":\"y\"}},\"id\":\"9649996a-e1be-4864-a159-c414eb95193d\",\"type\":\"Line\"},{\"attributes\":{},\"id\":\"07a88949-e126-41be-909d-8e139df546b5\",\"type\":\"UnionRenderers\"},{\"attributes\":{},\"id\":\"47c06941-7b17-43f8-9a38-0f47c127189d\",\"type\":\"BasicTickFormatter\"},{\"attributes\":{\"callback\":null,\"data\":{\"x\":{\"__ndarray__\":\"V43MPGXwdb/LJ77pfMl1v38ekn5c0nW/Ml2il+W0db80Eg6umpZ1vw8D/GOxd3W/hNytMvhXdb9IqgUr1Dd1vzqppqL8FnW/1S2ILov1dL/O3i6/gNN0v59ICaDlsHS/ekTW6MaMdL8WMMcL3ll0vwb1mzQOr3O/ZP3BZEw4cr+4QoVXzDBwv8eD0nNphWu/xw+YtTvFZb+Sz1vXkAFev1WXy2i7Xky/UXE/5nVtIj+Uu+RD/aNAP1WoYMlJESQ/Xsu/M7i5Pb826u0DE+5Tv4pjpGiz21+/9iWMP3kzZb8+3dRSjdZpv0Zlp0Wb6G2/DAwLvDu8cL/S6gE++klyv6sT2UgHpHO/dTV6OK/YdL/kjavMdjd2v8y8P2BRkXe//uMf3rw2eL8xWk18Ect3v+/xp2Uip3a/41fnsdFtdb9cCBdOMCV0vy0jO08x0HK/llHbuNRwcb8IIKeDiwlwv9IHFK+HNm2/6oxUAFFOar8N21KjKV1nvzF+lZkdZGS/iOZzyvlkYb8J1EW/+8Bcv3DGtqlWr1a/lvBTtySXUL8SoktYCfVEvyjgO0/TXjG/0NwcGNfDHD8UnqbSv84/P2fG5f7JN0w/qWfsTFtDVD8Snw73V2daP2e7IRFDQGA/EUanP988Yz9UGytYuxJmP8yjINHro2g/rBZbd6Hoaj8pDVf0N/tsP7gOYmN2CG8/u0rRayeacD/xsEdna8RxPyn7rAfT/XI/o/nV+KI/dD+jpAFoBoR1P+Yx7K9cyHY/1j+bI4oMeD+tblVYQE95P10CJB1UkHo/\",\"dtype\":\"float64\",\"shape\":[75]},\"y\":{\"__ndarray__\":\"S/O/Q+51ND/Sv8nbtpRIP2vylNV0PVE/aTum7souWD/At0SJ8fVgPw3Iuahxymc/MSNhhJWvcD/bTfBN02d3P2zb5nxnaoA/CD5h5MAGhz8NmeH1TyaQP+zrCsc9p5Y/LbKd76fGnz/bLW5ISEmmPww9YvTcQq8/JV2OstnstT8Er5Y7M8G+P0c+r3jqkcU/5h99k6ZBzj88bCIzFzjVP4enV8oyxN0//yH99nXg5D8qOpLLf0jtP5kqGJXUifQ/c9cS8kHP/D+/DpwzojQEQIEmwoanVwxA4lgXt9HgE0BSSZ2AJuIbQAMJih9jjiNA5q4l5INuK0AwTKYKRj0zQNv5fmq8/DpAaCJseHrtQkB/+zpwzoxKQM3MzMzMeFJAZmZmZmZqWEAAAAAAAFxeQM3MzMzMJmJAmpmZmZkfZUBmZmZmZhhoQDMzMzMzEWtAAAAAAAAKbkBmZmZmZoFwQM3MzMzM/XFAMzMzMzN6c0CamZmZmfZ0QAAAAAAAc3ZAZmZmZmbvd0DNzMzMzGt5QDMzMzMz6HpAmpmZmZlkfEAAAAAAAOF9QGZmZmZmXX9AZmZmZuZsgECamZmZGSuBQM3MzMxM6YFAAAAAAICngkAzMzMzs2WDQGZmZmbmI4RAmpmZmRnihEDNzMzMTKCFQAAAAACAXoZAMzMzM7Mch0BmZmZm5tqHQJqZmZkZmYhAzczMzExXiUAAAAAAgBWKQDMzMzOz04pAZmZmZuaRi0CamZmZGVCMQM3MzMxMDo1AAAAAAIDMjUAzMzMzs4qOQGZmZmbmSI9A\",\"dtype\":\"float64\",\"shape\":[75]}},\"selected\":{\"id\":\"25a03c8c-b258-46a3-bcc4-a534bcef8e2a\",\"type\":\"Selection\"},\"selection_policy\":{\"id\":\"07a88949-e126-41be-909d-8e139df546b5\",\"type\":\"UnionRenderers\"}},\"id\":\"b62f4a0b-deaf-4a36-b678-f44c9b7414ee\",\"type\":\"ColumnDataSource\"},{\"attributes\":{},\"id\":\"25a03c8c-b258-46a3-bcc4-a534bcef8e2a\",\"type\":\"Selection\"},{\"attributes\":{\"plot\":null,\"text\":\"Log pressure scale\"},\"id\":\"10e5a19f-24a9-4cf2-85be-73829b40c728\",\"type\":\"Title\"},{\"attributes\":{},\"id\":\"dd1d6807-fd8a-44b8-b9b3-d8087f0ede58\",\"type\":\"UnionRenderers\"},{\"attributes\":{},\"id\":\"1c6c6e41-e9fa-4fbd-bb71-e29cba5b6701\",\"type\":\"Selection\"},{\"attributes\":{},\"id\":\"4c6dcf7c-790a-4e6c-870a-071c44a9f8db\",\"type\":\"UnionRenderers\"},{\"attributes\":{\"line_alpha\":0.6,\"line_color\":\"#e41a1c\",\"line_dash\":[6],\"line_width\":5,\"x\":{\"field\":\"x\"},\"y\":{\"field\":\"y\"}},\"id\":\"05e2e78b-33fc-4750-bb69-cd667efaa952\",\"type\":\"Line\"},{\"attributes\":{},\"id\":\"d5fee975-25a1-4dff-ae90-8870e4e66691\",\"type\":\"Selection\"},{\"attributes\":{\"fill_alpha\":{\"value\":0.7},\"fill_color\":{\"value\":\"#984ea3\"},\"line_alpha\":{\"value\":0.7},\"line_color\":{\"value\":\"#984ea3\"},\"x\":{\"field\":\"x\"},\"y\":{\"field\":\"y\"}},\"id\":\"4b5a7f03-3a83-4b5c-b12b-ee38718f5fdb\",\"type\":\"Square\"},{\"attributes\":{},\"id\":\"e3fb0df4-80ec-4539-8c5f-fea65f59924b\",\"type\":\"UnionRenderers\"},{\"attributes\":{},\"id\":\"f88bcdd0-5de2-498a-916d-05a095e1984a\",\"type\":\"Selection\"},{\"attributes\":{\"data_source\":{\"id\":\"1188e13a-aa31-4287-b7ae-82c39bd19941\",\"type\":\"ColumnDataSource\"},\"glyph\":{\"id\":\"4b5a7f03-3a83-4b5c-b12b-ee38718f5fdb\",\"type\":\"Square\"},\"hover_glyph\":null,\"muted_glyph\":null,\"nonselection_glyph\":{\"id\":\"71a0e3bb-23d8-4d5a-add8-4e05f9841959\",\"type\":\"Square\"},\"selection_glyph\":null,\"view\":{\"id\":\"88e4c84d-9eb6-4c83-988e-4e665f270d03\",\"type\":\"CDSView\"}},\"id\":\"bb01a8d4-f01e-4d69-80d9-0d1614e37f79\",\"type\":\"GlyphRenderer\"},{\"attributes\":{\"line_alpha\":0.6,\"line_color\":\"#984ea3\",\"line_width\":3,\"x\":{\"field\":\"x\"},\"y\":{\"field\":\"y\"}},\"id\":\"a19c770d-97f7-4744-86af-f0410a3324f1\",\"type\":\"Line\"},{\"attributes\":{},\"id\":\"f2687151-59cd-4855-8775-03cd092de5af\",\"type\":\"UnionRenderers\"},{\"attributes\":{\"children\":[{\"id\":\"c0827062-a014-4c8b-9ca9-107f9065c1a4\",\"type\":\"ToolbarBox\"},{\"id\":\"e05acf18-f998-4855-b943-7ee000c9a2bc\",\"type\":\"Column\"}]},\"id\":\"b332271f-332e-4c0d-801d-57f5ee3d1a8a\",\"type\":\"Column\"},{\"attributes\":{\"items\":[{\"id\":\"c21f0536-69c9-413a-a835-2d90a6e29bcb\",\"type\":\"LegendItem\"},{\"id\":\"7bb830f0-2778-489b-9bb9-8d7f24a91fb6\",\"type\":\"LegendItem\"},{\"id\":\"a9a72cae-1724-4195-a013-ae5c0f64306f\",\"type\":\"LegendItem\"}],\"label_text_font_size\":{\"value\":\"8pt\"},\"location\":[10,-30],\"plot\":{\"id\":\"b18a8b71-4d1c-4403-914b-156b7bf9551e\",\"subtype\":\"Figure\",\"type\":\"Plot\"}},\"id\":\"5eedade8-1cdf-4eb4-95db-0e5ba98735a9\",\"type\":\"Legend\"},{\"attributes\":{\"callback\":null,\"end\":0.01,\"start\":1020},\"id\":\"61fbd40a-7b8b-4b1e-904e-7dc5a6419a20\",\"type\":\"Range1d\"},{\"attributes\":{\"tools\":[{\"id\":\"67ba4015-c256-4f63-a3b0-b48885139887\",\"type\":\"PanTool\"},{\"id\":\"f140a88a-1917-4704-80b1-709ec942753a\",\"type\":\"WheelZoomTool\"},{\"id\":\"baf031dc-b0ce-46f5-94d3-0f20d6fa21ef\",\"type\":\"BoxZoomTool\"},{\"id\":\"41c26263-3e25-4841-bf42-b25d1d839f00\",\"type\":\"SaveTool\"},{\"id\":\"7769d5c4-e4e3-45fe-9f7c-7dca5dda99d3\",\"type\":\"ResetTool\"},{\"id\":\"0ffd6bf4-a23a-49ca-9193-a9b71fc616ca\",\"type\":\"HelpTool\"},{\"id\":\"405d1894-67eb-4f2f-99ee-c9a9873b940f\",\"type\":\"PanTool\"},{\"id\":\"88b957a3-8ecf-4f5a-b15c-ee85fddb44e7\",\"type\":\"WheelZoomTool\"},{\"id\":\"56f74813-273b-4428-aaa4-d49f550a27bb\",\"type\":\"BoxZoomTool\"},{\"id\":\"be2c8716-082f-48a3-a712-630bebe1b953\",\"type\":\"SaveTool\"},{\"id\":\"2dc2da2a-67ba-4a3b-a341-357efd216d37\",\"type\":\"ResetTool\"},{\"id\":\"ccb3c72e-31dc-4e51-a922-6624ec4b25de\",\"type\":\"HelpTool\"}]},\"id\":\"33a03c92-c665-4253-80fb-926430711617\",\"type\":\"ProxyToolbar\"},{\"attributes\":{\"toolbar\":{\"id\":\"33a03c92-c665-4253-80fb-926430711617\",\"type\":\"ProxyToolbar\"},\"toolbar_location\":\"above\"},\"id\":\"c0827062-a014-4c8b-9ca9-107f9065c1a4\",\"type\":\"ToolbarBox\"}],\"root_ids\":[\"b332271f-332e-4c0d-801d-57f5ee3d1a8a\"]},\"title\":\"Bokeh Application\",\"version\":\"0.12.16\"}};\n",
       "  var render_items = [{\"docid\":\"4673c052-ca0e-4f2c-b3b8-084adfed230d\",\"elementid\":\"fd2ad1bd-7869-4c5d-bf3c-7af7e3a87adc\",\"modelid\":\"b332271f-332e-4c0d-801d-57f5ee3d1a8a\"}];\n",
       "  root.Bokeh.embed.embed_items_notebook(docs_json, render_items);\n",
       "\n",
       "  }\n",
       "  if (root.Bokeh !== undefined) {\n",
       "    embed_document(root);\n",
       "  } else {\n",
       "    var attempts = 0;\n",
       "    var timer = setInterval(function(root) {\n",
       "      if (root.Bokeh !== undefined) {\n",
       "        embed_document(root);\n",
       "        clearInterval(timer);\n",
       "      }\n",
       "      attempts++;\n",
       "      if (attempts > 100) {\n",
       "        console.log(\"Bokeh: ERROR: Unable to run BokehJS code because BokehJS library is missing\")\n",
       "        clearInterval(timer);\n",
       "      }\n",
       "    }, 10, root)\n",
       "  }\n",
       "})(window);"
      ],
      "application/vnd.bokehjs_exec.v0+json": ""
     },
     "metadata": {
      "application/vnd.bokehjs_exec.v0+json": {
       "id": "b332271f-332e-4c0d-801d-57f5ee3d1a8a"
      }
     },
     "output_type": "display_data"
    },
    {
     "name": "stdout",
     "output_type": "stream",
     "text": [
      "FIGURE. Cooling rate profiles.\n"
     ]
    },
    {
     "data": {
      "text/html": [
       "<a id=\"Flux_Comparison\"></a>"
      ],
      "text/plain": [
       "<IPython.core.display.HTML object>"
      ]
     },
     "metadata": {},
     "output_type": "display_data"
    },
    {
     "data": {
      "text/markdown": [
       "# Flux Comparison"
      ],
      "text/plain": [
       "<IPython.core.display.Markdown object>"
      ]
     },
     "metadata": {},
     "output_type": "display_data"
    },
    {
     "data": {
      "text/html": [
       "<div>\n",
       "<style scoped>\n",
       "    .dataframe tbody tr th:only-of-type {\n",
       "        vertical-align: middle;\n",
       "    }\n",
       "\n",
       "    .dataframe tbody tr th {\n",
       "        vertical-align: top;\n",
       "    }\n",
       "\n",
       "    .dataframe thead th {\n",
       "        text-align: right;\n",
       "    }\n",
       "</style>\n",
       "<table border=\"1\" class=\"dataframe\">\n",
       "  <thead>\n",
       "    <tr style=\"text-align: right;\">\n",
       "      <th></th>\n",
       "      <th></th>\n",
       "      <th>flug</th>\n",
       "      <th>fldg</th>\n",
       "      <th>fnetg</th>\n",
       "    </tr>\n",
       "    <tr>\n",
       "      <th>pressure</th>\n",
       "      <th>level</th>\n",
       "      <th></th>\n",
       "      <th></th>\n",
       "      <th></th>\n",
       "    </tr>\n",
       "  </thead>\n",
       "  <tbody>\n",
       "    <tr>\n",
       "      <th>0.0000</th>\n",
       "      <th>1</th>\n",
       "      <td>-25.631842</td>\n",
       "      <td>0.000000</td>\n",
       "      <td>-25.631842</td>\n",
       "    </tr>\n",
       "    <tr>\n",
       "      <th>1.0685</th>\n",
       "      <th>24</th>\n",
       "      <td>-25.631990</td>\n",
       "      <td>0.000403</td>\n",
       "      <td>-25.631587</td>\n",
       "    </tr>\n",
       "    <tr>\n",
       "      <th>1013.0000</th>\n",
       "      <th>76</th>\n",
       "      <td>-26.065205</td>\n",
       "      <td>0.461378</td>\n",
       "      <td>-25.603827</td>\n",
       "    </tr>\n",
       "  </tbody>\n",
       "</table>\n",
       "</div>"
      ],
      "text/plain": [
       "                      flug      fldg      fnetg\n",
       "pressure  level                                \n",
       "0.0000    1     -25.631842  0.000000 -25.631842\n",
       "1.0685    24    -25.631990  0.000403 -25.631587\n",
       "1013.0000 76    -26.065205  0.461378 -25.603827"
      ]
     },
     "metadata": {},
     "output_type": "display_data"
    },
    {
     "name": "stdout",
     "output_type": "stream",
     "text": [
      "Table. Fluxes. CRD\n"
     ]
    },
    {
     "data": {
      "text/html": [
       "<div>\n",
       "<style scoped>\n",
       "    .dataframe tbody tr th:only-of-type {\n",
       "        vertical-align: middle;\n",
       "    }\n",
       "\n",
       "    .dataframe tbody tr th {\n",
       "        vertical-align: top;\n",
       "    }\n",
       "\n",
       "    .dataframe thead th {\n",
       "        text-align: right;\n",
       "    }\n",
       "</style>\n",
       "<table border=\"1\" class=\"dataframe\">\n",
       "  <thead>\n",
       "    <tr style=\"text-align: right;\">\n",
       "      <th></th>\n",
       "      <th></th>\n",
       "      <th>flug</th>\n",
       "      <th>fldg</th>\n",
       "      <th>fnetg</th>\n",
       "    </tr>\n",
       "    <tr>\n",
       "      <th>pressure</th>\n",
       "      <th>level</th>\n",
       "      <th></th>\n",
       "      <th></th>\n",
       "      <th></th>\n",
       "    </tr>\n",
       "  </thead>\n",
       "  <tbody>\n",
       "    <tr>\n",
       "      <th>0.0000</th>\n",
       "      <th>1</th>\n",
       "      <td>-25.590565</td>\n",
       "      <td>0.000000</td>\n",
       "      <td>-25.590565</td>\n",
       "    </tr>\n",
       "    <tr>\n",
       "      <th>1.0685</th>\n",
       "      <th>24</th>\n",
       "      <td>-25.591078</td>\n",
       "      <td>0.000387</td>\n",
       "      <td>-25.590691</td>\n",
       "    </tr>\n",
       "    <tr>\n",
       "      <th>1013.0000</th>\n",
       "      <th>76</th>\n",
       "      <td>-26.065205</td>\n",
       "      <td>0.475042</td>\n",
       "      <td>-25.590163</td>\n",
       "    </tr>\n",
       "  </tbody>\n",
       "</table>\n",
       "</div>"
      ],
      "text/plain": [
       "                      flug      fldg      fnetg\n",
       "pressure  level                                \n",
       "0.0000    1     -25.590565  0.000000 -25.590565\n",
       "1.0685    24    -25.591078  0.000387 -25.590691\n",
       "1013.0000 76    -26.065205  0.475042 -25.590163"
      ]
     },
     "metadata": {},
     "output_type": "display_data"
    },
    {
     "name": "stdout",
     "output_type": "stream",
     "text": [
      "Table. Fluxes. WGT igg=10 wgt_flux=1\n"
     ]
    },
    {
     "data": {
      "text/html": [
       "<div>\n",
       "<style scoped>\n",
       "    .dataframe tbody tr th:only-of-type {\n",
       "        vertical-align: middle;\n",
       "    }\n",
       "\n",
       "    .dataframe tbody tr th {\n",
       "        vertical-align: top;\n",
       "    }\n",
       "\n",
       "    .dataframe thead th {\n",
       "        text-align: right;\n",
       "    }\n",
       "</style>\n",
       "<table border=\"1\" class=\"dataframe\">\n",
       "  <thead>\n",
       "    <tr style=\"text-align: right;\">\n",
       "      <th></th>\n",
       "      <th></th>\n",
       "      <th>flug</th>\n",
       "      <th>fldg</th>\n",
       "      <th>fnetg</th>\n",
       "    </tr>\n",
       "    <tr>\n",
       "      <th>pressure</th>\n",
       "      <th>level</th>\n",
       "      <th></th>\n",
       "      <th></th>\n",
       "      <th></th>\n",
       "    </tr>\n",
       "  </thead>\n",
       "  <tbody>\n",
       "    <tr>\n",
       "      <th>1.000000e-08</th>\n",
       "      <th>1</th>\n",
       "      <td>-25.65816</td>\n",
       "      <td>-9.785435e-08</td>\n",
       "      <td>-25.658160</td>\n",
       "    </tr>\n",
       "    <tr>\n",
       "      <th>1.068500e+00</th>\n",
       "      <th>24</th>\n",
       "      <td>-25.65865</td>\n",
       "      <td>3.486682e-04</td>\n",
       "      <td>-25.658302</td>\n",
       "    </tr>\n",
       "    <tr>\n",
       "      <th>1.013000e+03</th>\n",
       "      <th>76</th>\n",
       "      <td>-26.06520</td>\n",
       "      <td>3.936739e-01</td>\n",
       "      <td>-25.671526</td>\n",
       "    </tr>\n",
       "  </tbody>\n",
       "</table>\n",
       "</div>"
      ],
      "text/plain": [
       "                        flug          fldg      fnetg\n",
       "pressure     level                                   \n",
       "1.000000e-08 1     -25.65816 -9.785435e-08 -25.658160\n",
       "1.068500e+00 24    -25.65865  3.486682e-04 -25.658302\n",
       "1.013000e+03 76    -26.06520  3.936739e-01 -25.671526"
      ]
     },
     "metadata": {},
     "output_type": "display_data"
    },
    {
     "name": "stdout",
     "output_type": "stream",
     "text": [
      "Table. Fluxes. CLIRAD\n"
     ]
    },
    {
     "data": {
      "text/html": [
       "<div>\n",
       "<style scoped>\n",
       "    .dataframe tbody tr th:only-of-type {\n",
       "        vertical-align: middle;\n",
       "    }\n",
       "\n",
       "    .dataframe tbody tr th {\n",
       "        vertical-align: top;\n",
       "    }\n",
       "\n",
       "    .dataframe thead th {\n",
       "        text-align: right;\n",
       "    }\n",
       "</style>\n",
       "<table border=\"1\" class=\"dataframe\">\n",
       "  <thead>\n",
       "    <tr style=\"text-align: right;\">\n",
       "      <th></th>\n",
       "      <th></th>\n",
       "      <th>flug</th>\n",
       "      <th>fldg</th>\n",
       "      <th>fnetg</th>\n",
       "    </tr>\n",
       "    <tr>\n",
       "      <th>pressure</th>\n",
       "      <th>level</th>\n",
       "      <th></th>\n",
       "      <th></th>\n",
       "      <th></th>\n",
       "    </tr>\n",
       "  </thead>\n",
       "  <tbody>\n",
       "    <tr>\n",
       "      <th>0.0000</th>\n",
       "      <th>1</th>\n",
       "      <td>0.041277</td>\n",
       "      <td>0.000000</td>\n",
       "      <td>0.041277</td>\n",
       "    </tr>\n",
       "    <tr>\n",
       "      <th>1.0685</th>\n",
       "      <th>24</th>\n",
       "      <td>0.040912</td>\n",
       "      <td>-0.000015</td>\n",
       "      <td>0.040896</td>\n",
       "    </tr>\n",
       "    <tr>\n",
       "      <th>1013.0000</th>\n",
       "      <th>76</th>\n",
       "      <td>0.000000</td>\n",
       "      <td>0.013664</td>\n",
       "      <td>0.013664</td>\n",
       "    </tr>\n",
       "  </tbody>\n",
       "</table>\n",
       "</div>"
      ],
      "text/plain": [
       "                     flug      fldg     fnetg\n",
       "pressure  level                              \n",
       "0.0000    1      0.041277  0.000000  0.041277\n",
       "1.0685    24     0.040912 -0.000015  0.040896\n",
       "1013.0000 76     0.000000  0.013664  0.013664"
      ]
     },
     "metadata": {},
     "output_type": "display_data"
    },
    {
     "name": "stdout",
     "output_type": "stream",
     "text": [
      "Table. Fluxes. (WGT igg=10 wgt_flux=1) - (CRD)\n"
     ]
    },
    {
     "data": {
      "text/html": [
       "<div>\n",
       "<style scoped>\n",
       "    .dataframe tbody tr th:only-of-type {\n",
       "        vertical-align: middle;\n",
       "    }\n",
       "\n",
       "    .dataframe tbody tr th {\n",
       "        vertical-align: top;\n",
       "    }\n",
       "\n",
       "    .dataframe thead th {\n",
       "        text-align: right;\n",
       "    }\n",
       "</style>\n",
       "<table border=\"1\" class=\"dataframe\">\n",
       "  <thead>\n",
       "    <tr style=\"text-align: right;\">\n",
       "      <th></th>\n",
       "      <th></th>\n",
       "      <th>flug</th>\n",
       "      <th>fldg</th>\n",
       "      <th>fnetg</th>\n",
       "    </tr>\n",
       "    <tr>\n",
       "      <th>pressure</th>\n",
       "      <th>level</th>\n",
       "      <th></th>\n",
       "      <th></th>\n",
       "      <th></th>\n",
       "    </tr>\n",
       "  </thead>\n",
       "  <tbody>\n",
       "    <tr>\n",
       "      <th>0.0000</th>\n",
       "      <th>1</th>\n",
       "      <td>-0.026318</td>\n",
       "      <td>-9.785435e-08</td>\n",
       "      <td>-0.026318</td>\n",
       "    </tr>\n",
       "    <tr>\n",
       "      <th>1.0685</th>\n",
       "      <th>24</th>\n",
       "      <td>-0.026660</td>\n",
       "      <td>-5.396892e-05</td>\n",
       "      <td>-0.026715</td>\n",
       "    </tr>\n",
       "    <tr>\n",
       "      <th>1013.0000</th>\n",
       "      <th>76</th>\n",
       "      <td>0.000005</td>\n",
       "      <td>-6.770408e-02</td>\n",
       "      <td>-0.067699</td>\n",
       "    </tr>\n",
       "  </tbody>\n",
       "</table>\n",
       "</div>"
      ],
      "text/plain": [
       "                     flug          fldg     fnetg\n",
       "pressure  level                                  \n",
       "0.0000    1     -0.026318 -9.785435e-08 -0.026318\n",
       "1.0685    24    -0.026660 -5.396892e-05 -0.026715\n",
       "1013.0000 76     0.000005 -6.770408e-02 -0.067699"
      ]
     },
     "metadata": {},
     "output_type": "display_data"
    },
    {
     "name": "stdout",
     "output_type": "stream",
     "text": [
      "Table. Fluxes. (CLIRAD) - (CRD)\n"
     ]
    },
    {
     "data": {
      "text/html": [
       "<a id=\"Best-fit_Parameters\"></a>"
      ],
      "text/plain": [
       "<IPython.core.display.HTML object>"
      ]
     },
     "metadata": {},
     "output_type": "display_data"
    },
    {
     "data": {
      "text/markdown": [
       "# Best-fit Parameters"
      ],
      "text/plain": [
       "<IPython.core.display.Markdown object>"
      ]
     },
     "metadata": {},
     "output_type": "display_data"
    },
    {
     "name": "stdout",
     "output_type": "stream",
     "text": [
      "Best-fit values for each (gas, band)\n",
      "------------------------------------\n",
      "o n2o band6\n",
      "  atmpro = mls\n",
      "  band = 6\n",
      "  commitnumber = bca49ce\n",
      "  conc = 3.2e-07\n",
      "  dv = 0.005\n",
      "  klin = 0\n",
      "  molecule = n2o\n",
      "  ng_adju = [0]\n",
      "  ng_refs = [1]\n",
      "  nv = 200\n",
      "  option_compute_btable = 0\n",
      "  option_compute_ktable = 1\n",
      "  option_wgt_flux = 1\n",
      "  option_wgt_k = 1\n",
      "  ref_pts = [(500, 250)]\n",
      "  tsfc = 294\n",
      "  vmax = 1215\n",
      "  vmin = 1100\n",
      "  w_diffuse = [(1.66,)]\n",
      "  wgt = [(0.95,)]\n"
     ]
    }
   ],
   "source": [
    "script()"
   ]
  },
  {
   "cell_type": "code",
   "execution_count": 13,
   "metadata": {
    "collapsed": true
   },
   "outputs": [
    {
     "data": {
      "text/html": [
       "<script>\n",
       "code_show=true; \n",
       "function code_toggle() {\n",
       " if (code_show){\n",
       " $('div.input').hide();\n",
       " } else {\n",
       " $('div.input').show();\n",
       " }\n",
       " code_show = !code_show\n",
       "} \n",
       "$( document ).ready(code_toggle);\n",
       "</script>\n",
       "<form action=\"javascript:code_toggle()\"><input type=\"submit\" value=\"Click here to toggle on/off the raw code.\"></form>"
      ],
      "text/plain": [
       "<IPython.core.display.HTML object>"
      ]
     },
     "execution_count": 13,
     "metadata": {},
     "output_type": "execute_result"
    }
   ],
   "source": [
    "display.HTML('''<script>\n",
    "code_show=true; \n",
    "function code_toggle() {\n",
    " if (code_show){\n",
    " $('div.input').hide();\n",
    " } else {\n",
    " $('div.input').show();\n",
    " }\n",
    " code_show = !code_show\n",
    "} \n",
    "$( document ).ready(code_toggle);\n",
    "</script>\n",
    "<form action=\"javascript:code_toggle()\"><input type=\"submit\" value=\"Click here to toggle on/off the raw code.\"></form>''')"
   ]
  }
 ],
 "metadata": {
  "kernelspec": {
   "display_name": "Python 3",
   "language": "python",
   "name": "python3"
  },
  "language_info": {
   "codemirror_mode": {
    "name": "ipython",
    "version": 3
   },
   "file_extension": ".py",
   "mimetype": "text/x-python",
   "name": "python",
   "nbconvert_exporter": "python",
   "pygments_lexer": "ipython3",
   "version": "3.6.1"
  }
 },
 "nbformat": 4,
 "nbformat_minor": 2
}
