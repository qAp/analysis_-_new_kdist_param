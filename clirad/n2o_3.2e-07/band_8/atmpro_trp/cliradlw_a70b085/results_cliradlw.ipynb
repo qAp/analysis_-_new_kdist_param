{
 "cells": [
  {
   "cell_type": "code",
   "execution_count": 1,
   "metadata": {
    "collapsed": true
   },
   "outputs": [],
   "source": [
    "%matplotlib inline\n",
    "import os\n",
    "import re\n",
    "import io\n",
    "import itertools\n",
    "import pprint\n",
    "\n",
    "from bokeh.io import output_notebook, show\n",
    "from bokeh.layouts import gridplot\n",
    "from bokeh.plotting import figure\n",
    "from bokeh.models import Range1d, Legend\n",
    "from bokeh.palettes import all_palettes\n",
    "\n",
    "import matplotlib\n",
    "import matplotlib.pyplot as plt\n",
    "import numpy as np\n",
    "import pandas as pd\n",
    "import xarray as xr\n",
    "\n",
    "import climatools.lblnew.bestfit_params as bestfits\n",
    "from climatools.lblnew import setup_bestfit, setup_overlap\n",
    "import climatools.lblnew.pipeline as pipe_lblnew\n",
    "import climatools.cliradlw.setup as setup_cliradlw\n",
    "import climatools.cliradlw.pipeline as pipe_cliradlw\n",
    "\n",
    "import climatools.html.html as climahtml\n",
    "from climatools.lblnew.dataio import *\n",
    "from climatools.plot.plot import *\n",
    "\n",
    "\n",
    "import IPython.display as display"
   ]
  },
  {
   "cell_type": "code",
   "execution_count": 2,
   "metadata": {
    "collapsed": true
   },
   "outputs": [],
   "source": [
    "%run param.py"
   ]
  },
  {
   "cell_type": "code",
   "execution_count": 3,
   "metadata": {
    "collapsed": true
   },
   "outputs": [],
   "source": [
    "def load_output_file(path_csv):\n",
    "    '''\n",
    "    Load lblnew output .csv file to xarray.Dataset\n",
    "    \n",
    "    Parameters\n",
    "    ----------\n",
    "    path_csv: str\n",
    "              Path to the .csv file to be loaded.\n",
    "    ds: xarray.Dataset\n",
    "        Data in the input file in the form of an xarray.Dataset.\n",
    "    '''\n",
    "    toindex = ['band', 'pressure', 'igg', 'g']    \n",
    "    df = pd.read_csv(path_csv, sep=r'\\s+')\n",
    "    df = df.set_index([i for i in toindex if i in df.columns])\n",
    "    df = df.rename(columns={'sfu': 'flug',\n",
    "                            'sfd': 'fldg',\n",
    "                            'fnet': 'fnetg',\n",
    "                            'coolr': 'coolrg'})\n",
    "    ds = xr.Dataset.from_dataframe(df)\n",
    "\n",
    "    for l in ('level', 'layer'):\n",
    "        if l in ds.data_vars:\n",
    "            if len(ds[l].dims) > 1:\n",
    "                surface = {d: 0 for d in ds.dims if d != 'pressure'}\n",
    "                coord_level = ds[l][surface]\n",
    "                ds.coords[l] = ('pressure', coord_level)\n",
    "            else:\n",
    "                ds.coords[l] = ('pressure', ds[l])\n",
    "    \n",
    "    return ds"
   ]
  },
  {
   "cell_type": "code",
   "execution_count": 4,
   "metadata": {
    "collapsed": true
   },
   "outputs": [],
   "source": [
    "def lblnew_setup(param=None):\n",
    "    if 'ng_refs' in param:\n",
    "        return {'setup': setup_bestfit,\n",
    "                'fname_flux_crd': 'output_flux.dat',\n",
    "                'fname_cool_crd': 'output_coolr.dat',\n",
    "                'fname_flux_wgt': 'output_wfluxg.dat',\n",
    "                'fname_cool_wgt': 'output_wcoolrg.dat'}\n",
    "    else:\n",
    "        return {'setup': setup_overlap,\n",
    "                'fname_flux_crd': 'output_flux.dat',\n",
    "                'fname_cool_crd': 'output_coolr.dat',\n",
    "                'fname_flux_wgt': 'output_wflux.dat',\n",
    "                'fname_cool_wgt': 'output_wcoolr.dat'}\n",
    "\n",
    "    \n",
    "def load_lblnew_data(param):\n",
    "    \n",
    "    fname_dsname = [('fname_flux_crd', 'ds_flux_crd'),\n",
    "                    ('fname_cool_crd', 'ds_cool_crd'),\n",
    "                    ('fname_flux_wgt', 'ds_flux_wgt'),\n",
    "                    ('fname_cool_wgt', 'ds_cool_wgt')]\n",
    "    \n",
    "    d = lblnew_setup(param)\n",
    "    dir_fortran = pipe_lblnew.get_dir_case(param, setup=d['setup'])\n",
    "    \n",
    "    data_dict = {}\n",
    "    for fname, dsname in fname_dsname:\n",
    "        fpath = os.path.join(dir_fortran, d[fname])\n",
    "        data_dict[dsname] = load_output_file(fpath)\n",
    "    return data_dict\n",
    "    \n",
    "\n",
    "    \n",
    "    "
   ]
  },
  {
   "cell_type": "code",
   "execution_count": 5,
   "metadata": {
    "collapsed": true
   },
   "outputs": [],
   "source": [
    "d = load_lblnew_data(PARAM_LBLNEW)\n",
    "\n",
    "DS_FLUX_CRD = d['ds_flux_crd']\n",
    "DS_COOL_CRD = d['ds_cool_crd']\n",
    "DS_FLUX_WGT = d['ds_flux_wgt']\n",
    "DS_COOL_WGT = d['ds_cool_wgt']"
   ]
  },
  {
   "cell_type": "code",
   "execution_count": 6,
   "metadata": {
    "collapsed": true
   },
   "outputs": [],
   "source": [
    "DIR_FORTRAN = pipe_cliradlw.get_fortran_dir(PARAM, \n",
    "                                            setup=setup_cliradlw)\n",
    "\n",
    "PATH_FLUX = os.path.join(DIR_FORTRAN, 'output_flux.dat')\n",
    "PATH_COOL = os.path.join(DIR_FORTRAN, 'output_coolr.dat')\n",
    "\n",
    "DS_FLUX = load_output_file(PATH_FLUX)\n",
    "DS_COOL = load_output_file(PATH_COOL)"
   ]
  },
  {
   "cell_type": "code",
   "execution_count": 7,
   "metadata": {
    "collapsed": true
   },
   "outputs": [
    {
     "data": {
      "text/html": [
       "\n",
       "    <div class=\"bk-root\">\n",
       "        <a href=\"https://bokeh.pydata.org\" target=\"_blank\" class=\"bk-logo bk-logo-small bk-logo-notebook\"></a>\n",
       "        <span id=\"aba1d31a-c8b5-4b36-b1c3-c8a083f61692\">Loading BokehJS ...</span>\n",
       "    </div>"
      ]
     },
     "metadata": {},
     "output_type": "display_data"
    },
    {
     "data": {
      "application/javascript": [
       "\n",
       "(function(root) {\n",
       "  function now() {\n",
       "    return new Date();\n",
       "  }\n",
       "\n",
       "  var force = true;\n",
       "\n",
       "  if (typeof (root._bokeh_onload_callbacks) === \"undefined\" || force === true) {\n",
       "    root._bokeh_onload_callbacks = [];\n",
       "    root._bokeh_is_loading = undefined;\n",
       "  }\n",
       "\n",
       "  var JS_MIME_TYPE = 'application/javascript';\n",
       "  var HTML_MIME_TYPE = 'text/html';\n",
       "  var EXEC_MIME_TYPE = 'application/vnd.bokehjs_exec.v0+json';\n",
       "  var CLASS_NAME = 'output_bokeh rendered_html';\n",
       "\n",
       "  /**\n",
       "   * Render data to the DOM node\n",
       "   */\n",
       "  function render(props, node) {\n",
       "    var script = document.createElement(\"script\");\n",
       "    node.appendChild(script);\n",
       "  }\n",
       "\n",
       "  /**\n",
       "   * Handle when an output is cleared or removed\n",
       "   */\n",
       "  function handleClearOutput(event, handle) {\n",
       "    var cell = handle.cell;\n",
       "\n",
       "    var id = cell.output_area._bokeh_element_id;\n",
       "    var server_id = cell.output_area._bokeh_server_id;\n",
       "    // Clean up Bokeh references\n",
       "    if (id !== undefined) {\n",
       "      Bokeh.index[id].model.document.clear();\n",
       "      delete Bokeh.index[id];\n",
       "    }\n",
       "\n",
       "    if (server_id !== undefined) {\n",
       "      // Clean up Bokeh references\n",
       "      var cmd = \"from bokeh.io.state import curstate; print(curstate().uuid_to_server['\" + server_id + \"'].get_sessions()[0].document.roots[0]._id)\";\n",
       "      cell.notebook.kernel.execute(cmd, {\n",
       "        iopub: {\n",
       "          output: function(msg) {\n",
       "            var element_id = msg.content.text.trim();\n",
       "            Bokeh.index[element_id].model.document.clear();\n",
       "            delete Bokeh.index[element_id];\n",
       "          }\n",
       "        }\n",
       "      });\n",
       "      // Destroy server and session\n",
       "      var cmd = \"import bokeh.io.notebook as ion; ion.destroy_server('\" + server_id + \"')\";\n",
       "      cell.notebook.kernel.execute(cmd);\n",
       "    }\n",
       "  }\n",
       "\n",
       "  /**\n",
       "   * Handle when a new output is added\n",
       "   */\n",
       "  function handleAddOutput(event, handle) {\n",
       "    var output_area = handle.output_area;\n",
       "    var output = handle.output;\n",
       "\n",
       "    // limit handleAddOutput to display_data with EXEC_MIME_TYPE content only\n",
       "    if ((output.output_type != \"display_data\") || (!output.data.hasOwnProperty(EXEC_MIME_TYPE))) {\n",
       "      return\n",
       "    }\n",
       "\n",
       "    var toinsert = output_area.element.find(\".\" + CLASS_NAME.split(' ')[0]);\n",
       "\n",
       "    if (output.metadata[EXEC_MIME_TYPE][\"id\"] !== undefined) {\n",
       "      toinsert[toinsert.length - 1].firstChild.textContent = output.data[JS_MIME_TYPE];\n",
       "      // store reference to embed id on output_area\n",
       "      output_area._bokeh_element_id = output.metadata[EXEC_MIME_TYPE][\"id\"];\n",
       "    }\n",
       "    if (output.metadata[EXEC_MIME_TYPE][\"server_id\"] !== undefined) {\n",
       "      var bk_div = document.createElement(\"div\");\n",
       "      bk_div.innerHTML = output.data[HTML_MIME_TYPE];\n",
       "      var script_attrs = bk_div.children[0].attributes;\n",
       "      for (var i = 0; i < script_attrs.length; i++) {\n",
       "        toinsert[toinsert.length - 1].firstChild.setAttribute(script_attrs[i].name, script_attrs[i].value);\n",
       "      }\n",
       "      // store reference to server id on output_area\n",
       "      output_area._bokeh_server_id = output.metadata[EXEC_MIME_TYPE][\"server_id\"];\n",
       "    }\n",
       "  }\n",
       "\n",
       "  function register_renderer(events, OutputArea) {\n",
       "\n",
       "    function append_mime(data, metadata, element) {\n",
       "      // create a DOM node to render to\n",
       "      var toinsert = this.create_output_subarea(\n",
       "        metadata,\n",
       "        CLASS_NAME,\n",
       "        EXEC_MIME_TYPE\n",
       "      );\n",
       "      this.keyboard_manager.register_events(toinsert);\n",
       "      // Render to node\n",
       "      var props = {data: data, metadata: metadata[EXEC_MIME_TYPE]};\n",
       "      render(props, toinsert[toinsert.length - 1]);\n",
       "      element.append(toinsert);\n",
       "      return toinsert\n",
       "    }\n",
       "\n",
       "    /* Handle when an output is cleared or removed */\n",
       "    events.on('clear_output.CodeCell', handleClearOutput);\n",
       "    events.on('delete.Cell', handleClearOutput);\n",
       "\n",
       "    /* Handle when a new output is added */\n",
       "    events.on('output_added.OutputArea', handleAddOutput);\n",
       "\n",
       "    /**\n",
       "     * Register the mime type and append_mime function with output_area\n",
       "     */\n",
       "    OutputArea.prototype.register_mime_type(EXEC_MIME_TYPE, append_mime, {\n",
       "      /* Is output safe? */\n",
       "      safe: true,\n",
       "      /* Index of renderer in `output_area.display_order` */\n",
       "      index: 0\n",
       "    });\n",
       "  }\n",
       "\n",
       "  // register the mime type if in Jupyter Notebook environment and previously unregistered\n",
       "  if (root.Jupyter !== undefined) {\n",
       "    var events = require('base/js/events');\n",
       "    var OutputArea = require('notebook/js/outputarea').OutputArea;\n",
       "\n",
       "    if (OutputArea.prototype.mime_types().indexOf(EXEC_MIME_TYPE) == -1) {\n",
       "      register_renderer(events, OutputArea);\n",
       "    }\n",
       "  }\n",
       "\n",
       "  \n",
       "  if (typeof (root._bokeh_timeout) === \"undefined\" || force === true) {\n",
       "    root._bokeh_timeout = Date.now() + 5000;\n",
       "    root._bokeh_failed_load = false;\n",
       "  }\n",
       "\n",
       "  var NB_LOAD_WARNING = {'data': {'text/html':\n",
       "     \"<div style='background-color: #fdd'>\\n\"+\n",
       "     \"<p>\\n\"+\n",
       "     \"BokehJS does not appear to have successfully loaded. If loading BokehJS from CDN, this \\n\"+\n",
       "     \"may be due to a slow or bad network connection. Possible fixes:\\n\"+\n",
       "     \"</p>\\n\"+\n",
       "     \"<ul>\\n\"+\n",
       "     \"<li>re-rerun `output_notebook()` to attempt to load from CDN again, or</li>\\n\"+\n",
       "     \"<li>use INLINE resources instead, as so:</li>\\n\"+\n",
       "     \"</ul>\\n\"+\n",
       "     \"<code>\\n\"+\n",
       "     \"from bokeh.resources import INLINE\\n\"+\n",
       "     \"output_notebook(resources=INLINE)\\n\"+\n",
       "     \"</code>\\n\"+\n",
       "     \"</div>\"}};\n",
       "\n",
       "  function display_loaded() {\n",
       "    var el = document.getElementById(\"aba1d31a-c8b5-4b36-b1c3-c8a083f61692\");\n",
       "    if (el != null) {\n",
       "      el.textContent = \"BokehJS is loading...\";\n",
       "    }\n",
       "    if (root.Bokeh !== undefined) {\n",
       "      if (el != null) {\n",
       "        el.textContent = \"BokehJS \" + root.Bokeh.version + \" successfully loaded.\";\n",
       "      }\n",
       "    } else if (Date.now() < root._bokeh_timeout) {\n",
       "      setTimeout(display_loaded, 100)\n",
       "    }\n",
       "  }\n",
       "\n",
       "\n",
       "  function run_callbacks() {\n",
       "    try {\n",
       "      root._bokeh_onload_callbacks.forEach(function(callback) { callback() });\n",
       "    }\n",
       "    finally {\n",
       "      delete root._bokeh_onload_callbacks\n",
       "    }\n",
       "    console.info(\"Bokeh: all callbacks have finished\");\n",
       "  }\n",
       "\n",
       "  function load_libs(js_urls, callback) {\n",
       "    root._bokeh_onload_callbacks.push(callback);\n",
       "    if (root._bokeh_is_loading > 0) {\n",
       "      console.log(\"Bokeh: BokehJS is being loaded, scheduling callback at\", now());\n",
       "      return null;\n",
       "    }\n",
       "    if (js_urls == null || js_urls.length === 0) {\n",
       "      run_callbacks();\n",
       "      return null;\n",
       "    }\n",
       "    console.log(\"Bokeh: BokehJS not loaded, scheduling load and callback at\", now());\n",
       "    root._bokeh_is_loading = js_urls.length;\n",
       "    for (var i = 0; i < js_urls.length; i++) {\n",
       "      var url = js_urls[i];\n",
       "      var s = document.createElement('script');\n",
       "      s.src = url;\n",
       "      s.async = false;\n",
       "      s.onreadystatechange = s.onload = function() {\n",
       "        root._bokeh_is_loading--;\n",
       "        if (root._bokeh_is_loading === 0) {\n",
       "          console.log(\"Bokeh: all BokehJS libraries loaded\");\n",
       "          run_callbacks()\n",
       "        }\n",
       "      };\n",
       "      s.onerror = function() {\n",
       "        console.warn(\"failed to load library \" + url);\n",
       "      };\n",
       "      console.log(\"Bokeh: injecting script tag for BokehJS library: \", url);\n",
       "      document.getElementsByTagName(\"head\")[0].appendChild(s);\n",
       "    }\n",
       "  };var element = document.getElementById(\"aba1d31a-c8b5-4b36-b1c3-c8a083f61692\");\n",
       "  if (element == null) {\n",
       "    console.log(\"Bokeh: ERROR: autoload.js configured with elementid 'aba1d31a-c8b5-4b36-b1c3-c8a083f61692' but no matching script tag was found. \")\n",
       "    return false;\n",
       "  }\n",
       "\n",
       "  var js_urls = [\"https://cdn.pydata.org/bokeh/release/bokeh-0.12.16.min.js\", \"https://cdn.pydata.org/bokeh/release/bokeh-widgets-0.12.16.min.js\", \"https://cdn.pydata.org/bokeh/release/bokeh-tables-0.12.16.min.js\", \"https://cdn.pydata.org/bokeh/release/bokeh-gl-0.12.16.min.js\"];\n",
       "\n",
       "  var inline_js = [\n",
       "    function(Bokeh) {\n",
       "      Bokeh.set_log_level(\"info\");\n",
       "    },\n",
       "    \n",
       "    function(Bokeh) {\n",
       "      \n",
       "    },\n",
       "    function(Bokeh) {\n",
       "      console.log(\"Bokeh: injecting CSS: https://cdn.pydata.org/bokeh/release/bokeh-0.12.16.min.css\");\n",
       "      Bokeh.embed.inject_css(\"https://cdn.pydata.org/bokeh/release/bokeh-0.12.16.min.css\");\n",
       "      console.log(\"Bokeh: injecting CSS: https://cdn.pydata.org/bokeh/release/bokeh-widgets-0.12.16.min.css\");\n",
       "      Bokeh.embed.inject_css(\"https://cdn.pydata.org/bokeh/release/bokeh-widgets-0.12.16.min.css\");\n",
       "      console.log(\"Bokeh: injecting CSS: https://cdn.pydata.org/bokeh/release/bokeh-tables-0.12.16.min.css\");\n",
       "      Bokeh.embed.inject_css(\"https://cdn.pydata.org/bokeh/release/bokeh-tables-0.12.16.min.css\");\n",
       "    }\n",
       "  ];\n",
       "\n",
       "  function run_inline_js() {\n",
       "    \n",
       "    if ((root.Bokeh !== undefined) || (force === true)) {\n",
       "      for (var i = 0; i < inline_js.length; i++) {\n",
       "        inline_js[i].call(root, root.Bokeh);\n",
       "      }if (force === true) {\n",
       "        display_loaded();\n",
       "      }} else if (Date.now() < root._bokeh_timeout) {\n",
       "      setTimeout(run_inline_js, 100);\n",
       "    } else if (!root._bokeh_failed_load) {\n",
       "      console.log(\"Bokeh: BokehJS failed to load within specified timeout.\");\n",
       "      root._bokeh_failed_load = true;\n",
       "    } else if (force !== true) {\n",
       "      var cell = $(document.getElementById(\"aba1d31a-c8b5-4b36-b1c3-c8a083f61692\")).parents('.cell').data().cell;\n",
       "      cell.output_area.append_execute_result(NB_LOAD_WARNING)\n",
       "    }\n",
       "\n",
       "  }\n",
       "\n",
       "  if (root._bokeh_is_loading === 0) {\n",
       "    console.log(\"Bokeh: BokehJS loaded, going straight to plotting\");\n",
       "    run_inline_js();\n",
       "  } else {\n",
       "    load_libs(js_urls, function() {\n",
       "      console.log(\"Bokeh: BokehJS plotting callback run at\", now());\n",
       "      run_inline_js();\n",
       "    });\n",
       "  }\n",
       "}(window));"
      ],
      "application/vnd.bokehjs_load.v0+json": "\n(function(root) {\n  function now() {\n    return new Date();\n  }\n\n  var force = true;\n\n  if (typeof (root._bokeh_onload_callbacks) === \"undefined\" || force === true) {\n    root._bokeh_onload_callbacks = [];\n    root._bokeh_is_loading = undefined;\n  }\n\n  \n\n  \n  if (typeof (root._bokeh_timeout) === \"undefined\" || force === true) {\n    root._bokeh_timeout = Date.now() + 5000;\n    root._bokeh_failed_load = false;\n  }\n\n  var NB_LOAD_WARNING = {'data': {'text/html':\n     \"<div style='background-color: #fdd'>\\n\"+\n     \"<p>\\n\"+\n     \"BokehJS does not appear to have successfully loaded. If loading BokehJS from CDN, this \\n\"+\n     \"may be due to a slow or bad network connection. Possible fixes:\\n\"+\n     \"</p>\\n\"+\n     \"<ul>\\n\"+\n     \"<li>re-rerun `output_notebook()` to attempt to load from CDN again, or</li>\\n\"+\n     \"<li>use INLINE resources instead, as so:</li>\\n\"+\n     \"</ul>\\n\"+\n     \"<code>\\n\"+\n     \"from bokeh.resources import INLINE\\n\"+\n     \"output_notebook(resources=INLINE)\\n\"+\n     \"</code>\\n\"+\n     \"</div>\"}};\n\n  function display_loaded() {\n    var el = document.getElementById(\"aba1d31a-c8b5-4b36-b1c3-c8a083f61692\");\n    if (el != null) {\n      el.textContent = \"BokehJS is loading...\";\n    }\n    if (root.Bokeh !== undefined) {\n      if (el != null) {\n        el.textContent = \"BokehJS \" + root.Bokeh.version + \" successfully loaded.\";\n      }\n    } else if (Date.now() < root._bokeh_timeout) {\n      setTimeout(display_loaded, 100)\n    }\n  }\n\n\n  function run_callbacks() {\n    try {\n      root._bokeh_onload_callbacks.forEach(function(callback) { callback() });\n    }\n    finally {\n      delete root._bokeh_onload_callbacks\n    }\n    console.info(\"Bokeh: all callbacks have finished\");\n  }\n\n  function load_libs(js_urls, callback) {\n    root._bokeh_onload_callbacks.push(callback);\n    if (root._bokeh_is_loading > 0) {\n      console.log(\"Bokeh: BokehJS is being loaded, scheduling callback at\", now());\n      return null;\n    }\n    if (js_urls == null || js_urls.length === 0) {\n      run_callbacks();\n      return null;\n    }\n    console.log(\"Bokeh: BokehJS not loaded, scheduling load and callback at\", now());\n    root._bokeh_is_loading = js_urls.length;\n    for (var i = 0; i < js_urls.length; i++) {\n      var url = js_urls[i];\n      var s = document.createElement('script');\n      s.src = url;\n      s.async = false;\n      s.onreadystatechange = s.onload = function() {\n        root._bokeh_is_loading--;\n        if (root._bokeh_is_loading === 0) {\n          console.log(\"Bokeh: all BokehJS libraries loaded\");\n          run_callbacks()\n        }\n      };\n      s.onerror = function() {\n        console.warn(\"failed to load library \" + url);\n      };\n      console.log(\"Bokeh: injecting script tag for BokehJS library: \", url);\n      document.getElementsByTagName(\"head\")[0].appendChild(s);\n    }\n  };var element = document.getElementById(\"aba1d31a-c8b5-4b36-b1c3-c8a083f61692\");\n  if (element == null) {\n    console.log(\"Bokeh: ERROR: autoload.js configured with elementid 'aba1d31a-c8b5-4b36-b1c3-c8a083f61692' but no matching script tag was found. \")\n    return false;\n  }\n\n  var js_urls = [\"https://cdn.pydata.org/bokeh/release/bokeh-0.12.16.min.js\", \"https://cdn.pydata.org/bokeh/release/bokeh-widgets-0.12.16.min.js\", \"https://cdn.pydata.org/bokeh/release/bokeh-tables-0.12.16.min.js\", \"https://cdn.pydata.org/bokeh/release/bokeh-gl-0.12.16.min.js\"];\n\n  var inline_js = [\n    function(Bokeh) {\n      Bokeh.set_log_level(\"info\");\n    },\n    \n    function(Bokeh) {\n      \n    },\n    function(Bokeh) {\n      console.log(\"Bokeh: injecting CSS: https://cdn.pydata.org/bokeh/release/bokeh-0.12.16.min.css\");\n      Bokeh.embed.inject_css(\"https://cdn.pydata.org/bokeh/release/bokeh-0.12.16.min.css\");\n      console.log(\"Bokeh: injecting CSS: https://cdn.pydata.org/bokeh/release/bokeh-widgets-0.12.16.min.css\");\n      Bokeh.embed.inject_css(\"https://cdn.pydata.org/bokeh/release/bokeh-widgets-0.12.16.min.css\");\n      console.log(\"Bokeh: injecting CSS: https://cdn.pydata.org/bokeh/release/bokeh-tables-0.12.16.min.css\");\n      Bokeh.embed.inject_css(\"https://cdn.pydata.org/bokeh/release/bokeh-tables-0.12.16.min.css\");\n    }\n  ];\n\n  function run_inline_js() {\n    \n    if ((root.Bokeh !== undefined) || (force === true)) {\n      for (var i = 0; i < inline_js.length; i++) {\n        inline_js[i].call(root, root.Bokeh);\n      }if (force === true) {\n        display_loaded();\n      }} else if (Date.now() < root._bokeh_timeout) {\n      setTimeout(run_inline_js, 100);\n    } else if (!root._bokeh_failed_load) {\n      console.log(\"Bokeh: BokehJS failed to load within specified timeout.\");\n      root._bokeh_failed_load = true;\n    } else if (force !== true) {\n      var cell = $(document.getElementById(\"aba1d31a-c8b5-4b36-b1c3-c8a083f61692\")).parents('.cell').data().cell;\n      cell.output_area.append_execute_result(NB_LOAD_WARNING)\n    }\n\n  }\n\n  if (root._bokeh_is_loading === 0) {\n    console.log(\"Bokeh: BokehJS loaded, going straight to plotting\");\n    run_inline_js();\n  } else {\n    load_libs(js_urls, function() {\n      console.log(\"Bokeh: BokehJS plotting callback run at\", now());\n      run_inline_js();\n    });\n  }\n}(window));"
     },
     "metadata": {},
     "output_type": "display_data"
    }
   ],
   "source": [
    "output_notebook()"
   ]
  },
  {
   "cell_type": "code",
   "execution_count": 8,
   "metadata": {
    "collapsed": true
   },
   "outputs": [],
   "source": [
    "def fmt_cool(ds_in):\n",
    "    ds = ds_in.copy(deep=True)\n",
    "    if 'igg' in ds.dims:\n",
    "        ds = ds.sel(igg=1)\n",
    "\n",
    "    if 'g' in ds.dims:\n",
    "        ds = ds.sum('g')\n",
    "            \n",
    "    if 'band' in ds.dims:\n",
    "        try:\n",
    "            ds = ds.squeeze('band')\n",
    "        except ValueError:\n",
    "            ds = ds.sum('band')\n",
    "                \n",
    "    return ds['coolrg']\n",
    "\n",
    "\n",
    "def pltdata_cooling_1(ds_cool=None,\n",
    "                      ds_cool_crd=None, ds_cool_wgt=None):\n",
    "    \n",
    "\n",
    "\n",
    "    colors = all_palettes['Set1'][4]\n",
    "    data = [{'label': 'CLIRAD `coolr_bands`',\n",
    "             'srs': fmt_cool(ds_cool),\n",
    "             'line_dash': 'dashed', 'line_width': 5,\n",
    "             'color': colors[0], 'alpha': .6},\n",
    "            {'label': 'CRD',\n",
    "             'srs': fmt_cool(ds_cool_crd),\n",
    "             'line_dash': 'solid', 'line_width': 1.5,\n",
    "             'marker': 'circle', 'marker_size': 5,\n",
    "             'color': colors[2], 'alpha': 1,},\n",
    "            {'label': 'WGT igg=10 wgt_flux=2',\n",
    "             'srs': fmt_cool(ds_cool_wgt),\n",
    "             'line_dash': 'solid', 'line_width': 3,\n",
    "             'marker': 'square', 'marker_size': 5,\n",
    "             'color': colors[3], 'alpha': .6}]\n",
    "    return data\n",
    "\n",
    "\n",
    "def nice_xlims(pltdata=None, prange=None):\n",
    "    \n",
    "    def get_slice(srs):\n",
    "        return srs.sel(pressure=slice(*prange))\n",
    "    \n",
    "    srss = [d['srs'] for d in pltdata]\n",
    "    vmin = min([get_slice(srs).min() for srs in srss])\n",
    "    vmax = max([get_slice(srs).max() for srs in srss])\n",
    "    dv = (vmax - vmin) * .01\n",
    "    return float(vmin - dv), float(vmax + dv)\n",
    "    \n",
    "\n",
    "def plt_cooling_bokeh(pltdata=None):\n",
    "    '''\n",
    "    Plot a list of cooling rate profiles using bokeh.\n",
    "    '''\n",
    "    ymin = 1e-2 \n",
    "    ymax = 1020 \n",
    "        \n",
    "    p1 = figure(title=\"Linear pressure scale\", \n",
    "                plot_width=400)        \n",
    "    xmin, xmax = nice_xlims(pltdata, prange=(50, 1050))\n",
    "    for d in pltdata:\n",
    "        if 'marker' in d:\n",
    "            getattr(p1, d['marker'])(d['srs'].values, \n",
    "                    d['srs'].coords['pressure'].values,\n",
    "                    color=d['color'], alpha=.7)\n",
    "        p1.line(d['srs'].values, \n",
    "                d['srs'].coords['pressure'].values,\n",
    "                color=d['color'], alpha=d['alpha'], \n",
    "                line_width=d['line_width'], line_dash=d['line_dash'])\n",
    "    \n",
    "    p1.y_range = Range1d(ymax, ymin)\n",
    "    p1.yaxis.axis_label = 'pressure [mb]'   \n",
    "    p1.x_range = Range1d(xmin, xmax)\n",
    "    p1.xaxis.axis_label = 'cooling rate [K/day]'\n",
    "            \n",
    "    p2 = figure(title='Log pressure scale', y_axis_type='log',\n",
    "                plot_width=560)\n",
    "    xmin, xmax = nice_xlims(pltdata, prange=(.01, 200))\n",
    "    \n",
    "    rs = []\n",
    "    for d in pltdata:\n",
    "        rd = []\n",
    "        if 'marker' in d:\n",
    "            r_mark = getattr(p2, d['marker'])(d['srs'].values, \n",
    "                        d['srs'].coords['pressure'].values,\n",
    "                        color=d['color'], alpha=.7)\n",
    "            rd.append(r_mark)\n",
    "        r_line = p2.line(d['srs'].values, \n",
    "                    d['srs'].coords['pressure'].values,\n",
    "                    color=d['color'], alpha=d['alpha'], \n",
    "                    line_width=d['line_width'], line_dash=d['line_dash'])\n",
    "        rd.append(r_line)\n",
    "      \n",
    "        rs.append(rd)\n",
    "        \n",
    "    p2.y_range = Range1d(ymax, ymin)  \n",
    "    p2.yaxis.axis_label = 'pressure [mb]'\n",
    "    \n",
    "    p2.x_range = Range1d(xmin, xmax)\n",
    "    p2.xaxis.axis_label = 'cooling rate [K/day]'\n",
    "    \n",
    "    items = [(d['label'], r) for r, d in zip(rs, pltdata)]\n",
    "    legend = Legend(items=items, location=(10, -30))\n",
    "    legend.label_text_font_size = '8pt'\n",
    "    \n",
    "    p2.add_layout(legend, 'right')  \n",
    "    \n",
    "    show(gridplot(p1, p2, ncols=2, plot_height=500))\n",
    "    \n",
    "\n",
    "def script_plt_cooling():\n",
    "    pltdata = pltdata_cooling_1(\n",
    "        ds_cool=DS_COOL,\n",
    "        ds_cool_crd=DS_COOL_CRD,\n",
    "        ds_cool_wgt=DS_COOL_WGT)\n",
    "    plt_cooling_bokeh(pltdata=pltdata)\n",
    "    print('''FIGURE. Cooling rate profiles.''')"
   ]
  },
  {
   "cell_type": "code",
   "execution_count": 9,
   "metadata": {
    "collapsed": true
   },
   "outputs": [],
   "source": [
    "def fmt_flux(ds_in):\n",
    "    ds = ds_in.copy(deep=True)\n",
    "    \n",
    "    for l in ('level', 'layer'):\n",
    "        if l in ds.data_vars:\n",
    "            if len(ds[l].dims) > 1:\n",
    "                surface = {d: 0 for d in ds.dims if d != 'pressure'}\n",
    "                coord_level = ds[l][surface]\n",
    "                ds.coords[l] = ('pressure', coord_level)\n",
    "            else:\n",
    "                ds.coords[l] = ('pressure', ds[l])\n",
    "        \n",
    "    ds = ds.isel(pressure=[0, 23, -1])\n",
    "        \n",
    "    if 'igg' in ds.dims:\n",
    "        ds = ds.sel(igg=[1])\n",
    "        ds = ds.squeeze('igg').drop('igg')\n",
    "    \n",
    "    if 'g' in ds.dims:\n",
    "        ds = ds.sum('g')\n",
    "            \n",
    "    if 'band' in ds.dims:\n",
    "        try:\n",
    "            ds = ds.squeeze('band').drop('band')\n",
    "        except ValueError:\n",
    "            ds = ds.sum('band')\n",
    "                \n",
    "    df = ds.to_dataframe()\n",
    "    df = df.set_index('level', append=True)               \n",
    "    return df\n",
    "\n",
    "\n",
    "def tbdata_flux(ds_flux=None, ds_flux_crd=None, ds_flux_wgt=None):\n",
    "    ilevels = [0, 23, -1]\n",
    "            \n",
    "    benchmark = {'label': 'CRD',\n",
    "                 'df': fmt_flux(ds_flux_crd)}\n",
    "    \n",
    "    tbs = [{'label': 'WGT igg=10 wgt_flux=1',\n",
    "            'df': fmt_flux(ds_flux_wgt)},\n",
    "           {'label': 'CLIRAD',\n",
    "            'df': fmt_flux(ds_flux)}]\n",
    "    \n",
    "    data = {'benchmark': benchmark, 'others': tbs}\n",
    "    return data\n",
    "\n",
    "\n",
    "def tb_flux(tbdata=None):\n",
    "    benchmark = tbdata['benchmark']\n",
    "    others = tbdata['others']\n",
    "    \n",
    "    def show_tb(d=None):\n",
    "        display.display(d['df'])\n",
    "        print('Table.', 'Fluxes.', d['label'])\n",
    "        \n",
    "    def show_tbdiff(d0=None, d=None):\n",
    "        df = d['df']\n",
    "        df.index = d0['df'].index\n",
    "        display.display(df - d0['df'])\n",
    "        print('Table.', 'Fluxes.', \n",
    "              '({}) - ({})'.format(d['label'], d0['label']))\n",
    "        \n",
    "    show_tb(benchmark)\n",
    "    for d in others:\n",
    "        show_tb(d)\n",
    "        \n",
    "    for d in others:\n",
    "        show_tbdiff(d=d, d0=benchmark)\n",
    "        \n",
    "        \n",
    "def script_tb_flux():\n",
    "    data = tbdata_flux(ds_flux=DS_FLUX,\n",
    "                       ds_flux_crd=DS_FLUX_CRD,\n",
    "                       ds_flux_wgt=DS_FLUX_WGT)\n",
    "    tb_flux(tbdata=data)"
   ]
  },
  {
   "cell_type": "code",
   "execution_count": 10,
   "metadata": {
    "collapsed": true
   },
   "outputs": [],
   "source": [
    "def band_map():\n",
    "    '''\n",
    "    Maps spectral bands in lblnew to spectral bands in clirad.\n",
    "    '''\n",
    "    lblnew2clirad = {'1': '1',\n",
    "            '2': '2',\n",
    "            '3a': '3',\n",
    "            '3b': '4',\n",
    "            '3c': '5',\n",
    "            '4': '6', \n",
    "            '5': '7',\n",
    "            '6': '8',\n",
    "            '7': '9', \n",
    "            '8': '10',\n",
    "            '9': '11'}\n",
    "    \n",
    "    clirad2lblnew = {clirad: lblnew \n",
    "                     for lblnew, clirad in lblnew2clirad.items()}\n",
    "    return clirad2lblnew\n",
    "\n",
    "\n",
    "def gasbands():\n",
    "    bmap = band_map()\n",
    "    gases = list(PARAM['molecule'].keys())\n",
    "    \n",
    "    bands = [bmap[str(b)] for b in PARAM['band']]\n",
    "    return list(itertools.product(gases, bands))\n",
    "\n",
    "\n",
    "def print_bestfit_params():\n",
    "    print('Best-fit values for each (gas, band)')\n",
    "    print('------------------------------------')\n",
    "    for gas, band in gasbands():\n",
    "        print('o {} band{}'.format(gas, band))\n",
    "        param = bestfits.kdist_params(molecule=gas, band=band)\n",
    "        for name, value in sorted(param.items()):\n",
    "            print(2 * ' ' + '{} = {}'.format(name, value))\n",
    "\n",
    "        \n",
    "def print_input_param():        \n",
    "    for name, value in PARAM.items():\n",
    "        print('{} = {}'.format(name, value))\n",
    "        \n",
    "        \n",
    "def print_lblnew_param():\n",
    "    for name, value in sorted(PARAM_LBLNEW.items()):\n",
    "        print('{} = {}'.format(name, value))\n"
   ]
  },
  {
   "cell_type": "code",
   "execution_count": 11,
   "metadata": {
    "collapsed": true,
    "scrolled": false
   },
   "outputs": [],
   "source": [
    "def show_html(s):\n",
    "    display.display(display.HTML(s))\n",
    "\n",
    "    \n",
    "def show_markdown(s):\n",
    "    display.display(display.Markdown(s))\n",
    "\n",
    "    \n",
    "def script():\n",
    "    \n",
    "    title = '### CLIRAD-LW'\n",
    "    s_input = 'Input Parameters'\n",
    "    s_lblnew_param = 'LBLNEW case compaired against'\n",
    "    s_bestfits = 'Best-fit Parameters'\n",
    "    s_plt_cooling = 'Cooling Rate Profiles'\n",
    "    s_tb_flux = 'Flux Comparison'\n",
    "    \n",
    "    # title\n",
    "    show_markdown('### CLIRAD-LW')\n",
    "    \n",
    "    # TOC\n",
    "    show_markdown('### Table of Contents')\n",
    "    show_html(climahtml.getHTML_hrefanchor(s_input))\n",
    "    show_html(climahtml.getHTML_hrefanchor(s_lblnew_param))\n",
    "    show_html(climahtml.getHTML_hrefanchor(s_plt_cooling))\n",
    "    show_html(climahtml.getHTML_hrefanchor(s_tb_flux))\n",
    "    show_html(climahtml.getHTML_hrefanchor(s_bestfits))\n",
    "    \n",
    "    # Input parameters\n",
    "    show_html(climahtml.getHTML_idanchor(s_input))\n",
    "    show_markdown(climahtml.getMarkdown_sectitle(s_input))\n",
    "    print_input_param()\n",
    "    \n",
    "    # LBLNEW parameters \n",
    "    show_html(climahtml.getHTML_idanchor(s_lblnew_param))\n",
    "    show_markdown(climahtml.getMarkdown_sectitle(s_lblnew_param))\n",
    "    print_lblnew_param()\n",
    "    \n",
    "    # Cooling rate profiles\n",
    "    show_html(climahtml.getHTML_idanchor(s_plt_cooling))\n",
    "    show_markdown(climahtml.getMarkdown_sectitle(s_plt_cooling))\n",
    "    script_plt_cooling()\n",
    "    \n",
    "    # Flux comparison\n",
    "    show_html(climahtml.getHTML_idanchor(s_tb_flux))\n",
    "    show_markdown(climahtml.getMarkdown_sectitle(s_tb_flux))\n",
    "    script_tb_flux()\n",
    "    \n",
    "    # Best-fit values\n",
    "    show_html(climahtml.getHTML_idanchor(s_bestfits))\n",
    "    show_markdown(climahtml.getMarkdown_sectitle(s_bestfits))\n",
    "    print_bestfit_params()\n",
    "   \n",
    "    "
   ]
  },
  {
   "cell_type": "code",
   "execution_count": 12,
   "metadata": {
    "collapsed": true,
    "scrolled": false
   },
   "outputs": [
    {
     "data": {
      "text/markdown": [
       "### CLIRAD-LW"
      ],
      "text/plain": [
       "<IPython.core.display.Markdown object>"
      ]
     },
     "metadata": {},
     "output_type": "display_data"
    },
    {
     "data": {
      "text/markdown": [
       "### Table of Contents"
      ],
      "text/plain": [
       "<IPython.core.display.Markdown object>"
      ]
     },
     "metadata": {},
     "output_type": "display_data"
    },
    {
     "data": {
      "text/html": [
       "<a href=\"#Input_Parameters\">Input Parameters</a>"
      ],
      "text/plain": [
       "<IPython.core.display.HTML object>"
      ]
     },
     "metadata": {},
     "output_type": "display_data"
    },
    {
     "data": {
      "text/html": [
       "<a href=\"#LBLNEW_case_compaired_against\">LBLNEW case compaired against</a>"
      ],
      "text/plain": [
       "<IPython.core.display.HTML object>"
      ]
     },
     "metadata": {},
     "output_type": "display_data"
    },
    {
     "data": {
      "text/html": [
       "<a href=\"#Cooling_Rate_Profiles\">Cooling Rate Profiles</a>"
      ],
      "text/plain": [
       "<IPython.core.display.HTML object>"
      ]
     },
     "metadata": {},
     "output_type": "display_data"
    },
    {
     "data": {
      "text/html": [
       "<a href=\"#Flux_Comparison\">Flux Comparison</a>"
      ],
      "text/plain": [
       "<IPython.core.display.HTML object>"
      ]
     },
     "metadata": {},
     "output_type": "display_data"
    },
    {
     "data": {
      "text/html": [
       "<a href=\"#Best-fit_Parameters\">Best-fit Parameters</a>"
      ],
      "text/plain": [
       "<IPython.core.display.HTML object>"
      ]
     },
     "metadata": {},
     "output_type": "display_data"
    },
    {
     "data": {
      "text/html": [
       "<a id=\"Input_Parameters\"></a>"
      ],
      "text/plain": [
       "<IPython.core.display.HTML object>"
      ]
     },
     "metadata": {},
     "output_type": "display_data"
    },
    {
     "data": {
      "text/markdown": [
       "# Input Parameters"
      ],
      "text/plain": [
       "<IPython.core.display.Markdown object>"
      ]
     },
     "metadata": {},
     "output_type": "display_data"
    },
    {
     "name": "stdout",
     "output_type": "stream",
     "text": [
      "atmpro = trp\n",
      "band = [8]\n",
      "commitnumber = a70b085\n",
      "molecule = {'n2o': 3.2e-07}\n",
      "tsfc = 300\n"
     ]
    },
    {
     "data": {
      "text/html": [
       "<a id=\"LBLNEW_case_compaired_against\"></a>"
      ],
      "text/plain": [
       "<IPython.core.display.HTML object>"
      ]
     },
     "metadata": {},
     "output_type": "display_data"
    },
    {
     "data": {
      "text/markdown": [
       "# LBLNEW case compaired against"
      ],
      "text/plain": [
       "<IPython.core.display.Markdown object>"
      ]
     },
     "metadata": {},
     "output_type": "display_data"
    },
    {
     "name": "stdout",
     "output_type": "stream",
     "text": [
      "atmpro = trp\n",
      "band = 6\n",
      "commitnumber = bca49ce\n",
      "conc = 3.2e-07\n",
      "dv = 0.005\n",
      "klin = 0\n",
      "molecule = n2o\n",
      "ng_adju = [0]\n",
      "ng_refs = [1]\n",
      "nv = 200\n",
      "option_compute_btable = 0\n",
      "option_compute_ktable = 0\n",
      "option_wgt_flux = 1\n",
      "option_wgt_k = 1\n",
      "ref_pts = [(500, 250)]\n",
      "tsfc = 300\n",
      "vmax = 1215\n",
      "vmin = 1100\n",
      "w_diffuse = [(1.66,)]\n",
      "wgt = [(0.95,)]\n"
     ]
    },
    {
     "data": {
      "text/html": [
       "<a id=\"Cooling_Rate_Profiles\"></a>"
      ],
      "text/plain": [
       "<IPython.core.display.HTML object>"
      ]
     },
     "metadata": {},
     "output_type": "display_data"
    },
    {
     "data": {
      "text/markdown": [
       "# Cooling Rate Profiles"
      ],
      "text/plain": [
       "<IPython.core.display.Markdown object>"
      ]
     },
     "metadata": {},
     "output_type": "display_data"
    },
    {
     "data": {
      "text/html": [
       "\n",
       "<div class=\"bk-root\">\n",
       "    <div class=\"bk-plotdiv\" id=\"d471f123-7bfa-4d32-be29-b69ed46f4cee\"></div>\n",
       "</div>"
      ]
     },
     "metadata": {},
     "output_type": "display_data"
    },
    {
     "data": {
      "application/javascript": [
       "(function(root) {\n",
       "  function embed_document(root) {\n",
       "    \n",
       "  var docs_json = {\"0bd448ef-fd67-4e7f-abd1-1ff97ee12391\":{\"roots\":{\"references\":[{\"attributes\":{\"data_source\":{\"id\":\"dba8bab7-849d-4e86-aa17-6dccb516b182\",\"type\":\"ColumnDataSource\"},\"glyph\":{\"id\":\"0b28d3f9-308b-4217-b5c8-5d41540a9a37\",\"type\":\"Square\"},\"hover_glyph\":null,\"muted_glyph\":null,\"nonselection_glyph\":{\"id\":\"1c8ff862-6357-4cb7-9ff2-a9e8ae79b5d1\",\"type\":\"Square\"},\"selection_glyph\":null,\"view\":{\"id\":\"313ce42b-5a1d-4de9-8e72-847679eee8a4\",\"type\":\"CDSView\"}},\"id\":\"b83b7ee9-7e2d-4665-89ee-e862b7c080c9\",\"type\":\"GlyphRenderer\"},{\"attributes\":{\"label\":{\"value\":\"WGT igg=10 wgt_flux=2\"},\"renderers\":[{\"id\":\"b83b7ee9-7e2d-4665-89ee-e862b7c080c9\",\"type\":\"GlyphRenderer\"},{\"id\":\"f3227dd9-5959-49bc-b3e8-f43dd7f193de\",\"type\":\"GlyphRenderer\"}]},\"id\":\"7b01b702-cc01-4b63-af3c-510aa7a3bf90\",\"type\":\"LegendItem\"},{\"attributes\":{\"callback\":null,\"end\":0.01,\"start\":1020},\"id\":\"0ed8c5e9-1b02-4145-8378-33edb1e7fba5\",\"type\":\"Range1d\"},{\"attributes\":{\"fill_alpha\":{\"value\":0.1},\"fill_color\":{\"value\":\"#1f77b4\"},\"line_alpha\":{\"value\":0.1},\"line_color\":{\"value\":\"#1f77b4\"},\"x\":{\"field\":\"x\"},\"y\":{\"field\":\"y\"}},\"id\":\"56f55529-99f5-442d-afc7-0a5b08139ea9\",\"type\":\"Circle\"},{\"attributes\":{\"line_alpha\":0.6,\"line_color\":\"#984ea3\",\"line_width\":3,\"x\":{\"field\":\"x\"},\"y\":{\"field\":\"y\"}},\"id\":\"42d5d270-7945-4d6a-bc74-f1b0b0eab37f\",\"type\":\"Line\"},{\"attributes\":{\"callback\":null,\"data\":{\"x\":{\"__ndarray__\":\"xUlzCr8LZL/geDhuKvNjv5KPHdjRv2O/mz7a/0mKY7+t15sxeFNjvzqXXU3pG2O/D3tts0LjYr8KPA8p6Khiv0QRSo+KbmK/Jtsa+xQzYr/90mGQO/Zhv/Cjr6OXuGG/jWdxOhl5Yb+pXOyrpyVhv6zfqHPO0V+/cru4Uu0hWr+MUFVp1/lRvw+Uj36FsD+/J7MYrl88MT85DwvbbRxTP8mIziWqbWI/LZ7S7sTmaz9RwL0F7k1vP0hr10dRrms/S6RWF/WiZT/qFZCiQDJcP9nGzNG/kEs/H/huR6MwCz/JjcvmgsBFv+AYxPclqlW/508o/+vAX78dFCmZ0KdkvzTuFbNoNWm/zBht9Z+sbb+VwILNW2Jxv2f69oSdCHS/ldQHHtjbdb+Pf4mxcWF2vxvDWjtc8nW/rutUT59Kdb8dPhc0TnZ0v6qkum79fHO/V5OB5QNgcr8b/h0J8Chxv3SSjGndt2+/qj+4vuz3bL+CtyBQ/xZqvy52MJ8CGWe/jEmGMokAZL9slT9jT9Bgvx8fhxlHGVu/M66q6QJvVL9SPblSK0tLvztp5++V/zq/EqEZQvOj7z6NgCW5QVU9P7WgVTgSAE0/ySSmMcG8VT/7ZOUQGgVdP6UbVCcPJ2I/hnBWyaq9ZT+jHRg40CdpP3Haag7EPWw/Vt7vB6zybj/4T+FPJ7VwP3OMgwrQ73E/Mfm/nIJAcz+MVTvt5q50P1/mrHFsNHY/vKmuHtzGdz+KjH13Wl95Pw1iomyK+no/+xTyStOVfD+P5KkA/DB+P1oTOpA2zH8/\",\"dtype\":\"float64\",\"shape\":[75]},\"y\":{\"__ndarray__\":\"GhExyth1ND/Sv8nbtpRIP2vylNV0PVE/aTum7souWD/At0SJ8fVgPw3Iuahxymc/MSNhhJWvcD/bTfBN02d3P2zb5nxnaoA/CD5h5MAGhz8NmeH1TyaQP+zrCsc9p5Y/LbKd76fGnz/bLW5ISEmmPww9YvTcQq8/JV2OstnstT8Er5Y7M8G+P0c+r3jqkcU/5h99k6ZBzj88bCIzFzjVP4enV8oyxN0//yH99nXg5D8qOpLLf0jtP5kqGJXUifQ/c9cS8kHP/D+/DpwzojQEQIEmwoanVwxA4lgXt9HgE0BSSZ2AJuIbQAMJih9jjiNA5q4l5INuK0AwTKYKRj0zQNv5fmq8/DpAaCJseHrtQkB/+zpwzoxKQM3MzMzMeFJAZmZmZmZqWEAAAAAAAFxeQM3MzMzMJmJAmpmZmZkfZUBmZmZmZhhoQDMzMzMzEWtAAAAAAAAKbkBmZmZmZoFwQM3MzMzM/XFAMzMzMzN6c0CamZmZmfZ0QAAAAAAAc3ZAZmZmZmbvd0DNzMzMzGt5QDMzMzMz6HpAmpmZmZlkfEAAAAAAAOF9QGZmZmZmXX9AZmZmZuZsgECamZmZGSuBQM3MzMxM6YFAAAAAAICngkAzMzMzs2WDQGZmZmbmI4RAmpmZmRnihEDNzMzMTKCFQAAAAACAXoZAMzMzM7Mch0BmZmZm5tqHQJqZmZkZmYhAzczMzExXiUAAAAAAgBWKQDMzMzOz04pAZmZmZuaRi0CamZmZGVCMQM3MzMxMDo1AAAAAAIDMjUAzMzMzs4qOQGZmZmbmSI9A\",\"dtype\":\"float64\",\"shape\":[75]}},\"selected\":{\"id\":\"8b71d463-4460-41bf-ba97-182c756d8193\",\"type\":\"Selection\"},\"selection_policy\":{\"id\":\"44d03959-53ff-446f-8c64-2c37c8467b8a\",\"type\":\"UnionRenderers\"}},\"id\":\"63fd1e71-d74b-4fa3-bfc6-4a24d957cac9\",\"type\":\"ColumnDataSource\"},{\"attributes\":{\"data_source\":{\"id\":\"63fd1e71-d74b-4fa3-bfc6-4a24d957cac9\",\"type\":\"ColumnDataSource\"},\"glyph\":{\"id\":\"14f5956a-607c-444f-a400-d98c9f9f9504\",\"type\":\"Circle\"},\"hover_glyph\":null,\"muted_glyph\":null,\"nonselection_glyph\":{\"id\":\"56f55529-99f5-442d-afc7-0a5b08139ea9\",\"type\":\"Circle\"},\"selection_glyph\":null,\"view\":{\"id\":\"256c4fbc-978c-4efd-a0a5-d3dbce44248b\",\"type\":\"CDSView\"}},\"id\":\"759bff9e-1ba9-46d3-ba9b-053ec71d4da5\",\"type\":\"GlyphRenderer\"},{\"attributes\":{},\"id\":\"de358708-0846-43b7-948f-d2616e669960\",\"type\":\"HelpTool\"},{\"attributes\":{\"source\":{\"id\":\"68fa07c8-33f8-4b2c-b237-c8f8cb1d400d\",\"type\":\"ColumnDataSource\"}},\"id\":\"d5e112b3-6631-4788-8a79-66e3cbfcb57b\",\"type\":\"CDSView\"},{\"attributes\":{\"bottom_units\":\"screen\",\"fill_alpha\":{\"value\":0.5},\"fill_color\":{\"value\":\"lightgrey\"},\"left_units\":\"screen\",\"level\":\"overlay\",\"line_alpha\":{\"value\":1.0},\"line_color\":{\"value\":\"black\"},\"line_dash\":[4,4],\"line_width\":{\"value\":2},\"plot\":null,\"render_mode\":\"css\",\"right_units\":\"screen\",\"top_units\":\"screen\"},\"id\":\"72262f81-ea1d-4fd1-ac3b-3cf8a5137973\",\"type\":\"BoxAnnotation\"},{\"attributes\":{\"line_color\":\"#4daf4a\",\"line_width\":1.5,\"x\":{\"field\":\"x\"},\"y\":{\"field\":\"y\"}},\"id\":\"21db2849-cb10-43b1-8b74-d02ab9b9b68b\",\"type\":\"Line\"},{\"attributes\":{\"line_alpha\":0.6,\"line_color\":\"#e41a1c\",\"line_dash\":[6],\"line_width\":5,\"x\":{\"field\":\"x\"},\"y\":{\"field\":\"y\"}},\"id\":\"693e6b28-a419-420d-b245-eba43b1a12a2\",\"type\":\"Line\"},{\"attributes\":{\"source\":{\"id\":\"c48cadb5-39e6-43da-bc26-00612d8f4c46\",\"type\":\"ColumnDataSource\"}},\"id\":\"275dd98a-e373-43aa-8d41-c5a151433954\",\"type\":\"CDSView\"},{\"attributes\":{\"callback\":null,\"data\":{\"x\":{\"__ndarray__\":\"2E7M5YN4db9+WjFSYm11vxt+BVpSVnW/SJYvk1g+db/ClTyywyV1v8rCJ/qUDHW/fFzeD83ydL/AbtIhadh0v4KCr0luvXS/2aR4n96hdL8RFqyxv4V0v/G7M9sYaXS/t+KXiNtLdL+OudzwnCV0v9a8OKeRk3O/IcCp1FNAcr8k1yiHMVJwvzsw2ajp22u/F5VLYSkEZr92Nw5+G9Bdv8mqQafwXUm/hrEAZJGdNj+5LC8rOepIP5Owt03ckjc/Da+v4HAvNb8mXTX6kVVTv0qixNKzZWC/LDNTQHRmZr/bcvmJZslrv43PiaG6UHC/nN/mjCV+cr8d4Fh/42V0vwi9nLHmAna/Hr57cTFgd7/GpDfLidd4v0gyj2uoOXq/xXR1DO7cer8B5QUNg5Z6v3yf3zTTdnm/fQESlZo5eL/QPttNpeR2v6TsvGuagHW/OipSODYPdL8c+TOoLH1yv30SkX7Y4nC/MGaASBV+br+Vysd2hj5rv3Uz06FC2me/dhiGHXxgZL86l1UlwNpgvy7HRkBHm1q/2H/Eh/62U79UJoMt5ctIvy867PmoYDS/37qOv9/8IT9wVKiWP+tCP6XJnb5L1VA/4sfRihpNWD/Tvg/AM8VfP0gKJKEfmGM/H8dN1GQbZz+wwxQFc51qP+lQ3vSbw20/yqSgQeVEcD/ae+xDon1xP+rNO138vnI/ezCyL5wVdD92JzGmpoZ1P1mpK5VzBnc/AQ2oEyaOeD9XWkg0iCV6P50KbFm0vHs/4SAVDlpSfT/Y88bk7Nh+P+SZGbJIN4A/\",\"dtype\":\"float64\",\"shape\":[75]},\"y\":{\"__ndarray__\":\"GhExyth1ND/Sv8nbtpRIP2vylNV0PVE/aTum7souWD/At0SJ8fVgPw3Iuahxymc/MSNhhJWvcD/bTfBN02d3P2zb5nxnaoA/CD5h5MAGhz8NmeH1TyaQP+zrCsc9p5Y/LbKd76fGnz/bLW5ISEmmPww9YvTcQq8/JV2OstnstT8Er5Y7M8G+P0c+r3jqkcU/5h99k6ZBzj88bCIzFzjVP4enV8oyxN0//yH99nXg5D8qOpLLf0jtP5kqGJXUifQ/c9cS8kHP/D+/DpwzojQEQIEmwoanVwxA4lgXt9HgE0BSSZ2AJuIbQAMJih9jjiNA5q4l5INuK0AwTKYKRj0zQNv5fmq8/DpAaCJseHrtQkB/+zpwzoxKQM3MzMzMeFJAZmZmZmZqWEAAAAAAAFxeQM3MzMzMJmJAmpmZmZkfZUBmZmZmZhhoQDMzMzMzEWtAAAAAAAAKbkBmZmZmZoFwQM3MzMzM/XFAMzMzMzN6c0CamZmZmfZ0QAAAAAAAc3ZAZmZmZmbvd0DNzMzMzGt5QDMzMzMz6HpAmpmZmZlkfEAAAAAAAOF9QGZmZmZmXX9AZmZmZuZsgECamZmZGSuBQM3MzMxM6YFAAAAAAICngkAzMzMzs2WDQGZmZmbmI4RAmpmZmRnihEDNzMzMTKCFQAAAAACAXoZAMzMzM7Mch0BmZmZm5tqHQJqZmZkZmYhAzczMzExXiUAAAAAAgBWKQDMzMzOz04pAZmZmZuaRi0CamZmZGVCMQM3MzMxMDo1AAAAAAIDMjUAzMzMzs4qOQGZmZmbmSI9A\",\"dtype\":\"float64\",\"shape\":[75]}},\"selected\":{\"id\":\"785d20c0-b46b-4532-9bea-d11af369104d\",\"type\":\"Selection\"},\"selection_policy\":{\"id\":\"c14a3002-b638-4dc0-a546-e62d3813d231\",\"type\":\"UnionRenderers\"}},\"id\":\"c48cadb5-39e6-43da-bc26-00612d8f4c46\",\"type\":\"ColumnDataSource\"},{\"attributes\":{\"callback\":null,\"data\":{\"x\":{\"__ndarray__\":\"2E7M5YN4db9+WjFSYm11vxt+BVpSVnW/SJYvk1g+db/ClTyywyV1v8rCJ/qUDHW/fFzeD83ydL/AbtIhadh0v4KCr0luvXS/2aR4n96hdL8RFqyxv4V0v/G7M9sYaXS/t+KXiNtLdL+OudzwnCV0v9a8OKeRk3O/IcCp1FNAcr8k1yiHMVJwvzsw2ajp22u/F5VLYSkEZr92Nw5+G9Bdv8mqQafwXUm/hrEAZJGdNj+5LC8rOepIP5Owt03ckjc/Da+v4HAvNb8mXTX6kVVTv0qixNKzZWC/LDNTQHRmZr/bcvmJZslrv43PiaG6UHC/nN/mjCV+cr8d4Fh/42V0vwi9nLHmAna/Hr57cTFgd7/GpDfLidd4v0gyj2uoOXq/xXR1DO7cer8B5QUNg5Z6v3yf3zTTdnm/fQESlZo5eL/QPttNpeR2v6TsvGuagHW/OipSODYPdL8c+TOoLH1yv30SkX7Y4nC/MGaASBV+br+Vysd2hj5rv3Uz06FC2me/dhiGHXxgZL86l1UlwNpgvy7HRkBHm1q/2H/Eh/62U79UJoMt5ctIvy867PmoYDS/37qOv9/8IT9wVKiWP+tCP6XJnb5L1VA/4sfRihpNWD/Tvg/AM8VfP0gKJKEfmGM/H8dN1GQbZz+wwxQFc51qP+lQ3vSbw20/yqSgQeVEcD/ae+xDon1xP+rNO138vnI/ezCyL5wVdD92JzGmpoZ1P1mpK5VzBnc/AQ2oEyaOeD9XWkg0iCV6P50KbFm0vHs/4SAVDlpSfT/Y88bk7Nh+P+SZGbJIN4A/\",\"dtype\":\"float64\",\"shape\":[75]},\"y\":{\"__ndarray__\":\"GhExyth1ND/Sv8nbtpRIP2vylNV0PVE/aTum7souWD/At0SJ8fVgPw3Iuahxymc/MSNhhJWvcD/bTfBN02d3P2zb5nxnaoA/CD5h5MAGhz8NmeH1TyaQP+zrCsc9p5Y/LbKd76fGnz/bLW5ISEmmPww9YvTcQq8/JV2OstnstT8Er5Y7M8G+P0c+r3jqkcU/5h99k6ZBzj88bCIzFzjVP4enV8oyxN0//yH99nXg5D8qOpLLf0jtP5kqGJXUifQ/c9cS8kHP/D+/DpwzojQEQIEmwoanVwxA4lgXt9HgE0BSSZ2AJuIbQAMJih9jjiNA5q4l5INuK0AwTKYKRj0zQNv5fmq8/DpAaCJseHrtQkB/+zpwzoxKQM3MzMzMeFJAZmZmZmZqWEAAAAAAAFxeQM3MzMzMJmJAmpmZmZkfZUBmZmZmZhhoQDMzMzMzEWtAAAAAAAAKbkBmZmZmZoFwQM3MzMzM/XFAMzMzMzN6c0CamZmZmfZ0QAAAAAAAc3ZAZmZmZmbvd0DNzMzMzGt5QDMzMzMz6HpAmpmZmZlkfEAAAAAAAOF9QGZmZmZmXX9AZmZmZuZsgECamZmZGSuBQM3MzMxM6YFAAAAAAICngkAzMzMzs2WDQGZmZmbmI4RAmpmZmRnihEDNzMzMTKCFQAAAAACAXoZAMzMzM7Mch0BmZmZm5tqHQJqZmZkZmYhAzczMzExXiUAAAAAAgBWKQDMzMzOz04pAZmZmZuaRi0CamZmZGVCMQM3MzMxMDo1AAAAAAIDMjUAzMzMzs4qOQGZmZmbmSI9A\",\"dtype\":\"float64\",\"shape\":[75]}},\"selected\":{\"id\":\"c90dd9b4-f4a8-4c11-b962-b6b45e666c99\",\"type\":\"Selection\"},\"selection_policy\":{\"id\":\"bf825a36-f39e-4102-94cd-b10509a5f742\",\"type\":\"UnionRenderers\"}},\"id\":\"dba8bab7-849d-4e86-aa17-6dccb516b182\",\"type\":\"ColumnDataSource\"},{\"attributes\":{\"overlay\":{\"id\":\"72262f81-ea1d-4fd1-ac3b-3cf8a5137973\",\"type\":\"BoxAnnotation\"}},\"id\":\"6ce5f5e1-4f97-4387-8c9f-4e66e56c46d4\",\"type\":\"BoxZoomTool\"},{\"attributes\":{\"source\":{\"id\":\"63fd1e71-d74b-4fa3-bfc6-4a24d957cac9\",\"type\":\"ColumnDataSource\"}},\"id\":\"256c4fbc-978c-4efd-a0a5-d3dbce44248b\",\"type\":\"CDSView\"},{\"attributes\":{\"fill_alpha\":{\"value\":0.7},\"fill_color\":{\"value\":\"#4daf4a\"},\"line_alpha\":{\"value\":0.7},\"line_color\":{\"value\":\"#4daf4a\"},\"x\":{\"field\":\"x\"},\"y\":{\"field\":\"y\"}},\"id\":\"14f5956a-607c-444f-a400-d98c9f9f9504\",\"type\":\"Circle\"},{\"attributes\":{\"source\":{\"id\":\"dba8bab7-849d-4e86-aa17-6dccb516b182\",\"type\":\"ColumnDataSource\"}},\"id\":\"313ce42b-5a1d-4de9-8e72-847679eee8a4\",\"type\":\"CDSView\"},{\"attributes\":{\"callback\":null,\"data\":{\"x\":{\"__ndarray__\":\"xUlzCr8LZL/geDhuKvNjv5KPHdjRv2O/mz7a/0mKY7+t15sxeFNjvzqXXU3pG2O/D3tts0LjYr8KPA8p6Khiv0QRSo+KbmK/Jtsa+xQzYr/90mGQO/Zhv/Cjr6OXuGG/jWdxOhl5Yb+pXOyrpyVhv6zfqHPO0V+/cru4Uu0hWr+MUFVp1/lRvw+Uj36FsD+/J7MYrl88MT85DwvbbRxTP8mIziWqbWI/LZ7S7sTmaz9RwL0F7k1vP0hr10dRrms/S6RWF/WiZT/qFZCiQDJcP9nGzNG/kEs/H/huR6MwCz/JjcvmgsBFv+AYxPclqlW/508o/+vAX78dFCmZ0KdkvzTuFbNoNWm/zBht9Z+sbb+VwILNW2Jxv2f69oSdCHS/ldQHHtjbdb+Pf4mxcWF2vxvDWjtc8nW/rutUT59Kdb8dPhc0TnZ0v6qkum79fHO/V5OB5QNgcr8b/h0J8Chxv3SSjGndt2+/qj+4vuz3bL+CtyBQ/xZqvy52MJ8CGWe/jEmGMokAZL9slT9jT9Bgvx8fhxlHGVu/M66q6QJvVL9SPblSK0tLvztp5++V/zq/EqEZQvOj7z6NgCW5QVU9P7WgVTgSAE0/ySSmMcG8VT/7ZOUQGgVdP6UbVCcPJ2I/hnBWyaq9ZT+jHRg40CdpP3Haag7EPWw/Vt7vB6zybj/4T+FPJ7VwP3OMgwrQ73E/Mfm/nIJAcz+MVTvt5q50P1/mrHFsNHY/vKmuHtzGdz+KjH13Wl95Pw1iomyK+no/+xTyStOVfD+P5KkA/DB+P1oTOpA2zH8/\",\"dtype\":\"float64\",\"shape\":[75]},\"y\":{\"__ndarray__\":\"GhExyth1ND/Sv8nbtpRIP2vylNV0PVE/aTum7souWD/At0SJ8fVgPw3Iuahxymc/MSNhhJWvcD/bTfBN02d3P2zb5nxnaoA/CD5h5MAGhz8NmeH1TyaQP+zrCsc9p5Y/LbKd76fGnz/bLW5ISEmmPww9YvTcQq8/JV2OstnstT8Er5Y7M8G+P0c+r3jqkcU/5h99k6ZBzj88bCIzFzjVP4enV8oyxN0//yH99nXg5D8qOpLLf0jtP5kqGJXUifQ/c9cS8kHP/D+/DpwzojQEQIEmwoanVwxA4lgXt9HgE0BSSZ2AJuIbQAMJih9jjiNA5q4l5INuK0AwTKYKRj0zQNv5fmq8/DpAaCJseHrtQkB/+zpwzoxKQM3MzMzMeFJAZmZmZmZqWEAAAAAAAFxeQM3MzMzMJmJAmpmZmZkfZUBmZmZmZhhoQDMzMzMzEWtAAAAAAAAKbkBmZmZmZoFwQM3MzMzM/XFAMzMzMzN6c0CamZmZmfZ0QAAAAAAAc3ZAZmZmZmbvd0DNzMzMzGt5QDMzMzMz6HpAmpmZmZlkfEAAAAAAAOF9QGZmZmZmXX9AZmZmZuZsgECamZmZGSuBQM3MzMxM6YFAAAAAAICngkAzMzMzs2WDQGZmZmbmI4RAmpmZmRnihEDNzMzMTKCFQAAAAACAXoZAMzMzM7Mch0BmZmZm5tqHQJqZmZkZmYhAzczMzExXiUAAAAAAgBWKQDMzMzOz04pAZmZmZuaRi0CamZmZGVCMQM3MzMxMDo1AAAAAAIDMjUAzMzMzs4qOQGZmZmbmSI9A\",\"dtype\":\"float64\",\"shape\":[75]}},\"selected\":{\"id\":\"763874f4-9927-4041-ac6f-9b3be5ab9d08\",\"type\":\"Selection\"},\"selection_policy\":{\"id\":\"b201ebb1-f9c8-459a-a46a-f6af4c6c9da4\",\"type\":\"UnionRenderers\"}},\"id\":\"af005d59-1176-4f22-a783-8d318fe44724\",\"type\":\"ColumnDataSource\"},{\"attributes\":{\"source\":{\"id\":\"40274b80-b0c6-4785-8897-3322476d4ee2\",\"type\":\"ColumnDataSource\"}},\"id\":\"d55fa2f4-d3f1-4899-86ad-26def5f0c998\",\"type\":\"CDSView\"},{\"attributes\":{\"line_alpha\":0.1,\"line_color\":\"#1f77b4\",\"line_width\":1.5,\"x\":{\"field\":\"x\"},\"y\":{\"field\":\"y\"}},\"id\":\"9ecfad6a-6b74-41ea-bf69-f7ebd3a82b59\",\"type\":\"Line\"},{\"attributes\":{\"data_source\":{\"id\":\"af005d59-1176-4f22-a783-8d318fe44724\",\"type\":\"ColumnDataSource\"},\"glyph\":{\"id\":\"21db2849-cb10-43b1-8b74-d02ab9b9b68b\",\"type\":\"Line\"},\"hover_glyph\":null,\"muted_glyph\":null,\"nonselection_glyph\":{\"id\":\"9ecfad6a-6b74-41ea-bf69-f7ebd3a82b59\",\"type\":\"Line\"},\"selection_glyph\":null,\"view\":{\"id\":\"6c6823ff-86c5-4f46-8a6f-ef762e15d8b0\",\"type\":\"CDSView\"}},\"id\":\"0da2024e-bc3c-4e7e-a98a-227913761477\",\"type\":\"GlyphRenderer\"},{\"attributes\":{},\"id\":\"5036cc4b-1ebc-46e3-9285-f5170b393fae\",\"type\":\"SaveTool\"},{\"attributes\":{\"callback\":null,\"data\":{\"x\":{\"__ndarray__\":\"mqKphAp6cr/1uUYCB1hyv4UVjOHhanK/aO1xgItXcr+zEMe4bkNyvwWKHIa9LnK/e0BN6z4Zcr/sDtLgaQNyv1WQxQvg7HG/QISxb/LVcb+ThOfWCb5xv1ZBJDWIpXG/cpl7ie+Lcb8XIXbO4WZxv4GB8geb63C/Z56H03ynb7/CUemdznlsv4YafiGvgWi/6ePn6PShY79R5FZq+WZbv+ne1TSdQUq/o6Dqfb8aIT+465k6skE/P9ryi4r7xCI/xV1F+BgHPL8kejT1fL1SvxUVgvhf912/afIkE/YAZL/Vrox8DIVov+cX9a4Zl2y/mqob8kYbcL+vz1Bn5K9xv7tNrpxTBnO/GgrqX8ModL8dM1GHQ111v7Yjd71de3a/2f2uQTv9dr/2BpvWP6p2v8xMiHitvXW/09N/im6zdL92/A2WjpJzvwjzIR8pX3K/7KgQpTsccb8eAwaOKphvv+Osuh1J4Wy/R1t7OREYar+AlVMk3j9nv7NNMK8qWmS/K7ctvB1pYb+KXe11yttcvxwZZEGT01a/iuhUw9C7UL/vrkBIRS5Fv+oVPZy9kDG/NBZXww13HT9u9fm11DpAP7tKPDNF1Uw/ms3GtkO9VD9lz9BONRJbP7dP91P9sGA/pZvUuSHLYz+uBROBXr9mPyH8Cfv2bWk/9PxvgRnOaz9SDSWZ6PptPy/GzkCWEXA/M5/Tcjc2cT9QXBpvznByP4Jf++4DvHM/RKU4H8MQdT+LL8FG5Wh2P41oJS+ewXc/ludsAsYaeT/LkE919HJ6P3niX2sCyns/\",\"dtype\":\"float64\",\"shape\":[75]},\"y\":{\"__ndarray__\":\"S/O/Q+51ND/Sv8nbtpRIP2vylNV0PVE/aTum7souWD/At0SJ8fVgPw3Iuahxymc/MSNhhJWvcD/bTfBN02d3P2zb5nxnaoA/CD5h5MAGhz8NmeH1TyaQP+zrCsc9p5Y/LbKd76fGnz/bLW5ISEmmPww9YvTcQq8/JV2OstnstT8Er5Y7M8G+P0c+r3jqkcU/5h99k6ZBzj88bCIzFzjVP4enV8oyxN0//yH99nXg5D8qOpLLf0jtP5kqGJXUifQ/c9cS8kHP/D+/DpwzojQEQIEmwoanVwxA4lgXt9HgE0BSSZ2AJuIbQAMJih9jjiNA5q4l5INuK0AwTKYKRj0zQNv5fmq8/DpAaCJseHrtQkB/+zpwzoxKQM3MzMzMeFJAZmZmZmZqWEAAAAAAAFxeQM3MzMzMJmJAmpmZmZkfZUBmZmZmZhhoQDMzMzMzEWtAAAAAAAAKbkBmZmZmZoFwQM3MzMzM/XFAMzMzMzN6c0CamZmZmfZ0QAAAAAAAc3ZAZmZmZmbvd0DNzMzMzGt5QDMzMzMz6HpAmpmZmZlkfEAAAAAAAOF9QGZmZmZmXX9AZmZmZuZsgECamZmZGSuBQM3MzMxM6YFAAAAAAICngkAzMzMzs2WDQGZmZmbmI4RAmpmZmRnihEDNzMzMTKCFQAAAAACAXoZAMzMzM7Mch0BmZmZm5tqHQJqZmZkZmYhAzczMzExXiUAAAAAAgBWKQDMzMzOz04pAZmZmZuaRi0CamZmZGVCMQM3MzMxMDo1AAAAAAIDMjUAzMzMzs4qOQGZmZmbmSI9A\",\"dtype\":\"float64\",\"shape\":[75]}},\"selected\":{\"id\":\"5c3c0f8e-c02a-4de2-8dd9-7c38f767a29b\",\"type\":\"Selection\"},\"selection_policy\":{\"id\":\"992c24e6-768d-47a3-b203-86cfc4f0026b\",\"type\":\"UnionRenderers\"}},\"id\":\"68fa07c8-33f8-4b2c-b237-c8f8cb1d400d\",\"type\":\"ColumnDataSource\"},{\"attributes\":{\"source\":{\"id\":\"af005d59-1176-4f22-a783-8d318fe44724\",\"type\":\"ColumnDataSource\"}},\"id\":\"6c6823ff-86c5-4f46-8a6f-ef762e15d8b0\",\"type\":\"CDSView\"},{\"attributes\":{\"fill_alpha\":{\"value\":0.7},\"fill_color\":{\"value\":\"#984ea3\"},\"line_alpha\":{\"value\":0.7},\"line_color\":{\"value\":\"#984ea3\"},\"x\":{\"field\":\"x\"},\"y\":{\"field\":\"y\"}},\"id\":\"0b28d3f9-308b-4217-b5c8-5d41540a9a37\",\"type\":\"Square\"},{\"attributes\":{\"children\":[{\"id\":\"c7d9e756-acf3-407b-bd27-f57ccae81430\",\"type\":\"Row\"}]},\"id\":\"70382d3c-cb75-4e0a-a213-12cec326fc46\",\"type\":\"Column\"},{\"attributes\":{\"data_source\":{\"id\":\"68fa07c8-33f8-4b2c-b237-c8f8cb1d400d\",\"type\":\"ColumnDataSource\"},\"glyph\":{\"id\":\"693e6b28-a419-420d-b245-eba43b1a12a2\",\"type\":\"Line\"},\"hover_glyph\":null,\"muted_glyph\":null,\"nonselection_glyph\":{\"id\":\"e1a86a35-a38f-4837-a4aa-c00ebb6f3c76\",\"type\":\"Line\"},\"selection_glyph\":null,\"view\":{\"id\":\"d5e112b3-6631-4788-8a79-66e3cbfcb57b\",\"type\":\"CDSView\"}},\"id\":\"6332bb3f-6251-4879-99b9-d635b9b182e6\",\"type\":\"GlyphRenderer\"},{\"attributes\":{\"fill_alpha\":{\"value\":0.1},\"fill_color\":{\"value\":\"#1f77b4\"},\"line_alpha\":{\"value\":0.1},\"line_color\":{\"value\":\"#1f77b4\"},\"x\":{\"field\":\"x\"},\"y\":{\"field\":\"y\"}},\"id\":\"1c8ff862-6357-4cb7-9ff2-a9e8ae79b5d1\",\"type\":\"Square\"},{\"attributes\":{\"data_source\":{\"id\":\"40274b80-b0c6-4785-8897-3322476d4ee2\",\"type\":\"ColumnDataSource\"},\"glyph\":{\"id\":\"f3216a6e-fc14-4ac8-9680-588709cc5239\",\"type\":\"Square\"},\"hover_glyph\":null,\"muted_glyph\":null,\"nonselection_glyph\":{\"id\":\"88b9eb4a-c52f-4ba8-aa52-91a4f6cbe452\",\"type\":\"Square\"},\"selection_glyph\":null,\"view\":{\"id\":\"d55fa2f4-d3f1-4899-86ad-26def5f0c998\",\"type\":\"CDSView\"}},\"id\":\"2e779531-5fc3-4aae-9c29-1f1f2b25497d\",\"type\":\"GlyphRenderer\"},{\"attributes\":{\"data_source\":{\"id\":\"c48cadb5-39e6-43da-bc26-00612d8f4c46\",\"type\":\"ColumnDataSource\"},\"glyph\":{\"id\":\"42d5d270-7945-4d6a-bc74-f1b0b0eab37f\",\"type\":\"Line\"},\"hover_glyph\":null,\"muted_glyph\":null,\"nonselection_glyph\":{\"id\":\"ec1f5b2a-0adc-40ff-a4d0-4f813c110869\",\"type\":\"Line\"},\"selection_glyph\":null,\"view\":{\"id\":\"275dd98a-e373-43aa-8d41-c5a151433954\",\"type\":\"CDSView\"}},\"id\":\"f3227dd9-5959-49bc-b3e8-f43dd7f193de\",\"type\":\"GlyphRenderer\"},{\"attributes\":{\"children\":[{\"id\":\"0b15148a-99a5-45ac-8cf4-7197407ca71b\",\"subtype\":\"Figure\",\"type\":\"Plot\"},{\"id\":\"be5f0748-de33-472f-96b7-b193e92d5c70\",\"subtype\":\"Figure\",\"type\":\"Plot\"}]},\"id\":\"c7d9e756-acf3-407b-bd27-f57ccae81430\",\"type\":\"Row\"},{\"attributes\":{},\"id\":\"fafe3b36-e309-44fa-91c2-5483348a3bc1\",\"type\":\"BasicTickFormatter\"},{\"attributes\":{\"callback\":null,\"data\":{\"x\":{\"__ndarray__\":\"2E7M5YN4db9+WjFSYm11vxt+BVpSVnW/SJYvk1g+db/ClTyywyV1v8rCJ/qUDHW/fFzeD83ydL/AbtIhadh0v4KCr0luvXS/2aR4n96hdL8RFqyxv4V0v/G7M9sYaXS/t+KXiNtLdL+OudzwnCV0v9a8OKeRk3O/IcCp1FNAcr8k1yiHMVJwvzsw2ajp22u/F5VLYSkEZr92Nw5+G9Bdv8mqQafwXUm/hrEAZJGdNj+5LC8rOepIP5Owt03ckjc/Da+v4HAvNb8mXTX6kVVTv0qixNKzZWC/LDNTQHRmZr/bcvmJZslrv43PiaG6UHC/nN/mjCV+cr8d4Fh/42V0vwi9nLHmAna/Hr57cTFgd7/GpDfLidd4v0gyj2uoOXq/xXR1DO7cer8B5QUNg5Z6v3yf3zTTdnm/fQESlZo5eL/QPttNpeR2v6TsvGuagHW/OipSODYPdL8c+TOoLH1yv30SkX7Y4nC/MGaASBV+br+Vysd2hj5rv3Uz06FC2me/dhiGHXxgZL86l1UlwNpgvy7HRkBHm1q/2H/Eh/62U79UJoMt5ctIvy867PmoYDS/37qOv9/8IT9wVKiWP+tCP6XJnb5L1VA/4sfRihpNWD/Tvg/AM8VfP0gKJKEfmGM/H8dN1GQbZz+wwxQFc51qP+lQ3vSbw20/yqSgQeVEcD/ae+xDon1xP+rNO138vnI/ezCyL5wVdD92JzGmpoZ1P1mpK5VzBnc/AQ2oEyaOeD9XWkg0iCV6P50KbFm0vHs/4SAVDlpSfT/Y88bk7Nh+P+SZGbJIN4A/\",\"dtype\":\"float64\",\"shape\":[75]},\"y\":{\"__ndarray__\":\"GhExyth1ND/Sv8nbtpRIP2vylNV0PVE/aTum7souWD/At0SJ8fVgPw3Iuahxymc/MSNhhJWvcD/bTfBN02d3P2zb5nxnaoA/CD5h5MAGhz8NmeH1TyaQP+zrCsc9p5Y/LbKd76fGnz/bLW5ISEmmPww9YvTcQq8/JV2OstnstT8Er5Y7M8G+P0c+r3jqkcU/5h99k6ZBzj88bCIzFzjVP4enV8oyxN0//yH99nXg5D8qOpLLf0jtP5kqGJXUifQ/c9cS8kHP/D+/DpwzojQEQIEmwoanVwxA4lgXt9HgE0BSSZ2AJuIbQAMJih9jjiNA5q4l5INuK0AwTKYKRj0zQNv5fmq8/DpAaCJseHrtQkB/+zpwzoxKQM3MzMzMeFJAZmZmZmZqWEAAAAAAAFxeQM3MzMzMJmJAmpmZmZkfZUBmZmZmZhhoQDMzMzMzEWtAAAAAAAAKbkBmZmZmZoFwQM3MzMzM/XFAMzMzMzN6c0CamZmZmfZ0QAAAAAAAc3ZAZmZmZmbvd0DNzMzMzGt5QDMzMzMz6HpAmpmZmZlkfEAAAAAAAOF9QGZmZmZmXX9AZmZmZuZsgECamZmZGSuBQM3MzMxM6YFAAAAAAICngkAzMzMzs2WDQGZmZmbmI4RAmpmZmRnihEDNzMzMTKCFQAAAAACAXoZAMzMzM7Mch0BmZmZm5tqHQJqZmZkZmYhAzczMzExXiUAAAAAAgBWKQDMzMzOz04pAZmZmZuaRi0CamZmZGVCMQM3MzMxMDo1AAAAAAIDMjUAzMzMzs4qOQGZmZmbmSI9A\",\"dtype\":\"float64\",\"shape\":[75]}},\"selected\":{\"id\":\"9603d1b8-ed35-4668-b7f8-e36100c3f0f4\",\"type\":\"Selection\"},\"selection_policy\":{\"id\":\"f1d46aa0-235c-4775-b1a5-d67548a2dd7f\",\"type\":\"UnionRenderers\"}},\"id\":\"d20bbc96-f6a9-42aa-9050-d082d83f740e\",\"type\":\"ColumnDataSource\"},{\"attributes\":{\"plot\":null,\"text\":\"Log pressure scale\"},\"id\":\"9c9384ca-8716-41a9-9614-89a7fc94d12f\",\"type\":\"Title\"},{\"attributes\":{\"label\":{\"value\":\"CLIRAD `coolr_bands`\"},\"renderers\":[{\"id\":\"6332bb3f-6251-4879-99b9-d635b9b182e6\",\"type\":\"GlyphRenderer\"}]},\"id\":\"6a1a876f-0811-42f9-98b6-2b563601e403\",\"type\":\"LegendItem\"},{\"attributes\":{\"line_alpha\":0.6,\"line_color\":\"#984ea3\",\"line_width\":3,\"x\":{\"field\":\"x\"},\"y\":{\"field\":\"y\"}},\"id\":\"2e2b270f-fefc-4864-9d73-1223979b8898\",\"type\":\"Line\"},{\"attributes\":{},\"id\":\"8e09cbea-9920-43bf-8d33-85ed0a2a1c00\",\"type\":\"UnionRenderers\"},{\"attributes\":{},\"id\":\"dc2e27d3-8de6-4ef5-bcaf-f269ec63d5ba\",\"type\":\"SaveTool\"},{\"attributes\":{\"label\":{\"value\":\"CRD\"},\"renderers\":[{\"id\":\"759bff9e-1ba9-46d3-ba9b-053ec71d4da5\",\"type\":\"GlyphRenderer\"},{\"id\":\"0da2024e-bc3c-4e7e-a98a-227913761477\",\"type\":\"GlyphRenderer\"}]},\"id\":\"04fc7305-4c51-4933-b0d4-3b448eb43f0f\",\"type\":\"LegendItem\"},{\"attributes\":{},\"id\":\"9e010abb-304b-495f-9589-5a1b95850545\",\"type\":\"ResetTool\"},{\"attributes\":{},\"id\":\"1a8397a5-a0cd-4df6-8472-9238f79bc8cb\",\"type\":\"BasicTickFormatter\"},{\"attributes\":{},\"id\":\"be39e8ae-d413-4957-9653-db9908f36787\",\"type\":\"HelpTool\"},{\"attributes\":{},\"id\":\"3361e35e-db10-4702-8bc3-323550639382\",\"type\":\"Selection\"},{\"attributes\":{},\"id\":\"6825032b-387b-4466-8506-398457557e72\",\"type\":\"Selection\"},{\"attributes\":{},\"id\":\"56ed71b4-e803-4e87-b108-423877630291\",\"type\":\"LinearScale\"},{\"attributes\":{},\"id\":\"ca6efaf4-6066-4465-af9c-a81eaabaef21\",\"type\":\"UnionRenderers\"},{\"attributes\":{},\"id\":\"c9b2d631-7217-404d-86d3-b2e1ac69a523\",\"type\":\"Selection\"},{\"attributes\":{\"line_alpha\":0.6,\"line_color\":\"#e41a1c\",\"line_dash\":[6],\"line_width\":5,\"x\":{\"field\":\"x\"},\"y\":{\"field\":\"y\"}},\"id\":\"e1c1535f-3ec1-4c38-a009-c7ccdff4194a\",\"type\":\"Line\"},{\"attributes\":{},\"id\":\"5c3c0f8e-c02a-4de2-8dd9-7c38f767a29b\",\"type\":\"Selection\"},{\"attributes\":{\"active_drag\":\"auto\",\"active_inspect\":\"auto\",\"active_scroll\":\"auto\",\"active_tap\":\"auto\",\"tools\":[{\"id\":\"cb7ece66-78b2-483b-b2ec-74071d433314\",\"type\":\"PanTool\"},{\"id\":\"d2099d31-819d-480c-a1f6-3f1050346383\",\"type\":\"WheelZoomTool\"},{\"id\":\"a6901c1f-754c-4b8c-b5c2-bf0246f557f7\",\"type\":\"BoxZoomTool\"},{\"id\":\"dc2e27d3-8de6-4ef5-bcaf-f269ec63d5ba\",\"type\":\"SaveTool\"},{\"id\":\"9e010abb-304b-495f-9589-5a1b95850545\",\"type\":\"ResetTool\"},{\"id\":\"be39e8ae-d413-4957-9653-db9908f36787\",\"type\":\"HelpTool\"}]},\"id\":\"04169296-8f47-43b9-92e0-0d5ac6ba257a\",\"type\":\"Toolbar\"},{\"attributes\":{},\"id\":\"56ba2597-4b2b-4912-a3bd-e3dd064eddac\",\"type\":\"UnionRenderers\"},{\"attributes\":{},\"id\":\"29e7691e-56f2-48fb-be77-ac8a18da460c\",\"type\":\"LogScale\"},{\"attributes\":{},\"id\":\"a1ed170a-2841-4914-ad8c-423194cb15b8\",\"type\":\"Selection\"},{\"attributes\":{\"active_drag\":\"auto\",\"active_inspect\":\"auto\",\"active_scroll\":\"auto\",\"active_tap\":\"auto\",\"tools\":[{\"id\":\"d8975ca6-80ca-4f68-976d-8dcdfe526a4d\",\"type\":\"PanTool\"},{\"id\":\"56f0b4bc-4555-46d5-9a89-8847c46172f1\",\"type\":\"WheelZoomTool\"},{\"id\":\"6ce5f5e1-4f97-4387-8c9f-4e66e56c46d4\",\"type\":\"BoxZoomTool\"},{\"id\":\"5036cc4b-1ebc-46e3-9285-f5170b393fae\",\"type\":\"SaveTool\"},{\"id\":\"e34667bd-0975-4f5e-a287-2d1bc11ca954\",\"type\":\"ResetTool\"},{\"id\":\"de358708-0846-43b7-948f-d2616e669960\",\"type\":\"HelpTool\"}]},\"id\":\"0f805d31-fbf0-495f-b0ee-e87268f6265e\",\"type\":\"Toolbar\"},{\"attributes\":{\"plot\":{\"id\":\"be5f0748-de33-472f-96b7-b193e92d5c70\",\"subtype\":\"Figure\",\"type\":\"Plot\"},\"ticker\":{\"id\":\"4954ef7a-2849-47e6-a5c0-03d0369e9e62\",\"type\":\"BasicTicker\"}},\"id\":\"94511a0c-c799-407a-9d93-414052d1609e\",\"type\":\"Grid\"},{\"attributes\":{},\"id\":\"7206a9c0-ecb9-4cfa-95f8-0fd5f35608fb\",\"type\":\"UnionRenderers\"},{\"attributes\":{\"ticker\":null},\"id\":\"dc577de8-621b-40c0-8e3f-882f945f4a97\",\"type\":\"LogTickFormatter\"},{\"attributes\":{\"axis_label\":\"cooling rate [K/day]\",\"formatter\":{\"id\":\"71215391-1548-4268-bd0f-784f22d65f29\",\"type\":\"BasicTickFormatter\"},\"plot\":{\"id\":\"be5f0748-de33-472f-96b7-b193e92d5c70\",\"subtype\":\"Figure\",\"type\":\"Plot\"},\"ticker\":{\"id\":\"4954ef7a-2849-47e6-a5c0-03d0369e9e62\",\"type\":\"BasicTicker\"}},\"id\":\"ed9228a5-8d74-4bf4-b240-15f258470c51\",\"type\":\"LinearAxis\"},{\"attributes\":{},\"id\":\"71215391-1548-4268-bd0f-784f22d65f29\",\"type\":\"BasicTickFormatter\"},{\"attributes\":{\"axis_label\":\"pressure [mb]\",\"formatter\":{\"id\":\"dc577de8-621b-40c0-8e3f-882f945f4a97\",\"type\":\"LogTickFormatter\"},\"plot\":{\"id\":\"be5f0748-de33-472f-96b7-b193e92d5c70\",\"subtype\":\"Figure\",\"type\":\"Plot\"},\"ticker\":{\"id\":\"80068a7a-2869-4e3a-b3dc-e7a9b17ef7aa\",\"type\":\"LogTicker\"}},\"id\":\"a2eb087f-773e-4137-bef8-113e1626308e\",\"type\":\"LogAxis\"},{\"attributes\":{},\"id\":\"9603d1b8-ed35-4668-b7f8-e36100c3f0f4\",\"type\":\"Selection\"},{\"attributes\":{\"num_minor_ticks\":10},\"id\":\"80068a7a-2869-4e3a-b3dc-e7a9b17ef7aa\",\"type\":\"LogTicker\"},{\"attributes\":{},\"id\":\"f1d46aa0-235c-4775-b1a5-d67548a2dd7f\",\"type\":\"UnionRenderers\"},{\"attributes\":{},\"id\":\"d8975ca6-80ca-4f68-976d-8dcdfe526a4d\",\"type\":\"PanTool\"},{\"attributes\":{},\"id\":\"4954ef7a-2849-47e6-a5c0-03d0369e9e62\",\"type\":\"BasicTicker\"},{\"attributes\":{},\"id\":\"c90dd9b4-f4a8-4c11-b962-b6b45e666c99\",\"type\":\"Selection\"},{\"attributes\":{},\"id\":\"e34667bd-0975-4f5e-a287-2d1bc11ca954\",\"type\":\"ResetTool\"},{\"attributes\":{\"line_alpha\":0.1,\"line_color\":\"#1f77b4\",\"line_width\":3,\"x\":{\"field\":\"x\"},\"y\":{\"field\":\"y\"}},\"id\":\"ec1f5b2a-0adc-40ff-a4d0-4f813c110869\",\"type\":\"Line\"},{\"attributes\":{},\"id\":\"8b71d463-4460-41bf-ba97-182c756d8193\",\"type\":\"Selection\"},{\"attributes\":{},\"id\":\"992c24e6-768d-47a3-b203-86cfc4f0026b\",\"type\":\"UnionRenderers\"},{\"attributes\":{\"source\":{\"id\":\"d20bbc96-f6a9-42aa-9050-d082d83f740e\",\"type\":\"ColumnDataSource\"}},\"id\":\"def3c47f-64d6-4d8f-959f-1ec15a7c0509\",\"type\":\"CDSView\"},{\"attributes\":{},\"id\":\"bf825a36-f39e-4102-94cd-b10509a5f742\",\"type\":\"UnionRenderers\"},{\"attributes\":{},\"id\":\"44d03959-53ff-446f-8c64-2c37c8467b8a\",\"type\":\"UnionRenderers\"},{\"attributes\":{\"toolbar\":{\"id\":\"e8bcbda7-4085-413b-a467-c4fa0d61dbd5\",\"type\":\"ProxyToolbar\"},\"toolbar_location\":\"above\"},\"id\":\"00128f57-6482-4a64-baa8-5291f683abbb\",\"type\":\"ToolbarBox\"},{\"attributes\":{\"items\":[{\"id\":\"6a1a876f-0811-42f9-98b6-2b563601e403\",\"type\":\"LegendItem\"},{\"id\":\"04fc7305-4c51-4933-b0d4-3b448eb43f0f\",\"type\":\"LegendItem\"},{\"id\":\"7b01b702-cc01-4b63-af3c-510aa7a3bf90\",\"type\":\"LegendItem\"}],\"label_text_font_size\":{\"value\":\"8pt\"},\"location\":[10,-30],\"plot\":{\"id\":\"be5f0748-de33-472f-96b7-b193e92d5c70\",\"subtype\":\"Figure\",\"type\":\"Plot\"}},\"id\":\"8e5048db-100a-4827-ba86-2014a238ecd7\",\"type\":\"Legend\"},{\"attributes\":{},\"id\":\"d2099d31-819d-480c-a1f6-3f1050346383\",\"type\":\"WheelZoomTool\"},{\"attributes\":{},\"id\":\"763874f4-9927-4041-ac6f-9b3be5ab9d08\",\"type\":\"Selection\"},{\"attributes\":{},\"id\":\"b201ebb1-f9c8-459a-a46a-f6af4c6c9da4\",\"type\":\"UnionRenderers\"},{\"attributes\":{\"tools\":[{\"id\":\"d8975ca6-80ca-4f68-976d-8dcdfe526a4d\",\"type\":\"PanTool\"},{\"id\":\"56f0b4bc-4555-46d5-9a89-8847c46172f1\",\"type\":\"WheelZoomTool\"},{\"id\":\"6ce5f5e1-4f97-4387-8c9f-4e66e56c46d4\",\"type\":\"BoxZoomTool\"},{\"id\":\"5036cc4b-1ebc-46e3-9285-f5170b393fae\",\"type\":\"SaveTool\"},{\"id\":\"e34667bd-0975-4f5e-a287-2d1bc11ca954\",\"type\":\"ResetTool\"},{\"id\":\"de358708-0846-43b7-948f-d2616e669960\",\"type\":\"HelpTool\"},{\"id\":\"cb7ece66-78b2-483b-b2ec-74071d433314\",\"type\":\"PanTool\"},{\"id\":\"d2099d31-819d-480c-a1f6-3f1050346383\",\"type\":\"WheelZoomTool\"},{\"id\":\"a6901c1f-754c-4b8c-b5c2-bf0246f557f7\",\"type\":\"BoxZoomTool\"},{\"id\":\"dc2e27d3-8de6-4ef5-bcaf-f269ec63d5ba\",\"type\":\"SaveTool\"},{\"id\":\"9e010abb-304b-495f-9589-5a1b95850545\",\"type\":\"ResetTool\"},{\"id\":\"be39e8ae-d413-4957-9653-db9908f36787\",\"type\":\"HelpTool\"}]},\"id\":\"e8bcbda7-4085-413b-a467-c4fa0d61dbd5\",\"type\":\"ProxyToolbar\"},{\"attributes\":{\"line_alpha\":0.1,\"line_color\":\"#1f77b4\",\"line_width\":3,\"x\":{\"field\":\"x\"},\"y\":{\"field\":\"y\"}},\"id\":\"2d480b2b-b4c7-4a66-8d52-c9d71eed9c78\",\"type\":\"Line\"},{\"attributes\":{\"data_source\":{\"id\":\"d20bbc96-f6a9-42aa-9050-d082d83f740e\",\"type\":\"ColumnDataSource\"},\"glyph\":{\"id\":\"2e2b270f-fefc-4864-9d73-1223979b8898\",\"type\":\"Line\"},\"hover_glyph\":null,\"muted_glyph\":null,\"nonselection_glyph\":{\"id\":\"2d480b2b-b4c7-4a66-8d52-c9d71eed9c78\",\"type\":\"Line\"},\"selection_glyph\":null,\"view\":{\"id\":\"def3c47f-64d6-4d8f-959f-1ec15a7c0509\",\"type\":\"CDSView\"}},\"id\":\"3f432a64-7b64-406f-8825-c7bf34d622f1\",\"type\":\"GlyphRenderer\"},{\"attributes\":{},\"id\":\"785d20c0-b46b-4532-9bea-d11af369104d\",\"type\":\"Selection\"},{\"attributes\":{\"callback\":null,\"end\":0.003925136409,\"start\":-0.006662148309},\"id\":\"c88b7f0e-831b-44f2-be1d-afc86f38635c\",\"type\":\"Range1d\"},{\"attributes\":{},\"id\":\"c14a3002-b638-4dc0-a546-e62d3813d231\",\"type\":\"UnionRenderers\"},{\"attributes\":{\"children\":[{\"id\":\"00128f57-6482-4a64-baa8-5291f683abbb\",\"type\":\"ToolbarBox\"},{\"id\":\"70382d3c-cb75-4e0a-a213-12cec326fc46\",\"type\":\"Column\"}]},\"id\":\"c49619a5-8ef2-4d2f-9804-686ea6b947ec\",\"type\":\"Column\"},{\"attributes\":{\"overlay\":{\"id\":\"c0fdfa80-507f-4153-bbec-1f7e44d0e823\",\"type\":\"BoxAnnotation\"}},\"id\":\"a6901c1f-754c-4b8c-b5c2-bf0246f557f7\",\"type\":\"BoxZoomTool\"},{\"attributes\":{\"bottom_units\":\"screen\",\"fill_alpha\":{\"value\":0.5},\"fill_color\":{\"value\":\"lightgrey\"},\"left_units\":\"screen\",\"level\":\"overlay\",\"line_alpha\":{\"value\":1.0},\"line_color\":{\"value\":\"black\"},\"line_dash\":[4,4],\"line_width\":{\"value\":2},\"plot\":null,\"render_mode\":\"css\",\"right_units\":\"screen\",\"top_units\":\"screen\"},\"id\":\"c0fdfa80-507f-4153-bbec-1f7e44d0e823\",\"type\":\"BoxAnnotation\"},{\"attributes\":{},\"id\":\"cb7ece66-78b2-483b-b2ec-74071d433314\",\"type\":\"PanTool\"},{\"attributes\":{\"callback\":null,\"end\":0.01,\"start\":1020},\"id\":\"28c5d0cb-10d8-4137-8be0-bd819790145b\",\"type\":\"Range1d\"},{\"attributes\":{\"callback\":null,\"data\":{\"x\":{\"__ndarray__\":\"mqKphAp6cr/1uUYCB1hyv4UVjOHhanK/aO1xgItXcr+zEMe4bkNyvwWKHIa9LnK/e0BN6z4Zcr/sDtLgaQNyv1WQxQvg7HG/QISxb/LVcb+ThOfWCb5xv1ZBJDWIpXG/cpl7ie+Lcb8XIXbO4WZxv4GB8geb63C/Z56H03ynb7/CUemdznlsv4YafiGvgWi/6ePn6PShY79R5FZq+WZbv+ne1TSdQUq/o6Dqfb8aIT+465k6skE/P9ryi4r7xCI/xV1F+BgHPL8kejT1fL1SvxUVgvhf912/afIkE/YAZL/Vrox8DIVov+cX9a4Zl2y/mqob8kYbcL+vz1Bn5K9xv7tNrpxTBnO/GgrqX8ModL8dM1GHQ111v7Yjd71de3a/2f2uQTv9dr/2BpvWP6p2v8xMiHitvXW/09N/im6zdL92/A2WjpJzvwjzIR8pX3K/7KgQpTsccb8eAwaOKphvv+Osuh1J4Wy/R1t7OREYar+AlVMk3j9nv7NNMK8qWmS/K7ctvB1pYb+KXe11yttcvxwZZEGT01a/iuhUw9C7UL/vrkBIRS5Fv+oVPZy9kDG/NBZXww13HT9u9fm11DpAP7tKPDNF1Uw/ms3GtkO9VD9lz9BONRJbP7dP91P9sGA/pZvUuSHLYz+uBROBXr9mPyH8Cfv2bWk/9PxvgRnOaz9SDSWZ6PptPy/GzkCWEXA/M5/Tcjc2cT9QXBpvznByP4Jf++4DvHM/RKU4H8MQdT+LL8FG5Wh2P41oJS+ewXc/ludsAsYaeT/LkE919HJ6P3niX2sCyns/\",\"dtype\":\"float64\",\"shape\":[75]},\"y\":{\"__ndarray__\":\"S/O/Q+51ND/Sv8nbtpRIP2vylNV0PVE/aTum7souWD/At0SJ8fVgPw3Iuahxymc/MSNhhJWvcD/bTfBN02d3P2zb5nxnaoA/CD5h5MAGhz8NmeH1TyaQP+zrCsc9p5Y/LbKd76fGnz/bLW5ISEmmPww9YvTcQq8/JV2OstnstT8Er5Y7M8G+P0c+r3jqkcU/5h99k6ZBzj88bCIzFzjVP4enV8oyxN0//yH99nXg5D8qOpLLf0jtP5kqGJXUifQ/c9cS8kHP/D+/DpwzojQEQIEmwoanVwxA4lgXt9HgE0BSSZ2AJuIbQAMJih9jjiNA5q4l5INuK0AwTKYKRj0zQNv5fmq8/DpAaCJseHrtQkB/+zpwzoxKQM3MzMzMeFJAZmZmZmZqWEAAAAAAAFxeQM3MzMzMJmJAmpmZmZkfZUBmZmZmZhhoQDMzMzMzEWtAAAAAAAAKbkBmZmZmZoFwQM3MzMzM/XFAMzMzMzN6c0CamZmZmfZ0QAAAAAAAc3ZAZmZmZmbvd0DNzMzMzGt5QDMzMzMz6HpAmpmZmZlkfEAAAAAAAOF9QGZmZmZmXX9AZmZmZuZsgECamZmZGSuBQM3MzMxM6YFAAAAAAICngkAzMzMzs2WDQGZmZmbmI4RAmpmZmRnihEDNzMzMTKCFQAAAAACAXoZAMzMzM7Mch0BmZmZm5tqHQJqZmZkZmYhAzczMzExXiUAAAAAAgBWKQDMzMzOz04pAZmZmZuaRi0CamZmZGVCMQM3MzMxMDo1AAAAAAIDMjUAzMzMzs4qOQGZmZmbmSI9A\",\"dtype\":\"float64\",\"shape\":[75]}},\"selected\":{\"id\":\"6825032b-387b-4466-8506-398457557e72\",\"type\":\"Selection\"},\"selection_policy\":{\"id\":\"ca6efaf4-6066-4465-af9c-a81eaabaef21\",\"type\":\"UnionRenderers\"}},\"id\":\"09689630-3a01-4651-983b-67a2fa90ae5c\",\"type\":\"ColumnDataSource\"},{\"attributes\":{\"below\":[{\"id\":\"ed9228a5-8d74-4bf4-b240-15f258470c51\",\"type\":\"LinearAxis\"}],\"left\":[{\"id\":\"a2eb087f-773e-4137-bef8-113e1626308e\",\"type\":\"LogAxis\"}],\"plot_height\":500,\"plot_width\":560,\"renderers\":[{\"id\":\"ed9228a5-8d74-4bf4-b240-15f258470c51\",\"type\":\"LinearAxis\"},{\"id\":\"94511a0c-c799-407a-9d93-414052d1609e\",\"type\":\"Grid\"},{\"id\":\"a2eb087f-773e-4137-bef8-113e1626308e\",\"type\":\"LogAxis\"},{\"id\":\"6acf1c37-9e54-4d0f-97a4-dd84af4744a3\",\"type\":\"Grid\"},{\"id\":\"c0fdfa80-507f-4153-bbec-1f7e44d0e823\",\"type\":\"BoxAnnotation\"},{\"id\":\"6332bb3f-6251-4879-99b9-d635b9b182e6\",\"type\":\"GlyphRenderer\"},{\"id\":\"759bff9e-1ba9-46d3-ba9b-053ec71d4da5\",\"type\":\"GlyphRenderer\"},{\"id\":\"0da2024e-bc3c-4e7e-a98a-227913761477\",\"type\":\"GlyphRenderer\"},{\"id\":\"b83b7ee9-7e2d-4665-89ee-e862b7c080c9\",\"type\":\"GlyphRenderer\"},{\"id\":\"f3227dd9-5959-49bc-b3e8-f43dd7f193de\",\"type\":\"GlyphRenderer\"},{\"id\":\"8e5048db-100a-4827-ba86-2014a238ecd7\",\"type\":\"Legend\"}],\"right\":[{\"id\":\"8e5048db-100a-4827-ba86-2014a238ecd7\",\"type\":\"Legend\"}],\"title\":{\"id\":\"9c9384ca-8716-41a9-9614-89a7fc94d12f\",\"type\":\"Title\"},\"toolbar\":{\"id\":\"04169296-8f47-43b9-92e0-0d5ac6ba257a\",\"type\":\"Toolbar\"},\"toolbar_location\":null,\"x_range\":{\"id\":\"c88b7f0e-831b-44f2-be1d-afc86f38635c\",\"type\":\"Range1d\"},\"x_scale\":{\"id\":\"56ed71b4-e803-4e87-b108-423877630291\",\"type\":\"LinearScale\"},\"y_range\":{\"id\":\"0ed8c5e9-1b02-4145-8378-33edb1e7fba5\",\"type\":\"Range1d\"},\"y_scale\":{\"id\":\"29e7691e-56f2-48fb-be77-ac8a18da460c\",\"type\":\"LogScale\"}},\"id\":\"be5f0748-de33-472f-96b7-b193e92d5c70\",\"subtype\":\"Figure\",\"type\":\"Plot\"},{\"attributes\":{},\"id\":\"2dcb5172-7b42-489e-8a0f-553b6b51cd6f\",\"type\":\"BasicTicker\"},{\"attributes\":{},\"id\":\"4bfcdc28-10de-4804-91a0-e1e88459480b\",\"type\":\"LinearScale\"},{\"attributes\":{\"below\":[{\"id\":\"4e30a169-0ccf-4274-9cfc-01f2bc34e82e\",\"type\":\"LinearAxis\"}],\"left\":[{\"id\":\"481b20ac-96c7-4018-ad43-5fe5e3e5d722\",\"type\":\"LinearAxis\"}],\"plot_height\":500,\"plot_width\":400,\"renderers\":[{\"id\":\"4e30a169-0ccf-4274-9cfc-01f2bc34e82e\",\"type\":\"LinearAxis\"},{\"id\":\"a06403e4-8dd2-4357-98f3-0bc00e3bded7\",\"type\":\"Grid\"},{\"id\":\"481b20ac-96c7-4018-ad43-5fe5e3e5d722\",\"type\":\"LinearAxis\"},{\"id\":\"68fc4b80-72f5-4f43-8978-1ba7e558cfbe\",\"type\":\"Grid\"},{\"id\":\"72262f81-ea1d-4fd1-ac3b-3cf8a5137973\",\"type\":\"BoxAnnotation\"},{\"id\":\"b56772a6-f33f-49ae-8eef-75bb83422923\",\"type\":\"GlyphRenderer\"},{\"id\":\"e4d65f38-be7b-42f1-8cd4-58ed825ae07b\",\"type\":\"GlyphRenderer\"},{\"id\":\"fc25237d-9cde-4a3e-a481-1397fee003e9\",\"type\":\"GlyphRenderer\"},{\"id\":\"2e779531-5fc3-4aae-9c29-1f1f2b25497d\",\"type\":\"GlyphRenderer\"},{\"id\":\"3f432a64-7b64-406f-8825-c7bf34d622f1\",\"type\":\"GlyphRenderer\"}],\"title\":{\"id\":\"1ee84fb1-1817-4e1b-a380-bda034b02717\",\"type\":\"Title\"},\"toolbar\":{\"id\":\"0f805d31-fbf0-495f-b0ee-e87268f6265e\",\"type\":\"Toolbar\"},\"toolbar_location\":null,\"x_range\":{\"id\":\"3b71ceed-74ee-4db2-bb87-587000e3465e\",\"type\":\"Range1d\"},\"x_scale\":{\"id\":\"4bfcdc28-10de-4804-91a0-e1e88459480b\",\"type\":\"LinearScale\"},\"y_range\":{\"id\":\"28c5d0cb-10d8-4137-8be0-bd819790145b\",\"type\":\"Range1d\"},\"y_scale\":{\"id\":\"6af95491-f4ee-4135-ae91-a29f3807f8fc\",\"type\":\"LinearScale\"}},\"id\":\"0b15148a-99a5-45ac-8cf4-7197407ca71b\",\"subtype\":\"Figure\",\"type\":\"Plot\"},{\"attributes\":{\"callback\":null,\"data\":{\"x\":{\"__ndarray__\":\"2E7M5YN4db9+WjFSYm11vxt+BVpSVnW/SJYvk1g+db/ClTyywyV1v8rCJ/qUDHW/fFzeD83ydL/AbtIhadh0v4KCr0luvXS/2aR4n96hdL8RFqyxv4V0v/G7M9sYaXS/t+KXiNtLdL+OudzwnCV0v9a8OKeRk3O/IcCp1FNAcr8k1yiHMVJwvzsw2ajp22u/F5VLYSkEZr92Nw5+G9Bdv8mqQafwXUm/hrEAZJGdNj+5LC8rOepIP5Owt03ckjc/Da+v4HAvNb8mXTX6kVVTv0qixNKzZWC/LDNTQHRmZr/bcvmJZslrv43PiaG6UHC/nN/mjCV+cr8d4Fh/42V0vwi9nLHmAna/Hr57cTFgd7/GpDfLidd4v0gyj2uoOXq/xXR1DO7cer8B5QUNg5Z6v3yf3zTTdnm/fQESlZo5eL/QPttNpeR2v6TsvGuagHW/OipSODYPdL8c+TOoLH1yv30SkX7Y4nC/MGaASBV+br+Vysd2hj5rv3Uz06FC2me/dhiGHXxgZL86l1UlwNpgvy7HRkBHm1q/2H/Eh/62U79UJoMt5ctIvy867PmoYDS/37qOv9/8IT9wVKiWP+tCP6XJnb5L1VA/4sfRihpNWD/Tvg/AM8VfP0gKJKEfmGM/H8dN1GQbZz+wwxQFc51qP+lQ3vSbw20/yqSgQeVEcD/ae+xDon1xP+rNO138vnI/ezCyL5wVdD92JzGmpoZ1P1mpK5VzBnc/AQ2oEyaOeD9XWkg0iCV6P50KbFm0vHs/4SAVDlpSfT/Y88bk7Nh+P+SZGbJIN4A/\",\"dtype\":\"float64\",\"shape\":[75]},\"y\":{\"__ndarray__\":\"GhExyth1ND/Sv8nbtpRIP2vylNV0PVE/aTum7souWD/At0SJ8fVgPw3Iuahxymc/MSNhhJWvcD/bTfBN02d3P2zb5nxnaoA/CD5h5MAGhz8NmeH1TyaQP+zrCsc9p5Y/LbKd76fGnz/bLW5ISEmmPww9YvTcQq8/JV2OstnstT8Er5Y7M8G+P0c+r3jqkcU/5h99k6ZBzj88bCIzFzjVP4enV8oyxN0//yH99nXg5D8qOpLLf0jtP5kqGJXUifQ/c9cS8kHP/D+/DpwzojQEQIEmwoanVwxA4lgXt9HgE0BSSZ2AJuIbQAMJih9jjiNA5q4l5INuK0AwTKYKRj0zQNv5fmq8/DpAaCJseHrtQkB/+zpwzoxKQM3MzMzMeFJAZmZmZmZqWEAAAAAAAFxeQM3MzMzMJmJAmpmZmZkfZUBmZmZmZhhoQDMzMzMzEWtAAAAAAAAKbkBmZmZmZoFwQM3MzMzM/XFAMzMzMzN6c0CamZmZmfZ0QAAAAAAAc3ZAZmZmZmbvd0DNzMzMzGt5QDMzMzMz6HpAmpmZmZlkfEAAAAAAAOF9QGZmZmZmXX9AZmZmZuZsgECamZmZGSuBQM3MzMxM6YFAAAAAAICngkAzMzMzs2WDQGZmZmbmI4RAmpmZmRnihEDNzMzMTKCFQAAAAACAXoZAMzMzM7Mch0BmZmZm5tqHQJqZmZkZmYhAzczMzExXiUAAAAAAgBWKQDMzMzOz04pAZmZmZuaRi0CamZmZGVCMQM3MzMxMDo1AAAAAAIDMjUAzMzMzs4qOQGZmZmbmSI9A\",\"dtype\":\"float64\",\"shape\":[75]}},\"selected\":{\"id\":\"3361e35e-db10-4702-8bc3-323550639382\",\"type\":\"Selection\"},\"selection_policy\":{\"id\":\"56ba2597-4b2b-4912-a3bd-e3dd064eddac\",\"type\":\"UnionRenderers\"}},\"id\":\"40274b80-b0c6-4785-8897-3322476d4ee2\",\"type\":\"ColumnDataSource\"},{\"attributes\":{\"fill_alpha\":{\"value\":0.1},\"fill_color\":{\"value\":\"#1f77b4\"},\"line_alpha\":{\"value\":0.1},\"line_color\":{\"value\":\"#1f77b4\"},\"x\":{\"field\":\"x\"},\"y\":{\"field\":\"y\"}},\"id\":\"88b9eb4a-c52f-4ba8-aa52-91a4f6cbe452\",\"type\":\"Square\"},{\"attributes\":{\"fill_alpha\":{\"value\":0.7},\"fill_color\":{\"value\":\"#984ea3\"},\"line_alpha\":{\"value\":0.7},\"line_color\":{\"value\":\"#984ea3\"},\"x\":{\"field\":\"x\"},\"y\":{\"field\":\"y\"}},\"id\":\"f3216a6e-fc14-4ac8-9680-588709cc5239\",\"type\":\"Square\"},{\"attributes\":{\"source\":{\"id\":\"09689630-3a01-4651-983b-67a2fa90ae5c\",\"type\":\"ColumnDataSource\"}},\"id\":\"df56bb07-6e04-4ae0-9510-a0c85e675b4f\",\"type\":\"CDSView\"},{\"attributes\":{\"data_source\":{\"id\":\"fe35f59e-afca-464c-80fa-717fa4dfd66e\",\"type\":\"ColumnDataSource\"},\"glyph\":{\"id\":\"0af62607-266d-4d45-8df1-4429c7c81833\",\"type\":\"Circle\"},\"hover_glyph\":null,\"muted_glyph\":null,\"nonselection_glyph\":{\"id\":\"3627d3b9-4e6b-48fd-a362-d667434e57b8\",\"type\":\"Circle\"},\"selection_glyph\":null,\"view\":{\"id\":\"25ea9e89-a8e8-46b4-974d-ae032fe2c212\",\"type\":\"CDSView\"}},\"id\":\"e4d65f38-be7b-42f1-8cd4-58ed825ae07b\",\"type\":\"GlyphRenderer\"},{\"attributes\":{\"callback\":null,\"end\":0.008062708771999999,\"start\":-0.006703114372},\"id\":\"3b71ceed-74ee-4db2-bb87-587000e3465e\",\"type\":\"Range1d\"},{\"attributes\":{\"callback\":null,\"data\":{\"x\":{\"__ndarray__\":\"xUlzCr8LZL/geDhuKvNjv5KPHdjRv2O/mz7a/0mKY7+t15sxeFNjvzqXXU3pG2O/D3tts0LjYr8KPA8p6Khiv0QRSo+KbmK/Jtsa+xQzYr/90mGQO/Zhv/Cjr6OXuGG/jWdxOhl5Yb+pXOyrpyVhv6zfqHPO0V+/cru4Uu0hWr+MUFVp1/lRvw+Uj36FsD+/J7MYrl88MT85DwvbbRxTP8mIziWqbWI/LZ7S7sTmaz9RwL0F7k1vP0hr10dRrms/S6RWF/WiZT/qFZCiQDJcP9nGzNG/kEs/H/huR6MwCz/JjcvmgsBFv+AYxPclqlW/508o/+vAX78dFCmZ0KdkvzTuFbNoNWm/zBht9Z+sbb+VwILNW2Jxv2f69oSdCHS/ldQHHtjbdb+Pf4mxcWF2vxvDWjtc8nW/rutUT59Kdb8dPhc0TnZ0v6qkum79fHO/V5OB5QNgcr8b/h0J8Chxv3SSjGndt2+/qj+4vuz3bL+CtyBQ/xZqvy52MJ8CGWe/jEmGMokAZL9slT9jT9Bgvx8fhxlHGVu/M66q6QJvVL9SPblSK0tLvztp5++V/zq/EqEZQvOj7z6NgCW5QVU9P7WgVTgSAE0/ySSmMcG8VT/7ZOUQGgVdP6UbVCcPJ2I/hnBWyaq9ZT+jHRg40CdpP3Haag7EPWw/Vt7vB6zybj/4T+FPJ7VwP3OMgwrQ73E/Mfm/nIJAcz+MVTvt5q50P1/mrHFsNHY/vKmuHtzGdz+KjH13Wl95Pw1iomyK+no/+xTyStOVfD+P5KkA/DB+P1oTOpA2zH8/\",\"dtype\":\"float64\",\"shape\":[75]},\"y\":{\"__ndarray__\":\"GhExyth1ND/Sv8nbtpRIP2vylNV0PVE/aTum7souWD/At0SJ8fVgPw3Iuahxymc/MSNhhJWvcD/bTfBN02d3P2zb5nxnaoA/CD5h5MAGhz8NmeH1TyaQP+zrCsc9p5Y/LbKd76fGnz/bLW5ISEmmPww9YvTcQq8/JV2OstnstT8Er5Y7M8G+P0c+r3jqkcU/5h99k6ZBzj88bCIzFzjVP4enV8oyxN0//yH99nXg5D8qOpLLf0jtP5kqGJXUifQ/c9cS8kHP/D+/DpwzojQEQIEmwoanVwxA4lgXt9HgE0BSSZ2AJuIbQAMJih9jjiNA5q4l5INuK0AwTKYKRj0zQNv5fmq8/DpAaCJseHrtQkB/+zpwzoxKQM3MzMzMeFJAZmZmZmZqWEAAAAAAAFxeQM3MzMzMJmJAmpmZmZkfZUBmZmZmZhhoQDMzMzMzEWtAAAAAAAAKbkBmZmZmZoFwQM3MzMzM/XFAMzMzMzN6c0CamZmZmfZ0QAAAAAAAc3ZAZmZmZmbvd0DNzMzMzGt5QDMzMzMz6HpAmpmZmZlkfEAAAAAAAOF9QGZmZmZmXX9AZmZmZuZsgECamZmZGSuBQM3MzMxM6YFAAAAAAICngkAzMzMzs2WDQGZmZmbmI4RAmpmZmRnihEDNzMzMTKCFQAAAAACAXoZAMzMzM7Mch0BmZmZm5tqHQJqZmZkZmYhAzczMzExXiUAAAAAAgBWKQDMzMzOz04pAZmZmZuaRi0CamZmZGVCMQM3MzMxMDo1AAAAAAIDMjUAzMzMzs4qOQGZmZmbmSI9A\",\"dtype\":\"float64\",\"shape\":[75]}},\"selected\":{\"id\":\"c9b2d631-7217-404d-86d3-b2e1ac69a523\",\"type\":\"Selection\"},\"selection_policy\":{\"id\":\"8e09cbea-9920-43bf-8d33-85ed0a2a1c00\",\"type\":\"UnionRenderers\"}},\"id\":\"fe35f59e-afca-464c-80fa-717fa4dfd66e\",\"type\":\"ColumnDataSource\"},{\"attributes\":{\"plot\":{\"id\":\"0b15148a-99a5-45ac-8cf4-7197407ca71b\",\"subtype\":\"Figure\",\"type\":\"Plot\"},\"ticker\":{\"id\":\"7111f96d-22d1-4dc1-a61b-1637176030bd\",\"type\":\"BasicTicker\"}},\"id\":\"a06403e4-8dd2-4357-98f3-0bc00e3bded7\",\"type\":\"Grid\"},{\"attributes\":{\"source\":{\"id\":\"fe35f59e-afca-464c-80fa-717fa4dfd66e\",\"type\":\"ColumnDataSource\"}},\"id\":\"25ea9e89-a8e8-46b4-974d-ae032fe2c212\",\"type\":\"CDSView\"},{\"attributes\":{},\"id\":\"56f0b4bc-4555-46d5-9a89-8847c46172f1\",\"type\":\"WheelZoomTool\"},{\"attributes\":{\"data_source\":{\"id\":\"af0373f2-401a-4eed-b5a6-c204c8f2a368\",\"type\":\"ColumnDataSource\"},\"glyph\":{\"id\":\"183adc21-107d-40b5-a8ff-8a24ea0485ff\",\"type\":\"Line\"},\"hover_glyph\":null,\"muted_glyph\":null,\"nonselection_glyph\":{\"id\":\"d909d297-0b5c-45ac-adb2-51299aea3827\",\"type\":\"Line\"},\"selection_glyph\":null,\"view\":{\"id\":\"c797b656-e53f-4b8c-a295-8ec02957bd86\",\"type\":\"CDSView\"}},\"id\":\"fc25237d-9cde-4a3e-a481-1397fee003e9\",\"type\":\"GlyphRenderer\"},{\"attributes\":{\"line_alpha\":0.1,\"line_color\":\"#1f77b4\",\"line_dash\":[6],\"line_width\":5,\"x\":{\"field\":\"x\"},\"y\":{\"field\":\"y\"}},\"id\":\"5156db20-2357-46bf-92dd-8750fb2436a7\",\"type\":\"Line\"},{\"attributes\":{\"fill_alpha\":{\"value\":0.1},\"fill_color\":{\"value\":\"#1f77b4\"},\"line_alpha\":{\"value\":0.1},\"line_color\":{\"value\":\"#1f77b4\"},\"x\":{\"field\":\"x\"},\"y\":{\"field\":\"y\"}},\"id\":\"3627d3b9-4e6b-48fd-a362-d667434e57b8\",\"type\":\"Circle\"},{\"attributes\":{\"dimension\":1,\"plot\":{\"id\":\"0b15148a-99a5-45ac-8cf4-7197407ca71b\",\"subtype\":\"Figure\",\"type\":\"Plot\"},\"ticker\":{\"id\":\"2dcb5172-7b42-489e-8a0f-553b6b51cd6f\",\"type\":\"BasicTicker\"}},\"id\":\"68fc4b80-72f5-4f43-8978-1ba7e558cfbe\",\"type\":\"Grid\"},{\"attributes\":{\"callback\":null,\"data\":{\"x\":{\"__ndarray__\":\"xUlzCr8LZL/geDhuKvNjv5KPHdjRv2O/mz7a/0mKY7+t15sxeFNjvzqXXU3pG2O/D3tts0LjYr8KPA8p6Khiv0QRSo+KbmK/Jtsa+xQzYr/90mGQO/Zhv/Cjr6OXuGG/jWdxOhl5Yb+pXOyrpyVhv6zfqHPO0V+/cru4Uu0hWr+MUFVp1/lRvw+Uj36FsD+/J7MYrl88MT85DwvbbRxTP8mIziWqbWI/LZ7S7sTmaz9RwL0F7k1vP0hr10dRrms/S6RWF/WiZT/qFZCiQDJcP9nGzNG/kEs/H/huR6MwCz/JjcvmgsBFv+AYxPclqlW/508o/+vAX78dFCmZ0KdkvzTuFbNoNWm/zBht9Z+sbb+VwILNW2Jxv2f69oSdCHS/ldQHHtjbdb+Pf4mxcWF2vxvDWjtc8nW/rutUT59Kdb8dPhc0TnZ0v6qkum79fHO/V5OB5QNgcr8b/h0J8Chxv3SSjGndt2+/qj+4vuz3bL+CtyBQ/xZqvy52MJ8CGWe/jEmGMokAZL9slT9jT9Bgvx8fhxlHGVu/M66q6QJvVL9SPblSK0tLvztp5++V/zq/EqEZQvOj7z6NgCW5QVU9P7WgVTgSAE0/ySSmMcG8VT/7ZOUQGgVdP6UbVCcPJ2I/hnBWyaq9ZT+jHRg40CdpP3Haag7EPWw/Vt7vB6zybj/4T+FPJ7VwP3OMgwrQ73E/Mfm/nIJAcz+MVTvt5q50P1/mrHFsNHY/vKmuHtzGdz+KjH13Wl95Pw1iomyK+no/+xTyStOVfD+P5KkA/DB+P1oTOpA2zH8/\",\"dtype\":\"float64\",\"shape\":[75]},\"y\":{\"__ndarray__\":\"GhExyth1ND/Sv8nbtpRIP2vylNV0PVE/aTum7souWD/At0SJ8fVgPw3Iuahxymc/MSNhhJWvcD/bTfBN02d3P2zb5nxnaoA/CD5h5MAGhz8NmeH1TyaQP+zrCsc9p5Y/LbKd76fGnz/bLW5ISEmmPww9YvTcQq8/JV2OstnstT8Er5Y7M8G+P0c+r3jqkcU/5h99k6ZBzj88bCIzFzjVP4enV8oyxN0//yH99nXg5D8qOpLLf0jtP5kqGJXUifQ/c9cS8kHP/D+/DpwzojQEQIEmwoanVwxA4lgXt9HgE0BSSZ2AJuIbQAMJih9jjiNA5q4l5INuK0AwTKYKRj0zQNv5fmq8/DpAaCJseHrtQkB/+zpwzoxKQM3MzMzMeFJAZmZmZmZqWEAAAAAAAFxeQM3MzMzMJmJAmpmZmZkfZUBmZmZmZhhoQDMzMzMzEWtAAAAAAAAKbkBmZmZmZoFwQM3MzMzM/XFAMzMzMzN6c0CamZmZmfZ0QAAAAAAAc3ZAZmZmZmbvd0DNzMzMzGt5QDMzMzMz6HpAmpmZmZlkfEAAAAAAAOF9QGZmZmZmXX9AZmZmZuZsgECamZmZGSuBQM3MzMxM6YFAAAAAAICngkAzMzMzs2WDQGZmZmbmI4RAmpmZmRnihEDNzMzMTKCFQAAAAACAXoZAMzMzM7Mch0BmZmZm5tqHQJqZmZkZmYhAzczMzExXiUAAAAAAgBWKQDMzMzOz04pAZmZmZuaRi0CamZmZGVCMQM3MzMxMDo1AAAAAAIDMjUAzMzMzs4qOQGZmZmbmSI9A\",\"dtype\":\"float64\",\"shape\":[75]}},\"selected\":{\"id\":\"a1ed170a-2841-4914-ad8c-423194cb15b8\",\"type\":\"Selection\"},\"selection_policy\":{\"id\":\"7206a9c0-ecb9-4cfa-95f8-0fd5f35608fb\",\"type\":\"UnionRenderers\"}},\"id\":\"af0373f2-401a-4eed-b5a6-c204c8f2a368\",\"type\":\"ColumnDataSource\"},{\"attributes\":{},\"id\":\"7111f96d-22d1-4dc1-a61b-1637176030bd\",\"type\":\"BasicTicker\"},{\"attributes\":{\"line_color\":\"#4daf4a\",\"line_width\":1.5,\"x\":{\"field\":\"x\"},\"y\":{\"field\":\"y\"}},\"id\":\"183adc21-107d-40b5-a8ff-8a24ea0485ff\",\"type\":\"Line\"},{\"attributes\":{\"data_source\":{\"id\":\"09689630-3a01-4651-983b-67a2fa90ae5c\",\"type\":\"ColumnDataSource\"},\"glyph\":{\"id\":\"e1c1535f-3ec1-4c38-a009-c7ccdff4194a\",\"type\":\"Line\"},\"hover_glyph\":null,\"muted_glyph\":null,\"nonselection_glyph\":{\"id\":\"5156db20-2357-46bf-92dd-8750fb2436a7\",\"type\":\"Line\"},\"selection_glyph\":null,\"view\":{\"id\":\"df56bb07-6e04-4ae0-9510-a0c85e675b4f\",\"type\":\"CDSView\"}},\"id\":\"b56772a6-f33f-49ae-8eef-75bb83422923\",\"type\":\"GlyphRenderer\"},{\"attributes\":{\"axis_label\":\"pressure [mb]\",\"formatter\":{\"id\":\"fafe3b36-e309-44fa-91c2-5483348a3bc1\",\"type\":\"BasicTickFormatter\"},\"plot\":{\"id\":\"0b15148a-99a5-45ac-8cf4-7197407ca71b\",\"subtype\":\"Figure\",\"type\":\"Plot\"},\"ticker\":{\"id\":\"2dcb5172-7b42-489e-8a0f-553b6b51cd6f\",\"type\":\"BasicTicker\"}},\"id\":\"481b20ac-96c7-4018-ad43-5fe5e3e5d722\",\"type\":\"LinearAxis\"},{\"attributes\":{},\"id\":\"6af95491-f4ee-4135-ae91-a29f3807f8fc\",\"type\":\"LinearScale\"},{\"attributes\":{\"fill_alpha\":{\"value\":0.7},\"fill_color\":{\"value\":\"#4daf4a\"},\"line_alpha\":{\"value\":0.7},\"line_color\":{\"value\":\"#4daf4a\"},\"x\":{\"field\":\"x\"},\"y\":{\"field\":\"y\"}},\"id\":\"0af62607-266d-4d45-8df1-4429c7c81833\",\"type\":\"Circle\"},{\"attributes\":{\"line_alpha\":0.1,\"line_color\":\"#1f77b4\",\"line_dash\":[6],\"line_width\":5,\"x\":{\"field\":\"x\"},\"y\":{\"field\":\"y\"}},\"id\":\"e1a86a35-a38f-4837-a4aa-c00ebb6f3c76\",\"type\":\"Line\"},{\"attributes\":{\"axis_label\":\"cooling rate [K/day]\",\"formatter\":{\"id\":\"1a8397a5-a0cd-4df6-8472-9238f79bc8cb\",\"type\":\"BasicTickFormatter\"},\"plot\":{\"id\":\"0b15148a-99a5-45ac-8cf4-7197407ca71b\",\"subtype\":\"Figure\",\"type\":\"Plot\"},\"ticker\":{\"id\":\"7111f96d-22d1-4dc1-a61b-1637176030bd\",\"type\":\"BasicTicker\"}},\"id\":\"4e30a169-0ccf-4274-9cfc-01f2bc34e82e\",\"type\":\"LinearAxis\"},{\"attributes\":{\"line_alpha\":0.1,\"line_color\":\"#1f77b4\",\"line_width\":1.5,\"x\":{\"field\":\"x\"},\"y\":{\"field\":\"y\"}},\"id\":\"d909d297-0b5c-45ac-adb2-51299aea3827\",\"type\":\"Line\"},{\"attributes\":{\"source\":{\"id\":\"af0373f2-401a-4eed-b5a6-c204c8f2a368\",\"type\":\"ColumnDataSource\"}},\"id\":\"c797b656-e53f-4b8c-a295-8ec02957bd86\",\"type\":\"CDSView\"},{\"attributes\":{\"dimension\":1,\"plot\":{\"id\":\"be5f0748-de33-472f-96b7-b193e92d5c70\",\"subtype\":\"Figure\",\"type\":\"Plot\"},\"ticker\":{\"id\":\"80068a7a-2869-4e3a-b3dc-e7a9b17ef7aa\",\"type\":\"LogTicker\"}},\"id\":\"6acf1c37-9e54-4d0f-97a4-dd84af4744a3\",\"type\":\"Grid\"},{\"attributes\":{\"plot\":null,\"text\":\"Linear pressure scale\"},\"id\":\"1ee84fb1-1817-4e1b-a380-bda034b02717\",\"type\":\"Title\"}],\"root_ids\":[\"c49619a5-8ef2-4d2f-9804-686ea6b947ec\"]},\"title\":\"Bokeh Application\",\"version\":\"0.12.16\"}};\n",
       "  var render_items = [{\"docid\":\"0bd448ef-fd67-4e7f-abd1-1ff97ee12391\",\"elementid\":\"d471f123-7bfa-4d32-be29-b69ed46f4cee\",\"modelid\":\"c49619a5-8ef2-4d2f-9804-686ea6b947ec\"}];\n",
       "  root.Bokeh.embed.embed_items_notebook(docs_json, render_items);\n",
       "\n",
       "  }\n",
       "  if (root.Bokeh !== undefined) {\n",
       "    embed_document(root);\n",
       "  } else {\n",
       "    var attempts = 0;\n",
       "    var timer = setInterval(function(root) {\n",
       "      if (root.Bokeh !== undefined) {\n",
       "        embed_document(root);\n",
       "        clearInterval(timer);\n",
       "      }\n",
       "      attempts++;\n",
       "      if (attempts > 100) {\n",
       "        console.log(\"Bokeh: ERROR: Unable to run BokehJS code because BokehJS library is missing\")\n",
       "        clearInterval(timer);\n",
       "      }\n",
       "    }, 10, root)\n",
       "  }\n",
       "})(window);"
      ],
      "application/vnd.bokehjs_exec.v0+json": ""
     },
     "metadata": {
      "application/vnd.bokehjs_exec.v0+json": {
       "id": "c49619a5-8ef2-4d2f-9804-686ea6b947ec"
      }
     },
     "output_type": "display_data"
    },
    {
     "name": "stdout",
     "output_type": "stream",
     "text": [
      "FIGURE. Cooling rate profiles.\n"
     ]
    },
    {
     "data": {
      "text/html": [
       "<a id=\"Flux_Comparison\"></a>"
      ],
      "text/plain": [
       "<IPython.core.display.HTML object>"
      ]
     },
     "metadata": {},
     "output_type": "display_data"
    },
    {
     "data": {
      "text/markdown": [
       "# Flux Comparison"
      ],
      "text/plain": [
       "<IPython.core.display.Markdown object>"
      ]
     },
     "metadata": {},
     "output_type": "display_data"
    },
    {
     "data": {
      "text/html": [
       "<div>\n",
       "<style scoped>\n",
       "    .dataframe tbody tr th:only-of-type {\n",
       "        vertical-align: middle;\n",
       "    }\n",
       "\n",
       "    .dataframe tbody tr th {\n",
       "        vertical-align: top;\n",
       "    }\n",
       "\n",
       "    .dataframe thead th {\n",
       "        text-align: right;\n",
       "    }\n",
       "</style>\n",
       "<table border=\"1\" class=\"dataframe\">\n",
       "  <thead>\n",
       "    <tr style=\"text-align: right;\">\n",
       "      <th></th>\n",
       "      <th></th>\n",
       "      <th>flug</th>\n",
       "      <th>fldg</th>\n",
       "      <th>fnetg</th>\n",
       "    </tr>\n",
       "    <tr>\n",
       "      <th>pressure</th>\n",
       "      <th>level</th>\n",
       "      <th></th>\n",
       "      <th></th>\n",
       "      <th></th>\n",
       "    </tr>\n",
       "  </thead>\n",
       "  <tbody>\n",
       "    <tr>\n",
       "      <th>0.0000</th>\n",
       "      <th>1</th>\n",
       "      <td>-25.631842</td>\n",
       "      <td>0.000000</td>\n",
       "      <td>-25.631842</td>\n",
       "    </tr>\n",
       "    <tr>\n",
       "      <th>1.0685</th>\n",
       "      <th>24</th>\n",
       "      <td>-25.631990</td>\n",
       "      <td>0.000403</td>\n",
       "      <td>-25.631587</td>\n",
       "    </tr>\n",
       "    <tr>\n",
       "      <th>1013.0000</th>\n",
       "      <th>76</th>\n",
       "      <td>-26.065205</td>\n",
       "      <td>0.461378</td>\n",
       "      <td>-25.603827</td>\n",
       "    </tr>\n",
       "  </tbody>\n",
       "</table>\n",
       "</div>"
      ],
      "text/plain": [
       "                      flug      fldg      fnetg\n",
       "pressure  level                                \n",
       "0.0000    1     -25.631842  0.000000 -25.631842\n",
       "1.0685    24    -25.631990  0.000403 -25.631587\n",
       "1013.0000 76    -26.065205  0.461378 -25.603827"
      ]
     },
     "metadata": {},
     "output_type": "display_data"
    },
    {
     "name": "stdout",
     "output_type": "stream",
     "text": [
      "Table. Fluxes. CRD\n"
     ]
    },
    {
     "data": {
      "text/html": [
       "<div>\n",
       "<style scoped>\n",
       "    .dataframe tbody tr th:only-of-type {\n",
       "        vertical-align: middle;\n",
       "    }\n",
       "\n",
       "    .dataframe tbody tr th {\n",
       "        vertical-align: top;\n",
       "    }\n",
       "\n",
       "    .dataframe thead th {\n",
       "        text-align: right;\n",
       "    }\n",
       "</style>\n",
       "<table border=\"1\" class=\"dataframe\">\n",
       "  <thead>\n",
       "    <tr style=\"text-align: right;\">\n",
       "      <th></th>\n",
       "      <th></th>\n",
       "      <th>flug</th>\n",
       "      <th>fldg</th>\n",
       "      <th>fnetg</th>\n",
       "    </tr>\n",
       "    <tr>\n",
       "      <th>pressure</th>\n",
       "      <th>level</th>\n",
       "      <th></th>\n",
       "      <th></th>\n",
       "      <th></th>\n",
       "    </tr>\n",
       "  </thead>\n",
       "  <tbody>\n",
       "    <tr>\n",
       "      <th>0.0000</th>\n",
       "      <th>1</th>\n",
       "      <td>-25.590565</td>\n",
       "      <td>0.000000</td>\n",
       "      <td>-25.590565</td>\n",
       "    </tr>\n",
       "    <tr>\n",
       "      <th>1.0685</th>\n",
       "      <th>24</th>\n",
       "      <td>-25.591078</td>\n",
       "      <td>0.000387</td>\n",
       "      <td>-25.590691</td>\n",
       "    </tr>\n",
       "    <tr>\n",
       "      <th>1013.0000</th>\n",
       "      <th>76</th>\n",
       "      <td>-26.065205</td>\n",
       "      <td>0.475042</td>\n",
       "      <td>-25.590163</td>\n",
       "    </tr>\n",
       "  </tbody>\n",
       "</table>\n",
       "</div>"
      ],
      "text/plain": [
       "                      flug      fldg      fnetg\n",
       "pressure  level                                \n",
       "0.0000    1     -25.590565  0.000000 -25.590565\n",
       "1.0685    24    -25.591078  0.000387 -25.590691\n",
       "1013.0000 76    -26.065205  0.475042 -25.590163"
      ]
     },
     "metadata": {},
     "output_type": "display_data"
    },
    {
     "name": "stdout",
     "output_type": "stream",
     "text": [
      "Table. Fluxes. WGT igg=10 wgt_flux=1\n"
     ]
    },
    {
     "data": {
      "text/html": [
       "<div>\n",
       "<style scoped>\n",
       "    .dataframe tbody tr th:only-of-type {\n",
       "        vertical-align: middle;\n",
       "    }\n",
       "\n",
       "    .dataframe tbody tr th {\n",
       "        vertical-align: top;\n",
       "    }\n",
       "\n",
       "    .dataframe thead th {\n",
       "        text-align: right;\n",
       "    }\n",
       "</style>\n",
       "<table border=\"1\" class=\"dataframe\">\n",
       "  <thead>\n",
       "    <tr style=\"text-align: right;\">\n",
       "      <th></th>\n",
       "      <th></th>\n",
       "      <th>flug</th>\n",
       "      <th>fldg</th>\n",
       "      <th>fnetg</th>\n",
       "    </tr>\n",
       "    <tr>\n",
       "      <th>pressure</th>\n",
       "      <th>level</th>\n",
       "      <th></th>\n",
       "      <th></th>\n",
       "      <th></th>\n",
       "    </tr>\n",
       "  </thead>\n",
       "  <tbody>\n",
       "    <tr>\n",
       "      <th>1.000000e-08</th>\n",
       "      <th>1</th>\n",
       "      <td>-25.662007</td>\n",
       "      <td>-9.785594e-08</td>\n",
       "      <td>-25.662007</td>\n",
       "    </tr>\n",
       "    <tr>\n",
       "      <th>1.068500e+00</th>\n",
       "      <th>24</th>\n",
       "      <td>-25.662455</td>\n",
       "      <td>3.232819e-04</td>\n",
       "      <td>-25.662131</td>\n",
       "    </tr>\n",
       "    <tr>\n",
       "      <th>1.013000e+03</th>\n",
       "      <th>76</th>\n",
       "      <td>-26.065200</td>\n",
       "      <td>4.035282e-01</td>\n",
       "      <td>-25.661672</td>\n",
       "    </tr>\n",
       "  </tbody>\n",
       "</table>\n",
       "</div>"
      ],
      "text/plain": [
       "                         flug          fldg      fnetg\n",
       "pressure     level                                    \n",
       "1.000000e-08 1     -25.662007 -9.785594e-08 -25.662007\n",
       "1.068500e+00 24    -25.662455  3.232819e-04 -25.662131\n",
       "1.013000e+03 76    -26.065200  4.035282e-01 -25.661672"
      ]
     },
     "metadata": {},
     "output_type": "display_data"
    },
    {
     "name": "stdout",
     "output_type": "stream",
     "text": [
      "Table. Fluxes. CLIRAD\n"
     ]
    },
    {
     "data": {
      "text/html": [
       "<div>\n",
       "<style scoped>\n",
       "    .dataframe tbody tr th:only-of-type {\n",
       "        vertical-align: middle;\n",
       "    }\n",
       "\n",
       "    .dataframe tbody tr th {\n",
       "        vertical-align: top;\n",
       "    }\n",
       "\n",
       "    .dataframe thead th {\n",
       "        text-align: right;\n",
       "    }\n",
       "</style>\n",
       "<table border=\"1\" class=\"dataframe\">\n",
       "  <thead>\n",
       "    <tr style=\"text-align: right;\">\n",
       "      <th></th>\n",
       "      <th></th>\n",
       "      <th>flug</th>\n",
       "      <th>fldg</th>\n",
       "      <th>fnetg</th>\n",
       "    </tr>\n",
       "    <tr>\n",
       "      <th>pressure</th>\n",
       "      <th>level</th>\n",
       "      <th></th>\n",
       "      <th></th>\n",
       "      <th></th>\n",
       "    </tr>\n",
       "  </thead>\n",
       "  <tbody>\n",
       "    <tr>\n",
       "      <th>0.0000</th>\n",
       "      <th>1</th>\n",
       "      <td>0.041277</td>\n",
       "      <td>0.000000</td>\n",
       "      <td>0.041277</td>\n",
       "    </tr>\n",
       "    <tr>\n",
       "      <th>1.0685</th>\n",
       "      <th>24</th>\n",
       "      <td>0.040912</td>\n",
       "      <td>-0.000015</td>\n",
       "      <td>0.040896</td>\n",
       "    </tr>\n",
       "    <tr>\n",
       "      <th>1013.0000</th>\n",
       "      <th>76</th>\n",
       "      <td>0.000000</td>\n",
       "      <td>0.013664</td>\n",
       "      <td>0.013664</td>\n",
       "    </tr>\n",
       "  </tbody>\n",
       "</table>\n",
       "</div>"
      ],
      "text/plain": [
       "                     flug      fldg     fnetg\n",
       "pressure  level                              \n",
       "0.0000    1      0.041277  0.000000  0.041277\n",
       "1.0685    24     0.040912 -0.000015  0.040896\n",
       "1013.0000 76     0.000000  0.013664  0.013664"
      ]
     },
     "metadata": {},
     "output_type": "display_data"
    },
    {
     "name": "stdout",
     "output_type": "stream",
     "text": [
      "Table. Fluxes. (WGT igg=10 wgt_flux=1) - (CRD)\n"
     ]
    },
    {
     "data": {
      "text/html": [
       "<div>\n",
       "<style scoped>\n",
       "    .dataframe tbody tr th:only-of-type {\n",
       "        vertical-align: middle;\n",
       "    }\n",
       "\n",
       "    .dataframe tbody tr th {\n",
       "        vertical-align: top;\n",
       "    }\n",
       "\n",
       "    .dataframe thead th {\n",
       "        text-align: right;\n",
       "    }\n",
       "</style>\n",
       "<table border=\"1\" class=\"dataframe\">\n",
       "  <thead>\n",
       "    <tr style=\"text-align: right;\">\n",
       "      <th></th>\n",
       "      <th></th>\n",
       "      <th>flug</th>\n",
       "      <th>fldg</th>\n",
       "      <th>fnetg</th>\n",
       "    </tr>\n",
       "    <tr>\n",
       "      <th>pressure</th>\n",
       "      <th>level</th>\n",
       "      <th></th>\n",
       "      <th></th>\n",
       "      <th></th>\n",
       "    </tr>\n",
       "  </thead>\n",
       "  <tbody>\n",
       "    <tr>\n",
       "      <th>0.0000</th>\n",
       "      <th>1</th>\n",
       "      <td>-0.030165</td>\n",
       "      <td>-9.785594e-08</td>\n",
       "      <td>-0.030165</td>\n",
       "    </tr>\n",
       "    <tr>\n",
       "      <th>1.0685</th>\n",
       "      <th>24</th>\n",
       "      <td>-0.030465</td>\n",
       "      <td>-7.935518e-05</td>\n",
       "      <td>-0.030544</td>\n",
       "    </tr>\n",
       "    <tr>\n",
       "      <th>1013.0000</th>\n",
       "      <th>76</th>\n",
       "      <td>0.000005</td>\n",
       "      <td>-5.784978e-02</td>\n",
       "      <td>-0.057845</td>\n",
       "    </tr>\n",
       "  </tbody>\n",
       "</table>\n",
       "</div>"
      ],
      "text/plain": [
       "                     flug          fldg     fnetg\n",
       "pressure  level                                  \n",
       "0.0000    1     -0.030165 -9.785594e-08 -0.030165\n",
       "1.0685    24    -0.030465 -7.935518e-05 -0.030544\n",
       "1013.0000 76     0.000005 -5.784978e-02 -0.057845"
      ]
     },
     "metadata": {},
     "output_type": "display_data"
    },
    {
     "name": "stdout",
     "output_type": "stream",
     "text": [
      "Table. Fluxes. (CLIRAD) - (CRD)\n"
     ]
    },
    {
     "data": {
      "text/html": [
       "<a id=\"Best-fit_Parameters\"></a>"
      ],
      "text/plain": [
       "<IPython.core.display.HTML object>"
      ]
     },
     "metadata": {},
     "output_type": "display_data"
    },
    {
     "data": {
      "text/markdown": [
       "# Best-fit Parameters"
      ],
      "text/plain": [
       "<IPython.core.display.Markdown object>"
      ]
     },
     "metadata": {},
     "output_type": "display_data"
    },
    {
     "name": "stdout",
     "output_type": "stream",
     "text": [
      "Best-fit values for each (gas, band)\n",
      "------------------------------------\n",
      "o n2o band6\n",
      "  atmpro = mls\n",
      "  band = 6\n",
      "  commitnumber = bca49ce\n",
      "  conc = 3.2e-07\n",
      "  dv = 0.005\n",
      "  klin = 0\n",
      "  molecule = n2o\n",
      "  ng_adju = [0]\n",
      "  ng_refs = [1]\n",
      "  nv = 200\n",
      "  option_compute_btable = 0\n",
      "  option_compute_ktable = 1\n",
      "  option_wgt_flux = 1\n",
      "  option_wgt_k = 1\n",
      "  ref_pts = [(500, 250)]\n",
      "  tsfc = 294\n",
      "  vmax = 1215\n",
      "  vmin = 1100\n",
      "  w_diffuse = [(1.66,)]\n",
      "  wgt = [(0.95,)]\n"
     ]
    }
   ],
   "source": [
    "script()"
   ]
  },
  {
   "cell_type": "code",
   "execution_count": 13,
   "metadata": {
    "collapsed": true
   },
   "outputs": [
    {
     "data": {
      "text/html": [
       "<script>\n",
       "code_show=true; \n",
       "function code_toggle() {\n",
       " if (code_show){\n",
       " $('div.input').hide();\n",
       " } else {\n",
       " $('div.input').show();\n",
       " }\n",
       " code_show = !code_show\n",
       "} \n",
       "$( document ).ready(code_toggle);\n",
       "</script>\n",
       "<form action=\"javascript:code_toggle()\"><input type=\"submit\" value=\"Click here to toggle on/off the raw code.\"></form>"
      ],
      "text/plain": [
       "<IPython.core.display.HTML object>"
      ]
     },
     "execution_count": 13,
     "metadata": {},
     "output_type": "execute_result"
    }
   ],
   "source": [
    "display.HTML('''<script>\n",
    "code_show=true; \n",
    "function code_toggle() {\n",
    " if (code_show){\n",
    " $('div.input').hide();\n",
    " } else {\n",
    " $('div.input').show();\n",
    " }\n",
    " code_show = !code_show\n",
    "} \n",
    "$( document ).ready(code_toggle);\n",
    "</script>\n",
    "<form action=\"javascript:code_toggle()\"><input type=\"submit\" value=\"Click here to toggle on/off the raw code.\"></form>''')"
   ]
  }
 ],
 "metadata": {
  "kernelspec": {
   "display_name": "Python 3",
   "language": "python",
   "name": "python3"
  },
  "language_info": {
   "codemirror_mode": {
    "name": "ipython",
    "version": 3
   },
   "file_extension": ".py",
   "mimetype": "text/x-python",
   "name": "python",
   "nbconvert_exporter": "python",
   "pygments_lexer": "ipython3",
   "version": "3.6.1"
  }
 },
 "nbformat": 4,
 "nbformat_minor": 2
}
