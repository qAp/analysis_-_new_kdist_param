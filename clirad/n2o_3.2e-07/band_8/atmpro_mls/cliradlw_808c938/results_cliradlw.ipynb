{
 "cells": [
  {
   "cell_type": "code",
   "execution_count": 1,
   "metadata": {
    "collapsed": true
   },
   "outputs": [],
   "source": [
    "%matplotlib inline\n",
    "import os\n",
    "import re\n",
    "import io\n",
    "import itertools\n",
    "import pprint\n",
    "\n",
    "from bokeh.io import output_notebook, show\n",
    "from bokeh.layouts import gridplot\n",
    "from bokeh.plotting import figure\n",
    "from bokeh.models import Range1d, Legend\n",
    "from bokeh.palettes import all_palettes\n",
    "\n",
    "import matplotlib\n",
    "import matplotlib.pyplot as plt\n",
    "import numpy as np\n",
    "import pandas as pd\n",
    "import xarray as xr\n",
    "\n",
    "import climatools.lblnew.bestfit_params as bestfits\n",
    "from climatools.lblnew import setup_bestfit, setup_overlap\n",
    "import climatools.lblnew.pipeline as pipe_lblnew\n",
    "import climatools.cliradlw.setup as setup_cliradlw\n",
    "import climatools.cliradlw.pipeline as pipe_cliradlw\n",
    "\n",
    "import climatools.html.html as climahtml\n",
    "from climatools.lblnew.dataio import *\n",
    "from climatools.plot.plot import *\n",
    "\n",
    "\n",
    "import IPython.display as display"
   ]
  },
  {
   "cell_type": "code",
   "execution_count": 2,
   "metadata": {
    "collapsed": true
   },
   "outputs": [],
   "source": [
    "%run param.py"
   ]
  },
  {
   "cell_type": "code",
   "execution_count": 3,
   "metadata": {
    "collapsed": true
   },
   "outputs": [],
   "source": [
    "def load_output_file(path_csv):\n",
    "    '''\n",
    "    Load lblnew output .csv file to xarray.Dataset\n",
    "    \n",
    "    Parameters\n",
    "    ----------\n",
    "    path_csv: str\n",
    "              Path to the .csv file to be loaded.\n",
    "    ds: xarray.Dataset\n",
    "        Data in the input file in the form of an xarray.Dataset.\n",
    "    '''\n",
    "    toindex = ['band', 'pressure', 'igg', 'g']    \n",
    "    df = pd.read_csv(path_csv, sep=r'\\s+')\n",
    "    df = df.set_index([i for i in toindex if i in df.columns])\n",
    "    df = df.rename(columns={'sfu': 'flug',\n",
    "                            'sfd': 'fldg',\n",
    "                            'fnet': 'fnetg',\n",
    "                            'coolr': 'coolrg'})\n",
    "    ds = xr.Dataset.from_dataframe(df)\n",
    "\n",
    "    for l in ('level', 'layer'):\n",
    "        if l in ds.data_vars:\n",
    "            if len(ds[l].dims) > 1:\n",
    "                surface = {d: 0 for d in ds.dims if d != 'pressure'}\n",
    "                coord_level = ds[l][surface]\n",
    "                ds.coords[l] = ('pressure', coord_level)\n",
    "            else:\n",
    "                ds.coords[l] = ('pressure', ds[l])\n",
    "    \n",
    "    return ds"
   ]
  },
  {
   "cell_type": "code",
   "execution_count": 4,
   "metadata": {
    "collapsed": true
   },
   "outputs": [],
   "source": [
    "def lblnew_setup(param=None):\n",
    "    if 'ng_refs' in param:\n",
    "        return {'setup': setup_bestfit,\n",
    "                'fname_flux_crd': 'output_flux.dat',\n",
    "                'fname_cool_crd': 'output_coolr.dat',\n",
    "                'fname_flux_wgt': 'output_wfluxg.dat',\n",
    "                'fname_cool_wgt': 'output_wcoolrg.dat'}\n",
    "    else:\n",
    "        return {'setup': setup_overlap,\n",
    "                'fname_flux_crd': 'output_flux.dat',\n",
    "                'fname_cool_crd': 'output_coolr.dat',\n",
    "                'fname_flux_wgt': 'output_wflux.dat',\n",
    "                'fname_cool_wgt': 'output_wcoolr.dat'}\n",
    "\n",
    "    \n",
    "def load_lblnew_data(param):\n",
    "    \n",
    "    fname_dsname = [('fname_flux_crd', 'ds_flux_crd'),\n",
    "                    ('fname_cool_crd', 'ds_cool_crd'),\n",
    "                    ('fname_flux_wgt', 'ds_flux_wgt'),\n",
    "                    ('fname_cool_wgt', 'ds_cool_wgt')]\n",
    "    \n",
    "    d = lblnew_setup(param)\n",
    "    dir_fortran = pipe_lblnew.get_dir_case(param, setup=d['setup'])\n",
    "    \n",
    "    data_dict = {}\n",
    "    for fname, dsname in fname_dsname:\n",
    "        fpath = os.path.join(dir_fortran, d[fname])\n",
    "        data_dict[dsname] = load_output_file(fpath)\n",
    "    return data_dict\n",
    "    \n",
    "\n",
    "    \n",
    "    "
   ]
  },
  {
   "cell_type": "code",
   "execution_count": 5,
   "metadata": {
    "collapsed": true
   },
   "outputs": [],
   "source": [
    "d = load_lblnew_data(PARAM_LBLNEW)\n",
    "\n",
    "DS_FLUX_CRD = d['ds_flux_crd']\n",
    "DS_COOL_CRD = d['ds_cool_crd']\n",
    "DS_FLUX_WGT = d['ds_flux_wgt']\n",
    "DS_COOL_WGT = d['ds_cool_wgt']"
   ]
  },
  {
   "cell_type": "code",
   "execution_count": 6,
   "metadata": {
    "collapsed": true
   },
   "outputs": [],
   "source": [
    "DIR_FORTRAN = pipe_cliradlw.get_fortran_dir(PARAM, \n",
    "                                            setup=setup_cliradlw)\n",
    "\n",
    "PATH_FLUX = os.path.join(DIR_FORTRAN, 'output_flux.dat')\n",
    "PATH_COOL = os.path.join(DIR_FORTRAN, 'output_coolr.dat')\n",
    "\n",
    "DS_FLUX = load_output_file(PATH_FLUX)\n",
    "DS_COOL = load_output_file(PATH_COOL)"
   ]
  },
  {
   "cell_type": "code",
   "execution_count": 7,
   "metadata": {
    "collapsed": true
   },
   "outputs": [
    {
     "data": {
      "text/html": [
       "\n",
       "    <div class=\"bk-root\">\n",
       "        <a href=\"https://bokeh.pydata.org\" target=\"_blank\" class=\"bk-logo bk-logo-small bk-logo-notebook\"></a>\n",
       "        <span id=\"64570942-9fd9-4399-a6fa-8c6fed0f084c\">Loading BokehJS ...</span>\n",
       "    </div>"
      ]
     },
     "metadata": {},
     "output_type": "display_data"
    },
    {
     "data": {
      "application/javascript": [
       "\n",
       "(function(root) {\n",
       "  function now() {\n",
       "    return new Date();\n",
       "  }\n",
       "\n",
       "  var force = true;\n",
       "\n",
       "  if (typeof (root._bokeh_onload_callbacks) === \"undefined\" || force === true) {\n",
       "    root._bokeh_onload_callbacks = [];\n",
       "    root._bokeh_is_loading = undefined;\n",
       "  }\n",
       "\n",
       "  var JS_MIME_TYPE = 'application/javascript';\n",
       "  var HTML_MIME_TYPE = 'text/html';\n",
       "  var EXEC_MIME_TYPE = 'application/vnd.bokehjs_exec.v0+json';\n",
       "  var CLASS_NAME = 'output_bokeh rendered_html';\n",
       "\n",
       "  /**\n",
       "   * Render data to the DOM node\n",
       "   */\n",
       "  function render(props, node) {\n",
       "    var script = document.createElement(\"script\");\n",
       "    node.appendChild(script);\n",
       "  }\n",
       "\n",
       "  /**\n",
       "   * Handle when an output is cleared or removed\n",
       "   */\n",
       "  function handleClearOutput(event, handle) {\n",
       "    var cell = handle.cell;\n",
       "\n",
       "    var id = cell.output_area._bokeh_element_id;\n",
       "    var server_id = cell.output_area._bokeh_server_id;\n",
       "    // Clean up Bokeh references\n",
       "    if (id !== undefined) {\n",
       "      Bokeh.index[id].model.document.clear();\n",
       "      delete Bokeh.index[id];\n",
       "    }\n",
       "\n",
       "    if (server_id !== undefined) {\n",
       "      // Clean up Bokeh references\n",
       "      var cmd = \"from bokeh.io.state import curstate; print(curstate().uuid_to_server['\" + server_id + \"'].get_sessions()[0].document.roots[0]._id)\";\n",
       "      cell.notebook.kernel.execute(cmd, {\n",
       "        iopub: {\n",
       "          output: function(msg) {\n",
       "            var element_id = msg.content.text.trim();\n",
       "            Bokeh.index[element_id].model.document.clear();\n",
       "            delete Bokeh.index[element_id];\n",
       "          }\n",
       "        }\n",
       "      });\n",
       "      // Destroy server and session\n",
       "      var cmd = \"import bokeh.io.notebook as ion; ion.destroy_server('\" + server_id + \"')\";\n",
       "      cell.notebook.kernel.execute(cmd);\n",
       "    }\n",
       "  }\n",
       "\n",
       "  /**\n",
       "   * Handle when a new output is added\n",
       "   */\n",
       "  function handleAddOutput(event, handle) {\n",
       "    var output_area = handle.output_area;\n",
       "    var output = handle.output;\n",
       "\n",
       "    // limit handleAddOutput to display_data with EXEC_MIME_TYPE content only\n",
       "    if ((output.output_type != \"display_data\") || (!output.data.hasOwnProperty(EXEC_MIME_TYPE))) {\n",
       "      return\n",
       "    }\n",
       "\n",
       "    var toinsert = output_area.element.find(\".\" + CLASS_NAME.split(' ')[0]);\n",
       "\n",
       "    if (output.metadata[EXEC_MIME_TYPE][\"id\"] !== undefined) {\n",
       "      toinsert[0].firstChild.textContent = output.data[JS_MIME_TYPE];\n",
       "      // store reference to embed id on output_area\n",
       "      output_area._bokeh_element_id = output.metadata[EXEC_MIME_TYPE][\"id\"];\n",
       "    }\n",
       "    if (output.metadata[EXEC_MIME_TYPE][\"server_id\"] !== undefined) {\n",
       "      var bk_div = document.createElement(\"div\");\n",
       "      bk_div.innerHTML = output.data[HTML_MIME_TYPE];\n",
       "      var script_attrs = bk_div.children[0].attributes;\n",
       "      for (var i = 0; i < script_attrs.length; i++) {\n",
       "        toinsert[0].firstChild.setAttribute(script_attrs[i].name, script_attrs[i].value);\n",
       "      }\n",
       "      // store reference to server id on output_area\n",
       "      output_area._bokeh_server_id = output.metadata[EXEC_MIME_TYPE][\"server_id\"];\n",
       "    }\n",
       "  }\n",
       "\n",
       "  function register_renderer(events, OutputArea) {\n",
       "\n",
       "    function append_mime(data, metadata, element) {\n",
       "      // create a DOM node to render to\n",
       "      var toinsert = this.create_output_subarea(\n",
       "        metadata,\n",
       "        CLASS_NAME,\n",
       "        EXEC_MIME_TYPE\n",
       "      );\n",
       "      this.keyboard_manager.register_events(toinsert);\n",
       "      // Render to node\n",
       "      var props = {data: data, metadata: metadata[EXEC_MIME_TYPE]};\n",
       "      render(props, toinsert[0]);\n",
       "      element.append(toinsert);\n",
       "      return toinsert\n",
       "    }\n",
       "\n",
       "    /* Handle when an output is cleared or removed */\n",
       "    events.on('clear_output.CodeCell', handleClearOutput);\n",
       "    events.on('delete.Cell', handleClearOutput);\n",
       "\n",
       "    /* Handle when a new output is added */\n",
       "    events.on('output_added.OutputArea', handleAddOutput);\n",
       "\n",
       "    /**\n",
       "     * Register the mime type and append_mime function with output_area\n",
       "     */\n",
       "    OutputArea.prototype.register_mime_type(EXEC_MIME_TYPE, append_mime, {\n",
       "      /* Is output safe? */\n",
       "      safe: true,\n",
       "      /* Index of renderer in `output_area.display_order` */\n",
       "      index: 0\n",
       "    });\n",
       "  }\n",
       "\n",
       "  // register the mime type if in Jupyter Notebook environment and previously unregistered\n",
       "  if (root.Jupyter !== undefined) {\n",
       "    var events = require('base/js/events');\n",
       "    var OutputArea = require('notebook/js/outputarea').OutputArea;\n",
       "\n",
       "    if (OutputArea.prototype.mime_types().indexOf(EXEC_MIME_TYPE) == -1) {\n",
       "      register_renderer(events, OutputArea);\n",
       "    }\n",
       "  }\n",
       "\n",
       "  \n",
       "  if (typeof (root._bokeh_timeout) === \"undefined\" || force === true) {\n",
       "    root._bokeh_timeout = Date.now() + 5000;\n",
       "    root._bokeh_failed_load = false;\n",
       "  }\n",
       "\n",
       "  var NB_LOAD_WARNING = {'data': {'text/html':\n",
       "     \"<div style='background-color: #fdd'>\\n\"+\n",
       "     \"<p>\\n\"+\n",
       "     \"BokehJS does not appear to have successfully loaded. If loading BokehJS from CDN, this \\n\"+\n",
       "     \"may be due to a slow or bad network connection. Possible fixes:\\n\"+\n",
       "     \"</p>\\n\"+\n",
       "     \"<ul>\\n\"+\n",
       "     \"<li>re-rerun `output_notebook()` to attempt to load from CDN again, or</li>\\n\"+\n",
       "     \"<li>use INLINE resources instead, as so:</li>\\n\"+\n",
       "     \"</ul>\\n\"+\n",
       "     \"<code>\\n\"+\n",
       "     \"from bokeh.resources import INLINE\\n\"+\n",
       "     \"output_notebook(resources=INLINE)\\n\"+\n",
       "     \"</code>\\n\"+\n",
       "     \"</div>\"}};\n",
       "\n",
       "  function display_loaded() {\n",
       "    var el = document.getElementById(\"64570942-9fd9-4399-a6fa-8c6fed0f084c\");\n",
       "    if (el != null) {\n",
       "      el.textContent = \"BokehJS is loading...\";\n",
       "    }\n",
       "    if (root.Bokeh !== undefined) {\n",
       "      if (el != null) {\n",
       "        el.textContent = \"BokehJS \" + root.Bokeh.version + \" successfully loaded.\";\n",
       "      }\n",
       "    } else if (Date.now() < root._bokeh_timeout) {\n",
       "      setTimeout(display_loaded, 100)\n",
       "    }\n",
       "  }\n",
       "\n",
       "\n",
       "  function run_callbacks() {\n",
       "    try {\n",
       "      root._bokeh_onload_callbacks.forEach(function(callback) { callback() });\n",
       "    }\n",
       "    finally {\n",
       "      delete root._bokeh_onload_callbacks\n",
       "    }\n",
       "    console.info(\"Bokeh: all callbacks have finished\");\n",
       "  }\n",
       "\n",
       "  function load_libs(js_urls, callback) {\n",
       "    root._bokeh_onload_callbacks.push(callback);\n",
       "    if (root._bokeh_is_loading > 0) {\n",
       "      console.log(\"Bokeh: BokehJS is being loaded, scheduling callback at\", now());\n",
       "      return null;\n",
       "    }\n",
       "    if (js_urls == null || js_urls.length === 0) {\n",
       "      run_callbacks();\n",
       "      return null;\n",
       "    }\n",
       "    console.log(\"Bokeh: BokehJS not loaded, scheduling load and callback at\", now());\n",
       "    root._bokeh_is_loading = js_urls.length;\n",
       "    for (var i = 0; i < js_urls.length; i++) {\n",
       "      var url = js_urls[i];\n",
       "      var s = document.createElement('script');\n",
       "      s.src = url;\n",
       "      s.async = false;\n",
       "      s.onreadystatechange = s.onload = function() {\n",
       "        root._bokeh_is_loading--;\n",
       "        if (root._bokeh_is_loading === 0) {\n",
       "          console.log(\"Bokeh: all BokehJS libraries loaded\");\n",
       "          run_callbacks()\n",
       "        }\n",
       "      };\n",
       "      s.onerror = function() {\n",
       "        console.warn(\"failed to load library \" + url);\n",
       "      };\n",
       "      console.log(\"Bokeh: injecting script tag for BokehJS library: \", url);\n",
       "      document.getElementsByTagName(\"head\")[0].appendChild(s);\n",
       "    }\n",
       "  };var element = document.getElementById(\"64570942-9fd9-4399-a6fa-8c6fed0f084c\");\n",
       "  if (element == null) {\n",
       "    console.log(\"Bokeh: ERROR: autoload.js configured with elementid '64570942-9fd9-4399-a6fa-8c6fed0f084c' but no matching script tag was found. \")\n",
       "    return false;\n",
       "  }\n",
       "\n",
       "  var js_urls = [\"https://cdn.pydata.org/bokeh/release/bokeh-0.12.14.min.js\", \"https://cdn.pydata.org/bokeh/release/bokeh-widgets-0.12.14.min.js\", \"https://cdn.pydata.org/bokeh/release/bokeh-tables-0.12.14.min.js\", \"https://cdn.pydata.org/bokeh/release/bokeh-gl-0.12.14.min.js\"];\n",
       "\n",
       "  var inline_js = [\n",
       "    function(Bokeh) {\n",
       "      Bokeh.set_log_level(\"info\");\n",
       "    },\n",
       "    \n",
       "    function(Bokeh) {\n",
       "      \n",
       "    },\n",
       "    function(Bokeh) {\n",
       "      console.log(\"Bokeh: injecting CSS: https://cdn.pydata.org/bokeh/release/bokeh-0.12.14.min.css\");\n",
       "      Bokeh.embed.inject_css(\"https://cdn.pydata.org/bokeh/release/bokeh-0.12.14.min.css\");\n",
       "      console.log(\"Bokeh: injecting CSS: https://cdn.pydata.org/bokeh/release/bokeh-widgets-0.12.14.min.css\");\n",
       "      Bokeh.embed.inject_css(\"https://cdn.pydata.org/bokeh/release/bokeh-widgets-0.12.14.min.css\");\n",
       "      console.log(\"Bokeh: injecting CSS: https://cdn.pydata.org/bokeh/release/bokeh-tables-0.12.14.min.css\");\n",
       "      Bokeh.embed.inject_css(\"https://cdn.pydata.org/bokeh/release/bokeh-tables-0.12.14.min.css\");\n",
       "    }\n",
       "  ];\n",
       "\n",
       "  function run_inline_js() {\n",
       "    \n",
       "    if ((root.Bokeh !== undefined) || (force === true)) {\n",
       "      for (var i = 0; i < inline_js.length; i++) {\n",
       "        inline_js[i].call(root, root.Bokeh);\n",
       "      }if (force === true) {\n",
       "        display_loaded();\n",
       "      }} else if (Date.now() < root._bokeh_timeout) {\n",
       "      setTimeout(run_inline_js, 100);\n",
       "    } else if (!root._bokeh_failed_load) {\n",
       "      console.log(\"Bokeh: BokehJS failed to load within specified timeout.\");\n",
       "      root._bokeh_failed_load = true;\n",
       "    } else if (force !== true) {\n",
       "      var cell = $(document.getElementById(\"64570942-9fd9-4399-a6fa-8c6fed0f084c\")).parents('.cell').data().cell;\n",
       "      cell.output_area.append_execute_result(NB_LOAD_WARNING)\n",
       "    }\n",
       "\n",
       "  }\n",
       "\n",
       "  if (root._bokeh_is_loading === 0) {\n",
       "    console.log(\"Bokeh: BokehJS loaded, going straight to plotting\");\n",
       "    run_inline_js();\n",
       "  } else {\n",
       "    load_libs(js_urls, function() {\n",
       "      console.log(\"Bokeh: BokehJS plotting callback run at\", now());\n",
       "      run_inline_js();\n",
       "    });\n",
       "  }\n",
       "}(window));"
      ],
      "application/vnd.bokehjs_load.v0+json": "\n(function(root) {\n  function now() {\n    return new Date();\n  }\n\n  var force = true;\n\n  if (typeof (root._bokeh_onload_callbacks) === \"undefined\" || force === true) {\n    root._bokeh_onload_callbacks = [];\n    root._bokeh_is_loading = undefined;\n  }\n\n  \n\n  \n  if (typeof (root._bokeh_timeout) === \"undefined\" || force === true) {\n    root._bokeh_timeout = Date.now() + 5000;\n    root._bokeh_failed_load = false;\n  }\n\n  var NB_LOAD_WARNING = {'data': {'text/html':\n     \"<div style='background-color: #fdd'>\\n\"+\n     \"<p>\\n\"+\n     \"BokehJS does not appear to have successfully loaded. If loading BokehJS from CDN, this \\n\"+\n     \"may be due to a slow or bad network connection. Possible fixes:\\n\"+\n     \"</p>\\n\"+\n     \"<ul>\\n\"+\n     \"<li>re-rerun `output_notebook()` to attempt to load from CDN again, or</li>\\n\"+\n     \"<li>use INLINE resources instead, as so:</li>\\n\"+\n     \"</ul>\\n\"+\n     \"<code>\\n\"+\n     \"from bokeh.resources import INLINE\\n\"+\n     \"output_notebook(resources=INLINE)\\n\"+\n     \"</code>\\n\"+\n     \"</div>\"}};\n\n  function display_loaded() {\n    var el = document.getElementById(\"64570942-9fd9-4399-a6fa-8c6fed0f084c\");\n    if (el != null) {\n      el.textContent = \"BokehJS is loading...\";\n    }\n    if (root.Bokeh !== undefined) {\n      if (el != null) {\n        el.textContent = \"BokehJS \" + root.Bokeh.version + \" successfully loaded.\";\n      }\n    } else if (Date.now() < root._bokeh_timeout) {\n      setTimeout(display_loaded, 100)\n    }\n  }\n\n\n  function run_callbacks() {\n    try {\n      root._bokeh_onload_callbacks.forEach(function(callback) { callback() });\n    }\n    finally {\n      delete root._bokeh_onload_callbacks\n    }\n    console.info(\"Bokeh: all callbacks have finished\");\n  }\n\n  function load_libs(js_urls, callback) {\n    root._bokeh_onload_callbacks.push(callback);\n    if (root._bokeh_is_loading > 0) {\n      console.log(\"Bokeh: BokehJS is being loaded, scheduling callback at\", now());\n      return null;\n    }\n    if (js_urls == null || js_urls.length === 0) {\n      run_callbacks();\n      return null;\n    }\n    console.log(\"Bokeh: BokehJS not loaded, scheduling load and callback at\", now());\n    root._bokeh_is_loading = js_urls.length;\n    for (var i = 0; i < js_urls.length; i++) {\n      var url = js_urls[i];\n      var s = document.createElement('script');\n      s.src = url;\n      s.async = false;\n      s.onreadystatechange = s.onload = function() {\n        root._bokeh_is_loading--;\n        if (root._bokeh_is_loading === 0) {\n          console.log(\"Bokeh: all BokehJS libraries loaded\");\n          run_callbacks()\n        }\n      };\n      s.onerror = function() {\n        console.warn(\"failed to load library \" + url);\n      };\n      console.log(\"Bokeh: injecting script tag for BokehJS library: \", url);\n      document.getElementsByTagName(\"head\")[0].appendChild(s);\n    }\n  };var element = document.getElementById(\"64570942-9fd9-4399-a6fa-8c6fed0f084c\");\n  if (element == null) {\n    console.log(\"Bokeh: ERROR: autoload.js configured with elementid '64570942-9fd9-4399-a6fa-8c6fed0f084c' but no matching script tag was found. \")\n    return false;\n  }\n\n  var js_urls = [\"https://cdn.pydata.org/bokeh/release/bokeh-0.12.14.min.js\", \"https://cdn.pydata.org/bokeh/release/bokeh-widgets-0.12.14.min.js\", \"https://cdn.pydata.org/bokeh/release/bokeh-tables-0.12.14.min.js\", \"https://cdn.pydata.org/bokeh/release/bokeh-gl-0.12.14.min.js\"];\n\n  var inline_js = [\n    function(Bokeh) {\n      Bokeh.set_log_level(\"info\");\n    },\n    \n    function(Bokeh) {\n      \n    },\n    function(Bokeh) {\n      console.log(\"Bokeh: injecting CSS: https://cdn.pydata.org/bokeh/release/bokeh-0.12.14.min.css\");\n      Bokeh.embed.inject_css(\"https://cdn.pydata.org/bokeh/release/bokeh-0.12.14.min.css\");\n      console.log(\"Bokeh: injecting CSS: https://cdn.pydata.org/bokeh/release/bokeh-widgets-0.12.14.min.css\");\n      Bokeh.embed.inject_css(\"https://cdn.pydata.org/bokeh/release/bokeh-widgets-0.12.14.min.css\");\n      console.log(\"Bokeh: injecting CSS: https://cdn.pydata.org/bokeh/release/bokeh-tables-0.12.14.min.css\");\n      Bokeh.embed.inject_css(\"https://cdn.pydata.org/bokeh/release/bokeh-tables-0.12.14.min.css\");\n    }\n  ];\n\n  function run_inline_js() {\n    \n    if ((root.Bokeh !== undefined) || (force === true)) {\n      for (var i = 0; i < inline_js.length; i++) {\n        inline_js[i].call(root, root.Bokeh);\n      }if (force === true) {\n        display_loaded();\n      }} else if (Date.now() < root._bokeh_timeout) {\n      setTimeout(run_inline_js, 100);\n    } else if (!root._bokeh_failed_load) {\n      console.log(\"Bokeh: BokehJS failed to load within specified timeout.\");\n      root._bokeh_failed_load = true;\n    } else if (force !== true) {\n      var cell = $(document.getElementById(\"64570942-9fd9-4399-a6fa-8c6fed0f084c\")).parents('.cell').data().cell;\n      cell.output_area.append_execute_result(NB_LOAD_WARNING)\n    }\n\n  }\n\n  if (root._bokeh_is_loading === 0) {\n    console.log(\"Bokeh: BokehJS loaded, going straight to plotting\");\n    run_inline_js();\n  } else {\n    load_libs(js_urls, function() {\n      console.log(\"Bokeh: BokehJS plotting callback run at\", now());\n      run_inline_js();\n    });\n  }\n}(window));"
     },
     "metadata": {},
     "output_type": "display_data"
    }
   ],
   "source": [
    "output_notebook()"
   ]
  },
  {
   "cell_type": "code",
   "execution_count": 8,
   "metadata": {
    "collapsed": true
   },
   "outputs": [],
   "source": [
    "def fmt_cool(ds_in):\n",
    "    ds = ds_in.copy(deep=True)\n",
    "    if 'igg' in ds.dims:\n",
    "        ds = ds.sel(igg=1)\n",
    "\n",
    "    if 'g' in ds.dims:\n",
    "        ds = ds.sum('g')\n",
    "            \n",
    "    if 'band' in ds.dims:\n",
    "        try:\n",
    "            ds = ds.squeeze('band')\n",
    "        except ValueError:\n",
    "            ds = ds.sum('band')\n",
    "                \n",
    "    return ds['coolrg']\n",
    "\n",
    "\n",
    "def pltdata_cooling_1(ds_cool=None,\n",
    "                      ds_cool_crd=None, ds_cool_wgt=None):\n",
    "    \n",
    "\n",
    "\n",
    "    colors = all_palettes['Set1'][4]\n",
    "    data = [{'label': 'CLIRAD `coolr_bands`',\n",
    "             'srs': fmt_cool(ds_cool),\n",
    "             'line_dash': 'dashed', 'line_width': 5,\n",
    "             'color': colors[0], 'alpha': .6},\n",
    "            {'label': 'CRD',\n",
    "             'srs': fmt_cool(ds_cool_crd),\n",
    "             'line_dash': 'solid', 'line_width': 1.5,\n",
    "             'marker': 'circle', 'marker_size': 5,\n",
    "             'color': colors[2], 'alpha': 1,},\n",
    "            {'label': 'WGT igg=10 wgt_flux=2',\n",
    "             'srs': fmt_cool(ds_cool_wgt),\n",
    "             'line_dash': 'solid', 'line_width': 3,\n",
    "             'marker': 'square', 'marker_size': 5,\n",
    "             'color': colors[3], 'alpha': .6}]\n",
    "    return data\n",
    "\n",
    "\n",
    "def nice_xlims(pltdata=None, prange=None):\n",
    "    \n",
    "    def get_slice(srs):\n",
    "        return srs.sel(pressure=slice(*prange))\n",
    "    \n",
    "    srss = [d['srs'] for d in pltdata]\n",
    "    vmin = min([get_slice(srs).min() for srs in srss])\n",
    "    vmax = max([get_slice(srs).max() for srs in srss])\n",
    "    dv = (vmax - vmin) * .01\n",
    "    return float(vmin - dv), float(vmax + dv)\n",
    "    \n",
    "\n",
    "def plt_cooling_bokeh(pltdata=None):\n",
    "    '''\n",
    "    Plot a list of cooling rate profiles using bokeh.\n",
    "    '''\n",
    "    ymin = 1e-2 \n",
    "    ymax = 1020 \n",
    "        \n",
    "    p1 = figure(title=\"Linear pressure scale\", \n",
    "                plot_width=400)        \n",
    "    xmin, xmax = nice_xlims(pltdata, prange=(50, 1050))\n",
    "    for d in pltdata:\n",
    "        if 'marker' in d:\n",
    "            getattr(p1, d['marker'])(d['srs'].values, \n",
    "                    d['srs'].coords['pressure'].values,\n",
    "                    color=d['color'], alpha=.7)\n",
    "        p1.line(d['srs'].values, \n",
    "                d['srs'].coords['pressure'].values,\n",
    "                color=d['color'], alpha=d['alpha'], \n",
    "                line_width=d['line_width'], line_dash=d['line_dash'])\n",
    "    \n",
    "    p1.y_range = Range1d(ymax, ymin)\n",
    "    p1.yaxis.axis_label = 'pressure [mb]'   \n",
    "    p1.x_range = Range1d(xmin, xmax)\n",
    "    p1.xaxis.axis_label = 'cooling rate [K/day]'\n",
    "            \n",
    "    p2 = figure(title='Log pressure scale', y_axis_type='log',\n",
    "                plot_width=560)\n",
    "    xmin, xmax = nice_xlims(pltdata, prange=(.01, 200))\n",
    "    \n",
    "    rs = []\n",
    "    for d in pltdata:\n",
    "        rd = []\n",
    "        if 'marker' in d:\n",
    "            r_mark = getattr(p2, d['marker'])(d['srs'].values, \n",
    "                        d['srs'].coords['pressure'].values,\n",
    "                        color=d['color'], alpha=.7)\n",
    "            rd.append(r_mark)\n",
    "        r_line = p2.line(d['srs'].values, \n",
    "                    d['srs'].coords['pressure'].values,\n",
    "                    color=d['color'], alpha=d['alpha'], \n",
    "                    line_width=d['line_width'], line_dash=d['line_dash'])\n",
    "        rd.append(r_line)\n",
    "      \n",
    "        rs.append(rd)\n",
    "        \n",
    "    p2.y_range = Range1d(ymax, ymin)  \n",
    "    p2.yaxis.axis_label = 'pressure [mb]'\n",
    "    \n",
    "    p2.x_range = Range1d(xmin, xmax)\n",
    "    p2.xaxis.axis_label = 'cooling rate [K/day]'\n",
    "    \n",
    "    items = [(d['label'], r) for r, d in zip(rs, pltdata)]\n",
    "    legend = Legend(items=items, location=(10, -30))\n",
    "    legend.label_text_font_size = '8pt'\n",
    "    \n",
    "    p2.add_layout(legend, 'right')  \n",
    "    \n",
    "    show(gridplot(p1, p2, ncols=2, plot_height=500))\n",
    "    \n",
    "\n",
    "def script_plt_cooling():\n",
    "    pltdata = pltdata_cooling_1(\n",
    "        ds_cool=DS_COOL,\n",
    "        ds_cool_crd=DS_COOL_CRD,\n",
    "        ds_cool_wgt=DS_COOL_WGT)\n",
    "    plt_cooling_bokeh(pltdata=pltdata)\n",
    "    print('''FIGURE. Cooling rate profiles.''')"
   ]
  },
  {
   "cell_type": "code",
   "execution_count": 9,
   "metadata": {
    "collapsed": true
   },
   "outputs": [],
   "source": [
    "def fmt_flux(ds_in):\n",
    "    ds = ds_in.copy(deep=True)\n",
    "    \n",
    "    for l in ('level', 'layer'):\n",
    "        if l in ds.data_vars:\n",
    "            if len(ds[l].dims) > 1:\n",
    "                surface = {d: 0 for d in ds.dims if d != 'pressure'}\n",
    "                coord_level = ds[l][surface]\n",
    "                ds.coords[l] = ('pressure', coord_level)\n",
    "            else:\n",
    "                ds.coords[l] = ('pressure', ds[l])\n",
    "        \n",
    "    ds = ds.isel(pressure=[0, 23, -1])\n",
    "        \n",
    "    if 'igg' in ds.dims:\n",
    "        ds = ds.sel(igg=[1])\n",
    "        ds = ds.squeeze('igg').drop('igg')\n",
    "    \n",
    "    if 'g' in ds.dims:\n",
    "        ds = ds.sum('g')\n",
    "            \n",
    "    if 'band' in ds.dims:\n",
    "        try:\n",
    "            ds = ds.squeeze('band').drop('band')\n",
    "        except ValueError:\n",
    "            ds = ds.sum('band')\n",
    "                \n",
    "    df = ds.to_dataframe()\n",
    "    df = df.set_index('level', append=True)               \n",
    "    return df\n",
    "\n",
    "\n",
    "def tbdata_flux(ds_flux=None, ds_flux_crd=None, ds_flux_wgt=None):\n",
    "    ilevels = [0, 23, -1]\n",
    "            \n",
    "    benchmark = {'label': 'WGT igg=10 wgt_flux=1',\n",
    "                 'df': fmt_flux(ds_flux_wgt)}\n",
    "    \n",
    "    tbs = [{'label': 'CRD',\n",
    "            'df': fmt_flux(ds_flux_crd)},\n",
    "           {'label': 'CLIRAD',\n",
    "            'df': fmt_flux(ds_flux)}]\n",
    "    \n",
    "    data = {'benchmark': benchmark, 'others': tbs}\n",
    "    return data\n",
    "\n",
    "\n",
    "def tb_flux(tbdata=None):\n",
    "    benchmark = tbdata['benchmark']\n",
    "    others = tbdata['others']\n",
    "    \n",
    "    def show_tb(d=None):\n",
    "        display.display(d['df'])\n",
    "        print('Table.', 'Fluxes.', d['label'])\n",
    "        \n",
    "    def show_tbdiff(d0=None, d=None):\n",
    "        df = d['df']\n",
    "        df.index = d0['df'].index\n",
    "        display.display(df - d0['df'])\n",
    "        print('Table.', 'Fluxes.', \n",
    "              '({}) - ({})'.format(d['label'], d0['label']))\n",
    "        \n",
    "    show_tb(benchmark)\n",
    "    for d in others:\n",
    "        show_tb(d)\n",
    "        \n",
    "    for d in others:\n",
    "        show_tbdiff(d=d, d0=benchmark)\n",
    "        \n",
    "        \n",
    "def script_tb_flux():\n",
    "    data = tbdata_flux(ds_flux=DS_FLUX,\n",
    "                       ds_flux_crd=DS_FLUX_CRD,\n",
    "                       ds_flux_wgt=DS_FLUX_WGT)\n",
    "    tb_flux(tbdata=data)"
   ]
  },
  {
   "cell_type": "code",
   "execution_count": 10,
   "metadata": {
    "collapsed": true
   },
   "outputs": [],
   "source": [
    "def band_map():\n",
    "    '''\n",
    "    Maps spectral bands in lblnew to spectral bands in clirad.\n",
    "    '''\n",
    "    lblnew2clirad = {'1': '1',\n",
    "            '2': '2',\n",
    "            '3a': '3',\n",
    "            '3b': '4',\n",
    "            '3c': '5',\n",
    "            '4': '6', \n",
    "            '5': '7',\n",
    "            '6': '8',\n",
    "            '7': '9', \n",
    "            '8': '10',\n",
    "            '9': '11'}\n",
    "    \n",
    "    clirad2lblnew = {clirad: lblnew \n",
    "                     for lblnew, clirad in lblnew2clirad.items()}\n",
    "    return clirad2lblnew\n",
    "\n",
    "\n",
    "def gasbands():\n",
    "    bmap = band_map()\n",
    "    gases = list(PARAM['molecule'].keys())\n",
    "    \n",
    "    bands = [bmap[str(b)] for b in PARAM['band']]\n",
    "    return list(itertools.product(gases, bands))\n",
    "\n",
    "\n",
    "def print_bestfit_params():\n",
    "    print('Best-fit values for each (gas, band)')\n",
    "    print('------------------------------------')\n",
    "    for gas, band in gasbands():\n",
    "        print('o {} band{}'.format(gas, band))\n",
    "        param = bestfits.kdist_params(molecule=gas, band=band)\n",
    "        for name, value in sorted(param.items()):\n",
    "            print(2 * ' ' + '{} = {}'.format(name, value))\n",
    "\n",
    "        \n",
    "def print_input_param():        \n",
    "    for name, value in PARAM.items():\n",
    "        print('{} = {}'.format(name, value))\n",
    "        \n",
    "        \n",
    "def print_lblnew_param():\n",
    "    for name, value in sorted(PARAM_LBLNEW.items()):\n",
    "        print('{} = {}'.format(name, value))\n"
   ]
  },
  {
   "cell_type": "code",
   "execution_count": 11,
   "metadata": {
    "collapsed": true,
    "scrolled": false
   },
   "outputs": [],
   "source": [
    "def show_html(s):\n",
    "    display.display(display.HTML(s))\n",
    "\n",
    "    \n",
    "def show_markdown(s):\n",
    "    display.display(display.Markdown(s))\n",
    "\n",
    "    \n",
    "def script():\n",
    "    \n",
    "    title = '### CLIRAD-LW'\n",
    "    s_input = 'Input Parameters'\n",
    "    s_lblnew_param = 'LBLNEW case compaired against'\n",
    "    s_bestfits = 'Best-fit Parameters'\n",
    "    s_plt_cooling = 'Cooling Rate Profiles'\n",
    "    s_tb_flux = 'Flux Comparison'\n",
    "    \n",
    "    # title\n",
    "    show_markdown('### CLIRAD-LW')\n",
    "    \n",
    "    # TOC\n",
    "    show_markdown('### Table of Contents')\n",
    "    show_html(climahtml.getHTML_hrefanchor(s_input))\n",
    "    show_html(climahtml.getHTML_hrefanchor(s_lblnew_param))\n",
    "    show_html(climahtml.getHTML_hrefanchor(s_plt_cooling))\n",
    "    show_html(climahtml.getHTML_hrefanchor(s_tb_flux))\n",
    "    show_html(climahtml.getHTML_hrefanchor(s_bestfits))\n",
    "    \n",
    "    # Input parameters\n",
    "    show_html(climahtml.getHTML_idanchor(s_input))\n",
    "    show_markdown(climahtml.getMarkdown_sectitle(s_input))\n",
    "    print_input_param()\n",
    "    \n",
    "    # LBLNEW parameters \n",
    "    show_html(climahtml.getHTML_idanchor(s_lblnew_param))\n",
    "    show_markdown(climahtml.getMarkdown_sectitle(s_lblnew_param))\n",
    "    print_lblnew_param()\n",
    "    \n",
    "    # Cooling rate profiles\n",
    "    show_html(climahtml.getHTML_idanchor(s_plt_cooling))\n",
    "    show_markdown(climahtml.getMarkdown_sectitle(s_plt_cooling))\n",
    "    script_plt_cooling()\n",
    "    \n",
    "    # Flux comparison\n",
    "    show_html(climahtml.getHTML_idanchor(s_tb_flux))\n",
    "    show_markdown(climahtml.getMarkdown_sectitle(s_tb_flux))\n",
    "    script_tb_flux()\n",
    "    \n",
    "    # Best-fit values\n",
    "    show_html(climahtml.getHTML_idanchor(s_bestfits))\n",
    "    show_markdown(climahtml.getMarkdown_sectitle(s_bestfits))\n",
    "    print_bestfit_params()\n",
    "   \n",
    "    "
   ]
  },
  {
   "cell_type": "code",
   "execution_count": 12,
   "metadata": {
    "collapsed": true,
    "scrolled": false
   },
   "outputs": [
    {
     "data": {
      "text/markdown": [
       "### CLIRAD-LW"
      ],
      "text/plain": [
       "<IPython.core.display.Markdown object>"
      ]
     },
     "metadata": {},
     "output_type": "display_data"
    },
    {
     "data": {
      "text/markdown": [
       "### Table of Contents"
      ],
      "text/plain": [
       "<IPython.core.display.Markdown object>"
      ]
     },
     "metadata": {},
     "output_type": "display_data"
    },
    {
     "data": {
      "text/html": [
       "<a href=\"#Input_Parameters\">Input Parameters</a>"
      ],
      "text/plain": [
       "<IPython.core.display.HTML object>"
      ]
     },
     "metadata": {},
     "output_type": "display_data"
    },
    {
     "data": {
      "text/html": [
       "<a href=\"#LBLNEW_case_compaired_against\">LBLNEW case compaired against</a>"
      ],
      "text/plain": [
       "<IPython.core.display.HTML object>"
      ]
     },
     "metadata": {},
     "output_type": "display_data"
    },
    {
     "data": {
      "text/html": [
       "<a href=\"#Cooling_Rate_Profiles\">Cooling Rate Profiles</a>"
      ],
      "text/plain": [
       "<IPython.core.display.HTML object>"
      ]
     },
     "metadata": {},
     "output_type": "display_data"
    },
    {
     "data": {
      "text/html": [
       "<a href=\"#Flux_Comparison\">Flux Comparison</a>"
      ],
      "text/plain": [
       "<IPython.core.display.HTML object>"
      ]
     },
     "metadata": {},
     "output_type": "display_data"
    },
    {
     "data": {
      "text/html": [
       "<a href=\"#Best-fit_Parameters\">Best-fit Parameters</a>"
      ],
      "text/plain": [
       "<IPython.core.display.HTML object>"
      ]
     },
     "metadata": {},
     "output_type": "display_data"
    },
    {
     "data": {
      "text/html": [
       "<a id=\"Input_Parameters\"></a>"
      ],
      "text/plain": [
       "<IPython.core.display.HTML object>"
      ]
     },
     "metadata": {},
     "output_type": "display_data"
    },
    {
     "data": {
      "text/markdown": [
       "# Input Parameters"
      ],
      "text/plain": [
       "<IPython.core.display.Markdown object>"
      ]
     },
     "metadata": {},
     "output_type": "display_data"
    },
    {
     "name": "stdout",
     "output_type": "stream",
     "text": [
      "atmpro = mls\n",
      "band = [8]\n",
      "commitnumber = 808c938\n",
      "molecule = {'n2o': 3.2e-07}\n",
      "tsfc = 294\n"
     ]
    },
    {
     "data": {
      "text/html": [
       "<a id=\"LBLNEW_case_compaired_against\"></a>"
      ],
      "text/plain": [
       "<IPython.core.display.HTML object>"
      ]
     },
     "metadata": {},
     "output_type": "display_data"
    },
    {
     "data": {
      "text/markdown": [
       "# LBLNEW case compaired against"
      ],
      "text/plain": [
       "<IPython.core.display.Markdown object>"
      ]
     },
     "metadata": {},
     "output_type": "display_data"
    },
    {
     "name": "stdout",
     "output_type": "stream",
     "text": [
      "atmpro = mls\n",
      "band = 6\n",
      "commitnumber = bca49ce\n",
      "conc = 3.2e-07\n",
      "dv = 0.005\n",
      "klin = 0\n",
      "molecule = n2o\n",
      "ng_adju = [0]\n",
      "ng_refs = [1]\n",
      "nv = 200\n",
      "option_compute_btable = 0\n",
      "option_compute_ktable = 0\n",
      "option_wgt_flux = 1\n",
      "option_wgt_k = 1\n",
      "ref_pts = [(500, 250)]\n",
      "tsfc = 294\n",
      "vmax = 1215\n",
      "vmin = 1100\n",
      "w_diffuse = [(1.66,)]\n",
      "wgt = [(0.95,)]\n"
     ]
    },
    {
     "data": {
      "text/html": [
       "<a id=\"Cooling_Rate_Profiles\"></a>"
      ],
      "text/plain": [
       "<IPython.core.display.HTML object>"
      ]
     },
     "metadata": {},
     "output_type": "display_data"
    },
    {
     "data": {
      "text/markdown": [
       "# Cooling Rate Profiles"
      ],
      "text/plain": [
       "<IPython.core.display.Markdown object>"
      ]
     },
     "metadata": {},
     "output_type": "display_data"
    },
    {
     "data": {
      "text/html": [
       "\n",
       "<div class=\"bk-root\">\n",
       "    <div class=\"bk-plotdiv\" id=\"61962ed7-b1a5-45a3-80a4-f6cf9f484caf\"></div>\n",
       "</div>"
      ]
     },
     "metadata": {},
     "output_type": "display_data"
    },
    {
     "data": {
      "application/javascript": [
       "(function(root) {\n",
       "  function embed_document(root) {\n",
       "    \n",
       "  var docs_json = {\"556329f7-c031-4b93-8cc9-9ad07c3b54bf\":{\"roots\":{\"references\":[{\"attributes\":{\"data_source\":{\"id\":\"481aea2c-0bfd-42e1-8b24-c24f96581a5e\",\"type\":\"ColumnDataSource\"},\"glyph\":{\"id\":\"5d03b6a6-e87b-47e9-87cd-82d078e75850\",\"type\":\"Line\"},\"hover_glyph\":null,\"muted_glyph\":null,\"nonselection_glyph\":{\"id\":\"efbc0579-c8e0-4ed8-b9f3-0e2c6be37fba\",\"type\":\"Line\"},\"selection_glyph\":null,\"view\":{\"id\":\"da964111-d670-4ced-82fc-8a2bf45b14e8\",\"type\":\"CDSView\"}},\"id\":\"e75b5a92-7474-47b9-9c49-40c89550ddf5\",\"type\":\"GlyphRenderer\"},{\"attributes\":{\"data_source\":{\"id\":\"df3e2f89-5f04-4a73-9ad0-141db4932b84\",\"type\":\"ColumnDataSource\"},\"glyph\":{\"id\":\"d04a46a3-154e-4e68-8878-1eb52ab8282f\",\"type\":\"Square\"},\"hover_glyph\":null,\"muted_glyph\":null,\"nonselection_glyph\":{\"id\":\"a870a76d-7356-462d-9189-76675fbab01c\",\"type\":\"Square\"},\"selection_glyph\":null,\"view\":{\"id\":\"bfa7bc7a-579f-4835-a670-76a848bc8e2e\",\"type\":\"CDSView\"}},\"id\":\"6b1e9ff9-885e-4070-b0b7-e90c0130b18f\",\"type\":\"GlyphRenderer\"},{\"attributes\":{},\"id\":\"877b9098-7712-4753-a505-75e5bdfd5f6c\",\"type\":\"BasicTickFormatter\"},{\"attributes\":{\"callback\":null,\"end\":0.01,\"start\":1020},\"id\":\"8b2e4ff8-0755-4413-87d2-bf0016890401\",\"type\":\"Range1d\"},{\"attributes\":{\"source\":{\"id\":\"739b720d-49bb-47c2-800c-92660ffe3972\",\"type\":\"ColumnDataSource\"}},\"id\":\"fff7e09a-0f0c-4d51-aa13-dc8c40afcfe5\",\"type\":\"CDSView\"},{\"attributes\":{\"fill_alpha\":{\"value\":0.7},\"fill_color\":{\"value\":\"#984ea3\"},\"line_alpha\":{\"value\":0.7},\"line_color\":{\"value\":\"#984ea3\"},\"x\":{\"field\":\"x\"},\"y\":{\"field\":\"y\"}},\"id\":\"d04a46a3-154e-4e68-8878-1eb52ab8282f\",\"type\":\"Square\"},{\"attributes\":{\"fill_alpha\":{\"value\":0.1},\"fill_color\":{\"value\":\"#1f77b4\"},\"line_alpha\":{\"value\":0.1},\"line_color\":{\"value\":\"#1f77b4\"},\"x\":{\"field\":\"x\"},\"y\":{\"field\":\"y\"}},\"id\":\"a870a76d-7356-462d-9189-76675fbab01c\",\"type\":\"Square\"},{\"attributes\":{\"callback\":null,\"column_names\":[\"x\",\"y\"],\"data\":{\"x\":{\"__ndarray__\":\"uocTvzqzcr/VKbiklqlyv+jMiNa7lHK/axAwuyp+cr/87qneEmdyv1FaUsp4T3K/QzKmmVw3cr/j7XH4vh5yv4d8Z2KgBXK/N9gJIwXscb8e0P+W89Fxv8ocrRxxt3G/rZvUTIWccb8CwF6NZn9xv5IZuwIiJHG/OBz2eKoOcL8mZOCzh1Nsv12oGzAYeGe/8W4zvU5vYb9mw/WDFQJUv4XoPlpwLR6/YmcnFyzbUz9rUuOE1vpjP3JbZHyN3WQ/wnsWnY/fWT8h2Nsqd5c9P8amZR+XF0O/qW8beaBWWL8xsD/m0lpiv/KtG/Bqkme/bZQTOwM0bL80NZFhqhxwv+TuX5jNlXG/idICXmSOcr9BIZNwR1Zzv/1pF9pP+3O/CL+IinVJdL8xm0oH7m50v9hLGOtpcHS/Ok2Tz3NPdL/TomD8K6Fzvw1Z7TqMa3K/dhYtX58Jcb+yGUD1mBNvv90ND1LRB2y/hk5oRoHtaL8SLp5hdeJlv3v+7LLcrGK/NDJTUA3YXr/Zm02EY09Yv8Kww+ETzlG/XERJsSFBR7/z+QW1bW80v1+SEdRx4RM/PbkKXbQfPj+4blHbXTFLP5yN3G3z01M/FDgdbQoXWj+p6i8FtSlgPzMF0zajQmM//u8oT4k9Zj9N5WFfumJpP7//xLzWe2w/WGfPOcWQbz8iqvKxwkNxPxKJ5X7ex3I/1l0DGJtBdD/qP2t+/KV1P0JBFlLY5nY/WCE3lPkGeD8ZzZbgVxt5P7LHucXrHno/88eNSsUZez8BXGYbswF8P0QxTDkl+Hw/\",\"dtype\":\"float64\",\"shape\":[75]},\"y\":{\"__ndarray__\":\"GhExyth1ND/Sv8nbtpRIP2vylNV0PVE/aTum7souWD/At0SJ8fVgPw3Iuahxymc/MSNhhJWvcD/bTfBN02d3P2zb5nxnaoA/CD5h5MAGhz8NmeH1TyaQP+zrCsc9p5Y/LbKd76fGnz/bLW5ISEmmPww9YvTcQq8/JV2OstnstT8Er5Y7M8G+P0c+r3jqkcU/5h99k6ZBzj88bCIzFzjVP4enV8oyxN0//yH99nXg5D8qOpLLf0jtP5kqGJXUifQ/c9cS8kHP/D+/DpwzojQEQIEmwoanVwxA4lgXt9HgE0BSSZ2AJuIbQAMJih9jjiNA5q4l5INuK0AwTKYKRj0zQNv5fmq8/DpAaCJseHrtQkB/+zpwzoxKQM3MzMzMeFJAZmZmZmZqWEAAAAAAAFxeQM3MzMzMJmJAmpmZmZkfZUBmZmZmZhhoQDMzMzMzEWtAAAAAAAAKbkBmZmZmZoFwQM3MzMzM/XFAMzMzMzN6c0CamZmZmfZ0QAAAAAAAc3ZAZmZmZmbvd0DNzMzMzGt5QDMzMzMz6HpAmpmZmZlkfEAAAAAAAOF9QGZmZmZmXX9AZmZmZuZsgECamZmZGSuBQM3MzMxM6YFAAAAAAICngkAzMzMzs2WDQGZmZmbmI4RAmpmZmRnihEDNzMzMTKCFQAAAAACAXoZAMzMzM7Mch0BmZmZm5tqHQJqZmZkZmYhAzczMzExXiUAAAAAAgBWKQDMzMzOz04pAZmZmZuaRi0CamZmZGVCMQM3MzMxMDo1AAAAAAIDMjUAzMzMzs4qOQGZmZmbmSI9A\",\"dtype\":\"float64\",\"shape\":[75]}}},\"id\":\"df3e2f89-5f04-4a73-9ad0-141db4932b84\",\"type\":\"ColumnDataSource\"},{\"attributes\":{\"callback\":null,\"column_names\":[\"x\",\"y\"],\"data\":{\"x\":{\"__ndarray__\":\"hzmVUYuWYr8SW/DUMoFiv5IaBu8MU2K/gC9CxtUgYr+t8ZfrdO1hv3e7ww4ouWG/wkc77AmEYb/5gOywY05hvyAHjtROF2G/6J1dklDgYL8fNV0Ad6hgv4Nsgxlmb2C/4UndXmo1YL+x29CdM+xfvwpOd/l6YF6/38UpYceyWb/Z5G1/x6RRv5f2MyLHkz2/Zx7IHs4ENT9uayhJoMdUPxM5i/pHz2M/YFRUceoZbz+f3LvxKr50P3FdcawkHXU/71Qt2v3ZcD8E6qCVM9BnP9sGNKjkgl0/kdYm74NrSz8Ogu/Xecn4PpWlwwk6I0a/GIvKeQuTVb9z+WvHT0lfv4Z/5CCgt2O/k3n7YlwZZ7/hieVGNGlqv7hEobKQqm2/X46dPqIMcL+27F37Ottwv24Wpf8CjHG/PD+ormz9cb/3/D+2xMRxv/XVtmHL5HC/yxcNAKmSb7+XbHSCwSttvxmp12uKoGq/jfVqTyv2Z7+I6lB+8DBlvyoWewyvVGK/K58ZkDrLXr8Pg59O985Yv2yh2Mh9xFK/4TxIlcxwSb/gjjRIF8k6vwsAh/QoTAa/oHN0H+gsNT+C10ul5ZVGP23LQ1B8T1E/U/ONU/FZVz+RyWWAZGpdP9CxRjBjwGE/mVxOQlfNZD/XFDIa7NtnP6N8CobP62o/1l7SPCr8bT/BzV6NHoVwPzYXE60pCHI/iyteEACBcz9rBhC0feV0P/A3BhdFLHY/boycy+1Tdz+vv7SGHGR4P+L4i6RXZnk/CMCH6Bphej88+YmGsld7P9r1z+6wS3w/\",\"dtype\":\"float64\",\"shape\":[75]},\"y\":{\"__ndarray__\":\"GhExyth1ND/Sv8nbtpRIP2vylNV0PVE/aTum7souWD/At0SJ8fVgPw3Iuahxymc/MSNhhJWvcD/bTfBN02d3P2zb5nxnaoA/CD5h5MAGhz8NmeH1TyaQP+zrCsc9p5Y/LbKd76fGnz/bLW5ISEmmPww9YvTcQq8/JV2OstnstT8Er5Y7M8G+P0c+r3jqkcU/5h99k6ZBzj88bCIzFzjVP4enV8oyxN0//yH99nXg5D8qOpLLf0jtP5kqGJXUifQ/c9cS8kHP/D+/DpwzojQEQIEmwoanVwxA4lgXt9HgE0BSSZ2AJuIbQAMJih9jjiNA5q4l5INuK0AwTKYKRj0zQNv5fmq8/DpAaCJseHrtQkB/+zpwzoxKQM3MzMzMeFJAZmZmZmZqWEAAAAAAAFxeQM3MzMzMJmJAmpmZmZkfZUBmZmZmZhhoQDMzMzMzEWtAAAAAAAAKbkBmZmZmZoFwQM3MzMzM/XFAMzMzMzN6c0CamZmZmfZ0QAAAAAAAc3ZAZmZmZmbvd0DNzMzMzGt5QDMzMzMz6HpAmpmZmZlkfEAAAAAAAOF9QGZmZmZmXX9AZmZmZuZsgECamZmZGSuBQM3MzMxM6YFAAAAAAICngkAzMzMzs2WDQGZmZmbmI4RAmpmZmRnihEDNzMzMTKCFQAAAAACAXoZAMzMzM7Mch0BmZmZm5tqHQJqZmZkZmYhAzczMzExXiUAAAAAAgBWKQDMzMzOz04pAZmZmZuaRi0CamZmZGVCMQM3MzMxMDo1AAAAAAIDMjUAzMzMzs4qOQGZmZmbmSI9A\",\"dtype\":\"float64\",\"shape\":[75]}}},\"id\":\"739b720d-49bb-47c2-800c-92660ffe3972\",\"type\":\"ColumnDataSource\"},{\"attributes\":{\"callback\":null,\"end\":0.01,\"start\":1020},\"id\":\"cbd48e71-ed5e-4e02-baa2-6a9ee0f8d132\",\"type\":\"Range1d\"},{\"attributes\":{\"line_alpha\":0.6,\"line_color\":\"#e41a1c\",\"line_dash\":[6],\"line_width\":5,\"x\":{\"field\":\"x\"},\"y\":{\"field\":\"y\"}},\"id\":\"5d03b6a6-e87b-47e9-87cd-82d078e75850\",\"type\":\"Line\"},{\"attributes\":{\"source\":{\"id\":\"784e7775-304b-4e5e-bc9c-5b1189875057\",\"type\":\"ColumnDataSource\"}},\"id\":\"f91a197a-ce88-4f7d-b48e-6fcd2d0d7570\",\"type\":\"CDSView\"},{\"attributes\":{\"data_source\":{\"id\":\"784e7775-304b-4e5e-bc9c-5b1189875057\",\"type\":\"ColumnDataSource\"},\"glyph\":{\"id\":\"4bedcab3-76c2-4e23-a217-6616f359d126\",\"type\":\"Line\"},\"hover_glyph\":null,\"muted_glyph\":null,\"nonselection_glyph\":{\"id\":\"ad5a9747-8cbc-4484-962d-e1e28e7c4ae4\",\"type\":\"Line\"},\"selection_glyph\":null,\"view\":{\"id\":\"f91a197a-ce88-4f7d-b48e-6fcd2d0d7570\",\"type\":\"CDSView\"}},\"id\":\"d8b2cc7f-a7a3-47e6-b43e-95fd20d6c51e\",\"type\":\"GlyphRenderer\"},{\"attributes\":{\"label\":{\"value\":\"CRD\"},\"renderers\":[{\"id\":\"01043cbd-31a4-4463-af4c-9ae11d5cd2b2\",\"type\":\"GlyphRenderer\"},{\"id\":\"312cc124-160e-4b82-9d66-3247b5d1e141\",\"type\":\"GlyphRenderer\"}]},\"id\":\"53e8f00a-5c3e-4b0b-8a86-fe28a0947419\",\"type\":\"LegendItem\"},{\"attributes\":{\"below\":[{\"id\":\"04fd22c3-ae1a-4d7f-86cb-f38e6ac39d82\",\"type\":\"LinearAxis\"}],\"left\":[{\"id\":\"cce81b42-bc3c-4c3d-9e5d-74dcde61123e\",\"type\":\"LogAxis\"}],\"plot_height\":500,\"plot_width\":560,\"renderers\":[{\"id\":\"04fd22c3-ae1a-4d7f-86cb-f38e6ac39d82\",\"type\":\"LinearAxis\"},{\"id\":\"89ca689f-5c25-4721-8eb3-58ec173c3b9a\",\"type\":\"Grid\"},{\"id\":\"cce81b42-bc3c-4c3d-9e5d-74dcde61123e\",\"type\":\"LogAxis\"},{\"id\":\"4c5ecab6-cd20-4973-b6c1-239e7b3e3465\",\"type\":\"Grid\"},{\"id\":\"50c992bf-ca76-41d3-8d5f-dccfb30a6dc7\",\"type\":\"BoxAnnotation\"},{\"id\":\"c618e880-c96f-4646-9b44-a2a016d612e9\",\"type\":\"GlyphRenderer\"},{\"id\":\"01043cbd-31a4-4463-af4c-9ae11d5cd2b2\",\"type\":\"GlyphRenderer\"},{\"id\":\"312cc124-160e-4b82-9d66-3247b5d1e141\",\"type\":\"GlyphRenderer\"},{\"id\":\"0cfbaac7-4ee3-47a5-862f-b83888549958\",\"type\":\"GlyphRenderer\"},{\"id\":\"0aa71ce3-2c25-48b9-b7ca-5a5e4d1d0bfc\",\"type\":\"GlyphRenderer\"},{\"id\":\"516ed2c8-8db5-4145-a57b-871904013f42\",\"type\":\"Legend\"}],\"right\":[{\"id\":\"516ed2c8-8db5-4145-a57b-871904013f42\",\"type\":\"Legend\"}],\"title\":{\"id\":\"ae8c283c-b929-4c12-8eee-ad9930a0be4a\",\"type\":\"Title\"},\"toolbar\":{\"id\":\"9bdb6f38-79c3-4e59-bc95-08ccf052074e\",\"type\":\"Toolbar\"},\"toolbar_location\":null,\"x_range\":{\"id\":\"f6194882-98f5-4d7d-8384-d18d4331086a\",\"type\":\"Range1d\"},\"x_scale\":{\"id\":\"0c5eec56-7b90-4e78-b5fd-367a657a6ade\",\"type\":\"LinearScale\"},\"y_range\":{\"id\":\"cbd48e71-ed5e-4e02-baa2-6a9ee0f8d132\",\"type\":\"Range1d\"},\"y_scale\":{\"id\":\"46d5a524-4fe7-448b-a5e5-c4e8efacfb0e\",\"type\":\"LogScale\"}},\"id\":\"6927ebd4-1ae8-4bd5-8e41-287cc052b4b3\",\"subtype\":\"Figure\",\"type\":\"Plot\"},{\"attributes\":{\"fill_alpha\":{\"value\":0.7},\"fill_color\":{\"value\":\"#4daf4a\"},\"line_alpha\":{\"value\":0.7},\"line_color\":{\"value\":\"#4daf4a\"},\"x\":{\"field\":\"x\"},\"y\":{\"field\":\"y\"}},\"id\":\"caed20b4-e882-41cf-abab-76052c97ece0\",\"type\":\"Circle\"},{\"attributes\":{\"children\":[{\"id\":\"74f28a79-cb69-4405-b320-7b72cca265ec\",\"type\":\"Row\"}]},\"id\":\"f67da6d2-e102-4651-995e-396329ff5716\",\"type\":\"Column\"},{\"attributes\":{},\"id\":\"5eaae1bc-35d4-429b-945b-b560489c2b6e\",\"type\":\"PanTool\"},{\"attributes\":{\"axis_label\":\"pressure [mb]\",\"formatter\":{\"id\":\"3b16c49c-fdea-43bf-b2fd-aaf9b643006c\",\"type\":\"LogTickFormatter\"},\"plot\":{\"id\":\"6927ebd4-1ae8-4bd5-8e41-287cc052b4b3\",\"subtype\":\"Figure\",\"type\":\"Plot\"},\"ticker\":{\"id\":\"3d8ba4ac-0cdb-48a2-a3a1-cd25351c9b8e\",\"type\":\"LogTicker\"}},\"id\":\"cce81b42-bc3c-4c3d-9e5d-74dcde61123e\",\"type\":\"LogAxis\"},{\"attributes\":{},\"id\":\"0c5eec56-7b90-4e78-b5fd-367a657a6ade\",\"type\":\"LinearScale\"},{\"attributes\":{\"line_alpha\":0.1,\"line_color\":\"#1f77b4\",\"line_dash\":[6],\"line_width\":5,\"x\":{\"field\":\"x\"},\"y\":{\"field\":\"y\"}},\"id\":\"efbc0579-c8e0-4ed8-b9f3-0e2c6be37fba\",\"type\":\"Line\"},{\"attributes\":{\"callback\":null,\"column_names\":[\"x\",\"y\"],\"data\":{\"x\":{\"__ndarray__\":\"uocTvzqzcr/VKbiklqlyv+jMiNa7lHK/axAwuyp+cr/87qneEmdyv1FaUsp4T3K/QzKmmVw3cr/j7XH4vh5yv4d8Z2KgBXK/N9gJIwXscb8e0P+W89Fxv8ocrRxxt3G/rZvUTIWccb8CwF6NZn9xv5IZuwIiJHG/OBz2eKoOcL8mZOCzh1Nsv12oGzAYeGe/8W4zvU5vYb9mw/WDFQJUv4XoPlpwLR6/YmcnFyzbUz9rUuOE1vpjP3JbZHyN3WQ/wnsWnY/fWT8h2Nsqd5c9P8amZR+XF0O/qW8beaBWWL8xsD/m0lpiv/KtG/Bqkme/bZQTOwM0bL80NZFhqhxwv+TuX5jNlXG/idICXmSOcr9BIZNwR1Zzv/1pF9pP+3O/CL+IinVJdL8xm0oH7m50v9hLGOtpcHS/Ok2Tz3NPdL/TomD8K6Fzvw1Z7TqMa3K/dhYtX58Jcb+yGUD1mBNvv90ND1LRB2y/hk5oRoHtaL8SLp5hdeJlv3v+7LLcrGK/NDJTUA3YXr/Zm02EY09Yv8Kww+ETzlG/XERJsSFBR7/z+QW1bW80v1+SEdRx4RM/PbkKXbQfPj+4blHbXTFLP5yN3G3z01M/FDgdbQoXWj+p6i8FtSlgPzMF0zajQmM//u8oT4k9Zj9N5WFfumJpP7//xLzWe2w/WGfPOcWQbz8iqvKxwkNxPxKJ5X7ex3I/1l0DGJtBdD/qP2t+/KV1P0JBFlLY5nY/WCE3lPkGeD8ZzZbgVxt5P7LHucXrHno/88eNSsUZez8BXGYbswF8P0QxTDkl+Hw/\",\"dtype\":\"float64\",\"shape\":[75]},\"y\":{\"__ndarray__\":\"GhExyth1ND/Sv8nbtpRIP2vylNV0PVE/aTum7souWD/At0SJ8fVgPw3Iuahxymc/MSNhhJWvcD/bTfBN02d3P2zb5nxnaoA/CD5h5MAGhz8NmeH1TyaQP+zrCsc9p5Y/LbKd76fGnz/bLW5ISEmmPww9YvTcQq8/JV2OstnstT8Er5Y7M8G+P0c+r3jqkcU/5h99k6ZBzj88bCIzFzjVP4enV8oyxN0//yH99nXg5D8qOpLLf0jtP5kqGJXUifQ/c9cS8kHP/D+/DpwzojQEQIEmwoanVwxA4lgXt9HgE0BSSZ2AJuIbQAMJih9jjiNA5q4l5INuK0AwTKYKRj0zQNv5fmq8/DpAaCJseHrtQkB/+zpwzoxKQM3MzMzMeFJAZmZmZmZqWEAAAAAAAFxeQM3MzMzMJmJAmpmZmZkfZUBmZmZmZhhoQDMzMzMzEWtAAAAAAAAKbkBmZmZmZoFwQM3MzMzM/XFAMzMzMzN6c0CamZmZmfZ0QAAAAAAAc3ZAZmZmZmbvd0DNzMzMzGt5QDMzMzMz6HpAmpmZmZlkfEAAAAAAAOF9QGZmZmZmXX9AZmZmZuZsgECamZmZGSuBQM3MzMxM6YFAAAAAAICngkAzMzMzs2WDQGZmZmbmI4RAmpmZmRnihEDNzMzMTKCFQAAAAACAXoZAMzMzM7Mch0BmZmZm5tqHQJqZmZkZmYhAzczMzExXiUAAAAAAgBWKQDMzMzOz04pAZmZmZuaRi0CamZmZGVCMQM3MzMxMDo1AAAAAAIDMjUAzMzMzs4qOQGZmZmbmSI9A\",\"dtype\":\"float64\",\"shape\":[75]}}},\"id\":\"d4985790-38c2-4583-8226-8862db7baeec\",\"type\":\"ColumnDataSource\"},{\"attributes\":{},\"id\":\"cf3662ac-df4a-458d-9240-6721a4337eb0\",\"type\":\"BasicTicker\"},{\"attributes\":{\"callback\":null,\"column_names\":[\"x\",\"y\"],\"data\":{\"x\":{\"__ndarray__\":\"uocTvzqzcr/VKbiklqlyv+jMiNa7lHK/axAwuyp+cr/87qneEmdyv1FaUsp4T3K/QzKmmVw3cr/j7XH4vh5yv4d8Z2KgBXK/N9gJIwXscb8e0P+W89Fxv8ocrRxxt3G/rZvUTIWccb8CwF6NZn9xv5IZuwIiJHG/OBz2eKoOcL8mZOCzh1Nsv12oGzAYeGe/8W4zvU5vYb9mw/WDFQJUv4XoPlpwLR6/YmcnFyzbUz9rUuOE1vpjP3JbZHyN3WQ/wnsWnY/fWT8h2Nsqd5c9P8amZR+XF0O/qW8beaBWWL8xsD/m0lpiv/KtG/Bqkme/bZQTOwM0bL80NZFhqhxwv+TuX5jNlXG/idICXmSOcr9BIZNwR1Zzv/1pF9pP+3O/CL+IinVJdL8xm0oH7m50v9hLGOtpcHS/Ok2Tz3NPdL/TomD8K6Fzvw1Z7TqMa3K/dhYtX58Jcb+yGUD1mBNvv90ND1LRB2y/hk5oRoHtaL8SLp5hdeJlv3v+7LLcrGK/NDJTUA3YXr/Zm02EY09Yv8Kww+ETzlG/XERJsSFBR7/z+QW1bW80v1+SEdRx4RM/PbkKXbQfPj+4blHbXTFLP5yN3G3z01M/FDgdbQoXWj+p6i8FtSlgPzMF0zajQmM//u8oT4k9Zj9N5WFfumJpP7//xLzWe2w/WGfPOcWQbz8iqvKxwkNxPxKJ5X7ex3I/1l0DGJtBdD/qP2t+/KV1P0JBFlLY5nY/WCE3lPkGeD8ZzZbgVxt5P7LHucXrHno/88eNSsUZez8BXGYbswF8P0QxTDkl+Hw/\",\"dtype\":\"float64\",\"shape\":[75]},\"y\":{\"__ndarray__\":\"GhExyth1ND/Sv8nbtpRIP2vylNV0PVE/aTum7souWD/At0SJ8fVgPw3Iuahxymc/MSNhhJWvcD/bTfBN02d3P2zb5nxnaoA/CD5h5MAGhz8NmeH1TyaQP+zrCsc9p5Y/LbKd76fGnz/bLW5ISEmmPww9YvTcQq8/JV2OstnstT8Er5Y7M8G+P0c+r3jqkcU/5h99k6ZBzj88bCIzFzjVP4enV8oyxN0//yH99nXg5D8qOpLLf0jtP5kqGJXUifQ/c9cS8kHP/D+/DpwzojQEQIEmwoanVwxA4lgXt9HgE0BSSZ2AJuIbQAMJih9jjiNA5q4l5INuK0AwTKYKRj0zQNv5fmq8/DpAaCJseHrtQkB/+zpwzoxKQM3MzMzMeFJAZmZmZmZqWEAAAAAAAFxeQM3MzMzMJmJAmpmZmZkfZUBmZmZmZhhoQDMzMzMzEWtAAAAAAAAKbkBmZmZmZoFwQM3MzMzM/XFAMzMzMzN6c0CamZmZmfZ0QAAAAAAAc3ZAZmZmZmbvd0DNzMzMzGt5QDMzMzMz6HpAmpmZmZlkfEAAAAAAAOF9QGZmZmZmXX9AZmZmZuZsgECamZmZGSuBQM3MzMxM6YFAAAAAAICngkAzMzMzs2WDQGZmZmbmI4RAmpmZmRnihEDNzMzMTKCFQAAAAACAXoZAMzMzM7Mch0BmZmZm5tqHQJqZmZkZmYhAzczMzExXiUAAAAAAgBWKQDMzMzOz04pAZmZmZuaRi0CamZmZGVCMQM3MzMxMDo1AAAAAAIDMjUAzMzMzs4qOQGZmZmbmSI9A\",\"dtype\":\"float64\",\"shape\":[75]}}},\"id\":\"19922012-79ec-4a43-a6af-08dc05dde6de\",\"type\":\"ColumnDataSource\"},{\"attributes\":{\"line_alpha\":0.6,\"line_color\":\"#984ea3\",\"line_width\":3,\"x\":{\"field\":\"x\"},\"y\":{\"field\":\"y\"}},\"id\":\"26b28def-e22a-40a9-b52c-1cac07983206\",\"type\":\"Line\"},{\"attributes\":{\"axis_label\":\"cooling rate [K/day]\",\"formatter\":{\"id\":\"c6f65ada-7bf6-4108-b0e0-8c8099ddd703\",\"type\":\"BasicTickFormatter\"},\"plot\":{\"id\":\"6927ebd4-1ae8-4bd5-8e41-287cc052b4b3\",\"subtype\":\"Figure\",\"type\":\"Plot\"},\"ticker\":{\"id\":\"cf3662ac-df4a-458d-9240-6721a4337eb0\",\"type\":\"BasicTicker\"}},\"id\":\"04fd22c3-ae1a-4d7f-86cb-f38e6ac39d82\",\"type\":\"LinearAxis\"},{\"attributes\":{\"line_color\":\"#4daf4a\",\"line_width\":1.5,\"x\":{\"field\":\"x\"},\"y\":{\"field\":\"y\"}},\"id\":\"4bedcab3-76c2-4e23-a217-6616f359d126\",\"type\":\"Line\"},{\"attributes\":{\"num_minor_ticks\":10},\"id\":\"3d8ba4ac-0cdb-48a2-a3a1-cd25351c9b8e\",\"type\":\"LogTicker\"},{\"attributes\":{\"axis_label\":\"pressure [mb]\",\"formatter\":{\"id\":\"877b9098-7712-4753-a505-75e5bdfd5f6c\",\"type\":\"BasicTickFormatter\"},\"plot\":{\"id\":\"fbe06521-a7b6-4912-a0a5-458015ad6a34\",\"subtype\":\"Figure\",\"type\":\"Plot\"},\"ticker\":{\"id\":\"0f8e96a0-d4fa-41c5-92cd-1ce79409acb8\",\"type\":\"BasicTicker\"}},\"id\":\"1c7c2612-b30c-499e-989e-933bed438920\",\"type\":\"LinearAxis\"},{\"attributes\":{\"label\":{\"value\":\"WGT igg=10 wgt_flux=2\"},\"renderers\":[{\"id\":\"0cfbaac7-4ee3-47a5-862f-b83888549958\",\"type\":\"GlyphRenderer\"},{\"id\":\"0aa71ce3-2c25-48b9-b7ca-5a5e4d1d0bfc\",\"type\":\"GlyphRenderer\"}]},\"id\":\"0abaed0b-e726-4fc8-9bbe-b16814481eb0\",\"type\":\"LegendItem\"},{\"attributes\":{\"line_alpha\":0.1,\"line_color\":\"#1f77b4\",\"line_width\":1.5,\"x\":{\"field\":\"x\"},\"y\":{\"field\":\"y\"}},\"id\":\"ad5a9747-8cbc-4484-962d-e1e28e7c4ae4\",\"type\":\"Line\"},{\"attributes\":{\"ticker\":null},\"id\":\"3b16c49c-fdea-43bf-b2fd-aaf9b643006c\",\"type\":\"LogTickFormatter\"},{\"attributes\":{\"callback\":null,\"column_names\":[\"x\",\"y\"],\"data\":{\"x\":{\"__ndarray__\":\"hzmVUYuWYr8SW/DUMoFiv5IaBu8MU2K/gC9CxtUgYr+t8ZfrdO1hv3e7ww4ouWG/wkc77AmEYb/5gOywY05hvyAHjtROF2G/6J1dklDgYL8fNV0Ad6hgv4Nsgxlmb2C/4UndXmo1YL+x29CdM+xfvwpOd/l6YF6/38UpYceyWb/Z5G1/x6RRv5f2MyLHkz2/Zx7IHs4ENT9uayhJoMdUPxM5i/pHz2M/YFRUceoZbz+f3LvxKr50P3FdcawkHXU/71Qt2v3ZcD8E6qCVM9BnP9sGNKjkgl0/kdYm74NrSz8Ogu/Xecn4PpWlwwk6I0a/GIvKeQuTVb9z+WvHT0lfv4Z/5CCgt2O/k3n7YlwZZ7/hieVGNGlqv7hEobKQqm2/X46dPqIMcL+27F37Ottwv24Wpf8CjHG/PD+ormz9cb/3/D+2xMRxv/XVtmHL5HC/yxcNAKmSb7+XbHSCwSttvxmp12uKoGq/jfVqTyv2Z7+I6lB+8DBlvyoWewyvVGK/K58ZkDrLXr8Pg59O985Yv2yh2Mh9xFK/4TxIlcxwSb/gjjRIF8k6vwsAh/QoTAa/oHN0H+gsNT+C10ul5ZVGP23LQ1B8T1E/U/ONU/FZVz+RyWWAZGpdP9CxRjBjwGE/mVxOQlfNZD/XFDIa7NtnP6N8CobP62o/1l7SPCr8bT/BzV6NHoVwPzYXE60pCHI/iyteEACBcz9rBhC0feV0P/A3BhdFLHY/boycy+1Tdz+vv7SGHGR4P+L4i6RXZnk/CMCH6Bphej88+YmGsld7P9r1z+6wS3w/\",\"dtype\":\"float64\",\"shape\":[75]},\"y\":{\"__ndarray__\":\"GhExyth1ND/Sv8nbtpRIP2vylNV0PVE/aTum7souWD/At0SJ8fVgPw3Iuahxymc/MSNhhJWvcD/bTfBN02d3P2zb5nxnaoA/CD5h5MAGhz8NmeH1TyaQP+zrCsc9p5Y/LbKd76fGnz/bLW5ISEmmPww9YvTcQq8/JV2OstnstT8Er5Y7M8G+P0c+r3jqkcU/5h99k6ZBzj88bCIzFzjVP4enV8oyxN0//yH99nXg5D8qOpLLf0jtP5kqGJXUifQ/c9cS8kHP/D+/DpwzojQEQIEmwoanVwxA4lgXt9HgE0BSSZ2AJuIbQAMJih9jjiNA5q4l5INuK0AwTKYKRj0zQNv5fmq8/DpAaCJseHrtQkB/+zpwzoxKQM3MzMzMeFJAZmZmZmZqWEAAAAAAAFxeQM3MzMzMJmJAmpmZmZkfZUBmZmZmZhhoQDMzMzMzEWtAAAAAAAAKbkBmZmZmZoFwQM3MzMzM/XFAMzMzMzN6c0CamZmZmfZ0QAAAAAAAc3ZAZmZmZmbvd0DNzMzMzGt5QDMzMzMz6HpAmpmZmZlkfEAAAAAAAOF9QGZmZmZmXX9AZmZmZuZsgECamZmZGSuBQM3MzMxM6YFAAAAAAICngkAzMzMzs2WDQGZmZmbmI4RAmpmZmRnihEDNzMzMTKCFQAAAAACAXoZAMzMzM7Mch0BmZmZm5tqHQJqZmZkZmYhAzczMzExXiUAAAAAAgBWKQDMzMzOz04pAZmZmZuaRi0CamZmZGVCMQM3MzMxMDo1AAAAAAIDMjUAzMzMzs4qOQGZmZmbmSI9A\",\"dtype\":\"float64\",\"shape\":[75]}}},\"id\":\"9f611a29-7c1b-40a8-990b-62cd33f7f5d8\",\"type\":\"ColumnDataSource\"},{\"attributes\":{},\"id\":\"0f8e96a0-d4fa-41c5-92cd-1ce79409acb8\",\"type\":\"BasicTicker\"},{\"attributes\":{\"dimension\":1,\"plot\":{\"id\":\"fbe06521-a7b6-4912-a0a5-458015ad6a34\",\"subtype\":\"Figure\",\"type\":\"Plot\"},\"ticker\":{\"id\":\"0f8e96a0-d4fa-41c5-92cd-1ce79409acb8\",\"type\":\"BasicTicker\"}},\"id\":\"6a0d0fcf-919a-42dd-b8e0-40d83b19c986\",\"type\":\"Grid\"},{\"attributes\":{\"bottom_units\":\"screen\",\"fill_alpha\":{\"value\":0.5},\"fill_color\":{\"value\":\"lightgrey\"},\"left_units\":\"screen\",\"level\":\"overlay\",\"line_alpha\":{\"value\":1.0},\"line_color\":{\"value\":\"black\"},\"line_dash\":[4,4],\"line_width\":{\"value\":2},\"plot\":null,\"render_mode\":\"css\",\"right_units\":\"screen\",\"top_units\":\"screen\"},\"id\":\"50c992bf-ca76-41d3-8d5f-dccfb30a6dc7\",\"type\":\"BoxAnnotation\"},{\"attributes\":{\"plot\":{\"id\":\"fbe06521-a7b6-4912-a0a5-458015ad6a34\",\"subtype\":\"Figure\",\"type\":\"Plot\"},\"ticker\":{\"id\":\"6624919c-f799-4dbc-ab6e-0aad7fd43b6d\",\"type\":\"BasicTicker\"}},\"id\":\"490b72ef-984c-478f-9b01-0faa3e6da080\",\"type\":\"Grid\"},{\"attributes\":{},\"id\":\"1e3502b2-2fe2-4a75-aa75-40e5d31f0dae\",\"type\":\"LinearScale\"},{\"attributes\":{\"bottom_units\":\"screen\",\"fill_alpha\":{\"value\":0.5},\"fill_color\":{\"value\":\"lightgrey\"},\"left_units\":\"screen\",\"level\":\"overlay\",\"line_alpha\":{\"value\":1.0},\"line_color\":{\"value\":\"black\"},\"line_dash\":[4,4],\"line_width\":{\"value\":2},\"plot\":null,\"render_mode\":\"css\",\"right_units\":\"screen\",\"top_units\":\"screen\"},\"id\":\"d1305b03-cc24-4f02-a8d0-0edd8f273e51\",\"type\":\"BoxAnnotation\"},{\"attributes\":{\"plot\":{\"id\":\"6927ebd4-1ae8-4bd5-8e41-287cc052b4b3\",\"subtype\":\"Figure\",\"type\":\"Plot\"},\"ticker\":{\"id\":\"cf3662ac-df4a-458d-9240-6721a4337eb0\",\"type\":\"BasicTicker\"}},\"id\":\"89ca689f-5c25-4721-8eb3-58ec173c3b9a\",\"type\":\"Grid\"},{\"attributes\":{\"data_source\":{\"id\":\"9f611a29-7c1b-40a8-990b-62cd33f7f5d8\",\"type\":\"ColumnDataSource\"},\"glyph\":{\"id\":\"3a6dbe6c-2486-4940-beae-7410b636e742\",\"type\":\"Circle\"},\"hover_glyph\":null,\"muted_glyph\":null,\"nonselection_glyph\":{\"id\":\"b4208e28-4238-4a3e-81e9-816565e44e51\",\"type\":\"Circle\"},\"selection_glyph\":null,\"view\":{\"id\":\"c420c83a-3326-4fc3-87ba-e8a62a840a0a\",\"type\":\"CDSView\"}},\"id\":\"01043cbd-31a4-4463-af4c-9ae11d5cd2b2\",\"type\":\"GlyphRenderer\"},{\"attributes\":{},\"id\":\"1bfe8201-cb93-4345-ab90-de7b82c3e0bf\",\"type\":\"WheelZoomTool\"},{\"attributes\":{\"fill_alpha\":{\"value\":0.7},\"fill_color\":{\"value\":\"#4daf4a\"},\"line_alpha\":{\"value\":0.7},\"line_color\":{\"value\":\"#4daf4a\"},\"x\":{\"field\":\"x\"},\"y\":{\"field\":\"y\"}},\"id\":\"3a6dbe6c-2486-4940-beae-7410b636e742\",\"type\":\"Circle\"},{\"attributes\":{\"data_source\":{\"id\":\"dc1f2d02-a514-4299-b67d-991dfd814904\",\"type\":\"ColumnDataSource\"},\"glyph\":{\"id\":\"808f0d89-9cca-4840-8551-1497d51e44e5\",\"type\":\"Line\"},\"hover_glyph\":null,\"muted_glyph\":null,\"nonselection_glyph\":{\"id\":\"72896d33-9297-4e55-a01b-c51b7cadd254\",\"type\":\"Line\"},\"selection_glyph\":null,\"view\":{\"id\":\"89dd0eea-0327-404e-85c6-0500023f78a0\",\"type\":\"CDSView\"}},\"id\":\"c618e880-c96f-4646-9b44-a2a016d612e9\",\"type\":\"GlyphRenderer\"},{\"attributes\":{\"plot\":null,\"text\":\"Log pressure scale\"},\"id\":\"ae8c283c-b929-4c12-8eee-ad9930a0be4a\",\"type\":\"Title\"},{\"attributes\":{\"plot\":null,\"text\":\"Linear pressure scale\"},\"id\":\"0373894b-2c24-4168-bb45-fdbb29f1c945\",\"type\":\"Title\"},{\"attributes\":{},\"id\":\"4debc184-e25d-4531-a759-e95512b92177\",\"type\":\"PanTool\"},{\"attributes\":{\"fill_alpha\":{\"value\":0.1},\"fill_color\":{\"value\":\"#1f77b4\"},\"line_alpha\":{\"value\":0.1},\"line_color\":{\"value\":\"#1f77b4\"},\"x\":{\"field\":\"x\"},\"y\":{\"field\":\"y\"}},\"id\":\"b4208e28-4238-4a3e-81e9-816565e44e51\",\"type\":\"Circle\"},{\"attributes\":{},\"id\":\"934ad99e-4748-480a-92ac-338b23744900\",\"type\":\"ResetTool\"},{\"attributes\":{\"fill_alpha\":{\"value\":0.1},\"fill_color\":{\"value\":\"#1f77b4\"},\"line_alpha\":{\"value\":0.1},\"line_color\":{\"value\":\"#1f77b4\"},\"x\":{\"field\":\"x\"},\"y\":{\"field\":\"y\"}},\"id\":\"6e1af4d8-aca9-483b-ba47-6aabb2badff2\",\"type\":\"Circle\"},{\"attributes\":{\"dimension\":1,\"plot\":{\"id\":\"6927ebd4-1ae8-4bd5-8e41-287cc052b4b3\",\"subtype\":\"Figure\",\"type\":\"Plot\"},\"ticker\":{\"id\":\"3d8ba4ac-0cdb-48a2-a3a1-cd25351c9b8e\",\"type\":\"LogTicker\"}},\"id\":\"4c5ecab6-cd20-4973-b6c1-239e7b3e3465\",\"type\":\"Grid\"},{\"attributes\":{\"line_alpha\":0.1,\"line_color\":\"#1f77b4\",\"line_dash\":[6],\"line_width\":5,\"x\":{\"field\":\"x\"},\"y\":{\"field\":\"y\"}},\"id\":\"72896d33-9297-4e55-a01b-c51b7cadd254\",\"type\":\"Line\"},{\"attributes\":{},\"id\":\"c6f65ada-7bf6-4108-b0e0-8c8099ddd703\",\"type\":\"BasicTickFormatter\"},{\"attributes\":{\"callback\":null,\"column_names\":[\"x\",\"y\"],\"data\":{\"x\":{\"__ndarray__\":\"hzmVUYuWYr8SW/DUMoFiv5IaBu8MU2K/gC9CxtUgYr+t8ZfrdO1hv3e7ww4ouWG/wkc77AmEYb/5gOywY05hvyAHjtROF2G/6J1dklDgYL8fNV0Ad6hgv4Nsgxlmb2C/4UndXmo1YL+x29CdM+xfvwpOd/l6YF6/38UpYceyWb/Z5G1/x6RRv5f2MyLHkz2/Zx7IHs4ENT9uayhJoMdUPxM5i/pHz2M/YFRUceoZbz+f3LvxKr50P3FdcawkHXU/71Qt2v3ZcD8E6qCVM9BnP9sGNKjkgl0/kdYm74NrSz8Ogu/Xecn4PpWlwwk6I0a/GIvKeQuTVb9z+WvHT0lfv4Z/5CCgt2O/k3n7YlwZZ7/hieVGNGlqv7hEobKQqm2/X46dPqIMcL+27F37Ottwv24Wpf8CjHG/PD+ormz9cb/3/D+2xMRxv/XVtmHL5HC/yxcNAKmSb7+XbHSCwSttvxmp12uKoGq/jfVqTyv2Z7+I6lB+8DBlvyoWewyvVGK/K58ZkDrLXr8Pg59O985Yv2yh2Mh9xFK/4TxIlcxwSb/gjjRIF8k6vwsAh/QoTAa/oHN0H+gsNT+C10ul5ZVGP23LQ1B8T1E/U/ONU/FZVz+RyWWAZGpdP9CxRjBjwGE/mVxOQlfNZD/XFDIa7NtnP6N8CobP62o/1l7SPCr8bT/BzV6NHoVwPzYXE60pCHI/iyteEACBcz9rBhC0feV0P/A3BhdFLHY/boycy+1Tdz+vv7SGHGR4P+L4i6RXZnk/CMCH6Bphej88+YmGsld7P9r1z+6wS3w/\",\"dtype\":\"float64\",\"shape\":[75]},\"y\":{\"__ndarray__\":\"GhExyth1ND/Sv8nbtpRIP2vylNV0PVE/aTum7souWD/At0SJ8fVgPw3Iuahxymc/MSNhhJWvcD/bTfBN02d3P2zb5nxnaoA/CD5h5MAGhz8NmeH1TyaQP+zrCsc9p5Y/LbKd76fGnz/bLW5ISEmmPww9YvTcQq8/JV2OstnstT8Er5Y7M8G+P0c+r3jqkcU/5h99k6ZBzj88bCIzFzjVP4enV8oyxN0//yH99nXg5D8qOpLLf0jtP5kqGJXUifQ/c9cS8kHP/D+/DpwzojQEQIEmwoanVwxA4lgXt9HgE0BSSZ2AJuIbQAMJih9jjiNA5q4l5INuK0AwTKYKRj0zQNv5fmq8/DpAaCJseHrtQkB/+zpwzoxKQM3MzMzMeFJAZmZmZmZqWEAAAAAAAFxeQM3MzMzMJmJAmpmZmZkfZUBmZmZmZhhoQDMzMzMzEWtAAAAAAAAKbkBmZmZmZoFwQM3MzMzM/XFAMzMzMzN6c0CamZmZmfZ0QAAAAAAAc3ZAZmZmZmbvd0DNzMzMzGt5QDMzMzMz6HpAmpmZmZlkfEAAAAAAAOF9QGZmZmZmXX9AZmZmZuZsgECamZmZGSuBQM3MzMxM6YFAAAAAAICngkAzMzMzs2WDQGZmZmbmI4RAmpmZmRnihEDNzMzMTKCFQAAAAACAXoZAMzMzM7Mch0BmZmZm5tqHQJqZmZkZmYhAzczMzExXiUAAAAAAgBWKQDMzMzOz04pAZmZmZuaRi0CamZmZGVCMQM3MzMxMDo1AAAAAAIDMjUAzMzMzs4qOQGZmZmbmSI9A\",\"dtype\":\"float64\",\"shape\":[75]}}},\"id\":\"784e7775-304b-4e5e-bc9c-5b1189875057\",\"type\":\"ColumnDataSource\"},{\"attributes\":{\"callback\":null,\"column_names\":[\"x\",\"y\"],\"data\":{\"x\":{\"__ndarray__\":\"hzmVUYuWYr8SW/DUMoFiv5IaBu8MU2K/gC9CxtUgYr+t8ZfrdO1hv3e7ww4ouWG/wkc77AmEYb/5gOywY05hvyAHjtROF2G/6J1dklDgYL8fNV0Ad6hgv4Nsgxlmb2C/4UndXmo1YL+x29CdM+xfvwpOd/l6YF6/38UpYceyWb/Z5G1/x6RRv5f2MyLHkz2/Zx7IHs4ENT9uayhJoMdUPxM5i/pHz2M/YFRUceoZbz+f3LvxKr50P3FdcawkHXU/71Qt2v3ZcD8E6qCVM9BnP9sGNKjkgl0/kdYm74NrSz8Ogu/Xecn4PpWlwwk6I0a/GIvKeQuTVb9z+WvHT0lfv4Z/5CCgt2O/k3n7YlwZZ7/hieVGNGlqv7hEobKQqm2/X46dPqIMcL+27F37Ottwv24Wpf8CjHG/PD+ormz9cb/3/D+2xMRxv/XVtmHL5HC/yxcNAKmSb7+XbHSCwSttvxmp12uKoGq/jfVqTyv2Z7+I6lB+8DBlvyoWewyvVGK/K58ZkDrLXr8Pg59O985Yv2yh2Mh9xFK/4TxIlcxwSb/gjjRIF8k6vwsAh/QoTAa/oHN0H+gsNT+C10ul5ZVGP23LQ1B8T1E/U/ONU/FZVz+RyWWAZGpdP9CxRjBjwGE/mVxOQlfNZD/XFDIa7NtnP6N8CobP62o/1l7SPCr8bT/BzV6NHoVwPzYXE60pCHI/iyteEACBcz9rBhC0feV0P/A3BhdFLHY/boycy+1Tdz+vv7SGHGR4P+L4i6RXZnk/CMCH6Bphej88+YmGsld7P9r1z+6wS3w/\",\"dtype\":\"float64\",\"shape\":[75]},\"y\":{\"__ndarray__\":\"GhExyth1ND/Sv8nbtpRIP2vylNV0PVE/aTum7souWD/At0SJ8fVgPw3Iuahxymc/MSNhhJWvcD/bTfBN02d3P2zb5nxnaoA/CD5h5MAGhz8NmeH1TyaQP+zrCsc9p5Y/LbKd76fGnz/bLW5ISEmmPww9YvTcQq8/JV2OstnstT8Er5Y7M8G+P0c+r3jqkcU/5h99k6ZBzj88bCIzFzjVP4enV8oyxN0//yH99nXg5D8qOpLLf0jtP5kqGJXUifQ/c9cS8kHP/D+/DpwzojQEQIEmwoanVwxA4lgXt9HgE0BSSZ2AJuIbQAMJih9jjiNA5q4l5INuK0AwTKYKRj0zQNv5fmq8/DpAaCJseHrtQkB/+zpwzoxKQM3MzMzMeFJAZmZmZmZqWEAAAAAAAFxeQM3MzMzMJmJAmpmZmZkfZUBmZmZmZhhoQDMzMzMzEWtAAAAAAAAKbkBmZmZmZoFwQM3MzMzM/XFAMzMzMzN6c0CamZmZmfZ0QAAAAAAAc3ZAZmZmZmbvd0DNzMzMzGt5QDMzMzMz6HpAmpmZmZlkfEAAAAAAAOF9QGZmZmZmXX9AZmZmZuZsgECamZmZGSuBQM3MzMxM6YFAAAAAAICngkAzMzMzs2WDQGZmZmbmI4RAmpmZmRnihEDNzMzMTKCFQAAAAACAXoZAMzMzM7Mch0BmZmZm5tqHQJqZmZkZmYhAzczMzExXiUAAAAAAgBWKQDMzMzOz04pAZmZmZuaRi0CamZmZGVCMQM3MzMxMDo1AAAAAAIDMjUAzMzMzs4qOQGZmZmbmSI9A\",\"dtype\":\"float64\",\"shape\":[75]}}},\"id\":\"fa6d20d1-22c4-449e-a7a0-fb0e070f4861\",\"type\":\"ColumnDataSource\"},{\"attributes\":{},\"id\":\"2b7d75ec-e203-4de8-a9fd-b71541a0a968\",\"type\":\"HelpTool\"},{\"attributes\":{},\"id\":\"0eab97e1-3309-4c70-8bfa-30a7c47a49d4\",\"type\":\"WheelZoomTool\"},{\"attributes\":{\"active_drag\":\"auto\",\"active_inspect\":\"auto\",\"active_scroll\":\"auto\",\"active_tap\":\"auto\",\"tools\":[{\"id\":\"5eaae1bc-35d4-429b-945b-b560489c2b6e\",\"type\":\"PanTool\"},{\"id\":\"1bfe8201-cb93-4345-ab90-de7b82c3e0bf\",\"type\":\"WheelZoomTool\"},{\"id\":\"2b3f9351-1dd4-4b95-b1a0-b381b6a6d4ae\",\"type\":\"BoxZoomTool\"},{\"id\":\"58c750a9-d6fc-456c-b87a-5cd1ed2064ff\",\"type\":\"SaveTool\"},{\"id\":\"934ad99e-4748-480a-92ac-338b23744900\",\"type\":\"ResetTool\"},{\"id\":\"c12fff41-87b6-4d27-b465-f3dc382ab111\",\"type\":\"HelpTool\"}]},\"id\":\"9bdb6f38-79c3-4e59-bc95-08ccf052074e\",\"type\":\"Toolbar\"},{\"attributes\":{\"source\":{\"id\":\"481aea2c-0bfd-42e1-8b24-c24f96581a5e\",\"type\":\"ColumnDataSource\"}},\"id\":\"da964111-d670-4ced-82fc-8a2bf45b14e8\",\"type\":\"CDSView\"},{\"attributes\":{\"callback\":null,\"column_names\":[\"x\",\"y\"],\"data\":{\"x\":{\"__ndarray__\":\"uocTvzqzcr/VKbiklqlyv+jMiNa7lHK/axAwuyp+cr/87qneEmdyv1FaUsp4T3K/QzKmmVw3cr/j7XH4vh5yv4d8Z2KgBXK/N9gJIwXscb8e0P+W89Fxv8ocrRxxt3G/rZvUTIWccb8CwF6NZn9xv5IZuwIiJHG/OBz2eKoOcL8mZOCzh1Nsv12oGzAYeGe/8W4zvU5vYb9mw/WDFQJUv4XoPlpwLR6/YmcnFyzbUz9rUuOE1vpjP3JbZHyN3WQ/wnsWnY/fWT8h2Nsqd5c9P8amZR+XF0O/qW8beaBWWL8xsD/m0lpiv/KtG/Bqkme/bZQTOwM0bL80NZFhqhxwv+TuX5jNlXG/idICXmSOcr9BIZNwR1Zzv/1pF9pP+3O/CL+IinVJdL8xm0oH7m50v9hLGOtpcHS/Ok2Tz3NPdL/TomD8K6Fzvw1Z7TqMa3K/dhYtX58Jcb+yGUD1mBNvv90ND1LRB2y/hk5oRoHtaL8SLp5hdeJlv3v+7LLcrGK/NDJTUA3YXr/Zm02EY09Yv8Kww+ETzlG/XERJsSFBR7/z+QW1bW80v1+SEdRx4RM/PbkKXbQfPj+4blHbXTFLP5yN3G3z01M/FDgdbQoXWj+p6i8FtSlgPzMF0zajQmM//u8oT4k9Zj9N5WFfumJpP7//xLzWe2w/WGfPOcWQbz8iqvKxwkNxPxKJ5X7ex3I/1l0DGJtBdD/qP2t+/KV1P0JBFlLY5nY/WCE3lPkGeD8ZzZbgVxt5P7LHucXrHno/88eNSsUZez8BXGYbswF8P0QxTDkl+Hw/\",\"dtype\":\"float64\",\"shape\":[75]},\"y\":{\"__ndarray__\":\"GhExyth1ND/Sv8nbtpRIP2vylNV0PVE/aTum7souWD/At0SJ8fVgPw3Iuahxymc/MSNhhJWvcD/bTfBN02d3P2zb5nxnaoA/CD5h5MAGhz8NmeH1TyaQP+zrCsc9p5Y/LbKd76fGnz/bLW5ISEmmPww9YvTcQq8/JV2OstnstT8Er5Y7M8G+P0c+r3jqkcU/5h99k6ZBzj88bCIzFzjVP4enV8oyxN0//yH99nXg5D8qOpLLf0jtP5kqGJXUifQ/c9cS8kHP/D+/DpwzojQEQIEmwoanVwxA4lgXt9HgE0BSSZ2AJuIbQAMJih9jjiNA5q4l5INuK0AwTKYKRj0zQNv5fmq8/DpAaCJseHrtQkB/+zpwzoxKQM3MzMzMeFJAZmZmZmZqWEAAAAAAAFxeQM3MzMzMJmJAmpmZmZkfZUBmZmZmZhhoQDMzMzMzEWtAAAAAAAAKbkBmZmZmZoFwQM3MzMzM/XFAMzMzMzN6c0CamZmZmfZ0QAAAAAAAc3ZAZmZmZmbvd0DNzMzMzGt5QDMzMzMz6HpAmpmZmZlkfEAAAAAAAOF9QGZmZmZmXX9AZmZmZuZsgECamZmZGSuBQM3MzMxM6YFAAAAAAICngkAzMzMzs2WDQGZmZmbmI4RAmpmZmRnihEDNzMzMTKCFQAAAAACAXoZAMzMzM7Mch0BmZmZm5tqHQJqZmZkZmYhAzczMzExXiUAAAAAAgBWKQDMzMzOz04pAZmZmZuaRi0CamZmZGVCMQM3MzMxMDo1AAAAAAIDMjUAzMzMzs4qOQGZmZmbmSI9A\",\"dtype\":\"float64\",\"shape\":[75]}}},\"id\":\"2f66dc95-0406-496e-a2b0-21ef8310cf8b\",\"type\":\"ColumnDataSource\"},{\"attributes\":{},\"id\":\"dd3bbded-6a40-4207-b10d-53d8a7019bb4\",\"type\":\"SaveTool\"},{\"attributes\":{\"line_alpha\":0.1,\"line_color\":\"#1f77b4\",\"line_width\":3,\"x\":{\"field\":\"x\"},\"y\":{\"field\":\"y\"}},\"id\":\"047dc2e4-758f-4eaa-ace6-70ab99fb52b0\",\"type\":\"Line\"},{\"attributes\":{\"callback\":null,\"column_names\":[\"x\",\"y\"],\"data\":{\"x\":{\"__ndarray__\":\"vPPgDV7A6D66X8r+dq4BPzcqpHvOSM0+y3yZvP4cpT6RUhMVsR+YPt9+aQLa/Jk+dtq1myqmgT7SnLGRf22QPoD3wQ0/mmc+0S+oqSe8gj6G3CTK/05dPjQwy6F+1HA+bVY37a9thD7EFi213TzJPmO0Bshg/tk+ov78BIV60j6uqbk1R3++PoIRRM/CQbc+TWeCVo0ksz4ZzMNCEgavPv5lFvygAag+P7TlxYyYl74Kr6dNV4fBvkAa0vFYw7e+0+4oN6Enhb6V8uVvdB1wPhBZuWcywHE+CxiUr+IDbT7MkgupxQlhPv/cgfC0eE4+iS1arYBHRD4WEes8YIZHPkVjP3IJID4+o9eK3NbRHT7EV54SwTwSPlXKjW0SQyI+Y0ZdTGHkGj7Zl2IZCUvbPc/txGH4KBE+hjjtYWXGLT5Ny8xkLwgtPgN1P/JdbQ8+VghwCD3m7T0545K1acLkPXqNAHlf2989XhALBd3F1z01XUIqzPLRPdPoSb1eXsc9szFpMJmUfL0VRVcgv3jLvVxPeAEEY9+9dt43gtT64b14IIdaf8/ivUYCmRrtwNq9+YnkUXoK072mSzubohjPvRjWnfRgAsm96HvAdbe6xb3jBTc09CnAvRfj2CKvKcW9gNrW1J3yxr3fgzVKLAHHvbv+pNkJDMW9Cy99mhdm17157UeeyDvfvbB+pf2o9fG9RZ8XzA8v/b035WCsepcFvpkKTTDmIQa+LG3TlIncAL65co3J2cb0vWPAMPEXOui9TnQbvwiB3r2TRmoOJSHWvV3MrRR2fia+\",\"dtype\":\"float64\",\"shape\":[75]},\"y\":{\"__ndarray__\":\"S/O/Q+51ND/Sv8nbtpRIP2vylNV0PVE/aTum7souWD/At0SJ8fVgPw3Iuahxymc/MSNhhJWvcD/bTfBN02d3P2zb5nxnaoA/CD5h5MAGhz8NmeH1TyaQP+zrCsc9p5Y/LbKd76fGnz/bLW5ISEmmPww9YvTcQq8/JV2OstnstT8Er5Y7M8G+P0c+r3jqkcU/5h99k6ZBzj88bCIzFzjVP4enV8oyxN0//yH99nXg5D8qOpLLf0jtP5kqGJXUifQ/c9cS8kHP/D+/DpwzojQEQIEmwoanVwxA4lgXt9HgE0BSSZ2AJuIbQAMJih9jjiNA5q4l5INuK0AwTKYKRj0zQNv5fmq8/DpAaCJseHrtQkB/+zpwzoxKQM3MzMzMeFJAZmZmZmZqWEAAAAAAAFxeQM3MzMzMJmJAmpmZmZkfZUBmZmZmZhhoQDMzMzMzEWtAAAAAAAAKbkBmZmZmZoFwQM3MzMzM/XFAMzMzMzN6c0CamZmZmfZ0QAAAAAAAc3ZAZmZmZmbvd0DNzMzMzGt5QDMzMzMz6HpAmpmZmZlkfEAAAAAAAOF9QGZmZmZmXX9AZmZmZuZsgECamZmZGSuBQM3MzMxM6YFAAAAAAICngkAzMzMzs2WDQGZmZmbmI4RAmpmZmRnihEDNzMzMTKCFQAAAAACAXoZAMzMzM7Mch0BmZmZm5tqHQJqZmZkZmYhAzczMzExXiUAAAAAAgBWKQDMzMzOz04pAZmZmZuaRi0CamZmZGVCMQM3MzMxMDo1AAAAAAIDMjUAzMzMzs4qOQGZmZmbmSI9A\",\"dtype\":\"float64\",\"shape\":[75]}}},\"id\":\"481aea2c-0bfd-42e1-8b24-c24f96581a5e\",\"type\":\"ColumnDataSource\"},{\"attributes\":{\"source\":{\"id\":\"dc1f2d02-a514-4299-b67d-991dfd814904\",\"type\":\"ColumnDataSource\"}},\"id\":\"89dd0eea-0327-404e-85c6-0500023f78a0\",\"type\":\"CDSView\"},{\"attributes\":{},\"id\":\"dcf69b75-730d-48a0-a295-2c6c17668ab7\",\"type\":\"ResetTool\"},{\"attributes\":{\"source\":{\"id\":\"9f611a29-7c1b-40a8-990b-62cd33f7f5d8\",\"type\":\"ColumnDataSource\"}},\"id\":\"c420c83a-3326-4fc3-87ba-e8a62a840a0a\",\"type\":\"CDSView\"},{\"attributes\":{\"overlay\":{\"id\":\"d1305b03-cc24-4f02-a8d0-0edd8f273e51\",\"type\":\"BoxAnnotation\"}},\"id\":\"a9147063-b0d8-447c-a15a-76d41bbf1e50\",\"type\":\"BoxZoomTool\"},{\"attributes\":{\"line_color\":\"#4daf4a\",\"line_width\":1.5,\"x\":{\"field\":\"x\"},\"y\":{\"field\":\"y\"}},\"id\":\"f5e1e7c1-7818-4c29-b1c3-6a7fd62c6bc0\",\"type\":\"Line\"},{\"attributes\":{},\"id\":\"58c750a9-d6fc-456c-b87a-5cd1ed2064ff\",\"type\":\"SaveTool\"},{\"attributes\":{\"active_drag\":\"auto\",\"active_inspect\":\"auto\",\"active_scroll\":\"auto\",\"active_tap\":\"auto\",\"tools\":[{\"id\":\"4debc184-e25d-4531-a759-e95512b92177\",\"type\":\"PanTool\"},{\"id\":\"0eab97e1-3309-4c70-8bfa-30a7c47a49d4\",\"type\":\"WheelZoomTool\"},{\"id\":\"a9147063-b0d8-447c-a15a-76d41bbf1e50\",\"type\":\"BoxZoomTool\"},{\"id\":\"dd3bbded-6a40-4207-b10d-53d8a7019bb4\",\"type\":\"SaveTool\"},{\"id\":\"dcf69b75-730d-48a0-a295-2c6c17668ab7\",\"type\":\"ResetTool\"},{\"id\":\"2b7d75ec-e203-4de8-a9fd-b71541a0a968\",\"type\":\"HelpTool\"}]},\"id\":\"1d37dd2c-9bbf-4a59-8bd7-8e2782d153ec\",\"type\":\"Toolbar\"},{\"attributes\":{\"fill_alpha\":{\"value\":0.1},\"fill_color\":{\"value\":\"#1f77b4\"},\"line_alpha\":{\"value\":0.1},\"line_color\":{\"value\":\"#1f77b4\"},\"x\":{\"field\":\"x\"},\"y\":{\"field\":\"y\"}},\"id\":\"0d99d8bd-8626-44d6-bcbb-8f4869d2c62a\",\"type\":\"Square\"},{\"attributes\":{\"data_source\":{\"id\":\"fa6d20d1-22c4-449e-a7a0-fb0e070f4861\",\"type\":\"ColumnDataSource\"},\"glyph\":{\"id\":\"f5e1e7c1-7818-4c29-b1c3-6a7fd62c6bc0\",\"type\":\"Line\"},\"hover_glyph\":null,\"muted_glyph\":null,\"nonselection_glyph\":{\"id\":\"6d439d16-dc6a-404b-8598-dc009dad0e44\",\"type\":\"Line\"},\"selection_glyph\":null,\"view\":{\"id\":\"9d9121bc-a1c3-40e6-92dd-24bc8161cc88\",\"type\":\"CDSView\"}},\"id\":\"312cc124-160e-4b82-9d66-3247b5d1e141\",\"type\":\"GlyphRenderer\"},{\"attributes\":{},\"id\":\"f3a2aec4-16ba-4638-94df-a29a8b7b22b1\",\"type\":\"BasicTickFormatter\"},{\"attributes\":{\"label\":{\"value\":\"CLIRAD `coolr_bands`\"},\"renderers\":[{\"id\":\"c618e880-c96f-4646-9b44-a2a016d612e9\",\"type\":\"GlyphRenderer\"}]},\"id\":\"db8aea0b-56ee-4824-a6b7-5d82849debba\",\"type\":\"LegendItem\"},{\"attributes\":{\"line_alpha\":0.1,\"line_color\":\"#1f77b4\",\"line_width\":1.5,\"x\":{\"field\":\"x\"},\"y\":{\"field\":\"y\"}},\"id\":\"6d439d16-dc6a-404b-8598-dc009dad0e44\",\"type\":\"Line\"},{\"attributes\":{\"source\":{\"id\":\"fa6d20d1-22c4-449e-a7a0-fb0e070f4861\",\"type\":\"ColumnDataSource\"}},\"id\":\"9d9121bc-a1c3-40e6-92dd-24bc8161cc88\",\"type\":\"CDSView\"},{\"attributes\":{},\"id\":\"46d5a524-4fe7-448b-a5e5-c4e8efacfb0e\",\"type\":\"LogScale\"},{\"attributes\":{\"fill_alpha\":{\"value\":0.7},\"fill_color\":{\"value\":\"#984ea3\"},\"line_alpha\":{\"value\":0.7},\"line_color\":{\"value\":\"#984ea3\"},\"x\":{\"field\":\"x\"},\"y\":{\"field\":\"y\"}},\"id\":\"74cb874d-c817-4998-bd02-6bd4bd6d34c0\",\"type\":\"Square\"},{\"attributes\":{\"data_source\":{\"id\":\"19922012-79ec-4a43-a6af-08dc05dde6de\",\"type\":\"ColumnDataSource\"},\"glyph\":{\"id\":\"26b28def-e22a-40a9-b52c-1cac07983206\",\"type\":\"Line\"},\"hover_glyph\":null,\"muted_glyph\":null,\"nonselection_glyph\":{\"id\":\"047dc2e4-758f-4eaa-ace6-70ab99fb52b0\",\"type\":\"Line\"},\"selection_glyph\":null,\"view\":{\"id\":\"3326ae87-06e1-477f-8b45-26f6a4ec51e9\",\"type\":\"CDSView\"}},\"id\":\"09573cf5-639b-4177-8924-64312efc4364\",\"type\":\"GlyphRenderer\"},{\"attributes\":{\"data_source\":{\"id\":\"2f66dc95-0406-496e-a2b0-21ef8310cf8b\",\"type\":\"ColumnDataSource\"},\"glyph\":{\"id\":\"74cb874d-c817-4998-bd02-6bd4bd6d34c0\",\"type\":\"Square\"},\"hover_glyph\":null,\"muted_glyph\":null,\"nonselection_glyph\":{\"id\":\"0d99d8bd-8626-44d6-bcbb-8f4869d2c62a\",\"type\":\"Square\"},\"selection_glyph\":null,\"view\":{\"id\":\"4923e0a0-a89b-4bd2-9dea-be3a3fbdc9f5\",\"type\":\"CDSView\"}},\"id\":\"0cfbaac7-4ee3-47a5-862f-b83888549958\",\"type\":\"GlyphRenderer\"},{\"attributes\":{\"source\":{\"id\":\"19922012-79ec-4a43-a6af-08dc05dde6de\",\"type\":\"ColumnDataSource\"}},\"id\":\"3326ae87-06e1-477f-8b45-26f6a4ec51e9\",\"type\":\"CDSView\"},{\"attributes\":{\"line_alpha\":0.1,\"line_color\":\"#1f77b4\",\"line_width\":3,\"x\":{\"field\":\"x\"},\"y\":{\"field\":\"y\"}},\"id\":\"d3271d9c-8b28-4926-b151-ce0966d377ac\",\"type\":\"Line\"},{\"attributes\":{\"below\":[{\"id\":\"55635cdd-5911-47eb-ad15-49bc02671288\",\"type\":\"LinearAxis\"}],\"left\":[{\"id\":\"1c7c2612-b30c-499e-989e-933bed438920\",\"type\":\"LinearAxis\"}],\"plot_height\":500,\"plot_width\":400,\"renderers\":[{\"id\":\"55635cdd-5911-47eb-ad15-49bc02671288\",\"type\":\"LinearAxis\"},{\"id\":\"490b72ef-984c-478f-9b01-0faa3e6da080\",\"type\":\"Grid\"},{\"id\":\"1c7c2612-b30c-499e-989e-933bed438920\",\"type\":\"LinearAxis\"},{\"id\":\"6a0d0fcf-919a-42dd-b8e0-40d83b19c986\",\"type\":\"Grid\"},{\"id\":\"d1305b03-cc24-4f02-a8d0-0edd8f273e51\",\"type\":\"BoxAnnotation\"},{\"id\":\"e75b5a92-7474-47b9-9c49-40c89550ddf5\",\"type\":\"GlyphRenderer\"},{\"id\":\"c3dc1075-75ef-4ca9-a340-ac92f0dd1f3a\",\"type\":\"GlyphRenderer\"},{\"id\":\"d8b2cc7f-a7a3-47e6-b43e-95fd20d6c51e\",\"type\":\"GlyphRenderer\"},{\"id\":\"6b1e9ff9-885e-4070-b0b7-e90c0130b18f\",\"type\":\"GlyphRenderer\"},{\"id\":\"09573cf5-639b-4177-8924-64312efc4364\",\"type\":\"GlyphRenderer\"}],\"title\":{\"id\":\"0373894b-2c24-4168-bb45-fdbb29f1c945\",\"type\":\"Title\"},\"toolbar\":{\"id\":\"1d37dd2c-9bbf-4a59-8bd7-8e2782d153ec\",\"type\":\"Toolbar\"},\"toolbar_location\":null,\"x_range\":{\"id\":\"4dca1832-7781-48cd-bf86-4220f41086a9\",\"type\":\"Range1d\"},\"x_scale\":{\"id\":\"1e3502b2-2fe2-4a75-aa75-40e5d31f0dae\",\"type\":\"LinearScale\"},\"y_range\":{\"id\":\"8b2e4ff8-0755-4413-87d2-bf0016890401\",\"type\":\"Range1d\"},\"y_scale\":{\"id\":\"86a76181-3dd1-4678-8263-ad70b8c2b94f\",\"type\":\"LinearScale\"}},\"id\":\"fbe06521-a7b6-4912-a0a5-458015ad6a34\",\"subtype\":\"Figure\",\"type\":\"Plot\"},{\"attributes\":{\"callback\":null,\"end\":0.005256193948999999,\"start\":-0.005091466249},\"id\":\"f6194882-98f5-4d7d-8384-d18d4331086a\",\"type\":\"Range1d\"},{\"attributes\":{\"source\":{\"id\":\"df3e2f89-5f04-4a73-9ad0-141db4932b84\",\"type\":\"ColumnDataSource\"}},\"id\":\"bfa7bc7a-579f-4835-a670-76a848bc8e2e\",\"type\":\"CDSView\"},{\"attributes\":{},\"id\":\"c12fff41-87b6-4d27-b465-f3dc382ab111\",\"type\":\"HelpTool\"},{\"attributes\":{\"source\":{\"id\":\"2f66dc95-0406-496e-a2b0-21ef8310cf8b\",\"type\":\"ColumnDataSource\"}},\"id\":\"4923e0a0-a89b-4bd2-9dea-be3a3fbdc9f5\",\"type\":\"CDSView\"},{\"attributes\":{\"callback\":null,\"end\":0.00719321346,\"start\":-0.00511064466},\"id\":\"4dca1832-7781-48cd-bf86-4220f41086a9\",\"type\":\"Range1d\"},{\"attributes\":{\"line_alpha\":0.6,\"line_color\":\"#984ea3\",\"line_width\":3,\"x\":{\"field\":\"x\"},\"y\":{\"field\":\"y\"}},\"id\":\"479ac040-c30f-4917-bc71-e9207621a544\",\"type\":\"Line\"},{\"attributes\":{\"data_source\":{\"id\":\"d4985790-38c2-4583-8226-8862db7baeec\",\"type\":\"ColumnDataSource\"},\"glyph\":{\"id\":\"479ac040-c30f-4917-bc71-e9207621a544\",\"type\":\"Line\"},\"hover_glyph\":null,\"muted_glyph\":null,\"nonselection_glyph\":{\"id\":\"d3271d9c-8b28-4926-b151-ce0966d377ac\",\"type\":\"Line\"},\"selection_glyph\":null,\"view\":{\"id\":\"ecd47f8a-927b-48ca-9449-90fa3a77b27f\",\"type\":\"CDSView\"}},\"id\":\"0aa71ce3-2c25-48b9-b7ca-5a5e4d1d0bfc\",\"type\":\"GlyphRenderer\"},{\"attributes\":{\"callback\":null,\"column_names\":[\"x\",\"y\"],\"data\":{\"x\":{\"__ndarray__\":\"vPPgDV7A6D66X8r+dq4BPzcqpHvOSM0+y3yZvP4cpT6RUhMVsR+YPt9+aQLa/Jk+dtq1myqmgT7SnLGRf22QPoD3wQ0/mmc+0S+oqSe8gj6G3CTK/05dPjQwy6F+1HA+bVY37a9thD7EFi213TzJPmO0Bshg/tk+ov78BIV60j6uqbk1R3++PoIRRM/CQbc+TWeCVo0ksz4ZzMNCEgavPv5lFvygAag+P7TlxYyYl74Kr6dNV4fBvkAa0vFYw7e+0+4oN6Enhb6V8uVvdB1wPhBZuWcywHE+CxiUr+IDbT7MkgupxQlhPv/cgfC0eE4+iS1arYBHRD4WEes8YIZHPkVjP3IJID4+o9eK3NbRHT7EV54SwTwSPlXKjW0SQyI+Y0ZdTGHkGj7Zl2IZCUvbPc/txGH4KBE+hjjtYWXGLT5Ny8xkLwgtPgN1P/JdbQ8+VghwCD3m7T0545K1acLkPXqNAHlf2989XhALBd3F1z01XUIqzPLRPdPoSb1eXsc9szFpMJmUfL0VRVcgv3jLvVxPeAEEY9+9dt43gtT64b14IIdaf8/ivUYCmRrtwNq9+YnkUXoK072mSzubohjPvRjWnfRgAsm96HvAdbe6xb3jBTc09CnAvRfj2CKvKcW9gNrW1J3yxr3fgzVKLAHHvbv+pNkJDMW9Cy99mhdm17157UeeyDvfvbB+pf2o9fG9RZ8XzA8v/b035WCsepcFvpkKTTDmIQa+LG3TlIncAL65co3J2cb0vWPAMPEXOui9TnQbvwiB3r2TRmoOJSHWvV3MrRR2fia+\",\"dtype\":\"float64\",\"shape\":[75]},\"y\":{\"__ndarray__\":\"S/O/Q+51ND/Sv8nbtpRIP2vylNV0PVE/aTum7souWD/At0SJ8fVgPw3Iuahxymc/MSNhhJWvcD/bTfBN02d3P2zb5nxnaoA/CD5h5MAGhz8NmeH1TyaQP+zrCsc9p5Y/LbKd76fGnz/bLW5ISEmmPww9YvTcQq8/JV2OstnstT8Er5Y7M8G+P0c+r3jqkcU/5h99k6ZBzj88bCIzFzjVP4enV8oyxN0//yH99nXg5D8qOpLLf0jtP5kqGJXUifQ/c9cS8kHP/D+/DpwzojQEQIEmwoanVwxA4lgXt9HgE0BSSZ2AJuIbQAMJih9jjiNA5q4l5INuK0AwTKYKRj0zQNv5fmq8/DpAaCJseHrtQkB/+zpwzoxKQM3MzMzMeFJAZmZmZmZqWEAAAAAAAFxeQM3MzMzMJmJAmpmZmZkfZUBmZmZmZhhoQDMzMzMzEWtAAAAAAAAKbkBmZmZmZoFwQM3MzMzM/XFAMzMzMzN6c0CamZmZmfZ0QAAAAAAAc3ZAZmZmZmbvd0DNzMzMzGt5QDMzMzMz6HpAmpmZmZlkfEAAAAAAAOF9QGZmZmZmXX9AZmZmZuZsgECamZmZGSuBQM3MzMxM6YFAAAAAAICngkAzMzMzs2WDQGZmZmbmI4RAmpmZmRnihEDNzMzMTKCFQAAAAACAXoZAMzMzM7Mch0BmZmZm5tqHQJqZmZkZmYhAzczMzExXiUAAAAAAgBWKQDMzMzOz04pAZmZmZuaRi0CamZmZGVCMQM3MzMxMDo1AAAAAAIDMjUAzMzMzs4qOQGZmZmbmSI9A\",\"dtype\":\"float64\",\"shape\":[75]}}},\"id\":\"dc1f2d02-a514-4299-b67d-991dfd814904\",\"type\":\"ColumnDataSource\"},{\"attributes\":{\"source\":{\"id\":\"d4985790-38c2-4583-8226-8862db7baeec\",\"type\":\"ColumnDataSource\"}},\"id\":\"ecd47f8a-927b-48ca-9449-90fa3a77b27f\",\"type\":\"CDSView\"},{\"attributes\":{\"tools\":[{\"id\":\"4debc184-e25d-4531-a759-e95512b92177\",\"type\":\"PanTool\"},{\"id\":\"0eab97e1-3309-4c70-8bfa-30a7c47a49d4\",\"type\":\"WheelZoomTool\"},{\"id\":\"a9147063-b0d8-447c-a15a-76d41bbf1e50\",\"type\":\"BoxZoomTool\"},{\"id\":\"dd3bbded-6a40-4207-b10d-53d8a7019bb4\",\"type\":\"SaveTool\"},{\"id\":\"dcf69b75-730d-48a0-a295-2c6c17668ab7\",\"type\":\"ResetTool\"},{\"id\":\"2b7d75ec-e203-4de8-a9fd-b71541a0a968\",\"type\":\"HelpTool\"},{\"id\":\"5eaae1bc-35d4-429b-945b-b560489c2b6e\",\"type\":\"PanTool\"},{\"id\":\"1bfe8201-cb93-4345-ab90-de7b82c3e0bf\",\"type\":\"WheelZoomTool\"},{\"id\":\"2b3f9351-1dd4-4b95-b1a0-b381b6a6d4ae\",\"type\":\"BoxZoomTool\"},{\"id\":\"58c750a9-d6fc-456c-b87a-5cd1ed2064ff\",\"type\":\"SaveTool\"},{\"id\":\"934ad99e-4748-480a-92ac-338b23744900\",\"type\":\"ResetTool\"},{\"id\":\"c12fff41-87b6-4d27-b465-f3dc382ab111\",\"type\":\"HelpTool\"}]},\"id\":\"262f58ac-5da3-4af8-80b2-0d14ad77f1a2\",\"type\":\"ProxyToolbar\"},{\"attributes\":{\"items\":[{\"id\":\"db8aea0b-56ee-4824-a6b7-5d82849debba\",\"type\":\"LegendItem\"},{\"id\":\"53e8f00a-5c3e-4b0b-8a86-fe28a0947419\",\"type\":\"LegendItem\"},{\"id\":\"0abaed0b-e726-4fc8-9bbe-b16814481eb0\",\"type\":\"LegendItem\"}],\"label_text_font_size\":{\"value\":\"8pt\"},\"location\":[10,-30],\"plot\":{\"id\":\"6927ebd4-1ae8-4bd5-8e41-287cc052b4b3\",\"subtype\":\"Figure\",\"type\":\"Plot\"}},\"id\":\"516ed2c8-8db5-4145-a57b-871904013f42\",\"type\":\"Legend\"},{\"attributes\":{\"children\":[{\"id\":\"fbe06521-a7b6-4912-a0a5-458015ad6a34\",\"subtype\":\"Figure\",\"type\":\"Plot\"},{\"id\":\"6927ebd4-1ae8-4bd5-8e41-287cc052b4b3\",\"subtype\":\"Figure\",\"type\":\"Plot\"}]},\"id\":\"74f28a79-cb69-4405-b320-7b72cca265ec\",\"type\":\"Row\"},{\"attributes\":{\"overlay\":{\"id\":\"50c992bf-ca76-41d3-8d5f-dccfb30a6dc7\",\"type\":\"BoxAnnotation\"}},\"id\":\"2b3f9351-1dd4-4b95-b1a0-b381b6a6d4ae\",\"type\":\"BoxZoomTool\"},{\"attributes\":{\"toolbar\":{\"id\":\"262f58ac-5da3-4af8-80b2-0d14ad77f1a2\",\"type\":\"ProxyToolbar\"},\"toolbar_location\":\"above\"},\"id\":\"a837b99c-bdee-4fe6-8d07-f1b0831cfbfb\",\"type\":\"ToolbarBox\"},{\"attributes\":{},\"id\":\"86a76181-3dd1-4678-8263-ad70b8c2b94f\",\"type\":\"LinearScale\"},{\"attributes\":{\"children\":[{\"id\":\"a837b99c-bdee-4fe6-8d07-f1b0831cfbfb\",\"type\":\"ToolbarBox\"},{\"id\":\"f67da6d2-e102-4651-995e-396329ff5716\",\"type\":\"Column\"}]},\"id\":\"b209a806-e08c-47b4-8db2-e291f7b2b227\",\"type\":\"Column\"},{\"attributes\":{},\"id\":\"6624919c-f799-4dbc-ab6e-0aad7fd43b6d\",\"type\":\"BasicTicker\"},{\"attributes\":{\"line_alpha\":0.6,\"line_color\":\"#e41a1c\",\"line_dash\":[6],\"line_width\":5,\"x\":{\"field\":\"x\"},\"y\":{\"field\":\"y\"}},\"id\":\"808f0d89-9cca-4840-8551-1497d51e44e5\",\"type\":\"Line\"},{\"attributes\":{\"axis_label\":\"cooling rate [K/day]\",\"formatter\":{\"id\":\"f3a2aec4-16ba-4638-94df-a29a8b7b22b1\",\"type\":\"BasicTickFormatter\"},\"plot\":{\"id\":\"fbe06521-a7b6-4912-a0a5-458015ad6a34\",\"subtype\":\"Figure\",\"type\":\"Plot\"},\"ticker\":{\"id\":\"6624919c-f799-4dbc-ab6e-0aad7fd43b6d\",\"type\":\"BasicTicker\"}},\"id\":\"55635cdd-5911-47eb-ad15-49bc02671288\",\"type\":\"LinearAxis\"},{\"attributes\":{\"data_source\":{\"id\":\"739b720d-49bb-47c2-800c-92660ffe3972\",\"type\":\"ColumnDataSource\"},\"glyph\":{\"id\":\"caed20b4-e882-41cf-abab-76052c97ece0\",\"type\":\"Circle\"},\"hover_glyph\":null,\"muted_glyph\":null,\"nonselection_glyph\":{\"id\":\"6e1af4d8-aca9-483b-ba47-6aabb2badff2\",\"type\":\"Circle\"},\"selection_glyph\":null,\"view\":{\"id\":\"fff7e09a-0f0c-4d51-aa13-dc8c40afcfe5\",\"type\":\"CDSView\"}},\"id\":\"c3dc1075-75ef-4ca9-a340-ac92f0dd1f3a\",\"type\":\"GlyphRenderer\"}],\"root_ids\":[\"b209a806-e08c-47b4-8db2-e291f7b2b227\"]},\"title\":\"Bokeh Application\",\"version\":\"0.12.14\"}};\n",
       "  var render_items = [{\"docid\":\"556329f7-c031-4b93-8cc9-9ad07c3b54bf\",\"elementid\":\"61962ed7-b1a5-45a3-80a4-f6cf9f484caf\",\"modelid\":\"b209a806-e08c-47b4-8db2-e291f7b2b227\"}];\n",
       "  root.Bokeh.embed.embed_items_notebook(docs_json, render_items);\n",
       "\n",
       "  }\n",
       "  if (root.Bokeh !== undefined) {\n",
       "    embed_document(root);\n",
       "  } else {\n",
       "    var attempts = 0;\n",
       "    var timer = setInterval(function(root) {\n",
       "      if (root.Bokeh !== undefined) {\n",
       "        embed_document(root);\n",
       "        clearInterval(timer);\n",
       "      }\n",
       "      attempts++;\n",
       "      if (attempts > 100) {\n",
       "        console.log(\"Bokeh: ERROR: Unable to run BokehJS code because BokehJS library is missing\")\n",
       "        clearInterval(timer);\n",
       "      }\n",
       "    }, 10, root)\n",
       "  }\n",
       "})(window);"
      ],
      "application/vnd.bokehjs_exec.v0+json": ""
     },
     "metadata": {
      "application/vnd.bokehjs_exec.v0+json": {
       "id": "b209a806-e08c-47b4-8db2-e291f7b2b227"
      }
     },
     "output_type": "display_data"
    },
    {
     "name": "stdout",
     "output_type": "stream",
     "text": [
      "FIGURE. Cooling rate profiles.\n"
     ]
    },
    {
     "data": {
      "text/html": [
       "<a id=\"Flux_Comparison\"></a>"
      ],
      "text/plain": [
       "<IPython.core.display.HTML object>"
      ]
     },
     "metadata": {},
     "output_type": "display_data"
    },
    {
     "data": {
      "text/markdown": [
       "# Flux Comparison"
      ],
      "text/plain": [
       "<IPython.core.display.Markdown object>"
      ]
     },
     "metadata": {},
     "output_type": "display_data"
    },
    {
     "data": {
      "text/html": [
       "<div>\n",
       "<style>\n",
       "    .dataframe thead tr:only-child th {\n",
       "        text-align: right;\n",
       "    }\n",
       "\n",
       "    .dataframe thead th {\n",
       "        text-align: left;\n",
       "    }\n",
       "\n",
       "    .dataframe tbody tr th {\n",
       "        vertical-align: top;\n",
       "    }\n",
       "</style>\n",
       "<table border=\"1\" class=\"dataframe\">\n",
       "  <thead>\n",
       "    <tr style=\"text-align: right;\">\n",
       "      <th></th>\n",
       "      <th></th>\n",
       "      <th>flug</th>\n",
       "      <th>fldg</th>\n",
       "      <th>fnetg</th>\n",
       "    </tr>\n",
       "    <tr>\n",
       "      <th>pressure</th>\n",
       "      <th>level</th>\n",
       "      <th></th>\n",
       "      <th></th>\n",
       "      <th></th>\n",
       "    </tr>\n",
       "  </thead>\n",
       "  <tbody>\n",
       "    <tr>\n",
       "      <th>0.0000</th>\n",
       "      <th>1</th>\n",
       "      <td>-22.869032</td>\n",
       "      <td>0.000000</td>\n",
       "      <td>-22.869032</td>\n",
       "    </tr>\n",
       "    <tr>\n",
       "      <th>1.0685</th>\n",
       "      <th>24</th>\n",
       "      <td>-22.869437</td>\n",
       "      <td>0.000401</td>\n",
       "      <td>-22.869036</td>\n",
       "    </tr>\n",
       "    <tr>\n",
       "      <th>1013.0000</th>\n",
       "      <th>76</th>\n",
       "      <td>-23.269660</td>\n",
       "      <td>0.446500</td>\n",
       "      <td>-22.823160</td>\n",
       "    </tr>\n",
       "  </tbody>\n",
       "</table>\n",
       "</div>"
      ],
      "text/plain": [
       "                      flug      fldg      fnetg\n",
       "pressure  level                                \n",
       "0.0000    1     -22.869032  0.000000 -22.869032\n",
       "1.0685    24    -22.869437  0.000401 -22.869036\n",
       "1013.0000 76    -23.269660  0.446500 -22.823160"
      ]
     },
     "metadata": {},
     "output_type": "display_data"
    },
    {
     "name": "stdout",
     "output_type": "stream",
     "text": [
      "Table. Fluxes. WGT igg=10 wgt_flux=1\n"
     ]
    },
    {
     "data": {
      "text/html": [
       "<div>\n",
       "<style>\n",
       "    .dataframe thead tr:only-child th {\n",
       "        text-align: right;\n",
       "    }\n",
       "\n",
       "    .dataframe thead th {\n",
       "        text-align: left;\n",
       "    }\n",
       "\n",
       "    .dataframe tbody tr th {\n",
       "        vertical-align: top;\n",
       "    }\n",
       "</style>\n",
       "<table border=\"1\" class=\"dataframe\">\n",
       "  <thead>\n",
       "    <tr style=\"text-align: right;\">\n",
       "      <th></th>\n",
       "      <th></th>\n",
       "      <th>flug</th>\n",
       "      <th>fldg</th>\n",
       "      <th>fnetg</th>\n",
       "    </tr>\n",
       "    <tr>\n",
       "      <th>pressure</th>\n",
       "      <th>level</th>\n",
       "      <th></th>\n",
       "      <th></th>\n",
       "      <th></th>\n",
       "    </tr>\n",
       "  </thead>\n",
       "  <tbody>\n",
       "    <tr>\n",
       "      <th>0.0000</th>\n",
       "      <th>1</th>\n",
       "      <td>-22.904459</td>\n",
       "      <td>0.000000</td>\n",
       "      <td>-22.904459</td>\n",
       "    </tr>\n",
       "    <tr>\n",
       "      <th>1.0685</th>\n",
       "      <th>24</th>\n",
       "      <td>-22.904560</td>\n",
       "      <td>0.000418</td>\n",
       "      <td>-22.904143</td>\n",
       "    </tr>\n",
       "    <tr>\n",
       "      <th>1013.0000</th>\n",
       "      <th>76</th>\n",
       "      <td>-23.269660</td>\n",
       "      <td>0.430908</td>\n",
       "      <td>-22.838751</td>\n",
       "    </tr>\n",
       "  </tbody>\n",
       "</table>\n",
       "</div>"
      ],
      "text/plain": [
       "                      flug      fldg      fnetg\n",
       "pressure  level                                \n",
       "0.0000    1     -22.904459  0.000000 -22.904459\n",
       "1.0685    24    -22.904560  0.000418 -22.904143\n",
       "1013.0000 76    -23.269660  0.430908 -22.838751"
      ]
     },
     "metadata": {},
     "output_type": "display_data"
    },
    {
     "name": "stdout",
     "output_type": "stream",
     "text": [
      "Table. Fluxes. CRD\n"
     ]
    },
    {
     "data": {
      "text/html": [
       "<div>\n",
       "<style>\n",
       "    .dataframe thead tr:only-child th {\n",
       "        text-align: right;\n",
       "    }\n",
       "\n",
       "    .dataframe thead th {\n",
       "        text-align: left;\n",
       "    }\n",
       "\n",
       "    .dataframe tbody tr th {\n",
       "        vertical-align: top;\n",
       "    }\n",
       "</style>\n",
       "<table border=\"1\" class=\"dataframe\">\n",
       "  <thead>\n",
       "    <tr style=\"text-align: right;\">\n",
       "      <th></th>\n",
       "      <th></th>\n",
       "      <th>flug</th>\n",
       "      <th>fldg</th>\n",
       "      <th>fnetg</th>\n",
       "    </tr>\n",
       "    <tr>\n",
       "      <th>pressure</th>\n",
       "      <th>level</th>\n",
       "      <th></th>\n",
       "      <th></th>\n",
       "      <th></th>\n",
       "    </tr>\n",
       "  </thead>\n",
       "  <tbody>\n",
       "    <tr>\n",
       "      <th>1.000000e-08</th>\n",
       "      <th>1</th>\n",
       "      <td>-23.269661</td>\n",
       "      <td>-9.686974e-08</td>\n",
       "      <td>-23.269661</td>\n",
       "    </tr>\n",
       "    <tr>\n",
       "      <th>1.068500e+00</th>\n",
       "      <th>24</th>\n",
       "      <td>-23.269660</td>\n",
       "      <td>-6.139753e-07</td>\n",
       "      <td>-23.269661</td>\n",
       "    </tr>\n",
       "    <tr>\n",
       "      <th>1.013000e+03</th>\n",
       "      <th>76</th>\n",
       "      <td>-23.269660</td>\n",
       "      <td>-9.234217e-07</td>\n",
       "      <td>-23.269661</td>\n",
       "    </tr>\n",
       "  </tbody>\n",
       "</table>\n",
       "</div>"
      ],
      "text/plain": [
       "                         flug          fldg      fnetg\n",
       "pressure     level                                    \n",
       "1.000000e-08 1     -23.269661 -9.686974e-08 -23.269661\n",
       "1.068500e+00 24    -23.269660 -6.139753e-07 -23.269661\n",
       "1.013000e+03 76    -23.269660 -9.234217e-07 -23.269661"
      ]
     },
     "metadata": {},
     "output_type": "display_data"
    },
    {
     "name": "stdout",
     "output_type": "stream",
     "text": [
      "Table. Fluxes. CLIRAD\n"
     ]
    },
    {
     "data": {
      "text/html": [
       "<div>\n",
       "<style>\n",
       "    .dataframe thead tr:only-child th {\n",
       "        text-align: right;\n",
       "    }\n",
       "\n",
       "    .dataframe thead th {\n",
       "        text-align: left;\n",
       "    }\n",
       "\n",
       "    .dataframe tbody tr th {\n",
       "        vertical-align: top;\n",
       "    }\n",
       "</style>\n",
       "<table border=\"1\" class=\"dataframe\">\n",
       "  <thead>\n",
       "    <tr style=\"text-align: right;\">\n",
       "      <th></th>\n",
       "      <th></th>\n",
       "      <th>flug</th>\n",
       "      <th>fldg</th>\n",
       "      <th>fnetg</th>\n",
       "    </tr>\n",
       "    <tr>\n",
       "      <th>pressure</th>\n",
       "      <th>level</th>\n",
       "      <th></th>\n",
       "      <th></th>\n",
       "      <th></th>\n",
       "    </tr>\n",
       "  </thead>\n",
       "  <tbody>\n",
       "    <tr>\n",
       "      <th>0.0000</th>\n",
       "      <th>1</th>\n",
       "      <td>-0.035427</td>\n",
       "      <td>0.000000</td>\n",
       "      <td>-0.035427</td>\n",
       "    </tr>\n",
       "    <tr>\n",
       "      <th>1.0685</th>\n",
       "      <th>24</th>\n",
       "      <td>-0.035123</td>\n",
       "      <td>0.000016</td>\n",
       "      <td>-0.035107</td>\n",
       "    </tr>\n",
       "    <tr>\n",
       "      <th>1013.0000</th>\n",
       "      <th>76</th>\n",
       "      <td>0.000000</td>\n",
       "      <td>-0.015591</td>\n",
       "      <td>-0.015591</td>\n",
       "    </tr>\n",
       "  </tbody>\n",
       "</table>\n",
       "</div>"
      ],
      "text/plain": [
       "                     flug      fldg     fnetg\n",
       "pressure  level                              \n",
       "0.0000    1     -0.035427  0.000000 -0.035427\n",
       "1.0685    24    -0.035123  0.000016 -0.035107\n",
       "1013.0000 76     0.000000 -0.015591 -0.015591"
      ]
     },
     "metadata": {},
     "output_type": "display_data"
    },
    {
     "name": "stdout",
     "output_type": "stream",
     "text": [
      "Table. Fluxes. (CRD) - (WGT igg=10 wgt_flux=1)\n"
     ]
    },
    {
     "data": {
      "text/html": [
       "<div>\n",
       "<style>\n",
       "    .dataframe thead tr:only-child th {\n",
       "        text-align: right;\n",
       "    }\n",
       "\n",
       "    .dataframe thead th {\n",
       "        text-align: left;\n",
       "    }\n",
       "\n",
       "    .dataframe tbody tr th {\n",
       "        vertical-align: top;\n",
       "    }\n",
       "</style>\n",
       "<table border=\"1\" class=\"dataframe\">\n",
       "  <thead>\n",
       "    <tr style=\"text-align: right;\">\n",
       "      <th></th>\n",
       "      <th></th>\n",
       "      <th>flug</th>\n",
       "      <th>fldg</th>\n",
       "      <th>fnetg</th>\n",
       "    </tr>\n",
       "    <tr>\n",
       "      <th>pressure</th>\n",
       "      <th>level</th>\n",
       "      <th></th>\n",
       "      <th></th>\n",
       "      <th></th>\n",
       "    </tr>\n",
       "  </thead>\n",
       "  <tbody>\n",
       "    <tr>\n",
       "      <th>0.0000</th>\n",
       "      <th>1</th>\n",
       "      <td>-0.400629</td>\n",
       "      <td>-9.686974e-08</td>\n",
       "      <td>-0.400629</td>\n",
       "    </tr>\n",
       "    <tr>\n",
       "      <th>1.0685</th>\n",
       "      <th>24</th>\n",
       "      <td>-0.400223</td>\n",
       "      <td>-4.020151e-04</td>\n",
       "      <td>-0.400625</td>\n",
       "    </tr>\n",
       "    <tr>\n",
       "      <th>1013.0000</th>\n",
       "      <th>76</th>\n",
       "      <td>0.000000</td>\n",
       "      <td>-4.465007e-01</td>\n",
       "      <td>-0.446501</td>\n",
       "    </tr>\n",
       "  </tbody>\n",
       "</table>\n",
       "</div>"
      ],
      "text/plain": [
       "                     flug          fldg     fnetg\n",
       "pressure  level                                  \n",
       "0.0000    1     -0.400629 -9.686974e-08 -0.400629\n",
       "1.0685    24    -0.400223 -4.020151e-04 -0.400625\n",
       "1013.0000 76     0.000000 -4.465007e-01 -0.446501"
      ]
     },
     "metadata": {},
     "output_type": "display_data"
    },
    {
     "name": "stdout",
     "output_type": "stream",
     "text": [
      "Table. Fluxes. (CLIRAD) - (WGT igg=10 wgt_flux=1)\n"
     ]
    },
    {
     "data": {
      "text/html": [
       "<a id=\"Best-fit_Parameters\"></a>"
      ],
      "text/plain": [
       "<IPython.core.display.HTML object>"
      ]
     },
     "metadata": {},
     "output_type": "display_data"
    },
    {
     "data": {
      "text/markdown": [
       "# Best-fit Parameters"
      ],
      "text/plain": [
       "<IPython.core.display.Markdown object>"
      ]
     },
     "metadata": {},
     "output_type": "display_data"
    },
    {
     "name": "stdout",
     "output_type": "stream",
     "text": [
      "Best-fit values for each (gas, band)\n",
      "------------------------------------\n",
      "o n2o band6\n",
      "  atmpro = mls\n",
      "  band = 6\n",
      "  commitnumber = bca49ce\n",
      "  conc = 3.2e-07\n",
      "  dv = 0.005\n",
      "  klin = 0\n",
      "  molecule = n2o\n",
      "  ng_adju = [0]\n",
      "  ng_refs = [1]\n",
      "  nv = 200\n",
      "  option_compute_btable = 0\n",
      "  option_compute_ktable = 1\n",
      "  option_wgt_flux = 1\n",
      "  option_wgt_k = 1\n",
      "  ref_pts = [(500, 250)]\n",
      "  tsfc = 294\n",
      "  vmax = 1215\n",
      "  vmin = 1100\n",
      "  w_diffuse = [(1.66,)]\n",
      "  wgt = [(0.95,)]\n"
     ]
    }
   ],
   "source": [
    "script()"
   ]
  },
  {
   "cell_type": "code",
   "execution_count": 13,
   "metadata": {
    "collapsed": true
   },
   "outputs": [
    {
     "data": {
      "text/html": [
       "<script>\n",
       "code_show=true; \n",
       "function code_toggle() {\n",
       " if (code_show){\n",
       " $('div.input').hide();\n",
       " } else {\n",
       " $('div.input').show();\n",
       " }\n",
       " code_show = !code_show\n",
       "} \n",
       "$( document ).ready(code_toggle);\n",
       "</script>\n",
       "<form action=\"javascript:code_toggle()\"><input type=\"submit\" value=\"Click here to toggle on/off the raw code.\"></form>"
      ],
      "text/plain": [
       "<IPython.core.display.HTML object>"
      ]
     },
     "execution_count": 13,
     "metadata": {},
     "output_type": "execute_result"
    }
   ],
   "source": [
    "display.HTML('''<script>\n",
    "code_show=true; \n",
    "function code_toggle() {\n",
    " if (code_show){\n",
    " $('div.input').hide();\n",
    " } else {\n",
    " $('div.input').show();\n",
    " }\n",
    " code_show = !code_show\n",
    "} \n",
    "$( document ).ready(code_toggle);\n",
    "</script>\n",
    "<form action=\"javascript:code_toggle()\"><input type=\"submit\" value=\"Click here to toggle on/off the raw code.\"></form>''')"
   ]
  }
 ],
 "metadata": {
  "kernelspec": {
   "display_name": "Python 3",
   "language": "python",
   "name": "python3"
  },
  "language_info": {
   "codemirror_mode": {
    "name": "ipython",
    "version": 3
   },
   "file_extension": ".py",
   "mimetype": "text/x-python",
   "name": "python",
   "nbconvert_exporter": "python",
   "pygments_lexer": "ipython3",
   "version": "3.6.1"
  }
 },
 "nbformat": 4,
 "nbformat_minor": 2
}
