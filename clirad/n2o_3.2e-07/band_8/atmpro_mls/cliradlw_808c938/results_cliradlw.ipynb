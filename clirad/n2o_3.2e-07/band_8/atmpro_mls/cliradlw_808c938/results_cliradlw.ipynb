{
 "cells": [
  {
   "cell_type": "code",
   "execution_count": 1,
   "metadata": {
    "collapsed": true
   },
   "outputs": [
    {
     "name": "stdout",
     "output_type": "stream",
     "text": [
      "The history saving thread hit an unexpected error (OperationalError('database is locked',)).History will not be written to the database.\n"
     ]
    }
   ],
   "source": [
    "%matplotlib inline\n",
    "import os\n",
    "import re\n",
    "import io\n",
    "import itertools\n",
    "import pprint\n",
    "\n",
    "from bokeh.io import output_notebook, show\n",
    "from bokeh.layouts import gridplot\n",
    "from bokeh.plotting import figure\n",
    "from bokeh.models import Range1d, Legend\n",
    "from bokeh.palettes import all_palettes\n",
    "\n",
    "import matplotlib\n",
    "import matplotlib.pyplot as plt\n",
    "import numpy as np\n",
    "import pandas as pd\n",
    "import xarray as xr\n",
    "\n",
    "import climatools.lblnew.bestfit_params as bestfits\n",
    "from climatools.lblnew import setup_bestfit, setup_overlap\n",
    "import climatools.lblnew.pipeline as pipe_lblnew\n",
    "import climatools.cliradlw.setup as setup_cliradlw\n",
    "import climatools.cliradlw.pipeline as pipe_cliradlw\n",
    "\n",
    "import climatools.html.html as climahtml\n",
    "from climatools.lblnew.dataio import *\n",
    "from climatools.plot.plot import *\n",
    "\n",
    "\n",
    "import IPython.display as display"
   ]
  },
  {
   "cell_type": "code",
   "execution_count": 2,
   "metadata": {
    "collapsed": true
   },
   "outputs": [],
   "source": [
    "%run param.py"
   ]
  },
  {
   "cell_type": "code",
   "execution_count": 3,
   "metadata": {
    "collapsed": true
   },
   "outputs": [],
   "source": [
    "def load_output_file(path_csv):\n",
    "    '''\n",
    "    Load lblnew output .csv file to xarray.Dataset\n",
    "    \n",
    "    Parameters\n",
    "    ----------\n",
    "    path_csv: str\n",
    "              Path to the .csv file to be loaded.\n",
    "    ds: xarray.Dataset\n",
    "        Data in the input file in the form of an xarray.Dataset.\n",
    "    '''\n",
    "    toindex = ['band', 'pressure', 'igg', 'g']    \n",
    "    df = pd.read_csv(path_csv, sep=r'\\s+')\n",
    "    df = df.set_index([i for i in toindex if i in df.columns])\n",
    "    df = df.rename(columns={'sfu': 'flug',\n",
    "                            'sfd': 'fldg',\n",
    "                            'fnet': 'fnetg',\n",
    "                            'coolr': 'coolrg'})\n",
    "    ds = xr.Dataset.from_dataframe(df)\n",
    "\n",
    "    for l in ('level', 'layer'):\n",
    "        if l in ds.data_vars:\n",
    "            if len(ds[l].dims) > 1:\n",
    "                surface = {d: 0 for d in ds.dims if d != 'pressure'}\n",
    "                coord_level = ds[l][surface]\n",
    "                ds.coords[l] = ('pressure', coord_level)\n",
    "            else:\n",
    "                ds.coords[l] = ('pressure', ds[l])\n",
    "    \n",
    "    return ds"
   ]
  },
  {
   "cell_type": "code",
   "execution_count": 4,
   "metadata": {
    "collapsed": true
   },
   "outputs": [],
   "source": [
    "def lblnew_setup(param=None):\n",
    "    if 'ng_refs' in param:\n",
    "        return {'setup': setup_bestfit,\n",
    "                'fname_flux_crd': 'output_flux.dat',\n",
    "                'fname_cool_crd': 'output_coolr.dat',\n",
    "                'fname_flux_wgt': 'output_wfluxg.dat',\n",
    "                'fname_cool_wgt': 'output_wcoolrg.dat'}\n",
    "    else:\n",
    "        return {'setup': setup_overlap,\n",
    "                'fname_flux_crd': 'output_flux.dat',\n",
    "                'fname_cool_crd': 'output_coolr.dat',\n",
    "                'fname_flux_wgt': 'output_wflux.dat',\n",
    "                'fname_cool_wgt': 'output_wcoolr.dat'}\n",
    "\n",
    "    \n",
    "def load_lblnew_data(param):\n",
    "    \n",
    "    fname_dsname = [('fname_flux_crd', 'ds_flux_crd'),\n",
    "                    ('fname_cool_crd', 'ds_cool_crd'),\n",
    "                    ('fname_flux_wgt', 'ds_flux_wgt'),\n",
    "                    ('fname_cool_wgt', 'ds_cool_wgt')]\n",
    "    \n",
    "    d = lblnew_setup(param)\n",
    "    dir_fortran = pipe_lblnew.get_dir_case(param, setup=d['setup'])\n",
    "    \n",
    "    data_dict = {}\n",
    "    for fname, dsname in fname_dsname:\n",
    "        fpath = os.path.join(dir_fortran, d[fname])\n",
    "        data_dict[dsname] = load_output_file(fpath)\n",
    "    return data_dict\n",
    "    \n",
    "\n",
    "    \n",
    "    "
   ]
  },
  {
   "cell_type": "code",
   "execution_count": 5,
   "metadata": {
    "collapsed": true
   },
   "outputs": [],
   "source": [
    "d = load_lblnew_data(PARAM_LBLNEW)\n",
    "\n",
    "DS_FLUX_CRD = d['ds_flux_crd']\n",
    "DS_COOL_CRD = d['ds_cool_crd']\n",
    "DS_FLUX_WGT = d['ds_flux_wgt']\n",
    "DS_COOL_WGT = d['ds_cool_wgt']"
   ]
  },
  {
   "cell_type": "code",
   "execution_count": 6,
   "metadata": {
    "collapsed": true
   },
   "outputs": [],
   "source": [
    "DIR_FORTRAN = pipe_cliradlw.get_fortran_dir(PARAM, \n",
    "                                            setup=setup_cliradlw)\n",
    "\n",
    "PATH_FLUX = os.path.join(DIR_FORTRAN, 'output_flux.dat')\n",
    "PATH_COOL = os.path.join(DIR_FORTRAN, 'output_coolr.dat')\n",
    "\n",
    "DS_FLUX = load_output_file(PATH_FLUX)\n",
    "DS_COOL = load_output_file(PATH_COOL)"
   ]
  },
  {
   "cell_type": "code",
   "execution_count": 7,
   "metadata": {
    "collapsed": true
   },
   "outputs": [
    {
     "data": {
      "text/html": [
       "\n",
       "    <div class=\"bk-root\">\n",
       "        <a href=\"https://bokeh.pydata.org\" target=\"_blank\" class=\"bk-logo bk-logo-small bk-logo-notebook\"></a>\n",
       "        <span id=\"660aa063-168f-420e-b126-7e6581ec1bf7\">Loading BokehJS ...</span>\n",
       "    </div>"
      ]
     },
     "metadata": {},
     "output_type": "display_data"
    },
    {
     "data": {
      "application/javascript": [
       "\n",
       "(function(root) {\n",
       "  function now() {\n",
       "    return new Date();\n",
       "  }\n",
       "\n",
       "  var force = true;\n",
       "\n",
       "  if (typeof (root._bokeh_onload_callbacks) === \"undefined\" || force === true) {\n",
       "    root._bokeh_onload_callbacks = [];\n",
       "    root._bokeh_is_loading = undefined;\n",
       "  }\n",
       "\n",
       "  var JS_MIME_TYPE = 'application/javascript';\n",
       "  var HTML_MIME_TYPE = 'text/html';\n",
       "  var EXEC_MIME_TYPE = 'application/vnd.bokehjs_exec.v0+json';\n",
       "  var CLASS_NAME = 'output_bokeh rendered_html';\n",
       "\n",
       "  /**\n",
       "   * Render data to the DOM node\n",
       "   */\n",
       "  function render(props, node) {\n",
       "    var script = document.createElement(\"script\");\n",
       "    node.appendChild(script);\n",
       "  }\n",
       "\n",
       "  /**\n",
       "   * Handle when an output is cleared or removed\n",
       "   */\n",
       "  function handleClearOutput(event, handle) {\n",
       "    var cell = handle.cell;\n",
       "\n",
       "    var id = cell.output_area._bokeh_element_id;\n",
       "    var server_id = cell.output_area._bokeh_server_id;\n",
       "    // Clean up Bokeh references\n",
       "    if (id !== undefined) {\n",
       "      Bokeh.index[id].model.document.clear();\n",
       "      delete Bokeh.index[id];\n",
       "    }\n",
       "\n",
       "    if (server_id !== undefined) {\n",
       "      // Clean up Bokeh references\n",
       "      var cmd = \"from bokeh.io.state import curstate; print(curstate().uuid_to_server['\" + server_id + \"'].get_sessions()[0].document.roots[0]._id)\";\n",
       "      cell.notebook.kernel.execute(cmd, {\n",
       "        iopub: {\n",
       "          output: function(msg) {\n",
       "            var element_id = msg.content.text.trim();\n",
       "            Bokeh.index[element_id].model.document.clear();\n",
       "            delete Bokeh.index[element_id];\n",
       "          }\n",
       "        }\n",
       "      });\n",
       "      // Destroy server and session\n",
       "      var cmd = \"import bokeh.io.notebook as ion; ion.destroy_server('\" + server_id + \"')\";\n",
       "      cell.notebook.kernel.execute(cmd);\n",
       "    }\n",
       "  }\n",
       "\n",
       "  /**\n",
       "   * Handle when a new output is added\n",
       "   */\n",
       "  function handleAddOutput(event, handle) {\n",
       "    var output_area = handle.output_area;\n",
       "    var output = handle.output;\n",
       "\n",
       "    // limit handleAddOutput to display_data with EXEC_MIME_TYPE content only\n",
       "    if ((output.output_type != \"display_data\") || (!output.data.hasOwnProperty(EXEC_MIME_TYPE))) {\n",
       "      return\n",
       "    }\n",
       "\n",
       "    var toinsert = output_area.element.find(\".\" + CLASS_NAME.split(' ')[0]);\n",
       "\n",
       "    if (output.metadata[EXEC_MIME_TYPE][\"id\"] !== undefined) {\n",
       "      toinsert[0].firstChild.textContent = output.data[JS_MIME_TYPE];\n",
       "      // store reference to embed id on output_area\n",
       "      output_area._bokeh_element_id = output.metadata[EXEC_MIME_TYPE][\"id\"];\n",
       "    }\n",
       "    if (output.metadata[EXEC_MIME_TYPE][\"server_id\"] !== undefined) {\n",
       "      var bk_div = document.createElement(\"div\");\n",
       "      bk_div.innerHTML = output.data[HTML_MIME_TYPE];\n",
       "      var script_attrs = bk_div.children[0].attributes;\n",
       "      for (var i = 0; i < script_attrs.length; i++) {\n",
       "        toinsert[0].firstChild.setAttribute(script_attrs[i].name, script_attrs[i].value);\n",
       "      }\n",
       "      // store reference to server id on output_area\n",
       "      output_area._bokeh_server_id = output.metadata[EXEC_MIME_TYPE][\"server_id\"];\n",
       "    }\n",
       "  }\n",
       "\n",
       "  function register_renderer(events, OutputArea) {\n",
       "\n",
       "    function append_mime(data, metadata, element) {\n",
       "      // create a DOM node to render to\n",
       "      var toinsert = this.create_output_subarea(\n",
       "        metadata,\n",
       "        CLASS_NAME,\n",
       "        EXEC_MIME_TYPE\n",
       "      );\n",
       "      this.keyboard_manager.register_events(toinsert);\n",
       "      // Render to node\n",
       "      var props = {data: data, metadata: metadata[EXEC_MIME_TYPE]};\n",
       "      render(props, toinsert[0]);\n",
       "      element.append(toinsert);\n",
       "      return toinsert\n",
       "    }\n",
       "\n",
       "    /* Handle when an output is cleared or removed */\n",
       "    events.on('clear_output.CodeCell', handleClearOutput);\n",
       "    events.on('delete.Cell', handleClearOutput);\n",
       "\n",
       "    /* Handle when a new output is added */\n",
       "    events.on('output_added.OutputArea', handleAddOutput);\n",
       "\n",
       "    /**\n",
       "     * Register the mime type and append_mime function with output_area\n",
       "     */\n",
       "    OutputArea.prototype.register_mime_type(EXEC_MIME_TYPE, append_mime, {\n",
       "      /* Is output safe? */\n",
       "      safe: true,\n",
       "      /* Index of renderer in `output_area.display_order` */\n",
       "      index: 0\n",
       "    });\n",
       "  }\n",
       "\n",
       "  // register the mime type if in Jupyter Notebook environment and previously unregistered\n",
       "  if (root.Jupyter !== undefined) {\n",
       "    var events = require('base/js/events');\n",
       "    var OutputArea = require('notebook/js/outputarea').OutputArea;\n",
       "\n",
       "    if (OutputArea.prototype.mime_types().indexOf(EXEC_MIME_TYPE) == -1) {\n",
       "      register_renderer(events, OutputArea);\n",
       "    }\n",
       "  }\n",
       "\n",
       "  \n",
       "  if (typeof (root._bokeh_timeout) === \"undefined\" || force === true) {\n",
       "    root._bokeh_timeout = Date.now() + 5000;\n",
       "    root._bokeh_failed_load = false;\n",
       "  }\n",
       "\n",
       "  var NB_LOAD_WARNING = {'data': {'text/html':\n",
       "     \"<div style='background-color: #fdd'>\\n\"+\n",
       "     \"<p>\\n\"+\n",
       "     \"BokehJS does not appear to have successfully loaded. If loading BokehJS from CDN, this \\n\"+\n",
       "     \"may be due to a slow or bad network connection. Possible fixes:\\n\"+\n",
       "     \"</p>\\n\"+\n",
       "     \"<ul>\\n\"+\n",
       "     \"<li>re-rerun `output_notebook()` to attempt to load from CDN again, or</li>\\n\"+\n",
       "     \"<li>use INLINE resources instead, as so:</li>\\n\"+\n",
       "     \"</ul>\\n\"+\n",
       "     \"<code>\\n\"+\n",
       "     \"from bokeh.resources import INLINE\\n\"+\n",
       "     \"output_notebook(resources=INLINE)\\n\"+\n",
       "     \"</code>\\n\"+\n",
       "     \"</div>\"}};\n",
       "\n",
       "  function display_loaded() {\n",
       "    var el = document.getElementById(\"660aa063-168f-420e-b126-7e6581ec1bf7\");\n",
       "    if (el != null) {\n",
       "      el.textContent = \"BokehJS is loading...\";\n",
       "    }\n",
       "    if (root.Bokeh !== undefined) {\n",
       "      if (el != null) {\n",
       "        el.textContent = \"BokehJS \" + root.Bokeh.version + \" successfully loaded.\";\n",
       "      }\n",
       "    } else if (Date.now() < root._bokeh_timeout) {\n",
       "      setTimeout(display_loaded, 100)\n",
       "    }\n",
       "  }\n",
       "\n",
       "\n",
       "  function run_callbacks() {\n",
       "    try {\n",
       "      root._bokeh_onload_callbacks.forEach(function(callback) { callback() });\n",
       "    }\n",
       "    finally {\n",
       "      delete root._bokeh_onload_callbacks\n",
       "    }\n",
       "    console.info(\"Bokeh: all callbacks have finished\");\n",
       "  }\n",
       "\n",
       "  function load_libs(js_urls, callback) {\n",
       "    root._bokeh_onload_callbacks.push(callback);\n",
       "    if (root._bokeh_is_loading > 0) {\n",
       "      console.log(\"Bokeh: BokehJS is being loaded, scheduling callback at\", now());\n",
       "      return null;\n",
       "    }\n",
       "    if (js_urls == null || js_urls.length === 0) {\n",
       "      run_callbacks();\n",
       "      return null;\n",
       "    }\n",
       "    console.log(\"Bokeh: BokehJS not loaded, scheduling load and callback at\", now());\n",
       "    root._bokeh_is_loading = js_urls.length;\n",
       "    for (var i = 0; i < js_urls.length; i++) {\n",
       "      var url = js_urls[i];\n",
       "      var s = document.createElement('script');\n",
       "      s.src = url;\n",
       "      s.async = false;\n",
       "      s.onreadystatechange = s.onload = function() {\n",
       "        root._bokeh_is_loading--;\n",
       "        if (root._bokeh_is_loading === 0) {\n",
       "          console.log(\"Bokeh: all BokehJS libraries loaded\");\n",
       "          run_callbacks()\n",
       "        }\n",
       "      };\n",
       "      s.onerror = function() {\n",
       "        console.warn(\"failed to load library \" + url);\n",
       "      };\n",
       "      console.log(\"Bokeh: injecting script tag for BokehJS library: \", url);\n",
       "      document.getElementsByTagName(\"head\")[0].appendChild(s);\n",
       "    }\n",
       "  };var element = document.getElementById(\"660aa063-168f-420e-b126-7e6581ec1bf7\");\n",
       "  if (element == null) {\n",
       "    console.log(\"Bokeh: ERROR: autoload.js configured with elementid '660aa063-168f-420e-b126-7e6581ec1bf7' but no matching script tag was found. \")\n",
       "    return false;\n",
       "  }\n",
       "\n",
       "  var js_urls = [\"https://cdn.pydata.org/bokeh/release/bokeh-0.12.14.min.js\", \"https://cdn.pydata.org/bokeh/release/bokeh-widgets-0.12.14.min.js\", \"https://cdn.pydata.org/bokeh/release/bokeh-tables-0.12.14.min.js\", \"https://cdn.pydata.org/bokeh/release/bokeh-gl-0.12.14.min.js\"];\n",
       "\n",
       "  var inline_js = [\n",
       "    function(Bokeh) {\n",
       "      Bokeh.set_log_level(\"info\");\n",
       "    },\n",
       "    \n",
       "    function(Bokeh) {\n",
       "      \n",
       "    },\n",
       "    function(Bokeh) {\n",
       "      console.log(\"Bokeh: injecting CSS: https://cdn.pydata.org/bokeh/release/bokeh-0.12.14.min.css\");\n",
       "      Bokeh.embed.inject_css(\"https://cdn.pydata.org/bokeh/release/bokeh-0.12.14.min.css\");\n",
       "      console.log(\"Bokeh: injecting CSS: https://cdn.pydata.org/bokeh/release/bokeh-widgets-0.12.14.min.css\");\n",
       "      Bokeh.embed.inject_css(\"https://cdn.pydata.org/bokeh/release/bokeh-widgets-0.12.14.min.css\");\n",
       "      console.log(\"Bokeh: injecting CSS: https://cdn.pydata.org/bokeh/release/bokeh-tables-0.12.14.min.css\");\n",
       "      Bokeh.embed.inject_css(\"https://cdn.pydata.org/bokeh/release/bokeh-tables-0.12.14.min.css\");\n",
       "    }\n",
       "  ];\n",
       "\n",
       "  function run_inline_js() {\n",
       "    \n",
       "    if ((root.Bokeh !== undefined) || (force === true)) {\n",
       "      for (var i = 0; i < inline_js.length; i++) {\n",
       "        inline_js[i].call(root, root.Bokeh);\n",
       "      }if (force === true) {\n",
       "        display_loaded();\n",
       "      }} else if (Date.now() < root._bokeh_timeout) {\n",
       "      setTimeout(run_inline_js, 100);\n",
       "    } else if (!root._bokeh_failed_load) {\n",
       "      console.log(\"Bokeh: BokehJS failed to load within specified timeout.\");\n",
       "      root._bokeh_failed_load = true;\n",
       "    } else if (force !== true) {\n",
       "      var cell = $(document.getElementById(\"660aa063-168f-420e-b126-7e6581ec1bf7\")).parents('.cell').data().cell;\n",
       "      cell.output_area.append_execute_result(NB_LOAD_WARNING)\n",
       "    }\n",
       "\n",
       "  }\n",
       "\n",
       "  if (root._bokeh_is_loading === 0) {\n",
       "    console.log(\"Bokeh: BokehJS loaded, going straight to plotting\");\n",
       "    run_inline_js();\n",
       "  } else {\n",
       "    load_libs(js_urls, function() {\n",
       "      console.log(\"Bokeh: BokehJS plotting callback run at\", now());\n",
       "      run_inline_js();\n",
       "    });\n",
       "  }\n",
       "}(window));"
      ],
      "application/vnd.bokehjs_load.v0+json": "\n(function(root) {\n  function now() {\n    return new Date();\n  }\n\n  var force = true;\n\n  if (typeof (root._bokeh_onload_callbacks) === \"undefined\" || force === true) {\n    root._bokeh_onload_callbacks = [];\n    root._bokeh_is_loading = undefined;\n  }\n\n  \n\n  \n  if (typeof (root._bokeh_timeout) === \"undefined\" || force === true) {\n    root._bokeh_timeout = Date.now() + 5000;\n    root._bokeh_failed_load = false;\n  }\n\n  var NB_LOAD_WARNING = {'data': {'text/html':\n     \"<div style='background-color: #fdd'>\\n\"+\n     \"<p>\\n\"+\n     \"BokehJS does not appear to have successfully loaded. If loading BokehJS from CDN, this \\n\"+\n     \"may be due to a slow or bad network connection. Possible fixes:\\n\"+\n     \"</p>\\n\"+\n     \"<ul>\\n\"+\n     \"<li>re-rerun `output_notebook()` to attempt to load from CDN again, or</li>\\n\"+\n     \"<li>use INLINE resources instead, as so:</li>\\n\"+\n     \"</ul>\\n\"+\n     \"<code>\\n\"+\n     \"from bokeh.resources import INLINE\\n\"+\n     \"output_notebook(resources=INLINE)\\n\"+\n     \"</code>\\n\"+\n     \"</div>\"}};\n\n  function display_loaded() {\n    var el = document.getElementById(\"660aa063-168f-420e-b126-7e6581ec1bf7\");\n    if (el != null) {\n      el.textContent = \"BokehJS is loading...\";\n    }\n    if (root.Bokeh !== undefined) {\n      if (el != null) {\n        el.textContent = \"BokehJS \" + root.Bokeh.version + \" successfully loaded.\";\n      }\n    } else if (Date.now() < root._bokeh_timeout) {\n      setTimeout(display_loaded, 100)\n    }\n  }\n\n\n  function run_callbacks() {\n    try {\n      root._bokeh_onload_callbacks.forEach(function(callback) { callback() });\n    }\n    finally {\n      delete root._bokeh_onload_callbacks\n    }\n    console.info(\"Bokeh: all callbacks have finished\");\n  }\n\n  function load_libs(js_urls, callback) {\n    root._bokeh_onload_callbacks.push(callback);\n    if (root._bokeh_is_loading > 0) {\n      console.log(\"Bokeh: BokehJS is being loaded, scheduling callback at\", now());\n      return null;\n    }\n    if (js_urls == null || js_urls.length === 0) {\n      run_callbacks();\n      return null;\n    }\n    console.log(\"Bokeh: BokehJS not loaded, scheduling load and callback at\", now());\n    root._bokeh_is_loading = js_urls.length;\n    for (var i = 0; i < js_urls.length; i++) {\n      var url = js_urls[i];\n      var s = document.createElement('script');\n      s.src = url;\n      s.async = false;\n      s.onreadystatechange = s.onload = function() {\n        root._bokeh_is_loading--;\n        if (root._bokeh_is_loading === 0) {\n          console.log(\"Bokeh: all BokehJS libraries loaded\");\n          run_callbacks()\n        }\n      };\n      s.onerror = function() {\n        console.warn(\"failed to load library \" + url);\n      };\n      console.log(\"Bokeh: injecting script tag for BokehJS library: \", url);\n      document.getElementsByTagName(\"head\")[0].appendChild(s);\n    }\n  };var element = document.getElementById(\"660aa063-168f-420e-b126-7e6581ec1bf7\");\n  if (element == null) {\n    console.log(\"Bokeh: ERROR: autoload.js configured with elementid '660aa063-168f-420e-b126-7e6581ec1bf7' but no matching script tag was found. \")\n    return false;\n  }\n\n  var js_urls = [\"https://cdn.pydata.org/bokeh/release/bokeh-0.12.14.min.js\", \"https://cdn.pydata.org/bokeh/release/bokeh-widgets-0.12.14.min.js\", \"https://cdn.pydata.org/bokeh/release/bokeh-tables-0.12.14.min.js\", \"https://cdn.pydata.org/bokeh/release/bokeh-gl-0.12.14.min.js\"];\n\n  var inline_js = [\n    function(Bokeh) {\n      Bokeh.set_log_level(\"info\");\n    },\n    \n    function(Bokeh) {\n      \n    },\n    function(Bokeh) {\n      console.log(\"Bokeh: injecting CSS: https://cdn.pydata.org/bokeh/release/bokeh-0.12.14.min.css\");\n      Bokeh.embed.inject_css(\"https://cdn.pydata.org/bokeh/release/bokeh-0.12.14.min.css\");\n      console.log(\"Bokeh: injecting CSS: https://cdn.pydata.org/bokeh/release/bokeh-widgets-0.12.14.min.css\");\n      Bokeh.embed.inject_css(\"https://cdn.pydata.org/bokeh/release/bokeh-widgets-0.12.14.min.css\");\n      console.log(\"Bokeh: injecting CSS: https://cdn.pydata.org/bokeh/release/bokeh-tables-0.12.14.min.css\");\n      Bokeh.embed.inject_css(\"https://cdn.pydata.org/bokeh/release/bokeh-tables-0.12.14.min.css\");\n    }\n  ];\n\n  function run_inline_js() {\n    \n    if ((root.Bokeh !== undefined) || (force === true)) {\n      for (var i = 0; i < inline_js.length; i++) {\n        inline_js[i].call(root, root.Bokeh);\n      }if (force === true) {\n        display_loaded();\n      }} else if (Date.now() < root._bokeh_timeout) {\n      setTimeout(run_inline_js, 100);\n    } else if (!root._bokeh_failed_load) {\n      console.log(\"Bokeh: BokehJS failed to load within specified timeout.\");\n      root._bokeh_failed_load = true;\n    } else if (force !== true) {\n      var cell = $(document.getElementById(\"660aa063-168f-420e-b126-7e6581ec1bf7\")).parents('.cell').data().cell;\n      cell.output_area.append_execute_result(NB_LOAD_WARNING)\n    }\n\n  }\n\n  if (root._bokeh_is_loading === 0) {\n    console.log(\"Bokeh: BokehJS loaded, going straight to plotting\");\n    run_inline_js();\n  } else {\n    load_libs(js_urls, function() {\n      console.log(\"Bokeh: BokehJS plotting callback run at\", now());\n      run_inline_js();\n    });\n  }\n}(window));"
     },
     "metadata": {},
     "output_type": "display_data"
    }
   ],
   "source": [
    "output_notebook()"
   ]
  },
  {
   "cell_type": "code",
   "execution_count": 8,
   "metadata": {
    "collapsed": true
   },
   "outputs": [],
   "source": [
    "def fmt_cool(ds_in):\n",
    "    ds = ds_in.copy(deep=True)\n",
    "    if 'igg' in ds.dims:\n",
    "        ds = ds.sel(igg=1)\n",
    "\n",
    "    if 'g' in ds.dims:\n",
    "        ds = ds.sum('g')\n",
    "            \n",
    "    if 'band' in ds.dims:\n",
    "        try:\n",
    "            ds = ds.squeeze('band')\n",
    "        except ValueError:\n",
    "            ds = ds.sum('band')\n",
    "                \n",
    "    return ds['coolrg']\n",
    "\n",
    "\n",
    "def pltdata_cooling_1(ds_cool=None,\n",
    "                      ds_cool_crd=None, ds_cool_wgt=None):\n",
    "    \n",
    "\n",
    "\n",
    "    colors = all_palettes['Set1'][4]\n",
    "    data = [{'label': 'CLIRAD `coolr_bands`',\n",
    "             'srs': fmt_cool(ds_cool),\n",
    "             'line_dash': 'dashed', 'line_width': 5,\n",
    "             'color': colors[0], 'alpha': .6},\n",
    "            {'label': 'CRD',\n",
    "             'srs': fmt_cool(ds_cool_crd),\n",
    "             'line_dash': 'solid', 'line_width': 1.5,\n",
    "             'marker': 'circle', 'marker_size': 5,\n",
    "             'color': colors[2], 'alpha': 1,},\n",
    "            {'label': 'WGT igg=10 wgt_flux=2',\n",
    "             'srs': fmt_cool(ds_cool_wgt),\n",
    "             'line_dash': 'solid', 'line_width': 3,\n",
    "             'marker': 'square', 'marker_size': 5,\n",
    "             'color': colors[3], 'alpha': .6}]\n",
    "    return data\n",
    "\n",
    "\n",
    "def nice_xlims(pltdata=None, prange=None):\n",
    "    \n",
    "    def get_slice(srs):\n",
    "        return srs.sel(pressure=slice(*prange))\n",
    "    \n",
    "    srss = [d['srs'] for d in pltdata]\n",
    "    vmin = min([get_slice(srs).min() for srs in srss])\n",
    "    vmax = max([get_slice(srs).max() for srs in srss])\n",
    "    dv = (vmax - vmin) * .01\n",
    "    return float(vmin - dv), float(vmax + dv)\n",
    "    \n",
    "\n",
    "def plt_cooling_bokeh(pltdata=None):\n",
    "    '''\n",
    "    Plot a list of cooling rate profiles using bokeh.\n",
    "    '''\n",
    "    ymin = 1e-2 \n",
    "    ymax = 1020 \n",
    "        \n",
    "    p1 = figure(title=\"Linear pressure scale\", \n",
    "                plot_width=400)        \n",
    "    xmin, xmax = nice_xlims(pltdata, prange=(50, 1050))\n",
    "    for d in pltdata:\n",
    "        if 'marker' in d:\n",
    "            getattr(p1, d['marker'])(d['srs'].values, \n",
    "                    d['srs'].coords['pressure'].values,\n",
    "                    color=d['color'], alpha=.7)\n",
    "        p1.line(d['srs'].values, \n",
    "                d['srs'].coords['pressure'].values,\n",
    "                color=d['color'], alpha=d['alpha'], \n",
    "                line_width=d['line_width'], line_dash=d['line_dash'])\n",
    "    \n",
    "    p1.y_range = Range1d(ymax, ymin)\n",
    "    p1.yaxis.axis_label = 'pressure [mb]'   \n",
    "    p1.x_range = Range1d(xmin, xmax)\n",
    "    p1.xaxis.axis_label = 'cooling rate [K/day]'\n",
    "            \n",
    "    p2 = figure(title='Log pressure scale', y_axis_type='log',\n",
    "                plot_width=560)\n",
    "    xmin, xmax = nice_xlims(pltdata, prange=(.01, 200))\n",
    "    \n",
    "    rs = []\n",
    "    for d in pltdata:\n",
    "        rd = []\n",
    "        if 'marker' in d:\n",
    "            r_mark = getattr(p2, d['marker'])(d['srs'].values, \n",
    "                        d['srs'].coords['pressure'].values,\n",
    "                        color=d['color'], alpha=.7)\n",
    "            rd.append(r_mark)\n",
    "        r_line = p2.line(d['srs'].values, \n",
    "                    d['srs'].coords['pressure'].values,\n",
    "                    color=d['color'], alpha=d['alpha'], \n",
    "                    line_width=d['line_width'], line_dash=d['line_dash'])\n",
    "        rd.append(r_line)\n",
    "      \n",
    "        rs.append(rd)\n",
    "        \n",
    "    p2.y_range = Range1d(ymax, ymin)  \n",
    "    p2.yaxis.axis_label = 'pressure [mb]'\n",
    "    \n",
    "    p2.x_range = Range1d(xmin, xmax)\n",
    "    p2.xaxis.axis_label = 'cooling rate [K/day]'\n",
    "    \n",
    "    items = [(d['label'], r) for r, d in zip(rs, pltdata)]\n",
    "    legend = Legend(items=items, location=(10, -30))\n",
    "    legend.label_text_font_size = '8pt'\n",
    "    \n",
    "    p2.add_layout(legend, 'right')  \n",
    "    \n",
    "    show(gridplot(p1, p2, ncols=2, plot_height=500))\n",
    "    \n",
    "\n",
    "def script_plt_cooling():\n",
    "    pltdata = pltdata_cooling_1(\n",
    "        ds_cool=DS_COOL,\n",
    "        ds_cool_crd=DS_COOL_CRD,\n",
    "        ds_cool_wgt=DS_COOL_WGT)\n",
    "    plt_cooling_bokeh(pltdata=pltdata)\n",
    "    print('''FIGURE. Cooling rate profiles.''')"
   ]
  },
  {
   "cell_type": "code",
   "execution_count": 9,
   "metadata": {
    "collapsed": true
   },
   "outputs": [],
   "source": [
    "def fmt_flux(ds_in):\n",
    "    ds = ds_in.copy(deep=True)\n",
    "    \n",
    "    for l in ('level', 'layer'):\n",
    "        if l in ds.data_vars:\n",
    "            if len(ds[l].dims) > 1:\n",
    "                surface = {d: 0 for d in ds.dims if d != 'pressure'}\n",
    "                coord_level = ds[l][surface]\n",
    "                ds.coords[l] = ('pressure', coord_level)\n",
    "            else:\n",
    "                ds.coords[l] = ('pressure', ds[l])\n",
    "        \n",
    "    ds = ds.isel(pressure=[0, 23, -1])\n",
    "        \n",
    "    if 'igg' in ds.dims:\n",
    "        ds = ds.sel(igg=[1])\n",
    "        ds = ds.squeeze('igg').drop('igg')\n",
    "    \n",
    "    if 'g' in ds.dims:\n",
    "        ds = ds.sum('g')\n",
    "            \n",
    "    if 'band' in ds.dims:\n",
    "        try:\n",
    "            ds = ds.squeeze('band').drop('band')\n",
    "        except ValueError:\n",
    "            ds = ds.sum('band')\n",
    "                \n",
    "    df = ds.to_dataframe()\n",
    "    df = df.set_index('level', append=True)               \n",
    "    return df\n",
    "\n",
    "\n",
    "def tbdata_flux(ds_flux=None, ds_flux_crd=None, ds_flux_wgt=None):\n",
    "    ilevels = [0, 23, -1]\n",
    "            \n",
    "    benchmark = {'label': 'WGT igg=10 wgt_flux=1',\n",
    "                 'df': fmt_flux(ds_flux_wgt)}\n",
    "    \n",
    "    tbs = [{'label': 'CRD',\n",
    "            'df': fmt_flux(ds_flux_crd)},\n",
    "           {'label': 'CLIRAD',\n",
    "            'df': fmt_flux(ds_flux)}]\n",
    "    \n",
    "    data = {'benchmark': benchmark, 'others': tbs}\n",
    "    return data\n",
    "\n",
    "\n",
    "def tb_flux(tbdata=None):\n",
    "    benchmark = tbdata['benchmark']\n",
    "    others = tbdata['others']\n",
    "    \n",
    "    def show_tb(d=None):\n",
    "        display.display(d['df'])\n",
    "        print('Table.', 'Fluxes.', d['label'])\n",
    "        \n",
    "    def show_tbdiff(d0=None, d=None):\n",
    "        df = d['df']\n",
    "        df.index = d0['df'].index\n",
    "        display.display(df - d0['df'])\n",
    "        print('Table.', 'Fluxes.', \n",
    "              '({}) - ({})'.format(d['label'], d0['label']))\n",
    "        \n",
    "    show_tb(benchmark)\n",
    "    for d in others:\n",
    "        show_tb(d)\n",
    "        \n",
    "    for d in others:\n",
    "        show_tbdiff(d=d, d0=benchmark)\n",
    "        \n",
    "        \n",
    "def script_tb_flux():\n",
    "    data = tbdata_flux(ds_flux=DS_FLUX,\n",
    "                       ds_flux_crd=DS_FLUX_CRD,\n",
    "                       ds_flux_wgt=DS_FLUX_WGT)\n",
    "    tb_flux(tbdata=data)"
   ]
  },
  {
   "cell_type": "code",
   "execution_count": 10,
   "metadata": {
    "collapsed": true
   },
   "outputs": [],
   "source": [
    "def band_map():\n",
    "    '''\n",
    "    Maps spectral bands in lblnew to spectral bands in clirad.\n",
    "    '''\n",
    "    lblnew2clirad = {'1': '1',\n",
    "            '2': '2',\n",
    "            '3a': '3',\n",
    "            '3b': '4',\n",
    "            '3c': '5',\n",
    "            '4': '6', \n",
    "            '5': '7',\n",
    "            '6': '8',\n",
    "            '7': '9', \n",
    "            '8': '10',\n",
    "            '9': '11'}\n",
    "    \n",
    "    clirad2lblnew = {clirad: lblnew \n",
    "                     for lblnew, clirad in lblnew2clirad.items()}\n",
    "    return clirad2lblnew\n",
    "\n",
    "\n",
    "def gasbands():\n",
    "    bmap = band_map()\n",
    "    gases = list(PARAM['molecule'].keys())\n",
    "    \n",
    "    bands = [bmap[str(b)] for b in PARAM['band']]\n",
    "    return list(itertools.product(gases, bands))\n",
    "\n",
    "\n",
    "def print_bestfit_params():\n",
    "    print('Best-fit values for each (gas, band)')\n",
    "    print('------------------------------------')\n",
    "    for gas, band in gasbands():\n",
    "        print('o {} band{}'.format(gas, band))\n",
    "        param = bestfits.kdist_params(molecule=gas, band=band)\n",
    "        for name, value in sorted(param.items()):\n",
    "            print(2 * ' ' + '{} = {}'.format(name, value))\n",
    "\n",
    "        \n",
    "def print_input_param():        \n",
    "    for name, value in PARAM.items():\n",
    "        print('{} = {}'.format(name, value))\n",
    "        \n",
    "        \n",
    "def print_lblnew_param():\n",
    "    for name, value in sorted(PARAM_LBLNEW.items()):\n",
    "        print('{} = {}'.format(name, value))\n"
   ]
  },
  {
   "cell_type": "code",
   "execution_count": 11,
   "metadata": {
    "collapsed": true,
    "scrolled": false
   },
   "outputs": [],
   "source": [
    "def show_html(s):\n",
    "    display.display(display.HTML(s))\n",
    "\n",
    "    \n",
    "def show_markdown(s):\n",
    "    display.display(display.Markdown(s))\n",
    "\n",
    "    \n",
    "def script():\n",
    "    \n",
    "    title = '### CLIRAD-LW'\n",
    "    s_input = 'Input Parameters'\n",
    "    s_lblnew_param = 'LBLNEW case compaired against'\n",
    "    s_bestfits = 'Best-fit Parameters'\n",
    "    s_plt_cooling = 'Cooling Rate Profiles'\n",
    "    s_tb_flux = 'Flux Comparison'\n",
    "    \n",
    "    # title\n",
    "    show_markdown('### CLIRAD-LW')\n",
    "    \n",
    "    # TOC\n",
    "    show_markdown('### Table of Contents')\n",
    "    show_html(climahtml.getHTML_hrefanchor(s_input))\n",
    "    show_html(climahtml.getHTML_hrefanchor(s_lblnew_param))\n",
    "    show_html(climahtml.getHTML_hrefanchor(s_plt_cooling))\n",
    "    show_html(climahtml.getHTML_hrefanchor(s_tb_flux))\n",
    "    show_html(climahtml.getHTML_hrefanchor(s_bestfits))\n",
    "    \n",
    "    # Input parameters\n",
    "    show_html(climahtml.getHTML_idanchor(s_input))\n",
    "    show_markdown(climahtml.getMarkdown_sectitle(s_input))\n",
    "    print_input_param()\n",
    "    \n",
    "    # LBLNEW parameters \n",
    "    show_html(climahtml.getHTML_idanchor(s_lblnew_param))\n",
    "    show_markdown(climahtml.getMarkdown_sectitle(s_lblnew_param))\n",
    "    print_lblnew_param()\n",
    "    \n",
    "    # Cooling rate profiles\n",
    "    show_html(climahtml.getHTML_idanchor(s_plt_cooling))\n",
    "    show_markdown(climahtml.getMarkdown_sectitle(s_plt_cooling))\n",
    "    script_plt_cooling()\n",
    "    \n",
    "    # Flux comparison\n",
    "    show_html(climahtml.getHTML_idanchor(s_tb_flux))\n",
    "    show_markdown(climahtml.getMarkdown_sectitle(s_tb_flux))\n",
    "    script_tb_flux()\n",
    "    \n",
    "    # Best-fit values\n",
    "    show_html(climahtml.getHTML_idanchor(s_bestfits))\n",
    "    show_markdown(climahtml.getMarkdown_sectitle(s_bestfits))\n",
    "    print_bestfit_params()\n",
    "   \n",
    "    "
   ]
  },
  {
   "cell_type": "code",
   "execution_count": 12,
   "metadata": {
    "collapsed": true,
    "scrolled": false
   },
   "outputs": [
    {
     "data": {
      "text/markdown": [
       "### CLIRAD-LW"
      ],
      "text/plain": [
       "<IPython.core.display.Markdown object>"
      ]
     },
     "metadata": {},
     "output_type": "display_data"
    },
    {
     "data": {
      "text/markdown": [
       "### Table of Contents"
      ],
      "text/plain": [
       "<IPython.core.display.Markdown object>"
      ]
     },
     "metadata": {},
     "output_type": "display_data"
    },
    {
     "data": {
      "text/html": [
       "<a href=\"#Input_Parameters\">Input Parameters</a>"
      ],
      "text/plain": [
       "<IPython.core.display.HTML object>"
      ]
     },
     "metadata": {},
     "output_type": "display_data"
    },
    {
     "data": {
      "text/html": [
       "<a href=\"#LBLNEW_case_compaired_against\">LBLNEW case compaired against</a>"
      ],
      "text/plain": [
       "<IPython.core.display.HTML object>"
      ]
     },
     "metadata": {},
     "output_type": "display_data"
    },
    {
     "data": {
      "text/html": [
       "<a href=\"#Cooling_Rate_Profiles\">Cooling Rate Profiles</a>"
      ],
      "text/plain": [
       "<IPython.core.display.HTML object>"
      ]
     },
     "metadata": {},
     "output_type": "display_data"
    },
    {
     "data": {
      "text/html": [
       "<a href=\"#Flux_Comparison\">Flux Comparison</a>"
      ],
      "text/plain": [
       "<IPython.core.display.HTML object>"
      ]
     },
     "metadata": {},
     "output_type": "display_data"
    },
    {
     "data": {
      "text/html": [
       "<a href=\"#Best-fit_Parameters\">Best-fit Parameters</a>"
      ],
      "text/plain": [
       "<IPython.core.display.HTML object>"
      ]
     },
     "metadata": {},
     "output_type": "display_data"
    },
    {
     "data": {
      "text/html": [
       "<a id=\"Input_Parameters\"></a>"
      ],
      "text/plain": [
       "<IPython.core.display.HTML object>"
      ]
     },
     "metadata": {},
     "output_type": "display_data"
    },
    {
     "data": {
      "text/markdown": [
       "# Input Parameters"
      ],
      "text/plain": [
       "<IPython.core.display.Markdown object>"
      ]
     },
     "metadata": {},
     "output_type": "display_data"
    },
    {
     "name": "stdout",
     "output_type": "stream",
     "text": [
      "atmpro = mls\n",
      "band = [8]\n",
      "commitnumber = 808c938\n",
      "molecule = {'n2o': 3.2e-07}\n",
      "tsfc = 294\n"
     ]
    },
    {
     "data": {
      "text/html": [
       "<a id=\"LBLNEW_case_compaired_against\"></a>"
      ],
      "text/plain": [
       "<IPython.core.display.HTML object>"
      ]
     },
     "metadata": {},
     "output_type": "display_data"
    },
    {
     "data": {
      "text/markdown": [
       "# LBLNEW case compaired against"
      ],
      "text/plain": [
       "<IPython.core.display.Markdown object>"
      ]
     },
     "metadata": {},
     "output_type": "display_data"
    },
    {
     "name": "stdout",
     "output_type": "stream",
     "text": [
      "atmpro = mls\n",
      "band = 6\n",
      "commitnumber = bca49ce\n",
      "conc = 3.2e-07\n",
      "dv = 0.005\n",
      "klin = 0\n",
      "molecule = n2o\n",
      "ng_adju = [0]\n",
      "ng_refs = [1]\n",
      "nv = 200\n",
      "option_compute_btable = 0\n",
      "option_compute_ktable = 0\n",
      "option_wgt_flux = 1\n",
      "option_wgt_k = 1\n",
      "ref_pts = [(500, 250)]\n",
      "tsfc = 294\n",
      "vmax = 1215\n",
      "vmin = 1100\n",
      "w_diffuse = [(1.66,)]\n",
      "wgt = [(0.95,)]\n"
     ]
    },
    {
     "data": {
      "text/html": [
       "<a id=\"Cooling_Rate_Profiles\"></a>"
      ],
      "text/plain": [
       "<IPython.core.display.HTML object>"
      ]
     },
     "metadata": {},
     "output_type": "display_data"
    },
    {
     "data": {
      "text/markdown": [
       "# Cooling Rate Profiles"
      ],
      "text/plain": [
       "<IPython.core.display.Markdown object>"
      ]
     },
     "metadata": {},
     "output_type": "display_data"
    },
    {
     "data": {
      "text/html": [
       "\n",
       "<div class=\"bk-root\">\n",
       "    <div class=\"bk-plotdiv\" id=\"9c8f5a34-70e6-45ca-bf00-b8e9dc0bc956\"></div>\n",
       "</div>"
      ]
     },
     "metadata": {},
     "output_type": "display_data"
    },
    {
     "data": {
      "application/javascript": [
       "(function(root) {\n",
       "  function embed_document(root) {\n",
       "    \n",
       "  var docs_json = {\"c729efc4-e1ef-4bdc-965f-44581d159327\":{\"roots\":{\"references\":[{\"attributes\":{},\"id\":\"6c4e2d32-558c-4b2d-bacf-28fa39a113d5\",\"type\":\"SaveTool\"},{\"attributes\":{\"data_source\":{\"id\":\"253b201c-c380-4da2-99e9-eaa47561a329\",\"type\":\"ColumnDataSource\"},\"glyph\":{\"id\":\"72d63c6c-971c-4c64-89dc-28996bae1b96\",\"type\":\"Line\"},\"hover_glyph\":null,\"muted_glyph\":null,\"nonselection_glyph\":{\"id\":\"9556ada5-231c-4b82-84f0-6d31f26db93e\",\"type\":\"Line\"},\"selection_glyph\":null,\"view\":{\"id\":\"ec93e56d-1f1a-4b61-bcd1-960c637d7251\",\"type\":\"CDSView\"}},\"id\":\"f6ae5d02-feec-4964-bc33-9685e0601f91\",\"type\":\"GlyphRenderer\"},{\"attributes\":{\"line_alpha\":0.6,\"line_color\":\"#984ea3\",\"line_width\":3,\"x\":{\"field\":\"x\"},\"y\":{\"field\":\"y\"}},\"id\":\"0350cbd2-adf9-4927-91da-6b36e5bbeae0\",\"type\":\"Line\"},{\"attributes\":{},\"id\":\"cd0564e2-95a5-44e9-9135-892c719ff427\",\"type\":\"ResetTool\"},{\"attributes\":{\"data_source\":{\"id\":\"a4420583-9d4c-4c4c-b5c1-bce8de739f18\",\"type\":\"ColumnDataSource\"},\"glyph\":{\"id\":\"b8d89dd3-6e43-4516-b893-13a43e9c189a\",\"type\":\"Line\"},\"hover_glyph\":null,\"muted_glyph\":null,\"nonselection_glyph\":{\"id\":\"57b68cfd-0e32-46c9-aab4-33394bfc8845\",\"type\":\"Line\"},\"selection_glyph\":null,\"view\":{\"id\":\"2da2934b-32fc-4da6-b6b5-c3ecbc7e784c\",\"type\":\"CDSView\"}},\"id\":\"4bad1573-1314-4f0b-ab37-f030f84f8c21\",\"type\":\"GlyphRenderer\"},{\"attributes\":{\"children\":[{\"id\":\"19040aaa-c584-4ebf-a907-e4dc3449f5d6\",\"type\":\"Row\"}]},\"id\":\"c70ca181-4f36-49fb-8b05-c8519ea037fb\",\"type\":\"Column\"},{\"attributes\":{\"source\":{\"id\":\"9803eb92-3a4b-4bf1-89e4-115020b2dbb3\",\"type\":\"ColumnDataSource\"}},\"id\":\"9c86c85d-e3ac-4e13-92e0-41595cbb490d\",\"type\":\"CDSView\"},{\"attributes\":{},\"id\":\"6be6a6c2-f295-464f-9acf-696eb817b793\",\"type\":\"PanTool\"},{\"attributes\":{},\"id\":\"8772d9db-2eab-4a4d-8fda-5486721288ef\",\"type\":\"BasicTicker\"},{\"attributes\":{\"label\":{\"value\":\"WGT igg=10 wgt_flux=2\"},\"renderers\":[{\"id\":\"d66c3d79-31b3-4568-91fc-133e3e366ffc\",\"type\":\"GlyphRenderer\"},{\"id\":\"fd4f8824-a165-4f44-924c-09d4a2322bdc\",\"type\":\"GlyphRenderer\"}]},\"id\":\"d8083cdc-5927-49d0-b1f4-81c637a424b0\",\"type\":\"LegendItem\"},{\"attributes\":{},\"id\":\"9833b848-f9db-49c3-adbd-15235a62d13d\",\"type\":\"HelpTool\"},{\"attributes\":{\"plot\":{\"id\":\"3f97dfbf-10aa-4ed6-8d6c-21e854ddb68c\",\"subtype\":\"Figure\",\"type\":\"Plot\"},\"ticker\":{\"id\":\"064dbc71-f10f-4a30-acda-48a001852240\",\"type\":\"BasicTicker\"}},\"id\":\"a0241fe4-2992-4079-9c27-dc3c40c2d6bc\",\"type\":\"Grid\"},{\"attributes\":{\"callback\":null,\"column_names\":[\"x\",\"y\"],\"data\":{\"x\":{\"__ndarray__\":\"uocTvzqzcr/VKbiklqlyv+jMiNa7lHK/axAwuyp+cr/87qneEmdyv1FaUsp4T3K/QzKmmVw3cr/j7XH4vh5yv4d8Z2KgBXK/N9gJIwXscb8e0P+W89Fxv8ocrRxxt3G/rZvUTIWccb8CwF6NZn9xv5IZuwIiJHG/OBz2eKoOcL8mZOCzh1Nsv12oGzAYeGe/8W4zvU5vYb9mw/WDFQJUv4XoPlpwLR6/YmcnFyzbUz9rUuOE1vpjP3JbZHyN3WQ/wnsWnY/fWT8h2Nsqd5c9P8amZR+XF0O/qW8beaBWWL8xsD/m0lpiv/KtG/Bqkme/bZQTOwM0bL80NZFhqhxwv+TuX5jNlXG/idICXmSOcr9BIZNwR1Zzv/1pF9pP+3O/CL+IinVJdL8xm0oH7m50v9hLGOtpcHS/Ok2Tz3NPdL/TomD8K6Fzvw1Z7TqMa3K/dhYtX58Jcb+yGUD1mBNvv90ND1LRB2y/hk5oRoHtaL8SLp5hdeJlv3v+7LLcrGK/NDJTUA3YXr/Zm02EY09Yv8Kww+ETzlG/XERJsSFBR7/z+QW1bW80v1+SEdRx4RM/PbkKXbQfPj+4blHbXTFLP5yN3G3z01M/FDgdbQoXWj+p6i8FtSlgPzMF0zajQmM//u8oT4k9Zj9N5WFfumJpP7//xLzWe2w/WGfPOcWQbz8iqvKxwkNxPxKJ5X7ex3I/1l0DGJtBdD/qP2t+/KV1P0JBFlLY5nY/WCE3lPkGeD8ZzZbgVxt5P7LHucXrHno/88eNSsUZez8BXGYbswF8P0QxTDkl+Hw/\",\"dtype\":\"float64\",\"shape\":[75]},\"y\":{\"__ndarray__\":\"GhExyth1ND/Sv8nbtpRIP2vylNV0PVE/aTum7souWD/At0SJ8fVgPw3Iuahxymc/MSNhhJWvcD/bTfBN02d3P2zb5nxnaoA/CD5h5MAGhz8NmeH1TyaQP+zrCsc9p5Y/LbKd76fGnz/bLW5ISEmmPww9YvTcQq8/JV2OstnstT8Er5Y7M8G+P0c+r3jqkcU/5h99k6ZBzj88bCIzFzjVP4enV8oyxN0//yH99nXg5D8qOpLLf0jtP5kqGJXUifQ/c9cS8kHP/D+/DpwzojQEQIEmwoanVwxA4lgXt9HgE0BSSZ2AJuIbQAMJih9jjiNA5q4l5INuK0AwTKYKRj0zQNv5fmq8/DpAaCJseHrtQkB/+zpwzoxKQM3MzMzMeFJAZmZmZmZqWEAAAAAAAFxeQM3MzMzMJmJAmpmZmZkfZUBmZmZmZhhoQDMzMzMzEWtAAAAAAAAKbkBmZmZmZoFwQM3MzMzM/XFAMzMzMzN6c0CamZmZmfZ0QAAAAAAAc3ZAZmZmZmbvd0DNzMzMzGt5QDMzMzMz6HpAmpmZmZlkfEAAAAAAAOF9QGZmZmZmXX9AZmZmZuZsgECamZmZGSuBQM3MzMxM6YFAAAAAAICngkAzMzMzs2WDQGZmZmbmI4RAmpmZmRnihEDNzMzMTKCFQAAAAACAXoZAMzMzM7Mch0BmZmZm5tqHQJqZmZkZmYhAzczMzExXiUAAAAAAgBWKQDMzMzOz04pAZmZmZuaRi0CamZmZGVCMQM3MzMxMDo1AAAAAAIDMjUAzMzMzs4qOQGZmZmbmSI9A\",\"dtype\":\"float64\",\"shape\":[75]}}},\"id\":\"9803eb92-3a4b-4bf1-89e4-115020b2dbb3\",\"type\":\"ColumnDataSource\"},{\"attributes\":{\"axis_label\":\"pressure [mb]\",\"formatter\":{\"id\":\"0be69090-f50c-4fe2-a123-90bca399f481\",\"type\":\"LogTickFormatter\"},\"plot\":{\"id\":\"3f97dfbf-10aa-4ed6-8d6c-21e854ddb68c\",\"subtype\":\"Figure\",\"type\":\"Plot\"},\"ticker\":{\"id\":\"444b85e4-7c1b-48bd-80d3-7ebcf0d30a40\",\"type\":\"LogTicker\"}},\"id\":\"8b659a45-d753-4678-bb85-77c48ad60afa\",\"type\":\"LogAxis\"},{\"attributes\":{},\"id\":\"a43bf23c-20ad-42b2-b13e-cdcde057691a\",\"type\":\"WheelZoomTool\"},{\"attributes\":{\"source\":{\"id\":\"7c7fc837-d38a-4bd1-9d4e-40a81f7e1214\",\"type\":\"ColumnDataSource\"}},\"id\":\"08aab552-ce03-4c75-9b7c-b9aae2e50201\",\"type\":\"CDSView\"},{\"attributes\":{\"callback\":null,\"column_names\":[\"x\",\"y\"],\"data\":{\"x\":{\"__ndarray__\":\"uocTvzqzcr/VKbiklqlyv+jMiNa7lHK/axAwuyp+cr/87qneEmdyv1FaUsp4T3K/QzKmmVw3cr/j7XH4vh5yv4d8Z2KgBXK/N9gJIwXscb8e0P+W89Fxv8ocrRxxt3G/rZvUTIWccb8CwF6NZn9xv5IZuwIiJHG/OBz2eKoOcL8mZOCzh1Nsv12oGzAYeGe/8W4zvU5vYb9mw/WDFQJUv4XoPlpwLR6/YmcnFyzbUz9rUuOE1vpjP3JbZHyN3WQ/wnsWnY/fWT8h2Nsqd5c9P8amZR+XF0O/qW8beaBWWL8xsD/m0lpiv/KtG/Bqkme/bZQTOwM0bL80NZFhqhxwv+TuX5jNlXG/idICXmSOcr9BIZNwR1Zzv/1pF9pP+3O/CL+IinVJdL8xm0oH7m50v9hLGOtpcHS/Ok2Tz3NPdL/TomD8K6Fzvw1Z7TqMa3K/dhYtX58Jcb+yGUD1mBNvv90ND1LRB2y/hk5oRoHtaL8SLp5hdeJlv3v+7LLcrGK/NDJTUA3YXr/Zm02EY09Yv8Kww+ETzlG/XERJsSFBR7/z+QW1bW80v1+SEdRx4RM/PbkKXbQfPj+4blHbXTFLP5yN3G3z01M/FDgdbQoXWj+p6i8FtSlgPzMF0zajQmM//u8oT4k9Zj9N5WFfumJpP7//xLzWe2w/WGfPOcWQbz8iqvKxwkNxPxKJ5X7ex3I/1l0DGJtBdD/qP2t+/KV1P0JBFlLY5nY/WCE3lPkGeD8ZzZbgVxt5P7LHucXrHno/88eNSsUZez8BXGYbswF8P0QxTDkl+Hw/\",\"dtype\":\"float64\",\"shape\":[75]},\"y\":{\"__ndarray__\":\"GhExyth1ND/Sv8nbtpRIP2vylNV0PVE/aTum7souWD/At0SJ8fVgPw3Iuahxymc/MSNhhJWvcD/bTfBN02d3P2zb5nxnaoA/CD5h5MAGhz8NmeH1TyaQP+zrCsc9p5Y/LbKd76fGnz/bLW5ISEmmPww9YvTcQq8/JV2OstnstT8Er5Y7M8G+P0c+r3jqkcU/5h99k6ZBzj88bCIzFzjVP4enV8oyxN0//yH99nXg5D8qOpLLf0jtP5kqGJXUifQ/c9cS8kHP/D+/DpwzojQEQIEmwoanVwxA4lgXt9HgE0BSSZ2AJuIbQAMJih9jjiNA5q4l5INuK0AwTKYKRj0zQNv5fmq8/DpAaCJseHrtQkB/+zpwzoxKQM3MzMzMeFJAZmZmZmZqWEAAAAAAAFxeQM3MzMzMJmJAmpmZmZkfZUBmZmZmZhhoQDMzMzMzEWtAAAAAAAAKbkBmZmZmZoFwQM3MzMzM/XFAMzMzMzN6c0CamZmZmfZ0QAAAAAAAc3ZAZmZmZmbvd0DNzMzMzGt5QDMzMzMz6HpAmpmZmZlkfEAAAAAAAOF9QGZmZmZmXX9AZmZmZuZsgECamZmZGSuBQM3MzMxM6YFAAAAAAICngkAzMzMzs2WDQGZmZmbmI4RAmpmZmRnihEDNzMzMTKCFQAAAAACAXoZAMzMzM7Mch0BmZmZm5tqHQJqZmZkZmYhAzczMzExXiUAAAAAAgBWKQDMzMzOz04pAZmZmZuaRi0CamZmZGVCMQM3MzMxMDo1AAAAAAIDMjUAzMzMzs4qOQGZmZmbmSI9A\",\"dtype\":\"float64\",\"shape\":[75]}}},\"id\":\"5affb4e3-aff7-484f-a355-5c8544068885\",\"type\":\"ColumnDataSource\"},{\"attributes\":{\"overlay\":{\"id\":\"ca17e09f-91b9-4685-8b90-93072b4adf6d\",\"type\":\"BoxAnnotation\"}},\"id\":\"1b22c7cb-1705-4a9c-8b15-55ab253d29d1\",\"type\":\"BoxZoomTool\"},{\"attributes\":{\"line_alpha\":0.6,\"line_color\":\"#e41a1c\",\"line_dash\":[6],\"line_width\":5,\"x\":{\"field\":\"x\"},\"y\":{\"field\":\"y\"}},\"id\":\"a934fc96-c551-437f-b0c3-7146be9f60be\",\"type\":\"Line\"},{\"attributes\":{\"bottom_units\":\"screen\",\"fill_alpha\":{\"value\":0.5},\"fill_color\":{\"value\":\"lightgrey\"},\"left_units\":\"screen\",\"level\":\"overlay\",\"line_alpha\":{\"value\":1.0},\"line_color\":{\"value\":\"black\"},\"line_dash\":[4,4],\"line_width\":{\"value\":2},\"plot\":null,\"render_mode\":\"css\",\"right_units\":\"screen\",\"top_units\":\"screen\"},\"id\":\"ca17e09f-91b9-4685-8b90-93072b4adf6d\",\"type\":\"BoxAnnotation\"},{\"attributes\":{\"fill_alpha\":{\"value\":0.7},\"fill_color\":{\"value\":\"#984ea3\"},\"line_alpha\":{\"value\":0.7},\"line_color\":{\"value\":\"#984ea3\"},\"x\":{\"field\":\"x\"},\"y\":{\"field\":\"y\"}},\"id\":\"00a6683c-46e8-433c-ba36-e86422756432\",\"type\":\"Square\"},{\"attributes\":{\"plot\":null,\"text\":\"Log pressure scale\"},\"id\":\"ba4df03f-d70f-408a-a745-f69de83b02ea\",\"type\":\"Title\"},{\"attributes\":{\"fill_alpha\":{\"value\":0.1},\"fill_color\":{\"value\":\"#1f77b4\"},\"line_alpha\":{\"value\":0.1},\"line_color\":{\"value\":\"#1f77b4\"},\"x\":{\"field\":\"x\"},\"y\":{\"field\":\"y\"}},\"id\":\"ba7f5b83-fefd-4fbb-b1d1-fe4a3d42cf5d\",\"type\":\"Square\"},{\"attributes\":{\"source\":{\"id\":\"5affb4e3-aff7-484f-a355-5c8544068885\",\"type\":\"ColumnDataSource\"}},\"id\":\"462b7ccc-48f4-4152-95e9-d018380d14a6\",\"type\":\"CDSView\"},{\"attributes\":{\"data_source\":{\"id\":\"7c7fc837-d38a-4bd1-9d4e-40a81f7e1214\",\"type\":\"ColumnDataSource\"},\"glyph\":{\"id\":\"4fa0dd24-8a1b-4467-8bd6-f018b94ac229\",\"type\":\"Circle\"},\"hover_glyph\":null,\"muted_glyph\":null,\"nonselection_glyph\":{\"id\":\"38571f06-23a2-4e40-aac9-4bf3e81d5430\",\"type\":\"Circle\"},\"selection_glyph\":null,\"view\":{\"id\":\"08aab552-ce03-4c75-9b7c-b9aae2e50201\",\"type\":\"CDSView\"}},\"id\":\"62b64072-654e-4155-a04b-325538863444\",\"type\":\"GlyphRenderer\"},{\"attributes\":{\"below\":[{\"id\":\"93f49cc2-3cd0-42e5-a183-9b06564fce17\",\"type\":\"LinearAxis\"}],\"left\":[{\"id\":\"8b659a45-d753-4678-bb85-77c48ad60afa\",\"type\":\"LogAxis\"}],\"plot_height\":500,\"plot_width\":560,\"renderers\":[{\"id\":\"93f49cc2-3cd0-42e5-a183-9b06564fce17\",\"type\":\"LinearAxis\"},{\"id\":\"a0241fe4-2992-4079-9c27-dc3c40c2d6bc\",\"type\":\"Grid\"},{\"id\":\"8b659a45-d753-4678-bb85-77c48ad60afa\",\"type\":\"LogAxis\"},{\"id\":\"fc55e341-2599-4e05-8398-7ed01f46dd23\",\"type\":\"Grid\"},{\"id\":\"ca17e09f-91b9-4685-8b90-93072b4adf6d\",\"type\":\"BoxAnnotation\"},{\"id\":\"68faa10e-b0e8-4cb3-951b-cdffdfdd7b1f\",\"type\":\"GlyphRenderer\"},{\"id\":\"576c957e-0f2e-43a9-9268-ab5e2d0b29ec\",\"type\":\"GlyphRenderer\"},{\"id\":\"015c626e-12df-48b0-a46d-aa96fe7ec489\",\"type\":\"GlyphRenderer\"},{\"id\":\"d66c3d79-31b3-4568-91fc-133e3e366ffc\",\"type\":\"GlyphRenderer\"},{\"id\":\"fd4f8824-a165-4f44-924c-09d4a2322bdc\",\"type\":\"GlyphRenderer\"},{\"id\":\"12444293-659c-41ec-8dd5-c8373591c2a8\",\"type\":\"Legend\"}],\"right\":[{\"id\":\"12444293-659c-41ec-8dd5-c8373591c2a8\",\"type\":\"Legend\"}],\"title\":{\"id\":\"ba4df03f-d70f-408a-a745-f69de83b02ea\",\"type\":\"Title\"},\"toolbar\":{\"id\":\"1ca05340-69cc-496c-af86-1b9fc1046554\",\"type\":\"Toolbar\"},\"toolbar_location\":null,\"x_range\":{\"id\":\"04783132-a2dc-468d-a84c-b8665a73f34a\",\"type\":\"Range1d\"},\"x_scale\":{\"id\":\"04ef3dfb-917e-4313-b844-a38f7763f484\",\"type\":\"LinearScale\"},\"y_range\":{\"id\":\"5571f533-31bf-400a-bbc1-ea37fc9cd63b\",\"type\":\"Range1d\"},\"y_scale\":{\"id\":\"2e25145c-9a13-4ebc-9141-fc5ff8f4e651\",\"type\":\"LogScale\"}},\"id\":\"3f97dfbf-10aa-4ed6-8d6c-21e854ddb68c\",\"subtype\":\"Figure\",\"type\":\"Plot\"},{\"attributes\":{},\"id\":\"064dbc71-f10f-4a30-acda-48a001852240\",\"type\":\"BasicTicker\"},{\"attributes\":{\"num_minor_ticks\":10},\"id\":\"444b85e4-7c1b-48bd-80d3-7ebcf0d30a40\",\"type\":\"LogTicker\"},{\"attributes\":{},\"id\":\"0d012b41-98ab-4eb4-9159-96b523f76be2\",\"type\":\"LinearScale\"},{\"attributes\":{},\"id\":\"89ff43ed-9ae4-4db4-a1c1-091e12904fc9\",\"type\":\"LinearScale\"},{\"attributes\":{\"fill_alpha\":{\"value\":0.1},\"fill_color\":{\"value\":\"#1f77b4\"},\"line_alpha\":{\"value\":0.1},\"line_color\":{\"value\":\"#1f77b4\"},\"x\":{\"field\":\"x\"},\"y\":{\"field\":\"y\"}},\"id\":\"38571f06-23a2-4e40-aac9-4bf3e81d5430\",\"type\":\"Circle\"},{\"attributes\":{\"children\":[{\"id\":\"1b3061bf-9964-4410-b95c-00e2d349f598\",\"subtype\":\"Figure\",\"type\":\"Plot\"},{\"id\":\"3f97dfbf-10aa-4ed6-8d6c-21e854ddb68c\",\"subtype\":\"Figure\",\"type\":\"Plot\"}]},\"id\":\"19040aaa-c584-4ebf-a907-e4dc3449f5d6\",\"type\":\"Row\"},{\"attributes\":{\"tools\":[{\"id\":\"a93f51ca-8115-42a1-a18c-41eea79bf056\",\"type\":\"PanTool\"},{\"id\":\"4f41f27e-325d-4d1f-a851-908dce47e24d\",\"type\":\"WheelZoomTool\"},{\"id\":\"325ee031-587a-49e1-b347-fe49c09bb718\",\"type\":\"BoxZoomTool\"},{\"id\":\"8cd213a4-e40b-497a-821a-9472ce889652\",\"type\":\"SaveTool\"},{\"id\":\"95df0c48-99f5-48aa-adf2-7f65f337a5bf\",\"type\":\"ResetTool\"},{\"id\":\"9a27bed4-34a3-4d72-856f-827abecdeb6d\",\"type\":\"HelpTool\"},{\"id\":\"6be6a6c2-f295-464f-9acf-696eb817b793\",\"type\":\"PanTool\"},{\"id\":\"a43bf23c-20ad-42b2-b13e-cdcde057691a\",\"type\":\"WheelZoomTool\"},{\"id\":\"1b22c7cb-1705-4a9c-8b15-55ab253d29d1\",\"type\":\"BoxZoomTool\"},{\"id\":\"6c4e2d32-558c-4b2d-bacf-28fa39a113d5\",\"type\":\"SaveTool\"},{\"id\":\"cd0564e2-95a5-44e9-9135-892c719ff427\",\"type\":\"ResetTool\"},{\"id\":\"9833b848-f9db-49c3-adbd-15235a62d13d\",\"type\":\"HelpTool\"}]},\"id\":\"2a59141d-ea0f-4d84-a546-0cee973f4eee\",\"type\":\"ProxyToolbar\"},{\"attributes\":{},\"id\":\"02440fec-2f5c-467e-8b37-b27a61f25ca7\",\"type\":\"BasicTickFormatter\"},{\"attributes\":{\"line_alpha\":0.1,\"line_color\":\"#1f77b4\",\"line_width\":1.5,\"x\":{\"field\":\"x\"},\"y\":{\"field\":\"y\"}},\"id\":\"9556ada5-231c-4b82-84f0-6d31f26db93e\",\"type\":\"Line\"},{\"attributes\":{},\"id\":\"4f41f27e-325d-4d1f-a851-908dce47e24d\",\"type\":\"WheelZoomTool\"},{\"attributes\":{},\"id\":\"95df0c48-99f5-48aa-adf2-7f65f337a5bf\",\"type\":\"ResetTool\"},{\"attributes\":{},\"id\":\"2e25145c-9a13-4ebc-9141-fc5ff8f4e651\",\"type\":\"LogScale\"},{\"attributes\":{},\"id\":\"781366ff-98b4-4760-a1a0-4d434feac897\",\"type\":\"BasicTicker\"},{\"attributes\":{\"axis_label\":\"cooling rate [K/day]\",\"formatter\":{\"id\":\"264bfc1a-1d41-4713-8590-7dd5705ab593\",\"type\":\"BasicTickFormatter\"},\"plot\":{\"id\":\"3f97dfbf-10aa-4ed6-8d6c-21e854ddb68c\",\"subtype\":\"Figure\",\"type\":\"Plot\"},\"ticker\":{\"id\":\"064dbc71-f10f-4a30-acda-48a001852240\",\"type\":\"BasicTicker\"}},\"id\":\"93f49cc2-3cd0-42e5-a183-9b06564fce17\",\"type\":\"LinearAxis\"},{\"attributes\":{},\"id\":\"a93f51ca-8115-42a1-a18c-41eea79bf056\",\"type\":\"PanTool\"},{\"attributes\":{\"callback\":null,\"end\":0.00719321346,\"start\":-0.00511064466},\"id\":\"6ace96bd-69ff-42d0-bea3-fce30e769aa4\",\"type\":\"Range1d\"},{\"attributes\":{\"active_drag\":\"auto\",\"active_inspect\":\"auto\",\"active_scroll\":\"auto\",\"active_tap\":\"auto\",\"tools\":[{\"id\":\"a93f51ca-8115-42a1-a18c-41eea79bf056\",\"type\":\"PanTool\"},{\"id\":\"4f41f27e-325d-4d1f-a851-908dce47e24d\",\"type\":\"WheelZoomTool\"},{\"id\":\"325ee031-587a-49e1-b347-fe49c09bb718\",\"type\":\"BoxZoomTool\"},{\"id\":\"8cd213a4-e40b-497a-821a-9472ce889652\",\"type\":\"SaveTool\"},{\"id\":\"95df0c48-99f5-48aa-adf2-7f65f337a5bf\",\"type\":\"ResetTool\"},{\"id\":\"9a27bed4-34a3-4d72-856f-827abecdeb6d\",\"type\":\"HelpTool\"}]},\"id\":\"3b85ced5-41a1-4156-ae7d-fd51b67db739\",\"type\":\"Toolbar\"},{\"attributes\":{\"line_alpha\":0.1,\"line_color\":\"#1f77b4\",\"line_dash\":[6],\"line_width\":5,\"x\":{\"field\":\"x\"},\"y\":{\"field\":\"y\"}},\"id\":\"c8fa079d-0ff8-49a8-9ff4-eb8fb9bec327\",\"type\":\"Line\"},{\"attributes\":{},\"id\":\"9a27bed4-34a3-4d72-856f-827abecdeb6d\",\"type\":\"HelpTool\"},{\"attributes\":{\"axis_label\":\"cooling rate [K/day]\",\"formatter\":{\"id\":\"02440fec-2f5c-467e-8b37-b27a61f25ca7\",\"type\":\"BasicTickFormatter\"},\"plot\":{\"id\":\"1b3061bf-9964-4410-b95c-00e2d349f598\",\"subtype\":\"Figure\",\"type\":\"Plot\"},\"ticker\":{\"id\":\"781366ff-98b4-4760-a1a0-4d434feac897\",\"type\":\"BasicTicker\"}},\"id\":\"b9b5b9c1-9ab5-4909-a205-a485078125d5\",\"type\":\"LinearAxis\"},{\"attributes\":{\"overlay\":{\"id\":\"fa71e492-14af-47a6-a638-6f18bb1f29a9\",\"type\":\"BoxAnnotation\"}},\"id\":\"325ee031-587a-49e1-b347-fe49c09bb718\",\"type\":\"BoxZoomTool\"},{\"attributes\":{\"bottom_units\":\"screen\",\"fill_alpha\":{\"value\":0.5},\"fill_color\":{\"value\":\"lightgrey\"},\"left_units\":\"screen\",\"level\":\"overlay\",\"line_alpha\":{\"value\":1.0},\"line_color\":{\"value\":\"black\"},\"line_dash\":[4,4],\"line_width\":{\"value\":2},\"plot\":null,\"render_mode\":\"css\",\"right_units\":\"screen\",\"top_units\":\"screen\"},\"id\":\"fa71e492-14af-47a6-a638-6f18bb1f29a9\",\"type\":\"BoxAnnotation\"},{\"attributes\":{\"dimension\":1,\"plot\":{\"id\":\"1b3061bf-9964-4410-b95c-00e2d349f598\",\"subtype\":\"Figure\",\"type\":\"Plot\"},\"ticker\":{\"id\":\"8772d9db-2eab-4a4d-8fda-5486721288ef\",\"type\":\"BasicTicker\"}},\"id\":\"36c9bff1-51d6-41d2-9fa4-15f42cc7418b\",\"type\":\"Grid\"},{\"attributes\":{\"axis_label\":\"pressure [mb]\",\"formatter\":{\"id\":\"92f7a89c-2451-4fa3-86e4-4d27bcb539a5\",\"type\":\"BasicTickFormatter\"},\"plot\":{\"id\":\"1b3061bf-9964-4410-b95c-00e2d349f598\",\"subtype\":\"Figure\",\"type\":\"Plot\"},\"ticker\":{\"id\":\"8772d9db-2eab-4a4d-8fda-5486721288ef\",\"type\":\"BasicTicker\"}},\"id\":\"08dfd0c8-4d11-4be7-a5a4-cde88bebade7\",\"type\":\"LinearAxis\"},{\"attributes\":{},\"id\":\"8cd213a4-e40b-497a-821a-9472ce889652\",\"type\":\"SaveTool\"},{\"attributes\":{\"label\":{\"value\":\"CRD\"},\"renderers\":[{\"id\":\"576c957e-0f2e-43a9-9268-ab5e2d0b29ec\",\"type\":\"GlyphRenderer\"},{\"id\":\"015c626e-12df-48b0-a46d-aa96fe7ec489\",\"type\":\"GlyphRenderer\"}]},\"id\":\"5a28daa0-ef14-4e98-8164-4a1f2e6d4dcb\",\"type\":\"LegendItem\"},{\"attributes\":{\"callback\":null,\"column_names\":[\"x\",\"y\"],\"data\":{\"x\":{\"__ndarray__\":\"d58HIR4VcL/51oz3H+xvv3oCrBB5BHC/xKIXbm/pb79+IgssksNvv6bfqXNRnG+/5LTcH4x0b7/Uiu+DbEtvv5UMY3+XIW+/lrk69QH3br8VAXzerspuv1JwBjV7nW6/VVLBBl9vbr/ntY0TYzhuvzQAqN4ymW2/08x+0L/Ma7/7uJbGuK1ov3lQC0g0pmS/1JbMBpg/X7+zxxk4GNlSv2pMAzDB2y2/k3hDxLXSTD8zhVvx3idfPwMZMZfDU2A/g1ZrX4NwUz9Tt/TSAwEwP8LZmZfYVkS/0ArGqHaEVr/5Yrv4bG9gvzR7oYNc0GS/mNcQq2auaL9QI+gJdgVsv1ngS6O5dW6/98ZTQRMJcL+aqjq25a1wv9Y3eyJyM3G/dUaJFk9vcb+yHwOkP3Vxvw/+90AoeHG/0zLP2ypZcb/N9wxXOcNwv9QnCeYAam+/vMMcLsEDbb850+byvYNqv383CDOg8Ge/K2opCr9OZb+bNmdt6KBivyAiQfI/0l+/NTduxuxSWr/J4WVfWMtUv2tmlMPzhk6/koeOeweLQ79pZaqh7FIxv5gUeo5m1BA/VA2/FUuXOT9IBnhLZHFHP/ypgKKKB1E/FPR9ys9TVj+GWjp7M55bP34uIX5BdGA/88rnsJEYYz+ttrCgiLtlP7vYrisKXWg/2WFz5kP9aj/XyXn8Z5htP5gGX0cFFnA/1jbpYPtVcT+JoT1kb4VyP5UpuDEcnHM/Jga3rDiZdD/Fx1Z42IJ1P/K9JZKGYHY/w0FJ4FI3dz+IFxCO3Al4P3rsXNFc2Xg/\",\"dtype\":\"float64\",\"shape\":[75]},\"y\":{\"__ndarray__\":\"S/O/Q+51ND/Sv8nbtpRIP2vylNV0PVE/aTum7souWD/At0SJ8fVgPw3Iuahxymc/MSNhhJWvcD/bTfBN02d3P2zb5nxnaoA/CD5h5MAGhz8NmeH1TyaQP+zrCsc9p5Y/LbKd76fGnz/bLW5ISEmmPww9YvTcQq8/JV2OstnstT8Er5Y7M8G+P0c+r3jqkcU/5h99k6ZBzj88bCIzFzjVP4enV8oyxN0//yH99nXg5D8qOpLLf0jtP5kqGJXUifQ/c9cS8kHP/D+/DpwzojQEQIEmwoanVwxA4lgXt9HgE0BSSZ2AJuIbQAMJih9jjiNA5q4l5INuK0AwTKYKRj0zQNv5fmq8/DpAaCJseHrtQkB/+zpwzoxKQM3MzMzMeFJAZmZmZmZqWEAAAAAAAFxeQM3MzMzMJmJAmpmZmZkfZUBmZmZmZhhoQDMzMzMzEWtAAAAAAAAKbkBmZmZmZoFwQM3MzMzM/XFAMzMzMzN6c0CamZmZmfZ0QAAAAAAAc3ZAZmZmZmbvd0DNzMzMzGt5QDMzMzMz6HpAmpmZmZlkfEAAAAAAAOF9QGZmZmZmXX9AZmZmZuZsgECamZmZGSuBQM3MzMxM6YFAAAAAAICngkAzMzMzs2WDQGZmZmbmI4RAmpmZmRnihEDNzMzMTKCFQAAAAACAXoZAMzMzM7Mch0BmZmZm5tqHQJqZmZkZmYhAzczMzExXiUAAAAAAgBWKQDMzMzOz04pAZmZmZuaRi0CamZmZGVCMQM3MzMxMDo1AAAAAAIDMjUAzMzMzs4qOQGZmZmbmSI9A\",\"dtype\":\"float64\",\"shape\":[75]}}},\"id\":\"1d71d984-3700-4d9b-80e5-187542ca4f4e\",\"type\":\"ColumnDataSource\"},{\"attributes\":{\"callback\":null,\"column_names\":[\"x\",\"y\"],\"data\":{\"x\":{\"__ndarray__\":\"d58HIR4VcL/51oz3H+xvv3oCrBB5BHC/xKIXbm/pb79+IgssksNvv6bfqXNRnG+/5LTcH4x0b7/Uiu+DbEtvv5UMY3+XIW+/lrk69QH3br8VAXzerspuv1JwBjV7nW6/VVLBBl9vbr/ntY0TYzhuvzQAqN4ymW2/08x+0L/Ma7/7uJbGuK1ov3lQC0g0pmS/1JbMBpg/X7+zxxk4GNlSv2pMAzDB2y2/k3hDxLXSTD8zhVvx3idfPwMZMZfDU2A/g1ZrX4NwUz9Tt/TSAwEwP8LZmZfYVkS/0ArGqHaEVr/5Yrv4bG9gvzR7oYNc0GS/mNcQq2auaL9QI+gJdgVsv1ngS6O5dW6/98ZTQRMJcL+aqjq25a1wv9Y3eyJyM3G/dUaJFk9vcb+yHwOkP3Vxvw/+90AoeHG/0zLP2ypZcb/N9wxXOcNwv9QnCeYAam+/vMMcLsEDbb850+byvYNqv383CDOg8Ge/K2opCr9OZb+bNmdt6KBivyAiQfI/0l+/NTduxuxSWr/J4WVfWMtUv2tmlMPzhk6/koeOeweLQ79pZaqh7FIxv5gUeo5m1BA/VA2/FUuXOT9IBnhLZHFHP/ypgKKKB1E/FPR9ys9TVj+GWjp7M55bP34uIX5BdGA/88rnsJEYYz+ttrCgiLtlP7vYrisKXWg/2WFz5kP9aj/XyXn8Z5htP5gGX0cFFnA/1jbpYPtVcT+JoT1kb4VyP5UpuDEcnHM/Jga3rDiZdD/Fx1Z42IJ1P/K9JZKGYHY/w0FJ4FI3dz+IFxCO3Al4P3rsXNFc2Xg/\",\"dtype\":\"float64\",\"shape\":[75]},\"y\":{\"__ndarray__\":\"S/O/Q+51ND/Sv8nbtpRIP2vylNV0PVE/aTum7souWD/At0SJ8fVgPw3Iuahxymc/MSNhhJWvcD/bTfBN02d3P2zb5nxnaoA/CD5h5MAGhz8NmeH1TyaQP+zrCsc9p5Y/LbKd76fGnz/bLW5ISEmmPww9YvTcQq8/JV2OstnstT8Er5Y7M8G+P0c+r3jqkcU/5h99k6ZBzj88bCIzFzjVP4enV8oyxN0//yH99nXg5D8qOpLLf0jtP5kqGJXUifQ/c9cS8kHP/D+/DpwzojQEQIEmwoanVwxA4lgXt9HgE0BSSZ2AJuIbQAMJih9jjiNA5q4l5INuK0AwTKYKRj0zQNv5fmq8/DpAaCJseHrtQkB/+zpwzoxKQM3MzMzMeFJAZmZmZmZqWEAAAAAAAFxeQM3MzMzMJmJAmpmZmZkfZUBmZmZmZhhoQDMzMzMzEWtAAAAAAAAKbkBmZmZmZoFwQM3MzMzM/XFAMzMzMzN6c0CamZmZmfZ0QAAAAAAAc3ZAZmZmZmbvd0DNzMzMzGt5QDMzMzMz6HpAmpmZmZlkfEAAAAAAAOF9QGZmZmZmXX9AZmZmZuZsgECamZmZGSuBQM3MzMxM6YFAAAAAAICngkAzMzMzs2WDQGZmZmbmI4RAmpmZmRnihEDNzMzMTKCFQAAAAACAXoZAMzMzM7Mch0BmZmZm5tqHQJqZmZkZmYhAzczMzExXiUAAAAAAgBWKQDMzMzOz04pAZmZmZuaRi0CamZmZGVCMQM3MzMxMDo1AAAAAAIDMjUAzMzMzs4qOQGZmZmbmSI9A\",\"dtype\":\"float64\",\"shape\":[75]}}},\"id\":\"a4420583-9d4c-4c4c-b5c1-bce8de739f18\",\"type\":\"ColumnDataSource\"},{\"attributes\":{\"plot\":{\"id\":\"1b3061bf-9964-4410-b95c-00e2d349f598\",\"subtype\":\"Figure\",\"type\":\"Plot\"},\"ticker\":{\"id\":\"781366ff-98b4-4760-a1a0-4d434feac897\",\"type\":\"BasicTicker\"}},\"id\":\"58d1a0b0-1494-4119-8ab9-4efd77a99a78\",\"type\":\"Grid\"},{\"attributes\":{\"below\":[{\"id\":\"b9b5b9c1-9ab5-4909-a205-a485078125d5\",\"type\":\"LinearAxis\"}],\"left\":[{\"id\":\"08dfd0c8-4d11-4be7-a5a4-cde88bebade7\",\"type\":\"LinearAxis\"}],\"plot_height\":500,\"plot_width\":400,\"renderers\":[{\"id\":\"b9b5b9c1-9ab5-4909-a205-a485078125d5\",\"type\":\"LinearAxis\"},{\"id\":\"58d1a0b0-1494-4119-8ab9-4efd77a99a78\",\"type\":\"Grid\"},{\"id\":\"08dfd0c8-4d11-4be7-a5a4-cde88bebade7\",\"type\":\"LinearAxis\"},{\"id\":\"36c9bff1-51d6-41d2-9fa4-15f42cc7418b\",\"type\":\"Grid\"},{\"id\":\"fa71e492-14af-47a6-a638-6f18bb1f29a9\",\"type\":\"BoxAnnotation\"},{\"id\":\"4bad1573-1314-4f0b-ab37-f030f84f8c21\",\"type\":\"GlyphRenderer\"},{\"id\":\"62b64072-654e-4155-a04b-325538863444\",\"type\":\"GlyphRenderer\"},{\"id\":\"f6ae5d02-feec-4964-bc33-9685e0601f91\",\"type\":\"GlyphRenderer\"},{\"id\":\"9e3a7930-0bfa-4703-8eeb-120957059849\",\"type\":\"GlyphRenderer\"},{\"id\":\"7a460f83-36d4-4407-a442-35e8f795315b\",\"type\":\"GlyphRenderer\"}],\"title\":{\"id\":\"e3691499-0ce1-47b5-aa25-413aa9decfdb\",\"type\":\"Title\"},\"toolbar\":{\"id\":\"3b85ced5-41a1-4156-ae7d-fd51b67db739\",\"type\":\"Toolbar\"},\"toolbar_location\":null,\"x_range\":{\"id\":\"6ace96bd-69ff-42d0-bea3-fce30e769aa4\",\"type\":\"Range1d\"},\"x_scale\":{\"id\":\"0d012b41-98ab-4eb4-9159-96b523f76be2\",\"type\":\"LinearScale\"},\"y_range\":{\"id\":\"bf8a5fe9-e7dd-48ae-b03c-3ece3b937a6c\",\"type\":\"Range1d\"},\"y_scale\":{\"id\":\"89ff43ed-9ae4-4db4-a1c1-091e12904fc9\",\"type\":\"LinearScale\"}},\"id\":\"1b3061bf-9964-4410-b95c-00e2d349f598\",\"subtype\":\"Figure\",\"type\":\"Plot\"},{\"attributes\":{\"data_source\":{\"id\":\"5affb4e3-aff7-484f-a355-5c8544068885\",\"type\":\"ColumnDataSource\"},\"glyph\":{\"id\":\"00a6683c-46e8-433c-ba36-e86422756432\",\"type\":\"Square\"},\"hover_glyph\":null,\"muted_glyph\":null,\"nonselection_glyph\":{\"id\":\"ba7f5b83-fefd-4fbb-b1d1-fe4a3d42cf5d\",\"type\":\"Square\"},\"selection_glyph\":null,\"view\":{\"id\":\"462b7ccc-48f4-4152-95e9-d018380d14a6\",\"type\":\"CDSView\"}},\"id\":\"9e3a7930-0bfa-4703-8eeb-120957059849\",\"type\":\"GlyphRenderer\"},{\"attributes\":{\"line_alpha\":0.1,\"line_color\":\"#1f77b4\",\"line_width\":3,\"x\":{\"field\":\"x\"},\"y\":{\"field\":\"y\"}},\"id\":\"ef771a24-11a9-46f1-9eb5-354308c8d238\",\"type\":\"Line\"},{\"attributes\":{\"plot\":null,\"text\":\"Linear pressure scale\"},\"id\":\"e3691499-0ce1-47b5-aa25-413aa9decfdb\",\"type\":\"Title\"},{\"attributes\":{\"source\":{\"id\":\"253b201c-c380-4da2-99e9-eaa47561a329\",\"type\":\"ColumnDataSource\"}},\"id\":\"ec93e56d-1f1a-4b61-bcd1-960c637d7251\",\"type\":\"CDSView\"},{\"attributes\":{\"dimension\":1,\"plot\":{\"id\":\"3f97dfbf-10aa-4ed6-8d6c-21e854ddb68c\",\"subtype\":\"Figure\",\"type\":\"Plot\"},\"ticker\":{\"id\":\"444b85e4-7c1b-48bd-80d3-7ebcf0d30a40\",\"type\":\"LogTicker\"}},\"id\":\"fc55e341-2599-4e05-8398-7ed01f46dd23\",\"type\":\"Grid\"},{\"attributes\":{\"active_drag\":\"auto\",\"active_inspect\":\"auto\",\"active_scroll\":\"auto\",\"active_tap\":\"auto\",\"tools\":[{\"id\":\"6be6a6c2-f295-464f-9acf-696eb817b793\",\"type\":\"PanTool\"},{\"id\":\"a43bf23c-20ad-42b2-b13e-cdcde057691a\",\"type\":\"WheelZoomTool\"},{\"id\":\"1b22c7cb-1705-4a9c-8b15-55ab253d29d1\",\"type\":\"BoxZoomTool\"},{\"id\":\"6c4e2d32-558c-4b2d-bacf-28fa39a113d5\",\"type\":\"SaveTool\"},{\"id\":\"cd0564e2-95a5-44e9-9135-892c719ff427\",\"type\":\"ResetTool\"},{\"id\":\"9833b848-f9db-49c3-adbd-15235a62d13d\",\"type\":\"HelpTool\"}]},\"id\":\"1ca05340-69cc-496c-af86-1b9fc1046554\",\"type\":\"Toolbar\"},{\"attributes\":{\"line_alpha\":0.6,\"line_color\":\"#e41a1c\",\"line_dash\":[6],\"line_width\":5,\"x\":{\"field\":\"x\"},\"y\":{\"field\":\"y\"}},\"id\":\"b8d89dd3-6e43-4516-b893-13a43e9c189a\",\"type\":\"Line\"},{\"attributes\":{\"data_source\":{\"id\":\"9803eb92-3a4b-4bf1-89e4-115020b2dbb3\",\"type\":\"ColumnDataSource\"},\"glyph\":{\"id\":\"0350cbd2-adf9-4927-91da-6b36e5bbeae0\",\"type\":\"Line\"},\"hover_glyph\":null,\"muted_glyph\":null,\"nonselection_glyph\":{\"id\":\"ef771a24-11a9-46f1-9eb5-354308c8d238\",\"type\":\"Line\"},\"selection_glyph\":null,\"view\":{\"id\":\"9c86c85d-e3ac-4e13-92e0-41595cbb490d\",\"type\":\"CDSView\"}},\"id\":\"7a460f83-36d4-4407-a442-35e8f795315b\",\"type\":\"GlyphRenderer\"},{\"attributes\":{},\"id\":\"04ef3dfb-917e-4313-b844-a38f7763f484\",\"type\":\"LinearScale\"},{\"attributes\":{\"data_source\":{\"id\":\"1d71d984-3700-4d9b-80e5-187542ca4f4e\",\"type\":\"ColumnDataSource\"},\"glyph\":{\"id\":\"a934fc96-c551-437f-b0c3-7146be9f60be\",\"type\":\"Line\"},\"hover_glyph\":null,\"muted_glyph\":null,\"nonselection_glyph\":{\"id\":\"c8fa079d-0ff8-49a8-9ff4-eb8fb9bec327\",\"type\":\"Line\"},\"selection_glyph\":null,\"view\":{\"id\":\"91123802-a199-454a-a5ec-132c8a284257\",\"type\":\"CDSView\"}},\"id\":\"68faa10e-b0e8-4cb3-951b-cdffdfdd7b1f\",\"type\":\"GlyphRenderer\"},{\"attributes\":{\"callback\":null,\"column_names\":[\"x\",\"y\"],\"data\":{\"x\":{\"__ndarray__\":\"hzmVUYuWYr8SW/DUMoFiv5IaBu8MU2K/gC9CxtUgYr+t8ZfrdO1hv3e7ww4ouWG/wkc77AmEYb/5gOywY05hvyAHjtROF2G/6J1dklDgYL8fNV0Ad6hgv4Nsgxlmb2C/4UndXmo1YL+x29CdM+xfvwpOd/l6YF6/38UpYceyWb/Z5G1/x6RRv5f2MyLHkz2/Zx7IHs4ENT9uayhJoMdUPxM5i/pHz2M/YFRUceoZbz+f3LvxKr50P3FdcawkHXU/71Qt2v3ZcD8E6qCVM9BnP9sGNKjkgl0/kdYm74NrSz8Ogu/Xecn4PpWlwwk6I0a/GIvKeQuTVb9z+WvHT0lfv4Z/5CCgt2O/k3n7YlwZZ7/hieVGNGlqv7hEobKQqm2/X46dPqIMcL+27F37Ottwv24Wpf8CjHG/PD+ormz9cb/3/D+2xMRxv/XVtmHL5HC/yxcNAKmSb7+XbHSCwSttvxmp12uKoGq/jfVqTyv2Z7+I6lB+8DBlvyoWewyvVGK/K58ZkDrLXr8Pg59O985Yv2yh2Mh9xFK/4TxIlcxwSb/gjjRIF8k6vwsAh/QoTAa/oHN0H+gsNT+C10ul5ZVGP23LQ1B8T1E/U/ONU/FZVz+RyWWAZGpdP9CxRjBjwGE/mVxOQlfNZD/XFDIa7NtnP6N8CobP62o/1l7SPCr8bT/BzV6NHoVwPzYXE60pCHI/iyteEACBcz9rBhC0feV0P/A3BhdFLHY/boycy+1Tdz+vv7SGHGR4P+L4i6RXZnk/CMCH6Bphej88+YmGsld7P9r1z+6wS3w/\",\"dtype\":\"float64\",\"shape\":[75]},\"y\":{\"__ndarray__\":\"GhExyth1ND/Sv8nbtpRIP2vylNV0PVE/aTum7souWD/At0SJ8fVgPw3Iuahxymc/MSNhhJWvcD/bTfBN02d3P2zb5nxnaoA/CD5h5MAGhz8NmeH1TyaQP+zrCsc9p5Y/LbKd76fGnz/bLW5ISEmmPww9YvTcQq8/JV2OstnstT8Er5Y7M8G+P0c+r3jqkcU/5h99k6ZBzj88bCIzFzjVP4enV8oyxN0//yH99nXg5D8qOpLLf0jtP5kqGJXUifQ/c9cS8kHP/D+/DpwzojQEQIEmwoanVwxA4lgXt9HgE0BSSZ2AJuIbQAMJih9jjiNA5q4l5INuK0AwTKYKRj0zQNv5fmq8/DpAaCJseHrtQkB/+zpwzoxKQM3MzMzMeFJAZmZmZmZqWEAAAAAAAFxeQM3MzMzMJmJAmpmZmZkfZUBmZmZmZhhoQDMzMzMzEWtAAAAAAAAKbkBmZmZmZoFwQM3MzMzM/XFAMzMzMzN6c0CamZmZmfZ0QAAAAAAAc3ZAZmZmZmbvd0DNzMzMzGt5QDMzMzMz6HpAmpmZmZlkfEAAAAAAAOF9QGZmZmZmXX9AZmZmZuZsgECamZmZGSuBQM3MzMxM6YFAAAAAAICngkAzMzMzs2WDQGZmZmbmI4RAmpmZmRnihEDNzMzMTKCFQAAAAACAXoZAMzMzM7Mch0BmZmZm5tqHQJqZmZkZmYhAzczMzExXiUAAAAAAgBWKQDMzMzOz04pAZmZmZuaRi0CamZmZGVCMQM3MzMxMDo1AAAAAAIDMjUAzMzMzs4qOQGZmZmbmSI9A\",\"dtype\":\"float64\",\"shape\":[75]}}},\"id\":\"7c7fc837-d38a-4bd1-9d4e-40a81f7e1214\",\"type\":\"ColumnDataSource\"},{\"attributes\":{\"source\":{\"id\":\"1d71d984-3700-4d9b-80e5-187542ca4f4e\",\"type\":\"ColumnDataSource\"}},\"id\":\"91123802-a199-454a-a5ec-132c8a284257\",\"type\":\"CDSView\"},{\"attributes\":{\"fill_alpha\":{\"value\":0.1},\"fill_color\":{\"value\":\"#1f77b4\"},\"line_alpha\":{\"value\":0.1},\"line_color\":{\"value\":\"#1f77b4\"},\"x\":{\"field\":\"x\"},\"y\":{\"field\":\"y\"}},\"id\":\"c883fd21-3f93-4d2d-80b7-5fbddfce5849\",\"type\":\"Circle\"},{\"attributes\":{\"callback\":null,\"column_names\":[\"x\",\"y\"],\"data\":{\"x\":{\"__ndarray__\":\"uocTvzqzcr/VKbiklqlyv+jMiNa7lHK/axAwuyp+cr/87qneEmdyv1FaUsp4T3K/QzKmmVw3cr/j7XH4vh5yv4d8Z2KgBXK/N9gJIwXscb8e0P+W89Fxv8ocrRxxt3G/rZvUTIWccb8CwF6NZn9xv5IZuwIiJHG/OBz2eKoOcL8mZOCzh1Nsv12oGzAYeGe/8W4zvU5vYb9mw/WDFQJUv4XoPlpwLR6/YmcnFyzbUz9rUuOE1vpjP3JbZHyN3WQ/wnsWnY/fWT8h2Nsqd5c9P8amZR+XF0O/qW8beaBWWL8xsD/m0lpiv/KtG/Bqkme/bZQTOwM0bL80NZFhqhxwv+TuX5jNlXG/idICXmSOcr9BIZNwR1Zzv/1pF9pP+3O/CL+IinVJdL8xm0oH7m50v9hLGOtpcHS/Ok2Tz3NPdL/TomD8K6Fzvw1Z7TqMa3K/dhYtX58Jcb+yGUD1mBNvv90ND1LRB2y/hk5oRoHtaL8SLp5hdeJlv3v+7LLcrGK/NDJTUA3YXr/Zm02EY09Yv8Kww+ETzlG/XERJsSFBR7/z+QW1bW80v1+SEdRx4RM/PbkKXbQfPj+4blHbXTFLP5yN3G3z01M/FDgdbQoXWj+p6i8FtSlgPzMF0zajQmM//u8oT4k9Zj9N5WFfumJpP7//xLzWe2w/WGfPOcWQbz8iqvKxwkNxPxKJ5X7ex3I/1l0DGJtBdD/qP2t+/KV1P0JBFlLY5nY/WCE3lPkGeD8ZzZbgVxt5P7LHucXrHno/88eNSsUZez8BXGYbswF8P0QxTDkl+Hw/\",\"dtype\":\"float64\",\"shape\":[75]},\"y\":{\"__ndarray__\":\"GhExyth1ND/Sv8nbtpRIP2vylNV0PVE/aTum7souWD/At0SJ8fVgPw3Iuahxymc/MSNhhJWvcD/bTfBN02d3P2zb5nxnaoA/CD5h5MAGhz8NmeH1TyaQP+zrCsc9p5Y/LbKd76fGnz/bLW5ISEmmPww9YvTcQq8/JV2OstnstT8Er5Y7M8G+P0c+r3jqkcU/5h99k6ZBzj88bCIzFzjVP4enV8oyxN0//yH99nXg5D8qOpLLf0jtP5kqGJXUifQ/c9cS8kHP/D+/DpwzojQEQIEmwoanVwxA4lgXt9HgE0BSSZ2AJuIbQAMJih9jjiNA5q4l5INuK0AwTKYKRj0zQNv5fmq8/DpAaCJseHrtQkB/+zpwzoxKQM3MzMzMeFJAZmZmZmZqWEAAAAAAAFxeQM3MzMzMJmJAmpmZmZkfZUBmZmZmZhhoQDMzMzMzEWtAAAAAAAAKbkBmZmZmZoFwQM3MzMzM/XFAMzMzMzN6c0CamZmZmfZ0QAAAAAAAc3ZAZmZmZmbvd0DNzMzMzGt5QDMzMzMz6HpAmpmZmZlkfEAAAAAAAOF9QGZmZmZmXX9AZmZmZuZsgECamZmZGSuBQM3MzMxM6YFAAAAAAICngkAzMzMzs2WDQGZmZmbmI4RAmpmZmRnihEDNzMzMTKCFQAAAAACAXoZAMzMzM7Mch0BmZmZm5tqHQJqZmZkZmYhAzczMzExXiUAAAAAAgBWKQDMzMzOz04pAZmZmZuaRi0CamZmZGVCMQM3MzMxMDo1AAAAAAIDMjUAzMzMzs4qOQGZmZmbmSI9A\",\"dtype\":\"float64\",\"shape\":[75]}}},\"id\":\"b1de907d-809d-46a8-9490-779b891b5fc7\",\"type\":\"ColumnDataSource\"},{\"attributes\":{\"ticker\":null},\"id\":\"0be69090-f50c-4fe2-a123-90bca399f481\",\"type\":\"LogTickFormatter\"},{\"attributes\":{},\"id\":\"92f7a89c-2451-4fa3-86e4-4d27bcb539a5\",\"type\":\"BasicTickFormatter\"},{\"attributes\":{\"line_alpha\":0.1,\"line_color\":\"#1f77b4\",\"line_dash\":[6],\"line_width\":5,\"x\":{\"field\":\"x\"},\"y\":{\"field\":\"y\"}},\"id\":\"57b68cfd-0e32-46c9-aab4-33394bfc8845\",\"type\":\"Line\"},{\"attributes\":{\"data_source\":{\"id\":\"77189e35-0b53-4cee-8941-030f0c3e29b9\",\"type\":\"ColumnDataSource\"},\"glyph\":{\"id\":\"db4bf20a-8c07-4196-a250-c5efa8b9ee66\",\"type\":\"Circle\"},\"hover_glyph\":null,\"muted_glyph\":null,\"nonselection_glyph\":{\"id\":\"c883fd21-3f93-4d2d-80b7-5fbddfce5849\",\"type\":\"Circle\"},\"selection_glyph\":null,\"view\":{\"id\":\"414d1c68-61c9-46eb-bc7e-4f08d2a1fa95\",\"type\":\"CDSView\"}},\"id\":\"576c957e-0f2e-43a9-9268-ab5e2d0b29ec\",\"type\":\"GlyphRenderer\"},{\"attributes\":{},\"id\":\"264bfc1a-1d41-4713-8590-7dd5705ab593\",\"type\":\"BasicTickFormatter\"},{\"attributes\":{\"callback\":null,\"column_names\":[\"x\",\"y\"],\"data\":{\"x\":{\"__ndarray__\":\"hzmVUYuWYr8SW/DUMoFiv5IaBu8MU2K/gC9CxtUgYr+t8ZfrdO1hv3e7ww4ouWG/wkc77AmEYb/5gOywY05hvyAHjtROF2G/6J1dklDgYL8fNV0Ad6hgv4Nsgxlmb2C/4UndXmo1YL+x29CdM+xfvwpOd/l6YF6/38UpYceyWb/Z5G1/x6RRv5f2MyLHkz2/Zx7IHs4ENT9uayhJoMdUPxM5i/pHz2M/YFRUceoZbz+f3LvxKr50P3FdcawkHXU/71Qt2v3ZcD8E6qCVM9BnP9sGNKjkgl0/kdYm74NrSz8Ogu/Xecn4PpWlwwk6I0a/GIvKeQuTVb9z+WvHT0lfv4Z/5CCgt2O/k3n7YlwZZ7/hieVGNGlqv7hEobKQqm2/X46dPqIMcL+27F37Ottwv24Wpf8CjHG/PD+ormz9cb/3/D+2xMRxv/XVtmHL5HC/yxcNAKmSb7+XbHSCwSttvxmp12uKoGq/jfVqTyv2Z7+I6lB+8DBlvyoWewyvVGK/K58ZkDrLXr8Pg59O985Yv2yh2Mh9xFK/4TxIlcxwSb/gjjRIF8k6vwsAh/QoTAa/oHN0H+gsNT+C10ul5ZVGP23LQ1B8T1E/U/ONU/FZVz+RyWWAZGpdP9CxRjBjwGE/mVxOQlfNZD/XFDIa7NtnP6N8CobP62o/1l7SPCr8bT/BzV6NHoVwPzYXE60pCHI/iyteEACBcz9rBhC0feV0P/A3BhdFLHY/boycy+1Tdz+vv7SGHGR4P+L4i6RXZnk/CMCH6Bphej88+YmGsld7P9r1z+6wS3w/\",\"dtype\":\"float64\",\"shape\":[75]},\"y\":{\"__ndarray__\":\"GhExyth1ND/Sv8nbtpRIP2vylNV0PVE/aTum7souWD/At0SJ8fVgPw3Iuahxymc/MSNhhJWvcD/bTfBN02d3P2zb5nxnaoA/CD5h5MAGhz8NmeH1TyaQP+zrCsc9p5Y/LbKd76fGnz/bLW5ISEmmPww9YvTcQq8/JV2OstnstT8Er5Y7M8G+P0c+r3jqkcU/5h99k6ZBzj88bCIzFzjVP4enV8oyxN0//yH99nXg5D8qOpLLf0jtP5kqGJXUifQ/c9cS8kHP/D+/DpwzojQEQIEmwoanVwxA4lgXt9HgE0BSSZ2AJuIbQAMJih9jjiNA5q4l5INuK0AwTKYKRj0zQNv5fmq8/DpAaCJseHrtQkB/+zpwzoxKQM3MzMzMeFJAZmZmZmZqWEAAAAAAAFxeQM3MzMzMJmJAmpmZmZkfZUBmZmZmZhhoQDMzMzMzEWtAAAAAAAAKbkBmZmZmZoFwQM3MzMzM/XFAMzMzMzN6c0CamZmZmfZ0QAAAAAAAc3ZAZmZmZmbvd0DNzMzMzGt5QDMzMzMz6HpAmpmZmZlkfEAAAAAAAOF9QGZmZmZmXX9AZmZmZuZsgECamZmZGSuBQM3MzMxM6YFAAAAAAICngkAzMzMzs2WDQGZmZmbmI4RAmpmZmRnihEDNzMzMTKCFQAAAAACAXoZAMzMzM7Mch0BmZmZm5tqHQJqZmZkZmYhAzczMzExXiUAAAAAAgBWKQDMzMzOz04pAZmZmZuaRi0CamZmZGVCMQM3MzMxMDo1AAAAAAIDMjUAzMzMzs4qOQGZmZmbmSI9A\",\"dtype\":\"float64\",\"shape\":[75]}}},\"id\":\"aae65c6c-f60a-4a4f-afe8-3f9e36258295\",\"type\":\"ColumnDataSource\"},{\"attributes\":{\"callback\":null,\"column_names\":[\"x\",\"y\"],\"data\":{\"x\":{\"__ndarray__\":\"uocTvzqzcr/VKbiklqlyv+jMiNa7lHK/axAwuyp+cr/87qneEmdyv1FaUsp4T3K/QzKmmVw3cr/j7XH4vh5yv4d8Z2KgBXK/N9gJIwXscb8e0P+W89Fxv8ocrRxxt3G/rZvUTIWccb8CwF6NZn9xv5IZuwIiJHG/OBz2eKoOcL8mZOCzh1Nsv12oGzAYeGe/8W4zvU5vYb9mw/WDFQJUv4XoPlpwLR6/YmcnFyzbUz9rUuOE1vpjP3JbZHyN3WQ/wnsWnY/fWT8h2Nsqd5c9P8amZR+XF0O/qW8beaBWWL8xsD/m0lpiv/KtG/Bqkme/bZQTOwM0bL80NZFhqhxwv+TuX5jNlXG/idICXmSOcr9BIZNwR1Zzv/1pF9pP+3O/CL+IinVJdL8xm0oH7m50v9hLGOtpcHS/Ok2Tz3NPdL/TomD8K6Fzvw1Z7TqMa3K/dhYtX58Jcb+yGUD1mBNvv90ND1LRB2y/hk5oRoHtaL8SLp5hdeJlv3v+7LLcrGK/NDJTUA3YXr/Zm02EY09Yv8Kww+ETzlG/XERJsSFBR7/z+QW1bW80v1+SEdRx4RM/PbkKXbQfPj+4blHbXTFLP5yN3G3z01M/FDgdbQoXWj+p6i8FtSlgPzMF0zajQmM//u8oT4k9Zj9N5WFfumJpP7//xLzWe2w/WGfPOcWQbz8iqvKxwkNxPxKJ5X7ex3I/1l0DGJtBdD/qP2t+/KV1P0JBFlLY5nY/WCE3lPkGeD8ZzZbgVxt5P7LHucXrHno/88eNSsUZez8BXGYbswF8P0QxTDkl+Hw/\",\"dtype\":\"float64\",\"shape\":[75]},\"y\":{\"__ndarray__\":\"GhExyth1ND/Sv8nbtpRIP2vylNV0PVE/aTum7souWD/At0SJ8fVgPw3Iuahxymc/MSNhhJWvcD/bTfBN02d3P2zb5nxnaoA/CD5h5MAGhz8NmeH1TyaQP+zrCsc9p5Y/LbKd76fGnz/bLW5ISEmmPww9YvTcQq8/JV2OstnstT8Er5Y7M8G+P0c+r3jqkcU/5h99k6ZBzj88bCIzFzjVP4enV8oyxN0//yH99nXg5D8qOpLLf0jtP5kqGJXUifQ/c9cS8kHP/D+/DpwzojQEQIEmwoanVwxA4lgXt9HgE0BSSZ2AJuIbQAMJih9jjiNA5q4l5INuK0AwTKYKRj0zQNv5fmq8/DpAaCJseHrtQkB/+zpwzoxKQM3MzMzMeFJAZmZmZmZqWEAAAAAAAFxeQM3MzMzMJmJAmpmZmZkfZUBmZmZmZhhoQDMzMzMzEWtAAAAAAAAKbkBmZmZmZoFwQM3MzMzM/XFAMzMzMzN6c0CamZmZmfZ0QAAAAAAAc3ZAZmZmZmbvd0DNzMzMzGt5QDMzMzMz6HpAmpmZmZlkfEAAAAAAAOF9QGZmZmZmXX9AZmZmZuZsgECamZmZGSuBQM3MzMxM6YFAAAAAAICngkAzMzMzs2WDQGZmZmbmI4RAmpmZmRnihEDNzMzMTKCFQAAAAACAXoZAMzMzM7Mch0BmZmZm5tqHQJqZmZkZmYhAzczMzExXiUAAAAAAgBWKQDMzMzOz04pAZmZmZuaRi0CamZmZGVCMQM3MzMxMDo1AAAAAAIDMjUAzMzMzs4qOQGZmZmbmSI9A\",\"dtype\":\"float64\",\"shape\":[75]}}},\"id\":\"ba734406-a19e-4130-aa80-9ff348dd3ac9\",\"type\":\"ColumnDataSource\"},{\"attributes\":{\"callback\":null,\"column_names\":[\"x\",\"y\"],\"data\":{\"x\":{\"__ndarray__\":\"hzmVUYuWYr8SW/DUMoFiv5IaBu8MU2K/gC9CxtUgYr+t8ZfrdO1hv3e7ww4ouWG/wkc77AmEYb/5gOywY05hvyAHjtROF2G/6J1dklDgYL8fNV0Ad6hgv4Nsgxlmb2C/4UndXmo1YL+x29CdM+xfvwpOd/l6YF6/38UpYceyWb/Z5G1/x6RRv5f2MyLHkz2/Zx7IHs4ENT9uayhJoMdUPxM5i/pHz2M/YFRUceoZbz+f3LvxKr50P3FdcawkHXU/71Qt2v3ZcD8E6qCVM9BnP9sGNKjkgl0/kdYm74NrSz8Ogu/Xecn4PpWlwwk6I0a/GIvKeQuTVb9z+WvHT0lfv4Z/5CCgt2O/k3n7YlwZZ7/hieVGNGlqv7hEobKQqm2/X46dPqIMcL+27F37Ottwv24Wpf8CjHG/PD+ormz9cb/3/D+2xMRxv/XVtmHL5HC/yxcNAKmSb7+XbHSCwSttvxmp12uKoGq/jfVqTyv2Z7+I6lB+8DBlvyoWewyvVGK/K58ZkDrLXr8Pg59O985Yv2yh2Mh9xFK/4TxIlcxwSb/gjjRIF8k6vwsAh/QoTAa/oHN0H+gsNT+C10ul5ZVGP23LQ1B8T1E/U/ONU/FZVz+RyWWAZGpdP9CxRjBjwGE/mVxOQlfNZD/XFDIa7NtnP6N8CobP62o/1l7SPCr8bT/BzV6NHoVwPzYXE60pCHI/iyteEACBcz9rBhC0feV0P/A3BhdFLHY/boycy+1Tdz+vv7SGHGR4P+L4i6RXZnk/CMCH6Bphej88+YmGsld7P9r1z+6wS3w/\",\"dtype\":\"float64\",\"shape\":[75]},\"y\":{\"__ndarray__\":\"GhExyth1ND/Sv8nbtpRIP2vylNV0PVE/aTum7souWD/At0SJ8fVgPw3Iuahxymc/MSNhhJWvcD/bTfBN02d3P2zb5nxnaoA/CD5h5MAGhz8NmeH1TyaQP+zrCsc9p5Y/LbKd76fGnz/bLW5ISEmmPww9YvTcQq8/JV2OstnstT8Er5Y7M8G+P0c+r3jqkcU/5h99k6ZBzj88bCIzFzjVP4enV8oyxN0//yH99nXg5D8qOpLLf0jtP5kqGJXUifQ/c9cS8kHP/D+/DpwzojQEQIEmwoanVwxA4lgXt9HgE0BSSZ2AJuIbQAMJih9jjiNA5q4l5INuK0AwTKYKRj0zQNv5fmq8/DpAaCJseHrtQkB/+zpwzoxKQM3MzMzMeFJAZmZmZmZqWEAAAAAAAFxeQM3MzMzMJmJAmpmZmZkfZUBmZmZmZhhoQDMzMzMzEWtAAAAAAAAKbkBmZmZmZoFwQM3MzMzM/XFAMzMzMzN6c0CamZmZmfZ0QAAAAAAAc3ZAZmZmZmbvd0DNzMzMzGt5QDMzMzMz6HpAmpmZmZlkfEAAAAAAAOF9QGZmZmZmXX9AZmZmZuZsgECamZmZGSuBQM3MzMxM6YFAAAAAAICngkAzMzMzs2WDQGZmZmbmI4RAmpmZmRnihEDNzMzMTKCFQAAAAACAXoZAMzMzM7Mch0BmZmZm5tqHQJqZmZkZmYhAzczMzExXiUAAAAAAgBWKQDMzMzOz04pAZmZmZuaRi0CamZmZGVCMQM3MzMxMDo1AAAAAAIDMjUAzMzMzs4qOQGZmZmbmSI9A\",\"dtype\":\"float64\",\"shape\":[75]}}},\"id\":\"77189e35-0b53-4cee-8941-030f0c3e29b9\",\"type\":\"ColumnDataSource\"},{\"attributes\":{\"source\":{\"id\":\"a4420583-9d4c-4c4c-b5c1-bce8de739f18\",\"type\":\"ColumnDataSource\"}},\"id\":\"2da2934b-32fc-4da6-b6b5-c3ecbc7e784c\",\"type\":\"CDSView\"},{\"attributes\":{\"fill_alpha\":{\"value\":0.7},\"fill_color\":{\"value\":\"#4daf4a\"},\"line_alpha\":{\"value\":0.7},\"line_color\":{\"value\":\"#4daf4a\"},\"x\":{\"field\":\"x\"},\"y\":{\"field\":\"y\"}},\"id\":\"db4bf20a-8c07-4196-a250-c5efa8b9ee66\",\"type\":\"Circle\"},{\"attributes\":{\"source\":{\"id\":\"77189e35-0b53-4cee-8941-030f0c3e29b9\",\"type\":\"ColumnDataSource\"}},\"id\":\"414d1c68-61c9-46eb-bc7e-4f08d2a1fa95\",\"type\":\"CDSView\"},{\"attributes\":{\"line_color\":\"#4daf4a\",\"line_width\":1.5,\"x\":{\"field\":\"x\"},\"y\":{\"field\":\"y\"}},\"id\":\"e8ac02ea-0467-4eca-8259-1cfd6c35a84a\",\"type\":\"Line\"},{\"attributes\":{\"line_alpha\":0.1,\"line_color\":\"#1f77b4\",\"line_width\":1.5,\"x\":{\"field\":\"x\"},\"y\":{\"field\":\"y\"}},\"id\":\"9b46e8ba-f6ed-4e25-8b7a-b979c4bbb144\",\"type\":\"Line\"},{\"attributes\":{\"fill_alpha\":{\"value\":0.1},\"fill_color\":{\"value\":\"#1f77b4\"},\"line_alpha\":{\"value\":0.1},\"line_color\":{\"value\":\"#1f77b4\"},\"x\":{\"field\":\"x\"},\"y\":{\"field\":\"y\"}},\"id\":\"c420588d-12f3-48e1-93b6-2b642080a2d9\",\"type\":\"Square\"},{\"attributes\":{\"data_source\":{\"id\":\"aae65c6c-f60a-4a4f-afe8-3f9e36258295\",\"type\":\"ColumnDataSource\"},\"glyph\":{\"id\":\"e8ac02ea-0467-4eca-8259-1cfd6c35a84a\",\"type\":\"Line\"},\"hover_glyph\":null,\"muted_glyph\":null,\"nonselection_glyph\":{\"id\":\"9b46e8ba-f6ed-4e25-8b7a-b979c4bbb144\",\"type\":\"Line\"},\"selection_glyph\":null,\"view\":{\"id\":\"66c27b91-12f7-4954-b05e-cba68acee8c1\",\"type\":\"CDSView\"}},\"id\":\"015c626e-12df-48b0-a46d-aa96fe7ec489\",\"type\":\"GlyphRenderer\"},{\"attributes\":{\"fill_alpha\":{\"value\":0.7},\"fill_color\":{\"value\":\"#4daf4a\"},\"line_alpha\":{\"value\":0.7},\"line_color\":{\"value\":\"#4daf4a\"},\"x\":{\"field\":\"x\"},\"y\":{\"field\":\"y\"}},\"id\":\"4fa0dd24-8a1b-4467-8bd6-f018b94ac229\",\"type\":\"Circle\"},{\"attributes\":{\"source\":{\"id\":\"aae65c6c-f60a-4a4f-afe8-3f9e36258295\",\"type\":\"ColumnDataSource\"}},\"id\":\"66c27b91-12f7-4954-b05e-cba68acee8c1\",\"type\":\"CDSView\"},{\"attributes\":{\"fill_alpha\":{\"value\":0.7},\"fill_color\":{\"value\":\"#984ea3\"},\"line_alpha\":{\"value\":0.7},\"line_color\":{\"value\":\"#984ea3\"},\"x\":{\"field\":\"x\"},\"y\":{\"field\":\"y\"}},\"id\":\"80691079-0941-47bf-a2b6-4b2c146ae96f\",\"type\":\"Square\"},{\"attributes\":{\"callback\":null,\"end\":0.005256193948999999,\"start\":-0.005091466249},\"id\":\"04783132-a2dc-468d-a84c-b8665a73f34a\",\"type\":\"Range1d\"},{\"attributes\":{\"data_source\":{\"id\":\"ba734406-a19e-4130-aa80-9ff348dd3ac9\",\"type\":\"ColumnDataSource\"},\"glyph\":{\"id\":\"80691079-0941-47bf-a2b6-4b2c146ae96f\",\"type\":\"Square\"},\"hover_glyph\":null,\"muted_glyph\":null,\"nonselection_glyph\":{\"id\":\"c420588d-12f3-48e1-93b6-2b642080a2d9\",\"type\":\"Square\"},\"selection_glyph\":null,\"view\":{\"id\":\"9c325450-c121-4457-abfa-078515e4b554\",\"type\":\"CDSView\"}},\"id\":\"d66c3d79-31b3-4568-91fc-133e3e366ffc\",\"type\":\"GlyphRenderer\"},{\"attributes\":{\"line_alpha\":0.1,\"line_color\":\"#1f77b4\",\"line_width\":3,\"x\":{\"field\":\"x\"},\"y\":{\"field\":\"y\"}},\"id\":\"e0cde533-4a05-4a8d-ae63-dfd1149d018a\",\"type\":\"Line\"},{\"attributes\":{\"source\":{\"id\":\"ba734406-a19e-4130-aa80-9ff348dd3ac9\",\"type\":\"ColumnDataSource\"}},\"id\":\"9c325450-c121-4457-abfa-078515e4b554\",\"type\":\"CDSView\"},{\"attributes\":{\"line_alpha\":0.6,\"line_color\":\"#984ea3\",\"line_width\":3,\"x\":{\"field\":\"x\"},\"y\":{\"field\":\"y\"}},\"id\":\"daeec181-cf37-497b-8aa3-596764e3720d\",\"type\":\"Line\"},{\"attributes\":{\"data_source\":{\"id\":\"b1de907d-809d-46a8-9490-779b891b5fc7\",\"type\":\"ColumnDataSource\"},\"glyph\":{\"id\":\"daeec181-cf37-497b-8aa3-596764e3720d\",\"type\":\"Line\"},\"hover_glyph\":null,\"muted_glyph\":null,\"nonselection_glyph\":{\"id\":\"e0cde533-4a05-4a8d-ae63-dfd1149d018a\",\"type\":\"Line\"},\"selection_glyph\":null,\"view\":{\"id\":\"bd4508ac-32f7-4d30-9478-9b8df2421878\",\"type\":\"CDSView\"}},\"id\":\"fd4f8824-a165-4f44-924c-09d4a2322bdc\",\"type\":\"GlyphRenderer\"},{\"attributes\":{\"line_color\":\"#4daf4a\",\"line_width\":1.5,\"x\":{\"field\":\"x\"},\"y\":{\"field\":\"y\"}},\"id\":\"72d63c6c-971c-4c64-89dc-28996bae1b96\",\"type\":\"Line\"},{\"attributes\":{\"source\":{\"id\":\"b1de907d-809d-46a8-9490-779b891b5fc7\",\"type\":\"ColumnDataSource\"}},\"id\":\"bd4508ac-32f7-4d30-9478-9b8df2421878\",\"type\":\"CDSView\"},{\"attributes\":{\"items\":[{\"id\":\"6e700963-6014-416a-b20f-6b35e0bf94d8\",\"type\":\"LegendItem\"},{\"id\":\"5a28daa0-ef14-4e98-8164-4a1f2e6d4dcb\",\"type\":\"LegendItem\"},{\"id\":\"d8083cdc-5927-49d0-b1f4-81c637a424b0\",\"type\":\"LegendItem\"}],\"label_text_font_size\":{\"value\":\"8pt\"},\"location\":[10,-30],\"plot\":{\"id\":\"3f97dfbf-10aa-4ed6-8d6c-21e854ddb68c\",\"subtype\":\"Figure\",\"type\":\"Plot\"}},\"id\":\"12444293-659c-41ec-8dd5-c8373591c2a8\",\"type\":\"Legend\"},{\"attributes\":{\"callback\":null,\"end\":0.01,\"start\":1020},\"id\":\"5571f533-31bf-400a-bbc1-ea37fc9cd63b\",\"type\":\"Range1d\"},{\"attributes\":{\"toolbar\":{\"id\":\"2a59141d-ea0f-4d84-a546-0cee973f4eee\",\"type\":\"ProxyToolbar\"},\"toolbar_location\":\"above\"},\"id\":\"c0cdd1cf-241b-4e3d-940a-5eca42c59cc1\",\"type\":\"ToolbarBox\"},{\"attributes\":{\"callback\":null,\"column_names\":[\"x\",\"y\"],\"data\":{\"x\":{\"__ndarray__\":\"hzmVUYuWYr8SW/DUMoFiv5IaBu8MU2K/gC9CxtUgYr+t8ZfrdO1hv3e7ww4ouWG/wkc77AmEYb/5gOywY05hvyAHjtROF2G/6J1dklDgYL8fNV0Ad6hgv4Nsgxlmb2C/4UndXmo1YL+x29CdM+xfvwpOd/l6YF6/38UpYceyWb/Z5G1/x6RRv5f2MyLHkz2/Zx7IHs4ENT9uayhJoMdUPxM5i/pHz2M/YFRUceoZbz+f3LvxKr50P3FdcawkHXU/71Qt2v3ZcD8E6qCVM9BnP9sGNKjkgl0/kdYm74NrSz8Ogu/Xecn4PpWlwwk6I0a/GIvKeQuTVb9z+WvHT0lfv4Z/5CCgt2O/k3n7YlwZZ7/hieVGNGlqv7hEobKQqm2/X46dPqIMcL+27F37Ottwv24Wpf8CjHG/PD+ormz9cb/3/D+2xMRxv/XVtmHL5HC/yxcNAKmSb7+XbHSCwSttvxmp12uKoGq/jfVqTyv2Z7+I6lB+8DBlvyoWewyvVGK/K58ZkDrLXr8Pg59O985Yv2yh2Mh9xFK/4TxIlcxwSb/gjjRIF8k6vwsAh/QoTAa/oHN0H+gsNT+C10ul5ZVGP23LQ1B8T1E/U/ONU/FZVz+RyWWAZGpdP9CxRjBjwGE/mVxOQlfNZD/XFDIa7NtnP6N8CobP62o/1l7SPCr8bT/BzV6NHoVwPzYXE60pCHI/iyteEACBcz9rBhC0feV0P/A3BhdFLHY/boycy+1Tdz+vv7SGHGR4P+L4i6RXZnk/CMCH6Bphej88+YmGsld7P9r1z+6wS3w/\",\"dtype\":\"float64\",\"shape\":[75]},\"y\":{\"__ndarray__\":\"GhExyth1ND/Sv8nbtpRIP2vylNV0PVE/aTum7souWD/At0SJ8fVgPw3Iuahxymc/MSNhhJWvcD/bTfBN02d3P2zb5nxnaoA/CD5h5MAGhz8NmeH1TyaQP+zrCsc9p5Y/LbKd76fGnz/bLW5ISEmmPww9YvTcQq8/JV2OstnstT8Er5Y7M8G+P0c+r3jqkcU/5h99k6ZBzj88bCIzFzjVP4enV8oyxN0//yH99nXg5D8qOpLLf0jtP5kqGJXUifQ/c9cS8kHP/D+/DpwzojQEQIEmwoanVwxA4lgXt9HgE0BSSZ2AJuIbQAMJih9jjiNA5q4l5INuK0AwTKYKRj0zQNv5fmq8/DpAaCJseHrtQkB/+zpwzoxKQM3MzMzMeFJAZmZmZmZqWEAAAAAAAFxeQM3MzMzMJmJAmpmZmZkfZUBmZmZmZhhoQDMzMzMzEWtAAAAAAAAKbkBmZmZmZoFwQM3MzMzM/XFAMzMzMzN6c0CamZmZmfZ0QAAAAAAAc3ZAZmZmZmbvd0DNzMzMzGt5QDMzMzMz6HpAmpmZmZlkfEAAAAAAAOF9QGZmZmZmXX9AZmZmZuZsgECamZmZGSuBQM3MzMxM6YFAAAAAAICngkAzMzMzs2WDQGZmZmbmI4RAmpmZmRnihEDNzMzMTKCFQAAAAACAXoZAMzMzM7Mch0BmZmZm5tqHQJqZmZkZmYhAzczMzExXiUAAAAAAgBWKQDMzMzOz04pAZmZmZuaRi0CamZmZGVCMQM3MzMxMDo1AAAAAAIDMjUAzMzMzs4qOQGZmZmbmSI9A\",\"dtype\":\"float64\",\"shape\":[75]}}},\"id\":\"253b201c-c380-4da2-99e9-eaa47561a329\",\"type\":\"ColumnDataSource\"},{\"attributes\":{\"label\":{\"value\":\"CLIRAD `coolr_bands`\"},\"renderers\":[{\"id\":\"68faa10e-b0e8-4cb3-951b-cdffdfdd7b1f\",\"type\":\"GlyphRenderer\"}]},\"id\":\"6e700963-6014-416a-b20f-6b35e0bf94d8\",\"type\":\"LegendItem\"},{\"attributes\":{\"children\":[{\"id\":\"c0cdd1cf-241b-4e3d-940a-5eca42c59cc1\",\"type\":\"ToolbarBox\"},{\"id\":\"c70ca181-4f36-49fb-8b05-c8519ea037fb\",\"type\":\"Column\"}]},\"id\":\"c9e3af03-e76d-44c3-a4c8-ce2014bf61fb\",\"type\":\"Column\"},{\"attributes\":{\"callback\":null,\"end\":0.01,\"start\":1020},\"id\":\"bf8a5fe9-e7dd-48ae-b03c-3ece3b937a6c\",\"type\":\"Range1d\"}],\"root_ids\":[\"c9e3af03-e76d-44c3-a4c8-ce2014bf61fb\"]},\"title\":\"Bokeh Application\",\"version\":\"0.12.14\"}};\n",
       "  var render_items = [{\"docid\":\"c729efc4-e1ef-4bdc-965f-44581d159327\",\"elementid\":\"9c8f5a34-70e6-45ca-bf00-b8e9dc0bc956\",\"modelid\":\"c9e3af03-e76d-44c3-a4c8-ce2014bf61fb\"}];\n",
       "  root.Bokeh.embed.embed_items_notebook(docs_json, render_items);\n",
       "\n",
       "  }\n",
       "  if (root.Bokeh !== undefined) {\n",
       "    embed_document(root);\n",
       "  } else {\n",
       "    var attempts = 0;\n",
       "    var timer = setInterval(function(root) {\n",
       "      if (root.Bokeh !== undefined) {\n",
       "        embed_document(root);\n",
       "        clearInterval(timer);\n",
       "      }\n",
       "      attempts++;\n",
       "      if (attempts > 100) {\n",
       "        console.log(\"Bokeh: ERROR: Unable to run BokehJS code because BokehJS library is missing\")\n",
       "        clearInterval(timer);\n",
       "      }\n",
       "    }, 10, root)\n",
       "  }\n",
       "})(window);"
      ],
      "application/vnd.bokehjs_exec.v0+json": ""
     },
     "metadata": {
      "application/vnd.bokehjs_exec.v0+json": {
       "id": "c9e3af03-e76d-44c3-a4c8-ce2014bf61fb"
      }
     },
     "output_type": "display_data"
    },
    {
     "name": "stdout",
     "output_type": "stream",
     "text": [
      "FIGURE. Cooling rate profiles.\n"
     ]
    },
    {
     "data": {
      "text/html": [
       "<a id=\"Flux_Comparison\"></a>"
      ],
      "text/plain": [
       "<IPython.core.display.HTML object>"
      ]
     },
     "metadata": {},
     "output_type": "display_data"
    },
    {
     "data": {
      "text/markdown": [
       "# Flux Comparison"
      ],
      "text/plain": [
       "<IPython.core.display.Markdown object>"
      ]
     },
     "metadata": {},
     "output_type": "display_data"
    },
    {
     "data": {
      "text/html": [
       "<div>\n",
       "<style>\n",
       "    .dataframe thead tr:only-child th {\n",
       "        text-align: right;\n",
       "    }\n",
       "\n",
       "    .dataframe thead th {\n",
       "        text-align: left;\n",
       "    }\n",
       "\n",
       "    .dataframe tbody tr th {\n",
       "        vertical-align: top;\n",
       "    }\n",
       "</style>\n",
       "<table border=\"1\" class=\"dataframe\">\n",
       "  <thead>\n",
       "    <tr style=\"text-align: right;\">\n",
       "      <th></th>\n",
       "      <th></th>\n",
       "      <th>flug</th>\n",
       "      <th>fldg</th>\n",
       "      <th>fnetg</th>\n",
       "    </tr>\n",
       "    <tr>\n",
       "      <th>pressure</th>\n",
       "      <th>level</th>\n",
       "      <th></th>\n",
       "      <th></th>\n",
       "      <th></th>\n",
       "    </tr>\n",
       "  </thead>\n",
       "  <tbody>\n",
       "    <tr>\n",
       "      <th>0.0000</th>\n",
       "      <th>1</th>\n",
       "      <td>-22.869032</td>\n",
       "      <td>0.000000</td>\n",
       "      <td>-22.869032</td>\n",
       "    </tr>\n",
       "    <tr>\n",
       "      <th>1.0685</th>\n",
       "      <th>24</th>\n",
       "      <td>-22.869437</td>\n",
       "      <td>0.000401</td>\n",
       "      <td>-22.869036</td>\n",
       "    </tr>\n",
       "    <tr>\n",
       "      <th>1013.0000</th>\n",
       "      <th>76</th>\n",
       "      <td>-23.269660</td>\n",
       "      <td>0.446500</td>\n",
       "      <td>-22.823160</td>\n",
       "    </tr>\n",
       "  </tbody>\n",
       "</table>\n",
       "</div>"
      ],
      "text/plain": [
       "                      flug      fldg      fnetg\n",
       "pressure  level                                \n",
       "0.0000    1     -22.869032  0.000000 -22.869032\n",
       "1.0685    24    -22.869437  0.000401 -22.869036\n",
       "1013.0000 76    -23.269660  0.446500 -22.823160"
      ]
     },
     "metadata": {},
     "output_type": "display_data"
    },
    {
     "name": "stdout",
     "output_type": "stream",
     "text": [
      "Table. Fluxes. WGT igg=10 wgt_flux=1\n"
     ]
    },
    {
     "data": {
      "text/html": [
       "<div>\n",
       "<style>\n",
       "    .dataframe thead tr:only-child th {\n",
       "        text-align: right;\n",
       "    }\n",
       "\n",
       "    .dataframe thead th {\n",
       "        text-align: left;\n",
       "    }\n",
       "\n",
       "    .dataframe tbody tr th {\n",
       "        vertical-align: top;\n",
       "    }\n",
       "</style>\n",
       "<table border=\"1\" class=\"dataframe\">\n",
       "  <thead>\n",
       "    <tr style=\"text-align: right;\">\n",
       "      <th></th>\n",
       "      <th></th>\n",
       "      <th>flug</th>\n",
       "      <th>fldg</th>\n",
       "      <th>fnetg</th>\n",
       "    </tr>\n",
       "    <tr>\n",
       "      <th>pressure</th>\n",
       "      <th>level</th>\n",
       "      <th></th>\n",
       "      <th></th>\n",
       "      <th></th>\n",
       "    </tr>\n",
       "  </thead>\n",
       "  <tbody>\n",
       "    <tr>\n",
       "      <th>0.0000</th>\n",
       "      <th>1</th>\n",
       "      <td>-22.904459</td>\n",
       "      <td>0.000000</td>\n",
       "      <td>-22.904459</td>\n",
       "    </tr>\n",
       "    <tr>\n",
       "      <th>1.0685</th>\n",
       "      <th>24</th>\n",
       "      <td>-22.904560</td>\n",
       "      <td>0.000418</td>\n",
       "      <td>-22.904143</td>\n",
       "    </tr>\n",
       "    <tr>\n",
       "      <th>1013.0000</th>\n",
       "      <th>76</th>\n",
       "      <td>-23.269660</td>\n",
       "      <td>0.430908</td>\n",
       "      <td>-22.838751</td>\n",
       "    </tr>\n",
       "  </tbody>\n",
       "</table>\n",
       "</div>"
      ],
      "text/plain": [
       "                      flug      fldg      fnetg\n",
       "pressure  level                                \n",
       "0.0000    1     -22.904459  0.000000 -22.904459\n",
       "1.0685    24    -22.904560  0.000418 -22.904143\n",
       "1013.0000 76    -23.269660  0.430908 -22.838751"
      ]
     },
     "metadata": {},
     "output_type": "display_data"
    },
    {
     "name": "stdout",
     "output_type": "stream",
     "text": [
      "Table. Fluxes. CRD\n"
     ]
    },
    {
     "data": {
      "text/html": [
       "<div>\n",
       "<style>\n",
       "    .dataframe thead tr:only-child th {\n",
       "        text-align: right;\n",
       "    }\n",
       "\n",
       "    .dataframe thead th {\n",
       "        text-align: left;\n",
       "    }\n",
       "\n",
       "    .dataframe tbody tr th {\n",
       "        vertical-align: top;\n",
       "    }\n",
       "</style>\n",
       "<table border=\"1\" class=\"dataframe\">\n",
       "  <thead>\n",
       "    <tr style=\"text-align: right;\">\n",
       "      <th></th>\n",
       "      <th></th>\n",
       "      <th>flug</th>\n",
       "      <th>fldg</th>\n",
       "      <th>fnetg</th>\n",
       "    </tr>\n",
       "    <tr>\n",
       "      <th>pressure</th>\n",
       "      <th>level</th>\n",
       "      <th></th>\n",
       "      <th></th>\n",
       "      <th></th>\n",
       "    </tr>\n",
       "  </thead>\n",
       "  <tbody>\n",
       "    <tr>\n",
       "      <th>1.000000e-08</th>\n",
       "      <th>1</th>\n",
       "      <td>-22.929422</td>\n",
       "      <td>-9.686912e-08</td>\n",
       "      <td>-22.929422</td>\n",
       "    </tr>\n",
       "    <tr>\n",
       "      <th>1.068500e+00</th>\n",
       "      <th>24</th>\n",
       "      <td>-22.929776</td>\n",
       "      <td>3.349143e-04</td>\n",
       "      <td>-22.929441</td>\n",
       "    </tr>\n",
       "    <tr>\n",
       "      <th>1.013000e+03</th>\n",
       "      <th>76</th>\n",
       "      <td>-23.269660</td>\n",
       "      <td>3.795174e-01</td>\n",
       "      <td>-22.890143</td>\n",
       "    </tr>\n",
       "  </tbody>\n",
       "</table>\n",
       "</div>"
      ],
      "text/plain": [
       "                         flug          fldg      fnetg\n",
       "pressure     level                                    \n",
       "1.000000e-08 1     -22.929422 -9.686912e-08 -22.929422\n",
       "1.068500e+00 24    -22.929776  3.349143e-04 -22.929441\n",
       "1.013000e+03 76    -23.269660  3.795174e-01 -22.890143"
      ]
     },
     "metadata": {},
     "output_type": "display_data"
    },
    {
     "name": "stdout",
     "output_type": "stream",
     "text": [
      "Table. Fluxes. CLIRAD\n"
     ]
    },
    {
     "data": {
      "text/html": [
       "<div>\n",
       "<style>\n",
       "    .dataframe thead tr:only-child th {\n",
       "        text-align: right;\n",
       "    }\n",
       "\n",
       "    .dataframe thead th {\n",
       "        text-align: left;\n",
       "    }\n",
       "\n",
       "    .dataframe tbody tr th {\n",
       "        vertical-align: top;\n",
       "    }\n",
       "</style>\n",
       "<table border=\"1\" class=\"dataframe\">\n",
       "  <thead>\n",
       "    <tr style=\"text-align: right;\">\n",
       "      <th></th>\n",
       "      <th></th>\n",
       "      <th>flug</th>\n",
       "      <th>fldg</th>\n",
       "      <th>fnetg</th>\n",
       "    </tr>\n",
       "    <tr>\n",
       "      <th>pressure</th>\n",
       "      <th>level</th>\n",
       "      <th></th>\n",
       "      <th></th>\n",
       "      <th></th>\n",
       "    </tr>\n",
       "  </thead>\n",
       "  <tbody>\n",
       "    <tr>\n",
       "      <th>0.0000</th>\n",
       "      <th>1</th>\n",
       "      <td>-0.035427</td>\n",
       "      <td>0.000000</td>\n",
       "      <td>-0.035427</td>\n",
       "    </tr>\n",
       "    <tr>\n",
       "      <th>1.0685</th>\n",
       "      <th>24</th>\n",
       "      <td>-0.035123</td>\n",
       "      <td>0.000016</td>\n",
       "      <td>-0.035107</td>\n",
       "    </tr>\n",
       "    <tr>\n",
       "      <th>1013.0000</th>\n",
       "      <th>76</th>\n",
       "      <td>0.000000</td>\n",
       "      <td>-0.015591</td>\n",
       "      <td>-0.015591</td>\n",
       "    </tr>\n",
       "  </tbody>\n",
       "</table>\n",
       "</div>"
      ],
      "text/plain": [
       "                     flug      fldg     fnetg\n",
       "pressure  level                              \n",
       "0.0000    1     -0.035427  0.000000 -0.035427\n",
       "1.0685    24    -0.035123  0.000016 -0.035107\n",
       "1013.0000 76     0.000000 -0.015591 -0.015591"
      ]
     },
     "metadata": {},
     "output_type": "display_data"
    },
    {
     "name": "stdout",
     "output_type": "stream",
     "text": [
      "Table. Fluxes. (CRD) - (WGT igg=10 wgt_flux=1)\n"
     ]
    },
    {
     "data": {
      "text/html": [
       "<div>\n",
       "<style>\n",
       "    .dataframe thead tr:only-child th {\n",
       "        text-align: right;\n",
       "    }\n",
       "\n",
       "    .dataframe thead th {\n",
       "        text-align: left;\n",
       "    }\n",
       "\n",
       "    .dataframe tbody tr th {\n",
       "        vertical-align: top;\n",
       "    }\n",
       "</style>\n",
       "<table border=\"1\" class=\"dataframe\">\n",
       "  <thead>\n",
       "    <tr style=\"text-align: right;\">\n",
       "      <th></th>\n",
       "      <th></th>\n",
       "      <th>flug</th>\n",
       "      <th>fldg</th>\n",
       "      <th>fnetg</th>\n",
       "    </tr>\n",
       "    <tr>\n",
       "      <th>pressure</th>\n",
       "      <th>level</th>\n",
       "      <th></th>\n",
       "      <th></th>\n",
       "      <th></th>\n",
       "    </tr>\n",
       "  </thead>\n",
       "  <tbody>\n",
       "    <tr>\n",
       "      <th>0.0000</th>\n",
       "      <th>1</th>\n",
       "      <td>-0.060390</td>\n",
       "      <td>-9.686912e-08</td>\n",
       "      <td>-0.060390</td>\n",
       "    </tr>\n",
       "    <tr>\n",
       "      <th>1.0685</th>\n",
       "      <th>24</th>\n",
       "      <td>-0.060339</td>\n",
       "      <td>-6.648685e-05</td>\n",
       "      <td>-0.060405</td>\n",
       "    </tr>\n",
       "    <tr>\n",
       "      <th>1013.0000</th>\n",
       "      <th>76</th>\n",
       "      <td>0.000000</td>\n",
       "      <td>-6.698240e-02</td>\n",
       "      <td>-0.066983</td>\n",
       "    </tr>\n",
       "  </tbody>\n",
       "</table>\n",
       "</div>"
      ],
      "text/plain": [
       "                     flug          fldg     fnetg\n",
       "pressure  level                                  \n",
       "0.0000    1     -0.060390 -9.686912e-08 -0.060390\n",
       "1.0685    24    -0.060339 -6.648685e-05 -0.060405\n",
       "1013.0000 76     0.000000 -6.698240e-02 -0.066983"
      ]
     },
     "metadata": {},
     "output_type": "display_data"
    },
    {
     "name": "stdout",
     "output_type": "stream",
     "text": [
      "Table. Fluxes. (CLIRAD) - (WGT igg=10 wgt_flux=1)\n"
     ]
    },
    {
     "data": {
      "text/html": [
       "<a id=\"Best-fit_Parameters\"></a>"
      ],
      "text/plain": [
       "<IPython.core.display.HTML object>"
      ]
     },
     "metadata": {},
     "output_type": "display_data"
    },
    {
     "data": {
      "text/markdown": [
       "# Best-fit Parameters"
      ],
      "text/plain": [
       "<IPython.core.display.Markdown object>"
      ]
     },
     "metadata": {},
     "output_type": "display_data"
    },
    {
     "name": "stdout",
     "output_type": "stream",
     "text": [
      "Best-fit values for each (gas, band)\n",
      "------------------------------------\n",
      "o n2o band6\n",
      "  atmpro = mls\n",
      "  band = 6\n",
      "  commitnumber = bca49ce\n",
      "  conc = 3.2e-07\n",
      "  dv = 0.005\n",
      "  klin = 0\n",
      "  molecule = n2o\n",
      "  ng_adju = [0]\n",
      "  ng_refs = [1]\n",
      "  nv = 200\n",
      "  option_compute_btable = 0\n",
      "  option_compute_ktable = 1\n",
      "  option_wgt_flux = 1\n",
      "  option_wgt_k = 1\n",
      "  ref_pts = [(500, 250)]\n",
      "  tsfc = 294\n",
      "  vmax = 1215\n",
      "  vmin = 1100\n",
      "  w_diffuse = [(1.66,)]\n",
      "  wgt = [(0.95,)]\n"
     ]
    }
   ],
   "source": [
    "script()"
   ]
  },
  {
   "cell_type": "code",
   "execution_count": 13,
   "metadata": {
    "collapsed": true
   },
   "outputs": [
    {
     "data": {
      "text/html": [
       "<script>\n",
       "code_show=true; \n",
       "function code_toggle() {\n",
       " if (code_show){\n",
       " $('div.input').hide();\n",
       " } else {\n",
       " $('div.input').show();\n",
       " }\n",
       " code_show = !code_show\n",
       "} \n",
       "$( document ).ready(code_toggle);\n",
       "</script>\n",
       "<form action=\"javascript:code_toggle()\"><input type=\"submit\" value=\"Click here to toggle on/off the raw code.\"></form>"
      ],
      "text/plain": [
       "<IPython.core.display.HTML object>"
      ]
     },
     "execution_count": 13,
     "metadata": {},
     "output_type": "execute_result"
    }
   ],
   "source": [
    "display.HTML('''<script>\n",
    "code_show=true; \n",
    "function code_toggle() {\n",
    " if (code_show){\n",
    " $('div.input').hide();\n",
    " } else {\n",
    " $('div.input').show();\n",
    " }\n",
    " code_show = !code_show\n",
    "} \n",
    "$( document ).ready(code_toggle);\n",
    "</script>\n",
    "<form action=\"javascript:code_toggle()\"><input type=\"submit\" value=\"Click here to toggle on/off the raw code.\"></form>''')"
   ]
  }
 ],
 "metadata": {
  "kernelspec": {
   "display_name": "Python 3",
   "language": "python",
   "name": "python3"
  },
  "language_info": {
   "codemirror_mode": {
    "name": "ipython",
    "version": 3
   },
   "file_extension": ".py",
   "mimetype": "text/x-python",
   "name": "python",
   "nbconvert_exporter": "python",
   "pygments_lexer": "ipython3",
   "version": "3.6.1"
  }
 },
 "nbformat": 4,
 "nbformat_minor": 2
}
