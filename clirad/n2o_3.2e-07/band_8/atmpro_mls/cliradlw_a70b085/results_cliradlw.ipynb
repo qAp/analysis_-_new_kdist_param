{
 "cells": [
  {
   "cell_type": "code",
   "execution_count": 1,
   "metadata": {
    "collapsed": true
   },
   "outputs": [],
   "source": [
    "%matplotlib inline\n",
    "import os\n",
    "import re\n",
    "import io\n",
    "import itertools\n",
    "import pprint\n",
    "\n",
    "from bokeh.io import output_notebook, show\n",
    "from bokeh.layouts import gridplot\n",
    "from bokeh.plotting import figure\n",
    "from bokeh.models import Range1d, Legend\n",
    "from bokeh.palettes import all_palettes\n",
    "\n",
    "import matplotlib\n",
    "import matplotlib.pyplot as plt\n",
    "import numpy as np\n",
    "import pandas as pd\n",
    "import xarray as xr\n",
    "\n",
    "import climatools.lblnew.bestfit_params as bestfits\n",
    "from climatools.lblnew import setup_bestfit, setup_overlap\n",
    "import climatools.lblnew.pipeline as pipe_lblnew\n",
    "import climatools.cliradlw.setup as setup_cliradlw\n",
    "import climatools.cliradlw.pipeline as pipe_cliradlw\n",
    "\n",
    "import climatools.html.html as climahtml\n",
    "from climatools.lblnew.dataio import *\n",
    "from climatools.plot.plot import *\n",
    "\n",
    "\n",
    "import IPython.display as display"
   ]
  },
  {
   "cell_type": "code",
   "execution_count": 2,
   "metadata": {
    "collapsed": true
   },
   "outputs": [],
   "source": [
    "%run param.py"
   ]
  },
  {
   "cell_type": "code",
   "execution_count": 3,
   "metadata": {
    "collapsed": true
   },
   "outputs": [],
   "source": [
    "def load_output_file(path_csv):\n",
    "    '''\n",
    "    Load lblnew output .csv file to xarray.Dataset\n",
    "    \n",
    "    Parameters\n",
    "    ----------\n",
    "    path_csv: str\n",
    "              Path to the .csv file to be loaded.\n",
    "    ds: xarray.Dataset\n",
    "        Data in the input file in the form of an xarray.Dataset.\n",
    "    '''\n",
    "    toindex = ['band', 'pressure', 'igg', 'g']    \n",
    "    df = pd.read_csv(path_csv, sep=r'\\s+')\n",
    "    df = df.set_index([i for i in toindex if i in df.columns])\n",
    "    df = df.rename(columns={'sfu': 'flug',\n",
    "                            'sfd': 'fldg',\n",
    "                            'fnet': 'fnetg',\n",
    "                            'coolr': 'coolrg'})\n",
    "    ds = xr.Dataset.from_dataframe(df)\n",
    "\n",
    "    for l in ('level', 'layer'):\n",
    "        if l in ds.data_vars:\n",
    "            if len(ds[l].dims) > 1:\n",
    "                surface = {d: 0 for d in ds.dims if d != 'pressure'}\n",
    "                coord_level = ds[l][surface]\n",
    "                ds.coords[l] = ('pressure', coord_level)\n",
    "            else:\n",
    "                ds.coords[l] = ('pressure', ds[l])\n",
    "    \n",
    "    return ds"
   ]
  },
  {
   "cell_type": "code",
   "execution_count": 4,
   "metadata": {
    "collapsed": true
   },
   "outputs": [],
   "source": [
    "def lblnew_setup(param=None):\n",
    "    if 'ng_refs' in param:\n",
    "        return {'setup': setup_bestfit,\n",
    "                'fname_flux_crd': 'output_flux.dat',\n",
    "                'fname_cool_crd': 'output_coolr.dat',\n",
    "                'fname_flux_wgt': 'output_wfluxg.dat',\n",
    "                'fname_cool_wgt': 'output_wcoolrg.dat'}\n",
    "    else:\n",
    "        return {'setup': setup_overlap,\n",
    "                'fname_flux_crd': 'output_flux.dat',\n",
    "                'fname_cool_crd': 'output_coolr.dat',\n",
    "                'fname_flux_wgt': 'output_wflux.dat',\n",
    "                'fname_cool_wgt': 'output_wcoolr.dat'}\n",
    "\n",
    "    \n",
    "def load_lblnew_data(param):\n",
    "    \n",
    "    fname_dsname = [('fname_flux_crd', 'ds_flux_crd'),\n",
    "                    ('fname_cool_crd', 'ds_cool_crd'),\n",
    "                    ('fname_flux_wgt', 'ds_flux_wgt'),\n",
    "                    ('fname_cool_wgt', 'ds_cool_wgt')]\n",
    "    \n",
    "    d = lblnew_setup(param)\n",
    "    dir_fortran = pipe_lblnew.get_dir_case(param, setup=d['setup'])\n",
    "    \n",
    "    data_dict = {}\n",
    "    for fname, dsname in fname_dsname:\n",
    "        fpath = os.path.join(dir_fortran, d[fname])\n",
    "        data_dict[dsname] = load_output_file(fpath)\n",
    "    return data_dict\n",
    "    \n",
    "\n",
    "    \n",
    "    "
   ]
  },
  {
   "cell_type": "code",
   "execution_count": 5,
   "metadata": {
    "collapsed": true
   },
   "outputs": [],
   "source": [
    "d = load_lblnew_data(PARAM_LBLNEW)\n",
    "\n",
    "DS_FLUX_CRD = d['ds_flux_crd']\n",
    "DS_COOL_CRD = d['ds_cool_crd']\n",
    "DS_FLUX_WGT = d['ds_flux_wgt']\n",
    "DS_COOL_WGT = d['ds_cool_wgt']"
   ]
  },
  {
   "cell_type": "code",
   "execution_count": 6,
   "metadata": {
    "collapsed": true
   },
   "outputs": [],
   "source": [
    "DIR_FORTRAN = pipe_cliradlw.get_fortran_dir(PARAM, \n",
    "                                            setup=setup_cliradlw)\n",
    "\n",
    "PATH_FLUX = os.path.join(DIR_FORTRAN, 'output_flux.dat')\n",
    "PATH_COOL = os.path.join(DIR_FORTRAN, 'output_coolr.dat')\n",
    "\n",
    "DS_FLUX = load_output_file(PATH_FLUX)\n",
    "DS_COOL = load_output_file(PATH_COOL)"
   ]
  },
  {
   "cell_type": "code",
   "execution_count": 7,
   "metadata": {
    "collapsed": true
   },
   "outputs": [
    {
     "data": {
      "text/html": [
       "\n",
       "    <div class=\"bk-root\">\n",
       "        <a href=\"https://bokeh.pydata.org\" target=\"_blank\" class=\"bk-logo bk-logo-small bk-logo-notebook\"></a>\n",
       "        <span id=\"043ea56e-3fa8-49d8-ba6c-7b03da998cb3\">Loading BokehJS ...</span>\n",
       "    </div>"
      ]
     },
     "metadata": {},
     "output_type": "display_data"
    },
    {
     "data": {
      "application/javascript": [
       "\n",
       "(function(root) {\n",
       "  function now() {\n",
       "    return new Date();\n",
       "  }\n",
       "\n",
       "  var force = true;\n",
       "\n",
       "  if (typeof (root._bokeh_onload_callbacks) === \"undefined\" || force === true) {\n",
       "    root._bokeh_onload_callbacks = [];\n",
       "    root._bokeh_is_loading = undefined;\n",
       "  }\n",
       "\n",
       "  var JS_MIME_TYPE = 'application/javascript';\n",
       "  var HTML_MIME_TYPE = 'text/html';\n",
       "  var EXEC_MIME_TYPE = 'application/vnd.bokehjs_exec.v0+json';\n",
       "  var CLASS_NAME = 'output_bokeh rendered_html';\n",
       "\n",
       "  /**\n",
       "   * Render data to the DOM node\n",
       "   */\n",
       "  function render(props, node) {\n",
       "    var script = document.createElement(\"script\");\n",
       "    node.appendChild(script);\n",
       "  }\n",
       "\n",
       "  /**\n",
       "   * Handle when an output is cleared or removed\n",
       "   */\n",
       "  function handleClearOutput(event, handle) {\n",
       "    var cell = handle.cell;\n",
       "\n",
       "    var id = cell.output_area._bokeh_element_id;\n",
       "    var server_id = cell.output_area._bokeh_server_id;\n",
       "    // Clean up Bokeh references\n",
       "    if (id !== undefined) {\n",
       "      Bokeh.index[id].model.document.clear();\n",
       "      delete Bokeh.index[id];\n",
       "    }\n",
       "\n",
       "    if (server_id !== undefined) {\n",
       "      // Clean up Bokeh references\n",
       "      var cmd = \"from bokeh.io.state import curstate; print(curstate().uuid_to_server['\" + server_id + \"'].get_sessions()[0].document.roots[0]._id)\";\n",
       "      cell.notebook.kernel.execute(cmd, {\n",
       "        iopub: {\n",
       "          output: function(msg) {\n",
       "            var element_id = msg.content.text.trim();\n",
       "            Bokeh.index[element_id].model.document.clear();\n",
       "            delete Bokeh.index[element_id];\n",
       "          }\n",
       "        }\n",
       "      });\n",
       "      // Destroy server and session\n",
       "      var cmd = \"import bokeh.io.notebook as ion; ion.destroy_server('\" + server_id + \"')\";\n",
       "      cell.notebook.kernel.execute(cmd);\n",
       "    }\n",
       "  }\n",
       "\n",
       "  /**\n",
       "   * Handle when a new output is added\n",
       "   */\n",
       "  function handleAddOutput(event, handle) {\n",
       "    var output_area = handle.output_area;\n",
       "    var output = handle.output;\n",
       "\n",
       "    // limit handleAddOutput to display_data with EXEC_MIME_TYPE content only\n",
       "    if ((output.output_type != \"display_data\") || (!output.data.hasOwnProperty(EXEC_MIME_TYPE))) {\n",
       "      return\n",
       "    }\n",
       "\n",
       "    var toinsert = output_area.element.find(\".\" + CLASS_NAME.split(' ')[0]);\n",
       "\n",
       "    if (output.metadata[EXEC_MIME_TYPE][\"id\"] !== undefined) {\n",
       "      toinsert[toinsert.length - 1].firstChild.textContent = output.data[JS_MIME_TYPE];\n",
       "      // store reference to embed id on output_area\n",
       "      output_area._bokeh_element_id = output.metadata[EXEC_MIME_TYPE][\"id\"];\n",
       "    }\n",
       "    if (output.metadata[EXEC_MIME_TYPE][\"server_id\"] !== undefined) {\n",
       "      var bk_div = document.createElement(\"div\");\n",
       "      bk_div.innerHTML = output.data[HTML_MIME_TYPE];\n",
       "      var script_attrs = bk_div.children[0].attributes;\n",
       "      for (var i = 0; i < script_attrs.length; i++) {\n",
       "        toinsert[toinsert.length - 1].firstChild.setAttribute(script_attrs[i].name, script_attrs[i].value);\n",
       "      }\n",
       "      // store reference to server id on output_area\n",
       "      output_area._bokeh_server_id = output.metadata[EXEC_MIME_TYPE][\"server_id\"];\n",
       "    }\n",
       "  }\n",
       "\n",
       "  function register_renderer(events, OutputArea) {\n",
       "\n",
       "    function append_mime(data, metadata, element) {\n",
       "      // create a DOM node to render to\n",
       "      var toinsert = this.create_output_subarea(\n",
       "        metadata,\n",
       "        CLASS_NAME,\n",
       "        EXEC_MIME_TYPE\n",
       "      );\n",
       "      this.keyboard_manager.register_events(toinsert);\n",
       "      // Render to node\n",
       "      var props = {data: data, metadata: metadata[EXEC_MIME_TYPE]};\n",
       "      render(props, toinsert[toinsert.length - 1]);\n",
       "      element.append(toinsert);\n",
       "      return toinsert\n",
       "    }\n",
       "\n",
       "    /* Handle when an output is cleared or removed */\n",
       "    events.on('clear_output.CodeCell', handleClearOutput);\n",
       "    events.on('delete.Cell', handleClearOutput);\n",
       "\n",
       "    /* Handle when a new output is added */\n",
       "    events.on('output_added.OutputArea', handleAddOutput);\n",
       "\n",
       "    /**\n",
       "     * Register the mime type and append_mime function with output_area\n",
       "     */\n",
       "    OutputArea.prototype.register_mime_type(EXEC_MIME_TYPE, append_mime, {\n",
       "      /* Is output safe? */\n",
       "      safe: true,\n",
       "      /* Index of renderer in `output_area.display_order` */\n",
       "      index: 0\n",
       "    });\n",
       "  }\n",
       "\n",
       "  // register the mime type if in Jupyter Notebook environment and previously unregistered\n",
       "  if (root.Jupyter !== undefined) {\n",
       "    var events = require('base/js/events');\n",
       "    var OutputArea = require('notebook/js/outputarea').OutputArea;\n",
       "\n",
       "    if (OutputArea.prototype.mime_types().indexOf(EXEC_MIME_TYPE) == -1) {\n",
       "      register_renderer(events, OutputArea);\n",
       "    }\n",
       "  }\n",
       "\n",
       "  \n",
       "  if (typeof (root._bokeh_timeout) === \"undefined\" || force === true) {\n",
       "    root._bokeh_timeout = Date.now() + 5000;\n",
       "    root._bokeh_failed_load = false;\n",
       "  }\n",
       "\n",
       "  var NB_LOAD_WARNING = {'data': {'text/html':\n",
       "     \"<div style='background-color: #fdd'>\\n\"+\n",
       "     \"<p>\\n\"+\n",
       "     \"BokehJS does not appear to have successfully loaded. If loading BokehJS from CDN, this \\n\"+\n",
       "     \"may be due to a slow or bad network connection. Possible fixes:\\n\"+\n",
       "     \"</p>\\n\"+\n",
       "     \"<ul>\\n\"+\n",
       "     \"<li>re-rerun `output_notebook()` to attempt to load from CDN again, or</li>\\n\"+\n",
       "     \"<li>use INLINE resources instead, as so:</li>\\n\"+\n",
       "     \"</ul>\\n\"+\n",
       "     \"<code>\\n\"+\n",
       "     \"from bokeh.resources import INLINE\\n\"+\n",
       "     \"output_notebook(resources=INLINE)\\n\"+\n",
       "     \"</code>\\n\"+\n",
       "     \"</div>\"}};\n",
       "\n",
       "  function display_loaded() {\n",
       "    var el = document.getElementById(\"043ea56e-3fa8-49d8-ba6c-7b03da998cb3\");\n",
       "    if (el != null) {\n",
       "      el.textContent = \"BokehJS is loading...\";\n",
       "    }\n",
       "    if (root.Bokeh !== undefined) {\n",
       "      if (el != null) {\n",
       "        el.textContent = \"BokehJS \" + root.Bokeh.version + \" successfully loaded.\";\n",
       "      }\n",
       "    } else if (Date.now() < root._bokeh_timeout) {\n",
       "      setTimeout(display_loaded, 100)\n",
       "    }\n",
       "  }\n",
       "\n",
       "\n",
       "  function run_callbacks() {\n",
       "    try {\n",
       "      root._bokeh_onload_callbacks.forEach(function(callback) { callback() });\n",
       "    }\n",
       "    finally {\n",
       "      delete root._bokeh_onload_callbacks\n",
       "    }\n",
       "    console.info(\"Bokeh: all callbacks have finished\");\n",
       "  }\n",
       "\n",
       "  function load_libs(js_urls, callback) {\n",
       "    root._bokeh_onload_callbacks.push(callback);\n",
       "    if (root._bokeh_is_loading > 0) {\n",
       "      console.log(\"Bokeh: BokehJS is being loaded, scheduling callback at\", now());\n",
       "      return null;\n",
       "    }\n",
       "    if (js_urls == null || js_urls.length === 0) {\n",
       "      run_callbacks();\n",
       "      return null;\n",
       "    }\n",
       "    console.log(\"Bokeh: BokehJS not loaded, scheduling load and callback at\", now());\n",
       "    root._bokeh_is_loading = js_urls.length;\n",
       "    for (var i = 0; i < js_urls.length; i++) {\n",
       "      var url = js_urls[i];\n",
       "      var s = document.createElement('script');\n",
       "      s.src = url;\n",
       "      s.async = false;\n",
       "      s.onreadystatechange = s.onload = function() {\n",
       "        root._bokeh_is_loading--;\n",
       "        if (root._bokeh_is_loading === 0) {\n",
       "          console.log(\"Bokeh: all BokehJS libraries loaded\");\n",
       "          run_callbacks()\n",
       "        }\n",
       "      };\n",
       "      s.onerror = function() {\n",
       "        console.warn(\"failed to load library \" + url);\n",
       "      };\n",
       "      console.log(\"Bokeh: injecting script tag for BokehJS library: \", url);\n",
       "      document.getElementsByTagName(\"head\")[0].appendChild(s);\n",
       "    }\n",
       "  };var element = document.getElementById(\"043ea56e-3fa8-49d8-ba6c-7b03da998cb3\");\n",
       "  if (element == null) {\n",
       "    console.log(\"Bokeh: ERROR: autoload.js configured with elementid '043ea56e-3fa8-49d8-ba6c-7b03da998cb3' but no matching script tag was found. \")\n",
       "    return false;\n",
       "  }\n",
       "\n",
       "  var js_urls = [\"https://cdn.pydata.org/bokeh/release/bokeh-0.12.16.min.js\", \"https://cdn.pydata.org/bokeh/release/bokeh-widgets-0.12.16.min.js\", \"https://cdn.pydata.org/bokeh/release/bokeh-tables-0.12.16.min.js\", \"https://cdn.pydata.org/bokeh/release/bokeh-gl-0.12.16.min.js\"];\n",
       "\n",
       "  var inline_js = [\n",
       "    function(Bokeh) {\n",
       "      Bokeh.set_log_level(\"info\");\n",
       "    },\n",
       "    \n",
       "    function(Bokeh) {\n",
       "      \n",
       "    },\n",
       "    function(Bokeh) {\n",
       "      console.log(\"Bokeh: injecting CSS: https://cdn.pydata.org/bokeh/release/bokeh-0.12.16.min.css\");\n",
       "      Bokeh.embed.inject_css(\"https://cdn.pydata.org/bokeh/release/bokeh-0.12.16.min.css\");\n",
       "      console.log(\"Bokeh: injecting CSS: https://cdn.pydata.org/bokeh/release/bokeh-widgets-0.12.16.min.css\");\n",
       "      Bokeh.embed.inject_css(\"https://cdn.pydata.org/bokeh/release/bokeh-widgets-0.12.16.min.css\");\n",
       "      console.log(\"Bokeh: injecting CSS: https://cdn.pydata.org/bokeh/release/bokeh-tables-0.12.16.min.css\");\n",
       "      Bokeh.embed.inject_css(\"https://cdn.pydata.org/bokeh/release/bokeh-tables-0.12.16.min.css\");\n",
       "    }\n",
       "  ];\n",
       "\n",
       "  function run_inline_js() {\n",
       "    \n",
       "    if ((root.Bokeh !== undefined) || (force === true)) {\n",
       "      for (var i = 0; i < inline_js.length; i++) {\n",
       "        inline_js[i].call(root, root.Bokeh);\n",
       "      }if (force === true) {\n",
       "        display_loaded();\n",
       "      }} else if (Date.now() < root._bokeh_timeout) {\n",
       "      setTimeout(run_inline_js, 100);\n",
       "    } else if (!root._bokeh_failed_load) {\n",
       "      console.log(\"Bokeh: BokehJS failed to load within specified timeout.\");\n",
       "      root._bokeh_failed_load = true;\n",
       "    } else if (force !== true) {\n",
       "      var cell = $(document.getElementById(\"043ea56e-3fa8-49d8-ba6c-7b03da998cb3\")).parents('.cell').data().cell;\n",
       "      cell.output_area.append_execute_result(NB_LOAD_WARNING)\n",
       "    }\n",
       "\n",
       "  }\n",
       "\n",
       "  if (root._bokeh_is_loading === 0) {\n",
       "    console.log(\"Bokeh: BokehJS loaded, going straight to plotting\");\n",
       "    run_inline_js();\n",
       "  } else {\n",
       "    load_libs(js_urls, function() {\n",
       "      console.log(\"Bokeh: BokehJS plotting callback run at\", now());\n",
       "      run_inline_js();\n",
       "    });\n",
       "  }\n",
       "}(window));"
      ],
      "application/vnd.bokehjs_load.v0+json": "\n(function(root) {\n  function now() {\n    return new Date();\n  }\n\n  var force = true;\n\n  if (typeof (root._bokeh_onload_callbacks) === \"undefined\" || force === true) {\n    root._bokeh_onload_callbacks = [];\n    root._bokeh_is_loading = undefined;\n  }\n\n  \n\n  \n  if (typeof (root._bokeh_timeout) === \"undefined\" || force === true) {\n    root._bokeh_timeout = Date.now() + 5000;\n    root._bokeh_failed_load = false;\n  }\n\n  var NB_LOAD_WARNING = {'data': {'text/html':\n     \"<div style='background-color: #fdd'>\\n\"+\n     \"<p>\\n\"+\n     \"BokehJS does not appear to have successfully loaded. If loading BokehJS from CDN, this \\n\"+\n     \"may be due to a slow or bad network connection. Possible fixes:\\n\"+\n     \"</p>\\n\"+\n     \"<ul>\\n\"+\n     \"<li>re-rerun `output_notebook()` to attempt to load from CDN again, or</li>\\n\"+\n     \"<li>use INLINE resources instead, as so:</li>\\n\"+\n     \"</ul>\\n\"+\n     \"<code>\\n\"+\n     \"from bokeh.resources import INLINE\\n\"+\n     \"output_notebook(resources=INLINE)\\n\"+\n     \"</code>\\n\"+\n     \"</div>\"}};\n\n  function display_loaded() {\n    var el = document.getElementById(\"043ea56e-3fa8-49d8-ba6c-7b03da998cb3\");\n    if (el != null) {\n      el.textContent = \"BokehJS is loading...\";\n    }\n    if (root.Bokeh !== undefined) {\n      if (el != null) {\n        el.textContent = \"BokehJS \" + root.Bokeh.version + \" successfully loaded.\";\n      }\n    } else if (Date.now() < root._bokeh_timeout) {\n      setTimeout(display_loaded, 100)\n    }\n  }\n\n\n  function run_callbacks() {\n    try {\n      root._bokeh_onload_callbacks.forEach(function(callback) { callback() });\n    }\n    finally {\n      delete root._bokeh_onload_callbacks\n    }\n    console.info(\"Bokeh: all callbacks have finished\");\n  }\n\n  function load_libs(js_urls, callback) {\n    root._bokeh_onload_callbacks.push(callback);\n    if (root._bokeh_is_loading > 0) {\n      console.log(\"Bokeh: BokehJS is being loaded, scheduling callback at\", now());\n      return null;\n    }\n    if (js_urls == null || js_urls.length === 0) {\n      run_callbacks();\n      return null;\n    }\n    console.log(\"Bokeh: BokehJS not loaded, scheduling load and callback at\", now());\n    root._bokeh_is_loading = js_urls.length;\n    for (var i = 0; i < js_urls.length; i++) {\n      var url = js_urls[i];\n      var s = document.createElement('script');\n      s.src = url;\n      s.async = false;\n      s.onreadystatechange = s.onload = function() {\n        root._bokeh_is_loading--;\n        if (root._bokeh_is_loading === 0) {\n          console.log(\"Bokeh: all BokehJS libraries loaded\");\n          run_callbacks()\n        }\n      };\n      s.onerror = function() {\n        console.warn(\"failed to load library \" + url);\n      };\n      console.log(\"Bokeh: injecting script tag for BokehJS library: \", url);\n      document.getElementsByTagName(\"head\")[0].appendChild(s);\n    }\n  };var element = document.getElementById(\"043ea56e-3fa8-49d8-ba6c-7b03da998cb3\");\n  if (element == null) {\n    console.log(\"Bokeh: ERROR: autoload.js configured with elementid '043ea56e-3fa8-49d8-ba6c-7b03da998cb3' but no matching script tag was found. \")\n    return false;\n  }\n\n  var js_urls = [\"https://cdn.pydata.org/bokeh/release/bokeh-0.12.16.min.js\", \"https://cdn.pydata.org/bokeh/release/bokeh-widgets-0.12.16.min.js\", \"https://cdn.pydata.org/bokeh/release/bokeh-tables-0.12.16.min.js\", \"https://cdn.pydata.org/bokeh/release/bokeh-gl-0.12.16.min.js\"];\n\n  var inline_js = [\n    function(Bokeh) {\n      Bokeh.set_log_level(\"info\");\n    },\n    \n    function(Bokeh) {\n      \n    },\n    function(Bokeh) {\n      console.log(\"Bokeh: injecting CSS: https://cdn.pydata.org/bokeh/release/bokeh-0.12.16.min.css\");\n      Bokeh.embed.inject_css(\"https://cdn.pydata.org/bokeh/release/bokeh-0.12.16.min.css\");\n      console.log(\"Bokeh: injecting CSS: https://cdn.pydata.org/bokeh/release/bokeh-widgets-0.12.16.min.css\");\n      Bokeh.embed.inject_css(\"https://cdn.pydata.org/bokeh/release/bokeh-widgets-0.12.16.min.css\");\n      console.log(\"Bokeh: injecting CSS: https://cdn.pydata.org/bokeh/release/bokeh-tables-0.12.16.min.css\");\n      Bokeh.embed.inject_css(\"https://cdn.pydata.org/bokeh/release/bokeh-tables-0.12.16.min.css\");\n    }\n  ];\n\n  function run_inline_js() {\n    \n    if ((root.Bokeh !== undefined) || (force === true)) {\n      for (var i = 0; i < inline_js.length; i++) {\n        inline_js[i].call(root, root.Bokeh);\n      }if (force === true) {\n        display_loaded();\n      }} else if (Date.now() < root._bokeh_timeout) {\n      setTimeout(run_inline_js, 100);\n    } else if (!root._bokeh_failed_load) {\n      console.log(\"Bokeh: BokehJS failed to load within specified timeout.\");\n      root._bokeh_failed_load = true;\n    } else if (force !== true) {\n      var cell = $(document.getElementById(\"043ea56e-3fa8-49d8-ba6c-7b03da998cb3\")).parents('.cell').data().cell;\n      cell.output_area.append_execute_result(NB_LOAD_WARNING)\n    }\n\n  }\n\n  if (root._bokeh_is_loading === 0) {\n    console.log(\"Bokeh: BokehJS loaded, going straight to plotting\");\n    run_inline_js();\n  } else {\n    load_libs(js_urls, function() {\n      console.log(\"Bokeh: BokehJS plotting callback run at\", now());\n      run_inline_js();\n    });\n  }\n}(window));"
     },
     "metadata": {},
     "output_type": "display_data"
    }
   ],
   "source": [
    "output_notebook()"
   ]
  },
  {
   "cell_type": "code",
   "execution_count": 8,
   "metadata": {
    "collapsed": true
   },
   "outputs": [],
   "source": [
    "def fmt_cool(ds_in):\n",
    "    ds = ds_in.copy(deep=True)\n",
    "    if 'igg' in ds.dims:\n",
    "        ds = ds.sel(igg=1)\n",
    "\n",
    "    if 'g' in ds.dims:\n",
    "        ds = ds.sum('g')\n",
    "            \n",
    "    if 'band' in ds.dims:\n",
    "        try:\n",
    "            ds = ds.squeeze('band')\n",
    "        except ValueError:\n",
    "            ds = ds.sum('band')\n",
    "                \n",
    "    return ds['coolrg']\n",
    "\n",
    "\n",
    "def pltdata_cooling_1(ds_cool=None,\n",
    "                      ds_cool_crd=None, ds_cool_wgt=None):\n",
    "    \n",
    "\n",
    "\n",
    "    colors = all_palettes['Set1'][4]\n",
    "    data = [{'label': 'CLIRAD `coolr_bands`',\n",
    "             'srs': fmt_cool(ds_cool),\n",
    "             'line_dash': 'dashed', 'line_width': 5,\n",
    "             'color': colors[0], 'alpha': .6},\n",
    "            {'label': 'CRD',\n",
    "             'srs': fmt_cool(ds_cool_crd),\n",
    "             'line_dash': 'solid', 'line_width': 1.5,\n",
    "             'marker': 'circle', 'marker_size': 5,\n",
    "             'color': colors[2], 'alpha': 1,},\n",
    "            {'label': 'WGT igg=10 wgt_flux=2',\n",
    "             'srs': fmt_cool(ds_cool_wgt),\n",
    "             'line_dash': 'solid', 'line_width': 3,\n",
    "             'marker': 'square', 'marker_size': 5,\n",
    "             'color': colors[3], 'alpha': .6}]\n",
    "    return data\n",
    "\n",
    "\n",
    "def nice_xlims(pltdata=None, prange=None):\n",
    "    \n",
    "    def get_slice(srs):\n",
    "        return srs.sel(pressure=slice(*prange))\n",
    "    \n",
    "    srss = [d['srs'] for d in pltdata]\n",
    "    vmin = min([get_slice(srs).min() for srs in srss])\n",
    "    vmax = max([get_slice(srs).max() for srs in srss])\n",
    "    dv = (vmax - vmin) * .01\n",
    "    return float(vmin - dv), float(vmax + dv)\n",
    "    \n",
    "\n",
    "def plt_cooling_bokeh(pltdata=None):\n",
    "    '''\n",
    "    Plot a list of cooling rate profiles using bokeh.\n",
    "    '''\n",
    "    ymin = 1e-2 \n",
    "    ymax = 1020 \n",
    "        \n",
    "    p1 = figure(title=\"Linear pressure scale\", \n",
    "                plot_width=400)        \n",
    "    xmin, xmax = nice_xlims(pltdata, prange=(50, 1050))\n",
    "    for d in pltdata:\n",
    "        if 'marker' in d:\n",
    "            getattr(p1, d['marker'])(d['srs'].values, \n",
    "                    d['srs'].coords['pressure'].values,\n",
    "                    color=d['color'], alpha=.7)\n",
    "        p1.line(d['srs'].values, \n",
    "                d['srs'].coords['pressure'].values,\n",
    "                color=d['color'], alpha=d['alpha'], \n",
    "                line_width=d['line_width'], line_dash=d['line_dash'])\n",
    "    \n",
    "    p1.y_range = Range1d(ymax, ymin)\n",
    "    p1.yaxis.axis_label = 'pressure [mb]'   \n",
    "    p1.x_range = Range1d(xmin, xmax)\n",
    "    p1.xaxis.axis_label = 'cooling rate [K/day]'\n",
    "            \n",
    "    p2 = figure(title='Log pressure scale', y_axis_type='log',\n",
    "                plot_width=560)\n",
    "    xmin, xmax = nice_xlims(pltdata, prange=(.01, 200))\n",
    "    \n",
    "    rs = []\n",
    "    for d in pltdata:\n",
    "        rd = []\n",
    "        if 'marker' in d:\n",
    "            r_mark = getattr(p2, d['marker'])(d['srs'].values, \n",
    "                        d['srs'].coords['pressure'].values,\n",
    "                        color=d['color'], alpha=.7)\n",
    "            rd.append(r_mark)\n",
    "        r_line = p2.line(d['srs'].values, \n",
    "                    d['srs'].coords['pressure'].values,\n",
    "                    color=d['color'], alpha=d['alpha'], \n",
    "                    line_width=d['line_width'], line_dash=d['line_dash'])\n",
    "        rd.append(r_line)\n",
    "      \n",
    "        rs.append(rd)\n",
    "        \n",
    "    p2.y_range = Range1d(ymax, ymin)  \n",
    "    p2.yaxis.axis_label = 'pressure [mb]'\n",
    "    \n",
    "    p2.x_range = Range1d(xmin, xmax)\n",
    "    p2.xaxis.axis_label = 'cooling rate [K/day]'\n",
    "    \n",
    "    items = [(d['label'], r) for r, d in zip(rs, pltdata)]\n",
    "    legend = Legend(items=items, location=(10, -30))\n",
    "    legend.label_text_font_size = '8pt'\n",
    "    \n",
    "    p2.add_layout(legend, 'right')  \n",
    "    \n",
    "    show(gridplot(p1, p2, ncols=2, plot_height=500))\n",
    "    \n",
    "\n",
    "def script_plt_cooling():\n",
    "    pltdata = pltdata_cooling_1(\n",
    "        ds_cool=DS_COOL,\n",
    "        ds_cool_crd=DS_COOL_CRD,\n",
    "        ds_cool_wgt=DS_COOL_WGT)\n",
    "    plt_cooling_bokeh(pltdata=pltdata)\n",
    "    print('''FIGURE. Cooling rate profiles.''')"
   ]
  },
  {
   "cell_type": "code",
   "execution_count": 9,
   "metadata": {
    "collapsed": true
   },
   "outputs": [],
   "source": [
    "def fmt_flux(ds_in):\n",
    "    ds = ds_in.copy(deep=True)\n",
    "    \n",
    "    for l in ('level', 'layer'):\n",
    "        if l in ds.data_vars:\n",
    "            if len(ds[l].dims) > 1:\n",
    "                surface = {d: 0 for d in ds.dims if d != 'pressure'}\n",
    "                coord_level = ds[l][surface]\n",
    "                ds.coords[l] = ('pressure', coord_level)\n",
    "            else:\n",
    "                ds.coords[l] = ('pressure', ds[l])\n",
    "        \n",
    "    ds = ds.isel(pressure=[0, 23, -1])\n",
    "        \n",
    "    if 'igg' in ds.dims:\n",
    "        ds = ds.sel(igg=[1])\n",
    "        ds = ds.squeeze('igg').drop('igg')\n",
    "    \n",
    "    if 'g' in ds.dims:\n",
    "        ds = ds.sum('g')\n",
    "            \n",
    "    if 'band' in ds.dims:\n",
    "        try:\n",
    "            ds = ds.squeeze('band').drop('band')\n",
    "        except ValueError:\n",
    "            ds = ds.sum('band')\n",
    "                \n",
    "    df = ds.to_dataframe()\n",
    "    df = df.set_index('level', append=True)               \n",
    "    return df\n",
    "\n",
    "\n",
    "def tbdata_flux(ds_flux=None, ds_flux_crd=None, ds_flux_wgt=None):\n",
    "    ilevels = [0, 23, -1]\n",
    "            \n",
    "    benchmark = {'label': 'CRD',\n",
    "                 'df': fmt_flux(ds_flux_crd)}\n",
    "    \n",
    "    tbs = [{'label': 'WGT igg=10 wgt_flux=1',\n",
    "            'df': fmt_flux(ds_flux_wgt)},\n",
    "           {'label': 'CLIRAD',\n",
    "            'df': fmt_flux(ds_flux)}]\n",
    "    \n",
    "    data = {'benchmark': benchmark, 'others': tbs}\n",
    "    return data\n",
    "\n",
    "\n",
    "def tb_flux(tbdata=None):\n",
    "    benchmark = tbdata['benchmark']\n",
    "    others = tbdata['others']\n",
    "    \n",
    "    def show_tb(d=None):\n",
    "        display.display(d['df'])\n",
    "        print('Table.', 'Fluxes.', d['label'])\n",
    "        \n",
    "    def show_tbdiff(d0=None, d=None):\n",
    "        df = d['df']\n",
    "        df.index = d0['df'].index\n",
    "        display.display(df - d0['df'])\n",
    "        print('Table.', 'Fluxes.', \n",
    "              '({}) - ({})'.format(d['label'], d0['label']))\n",
    "        \n",
    "    show_tb(benchmark)\n",
    "    for d in others:\n",
    "        show_tb(d)\n",
    "        \n",
    "    for d in others:\n",
    "        show_tbdiff(d=d, d0=benchmark)\n",
    "        \n",
    "        \n",
    "def script_tb_flux():\n",
    "    data = tbdata_flux(ds_flux=DS_FLUX,\n",
    "                       ds_flux_crd=DS_FLUX_CRD,\n",
    "                       ds_flux_wgt=DS_FLUX_WGT)\n",
    "    tb_flux(tbdata=data)"
   ]
  },
  {
   "cell_type": "code",
   "execution_count": 10,
   "metadata": {
    "collapsed": true
   },
   "outputs": [],
   "source": [
    "def band_map():\n",
    "    '''\n",
    "    Maps spectral bands in lblnew to spectral bands in clirad.\n",
    "    '''\n",
    "    lblnew2clirad = {'1': '1',\n",
    "            '2': '2',\n",
    "            '3a': '3',\n",
    "            '3b': '4',\n",
    "            '3c': '5',\n",
    "            '4': '6', \n",
    "            '5': '7',\n",
    "            '6': '8',\n",
    "            '7': '9', \n",
    "            '8': '10',\n",
    "            '9': '11'}\n",
    "    \n",
    "    clirad2lblnew = {clirad: lblnew \n",
    "                     for lblnew, clirad in lblnew2clirad.items()}\n",
    "    return clirad2lblnew\n",
    "\n",
    "\n",
    "def gasbands():\n",
    "    bmap = band_map()\n",
    "    gases = list(PARAM['molecule'].keys())\n",
    "    \n",
    "    bands = [bmap[str(b)] for b in PARAM['band']]\n",
    "    return list(itertools.product(gases, bands))\n",
    "\n",
    "\n",
    "def print_bestfit_params():\n",
    "    print('Best-fit values for each (gas, band)')\n",
    "    print('------------------------------------')\n",
    "    for gas, band in gasbands():\n",
    "        print('o {} band{}'.format(gas, band))\n",
    "        param = bestfits.kdist_params(molecule=gas, band=band)\n",
    "        for name, value in sorted(param.items()):\n",
    "            print(2 * ' ' + '{} = {}'.format(name, value))\n",
    "\n",
    "        \n",
    "def print_input_param():        \n",
    "    for name, value in PARAM.items():\n",
    "        print('{} = {}'.format(name, value))\n",
    "        \n",
    "        \n",
    "def print_lblnew_param():\n",
    "    for name, value in sorted(PARAM_LBLNEW.items()):\n",
    "        print('{} = {}'.format(name, value))\n"
   ]
  },
  {
   "cell_type": "code",
   "execution_count": 11,
   "metadata": {
    "collapsed": true,
    "scrolled": false
   },
   "outputs": [],
   "source": [
    "def show_html(s):\n",
    "    display.display(display.HTML(s))\n",
    "\n",
    "    \n",
    "def show_markdown(s):\n",
    "    display.display(display.Markdown(s))\n",
    "\n",
    "    \n",
    "def script():\n",
    "    \n",
    "    title = '### CLIRAD-LW'\n",
    "    s_input = 'Input Parameters'\n",
    "    s_lblnew_param = 'LBLNEW case compaired against'\n",
    "    s_bestfits = 'Best-fit Parameters'\n",
    "    s_plt_cooling = 'Cooling Rate Profiles'\n",
    "    s_tb_flux = 'Flux Comparison'\n",
    "    \n",
    "    # title\n",
    "    show_markdown('### CLIRAD-LW')\n",
    "    \n",
    "    # TOC\n",
    "    show_markdown('### Table of Contents')\n",
    "    show_html(climahtml.getHTML_hrefanchor(s_input))\n",
    "    show_html(climahtml.getHTML_hrefanchor(s_lblnew_param))\n",
    "    show_html(climahtml.getHTML_hrefanchor(s_plt_cooling))\n",
    "    show_html(climahtml.getHTML_hrefanchor(s_tb_flux))\n",
    "    show_html(climahtml.getHTML_hrefanchor(s_bestfits))\n",
    "    \n",
    "    # Input parameters\n",
    "    show_html(climahtml.getHTML_idanchor(s_input))\n",
    "    show_markdown(climahtml.getMarkdown_sectitle(s_input))\n",
    "    print_input_param()\n",
    "    \n",
    "    # LBLNEW parameters \n",
    "    show_html(climahtml.getHTML_idanchor(s_lblnew_param))\n",
    "    show_markdown(climahtml.getMarkdown_sectitle(s_lblnew_param))\n",
    "    print_lblnew_param()\n",
    "    \n",
    "    # Cooling rate profiles\n",
    "    show_html(climahtml.getHTML_idanchor(s_plt_cooling))\n",
    "    show_markdown(climahtml.getMarkdown_sectitle(s_plt_cooling))\n",
    "    script_plt_cooling()\n",
    "    \n",
    "    # Flux comparison\n",
    "    show_html(climahtml.getHTML_idanchor(s_tb_flux))\n",
    "    show_markdown(climahtml.getMarkdown_sectitle(s_tb_flux))\n",
    "    script_tb_flux()\n",
    "    \n",
    "    # Best-fit values\n",
    "    show_html(climahtml.getHTML_idanchor(s_bestfits))\n",
    "    show_markdown(climahtml.getMarkdown_sectitle(s_bestfits))\n",
    "    print_bestfit_params()\n",
    "   \n",
    "    "
   ]
  },
  {
   "cell_type": "code",
   "execution_count": 12,
   "metadata": {
    "collapsed": true,
    "scrolled": false
   },
   "outputs": [
    {
     "data": {
      "text/markdown": [
       "### CLIRAD-LW"
      ],
      "text/plain": [
       "<IPython.core.display.Markdown object>"
      ]
     },
     "metadata": {},
     "output_type": "display_data"
    },
    {
     "data": {
      "text/markdown": [
       "### Table of Contents"
      ],
      "text/plain": [
       "<IPython.core.display.Markdown object>"
      ]
     },
     "metadata": {},
     "output_type": "display_data"
    },
    {
     "data": {
      "text/html": [
       "<a href=\"#Input_Parameters\">Input Parameters</a>"
      ],
      "text/plain": [
       "<IPython.core.display.HTML object>"
      ]
     },
     "metadata": {},
     "output_type": "display_data"
    },
    {
     "data": {
      "text/html": [
       "<a href=\"#LBLNEW_case_compaired_against\">LBLNEW case compaired against</a>"
      ],
      "text/plain": [
       "<IPython.core.display.HTML object>"
      ]
     },
     "metadata": {},
     "output_type": "display_data"
    },
    {
     "data": {
      "text/html": [
       "<a href=\"#Cooling_Rate_Profiles\">Cooling Rate Profiles</a>"
      ],
      "text/plain": [
       "<IPython.core.display.HTML object>"
      ]
     },
     "metadata": {},
     "output_type": "display_data"
    },
    {
     "data": {
      "text/html": [
       "<a href=\"#Flux_Comparison\">Flux Comparison</a>"
      ],
      "text/plain": [
       "<IPython.core.display.HTML object>"
      ]
     },
     "metadata": {},
     "output_type": "display_data"
    },
    {
     "data": {
      "text/html": [
       "<a href=\"#Best-fit_Parameters\">Best-fit Parameters</a>"
      ],
      "text/plain": [
       "<IPython.core.display.HTML object>"
      ]
     },
     "metadata": {},
     "output_type": "display_data"
    },
    {
     "data": {
      "text/html": [
       "<a id=\"Input_Parameters\"></a>"
      ],
      "text/plain": [
       "<IPython.core.display.HTML object>"
      ]
     },
     "metadata": {},
     "output_type": "display_data"
    },
    {
     "data": {
      "text/markdown": [
       "# Input Parameters"
      ],
      "text/plain": [
       "<IPython.core.display.Markdown object>"
      ]
     },
     "metadata": {},
     "output_type": "display_data"
    },
    {
     "name": "stdout",
     "output_type": "stream",
     "text": [
      "atmpro = mls\n",
      "band = [8]\n",
      "commitnumber = a70b085\n",
      "molecule = {'n2o': 3.2e-07}\n",
      "tsfc = 294\n"
     ]
    },
    {
     "data": {
      "text/html": [
       "<a id=\"LBLNEW_case_compaired_against\"></a>"
      ],
      "text/plain": [
       "<IPython.core.display.HTML object>"
      ]
     },
     "metadata": {},
     "output_type": "display_data"
    },
    {
     "data": {
      "text/markdown": [
       "# LBLNEW case compaired against"
      ],
      "text/plain": [
       "<IPython.core.display.Markdown object>"
      ]
     },
     "metadata": {},
     "output_type": "display_data"
    },
    {
     "name": "stdout",
     "output_type": "stream",
     "text": [
      "atmpro = mls\n",
      "band = 6\n",
      "commitnumber = bca49ce\n",
      "conc = 3.2e-07\n",
      "dv = 0.005\n",
      "klin = 0\n",
      "molecule = n2o\n",
      "ng_adju = [0]\n",
      "ng_refs = [1]\n",
      "nv = 200\n",
      "option_compute_btable = 0\n",
      "option_compute_ktable = 0\n",
      "option_wgt_flux = 1\n",
      "option_wgt_k = 1\n",
      "ref_pts = [(500, 250)]\n",
      "tsfc = 294\n",
      "vmax = 1215\n",
      "vmin = 1100\n",
      "w_diffuse = [(1.66,)]\n",
      "wgt = [(0.95,)]\n"
     ]
    },
    {
     "data": {
      "text/html": [
       "<a id=\"Cooling_Rate_Profiles\"></a>"
      ],
      "text/plain": [
       "<IPython.core.display.HTML object>"
      ]
     },
     "metadata": {},
     "output_type": "display_data"
    },
    {
     "data": {
      "text/markdown": [
       "# Cooling Rate Profiles"
      ],
      "text/plain": [
       "<IPython.core.display.Markdown object>"
      ]
     },
     "metadata": {},
     "output_type": "display_data"
    },
    {
     "data": {
      "text/html": [
       "\n",
       "<div class=\"bk-root\">\n",
       "    <div class=\"bk-plotdiv\" id=\"9c1fe334-9813-46f4-ba32-07c133d8bb9e\"></div>\n",
       "</div>"
      ]
     },
     "metadata": {},
     "output_type": "display_data"
    },
    {
     "data": {
      "application/javascript": [
       "(function(root) {\n",
       "  function embed_document(root) {\n",
       "    \n",
       "  var docs_json = {\"6e5ddf01-9b9b-4b76-ad0a-99033a42bb40\":{\"roots\":{\"references\":[{\"attributes\":{\"fill_alpha\":{\"value\":0.1},\"fill_color\":{\"value\":\"#1f77b4\"},\"line_alpha\":{\"value\":0.1},\"line_color\":{\"value\":\"#1f77b4\"},\"x\":{\"field\":\"x\"},\"y\":{\"field\":\"y\"}},\"id\":\"92331401-a1ed-4111-80f1-988c476d9962\",\"type\":\"Square\"},{\"attributes\":{\"axis_label\":\"cooling rate [K/day]\",\"formatter\":{\"id\":\"743e538d-22fc-414f-8423-a60038c3045a\",\"type\":\"BasicTickFormatter\"},\"plot\":{\"id\":\"3fd1c138-325f-4dd4-83cf-8e45992a68d2\",\"subtype\":\"Figure\",\"type\":\"Plot\"},\"ticker\":{\"id\":\"5feededd-a6e1-45ef-bc24-9ff1241303fa\",\"type\":\"BasicTicker\"}},\"id\":\"5b69fcbc-bd30-4372-bdbc-8f7d5458ea86\",\"type\":\"LinearAxis\"},{\"attributes\":{\"bottom_units\":\"screen\",\"fill_alpha\":{\"value\":0.5},\"fill_color\":{\"value\":\"lightgrey\"},\"left_units\":\"screen\",\"level\":\"overlay\",\"line_alpha\":{\"value\":1.0},\"line_color\":{\"value\":\"black\"},\"line_dash\":[4,4],\"line_width\":{\"value\":2},\"plot\":null,\"render_mode\":\"css\",\"right_units\":\"screen\",\"top_units\":\"screen\"},\"id\":\"ba505bf6-24a6-46f9-a8c0-aae6e0e4071d\",\"type\":\"BoxAnnotation\"},{\"attributes\":{\"plot\":{\"id\":\"2f9cfc91-4160-444e-b2b4-892b5a8da4c7\",\"subtype\":\"Figure\",\"type\":\"Plot\"},\"ticker\":{\"id\":\"e9501b72-2870-4faf-ba72-3c59c5164451\",\"type\":\"BasicTicker\"}},\"id\":\"a25e81fb-bc59-41c7-9e07-c5f3a4dd90af\",\"type\":\"Grid\"},{\"attributes\":{\"data_source\":{\"id\":\"e9861282-3680-4c31-8755-45d16c906f18\",\"type\":\"ColumnDataSource\"},\"glyph\":{\"id\":\"0d0cdae2-de37-4547-a1a4-44844c2fe68a\",\"type\":\"Line\"},\"hover_glyph\":null,\"muted_glyph\":null,\"nonselection_glyph\":{\"id\":\"a3768fb0-03c1-4e33-bbfa-83a3f1404fdf\",\"type\":\"Line\"},\"selection_glyph\":null,\"view\":{\"id\":\"21ac6d23-9b01-4563-a416-41f235adacbd\",\"type\":\"CDSView\"}},\"id\":\"7ef02835-a41c-41d2-9401-ed1a58b5fde8\",\"type\":\"GlyphRenderer\"},{\"attributes\":{\"data_source\":{\"id\":\"69d56520-ad9d-49c1-9b47-5f7951bd2835\",\"type\":\"ColumnDataSource\"},\"glyph\":{\"id\":\"9b9e61be-d46b-428e-a003-57158eb8e124\",\"type\":\"Line\"},\"hover_glyph\":null,\"muted_glyph\":null,\"nonselection_glyph\":{\"id\":\"a410245f-6429-48f5-bdf9-4cff42a42064\",\"type\":\"Line\"},\"selection_glyph\":null,\"view\":{\"id\":\"6010eb79-4966-4f72-b0a3-ab4d455e60a5\",\"type\":\"CDSView\"}},\"id\":\"14f13661-7d60-459a-b3cd-3f3ae11c47d9\",\"type\":\"GlyphRenderer\"},{\"attributes\":{\"source\":{\"id\":\"e9861282-3680-4c31-8755-45d16c906f18\",\"type\":\"ColumnDataSource\"}},\"id\":\"21ac6d23-9b01-4563-a416-41f235adacbd\",\"type\":\"CDSView\"},{\"attributes\":{\"data_source\":{\"id\":\"7199b662-a1db-4a48-92ce-b22215f420ba\",\"type\":\"ColumnDataSource\"},\"glyph\":{\"id\":\"c28bcce5-9bba-4423-8246-1f8ae4b32fc2\",\"type\":\"Line\"},\"hover_glyph\":null,\"muted_glyph\":null,\"nonselection_glyph\":{\"id\":\"c31c281a-8a14-4409-9eea-8917e92d3832\",\"type\":\"Line\"},\"selection_glyph\":null,\"view\":{\"id\":\"68e997e2-3711-4321-94e6-75d5dfa5c5c1\",\"type\":\"CDSView\"}},\"id\":\"31a996b8-84d4-47a2-99ad-237c1094075f\",\"type\":\"GlyphRenderer\"},{\"attributes\":{\"fill_alpha\":{\"value\":0.1},\"fill_color\":{\"value\":\"#1f77b4\"},\"line_alpha\":{\"value\":0.1},\"line_color\":{\"value\":\"#1f77b4\"},\"x\":{\"field\":\"x\"},\"y\":{\"field\":\"y\"}},\"id\":\"0bb2084c-3cb7-453c-9b15-0894e3114a7f\",\"type\":\"Circle\"},{\"attributes\":{\"line_alpha\":0.1,\"line_color\":\"#1f77b4\",\"line_dash\":[6],\"line_width\":5,\"x\":{\"field\":\"x\"},\"y\":{\"field\":\"y\"}},\"id\":\"c31c281a-8a14-4409-9eea-8917e92d3832\",\"type\":\"Line\"},{\"attributes\":{\"below\":[{\"id\":\"37f411b3-a309-47db-808d-3eac788908a5\",\"type\":\"LinearAxis\"}],\"left\":[{\"id\":\"b74c53a3-d770-40a9-a7e7-71a3876691a8\",\"type\":\"LinearAxis\"}],\"plot_height\":500,\"plot_width\":400,\"renderers\":[{\"id\":\"37f411b3-a309-47db-808d-3eac788908a5\",\"type\":\"LinearAxis\"},{\"id\":\"a25e81fb-bc59-41c7-9e07-c5f3a4dd90af\",\"type\":\"Grid\"},{\"id\":\"b74c53a3-d770-40a9-a7e7-71a3876691a8\",\"type\":\"LinearAxis\"},{\"id\":\"a376fca0-80b1-41b5-97d1-64e71ddd9747\",\"type\":\"Grid\"},{\"id\":\"f36eb030-e62e-4761-9e1a-013c42e299cc\",\"type\":\"BoxAnnotation\"},{\"id\":\"a3485fe6-dc65-42f6-ae4e-d3996120734c\",\"type\":\"GlyphRenderer\"},{\"id\":\"1874a1e9-cdcc-4a7d-9cd0-446083ad7c28\",\"type\":\"GlyphRenderer\"},{\"id\":\"248bd1e9-9c45-4560-a768-134400af756b\",\"type\":\"GlyphRenderer\"},{\"id\":\"166baf91-aabd-42e1-ac9c-b273efab59ce\",\"type\":\"GlyphRenderer\"},{\"id\":\"e18c24b9-18c7-40de-b917-9e9624bccc3f\",\"type\":\"GlyphRenderer\"}],\"title\":{\"id\":\"9adb96c7-1655-4552-a432-6f428a74e66f\",\"type\":\"Title\"},\"toolbar\":{\"id\":\"291cdbb8-ac13-4fa3-9ebd-9ab875d9f528\",\"type\":\"Toolbar\"},\"toolbar_location\":null,\"x_range\":{\"id\":\"c3e8a1e0-9689-45de-8246-0fe07d14893c\",\"type\":\"Range1d\"},\"x_scale\":{\"id\":\"e9f8f942-d6f0-4187-add1-f4e58b9c5897\",\"type\":\"LinearScale\"},\"y_range\":{\"id\":\"309467da-dfd1-42ee-8a14-cf0c8f3a2d26\",\"type\":\"Range1d\"},\"y_scale\":{\"id\":\"d377ccfc-ea0e-4cff-ba64-1246b01e5406\",\"type\":\"LinearScale\"}},\"id\":\"2f9cfc91-4160-444e-b2b4-892b5a8da4c7\",\"subtype\":\"Figure\",\"type\":\"Plot\"},{\"attributes\":{\"line_alpha\":0.1,\"line_color\":\"#1f77b4\",\"line_width\":1.5,\"x\":{\"field\":\"x\"},\"y\":{\"field\":\"y\"}},\"id\":\"a3768fb0-03c1-4e33-bbfa-83a3f1404fdf\",\"type\":\"Line\"},{\"attributes\":{},\"id\":\"f2f3ebe1-6bcc-47dd-9788-4c9a4f0dd1ab\",\"type\":\"WheelZoomTool\"},{\"attributes\":{\"callback\":null,\"data\":{\"x\":{\"__ndarray__\":\"hzmVUYuWYr8SW/DUMoFiv5IaBu8MU2K/gC9CxtUgYr+t8ZfrdO1hv3e7ww4ouWG/wkc77AmEYb/5gOywY05hvyAHjtROF2G/6J1dklDgYL8fNV0Ad6hgv4Nsgxlmb2C/4UndXmo1YL+x29CdM+xfvwpOd/l6YF6/38UpYceyWb/Z5G1/x6RRv5f2MyLHkz2/Zx7IHs4ENT9uayhJoMdUPxM5i/pHz2M/YFRUceoZbz+f3LvxKr50P3FdcawkHXU/71Qt2v3ZcD8E6qCVM9BnP9sGNKjkgl0/kdYm74NrSz8Ogu/Xecn4PpWlwwk6I0a/GIvKeQuTVb9z+WvHT0lfv4Z/5CCgt2O/k3n7YlwZZ7/hieVGNGlqv7hEobKQqm2/X46dPqIMcL+27F37Ottwv24Wpf8CjHG/PD+ormz9cb/3/D+2xMRxv/XVtmHL5HC/yxcNAKmSb7+XbHSCwSttvxmp12uKoGq/jfVqTyv2Z7+I6lB+8DBlvyoWewyvVGK/K58ZkDrLXr8Pg59O985Yv2yh2Mh9xFK/4TxIlcxwSb/gjjRIF8k6vwsAh/QoTAa/oHN0H+gsNT+C10ul5ZVGP23LQ1B8T1E/U/ONU/FZVz+RyWWAZGpdP9CxRjBjwGE/mVxOQlfNZD/XFDIa7NtnP6N8CobP62o/1l7SPCr8bT/BzV6NHoVwPzYXE60pCHI/iyteEACBcz9rBhC0feV0P/A3BhdFLHY/boycy+1Tdz+vv7SGHGR4P+L4i6RXZnk/CMCH6Bphej88+YmGsld7P9r1z+6wS3w/\",\"dtype\":\"float64\",\"shape\":[75]},\"y\":{\"__ndarray__\":\"GhExyth1ND/Sv8nbtpRIP2vylNV0PVE/aTum7souWD/At0SJ8fVgPw3Iuahxymc/MSNhhJWvcD/bTfBN02d3P2zb5nxnaoA/CD5h5MAGhz8NmeH1TyaQP+zrCsc9p5Y/LbKd76fGnz/bLW5ISEmmPww9YvTcQq8/JV2OstnstT8Er5Y7M8G+P0c+r3jqkcU/5h99k6ZBzj88bCIzFzjVP4enV8oyxN0//yH99nXg5D8qOpLLf0jtP5kqGJXUifQ/c9cS8kHP/D+/DpwzojQEQIEmwoanVwxA4lgXt9HgE0BSSZ2AJuIbQAMJih9jjiNA5q4l5INuK0AwTKYKRj0zQNv5fmq8/DpAaCJseHrtQkB/+zpwzoxKQM3MzMzMeFJAZmZmZmZqWEAAAAAAAFxeQM3MzMzMJmJAmpmZmZkfZUBmZmZmZhhoQDMzMzMzEWtAAAAAAAAKbkBmZmZmZoFwQM3MzMzM/XFAMzMzMzN6c0CamZmZmfZ0QAAAAAAAc3ZAZmZmZmbvd0DNzMzMzGt5QDMzMzMz6HpAmpmZmZlkfEAAAAAAAOF9QGZmZmZmXX9AZmZmZuZsgECamZmZGSuBQM3MzMxM6YFAAAAAAICngkAzMzMzs2WDQGZmZmbmI4RAmpmZmRnihEDNzMzMTKCFQAAAAACAXoZAMzMzM7Mch0BmZmZm5tqHQJqZmZkZmYhAzczMzExXiUAAAAAAgBWKQDMzMzOz04pAZmZmZuaRi0CamZmZGVCMQM3MzMxMDo1AAAAAAIDMjUAzMzMzs4qOQGZmZmbmSI9A\",\"dtype\":\"float64\",\"shape\":[75]}},\"selected\":{\"id\":\"01921830-0804-4005-9b68-8c50fdd1e02f\",\"type\":\"Selection\"},\"selection_policy\":{\"id\":\"cced43fc-7616-4af7-bd67-90be95324310\",\"type\":\"UnionRenderers\"}},\"id\":\"e9861282-3680-4c31-8755-45d16c906f18\",\"type\":\"ColumnDataSource\"},{\"attributes\":{\"num_minor_ticks\":10},\"id\":\"a7c18ede-e23f-4e3c-88d8-6503c2e8c9fe\",\"type\":\"LogTicker\"},{\"attributes\":{\"callback\":null,\"data\":{\"x\":{\"__ndarray__\":\"uocTvzqzcr/VKbiklqlyv+jMiNa7lHK/axAwuyp+cr/87qneEmdyv1FaUsp4T3K/QzKmmVw3cr/j7XH4vh5yv4d8Z2KgBXK/N9gJIwXscb8e0P+W89Fxv8ocrRxxt3G/rZvUTIWccb8CwF6NZn9xv5IZuwIiJHG/OBz2eKoOcL8mZOCzh1Nsv12oGzAYeGe/8W4zvU5vYb9mw/WDFQJUv4XoPlpwLR6/YmcnFyzbUz9rUuOE1vpjP3JbZHyN3WQ/wnsWnY/fWT8h2Nsqd5c9P8amZR+XF0O/qW8beaBWWL8xsD/m0lpiv/KtG/Bqkme/bZQTOwM0bL80NZFhqhxwv+TuX5jNlXG/idICXmSOcr9BIZNwR1Zzv/1pF9pP+3O/CL+IinVJdL8xm0oH7m50v9hLGOtpcHS/Ok2Tz3NPdL/TomD8K6Fzvw1Z7TqMa3K/dhYtX58Jcb+yGUD1mBNvv90ND1LRB2y/hk5oRoHtaL8SLp5hdeJlv3v+7LLcrGK/NDJTUA3YXr/Zm02EY09Yv8Kww+ETzlG/XERJsSFBR7/z+QW1bW80v1+SEdRx4RM/PbkKXbQfPj+4blHbXTFLP5yN3G3z01M/FDgdbQoXWj+p6i8FtSlgPzMF0zajQmM//u8oT4k9Zj9N5WFfumJpP7//xLzWe2w/WGfPOcWQbz8iqvKxwkNxPxKJ5X7ex3I/1l0DGJtBdD/qP2t+/KV1P0JBFlLY5nY/WCE3lPkGeD8ZzZbgVxt5P7LHucXrHno/88eNSsUZez8BXGYbswF8P0QxTDkl+Hw/\",\"dtype\":\"float64\",\"shape\":[75]},\"y\":{\"__ndarray__\":\"GhExyth1ND/Sv8nbtpRIP2vylNV0PVE/aTum7souWD/At0SJ8fVgPw3Iuahxymc/MSNhhJWvcD/bTfBN02d3P2zb5nxnaoA/CD5h5MAGhz8NmeH1TyaQP+zrCsc9p5Y/LbKd76fGnz/bLW5ISEmmPww9YvTcQq8/JV2OstnstT8Er5Y7M8G+P0c+r3jqkcU/5h99k6ZBzj88bCIzFzjVP4enV8oyxN0//yH99nXg5D8qOpLLf0jtP5kqGJXUifQ/c9cS8kHP/D+/DpwzojQEQIEmwoanVwxA4lgXt9HgE0BSSZ2AJuIbQAMJih9jjiNA5q4l5INuK0AwTKYKRj0zQNv5fmq8/DpAaCJseHrtQkB/+zpwzoxKQM3MzMzMeFJAZmZmZmZqWEAAAAAAAFxeQM3MzMzMJmJAmpmZmZkfZUBmZmZmZhhoQDMzMzMzEWtAAAAAAAAKbkBmZmZmZoFwQM3MzMzM/XFAMzMzMzN6c0CamZmZmfZ0QAAAAAAAc3ZAZmZmZmbvd0DNzMzMzGt5QDMzMzMz6HpAmpmZmZlkfEAAAAAAAOF9QGZmZmZmXX9AZmZmZuZsgECamZmZGSuBQM3MzMxM6YFAAAAAAICngkAzMzMzs2WDQGZmZmbmI4RAmpmZmRnihEDNzMzMTKCFQAAAAACAXoZAMzMzM7Mch0BmZmZm5tqHQJqZmZkZmYhAzczMzExXiUAAAAAAgBWKQDMzMzOz04pAZmZmZuaRi0CamZmZGVCMQM3MzMxMDo1AAAAAAIDMjUAzMzMzs4qOQGZmZmbmSI9A\",\"dtype\":\"float64\",\"shape\":[75]}},\"selected\":{\"id\":\"c427fd42-1a3a-422d-8deb-768bab156baf\",\"type\":\"Selection\"},\"selection_policy\":{\"id\":\"71533fbe-2b74-491b-97c2-d696fb2918bd\",\"type\":\"UnionRenderers\"}},\"id\":\"2abe9c37-c01a-4ccd-abd2-f9cb6e720002\",\"type\":\"ColumnDataSource\"},{\"attributes\":{\"source\":{\"id\":\"7199b662-a1db-4a48-92ce-b22215f420ba\",\"type\":\"ColumnDataSource\"}},\"id\":\"68e997e2-3711-4321-94e6-75d5dfa5c5c1\",\"type\":\"CDSView\"},{\"attributes\":{},\"id\":\"8b451655-de75-4b71-80a6-8bf5ac73088e\",\"type\":\"PanTool\"},{\"attributes\":{\"data_source\":{\"id\":\"0bb9285b-4034-44d6-83e3-0d850a18f4f9\",\"type\":\"ColumnDataSource\"},\"glyph\":{\"id\":\"ca690c11-edb8-4046-b120-475826539661\",\"type\":\"Circle\"},\"hover_glyph\":null,\"muted_glyph\":null,\"nonselection_glyph\":{\"id\":\"0bb2084c-3cb7-453c-9b15-0894e3114a7f\",\"type\":\"Circle\"},\"selection_glyph\":null,\"view\":{\"id\":\"05bd2efa-0fed-4929-97ca-cc44564311c7\",\"type\":\"CDSView\"}},\"id\":\"e1dd75d4-da3f-44fe-b775-632b973c60be\",\"type\":\"GlyphRenderer\"},{\"attributes\":{},\"id\":\"35295f85-9641-4524-8263-3d6ea517c35c\",\"type\":\"HelpTool\"},{\"attributes\":{\"axis_label\":\"pressure [mb]\",\"formatter\":{\"id\":\"15ad0309-d582-47a3-93dd-72441bc014cd\",\"type\":\"LogTickFormatter\"},\"plot\":{\"id\":\"3fd1c138-325f-4dd4-83cf-8e45992a68d2\",\"subtype\":\"Figure\",\"type\":\"Plot\"},\"ticker\":{\"id\":\"a7c18ede-e23f-4e3c-88d8-6503c2e8c9fe\",\"type\":\"LogTicker\"}},\"id\":\"91be983b-60ee-46c9-9b07-e9a0debb3fb0\",\"type\":\"LogAxis\"},{\"attributes\":{\"source\":{\"id\":\"0bb9285b-4034-44d6-83e3-0d850a18f4f9\",\"type\":\"ColumnDataSource\"}},\"id\":\"05bd2efa-0fed-4929-97ca-cc44564311c7\",\"type\":\"CDSView\"},{\"attributes\":{\"fill_alpha\":{\"value\":0.7},\"fill_color\":{\"value\":\"#4daf4a\"},\"line_alpha\":{\"value\":0.7},\"line_color\":{\"value\":\"#4daf4a\"},\"x\":{\"field\":\"x\"},\"y\":{\"field\":\"y\"}},\"id\":\"ca690c11-edb8-4046-b120-475826539661\",\"type\":\"Circle\"},{\"attributes\":{\"plot\":{\"id\":\"3fd1c138-325f-4dd4-83cf-8e45992a68d2\",\"subtype\":\"Figure\",\"type\":\"Plot\"},\"ticker\":{\"id\":\"5feededd-a6e1-45ef-bc24-9ff1241303fa\",\"type\":\"BasicTicker\"}},\"id\":\"997d1982-0573-4c6a-8730-1af457b1adeb\",\"type\":\"Grid\"},{\"attributes\":{\"line_color\":\"#4daf4a\",\"line_width\":1.5,\"x\":{\"field\":\"x\"},\"y\":{\"field\":\"y\"}},\"id\":\"0d0cdae2-de37-4547-a1a4-44844c2fe68a\",\"type\":\"Line\"},{\"attributes\":{\"callback\":null,\"data\":{\"x\":{\"__ndarray__\":\"hzmVUYuWYr8SW/DUMoFiv5IaBu8MU2K/gC9CxtUgYr+t8ZfrdO1hv3e7ww4ouWG/wkc77AmEYb/5gOywY05hvyAHjtROF2G/6J1dklDgYL8fNV0Ad6hgv4Nsgxlmb2C/4UndXmo1YL+x29CdM+xfvwpOd/l6YF6/38UpYceyWb/Z5G1/x6RRv5f2MyLHkz2/Zx7IHs4ENT9uayhJoMdUPxM5i/pHz2M/YFRUceoZbz+f3LvxKr50P3FdcawkHXU/71Qt2v3ZcD8E6qCVM9BnP9sGNKjkgl0/kdYm74NrSz8Ogu/Xecn4PpWlwwk6I0a/GIvKeQuTVb9z+WvHT0lfv4Z/5CCgt2O/k3n7YlwZZ7/hieVGNGlqv7hEobKQqm2/X46dPqIMcL+27F37Ottwv24Wpf8CjHG/PD+ormz9cb/3/D+2xMRxv/XVtmHL5HC/yxcNAKmSb7+XbHSCwSttvxmp12uKoGq/jfVqTyv2Z7+I6lB+8DBlvyoWewyvVGK/K58ZkDrLXr8Pg59O985Yv2yh2Mh9xFK/4TxIlcxwSb/gjjRIF8k6vwsAh/QoTAa/oHN0H+gsNT+C10ul5ZVGP23LQ1B8T1E/U/ONU/FZVz+RyWWAZGpdP9CxRjBjwGE/mVxOQlfNZD/XFDIa7NtnP6N8CobP62o/1l7SPCr8bT/BzV6NHoVwPzYXE60pCHI/iyteEACBcz9rBhC0feV0P/A3BhdFLHY/boycy+1Tdz+vv7SGHGR4P+L4i6RXZnk/CMCH6Bphej88+YmGsld7P9r1z+6wS3w/\",\"dtype\":\"float64\",\"shape\":[75]},\"y\":{\"__ndarray__\":\"GhExyth1ND/Sv8nbtpRIP2vylNV0PVE/aTum7souWD/At0SJ8fVgPw3Iuahxymc/MSNhhJWvcD/bTfBN02d3P2zb5nxnaoA/CD5h5MAGhz8NmeH1TyaQP+zrCsc9p5Y/LbKd76fGnz/bLW5ISEmmPww9YvTcQq8/JV2OstnstT8Er5Y7M8G+P0c+r3jqkcU/5h99k6ZBzj88bCIzFzjVP4enV8oyxN0//yH99nXg5D8qOpLLf0jtP5kqGJXUifQ/c9cS8kHP/D+/DpwzojQEQIEmwoanVwxA4lgXt9HgE0BSSZ2AJuIbQAMJih9jjiNA5q4l5INuK0AwTKYKRj0zQNv5fmq8/DpAaCJseHrtQkB/+zpwzoxKQM3MzMzMeFJAZmZmZmZqWEAAAAAAAFxeQM3MzMzMJmJAmpmZmZkfZUBmZmZmZhhoQDMzMzMzEWtAAAAAAAAKbkBmZmZmZoFwQM3MzMzM/XFAMzMzMzN6c0CamZmZmfZ0QAAAAAAAc3ZAZmZmZmbvd0DNzMzMzGt5QDMzMzMz6HpAmpmZmZlkfEAAAAAAAOF9QGZmZmZmXX9AZmZmZuZsgECamZmZGSuBQM3MzMxM6YFAAAAAAICngkAzMzMzs2WDQGZmZmbmI4RAmpmZmRnihEDNzMzMTKCFQAAAAACAXoZAMzMzM7Mch0BmZmZm5tqHQJqZmZkZmYhAzczMzExXiUAAAAAAgBWKQDMzMzOz04pAZmZmZuaRi0CamZmZGVCMQM3MzMxMDo1AAAAAAIDMjUAzMzMzs4qOQGZmZmbmSI9A\",\"dtype\":\"float64\",\"shape\":[75]}},\"selected\":{\"id\":\"183f7f12-d3cb-46ff-919e-4136a5299143\",\"type\":\"Selection\"},\"selection_policy\":{\"id\":\"83870021-1620-47dd-96b4-dddac33804fa\",\"type\":\"UnionRenderers\"}},\"id\":\"0bb9285b-4034-44d6-83e3-0d850a18f4f9\",\"type\":\"ColumnDataSource\"},{\"attributes\":{\"fill_alpha\":{\"value\":0.7},\"fill_color\":{\"value\":\"#984ea3\"},\"line_alpha\":{\"value\":0.7},\"line_color\":{\"value\":\"#984ea3\"},\"x\":{\"field\":\"x\"},\"y\":{\"field\":\"y\"}},\"id\":\"e11f0681-e149-4677-9f8d-d6df4d25b56f\",\"type\":\"Square\"},{\"attributes\":{\"children\":[{\"id\":\"2f9cfc91-4160-444e-b2b4-892b5a8da4c7\",\"subtype\":\"Figure\",\"type\":\"Plot\"},{\"id\":\"3fd1c138-325f-4dd4-83cf-8e45992a68d2\",\"subtype\":\"Figure\",\"type\":\"Plot\"}]},\"id\":\"9ba301e2-cbe0-4d57-a264-44a6cf2663a3\",\"type\":\"Row\"},{\"attributes\":{},\"id\":\"b54f2afe-a4a7-4477-9aa0-ec11ed2692d2\",\"type\":\"ResetTool\"},{\"attributes\":{\"line_alpha\":0.1,\"line_color\":\"#1f77b4\",\"line_width\":3,\"x\":{\"field\":\"x\"},\"y\":{\"field\":\"y\"}},\"id\":\"a410245f-6429-48f5-bdf9-4cff42a42064\",\"type\":\"Line\"},{\"attributes\":{\"source\":{\"id\":\"69d56520-ad9d-49c1-9b47-5f7951bd2835\",\"type\":\"ColumnDataSource\"}},\"id\":\"6010eb79-4966-4f72-b0a3-ab4d455e60a5\",\"type\":\"CDSView\"},{\"attributes\":{},\"id\":\"f23e5a21-3aa2-4a05-a1e2-0b9c4e0c8ca2\",\"type\":\"BasicTickFormatter\"},{\"attributes\":{\"data_source\":{\"id\":\"2abe9c37-c01a-4ccd-abd2-f9cb6e720002\",\"type\":\"ColumnDataSource\"},\"glyph\":{\"id\":\"e11f0681-e149-4677-9f8d-d6df4d25b56f\",\"type\":\"Square\"},\"hover_glyph\":null,\"muted_glyph\":null,\"nonselection_glyph\":{\"id\":\"92331401-a1ed-4111-80f1-988c476d9962\",\"type\":\"Square\"},\"selection_glyph\":null,\"view\":{\"id\":\"be259f5a-3642-4395-9101-d0b1842c5575\",\"type\":\"CDSView\"}},\"id\":\"a5bae5d9-d98c-44fa-a938-f65881320b34\",\"type\":\"GlyphRenderer\"},{\"attributes\":{},\"id\":\"32ec3907-3ed5-4ddb-9410-b21605880774\",\"type\":\"UnionRenderers\"},{\"attributes\":{\"label\":{\"value\":\"CLIRAD `coolr_bands`\"},\"renderers\":[{\"id\":\"31a996b8-84d4-47a2-99ad-237c1094075f\",\"type\":\"GlyphRenderer\"}]},\"id\":\"74d3ce7b-d3d0-4fe6-bce8-befc5df5a169\",\"type\":\"LegendItem\"},{\"attributes\":{},\"id\":\"c49443f1-7fe5-4df2-9b23-d7e65a6a9d9a\",\"type\":\"SaveTool\"},{\"attributes\":{},\"id\":\"f5c8ff92-3002-40ef-8ea5-75a373e4c8bf\",\"type\":\"Selection\"},{\"attributes\":{\"label\":{\"value\":\"CRD\"},\"renderers\":[{\"id\":\"e1dd75d4-da3f-44fe-b775-632b973c60be\",\"type\":\"GlyphRenderer\"},{\"id\":\"7ef02835-a41c-41d2-9401-ed1a58b5fde8\",\"type\":\"GlyphRenderer\"}]},\"id\":\"96d2d626-35d2-4d44-b2ee-2fd2cd4e5e32\",\"type\":\"LegendItem\"},{\"attributes\":{\"callback\":null,\"data\":{\"x\":{\"__ndarray__\":\"d58HIR4VcL/51oz3H+xvv3oCrBB5BHC/xKIXbm/pb79+IgssksNvv6bfqXNRnG+/5LTcH4x0b7/Uiu+DbEtvv5UMY3+XIW+/lrk69QH3br8VAXzerspuv1JwBjV7nW6/VVLBBl9vbr/ntY0TYzhuvzQAqN4ymW2/08x+0L/Ma7/7uJbGuK1ov3lQC0g0pmS/1JbMBpg/X7+zxxk4GNlSv2pMAzDB2y2/k3hDxLXSTD8zhVvx3idfPwMZMZfDU2A/g1ZrX4NwUz9Tt/TSAwEwP8LZmZfYVkS/0ArGqHaEVr/5Yrv4bG9gvzR7oYNc0GS/mNcQq2auaL9QI+gJdgVsv1ngS6O5dW6/98ZTQRMJcL+aqjq25a1wv9Y3eyJyM3G/dUaJFk9vcb+yHwOkP3Vxvw/+90AoeHG/0zLP2ypZcb/N9wxXOcNwv9QnCeYAam+/vMMcLsEDbb850+byvYNqv383CDOg8Ge/K2opCr9OZb+bNmdt6KBivyAiQfI/0l+/NTduxuxSWr/J4WVfWMtUv2tmlMPzhk6/koeOeweLQ79pZaqh7FIxv5gUeo5m1BA/VA2/FUuXOT9IBnhLZHFHP/ypgKKKB1E/FPR9ys9TVj+GWjp7M55bP34uIX5BdGA/88rnsJEYYz+ttrCgiLtlP7vYrisKXWg/2WFz5kP9aj/XyXn8Z5htP5gGX0cFFnA/1jbpYPtVcT+JoT1kb4VyP5UpuDEcnHM/Jga3rDiZdD/Fx1Z42IJ1P/K9JZKGYHY/w0FJ4FI3dz+IFxCO3Al4P3rsXNFc2Xg/\",\"dtype\":\"float64\",\"shape\":[75]},\"y\":{\"__ndarray__\":\"S/O/Q+51ND/Sv8nbtpRIP2vylNV0PVE/aTum7souWD/At0SJ8fVgPw3Iuahxymc/MSNhhJWvcD/bTfBN02d3P2zb5nxnaoA/CD5h5MAGhz8NmeH1TyaQP+zrCsc9p5Y/LbKd76fGnz/bLW5ISEmmPww9YvTcQq8/JV2OstnstT8Er5Y7M8G+P0c+r3jqkcU/5h99k6ZBzj88bCIzFzjVP4enV8oyxN0//yH99nXg5D8qOpLLf0jtP5kqGJXUifQ/c9cS8kHP/D+/DpwzojQEQIEmwoanVwxA4lgXt9HgE0BSSZ2AJuIbQAMJih9jjiNA5q4l5INuK0AwTKYKRj0zQNv5fmq8/DpAaCJseHrtQkB/+zpwzoxKQM3MzMzMeFJAZmZmZmZqWEAAAAAAAFxeQM3MzMzMJmJAmpmZmZkfZUBmZmZmZhhoQDMzMzMzEWtAAAAAAAAKbkBmZmZmZoFwQM3MzMzM/XFAMzMzMzN6c0CamZmZmfZ0QAAAAAAAc3ZAZmZmZmbvd0DNzMzMzGt5QDMzMzMz6HpAmpmZmZlkfEAAAAAAAOF9QGZmZmZmXX9AZmZmZuZsgECamZmZGSuBQM3MzMxM6YFAAAAAAICngkAzMzMzs2WDQGZmZmbmI4RAmpmZmRnihEDNzMzMTKCFQAAAAACAXoZAMzMzM7Mch0BmZmZm5tqHQJqZmZkZmYhAzczMzExXiUAAAAAAgBWKQDMzMzOz04pAZmZmZuaRi0CamZmZGVCMQM3MzMxMDo1AAAAAAIDMjUAzMzMzs4qOQGZmZmbmSI9A\",\"dtype\":\"float64\",\"shape\":[75]}},\"selected\":{\"id\":\"f5c8ff92-3002-40ef-8ea5-75a373e4c8bf\",\"type\":\"Selection\"},\"selection_policy\":{\"id\":\"54771d31-76c7-4f8e-a651-5b34f10e489f\",\"type\":\"UnionRenderers\"}},\"id\":\"7199b662-a1db-4a48-92ce-b22215f420ba\",\"type\":\"ColumnDataSource\"},{\"attributes\":{},\"id\":\"b17d173d-fcbc-4b0c-9518-e380ad9501bc\",\"type\":\"Selection\"},{\"attributes\":{\"label\":{\"value\":\"WGT igg=10 wgt_flux=2\"},\"renderers\":[{\"id\":\"a5bae5d9-d98c-44fa-a938-f65881320b34\",\"type\":\"GlyphRenderer\"},{\"id\":\"14f13661-7d60-459a-b3cd-3f3ae11c47d9\",\"type\":\"GlyphRenderer\"}]},\"id\":\"99fb2f67-a198-4b58-ae28-5411fd2d99bc\",\"type\":\"LegendItem\"},{\"attributes\":{\"callback\":null,\"data\":{\"x\":{\"__ndarray__\":\"uocTvzqzcr/VKbiklqlyv+jMiNa7lHK/axAwuyp+cr/87qneEmdyv1FaUsp4T3K/QzKmmVw3cr/j7XH4vh5yv4d8Z2KgBXK/N9gJIwXscb8e0P+W89Fxv8ocrRxxt3G/rZvUTIWccb8CwF6NZn9xv5IZuwIiJHG/OBz2eKoOcL8mZOCzh1Nsv12oGzAYeGe/8W4zvU5vYb9mw/WDFQJUv4XoPlpwLR6/YmcnFyzbUz9rUuOE1vpjP3JbZHyN3WQ/wnsWnY/fWT8h2Nsqd5c9P8amZR+XF0O/qW8beaBWWL8xsD/m0lpiv/KtG/Bqkme/bZQTOwM0bL80NZFhqhxwv+TuX5jNlXG/idICXmSOcr9BIZNwR1Zzv/1pF9pP+3O/CL+IinVJdL8xm0oH7m50v9hLGOtpcHS/Ok2Tz3NPdL/TomD8K6Fzvw1Z7TqMa3K/dhYtX58Jcb+yGUD1mBNvv90ND1LRB2y/hk5oRoHtaL8SLp5hdeJlv3v+7LLcrGK/NDJTUA3YXr/Zm02EY09Yv8Kww+ETzlG/XERJsSFBR7/z+QW1bW80v1+SEdRx4RM/PbkKXbQfPj+4blHbXTFLP5yN3G3z01M/FDgdbQoXWj+p6i8FtSlgPzMF0zajQmM//u8oT4k9Zj9N5WFfumJpP7//xLzWe2w/WGfPOcWQbz8iqvKxwkNxPxKJ5X7ex3I/1l0DGJtBdD/qP2t+/KV1P0JBFlLY5nY/WCE3lPkGeD8ZzZbgVxt5P7LHucXrHno/88eNSsUZez8BXGYbswF8P0QxTDkl+Hw/\",\"dtype\":\"float64\",\"shape\":[75]},\"y\":{\"__ndarray__\":\"GhExyth1ND/Sv8nbtpRIP2vylNV0PVE/aTum7souWD/At0SJ8fVgPw3Iuahxymc/MSNhhJWvcD/bTfBN02d3P2zb5nxnaoA/CD5h5MAGhz8NmeH1TyaQP+zrCsc9p5Y/LbKd76fGnz/bLW5ISEmmPww9YvTcQq8/JV2OstnstT8Er5Y7M8G+P0c+r3jqkcU/5h99k6ZBzj88bCIzFzjVP4enV8oyxN0//yH99nXg5D8qOpLLf0jtP5kqGJXUifQ/c9cS8kHP/D+/DpwzojQEQIEmwoanVwxA4lgXt9HgE0BSSZ2AJuIbQAMJih9jjiNA5q4l5INuK0AwTKYKRj0zQNv5fmq8/DpAaCJseHrtQkB/+zpwzoxKQM3MzMzMeFJAZmZmZmZqWEAAAAAAAFxeQM3MzMzMJmJAmpmZmZkfZUBmZmZmZhhoQDMzMzMzEWtAAAAAAAAKbkBmZmZmZoFwQM3MzMzM/XFAMzMzMzN6c0CamZmZmfZ0QAAAAAAAc3ZAZmZmZmbvd0DNzMzMzGt5QDMzMzMz6HpAmpmZmZlkfEAAAAAAAOF9QGZmZmZmXX9AZmZmZuZsgECamZmZGSuBQM3MzMxM6YFAAAAAAICngkAzMzMzs2WDQGZmZmbmI4RAmpmZmRnihEDNzMzMTKCFQAAAAACAXoZAMzMzM7Mch0BmZmZm5tqHQJqZmZkZmYhAzczMzExXiUAAAAAAgBWKQDMzMzOz04pAZmZmZuaRi0CamZmZGVCMQM3MzMxMDo1AAAAAAIDMjUAzMzMzs4qOQGZmZmbmSI9A\",\"dtype\":\"float64\",\"shape\":[75]}},\"selected\":{\"id\":\"7ccdf2f0-cf51-4fdd-b84b-d90ccc3a68bf\",\"type\":\"Selection\"},\"selection_policy\":{\"id\":\"55e768f4-9719-4326-996c-9e73795e906a\",\"type\":\"UnionRenderers\"}},\"id\":\"69d56520-ad9d-49c1-9b47-5f7951bd2835\",\"type\":\"ColumnDataSource\"},{\"attributes\":{},\"id\":\"8dc07602-1c09-402d-a2e1-656cdaf782a0\",\"type\":\"UnionRenderers\"},{\"attributes\":{},\"id\":\"d4162e8f-7643-4f30-86d8-8e1f18d48121\",\"type\":\"BasicTickFormatter\"},{\"attributes\":{},\"id\":\"a81db51f-e602-40b9-8ce4-efb7e32ca7a4\",\"type\":\"Selection\"},{\"attributes\":{\"source\":{\"id\":\"2abe9c37-c01a-4ccd-abd2-f9cb6e720002\",\"type\":\"ColumnDataSource\"}},\"id\":\"be259f5a-3642-4395-9101-d0b1842c5575\",\"type\":\"CDSView\"},{\"attributes\":{},\"id\":\"bcc29b8d-235c-45af-868c-b01724b31484\",\"type\":\"UnionRenderers\"},{\"attributes\":{\"dimension\":1,\"plot\":{\"id\":\"3fd1c138-325f-4dd4-83cf-8e45992a68d2\",\"subtype\":\"Figure\",\"type\":\"Plot\"},\"ticker\":{\"id\":\"a7c18ede-e23f-4e3c-88d8-6503c2e8c9fe\",\"type\":\"LogTicker\"}},\"id\":\"d33a7488-f753-43c1-ba67-9e27e03db5cc\",\"type\":\"Grid\"},{\"attributes\":{},\"id\":\"08660a42-3444-40d5-8cb8-54bfa8601192\",\"type\":\"Selection\"},{\"attributes\":{\"line_alpha\":0.6,\"line_color\":\"#e41a1c\",\"line_dash\":[6],\"line_width\":5,\"x\":{\"field\":\"x\"},\"y\":{\"field\":\"y\"}},\"id\":\"4ca5b201-817b-414d-8870-a3402e94e7ef\",\"type\":\"Line\"},{\"attributes\":{},\"id\":\"64fcbccb-4ccf-43f4-b141-662dee8b5f9e\",\"type\":\"UnionRenderers\"},{\"attributes\":{},\"id\":\"a560729c-caf8-4e36-8ac1-797d2d70cdc3\",\"type\":\"Selection\"},{\"attributes\":{\"ticker\":null},\"id\":\"15ad0309-d582-47a3-93dd-72441bc014cd\",\"type\":\"LogTickFormatter\"},{\"attributes\":{},\"id\":\"743e538d-22fc-414f-8423-a60038c3045a\",\"type\":\"BasicTickFormatter\"},{\"attributes\":{},\"id\":\"9a388373-8780-460e-8411-ff275f01dad7\",\"type\":\"UnionRenderers\"},{\"attributes\":{},\"id\":\"33b21611-09cc-42df-b861-cdf6ac81446e\",\"type\":\"Selection\"},{\"attributes\":{},\"id\":\"cced43fc-7616-4af7-bd67-90be95324310\",\"type\":\"UnionRenderers\"},{\"attributes\":{},\"id\":\"01921830-0804-4005-9b68-8c50fdd1e02f\",\"type\":\"Selection\"},{\"attributes\":{\"line_alpha\":0.6,\"line_color\":\"#984ea3\",\"line_width\":3,\"x\":{\"field\":\"x\"},\"y\":{\"field\":\"y\"}},\"id\":\"9b9e61be-d46b-428e-a003-57158eb8e124\",\"type\":\"Line\"},{\"attributes\":{},\"id\":\"54771d31-76c7-4f8e-a651-5b34f10e489f\",\"type\":\"UnionRenderers\"},{\"attributes\":{},\"id\":\"83870021-1620-47dd-96b4-dddac33804fa\",\"type\":\"UnionRenderers\"},{\"attributes\":{},\"id\":\"183f7f12-d3cb-46ff-919e-4136a5299143\",\"type\":\"Selection\"},{\"attributes\":{},\"id\":\"5feededd-a6e1-45ef-bc24-9ff1241303fa\",\"type\":\"BasicTicker\"},{\"attributes\":{},\"id\":\"71533fbe-2b74-491b-97c2-d696fb2918bd\",\"type\":\"UnionRenderers\"},{\"attributes\":{},\"id\":\"c427fd42-1a3a-422d-8deb-768bab156baf\",\"type\":\"Selection\"},{\"attributes\":{\"tools\":[{\"id\":\"3764ca6d-288f-495a-adf4-cd419898d47f\",\"type\":\"PanTool\"},{\"id\":\"45e2c5e3-64eb-4d5b-9ae3-782f0fe108b4\",\"type\":\"WheelZoomTool\"},{\"id\":\"82c2a8be-7f1c-4aea-8f07-b81732b3ef62\",\"type\":\"BoxZoomTool\"},{\"id\":\"99dcc619-5f41-43db-b78d-1c9130e800de\",\"type\":\"SaveTool\"},{\"id\":\"0ad5abe9-2fb9-45e2-83b4-85ae6d422884\",\"type\":\"ResetTool\"},{\"id\":\"bacb1701-0c7e-4981-bd8b-c28050a386ea\",\"type\":\"HelpTool\"},{\"id\":\"8b451655-de75-4b71-80a6-8bf5ac73088e\",\"type\":\"PanTool\"},{\"id\":\"f2f3ebe1-6bcc-47dd-9788-4c9a4f0dd1ab\",\"type\":\"WheelZoomTool\"},{\"id\":\"99a6b1c8-5e21-4771-ab59-5ba378700c15\",\"type\":\"BoxZoomTool\"},{\"id\":\"c49443f1-7fe5-4df2-9b23-d7e65a6a9d9a\",\"type\":\"SaveTool\"},{\"id\":\"b54f2afe-a4a7-4477-9aa0-ec11ed2692d2\",\"type\":\"ResetTool\"},{\"id\":\"35295f85-9641-4524-8263-3d6ea517c35c\",\"type\":\"HelpTool\"}]},\"id\":\"eb60ad7d-eab8-4dbe-a796-2292134b44e7\",\"type\":\"ProxyToolbar\"},{\"attributes\":{\"toolbar\":{\"id\":\"eb60ad7d-eab8-4dbe-a796-2292134b44e7\",\"type\":\"ProxyToolbar\"},\"toolbar_location\":\"above\"},\"id\":\"ef77d826-eab1-449a-8f71-f6e6e09f3d5a\",\"type\":\"ToolbarBox\"},{\"attributes\":{},\"id\":\"55e768f4-9719-4326-996c-9e73795e906a\",\"type\":\"UnionRenderers\"},{\"attributes\":{\"line_alpha\":0.6,\"line_color\":\"#e41a1c\",\"line_dash\":[6],\"line_width\":5,\"x\":{\"field\":\"x\"},\"y\":{\"field\":\"y\"}},\"id\":\"c28bcce5-9bba-4423-8246-1f8ae4b32fc2\",\"type\":\"Line\"},{\"attributes\":{},\"id\":\"7ccdf2f0-cf51-4fdd-b84b-d90ccc3a68bf\",\"type\":\"Selection\"},{\"attributes\":{\"children\":[{\"id\":\"ef77d826-eab1-449a-8f71-f6e6e09f3d5a\",\"type\":\"ToolbarBox\"},{\"id\":\"ebad96eb-3152-42c6-8168-88b0c0b98604\",\"type\":\"Column\"}]},\"id\":\"19103330-f3d4-4975-96ed-11ab8dee9c51\",\"type\":\"Column\"},{\"attributes\":{\"overlay\":{\"id\":\"ba505bf6-24a6-46f9-a8c0-aae6e0e4071d\",\"type\":\"BoxAnnotation\"}},\"id\":\"99a6b1c8-5e21-4771-ab59-5ba378700c15\",\"type\":\"BoxZoomTool\"},{\"attributes\":{\"overlay\":{\"id\":\"f36eb030-e62e-4761-9e1a-013c42e299cc\",\"type\":\"BoxAnnotation\"}},\"id\":\"82c2a8be-7f1c-4aea-8f07-b81732b3ef62\",\"type\":\"BoxZoomTool\"},{\"attributes\":{\"source\":{\"id\":\"8ec4bf09-1f29-4560-acc5-f4fcf243b6d3\",\"type\":\"ColumnDataSource\"}},\"id\":\"84fd1b8f-0844-4595-882a-af84ca3e9154\",\"type\":\"CDSView\"},{\"attributes\":{},\"id\":\"8ed57b19-880d-428c-9fc6-0bf75cdf8c3c\",\"type\":\"LogScale\"},{\"attributes\":{\"callback\":null,\"data\":{\"x\":{\"__ndarray__\":\"d58HIR4VcL/51oz3H+xvv3oCrBB5BHC/xKIXbm/pb79+IgssksNvv6bfqXNRnG+/5LTcH4x0b7/Uiu+DbEtvv5UMY3+XIW+/lrk69QH3br8VAXzerspuv1JwBjV7nW6/VVLBBl9vbr/ntY0TYzhuvzQAqN4ymW2/08x+0L/Ma7/7uJbGuK1ov3lQC0g0pmS/1JbMBpg/X7+zxxk4GNlSv2pMAzDB2y2/k3hDxLXSTD8zhVvx3idfPwMZMZfDU2A/g1ZrX4NwUz9Tt/TSAwEwP8LZmZfYVkS/0ArGqHaEVr/5Yrv4bG9gvzR7oYNc0GS/mNcQq2auaL9QI+gJdgVsv1ngS6O5dW6/98ZTQRMJcL+aqjq25a1wv9Y3eyJyM3G/dUaJFk9vcb+yHwOkP3Vxvw/+90AoeHG/0zLP2ypZcb/N9wxXOcNwv9QnCeYAam+/vMMcLsEDbb850+byvYNqv383CDOg8Ge/K2opCr9OZb+bNmdt6KBivyAiQfI/0l+/NTduxuxSWr/J4WVfWMtUv2tmlMPzhk6/koeOeweLQ79pZaqh7FIxv5gUeo5m1BA/VA2/FUuXOT9IBnhLZHFHP/ypgKKKB1E/FPR9ys9TVj+GWjp7M55bP34uIX5BdGA/88rnsJEYYz+ttrCgiLtlP7vYrisKXWg/2WFz5kP9aj/XyXn8Z5htP5gGX0cFFnA/1jbpYPtVcT+JoT1kb4VyP5UpuDEcnHM/Jga3rDiZdD/Fx1Z42IJ1P/K9JZKGYHY/w0FJ4FI3dz+IFxCO3Al4P3rsXNFc2Xg/\",\"dtype\":\"float64\",\"shape\":[75]},\"y\":{\"__ndarray__\":\"S/O/Q+51ND/Sv8nbtpRIP2vylNV0PVE/aTum7souWD/At0SJ8fVgPw3Iuahxymc/MSNhhJWvcD/bTfBN02d3P2zb5nxnaoA/CD5h5MAGhz8NmeH1TyaQP+zrCsc9p5Y/LbKd76fGnz/bLW5ISEmmPww9YvTcQq8/JV2OstnstT8Er5Y7M8G+P0c+r3jqkcU/5h99k6ZBzj88bCIzFzjVP4enV8oyxN0//yH99nXg5D8qOpLLf0jtP5kqGJXUifQ/c9cS8kHP/D+/DpwzojQEQIEmwoanVwxA4lgXt9HgE0BSSZ2AJuIbQAMJih9jjiNA5q4l5INuK0AwTKYKRj0zQNv5fmq8/DpAaCJseHrtQkB/+zpwzoxKQM3MzMzMeFJAZmZmZmZqWEAAAAAAAFxeQM3MzMzMJmJAmpmZmZkfZUBmZmZmZhhoQDMzMzMzEWtAAAAAAAAKbkBmZmZmZoFwQM3MzMzM/XFAMzMzMzN6c0CamZmZmfZ0QAAAAAAAc3ZAZmZmZmbvd0DNzMzMzGt5QDMzMzMz6HpAmpmZmZlkfEAAAAAAAOF9QGZmZmZmXX9AZmZmZuZsgECamZmZGSuBQM3MzMxM6YFAAAAAAICngkAzMzMzs2WDQGZmZmbmI4RAmpmZmRnihEDNzMzMTKCFQAAAAACAXoZAMzMzM7Mch0BmZmZm5tqHQJqZmZkZmYhAzczMzExXiUAAAAAAgBWKQDMzMzOz04pAZmZmZuaRi0CamZmZGVCMQM3MzMxMDo1AAAAAAIDMjUAzMzMzs4qOQGZmZmbmSI9A\",\"dtype\":\"float64\",\"shape\":[75]}},\"selected\":{\"id\":\"a81db51f-e602-40b9-8ce4-efb7e32ca7a4\",\"type\":\"Selection\"},\"selection_policy\":{\"id\":\"32ec3907-3ed5-4ddb-9410-b21605880774\",\"type\":\"UnionRenderers\"}},\"id\":\"8ec4bf09-1f29-4560-acc5-f4fcf243b6d3\",\"type\":\"ColumnDataSource\"},{\"attributes\":{\"data_source\":{\"id\":\"8ec4bf09-1f29-4560-acc5-f4fcf243b6d3\",\"type\":\"ColumnDataSource\"},\"glyph\":{\"id\":\"4ca5b201-817b-414d-8870-a3402e94e7ef\",\"type\":\"Line\"},\"hover_glyph\":null,\"muted_glyph\":null,\"nonselection_glyph\":{\"id\":\"9907c6a4-6847-4cce-a630-e16383441791\",\"type\":\"Line\"},\"selection_glyph\":null,\"view\":{\"id\":\"84fd1b8f-0844-4595-882a-af84ca3e9154\",\"type\":\"CDSView\"}},\"id\":\"a3485fe6-dc65-42f6-ae4e-d3996120734c\",\"type\":\"GlyphRenderer\"},{\"attributes\":{},\"id\":\"6becff7e-724e-42bd-8bc4-0b7750726f62\",\"type\":\"BasicTicker\"},{\"attributes\":{\"callback\":null,\"end\":0.005256193948999999,\"start\":-0.005091466249},\"id\":\"3488b51d-824b-4405-aeae-67551a86333a\",\"type\":\"Range1d\"},{\"attributes\":{},\"id\":\"bacb1701-0c7e-4981-bd8b-c28050a386ea\",\"type\":\"HelpTool\"},{\"attributes\":{},\"id\":\"0ad5abe9-2fb9-45e2-83b4-85ae6d422884\",\"type\":\"ResetTool\"},{\"attributes\":{\"line_alpha\":0.1,\"line_color\":\"#1f77b4\",\"line_width\":1.5,\"x\":{\"field\":\"x\"},\"y\":{\"field\":\"y\"}},\"id\":\"a2ec3478-454d-477e-9c68-b016543a14e8\",\"type\":\"Line\"},{\"attributes\":{\"axis_label\":\"cooling rate [K/day]\",\"formatter\":{\"id\":\"d4162e8f-7643-4f30-86d8-8e1f18d48121\",\"type\":\"BasicTickFormatter\"},\"plot\":{\"id\":\"2f9cfc91-4160-444e-b2b4-892b5a8da4c7\",\"subtype\":\"Figure\",\"type\":\"Plot\"},\"ticker\":{\"id\":\"e9501b72-2870-4faf-ba72-3c59c5164451\",\"type\":\"BasicTicker\"}},\"id\":\"37f411b3-a309-47db-808d-3eac788908a5\",\"type\":\"LinearAxis\"},{\"attributes\":{\"callback\":null,\"end\":0.01,\"start\":1020},\"id\":\"8a1e1ce3-377b-49e5-a4d7-f247b0a826b6\",\"type\":\"Range1d\"},{\"attributes\":{\"data_source\":{\"id\":\"b72ba70f-be89-48d8-989f-fecef7466e37\",\"type\":\"ColumnDataSource\"},\"glyph\":{\"id\":\"ffdf3bcf-cd51-43fe-810c-e3a8936a1dde\",\"type\":\"Line\"},\"hover_glyph\":null,\"muted_glyph\":null,\"nonselection_glyph\":{\"id\":\"a2ec3478-454d-477e-9c68-b016543a14e8\",\"type\":\"Line\"},\"selection_glyph\":null,\"view\":{\"id\":\"6031ebae-38b5-477b-b910-39ca99cfacbb\",\"type\":\"CDSView\"}},\"id\":\"248bd1e9-9c45-4560-a768-134400af756b\",\"type\":\"GlyphRenderer\"},{\"attributes\":{\"fill_alpha\":{\"value\":0.1},\"fill_color\":{\"value\":\"#1f77b4\"},\"line_alpha\":{\"value\":0.1},\"line_color\":{\"value\":\"#1f77b4\"},\"x\":{\"field\":\"x\"},\"y\":{\"field\":\"y\"}},\"id\":\"b57fbee9-ba18-49dd-bc5e-e9dc668320a0\",\"type\":\"Circle\"},{\"attributes\":{\"line_color\":\"#4daf4a\",\"line_width\":1.5,\"x\":{\"field\":\"x\"},\"y\":{\"field\":\"y\"}},\"id\":\"ffdf3bcf-cd51-43fe-810c-e3a8936a1dde\",\"type\":\"Line\"},{\"attributes\":{\"below\":[{\"id\":\"5b69fcbc-bd30-4372-bdbc-8f7d5458ea86\",\"type\":\"LinearAxis\"}],\"left\":[{\"id\":\"91be983b-60ee-46c9-9b07-e9a0debb3fb0\",\"type\":\"LogAxis\"}],\"plot_height\":500,\"plot_width\":560,\"renderers\":[{\"id\":\"5b69fcbc-bd30-4372-bdbc-8f7d5458ea86\",\"type\":\"LinearAxis\"},{\"id\":\"997d1982-0573-4c6a-8730-1af457b1adeb\",\"type\":\"Grid\"},{\"id\":\"91be983b-60ee-46c9-9b07-e9a0debb3fb0\",\"type\":\"LogAxis\"},{\"id\":\"d33a7488-f753-43c1-ba67-9e27e03db5cc\",\"type\":\"Grid\"},{\"id\":\"ba505bf6-24a6-46f9-a8c0-aae6e0e4071d\",\"type\":\"BoxAnnotation\"},{\"id\":\"31a996b8-84d4-47a2-99ad-237c1094075f\",\"type\":\"GlyphRenderer\"},{\"id\":\"e1dd75d4-da3f-44fe-b775-632b973c60be\",\"type\":\"GlyphRenderer\"},{\"id\":\"7ef02835-a41c-41d2-9401-ed1a58b5fde8\",\"type\":\"GlyphRenderer\"},{\"id\":\"a5bae5d9-d98c-44fa-a938-f65881320b34\",\"type\":\"GlyphRenderer\"},{\"id\":\"14f13661-7d60-459a-b3cd-3f3ae11c47d9\",\"type\":\"GlyphRenderer\"},{\"id\":\"0eb155a9-13ef-497a-88c3-9f00d84e040b\",\"type\":\"Legend\"}],\"right\":[{\"id\":\"0eb155a9-13ef-497a-88c3-9f00d84e040b\",\"type\":\"Legend\"}],\"title\":{\"id\":\"349f2095-9f85-4088-9d0f-bbe3f9c54666\",\"type\":\"Title\"},\"toolbar\":{\"id\":\"30b69b3f-47cd-488a-958b-611d1ca8c967\",\"type\":\"Toolbar\"},\"toolbar_location\":null,\"x_range\":{\"id\":\"3488b51d-824b-4405-aeae-67551a86333a\",\"type\":\"Range1d\"},\"x_scale\":{\"id\":\"737f42cc-7dfa-4a6e-aeb2-f57e2f4bd8bc\",\"type\":\"LinearScale\"},\"y_range\":{\"id\":\"8a1e1ce3-377b-49e5-a4d7-f247b0a826b6\",\"type\":\"Range1d\"},\"y_scale\":{\"id\":\"8ed57b19-880d-428c-9fc6-0bf75cdf8c3c\",\"type\":\"LogScale\"}},\"id\":\"3fd1c138-325f-4dd4-83cf-8e45992a68d2\",\"subtype\":\"Figure\",\"type\":\"Plot\"},{\"attributes\":{\"callback\":null,\"end\":0.01,\"start\":1020},\"id\":\"309467da-dfd1-42ee-8a14-cf0c8f3a2d26\",\"type\":\"Range1d\"},{\"attributes\":{\"fill_alpha\":{\"value\":0.7},\"fill_color\":{\"value\":\"#984ea3\"},\"line_alpha\":{\"value\":0.7},\"line_color\":{\"value\":\"#984ea3\"},\"x\":{\"field\":\"x\"},\"y\":{\"field\":\"y\"}},\"id\":\"2c8915bf-f3c1-43e3-976f-567fe7400b09\",\"type\":\"Square\"},{\"attributes\":{},\"id\":\"45e2c5e3-64eb-4d5b-9ae3-782f0fe108b4\",\"type\":\"WheelZoomTool\"},{\"attributes\":{\"source\":{\"id\":\"cfa84004-9c13-448b-978a-75ef67743d55\",\"type\":\"ColumnDataSource\"}},\"id\":\"6c4dad6b-23c8-46bd-83c4-35be9a9a3d5d\",\"type\":\"CDSView\"},{\"attributes\":{\"axis_label\":\"pressure [mb]\",\"formatter\":{\"id\":\"f23e5a21-3aa2-4a05-a1e2-0b9c4e0c8ca2\",\"type\":\"BasicTickFormatter\"},\"plot\":{\"id\":\"2f9cfc91-4160-444e-b2b4-892b5a8da4c7\",\"subtype\":\"Figure\",\"type\":\"Plot\"},\"ticker\":{\"id\":\"6becff7e-724e-42bd-8bc4-0b7750726f62\",\"type\":\"BasicTicker\"}},\"id\":\"b74c53a3-d770-40a9-a7e7-71a3876691a8\",\"type\":\"LinearAxis\"},{\"attributes\":{\"source\":{\"id\":\"b72ba70f-be89-48d8-989f-fecef7466e37\",\"type\":\"ColumnDataSource\"}},\"id\":\"6031ebae-38b5-477b-b910-39ca99cfacbb\",\"type\":\"CDSView\"},{\"attributes\":{\"line_alpha\":0.1,\"line_color\":\"#1f77b4\",\"line_width\":3,\"x\":{\"field\":\"x\"},\"y\":{\"field\":\"y\"}},\"id\":\"fdc4c1fb-ab22-45ea-9f3b-dcc4923e5be4\",\"type\":\"Line\"},{\"attributes\":{\"dimension\":1,\"plot\":{\"id\":\"2f9cfc91-4160-444e-b2b4-892b5a8da4c7\",\"subtype\":\"Figure\",\"type\":\"Plot\"},\"ticker\":{\"id\":\"6becff7e-724e-42bd-8bc4-0b7750726f62\",\"type\":\"BasicTicker\"}},\"id\":\"a376fca0-80b1-41b5-97d1-64e71ddd9747\",\"type\":\"Grid\"},{\"attributes\":{\"callback\":null,\"data\":{\"x\":{\"__ndarray__\":\"hzmVUYuWYr8SW/DUMoFiv5IaBu8MU2K/gC9CxtUgYr+t8ZfrdO1hv3e7ww4ouWG/wkc77AmEYb/5gOywY05hvyAHjtROF2G/6J1dklDgYL8fNV0Ad6hgv4Nsgxlmb2C/4UndXmo1YL+x29CdM+xfvwpOd/l6YF6/38UpYceyWb/Z5G1/x6RRv5f2MyLHkz2/Zx7IHs4ENT9uayhJoMdUPxM5i/pHz2M/YFRUceoZbz+f3LvxKr50P3FdcawkHXU/71Qt2v3ZcD8E6qCVM9BnP9sGNKjkgl0/kdYm74NrSz8Ogu/Xecn4PpWlwwk6I0a/GIvKeQuTVb9z+WvHT0lfv4Z/5CCgt2O/k3n7YlwZZ7/hieVGNGlqv7hEobKQqm2/X46dPqIMcL+27F37Ottwv24Wpf8CjHG/PD+ormz9cb/3/D+2xMRxv/XVtmHL5HC/yxcNAKmSb7+XbHSCwSttvxmp12uKoGq/jfVqTyv2Z7+I6lB+8DBlvyoWewyvVGK/K58ZkDrLXr8Pg59O985Yv2yh2Mh9xFK/4TxIlcxwSb/gjjRIF8k6vwsAh/QoTAa/oHN0H+gsNT+C10ul5ZVGP23LQ1B8T1E/U/ONU/FZVz+RyWWAZGpdP9CxRjBjwGE/mVxOQlfNZD/XFDIa7NtnP6N8CobP62o/1l7SPCr8bT/BzV6NHoVwPzYXE60pCHI/iyteEACBcz9rBhC0feV0P/A3BhdFLHY/boycy+1Tdz+vv7SGHGR4P+L4i6RXZnk/CMCH6Bphej88+YmGsld7P9r1z+6wS3w/\",\"dtype\":\"float64\",\"shape\":[75]},\"y\":{\"__ndarray__\":\"GhExyth1ND/Sv8nbtpRIP2vylNV0PVE/aTum7souWD/At0SJ8fVgPw3Iuahxymc/MSNhhJWvcD/bTfBN02d3P2zb5nxnaoA/CD5h5MAGhz8NmeH1TyaQP+zrCsc9p5Y/LbKd76fGnz/bLW5ISEmmPww9YvTcQq8/JV2OstnstT8Er5Y7M8G+P0c+r3jqkcU/5h99k6ZBzj88bCIzFzjVP4enV8oyxN0//yH99nXg5D8qOpLLf0jtP5kqGJXUifQ/c9cS8kHP/D+/DpwzojQEQIEmwoanVwxA4lgXt9HgE0BSSZ2AJuIbQAMJih9jjiNA5q4l5INuK0AwTKYKRj0zQNv5fmq8/DpAaCJseHrtQkB/+zpwzoxKQM3MzMzMeFJAZmZmZmZqWEAAAAAAAFxeQM3MzMzMJmJAmpmZmZkfZUBmZmZmZhhoQDMzMzMzEWtAAAAAAAAKbkBmZmZmZoFwQM3MzMzM/XFAMzMzMzN6c0CamZmZmfZ0QAAAAAAAc3ZAZmZmZmbvd0DNzMzMzGt5QDMzMzMz6HpAmpmZmZlkfEAAAAAAAOF9QGZmZmZmXX9AZmZmZuZsgECamZmZGSuBQM3MzMxM6YFAAAAAAICngkAzMzMzs2WDQGZmZmbmI4RAmpmZmRnihEDNzMzMTKCFQAAAAACAXoZAMzMzM7Mch0BmZmZm5tqHQJqZmZkZmYhAzczMzExXiUAAAAAAgBWKQDMzMzOz04pAZmZmZuaRi0CamZmZGVCMQM3MzMxMDo1AAAAAAIDMjUAzMzMzs4qOQGZmZmbmSI9A\",\"dtype\":\"float64\",\"shape\":[75]}},\"selected\":{\"id\":\"b17d173d-fcbc-4b0c-9518-e380ad9501bc\",\"type\":\"Selection\"},\"selection_policy\":{\"id\":\"64fcbccb-4ccf-43f4-b141-662dee8b5f9e\",\"type\":\"UnionRenderers\"}},\"id\":\"b72ba70f-be89-48d8-989f-fecef7466e37\",\"type\":\"ColumnDataSource\"},{\"attributes\":{},\"id\":\"3764ca6d-288f-495a-adf4-cd419898d47f\",\"type\":\"PanTool\"},{\"attributes\":{\"bottom_units\":\"screen\",\"fill_alpha\":{\"value\":0.5},\"fill_color\":{\"value\":\"lightgrey\"},\"left_units\":\"screen\",\"level\":\"overlay\",\"line_alpha\":{\"value\":1.0},\"line_color\":{\"value\":\"black\"},\"line_dash\":[4,4],\"line_width\":{\"value\":2},\"plot\":null,\"render_mode\":\"css\",\"right_units\":\"screen\",\"top_units\":\"screen\"},\"id\":\"f36eb030-e62e-4761-9e1a-013c42e299cc\",\"type\":\"BoxAnnotation\"},{\"attributes\":{\"active_drag\":\"auto\",\"active_inspect\":\"auto\",\"active_scroll\":\"auto\",\"active_tap\":\"auto\",\"tools\":[{\"id\":\"8b451655-de75-4b71-80a6-8bf5ac73088e\",\"type\":\"PanTool\"},{\"id\":\"f2f3ebe1-6bcc-47dd-9788-4c9a4f0dd1ab\",\"type\":\"WheelZoomTool\"},{\"id\":\"99a6b1c8-5e21-4771-ab59-5ba378700c15\",\"type\":\"BoxZoomTool\"},{\"id\":\"c49443f1-7fe5-4df2-9b23-d7e65a6a9d9a\",\"type\":\"SaveTool\"},{\"id\":\"b54f2afe-a4a7-4477-9aa0-ec11ed2692d2\",\"type\":\"ResetTool\"},{\"id\":\"35295f85-9641-4524-8263-3d6ea517c35c\",\"type\":\"HelpTool\"}]},\"id\":\"30b69b3f-47cd-488a-958b-611d1ca8c967\",\"type\":\"Toolbar\"},{\"attributes\":{},\"id\":\"737f42cc-7dfa-4a6e-aeb2-f57e2f4bd8bc\",\"type\":\"LinearScale\"},{\"attributes\":{\"source\":{\"id\":\"cb5fdf3b-c555-47fb-ac80-5da922f85b6b\",\"type\":\"ColumnDataSource\"}},\"id\":\"b6fbc2ea-aa72-4daf-826c-9abf6060935b\",\"type\":\"CDSView\"},{\"attributes\":{\"children\":[{\"id\":\"9ba301e2-cbe0-4d57-a264-44a6cf2663a3\",\"type\":\"Row\"}]},\"id\":\"ebad96eb-3152-42c6-8168-88b0c0b98604\",\"type\":\"Column\"},{\"attributes\":{\"callback\":null,\"data\":{\"x\":{\"__ndarray__\":\"uocTvzqzcr/VKbiklqlyv+jMiNa7lHK/axAwuyp+cr/87qneEmdyv1FaUsp4T3K/QzKmmVw3cr/j7XH4vh5yv4d8Z2KgBXK/N9gJIwXscb8e0P+W89Fxv8ocrRxxt3G/rZvUTIWccb8CwF6NZn9xv5IZuwIiJHG/OBz2eKoOcL8mZOCzh1Nsv12oGzAYeGe/8W4zvU5vYb9mw/WDFQJUv4XoPlpwLR6/YmcnFyzbUz9rUuOE1vpjP3JbZHyN3WQ/wnsWnY/fWT8h2Nsqd5c9P8amZR+XF0O/qW8beaBWWL8xsD/m0lpiv/KtG/Bqkme/bZQTOwM0bL80NZFhqhxwv+TuX5jNlXG/idICXmSOcr9BIZNwR1Zzv/1pF9pP+3O/CL+IinVJdL8xm0oH7m50v9hLGOtpcHS/Ok2Tz3NPdL/TomD8K6Fzvw1Z7TqMa3K/dhYtX58Jcb+yGUD1mBNvv90ND1LRB2y/hk5oRoHtaL8SLp5hdeJlv3v+7LLcrGK/NDJTUA3YXr/Zm02EY09Yv8Kww+ETzlG/XERJsSFBR7/z+QW1bW80v1+SEdRx4RM/PbkKXbQfPj+4blHbXTFLP5yN3G3z01M/FDgdbQoXWj+p6i8FtSlgPzMF0zajQmM//u8oT4k9Zj9N5WFfumJpP7//xLzWe2w/WGfPOcWQbz8iqvKxwkNxPxKJ5X7ex3I/1l0DGJtBdD/qP2t+/KV1P0JBFlLY5nY/WCE3lPkGeD8ZzZbgVxt5P7LHucXrHno/88eNSsUZez8BXGYbswF8P0QxTDkl+Hw/\",\"dtype\":\"float64\",\"shape\":[75]},\"y\":{\"__ndarray__\":\"GhExyth1ND/Sv8nbtpRIP2vylNV0PVE/aTum7souWD/At0SJ8fVgPw3Iuahxymc/MSNhhJWvcD/bTfBN02d3P2zb5nxnaoA/CD5h5MAGhz8NmeH1TyaQP+zrCsc9p5Y/LbKd76fGnz/bLW5ISEmmPww9YvTcQq8/JV2OstnstT8Er5Y7M8G+P0c+r3jqkcU/5h99k6ZBzj88bCIzFzjVP4enV8oyxN0//yH99nXg5D8qOpLLf0jtP5kqGJXUifQ/c9cS8kHP/D+/DpwzojQEQIEmwoanVwxA4lgXt9HgE0BSSZ2AJuIbQAMJih9jjiNA5q4l5INuK0AwTKYKRj0zQNv5fmq8/DpAaCJseHrtQkB/+zpwzoxKQM3MzMzMeFJAZmZmZmZqWEAAAAAAAFxeQM3MzMzMJmJAmpmZmZkfZUBmZmZmZhhoQDMzMzMzEWtAAAAAAAAKbkBmZmZmZoFwQM3MzMzM/XFAMzMzMzN6c0CamZmZmfZ0QAAAAAAAc3ZAZmZmZmbvd0DNzMzMzGt5QDMzMzMz6HpAmpmZmZlkfEAAAAAAAOF9QGZmZmZmXX9AZmZmZuZsgECamZmZGSuBQM3MzMxM6YFAAAAAAICngkAzMzMzs2WDQGZmZmbmI4RAmpmZmRnihEDNzMzMTKCFQAAAAACAXoZAMzMzM7Mch0BmZmZm5tqHQJqZmZkZmYhAzczMzExXiUAAAAAAgBWKQDMzMzOz04pAZmZmZuaRi0CamZmZGVCMQM3MzMxMDo1AAAAAAIDMjUAzMzMzs4qOQGZmZmbmSI9A\",\"dtype\":\"float64\",\"shape\":[75]}},\"selected\":{\"id\":\"33b21611-09cc-42df-b861-cdf6ac81446e\",\"type\":\"Selection\"},\"selection_policy\":{\"id\":\"9a388373-8780-460e-8411-ff275f01dad7\",\"type\":\"UnionRenderers\"}},\"id\":\"cb5fdf3b-c555-47fb-ac80-5da922f85b6b\",\"type\":\"ColumnDataSource\"},{\"attributes\":{\"fill_alpha\":{\"value\":0.1},\"fill_color\":{\"value\":\"#1f77b4\"},\"line_alpha\":{\"value\":0.1},\"line_color\":{\"value\":\"#1f77b4\"},\"x\":{\"field\":\"x\"},\"y\":{\"field\":\"y\"}},\"id\":\"a82ce3f4-d40c-48fe-b54d-2fe0ca585726\",\"type\":\"Square\"},{\"attributes\":{\"source\":{\"id\":\"01b42500-9a69-4976-b50d-ca5034cd1ce8\",\"type\":\"ColumnDataSource\"}},\"id\":\"b762f1ce-dfe3-44d1-b767-ba866ac7493f\",\"type\":\"CDSView\"},{\"attributes\":{\"callback\":null,\"end\":0.00719321346,\"start\":-0.00511064466},\"id\":\"c3e8a1e0-9689-45de-8246-0fe07d14893c\",\"type\":\"Range1d\"},{\"attributes\":{\"line_alpha\":0.1,\"line_color\":\"#1f77b4\",\"line_dash\":[6],\"line_width\":5,\"x\":{\"field\":\"x\"},\"y\":{\"field\":\"y\"}},\"id\":\"9907c6a4-6847-4cce-a630-e16383441791\",\"type\":\"Line\"},{\"attributes\":{},\"id\":\"99dcc619-5f41-43db-b78d-1c9130e800de\",\"type\":\"SaveTool\"},{\"attributes\":{\"fill_alpha\":{\"value\":0.7},\"fill_color\":{\"value\":\"#4daf4a\"},\"line_alpha\":{\"value\":0.7},\"line_color\":{\"value\":\"#4daf4a\"},\"x\":{\"field\":\"x\"},\"y\":{\"field\":\"y\"}},\"id\":\"e5b7fd62-47ab-4763-98ef-912c366401d3\",\"type\":\"Circle\"},{\"attributes\":{},\"id\":\"e9501b72-2870-4faf-ba72-3c59c5164451\",\"type\":\"BasicTicker\"},{\"attributes\":{\"plot\":null,\"text\":\"Linear pressure scale\"},\"id\":\"9adb96c7-1655-4552-a432-6f428a74e66f\",\"type\":\"Title\"},{\"attributes\":{},\"id\":\"d377ccfc-ea0e-4cff-ba64-1246b01e5406\",\"type\":\"LinearScale\"},{\"attributes\":{\"callback\":null,\"data\":{\"x\":{\"__ndarray__\":\"uocTvzqzcr/VKbiklqlyv+jMiNa7lHK/axAwuyp+cr/87qneEmdyv1FaUsp4T3K/QzKmmVw3cr/j7XH4vh5yv4d8Z2KgBXK/N9gJIwXscb8e0P+W89Fxv8ocrRxxt3G/rZvUTIWccb8CwF6NZn9xv5IZuwIiJHG/OBz2eKoOcL8mZOCzh1Nsv12oGzAYeGe/8W4zvU5vYb9mw/WDFQJUv4XoPlpwLR6/YmcnFyzbUz9rUuOE1vpjP3JbZHyN3WQ/wnsWnY/fWT8h2Nsqd5c9P8amZR+XF0O/qW8beaBWWL8xsD/m0lpiv/KtG/Bqkme/bZQTOwM0bL80NZFhqhxwv+TuX5jNlXG/idICXmSOcr9BIZNwR1Zzv/1pF9pP+3O/CL+IinVJdL8xm0oH7m50v9hLGOtpcHS/Ok2Tz3NPdL/TomD8K6Fzvw1Z7TqMa3K/dhYtX58Jcb+yGUD1mBNvv90ND1LRB2y/hk5oRoHtaL8SLp5hdeJlv3v+7LLcrGK/NDJTUA3YXr/Zm02EY09Yv8Kww+ETzlG/XERJsSFBR7/z+QW1bW80v1+SEdRx4RM/PbkKXbQfPj+4blHbXTFLP5yN3G3z01M/FDgdbQoXWj+p6i8FtSlgPzMF0zajQmM//u8oT4k9Zj9N5WFfumJpP7//xLzWe2w/WGfPOcWQbz8iqvKxwkNxPxKJ5X7ex3I/1l0DGJtBdD/qP2t+/KV1P0JBFlLY5nY/WCE3lPkGeD8ZzZbgVxt5P7LHucXrHno/88eNSsUZez8BXGYbswF8P0QxTDkl+Hw/\",\"dtype\":\"float64\",\"shape\":[75]},\"y\":{\"__ndarray__\":\"GhExyth1ND/Sv8nbtpRIP2vylNV0PVE/aTum7souWD/At0SJ8fVgPw3Iuahxymc/MSNhhJWvcD/bTfBN02d3P2zb5nxnaoA/CD5h5MAGhz8NmeH1TyaQP+zrCsc9p5Y/LbKd76fGnz/bLW5ISEmmPww9YvTcQq8/JV2OstnstT8Er5Y7M8G+P0c+r3jqkcU/5h99k6ZBzj88bCIzFzjVP4enV8oyxN0//yH99nXg5D8qOpLLf0jtP5kqGJXUifQ/c9cS8kHP/D+/DpwzojQEQIEmwoanVwxA4lgXt9HgE0BSSZ2AJuIbQAMJih9jjiNA5q4l5INuK0AwTKYKRj0zQNv5fmq8/DpAaCJseHrtQkB/+zpwzoxKQM3MzMzMeFJAZmZmZmZqWEAAAAAAAFxeQM3MzMzMJmJAmpmZmZkfZUBmZmZmZhhoQDMzMzMzEWtAAAAAAAAKbkBmZmZmZoFwQM3MzMzM/XFAMzMzMzN6c0CamZmZmfZ0QAAAAAAAc3ZAZmZmZmbvd0DNzMzMzGt5QDMzMzMz6HpAmpmZmZlkfEAAAAAAAOF9QGZmZmZmXX9AZmZmZuZsgECamZmZGSuBQM3MzMxM6YFAAAAAAICngkAzMzMzs2WDQGZmZmbmI4RAmpmZmRnihEDNzMzMTKCFQAAAAACAXoZAMzMzM7Mch0BmZmZm5tqHQJqZmZkZmYhAzczMzExXiUAAAAAAgBWKQDMzMzOz04pAZmZmZuaRi0CamZmZGVCMQM3MzMxMDo1AAAAAAIDMjUAzMzMzs4qOQGZmZmbmSI9A\",\"dtype\":\"float64\",\"shape\":[75]}},\"selected\":{\"id\":\"a560729c-caf8-4e36-8ac1-797d2d70cdc3\",\"type\":\"Selection\"},\"selection_policy\":{\"id\":\"8dc07602-1c09-402d-a2e1-656cdaf782a0\",\"type\":\"UnionRenderers\"}},\"id\":\"cfa84004-9c13-448b-978a-75ef67743d55\",\"type\":\"ColumnDataSource\"},{\"attributes\":{\"items\":[{\"id\":\"74d3ce7b-d3d0-4fe6-bce8-befc5df5a169\",\"type\":\"LegendItem\"},{\"id\":\"96d2d626-35d2-4d44-b2ee-2fd2cd4e5e32\",\"type\":\"LegendItem\"},{\"id\":\"99fb2f67-a198-4b58-ae28-5411fd2d99bc\",\"type\":\"LegendItem\"}],\"label_text_font_size\":{\"value\":\"8pt\"},\"location\":[10,-30],\"plot\":{\"id\":\"3fd1c138-325f-4dd4-83cf-8e45992a68d2\",\"subtype\":\"Figure\",\"type\":\"Plot\"}},\"id\":\"0eb155a9-13ef-497a-88c3-9f00d84e040b\",\"type\":\"Legend\"},{\"attributes\":{\"callback\":null,\"data\":{\"x\":{\"__ndarray__\":\"hzmVUYuWYr8SW/DUMoFiv5IaBu8MU2K/gC9CxtUgYr+t8ZfrdO1hv3e7ww4ouWG/wkc77AmEYb/5gOywY05hvyAHjtROF2G/6J1dklDgYL8fNV0Ad6hgv4Nsgxlmb2C/4UndXmo1YL+x29CdM+xfvwpOd/l6YF6/38UpYceyWb/Z5G1/x6RRv5f2MyLHkz2/Zx7IHs4ENT9uayhJoMdUPxM5i/pHz2M/YFRUceoZbz+f3LvxKr50P3FdcawkHXU/71Qt2v3ZcD8E6qCVM9BnP9sGNKjkgl0/kdYm74NrSz8Ogu/Xecn4PpWlwwk6I0a/GIvKeQuTVb9z+WvHT0lfv4Z/5CCgt2O/k3n7YlwZZ7/hieVGNGlqv7hEobKQqm2/X46dPqIMcL+27F37Ottwv24Wpf8CjHG/PD+ormz9cb/3/D+2xMRxv/XVtmHL5HC/yxcNAKmSb7+XbHSCwSttvxmp12uKoGq/jfVqTyv2Z7+I6lB+8DBlvyoWewyvVGK/K58ZkDrLXr8Pg59O985Yv2yh2Mh9xFK/4TxIlcxwSb/gjjRIF8k6vwsAh/QoTAa/oHN0H+gsNT+C10ul5ZVGP23LQ1B8T1E/U/ONU/FZVz+RyWWAZGpdP9CxRjBjwGE/mVxOQlfNZD/XFDIa7NtnP6N8CobP62o/1l7SPCr8bT/BzV6NHoVwPzYXE60pCHI/iyteEACBcz9rBhC0feV0P/A3BhdFLHY/boycy+1Tdz+vv7SGHGR4P+L4i6RXZnk/CMCH6Bphej88+YmGsld7P9r1z+6wS3w/\",\"dtype\":\"float64\",\"shape\":[75]},\"y\":{\"__ndarray__\":\"GhExyth1ND/Sv8nbtpRIP2vylNV0PVE/aTum7souWD/At0SJ8fVgPw3Iuahxymc/MSNhhJWvcD/bTfBN02d3P2zb5nxnaoA/CD5h5MAGhz8NmeH1TyaQP+zrCsc9p5Y/LbKd76fGnz/bLW5ISEmmPww9YvTcQq8/JV2OstnstT8Er5Y7M8G+P0c+r3jqkcU/5h99k6ZBzj88bCIzFzjVP4enV8oyxN0//yH99nXg5D8qOpLLf0jtP5kqGJXUifQ/c9cS8kHP/D+/DpwzojQEQIEmwoanVwxA4lgXt9HgE0BSSZ2AJuIbQAMJih9jjiNA5q4l5INuK0AwTKYKRj0zQNv5fmq8/DpAaCJseHrtQkB/+zpwzoxKQM3MzMzMeFJAZmZmZmZqWEAAAAAAAFxeQM3MzMzMJmJAmpmZmZkfZUBmZmZmZhhoQDMzMzMzEWtAAAAAAAAKbkBmZmZmZoFwQM3MzMzM/XFAMzMzMzN6c0CamZmZmfZ0QAAAAAAAc3ZAZmZmZmbvd0DNzMzMzGt5QDMzMzMz6HpAmpmZmZlkfEAAAAAAAOF9QGZmZmZmXX9AZmZmZuZsgECamZmZGSuBQM3MzMxM6YFAAAAAAICngkAzMzMzs2WDQGZmZmbmI4RAmpmZmRnihEDNzMzMTKCFQAAAAACAXoZAMzMzM7Mch0BmZmZm5tqHQJqZmZkZmYhAzczMzExXiUAAAAAAgBWKQDMzMzOz04pAZmZmZuaRi0CamZmZGVCMQM3MzMxMDo1AAAAAAIDMjUAzMzMzs4qOQGZmZmbmSI9A\",\"dtype\":\"float64\",\"shape\":[75]}},\"selected\":{\"id\":\"08660a42-3444-40d5-8cb8-54bfa8601192\",\"type\":\"Selection\"},\"selection_policy\":{\"id\":\"bcc29b8d-235c-45af-868c-b01724b31484\",\"type\":\"UnionRenderers\"}},\"id\":\"01b42500-9a69-4976-b50d-ca5034cd1ce8\",\"type\":\"ColumnDataSource\"},{\"attributes\":{\"active_drag\":\"auto\",\"active_inspect\":\"auto\",\"active_scroll\":\"auto\",\"active_tap\":\"auto\",\"tools\":[{\"id\":\"3764ca6d-288f-495a-adf4-cd419898d47f\",\"type\":\"PanTool\"},{\"id\":\"45e2c5e3-64eb-4d5b-9ae3-782f0fe108b4\",\"type\":\"WheelZoomTool\"},{\"id\":\"82c2a8be-7f1c-4aea-8f07-b81732b3ef62\",\"type\":\"BoxZoomTool\"},{\"id\":\"99dcc619-5f41-43db-b78d-1c9130e800de\",\"type\":\"SaveTool\"},{\"id\":\"0ad5abe9-2fb9-45e2-83b4-85ae6d422884\",\"type\":\"ResetTool\"},{\"id\":\"bacb1701-0c7e-4981-bd8b-c28050a386ea\",\"type\":\"HelpTool\"}]},\"id\":\"291cdbb8-ac13-4fa3-9ebd-9ab875d9f528\",\"type\":\"Toolbar\"},{\"attributes\":{\"data_source\":{\"id\":\"cb5fdf3b-c555-47fb-ac80-5da922f85b6b\",\"type\":\"ColumnDataSource\"},\"glyph\":{\"id\":\"7b65fa21-e30a-4472-9957-fd9df09beb19\",\"type\":\"Line\"},\"hover_glyph\":null,\"muted_glyph\":null,\"nonselection_glyph\":{\"id\":\"fdc4c1fb-ab22-45ea-9f3b-dcc4923e5be4\",\"type\":\"Line\"},\"selection_glyph\":null,\"view\":{\"id\":\"b6fbc2ea-aa72-4daf-826c-9abf6060935b\",\"type\":\"CDSView\"}},\"id\":\"e18c24b9-18c7-40de-b917-9e9624bccc3f\",\"type\":\"GlyphRenderer\"},{\"attributes\":{\"plot\":null,\"text\":\"Log pressure scale\"},\"id\":\"349f2095-9f85-4088-9d0f-bbe3f9c54666\",\"type\":\"Title\"},{\"attributes\":{\"data_source\":{\"id\":\"cfa84004-9c13-448b-978a-75ef67743d55\",\"type\":\"ColumnDataSource\"},\"glyph\":{\"id\":\"2c8915bf-f3c1-43e3-976f-567fe7400b09\",\"type\":\"Square\"},\"hover_glyph\":null,\"muted_glyph\":null,\"nonselection_glyph\":{\"id\":\"a82ce3f4-d40c-48fe-b54d-2fe0ca585726\",\"type\":\"Square\"},\"selection_glyph\":null,\"view\":{\"id\":\"6c4dad6b-23c8-46bd-83c4-35be9a9a3d5d\",\"type\":\"CDSView\"}},\"id\":\"166baf91-aabd-42e1-ac9c-b273efab59ce\",\"type\":\"GlyphRenderer\"},{\"attributes\":{},\"id\":\"e9f8f942-d6f0-4187-add1-f4e58b9c5897\",\"type\":\"LinearScale\"},{\"attributes\":{\"line_alpha\":0.6,\"line_color\":\"#984ea3\",\"line_width\":3,\"x\":{\"field\":\"x\"},\"y\":{\"field\":\"y\"}},\"id\":\"7b65fa21-e30a-4472-9957-fd9df09beb19\",\"type\":\"Line\"},{\"attributes\":{\"data_source\":{\"id\":\"01b42500-9a69-4976-b50d-ca5034cd1ce8\",\"type\":\"ColumnDataSource\"},\"glyph\":{\"id\":\"e5b7fd62-47ab-4763-98ef-912c366401d3\",\"type\":\"Circle\"},\"hover_glyph\":null,\"muted_glyph\":null,\"nonselection_glyph\":{\"id\":\"b57fbee9-ba18-49dd-bc5e-e9dc668320a0\",\"type\":\"Circle\"},\"selection_glyph\":null,\"view\":{\"id\":\"b762f1ce-dfe3-44d1-b767-ba866ac7493f\",\"type\":\"CDSView\"}},\"id\":\"1874a1e9-cdcc-4a7d-9cd0-446083ad7c28\",\"type\":\"GlyphRenderer\"}],\"root_ids\":[\"19103330-f3d4-4975-96ed-11ab8dee9c51\"]},\"title\":\"Bokeh Application\",\"version\":\"0.12.16\"}};\n",
       "  var render_items = [{\"docid\":\"6e5ddf01-9b9b-4b76-ad0a-99033a42bb40\",\"elementid\":\"9c1fe334-9813-46f4-ba32-07c133d8bb9e\",\"modelid\":\"19103330-f3d4-4975-96ed-11ab8dee9c51\"}];\n",
       "  root.Bokeh.embed.embed_items_notebook(docs_json, render_items);\n",
       "\n",
       "  }\n",
       "  if (root.Bokeh !== undefined) {\n",
       "    embed_document(root);\n",
       "  } else {\n",
       "    var attempts = 0;\n",
       "    var timer = setInterval(function(root) {\n",
       "      if (root.Bokeh !== undefined) {\n",
       "        embed_document(root);\n",
       "        clearInterval(timer);\n",
       "      }\n",
       "      attempts++;\n",
       "      if (attempts > 100) {\n",
       "        console.log(\"Bokeh: ERROR: Unable to run BokehJS code because BokehJS library is missing\")\n",
       "        clearInterval(timer);\n",
       "      }\n",
       "    }, 10, root)\n",
       "  }\n",
       "})(window);"
      ],
      "application/vnd.bokehjs_exec.v0+json": ""
     },
     "metadata": {
      "application/vnd.bokehjs_exec.v0+json": {
       "id": "19103330-f3d4-4975-96ed-11ab8dee9c51"
      }
     },
     "output_type": "display_data"
    },
    {
     "name": "stdout",
     "output_type": "stream",
     "text": [
      "FIGURE. Cooling rate profiles.\n"
     ]
    },
    {
     "data": {
      "text/html": [
       "<a id=\"Flux_Comparison\"></a>"
      ],
      "text/plain": [
       "<IPython.core.display.HTML object>"
      ]
     },
     "metadata": {},
     "output_type": "display_data"
    },
    {
     "data": {
      "text/markdown": [
       "# Flux Comparison"
      ],
      "text/plain": [
       "<IPython.core.display.Markdown object>"
      ]
     },
     "metadata": {},
     "output_type": "display_data"
    },
    {
     "data": {
      "text/html": [
       "<div>\n",
       "<style scoped>\n",
       "    .dataframe tbody tr th:only-of-type {\n",
       "        vertical-align: middle;\n",
       "    }\n",
       "\n",
       "    .dataframe tbody tr th {\n",
       "        vertical-align: top;\n",
       "    }\n",
       "\n",
       "    .dataframe thead th {\n",
       "        text-align: right;\n",
       "    }\n",
       "</style>\n",
       "<table border=\"1\" class=\"dataframe\">\n",
       "  <thead>\n",
       "    <tr style=\"text-align: right;\">\n",
       "      <th></th>\n",
       "      <th></th>\n",
       "      <th>flug</th>\n",
       "      <th>fldg</th>\n",
       "      <th>fnetg</th>\n",
       "    </tr>\n",
       "    <tr>\n",
       "      <th>pressure</th>\n",
       "      <th>level</th>\n",
       "      <th></th>\n",
       "      <th></th>\n",
       "      <th></th>\n",
       "    </tr>\n",
       "  </thead>\n",
       "  <tbody>\n",
       "    <tr>\n",
       "      <th>0.0000</th>\n",
       "      <th>1</th>\n",
       "      <td>-22.904459</td>\n",
       "      <td>0.000000</td>\n",
       "      <td>-22.904459</td>\n",
       "    </tr>\n",
       "    <tr>\n",
       "      <th>1.0685</th>\n",
       "      <th>24</th>\n",
       "      <td>-22.904560</td>\n",
       "      <td>0.000418</td>\n",
       "      <td>-22.904143</td>\n",
       "    </tr>\n",
       "    <tr>\n",
       "      <th>1013.0000</th>\n",
       "      <th>76</th>\n",
       "      <td>-23.269660</td>\n",
       "      <td>0.430908</td>\n",
       "      <td>-22.838751</td>\n",
       "    </tr>\n",
       "  </tbody>\n",
       "</table>\n",
       "</div>"
      ],
      "text/plain": [
       "                      flug      fldg      fnetg\n",
       "pressure  level                                \n",
       "0.0000    1     -22.904459  0.000000 -22.904459\n",
       "1.0685    24    -22.904560  0.000418 -22.904143\n",
       "1013.0000 76    -23.269660  0.430908 -22.838751"
      ]
     },
     "metadata": {},
     "output_type": "display_data"
    },
    {
     "name": "stdout",
     "output_type": "stream",
     "text": [
      "Table. Fluxes. CRD\n"
     ]
    },
    {
     "data": {
      "text/html": [
       "<div>\n",
       "<style scoped>\n",
       "    .dataframe tbody tr th:only-of-type {\n",
       "        vertical-align: middle;\n",
       "    }\n",
       "\n",
       "    .dataframe tbody tr th {\n",
       "        vertical-align: top;\n",
       "    }\n",
       "\n",
       "    .dataframe thead th {\n",
       "        text-align: right;\n",
       "    }\n",
       "</style>\n",
       "<table border=\"1\" class=\"dataframe\">\n",
       "  <thead>\n",
       "    <tr style=\"text-align: right;\">\n",
       "      <th></th>\n",
       "      <th></th>\n",
       "      <th>flug</th>\n",
       "      <th>fldg</th>\n",
       "      <th>fnetg</th>\n",
       "    </tr>\n",
       "    <tr>\n",
       "      <th>pressure</th>\n",
       "      <th>level</th>\n",
       "      <th></th>\n",
       "      <th></th>\n",
       "      <th></th>\n",
       "    </tr>\n",
       "  </thead>\n",
       "  <tbody>\n",
       "    <tr>\n",
       "      <th>0.0000</th>\n",
       "      <th>1</th>\n",
       "      <td>-22.869032</td>\n",
       "      <td>0.000000</td>\n",
       "      <td>-22.869032</td>\n",
       "    </tr>\n",
       "    <tr>\n",
       "      <th>1.0685</th>\n",
       "      <th>24</th>\n",
       "      <td>-22.869437</td>\n",
       "      <td>0.000401</td>\n",
       "      <td>-22.869036</td>\n",
       "    </tr>\n",
       "    <tr>\n",
       "      <th>1013.0000</th>\n",
       "      <th>76</th>\n",
       "      <td>-23.269660</td>\n",
       "      <td>0.446500</td>\n",
       "      <td>-22.823160</td>\n",
       "    </tr>\n",
       "  </tbody>\n",
       "</table>\n",
       "</div>"
      ],
      "text/plain": [
       "                      flug      fldg      fnetg\n",
       "pressure  level                                \n",
       "0.0000    1     -22.869032  0.000000 -22.869032\n",
       "1.0685    24    -22.869437  0.000401 -22.869036\n",
       "1013.0000 76    -23.269660  0.446500 -22.823160"
      ]
     },
     "metadata": {},
     "output_type": "display_data"
    },
    {
     "name": "stdout",
     "output_type": "stream",
     "text": [
      "Table. Fluxes. WGT igg=10 wgt_flux=1\n"
     ]
    },
    {
     "data": {
      "text/html": [
       "<div>\n",
       "<style scoped>\n",
       "    .dataframe tbody tr th:only-of-type {\n",
       "        vertical-align: middle;\n",
       "    }\n",
       "\n",
       "    .dataframe tbody tr th {\n",
       "        vertical-align: top;\n",
       "    }\n",
       "\n",
       "    .dataframe thead th {\n",
       "        text-align: right;\n",
       "    }\n",
       "</style>\n",
       "<table border=\"1\" class=\"dataframe\">\n",
       "  <thead>\n",
       "    <tr style=\"text-align: right;\">\n",
       "      <th></th>\n",
       "      <th></th>\n",
       "      <th>flug</th>\n",
       "      <th>fldg</th>\n",
       "      <th>fnetg</th>\n",
       "    </tr>\n",
       "    <tr>\n",
       "      <th>pressure</th>\n",
       "      <th>level</th>\n",
       "      <th></th>\n",
       "      <th></th>\n",
       "      <th></th>\n",
       "    </tr>\n",
       "  </thead>\n",
       "  <tbody>\n",
       "    <tr>\n",
       "      <th>1.000000e-08</th>\n",
       "      <th>1</th>\n",
       "      <td>-22.929422</td>\n",
       "      <td>-9.686912e-08</td>\n",
       "      <td>-22.929422</td>\n",
       "    </tr>\n",
       "    <tr>\n",
       "      <th>1.068500e+00</th>\n",
       "      <th>24</th>\n",
       "      <td>-22.929776</td>\n",
       "      <td>3.349143e-04</td>\n",
       "      <td>-22.929441</td>\n",
       "    </tr>\n",
       "    <tr>\n",
       "      <th>1.013000e+03</th>\n",
       "      <th>76</th>\n",
       "      <td>-23.269660</td>\n",
       "      <td>3.795174e-01</td>\n",
       "      <td>-22.890143</td>\n",
       "    </tr>\n",
       "  </tbody>\n",
       "</table>\n",
       "</div>"
      ],
      "text/plain": [
       "                         flug          fldg      fnetg\n",
       "pressure     level                                    \n",
       "1.000000e-08 1     -22.929422 -9.686912e-08 -22.929422\n",
       "1.068500e+00 24    -22.929776  3.349143e-04 -22.929441\n",
       "1.013000e+03 76    -23.269660  3.795174e-01 -22.890143"
      ]
     },
     "metadata": {},
     "output_type": "display_data"
    },
    {
     "name": "stdout",
     "output_type": "stream",
     "text": [
      "Table. Fluxes. CLIRAD\n"
     ]
    },
    {
     "data": {
      "text/html": [
       "<div>\n",
       "<style scoped>\n",
       "    .dataframe tbody tr th:only-of-type {\n",
       "        vertical-align: middle;\n",
       "    }\n",
       "\n",
       "    .dataframe tbody tr th {\n",
       "        vertical-align: top;\n",
       "    }\n",
       "\n",
       "    .dataframe thead th {\n",
       "        text-align: right;\n",
       "    }\n",
       "</style>\n",
       "<table border=\"1\" class=\"dataframe\">\n",
       "  <thead>\n",
       "    <tr style=\"text-align: right;\">\n",
       "      <th></th>\n",
       "      <th></th>\n",
       "      <th>flug</th>\n",
       "      <th>fldg</th>\n",
       "      <th>fnetg</th>\n",
       "    </tr>\n",
       "    <tr>\n",
       "      <th>pressure</th>\n",
       "      <th>level</th>\n",
       "      <th></th>\n",
       "      <th></th>\n",
       "      <th></th>\n",
       "    </tr>\n",
       "  </thead>\n",
       "  <tbody>\n",
       "    <tr>\n",
       "      <th>0.0000</th>\n",
       "      <th>1</th>\n",
       "      <td>0.035427</td>\n",
       "      <td>0.000000</td>\n",
       "      <td>0.035427</td>\n",
       "    </tr>\n",
       "    <tr>\n",
       "      <th>1.0685</th>\n",
       "      <th>24</th>\n",
       "      <td>0.035123</td>\n",
       "      <td>-0.000016</td>\n",
       "      <td>0.035107</td>\n",
       "    </tr>\n",
       "    <tr>\n",
       "      <th>1013.0000</th>\n",
       "      <th>76</th>\n",
       "      <td>0.000000</td>\n",
       "      <td>0.015591</td>\n",
       "      <td>0.015591</td>\n",
       "    </tr>\n",
       "  </tbody>\n",
       "</table>\n",
       "</div>"
      ],
      "text/plain": [
       "                     flug      fldg     fnetg\n",
       "pressure  level                              \n",
       "0.0000    1      0.035427  0.000000  0.035427\n",
       "1.0685    24     0.035123 -0.000016  0.035107\n",
       "1013.0000 76     0.000000  0.015591  0.015591"
      ]
     },
     "metadata": {},
     "output_type": "display_data"
    },
    {
     "name": "stdout",
     "output_type": "stream",
     "text": [
      "Table. Fluxes. (WGT igg=10 wgt_flux=1) - (CRD)\n"
     ]
    },
    {
     "data": {
      "text/html": [
       "<div>\n",
       "<style scoped>\n",
       "    .dataframe tbody tr th:only-of-type {\n",
       "        vertical-align: middle;\n",
       "    }\n",
       "\n",
       "    .dataframe tbody tr th {\n",
       "        vertical-align: top;\n",
       "    }\n",
       "\n",
       "    .dataframe thead th {\n",
       "        text-align: right;\n",
       "    }\n",
       "</style>\n",
       "<table border=\"1\" class=\"dataframe\">\n",
       "  <thead>\n",
       "    <tr style=\"text-align: right;\">\n",
       "      <th></th>\n",
       "      <th></th>\n",
       "      <th>flug</th>\n",
       "      <th>fldg</th>\n",
       "      <th>fnetg</th>\n",
       "    </tr>\n",
       "    <tr>\n",
       "      <th>pressure</th>\n",
       "      <th>level</th>\n",
       "      <th></th>\n",
       "      <th></th>\n",
       "      <th></th>\n",
       "    </tr>\n",
       "  </thead>\n",
       "  <tbody>\n",
       "    <tr>\n",
       "      <th>0.0000</th>\n",
       "      <th>1</th>\n",
       "      <td>-0.024963</td>\n",
       "      <td>-9.686912e-08</td>\n",
       "      <td>-0.024963</td>\n",
       "    </tr>\n",
       "    <tr>\n",
       "      <th>1.0685</th>\n",
       "      <th>24</th>\n",
       "      <td>-0.025216</td>\n",
       "      <td>-8.260866e-05</td>\n",
       "      <td>-0.025298</td>\n",
       "    </tr>\n",
       "    <tr>\n",
       "      <th>1013.0000</th>\n",
       "      <th>76</th>\n",
       "      <td>0.000000</td>\n",
       "      <td>-5.139096e-02</td>\n",
       "      <td>-0.051392</td>\n",
       "    </tr>\n",
       "  </tbody>\n",
       "</table>\n",
       "</div>"
      ],
      "text/plain": [
       "                     flug          fldg     fnetg\n",
       "pressure  level                                  \n",
       "0.0000    1     -0.024963 -9.686912e-08 -0.024963\n",
       "1.0685    24    -0.025216 -8.260866e-05 -0.025298\n",
       "1013.0000 76     0.000000 -5.139096e-02 -0.051392"
      ]
     },
     "metadata": {},
     "output_type": "display_data"
    },
    {
     "name": "stdout",
     "output_type": "stream",
     "text": [
      "Table. Fluxes. (CLIRAD) - (CRD)\n"
     ]
    },
    {
     "data": {
      "text/html": [
       "<a id=\"Best-fit_Parameters\"></a>"
      ],
      "text/plain": [
       "<IPython.core.display.HTML object>"
      ]
     },
     "metadata": {},
     "output_type": "display_data"
    },
    {
     "data": {
      "text/markdown": [
       "# Best-fit Parameters"
      ],
      "text/plain": [
       "<IPython.core.display.Markdown object>"
      ]
     },
     "metadata": {},
     "output_type": "display_data"
    },
    {
     "name": "stdout",
     "output_type": "stream",
     "text": [
      "Best-fit values for each (gas, band)\n",
      "------------------------------------\n",
      "o n2o band6\n",
      "  atmpro = mls\n",
      "  band = 6\n",
      "  commitnumber = bca49ce\n",
      "  conc = 3.2e-07\n",
      "  dv = 0.005\n",
      "  klin = 0\n",
      "  molecule = n2o\n",
      "  ng_adju = [0]\n",
      "  ng_refs = [1]\n",
      "  nv = 200\n",
      "  option_compute_btable = 0\n",
      "  option_compute_ktable = 1\n",
      "  option_wgt_flux = 1\n",
      "  option_wgt_k = 1\n",
      "  ref_pts = [(500, 250)]\n",
      "  tsfc = 294\n",
      "  vmax = 1215\n",
      "  vmin = 1100\n",
      "  w_diffuse = [(1.66,)]\n",
      "  wgt = [(0.95,)]\n"
     ]
    }
   ],
   "source": [
    "script()"
   ]
  },
  {
   "cell_type": "code",
   "execution_count": 13,
   "metadata": {
    "collapsed": true
   },
   "outputs": [
    {
     "data": {
      "text/html": [
       "<script>\n",
       "code_show=true; \n",
       "function code_toggle() {\n",
       " if (code_show){\n",
       " $('div.input').hide();\n",
       " } else {\n",
       " $('div.input').show();\n",
       " }\n",
       " code_show = !code_show\n",
       "} \n",
       "$( document ).ready(code_toggle);\n",
       "</script>\n",
       "<form action=\"javascript:code_toggle()\"><input type=\"submit\" value=\"Click here to toggle on/off the raw code.\"></form>"
      ],
      "text/plain": [
       "<IPython.core.display.HTML object>"
      ]
     },
     "execution_count": 13,
     "metadata": {},
     "output_type": "execute_result"
    }
   ],
   "source": [
    "display.HTML('''<script>\n",
    "code_show=true; \n",
    "function code_toggle() {\n",
    " if (code_show){\n",
    " $('div.input').hide();\n",
    " } else {\n",
    " $('div.input').show();\n",
    " }\n",
    " code_show = !code_show\n",
    "} \n",
    "$( document ).ready(code_toggle);\n",
    "</script>\n",
    "<form action=\"javascript:code_toggle()\"><input type=\"submit\" value=\"Click here to toggle on/off the raw code.\"></form>''')"
   ]
  }
 ],
 "metadata": {
  "kernelspec": {
   "display_name": "Python 3",
   "language": "python",
   "name": "python3"
  },
  "language_info": {
   "codemirror_mode": {
    "name": "ipython",
    "version": 3
   },
   "file_extension": ".py",
   "mimetype": "text/x-python",
   "name": "python",
   "nbconvert_exporter": "python",
   "pygments_lexer": "ipython3",
   "version": "3.6.1"
  }
 },
 "nbformat": 4,
 "nbformat_minor": 2
}
