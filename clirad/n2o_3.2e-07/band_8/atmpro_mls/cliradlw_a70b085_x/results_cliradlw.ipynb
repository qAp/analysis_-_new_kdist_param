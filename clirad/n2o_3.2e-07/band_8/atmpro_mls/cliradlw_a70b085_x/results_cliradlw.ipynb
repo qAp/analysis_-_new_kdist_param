{
 "cells": [
  {
   "cell_type": "code",
   "execution_count": 1,
   "metadata": {
    "collapsed": true
   },
   "outputs": [],
   "source": [
    "%matplotlib inline\n",
    "import os\n",
    "import re\n",
    "import io\n",
    "import itertools\n",
    "import pprint\n",
    "\n",
    "from bokeh.io import output_notebook, show\n",
    "from bokeh.layouts import gridplot\n",
    "from bokeh.plotting import figure\n",
    "from bokeh.models import Range1d, Legend\n",
    "from bokeh.palettes import all_palettes\n",
    "\n",
    "import matplotlib\n",
    "import matplotlib.pyplot as plt\n",
    "import numpy as np\n",
    "import pandas as pd\n",
    "import xarray as xr\n",
    "\n",
    "import climatools.lblnew.bestfit_params as bestfits\n",
    "from climatools.lblnew import setup_bestfit, setup_overlap\n",
    "import climatools.lblnew.pipeline as pipe_lblnew\n",
    "import climatools.cliradlw.setup as setup_cliradlw\n",
    "import climatools.cliradlw.pipeline as pipe_cliradlw\n",
    "\n",
    "import climatools.html.html as climahtml\n",
    "from climatools.lblnew.dataio import *\n",
    "from climatools.plot.plot import *\n",
    "\n",
    "\n",
    "import IPython.display as display"
   ]
  },
  {
   "cell_type": "code",
   "execution_count": 2,
   "metadata": {
    "collapsed": true
   },
   "outputs": [],
   "source": [
    "%run param.py"
   ]
  },
  {
   "cell_type": "code",
   "execution_count": 3,
   "metadata": {
    "collapsed": true
   },
   "outputs": [],
   "source": [
    "def load_output_file(path_csv):\n",
    "    '''\n",
    "    Load lblnew output .csv file to xarray.Dataset\n",
    "    \n",
    "    Parameters\n",
    "    ----------\n",
    "    path_csv: str\n",
    "              Path to the .csv file to be loaded.\n",
    "    ds: xarray.Dataset\n",
    "        Data in the input file in the form of an xarray.Dataset.\n",
    "    '''\n",
    "    toindex = ['band', 'pressure', 'igg', 'g']    \n",
    "    df = pd.read_csv(path_csv, sep=r'\\s+')\n",
    "    df = df.set_index([i for i in toindex if i in df.columns])\n",
    "    df = df.rename(columns={'sfu': 'flug',\n",
    "                            'sfd': 'fldg',\n",
    "                            'fnet': 'fnetg',\n",
    "                            'coolr': 'coolrg'})\n",
    "    ds = xr.Dataset.from_dataframe(df)\n",
    "\n",
    "    for l in ('level', 'layer'):\n",
    "        if l in ds.data_vars:\n",
    "            if len(ds[l].dims) > 1:\n",
    "                surface = {d: 0 for d in ds.dims if d != 'pressure'}\n",
    "                coord_level = ds[l][surface]\n",
    "                ds.coords[l] = ('pressure', coord_level)\n",
    "            else:\n",
    "                ds.coords[l] = ('pressure', ds[l])\n",
    "    \n",
    "    return ds"
   ]
  },
  {
   "cell_type": "code",
   "execution_count": 4,
   "metadata": {
    "collapsed": true
   },
   "outputs": [],
   "source": [
    "def lblnew_setup(param=None):\n",
    "    if 'ng_refs' in param:\n",
    "        return {'setup': setup_bestfit,\n",
    "                'fname_flux_crd': 'output_flux.dat',\n",
    "                'fname_cool_crd': 'output_coolr.dat',\n",
    "                'fname_flux_wgt': 'output_wfluxg.dat',\n",
    "                'fname_cool_wgt': 'output_wcoolrg.dat'}\n",
    "    else:\n",
    "        return {'setup': setup_overlap,\n",
    "                'fname_flux_crd': 'output_flux.dat',\n",
    "                'fname_cool_crd': 'output_coolr.dat',\n",
    "                'fname_flux_wgt': 'output_wflux.dat',\n",
    "                'fname_cool_wgt': 'output_wcoolr.dat'}\n",
    "\n",
    "    \n",
    "def load_lblnew_data(param):\n",
    "    \n",
    "    fname_dsname = [('fname_flux_crd', 'ds_flux_crd'),\n",
    "                    ('fname_cool_crd', 'ds_cool_crd'),\n",
    "                    ('fname_flux_wgt', 'ds_flux_wgt'),\n",
    "                    ('fname_cool_wgt', 'ds_cool_wgt')]\n",
    "    \n",
    "    d = lblnew_setup(param)\n",
    "    dir_fortran = pipe_lblnew.get_dir_case(param, setup=d['setup'])\n",
    "    \n",
    "    data_dict = {}\n",
    "    for fname, dsname in fname_dsname:\n",
    "        fpath = os.path.join(dir_fortran, d[fname])\n",
    "        data_dict[dsname] = load_output_file(fpath)\n",
    "    return data_dict\n",
    "    \n",
    "\n",
    "    \n",
    "    "
   ]
  },
  {
   "cell_type": "code",
   "execution_count": 5,
   "metadata": {
    "collapsed": true
   },
   "outputs": [],
   "source": [
    "d = load_lblnew_data(PARAM_LBLNEW)\n",
    "\n",
    "DS_FLUX_CRD = d['ds_flux_crd']\n",
    "DS_COOL_CRD = d['ds_cool_crd']\n",
    "DS_FLUX_WGT = d['ds_flux_wgt']\n",
    "DS_COOL_WGT = d['ds_cool_wgt']"
   ]
  },
  {
   "cell_type": "code",
   "execution_count": 6,
   "metadata": {
    "collapsed": true
   },
   "outputs": [],
   "source": [
    "DIR_FORTRAN = pipe_cliradlw.get_fortran_dir(PARAM, \n",
    "                                            setup=setup_cliradlw)\n",
    "\n",
    "PATH_FLUX = os.path.join(DIR_FORTRAN, 'output_flux.dat')\n",
    "PATH_COOL = os.path.join(DIR_FORTRAN, 'output_coolr.dat')\n",
    "\n",
    "DS_FLUX = load_output_file(PATH_FLUX)\n",
    "DS_COOL = load_output_file(PATH_COOL)"
   ]
  },
  {
   "cell_type": "code",
   "execution_count": 7,
   "metadata": {
    "collapsed": true
   },
   "outputs": [
    {
     "data": {
      "text/html": [
       "\n",
       "    <div class=\"bk-root\">\n",
       "        <a href=\"https://bokeh.pydata.org\" target=\"_blank\" class=\"bk-logo bk-logo-small bk-logo-notebook\"></a>\n",
       "        <span id=\"5e32046b-2f81-4aae-a20d-26628eaed77c\">Loading BokehJS ...</span>\n",
       "    </div>"
      ]
     },
     "metadata": {},
     "output_type": "display_data"
    },
    {
     "data": {
      "application/javascript": [
       "\n",
       "(function(root) {\n",
       "  function now() {\n",
       "    return new Date();\n",
       "  }\n",
       "\n",
       "  var force = true;\n",
       "\n",
       "  if (typeof (root._bokeh_onload_callbacks) === \"undefined\" || force === true) {\n",
       "    root._bokeh_onload_callbacks = [];\n",
       "    root._bokeh_is_loading = undefined;\n",
       "  }\n",
       "\n",
       "  var JS_MIME_TYPE = 'application/javascript';\n",
       "  var HTML_MIME_TYPE = 'text/html';\n",
       "  var EXEC_MIME_TYPE = 'application/vnd.bokehjs_exec.v0+json';\n",
       "  var CLASS_NAME = 'output_bokeh rendered_html';\n",
       "\n",
       "  /**\n",
       "   * Render data to the DOM node\n",
       "   */\n",
       "  function render(props, node) {\n",
       "    var script = document.createElement(\"script\");\n",
       "    node.appendChild(script);\n",
       "  }\n",
       "\n",
       "  /**\n",
       "   * Handle when an output is cleared or removed\n",
       "   */\n",
       "  function handleClearOutput(event, handle) {\n",
       "    var cell = handle.cell;\n",
       "\n",
       "    var id = cell.output_area._bokeh_element_id;\n",
       "    var server_id = cell.output_area._bokeh_server_id;\n",
       "    // Clean up Bokeh references\n",
       "    if (id !== undefined) {\n",
       "      Bokeh.index[id].model.document.clear();\n",
       "      delete Bokeh.index[id];\n",
       "    }\n",
       "\n",
       "    if (server_id !== undefined) {\n",
       "      // Clean up Bokeh references\n",
       "      var cmd = \"from bokeh.io.state import curstate; print(curstate().uuid_to_server['\" + server_id + \"'].get_sessions()[0].document.roots[0]._id)\";\n",
       "      cell.notebook.kernel.execute(cmd, {\n",
       "        iopub: {\n",
       "          output: function(msg) {\n",
       "            var element_id = msg.content.text.trim();\n",
       "            Bokeh.index[element_id].model.document.clear();\n",
       "            delete Bokeh.index[element_id];\n",
       "          }\n",
       "        }\n",
       "      });\n",
       "      // Destroy server and session\n",
       "      var cmd = \"import bokeh.io.notebook as ion; ion.destroy_server('\" + server_id + \"')\";\n",
       "      cell.notebook.kernel.execute(cmd);\n",
       "    }\n",
       "  }\n",
       "\n",
       "  /**\n",
       "   * Handle when a new output is added\n",
       "   */\n",
       "  function handleAddOutput(event, handle) {\n",
       "    var output_area = handle.output_area;\n",
       "    var output = handle.output;\n",
       "\n",
       "    // limit handleAddOutput to display_data with EXEC_MIME_TYPE content only\n",
       "    if ((output.output_type != \"display_data\") || (!output.data.hasOwnProperty(EXEC_MIME_TYPE))) {\n",
       "      return\n",
       "    }\n",
       "\n",
       "    var toinsert = output_area.element.find(\".\" + CLASS_NAME.split(' ')[0]);\n",
       "\n",
       "    if (output.metadata[EXEC_MIME_TYPE][\"id\"] !== undefined) {\n",
       "      toinsert[toinsert.length - 1].firstChild.textContent = output.data[JS_MIME_TYPE];\n",
       "      // store reference to embed id on output_area\n",
       "      output_area._bokeh_element_id = output.metadata[EXEC_MIME_TYPE][\"id\"];\n",
       "    }\n",
       "    if (output.metadata[EXEC_MIME_TYPE][\"server_id\"] !== undefined) {\n",
       "      var bk_div = document.createElement(\"div\");\n",
       "      bk_div.innerHTML = output.data[HTML_MIME_TYPE];\n",
       "      var script_attrs = bk_div.children[0].attributes;\n",
       "      for (var i = 0; i < script_attrs.length; i++) {\n",
       "        toinsert[toinsert.length - 1].firstChild.setAttribute(script_attrs[i].name, script_attrs[i].value);\n",
       "      }\n",
       "      // store reference to server id on output_area\n",
       "      output_area._bokeh_server_id = output.metadata[EXEC_MIME_TYPE][\"server_id\"];\n",
       "    }\n",
       "  }\n",
       "\n",
       "  function register_renderer(events, OutputArea) {\n",
       "\n",
       "    function append_mime(data, metadata, element) {\n",
       "      // create a DOM node to render to\n",
       "      var toinsert = this.create_output_subarea(\n",
       "        metadata,\n",
       "        CLASS_NAME,\n",
       "        EXEC_MIME_TYPE\n",
       "      );\n",
       "      this.keyboard_manager.register_events(toinsert);\n",
       "      // Render to node\n",
       "      var props = {data: data, metadata: metadata[EXEC_MIME_TYPE]};\n",
       "      render(props, toinsert[toinsert.length - 1]);\n",
       "      element.append(toinsert);\n",
       "      return toinsert\n",
       "    }\n",
       "\n",
       "    /* Handle when an output is cleared or removed */\n",
       "    events.on('clear_output.CodeCell', handleClearOutput);\n",
       "    events.on('delete.Cell', handleClearOutput);\n",
       "\n",
       "    /* Handle when a new output is added */\n",
       "    events.on('output_added.OutputArea', handleAddOutput);\n",
       "\n",
       "    /**\n",
       "     * Register the mime type and append_mime function with output_area\n",
       "     */\n",
       "    OutputArea.prototype.register_mime_type(EXEC_MIME_TYPE, append_mime, {\n",
       "      /* Is output safe? */\n",
       "      safe: true,\n",
       "      /* Index of renderer in `output_area.display_order` */\n",
       "      index: 0\n",
       "    });\n",
       "  }\n",
       "\n",
       "  // register the mime type if in Jupyter Notebook environment and previously unregistered\n",
       "  if (root.Jupyter !== undefined) {\n",
       "    var events = require('base/js/events');\n",
       "    var OutputArea = require('notebook/js/outputarea').OutputArea;\n",
       "\n",
       "    if (OutputArea.prototype.mime_types().indexOf(EXEC_MIME_TYPE) == -1) {\n",
       "      register_renderer(events, OutputArea);\n",
       "    }\n",
       "  }\n",
       "\n",
       "  \n",
       "  if (typeof (root._bokeh_timeout) === \"undefined\" || force === true) {\n",
       "    root._bokeh_timeout = Date.now() + 5000;\n",
       "    root._bokeh_failed_load = false;\n",
       "  }\n",
       "\n",
       "  var NB_LOAD_WARNING = {'data': {'text/html':\n",
       "     \"<div style='background-color: #fdd'>\\n\"+\n",
       "     \"<p>\\n\"+\n",
       "     \"BokehJS does not appear to have successfully loaded. If loading BokehJS from CDN, this \\n\"+\n",
       "     \"may be due to a slow or bad network connection. Possible fixes:\\n\"+\n",
       "     \"</p>\\n\"+\n",
       "     \"<ul>\\n\"+\n",
       "     \"<li>re-rerun `output_notebook()` to attempt to load from CDN again, or</li>\\n\"+\n",
       "     \"<li>use INLINE resources instead, as so:</li>\\n\"+\n",
       "     \"</ul>\\n\"+\n",
       "     \"<code>\\n\"+\n",
       "     \"from bokeh.resources import INLINE\\n\"+\n",
       "     \"output_notebook(resources=INLINE)\\n\"+\n",
       "     \"</code>\\n\"+\n",
       "     \"</div>\"}};\n",
       "\n",
       "  function display_loaded() {\n",
       "    var el = document.getElementById(\"5e32046b-2f81-4aae-a20d-26628eaed77c\");\n",
       "    if (el != null) {\n",
       "      el.textContent = \"BokehJS is loading...\";\n",
       "    }\n",
       "    if (root.Bokeh !== undefined) {\n",
       "      if (el != null) {\n",
       "        el.textContent = \"BokehJS \" + root.Bokeh.version + \" successfully loaded.\";\n",
       "      }\n",
       "    } else if (Date.now() < root._bokeh_timeout) {\n",
       "      setTimeout(display_loaded, 100)\n",
       "    }\n",
       "  }\n",
       "\n",
       "\n",
       "  function run_callbacks() {\n",
       "    try {\n",
       "      root._bokeh_onload_callbacks.forEach(function(callback) { callback() });\n",
       "    }\n",
       "    finally {\n",
       "      delete root._bokeh_onload_callbacks\n",
       "    }\n",
       "    console.info(\"Bokeh: all callbacks have finished\");\n",
       "  }\n",
       "\n",
       "  function load_libs(js_urls, callback) {\n",
       "    root._bokeh_onload_callbacks.push(callback);\n",
       "    if (root._bokeh_is_loading > 0) {\n",
       "      console.log(\"Bokeh: BokehJS is being loaded, scheduling callback at\", now());\n",
       "      return null;\n",
       "    }\n",
       "    if (js_urls == null || js_urls.length === 0) {\n",
       "      run_callbacks();\n",
       "      return null;\n",
       "    }\n",
       "    console.log(\"Bokeh: BokehJS not loaded, scheduling load and callback at\", now());\n",
       "    root._bokeh_is_loading = js_urls.length;\n",
       "    for (var i = 0; i < js_urls.length; i++) {\n",
       "      var url = js_urls[i];\n",
       "      var s = document.createElement('script');\n",
       "      s.src = url;\n",
       "      s.async = false;\n",
       "      s.onreadystatechange = s.onload = function() {\n",
       "        root._bokeh_is_loading--;\n",
       "        if (root._bokeh_is_loading === 0) {\n",
       "          console.log(\"Bokeh: all BokehJS libraries loaded\");\n",
       "          run_callbacks()\n",
       "        }\n",
       "      };\n",
       "      s.onerror = function() {\n",
       "        console.warn(\"failed to load library \" + url);\n",
       "      };\n",
       "      console.log(\"Bokeh: injecting script tag for BokehJS library: \", url);\n",
       "      document.getElementsByTagName(\"head\")[0].appendChild(s);\n",
       "    }\n",
       "  };var element = document.getElementById(\"5e32046b-2f81-4aae-a20d-26628eaed77c\");\n",
       "  if (element == null) {\n",
       "    console.log(\"Bokeh: ERROR: autoload.js configured with elementid '5e32046b-2f81-4aae-a20d-26628eaed77c' but no matching script tag was found. \")\n",
       "    return false;\n",
       "  }\n",
       "\n",
       "  var js_urls = [\"https://cdn.pydata.org/bokeh/release/bokeh-0.12.16.min.js\", \"https://cdn.pydata.org/bokeh/release/bokeh-widgets-0.12.16.min.js\", \"https://cdn.pydata.org/bokeh/release/bokeh-tables-0.12.16.min.js\", \"https://cdn.pydata.org/bokeh/release/bokeh-gl-0.12.16.min.js\"];\n",
       "\n",
       "  var inline_js = [\n",
       "    function(Bokeh) {\n",
       "      Bokeh.set_log_level(\"info\");\n",
       "    },\n",
       "    \n",
       "    function(Bokeh) {\n",
       "      \n",
       "    },\n",
       "    function(Bokeh) {\n",
       "      console.log(\"Bokeh: injecting CSS: https://cdn.pydata.org/bokeh/release/bokeh-0.12.16.min.css\");\n",
       "      Bokeh.embed.inject_css(\"https://cdn.pydata.org/bokeh/release/bokeh-0.12.16.min.css\");\n",
       "      console.log(\"Bokeh: injecting CSS: https://cdn.pydata.org/bokeh/release/bokeh-widgets-0.12.16.min.css\");\n",
       "      Bokeh.embed.inject_css(\"https://cdn.pydata.org/bokeh/release/bokeh-widgets-0.12.16.min.css\");\n",
       "      console.log(\"Bokeh: injecting CSS: https://cdn.pydata.org/bokeh/release/bokeh-tables-0.12.16.min.css\");\n",
       "      Bokeh.embed.inject_css(\"https://cdn.pydata.org/bokeh/release/bokeh-tables-0.12.16.min.css\");\n",
       "    }\n",
       "  ];\n",
       "\n",
       "  function run_inline_js() {\n",
       "    \n",
       "    if ((root.Bokeh !== undefined) || (force === true)) {\n",
       "      for (var i = 0; i < inline_js.length; i++) {\n",
       "        inline_js[i].call(root, root.Bokeh);\n",
       "      }if (force === true) {\n",
       "        display_loaded();\n",
       "      }} else if (Date.now() < root._bokeh_timeout) {\n",
       "      setTimeout(run_inline_js, 100);\n",
       "    } else if (!root._bokeh_failed_load) {\n",
       "      console.log(\"Bokeh: BokehJS failed to load within specified timeout.\");\n",
       "      root._bokeh_failed_load = true;\n",
       "    } else if (force !== true) {\n",
       "      var cell = $(document.getElementById(\"5e32046b-2f81-4aae-a20d-26628eaed77c\")).parents('.cell').data().cell;\n",
       "      cell.output_area.append_execute_result(NB_LOAD_WARNING)\n",
       "    }\n",
       "\n",
       "  }\n",
       "\n",
       "  if (root._bokeh_is_loading === 0) {\n",
       "    console.log(\"Bokeh: BokehJS loaded, going straight to plotting\");\n",
       "    run_inline_js();\n",
       "  } else {\n",
       "    load_libs(js_urls, function() {\n",
       "      console.log(\"Bokeh: BokehJS plotting callback run at\", now());\n",
       "      run_inline_js();\n",
       "    });\n",
       "  }\n",
       "}(window));"
      ],
      "application/vnd.bokehjs_load.v0+json": "\n(function(root) {\n  function now() {\n    return new Date();\n  }\n\n  var force = true;\n\n  if (typeof (root._bokeh_onload_callbacks) === \"undefined\" || force === true) {\n    root._bokeh_onload_callbacks = [];\n    root._bokeh_is_loading = undefined;\n  }\n\n  \n\n  \n  if (typeof (root._bokeh_timeout) === \"undefined\" || force === true) {\n    root._bokeh_timeout = Date.now() + 5000;\n    root._bokeh_failed_load = false;\n  }\n\n  var NB_LOAD_WARNING = {'data': {'text/html':\n     \"<div style='background-color: #fdd'>\\n\"+\n     \"<p>\\n\"+\n     \"BokehJS does not appear to have successfully loaded. If loading BokehJS from CDN, this \\n\"+\n     \"may be due to a slow or bad network connection. Possible fixes:\\n\"+\n     \"</p>\\n\"+\n     \"<ul>\\n\"+\n     \"<li>re-rerun `output_notebook()` to attempt to load from CDN again, or</li>\\n\"+\n     \"<li>use INLINE resources instead, as so:</li>\\n\"+\n     \"</ul>\\n\"+\n     \"<code>\\n\"+\n     \"from bokeh.resources import INLINE\\n\"+\n     \"output_notebook(resources=INLINE)\\n\"+\n     \"</code>\\n\"+\n     \"</div>\"}};\n\n  function display_loaded() {\n    var el = document.getElementById(\"5e32046b-2f81-4aae-a20d-26628eaed77c\");\n    if (el != null) {\n      el.textContent = \"BokehJS is loading...\";\n    }\n    if (root.Bokeh !== undefined) {\n      if (el != null) {\n        el.textContent = \"BokehJS \" + root.Bokeh.version + \" successfully loaded.\";\n      }\n    } else if (Date.now() < root._bokeh_timeout) {\n      setTimeout(display_loaded, 100)\n    }\n  }\n\n\n  function run_callbacks() {\n    try {\n      root._bokeh_onload_callbacks.forEach(function(callback) { callback() });\n    }\n    finally {\n      delete root._bokeh_onload_callbacks\n    }\n    console.info(\"Bokeh: all callbacks have finished\");\n  }\n\n  function load_libs(js_urls, callback) {\n    root._bokeh_onload_callbacks.push(callback);\n    if (root._bokeh_is_loading > 0) {\n      console.log(\"Bokeh: BokehJS is being loaded, scheduling callback at\", now());\n      return null;\n    }\n    if (js_urls == null || js_urls.length === 0) {\n      run_callbacks();\n      return null;\n    }\n    console.log(\"Bokeh: BokehJS not loaded, scheduling load and callback at\", now());\n    root._bokeh_is_loading = js_urls.length;\n    for (var i = 0; i < js_urls.length; i++) {\n      var url = js_urls[i];\n      var s = document.createElement('script');\n      s.src = url;\n      s.async = false;\n      s.onreadystatechange = s.onload = function() {\n        root._bokeh_is_loading--;\n        if (root._bokeh_is_loading === 0) {\n          console.log(\"Bokeh: all BokehJS libraries loaded\");\n          run_callbacks()\n        }\n      };\n      s.onerror = function() {\n        console.warn(\"failed to load library \" + url);\n      };\n      console.log(\"Bokeh: injecting script tag for BokehJS library: \", url);\n      document.getElementsByTagName(\"head\")[0].appendChild(s);\n    }\n  };var element = document.getElementById(\"5e32046b-2f81-4aae-a20d-26628eaed77c\");\n  if (element == null) {\n    console.log(\"Bokeh: ERROR: autoload.js configured with elementid '5e32046b-2f81-4aae-a20d-26628eaed77c' but no matching script tag was found. \")\n    return false;\n  }\n\n  var js_urls = [\"https://cdn.pydata.org/bokeh/release/bokeh-0.12.16.min.js\", \"https://cdn.pydata.org/bokeh/release/bokeh-widgets-0.12.16.min.js\", \"https://cdn.pydata.org/bokeh/release/bokeh-tables-0.12.16.min.js\", \"https://cdn.pydata.org/bokeh/release/bokeh-gl-0.12.16.min.js\"];\n\n  var inline_js = [\n    function(Bokeh) {\n      Bokeh.set_log_level(\"info\");\n    },\n    \n    function(Bokeh) {\n      \n    },\n    function(Bokeh) {\n      console.log(\"Bokeh: injecting CSS: https://cdn.pydata.org/bokeh/release/bokeh-0.12.16.min.css\");\n      Bokeh.embed.inject_css(\"https://cdn.pydata.org/bokeh/release/bokeh-0.12.16.min.css\");\n      console.log(\"Bokeh: injecting CSS: https://cdn.pydata.org/bokeh/release/bokeh-widgets-0.12.16.min.css\");\n      Bokeh.embed.inject_css(\"https://cdn.pydata.org/bokeh/release/bokeh-widgets-0.12.16.min.css\");\n      console.log(\"Bokeh: injecting CSS: https://cdn.pydata.org/bokeh/release/bokeh-tables-0.12.16.min.css\");\n      Bokeh.embed.inject_css(\"https://cdn.pydata.org/bokeh/release/bokeh-tables-0.12.16.min.css\");\n    }\n  ];\n\n  function run_inline_js() {\n    \n    if ((root.Bokeh !== undefined) || (force === true)) {\n      for (var i = 0; i < inline_js.length; i++) {\n        inline_js[i].call(root, root.Bokeh);\n      }if (force === true) {\n        display_loaded();\n      }} else if (Date.now() < root._bokeh_timeout) {\n      setTimeout(run_inline_js, 100);\n    } else if (!root._bokeh_failed_load) {\n      console.log(\"Bokeh: BokehJS failed to load within specified timeout.\");\n      root._bokeh_failed_load = true;\n    } else if (force !== true) {\n      var cell = $(document.getElementById(\"5e32046b-2f81-4aae-a20d-26628eaed77c\")).parents('.cell').data().cell;\n      cell.output_area.append_execute_result(NB_LOAD_WARNING)\n    }\n\n  }\n\n  if (root._bokeh_is_loading === 0) {\n    console.log(\"Bokeh: BokehJS loaded, going straight to plotting\");\n    run_inline_js();\n  } else {\n    load_libs(js_urls, function() {\n      console.log(\"Bokeh: BokehJS plotting callback run at\", now());\n      run_inline_js();\n    });\n  }\n}(window));"
     },
     "metadata": {},
     "output_type": "display_data"
    }
   ],
   "source": [
    "output_notebook()"
   ]
  },
  {
   "cell_type": "code",
   "execution_count": 8,
   "metadata": {
    "collapsed": true
   },
   "outputs": [],
   "source": [
    "def fmt_cool(ds_in):\n",
    "    ds = ds_in.copy(deep=True)\n",
    "    if 'igg' in ds.dims:\n",
    "        ds = ds.sel(igg=1)\n",
    "\n",
    "    if 'g' in ds.dims:\n",
    "        ds = ds.sum('g')\n",
    "            \n",
    "    if 'band' in ds.dims:\n",
    "        try:\n",
    "            ds = ds.squeeze('band')\n",
    "        except ValueError:\n",
    "            ds = ds.sum('band')\n",
    "                \n",
    "    return ds['coolrg']\n",
    "\n",
    "\n",
    "def pltdata_cooling_1(ds_cool=None,\n",
    "                      ds_cool_crd=None, ds_cool_wgt=None):\n",
    "    \n",
    "\n",
    "\n",
    "    colors = all_palettes['Set1'][4]\n",
    "    data = [{'label': 'CLIRAD `coolr_bands`',\n",
    "             'srs': fmt_cool(ds_cool),\n",
    "             'line_dash': 'dashed', 'line_width': 5,\n",
    "             'color': colors[0], 'alpha': .6},\n",
    "            {'label': 'CRD',\n",
    "             'srs': fmt_cool(ds_cool_crd),\n",
    "             'line_dash': 'solid', 'line_width': 1.5,\n",
    "             'marker': 'circle', 'marker_size': 5,\n",
    "             'color': colors[2], 'alpha': 1,},\n",
    "            {'label': 'WGT igg=10 wgt_flux=2',\n",
    "             'srs': fmt_cool(ds_cool_wgt),\n",
    "             'line_dash': 'solid', 'line_width': 3,\n",
    "             'marker': 'square', 'marker_size': 5,\n",
    "             'color': colors[3], 'alpha': .6}]\n",
    "    return data\n",
    "\n",
    "\n",
    "def nice_xlims(pltdata=None, prange=None):\n",
    "    \n",
    "    def get_slice(srs):\n",
    "        return srs.sel(pressure=slice(*prange))\n",
    "    \n",
    "    srss = [d['srs'] for d in pltdata]\n",
    "    vmin = min([get_slice(srs).min() for srs in srss])\n",
    "    vmax = max([get_slice(srs).max() for srs in srss])\n",
    "    dv = (vmax - vmin) * .01\n",
    "    return float(vmin - dv), float(vmax + dv)\n",
    "    \n",
    "\n",
    "def plt_cooling_bokeh(pltdata=None):\n",
    "    '''\n",
    "    Plot a list of cooling rate profiles using bokeh.\n",
    "    '''\n",
    "    ymin = 1e-2 \n",
    "    ymax = 1020 \n",
    "        \n",
    "    p1 = figure(title=\"Linear pressure scale\", \n",
    "                plot_width=400)        \n",
    "    xmin, xmax = nice_xlims(pltdata, prange=(50, 1050))\n",
    "    for d in pltdata:\n",
    "        if 'marker' in d:\n",
    "            getattr(p1, d['marker'])(d['srs'].values, \n",
    "                    d['srs'].coords['pressure'].values,\n",
    "                    color=d['color'], alpha=.7)\n",
    "        p1.line(d['srs'].values, \n",
    "                d['srs'].coords['pressure'].values,\n",
    "                color=d['color'], alpha=d['alpha'], \n",
    "                line_width=d['line_width'], line_dash=d['line_dash'])\n",
    "    \n",
    "    p1.y_range = Range1d(ymax, ymin)\n",
    "    p1.yaxis.axis_label = 'pressure [mb]'   \n",
    "    p1.x_range = Range1d(xmin, xmax)\n",
    "    p1.xaxis.axis_label = 'cooling rate [K/day]'\n",
    "            \n",
    "    p2 = figure(title='Log pressure scale', y_axis_type='log',\n",
    "                plot_width=560)\n",
    "    xmin, xmax = nice_xlims(pltdata, prange=(.01, 200))\n",
    "    \n",
    "    rs = []\n",
    "    for d in pltdata:\n",
    "        rd = []\n",
    "        if 'marker' in d:\n",
    "            r_mark = getattr(p2, d['marker'])(d['srs'].values, \n",
    "                        d['srs'].coords['pressure'].values,\n",
    "                        color=d['color'], alpha=.7)\n",
    "            rd.append(r_mark)\n",
    "        r_line = p2.line(d['srs'].values, \n",
    "                    d['srs'].coords['pressure'].values,\n",
    "                    color=d['color'], alpha=d['alpha'], \n",
    "                    line_width=d['line_width'], line_dash=d['line_dash'])\n",
    "        rd.append(r_line)\n",
    "      \n",
    "        rs.append(rd)\n",
    "        \n",
    "    p2.y_range = Range1d(ymax, ymin)  \n",
    "    p2.yaxis.axis_label = 'pressure [mb]'\n",
    "    \n",
    "    p2.x_range = Range1d(xmin, xmax)\n",
    "    p2.xaxis.axis_label = 'cooling rate [K/day]'\n",
    "    \n",
    "    items = [(d['label'], r) for r, d in zip(rs, pltdata)]\n",
    "    legend = Legend(items=items, location=(10, -30))\n",
    "    legend.label_text_font_size = '8pt'\n",
    "    \n",
    "    p2.add_layout(legend, 'right')  \n",
    "    \n",
    "    show(gridplot(p1, p2, ncols=2, plot_height=500))\n",
    "    \n",
    "\n",
    "def script_plt_cooling():\n",
    "    pltdata = pltdata_cooling_1(\n",
    "        ds_cool=DS_COOL,\n",
    "        ds_cool_crd=DS_COOL_CRD,\n",
    "        ds_cool_wgt=DS_COOL_WGT)\n",
    "    plt_cooling_bokeh(pltdata=pltdata)\n",
    "    print('''FIGURE. Cooling rate profiles.''')"
   ]
  },
  {
   "cell_type": "code",
   "execution_count": 9,
   "metadata": {
    "collapsed": true
   },
   "outputs": [],
   "source": [
    "def fmt_flux(ds_in):\n",
    "    ds = ds_in.copy(deep=True)\n",
    "    \n",
    "    for l in ('level', 'layer'):\n",
    "        if l in ds.data_vars:\n",
    "            if len(ds[l].dims) > 1:\n",
    "                surface = {d: 0 for d in ds.dims if d != 'pressure'}\n",
    "                coord_level = ds[l][surface]\n",
    "                ds.coords[l] = ('pressure', coord_level)\n",
    "            else:\n",
    "                ds.coords[l] = ('pressure', ds[l])\n",
    "        \n",
    "    ds = ds.isel(pressure=[0, 23, -1])\n",
    "        \n",
    "    if 'igg' in ds.dims:\n",
    "        ds = ds.sel(igg=[1])\n",
    "        ds = ds.squeeze('igg').drop('igg')\n",
    "    \n",
    "    if 'g' in ds.dims:\n",
    "        ds = ds.sum('g')\n",
    "            \n",
    "    if 'band' in ds.dims:\n",
    "        try:\n",
    "            ds = ds.squeeze('band').drop('band')\n",
    "        except ValueError:\n",
    "            ds = ds.sum('band')\n",
    "                \n",
    "    df = ds.to_dataframe()\n",
    "    df = df.set_index('level', append=True)               \n",
    "    return df\n",
    "\n",
    "\n",
    "def tbdata_flux(ds_flux=None, ds_flux_crd=None, ds_flux_wgt=None):\n",
    "    ilevels = [0, 23, -1]\n",
    "            \n",
    "    benchmark = {'label': 'CRD',\n",
    "                 'df': fmt_flux(ds_flux_crd)}\n",
    "    \n",
    "    tbs = [{'label': 'WGT igg=10 wgt_flux=1',\n",
    "            'df': fmt_flux(ds_flux_wgt)},\n",
    "           {'label': 'CLIRAD',\n",
    "            'df': fmt_flux(ds_flux)}]\n",
    "    \n",
    "    data = {'benchmark': benchmark, 'others': tbs}\n",
    "    return data\n",
    "\n",
    "\n",
    "def tb_flux(tbdata=None):\n",
    "    benchmark = tbdata['benchmark']\n",
    "    others = tbdata['others']\n",
    "    \n",
    "    def show_tb(d=None):\n",
    "        display.display(d['df'])\n",
    "        print('Table.', 'Fluxes.', d['label'])\n",
    "        \n",
    "    def show_tbdiff(d0=None, d=None):\n",
    "        df = d['df']\n",
    "        df.index = d0['df'].index\n",
    "        display.display(df - d0['df'])\n",
    "        print('Table.', 'Fluxes.', \n",
    "              '({}) - ({})'.format(d['label'], d0['label']))\n",
    "        \n",
    "    show_tb(benchmark)\n",
    "    for d in others:\n",
    "        show_tb(d)\n",
    "        \n",
    "    for d in others:\n",
    "        show_tbdiff(d=d, d0=benchmark)\n",
    "        \n",
    "        \n",
    "def script_tb_flux():\n",
    "    data = tbdata_flux(ds_flux=DS_FLUX,\n",
    "                       ds_flux_crd=DS_FLUX_CRD,\n",
    "                       ds_flux_wgt=DS_FLUX_WGT)\n",
    "    tb_flux(tbdata=data)"
   ]
  },
  {
   "cell_type": "code",
   "execution_count": 10,
   "metadata": {
    "collapsed": true
   },
   "outputs": [],
   "source": [
    "def band_map():\n",
    "    '''\n",
    "    Maps spectral bands in lblnew to spectral bands in clirad.\n",
    "    '''\n",
    "    lblnew2clirad = {'1': '1',\n",
    "            '2': '2',\n",
    "            '3a': '3',\n",
    "            '3b': '4',\n",
    "            '3c': '5',\n",
    "            '4': '6', \n",
    "            '5': '7',\n",
    "            '6': '8',\n",
    "            '7': '9', \n",
    "            '8': '10',\n",
    "            '9': '11'}\n",
    "    \n",
    "    clirad2lblnew = {clirad: lblnew \n",
    "                     for lblnew, clirad in lblnew2clirad.items()}\n",
    "    return clirad2lblnew\n",
    "\n",
    "\n",
    "def gasbands():\n",
    "    bmap = band_map()\n",
    "    gases = list(PARAM['molecule'].keys())\n",
    "    \n",
    "    bands = [bmap[str(b)] for b in PARAM['band']]\n",
    "    return list(itertools.product(gases, bands))\n",
    "\n",
    "\n",
    "def print_bestfit_params():\n",
    "    print('Best-fit values for each (gas, band)')\n",
    "    print('------------------------------------')\n",
    "    for gas, band in gasbands():\n",
    "        print('o {} band{}'.format(gas, band))\n",
    "        param = bestfits.kdist_params(molecule=gas, band=band)\n",
    "        for name, value in sorted(param.items()):\n",
    "            print(2 * ' ' + '{} = {}'.format(name, value))\n",
    "\n",
    "        \n",
    "def print_input_param():        \n",
    "    for name, value in PARAM.items():\n",
    "        print('{} = {}'.format(name, value))\n",
    "        \n",
    "        \n",
    "def print_lblnew_param():\n",
    "    for name, value in sorted(PARAM_LBLNEW.items()):\n",
    "        print('{} = {}'.format(name, value))\n"
   ]
  },
  {
   "cell_type": "code",
   "execution_count": 11,
   "metadata": {
    "collapsed": true,
    "scrolled": false
   },
   "outputs": [],
   "source": [
    "def show_html(s):\n",
    "    display.display(display.HTML(s))\n",
    "\n",
    "    \n",
    "def show_markdown(s):\n",
    "    display.display(display.Markdown(s))\n",
    "\n",
    "    \n",
    "def script():\n",
    "    \n",
    "    title = '### CLIRAD-LW'\n",
    "    s_input = 'Input Parameters'\n",
    "    s_lblnew_param = 'LBLNEW case compaired against'\n",
    "    s_bestfits = 'Best-fit Parameters'\n",
    "    s_plt_cooling = 'Cooling Rate Profiles'\n",
    "    s_tb_flux = 'Flux Comparison'\n",
    "    \n",
    "    # title\n",
    "    show_markdown('### CLIRAD-LW')\n",
    "    \n",
    "    # TOC\n",
    "    show_markdown('### Table of Contents')\n",
    "    show_html(climahtml.getHTML_hrefanchor(s_input))\n",
    "    show_html(climahtml.getHTML_hrefanchor(s_lblnew_param))\n",
    "    show_html(climahtml.getHTML_hrefanchor(s_plt_cooling))\n",
    "    show_html(climahtml.getHTML_hrefanchor(s_tb_flux))\n",
    "    show_html(climahtml.getHTML_hrefanchor(s_bestfits))\n",
    "    \n",
    "    # Input parameters\n",
    "    show_html(climahtml.getHTML_idanchor(s_input))\n",
    "    show_markdown(climahtml.getMarkdown_sectitle(s_input))\n",
    "    print_input_param()\n",
    "    \n",
    "    # LBLNEW parameters \n",
    "    show_html(climahtml.getHTML_idanchor(s_lblnew_param))\n",
    "    show_markdown(climahtml.getMarkdown_sectitle(s_lblnew_param))\n",
    "    print_lblnew_param()\n",
    "    \n",
    "    # Cooling rate profiles\n",
    "    show_html(climahtml.getHTML_idanchor(s_plt_cooling))\n",
    "    show_markdown(climahtml.getMarkdown_sectitle(s_plt_cooling))\n",
    "    script_plt_cooling()\n",
    "    \n",
    "    # Flux comparison\n",
    "    show_html(climahtml.getHTML_idanchor(s_tb_flux))\n",
    "    show_markdown(climahtml.getMarkdown_sectitle(s_tb_flux))\n",
    "    script_tb_flux()\n",
    "    \n",
    "    # Best-fit values\n",
    "    show_html(climahtml.getHTML_idanchor(s_bestfits))\n",
    "    show_markdown(climahtml.getMarkdown_sectitle(s_bestfits))\n",
    "    print_bestfit_params()\n",
    "   \n",
    "    "
   ]
  },
  {
   "cell_type": "code",
   "execution_count": 12,
   "metadata": {
    "collapsed": true,
    "scrolled": false
   },
   "outputs": [
    {
     "data": {
      "text/markdown": [
       "### CLIRAD-LW"
      ],
      "text/plain": [
       "<IPython.core.display.Markdown object>"
      ]
     },
     "metadata": {},
     "output_type": "display_data"
    },
    {
     "data": {
      "text/markdown": [
       "### Table of Contents"
      ],
      "text/plain": [
       "<IPython.core.display.Markdown object>"
      ]
     },
     "metadata": {},
     "output_type": "display_data"
    },
    {
     "data": {
      "text/html": [
       "<a href=\"#Input_Parameters\">Input Parameters</a>"
      ],
      "text/plain": [
       "<IPython.core.display.HTML object>"
      ]
     },
     "metadata": {},
     "output_type": "display_data"
    },
    {
     "data": {
      "text/html": [
       "<a href=\"#LBLNEW_case_compaired_against\">LBLNEW case compaired against</a>"
      ],
      "text/plain": [
       "<IPython.core.display.HTML object>"
      ]
     },
     "metadata": {},
     "output_type": "display_data"
    },
    {
     "data": {
      "text/html": [
       "<a href=\"#Cooling_Rate_Profiles\">Cooling Rate Profiles</a>"
      ],
      "text/plain": [
       "<IPython.core.display.HTML object>"
      ]
     },
     "metadata": {},
     "output_type": "display_data"
    },
    {
     "data": {
      "text/html": [
       "<a href=\"#Flux_Comparison\">Flux Comparison</a>"
      ],
      "text/plain": [
       "<IPython.core.display.HTML object>"
      ]
     },
     "metadata": {},
     "output_type": "display_data"
    },
    {
     "data": {
      "text/html": [
       "<a href=\"#Best-fit_Parameters\">Best-fit Parameters</a>"
      ],
      "text/plain": [
       "<IPython.core.display.HTML object>"
      ]
     },
     "metadata": {},
     "output_type": "display_data"
    },
    {
     "data": {
      "text/html": [
       "<a id=\"Input_Parameters\"></a>"
      ],
      "text/plain": [
       "<IPython.core.display.HTML object>"
      ]
     },
     "metadata": {},
     "output_type": "display_data"
    },
    {
     "data": {
      "text/markdown": [
       "# Input Parameters"
      ],
      "text/plain": [
       "<IPython.core.display.Markdown object>"
      ]
     },
     "metadata": {},
     "output_type": "display_data"
    },
    {
     "name": "stdout",
     "output_type": "stream",
     "text": [
      "atmpro = mls\n",
      "band = [8]\n",
      "commitnumber = a70b085_x\n",
      "molecule = {'n2o': 3.2e-07}\n",
      "tsfc = 294\n"
     ]
    },
    {
     "data": {
      "text/html": [
       "<a id=\"LBLNEW_case_compaired_against\"></a>"
      ],
      "text/plain": [
       "<IPython.core.display.HTML object>"
      ]
     },
     "metadata": {},
     "output_type": "display_data"
    },
    {
     "data": {
      "text/markdown": [
       "# LBLNEW case compaired against"
      ],
      "text/plain": [
       "<IPython.core.display.Markdown object>"
      ]
     },
     "metadata": {},
     "output_type": "display_data"
    },
    {
     "name": "stdout",
     "output_type": "stream",
     "text": [
      "atmpro = mls\n",
      "band = 6\n",
      "commitnumber = bca49ce\n",
      "conc = 3.2e-07\n",
      "dv = 0.005\n",
      "klin = 0\n",
      "molecule = n2o\n",
      "ng_adju = [0]\n",
      "ng_refs = [1]\n",
      "nv = 200\n",
      "option_compute_btable = 0\n",
      "option_compute_ktable = 0\n",
      "option_wgt_flux = 1\n",
      "option_wgt_k = 1\n",
      "ref_pts = [(500, 250)]\n",
      "tsfc = 294\n",
      "vmax = 1215\n",
      "vmin = 1100\n",
      "w_diffuse = [(1.66,)]\n",
      "wgt = [(0.95,)]\n"
     ]
    },
    {
     "data": {
      "text/html": [
       "<a id=\"Cooling_Rate_Profiles\"></a>"
      ],
      "text/plain": [
       "<IPython.core.display.HTML object>"
      ]
     },
     "metadata": {},
     "output_type": "display_data"
    },
    {
     "data": {
      "text/markdown": [
       "# Cooling Rate Profiles"
      ],
      "text/plain": [
       "<IPython.core.display.Markdown object>"
      ]
     },
     "metadata": {},
     "output_type": "display_data"
    },
    {
     "data": {
      "text/html": [
       "\n",
       "<div class=\"bk-root\">\n",
       "    <div class=\"bk-plotdiv\" id=\"a5eed057-c416-42ab-8b35-0ea2d43bd9cc\"></div>\n",
       "</div>"
      ]
     },
     "metadata": {},
     "output_type": "display_data"
    },
    {
     "data": {
      "application/javascript": [
       "(function(root) {\n",
       "  function embed_document(root) {\n",
       "    \n",
       "  var docs_json = {\"6b81bcad-18f4-4c89-af8f-4f07c3f1913b\":{\"roots\":{\"references\":[{\"attributes\":{\"callback\":null,\"data\":{\"x\":{\"__ndarray__\":\"uocTvzqzcr/VKbiklqlyv+jMiNa7lHK/axAwuyp+cr/87qneEmdyv1FaUsp4T3K/QzKmmVw3cr/j7XH4vh5yv4d8Z2KgBXK/N9gJIwXscb8e0P+W89Fxv8ocrRxxt3G/rZvUTIWccb8CwF6NZn9xv5IZuwIiJHG/OBz2eKoOcL8mZOCzh1Nsv12oGzAYeGe/8W4zvU5vYb9mw/WDFQJUv4XoPlpwLR6/YmcnFyzbUz9rUuOE1vpjP3JbZHyN3WQ/wnsWnY/fWT8h2Nsqd5c9P8amZR+XF0O/qW8beaBWWL8xsD/m0lpiv/KtG/Bqkme/bZQTOwM0bL80NZFhqhxwv+TuX5jNlXG/idICXmSOcr9BIZNwR1Zzv/1pF9pP+3O/CL+IinVJdL8xm0oH7m50v9hLGOtpcHS/Ok2Tz3NPdL/TomD8K6Fzvw1Z7TqMa3K/dhYtX58Jcb+yGUD1mBNvv90ND1LRB2y/hk5oRoHtaL8SLp5hdeJlv3v+7LLcrGK/NDJTUA3YXr/Zm02EY09Yv8Kww+ETzlG/XERJsSFBR7/z+QW1bW80v1+SEdRx4RM/PbkKXbQfPj+4blHbXTFLP5yN3G3z01M/FDgdbQoXWj+p6i8FtSlgPzMF0zajQmM//u8oT4k9Zj9N5WFfumJpP7//xLzWe2w/WGfPOcWQbz8iqvKxwkNxPxKJ5X7ex3I/1l0DGJtBdD/qP2t+/KV1P0JBFlLY5nY/WCE3lPkGeD8ZzZbgVxt5P7LHucXrHno/88eNSsUZez8BXGYbswF8P0QxTDkl+Hw/\",\"dtype\":\"float64\",\"shape\":[75]},\"y\":{\"__ndarray__\":\"GhExyth1ND/Sv8nbtpRIP2vylNV0PVE/aTum7souWD/At0SJ8fVgPw3Iuahxymc/MSNhhJWvcD/bTfBN02d3P2zb5nxnaoA/CD5h5MAGhz8NmeH1TyaQP+zrCsc9p5Y/LbKd76fGnz/bLW5ISEmmPww9YvTcQq8/JV2OstnstT8Er5Y7M8G+P0c+r3jqkcU/5h99k6ZBzj88bCIzFzjVP4enV8oyxN0//yH99nXg5D8qOpLLf0jtP5kqGJXUifQ/c9cS8kHP/D+/DpwzojQEQIEmwoanVwxA4lgXt9HgE0BSSZ2AJuIbQAMJih9jjiNA5q4l5INuK0AwTKYKRj0zQNv5fmq8/DpAaCJseHrtQkB/+zpwzoxKQM3MzMzMeFJAZmZmZmZqWEAAAAAAAFxeQM3MzMzMJmJAmpmZmZkfZUBmZmZmZhhoQDMzMzMzEWtAAAAAAAAKbkBmZmZmZoFwQM3MzMzM/XFAMzMzMzN6c0CamZmZmfZ0QAAAAAAAc3ZAZmZmZmbvd0DNzMzMzGt5QDMzMzMz6HpAmpmZmZlkfEAAAAAAAOF9QGZmZmZmXX9AZmZmZuZsgECamZmZGSuBQM3MzMxM6YFAAAAAAICngkAzMzMzs2WDQGZmZmbmI4RAmpmZmRnihEDNzMzMTKCFQAAAAACAXoZAMzMzM7Mch0BmZmZm5tqHQJqZmZkZmYhAzczMzExXiUAAAAAAgBWKQDMzMzOz04pAZmZmZuaRi0CamZmZGVCMQM3MzMxMDo1AAAAAAIDMjUAzMzMzs4qOQGZmZmbmSI9A\",\"dtype\":\"float64\",\"shape\":[75]}},\"selected\":{\"id\":\"e140dba5-ac87-451e-a15c-0f502c7daeda\",\"type\":\"Selection\"},\"selection_policy\":{\"id\":\"5749aa4d-bd13-4805-8279-d6f8f671df94\",\"type\":\"UnionRenderers\"}},\"id\":\"626375f1-77b8-4203-8cb1-aac70c5af784\",\"type\":\"ColumnDataSource\"},{\"attributes\":{\"callback\":null,\"data\":{\"x\":{\"__ndarray__\":\"hzmVUYuWYr8SW/DUMoFiv5IaBu8MU2K/gC9CxtUgYr+t8ZfrdO1hv3e7ww4ouWG/wkc77AmEYb/5gOywY05hvyAHjtROF2G/6J1dklDgYL8fNV0Ad6hgv4Nsgxlmb2C/4UndXmo1YL+x29CdM+xfvwpOd/l6YF6/38UpYceyWb/Z5G1/x6RRv5f2MyLHkz2/Zx7IHs4ENT9uayhJoMdUPxM5i/pHz2M/YFRUceoZbz+f3LvxKr50P3FdcawkHXU/71Qt2v3ZcD8E6qCVM9BnP9sGNKjkgl0/kdYm74NrSz8Ogu/Xecn4PpWlwwk6I0a/GIvKeQuTVb9z+WvHT0lfv4Z/5CCgt2O/k3n7YlwZZ7/hieVGNGlqv7hEobKQqm2/X46dPqIMcL+27F37Ottwv24Wpf8CjHG/PD+ormz9cb/3/D+2xMRxv/XVtmHL5HC/yxcNAKmSb7+XbHSCwSttvxmp12uKoGq/jfVqTyv2Z7+I6lB+8DBlvyoWewyvVGK/K58ZkDrLXr8Pg59O985Yv2yh2Mh9xFK/4TxIlcxwSb/gjjRIF8k6vwsAh/QoTAa/oHN0H+gsNT+C10ul5ZVGP23LQ1B8T1E/U/ONU/FZVz+RyWWAZGpdP9CxRjBjwGE/mVxOQlfNZD/XFDIa7NtnP6N8CobP62o/1l7SPCr8bT/BzV6NHoVwPzYXE60pCHI/iyteEACBcz9rBhC0feV0P/A3BhdFLHY/boycy+1Tdz+vv7SGHGR4P+L4i6RXZnk/CMCH6Bphej88+YmGsld7P9r1z+6wS3w/\",\"dtype\":\"float64\",\"shape\":[75]},\"y\":{\"__ndarray__\":\"GhExyth1ND/Sv8nbtpRIP2vylNV0PVE/aTum7souWD/At0SJ8fVgPw3Iuahxymc/MSNhhJWvcD/bTfBN02d3P2zb5nxnaoA/CD5h5MAGhz8NmeH1TyaQP+zrCsc9p5Y/LbKd76fGnz/bLW5ISEmmPww9YvTcQq8/JV2OstnstT8Er5Y7M8G+P0c+r3jqkcU/5h99k6ZBzj88bCIzFzjVP4enV8oyxN0//yH99nXg5D8qOpLLf0jtP5kqGJXUifQ/c9cS8kHP/D+/DpwzojQEQIEmwoanVwxA4lgXt9HgE0BSSZ2AJuIbQAMJih9jjiNA5q4l5INuK0AwTKYKRj0zQNv5fmq8/DpAaCJseHrtQkB/+zpwzoxKQM3MzMzMeFJAZmZmZmZqWEAAAAAAAFxeQM3MzMzMJmJAmpmZmZkfZUBmZmZmZhhoQDMzMzMzEWtAAAAAAAAKbkBmZmZmZoFwQM3MzMzM/XFAMzMzMzN6c0CamZmZmfZ0QAAAAAAAc3ZAZmZmZmbvd0DNzMzMzGt5QDMzMzMz6HpAmpmZmZlkfEAAAAAAAOF9QGZmZmZmXX9AZmZmZuZsgECamZmZGSuBQM3MzMxM6YFAAAAAAICngkAzMzMzs2WDQGZmZmbmI4RAmpmZmRnihEDNzMzMTKCFQAAAAACAXoZAMzMzM7Mch0BmZmZm5tqHQJqZmZkZmYhAzczMzExXiUAAAAAAgBWKQDMzMzOz04pAZmZmZuaRi0CamZmZGVCMQM3MzMxMDo1AAAAAAIDMjUAzMzMzs4qOQGZmZmbmSI9A\",\"dtype\":\"float64\",\"shape\":[75]}},\"selected\":{\"id\":\"159d95dc-31df-4a8c-b44e-850de835567f\",\"type\":\"Selection\"},\"selection_policy\":{\"id\":\"0e0614ac-a1e2-458a-a264-a03e39d54f96\",\"type\":\"UnionRenderers\"}},\"id\":\"6be62faf-501b-4b3a-bb5f-dd5b4c6f5ac8\",\"type\":\"ColumnDataSource\"},{\"attributes\":{\"source\":{\"id\":\"374aaf48-8555-4f22-bb8e-d519f6c646b8\",\"type\":\"ColumnDataSource\"}},\"id\":\"53a9b788-b818-4424-ada1-81615b9fe495\",\"type\":\"CDSView\"},{\"attributes\":{\"fill_alpha\":{\"value\":0.7},\"fill_color\":{\"value\":\"#4daf4a\"},\"line_alpha\":{\"value\":0.7},\"line_color\":{\"value\":\"#4daf4a\"},\"x\":{\"field\":\"x\"},\"y\":{\"field\":\"y\"}},\"id\":\"40002e9f-f99b-4373-ad39-ce09c42533e7\",\"type\":\"Circle\"},{\"attributes\":{},\"id\":\"c58ac0ce-867e-4e03-91ab-8a4370cd7e6c\",\"type\":\"WheelZoomTool\"},{\"attributes\":{\"line_color\":\"#4daf4a\",\"line_width\":1.5,\"x\":{\"field\":\"x\"},\"y\":{\"field\":\"y\"}},\"id\":\"a8097f9f-1dbd-4d5c-963b-edfdfdce37ee\",\"type\":\"Line\"},{\"attributes\":{\"overlay\":{\"id\":\"45372b0e-8680-4d84-9393-fd1f3a42925a\",\"type\":\"BoxAnnotation\"}},\"id\":\"45287911-ccfb-4f5d-bcce-b3edf6313ba0\",\"type\":\"BoxZoomTool\"},{\"attributes\":{\"source\":{\"id\":\"01a0c0e1-9098-497e-8491-5e337e14aaef\",\"type\":\"ColumnDataSource\"}},\"id\":\"5c8cdce7-fedd-4d44-bd6c-05bb5c51553a\",\"type\":\"CDSView\"},{\"attributes\":{},\"id\":\"a5f3923b-4839-409f-809b-f89306837f94\",\"type\":\"SaveTool\"},{\"attributes\":{\"fill_alpha\":{\"value\":0.1},\"fill_color\":{\"value\":\"#1f77b4\"},\"line_alpha\":{\"value\":0.1},\"line_color\":{\"value\":\"#1f77b4\"},\"x\":{\"field\":\"x\"},\"y\":{\"field\":\"y\"}},\"id\":\"d3988d12-e05b-42ee-9ec2-7f93d47d6234\",\"type\":\"Square\"},{\"attributes\":{\"callback\":null,\"data\":{\"x\":{\"__ndarray__\":\"hzmVUYuWYr8SW/DUMoFiv5IaBu8MU2K/gC9CxtUgYr+t8ZfrdO1hv3e7ww4ouWG/wkc77AmEYb/5gOywY05hvyAHjtROF2G/6J1dklDgYL8fNV0Ad6hgv4Nsgxlmb2C/4UndXmo1YL+x29CdM+xfvwpOd/l6YF6/38UpYceyWb/Z5G1/x6RRv5f2MyLHkz2/Zx7IHs4ENT9uayhJoMdUPxM5i/pHz2M/YFRUceoZbz+f3LvxKr50P3FdcawkHXU/71Qt2v3ZcD8E6qCVM9BnP9sGNKjkgl0/kdYm74NrSz8Ogu/Xecn4PpWlwwk6I0a/GIvKeQuTVb9z+WvHT0lfv4Z/5CCgt2O/k3n7YlwZZ7/hieVGNGlqv7hEobKQqm2/X46dPqIMcL+27F37Ottwv24Wpf8CjHG/PD+ormz9cb/3/D+2xMRxv/XVtmHL5HC/yxcNAKmSb7+XbHSCwSttvxmp12uKoGq/jfVqTyv2Z7+I6lB+8DBlvyoWewyvVGK/K58ZkDrLXr8Pg59O985Yv2yh2Mh9xFK/4TxIlcxwSb/gjjRIF8k6vwsAh/QoTAa/oHN0H+gsNT+C10ul5ZVGP23LQ1B8T1E/U/ONU/FZVz+RyWWAZGpdP9CxRjBjwGE/mVxOQlfNZD/XFDIa7NtnP6N8CobP62o/1l7SPCr8bT/BzV6NHoVwPzYXE60pCHI/iyteEACBcz9rBhC0feV0P/A3BhdFLHY/boycy+1Tdz+vv7SGHGR4P+L4i6RXZnk/CMCH6Bphej88+YmGsld7P9r1z+6wS3w/\",\"dtype\":\"float64\",\"shape\":[75]},\"y\":{\"__ndarray__\":\"GhExyth1ND/Sv8nbtpRIP2vylNV0PVE/aTum7souWD/At0SJ8fVgPw3Iuahxymc/MSNhhJWvcD/bTfBN02d3P2zb5nxnaoA/CD5h5MAGhz8NmeH1TyaQP+zrCsc9p5Y/LbKd76fGnz/bLW5ISEmmPww9YvTcQq8/JV2OstnstT8Er5Y7M8G+P0c+r3jqkcU/5h99k6ZBzj88bCIzFzjVP4enV8oyxN0//yH99nXg5D8qOpLLf0jtP5kqGJXUifQ/c9cS8kHP/D+/DpwzojQEQIEmwoanVwxA4lgXt9HgE0BSSZ2AJuIbQAMJih9jjiNA5q4l5INuK0AwTKYKRj0zQNv5fmq8/DpAaCJseHrtQkB/+zpwzoxKQM3MzMzMeFJAZmZmZmZqWEAAAAAAAFxeQM3MzMzMJmJAmpmZmZkfZUBmZmZmZhhoQDMzMzMzEWtAAAAAAAAKbkBmZmZmZoFwQM3MzMzM/XFAMzMzMzN6c0CamZmZmfZ0QAAAAAAAc3ZAZmZmZmbvd0DNzMzMzGt5QDMzMzMz6HpAmpmZmZlkfEAAAAAAAOF9QGZmZmZmXX9AZmZmZuZsgECamZmZGSuBQM3MzMxM6YFAAAAAAICngkAzMzMzs2WDQGZmZmbmI4RAmpmZmRnihEDNzMzMTKCFQAAAAACAXoZAMzMzM7Mch0BmZmZm5tqHQJqZmZkZmYhAzczMzExXiUAAAAAAgBWKQDMzMzOz04pAZmZmZuaRi0CamZmZGVCMQM3MzMxMDo1AAAAAAIDMjUAzMzMzs4qOQGZmZmbmSI9A\",\"dtype\":\"float64\",\"shape\":[75]}},\"selected\":{\"id\":\"9e75a6a8-0d5c-4554-87bd-520510458f35\",\"type\":\"Selection\"},\"selection_policy\":{\"id\":\"00fdc128-27da-4ce5-81ba-84875503ec7d\",\"type\":\"UnionRenderers\"}},\"id\":\"c981243a-a822-4eae-8d12-6934910e5f52\",\"type\":\"ColumnDataSource\"},{\"attributes\":{},\"id\":\"1f3afa5e-fb84-46b3-8dc0-e1e25f68eeb8\",\"type\":\"ResetTool\"},{\"attributes\":{\"fill_alpha\":{\"value\":0.1},\"fill_color\":{\"value\":\"#1f77b4\"},\"line_alpha\":{\"value\":0.1},\"line_color\":{\"value\":\"#1f77b4\"},\"x\":{\"field\":\"x\"},\"y\":{\"field\":\"y\"}},\"id\":\"66f19636-02f0-4004-8e10-eac45977a43f\",\"type\":\"Circle\"},{\"attributes\":{},\"id\":\"793ab471-ed31-4ba5-9c3c-f58e5a846317\",\"type\":\"HelpTool\"},{\"attributes\":{\"data_source\":{\"id\":\"c981243a-a822-4eae-8d12-6934910e5f52\",\"type\":\"ColumnDataSource\"},\"glyph\":{\"id\":\"643d35fc-3172-42da-96ae-fc3b46bbb718\",\"type\":\"Circle\"},\"hover_glyph\":null,\"muted_glyph\":null,\"nonselection_glyph\":{\"id\":\"66f19636-02f0-4004-8e10-eac45977a43f\",\"type\":\"Circle\"},\"selection_glyph\":null,\"view\":{\"id\":\"11f59ac0-15a3-4eab-805c-f41ce335a5ea\",\"type\":\"CDSView\"}},\"id\":\"8c1c7a02-5cdf-4a05-ad3c-15a76c58ed54\",\"type\":\"GlyphRenderer\"},{\"attributes\":{\"callback\":null,\"end\":0.00719321346,\"start\":-0.00511064466},\"id\":\"a9319213-26d4-4229-b937-ee11e22bde28\",\"type\":\"Range1d\"},{\"attributes\":{\"fill_alpha\":{\"value\":0.7},\"fill_color\":{\"value\":\"#4daf4a\"},\"line_alpha\":{\"value\":0.7},\"line_color\":{\"value\":\"#4daf4a\"},\"x\":{\"field\":\"x\"},\"y\":{\"field\":\"y\"}},\"id\":\"643d35fc-3172-42da-96ae-fc3b46bbb718\",\"type\":\"Circle\"},{\"attributes\":{\"axis_label\":\"cooling rate [K/day]\",\"formatter\":{\"id\":\"adfda787-dc8f-4cab-a26e-5b7a639bd30e\",\"type\":\"BasicTickFormatter\"},\"plot\":{\"id\":\"a9a6510e-a7ae-470a-8a46-9d5a6e2b7fe0\",\"subtype\":\"Figure\",\"type\":\"Plot\"},\"ticker\":{\"id\":\"04fa86e7-a149-4428-a8c4-dda0d9a8cf21\",\"type\":\"BasicTicker\"}},\"id\":\"a1bbd3cc-cb35-47d4-916f-972c834fce47\",\"type\":\"LinearAxis\"},{\"attributes\":{\"line_alpha\":0.1,\"line_color\":\"#1f77b4\",\"line_width\":1.5,\"x\":{\"field\":\"x\"},\"y\":{\"field\":\"y\"}},\"id\":\"f53e3034-55dd-44d4-8928-c99dc66a7970\",\"type\":\"Line\"},{\"attributes\":{\"line_alpha\":0.6,\"line_color\":\"#e41a1c\",\"line_dash\":[6],\"line_width\":5,\"x\":{\"field\":\"x\"},\"y\":{\"field\":\"y\"}},\"id\":\"e377b3b7-0f47-4406-b566-639467118eed\",\"type\":\"Line\"},{\"attributes\":{\"data_source\":{\"id\":\"374aaf48-8555-4f22-bb8e-d519f6c646b8\",\"type\":\"ColumnDataSource\"},\"glyph\":{\"id\":\"b601a884-19d1-4c60-9f37-9981ccd1bb57\",\"type\":\"Square\"},\"hover_glyph\":null,\"muted_glyph\":null,\"nonselection_glyph\":{\"id\":\"d3988d12-e05b-42ee-9ec2-7f93d47d6234\",\"type\":\"Square\"},\"selection_glyph\":null,\"view\":{\"id\":\"53a9b788-b818-4424-ada1-81615b9fe495\",\"type\":\"CDSView\"}},\"id\":\"4a045c3f-3730-4961-80ef-870f63ba8fd8\",\"type\":\"GlyphRenderer\"},{\"attributes\":{\"callback\":null,\"end\":0.01,\"start\":1020},\"id\":\"8b61e758-885e-4557-8809-3334694b4321\",\"type\":\"Range1d\"},{\"attributes\":{\"active_drag\":\"auto\",\"active_inspect\":\"auto\",\"active_scroll\":\"auto\",\"active_tap\":\"auto\",\"tools\":[{\"id\":\"29d1d172-94a4-466c-a917-65e705557e7f\",\"type\":\"PanTool\"},{\"id\":\"406846d6-067f-4f58-bfb7-6adc55293cb1\",\"type\":\"WheelZoomTool\"},{\"id\":\"6152acbe-06c8-4578-bbe7-39968bbe06a0\",\"type\":\"BoxZoomTool\"},{\"id\":\"db84e651-763b-42fd-a69d-8fcdfca97605\",\"type\":\"SaveTool\"},{\"id\":\"1d1bda55-7394-444c-918b-238d32250945\",\"type\":\"ResetTool\"},{\"id\":\"be71fbbe-825e-43f5-ae0a-e3ee2845ae54\",\"type\":\"HelpTool\"}]},\"id\":\"37c3cad1-79a5-4d3d-9067-c879d838a9d2\",\"type\":\"Toolbar\"},{\"attributes\":{\"source\":{\"id\":\"c981243a-a822-4eae-8d12-6934910e5f52\",\"type\":\"ColumnDataSource\"}},\"id\":\"11f59ac0-15a3-4eab-805c-f41ce335a5ea\",\"type\":\"CDSView\"},{\"attributes\":{\"plot\":{\"id\":\"a9a6510e-a7ae-470a-8a46-9d5a6e2b7fe0\",\"subtype\":\"Figure\",\"type\":\"Plot\"},\"ticker\":{\"id\":\"04fa86e7-a149-4428-a8c4-dda0d9a8cf21\",\"type\":\"BasicTicker\"}},\"id\":\"4c81422b-5f8a-4b4b-b342-1c4f6381db90\",\"type\":\"Grid\"},{\"attributes\":{\"callback\":null,\"data\":{\"x\":{\"__ndarray__\":\"uocTvzqzcr/VKbiklqlyv+jMiNa7lHK/axAwuyp+cr/87qneEmdyv1FaUsp4T3K/QzKmmVw3cr/j7XH4vh5yv4d8Z2KgBXK/N9gJIwXscb8e0P+W89Fxv8ocrRxxt3G/rZvUTIWccb8CwF6NZn9xv5IZuwIiJHG/OBz2eKoOcL8mZOCzh1Nsv12oGzAYeGe/8W4zvU5vYb9mw/WDFQJUv4XoPlpwLR6/YmcnFyzbUz9rUuOE1vpjP3JbZHyN3WQ/wnsWnY/fWT8h2Nsqd5c9P8amZR+XF0O/qW8beaBWWL8xsD/m0lpiv/KtG/Bqkme/bZQTOwM0bL80NZFhqhxwv+TuX5jNlXG/idICXmSOcr9BIZNwR1Zzv/1pF9pP+3O/CL+IinVJdL8xm0oH7m50v9hLGOtpcHS/Ok2Tz3NPdL/TomD8K6Fzvw1Z7TqMa3K/dhYtX58Jcb+yGUD1mBNvv90ND1LRB2y/hk5oRoHtaL8SLp5hdeJlv3v+7LLcrGK/NDJTUA3YXr/Zm02EY09Yv8Kww+ETzlG/XERJsSFBR7/z+QW1bW80v1+SEdRx4RM/PbkKXbQfPj+4blHbXTFLP5yN3G3z01M/FDgdbQoXWj+p6i8FtSlgPzMF0zajQmM//u8oT4k9Zj9N5WFfumJpP7//xLzWe2w/WGfPOcWQbz8iqvKxwkNxPxKJ5X7ex3I/1l0DGJtBdD/qP2t+/KV1P0JBFlLY5nY/WCE3lPkGeD8ZzZbgVxt5P7LHucXrHno/88eNSsUZez8BXGYbswF8P0QxTDkl+Hw/\",\"dtype\":\"float64\",\"shape\":[75]},\"y\":{\"__ndarray__\":\"GhExyth1ND/Sv8nbtpRIP2vylNV0PVE/aTum7souWD/At0SJ8fVgPw3Iuahxymc/MSNhhJWvcD/bTfBN02d3P2zb5nxnaoA/CD5h5MAGhz8NmeH1TyaQP+zrCsc9p5Y/LbKd76fGnz/bLW5ISEmmPww9YvTcQq8/JV2OstnstT8Er5Y7M8G+P0c+r3jqkcU/5h99k6ZBzj88bCIzFzjVP4enV8oyxN0//yH99nXg5D8qOpLLf0jtP5kqGJXUifQ/c9cS8kHP/D+/DpwzojQEQIEmwoanVwxA4lgXt9HgE0BSSZ2AJuIbQAMJih9jjiNA5q4l5INuK0AwTKYKRj0zQNv5fmq8/DpAaCJseHrtQkB/+zpwzoxKQM3MzMzMeFJAZmZmZmZqWEAAAAAAAFxeQM3MzMzMJmJAmpmZmZkfZUBmZmZmZhhoQDMzMzMzEWtAAAAAAAAKbkBmZmZmZoFwQM3MzMzM/XFAMzMzMzN6c0CamZmZmfZ0QAAAAAAAc3ZAZmZmZmbvd0DNzMzMzGt5QDMzMzMz6HpAmpmZmZlkfEAAAAAAAOF9QGZmZmZmXX9AZmZmZuZsgECamZmZGSuBQM3MzMxM6YFAAAAAAICngkAzMzMzs2WDQGZmZmbmI4RAmpmZmRnihEDNzMzMTKCFQAAAAACAXoZAMzMzM7Mch0BmZmZm5tqHQJqZmZkZmYhAzczMzExXiUAAAAAAgBWKQDMzMzOz04pAZmZmZuaRi0CamZmZGVCMQM3MzMxMDo1AAAAAAIDMjUAzMzMzs4qOQGZmZmbmSI9A\",\"dtype\":\"float64\",\"shape\":[75]}},\"selected\":{\"id\":\"0fb30009-044a-41f6-ad07-b2ed154c90c3\",\"type\":\"Selection\"},\"selection_policy\":{\"id\":\"bfba8993-1ead-401c-8c1f-128088373eec\",\"type\":\"UnionRenderers\"}},\"id\":\"374aaf48-8555-4f22-bb8e-d519f6c646b8\",\"type\":\"ColumnDataSource\"},{\"attributes\":{\"plot\":null,\"text\":\"Linear pressure scale\"},\"id\":\"6d214969-7663-470c-aa0c-d924f2109a32\",\"type\":\"Title\"},{\"attributes\":{\"data_source\":{\"id\":\"01a0c0e1-9098-497e-8491-5e337e14aaef\",\"type\":\"ColumnDataSource\"},\"glyph\":{\"id\":\"e377b3b7-0f47-4406-b566-639467118eed\",\"type\":\"Line\"},\"hover_glyph\":null,\"muted_glyph\":null,\"nonselection_glyph\":{\"id\":\"37aa619c-ff1b-40c6-b124-ed61719cafa9\",\"type\":\"Line\"},\"selection_glyph\":null,\"view\":{\"id\":\"5c8cdce7-fedd-4d44-bd6c-05bb5c51553a\",\"type\":\"CDSView\"}},\"id\":\"b41940ae-be1c-47d2-8eec-32d9eefa74f5\",\"type\":\"GlyphRenderer\"},{\"attributes\":{\"data_source\":{\"id\":\"42e384ed-1a85-467c-b8b7-a0430b91966c\",\"type\":\"ColumnDataSource\"},\"glyph\":{\"id\":\"c5c6fc45-1a15-44e1-ba69-e7ecb67c4c04\",\"type\":\"Line\"},\"hover_glyph\":null,\"muted_glyph\":null,\"nonselection_glyph\":{\"id\":\"b6f96416-de50-44f5-9e6e-7d9289332417\",\"type\":\"Line\"},\"selection_glyph\":null,\"view\":{\"id\":\"0ddea2ef-7da5-4ed4-801d-94e84ad9cf89\",\"type\":\"CDSView\"}},\"id\":\"8751601a-8c59-4034-b2c2-c1b7d579508c\",\"type\":\"GlyphRenderer\"},{\"attributes\":{\"callback\":null,\"data\":{\"x\":{\"__ndarray__\":\"hzmVUYuWYr8SW/DUMoFiv5IaBu8MU2K/gC9CxtUgYr+t8ZfrdO1hv3e7ww4ouWG/wkc77AmEYb/5gOywY05hvyAHjtROF2G/6J1dklDgYL8fNV0Ad6hgv4Nsgxlmb2C/4UndXmo1YL+x29CdM+xfvwpOd/l6YF6/38UpYceyWb/Z5G1/x6RRv5f2MyLHkz2/Zx7IHs4ENT9uayhJoMdUPxM5i/pHz2M/YFRUceoZbz+f3LvxKr50P3FdcawkHXU/71Qt2v3ZcD8E6qCVM9BnP9sGNKjkgl0/kdYm74NrSz8Ogu/Xecn4PpWlwwk6I0a/GIvKeQuTVb9z+WvHT0lfv4Z/5CCgt2O/k3n7YlwZZ7/hieVGNGlqv7hEobKQqm2/X46dPqIMcL+27F37Ottwv24Wpf8CjHG/PD+ormz9cb/3/D+2xMRxv/XVtmHL5HC/yxcNAKmSb7+XbHSCwSttvxmp12uKoGq/jfVqTyv2Z7+I6lB+8DBlvyoWewyvVGK/K58ZkDrLXr8Pg59O985Yv2yh2Mh9xFK/4TxIlcxwSb/gjjRIF8k6vwsAh/QoTAa/oHN0H+gsNT+C10ul5ZVGP23LQ1B8T1E/U/ONU/FZVz+RyWWAZGpdP9CxRjBjwGE/mVxOQlfNZD/XFDIa7NtnP6N8CobP62o/1l7SPCr8bT/BzV6NHoVwPzYXE60pCHI/iyteEACBcz9rBhC0feV0P/A3BhdFLHY/boycy+1Tdz+vv7SGHGR4P+L4i6RXZnk/CMCH6Bphej88+YmGsld7P9r1z+6wS3w/\",\"dtype\":\"float64\",\"shape\":[75]},\"y\":{\"__ndarray__\":\"GhExyth1ND/Sv8nbtpRIP2vylNV0PVE/aTum7souWD/At0SJ8fVgPw3Iuahxymc/MSNhhJWvcD/bTfBN02d3P2zb5nxnaoA/CD5h5MAGhz8NmeH1TyaQP+zrCsc9p5Y/LbKd76fGnz/bLW5ISEmmPww9YvTcQq8/JV2OstnstT8Er5Y7M8G+P0c+r3jqkcU/5h99k6ZBzj88bCIzFzjVP4enV8oyxN0//yH99nXg5D8qOpLLf0jtP5kqGJXUifQ/c9cS8kHP/D+/DpwzojQEQIEmwoanVwxA4lgXt9HgE0BSSZ2AJuIbQAMJih9jjiNA5q4l5INuK0AwTKYKRj0zQNv5fmq8/DpAaCJseHrtQkB/+zpwzoxKQM3MzMzMeFJAZmZmZmZqWEAAAAAAAFxeQM3MzMzMJmJAmpmZmZkfZUBmZmZmZhhoQDMzMzMzEWtAAAAAAAAKbkBmZmZmZoFwQM3MzMzM/XFAMzMzMzN6c0CamZmZmfZ0QAAAAAAAc3ZAZmZmZmbvd0DNzMzMzGt5QDMzMzMz6HpAmpmZmZlkfEAAAAAAAOF9QGZmZmZmXX9AZmZmZuZsgECamZmZGSuBQM3MzMxM6YFAAAAAAICngkAzMzMzs2WDQGZmZmbmI4RAmpmZmRnihEDNzMzMTKCFQAAAAACAXoZAMzMzM7Mch0BmZmZm5tqHQJqZmZkZmYhAzczMzExXiUAAAAAAgBWKQDMzMzOz04pAZmZmZuaRi0CamZmZGVCMQM3MzMxMDo1AAAAAAIDMjUAzMzMzs4qOQGZmZmbmSI9A\",\"dtype\":\"float64\",\"shape\":[75]}},\"selected\":{\"id\":\"03791486-4919-410f-894c-9583f9d71aa6\",\"type\":\"Selection\"},\"selection_policy\":{\"id\":\"e3e291aa-8c3b-4819-8823-74a4007a357d\",\"type\":\"UnionRenderers\"}},\"id\":\"5ae5c58f-3fa5-480a-bf93-41ee786d4433\",\"type\":\"ColumnDataSource\"},{\"attributes\":{\"line_alpha\":0.1,\"line_color\":\"#1f77b4\",\"line_dash\":[6],\"line_width\":5,\"x\":{\"field\":\"x\"},\"y\":{\"field\":\"y\"}},\"id\":\"37aa619c-ff1b-40c6-b124-ed61719cafa9\",\"type\":\"Line\"},{\"attributes\":{\"callback\":null,\"data\":{\"x\":{\"__ndarray__\":\"hzmVUYuWYr8SW/DUMoFiv5IaBu8MU2K/gC9CxtUgYr+t8ZfrdO1hv3e7ww4ouWG/wkc77AmEYb/5gOywY05hvyAHjtROF2G/6J1dklDgYL8fNV0Ad6hgv4Nsgxlmb2C/4UndXmo1YL+x29CdM+xfvwpOd/l6YF6/38UpYceyWb/Z5G1/x6RRv5f2MyLHkz2/Zx7IHs4ENT9uayhJoMdUPxM5i/pHz2M/YFRUceoZbz+f3LvxKr50P3FdcawkHXU/71Qt2v3ZcD8E6qCVM9BnP9sGNKjkgl0/kdYm74NrSz8Ogu/Xecn4PpWlwwk6I0a/GIvKeQuTVb9z+WvHT0lfv4Z/5CCgt2O/k3n7YlwZZ7/hieVGNGlqv7hEobKQqm2/X46dPqIMcL+27F37Ottwv24Wpf8CjHG/PD+ormz9cb/3/D+2xMRxv/XVtmHL5HC/yxcNAKmSb7+XbHSCwSttvxmp12uKoGq/jfVqTyv2Z7+I6lB+8DBlvyoWewyvVGK/K58ZkDrLXr8Pg59O985Yv2yh2Mh9xFK/4TxIlcxwSb/gjjRIF8k6vwsAh/QoTAa/oHN0H+gsNT+C10ul5ZVGP23LQ1B8T1E/U/ONU/FZVz+RyWWAZGpdP9CxRjBjwGE/mVxOQlfNZD/XFDIa7NtnP6N8CobP62o/1l7SPCr8bT/BzV6NHoVwPzYXE60pCHI/iyteEACBcz9rBhC0feV0P/A3BhdFLHY/boycy+1Tdz+vv7SGHGR4P+L4i6RXZnk/CMCH6Bphej88+YmGsld7P9r1z+6wS3w/\",\"dtype\":\"float64\",\"shape\":[75]},\"y\":{\"__ndarray__\":\"GhExyth1ND/Sv8nbtpRIP2vylNV0PVE/aTum7souWD/At0SJ8fVgPw3Iuahxymc/MSNhhJWvcD/bTfBN02d3P2zb5nxnaoA/CD5h5MAGhz8NmeH1TyaQP+zrCsc9p5Y/LbKd76fGnz/bLW5ISEmmPww9YvTcQq8/JV2OstnstT8Er5Y7M8G+P0c+r3jqkcU/5h99k6ZBzj88bCIzFzjVP4enV8oyxN0//yH99nXg5D8qOpLLf0jtP5kqGJXUifQ/c9cS8kHP/D+/DpwzojQEQIEmwoanVwxA4lgXt9HgE0BSSZ2AJuIbQAMJih9jjiNA5q4l5INuK0AwTKYKRj0zQNv5fmq8/DpAaCJseHrtQkB/+zpwzoxKQM3MzMzMeFJAZmZmZmZqWEAAAAAAAFxeQM3MzMzMJmJAmpmZmZkfZUBmZmZmZhhoQDMzMzMzEWtAAAAAAAAKbkBmZmZmZoFwQM3MzMzM/XFAMzMzMzN6c0CamZmZmfZ0QAAAAAAAc3ZAZmZmZmbvd0DNzMzMzGt5QDMzMzMz6HpAmpmZmZlkfEAAAAAAAOF9QGZmZmZmXX9AZmZmZuZsgECamZmZGSuBQM3MzMxM6YFAAAAAAICngkAzMzMzs2WDQGZmZmbmI4RAmpmZmRnihEDNzMzMTKCFQAAAAACAXoZAMzMzM7Mch0BmZmZm5tqHQJqZmZkZmYhAzczMzExXiUAAAAAAgBWKQDMzMzOz04pAZmZmZuaRi0CamZmZGVCMQM3MzMxMDo1AAAAAAIDMjUAzMzMzs4qOQGZmZmbmSI9A\",\"dtype\":\"float64\",\"shape\":[75]}},\"selected\":{\"id\":\"37c70e0a-0618-4cee-b03d-4ea58843362d\",\"type\":\"Selection\"},\"selection_policy\":{\"id\":\"c8ef38fa-f09b-42ef-85e3-8104bf0c0692\",\"type\":\"UnionRenderers\"}},\"id\":\"904a195e-7ad4-4cba-aebb-8bcb7d93d8c4\",\"type\":\"ColumnDataSource\"},{\"attributes\":{\"data_source\":{\"id\":\"5ae5c58f-3fa5-480a-bf93-41ee786d4433\",\"type\":\"ColumnDataSource\"},\"glyph\":{\"id\":\"40002e9f-f99b-4373-ad39-ce09c42533e7\",\"type\":\"Circle\"},\"hover_glyph\":null,\"muted_glyph\":null,\"nonselection_glyph\":{\"id\":\"da158cc5-4ce8-4f0c-ae99-acaa29b658cc\",\"type\":\"Circle\"},\"selection_glyph\":null,\"view\":{\"id\":\"9e9f7034-63cd-4acb-b9ce-57a0a39ee520\",\"type\":\"CDSView\"}},\"id\":\"8bfeacf0-2805-4870-821c-27c9d0a8cb56\",\"type\":\"GlyphRenderer\"},{\"attributes\":{\"line_alpha\":0.1,\"line_color\":\"#1f77b4\",\"line_width\":1.5,\"x\":{\"field\":\"x\"},\"y\":{\"field\":\"y\"}},\"id\":\"67e76331-3d4a-47c8-b18b-78a19d0fdeff\",\"type\":\"Line\"},{\"attributes\":{\"children\":[{\"id\":\"e11ac663-b039-43db-8d4f-97edb36d0eb1\",\"type\":\"ToolbarBox\"},{\"id\":\"ee3a4b94-bc1a-4a0f-8533-f43371fe455d\",\"type\":\"Column\"}]},\"id\":\"fa663cc2-daf2-4ebe-88ea-1c07f15a951d\",\"type\":\"Column\"},{\"attributes\":{\"data_source\":{\"id\":\"e1c0f6b1-9e93-4cbf-b779-4372d0c43267\",\"type\":\"ColumnDataSource\"},\"glyph\":{\"id\":\"f18047dc-bbad-4ef0-9e5a-0ce60c3f1d30\",\"type\":\"Line\"},\"hover_glyph\":null,\"muted_glyph\":null,\"nonselection_glyph\":{\"id\":\"d83e7a38-ea30-49f8-ae8b-5971fa408fcf\",\"type\":\"Line\"},\"selection_glyph\":null,\"view\":{\"id\":\"7f027c9d-9bb4-40b8-8c05-ebe1f3dbf592\",\"type\":\"CDSView\"}},\"id\":\"f926e9de-6768-45fc-95df-ef38ec44b9e2\",\"type\":\"GlyphRenderer\"},{\"attributes\":{\"line_alpha\":0.6,\"line_color\":\"#984ea3\",\"line_width\":3,\"x\":{\"field\":\"x\"},\"y\":{\"field\":\"y\"}},\"id\":\"14853c14-ef87-438a-8ead-031ceca40d43\",\"type\":\"Line\"},{\"attributes\":{\"data_source\":{\"id\":\"904a195e-7ad4-4cba-aebb-8bcb7d93d8c4\",\"type\":\"ColumnDataSource\"},\"glyph\":{\"id\":\"a8097f9f-1dbd-4d5c-963b-edfdfdce37ee\",\"type\":\"Line\"},\"hover_glyph\":null,\"muted_glyph\":null,\"nonselection_glyph\":{\"id\":\"67e76331-3d4a-47c8-b18b-78a19d0fdeff\",\"type\":\"Line\"},\"selection_glyph\":null,\"view\":{\"id\":\"3f2f03b5-7ac6-45c4-8537-8b14c518b60e\",\"type\":\"CDSView\"}},\"id\":\"b842a52b-fcff-4cd1-be8f-456ace13e9c0\",\"type\":\"GlyphRenderer\"},{\"attributes\":{},\"id\":\"466c881a-d073-4306-bc24-e21762106c71\",\"type\":\"LinearScale\"},{\"attributes\":{\"source\":{\"id\":\"904a195e-7ad4-4cba-aebb-8bcb7d93d8c4\",\"type\":\"ColumnDataSource\"}},\"id\":\"3f2f03b5-7ac6-45c4-8537-8b14c518b60e\",\"type\":\"CDSView\"},{\"attributes\":{\"source\":{\"id\":\"5ae5c58f-3fa5-480a-bf93-41ee786d4433\",\"type\":\"ColumnDataSource\"}},\"id\":\"9e9f7034-63cd-4acb-b9ce-57a0a39ee520\",\"type\":\"CDSView\"},{\"attributes\":{\"fill_alpha\":{\"value\":0.7},\"fill_color\":{\"value\":\"#984ea3\"},\"line_alpha\":{\"value\":0.7},\"line_color\":{\"value\":\"#984ea3\"},\"x\":{\"field\":\"x\"},\"y\":{\"field\":\"y\"}},\"id\":\"b601a884-19d1-4c60-9f37-9981ccd1bb57\",\"type\":\"Square\"},{\"attributes\":{\"children\":[{\"id\":\"137444a0-5106-46f2-82a1-dad72f6d8837\",\"type\":\"Row\"}]},\"id\":\"ee3a4b94-bc1a-4a0f-8533-f43371fe455d\",\"type\":\"Column\"},{\"attributes\":{\"fill_alpha\":{\"value\":0.1},\"fill_color\":{\"value\":\"#1f77b4\"},\"line_alpha\":{\"value\":0.1},\"line_color\":{\"value\":\"#1f77b4\"},\"x\":{\"field\":\"x\"},\"y\":{\"field\":\"y\"}},\"id\":\"d474ad98-f593-4373-a780-989a2ea0b944\",\"type\":\"Square\"},{\"attributes\":{\"overlay\":{\"id\":\"1ceeedef-8435-4a62-989d-b5e057fc5898\",\"type\":\"BoxAnnotation\"}},\"id\":\"6152acbe-06c8-4578-bbe7-39968bbe06a0\",\"type\":\"BoxZoomTool\"},{\"attributes\":{\"line_alpha\":0.1,\"line_color\":\"#1f77b4\",\"line_width\":3,\"x\":{\"field\":\"x\"},\"y\":{\"field\":\"y\"}},\"id\":\"b6f96416-de50-44f5-9e6e-7d9289332417\",\"type\":\"Line\"},{\"attributes\":{\"plot\":null,\"text\":\"Log pressure scale\"},\"id\":\"3ca1ca39-b568-4ee3-a515-e221e0378153\",\"type\":\"Title\"},{\"attributes\":{\"source\":{\"id\":\"42e384ed-1a85-467c-b8b7-a0430b91966c\",\"type\":\"ColumnDataSource\"}},\"id\":\"0ddea2ef-7da5-4ed4-801d-94e84ad9cf89\",\"type\":\"CDSView\"},{\"attributes\":{\"children\":[{\"id\":\"a9a6510e-a7ae-470a-8a46-9d5a6e2b7fe0\",\"subtype\":\"Figure\",\"type\":\"Plot\"},{\"id\":\"4dcb83d2-5c2f-4563-983c-11beda9f6c42\",\"subtype\":\"Figure\",\"type\":\"Plot\"}]},\"id\":\"137444a0-5106-46f2-82a1-dad72f6d8837\",\"type\":\"Row\"},{\"attributes\":{\"below\":[{\"id\":\"394e147f-c73f-4c74-82e5-e4ee7dbf310f\",\"type\":\"LinearAxis\"}],\"left\":[{\"id\":\"9cce4a71-72f3-42c8-877b-7edd2dbd02fa\",\"type\":\"LogAxis\"}],\"plot_height\":500,\"plot_width\":560,\"renderers\":[{\"id\":\"394e147f-c73f-4c74-82e5-e4ee7dbf310f\",\"type\":\"LinearAxis\"},{\"id\":\"5c9e776a-378e-4dad-bd36-05b70dd1a67b\",\"type\":\"Grid\"},{\"id\":\"9cce4a71-72f3-42c8-877b-7edd2dbd02fa\",\"type\":\"LogAxis\"},{\"id\":\"febfc5ac-f2f1-416c-ab5b-de1db413ff9b\",\"type\":\"Grid\"},{\"id\":\"45372b0e-8680-4d84-9393-fd1f3a42925a\",\"type\":\"BoxAnnotation\"},{\"id\":\"b41940ae-be1c-47d2-8eec-32d9eefa74f5\",\"type\":\"GlyphRenderer\"},{\"id\":\"8c1c7a02-5cdf-4a05-ad3c-15a76c58ed54\",\"type\":\"GlyphRenderer\"},{\"id\":\"b842a52b-fcff-4cd1-be8f-456ace13e9c0\",\"type\":\"GlyphRenderer\"},{\"id\":\"4a045c3f-3730-4961-80ef-870f63ba8fd8\",\"type\":\"GlyphRenderer\"},{\"id\":\"8751601a-8c59-4034-b2c2-c1b7d579508c\",\"type\":\"GlyphRenderer\"},{\"id\":\"4d4a085b-6dc7-4c69-bddd-71adfdfcb401\",\"type\":\"Legend\"}],\"right\":[{\"id\":\"4d4a085b-6dc7-4c69-bddd-71adfdfcb401\",\"type\":\"Legend\"}],\"title\":{\"id\":\"3ca1ca39-b568-4ee3-a515-e221e0378153\",\"type\":\"Title\"},\"toolbar\":{\"id\":\"d4f6b036-b964-491f-9179-aaa0f3291629\",\"type\":\"Toolbar\"},\"toolbar_location\":null,\"x_range\":{\"id\":\"8ea0c2d0-06a5-4aa4-bf26-8aa3cc95f8f4\",\"type\":\"Range1d\"},\"x_scale\":{\"id\":\"e49a4fe2-fc92-4a05-8f2c-27ac3d948bdb\",\"type\":\"LinearScale\"},\"y_range\":{\"id\":\"8b61e758-885e-4557-8809-3334694b4321\",\"type\":\"Range1d\"},\"y_scale\":{\"id\":\"fd57b83e-c6e6-411b-ac14-2e500db35ea8\",\"type\":\"LogScale\"}},\"id\":\"4dcb83d2-5c2f-4563-983c-11beda9f6c42\",\"subtype\":\"Figure\",\"type\":\"Plot\"},{\"attributes\":{\"data_source\":{\"id\":\"626375f1-77b8-4203-8cb1-aac70c5af784\",\"type\":\"ColumnDataSource\"},\"glyph\":{\"id\":\"c3ab5229-2c96-4fae-8475-cceb427bd5b4\",\"type\":\"Square\"},\"hover_glyph\":null,\"muted_glyph\":null,\"nonselection_glyph\":{\"id\":\"d474ad98-f593-4373-a780-989a2ea0b944\",\"type\":\"Square\"},\"selection_glyph\":null,\"view\":{\"id\":\"3ffa981a-c1f8-442a-82e8-bb33f75c02c0\",\"type\":\"CDSView\"}},\"id\":\"ccbb6941-9dd1-46ef-9ee3-34df0e46b07b\",\"type\":\"GlyphRenderer\"},{\"attributes\":{},\"id\":\"8933ef79-37e3-4880-b1ef-315d5d77eee4\",\"type\":\"UnionRenderers\"},{\"attributes\":{\"source\":{\"id\":\"626375f1-77b8-4203-8cb1-aac70c5af784\",\"type\":\"ColumnDataSource\"}},\"id\":\"3ffa981a-c1f8-442a-82e8-bb33f75c02c0\",\"type\":\"CDSView\"},{\"attributes\":{\"label\":{\"value\":\"CLIRAD `coolr_bands`\"},\"renderers\":[{\"id\":\"b41940ae-be1c-47d2-8eec-32d9eefa74f5\",\"type\":\"GlyphRenderer\"}]},\"id\":\"86f5a041-e5b2-47b6-badf-3731d2752d9d\",\"type\":\"LegendItem\"},{\"attributes\":{},\"id\":\"706ee967-23a8-45fd-91e2-53bf4a763769\",\"type\":\"Selection\"},{\"attributes\":{},\"id\":\"1d1bda55-7394-444c-918b-238d32250945\",\"type\":\"ResetTool\"},{\"attributes\":{\"fill_alpha\":{\"value\":0.7},\"fill_color\":{\"value\":\"#984ea3\"},\"line_alpha\":{\"value\":0.7},\"line_color\":{\"value\":\"#984ea3\"},\"x\":{\"field\":\"x\"},\"y\":{\"field\":\"y\"}},\"id\":\"c3ab5229-2c96-4fae-8475-cceb427bd5b4\",\"type\":\"Square\"},{\"attributes\":{\"label\":{\"value\":\"CRD\"},\"renderers\":[{\"id\":\"8c1c7a02-5cdf-4a05-ad3c-15a76c58ed54\",\"type\":\"GlyphRenderer\"},{\"id\":\"b842a52b-fcff-4cd1-be8f-456ace13e9c0\",\"type\":\"GlyphRenderer\"}]},\"id\":\"8f289635-5557-429d-8ea1-2477870bd953\",\"type\":\"LegendItem\"},{\"attributes\":{\"dimension\":1,\"plot\":{\"id\":\"4dcb83d2-5c2f-4563-983c-11beda9f6c42\",\"subtype\":\"Figure\",\"type\":\"Plot\"},\"ticker\":{\"id\":\"8576eb46-b8ef-49ef-a742-b048c4af7046\",\"type\":\"LogTicker\"}},\"id\":\"febfc5ac-f2f1-416c-ab5b-de1db413ff9b\",\"type\":\"Grid\"},{\"attributes\":{\"fill_alpha\":{\"value\":0.1},\"fill_color\":{\"value\":\"#1f77b4\"},\"line_alpha\":{\"value\":0.1},\"line_color\":{\"value\":\"#1f77b4\"},\"x\":{\"field\":\"x\"},\"y\":{\"field\":\"y\"}},\"id\":\"da158cc5-4ce8-4f0c-ae99-acaa29b658cc\",\"type\":\"Circle\"},{\"attributes\":{},\"id\":\"e3e291aa-8c3b-4819-8823-74a4007a357d\",\"type\":\"UnionRenderers\"},{\"attributes\":{},\"id\":\"74b8aa23-f2b7-4d33-a8fe-9ea06a664fab\",\"type\":\"PanTool\"},{\"attributes\":{\"label\":{\"value\":\"WGT igg=10 wgt_flux=2\"},\"renderers\":[{\"id\":\"4a045c3f-3730-4961-80ef-870f63ba8fd8\",\"type\":\"GlyphRenderer\"},{\"id\":\"8751601a-8c59-4034-b2c2-c1b7d579508c\",\"type\":\"GlyphRenderer\"}]},\"id\":\"1850d1e2-68c4-4194-a30a-3d2616043f0c\",\"type\":\"LegendItem\"},{\"attributes\":{\"source\":{\"id\":\"6be62faf-501b-4b3a-bb5f-dd5b4c6f5ac8\",\"type\":\"ColumnDataSource\"}},\"id\":\"4ab10db5-12fc-4627-bad2-cc02531b0371\",\"type\":\"CDSView\"},{\"attributes\":{\"num_minor_ticks\":10},\"id\":\"8576eb46-b8ef-49ef-a742-b048c4af7046\",\"type\":\"LogTicker\"},{\"attributes\":{},\"id\":\"0e0614ac-a1e2-458a-a264-a03e39d54f96\",\"type\":\"UnionRenderers\"},{\"attributes\":{},\"id\":\"406846d6-067f-4f58-bfb7-6adc55293cb1\",\"type\":\"WheelZoomTool\"},{\"attributes\":{},\"id\":\"adfda787-dc8f-4cab-a26e-5b7a639bd30e\",\"type\":\"BasicTickFormatter\"},{\"attributes\":{\"callback\":null,\"end\":0.01,\"start\":1020},\"id\":\"bb568aa6-e96b-43ea-abbd-4c4283496702\",\"type\":\"Range1d\"},{\"attributes\":{\"items\":[{\"id\":\"86f5a041-e5b2-47b6-badf-3731d2752d9d\",\"type\":\"LegendItem\"},{\"id\":\"8f289635-5557-429d-8ea1-2477870bd953\",\"type\":\"LegendItem\"},{\"id\":\"1850d1e2-68c4-4194-a30a-3d2616043f0c\",\"type\":\"LegendItem\"}],\"label_text_font_size\":{\"value\":\"8pt\"},\"location\":[10,-30],\"plot\":{\"id\":\"4dcb83d2-5c2f-4563-983c-11beda9f6c42\",\"subtype\":\"Figure\",\"type\":\"Plot\"}},\"id\":\"4d4a085b-6dc7-4c69-bddd-71adfdfcb401\",\"type\":\"Legend\"},{\"attributes\":{},\"id\":\"67252dbe-a314-484b-a52e-6695795a22ce\",\"type\":\"BasicTickFormatter\"},{\"attributes\":{},\"id\":\"29d1d172-94a4-466c-a917-65e705557e7f\",\"type\":\"PanTool\"},{\"attributes\":{\"ticker\":null},\"id\":\"dd5a8cb7-4ea9-42f2-acd0-1fb86521d9a8\",\"type\":\"LogTickFormatter\"},{\"attributes\":{\"data_source\":{\"id\":\"4f328e1b-02ce-4f77-9d93-d0760ba47495\",\"type\":\"ColumnDataSource\"},\"glyph\":{\"id\":\"14853c14-ef87-438a-8ead-031ceca40d43\",\"type\":\"Line\"},\"hover_glyph\":null,\"muted_glyph\":null,\"nonselection_glyph\":{\"id\":\"3e81cdea-3867-4910-9e70-b6107beb8fbf\",\"type\":\"Line\"},\"selection_glyph\":null,\"view\":{\"id\":\"be615720-523c-49d5-9e8d-e1e81e181dd7\",\"type\":\"CDSView\"}},\"id\":\"d764c0ba-16d9-49c9-a264-2242ed75b55e\",\"type\":\"GlyphRenderer\"},{\"attributes\":{},\"id\":\"04fa86e7-a149-4428-a8c4-dda0d9a8cf21\",\"type\":\"BasicTicker\"},{\"attributes\":{},\"id\":\"03791486-4919-410f-894c-9583f9d71aa6\",\"type\":\"Selection\"},{\"attributes\":{},\"id\":\"159d95dc-31df-4a8c-b44e-850de835567f\",\"type\":\"Selection\"},{\"attributes\":{\"active_drag\":\"auto\",\"active_inspect\":\"auto\",\"active_scroll\":\"auto\",\"active_tap\":\"auto\",\"tools\":[{\"id\":\"74b8aa23-f2b7-4d33-a8fe-9ea06a664fab\",\"type\":\"PanTool\"},{\"id\":\"c58ac0ce-867e-4e03-91ab-8a4370cd7e6c\",\"type\":\"WheelZoomTool\"},{\"id\":\"45287911-ccfb-4f5d-bcce-b3edf6313ba0\",\"type\":\"BoxZoomTool\"},{\"id\":\"a5f3923b-4839-409f-809b-f89306837f94\",\"type\":\"SaveTool\"},{\"id\":\"1f3afa5e-fb84-46b3-8dc0-e1e25f68eeb8\",\"type\":\"ResetTool\"},{\"id\":\"793ab471-ed31-4ba5-9c3c-f58e5a846317\",\"type\":\"HelpTool\"}]},\"id\":\"d4f6b036-b964-491f-9179-aaa0f3291629\",\"type\":\"Toolbar\"},{\"attributes\":{},\"id\":\"e140dba5-ac87-451e-a15c-0f502c7daeda\",\"type\":\"Selection\"},{\"attributes\":{\"data_source\":{\"id\":\"6be62faf-501b-4b3a-bb5f-dd5b4c6f5ac8\",\"type\":\"ColumnDataSource\"},\"glyph\":{\"id\":\"eff8dd47-a155-43ad-ad13-77ff45bc291e\",\"type\":\"Line\"},\"hover_glyph\":null,\"muted_glyph\":null,\"nonselection_glyph\":{\"id\":\"f53e3034-55dd-44d4-8928-c99dc66a7970\",\"type\":\"Line\"},\"selection_glyph\":null,\"view\":{\"id\":\"4ab10db5-12fc-4627-bad2-cc02531b0371\",\"type\":\"CDSView\"}},\"id\":\"c99372e6-1c08-4c68-9011-2f5af046f35b\",\"type\":\"GlyphRenderer\"},{\"attributes\":{\"plot\":{\"id\":\"4dcb83d2-5c2f-4563-983c-11beda9f6c42\",\"subtype\":\"Figure\",\"type\":\"Plot\"},\"ticker\":{\"id\":\"f0fcb9b0-887e-40b8-8249-231c62135bb8\",\"type\":\"BasicTicker\"}},\"id\":\"5c9e776a-378e-4dad-bd36-05b70dd1a67b\",\"type\":\"Grid\"},{\"attributes\":{\"callback\":null,\"data\":{\"x\":{\"__ndarray__\":\"d58HIR4VcL/51oz3H+xvv3oCrBB5BHC/xKIXbm/pb79+IgssksNvv6bfqXNRnG+/5LTcH4x0b7/Uiu+DbEtvv5UMY3+XIW+/lrk69QH3br8VAXzerspuv1JwBjV7nW6/VVLBBl9vbr/ntY0TYzhuvzQAqN4ymW2/08x+0L/Ma7/7uJbGuK1ov3lQC0g0pmS/1JbMBpg/X7+zxxk4GNlSv2pMAzDB2y2/k3hDxLXSTD8zhVvx3idfPwMZMZfDU2A/g1ZrX4NwUz9Tt/TSAwEwP8LZmZfYVkS/0ArGqHaEVr/5Yrv4bG9gvzR7oYNc0GS/mNcQq2auaL9QI+gJdgVsv1ngS6O5dW6/98ZTQRMJcL+aqjq25a1wv9Y3eyJyM3G/dUaJFk9vcb+yHwOkP3Vxvw/+90AoeHG/0zLP2ypZcb/N9wxXOcNwv9QnCeYAam+/vMMcLsEDbb850+byvYNqv383CDOg8Ge/K2opCr9OZb+bNmdt6KBivyAiQfI/0l+/NTduxuxSWr/J4WVfWMtUv2tmlMPzhk6/koeOeweLQ79pZaqh7FIxv5gUeo5m1BA/VA2/FUuXOT9IBnhLZHFHP/ypgKKKB1E/FPR9ys9TVj+GWjp7M55bP34uIX5BdGA/88rnsJEYYz+ttrCgiLtlP7vYrisKXWg/2WFz5kP9aj/XyXn8Z5htP5gGX0cFFnA/1jbpYPtVcT+JoT1kb4VyP5UpuDEcnHM/Jga3rDiZdD/Fx1Z42IJ1P/K9JZKGYHY/w0FJ4FI3dz+IFxCO3Al4P3rsXNFc2Xg/\",\"dtype\":\"float64\",\"shape\":[75]},\"y\":{\"__ndarray__\":\"S/O/Q+51ND/Sv8nbtpRIP2vylNV0PVE/aTum7souWD/At0SJ8fVgPw3Iuahxymc/MSNhhJWvcD/bTfBN02d3P2zb5nxnaoA/CD5h5MAGhz8NmeH1TyaQP+zrCsc9p5Y/LbKd76fGnz/bLW5ISEmmPww9YvTcQq8/JV2OstnstT8Er5Y7M8G+P0c+r3jqkcU/5h99k6ZBzj88bCIzFzjVP4enV8oyxN0//yH99nXg5D8qOpLLf0jtP5kqGJXUifQ/c9cS8kHP/D+/DpwzojQEQIEmwoanVwxA4lgXt9HgE0BSSZ2AJuIbQAMJih9jjiNA5q4l5INuK0AwTKYKRj0zQNv5fmq8/DpAaCJseHrtQkB/+zpwzoxKQM3MzMzMeFJAZmZmZmZqWEAAAAAAAFxeQM3MzMzMJmJAmpmZmZkfZUBmZmZmZhhoQDMzMzMzEWtAAAAAAAAKbkBmZmZmZoFwQM3MzMzM/XFAMzMzMzN6c0CamZmZmfZ0QAAAAAAAc3ZAZmZmZmbvd0DNzMzMzGt5QDMzMzMz6HpAmpmZmZlkfEAAAAAAAOF9QGZmZmZmXX9AZmZmZuZsgECamZmZGSuBQM3MzMxM6YFAAAAAAICngkAzMzMzs2WDQGZmZmbmI4RAmpmZmRnihEDNzMzMTKCFQAAAAACAXoZAMzMzM7Mch0BmZmZm5tqHQJqZmZkZmYhAzczMzExXiUAAAAAAgBWKQDMzMzOz04pAZmZmZuaRi0CamZmZGVCMQM3MzMxMDo1AAAAAAIDMjUAzMzMzs4qOQGZmZmbmSI9A\",\"dtype\":\"float64\",\"shape\":[75]}},\"selected\":{\"id\":\"706ee967-23a8-45fd-91e2-53bf4a763769\",\"type\":\"Selection\"},\"selection_policy\":{\"id\":\"8933ef79-37e3-4880-b1ef-315d5d77eee4\",\"type\":\"UnionRenderers\"}},\"id\":\"e1c0f6b1-9e93-4cbf-b779-4372d0c43267\",\"type\":\"ColumnDataSource\"},{\"attributes\":{},\"id\":\"3413d132-e772-49c1-8e29-dd57be2bca23\",\"type\":\"Selection\"},{\"attributes\":{},\"id\":\"9e75a6a8-0d5c-4554-87bd-520510458f35\",\"type\":\"Selection\"},{\"attributes\":{\"callback\":null,\"end\":0.005256193948999999,\"start\":-0.005091466249},\"id\":\"8ea0c2d0-06a5-4aa4-bf26-8aa3cc95f8f4\",\"type\":\"Range1d\"},{\"attributes\":{},\"id\":\"5749aa4d-bd13-4805-8279-d6f8f671df94\",\"type\":\"UnionRenderers\"},{\"attributes\":{},\"id\":\"fd57b83e-c6e6-411b-ac14-2e500db35ea8\",\"type\":\"LogScale\"},{\"attributes\":{\"line_color\":\"#4daf4a\",\"line_width\":1.5,\"x\":{\"field\":\"x\"},\"y\":{\"field\":\"y\"}},\"id\":\"eff8dd47-a155-43ad-ad13-77ff45bc291e\",\"type\":\"Line\"},{\"attributes\":{},\"id\":\"00fdc128-27da-4ce5-81ba-84875503ec7d\",\"type\":\"UnionRenderers\"},{\"attributes\":{},\"id\":\"e49a4fe2-fc92-4a05-8f2c-27ac3d948bdb\",\"type\":\"LinearScale\"},{\"attributes\":{},\"id\":\"3e758195-cb33-4099-8109-68612ab1f870\",\"type\":\"UnionRenderers\"},{\"attributes\":{\"axis_label\":\"cooling rate [K/day]\",\"formatter\":{\"id\":\"4639fb59-5cee-4874-9de5-f620e0d5fb34\",\"type\":\"BasicTickFormatter\"},\"plot\":{\"id\":\"4dcb83d2-5c2f-4563-983c-11beda9f6c42\",\"subtype\":\"Figure\",\"type\":\"Plot\"},\"ticker\":{\"id\":\"f0fcb9b0-887e-40b8-8249-231c62135bb8\",\"type\":\"BasicTicker\"}},\"id\":\"394e147f-c73f-4c74-82e5-e4ee7dbf310f\",\"type\":\"LinearAxis\"},{\"attributes\":{},\"id\":\"faa194d1-bf89-43a6-8b43-5474628ac799\",\"type\":\"BasicTicker\"},{\"attributes\":{\"source\":{\"id\":\"4f328e1b-02ce-4f77-9d93-d0760ba47495\",\"type\":\"ColumnDataSource\"}},\"id\":\"be615720-523c-49d5-9e8d-e1e81e181dd7\",\"type\":\"CDSView\"},{\"attributes\":{},\"id\":\"4639fb59-5cee-4874-9de5-f620e0d5fb34\",\"type\":\"BasicTickFormatter\"},{\"attributes\":{},\"id\":\"db84e651-763b-42fd-a69d-8fcdfca97605\",\"type\":\"SaveTool\"},{\"attributes\":{},\"id\":\"f0fcb9b0-887e-40b8-8249-231c62135bb8\",\"type\":\"BasicTicker\"},{\"attributes\":{},\"id\":\"91ef567d-23c1-411e-8233-a15134e6f8fd\",\"type\":\"UnionRenderers\"},{\"attributes\":{},\"id\":\"37c70e0a-0618-4cee-b03d-4ea58843362d\",\"type\":\"Selection\"},{\"attributes\":{\"axis_label\":\"pressure [mb]\",\"formatter\":{\"id\":\"67252dbe-a314-484b-a52e-6695795a22ce\",\"type\":\"BasicTickFormatter\"},\"plot\":{\"id\":\"a9a6510e-a7ae-470a-8a46-9d5a6e2b7fe0\",\"subtype\":\"Figure\",\"type\":\"Plot\"},\"ticker\":{\"id\":\"faa194d1-bf89-43a6-8b43-5474628ac799\",\"type\":\"BasicTicker\"}},\"id\":\"bba00987-5272-4e28-ada7-cb76aba8cf14\",\"type\":\"LinearAxis\"},{\"attributes\":{\"line_alpha\":0.6,\"line_color\":\"#984ea3\",\"line_width\":3,\"x\":{\"field\":\"x\"},\"y\":{\"field\":\"y\"}},\"id\":\"c5c6fc45-1a15-44e1-ba69-e7ecb67c4c04\",\"type\":\"Line\"},{\"attributes\":{},\"id\":\"7830c253-b656-457f-934f-ca8b6bca466f\",\"type\":\"Selection\"},{\"attributes\":{},\"id\":\"9a60ba15-9f3c-4ca8-a6e7-f33c18d3401b\",\"type\":\"LinearScale\"},{\"attributes\":{\"line_alpha\":0.1,\"line_color\":\"#1f77b4\",\"line_width\":3,\"x\":{\"field\":\"x\"},\"y\":{\"field\":\"y\"}},\"id\":\"3e81cdea-3867-4910-9e70-b6107beb8fbf\",\"type\":\"Line\"},{\"attributes\":{},\"id\":\"c8ef38fa-f09b-42ef-85e3-8104bf0c0692\",\"type\":\"UnionRenderers\"},{\"attributes\":{\"dimension\":1,\"plot\":{\"id\":\"a9a6510e-a7ae-470a-8a46-9d5a6e2b7fe0\",\"subtype\":\"Figure\",\"type\":\"Plot\"},\"ticker\":{\"id\":\"faa194d1-bf89-43a6-8b43-5474628ac799\",\"type\":\"BasicTicker\"}},\"id\":\"ef50922d-ac25-4415-b013-351cd34b6c4d\",\"type\":\"Grid\"},{\"attributes\":{\"callback\":null,\"data\":{\"x\":{\"__ndarray__\":\"uocTvzqzcr/VKbiklqlyv+jMiNa7lHK/axAwuyp+cr/87qneEmdyv1FaUsp4T3K/QzKmmVw3cr/j7XH4vh5yv4d8Z2KgBXK/N9gJIwXscb8e0P+W89Fxv8ocrRxxt3G/rZvUTIWccb8CwF6NZn9xv5IZuwIiJHG/OBz2eKoOcL8mZOCzh1Nsv12oGzAYeGe/8W4zvU5vYb9mw/WDFQJUv4XoPlpwLR6/YmcnFyzbUz9rUuOE1vpjP3JbZHyN3WQ/wnsWnY/fWT8h2Nsqd5c9P8amZR+XF0O/qW8beaBWWL8xsD/m0lpiv/KtG/Bqkme/bZQTOwM0bL80NZFhqhxwv+TuX5jNlXG/idICXmSOcr9BIZNwR1Zzv/1pF9pP+3O/CL+IinVJdL8xm0oH7m50v9hLGOtpcHS/Ok2Tz3NPdL/TomD8K6Fzvw1Z7TqMa3K/dhYtX58Jcb+yGUD1mBNvv90ND1LRB2y/hk5oRoHtaL8SLp5hdeJlv3v+7LLcrGK/NDJTUA3YXr/Zm02EY09Yv8Kww+ETzlG/XERJsSFBR7/z+QW1bW80v1+SEdRx4RM/PbkKXbQfPj+4blHbXTFLP5yN3G3z01M/FDgdbQoXWj+p6i8FtSlgPzMF0zajQmM//u8oT4k9Zj9N5WFfumJpP7//xLzWe2w/WGfPOcWQbz8iqvKxwkNxPxKJ5X7ex3I/1l0DGJtBdD/qP2t+/KV1P0JBFlLY5nY/WCE3lPkGeD8ZzZbgVxt5P7LHucXrHno/88eNSsUZez8BXGYbswF8P0QxTDkl+Hw/\",\"dtype\":\"float64\",\"shape\":[75]},\"y\":{\"__ndarray__\":\"GhExyth1ND/Sv8nbtpRIP2vylNV0PVE/aTum7souWD/At0SJ8fVgPw3Iuahxymc/MSNhhJWvcD/bTfBN02d3P2zb5nxnaoA/CD5h5MAGhz8NmeH1TyaQP+zrCsc9p5Y/LbKd76fGnz/bLW5ISEmmPww9YvTcQq8/JV2OstnstT8Er5Y7M8G+P0c+r3jqkcU/5h99k6ZBzj88bCIzFzjVP4enV8oyxN0//yH99nXg5D8qOpLLf0jtP5kqGJXUifQ/c9cS8kHP/D+/DpwzojQEQIEmwoanVwxA4lgXt9HgE0BSSZ2AJuIbQAMJih9jjiNA5q4l5INuK0AwTKYKRj0zQNv5fmq8/DpAaCJseHrtQkB/+zpwzoxKQM3MzMzMeFJAZmZmZmZqWEAAAAAAAFxeQM3MzMzMJmJAmpmZmZkfZUBmZmZmZhhoQDMzMzMzEWtAAAAAAAAKbkBmZmZmZoFwQM3MzMzM/XFAMzMzMzN6c0CamZmZmfZ0QAAAAAAAc3ZAZmZmZmbvd0DNzMzMzGt5QDMzMzMz6HpAmpmZmZlkfEAAAAAAAOF9QGZmZmZmXX9AZmZmZuZsgECamZmZGSuBQM3MzMxM6YFAAAAAAICngkAzMzMzs2WDQGZmZmbmI4RAmpmZmRnihEDNzMzMTKCFQAAAAACAXoZAMzMzM7Mch0BmZmZm5tqHQJqZmZkZmYhAzczMzExXiUAAAAAAgBWKQDMzMzOz04pAZmZmZuaRi0CamZmZGVCMQM3MzMxMDo1AAAAAAIDMjUAzMzMzs4qOQGZmZmbmSI9A\",\"dtype\":\"float64\",\"shape\":[75]}},\"selected\":{\"id\":\"3413d132-e772-49c1-8e29-dd57be2bca23\",\"type\":\"Selection\"},\"selection_policy\":{\"id\":\"3e758195-cb33-4099-8109-68612ab1f870\",\"type\":\"UnionRenderers\"}},\"id\":\"4f328e1b-02ce-4f77-9d93-d0760ba47495\",\"type\":\"ColumnDataSource\"},{\"attributes\":{},\"id\":\"0fb30009-044a-41f6-ad07-b2ed154c90c3\",\"type\":\"Selection\"},{\"attributes\":{\"below\":[{\"id\":\"a1bbd3cc-cb35-47d4-916f-972c834fce47\",\"type\":\"LinearAxis\"}],\"left\":[{\"id\":\"bba00987-5272-4e28-ada7-cb76aba8cf14\",\"type\":\"LinearAxis\"}],\"plot_height\":500,\"plot_width\":400,\"renderers\":[{\"id\":\"a1bbd3cc-cb35-47d4-916f-972c834fce47\",\"type\":\"LinearAxis\"},{\"id\":\"4c81422b-5f8a-4b4b-b342-1c4f6381db90\",\"type\":\"Grid\"},{\"id\":\"bba00987-5272-4e28-ada7-cb76aba8cf14\",\"type\":\"LinearAxis\"},{\"id\":\"ef50922d-ac25-4415-b013-351cd34b6c4d\",\"type\":\"Grid\"},{\"id\":\"1ceeedef-8435-4a62-989d-b5e057fc5898\",\"type\":\"BoxAnnotation\"},{\"id\":\"f926e9de-6768-45fc-95df-ef38ec44b9e2\",\"type\":\"GlyphRenderer\"},{\"id\":\"8bfeacf0-2805-4870-821c-27c9d0a8cb56\",\"type\":\"GlyphRenderer\"},{\"id\":\"c99372e6-1c08-4c68-9011-2f5af046f35b\",\"type\":\"GlyphRenderer\"},{\"id\":\"ccbb6941-9dd1-46ef-9ee3-34df0e46b07b\",\"type\":\"GlyphRenderer\"},{\"id\":\"d764c0ba-16d9-49c9-a264-2242ed75b55e\",\"type\":\"GlyphRenderer\"}],\"title\":{\"id\":\"6d214969-7663-470c-aa0c-d924f2109a32\",\"type\":\"Title\"},\"toolbar\":{\"id\":\"37c3cad1-79a5-4d3d-9067-c879d838a9d2\",\"type\":\"Toolbar\"},\"toolbar_location\":null,\"x_range\":{\"id\":\"a9319213-26d4-4229-b937-ee11e22bde28\",\"type\":\"Range1d\"},\"x_scale\":{\"id\":\"9a60ba15-9f3c-4ca8-a6e7-f33c18d3401b\",\"type\":\"LinearScale\"},\"y_range\":{\"id\":\"bb568aa6-e96b-43ea-abbd-4c4283496702\",\"type\":\"Range1d\"},\"y_scale\":{\"id\":\"466c881a-d073-4306-bc24-e21762106c71\",\"type\":\"LinearScale\"}},\"id\":\"a9a6510e-a7ae-470a-8a46-9d5a6e2b7fe0\",\"subtype\":\"Figure\",\"type\":\"Plot\"},{\"attributes\":{},\"id\":\"81d2f244-26c1-40cb-8ef2-4222203a6428\",\"type\":\"Selection\"},{\"attributes\":{\"toolbar\":{\"id\":\"c4e55769-ea68-4acd-8b6a-5562fa186f72\",\"type\":\"ProxyToolbar\"},\"toolbar_location\":\"above\"},\"id\":\"e11ac663-b039-43db-8d4f-97edb36d0eb1\",\"type\":\"ToolbarBox\"},{\"attributes\":{\"callback\":null,\"data\":{\"x\":{\"__ndarray__\":\"d58HIR4VcL/51oz3H+xvv3oCrBB5BHC/xKIXbm/pb79+IgssksNvv6bfqXNRnG+/5LTcH4x0b7/Uiu+DbEtvv5UMY3+XIW+/lrk69QH3br8VAXzerspuv1JwBjV7nW6/VVLBBl9vbr/ntY0TYzhuvzQAqN4ymW2/08x+0L/Ma7/7uJbGuK1ov3lQC0g0pmS/1JbMBpg/X7+zxxk4GNlSv2pMAzDB2y2/k3hDxLXSTD8zhVvx3idfPwMZMZfDU2A/g1ZrX4NwUz9Tt/TSAwEwP8LZmZfYVkS/0ArGqHaEVr/5Yrv4bG9gvzR7oYNc0GS/mNcQq2auaL9QI+gJdgVsv1ngS6O5dW6/98ZTQRMJcL+aqjq25a1wv9Y3eyJyM3G/dUaJFk9vcb+yHwOkP3Vxvw/+90AoeHG/0zLP2ypZcb/N9wxXOcNwv9QnCeYAam+/vMMcLsEDbb850+byvYNqv383CDOg8Ge/K2opCr9OZb+bNmdt6KBivyAiQfI/0l+/NTduxuxSWr/J4WVfWMtUv2tmlMPzhk6/koeOeweLQ79pZaqh7FIxv5gUeo5m1BA/VA2/FUuXOT9IBnhLZHFHP/ypgKKKB1E/FPR9ys9TVj+GWjp7M55bP34uIX5BdGA/88rnsJEYYz+ttrCgiLtlP7vYrisKXWg/2WFz5kP9aj/XyXn8Z5htP5gGX0cFFnA/1jbpYPtVcT+JoT1kb4VyP5UpuDEcnHM/Jga3rDiZdD/Fx1Z42IJ1P/K9JZKGYHY/w0FJ4FI3dz+IFxCO3Al4P3rsXNFc2Xg/\",\"dtype\":\"float64\",\"shape\":[75]},\"y\":{\"__ndarray__\":\"S/O/Q+51ND/Sv8nbtpRIP2vylNV0PVE/aTum7souWD/At0SJ8fVgPw3Iuahxymc/MSNhhJWvcD/bTfBN02d3P2zb5nxnaoA/CD5h5MAGhz8NmeH1TyaQP+zrCsc9p5Y/LbKd76fGnz/bLW5ISEmmPww9YvTcQq8/JV2OstnstT8Er5Y7M8G+P0c+r3jqkcU/5h99k6ZBzj88bCIzFzjVP4enV8oyxN0//yH99nXg5D8qOpLLf0jtP5kqGJXUifQ/c9cS8kHP/D+/DpwzojQEQIEmwoanVwxA4lgXt9HgE0BSSZ2AJuIbQAMJih9jjiNA5q4l5INuK0AwTKYKRj0zQNv5fmq8/DpAaCJseHrtQkB/+zpwzoxKQM3MzMzMeFJAZmZmZmZqWEAAAAAAAFxeQM3MzMzMJmJAmpmZmZkfZUBmZmZmZhhoQDMzMzMzEWtAAAAAAAAKbkBmZmZmZoFwQM3MzMzM/XFAMzMzMzN6c0CamZmZmfZ0QAAAAAAAc3ZAZmZmZmbvd0DNzMzMzGt5QDMzMzMz6HpAmpmZmZlkfEAAAAAAAOF9QGZmZmZmXX9AZmZmZuZsgECamZmZGSuBQM3MzMxM6YFAAAAAAICngkAzMzMzs2WDQGZmZmbmI4RAmpmZmRnihEDNzMzMTKCFQAAAAACAXoZAMzMzM7Mch0BmZmZm5tqHQJqZmZkZmYhAzczMzExXiUAAAAAAgBWKQDMzMzOz04pAZmZmZuaRi0CamZmZGVCMQM3MzMxMDo1AAAAAAIDMjUAzMzMzs4qOQGZmZmbmSI9A\",\"dtype\":\"float64\",\"shape\":[75]}},\"selected\":{\"id\":\"7830c253-b656-457f-934f-ca8b6bca466f\",\"type\":\"Selection\"},\"selection_policy\":{\"id\":\"91ef567d-23c1-411e-8233-a15134e6f8fd\",\"type\":\"UnionRenderers\"}},\"id\":\"01a0c0e1-9098-497e-8491-5e337e14aaef\",\"type\":\"ColumnDataSource\"},{\"attributes\":{},\"id\":\"bfba8993-1ead-401c-8c1f-128088373eec\",\"type\":\"UnionRenderers\"},{\"attributes\":{\"bottom_units\":\"screen\",\"fill_alpha\":{\"value\":0.5},\"fill_color\":{\"value\":\"lightgrey\"},\"left_units\":\"screen\",\"level\":\"overlay\",\"line_alpha\":{\"value\":1.0},\"line_color\":{\"value\":\"black\"},\"line_dash\":[4,4],\"line_width\":{\"value\":2},\"plot\":null,\"render_mode\":\"css\",\"right_units\":\"screen\",\"top_units\":\"screen\"},\"id\":\"45372b0e-8680-4d84-9393-fd1f3a42925a\",\"type\":\"BoxAnnotation\"},{\"attributes\":{\"line_alpha\":0.1,\"line_color\":\"#1f77b4\",\"line_dash\":[6],\"line_width\":5,\"x\":{\"field\":\"x\"},\"y\":{\"field\":\"y\"}},\"id\":\"d83e7a38-ea30-49f8-ae8b-5971fa408fcf\",\"type\":\"Line\"},{\"attributes\":{\"callback\":null,\"data\":{\"x\":{\"__ndarray__\":\"uocTvzqzcr/VKbiklqlyv+jMiNa7lHK/axAwuyp+cr/87qneEmdyv1FaUsp4T3K/QzKmmVw3cr/j7XH4vh5yv4d8Z2KgBXK/N9gJIwXscb8e0P+W89Fxv8ocrRxxt3G/rZvUTIWccb8CwF6NZn9xv5IZuwIiJHG/OBz2eKoOcL8mZOCzh1Nsv12oGzAYeGe/8W4zvU5vYb9mw/WDFQJUv4XoPlpwLR6/YmcnFyzbUz9rUuOE1vpjP3JbZHyN3WQ/wnsWnY/fWT8h2Nsqd5c9P8amZR+XF0O/qW8beaBWWL8xsD/m0lpiv/KtG/Bqkme/bZQTOwM0bL80NZFhqhxwv+TuX5jNlXG/idICXmSOcr9BIZNwR1Zzv/1pF9pP+3O/CL+IinVJdL8xm0oH7m50v9hLGOtpcHS/Ok2Tz3NPdL/TomD8K6Fzvw1Z7TqMa3K/dhYtX58Jcb+yGUD1mBNvv90ND1LRB2y/hk5oRoHtaL8SLp5hdeJlv3v+7LLcrGK/NDJTUA3YXr/Zm02EY09Yv8Kww+ETzlG/XERJsSFBR7/z+QW1bW80v1+SEdRx4RM/PbkKXbQfPj+4blHbXTFLP5yN3G3z01M/FDgdbQoXWj+p6i8FtSlgPzMF0zajQmM//u8oT4k9Zj9N5WFfumJpP7//xLzWe2w/WGfPOcWQbz8iqvKxwkNxPxKJ5X7ex3I/1l0DGJtBdD/qP2t+/KV1P0JBFlLY5nY/WCE3lPkGeD8ZzZbgVxt5P7LHucXrHno/88eNSsUZez8BXGYbswF8P0QxTDkl+Hw/\",\"dtype\":\"float64\",\"shape\":[75]},\"y\":{\"__ndarray__\":\"GhExyth1ND/Sv8nbtpRIP2vylNV0PVE/aTum7souWD/At0SJ8fVgPw3Iuahxymc/MSNhhJWvcD/bTfBN02d3P2zb5nxnaoA/CD5h5MAGhz8NmeH1TyaQP+zrCsc9p5Y/LbKd76fGnz/bLW5ISEmmPww9YvTcQq8/JV2OstnstT8Er5Y7M8G+P0c+r3jqkcU/5h99k6ZBzj88bCIzFzjVP4enV8oyxN0//yH99nXg5D8qOpLLf0jtP5kqGJXUifQ/c9cS8kHP/D+/DpwzojQEQIEmwoanVwxA4lgXt9HgE0BSSZ2AJuIbQAMJih9jjiNA5q4l5INuK0AwTKYKRj0zQNv5fmq8/DpAaCJseHrtQkB/+zpwzoxKQM3MzMzMeFJAZmZmZmZqWEAAAAAAAFxeQM3MzMzMJmJAmpmZmZkfZUBmZmZmZhhoQDMzMzMzEWtAAAAAAAAKbkBmZmZmZoFwQM3MzMzM/XFAMzMzMzN6c0CamZmZmfZ0QAAAAAAAc3ZAZmZmZmbvd0DNzMzMzGt5QDMzMzMz6HpAmpmZmZlkfEAAAAAAAOF9QGZmZmZmXX9AZmZmZuZsgECamZmZGSuBQM3MzMxM6YFAAAAAAICngkAzMzMzs2WDQGZmZmbmI4RAmpmZmRnihEDNzMzMTKCFQAAAAACAXoZAMzMzM7Mch0BmZmZm5tqHQJqZmZkZmYhAzczMzExXiUAAAAAAgBWKQDMzMzOz04pAZmZmZuaRi0CamZmZGVCMQM3MzMxMDo1AAAAAAIDMjUAzMzMzs4qOQGZmZmbmSI9A\",\"dtype\":\"float64\",\"shape\":[75]}},\"selected\":{\"id\":\"81d2f244-26c1-40cb-8ef2-4222203a6428\",\"type\":\"Selection\"},\"selection_policy\":{\"id\":\"9a845fb4-ff0a-4c44-b2ca-f7a57f8990b4\",\"type\":\"UnionRenderers\"}},\"id\":\"42e384ed-1a85-467c-b8b7-a0430b91966c\",\"type\":\"ColumnDataSource\"},{\"attributes\":{},\"id\":\"9a845fb4-ff0a-4c44-b2ca-f7a57f8990b4\",\"type\":\"UnionRenderers\"},{\"attributes\":{\"axis_label\":\"pressure [mb]\",\"formatter\":{\"id\":\"dd5a8cb7-4ea9-42f2-acd0-1fb86521d9a8\",\"type\":\"LogTickFormatter\"},\"plot\":{\"id\":\"4dcb83d2-5c2f-4563-983c-11beda9f6c42\",\"subtype\":\"Figure\",\"type\":\"Plot\"},\"ticker\":{\"id\":\"8576eb46-b8ef-49ef-a742-b048c4af7046\",\"type\":\"LogTicker\"}},\"id\":\"9cce4a71-72f3-42c8-877b-7edd2dbd02fa\",\"type\":\"LogAxis\"},{\"attributes\":{\"tools\":[{\"id\":\"29d1d172-94a4-466c-a917-65e705557e7f\",\"type\":\"PanTool\"},{\"id\":\"406846d6-067f-4f58-bfb7-6adc55293cb1\",\"type\":\"WheelZoomTool\"},{\"id\":\"6152acbe-06c8-4578-bbe7-39968bbe06a0\",\"type\":\"BoxZoomTool\"},{\"id\":\"db84e651-763b-42fd-a69d-8fcdfca97605\",\"type\":\"SaveTool\"},{\"id\":\"1d1bda55-7394-444c-918b-238d32250945\",\"type\":\"ResetTool\"},{\"id\":\"be71fbbe-825e-43f5-ae0a-e3ee2845ae54\",\"type\":\"HelpTool\"},{\"id\":\"74b8aa23-f2b7-4d33-a8fe-9ea06a664fab\",\"type\":\"PanTool\"},{\"id\":\"c58ac0ce-867e-4e03-91ab-8a4370cd7e6c\",\"type\":\"WheelZoomTool\"},{\"id\":\"45287911-ccfb-4f5d-bcce-b3edf6313ba0\",\"type\":\"BoxZoomTool\"},{\"id\":\"a5f3923b-4839-409f-809b-f89306837f94\",\"type\":\"SaveTool\"},{\"id\":\"1f3afa5e-fb84-46b3-8dc0-e1e25f68eeb8\",\"type\":\"ResetTool\"},{\"id\":\"793ab471-ed31-4ba5-9c3c-f58e5a846317\",\"type\":\"HelpTool\"}]},\"id\":\"c4e55769-ea68-4acd-8b6a-5562fa186f72\",\"type\":\"ProxyToolbar\"},{\"attributes\":{\"source\":{\"id\":\"e1c0f6b1-9e93-4cbf-b779-4372d0c43267\",\"type\":\"ColumnDataSource\"}},\"id\":\"7f027c9d-9bb4-40b8-8c05-ebe1f3dbf592\",\"type\":\"CDSView\"},{\"attributes\":{},\"id\":\"be71fbbe-825e-43f5-ae0a-e3ee2845ae54\",\"type\":\"HelpTool\"},{\"attributes\":{\"bottom_units\":\"screen\",\"fill_alpha\":{\"value\":0.5},\"fill_color\":{\"value\":\"lightgrey\"},\"left_units\":\"screen\",\"level\":\"overlay\",\"line_alpha\":{\"value\":1.0},\"line_color\":{\"value\":\"black\"},\"line_dash\":[4,4],\"line_width\":{\"value\":2},\"plot\":null,\"render_mode\":\"css\",\"right_units\":\"screen\",\"top_units\":\"screen\"},\"id\":\"1ceeedef-8435-4a62-989d-b5e057fc5898\",\"type\":\"BoxAnnotation\"},{\"attributes\":{\"line_alpha\":0.6,\"line_color\":\"#e41a1c\",\"line_dash\":[6],\"line_width\":5,\"x\":{\"field\":\"x\"},\"y\":{\"field\":\"y\"}},\"id\":\"f18047dc-bbad-4ef0-9e5a-0ce60c3f1d30\",\"type\":\"Line\"}],\"root_ids\":[\"fa663cc2-daf2-4ebe-88ea-1c07f15a951d\"]},\"title\":\"Bokeh Application\",\"version\":\"0.12.16\"}};\n",
       "  var render_items = [{\"docid\":\"6b81bcad-18f4-4c89-af8f-4f07c3f1913b\",\"elementid\":\"a5eed057-c416-42ab-8b35-0ea2d43bd9cc\",\"modelid\":\"fa663cc2-daf2-4ebe-88ea-1c07f15a951d\"}];\n",
       "  root.Bokeh.embed.embed_items_notebook(docs_json, render_items);\n",
       "\n",
       "  }\n",
       "  if (root.Bokeh !== undefined) {\n",
       "    embed_document(root);\n",
       "  } else {\n",
       "    var attempts = 0;\n",
       "    var timer = setInterval(function(root) {\n",
       "      if (root.Bokeh !== undefined) {\n",
       "        embed_document(root);\n",
       "        clearInterval(timer);\n",
       "      }\n",
       "      attempts++;\n",
       "      if (attempts > 100) {\n",
       "        console.log(\"Bokeh: ERROR: Unable to run BokehJS code because BokehJS library is missing\")\n",
       "        clearInterval(timer);\n",
       "      }\n",
       "    }, 10, root)\n",
       "  }\n",
       "})(window);"
      ],
      "application/vnd.bokehjs_exec.v0+json": ""
     },
     "metadata": {
      "application/vnd.bokehjs_exec.v0+json": {
       "id": "fa663cc2-daf2-4ebe-88ea-1c07f15a951d"
      }
     },
     "output_type": "display_data"
    },
    {
     "name": "stdout",
     "output_type": "stream",
     "text": [
      "FIGURE. Cooling rate profiles.\n"
     ]
    },
    {
     "data": {
      "text/html": [
       "<a id=\"Flux_Comparison\"></a>"
      ],
      "text/plain": [
       "<IPython.core.display.HTML object>"
      ]
     },
     "metadata": {},
     "output_type": "display_data"
    },
    {
     "data": {
      "text/markdown": [
       "# Flux Comparison"
      ],
      "text/plain": [
       "<IPython.core.display.Markdown object>"
      ]
     },
     "metadata": {},
     "output_type": "display_data"
    },
    {
     "data": {
      "text/html": [
       "<div>\n",
       "<style scoped>\n",
       "    .dataframe tbody tr th:only-of-type {\n",
       "        vertical-align: middle;\n",
       "    }\n",
       "\n",
       "    .dataframe tbody tr th {\n",
       "        vertical-align: top;\n",
       "    }\n",
       "\n",
       "    .dataframe thead th {\n",
       "        text-align: right;\n",
       "    }\n",
       "</style>\n",
       "<table border=\"1\" class=\"dataframe\">\n",
       "  <thead>\n",
       "    <tr style=\"text-align: right;\">\n",
       "      <th></th>\n",
       "      <th></th>\n",
       "      <th>flug</th>\n",
       "      <th>fldg</th>\n",
       "      <th>fnetg</th>\n",
       "    </tr>\n",
       "    <tr>\n",
       "      <th>pressure</th>\n",
       "      <th>level</th>\n",
       "      <th></th>\n",
       "      <th></th>\n",
       "      <th></th>\n",
       "    </tr>\n",
       "  </thead>\n",
       "  <tbody>\n",
       "    <tr>\n",
       "      <th>0.0000</th>\n",
       "      <th>1</th>\n",
       "      <td>-22.904459</td>\n",
       "      <td>0.000000</td>\n",
       "      <td>-22.904459</td>\n",
       "    </tr>\n",
       "    <tr>\n",
       "      <th>1.0685</th>\n",
       "      <th>24</th>\n",
       "      <td>-22.904560</td>\n",
       "      <td>0.000418</td>\n",
       "      <td>-22.904143</td>\n",
       "    </tr>\n",
       "    <tr>\n",
       "      <th>1013.0000</th>\n",
       "      <th>76</th>\n",
       "      <td>-23.269660</td>\n",
       "      <td>0.430908</td>\n",
       "      <td>-22.838751</td>\n",
       "    </tr>\n",
       "  </tbody>\n",
       "</table>\n",
       "</div>"
      ],
      "text/plain": [
       "                      flug      fldg      fnetg\n",
       "pressure  level                                \n",
       "0.0000    1     -22.904459  0.000000 -22.904459\n",
       "1.0685    24    -22.904560  0.000418 -22.904143\n",
       "1013.0000 76    -23.269660  0.430908 -22.838751"
      ]
     },
     "metadata": {},
     "output_type": "display_data"
    },
    {
     "name": "stdout",
     "output_type": "stream",
     "text": [
      "Table. Fluxes. CRD\n"
     ]
    },
    {
     "data": {
      "text/html": [
       "<div>\n",
       "<style scoped>\n",
       "    .dataframe tbody tr th:only-of-type {\n",
       "        vertical-align: middle;\n",
       "    }\n",
       "\n",
       "    .dataframe tbody tr th {\n",
       "        vertical-align: top;\n",
       "    }\n",
       "\n",
       "    .dataframe thead th {\n",
       "        text-align: right;\n",
       "    }\n",
       "</style>\n",
       "<table border=\"1\" class=\"dataframe\">\n",
       "  <thead>\n",
       "    <tr style=\"text-align: right;\">\n",
       "      <th></th>\n",
       "      <th></th>\n",
       "      <th>flug</th>\n",
       "      <th>fldg</th>\n",
       "      <th>fnetg</th>\n",
       "    </tr>\n",
       "    <tr>\n",
       "      <th>pressure</th>\n",
       "      <th>level</th>\n",
       "      <th></th>\n",
       "      <th></th>\n",
       "      <th></th>\n",
       "    </tr>\n",
       "  </thead>\n",
       "  <tbody>\n",
       "    <tr>\n",
       "      <th>0.0000</th>\n",
       "      <th>1</th>\n",
       "      <td>-22.869032</td>\n",
       "      <td>0.000000</td>\n",
       "      <td>-22.869032</td>\n",
       "    </tr>\n",
       "    <tr>\n",
       "      <th>1.0685</th>\n",
       "      <th>24</th>\n",
       "      <td>-22.869437</td>\n",
       "      <td>0.000401</td>\n",
       "      <td>-22.869036</td>\n",
       "    </tr>\n",
       "    <tr>\n",
       "      <th>1013.0000</th>\n",
       "      <th>76</th>\n",
       "      <td>-23.269660</td>\n",
       "      <td>0.446500</td>\n",
       "      <td>-22.823160</td>\n",
       "    </tr>\n",
       "  </tbody>\n",
       "</table>\n",
       "</div>"
      ],
      "text/plain": [
       "                      flug      fldg      fnetg\n",
       "pressure  level                                \n",
       "0.0000    1     -22.869032  0.000000 -22.869032\n",
       "1.0685    24    -22.869437  0.000401 -22.869036\n",
       "1013.0000 76    -23.269660  0.446500 -22.823160"
      ]
     },
     "metadata": {},
     "output_type": "display_data"
    },
    {
     "name": "stdout",
     "output_type": "stream",
     "text": [
      "Table. Fluxes. WGT igg=10 wgt_flux=1\n"
     ]
    },
    {
     "data": {
      "text/html": [
       "<div>\n",
       "<style scoped>\n",
       "    .dataframe tbody tr th:only-of-type {\n",
       "        vertical-align: middle;\n",
       "    }\n",
       "\n",
       "    .dataframe tbody tr th {\n",
       "        vertical-align: top;\n",
       "    }\n",
       "\n",
       "    .dataframe thead th {\n",
       "        text-align: right;\n",
       "    }\n",
       "</style>\n",
       "<table border=\"1\" class=\"dataframe\">\n",
       "  <thead>\n",
       "    <tr style=\"text-align: right;\">\n",
       "      <th></th>\n",
       "      <th></th>\n",
       "      <th>flug</th>\n",
       "      <th>fldg</th>\n",
       "      <th>fnetg</th>\n",
       "    </tr>\n",
       "    <tr>\n",
       "      <th>pressure</th>\n",
       "      <th>level</th>\n",
       "      <th></th>\n",
       "      <th></th>\n",
       "      <th></th>\n",
       "    </tr>\n",
       "  </thead>\n",
       "  <tbody>\n",
       "    <tr>\n",
       "      <th>1.000000e-08</th>\n",
       "      <th>1</th>\n",
       "      <td>-22.929422</td>\n",
       "      <td>-9.686912e-08</td>\n",
       "      <td>-22.929422</td>\n",
       "    </tr>\n",
       "    <tr>\n",
       "      <th>1.068500e+00</th>\n",
       "      <th>24</th>\n",
       "      <td>-22.929776</td>\n",
       "      <td>3.349143e-04</td>\n",
       "      <td>-22.929441</td>\n",
       "    </tr>\n",
       "    <tr>\n",
       "      <th>1.013000e+03</th>\n",
       "      <th>76</th>\n",
       "      <td>-23.269660</td>\n",
       "      <td>3.795174e-01</td>\n",
       "      <td>-22.890143</td>\n",
       "    </tr>\n",
       "  </tbody>\n",
       "</table>\n",
       "</div>"
      ],
      "text/plain": [
       "                         flug          fldg      fnetg\n",
       "pressure     level                                    \n",
       "1.000000e-08 1     -22.929422 -9.686912e-08 -22.929422\n",
       "1.068500e+00 24    -22.929776  3.349143e-04 -22.929441\n",
       "1.013000e+03 76    -23.269660  3.795174e-01 -22.890143"
      ]
     },
     "metadata": {},
     "output_type": "display_data"
    },
    {
     "name": "stdout",
     "output_type": "stream",
     "text": [
      "Table. Fluxes. CLIRAD\n"
     ]
    },
    {
     "data": {
      "text/html": [
       "<div>\n",
       "<style scoped>\n",
       "    .dataframe tbody tr th:only-of-type {\n",
       "        vertical-align: middle;\n",
       "    }\n",
       "\n",
       "    .dataframe tbody tr th {\n",
       "        vertical-align: top;\n",
       "    }\n",
       "\n",
       "    .dataframe thead th {\n",
       "        text-align: right;\n",
       "    }\n",
       "</style>\n",
       "<table border=\"1\" class=\"dataframe\">\n",
       "  <thead>\n",
       "    <tr style=\"text-align: right;\">\n",
       "      <th></th>\n",
       "      <th></th>\n",
       "      <th>flug</th>\n",
       "      <th>fldg</th>\n",
       "      <th>fnetg</th>\n",
       "    </tr>\n",
       "    <tr>\n",
       "      <th>pressure</th>\n",
       "      <th>level</th>\n",
       "      <th></th>\n",
       "      <th></th>\n",
       "      <th></th>\n",
       "    </tr>\n",
       "  </thead>\n",
       "  <tbody>\n",
       "    <tr>\n",
       "      <th>0.0000</th>\n",
       "      <th>1</th>\n",
       "      <td>0.035427</td>\n",
       "      <td>0.000000</td>\n",
       "      <td>0.035427</td>\n",
       "    </tr>\n",
       "    <tr>\n",
       "      <th>1.0685</th>\n",
       "      <th>24</th>\n",
       "      <td>0.035123</td>\n",
       "      <td>-0.000016</td>\n",
       "      <td>0.035107</td>\n",
       "    </tr>\n",
       "    <tr>\n",
       "      <th>1013.0000</th>\n",
       "      <th>76</th>\n",
       "      <td>0.000000</td>\n",
       "      <td>0.015591</td>\n",
       "      <td>0.015591</td>\n",
       "    </tr>\n",
       "  </tbody>\n",
       "</table>\n",
       "</div>"
      ],
      "text/plain": [
       "                     flug      fldg     fnetg\n",
       "pressure  level                              \n",
       "0.0000    1      0.035427  0.000000  0.035427\n",
       "1.0685    24     0.035123 -0.000016  0.035107\n",
       "1013.0000 76     0.000000  0.015591  0.015591"
      ]
     },
     "metadata": {},
     "output_type": "display_data"
    },
    {
     "name": "stdout",
     "output_type": "stream",
     "text": [
      "Table. Fluxes. (WGT igg=10 wgt_flux=1) - (CRD)\n"
     ]
    },
    {
     "data": {
      "text/html": [
       "<div>\n",
       "<style scoped>\n",
       "    .dataframe tbody tr th:only-of-type {\n",
       "        vertical-align: middle;\n",
       "    }\n",
       "\n",
       "    .dataframe tbody tr th {\n",
       "        vertical-align: top;\n",
       "    }\n",
       "\n",
       "    .dataframe thead th {\n",
       "        text-align: right;\n",
       "    }\n",
       "</style>\n",
       "<table border=\"1\" class=\"dataframe\">\n",
       "  <thead>\n",
       "    <tr style=\"text-align: right;\">\n",
       "      <th></th>\n",
       "      <th></th>\n",
       "      <th>flug</th>\n",
       "      <th>fldg</th>\n",
       "      <th>fnetg</th>\n",
       "    </tr>\n",
       "    <tr>\n",
       "      <th>pressure</th>\n",
       "      <th>level</th>\n",
       "      <th></th>\n",
       "      <th></th>\n",
       "      <th></th>\n",
       "    </tr>\n",
       "  </thead>\n",
       "  <tbody>\n",
       "    <tr>\n",
       "      <th>0.0000</th>\n",
       "      <th>1</th>\n",
       "      <td>-0.024963</td>\n",
       "      <td>-9.686912e-08</td>\n",
       "      <td>-0.024963</td>\n",
       "    </tr>\n",
       "    <tr>\n",
       "      <th>1.0685</th>\n",
       "      <th>24</th>\n",
       "      <td>-0.025216</td>\n",
       "      <td>-8.260866e-05</td>\n",
       "      <td>-0.025298</td>\n",
       "    </tr>\n",
       "    <tr>\n",
       "      <th>1013.0000</th>\n",
       "      <th>76</th>\n",
       "      <td>0.000000</td>\n",
       "      <td>-5.139096e-02</td>\n",
       "      <td>-0.051392</td>\n",
       "    </tr>\n",
       "  </tbody>\n",
       "</table>\n",
       "</div>"
      ],
      "text/plain": [
       "                     flug          fldg     fnetg\n",
       "pressure  level                                  \n",
       "0.0000    1     -0.024963 -9.686912e-08 -0.024963\n",
       "1.0685    24    -0.025216 -8.260866e-05 -0.025298\n",
       "1013.0000 76     0.000000 -5.139096e-02 -0.051392"
      ]
     },
     "metadata": {},
     "output_type": "display_data"
    },
    {
     "name": "stdout",
     "output_type": "stream",
     "text": [
      "Table. Fluxes. (CLIRAD) - (CRD)\n"
     ]
    },
    {
     "data": {
      "text/html": [
       "<a id=\"Best-fit_Parameters\"></a>"
      ],
      "text/plain": [
       "<IPython.core.display.HTML object>"
      ]
     },
     "metadata": {},
     "output_type": "display_data"
    },
    {
     "data": {
      "text/markdown": [
       "# Best-fit Parameters"
      ],
      "text/plain": [
       "<IPython.core.display.Markdown object>"
      ]
     },
     "metadata": {},
     "output_type": "display_data"
    },
    {
     "name": "stdout",
     "output_type": "stream",
     "text": [
      "Best-fit values for each (gas, band)\n",
      "------------------------------------\n",
      "o n2o band6\n",
      "  atmpro = mls\n",
      "  band = 6\n",
      "  commitnumber = bca49ce\n",
      "  conc = 3.2e-07\n",
      "  dv = 0.005\n",
      "  klin = 0\n",
      "  molecule = n2o\n",
      "  ng_adju = [0]\n",
      "  ng_refs = [1]\n",
      "  nv = 200\n",
      "  option_compute_btable = 0\n",
      "  option_compute_ktable = 1\n",
      "  option_wgt_flux = 1\n",
      "  option_wgt_k = 1\n",
      "  ref_pts = [(500, 250)]\n",
      "  tsfc = 294\n",
      "  vmax = 1215\n",
      "  vmin = 1100\n",
      "  w_diffuse = [(1.66,)]\n",
      "  wgt = [(0.95,)]\n"
     ]
    }
   ],
   "source": [
    "script()"
   ]
  },
  {
   "cell_type": "code",
   "execution_count": 13,
   "metadata": {
    "collapsed": true
   },
   "outputs": [
    {
     "data": {
      "text/html": [
       "<script>\n",
       "code_show=true; \n",
       "function code_toggle() {\n",
       " if (code_show){\n",
       " $('div.input').hide();\n",
       " } else {\n",
       " $('div.input').show();\n",
       " }\n",
       " code_show = !code_show\n",
       "} \n",
       "$( document ).ready(code_toggle);\n",
       "</script>\n",
       "<form action=\"javascript:code_toggle()\"><input type=\"submit\" value=\"Click here to toggle on/off the raw code.\"></form>"
      ],
      "text/plain": [
       "<IPython.core.display.HTML object>"
      ]
     },
     "execution_count": 13,
     "metadata": {},
     "output_type": "execute_result"
    }
   ],
   "source": [
    "display.HTML('''<script>\n",
    "code_show=true; \n",
    "function code_toggle() {\n",
    " if (code_show){\n",
    " $('div.input').hide();\n",
    " } else {\n",
    " $('div.input').show();\n",
    " }\n",
    " code_show = !code_show\n",
    "} \n",
    "$( document ).ready(code_toggle);\n",
    "</script>\n",
    "<form action=\"javascript:code_toggle()\"><input type=\"submit\" value=\"Click here to toggle on/off the raw code.\"></form>''')"
   ]
  }
 ],
 "metadata": {
  "kernelspec": {
   "display_name": "Python 3",
   "language": "python",
   "name": "python3"
  },
  "language_info": {
   "codemirror_mode": {
    "name": "ipython",
    "version": 3
   },
   "file_extension": ".py",
   "mimetype": "text/x-python",
   "name": "python",
   "nbconvert_exporter": "python",
   "pygments_lexer": "ipython3",
   "version": "3.6.1"
  }
 },
 "nbformat": 4,
 "nbformat_minor": 2
}
