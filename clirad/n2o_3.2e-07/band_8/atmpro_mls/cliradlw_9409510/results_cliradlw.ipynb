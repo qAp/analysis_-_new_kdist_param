{
 "cells": [
  {
   "cell_type": "code",
   "execution_count": 1,
   "metadata": {
    "collapsed": true
   },
   "outputs": [],
   "source": [
    "%matplotlib inline\n",
    "import os\n",
    "import re\n",
    "import io\n",
    "import itertools\n",
    "import pprint\n",
    "\n",
    "from bokeh.io import output_notebook, show\n",
    "from bokeh.layouts import gridplot\n",
    "from bokeh.plotting import figure\n",
    "from bokeh.models import Range1d, Legend\n",
    "from bokeh.palettes import all_palettes\n",
    "\n",
    "import matplotlib\n",
    "import matplotlib.pyplot as plt\n",
    "import numpy as np\n",
    "import pandas as pd\n",
    "import xarray as xr\n",
    "\n",
    "import climatools.lblnew.bestfit_params as bestfits\n",
    "from climatools.lblnew import setup_bestfit, setup_overlap\n",
    "import climatools.lblnew.pipeline as pipe_lblnew\n",
    "import climatools.cliradlw.setup as setup_cliradlw\n",
    "import climatools.cliradlw.pipeline as pipe_cliradlw\n",
    "\n",
    "import climatools.html.html as climahtml\n",
    "from climatools.lblnew.dataio import *\n",
    "from climatools.plot.plot import *\n",
    "\n",
    "\n",
    "import IPython.display as display"
   ]
  },
  {
   "cell_type": "code",
   "execution_count": 2,
   "metadata": {
    "collapsed": true
   },
   "outputs": [],
   "source": [
    "%run param.py"
   ]
  },
  {
   "cell_type": "code",
   "execution_count": 3,
   "metadata": {
    "collapsed": true
   },
   "outputs": [],
   "source": [
    "def load_output_file(path_csv):\n",
    "    '''\n",
    "    Load lblnew output .csv file to xarray.Dataset\n",
    "    \n",
    "    Parameters\n",
    "    ----------\n",
    "    path_csv: str\n",
    "              Path to the .csv file to be loaded.\n",
    "    ds: xarray.Dataset\n",
    "        Data in the input file in the form of an xarray.Dataset.\n",
    "    '''\n",
    "    toindex = ['band', 'pressure', 'igg', 'g']    \n",
    "    df = pd.read_csv(path_csv, sep=r'\\s+')\n",
    "    df = df.set_index([i for i in toindex if i in df.columns])\n",
    "    df = df.rename(columns={'sfu': 'flug',\n",
    "                            'sfd': 'fldg',\n",
    "                            'fnet': 'fnetg',\n",
    "                            'coolr': 'coolrg'})\n",
    "    ds = xr.Dataset.from_dataframe(df)\n",
    "\n",
    "    for l in ('level', 'layer'):\n",
    "        if l in ds.data_vars:\n",
    "            if len(ds[l].dims) > 1:\n",
    "                surface = {d: 0 for d in ds.dims if d != 'pressure'}\n",
    "                coord_level = ds[l][surface]\n",
    "                ds.coords[l] = ('pressure', coord_level)\n",
    "            else:\n",
    "                ds.coords[l] = ('pressure', ds[l])\n",
    "    \n",
    "    return ds"
   ]
  },
  {
   "cell_type": "code",
   "execution_count": 4,
   "metadata": {
    "collapsed": true
   },
   "outputs": [],
   "source": [
    "def lblnew_setup(param=None):\n",
    "    if 'ng_refs' in param:\n",
    "        return {'setup': setup_bestfit,\n",
    "                'fname_flux_crd': 'output_flux.dat',\n",
    "                'fname_cool_crd': 'output_coolr.dat',\n",
    "                'fname_flux_wgt': 'output_wfluxg.dat',\n",
    "                'fname_cool_wgt': 'output_wcoolrg.dat'}\n",
    "    else:\n",
    "        return {'setup': setup_overlap,\n",
    "                'fname_flux_crd': 'output_flux.dat',\n",
    "                'fname_cool_crd': 'output_coolr.dat',\n",
    "                'fname_flux_wgt': 'output_wflux.dat',\n",
    "                'fname_cool_wgt': 'output_wcoolr.dat'}\n",
    "\n",
    "    \n",
    "def load_lblnew_data(param):\n",
    "    \n",
    "    fname_dsname = [('fname_flux_crd', 'ds_flux_crd'),\n",
    "                    ('fname_cool_crd', 'ds_cool_crd'),\n",
    "                    ('fname_flux_wgt', 'ds_flux_wgt'),\n",
    "                    ('fname_cool_wgt', 'ds_cool_wgt')]\n",
    "    \n",
    "    d = lblnew_setup(param)\n",
    "    dir_fortran = pipe_lblnew.get_dir_case(param, setup=d['setup'])\n",
    "    \n",
    "    data_dict = {}\n",
    "    for fname, dsname in fname_dsname:\n",
    "        fpath = os.path.join(dir_fortran, d[fname])\n",
    "        data_dict[dsname] = load_output_file(fpath)\n",
    "    return data_dict\n",
    "    \n",
    "\n",
    "    \n",
    "    "
   ]
  },
  {
   "cell_type": "code",
   "execution_count": 5,
   "metadata": {
    "collapsed": true
   },
   "outputs": [],
   "source": [
    "d = load_lblnew_data(PARAM_LBLNEW)\n",
    "\n",
    "DS_FLUX_CRD = d['ds_flux_crd']\n",
    "DS_COOL_CRD = d['ds_cool_crd']\n",
    "DS_FLUX_WGT = d['ds_flux_wgt']\n",
    "DS_COOL_WGT = d['ds_cool_wgt']"
   ]
  },
  {
   "cell_type": "code",
   "execution_count": 6,
   "metadata": {
    "collapsed": true
   },
   "outputs": [],
   "source": [
    "DIR_FORTRAN = pipe_cliradlw.get_fortran_dir(PARAM, \n",
    "                                            setup=setup_cliradlw)\n",
    "\n",
    "PATH_FLUX = os.path.join(DIR_FORTRAN, 'output_flux.dat')\n",
    "PATH_COOL = os.path.join(DIR_FORTRAN, 'output_coolr.dat')\n",
    "\n",
    "DS_FLUX = load_output_file(PATH_FLUX)\n",
    "DS_COOL = load_output_file(PATH_COOL)"
   ]
  },
  {
   "cell_type": "code",
   "execution_count": 7,
   "metadata": {
    "collapsed": true
   },
   "outputs": [
    {
     "data": {
      "text/html": [
       "\n",
       "    <div class=\"bk-root\">\n",
       "        <a href=\"https://bokeh.pydata.org\" target=\"_blank\" class=\"bk-logo bk-logo-small bk-logo-notebook\"></a>\n",
       "        <span id=\"430f2a02-373b-4264-b632-b8fbb824c94c\">Loading BokehJS ...</span>\n",
       "    </div>"
      ]
     },
     "metadata": {},
     "output_type": "display_data"
    },
    {
     "data": {
      "application/javascript": [
       "\n",
       "(function(root) {\n",
       "  function now() {\n",
       "    return new Date();\n",
       "  }\n",
       "\n",
       "  var force = true;\n",
       "\n",
       "  if (typeof (root._bokeh_onload_callbacks) === \"undefined\" || force === true) {\n",
       "    root._bokeh_onload_callbacks = [];\n",
       "    root._bokeh_is_loading = undefined;\n",
       "  }\n",
       "\n",
       "  var JS_MIME_TYPE = 'application/javascript';\n",
       "  var HTML_MIME_TYPE = 'text/html';\n",
       "  var EXEC_MIME_TYPE = 'application/vnd.bokehjs_exec.v0+json';\n",
       "  var CLASS_NAME = 'output_bokeh rendered_html';\n",
       "\n",
       "  /**\n",
       "   * Render data to the DOM node\n",
       "   */\n",
       "  function render(props, node) {\n",
       "    var script = document.createElement(\"script\");\n",
       "    node.appendChild(script);\n",
       "  }\n",
       "\n",
       "  /**\n",
       "   * Handle when an output is cleared or removed\n",
       "   */\n",
       "  function handleClearOutput(event, handle) {\n",
       "    var cell = handle.cell;\n",
       "\n",
       "    var id = cell.output_area._bokeh_element_id;\n",
       "    var server_id = cell.output_area._bokeh_server_id;\n",
       "    // Clean up Bokeh references\n",
       "    if (id !== undefined) {\n",
       "      Bokeh.index[id].model.document.clear();\n",
       "      delete Bokeh.index[id];\n",
       "    }\n",
       "\n",
       "    if (server_id !== undefined) {\n",
       "      // Clean up Bokeh references\n",
       "      var cmd = \"from bokeh.io.state import curstate; print(curstate().uuid_to_server['\" + server_id + \"'].get_sessions()[0].document.roots[0]._id)\";\n",
       "      cell.notebook.kernel.execute(cmd, {\n",
       "        iopub: {\n",
       "          output: function(msg) {\n",
       "            var element_id = msg.content.text.trim();\n",
       "            Bokeh.index[element_id].model.document.clear();\n",
       "            delete Bokeh.index[element_id];\n",
       "          }\n",
       "        }\n",
       "      });\n",
       "      // Destroy server and session\n",
       "      var cmd = \"import bokeh.io.notebook as ion; ion.destroy_server('\" + server_id + \"')\";\n",
       "      cell.notebook.kernel.execute(cmd);\n",
       "    }\n",
       "  }\n",
       "\n",
       "  /**\n",
       "   * Handle when a new output is added\n",
       "   */\n",
       "  function handleAddOutput(event, handle) {\n",
       "    var output_area = handle.output_area;\n",
       "    var output = handle.output;\n",
       "\n",
       "    // limit handleAddOutput to display_data with EXEC_MIME_TYPE content only\n",
       "    if ((output.output_type != \"display_data\") || (!output.data.hasOwnProperty(EXEC_MIME_TYPE))) {\n",
       "      return\n",
       "    }\n",
       "\n",
       "    var toinsert = output_area.element.find(\".\" + CLASS_NAME.split(' ')[0]);\n",
       "\n",
       "    if (output.metadata[EXEC_MIME_TYPE][\"id\"] !== undefined) {\n",
       "      toinsert[toinsert.length - 1].firstChild.textContent = output.data[JS_MIME_TYPE];\n",
       "      // store reference to embed id on output_area\n",
       "      output_area._bokeh_element_id = output.metadata[EXEC_MIME_TYPE][\"id\"];\n",
       "    }\n",
       "    if (output.metadata[EXEC_MIME_TYPE][\"server_id\"] !== undefined) {\n",
       "      var bk_div = document.createElement(\"div\");\n",
       "      bk_div.innerHTML = output.data[HTML_MIME_TYPE];\n",
       "      var script_attrs = bk_div.children[0].attributes;\n",
       "      for (var i = 0; i < script_attrs.length; i++) {\n",
       "        toinsert[toinsert.length - 1].firstChild.setAttribute(script_attrs[i].name, script_attrs[i].value);\n",
       "      }\n",
       "      // store reference to server id on output_area\n",
       "      output_area._bokeh_server_id = output.metadata[EXEC_MIME_TYPE][\"server_id\"];\n",
       "    }\n",
       "  }\n",
       "\n",
       "  function register_renderer(events, OutputArea) {\n",
       "\n",
       "    function append_mime(data, metadata, element) {\n",
       "      // create a DOM node to render to\n",
       "      var toinsert = this.create_output_subarea(\n",
       "        metadata,\n",
       "        CLASS_NAME,\n",
       "        EXEC_MIME_TYPE\n",
       "      );\n",
       "      this.keyboard_manager.register_events(toinsert);\n",
       "      // Render to node\n",
       "      var props = {data: data, metadata: metadata[EXEC_MIME_TYPE]};\n",
       "      render(props, toinsert[toinsert.length - 1]);\n",
       "      element.append(toinsert);\n",
       "      return toinsert\n",
       "    }\n",
       "\n",
       "    /* Handle when an output is cleared or removed */\n",
       "    events.on('clear_output.CodeCell', handleClearOutput);\n",
       "    events.on('delete.Cell', handleClearOutput);\n",
       "\n",
       "    /* Handle when a new output is added */\n",
       "    events.on('output_added.OutputArea', handleAddOutput);\n",
       "\n",
       "    /**\n",
       "     * Register the mime type and append_mime function with output_area\n",
       "     */\n",
       "    OutputArea.prototype.register_mime_type(EXEC_MIME_TYPE, append_mime, {\n",
       "      /* Is output safe? */\n",
       "      safe: true,\n",
       "      /* Index of renderer in `output_area.display_order` */\n",
       "      index: 0\n",
       "    });\n",
       "  }\n",
       "\n",
       "  // register the mime type if in Jupyter Notebook environment and previously unregistered\n",
       "  if (root.Jupyter !== undefined) {\n",
       "    var events = require('base/js/events');\n",
       "    var OutputArea = require('notebook/js/outputarea').OutputArea;\n",
       "\n",
       "    if (OutputArea.prototype.mime_types().indexOf(EXEC_MIME_TYPE) == -1) {\n",
       "      register_renderer(events, OutputArea);\n",
       "    }\n",
       "  }\n",
       "\n",
       "  \n",
       "  if (typeof (root._bokeh_timeout) === \"undefined\" || force === true) {\n",
       "    root._bokeh_timeout = Date.now() + 5000;\n",
       "    root._bokeh_failed_load = false;\n",
       "  }\n",
       "\n",
       "  var NB_LOAD_WARNING = {'data': {'text/html':\n",
       "     \"<div style='background-color: #fdd'>\\n\"+\n",
       "     \"<p>\\n\"+\n",
       "     \"BokehJS does not appear to have successfully loaded. If loading BokehJS from CDN, this \\n\"+\n",
       "     \"may be due to a slow or bad network connection. Possible fixes:\\n\"+\n",
       "     \"</p>\\n\"+\n",
       "     \"<ul>\\n\"+\n",
       "     \"<li>re-rerun `output_notebook()` to attempt to load from CDN again, or</li>\\n\"+\n",
       "     \"<li>use INLINE resources instead, as so:</li>\\n\"+\n",
       "     \"</ul>\\n\"+\n",
       "     \"<code>\\n\"+\n",
       "     \"from bokeh.resources import INLINE\\n\"+\n",
       "     \"output_notebook(resources=INLINE)\\n\"+\n",
       "     \"</code>\\n\"+\n",
       "     \"</div>\"}};\n",
       "\n",
       "  function display_loaded() {\n",
       "    var el = document.getElementById(\"430f2a02-373b-4264-b632-b8fbb824c94c\");\n",
       "    if (el != null) {\n",
       "      el.textContent = \"BokehJS is loading...\";\n",
       "    }\n",
       "    if (root.Bokeh !== undefined) {\n",
       "      if (el != null) {\n",
       "        el.textContent = \"BokehJS \" + root.Bokeh.version + \" successfully loaded.\";\n",
       "      }\n",
       "    } else if (Date.now() < root._bokeh_timeout) {\n",
       "      setTimeout(display_loaded, 100)\n",
       "    }\n",
       "  }\n",
       "\n",
       "\n",
       "  function run_callbacks() {\n",
       "    try {\n",
       "      root._bokeh_onload_callbacks.forEach(function(callback) { callback() });\n",
       "    }\n",
       "    finally {\n",
       "      delete root._bokeh_onload_callbacks\n",
       "    }\n",
       "    console.info(\"Bokeh: all callbacks have finished\");\n",
       "  }\n",
       "\n",
       "  function load_libs(js_urls, callback) {\n",
       "    root._bokeh_onload_callbacks.push(callback);\n",
       "    if (root._bokeh_is_loading > 0) {\n",
       "      console.log(\"Bokeh: BokehJS is being loaded, scheduling callback at\", now());\n",
       "      return null;\n",
       "    }\n",
       "    if (js_urls == null || js_urls.length === 0) {\n",
       "      run_callbacks();\n",
       "      return null;\n",
       "    }\n",
       "    console.log(\"Bokeh: BokehJS not loaded, scheduling load and callback at\", now());\n",
       "    root._bokeh_is_loading = js_urls.length;\n",
       "    for (var i = 0; i < js_urls.length; i++) {\n",
       "      var url = js_urls[i];\n",
       "      var s = document.createElement('script');\n",
       "      s.src = url;\n",
       "      s.async = false;\n",
       "      s.onreadystatechange = s.onload = function() {\n",
       "        root._bokeh_is_loading--;\n",
       "        if (root._bokeh_is_loading === 0) {\n",
       "          console.log(\"Bokeh: all BokehJS libraries loaded\");\n",
       "          run_callbacks()\n",
       "        }\n",
       "      };\n",
       "      s.onerror = function() {\n",
       "        console.warn(\"failed to load library \" + url);\n",
       "      };\n",
       "      console.log(\"Bokeh: injecting script tag for BokehJS library: \", url);\n",
       "      document.getElementsByTagName(\"head\")[0].appendChild(s);\n",
       "    }\n",
       "  };var element = document.getElementById(\"430f2a02-373b-4264-b632-b8fbb824c94c\");\n",
       "  if (element == null) {\n",
       "    console.log(\"Bokeh: ERROR: autoload.js configured with elementid '430f2a02-373b-4264-b632-b8fbb824c94c' but no matching script tag was found. \")\n",
       "    return false;\n",
       "  }\n",
       "\n",
       "  var js_urls = [\"https://cdn.pydata.org/bokeh/release/bokeh-0.12.16.min.js\", \"https://cdn.pydata.org/bokeh/release/bokeh-widgets-0.12.16.min.js\", \"https://cdn.pydata.org/bokeh/release/bokeh-tables-0.12.16.min.js\", \"https://cdn.pydata.org/bokeh/release/bokeh-gl-0.12.16.min.js\"];\n",
       "\n",
       "  var inline_js = [\n",
       "    function(Bokeh) {\n",
       "      Bokeh.set_log_level(\"info\");\n",
       "    },\n",
       "    \n",
       "    function(Bokeh) {\n",
       "      \n",
       "    },\n",
       "    function(Bokeh) {\n",
       "      console.log(\"Bokeh: injecting CSS: https://cdn.pydata.org/bokeh/release/bokeh-0.12.16.min.css\");\n",
       "      Bokeh.embed.inject_css(\"https://cdn.pydata.org/bokeh/release/bokeh-0.12.16.min.css\");\n",
       "      console.log(\"Bokeh: injecting CSS: https://cdn.pydata.org/bokeh/release/bokeh-widgets-0.12.16.min.css\");\n",
       "      Bokeh.embed.inject_css(\"https://cdn.pydata.org/bokeh/release/bokeh-widgets-0.12.16.min.css\");\n",
       "      console.log(\"Bokeh: injecting CSS: https://cdn.pydata.org/bokeh/release/bokeh-tables-0.12.16.min.css\");\n",
       "      Bokeh.embed.inject_css(\"https://cdn.pydata.org/bokeh/release/bokeh-tables-0.12.16.min.css\");\n",
       "    }\n",
       "  ];\n",
       "\n",
       "  function run_inline_js() {\n",
       "    \n",
       "    if ((root.Bokeh !== undefined) || (force === true)) {\n",
       "      for (var i = 0; i < inline_js.length; i++) {\n",
       "        inline_js[i].call(root, root.Bokeh);\n",
       "      }if (force === true) {\n",
       "        display_loaded();\n",
       "      }} else if (Date.now() < root._bokeh_timeout) {\n",
       "      setTimeout(run_inline_js, 100);\n",
       "    } else if (!root._bokeh_failed_load) {\n",
       "      console.log(\"Bokeh: BokehJS failed to load within specified timeout.\");\n",
       "      root._bokeh_failed_load = true;\n",
       "    } else if (force !== true) {\n",
       "      var cell = $(document.getElementById(\"430f2a02-373b-4264-b632-b8fbb824c94c\")).parents('.cell').data().cell;\n",
       "      cell.output_area.append_execute_result(NB_LOAD_WARNING)\n",
       "    }\n",
       "\n",
       "  }\n",
       "\n",
       "  if (root._bokeh_is_loading === 0) {\n",
       "    console.log(\"Bokeh: BokehJS loaded, going straight to plotting\");\n",
       "    run_inline_js();\n",
       "  } else {\n",
       "    load_libs(js_urls, function() {\n",
       "      console.log(\"Bokeh: BokehJS plotting callback run at\", now());\n",
       "      run_inline_js();\n",
       "    });\n",
       "  }\n",
       "}(window));"
      ],
      "application/vnd.bokehjs_load.v0+json": "\n(function(root) {\n  function now() {\n    return new Date();\n  }\n\n  var force = true;\n\n  if (typeof (root._bokeh_onload_callbacks) === \"undefined\" || force === true) {\n    root._bokeh_onload_callbacks = [];\n    root._bokeh_is_loading = undefined;\n  }\n\n  \n\n  \n  if (typeof (root._bokeh_timeout) === \"undefined\" || force === true) {\n    root._bokeh_timeout = Date.now() + 5000;\n    root._bokeh_failed_load = false;\n  }\n\n  var NB_LOAD_WARNING = {'data': {'text/html':\n     \"<div style='background-color: #fdd'>\\n\"+\n     \"<p>\\n\"+\n     \"BokehJS does not appear to have successfully loaded. If loading BokehJS from CDN, this \\n\"+\n     \"may be due to a slow or bad network connection. Possible fixes:\\n\"+\n     \"</p>\\n\"+\n     \"<ul>\\n\"+\n     \"<li>re-rerun `output_notebook()` to attempt to load from CDN again, or</li>\\n\"+\n     \"<li>use INLINE resources instead, as so:</li>\\n\"+\n     \"</ul>\\n\"+\n     \"<code>\\n\"+\n     \"from bokeh.resources import INLINE\\n\"+\n     \"output_notebook(resources=INLINE)\\n\"+\n     \"</code>\\n\"+\n     \"</div>\"}};\n\n  function display_loaded() {\n    var el = document.getElementById(\"430f2a02-373b-4264-b632-b8fbb824c94c\");\n    if (el != null) {\n      el.textContent = \"BokehJS is loading...\";\n    }\n    if (root.Bokeh !== undefined) {\n      if (el != null) {\n        el.textContent = \"BokehJS \" + root.Bokeh.version + \" successfully loaded.\";\n      }\n    } else if (Date.now() < root._bokeh_timeout) {\n      setTimeout(display_loaded, 100)\n    }\n  }\n\n\n  function run_callbacks() {\n    try {\n      root._bokeh_onload_callbacks.forEach(function(callback) { callback() });\n    }\n    finally {\n      delete root._bokeh_onload_callbacks\n    }\n    console.info(\"Bokeh: all callbacks have finished\");\n  }\n\n  function load_libs(js_urls, callback) {\n    root._bokeh_onload_callbacks.push(callback);\n    if (root._bokeh_is_loading > 0) {\n      console.log(\"Bokeh: BokehJS is being loaded, scheduling callback at\", now());\n      return null;\n    }\n    if (js_urls == null || js_urls.length === 0) {\n      run_callbacks();\n      return null;\n    }\n    console.log(\"Bokeh: BokehJS not loaded, scheduling load and callback at\", now());\n    root._bokeh_is_loading = js_urls.length;\n    for (var i = 0; i < js_urls.length; i++) {\n      var url = js_urls[i];\n      var s = document.createElement('script');\n      s.src = url;\n      s.async = false;\n      s.onreadystatechange = s.onload = function() {\n        root._bokeh_is_loading--;\n        if (root._bokeh_is_loading === 0) {\n          console.log(\"Bokeh: all BokehJS libraries loaded\");\n          run_callbacks()\n        }\n      };\n      s.onerror = function() {\n        console.warn(\"failed to load library \" + url);\n      };\n      console.log(\"Bokeh: injecting script tag for BokehJS library: \", url);\n      document.getElementsByTagName(\"head\")[0].appendChild(s);\n    }\n  };var element = document.getElementById(\"430f2a02-373b-4264-b632-b8fbb824c94c\");\n  if (element == null) {\n    console.log(\"Bokeh: ERROR: autoload.js configured with elementid '430f2a02-373b-4264-b632-b8fbb824c94c' but no matching script tag was found. \")\n    return false;\n  }\n\n  var js_urls = [\"https://cdn.pydata.org/bokeh/release/bokeh-0.12.16.min.js\", \"https://cdn.pydata.org/bokeh/release/bokeh-widgets-0.12.16.min.js\", \"https://cdn.pydata.org/bokeh/release/bokeh-tables-0.12.16.min.js\", \"https://cdn.pydata.org/bokeh/release/bokeh-gl-0.12.16.min.js\"];\n\n  var inline_js = [\n    function(Bokeh) {\n      Bokeh.set_log_level(\"info\");\n    },\n    \n    function(Bokeh) {\n      \n    },\n    function(Bokeh) {\n      console.log(\"Bokeh: injecting CSS: https://cdn.pydata.org/bokeh/release/bokeh-0.12.16.min.css\");\n      Bokeh.embed.inject_css(\"https://cdn.pydata.org/bokeh/release/bokeh-0.12.16.min.css\");\n      console.log(\"Bokeh: injecting CSS: https://cdn.pydata.org/bokeh/release/bokeh-widgets-0.12.16.min.css\");\n      Bokeh.embed.inject_css(\"https://cdn.pydata.org/bokeh/release/bokeh-widgets-0.12.16.min.css\");\n      console.log(\"Bokeh: injecting CSS: https://cdn.pydata.org/bokeh/release/bokeh-tables-0.12.16.min.css\");\n      Bokeh.embed.inject_css(\"https://cdn.pydata.org/bokeh/release/bokeh-tables-0.12.16.min.css\");\n    }\n  ];\n\n  function run_inline_js() {\n    \n    if ((root.Bokeh !== undefined) || (force === true)) {\n      for (var i = 0; i < inline_js.length; i++) {\n        inline_js[i].call(root, root.Bokeh);\n      }if (force === true) {\n        display_loaded();\n      }} else if (Date.now() < root._bokeh_timeout) {\n      setTimeout(run_inline_js, 100);\n    } else if (!root._bokeh_failed_load) {\n      console.log(\"Bokeh: BokehJS failed to load within specified timeout.\");\n      root._bokeh_failed_load = true;\n    } else if (force !== true) {\n      var cell = $(document.getElementById(\"430f2a02-373b-4264-b632-b8fbb824c94c\")).parents('.cell').data().cell;\n      cell.output_area.append_execute_result(NB_LOAD_WARNING)\n    }\n\n  }\n\n  if (root._bokeh_is_loading === 0) {\n    console.log(\"Bokeh: BokehJS loaded, going straight to plotting\");\n    run_inline_js();\n  } else {\n    load_libs(js_urls, function() {\n      console.log(\"Bokeh: BokehJS plotting callback run at\", now());\n      run_inline_js();\n    });\n  }\n}(window));"
     },
     "metadata": {},
     "output_type": "display_data"
    }
   ],
   "source": [
    "output_notebook()"
   ]
  },
  {
   "cell_type": "code",
   "execution_count": 8,
   "metadata": {
    "collapsed": true
   },
   "outputs": [],
   "source": [
    "def fmt_cool(ds_in):\n",
    "    ds = ds_in.copy(deep=True)\n",
    "    if 'igg' in ds.dims:\n",
    "        ds = ds.sel(igg=1)\n",
    "\n",
    "    if 'g' in ds.dims:\n",
    "        ds = ds.sum('g')\n",
    "            \n",
    "    if 'band' in ds.dims:\n",
    "        try:\n",
    "            ds = ds.squeeze('band')\n",
    "        except ValueError:\n",
    "            ds = ds.sum('band')\n",
    "                \n",
    "    return ds['coolrg']\n",
    "\n",
    "\n",
    "def pltdata_cooling_1(ds_cool=None,\n",
    "                      ds_cool_crd=None, ds_cool_wgt=None):\n",
    "    \n",
    "\n",
    "\n",
    "    colors = all_palettes['Set1'][4]\n",
    "    data = [{'label': 'CLIRAD `coolr_bands`',\n",
    "             'srs': fmt_cool(ds_cool),\n",
    "             'line_dash': 'dashed', 'line_width': 5,\n",
    "             'color': colors[0], 'alpha': .6},\n",
    "            {'label': 'CRD',\n",
    "             'srs': fmt_cool(ds_cool_crd),\n",
    "             'line_dash': 'solid', 'line_width': 1.5,\n",
    "             'marker': 'circle', 'marker_size': 5,\n",
    "             'color': colors[2], 'alpha': 1,},\n",
    "            {'label': 'WGT igg=10 wgt_flux=2',\n",
    "             'srs': fmt_cool(ds_cool_wgt),\n",
    "             'line_dash': 'solid', 'line_width': 3,\n",
    "             'marker': 'square', 'marker_size': 5,\n",
    "             'color': colors[3], 'alpha': .6}]\n",
    "    return data\n",
    "\n",
    "\n",
    "def nice_xlims(pltdata=None, prange=None):\n",
    "    \n",
    "    def get_slice(srs):\n",
    "        return srs.sel(pressure=slice(*prange))\n",
    "    \n",
    "    srss = [d['srs'] for d in pltdata]\n",
    "    vmin = min([get_slice(srs).min() for srs in srss])\n",
    "    vmax = max([get_slice(srs).max() for srs in srss])\n",
    "    dv = (vmax - vmin) * .01\n",
    "    return float(vmin - dv), float(vmax + dv)\n",
    "    \n",
    "\n",
    "def plt_cooling_bokeh(pltdata=None):\n",
    "    '''\n",
    "    Plot a list of cooling rate profiles using bokeh.\n",
    "    '''\n",
    "    ymin = 1e-2 \n",
    "    ymax = 1020 \n",
    "        \n",
    "    p1 = figure(title=\"Linear pressure scale\", \n",
    "                plot_width=400)        \n",
    "    xmin, xmax = nice_xlims(pltdata, prange=(50, 1050))\n",
    "    for d in pltdata:\n",
    "        if 'marker' in d:\n",
    "            getattr(p1, d['marker'])(d['srs'].values, \n",
    "                    d['srs'].coords['pressure'].values,\n",
    "                    color=d['color'], alpha=.7)\n",
    "        p1.line(d['srs'].values, \n",
    "                d['srs'].coords['pressure'].values,\n",
    "                color=d['color'], alpha=d['alpha'], \n",
    "                line_width=d['line_width'], line_dash=d['line_dash'])\n",
    "    \n",
    "    p1.y_range = Range1d(ymax, ymin)\n",
    "    p1.yaxis.axis_label = 'pressure [mb]'   \n",
    "    p1.x_range = Range1d(xmin, xmax)\n",
    "    p1.xaxis.axis_label = 'cooling rate [K/day]'\n",
    "            \n",
    "    p2 = figure(title='Log pressure scale', y_axis_type='log',\n",
    "                plot_width=560)\n",
    "    xmin, xmax = nice_xlims(pltdata, prange=(.01, 200))\n",
    "    \n",
    "    rs = []\n",
    "    for d in pltdata:\n",
    "        rd = []\n",
    "        if 'marker' in d:\n",
    "            r_mark = getattr(p2, d['marker'])(d['srs'].values, \n",
    "                        d['srs'].coords['pressure'].values,\n",
    "                        color=d['color'], alpha=.7)\n",
    "            rd.append(r_mark)\n",
    "        r_line = p2.line(d['srs'].values, \n",
    "                    d['srs'].coords['pressure'].values,\n",
    "                    color=d['color'], alpha=d['alpha'], \n",
    "                    line_width=d['line_width'], line_dash=d['line_dash'])\n",
    "        rd.append(r_line)\n",
    "      \n",
    "        rs.append(rd)\n",
    "        \n",
    "    p2.y_range = Range1d(ymax, ymin)  \n",
    "    p2.yaxis.axis_label = 'pressure [mb]'\n",
    "    \n",
    "    p2.x_range = Range1d(xmin, xmax)\n",
    "    p2.xaxis.axis_label = 'cooling rate [K/day]'\n",
    "    \n",
    "    items = [(d['label'], r) for r, d in zip(rs, pltdata)]\n",
    "    legend = Legend(items=items, location=(10, -30))\n",
    "    legend.label_text_font_size = '8pt'\n",
    "    \n",
    "    p2.add_layout(legend, 'right')  \n",
    "    \n",
    "    show(gridplot(p1, p2, ncols=2, plot_height=500))\n",
    "    \n",
    "\n",
    "def script_plt_cooling():\n",
    "    pltdata = pltdata_cooling_1(\n",
    "        ds_cool=DS_COOL,\n",
    "        ds_cool_crd=DS_COOL_CRD,\n",
    "        ds_cool_wgt=DS_COOL_WGT)\n",
    "    plt_cooling_bokeh(pltdata=pltdata)\n",
    "    print('''FIGURE. Cooling rate profiles.''')"
   ]
  },
  {
   "cell_type": "code",
   "execution_count": 9,
   "metadata": {
    "collapsed": true
   },
   "outputs": [],
   "source": [
    "def fmt_flux(ds_in):\n",
    "    ds = ds_in.copy(deep=True)\n",
    "    \n",
    "    for l in ('level', 'layer'):\n",
    "        if l in ds.data_vars:\n",
    "            if len(ds[l].dims) > 1:\n",
    "                surface = {d: 0 for d in ds.dims if d != 'pressure'}\n",
    "                coord_level = ds[l][surface]\n",
    "                ds.coords[l] = ('pressure', coord_level)\n",
    "            else:\n",
    "                ds.coords[l] = ('pressure', ds[l])\n",
    "        \n",
    "    ds = ds.isel(pressure=[0, 23, -1])\n",
    "        \n",
    "    if 'igg' in ds.dims:\n",
    "        ds = ds.sel(igg=[1])\n",
    "        ds = ds.squeeze('igg').drop('igg')\n",
    "    \n",
    "    if 'g' in ds.dims:\n",
    "        ds = ds.sum('g')\n",
    "            \n",
    "    if 'band' in ds.dims:\n",
    "        try:\n",
    "            ds = ds.squeeze('band').drop('band')\n",
    "        except ValueError:\n",
    "            ds = ds.sum('band')\n",
    "                \n",
    "    df = ds.to_dataframe()\n",
    "    df = df.set_index('level', append=True)               \n",
    "    return df\n",
    "\n",
    "\n",
    "def tbdata_flux(ds_flux=None, ds_flux_crd=None, ds_flux_wgt=None):\n",
    "    ilevels = [0, 23, -1]\n",
    "            \n",
    "    benchmark = {'label': 'CRD',\n",
    "                 'df': fmt_flux(ds_flux_crd)}\n",
    "    \n",
    "    tbs = [{'label': 'WGT igg=10 wgt_flux=1',\n",
    "            'df': fmt_flux(ds_flux_wgt)},\n",
    "           {'label': 'CLIRAD',\n",
    "            'df': fmt_flux(ds_flux)}]\n",
    "    \n",
    "    data = {'benchmark': benchmark, 'others': tbs}\n",
    "    return data\n",
    "\n",
    "\n",
    "def tb_flux(tbdata=None):\n",
    "    benchmark = tbdata['benchmark']\n",
    "    others = tbdata['others']\n",
    "    \n",
    "    def show_tb(d=None):\n",
    "        display.display(d['df'])\n",
    "        print('Table.', 'Fluxes.', d['label'])\n",
    "        \n",
    "    def show_tbdiff(d0=None, d=None):\n",
    "        df = d['df']\n",
    "        df.index = d0['df'].index\n",
    "        display.display(df - d0['df'])\n",
    "        print('Table.', 'Fluxes.', \n",
    "              '({}) - ({})'.format(d['label'], d0['label']))\n",
    "        \n",
    "    show_tb(benchmark)\n",
    "    for d in others:\n",
    "        show_tb(d)\n",
    "        \n",
    "    for d in others:\n",
    "        show_tbdiff(d=d, d0=benchmark)\n",
    "        \n",
    "        \n",
    "def script_tb_flux():\n",
    "    data = tbdata_flux(ds_flux=DS_FLUX,\n",
    "                       ds_flux_crd=DS_FLUX_CRD,\n",
    "                       ds_flux_wgt=DS_FLUX_WGT)\n",
    "    tb_flux(tbdata=data)"
   ]
  },
  {
   "cell_type": "code",
   "execution_count": 10,
   "metadata": {
    "collapsed": true
   },
   "outputs": [],
   "source": [
    "def band_map():\n",
    "    '''\n",
    "    Maps spectral bands in lblnew to spectral bands in clirad.\n",
    "    '''\n",
    "    lblnew2clirad = {'1': '1',\n",
    "            '2': '2',\n",
    "            '3a': '3',\n",
    "            '3b': '4',\n",
    "            '3c': '5',\n",
    "            '4': '6', \n",
    "            '5': '7',\n",
    "            '6': '8',\n",
    "            '7': '9', \n",
    "            '8': '10',\n",
    "            '9': '11'}\n",
    "    \n",
    "    clirad2lblnew = {clirad: lblnew \n",
    "                     for lblnew, clirad in lblnew2clirad.items()}\n",
    "    return clirad2lblnew\n",
    "\n",
    "\n",
    "def gasbands():\n",
    "    bmap = band_map()\n",
    "    gases = list(PARAM['molecule'].keys())\n",
    "    \n",
    "    bands = [bmap[str(b)] for b in PARAM['band']]\n",
    "    return list(itertools.product(gases, bands))\n",
    "\n",
    "\n",
    "def print_bestfit_params():\n",
    "    print('Best-fit values for each (gas, band)')\n",
    "    print('------------------------------------')\n",
    "    for gas, band in gasbands():\n",
    "        print('o {} band{}'.format(gas, band))\n",
    "        param = bestfits.kdist_params(molecule=gas, band=band)\n",
    "        for name, value in sorted(param.items()):\n",
    "            print(2 * ' ' + '{} = {}'.format(name, value))\n",
    "\n",
    "        \n",
    "def print_input_param():        \n",
    "    for name, value in PARAM.items():\n",
    "        print('{} = {}'.format(name, value))\n",
    "        \n",
    "        \n",
    "def print_lblnew_param():\n",
    "    for name, value in sorted(PARAM_LBLNEW.items()):\n",
    "        print('{} = {}'.format(name, value))\n"
   ]
  },
  {
   "cell_type": "code",
   "execution_count": 11,
   "metadata": {
    "collapsed": true,
    "scrolled": false
   },
   "outputs": [],
   "source": [
    "def show_html(s):\n",
    "    display.display(display.HTML(s))\n",
    "\n",
    "    \n",
    "def show_markdown(s):\n",
    "    display.display(display.Markdown(s))\n",
    "\n",
    "    \n",
    "def script():\n",
    "    \n",
    "    title = '### CLIRAD-LW'\n",
    "    s_input = 'Input Parameters'\n",
    "    s_lblnew_param = 'LBLNEW case compaired against'\n",
    "    s_bestfits = 'Best-fit Parameters'\n",
    "    s_plt_cooling = 'Cooling Rate Profiles'\n",
    "    s_tb_flux = 'Flux Comparison'\n",
    "    \n",
    "    # title\n",
    "    show_markdown('### CLIRAD-LW')\n",
    "    \n",
    "    # TOC\n",
    "    show_markdown('### Table of Contents')\n",
    "    show_html(climahtml.getHTML_hrefanchor(s_input))\n",
    "    show_html(climahtml.getHTML_hrefanchor(s_lblnew_param))\n",
    "    show_html(climahtml.getHTML_hrefanchor(s_plt_cooling))\n",
    "    show_html(climahtml.getHTML_hrefanchor(s_tb_flux))\n",
    "    show_html(climahtml.getHTML_hrefanchor(s_bestfits))\n",
    "    \n",
    "    # Input parameters\n",
    "    show_html(climahtml.getHTML_idanchor(s_input))\n",
    "    show_markdown(climahtml.getMarkdown_sectitle(s_input))\n",
    "    print_input_param()\n",
    "    \n",
    "    # LBLNEW parameters \n",
    "    show_html(climahtml.getHTML_idanchor(s_lblnew_param))\n",
    "    show_markdown(climahtml.getMarkdown_sectitle(s_lblnew_param))\n",
    "    print_lblnew_param()\n",
    "    \n",
    "    # Cooling rate profiles\n",
    "    show_html(climahtml.getHTML_idanchor(s_plt_cooling))\n",
    "    show_markdown(climahtml.getMarkdown_sectitle(s_plt_cooling))\n",
    "    script_plt_cooling()\n",
    "    \n",
    "    # Flux comparison\n",
    "    show_html(climahtml.getHTML_idanchor(s_tb_flux))\n",
    "    show_markdown(climahtml.getMarkdown_sectitle(s_tb_flux))\n",
    "    script_tb_flux()\n",
    "    \n",
    "    # Best-fit values\n",
    "    show_html(climahtml.getHTML_idanchor(s_bestfits))\n",
    "    show_markdown(climahtml.getMarkdown_sectitle(s_bestfits))\n",
    "    print_bestfit_params()\n",
    "   \n",
    "    "
   ]
  },
  {
   "cell_type": "code",
   "execution_count": 12,
   "metadata": {
    "collapsed": true,
    "scrolled": false
   },
   "outputs": [
    {
     "data": {
      "text/markdown": [
       "### CLIRAD-LW"
      ],
      "text/plain": [
       "<IPython.core.display.Markdown object>"
      ]
     },
     "metadata": {},
     "output_type": "display_data"
    },
    {
     "data": {
      "text/markdown": [
       "### Table of Contents"
      ],
      "text/plain": [
       "<IPython.core.display.Markdown object>"
      ]
     },
     "metadata": {},
     "output_type": "display_data"
    },
    {
     "data": {
      "text/html": [
       "<a href=\"#Input_Parameters\">Input Parameters</a>"
      ],
      "text/plain": [
       "<IPython.core.display.HTML object>"
      ]
     },
     "metadata": {},
     "output_type": "display_data"
    },
    {
     "data": {
      "text/html": [
       "<a href=\"#LBLNEW_case_compaired_against\">LBLNEW case compaired against</a>"
      ],
      "text/plain": [
       "<IPython.core.display.HTML object>"
      ]
     },
     "metadata": {},
     "output_type": "display_data"
    },
    {
     "data": {
      "text/html": [
       "<a href=\"#Cooling_Rate_Profiles\">Cooling Rate Profiles</a>"
      ],
      "text/plain": [
       "<IPython.core.display.HTML object>"
      ]
     },
     "metadata": {},
     "output_type": "display_data"
    },
    {
     "data": {
      "text/html": [
       "<a href=\"#Flux_Comparison\">Flux Comparison</a>"
      ],
      "text/plain": [
       "<IPython.core.display.HTML object>"
      ]
     },
     "metadata": {},
     "output_type": "display_data"
    },
    {
     "data": {
      "text/html": [
       "<a href=\"#Best-fit_Parameters\">Best-fit Parameters</a>"
      ],
      "text/plain": [
       "<IPython.core.display.HTML object>"
      ]
     },
     "metadata": {},
     "output_type": "display_data"
    },
    {
     "data": {
      "text/html": [
       "<a id=\"Input_Parameters\"></a>"
      ],
      "text/plain": [
       "<IPython.core.display.HTML object>"
      ]
     },
     "metadata": {},
     "output_type": "display_data"
    },
    {
     "data": {
      "text/markdown": [
       "# Input Parameters"
      ],
      "text/plain": [
       "<IPython.core.display.Markdown object>"
      ]
     },
     "metadata": {},
     "output_type": "display_data"
    },
    {
     "name": "stdout",
     "output_type": "stream",
     "text": [
      "atmpro = mls\n",
      "band = [8]\n",
      "commitnumber = 9409510\n",
      "molecule = {'n2o': 3.2e-07}\n",
      "tsfc = 294\n"
     ]
    },
    {
     "data": {
      "text/html": [
       "<a id=\"LBLNEW_case_compaired_against\"></a>"
      ],
      "text/plain": [
       "<IPython.core.display.HTML object>"
      ]
     },
     "metadata": {},
     "output_type": "display_data"
    },
    {
     "data": {
      "text/markdown": [
       "# LBLNEW case compaired against"
      ],
      "text/plain": [
       "<IPython.core.display.Markdown object>"
      ]
     },
     "metadata": {},
     "output_type": "display_data"
    },
    {
     "name": "stdout",
     "output_type": "stream",
     "text": [
      "atmpro = mls\n",
      "band = 6\n",
      "commitnumber = bca49ce\n",
      "conc = 3.2e-07\n",
      "dv = 0.005\n",
      "klin = 0\n",
      "molecule = n2o\n",
      "ng_adju = [0]\n",
      "ng_refs = [1]\n",
      "nv = 200\n",
      "option_compute_btable = 0\n",
      "option_compute_ktable = 0\n",
      "option_wgt_flux = 1\n",
      "option_wgt_k = 1\n",
      "ref_pts = [(500, 250)]\n",
      "tsfc = 294\n",
      "vmax = 1215\n",
      "vmin = 1100\n",
      "w_diffuse = [(1.66,)]\n",
      "wgt = [(0.95,)]\n"
     ]
    },
    {
     "data": {
      "text/html": [
       "<a id=\"Cooling_Rate_Profiles\"></a>"
      ],
      "text/plain": [
       "<IPython.core.display.HTML object>"
      ]
     },
     "metadata": {},
     "output_type": "display_data"
    },
    {
     "data": {
      "text/markdown": [
       "# Cooling Rate Profiles"
      ],
      "text/plain": [
       "<IPython.core.display.Markdown object>"
      ]
     },
     "metadata": {},
     "output_type": "display_data"
    },
    {
     "data": {
      "text/html": [
       "\n",
       "<div class=\"bk-root\">\n",
       "    <div class=\"bk-plotdiv\" id=\"b26e4732-ec11-42b5-9b48-c307bafaf711\"></div>\n",
       "</div>"
      ]
     },
     "metadata": {},
     "output_type": "display_data"
    },
    {
     "data": {
      "application/javascript": [
       "(function(root) {\n",
       "  function embed_document(root) {\n",
       "    \n",
       "  var docs_json = {\"24107a18-ceca-429c-ab88-cf7563bd4fa3\":{\"roots\":{\"references\":[{\"attributes\":{\"overlay\":{\"id\":\"43bce9df-f75c-443b-9c88-3e00e1aee7f1\",\"type\":\"BoxAnnotation\"}},\"id\":\"f5d9eec6-3cea-4b56-b472-3f43b9c53553\",\"type\":\"BoxZoomTool\"},{\"attributes\":{},\"id\":\"676afae9-6d1b-4e7d-bddc-a71b4e126f69\",\"type\":\"LinearScale\"},{\"attributes\":{\"axis_label\":\"cooling rate [K/day]\",\"formatter\":{\"id\":\"34b73e12-da37-49b7-8a3a-e9965b47861d\",\"type\":\"BasicTickFormatter\"},\"plot\":{\"id\":\"5b44a90c-e31e-492c-b03a-0293b3c09a85\",\"subtype\":\"Figure\",\"type\":\"Plot\"},\"ticker\":{\"id\":\"ccdee5fd-51df-429f-907d-d319e8bd6643\",\"type\":\"BasicTicker\"}},\"id\":\"89d294ba-4bed-4396-b256-4e8590c8b4f3\",\"type\":\"LinearAxis\"},{\"attributes\":{},\"id\":\"9c03011a-bc16-461d-8548-eb6246c1541b\",\"type\":\"LogScale\"},{\"attributes\":{},\"id\":\"25f00d62-4337-43d2-9026-b77b481bf7ee\",\"type\":\"PanTool\"},{\"attributes\":{\"callback\":null,\"data\":{\"x\":{\"__ndarray__\":\"hzmVUYuWYr8SW/DUMoFiv5IaBu8MU2K/gC9CxtUgYr+t8ZfrdO1hv3e7ww4ouWG/wkc77AmEYb/5gOywY05hvyAHjtROF2G/6J1dklDgYL8fNV0Ad6hgv4Nsgxlmb2C/4UndXmo1YL+x29CdM+xfvwpOd/l6YF6/38UpYceyWb/Z5G1/x6RRv5f2MyLHkz2/Zx7IHs4ENT9uayhJoMdUPxM5i/pHz2M/YFRUceoZbz+f3LvxKr50P3FdcawkHXU/71Qt2v3ZcD8E6qCVM9BnP9sGNKjkgl0/kdYm74NrSz8Ogu/Xecn4PpWlwwk6I0a/GIvKeQuTVb9z+WvHT0lfv4Z/5CCgt2O/k3n7YlwZZ7/hieVGNGlqv7hEobKQqm2/X46dPqIMcL+27F37Ottwv24Wpf8CjHG/PD+ormz9cb/3/D+2xMRxv/XVtmHL5HC/yxcNAKmSb7+XbHSCwSttvxmp12uKoGq/jfVqTyv2Z7+I6lB+8DBlvyoWewyvVGK/K58ZkDrLXr8Pg59O985Yv2yh2Mh9xFK/4TxIlcxwSb/gjjRIF8k6vwsAh/QoTAa/oHN0H+gsNT+C10ul5ZVGP23LQ1B8T1E/U/ONU/FZVz+RyWWAZGpdP9CxRjBjwGE/mVxOQlfNZD/XFDIa7NtnP6N8CobP62o/1l7SPCr8bT/BzV6NHoVwPzYXE60pCHI/iyteEACBcz9rBhC0feV0P/A3BhdFLHY/boycy+1Tdz+vv7SGHGR4P+L4i6RXZnk/CMCH6Bphej88+YmGsld7P9r1z+6wS3w/\",\"dtype\":\"float64\",\"shape\":[75]},\"y\":{\"__ndarray__\":\"GhExyth1ND/Sv8nbtpRIP2vylNV0PVE/aTum7souWD/At0SJ8fVgPw3Iuahxymc/MSNhhJWvcD/bTfBN02d3P2zb5nxnaoA/CD5h5MAGhz8NmeH1TyaQP+zrCsc9p5Y/LbKd76fGnz/bLW5ISEmmPww9YvTcQq8/JV2OstnstT8Er5Y7M8G+P0c+r3jqkcU/5h99k6ZBzj88bCIzFzjVP4enV8oyxN0//yH99nXg5D8qOpLLf0jtP5kqGJXUifQ/c9cS8kHP/D+/DpwzojQEQIEmwoanVwxA4lgXt9HgE0BSSZ2AJuIbQAMJih9jjiNA5q4l5INuK0AwTKYKRj0zQNv5fmq8/DpAaCJseHrtQkB/+zpwzoxKQM3MzMzMeFJAZmZmZmZqWEAAAAAAAFxeQM3MzMzMJmJAmpmZmZkfZUBmZmZmZhhoQDMzMzMzEWtAAAAAAAAKbkBmZmZmZoFwQM3MzMzM/XFAMzMzMzN6c0CamZmZmfZ0QAAAAAAAc3ZAZmZmZmbvd0DNzMzMzGt5QDMzMzMz6HpAmpmZmZlkfEAAAAAAAOF9QGZmZmZmXX9AZmZmZuZsgECamZmZGSuBQM3MzMxM6YFAAAAAAICngkAzMzMzs2WDQGZmZmbmI4RAmpmZmRnihEDNzMzMTKCFQAAAAACAXoZAMzMzM7Mch0BmZmZm5tqHQJqZmZkZmYhAzczMzExXiUAAAAAAgBWKQDMzMzOz04pAZmZmZuaRi0CamZmZGVCMQM3MzMxMDo1AAAAAAIDMjUAzMzMzs4qOQGZmZmbmSI9A\",\"dtype\":\"float64\",\"shape\":[75]}},\"selected\":{\"id\":\"22423dfa-ff3f-4afe-9ed6-9cfc5bcdb452\",\"type\":\"Selection\"},\"selection_policy\":{\"id\":\"b01ae5f7-222a-4c68-9084-7d077fa614ab\",\"type\":\"UnionRenderers\"}},\"id\":\"1055af50-3c7a-4148-824b-62ad8c436ab6\",\"type\":\"ColumnDataSource\"},{\"attributes\":{\"plot\":{\"id\":\"a5095a50-3dc7-47e7-9970-0710619f0cfc\",\"subtype\":\"Figure\",\"type\":\"Plot\"},\"ticker\":{\"id\":\"8cc458b4-d6d9-4672-9213-9725cedb301e\",\"type\":\"BasicTicker\"}},\"id\":\"71a43412-e18f-4fdb-8a57-6e41be89442f\",\"type\":\"Grid\"},{\"attributes\":{},\"id\":\"cf38d7c6-ab1c-4311-a952-c5f516967d90\",\"type\":\"LinearScale\"},{\"attributes\":{\"bottom_units\":\"screen\",\"fill_alpha\":{\"value\":0.5},\"fill_color\":{\"value\":\"lightgrey\"},\"left_units\":\"screen\",\"level\":\"overlay\",\"line_alpha\":{\"value\":1.0},\"line_color\":{\"value\":\"black\"},\"line_dash\":[4,4],\"line_width\":{\"value\":2},\"plot\":null,\"render_mode\":\"css\",\"right_units\":\"screen\",\"top_units\":\"screen\"},\"id\":\"43bce9df-f75c-443b-9c88-3e00e1aee7f1\",\"type\":\"BoxAnnotation\"},{\"attributes\":{\"callback\":null,\"end\":0.01,\"start\":1020},\"id\":\"da49d162-e138-4b71-bbc5-220941bb5ad4\",\"type\":\"Range1d\"},{\"attributes\":{\"source\":{\"id\":\"cfbf730b-f8b4-4679-b6ca-85df9c8fda55\",\"type\":\"ColumnDataSource\"}},\"id\":\"2f123871-18d8-44e0-b18d-73c777e62f0f\",\"type\":\"CDSView\"},{\"attributes\":{\"callback\":null,\"data\":{\"x\":{\"__ndarray__\":\"uocTvzqzcr/VKbiklqlyv+jMiNa7lHK/axAwuyp+cr/87qneEmdyv1FaUsp4T3K/QzKmmVw3cr/j7XH4vh5yv4d8Z2KgBXK/N9gJIwXscb8e0P+W89Fxv8ocrRxxt3G/rZvUTIWccb8CwF6NZn9xv5IZuwIiJHG/OBz2eKoOcL8mZOCzh1Nsv12oGzAYeGe/8W4zvU5vYb9mw/WDFQJUv4XoPlpwLR6/YmcnFyzbUz9rUuOE1vpjP3JbZHyN3WQ/wnsWnY/fWT8h2Nsqd5c9P8amZR+XF0O/qW8beaBWWL8xsD/m0lpiv/KtG/Bqkme/bZQTOwM0bL80NZFhqhxwv+TuX5jNlXG/idICXmSOcr9BIZNwR1Zzv/1pF9pP+3O/CL+IinVJdL8xm0oH7m50v9hLGOtpcHS/Ok2Tz3NPdL/TomD8K6Fzvw1Z7TqMa3K/dhYtX58Jcb+yGUD1mBNvv90ND1LRB2y/hk5oRoHtaL8SLp5hdeJlv3v+7LLcrGK/NDJTUA3YXr/Zm02EY09Yv8Kww+ETzlG/XERJsSFBR7/z+QW1bW80v1+SEdRx4RM/PbkKXbQfPj+4blHbXTFLP5yN3G3z01M/FDgdbQoXWj+p6i8FtSlgPzMF0zajQmM//u8oT4k9Zj9N5WFfumJpP7//xLzWe2w/WGfPOcWQbz8iqvKxwkNxPxKJ5X7ex3I/1l0DGJtBdD/qP2t+/KV1P0JBFlLY5nY/WCE3lPkGeD8ZzZbgVxt5P7LHucXrHno/88eNSsUZez8BXGYbswF8P0QxTDkl+Hw/\",\"dtype\":\"float64\",\"shape\":[75]},\"y\":{\"__ndarray__\":\"GhExyth1ND/Sv8nbtpRIP2vylNV0PVE/aTum7souWD/At0SJ8fVgPw3Iuahxymc/MSNhhJWvcD/bTfBN02d3P2zb5nxnaoA/CD5h5MAGhz8NmeH1TyaQP+zrCsc9p5Y/LbKd76fGnz/bLW5ISEmmPww9YvTcQq8/JV2OstnstT8Er5Y7M8G+P0c+r3jqkcU/5h99k6ZBzj88bCIzFzjVP4enV8oyxN0//yH99nXg5D8qOpLLf0jtP5kqGJXUifQ/c9cS8kHP/D+/DpwzojQEQIEmwoanVwxA4lgXt9HgE0BSSZ2AJuIbQAMJih9jjiNA5q4l5INuK0AwTKYKRj0zQNv5fmq8/DpAaCJseHrtQkB/+zpwzoxKQM3MzMzMeFJAZmZmZmZqWEAAAAAAAFxeQM3MzMzMJmJAmpmZmZkfZUBmZmZmZhhoQDMzMzMzEWtAAAAAAAAKbkBmZmZmZoFwQM3MzMzM/XFAMzMzMzN6c0CamZmZmfZ0QAAAAAAAc3ZAZmZmZmbvd0DNzMzMzGt5QDMzMzMz6HpAmpmZmZlkfEAAAAAAAOF9QGZmZmZmXX9AZmZmZuZsgECamZmZGSuBQM3MzMxM6YFAAAAAAICngkAzMzMzs2WDQGZmZmbmI4RAmpmZmRnihEDNzMzMTKCFQAAAAACAXoZAMzMzM7Mch0BmZmZm5tqHQJqZmZkZmYhAzczMzExXiUAAAAAAgBWKQDMzMzOz04pAZmZmZuaRi0CamZmZGVCMQM3MzMxMDo1AAAAAAIDMjUAzMzMzs4qOQGZmZmbmSI9A\",\"dtype\":\"float64\",\"shape\":[75]}},\"selected\":{\"id\":\"5a863a20-3b2e-476e-9efa-2a27c63d54c1\",\"type\":\"Selection\"},\"selection_policy\":{\"id\":\"28a22a2f-f500-4f11-857c-578dbec20cca\",\"type\":\"UnionRenderers\"}},\"id\":\"a122d956-fd68-450b-a3b2-7feb34759625\",\"type\":\"ColumnDataSource\"},{\"attributes\":{},\"id\":\"8cc458b4-d6d9-4672-9213-9725cedb301e\",\"type\":\"BasicTicker\"},{\"attributes\":{\"num_minor_ticks\":10},\"id\":\"273e51bf-a10e-4fc9-af31-1205679477d6\",\"type\":\"LogTicker\"},{\"attributes\":{},\"id\":\"3d7c6e26-216e-4f8c-ac74-b3a4e92907d2\",\"type\":\"SaveTool\"},{\"attributes\":{\"callback\":null,\"end\":0.005256193948999999,\"start\":-0.005091466249},\"id\":\"f923a6ed-485b-43dd-9eae-2c327793ec61\",\"type\":\"Range1d\"},{\"attributes\":{},\"id\":\"71c51343-dd5d-4a4c-89c2-cbc8932fa699\",\"type\":\"WheelZoomTool\"},{\"attributes\":{\"axis_label\":\"pressure [mb]\",\"formatter\":{\"id\":\"483ecafc-aad2-4d10-a40c-3a50f913893e\",\"type\":\"LogTickFormatter\"},\"plot\":{\"id\":\"5b44a90c-e31e-492c-b03a-0293b3c09a85\",\"subtype\":\"Figure\",\"type\":\"Plot\"},\"ticker\":{\"id\":\"273e51bf-a10e-4fc9-af31-1205679477d6\",\"type\":\"LogTicker\"}},\"id\":\"4758e139-fb00-4497-9db1-cb62f06b84d2\",\"type\":\"LogAxis\"},{\"attributes\":{\"callback\":null,\"data\":{\"x\":{\"__ndarray__\":\"GJvwcFYbc7+DfrE+b/hyv4xEwwat/nK/M3Emwzzmcr8xLZHblMpyv4menHE2rnK/ZJUAI4mRcr9MTE7nLnRyv7UR0D9oVnK/+XCDeCE4cr/3NpU/OhlyvzqmZSLw+XG/48r2bNjZcb8OFl4iT7Rxv+Q2W27pR3G/7NPLGv4UcL+8fWbpey9sv+ys2XRLRWe/zymKkChfYb/n7jNhDa1Uv4K1UZIYHzC/1bqbQPHNTj8zLngvgHJgP2Me2ggCK2E/i8p45m19VD9gIvHjM/QwP+zZR1PFe0W/kCdmUaHAV7+tFfxdsEBhv3bjgo8fs2W/esuvf4uQab+CANqME+Nsv+gEmvN/U2+/2aSYiKJ8cL/5hDlw+Cxxv7wHf7YCwHG/2fJxPW8Ccr86WGo6FQlyvxPJ4obwC3K/SS24yabocb8+OVp7/kBxvzG/QydFGHC/6SNmujuZbb9gGeEOUPFqvz6hUvnbPWi/qJHYnY6BZb9zbJH5pr5iv0mFSH2G7V+/gvNO80FXWr9MCALWPcFUv93mWCy5ZU6/vi6WQNprQ79n9awm5zMxv70o9kgTcRA/01dQNfgwOT/vcjJirA1HPw472bPKuFA/QnEP38zjVT8DiPAjxghbP9CsukChFGA/pzlCVe+hYj+dIkbaDSxlP04ave76smc//586Qvw2aj/fOh8XfrRsP5ZAChpTKW8/NZVSixnFcD/LFMo1UuVxP6zr4PiL7XI/U7czCy3dcz/d5XksEbp0P5xaxiZqi3U/l4ZyhghWdj+Ls+W9ahx3P+hEVAO633c/\",\"dtype\":\"float64\",\"shape\":[75]},\"y\":{\"__ndarray__\":\"S/O/Q+51ND/Sv8nbtpRIP2vylNV0PVE/aTum7souWD/At0SJ8fVgPw3Iuahxymc/MSNhhJWvcD/bTfBN02d3P2zb5nxnaoA/CD5h5MAGhz8NmeH1TyaQP+zrCsc9p5Y/LbKd76fGnz/bLW5ISEmmPww9YvTcQq8/JV2OstnstT8Er5Y7M8G+P0c+r3jqkcU/5h99k6ZBzj88bCIzFzjVP4enV8oyxN0//yH99nXg5D8qOpLLf0jtP5kqGJXUifQ/c9cS8kHP/D+/DpwzojQEQIEmwoanVwxA4lgXt9HgE0BSSZ2AJuIbQAMJih9jjiNA5q4l5INuK0AwTKYKRj0zQNv5fmq8/DpAaCJseHrtQkB/+zpwzoxKQM3MzMzMeFJAZmZmZmZqWEAAAAAAAFxeQM3MzMzMJmJAmpmZmZkfZUBmZmZmZhhoQDMzMzMzEWtAAAAAAAAKbkBmZmZmZoFwQM3MzMzM/XFAMzMzMzN6c0CamZmZmfZ0QAAAAAAAc3ZAZmZmZmbvd0DNzMzMzGt5QDMzMzMz6HpAmpmZmZlkfEAAAAAAAOF9QGZmZmZmXX9AZmZmZuZsgECamZmZGSuBQM3MzMxM6YFAAAAAAICngkAzMzMzs2WDQGZmZmbmI4RAmpmZmRnihEDNzMzMTKCFQAAAAACAXoZAMzMzM7Mch0BmZmZm5tqHQJqZmZkZmYhAzczMzExXiUAAAAAAgBWKQDMzMzOz04pAZmZmZuaRi0CamZmZGVCMQM3MzMxMDo1AAAAAAIDMjUAzMzMzs4qOQGZmZmbmSI9A\",\"dtype\":\"float64\",\"shape\":[75]}},\"selected\":{\"id\":\"d31ccd09-0042-4731-b02d-1091f5fce46e\",\"type\":\"Selection\"},\"selection_policy\":{\"id\":\"91089dd9-9c60-4717-810a-496c7413d50f\",\"type\":\"UnionRenderers\"}},\"id\":\"77a83ea8-6557-4099-a656-65287f45a251\",\"type\":\"ColumnDataSource\"},{\"attributes\":{},\"id\":\"0fbec8e6-716e-4a61-be0f-2d981fcb0710\",\"type\":\"LinearScale\"},{\"attributes\":{\"line_alpha\":0.6,\"line_color\":\"#e41a1c\",\"line_dash\":[6],\"line_width\":5,\"x\":{\"field\":\"x\"},\"y\":{\"field\":\"y\"}},\"id\":\"3708130e-37c9-4db9-9128-426848602fe4\",\"type\":\"Line\"},{\"attributes\":{\"callback\":null,\"end\":0.01,\"start\":1020},\"id\":\"69173617-186b-4cb4-8c20-c0112bcada98\",\"type\":\"Range1d\"},{\"attributes\":{\"line_alpha\":0.6,\"line_color\":\"#984ea3\",\"line_width\":3,\"x\":{\"field\":\"x\"},\"y\":{\"field\":\"y\"}},\"id\":\"79c4286d-028b-470e-8df2-6caa2c8f86bc\",\"type\":\"Line\"},{\"attributes\":{\"data_source\":{\"id\":\"cfbf730b-f8b4-4679-b6ca-85df9c8fda55\",\"type\":\"ColumnDataSource\"},\"glyph\":{\"id\":\"60012be7-11da-453d-b976-f9e57cab24b2\",\"type\":\"Square\"},\"hover_glyph\":null,\"muted_glyph\":null,\"nonselection_glyph\":{\"id\":\"4fe0b5d3-e39c-4cfd-af99-9a203868d298\",\"type\":\"Square\"},\"selection_glyph\":null,\"view\":{\"id\":\"2f123871-18d8-44e0-b18d-73c777e62f0f\",\"type\":\"CDSView\"}},\"id\":\"85fcee6e-e244-4b16-8c6b-98185e73d69f\",\"type\":\"GlyphRenderer\"},{\"attributes\":{\"fill_alpha\":{\"value\":0.7},\"fill_color\":{\"value\":\"#4daf4a\"},\"line_alpha\":{\"value\":0.7},\"line_color\":{\"value\":\"#4daf4a\"},\"x\":{\"field\":\"x\"},\"y\":{\"field\":\"y\"}},\"id\":\"3f3ae043-1b4d-45a5-ac70-a67872d65703\",\"type\":\"Circle\"},{\"attributes\":{\"axis_label\":\"cooling rate [K/day]\",\"formatter\":{\"id\":\"f09abc30-03d3-41d6-80c9-7060e7baaca9\",\"type\":\"BasicTickFormatter\"},\"plot\":{\"id\":\"a5095a50-3dc7-47e7-9970-0710619f0cfc\",\"subtype\":\"Figure\",\"type\":\"Plot\"},\"ticker\":{\"id\":\"8cc458b4-d6d9-4672-9213-9725cedb301e\",\"type\":\"BasicTicker\"}},\"id\":\"a9e33f8b-15ce-4dfa-b255-e4280e4fd070\",\"type\":\"LinearAxis\"},{\"attributes\":{\"fill_alpha\":{\"value\":0.1},\"fill_color\":{\"value\":\"#1f77b4\"},\"line_alpha\":{\"value\":0.1},\"line_color\":{\"value\":\"#1f77b4\"},\"x\":{\"field\":\"x\"},\"y\":{\"field\":\"y\"}},\"id\":\"4fe0b5d3-e39c-4cfd-af99-9a203868d298\",\"type\":\"Square\"},{\"attributes\":{\"below\":[{\"id\":\"a9e33f8b-15ce-4dfa-b255-e4280e4fd070\",\"type\":\"LinearAxis\"}],\"left\":[{\"id\":\"0ac0b8b1-79fb-4c73-9190-cd00e9e3d2ed\",\"type\":\"LinearAxis\"}],\"plot_height\":500,\"plot_width\":400,\"renderers\":[{\"id\":\"a9e33f8b-15ce-4dfa-b255-e4280e4fd070\",\"type\":\"LinearAxis\"},{\"id\":\"71a43412-e18f-4fdb-8a57-6e41be89442f\",\"type\":\"Grid\"},{\"id\":\"0ac0b8b1-79fb-4c73-9190-cd00e9e3d2ed\",\"type\":\"LinearAxis\"},{\"id\":\"65c43909-c76a-4b92-af76-2f698d318177\",\"type\":\"Grid\"},{\"id\":\"2197229f-67ff-44ff-bfea-a9ff74592cf8\",\"type\":\"BoxAnnotation\"},{\"id\":\"140202f8-784c-400e-8f88-de396743261f\",\"type\":\"GlyphRenderer\"},{\"id\":\"65ac9cad-7ad5-43e9-a8db-203feb3ca0ed\",\"type\":\"GlyphRenderer\"},{\"id\":\"535c45bb-48f4-48db-9b53-d097409982b7\",\"type\":\"GlyphRenderer\"},{\"id\":\"64de7994-8321-4acb-bbf3-a7a3a2697318\",\"type\":\"GlyphRenderer\"},{\"id\":\"0ac059aa-6d26-4cab-bc6f-97eb1c71a233\",\"type\":\"GlyphRenderer\"}],\"title\":{\"id\":\"abf077e9-d172-49c7-a061-298acd0ed9f7\",\"type\":\"Title\"},\"toolbar\":{\"id\":\"a43fdbaf-f33b-49a5-b437-df1f9d42da42\",\"type\":\"Toolbar\"},\"toolbar_location\":null,\"x_range\":{\"id\":\"acec52a8-f20a-49ab-bda0-95f138876665\",\"type\":\"Range1d\"},\"x_scale\":{\"id\":\"0fbec8e6-716e-4a61-be0f-2d981fcb0710\",\"type\":\"LinearScale\"},\"y_range\":{\"id\":\"da49d162-e138-4b71-bbc5-220941bb5ad4\",\"type\":\"Range1d\"},\"y_scale\":{\"id\":\"cf38d7c6-ab1c-4311-a952-c5f516967d90\",\"type\":\"LinearScale\"}},\"id\":\"a5095a50-3dc7-47e7-9970-0710619f0cfc\",\"subtype\":\"Figure\",\"type\":\"Plot\"},{\"attributes\":{},\"id\":\"bc26482b-def8-4506-a698-6e703ebb45df\",\"type\":\"ResetTool\"},{\"attributes\":{\"bottom_units\":\"screen\",\"fill_alpha\":{\"value\":0.5},\"fill_color\":{\"value\":\"lightgrey\"},\"left_units\":\"screen\",\"level\":\"overlay\",\"line_alpha\":{\"value\":1.0},\"line_color\":{\"value\":\"black\"},\"line_dash\":[4,4],\"line_width\":{\"value\":2},\"plot\":null,\"render_mode\":\"css\",\"right_units\":\"screen\",\"top_units\":\"screen\"},\"id\":\"2197229f-67ff-44ff-bfea-a9ff74592cf8\",\"type\":\"BoxAnnotation\"},{\"attributes\":{\"active_drag\":\"auto\",\"active_inspect\":\"auto\",\"active_scroll\":\"auto\",\"active_tap\":\"auto\",\"tools\":[{\"id\":\"25f00d62-4337-43d2-9026-b77b481bf7ee\",\"type\":\"PanTool\"},{\"id\":\"9d7ce7e6-44ad-413e-af8f-f2775add1cc0\",\"type\":\"WheelZoomTool\"},{\"id\":\"6f7e6723-95dc-4f69-a8a2-cac4ee13bbe8\",\"type\":\"BoxZoomTool\"},{\"id\":\"3d7c6e26-216e-4f8c-ac74-b3a4e92907d2\",\"type\":\"SaveTool\"},{\"id\":\"c6cf157f-a0ba-4a15-83ea-ebc186997c89\",\"type\":\"ResetTool\"},{\"id\":\"a9d824f2-a49a-46ef-8762-b20d19598425\",\"type\":\"HelpTool\"}]},\"id\":\"a43fdbaf-f33b-49a5-b437-df1f9d42da42\",\"type\":\"Toolbar\"},{\"attributes\":{\"line_alpha\":0.1,\"line_color\":\"#1f77b4\",\"line_dash\":[6],\"line_width\":5,\"x\":{\"field\":\"x\"},\"y\":{\"field\":\"y\"}},\"id\":\"f5b84ba2-cf8b-47fe-b94e-40b72236fe2e\",\"type\":\"Line\"},{\"attributes\":{\"overlay\":{\"id\":\"2197229f-67ff-44ff-bfea-a9ff74592cf8\",\"type\":\"BoxAnnotation\"}},\"id\":\"6f7e6723-95dc-4f69-a8a2-cac4ee13bbe8\",\"type\":\"BoxZoomTool\"},{\"attributes\":{\"dimension\":1,\"plot\":{\"id\":\"5b44a90c-e31e-492c-b03a-0293b3c09a85\",\"subtype\":\"Figure\",\"type\":\"Plot\"},\"ticker\":{\"id\":\"273e51bf-a10e-4fc9-af31-1205679477d6\",\"type\":\"LogTicker\"}},\"id\":\"4a168acd-32ba-4c78-ae70-050c8ed18929\",\"type\":\"Grid\"},{\"attributes\":{},\"id\":\"9d7ce7e6-44ad-413e-af8f-f2775add1cc0\",\"type\":\"WheelZoomTool\"},{\"attributes\":{\"line_alpha\":0.1,\"line_color\":\"#1f77b4\",\"line_dash\":[6],\"line_width\":5,\"x\":{\"field\":\"x\"},\"y\":{\"field\":\"y\"}},\"id\":\"83e9131e-880f-4f41-bc85-334b16b08887\",\"type\":\"Line\"},{\"attributes\":{},\"id\":\"90c77059-976a-45ed-a09d-1d5de611b12e\",\"type\":\"HelpTool\"},{\"attributes\":{\"below\":[{\"id\":\"89d294ba-4bed-4396-b256-4e8590c8b4f3\",\"type\":\"LinearAxis\"}],\"left\":[{\"id\":\"4758e139-fb00-4497-9db1-cb62f06b84d2\",\"type\":\"LogAxis\"}],\"plot_height\":500,\"plot_width\":560,\"renderers\":[{\"id\":\"89d294ba-4bed-4396-b256-4e8590c8b4f3\",\"type\":\"LinearAxis\"},{\"id\":\"89ca064d-9fd4-4428-a6e5-02777cbd4e56\",\"type\":\"Grid\"},{\"id\":\"4758e139-fb00-4497-9db1-cb62f06b84d2\",\"type\":\"LogAxis\"},{\"id\":\"4a168acd-32ba-4c78-ae70-050c8ed18929\",\"type\":\"Grid\"},{\"id\":\"43bce9df-f75c-443b-9c88-3e00e1aee7f1\",\"type\":\"BoxAnnotation\"},{\"id\":\"319d20dd-7d25-4f66-855a-9854f81391e5\",\"type\":\"GlyphRenderer\"},{\"id\":\"8c849aac-2922-4efa-921d-799c0f93070b\",\"type\":\"GlyphRenderer\"},{\"id\":\"0edb808f-0f2c-4524-b21e-a0e558d6508a\",\"type\":\"GlyphRenderer\"},{\"id\":\"85fcee6e-e244-4b16-8c6b-98185e73d69f\",\"type\":\"GlyphRenderer\"},{\"id\":\"8313338e-8dfd-4ec4-aad1-6ace3dfd17b1\",\"type\":\"GlyphRenderer\"},{\"id\":\"93c1f13e-5d15-461b-9b90-dec045711e12\",\"type\":\"Legend\"}],\"right\":[{\"id\":\"93c1f13e-5d15-461b-9b90-dec045711e12\",\"type\":\"Legend\"}],\"title\":{\"id\":\"946fa014-8a6a-4287-86fb-7d148a2356c9\",\"type\":\"Title\"},\"toolbar\":{\"id\":\"09a2121a-2c3e-4dec-b187-1bc193c41bf7\",\"type\":\"Toolbar\"},\"toolbar_location\":null,\"x_range\":{\"id\":\"f923a6ed-485b-43dd-9eae-2c327793ec61\",\"type\":\"Range1d\"},\"x_scale\":{\"id\":\"676afae9-6d1b-4e7d-bddc-a71b4e126f69\",\"type\":\"LinearScale\"},\"y_range\":{\"id\":\"69173617-186b-4cb4-8c20-c0112bcada98\",\"type\":\"Range1d\"},\"y_scale\":{\"id\":\"9c03011a-bc16-461d-8548-eb6246c1541b\",\"type\":\"LogScale\"}},\"id\":\"5b44a90c-e31e-492c-b03a-0293b3c09a85\",\"subtype\":\"Figure\",\"type\":\"Plot\"},{\"attributes\":{},\"id\":\"03f5c14e-3a3c-4262-8791-3511894b7d07\",\"type\":\"PanTool\"},{\"attributes\":{\"dimension\":1,\"plot\":{\"id\":\"a5095a50-3dc7-47e7-9970-0710619f0cfc\",\"subtype\":\"Figure\",\"type\":\"Plot\"},\"ticker\":{\"id\":\"6c834eca-c830-4595-9c10-7e5c92ceaed8\",\"type\":\"BasicTicker\"}},\"id\":\"65c43909-c76a-4b92-af76-2f698d318177\",\"type\":\"Grid\"},{\"attributes\":{\"callback\":null,\"end\":0.00719321346,\"start\":-0.00511064466},\"id\":\"acec52a8-f20a-49ab-bda0-95f138876665\",\"type\":\"Range1d\"},{\"attributes\":{},\"id\":\"c6cf157f-a0ba-4a15-83ea-ebc186997c89\",\"type\":\"ResetTool\"},{\"attributes\":{},\"id\":\"a9d824f2-a49a-46ef-8762-b20d19598425\",\"type\":\"HelpTool\"},{\"attributes\":{\"items\":[{\"id\":\"407a55d4-d407-41e9-989f-67d1605fd3eb\",\"type\":\"LegendItem\"},{\"id\":\"1f2a49a7-c1cf-4dd3-a4b7-0de56f3a6eaa\",\"type\":\"LegendItem\"},{\"id\":\"5e3d066a-62e5-4f33-aecc-35372b95ce1b\",\"type\":\"LegendItem\"}],\"label_text_font_size\":{\"value\":\"8pt\"},\"location\":[10,-30],\"plot\":{\"id\":\"5b44a90c-e31e-492c-b03a-0293b3c09a85\",\"subtype\":\"Figure\",\"type\":\"Plot\"}},\"id\":\"93c1f13e-5d15-461b-9b90-dec045711e12\",\"type\":\"Legend\"},{\"attributes\":{},\"id\":\"ccdee5fd-51df-429f-907d-d319e8bd6643\",\"type\":\"BasicTicker\"},{\"attributes\":{},\"id\":\"1c940c59-420b-4864-8015-bd5a1c62a59f\",\"type\":\"SaveTool\"},{\"attributes\":{\"plot\":null,\"text\":\"Linear pressure scale\"},\"id\":\"abf077e9-d172-49c7-a061-298acd0ed9f7\",\"type\":\"Title\"},{\"attributes\":{\"axis_label\":\"pressure [mb]\",\"formatter\":{\"id\":\"249964c2-6c7a-4d96-b06f-0a029e4d0c68\",\"type\":\"BasicTickFormatter\"},\"plot\":{\"id\":\"a5095a50-3dc7-47e7-9970-0710619f0cfc\",\"subtype\":\"Figure\",\"type\":\"Plot\"},\"ticker\":{\"id\":\"6c834eca-c830-4595-9c10-7e5c92ceaed8\",\"type\":\"BasicTicker\"}},\"id\":\"0ac0b8b1-79fb-4c73-9190-cd00e9e3d2ed\",\"type\":\"LinearAxis\"},{\"attributes\":{\"line_alpha\":0.1,\"line_color\":\"#1f77b4\",\"line_width\":1.5,\"x\":{\"field\":\"x\"},\"y\":{\"field\":\"y\"}},\"id\":\"425e60b2-545d-491b-ab43-154fbe424b5e\",\"type\":\"Line\"},{\"attributes\":{\"active_drag\":\"auto\",\"active_inspect\":\"auto\",\"active_scroll\":\"auto\",\"active_tap\":\"auto\",\"tools\":[{\"id\":\"03f5c14e-3a3c-4262-8791-3511894b7d07\",\"type\":\"PanTool\"},{\"id\":\"71c51343-dd5d-4a4c-89c2-cbc8932fa699\",\"type\":\"WheelZoomTool\"},{\"id\":\"f5d9eec6-3cea-4b56-b472-3f43b9c53553\",\"type\":\"BoxZoomTool\"},{\"id\":\"1c940c59-420b-4864-8015-bd5a1c62a59f\",\"type\":\"SaveTool\"},{\"id\":\"bc26482b-def8-4506-a698-6e703ebb45df\",\"type\":\"ResetTool\"},{\"id\":\"90c77059-976a-45ed-a09d-1d5de611b12e\",\"type\":\"HelpTool\"}]},\"id\":\"09a2121a-2c3e-4dec-b187-1bc193c41bf7\",\"type\":\"Toolbar\"},{\"attributes\":{\"data_source\":{\"id\":\"aa691d08-2049-4b71-9b25-047b63c2f648\",\"type\":\"ColumnDataSource\"},\"glyph\":{\"id\":\"3708130e-37c9-4db9-9128-426848602fe4\",\"type\":\"Line\"},\"hover_glyph\":null,\"muted_glyph\":null,\"nonselection_glyph\":{\"id\":\"f5b84ba2-cf8b-47fe-b94e-40b72236fe2e\",\"type\":\"Line\"},\"selection_glyph\":null,\"view\":{\"id\":\"5c17a8f2-1ae5-42fb-a6a7-e5fc03facca3\",\"type\":\"CDSView\"}},\"id\":\"319d20dd-7d25-4f66-855a-9854f81391e5\",\"type\":\"GlyphRenderer\"},{\"attributes\":{\"line_color\":\"#4daf4a\",\"line_width\":1.5,\"x\":{\"field\":\"x\"},\"y\":{\"field\":\"y\"}},\"id\":\"e92553ac-826c-4c2b-8165-65975a4f2e43\",\"type\":\"Line\"},{\"attributes\":{\"callback\":null,\"data\":{\"x\":{\"__ndarray__\":\"hzmVUYuWYr8SW/DUMoFiv5IaBu8MU2K/gC9CxtUgYr+t8ZfrdO1hv3e7ww4ouWG/wkc77AmEYb/5gOywY05hvyAHjtROF2G/6J1dklDgYL8fNV0Ad6hgv4Nsgxlmb2C/4UndXmo1YL+x29CdM+xfvwpOd/l6YF6/38UpYceyWb/Z5G1/x6RRv5f2MyLHkz2/Zx7IHs4ENT9uayhJoMdUPxM5i/pHz2M/YFRUceoZbz+f3LvxKr50P3FdcawkHXU/71Qt2v3ZcD8E6qCVM9BnP9sGNKjkgl0/kdYm74NrSz8Ogu/Xecn4PpWlwwk6I0a/GIvKeQuTVb9z+WvHT0lfv4Z/5CCgt2O/k3n7YlwZZ7/hieVGNGlqv7hEobKQqm2/X46dPqIMcL+27F37Ottwv24Wpf8CjHG/PD+ormz9cb/3/D+2xMRxv/XVtmHL5HC/yxcNAKmSb7+XbHSCwSttvxmp12uKoGq/jfVqTyv2Z7+I6lB+8DBlvyoWewyvVGK/K58ZkDrLXr8Pg59O985Yv2yh2Mh9xFK/4TxIlcxwSb/gjjRIF8k6vwsAh/QoTAa/oHN0H+gsNT+C10ul5ZVGP23LQ1B8T1E/U/ONU/FZVz+RyWWAZGpdP9CxRjBjwGE/mVxOQlfNZD/XFDIa7NtnP6N8CobP62o/1l7SPCr8bT/BzV6NHoVwPzYXE60pCHI/iyteEACBcz9rBhC0feV0P/A3BhdFLHY/boycy+1Tdz+vv7SGHGR4P+L4i6RXZnk/CMCH6Bphej88+YmGsld7P9r1z+6wS3w/\",\"dtype\":\"float64\",\"shape\":[75]},\"y\":{\"__ndarray__\":\"GhExyth1ND/Sv8nbtpRIP2vylNV0PVE/aTum7souWD/At0SJ8fVgPw3Iuahxymc/MSNhhJWvcD/bTfBN02d3P2zb5nxnaoA/CD5h5MAGhz8NmeH1TyaQP+zrCsc9p5Y/LbKd76fGnz/bLW5ISEmmPww9YvTcQq8/JV2OstnstT8Er5Y7M8G+P0c+r3jqkcU/5h99k6ZBzj88bCIzFzjVP4enV8oyxN0//yH99nXg5D8qOpLLf0jtP5kqGJXUifQ/c9cS8kHP/D+/DpwzojQEQIEmwoanVwxA4lgXt9HgE0BSSZ2AJuIbQAMJih9jjiNA5q4l5INuK0AwTKYKRj0zQNv5fmq8/DpAaCJseHrtQkB/+zpwzoxKQM3MzMzMeFJAZmZmZmZqWEAAAAAAAFxeQM3MzMzMJmJAmpmZmZkfZUBmZmZmZhhoQDMzMzMzEWtAAAAAAAAKbkBmZmZmZoFwQM3MzMzM/XFAMzMzMzN6c0CamZmZmfZ0QAAAAAAAc3ZAZmZmZmbvd0DNzMzMzGt5QDMzMzMz6HpAmpmZmZlkfEAAAAAAAOF9QGZmZmZmXX9AZmZmZuZsgECamZmZGSuBQM3MzMxM6YFAAAAAAICngkAzMzMzs2WDQGZmZmbmI4RAmpmZmRnihEDNzMzMTKCFQAAAAACAXoZAMzMzM7Mch0BmZmZm5tqHQJqZmZkZmYhAzczMzExXiUAAAAAAgBWKQDMzMzOz04pAZmZmZuaRi0CamZmZGVCMQM3MzMxMDo1AAAAAAIDMjUAzMzMzs4qOQGZmZmbmSI9A\",\"dtype\":\"float64\",\"shape\":[75]}},\"selected\":{\"id\":\"e711ab53-3e0a-44e0-ad66-334b9bf54c89\",\"type\":\"Selection\"},\"selection_policy\":{\"id\":\"7ce7b490-3e7d-4bd0-9995-11c75ebd384d\",\"type\":\"UnionRenderers\"}},\"id\":\"9cdf66d7-c88f-4305-a9f7-23502147e9b3\",\"type\":\"ColumnDataSource\"},{\"attributes\":{\"fill_alpha\":{\"value\":0.1},\"fill_color\":{\"value\":\"#1f77b4\"},\"line_alpha\":{\"value\":0.1},\"line_color\":{\"value\":\"#1f77b4\"},\"x\":{\"field\":\"x\"},\"y\":{\"field\":\"y\"}},\"id\":\"9d49c958-869b-49a5-a399-882c7d53f6b7\",\"type\":\"Circle\"},{\"attributes\":{\"source\":{\"id\":\"87160630-7f60-4653-9e62-37fb9e87b738\",\"type\":\"ColumnDataSource\"}},\"id\":\"2b0c7360-89de-43b9-a64a-97f8927d16d2\",\"type\":\"CDSView\"},{\"attributes\":{\"data_source\":{\"id\":\"a122d956-fd68-450b-a3b2-7feb34759625\",\"type\":\"ColumnDataSource\"},\"glyph\":{\"id\":\"79c4286d-028b-470e-8df2-6caa2c8f86bc\",\"type\":\"Line\"},\"hover_glyph\":null,\"muted_glyph\":null,\"nonselection_glyph\":{\"id\":\"204a1219-7cbb-4782-89ab-a173fb02545b\",\"type\":\"Line\"},\"selection_glyph\":null,\"view\":{\"id\":\"d870ead1-6a75-4215-b75b-b7d3008ad20c\",\"type\":\"CDSView\"}},\"id\":\"8313338e-8dfd-4ec4-aad1-6ace3dfd17b1\",\"type\":\"GlyphRenderer\"},{\"attributes\":{},\"id\":\"6c834eca-c830-4595-9c10-7e5c92ceaed8\",\"type\":\"BasicTicker\"},{\"attributes\":{\"line_color\":\"#4daf4a\",\"line_width\":1.5,\"x\":{\"field\":\"x\"},\"y\":{\"field\":\"y\"}},\"id\":\"84452645-08be-4595-9e14-59a31dc3255a\",\"type\":\"Line\"},{\"attributes\":{\"source\":{\"id\":\"73be5738-48bc-43f6-87ae-fb6484c0e6fd\",\"type\":\"ColumnDataSource\"}},\"id\":\"fd51e3a8-5139-4b4e-a7f7-b92086c4df0c\",\"type\":\"CDSView\"},{\"attributes\":{\"ticker\":null},\"id\":\"483ecafc-aad2-4d10-a40c-3a50f913893e\",\"type\":\"LogTickFormatter\"},{\"attributes\":{\"callback\":null,\"data\":{\"x\":{\"__ndarray__\":\"uocTvzqzcr/VKbiklqlyv+jMiNa7lHK/axAwuyp+cr/87qneEmdyv1FaUsp4T3K/QzKmmVw3cr/j7XH4vh5yv4d8Z2KgBXK/N9gJIwXscb8e0P+W89Fxv8ocrRxxt3G/rZvUTIWccb8CwF6NZn9xv5IZuwIiJHG/OBz2eKoOcL8mZOCzh1Nsv12oGzAYeGe/8W4zvU5vYb9mw/WDFQJUv4XoPlpwLR6/YmcnFyzbUz9rUuOE1vpjP3JbZHyN3WQ/wnsWnY/fWT8h2Nsqd5c9P8amZR+XF0O/qW8beaBWWL8xsD/m0lpiv/KtG/Bqkme/bZQTOwM0bL80NZFhqhxwv+TuX5jNlXG/idICXmSOcr9BIZNwR1Zzv/1pF9pP+3O/CL+IinVJdL8xm0oH7m50v9hLGOtpcHS/Ok2Tz3NPdL/TomD8K6Fzvw1Z7TqMa3K/dhYtX58Jcb+yGUD1mBNvv90ND1LRB2y/hk5oRoHtaL8SLp5hdeJlv3v+7LLcrGK/NDJTUA3YXr/Zm02EY09Yv8Kww+ETzlG/XERJsSFBR7/z+QW1bW80v1+SEdRx4RM/PbkKXbQfPj+4blHbXTFLP5yN3G3z01M/FDgdbQoXWj+p6i8FtSlgPzMF0zajQmM//u8oT4k9Zj9N5WFfumJpP7//xLzWe2w/WGfPOcWQbz8iqvKxwkNxPxKJ5X7ex3I/1l0DGJtBdD/qP2t+/KV1P0JBFlLY5nY/WCE3lPkGeD8ZzZbgVxt5P7LHucXrHno/88eNSsUZez8BXGYbswF8P0QxTDkl+Hw/\",\"dtype\":\"float64\",\"shape\":[75]},\"y\":{\"__ndarray__\":\"GhExyth1ND/Sv8nbtpRIP2vylNV0PVE/aTum7souWD/At0SJ8fVgPw3Iuahxymc/MSNhhJWvcD/bTfBN02d3P2zb5nxnaoA/CD5h5MAGhz8NmeH1TyaQP+zrCsc9p5Y/LbKd76fGnz/bLW5ISEmmPww9YvTcQq8/JV2OstnstT8Er5Y7M8G+P0c+r3jqkcU/5h99k6ZBzj88bCIzFzjVP4enV8oyxN0//yH99nXg5D8qOpLLf0jtP5kqGJXUifQ/c9cS8kHP/D+/DpwzojQEQIEmwoanVwxA4lgXt9HgE0BSSZ2AJuIbQAMJih9jjiNA5q4l5INuK0AwTKYKRj0zQNv5fmq8/DpAaCJseHrtQkB/+zpwzoxKQM3MzMzMeFJAZmZmZmZqWEAAAAAAAFxeQM3MzMzMJmJAmpmZmZkfZUBmZmZmZhhoQDMzMzMzEWtAAAAAAAAKbkBmZmZmZoFwQM3MzMzM/XFAMzMzMzN6c0CamZmZmfZ0QAAAAAAAc3ZAZmZmZmbvd0DNzMzMzGt5QDMzMzMz6HpAmpmZmZlkfEAAAAAAAOF9QGZmZmZmXX9AZmZmZuZsgECamZmZGSuBQM3MzMxM6YFAAAAAAICngkAzMzMzs2WDQGZmZmbmI4RAmpmZmRnihEDNzMzMTKCFQAAAAACAXoZAMzMzM7Mch0BmZmZm5tqHQJqZmZkZmYhAzczMzExXiUAAAAAAgBWKQDMzMzOz04pAZmZmZuaRi0CamZmZGVCMQM3MzMxMDo1AAAAAAIDMjUAzMzMzs4qOQGZmZmbmSI9A\",\"dtype\":\"float64\",\"shape\":[75]}},\"selected\":{\"id\":\"51883893-7af3-410f-9ca9-efd26792a45c\",\"type\":\"Selection\"},\"selection_policy\":{\"id\":\"3d387ee5-59dc-4c29-b17e-e8c5c54cdd58\",\"type\":\"UnionRenderers\"}},\"id\":\"f15c5d07-8a1e-4afc-b20e-d240df41e6b9\",\"type\":\"ColumnDataSource\"},{\"attributes\":{\"source\":{\"id\":\"1055af50-3c7a-4148-824b-62ad8c436ab6\",\"type\":\"ColumnDataSource\"}},\"id\":\"ff37d671-bc53-4197-8c7f-1cfeab3ae72d\",\"type\":\"CDSView\"},{\"attributes\":{\"fill_alpha\":{\"value\":0.7},\"fill_color\":{\"value\":\"#4daf4a\"},\"line_alpha\":{\"value\":0.7},\"line_color\":{\"value\":\"#4daf4a\"},\"x\":{\"field\":\"x\"},\"y\":{\"field\":\"y\"}},\"id\":\"858b52be-766c-4d31-b28b-db772b7f4f09\",\"type\":\"Circle\"},{\"attributes\":{\"source\":{\"id\":\"aa691d08-2049-4b71-9b25-047b63c2f648\",\"type\":\"ColumnDataSource\"}},\"id\":\"5c17a8f2-1ae5-42fb-a6a7-e5fc03facca3\",\"type\":\"CDSView\"},{\"attributes\":{\"callback\":null,\"data\":{\"x\":{\"__ndarray__\":\"uocTvzqzcr/VKbiklqlyv+jMiNa7lHK/axAwuyp+cr/87qneEmdyv1FaUsp4T3K/QzKmmVw3cr/j7XH4vh5yv4d8Z2KgBXK/N9gJIwXscb8e0P+W89Fxv8ocrRxxt3G/rZvUTIWccb8CwF6NZn9xv5IZuwIiJHG/OBz2eKoOcL8mZOCzh1Nsv12oGzAYeGe/8W4zvU5vYb9mw/WDFQJUv4XoPlpwLR6/YmcnFyzbUz9rUuOE1vpjP3JbZHyN3WQ/wnsWnY/fWT8h2Nsqd5c9P8amZR+XF0O/qW8beaBWWL8xsD/m0lpiv/KtG/Bqkme/bZQTOwM0bL80NZFhqhxwv+TuX5jNlXG/idICXmSOcr9BIZNwR1Zzv/1pF9pP+3O/CL+IinVJdL8xm0oH7m50v9hLGOtpcHS/Ok2Tz3NPdL/TomD8K6Fzvw1Z7TqMa3K/dhYtX58Jcb+yGUD1mBNvv90ND1LRB2y/hk5oRoHtaL8SLp5hdeJlv3v+7LLcrGK/NDJTUA3YXr/Zm02EY09Yv8Kww+ETzlG/XERJsSFBR7/z+QW1bW80v1+SEdRx4RM/PbkKXbQfPj+4blHbXTFLP5yN3G3z01M/FDgdbQoXWj+p6i8FtSlgPzMF0zajQmM//u8oT4k9Zj9N5WFfumJpP7//xLzWe2w/WGfPOcWQbz8iqvKxwkNxPxKJ5X7ex3I/1l0DGJtBdD/qP2t+/KV1P0JBFlLY5nY/WCE3lPkGeD8ZzZbgVxt5P7LHucXrHno/88eNSsUZez8BXGYbswF8P0QxTDkl+Hw/\",\"dtype\":\"float64\",\"shape\":[75]},\"y\":{\"__ndarray__\":\"GhExyth1ND/Sv8nbtpRIP2vylNV0PVE/aTum7souWD/At0SJ8fVgPw3Iuahxymc/MSNhhJWvcD/bTfBN02d3P2zb5nxnaoA/CD5h5MAGhz8NmeH1TyaQP+zrCsc9p5Y/LbKd76fGnz/bLW5ISEmmPww9YvTcQq8/JV2OstnstT8Er5Y7M8G+P0c+r3jqkcU/5h99k6ZBzj88bCIzFzjVP4enV8oyxN0//yH99nXg5D8qOpLLf0jtP5kqGJXUifQ/c9cS8kHP/D+/DpwzojQEQIEmwoanVwxA4lgXt9HgE0BSSZ2AJuIbQAMJih9jjiNA5q4l5INuK0AwTKYKRj0zQNv5fmq8/DpAaCJseHrtQkB/+zpwzoxKQM3MzMzMeFJAZmZmZmZqWEAAAAAAAFxeQM3MzMzMJmJAmpmZmZkfZUBmZmZmZhhoQDMzMzMzEWtAAAAAAAAKbkBmZmZmZoFwQM3MzMzM/XFAMzMzMzN6c0CamZmZmfZ0QAAAAAAAc3ZAZmZmZmbvd0DNzMzMzGt5QDMzMzMz6HpAmpmZmZlkfEAAAAAAAOF9QGZmZmZmXX9AZmZmZuZsgECamZmZGSuBQM3MzMxM6YFAAAAAAICngkAzMzMzs2WDQGZmZmbmI4RAmpmZmRnihEDNzMzMTKCFQAAAAACAXoZAMzMzM7Mch0BmZmZm5tqHQJqZmZkZmYhAzczMzExXiUAAAAAAgBWKQDMzMzOz04pAZmZmZuaRi0CamZmZGVCMQM3MzMxMDo1AAAAAAIDMjUAzMzMzs4qOQGZmZmbmSI9A\",\"dtype\":\"float64\",\"shape\":[75]}},\"selected\":{\"id\":\"4a81816c-2591-4679-9426-8d8bdd195bda\",\"type\":\"Selection\"},\"selection_policy\":{\"id\":\"b75468ca-29d1-4605-8428-cf4f349ca8d1\",\"type\":\"UnionRenderers\"}},\"id\":\"cfbf730b-f8b4-4679-b6ca-85df9c8fda55\",\"type\":\"ColumnDataSource\"},{\"attributes\":{\"callback\":null,\"data\":{\"x\":{\"__ndarray__\":\"hzmVUYuWYr8SW/DUMoFiv5IaBu8MU2K/gC9CxtUgYr+t8ZfrdO1hv3e7ww4ouWG/wkc77AmEYb/5gOywY05hvyAHjtROF2G/6J1dklDgYL8fNV0Ad6hgv4Nsgxlmb2C/4UndXmo1YL+x29CdM+xfvwpOd/l6YF6/38UpYceyWb/Z5G1/x6RRv5f2MyLHkz2/Zx7IHs4ENT9uayhJoMdUPxM5i/pHz2M/YFRUceoZbz+f3LvxKr50P3FdcawkHXU/71Qt2v3ZcD8E6qCVM9BnP9sGNKjkgl0/kdYm74NrSz8Ogu/Xecn4PpWlwwk6I0a/GIvKeQuTVb9z+WvHT0lfv4Z/5CCgt2O/k3n7YlwZZ7/hieVGNGlqv7hEobKQqm2/X46dPqIMcL+27F37Ottwv24Wpf8CjHG/PD+ormz9cb/3/D+2xMRxv/XVtmHL5HC/yxcNAKmSb7+XbHSCwSttvxmp12uKoGq/jfVqTyv2Z7+I6lB+8DBlvyoWewyvVGK/K58ZkDrLXr8Pg59O985Yv2yh2Mh9xFK/4TxIlcxwSb/gjjRIF8k6vwsAh/QoTAa/oHN0H+gsNT+C10ul5ZVGP23LQ1B8T1E/U/ONU/FZVz+RyWWAZGpdP9CxRjBjwGE/mVxOQlfNZD/XFDIa7NtnP6N8CobP62o/1l7SPCr8bT/BzV6NHoVwPzYXE60pCHI/iyteEACBcz9rBhC0feV0P/A3BhdFLHY/boycy+1Tdz+vv7SGHGR4P+L4i6RXZnk/CMCH6Bphej88+YmGsld7P9r1z+6wS3w/\",\"dtype\":\"float64\",\"shape\":[75]},\"y\":{\"__ndarray__\":\"GhExyth1ND/Sv8nbtpRIP2vylNV0PVE/aTum7souWD/At0SJ8fVgPw3Iuahxymc/MSNhhJWvcD/bTfBN02d3P2zb5nxnaoA/CD5h5MAGhz8NmeH1TyaQP+zrCsc9p5Y/LbKd76fGnz/bLW5ISEmmPww9YvTcQq8/JV2OstnstT8Er5Y7M8G+P0c+r3jqkcU/5h99k6ZBzj88bCIzFzjVP4enV8oyxN0//yH99nXg5D8qOpLLf0jtP5kqGJXUifQ/c9cS8kHP/D+/DpwzojQEQIEmwoanVwxA4lgXt9HgE0BSSZ2AJuIbQAMJih9jjiNA5q4l5INuK0AwTKYKRj0zQNv5fmq8/DpAaCJseHrtQkB/+zpwzoxKQM3MzMzMeFJAZmZmZmZqWEAAAAAAAFxeQM3MzMzMJmJAmpmZmZkfZUBmZmZmZhhoQDMzMzMzEWtAAAAAAAAKbkBmZmZmZoFwQM3MzMzM/XFAMzMzMzN6c0CamZmZmfZ0QAAAAAAAc3ZAZmZmZmbvd0DNzMzMzGt5QDMzMzMz6HpAmpmZmZlkfEAAAAAAAOF9QGZmZmZmXX9AZmZmZuZsgECamZmZGSuBQM3MzMxM6YFAAAAAAICngkAzMzMzs2WDQGZmZmbmI4RAmpmZmRnihEDNzMzMTKCFQAAAAACAXoZAMzMzM7Mch0BmZmZm5tqHQJqZmZkZmYhAzczMzExXiUAAAAAAgBWKQDMzMzOz04pAZmZmZuaRi0CamZmZGVCMQM3MzMxMDo1AAAAAAIDMjUAzMzMzs4qOQGZmZmbmSI9A\",\"dtype\":\"float64\",\"shape\":[75]}},\"selected\":{\"id\":\"3530e512-e1a2-43fe-a2da-f47de87fd320\",\"type\":\"Selection\"},\"selection_policy\":{\"id\":\"5a2ce5f4-87ed-417b-bf0e-8707e2659830\",\"type\":\"UnionRenderers\"}},\"id\":\"87160630-7f60-4653-9e62-37fb9e87b738\",\"type\":\"ColumnDataSource\"},{\"attributes\":{\"data_source\":{\"id\":\"87160630-7f60-4653-9e62-37fb9e87b738\",\"type\":\"ColumnDataSource\"},\"glyph\":{\"id\":\"858b52be-766c-4d31-b28b-db772b7f4f09\",\"type\":\"Circle\"},\"hover_glyph\":null,\"muted_glyph\":null,\"nonselection_glyph\":{\"id\":\"9d49c958-869b-49a5-a399-882c7d53f6b7\",\"type\":\"Circle\"},\"selection_glyph\":null,\"view\":{\"id\":\"2b0c7360-89de-43b9-a64a-97f8927d16d2\",\"type\":\"CDSView\"}},\"id\":\"8c849aac-2922-4efa-921d-799c0f93070b\",\"type\":\"GlyphRenderer\"},{\"attributes\":{},\"id\":\"91089dd9-9c60-4717-810a-496c7413d50f\",\"type\":\"UnionRenderers\"},{\"attributes\":{\"data_source\":{\"id\":\"9cdf66d7-c88f-4305-a9f7-23502147e9b3\",\"type\":\"ColumnDataSource\"},\"glyph\":{\"id\":\"e92553ac-826c-4c2b-8165-65975a4f2e43\",\"type\":\"Line\"},\"hover_glyph\":null,\"muted_glyph\":null,\"nonselection_glyph\":{\"id\":\"425e60b2-545d-491b-ab43-154fbe424b5e\",\"type\":\"Line\"},\"selection_glyph\":null,\"view\":{\"id\":\"abd6fee5-9e1d-4ba0-a14e-9c90d505f22f\",\"type\":\"CDSView\"}},\"id\":\"0edb808f-0f2c-4524-b21e-a0e558d6508a\",\"type\":\"GlyphRenderer\"},{\"attributes\":{\"source\":{\"id\":\"9cdf66d7-c88f-4305-a9f7-23502147e9b3\",\"type\":\"ColumnDataSource\"}},\"id\":\"abd6fee5-9e1d-4ba0-a14e-9c90d505f22f\",\"type\":\"CDSView\"},{\"attributes\":{\"fill_alpha\":{\"value\":0.7},\"fill_color\":{\"value\":\"#984ea3\"},\"line_alpha\":{\"value\":0.7},\"line_color\":{\"value\":\"#984ea3\"},\"x\":{\"field\":\"x\"},\"y\":{\"field\":\"y\"}},\"id\":\"60012be7-11da-453d-b976-f9e57cab24b2\",\"type\":\"Square\"},{\"attributes\":{\"children\":[{\"id\":\"4afd15fb-5f88-4fbc-a390-dc10a1153ba4\",\"type\":\"Row\"}]},\"id\":\"d5859e6a-81aa-4cde-9c66-44762a114486\",\"type\":\"Column\"},{\"attributes\":{\"line_alpha\":0.1,\"line_color\":\"#1f77b4\",\"line_width\":3,\"x\":{\"field\":\"x\"},\"y\":{\"field\":\"y\"}},\"id\":\"204a1219-7cbb-4782-89ab-a173fb02545b\",\"type\":\"Line\"},{\"attributes\":{\"source\":{\"id\":\"a122d956-fd68-450b-a3b2-7feb34759625\",\"type\":\"ColumnDataSource\"}},\"id\":\"d870ead1-6a75-4215-b75b-b7d3008ad20c\",\"type\":\"CDSView\"},{\"attributes\":{\"children\":[{\"id\":\"a5095a50-3dc7-47e7-9970-0710619f0cfc\",\"subtype\":\"Figure\",\"type\":\"Plot\"},{\"id\":\"5b44a90c-e31e-492c-b03a-0293b3c09a85\",\"subtype\":\"Figure\",\"type\":\"Plot\"}]},\"id\":\"4afd15fb-5f88-4fbc-a390-dc10a1153ba4\",\"type\":\"Row\"},{\"attributes\":{\"label\":{\"value\":\"CLIRAD `coolr_bands`\"},\"renderers\":[{\"id\":\"319d20dd-7d25-4f66-855a-9854f81391e5\",\"type\":\"GlyphRenderer\"}]},\"id\":\"407a55d4-d407-41e9-989f-67d1605fd3eb\",\"type\":\"LegendItem\"},{\"attributes\":{},\"id\":\"249964c2-6c7a-4d96-b06f-0a029e4d0c68\",\"type\":\"BasicTickFormatter\"},{\"attributes\":{\"line_alpha\":0.1,\"line_color\":\"#1f77b4\",\"line_width\":1.5,\"x\":{\"field\":\"x\"},\"y\":{\"field\":\"y\"}},\"id\":\"b12aaca1-2e97-4cae-b5c3-9a3ee4acd342\",\"type\":\"Line\"},{\"attributes\":{\"fill_alpha\":{\"value\":0.1},\"fill_color\":{\"value\":\"#1f77b4\"},\"line_alpha\":{\"value\":0.1},\"line_color\":{\"value\":\"#1f77b4\"},\"x\":{\"field\":\"x\"},\"y\":{\"field\":\"y\"}},\"id\":\"96a8cf91-3abf-4ab9-86cf-62eeafde5058\",\"type\":\"Circle\"},{\"attributes\":{\"label\":{\"value\":\"CRD\"},\"renderers\":[{\"id\":\"8c849aac-2922-4efa-921d-799c0f93070b\",\"type\":\"GlyphRenderer\"},{\"id\":\"0edb808f-0f2c-4524-b21e-a0e558d6508a\",\"type\":\"GlyphRenderer\"}]},\"id\":\"1f2a49a7-c1cf-4dd3-a4b7-0de56f3a6eaa\",\"type\":\"LegendItem\"},{\"attributes\":{\"line_alpha\":0.1,\"line_color\":\"#1f77b4\",\"line_width\":3,\"x\":{\"field\":\"x\"},\"y\":{\"field\":\"y\"}},\"id\":\"c38b905a-4568-435e-a687-dbb0fe72358c\",\"type\":\"Line\"},{\"attributes\":{},\"id\":\"8a3a1061-2b8d-4139-b216-b3c0dc1a4b63\",\"type\":\"Selection\"},{\"attributes\":{\"data_source\":{\"id\":\"73be5738-48bc-43f6-87ae-fb6484c0e6fd\",\"type\":\"ColumnDataSource\"},\"glyph\":{\"id\":\"5f19c769-557e-49ba-9b47-b1554352ed98\",\"type\":\"Line\"},\"hover_glyph\":null,\"muted_glyph\":null,\"nonselection_glyph\":{\"id\":\"c38b905a-4568-435e-a687-dbb0fe72358c\",\"type\":\"Line\"},\"selection_glyph\":null,\"view\":{\"id\":\"fd51e3a8-5139-4b4e-a7f7-b92086c4df0c\",\"type\":\"CDSView\"}},\"id\":\"0ac059aa-6d26-4cab-bc6f-97eb1c71a233\",\"type\":\"GlyphRenderer\"},{\"attributes\":{\"label\":{\"value\":\"WGT igg=10 wgt_flux=2\"},\"renderers\":[{\"id\":\"85fcee6e-e244-4b16-8c6b-98185e73d69f\",\"type\":\"GlyphRenderer\"},{\"id\":\"8313338e-8dfd-4ec4-aad1-6ace3dfd17b1\",\"type\":\"GlyphRenderer\"}]},\"id\":\"5e3d066a-62e5-4f33-aecc-35372b95ce1b\",\"type\":\"LegendItem\"},{\"attributes\":{\"callback\":null,\"data\":{\"x\":{\"__ndarray__\":\"hzmVUYuWYr8SW/DUMoFiv5IaBu8MU2K/gC9CxtUgYr+t8ZfrdO1hv3e7ww4ouWG/wkc77AmEYb/5gOywY05hvyAHjtROF2G/6J1dklDgYL8fNV0Ad6hgv4Nsgxlmb2C/4UndXmo1YL+x29CdM+xfvwpOd/l6YF6/38UpYceyWb/Z5G1/x6RRv5f2MyLHkz2/Zx7IHs4ENT9uayhJoMdUPxM5i/pHz2M/YFRUceoZbz+f3LvxKr50P3FdcawkHXU/71Qt2v3ZcD8E6qCVM9BnP9sGNKjkgl0/kdYm74NrSz8Ogu/Xecn4PpWlwwk6I0a/GIvKeQuTVb9z+WvHT0lfv4Z/5CCgt2O/k3n7YlwZZ7/hieVGNGlqv7hEobKQqm2/X46dPqIMcL+27F37Ottwv24Wpf8CjHG/PD+ormz9cb/3/D+2xMRxv/XVtmHL5HC/yxcNAKmSb7+XbHSCwSttvxmp12uKoGq/jfVqTyv2Z7+I6lB+8DBlvyoWewyvVGK/K58ZkDrLXr8Pg59O985Yv2yh2Mh9xFK/4TxIlcxwSb/gjjRIF8k6vwsAh/QoTAa/oHN0H+gsNT+C10ul5ZVGP23LQ1B8T1E/U/ONU/FZVz+RyWWAZGpdP9CxRjBjwGE/mVxOQlfNZD/XFDIa7NtnP6N8CobP62o/1l7SPCr8bT/BzV6NHoVwPzYXE60pCHI/iyteEACBcz9rBhC0feV0P/A3BhdFLHY/boycy+1Tdz+vv7SGHGR4P+L4i6RXZnk/CMCH6Bphej88+YmGsld7P9r1z+6wS3w/\",\"dtype\":\"float64\",\"shape\":[75]},\"y\":{\"__ndarray__\":\"GhExyth1ND/Sv8nbtpRIP2vylNV0PVE/aTum7souWD/At0SJ8fVgPw3Iuahxymc/MSNhhJWvcD/bTfBN02d3P2zb5nxnaoA/CD5h5MAGhz8NmeH1TyaQP+zrCsc9p5Y/LbKd76fGnz/bLW5ISEmmPww9YvTcQq8/JV2OstnstT8Er5Y7M8G+P0c+r3jqkcU/5h99k6ZBzj88bCIzFzjVP4enV8oyxN0//yH99nXg5D8qOpLLf0jtP5kqGJXUifQ/c9cS8kHP/D+/DpwzojQEQIEmwoanVwxA4lgXt9HgE0BSSZ2AJuIbQAMJih9jjiNA5q4l5INuK0AwTKYKRj0zQNv5fmq8/DpAaCJseHrtQkB/+zpwzoxKQM3MzMzMeFJAZmZmZmZqWEAAAAAAAFxeQM3MzMzMJmJAmpmZmZkfZUBmZmZmZhhoQDMzMzMzEWtAAAAAAAAKbkBmZmZmZoFwQM3MzMzM/XFAMzMzMzN6c0CamZmZmfZ0QAAAAAAAc3ZAZmZmZmbvd0DNzMzMzGt5QDMzMzMz6HpAmpmZmZlkfEAAAAAAAOF9QGZmZmZmXX9AZmZmZuZsgECamZmZGSuBQM3MzMxM6YFAAAAAAICngkAzMzMzs2WDQGZmZmbmI4RAmpmZmRnihEDNzMzMTKCFQAAAAACAXoZAMzMzM7Mch0BmZmZm5tqHQJqZmZkZmYhAzczMzExXiUAAAAAAgBWKQDMzMzOz04pAZmZmZuaRi0CamZmZGVCMQM3MzMxMDo1AAAAAAIDMjUAzMzMzs4qOQGZmZmbmSI9A\",\"dtype\":\"float64\",\"shape\":[75]}},\"selected\":{\"id\":\"2ab0148c-9399-4cb0-8272-92f3c4197f01\",\"type\":\"Selection\"},\"selection_policy\":{\"id\":\"6dabbf98-91f3-433d-88eb-6aba8c253957\",\"type\":\"UnionRenderers\"}},\"id\":\"106c9bd1-fd20-49fa-bc6a-fc20bb99b992\",\"type\":\"ColumnDataSource\"},{\"attributes\":{},\"id\":\"6dabbf98-91f3-433d-88eb-6aba8c253957\",\"type\":\"UnionRenderers\"},{\"attributes\":{\"plot\":null,\"text\":\"Log pressure scale\"},\"id\":\"946fa014-8a6a-4287-86fb-7d148a2356c9\",\"type\":\"Title\"},{\"attributes\":{},\"id\":\"f09abc30-03d3-41d6-80c9-7060e7baaca9\",\"type\":\"BasicTickFormatter\"},{\"attributes\":{},\"id\":\"2ab0148c-9399-4cb0-8272-92f3c4197f01\",\"type\":\"Selection\"},{\"attributes\":{},\"id\":\"d31ccd09-0042-4731-b02d-1091f5fce46e\",\"type\":\"Selection\"},{\"attributes\":{\"source\":{\"id\":\"77a83ea8-6557-4099-a656-65287f45a251\",\"type\":\"ColumnDataSource\"}},\"id\":\"6b252f7a-b51b-406b-9191-109cdb1a2162\",\"type\":\"CDSView\"},{\"attributes\":{},\"id\":\"b01ae5f7-222a-4c68-9084-7d077fa614ab\",\"type\":\"UnionRenderers\"},{\"attributes\":{},\"id\":\"22423dfa-ff3f-4afe-9ed6-9cfc5bcdb452\",\"type\":\"Selection\"},{\"attributes\":{\"callback\":null,\"data\":{\"x\":{\"__ndarray__\":\"uocTvzqzcr/VKbiklqlyv+jMiNa7lHK/axAwuyp+cr/87qneEmdyv1FaUsp4T3K/QzKmmVw3cr/j7XH4vh5yv4d8Z2KgBXK/N9gJIwXscb8e0P+W89Fxv8ocrRxxt3G/rZvUTIWccb8CwF6NZn9xv5IZuwIiJHG/OBz2eKoOcL8mZOCzh1Nsv12oGzAYeGe/8W4zvU5vYb9mw/WDFQJUv4XoPlpwLR6/YmcnFyzbUz9rUuOE1vpjP3JbZHyN3WQ/wnsWnY/fWT8h2Nsqd5c9P8amZR+XF0O/qW8beaBWWL8xsD/m0lpiv/KtG/Bqkme/bZQTOwM0bL80NZFhqhxwv+TuX5jNlXG/idICXmSOcr9BIZNwR1Zzv/1pF9pP+3O/CL+IinVJdL8xm0oH7m50v9hLGOtpcHS/Ok2Tz3NPdL/TomD8K6Fzvw1Z7TqMa3K/dhYtX58Jcb+yGUD1mBNvv90ND1LRB2y/hk5oRoHtaL8SLp5hdeJlv3v+7LLcrGK/NDJTUA3YXr/Zm02EY09Yv8Kww+ETzlG/XERJsSFBR7/z+QW1bW80v1+SEdRx4RM/PbkKXbQfPj+4blHbXTFLP5yN3G3z01M/FDgdbQoXWj+p6i8FtSlgPzMF0zajQmM//u8oT4k9Zj9N5WFfumJpP7//xLzWe2w/WGfPOcWQbz8iqvKxwkNxPxKJ5X7ex3I/1l0DGJtBdD/qP2t+/KV1P0JBFlLY5nY/WCE3lPkGeD8ZzZbgVxt5P7LHucXrHno/88eNSsUZez8BXGYbswF8P0QxTDkl+Hw/\",\"dtype\":\"float64\",\"shape\":[75]},\"y\":{\"__ndarray__\":\"GhExyth1ND/Sv8nbtpRIP2vylNV0PVE/aTum7souWD/At0SJ8fVgPw3Iuahxymc/MSNhhJWvcD/bTfBN02d3P2zb5nxnaoA/CD5h5MAGhz8NmeH1TyaQP+zrCsc9p5Y/LbKd76fGnz/bLW5ISEmmPww9YvTcQq8/JV2OstnstT8Er5Y7M8G+P0c+r3jqkcU/5h99k6ZBzj88bCIzFzjVP4enV8oyxN0//yH99nXg5D8qOpLLf0jtP5kqGJXUifQ/c9cS8kHP/D+/DpwzojQEQIEmwoanVwxA4lgXt9HgE0BSSZ2AJuIbQAMJih9jjiNA5q4l5INuK0AwTKYKRj0zQNv5fmq8/DpAaCJseHrtQkB/+zpwzoxKQM3MzMzMeFJAZmZmZmZqWEAAAAAAAFxeQM3MzMzMJmJAmpmZmZkfZUBmZmZmZhhoQDMzMzMzEWtAAAAAAAAKbkBmZmZmZoFwQM3MzMzM/XFAMzMzMzN6c0CamZmZmfZ0QAAAAAAAc3ZAZmZmZmbvd0DNzMzMzGt5QDMzMzMz6HpAmpmZmZlkfEAAAAAAAOF9QGZmZmZmXX9AZmZmZuZsgECamZmZGSuBQM3MzMxM6YFAAAAAAICngkAzMzMzs2WDQGZmZmbmI4RAmpmZmRnihEDNzMzMTKCFQAAAAACAXoZAMzMzM7Mch0BmZmZm5tqHQJqZmZkZmYhAzczMzExXiUAAAAAAgBWKQDMzMzOz04pAZmZmZuaRi0CamZmZGVCMQM3MzMxMDo1AAAAAAIDMjUAzMzMzs4qOQGZmZmbmSI9A\",\"dtype\":\"float64\",\"shape\":[75]}},\"selected\":{\"id\":\"6230b00e-580f-4b05-9ce2-8824354343ec\",\"type\":\"Selection\"},\"selection_policy\":{\"id\":\"1ccc8528-03bd-4537-ae46-6a729116d250\",\"type\":\"UnionRenderers\"}},\"id\":\"73be5738-48bc-43f6-87ae-fb6484c0e6fd\",\"type\":\"ColumnDataSource\"},{\"attributes\":{},\"id\":\"51883893-7af3-410f-9ca9-efd26792a45c\",\"type\":\"Selection\"},{\"attributes\":{},\"id\":\"3d387ee5-59dc-4c29-b17e-e8c5c54cdd58\",\"type\":\"UnionRenderers\"},{\"attributes\":{},\"id\":\"34b73e12-da37-49b7-8a3a-e9965b47861d\",\"type\":\"BasicTickFormatter\"},{\"attributes\":{\"callback\":null,\"data\":{\"x\":{\"__ndarray__\":\"GJvwcFYbc7+DfrE+b/hyv4xEwwat/nK/M3Emwzzmcr8xLZHblMpyv4menHE2rnK/ZJUAI4mRcr9MTE7nLnRyv7UR0D9oVnK/+XCDeCE4cr/3NpU/OhlyvzqmZSLw+XG/48r2bNjZcb8OFl4iT7Rxv+Q2W27pR3G/7NPLGv4UcL+8fWbpey9sv+ys2XRLRWe/zymKkChfYb/n7jNhDa1Uv4K1UZIYHzC/1bqbQPHNTj8zLngvgHJgP2Me2ggCK2E/i8p45m19VD9gIvHjM/QwP+zZR1PFe0W/kCdmUaHAV7+tFfxdsEBhv3bjgo8fs2W/esuvf4uQab+CANqME+Nsv+gEmvN/U2+/2aSYiKJ8cL/5hDlw+Cxxv7wHf7YCwHG/2fJxPW8Ccr86WGo6FQlyvxPJ4obwC3K/SS24yabocb8+OVp7/kBxvzG/QydFGHC/6SNmujuZbb9gGeEOUPFqvz6hUvnbPWi/qJHYnY6BZb9zbJH5pr5iv0mFSH2G7V+/gvNO80FXWr9MCALWPcFUv93mWCy5ZU6/vi6WQNprQ79n9awm5zMxv70o9kgTcRA/01dQNfgwOT/vcjJirA1HPw472bPKuFA/QnEP38zjVT8DiPAjxghbP9CsukChFGA/pzlCVe+hYj+dIkbaDSxlP04ave76smc//586Qvw2aj/fOh8XfrRsP5ZAChpTKW8/NZVSixnFcD/LFMo1UuVxP6zr4PiL7XI/U7czCy3dcz/d5XksEbp0P5xaxiZqi3U/l4ZyhghWdj+Ls+W9ahx3P+hEVAO633c/\",\"dtype\":\"float64\",\"shape\":[75]},\"y\":{\"__ndarray__\":\"S/O/Q+51ND/Sv8nbtpRIP2vylNV0PVE/aTum7souWD/At0SJ8fVgPw3Iuahxymc/MSNhhJWvcD/bTfBN02d3P2zb5nxnaoA/CD5h5MAGhz8NmeH1TyaQP+zrCsc9p5Y/LbKd76fGnz/bLW5ISEmmPww9YvTcQq8/JV2OstnstT8Er5Y7M8G+P0c+r3jqkcU/5h99k6ZBzj88bCIzFzjVP4enV8oyxN0//yH99nXg5D8qOpLLf0jtP5kqGJXUifQ/c9cS8kHP/D+/DpwzojQEQIEmwoanVwxA4lgXt9HgE0BSSZ2AJuIbQAMJih9jjiNA5q4l5INuK0AwTKYKRj0zQNv5fmq8/DpAaCJseHrtQkB/+zpwzoxKQM3MzMzMeFJAZmZmZmZqWEAAAAAAAFxeQM3MzMzMJmJAmpmZmZkfZUBmZmZmZhhoQDMzMzMzEWtAAAAAAAAKbkBmZmZmZoFwQM3MzMzM/XFAMzMzMzN6c0CamZmZmfZ0QAAAAAAAc3ZAZmZmZmbvd0DNzMzMzGt5QDMzMzMz6HpAmpmZmZlkfEAAAAAAAOF9QGZmZmZmXX9AZmZmZuZsgECamZmZGSuBQM3MzMxM6YFAAAAAAICngkAzMzMzs2WDQGZmZmbmI4RAmpmZmRnihEDNzMzMTKCFQAAAAACAXoZAMzMzM7Mch0BmZmZm5tqHQJqZmZkZmYhAzczMzExXiUAAAAAAgBWKQDMzMzOz04pAZmZmZuaRi0CamZmZGVCMQM3MzMxMDo1AAAAAAIDMjUAzMzMzs4qOQGZmZmbmSI9A\",\"dtype\":\"float64\",\"shape\":[75]}},\"selected\":{\"id\":\"8a3a1061-2b8d-4139-b216-b3c0dc1a4b63\",\"type\":\"Selection\"},\"selection_policy\":{\"id\":\"e2a46868-c2ab-4034-be65-47f9ea83ee69\",\"type\":\"UnionRenderers\"}},\"id\":\"aa691d08-2049-4b71-9b25-047b63c2f648\",\"type\":\"ColumnDataSource\"},{\"attributes\":{},\"id\":\"e2a46868-c2ab-4034-be65-47f9ea83ee69\",\"type\":\"UnionRenderers\"},{\"attributes\":{},\"id\":\"6230b00e-580f-4b05-9ce2-8824354343ec\",\"type\":\"Selection\"},{\"attributes\":{},\"id\":\"1ccc8528-03bd-4537-ae46-6a729116d250\",\"type\":\"UnionRenderers\"},{\"attributes\":{\"line_alpha\":0.6,\"line_color\":\"#984ea3\",\"line_width\":3,\"x\":{\"field\":\"x\"},\"y\":{\"field\":\"y\"}},\"id\":\"5f19c769-557e-49ba-9b47-b1554352ed98\",\"type\":\"Line\"},{\"attributes\":{},\"id\":\"7ce7b490-3e7d-4bd0-9995-11c75ebd384d\",\"type\":\"UnionRenderers\"},{\"attributes\":{\"fill_alpha\":{\"value\":0.1},\"fill_color\":{\"value\":\"#1f77b4\"},\"line_alpha\":{\"value\":0.1},\"line_color\":{\"value\":\"#1f77b4\"},\"x\":{\"field\":\"x\"},\"y\":{\"field\":\"y\"}},\"id\":\"45c6be12-0a75-4321-a29b-247804f4118d\",\"type\":\"Square\"},{\"attributes\":{},\"id\":\"5a2ce5f4-87ed-417b-bf0e-8707e2659830\",\"type\":\"UnionRenderers\"},{\"attributes\":{\"data_source\":{\"id\":\"106c9bd1-fd20-49fa-bc6a-fc20bb99b992\",\"type\":\"ColumnDataSource\"},\"glyph\":{\"id\":\"84452645-08be-4595-9e14-59a31dc3255a\",\"type\":\"Line\"},\"hover_glyph\":null,\"muted_glyph\":null,\"nonselection_glyph\":{\"id\":\"b12aaca1-2e97-4cae-b5c3-9a3ee4acd342\",\"type\":\"Line\"},\"selection_glyph\":null,\"view\":{\"id\":\"7c60c201-faf2-4caa-847e-d7fc76b99529\",\"type\":\"CDSView\"}},\"id\":\"535c45bb-48f4-48db-9b53-d097409982b7\",\"type\":\"GlyphRenderer\"},{\"attributes\":{},\"id\":\"3530e512-e1a2-43fe-a2da-f47de87fd320\",\"type\":\"Selection\"},{\"attributes\":{\"data_source\":{\"id\":\"f15c5d07-8a1e-4afc-b20e-d240df41e6b9\",\"type\":\"ColumnDataSource\"},\"glyph\":{\"id\":\"64ca54de-9136-432f-bb67-da643e9be060\",\"type\":\"Square\"},\"hover_glyph\":null,\"muted_glyph\":null,\"nonselection_glyph\":{\"id\":\"45c6be12-0a75-4321-a29b-247804f4118d\",\"type\":\"Square\"},\"selection_glyph\":null,\"view\":{\"id\":\"ea6c9638-42ef-4961-8194-8839a35ab402\",\"type\":\"CDSView\"}},\"id\":\"64de7994-8321-4acb-bbf3-a7a3a2697318\",\"type\":\"GlyphRenderer\"},{\"attributes\":{},\"id\":\"e711ab53-3e0a-44e0-ad66-334b9bf54c89\",\"type\":\"Selection\"},{\"attributes\":{\"data_source\":{\"id\":\"1055af50-3c7a-4148-824b-62ad8c436ab6\",\"type\":\"ColumnDataSource\"},\"glyph\":{\"id\":\"3f3ae043-1b4d-45a5-ac70-a67872d65703\",\"type\":\"Circle\"},\"hover_glyph\":null,\"muted_glyph\":null,\"nonselection_glyph\":{\"id\":\"96a8cf91-3abf-4ab9-86cf-62eeafde5058\",\"type\":\"Circle\"},\"selection_glyph\":null,\"view\":{\"id\":\"ff37d671-bc53-4197-8c7f-1cfeab3ae72d\",\"type\":\"CDSView\"}},\"id\":\"65ac9cad-7ad5-43e9-a8db-203feb3ca0ed\",\"type\":\"GlyphRenderer\"},{\"attributes\":{},\"id\":\"4a81816c-2591-4679-9426-8d8bdd195bda\",\"type\":\"Selection\"},{\"attributes\":{\"source\":{\"id\":\"106c9bd1-fd20-49fa-bc6a-fc20bb99b992\",\"type\":\"ColumnDataSource\"}},\"id\":\"7c60c201-faf2-4caa-847e-d7fc76b99529\",\"type\":\"CDSView\"},{\"attributes\":{},\"id\":\"b75468ca-29d1-4605-8428-cf4f349ca8d1\",\"type\":\"UnionRenderers\"},{\"attributes\":{\"tools\":[{\"id\":\"25f00d62-4337-43d2-9026-b77b481bf7ee\",\"type\":\"PanTool\"},{\"id\":\"9d7ce7e6-44ad-413e-af8f-f2775add1cc0\",\"type\":\"WheelZoomTool\"},{\"id\":\"6f7e6723-95dc-4f69-a8a2-cac4ee13bbe8\",\"type\":\"BoxZoomTool\"},{\"id\":\"3d7c6e26-216e-4f8c-ac74-b3a4e92907d2\",\"type\":\"SaveTool\"},{\"id\":\"c6cf157f-a0ba-4a15-83ea-ebc186997c89\",\"type\":\"ResetTool\"},{\"id\":\"a9d824f2-a49a-46ef-8762-b20d19598425\",\"type\":\"HelpTool\"},{\"id\":\"03f5c14e-3a3c-4262-8791-3511894b7d07\",\"type\":\"PanTool\"},{\"id\":\"71c51343-dd5d-4a4c-89c2-cbc8932fa699\",\"type\":\"WheelZoomTool\"},{\"id\":\"f5d9eec6-3cea-4b56-b472-3f43b9c53553\",\"type\":\"BoxZoomTool\"},{\"id\":\"1c940c59-420b-4864-8015-bd5a1c62a59f\",\"type\":\"SaveTool\"},{\"id\":\"bc26482b-def8-4506-a698-6e703ebb45df\",\"type\":\"ResetTool\"},{\"id\":\"90c77059-976a-45ed-a09d-1d5de611b12e\",\"type\":\"HelpTool\"}]},\"id\":\"eb9ffdc1-a835-43b1-a1e7-1f12a9cdd8c3\",\"type\":\"ProxyToolbar\"},{\"attributes\":{\"line_alpha\":0.6,\"line_color\":\"#e41a1c\",\"line_dash\":[6],\"line_width\":5,\"x\":{\"field\":\"x\"},\"y\":{\"field\":\"y\"}},\"id\":\"ac15aeb0-8eb2-4daf-88ea-e545d8e45dc9\",\"type\":\"Line\"},{\"attributes\":{\"toolbar\":{\"id\":\"eb9ffdc1-a835-43b1-a1e7-1f12a9cdd8c3\",\"type\":\"ProxyToolbar\"},\"toolbar_location\":\"above\"},\"id\":\"ae49d1cd-e4d9-4a52-8861-fbb6b3c748fb\",\"type\":\"ToolbarBox\"},{\"attributes\":{\"data_source\":{\"id\":\"77a83ea8-6557-4099-a656-65287f45a251\",\"type\":\"ColumnDataSource\"},\"glyph\":{\"id\":\"ac15aeb0-8eb2-4daf-88ea-e545d8e45dc9\",\"type\":\"Line\"},\"hover_glyph\":null,\"muted_glyph\":null,\"nonselection_glyph\":{\"id\":\"83e9131e-880f-4f41-bc85-334b16b08887\",\"type\":\"Line\"},\"selection_glyph\":null,\"view\":{\"id\":\"6b252f7a-b51b-406b-9191-109cdb1a2162\",\"type\":\"CDSView\"}},\"id\":\"140202f8-784c-400e-8f88-de396743261f\",\"type\":\"GlyphRenderer\"},{\"attributes\":{\"plot\":{\"id\":\"5b44a90c-e31e-492c-b03a-0293b3c09a85\",\"subtype\":\"Figure\",\"type\":\"Plot\"},\"ticker\":{\"id\":\"ccdee5fd-51df-429f-907d-d319e8bd6643\",\"type\":\"BasicTicker\"}},\"id\":\"89ca064d-9fd4-4428-a6e5-02777cbd4e56\",\"type\":\"Grid\"},{\"attributes\":{},\"id\":\"5a863a20-3b2e-476e-9efa-2a27c63d54c1\",\"type\":\"Selection\"},{\"attributes\":{\"source\":{\"id\":\"f15c5d07-8a1e-4afc-b20e-d240df41e6b9\",\"type\":\"ColumnDataSource\"}},\"id\":\"ea6c9638-42ef-4961-8194-8839a35ab402\",\"type\":\"CDSView\"},{\"attributes\":{},\"id\":\"28a22a2f-f500-4f11-857c-578dbec20cca\",\"type\":\"UnionRenderers\"},{\"attributes\":{\"children\":[{\"id\":\"ae49d1cd-e4d9-4a52-8861-fbb6b3c748fb\",\"type\":\"ToolbarBox\"},{\"id\":\"d5859e6a-81aa-4cde-9c66-44762a114486\",\"type\":\"Column\"}]},\"id\":\"8ca01745-c759-4500-8792-8ef15d3fdd7b\",\"type\":\"Column\"},{\"attributes\":{\"fill_alpha\":{\"value\":0.7},\"fill_color\":{\"value\":\"#984ea3\"},\"line_alpha\":{\"value\":0.7},\"line_color\":{\"value\":\"#984ea3\"},\"x\":{\"field\":\"x\"},\"y\":{\"field\":\"y\"}},\"id\":\"64ca54de-9136-432f-bb67-da643e9be060\",\"type\":\"Square\"}],\"root_ids\":[\"8ca01745-c759-4500-8792-8ef15d3fdd7b\"]},\"title\":\"Bokeh Application\",\"version\":\"0.12.16\"}};\n",
       "  var render_items = [{\"docid\":\"24107a18-ceca-429c-ab88-cf7563bd4fa3\",\"elementid\":\"b26e4732-ec11-42b5-9b48-c307bafaf711\",\"modelid\":\"8ca01745-c759-4500-8792-8ef15d3fdd7b\"}];\n",
       "  root.Bokeh.embed.embed_items_notebook(docs_json, render_items);\n",
       "\n",
       "  }\n",
       "  if (root.Bokeh !== undefined) {\n",
       "    embed_document(root);\n",
       "  } else {\n",
       "    var attempts = 0;\n",
       "    var timer = setInterval(function(root) {\n",
       "      if (root.Bokeh !== undefined) {\n",
       "        embed_document(root);\n",
       "        clearInterval(timer);\n",
       "      }\n",
       "      attempts++;\n",
       "      if (attempts > 100) {\n",
       "        console.log(\"Bokeh: ERROR: Unable to run BokehJS code because BokehJS library is missing\")\n",
       "        clearInterval(timer);\n",
       "      }\n",
       "    }, 10, root)\n",
       "  }\n",
       "})(window);"
      ],
      "application/vnd.bokehjs_exec.v0+json": ""
     },
     "metadata": {
      "application/vnd.bokehjs_exec.v0+json": {
       "id": "8ca01745-c759-4500-8792-8ef15d3fdd7b"
      }
     },
     "output_type": "display_data"
    },
    {
     "name": "stdout",
     "output_type": "stream",
     "text": [
      "FIGURE. Cooling rate profiles.\n"
     ]
    },
    {
     "data": {
      "text/html": [
       "<a id=\"Flux_Comparison\"></a>"
      ],
      "text/plain": [
       "<IPython.core.display.HTML object>"
      ]
     },
     "metadata": {},
     "output_type": "display_data"
    },
    {
     "data": {
      "text/markdown": [
       "# Flux Comparison"
      ],
      "text/plain": [
       "<IPython.core.display.Markdown object>"
      ]
     },
     "metadata": {},
     "output_type": "display_data"
    },
    {
     "data": {
      "text/html": [
       "<div>\n",
       "<style scoped>\n",
       "    .dataframe tbody tr th:only-of-type {\n",
       "        vertical-align: middle;\n",
       "    }\n",
       "\n",
       "    .dataframe tbody tr th {\n",
       "        vertical-align: top;\n",
       "    }\n",
       "\n",
       "    .dataframe thead th {\n",
       "        text-align: right;\n",
       "    }\n",
       "</style>\n",
       "<table border=\"1\" class=\"dataframe\">\n",
       "  <thead>\n",
       "    <tr style=\"text-align: right;\">\n",
       "      <th></th>\n",
       "      <th></th>\n",
       "      <th>flug</th>\n",
       "      <th>fldg</th>\n",
       "      <th>fnetg</th>\n",
       "    </tr>\n",
       "    <tr>\n",
       "      <th>pressure</th>\n",
       "      <th>level</th>\n",
       "      <th></th>\n",
       "      <th></th>\n",
       "      <th></th>\n",
       "    </tr>\n",
       "  </thead>\n",
       "  <tbody>\n",
       "    <tr>\n",
       "      <th>0.0000</th>\n",
       "      <th>1</th>\n",
       "      <td>-22.904459</td>\n",
       "      <td>0.000000</td>\n",
       "      <td>-22.904459</td>\n",
       "    </tr>\n",
       "    <tr>\n",
       "      <th>1.0685</th>\n",
       "      <th>24</th>\n",
       "      <td>-22.904560</td>\n",
       "      <td>0.000418</td>\n",
       "      <td>-22.904143</td>\n",
       "    </tr>\n",
       "    <tr>\n",
       "      <th>1013.0000</th>\n",
       "      <th>76</th>\n",
       "      <td>-23.269660</td>\n",
       "      <td>0.430908</td>\n",
       "      <td>-22.838751</td>\n",
       "    </tr>\n",
       "  </tbody>\n",
       "</table>\n",
       "</div>"
      ],
      "text/plain": [
       "                      flug      fldg      fnetg\n",
       "pressure  level                                \n",
       "0.0000    1     -22.904459  0.000000 -22.904459\n",
       "1.0685    24    -22.904560  0.000418 -22.904143\n",
       "1013.0000 76    -23.269660  0.430908 -22.838751"
      ]
     },
     "metadata": {},
     "output_type": "display_data"
    },
    {
     "name": "stdout",
     "output_type": "stream",
     "text": [
      "Table. Fluxes. CRD\n"
     ]
    },
    {
     "data": {
      "text/html": [
       "<div>\n",
       "<style scoped>\n",
       "    .dataframe tbody tr th:only-of-type {\n",
       "        vertical-align: middle;\n",
       "    }\n",
       "\n",
       "    .dataframe tbody tr th {\n",
       "        vertical-align: top;\n",
       "    }\n",
       "\n",
       "    .dataframe thead th {\n",
       "        text-align: right;\n",
       "    }\n",
       "</style>\n",
       "<table border=\"1\" class=\"dataframe\">\n",
       "  <thead>\n",
       "    <tr style=\"text-align: right;\">\n",
       "      <th></th>\n",
       "      <th></th>\n",
       "      <th>flug</th>\n",
       "      <th>fldg</th>\n",
       "      <th>fnetg</th>\n",
       "    </tr>\n",
       "    <tr>\n",
       "      <th>pressure</th>\n",
       "      <th>level</th>\n",
       "      <th></th>\n",
       "      <th></th>\n",
       "      <th></th>\n",
       "    </tr>\n",
       "  </thead>\n",
       "  <tbody>\n",
       "    <tr>\n",
       "      <th>0.0000</th>\n",
       "      <th>1</th>\n",
       "      <td>-22.869032</td>\n",
       "      <td>0.000000</td>\n",
       "      <td>-22.869032</td>\n",
       "    </tr>\n",
       "    <tr>\n",
       "      <th>1.0685</th>\n",
       "      <th>24</th>\n",
       "      <td>-22.869437</td>\n",
       "      <td>0.000401</td>\n",
       "      <td>-22.869036</td>\n",
       "    </tr>\n",
       "    <tr>\n",
       "      <th>1013.0000</th>\n",
       "      <th>76</th>\n",
       "      <td>-23.269660</td>\n",
       "      <td>0.446500</td>\n",
       "      <td>-22.823160</td>\n",
       "    </tr>\n",
       "  </tbody>\n",
       "</table>\n",
       "</div>"
      ],
      "text/plain": [
       "                      flug      fldg      fnetg\n",
       "pressure  level                                \n",
       "0.0000    1     -22.869032  0.000000 -22.869032\n",
       "1.0685    24    -22.869437  0.000401 -22.869036\n",
       "1013.0000 76    -23.269660  0.446500 -22.823160"
      ]
     },
     "metadata": {},
     "output_type": "display_data"
    },
    {
     "name": "stdout",
     "output_type": "stream",
     "text": [
      "Table. Fluxes. WGT igg=10 wgt_flux=1\n"
     ]
    },
    {
     "data": {
      "text/html": [
       "<div>\n",
       "<style scoped>\n",
       "    .dataframe tbody tr th:only-of-type {\n",
       "        vertical-align: middle;\n",
       "    }\n",
       "\n",
       "    .dataframe tbody tr th {\n",
       "        vertical-align: top;\n",
       "    }\n",
       "\n",
       "    .dataframe thead th {\n",
       "        text-align: right;\n",
       "    }\n",
       "</style>\n",
       "<table border=\"1\" class=\"dataframe\">\n",
       "  <thead>\n",
       "    <tr style=\"text-align: right;\">\n",
       "      <th></th>\n",
       "      <th></th>\n",
       "      <th>flug</th>\n",
       "      <th>fldg</th>\n",
       "      <th>fnetg</th>\n",
       "    </tr>\n",
       "    <tr>\n",
       "      <th>pressure</th>\n",
       "      <th>level</th>\n",
       "      <th></th>\n",
       "      <th></th>\n",
       "      <th></th>\n",
       "    </tr>\n",
       "  </thead>\n",
       "  <tbody>\n",
       "    <tr>\n",
       "      <th>1.000000e-08</th>\n",
       "      <th>1</th>\n",
       "      <td>-22.926626</td>\n",
       "      <td>-9.686753e-08</td>\n",
       "      <td>-22.926626</td>\n",
       "    </tr>\n",
       "    <tr>\n",
       "      <th>1.068500e+00</th>\n",
       "      <th>24</th>\n",
       "      <td>-22.927015</td>\n",
       "      <td>3.600306e-04</td>\n",
       "      <td>-22.926655</td>\n",
       "    </tr>\n",
       "    <tr>\n",
       "      <th>1.013000e+03</th>\n",
       "      <th>76</th>\n",
       "      <td>-23.269660</td>\n",
       "      <td>3.717170e-01</td>\n",
       "      <td>-22.897943</td>\n",
       "    </tr>\n",
       "  </tbody>\n",
       "</table>\n",
       "</div>"
      ],
      "text/plain": [
       "                         flug          fldg      fnetg\n",
       "pressure     level                                    \n",
       "1.000000e-08 1     -22.926626 -9.686753e-08 -22.926626\n",
       "1.068500e+00 24    -22.927015  3.600306e-04 -22.926655\n",
       "1.013000e+03 76    -23.269660  3.717170e-01 -22.897943"
      ]
     },
     "metadata": {},
     "output_type": "display_data"
    },
    {
     "name": "stdout",
     "output_type": "stream",
     "text": [
      "Table. Fluxes. CLIRAD\n"
     ]
    },
    {
     "data": {
      "text/html": [
       "<div>\n",
       "<style scoped>\n",
       "    .dataframe tbody tr th:only-of-type {\n",
       "        vertical-align: middle;\n",
       "    }\n",
       "\n",
       "    .dataframe tbody tr th {\n",
       "        vertical-align: top;\n",
       "    }\n",
       "\n",
       "    .dataframe thead th {\n",
       "        text-align: right;\n",
       "    }\n",
       "</style>\n",
       "<table border=\"1\" class=\"dataframe\">\n",
       "  <thead>\n",
       "    <tr style=\"text-align: right;\">\n",
       "      <th></th>\n",
       "      <th></th>\n",
       "      <th>flug</th>\n",
       "      <th>fldg</th>\n",
       "      <th>fnetg</th>\n",
       "    </tr>\n",
       "    <tr>\n",
       "      <th>pressure</th>\n",
       "      <th>level</th>\n",
       "      <th></th>\n",
       "      <th></th>\n",
       "      <th></th>\n",
       "    </tr>\n",
       "  </thead>\n",
       "  <tbody>\n",
       "    <tr>\n",
       "      <th>0.0000</th>\n",
       "      <th>1</th>\n",
       "      <td>0.035427</td>\n",
       "      <td>0.000000</td>\n",
       "      <td>0.035427</td>\n",
       "    </tr>\n",
       "    <tr>\n",
       "      <th>1.0685</th>\n",
       "      <th>24</th>\n",
       "      <td>0.035123</td>\n",
       "      <td>-0.000016</td>\n",
       "      <td>0.035107</td>\n",
       "    </tr>\n",
       "    <tr>\n",
       "      <th>1013.0000</th>\n",
       "      <th>76</th>\n",
       "      <td>0.000000</td>\n",
       "      <td>0.015591</td>\n",
       "      <td>0.015591</td>\n",
       "    </tr>\n",
       "  </tbody>\n",
       "</table>\n",
       "</div>"
      ],
      "text/plain": [
       "                     flug      fldg     fnetg\n",
       "pressure  level                              \n",
       "0.0000    1      0.035427  0.000000  0.035427\n",
       "1.0685    24     0.035123 -0.000016  0.035107\n",
       "1013.0000 76     0.000000  0.015591  0.015591"
      ]
     },
     "metadata": {},
     "output_type": "display_data"
    },
    {
     "name": "stdout",
     "output_type": "stream",
     "text": [
      "Table. Fluxes. (WGT igg=10 wgt_flux=1) - (CRD)\n"
     ]
    },
    {
     "data": {
      "text/html": [
       "<div>\n",
       "<style scoped>\n",
       "    .dataframe tbody tr th:only-of-type {\n",
       "        vertical-align: middle;\n",
       "    }\n",
       "\n",
       "    .dataframe tbody tr th {\n",
       "        vertical-align: top;\n",
       "    }\n",
       "\n",
       "    .dataframe thead th {\n",
       "        text-align: right;\n",
       "    }\n",
       "</style>\n",
       "<table border=\"1\" class=\"dataframe\">\n",
       "  <thead>\n",
       "    <tr style=\"text-align: right;\">\n",
       "      <th></th>\n",
       "      <th></th>\n",
       "      <th>flug</th>\n",
       "      <th>fldg</th>\n",
       "      <th>fnetg</th>\n",
       "    </tr>\n",
       "    <tr>\n",
       "      <th>pressure</th>\n",
       "      <th>level</th>\n",
       "      <th></th>\n",
       "      <th></th>\n",
       "      <th></th>\n",
       "    </tr>\n",
       "  </thead>\n",
       "  <tbody>\n",
       "    <tr>\n",
       "      <th>0.0000</th>\n",
       "      <th>1</th>\n",
       "      <td>-0.022167</td>\n",
       "      <td>-9.686753e-08</td>\n",
       "      <td>-0.022167</td>\n",
       "    </tr>\n",
       "    <tr>\n",
       "      <th>1.0685</th>\n",
       "      <th>24</th>\n",
       "      <td>-0.022455</td>\n",
       "      <td>-5.749236e-05</td>\n",
       "      <td>-0.022512</td>\n",
       "    </tr>\n",
       "    <tr>\n",
       "      <th>1013.0000</th>\n",
       "      <th>76</th>\n",
       "      <td>0.000000</td>\n",
       "      <td>-5.919139e-02</td>\n",
       "      <td>-0.059192</td>\n",
       "    </tr>\n",
       "  </tbody>\n",
       "</table>\n",
       "</div>"
      ],
      "text/plain": [
       "                     flug          fldg     fnetg\n",
       "pressure  level                                  \n",
       "0.0000    1     -0.022167 -9.686753e-08 -0.022167\n",
       "1.0685    24    -0.022455 -5.749236e-05 -0.022512\n",
       "1013.0000 76     0.000000 -5.919139e-02 -0.059192"
      ]
     },
     "metadata": {},
     "output_type": "display_data"
    },
    {
     "name": "stdout",
     "output_type": "stream",
     "text": [
      "Table. Fluxes. (CLIRAD) - (CRD)\n"
     ]
    },
    {
     "data": {
      "text/html": [
       "<a id=\"Best-fit_Parameters\"></a>"
      ],
      "text/plain": [
       "<IPython.core.display.HTML object>"
      ]
     },
     "metadata": {},
     "output_type": "display_data"
    },
    {
     "data": {
      "text/markdown": [
       "# Best-fit Parameters"
      ],
      "text/plain": [
       "<IPython.core.display.Markdown object>"
      ]
     },
     "metadata": {},
     "output_type": "display_data"
    },
    {
     "name": "stdout",
     "output_type": "stream",
     "text": [
      "Best-fit values for each (gas, band)\n",
      "------------------------------------\n",
      "o n2o band6\n",
      "  atmpro = mls\n",
      "  band = 6\n",
      "  commitnumber = bca49ce\n",
      "  conc = 3.2e-07\n",
      "  dv = 0.005\n",
      "  klin = 0\n",
      "  molecule = n2o\n",
      "  ng_adju = [0]\n",
      "  ng_refs = [1]\n",
      "  nv = 200\n",
      "  option_compute_btable = 0\n",
      "  option_compute_ktable = 1\n",
      "  option_wgt_flux = 1\n",
      "  option_wgt_k = 1\n",
      "  ref_pts = [(500, 250)]\n",
      "  tsfc = 294\n",
      "  vmax = 1215\n",
      "  vmin = 1100\n",
      "  w_diffuse = [(1.66,)]\n",
      "  wgt = [(0.95,)]\n"
     ]
    }
   ],
   "source": [
    "script()"
   ]
  },
  {
   "cell_type": "code",
   "execution_count": 13,
   "metadata": {
    "collapsed": true
   },
   "outputs": [
    {
     "data": {
      "text/html": [
       "<script>\n",
       "code_show=true; \n",
       "function code_toggle() {\n",
       " if (code_show){\n",
       " $('div.input').hide();\n",
       " } else {\n",
       " $('div.input').show();\n",
       " }\n",
       " code_show = !code_show\n",
       "} \n",
       "$( document ).ready(code_toggle);\n",
       "</script>\n",
       "<form action=\"javascript:code_toggle()\"><input type=\"submit\" value=\"Click here to toggle on/off the raw code.\"></form>"
      ],
      "text/plain": [
       "<IPython.core.display.HTML object>"
      ]
     },
     "execution_count": 13,
     "metadata": {},
     "output_type": "execute_result"
    }
   ],
   "source": [
    "display.HTML('''<script>\n",
    "code_show=true; \n",
    "function code_toggle() {\n",
    " if (code_show){\n",
    " $('div.input').hide();\n",
    " } else {\n",
    " $('div.input').show();\n",
    " }\n",
    " code_show = !code_show\n",
    "} \n",
    "$( document ).ready(code_toggle);\n",
    "</script>\n",
    "<form action=\"javascript:code_toggle()\"><input type=\"submit\" value=\"Click here to toggle on/off the raw code.\"></form>''')"
   ]
  }
 ],
 "metadata": {
  "kernelspec": {
   "display_name": "Python 3",
   "language": "python",
   "name": "python3"
  },
  "language_info": {
   "codemirror_mode": {
    "name": "ipython",
    "version": 3
   },
   "file_extension": ".py",
   "mimetype": "text/x-python",
   "name": "python",
   "nbconvert_exporter": "python",
   "pygments_lexer": "ipython3",
   "version": "3.6.1"
  }
 },
 "nbformat": 4,
 "nbformat_minor": 2
}
