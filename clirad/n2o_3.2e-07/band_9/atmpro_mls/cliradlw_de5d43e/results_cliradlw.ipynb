{
 "cells": [
  {
   "cell_type": "code",
   "execution_count": 1,
   "metadata": {
    "collapsed": true
   },
   "outputs": [],
   "source": [
    "%matplotlib inline\n",
    "import os\n",
    "import re\n",
    "import io\n",
    "import itertools\n",
    "import pprint\n",
    "\n",
    "from bokeh.io import output_notebook, show\n",
    "from bokeh.layouts import gridplot\n",
    "from bokeh.plotting import figure\n",
    "from bokeh.models import Range1d, Legend\n",
    "from bokeh.palettes import all_palettes\n",
    "\n",
    "import matplotlib\n",
    "import matplotlib.pyplot as plt\n",
    "import numpy as np\n",
    "import pandas as pd\n",
    "import xarray as xr\n",
    "\n",
    "import climatools.lblnew.bestfit_params as bestfits\n",
    "from climatools.lblnew import setup_bestfit, setup_overlap\n",
    "import climatools.lblnew.pipeline as pipe_lblnew\n",
    "import climatools.cliradlw.setup as setup_cliradlw\n",
    "import climatools.cliradlw.pipeline as pipe_cliradlw\n",
    "\n",
    "import climatools.html.html as climahtml\n",
    "from climatools.lblnew.dataio import *\n",
    "from climatools.plot.plot import *\n",
    "\n",
    "\n",
    "import IPython.display as display"
   ]
  },
  {
   "cell_type": "code",
   "execution_count": 2,
   "metadata": {
    "collapsed": true
   },
   "outputs": [],
   "source": [
    "%run param.py"
   ]
  },
  {
   "cell_type": "code",
   "execution_count": 3,
   "metadata": {
    "collapsed": true
   },
   "outputs": [],
   "source": [
    "def load_output_file(path_csv):\n",
    "    '''\n",
    "    Load lblnew output .csv file to xarray.Dataset\n",
    "    \n",
    "    Parameters\n",
    "    ----------\n",
    "    path_csv: str\n",
    "              Path to the .csv file to be loaded.\n",
    "    ds: xarray.Dataset\n",
    "        Data in the input file in the form of an xarray.Dataset.\n",
    "    '''\n",
    "    toindex = ['band', 'pressure', 'igg', 'g']    \n",
    "    df = pd.read_csv(path_csv, sep=r'\\s+')\n",
    "    df = df.set_index([i for i in toindex if i in df.columns])\n",
    "    df = df.rename(columns={'sfu': 'flug',\n",
    "                            'sfd': 'fldg',\n",
    "                            'fnet': 'fnetg',\n",
    "                            'coolr': 'coolrg'})\n",
    "    ds = xr.Dataset.from_dataframe(df)\n",
    "\n",
    "    for l in ('level', 'layer'):\n",
    "        if l in ds.data_vars:\n",
    "            if len(ds[l].dims) > 1:\n",
    "                surface = {d: 0 for d in ds.dims if d != 'pressure'}\n",
    "                coord_level = ds[l][surface]\n",
    "                ds.coords[l] = ('pressure', coord_level)\n",
    "            else:\n",
    "                ds.coords[l] = ('pressure', ds[l])\n",
    "    \n",
    "    return ds"
   ]
  },
  {
   "cell_type": "code",
   "execution_count": 4,
   "metadata": {
    "collapsed": true
   },
   "outputs": [],
   "source": [
    "def lblnew_setup(param=None):\n",
    "    if 'ng_refs' in param:\n",
    "        return {'setup': setup_bestfit,\n",
    "                'fname_flux_crd': 'output_flux.dat',\n",
    "                'fname_cool_crd': 'output_coolr.dat',\n",
    "                'fname_flux_wgt': 'output_wfluxg.dat',\n",
    "                'fname_cool_wgt': 'output_wcoolrg.dat'}\n",
    "    else:\n",
    "        return {'setup': setup_overlap,\n",
    "                'fname_flux_crd': 'output_flux.dat',\n",
    "                'fname_cool_crd': 'output_coolr.dat',\n",
    "                'fname_flux_wgt': 'output_wflux.dat',\n",
    "                'fname_cool_wgt': 'output_wcoolr.dat'}\n",
    "\n",
    "    \n",
    "def load_lblnew_data(param):\n",
    "    \n",
    "    fname_dsname = [('fname_flux_crd', 'ds_flux_crd'),\n",
    "                    ('fname_cool_crd', 'ds_cool_crd'),\n",
    "                    ('fname_flux_wgt', 'ds_flux_wgt'),\n",
    "                    ('fname_cool_wgt', 'ds_cool_wgt')]\n",
    "    \n",
    "    d = lblnew_setup(param)\n",
    "    dir_fortran = pipe_lblnew.get_dir_case(param, setup=d['setup'])\n",
    "    \n",
    "    data_dict = {}\n",
    "    for fname, dsname in fname_dsname:\n",
    "        fpath = os.path.join(dir_fortran, d[fname])\n",
    "        data_dict[dsname] = load_output_file(fpath)\n",
    "    return data_dict\n",
    "    \n",
    "\n",
    "    \n",
    "    "
   ]
  },
  {
   "cell_type": "code",
   "execution_count": 5,
   "metadata": {
    "collapsed": true
   },
   "outputs": [],
   "source": [
    "d = load_lblnew_data(PARAM_LBLNEW)\n",
    "\n",
    "DS_FLUX_CRD = d['ds_flux_crd']\n",
    "DS_COOL_CRD = d['ds_cool_crd']\n",
    "DS_FLUX_WGT = d['ds_flux_wgt']\n",
    "DS_COOL_WGT = d['ds_cool_wgt']"
   ]
  },
  {
   "cell_type": "code",
   "execution_count": 6,
   "metadata": {
    "collapsed": true
   },
   "outputs": [],
   "source": [
    "DIR_FORTRAN = pipe_cliradlw.get_fortran_dir(PARAM, \n",
    "                                            setup=setup_cliradlw)\n",
    "\n",
    "PATH_FLUX = os.path.join(DIR_FORTRAN, 'output_flux.dat')\n",
    "PATH_COOL = os.path.join(DIR_FORTRAN, 'output_coolr.dat')\n",
    "\n",
    "DS_FLUX = load_output_file(PATH_FLUX)\n",
    "DS_COOL = load_output_file(PATH_COOL)"
   ]
  },
  {
   "cell_type": "code",
   "execution_count": 7,
   "metadata": {
    "collapsed": true
   },
   "outputs": [
    {
     "data": {
      "text/html": [
       "\n",
       "    <div class=\"bk-root\">\n",
       "        <a href=\"https://bokeh.pydata.org\" target=\"_blank\" class=\"bk-logo bk-logo-small bk-logo-notebook\"></a>\n",
       "        <span id=\"521f9a41-d111-45f7-bd97-0eed31129c1a\">Loading BokehJS ...</span>\n",
       "    </div>"
      ]
     },
     "metadata": {},
     "output_type": "display_data"
    },
    {
     "data": {
      "application/javascript": [
       "\n",
       "(function(root) {\n",
       "  function now() {\n",
       "    return new Date();\n",
       "  }\n",
       "\n",
       "  var force = true;\n",
       "\n",
       "  if (typeof (root._bokeh_onload_callbacks) === \"undefined\" || force === true) {\n",
       "    root._bokeh_onload_callbacks = [];\n",
       "    root._bokeh_is_loading = undefined;\n",
       "  }\n",
       "\n",
       "  var JS_MIME_TYPE = 'application/javascript';\n",
       "  var HTML_MIME_TYPE = 'text/html';\n",
       "  var EXEC_MIME_TYPE = 'application/vnd.bokehjs_exec.v0+json';\n",
       "  var CLASS_NAME = 'output_bokeh rendered_html';\n",
       "\n",
       "  /**\n",
       "   * Render data to the DOM node\n",
       "   */\n",
       "  function render(props, node) {\n",
       "    var script = document.createElement(\"script\");\n",
       "    node.appendChild(script);\n",
       "  }\n",
       "\n",
       "  /**\n",
       "   * Handle when an output is cleared or removed\n",
       "   */\n",
       "  function handleClearOutput(event, handle) {\n",
       "    var cell = handle.cell;\n",
       "\n",
       "    var id = cell.output_area._bokeh_element_id;\n",
       "    var server_id = cell.output_area._bokeh_server_id;\n",
       "    // Clean up Bokeh references\n",
       "    if (id !== undefined) {\n",
       "      Bokeh.index[id].model.document.clear();\n",
       "      delete Bokeh.index[id];\n",
       "    }\n",
       "\n",
       "    if (server_id !== undefined) {\n",
       "      // Clean up Bokeh references\n",
       "      var cmd = \"from bokeh.io.state import curstate; print(curstate().uuid_to_server['\" + server_id + \"'].get_sessions()[0].document.roots[0]._id)\";\n",
       "      cell.notebook.kernel.execute(cmd, {\n",
       "        iopub: {\n",
       "          output: function(msg) {\n",
       "            var element_id = msg.content.text.trim();\n",
       "            Bokeh.index[element_id].model.document.clear();\n",
       "            delete Bokeh.index[element_id];\n",
       "          }\n",
       "        }\n",
       "      });\n",
       "      // Destroy server and session\n",
       "      var cmd = \"import bokeh.io.notebook as ion; ion.destroy_server('\" + server_id + \"')\";\n",
       "      cell.notebook.kernel.execute(cmd);\n",
       "    }\n",
       "  }\n",
       "\n",
       "  /**\n",
       "   * Handle when a new output is added\n",
       "   */\n",
       "  function handleAddOutput(event, handle) {\n",
       "    var output_area = handle.output_area;\n",
       "    var output = handle.output;\n",
       "\n",
       "    // limit handleAddOutput to display_data with EXEC_MIME_TYPE content only\n",
       "    if ((output.output_type != \"display_data\") || (!output.data.hasOwnProperty(EXEC_MIME_TYPE))) {\n",
       "      return\n",
       "    }\n",
       "\n",
       "    var toinsert = output_area.element.find(\".\" + CLASS_NAME.split(' ')[0]);\n",
       "\n",
       "    if (output.metadata[EXEC_MIME_TYPE][\"id\"] !== undefined) {\n",
       "      toinsert[toinsert.length - 1].firstChild.textContent = output.data[JS_MIME_TYPE];\n",
       "      // store reference to embed id on output_area\n",
       "      output_area._bokeh_element_id = output.metadata[EXEC_MIME_TYPE][\"id\"];\n",
       "    }\n",
       "    if (output.metadata[EXEC_MIME_TYPE][\"server_id\"] !== undefined) {\n",
       "      var bk_div = document.createElement(\"div\");\n",
       "      bk_div.innerHTML = output.data[HTML_MIME_TYPE];\n",
       "      var script_attrs = bk_div.children[0].attributes;\n",
       "      for (var i = 0; i < script_attrs.length; i++) {\n",
       "        toinsert[toinsert.length - 1].firstChild.setAttribute(script_attrs[i].name, script_attrs[i].value);\n",
       "      }\n",
       "      // store reference to server id on output_area\n",
       "      output_area._bokeh_server_id = output.metadata[EXEC_MIME_TYPE][\"server_id\"];\n",
       "    }\n",
       "  }\n",
       "\n",
       "  function register_renderer(events, OutputArea) {\n",
       "\n",
       "    function append_mime(data, metadata, element) {\n",
       "      // create a DOM node to render to\n",
       "      var toinsert = this.create_output_subarea(\n",
       "        metadata,\n",
       "        CLASS_NAME,\n",
       "        EXEC_MIME_TYPE\n",
       "      );\n",
       "      this.keyboard_manager.register_events(toinsert);\n",
       "      // Render to node\n",
       "      var props = {data: data, metadata: metadata[EXEC_MIME_TYPE]};\n",
       "      render(props, toinsert[toinsert.length - 1]);\n",
       "      element.append(toinsert);\n",
       "      return toinsert\n",
       "    }\n",
       "\n",
       "    /* Handle when an output is cleared or removed */\n",
       "    events.on('clear_output.CodeCell', handleClearOutput);\n",
       "    events.on('delete.Cell', handleClearOutput);\n",
       "\n",
       "    /* Handle when a new output is added */\n",
       "    events.on('output_added.OutputArea', handleAddOutput);\n",
       "\n",
       "    /**\n",
       "     * Register the mime type and append_mime function with output_area\n",
       "     */\n",
       "    OutputArea.prototype.register_mime_type(EXEC_MIME_TYPE, append_mime, {\n",
       "      /* Is output safe? */\n",
       "      safe: true,\n",
       "      /* Index of renderer in `output_area.display_order` */\n",
       "      index: 0\n",
       "    });\n",
       "  }\n",
       "\n",
       "  // register the mime type if in Jupyter Notebook environment and previously unregistered\n",
       "  if (root.Jupyter !== undefined) {\n",
       "    var events = require('base/js/events');\n",
       "    var OutputArea = require('notebook/js/outputarea').OutputArea;\n",
       "\n",
       "    if (OutputArea.prototype.mime_types().indexOf(EXEC_MIME_TYPE) == -1) {\n",
       "      register_renderer(events, OutputArea);\n",
       "    }\n",
       "  }\n",
       "\n",
       "  \n",
       "  if (typeof (root._bokeh_timeout) === \"undefined\" || force === true) {\n",
       "    root._bokeh_timeout = Date.now() + 5000;\n",
       "    root._bokeh_failed_load = false;\n",
       "  }\n",
       "\n",
       "  var NB_LOAD_WARNING = {'data': {'text/html':\n",
       "     \"<div style='background-color: #fdd'>\\n\"+\n",
       "     \"<p>\\n\"+\n",
       "     \"BokehJS does not appear to have successfully loaded. If loading BokehJS from CDN, this \\n\"+\n",
       "     \"may be due to a slow or bad network connection. Possible fixes:\\n\"+\n",
       "     \"</p>\\n\"+\n",
       "     \"<ul>\\n\"+\n",
       "     \"<li>re-rerun `output_notebook()` to attempt to load from CDN again, or</li>\\n\"+\n",
       "     \"<li>use INLINE resources instead, as so:</li>\\n\"+\n",
       "     \"</ul>\\n\"+\n",
       "     \"<code>\\n\"+\n",
       "     \"from bokeh.resources import INLINE\\n\"+\n",
       "     \"output_notebook(resources=INLINE)\\n\"+\n",
       "     \"</code>\\n\"+\n",
       "     \"</div>\"}};\n",
       "\n",
       "  function display_loaded() {\n",
       "    var el = document.getElementById(\"521f9a41-d111-45f7-bd97-0eed31129c1a\");\n",
       "    if (el != null) {\n",
       "      el.textContent = \"BokehJS is loading...\";\n",
       "    }\n",
       "    if (root.Bokeh !== undefined) {\n",
       "      if (el != null) {\n",
       "        el.textContent = \"BokehJS \" + root.Bokeh.version + \" successfully loaded.\";\n",
       "      }\n",
       "    } else if (Date.now() < root._bokeh_timeout) {\n",
       "      setTimeout(display_loaded, 100)\n",
       "    }\n",
       "  }\n",
       "\n",
       "\n",
       "  function run_callbacks() {\n",
       "    try {\n",
       "      root._bokeh_onload_callbacks.forEach(function(callback) { callback() });\n",
       "    }\n",
       "    finally {\n",
       "      delete root._bokeh_onload_callbacks\n",
       "    }\n",
       "    console.info(\"Bokeh: all callbacks have finished\");\n",
       "  }\n",
       "\n",
       "  function load_libs(js_urls, callback) {\n",
       "    root._bokeh_onload_callbacks.push(callback);\n",
       "    if (root._bokeh_is_loading > 0) {\n",
       "      console.log(\"Bokeh: BokehJS is being loaded, scheduling callback at\", now());\n",
       "      return null;\n",
       "    }\n",
       "    if (js_urls == null || js_urls.length === 0) {\n",
       "      run_callbacks();\n",
       "      return null;\n",
       "    }\n",
       "    console.log(\"Bokeh: BokehJS not loaded, scheduling load and callback at\", now());\n",
       "    root._bokeh_is_loading = js_urls.length;\n",
       "    for (var i = 0; i < js_urls.length; i++) {\n",
       "      var url = js_urls[i];\n",
       "      var s = document.createElement('script');\n",
       "      s.src = url;\n",
       "      s.async = false;\n",
       "      s.onreadystatechange = s.onload = function() {\n",
       "        root._bokeh_is_loading--;\n",
       "        if (root._bokeh_is_loading === 0) {\n",
       "          console.log(\"Bokeh: all BokehJS libraries loaded\");\n",
       "          run_callbacks()\n",
       "        }\n",
       "      };\n",
       "      s.onerror = function() {\n",
       "        console.warn(\"failed to load library \" + url);\n",
       "      };\n",
       "      console.log(\"Bokeh: injecting script tag for BokehJS library: \", url);\n",
       "      document.getElementsByTagName(\"head\")[0].appendChild(s);\n",
       "    }\n",
       "  };var element = document.getElementById(\"521f9a41-d111-45f7-bd97-0eed31129c1a\");\n",
       "  if (element == null) {\n",
       "    console.log(\"Bokeh: ERROR: autoload.js configured with elementid '521f9a41-d111-45f7-bd97-0eed31129c1a' but no matching script tag was found. \")\n",
       "    return false;\n",
       "  }\n",
       "\n",
       "  var js_urls = [\"https://cdn.pydata.org/bokeh/release/bokeh-0.12.16.min.js\", \"https://cdn.pydata.org/bokeh/release/bokeh-widgets-0.12.16.min.js\", \"https://cdn.pydata.org/bokeh/release/bokeh-tables-0.12.16.min.js\", \"https://cdn.pydata.org/bokeh/release/bokeh-gl-0.12.16.min.js\"];\n",
       "\n",
       "  var inline_js = [\n",
       "    function(Bokeh) {\n",
       "      Bokeh.set_log_level(\"info\");\n",
       "    },\n",
       "    \n",
       "    function(Bokeh) {\n",
       "      \n",
       "    },\n",
       "    function(Bokeh) {\n",
       "      console.log(\"Bokeh: injecting CSS: https://cdn.pydata.org/bokeh/release/bokeh-0.12.16.min.css\");\n",
       "      Bokeh.embed.inject_css(\"https://cdn.pydata.org/bokeh/release/bokeh-0.12.16.min.css\");\n",
       "      console.log(\"Bokeh: injecting CSS: https://cdn.pydata.org/bokeh/release/bokeh-widgets-0.12.16.min.css\");\n",
       "      Bokeh.embed.inject_css(\"https://cdn.pydata.org/bokeh/release/bokeh-widgets-0.12.16.min.css\");\n",
       "      console.log(\"Bokeh: injecting CSS: https://cdn.pydata.org/bokeh/release/bokeh-tables-0.12.16.min.css\");\n",
       "      Bokeh.embed.inject_css(\"https://cdn.pydata.org/bokeh/release/bokeh-tables-0.12.16.min.css\");\n",
       "    }\n",
       "  ];\n",
       "\n",
       "  function run_inline_js() {\n",
       "    \n",
       "    if ((root.Bokeh !== undefined) || (force === true)) {\n",
       "      for (var i = 0; i < inline_js.length; i++) {\n",
       "        inline_js[i].call(root, root.Bokeh);\n",
       "      }if (force === true) {\n",
       "        display_loaded();\n",
       "      }} else if (Date.now() < root._bokeh_timeout) {\n",
       "      setTimeout(run_inline_js, 100);\n",
       "    } else if (!root._bokeh_failed_load) {\n",
       "      console.log(\"Bokeh: BokehJS failed to load within specified timeout.\");\n",
       "      root._bokeh_failed_load = true;\n",
       "    } else if (force !== true) {\n",
       "      var cell = $(document.getElementById(\"521f9a41-d111-45f7-bd97-0eed31129c1a\")).parents('.cell').data().cell;\n",
       "      cell.output_area.append_execute_result(NB_LOAD_WARNING)\n",
       "    }\n",
       "\n",
       "  }\n",
       "\n",
       "  if (root._bokeh_is_loading === 0) {\n",
       "    console.log(\"Bokeh: BokehJS loaded, going straight to plotting\");\n",
       "    run_inline_js();\n",
       "  } else {\n",
       "    load_libs(js_urls, function() {\n",
       "      console.log(\"Bokeh: BokehJS plotting callback run at\", now());\n",
       "      run_inline_js();\n",
       "    });\n",
       "  }\n",
       "}(window));"
      ],
      "application/vnd.bokehjs_load.v0+json": "\n(function(root) {\n  function now() {\n    return new Date();\n  }\n\n  var force = true;\n\n  if (typeof (root._bokeh_onload_callbacks) === \"undefined\" || force === true) {\n    root._bokeh_onload_callbacks = [];\n    root._bokeh_is_loading = undefined;\n  }\n\n  \n\n  \n  if (typeof (root._bokeh_timeout) === \"undefined\" || force === true) {\n    root._bokeh_timeout = Date.now() + 5000;\n    root._bokeh_failed_load = false;\n  }\n\n  var NB_LOAD_WARNING = {'data': {'text/html':\n     \"<div style='background-color: #fdd'>\\n\"+\n     \"<p>\\n\"+\n     \"BokehJS does not appear to have successfully loaded. If loading BokehJS from CDN, this \\n\"+\n     \"may be due to a slow or bad network connection. Possible fixes:\\n\"+\n     \"</p>\\n\"+\n     \"<ul>\\n\"+\n     \"<li>re-rerun `output_notebook()` to attempt to load from CDN again, or</li>\\n\"+\n     \"<li>use INLINE resources instead, as so:</li>\\n\"+\n     \"</ul>\\n\"+\n     \"<code>\\n\"+\n     \"from bokeh.resources import INLINE\\n\"+\n     \"output_notebook(resources=INLINE)\\n\"+\n     \"</code>\\n\"+\n     \"</div>\"}};\n\n  function display_loaded() {\n    var el = document.getElementById(\"521f9a41-d111-45f7-bd97-0eed31129c1a\");\n    if (el != null) {\n      el.textContent = \"BokehJS is loading...\";\n    }\n    if (root.Bokeh !== undefined) {\n      if (el != null) {\n        el.textContent = \"BokehJS \" + root.Bokeh.version + \" successfully loaded.\";\n      }\n    } else if (Date.now() < root._bokeh_timeout) {\n      setTimeout(display_loaded, 100)\n    }\n  }\n\n\n  function run_callbacks() {\n    try {\n      root._bokeh_onload_callbacks.forEach(function(callback) { callback() });\n    }\n    finally {\n      delete root._bokeh_onload_callbacks\n    }\n    console.info(\"Bokeh: all callbacks have finished\");\n  }\n\n  function load_libs(js_urls, callback) {\n    root._bokeh_onload_callbacks.push(callback);\n    if (root._bokeh_is_loading > 0) {\n      console.log(\"Bokeh: BokehJS is being loaded, scheduling callback at\", now());\n      return null;\n    }\n    if (js_urls == null || js_urls.length === 0) {\n      run_callbacks();\n      return null;\n    }\n    console.log(\"Bokeh: BokehJS not loaded, scheduling load and callback at\", now());\n    root._bokeh_is_loading = js_urls.length;\n    for (var i = 0; i < js_urls.length; i++) {\n      var url = js_urls[i];\n      var s = document.createElement('script');\n      s.src = url;\n      s.async = false;\n      s.onreadystatechange = s.onload = function() {\n        root._bokeh_is_loading--;\n        if (root._bokeh_is_loading === 0) {\n          console.log(\"Bokeh: all BokehJS libraries loaded\");\n          run_callbacks()\n        }\n      };\n      s.onerror = function() {\n        console.warn(\"failed to load library \" + url);\n      };\n      console.log(\"Bokeh: injecting script tag for BokehJS library: \", url);\n      document.getElementsByTagName(\"head\")[0].appendChild(s);\n    }\n  };var element = document.getElementById(\"521f9a41-d111-45f7-bd97-0eed31129c1a\");\n  if (element == null) {\n    console.log(\"Bokeh: ERROR: autoload.js configured with elementid '521f9a41-d111-45f7-bd97-0eed31129c1a' but no matching script tag was found. \")\n    return false;\n  }\n\n  var js_urls = [\"https://cdn.pydata.org/bokeh/release/bokeh-0.12.16.min.js\", \"https://cdn.pydata.org/bokeh/release/bokeh-widgets-0.12.16.min.js\", \"https://cdn.pydata.org/bokeh/release/bokeh-tables-0.12.16.min.js\", \"https://cdn.pydata.org/bokeh/release/bokeh-gl-0.12.16.min.js\"];\n\n  var inline_js = [\n    function(Bokeh) {\n      Bokeh.set_log_level(\"info\");\n    },\n    \n    function(Bokeh) {\n      \n    },\n    function(Bokeh) {\n      console.log(\"Bokeh: injecting CSS: https://cdn.pydata.org/bokeh/release/bokeh-0.12.16.min.css\");\n      Bokeh.embed.inject_css(\"https://cdn.pydata.org/bokeh/release/bokeh-0.12.16.min.css\");\n      console.log(\"Bokeh: injecting CSS: https://cdn.pydata.org/bokeh/release/bokeh-widgets-0.12.16.min.css\");\n      Bokeh.embed.inject_css(\"https://cdn.pydata.org/bokeh/release/bokeh-widgets-0.12.16.min.css\");\n      console.log(\"Bokeh: injecting CSS: https://cdn.pydata.org/bokeh/release/bokeh-tables-0.12.16.min.css\");\n      Bokeh.embed.inject_css(\"https://cdn.pydata.org/bokeh/release/bokeh-tables-0.12.16.min.css\");\n    }\n  ];\n\n  function run_inline_js() {\n    \n    if ((root.Bokeh !== undefined) || (force === true)) {\n      for (var i = 0; i < inline_js.length; i++) {\n        inline_js[i].call(root, root.Bokeh);\n      }if (force === true) {\n        display_loaded();\n      }} else if (Date.now() < root._bokeh_timeout) {\n      setTimeout(run_inline_js, 100);\n    } else if (!root._bokeh_failed_load) {\n      console.log(\"Bokeh: BokehJS failed to load within specified timeout.\");\n      root._bokeh_failed_load = true;\n    } else if (force !== true) {\n      var cell = $(document.getElementById(\"521f9a41-d111-45f7-bd97-0eed31129c1a\")).parents('.cell').data().cell;\n      cell.output_area.append_execute_result(NB_LOAD_WARNING)\n    }\n\n  }\n\n  if (root._bokeh_is_loading === 0) {\n    console.log(\"Bokeh: BokehJS loaded, going straight to plotting\");\n    run_inline_js();\n  } else {\n    load_libs(js_urls, function() {\n      console.log(\"Bokeh: BokehJS plotting callback run at\", now());\n      run_inline_js();\n    });\n  }\n}(window));"
     },
     "metadata": {},
     "output_type": "display_data"
    }
   ],
   "source": [
    "output_notebook()"
   ]
  },
  {
   "cell_type": "code",
   "execution_count": 8,
   "metadata": {
    "collapsed": true
   },
   "outputs": [],
   "source": [
    "def fmt_cool(ds_in):\n",
    "    ds = ds_in.copy(deep=True)\n",
    "    if 'igg' in ds.dims:\n",
    "        ds = ds.sel(igg=1)\n",
    "\n",
    "    if 'g' in ds.dims:\n",
    "        ds = ds.sum('g')\n",
    "            \n",
    "    if 'band' in ds.dims:\n",
    "        try:\n",
    "            ds = ds.squeeze('band')\n",
    "        except ValueError:\n",
    "            ds = ds.sum('band')\n",
    "                \n",
    "    return ds['coolrg']\n",
    "\n",
    "\n",
    "def pltdata_cooling_1(ds_cool=None,\n",
    "                      ds_cool_crd=None, ds_cool_wgt=None):\n",
    "    \n",
    "\n",
    "\n",
    "    colors = all_palettes['Set1'][4]\n",
    "    data = [{'label': 'CLIRAD `coolr_bands`',\n",
    "             'srs': fmt_cool(ds_cool),\n",
    "             'line_dash': 'dashed', 'line_width': 5,\n",
    "             'color': colors[0], 'alpha': .6},\n",
    "            {'label': 'CRD',\n",
    "             'srs': fmt_cool(ds_cool_crd),\n",
    "             'line_dash': 'solid', 'line_width': 1.5,\n",
    "             'marker': 'circle', 'marker_size': 5,\n",
    "             'color': colors[2], 'alpha': 1,},\n",
    "            {'label': 'WGT igg=10 wgt_flux=2',\n",
    "             'srs': fmt_cool(ds_cool_wgt),\n",
    "             'line_dash': 'solid', 'line_width': 3,\n",
    "             'marker': 'square', 'marker_size': 5,\n",
    "             'color': colors[3], 'alpha': .6}]\n",
    "    return data\n",
    "\n",
    "\n",
    "def nice_xlims(pltdata=None, prange=None):\n",
    "    \n",
    "    def get_slice(srs):\n",
    "        return srs.sel(pressure=slice(*prange))\n",
    "    \n",
    "    srss = [d['srs'] for d in pltdata]\n",
    "    vmin = min([get_slice(srs).min() for srs in srss])\n",
    "    vmax = max([get_slice(srs).max() for srs in srss])\n",
    "    dv = (vmax - vmin) * .01\n",
    "    return float(vmin - dv), float(vmax + dv)\n",
    "    \n",
    "\n",
    "def plt_cooling_bokeh(pltdata=None):\n",
    "    '''\n",
    "    Plot a list of cooling rate profiles using bokeh.\n",
    "    '''\n",
    "    ymin = 1e-2 \n",
    "    ymax = 1020 \n",
    "        \n",
    "    p1 = figure(title=\"Linear pressure scale\", \n",
    "                plot_width=400)        \n",
    "    xmin, xmax = nice_xlims(pltdata, prange=(50, 1050))\n",
    "    for d in pltdata:\n",
    "        if 'marker' in d:\n",
    "            getattr(p1, d['marker'])(d['srs'].values, \n",
    "                    d['srs'].coords['pressure'].values,\n",
    "                    color=d['color'], alpha=.7)\n",
    "        p1.line(d['srs'].values, \n",
    "                d['srs'].coords['pressure'].values,\n",
    "                color=d['color'], alpha=d['alpha'], \n",
    "                line_width=d['line_width'], line_dash=d['line_dash'])\n",
    "    \n",
    "    p1.y_range = Range1d(ymax, ymin)\n",
    "    p1.yaxis.axis_label = 'pressure [mb]'   \n",
    "    p1.x_range = Range1d(xmin, xmax)\n",
    "    p1.xaxis.axis_label = 'cooling rate [K/day]'\n",
    "            \n",
    "    p2 = figure(title='Log pressure scale', y_axis_type='log',\n",
    "                plot_width=560)\n",
    "    xmin, xmax = nice_xlims(pltdata, prange=(.01, 200))\n",
    "    \n",
    "    rs = []\n",
    "    for d in pltdata:\n",
    "        rd = []\n",
    "        if 'marker' in d:\n",
    "            r_mark = getattr(p2, d['marker'])(d['srs'].values, \n",
    "                        d['srs'].coords['pressure'].values,\n",
    "                        color=d['color'], alpha=.7)\n",
    "            rd.append(r_mark)\n",
    "        r_line = p2.line(d['srs'].values, \n",
    "                    d['srs'].coords['pressure'].values,\n",
    "                    color=d['color'], alpha=d['alpha'], \n",
    "                    line_width=d['line_width'], line_dash=d['line_dash'])\n",
    "        rd.append(r_line)\n",
    "      \n",
    "        rs.append(rd)\n",
    "        \n",
    "    p2.y_range = Range1d(ymax, ymin)  \n",
    "    p2.yaxis.axis_label = 'pressure [mb]'\n",
    "    \n",
    "    p2.x_range = Range1d(xmin, xmax)\n",
    "    p2.xaxis.axis_label = 'cooling rate [K/day]'\n",
    "    \n",
    "    items = [(d['label'], r) for r, d in zip(rs, pltdata)]\n",
    "    legend = Legend(items=items, location=(10, -30))\n",
    "    legend.label_text_font_size = '8pt'\n",
    "    \n",
    "    p2.add_layout(legend, 'right')  \n",
    "    \n",
    "    show(gridplot(p1, p2, ncols=2, plot_height=500))\n",
    "    \n",
    "\n",
    "def script_plt_cooling():\n",
    "    pltdata = pltdata_cooling_1(\n",
    "        ds_cool=DS_COOL,\n",
    "        ds_cool_crd=DS_COOL_CRD,\n",
    "        ds_cool_wgt=DS_COOL_WGT)\n",
    "    plt_cooling_bokeh(pltdata=pltdata)\n",
    "    print('''FIGURE. Cooling rate profiles.''')"
   ]
  },
  {
   "cell_type": "code",
   "execution_count": 9,
   "metadata": {
    "collapsed": true
   },
   "outputs": [],
   "source": [
    "def fmt_flux(ds_in):\n",
    "    ds = ds_in.copy(deep=True)\n",
    "    \n",
    "    for l in ('level', 'layer'):\n",
    "        if l in ds.data_vars:\n",
    "            if len(ds[l].dims) > 1:\n",
    "                surface = {d: 0 for d in ds.dims if d != 'pressure'}\n",
    "                coord_level = ds[l][surface]\n",
    "                ds.coords[l] = ('pressure', coord_level)\n",
    "            else:\n",
    "                ds.coords[l] = ('pressure', ds[l])\n",
    "        \n",
    "    ds = ds.isel(pressure=[0, 23, -1])\n",
    "        \n",
    "    if 'igg' in ds.dims:\n",
    "        ds = ds.sel(igg=[1])\n",
    "        ds = ds.squeeze('igg').drop('igg')\n",
    "    \n",
    "    if 'g' in ds.dims:\n",
    "        ds = ds.sum('g')\n",
    "            \n",
    "    if 'band' in ds.dims:\n",
    "        try:\n",
    "            ds = ds.squeeze('band').drop('band')\n",
    "        except ValueError:\n",
    "            ds = ds.sum('band')\n",
    "                \n",
    "    df = ds.to_dataframe()\n",
    "    df = df.set_index('level', append=True)               \n",
    "    return df\n",
    "\n",
    "\n",
    "def tbdata_flux(ds_flux=None, ds_flux_crd=None, ds_flux_wgt=None):\n",
    "    ilevels = [0, 23, -1]\n",
    "            \n",
    "    benchmark = {'label': 'CRD',\n",
    "                 'df': fmt_flux(ds_flux_crd)}\n",
    "    \n",
    "    tbs = [{'label': 'WGT igg=10 wgt_flux=1',\n",
    "            'df': fmt_flux(ds_flux_wgt)},\n",
    "           {'label': 'CLIRAD',\n",
    "            'df': fmt_flux(ds_flux)}]\n",
    "    \n",
    "    data = {'benchmark': benchmark, 'others': tbs}\n",
    "    return data\n",
    "\n",
    "\n",
    "def tb_flux(tbdata=None):\n",
    "    benchmark = tbdata['benchmark']\n",
    "    others = tbdata['others']\n",
    "    \n",
    "    def show_tb(d=None):\n",
    "        display.display(d['df'])\n",
    "        print('Table.', 'Fluxes.', d['label'])\n",
    "        \n",
    "    def show_tbdiff(d0=None, d=None):\n",
    "        df = d['df']\n",
    "        df.index = d0['df'].index\n",
    "        display.display(df - d0['df'])\n",
    "        print('Table.', 'Fluxes.', \n",
    "              '({}) - ({})'.format(d['label'], d0['label']))\n",
    "        \n",
    "    show_tb(benchmark)\n",
    "    for d in others:\n",
    "        show_tb(d)\n",
    "        \n",
    "    for d in others:\n",
    "        show_tbdiff(d=d, d0=benchmark)\n",
    "        \n",
    "        \n",
    "def script_tb_flux():\n",
    "    data = tbdata_flux(ds_flux=DS_FLUX,\n",
    "                       ds_flux_crd=DS_FLUX_CRD,\n",
    "                       ds_flux_wgt=DS_FLUX_WGT)\n",
    "    tb_flux(tbdata=data)"
   ]
  },
  {
   "cell_type": "code",
   "execution_count": 10,
   "metadata": {
    "collapsed": true
   },
   "outputs": [],
   "source": [
    "def band_map():\n",
    "    '''\n",
    "    Maps spectral bands in lblnew to spectral bands in clirad.\n",
    "    '''\n",
    "    lblnew2clirad = {'1': '1',\n",
    "            '2': '2',\n",
    "            '3a': '3',\n",
    "            '3b': '4',\n",
    "            '3c': '5',\n",
    "            '4': '6', \n",
    "            '5': '7',\n",
    "            '6': '8',\n",
    "            '7': '9', \n",
    "            '8': '10',\n",
    "            '9': '11'}\n",
    "    \n",
    "    clirad2lblnew = {clirad: lblnew \n",
    "                     for lblnew, clirad in lblnew2clirad.items()}\n",
    "    return clirad2lblnew\n",
    "\n",
    "\n",
    "def gasbands():\n",
    "    bmap = band_map()\n",
    "    gases = list(PARAM['molecule'].keys())\n",
    "    \n",
    "    bands = [bmap[str(b)] for b in PARAM['band']]\n",
    "    return list(itertools.product(gases, bands))\n",
    "\n",
    "\n",
    "def print_bestfit_params():\n",
    "    print('Best-fit values for each (gas, band)')\n",
    "    print('------------------------------------')\n",
    "    for gas, band in gasbands():\n",
    "        print('o {} band{}'.format(gas, band))\n",
    "        param = bestfits.kdist_params(molecule=gas, band=band)\n",
    "        for name, value in sorted(param.items()):\n",
    "            print(2 * ' ' + '{} = {}'.format(name, value))\n",
    "\n",
    "        \n",
    "def print_input_param():        \n",
    "    for name, value in PARAM.items():\n",
    "        print('{} = {}'.format(name, value))\n",
    "        \n",
    "        \n",
    "def print_lblnew_param():\n",
    "    for name, value in sorted(PARAM_LBLNEW.items()):\n",
    "        print('{} = {}'.format(name, value))\n"
   ]
  },
  {
   "cell_type": "code",
   "execution_count": 11,
   "metadata": {
    "collapsed": true,
    "scrolled": false
   },
   "outputs": [],
   "source": [
    "def show_html(s):\n",
    "    display.display(display.HTML(s))\n",
    "\n",
    "    \n",
    "def show_markdown(s):\n",
    "    display.display(display.Markdown(s))\n",
    "\n",
    "    \n",
    "def script():\n",
    "    \n",
    "    title = '### CLIRAD-LW'\n",
    "    s_input = 'Input Parameters'\n",
    "    s_lblnew_param = 'LBLNEW case compaired against'\n",
    "    s_bestfits = 'Best-fit Parameters'\n",
    "    s_plt_cooling = 'Cooling Rate Profiles'\n",
    "    s_tb_flux = 'Flux Comparison'\n",
    "    \n",
    "    # title\n",
    "    show_markdown('### CLIRAD-LW')\n",
    "    \n",
    "    # TOC\n",
    "    show_markdown('### Table of Contents')\n",
    "    show_html(climahtml.getHTML_hrefanchor(s_input))\n",
    "    show_html(climahtml.getHTML_hrefanchor(s_lblnew_param))\n",
    "    show_html(climahtml.getHTML_hrefanchor(s_plt_cooling))\n",
    "    show_html(climahtml.getHTML_hrefanchor(s_tb_flux))\n",
    "    show_html(climahtml.getHTML_hrefanchor(s_bestfits))\n",
    "    \n",
    "    # Input parameters\n",
    "    show_html(climahtml.getHTML_idanchor(s_input))\n",
    "    show_markdown(climahtml.getMarkdown_sectitle(s_input))\n",
    "    print_input_param()\n",
    "    \n",
    "    # LBLNEW parameters \n",
    "    show_html(climahtml.getHTML_idanchor(s_lblnew_param))\n",
    "    show_markdown(climahtml.getMarkdown_sectitle(s_lblnew_param))\n",
    "    print_lblnew_param()\n",
    "    \n",
    "    # Cooling rate profiles\n",
    "    show_html(climahtml.getHTML_idanchor(s_plt_cooling))\n",
    "    show_markdown(climahtml.getMarkdown_sectitle(s_plt_cooling))\n",
    "    script_plt_cooling()\n",
    "    \n",
    "    # Flux comparison\n",
    "    show_html(climahtml.getHTML_idanchor(s_tb_flux))\n",
    "    show_markdown(climahtml.getMarkdown_sectitle(s_tb_flux))\n",
    "    script_tb_flux()\n",
    "    \n",
    "    # Best-fit values\n",
    "    show_html(climahtml.getHTML_idanchor(s_bestfits))\n",
    "    show_markdown(climahtml.getMarkdown_sectitle(s_bestfits))\n",
    "    print_bestfit_params()\n",
    "   \n",
    "    "
   ]
  },
  {
   "cell_type": "code",
   "execution_count": 12,
   "metadata": {
    "collapsed": true,
    "scrolled": false
   },
   "outputs": [
    {
     "data": {
      "text/markdown": [
       "### CLIRAD-LW"
      ],
      "text/plain": [
       "<IPython.core.display.Markdown object>"
      ]
     },
     "metadata": {},
     "output_type": "display_data"
    },
    {
     "data": {
      "text/markdown": [
       "### Table of Contents"
      ],
      "text/plain": [
       "<IPython.core.display.Markdown object>"
      ]
     },
     "metadata": {},
     "output_type": "display_data"
    },
    {
     "data": {
      "text/html": [
       "<a href=\"#Input_Parameters\">Input Parameters</a>"
      ],
      "text/plain": [
       "<IPython.core.display.HTML object>"
      ]
     },
     "metadata": {},
     "output_type": "display_data"
    },
    {
     "data": {
      "text/html": [
       "<a href=\"#LBLNEW_case_compaired_against\">LBLNEW case compaired against</a>"
      ],
      "text/plain": [
       "<IPython.core.display.HTML object>"
      ]
     },
     "metadata": {},
     "output_type": "display_data"
    },
    {
     "data": {
      "text/html": [
       "<a href=\"#Cooling_Rate_Profiles\">Cooling Rate Profiles</a>"
      ],
      "text/plain": [
       "<IPython.core.display.HTML object>"
      ]
     },
     "metadata": {},
     "output_type": "display_data"
    },
    {
     "data": {
      "text/html": [
       "<a href=\"#Flux_Comparison\">Flux Comparison</a>"
      ],
      "text/plain": [
       "<IPython.core.display.HTML object>"
      ]
     },
     "metadata": {},
     "output_type": "display_data"
    },
    {
     "data": {
      "text/html": [
       "<a href=\"#Best-fit_Parameters\">Best-fit Parameters</a>"
      ],
      "text/plain": [
       "<IPython.core.display.HTML object>"
      ]
     },
     "metadata": {},
     "output_type": "display_data"
    },
    {
     "data": {
      "text/html": [
       "<a id=\"Input_Parameters\"></a>"
      ],
      "text/plain": [
       "<IPython.core.display.HTML object>"
      ]
     },
     "metadata": {},
     "output_type": "display_data"
    },
    {
     "data": {
      "text/markdown": [
       "# Input Parameters"
      ],
      "text/plain": [
       "<IPython.core.display.Markdown object>"
      ]
     },
     "metadata": {},
     "output_type": "display_data"
    },
    {
     "name": "stdout",
     "output_type": "stream",
     "text": [
      "atmpro = mls\n",
      "band = [9]\n",
      "commitnumber = de5d43e\n",
      "molecule = {'n2o': 3.2e-07}\n",
      "tsfc = 294\n"
     ]
    },
    {
     "data": {
      "text/html": [
       "<a id=\"LBLNEW_case_compaired_against\"></a>"
      ],
      "text/plain": [
       "<IPython.core.display.HTML object>"
      ]
     },
     "metadata": {},
     "output_type": "display_data"
    },
    {
     "data": {
      "text/markdown": [
       "# LBLNEW case compaired against"
      ],
      "text/plain": [
       "<IPython.core.display.Markdown object>"
      ]
     },
     "metadata": {},
     "output_type": "display_data"
    },
    {
     "name": "stdout",
     "output_type": "stream",
     "text": [
      "atmpro = mls\n",
      "band = 7\n",
      "commitnumber = 5014a19\n",
      "conc = 3.2e-07\n",
      "dv = 0.001\n",
      "klin = 2.22e-20\n",
      "molecule = n2o\n",
      "ng_adju = [0, 0]\n",
      "ng_refs = [2, 2]\n",
      "nv = 1000\n",
      "option_compute_btable = 0\n",
      "option_compute_ktable = 0\n",
      "option_wgt_flux = 1\n",
      "option_wgt_k = 1\n",
      "ref_pts = [(1, 250), (500, 250)]\n",
      "tsfc = 294\n",
      "vmax = 1380\n",
      "vmin = 1215\n",
      "w_diffuse = [(1.8, 1.66), (1.6, 1.8)]\n",
      "wgt = [(0.6, 0.5), (0.6, 0.9)]\n"
     ]
    },
    {
     "data": {
      "text/html": [
       "<a id=\"Cooling_Rate_Profiles\"></a>"
      ],
      "text/plain": [
       "<IPython.core.display.HTML object>"
      ]
     },
     "metadata": {},
     "output_type": "display_data"
    },
    {
     "data": {
      "text/markdown": [
       "# Cooling Rate Profiles"
      ],
      "text/plain": [
       "<IPython.core.display.Markdown object>"
      ]
     },
     "metadata": {},
     "output_type": "display_data"
    },
    {
     "data": {
      "text/html": [
       "\n",
       "<div class=\"bk-root\">\n",
       "    <div class=\"bk-plotdiv\" id=\"bd15f0a0-3937-4d46-a2e0-53c79771ba37\"></div>\n",
       "</div>"
      ]
     },
     "metadata": {},
     "output_type": "display_data"
    },
    {
     "data": {
      "application/javascript": [
       "(function(root) {\n",
       "  function embed_document(root) {\n",
       "    \n",
       "  var docs_json = {\"6849f1a7-e176-4b01-aa3e-6b06a3021661\":{\"roots\":{\"references\":[{\"attributes\":{\"source\":{\"id\":\"dd4a3cfd-1faa-4c97-b602-9915d879005e\",\"type\":\"ColumnDataSource\"}},\"id\":\"699dfd1b-4807-41c5-947d-0f262427dc97\",\"type\":\"CDSView\"},{\"attributes\":{\"line_alpha\":0.6,\"line_color\":\"#e41a1c\",\"line_dash\":[6],\"line_width\":5,\"x\":{\"field\":\"x\"},\"y\":{\"field\":\"y\"}},\"id\":\"3a10da14-c8e8-40bb-94a6-d6973b56ab7b\",\"type\":\"Line\"},{\"attributes\":{},\"id\":\"971795b1-247d-4aa7-9fe6-e1bfd6320356\",\"type\":\"Selection\"},{\"attributes\":{\"tools\":[{\"id\":\"dbf19dff-59f9-4c7d-9672-93956b2a165f\",\"type\":\"PanTool\"},{\"id\":\"c5155ff6-05f9-48bf-b1f7-9fa39226f685\",\"type\":\"WheelZoomTool\"},{\"id\":\"714f46fa-6ace-4a9e-9242-32d3981d9d08\",\"type\":\"BoxZoomTool\"},{\"id\":\"a3b2509d-af58-4bd9-a0a9-d71a81a15253\",\"type\":\"SaveTool\"},{\"id\":\"9f0e844a-e110-49d7-b5da-4fd6e2e33124\",\"type\":\"ResetTool\"},{\"id\":\"287964d3-b054-4b1d-980d-91e5893eb8dc\",\"type\":\"HelpTool\"},{\"id\":\"54a8dea0-61c4-4b97-afe9-08a65eb07208\",\"type\":\"PanTool\"},{\"id\":\"4aee956f-ad98-4778-99f3-85b21ef826d4\",\"type\":\"WheelZoomTool\"},{\"id\":\"bc50b1e5-85ad-409a-922e-d5ecbf795f86\",\"type\":\"BoxZoomTool\"},{\"id\":\"51896cdd-196a-4254-8dae-e8c008717865\",\"type\":\"SaveTool\"},{\"id\":\"a8999e49-f3b3-4628-bd39-17ab289d8000\",\"type\":\"ResetTool\"},{\"id\":\"c2a743cf-f60b-43af-b561-41544f6d0f7c\",\"type\":\"HelpTool\"}]},\"id\":\"38e52523-8760-423b-b8eb-9a7dcf7b6b8c\",\"type\":\"ProxyToolbar\"},{\"attributes\":{\"toolbar\":{\"id\":\"38e52523-8760-423b-b8eb-9a7dcf7b6b8c\",\"type\":\"ProxyToolbar\"},\"toolbar_location\":\"above\"},\"id\":\"ed67f165-bcf0-42a6-a956-a532a3aa6d71\",\"type\":\"ToolbarBox\"},{\"attributes\":{},\"id\":\"4aee956f-ad98-4778-99f3-85b21ef826d4\",\"type\":\"WheelZoomTool\"},{\"attributes\":{\"bottom_units\":\"screen\",\"fill_alpha\":{\"value\":0.5},\"fill_color\":{\"value\":\"lightgrey\"},\"left_units\":\"screen\",\"level\":\"overlay\",\"line_alpha\":{\"value\":1.0},\"line_color\":{\"value\":\"black\"},\"line_dash\":[4,4],\"line_width\":{\"value\":2},\"plot\":null,\"render_mode\":\"css\",\"right_units\":\"screen\",\"top_units\":\"screen\"},\"id\":\"2c8a5031-fd91-4b0a-bdaa-4c00e900e4fa\",\"type\":\"BoxAnnotation\"},{\"attributes\":{\"children\":[{\"id\":\"ed67f165-bcf0-42a6-a956-a532a3aa6d71\",\"type\":\"ToolbarBox\"},{\"id\":\"793ffc60-11c8-4384-b995-84e6e84b0137\",\"type\":\"Column\"}]},\"id\":\"acb030c8-6976-4982-b33a-ae17ac2c725b\",\"type\":\"Column\"},{\"attributes\":{\"callback\":null,\"end\":0.01,\"start\":1020},\"id\":\"f1d3bd3e-5e94-4452-8275-e346b3625e66\",\"type\":\"Range1d\"},{\"attributes\":{\"axis_label\":\"pressure [mb]\",\"formatter\":{\"id\":\"771f686c-9bed-43b8-8bc0-d7e0dbed467e\",\"type\":\"BasicTickFormatter\"},\"plot\":{\"id\":\"cb7a2272-c3cc-4f1e-b273-13c5d7a04a20\",\"subtype\":\"Figure\",\"type\":\"Plot\"},\"ticker\":{\"id\":\"e210af89-a85b-4ea9-8934-eba21889b1c1\",\"type\":\"BasicTicker\"}},\"id\":\"8bbca72c-05a4-4f3f-89b5-83a259684b4c\",\"type\":\"LinearAxis\"},{\"attributes\":{\"line_alpha\":0.1,\"line_color\":\"#1f77b4\",\"line_dash\":[6],\"line_width\":5,\"x\":{\"field\":\"x\"},\"y\":{\"field\":\"y\"}},\"id\":\"1ed918af-7cb7-4dd1-991c-39a7a88639d0\",\"type\":\"Line\"},{\"attributes\":{\"fill_alpha\":{\"value\":0.1},\"fill_color\":{\"value\":\"#1f77b4\"},\"line_alpha\":{\"value\":0.1},\"line_color\":{\"value\":\"#1f77b4\"},\"x\":{\"field\":\"x\"},\"y\":{\"field\":\"y\"}},\"id\":\"22375e1f-7588-46a8-ae60-9b17b420a0c7\",\"type\":\"Square\"},{\"attributes\":{},\"id\":\"e210af89-a85b-4ea9-8934-eba21889b1c1\",\"type\":\"BasicTicker\"},{\"attributes\":{\"source\":{\"id\":\"4f9ca4d8-e35e-426f-abbf-20411968da9c\",\"type\":\"ColumnDataSource\"}},\"id\":\"cc9f6dd0-339c-484b-99f2-b0e8f3bc5b7f\",\"type\":\"CDSView\"},{\"attributes\":{\"data_source\":{\"id\":\"7c748dc8-16b1-4f54-a69c-422e7b32d98e\",\"type\":\"ColumnDataSource\"},\"glyph\":{\"id\":\"213dcc87-9a9a-48b4-8245-6a6c17f0c54c\",\"type\":\"Line\"},\"hover_glyph\":null,\"muted_glyph\":null,\"nonselection_glyph\":{\"id\":\"325a7a64-481d-45a2-aef8-c9a41db77219\",\"type\":\"Line\"},\"selection_glyph\":null,\"view\":{\"id\":\"c3157719-783e-407f-9fd6-e6fdc6f999c4\",\"type\":\"CDSView\"}},\"id\":\"e92d4cf2-138f-4718-9d56-468b2078ccd7\",\"type\":\"GlyphRenderer\"},{\"attributes\":{\"callback\":null,\"data\":{\"x\":{\"__ndarray__\":\"VJgSDQKwkL9WwUOoU4WQv38+mlhoKZC/oDeuiGOMj78rS/zXy8GOv+xEORgo842/7OK2xHEgjb/rWaQvS1KMv2Cqp2Poi4u/Pyy4KLLIir9m1ZnxRwKKvy9XhDzmGIm/KczSgnFHiL/m+29swYCHvz/rd/S+3IS/lFr90vH8d7+C2Y+PQ4NZPyXDVQJKaoY/5dZoqSAXlz8pS1qCAdSiPxQ/l95Rras/chpMlYwssz83igACkBC4P/bl4AI4K7g/WIcV68+8sz/DqMt8r5+tP053pCqTDKU//VRHKK9BnD95eNYPsPCRP/h+f4PZ5YQ/yDIkoAz3cj8gBuLrEhosP1uPcZic/mi/lSebdS0beL/e0Zl6VmWDv8Nn/rWvp4y/lrjkcX6ukr9RYBgxrl+Wv/BLbKMiE5q/AsGWuo9Tnb9iTihxisiev8I7UmQBWJ6/ye6hRJQ9nb/4Q3f+6dWbvxpmuxZ6Kpq/9RR5oSpBmL/aSIxD5ByWv+8+OSg6xZO/Ec+kLXdAkb/50guthyiNv5r5adionoe/uynR57j0gb+0CoY6yXV4v7PZhgqEz2m/hre8+aYoM78WaOkSU3RlP/YpVtUB8XY/v8uG4ZW3gT+2h130IBqIP4HKQRvapo4/YIg7J02tkj98eYtrARqWP1XGrrJ1nJk/BKFwdpcznT+OtT8lu2ygP7KCdglFRKI/RD6X1FQTpD9S4f9GgsWlPwkj5cBCSac/gYAonMWZqD9iUUWKy8epP/AiPux556o/N2BbWs4FrD9PhSqkAi2tP8Edk9XYYK4/\",\"dtype\":\"float64\",\"shape\":[75]},\"y\":{\"__ndarray__\":\"GhExyth1ND/Sv8nbtpRIP2vylNV0PVE/aTum7souWD/At0SJ8fVgPw3Iuahxymc/MSNhhJWvcD/bTfBN02d3P2zb5nxnaoA/CD5h5MAGhz8NmeH1TyaQP+zrCsc9p5Y/LbKd76fGnz/bLW5ISEmmPww9YvTcQq8/JV2OstnstT8Er5Y7M8G+P0c+r3jqkcU/5h99k6ZBzj88bCIzFzjVP4enV8oyxN0//yH99nXg5D8qOpLLf0jtP5kqGJXUifQ/c9cS8kHP/D+/DpwzojQEQIEmwoanVwxA4lgXt9HgE0BSSZ2AJuIbQAMJih9jjiNA5q4l5INuK0AwTKYKRj0zQNv5fmq8/DpAaCJseHrtQkB/+zpwzoxKQM3MzMzMeFJAZmZmZmZqWEAAAAAAAFxeQM3MzMzMJmJAmpmZmZkfZUBmZmZmZhhoQDMzMzMzEWtAAAAAAAAKbkBmZmZmZoFwQM3MzMzM/XFAMzMzMzN6c0CamZmZmfZ0QAAAAAAAc3ZAZmZmZmbvd0DNzMzMzGt5QDMzMzMz6HpAmpmZmZlkfEAAAAAAAOF9QGZmZmZmXX9AZmZmZuZsgECamZmZGSuBQM3MzMxM6YFAAAAAAICngkAzMzMzs2WDQGZmZmbmI4RAmpmZmRnihEDNzMzMTKCFQAAAAACAXoZAMzMzM7Mch0BmZmZm5tqHQJqZmZkZmYhAzczMzExXiUAAAAAAgBWKQDMzMzOz04pAZmZmZuaRi0CamZmZGVCMQM3MzMxMDo1AAAAAAIDMjUAzMzMzs4qOQGZmZmbmSI9A\",\"dtype\":\"float64\",\"shape\":[75]}},\"selected\":{\"id\":\"971795b1-247d-4aa7-9fe6-e1bfd6320356\",\"type\":\"Selection\"},\"selection_policy\":{\"id\":\"ce0227b1-c767-4e11-bafe-638953aa4b47\",\"type\":\"UnionRenderers\"}},\"id\":\"a2ba858e-7242-4764-a134-1f31f37d490c\",\"type\":\"ColumnDataSource\"},{\"attributes\":{\"plot\":{\"id\":\"cb7a2272-c3cc-4f1e-b273-13c5d7a04a20\",\"subtype\":\"Figure\",\"type\":\"Plot\"},\"ticker\":{\"id\":\"7a4a6e40-d3d7-4999-9ebe-24eeeb8e87b8\",\"type\":\"BasicTicker\"}},\"id\":\"aae3139a-bc88-4a92-99ab-0dc4004b80be\",\"type\":\"Grid\"},{\"attributes\":{\"source\":{\"id\":\"4b702ef6-a20f-4ab3-9793-f64e78b08dd4\",\"type\":\"ColumnDataSource\"}},\"id\":\"489c10b5-7588-4cd5-b35f-07505857ebae\",\"type\":\"CDSView\"},{\"attributes\":{\"below\":[{\"id\":\"91c7b94b-6111-40c5-9e22-9eed3a3b117b\",\"type\":\"LinearAxis\"}],\"left\":[{\"id\":\"4a6fdb70-c048-4c94-9731-cd6d6278a1aa\",\"type\":\"LogAxis\"}],\"plot_height\":500,\"plot_width\":560,\"renderers\":[{\"id\":\"91c7b94b-6111-40c5-9e22-9eed3a3b117b\",\"type\":\"LinearAxis\"},{\"id\":\"3393cf2a-82d6-4bad-96ce-4899b506aaa5\",\"type\":\"Grid\"},{\"id\":\"4a6fdb70-c048-4c94-9731-cd6d6278a1aa\",\"type\":\"LogAxis\"},{\"id\":\"199cba92-2eb4-4fcd-a70c-9af5fc39d597\",\"type\":\"Grid\"},{\"id\":\"3feb8e3d-ce90-4805-a33a-8297e2764921\",\"type\":\"BoxAnnotation\"},{\"id\":\"e92d4cf2-138f-4718-9d56-468b2078ccd7\",\"type\":\"GlyphRenderer\"},{\"id\":\"12ad9faf-dfc0-42fd-a804-f82c176f11cb\",\"type\":\"GlyphRenderer\"},{\"id\":\"32ba8cd2-13cc-4f85-99f2-2271b1645094\",\"type\":\"GlyphRenderer\"},{\"id\":\"4b10a832-93f6-41b6-9d08-b375f0937206\",\"type\":\"GlyphRenderer\"},{\"id\":\"6dbdca8e-b3b8-44a2-8cd2-a594860700f8\",\"type\":\"GlyphRenderer\"},{\"id\":\"f6a6e2a5-023c-4ef3-bb1f-93a05e18bf32\",\"type\":\"Legend\"}],\"right\":[{\"id\":\"f6a6e2a5-023c-4ef3-bb1f-93a05e18bf32\",\"type\":\"Legend\"}],\"title\":{\"id\":\"8bad9abe-593e-4ddb-a558-7a7b7f3526a6\",\"type\":\"Title\"},\"toolbar\":{\"id\":\"64f8f9de-f6d7-4e83-9d19-c35c01a49734\",\"type\":\"Toolbar\"},\"toolbar_location\":null,\"x_range\":{\"id\":\"17771508-d4f4-44e5-912f-3ad7055decf8\",\"type\":\"Range1d\"},\"x_scale\":{\"id\":\"4743f0e2-cbe6-4d16-bd37-e67dd79587b6\",\"type\":\"LinearScale\"},\"y_range\":{\"id\":\"f273d74e-9f80-4fc9-ab21-aa04a4f5f866\",\"type\":\"Range1d\"},\"y_scale\":{\"id\":\"b7300c3b-70a2-4fff-afa8-0047b8204739\",\"type\":\"LogScale\"}},\"id\":\"572d36fc-657d-4c64-9ce3-99647a48ef9e\",\"subtype\":\"Figure\",\"type\":\"Plot\"},{\"attributes\":{},\"id\":\"c2a743cf-f60b-43af-b561-41544f6d0f7c\",\"type\":\"HelpTool\"},{\"attributes\":{\"active_drag\":\"auto\",\"active_inspect\":\"auto\",\"active_scroll\":\"auto\",\"active_tap\":\"auto\",\"tools\":[{\"id\":\"dbf19dff-59f9-4c7d-9672-93956b2a165f\",\"type\":\"PanTool\"},{\"id\":\"c5155ff6-05f9-48bf-b1f7-9fa39226f685\",\"type\":\"WheelZoomTool\"},{\"id\":\"714f46fa-6ace-4a9e-9242-32d3981d9d08\",\"type\":\"BoxZoomTool\"},{\"id\":\"a3b2509d-af58-4bd9-a0a9-d71a81a15253\",\"type\":\"SaveTool\"},{\"id\":\"9f0e844a-e110-49d7-b5da-4fd6e2e33124\",\"type\":\"ResetTool\"},{\"id\":\"287964d3-b054-4b1d-980d-91e5893eb8dc\",\"type\":\"HelpTool\"}]},\"id\":\"eee9515c-413d-4522-81e7-e8d863149c2b\",\"type\":\"Toolbar\"},{\"attributes\":{\"plot\":null,\"text\":\"Linear pressure scale\"},\"id\":\"c97f66e2-5b7a-41ab-be75-dad40709642e\",\"type\":\"Title\"},{\"attributes\":{\"line_alpha\":0.6,\"line_color\":\"#984ea3\",\"line_width\":3,\"x\":{\"field\":\"x\"},\"y\":{\"field\":\"y\"}},\"id\":\"5bfa47b3-a407-4fa7-9ec4-ff91344ccedd\",\"type\":\"Line\"},{\"attributes\":{},\"id\":\"7a4a6e40-d3d7-4999-9ebe-24eeeb8e87b8\",\"type\":\"BasicTicker\"},{\"attributes\":{},\"id\":\"4b583514-4f65-4027-8319-07f57971c971\",\"type\":\"BasicTicker\"},{\"attributes\":{\"line_color\":\"#4daf4a\",\"line_width\":1.5,\"x\":{\"field\":\"x\"},\"y\":{\"field\":\"y\"}},\"id\":\"4eab4eb3-1a8c-43b9-a619-45059dda308f\",\"type\":\"Line\"},{\"attributes\":{\"axis_label\":\"cooling rate [K/day]\",\"formatter\":{\"id\":\"b4c9fe0f-1dc4-46e0-b1a6-31a1f0c2f832\",\"type\":\"BasicTickFormatter\"},\"plot\":{\"id\":\"cb7a2272-c3cc-4f1e-b273-13c5d7a04a20\",\"subtype\":\"Figure\",\"type\":\"Plot\"},\"ticker\":{\"id\":\"7a4a6e40-d3d7-4999-9ebe-24eeeb8e87b8\",\"type\":\"BasicTicker\"}},\"id\":\"93963b9e-279a-4128-aed0-78756afdf0b8\",\"type\":\"LinearAxis\"},{\"attributes\":{\"items\":[{\"id\":\"964e87d2-a36b-4aeb-b4c1-577cad78bd08\",\"type\":\"LegendItem\"},{\"id\":\"6c25b26b-7154-42eb-97a2-dcf14b865997\",\"type\":\"LegendItem\"},{\"id\":\"1cffbec8-fe7d-47db-b32f-b93451b84bbe\",\"type\":\"LegendItem\"}],\"label_text_font_size\":{\"value\":\"8pt\"},\"location\":[10,-30],\"plot\":{\"id\":\"572d36fc-657d-4c64-9ce3-99647a48ef9e\",\"subtype\":\"Figure\",\"type\":\"Plot\"}},\"id\":\"f6a6e2a5-023c-4ef3-bb1f-93a05e18bf32\",\"type\":\"Legend\"},{\"attributes\":{\"callback\":null,\"data\":{\"x\":{\"__ndarray__\":\"T9xSUE/0or/0IQiN6dSivwF2cNu3jaK/fPat7SVBor/I0KzKkPOhv+F0TpAxp6G/QWrWw95eob82WeU6dBehv0zUaPhq1aC/4o0vTjqZoL/NxXrLHmagvwrlqp1UQKC/SgaXxuMtoL+TKP2CsjCgvxKKF4UJFZ+/lUL6z5Vmmb/CX2a0YnOOv5i00O8u4GS/j8m0xjgwiT+3VkEtgtaeP1EOxIRhWKo/XZKJrwS/sz/586/dJKO5P7Q//ybc97g/D4qcdBGVsj9QHQGVV9KoP6YRoJdrgJ8/I3TX3wCdkz8wfA9auV6JP+1UcGQUPoE/SE+rTqn3dT+/CqRPoXZkP8FlAIyjJDE/tlRNLMpOWr8W4ROb6f9wvxthky152X6/+qzIbrrzhb9xw2S00seLvwrE/97sXZG/qK3UXSDblL/QoEMOgYuWv/l0+EijMpa/wEwb21lelb/AQgySQ2aUv6sl8mQEQpO/oifNNbjskb++coAKjmWQvz8eL+EmXI2/EnPeOXOTib9Cc7Tiz3uFv+te4fvfLIG/M7NClYJ8eb/H9mVnFH1wvwwDBB4ZZV2/AWHC5+stQD+NsOYQEW9nPwZBrB9gy3U/WvYLynklgD92edjjPJ6FPx1BlKkuUos/U7NYoYChkD/klINQE7qTP/9qczuy9JY/P8QY7uJRmj8EDZbnSs+dP5B1v6p9saA/5GIZ1uV4oj8DQEC3yiWkP/36Ju8RoaU/LCSYHtjnpj/WaVvPOw6oP/pHvpaALak/6gJU9GRXqj+FR8dHHperPxO3MClD96w/\",\"dtype\":\"float64\",\"shape\":[75]},\"y\":{\"__ndarray__\":\"GhExyth1ND/Sv8nbtpRIP2vylNV0PVE/aTum7souWD/At0SJ8fVgPw3Iuahxymc/MSNhhJWvcD/bTfBN02d3P2zb5nxnaoA/CD5h5MAGhz8NmeH1TyaQP+zrCsc9p5Y/LbKd76fGnz/bLW5ISEmmPww9YvTcQq8/JV2OstnstT8Er5Y7M8G+P0c+r3jqkcU/5h99k6ZBzj88bCIzFzjVP4enV8oyxN0//yH99nXg5D8qOpLLf0jtP5kqGJXUifQ/c9cS8kHP/D+/DpwzojQEQIEmwoanVwxA4lgXt9HgE0BSSZ2AJuIbQAMJih9jjiNA5q4l5INuK0AwTKYKRj0zQNv5fmq8/DpAaCJseHrtQkB/+zpwzoxKQM3MzMzMeFJAZmZmZmZqWEAAAAAAAFxeQM3MzMzMJmJAmpmZmZkfZUBmZmZmZhhoQDMzMzMzEWtAAAAAAAAKbkBmZmZmZoFwQM3MzMzM/XFAMzMzMzN6c0CamZmZmfZ0QAAAAAAAc3ZAZmZmZmbvd0DNzMzMzGt5QDMzMzMz6HpAmpmZmZlkfEAAAAAAAOF9QGZmZmZmXX9AZmZmZuZsgECamZmZGSuBQM3MzMxM6YFAAAAAAICngkAzMzMzs2WDQGZmZmbmI4RAmpmZmRnihEDNzMzMTKCFQAAAAACAXoZAMzMzM7Mch0BmZmZm5tqHQJqZmZkZmYhAzczMzExXiUAAAAAAgBWKQDMzMzOz04pAZmZmZuaRi0CamZmZGVCMQM3MzMxMDo1AAAAAAIDMjUAzMzMzs4qOQGZmZmbmSI9A\",\"dtype\":\"float64\",\"shape\":[75]}},\"selected\":{\"id\":\"abaa9177-9aa2-4d47-b150-2efc8985a6c4\",\"type\":\"Selection\"},\"selection_policy\":{\"id\":\"10e357e8-72c2-4faf-b1ed-56714153e3b8\",\"type\":\"UnionRenderers\"}},\"id\":\"6d3d596f-ae2f-4f73-b9b4-a1e77b308103\",\"type\":\"ColumnDataSource\"},{\"attributes\":{},\"id\":\"b7300c3b-70a2-4fff-afa8-0047b8204739\",\"type\":\"LogScale\"},{\"attributes\":{\"line_color\":\"#4daf4a\",\"line_width\":1.5,\"x\":{\"field\":\"x\"},\"y\":{\"field\":\"y\"}},\"id\":\"8294d384-6043-4c4d-b516-8d9f9e6c2083\",\"type\":\"Line\"},{\"attributes\":{},\"id\":\"51896cdd-196a-4254-8dae-e8c008717865\",\"type\":\"SaveTool\"},{\"attributes\":{\"plot\":null,\"text\":\"Log pressure scale\"},\"id\":\"8bad9abe-593e-4ddb-a558-7a7b7f3526a6\",\"type\":\"Title\"},{\"attributes\":{\"data_source\":{\"id\":\"6d3d596f-ae2f-4f73-b9b4-a1e77b308103\",\"type\":\"ColumnDataSource\"},\"glyph\":{\"id\":\"65a85c33-87ba-4dfb-bad8-30dee8f89611\",\"type\":\"Circle\"},\"hover_glyph\":null,\"muted_glyph\":null,\"nonselection_glyph\":{\"id\":\"ea1ced38-aba0-4127-a39c-51d03305b553\",\"type\":\"Circle\"},\"selection_glyph\":null,\"view\":{\"id\":\"548d60fa-c9b2-4694-8a52-2867f36acae1\",\"type\":\"CDSView\"}},\"id\":\"12ad9faf-dfc0-42fd-a804-f82c176f11cb\",\"type\":\"GlyphRenderer\"},{\"attributes\":{\"dimension\":1,\"plot\":{\"id\":\"cb7a2272-c3cc-4f1e-b273-13c5d7a04a20\",\"subtype\":\"Figure\",\"type\":\"Plot\"},\"ticker\":{\"id\":\"e210af89-a85b-4ea9-8934-eba21889b1c1\",\"type\":\"BasicTicker\"}},\"id\":\"5c5c1cb5-7044-4f14-a177-31be4078fb71\",\"type\":\"Grid\"},{\"attributes\":{\"fill_alpha\":{\"value\":0.1},\"fill_color\":{\"value\":\"#1f77b4\"},\"line_alpha\":{\"value\":0.1},\"line_color\":{\"value\":\"#1f77b4\"},\"x\":{\"field\":\"x\"},\"y\":{\"field\":\"y\"}},\"id\":\"e6f0766e-d0bc-438e-9152-49b75dbd8437\",\"type\":\"Circle\"},{\"attributes\":{\"fill_alpha\":{\"value\":0.1},\"fill_color\":{\"value\":\"#1f77b4\"},\"line_alpha\":{\"value\":0.1},\"line_color\":{\"value\":\"#1f77b4\"},\"x\":{\"field\":\"x\"},\"y\":{\"field\":\"y\"}},\"id\":\"ea1ced38-aba0-4127-a39c-51d03305b553\",\"type\":\"Circle\"},{\"attributes\":{\"source\":{\"id\":\"6d3d596f-ae2f-4f73-b9b4-a1e77b308103\",\"type\":\"ColumnDataSource\"}},\"id\":\"548d60fa-c9b2-4694-8a52-2867f36acae1\",\"type\":\"CDSView\"},{\"attributes\":{\"data_source\":{\"id\":\"df579e09-b47a-44b2-b7f9-ec9ffd277ff3\",\"type\":\"ColumnDataSource\"},\"glyph\":{\"id\":\"8294d384-6043-4c4d-b516-8d9f9e6c2083\",\"type\":\"Line\"},\"hover_glyph\":null,\"muted_glyph\":null,\"nonselection_glyph\":{\"id\":\"fee7888d-d942-4e07-836d-36f69ffb54b9\",\"type\":\"Line\"},\"selection_glyph\":null,\"view\":{\"id\":\"6d57d261-3579-41d3-b0b3-14d9cbc89527\",\"type\":\"CDSView\"}},\"id\":\"641e4403-1699-485d-a48e-100ff3b72a98\",\"type\":\"GlyphRenderer\"},{\"attributes\":{\"source\":{\"id\":\"879eadc0-d2d0-4f62-8a84-ae8fbb443b6a\",\"type\":\"ColumnDataSource\"}},\"id\":\"4fdae31d-990d-48ab-9add-5da6a61e7730\",\"type\":\"CDSView\"},{\"attributes\":{},\"id\":\"9f0e844a-e110-49d7-b5da-4fd6e2e33124\",\"type\":\"ResetTool\"},{\"attributes\":{\"source\":{\"id\":\"7c748dc8-16b1-4f54-a69c-422e7b32d98e\",\"type\":\"ColumnDataSource\"}},\"id\":\"c3157719-783e-407f-9fd6-e6fdc6f999c4\",\"type\":\"CDSView\"},{\"attributes\":{\"callback\":null,\"data\":{\"x\":{\"__ndarray__\":\"T9xSUE/0or/0IQiN6dSivwF2cNu3jaK/fPat7SVBor/I0KzKkPOhv+F0TpAxp6G/QWrWw95eob82WeU6dBehv0zUaPhq1aC/4o0vTjqZoL/NxXrLHmagvwrlqp1UQKC/SgaXxuMtoL+TKP2CsjCgvxKKF4UJFZ+/lUL6z5Vmmb/CX2a0YnOOv5i00O8u4GS/j8m0xjgwiT+3VkEtgtaeP1EOxIRhWKo/XZKJrwS/sz/586/dJKO5P7Q//ybc97g/D4qcdBGVsj9QHQGVV9KoP6YRoJdrgJ8/I3TX3wCdkz8wfA9auV6JP+1UcGQUPoE/SE+rTqn3dT+/CqRPoXZkP8FlAIyjJDE/tlRNLMpOWr8W4ROb6f9wvxthky152X6/+qzIbrrzhb9xw2S00seLvwrE/97sXZG/qK3UXSDblL/QoEMOgYuWv/l0+EijMpa/wEwb21lelb/AQgySQ2aUv6sl8mQEQpO/oifNNbjskb++coAKjmWQvz8eL+EmXI2/EnPeOXOTib9Cc7Tiz3uFv+te4fvfLIG/M7NClYJ8eb/H9mVnFH1wvwwDBB4ZZV2/AWHC5+stQD+NsOYQEW9nPwZBrB9gy3U/WvYLynklgD92edjjPJ6FPx1BlKkuUos/U7NYoYChkD/klINQE7qTP/9qczuy9JY/P8QY7uJRmj8EDZbnSs+dP5B1v6p9saA/5GIZ1uV4oj8DQEC3yiWkP/36Ju8RoaU/LCSYHtjnpj/WaVvPOw6oP/pHvpaALak/6gJU9GRXqj+FR8dHHperPxO3MClD96w/\",\"dtype\":\"float64\",\"shape\":[75]},\"y\":{\"__ndarray__\":\"GhExyth1ND/Sv8nbtpRIP2vylNV0PVE/aTum7souWD/At0SJ8fVgPw3Iuahxymc/MSNhhJWvcD/bTfBN02d3P2zb5nxnaoA/CD5h5MAGhz8NmeH1TyaQP+zrCsc9p5Y/LbKd76fGnz/bLW5ISEmmPww9YvTcQq8/JV2OstnstT8Er5Y7M8G+P0c+r3jqkcU/5h99k6ZBzj88bCIzFzjVP4enV8oyxN0//yH99nXg5D8qOpLLf0jtP5kqGJXUifQ/c9cS8kHP/D+/DpwzojQEQIEmwoanVwxA4lgXt9HgE0BSSZ2AJuIbQAMJih9jjiNA5q4l5INuK0AwTKYKRj0zQNv5fmq8/DpAaCJseHrtQkB/+zpwzoxKQM3MzMzMeFJAZmZmZmZqWEAAAAAAAFxeQM3MzMzMJmJAmpmZmZkfZUBmZmZmZhhoQDMzMzMzEWtAAAAAAAAKbkBmZmZmZoFwQM3MzMzM/XFAMzMzMzN6c0CamZmZmfZ0QAAAAAAAc3ZAZmZmZmbvd0DNzMzMzGt5QDMzMzMz6HpAmpmZmZlkfEAAAAAAAOF9QGZmZmZmXX9AZmZmZuZsgECamZmZGSuBQM3MzMxM6YFAAAAAAICngkAzMzMzs2WDQGZmZmbmI4RAmpmZmRnihEDNzMzMTKCFQAAAAACAXoZAMzMzM7Mch0BmZmZm5tqHQJqZmZkZmYhAzczMzExXiUAAAAAAgBWKQDMzMzOz04pAZmZmZuaRi0CamZmZGVCMQM3MzMxMDo1AAAAAAIDMjUAzMzMzs4qOQGZmZmbmSI9A\",\"dtype\":\"float64\",\"shape\":[75]}},\"selected\":{\"id\":\"bf4224cc-82e2-4f00-bb4a-1d2f78b11614\",\"type\":\"Selection\"},\"selection_policy\":{\"id\":\"eb37dc10-d38b-420f-a006-0ac1301ee998\",\"type\":\"UnionRenderers\"}},\"id\":\"4f9ca4d8-e35e-426f-abbf-20411968da9c\",\"type\":\"ColumnDataSource\"},{\"attributes\":{\"callback\":null,\"data\":{\"x\":{\"__ndarray__\":\"VJgSDQKwkL9WwUOoU4WQv38+mlhoKZC/oDeuiGOMj78rS/zXy8GOv+xEORgo842/7OK2xHEgjb/rWaQvS1KMv2Cqp2Poi4u/Pyy4KLLIir9m1ZnxRwKKvy9XhDzmGIm/KczSgnFHiL/m+29swYCHvz/rd/S+3IS/lFr90vH8d7+C2Y+PQ4NZPyXDVQJKaoY/5dZoqSAXlz8pS1qCAdSiPxQ/l95Rras/chpMlYwssz83igACkBC4P/bl4AI4K7g/WIcV68+8sz/DqMt8r5+tP053pCqTDKU//VRHKK9BnD95eNYPsPCRP/h+f4PZ5YQ/yDIkoAz3cj8gBuLrEhosP1uPcZic/mi/lSebdS0beL/e0Zl6VmWDv8Nn/rWvp4y/lrjkcX6ukr9RYBgxrl+Wv/BLbKMiE5q/AsGWuo9Tnb9iTihxisiev8I7UmQBWJ6/ye6hRJQ9nb/4Q3f+6dWbvxpmuxZ6Kpq/9RR5oSpBmL/aSIxD5ByWv+8+OSg6xZO/Ec+kLXdAkb/50guthyiNv5r5adionoe/uynR57j0gb+0CoY6yXV4v7PZhgqEz2m/hre8+aYoM78WaOkSU3RlP/YpVtUB8XY/v8uG4ZW3gT+2h130IBqIP4HKQRvapo4/YIg7J02tkj98eYtrARqWP1XGrrJ1nJk/BKFwdpcznT+OtT8lu2ygP7KCdglFRKI/RD6X1FQTpD9S4f9GgsWlPwkj5cBCSac/gYAonMWZqD9iUUWKy8epP/AiPux556o/N2BbWs4FrD9PhSqkAi2tP8Edk9XYYK4/\",\"dtype\":\"float64\",\"shape\":[75]},\"y\":{\"__ndarray__\":\"GhExyth1ND/Sv8nbtpRIP2vylNV0PVE/aTum7souWD/At0SJ8fVgPw3Iuahxymc/MSNhhJWvcD/bTfBN02d3P2zb5nxnaoA/CD5h5MAGhz8NmeH1TyaQP+zrCsc9p5Y/LbKd76fGnz/bLW5ISEmmPww9YvTcQq8/JV2OstnstT8Er5Y7M8G+P0c+r3jqkcU/5h99k6ZBzj88bCIzFzjVP4enV8oyxN0//yH99nXg5D8qOpLLf0jtP5kqGJXUifQ/c9cS8kHP/D+/DpwzojQEQIEmwoanVwxA4lgXt9HgE0BSSZ2AJuIbQAMJih9jjiNA5q4l5INuK0AwTKYKRj0zQNv5fmq8/DpAaCJseHrtQkB/+zpwzoxKQM3MzMzMeFJAZmZmZmZqWEAAAAAAAFxeQM3MzMzMJmJAmpmZmZkfZUBmZmZmZhhoQDMzMzMzEWtAAAAAAAAKbkBmZmZmZoFwQM3MzMzM/XFAMzMzMzN6c0CamZmZmfZ0QAAAAAAAc3ZAZmZmZmbvd0DNzMzMzGt5QDMzMzMz6HpAmpmZmZlkfEAAAAAAAOF9QGZmZmZmXX9AZmZmZuZsgECamZmZGSuBQM3MzMxM6YFAAAAAAICngkAzMzMzs2WDQGZmZmbmI4RAmpmZmRnihEDNzMzMTKCFQAAAAACAXoZAMzMzM7Mch0BmZmZm5tqHQJqZmZkZmYhAzczMzExXiUAAAAAAgBWKQDMzMzOz04pAZmZmZuaRi0CamZmZGVCMQM3MzMxMDo1AAAAAAIDMjUAzMzMzs4qOQGZmZmbmSI9A\",\"dtype\":\"float64\",\"shape\":[75]}},\"selected\":{\"id\":\"a61b93ab-e25e-4043-8923-b36ef43b3b11\",\"type\":\"Selection\"},\"selection_policy\":{\"id\":\"58d5fc8b-1fd8-459a-aac6-cde9351e13f4\",\"type\":\"UnionRenderers\"}},\"id\":\"879eadc0-d2d0-4f62-8a84-ae8fbb443b6a\",\"type\":\"ColumnDataSource\"},{\"attributes\":{\"dimension\":1,\"plot\":{\"id\":\"572d36fc-657d-4c64-9ce3-99647a48ef9e\",\"subtype\":\"Figure\",\"type\":\"Plot\"},\"ticker\":{\"id\":\"3f063e08-5de2-4b9d-b554-ba0c7c4fe577\",\"type\":\"LogTicker\"}},\"id\":\"199cba92-2eb4-4fcd-a70c-9af5fc39d597\",\"type\":\"Grid\"},{\"attributes\":{\"callback\":null,\"data\":{\"x\":{\"__ndarray__\":\"6t6NfJPjiL++soQVpKKIvwuZMDwk7Ie/1elmnfY2h7+yR7dEf3+Gv+4pBjZRxYW/fg6lVpUGhb+6mwEYUUaEv9S1GrytgIO/vOGuxii7gr+ylb9WXPCBv2mmvt7LJYG/Aw39pZpYgL/gSPfmhP9+vxxEMCzNlnm/HuYn6kcpYr/btqLnMzRzP/FlYOzWlYs/Rq7qmDLxmD8/nzjoYVSjP8OjOSRItKs/RUmepCblsj98Fw0eSIy3P4rmZFat1Lc/BBXFE5Disz9YkcLWG56uPxwuwN7HSKY/Sm99Le93nj9gUSOKT1WTPwZvEPmjsoU/caTJS1IncT95KmCbKzFGv0Dul1nIf3C/5gyx8Gh5e7/UC+jMEKOEvwDbozIjjo2/Bq81EqMSk79MQBQYJ8iWv67xisFybZq/dljZJUeNnb8xDcgAfv2ev0HrDwQwtJ6/g8fsad2/nb8JiOHUG3acv4gtK7cu4Zq/EoC8ra0Fmb+hr1Z2jO6WvzxVkC85n5S/GgnAgcEckr+S/QrR1eGOv3oyqejiS4m/fv7R8JOOg7+CKADMWmZ7v7oIEwvjA2+/rr715HEkS7/TsbkYMv9hP46pZ/ycrXU/J8SXImRUgT8KwnAJG/mHP5XcerA5xY4/h/vpuzLakj+bJl8VF2OWP5npt988/Zk/XiAGj3apnT80ppV/g6+gP2CIN5O4jKI/7IIkYDJdpD+8JSw2VROmP6xEj86vnKc/7uAvf+j2qD8R3Jcf9y6qP/QJ23pGVas/nwVNvQF1rD81PYtSAJStP2upADvetK4/\",\"dtype\":\"float64\",\"shape\":[75]},\"y\":{\"__ndarray__\":\"S/O/Q+51ND/Sv8nbtpRIP2vylNV0PVE/aTum7souWD/At0SJ8fVgPw3Iuahxymc/MSNhhJWvcD/bTfBN02d3P2zb5nxnaoA/CD5h5MAGhz8NmeH1TyaQP+zrCsc9p5Y/LbKd76fGnz/bLW5ISEmmPww9YvTcQq8/JV2OstnstT8Er5Y7M8G+P0c+r3jqkcU/5h99k6ZBzj88bCIzFzjVP4enV8oyxN0//yH99nXg5D8qOpLLf0jtP5kqGJXUifQ/c9cS8kHP/D+/DpwzojQEQIEmwoanVwxA4lgXt9HgE0BSSZ2AJuIbQAMJih9jjiNA5q4l5INuK0AwTKYKRj0zQNv5fmq8/DpAaCJseHrtQkB/+zpwzoxKQM3MzMzMeFJAZmZmZmZqWEAAAAAAAFxeQM3MzMzMJmJAmpmZmZkfZUBmZmZmZhhoQDMzMzMzEWtAAAAAAAAKbkBmZmZmZoFwQM3MzMzM/XFAMzMzMzN6c0CamZmZmfZ0QAAAAAAAc3ZAZmZmZmbvd0DNzMzMzGt5QDMzMzMz6HpAmpmZmZlkfEAAAAAAAOF9QGZmZmZmXX9AZmZmZuZsgECamZmZGSuBQM3MzMxM6YFAAAAAAICngkAzMzMzs2WDQGZmZmbmI4RAmpmZmRnihEDNzMzMTKCFQAAAAACAXoZAMzMzM7Mch0BmZmZm5tqHQJqZmZkZmYhAzczMzExXiUAAAAAAgBWKQDMzMzOz04pAZmZmZuaRi0CamZmZGVCMQM3MzMxMDo1AAAAAAIDMjUAzMzMzs4qOQGZmZmbmSI9A\",\"dtype\":\"float64\",\"shape\":[75]}},\"selected\":{\"id\":\"f254beec-3761-427d-8c52-87558590c43d\",\"type\":\"Selection\"},\"selection_policy\":{\"id\":\"8b11167d-76b1-459a-8acd-78e194d7e529\",\"type\":\"UnionRenderers\"}},\"id\":\"dd4a3cfd-1faa-4c97-b602-9915d879005e\",\"type\":\"ColumnDataSource\"},{\"attributes\":{},\"id\":\"dbf19dff-59f9-4c7d-9672-93956b2a165f\",\"type\":\"PanTool\"},{\"attributes\":{},\"id\":\"287964d3-b054-4b1d-980d-91e5893eb8dc\",\"type\":\"HelpTool\"},{\"attributes\":{\"fill_alpha\":{\"value\":0.7},\"fill_color\":{\"value\":\"#4daf4a\"},\"line_alpha\":{\"value\":0.7},\"line_color\":{\"value\":\"#4daf4a\"},\"x\":{\"field\":\"x\"},\"y\":{\"field\":\"y\"}},\"id\":\"65a85c33-87ba-4dfb-bad8-30dee8f89611\",\"type\":\"Circle\"},{\"attributes\":{\"bottom_units\":\"screen\",\"fill_alpha\":{\"value\":0.5},\"fill_color\":{\"value\":\"lightgrey\"},\"left_units\":\"screen\",\"level\":\"overlay\",\"line_alpha\":{\"value\":1.0},\"line_color\":{\"value\":\"black\"},\"line_dash\":[4,4],\"line_width\":{\"value\":2},\"plot\":null,\"render_mode\":\"css\",\"right_units\":\"screen\",\"top_units\":\"screen\"},\"id\":\"3feb8e3d-ce90-4805-a33a-8297e2764921\",\"type\":\"BoxAnnotation\"},{\"attributes\":{\"line_alpha\":0.6,\"line_color\":\"#984ea3\",\"line_width\":3,\"x\":{\"field\":\"x\"},\"y\":{\"field\":\"y\"}},\"id\":\"b71c784a-0a77-4331-a509-dbe4675ce540\",\"type\":\"Line\"},{\"attributes\":{\"source\":{\"id\":\"a2ba858e-7242-4764-a134-1f31f37d490c\",\"type\":\"ColumnDataSource\"}},\"id\":\"3d557ecc-8b22-4cff-922b-deaa11348dce\",\"type\":\"CDSView\"},{\"attributes\":{},\"id\":\"a3b2509d-af58-4bd9-a0a9-d71a81a15253\",\"type\":\"SaveTool\"},{\"attributes\":{\"callback\":null,\"data\":{\"x\":{\"__ndarray__\":\"T9xSUE/0or/0IQiN6dSivwF2cNu3jaK/fPat7SVBor/I0KzKkPOhv+F0TpAxp6G/QWrWw95eob82WeU6dBehv0zUaPhq1aC/4o0vTjqZoL/NxXrLHmagvwrlqp1UQKC/SgaXxuMtoL+TKP2CsjCgvxKKF4UJFZ+/lUL6z5Vmmb/CX2a0YnOOv5i00O8u4GS/j8m0xjgwiT+3VkEtgtaeP1EOxIRhWKo/XZKJrwS/sz/586/dJKO5P7Q//ybc97g/D4qcdBGVsj9QHQGVV9KoP6YRoJdrgJ8/I3TX3wCdkz8wfA9auV6JP+1UcGQUPoE/SE+rTqn3dT+/CqRPoXZkP8FlAIyjJDE/tlRNLMpOWr8W4ROb6f9wvxthky152X6/+qzIbrrzhb9xw2S00seLvwrE/97sXZG/qK3UXSDblL/QoEMOgYuWv/l0+EijMpa/wEwb21lelb/AQgySQ2aUv6sl8mQEQpO/oifNNbjskb++coAKjmWQvz8eL+EmXI2/EnPeOXOTib9Cc7Tiz3uFv+te4fvfLIG/M7NClYJ8eb/H9mVnFH1wvwwDBB4ZZV2/AWHC5+stQD+NsOYQEW9nPwZBrB9gy3U/WvYLynklgD92edjjPJ6FPx1BlKkuUos/U7NYoYChkD/klINQE7qTP/9qczuy9JY/P8QY7uJRmj8EDZbnSs+dP5B1v6p9saA/5GIZ1uV4oj8DQEC3yiWkP/36Ju8RoaU/LCSYHtjnpj/WaVvPOw6oP/pHvpaALak/6gJU9GRXqj+FR8dHHperPxO3MClD96w/\",\"dtype\":\"float64\",\"shape\":[75]},\"y\":{\"__ndarray__\":\"GhExyth1ND/Sv8nbtpRIP2vylNV0PVE/aTum7souWD/At0SJ8fVgPw3Iuahxymc/MSNhhJWvcD/bTfBN02d3P2zb5nxnaoA/CD5h5MAGhz8NmeH1TyaQP+zrCsc9p5Y/LbKd76fGnz/bLW5ISEmmPww9YvTcQq8/JV2OstnstT8Er5Y7M8G+P0c+r3jqkcU/5h99k6ZBzj88bCIzFzjVP4enV8oyxN0//yH99nXg5D8qOpLLf0jtP5kqGJXUifQ/c9cS8kHP/D+/DpwzojQEQIEmwoanVwxA4lgXt9HgE0BSSZ2AJuIbQAMJih9jjiNA5q4l5INuK0AwTKYKRj0zQNv5fmq8/DpAaCJseHrtQkB/+zpwzoxKQM3MzMzMeFJAZmZmZmZqWEAAAAAAAFxeQM3MzMzMJmJAmpmZmZkfZUBmZmZmZhhoQDMzMzMzEWtAAAAAAAAKbkBmZmZmZoFwQM3MzMzM/XFAMzMzMzN6c0CamZmZmfZ0QAAAAAAAc3ZAZmZmZmbvd0DNzMzMzGt5QDMzMzMz6HpAmpmZmZlkfEAAAAAAAOF9QGZmZmZmXX9AZmZmZuZsgECamZmZGSuBQM3MzMxM6YFAAAAAAICngkAzMzMzs2WDQGZmZmbmI4RAmpmZmRnihEDNzMzMTKCFQAAAAACAXoZAMzMzM7Mch0BmZmZm5tqHQJqZmZkZmYhAzczMzExXiUAAAAAAgBWKQDMzMzOz04pAZmZmZuaRi0CamZmZGVCMQM3MzMxMDo1AAAAAAIDMjUAzMzMzs4qOQGZmZmbmSI9A\",\"dtype\":\"float64\",\"shape\":[75]}},\"selected\":{\"id\":\"13b59ca0-eb32-46b9-bca6-e2fb7a688db6\",\"type\":\"Selection\"},\"selection_policy\":{\"id\":\"1fbaeeb6-d82c-4845-811e-ed6e8b89dc36\",\"type\":\"UnionRenderers\"}},\"id\":\"71b2f824-0834-4958-9187-423bbdab8d94\",\"type\":\"ColumnDataSource\"},{\"attributes\":{\"callback\":null,\"data\":{\"x\":{\"__ndarray__\":\"T9xSUE/0or/0IQiN6dSivwF2cNu3jaK/fPat7SVBor/I0KzKkPOhv+F0TpAxp6G/QWrWw95eob82WeU6dBehv0zUaPhq1aC/4o0vTjqZoL/NxXrLHmagvwrlqp1UQKC/SgaXxuMtoL+TKP2CsjCgvxKKF4UJFZ+/lUL6z5Vmmb/CX2a0YnOOv5i00O8u4GS/j8m0xjgwiT+3VkEtgtaeP1EOxIRhWKo/XZKJrwS/sz/586/dJKO5P7Q//ybc97g/D4qcdBGVsj9QHQGVV9KoP6YRoJdrgJ8/I3TX3wCdkz8wfA9auV6JP+1UcGQUPoE/SE+rTqn3dT+/CqRPoXZkP8FlAIyjJDE/tlRNLMpOWr8W4ROb6f9wvxthky152X6/+qzIbrrzhb9xw2S00seLvwrE/97sXZG/qK3UXSDblL/QoEMOgYuWv/l0+EijMpa/wEwb21lelb/AQgySQ2aUv6sl8mQEQpO/oifNNbjskb++coAKjmWQvz8eL+EmXI2/EnPeOXOTib9Cc7Tiz3uFv+te4fvfLIG/M7NClYJ8eb/H9mVnFH1wvwwDBB4ZZV2/AWHC5+stQD+NsOYQEW9nPwZBrB9gy3U/WvYLynklgD92edjjPJ6FPx1BlKkuUos/U7NYoYChkD/klINQE7qTP/9qczuy9JY/P8QY7uJRmj8EDZbnSs+dP5B1v6p9saA/5GIZ1uV4oj8DQEC3yiWkP/36Ju8RoaU/LCSYHtjnpj/WaVvPOw6oP/pHvpaALak/6gJU9GRXqj+FR8dHHperPxO3MClD96w/\",\"dtype\":\"float64\",\"shape\":[75]},\"y\":{\"__ndarray__\":\"GhExyth1ND/Sv8nbtpRIP2vylNV0PVE/aTum7souWD/At0SJ8fVgPw3Iuahxymc/MSNhhJWvcD/bTfBN02d3P2zb5nxnaoA/CD5h5MAGhz8NmeH1TyaQP+zrCsc9p5Y/LbKd76fGnz/bLW5ISEmmPww9YvTcQq8/JV2OstnstT8Er5Y7M8G+P0c+r3jqkcU/5h99k6ZBzj88bCIzFzjVP4enV8oyxN0//yH99nXg5D8qOpLLf0jtP5kqGJXUifQ/c9cS8kHP/D+/DpwzojQEQIEmwoanVwxA4lgXt9HgE0BSSZ2AJuIbQAMJih9jjiNA5q4l5INuK0AwTKYKRj0zQNv5fmq8/DpAaCJseHrtQkB/+zpwzoxKQM3MzMzMeFJAZmZmZmZqWEAAAAAAAFxeQM3MzMzMJmJAmpmZmZkfZUBmZmZmZhhoQDMzMzMzEWtAAAAAAAAKbkBmZmZmZoFwQM3MzMzM/XFAMzMzMzN6c0CamZmZmfZ0QAAAAAAAc3ZAZmZmZmbvd0DNzMzMzGt5QDMzMzMz6HpAmpmZmZlkfEAAAAAAAOF9QGZmZmZmXX9AZmZmZuZsgECamZmZGSuBQM3MzMxM6YFAAAAAAICngkAzMzMzs2WDQGZmZmbmI4RAmpmZmRnihEDNzMzMTKCFQAAAAACAXoZAMzMzM7Mch0BmZmZm5tqHQJqZmZkZmYhAzczMzExXiUAAAAAAgBWKQDMzMzOz04pAZmZmZuaRi0CamZmZGVCMQM3MzMxMDo1AAAAAAIDMjUAzMzMzs4qOQGZmZmbmSI9A\",\"dtype\":\"float64\",\"shape\":[75]}},\"selected\":{\"id\":\"34f27feb-b8a4-4429-9912-4c05c6707d37\",\"type\":\"Selection\"},\"selection_policy\":{\"id\":\"7ecc3c0f-800c-468e-943d-5ea07b731493\",\"type\":\"UnionRenderers\"}},\"id\":\"df579e09-b47a-44b2-b7f9-ec9ffd277ff3\",\"type\":\"ColumnDataSource\"},{\"attributes\":{},\"id\":\"c5155ff6-05f9-48bf-b1f7-9fa39226f685\",\"type\":\"WheelZoomTool\"},{\"attributes\":{\"line_alpha\":0.1,\"line_color\":\"#1f77b4\",\"line_width\":1.5,\"x\":{\"field\":\"x\"},\"y\":{\"field\":\"y\"}},\"id\":\"517ecdc4-c385-4edf-a7c4-effdcdaadb29\",\"type\":\"Line\"},{\"attributes\":{\"overlay\":{\"id\":\"2c8a5031-fd91-4b0a-bdaa-4c00e900e4fa\",\"type\":\"BoxAnnotation\"}},\"id\":\"714f46fa-6ace-4a9e-9242-32d3981d9d08\",\"type\":\"BoxZoomTool\"},{\"attributes\":{},\"id\":\"54a8dea0-61c4-4b97-afe9-08a65eb07208\",\"type\":\"PanTool\"},{\"attributes\":{\"data_source\":{\"id\":\"4f9ca4d8-e35e-426f-abbf-20411968da9c\",\"type\":\"ColumnDataSource\"},\"glyph\":{\"id\":\"cfa6bdd9-8601-48b2-af10-ffcc189ca038\",\"type\":\"Circle\"},\"hover_glyph\":null,\"muted_glyph\":null,\"nonselection_glyph\":{\"id\":\"e6f0766e-d0bc-438e-9152-49b75dbd8437\",\"type\":\"Circle\"},\"selection_glyph\":null,\"view\":{\"id\":\"cc9f6dd0-339c-484b-99f2-b0e8f3bc5b7f\",\"type\":\"CDSView\"}},\"id\":\"6bc4fcc0-773b-451c-8533-2b8c11230c5e\",\"type\":\"GlyphRenderer\"},{\"attributes\":{\"data_source\":{\"id\":\"71b2f824-0834-4958-9187-423bbdab8d94\",\"type\":\"ColumnDataSource\"},\"glyph\":{\"id\":\"4eab4eb3-1a8c-43b9-a619-45059dda308f\",\"type\":\"Line\"},\"hover_glyph\":null,\"muted_glyph\":null,\"nonselection_glyph\":{\"id\":\"517ecdc4-c385-4edf-a7c4-effdcdaadb29\",\"type\":\"Line\"},\"selection_glyph\":null,\"view\":{\"id\":\"8282efdd-6b0c-46f0-91b7-55239735d918\",\"type\":\"CDSView\"}},\"id\":\"32ba8cd2-13cc-4f85-99f2-2271b1645094\",\"type\":\"GlyphRenderer\"},{\"attributes\":{\"line_alpha\":0.1,\"line_color\":\"#1f77b4\",\"line_width\":3,\"x\":{\"field\":\"x\"},\"y\":{\"field\":\"y\"}},\"id\":\"3e894790-53b4-4294-9753-0f4ed06947e3\",\"type\":\"Line\"},{\"attributes\":{\"source\":{\"id\":\"71b2f824-0834-4958-9187-423bbdab8d94\",\"type\":\"ColumnDataSource\"}},\"id\":\"8282efdd-6b0c-46f0-91b7-55239735d918\",\"type\":\"CDSView\"},{\"attributes\":{\"callback\":null,\"end\":0.01,\"start\":1020},\"id\":\"f273d74e-9f80-4fc9-ab21-aa04a4f5f866\",\"type\":\"Range1d\"},{\"attributes\":{\"fill_alpha\":{\"value\":0.7},\"fill_color\":{\"value\":\"#984ea3\"},\"line_alpha\":{\"value\":0.7},\"line_color\":{\"value\":\"#984ea3\"},\"x\":{\"field\":\"x\"},\"y\":{\"field\":\"y\"}},\"id\":\"efe85c6d-3200-4ac8-8102-fd221eb7a09d\",\"type\":\"Square\"},{\"attributes\":{\"children\":[{\"id\":\"7a1943a3-dea4-4fbd-a693-0ef0208f702d\",\"type\":\"Row\"}]},\"id\":\"793ffc60-11c8-4384-b995-84e6e84b0137\",\"type\":\"Column\"},{\"attributes\":{\"line_alpha\":0.1,\"line_color\":\"#1f77b4\",\"line_width\":1.5,\"x\":{\"field\":\"x\"},\"y\":{\"field\":\"y\"}},\"id\":\"fee7888d-d942-4e07-836d-36f69ffb54b9\",\"type\":\"Line\"},{\"attributes\":{\"line_alpha\":0.1,\"line_color\":\"#1f77b4\",\"line_dash\":[6],\"line_width\":5,\"x\":{\"field\":\"x\"},\"y\":{\"field\":\"y\"}},\"id\":\"325a7a64-481d-45a2-aef8-c9a41db77219\",\"type\":\"Line\"},{\"attributes\":{\"line_alpha\":0.1,\"line_color\":\"#1f77b4\",\"line_width\":3,\"x\":{\"field\":\"x\"},\"y\":{\"field\":\"y\"}},\"id\":\"ae6eb4ae-918f-445b-b20f-7d2aecb9c58b\",\"type\":\"Line\"},{\"attributes\":{\"callback\":null,\"data\":{\"x\":{\"__ndarray__\":\"6t6NfJPjiL++soQVpKKIvwuZMDwk7Ie/1elmnfY2h7+yR7dEf3+Gv+4pBjZRxYW/fg6lVpUGhb+6mwEYUUaEv9S1GrytgIO/vOGuxii7gr+ylb9WXPCBv2mmvt7LJYG/Aw39pZpYgL/gSPfmhP9+vxxEMCzNlnm/HuYn6kcpYr/btqLnMzRzP/FlYOzWlYs/Rq7qmDLxmD8/nzjoYVSjP8OjOSRItKs/RUmepCblsj98Fw0eSIy3P4rmZFat1Lc/BBXFE5Disz9YkcLWG56uPxwuwN7HSKY/Sm99Le93nj9gUSOKT1WTPwZvEPmjsoU/caTJS1IncT95KmCbKzFGv0Dul1nIf3C/5gyx8Gh5e7/UC+jMEKOEvwDbozIjjo2/Bq81EqMSk79MQBQYJ8iWv67xisFybZq/dljZJUeNnb8xDcgAfv2ev0HrDwQwtJ6/g8fsad2/nb8JiOHUG3acv4gtK7cu4Zq/EoC8ra0Fmb+hr1Z2jO6WvzxVkC85n5S/GgnAgcEckr+S/QrR1eGOv3oyqejiS4m/fv7R8JOOg7+CKADMWmZ7v7oIEwvjA2+/rr715HEkS7/TsbkYMv9hP46pZ/ycrXU/J8SXImRUgT8KwnAJG/mHP5XcerA5xY4/h/vpuzLakj+bJl8VF2OWP5npt988/Zk/XiAGj3apnT80ppV/g6+gP2CIN5O4jKI/7IIkYDJdpD+8JSw2VROmP6xEj86vnKc/7uAvf+j2qD8R3Jcf9y6qP/QJ23pGVas/nwVNvQF1rD81PYtSAJStP2upADvetK4/\",\"dtype\":\"float64\",\"shape\":[75]},\"y\":{\"__ndarray__\":\"S/O/Q+51ND/Sv8nbtpRIP2vylNV0PVE/aTum7souWD/At0SJ8fVgPw3Iuahxymc/MSNhhJWvcD/bTfBN02d3P2zb5nxnaoA/CD5h5MAGhz8NmeH1TyaQP+zrCsc9p5Y/LbKd76fGnz/bLW5ISEmmPww9YvTcQq8/JV2OstnstT8Er5Y7M8G+P0c+r3jqkcU/5h99k6ZBzj88bCIzFzjVP4enV8oyxN0//yH99nXg5D8qOpLLf0jtP5kqGJXUifQ/c9cS8kHP/D+/DpwzojQEQIEmwoanVwxA4lgXt9HgE0BSSZ2AJuIbQAMJih9jjiNA5q4l5INuK0AwTKYKRj0zQNv5fmq8/DpAaCJseHrtQkB/+zpwzoxKQM3MzMzMeFJAZmZmZmZqWEAAAAAAAFxeQM3MzMzMJmJAmpmZmZkfZUBmZmZmZhhoQDMzMzMzEWtAAAAAAAAKbkBmZmZmZoFwQM3MzMzM/XFAMzMzMzN6c0CamZmZmfZ0QAAAAAAAc3ZAZmZmZmbvd0DNzMzMzGt5QDMzMzMz6HpAmpmZmZlkfEAAAAAAAOF9QGZmZmZmXX9AZmZmZuZsgECamZmZGSuBQM3MzMxM6YFAAAAAAICngkAzMzMzs2WDQGZmZmbmI4RAmpmZmRnihEDNzMzMTKCFQAAAAACAXoZAMzMzM7Mch0BmZmZm5tqHQJqZmZkZmYhAzczMzExXiUAAAAAAgBWKQDMzMzOz04pAZmZmZuaRi0CamZmZGVCMQM3MzMxMDo1AAAAAAIDMjUAzMzMzs4qOQGZmZmbmSI9A\",\"dtype\":\"float64\",\"shape\":[75]}},\"selected\":{\"id\":\"99abf451-71e8-48e6-8ce9-7208cf3a196f\",\"type\":\"Selection\"},\"selection_policy\":{\"id\":\"f1017eea-9946-4a15-892f-34282b3b25e5\",\"type\":\"UnionRenderers\"}},\"id\":\"7c748dc8-16b1-4f54-a69c-422e7b32d98e\",\"type\":\"ColumnDataSource\"},{\"attributes\":{\"fill_alpha\":{\"value\":0.1},\"fill_color\":{\"value\":\"#1f77b4\"},\"line_alpha\":{\"value\":0.1},\"line_color\":{\"value\":\"#1f77b4\"},\"x\":{\"field\":\"x\"},\"y\":{\"field\":\"y\"}},\"id\":\"625d3716-0059-42e2-b8c3-c16a3952e7ee\",\"type\":\"Square\"},{\"attributes\":{\"data_source\":{\"id\":\"4b702ef6-a20f-4ab3-9793-f64e78b08dd4\",\"type\":\"ColumnDataSource\"},\"glyph\":{\"id\":\"5bfa47b3-a407-4fa7-9ec4-ff91344ccedd\",\"type\":\"Line\"},\"hover_glyph\":null,\"muted_glyph\":null,\"nonselection_glyph\":{\"id\":\"ae6eb4ae-918f-445b-b20f-7d2aecb9c58b\",\"type\":\"Line\"},\"selection_glyph\":null,\"view\":{\"id\":\"489c10b5-7588-4cd5-b35f-07505857ebae\",\"type\":\"CDSView\"}},\"id\":\"6dbdca8e-b3b8-44a2-8cd2-a594860700f8\",\"type\":\"GlyphRenderer\"},{\"attributes\":{\"line_alpha\":0.6,\"line_color\":\"#e41a1c\",\"line_dash\":[6],\"line_width\":5,\"x\":{\"field\":\"x\"},\"y\":{\"field\":\"y\"}},\"id\":\"213dcc87-9a9a-48b4-8245-6a6c17f0c54c\",\"type\":\"Line\"},{\"attributes\":{},\"id\":\"a8999e49-f3b3-4628-bd39-17ab289d8000\",\"type\":\"ResetTool\"},{\"attributes\":{\"children\":[{\"id\":\"cb7a2272-c3cc-4f1e-b273-13c5d7a04a20\",\"subtype\":\"Figure\",\"type\":\"Plot\"},{\"id\":\"572d36fc-657d-4c64-9ce3-99647a48ef9e\",\"subtype\":\"Figure\",\"type\":\"Plot\"}]},\"id\":\"7a1943a3-dea4-4fbd-a693-0ef0208f702d\",\"type\":\"Row\"},{\"attributes\":{\"callback\":null,\"data\":{\"x\":{\"__ndarray__\":\"VJgSDQKwkL9WwUOoU4WQv38+mlhoKZC/oDeuiGOMj78rS/zXy8GOv+xEORgo842/7OK2xHEgjb/rWaQvS1KMv2Cqp2Poi4u/Pyy4KLLIir9m1ZnxRwKKvy9XhDzmGIm/KczSgnFHiL/m+29swYCHvz/rd/S+3IS/lFr90vH8d7+C2Y+PQ4NZPyXDVQJKaoY/5dZoqSAXlz8pS1qCAdSiPxQ/l95Rras/chpMlYwssz83igACkBC4P/bl4AI4K7g/WIcV68+8sz/DqMt8r5+tP053pCqTDKU//VRHKK9BnD95eNYPsPCRP/h+f4PZ5YQ/yDIkoAz3cj8gBuLrEhosP1uPcZic/mi/lSebdS0beL/e0Zl6VmWDv8Nn/rWvp4y/lrjkcX6ukr9RYBgxrl+Wv/BLbKMiE5q/AsGWuo9Tnb9iTihxisiev8I7UmQBWJ6/ye6hRJQ9nb/4Q3f+6dWbvxpmuxZ6Kpq/9RR5oSpBmL/aSIxD5ByWv+8+OSg6xZO/Ec+kLXdAkb/50guthyiNv5r5adionoe/uynR57j0gb+0CoY6yXV4v7PZhgqEz2m/hre8+aYoM78WaOkSU3RlP/YpVtUB8XY/v8uG4ZW3gT+2h130IBqIP4HKQRvapo4/YIg7J02tkj98eYtrARqWP1XGrrJ1nJk/BKFwdpcznT+OtT8lu2ygP7KCdglFRKI/RD6X1FQTpD9S4f9GgsWlPwkj5cBCSac/gYAonMWZqD9iUUWKy8epP/AiPux556o/N2BbWs4FrD9PhSqkAi2tP8Edk9XYYK4/\",\"dtype\":\"float64\",\"shape\":[75]},\"y\":{\"__ndarray__\":\"GhExyth1ND/Sv8nbtpRIP2vylNV0PVE/aTum7souWD/At0SJ8fVgPw3Iuahxymc/MSNhhJWvcD/bTfBN02d3P2zb5nxnaoA/CD5h5MAGhz8NmeH1TyaQP+zrCsc9p5Y/LbKd76fGnz/bLW5ISEmmPww9YvTcQq8/JV2OstnstT8Er5Y7M8G+P0c+r3jqkcU/5h99k6ZBzj88bCIzFzjVP4enV8oyxN0//yH99nXg5D8qOpLLf0jtP5kqGJXUifQ/c9cS8kHP/D+/DpwzojQEQIEmwoanVwxA4lgXt9HgE0BSSZ2AJuIbQAMJih9jjiNA5q4l5INuK0AwTKYKRj0zQNv5fmq8/DpAaCJseHrtQkB/+zpwzoxKQM3MzMzMeFJAZmZmZmZqWEAAAAAAAFxeQM3MzMzMJmJAmpmZmZkfZUBmZmZmZhhoQDMzMzMzEWtAAAAAAAAKbkBmZmZmZoFwQM3MzMzM/XFAMzMzMzN6c0CamZmZmfZ0QAAAAAAAc3ZAZmZmZmbvd0DNzMzMzGt5QDMzMzMz6HpAmpmZmZlkfEAAAAAAAOF9QGZmZmZmXX9AZmZmZuZsgECamZmZGSuBQM3MzMxM6YFAAAAAAICngkAzMzMzs2WDQGZmZmbmI4RAmpmZmRnihEDNzMzMTKCFQAAAAACAXoZAMzMzM7Mch0BmZmZm5tqHQJqZmZkZmYhAzczMzExXiUAAAAAAgBWKQDMzMzOz04pAZmZmZuaRi0CamZmZGVCMQM3MzMxMDo1AAAAAAIDMjUAzMzMzs4qOQGZmZmbmSI9A\",\"dtype\":\"float64\",\"shape\":[75]}},\"selected\":{\"id\":\"911f1aec-a3e4-42e3-afeb-a57f9dda03cd\",\"type\":\"Selection\"},\"selection_policy\":{\"id\":\"646d60f6-a119-4eea-808d-9da1aa15dd3c\",\"type\":\"UnionRenderers\"}},\"id\":\"865377b2-8d79-45bc-82f8-10f8aa87946e\",\"type\":\"ColumnDataSource\"},{\"attributes\":{\"data_source\":{\"id\":\"a2ba858e-7242-4764-a134-1f31f37d490c\",\"type\":\"ColumnDataSource\"},\"glyph\":{\"id\":\"efe85c6d-3200-4ac8-8102-fd221eb7a09d\",\"type\":\"Square\"},\"hover_glyph\":null,\"muted_glyph\":null,\"nonselection_glyph\":{\"id\":\"625d3716-0059-42e2-b8c3-c16a3952e7ee\",\"type\":\"Square\"},\"selection_glyph\":null,\"view\":{\"id\":\"3d557ecc-8b22-4cff-922b-deaa11348dce\",\"type\":\"CDSView\"}},\"id\":\"4b10a832-93f6-41b6-9d08-b375f0937206\",\"type\":\"GlyphRenderer\"},{\"attributes\":{\"fill_alpha\":{\"value\":0.7},\"fill_color\":{\"value\":\"#4daf4a\"},\"line_alpha\":{\"value\":0.7},\"line_color\":{\"value\":\"#4daf4a\"},\"x\":{\"field\":\"x\"},\"y\":{\"field\":\"y\"}},\"id\":\"cfa6bdd9-8601-48b2-af10-ffcc189ca038\",\"type\":\"Circle\"},{\"attributes\":{\"label\":{\"value\":\"CLIRAD `coolr_bands`\"},\"renderers\":[{\"id\":\"e92d4cf2-138f-4718-9d56-468b2078ccd7\",\"type\":\"GlyphRenderer\"}]},\"id\":\"964e87d2-a36b-4aeb-b4c1-577cad78bd08\",\"type\":\"LegendItem\"},{\"attributes\":{\"overlay\":{\"id\":\"3feb8e3d-ce90-4805-a33a-8297e2764921\",\"type\":\"BoxAnnotation\"}},\"id\":\"bc50b1e5-85ad-409a-922e-d5ecbf795f86\",\"type\":\"BoxZoomTool\"},{\"attributes\":{},\"id\":\"771f686c-9bed-43b8-8bc0-d7e0dbed467e\",\"type\":\"BasicTickFormatter\"},{\"attributes\":{\"label\":{\"value\":\"CRD\"},\"renderers\":[{\"id\":\"12ad9faf-dfc0-42fd-a804-f82c176f11cb\",\"type\":\"GlyphRenderer\"},{\"id\":\"32ba8cd2-13cc-4f85-99f2-2271b1645094\",\"type\":\"GlyphRenderer\"}]},\"id\":\"6c25b26b-7154-42eb-97a2-dcf14b865997\",\"type\":\"LegendItem\"},{\"attributes\":{},\"id\":\"f254beec-3761-427d-8c52-87558590c43d\",\"type\":\"Selection\"},{\"attributes\":{\"label\":{\"value\":\"WGT igg=10 wgt_flux=2\"},\"renderers\":[{\"id\":\"4b10a832-93f6-41b6-9d08-b375f0937206\",\"type\":\"GlyphRenderer\"},{\"id\":\"6dbdca8e-b3b8-44a2-8cd2-a594860700f8\",\"type\":\"GlyphRenderer\"}]},\"id\":\"1cffbec8-fe7d-47db-b32f-b93451b84bbe\",\"type\":\"LegendItem\"},{\"attributes\":{\"num_minor_ticks\":10},\"id\":\"3f063e08-5de2-4b9d-b554-ba0c7c4fe577\",\"type\":\"LogTicker\"},{\"attributes\":{},\"id\":\"34f27feb-b8a4-4429-9912-4c05c6707d37\",\"type\":\"Selection\"},{\"attributes\":{},\"id\":\"0e3a6396-3d82-4919-8a97-04449ab48af9\",\"type\":\"LinearScale\"},{\"attributes\":{\"axis_label\":\"pressure [mb]\",\"formatter\":{\"id\":\"cd2ad963-7372-4a91-abab-33665353846c\",\"type\":\"LogTickFormatter\"},\"plot\":{\"id\":\"572d36fc-657d-4c64-9ce3-99647a48ef9e\",\"subtype\":\"Figure\",\"type\":\"Plot\"},\"ticker\":{\"id\":\"3f063e08-5de2-4b9d-b554-ba0c7c4fe577\",\"type\":\"LogTicker\"}},\"id\":\"4a6fdb70-c048-4c94-9731-cd6d6278a1aa\",\"type\":\"LogAxis\"},{\"attributes\":{},\"id\":\"b4c9fe0f-1dc4-46e0-b1a6-31a1f0c2f832\",\"type\":\"BasicTickFormatter\"},{\"attributes\":{},\"id\":\"8b11167d-76b1-459a-8acd-78e194d7e529\",\"type\":\"UnionRenderers\"},{\"attributes\":{},\"id\":\"bf4224cc-82e2-4f00-bb4a-1d2f78b11614\",\"type\":\"Selection\"},{\"attributes\":{\"plot\":{\"id\":\"572d36fc-657d-4c64-9ce3-99647a48ef9e\",\"subtype\":\"Figure\",\"type\":\"Plot\"},\"ticker\":{\"id\":\"4b583514-4f65-4027-8319-07f57971c971\",\"type\":\"BasicTicker\"}},\"id\":\"3393cf2a-82d6-4bad-96ce-4899b506aaa5\",\"type\":\"Grid\"},{\"attributes\":{\"ticker\":null},\"id\":\"cd2ad963-7372-4a91-abab-33665353846c\",\"type\":\"LogTickFormatter\"},{\"attributes\":{\"below\":[{\"id\":\"93963b9e-279a-4128-aed0-78756afdf0b8\",\"type\":\"LinearAxis\"}],\"left\":[{\"id\":\"8bbca72c-05a4-4f3f-89b5-83a259684b4c\",\"type\":\"LinearAxis\"}],\"plot_height\":500,\"plot_width\":400,\"renderers\":[{\"id\":\"93963b9e-279a-4128-aed0-78756afdf0b8\",\"type\":\"LinearAxis\"},{\"id\":\"aae3139a-bc88-4a92-99ab-0dc4004b80be\",\"type\":\"Grid\"},{\"id\":\"8bbca72c-05a4-4f3f-89b5-83a259684b4c\",\"type\":\"LinearAxis\"},{\"id\":\"5c5c1cb5-7044-4f14-a177-31be4078fb71\",\"type\":\"Grid\"},{\"id\":\"2c8a5031-fd91-4b0a-bdaa-4c00e900e4fa\",\"type\":\"BoxAnnotation\"},{\"id\":\"7435ea32-eb6f-4344-8ff0-07ee73447ee2\",\"type\":\"GlyphRenderer\"},{\"id\":\"6bc4fcc0-773b-451c-8533-2b8c11230c5e\",\"type\":\"GlyphRenderer\"},{\"id\":\"641e4403-1699-485d-a48e-100ff3b72a98\",\"type\":\"GlyphRenderer\"},{\"id\":\"185853c0-01bb-4b40-8d8b-498883bee4f0\",\"type\":\"GlyphRenderer\"},{\"id\":\"bec3b78b-ecd2-4076-9f2d-b7e31714668c\",\"type\":\"GlyphRenderer\"}],\"title\":{\"id\":\"c97f66e2-5b7a-41ab-be75-dad40709642e\",\"type\":\"Title\"},\"toolbar\":{\"id\":\"eee9515c-413d-4522-81e7-e8d863149c2b\",\"type\":\"Toolbar\"},\"toolbar_location\":null,\"x_range\":{\"id\":\"814ee151-5961-4f1b-bb6c-4c7f33611379\",\"type\":\"Range1d\"},\"x_scale\":{\"id\":\"f6d3f076-1a7d-4530-9554-7e79961ac76c\",\"type\":\"LinearScale\"},\"y_range\":{\"id\":\"f1d3bd3e-5e94-4452-8275-e346b3625e66\",\"type\":\"Range1d\"},\"y_scale\":{\"id\":\"0e3a6396-3d82-4919-8a97-04449ab48af9\",\"type\":\"LinearScale\"}},\"id\":\"cb7a2272-c3cc-4f1e-b273-13c5d7a04a20\",\"subtype\":\"Figure\",\"type\":\"Plot\"},{\"attributes\":{},\"id\":\"7ecc3c0f-800c-468e-943d-5ea07b731493\",\"type\":\"UnionRenderers\"},{\"attributes\":{},\"id\":\"f6d3f076-1a7d-4530-9554-7e79961ac76c\",\"type\":\"LinearScale\"},{\"attributes\":{},\"id\":\"eb37dc10-d38b-420f-a006-0ac1301ee998\",\"type\":\"UnionRenderers\"},{\"attributes\":{\"source\":{\"id\":\"df579e09-b47a-44b2-b7f9-ec9ffd277ff3\",\"type\":\"ColumnDataSource\"}},\"id\":\"6d57d261-3579-41d3-b0b3-14d9cbc89527\",\"type\":\"CDSView\"},{\"attributes\":{},\"id\":\"58d5fc8b-1fd8-459a-aac6-cde9351e13f4\",\"type\":\"UnionRenderers\"},{\"attributes\":{\"callback\":null,\"end\":0.06087603935,\"start\":-0.031166246350000003},\"id\":\"814ee151-5961-4f1b-bb6c-4c7f33611379\",\"type\":\"Range1d\"},{\"attributes\":{},\"id\":\"4743f0e2-cbe6-4d16-bd37-e67dd79587b6\",\"type\":\"LinearScale\"},{\"attributes\":{\"fill_alpha\":{\"value\":0.7},\"fill_color\":{\"value\":\"#984ea3\"},\"line_alpha\":{\"value\":0.7},\"line_color\":{\"value\":\"#984ea3\"},\"x\":{\"field\":\"x\"},\"y\":{\"field\":\"y\"}},\"id\":\"8ae0ec14-ace2-4b7c-ae85-37e564713f7a\",\"type\":\"Square\"},{\"attributes\":{\"source\":{\"id\":\"865377b2-8d79-45bc-82f8-10f8aa87946e\",\"type\":\"ColumnDataSource\"}},\"id\":\"b7f5e69f-f910-446c-b483-91ed5ab0c2ee\",\"type\":\"CDSView\"},{\"attributes\":{\"axis_label\":\"cooling rate [K/day]\",\"formatter\":{\"id\":\"6d907ff2-a8f1-4e40-920b-38b817cb1add\",\"type\":\"BasicTickFormatter\"},\"plot\":{\"id\":\"572d36fc-657d-4c64-9ce3-99647a48ef9e\",\"subtype\":\"Figure\",\"type\":\"Plot\"},\"ticker\":{\"id\":\"4b583514-4f65-4027-8319-07f57971c971\",\"type\":\"BasicTicker\"}},\"id\":\"91c7b94b-6111-40c5-9e22-9eed3a3b117b\",\"type\":\"LinearAxis\"},{\"attributes\":{\"active_drag\":\"auto\",\"active_inspect\":\"auto\",\"active_scroll\":\"auto\",\"active_tap\":\"auto\",\"tools\":[{\"id\":\"54a8dea0-61c4-4b97-afe9-08a65eb07208\",\"type\":\"PanTool\"},{\"id\":\"4aee956f-ad98-4778-99f3-85b21ef826d4\",\"type\":\"WheelZoomTool\"},{\"id\":\"bc50b1e5-85ad-409a-922e-d5ecbf795f86\",\"type\":\"BoxZoomTool\"},{\"id\":\"51896cdd-196a-4254-8dae-e8c008717865\",\"type\":\"SaveTool\"},{\"id\":\"a8999e49-f3b3-4628-bd39-17ab289d8000\",\"type\":\"ResetTool\"},{\"id\":\"c2a743cf-f60b-43af-b561-41544f6d0f7c\",\"type\":\"HelpTool\"}]},\"id\":\"64f8f9de-f6d7-4e83-9d19-c35c01a49734\",\"type\":\"Toolbar\"},{\"attributes\":{},\"id\":\"6d907ff2-a8f1-4e40-920b-38b817cb1add\",\"type\":\"BasicTickFormatter\"},{\"attributes\":{\"data_source\":{\"id\":\"dd4a3cfd-1faa-4c97-b602-9915d879005e\",\"type\":\"ColumnDataSource\"},\"glyph\":{\"id\":\"3a10da14-c8e8-40bb-94a6-d6973b56ab7b\",\"type\":\"Line\"},\"hover_glyph\":null,\"muted_glyph\":null,\"nonselection_glyph\":{\"id\":\"1ed918af-7cb7-4dd1-991c-39a7a88639d0\",\"type\":\"Line\"},\"selection_glyph\":null,\"view\":{\"id\":\"699dfd1b-4807-41c5-947d-0f262427dc97\",\"type\":\"CDSView\"}},\"id\":\"7435ea32-eb6f-4344-8ff0-07ee73447ee2\",\"type\":\"GlyphRenderer\"},{\"attributes\":{},\"id\":\"a61b93ab-e25e-4043-8923-b36ef43b3b11\",\"type\":\"Selection\"},{\"attributes\":{},\"id\":\"f1017eea-9946-4a15-892f-34282b3b25e5\",\"type\":\"UnionRenderers\"},{\"attributes\":{},\"id\":\"646d60f6-a119-4eea-808d-9da1aa15dd3c\",\"type\":\"UnionRenderers\"},{\"attributes\":{\"callback\":null,\"data\":{\"x\":{\"__ndarray__\":\"VJgSDQKwkL9WwUOoU4WQv38+mlhoKZC/oDeuiGOMj78rS/zXy8GOv+xEORgo842/7OK2xHEgjb/rWaQvS1KMv2Cqp2Poi4u/Pyy4KLLIir9m1ZnxRwKKvy9XhDzmGIm/KczSgnFHiL/m+29swYCHvz/rd/S+3IS/lFr90vH8d7+C2Y+PQ4NZPyXDVQJKaoY/5dZoqSAXlz8pS1qCAdSiPxQ/l95Rras/chpMlYwssz83igACkBC4P/bl4AI4K7g/WIcV68+8sz/DqMt8r5+tP053pCqTDKU//VRHKK9BnD95eNYPsPCRP/h+f4PZ5YQ/yDIkoAz3cj8gBuLrEhosP1uPcZic/mi/lSebdS0beL/e0Zl6VmWDv8Nn/rWvp4y/lrjkcX6ukr9RYBgxrl+Wv/BLbKMiE5q/AsGWuo9Tnb9iTihxisiev8I7UmQBWJ6/ye6hRJQ9nb/4Q3f+6dWbvxpmuxZ6Kpq/9RR5oSpBmL/aSIxD5ByWv+8+OSg6xZO/Ec+kLXdAkb/50guthyiNv5r5adionoe/uynR57j0gb+0CoY6yXV4v7PZhgqEz2m/hre8+aYoM78WaOkSU3RlP/YpVtUB8XY/v8uG4ZW3gT+2h130IBqIP4HKQRvapo4/YIg7J02tkj98eYtrARqWP1XGrrJ1nJk/BKFwdpcznT+OtT8lu2ygP7KCdglFRKI/RD6X1FQTpD9S4f9GgsWlPwkj5cBCSac/gYAonMWZqD9iUUWKy8epP/AiPux556o/N2BbWs4FrD9PhSqkAi2tP8Edk9XYYK4/\",\"dtype\":\"float64\",\"shape\":[75]},\"y\":{\"__ndarray__\":\"GhExyth1ND/Sv8nbtpRIP2vylNV0PVE/aTum7souWD/At0SJ8fVgPw3Iuahxymc/MSNhhJWvcD/bTfBN02d3P2zb5nxnaoA/CD5h5MAGhz8NmeH1TyaQP+zrCsc9p5Y/LbKd76fGnz/bLW5ISEmmPww9YvTcQq8/JV2OstnstT8Er5Y7M8G+P0c+r3jqkcU/5h99k6ZBzj88bCIzFzjVP4enV8oyxN0//yH99nXg5D8qOpLLf0jtP5kqGJXUifQ/c9cS8kHP/D+/DpwzojQEQIEmwoanVwxA4lgXt9HgE0BSSZ2AJuIbQAMJih9jjiNA5q4l5INuK0AwTKYKRj0zQNv5fmq8/DpAaCJseHrtQkB/+zpwzoxKQM3MzMzMeFJAZmZmZmZqWEAAAAAAAFxeQM3MzMzMJmJAmpmZmZkfZUBmZmZmZhhoQDMzMzMzEWtAAAAAAAAKbkBmZmZmZoFwQM3MzMzM/XFAMzMzMzN6c0CamZmZmfZ0QAAAAAAAc3ZAZmZmZmbvd0DNzMzMzGt5QDMzMzMz6HpAmpmZmZlkfEAAAAAAAOF9QGZmZmZmXX9AZmZmZuZsgECamZmZGSuBQM3MzMxM6YFAAAAAAICngkAzMzMzs2WDQGZmZmbmI4RAmpmZmRnihEDNzMzMTKCFQAAAAACAXoZAMzMzM7Mch0BmZmZm5tqHQJqZmZkZmYhAzczMzExXiUAAAAAAgBWKQDMzMzOz04pAZmZmZuaRi0CamZmZGVCMQM3MzMxMDo1AAAAAAIDMjUAzMzMzs4qOQGZmZmbmSI9A\",\"dtype\":\"float64\",\"shape\":[75]}},\"selected\":{\"id\":\"e077b0fa-ed60-4311-ac45-1a5f168e8549\",\"type\":\"Selection\"},\"selection_policy\":{\"id\":\"fc2dd63d-2fc2-4536-b5f2-74f52ccdf481\",\"type\":\"UnionRenderers\"}},\"id\":\"4b702ef6-a20f-4ab3-9793-f64e78b08dd4\",\"type\":\"ColumnDataSource\"},{\"attributes\":{},\"id\":\"911f1aec-a3e4-42e3-afeb-a57f9dda03cd\",\"type\":\"Selection\"},{\"attributes\":{},\"id\":\"e077b0fa-ed60-4311-ac45-1a5f168e8549\",\"type\":\"Selection\"},{\"attributes\":{},\"id\":\"1fbaeeb6-d82c-4845-811e-ed6e8b89dc36\",\"type\":\"UnionRenderers\"},{\"attributes\":{},\"id\":\"10e357e8-72c2-4faf-b1ed-56714153e3b8\",\"type\":\"UnionRenderers\"},{\"attributes\":{},\"id\":\"99abf451-71e8-48e6-8ce9-7208cf3a196f\",\"type\":\"Selection\"},{\"attributes\":{\"data_source\":{\"id\":\"879eadc0-d2d0-4f62-8a84-ae8fbb443b6a\",\"type\":\"ColumnDataSource\"},\"glyph\":{\"id\":\"8ae0ec14-ace2-4b7c-ae85-37e564713f7a\",\"type\":\"Square\"},\"hover_glyph\":null,\"muted_glyph\":null,\"nonselection_glyph\":{\"id\":\"22375e1f-7588-46a8-ae60-9b17b420a0c7\",\"type\":\"Square\"},\"selection_glyph\":null,\"view\":{\"id\":\"4fdae31d-990d-48ab-9add-5da6a61e7730\",\"type\":\"CDSView\"}},\"id\":\"185853c0-01bb-4b40-8d8b-498883bee4f0\",\"type\":\"GlyphRenderer\"},{\"attributes\":{\"data_source\":{\"id\":\"865377b2-8d79-45bc-82f8-10f8aa87946e\",\"type\":\"ColumnDataSource\"},\"glyph\":{\"id\":\"b71c784a-0a77-4331-a509-dbe4675ce540\",\"type\":\"Line\"},\"hover_glyph\":null,\"muted_glyph\":null,\"nonselection_glyph\":{\"id\":\"3e894790-53b4-4294-9753-0f4ed06947e3\",\"type\":\"Line\"},\"selection_glyph\":null,\"view\":{\"id\":\"b7f5e69f-f910-446c-b483-91ed5ab0c2ee\",\"type\":\"CDSView\"}},\"id\":\"bec3b78b-ecd2-4076-9f2d-b7e31714668c\",\"type\":\"GlyphRenderer\"},{\"attributes\":{},\"id\":\"13b59ca0-eb32-46b9-bca6-e2fb7a688db6\",\"type\":\"Selection\"},{\"attributes\":{},\"id\":\"abaa9177-9aa2-4d47-b150-2efc8985a6c4\",\"type\":\"Selection\"},{\"attributes\":{},\"id\":\"ce0227b1-c767-4e11-bafe-638953aa4b47\",\"type\":\"UnionRenderers\"},{\"attributes\":{\"callback\":null,\"end\":0.10147127665,\"start\":-0.03374468165},\"id\":\"17771508-d4f4-44e5-912f-3ad7055decf8\",\"type\":\"Range1d\"},{\"attributes\":{},\"id\":\"fc2dd63d-2fc2-4536-b5f2-74f52ccdf481\",\"type\":\"UnionRenderers\"}],\"root_ids\":[\"acb030c8-6976-4982-b33a-ae17ac2c725b\"]},\"title\":\"Bokeh Application\",\"version\":\"0.12.16\"}};\n",
       "  var render_items = [{\"docid\":\"6849f1a7-e176-4b01-aa3e-6b06a3021661\",\"elementid\":\"bd15f0a0-3937-4d46-a2e0-53c79771ba37\",\"modelid\":\"acb030c8-6976-4982-b33a-ae17ac2c725b\"}];\n",
       "  root.Bokeh.embed.embed_items_notebook(docs_json, render_items);\n",
       "\n",
       "  }\n",
       "  if (root.Bokeh !== undefined) {\n",
       "    embed_document(root);\n",
       "  } else {\n",
       "    var attempts = 0;\n",
       "    var timer = setInterval(function(root) {\n",
       "      if (root.Bokeh !== undefined) {\n",
       "        embed_document(root);\n",
       "        clearInterval(timer);\n",
       "      }\n",
       "      attempts++;\n",
       "      if (attempts > 100) {\n",
       "        console.log(\"Bokeh: ERROR: Unable to run BokehJS code because BokehJS library is missing\")\n",
       "        clearInterval(timer);\n",
       "      }\n",
       "    }, 10, root)\n",
       "  }\n",
       "})(window);"
      ],
      "application/vnd.bokehjs_exec.v0+json": ""
     },
     "metadata": {
      "application/vnd.bokehjs_exec.v0+json": {
       "id": "acb030c8-6976-4982-b33a-ae17ac2c725b"
      }
     },
     "output_type": "display_data"
    },
    {
     "name": "stdout",
     "output_type": "stream",
     "text": [
      "FIGURE. Cooling rate profiles.\n"
     ]
    },
    {
     "data": {
      "text/html": [
       "<a id=\"Flux_Comparison\"></a>"
      ],
      "text/plain": [
       "<IPython.core.display.HTML object>"
      ]
     },
     "metadata": {},
     "output_type": "display_data"
    },
    {
     "data": {
      "text/markdown": [
       "# Flux Comparison"
      ],
      "text/plain": [
       "<IPython.core.display.Markdown object>"
      ]
     },
     "metadata": {},
     "output_type": "display_data"
    },
    {
     "data": {
      "text/html": [
       "<div>\n",
       "<style scoped>\n",
       "    .dataframe tbody tr th:only-of-type {\n",
       "        vertical-align: middle;\n",
       "    }\n",
       "\n",
       "    .dataframe tbody tr th {\n",
       "        vertical-align: top;\n",
       "    }\n",
       "\n",
       "    .dataframe thead th {\n",
       "        text-align: right;\n",
       "    }\n",
       "</style>\n",
       "<table border=\"1\" class=\"dataframe\">\n",
       "  <thead>\n",
       "    <tr style=\"text-align: right;\">\n",
       "      <th></th>\n",
       "      <th></th>\n",
       "      <th>flug</th>\n",
       "      <th>fldg</th>\n",
       "      <th>fnetg</th>\n",
       "    </tr>\n",
       "    <tr>\n",
       "      <th>pressure</th>\n",
       "      <th>level</th>\n",
       "      <th></th>\n",
       "      <th></th>\n",
       "      <th></th>\n",
       "    </tr>\n",
       "  </thead>\n",
       "  <tbody>\n",
       "    <tr>\n",
       "      <th>0.0000</th>\n",
       "      <th>1</th>\n",
       "      <td>-20.873170</td>\n",
       "      <td>0.000000</td>\n",
       "      <td>-20.873170</td>\n",
       "    </tr>\n",
       "    <tr>\n",
       "      <th>1.0685</th>\n",
       "      <th>24</th>\n",
       "      <td>-20.873528</td>\n",
       "      <td>0.007018</td>\n",
       "      <td>-20.866510</td>\n",
       "    </tr>\n",
       "    <tr>\n",
       "      <th>1013.0000</th>\n",
       "      <th>76</th>\n",
       "      <td>-23.755175</td>\n",
       "      <td>3.877268</td>\n",
       "      <td>-19.877908</td>\n",
       "    </tr>\n",
       "  </tbody>\n",
       "</table>\n",
       "</div>"
      ],
      "text/plain": [
       "                      flug      fldg      fnetg\n",
       "pressure  level                                \n",
       "0.0000    1     -20.873170  0.000000 -20.873170\n",
       "1.0685    24    -20.873528  0.007018 -20.866510\n",
       "1013.0000 76    -23.755175  3.877268 -19.877908"
      ]
     },
     "metadata": {},
     "output_type": "display_data"
    },
    {
     "name": "stdout",
     "output_type": "stream",
     "text": [
      "Table. Fluxes. CRD\n"
     ]
    },
    {
     "data": {
      "text/html": [
       "<div>\n",
       "<style scoped>\n",
       "    .dataframe tbody tr th:only-of-type {\n",
       "        vertical-align: middle;\n",
       "    }\n",
       "\n",
       "    .dataframe tbody tr th {\n",
       "        vertical-align: top;\n",
       "    }\n",
       "\n",
       "    .dataframe thead th {\n",
       "        text-align: right;\n",
       "    }\n",
       "</style>\n",
       "<table border=\"1\" class=\"dataframe\">\n",
       "  <thead>\n",
       "    <tr style=\"text-align: right;\">\n",
       "      <th></th>\n",
       "      <th></th>\n",
       "      <th>flug</th>\n",
       "      <th>fldg</th>\n",
       "      <th>fnetg</th>\n",
       "    </tr>\n",
       "    <tr>\n",
       "      <th>pressure</th>\n",
       "      <th>level</th>\n",
       "      <th></th>\n",
       "      <th></th>\n",
       "      <th></th>\n",
       "    </tr>\n",
       "  </thead>\n",
       "  <tbody>\n",
       "    <tr>\n",
       "      <th>0.0000</th>\n",
       "      <th>1</th>\n",
       "      <td>-20.598466</td>\n",
       "      <td>0.000000</td>\n",
       "      <td>-20.598466</td>\n",
       "    </tr>\n",
       "    <tr>\n",
       "      <th>1.0685</th>\n",
       "      <th>24</th>\n",
       "      <td>-20.596990</td>\n",
       "      <td>0.005535</td>\n",
       "      <td>-20.591455</td>\n",
       "    </tr>\n",
       "    <tr>\n",
       "      <th>1013.0000</th>\n",
       "      <th>76</th>\n",
       "      <td>-23.755176</td>\n",
       "      <td>3.957261</td>\n",
       "      <td>-19.797915</td>\n",
       "    </tr>\n",
       "  </tbody>\n",
       "</table>\n",
       "</div>"
      ],
      "text/plain": [
       "                      flug      fldg      fnetg\n",
       "pressure  level                                \n",
       "0.0000    1     -20.598466  0.000000 -20.598466\n",
       "1.0685    24    -20.596990  0.005535 -20.591455\n",
       "1013.0000 76    -23.755176  3.957261 -19.797915"
      ]
     },
     "metadata": {},
     "output_type": "display_data"
    },
    {
     "name": "stdout",
     "output_type": "stream",
     "text": [
      "Table. Fluxes. WGT igg=10 wgt_flux=1\n"
     ]
    },
    {
     "data": {
      "text/html": [
       "<div>\n",
       "<style scoped>\n",
       "    .dataframe tbody tr th:only-of-type {\n",
       "        vertical-align: middle;\n",
       "    }\n",
       "\n",
       "    .dataframe tbody tr th {\n",
       "        vertical-align: top;\n",
       "    }\n",
       "\n",
       "    .dataframe thead th {\n",
       "        text-align: right;\n",
       "    }\n",
       "</style>\n",
       "<table border=\"1\" class=\"dataframe\">\n",
       "  <thead>\n",
       "    <tr style=\"text-align: right;\">\n",
       "      <th></th>\n",
       "      <th></th>\n",
       "      <th>flug</th>\n",
       "      <th>fldg</th>\n",
       "      <th>fnetg</th>\n",
       "    </tr>\n",
       "    <tr>\n",
       "      <th>pressure</th>\n",
       "      <th>level</th>\n",
       "      <th></th>\n",
       "      <th></th>\n",
       "      <th></th>\n",
       "    </tr>\n",
       "  </thead>\n",
       "  <tbody>\n",
       "    <tr>\n",
       "      <th>1.000000e-08</th>\n",
       "      <th>1</th>\n",
       "      <td>-20.696666</td>\n",
       "      <td>8.942664e-08</td>\n",
       "      <td>-20.696666</td>\n",
       "    </tr>\n",
       "    <tr>\n",
       "      <th>1.068500e+00</th>\n",
       "      <th>24</th>\n",
       "      <td>-20.694855</td>\n",
       "      <td>5.207707e-03</td>\n",
       "      <td>-20.689647</td>\n",
       "    </tr>\n",
       "    <tr>\n",
       "      <th>1.013000e+03</th>\n",
       "      <th>76</th>\n",
       "      <td>-23.755180</td>\n",
       "      <td>3.845191e+00</td>\n",
       "      <td>-19.909989</td>\n",
       "    </tr>\n",
       "  </tbody>\n",
       "</table>\n",
       "</div>"
      ],
      "text/plain": [
       "                         flug          fldg      fnetg\n",
       "pressure     level                                    \n",
       "1.000000e-08 1     -20.696666  8.942664e-08 -20.696666\n",
       "1.068500e+00 24    -20.694855  5.207707e-03 -20.689647\n",
       "1.013000e+03 76    -23.755180  3.845191e+00 -19.909989"
      ]
     },
     "metadata": {},
     "output_type": "display_data"
    },
    {
     "name": "stdout",
     "output_type": "stream",
     "text": [
      "Table. Fluxes. CLIRAD\n"
     ]
    },
    {
     "data": {
      "text/html": [
       "<div>\n",
       "<style scoped>\n",
       "    .dataframe tbody tr th:only-of-type {\n",
       "        vertical-align: middle;\n",
       "    }\n",
       "\n",
       "    .dataframe tbody tr th {\n",
       "        vertical-align: top;\n",
       "    }\n",
       "\n",
       "    .dataframe thead th {\n",
       "        text-align: right;\n",
       "    }\n",
       "</style>\n",
       "<table border=\"1\" class=\"dataframe\">\n",
       "  <thead>\n",
       "    <tr style=\"text-align: right;\">\n",
       "      <th></th>\n",
       "      <th></th>\n",
       "      <th>flug</th>\n",
       "      <th>fldg</th>\n",
       "      <th>fnetg</th>\n",
       "    </tr>\n",
       "    <tr>\n",
       "      <th>pressure</th>\n",
       "      <th>level</th>\n",
       "      <th></th>\n",
       "      <th></th>\n",
       "      <th></th>\n",
       "    </tr>\n",
       "  </thead>\n",
       "  <tbody>\n",
       "    <tr>\n",
       "      <th>0.0000</th>\n",
       "      <th>1</th>\n",
       "      <td>2.747040e-01</td>\n",
       "      <td>0.000000</td>\n",
       "      <td>0.274704</td>\n",
       "    </tr>\n",
       "    <tr>\n",
       "      <th>1.0685</th>\n",
       "      <th>24</th>\n",
       "      <td>2.765383e-01</td>\n",
       "      <td>-0.001482</td>\n",
       "      <td>0.275055</td>\n",
       "    </tr>\n",
       "    <tr>\n",
       "      <th>1013.0000</th>\n",
       "      <th>76</th>\n",
       "      <td>-9.000000e-07</td>\n",
       "      <td>0.079994</td>\n",
       "      <td>0.079993</td>\n",
       "    </tr>\n",
       "  </tbody>\n",
       "</table>\n",
       "</div>"
      ],
      "text/plain": [
       "                         flug      fldg     fnetg\n",
       "pressure  level                                  \n",
       "0.0000    1      2.747040e-01  0.000000  0.274704\n",
       "1.0685    24     2.765383e-01 -0.001482  0.275055\n",
       "1013.0000 76    -9.000000e-07  0.079994  0.079993"
      ]
     },
     "metadata": {},
     "output_type": "display_data"
    },
    {
     "name": "stdout",
     "output_type": "stream",
     "text": [
      "Table. Fluxes. (WGT igg=10 wgt_flux=1) - (CRD)\n"
     ]
    },
    {
     "data": {
      "text/html": [
       "<div>\n",
       "<style scoped>\n",
       "    .dataframe tbody tr th:only-of-type {\n",
       "        vertical-align: middle;\n",
       "    }\n",
       "\n",
       "    .dataframe tbody tr th {\n",
       "        vertical-align: top;\n",
       "    }\n",
       "\n",
       "    .dataframe thead th {\n",
       "        text-align: right;\n",
       "    }\n",
       "</style>\n",
       "<table border=\"1\" class=\"dataframe\">\n",
       "  <thead>\n",
       "    <tr style=\"text-align: right;\">\n",
       "      <th></th>\n",
       "      <th></th>\n",
       "      <th>flug</th>\n",
       "      <th>fldg</th>\n",
       "      <th>fnetg</th>\n",
       "    </tr>\n",
       "    <tr>\n",
       "      <th>pressure</th>\n",
       "      <th>level</th>\n",
       "      <th></th>\n",
       "      <th></th>\n",
       "      <th></th>\n",
       "    </tr>\n",
       "  </thead>\n",
       "  <tbody>\n",
       "    <tr>\n",
       "      <th>0.0000</th>\n",
       "      <th>1</th>\n",
       "      <td>0.176504</td>\n",
       "      <td>8.942664e-08</td>\n",
       "      <td>0.176504</td>\n",
       "    </tr>\n",
       "    <tr>\n",
       "      <th>1.0685</th>\n",
       "      <th>24</th>\n",
       "      <td>0.178673</td>\n",
       "      <td>-1.810128e-03</td>\n",
       "      <td>0.176863</td>\n",
       "    </tr>\n",
       "    <tr>\n",
       "      <th>1013.0000</th>\n",
       "      <th>76</th>\n",
       "      <td>-0.000005</td>\n",
       "      <td>-3.207650e-02</td>\n",
       "      <td>-0.032081</td>\n",
       "    </tr>\n",
       "  </tbody>\n",
       "</table>\n",
       "</div>"
      ],
      "text/plain": [
       "                     flug          fldg     fnetg\n",
       "pressure  level                                  \n",
       "0.0000    1      0.176504  8.942664e-08  0.176504\n",
       "1.0685    24     0.178673 -1.810128e-03  0.176863\n",
       "1013.0000 76    -0.000005 -3.207650e-02 -0.032081"
      ]
     },
     "metadata": {},
     "output_type": "display_data"
    },
    {
     "name": "stdout",
     "output_type": "stream",
     "text": [
      "Table. Fluxes. (CLIRAD) - (CRD)\n"
     ]
    },
    {
     "data": {
      "text/html": [
       "<a id=\"Best-fit_Parameters\"></a>"
      ],
      "text/plain": [
       "<IPython.core.display.HTML object>"
      ]
     },
     "metadata": {},
     "output_type": "display_data"
    },
    {
     "data": {
      "text/markdown": [
       "# Best-fit Parameters"
      ],
      "text/plain": [
       "<IPython.core.display.Markdown object>"
      ]
     },
     "metadata": {},
     "output_type": "display_data"
    },
    {
     "name": "stdout",
     "output_type": "stream",
     "text": [
      "Best-fit values for each (gas, band)\n",
      "------------------------------------\n",
      "o n2o band7\n",
      "  atmpro = mls\n",
      "  band = 7\n",
      "  commitnumber = a06b618\n",
      "  conc = 3.2e-07\n",
      "  dv = 0.001\n",
      "  klin = 2.22e-20\n",
      "  molecule = n2o\n",
      "  ng_adju = [0, 0]\n",
      "  ng_refs = [2, 2]\n",
      "  nv = 1000\n",
      "  option_compute_btable = 0\n",
      "  option_compute_ktable = 1\n",
      "  option_wgt_flux = 1\n",
      "  option_wgt_k = 1\n",
      "  ref_pts = [(1, 250), (500, 250)]\n",
      "  tsfc = 294\n",
      "  vmax = 1380\n",
      "  vmin = 1215\n",
      "  w_diffuse = [(1.8, 1.66), (1.6, 1.8)]\n",
      "  wgt = [(0.6, 0.5), (0.6, 0.9)]\n"
     ]
    }
   ],
   "source": [
    "script()"
   ]
  },
  {
   "cell_type": "code",
   "execution_count": 13,
   "metadata": {
    "collapsed": true
   },
   "outputs": [
    {
     "data": {
      "text/html": [
       "<script>\n",
       "code_show=true; \n",
       "function code_toggle() {\n",
       " if (code_show){\n",
       " $('div.input').hide();\n",
       " } else {\n",
       " $('div.input').show();\n",
       " }\n",
       " code_show = !code_show\n",
       "} \n",
       "$( document ).ready(code_toggle);\n",
       "</script>\n",
       "<form action=\"javascript:code_toggle()\"><input type=\"submit\" value=\"Click here to toggle on/off the raw code.\"></form>"
      ],
      "text/plain": [
       "<IPython.core.display.HTML object>"
      ]
     },
     "execution_count": 13,
     "metadata": {},
     "output_type": "execute_result"
    }
   ],
   "source": [
    "display.HTML('''<script>\n",
    "code_show=true; \n",
    "function code_toggle() {\n",
    " if (code_show){\n",
    " $('div.input').hide();\n",
    " } else {\n",
    " $('div.input').show();\n",
    " }\n",
    " code_show = !code_show\n",
    "} \n",
    "$( document ).ready(code_toggle);\n",
    "</script>\n",
    "<form action=\"javascript:code_toggle()\"><input type=\"submit\" value=\"Click here to toggle on/off the raw code.\"></form>''')"
   ]
  }
 ],
 "metadata": {
  "kernelspec": {
   "display_name": "Python 3",
   "language": "python",
   "name": "python3"
  },
  "language_info": {
   "codemirror_mode": {
    "name": "ipython",
    "version": 3
   },
   "file_extension": ".py",
   "mimetype": "text/x-python",
   "name": "python",
   "nbconvert_exporter": "python",
   "pygments_lexer": "ipython3",
   "version": "3.6.1"
  }
 },
 "nbformat": 4,
 "nbformat_minor": 2
}
