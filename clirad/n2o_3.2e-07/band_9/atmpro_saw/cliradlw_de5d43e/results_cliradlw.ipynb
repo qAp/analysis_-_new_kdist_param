{
 "cells": [
  {
   "cell_type": "code",
   "execution_count": 1,
   "metadata": {
    "collapsed": true
   },
   "outputs": [
    {
     "name": "stdout",
     "output_type": "stream",
     "text": [
      "The history saving thread hit an unexpected error (OperationalError('database is locked',)).History will not be written to the database.\n"
     ]
    }
   ],
   "source": [
    "%matplotlib inline\n",
    "import os\n",
    "import re\n",
    "import io\n",
    "import itertools\n",
    "import pprint\n",
    "\n",
    "from bokeh.io import output_notebook, show\n",
    "from bokeh.layouts import gridplot\n",
    "from bokeh.plotting import figure\n",
    "from bokeh.models import Range1d, Legend\n",
    "from bokeh.palettes import all_palettes\n",
    "\n",
    "import matplotlib\n",
    "import matplotlib.pyplot as plt\n",
    "import numpy as np\n",
    "import pandas as pd\n",
    "import xarray as xr\n",
    "\n",
    "import climatools.lblnew.bestfit_params as bestfits\n",
    "from climatools.lblnew import setup_bestfit, setup_overlap\n",
    "import climatools.lblnew.pipeline as pipe_lblnew\n",
    "import climatools.cliradlw.setup as setup_cliradlw\n",
    "import climatools.cliradlw.pipeline as pipe_cliradlw\n",
    "\n",
    "import climatools.html.html as climahtml\n",
    "from climatools.lblnew.dataio import *\n",
    "from climatools.plot.plot import *\n",
    "\n",
    "\n",
    "import IPython.display as display"
   ]
  },
  {
   "cell_type": "code",
   "execution_count": 2,
   "metadata": {
    "collapsed": true
   },
   "outputs": [],
   "source": [
    "%run param.py"
   ]
  },
  {
   "cell_type": "code",
   "execution_count": 3,
   "metadata": {
    "collapsed": true
   },
   "outputs": [],
   "source": [
    "def load_output_file(path_csv):\n",
    "    '''\n",
    "    Load lblnew output .csv file to xarray.Dataset\n",
    "    \n",
    "    Parameters\n",
    "    ----------\n",
    "    path_csv: str\n",
    "              Path to the .csv file to be loaded.\n",
    "    ds: xarray.Dataset\n",
    "        Data in the input file in the form of an xarray.Dataset.\n",
    "    '''\n",
    "    toindex = ['band', 'pressure', 'igg', 'g']    \n",
    "    df = pd.read_csv(path_csv, sep=r'\\s+')\n",
    "    df = df.set_index([i for i in toindex if i in df.columns])\n",
    "    df = df.rename(columns={'sfu': 'flug',\n",
    "                            'sfd': 'fldg',\n",
    "                            'fnet': 'fnetg',\n",
    "                            'coolr': 'coolrg'})\n",
    "    ds = xr.Dataset.from_dataframe(df)\n",
    "\n",
    "    for l in ('level', 'layer'):\n",
    "        if l in ds.data_vars:\n",
    "            if len(ds[l].dims) > 1:\n",
    "                surface = {d: 0 for d in ds.dims if d != 'pressure'}\n",
    "                coord_level = ds[l][surface]\n",
    "                ds.coords[l] = ('pressure', coord_level)\n",
    "            else:\n",
    "                ds.coords[l] = ('pressure', ds[l])\n",
    "    \n",
    "    return ds"
   ]
  },
  {
   "cell_type": "code",
   "execution_count": 4,
   "metadata": {
    "collapsed": true
   },
   "outputs": [],
   "source": [
    "def lblnew_setup(param=None):\n",
    "    if 'ng_refs' in param:\n",
    "        return {'setup': setup_bestfit,\n",
    "                'fname_flux_crd': 'output_flux.dat',\n",
    "                'fname_cool_crd': 'output_coolr.dat',\n",
    "                'fname_flux_wgt': 'output_wfluxg.dat',\n",
    "                'fname_cool_wgt': 'output_wcoolrg.dat'}\n",
    "    else:\n",
    "        return {'setup': setup_overlap,\n",
    "                'fname_flux_crd': 'output_flux.dat',\n",
    "                'fname_cool_crd': 'output_coolr.dat',\n",
    "                'fname_flux_wgt': 'output_wflux.dat',\n",
    "                'fname_cool_wgt': 'output_wcoolr.dat'}\n",
    "\n",
    "    \n",
    "def load_lblnew_data(param):\n",
    "    \n",
    "    fname_dsname = [('fname_flux_crd', 'ds_flux_crd'),\n",
    "                    ('fname_cool_crd', 'ds_cool_crd'),\n",
    "                    ('fname_flux_wgt', 'ds_flux_wgt'),\n",
    "                    ('fname_cool_wgt', 'ds_cool_wgt')]\n",
    "    \n",
    "    d = lblnew_setup(param)\n",
    "    dir_fortran = pipe_lblnew.get_dir_case(param, setup=d['setup'])\n",
    "    \n",
    "    data_dict = {}\n",
    "    for fname, dsname in fname_dsname:\n",
    "        fpath = os.path.join(dir_fortran, d[fname])\n",
    "        data_dict[dsname] = load_output_file(fpath)\n",
    "    return data_dict\n",
    "    \n",
    "\n",
    "    \n",
    "    "
   ]
  },
  {
   "cell_type": "code",
   "execution_count": 5,
   "metadata": {
    "collapsed": true
   },
   "outputs": [],
   "source": [
    "d = load_lblnew_data(PARAM_LBLNEW)\n",
    "\n",
    "DS_FLUX_CRD = d['ds_flux_crd']\n",
    "DS_COOL_CRD = d['ds_cool_crd']\n",
    "DS_FLUX_WGT = d['ds_flux_wgt']\n",
    "DS_COOL_WGT = d['ds_cool_wgt']"
   ]
  },
  {
   "cell_type": "code",
   "execution_count": 6,
   "metadata": {
    "collapsed": true
   },
   "outputs": [],
   "source": [
    "DIR_FORTRAN = pipe_cliradlw.get_fortran_dir(PARAM, \n",
    "                                            setup=setup_cliradlw)\n",
    "\n",
    "PATH_FLUX = os.path.join(DIR_FORTRAN, 'output_flux.dat')\n",
    "PATH_COOL = os.path.join(DIR_FORTRAN, 'output_coolr.dat')\n",
    "\n",
    "DS_FLUX = load_output_file(PATH_FLUX)\n",
    "DS_COOL = load_output_file(PATH_COOL)"
   ]
  },
  {
   "cell_type": "code",
   "execution_count": 7,
   "metadata": {
    "collapsed": true
   },
   "outputs": [
    {
     "data": {
      "text/html": [
       "\n",
       "    <div class=\"bk-root\">\n",
       "        <a href=\"https://bokeh.pydata.org\" target=\"_blank\" class=\"bk-logo bk-logo-small bk-logo-notebook\"></a>\n",
       "        <span id=\"90119e3a-ff10-43d7-9b70-62eedb97e470\">Loading BokehJS ...</span>\n",
       "    </div>"
      ]
     },
     "metadata": {},
     "output_type": "display_data"
    },
    {
     "data": {
      "application/javascript": [
       "\n",
       "(function(root) {\n",
       "  function now() {\n",
       "    return new Date();\n",
       "  }\n",
       "\n",
       "  var force = true;\n",
       "\n",
       "  if (typeof (root._bokeh_onload_callbacks) === \"undefined\" || force === true) {\n",
       "    root._bokeh_onload_callbacks = [];\n",
       "    root._bokeh_is_loading = undefined;\n",
       "  }\n",
       "\n",
       "  var JS_MIME_TYPE = 'application/javascript';\n",
       "  var HTML_MIME_TYPE = 'text/html';\n",
       "  var EXEC_MIME_TYPE = 'application/vnd.bokehjs_exec.v0+json';\n",
       "  var CLASS_NAME = 'output_bokeh rendered_html';\n",
       "\n",
       "  /**\n",
       "   * Render data to the DOM node\n",
       "   */\n",
       "  function render(props, node) {\n",
       "    var script = document.createElement(\"script\");\n",
       "    node.appendChild(script);\n",
       "  }\n",
       "\n",
       "  /**\n",
       "   * Handle when an output is cleared or removed\n",
       "   */\n",
       "  function handleClearOutput(event, handle) {\n",
       "    var cell = handle.cell;\n",
       "\n",
       "    var id = cell.output_area._bokeh_element_id;\n",
       "    var server_id = cell.output_area._bokeh_server_id;\n",
       "    // Clean up Bokeh references\n",
       "    if (id !== undefined) {\n",
       "      Bokeh.index[id].model.document.clear();\n",
       "      delete Bokeh.index[id];\n",
       "    }\n",
       "\n",
       "    if (server_id !== undefined) {\n",
       "      // Clean up Bokeh references\n",
       "      var cmd = \"from bokeh.io.state import curstate; print(curstate().uuid_to_server['\" + server_id + \"'].get_sessions()[0].document.roots[0]._id)\";\n",
       "      cell.notebook.kernel.execute(cmd, {\n",
       "        iopub: {\n",
       "          output: function(msg) {\n",
       "            var element_id = msg.content.text.trim();\n",
       "            Bokeh.index[element_id].model.document.clear();\n",
       "            delete Bokeh.index[element_id];\n",
       "          }\n",
       "        }\n",
       "      });\n",
       "      // Destroy server and session\n",
       "      var cmd = \"import bokeh.io.notebook as ion; ion.destroy_server('\" + server_id + \"')\";\n",
       "      cell.notebook.kernel.execute(cmd);\n",
       "    }\n",
       "  }\n",
       "\n",
       "  /**\n",
       "   * Handle when a new output is added\n",
       "   */\n",
       "  function handleAddOutput(event, handle) {\n",
       "    var output_area = handle.output_area;\n",
       "    var output = handle.output;\n",
       "\n",
       "    // limit handleAddOutput to display_data with EXEC_MIME_TYPE content only\n",
       "    if ((output.output_type != \"display_data\") || (!output.data.hasOwnProperty(EXEC_MIME_TYPE))) {\n",
       "      return\n",
       "    }\n",
       "\n",
       "    var toinsert = output_area.element.find(\".\" + CLASS_NAME.split(' ')[0]);\n",
       "\n",
       "    if (output.metadata[EXEC_MIME_TYPE][\"id\"] !== undefined) {\n",
       "      toinsert[toinsert.length - 1].firstChild.textContent = output.data[JS_MIME_TYPE];\n",
       "      // store reference to embed id on output_area\n",
       "      output_area._bokeh_element_id = output.metadata[EXEC_MIME_TYPE][\"id\"];\n",
       "    }\n",
       "    if (output.metadata[EXEC_MIME_TYPE][\"server_id\"] !== undefined) {\n",
       "      var bk_div = document.createElement(\"div\");\n",
       "      bk_div.innerHTML = output.data[HTML_MIME_TYPE];\n",
       "      var script_attrs = bk_div.children[0].attributes;\n",
       "      for (var i = 0; i < script_attrs.length; i++) {\n",
       "        toinsert[toinsert.length - 1].firstChild.setAttribute(script_attrs[i].name, script_attrs[i].value);\n",
       "      }\n",
       "      // store reference to server id on output_area\n",
       "      output_area._bokeh_server_id = output.metadata[EXEC_MIME_TYPE][\"server_id\"];\n",
       "    }\n",
       "  }\n",
       "\n",
       "  function register_renderer(events, OutputArea) {\n",
       "\n",
       "    function append_mime(data, metadata, element) {\n",
       "      // create a DOM node to render to\n",
       "      var toinsert = this.create_output_subarea(\n",
       "        metadata,\n",
       "        CLASS_NAME,\n",
       "        EXEC_MIME_TYPE\n",
       "      );\n",
       "      this.keyboard_manager.register_events(toinsert);\n",
       "      // Render to node\n",
       "      var props = {data: data, metadata: metadata[EXEC_MIME_TYPE]};\n",
       "      render(props, toinsert[toinsert.length - 1]);\n",
       "      element.append(toinsert);\n",
       "      return toinsert\n",
       "    }\n",
       "\n",
       "    /* Handle when an output is cleared or removed */\n",
       "    events.on('clear_output.CodeCell', handleClearOutput);\n",
       "    events.on('delete.Cell', handleClearOutput);\n",
       "\n",
       "    /* Handle when a new output is added */\n",
       "    events.on('output_added.OutputArea', handleAddOutput);\n",
       "\n",
       "    /**\n",
       "     * Register the mime type and append_mime function with output_area\n",
       "     */\n",
       "    OutputArea.prototype.register_mime_type(EXEC_MIME_TYPE, append_mime, {\n",
       "      /* Is output safe? */\n",
       "      safe: true,\n",
       "      /* Index of renderer in `output_area.display_order` */\n",
       "      index: 0\n",
       "    });\n",
       "  }\n",
       "\n",
       "  // register the mime type if in Jupyter Notebook environment and previously unregistered\n",
       "  if (root.Jupyter !== undefined) {\n",
       "    var events = require('base/js/events');\n",
       "    var OutputArea = require('notebook/js/outputarea').OutputArea;\n",
       "\n",
       "    if (OutputArea.prototype.mime_types().indexOf(EXEC_MIME_TYPE) == -1) {\n",
       "      register_renderer(events, OutputArea);\n",
       "    }\n",
       "  }\n",
       "\n",
       "  \n",
       "  if (typeof (root._bokeh_timeout) === \"undefined\" || force === true) {\n",
       "    root._bokeh_timeout = Date.now() + 5000;\n",
       "    root._bokeh_failed_load = false;\n",
       "  }\n",
       "\n",
       "  var NB_LOAD_WARNING = {'data': {'text/html':\n",
       "     \"<div style='background-color: #fdd'>\\n\"+\n",
       "     \"<p>\\n\"+\n",
       "     \"BokehJS does not appear to have successfully loaded. If loading BokehJS from CDN, this \\n\"+\n",
       "     \"may be due to a slow or bad network connection. Possible fixes:\\n\"+\n",
       "     \"</p>\\n\"+\n",
       "     \"<ul>\\n\"+\n",
       "     \"<li>re-rerun `output_notebook()` to attempt to load from CDN again, or</li>\\n\"+\n",
       "     \"<li>use INLINE resources instead, as so:</li>\\n\"+\n",
       "     \"</ul>\\n\"+\n",
       "     \"<code>\\n\"+\n",
       "     \"from bokeh.resources import INLINE\\n\"+\n",
       "     \"output_notebook(resources=INLINE)\\n\"+\n",
       "     \"</code>\\n\"+\n",
       "     \"</div>\"}};\n",
       "\n",
       "  function display_loaded() {\n",
       "    var el = document.getElementById(\"90119e3a-ff10-43d7-9b70-62eedb97e470\");\n",
       "    if (el != null) {\n",
       "      el.textContent = \"BokehJS is loading...\";\n",
       "    }\n",
       "    if (root.Bokeh !== undefined) {\n",
       "      if (el != null) {\n",
       "        el.textContent = \"BokehJS \" + root.Bokeh.version + \" successfully loaded.\";\n",
       "      }\n",
       "    } else if (Date.now() < root._bokeh_timeout) {\n",
       "      setTimeout(display_loaded, 100)\n",
       "    }\n",
       "  }\n",
       "\n",
       "\n",
       "  function run_callbacks() {\n",
       "    try {\n",
       "      root._bokeh_onload_callbacks.forEach(function(callback) { callback() });\n",
       "    }\n",
       "    finally {\n",
       "      delete root._bokeh_onload_callbacks\n",
       "    }\n",
       "    console.info(\"Bokeh: all callbacks have finished\");\n",
       "  }\n",
       "\n",
       "  function load_libs(js_urls, callback) {\n",
       "    root._bokeh_onload_callbacks.push(callback);\n",
       "    if (root._bokeh_is_loading > 0) {\n",
       "      console.log(\"Bokeh: BokehJS is being loaded, scheduling callback at\", now());\n",
       "      return null;\n",
       "    }\n",
       "    if (js_urls == null || js_urls.length === 0) {\n",
       "      run_callbacks();\n",
       "      return null;\n",
       "    }\n",
       "    console.log(\"Bokeh: BokehJS not loaded, scheduling load and callback at\", now());\n",
       "    root._bokeh_is_loading = js_urls.length;\n",
       "    for (var i = 0; i < js_urls.length; i++) {\n",
       "      var url = js_urls[i];\n",
       "      var s = document.createElement('script');\n",
       "      s.src = url;\n",
       "      s.async = false;\n",
       "      s.onreadystatechange = s.onload = function() {\n",
       "        root._bokeh_is_loading--;\n",
       "        if (root._bokeh_is_loading === 0) {\n",
       "          console.log(\"Bokeh: all BokehJS libraries loaded\");\n",
       "          run_callbacks()\n",
       "        }\n",
       "      };\n",
       "      s.onerror = function() {\n",
       "        console.warn(\"failed to load library \" + url);\n",
       "      };\n",
       "      console.log(\"Bokeh: injecting script tag for BokehJS library: \", url);\n",
       "      document.getElementsByTagName(\"head\")[0].appendChild(s);\n",
       "    }\n",
       "  };var element = document.getElementById(\"90119e3a-ff10-43d7-9b70-62eedb97e470\");\n",
       "  if (element == null) {\n",
       "    console.log(\"Bokeh: ERROR: autoload.js configured with elementid '90119e3a-ff10-43d7-9b70-62eedb97e470' but no matching script tag was found. \")\n",
       "    return false;\n",
       "  }\n",
       "\n",
       "  var js_urls = [\"https://cdn.pydata.org/bokeh/release/bokeh-0.12.16.min.js\", \"https://cdn.pydata.org/bokeh/release/bokeh-widgets-0.12.16.min.js\", \"https://cdn.pydata.org/bokeh/release/bokeh-tables-0.12.16.min.js\", \"https://cdn.pydata.org/bokeh/release/bokeh-gl-0.12.16.min.js\"];\n",
       "\n",
       "  var inline_js = [\n",
       "    function(Bokeh) {\n",
       "      Bokeh.set_log_level(\"info\");\n",
       "    },\n",
       "    \n",
       "    function(Bokeh) {\n",
       "      \n",
       "    },\n",
       "    function(Bokeh) {\n",
       "      console.log(\"Bokeh: injecting CSS: https://cdn.pydata.org/bokeh/release/bokeh-0.12.16.min.css\");\n",
       "      Bokeh.embed.inject_css(\"https://cdn.pydata.org/bokeh/release/bokeh-0.12.16.min.css\");\n",
       "      console.log(\"Bokeh: injecting CSS: https://cdn.pydata.org/bokeh/release/bokeh-widgets-0.12.16.min.css\");\n",
       "      Bokeh.embed.inject_css(\"https://cdn.pydata.org/bokeh/release/bokeh-widgets-0.12.16.min.css\");\n",
       "      console.log(\"Bokeh: injecting CSS: https://cdn.pydata.org/bokeh/release/bokeh-tables-0.12.16.min.css\");\n",
       "      Bokeh.embed.inject_css(\"https://cdn.pydata.org/bokeh/release/bokeh-tables-0.12.16.min.css\");\n",
       "    }\n",
       "  ];\n",
       "\n",
       "  function run_inline_js() {\n",
       "    \n",
       "    if ((root.Bokeh !== undefined) || (force === true)) {\n",
       "      for (var i = 0; i < inline_js.length; i++) {\n",
       "        inline_js[i].call(root, root.Bokeh);\n",
       "      }if (force === true) {\n",
       "        display_loaded();\n",
       "      }} else if (Date.now() < root._bokeh_timeout) {\n",
       "      setTimeout(run_inline_js, 100);\n",
       "    } else if (!root._bokeh_failed_load) {\n",
       "      console.log(\"Bokeh: BokehJS failed to load within specified timeout.\");\n",
       "      root._bokeh_failed_load = true;\n",
       "    } else if (force !== true) {\n",
       "      var cell = $(document.getElementById(\"90119e3a-ff10-43d7-9b70-62eedb97e470\")).parents('.cell').data().cell;\n",
       "      cell.output_area.append_execute_result(NB_LOAD_WARNING)\n",
       "    }\n",
       "\n",
       "  }\n",
       "\n",
       "  if (root._bokeh_is_loading === 0) {\n",
       "    console.log(\"Bokeh: BokehJS loaded, going straight to plotting\");\n",
       "    run_inline_js();\n",
       "  } else {\n",
       "    load_libs(js_urls, function() {\n",
       "      console.log(\"Bokeh: BokehJS plotting callback run at\", now());\n",
       "      run_inline_js();\n",
       "    });\n",
       "  }\n",
       "}(window));"
      ],
      "application/vnd.bokehjs_load.v0+json": "\n(function(root) {\n  function now() {\n    return new Date();\n  }\n\n  var force = true;\n\n  if (typeof (root._bokeh_onload_callbacks) === \"undefined\" || force === true) {\n    root._bokeh_onload_callbacks = [];\n    root._bokeh_is_loading = undefined;\n  }\n\n  \n\n  \n  if (typeof (root._bokeh_timeout) === \"undefined\" || force === true) {\n    root._bokeh_timeout = Date.now() + 5000;\n    root._bokeh_failed_load = false;\n  }\n\n  var NB_LOAD_WARNING = {'data': {'text/html':\n     \"<div style='background-color: #fdd'>\\n\"+\n     \"<p>\\n\"+\n     \"BokehJS does not appear to have successfully loaded. If loading BokehJS from CDN, this \\n\"+\n     \"may be due to a slow or bad network connection. Possible fixes:\\n\"+\n     \"</p>\\n\"+\n     \"<ul>\\n\"+\n     \"<li>re-rerun `output_notebook()` to attempt to load from CDN again, or</li>\\n\"+\n     \"<li>use INLINE resources instead, as so:</li>\\n\"+\n     \"</ul>\\n\"+\n     \"<code>\\n\"+\n     \"from bokeh.resources import INLINE\\n\"+\n     \"output_notebook(resources=INLINE)\\n\"+\n     \"</code>\\n\"+\n     \"</div>\"}};\n\n  function display_loaded() {\n    var el = document.getElementById(\"90119e3a-ff10-43d7-9b70-62eedb97e470\");\n    if (el != null) {\n      el.textContent = \"BokehJS is loading...\";\n    }\n    if (root.Bokeh !== undefined) {\n      if (el != null) {\n        el.textContent = \"BokehJS \" + root.Bokeh.version + \" successfully loaded.\";\n      }\n    } else if (Date.now() < root._bokeh_timeout) {\n      setTimeout(display_loaded, 100)\n    }\n  }\n\n\n  function run_callbacks() {\n    try {\n      root._bokeh_onload_callbacks.forEach(function(callback) { callback() });\n    }\n    finally {\n      delete root._bokeh_onload_callbacks\n    }\n    console.info(\"Bokeh: all callbacks have finished\");\n  }\n\n  function load_libs(js_urls, callback) {\n    root._bokeh_onload_callbacks.push(callback);\n    if (root._bokeh_is_loading > 0) {\n      console.log(\"Bokeh: BokehJS is being loaded, scheduling callback at\", now());\n      return null;\n    }\n    if (js_urls == null || js_urls.length === 0) {\n      run_callbacks();\n      return null;\n    }\n    console.log(\"Bokeh: BokehJS not loaded, scheduling load and callback at\", now());\n    root._bokeh_is_loading = js_urls.length;\n    for (var i = 0; i < js_urls.length; i++) {\n      var url = js_urls[i];\n      var s = document.createElement('script');\n      s.src = url;\n      s.async = false;\n      s.onreadystatechange = s.onload = function() {\n        root._bokeh_is_loading--;\n        if (root._bokeh_is_loading === 0) {\n          console.log(\"Bokeh: all BokehJS libraries loaded\");\n          run_callbacks()\n        }\n      };\n      s.onerror = function() {\n        console.warn(\"failed to load library \" + url);\n      };\n      console.log(\"Bokeh: injecting script tag for BokehJS library: \", url);\n      document.getElementsByTagName(\"head\")[0].appendChild(s);\n    }\n  };var element = document.getElementById(\"90119e3a-ff10-43d7-9b70-62eedb97e470\");\n  if (element == null) {\n    console.log(\"Bokeh: ERROR: autoload.js configured with elementid '90119e3a-ff10-43d7-9b70-62eedb97e470' but no matching script tag was found. \")\n    return false;\n  }\n\n  var js_urls = [\"https://cdn.pydata.org/bokeh/release/bokeh-0.12.16.min.js\", \"https://cdn.pydata.org/bokeh/release/bokeh-widgets-0.12.16.min.js\", \"https://cdn.pydata.org/bokeh/release/bokeh-tables-0.12.16.min.js\", \"https://cdn.pydata.org/bokeh/release/bokeh-gl-0.12.16.min.js\"];\n\n  var inline_js = [\n    function(Bokeh) {\n      Bokeh.set_log_level(\"info\");\n    },\n    \n    function(Bokeh) {\n      \n    },\n    function(Bokeh) {\n      console.log(\"Bokeh: injecting CSS: https://cdn.pydata.org/bokeh/release/bokeh-0.12.16.min.css\");\n      Bokeh.embed.inject_css(\"https://cdn.pydata.org/bokeh/release/bokeh-0.12.16.min.css\");\n      console.log(\"Bokeh: injecting CSS: https://cdn.pydata.org/bokeh/release/bokeh-widgets-0.12.16.min.css\");\n      Bokeh.embed.inject_css(\"https://cdn.pydata.org/bokeh/release/bokeh-widgets-0.12.16.min.css\");\n      console.log(\"Bokeh: injecting CSS: https://cdn.pydata.org/bokeh/release/bokeh-tables-0.12.16.min.css\");\n      Bokeh.embed.inject_css(\"https://cdn.pydata.org/bokeh/release/bokeh-tables-0.12.16.min.css\");\n    }\n  ];\n\n  function run_inline_js() {\n    \n    if ((root.Bokeh !== undefined) || (force === true)) {\n      for (var i = 0; i < inline_js.length; i++) {\n        inline_js[i].call(root, root.Bokeh);\n      }if (force === true) {\n        display_loaded();\n      }} else if (Date.now() < root._bokeh_timeout) {\n      setTimeout(run_inline_js, 100);\n    } else if (!root._bokeh_failed_load) {\n      console.log(\"Bokeh: BokehJS failed to load within specified timeout.\");\n      root._bokeh_failed_load = true;\n    } else if (force !== true) {\n      var cell = $(document.getElementById(\"90119e3a-ff10-43d7-9b70-62eedb97e470\")).parents('.cell').data().cell;\n      cell.output_area.append_execute_result(NB_LOAD_WARNING)\n    }\n\n  }\n\n  if (root._bokeh_is_loading === 0) {\n    console.log(\"Bokeh: BokehJS loaded, going straight to plotting\");\n    run_inline_js();\n  } else {\n    load_libs(js_urls, function() {\n      console.log(\"Bokeh: BokehJS plotting callback run at\", now());\n      run_inline_js();\n    });\n  }\n}(window));"
     },
     "metadata": {},
     "output_type": "display_data"
    }
   ],
   "source": [
    "output_notebook()"
   ]
  },
  {
   "cell_type": "code",
   "execution_count": 8,
   "metadata": {
    "collapsed": true
   },
   "outputs": [],
   "source": [
    "def fmt_cool(ds_in):\n",
    "    ds = ds_in.copy(deep=True)\n",
    "    if 'igg' in ds.dims:\n",
    "        ds = ds.sel(igg=1)\n",
    "\n",
    "    if 'g' in ds.dims:\n",
    "        ds = ds.sum('g')\n",
    "            \n",
    "    if 'band' in ds.dims:\n",
    "        try:\n",
    "            ds = ds.squeeze('band')\n",
    "        except ValueError:\n",
    "            ds = ds.sum('band')\n",
    "                \n",
    "    return ds['coolrg']\n",
    "\n",
    "\n",
    "def pltdata_cooling_1(ds_cool=None,\n",
    "                      ds_cool_crd=None, ds_cool_wgt=None):\n",
    "    \n",
    "\n",
    "\n",
    "    colors = all_palettes['Set1'][4]\n",
    "    data = [{'label': 'CLIRAD `coolr_bands`',\n",
    "             'srs': fmt_cool(ds_cool),\n",
    "             'line_dash': 'dashed', 'line_width': 5,\n",
    "             'color': colors[0], 'alpha': .6},\n",
    "            {'label': 'CRD',\n",
    "             'srs': fmt_cool(ds_cool_crd),\n",
    "             'line_dash': 'solid', 'line_width': 1.5,\n",
    "             'marker': 'circle', 'marker_size': 5,\n",
    "             'color': colors[2], 'alpha': 1,},\n",
    "            {'label': 'WGT igg=10 wgt_flux=2',\n",
    "             'srs': fmt_cool(ds_cool_wgt),\n",
    "             'line_dash': 'solid', 'line_width': 3,\n",
    "             'marker': 'square', 'marker_size': 5,\n",
    "             'color': colors[3], 'alpha': .6}]\n",
    "    return data\n",
    "\n",
    "\n",
    "def nice_xlims(pltdata=None, prange=None):\n",
    "    \n",
    "    def get_slice(srs):\n",
    "        return srs.sel(pressure=slice(*prange))\n",
    "    \n",
    "    srss = [d['srs'] for d in pltdata]\n",
    "    vmin = min([get_slice(srs).min() for srs in srss])\n",
    "    vmax = max([get_slice(srs).max() for srs in srss])\n",
    "    dv = (vmax - vmin) * .01\n",
    "    return float(vmin - dv), float(vmax + dv)\n",
    "    \n",
    "\n",
    "def plt_cooling_bokeh(pltdata=None):\n",
    "    '''\n",
    "    Plot a list of cooling rate profiles using bokeh.\n",
    "    '''\n",
    "    ymin = 1e-2 \n",
    "    ymax = 1020 \n",
    "        \n",
    "    p1 = figure(title=\"Linear pressure scale\", \n",
    "                plot_width=400)        \n",
    "    xmin, xmax = nice_xlims(pltdata, prange=(50, 1050))\n",
    "    for d in pltdata:\n",
    "        if 'marker' in d:\n",
    "            getattr(p1, d['marker'])(d['srs'].values, \n",
    "                    d['srs'].coords['pressure'].values,\n",
    "                    color=d['color'], alpha=.7)\n",
    "        p1.line(d['srs'].values, \n",
    "                d['srs'].coords['pressure'].values,\n",
    "                color=d['color'], alpha=d['alpha'], \n",
    "                line_width=d['line_width'], line_dash=d['line_dash'])\n",
    "    \n",
    "    p1.y_range = Range1d(ymax, ymin)\n",
    "    p1.yaxis.axis_label = 'pressure [mb]'   \n",
    "    p1.x_range = Range1d(xmin, xmax)\n",
    "    p1.xaxis.axis_label = 'cooling rate [K/day]'\n",
    "            \n",
    "    p2 = figure(title='Log pressure scale', y_axis_type='log',\n",
    "                plot_width=560)\n",
    "    xmin, xmax = nice_xlims(pltdata, prange=(.01, 200))\n",
    "    \n",
    "    rs = []\n",
    "    for d in pltdata:\n",
    "        rd = []\n",
    "        if 'marker' in d:\n",
    "            r_mark = getattr(p2, d['marker'])(d['srs'].values, \n",
    "                        d['srs'].coords['pressure'].values,\n",
    "                        color=d['color'], alpha=.7)\n",
    "            rd.append(r_mark)\n",
    "        r_line = p2.line(d['srs'].values, \n",
    "                    d['srs'].coords['pressure'].values,\n",
    "                    color=d['color'], alpha=d['alpha'], \n",
    "                    line_width=d['line_width'], line_dash=d['line_dash'])\n",
    "        rd.append(r_line)\n",
    "      \n",
    "        rs.append(rd)\n",
    "        \n",
    "    p2.y_range = Range1d(ymax, ymin)  \n",
    "    p2.yaxis.axis_label = 'pressure [mb]'\n",
    "    \n",
    "    p2.x_range = Range1d(xmin, xmax)\n",
    "    p2.xaxis.axis_label = 'cooling rate [K/day]'\n",
    "    \n",
    "    items = [(d['label'], r) for r, d in zip(rs, pltdata)]\n",
    "    legend = Legend(items=items, location=(10, -30))\n",
    "    legend.label_text_font_size = '8pt'\n",
    "    \n",
    "    p2.add_layout(legend, 'right')  \n",
    "    \n",
    "    show(gridplot(p1, p2, ncols=2, plot_height=500))\n",
    "    \n",
    "\n",
    "def script_plt_cooling():\n",
    "    pltdata = pltdata_cooling_1(\n",
    "        ds_cool=DS_COOL,\n",
    "        ds_cool_crd=DS_COOL_CRD,\n",
    "        ds_cool_wgt=DS_COOL_WGT)\n",
    "    plt_cooling_bokeh(pltdata=pltdata)\n",
    "    print('''FIGURE. Cooling rate profiles.''')"
   ]
  },
  {
   "cell_type": "code",
   "execution_count": 9,
   "metadata": {
    "collapsed": true
   },
   "outputs": [],
   "source": [
    "def fmt_flux(ds_in):\n",
    "    ds = ds_in.copy(deep=True)\n",
    "    \n",
    "    for l in ('level', 'layer'):\n",
    "        if l in ds.data_vars:\n",
    "            if len(ds[l].dims) > 1:\n",
    "                surface = {d: 0 for d in ds.dims if d != 'pressure'}\n",
    "                coord_level = ds[l][surface]\n",
    "                ds.coords[l] = ('pressure', coord_level)\n",
    "            else:\n",
    "                ds.coords[l] = ('pressure', ds[l])\n",
    "        \n",
    "    ds = ds.isel(pressure=[0, 23, -1])\n",
    "        \n",
    "    if 'igg' in ds.dims:\n",
    "        ds = ds.sel(igg=[1])\n",
    "        ds = ds.squeeze('igg').drop('igg')\n",
    "    \n",
    "    if 'g' in ds.dims:\n",
    "        ds = ds.sum('g')\n",
    "            \n",
    "    if 'band' in ds.dims:\n",
    "        try:\n",
    "            ds = ds.squeeze('band').drop('band')\n",
    "        except ValueError:\n",
    "            ds = ds.sum('band')\n",
    "                \n",
    "    df = ds.to_dataframe()\n",
    "    df = df.set_index('level', append=True)               \n",
    "    return df\n",
    "\n",
    "\n",
    "def tbdata_flux(ds_flux=None, ds_flux_crd=None, ds_flux_wgt=None):\n",
    "    ilevels = [0, 23, -1]\n",
    "            \n",
    "    benchmark = {'label': 'CRD',\n",
    "                 'df': fmt_flux(ds_flux_crd)}\n",
    "    \n",
    "    tbs = [{'label': 'WGT igg=10 wgt_flux=1',\n",
    "            'df': fmt_flux(ds_flux_wgt)},\n",
    "           {'label': 'CLIRAD',\n",
    "            'df': fmt_flux(ds_flux)}]\n",
    "    \n",
    "    data = {'benchmark': benchmark, 'others': tbs}\n",
    "    return data\n",
    "\n",
    "\n",
    "def tb_flux(tbdata=None):\n",
    "    benchmark = tbdata['benchmark']\n",
    "    others = tbdata['others']\n",
    "    \n",
    "    def show_tb(d=None):\n",
    "        display.display(d['df'])\n",
    "        print('Table.', 'Fluxes.', d['label'])\n",
    "        \n",
    "    def show_tbdiff(d0=None, d=None):\n",
    "        df = d['df']\n",
    "        df.index = d0['df'].index\n",
    "        display.display(df - d0['df'])\n",
    "        print('Table.', 'Fluxes.', \n",
    "              '({}) - ({})'.format(d['label'], d0['label']))\n",
    "        \n",
    "    show_tb(benchmark)\n",
    "    for d in others:\n",
    "        show_tb(d)\n",
    "        \n",
    "    for d in others:\n",
    "        show_tbdiff(d=d, d0=benchmark)\n",
    "        \n",
    "        \n",
    "def script_tb_flux():\n",
    "    data = tbdata_flux(ds_flux=DS_FLUX,\n",
    "                       ds_flux_crd=DS_FLUX_CRD,\n",
    "                       ds_flux_wgt=DS_FLUX_WGT)\n",
    "    tb_flux(tbdata=data)"
   ]
  },
  {
   "cell_type": "code",
   "execution_count": 10,
   "metadata": {
    "collapsed": true
   },
   "outputs": [],
   "source": [
    "def band_map():\n",
    "    '''\n",
    "    Maps spectral bands in lblnew to spectral bands in clirad.\n",
    "    '''\n",
    "    lblnew2clirad = {'1': '1',\n",
    "            '2': '2',\n",
    "            '3a': '3',\n",
    "            '3b': '4',\n",
    "            '3c': '5',\n",
    "            '4': '6', \n",
    "            '5': '7',\n",
    "            '6': '8',\n",
    "            '7': '9', \n",
    "            '8': '10',\n",
    "            '9': '11'}\n",
    "    \n",
    "    clirad2lblnew = {clirad: lblnew \n",
    "                     for lblnew, clirad in lblnew2clirad.items()}\n",
    "    return clirad2lblnew\n",
    "\n",
    "\n",
    "def gasbands():\n",
    "    bmap = band_map()\n",
    "    gases = list(PARAM['molecule'].keys())\n",
    "    \n",
    "    bands = [bmap[str(b)] for b in PARAM['band']]\n",
    "    return list(itertools.product(gases, bands))\n",
    "\n",
    "\n",
    "def print_bestfit_params():\n",
    "    print('Best-fit values for each (gas, band)')\n",
    "    print('------------------------------------')\n",
    "    for gas, band in gasbands():\n",
    "        print('o {} band{}'.format(gas, band))\n",
    "        param = bestfits.kdist_params(molecule=gas, band=band)\n",
    "        for name, value in sorted(param.items()):\n",
    "            print(2 * ' ' + '{} = {}'.format(name, value))\n",
    "\n",
    "        \n",
    "def print_input_param():        \n",
    "    for name, value in PARAM.items():\n",
    "        print('{} = {}'.format(name, value))\n",
    "        \n",
    "        \n",
    "def print_lblnew_param():\n",
    "    for name, value in sorted(PARAM_LBLNEW.items()):\n",
    "        print('{} = {}'.format(name, value))\n"
   ]
  },
  {
   "cell_type": "code",
   "execution_count": 11,
   "metadata": {
    "collapsed": true,
    "scrolled": false
   },
   "outputs": [],
   "source": [
    "def show_html(s):\n",
    "    display.display(display.HTML(s))\n",
    "\n",
    "    \n",
    "def show_markdown(s):\n",
    "    display.display(display.Markdown(s))\n",
    "\n",
    "    \n",
    "def script():\n",
    "    \n",
    "    title = '### CLIRAD-LW'\n",
    "    s_input = 'Input Parameters'\n",
    "    s_lblnew_param = 'LBLNEW case compaired against'\n",
    "    s_bestfits = 'Best-fit Parameters'\n",
    "    s_plt_cooling = 'Cooling Rate Profiles'\n",
    "    s_tb_flux = 'Flux Comparison'\n",
    "    \n",
    "    # title\n",
    "    show_markdown('### CLIRAD-LW')\n",
    "    \n",
    "    # TOC\n",
    "    show_markdown('### Table of Contents')\n",
    "    show_html(climahtml.getHTML_hrefanchor(s_input))\n",
    "    show_html(climahtml.getHTML_hrefanchor(s_lblnew_param))\n",
    "    show_html(climahtml.getHTML_hrefanchor(s_plt_cooling))\n",
    "    show_html(climahtml.getHTML_hrefanchor(s_tb_flux))\n",
    "    show_html(climahtml.getHTML_hrefanchor(s_bestfits))\n",
    "    \n",
    "    # Input parameters\n",
    "    show_html(climahtml.getHTML_idanchor(s_input))\n",
    "    show_markdown(climahtml.getMarkdown_sectitle(s_input))\n",
    "    print_input_param()\n",
    "    \n",
    "    # LBLNEW parameters \n",
    "    show_html(climahtml.getHTML_idanchor(s_lblnew_param))\n",
    "    show_markdown(climahtml.getMarkdown_sectitle(s_lblnew_param))\n",
    "    print_lblnew_param()\n",
    "    \n",
    "    # Cooling rate profiles\n",
    "    show_html(climahtml.getHTML_idanchor(s_plt_cooling))\n",
    "    show_markdown(climahtml.getMarkdown_sectitle(s_plt_cooling))\n",
    "    script_plt_cooling()\n",
    "    \n",
    "    # Flux comparison\n",
    "    show_html(climahtml.getHTML_idanchor(s_tb_flux))\n",
    "    show_markdown(climahtml.getMarkdown_sectitle(s_tb_flux))\n",
    "    script_tb_flux()\n",
    "    \n",
    "    # Best-fit values\n",
    "    show_html(climahtml.getHTML_idanchor(s_bestfits))\n",
    "    show_markdown(climahtml.getMarkdown_sectitle(s_bestfits))\n",
    "    print_bestfit_params()\n",
    "   \n",
    "    "
   ]
  },
  {
   "cell_type": "code",
   "execution_count": 12,
   "metadata": {
    "collapsed": true,
    "scrolled": false
   },
   "outputs": [
    {
     "data": {
      "text/markdown": [
       "### CLIRAD-LW"
      ],
      "text/plain": [
       "<IPython.core.display.Markdown object>"
      ]
     },
     "metadata": {},
     "output_type": "display_data"
    },
    {
     "data": {
      "text/markdown": [
       "### Table of Contents"
      ],
      "text/plain": [
       "<IPython.core.display.Markdown object>"
      ]
     },
     "metadata": {},
     "output_type": "display_data"
    },
    {
     "data": {
      "text/html": [
       "<a href=\"#Input_Parameters\">Input Parameters</a>"
      ],
      "text/plain": [
       "<IPython.core.display.HTML object>"
      ]
     },
     "metadata": {},
     "output_type": "display_data"
    },
    {
     "data": {
      "text/html": [
       "<a href=\"#LBLNEW_case_compaired_against\">LBLNEW case compaired against</a>"
      ],
      "text/plain": [
       "<IPython.core.display.HTML object>"
      ]
     },
     "metadata": {},
     "output_type": "display_data"
    },
    {
     "data": {
      "text/html": [
       "<a href=\"#Cooling_Rate_Profiles\">Cooling Rate Profiles</a>"
      ],
      "text/plain": [
       "<IPython.core.display.HTML object>"
      ]
     },
     "metadata": {},
     "output_type": "display_data"
    },
    {
     "data": {
      "text/html": [
       "<a href=\"#Flux_Comparison\">Flux Comparison</a>"
      ],
      "text/plain": [
       "<IPython.core.display.HTML object>"
      ]
     },
     "metadata": {},
     "output_type": "display_data"
    },
    {
     "data": {
      "text/html": [
       "<a href=\"#Best-fit_Parameters\">Best-fit Parameters</a>"
      ],
      "text/plain": [
       "<IPython.core.display.HTML object>"
      ]
     },
     "metadata": {},
     "output_type": "display_data"
    },
    {
     "data": {
      "text/html": [
       "<a id=\"Input_Parameters\"></a>"
      ],
      "text/plain": [
       "<IPython.core.display.HTML object>"
      ]
     },
     "metadata": {},
     "output_type": "display_data"
    },
    {
     "data": {
      "text/markdown": [
       "# Input Parameters"
      ],
      "text/plain": [
       "<IPython.core.display.Markdown object>"
      ]
     },
     "metadata": {},
     "output_type": "display_data"
    },
    {
     "name": "stdout",
     "output_type": "stream",
     "text": [
      "atmpro = saw\n",
      "band = [9]\n",
      "commitnumber = de5d43e\n",
      "molecule = {'n2o': 3.2e-07}\n",
      "tsfc = 257\n"
     ]
    },
    {
     "data": {
      "text/html": [
       "<a id=\"LBLNEW_case_compaired_against\"></a>"
      ],
      "text/plain": [
       "<IPython.core.display.HTML object>"
      ]
     },
     "metadata": {},
     "output_type": "display_data"
    },
    {
     "data": {
      "text/markdown": [
       "# LBLNEW case compaired against"
      ],
      "text/plain": [
       "<IPython.core.display.Markdown object>"
      ]
     },
     "metadata": {},
     "output_type": "display_data"
    },
    {
     "name": "stdout",
     "output_type": "stream",
     "text": [
      "atmpro = saw\n",
      "band = 7\n",
      "commitnumber = 5014a19\n",
      "conc = 3.2e-07\n",
      "dv = 0.001\n",
      "klin = 2.22e-20\n",
      "molecule = n2o\n",
      "ng_adju = [0, 0]\n",
      "ng_refs = [2, 2]\n",
      "nv = 1000\n",
      "option_compute_btable = 0\n",
      "option_compute_ktable = 0\n",
      "option_wgt_flux = 1\n",
      "option_wgt_k = 1\n",
      "ref_pts = [(1, 250), (500, 250)]\n",
      "tsfc = 257\n",
      "vmax = 1380\n",
      "vmin = 1215\n",
      "w_diffuse = [(1.8, 1.66), (1.6, 1.8)]\n",
      "wgt = [(0.6, 0.5), (0.6, 0.9)]\n"
     ]
    },
    {
     "data": {
      "text/html": [
       "<a id=\"Cooling_Rate_Profiles\"></a>"
      ],
      "text/plain": [
       "<IPython.core.display.HTML object>"
      ]
     },
     "metadata": {},
     "output_type": "display_data"
    },
    {
     "data": {
      "text/markdown": [
       "# Cooling Rate Profiles"
      ],
      "text/plain": [
       "<IPython.core.display.Markdown object>"
      ]
     },
     "metadata": {},
     "output_type": "display_data"
    },
    {
     "data": {
      "text/html": [
       "\n",
       "<div class=\"bk-root\">\n",
       "    <div class=\"bk-plotdiv\" id=\"dfc82783-04f7-4c16-8907-7058b076f336\"></div>\n",
       "</div>"
      ]
     },
     "metadata": {},
     "output_type": "display_data"
    },
    {
     "data": {
      "application/javascript": [
       "(function(root) {\n",
       "  function embed_document(root) {\n",
       "    \n",
       "  var docs_json = {\"a9344217-4d6d-424a-aa0c-3cda68190b4b\":{\"roots\":{\"references\":[{\"attributes\":{\"tools\":[{\"id\":\"ce1d938a-74ee-4248-9eba-b83f8bdc2d2a\",\"type\":\"PanTool\"},{\"id\":\"5902ead3-892d-4194-a9fc-c8fe2073b5a1\",\"type\":\"WheelZoomTool\"},{\"id\":\"fb64b59c-8827-408f-9a8b-0ce35c26b05a\",\"type\":\"BoxZoomTool\"},{\"id\":\"db17dcf7-0674-4993-a6eb-f58c8663ff5f\",\"type\":\"SaveTool\"},{\"id\":\"79fc92a2-ae15-42c2-b938-b135f22c61b1\",\"type\":\"ResetTool\"},{\"id\":\"a580e021-e41a-4cd5-8cd9-083f5715d672\",\"type\":\"HelpTool\"},{\"id\":\"597193fb-fea5-4f28-aa4b-8fdd880719fb\",\"type\":\"PanTool\"},{\"id\":\"a18fd1fb-89b2-4f56-ad26-c2ea082bdab2\",\"type\":\"WheelZoomTool\"},{\"id\":\"07fc68b1-991b-4ad2-99a1-1c8d0fe139d8\",\"type\":\"BoxZoomTool\"},{\"id\":\"3624dc6f-ad8a-4f7f-9d72-73a892ebc86c\",\"type\":\"SaveTool\"},{\"id\":\"fa7050ec-6ac4-4291-838c-e2f8bad9be92\",\"type\":\"ResetTool\"},{\"id\":\"89f15e32-7cf6-400c-9624-b440fc8e00b2\",\"type\":\"HelpTool\"}]},\"id\":\"63f9ab46-973e-40f4-afc0-6b23b4c2558c\",\"type\":\"ProxyToolbar\"},{\"attributes\":{\"fill_alpha\":{\"value\":0.7},\"fill_color\":{\"value\":\"#4daf4a\"},\"line_alpha\":{\"value\":0.7},\"line_color\":{\"value\":\"#4daf4a\"},\"x\":{\"field\":\"x\"},\"y\":{\"field\":\"y\"}},\"id\":\"40ed8b78-a51b-4a89-839a-d7a52c83493f\",\"type\":\"Circle\"},{\"attributes\":{\"data_source\":{\"id\":\"c953e134-2bc9-49bc-9493-fd0e46eceb9e\",\"type\":\"ColumnDataSource\"},\"glyph\":{\"id\":\"f97a716c-e66a-4e70-a3b8-0db52085ca93\",\"type\":\"Line\"},\"hover_glyph\":null,\"muted_glyph\":null,\"nonselection_glyph\":{\"id\":\"7d706bd6-a2d5-4044-b1c8-25412ff983d7\",\"type\":\"Line\"},\"selection_glyph\":null,\"view\":{\"id\":\"3851173c-c871-478d-a731-487aa17b990a\",\"type\":\"CDSView\"}},\"id\":\"9816a112-e349-42a1-a2e7-7b9393c858c4\",\"type\":\"GlyphRenderer\"},{\"attributes\":{\"toolbar\":{\"id\":\"63f9ab46-973e-40f4-afc0-6b23b4c2558c\",\"type\":\"ProxyToolbar\"},\"toolbar_location\":\"above\"},\"id\":\"e80bc703-7f10-4311-8227-ff8f4aba3027\",\"type\":\"ToolbarBox\"},{\"attributes\":{\"dimension\":1,\"plot\":{\"id\":\"b43697ff-3cbd-4006-be04-c5162e25da40\",\"subtype\":\"Figure\",\"type\":\"Plot\"},\"ticker\":{\"id\":\"79f788dd-52d4-4750-b31f-291d95d145fc\",\"type\":\"LogTicker\"}},\"id\":\"6ebaa350-99c5-4d4c-b076-e7b9d2d07799\",\"type\":\"Grid\"},{\"attributes\":{\"data_source\":{\"id\":\"ca077a3c-89a8-45cd-9062-dd02e85574ab\",\"type\":\"ColumnDataSource\"},\"glyph\":{\"id\":\"40ed8b78-a51b-4a89-839a-d7a52c83493f\",\"type\":\"Circle\"},\"hover_glyph\":null,\"muted_glyph\":null,\"nonselection_glyph\":{\"id\":\"2955f8b4-bb73-47c4-aa0a-fa2d567e5c65\",\"type\":\"Circle\"},\"selection_glyph\":null,\"view\":{\"id\":\"069a291f-6f32-4cde-bee4-db9d1f7828e3\",\"type\":\"CDSView\"}},\"id\":\"aae3a676-988a-44c9-aae8-901b9adae6a0\",\"type\":\"GlyphRenderer\"},{\"attributes\":{\"children\":[{\"id\":\"e80bc703-7f10-4311-8227-ff8f4aba3027\",\"type\":\"ToolbarBox\"},{\"id\":\"d91cb706-e517-4bab-8ce0-90b69fad4e3f\",\"type\":\"Column\"}]},\"id\":\"4b66a1a2-ba45-4c9a-8fb1-e5cab2b2f02b\",\"type\":\"Column\"},{\"attributes\":{\"line_alpha\":0.1,\"line_color\":\"#1f77b4\",\"line_dash\":[6],\"line_width\":5,\"x\":{\"field\":\"x\"},\"y\":{\"field\":\"y\"}},\"id\":\"53f479e6-999a-435f-9668-40d0dcc1cc2c\",\"type\":\"Line\"},{\"attributes\":{\"source\":{\"id\":\"86e177b7-6c71-4a56-844e-e1d29be9d6dc\",\"type\":\"ColumnDataSource\"}},\"id\":\"7fe091f3-69ef-41e1-b39c-f8f6b2d75d71\",\"type\":\"CDSView\"},{\"attributes\":{\"line_color\":\"#4daf4a\",\"line_width\":1.5,\"x\":{\"field\":\"x\"},\"y\":{\"field\":\"y\"}},\"id\":\"0296e2ce-cd3d-4f7c-a410-e0468a3ab94f\",\"type\":\"Line\"},{\"attributes\":{\"line_alpha\":0.6,\"line_color\":\"#e41a1c\",\"line_dash\":[6],\"line_width\":5,\"x\":{\"field\":\"x\"},\"y\":{\"field\":\"y\"}},\"id\":\"38755eb3-eac4-4185-9775-0773cafd5499\",\"type\":\"Line\"},{\"attributes\":{\"fill_alpha\":{\"value\":0.1},\"fill_color\":{\"value\":\"#1f77b4\"},\"line_alpha\":{\"value\":0.1},\"line_color\":{\"value\":\"#1f77b4\"},\"x\":{\"field\":\"x\"},\"y\":{\"field\":\"y\"}},\"id\":\"2955f8b4-bb73-47c4-aa0a-fa2d567e5c65\",\"type\":\"Circle\"},{\"attributes\":{\"axis_label\":\"cooling rate [K/day]\",\"formatter\":{\"id\":\"ce9bb471-29fd-420f-beab-9792aa0fdf33\",\"type\":\"BasicTickFormatter\"},\"plot\":{\"id\":\"b43697ff-3cbd-4006-be04-c5162e25da40\",\"subtype\":\"Figure\",\"type\":\"Plot\"},\"ticker\":{\"id\":\"d44d0bb3-5323-4bf3-a071-60bc1c42e44c\",\"type\":\"BasicTicker\"}},\"id\":\"ea7628e7-459b-48b8-827b-e4c288e4ebb7\",\"type\":\"LinearAxis\"},{\"attributes\":{\"line_alpha\":0.1,\"line_color\":\"#1f77b4\",\"line_width\":3,\"x\":{\"field\":\"x\"},\"y\":{\"field\":\"y\"}},\"id\":\"fb0ef4d4-8322-4044-88a2-43f248a3637d\",\"type\":\"Line\"},{\"attributes\":{},\"id\":\"a18fd1fb-89b2-4f56-ad26-c2ea082bdab2\",\"type\":\"WheelZoomTool\"},{\"attributes\":{\"callback\":null,\"data\":{\"x\":{\"__ndarray__\":\"lK8cTHQDT78QUSv1ds3qvkC3l7lqgGA/a3cMUjyBcT8Z20BGt657P3/AhuExboM/jzNbBnSOiT/FcwPjBCKQP0MfIz3J05M/aJvY9PXMlz/be2W17COcP3K4ZCx9dKA/zdPCtq4Hoz/IPb5FGHOlPxSPGhEFaKc/4F0ahkowqT+kBRUMKwOrP/rgu1jl5qw/1dl+g0zdrj/UXWxTx3OwPxIimpPVZrE/h0Vb4AyDsD9aBM+QdMWqPyGdHK/QKKQ/OkiV1rlDnT+PdYcZOieUP7MF53W4kYk/CR5H6/OHfj/PVOQP7aFyPz9hWRAliWU/GMdTYYeTUT/ZAnPFzj8rv4ZThMv40ki/LSeEMRK4Rr+wyQnuWhZJvyTdQIPU+FK/nWtCzVIXXr+/D26ObHVnv6piyOFhtXC/Mhn4iSyTdb9VokHdXmJ6vz9v96nbNn+/lMY9yRIUgr9DC6L6YKGEv+1p+RQPDoe/piSEEdG/h79vfsv3csSFv2/I58t/e4K/i4OwxmjPfb9Sg/LAfEB2vzK0+Kc3mmy/n/w28eD2V79jLrL0KhNFP9R34j7lDmc/l2kjn6abdD9clnYS+sB9P771LaS2aoM/kYdGVTzZhz9lKNQrBx2MPzLMLL3eEpA/MoM9le/zkT/R5gPFObGTP8d5hzV/TpU/BuDtQELPlj/mTLMmbjeYP+9FJ09BjJk/iBYUn6bKmj+qoQlYjN6bP3xxQIvgmJw/ZYaKjC6xnD+AAucFyvibP/TPBtGSkZo/wXEeZSjKmD+6Wg8OgN6WP7rWBOSG7ZQ/\",\"dtype\":\"float64\",\"shape\":[75]},\"y\":{\"__ndarray__\":\"GhExyth1ND/Sv8nbtpRIP2vylNV0PVE/aTum7souWD/At0SJ8fVgPw3Iuahxymc/MSNhhJWvcD/bTfBN02d3P2zb5nxnaoA/CD5h5MAGhz8NmeH1TyaQP+zrCsc9p5Y/LbKd76fGnz/bLW5ISEmmPww9YvTcQq8/JV2OstnstT8Er5Y7M8G+P0c+r3jqkcU/5h99k6ZBzj88bCIzFzjVP4enV8oyxN0//yH99nXg5D8qOpLLf0jtP5kqGJXUifQ/c9cS8kHP/D+/DpwzojQEQIEmwoanVwxA4lgXt9HgE0BSSZ2AJuIbQAMJih9jjiNA5q4l5INuK0AwTKYKRj0zQNv5fmq8/DpAaCJseHrtQkB/+zpwzoxKQM3MzMzMeFJAZmZmZmZqWEAAAAAAAFxeQM3MzMzMJmJAmpmZmZkfZUBmZmZmZhhoQDMzMzMzEWtAAAAAAAAKbkBmZmZmZoFwQM3MzMzM/XFAMzMzMzN6c0CamZmZmfZ0QAAAAAAAc3ZAZmZmZmbvd0DNzMzMzGt5QDMzMzMz6HpAmpmZmZlkfEAAAAAAAOF9QGZmZmZmXX9AZmZmZuZsgECamZmZGSuBQM3MzMxM6YFAAAAAAICngkAzMzMzs2WDQGZmZmbmI4RAmpmZmRnihEDNzMzMTKCFQAAAAACAXoZAMzMzM7Mch0BmZmZm5tqHQJqZmZkZmYhAzczMzExXiUAAAAAAgBWKQDMzMzOz04pAZmZmZuaRi0CamZmZGVCMQM3MzMxMDo1AAAAAAIDMjUAzMzMzs4qOQGZmZmbmSI9A\",\"dtype\":\"float64\",\"shape\":[75]}},\"selected\":{\"id\":\"061f869f-dbc6-4acb-82f6-63c525b0f87c\",\"type\":\"Selection\"},\"selection_policy\":{\"id\":\"890b681a-ca0e-42bd-bdd5-c2154e0af11b\",\"type\":\"UnionRenderers\"}},\"id\":\"add1cff2-6c72-4dce-a6f0-ca258d1e4347\",\"type\":\"ColumnDataSource\"},{\"attributes\":{\"source\":{\"id\":\"ca077a3c-89a8-45cd-9062-dd02e85574ab\",\"type\":\"ColumnDataSource\"}},\"id\":\"069a291f-6f32-4cde-bee4-db9d1f7828e3\",\"type\":\"CDSView\"},{\"attributes\":{\"active_drag\":\"auto\",\"active_inspect\":\"auto\",\"active_scroll\":\"auto\",\"active_tap\":\"auto\",\"tools\":[{\"id\":\"597193fb-fea5-4f28-aa4b-8fdd880719fb\",\"type\":\"PanTool\"},{\"id\":\"a18fd1fb-89b2-4f56-ad26-c2ea082bdab2\",\"type\":\"WheelZoomTool\"},{\"id\":\"07fc68b1-991b-4ad2-99a1-1c8d0fe139d8\",\"type\":\"BoxZoomTool\"},{\"id\":\"3624dc6f-ad8a-4f7f-9d72-73a892ebc86c\",\"type\":\"SaveTool\"},{\"id\":\"fa7050ec-6ac4-4291-838c-e2f8bad9be92\",\"type\":\"ResetTool\"},{\"id\":\"89f15e32-7cf6-400c-9624-b440fc8e00b2\",\"type\":\"HelpTool\"}]},\"id\":\"3dd078eb-b10c-49c6-8207-cf78f89bd349\",\"type\":\"Toolbar\"},{\"attributes\":{\"callback\":null,\"data\":{\"x\":{\"__ndarray__\":\"9YdZdFrTkL/jFUHJCJuOv+qNsxlC9oe/y90op/aYgL+difTZRBhxv4S8i13yWh4/fMz1aZ2Acz8Wo/RlXhCEP1rjAZ/+N48/i3ictgeglT9VEaEjTxicP0ctS3aXhKE/9hmZRf01pT9irUnTeqGoPy5yPXS7Q6s/wTfErb97rT9C/A0kOaqvP8nQyiDr57A/KRyxfoL3sT8X7+NCxwmzP8I+iARWBbQ/qTvQvHxosj8diTc1R4urP9FVoR4ue6I/SbOGRghzlz+HcRszp9CLP766YdXE7X0/InS6rstwcD+AXYQj7MZoPyYvLGz/a2U/FpXHcaROYD+35b8iKIdSP2LaRzEdNEk/1oIBvZWJUD8CjKdZOR9SP3jse94aQlA/+FqxWBjCRT+NnIQuVYYbv/vME+8L5lK/9n2IamIqYr/tjRyQnWNrvyxUWiaTuHK/qCwDAURXeL/NUlgIN8l+vxGesEur3YK/Z5nVHBhwhL88GhMSDM+Cv37d8Bo3nn+/9oaEcexneb/1Lu8EU/pyv9ToFkFxdWi/oMVX3RhyVL/k65rJjw9DP2ZFS5xgcWQ/MAQlsjtXcj+Y6lfw2qJ6P/E7siPhfIE/KqUb7EOahT9iMH+FzJWJP/1pQBBiX40/74cZxk92kD/Mop6o5h6SP4I2Woq7rJM/mGNqLBAmlT+YFKiQ7pGWPwg79eNX9Zc/3XghZPNNmT8L91Wv3oWaPzK86uWdYZs/vDgfDnqFmz/nHsF2+LeaP6q/ZRumIJk/YKnlCa8dlz9FpXGlJ/eUPwuSwuVGy5I/\",\"dtype\":\"float64\",\"shape\":[75]},\"y\":{\"__ndarray__\":\"GhExyth1ND/Sv8nbtpRIP2vylNV0PVE/aTum7souWD/At0SJ8fVgPw3Iuahxymc/MSNhhJWvcD/bTfBN02d3P2zb5nxnaoA/CD5h5MAGhz8NmeH1TyaQP+zrCsc9p5Y/LbKd76fGnz/bLW5ISEmmPww9YvTcQq8/JV2OstnstT8Er5Y7M8G+P0c+r3jqkcU/5h99k6ZBzj88bCIzFzjVP4enV8oyxN0//yH99nXg5D8qOpLLf0jtP5kqGJXUifQ/c9cS8kHP/D+/DpwzojQEQIEmwoanVwxA4lgXt9HgE0BSSZ2AJuIbQAMJih9jjiNA5q4l5INuK0AwTKYKRj0zQNv5fmq8/DpAaCJseHrtQkB/+zpwzoxKQM3MzMzMeFJAZmZmZmZqWEAAAAAAAFxeQM3MzMzMJmJAmpmZmZkfZUBmZmZmZhhoQDMzMzMzEWtAAAAAAAAKbkBmZmZmZoFwQM3MzMzM/XFAMzMzMzN6c0CamZmZmfZ0QAAAAAAAc3ZAZmZmZmbvd0DNzMzMzGt5QDMzMzMz6HpAmpmZmZlkfEAAAAAAAOF9QGZmZmZmXX9AZmZmZuZsgECamZmZGSuBQM3MzMxM6YFAAAAAAICngkAzMzMzs2WDQGZmZmbmI4RAmpmZmRnihEDNzMzMTKCFQAAAAACAXoZAMzMzM7Mch0BmZmZm5tqHQJqZmZkZmYhAzczMzExXiUAAAAAAgBWKQDMzMzOz04pAZmZmZuaRi0CamZmZGVCMQM3MzMxMDo1AAAAAAIDMjUAzMzMzs4qOQGZmZmbmSI9A\",\"dtype\":\"float64\",\"shape\":[75]}},\"selected\":{\"id\":\"849f7c47-a276-4fe6-9f1c-b7fbeaac4403\",\"type\":\"Selection\"},\"selection_policy\":{\"id\":\"b3340ecf-b9ef-4197-af93-291429246a30\",\"type\":\"UnionRenderers\"}},\"id\":\"ca077a3c-89a8-45cd-9062-dd02e85574ab\",\"type\":\"ColumnDataSource\"},{\"attributes\":{\"plot\":{\"id\":\"b43697ff-3cbd-4006-be04-c5162e25da40\",\"subtype\":\"Figure\",\"type\":\"Plot\"},\"ticker\":{\"id\":\"d44d0bb3-5323-4bf3-a071-60bc1c42e44c\",\"type\":\"BasicTicker\"}},\"id\":\"24878b56-e024-4152-86d2-6948258f655f\",\"type\":\"Grid\"},{\"attributes\":{\"num_minor_ticks\":10},\"id\":\"79f788dd-52d4-4750-b31f-291d95d145fc\",\"type\":\"LogTicker\"},{\"attributes\":{\"source\":{\"id\":\"6ee33550-fe59-4179-adac-23ca4ab31343\",\"type\":\"ColumnDataSource\"}},\"id\":\"7b200a03-02e6-4e9a-825c-a698c2064cf8\",\"type\":\"CDSView\"},{\"attributes\":{\"plot\":null,\"text\":\"Log pressure scale\"},\"id\":\"0df2d658-8d77-4446-8b88-409dd19f205a\",\"type\":\"Title\"},{\"attributes\":{\"callback\":null,\"data\":{\"x\":{\"__ndarray__\":\"9YdZdFrTkL/jFUHJCJuOv+qNsxlC9oe/y90op/aYgL+difTZRBhxv4S8i13yWh4/fMz1aZ2Acz8Wo/RlXhCEP1rjAZ/+N48/i3ictgeglT9VEaEjTxicP0ctS3aXhKE/9hmZRf01pT9irUnTeqGoPy5yPXS7Q6s/wTfErb97rT9C/A0kOaqvP8nQyiDr57A/KRyxfoL3sT8X7+NCxwmzP8I+iARWBbQ/qTvQvHxosj8diTc1R4urP9FVoR4ue6I/SbOGRghzlz+HcRszp9CLP766YdXE7X0/InS6rstwcD+AXYQj7MZoPyYvLGz/a2U/FpXHcaROYD+35b8iKIdSP2LaRzEdNEk/1oIBvZWJUD8CjKdZOR9SP3jse94aQlA/+FqxWBjCRT+NnIQuVYYbv/vME+8L5lK/9n2IamIqYr/tjRyQnWNrvyxUWiaTuHK/qCwDAURXeL/NUlgIN8l+vxGesEur3YK/Z5nVHBhwhL88GhMSDM+Cv37d8Bo3nn+/9oaEcexneb/1Lu8EU/pyv9ToFkFxdWi/oMVX3RhyVL/k65rJjw9DP2ZFS5xgcWQ/MAQlsjtXcj+Y6lfw2qJ6P/E7siPhfIE/KqUb7EOahT9iMH+FzJWJP/1pQBBiX40/74cZxk92kD/Mop6o5h6SP4I2Woq7rJM/mGNqLBAmlT+YFKiQ7pGWPwg79eNX9Zc/3XghZPNNmT8L91Wv3oWaPzK86uWdYZs/vDgfDnqFmz/nHsF2+LeaP6q/ZRumIJk/YKnlCa8dlz9FpXGlJ/eUPwuSwuVGy5I/\",\"dtype\":\"float64\",\"shape\":[75]},\"y\":{\"__ndarray__\":\"GhExyth1ND/Sv8nbtpRIP2vylNV0PVE/aTum7souWD/At0SJ8fVgPw3Iuahxymc/MSNhhJWvcD/bTfBN02d3P2zb5nxnaoA/CD5h5MAGhz8NmeH1TyaQP+zrCsc9p5Y/LbKd76fGnz/bLW5ISEmmPww9YvTcQq8/JV2OstnstT8Er5Y7M8G+P0c+r3jqkcU/5h99k6ZBzj88bCIzFzjVP4enV8oyxN0//yH99nXg5D8qOpLLf0jtP5kqGJXUifQ/c9cS8kHP/D+/DpwzojQEQIEmwoanVwxA4lgXt9HgE0BSSZ2AJuIbQAMJih9jjiNA5q4l5INuK0AwTKYKRj0zQNv5fmq8/DpAaCJseHrtQkB/+zpwzoxKQM3MzMzMeFJAZmZmZmZqWEAAAAAAAFxeQM3MzMzMJmJAmpmZmZkfZUBmZmZmZhhoQDMzMzMzEWtAAAAAAAAKbkBmZmZmZoFwQM3MzMzM/XFAMzMzMzN6c0CamZmZmfZ0QAAAAAAAc3ZAZmZmZmbvd0DNzMzMzGt5QDMzMzMz6HpAmpmZmZlkfEAAAAAAAOF9QGZmZmZmXX9AZmZmZuZsgECamZmZGSuBQM3MzMxM6YFAAAAAAICngkAzMzMzs2WDQGZmZmbmI4RAmpmZmRnihEDNzMzMTKCFQAAAAACAXoZAMzMzM7Mch0BmZmZm5tqHQJqZmZkZmYhAzczMzExXiUAAAAAAgBWKQDMzMzOz04pAZmZmZuaRi0CamZmZGVCMQM3MzMxMDo1AAAAAAIDMjUAzMzMzs4qOQGZmZmbmSI9A\",\"dtype\":\"float64\",\"shape\":[75]}},\"selected\":{\"id\":\"d7c6e3cc-0a46-44b5-8dbb-ebc7381bfee1\",\"type\":\"Selection\"},\"selection_policy\":{\"id\":\"d94cb661-4d54-4680-bdac-2ccb0e2d3775\",\"type\":\"UnionRenderers\"}},\"id\":\"cc3c7887-80a3-4213-b6ab-64b2a975bd89\",\"type\":\"ColumnDataSource\"},{\"attributes\":{},\"id\":\"a530d396-0935-4d99-8579-53b3123e4f22\",\"type\":\"LogScale\"},{\"attributes\":{\"line_alpha\":0.1,\"line_color\":\"#1f77b4\",\"line_width\":1.5,\"x\":{\"field\":\"x\"},\"y\":{\"field\":\"y\"}},\"id\":\"a5b7edc9-3090-47c3-88a6-3a50738f1d5a\",\"type\":\"Line\"},{\"attributes\":{\"data_source\":{\"id\":\"cc3c7887-80a3-4213-b6ab-64b2a975bd89\",\"type\":\"ColumnDataSource\"},\"glyph\":{\"id\":\"0296e2ce-cd3d-4f7c-a410-e0468a3ab94f\",\"type\":\"Line\"},\"hover_glyph\":null,\"muted_glyph\":null,\"nonselection_glyph\":{\"id\":\"a5b7edc9-3090-47c3-88a6-3a50738f1d5a\",\"type\":\"Line\"},\"selection_glyph\":null,\"view\":{\"id\":\"a87de56e-f511-4108-8d72-f6d0132955e2\",\"type\":\"CDSView\"}},\"id\":\"0612a6f2-5669-4107-840a-deb003dce436\",\"type\":\"GlyphRenderer\"},{\"attributes\":{\"source\":{\"id\":\"cc3c7887-80a3-4213-b6ab-64b2a975bd89\",\"type\":\"ColumnDataSource\"}},\"id\":\"a87de56e-f511-4108-8d72-f6d0132955e2\",\"type\":\"CDSView\"},{\"attributes\":{\"fill_alpha\":{\"value\":0.7},\"fill_color\":{\"value\":\"#984ea3\"},\"line_alpha\":{\"value\":0.7},\"line_color\":{\"value\":\"#984ea3\"},\"x\":{\"field\":\"x\"},\"y\":{\"field\":\"y\"}},\"id\":\"cd12f17e-bace-4564-bc6f-c25415ca2c50\",\"type\":\"Square\"},{\"attributes\":{},\"id\":\"89f15e32-7cf6-400c-9624-b440fc8e00b2\",\"type\":\"HelpTool\"},{\"attributes\":{\"callback\":null,\"data\":{\"x\":{\"__ndarray__\":\"lK8cTHQDT78QUSv1ds3qvkC3l7lqgGA/a3cMUjyBcT8Z20BGt657P3/AhuExboM/jzNbBnSOiT/FcwPjBCKQP0MfIz3J05M/aJvY9PXMlz/be2W17COcP3K4ZCx9dKA/zdPCtq4Hoz/IPb5FGHOlPxSPGhEFaKc/4F0ahkowqT+kBRUMKwOrP/rgu1jl5qw/1dl+g0zdrj/UXWxTx3OwPxIimpPVZrE/h0Vb4AyDsD9aBM+QdMWqPyGdHK/QKKQ/OkiV1rlDnT+PdYcZOieUP7MF53W4kYk/CR5H6/OHfj/PVOQP7aFyPz9hWRAliWU/GMdTYYeTUT/ZAnPFzj8rv4ZThMv40ki/LSeEMRK4Rr+wyQnuWhZJvyTdQIPU+FK/nWtCzVIXXr+/D26ObHVnv6piyOFhtXC/Mhn4iSyTdb9VokHdXmJ6vz9v96nbNn+/lMY9yRIUgr9DC6L6YKGEv+1p+RQPDoe/piSEEdG/h79vfsv3csSFv2/I58t/e4K/i4OwxmjPfb9Sg/LAfEB2vzK0+Kc3mmy/n/w28eD2V79jLrL0KhNFP9R34j7lDmc/l2kjn6abdD9clnYS+sB9P771LaS2aoM/kYdGVTzZhz9lKNQrBx2MPzLMLL3eEpA/MoM9le/zkT/R5gPFObGTP8d5hzV/TpU/BuDtQELPlj/mTLMmbjeYP+9FJ09BjJk/iBYUn6bKmj+qoQlYjN6bP3xxQIvgmJw/ZYaKjC6xnD+AAucFyvibP/TPBtGSkZo/wXEeZSjKmD+6Wg8OgN6WP7rWBOSG7ZQ/\",\"dtype\":\"float64\",\"shape\":[75]},\"y\":{\"__ndarray__\":\"GhExyth1ND/Sv8nbtpRIP2vylNV0PVE/aTum7souWD/At0SJ8fVgPw3Iuahxymc/MSNhhJWvcD/bTfBN02d3P2zb5nxnaoA/CD5h5MAGhz8NmeH1TyaQP+zrCsc9p5Y/LbKd76fGnz/bLW5ISEmmPww9YvTcQq8/JV2OstnstT8Er5Y7M8G+P0c+r3jqkcU/5h99k6ZBzj88bCIzFzjVP4enV8oyxN0//yH99nXg5D8qOpLLf0jtP5kqGJXUifQ/c9cS8kHP/D+/DpwzojQEQIEmwoanVwxA4lgXt9HgE0BSSZ2AJuIbQAMJih9jjiNA5q4l5INuK0AwTKYKRj0zQNv5fmq8/DpAaCJseHrtQkB/+zpwzoxKQM3MzMzMeFJAZmZmZmZqWEAAAAAAAFxeQM3MzMzMJmJAmpmZmZkfZUBmZmZmZhhoQDMzMzMzEWtAAAAAAAAKbkBmZmZmZoFwQM3MzMzM/XFAMzMzMzN6c0CamZmZmfZ0QAAAAAAAc3ZAZmZmZmbvd0DNzMzMzGt5QDMzMzMz6HpAmpmZmZlkfEAAAAAAAOF9QGZmZmZmXX9AZmZmZuZsgECamZmZGSuBQM3MzMxM6YFAAAAAAICngkAzMzMzs2WDQGZmZmbmI4RAmpmZmRnihEDNzMzMTKCFQAAAAACAXoZAMzMzM7Mch0BmZmZm5tqHQJqZmZkZmYhAzczMzExXiUAAAAAAgBWKQDMzMzOz04pAZmZmZuaRi0CamZmZGVCMQM3MzMxMDo1AAAAAAIDMjUAzMzMzs4qOQGZmZmbmSI9A\",\"dtype\":\"float64\",\"shape\":[75]}},\"selected\":{\"id\":\"b166baa3-5c77-47be-9d80-08c3b40d0e2f\",\"type\":\"Selection\"},\"selection_policy\":{\"id\":\"c95f95f2-979f-4f9c-83a4-b81e345d5b24\",\"type\":\"UnionRenderers\"}},\"id\":\"6ee33550-fe59-4179-adac-23ca4ab31343\",\"type\":\"ColumnDataSource\"},{\"attributes\":{\"fill_alpha\":{\"value\":0.1},\"fill_color\":{\"value\":\"#1f77b4\"},\"line_alpha\":{\"value\":0.1},\"line_color\":{\"value\":\"#1f77b4\"},\"x\":{\"field\":\"x\"},\"y\":{\"field\":\"y\"}},\"id\":\"df3a2694-6a07-4921-a852-9500fd6ed928\",\"type\":\"Square\"},{\"attributes\":{\"axis_label\":\"pressure [mb]\",\"formatter\":{\"id\":\"0d174644-a518-4f2c-a202-0825ae456cf1\",\"type\":\"LogTickFormatter\"},\"plot\":{\"id\":\"b43697ff-3cbd-4006-be04-c5162e25da40\",\"subtype\":\"Figure\",\"type\":\"Plot\"},\"ticker\":{\"id\":\"79f788dd-52d4-4750-b31f-291d95d145fc\",\"type\":\"LogTicker\"}},\"id\":\"40fe0db7-d885-4a34-b341-f109d0b03a22\",\"type\":\"LogAxis\"},{\"attributes\":{\"data_source\":{\"id\":\"add1cff2-6c72-4dce-a6f0-ca258d1e4347\",\"type\":\"ColumnDataSource\"},\"glyph\":{\"id\":\"cd12f17e-bace-4564-bc6f-c25415ca2c50\",\"type\":\"Square\"},\"hover_glyph\":null,\"muted_glyph\":null,\"nonselection_glyph\":{\"id\":\"df3a2694-6a07-4921-a852-9500fd6ed928\",\"type\":\"Square\"},\"selection_glyph\":null,\"view\":{\"id\":\"27397689-f926-4890-bc16-00f1b200428a\",\"type\":\"CDSView\"}},\"id\":\"b97c6eaf-358f-44d4-93d8-be90a8b272a1\",\"type\":\"GlyphRenderer\"},{\"attributes\":{},\"id\":\"f48895f7-f4c6-4fa4-b3c8-b482c9500418\",\"type\":\"LinearScale\"},{\"attributes\":{\"source\":{\"id\":\"add1cff2-6c72-4dce-a6f0-ca258d1e4347\",\"type\":\"ColumnDataSource\"}},\"id\":\"27397689-f926-4890-bc16-00f1b200428a\",\"type\":\"CDSView\"},{\"attributes\":{},\"id\":\"125f1b02-9af9-4a54-8a88-84a71e52e6e1\",\"type\":\"BasicTickFormatter\"},{\"attributes\":{\"label\":{\"value\":\"CLIRAD `coolr_bands`\"},\"renderers\":[{\"id\":\"58e31913-b6bf-431c-8bab-18820deb2a47\",\"type\":\"GlyphRenderer\"}]},\"id\":\"3f640ac7-663a-4dcb-a879-a6295af0497e\",\"type\":\"LegendItem\"},{\"attributes\":{\"children\":[{\"id\":\"7b0b884a-1cb1-4799-8fde-5ac5ab5237cb\",\"type\":\"Row\"}]},\"id\":\"d91cb706-e517-4bab-8ce0-90b69fad4e3f\",\"type\":\"Column\"},{\"attributes\":{},\"id\":\"013b1d9f-b352-487e-a871-5824e30f5a70\",\"type\":\"BasicTickFormatter\"},{\"attributes\":{\"source\":{\"id\":\"c953e134-2bc9-49bc-9493-fd0e46eceb9e\",\"type\":\"ColumnDataSource\"}},\"id\":\"3851173c-c871-478d-a731-487aa17b990a\",\"type\":\"CDSView\"},{\"attributes\":{\"label\":{\"value\":\"CRD\"},\"renderers\":[{\"id\":\"aae3a676-988a-44c9-aae8-901b9adae6a0\",\"type\":\"GlyphRenderer\"},{\"id\":\"0612a6f2-5669-4107-840a-deb003dce436\",\"type\":\"GlyphRenderer\"}]},\"id\":\"3078ab40-5ea3-41be-bc7e-90c7ab80df39\",\"type\":\"LegendItem\"},{\"attributes\":{},\"id\":\"597193fb-fea5-4f28-aa4b-8fdd880719fb\",\"type\":\"PanTool\"},{\"attributes\":{},\"id\":\"784f624b-91d2-4a5a-a344-456f1ef95537\",\"type\":\"UnionRenderers\"},{\"attributes\":{\"label\":{\"value\":\"WGT igg=10 wgt_flux=2\"},\"renderers\":[{\"id\":\"b97c6eaf-358f-44d4-93d8-be90a8b272a1\",\"type\":\"GlyphRenderer\"},{\"id\":\"0a4dfb8a-485d-4362-87fc-111c57243c6c\",\"type\":\"GlyphRenderer\"}]},\"id\":\"487c8e7f-ff64-4d5e-b772-df2f174760b4\",\"type\":\"LegendItem\"},{\"attributes\":{\"bottom_units\":\"screen\",\"fill_alpha\":{\"value\":0.5},\"fill_color\":{\"value\":\"lightgrey\"},\"left_units\":\"screen\",\"level\":\"overlay\",\"line_alpha\":{\"value\":1.0},\"line_color\":{\"value\":\"black\"},\"line_dash\":[4,4],\"line_width\":{\"value\":2},\"plot\":null,\"render_mode\":\"css\",\"right_units\":\"screen\",\"top_units\":\"screen\"},\"id\":\"2ff8943c-d301-4ffc-aa79-c94c3ee81a64\",\"type\":\"BoxAnnotation\"},{\"attributes\":{},\"id\":\"135af800-ae40-49d8-b5a1-c832bf836891\",\"type\":\"UnionRenderers\"},{\"attributes\":{\"items\":[{\"id\":\"3f640ac7-663a-4dcb-a879-a6295af0497e\",\"type\":\"LegendItem\"},{\"id\":\"3078ab40-5ea3-41be-bc7e-90c7ab80df39\",\"type\":\"LegendItem\"},{\"id\":\"487c8e7f-ff64-4d5e-b772-df2f174760b4\",\"type\":\"LegendItem\"}],\"label_text_font_size\":{\"value\":\"8pt\"},\"location\":[10,-30],\"plot\":{\"id\":\"b43697ff-3cbd-4006-be04-c5162e25da40\",\"subtype\":\"Figure\",\"type\":\"Plot\"}},\"id\":\"c475c550-80c2-4bcc-a3a4-7174ce900471\",\"type\":\"Legend\"},{\"attributes\":{},\"id\":\"04d1f3d2-d021-4f52-a494-1bd95b9803c1\",\"type\":\"UnionRenderers\"},{\"attributes\":{},\"id\":\"d44d0bb3-5323-4bf3-a071-60bc1c42e44c\",\"type\":\"BasicTicker\"},{\"attributes\":{},\"id\":\"aa607247-2435-44d7-a2ba-1e3e916d7e83\",\"type\":\"Selection\"},{\"attributes\":{},\"id\":\"ba391dce-1854-4637-a665-43be3f7a7bab\",\"type\":\"Selection\"},{\"attributes\":{},\"id\":\"69956dfd-b5db-4c3e-8513-f889133e59f9\",\"type\":\"UnionRenderers\"},{\"attributes\":{},\"id\":\"ac1acabc-fe1d-48c4-9615-43c3e03efae2\",\"type\":\"Selection\"},{\"attributes\":{},\"id\":\"8e51bc07-303a-41f7-874e-94e8a23d3915\",\"type\":\"Selection\"},{\"attributes\":{},\"id\":\"3624dc6f-ad8a-4f7f-9d72-73a892ebc86c\",\"type\":\"SaveTool\"},{\"attributes\":{},\"id\":\"c7b31c4f-5f09-422b-9f83-1e8c8efd0e12\",\"type\":\"Selection\"},{\"attributes\":{\"overlay\":{\"id\":\"2ff8943c-d301-4ffc-aa79-c94c3ee81a64\",\"type\":\"BoxAnnotation\"}},\"id\":\"07fc68b1-991b-4ad2-99a1-1c8d0fe139d8\",\"type\":\"BoxZoomTool\"},{\"attributes\":{},\"id\":\"ce9bb471-29fd-420f-beab-9792aa0fdf33\",\"type\":\"BasicTickFormatter\"},{\"attributes\":{\"data_source\":{\"id\":\"86e177b7-6c71-4a56-844e-e1d29be9d6dc\",\"type\":\"ColumnDataSource\"},\"glyph\":{\"id\":\"38755eb3-eac4-4185-9775-0773cafd5499\",\"type\":\"Line\"},\"hover_glyph\":null,\"muted_glyph\":null,\"nonselection_glyph\":{\"id\":\"c387ddf8-e85e-4fd3-a048-577b14b887c8\",\"type\":\"Line\"},\"selection_glyph\":null,\"view\":{\"id\":\"7fe091f3-69ef-41e1-b39c-f8f6b2d75d71\",\"type\":\"CDSView\"}},\"id\":\"58e31913-b6bf-431c-8bab-18820deb2a47\",\"type\":\"GlyphRenderer\"},{\"attributes\":{},\"id\":\"0b991985-422f-485c-b8b8-6f3d8877356a\",\"type\":\"UnionRenderers\"},{\"attributes\":{},\"id\":\"849f7c47-a276-4fe6-9f1c-b7fbeaac4403\",\"type\":\"Selection\"},{\"attributes\":{},\"id\":\"851e81d7-c589-4486-b896-5588ae120717\",\"type\":\"UnionRenderers\"},{\"attributes\":{\"line_alpha\":0.6,\"line_color\":\"#984ea3\",\"line_width\":3,\"x\":{\"field\":\"x\"},\"y\":{\"field\":\"y\"}},\"id\":\"92f360c3-3ac7-448f-83c4-1fb3f2bc363b\",\"type\":\"Line\"},{\"attributes\":{},\"id\":\"b3340ecf-b9ef-4197-af93-291429246a30\",\"type\":\"UnionRenderers\"},{\"attributes\":{\"ticker\":null},\"id\":\"0d174644-a518-4f2c-a202-0825ae456cf1\",\"type\":\"LogTickFormatter\"},{\"attributes\":{\"data_source\":{\"id\":\"6ee33550-fe59-4179-adac-23ca4ab31343\",\"type\":\"ColumnDataSource\"},\"glyph\":{\"id\":\"92f360c3-3ac7-448f-83c4-1fb3f2bc363b\",\"type\":\"Line\"},\"hover_glyph\":null,\"muted_glyph\":null,\"nonselection_glyph\":{\"id\":\"fb0ef4d4-8322-4044-88a2-43f248a3637d\",\"type\":\"Line\"},\"selection_glyph\":null,\"view\":{\"id\":\"7b200a03-02e6-4e9a-825c-a698c2064cf8\",\"type\":\"CDSView\"}},\"id\":\"0a4dfb8a-485d-4362-87fc-111c57243c6c\",\"type\":\"GlyphRenderer\"},{\"attributes\":{},\"id\":\"4b5e8b5f-07fa-4238-98d8-c152da147ef1\",\"type\":\"Selection\"},{\"attributes\":{},\"id\":\"d7c6e3cc-0a46-44b5-8dbb-ebc7381bfee1\",\"type\":\"Selection\"},{\"attributes\":{},\"id\":\"fa7050ec-6ac4-4291-838c-e2f8bad9be92\",\"type\":\"ResetTool\"},{\"attributes\":{},\"id\":\"d94cb661-4d54-4680-bdac-2ccb0e2d3775\",\"type\":\"UnionRenderers\"},{\"attributes\":{\"callback\":null,\"end\":0.079057389267,\"start\":-0.007741373966999999},\"id\":\"16d6ed2b-0898-4635-85e9-a9395fa3a90e\",\"type\":\"Range1d\"},{\"attributes\":{},\"id\":\"b166baa3-5c77-47be-9d80-08c3b40d0e2f\",\"type\":\"Selection\"},{\"attributes\":{\"line_alpha\":0.1,\"line_color\":\"#1f77b4\",\"line_dash\":[6],\"line_width\":5,\"x\":{\"field\":\"x\"},\"y\":{\"field\":\"y\"}},\"id\":\"c387ddf8-e85e-4fd3-a048-577b14b887c8\",\"type\":\"Line\"},{\"attributes\":{},\"id\":\"061f869f-dbc6-4acb-82f6-63c525b0f87c\",\"type\":\"Selection\"},{\"attributes\":{},\"id\":\"890b681a-ca0e-42bd-bdd5-c2154e0af11b\",\"type\":\"UnionRenderers\"},{\"attributes\":{},\"id\":\"c95f95f2-979f-4f9c-83a4-b81e345d5b24\",\"type\":\"UnionRenderers\"},{\"attributes\":{\"line_alpha\":0.1,\"line_color\":\"#1f77b4\",\"line_width\":3,\"x\":{\"field\":\"x\"},\"y\":{\"field\":\"y\"}},\"id\":\"7d706bd6-a2d5-4044-b1c8-25412ff983d7\",\"type\":\"Line\"},{\"attributes\":{\"overlay\":{\"id\":\"afb9bdc8-cba4-4d44-abd2-4c609ffb415c\",\"type\":\"BoxAnnotation\"}},\"id\":\"fb64b59c-8827-408f-9a8b-0ce35c26b05a\",\"type\":\"BoxZoomTool\"},{\"attributes\":{\"source\":{\"id\":\"29ba3389-bf2c-48db-ad2a-fbc86980dcdb\",\"type\":\"ColumnDataSource\"}},\"id\":\"90211522-a20e-414f-83fe-542e64e00a61\",\"type\":\"CDSView\"},{\"attributes\":{\"axis_label\":\"pressure [mb]\",\"formatter\":{\"id\":\"125f1b02-9af9-4a54-8a88-84a71e52e6e1\",\"type\":\"BasicTickFormatter\"},\"plot\":{\"id\":\"ccc99f77-0654-4b53-bbb2-1a980c4dd695\",\"subtype\":\"Figure\",\"type\":\"Plot\"},\"ticker\":{\"id\":\"1f28bb7c-0628-4e55-9d59-e51d79d0fc14\",\"type\":\"BasicTicker\"}},\"id\":\"91c9d03b-3a22-4752-96eb-f0dd83202622\",\"type\":\"LinearAxis\"},{\"attributes\":{\"data_source\":{\"id\":\"29ba3389-bf2c-48db-ad2a-fbc86980dcdb\",\"type\":\"ColumnDataSource\"},\"glyph\":{\"id\":\"d0636545-2187-4b19-93ab-70246b07fa3e\",\"type\":\"Line\"},\"hover_glyph\":null,\"muted_glyph\":null,\"nonselection_glyph\":{\"id\":\"53f479e6-999a-435f-9668-40d0dcc1cc2c\",\"type\":\"Line\"},\"selection_glyph\":null,\"view\":{\"id\":\"90211522-a20e-414f-83fe-542e64e00a61\",\"type\":\"CDSView\"}},\"id\":\"fdd8ad7d-1a9d-477d-ada7-43c3f88d6215\",\"type\":\"GlyphRenderer\"},{\"attributes\":{},\"id\":\"ce1d938a-74ee-4248-9eba-b83f8bdc2d2a\",\"type\":\"PanTool\"},{\"attributes\":{\"active_drag\":\"auto\",\"active_inspect\":\"auto\",\"active_scroll\":\"auto\",\"active_tap\":\"auto\",\"tools\":[{\"id\":\"ce1d938a-74ee-4248-9eba-b83f8bdc2d2a\",\"type\":\"PanTool\"},{\"id\":\"5902ead3-892d-4194-a9fc-c8fe2073b5a1\",\"type\":\"WheelZoomTool\"},{\"id\":\"fb64b59c-8827-408f-9a8b-0ce35c26b05a\",\"type\":\"BoxZoomTool\"},{\"id\":\"db17dcf7-0674-4993-a6eb-f58c8663ff5f\",\"type\":\"SaveTool\"},{\"id\":\"79fc92a2-ae15-42c2-b938-b135f22c61b1\",\"type\":\"ResetTool\"},{\"id\":\"a580e021-e41a-4cd5-8cd9-083f5715d672\",\"type\":\"HelpTool\"}]},\"id\":\"58f0f4b7-7094-45fc-8cd9-ae28a47b2552\",\"type\":\"Toolbar\"},{\"attributes\":{\"dimension\":1,\"plot\":{\"id\":\"ccc99f77-0654-4b53-bbb2-1a980c4dd695\",\"subtype\":\"Figure\",\"type\":\"Plot\"},\"ticker\":{\"id\":\"1f28bb7c-0628-4e55-9d59-e51d79d0fc14\",\"type\":\"BasicTicker\"}},\"id\":\"ab839777-5e39-41d6-9c0f-a0db60f4f1e5\",\"type\":\"Grid\"},{\"attributes\":{\"callback\":null,\"end\":0.01,\"start\":1020},\"id\":\"2caed391-1fc2-4d16-85c1-261f9b8a7a5e\",\"type\":\"Range1d\"},{\"attributes\":{\"callback\":null,\"data\":{\"x\":{\"__ndarray__\":\"9YdZdFrTkL/jFUHJCJuOv+qNsxlC9oe/y90op/aYgL+difTZRBhxv4S8i13yWh4/fMz1aZ2Acz8Wo/RlXhCEP1rjAZ/+N48/i3ictgeglT9VEaEjTxicP0ctS3aXhKE/9hmZRf01pT9irUnTeqGoPy5yPXS7Q6s/wTfErb97rT9C/A0kOaqvP8nQyiDr57A/KRyxfoL3sT8X7+NCxwmzP8I+iARWBbQ/qTvQvHxosj8diTc1R4urP9FVoR4ue6I/SbOGRghzlz+HcRszp9CLP766YdXE7X0/InS6rstwcD+AXYQj7MZoPyYvLGz/a2U/FpXHcaROYD+35b8iKIdSP2LaRzEdNEk/1oIBvZWJUD8CjKdZOR9SP3jse94aQlA/+FqxWBjCRT+NnIQuVYYbv/vME+8L5lK/9n2IamIqYr/tjRyQnWNrvyxUWiaTuHK/qCwDAURXeL/NUlgIN8l+vxGesEur3YK/Z5nVHBhwhL88GhMSDM+Cv37d8Bo3nn+/9oaEcexneb/1Lu8EU/pyv9ToFkFxdWi/oMVX3RhyVL/k65rJjw9DP2ZFS5xgcWQ/MAQlsjtXcj+Y6lfw2qJ6P/E7siPhfIE/KqUb7EOahT9iMH+FzJWJP/1pQBBiX40/74cZxk92kD/Mop6o5h6SP4I2Woq7rJM/mGNqLBAmlT+YFKiQ7pGWPwg79eNX9Zc/3XghZPNNmT8L91Wv3oWaPzK86uWdYZs/vDgfDnqFmz/nHsF2+LeaP6q/ZRumIJk/YKnlCa8dlz9FpXGlJ/eUPwuSwuVGy5I/\",\"dtype\":\"float64\",\"shape\":[75]},\"y\":{\"__ndarray__\":\"GhExyth1ND/Sv8nbtpRIP2vylNV0PVE/aTum7souWD/At0SJ8fVgPw3Iuahxymc/MSNhhJWvcD/bTfBN02d3P2zb5nxnaoA/CD5h5MAGhz8NmeH1TyaQP+zrCsc9p5Y/LbKd76fGnz/bLW5ISEmmPww9YvTcQq8/JV2OstnstT8Er5Y7M8G+P0c+r3jqkcU/5h99k6ZBzj88bCIzFzjVP4enV8oyxN0//yH99nXg5D8qOpLLf0jtP5kqGJXUifQ/c9cS8kHP/D+/DpwzojQEQIEmwoanVwxA4lgXt9HgE0BSSZ2AJuIbQAMJih9jjiNA5q4l5INuK0AwTKYKRj0zQNv5fmq8/DpAaCJseHrtQkB/+zpwzoxKQM3MzMzMeFJAZmZmZmZqWEAAAAAAAFxeQM3MzMzMJmJAmpmZmZkfZUBmZmZmZhhoQDMzMzMzEWtAAAAAAAAKbkBmZmZmZoFwQM3MzMzM/XFAMzMzMzN6c0CamZmZmfZ0QAAAAAAAc3ZAZmZmZmbvd0DNzMzMzGt5QDMzMzMz6HpAmpmZmZlkfEAAAAAAAOF9QGZmZmZmXX9AZmZmZuZsgECamZmZGSuBQM3MzMxM6YFAAAAAAICngkAzMzMzs2WDQGZmZmbmI4RAmpmZmRnihEDNzMzMTKCFQAAAAACAXoZAMzMzM7Mch0BmZmZm5tqHQJqZmZkZmYhAzczMzExXiUAAAAAAgBWKQDMzMzOz04pAZmZmZuaRi0CamZmZGVCMQM3MzMxMDo1AAAAAAIDMjUAzMzMzs4qOQGZmZmbmSI9A\",\"dtype\":\"float64\",\"shape\":[75]}},\"selected\":{\"id\":\"ba391dce-1854-4637-a665-43be3f7a7bab\",\"type\":\"Selection\"},\"selection_policy\":{\"id\":\"135af800-ae40-49d8-b5a1-c832bf836891\",\"type\":\"UnionRenderers\"}},\"id\":\"4ff8ea33-9136-466e-b729-147edc1e4740\",\"type\":\"ColumnDataSource\"},{\"attributes\":{},\"id\":\"5902ead3-892d-4194-a9fc-c8fe2073b5a1\",\"type\":\"WheelZoomTool\"},{\"attributes\":{\"callback\":null,\"data\":{\"x\":{\"__ndarray__\":\"lK8cTHQDT78QUSv1ds3qvkC3l7lqgGA/a3cMUjyBcT8Z20BGt657P3/AhuExboM/jzNbBnSOiT/FcwPjBCKQP0MfIz3J05M/aJvY9PXMlz/be2W17COcP3K4ZCx9dKA/zdPCtq4Hoz/IPb5FGHOlPxSPGhEFaKc/4F0ahkowqT+kBRUMKwOrP/rgu1jl5qw/1dl+g0zdrj/UXWxTx3OwPxIimpPVZrE/h0Vb4AyDsD9aBM+QdMWqPyGdHK/QKKQ/OkiV1rlDnT+PdYcZOieUP7MF53W4kYk/CR5H6/OHfj/PVOQP7aFyPz9hWRAliWU/GMdTYYeTUT/ZAnPFzj8rv4ZThMv40ki/LSeEMRK4Rr+wyQnuWhZJvyTdQIPU+FK/nWtCzVIXXr+/D26ObHVnv6piyOFhtXC/Mhn4iSyTdb9VokHdXmJ6vz9v96nbNn+/lMY9yRIUgr9DC6L6YKGEv+1p+RQPDoe/piSEEdG/h79vfsv3csSFv2/I58t/e4K/i4OwxmjPfb9Sg/LAfEB2vzK0+Kc3mmy/n/w28eD2V79jLrL0KhNFP9R34j7lDmc/l2kjn6abdD9clnYS+sB9P771LaS2aoM/kYdGVTzZhz9lKNQrBx2MPzLMLL3eEpA/MoM9le/zkT/R5gPFObGTP8d5hzV/TpU/BuDtQELPlj/mTLMmbjeYP+9FJ09BjJk/iBYUn6bKmj+qoQlYjN6bP3xxQIvgmJw/ZYaKjC6xnD+AAucFyvibP/TPBtGSkZo/wXEeZSjKmD+6Wg8OgN6WP7rWBOSG7ZQ/\",\"dtype\":\"float64\",\"shape\":[75]},\"y\":{\"__ndarray__\":\"GhExyth1ND/Sv8nbtpRIP2vylNV0PVE/aTum7souWD/At0SJ8fVgPw3Iuahxymc/MSNhhJWvcD/bTfBN02d3P2zb5nxnaoA/CD5h5MAGhz8NmeH1TyaQP+zrCsc9p5Y/LbKd76fGnz/bLW5ISEmmPww9YvTcQq8/JV2OstnstT8Er5Y7M8G+P0c+r3jqkcU/5h99k6ZBzj88bCIzFzjVP4enV8oyxN0//yH99nXg5D8qOpLLf0jtP5kqGJXUifQ/c9cS8kHP/D+/DpwzojQEQIEmwoanVwxA4lgXt9HgE0BSSZ2AJuIbQAMJih9jjiNA5q4l5INuK0AwTKYKRj0zQNv5fmq8/DpAaCJseHrtQkB/+zpwzoxKQM3MzMzMeFJAZmZmZmZqWEAAAAAAAFxeQM3MzMzMJmJAmpmZmZkfZUBmZmZmZhhoQDMzMzMzEWtAAAAAAAAKbkBmZmZmZoFwQM3MzMzM/XFAMzMzMzN6c0CamZmZmfZ0QAAAAAAAc3ZAZmZmZmbvd0DNzMzMzGt5QDMzMzMz6HpAmpmZmZlkfEAAAAAAAOF9QGZmZmZmXX9AZmZmZuZsgECamZmZGSuBQM3MzMxM6YFAAAAAAICngkAzMzMzs2WDQGZmZmbmI4RAmpmZmRnihEDNzMzMTKCFQAAAAACAXoZAMzMzM7Mch0BmZmZm5tqHQJqZmZkZmYhAzczMzExXiUAAAAAAgBWKQDMzMzOz04pAZmZmZuaRi0CamZmZGVCMQM3MzMxMDo1AAAAAAIDMjUAzMzMzs4qOQGZmZmbmSI9A\",\"dtype\":\"float64\",\"shape\":[75]}},\"selected\":{\"id\":\"c7b31c4f-5f09-422b-9f83-1e8c8efd0e12\",\"type\":\"Selection\"},\"selection_policy\":{\"id\":\"851e81d7-c589-4486-b896-5588ae120717\",\"type\":\"UnionRenderers\"}},\"id\":\"c953e134-2bc9-49bc-9493-fd0e46eceb9e\",\"type\":\"ColumnDataSource\"},{\"attributes\":{},\"id\":\"55696772-d611-4c2a-8cfd-780add7e3817\",\"type\":\"LinearScale\"},{\"attributes\":{\"callback\":null,\"data\":{\"x\":{\"__ndarray__\":\"9YdZdFrTkL/jFUHJCJuOv+qNsxlC9oe/y90op/aYgL+difTZRBhxv4S8i13yWh4/fMz1aZ2Acz8Wo/RlXhCEP1rjAZ/+N48/i3ictgeglT9VEaEjTxicP0ctS3aXhKE/9hmZRf01pT9irUnTeqGoPy5yPXS7Q6s/wTfErb97rT9C/A0kOaqvP8nQyiDr57A/KRyxfoL3sT8X7+NCxwmzP8I+iARWBbQ/qTvQvHxosj8diTc1R4urP9FVoR4ue6I/SbOGRghzlz+HcRszp9CLP766YdXE7X0/InS6rstwcD+AXYQj7MZoPyYvLGz/a2U/FpXHcaROYD+35b8iKIdSP2LaRzEdNEk/1oIBvZWJUD8CjKdZOR9SP3jse94aQlA/+FqxWBjCRT+NnIQuVYYbv/vME+8L5lK/9n2IamIqYr/tjRyQnWNrvyxUWiaTuHK/qCwDAURXeL/NUlgIN8l+vxGesEur3YK/Z5nVHBhwhL88GhMSDM+Cv37d8Bo3nn+/9oaEcexneb/1Lu8EU/pyv9ToFkFxdWi/oMVX3RhyVL/k65rJjw9DP2ZFS5xgcWQ/MAQlsjtXcj+Y6lfw2qJ6P/E7siPhfIE/KqUb7EOahT9iMH+FzJWJP/1pQBBiX40/74cZxk92kD/Mop6o5h6SP4I2Woq7rJM/mGNqLBAmlT+YFKiQ7pGWPwg79eNX9Zc/3XghZPNNmT8L91Wv3oWaPzK86uWdYZs/vDgfDnqFmz/nHsF2+LeaP6q/ZRumIJk/YKnlCa8dlz9FpXGlJ/eUPwuSwuVGy5I/\",\"dtype\":\"float64\",\"shape\":[75]},\"y\":{\"__ndarray__\":\"GhExyth1ND/Sv8nbtpRIP2vylNV0PVE/aTum7souWD/At0SJ8fVgPw3Iuahxymc/MSNhhJWvcD/bTfBN02d3P2zb5nxnaoA/CD5h5MAGhz8NmeH1TyaQP+zrCsc9p5Y/LbKd76fGnz/bLW5ISEmmPww9YvTcQq8/JV2OstnstT8Er5Y7M8G+P0c+r3jqkcU/5h99k6ZBzj88bCIzFzjVP4enV8oyxN0//yH99nXg5D8qOpLLf0jtP5kqGJXUifQ/c9cS8kHP/D+/DpwzojQEQIEmwoanVwxA4lgXt9HgE0BSSZ2AJuIbQAMJih9jjiNA5q4l5INuK0AwTKYKRj0zQNv5fmq8/DpAaCJseHrtQkB/+zpwzoxKQM3MzMzMeFJAZmZmZmZqWEAAAAAAAFxeQM3MzMzMJmJAmpmZmZkfZUBmZmZmZhhoQDMzMzMzEWtAAAAAAAAKbkBmZmZmZoFwQM3MzMzM/XFAMzMzMzN6c0CamZmZmfZ0QAAAAAAAc3ZAZmZmZmbvd0DNzMzMzGt5QDMzMzMz6HpAmpmZmZlkfEAAAAAAAOF9QGZmZmZmXX9AZmZmZuZsgECamZmZGSuBQM3MzMxM6YFAAAAAAICngkAzMzMzs2WDQGZmZmbmI4RAmpmZmRnihEDNzMzMTKCFQAAAAACAXoZAMzMzM7Mch0BmZmZm5tqHQJqZmZkZmYhAzczMzExXiUAAAAAAgBWKQDMzMzOz04pAZmZmZuaRi0CamZmZGVCMQM3MzMxMDo1AAAAAAIDMjUAzMzMzs4qOQGZmZmbmSI9A\",\"dtype\":\"float64\",\"shape\":[75]}},\"selected\":{\"id\":\"ac1acabc-fe1d-48c4-9615-43c3e03efae2\",\"type\":\"Selection\"},\"selection_policy\":{\"id\":\"784f624b-91d2-4a5a-a344-456f1ef95537\",\"type\":\"UnionRenderers\"}},\"id\":\"480d98fb-47ab-413e-9299-a79b126ece59\",\"type\":\"ColumnDataSource\"},{\"attributes\":{\"bottom_units\":\"screen\",\"fill_alpha\":{\"value\":0.5},\"fill_color\":{\"value\":\"lightgrey\"},\"left_units\":\"screen\",\"level\":\"overlay\",\"line_alpha\":{\"value\":1.0},\"line_color\":{\"value\":\"black\"},\"line_dash\":[4,4],\"line_width\":{\"value\":2},\"plot\":null,\"render_mode\":\"css\",\"right_units\":\"screen\",\"top_units\":\"screen\"},\"id\":\"afb9bdc8-cba4-4d44-abd2-4c609ffb415c\",\"type\":\"BoxAnnotation\"},{\"attributes\":{},\"id\":\"1f28bb7c-0628-4e55-9d59-e51d79d0fc14\",\"type\":\"BasicTicker\"},{\"attributes\":{\"callback\":null,\"end\":0.028444101920200002,\"start\":-0.0119927699402},\"id\":\"c666a9ea-2d5c-440b-90a9-4c8c6a959e4b\",\"type\":\"Range1d\"},{\"attributes\":{\"fill_alpha\":{\"value\":0.1},\"fill_color\":{\"value\":\"#1f77b4\"},\"line_alpha\":{\"value\":0.1},\"line_color\":{\"value\":\"#1f77b4\"},\"x\":{\"field\":\"x\"},\"y\":{\"field\":\"y\"}},\"id\":\"a719bc71-77a5-4a18-865c-5da82ef6e4e5\",\"type\":\"Circle\"},{\"attributes\":{\"children\":[{\"id\":\"ccc99f77-0654-4b53-bbb2-1a980c4dd695\",\"subtype\":\"Figure\",\"type\":\"Plot\"},{\"id\":\"b43697ff-3cbd-4006-be04-c5162e25da40\",\"subtype\":\"Figure\",\"type\":\"Plot\"}]},\"id\":\"7b0b884a-1cb1-4799-8fde-5ac5ab5237cb\",\"type\":\"Row\"},{\"attributes\":{\"axis_label\":\"cooling rate [K/day]\",\"formatter\":{\"id\":\"013b1d9f-b352-487e-a871-5824e30f5a70\",\"type\":\"BasicTickFormatter\"},\"plot\":{\"id\":\"ccc99f77-0654-4b53-bbb2-1a980c4dd695\",\"subtype\":\"Figure\",\"type\":\"Plot\"},\"ticker\":{\"id\":\"a17ced42-7b3c-4ae3-a978-b2f8e1903f4e\",\"type\":\"BasicTicker\"}},\"id\":\"5c249570-f265-4bc0-b047-70e291bf9397\",\"type\":\"LinearAxis\"},{\"attributes\":{},\"id\":\"a17ced42-7b3c-4ae3-a978-b2f8e1903f4e\",\"type\":\"BasicTicker\"},{\"attributes\":{\"plot\":{\"id\":\"ccc99f77-0654-4b53-bbb2-1a980c4dd695\",\"subtype\":\"Figure\",\"type\":\"Plot\"},\"ticker\":{\"id\":\"a17ced42-7b3c-4ae3-a978-b2f8e1903f4e\",\"type\":\"BasicTicker\"}},\"id\":\"af305b05-e23f-4725-87f7-df4071fb7a77\",\"type\":\"Grid\"},{\"attributes\":{},\"id\":\"a580e021-e41a-4cd5-8cd9-083f5715d672\",\"type\":\"HelpTool\"},{\"attributes\":{\"fill_alpha\":{\"value\":0.1},\"fill_color\":{\"value\":\"#1f77b4\"},\"line_alpha\":{\"value\":0.1},\"line_color\":{\"value\":\"#1f77b4\"},\"x\":{\"field\":\"x\"},\"y\":{\"field\":\"y\"}},\"id\":\"c7110a1f-6265-4517-837d-7831d77b27d1\",\"type\":\"Square\"},{\"attributes\":{\"line_alpha\":0.1,\"line_color\":\"#1f77b4\",\"line_width\":1.5,\"x\":{\"field\":\"x\"},\"y\":{\"field\":\"y\"}},\"id\":\"dbc7a161-c787-41c5-9203-d6c29035d085\",\"type\":\"Line\"},{\"attributes\":{\"source\":{\"id\":\"d7cee3ae-71b8-4944-9b4f-57376a46c5b2\",\"type\":\"ColumnDataSource\"}},\"id\":\"7b7b77cf-4341-4cf4-b0c5-aaafd798ee9b\",\"type\":\"CDSView\"},{\"attributes\":{\"fill_alpha\":{\"value\":0.7},\"fill_color\":{\"value\":\"#984ea3\"},\"line_alpha\":{\"value\":0.7},\"line_color\":{\"value\":\"#984ea3\"},\"x\":{\"field\":\"x\"},\"y\":{\"field\":\"y\"}},\"id\":\"e40d4c28-29be-4cf0-bf38-72fdbf6a454b\",\"type\":\"Square\"},{\"attributes\":{\"callback\":null,\"data\":{\"x\":{\"__ndarray__\":\"lK8cTHQDT78QUSv1ds3qvkC3l7lqgGA/a3cMUjyBcT8Z20BGt657P3/AhuExboM/jzNbBnSOiT/FcwPjBCKQP0MfIz3J05M/aJvY9PXMlz/be2W17COcP3K4ZCx9dKA/zdPCtq4Hoz/IPb5FGHOlPxSPGhEFaKc/4F0ahkowqT+kBRUMKwOrP/rgu1jl5qw/1dl+g0zdrj/UXWxTx3OwPxIimpPVZrE/h0Vb4AyDsD9aBM+QdMWqPyGdHK/QKKQ/OkiV1rlDnT+PdYcZOieUP7MF53W4kYk/CR5H6/OHfj/PVOQP7aFyPz9hWRAliWU/GMdTYYeTUT/ZAnPFzj8rv4ZThMv40ki/LSeEMRK4Rr+wyQnuWhZJvyTdQIPU+FK/nWtCzVIXXr+/D26ObHVnv6piyOFhtXC/Mhn4iSyTdb9VokHdXmJ6vz9v96nbNn+/lMY9yRIUgr9DC6L6YKGEv+1p+RQPDoe/piSEEdG/h79vfsv3csSFv2/I58t/e4K/i4OwxmjPfb9Sg/LAfEB2vzK0+Kc3mmy/n/w28eD2V79jLrL0KhNFP9R34j7lDmc/l2kjn6abdD9clnYS+sB9P771LaS2aoM/kYdGVTzZhz9lKNQrBx2MPzLMLL3eEpA/MoM9le/zkT/R5gPFObGTP8d5hzV/TpU/BuDtQELPlj/mTLMmbjeYP+9FJ09BjJk/iBYUn6bKmj+qoQlYjN6bP3xxQIvgmJw/ZYaKjC6xnD+AAucFyvibP/TPBtGSkZo/wXEeZSjKmD+6Wg8OgN6WP7rWBOSG7ZQ/\",\"dtype\":\"float64\",\"shape\":[75]},\"y\":{\"__ndarray__\":\"GhExyth1ND/Sv8nbtpRIP2vylNV0PVE/aTum7souWD/At0SJ8fVgPw3Iuahxymc/MSNhhJWvcD/bTfBN02d3P2zb5nxnaoA/CD5h5MAGhz8NmeH1TyaQP+zrCsc9p5Y/LbKd76fGnz/bLW5ISEmmPww9YvTcQq8/JV2OstnstT8Er5Y7M8G+P0c+r3jqkcU/5h99k6ZBzj88bCIzFzjVP4enV8oyxN0//yH99nXg5D8qOpLLf0jtP5kqGJXUifQ/c9cS8kHP/D+/DpwzojQEQIEmwoanVwxA4lgXt9HgE0BSSZ2AJuIbQAMJih9jjiNA5q4l5INuK0AwTKYKRj0zQNv5fmq8/DpAaCJseHrtQkB/+zpwzoxKQM3MzMzMeFJAZmZmZmZqWEAAAAAAAFxeQM3MzMzMJmJAmpmZmZkfZUBmZmZmZhhoQDMzMzMzEWtAAAAAAAAKbkBmZmZmZoFwQM3MzMzM/XFAMzMzMzN6c0CamZmZmfZ0QAAAAAAAc3ZAZmZmZmbvd0DNzMzMzGt5QDMzMzMz6HpAmpmZmZlkfEAAAAAAAOF9QGZmZmZmXX9AZmZmZuZsgECamZmZGSuBQM3MzMxM6YFAAAAAAICngkAzMzMzs2WDQGZmZmbmI4RAmpmZmRnihEDNzMzMTKCFQAAAAACAXoZAMzMzM7Mch0BmZmZm5tqHQJqZmZkZmYhAzczMzExXiUAAAAAAgBWKQDMzMzOz04pAZmZmZuaRi0CamZmZGVCMQM3MzMxMDo1AAAAAAIDMjUAzMzMzs4qOQGZmZmbmSI9A\",\"dtype\":\"float64\",\"shape\":[75]}},\"selected\":{\"id\":\"8e51bc07-303a-41f7-874e-94e8a23d3915\",\"type\":\"Selection\"},\"selection_policy\":{\"id\":\"0b991985-422f-485c-b8b8-6f3d8877356a\",\"type\":\"UnionRenderers\"}},\"id\":\"d7cee3ae-71b8-4944-9b4f-57376a46c5b2\",\"type\":\"ColumnDataSource\"},{\"attributes\":{\"data_source\":{\"id\":\"d7cee3ae-71b8-4944-9b4f-57376a46c5b2\",\"type\":\"ColumnDataSource\"},\"glyph\":{\"id\":\"e40d4c28-29be-4cf0-bf38-72fdbf6a454b\",\"type\":\"Square\"},\"hover_glyph\":null,\"muted_glyph\":null,\"nonselection_glyph\":{\"id\":\"c7110a1f-6265-4517-837d-7831d77b27d1\",\"type\":\"Square\"},\"selection_glyph\":null,\"view\":{\"id\":\"7b7b77cf-4341-4cf4-b0c5-aaafd798ee9b\",\"type\":\"CDSView\"}},\"id\":\"3217792f-be64-4cd9-a277-35c0a879cc99\",\"type\":\"GlyphRenderer\"},{\"attributes\":{\"below\":[{\"id\":\"ea7628e7-459b-48b8-827b-e4c288e4ebb7\",\"type\":\"LinearAxis\"}],\"left\":[{\"id\":\"40fe0db7-d885-4a34-b341-f109d0b03a22\",\"type\":\"LogAxis\"}],\"plot_height\":500,\"plot_width\":560,\"renderers\":[{\"id\":\"ea7628e7-459b-48b8-827b-e4c288e4ebb7\",\"type\":\"LinearAxis\"},{\"id\":\"24878b56-e024-4152-86d2-6948258f655f\",\"type\":\"Grid\"},{\"id\":\"40fe0db7-d885-4a34-b341-f109d0b03a22\",\"type\":\"LogAxis\"},{\"id\":\"6ebaa350-99c5-4d4c-b076-e7b9d2d07799\",\"type\":\"Grid\"},{\"id\":\"2ff8943c-d301-4ffc-aa79-c94c3ee81a64\",\"type\":\"BoxAnnotation\"},{\"id\":\"58e31913-b6bf-431c-8bab-18820deb2a47\",\"type\":\"GlyphRenderer\"},{\"id\":\"aae3a676-988a-44c9-aae8-901b9adae6a0\",\"type\":\"GlyphRenderer\"},{\"id\":\"0612a6f2-5669-4107-840a-deb003dce436\",\"type\":\"GlyphRenderer\"},{\"id\":\"b97c6eaf-358f-44d4-93d8-be90a8b272a1\",\"type\":\"GlyphRenderer\"},{\"id\":\"0a4dfb8a-485d-4362-87fc-111c57243c6c\",\"type\":\"GlyphRenderer\"},{\"id\":\"c475c550-80c2-4bcc-a3a4-7174ce900471\",\"type\":\"Legend\"}],\"right\":[{\"id\":\"c475c550-80c2-4bcc-a3a4-7174ce900471\",\"type\":\"Legend\"}],\"title\":{\"id\":\"0df2d658-8d77-4446-8b88-409dd19f205a\",\"type\":\"Title\"},\"toolbar\":{\"id\":\"3dd078eb-b10c-49c6-8207-cf78f89bd349\",\"type\":\"Toolbar\"},\"toolbar_location\":null,\"x_range\":{\"id\":\"16d6ed2b-0898-4635-85e9-a9395fa3a90e\",\"type\":\"Range1d\"},\"x_scale\":{\"id\":\"f48895f7-f4c6-4fa4-b3c8-b482c9500418\",\"type\":\"LinearScale\"},\"y_range\":{\"id\":\"08c26d87-ede8-4b57-8257-6d51cd28191c\",\"type\":\"Range1d\"},\"y_scale\":{\"id\":\"a530d396-0935-4d99-8579-53b3123e4f22\",\"type\":\"LogScale\"}},\"id\":\"b43697ff-3cbd-4006-be04-c5162e25da40\",\"subtype\":\"Figure\",\"type\":\"Plot\"},{\"attributes\":{},\"id\":\"37794a17-4e63-41e5-91f2-c03508a7151f\",\"type\":\"LinearScale\"},{\"attributes\":{\"source\":{\"id\":\"4ff8ea33-9136-466e-b729-147edc1e4740\",\"type\":\"ColumnDataSource\"}},\"id\":\"90ee0f77-e528-41c2-a365-4547cc9319e1\",\"type\":\"CDSView\"},{\"attributes\":{},\"id\":\"db17dcf7-0674-4993-a6eb-f58c8663ff5f\",\"type\":\"SaveTool\"},{\"attributes\":{\"plot\":null,\"text\":\"Linear pressure scale\"},\"id\":\"1eb5830d-86b8-45e5-9eab-96d21222a8a5\",\"type\":\"Title\"},{\"attributes\":{\"line_alpha\":0.6,\"line_color\":\"#e41a1c\",\"line_dash\":[6],\"line_width\":5,\"x\":{\"field\":\"x\"},\"y\":{\"field\":\"y\"}},\"id\":\"d0636545-2187-4b19-93ab-70246b07fa3e\",\"type\":\"Line\"},{\"attributes\":{\"callback\":null,\"data\":{\"x\":{\"__ndarray__\":\"yOQWNCLRWj80Te/RiEFjP96xM+CH3nE/k/m+NmZLej+TPZ6rKMSBP4u1CUFY14Y/RCazVsFjjD8gcSp6KTqRPwNaq1dAipQ/NzipGWYpmD/JgLRLkBucPwS8Fj5sM6A/wuToH7SGoj/K5eEy3r6kP9CdI5xdkaY/Fd3OTJ04qD9rd+cHsPOpP8AG0jJDxKs/XmdIt1OqrT91/3mW96OvPwYzv/0tv7A/Yr+e5Ev+rz8YUixUil+qPxkua5VyVKQ/0cuxh7lOnj87MeFT3XyVPzJWEg76KIw/sUZTu/NEgT/IbLGgTsd0P5Xv2bZIU2Y/2Sydl8dlSz9A6jLDCypEv3RrumPP7FO/VVew17ytUr9zUfkLwHVTv5GlB+wHyFm/bCS76YWoYr/E16XuVEVrvx3280xFqHK/5adP81CCd7+K5zMyHTl8v0BsLl2WbYC/sBxqIk+1gr/Z/mgUn/aEvxAZXmKP/Ya//OGlozVph7/P4nZ8PHOFv7+KvP4+SYK/NRFeBIuYfb/n3/otyyl2v7nzDdyrlWy/9aCaNs4rWL9e2l+E9nlEP1MUsmpF2GY/crSpSRdzdD+rKX7R+419P1+2XeS+ToM/22gcxLC+hz8s8l3dwAOMP/dC9LC/CJA/LLZJRWPtkT/FJ8BXRLKTP+nfW3z9VZU/wNbDnELclj+W7Gaz20iYP2smqnqjnZk/smns5VPUmj9ZHHr93N+bP+z6w56PlZw/aLkTvIa4nD/lgsGiEyOcP3Z4nUek8Zo/HONx7gJnmT/qXoKu2LqXP7eRaW8bBpY/\",\"dtype\":\"float64\",\"shape\":[75]},\"y\":{\"__ndarray__\":\"S/O/Q+51ND/Sv8nbtpRIP2vylNV0PVE/aTum7souWD/At0SJ8fVgPw3Iuahxymc/MSNhhJWvcD/bTfBN02d3P2zb5nxnaoA/CD5h5MAGhz8NmeH1TyaQP+zrCsc9p5Y/LbKd76fGnz/bLW5ISEmmPww9YvTcQq8/JV2OstnstT8Er5Y7M8G+P0c+r3jqkcU/5h99k6ZBzj88bCIzFzjVP4enV8oyxN0//yH99nXg5D8qOpLLf0jtP5kqGJXUifQ/c9cS8kHP/D+/DpwzojQEQIEmwoanVwxA4lgXt9HgE0BSSZ2AJuIbQAMJih9jjiNA5q4l5INuK0AwTKYKRj0zQNv5fmq8/DpAaCJseHrtQkB/+zpwzoxKQM3MzMzMeFJAZmZmZmZqWEAAAAAAAFxeQM3MzMzMJmJAmpmZmZkfZUBmZmZmZhhoQDMzMzMzEWtAAAAAAAAKbkBmZmZmZoFwQM3MzMzM/XFAMzMzMzN6c0CamZmZmfZ0QAAAAAAAc3ZAZmZmZmbvd0DNzMzMzGt5QDMzMzMz6HpAmpmZmZlkfEAAAAAAAOF9QGZmZmZmXX9AZmZmZuZsgECamZmZGSuBQM3MzMxM6YFAAAAAAICngkAzMzMzs2WDQGZmZmbmI4RAmpmZmRnihEDNzMzMTKCFQAAAAACAXoZAMzMzM7Mch0BmZmZm5tqHQJqZmZkZmYhAzczMzExXiUAAAAAAgBWKQDMzMzOz04pAZmZmZuaRi0CamZmZGVCMQM3MzMxMDo1AAAAAAIDMjUAzMzMzs4qOQGZmZmbmSI9A\",\"dtype\":\"float64\",\"shape\":[75]}},\"selected\":{\"id\":\"4b5e8b5f-07fa-4238-98d8-c152da147ef1\",\"type\":\"Selection\"},\"selection_policy\":{\"id\":\"69956dfd-b5db-4c3e-8513-f889133e59f9\",\"type\":\"UnionRenderers\"}},\"id\":\"86e177b7-6c71-4a56-844e-e1d29be9d6dc\",\"type\":\"ColumnDataSource\"},{\"attributes\":{\"source\":{\"id\":\"480d98fb-47ab-413e-9299-a79b126ece59\",\"type\":\"ColumnDataSource\"}},\"id\":\"3b4f8735-3938-4b48-8773-3cc66cda40c3\",\"type\":\"CDSView\"},{\"attributes\":{\"callback\":null,\"end\":0.01,\"start\":1020},\"id\":\"08c26d87-ede8-4b57-8257-6d51cd28191c\",\"type\":\"Range1d\"},{\"attributes\":{\"below\":[{\"id\":\"5c249570-f265-4bc0-b047-70e291bf9397\",\"type\":\"LinearAxis\"}],\"left\":[{\"id\":\"91c9d03b-3a22-4752-96eb-f0dd83202622\",\"type\":\"LinearAxis\"}],\"plot_height\":500,\"plot_width\":400,\"renderers\":[{\"id\":\"5c249570-f265-4bc0-b047-70e291bf9397\",\"type\":\"LinearAxis\"},{\"id\":\"af305b05-e23f-4725-87f7-df4071fb7a77\",\"type\":\"Grid\"},{\"id\":\"91c9d03b-3a22-4752-96eb-f0dd83202622\",\"type\":\"LinearAxis\"},{\"id\":\"ab839777-5e39-41d6-9c0f-a0db60f4f1e5\",\"type\":\"Grid\"},{\"id\":\"afb9bdc8-cba4-4d44-abd2-4c609ffb415c\",\"type\":\"BoxAnnotation\"},{\"id\":\"fdd8ad7d-1a9d-477d-ada7-43c3f88d6215\",\"type\":\"GlyphRenderer\"},{\"id\":\"04136315-636e-42ce-ba6f-ddb01bfba8b3\",\"type\":\"GlyphRenderer\"},{\"id\":\"78635fae-a5ff-4d76-a163-9b5b35843b81\",\"type\":\"GlyphRenderer\"},{\"id\":\"3217792f-be64-4cd9-a277-35c0a879cc99\",\"type\":\"GlyphRenderer\"},{\"id\":\"9816a112-e349-42a1-a2e7-7b9393c858c4\",\"type\":\"GlyphRenderer\"}],\"title\":{\"id\":\"1eb5830d-86b8-45e5-9eab-96d21222a8a5\",\"type\":\"Title\"},\"toolbar\":{\"id\":\"58f0f4b7-7094-45fc-8cd9-ae28a47b2552\",\"type\":\"Toolbar\"},\"toolbar_location\":null,\"x_range\":{\"id\":\"c666a9ea-2d5c-440b-90a9-4c8c6a959e4b\",\"type\":\"Range1d\"},\"x_scale\":{\"id\":\"55696772-d611-4c2a-8cfd-780add7e3817\",\"type\":\"LinearScale\"},\"y_range\":{\"id\":\"2caed391-1fc2-4d16-85c1-261f9b8a7a5e\",\"type\":\"Range1d\"},\"y_scale\":{\"id\":\"37794a17-4e63-41e5-91f2-c03508a7151f\",\"type\":\"LinearScale\"}},\"id\":\"ccc99f77-0654-4b53-bbb2-1a980c4dd695\",\"subtype\":\"Figure\",\"type\":\"Plot\"},{\"attributes\":{\"data_source\":{\"id\":\"4ff8ea33-9136-466e-b729-147edc1e4740\",\"type\":\"ColumnDataSource\"},\"glyph\":{\"id\":\"c0332f09-2712-447a-a2f7-8bc73a36d875\",\"type\":\"Circle\"},\"hover_glyph\":null,\"muted_glyph\":null,\"nonselection_glyph\":{\"id\":\"a719bc71-77a5-4a18-865c-5da82ef6e4e5\",\"type\":\"Circle\"},\"selection_glyph\":null,\"view\":{\"id\":\"90ee0f77-e528-41c2-a365-4547cc9319e1\",\"type\":\"CDSView\"}},\"id\":\"04136315-636e-42ce-ba6f-ddb01bfba8b3\",\"type\":\"GlyphRenderer\"},{\"attributes\":{\"callback\":null,\"data\":{\"x\":{\"__ndarray__\":\"yOQWNCLRWj80Te/RiEFjP96xM+CH3nE/k/m+NmZLej+TPZ6rKMSBP4u1CUFY14Y/RCazVsFjjD8gcSp6KTqRPwNaq1dAipQ/NzipGWYpmD/JgLRLkBucPwS8Fj5sM6A/wuToH7SGoj/K5eEy3r6kP9CdI5xdkaY/Fd3OTJ04qD9rd+cHsPOpP8AG0jJDxKs/XmdIt1OqrT91/3mW96OvPwYzv/0tv7A/Yr+e5Ev+rz8YUixUil+qPxkua5VyVKQ/0cuxh7lOnj87MeFT3XyVPzJWEg76KIw/sUZTu/NEgT/IbLGgTsd0P5Xv2bZIU2Y/2Sydl8dlSz9A6jLDCypEv3RrumPP7FO/VVew17ytUr9zUfkLwHVTv5GlB+wHyFm/bCS76YWoYr/E16XuVEVrvx3280xFqHK/5adP81CCd7+K5zMyHTl8v0BsLl2WbYC/sBxqIk+1gr/Z/mgUn/aEvxAZXmKP/Ya//OGlozVph7/P4nZ8PHOFv7+KvP4+SYK/NRFeBIuYfb/n3/otyyl2v7nzDdyrlWy/9aCaNs4rWL9e2l+E9nlEP1MUsmpF2GY/crSpSRdzdD+rKX7R+419P1+2XeS+ToM/22gcxLC+hz8s8l3dwAOMP/dC9LC/CJA/LLZJRWPtkT/FJ8BXRLKTP+nfW3z9VZU/wNbDnELclj+W7Gaz20iYP2smqnqjnZk/smns5VPUmj9ZHHr93N+bP+z6w56PlZw/aLkTvIa4nD/lgsGiEyOcP3Z4nUek8Zo/HONx7gJnmT/qXoKu2LqXP7eRaW8bBpY/\",\"dtype\":\"float64\",\"shape\":[75]},\"y\":{\"__ndarray__\":\"S/O/Q+51ND/Sv8nbtpRIP2vylNV0PVE/aTum7souWD/At0SJ8fVgPw3Iuahxymc/MSNhhJWvcD/bTfBN02d3P2zb5nxnaoA/CD5h5MAGhz8NmeH1TyaQP+zrCsc9p5Y/LbKd76fGnz/bLW5ISEmmPww9YvTcQq8/JV2OstnstT8Er5Y7M8G+P0c+r3jqkcU/5h99k6ZBzj88bCIzFzjVP4enV8oyxN0//yH99nXg5D8qOpLLf0jtP5kqGJXUifQ/c9cS8kHP/D+/DpwzojQEQIEmwoanVwxA4lgXt9HgE0BSSZ2AJuIbQAMJih9jjiNA5q4l5INuK0AwTKYKRj0zQNv5fmq8/DpAaCJseHrtQkB/+zpwzoxKQM3MzMzMeFJAZmZmZmZqWEAAAAAAAFxeQM3MzMzMJmJAmpmZmZkfZUBmZmZmZhhoQDMzMzMzEWtAAAAAAAAKbkBmZmZmZoFwQM3MzMzM/XFAMzMzMzN6c0CamZmZmfZ0QAAAAAAAc3ZAZmZmZmbvd0DNzMzMzGt5QDMzMzMz6HpAmpmZmZlkfEAAAAAAAOF9QGZmZmZmXX9AZmZmZuZsgECamZmZGSuBQM3MzMxM6YFAAAAAAICngkAzMzMzs2WDQGZmZmbmI4RAmpmZmRnihEDNzMzMTKCFQAAAAACAXoZAMzMzM7Mch0BmZmZm5tqHQJqZmZkZmYhAzczMzExXiUAAAAAAgBWKQDMzMzOz04pAZmZmZuaRi0CamZmZGVCMQM3MzMxMDo1AAAAAAIDMjUAzMzMzs4qOQGZmZmbmSI9A\",\"dtype\":\"float64\",\"shape\":[75]}},\"selected\":{\"id\":\"aa607247-2435-44d7-a2ba-1e3e916d7e83\",\"type\":\"Selection\"},\"selection_policy\":{\"id\":\"04d1f3d2-d021-4f52-a494-1bd95b9803c1\",\"type\":\"UnionRenderers\"}},\"id\":\"29ba3389-bf2c-48db-ad2a-fbc86980dcdb\",\"type\":\"ColumnDataSource\"},{\"attributes\":{},\"id\":\"79fc92a2-ae15-42c2-b938-b135f22c61b1\",\"type\":\"ResetTool\"},{\"attributes\":{\"line_color\":\"#4daf4a\",\"line_width\":1.5,\"x\":{\"field\":\"x\"},\"y\":{\"field\":\"y\"}},\"id\":\"2f63f3c0-cd2a-45c0-96e6-95916c17ab71\",\"type\":\"Line\"},{\"attributes\":{\"data_source\":{\"id\":\"480d98fb-47ab-413e-9299-a79b126ece59\",\"type\":\"ColumnDataSource\"},\"glyph\":{\"id\":\"2f63f3c0-cd2a-45c0-96e6-95916c17ab71\",\"type\":\"Line\"},\"hover_glyph\":null,\"muted_glyph\":null,\"nonselection_glyph\":{\"id\":\"dbc7a161-c787-41c5-9203-d6c29035d085\",\"type\":\"Line\"},\"selection_glyph\":null,\"view\":{\"id\":\"3b4f8735-3938-4b48-8773-3cc66cda40c3\",\"type\":\"CDSView\"}},\"id\":\"78635fae-a5ff-4d76-a163-9b5b35843b81\",\"type\":\"GlyphRenderer\"},{\"attributes\":{\"line_alpha\":0.6,\"line_color\":\"#984ea3\",\"line_width\":3,\"x\":{\"field\":\"x\"},\"y\":{\"field\":\"y\"}},\"id\":\"f97a716c-e66a-4e70-a3b8-0db52085ca93\",\"type\":\"Line\"},{\"attributes\":{\"fill_alpha\":{\"value\":0.7},\"fill_color\":{\"value\":\"#4daf4a\"},\"line_alpha\":{\"value\":0.7},\"line_color\":{\"value\":\"#4daf4a\"},\"x\":{\"field\":\"x\"},\"y\":{\"field\":\"y\"}},\"id\":\"c0332f09-2712-447a-a2f7-8bc73a36d875\",\"type\":\"Circle\"}],\"root_ids\":[\"4b66a1a2-ba45-4c9a-8fb1-e5cab2b2f02b\"]},\"title\":\"Bokeh Application\",\"version\":\"0.12.16\"}};\n",
       "  var render_items = [{\"docid\":\"a9344217-4d6d-424a-aa0c-3cda68190b4b\",\"elementid\":\"dfc82783-04f7-4c16-8907-7058b076f336\",\"modelid\":\"4b66a1a2-ba45-4c9a-8fb1-e5cab2b2f02b\"}];\n",
       "  root.Bokeh.embed.embed_items_notebook(docs_json, render_items);\n",
       "\n",
       "  }\n",
       "  if (root.Bokeh !== undefined) {\n",
       "    embed_document(root);\n",
       "  } else {\n",
       "    var attempts = 0;\n",
       "    var timer = setInterval(function(root) {\n",
       "      if (root.Bokeh !== undefined) {\n",
       "        embed_document(root);\n",
       "        clearInterval(timer);\n",
       "      }\n",
       "      attempts++;\n",
       "      if (attempts > 100) {\n",
       "        console.log(\"Bokeh: ERROR: Unable to run BokehJS code because BokehJS library is missing\")\n",
       "        clearInterval(timer);\n",
       "      }\n",
       "    }, 10, root)\n",
       "  }\n",
       "})(window);"
      ],
      "application/vnd.bokehjs_exec.v0+json": ""
     },
     "metadata": {
      "application/vnd.bokehjs_exec.v0+json": {
       "id": "4b66a1a2-ba45-4c9a-8fb1-e5cab2b2f02b"
      }
     },
     "output_type": "display_data"
    },
    {
     "name": "stdout",
     "output_type": "stream",
     "text": [
      "FIGURE. Cooling rate profiles.\n"
     ]
    },
    {
     "data": {
      "text/html": [
       "<a id=\"Flux_Comparison\"></a>"
      ],
      "text/plain": [
       "<IPython.core.display.HTML object>"
      ]
     },
     "metadata": {},
     "output_type": "display_data"
    },
    {
     "data": {
      "text/markdown": [
       "# Flux Comparison"
      ],
      "text/plain": [
       "<IPython.core.display.Markdown object>"
      ]
     },
     "metadata": {},
     "output_type": "display_data"
    },
    {
     "data": {
      "text/html": [
       "<div>\n",
       "<style scoped>\n",
       "    .dataframe tbody tr th:only-of-type {\n",
       "        vertical-align: middle;\n",
       "    }\n",
       "\n",
       "    .dataframe tbody tr th {\n",
       "        vertical-align: top;\n",
       "    }\n",
       "\n",
       "    .dataframe thead th {\n",
       "        text-align: right;\n",
       "    }\n",
       "</style>\n",
       "<table border=\"1\" class=\"dataframe\">\n",
       "  <thead>\n",
       "    <tr style=\"text-align: right;\">\n",
       "      <th></th>\n",
       "      <th></th>\n",
       "      <th>flug</th>\n",
       "      <th>fldg</th>\n",
       "      <th>fnetg</th>\n",
       "    </tr>\n",
       "    <tr>\n",
       "      <th>pressure</th>\n",
       "      <th>level</th>\n",
       "      <th></th>\n",
       "      <th></th>\n",
       "      <th></th>\n",
       "    </tr>\n",
       "  </thead>\n",
       "  <tbody>\n",
       "    <tr>\n",
       "      <th>0.0000</th>\n",
       "      <th>1</th>\n",
       "      <td>-8.678711</td>\n",
       "      <td>0.000000</td>\n",
       "      <td>-8.678711</td>\n",
       "    </tr>\n",
       "    <tr>\n",
       "      <th>1.0685</th>\n",
       "      <th>24</th>\n",
       "      <td>-8.676110</td>\n",
       "      <td>0.005556</td>\n",
       "      <td>-8.670554</td>\n",
       "    </tr>\n",
       "    <tr>\n",
       "      <th>1013.0000</th>\n",
       "      <th>76</th>\n",
       "      <td>-9.558030</td>\n",
       "      <td>1.806541</td>\n",
       "      <td>-7.751490</td>\n",
       "    </tr>\n",
       "  </tbody>\n",
       "</table>\n",
       "</div>"
      ],
      "text/plain": [
       "                     flug      fldg     fnetg\n",
       "pressure  level                              \n",
       "0.0000    1     -8.678711  0.000000 -8.678711\n",
       "1.0685    24    -8.676110  0.005556 -8.670554\n",
       "1013.0000 76    -9.558030  1.806541 -7.751490"
      ]
     },
     "metadata": {},
     "output_type": "display_data"
    },
    {
     "name": "stdout",
     "output_type": "stream",
     "text": [
      "Table. Fluxes. CRD\n"
     ]
    },
    {
     "data": {
      "text/html": [
       "<div>\n",
       "<style scoped>\n",
       "    .dataframe tbody tr th:only-of-type {\n",
       "        vertical-align: middle;\n",
       "    }\n",
       "\n",
       "    .dataframe tbody tr th {\n",
       "        vertical-align: top;\n",
       "    }\n",
       "\n",
       "    .dataframe thead th {\n",
       "        text-align: right;\n",
       "    }\n",
       "</style>\n",
       "<table border=\"1\" class=\"dataframe\">\n",
       "  <thead>\n",
       "    <tr style=\"text-align: right;\">\n",
       "      <th></th>\n",
       "      <th></th>\n",
       "      <th>flug</th>\n",
       "      <th>fldg</th>\n",
       "      <th>fnetg</th>\n",
       "    </tr>\n",
       "    <tr>\n",
       "      <th>pressure</th>\n",
       "      <th>level</th>\n",
       "      <th></th>\n",
       "      <th></th>\n",
       "      <th></th>\n",
       "    </tr>\n",
       "  </thead>\n",
       "  <tbody>\n",
       "    <tr>\n",
       "      <th>0.0000</th>\n",
       "      <th>1</th>\n",
       "      <td>-8.590723</td>\n",
       "      <td>0.000000</td>\n",
       "      <td>-8.590723</td>\n",
       "    </tr>\n",
       "    <tr>\n",
       "      <th>1.0685</th>\n",
       "      <th>24</th>\n",
       "      <td>-8.587944</td>\n",
       "      <td>0.004555</td>\n",
       "      <td>-8.583390</td>\n",
       "    </tr>\n",
       "    <tr>\n",
       "      <th>1013.0000</th>\n",
       "      <th>76</th>\n",
       "      <td>-9.558030</td>\n",
       "      <td>1.873015</td>\n",
       "      <td>-7.685015</td>\n",
       "    </tr>\n",
       "  </tbody>\n",
       "</table>\n",
       "</div>"
      ],
      "text/plain": [
       "                     flug      fldg     fnetg\n",
       "pressure  level                              \n",
       "0.0000    1     -8.590723  0.000000 -8.590723\n",
       "1.0685    24    -8.587944  0.004555 -8.583390\n",
       "1013.0000 76    -9.558030  1.873015 -7.685015"
      ]
     },
     "metadata": {},
     "output_type": "display_data"
    },
    {
     "name": "stdout",
     "output_type": "stream",
     "text": [
      "Table. Fluxes. WGT igg=10 wgt_flux=1\n"
     ]
    },
    {
     "data": {
      "text/html": [
       "<div>\n",
       "<style scoped>\n",
       "    .dataframe tbody tr th:only-of-type {\n",
       "        vertical-align: middle;\n",
       "    }\n",
       "\n",
       "    .dataframe tbody tr th {\n",
       "        vertical-align: top;\n",
       "    }\n",
       "\n",
       "    .dataframe thead th {\n",
       "        text-align: right;\n",
       "    }\n",
       "</style>\n",
       "<table border=\"1\" class=\"dataframe\">\n",
       "  <thead>\n",
       "    <tr style=\"text-align: right;\">\n",
       "      <th></th>\n",
       "      <th></th>\n",
       "      <th>flug</th>\n",
       "      <th>fldg</th>\n",
       "      <th>fnetg</th>\n",
       "    </tr>\n",
       "    <tr>\n",
       "      <th>pressure</th>\n",
       "      <th>level</th>\n",
       "      <th></th>\n",
       "      <th></th>\n",
       "      <th></th>\n",
       "    </tr>\n",
       "  </thead>\n",
       "  <tbody>\n",
       "    <tr>\n",
       "      <th>1.000000e-08</th>\n",
       "      <th>1</th>\n",
       "      <td>-8.629700</td>\n",
       "      <td>9.417991e-08</td>\n",
       "      <td>-8.629699</td>\n",
       "    </tr>\n",
       "    <tr>\n",
       "      <th>1.068500e+00</th>\n",
       "      <th>24</th>\n",
       "      <td>-8.626913</td>\n",
       "      <td>4.327946e-03</td>\n",
       "      <td>-8.622585</td>\n",
       "    </tr>\n",
       "    <tr>\n",
       "      <th>1.013000e+03</th>\n",
       "      <th>76</th>\n",
       "      <td>-9.558030</td>\n",
       "      <td>1.831863e+00</td>\n",
       "      <td>-7.726167</td>\n",
       "    </tr>\n",
       "  </tbody>\n",
       "</table>\n",
       "</div>"
      ],
      "text/plain": [
       "                        flug          fldg     fnetg\n",
       "pressure     level                                  \n",
       "1.000000e-08 1     -8.629700  9.417991e-08 -8.629699\n",
       "1.068500e+00 24    -8.626913  4.327946e-03 -8.622585\n",
       "1.013000e+03 76    -9.558030  1.831863e+00 -7.726167"
      ]
     },
     "metadata": {},
     "output_type": "display_data"
    },
    {
     "name": "stdout",
     "output_type": "stream",
     "text": [
      "Table. Fluxes. CLIRAD\n"
     ]
    },
    {
     "data": {
      "text/html": [
       "<div>\n",
       "<style scoped>\n",
       "    .dataframe tbody tr th:only-of-type {\n",
       "        vertical-align: middle;\n",
       "    }\n",
       "\n",
       "    .dataframe tbody tr th {\n",
       "        vertical-align: top;\n",
       "    }\n",
       "\n",
       "    .dataframe thead th {\n",
       "        text-align: right;\n",
       "    }\n",
       "</style>\n",
       "<table border=\"1\" class=\"dataframe\">\n",
       "  <thead>\n",
       "    <tr style=\"text-align: right;\">\n",
       "      <th></th>\n",
       "      <th></th>\n",
       "      <th>flug</th>\n",
       "      <th>fldg</th>\n",
       "      <th>fnetg</th>\n",
       "    </tr>\n",
       "    <tr>\n",
       "      <th>pressure</th>\n",
       "      <th>level</th>\n",
       "      <th></th>\n",
       "      <th></th>\n",
       "      <th></th>\n",
       "    </tr>\n",
       "  </thead>\n",
       "  <tbody>\n",
       "    <tr>\n",
       "      <th>0.0000</th>\n",
       "      <th>1</th>\n",
       "      <td>8.798795e-02</td>\n",
       "      <td>0.000000</td>\n",
       "      <td>0.087988</td>\n",
       "    </tr>\n",
       "    <tr>\n",
       "      <th>1.0685</th>\n",
       "      <th>24</th>\n",
       "      <td>8.816523e-02</td>\n",
       "      <td>-0.001001</td>\n",
       "      <td>0.087164</td>\n",
       "    </tr>\n",
       "    <tr>\n",
       "      <th>1013.0000</th>\n",
       "      <th>76</th>\n",
       "      <td>-6.400000e-08</td>\n",
       "      <td>0.066474</td>\n",
       "      <td>0.066474</td>\n",
       "    </tr>\n",
       "  </tbody>\n",
       "</table>\n",
       "</div>"
      ],
      "text/plain": [
       "                         flug      fldg     fnetg\n",
       "pressure  level                                  \n",
       "0.0000    1      8.798795e-02  0.000000  0.087988\n",
       "1.0685    24     8.816523e-02 -0.001001  0.087164\n",
       "1013.0000 76    -6.400000e-08  0.066474  0.066474"
      ]
     },
     "metadata": {},
     "output_type": "display_data"
    },
    {
     "name": "stdout",
     "output_type": "stream",
     "text": [
      "Table. Fluxes. (WGT igg=10 wgt_flux=1) - (CRD)\n"
     ]
    },
    {
     "data": {
      "text/html": [
       "<div>\n",
       "<style scoped>\n",
       "    .dataframe tbody tr th:only-of-type {\n",
       "        vertical-align: middle;\n",
       "    }\n",
       "\n",
       "    .dataframe tbody tr th {\n",
       "        vertical-align: top;\n",
       "    }\n",
       "\n",
       "    .dataframe thead th {\n",
       "        text-align: right;\n",
       "    }\n",
       "</style>\n",
       "<table border=\"1\" class=\"dataframe\">\n",
       "  <thead>\n",
       "    <tr style=\"text-align: right;\">\n",
       "      <th></th>\n",
       "      <th></th>\n",
       "      <th>flug</th>\n",
       "      <th>fldg</th>\n",
       "      <th>fnetg</th>\n",
       "    </tr>\n",
       "    <tr>\n",
       "      <th>pressure</th>\n",
       "      <th>level</th>\n",
       "      <th></th>\n",
       "      <th></th>\n",
       "      <th></th>\n",
       "    </tr>\n",
       "  </thead>\n",
       "  <tbody>\n",
       "    <tr>\n",
       "      <th>0.0000</th>\n",
       "      <th>1</th>\n",
       "      <td>4.901160e-02</td>\n",
       "      <td>9.417991e-08</td>\n",
       "      <td>0.049012</td>\n",
       "    </tr>\n",
       "    <tr>\n",
       "      <th>1.0685</th>\n",
       "      <th>24</th>\n",
       "      <td>4.919680e-02</td>\n",
       "      <td>-1.227880e-03</td>\n",
       "      <td>0.047969</td>\n",
       "    </tr>\n",
       "    <tr>\n",
       "      <th>1013.0000</th>\n",
       "      <th>76</th>\n",
       "      <td>3.000000e-07</td>\n",
       "      <td>2.532250e-02</td>\n",
       "      <td>0.025323</td>\n",
       "    </tr>\n",
       "  </tbody>\n",
       "</table>\n",
       "</div>"
      ],
      "text/plain": [
       "                         flug          fldg     fnetg\n",
       "pressure  level                                      \n",
       "0.0000    1      4.901160e-02  9.417991e-08  0.049012\n",
       "1.0685    24     4.919680e-02 -1.227880e-03  0.047969\n",
       "1013.0000 76     3.000000e-07  2.532250e-02  0.025323"
      ]
     },
     "metadata": {},
     "output_type": "display_data"
    },
    {
     "name": "stdout",
     "output_type": "stream",
     "text": [
      "Table. Fluxes. (CLIRAD) - (CRD)\n"
     ]
    },
    {
     "data": {
      "text/html": [
       "<a id=\"Best-fit_Parameters\"></a>"
      ],
      "text/plain": [
       "<IPython.core.display.HTML object>"
      ]
     },
     "metadata": {},
     "output_type": "display_data"
    },
    {
     "data": {
      "text/markdown": [
       "# Best-fit Parameters"
      ],
      "text/plain": [
       "<IPython.core.display.Markdown object>"
      ]
     },
     "metadata": {},
     "output_type": "display_data"
    },
    {
     "name": "stdout",
     "output_type": "stream",
     "text": [
      "Best-fit values for each (gas, band)\n",
      "------------------------------------\n",
      "o n2o band7\n",
      "  atmpro = mls\n",
      "  band = 7\n",
      "  commitnumber = a06b618\n",
      "  conc = 3.2e-07\n",
      "  dv = 0.001\n",
      "  klin = 2.22e-20\n",
      "  molecule = n2o\n",
      "  ng_adju = [0, 0]\n",
      "  ng_refs = [2, 2]\n",
      "  nv = 1000\n",
      "  option_compute_btable = 0\n",
      "  option_compute_ktable = 1\n",
      "  option_wgt_flux = 1\n",
      "  option_wgt_k = 1\n",
      "  ref_pts = [(1, 250), (500, 250)]\n",
      "  tsfc = 294\n",
      "  vmax = 1380\n",
      "  vmin = 1215\n",
      "  w_diffuse = [(1.8, 1.66), (1.6, 1.8)]\n",
      "  wgt = [(0.6, 0.5), (0.6, 0.9)]\n"
     ]
    }
   ],
   "source": [
    "script()"
   ]
  },
  {
   "cell_type": "code",
   "execution_count": 13,
   "metadata": {
    "collapsed": true
   },
   "outputs": [
    {
     "data": {
      "text/html": [
       "<script>\n",
       "code_show=true; \n",
       "function code_toggle() {\n",
       " if (code_show){\n",
       " $('div.input').hide();\n",
       " } else {\n",
       " $('div.input').show();\n",
       " }\n",
       " code_show = !code_show\n",
       "} \n",
       "$( document ).ready(code_toggle);\n",
       "</script>\n",
       "<form action=\"javascript:code_toggle()\"><input type=\"submit\" value=\"Click here to toggle on/off the raw code.\"></form>"
      ],
      "text/plain": [
       "<IPython.core.display.HTML object>"
      ]
     },
     "execution_count": 13,
     "metadata": {},
     "output_type": "execute_result"
    }
   ],
   "source": [
    "display.HTML('''<script>\n",
    "code_show=true; \n",
    "function code_toggle() {\n",
    " if (code_show){\n",
    " $('div.input').hide();\n",
    " } else {\n",
    " $('div.input').show();\n",
    " }\n",
    " code_show = !code_show\n",
    "} \n",
    "$( document ).ready(code_toggle);\n",
    "</script>\n",
    "<form action=\"javascript:code_toggle()\"><input type=\"submit\" value=\"Click here to toggle on/off the raw code.\"></form>''')"
   ]
  }
 ],
 "metadata": {
  "kernelspec": {
   "display_name": "Python 3",
   "language": "python",
   "name": "python3"
  },
  "language_info": {
   "codemirror_mode": {
    "name": "ipython",
    "version": 3
   },
   "file_extension": ".py",
   "mimetype": "text/x-python",
   "name": "python",
   "nbconvert_exporter": "python",
   "pygments_lexer": "ipython3",
   "version": "3.6.1"
  }
 },
 "nbformat": 4,
 "nbformat_minor": 2
}
