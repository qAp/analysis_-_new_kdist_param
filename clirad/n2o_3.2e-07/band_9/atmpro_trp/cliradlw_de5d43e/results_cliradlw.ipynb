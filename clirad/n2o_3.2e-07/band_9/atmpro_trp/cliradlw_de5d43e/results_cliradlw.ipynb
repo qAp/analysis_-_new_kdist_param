{
 "cells": [
  {
   "cell_type": "code",
   "execution_count": 1,
   "metadata": {
    "collapsed": true
   },
   "outputs": [],
   "source": [
    "%matplotlib inline\n",
    "import os\n",
    "import re\n",
    "import io\n",
    "import itertools\n",
    "import pprint\n",
    "\n",
    "from bokeh.io import output_notebook, show\n",
    "from bokeh.layouts import gridplot\n",
    "from bokeh.plotting import figure\n",
    "from bokeh.models import Range1d, Legend\n",
    "from bokeh.palettes import all_palettes\n",
    "\n",
    "import matplotlib\n",
    "import matplotlib.pyplot as plt\n",
    "import numpy as np\n",
    "import pandas as pd\n",
    "import xarray as xr\n",
    "\n",
    "import climatools.lblnew.bestfit_params as bestfits\n",
    "from climatools.lblnew import setup_bestfit, setup_overlap\n",
    "import climatools.lblnew.pipeline as pipe_lblnew\n",
    "import climatools.cliradlw.setup as setup_cliradlw\n",
    "import climatools.cliradlw.pipeline as pipe_cliradlw\n",
    "\n",
    "import climatools.html.html as climahtml\n",
    "from climatools.lblnew.dataio import *\n",
    "from climatools.plot.plot import *\n",
    "\n",
    "\n",
    "import IPython.display as display"
   ]
  },
  {
   "cell_type": "code",
   "execution_count": 2,
   "metadata": {
    "collapsed": true
   },
   "outputs": [],
   "source": [
    "%run param.py"
   ]
  },
  {
   "cell_type": "code",
   "execution_count": 3,
   "metadata": {
    "collapsed": true
   },
   "outputs": [],
   "source": [
    "def load_output_file(path_csv):\n",
    "    '''\n",
    "    Load lblnew output .csv file to xarray.Dataset\n",
    "    \n",
    "    Parameters\n",
    "    ----------\n",
    "    path_csv: str\n",
    "              Path to the .csv file to be loaded.\n",
    "    ds: xarray.Dataset\n",
    "        Data in the input file in the form of an xarray.Dataset.\n",
    "    '''\n",
    "    toindex = ['band', 'pressure', 'igg', 'g']    \n",
    "    df = pd.read_csv(path_csv, sep=r'\\s+')\n",
    "    df = df.set_index([i for i in toindex if i in df.columns])\n",
    "    df = df.rename(columns={'sfu': 'flug',\n",
    "                            'sfd': 'fldg',\n",
    "                            'fnet': 'fnetg',\n",
    "                            'coolr': 'coolrg'})\n",
    "    ds = xr.Dataset.from_dataframe(df)\n",
    "\n",
    "    for l in ('level', 'layer'):\n",
    "        if l in ds.data_vars:\n",
    "            if len(ds[l].dims) > 1:\n",
    "                surface = {d: 0 for d in ds.dims if d != 'pressure'}\n",
    "                coord_level = ds[l][surface]\n",
    "                ds.coords[l] = ('pressure', coord_level)\n",
    "            else:\n",
    "                ds.coords[l] = ('pressure', ds[l])\n",
    "    \n",
    "    return ds"
   ]
  },
  {
   "cell_type": "code",
   "execution_count": 4,
   "metadata": {
    "collapsed": true
   },
   "outputs": [],
   "source": [
    "def lblnew_setup(param=None):\n",
    "    if 'ng_refs' in param:\n",
    "        return {'setup': setup_bestfit,\n",
    "                'fname_flux_crd': 'output_flux.dat',\n",
    "                'fname_cool_crd': 'output_coolr.dat',\n",
    "                'fname_flux_wgt': 'output_wfluxg.dat',\n",
    "                'fname_cool_wgt': 'output_wcoolrg.dat'}\n",
    "    else:\n",
    "        return {'setup': setup_overlap,\n",
    "                'fname_flux_crd': 'output_flux.dat',\n",
    "                'fname_cool_crd': 'output_coolr.dat',\n",
    "                'fname_flux_wgt': 'output_wflux.dat',\n",
    "                'fname_cool_wgt': 'output_wcoolr.dat'}\n",
    "\n",
    "    \n",
    "def load_lblnew_data(param):\n",
    "    \n",
    "    fname_dsname = [('fname_flux_crd', 'ds_flux_crd'),\n",
    "                    ('fname_cool_crd', 'ds_cool_crd'),\n",
    "                    ('fname_flux_wgt', 'ds_flux_wgt'),\n",
    "                    ('fname_cool_wgt', 'ds_cool_wgt')]\n",
    "    \n",
    "    d = lblnew_setup(param)\n",
    "    dir_fortran = pipe_lblnew.get_dir_case(param, setup=d['setup'])\n",
    "    \n",
    "    data_dict = {}\n",
    "    for fname, dsname in fname_dsname:\n",
    "        fpath = os.path.join(dir_fortran, d[fname])\n",
    "        data_dict[dsname] = load_output_file(fpath)\n",
    "    return data_dict\n",
    "    \n",
    "\n",
    "    \n",
    "    "
   ]
  },
  {
   "cell_type": "code",
   "execution_count": 5,
   "metadata": {
    "collapsed": true
   },
   "outputs": [],
   "source": [
    "d = load_lblnew_data(PARAM_LBLNEW)\n",
    "\n",
    "DS_FLUX_CRD = d['ds_flux_crd']\n",
    "DS_COOL_CRD = d['ds_cool_crd']\n",
    "DS_FLUX_WGT = d['ds_flux_wgt']\n",
    "DS_COOL_WGT = d['ds_cool_wgt']"
   ]
  },
  {
   "cell_type": "code",
   "execution_count": 6,
   "metadata": {
    "collapsed": true
   },
   "outputs": [],
   "source": [
    "DIR_FORTRAN = pipe_cliradlw.get_fortran_dir(PARAM, \n",
    "                                            setup=setup_cliradlw)\n",
    "\n",
    "PATH_FLUX = os.path.join(DIR_FORTRAN, 'output_flux.dat')\n",
    "PATH_COOL = os.path.join(DIR_FORTRAN, 'output_coolr.dat')\n",
    "\n",
    "DS_FLUX = load_output_file(PATH_FLUX)\n",
    "DS_COOL = load_output_file(PATH_COOL)"
   ]
  },
  {
   "cell_type": "code",
   "execution_count": 7,
   "metadata": {
    "collapsed": true
   },
   "outputs": [
    {
     "data": {
      "text/html": [
       "\n",
       "    <div class=\"bk-root\">\n",
       "        <a href=\"https://bokeh.pydata.org\" target=\"_blank\" class=\"bk-logo bk-logo-small bk-logo-notebook\"></a>\n",
       "        <span id=\"0d892703-08f0-43cb-bfb4-5f489a5c7bf6\">Loading BokehJS ...</span>\n",
       "    </div>"
      ]
     },
     "metadata": {},
     "output_type": "display_data"
    },
    {
     "data": {
      "application/javascript": [
       "\n",
       "(function(root) {\n",
       "  function now() {\n",
       "    return new Date();\n",
       "  }\n",
       "\n",
       "  var force = true;\n",
       "\n",
       "  if (typeof (root._bokeh_onload_callbacks) === \"undefined\" || force === true) {\n",
       "    root._bokeh_onload_callbacks = [];\n",
       "    root._bokeh_is_loading = undefined;\n",
       "  }\n",
       "\n",
       "  var JS_MIME_TYPE = 'application/javascript';\n",
       "  var HTML_MIME_TYPE = 'text/html';\n",
       "  var EXEC_MIME_TYPE = 'application/vnd.bokehjs_exec.v0+json';\n",
       "  var CLASS_NAME = 'output_bokeh rendered_html';\n",
       "\n",
       "  /**\n",
       "   * Render data to the DOM node\n",
       "   */\n",
       "  function render(props, node) {\n",
       "    var script = document.createElement(\"script\");\n",
       "    node.appendChild(script);\n",
       "  }\n",
       "\n",
       "  /**\n",
       "   * Handle when an output is cleared or removed\n",
       "   */\n",
       "  function handleClearOutput(event, handle) {\n",
       "    var cell = handle.cell;\n",
       "\n",
       "    var id = cell.output_area._bokeh_element_id;\n",
       "    var server_id = cell.output_area._bokeh_server_id;\n",
       "    // Clean up Bokeh references\n",
       "    if (id !== undefined) {\n",
       "      Bokeh.index[id].model.document.clear();\n",
       "      delete Bokeh.index[id];\n",
       "    }\n",
       "\n",
       "    if (server_id !== undefined) {\n",
       "      // Clean up Bokeh references\n",
       "      var cmd = \"from bokeh.io.state import curstate; print(curstate().uuid_to_server['\" + server_id + \"'].get_sessions()[0].document.roots[0]._id)\";\n",
       "      cell.notebook.kernel.execute(cmd, {\n",
       "        iopub: {\n",
       "          output: function(msg) {\n",
       "            var element_id = msg.content.text.trim();\n",
       "            Bokeh.index[element_id].model.document.clear();\n",
       "            delete Bokeh.index[element_id];\n",
       "          }\n",
       "        }\n",
       "      });\n",
       "      // Destroy server and session\n",
       "      var cmd = \"import bokeh.io.notebook as ion; ion.destroy_server('\" + server_id + \"')\";\n",
       "      cell.notebook.kernel.execute(cmd);\n",
       "    }\n",
       "  }\n",
       "\n",
       "  /**\n",
       "   * Handle when a new output is added\n",
       "   */\n",
       "  function handleAddOutput(event, handle) {\n",
       "    var output_area = handle.output_area;\n",
       "    var output = handle.output;\n",
       "\n",
       "    // limit handleAddOutput to display_data with EXEC_MIME_TYPE content only\n",
       "    if ((output.output_type != \"display_data\") || (!output.data.hasOwnProperty(EXEC_MIME_TYPE))) {\n",
       "      return\n",
       "    }\n",
       "\n",
       "    var toinsert = output_area.element.find(\".\" + CLASS_NAME.split(' ')[0]);\n",
       "\n",
       "    if (output.metadata[EXEC_MIME_TYPE][\"id\"] !== undefined) {\n",
       "      toinsert[toinsert.length - 1].firstChild.textContent = output.data[JS_MIME_TYPE];\n",
       "      // store reference to embed id on output_area\n",
       "      output_area._bokeh_element_id = output.metadata[EXEC_MIME_TYPE][\"id\"];\n",
       "    }\n",
       "    if (output.metadata[EXEC_MIME_TYPE][\"server_id\"] !== undefined) {\n",
       "      var bk_div = document.createElement(\"div\");\n",
       "      bk_div.innerHTML = output.data[HTML_MIME_TYPE];\n",
       "      var script_attrs = bk_div.children[0].attributes;\n",
       "      for (var i = 0; i < script_attrs.length; i++) {\n",
       "        toinsert[toinsert.length - 1].firstChild.setAttribute(script_attrs[i].name, script_attrs[i].value);\n",
       "      }\n",
       "      // store reference to server id on output_area\n",
       "      output_area._bokeh_server_id = output.metadata[EXEC_MIME_TYPE][\"server_id\"];\n",
       "    }\n",
       "  }\n",
       "\n",
       "  function register_renderer(events, OutputArea) {\n",
       "\n",
       "    function append_mime(data, metadata, element) {\n",
       "      // create a DOM node to render to\n",
       "      var toinsert = this.create_output_subarea(\n",
       "        metadata,\n",
       "        CLASS_NAME,\n",
       "        EXEC_MIME_TYPE\n",
       "      );\n",
       "      this.keyboard_manager.register_events(toinsert);\n",
       "      // Render to node\n",
       "      var props = {data: data, metadata: metadata[EXEC_MIME_TYPE]};\n",
       "      render(props, toinsert[toinsert.length - 1]);\n",
       "      element.append(toinsert);\n",
       "      return toinsert\n",
       "    }\n",
       "\n",
       "    /* Handle when an output is cleared or removed */\n",
       "    events.on('clear_output.CodeCell', handleClearOutput);\n",
       "    events.on('delete.Cell', handleClearOutput);\n",
       "\n",
       "    /* Handle when a new output is added */\n",
       "    events.on('output_added.OutputArea', handleAddOutput);\n",
       "\n",
       "    /**\n",
       "     * Register the mime type and append_mime function with output_area\n",
       "     */\n",
       "    OutputArea.prototype.register_mime_type(EXEC_MIME_TYPE, append_mime, {\n",
       "      /* Is output safe? */\n",
       "      safe: true,\n",
       "      /* Index of renderer in `output_area.display_order` */\n",
       "      index: 0\n",
       "    });\n",
       "  }\n",
       "\n",
       "  // register the mime type if in Jupyter Notebook environment and previously unregistered\n",
       "  if (root.Jupyter !== undefined) {\n",
       "    var events = require('base/js/events');\n",
       "    var OutputArea = require('notebook/js/outputarea').OutputArea;\n",
       "\n",
       "    if (OutputArea.prototype.mime_types().indexOf(EXEC_MIME_TYPE) == -1) {\n",
       "      register_renderer(events, OutputArea);\n",
       "    }\n",
       "  }\n",
       "\n",
       "  \n",
       "  if (typeof (root._bokeh_timeout) === \"undefined\" || force === true) {\n",
       "    root._bokeh_timeout = Date.now() + 5000;\n",
       "    root._bokeh_failed_load = false;\n",
       "  }\n",
       "\n",
       "  var NB_LOAD_WARNING = {'data': {'text/html':\n",
       "     \"<div style='background-color: #fdd'>\\n\"+\n",
       "     \"<p>\\n\"+\n",
       "     \"BokehJS does not appear to have successfully loaded. If loading BokehJS from CDN, this \\n\"+\n",
       "     \"may be due to a slow or bad network connection. Possible fixes:\\n\"+\n",
       "     \"</p>\\n\"+\n",
       "     \"<ul>\\n\"+\n",
       "     \"<li>re-rerun `output_notebook()` to attempt to load from CDN again, or</li>\\n\"+\n",
       "     \"<li>use INLINE resources instead, as so:</li>\\n\"+\n",
       "     \"</ul>\\n\"+\n",
       "     \"<code>\\n\"+\n",
       "     \"from bokeh.resources import INLINE\\n\"+\n",
       "     \"output_notebook(resources=INLINE)\\n\"+\n",
       "     \"</code>\\n\"+\n",
       "     \"</div>\"}};\n",
       "\n",
       "  function display_loaded() {\n",
       "    var el = document.getElementById(\"0d892703-08f0-43cb-bfb4-5f489a5c7bf6\");\n",
       "    if (el != null) {\n",
       "      el.textContent = \"BokehJS is loading...\";\n",
       "    }\n",
       "    if (root.Bokeh !== undefined) {\n",
       "      if (el != null) {\n",
       "        el.textContent = \"BokehJS \" + root.Bokeh.version + \" successfully loaded.\";\n",
       "      }\n",
       "    } else if (Date.now() < root._bokeh_timeout) {\n",
       "      setTimeout(display_loaded, 100)\n",
       "    }\n",
       "  }\n",
       "\n",
       "\n",
       "  function run_callbacks() {\n",
       "    try {\n",
       "      root._bokeh_onload_callbacks.forEach(function(callback) { callback() });\n",
       "    }\n",
       "    finally {\n",
       "      delete root._bokeh_onload_callbacks\n",
       "    }\n",
       "    console.info(\"Bokeh: all callbacks have finished\");\n",
       "  }\n",
       "\n",
       "  function load_libs(js_urls, callback) {\n",
       "    root._bokeh_onload_callbacks.push(callback);\n",
       "    if (root._bokeh_is_loading > 0) {\n",
       "      console.log(\"Bokeh: BokehJS is being loaded, scheduling callback at\", now());\n",
       "      return null;\n",
       "    }\n",
       "    if (js_urls == null || js_urls.length === 0) {\n",
       "      run_callbacks();\n",
       "      return null;\n",
       "    }\n",
       "    console.log(\"Bokeh: BokehJS not loaded, scheduling load and callback at\", now());\n",
       "    root._bokeh_is_loading = js_urls.length;\n",
       "    for (var i = 0; i < js_urls.length; i++) {\n",
       "      var url = js_urls[i];\n",
       "      var s = document.createElement('script');\n",
       "      s.src = url;\n",
       "      s.async = false;\n",
       "      s.onreadystatechange = s.onload = function() {\n",
       "        root._bokeh_is_loading--;\n",
       "        if (root._bokeh_is_loading === 0) {\n",
       "          console.log(\"Bokeh: all BokehJS libraries loaded\");\n",
       "          run_callbacks()\n",
       "        }\n",
       "      };\n",
       "      s.onerror = function() {\n",
       "        console.warn(\"failed to load library \" + url);\n",
       "      };\n",
       "      console.log(\"Bokeh: injecting script tag for BokehJS library: \", url);\n",
       "      document.getElementsByTagName(\"head\")[0].appendChild(s);\n",
       "    }\n",
       "  };var element = document.getElementById(\"0d892703-08f0-43cb-bfb4-5f489a5c7bf6\");\n",
       "  if (element == null) {\n",
       "    console.log(\"Bokeh: ERROR: autoload.js configured with elementid '0d892703-08f0-43cb-bfb4-5f489a5c7bf6' but no matching script tag was found. \")\n",
       "    return false;\n",
       "  }\n",
       "\n",
       "  var js_urls = [\"https://cdn.pydata.org/bokeh/release/bokeh-0.12.16.min.js\", \"https://cdn.pydata.org/bokeh/release/bokeh-widgets-0.12.16.min.js\", \"https://cdn.pydata.org/bokeh/release/bokeh-tables-0.12.16.min.js\", \"https://cdn.pydata.org/bokeh/release/bokeh-gl-0.12.16.min.js\"];\n",
       "\n",
       "  var inline_js = [\n",
       "    function(Bokeh) {\n",
       "      Bokeh.set_log_level(\"info\");\n",
       "    },\n",
       "    \n",
       "    function(Bokeh) {\n",
       "      \n",
       "    },\n",
       "    function(Bokeh) {\n",
       "      console.log(\"Bokeh: injecting CSS: https://cdn.pydata.org/bokeh/release/bokeh-0.12.16.min.css\");\n",
       "      Bokeh.embed.inject_css(\"https://cdn.pydata.org/bokeh/release/bokeh-0.12.16.min.css\");\n",
       "      console.log(\"Bokeh: injecting CSS: https://cdn.pydata.org/bokeh/release/bokeh-widgets-0.12.16.min.css\");\n",
       "      Bokeh.embed.inject_css(\"https://cdn.pydata.org/bokeh/release/bokeh-widgets-0.12.16.min.css\");\n",
       "      console.log(\"Bokeh: injecting CSS: https://cdn.pydata.org/bokeh/release/bokeh-tables-0.12.16.min.css\");\n",
       "      Bokeh.embed.inject_css(\"https://cdn.pydata.org/bokeh/release/bokeh-tables-0.12.16.min.css\");\n",
       "    }\n",
       "  ];\n",
       "\n",
       "  function run_inline_js() {\n",
       "    \n",
       "    if ((root.Bokeh !== undefined) || (force === true)) {\n",
       "      for (var i = 0; i < inline_js.length; i++) {\n",
       "        inline_js[i].call(root, root.Bokeh);\n",
       "      }if (force === true) {\n",
       "        display_loaded();\n",
       "      }} else if (Date.now() < root._bokeh_timeout) {\n",
       "      setTimeout(run_inline_js, 100);\n",
       "    } else if (!root._bokeh_failed_load) {\n",
       "      console.log(\"Bokeh: BokehJS failed to load within specified timeout.\");\n",
       "      root._bokeh_failed_load = true;\n",
       "    } else if (force !== true) {\n",
       "      var cell = $(document.getElementById(\"0d892703-08f0-43cb-bfb4-5f489a5c7bf6\")).parents('.cell').data().cell;\n",
       "      cell.output_area.append_execute_result(NB_LOAD_WARNING)\n",
       "    }\n",
       "\n",
       "  }\n",
       "\n",
       "  if (root._bokeh_is_loading === 0) {\n",
       "    console.log(\"Bokeh: BokehJS loaded, going straight to plotting\");\n",
       "    run_inline_js();\n",
       "  } else {\n",
       "    load_libs(js_urls, function() {\n",
       "      console.log(\"Bokeh: BokehJS plotting callback run at\", now());\n",
       "      run_inline_js();\n",
       "    });\n",
       "  }\n",
       "}(window));"
      ],
      "application/vnd.bokehjs_load.v0+json": "\n(function(root) {\n  function now() {\n    return new Date();\n  }\n\n  var force = true;\n\n  if (typeof (root._bokeh_onload_callbacks) === \"undefined\" || force === true) {\n    root._bokeh_onload_callbacks = [];\n    root._bokeh_is_loading = undefined;\n  }\n\n  \n\n  \n  if (typeof (root._bokeh_timeout) === \"undefined\" || force === true) {\n    root._bokeh_timeout = Date.now() + 5000;\n    root._bokeh_failed_load = false;\n  }\n\n  var NB_LOAD_WARNING = {'data': {'text/html':\n     \"<div style='background-color: #fdd'>\\n\"+\n     \"<p>\\n\"+\n     \"BokehJS does not appear to have successfully loaded. If loading BokehJS from CDN, this \\n\"+\n     \"may be due to a slow or bad network connection. Possible fixes:\\n\"+\n     \"</p>\\n\"+\n     \"<ul>\\n\"+\n     \"<li>re-rerun `output_notebook()` to attempt to load from CDN again, or</li>\\n\"+\n     \"<li>use INLINE resources instead, as so:</li>\\n\"+\n     \"</ul>\\n\"+\n     \"<code>\\n\"+\n     \"from bokeh.resources import INLINE\\n\"+\n     \"output_notebook(resources=INLINE)\\n\"+\n     \"</code>\\n\"+\n     \"</div>\"}};\n\n  function display_loaded() {\n    var el = document.getElementById(\"0d892703-08f0-43cb-bfb4-5f489a5c7bf6\");\n    if (el != null) {\n      el.textContent = \"BokehJS is loading...\";\n    }\n    if (root.Bokeh !== undefined) {\n      if (el != null) {\n        el.textContent = \"BokehJS \" + root.Bokeh.version + \" successfully loaded.\";\n      }\n    } else if (Date.now() < root._bokeh_timeout) {\n      setTimeout(display_loaded, 100)\n    }\n  }\n\n\n  function run_callbacks() {\n    try {\n      root._bokeh_onload_callbacks.forEach(function(callback) { callback() });\n    }\n    finally {\n      delete root._bokeh_onload_callbacks\n    }\n    console.info(\"Bokeh: all callbacks have finished\");\n  }\n\n  function load_libs(js_urls, callback) {\n    root._bokeh_onload_callbacks.push(callback);\n    if (root._bokeh_is_loading > 0) {\n      console.log(\"Bokeh: BokehJS is being loaded, scheduling callback at\", now());\n      return null;\n    }\n    if (js_urls == null || js_urls.length === 0) {\n      run_callbacks();\n      return null;\n    }\n    console.log(\"Bokeh: BokehJS not loaded, scheduling load and callback at\", now());\n    root._bokeh_is_loading = js_urls.length;\n    for (var i = 0; i < js_urls.length; i++) {\n      var url = js_urls[i];\n      var s = document.createElement('script');\n      s.src = url;\n      s.async = false;\n      s.onreadystatechange = s.onload = function() {\n        root._bokeh_is_loading--;\n        if (root._bokeh_is_loading === 0) {\n          console.log(\"Bokeh: all BokehJS libraries loaded\");\n          run_callbacks()\n        }\n      };\n      s.onerror = function() {\n        console.warn(\"failed to load library \" + url);\n      };\n      console.log(\"Bokeh: injecting script tag for BokehJS library: \", url);\n      document.getElementsByTagName(\"head\")[0].appendChild(s);\n    }\n  };var element = document.getElementById(\"0d892703-08f0-43cb-bfb4-5f489a5c7bf6\");\n  if (element == null) {\n    console.log(\"Bokeh: ERROR: autoload.js configured with elementid '0d892703-08f0-43cb-bfb4-5f489a5c7bf6' but no matching script tag was found. \")\n    return false;\n  }\n\n  var js_urls = [\"https://cdn.pydata.org/bokeh/release/bokeh-0.12.16.min.js\", \"https://cdn.pydata.org/bokeh/release/bokeh-widgets-0.12.16.min.js\", \"https://cdn.pydata.org/bokeh/release/bokeh-tables-0.12.16.min.js\", \"https://cdn.pydata.org/bokeh/release/bokeh-gl-0.12.16.min.js\"];\n\n  var inline_js = [\n    function(Bokeh) {\n      Bokeh.set_log_level(\"info\");\n    },\n    \n    function(Bokeh) {\n      \n    },\n    function(Bokeh) {\n      console.log(\"Bokeh: injecting CSS: https://cdn.pydata.org/bokeh/release/bokeh-0.12.16.min.css\");\n      Bokeh.embed.inject_css(\"https://cdn.pydata.org/bokeh/release/bokeh-0.12.16.min.css\");\n      console.log(\"Bokeh: injecting CSS: https://cdn.pydata.org/bokeh/release/bokeh-widgets-0.12.16.min.css\");\n      Bokeh.embed.inject_css(\"https://cdn.pydata.org/bokeh/release/bokeh-widgets-0.12.16.min.css\");\n      console.log(\"Bokeh: injecting CSS: https://cdn.pydata.org/bokeh/release/bokeh-tables-0.12.16.min.css\");\n      Bokeh.embed.inject_css(\"https://cdn.pydata.org/bokeh/release/bokeh-tables-0.12.16.min.css\");\n    }\n  ];\n\n  function run_inline_js() {\n    \n    if ((root.Bokeh !== undefined) || (force === true)) {\n      for (var i = 0; i < inline_js.length; i++) {\n        inline_js[i].call(root, root.Bokeh);\n      }if (force === true) {\n        display_loaded();\n      }} else if (Date.now() < root._bokeh_timeout) {\n      setTimeout(run_inline_js, 100);\n    } else if (!root._bokeh_failed_load) {\n      console.log(\"Bokeh: BokehJS failed to load within specified timeout.\");\n      root._bokeh_failed_load = true;\n    } else if (force !== true) {\n      var cell = $(document.getElementById(\"0d892703-08f0-43cb-bfb4-5f489a5c7bf6\")).parents('.cell').data().cell;\n      cell.output_area.append_execute_result(NB_LOAD_WARNING)\n    }\n\n  }\n\n  if (root._bokeh_is_loading === 0) {\n    console.log(\"Bokeh: BokehJS loaded, going straight to plotting\");\n    run_inline_js();\n  } else {\n    load_libs(js_urls, function() {\n      console.log(\"Bokeh: BokehJS plotting callback run at\", now());\n      run_inline_js();\n    });\n  }\n}(window));"
     },
     "metadata": {},
     "output_type": "display_data"
    }
   ],
   "source": [
    "output_notebook()"
   ]
  },
  {
   "cell_type": "code",
   "execution_count": 8,
   "metadata": {
    "collapsed": true
   },
   "outputs": [],
   "source": [
    "def fmt_cool(ds_in):\n",
    "    ds = ds_in.copy(deep=True)\n",
    "    if 'igg' in ds.dims:\n",
    "        ds = ds.sel(igg=1)\n",
    "\n",
    "    if 'g' in ds.dims:\n",
    "        ds = ds.sum('g')\n",
    "            \n",
    "    if 'band' in ds.dims:\n",
    "        try:\n",
    "            ds = ds.squeeze('band')\n",
    "        except ValueError:\n",
    "            ds = ds.sum('band')\n",
    "                \n",
    "    return ds['coolrg']\n",
    "\n",
    "\n",
    "def pltdata_cooling_1(ds_cool=None,\n",
    "                      ds_cool_crd=None, ds_cool_wgt=None):\n",
    "    \n",
    "\n",
    "\n",
    "    colors = all_palettes['Set1'][4]\n",
    "    data = [{'label': 'CLIRAD `coolr_bands`',\n",
    "             'srs': fmt_cool(ds_cool),\n",
    "             'line_dash': 'dashed', 'line_width': 5,\n",
    "             'color': colors[0], 'alpha': .6},\n",
    "            {'label': 'CRD',\n",
    "             'srs': fmt_cool(ds_cool_crd),\n",
    "             'line_dash': 'solid', 'line_width': 1.5,\n",
    "             'marker': 'circle', 'marker_size': 5,\n",
    "             'color': colors[2], 'alpha': 1,},\n",
    "            {'label': 'WGT igg=10 wgt_flux=2',\n",
    "             'srs': fmt_cool(ds_cool_wgt),\n",
    "             'line_dash': 'solid', 'line_width': 3,\n",
    "             'marker': 'square', 'marker_size': 5,\n",
    "             'color': colors[3], 'alpha': .6}]\n",
    "    return data\n",
    "\n",
    "\n",
    "def nice_xlims(pltdata=None, prange=None):\n",
    "    \n",
    "    def get_slice(srs):\n",
    "        return srs.sel(pressure=slice(*prange))\n",
    "    \n",
    "    srss = [d['srs'] for d in pltdata]\n",
    "    vmin = min([get_slice(srs).min() for srs in srss])\n",
    "    vmax = max([get_slice(srs).max() for srs in srss])\n",
    "    dv = (vmax - vmin) * .01\n",
    "    return float(vmin - dv), float(vmax + dv)\n",
    "    \n",
    "\n",
    "def plt_cooling_bokeh(pltdata=None):\n",
    "    '''\n",
    "    Plot a list of cooling rate profiles using bokeh.\n",
    "    '''\n",
    "    ymin = 1e-2 \n",
    "    ymax = 1020 \n",
    "        \n",
    "    p1 = figure(title=\"Linear pressure scale\", \n",
    "                plot_width=400)        \n",
    "    xmin, xmax = nice_xlims(pltdata, prange=(50, 1050))\n",
    "    for d in pltdata:\n",
    "        if 'marker' in d:\n",
    "            getattr(p1, d['marker'])(d['srs'].values, \n",
    "                    d['srs'].coords['pressure'].values,\n",
    "                    color=d['color'], alpha=.7)\n",
    "        p1.line(d['srs'].values, \n",
    "                d['srs'].coords['pressure'].values,\n",
    "                color=d['color'], alpha=d['alpha'], \n",
    "                line_width=d['line_width'], line_dash=d['line_dash'])\n",
    "    \n",
    "    p1.y_range = Range1d(ymax, ymin)\n",
    "    p1.yaxis.axis_label = 'pressure [mb]'   \n",
    "    p1.x_range = Range1d(xmin, xmax)\n",
    "    p1.xaxis.axis_label = 'cooling rate [K/day]'\n",
    "            \n",
    "    p2 = figure(title='Log pressure scale', y_axis_type='log',\n",
    "                plot_width=560)\n",
    "    xmin, xmax = nice_xlims(pltdata, prange=(.01, 200))\n",
    "    \n",
    "    rs = []\n",
    "    for d in pltdata:\n",
    "        rd = []\n",
    "        if 'marker' in d:\n",
    "            r_mark = getattr(p2, d['marker'])(d['srs'].values, \n",
    "                        d['srs'].coords['pressure'].values,\n",
    "                        color=d['color'], alpha=.7)\n",
    "            rd.append(r_mark)\n",
    "        r_line = p2.line(d['srs'].values, \n",
    "                    d['srs'].coords['pressure'].values,\n",
    "                    color=d['color'], alpha=d['alpha'], \n",
    "                    line_width=d['line_width'], line_dash=d['line_dash'])\n",
    "        rd.append(r_line)\n",
    "      \n",
    "        rs.append(rd)\n",
    "        \n",
    "    p2.y_range = Range1d(ymax, ymin)  \n",
    "    p2.yaxis.axis_label = 'pressure [mb]'\n",
    "    \n",
    "    p2.x_range = Range1d(xmin, xmax)\n",
    "    p2.xaxis.axis_label = 'cooling rate [K/day]'\n",
    "    \n",
    "    items = [(d['label'], r) for r, d in zip(rs, pltdata)]\n",
    "    legend = Legend(items=items, location=(10, -30))\n",
    "    legend.label_text_font_size = '8pt'\n",
    "    \n",
    "    p2.add_layout(legend, 'right')  \n",
    "    \n",
    "    show(gridplot(p1, p2, ncols=2, plot_height=500))\n",
    "    \n",
    "\n",
    "def script_plt_cooling():\n",
    "    pltdata = pltdata_cooling_1(\n",
    "        ds_cool=DS_COOL,\n",
    "        ds_cool_crd=DS_COOL_CRD,\n",
    "        ds_cool_wgt=DS_COOL_WGT)\n",
    "    plt_cooling_bokeh(pltdata=pltdata)\n",
    "    print('''FIGURE. Cooling rate profiles.''')"
   ]
  },
  {
   "cell_type": "code",
   "execution_count": 9,
   "metadata": {
    "collapsed": true
   },
   "outputs": [],
   "source": [
    "def fmt_flux(ds_in):\n",
    "    ds = ds_in.copy(deep=True)\n",
    "    \n",
    "    for l in ('level', 'layer'):\n",
    "        if l in ds.data_vars:\n",
    "            if len(ds[l].dims) > 1:\n",
    "                surface = {d: 0 for d in ds.dims if d != 'pressure'}\n",
    "                coord_level = ds[l][surface]\n",
    "                ds.coords[l] = ('pressure', coord_level)\n",
    "            else:\n",
    "                ds.coords[l] = ('pressure', ds[l])\n",
    "        \n",
    "    ds = ds.isel(pressure=[0, 23, -1])\n",
    "        \n",
    "    if 'igg' in ds.dims:\n",
    "        ds = ds.sel(igg=[1])\n",
    "        ds = ds.squeeze('igg').drop('igg')\n",
    "    \n",
    "    if 'g' in ds.dims:\n",
    "        ds = ds.sum('g')\n",
    "            \n",
    "    if 'band' in ds.dims:\n",
    "        try:\n",
    "            ds = ds.squeeze('band').drop('band')\n",
    "        except ValueError:\n",
    "            ds = ds.sum('band')\n",
    "                \n",
    "    df = ds.to_dataframe()\n",
    "    df = df.set_index('level', append=True)               \n",
    "    return df\n",
    "\n",
    "\n",
    "def tbdata_flux(ds_flux=None, ds_flux_crd=None, ds_flux_wgt=None):\n",
    "    ilevels = [0, 23, -1]\n",
    "            \n",
    "    benchmark = {'label': 'CRD',\n",
    "                 'df': fmt_flux(ds_flux_crd)}\n",
    "    \n",
    "    tbs = [{'label': 'WGT igg=10 wgt_flux=1',\n",
    "            'df': fmt_flux(ds_flux_wgt)},\n",
    "           {'label': 'CLIRAD',\n",
    "            'df': fmt_flux(ds_flux)}]\n",
    "    \n",
    "    data = {'benchmark': benchmark, 'others': tbs}\n",
    "    return data\n",
    "\n",
    "\n",
    "def tb_flux(tbdata=None):\n",
    "    benchmark = tbdata['benchmark']\n",
    "    others = tbdata['others']\n",
    "    \n",
    "    def show_tb(d=None):\n",
    "        display.display(d['df'])\n",
    "        print('Table.', 'Fluxes.', d['label'])\n",
    "        \n",
    "    def show_tbdiff(d0=None, d=None):\n",
    "        df = d['df']\n",
    "        df.index = d0['df'].index\n",
    "        display.display(df - d0['df'])\n",
    "        print('Table.', 'Fluxes.', \n",
    "              '({}) - ({})'.format(d['label'], d0['label']))\n",
    "        \n",
    "    show_tb(benchmark)\n",
    "    for d in others:\n",
    "        show_tb(d)\n",
    "        \n",
    "    for d in others:\n",
    "        show_tbdiff(d=d, d0=benchmark)\n",
    "        \n",
    "        \n",
    "def script_tb_flux():\n",
    "    data = tbdata_flux(ds_flux=DS_FLUX,\n",
    "                       ds_flux_crd=DS_FLUX_CRD,\n",
    "                       ds_flux_wgt=DS_FLUX_WGT)\n",
    "    tb_flux(tbdata=data)"
   ]
  },
  {
   "cell_type": "code",
   "execution_count": 10,
   "metadata": {
    "collapsed": true
   },
   "outputs": [],
   "source": [
    "def band_map():\n",
    "    '''\n",
    "    Maps spectral bands in lblnew to spectral bands in clirad.\n",
    "    '''\n",
    "    lblnew2clirad = {'1': '1',\n",
    "            '2': '2',\n",
    "            '3a': '3',\n",
    "            '3b': '4',\n",
    "            '3c': '5',\n",
    "            '4': '6', \n",
    "            '5': '7',\n",
    "            '6': '8',\n",
    "            '7': '9', \n",
    "            '8': '10',\n",
    "            '9': '11'}\n",
    "    \n",
    "    clirad2lblnew = {clirad: lblnew \n",
    "                     for lblnew, clirad in lblnew2clirad.items()}\n",
    "    return clirad2lblnew\n",
    "\n",
    "\n",
    "def gasbands():\n",
    "    bmap = band_map()\n",
    "    gases = list(PARAM['molecule'].keys())\n",
    "    \n",
    "    bands = [bmap[str(b)] for b in PARAM['band']]\n",
    "    return list(itertools.product(gases, bands))\n",
    "\n",
    "\n",
    "def print_bestfit_params():\n",
    "    print('Best-fit values for each (gas, band)')\n",
    "    print('------------------------------------')\n",
    "    for gas, band in gasbands():\n",
    "        print('o {} band{}'.format(gas, band))\n",
    "        param = bestfits.kdist_params(molecule=gas, band=band)\n",
    "        for name, value in sorted(param.items()):\n",
    "            print(2 * ' ' + '{} = {}'.format(name, value))\n",
    "\n",
    "        \n",
    "def print_input_param():        \n",
    "    for name, value in PARAM.items():\n",
    "        print('{} = {}'.format(name, value))\n",
    "        \n",
    "        \n",
    "def print_lblnew_param():\n",
    "    for name, value in sorted(PARAM_LBLNEW.items()):\n",
    "        print('{} = {}'.format(name, value))\n"
   ]
  },
  {
   "cell_type": "code",
   "execution_count": 11,
   "metadata": {
    "collapsed": true,
    "scrolled": false
   },
   "outputs": [],
   "source": [
    "def show_html(s):\n",
    "    display.display(display.HTML(s))\n",
    "\n",
    "    \n",
    "def show_markdown(s):\n",
    "    display.display(display.Markdown(s))\n",
    "\n",
    "    \n",
    "def script():\n",
    "    \n",
    "    title = '### CLIRAD-LW'\n",
    "    s_input = 'Input Parameters'\n",
    "    s_lblnew_param = 'LBLNEW case compaired against'\n",
    "    s_bestfits = 'Best-fit Parameters'\n",
    "    s_plt_cooling = 'Cooling Rate Profiles'\n",
    "    s_tb_flux = 'Flux Comparison'\n",
    "    \n",
    "    # title\n",
    "    show_markdown('### CLIRAD-LW')\n",
    "    \n",
    "    # TOC\n",
    "    show_markdown('### Table of Contents')\n",
    "    show_html(climahtml.getHTML_hrefanchor(s_input))\n",
    "    show_html(climahtml.getHTML_hrefanchor(s_lblnew_param))\n",
    "    show_html(climahtml.getHTML_hrefanchor(s_plt_cooling))\n",
    "    show_html(climahtml.getHTML_hrefanchor(s_tb_flux))\n",
    "    show_html(climahtml.getHTML_hrefanchor(s_bestfits))\n",
    "    \n",
    "    # Input parameters\n",
    "    show_html(climahtml.getHTML_idanchor(s_input))\n",
    "    show_markdown(climahtml.getMarkdown_sectitle(s_input))\n",
    "    print_input_param()\n",
    "    \n",
    "    # LBLNEW parameters \n",
    "    show_html(climahtml.getHTML_idanchor(s_lblnew_param))\n",
    "    show_markdown(climahtml.getMarkdown_sectitle(s_lblnew_param))\n",
    "    print_lblnew_param()\n",
    "    \n",
    "    # Cooling rate profiles\n",
    "    show_html(climahtml.getHTML_idanchor(s_plt_cooling))\n",
    "    show_markdown(climahtml.getMarkdown_sectitle(s_plt_cooling))\n",
    "    script_plt_cooling()\n",
    "    \n",
    "    # Flux comparison\n",
    "    show_html(climahtml.getHTML_idanchor(s_tb_flux))\n",
    "    show_markdown(climahtml.getMarkdown_sectitle(s_tb_flux))\n",
    "    script_tb_flux()\n",
    "    \n",
    "    # Best-fit values\n",
    "    show_html(climahtml.getHTML_idanchor(s_bestfits))\n",
    "    show_markdown(climahtml.getMarkdown_sectitle(s_bestfits))\n",
    "    print_bestfit_params()\n",
    "   \n",
    "    "
   ]
  },
  {
   "cell_type": "code",
   "execution_count": 12,
   "metadata": {
    "collapsed": true,
    "scrolled": false
   },
   "outputs": [
    {
     "data": {
      "text/markdown": [
       "### CLIRAD-LW"
      ],
      "text/plain": [
       "<IPython.core.display.Markdown object>"
      ]
     },
     "metadata": {},
     "output_type": "display_data"
    },
    {
     "data": {
      "text/markdown": [
       "### Table of Contents"
      ],
      "text/plain": [
       "<IPython.core.display.Markdown object>"
      ]
     },
     "metadata": {},
     "output_type": "display_data"
    },
    {
     "data": {
      "text/html": [
       "<a href=\"#Input_Parameters\">Input Parameters</a>"
      ],
      "text/plain": [
       "<IPython.core.display.HTML object>"
      ]
     },
     "metadata": {},
     "output_type": "display_data"
    },
    {
     "data": {
      "text/html": [
       "<a href=\"#LBLNEW_case_compaired_against\">LBLNEW case compaired against</a>"
      ],
      "text/plain": [
       "<IPython.core.display.HTML object>"
      ]
     },
     "metadata": {},
     "output_type": "display_data"
    },
    {
     "data": {
      "text/html": [
       "<a href=\"#Cooling_Rate_Profiles\">Cooling Rate Profiles</a>"
      ],
      "text/plain": [
       "<IPython.core.display.HTML object>"
      ]
     },
     "metadata": {},
     "output_type": "display_data"
    },
    {
     "data": {
      "text/html": [
       "<a href=\"#Flux_Comparison\">Flux Comparison</a>"
      ],
      "text/plain": [
       "<IPython.core.display.HTML object>"
      ]
     },
     "metadata": {},
     "output_type": "display_data"
    },
    {
     "data": {
      "text/html": [
       "<a href=\"#Best-fit_Parameters\">Best-fit Parameters</a>"
      ],
      "text/plain": [
       "<IPython.core.display.HTML object>"
      ]
     },
     "metadata": {},
     "output_type": "display_data"
    },
    {
     "data": {
      "text/html": [
       "<a id=\"Input_Parameters\"></a>"
      ],
      "text/plain": [
       "<IPython.core.display.HTML object>"
      ]
     },
     "metadata": {},
     "output_type": "display_data"
    },
    {
     "data": {
      "text/markdown": [
       "# Input Parameters"
      ],
      "text/plain": [
       "<IPython.core.display.Markdown object>"
      ]
     },
     "metadata": {},
     "output_type": "display_data"
    },
    {
     "name": "stdout",
     "output_type": "stream",
     "text": [
      "atmpro = trp\n",
      "band = [9]\n",
      "commitnumber = de5d43e\n",
      "molecule = {'n2o': 3.2e-07}\n",
      "tsfc = 300\n"
     ]
    },
    {
     "data": {
      "text/html": [
       "<a id=\"LBLNEW_case_compaired_against\"></a>"
      ],
      "text/plain": [
       "<IPython.core.display.HTML object>"
      ]
     },
     "metadata": {},
     "output_type": "display_data"
    },
    {
     "data": {
      "text/markdown": [
       "# LBLNEW case compaired against"
      ],
      "text/plain": [
       "<IPython.core.display.Markdown object>"
      ]
     },
     "metadata": {},
     "output_type": "display_data"
    },
    {
     "name": "stdout",
     "output_type": "stream",
     "text": [
      "atmpro = trp\n",
      "band = 7\n",
      "commitnumber = 5014a19\n",
      "conc = 3.2e-07\n",
      "dv = 0.001\n",
      "klin = 2.22e-20\n",
      "molecule = n2o\n",
      "ng_adju = [0, 0]\n",
      "ng_refs = [2, 2]\n",
      "nv = 1000\n",
      "option_compute_btable = 0\n",
      "option_compute_ktable = 0\n",
      "option_wgt_flux = 1\n",
      "option_wgt_k = 1\n",
      "ref_pts = [(1, 250), (500, 250)]\n",
      "tsfc = 300\n",
      "vmax = 1380\n",
      "vmin = 1215\n",
      "w_diffuse = [(1.8, 1.66), (1.6, 1.8)]\n",
      "wgt = [(0.6, 0.5), (0.6, 0.9)]\n"
     ]
    },
    {
     "data": {
      "text/html": [
       "<a id=\"Cooling_Rate_Profiles\"></a>"
      ],
      "text/plain": [
       "<IPython.core.display.HTML object>"
      ]
     },
     "metadata": {},
     "output_type": "display_data"
    },
    {
     "data": {
      "text/markdown": [
       "# Cooling Rate Profiles"
      ],
      "text/plain": [
       "<IPython.core.display.Markdown object>"
      ]
     },
     "metadata": {},
     "output_type": "display_data"
    },
    {
     "data": {
      "text/html": [
       "\n",
       "<div class=\"bk-root\">\n",
       "    <div class=\"bk-plotdiv\" id=\"bc1cd90a-9e9e-4976-bbe6-350f5a6d302c\"></div>\n",
       "</div>"
      ]
     },
     "metadata": {},
     "output_type": "display_data"
    },
    {
     "data": {
      "application/javascript": [
       "(function(root) {\n",
       "  function embed_document(root) {\n",
       "    \n",
       "  var docs_json = {\"7c5d64b7-f8c3-49c2-b90b-811ae9065d2a\":{\"roots\":{\"references\":[{\"attributes\":{\"dimension\":1,\"plot\":{\"id\":\"3677de45-87cc-489a-97c6-7991cfb2a25e\",\"subtype\":\"Figure\",\"type\":\"Plot\"},\"ticker\":{\"id\":\"0841b977-b789-49d3-95d8-5c868081fbca\",\"type\":\"LogTicker\"}},\"id\":\"ccc4582c-9808-46c3-9a35-de3987b9a471\",\"type\":\"Grid\"},{\"attributes\":{\"line_alpha\":0.6,\"line_color\":\"#984ea3\",\"line_width\":3,\"x\":{\"field\":\"x\"},\"y\":{\"field\":\"y\"}},\"id\":\"b9b2b5e8-1ff0-4ea7-bbc8-fcceb45c0081\",\"type\":\"Line\"},{\"attributes\":{\"source\":{\"id\":\"9aee5e31-c3ab-4420-988a-4af6fc22266a\",\"type\":\"ColumnDataSource\"}},\"id\":\"7e392c9f-fe71-4500-be49-08ac531cdcb6\",\"type\":\"CDSView\"},{\"attributes\":{\"axis_label\":\"pressure [mb]\",\"formatter\":{\"id\":\"b20e9739-50ea-4cad-a986-e8cd4991b90a\",\"type\":\"LogTickFormatter\"},\"plot\":{\"id\":\"3677de45-87cc-489a-97c6-7991cfb2a25e\",\"subtype\":\"Figure\",\"type\":\"Plot\"},\"ticker\":{\"id\":\"0841b977-b789-49d3-95d8-5c868081fbca\",\"type\":\"LogTicker\"}},\"id\":\"e020c69d-2319-461b-9901-b00aae26cba3\",\"type\":\"LogAxis\"},{\"attributes\":{\"bottom_units\":\"screen\",\"fill_alpha\":{\"value\":0.5},\"fill_color\":{\"value\":\"lightgrey\"},\"left_units\":\"screen\",\"level\":\"overlay\",\"line_alpha\":{\"value\":1.0},\"line_color\":{\"value\":\"black\"},\"line_dash\":[4,4],\"line_width\":{\"value\":2},\"plot\":null,\"render_mode\":\"css\",\"right_units\":\"screen\",\"top_units\":\"screen\"},\"id\":\"2a44b076-12ee-4cf2-b2b2-50ca653d2147\",\"type\":\"BoxAnnotation\"},{\"attributes\":{},\"id\":\"223859a7-0950-419f-88f9-c8ec0e6c6910\",\"type\":\"UnionRenderers\"},{\"attributes\":{\"line_alpha\":0.1,\"line_color\":\"#1f77b4\",\"line_dash\":[6],\"line_width\":5,\"x\":{\"field\":\"x\"},\"y\":{\"field\":\"y\"}},\"id\":\"3c3305ab-7622-40a2-b369-e3e4d782ac75\",\"type\":\"Line\"},{\"attributes\":{\"callback\":null,\"data\":{\"x\":{\"__ndarray__\":\"uRAvXwjyib8hxurKA4yJv/HmHbG8uYi/PRy1V97eh7/BVzhubPyGv7YV5JH2GIa/tp7FU6gwhb/YgypWnEWEv1wASmZXXoO/mkxaB6GEgr9FvYKIE56Bv42OBTD0nIC/LWIkcLNxf7/xbtHk6y19v8z9VR3e2XO/nyna2oi9Qj9+/Kfbt+WAP8zsWnLmFZI/6hwtf3fMnT/VESOvfvilPz1NxTL+dK4/L6+KJTPEsz/kn3WyikO1Pz4S4AgTRbM/t8i6kn0ksD+2MCtLmtKoP8tOwMYjEaI/kCs/5jz9mD9RWiPMFBiQP7d8Q0iIUoI/8QWyni5jbj/vcgnGdbhBv+yWyqgKHHK/83Q4ym6vgb/4Ojd7tuSNv9IfaK3yiZa/MOcUi/j6nL8SpPzrrzOgv0lFDMgRvKC/Vy5YSSsHob/oflfX6xWhvzQuw0+B66C/1kTgPcCJoL9YH0RvR/GfvwnpX+gpep6/XN7ALuq4nL8XDwwpPrCav9KFDfOdapi/0BppdrXrlb/gT0E1QzaTvxV7HW3rUpC/k8iA+hGEir/1rqvr5RCEv8Rch/DMoHq/KVWZ/osPab8xqERxq+dAP3oEkeYDUnE/g8ZLk8aFgD+8blqDsZ2IP5AA2KsNcpA/ceC3MpqPlD9T7PENSGyYPwfks+OJuJs/aaXPpF5Vnj8oOFEB0EOgP4Zqzl/sY6E/e3ScsDC5oj9TvvzuYlSkP3MI+YTmKaY/KNKnEQMlqD/33sumSTqqP4LP47+pY6w/CoAglkSgrj/EXBXH/niwP60wv0Atr7E/\",\"dtype\":\"float64\",\"shape\":[75]},\"y\":{\"__ndarray__\":\"GhExyth1ND/Sv8nbtpRIP2vylNV0PVE/aTum7souWD/At0SJ8fVgPw3Iuahxymc/MSNhhJWvcD/bTfBN02d3P2zb5nxnaoA/CD5h5MAGhz8NmeH1TyaQP+zrCsc9p5Y/LbKd76fGnz/bLW5ISEmmPww9YvTcQq8/JV2OstnstT8Er5Y7M8G+P0c+r3jqkcU/5h99k6ZBzj88bCIzFzjVP4enV8oyxN0//yH99nXg5D8qOpLLf0jtP5kqGJXUifQ/c9cS8kHP/D+/DpwzojQEQIEmwoanVwxA4lgXt9HgE0BSSZ2AJuIbQAMJih9jjiNA5q4l5INuK0AwTKYKRj0zQNv5fmq8/DpAaCJseHrtQkB/+zpwzoxKQM3MzMzMeFJAZmZmZmZqWEAAAAAAAFxeQM3MzMzMJmJAmpmZmZkfZUBmZmZmZhhoQDMzMzMzEWtAAAAAAAAKbkBmZmZmZoFwQM3MzMzM/XFAMzMzMzN6c0CamZmZmfZ0QAAAAAAAc3ZAZmZmZmbvd0DNzMzMzGt5QDMzMzMz6HpAmpmZmZlkfEAAAAAAAOF9QGZmZmZmXX9AZmZmZuZsgECamZmZGSuBQM3MzMxM6YFAAAAAAICngkAzMzMzs2WDQGZmZmbmI4RAmpmZmRnihEDNzMzMTKCFQAAAAACAXoZAMzMzM7Mch0BmZmZm5tqHQJqZmZkZmYhAzczMzExXiUAAAAAAgBWKQDMzMzOz04pAZmZmZuaRi0CamZmZGVCMQM3MzMxMDo1AAAAAAIDMjUAzMzMzs4qOQGZmZmbmSI9A\",\"dtype\":\"float64\",\"shape\":[75]}},\"selected\":{\"id\":\"cf669701-df9b-4a93-acac-cc69adc3b07a\",\"type\":\"Selection\"},\"selection_policy\":{\"id\":\"afa727fb-8b2a-4a8a-8512-f9c0adb4b5d1\",\"type\":\"UnionRenderers\"}},\"id\":\"49d05678-4eb5-4647-b496-df990786203d\",\"type\":\"ColumnDataSource\"},{\"attributes\":{\"num_minor_ticks\":10},\"id\":\"0841b977-b789-49d3-95d8-5c868081fbca\",\"type\":\"LogTicker\"},{\"attributes\":{},\"id\":\"41bf443b-1a96-4e07-892f-90ede91f2e11\",\"type\":\"SaveTool\"},{\"attributes\":{\"data_source\":{\"id\":\"f8b5957e-3687-4041-8315-66ea256e74b1\",\"type\":\"ColumnDataSource\"},\"glyph\":{\"id\":\"f978eb51-2506-49ae-80ce-89bfa4c3e87a\",\"type\":\"Line\"},\"hover_glyph\":null,\"muted_glyph\":null,\"nonselection_glyph\":{\"id\":\"3c3305ab-7622-40a2-b369-e3e4d782ac75\",\"type\":\"Line\"},\"selection_glyph\":null,\"view\":{\"id\":\"102cd297-accb-483b-8668-f6ef97bb9f3e\",\"type\":\"CDSView\"}},\"id\":\"72800661-fa31-4488-b2ca-98510ed21feb\",\"type\":\"GlyphRenderer\"},{\"attributes\":{},\"id\":\"3c577aaf-c602-49c0-bee2-3aa5ec5ebc96\",\"type\":\"HelpTool\"},{\"attributes\":{},\"id\":\"7485c2ef-0580-4841-94dd-24ab357e124f\",\"type\":\"ResetTool\"},{\"attributes\":{},\"id\":\"a8566e43-ba9e-4dd6-951d-c84e696b2314\",\"type\":\"WheelZoomTool\"},{\"attributes\":{\"plot\":{\"id\":\"3677de45-87cc-489a-97c6-7991cfb2a25e\",\"subtype\":\"Figure\",\"type\":\"Plot\"},\"ticker\":{\"id\":\"fb086701-bd79-4ff9-aa5c-f02c59a50e8b\",\"type\":\"BasicTicker\"}},\"id\":\"72fb7d63-b6a5-4c99-8d3b-ba67e92a567c\",\"type\":\"Grid\"},{\"attributes\":{\"callback\":null,\"data\":{\"x\":{\"__ndarray__\":\"Fd9qA1JHgr+DQZTW+PiBv1OGJzysJYG/pe5ilMJggL9LzmMt8i1/v8p/gGnckX2/sbtvppHwe780oJ/fN0J6vwMsk1VhkHi/IXpWusnUdr8LHkAtaBR1v7uhtC2GT3O//E85COyBcb9VwxLYomFuv2C5Zrps91i/dHY3OiOdbD+102IyTb+FP9YF4pNT3ZM/vmlQ7TnUnj+mmTVL3g2mPz2yy01aDK4/YbTqGv1Nsz+QjHd1/tW0PxMy8NnDKbM/fEG6wRhdsD99PO8k9MOpP2lroqEPLqM/q13tCnj3mj/AsfDAw16RP9obo036KIM/3Aa9UCOhaz+QQc6Cp0xVv6GnpDbIl3W/mB1dwuwgg7//dmKhmdGOv0fdheg7uJa/mJnjJrT2nL+i39hioDOgv2UDDyp21qC/4IBArqcyob9KEia6nlChv+uESVFkNqG/JdMdm0/joL9HXnhTAV+gvzXdx95GW5+/BkfE8rmjnb8Pz8uOeKWbv20mxRhvY5m/U6lYg5fjlr9rMajRDCuUv6LlBmQrP5G/ULKsZmNGjL/eGaq4KraFvxXFnaZlmH2/i0uQ87Bnbr8qi9KRmJEKv+JeHIJKqG4/wQHMfFBefz8TJwkf0O2HP1qvpSREKZA/1UQbV45WlD8PFeq2MkuYP/ZVKaW2wJs/3+htsJOhnj8cIMbbspKgPxyjVkd32KE/F0tPYFNKoz8GsquEf/WkPy5sCrp2z6Y/ZVeADY3JqD9ApExbPdaqPw84EGeF76w/wndWY+0Vrz8tX3uMEKOwP3VE3KEDwLE/\",\"dtype\":\"float64\",\"shape\":[75]},\"y\":{\"__ndarray__\":\"S/O/Q+51ND/Sv8nbtpRIP2vylNV0PVE/aTum7souWD/At0SJ8fVgPw3Iuahxymc/MSNhhJWvcD/bTfBN02d3P2zb5nxnaoA/CD5h5MAGhz8NmeH1TyaQP+zrCsc9p5Y/LbKd76fGnz/bLW5ISEmmPww9YvTcQq8/JV2OstnstT8Er5Y7M8G+P0c+r3jqkcU/5h99k6ZBzj88bCIzFzjVP4enV8oyxN0//yH99nXg5D8qOpLLf0jtP5kqGJXUifQ/c9cS8kHP/D+/DpwzojQEQIEmwoanVwxA4lgXt9HgE0BSSZ2AJuIbQAMJih9jjiNA5q4l5INuK0AwTKYKRj0zQNv5fmq8/DpAaCJseHrtQkB/+zpwzoxKQM3MzMzMeFJAZmZmZmZqWEAAAAAAAFxeQM3MzMzMJmJAmpmZmZkfZUBmZmZmZhhoQDMzMzMzEWtAAAAAAAAKbkBmZmZmZoFwQM3MzMzM/XFAMzMzMzN6c0CamZmZmfZ0QAAAAAAAc3ZAZmZmZmbvd0DNzMzMzGt5QDMzMzMz6HpAmpmZmZlkfEAAAAAAAOF9QGZmZmZmXX9AZmZmZuZsgECamZmZGSuBQM3MzMxM6YFAAAAAAICngkAzMzMzs2WDQGZmZmbmI4RAmpmZmRnihEDNzMzMTKCFQAAAAACAXoZAMzMzM7Mch0BmZmZm5tqHQJqZmZkZmYhAzczMzExXiUAAAAAAgBWKQDMzMzOz04pAZmZmZuaRi0CamZmZGVCMQM3MzMxMDo1AAAAAAIDMjUAzMzMzs4qOQGZmZmbmSI9A\",\"dtype\":\"float64\",\"shape\":[75]}},\"selected\":{\"id\":\"5293908f-92cf-4125-9ba7-44077cbb6abe\",\"type\":\"Selection\"},\"selection_policy\":{\"id\":\"20be0a56-e04b-4d14-ae8c-f9b83e93096e\",\"type\":\"UnionRenderers\"}},\"id\":\"f8b5957e-3687-4041-8315-66ea256e74b1\",\"type\":\"ColumnDataSource\"},{\"attributes\":{\"fill_alpha\":{\"value\":0.1},\"fill_color\":{\"value\":\"#1f77b4\"},\"line_alpha\":{\"value\":0.1},\"line_color\":{\"value\":\"#1f77b4\"},\"x\":{\"field\":\"x\"},\"y\":{\"field\":\"y\"}},\"id\":\"7fd240cf-72b4-4ee0-9d47-d562f21e5ce8\",\"type\":\"Square\"},{\"attributes\":{\"overlay\":{\"id\":\"2a44b076-12ee-4cf2-b2b2-50ca653d2147\",\"type\":\"BoxAnnotation\"}},\"id\":\"f442b6f4-6be8-4ffb-9380-deff14e8b9a7\",\"type\":\"BoxZoomTool\"},{\"attributes\":{\"plot\":null,\"text\":\"Log pressure scale\"},\"id\":\"1ce8787b-f1b9-428b-ba9b-532218d52d12\",\"type\":\"Title\"},{\"attributes\":{\"line_alpha\":0.1,\"line_color\":\"#1f77b4\",\"line_dash\":[6],\"line_width\":5,\"x\":{\"field\":\"x\"},\"y\":{\"field\":\"y\"}},\"id\":\"19ba86ea-699d-4a2f-bd6e-682c24579f7e\",\"type\":\"Line\"},{\"attributes\":{\"data_source\":{\"id\":\"6709e3a7-0360-4680-b046-72c0ada4857b\",\"type\":\"ColumnDataSource\"},\"glyph\":{\"id\":\"e3f58ece-7b89-4689-a934-2a4fa811171e\",\"type\":\"Square\"},\"hover_glyph\":null,\"muted_glyph\":null,\"nonselection_glyph\":{\"id\":\"7fd240cf-72b4-4ee0-9d47-d562f21e5ce8\",\"type\":\"Square\"},\"selection_glyph\":null,\"view\":{\"id\":\"416639a4-e73a-4693-9544-2de6d2111713\",\"type\":\"CDSView\"}},\"id\":\"d41af470-d7d8-4a4f-811d-f9937f356e8c\",\"type\":\"GlyphRenderer\"},{\"attributes\":{\"callback\":null,\"end\":0.08780948457,\"start\":-0.03502244157},\"id\":\"be83722e-ce3e-4326-94dd-854fbab7719c\",\"type\":\"Range1d\"},{\"attributes\":{},\"id\":\"e3aaaa10-9cfd-4f35-b9d5-7264d3436c24\",\"type\":\"LinearScale\"},{\"attributes\":{\"axis_label\":\"cooling rate [K/day]\",\"formatter\":{\"id\":\"6a29a4db-2397-447c-84e7-4443dca0a464\",\"type\":\"BasicTickFormatter\"},\"plot\":{\"id\":\"3677de45-87cc-489a-97c6-7991cfb2a25e\",\"subtype\":\"Figure\",\"type\":\"Plot\"},\"ticker\":{\"id\":\"fb086701-bd79-4ff9-aa5c-f02c59a50e8b\",\"type\":\"BasicTicker\"}},\"id\":\"8c8a95df-47d5-44aa-bf64-29643bf51c01\",\"type\":\"LinearAxis\"},{\"attributes\":{\"items\":[{\"id\":\"3d22a895-7bb7-4f0d-bb15-73eb093ee42d\",\"type\":\"LegendItem\"},{\"id\":\"25ea3dd1-870a-4e6b-a202-ddcf7a205654\",\"type\":\"LegendItem\"},{\"id\":\"1bbe4c64-9fc2-48cd-ab21-a6f1714923e9\",\"type\":\"LegendItem\"}],\"label_text_font_size\":{\"value\":\"8pt\"},\"location\":[10,-30],\"plot\":{\"id\":\"3677de45-87cc-489a-97c6-7991cfb2a25e\",\"subtype\":\"Figure\",\"type\":\"Plot\"}},\"id\":\"216405ee-ee89-4455-b9f5-fd9933383e21\",\"type\":\"Legend\"},{\"attributes\":{},\"id\":\"fb086701-bd79-4ff9-aa5c-f02c59a50e8b\",\"type\":\"BasicTicker\"},{\"attributes\":{},\"id\":\"8cf5f0bf-d4d3-4429-8b9a-7c7aee980a73\",\"type\":\"PanTool\"},{\"attributes\":{\"callback\":null,\"end\":0.01,\"start\":1020},\"id\":\"06173d32-96d9-4149-bf6e-dec824d77829\",\"type\":\"Range1d\"},{\"attributes\":{\"active_drag\":\"auto\",\"active_inspect\":\"auto\",\"active_scroll\":\"auto\",\"active_tap\":\"auto\",\"tools\":[{\"id\":\"8cf5f0bf-d4d3-4429-8b9a-7c7aee980a73\",\"type\":\"PanTool\"},{\"id\":\"a8566e43-ba9e-4dd6-951d-c84e696b2314\",\"type\":\"WheelZoomTool\"},{\"id\":\"f442b6f4-6be8-4ffb-9380-deff14e8b9a7\",\"type\":\"BoxZoomTool\"},{\"id\":\"41bf443b-1a96-4e07-892f-90ede91f2e11\",\"type\":\"SaveTool\"},{\"id\":\"7485c2ef-0580-4841-94dd-24ab357e124f\",\"type\":\"ResetTool\"},{\"id\":\"3c577aaf-c602-49c0-bee2-3aa5ec5ebc96\",\"type\":\"HelpTool\"}]},\"id\":\"17834809-c5c3-483f-87ee-4a8a1172730c\",\"type\":\"Toolbar\"},{\"attributes\":{\"line_alpha\":0.6,\"line_color\":\"#e41a1c\",\"line_dash\":[6],\"line_width\":5,\"x\":{\"field\":\"x\"},\"y\":{\"field\":\"y\"}},\"id\":\"f978eb51-2506-49ae-80ce-89bfa4c3e87a\",\"type\":\"Line\"},{\"attributes\":{\"source\":{\"id\":\"6709e3a7-0360-4680-b046-72c0ada4857b\",\"type\":\"ColumnDataSource\"}},\"id\":\"416639a4-e73a-4693-9544-2de6d2111713\",\"type\":\"CDSView\"},{\"attributes\":{},\"id\":\"afa727fb-8b2a-4a8a-8512-f9c0adb4b5d1\",\"type\":\"UnionRenderers\"},{\"attributes\":{\"data_source\":{\"id\":\"6e779b6b-86af-43ce-82d8-0ca464d377d3\",\"type\":\"ColumnDataSource\"},\"glyph\":{\"id\":\"a70c8505-5e0b-4ee1-b4f9-949fe711c698\",\"type\":\"Circle\"},\"hover_glyph\":null,\"muted_glyph\":null,\"nonselection_glyph\":{\"id\":\"16136183-3f3a-44a4-9115-f9794603fe5a\",\"type\":\"Circle\"},\"selection_glyph\":null,\"view\":{\"id\":\"925799c1-a241-4046-858f-0862b90e842b\",\"type\":\"CDSView\"}},\"id\":\"ecf55b76-d212-4415-ab7f-aefdbad2ddb8\",\"type\":\"GlyphRenderer\"},{\"attributes\":{\"tools\":[{\"id\":\"c8463bf3-1d25-45c0-9c17-3ccd66d90774\",\"type\":\"PanTool\"},{\"id\":\"3b72369f-554f-4794-b87b-6eb10ebcb54c\",\"type\":\"WheelZoomTool\"},{\"id\":\"341fabb3-cc60-4ceb-916e-033c799f58b6\",\"type\":\"BoxZoomTool\"},{\"id\":\"d6507b3e-4e57-40a1-a1e9-cabda66cda6a\",\"type\":\"SaveTool\"},{\"id\":\"6df13ca4-534f-46f3-8f88-a59e614d6423\",\"type\":\"ResetTool\"},{\"id\":\"5c5e9a00-2907-4d0b-a5be-525a78d855b0\",\"type\":\"HelpTool\"},{\"id\":\"8cf5f0bf-d4d3-4429-8b9a-7c7aee980a73\",\"type\":\"PanTool\"},{\"id\":\"a8566e43-ba9e-4dd6-951d-c84e696b2314\",\"type\":\"WheelZoomTool\"},{\"id\":\"f442b6f4-6be8-4ffb-9380-deff14e8b9a7\",\"type\":\"BoxZoomTool\"},{\"id\":\"41bf443b-1a96-4e07-892f-90ede91f2e11\",\"type\":\"SaveTool\"},{\"id\":\"7485c2ef-0580-4841-94dd-24ab357e124f\",\"type\":\"ResetTool\"},{\"id\":\"3c577aaf-c602-49c0-bee2-3aa5ec5ebc96\",\"type\":\"HelpTool\"}]},\"id\":\"4cb20b8b-472b-4ed4-a5b5-5b0e0e82bd08\",\"type\":\"ProxyToolbar\"},{\"attributes\":{},\"id\":\"5c5e9a00-2907-4d0b-a5be-525a78d855b0\",\"type\":\"HelpTool\"},{\"attributes\":{\"toolbar\":{\"id\":\"4cb20b8b-472b-4ed4-a5b5-5b0e0e82bd08\",\"type\":\"ProxyToolbar\"},\"toolbar_location\":\"above\"},\"id\":\"e289c8bb-d7fa-4fce-86f4-3d68408ce9e7\",\"type\":\"ToolbarBox\"},{\"attributes\":{\"source\":{\"id\":\"752d449e-d685-4896-b204-6cc6229744fe\",\"type\":\"ColumnDataSource\"}},\"id\":\"cfa45554-3a0d-436c-a6ea-aa8c53dd0512\",\"type\":\"CDSView\"},{\"attributes\":{\"children\":[{\"id\":\"e289c8bb-d7fa-4fce-86f4-3d68408ce9e7\",\"type\":\"ToolbarBox\"},{\"id\":\"64e6a933-0aed-444c-b0cf-ba8608ba6235\",\"type\":\"Column\"}]},\"id\":\"6619da0f-1f50-464a-bdc3-eef8e7c856bc\",\"type\":\"Column\"},{\"attributes\":{\"bottom_units\":\"screen\",\"fill_alpha\":{\"value\":0.5},\"fill_color\":{\"value\":\"lightgrey\"},\"left_units\":\"screen\",\"level\":\"overlay\",\"line_alpha\":{\"value\":1.0},\"line_color\":{\"value\":\"black\"},\"line_dash\":[4,4],\"line_width\":{\"value\":2},\"plot\":null,\"render_mode\":\"css\",\"right_units\":\"screen\",\"top_units\":\"screen\"},\"id\":\"4ecde6fa-4be2-4b3a-90ac-c8bef90b28e8\",\"type\":\"BoxAnnotation\"},{\"attributes\":{\"data_source\":{\"id\":\"9aee5e31-c3ab-4420-988a-4af6fc22266a\",\"type\":\"ColumnDataSource\"},\"glyph\":{\"id\":\"33396615-58b4-4d3d-b9a0-3194ee948197\",\"type\":\"Line\"},\"hover_glyph\":null,\"muted_glyph\":null,\"nonselection_glyph\":{\"id\":\"3f8dfd49-a802-464c-ab22-6caf17297a03\",\"type\":\"Line\"},\"selection_glyph\":null,\"view\":{\"id\":\"7e392c9f-fe71-4500-be49-08ac531cdcb6\",\"type\":\"CDSView\"}},\"id\":\"145bc5c6-fcfc-426f-bfd9-e28027bd5fae\",\"type\":\"GlyphRenderer\"},{\"attributes\":{\"line_color\":\"#4daf4a\",\"line_width\":1.5,\"x\":{\"field\":\"x\"},\"y\":{\"field\":\"y\"}},\"id\":\"ad234bd8-1019-49de-b89f-37e7d5c136ad\",\"type\":\"Line\"},{\"attributes\":{\"below\":[{\"id\":\"eb5f221c-0a00-40ac-a873-ca45f3811b5b\",\"type\":\"LinearAxis\"}],\"left\":[{\"id\":\"da46f935-25d2-44e0-b2b3-bd47dbbfe0c8\",\"type\":\"LinearAxis\"}],\"plot_height\":500,\"plot_width\":400,\"renderers\":[{\"id\":\"eb5f221c-0a00-40ac-a873-ca45f3811b5b\",\"type\":\"LinearAxis\"},{\"id\":\"354b2cbe-ae47-469d-8531-61584a35411d\",\"type\":\"Grid\"},{\"id\":\"da46f935-25d2-44e0-b2b3-bd47dbbfe0c8\",\"type\":\"LinearAxis\"},{\"id\":\"66b6d85d-ddf6-4103-9d31-1822182586df\",\"type\":\"Grid\"},{\"id\":\"4ecde6fa-4be2-4b3a-90ac-c8bef90b28e8\",\"type\":\"BoxAnnotation\"},{\"id\":\"d125cbf2-02fd-43c7-8d11-4235417d4d74\",\"type\":\"GlyphRenderer\"},{\"id\":\"ecf55b76-d212-4415-ab7f-aefdbad2ddb8\",\"type\":\"GlyphRenderer\"},{\"id\":\"378197f6-6076-407a-9a7a-f742092efd34\",\"type\":\"GlyphRenderer\"},{\"id\":\"014104f3-cb0d-4db2-a577-330853e1c57b\",\"type\":\"GlyphRenderer\"},{\"id\":\"145bc5c6-fcfc-426f-bfd9-e28027bd5fae\",\"type\":\"GlyphRenderer\"}],\"title\":{\"id\":\"825c9c2c-78df-4487-afb1-a6cffce09146\",\"type\":\"Title\"},\"toolbar\":{\"id\":\"ea71a55c-8fab-4687-9636-48cf5eb91b53\",\"type\":\"Toolbar\"},\"toolbar_location\":null,\"x_range\":{\"id\":\"95a1c7dd-790a-455a-b426-0708b366bbb1\",\"type\":\"Range1d\"},\"x_scale\":{\"id\":\"321e919c-bf69-4733-92a7-339463889d93\",\"type\":\"LinearScale\"},\"y_range\":{\"id\":\"06173d32-96d9-4149-bf6e-dec824d77829\",\"type\":\"Range1d\"},\"y_scale\":{\"id\":\"481bc00e-434e-4acc-b91d-11b427224144\",\"type\":\"LinearScale\"}},\"id\":\"67f8d942-892f-42fc-b4f7-31f9b7d37279\",\"subtype\":\"Figure\",\"type\":\"Plot\"},{\"attributes\":{\"plot\":null,\"text\":\"Linear pressure scale\"},\"id\":\"825c9c2c-78df-4487-afb1-a6cffce09146\",\"type\":\"Title\"},{\"attributes\":{},\"id\":\"6b1e346f-7ad2-41d2-b070-52e377088636\",\"type\":\"BasicTicker\"},{\"attributes\":{\"data_source\":{\"id\":\"752d449e-d685-4896-b204-6cc6229744fe\",\"type\":\"ColumnDataSource\"},\"glyph\":{\"id\":\"3fdabd5b-cddf-4d52-ac69-552d91468f96\",\"type\":\"Circle\"},\"hover_glyph\":null,\"muted_glyph\":null,\"nonselection_glyph\":{\"id\":\"0312c7ed-5aa3-4eec-8ab2-90e4093dc92b\",\"type\":\"Circle\"},\"selection_glyph\":null,\"view\":{\"id\":\"cfa45554-3a0d-436c-a6ea-aa8c53dd0512\",\"type\":\"CDSView\"}},\"id\":\"2c50fb7d-6b9e-4d1c-b9c3-aa4031a3fec1\",\"type\":\"GlyphRenderer\"},{\"attributes\":{\"line_color\":\"#4daf4a\",\"line_width\":1.5,\"x\":{\"field\":\"x\"},\"y\":{\"field\":\"y\"}},\"id\":\"a5022441-0b35-4bd9-86cb-863f7c235df0\",\"type\":\"Line\"},{\"attributes\":{},\"id\":\"34eade19-451d-4c36-8915-6d7a0484ae79\",\"type\":\"BasicTickFormatter\"},{\"attributes\":{},\"id\":\"505517d5-4e59-482b-8467-01786f7352a7\",\"type\":\"LogScale\"},{\"attributes\":{\"source\":{\"id\":\"2ba3c0a2-eece-48a5-9cb8-8f8f79a4fa9b\",\"type\":\"ColumnDataSource\"}},\"id\":\"c1cd956d-6e25-4820-beed-f97aa1f1e81e\",\"type\":\"CDSView\"},{\"attributes\":{\"source\":{\"id\":\"f8b5957e-3687-4041-8315-66ea256e74b1\",\"type\":\"ColumnDataSource\"}},\"id\":\"102cd297-accb-483b-8668-f6ef97bb9f3e\",\"type\":\"CDSView\"},{\"attributes\":{\"fill_alpha\":{\"value\":0.1},\"fill_color\":{\"value\":\"#1f77b4\"},\"line_alpha\":{\"value\":0.1},\"line_color\":{\"value\":\"#1f77b4\"},\"x\":{\"field\":\"x\"},\"y\":{\"field\":\"y\"}},\"id\":\"0312c7ed-5aa3-4eec-8ab2-90e4093dc92b\",\"type\":\"Circle\"},{\"attributes\":{\"below\":[{\"id\":\"8c8a95df-47d5-44aa-bf64-29643bf51c01\",\"type\":\"LinearAxis\"}],\"left\":[{\"id\":\"e020c69d-2319-461b-9901-b00aae26cba3\",\"type\":\"LogAxis\"}],\"plot_height\":500,\"plot_width\":560,\"renderers\":[{\"id\":\"8c8a95df-47d5-44aa-bf64-29643bf51c01\",\"type\":\"LinearAxis\"},{\"id\":\"72fb7d63-b6a5-4c99-8d3b-ba67e92a567c\",\"type\":\"Grid\"},{\"id\":\"e020c69d-2319-461b-9901-b00aae26cba3\",\"type\":\"LogAxis\"},{\"id\":\"ccc4582c-9808-46c3-9a35-de3987b9a471\",\"type\":\"Grid\"},{\"id\":\"2a44b076-12ee-4cf2-b2b2-50ca653d2147\",\"type\":\"BoxAnnotation\"},{\"id\":\"72800661-fa31-4488-b2ca-98510ed21feb\",\"type\":\"GlyphRenderer\"},{\"id\":\"2c50fb7d-6b9e-4d1c-b9c3-aa4031a3fec1\",\"type\":\"GlyphRenderer\"},{\"id\":\"3e93aa37-6780-4d5a-81d2-580af7193695\",\"type\":\"GlyphRenderer\"},{\"id\":\"d41af470-d7d8-4a4f-811d-f9937f356e8c\",\"type\":\"GlyphRenderer\"},{\"id\":\"b7f4f75c-a5ea-4b77-8411-6a8b3feea69a\",\"type\":\"GlyphRenderer\"},{\"id\":\"216405ee-ee89-4455-b9f5-fd9933383e21\",\"type\":\"Legend\"}],\"right\":[{\"id\":\"216405ee-ee89-4455-b9f5-fd9933383e21\",\"type\":\"Legend\"}],\"title\":{\"id\":\"1ce8787b-f1b9-428b-ba9b-532218d52d12\",\"type\":\"Title\"},\"toolbar\":{\"id\":\"17834809-c5c3-483f-87ee-4a8a1172730c\",\"type\":\"Toolbar\"},\"toolbar_location\":null,\"x_range\":{\"id\":\"be83722e-ce3e-4326-94dd-854fbab7719c\",\"type\":\"Range1d\"},\"x_scale\":{\"id\":\"e3aaaa10-9cfd-4f35-b9d5-7264d3436c24\",\"type\":\"LinearScale\"},\"y_range\":{\"id\":\"c2e77919-78af-4a0f-9ddd-0fc419f23fc6\",\"type\":\"Range1d\"},\"y_scale\":{\"id\":\"505517d5-4e59-482b-8467-01786f7352a7\",\"type\":\"LogScale\"}},\"id\":\"3677de45-87cc-489a-97c6-7991cfb2a25e\",\"subtype\":\"Figure\",\"type\":\"Plot\"},{\"attributes\":{\"data_source\":{\"id\":\"49d05678-4eb5-4647-b496-df990786203d\",\"type\":\"ColumnDataSource\"},\"glyph\":{\"id\":\"b9b2b5e8-1ff0-4ea7-bbc8-fcceb45c0081\",\"type\":\"Line\"},\"hover_glyph\":null,\"muted_glyph\":null,\"nonselection_glyph\":{\"id\":\"c43ec468-bc7e-40a6-aa53-45723655adb1\",\"type\":\"Line\"},\"selection_glyph\":null,\"view\":{\"id\":\"f728ed87-8317-4ed7-a981-0d177f759bd9\",\"type\":\"CDSView\"}},\"id\":\"b7f4f75c-a5ea-4b77-8411-6a8b3feea69a\",\"type\":\"GlyphRenderer\"},{\"attributes\":{\"callback\":null,\"data\":{\"x\":{\"__ndarray__\":\"o0g22E2JoL8vOCCVpGOgvwbB/HhcEqC/00jhAE59n7/Hn/mzV9Oev3UUhzZ3KZ6/ReSYhaaHnb8AlYUKaeicv6vuY5VqUJy/qGsJ09nEm78LdTAZyUmbv/PuwOck55q//w7VLIGomr8VbgssBmOav+GnHidUiZe//UsnGQYakL+hoXh/hxx2v8RdbEONjnw/6VKq5GYvlj93z5PIxAGkP84hVYYEm64/FPSs3sDotD+Kcmn8wiu2PxU7cIezxrI/HmbwdgvErD9xMp/jC6mjP7byYsazgpk/rrlN/yxykD96YTBUBXCFP1AB9YRz9ns/qfl0PdTkcD/LXXMiFC9cPxrh2q5gKEe/LWEyc8+ja7/+5hX1qIR/v13hUATgu4u/YP77bf5Ik7/8w2EsfS+Wv4PIGtxz7Ja/Sela+h6Vl7/tt96FmfWXvyyYvvgeBZi/j26lUy6/l7/n1gZPai2Xv4a2gvdsVZa/HfO4qhc8lb8VPWz5s+WTvzuwnaEYVpK/WM6P05iPkL9L2f6ivyiNv15Cib+7z4i/0ojRJ30XhL9gHb/nawV+v9WtjPlBJXO/FCHRYrI6Xr+YLd5yqvpSP9t85FUkxnE/poHrvuaLfz9iFeZywASHP91oalMhkI4/6Gsu6NEVkz8cob3/MaKWPydzwVOnh5k/PteMRh2hmz8Ks4I/+USdP/pEBgjSBJ8/6brwg/OpoD9M75RuSCyiP3gJ/TUh+aM/KVEfFqT4pT9jdPKChRyoPxuHL1CoYKo/nLjiA7fFrD8QNSAueFKvPwndFkYpCrE/\",\"dtype\":\"float64\",\"shape\":[75]},\"y\":{\"__ndarray__\":\"GhExyth1ND/Sv8nbtpRIP2vylNV0PVE/aTum7souWD/At0SJ8fVgPw3Iuahxymc/MSNhhJWvcD/bTfBN02d3P2zb5nxnaoA/CD5h5MAGhz8NmeH1TyaQP+zrCsc9p5Y/LbKd76fGnz/bLW5ISEmmPww9YvTcQq8/JV2OstnstT8Er5Y7M8G+P0c+r3jqkcU/5h99k6ZBzj88bCIzFzjVP4enV8oyxN0//yH99nXg5D8qOpLLf0jtP5kqGJXUifQ/c9cS8kHP/D+/DpwzojQEQIEmwoanVwxA4lgXt9HgE0BSSZ2AJuIbQAMJih9jjiNA5q4l5INuK0AwTKYKRj0zQNv5fmq8/DpAaCJseHrtQkB/+zpwzoxKQM3MzMzMeFJAZmZmZmZqWEAAAAAAAFxeQM3MzMzMJmJAmpmZmZkfZUBmZmZmZhhoQDMzMzMzEWtAAAAAAAAKbkBmZmZmZoFwQM3MzMzM/XFAMzMzMzN6c0CamZmZmfZ0QAAAAAAAc3ZAZmZmZmbvd0DNzMzMzGt5QDMzMzMz6HpAmpmZmZlkfEAAAAAAAOF9QGZmZmZmXX9AZmZmZuZsgECamZmZGSuBQM3MzMxM6YFAAAAAAICngkAzMzMzs2WDQGZmZmbmI4RAmpmZmRnihEDNzMzMTKCFQAAAAACAXoZAMzMzM7Mch0BmZmZm5tqHQJqZmZkZmYhAzczMzExXiUAAAAAAgBWKQDMzMzOz04pAZmZmZuaRi0CamZmZGVCMQM3MzMxMDo1AAAAAAIDMjUAzMzMzs4qOQGZmZmbmSI9A\",\"dtype\":\"float64\",\"shape\":[75]}},\"selected\":{\"id\":\"6fdfcc18-63e2-4ac6-8af7-3d838585ce81\",\"type\":\"Selection\"},\"selection_policy\":{\"id\":\"5e63e7b2-319d-42cd-977b-d3fe03a4c7b8\",\"type\":\"UnionRenderers\"}},\"id\":\"1cd8309b-ef5e-4b91-ac5d-996a4527c859\",\"type\":\"ColumnDataSource\"},{\"attributes\":{\"fill_alpha\":{\"value\":0.1},\"fill_color\":{\"value\":\"#1f77b4\"},\"line_alpha\":{\"value\":0.1},\"line_color\":{\"value\":\"#1f77b4\"},\"x\":{\"field\":\"x\"},\"y\":{\"field\":\"y\"}},\"id\":\"c091c722-f16a-4912-bee4-e4260d0d561f\",\"type\":\"Square\"},{\"attributes\":{},\"id\":\"3b72369f-554f-4794-b87b-6eb10ebcb54c\",\"type\":\"WheelZoomTool\"},{\"attributes\":{\"callback\":null,\"data\":{\"x\":{\"__ndarray__\":\"o0g22E2JoL8vOCCVpGOgvwbB/HhcEqC/00jhAE59n7/Hn/mzV9Oev3UUhzZ3KZ6/ReSYhaaHnb8AlYUKaeicv6vuY5VqUJy/qGsJ09nEm78LdTAZyUmbv/PuwOck55q//w7VLIGomr8VbgssBmOav+GnHidUiZe//UsnGQYakL+hoXh/hxx2v8RdbEONjnw/6VKq5GYvlj93z5PIxAGkP84hVYYEm64/FPSs3sDotD+Kcmn8wiu2PxU7cIezxrI/HmbwdgvErD9xMp/jC6mjP7byYsazgpk/rrlN/yxykD96YTBUBXCFP1AB9YRz9ns/qfl0PdTkcD/LXXMiFC9cPxrh2q5gKEe/LWEyc8+ja7/+5hX1qIR/v13hUATgu4u/YP77bf5Ik7/8w2EsfS+Wv4PIGtxz7Ja/Sela+h6Vl7/tt96FmfWXvyyYvvgeBZi/j26lUy6/l7/n1gZPai2Xv4a2gvdsVZa/HfO4qhc8lb8VPWz5s+WTvzuwnaEYVpK/WM6P05iPkL9L2f6ivyiNv15Cib+7z4i/0ojRJ30XhL9gHb/nawV+v9WtjPlBJXO/FCHRYrI6Xr+YLd5yqvpSP9t85FUkxnE/poHrvuaLfz9iFeZywASHP91oalMhkI4/6Gsu6NEVkz8cob3/MaKWPydzwVOnh5k/PteMRh2hmz8Ks4I/+USdP/pEBgjSBJ8/6brwg/OpoD9M75RuSCyiP3gJ/TUh+aM/KVEfFqT4pT9jdPKChRyoPxuHL1CoYKo/nLjiA7fFrD8QNSAueFKvPwndFkYpCrE/\",\"dtype\":\"float64\",\"shape\":[75]},\"y\":{\"__ndarray__\":\"GhExyth1ND/Sv8nbtpRIP2vylNV0PVE/aTum7souWD/At0SJ8fVgPw3Iuahxymc/MSNhhJWvcD/bTfBN02d3P2zb5nxnaoA/CD5h5MAGhz8NmeH1TyaQP+zrCsc9p5Y/LbKd76fGnz/bLW5ISEmmPww9YvTcQq8/JV2OstnstT8Er5Y7M8G+P0c+r3jqkcU/5h99k6ZBzj88bCIzFzjVP4enV8oyxN0//yH99nXg5D8qOpLLf0jtP5kqGJXUifQ/c9cS8kHP/D+/DpwzojQEQIEmwoanVwxA4lgXt9HgE0BSSZ2AJuIbQAMJih9jjiNA5q4l5INuK0AwTKYKRj0zQNv5fmq8/DpAaCJseHrtQkB/+zpwzoxKQM3MzMzMeFJAZmZmZmZqWEAAAAAAAFxeQM3MzMzMJmJAmpmZmZkfZUBmZmZmZhhoQDMzMzMzEWtAAAAAAAAKbkBmZmZmZoFwQM3MzMzM/XFAMzMzMzN6c0CamZmZmfZ0QAAAAAAAc3ZAZmZmZmbvd0DNzMzMzGt5QDMzMzMz6HpAmpmZmZlkfEAAAAAAAOF9QGZmZmZmXX9AZmZmZuZsgECamZmZGSuBQM3MzMxM6YFAAAAAAICngkAzMzMzs2WDQGZmZmbmI4RAmpmZmRnihEDNzMzMTKCFQAAAAACAXoZAMzMzM7Mch0BmZmZm5tqHQJqZmZkZmYhAzczMzExXiUAAAAAAgBWKQDMzMzOz04pAZmZmZuaRi0CamZmZGVCMQM3MzMxMDo1AAAAAAIDMjUAzMzMzs4qOQGZmZmbmSI9A\",\"dtype\":\"float64\",\"shape\":[75]}},\"selected\":{\"id\":\"67f9fcf9-cbf5-4680-a5d3-523c0f432551\",\"type\":\"Selection\"},\"selection_policy\":{\"id\":\"38644577-a840-44da-9f8c-953218dc34b6\",\"type\":\"UnionRenderers\"}},\"id\":\"752d449e-d685-4896-b204-6cc6229744fe\",\"type\":\"ColumnDataSource\"},{\"attributes\":{\"fill_alpha\":{\"value\":0.1},\"fill_color\":{\"value\":\"#1f77b4\"},\"line_alpha\":{\"value\":0.1},\"line_color\":{\"value\":\"#1f77b4\"},\"x\":{\"field\":\"x\"},\"y\":{\"field\":\"y\"}},\"id\":\"16136183-3f3a-44a4-9115-f9794603fe5a\",\"type\":\"Circle\"},{\"attributes\":{\"callback\":null,\"data\":{\"x\":{\"__ndarray__\":\"uRAvXwjyib8hxurKA4yJv/HmHbG8uYi/PRy1V97eh7/BVzhubPyGv7YV5JH2GIa/tp7FU6gwhb/YgypWnEWEv1wASmZXXoO/mkxaB6GEgr9FvYKIE56Bv42OBTD0nIC/LWIkcLNxf7/xbtHk6y19v8z9VR3e2XO/nyna2oi9Qj9+/Kfbt+WAP8zsWnLmFZI/6hwtf3fMnT/VESOvfvilPz1NxTL+dK4/L6+KJTPEsz/kn3WyikO1Pz4S4AgTRbM/t8i6kn0ksD+2MCtLmtKoP8tOwMYjEaI/kCs/5jz9mD9RWiPMFBiQP7d8Q0iIUoI/8QWyni5jbj/vcgnGdbhBv+yWyqgKHHK/83Q4ym6vgb/4Ojd7tuSNv9IfaK3yiZa/MOcUi/j6nL8SpPzrrzOgv0lFDMgRvKC/Vy5YSSsHob/oflfX6xWhvzQuw0+B66C/1kTgPcCJoL9YH0RvR/GfvwnpX+gpep6/XN7ALuq4nL8XDwwpPrCav9KFDfOdapi/0BppdrXrlb/gT0E1QzaTvxV7HW3rUpC/k8iA+hGEir/1rqvr5RCEv8Rch/DMoHq/KVWZ/osPab8xqERxq+dAP3oEkeYDUnE/g8ZLk8aFgD+8blqDsZ2IP5AA2KsNcpA/ceC3MpqPlD9T7PENSGyYPwfks+OJuJs/aaXPpF5Vnj8oOFEB0EOgP4Zqzl/sY6E/e3ScsDC5oj9TvvzuYlSkP3MI+YTmKaY/KNKnEQMlqD/33sumSTqqP4LP47+pY6w/CoAglkSgrj/EXBXH/niwP60wv0Atr7E/\",\"dtype\":\"float64\",\"shape\":[75]},\"y\":{\"__ndarray__\":\"GhExyth1ND/Sv8nbtpRIP2vylNV0PVE/aTum7souWD/At0SJ8fVgPw3Iuahxymc/MSNhhJWvcD/bTfBN02d3P2zb5nxnaoA/CD5h5MAGhz8NmeH1TyaQP+zrCsc9p5Y/LbKd76fGnz/bLW5ISEmmPww9YvTcQq8/JV2OstnstT8Er5Y7M8G+P0c+r3jqkcU/5h99k6ZBzj88bCIzFzjVP4enV8oyxN0//yH99nXg5D8qOpLLf0jtP5kqGJXUifQ/c9cS8kHP/D+/DpwzojQEQIEmwoanVwxA4lgXt9HgE0BSSZ2AJuIbQAMJih9jjiNA5q4l5INuK0AwTKYKRj0zQNv5fmq8/DpAaCJseHrtQkB/+zpwzoxKQM3MzMzMeFJAZmZmZmZqWEAAAAAAAFxeQM3MzMzMJmJAmpmZmZkfZUBmZmZmZhhoQDMzMzMzEWtAAAAAAAAKbkBmZmZmZoFwQM3MzMzM/XFAMzMzMzN6c0CamZmZmfZ0QAAAAAAAc3ZAZmZmZmbvd0DNzMzMzGt5QDMzMzMz6HpAmpmZmZlkfEAAAAAAAOF9QGZmZmZmXX9AZmZmZuZsgECamZmZGSuBQM3MzMxM6YFAAAAAAICngkAzMzMzs2WDQGZmZmbmI4RAmpmZmRnihEDNzMzMTKCFQAAAAACAXoZAMzMzM7Mch0BmZmZm5tqHQJqZmZkZmYhAzczMzExXiUAAAAAAgBWKQDMzMzOz04pAZmZmZuaRi0CamZmZGVCMQM3MzMxMDo1AAAAAAIDMjUAzMzMzs4qOQGZmZmbmSI9A\",\"dtype\":\"float64\",\"shape\":[75]}},\"selected\":{\"id\":\"06a7855a-44b2-4f77-b65c-eaeb4d13e30a\",\"type\":\"Selection\"},\"selection_policy\":{\"id\":\"9c88009a-f868-4a0d-8f4d-4163544946e1\",\"type\":\"UnionRenderers\"}},\"id\":\"9aee5e31-c3ab-4420-988a-4af6fc22266a\",\"type\":\"ColumnDataSource\"},{\"attributes\":{\"overlay\":{\"id\":\"4ecde6fa-4be2-4b3a-90ac-c8bef90b28e8\",\"type\":\"BoxAnnotation\"}},\"id\":\"341fabb3-cc60-4ceb-916e-033c799f58b6\",\"type\":\"BoxZoomTool\"},{\"attributes\":{\"callback\":null,\"data\":{\"x\":{\"__ndarray__\":\"uRAvXwjyib8hxurKA4yJv/HmHbG8uYi/PRy1V97eh7/BVzhubPyGv7YV5JH2GIa/tp7FU6gwhb/YgypWnEWEv1wASmZXXoO/mkxaB6GEgr9FvYKIE56Bv42OBTD0nIC/LWIkcLNxf7/xbtHk6y19v8z9VR3e2XO/nyna2oi9Qj9+/Kfbt+WAP8zsWnLmFZI/6hwtf3fMnT/VESOvfvilPz1NxTL+dK4/L6+KJTPEsz/kn3WyikO1Pz4S4AgTRbM/t8i6kn0ksD+2MCtLmtKoP8tOwMYjEaI/kCs/5jz9mD9RWiPMFBiQP7d8Q0iIUoI/8QWyni5jbj/vcgnGdbhBv+yWyqgKHHK/83Q4ym6vgb/4Ojd7tuSNv9IfaK3yiZa/MOcUi/j6nL8SpPzrrzOgv0lFDMgRvKC/Vy5YSSsHob/oflfX6xWhvzQuw0+B66C/1kTgPcCJoL9YH0RvR/GfvwnpX+gpep6/XN7ALuq4nL8XDwwpPrCav9KFDfOdapi/0BppdrXrlb/gT0E1QzaTvxV7HW3rUpC/k8iA+hGEir/1rqvr5RCEv8Rch/DMoHq/KVWZ/osPab8xqERxq+dAP3oEkeYDUnE/g8ZLk8aFgD+8blqDsZ2IP5AA2KsNcpA/ceC3MpqPlD9T7PENSGyYPwfks+OJuJs/aaXPpF5Vnj8oOFEB0EOgP4Zqzl/sY6E/e3ScsDC5oj9TvvzuYlSkP3MI+YTmKaY/KNKnEQMlqD/33sumSTqqP4LP47+pY6w/CoAglkSgrj/EXBXH/niwP60wv0Atr7E/\",\"dtype\":\"float64\",\"shape\":[75]},\"y\":{\"__ndarray__\":\"GhExyth1ND/Sv8nbtpRIP2vylNV0PVE/aTum7souWD/At0SJ8fVgPw3Iuahxymc/MSNhhJWvcD/bTfBN02d3P2zb5nxnaoA/CD5h5MAGhz8NmeH1TyaQP+zrCsc9p5Y/LbKd76fGnz/bLW5ISEmmPww9YvTcQq8/JV2OstnstT8Er5Y7M8G+P0c+r3jqkcU/5h99k6ZBzj88bCIzFzjVP4enV8oyxN0//yH99nXg5D8qOpLLf0jtP5kqGJXUifQ/c9cS8kHP/D+/DpwzojQEQIEmwoanVwxA4lgXt9HgE0BSSZ2AJuIbQAMJih9jjiNA5q4l5INuK0AwTKYKRj0zQNv5fmq8/DpAaCJseHrtQkB/+zpwzoxKQM3MzMzMeFJAZmZmZmZqWEAAAAAAAFxeQM3MzMzMJmJAmpmZmZkfZUBmZmZmZhhoQDMzMzMzEWtAAAAAAAAKbkBmZmZmZoFwQM3MzMzM/XFAMzMzMzN6c0CamZmZmfZ0QAAAAAAAc3ZAZmZmZmbvd0DNzMzMzGt5QDMzMzMz6HpAmpmZmZlkfEAAAAAAAOF9QGZmZmZmXX9AZmZmZuZsgECamZmZGSuBQM3MzMxM6YFAAAAAAICngkAzMzMzs2WDQGZmZmbmI4RAmpmZmRnihEDNzMzMTKCFQAAAAACAXoZAMzMzM7Mch0BmZmZm5tqHQJqZmZkZmYhAzczMzExXiUAAAAAAgBWKQDMzMzOz04pAZmZmZuaRi0CamZmZGVCMQM3MzMxMDo1AAAAAAIDMjUAzMzMzs4qOQGZmZmbmSI9A\",\"dtype\":\"float64\",\"shape\":[75]}},\"selected\":{\"id\":\"cdbef944-81a8-4021-8ca2-42ccabc99c32\",\"type\":\"Selection\"},\"selection_policy\":{\"id\":\"223859a7-0950-419f-88f9-c8ec0e6c6910\",\"type\":\"UnionRenderers\"}},\"id\":\"6709e3a7-0360-4680-b046-72c0ada4857b\",\"type\":\"ColumnDataSource\"},{\"attributes\":{},\"id\":\"321e919c-bf69-4733-92a7-339463889d93\",\"type\":\"LinearScale\"},{\"attributes\":{\"source\":{\"id\":\"6e779b6b-86af-43ce-82d8-0ca464d377d3\",\"type\":\"ColumnDataSource\"}},\"id\":\"925799c1-a241-4046-858f-0862b90e842b\",\"type\":\"CDSView\"},{\"attributes\":{\"fill_alpha\":{\"value\":0.7},\"fill_color\":{\"value\":\"#4daf4a\"},\"line_alpha\":{\"value\":0.7},\"line_color\":{\"value\":\"#4daf4a\"},\"x\":{\"field\":\"x\"},\"y\":{\"field\":\"y\"}},\"id\":\"3fdabd5b-cddf-4d52-ac69-552d91468f96\",\"type\":\"Circle\"},{\"attributes\":{\"line_alpha\":0.1,\"line_color\":\"#1f77b4\",\"line_width\":3,\"x\":{\"field\":\"x\"},\"y\":{\"field\":\"y\"}},\"id\":\"3f8dfd49-a802-464c-ab22-6caf17297a03\",\"type\":\"Line\"},{\"attributes\":{},\"id\":\"481bc00e-434e-4acc-b91d-11b427224144\",\"type\":\"LinearScale\"},{\"attributes\":{\"callback\":null,\"data\":{\"x\":{\"__ndarray__\":\"o0g22E2JoL8vOCCVpGOgvwbB/HhcEqC/00jhAE59n7/Hn/mzV9Oev3UUhzZ3KZ6/ReSYhaaHnb8AlYUKaeicv6vuY5VqUJy/qGsJ09nEm78LdTAZyUmbv/PuwOck55q//w7VLIGomr8VbgssBmOav+GnHidUiZe//UsnGQYakL+hoXh/hxx2v8RdbEONjnw/6VKq5GYvlj93z5PIxAGkP84hVYYEm64/FPSs3sDotD+Kcmn8wiu2PxU7cIezxrI/HmbwdgvErD9xMp/jC6mjP7byYsazgpk/rrlN/yxykD96YTBUBXCFP1AB9YRz9ns/qfl0PdTkcD/LXXMiFC9cPxrh2q5gKEe/LWEyc8+ja7/+5hX1qIR/v13hUATgu4u/YP77bf5Ik7/8w2EsfS+Wv4PIGtxz7Ja/Sela+h6Vl7/tt96FmfWXvyyYvvgeBZi/j26lUy6/l7/n1gZPai2Xv4a2gvdsVZa/HfO4qhc8lb8VPWz5s+WTvzuwnaEYVpK/WM6P05iPkL9L2f6ivyiNv15Cib+7z4i/0ojRJ30XhL9gHb/nawV+v9WtjPlBJXO/FCHRYrI6Xr+YLd5yqvpSP9t85FUkxnE/poHrvuaLfz9iFeZywASHP91oalMhkI4/6Gsu6NEVkz8cob3/MaKWPydzwVOnh5k/PteMRh2hmz8Ks4I/+USdP/pEBgjSBJ8/6brwg/OpoD9M75RuSCyiP3gJ/TUh+aM/KVEfFqT4pT9jdPKChRyoPxuHL1CoYKo/nLjiA7fFrD8QNSAueFKvPwndFkYpCrE/\",\"dtype\":\"float64\",\"shape\":[75]},\"y\":{\"__ndarray__\":\"GhExyth1ND/Sv8nbtpRIP2vylNV0PVE/aTum7souWD/At0SJ8fVgPw3Iuahxymc/MSNhhJWvcD/bTfBN02d3P2zb5nxnaoA/CD5h5MAGhz8NmeH1TyaQP+zrCsc9p5Y/LbKd76fGnz/bLW5ISEmmPww9YvTcQq8/JV2OstnstT8Er5Y7M8G+P0c+r3jqkcU/5h99k6ZBzj88bCIzFzjVP4enV8oyxN0//yH99nXg5D8qOpLLf0jtP5kqGJXUifQ/c9cS8kHP/D+/DpwzojQEQIEmwoanVwxA4lgXt9HgE0BSSZ2AJuIbQAMJih9jjiNA5q4l5INuK0AwTKYKRj0zQNv5fmq8/DpAaCJseHrtQkB/+zpwzoxKQM3MzMzMeFJAZmZmZmZqWEAAAAAAAFxeQM3MzMzMJmJAmpmZmZkfZUBmZmZmZhhoQDMzMzMzEWtAAAAAAAAKbkBmZmZmZoFwQM3MzMzM/XFAMzMzMzN6c0CamZmZmfZ0QAAAAAAAc3ZAZmZmZmbvd0DNzMzMzGt5QDMzMzMz6HpAmpmZmZlkfEAAAAAAAOF9QGZmZmZmXX9AZmZmZuZsgECamZmZGSuBQM3MzMxM6YFAAAAAAICngkAzMzMzs2WDQGZmZmbmI4RAmpmZmRnihEDNzMzMTKCFQAAAAACAXoZAMzMzM7Mch0BmZmZm5tqHQJqZmZkZmYhAzczMzExXiUAAAAAAgBWKQDMzMzOz04pAZmZmZuaRi0CamZmZGVCMQM3MzMxMDo1AAAAAAIDMjUAzMzMzs4qOQGZmZmbmSI9A\",\"dtype\":\"float64\",\"shape\":[75]}},\"selected\":{\"id\":\"c7988e99-6a4c-4bdf-9260-6211a6bc2354\",\"type\":\"Selection\"},\"selection_policy\":{\"id\":\"40ce3e44-e540-4437-a68a-c29cd7784a08\",\"type\":\"UnionRenderers\"}},\"id\":\"3ebb08e0-df7c-4b92-b5b1-58ae6ef9fa36\",\"type\":\"ColumnDataSource\"},{\"attributes\":{\"line_alpha\":0.1,\"line_color\":\"#1f77b4\",\"line_width\":1.5,\"x\":{\"field\":\"x\"},\"y\":{\"field\":\"y\"}},\"id\":\"7de6bf0e-ca8b-4e3d-a281-95531a8f0546\",\"type\":\"Line\"},{\"attributes\":{\"dimension\":1,\"plot\":{\"id\":\"67f8d942-892f-42fc-b4f7-31f9b7d37279\",\"subtype\":\"Figure\",\"type\":\"Plot\"},\"ticker\":{\"id\":\"72ac3520-5d93-4338-90bf-fa6112d959f0\",\"type\":\"BasicTicker\"}},\"id\":\"66b6d85d-ddf6-4103-9d31-1822182586df\",\"type\":\"Grid\"},{\"attributes\":{\"data_source\":{\"id\":\"3ebb08e0-df7c-4b92-b5b1-58ae6ef9fa36\",\"type\":\"ColumnDataSource\"},\"glyph\":{\"id\":\"a5022441-0b35-4bd9-86cb-863f7c235df0\",\"type\":\"Line\"},\"hover_glyph\":null,\"muted_glyph\":null,\"nonselection_glyph\":{\"id\":\"7de6bf0e-ca8b-4e3d-a281-95531a8f0546\",\"type\":\"Line\"},\"selection_glyph\":null,\"view\":{\"id\":\"fc2b1999-df5e-4114-9958-e7d3387d3c78\",\"type\":\"CDSView\"}},\"id\":\"3e93aa37-6780-4d5a-81d2-580af7193695\",\"type\":\"GlyphRenderer\"},{\"attributes\":{\"source\":{\"id\":\"3ebb08e0-df7c-4b92-b5b1-58ae6ef9fa36\",\"type\":\"ColumnDataSource\"}},\"id\":\"fc2b1999-df5e-4114-9958-e7d3387d3c78\",\"type\":\"CDSView\"},{\"attributes\":{},\"id\":\"72ac3520-5d93-4338-90bf-fa6112d959f0\",\"type\":\"BasicTicker\"},{\"attributes\":{\"fill_alpha\":{\"value\":0.7},\"fill_color\":{\"value\":\"#984ea3\"},\"line_alpha\":{\"value\":0.7},\"line_color\":{\"value\":\"#984ea3\"},\"x\":{\"field\":\"x\"},\"y\":{\"field\":\"y\"}},\"id\":\"e3f58ece-7b89-4689-a934-2a4fa811171e\",\"type\":\"Square\"},{\"attributes\":{\"children\":[{\"id\":\"cb89ba1d-c5b3-4fdc-8e9b-f3eebce1df73\",\"type\":\"Row\"}]},\"id\":\"64e6a933-0aed-444c-b0cf-ba8608ba6235\",\"type\":\"Column\"},{\"attributes\":{\"callback\":null,\"end\":0.07036769761,\"start\":-0.03484975061},\"id\":\"95a1c7dd-790a-455a-b426-0708b366bbb1\",\"type\":\"Range1d\"},{\"attributes\":{\"callback\":null,\"end\":0.01,\"start\":1020},\"id\":\"c2e77919-78af-4a0f-9ddd-0fc419f23fc6\",\"type\":\"Range1d\"},{\"attributes\":{\"data_source\":{\"id\":\"e6a7138a-ecd4-4cda-9e50-1030ffc8d83d\",\"type\":\"ColumnDataSource\"},\"glyph\":{\"id\":\"b5d1bbc4-4f93-41b4-bef4-458f242b27ed\",\"type\":\"Line\"},\"hover_glyph\":null,\"muted_glyph\":null,\"nonselection_glyph\":{\"id\":\"19ba86ea-699d-4a2f-bd6e-682c24579f7e\",\"type\":\"Line\"},\"selection_glyph\":null,\"view\":{\"id\":\"c91d6ebc-0eaf-490c-8408-c0fec326f5a0\",\"type\":\"CDSView\"}},\"id\":\"d125cbf2-02fd-43c7-8d11-4235417d4d74\",\"type\":\"GlyphRenderer\"},{\"attributes\":{\"line_alpha\":0.6,\"line_color\":\"#e41a1c\",\"line_dash\":[6],\"line_width\":5,\"x\":{\"field\":\"x\"},\"y\":{\"field\":\"y\"}},\"id\":\"b5d1bbc4-4f93-41b4-bef4-458f242b27ed\",\"type\":\"Line\"},{\"attributes\":{\"fill_alpha\":{\"value\":0.7},\"fill_color\":{\"value\":\"#4daf4a\"},\"line_alpha\":{\"value\":0.7},\"line_color\":{\"value\":\"#4daf4a\"},\"x\":{\"field\":\"x\"},\"y\":{\"field\":\"y\"}},\"id\":\"a70c8505-5e0b-4ee1-b4f9-949fe711c698\",\"type\":\"Circle\"},{\"attributes\":{\"line_alpha\":0.1,\"line_color\":\"#1f77b4\",\"line_width\":3,\"x\":{\"field\":\"x\"},\"y\":{\"field\":\"y\"}},\"id\":\"c43ec468-bc7e-40a6-aa53-45723655adb1\",\"type\":\"Line\"},{\"attributes\":{\"source\":{\"id\":\"49d05678-4eb5-4647-b496-df990786203d\",\"type\":\"ColumnDataSource\"}},\"id\":\"f728ed87-8317-4ed7-a981-0d177f759bd9\",\"type\":\"CDSView\"},{\"attributes\":{\"children\":[{\"id\":\"67f8d942-892f-42fc-b4f7-31f9b7d37279\",\"subtype\":\"Figure\",\"type\":\"Plot\"},{\"id\":\"3677de45-87cc-489a-97c6-7991cfb2a25e\",\"subtype\":\"Figure\",\"type\":\"Plot\"}]},\"id\":\"cb89ba1d-c5b3-4fdc-8e9b-f3eebce1df73\",\"type\":\"Row\"},{\"attributes\":{},\"id\":\"6df13ca4-534f-46f3-8f88-a59e614d6423\",\"type\":\"ResetTool\"},{\"attributes\":{\"ticker\":null},\"id\":\"b20e9739-50ea-4cad-a986-e8cd4991b90a\",\"type\":\"LogTickFormatter\"},{\"attributes\":{\"label\":{\"value\":\"CLIRAD `coolr_bands`\"},\"renderers\":[{\"id\":\"72800661-fa31-4488-b2ca-98510ed21feb\",\"type\":\"GlyphRenderer\"}]},\"id\":\"3d22a895-7bb7-4f0d-bb15-73eb093ee42d\",\"type\":\"LegendItem\"},{\"attributes\":{},\"id\":\"78055b76-5020-4b2c-a1bf-b70182f214f8\",\"type\":\"Selection\"},{\"attributes\":{\"callback\":null,\"data\":{\"x\":{\"__ndarray__\":\"Fd9qA1JHgr+DQZTW+PiBv1OGJzysJYG/pe5ilMJggL9LzmMt8i1/v8p/gGnckX2/sbtvppHwe780oJ/fN0J6vwMsk1VhkHi/IXpWusnUdr8LHkAtaBR1v7uhtC2GT3O//E85COyBcb9VwxLYomFuv2C5Zrps91i/dHY3OiOdbD+102IyTb+FP9YF4pNT3ZM/vmlQ7TnUnj+mmTVL3g2mPz2yy01aDK4/YbTqGv1Nsz+QjHd1/tW0PxMy8NnDKbM/fEG6wRhdsD99PO8k9MOpP2lroqEPLqM/q13tCnj3mj/AsfDAw16RP9obo036KIM/3Aa9UCOhaz+QQc6Cp0xVv6GnpDbIl3W/mB1dwuwgg7//dmKhmdGOv0fdheg7uJa/mJnjJrT2nL+i39hioDOgv2UDDyp21qC/4IBArqcyob9KEia6nlChv+uESVFkNqG/JdMdm0/joL9HXnhTAV+gvzXdx95GW5+/BkfE8rmjnb8Pz8uOeKWbv20mxRhvY5m/U6lYg5fjlr9rMajRDCuUv6LlBmQrP5G/ULKsZmNGjL/eGaq4KraFvxXFnaZlmH2/i0uQ87Bnbr8qi9KRmJEKv+JeHIJKqG4/wQHMfFBefz8TJwkf0O2HP1qvpSREKZA/1UQbV45WlD8PFeq2MkuYP/ZVKaW2wJs/3+htsJOhnj8cIMbbspKgPxyjVkd32KE/F0tPYFNKoz8GsquEf/WkPy5sCrp2z6Y/ZVeADY3JqD9ApExbPdaqPw84EGeF76w/wndWY+0Vrz8tX3uMEKOwP3VE3KEDwLE/\",\"dtype\":\"float64\",\"shape\":[75]},\"y\":{\"__ndarray__\":\"S/O/Q+51ND/Sv8nbtpRIP2vylNV0PVE/aTum7souWD/At0SJ8fVgPw3Iuahxymc/MSNhhJWvcD/bTfBN02d3P2zb5nxnaoA/CD5h5MAGhz8NmeH1TyaQP+zrCsc9p5Y/LbKd76fGnz/bLW5ISEmmPww9YvTcQq8/JV2OstnstT8Er5Y7M8G+P0c+r3jqkcU/5h99k6ZBzj88bCIzFzjVP4enV8oyxN0//yH99nXg5D8qOpLLf0jtP5kqGJXUifQ/c9cS8kHP/D+/DpwzojQEQIEmwoanVwxA4lgXt9HgE0BSSZ2AJuIbQAMJih9jjiNA5q4l5INuK0AwTKYKRj0zQNv5fmq8/DpAaCJseHrtQkB/+zpwzoxKQM3MzMzMeFJAZmZmZmZqWEAAAAAAAFxeQM3MzMzMJmJAmpmZmZkfZUBmZmZmZhhoQDMzMzMzEWtAAAAAAAAKbkBmZmZmZoFwQM3MzMzM/XFAMzMzMzN6c0CamZmZmfZ0QAAAAAAAc3ZAZmZmZmbvd0DNzMzMzGt5QDMzMzMz6HpAmpmZmZlkfEAAAAAAAOF9QGZmZmZmXX9AZmZmZuZsgECamZmZGSuBQM3MzMxM6YFAAAAAAICngkAzMzMzs2WDQGZmZmbmI4RAmpmZmRnihEDNzMzMTKCFQAAAAACAXoZAMzMzM7Mch0BmZmZm5tqHQJqZmZkZmYhAzczMzExXiUAAAAAAgBWKQDMzMzOz04pAZmZmZuaRi0CamZmZGVCMQM3MzMxMDo1AAAAAAIDMjUAzMzMzs4qOQGZmZmbmSI9A\",\"dtype\":\"float64\",\"shape\":[75]}},\"selected\":{\"id\":\"10dceb12-f0bb-47bd-bd69-e4256ed3879e\",\"type\":\"Selection\"},\"selection_policy\":{\"id\":\"029add8f-354f-4380-96e4-328c5ca5e804\",\"type\":\"UnionRenderers\"}},\"id\":\"e6a7138a-ecd4-4cda-9e50-1030ffc8d83d\",\"type\":\"ColumnDataSource\"},{\"attributes\":{\"label\":{\"value\":\"CRD\"},\"renderers\":[{\"id\":\"2c50fb7d-6b9e-4d1c-b9c3-aa4031a3fec1\",\"type\":\"GlyphRenderer\"},{\"id\":\"3e93aa37-6780-4d5a-81d2-580af7193695\",\"type\":\"GlyphRenderer\"}]},\"id\":\"25ea3dd1-870a-4e6b-a202-ddcf7a205654\",\"type\":\"LegendItem\"},{\"attributes\":{\"source\":{\"id\":\"e6a7138a-ecd4-4cda-9e50-1030ffc8d83d\",\"type\":\"ColumnDataSource\"}},\"id\":\"c91d6ebc-0eaf-490c-8408-c0fec326f5a0\",\"type\":\"CDSView\"},{\"attributes\":{},\"id\":\"029add8f-354f-4380-96e4-328c5ca5e804\",\"type\":\"UnionRenderers\"},{\"attributes\":{\"line_alpha\":0.1,\"line_color\":\"#1f77b4\",\"line_width\":1.5,\"x\":{\"field\":\"x\"},\"y\":{\"field\":\"y\"}},\"id\":\"a9767d9f-8d71-44eb-8a28-59b028b8a1bb\",\"type\":\"Line\"},{\"attributes\":{\"label\":{\"value\":\"WGT igg=10 wgt_flux=2\"},\"renderers\":[{\"id\":\"d41af470-d7d8-4a4f-811d-f9937f356e8c\",\"type\":\"GlyphRenderer\"},{\"id\":\"b7f4f75c-a5ea-4b77-8411-6a8b3feea69a\",\"type\":\"GlyphRenderer\"}]},\"id\":\"1bbe4c64-9fc2-48cd-ab21-a6f1714923e9\",\"type\":\"LegendItem\"},{\"attributes\":{},\"id\":\"2607dc02-9411-4abf-853e-ce3e3cbaa52f\",\"type\":\"UnionRenderers\"},{\"attributes\":{\"plot\":{\"id\":\"67f8d942-892f-42fc-b4f7-31f9b7d37279\",\"subtype\":\"Figure\",\"type\":\"Plot\"},\"ticker\":{\"id\":\"6b1e346f-7ad2-41d2-b070-52e377088636\",\"type\":\"BasicTicker\"}},\"id\":\"354b2cbe-ae47-469d-8531-61584a35411d\",\"type\":\"Grid\"},{\"attributes\":{\"source\":{\"id\":\"1cd8309b-ef5e-4b91-ac5d-996a4527c859\",\"type\":\"ColumnDataSource\"}},\"id\":\"41bd3c3f-d6e4-408d-a713-600fdbd9cda5\",\"type\":\"CDSView\"},{\"attributes\":{},\"id\":\"427b6c5e-e513-4f95-9597-e3ae01fa44b2\",\"type\":\"Selection\"},{\"attributes\":{\"axis_label\":\"cooling rate [K/day]\",\"formatter\":{\"id\":\"34eade19-451d-4c36-8915-6d7a0484ae79\",\"type\":\"BasicTickFormatter\"},\"plot\":{\"id\":\"67f8d942-892f-42fc-b4f7-31f9b7d37279\",\"subtype\":\"Figure\",\"type\":\"Plot\"},\"ticker\":{\"id\":\"6b1e346f-7ad2-41d2-b070-52e377088636\",\"type\":\"BasicTicker\"}},\"id\":\"eb5f221c-0a00-40ac-a873-ca45f3811b5b\",\"type\":\"LinearAxis\"},{\"attributes\":{},\"id\":\"5d35b738-3490-4593-b7fe-e32be7e35cd6\",\"type\":\"BasicTickFormatter\"},{\"attributes\":{\"fill_alpha\":{\"value\":0.7},\"fill_color\":{\"value\":\"#984ea3\"},\"line_alpha\":{\"value\":0.7},\"line_color\":{\"value\":\"#984ea3\"},\"x\":{\"field\":\"x\"},\"y\":{\"field\":\"y\"}},\"id\":\"f794a111-2f4d-4a7b-b672-b30a06a37227\",\"type\":\"Square\"},{\"attributes\":{},\"id\":\"c8463bf3-1d25-45c0-9c17-3ccd66d90774\",\"type\":\"PanTool\"},{\"attributes\":{\"line_alpha\":0.6,\"line_color\":\"#984ea3\",\"line_width\":3,\"x\":{\"field\":\"x\"},\"y\":{\"field\":\"y\"}},\"id\":\"33396615-58b4-4d3d-b9a0-3194ee948197\",\"type\":\"Line\"},{\"attributes\":{},\"id\":\"10dceb12-f0bb-47bd-bd69-e4256ed3879e\",\"type\":\"Selection\"},{\"attributes\":{},\"id\":\"5e63e7b2-319d-42cd-977b-d3fe03a4c7b8\",\"type\":\"UnionRenderers\"},{\"attributes\":{},\"id\":\"6fdfcc18-63e2-4ac6-8af7-3d838585ce81\",\"type\":\"Selection\"},{\"attributes\":{},\"id\":\"d6507b3e-4e57-40a1-a1e9-cabda66cda6a\",\"type\":\"SaveTool\"},{\"attributes\":{},\"id\":\"6918f02a-2c52-4866-9db2-6cb0ebc09082\",\"type\":\"UnionRenderers\"},{\"attributes\":{},\"id\":\"6a29a4db-2397-447c-84e7-4443dca0a464\",\"type\":\"BasicTickFormatter\"},{\"attributes\":{\"data_source\":{\"id\":\"2ba3c0a2-eece-48a5-9cb8-8f8f79a4fa9b\",\"type\":\"ColumnDataSource\"},\"glyph\":{\"id\":\"f794a111-2f4d-4a7b-b672-b30a06a37227\",\"type\":\"Square\"},\"hover_glyph\":null,\"muted_glyph\":null,\"nonselection_glyph\":{\"id\":\"c091c722-f16a-4912-bee4-e4260d0d561f\",\"type\":\"Square\"},\"selection_glyph\":null,\"view\":{\"id\":\"c1cd956d-6e25-4820-beed-f97aa1f1e81e\",\"type\":\"CDSView\"}},\"id\":\"014104f3-cb0d-4db2-a577-330853e1c57b\",\"type\":\"GlyphRenderer\"},{\"attributes\":{},\"id\":\"cf669701-df9b-4a93-acac-cc69adc3b07a\",\"type\":\"Selection\"},{\"attributes\":{},\"id\":\"06a7855a-44b2-4f77-b65c-eaeb4d13e30a\",\"type\":\"Selection\"},{\"attributes\":{},\"id\":\"9c88009a-f868-4a0d-8f4d-4163544946e1\",\"type\":\"UnionRenderers\"},{\"attributes\":{},\"id\":\"40ce3e44-e540-4437-a68a-c29cd7784a08\",\"type\":\"UnionRenderers\"},{\"attributes\":{\"axis_label\":\"pressure [mb]\",\"formatter\":{\"id\":\"5d35b738-3490-4593-b7fe-e32be7e35cd6\",\"type\":\"BasicTickFormatter\"},\"plot\":{\"id\":\"67f8d942-892f-42fc-b4f7-31f9b7d37279\",\"subtype\":\"Figure\",\"type\":\"Plot\"},\"ticker\":{\"id\":\"72ac3520-5d93-4338-90bf-fa6112d959f0\",\"type\":\"BasicTicker\"}},\"id\":\"da46f935-25d2-44e0-b2b3-bd47dbbfe0c8\",\"type\":\"LinearAxis\"},{\"attributes\":{},\"id\":\"20be0a56-e04b-4d14-ae8c-f9b83e93096e\",\"type\":\"UnionRenderers\"},{\"attributes\":{\"active_drag\":\"auto\",\"active_inspect\":\"auto\",\"active_scroll\":\"auto\",\"active_tap\":\"auto\",\"tools\":[{\"id\":\"c8463bf3-1d25-45c0-9c17-3ccd66d90774\",\"type\":\"PanTool\"},{\"id\":\"3b72369f-554f-4794-b87b-6eb10ebcb54c\",\"type\":\"WheelZoomTool\"},{\"id\":\"341fabb3-cc60-4ceb-916e-033c799f58b6\",\"type\":\"BoxZoomTool\"},{\"id\":\"d6507b3e-4e57-40a1-a1e9-cabda66cda6a\",\"type\":\"SaveTool\"},{\"id\":\"6df13ca4-534f-46f3-8f88-a59e614d6423\",\"type\":\"ResetTool\"},{\"id\":\"5c5e9a00-2907-4d0b-a5be-525a78d855b0\",\"type\":\"HelpTool\"}]},\"id\":\"ea71a55c-8fab-4687-9636-48cf5eb91b53\",\"type\":\"Toolbar\"},{\"attributes\":{\"data_source\":{\"id\":\"1cd8309b-ef5e-4b91-ac5d-996a4527c859\",\"type\":\"ColumnDataSource\"},\"glyph\":{\"id\":\"ad234bd8-1019-49de-b89f-37e7d5c136ad\",\"type\":\"Line\"},\"hover_glyph\":null,\"muted_glyph\":null,\"nonselection_glyph\":{\"id\":\"a9767d9f-8d71-44eb-8a28-59b028b8a1bb\",\"type\":\"Line\"},\"selection_glyph\":null,\"view\":{\"id\":\"41bd3c3f-d6e4-408d-a713-600fdbd9cda5\",\"type\":\"CDSView\"}},\"id\":\"378197f6-6076-407a-9a7a-f742092efd34\",\"type\":\"GlyphRenderer\"},{\"attributes\":{},\"id\":\"5293908f-92cf-4125-9ba7-44077cbb6abe\",\"type\":\"Selection\"},{\"attributes\":{},\"id\":\"38644577-a840-44da-9f8c-953218dc34b6\",\"type\":\"UnionRenderers\"},{\"attributes\":{},\"id\":\"c7988e99-6a4c-4bdf-9260-6211a6bc2354\",\"type\":\"Selection\"},{\"attributes\":{\"callback\":null,\"data\":{\"x\":{\"__ndarray__\":\"o0g22E2JoL8vOCCVpGOgvwbB/HhcEqC/00jhAE59n7/Hn/mzV9Oev3UUhzZ3KZ6/ReSYhaaHnb8AlYUKaeicv6vuY5VqUJy/qGsJ09nEm78LdTAZyUmbv/PuwOck55q//w7VLIGomr8VbgssBmOav+GnHidUiZe//UsnGQYakL+hoXh/hxx2v8RdbEONjnw/6VKq5GYvlj93z5PIxAGkP84hVYYEm64/FPSs3sDotD+Kcmn8wiu2PxU7cIezxrI/HmbwdgvErD9xMp/jC6mjP7byYsazgpk/rrlN/yxykD96YTBUBXCFP1AB9YRz9ns/qfl0PdTkcD/LXXMiFC9cPxrh2q5gKEe/LWEyc8+ja7/+5hX1qIR/v13hUATgu4u/YP77bf5Ik7/8w2EsfS+Wv4PIGtxz7Ja/Sela+h6Vl7/tt96FmfWXvyyYvvgeBZi/j26lUy6/l7/n1gZPai2Xv4a2gvdsVZa/HfO4qhc8lb8VPWz5s+WTvzuwnaEYVpK/WM6P05iPkL9L2f6ivyiNv15Cib+7z4i/0ojRJ30XhL9gHb/nawV+v9WtjPlBJXO/FCHRYrI6Xr+YLd5yqvpSP9t85FUkxnE/poHrvuaLfz9iFeZywASHP91oalMhkI4/6Gsu6NEVkz8cob3/MaKWPydzwVOnh5k/PteMRh2hmz8Ks4I/+USdP/pEBgjSBJ8/6brwg/OpoD9M75RuSCyiP3gJ/TUh+aM/KVEfFqT4pT9jdPKChRyoPxuHL1CoYKo/nLjiA7fFrD8QNSAueFKvPwndFkYpCrE/\",\"dtype\":\"float64\",\"shape\":[75]},\"y\":{\"__ndarray__\":\"GhExyth1ND/Sv8nbtpRIP2vylNV0PVE/aTum7souWD/At0SJ8fVgPw3Iuahxymc/MSNhhJWvcD/bTfBN02d3P2zb5nxnaoA/CD5h5MAGhz8NmeH1TyaQP+zrCsc9p5Y/LbKd76fGnz/bLW5ISEmmPww9YvTcQq8/JV2OstnstT8Er5Y7M8G+P0c+r3jqkcU/5h99k6ZBzj88bCIzFzjVP4enV8oyxN0//yH99nXg5D8qOpLLf0jtP5kqGJXUifQ/c9cS8kHP/D+/DpwzojQEQIEmwoanVwxA4lgXt9HgE0BSSZ2AJuIbQAMJih9jjiNA5q4l5INuK0AwTKYKRj0zQNv5fmq8/DpAaCJseHrtQkB/+zpwzoxKQM3MzMzMeFJAZmZmZmZqWEAAAAAAAFxeQM3MzMzMJmJAmpmZmZkfZUBmZmZmZhhoQDMzMzMzEWtAAAAAAAAKbkBmZmZmZoFwQM3MzMzM/XFAMzMzMzN6c0CamZmZmfZ0QAAAAAAAc3ZAZmZmZmbvd0DNzMzMzGt5QDMzMzMz6HpAmpmZmZlkfEAAAAAAAOF9QGZmZmZmXX9AZmZmZuZsgECamZmZGSuBQM3MzMxM6YFAAAAAAICngkAzMzMzs2WDQGZmZmbmI4RAmpmZmRnihEDNzMzMTKCFQAAAAACAXoZAMzMzM7Mch0BmZmZm5tqHQJqZmZkZmYhAzczMzExXiUAAAAAAgBWKQDMzMzOz04pAZmZmZuaRi0CamZmZGVCMQM3MzMxMDo1AAAAAAIDMjUAzMzMzs4qOQGZmZmbmSI9A\",\"dtype\":\"float64\",\"shape\":[75]}},\"selected\":{\"id\":\"427b6c5e-e513-4f95-9597-e3ae01fa44b2\",\"type\":\"Selection\"},\"selection_policy\":{\"id\":\"2607dc02-9411-4abf-853e-ce3e3cbaa52f\",\"type\":\"UnionRenderers\"}},\"id\":\"6e779b6b-86af-43ce-82d8-0ca464d377d3\",\"type\":\"ColumnDataSource\"},{\"attributes\":{},\"id\":\"67f9fcf9-cbf5-4680-a5d3-523c0f432551\",\"type\":\"Selection\"},{\"attributes\":{},\"id\":\"cdbef944-81a8-4021-8ca2-42ccabc99c32\",\"type\":\"Selection\"},{\"attributes\":{\"callback\":null,\"data\":{\"x\":{\"__ndarray__\":\"uRAvXwjyib8hxurKA4yJv/HmHbG8uYi/PRy1V97eh7/BVzhubPyGv7YV5JH2GIa/tp7FU6gwhb/YgypWnEWEv1wASmZXXoO/mkxaB6GEgr9FvYKIE56Bv42OBTD0nIC/LWIkcLNxf7/xbtHk6y19v8z9VR3e2XO/nyna2oi9Qj9+/Kfbt+WAP8zsWnLmFZI/6hwtf3fMnT/VESOvfvilPz1NxTL+dK4/L6+KJTPEsz/kn3WyikO1Pz4S4AgTRbM/t8i6kn0ksD+2MCtLmtKoP8tOwMYjEaI/kCs/5jz9mD9RWiPMFBiQP7d8Q0iIUoI/8QWyni5jbj/vcgnGdbhBv+yWyqgKHHK/83Q4ym6vgb/4Ojd7tuSNv9IfaK3yiZa/MOcUi/j6nL8SpPzrrzOgv0lFDMgRvKC/Vy5YSSsHob/oflfX6xWhvzQuw0+B66C/1kTgPcCJoL9YH0RvR/GfvwnpX+gpep6/XN7ALuq4nL8XDwwpPrCav9KFDfOdapi/0BppdrXrlb/gT0E1QzaTvxV7HW3rUpC/k8iA+hGEir/1rqvr5RCEv8Rch/DMoHq/KVWZ/osPab8xqERxq+dAP3oEkeYDUnE/g8ZLk8aFgD+8blqDsZ2IP5AA2KsNcpA/ceC3MpqPlD9T7PENSGyYPwfks+OJuJs/aaXPpF5Vnj8oOFEB0EOgP4Zqzl/sY6E/e3ScsDC5oj9TvvzuYlSkP3MI+YTmKaY/KNKnEQMlqD/33sumSTqqP4LP47+pY6w/CoAglkSgrj/EXBXH/niwP60wv0Atr7E/\",\"dtype\":\"float64\",\"shape\":[75]},\"y\":{\"__ndarray__\":\"GhExyth1ND/Sv8nbtpRIP2vylNV0PVE/aTum7souWD/At0SJ8fVgPw3Iuahxymc/MSNhhJWvcD/bTfBN02d3P2zb5nxnaoA/CD5h5MAGhz8NmeH1TyaQP+zrCsc9p5Y/LbKd76fGnz/bLW5ISEmmPww9YvTcQq8/JV2OstnstT8Er5Y7M8G+P0c+r3jqkcU/5h99k6ZBzj88bCIzFzjVP4enV8oyxN0//yH99nXg5D8qOpLLf0jtP5kqGJXUifQ/c9cS8kHP/D+/DpwzojQEQIEmwoanVwxA4lgXt9HgE0BSSZ2AJuIbQAMJih9jjiNA5q4l5INuK0AwTKYKRj0zQNv5fmq8/DpAaCJseHrtQkB/+zpwzoxKQM3MzMzMeFJAZmZmZmZqWEAAAAAAAFxeQM3MzMzMJmJAmpmZmZkfZUBmZmZmZhhoQDMzMzMzEWtAAAAAAAAKbkBmZmZmZoFwQM3MzMzM/XFAMzMzMzN6c0CamZmZmfZ0QAAAAAAAc3ZAZmZmZmbvd0DNzMzMzGt5QDMzMzMz6HpAmpmZmZlkfEAAAAAAAOF9QGZmZmZmXX9AZmZmZuZsgECamZmZGSuBQM3MzMxM6YFAAAAAAICngkAzMzMzs2WDQGZmZmbmI4RAmpmZmRnihEDNzMzMTKCFQAAAAACAXoZAMzMzM7Mch0BmZmZm5tqHQJqZmZkZmYhAzczMzExXiUAAAAAAgBWKQDMzMzOz04pAZmZmZuaRi0CamZmZGVCMQM3MzMxMDo1AAAAAAIDMjUAzMzMzs4qOQGZmZmbmSI9A\",\"dtype\":\"float64\",\"shape\":[75]}},\"selected\":{\"id\":\"78055b76-5020-4b2c-a1bf-b70182f214f8\",\"type\":\"Selection\"},\"selection_policy\":{\"id\":\"6918f02a-2c52-4866-9db2-6cb0ebc09082\",\"type\":\"UnionRenderers\"}},\"id\":\"2ba3c0a2-eece-48a5-9cb8-8f8f79a4fa9b\",\"type\":\"ColumnDataSource\"}],\"root_ids\":[\"6619da0f-1f50-464a-bdc3-eef8e7c856bc\"]},\"title\":\"Bokeh Application\",\"version\":\"0.12.16\"}};\n",
       "  var render_items = [{\"docid\":\"7c5d64b7-f8c3-49c2-b90b-811ae9065d2a\",\"elementid\":\"bc1cd90a-9e9e-4976-bbe6-350f5a6d302c\",\"modelid\":\"6619da0f-1f50-464a-bdc3-eef8e7c856bc\"}];\n",
       "  root.Bokeh.embed.embed_items_notebook(docs_json, render_items);\n",
       "\n",
       "  }\n",
       "  if (root.Bokeh !== undefined) {\n",
       "    embed_document(root);\n",
       "  } else {\n",
       "    var attempts = 0;\n",
       "    var timer = setInterval(function(root) {\n",
       "      if (root.Bokeh !== undefined) {\n",
       "        embed_document(root);\n",
       "        clearInterval(timer);\n",
       "      }\n",
       "      attempts++;\n",
       "      if (attempts > 100) {\n",
       "        console.log(\"Bokeh: ERROR: Unable to run BokehJS code because BokehJS library is missing\")\n",
       "        clearInterval(timer);\n",
       "      }\n",
       "    }, 10, root)\n",
       "  }\n",
       "})(window);"
      ],
      "application/vnd.bokehjs_exec.v0+json": ""
     },
     "metadata": {
      "application/vnd.bokehjs_exec.v0+json": {
       "id": "6619da0f-1f50-464a-bdc3-eef8e7c856bc"
      }
     },
     "output_type": "display_data"
    },
    {
     "name": "stdout",
     "output_type": "stream",
     "text": [
      "FIGURE. Cooling rate profiles.\n"
     ]
    },
    {
     "data": {
      "text/html": [
       "<a id=\"Flux_Comparison\"></a>"
      ],
      "text/plain": [
       "<IPython.core.display.HTML object>"
      ]
     },
     "metadata": {},
     "output_type": "display_data"
    },
    {
     "data": {
      "text/markdown": [
       "# Flux Comparison"
      ],
      "text/plain": [
       "<IPython.core.display.Markdown object>"
      ]
     },
     "metadata": {},
     "output_type": "display_data"
    },
    {
     "data": {
      "text/html": [
       "<div>\n",
       "<style scoped>\n",
       "    .dataframe tbody tr th:only-of-type {\n",
       "        vertical-align: middle;\n",
       "    }\n",
       "\n",
       "    .dataframe tbody tr th {\n",
       "        vertical-align: top;\n",
       "    }\n",
       "\n",
       "    .dataframe thead th {\n",
       "        text-align: right;\n",
       "    }\n",
       "</style>\n",
       "<table border=\"1\" class=\"dataframe\">\n",
       "  <thead>\n",
       "    <tr style=\"text-align: right;\">\n",
       "      <th></th>\n",
       "      <th></th>\n",
       "      <th>flug</th>\n",
       "      <th>fldg</th>\n",
       "      <th>fnetg</th>\n",
       "    </tr>\n",
       "    <tr>\n",
       "      <th>pressure</th>\n",
       "      <th>level</th>\n",
       "      <th></th>\n",
       "      <th></th>\n",
       "      <th></th>\n",
       "    </tr>\n",
       "  </thead>\n",
       "  <tbody>\n",
       "    <tr>\n",
       "      <th>0.0000</th>\n",
       "      <th>1</th>\n",
       "      <td>-23.524379</td>\n",
       "      <td>0.000000</td>\n",
       "      <td>-23.524379</td>\n",
       "    </tr>\n",
       "    <tr>\n",
       "      <th>1.0685</th>\n",
       "      <th>24</th>\n",
       "      <td>-23.524226</td>\n",
       "      <td>0.006683</td>\n",
       "      <td>-23.517543</td>\n",
       "    </tr>\n",
       "    <tr>\n",
       "      <th>1013.0000</th>\n",
       "      <th>76</th>\n",
       "      <td>-26.962746</td>\n",
       "      <td>4.253737</td>\n",
       "      <td>-22.709009</td>\n",
       "    </tr>\n",
       "  </tbody>\n",
       "</table>\n",
       "</div>"
      ],
      "text/plain": [
       "                      flug      fldg      fnetg\n",
       "pressure  level                                \n",
       "0.0000    1     -23.524379  0.000000 -23.524379\n",
       "1.0685    24    -23.524226  0.006683 -23.517543\n",
       "1013.0000 76    -26.962746  4.253737 -22.709009"
      ]
     },
     "metadata": {},
     "output_type": "display_data"
    },
    {
     "name": "stdout",
     "output_type": "stream",
     "text": [
      "Table. Fluxes. CRD\n"
     ]
    },
    {
     "data": {
      "text/html": [
       "<div>\n",
       "<style scoped>\n",
       "    .dataframe tbody tr th:only-of-type {\n",
       "        vertical-align: middle;\n",
       "    }\n",
       "\n",
       "    .dataframe tbody tr th {\n",
       "        vertical-align: top;\n",
       "    }\n",
       "\n",
       "    .dataframe thead th {\n",
       "        text-align: right;\n",
       "    }\n",
       "</style>\n",
       "<table border=\"1\" class=\"dataframe\">\n",
       "  <thead>\n",
       "    <tr style=\"text-align: right;\">\n",
       "      <th></th>\n",
       "      <th></th>\n",
       "      <th>flug</th>\n",
       "      <th>fldg</th>\n",
       "      <th>fnetg</th>\n",
       "    </tr>\n",
       "    <tr>\n",
       "      <th>pressure</th>\n",
       "      <th>level</th>\n",
       "      <th></th>\n",
       "      <th></th>\n",
       "      <th></th>\n",
       "    </tr>\n",
       "  </thead>\n",
       "  <tbody>\n",
       "    <tr>\n",
       "      <th>0.0000</th>\n",
       "      <th>1</th>\n",
       "      <td>-23.189203</td>\n",
       "      <td>0.000000</td>\n",
       "      <td>-23.189203</td>\n",
       "    </tr>\n",
       "    <tr>\n",
       "      <th>1.0685</th>\n",
       "      <th>24</th>\n",
       "      <td>-23.187453</td>\n",
       "      <td>0.005304</td>\n",
       "      <td>-23.182149</td>\n",
       "    </tr>\n",
       "    <tr>\n",
       "      <th>1013.0000</th>\n",
       "      <th>76</th>\n",
       "      <td>-26.962747</td>\n",
       "      <td>4.327614</td>\n",
       "      <td>-22.635132</td>\n",
       "    </tr>\n",
       "  </tbody>\n",
       "</table>\n",
       "</div>"
      ],
      "text/plain": [
       "                      flug      fldg      fnetg\n",
       "pressure  level                                \n",
       "0.0000    1     -23.189203  0.000000 -23.189203\n",
       "1.0685    24    -23.187453  0.005304 -23.182149\n",
       "1013.0000 76    -26.962747  4.327614 -22.635132"
      ]
     },
     "metadata": {},
     "output_type": "display_data"
    },
    {
     "name": "stdout",
     "output_type": "stream",
     "text": [
      "Table. Fluxes. WGT igg=10 wgt_flux=1\n"
     ]
    },
    {
     "data": {
      "text/html": [
       "<div>\n",
       "<style scoped>\n",
       "    .dataframe tbody tr th:only-of-type {\n",
       "        vertical-align: middle;\n",
       "    }\n",
       "\n",
       "    .dataframe tbody tr th {\n",
       "        vertical-align: top;\n",
       "    }\n",
       "\n",
       "    .dataframe thead th {\n",
       "        text-align: right;\n",
       "    }\n",
       "</style>\n",
       "<table border=\"1\" class=\"dataframe\">\n",
       "  <thead>\n",
       "    <tr style=\"text-align: right;\">\n",
       "      <th></th>\n",
       "      <th></th>\n",
       "      <th>flug</th>\n",
       "      <th>fldg</th>\n",
       "      <th>fnetg</th>\n",
       "    </tr>\n",
       "    <tr>\n",
       "      <th>pressure</th>\n",
       "      <th>level</th>\n",
       "      <th></th>\n",
       "      <th></th>\n",
       "      <th></th>\n",
       "    </tr>\n",
       "  </thead>\n",
       "  <tbody>\n",
       "    <tr>\n",
       "      <th>1.000000e-08</th>\n",
       "      <th>1</th>\n",
       "      <td>-23.302566</td>\n",
       "      <td>9.044474e-08</td>\n",
       "      <td>-23.302566</td>\n",
       "    </tr>\n",
       "    <tr>\n",
       "      <th>1.068500e+00</th>\n",
       "      <th>24</th>\n",
       "      <td>-23.300560</td>\n",
       "      <td>4.998900e-03</td>\n",
       "      <td>-23.295561</td>\n",
       "    </tr>\n",
       "    <tr>\n",
       "      <th>1.013000e+03</th>\n",
       "      <th>76</th>\n",
       "      <td>-26.962750</td>\n",
       "      <td>4.199787e+00</td>\n",
       "      <td>-22.762963</td>\n",
       "    </tr>\n",
       "  </tbody>\n",
       "</table>\n",
       "</div>"
      ],
      "text/plain": [
       "                         flug          fldg      fnetg\n",
       "pressure     level                                    \n",
       "1.000000e-08 1     -23.302566  9.044474e-08 -23.302566\n",
       "1.068500e+00 24    -23.300560  4.998900e-03 -23.295561\n",
       "1.013000e+03 76    -26.962750  4.199787e+00 -22.762963"
      ]
     },
     "metadata": {},
     "output_type": "display_data"
    },
    {
     "name": "stdout",
     "output_type": "stream",
     "text": [
      "Table. Fluxes. CLIRAD\n"
     ]
    },
    {
     "data": {
      "text/html": [
       "<div>\n",
       "<style scoped>\n",
       "    .dataframe tbody tr th:only-of-type {\n",
       "        vertical-align: middle;\n",
       "    }\n",
       "\n",
       "    .dataframe tbody tr th {\n",
       "        vertical-align: top;\n",
       "    }\n",
       "\n",
       "    .dataframe thead th {\n",
       "        text-align: right;\n",
       "    }\n",
       "</style>\n",
       "<table border=\"1\" class=\"dataframe\">\n",
       "  <thead>\n",
       "    <tr style=\"text-align: right;\">\n",
       "      <th></th>\n",
       "      <th></th>\n",
       "      <th>flug</th>\n",
       "      <th>fldg</th>\n",
       "      <th>fnetg</th>\n",
       "    </tr>\n",
       "    <tr>\n",
       "      <th>pressure</th>\n",
       "      <th>level</th>\n",
       "      <th></th>\n",
       "      <th></th>\n",
       "      <th></th>\n",
       "    </tr>\n",
       "  </thead>\n",
       "  <tbody>\n",
       "    <tr>\n",
       "      <th>0.0000</th>\n",
       "      <th>1</th>\n",
       "      <td>3.351762e-01</td>\n",
       "      <td>0.000000</td>\n",
       "      <td>0.335176</td>\n",
       "    </tr>\n",
       "    <tr>\n",
       "      <th>1.0685</th>\n",
       "      <th>24</th>\n",
       "      <td>3.367725e-01</td>\n",
       "      <td>-0.001379</td>\n",
       "      <td>0.335394</td>\n",
       "    </tr>\n",
       "    <tr>\n",
       "      <th>1013.0000</th>\n",
       "      <th>76</th>\n",
       "      <td>-5.000000e-07</td>\n",
       "      <td>0.073878</td>\n",
       "      <td>0.073877</td>\n",
       "    </tr>\n",
       "  </tbody>\n",
       "</table>\n",
       "</div>"
      ],
      "text/plain": [
       "                         flug      fldg     fnetg\n",
       "pressure  level                                  \n",
       "0.0000    1      3.351762e-01  0.000000  0.335176\n",
       "1.0685    24     3.367725e-01 -0.001379  0.335394\n",
       "1013.0000 76    -5.000000e-07  0.073878  0.073877"
      ]
     },
     "metadata": {},
     "output_type": "display_data"
    },
    {
     "name": "stdout",
     "output_type": "stream",
     "text": [
      "Table. Fluxes. (WGT igg=10 wgt_flux=1) - (CRD)\n"
     ]
    },
    {
     "data": {
      "text/html": [
       "<div>\n",
       "<style scoped>\n",
       "    .dataframe tbody tr th:only-of-type {\n",
       "        vertical-align: middle;\n",
       "    }\n",
       "\n",
       "    .dataframe tbody tr th {\n",
       "        vertical-align: top;\n",
       "    }\n",
       "\n",
       "    .dataframe thead th {\n",
       "        text-align: right;\n",
       "    }\n",
       "</style>\n",
       "<table border=\"1\" class=\"dataframe\">\n",
       "  <thead>\n",
       "    <tr style=\"text-align: right;\">\n",
       "      <th></th>\n",
       "      <th></th>\n",
       "      <th>flug</th>\n",
       "      <th>fldg</th>\n",
       "      <th>fnetg</th>\n",
       "    </tr>\n",
       "    <tr>\n",
       "      <th>pressure</th>\n",
       "      <th>level</th>\n",
       "      <th></th>\n",
       "      <th></th>\n",
       "      <th></th>\n",
       "    </tr>\n",
       "  </thead>\n",
       "  <tbody>\n",
       "    <tr>\n",
       "      <th>0.0000</th>\n",
       "      <th>1</th>\n",
       "      <td>0.221813</td>\n",
       "      <td>9.044474e-08</td>\n",
       "      <td>0.221813</td>\n",
       "    </tr>\n",
       "    <tr>\n",
       "      <th>1.0685</th>\n",
       "      <th>24</th>\n",
       "      <td>0.223666</td>\n",
       "      <td>-1.684413e-03</td>\n",
       "      <td>0.221982</td>\n",
       "    </tr>\n",
       "    <tr>\n",
       "      <th>1013.0000</th>\n",
       "      <th>76</th>\n",
       "      <td>-0.000004</td>\n",
       "      <td>-5.394930e-02</td>\n",
       "      <td>-0.053954</td>\n",
       "    </tr>\n",
       "  </tbody>\n",
       "</table>\n",
       "</div>"
      ],
      "text/plain": [
       "                     flug          fldg     fnetg\n",
       "pressure  level                                  \n",
       "0.0000    1      0.221813  9.044474e-08  0.221813\n",
       "1.0685    24     0.223666 -1.684413e-03  0.221982\n",
       "1013.0000 76    -0.000004 -5.394930e-02 -0.053954"
      ]
     },
     "metadata": {},
     "output_type": "display_data"
    },
    {
     "name": "stdout",
     "output_type": "stream",
     "text": [
      "Table. Fluxes. (CLIRAD) - (CRD)\n"
     ]
    },
    {
     "data": {
      "text/html": [
       "<a id=\"Best-fit_Parameters\"></a>"
      ],
      "text/plain": [
       "<IPython.core.display.HTML object>"
      ]
     },
     "metadata": {},
     "output_type": "display_data"
    },
    {
     "data": {
      "text/markdown": [
       "# Best-fit Parameters"
      ],
      "text/plain": [
       "<IPython.core.display.Markdown object>"
      ]
     },
     "metadata": {},
     "output_type": "display_data"
    },
    {
     "name": "stdout",
     "output_type": "stream",
     "text": [
      "Best-fit values for each (gas, band)\n",
      "------------------------------------\n",
      "o n2o band7\n",
      "  atmpro = mls\n",
      "  band = 7\n",
      "  commitnumber = a06b618\n",
      "  conc = 3.2e-07\n",
      "  dv = 0.001\n",
      "  klin = 2.22e-20\n",
      "  molecule = n2o\n",
      "  ng_adju = [0, 0]\n",
      "  ng_refs = [2, 2]\n",
      "  nv = 1000\n",
      "  option_compute_btable = 0\n",
      "  option_compute_ktable = 1\n",
      "  option_wgt_flux = 1\n",
      "  option_wgt_k = 1\n",
      "  ref_pts = [(1, 250), (500, 250)]\n",
      "  tsfc = 294\n",
      "  vmax = 1380\n",
      "  vmin = 1215\n",
      "  w_diffuse = [(1.8, 1.66), (1.6, 1.8)]\n",
      "  wgt = [(0.6, 0.5), (0.6, 0.9)]\n"
     ]
    }
   ],
   "source": [
    "script()"
   ]
  },
  {
   "cell_type": "code",
   "execution_count": 13,
   "metadata": {
    "collapsed": true
   },
   "outputs": [
    {
     "data": {
      "text/html": [
       "<script>\n",
       "code_show=true; \n",
       "function code_toggle() {\n",
       " if (code_show){\n",
       " $('div.input').hide();\n",
       " } else {\n",
       " $('div.input').show();\n",
       " }\n",
       " code_show = !code_show\n",
       "} \n",
       "$( document ).ready(code_toggle);\n",
       "</script>\n",
       "<form action=\"javascript:code_toggle()\"><input type=\"submit\" value=\"Click here to toggle on/off the raw code.\"></form>"
      ],
      "text/plain": [
       "<IPython.core.display.HTML object>"
      ]
     },
     "execution_count": 13,
     "metadata": {},
     "output_type": "execute_result"
    }
   ],
   "source": [
    "display.HTML('''<script>\n",
    "code_show=true; \n",
    "function code_toggle() {\n",
    " if (code_show){\n",
    " $('div.input').hide();\n",
    " } else {\n",
    " $('div.input').show();\n",
    " }\n",
    " code_show = !code_show\n",
    "} \n",
    "$( document ).ready(code_toggle);\n",
    "</script>\n",
    "<form action=\"javascript:code_toggle()\"><input type=\"submit\" value=\"Click here to toggle on/off the raw code.\"></form>''')"
   ]
  }
 ],
 "metadata": {
  "kernelspec": {
   "display_name": "Python 3",
   "language": "python",
   "name": "python3"
  },
  "language_info": {
   "codemirror_mode": {
    "name": "ipython",
    "version": 3
   },
   "file_extension": ".py",
   "mimetype": "text/x-python",
   "name": "python",
   "nbconvert_exporter": "python",
   "pygments_lexer": "ipython3",
   "version": "3.6.1"
  }
 },
 "nbformat": 4,
 "nbformat_minor": 2
}
