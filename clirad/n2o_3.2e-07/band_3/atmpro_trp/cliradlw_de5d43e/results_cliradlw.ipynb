{
 "cells": [
  {
   "cell_type": "code",
   "execution_count": 1,
   "metadata": {
    "collapsed": true
   },
   "outputs": [
    {
     "name": "stdout",
     "output_type": "stream",
     "text": [
      "The history saving thread hit an unexpected error (OperationalError('database is locked',)).History will not be written to the database.\n"
     ]
    }
   ],
   "source": [
    "%matplotlib inline\n",
    "import os\n",
    "import re\n",
    "import io\n",
    "import itertools\n",
    "import pprint\n",
    "\n",
    "from bokeh.io import output_notebook, show\n",
    "from bokeh.layouts import gridplot\n",
    "from bokeh.plotting import figure\n",
    "from bokeh.models import Range1d, Legend\n",
    "from bokeh.palettes import all_palettes\n",
    "\n",
    "import matplotlib\n",
    "import matplotlib.pyplot as plt\n",
    "import numpy as np\n",
    "import pandas as pd\n",
    "import xarray as xr\n",
    "\n",
    "import climatools.lblnew.bestfit_params as bestfits\n",
    "from climatools.lblnew import setup_bestfit, setup_overlap\n",
    "import climatools.lblnew.pipeline as pipe_lblnew\n",
    "import climatools.cliradlw.setup as setup_cliradlw\n",
    "import climatools.cliradlw.pipeline as pipe_cliradlw\n",
    "\n",
    "import climatools.html.html as climahtml\n",
    "from climatools.lblnew.dataio import *\n",
    "from climatools.plot.plot import *\n",
    "\n",
    "\n",
    "import IPython.display as display"
   ]
  },
  {
   "cell_type": "code",
   "execution_count": 2,
   "metadata": {
    "collapsed": true
   },
   "outputs": [],
   "source": [
    "%run param.py"
   ]
  },
  {
   "cell_type": "code",
   "execution_count": 3,
   "metadata": {
    "collapsed": true
   },
   "outputs": [],
   "source": [
    "def load_output_file(path_csv):\n",
    "    '''\n",
    "    Load lblnew output .csv file to xarray.Dataset\n",
    "    \n",
    "    Parameters\n",
    "    ----------\n",
    "    path_csv: str\n",
    "              Path to the .csv file to be loaded.\n",
    "    ds: xarray.Dataset\n",
    "        Data in the input file in the form of an xarray.Dataset.\n",
    "    '''\n",
    "    toindex = ['band', 'pressure', 'igg', 'g']    \n",
    "    df = pd.read_csv(path_csv, sep=r'\\s+')\n",
    "    df = df.set_index([i for i in toindex if i in df.columns])\n",
    "    df = df.rename(columns={'sfu': 'flug',\n",
    "                            'sfd': 'fldg',\n",
    "                            'fnet': 'fnetg',\n",
    "                            'coolr': 'coolrg'})\n",
    "    ds = xr.Dataset.from_dataframe(df)\n",
    "\n",
    "    for l in ('level', 'layer'):\n",
    "        if l in ds.data_vars:\n",
    "            if len(ds[l].dims) > 1:\n",
    "                surface = {d: 0 for d in ds.dims if d != 'pressure'}\n",
    "                coord_level = ds[l][surface]\n",
    "                ds.coords[l] = ('pressure', coord_level)\n",
    "            else:\n",
    "                ds.coords[l] = ('pressure', ds[l])\n",
    "    \n",
    "    return ds"
   ]
  },
  {
   "cell_type": "code",
   "execution_count": 4,
   "metadata": {
    "collapsed": true
   },
   "outputs": [],
   "source": [
    "def lblnew_setup(param=None):\n",
    "    if 'ng_refs' in param:\n",
    "        return {'setup': setup_bestfit,\n",
    "                'fname_flux_crd': 'output_flux.dat',\n",
    "                'fname_cool_crd': 'output_coolr.dat',\n",
    "                'fname_flux_wgt': 'output_wfluxg.dat',\n",
    "                'fname_cool_wgt': 'output_wcoolrg.dat'}\n",
    "    else:\n",
    "        return {'setup': setup_overlap,\n",
    "                'fname_flux_crd': 'output_flux.dat',\n",
    "                'fname_cool_crd': 'output_coolr.dat',\n",
    "                'fname_flux_wgt': 'output_wflux.dat',\n",
    "                'fname_cool_wgt': 'output_wcoolr.dat'}\n",
    "\n",
    "    \n",
    "def load_lblnew_data(param):\n",
    "    \n",
    "    fname_dsname = [('fname_flux_crd', 'ds_flux_crd'),\n",
    "                    ('fname_cool_crd', 'ds_cool_crd'),\n",
    "                    ('fname_flux_wgt', 'ds_flux_wgt'),\n",
    "                    ('fname_cool_wgt', 'ds_cool_wgt')]\n",
    "    \n",
    "    d = lblnew_setup(param)\n",
    "    dir_fortran = pipe_lblnew.get_dir_case(param, setup=d['setup'])\n",
    "    \n",
    "    data_dict = {}\n",
    "    for fname, dsname in fname_dsname:\n",
    "        fpath = os.path.join(dir_fortran, d[fname])\n",
    "        data_dict[dsname] = load_output_file(fpath)\n",
    "    return data_dict\n",
    "    \n",
    "\n",
    "    \n",
    "    "
   ]
  },
  {
   "cell_type": "code",
   "execution_count": 5,
   "metadata": {
    "collapsed": true
   },
   "outputs": [],
   "source": [
    "d = load_lblnew_data(PARAM_LBLNEW)\n",
    "\n",
    "DS_FLUX_CRD = d['ds_flux_crd']\n",
    "DS_COOL_CRD = d['ds_cool_crd']\n",
    "DS_FLUX_WGT = d['ds_flux_wgt']\n",
    "DS_COOL_WGT = d['ds_cool_wgt']"
   ]
  },
  {
   "cell_type": "code",
   "execution_count": 6,
   "metadata": {
    "collapsed": true
   },
   "outputs": [],
   "source": [
    "DIR_FORTRAN = pipe_cliradlw.get_fortran_dir(PARAM, \n",
    "                                            setup=setup_cliradlw)\n",
    "\n",
    "PATH_FLUX = os.path.join(DIR_FORTRAN, 'output_flux.dat')\n",
    "PATH_COOL = os.path.join(DIR_FORTRAN, 'output_coolr.dat')\n",
    "\n",
    "DS_FLUX = load_output_file(PATH_FLUX)\n",
    "DS_COOL = load_output_file(PATH_COOL)"
   ]
  },
  {
   "cell_type": "code",
   "execution_count": 7,
   "metadata": {
    "collapsed": true
   },
   "outputs": [
    {
     "data": {
      "text/html": [
       "\n",
       "    <div class=\"bk-root\">\n",
       "        <a href=\"https://bokeh.pydata.org\" target=\"_blank\" class=\"bk-logo bk-logo-small bk-logo-notebook\"></a>\n",
       "        <span id=\"48d82dcd-7fc4-4bae-a380-87b4e3e40f6c\">Loading BokehJS ...</span>\n",
       "    </div>"
      ]
     },
     "metadata": {},
     "output_type": "display_data"
    },
    {
     "data": {
      "application/javascript": [
       "\n",
       "(function(root) {\n",
       "  function now() {\n",
       "    return new Date();\n",
       "  }\n",
       "\n",
       "  var force = true;\n",
       "\n",
       "  if (typeof (root._bokeh_onload_callbacks) === \"undefined\" || force === true) {\n",
       "    root._bokeh_onload_callbacks = [];\n",
       "    root._bokeh_is_loading = undefined;\n",
       "  }\n",
       "\n",
       "  var JS_MIME_TYPE = 'application/javascript';\n",
       "  var HTML_MIME_TYPE = 'text/html';\n",
       "  var EXEC_MIME_TYPE = 'application/vnd.bokehjs_exec.v0+json';\n",
       "  var CLASS_NAME = 'output_bokeh rendered_html';\n",
       "\n",
       "  /**\n",
       "   * Render data to the DOM node\n",
       "   */\n",
       "  function render(props, node) {\n",
       "    var script = document.createElement(\"script\");\n",
       "    node.appendChild(script);\n",
       "  }\n",
       "\n",
       "  /**\n",
       "   * Handle when an output is cleared or removed\n",
       "   */\n",
       "  function handleClearOutput(event, handle) {\n",
       "    var cell = handle.cell;\n",
       "\n",
       "    var id = cell.output_area._bokeh_element_id;\n",
       "    var server_id = cell.output_area._bokeh_server_id;\n",
       "    // Clean up Bokeh references\n",
       "    if (id !== undefined) {\n",
       "      Bokeh.index[id].model.document.clear();\n",
       "      delete Bokeh.index[id];\n",
       "    }\n",
       "\n",
       "    if (server_id !== undefined) {\n",
       "      // Clean up Bokeh references\n",
       "      var cmd = \"from bokeh.io.state import curstate; print(curstate().uuid_to_server['\" + server_id + \"'].get_sessions()[0].document.roots[0]._id)\";\n",
       "      cell.notebook.kernel.execute(cmd, {\n",
       "        iopub: {\n",
       "          output: function(msg) {\n",
       "            var element_id = msg.content.text.trim();\n",
       "            Bokeh.index[element_id].model.document.clear();\n",
       "            delete Bokeh.index[element_id];\n",
       "          }\n",
       "        }\n",
       "      });\n",
       "      // Destroy server and session\n",
       "      var cmd = \"import bokeh.io.notebook as ion; ion.destroy_server('\" + server_id + \"')\";\n",
       "      cell.notebook.kernel.execute(cmd);\n",
       "    }\n",
       "  }\n",
       "\n",
       "  /**\n",
       "   * Handle when a new output is added\n",
       "   */\n",
       "  function handleAddOutput(event, handle) {\n",
       "    var output_area = handle.output_area;\n",
       "    var output = handle.output;\n",
       "\n",
       "    // limit handleAddOutput to display_data with EXEC_MIME_TYPE content only\n",
       "    if ((output.output_type != \"display_data\") || (!output.data.hasOwnProperty(EXEC_MIME_TYPE))) {\n",
       "      return\n",
       "    }\n",
       "\n",
       "    var toinsert = output_area.element.find(\".\" + CLASS_NAME.split(' ')[0]);\n",
       "\n",
       "    if (output.metadata[EXEC_MIME_TYPE][\"id\"] !== undefined) {\n",
       "      toinsert[toinsert.length - 1].firstChild.textContent = output.data[JS_MIME_TYPE];\n",
       "      // store reference to embed id on output_area\n",
       "      output_area._bokeh_element_id = output.metadata[EXEC_MIME_TYPE][\"id\"];\n",
       "    }\n",
       "    if (output.metadata[EXEC_MIME_TYPE][\"server_id\"] !== undefined) {\n",
       "      var bk_div = document.createElement(\"div\");\n",
       "      bk_div.innerHTML = output.data[HTML_MIME_TYPE];\n",
       "      var script_attrs = bk_div.children[0].attributes;\n",
       "      for (var i = 0; i < script_attrs.length; i++) {\n",
       "        toinsert[toinsert.length - 1].firstChild.setAttribute(script_attrs[i].name, script_attrs[i].value);\n",
       "      }\n",
       "      // store reference to server id on output_area\n",
       "      output_area._bokeh_server_id = output.metadata[EXEC_MIME_TYPE][\"server_id\"];\n",
       "    }\n",
       "  }\n",
       "\n",
       "  function register_renderer(events, OutputArea) {\n",
       "\n",
       "    function append_mime(data, metadata, element) {\n",
       "      // create a DOM node to render to\n",
       "      var toinsert = this.create_output_subarea(\n",
       "        metadata,\n",
       "        CLASS_NAME,\n",
       "        EXEC_MIME_TYPE\n",
       "      );\n",
       "      this.keyboard_manager.register_events(toinsert);\n",
       "      // Render to node\n",
       "      var props = {data: data, metadata: metadata[EXEC_MIME_TYPE]};\n",
       "      render(props, toinsert[toinsert.length - 1]);\n",
       "      element.append(toinsert);\n",
       "      return toinsert\n",
       "    }\n",
       "\n",
       "    /* Handle when an output is cleared or removed */\n",
       "    events.on('clear_output.CodeCell', handleClearOutput);\n",
       "    events.on('delete.Cell', handleClearOutput);\n",
       "\n",
       "    /* Handle when a new output is added */\n",
       "    events.on('output_added.OutputArea', handleAddOutput);\n",
       "\n",
       "    /**\n",
       "     * Register the mime type and append_mime function with output_area\n",
       "     */\n",
       "    OutputArea.prototype.register_mime_type(EXEC_MIME_TYPE, append_mime, {\n",
       "      /* Is output safe? */\n",
       "      safe: true,\n",
       "      /* Index of renderer in `output_area.display_order` */\n",
       "      index: 0\n",
       "    });\n",
       "  }\n",
       "\n",
       "  // register the mime type if in Jupyter Notebook environment and previously unregistered\n",
       "  if (root.Jupyter !== undefined) {\n",
       "    var events = require('base/js/events');\n",
       "    var OutputArea = require('notebook/js/outputarea').OutputArea;\n",
       "\n",
       "    if (OutputArea.prototype.mime_types().indexOf(EXEC_MIME_TYPE) == -1) {\n",
       "      register_renderer(events, OutputArea);\n",
       "    }\n",
       "  }\n",
       "\n",
       "  \n",
       "  if (typeof (root._bokeh_timeout) === \"undefined\" || force === true) {\n",
       "    root._bokeh_timeout = Date.now() + 5000;\n",
       "    root._bokeh_failed_load = false;\n",
       "  }\n",
       "\n",
       "  var NB_LOAD_WARNING = {'data': {'text/html':\n",
       "     \"<div style='background-color: #fdd'>\\n\"+\n",
       "     \"<p>\\n\"+\n",
       "     \"BokehJS does not appear to have successfully loaded. If loading BokehJS from CDN, this \\n\"+\n",
       "     \"may be due to a slow or bad network connection. Possible fixes:\\n\"+\n",
       "     \"</p>\\n\"+\n",
       "     \"<ul>\\n\"+\n",
       "     \"<li>re-rerun `output_notebook()` to attempt to load from CDN again, or</li>\\n\"+\n",
       "     \"<li>use INLINE resources instead, as so:</li>\\n\"+\n",
       "     \"</ul>\\n\"+\n",
       "     \"<code>\\n\"+\n",
       "     \"from bokeh.resources import INLINE\\n\"+\n",
       "     \"output_notebook(resources=INLINE)\\n\"+\n",
       "     \"</code>\\n\"+\n",
       "     \"</div>\"}};\n",
       "\n",
       "  function display_loaded() {\n",
       "    var el = document.getElementById(\"48d82dcd-7fc4-4bae-a380-87b4e3e40f6c\");\n",
       "    if (el != null) {\n",
       "      el.textContent = \"BokehJS is loading...\";\n",
       "    }\n",
       "    if (root.Bokeh !== undefined) {\n",
       "      if (el != null) {\n",
       "        el.textContent = \"BokehJS \" + root.Bokeh.version + \" successfully loaded.\";\n",
       "      }\n",
       "    } else if (Date.now() < root._bokeh_timeout) {\n",
       "      setTimeout(display_loaded, 100)\n",
       "    }\n",
       "  }\n",
       "\n",
       "\n",
       "  function run_callbacks() {\n",
       "    try {\n",
       "      root._bokeh_onload_callbacks.forEach(function(callback) { callback() });\n",
       "    }\n",
       "    finally {\n",
       "      delete root._bokeh_onload_callbacks\n",
       "    }\n",
       "    console.info(\"Bokeh: all callbacks have finished\");\n",
       "  }\n",
       "\n",
       "  function load_libs(js_urls, callback) {\n",
       "    root._bokeh_onload_callbacks.push(callback);\n",
       "    if (root._bokeh_is_loading > 0) {\n",
       "      console.log(\"Bokeh: BokehJS is being loaded, scheduling callback at\", now());\n",
       "      return null;\n",
       "    }\n",
       "    if (js_urls == null || js_urls.length === 0) {\n",
       "      run_callbacks();\n",
       "      return null;\n",
       "    }\n",
       "    console.log(\"Bokeh: BokehJS not loaded, scheduling load and callback at\", now());\n",
       "    root._bokeh_is_loading = js_urls.length;\n",
       "    for (var i = 0; i < js_urls.length; i++) {\n",
       "      var url = js_urls[i];\n",
       "      var s = document.createElement('script');\n",
       "      s.src = url;\n",
       "      s.async = false;\n",
       "      s.onreadystatechange = s.onload = function() {\n",
       "        root._bokeh_is_loading--;\n",
       "        if (root._bokeh_is_loading === 0) {\n",
       "          console.log(\"Bokeh: all BokehJS libraries loaded\");\n",
       "          run_callbacks()\n",
       "        }\n",
       "      };\n",
       "      s.onerror = function() {\n",
       "        console.warn(\"failed to load library \" + url);\n",
       "      };\n",
       "      console.log(\"Bokeh: injecting script tag for BokehJS library: \", url);\n",
       "      document.getElementsByTagName(\"head\")[0].appendChild(s);\n",
       "    }\n",
       "  };var element = document.getElementById(\"48d82dcd-7fc4-4bae-a380-87b4e3e40f6c\");\n",
       "  if (element == null) {\n",
       "    console.log(\"Bokeh: ERROR: autoload.js configured with elementid '48d82dcd-7fc4-4bae-a380-87b4e3e40f6c' but no matching script tag was found. \")\n",
       "    return false;\n",
       "  }\n",
       "\n",
       "  var js_urls = [\"https://cdn.pydata.org/bokeh/release/bokeh-0.12.16.min.js\", \"https://cdn.pydata.org/bokeh/release/bokeh-widgets-0.12.16.min.js\", \"https://cdn.pydata.org/bokeh/release/bokeh-tables-0.12.16.min.js\", \"https://cdn.pydata.org/bokeh/release/bokeh-gl-0.12.16.min.js\"];\n",
       "\n",
       "  var inline_js = [\n",
       "    function(Bokeh) {\n",
       "      Bokeh.set_log_level(\"info\");\n",
       "    },\n",
       "    \n",
       "    function(Bokeh) {\n",
       "      \n",
       "    },\n",
       "    function(Bokeh) {\n",
       "      console.log(\"Bokeh: injecting CSS: https://cdn.pydata.org/bokeh/release/bokeh-0.12.16.min.css\");\n",
       "      Bokeh.embed.inject_css(\"https://cdn.pydata.org/bokeh/release/bokeh-0.12.16.min.css\");\n",
       "      console.log(\"Bokeh: injecting CSS: https://cdn.pydata.org/bokeh/release/bokeh-widgets-0.12.16.min.css\");\n",
       "      Bokeh.embed.inject_css(\"https://cdn.pydata.org/bokeh/release/bokeh-widgets-0.12.16.min.css\");\n",
       "      console.log(\"Bokeh: injecting CSS: https://cdn.pydata.org/bokeh/release/bokeh-tables-0.12.16.min.css\");\n",
       "      Bokeh.embed.inject_css(\"https://cdn.pydata.org/bokeh/release/bokeh-tables-0.12.16.min.css\");\n",
       "    }\n",
       "  ];\n",
       "\n",
       "  function run_inline_js() {\n",
       "    \n",
       "    if ((root.Bokeh !== undefined) || (force === true)) {\n",
       "      for (var i = 0; i < inline_js.length; i++) {\n",
       "        inline_js[i].call(root, root.Bokeh);\n",
       "      }if (force === true) {\n",
       "        display_loaded();\n",
       "      }} else if (Date.now() < root._bokeh_timeout) {\n",
       "      setTimeout(run_inline_js, 100);\n",
       "    } else if (!root._bokeh_failed_load) {\n",
       "      console.log(\"Bokeh: BokehJS failed to load within specified timeout.\");\n",
       "      root._bokeh_failed_load = true;\n",
       "    } else if (force !== true) {\n",
       "      var cell = $(document.getElementById(\"48d82dcd-7fc4-4bae-a380-87b4e3e40f6c\")).parents('.cell').data().cell;\n",
       "      cell.output_area.append_execute_result(NB_LOAD_WARNING)\n",
       "    }\n",
       "\n",
       "  }\n",
       "\n",
       "  if (root._bokeh_is_loading === 0) {\n",
       "    console.log(\"Bokeh: BokehJS loaded, going straight to plotting\");\n",
       "    run_inline_js();\n",
       "  } else {\n",
       "    load_libs(js_urls, function() {\n",
       "      console.log(\"Bokeh: BokehJS plotting callback run at\", now());\n",
       "      run_inline_js();\n",
       "    });\n",
       "  }\n",
       "}(window));"
      ],
      "application/vnd.bokehjs_load.v0+json": "\n(function(root) {\n  function now() {\n    return new Date();\n  }\n\n  var force = true;\n\n  if (typeof (root._bokeh_onload_callbacks) === \"undefined\" || force === true) {\n    root._bokeh_onload_callbacks = [];\n    root._bokeh_is_loading = undefined;\n  }\n\n  \n\n  \n  if (typeof (root._bokeh_timeout) === \"undefined\" || force === true) {\n    root._bokeh_timeout = Date.now() + 5000;\n    root._bokeh_failed_load = false;\n  }\n\n  var NB_LOAD_WARNING = {'data': {'text/html':\n     \"<div style='background-color: #fdd'>\\n\"+\n     \"<p>\\n\"+\n     \"BokehJS does not appear to have successfully loaded. If loading BokehJS from CDN, this \\n\"+\n     \"may be due to a slow or bad network connection. Possible fixes:\\n\"+\n     \"</p>\\n\"+\n     \"<ul>\\n\"+\n     \"<li>re-rerun `output_notebook()` to attempt to load from CDN again, or</li>\\n\"+\n     \"<li>use INLINE resources instead, as so:</li>\\n\"+\n     \"</ul>\\n\"+\n     \"<code>\\n\"+\n     \"from bokeh.resources import INLINE\\n\"+\n     \"output_notebook(resources=INLINE)\\n\"+\n     \"</code>\\n\"+\n     \"</div>\"}};\n\n  function display_loaded() {\n    var el = document.getElementById(\"48d82dcd-7fc4-4bae-a380-87b4e3e40f6c\");\n    if (el != null) {\n      el.textContent = \"BokehJS is loading...\";\n    }\n    if (root.Bokeh !== undefined) {\n      if (el != null) {\n        el.textContent = \"BokehJS \" + root.Bokeh.version + \" successfully loaded.\";\n      }\n    } else if (Date.now() < root._bokeh_timeout) {\n      setTimeout(display_loaded, 100)\n    }\n  }\n\n\n  function run_callbacks() {\n    try {\n      root._bokeh_onload_callbacks.forEach(function(callback) { callback() });\n    }\n    finally {\n      delete root._bokeh_onload_callbacks\n    }\n    console.info(\"Bokeh: all callbacks have finished\");\n  }\n\n  function load_libs(js_urls, callback) {\n    root._bokeh_onload_callbacks.push(callback);\n    if (root._bokeh_is_loading > 0) {\n      console.log(\"Bokeh: BokehJS is being loaded, scheduling callback at\", now());\n      return null;\n    }\n    if (js_urls == null || js_urls.length === 0) {\n      run_callbacks();\n      return null;\n    }\n    console.log(\"Bokeh: BokehJS not loaded, scheduling load and callback at\", now());\n    root._bokeh_is_loading = js_urls.length;\n    for (var i = 0; i < js_urls.length; i++) {\n      var url = js_urls[i];\n      var s = document.createElement('script');\n      s.src = url;\n      s.async = false;\n      s.onreadystatechange = s.onload = function() {\n        root._bokeh_is_loading--;\n        if (root._bokeh_is_loading === 0) {\n          console.log(\"Bokeh: all BokehJS libraries loaded\");\n          run_callbacks()\n        }\n      };\n      s.onerror = function() {\n        console.warn(\"failed to load library \" + url);\n      };\n      console.log(\"Bokeh: injecting script tag for BokehJS library: \", url);\n      document.getElementsByTagName(\"head\")[0].appendChild(s);\n    }\n  };var element = document.getElementById(\"48d82dcd-7fc4-4bae-a380-87b4e3e40f6c\");\n  if (element == null) {\n    console.log(\"Bokeh: ERROR: autoload.js configured with elementid '48d82dcd-7fc4-4bae-a380-87b4e3e40f6c' but no matching script tag was found. \")\n    return false;\n  }\n\n  var js_urls = [\"https://cdn.pydata.org/bokeh/release/bokeh-0.12.16.min.js\", \"https://cdn.pydata.org/bokeh/release/bokeh-widgets-0.12.16.min.js\", \"https://cdn.pydata.org/bokeh/release/bokeh-tables-0.12.16.min.js\", \"https://cdn.pydata.org/bokeh/release/bokeh-gl-0.12.16.min.js\"];\n\n  var inline_js = [\n    function(Bokeh) {\n      Bokeh.set_log_level(\"info\");\n    },\n    \n    function(Bokeh) {\n      \n    },\n    function(Bokeh) {\n      console.log(\"Bokeh: injecting CSS: https://cdn.pydata.org/bokeh/release/bokeh-0.12.16.min.css\");\n      Bokeh.embed.inject_css(\"https://cdn.pydata.org/bokeh/release/bokeh-0.12.16.min.css\");\n      console.log(\"Bokeh: injecting CSS: https://cdn.pydata.org/bokeh/release/bokeh-widgets-0.12.16.min.css\");\n      Bokeh.embed.inject_css(\"https://cdn.pydata.org/bokeh/release/bokeh-widgets-0.12.16.min.css\");\n      console.log(\"Bokeh: injecting CSS: https://cdn.pydata.org/bokeh/release/bokeh-tables-0.12.16.min.css\");\n      Bokeh.embed.inject_css(\"https://cdn.pydata.org/bokeh/release/bokeh-tables-0.12.16.min.css\");\n    }\n  ];\n\n  function run_inline_js() {\n    \n    if ((root.Bokeh !== undefined) || (force === true)) {\n      for (var i = 0; i < inline_js.length; i++) {\n        inline_js[i].call(root, root.Bokeh);\n      }if (force === true) {\n        display_loaded();\n      }} else if (Date.now() < root._bokeh_timeout) {\n      setTimeout(run_inline_js, 100);\n    } else if (!root._bokeh_failed_load) {\n      console.log(\"Bokeh: BokehJS failed to load within specified timeout.\");\n      root._bokeh_failed_load = true;\n    } else if (force !== true) {\n      var cell = $(document.getElementById(\"48d82dcd-7fc4-4bae-a380-87b4e3e40f6c\")).parents('.cell').data().cell;\n      cell.output_area.append_execute_result(NB_LOAD_WARNING)\n    }\n\n  }\n\n  if (root._bokeh_is_loading === 0) {\n    console.log(\"Bokeh: BokehJS loaded, going straight to plotting\");\n    run_inline_js();\n  } else {\n    load_libs(js_urls, function() {\n      console.log(\"Bokeh: BokehJS plotting callback run at\", now());\n      run_inline_js();\n    });\n  }\n}(window));"
     },
     "metadata": {},
     "output_type": "display_data"
    }
   ],
   "source": [
    "output_notebook()"
   ]
  },
  {
   "cell_type": "code",
   "execution_count": 8,
   "metadata": {
    "collapsed": true
   },
   "outputs": [],
   "source": [
    "def fmt_cool(ds_in):\n",
    "    ds = ds_in.copy(deep=True)\n",
    "    if 'igg' in ds.dims:\n",
    "        ds = ds.sel(igg=1)\n",
    "\n",
    "    if 'g' in ds.dims:\n",
    "        ds = ds.sum('g')\n",
    "            \n",
    "    if 'band' in ds.dims:\n",
    "        try:\n",
    "            ds = ds.squeeze('band')\n",
    "        except ValueError:\n",
    "            ds = ds.sum('band')\n",
    "                \n",
    "    return ds['coolrg']\n",
    "\n",
    "\n",
    "def pltdata_cooling_1(ds_cool=None,\n",
    "                      ds_cool_crd=None, ds_cool_wgt=None):\n",
    "    \n",
    "\n",
    "\n",
    "    colors = all_palettes['Set1'][4]\n",
    "    data = [{'label': 'CLIRAD `coolr_bands`',\n",
    "             'srs': fmt_cool(ds_cool),\n",
    "             'line_dash': 'dashed', 'line_width': 5,\n",
    "             'color': colors[0], 'alpha': .6},\n",
    "            {'label': 'CRD',\n",
    "             'srs': fmt_cool(ds_cool_crd),\n",
    "             'line_dash': 'solid', 'line_width': 1.5,\n",
    "             'marker': 'circle', 'marker_size': 5,\n",
    "             'color': colors[2], 'alpha': 1,},\n",
    "            {'label': 'WGT igg=10 wgt_flux=2',\n",
    "             'srs': fmt_cool(ds_cool_wgt),\n",
    "             'line_dash': 'solid', 'line_width': 3,\n",
    "             'marker': 'square', 'marker_size': 5,\n",
    "             'color': colors[3], 'alpha': .6}]\n",
    "    return data\n",
    "\n",
    "\n",
    "def nice_xlims(pltdata=None, prange=None):\n",
    "    \n",
    "    def get_slice(srs):\n",
    "        return srs.sel(pressure=slice(*prange))\n",
    "    \n",
    "    srss = [d['srs'] for d in pltdata]\n",
    "    vmin = min([get_slice(srs).min() for srs in srss])\n",
    "    vmax = max([get_slice(srs).max() for srs in srss])\n",
    "    dv = (vmax - vmin) * .01\n",
    "    return float(vmin - dv), float(vmax + dv)\n",
    "    \n",
    "\n",
    "def plt_cooling_bokeh(pltdata=None):\n",
    "    '''\n",
    "    Plot a list of cooling rate profiles using bokeh.\n",
    "    '''\n",
    "    ymin = 1e-2 \n",
    "    ymax = 1020 \n",
    "        \n",
    "    p1 = figure(title=\"Linear pressure scale\", \n",
    "                plot_width=400)        \n",
    "    xmin, xmax = nice_xlims(pltdata, prange=(50, 1050))\n",
    "    for d in pltdata:\n",
    "        if 'marker' in d:\n",
    "            getattr(p1, d['marker'])(d['srs'].values, \n",
    "                    d['srs'].coords['pressure'].values,\n",
    "                    color=d['color'], alpha=.7)\n",
    "        p1.line(d['srs'].values, \n",
    "                d['srs'].coords['pressure'].values,\n",
    "                color=d['color'], alpha=d['alpha'], \n",
    "                line_width=d['line_width'], line_dash=d['line_dash'])\n",
    "    \n",
    "    p1.y_range = Range1d(ymax, ymin)\n",
    "    p1.yaxis.axis_label = 'pressure [mb]'   \n",
    "    p1.x_range = Range1d(xmin, xmax)\n",
    "    p1.xaxis.axis_label = 'cooling rate [K/day]'\n",
    "            \n",
    "    p2 = figure(title='Log pressure scale', y_axis_type='log',\n",
    "                plot_width=560)\n",
    "    xmin, xmax = nice_xlims(pltdata, prange=(.01, 200))\n",
    "    \n",
    "    rs = []\n",
    "    for d in pltdata:\n",
    "        rd = []\n",
    "        if 'marker' in d:\n",
    "            r_mark = getattr(p2, d['marker'])(d['srs'].values, \n",
    "                        d['srs'].coords['pressure'].values,\n",
    "                        color=d['color'], alpha=.7)\n",
    "            rd.append(r_mark)\n",
    "        r_line = p2.line(d['srs'].values, \n",
    "                    d['srs'].coords['pressure'].values,\n",
    "                    color=d['color'], alpha=d['alpha'], \n",
    "                    line_width=d['line_width'], line_dash=d['line_dash'])\n",
    "        rd.append(r_line)\n",
    "      \n",
    "        rs.append(rd)\n",
    "        \n",
    "    p2.y_range = Range1d(ymax, ymin)  \n",
    "    p2.yaxis.axis_label = 'pressure [mb]'\n",
    "    \n",
    "    p2.x_range = Range1d(xmin, xmax)\n",
    "    p2.xaxis.axis_label = 'cooling rate [K/day]'\n",
    "    \n",
    "    items = [(d['label'], r) for r, d in zip(rs, pltdata)]\n",
    "    legend = Legend(items=items, location=(10, -30))\n",
    "    legend.label_text_font_size = '8pt'\n",
    "    \n",
    "    p2.add_layout(legend, 'right')  \n",
    "    \n",
    "    show(gridplot(p1, p2, ncols=2, plot_height=500))\n",
    "    \n",
    "\n",
    "def script_plt_cooling():\n",
    "    pltdata = pltdata_cooling_1(\n",
    "        ds_cool=DS_COOL,\n",
    "        ds_cool_crd=DS_COOL_CRD,\n",
    "        ds_cool_wgt=DS_COOL_WGT)\n",
    "    plt_cooling_bokeh(pltdata=pltdata)\n",
    "    print('''FIGURE. Cooling rate profiles.''')"
   ]
  },
  {
   "cell_type": "code",
   "execution_count": 9,
   "metadata": {
    "collapsed": true
   },
   "outputs": [],
   "source": [
    "def fmt_flux(ds_in):\n",
    "    ds = ds_in.copy(deep=True)\n",
    "    \n",
    "    for l in ('level', 'layer'):\n",
    "        if l in ds.data_vars:\n",
    "            if len(ds[l].dims) > 1:\n",
    "                surface = {d: 0 for d in ds.dims if d != 'pressure'}\n",
    "                coord_level = ds[l][surface]\n",
    "                ds.coords[l] = ('pressure', coord_level)\n",
    "            else:\n",
    "                ds.coords[l] = ('pressure', ds[l])\n",
    "        \n",
    "    ds = ds.isel(pressure=[0, 23, -1])\n",
    "        \n",
    "    if 'igg' in ds.dims:\n",
    "        ds = ds.sel(igg=[1])\n",
    "        ds = ds.squeeze('igg').drop('igg')\n",
    "    \n",
    "    if 'g' in ds.dims:\n",
    "        ds = ds.sum('g')\n",
    "            \n",
    "    if 'band' in ds.dims:\n",
    "        try:\n",
    "            ds = ds.squeeze('band').drop('band')\n",
    "        except ValueError:\n",
    "            ds = ds.sum('band')\n",
    "                \n",
    "    df = ds.to_dataframe()\n",
    "    df = df.set_index('level', append=True)               \n",
    "    return df\n",
    "\n",
    "\n",
    "def tbdata_flux(ds_flux=None, ds_flux_crd=None, ds_flux_wgt=None):\n",
    "    ilevels = [0, 23, -1]\n",
    "            \n",
    "    benchmark = {'label': 'CRD',\n",
    "                 'df': fmt_flux(ds_flux_crd)}\n",
    "    \n",
    "    tbs = [{'label': 'WGT igg=10 wgt_flux=1',\n",
    "            'df': fmt_flux(ds_flux_wgt)},\n",
    "           {'label': 'CLIRAD',\n",
    "            'df': fmt_flux(ds_flux)}]\n",
    "    \n",
    "    data = {'benchmark': benchmark, 'others': tbs}\n",
    "    return data\n",
    "\n",
    "\n",
    "def tb_flux(tbdata=None):\n",
    "    benchmark = tbdata['benchmark']\n",
    "    others = tbdata['others']\n",
    "    \n",
    "    def show_tb(d=None):\n",
    "        display.display(d['df'])\n",
    "        print('Table.', 'Fluxes.', d['label'])\n",
    "        \n",
    "    def show_tbdiff(d0=None, d=None):\n",
    "        df = d['df']\n",
    "        df.index = d0['df'].index\n",
    "        display.display(df - d0['df'])\n",
    "        print('Table.', 'Fluxes.', \n",
    "              '({}) - ({})'.format(d['label'], d0['label']))\n",
    "        \n",
    "    show_tb(benchmark)\n",
    "    for d in others:\n",
    "        show_tb(d)\n",
    "        \n",
    "    for d in others:\n",
    "        show_tbdiff(d=d, d0=benchmark)\n",
    "        \n",
    "        \n",
    "def script_tb_flux():\n",
    "    data = tbdata_flux(ds_flux=DS_FLUX,\n",
    "                       ds_flux_crd=DS_FLUX_CRD,\n",
    "                       ds_flux_wgt=DS_FLUX_WGT)\n",
    "    tb_flux(tbdata=data)"
   ]
  },
  {
   "cell_type": "code",
   "execution_count": 10,
   "metadata": {
    "collapsed": true
   },
   "outputs": [],
   "source": [
    "def band_map():\n",
    "    '''\n",
    "    Maps spectral bands in lblnew to spectral bands in clirad.\n",
    "    '''\n",
    "    lblnew2clirad = {'1': '1',\n",
    "            '2': '2',\n",
    "            '3a': '3',\n",
    "            '3b': '4',\n",
    "            '3c': '5',\n",
    "            '4': '6', \n",
    "            '5': '7',\n",
    "            '6': '8',\n",
    "            '7': '9', \n",
    "            '8': '10',\n",
    "            '9': '11'}\n",
    "    \n",
    "    clirad2lblnew = {clirad: lblnew \n",
    "                     for lblnew, clirad in lblnew2clirad.items()}\n",
    "    return clirad2lblnew\n",
    "\n",
    "\n",
    "def gasbands():\n",
    "    bmap = band_map()\n",
    "    gases = list(PARAM['molecule'].keys())\n",
    "    \n",
    "    bands = [bmap[str(b)] for b in PARAM['band']]\n",
    "    return list(itertools.product(gases, bands))\n",
    "\n",
    "\n",
    "def print_bestfit_params():\n",
    "    print('Best-fit values for each (gas, band)')\n",
    "    print('------------------------------------')\n",
    "    for gas, band in gasbands():\n",
    "        print('o {} band{}'.format(gas, band))\n",
    "        param = bestfits.kdist_params(molecule=gas, band=band)\n",
    "        for name, value in sorted(param.items()):\n",
    "            print(2 * ' ' + '{} = {}'.format(name, value))\n",
    "\n",
    "        \n",
    "def print_input_param():        \n",
    "    for name, value in PARAM.items():\n",
    "        print('{} = {}'.format(name, value))\n",
    "        \n",
    "        \n",
    "def print_lblnew_param():\n",
    "    for name, value in sorted(PARAM_LBLNEW.items()):\n",
    "        print('{} = {}'.format(name, value))\n"
   ]
  },
  {
   "cell_type": "code",
   "execution_count": 11,
   "metadata": {
    "collapsed": true,
    "scrolled": false
   },
   "outputs": [],
   "source": [
    "def show_html(s):\n",
    "    display.display(display.HTML(s))\n",
    "\n",
    "    \n",
    "def show_markdown(s):\n",
    "    display.display(display.Markdown(s))\n",
    "\n",
    "    \n",
    "def script():\n",
    "    \n",
    "    title = '### CLIRAD-LW'\n",
    "    s_input = 'Input Parameters'\n",
    "    s_lblnew_param = 'LBLNEW case compaired against'\n",
    "    s_bestfits = 'Best-fit Parameters'\n",
    "    s_plt_cooling = 'Cooling Rate Profiles'\n",
    "    s_tb_flux = 'Flux Comparison'\n",
    "    \n",
    "    # title\n",
    "    show_markdown('### CLIRAD-LW')\n",
    "    \n",
    "    # TOC\n",
    "    show_markdown('### Table of Contents')\n",
    "    show_html(climahtml.getHTML_hrefanchor(s_input))\n",
    "    show_html(climahtml.getHTML_hrefanchor(s_lblnew_param))\n",
    "    show_html(climahtml.getHTML_hrefanchor(s_plt_cooling))\n",
    "    show_html(climahtml.getHTML_hrefanchor(s_tb_flux))\n",
    "    show_html(climahtml.getHTML_hrefanchor(s_bestfits))\n",
    "    \n",
    "    # Input parameters\n",
    "    show_html(climahtml.getHTML_idanchor(s_input))\n",
    "    show_markdown(climahtml.getMarkdown_sectitle(s_input))\n",
    "    print_input_param()\n",
    "    \n",
    "    # LBLNEW parameters \n",
    "    show_html(climahtml.getHTML_idanchor(s_lblnew_param))\n",
    "    show_markdown(climahtml.getMarkdown_sectitle(s_lblnew_param))\n",
    "    print_lblnew_param()\n",
    "    \n",
    "    # Cooling rate profiles\n",
    "    show_html(climahtml.getHTML_idanchor(s_plt_cooling))\n",
    "    show_markdown(climahtml.getMarkdown_sectitle(s_plt_cooling))\n",
    "    script_plt_cooling()\n",
    "    \n",
    "    # Flux comparison\n",
    "    show_html(climahtml.getHTML_idanchor(s_tb_flux))\n",
    "    show_markdown(climahtml.getMarkdown_sectitle(s_tb_flux))\n",
    "    script_tb_flux()\n",
    "    \n",
    "    # Best-fit values\n",
    "    show_html(climahtml.getHTML_idanchor(s_bestfits))\n",
    "    show_markdown(climahtml.getMarkdown_sectitle(s_bestfits))\n",
    "    print_bestfit_params()\n",
    "   \n",
    "    "
   ]
  },
  {
   "cell_type": "code",
   "execution_count": 12,
   "metadata": {
    "collapsed": true,
    "scrolled": false
   },
   "outputs": [
    {
     "data": {
      "text/markdown": [
       "### CLIRAD-LW"
      ],
      "text/plain": [
       "<IPython.core.display.Markdown object>"
      ]
     },
     "metadata": {},
     "output_type": "display_data"
    },
    {
     "data": {
      "text/markdown": [
       "### Table of Contents"
      ],
      "text/plain": [
       "<IPython.core.display.Markdown object>"
      ]
     },
     "metadata": {},
     "output_type": "display_data"
    },
    {
     "data": {
      "text/html": [
       "<a href=\"#Input_Parameters\">Input Parameters</a>"
      ],
      "text/plain": [
       "<IPython.core.display.HTML object>"
      ]
     },
     "metadata": {},
     "output_type": "display_data"
    },
    {
     "data": {
      "text/html": [
       "<a href=\"#LBLNEW_case_compaired_against\">LBLNEW case compaired against</a>"
      ],
      "text/plain": [
       "<IPython.core.display.HTML object>"
      ]
     },
     "metadata": {},
     "output_type": "display_data"
    },
    {
     "data": {
      "text/html": [
       "<a href=\"#Cooling_Rate_Profiles\">Cooling Rate Profiles</a>"
      ],
      "text/plain": [
       "<IPython.core.display.HTML object>"
      ]
     },
     "metadata": {},
     "output_type": "display_data"
    },
    {
     "data": {
      "text/html": [
       "<a href=\"#Flux_Comparison\">Flux Comparison</a>"
      ],
      "text/plain": [
       "<IPython.core.display.HTML object>"
      ]
     },
     "metadata": {},
     "output_type": "display_data"
    },
    {
     "data": {
      "text/html": [
       "<a href=\"#Best-fit_Parameters\">Best-fit Parameters</a>"
      ],
      "text/plain": [
       "<IPython.core.display.HTML object>"
      ]
     },
     "metadata": {},
     "output_type": "display_data"
    },
    {
     "data": {
      "text/html": [
       "<a id=\"Input_Parameters\"></a>"
      ],
      "text/plain": [
       "<IPython.core.display.HTML object>"
      ]
     },
     "metadata": {},
     "output_type": "display_data"
    },
    {
     "data": {
      "text/markdown": [
       "# Input Parameters"
      ],
      "text/plain": [
       "<IPython.core.display.Markdown object>"
      ]
     },
     "metadata": {},
     "output_type": "display_data"
    },
    {
     "name": "stdout",
     "output_type": "stream",
     "text": [
      "atmpro = trp\n",
      "band = [3]\n",
      "commitnumber = de5d43e\n",
      "molecule = {'n2o': 3.2e-07}\n",
      "tsfc = 300\n"
     ]
    },
    {
     "data": {
      "text/html": [
       "<a id=\"LBLNEW_case_compaired_against\"></a>"
      ],
      "text/plain": [
       "<IPython.core.display.HTML object>"
      ]
     },
     "metadata": {},
     "output_type": "display_data"
    },
    {
     "data": {
      "text/markdown": [
       "# LBLNEW case compaired against"
      ],
      "text/plain": [
       "<IPython.core.display.Markdown object>"
      ]
     },
     "metadata": {},
     "output_type": "display_data"
    },
    {
     "name": "stdout",
     "output_type": "stream",
     "text": [
      "atmpro = trp\n",
      "band = 3a\n",
      "commitnumber = 5014a19\n",
      "conc = 3.2e-07\n",
      "dv = 0.001\n",
      "klin = 2.22e-20\n",
      "molecule = n2o\n",
      "ng_adju = [0, 0]\n",
      "ng_refs = [1, 2]\n",
      "nv = 1000\n",
      "option_compute_btable = 0\n",
      "option_compute_ktable = 0\n",
      "option_wgt_flux = 1\n",
      "option_wgt_k = 1\n",
      "ref_pts = [(1, 250), (500, 250)]\n",
      "tsfc = 300\n",
      "vmax = 620\n",
      "vmin = 540\n",
      "w_diffuse = [(1.8,), (1.66, 1.8)]\n",
      "wgt = [(0.9,), (0.5, 0.95)]\n"
     ]
    },
    {
     "data": {
      "text/html": [
       "<a id=\"Cooling_Rate_Profiles\"></a>"
      ],
      "text/plain": [
       "<IPython.core.display.HTML object>"
      ]
     },
     "metadata": {},
     "output_type": "display_data"
    },
    {
     "data": {
      "text/markdown": [
       "# Cooling Rate Profiles"
      ],
      "text/plain": [
       "<IPython.core.display.Markdown object>"
      ]
     },
     "metadata": {},
     "output_type": "display_data"
    },
    {
     "data": {
      "text/html": [
       "\n",
       "<div class=\"bk-root\">\n",
       "    <div class=\"bk-plotdiv\" id=\"113e5b53-83ae-4c97-aa2b-7086f80e62b2\"></div>\n",
       "</div>"
      ]
     },
     "metadata": {},
     "output_type": "display_data"
    },
    {
     "data": {
      "application/javascript": [
       "(function(root) {\n",
       "  function embed_document(root) {\n",
       "    \n",
       "  var docs_json = {\"510ab820-607a-4b50-944a-efd23a8ac6f1\":{\"roots\":{\"references\":[{\"attributes\":{\"source\":{\"id\":\"1c3c5759-c8f0-436e-b035-202c1ae7fc10\",\"type\":\"ColumnDataSource\"}},\"id\":\"4d7f92db-8177-4f19-996e-fa05afa71a03\",\"type\":\"CDSView\"},{\"attributes\":{\"data_source\":{\"id\":\"b1806239-5424-4237-987b-1163e1866969\",\"type\":\"ColumnDataSource\"},\"glyph\":{\"id\":\"4ec97222-7185-4061-8617-6fc2c2df7bf9\",\"type\":\"Line\"},\"hover_glyph\":null,\"muted_glyph\":null,\"nonselection_glyph\":{\"id\":\"12484ff9-fcac-479b-a369-8f633a2e10fe\",\"type\":\"Line\"},\"selection_glyph\":null,\"view\":{\"id\":\"372ce130-3c08-488e-ae2f-227a4828d1e0\",\"type\":\"CDSView\"}},\"id\":\"ba550b0a-f6f6-4a0d-a408-f6fd1e465df0\",\"type\":\"GlyphRenderer\"},{\"attributes\":{\"fill_alpha\":{\"value\":0.7},\"fill_color\":{\"value\":\"#984ea3\"},\"line_alpha\":{\"value\":0.7},\"line_color\":{\"value\":\"#984ea3\"},\"x\":{\"field\":\"x\"},\"y\":{\"field\":\"y\"}},\"id\":\"30519599-f11b-410a-a8dd-1e875bad0577\",\"type\":\"Square\"},{\"attributes\":{\"callback\":null,\"end\":0.01,\"start\":1020},\"id\":\"e44b2663-062a-46de-ab1a-305a0a96db5b\",\"type\":\"Range1d\"},{\"attributes\":{\"source\":{\"id\":\"d39b13b3-747c-40c5-a806-0083f91cd9b6\",\"type\":\"ColumnDataSource\"}},\"id\":\"c1fcf58f-403b-4739-a723-471fe46e11a0\",\"type\":\"CDSView\"},{\"attributes\":{\"data_source\":{\"id\":\"f0c89813-eef9-4eb1-a168-e32d9c57d1c7\",\"type\":\"ColumnDataSource\"},\"glyph\":{\"id\":\"3648c955-92ca-4131-9ed5-67cd8e73c9b9\",\"type\":\"Circle\"},\"hover_glyph\":null,\"muted_glyph\":null,\"nonselection_glyph\":{\"id\":\"e543056d-d8c0-478f-a85b-591617ede69d\",\"type\":\"Circle\"},\"selection_glyph\":null,\"view\":{\"id\":\"ed01ffaf-b72e-4755-be99-75d43a08a4eb\",\"type\":\"CDSView\"}},\"id\":\"fe94de56-e107-4814-babd-515d96c58451\",\"type\":\"GlyphRenderer\"},{\"attributes\":{},\"id\":\"b4fc5efd-3892-46ae-8964-01ee2f060e2d\",\"type\":\"BasicTicker\"},{\"attributes\":{\"dimension\":1,\"plot\":{\"id\":\"56ad861b-28c1-4a64-b165-19ab95437d34\",\"subtype\":\"Figure\",\"type\":\"Plot\"},\"ticker\":{\"id\":\"e0738c27-409a-45a3-92a6-f29a84665d23\",\"type\":\"BasicTicker\"}},\"id\":\"658000cb-6ed8-4ac8-b0f0-a4876ccd2dc0\",\"type\":\"Grid\"},{\"attributes\":{\"bottom_units\":\"screen\",\"fill_alpha\":{\"value\":0.5},\"fill_color\":{\"value\":\"lightgrey\"},\"left_units\":\"screen\",\"level\":\"overlay\",\"line_alpha\":{\"value\":1.0},\"line_color\":{\"value\":\"black\"},\"line_dash\":[4,4],\"line_width\":{\"value\":2},\"plot\":null,\"render_mode\":\"css\",\"right_units\":\"screen\",\"top_units\":\"screen\"},\"id\":\"3f23c077-4afa-457c-84cc-0e9481528c91\",\"type\":\"BoxAnnotation\"},{\"attributes\":{\"fill_alpha\":{\"value\":0.1},\"fill_color\":{\"value\":\"#1f77b4\"},\"line_alpha\":{\"value\":0.1},\"line_color\":{\"value\":\"#1f77b4\"},\"x\":{\"field\":\"x\"},\"y\":{\"field\":\"y\"}},\"id\":\"e543056d-d8c0-478f-a85b-591617ede69d\",\"type\":\"Circle\"},{\"attributes\":{\"source\":{\"id\":\"9f794665-8856-4420-914c-2f3f032c89e3\",\"type\":\"ColumnDataSource\"}},\"id\":\"3c324159-51fa-4e6b-8792-3e08e5b4fd85\",\"type\":\"CDSView\"},{\"attributes\":{\"plot\":null,\"text\":\"Linear pressure scale\"},\"id\":\"831bc222-0dce-4d76-8d05-47c6e286fa61\",\"type\":\"Title\"},{\"attributes\":{\"axis_label\":\"pressure [mb]\",\"formatter\":{\"id\":\"3455541b-c353-429a-a7be-8cf2abb1a6a6\",\"type\":\"BasicTickFormatter\"},\"plot\":{\"id\":\"56ad861b-28c1-4a64-b165-19ab95437d34\",\"subtype\":\"Figure\",\"type\":\"Plot\"},\"ticker\":{\"id\":\"e0738c27-409a-45a3-92a6-f29a84665d23\",\"type\":\"BasicTicker\"}},\"id\":\"dd319a3b-4d80-4bc1-844c-f178421d45db\",\"type\":\"LinearAxis\"},{\"attributes\":{\"source\":{\"id\":\"7d0426e6-26d8-48d3-bc3f-2518f5fbedc9\",\"type\":\"ColumnDataSource\"}},\"id\":\"de390664-3c95-4f7f-8aac-794f898fb2fd\",\"type\":\"CDSView\"},{\"attributes\":{\"data_source\":{\"id\":\"7d0426e6-26d8-48d3-bc3f-2518f5fbedc9\",\"type\":\"ColumnDataSource\"},\"glyph\":{\"id\":\"9302a137-539e-4afd-9be3-b487f05e3e6a\",\"type\":\"Line\"},\"hover_glyph\":null,\"muted_glyph\":null,\"nonselection_glyph\":{\"id\":\"6b701cf4-a33b-4e85-ac3a-a2e16d9e6bf2\",\"type\":\"Line\"},\"selection_glyph\":null,\"view\":{\"id\":\"de390664-3c95-4f7f-8aac-794f898fb2fd\",\"type\":\"CDSView\"}},\"id\":\"7177f7b8-92a2-4f96-a09e-6361dc558497\",\"type\":\"GlyphRenderer\"},{\"attributes\":{\"plot\":{\"id\":\"56ad861b-28c1-4a64-b165-19ab95437d34\",\"subtype\":\"Figure\",\"type\":\"Plot\"},\"ticker\":{\"id\":\"b4fc5efd-3892-46ae-8964-01ee2f060e2d\",\"type\":\"BasicTicker\"}},\"id\":\"d080d180-da7d-471e-ac13-52c9521ad41d\",\"type\":\"Grid\"},{\"attributes\":{\"line_alpha\":0.6,\"line_color\":\"#e41a1c\",\"line_dash\":[6],\"line_width\":5,\"x\":{\"field\":\"x\"},\"y\":{\"field\":\"y\"}},\"id\":\"89bb50e5-dc4c-4440-a84a-63c6acd053f1\",\"type\":\"Line\"},{\"attributes\":{},\"id\":\"e0738c27-409a-45a3-92a6-f29a84665d23\",\"type\":\"BasicTicker\"},{\"attributes\":{\"fill_alpha\":{\"value\":0.1},\"fill_color\":{\"value\":\"#1f77b4\"},\"line_alpha\":{\"value\":0.1},\"line_color\":{\"value\":\"#1f77b4\"},\"x\":{\"field\":\"x\"},\"y\":{\"field\":\"y\"}},\"id\":\"bcdd4a8d-0e36-4793-a831-3ec4f0da73a1\",\"type\":\"Square\"},{\"attributes\":{},\"id\":\"d60abe9d-6e35-4bf7-8f78-196df089419f\",\"type\":\"SaveTool\"},{\"attributes\":{\"callback\":null,\"data\":{\"x\":{\"__ndarray__\":\"OUnWTWA0ez+OkScrONN7P2RVoRXhLH0/Mpds5bKEfj+gPNVlnd9/P/eDuySnnoA/Q4nziHpOgT/x2rjMSACCP8E1ahPdsoI/SSKP8uBmgz9V2UbntBqEPx4HpwMuz4Q/lLv9Kb2FhT+MW6nA+W+GP3BioweZv4k/VkuQynpVkD9WoPotWK+UPwq/s8GyZ5k/Uhmjzgx9nj9/Y04etvehP0lLUoo34aQ/nVoO2Purpz/FM4Q9z5qoP3r09k+Glqc/2WBsF1bOpT9EyolVB2mjPwg5far74aA/ZiTThX7EnD+I+u2D3cSXP4lSA0xnx5I/VP5IIESDiz8ZKmpkI42BP865TG+1RW8/QFNK/YuqSb81XcuE2EJ4vz6m7RPLI4e/ZbGbuYo8jr9IeQ6ufkGOv6vdEXbTK4q/8EuxLmQxhr/CSh3W71iCvxV92QxkPH2/Mbrd/iX4db8DGWlBIshtv4NeOtB881+/7hW5RhTqM7/hi2Dv/1RVP5G3xiqYhmc/Mmx9okUOcj842R6v2zZ4P/baDjvDPH4/aVoIiMcSgj86kpaNePmEPxdSwm/q04c/wsc3Rnicij8qulEL9VmNP1uvJqVZBpA/0b+6sIlakT+/f6wNOamSP1ORr6mY75M/qLVwJpQolT+zLUIylkmWPzZUuisjRJc/OWC6vWIVmD/0K3VHAc2YP+pRb0jOgpk/FRHNVVZHmj/4KmR0YSCbPyEriBnLCJw/zm7cS+L4nD8FWJWRO+udPzFT9VNl3Z4/Tg0ivLfOnz/o+ACOUV+gP7XTrsCS1qA/\",\"dtype\":\"float64\",\"shape\":[75]},\"y\":{\"__ndarray__\":\"S/O/Q+51ND/Sv8nbtpRIP2vylNV0PVE/aTum7souWD/At0SJ8fVgPw3Iuahxymc/MSNhhJWvcD/bTfBN02d3P2zb5nxnaoA/CD5h5MAGhz8NmeH1TyaQP+zrCsc9p5Y/LbKd76fGnz/bLW5ISEmmPww9YvTcQq8/JV2OstnstT8Er5Y7M8G+P0c+r3jqkcU/5h99k6ZBzj88bCIzFzjVP4enV8oyxN0//yH99nXg5D8qOpLLf0jtP5kqGJXUifQ/c9cS8kHP/D+/DpwzojQEQIEmwoanVwxA4lgXt9HgE0BSSZ2AJuIbQAMJih9jjiNA5q4l5INuK0AwTKYKRj0zQNv5fmq8/DpAaCJseHrtQkB/+zpwzoxKQM3MzMzMeFJAZmZmZmZqWEAAAAAAAFxeQM3MzMzMJmJAmpmZmZkfZUBmZmZmZhhoQDMzMzMzEWtAAAAAAAAKbkBmZmZmZoFwQM3MzMzM/XFAMzMzMzN6c0CamZmZmfZ0QAAAAAAAc3ZAZmZmZmbvd0DNzMzMzGt5QDMzMzMz6HpAmpmZmZlkfEAAAAAAAOF9QGZmZmZmXX9AZmZmZuZsgECamZmZGSuBQM3MzMxM6YFAAAAAAICngkAzMzMzs2WDQGZmZmbmI4RAmpmZmRnihEDNzMzMTKCFQAAAAACAXoZAMzMzM7Mch0BmZmZm5tqHQJqZmZkZmYhAzczMzExXiUAAAAAAgBWKQDMzMzOz04pAZmZmZuaRi0CamZmZGVCMQM3MzMxMDo1AAAAAAIDMjUAzMzMzs4qOQGZmZmbmSI9A\",\"dtype\":\"float64\",\"shape\":[75]}},\"selected\":{\"id\":\"32a7c14f-dbe3-4c93-a6b4-c7e0de910d35\",\"type\":\"Selection\"},\"selection_policy\":{\"id\":\"fac3697f-b6e3-4155-90ec-7a3055e825cb\",\"type\":\"UnionRenderers\"}},\"id\":\"b1806239-5424-4237-987b-1163e1866969\",\"type\":\"ColumnDataSource\"},{\"attributes\":{\"callback\":null,\"data\":{\"x\":{\"__ndarray__\":\"2UPIZxxkXj+vvg1zesVgPzNU6dFSBWQ/xHCWV8xWZz+TWVu+V7BqPyQ6ms4GDG4/VDAfEnu2cD9NPqXi+WdyPyATu8JzGXQ/lUKe8f3MdT9yrJCUIml3PyjOltII9Hg/KN15TrFkej+GgT2WXTh8Pyxuccd67oE/gnq06tMnij+v2k6+TT2SPzv+BktHyZc/YItNk2i1nT8/BY2HYQGiP1ZnmWvvWKU/nNMTM06FqD8bToe4s1upP4iH3H6MyKc/fpWVic9bpT9tm76r2VuiP6l2pP+H6Z4/bDyM1HG4mT8qntvNURyVP4JvRD6C95A/yoPbd5g4ij/Zq2/nGbeCP1ZJAhrOOHY/lV/hwMZeWD9l4u+CvOpuvyoxwB8tt4S/vvonobzbjb9hYZ03CTaOv5lcox3rbYm/zhDsyvckhb8BoIVi/S+Bv0lg6mVf63q/egOU0qjKc78rPpZrPuhpvzRzNz5JcFm/+Ws1/Gu42D7DHJM1CeZYP554pypIhmg/ZCWsZaAmcj8sQs1qY+d3P2A0Fa1WiX0/meDJJ9qHgT/AmRBiiz6EP45kFYoC6oY/G/R/8JyLiT+zRpNEXCSMP2GF2r18tY4/9cts/+afkD8dCs/mmeCRP2YzkRaKG5M//rtSV71KlD9Et/mnnV+VP2pkQ3ZfR5Y/JorhAZ39lj9GEj4NeJaXP/+ZilIXMJg/qaq06/zgmD+r56T3ja+ZPye0f3pAlJo/RA/sYBOFmz/IqFsL7XucP8aNYIWJdp0/rNYGSrFznj8+snKVEnWfP6PrX+USP6A/\",\"dtype\":\"float64\",\"shape\":[75]},\"y\":{\"__ndarray__\":\"GhExyth1ND/Sv8nbtpRIP2vylNV0PVE/aTum7souWD/At0SJ8fVgPw3Iuahxymc/MSNhhJWvcD/bTfBN02d3P2zb5nxnaoA/CD5h5MAGhz8NmeH1TyaQP+zrCsc9p5Y/LbKd76fGnz/bLW5ISEmmPww9YvTcQq8/JV2OstnstT8Er5Y7M8G+P0c+r3jqkcU/5h99k6ZBzj88bCIzFzjVP4enV8oyxN0//yH99nXg5D8qOpLLf0jtP5kqGJXUifQ/c9cS8kHP/D+/DpwzojQEQIEmwoanVwxA4lgXt9HgE0BSSZ2AJuIbQAMJih9jjiNA5q4l5INuK0AwTKYKRj0zQNv5fmq8/DpAaCJseHrtQkB/+zpwzoxKQM3MzMzMeFJAZmZmZmZqWEAAAAAAAFxeQM3MzMzMJmJAmpmZmZkfZUBmZmZmZhhoQDMzMzMzEWtAAAAAAAAKbkBmZmZmZoFwQM3MzMzM/XFAMzMzMzN6c0CamZmZmfZ0QAAAAAAAc3ZAZmZmZmbvd0DNzMzMzGt5QDMzMzMz6HpAmpmZmZlkfEAAAAAAAOF9QGZmZmZmXX9AZmZmZuZsgECamZmZGSuBQM3MzMxM6YFAAAAAAICngkAzMzMzs2WDQGZmZmbmI4RAmpmZmRnihEDNzMzMTKCFQAAAAACAXoZAMzMzM7Mch0BmZmZm5tqHQJqZmZkZmYhAzczMzExXiUAAAAAAgBWKQDMzMzOz04pAZmZmZuaRi0CamZmZGVCMQM3MzMxMDo1AAAAAAIDMjUAzMzMzs4qOQGZmZmbmSI9A\",\"dtype\":\"float64\",\"shape\":[75]}},\"selected\":{\"id\":\"4ccfafe9-0cba-4f3b-933f-c939dcd4f33a\",\"type\":\"Selection\"},\"selection_policy\":{\"id\":\"685f7875-293a-4aaf-8719-34195d7564cd\",\"type\":\"UnionRenderers\"}},\"id\":\"1717c5f5-4809-474d-8b67-c4d6c1a5bfb2\",\"type\":\"ColumnDataSource\"},{\"attributes\":{\"line_alpha\":0.6,\"line_color\":\"#984ea3\",\"line_width\":3,\"x\":{\"field\":\"x\"},\"y\":{\"field\":\"y\"}},\"id\":\"9302a137-539e-4afd-9be3-b487f05e3e6a\",\"type\":\"Line\"},{\"attributes\":{},\"id\":\"bc008845-2f93-4c69-9540-f79f9c405a42\",\"type\":\"PanTool\"},{\"attributes\":{},\"id\":\"81f1c3b4-d38b-4dfd-bf49-943db35d2634\",\"type\":\"HelpTool\"},{\"attributes\":{\"line_alpha\":0.1,\"line_color\":\"#1f77b4\",\"line_width\":3,\"x\":{\"field\":\"x\"},\"y\":{\"field\":\"y\"}},\"id\":\"af6b29c1-424c-479f-b4a8-1ba6f039be49\",\"type\":\"Line\"},{\"attributes\":{\"callback\":null,\"data\":{\"x\":{\"__ndarray__\":\"2UPIZxxkXj+vvg1zesVgPzNU6dFSBWQ/xHCWV8xWZz+TWVu+V7BqPyQ6ms4GDG4/VDAfEnu2cD9NPqXi+WdyPyATu8JzGXQ/lUKe8f3MdT9yrJCUIml3PyjOltII9Hg/KN15TrFkej+GgT2WXTh8Pyxuccd67oE/gnq06tMnij+v2k6+TT2SPzv+BktHyZc/YItNk2i1nT8/BY2HYQGiP1ZnmWvvWKU/nNMTM06FqD8bToe4s1upP4iH3H6MyKc/fpWVic9bpT9tm76r2VuiP6l2pP+H6Z4/bDyM1HG4mT8qntvNURyVP4JvRD6C95A/yoPbd5g4ij/Zq2/nGbeCP1ZJAhrOOHY/lV/hwMZeWD9l4u+CvOpuvyoxwB8tt4S/vvonobzbjb9hYZ03CTaOv5lcox3rbYm/zhDsyvckhb8BoIVi/S+Bv0lg6mVf63q/egOU0qjKc78rPpZrPuhpvzRzNz5JcFm/+Ws1/Gu42D7DHJM1CeZYP554pypIhmg/ZCWsZaAmcj8sQs1qY+d3P2A0Fa1WiX0/meDJJ9qHgT/AmRBiiz6EP45kFYoC6oY/G/R/8JyLiT+zRpNEXCSMP2GF2r18tY4/9cts/+afkD8dCs/mmeCRP2YzkRaKG5M//rtSV71KlD9Et/mnnV+VP2pkQ3ZfR5Y/JorhAZ39lj9GEj4NeJaXP/+ZilIXMJg/qaq06/zgmD+r56T3ja+ZPye0f3pAlJo/RA/sYBOFmz/IqFsL7XucP8aNYIWJdp0/rNYGSrFznj8+snKVEnWfP6PrX+USP6A/\",\"dtype\":\"float64\",\"shape\":[75]},\"y\":{\"__ndarray__\":\"GhExyth1ND/Sv8nbtpRIP2vylNV0PVE/aTum7souWD/At0SJ8fVgPw3Iuahxymc/MSNhhJWvcD/bTfBN02d3P2zb5nxnaoA/CD5h5MAGhz8NmeH1TyaQP+zrCsc9p5Y/LbKd76fGnz/bLW5ISEmmPww9YvTcQq8/JV2OstnstT8Er5Y7M8G+P0c+r3jqkcU/5h99k6ZBzj88bCIzFzjVP4enV8oyxN0//yH99nXg5D8qOpLLf0jtP5kqGJXUifQ/c9cS8kHP/D+/DpwzojQEQIEmwoanVwxA4lgXt9HgE0BSSZ2AJuIbQAMJih9jjiNA5q4l5INuK0AwTKYKRj0zQNv5fmq8/DpAaCJseHrtQkB/+zpwzoxKQM3MzMzMeFJAZmZmZmZqWEAAAAAAAFxeQM3MzMzMJmJAmpmZmZkfZUBmZmZmZhhoQDMzMzMzEWtAAAAAAAAKbkBmZmZmZoFwQM3MzMzM/XFAMzMzMzN6c0CamZmZmfZ0QAAAAAAAc3ZAZmZmZmbvd0DNzMzMzGt5QDMzMzMz6HpAmpmZmZlkfEAAAAAAAOF9QGZmZmZmXX9AZmZmZuZsgECamZmZGSuBQM3MzMxM6YFAAAAAAICngkAzMzMzs2WDQGZmZmbmI4RAmpmZmRnihEDNzMzMTKCFQAAAAACAXoZAMzMzM7Mch0BmZmZm5tqHQJqZmZkZmYhAzczMzExXiUAAAAAAgBWKQDMzMzOz04pAZmZmZuaRi0CamZmZGVCMQM3MzMxMDo1AAAAAAIDMjUAzMzMzs4qOQGZmZmbmSI9A\",\"dtype\":\"float64\",\"shape\":[75]}},\"selected\":{\"id\":\"b0e62f85-449f-4019-9437-d041dd0b6884\",\"type\":\"Selection\"},\"selection_policy\":{\"id\":\"2429665f-1680-426f-9ac1-77e2165d8fd0\",\"type\":\"UnionRenderers\"}},\"id\":\"f0c89813-eef9-4eb1-a168-e32d9c57d1c7\",\"type\":\"ColumnDataSource\"},{\"attributes\":{\"line_color\":\"#4daf4a\",\"line_width\":1.5,\"x\":{\"field\":\"x\"},\"y\":{\"field\":\"y\"}},\"id\":\"b67acb14-8dc2-460b-b407-93517afc6a28\",\"type\":\"Line\"},{\"attributes\":{\"plot\":{\"id\":\"b88b1fee-01fd-4864-838a-8a2873bcdd66\",\"subtype\":\"Figure\",\"type\":\"Plot\"},\"ticker\":{\"id\":\"bb017001-9385-4256-bb41-d0b448e9b7a7\",\"type\":\"BasicTicker\"}},\"id\":\"8f4c710e-ef09-4c94-8ae4-72754d80c81e\",\"type\":\"Grid\"},{\"attributes\":{\"callback\":null,\"data\":{\"x\":{\"__ndarray__\":\"aKqhbdC1eD+ze8qMp155Pw9Ia9XE0no/6LtvcBtPfD8A9UWnk859P0qhgzwNUX8/gYP0pjtrgD8cJWANgi+BP0YtAzo/9YE/XC2Wu0a8gj/WE4Z38oaDPwCFZmdYUYQ/hHOkv6kdhT9ltUsFWCSGPyVlJrkp1ok/oGPHdIjNkD923hkeCZyVP/FKdKr+1Jo/r01ibJU9oD9icc+LZSyjP7flcm+9Z6Y/qQmn2k9xqT9lvhG/iW6qP0HLhhEuOqk/J00ilu4spz8fNVHPf3WkP70TNyJ3n6E/fW4U6MWrnT8j2UVpmDSYP2t8q0Ik4JI/GnFw2dNniz+1mYANWHiBP/KUsHMT2m8/eBKE5hQPQb+uxvTXoNp2v/DevdpLvoa/sLWOWHFEjr+LQhpvFUaOv1MNw5NS2om/IYV11vyuhb/8ZwCBZMCBvxZKgs4t9nu/I0Ip/7aFdL/kFYr+a7dqv00l9Ikhjlm/EaEABP9LEz92IYbOJ5xbP5onQE1m0mo/3gdb5OS9cz/k6a1sL815P6JPzv6b538/F9WWQcvvgj+aA4Z329GFP4J7tahQrYg/pNUvgCKEiz8XsR6M/EWOP5TOfmPafpA/dP+Fm9TbkT/GE+ubziqTP+8TOHdKd5Q/bF04AR65lT9Y7XgUqdeWP/7D8yEK15c//GzckgCkmD9a9zk8EFKZP+xW5FL7Bpo/ZUqD1bPEmj/uL1sjpKSbPxxbfaRpkZw/SuOxDT6HnT/khaKw84WeP9jZVEFze58/wjrYGgY+oD+KBnq/CbmgP/UnLNPhOKE/\",\"dtype\":\"float64\",\"shape\":[75]},\"y\":{\"__ndarray__\":\"GhExyth1ND/Sv8nbtpRIP2vylNV0PVE/aTum7souWD/At0SJ8fVgPw3Iuahxymc/MSNhhJWvcD/bTfBN02d3P2zb5nxnaoA/CD5h5MAGhz8NmeH1TyaQP+zrCsc9p5Y/LbKd76fGnz/bLW5ISEmmPww9YvTcQq8/JV2OstnstT8Er5Y7M8G+P0c+r3jqkcU/5h99k6ZBzj88bCIzFzjVP4enV8oyxN0//yH99nXg5D8qOpLLf0jtP5kqGJXUifQ/c9cS8kHP/D+/DpwzojQEQIEmwoanVwxA4lgXt9HgE0BSSZ2AJuIbQAMJih9jjiNA5q4l5INuK0AwTKYKRj0zQNv5fmq8/DpAaCJseHrtQkB/+zpwzoxKQM3MzMzMeFJAZmZmZmZqWEAAAAAAAFxeQM3MzMzMJmJAmpmZmZkfZUBmZmZmZhhoQDMzMzMzEWtAAAAAAAAKbkBmZmZmZoFwQM3MzMzM/XFAMzMzMzN6c0CamZmZmfZ0QAAAAAAAc3ZAZmZmZmbvd0DNzMzMzGt5QDMzMzMz6HpAmpmZmZlkfEAAAAAAAOF9QGZmZmZmXX9AZmZmZuZsgECamZmZGSuBQM3MzMxM6YFAAAAAAICngkAzMzMzs2WDQGZmZmbmI4RAmpmZmRnihEDNzMzMTKCFQAAAAACAXoZAMzMzM7Mch0BmZmZm5tqHQJqZmZkZmYhAzczMzExXiUAAAAAAgBWKQDMzMzOz04pAZmZmZuaRi0CamZmZGVCMQM3MzMxMDo1AAAAAAIDMjUAzMzMzs4qOQGZmZmbmSI9A\",\"dtype\":\"float64\",\"shape\":[75]}},\"selected\":{\"id\":\"7acc511f-ab1f-46a2-bb9b-69cefbf7c4be\",\"type\":\"Selection\"},\"selection_policy\":{\"id\":\"2df8a0fd-cd57-4e0d-9d54-57900fca4aa8\",\"type\":\"UnionRenderers\"}},\"id\":\"be09f868-1140-476c-bbe3-ccea680d2967\",\"type\":\"ColumnDataSource\"},{\"attributes\":{\"line_alpha\":0.1,\"line_color\":\"#1f77b4\",\"line_dash\":[6],\"line_width\":5,\"x\":{\"field\":\"x\"},\"y\":{\"field\":\"y\"}},\"id\":\"12484ff9-fcac-479b-a369-8f633a2e10fe\",\"type\":\"Line\"},{\"attributes\":{\"source\":{\"id\":\"f0c89813-eef9-4eb1-a168-e32d9c57d1c7\",\"type\":\"ColumnDataSource\"}},\"id\":\"ed01ffaf-b72e-4755-be99-75d43a08a4eb\",\"type\":\"CDSView\"},{\"attributes\":{\"source\":{\"id\":\"78cd5556-d3c0-4928-a9f5-75545d2c71dc\",\"type\":\"ColumnDataSource\"}},\"id\":\"d00e142e-c1bf-4835-9d5d-2a84347cb7b5\",\"type\":\"CDSView\"},{\"attributes\":{\"data_source\":{\"id\":\"6dd55e3d-c2ff-47a8-b4ac-d52cf19486c4\",\"type\":\"ColumnDataSource\"},\"glyph\":{\"id\":\"89bb50e5-dc4c-4440-a84a-63c6acd053f1\",\"type\":\"Line\"},\"hover_glyph\":null,\"muted_glyph\":null,\"nonselection_glyph\":{\"id\":\"71dfd056-3870-4c87-bb44-7dee84c39022\",\"type\":\"Line\"},\"selection_glyph\":null,\"view\":{\"id\":\"62531f77-8b45-40db-aee5-54bdea1ebfef\",\"type\":\"CDSView\"}},\"id\":\"ee7334e4-1789-4dc0-a15f-eb8f2e48d5ed\",\"type\":\"GlyphRenderer\"},{\"attributes\":{\"fill_alpha\":{\"value\":0.7},\"fill_color\":{\"value\":\"#4daf4a\"},\"line_alpha\":{\"value\":0.7},\"line_color\":{\"value\":\"#4daf4a\"},\"x\":{\"field\":\"x\"},\"y\":{\"field\":\"y\"}},\"id\":\"3648c955-92ca-4131-9ed5-67cd8e73c9b9\",\"type\":\"Circle\"},{\"attributes\":{},\"id\":\"0815d405-0616-4e4a-b255-a6f1582787fd\",\"type\":\"ResetTool\"},{\"attributes\":{},\"id\":\"0618b5b1-70d1-4b9e-ba0e-e033b4482d5b\",\"type\":\"WheelZoomTool\"},{\"attributes\":{\"line_alpha\":0.1,\"line_color\":\"#1f77b4\",\"line_width\":1.5,\"x\":{\"field\":\"x\"},\"y\":{\"field\":\"y\"}},\"id\":\"419779f3-bdcd-47ac-b746-f7730070252e\",\"type\":\"Line\"},{\"attributes\":{\"overlay\":{\"id\":\"3f23c077-4afa-457c-84cc-0e9481528c91\",\"type\":\"BoxAnnotation\"}},\"id\":\"aa68e69e-874c-40df-b546-2ce8c3a755c4\",\"type\":\"BoxZoomTool\"},{\"attributes\":{\"axis_label\":\"cooling rate [K/day]\",\"formatter\":{\"id\":\"68499c8d-8248-4c7a-8abf-97576aa698d4\",\"type\":\"BasicTickFormatter\"},\"plot\":{\"id\":\"b88b1fee-01fd-4864-838a-8a2873bcdd66\",\"subtype\":\"Figure\",\"type\":\"Plot\"},\"ticker\":{\"id\":\"bb017001-9385-4256-bb41-d0b448e9b7a7\",\"type\":\"BasicTicker\"}},\"id\":\"9903b0bf-f55a-4137-af4d-061545ebf223\",\"type\":\"LinearAxis\"},{\"attributes\":{\"callback\":null,\"data\":{\"x\":{\"__ndarray__\":\"aKqhbdC1eD+ze8qMp155Pw9Ia9XE0no/6LtvcBtPfD8A9UWnk859P0qhgzwNUX8/gYP0pjtrgD8cJWANgi+BP0YtAzo/9YE/XC2Wu0a8gj/WE4Z38oaDPwCFZmdYUYQ/hHOkv6kdhT9ltUsFWCSGPyVlJrkp1ok/oGPHdIjNkD923hkeCZyVP/FKdKr+1Jo/r01ibJU9oD9icc+LZSyjP7flcm+9Z6Y/qQmn2k9xqT9lvhG/iW6qP0HLhhEuOqk/J00ilu4spz8fNVHPf3WkP70TNyJ3n6E/fW4U6MWrnT8j2UVpmDSYP2t8q0Ik4JI/GnFw2dNniz+1mYANWHiBP/KUsHMT2m8/eBKE5hQPQb+uxvTXoNp2v/DevdpLvoa/sLWOWHFEjr+LQhpvFUaOv1MNw5NS2om/IYV11vyuhb/8ZwCBZMCBvxZKgs4t9nu/I0Ip/7aFdL/kFYr+a7dqv00l9Ikhjlm/EaEABP9LEz92IYbOJ5xbP5onQE1m0mo/3gdb5OS9cz/k6a1sL815P6JPzv6b538/F9WWQcvvgj+aA4Z329GFP4J7tahQrYg/pNUvgCKEiz8XsR6M/EWOP5TOfmPafpA/dP+Fm9TbkT/GE+ubziqTP+8TOHdKd5Q/bF04AR65lT9Y7XgUqdeWP/7D8yEK15c//GzckgCkmD9a9zk8EFKZP+xW5FL7Bpo/ZUqD1bPEmj/uL1sjpKSbPxxbfaRpkZw/SuOxDT6HnT/khaKw84WeP9jZVEFze58/wjrYGgY+oD+KBnq/CbmgP/UnLNPhOKE/\",\"dtype\":\"float64\",\"shape\":[75]},\"y\":{\"__ndarray__\":\"GhExyth1ND/Sv8nbtpRIP2vylNV0PVE/aTum7souWD/At0SJ8fVgPw3Iuahxymc/MSNhhJWvcD/bTfBN02d3P2zb5nxnaoA/CD5h5MAGhz8NmeH1TyaQP+zrCsc9p5Y/LbKd76fGnz/bLW5ISEmmPww9YvTcQq8/JV2OstnstT8Er5Y7M8G+P0c+r3jqkcU/5h99k6ZBzj88bCIzFzjVP4enV8oyxN0//yH99nXg5D8qOpLLf0jtP5kqGJXUifQ/c9cS8kHP/D+/DpwzojQEQIEmwoanVwxA4lgXt9HgE0BSSZ2AJuIbQAMJih9jjiNA5q4l5INuK0AwTKYKRj0zQNv5fmq8/DpAaCJseHrtQkB/+zpwzoxKQM3MzMzMeFJAZmZmZmZqWEAAAAAAAFxeQM3MzMzMJmJAmpmZmZkfZUBmZmZmZhhoQDMzMzMzEWtAAAAAAAAKbkBmZmZmZoFwQM3MzMzM/XFAMzMzMzN6c0CamZmZmfZ0QAAAAAAAc3ZAZmZmZmbvd0DNzMzMzGt5QDMzMzMz6HpAmpmZmZlkfEAAAAAAAOF9QGZmZmZmXX9AZmZmZuZsgECamZmZGSuBQM3MzMxM6YFAAAAAAICngkAzMzMzs2WDQGZmZmbmI4RAmpmZmRnihEDNzMzMTKCFQAAAAACAXoZAMzMzM7Mch0BmZmZm5tqHQJqZmZkZmYhAzczMzExXiUAAAAAAgBWKQDMzMzOz04pAZmZmZuaRi0CamZmZGVCMQM3MzMxMDo1AAAAAAIDMjUAzMzMzs4qOQGZmZmbmSI9A\",\"dtype\":\"float64\",\"shape\":[75]}},\"selected\":{\"id\":\"ac02243f-ca7d-4fae-a8d2-b662b5623d0f\",\"type\":\"Selection\"},\"selection_policy\":{\"id\":\"646ad69c-c394-4abd-ae1f-19984e6b93cd\",\"type\":\"UnionRenderers\"}},\"id\":\"d39b13b3-747c-40c5-a806-0083f91cd9b6\",\"type\":\"ColumnDataSource\"},{\"attributes\":{\"source\":{\"id\":\"6dd55e3d-c2ff-47a8-b4ac-d52cf19486c4\",\"type\":\"ColumnDataSource\"}},\"id\":\"62531f77-8b45-40db-aee5-54bdea1ebfef\",\"type\":\"CDSView\"},{\"attributes\":{\"line_alpha\":0.1,\"line_color\":\"#1f77b4\",\"line_width\":1.5,\"x\":{\"field\":\"x\"},\"y\":{\"field\":\"y\"}},\"id\":\"b4adbbf0-b8db-4c17-ab43-7538dc29c83c\",\"type\":\"Line\"},{\"attributes\":{\"axis_label\":\"pressure [mb]\",\"formatter\":{\"id\":\"aef1351d-8ef6-4e6d-96f9-d7b0ff0e5c3b\",\"type\":\"LogTickFormatter\"},\"plot\":{\"id\":\"b88b1fee-01fd-4864-838a-8a2873bcdd66\",\"subtype\":\"Figure\",\"type\":\"Plot\"},\"ticker\":{\"id\":\"f95d879a-2a64-43ef-b9ad-5e20a0145de5\",\"type\":\"LogTicker\"}},\"id\":\"f0dba2eb-2507-4952-9148-31d9732360e5\",\"type\":\"LogAxis\"},{\"attributes\":{\"fill_alpha\":{\"value\":0.1},\"fill_color\":{\"value\":\"#1f77b4\"},\"line_alpha\":{\"value\":0.1},\"line_color\":{\"value\":\"#1f77b4\"},\"x\":{\"field\":\"x\"},\"y\":{\"field\":\"y\"}},\"id\":\"49a1fb2f-8459-45c8-8106-f4eb8034cccc\",\"type\":\"Circle\"},{\"attributes\":{\"data_source\":{\"id\":\"1717c5f5-4809-474d-8b67-c4d6c1a5bfb2\",\"type\":\"ColumnDataSource\"},\"glyph\":{\"id\":\"b67acb14-8dc2-460b-b407-93517afc6a28\",\"type\":\"Line\"},\"hover_glyph\":null,\"muted_glyph\":null,\"nonselection_glyph\":{\"id\":\"b4adbbf0-b8db-4c17-ab43-7538dc29c83c\",\"type\":\"Line\"},\"selection_glyph\":null,\"view\":{\"id\":\"b25060ac-9cfd-4f74-960f-5b8a207abf53\",\"type\":\"CDSView\"}},\"id\":\"228a4ad3-bf3e-44c0-92cc-37add107f3f2\",\"type\":\"GlyphRenderer\"},{\"attributes\":{\"callback\":null,\"data\":{\"x\":{\"__ndarray__\":\"aKqhbdC1eD+ze8qMp155Pw9Ia9XE0no/6LtvcBtPfD8A9UWnk859P0qhgzwNUX8/gYP0pjtrgD8cJWANgi+BP0YtAzo/9YE/XC2Wu0a8gj/WE4Z38oaDPwCFZmdYUYQ/hHOkv6kdhT9ltUsFWCSGPyVlJrkp1ok/oGPHdIjNkD923hkeCZyVP/FKdKr+1Jo/r01ibJU9oD9icc+LZSyjP7flcm+9Z6Y/qQmn2k9xqT9lvhG/iW6qP0HLhhEuOqk/J00ilu4spz8fNVHPf3WkP70TNyJ3n6E/fW4U6MWrnT8j2UVpmDSYP2t8q0Ik4JI/GnFw2dNniz+1mYANWHiBP/KUsHMT2m8/eBKE5hQPQb+uxvTXoNp2v/DevdpLvoa/sLWOWHFEjr+LQhpvFUaOv1MNw5NS2om/IYV11vyuhb/8ZwCBZMCBvxZKgs4t9nu/I0Ip/7aFdL/kFYr+a7dqv00l9Ikhjlm/EaEABP9LEz92IYbOJ5xbP5onQE1m0mo/3gdb5OS9cz/k6a1sL815P6JPzv6b538/F9WWQcvvgj+aA4Z329GFP4J7tahQrYg/pNUvgCKEiz8XsR6M/EWOP5TOfmPafpA/dP+Fm9TbkT/GE+ubziqTP+8TOHdKd5Q/bF04AR65lT9Y7XgUqdeWP/7D8yEK15c//GzckgCkmD9a9zk8EFKZP+xW5FL7Bpo/ZUqD1bPEmj/uL1sjpKSbPxxbfaRpkZw/SuOxDT6HnT/khaKw84WeP9jZVEFze58/wjrYGgY+oD+KBnq/CbmgP/UnLNPhOKE/\",\"dtype\":\"float64\",\"shape\":[75]},\"y\":{\"__ndarray__\":\"GhExyth1ND/Sv8nbtpRIP2vylNV0PVE/aTum7souWD/At0SJ8fVgPw3Iuahxymc/MSNhhJWvcD/bTfBN02d3P2zb5nxnaoA/CD5h5MAGhz8NmeH1TyaQP+zrCsc9p5Y/LbKd76fGnz/bLW5ISEmmPww9YvTcQq8/JV2OstnstT8Er5Y7M8G+P0c+r3jqkcU/5h99k6ZBzj88bCIzFzjVP4enV8oyxN0//yH99nXg5D8qOpLLf0jtP5kqGJXUifQ/c9cS8kHP/D+/DpwzojQEQIEmwoanVwxA4lgXt9HgE0BSSZ2AJuIbQAMJih9jjiNA5q4l5INuK0AwTKYKRj0zQNv5fmq8/DpAaCJseHrtQkB/+zpwzoxKQM3MzMzMeFJAZmZmZmZqWEAAAAAAAFxeQM3MzMzMJmJAmpmZmZkfZUBmZmZmZhhoQDMzMzMzEWtAAAAAAAAKbkBmZmZmZoFwQM3MzMzM/XFAMzMzMzN6c0CamZmZmfZ0QAAAAAAAc3ZAZmZmZmbvd0DNzMzMzGt5QDMzMzMz6HpAmpmZmZlkfEAAAAAAAOF9QGZmZmZmXX9AZmZmZuZsgECamZmZGSuBQM3MzMxM6YFAAAAAAICngkAzMzMzs2WDQGZmZmbmI4RAmpmZmRnihEDNzMzMTKCFQAAAAACAXoZAMzMzM7Mch0BmZmZm5tqHQJqZmZkZmYhAzczMzExXiUAAAAAAgBWKQDMzMzOz04pAZmZmZuaRi0CamZmZGVCMQM3MzMxMDo1AAAAAAIDMjUAzMzMzs4qOQGZmZmbmSI9A\",\"dtype\":\"float64\",\"shape\":[75]}},\"selected\":{\"id\":\"19fe8af3-e15e-4ba6-bb1a-a139f5521f98\",\"type\":\"Selection\"},\"selection_policy\":{\"id\":\"b0a2b6fe-9065-495e-90f6-73c2238d6a1d\",\"type\":\"UnionRenderers\"}},\"id\":\"1c3c5759-c8f0-436e-b035-202c1ae7fc10\",\"type\":\"ColumnDataSource\"},{\"attributes\":{},\"id\":\"048d377d-70ec-467d-a059-6e956986b1dc\",\"type\":\"ResetTool\"},{\"attributes\":{\"source\":{\"id\":\"1717c5f5-4809-474d-8b67-c4d6c1a5bfb2\",\"type\":\"ColumnDataSource\"}},\"id\":\"b25060ac-9cfd-4f74-960f-5b8a207abf53\",\"type\":\"CDSView\"},{\"attributes\":{},\"id\":\"7b8cc9da-9532-4daf-81a6-304a5029ffad\",\"type\":\"HelpTool\"},{\"attributes\":{\"fill_alpha\":{\"value\":0.7},\"fill_color\":{\"value\":\"#984ea3\"},\"line_alpha\":{\"value\":0.7},\"line_color\":{\"value\":\"#984ea3\"},\"x\":{\"field\":\"x\"},\"y\":{\"field\":\"y\"}},\"id\":\"66c8b733-f34b-4584-b93f-7bf7fccf4db1\",\"type\":\"Square\"},{\"attributes\":{\"callback\":null,\"data\":{\"x\":{\"__ndarray__\":\"2UPIZxxkXj+vvg1zesVgPzNU6dFSBWQ/xHCWV8xWZz+TWVu+V7BqPyQ6ms4GDG4/VDAfEnu2cD9NPqXi+WdyPyATu8JzGXQ/lUKe8f3MdT9yrJCUIml3PyjOltII9Hg/KN15TrFkej+GgT2WXTh8Pyxuccd67oE/gnq06tMnij+v2k6+TT2SPzv+BktHyZc/YItNk2i1nT8/BY2HYQGiP1ZnmWvvWKU/nNMTM06FqD8bToe4s1upP4iH3H6MyKc/fpWVic9bpT9tm76r2VuiP6l2pP+H6Z4/bDyM1HG4mT8qntvNURyVP4JvRD6C95A/yoPbd5g4ij/Zq2/nGbeCP1ZJAhrOOHY/lV/hwMZeWD9l4u+CvOpuvyoxwB8tt4S/vvonobzbjb9hYZ03CTaOv5lcox3rbYm/zhDsyvckhb8BoIVi/S+Bv0lg6mVf63q/egOU0qjKc78rPpZrPuhpvzRzNz5JcFm/+Ws1/Gu42D7DHJM1CeZYP554pypIhmg/ZCWsZaAmcj8sQs1qY+d3P2A0Fa1WiX0/meDJJ9qHgT/AmRBiiz6EP45kFYoC6oY/G/R/8JyLiT+zRpNEXCSMP2GF2r18tY4/9cts/+afkD8dCs/mmeCRP2YzkRaKG5M//rtSV71KlD9Et/mnnV+VP2pkQ3ZfR5Y/JorhAZ39lj9GEj4NeJaXP/+ZilIXMJg/qaq06/zgmD+r56T3ja+ZPye0f3pAlJo/RA/sYBOFmz/IqFsL7XucP8aNYIWJdp0/rNYGSrFznj8+snKVEnWfP6PrX+USP6A/\",\"dtype\":\"float64\",\"shape\":[75]},\"y\":{\"__ndarray__\":\"GhExyth1ND/Sv8nbtpRIP2vylNV0PVE/aTum7souWD/At0SJ8fVgPw3Iuahxymc/MSNhhJWvcD/bTfBN02d3P2zb5nxnaoA/CD5h5MAGhz8NmeH1TyaQP+zrCsc9p5Y/LbKd76fGnz/bLW5ISEmmPww9YvTcQq8/JV2OstnstT8Er5Y7M8G+P0c+r3jqkcU/5h99k6ZBzj88bCIzFzjVP4enV8oyxN0//yH99nXg5D8qOpLLf0jtP5kqGJXUifQ/c9cS8kHP/D+/DpwzojQEQIEmwoanVwxA4lgXt9HgE0BSSZ2AJuIbQAMJih9jjiNA5q4l5INuK0AwTKYKRj0zQNv5fmq8/DpAaCJseHrtQkB/+zpwzoxKQM3MzMzMeFJAZmZmZmZqWEAAAAAAAFxeQM3MzMzMJmJAmpmZmZkfZUBmZmZmZhhoQDMzMzMzEWtAAAAAAAAKbkBmZmZmZoFwQM3MzMzM/XFAMzMzMzN6c0CamZmZmfZ0QAAAAAAAc3ZAZmZmZmbvd0DNzMzMzGt5QDMzMzMz6HpAmpmZmZlkfEAAAAAAAOF9QGZmZmZmXX9AZmZmZuZsgECamZmZGSuBQM3MzMxM6YFAAAAAAICngkAzMzMzs2WDQGZmZmbmI4RAmpmZmRnihEDNzMzMTKCFQAAAAACAXoZAMzMzM7Mch0BmZmZm5tqHQJqZmZkZmYhAzczMzExXiUAAAAAAgBWKQDMzMzOz04pAZmZmZuaRi0CamZmZGVCMQM3MzMxMDo1AAAAAAIDMjUAzMzMzs4qOQGZmZmbmSI9A\",\"dtype\":\"float64\",\"shape\":[75]}},\"selected\":{\"id\":\"6fda13ea-d042-4693-82fc-0f60b4cd0c50\",\"type\":\"Selection\"},\"selection_policy\":{\"id\":\"8fd25a46-5767-4d66-bb0e-0f99998f33d0\",\"type\":\"UnionRenderers\"}},\"id\":\"78cd5556-d3c0-4928-a9f5-75545d2c71dc\",\"type\":\"ColumnDataSource\"},{\"attributes\":{\"children\":[{\"id\":\"56ad861b-28c1-4a64-b165-19ab95437d34\",\"subtype\":\"Figure\",\"type\":\"Plot\"},{\"id\":\"b88b1fee-01fd-4864-838a-8a2873bcdd66\",\"subtype\":\"Figure\",\"type\":\"Plot\"}]},\"id\":\"657f0698-e639-4f34-a61c-c1d4cad99042\",\"type\":\"Row\"},{\"attributes\":{},\"id\":\"f0b93690-c45a-40a6-9f4b-f807b282692d\",\"type\":\"PanTool\"},{\"attributes\":{\"below\":[{\"id\":\"66a0fb83-d922-4ff1-aa2e-b80e80590703\",\"type\":\"LinearAxis\"}],\"left\":[{\"id\":\"dd319a3b-4d80-4bc1-844c-f178421d45db\",\"type\":\"LinearAxis\"}],\"plot_height\":500,\"plot_width\":400,\"renderers\":[{\"id\":\"66a0fb83-d922-4ff1-aa2e-b80e80590703\",\"type\":\"LinearAxis\"},{\"id\":\"d080d180-da7d-471e-ac13-52c9521ad41d\",\"type\":\"Grid\"},{\"id\":\"dd319a3b-4d80-4bc1-844c-f178421d45db\",\"type\":\"LinearAxis\"},{\"id\":\"658000cb-6ed8-4ac8-b0f0-a4876ccd2dc0\",\"type\":\"Grid\"},{\"id\":\"3f23c077-4afa-457c-84cc-0e9481528c91\",\"type\":\"BoxAnnotation\"},{\"id\":\"ba550b0a-f6f6-4a0d-a408-f6fd1e465df0\",\"type\":\"GlyphRenderer\"},{\"id\":\"5b75d4b2-a5e7-4c23-88ca-5286aed5177e\",\"type\":\"GlyphRenderer\"},{\"id\":\"1390a2d3-7a04-4ac0-8a66-1daacaeb80d0\",\"type\":\"GlyphRenderer\"},{\"id\":\"695a3017-7834-410d-963e-db63388f3dd9\",\"type\":\"GlyphRenderer\"},{\"id\":\"70bd3f77-fdf9-45a4-b9a3-43f97df1b782\",\"type\":\"GlyphRenderer\"}],\"title\":{\"id\":\"831bc222-0dce-4d76-8d05-47c6e286fa61\",\"type\":\"Title\"},\"toolbar\":{\"id\":\"74aad297-bd1e-4674-a96b-d64ccf171a0e\",\"type\":\"Toolbar\"},\"toolbar_location\":null,\"x_range\":{\"id\":\"78ad8080-cb43-4824-b7c0-03f5ba80de4a\",\"type\":\"Range1d\"},\"x_scale\":{\"id\":\"b9db288f-c745-4bd1-9e03-f05f07a7db14\",\"type\":\"LinearScale\"},\"y_range\":{\"id\":\"e44b2663-062a-46de-ab1a-305a0a96db5b\",\"type\":\"Range1d\"},\"y_scale\":{\"id\":\"381e1575-443a-44dd-b7c8-aec8e35df266\",\"type\":\"LinearScale\"}},\"id\":\"56ad861b-28c1-4a64-b165-19ab95437d34\",\"subtype\":\"Figure\",\"type\":\"Plot\"},{\"attributes\":{\"fill_alpha\":{\"value\":0.1},\"fill_color\":{\"value\":\"#1f77b4\"},\"line_alpha\":{\"value\":0.1},\"line_color\":{\"value\":\"#1f77b4\"},\"x\":{\"field\":\"x\"},\"y\":{\"field\":\"y\"}},\"id\":\"6bdfba07-aea9-430b-bbb5-f18ea4ca8d97\",\"type\":\"Square\"},{\"attributes\":{\"line_color\":\"#4daf4a\",\"line_width\":1.5,\"x\":{\"field\":\"x\"},\"y\":{\"field\":\"y\"}},\"id\":\"8ea8caad-02aa-4e8e-a232-14f6165f6b63\",\"type\":\"Line\"},{\"attributes\":{\"data_source\":{\"id\":\"be09f868-1140-476c-bbe3-ccea680d2967\",\"type\":\"ColumnDataSource\"},\"glyph\":{\"id\":\"66c8b733-f34b-4584-b93f-7bf7fccf4db1\",\"type\":\"Square\"},\"hover_glyph\":null,\"muted_glyph\":null,\"nonselection_glyph\":{\"id\":\"6bdfba07-aea9-430b-bbb5-f18ea4ca8d97\",\"type\":\"Square\"},\"selection_glyph\":null,\"view\":{\"id\":\"ea1f5a12-13ac-43c6-b907-a2e4c1c64ee1\",\"type\":\"CDSView\"}},\"id\":\"ffe0fdcf-b278-4ee2-8322-8bcf86871f7e\",\"type\":\"GlyphRenderer\"},{\"attributes\":{\"line_alpha\":0.1,\"line_color\":\"#1f77b4\",\"line_width\":3,\"x\":{\"field\":\"x\"},\"y\":{\"field\":\"y\"}},\"id\":\"6b701cf4-a33b-4e85-ac3a-a2e16d9e6bf2\",\"type\":\"Line\"},{\"attributes\":{\"children\":[{\"id\":\"657f0698-e639-4f34-a61c-c1d4cad99042\",\"type\":\"Row\"}]},\"id\":\"476f1891-7548-4540-858a-39f843c8b404\",\"type\":\"Column\"},{\"attributes\":{\"line_alpha\":0.6,\"line_color\":\"#984ea3\",\"line_width\":3,\"x\":{\"field\":\"x\"},\"y\":{\"field\":\"y\"}},\"id\":\"0aab7250-5c2a-49a6-9a1c-cac45ad1ba76\",\"type\":\"Line\"},{\"attributes\":{},\"id\":\"bb017001-9385-4256-bb41-d0b448e9b7a7\",\"type\":\"BasicTicker\"},{\"attributes\":{\"label\":{\"value\":\"CLIRAD `coolr_bands`\"},\"renderers\":[{\"id\":\"ee7334e4-1789-4dc0-a15f-eb8f2e48d5ed\",\"type\":\"GlyphRenderer\"}]},\"id\":\"74337f33-04ea-48ff-b758-5a700febb37e\",\"type\":\"LegendItem\"},{\"attributes\":{},\"id\":\"3455541b-c353-429a-a7be-8cf2abb1a6a6\",\"type\":\"BasicTickFormatter\"},{\"attributes\":{\"overlay\":{\"id\":\"f415917e-334d-4607-9111-f3c623c676f7\",\"type\":\"BoxAnnotation\"}},\"id\":\"73d3e6af-56be-4d4b-8416-6ea9d2a8b3fc\",\"type\":\"BoxZoomTool\"},{\"attributes\":{\"label\":{\"value\":\"CRD\"},\"renderers\":[{\"id\":\"fe94de56-e107-4814-babd-515d96c58451\",\"type\":\"GlyphRenderer\"},{\"id\":\"228a4ad3-bf3e-44c0-92cc-37add107f3f2\",\"type\":\"GlyphRenderer\"}]},\"id\":\"5d2283e3-c007-41b4-bb6d-7c15b79c249e\",\"type\":\"LegendItem\"},{\"attributes\":{\"data_source\":{\"id\":\"1c3c5759-c8f0-436e-b035-202c1ae7fc10\",\"type\":\"ColumnDataSource\"},\"glyph\":{\"id\":\"30519599-f11b-410a-a8dd-1e875bad0577\",\"type\":\"Square\"},\"hover_glyph\":null,\"muted_glyph\":null,\"nonselection_glyph\":{\"id\":\"bcdd4a8d-0e36-4793-a831-3ec4f0da73a1\",\"type\":\"Square\"},\"selection_glyph\":null,\"view\":{\"id\":\"4d7f92db-8177-4f19-996e-fa05afa71a03\",\"type\":\"CDSView\"}},\"id\":\"695a3017-7834-410d-963e-db63388f3dd9\",\"type\":\"GlyphRenderer\"},{\"attributes\":{},\"id\":\"fac3697f-b6e3-4155-90ec-7a3055e825cb\",\"type\":\"UnionRenderers\"},{\"attributes\":{},\"id\":\"543b99e3-ef2e-4488-a90b-ed1b71738727\",\"type\":\"WheelZoomTool\"},{\"attributes\":{\"label\":{\"value\":\"WGT igg=10 wgt_flux=2\"},\"renderers\":[{\"id\":\"ffe0fdcf-b278-4ee2-8322-8bcf86871f7e\",\"type\":\"GlyphRenderer\"},{\"id\":\"7177f7b8-92a2-4f96-a09e-6361dc558497\",\"type\":\"GlyphRenderer\"}]},\"id\":\"929a9047-d192-429e-8d1d-7842b4fcf151\",\"type\":\"LegendItem\"},{\"attributes\":{},\"id\":\"95fdc131-4abd-43fd-a5d1-f718b786da0f\",\"type\":\"UnionRenderers\"},{\"attributes\":{\"callback\":null,\"end\":0.0522886555616,\"start\":-0.0154461786016},\"id\":\"9468b815-de1d-4c35-a74c-66fd702a37d8\",\"type\":\"Range1d\"},{\"attributes\":{},\"id\":\"1e300a62-3a7d-4e17-b9c0-7cc81a61e171\",\"type\":\"BasicTickFormatter\"},{\"attributes\":{\"fill_alpha\":{\"value\":0.7},\"fill_color\":{\"value\":\"#4daf4a\"},\"line_alpha\":{\"value\":0.7},\"line_color\":{\"value\":\"#4daf4a\"},\"x\":{\"field\":\"x\"},\"y\":{\"field\":\"y\"}},\"id\":\"9e2247d0-b940-4441-ac35-83fd76315e3b\",\"type\":\"Circle\"},{\"attributes\":{},\"id\":\"9e6b3257-6270-4167-9e4c-7ae0352fc56d\",\"type\":\"SaveTool\"},{\"attributes\":{},\"id\":\"726c13ef-cbbc-442c-8b60-172a1cb0531f\",\"type\":\"UnionRenderers\"},{\"attributes\":{\"axis_label\":\"cooling rate [K/day]\",\"formatter\":{\"id\":\"1e300a62-3a7d-4e17-b9c0-7cc81a61e171\",\"type\":\"BasicTickFormatter\"},\"plot\":{\"id\":\"56ad861b-28c1-4a64-b165-19ab95437d34\",\"subtype\":\"Figure\",\"type\":\"Plot\"},\"ticker\":{\"id\":\"b4fc5efd-3892-46ae-8964-01ee2f060e2d\",\"type\":\"BasicTicker\"}},\"id\":\"66a0fb83-d922-4ff1-aa2e-b80e80590703\",\"type\":\"LinearAxis\"},{\"attributes\":{\"dimension\":1,\"plot\":{\"id\":\"b88b1fee-01fd-4864-838a-8a2873bcdd66\",\"subtype\":\"Figure\",\"type\":\"Plot\"},\"ticker\":{\"id\":\"f95d879a-2a64-43ef-b9ad-5e20a0145de5\",\"type\":\"LogTicker\"}},\"id\":\"c10123a6-7b05-467e-93d8-418fb5232321\",\"type\":\"Grid\"},{\"attributes\":{},\"id\":\"32a7c14f-dbe3-4c93-a6b4-c7e0de910d35\",\"type\":\"Selection\"},{\"attributes\":{},\"id\":\"b9db288f-c745-4bd1-9e03-f05f07a7db14\",\"type\":\"LinearScale\"},{\"attributes\":{},\"id\":\"19fe8af3-e15e-4ba6-bb1a-a139f5521f98\",\"type\":\"Selection\"},{\"attributes\":{\"source\":{\"id\":\"b1806239-5424-4237-987b-1163e1866969\",\"type\":\"ColumnDataSource\"}},\"id\":\"372ce130-3c08-488e-ae2f-227a4828d1e0\",\"type\":\"CDSView\"},{\"attributes\":{},\"id\":\"fa8442ef-308d-42f8-bcfd-e4ffb7989a64\",\"type\":\"Selection\"},{\"attributes\":{},\"id\":\"b0a2b6fe-9065-495e-90f6-73c2238d6a1d\",\"type\":\"UnionRenderers\"},{\"attributes\":{},\"id\":\"6fda13ea-d042-4693-82fc-0f60b4cd0c50\",\"type\":\"Selection\"},{\"attributes\":{},\"id\":\"8fd25a46-5767-4d66-bb0e-0f99998f33d0\",\"type\":\"UnionRenderers\"},{\"attributes\":{\"bottom_units\":\"screen\",\"fill_alpha\":{\"value\":0.5},\"fill_color\":{\"value\":\"lightgrey\"},\"left_units\":\"screen\",\"level\":\"overlay\",\"line_alpha\":{\"value\":1.0},\"line_color\":{\"value\":\"black\"},\"line_dash\":[4,4],\"line_width\":{\"value\":2},\"plot\":null,\"render_mode\":\"css\",\"right_units\":\"screen\",\"top_units\":\"screen\"},\"id\":\"f415917e-334d-4607-9111-f3c623c676f7\",\"type\":\"BoxAnnotation\"},{\"attributes\":{},\"id\":\"68499c8d-8248-4c7a-8abf-97576aa698d4\",\"type\":\"BasicTickFormatter\"},{\"attributes\":{\"ticker\":null},\"id\":\"aef1351d-8ef6-4e6d-96f9-d7b0ff0e5c3b\",\"type\":\"LogTickFormatter\"},{\"attributes\":{},\"id\":\"ac02243f-ca7d-4fae-a8d2-b662b5623d0f\",\"type\":\"Selection\"},{\"attributes\":{\"callback\":null,\"data\":{\"x\":{\"__ndarray__\":\"aKqhbdC1eD+ze8qMp155Pw9Ia9XE0no/6LtvcBtPfD8A9UWnk859P0qhgzwNUX8/gYP0pjtrgD8cJWANgi+BP0YtAzo/9YE/XC2Wu0a8gj/WE4Z38oaDPwCFZmdYUYQ/hHOkv6kdhT9ltUsFWCSGPyVlJrkp1ok/oGPHdIjNkD923hkeCZyVP/FKdKr+1Jo/r01ibJU9oD9icc+LZSyjP7flcm+9Z6Y/qQmn2k9xqT9lvhG/iW6qP0HLhhEuOqk/J00ilu4spz8fNVHPf3WkP70TNyJ3n6E/fW4U6MWrnT8j2UVpmDSYP2t8q0Ik4JI/GnFw2dNniz+1mYANWHiBP/KUsHMT2m8/eBKE5hQPQb+uxvTXoNp2v/DevdpLvoa/sLWOWHFEjr+LQhpvFUaOv1MNw5NS2om/IYV11vyuhb/8ZwCBZMCBvxZKgs4t9nu/I0Ip/7aFdL/kFYr+a7dqv00l9Ikhjlm/EaEABP9LEz92IYbOJ5xbP5onQE1m0mo/3gdb5OS9cz/k6a1sL815P6JPzv6b538/F9WWQcvvgj+aA4Z329GFP4J7tahQrYg/pNUvgCKEiz8XsR6M/EWOP5TOfmPafpA/dP+Fm9TbkT/GE+ubziqTP+8TOHdKd5Q/bF04AR65lT9Y7XgUqdeWP/7D8yEK15c//GzckgCkmD9a9zk8EFKZP+xW5FL7Bpo/ZUqD1bPEmj/uL1sjpKSbPxxbfaRpkZw/SuOxDT6HnT/khaKw84WeP9jZVEFze58/wjrYGgY+oD+KBnq/CbmgP/UnLNPhOKE/\",\"dtype\":\"float64\",\"shape\":[75]},\"y\":{\"__ndarray__\":\"GhExyth1ND/Sv8nbtpRIP2vylNV0PVE/aTum7souWD/At0SJ8fVgPw3Iuahxymc/MSNhhJWvcD/bTfBN02d3P2zb5nxnaoA/CD5h5MAGhz8NmeH1TyaQP+zrCsc9p5Y/LbKd76fGnz/bLW5ISEmmPww9YvTcQq8/JV2OstnstT8Er5Y7M8G+P0c+r3jqkcU/5h99k6ZBzj88bCIzFzjVP4enV8oyxN0//yH99nXg5D8qOpLLf0jtP5kqGJXUifQ/c9cS8kHP/D+/DpwzojQEQIEmwoanVwxA4lgXt9HgE0BSSZ2AJuIbQAMJih9jjiNA5q4l5INuK0AwTKYKRj0zQNv5fmq8/DpAaCJseHrtQkB/+zpwzoxKQM3MzMzMeFJAZmZmZmZqWEAAAAAAAFxeQM3MzMzMJmJAmpmZmZkfZUBmZmZmZhhoQDMzMzMzEWtAAAAAAAAKbkBmZmZmZoFwQM3MzMzM/XFAMzMzMzN6c0CamZmZmfZ0QAAAAAAAc3ZAZmZmZmbvd0DNzMzMzGt5QDMzMzMz6HpAmpmZmZlkfEAAAAAAAOF9QGZmZmZmXX9AZmZmZuZsgECamZmZGSuBQM3MzMxM6YFAAAAAAICngkAzMzMzs2WDQGZmZmbmI4RAmpmZmRnihEDNzMzMTKCFQAAAAACAXoZAMzMzM7Mch0BmZmZm5tqHQJqZmZkZmYhAzczMzExXiUAAAAAAgBWKQDMzMzOz04pAZmZmZuaRi0CamZmZGVCMQM3MzMxMDo1AAAAAAIDMjUAzMzMzs4qOQGZmZmbmSI9A\",\"dtype\":\"float64\",\"shape\":[75]}},\"selected\":{\"id\":\"dfbc37ef-10cf-4a43-ba1a-44258529e030\",\"type\":\"Selection\"},\"selection_policy\":{\"id\":\"9394f954-037e-446e-8575-49c14e8d705a\",\"type\":\"UnionRenderers\"}},\"id\":\"7d0426e6-26d8-48d3-bc3f-2518f5fbedc9\",\"type\":\"ColumnDataSource\"},{\"attributes\":{},\"id\":\"646ad69c-c394-4abd-ae1f-19984e6b93cd\",\"type\":\"UnionRenderers\"},{\"attributes\":{\"toolbar\":{\"id\":\"facebb66-9b5c-432f-8dee-2fc06e1f284f\",\"type\":\"ProxyToolbar\"},\"toolbar_location\":\"above\"},\"id\":\"0af88d6f-3fcd-463f-b51d-096f7a7cf277\",\"type\":\"ToolbarBox\"},{\"attributes\":{\"data_source\":{\"id\":\"9f794665-8856-4420-914c-2f3f032c89e3\",\"type\":\"ColumnDataSource\"},\"glyph\":{\"id\":\"9e2247d0-b940-4441-ac35-83fd76315e3b\",\"type\":\"Circle\"},\"hover_glyph\":null,\"muted_glyph\":null,\"nonselection_glyph\":{\"id\":\"49a1fb2f-8459-45c8-8106-f4eb8034cccc\",\"type\":\"Circle\"},\"selection_glyph\":null,\"view\":{\"id\":\"3c324159-51fa-4e6b-8792-3e08e5b4fd85\",\"type\":\"CDSView\"}},\"id\":\"5b75d4b2-a5e7-4c23-88ca-5286aed5177e\",\"type\":\"GlyphRenderer\"},{\"attributes\":{\"callback\":null,\"data\":{\"x\":{\"__ndarray__\":\"2UPIZxxkXj+vvg1zesVgPzNU6dFSBWQ/xHCWV8xWZz+TWVu+V7BqPyQ6ms4GDG4/VDAfEnu2cD9NPqXi+WdyPyATu8JzGXQ/lUKe8f3MdT9yrJCUIml3PyjOltII9Hg/KN15TrFkej+GgT2WXTh8Pyxuccd67oE/gnq06tMnij+v2k6+TT2SPzv+BktHyZc/YItNk2i1nT8/BY2HYQGiP1ZnmWvvWKU/nNMTM06FqD8bToe4s1upP4iH3H6MyKc/fpWVic9bpT9tm76r2VuiP6l2pP+H6Z4/bDyM1HG4mT8qntvNURyVP4JvRD6C95A/yoPbd5g4ij/Zq2/nGbeCP1ZJAhrOOHY/lV/hwMZeWD9l4u+CvOpuvyoxwB8tt4S/vvonobzbjb9hYZ03CTaOv5lcox3rbYm/zhDsyvckhb8BoIVi/S+Bv0lg6mVf63q/egOU0qjKc78rPpZrPuhpvzRzNz5JcFm/+Ws1/Gu42D7DHJM1CeZYP554pypIhmg/ZCWsZaAmcj8sQs1qY+d3P2A0Fa1WiX0/meDJJ9qHgT/AmRBiiz6EP45kFYoC6oY/G/R/8JyLiT+zRpNEXCSMP2GF2r18tY4/9cts/+afkD8dCs/mmeCRP2YzkRaKG5M//rtSV71KlD9Et/mnnV+VP2pkQ3ZfR5Y/JorhAZ39lj9GEj4NeJaXP/+ZilIXMJg/qaq06/zgmD+r56T3ja+ZPye0f3pAlJo/RA/sYBOFmz/IqFsL7XucP8aNYIWJdp0/rNYGSrFznj8+snKVEnWfP6PrX+USP6A/\",\"dtype\":\"float64\",\"shape\":[75]},\"y\":{\"__ndarray__\":\"GhExyth1ND/Sv8nbtpRIP2vylNV0PVE/aTum7souWD/At0SJ8fVgPw3Iuahxymc/MSNhhJWvcD/bTfBN02d3P2zb5nxnaoA/CD5h5MAGhz8NmeH1TyaQP+zrCsc9p5Y/LbKd76fGnz/bLW5ISEmmPww9YvTcQq8/JV2OstnstT8Er5Y7M8G+P0c+r3jqkcU/5h99k6ZBzj88bCIzFzjVP4enV8oyxN0//yH99nXg5D8qOpLLf0jtP5kqGJXUifQ/c9cS8kHP/D+/DpwzojQEQIEmwoanVwxA4lgXt9HgE0BSSZ2AJuIbQAMJih9jjiNA5q4l5INuK0AwTKYKRj0zQNv5fmq8/DpAaCJseHrtQkB/+zpwzoxKQM3MzMzMeFJAZmZmZmZqWEAAAAAAAFxeQM3MzMzMJmJAmpmZmZkfZUBmZmZmZhhoQDMzMzMzEWtAAAAAAAAKbkBmZmZmZoFwQM3MzMzM/XFAMzMzMzN6c0CamZmZmfZ0QAAAAAAAc3ZAZmZmZmbvd0DNzMzMzGt5QDMzMzMz6HpAmpmZmZlkfEAAAAAAAOF9QGZmZmZmXX9AZmZmZuZsgECamZmZGSuBQM3MzMxM6YFAAAAAAICngkAzMzMzs2WDQGZmZmbmI4RAmpmZmRnihEDNzMzMTKCFQAAAAACAXoZAMzMzM7Mch0BmZmZm5tqHQJqZmZkZmYhAzczMzExXiUAAAAAAgBWKQDMzMzOz04pAZmZmZuaRi0CamZmZGVCMQM3MzMxMDo1AAAAAAIDMjUAzMzMzs4qOQGZmZmbmSI9A\",\"dtype\":\"float64\",\"shape\":[75]}},\"selected\":{\"id\":\"fa8442ef-308d-42f8-bcfd-e4ffb7989a64\",\"type\":\"Selection\"},\"selection_policy\":{\"id\":\"95fdc131-4abd-43fd-a5d1-f718b786da0f\",\"type\":\"UnionRenderers\"}},\"id\":\"9f794665-8856-4420-914c-2f3f032c89e3\",\"type\":\"ColumnDataSource\"},{\"attributes\":{\"num_minor_ticks\":10},\"id\":\"f95d879a-2a64-43ef-b9ad-5e20a0145de5\",\"type\":\"LogTicker\"},{\"attributes\":{\"callback\":null,\"end\":0.034121293328,\"start\":-0.015266303728},\"id\":\"78ad8080-cb43-4824-b7c0-03f5ba80de4a\",\"type\":\"Range1d\"},{\"attributes\":{},\"id\":\"2b6ad412-e3c4-4b8f-8e74-cab10cfc4168\",\"type\":\"Selection\"},{\"attributes\":{},\"id\":\"7acc511f-ab1f-46a2-bb9b-69cefbf7c4be\",\"type\":\"Selection\"},{\"attributes\":{},\"id\":\"b0e62f85-449f-4019-9437-d041dd0b6884\",\"type\":\"Selection\"},{\"attributes\":{\"items\":[{\"id\":\"74337f33-04ea-48ff-b758-5a700febb37e\",\"type\":\"LegendItem\"},{\"id\":\"5d2283e3-c007-41b4-bb6d-7c15b79c249e\",\"type\":\"LegendItem\"},{\"id\":\"929a9047-d192-429e-8d1d-7842b4fcf151\",\"type\":\"LegendItem\"}],\"label_text_font_size\":{\"value\":\"8pt\"},\"location\":[10,-30],\"plot\":{\"id\":\"b88b1fee-01fd-4864-838a-8a2873bcdd66\",\"subtype\":\"Figure\",\"type\":\"Plot\"}},\"id\":\"a81c3c95-d4e1-4956-bb74-0e0be2eacddb\",\"type\":\"Legend\"},{\"attributes\":{},\"id\":\"2df8a0fd-cd57-4e0d-9d54-57900fca4aa8\",\"type\":\"UnionRenderers\"},{\"attributes\":{\"data_source\":{\"id\":\"78cd5556-d3c0-4928-a9f5-75545d2c71dc\",\"type\":\"ColumnDataSource\"},\"glyph\":{\"id\":\"8ea8caad-02aa-4e8e-a232-14f6165f6b63\",\"type\":\"Line\"},\"hover_glyph\":null,\"muted_glyph\":null,\"nonselection_glyph\":{\"id\":\"419779f3-bdcd-47ac-b746-f7730070252e\",\"type\":\"Line\"},\"selection_glyph\":null,\"view\":{\"id\":\"d00e142e-c1bf-4835-9d5d-2a84347cb7b5\",\"type\":\"CDSView\"}},\"id\":\"1390a2d3-7a04-4ac0-8a66-1daacaeb80d0\",\"type\":\"GlyphRenderer\"},{\"attributes\":{},\"id\":\"2429665f-1680-426f-9ac1-77e2165d8fd0\",\"type\":\"UnionRenderers\"},{\"attributes\":{\"plot\":null,\"text\":\"Log pressure scale\"},\"id\":\"8b70ad90-618c-4be1-8e91-4991390ff37a\",\"type\":\"Title\"},{\"attributes\":{},\"id\":\"4ccfafe9-0cba-4f3b-933f-c939dcd4f33a\",\"type\":\"Selection\"},{\"attributes\":{},\"id\":\"381e1575-443a-44dd-b7c8-aec8e35df266\",\"type\":\"LinearScale\"},{\"attributes\":{},\"id\":\"685f7875-293a-4aaf-8719-34195d7564cd\",\"type\":\"UnionRenderers\"},{\"attributes\":{\"tools\":[{\"id\":\"bc008845-2f93-4c69-9540-f79f9c405a42\",\"type\":\"PanTool\"},{\"id\":\"0618b5b1-70d1-4b9e-ba0e-e033b4482d5b\",\"type\":\"WheelZoomTool\"},{\"id\":\"aa68e69e-874c-40df-b546-2ce8c3a755c4\",\"type\":\"BoxZoomTool\"},{\"id\":\"d60abe9d-6e35-4bf7-8f78-196df089419f\",\"type\":\"SaveTool\"},{\"id\":\"048d377d-70ec-467d-a059-6e956986b1dc\",\"type\":\"ResetTool\"},{\"id\":\"7b8cc9da-9532-4daf-81a6-304a5029ffad\",\"type\":\"HelpTool\"},{\"id\":\"f0b93690-c45a-40a6-9f4b-f807b282692d\",\"type\":\"PanTool\"},{\"id\":\"543b99e3-ef2e-4488-a90b-ed1b71738727\",\"type\":\"WheelZoomTool\"},{\"id\":\"73d3e6af-56be-4d4b-8416-6ea9d2a8b3fc\",\"type\":\"BoxZoomTool\"},{\"id\":\"9e6b3257-6270-4167-9e4c-7ae0352fc56d\",\"type\":\"SaveTool\"},{\"id\":\"0815d405-0616-4e4a-b255-a6f1582787fd\",\"type\":\"ResetTool\"},{\"id\":\"81f1c3b4-d38b-4dfd-bf49-943db35d2634\",\"type\":\"HelpTool\"}]},\"id\":\"facebb66-9b5c-432f-8dee-2fc06e1f284f\",\"type\":\"ProxyToolbar\"},{\"attributes\":{\"active_drag\":\"auto\",\"active_inspect\":\"auto\",\"active_scroll\":\"auto\",\"active_tap\":\"auto\",\"tools\":[{\"id\":\"f0b93690-c45a-40a6-9f4b-f807b282692d\",\"type\":\"PanTool\"},{\"id\":\"543b99e3-ef2e-4488-a90b-ed1b71738727\",\"type\":\"WheelZoomTool\"},{\"id\":\"73d3e6af-56be-4d4b-8416-6ea9d2a8b3fc\",\"type\":\"BoxZoomTool\"},{\"id\":\"9e6b3257-6270-4167-9e4c-7ae0352fc56d\",\"type\":\"SaveTool\"},{\"id\":\"0815d405-0616-4e4a-b255-a6f1582787fd\",\"type\":\"ResetTool\"},{\"id\":\"81f1c3b4-d38b-4dfd-bf49-943db35d2634\",\"type\":\"HelpTool\"}]},\"id\":\"34671d05-d307-4c6c-866d-48715132fa31\",\"type\":\"Toolbar\"},{\"attributes\":{\"callback\":null,\"end\":0.01,\"start\":1020},\"id\":\"17284c0c-0006-4298-9673-84763bbed378\",\"type\":\"Range1d\"},{\"attributes\":{},\"id\":\"4fbcdf2d-880c-4c4e-9bb5-f76abbcac82f\",\"type\":\"LinearScale\"},{\"attributes\":{},\"id\":\"dfbc37ef-10cf-4a43-ba1a-44258529e030\",\"type\":\"Selection\"},{\"attributes\":{\"data_source\":{\"id\":\"d39b13b3-747c-40c5-a806-0083f91cd9b6\",\"type\":\"ColumnDataSource\"},\"glyph\":{\"id\":\"0aab7250-5c2a-49a6-9a1c-cac45ad1ba76\",\"type\":\"Line\"},\"hover_glyph\":null,\"muted_glyph\":null,\"nonselection_glyph\":{\"id\":\"af6b29c1-424c-479f-b4a8-1ba6f039be49\",\"type\":\"Line\"},\"selection_glyph\":null,\"view\":{\"id\":\"c1fcf58f-403b-4739-a723-471fe46e11a0\",\"type\":\"CDSView\"}},\"id\":\"70bd3f77-fdf9-45a4-b9a3-43f97df1b782\",\"type\":\"GlyphRenderer\"},{\"attributes\":{},\"id\":\"9394f954-037e-446e-8575-49c14e8d705a\",\"type\":\"UnionRenderers\"},{\"attributes\":{\"children\":[{\"id\":\"0af88d6f-3fcd-463f-b51d-096f7a7cf277\",\"type\":\"ToolbarBox\"},{\"id\":\"476f1891-7548-4540-858a-39f843c8b404\",\"type\":\"Column\"}]},\"id\":\"14a8cf12-1fcb-48a6-9442-41d100600acd\",\"type\":\"Column\"},{\"attributes\":{\"line_alpha\":0.1,\"line_color\":\"#1f77b4\",\"line_dash\":[6],\"line_width\":5,\"x\":{\"field\":\"x\"},\"y\":{\"field\":\"y\"}},\"id\":\"71dfd056-3870-4c87-bb44-7dee84c39022\",\"type\":\"Line\"},{\"attributes\":{\"source\":{\"id\":\"be09f868-1140-476c-bbe3-ccea680d2967\",\"type\":\"ColumnDataSource\"}},\"id\":\"ea1f5a12-13ac-43c6-b907-a2e4c1c64ee1\",\"type\":\"CDSView\"},{\"attributes\":{\"active_drag\":\"auto\",\"active_inspect\":\"auto\",\"active_scroll\":\"auto\",\"active_tap\":\"auto\",\"tools\":[{\"id\":\"bc008845-2f93-4c69-9540-f79f9c405a42\",\"type\":\"PanTool\"},{\"id\":\"0618b5b1-70d1-4b9e-ba0e-e033b4482d5b\",\"type\":\"WheelZoomTool\"},{\"id\":\"aa68e69e-874c-40df-b546-2ce8c3a755c4\",\"type\":\"BoxZoomTool\"},{\"id\":\"d60abe9d-6e35-4bf7-8f78-196df089419f\",\"type\":\"SaveTool\"},{\"id\":\"048d377d-70ec-467d-a059-6e956986b1dc\",\"type\":\"ResetTool\"},{\"id\":\"7b8cc9da-9532-4daf-81a6-304a5029ffad\",\"type\":\"HelpTool\"}]},\"id\":\"74aad297-bd1e-4674-a96b-d64ccf171a0e\",\"type\":\"Toolbar\"},{\"attributes\":{},\"id\":\"0e59330c-1bf1-46fb-a26d-91f7af672153\",\"type\":\"LogScale\"},{\"attributes\":{\"callback\":null,\"data\":{\"x\":{\"__ndarray__\":\"OUnWTWA0ez+OkScrONN7P2RVoRXhLH0/Mpds5bKEfj+gPNVlnd9/P/eDuySnnoA/Q4nziHpOgT/x2rjMSACCP8E1ahPdsoI/SSKP8uBmgz9V2UbntBqEPx4HpwMuz4Q/lLv9Kb2FhT+MW6nA+W+GP3BioweZv4k/VkuQynpVkD9WoPotWK+UPwq/s8GyZ5k/Uhmjzgx9nj9/Y04etvehP0lLUoo34aQ/nVoO2Purpz/FM4Q9z5qoP3r09k+Glqc/2WBsF1bOpT9EyolVB2mjPwg5far74aA/ZiTThX7EnD+I+u2D3cSXP4lSA0xnx5I/VP5IIESDiz8ZKmpkI42BP865TG+1RW8/QFNK/YuqSb81XcuE2EJ4vz6m7RPLI4e/ZbGbuYo8jr9IeQ6ufkGOv6vdEXbTK4q/8EuxLmQxhr/CSh3W71iCvxV92QxkPH2/Mbrd/iX4db8DGWlBIshtv4NeOtB881+/7hW5RhTqM7/hi2Dv/1RVP5G3xiqYhmc/Mmx9okUOcj842R6v2zZ4P/baDjvDPH4/aVoIiMcSgj86kpaNePmEPxdSwm/q04c/wsc3Rnicij8qulEL9VmNP1uvJqVZBpA/0b+6sIlakT+/f6wNOamSP1ORr6mY75M/qLVwJpQolT+zLUIylkmWPzZUuisjRJc/OWC6vWIVmD/0K3VHAc2YP+pRb0jOgpk/FRHNVVZHmj/4KmR0YSCbPyEriBnLCJw/zm7cS+L4nD8FWJWRO+udPzFT9VNl3Z4/Tg0ivLfOnz/o+ACOUV+gP7XTrsCS1qA/\",\"dtype\":\"float64\",\"shape\":[75]},\"y\":{\"__ndarray__\":\"S/O/Q+51ND/Sv8nbtpRIP2vylNV0PVE/aTum7souWD/At0SJ8fVgPw3Iuahxymc/MSNhhJWvcD/bTfBN02d3P2zb5nxnaoA/CD5h5MAGhz8NmeH1TyaQP+zrCsc9p5Y/LbKd76fGnz/bLW5ISEmmPww9YvTcQq8/JV2OstnstT8Er5Y7M8G+P0c+r3jqkcU/5h99k6ZBzj88bCIzFzjVP4enV8oyxN0//yH99nXg5D8qOpLLf0jtP5kqGJXUifQ/c9cS8kHP/D+/DpwzojQEQIEmwoanVwxA4lgXt9HgE0BSSZ2AJuIbQAMJih9jjiNA5q4l5INuK0AwTKYKRj0zQNv5fmq8/DpAaCJseHrtQkB/+zpwzoxKQM3MzMzMeFJAZmZmZmZqWEAAAAAAAFxeQM3MzMzMJmJAmpmZmZkfZUBmZmZmZhhoQDMzMzMzEWtAAAAAAAAKbkBmZmZmZoFwQM3MzMzM/XFAMzMzMzN6c0CamZmZmfZ0QAAAAAAAc3ZAZmZmZmbvd0DNzMzMzGt5QDMzMzMz6HpAmpmZmZlkfEAAAAAAAOF9QGZmZmZmXX9AZmZmZuZsgECamZmZGSuBQM3MzMxM6YFAAAAAAICngkAzMzMzs2WDQGZmZmbmI4RAmpmZmRnihEDNzMzMTKCFQAAAAACAXoZAMzMzM7Mch0BmZmZm5tqHQJqZmZkZmYhAzczMzExXiUAAAAAAgBWKQDMzMzOz04pAZmZmZuaRi0CamZmZGVCMQM3MzMxMDo1AAAAAAIDMjUAzMzMzs4qOQGZmZmbmSI9A\",\"dtype\":\"float64\",\"shape\":[75]}},\"selected\":{\"id\":\"2b6ad412-e3c4-4b8f-8e74-cab10cfc4168\",\"type\":\"Selection\"},\"selection_policy\":{\"id\":\"726c13ef-cbbc-442c-8b60-172a1cb0531f\",\"type\":\"UnionRenderers\"}},\"id\":\"6dd55e3d-c2ff-47a8-b4ac-d52cf19486c4\",\"type\":\"ColumnDataSource\"},{\"attributes\":{\"below\":[{\"id\":\"9903b0bf-f55a-4137-af4d-061545ebf223\",\"type\":\"LinearAxis\"}],\"left\":[{\"id\":\"f0dba2eb-2507-4952-9148-31d9732360e5\",\"type\":\"LogAxis\"}],\"plot_height\":500,\"plot_width\":560,\"renderers\":[{\"id\":\"9903b0bf-f55a-4137-af4d-061545ebf223\",\"type\":\"LinearAxis\"},{\"id\":\"8f4c710e-ef09-4c94-8ae4-72754d80c81e\",\"type\":\"Grid\"},{\"id\":\"f0dba2eb-2507-4952-9148-31d9732360e5\",\"type\":\"LogAxis\"},{\"id\":\"c10123a6-7b05-467e-93d8-418fb5232321\",\"type\":\"Grid\"},{\"id\":\"f415917e-334d-4607-9111-f3c623c676f7\",\"type\":\"BoxAnnotation\"},{\"id\":\"ee7334e4-1789-4dc0-a15f-eb8f2e48d5ed\",\"type\":\"GlyphRenderer\"},{\"id\":\"fe94de56-e107-4814-babd-515d96c58451\",\"type\":\"GlyphRenderer\"},{\"id\":\"228a4ad3-bf3e-44c0-92cc-37add107f3f2\",\"type\":\"GlyphRenderer\"},{\"id\":\"ffe0fdcf-b278-4ee2-8322-8bcf86871f7e\",\"type\":\"GlyphRenderer\"},{\"id\":\"7177f7b8-92a2-4f96-a09e-6361dc558497\",\"type\":\"GlyphRenderer\"},{\"id\":\"a81c3c95-d4e1-4956-bb74-0e0be2eacddb\",\"type\":\"Legend\"}],\"right\":[{\"id\":\"a81c3c95-d4e1-4956-bb74-0e0be2eacddb\",\"type\":\"Legend\"}],\"title\":{\"id\":\"8b70ad90-618c-4be1-8e91-4991390ff37a\",\"type\":\"Title\"},\"toolbar\":{\"id\":\"34671d05-d307-4c6c-866d-48715132fa31\",\"type\":\"Toolbar\"},\"toolbar_location\":null,\"x_range\":{\"id\":\"9468b815-de1d-4c35-a74c-66fd702a37d8\",\"type\":\"Range1d\"},\"x_scale\":{\"id\":\"4fbcdf2d-880c-4c4e-9bb5-f76abbcac82f\",\"type\":\"LinearScale\"},\"y_range\":{\"id\":\"17284c0c-0006-4298-9673-84763bbed378\",\"type\":\"Range1d\"},\"y_scale\":{\"id\":\"0e59330c-1bf1-46fb-a26d-91f7af672153\",\"type\":\"LogScale\"}},\"id\":\"b88b1fee-01fd-4864-838a-8a2873bcdd66\",\"subtype\":\"Figure\",\"type\":\"Plot\"},{\"attributes\":{\"line_alpha\":0.6,\"line_color\":\"#e41a1c\",\"line_dash\":[6],\"line_width\":5,\"x\":{\"field\":\"x\"},\"y\":{\"field\":\"y\"}},\"id\":\"4ec97222-7185-4061-8617-6fc2c2df7bf9\",\"type\":\"Line\"}],\"root_ids\":[\"14a8cf12-1fcb-48a6-9442-41d100600acd\"]},\"title\":\"Bokeh Application\",\"version\":\"0.12.16\"}};\n",
       "  var render_items = [{\"docid\":\"510ab820-607a-4b50-944a-efd23a8ac6f1\",\"elementid\":\"113e5b53-83ae-4c97-aa2b-7086f80e62b2\",\"modelid\":\"14a8cf12-1fcb-48a6-9442-41d100600acd\"}];\n",
       "  root.Bokeh.embed.embed_items_notebook(docs_json, render_items);\n",
       "\n",
       "  }\n",
       "  if (root.Bokeh !== undefined) {\n",
       "    embed_document(root);\n",
       "  } else {\n",
       "    var attempts = 0;\n",
       "    var timer = setInterval(function(root) {\n",
       "      if (root.Bokeh !== undefined) {\n",
       "        embed_document(root);\n",
       "        clearInterval(timer);\n",
       "      }\n",
       "      attempts++;\n",
       "      if (attempts > 100) {\n",
       "        console.log(\"Bokeh: ERROR: Unable to run BokehJS code because BokehJS library is missing\")\n",
       "        clearInterval(timer);\n",
       "      }\n",
       "    }, 10, root)\n",
       "  }\n",
       "})(window);"
      ],
      "application/vnd.bokehjs_exec.v0+json": ""
     },
     "metadata": {
      "application/vnd.bokehjs_exec.v0+json": {
       "id": "14a8cf12-1fcb-48a6-9442-41d100600acd"
      }
     },
     "output_type": "display_data"
    },
    {
     "name": "stdout",
     "output_type": "stream",
     "text": [
      "FIGURE. Cooling rate profiles.\n"
     ]
    },
    {
     "data": {
      "text/html": [
       "<a id=\"Flux_Comparison\"></a>"
      ],
      "text/plain": [
       "<IPython.core.display.HTML object>"
      ]
     },
     "metadata": {},
     "output_type": "display_data"
    },
    {
     "data": {
      "text/markdown": [
       "# Flux Comparison"
      ],
      "text/plain": [
       "<IPython.core.display.Markdown object>"
      ]
     },
     "metadata": {},
     "output_type": "display_data"
    },
    {
     "data": {
      "text/html": [
       "<div>\n",
       "<style scoped>\n",
       "    .dataframe tbody tr th:only-of-type {\n",
       "        vertical-align: middle;\n",
       "    }\n",
       "\n",
       "    .dataframe tbody tr th {\n",
       "        vertical-align: top;\n",
       "    }\n",
       "\n",
       "    .dataframe thead th {\n",
       "        text-align: right;\n",
       "    }\n",
       "</style>\n",
       "<table border=\"1\" class=\"dataframe\">\n",
       "  <thead>\n",
       "    <tr style=\"text-align: right;\">\n",
       "      <th></th>\n",
       "      <th></th>\n",
       "      <th>flug</th>\n",
       "      <th>fldg</th>\n",
       "      <th>fnetg</th>\n",
       "    </tr>\n",
       "    <tr>\n",
       "      <th>pressure</th>\n",
       "      <th>level</th>\n",
       "      <th></th>\n",
       "      <th></th>\n",
       "      <th></th>\n",
       "    </tr>\n",
       "  </thead>\n",
       "  <tbody>\n",
       "    <tr>\n",
       "      <th>0.0000</th>\n",
       "      <th>1</th>\n",
       "      <td>-37.085128</td>\n",
       "      <td>0.000000</td>\n",
       "      <td>-37.085128</td>\n",
       "    </tr>\n",
       "    <tr>\n",
       "      <th>1.0685</th>\n",
       "      <th>24</th>\n",
       "      <td>-37.084747</td>\n",
       "      <td>0.004505</td>\n",
       "      <td>-37.080242</td>\n",
       "    </tr>\n",
       "    <tr>\n",
       "      <th>1013.0000</th>\n",
       "      <th>76</th>\n",
       "      <td>-38.491734</td>\n",
       "      <td>2.697929</td>\n",
       "      <td>-35.793805</td>\n",
       "    </tr>\n",
       "  </tbody>\n",
       "</table>\n",
       "</div>"
      ],
      "text/plain": [
       "                      flug      fldg      fnetg\n",
       "pressure  level                                \n",
       "0.0000    1     -37.085128  0.000000 -37.085128\n",
       "1.0685    24    -37.084747  0.004505 -37.080242\n",
       "1013.0000 76    -38.491734  2.697929 -35.793805"
      ]
     },
     "metadata": {},
     "output_type": "display_data"
    },
    {
     "name": "stdout",
     "output_type": "stream",
     "text": [
      "Table. Fluxes. CRD\n"
     ]
    },
    {
     "data": {
      "text/html": [
       "<div>\n",
       "<style scoped>\n",
       "    .dataframe tbody tr th:only-of-type {\n",
       "        vertical-align: middle;\n",
       "    }\n",
       "\n",
       "    .dataframe tbody tr th {\n",
       "        vertical-align: top;\n",
       "    }\n",
       "\n",
       "    .dataframe thead th {\n",
       "        text-align: right;\n",
       "    }\n",
       "</style>\n",
       "<table border=\"1\" class=\"dataframe\">\n",
       "  <thead>\n",
       "    <tr style=\"text-align: right;\">\n",
       "      <th></th>\n",
       "      <th></th>\n",
       "      <th>flug</th>\n",
       "      <th>fldg</th>\n",
       "      <th>fnetg</th>\n",
       "    </tr>\n",
       "    <tr>\n",
       "      <th>pressure</th>\n",
       "      <th>level</th>\n",
       "      <th></th>\n",
       "      <th></th>\n",
       "      <th></th>\n",
       "    </tr>\n",
       "  </thead>\n",
       "  <tbody>\n",
       "    <tr>\n",
       "      <th>0.0000</th>\n",
       "      <th>1</th>\n",
       "      <td>-37.086989</td>\n",
       "      <td>0.000000</td>\n",
       "      <td>-37.086989</td>\n",
       "    </tr>\n",
       "    <tr>\n",
       "      <th>1.0685</th>\n",
       "      <th>24</th>\n",
       "      <td>-37.086145</td>\n",
       "      <td>0.004339</td>\n",
       "      <td>-37.081806</td>\n",
       "    </tr>\n",
       "    <tr>\n",
       "      <th>1013.0000</th>\n",
       "      <th>76</th>\n",
       "      <td>-38.491734</td>\n",
       "      <td>2.791664</td>\n",
       "      <td>-35.700070</td>\n",
       "    </tr>\n",
       "  </tbody>\n",
       "</table>\n",
       "</div>"
      ],
      "text/plain": [
       "                      flug      fldg      fnetg\n",
       "pressure  level                                \n",
       "0.0000    1     -37.086989  0.000000 -37.086989\n",
       "1.0685    24    -37.086145  0.004339 -37.081806\n",
       "1013.0000 76    -38.491734  2.791664 -35.700070"
      ]
     },
     "metadata": {},
     "output_type": "display_data"
    },
    {
     "name": "stdout",
     "output_type": "stream",
     "text": [
      "Table. Fluxes. WGT igg=10 wgt_flux=1\n"
     ]
    },
    {
     "data": {
      "text/html": [
       "<div>\n",
       "<style scoped>\n",
       "    .dataframe tbody tr th:only-of-type {\n",
       "        vertical-align: middle;\n",
       "    }\n",
       "\n",
       "    .dataframe tbody tr th {\n",
       "        vertical-align: top;\n",
       "    }\n",
       "\n",
       "    .dataframe thead th {\n",
       "        text-align: right;\n",
       "    }\n",
       "</style>\n",
       "<table border=\"1\" class=\"dataframe\">\n",
       "  <thead>\n",
       "    <tr style=\"text-align: right;\">\n",
       "      <th></th>\n",
       "      <th></th>\n",
       "      <th>flug</th>\n",
       "      <th>fldg</th>\n",
       "      <th>fnetg</th>\n",
       "    </tr>\n",
       "    <tr>\n",
       "      <th>pressure</th>\n",
       "      <th>level</th>\n",
       "      <th></th>\n",
       "      <th></th>\n",
       "      <th></th>\n",
       "    </tr>\n",
       "  </thead>\n",
       "  <tbody>\n",
       "    <tr>\n",
       "      <th>1.000000e-08</th>\n",
       "      <th>1</th>\n",
       "      <td>-37.140226</td>\n",
       "      <td>0.000002</td>\n",
       "      <td>-37.140224</td>\n",
       "    </tr>\n",
       "    <tr>\n",
       "      <th>1.068500e+00</th>\n",
       "      <th>24</th>\n",
       "      <td>-37.139335</td>\n",
       "      <td>0.003958</td>\n",
       "      <td>-37.135377</td>\n",
       "    </tr>\n",
       "    <tr>\n",
       "      <th>1.013000e+03</th>\n",
       "      <th>76</th>\n",
       "      <td>-38.491730</td>\n",
       "      <td>2.687236</td>\n",
       "      <td>-35.804494</td>\n",
       "    </tr>\n",
       "  </tbody>\n",
       "</table>\n",
       "</div>"
      ],
      "text/plain": [
       "                         flug      fldg      fnetg\n",
       "pressure     level                                \n",
       "1.000000e-08 1     -37.140226  0.000002 -37.140224\n",
       "1.068500e+00 24    -37.139335  0.003958 -37.135377\n",
       "1.013000e+03 76    -38.491730  2.687236 -35.804494"
      ]
     },
     "metadata": {},
     "output_type": "display_data"
    },
    {
     "name": "stdout",
     "output_type": "stream",
     "text": [
      "Table. Fluxes. CLIRAD\n"
     ]
    },
    {
     "data": {
      "text/html": [
       "<div>\n",
       "<style scoped>\n",
       "    .dataframe tbody tr th:only-of-type {\n",
       "        vertical-align: middle;\n",
       "    }\n",
       "\n",
       "    .dataframe tbody tr th {\n",
       "        vertical-align: top;\n",
       "    }\n",
       "\n",
       "    .dataframe thead th {\n",
       "        text-align: right;\n",
       "    }\n",
       "</style>\n",
       "<table border=\"1\" class=\"dataframe\">\n",
       "  <thead>\n",
       "    <tr style=\"text-align: right;\">\n",
       "      <th></th>\n",
       "      <th></th>\n",
       "      <th>flug</th>\n",
       "      <th>fldg</th>\n",
       "      <th>fnetg</th>\n",
       "    </tr>\n",
       "    <tr>\n",
       "      <th>pressure</th>\n",
       "      <th>level</th>\n",
       "      <th></th>\n",
       "      <th></th>\n",
       "      <th></th>\n",
       "    </tr>\n",
       "  </thead>\n",
       "  <tbody>\n",
       "    <tr>\n",
       "      <th>0.0000</th>\n",
       "      <th>1</th>\n",
       "      <td>-1.861050e-03</td>\n",
       "      <td>0.000000</td>\n",
       "      <td>-0.001861</td>\n",
       "    </tr>\n",
       "    <tr>\n",
       "      <th>1.0685</th>\n",
       "      <th>24</th>\n",
       "      <td>-1.397880e-03</td>\n",
       "      <td>-0.000165</td>\n",
       "      <td>-0.001564</td>\n",
       "    </tr>\n",
       "    <tr>\n",
       "      <th>1013.0000</th>\n",
       "      <th>76</th>\n",
       "      <td>2.000000e-07</td>\n",
       "      <td>0.093735</td>\n",
       "      <td>0.093735</td>\n",
       "    </tr>\n",
       "  </tbody>\n",
       "</table>\n",
       "</div>"
      ],
      "text/plain": [
       "                         flug      fldg     fnetg\n",
       "pressure  level                                  \n",
       "0.0000    1     -1.861050e-03  0.000000 -0.001861\n",
       "1.0685    24    -1.397880e-03 -0.000165 -0.001564\n",
       "1013.0000 76     2.000000e-07  0.093735  0.093735"
      ]
     },
     "metadata": {},
     "output_type": "display_data"
    },
    {
     "name": "stdout",
     "output_type": "stream",
     "text": [
      "Table. Fluxes. (WGT igg=10 wgt_flux=1) - (CRD)\n"
     ]
    },
    {
     "data": {
      "text/html": [
       "<div>\n",
       "<style scoped>\n",
       "    .dataframe tbody tr th:only-of-type {\n",
       "        vertical-align: middle;\n",
       "    }\n",
       "\n",
       "    .dataframe tbody tr th {\n",
       "        vertical-align: top;\n",
       "    }\n",
       "\n",
       "    .dataframe thead th {\n",
       "        text-align: right;\n",
       "    }\n",
       "</style>\n",
       "<table border=\"1\" class=\"dataframe\">\n",
       "  <thead>\n",
       "    <tr style=\"text-align: right;\">\n",
       "      <th></th>\n",
       "      <th></th>\n",
       "      <th>flug</th>\n",
       "      <th>fldg</th>\n",
       "      <th>fnetg</th>\n",
       "    </tr>\n",
       "    <tr>\n",
       "      <th>pressure</th>\n",
       "      <th>level</th>\n",
       "      <th></th>\n",
       "      <th></th>\n",
       "      <th></th>\n",
       "    </tr>\n",
       "  </thead>\n",
       "  <tbody>\n",
       "    <tr>\n",
       "      <th>0.0000</th>\n",
       "      <th>1</th>\n",
       "      <td>-0.055098</td>\n",
       "      <td>0.000002</td>\n",
       "      <td>-0.055096</td>\n",
       "    </tr>\n",
       "    <tr>\n",
       "      <th>1.0685</th>\n",
       "      <th>24</th>\n",
       "      <td>-0.054588</td>\n",
       "      <td>-0.000547</td>\n",
       "      <td>-0.055135</td>\n",
       "    </tr>\n",
       "    <tr>\n",
       "      <th>1013.0000</th>\n",
       "      <th>76</th>\n",
       "      <td>0.000004</td>\n",
       "      <td>-0.010693</td>\n",
       "      <td>-0.010689</td>\n",
       "    </tr>\n",
       "  </tbody>\n",
       "</table>\n",
       "</div>"
      ],
      "text/plain": [
       "                     flug      fldg     fnetg\n",
       "pressure  level                              \n",
       "0.0000    1     -0.055098  0.000002 -0.055096\n",
       "1.0685    24    -0.054588 -0.000547 -0.055135\n",
       "1013.0000 76     0.000004 -0.010693 -0.010689"
      ]
     },
     "metadata": {},
     "output_type": "display_data"
    },
    {
     "name": "stdout",
     "output_type": "stream",
     "text": [
      "Table. Fluxes. (CLIRAD) - (CRD)\n"
     ]
    },
    {
     "data": {
      "text/html": [
       "<a id=\"Best-fit_Parameters\"></a>"
      ],
      "text/plain": [
       "<IPython.core.display.HTML object>"
      ]
     },
     "metadata": {},
     "output_type": "display_data"
    },
    {
     "data": {
      "text/markdown": [
       "# Best-fit Parameters"
      ],
      "text/plain": [
       "<IPython.core.display.Markdown object>"
      ]
     },
     "metadata": {},
     "output_type": "display_data"
    },
    {
     "name": "stdout",
     "output_type": "stream",
     "text": [
      "Best-fit values for each (gas, band)\n",
      "------------------------------------\n",
      "o n2o band3a\n",
      "  atmpro = mls\n",
      "  band = 3a\n",
      "  commitnumber = a06b618\n",
      "  conc = 3.2e-07\n",
      "  dv = 0.001\n",
      "  klin = 2.22e-20\n",
      "  molecule = n2o\n",
      "  ng_adju = [0, 0]\n",
      "  ng_refs = [1, 2]\n",
      "  nv = 1000\n",
      "  option_compute_btable = 0\n",
      "  option_compute_ktable = 1\n",
      "  option_wgt_flux = 1\n",
      "  option_wgt_k = 1\n",
      "  ref_pts = [(1, 250), (500, 250)]\n",
      "  tsfc = 294\n",
      "  vmax = 620\n",
      "  vmin = 540\n",
      "  w_diffuse = [(1.8,), (1.66, 1.8)]\n",
      "  wgt = [(0.9,), (0.5, 0.95)]\n"
     ]
    }
   ],
   "source": [
    "script()"
   ]
  },
  {
   "cell_type": "code",
   "execution_count": 13,
   "metadata": {
    "collapsed": true
   },
   "outputs": [
    {
     "data": {
      "text/html": [
       "<script>\n",
       "code_show=true; \n",
       "function code_toggle() {\n",
       " if (code_show){\n",
       " $('div.input').hide();\n",
       " } else {\n",
       " $('div.input').show();\n",
       " }\n",
       " code_show = !code_show\n",
       "} \n",
       "$( document ).ready(code_toggle);\n",
       "</script>\n",
       "<form action=\"javascript:code_toggle()\"><input type=\"submit\" value=\"Click here to toggle on/off the raw code.\"></form>"
      ],
      "text/plain": [
       "<IPython.core.display.HTML object>"
      ]
     },
     "execution_count": 13,
     "metadata": {},
     "output_type": "execute_result"
    }
   ],
   "source": [
    "display.HTML('''<script>\n",
    "code_show=true; \n",
    "function code_toggle() {\n",
    " if (code_show){\n",
    " $('div.input').hide();\n",
    " } else {\n",
    " $('div.input').show();\n",
    " }\n",
    " code_show = !code_show\n",
    "} \n",
    "$( document ).ready(code_toggle);\n",
    "</script>\n",
    "<form action=\"javascript:code_toggle()\"><input type=\"submit\" value=\"Click here to toggle on/off the raw code.\"></form>''')"
   ]
  }
 ],
 "metadata": {
  "kernelspec": {
   "display_name": "Python 3",
   "language": "python",
   "name": "python3"
  },
  "language_info": {
   "codemirror_mode": {
    "name": "ipython",
    "version": 3
   },
   "file_extension": ".py",
   "mimetype": "text/x-python",
   "name": "python",
   "nbconvert_exporter": "python",
   "pygments_lexer": "ipython3",
   "version": "3.6.1"
  }
 },
 "nbformat": 4,
 "nbformat_minor": 2
}
