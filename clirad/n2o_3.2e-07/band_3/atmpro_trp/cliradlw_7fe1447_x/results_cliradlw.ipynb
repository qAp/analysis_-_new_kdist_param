{
 "cells": [
  {
   "cell_type": "code",
   "execution_count": 1,
   "metadata": {
    "collapsed": true
   },
   "outputs": [],
   "source": [
    "%matplotlib inline\n",
    "import os\n",
    "import re\n",
    "import io\n",
    "import itertools\n",
    "import pprint\n",
    "\n",
    "from bokeh.io import output_notebook, show\n",
    "from bokeh.layouts import gridplot\n",
    "from bokeh.plotting import figure\n",
    "from bokeh.models import Range1d, Legend\n",
    "from bokeh.palettes import all_palettes\n",
    "\n",
    "import matplotlib\n",
    "import matplotlib.pyplot as plt\n",
    "import numpy as np\n",
    "import pandas as pd\n",
    "import xarray as xr\n",
    "\n",
    "import climatools.lblnew.bestfit_params as bestfits\n",
    "from climatools.lblnew import setup_bestfit, setup_overlap\n",
    "import climatools.lblnew.pipeline as pipe_lblnew\n",
    "import climatools.cliradlw.setup as setup_cliradlw\n",
    "import climatools.cliradlw.pipeline as pipe_cliradlw\n",
    "\n",
    "import climatools.html.html as climahtml\n",
    "from climatools.lblnew.dataio import *\n",
    "from climatools.plot.plot import *\n",
    "\n",
    "\n",
    "import IPython.display as display"
   ]
  },
  {
   "cell_type": "code",
   "execution_count": 2,
   "metadata": {
    "collapsed": true
   },
   "outputs": [],
   "source": [
    "%run param.py"
   ]
  },
  {
   "cell_type": "code",
   "execution_count": 3,
   "metadata": {
    "collapsed": true
   },
   "outputs": [],
   "source": [
    "def load_output_file(path_csv):\n",
    "    '''\n",
    "    Load lblnew output .csv file to xarray.Dataset\n",
    "    \n",
    "    Parameters\n",
    "    ----------\n",
    "    path_csv: str\n",
    "              Path to the .csv file to be loaded.\n",
    "    ds: xarray.Dataset\n",
    "        Data in the input file in the form of an xarray.Dataset.\n",
    "    '''\n",
    "    toindex = ['band', 'pressure', 'igg', 'g']    \n",
    "    df = pd.read_csv(path_csv, sep=r'\\s+')\n",
    "    df = df.set_index([i for i in toindex if i in df.columns])\n",
    "    df = df.rename(columns={'sfu': 'flug',\n",
    "                            'sfd': 'fldg',\n",
    "                            'fnet': 'fnetg',\n",
    "                            'coolr': 'coolrg'})\n",
    "    ds = xr.Dataset.from_dataframe(df)\n",
    "\n",
    "    for l in ('level', 'layer'):\n",
    "        if l in ds.data_vars:\n",
    "            if len(ds[l].dims) > 1:\n",
    "                surface = {d: 0 for d in ds.dims if d != 'pressure'}\n",
    "                coord_level = ds[l][surface]\n",
    "                ds.coords[l] = ('pressure', coord_level)\n",
    "            else:\n",
    "                ds.coords[l] = ('pressure', ds[l])\n",
    "    \n",
    "    return ds"
   ]
  },
  {
   "cell_type": "code",
   "execution_count": 4,
   "metadata": {
    "collapsed": true
   },
   "outputs": [],
   "source": [
    "def lblnew_setup(param=None):\n",
    "    if 'ng_refs' in param:\n",
    "        return {'setup': setup_bestfit,\n",
    "                'fname_flux_crd': 'output_flux.dat',\n",
    "                'fname_cool_crd': 'output_coolr.dat',\n",
    "                'fname_flux_wgt': 'output_wfluxg.dat',\n",
    "                'fname_cool_wgt': 'output_wcoolrg.dat'}\n",
    "    else:\n",
    "        return {'setup': setup_overlap,\n",
    "                'fname_flux_crd': 'output_flux.dat',\n",
    "                'fname_cool_crd': 'output_coolr.dat',\n",
    "                'fname_flux_wgt': 'output_wflux.dat',\n",
    "                'fname_cool_wgt': 'output_wcoolr.dat'}\n",
    "\n",
    "    \n",
    "def load_lblnew_data(param):\n",
    "    \n",
    "    fname_dsname = [('fname_flux_crd', 'ds_flux_crd'),\n",
    "                    ('fname_cool_crd', 'ds_cool_crd'),\n",
    "                    ('fname_flux_wgt', 'ds_flux_wgt'),\n",
    "                    ('fname_cool_wgt', 'ds_cool_wgt')]\n",
    "    \n",
    "    d = lblnew_setup(param)\n",
    "    dir_fortran = pipe_lblnew.get_dir_case(param, setup=d['setup'])\n",
    "    \n",
    "    data_dict = {}\n",
    "    for fname, dsname in fname_dsname:\n",
    "        fpath = os.path.join(dir_fortran, d[fname])\n",
    "        data_dict[dsname] = load_output_file(fpath)\n",
    "    return data_dict\n",
    "    \n",
    "\n",
    "    \n",
    "    "
   ]
  },
  {
   "cell_type": "code",
   "execution_count": 5,
   "metadata": {
    "collapsed": true
   },
   "outputs": [],
   "source": [
    "d = load_lblnew_data(PARAM_LBLNEW)\n",
    "\n",
    "DS_FLUX_CRD = d['ds_flux_crd']\n",
    "DS_COOL_CRD = d['ds_cool_crd']\n",
    "DS_FLUX_WGT = d['ds_flux_wgt']\n",
    "DS_COOL_WGT = d['ds_cool_wgt']"
   ]
  },
  {
   "cell_type": "code",
   "execution_count": 6,
   "metadata": {
    "collapsed": true
   },
   "outputs": [],
   "source": [
    "DIR_FORTRAN = pipe_cliradlw.get_fortran_dir(PARAM, \n",
    "                                            setup=setup_cliradlw)\n",
    "\n",
    "PATH_FLUX = os.path.join(DIR_FORTRAN, 'output_flux.dat')\n",
    "PATH_COOL = os.path.join(DIR_FORTRAN, 'output_coolr.dat')\n",
    "\n",
    "DS_FLUX = load_output_file(PATH_FLUX)\n",
    "DS_COOL = load_output_file(PATH_COOL)"
   ]
  },
  {
   "cell_type": "code",
   "execution_count": 7,
   "metadata": {
    "collapsed": true
   },
   "outputs": [
    {
     "data": {
      "text/html": [
       "\n",
       "    <div class=\"bk-root\">\n",
       "        <a href=\"https://bokeh.pydata.org\" target=\"_blank\" class=\"bk-logo bk-logo-small bk-logo-notebook\"></a>\n",
       "        <span id=\"fc1cbc1e-eef5-4539-af29-4395b1147726\">Loading BokehJS ...</span>\n",
       "    </div>"
      ]
     },
     "metadata": {},
     "output_type": "display_data"
    },
    {
     "data": {
      "application/javascript": [
       "\n",
       "(function(root) {\n",
       "  function now() {\n",
       "    return new Date();\n",
       "  }\n",
       "\n",
       "  var force = true;\n",
       "\n",
       "  if (typeof (root._bokeh_onload_callbacks) === \"undefined\" || force === true) {\n",
       "    root._bokeh_onload_callbacks = [];\n",
       "    root._bokeh_is_loading = undefined;\n",
       "  }\n",
       "\n",
       "  var JS_MIME_TYPE = 'application/javascript';\n",
       "  var HTML_MIME_TYPE = 'text/html';\n",
       "  var EXEC_MIME_TYPE = 'application/vnd.bokehjs_exec.v0+json';\n",
       "  var CLASS_NAME = 'output_bokeh rendered_html';\n",
       "\n",
       "  /**\n",
       "   * Render data to the DOM node\n",
       "   */\n",
       "  function render(props, node) {\n",
       "    var script = document.createElement(\"script\");\n",
       "    node.appendChild(script);\n",
       "  }\n",
       "\n",
       "  /**\n",
       "   * Handle when an output is cleared or removed\n",
       "   */\n",
       "  function handleClearOutput(event, handle) {\n",
       "    var cell = handle.cell;\n",
       "\n",
       "    var id = cell.output_area._bokeh_element_id;\n",
       "    var server_id = cell.output_area._bokeh_server_id;\n",
       "    // Clean up Bokeh references\n",
       "    if (id !== undefined) {\n",
       "      Bokeh.index[id].model.document.clear();\n",
       "      delete Bokeh.index[id];\n",
       "    }\n",
       "\n",
       "    if (server_id !== undefined) {\n",
       "      // Clean up Bokeh references\n",
       "      var cmd = \"from bokeh.io.state import curstate; print(curstate().uuid_to_server['\" + server_id + \"'].get_sessions()[0].document.roots[0]._id)\";\n",
       "      cell.notebook.kernel.execute(cmd, {\n",
       "        iopub: {\n",
       "          output: function(msg) {\n",
       "            var element_id = msg.content.text.trim();\n",
       "            Bokeh.index[element_id].model.document.clear();\n",
       "            delete Bokeh.index[element_id];\n",
       "          }\n",
       "        }\n",
       "      });\n",
       "      // Destroy server and session\n",
       "      var cmd = \"import bokeh.io.notebook as ion; ion.destroy_server('\" + server_id + \"')\";\n",
       "      cell.notebook.kernel.execute(cmd);\n",
       "    }\n",
       "  }\n",
       "\n",
       "  /**\n",
       "   * Handle when a new output is added\n",
       "   */\n",
       "  function handleAddOutput(event, handle) {\n",
       "    var output_area = handle.output_area;\n",
       "    var output = handle.output;\n",
       "\n",
       "    // limit handleAddOutput to display_data with EXEC_MIME_TYPE content only\n",
       "    if ((output.output_type != \"display_data\") || (!output.data.hasOwnProperty(EXEC_MIME_TYPE))) {\n",
       "      return\n",
       "    }\n",
       "\n",
       "    var toinsert = output_area.element.find(\".\" + CLASS_NAME.split(' ')[0]);\n",
       "\n",
       "    if (output.metadata[EXEC_MIME_TYPE][\"id\"] !== undefined) {\n",
       "      toinsert[0].firstChild.textContent = output.data[JS_MIME_TYPE];\n",
       "      // store reference to embed id on output_area\n",
       "      output_area._bokeh_element_id = output.metadata[EXEC_MIME_TYPE][\"id\"];\n",
       "    }\n",
       "    if (output.metadata[EXEC_MIME_TYPE][\"server_id\"] !== undefined) {\n",
       "      var bk_div = document.createElement(\"div\");\n",
       "      bk_div.innerHTML = output.data[HTML_MIME_TYPE];\n",
       "      var script_attrs = bk_div.children[0].attributes;\n",
       "      for (var i = 0; i < script_attrs.length; i++) {\n",
       "        toinsert[0].firstChild.setAttribute(script_attrs[i].name, script_attrs[i].value);\n",
       "      }\n",
       "      // store reference to server id on output_area\n",
       "      output_area._bokeh_server_id = output.metadata[EXEC_MIME_TYPE][\"server_id\"];\n",
       "    }\n",
       "  }\n",
       "\n",
       "  function register_renderer(events, OutputArea) {\n",
       "\n",
       "    function append_mime(data, metadata, element) {\n",
       "      // create a DOM node to render to\n",
       "      var toinsert = this.create_output_subarea(\n",
       "        metadata,\n",
       "        CLASS_NAME,\n",
       "        EXEC_MIME_TYPE\n",
       "      );\n",
       "      this.keyboard_manager.register_events(toinsert);\n",
       "      // Render to node\n",
       "      var props = {data: data, metadata: metadata[EXEC_MIME_TYPE]};\n",
       "      render(props, toinsert[0]);\n",
       "      element.append(toinsert);\n",
       "      return toinsert\n",
       "    }\n",
       "\n",
       "    /* Handle when an output is cleared or removed */\n",
       "    events.on('clear_output.CodeCell', handleClearOutput);\n",
       "    events.on('delete.Cell', handleClearOutput);\n",
       "\n",
       "    /* Handle when a new output is added */\n",
       "    events.on('output_added.OutputArea', handleAddOutput);\n",
       "\n",
       "    /**\n",
       "     * Register the mime type and append_mime function with output_area\n",
       "     */\n",
       "    OutputArea.prototype.register_mime_type(EXEC_MIME_TYPE, append_mime, {\n",
       "      /* Is output safe? */\n",
       "      safe: true,\n",
       "      /* Index of renderer in `output_area.display_order` */\n",
       "      index: 0\n",
       "    });\n",
       "  }\n",
       "\n",
       "  // register the mime type if in Jupyter Notebook environment and previously unregistered\n",
       "  if (root.Jupyter !== undefined) {\n",
       "    var events = require('base/js/events');\n",
       "    var OutputArea = require('notebook/js/outputarea').OutputArea;\n",
       "\n",
       "    if (OutputArea.prototype.mime_types().indexOf(EXEC_MIME_TYPE) == -1) {\n",
       "      register_renderer(events, OutputArea);\n",
       "    }\n",
       "  }\n",
       "\n",
       "  \n",
       "  if (typeof (root._bokeh_timeout) === \"undefined\" || force === true) {\n",
       "    root._bokeh_timeout = Date.now() + 5000;\n",
       "    root._bokeh_failed_load = false;\n",
       "  }\n",
       "\n",
       "  var NB_LOAD_WARNING = {'data': {'text/html':\n",
       "     \"<div style='background-color: #fdd'>\\n\"+\n",
       "     \"<p>\\n\"+\n",
       "     \"BokehJS does not appear to have successfully loaded. If loading BokehJS from CDN, this \\n\"+\n",
       "     \"may be due to a slow or bad network connection. Possible fixes:\\n\"+\n",
       "     \"</p>\\n\"+\n",
       "     \"<ul>\\n\"+\n",
       "     \"<li>re-rerun `output_notebook()` to attempt to load from CDN again, or</li>\\n\"+\n",
       "     \"<li>use INLINE resources instead, as so:</li>\\n\"+\n",
       "     \"</ul>\\n\"+\n",
       "     \"<code>\\n\"+\n",
       "     \"from bokeh.resources import INLINE\\n\"+\n",
       "     \"output_notebook(resources=INLINE)\\n\"+\n",
       "     \"</code>\\n\"+\n",
       "     \"</div>\"}};\n",
       "\n",
       "  function display_loaded() {\n",
       "    var el = document.getElementById(\"fc1cbc1e-eef5-4539-af29-4395b1147726\");\n",
       "    if (el != null) {\n",
       "      el.textContent = \"BokehJS is loading...\";\n",
       "    }\n",
       "    if (root.Bokeh !== undefined) {\n",
       "      if (el != null) {\n",
       "        el.textContent = \"BokehJS \" + root.Bokeh.version + \" successfully loaded.\";\n",
       "      }\n",
       "    } else if (Date.now() < root._bokeh_timeout) {\n",
       "      setTimeout(display_loaded, 100)\n",
       "    }\n",
       "  }\n",
       "\n",
       "\n",
       "  function run_callbacks() {\n",
       "    try {\n",
       "      root._bokeh_onload_callbacks.forEach(function(callback) { callback() });\n",
       "    }\n",
       "    finally {\n",
       "      delete root._bokeh_onload_callbacks\n",
       "    }\n",
       "    console.info(\"Bokeh: all callbacks have finished\");\n",
       "  }\n",
       "\n",
       "  function load_libs(js_urls, callback) {\n",
       "    root._bokeh_onload_callbacks.push(callback);\n",
       "    if (root._bokeh_is_loading > 0) {\n",
       "      console.log(\"Bokeh: BokehJS is being loaded, scheduling callback at\", now());\n",
       "      return null;\n",
       "    }\n",
       "    if (js_urls == null || js_urls.length === 0) {\n",
       "      run_callbacks();\n",
       "      return null;\n",
       "    }\n",
       "    console.log(\"Bokeh: BokehJS not loaded, scheduling load and callback at\", now());\n",
       "    root._bokeh_is_loading = js_urls.length;\n",
       "    for (var i = 0; i < js_urls.length; i++) {\n",
       "      var url = js_urls[i];\n",
       "      var s = document.createElement('script');\n",
       "      s.src = url;\n",
       "      s.async = false;\n",
       "      s.onreadystatechange = s.onload = function() {\n",
       "        root._bokeh_is_loading--;\n",
       "        if (root._bokeh_is_loading === 0) {\n",
       "          console.log(\"Bokeh: all BokehJS libraries loaded\");\n",
       "          run_callbacks()\n",
       "        }\n",
       "      };\n",
       "      s.onerror = function() {\n",
       "        console.warn(\"failed to load library \" + url);\n",
       "      };\n",
       "      console.log(\"Bokeh: injecting script tag for BokehJS library: \", url);\n",
       "      document.getElementsByTagName(\"head\")[0].appendChild(s);\n",
       "    }\n",
       "  };var element = document.getElementById(\"fc1cbc1e-eef5-4539-af29-4395b1147726\");\n",
       "  if (element == null) {\n",
       "    console.log(\"Bokeh: ERROR: autoload.js configured with elementid 'fc1cbc1e-eef5-4539-af29-4395b1147726' but no matching script tag was found. \")\n",
       "    return false;\n",
       "  }\n",
       "\n",
       "  var js_urls = [\"https://cdn.pydata.org/bokeh/release/bokeh-0.12.14.min.js\", \"https://cdn.pydata.org/bokeh/release/bokeh-widgets-0.12.14.min.js\", \"https://cdn.pydata.org/bokeh/release/bokeh-tables-0.12.14.min.js\", \"https://cdn.pydata.org/bokeh/release/bokeh-gl-0.12.14.min.js\"];\n",
       "\n",
       "  var inline_js = [\n",
       "    function(Bokeh) {\n",
       "      Bokeh.set_log_level(\"info\");\n",
       "    },\n",
       "    \n",
       "    function(Bokeh) {\n",
       "      \n",
       "    },\n",
       "    function(Bokeh) {\n",
       "      console.log(\"Bokeh: injecting CSS: https://cdn.pydata.org/bokeh/release/bokeh-0.12.14.min.css\");\n",
       "      Bokeh.embed.inject_css(\"https://cdn.pydata.org/bokeh/release/bokeh-0.12.14.min.css\");\n",
       "      console.log(\"Bokeh: injecting CSS: https://cdn.pydata.org/bokeh/release/bokeh-widgets-0.12.14.min.css\");\n",
       "      Bokeh.embed.inject_css(\"https://cdn.pydata.org/bokeh/release/bokeh-widgets-0.12.14.min.css\");\n",
       "      console.log(\"Bokeh: injecting CSS: https://cdn.pydata.org/bokeh/release/bokeh-tables-0.12.14.min.css\");\n",
       "      Bokeh.embed.inject_css(\"https://cdn.pydata.org/bokeh/release/bokeh-tables-0.12.14.min.css\");\n",
       "    }\n",
       "  ];\n",
       "\n",
       "  function run_inline_js() {\n",
       "    \n",
       "    if ((root.Bokeh !== undefined) || (force === true)) {\n",
       "      for (var i = 0; i < inline_js.length; i++) {\n",
       "        inline_js[i].call(root, root.Bokeh);\n",
       "      }if (force === true) {\n",
       "        display_loaded();\n",
       "      }} else if (Date.now() < root._bokeh_timeout) {\n",
       "      setTimeout(run_inline_js, 100);\n",
       "    } else if (!root._bokeh_failed_load) {\n",
       "      console.log(\"Bokeh: BokehJS failed to load within specified timeout.\");\n",
       "      root._bokeh_failed_load = true;\n",
       "    } else if (force !== true) {\n",
       "      var cell = $(document.getElementById(\"fc1cbc1e-eef5-4539-af29-4395b1147726\")).parents('.cell').data().cell;\n",
       "      cell.output_area.append_execute_result(NB_LOAD_WARNING)\n",
       "    }\n",
       "\n",
       "  }\n",
       "\n",
       "  if (root._bokeh_is_loading === 0) {\n",
       "    console.log(\"Bokeh: BokehJS loaded, going straight to plotting\");\n",
       "    run_inline_js();\n",
       "  } else {\n",
       "    load_libs(js_urls, function() {\n",
       "      console.log(\"Bokeh: BokehJS plotting callback run at\", now());\n",
       "      run_inline_js();\n",
       "    });\n",
       "  }\n",
       "}(window));"
      ],
      "application/vnd.bokehjs_load.v0+json": "\n(function(root) {\n  function now() {\n    return new Date();\n  }\n\n  var force = true;\n\n  if (typeof (root._bokeh_onload_callbacks) === \"undefined\" || force === true) {\n    root._bokeh_onload_callbacks = [];\n    root._bokeh_is_loading = undefined;\n  }\n\n  \n\n  \n  if (typeof (root._bokeh_timeout) === \"undefined\" || force === true) {\n    root._bokeh_timeout = Date.now() + 5000;\n    root._bokeh_failed_load = false;\n  }\n\n  var NB_LOAD_WARNING = {'data': {'text/html':\n     \"<div style='background-color: #fdd'>\\n\"+\n     \"<p>\\n\"+\n     \"BokehJS does not appear to have successfully loaded. If loading BokehJS from CDN, this \\n\"+\n     \"may be due to a slow or bad network connection. Possible fixes:\\n\"+\n     \"</p>\\n\"+\n     \"<ul>\\n\"+\n     \"<li>re-rerun `output_notebook()` to attempt to load from CDN again, or</li>\\n\"+\n     \"<li>use INLINE resources instead, as so:</li>\\n\"+\n     \"</ul>\\n\"+\n     \"<code>\\n\"+\n     \"from bokeh.resources import INLINE\\n\"+\n     \"output_notebook(resources=INLINE)\\n\"+\n     \"</code>\\n\"+\n     \"</div>\"}};\n\n  function display_loaded() {\n    var el = document.getElementById(\"fc1cbc1e-eef5-4539-af29-4395b1147726\");\n    if (el != null) {\n      el.textContent = \"BokehJS is loading...\";\n    }\n    if (root.Bokeh !== undefined) {\n      if (el != null) {\n        el.textContent = \"BokehJS \" + root.Bokeh.version + \" successfully loaded.\";\n      }\n    } else if (Date.now() < root._bokeh_timeout) {\n      setTimeout(display_loaded, 100)\n    }\n  }\n\n\n  function run_callbacks() {\n    try {\n      root._bokeh_onload_callbacks.forEach(function(callback) { callback() });\n    }\n    finally {\n      delete root._bokeh_onload_callbacks\n    }\n    console.info(\"Bokeh: all callbacks have finished\");\n  }\n\n  function load_libs(js_urls, callback) {\n    root._bokeh_onload_callbacks.push(callback);\n    if (root._bokeh_is_loading > 0) {\n      console.log(\"Bokeh: BokehJS is being loaded, scheduling callback at\", now());\n      return null;\n    }\n    if (js_urls == null || js_urls.length === 0) {\n      run_callbacks();\n      return null;\n    }\n    console.log(\"Bokeh: BokehJS not loaded, scheduling load and callback at\", now());\n    root._bokeh_is_loading = js_urls.length;\n    for (var i = 0; i < js_urls.length; i++) {\n      var url = js_urls[i];\n      var s = document.createElement('script');\n      s.src = url;\n      s.async = false;\n      s.onreadystatechange = s.onload = function() {\n        root._bokeh_is_loading--;\n        if (root._bokeh_is_loading === 0) {\n          console.log(\"Bokeh: all BokehJS libraries loaded\");\n          run_callbacks()\n        }\n      };\n      s.onerror = function() {\n        console.warn(\"failed to load library \" + url);\n      };\n      console.log(\"Bokeh: injecting script tag for BokehJS library: \", url);\n      document.getElementsByTagName(\"head\")[0].appendChild(s);\n    }\n  };var element = document.getElementById(\"fc1cbc1e-eef5-4539-af29-4395b1147726\");\n  if (element == null) {\n    console.log(\"Bokeh: ERROR: autoload.js configured with elementid 'fc1cbc1e-eef5-4539-af29-4395b1147726' but no matching script tag was found. \")\n    return false;\n  }\n\n  var js_urls = [\"https://cdn.pydata.org/bokeh/release/bokeh-0.12.14.min.js\", \"https://cdn.pydata.org/bokeh/release/bokeh-widgets-0.12.14.min.js\", \"https://cdn.pydata.org/bokeh/release/bokeh-tables-0.12.14.min.js\", \"https://cdn.pydata.org/bokeh/release/bokeh-gl-0.12.14.min.js\"];\n\n  var inline_js = [\n    function(Bokeh) {\n      Bokeh.set_log_level(\"info\");\n    },\n    \n    function(Bokeh) {\n      \n    },\n    function(Bokeh) {\n      console.log(\"Bokeh: injecting CSS: https://cdn.pydata.org/bokeh/release/bokeh-0.12.14.min.css\");\n      Bokeh.embed.inject_css(\"https://cdn.pydata.org/bokeh/release/bokeh-0.12.14.min.css\");\n      console.log(\"Bokeh: injecting CSS: https://cdn.pydata.org/bokeh/release/bokeh-widgets-0.12.14.min.css\");\n      Bokeh.embed.inject_css(\"https://cdn.pydata.org/bokeh/release/bokeh-widgets-0.12.14.min.css\");\n      console.log(\"Bokeh: injecting CSS: https://cdn.pydata.org/bokeh/release/bokeh-tables-0.12.14.min.css\");\n      Bokeh.embed.inject_css(\"https://cdn.pydata.org/bokeh/release/bokeh-tables-0.12.14.min.css\");\n    }\n  ];\n\n  function run_inline_js() {\n    \n    if ((root.Bokeh !== undefined) || (force === true)) {\n      for (var i = 0; i < inline_js.length; i++) {\n        inline_js[i].call(root, root.Bokeh);\n      }if (force === true) {\n        display_loaded();\n      }} else if (Date.now() < root._bokeh_timeout) {\n      setTimeout(run_inline_js, 100);\n    } else if (!root._bokeh_failed_load) {\n      console.log(\"Bokeh: BokehJS failed to load within specified timeout.\");\n      root._bokeh_failed_load = true;\n    } else if (force !== true) {\n      var cell = $(document.getElementById(\"fc1cbc1e-eef5-4539-af29-4395b1147726\")).parents('.cell').data().cell;\n      cell.output_area.append_execute_result(NB_LOAD_WARNING)\n    }\n\n  }\n\n  if (root._bokeh_is_loading === 0) {\n    console.log(\"Bokeh: BokehJS loaded, going straight to plotting\");\n    run_inline_js();\n  } else {\n    load_libs(js_urls, function() {\n      console.log(\"Bokeh: BokehJS plotting callback run at\", now());\n      run_inline_js();\n    });\n  }\n}(window));"
     },
     "metadata": {},
     "output_type": "display_data"
    }
   ],
   "source": [
    "output_notebook()"
   ]
  },
  {
   "cell_type": "code",
   "execution_count": 8,
   "metadata": {
    "collapsed": true
   },
   "outputs": [],
   "source": [
    "def fmt_cool(ds_in):\n",
    "    ds = ds_in.copy(deep=True)\n",
    "    if 'igg' in ds.dims:\n",
    "        ds = ds.sel(igg=1)\n",
    "\n",
    "    if 'g' in ds.dims:\n",
    "        ds = ds.sum('g')\n",
    "            \n",
    "    if 'band' in ds.dims:\n",
    "        try:\n",
    "            ds = ds.squeeze('band')\n",
    "        except ValueError:\n",
    "            ds = ds.sum('band')\n",
    "                \n",
    "    return ds['coolrg']\n",
    "\n",
    "\n",
    "def pltdata_cooling_1(ds_cool=None,\n",
    "                      ds_cool_crd=None, ds_cool_wgt=None):\n",
    "    \n",
    "\n",
    "\n",
    "    colors = all_palettes['Set1'][4]\n",
    "    data = [{'label': 'CLIRAD `coolr_bands`',\n",
    "             'srs': fmt_cool(ds_cool),\n",
    "             'line_dash': 'dashed', 'line_width': 5,\n",
    "             'color': colors[0], 'alpha': .6},\n",
    "            {'label': 'CRD',\n",
    "             'srs': fmt_cool(ds_cool_crd),\n",
    "             'line_dash': 'solid', 'line_width': 1.5,\n",
    "             'marker': 'circle', 'marker_size': 5,\n",
    "             'color': colors[2], 'alpha': 1,},\n",
    "            {'label': 'WGT igg=10 wgt_flux=2',\n",
    "             'srs': fmt_cool(ds_cool_wgt),\n",
    "             'line_dash': 'solid', 'line_width': 3,\n",
    "             'marker': 'square', 'marker_size': 5,\n",
    "             'color': colors[3], 'alpha': .6}]\n",
    "    return data\n",
    "\n",
    "\n",
    "def nice_xlims(pltdata=None, prange=None):\n",
    "    \n",
    "    def get_slice(srs):\n",
    "        return srs.sel(pressure=slice(*prange))\n",
    "    \n",
    "    srss = [d['srs'] for d in pltdata]\n",
    "    vmin = min([get_slice(srs).min() for srs in srss])\n",
    "    vmax = max([get_slice(srs).max() for srs in srss])\n",
    "    dv = (vmax - vmin) * .01\n",
    "    return float(vmin - dv), float(vmax + dv)\n",
    "    \n",
    "\n",
    "def plt_cooling_bokeh(pltdata=None):\n",
    "    '''\n",
    "    Plot a list of cooling rate profiles using bokeh.\n",
    "    '''\n",
    "    ymin = 1e-2 \n",
    "    ymax = 1020 \n",
    "        \n",
    "    p1 = figure(title=\"Linear pressure scale\", \n",
    "                plot_width=400)        \n",
    "    xmin, xmax = nice_xlims(pltdata, prange=(50, 1050))\n",
    "    for d in pltdata:\n",
    "        if 'marker' in d:\n",
    "            getattr(p1, d['marker'])(d['srs'].values, \n",
    "                    d['srs'].coords['pressure'].values,\n",
    "                    color=d['color'], alpha=.7)\n",
    "        p1.line(d['srs'].values, \n",
    "                d['srs'].coords['pressure'].values,\n",
    "                color=d['color'], alpha=d['alpha'], \n",
    "                line_width=d['line_width'], line_dash=d['line_dash'])\n",
    "    \n",
    "    p1.y_range = Range1d(ymax, ymin)\n",
    "    p1.yaxis.axis_label = 'pressure [mb]'   \n",
    "    p1.x_range = Range1d(xmin, xmax)\n",
    "    p1.xaxis.axis_label = 'cooling rate [K/day]'\n",
    "            \n",
    "    p2 = figure(title='Log pressure scale', y_axis_type='log',\n",
    "                plot_width=560)\n",
    "    xmin, xmax = nice_xlims(pltdata, prange=(.01, 200))\n",
    "    \n",
    "    rs = []\n",
    "    for d in pltdata:\n",
    "        rd = []\n",
    "        if 'marker' in d:\n",
    "            r_mark = getattr(p2, d['marker'])(d['srs'].values, \n",
    "                        d['srs'].coords['pressure'].values,\n",
    "                        color=d['color'], alpha=.7)\n",
    "            rd.append(r_mark)\n",
    "        r_line = p2.line(d['srs'].values, \n",
    "                    d['srs'].coords['pressure'].values,\n",
    "                    color=d['color'], alpha=d['alpha'], \n",
    "                    line_width=d['line_width'], line_dash=d['line_dash'])\n",
    "        rd.append(r_line)\n",
    "      \n",
    "        rs.append(rd)\n",
    "        \n",
    "    p2.y_range = Range1d(ymax, ymin)  \n",
    "    p2.yaxis.axis_label = 'pressure [mb]'\n",
    "    \n",
    "    p2.x_range = Range1d(xmin, xmax)\n",
    "    p2.xaxis.axis_label = 'cooling rate [K/day]'\n",
    "    \n",
    "    items = [(d['label'], r) for r, d in zip(rs, pltdata)]\n",
    "    legend = Legend(items=items, location=(10, -30))\n",
    "    legend.label_text_font_size = '8pt'\n",
    "    \n",
    "    p2.add_layout(legend, 'right')  \n",
    "    \n",
    "    show(gridplot(p1, p2, ncols=2, plot_height=500))\n",
    "    \n",
    "\n",
    "def script_plt_cooling():\n",
    "    pltdata = pltdata_cooling_1(\n",
    "        ds_cool=DS_COOL,\n",
    "        ds_cool_crd=DS_COOL_CRD,\n",
    "        ds_cool_wgt=DS_COOL_WGT)\n",
    "    plt_cooling_bokeh(pltdata=pltdata)\n",
    "    print('''FIGURE. Cooling rate profiles.''')"
   ]
  },
  {
   "cell_type": "code",
   "execution_count": 9,
   "metadata": {
    "collapsed": true
   },
   "outputs": [],
   "source": [
    "def fmt_flux(ds_in):\n",
    "    ds = ds_in.copy(deep=True)\n",
    "    \n",
    "    for l in ('level', 'layer'):\n",
    "        if l in ds.data_vars:\n",
    "            if len(ds[l].dims) > 1:\n",
    "                surface = {d: 0 for d in ds.dims if d != 'pressure'}\n",
    "                coord_level = ds[l][surface]\n",
    "                ds.coords[l] = ('pressure', coord_level)\n",
    "            else:\n",
    "                ds.coords[l] = ('pressure', ds[l])\n",
    "        \n",
    "    ds = ds.isel(pressure=[0, 23, -1])\n",
    "        \n",
    "    if 'igg' in ds.dims:\n",
    "        ds = ds.sel(igg=[1])\n",
    "        ds = ds.squeeze('igg').drop('igg')\n",
    "    \n",
    "    if 'g' in ds.dims:\n",
    "        ds = ds.sum('g')\n",
    "            \n",
    "    if 'band' in ds.dims:\n",
    "        try:\n",
    "            ds = ds.squeeze('band').drop('band')\n",
    "        except ValueError:\n",
    "            ds = ds.sum('band')\n",
    "                \n",
    "    df = ds.to_dataframe()\n",
    "    df = df.set_index('level', append=True)               \n",
    "    return df\n",
    "\n",
    "\n",
    "def tbdata_flux(ds_flux=None, ds_flux_crd=None, ds_flux_wgt=None):\n",
    "    ilevels = [0, 23, -1]\n",
    "            \n",
    "    benchmark = {'label': 'WGT igg=10 wgt_flux=1',\n",
    "                 'df': fmt_flux(ds_flux_wgt)}\n",
    "    \n",
    "    tbs = [{'label': 'CRD',\n",
    "            'df': fmt_flux(ds_flux_crd)},\n",
    "           {'label': 'CLIRAD',\n",
    "            'df': fmt_flux(ds_flux)}]\n",
    "    \n",
    "    data = {'benchmark': benchmark, 'others': tbs}\n",
    "    return data\n",
    "\n",
    "\n",
    "def tb_flux(tbdata=None):\n",
    "    benchmark = tbdata['benchmark']\n",
    "    others = tbdata['others']\n",
    "    \n",
    "    def show_tb(d=None):\n",
    "        display.display(d['df'])\n",
    "        print('Table.', 'Fluxes.', d['label'])\n",
    "        \n",
    "    def show_tbdiff(d0=None, d=None):\n",
    "        df = d['df']\n",
    "        df.index = d0['df'].index\n",
    "        display.display(df - d0['df'])\n",
    "        print('Table.', 'Fluxes.', \n",
    "              '({}) - ({})'.format(d['label'], d0['label']))\n",
    "        \n",
    "    show_tb(benchmark)\n",
    "    for d in others:\n",
    "        show_tb(d)\n",
    "        \n",
    "    for d in others:\n",
    "        show_tbdiff(d=d, d0=benchmark)\n",
    "        \n",
    "        \n",
    "def script_tb_flux():\n",
    "    data = tbdata_flux(ds_flux=DS_FLUX,\n",
    "                       ds_flux_crd=DS_FLUX_CRD,\n",
    "                       ds_flux_wgt=DS_FLUX_WGT)\n",
    "    tb_flux(tbdata=data)"
   ]
  },
  {
   "cell_type": "code",
   "execution_count": 10,
   "metadata": {
    "collapsed": true
   },
   "outputs": [],
   "source": [
    "def band_map():\n",
    "    '''\n",
    "    Maps spectral bands in lblnew to spectral bands in clirad.\n",
    "    '''\n",
    "    lblnew2clirad = {'1': '1',\n",
    "            '2': '2',\n",
    "            '3a': '3',\n",
    "            '3b': '4',\n",
    "            '3c': '5',\n",
    "            '4': '6', \n",
    "            '5': '7',\n",
    "            '6': '8',\n",
    "            '7': '9', \n",
    "            '8': '10',\n",
    "            '9': '11'}\n",
    "    \n",
    "    clirad2lblnew = {clirad: lblnew \n",
    "                     for lblnew, clirad in lblnew2clirad.items()}\n",
    "    return clirad2lblnew\n",
    "\n",
    "\n",
    "def gasbands():\n",
    "    bmap = band_map()\n",
    "    gases = list(PARAM['molecule'].keys())\n",
    "    \n",
    "    bands = [bmap[str(b)] for b in PARAM['band']]\n",
    "    return list(itertools.product(gases, bands))\n",
    "\n",
    "\n",
    "def print_bestfit_params():\n",
    "    print('Best-fit values for each (gas, band)')\n",
    "    print('------------------------------------')\n",
    "    for gas, band in gasbands():\n",
    "        print('o {} band{}'.format(gas, band))\n",
    "        param = bestfits.kdist_params(molecule=gas, band=band)\n",
    "        for name, value in sorted(param.items()):\n",
    "            print(2 * ' ' + '{} = {}'.format(name, value))\n",
    "\n",
    "        \n",
    "def print_input_param():        \n",
    "    for name, value in PARAM.items():\n",
    "        print('{} = {}'.format(name, value))\n",
    "        \n",
    "        \n",
    "def print_lblnew_param():\n",
    "    for name, value in sorted(PARAM_LBLNEW.items()):\n",
    "        print('{} = {}'.format(name, value))\n"
   ]
  },
  {
   "cell_type": "code",
   "execution_count": 11,
   "metadata": {
    "collapsed": true,
    "scrolled": false
   },
   "outputs": [],
   "source": [
    "def show_html(s):\n",
    "    display.display(display.HTML(s))\n",
    "\n",
    "    \n",
    "def show_markdown(s):\n",
    "    display.display(display.Markdown(s))\n",
    "\n",
    "    \n",
    "def script():\n",
    "    \n",
    "    title = '### CLIRAD-LW'\n",
    "    s_input = 'Input Parameters'\n",
    "    s_lblnew_param = 'LBLNEW case compaired against'\n",
    "    s_bestfits = 'Best-fit Parameters'\n",
    "    s_plt_cooling = 'Cooling Rate Profiles'\n",
    "    s_tb_flux = 'Flux Comparison'\n",
    "    \n",
    "    # title\n",
    "    show_markdown('### CLIRAD-LW')\n",
    "    \n",
    "    # TOC\n",
    "    show_markdown('### Table of Contents')\n",
    "    show_html(climahtml.getHTML_hrefanchor(s_input))\n",
    "    show_html(climahtml.getHTML_hrefanchor(s_lblnew_param))\n",
    "    show_html(climahtml.getHTML_hrefanchor(s_plt_cooling))\n",
    "    show_html(climahtml.getHTML_hrefanchor(s_tb_flux))\n",
    "    show_html(climahtml.getHTML_hrefanchor(s_bestfits))\n",
    "    \n",
    "    # Input parameters\n",
    "    show_html(climahtml.getHTML_idanchor(s_input))\n",
    "    show_markdown(climahtml.getMarkdown_sectitle(s_input))\n",
    "    print_input_param()\n",
    "    \n",
    "    # LBLNEW parameters \n",
    "    show_html(climahtml.getHTML_idanchor(s_lblnew_param))\n",
    "    show_markdown(climahtml.getMarkdown_sectitle(s_lblnew_param))\n",
    "    print_lblnew_param()\n",
    "    \n",
    "    # Cooling rate profiles\n",
    "    show_html(climahtml.getHTML_idanchor(s_plt_cooling))\n",
    "    show_markdown(climahtml.getMarkdown_sectitle(s_plt_cooling))\n",
    "    script_plt_cooling()\n",
    "    \n",
    "    # Flux comparison\n",
    "    show_html(climahtml.getHTML_idanchor(s_tb_flux))\n",
    "    show_markdown(climahtml.getMarkdown_sectitle(s_tb_flux))\n",
    "    script_tb_flux()\n",
    "    \n",
    "    # Best-fit values\n",
    "    show_html(climahtml.getHTML_idanchor(s_bestfits))\n",
    "    show_markdown(climahtml.getMarkdown_sectitle(s_bestfits))\n",
    "    print_bestfit_params()\n",
    "   \n",
    "    "
   ]
  },
  {
   "cell_type": "code",
   "execution_count": 12,
   "metadata": {
    "collapsed": true,
    "scrolled": false
   },
   "outputs": [
    {
     "data": {
      "text/markdown": [
       "### CLIRAD-LW"
      ],
      "text/plain": [
       "<IPython.core.display.Markdown object>"
      ]
     },
     "metadata": {},
     "output_type": "display_data"
    },
    {
     "data": {
      "text/markdown": [
       "### Table of Contents"
      ],
      "text/plain": [
       "<IPython.core.display.Markdown object>"
      ]
     },
     "metadata": {},
     "output_type": "display_data"
    },
    {
     "data": {
      "text/html": [
       "<a href=\"#Input_Parameters\">Input Parameters</a>"
      ],
      "text/plain": [
       "<IPython.core.display.HTML object>"
      ]
     },
     "metadata": {},
     "output_type": "display_data"
    },
    {
     "data": {
      "text/html": [
       "<a href=\"#LBLNEW_case_compaired_against\">LBLNEW case compaired against</a>"
      ],
      "text/plain": [
       "<IPython.core.display.HTML object>"
      ]
     },
     "metadata": {},
     "output_type": "display_data"
    },
    {
     "data": {
      "text/html": [
       "<a href=\"#Cooling_Rate_Profiles\">Cooling Rate Profiles</a>"
      ],
      "text/plain": [
       "<IPython.core.display.HTML object>"
      ]
     },
     "metadata": {},
     "output_type": "display_data"
    },
    {
     "data": {
      "text/html": [
       "<a href=\"#Flux_Comparison\">Flux Comparison</a>"
      ],
      "text/plain": [
       "<IPython.core.display.HTML object>"
      ]
     },
     "metadata": {},
     "output_type": "display_data"
    },
    {
     "data": {
      "text/html": [
       "<a href=\"#Best-fit_Parameters\">Best-fit Parameters</a>"
      ],
      "text/plain": [
       "<IPython.core.display.HTML object>"
      ]
     },
     "metadata": {},
     "output_type": "display_data"
    },
    {
     "data": {
      "text/html": [
       "<a id=\"Input_Parameters\"></a>"
      ],
      "text/plain": [
       "<IPython.core.display.HTML object>"
      ]
     },
     "metadata": {},
     "output_type": "display_data"
    },
    {
     "data": {
      "text/markdown": [
       "# Input Parameters"
      ],
      "text/plain": [
       "<IPython.core.display.Markdown object>"
      ]
     },
     "metadata": {},
     "output_type": "display_data"
    },
    {
     "name": "stdout",
     "output_type": "stream",
     "text": [
      "atmpro = trp\n",
      "band = [3]\n",
      "commitnumber = 7fe1447_x\n",
      "molecule = {'n2o': 3.2e-07}\n",
      "tsfc = 300\n"
     ]
    },
    {
     "data": {
      "text/html": [
       "<a id=\"LBLNEW_case_compaired_against\"></a>"
      ],
      "text/plain": [
       "<IPython.core.display.HTML object>"
      ]
     },
     "metadata": {},
     "output_type": "display_data"
    },
    {
     "data": {
      "text/markdown": [
       "# LBLNEW case compaired against"
      ],
      "text/plain": [
       "<IPython.core.display.Markdown object>"
      ]
     },
     "metadata": {},
     "output_type": "display_data"
    },
    {
     "name": "stdout",
     "output_type": "stream",
     "text": [
      "atmpro = trp\n",
      "band = 3a\n",
      "commitnumber = a06b618\n",
      "conc = 3.2e-07\n",
      "dv = 0.001\n",
      "klin = 2.22e-20\n",
      "molecule = n2o\n",
      "ng_adju = [0, 0]\n",
      "ng_refs = [1, 2]\n",
      "nv = 1000\n",
      "option_compute_btable = 0\n",
      "option_compute_ktable = 0\n",
      "option_wgt_flux = 1\n",
      "option_wgt_k = 1\n",
      "ref_pts = [(1, 250), (500, 250)]\n",
      "tsfc = 300\n",
      "vmax = 620\n",
      "vmin = 540\n",
      "w_diffuse = [(1.8,), (1.66, 1.8)]\n",
      "wgt = [(0.9,), (0.5, 0.95)]\n"
     ]
    },
    {
     "data": {
      "text/html": [
       "<a id=\"Cooling_Rate_Profiles\"></a>"
      ],
      "text/plain": [
       "<IPython.core.display.HTML object>"
      ]
     },
     "metadata": {},
     "output_type": "display_data"
    },
    {
     "data": {
      "text/markdown": [
       "# Cooling Rate Profiles"
      ],
      "text/plain": [
       "<IPython.core.display.Markdown object>"
      ]
     },
     "metadata": {},
     "output_type": "display_data"
    },
    {
     "data": {
      "text/html": [
       "\n",
       "<div class=\"bk-root\">\n",
       "    <div class=\"bk-plotdiv\" id=\"fb5b23dc-dd12-45eb-a8ae-37d33c997839\"></div>\n",
       "</div>"
      ]
     },
     "metadata": {},
     "output_type": "display_data"
    },
    {
     "data": {
      "application/javascript": [
       "(function(root) {\n",
       "  function embed_document(root) {\n",
       "    \n",
       "  var docs_json = {\"3b38f704-8be4-43b5-b878-9dd4616cff02\":{\"roots\":{\"references\":[{\"attributes\":{\"data_source\":{\"id\":\"b60f77cd-3d6e-463d-8256-1d06c857567a\",\"type\":\"ColumnDataSource\"},\"glyph\":{\"id\":\"06425c8c-0b66-4bed-aaaa-f6f9072843ac\",\"type\":\"Circle\"},\"hover_glyph\":null,\"muted_glyph\":null,\"nonselection_glyph\":{\"id\":\"99c69023-cb46-4bde-96ec-b068b4c1db48\",\"type\":\"Circle\"},\"selection_glyph\":null,\"view\":{\"id\":\"e1346cd7-60a3-427d-ac2a-db29e3c7c761\",\"type\":\"CDSView\"}},\"id\":\"5ed08cd6-e318-4c48-9f4e-84c4b2b26351\",\"type\":\"GlyphRenderer\"},{\"attributes\":{\"data_source\":{\"id\":\"8f92a262-d00d-4eb6-947d-f148f7bf9013\",\"type\":\"ColumnDataSource\"},\"glyph\":{\"id\":\"649580d0-9e24-42ee-9e9d-487a1359b1e8\",\"type\":\"Line\"},\"hover_glyph\":null,\"muted_glyph\":null,\"nonselection_glyph\":{\"id\":\"f90e6438-226a-4a7f-9269-307041a8675f\",\"type\":\"Line\"},\"selection_glyph\":null,\"view\":{\"id\":\"e927b910-dcbe-4c01-ba78-b2ce9754bef9\",\"type\":\"CDSView\"}},\"id\":\"4ba36d5d-0885-4c1f-8e9d-5d5aee62e14a\",\"type\":\"GlyphRenderer\"},{\"attributes\":{\"overlay\":{\"id\":\"f7d4769a-76b2-4905-8a1b-61742183d305\",\"type\":\"BoxAnnotation\"}},\"id\":\"452b2596-1365-4b75-bfc5-9deb062f6c64\",\"type\":\"BoxZoomTool\"},{\"attributes\":{\"axis_label\":\"pressure [mb]\",\"formatter\":{\"id\":\"93229f54-20dc-4b43-b4aa-5fac4e40a05c\",\"type\":\"BasicTickFormatter\"},\"plot\":{\"id\":\"2a6c1818-80a9-4781-a50f-ccd61b24421d\",\"subtype\":\"Figure\",\"type\":\"Plot\"},\"ticker\":{\"id\":\"f977d939-4191-4fac-8518-a552509d7578\",\"type\":\"BasicTicker\"}},\"id\":\"5e3e4150-86c9-44f1-9e84-b3d640cd8532\",\"type\":\"LinearAxis\"},{\"attributes\":{\"data_source\":{\"id\":\"1deffdcd-46e7-494f-920b-f328358058be\",\"type\":\"ColumnDataSource\"},\"glyph\":{\"id\":\"49b1e343-27f7-49ad-9131-f79c7f14e49a\",\"type\":\"Line\"},\"hover_glyph\":null,\"muted_glyph\":null,\"nonselection_glyph\":{\"id\":\"69dfe54f-32ec-4995-bcfa-bf305b5d9626\",\"type\":\"Line\"},\"selection_glyph\":null,\"view\":{\"id\":\"3bb9f632-6fc0-4285-a4f6-736ea43add6e\",\"type\":\"CDSView\"}},\"id\":\"a5427060-5d8d-45d7-9026-b05964ce3aa9\",\"type\":\"GlyphRenderer\"},{\"attributes\":{},\"id\":\"bc46e956-345a-4e67-bf3f-0be41aadfd4d\",\"type\":\"BasicTicker\"},{\"attributes\":{},\"id\":\"f977d939-4191-4fac-8518-a552509d7578\",\"type\":\"BasicTicker\"},{\"attributes\":{\"dimension\":1,\"plot\":{\"id\":\"2a6c1818-80a9-4781-a50f-ccd61b24421d\",\"subtype\":\"Figure\",\"type\":\"Plot\"},\"ticker\":{\"id\":\"f977d939-4191-4fac-8518-a552509d7578\",\"type\":\"BasicTicker\"}},\"id\":\"d1a2e5f0-9a8a-477c-b5ad-0241fe8775a6\",\"type\":\"Grid\"},{\"attributes\":{\"bottom_units\":\"screen\",\"fill_alpha\":{\"value\":0.5},\"fill_color\":{\"value\":\"lightgrey\"},\"left_units\":\"screen\",\"level\":\"overlay\",\"line_alpha\":{\"value\":1.0},\"line_color\":{\"value\":\"black\"},\"line_dash\":[4,4],\"line_width\":{\"value\":2},\"plot\":null,\"render_mode\":\"css\",\"right_units\":\"screen\",\"top_units\":\"screen\"},\"id\":\"f7d4769a-76b2-4905-8a1b-61742183d305\",\"type\":\"BoxAnnotation\"},{\"attributes\":{\"active_drag\":\"auto\",\"active_inspect\":\"auto\",\"active_scroll\":\"auto\",\"active_tap\":\"auto\",\"tools\":[{\"id\":\"1453e945-c548-4f0a-837f-9652121f5d64\",\"type\":\"PanTool\"},{\"id\":\"ca41eda9-7aea-4f36-a601-d229223d7b80\",\"type\":\"WheelZoomTool\"},{\"id\":\"0fdbf6af-ca5a-4fac-ad6b-17071a4a477f\",\"type\":\"BoxZoomTool\"},{\"id\":\"325a0536-f884-446a-81fe-81627842d614\",\"type\":\"SaveTool\"},{\"id\":\"1d0fa54f-4762-40e0-97e2-08da6eca9882\",\"type\":\"ResetTool\"},{\"id\":\"4b3c6fc8-7e0b-4804-83a5-4d4529949b8f\",\"type\":\"HelpTool\"}]},\"id\":\"4be4adf2-b42b-4cd0-9de9-9d29e147bc5e\",\"type\":\"Toolbar\"},{\"attributes\":{\"plot\":{\"id\":\"2a6c1818-80a9-4781-a50f-ccd61b24421d\",\"subtype\":\"Figure\",\"type\":\"Plot\"},\"ticker\":{\"id\":\"bc46e956-345a-4e67-bf3f-0be41aadfd4d\",\"type\":\"BasicTicker\"}},\"id\":\"44527f7b-ed55-48c3-b32a-a84b7c594186\",\"type\":\"Grid\"},{\"attributes\":{},\"id\":\"71e79991-b14c-40ab-b978-330944f3da7a\",\"type\":\"WheelZoomTool\"},{\"attributes\":{\"callback\":null,\"end\":0.01,\"start\":1020},\"id\":\"5bc538b9-14e9-4343-a4b6-cb6c1482fb80\",\"type\":\"Range1d\"},{\"attributes\":{},\"id\":\"0a3b417a-b366-43c7-88f4-0c3e30584992\",\"type\":\"PanTool\"},{\"attributes\":{\"source\":{\"id\":\"b0ec7a6b-5a57-482d-ba63-faf9400faef0\",\"type\":\"ColumnDataSource\"}},\"id\":\"9a89ad0f-82e3-47b6-a9e6-b0d6f51dfe01\",\"type\":\"CDSView\"},{\"attributes\":{\"callback\":null,\"column_names\":[\"x\",\"y\"],\"data\":{\"x\":{\"__ndarray__\":\"aKqhbdC1eD+ze8qMp155Pw9Ia9XE0no/6LtvcBtPfD8A9UWnk859P0qhgzwNUX8/gYP0pjtrgD8cJWANgi+BP0YtAzo/9YE/XC2Wu0a8gj/WE4Z38oaDPwCFZmdYUYQ/hHOkv6kdhT9ltUsFWCSGPyVlJrkp1ok/oGPHdIjNkD923hkeCZyVP/FKdKr+1Jo/r01ibJU9oD9icc+LZSyjP7flcm+9Z6Y/qQmn2k9xqT9lvhG/iW6qP0HLhhEuOqk/J00ilu4spz8fNVHPf3WkP70TNyJ3n6E/fW4U6MWrnT8j2UVpmDSYP2t8q0Ik4JI/GnFw2dNniz+1mYANWHiBP/KUsHMT2m8/eBKE5hQPQb+uxvTXoNp2v/DevdpLvoa/sLWOWHFEjr+LQhpvFUaOv1MNw5NS2om/IYV11vyuhb/8ZwCBZMCBvxZKgs4t9nu/I0Ip/7aFdL/kFYr+a7dqv00l9Ikhjlm/EaEABP9LEz92IYbOJ5xbP5onQE1m0mo/3gdb5OS9cz/k6a1sL815P6JPzv6b538/F9WWQcvvgj+aA4Z329GFP4J7tahQrYg/pNUvgCKEiz8XsR6M/EWOP5TOfmPafpA/dP+Fm9TbkT/GE+ubziqTP+8TOHdKd5Q/bF04AR65lT9Y7XgUqdeWP/7D8yEK15c//GzckgCkmD9a9zk8EFKZP+xW5FL7Bpo/ZUqD1bPEmj/uL1sjpKSbPxxbfaRpkZw/SuOxDT6HnT/khaKw84WeP9jZVEFze58/wjrYGgY+oD+KBnq/CbmgP/UnLNPhOKE/\",\"dtype\":\"float64\",\"shape\":[75]},\"y\":{\"__ndarray__\":\"GhExyth1ND/Sv8nbtpRIP2vylNV0PVE/aTum7souWD/At0SJ8fVgPw3Iuahxymc/MSNhhJWvcD/bTfBN02d3P2zb5nxnaoA/CD5h5MAGhz8NmeH1TyaQP+zrCsc9p5Y/LbKd76fGnz/bLW5ISEmmPww9YvTcQq8/JV2OstnstT8Er5Y7M8G+P0c+r3jqkcU/5h99k6ZBzj88bCIzFzjVP4enV8oyxN0//yH99nXg5D8qOpLLf0jtP5kqGJXUifQ/c9cS8kHP/D+/DpwzojQEQIEmwoanVwxA4lgXt9HgE0BSSZ2AJuIbQAMJih9jjiNA5q4l5INuK0AwTKYKRj0zQNv5fmq8/DpAaCJseHrtQkB/+zpwzoxKQM3MzMzMeFJAZmZmZmZqWEAAAAAAAFxeQM3MzMzMJmJAmpmZmZkfZUBmZmZmZhhoQDMzMzMzEWtAAAAAAAAKbkBmZmZmZoFwQM3MzMzM/XFAMzMzMzN6c0CamZmZmfZ0QAAAAAAAc3ZAZmZmZmbvd0DNzMzMzGt5QDMzMzMz6HpAmpmZmZlkfEAAAAAAAOF9QGZmZmZmXX9AZmZmZuZsgECamZmZGSuBQM3MzMxM6YFAAAAAAICngkAzMzMzs2WDQGZmZmbmI4RAmpmZmRnihEDNzMzMTKCFQAAAAACAXoZAMzMzM7Mch0BmZmZm5tqHQJqZmZkZmYhAzczMzExXiUAAAAAAgBWKQDMzMzOz04pAZmZmZuaRi0CamZmZGVCMQM3MzMxMDo1AAAAAAIDMjUAzMzMzs4qOQGZmZmbmSI9A\",\"dtype\":\"float64\",\"shape\":[75]}}},\"id\":\"d636d425-930f-4a13-8e7f-ad1fcfb96b83\",\"type\":\"ColumnDataSource\"},{\"attributes\":{\"callback\":null,\"column_names\":[\"x\",\"y\"],\"data\":{\"x\":{\"__ndarray__\":\"OUnWTWA0ez+OkScrONN7P2RVoRXhLH0/Mpds5bKEfj+gPNVlnd9/P/eDuySnnoA/Q4nziHpOgT/x2rjMSACCP8E1ahPdsoI/SSKP8uBmgz9V2UbntBqEPx4HpwMuz4Q/lLv9Kb2FhT+MW6nA+W+GP3BioweZv4k/VkuQynpVkD9WoPotWK+UPwq/s8GyZ5k/Uhmjzgx9nj9/Y04etvehP0lLUoo34aQ/nVoO2Purpz/FM4Q9z5qoP3r09k+Glqc/2WBsF1bOpT9EyolVB2mjPwg5far74aA/ZiTThX7EnD+I+u2D3cSXP4lSA0xnx5I/VP5IIESDiz8ZKmpkI42BP865TG+1RW8/QFNK/YuqSb81XcuE2EJ4vz6m7RPLI4e/ZbGbuYo8jr9IeQ6ufkGOv6vdEXbTK4q/8EuxLmQxhr/CSh3W71iCvxV92QxkPH2/Mbrd/iX4db8DGWlBIshtv4NeOtB881+/7hW5RhTqM7/hi2Dv/1RVP5G3xiqYhmc/Mmx9okUOcj842R6v2zZ4P/baDjvDPH4/aVoIiMcSgj86kpaNePmEPxdSwm/q04c/wsc3Rnicij8qulEL9VmNP1uvJqVZBpA/0b+6sIlakT+/f6wNOamSP1ORr6mY75M/qLVwJpQolT+zLUIylkmWPzZUuisjRJc/OWC6vWIVmD/0K3VHAc2YP+pRb0jOgpk/FRHNVVZHmj/4KmR0YSCbPyEriBnLCJw/zm7cS+L4nD8FWJWRO+udPzFT9VNl3Z4/Tg0ivLfOnz/o+ACOUV+gP7XTrsCS1qA/\",\"dtype\":\"float64\",\"shape\":[75]},\"y\":{\"__ndarray__\":\"S/O/Q+51ND/Sv8nbtpRIP2vylNV0PVE/aTum7souWD/At0SJ8fVgPw3Iuahxymc/MSNhhJWvcD/bTfBN02d3P2zb5nxnaoA/CD5h5MAGhz8NmeH1TyaQP+zrCsc9p5Y/LbKd76fGnz/bLW5ISEmmPww9YvTcQq8/JV2OstnstT8Er5Y7M8G+P0c+r3jqkcU/5h99k6ZBzj88bCIzFzjVP4enV8oyxN0//yH99nXg5D8qOpLLf0jtP5kqGJXUifQ/c9cS8kHP/D+/DpwzojQEQIEmwoanVwxA4lgXt9HgE0BSSZ2AJuIbQAMJih9jjiNA5q4l5INuK0AwTKYKRj0zQNv5fmq8/DpAaCJseHrtQkB/+zpwzoxKQM3MzMzMeFJAZmZmZmZqWEAAAAAAAFxeQM3MzMzMJmJAmpmZmZkfZUBmZmZmZhhoQDMzMzMzEWtAAAAAAAAKbkBmZmZmZoFwQM3MzMzM/XFAMzMzMzN6c0CamZmZmfZ0QAAAAAAAc3ZAZmZmZmbvd0DNzMzMzGt5QDMzMzMz6HpAmpmZmZlkfEAAAAAAAOF9QGZmZmZmXX9AZmZmZuZsgECamZmZGSuBQM3MzMxM6YFAAAAAAICngkAzMzMzs2WDQGZmZmbmI4RAmpmZmRnihEDNzMzMTKCFQAAAAACAXoZAMzMzM7Mch0BmZmZm5tqHQJqZmZkZmYhAzczMzExXiUAAAAAAgBWKQDMzMzOz04pAZmZmZuaRi0CamZmZGVCMQM3MzMxMDo1AAAAAAIDMjUAzMzMzs4qOQGZmZmbmSI9A\",\"dtype\":\"float64\",\"shape\":[75]}}},\"id\":\"1deffdcd-46e7-494f-920b-f328358058be\",\"type\":\"ColumnDataSource\"},{\"attributes\":{\"source\":{\"id\":\"d636d425-930f-4a13-8e7f-ad1fcfb96b83\",\"type\":\"ColumnDataSource\"}},\"id\":\"fbb4bc86-3f00-4726-af29-33573cb0c526\",\"type\":\"CDSView\"},{\"attributes\":{\"callback\":null,\"column_names\":[\"x\",\"y\"],\"data\":{\"x\":{\"__ndarray__\":\"2UPIZxxkXj+vvg1zesVgPzNU6dFSBWQ/xHCWV8xWZz+TWVu+V7BqPyQ6ms4GDG4/VDAfEnu2cD9NPqXi+WdyPyATu8JzGXQ/lUKe8f3MdT9yrJCUIml3PyjOltII9Hg/KN15TrFkej+GgT2WXTh8Pyxuccd67oE/gnq06tMnij+v2k6+TT2SPzv+BktHyZc/YItNk2i1nT8/BY2HYQGiP1ZnmWvvWKU/nNMTM06FqD8bToe4s1upP4iH3H6MyKc/fpWVic9bpT9tm76r2VuiP6l2pP+H6Z4/bDyM1HG4mT8qntvNURyVP4JvRD6C95A/yoPbd5g4ij/Zq2/nGbeCP1ZJAhrOOHY/lV/hwMZeWD9l4u+CvOpuvyoxwB8tt4S/vvonobzbjb9hYZ03CTaOv5lcox3rbYm/zhDsyvckhb8BoIVi/S+Bv0lg6mVf63q/egOU0qjKc78rPpZrPuhpvzRzNz5JcFm/+Ws1/Gu42D7DHJM1CeZYP554pypIhmg/ZCWsZaAmcj8sQs1qY+d3P2A0Fa1WiX0/meDJJ9qHgT/AmRBiiz6EP45kFYoC6oY/G/R/8JyLiT+zRpNEXCSMP2GF2r18tY4/9cts/+afkD8dCs/mmeCRP2YzkRaKG5M//rtSV71KlD9Et/mnnV+VP2pkQ3ZfR5Y/JorhAZ39lj9GEj4NeJaXP/+ZilIXMJg/qaq06/zgmD+r56T3ja+ZPye0f3pAlJo/RA/sYBOFmz/IqFsL7XucP8aNYIWJdp0/rNYGSrFznj8+snKVEnWfP6PrX+USP6A/\",\"dtype\":\"float64\",\"shape\":[75]},\"y\":{\"__ndarray__\":\"GhExyth1ND/Sv8nbtpRIP2vylNV0PVE/aTum7souWD/At0SJ8fVgPw3Iuahxymc/MSNhhJWvcD/bTfBN02d3P2zb5nxnaoA/CD5h5MAGhz8NmeH1TyaQP+zrCsc9p5Y/LbKd76fGnz/bLW5ISEmmPww9YvTcQq8/JV2OstnstT8Er5Y7M8G+P0c+r3jqkcU/5h99k6ZBzj88bCIzFzjVP4enV8oyxN0//yH99nXg5D8qOpLLf0jtP5kqGJXUifQ/c9cS8kHP/D+/DpwzojQEQIEmwoanVwxA4lgXt9HgE0BSSZ2AJuIbQAMJih9jjiNA5q4l5INuK0AwTKYKRj0zQNv5fmq8/DpAaCJseHrtQkB/+zpwzoxKQM3MzMzMeFJAZmZmZmZqWEAAAAAAAFxeQM3MzMzMJmJAmpmZmZkfZUBmZmZmZhhoQDMzMzMzEWtAAAAAAAAKbkBmZmZmZoFwQM3MzMzM/XFAMzMzMzN6c0CamZmZmfZ0QAAAAAAAc3ZAZmZmZmbvd0DNzMzMzGt5QDMzMzMz6HpAmpmZmZlkfEAAAAAAAOF9QGZmZmZmXX9AZmZmZuZsgECamZmZGSuBQM3MzMxM6YFAAAAAAICngkAzMzMzs2WDQGZmZmbmI4RAmpmZmRnihEDNzMzMTKCFQAAAAACAXoZAMzMzM7Mch0BmZmZm5tqHQJqZmZkZmYhAzczMzExXiUAAAAAAgBWKQDMzMzOz04pAZmZmZuaRi0CamZmZGVCMQM3MzMxMDo1AAAAAAIDMjUAzMzMzs4qOQGZmZmbmSI9A\",\"dtype\":\"float64\",\"shape\":[75]}}},\"id\":\"8f92a262-d00d-4eb6-947d-f148f7bf9013\",\"type\":\"ColumnDataSource\"},{\"attributes\":{\"plot\":null,\"text\":\"Log pressure scale\"},\"id\":\"36739c46-c89b-43b3-beb3-c5420f366e25\",\"type\":\"Title\"},{\"attributes\":{},\"id\":\"bd4bbf56-830e-4119-a0c8-89ea7a395a3f\",\"type\":\"SaveTool\"},{\"attributes\":{\"below\":[{\"id\":\"a4d2c7c4-5ac6-45a4-981c-55d05b9b1c30\",\"type\":\"LinearAxis\"}],\"left\":[{\"id\":\"0d221916-f840-4082-9be3-c96bfc2c3267\",\"type\":\"LogAxis\"}],\"plot_height\":500,\"plot_width\":560,\"renderers\":[{\"id\":\"a4d2c7c4-5ac6-45a4-981c-55d05b9b1c30\",\"type\":\"LinearAxis\"},{\"id\":\"5ac3cc7a-fec0-4bc6-822f-a5fc53721d5b\",\"type\":\"Grid\"},{\"id\":\"0d221916-f840-4082-9be3-c96bfc2c3267\",\"type\":\"LogAxis\"},{\"id\":\"82af8b72-24c3-4436-a6aa-dee58132cdc1\",\"type\":\"Grid\"},{\"id\":\"f2de5c3b-edb5-494e-9a38-45defa792c51\",\"type\":\"BoxAnnotation\"},{\"id\":\"1cda6e76-74f7-46e0-ae9c-b3e29f36922d\",\"type\":\"GlyphRenderer\"},{\"id\":\"7a07adb6-be84-442f-8e78-7dc6fb05e50a\",\"type\":\"GlyphRenderer\"},{\"id\":\"aabac0de-8c32-45e2-a76b-ecb2feee15c3\",\"type\":\"GlyphRenderer\"},{\"id\":\"68c7b6bc-0f22-4bee-9727-94cef914528f\",\"type\":\"GlyphRenderer\"},{\"id\":\"5ce411f2-ce7e-4131-bd92-f9c3b88beb91\",\"type\":\"GlyphRenderer\"},{\"id\":\"ef9190c5-efcb-40a7-a2f2-7a29861bd0cd\",\"type\":\"Legend\"}],\"right\":[{\"id\":\"ef9190c5-efcb-40a7-a2f2-7a29861bd0cd\",\"type\":\"Legend\"}],\"title\":{\"id\":\"36739c46-c89b-43b3-beb3-c5420f366e25\",\"type\":\"Title\"},\"toolbar\":{\"id\":\"4be4adf2-b42b-4cd0-9de9-9d29e147bc5e\",\"type\":\"Toolbar\"},\"toolbar_location\":null,\"x_range\":{\"id\":\"25a20eff-8c33-44ab-b90e-3fd9baef9137\",\"type\":\"Range1d\"},\"x_scale\":{\"id\":\"770a028b-071f-45bb-b9c5-b0a903811f9f\",\"type\":\"LinearScale\"},\"y_range\":{\"id\":\"12f9796f-8b7e-4e08-bbb7-f3b6414f6919\",\"type\":\"Range1d\"},\"y_scale\":{\"id\":\"c72189be-0d24-4ce0-acbe-a70c807a0624\",\"type\":\"LogScale\"}},\"id\":\"4671e940-ce21-4809-a03c-3f33455e421e\",\"subtype\":\"Figure\",\"type\":\"Plot\"},{\"attributes\":{},\"id\":\"86d58243-8f9f-47b4-a8e0-d532d5494de9\",\"type\":\"ResetTool\"},{\"attributes\":{},\"id\":\"2e50ff52-8080-4ab6-91e8-248410e0bc3c\",\"type\":\"HelpTool\"},{\"attributes\":{},\"id\":\"98ee76c5-1699-4819-87ff-de9ea14b9854\",\"type\":\"LinearScale\"},{\"attributes\":{\"fill_alpha\":{\"value\":0.7},\"fill_color\":{\"value\":\"#984ea3\"},\"line_alpha\":{\"value\":0.7},\"line_color\":{\"value\":\"#984ea3\"},\"x\":{\"field\":\"x\"},\"y\":{\"field\":\"y\"}},\"id\":\"b930c808-d7e2-42a0-8e84-26d6edfbfe3e\",\"type\":\"Square\"},{\"attributes\":{},\"id\":\"325a0536-f884-446a-81fe-81627842d614\",\"type\":\"SaveTool\"},{\"attributes\":{\"data_source\":{\"id\":\"d636d425-930f-4a13-8e7f-ad1fcfb96b83\",\"type\":\"ColumnDataSource\"},\"glyph\":{\"id\":\"d33f8ed6-8f12-4744-ba8e-0baa67e3b919\",\"type\":\"Line\"},\"hover_glyph\":null,\"muted_glyph\":null,\"nonselection_glyph\":{\"id\":\"8267ae3e-1bcd-4cde-94a9-bc8c6d6349b8\",\"type\":\"Line\"},\"selection_glyph\":null,\"view\":{\"id\":\"fbb4bc86-3f00-4726-af29-33573cb0c526\",\"type\":\"CDSView\"}},\"id\":\"f3ba7248-0cf5-444a-88da-052b092a87ce\",\"type\":\"GlyphRenderer\"},{\"attributes\":{\"below\":[{\"id\":\"b42dbc01-b2d6-4856-a4a1-7348e0c245f8\",\"type\":\"LinearAxis\"}],\"left\":[{\"id\":\"5e3e4150-86c9-44f1-9e84-b3d640cd8532\",\"type\":\"LinearAxis\"}],\"plot_height\":500,\"plot_width\":400,\"renderers\":[{\"id\":\"b42dbc01-b2d6-4856-a4a1-7348e0c245f8\",\"type\":\"LinearAxis\"},{\"id\":\"44527f7b-ed55-48c3-b32a-a84b7c594186\",\"type\":\"Grid\"},{\"id\":\"5e3e4150-86c9-44f1-9e84-b3d640cd8532\",\"type\":\"LinearAxis\"},{\"id\":\"d1a2e5f0-9a8a-477c-b5ad-0241fe8775a6\",\"type\":\"Grid\"},{\"id\":\"f7d4769a-76b2-4905-8a1b-61742183d305\",\"type\":\"BoxAnnotation\"},{\"id\":\"a5427060-5d8d-45d7-9026-b05964ce3aa9\",\"type\":\"GlyphRenderer\"},{\"id\":\"5ed08cd6-e318-4c48-9f4e-84c4b2b26351\",\"type\":\"GlyphRenderer\"},{\"id\":\"4ba36d5d-0885-4c1f-8e9d-5d5aee62e14a\",\"type\":\"GlyphRenderer\"},{\"id\":\"a8bb543f-e82b-4952-a709-54d057c4e332\",\"type\":\"GlyphRenderer\"},{\"id\":\"f3ba7248-0cf5-444a-88da-052b092a87ce\",\"type\":\"GlyphRenderer\"}],\"title\":{\"id\":\"dc9ce10f-63e9-4359-8994-68ada6a8afa1\",\"type\":\"Title\"},\"toolbar\":{\"id\":\"3ac7965e-e749-4514-b097-8a50ca9f21c2\",\"type\":\"Toolbar\"},\"toolbar_location\":null,\"x_range\":{\"id\":\"dd47a4bc-8017-4cac-8624-a5a7576697d2\",\"type\":\"Range1d\"},\"x_scale\":{\"id\":\"98ee76c5-1699-4819-87ff-de9ea14b9854\",\"type\":\"LinearScale\"},\"y_range\":{\"id\":\"5bc538b9-14e9-4343-a4b6-cb6c1482fb80\",\"type\":\"Range1d\"},\"y_scale\":{\"id\":\"aadeee69-3ba8-4c91-a9bb-260afe569603\",\"type\":\"LinearScale\"}},\"id\":\"2a6c1818-80a9-4781-a50f-ccd61b24421d\",\"subtype\":\"Figure\",\"type\":\"Plot\"},{\"attributes\":{\"callback\":null,\"column_names\":[\"x\",\"y\"],\"data\":{\"x\":{\"__ndarray__\":\"aKqhbdC1eD+ze8qMp155Pw9Ia9XE0no/6LtvcBtPfD8A9UWnk859P0qhgzwNUX8/gYP0pjtrgD8cJWANgi+BP0YtAzo/9YE/XC2Wu0a8gj/WE4Z38oaDPwCFZmdYUYQ/hHOkv6kdhT9ltUsFWCSGPyVlJrkp1ok/oGPHdIjNkD923hkeCZyVP/FKdKr+1Jo/r01ibJU9oD9icc+LZSyjP7flcm+9Z6Y/qQmn2k9xqT9lvhG/iW6qP0HLhhEuOqk/J00ilu4spz8fNVHPf3WkP70TNyJ3n6E/fW4U6MWrnT8j2UVpmDSYP2t8q0Ik4JI/GnFw2dNniz+1mYANWHiBP/KUsHMT2m8/eBKE5hQPQb+uxvTXoNp2v/DevdpLvoa/sLWOWHFEjr+LQhpvFUaOv1MNw5NS2om/IYV11vyuhb/8ZwCBZMCBvxZKgs4t9nu/I0Ip/7aFdL/kFYr+a7dqv00l9Ikhjlm/EaEABP9LEz92IYbOJ5xbP5onQE1m0mo/3gdb5OS9cz/k6a1sL815P6JPzv6b538/F9WWQcvvgj+aA4Z329GFP4J7tahQrYg/pNUvgCKEiz8XsR6M/EWOP5TOfmPafpA/dP+Fm9TbkT/GE+ubziqTP+8TOHdKd5Q/bF04AR65lT9Y7XgUqdeWP/7D8yEK15c//GzckgCkmD9a9zk8EFKZP+xW5FL7Bpo/ZUqD1bPEmj/uL1sjpKSbPxxbfaRpkZw/SuOxDT6HnT/khaKw84WeP9jZVEFze58/wjrYGgY+oD+KBnq/CbmgP/UnLNPhOKE/\",\"dtype\":\"float64\",\"shape\":[75]},\"y\":{\"__ndarray__\":\"GhExyth1ND/Sv8nbtpRIP2vylNV0PVE/aTum7souWD/At0SJ8fVgPw3Iuahxymc/MSNhhJWvcD/bTfBN02d3P2zb5nxnaoA/CD5h5MAGhz8NmeH1TyaQP+zrCsc9p5Y/LbKd76fGnz/bLW5ISEmmPww9YvTcQq8/JV2OstnstT8Er5Y7M8G+P0c+r3jqkcU/5h99k6ZBzj88bCIzFzjVP4enV8oyxN0//yH99nXg5D8qOpLLf0jtP5kqGJXUifQ/c9cS8kHP/D+/DpwzojQEQIEmwoanVwxA4lgXt9HgE0BSSZ2AJuIbQAMJih9jjiNA5q4l5INuK0AwTKYKRj0zQNv5fmq8/DpAaCJseHrtQkB/+zpwzoxKQM3MzMzMeFJAZmZmZmZqWEAAAAAAAFxeQM3MzMzMJmJAmpmZmZkfZUBmZmZmZhhoQDMzMzMzEWtAAAAAAAAKbkBmZmZmZoFwQM3MzMzM/XFAMzMzMzN6c0CamZmZmfZ0QAAAAAAAc3ZAZmZmZmbvd0DNzMzMzGt5QDMzMzMz6HpAmpmZmZlkfEAAAAAAAOF9QGZmZmZmXX9AZmZmZuZsgECamZmZGSuBQM3MzMxM6YFAAAAAAICngkAzMzMzs2WDQGZmZmbmI4RAmpmZmRnihEDNzMzMTKCFQAAAAACAXoZAMzMzM7Mch0BmZmZm5tqHQJqZmZkZmYhAzczMzExXiUAAAAAAgBWKQDMzMzOz04pAZmZmZuaRi0CamZmZGVCMQM3MzMxMDo1AAAAAAIDMjUAzMzMzs4qOQGZmZmbmSI9A\",\"dtype\":\"float64\",\"shape\":[75]}}},\"id\":\"b0ec7a6b-5a57-482d-ba63-faf9400faef0\",\"type\":\"ColumnDataSource\"},{\"attributes\":{\"active_drag\":\"auto\",\"active_inspect\":\"auto\",\"active_scroll\":\"auto\",\"active_tap\":\"auto\",\"tools\":[{\"id\":\"0a3b417a-b366-43c7-88f4-0c3e30584992\",\"type\":\"PanTool\"},{\"id\":\"71e79991-b14c-40ab-b978-330944f3da7a\",\"type\":\"WheelZoomTool\"},{\"id\":\"452b2596-1365-4b75-bfc5-9deb062f6c64\",\"type\":\"BoxZoomTool\"},{\"id\":\"bd4bbf56-830e-4119-a0c8-89ea7a395a3f\",\"type\":\"SaveTool\"},{\"id\":\"86d58243-8f9f-47b4-a8e0-d532d5494de9\",\"type\":\"ResetTool\"},{\"id\":\"2e50ff52-8080-4ab6-91e8-248410e0bc3c\",\"type\":\"HelpTool\"}]},\"id\":\"3ac7965e-e749-4514-b097-8a50ca9f21c2\",\"type\":\"Toolbar\"},{\"attributes\":{\"source\":{\"id\":\"8f92a262-d00d-4eb6-947d-f148f7bf9013\",\"type\":\"ColumnDataSource\"}},\"id\":\"e927b910-dcbe-4c01-ba78-b2ce9754bef9\",\"type\":\"CDSView\"},{\"attributes\":{\"line_alpha\":0.1,\"line_color\":\"#1f77b4\",\"line_width\":3,\"x\":{\"field\":\"x\"},\"y\":{\"field\":\"y\"}},\"id\":\"8267ae3e-1bcd-4cde-94a9-bc8c6d6349b8\",\"type\":\"Line\"},{\"attributes\":{\"fill_alpha\":{\"value\":0.1},\"fill_color\":{\"value\":\"#1f77b4\"},\"line_alpha\":{\"value\":0.1},\"line_color\":{\"value\":\"#1f77b4\"},\"x\":{\"field\":\"x\"},\"y\":{\"field\":\"y\"}},\"id\":\"d9d45d42-b2a8-4eac-8414-94da581bc47c\",\"type\":\"Square\"},{\"attributes\":{\"callback\":null,\"end\":0.034121293328,\"start\":-0.015266303728},\"id\":\"dd47a4bc-8017-4cac-8624-a5a7576697d2\",\"type\":\"Range1d\"},{\"attributes\":{\"line_color\":\"#4daf4a\",\"line_width\":1.5,\"x\":{\"field\":\"x\"},\"y\":{\"field\":\"y\"}},\"id\":\"649580d0-9e24-42ee-9e9d-487a1359b1e8\",\"type\":\"Line\"},{\"attributes\":{\"callback\":null,\"end\":0.01,\"start\":1020},\"id\":\"12f9796f-8b7e-4e08-bbb7-f3b6414f6919\",\"type\":\"Range1d\"},{\"attributes\":{\"axis_label\":\"pressure [mb]\",\"formatter\":{\"id\":\"10851683-57f1-4bd4-b19e-a0ebd0128c71\",\"type\":\"LogTickFormatter\"},\"plot\":{\"id\":\"4671e940-ce21-4809-a03c-3f33455e421e\",\"subtype\":\"Figure\",\"type\":\"Plot\"},\"ticker\":{\"id\":\"f8ae310e-7c7d-42eb-983b-0b6bd4931e0b\",\"type\":\"LogTicker\"}},\"id\":\"0d221916-f840-4082-9be3-c96bfc2c3267\",\"type\":\"LogAxis\"},{\"attributes\":{\"line_alpha\":0.1,\"line_color\":\"#1f77b4\",\"line_width\":1.5,\"x\":{\"field\":\"x\"},\"y\":{\"field\":\"y\"}},\"id\":\"f90e6438-226a-4a7f-9269-307041a8675f\",\"type\":\"Line\"},{\"attributes\":{},\"id\":\"aadeee69-3ba8-4c91-a9bb-260afe569603\",\"type\":\"LinearScale\"},{\"attributes\":{\"line_alpha\":0.6,\"line_color\":\"#984ea3\",\"line_width\":3,\"x\":{\"field\":\"x\"},\"y\":{\"field\":\"y\"}},\"id\":\"d33f8ed6-8f12-4744-ba8e-0baa67e3b919\",\"type\":\"Line\"},{\"attributes\":{\"plot\":null,\"text\":\"Linear pressure scale\"},\"id\":\"dc9ce10f-63e9-4359-8994-68ada6a8afa1\",\"type\":\"Title\"},{\"attributes\":{\"data_source\":{\"id\":\"b0ec7a6b-5a57-482d-ba63-faf9400faef0\",\"type\":\"ColumnDataSource\"},\"glyph\":{\"id\":\"b930c808-d7e2-42a0-8e84-26d6edfbfe3e\",\"type\":\"Square\"},\"hover_glyph\":null,\"muted_glyph\":null,\"nonselection_glyph\":{\"id\":\"d9d45d42-b2a8-4eac-8414-94da581bc47c\",\"type\":\"Square\"},\"selection_glyph\":null,\"view\":{\"id\":\"9a89ad0f-82e3-47b6-a9e6-b0d6f51dfe01\",\"type\":\"CDSView\"}},\"id\":\"a8bb543f-e82b-4952-a709-54d057c4e332\",\"type\":\"GlyphRenderer\"},{\"attributes\":{\"source\":{\"id\":\"b60f77cd-3d6e-463d-8256-1d06c857567a\",\"type\":\"ColumnDataSource\"}},\"id\":\"e1346cd7-60a3-427d-ac2a-db29e3c7c761\",\"type\":\"CDSView\"},{\"attributes\":{\"axis_label\":\"cooling rate [K/day]\",\"formatter\":{\"id\":\"88b104fa-9abb-48dc-82f6-e8d98d00fd8c\",\"type\":\"BasicTickFormatter\"},\"plot\":{\"id\":\"2a6c1818-80a9-4781-a50f-ccd61b24421d\",\"subtype\":\"Figure\",\"type\":\"Plot\"},\"ticker\":{\"id\":\"bc46e956-345a-4e67-bf3f-0be41aadfd4d\",\"type\":\"BasicTicker\"}},\"id\":\"b42dbc01-b2d6-4856-a4a1-7348e0c245f8\",\"type\":\"LinearAxis\"},{\"attributes\":{\"num_minor_ticks\":10},\"id\":\"f8ae310e-7c7d-42eb-983b-0b6bd4931e0b\",\"type\":\"LogTicker\"},{\"attributes\":{\"axis_label\":\"cooling rate [K/day]\",\"formatter\":{\"id\":\"c4958685-d3cf-4067-8a27-ccf290738d93\",\"type\":\"BasicTickFormatter\"},\"plot\":{\"id\":\"4671e940-ce21-4809-a03c-3f33455e421e\",\"subtype\":\"Figure\",\"type\":\"Plot\"},\"ticker\":{\"id\":\"2dd8b2df-d6da-41b5-b3b0-270e8ec8647d\",\"type\":\"BasicTicker\"}},\"id\":\"a4d2c7c4-5ac6-45a4-981c-55d05b9b1c30\",\"type\":\"LinearAxis\"},{\"attributes\":{\"fill_alpha\":{\"value\":0.7},\"fill_color\":{\"value\":\"#4daf4a\"},\"line_alpha\":{\"value\":0.7},\"line_color\":{\"value\":\"#4daf4a\"},\"x\":{\"field\":\"x\"},\"y\":{\"field\":\"y\"}},\"id\":\"154ef9d2-7ce2-44c7-bbf3-99c744980433\",\"type\":\"Circle\"},{\"attributes\":{\"ticker\":null},\"id\":\"10851683-57f1-4bd4-b19e-a0ebd0128c71\",\"type\":\"LogTickFormatter\"},{\"attributes\":{\"callback\":null,\"column_names\":[\"x\",\"y\"],\"data\":{\"x\":{\"__ndarray__\":\"2UPIZxxkXj+vvg1zesVgPzNU6dFSBWQ/xHCWV8xWZz+TWVu+V7BqPyQ6ms4GDG4/VDAfEnu2cD9NPqXi+WdyPyATu8JzGXQ/lUKe8f3MdT9yrJCUIml3PyjOltII9Hg/KN15TrFkej+GgT2WXTh8Pyxuccd67oE/gnq06tMnij+v2k6+TT2SPzv+BktHyZc/YItNk2i1nT8/BY2HYQGiP1ZnmWvvWKU/nNMTM06FqD8bToe4s1upP4iH3H6MyKc/fpWVic9bpT9tm76r2VuiP6l2pP+H6Z4/bDyM1HG4mT8qntvNURyVP4JvRD6C95A/yoPbd5g4ij/Zq2/nGbeCP1ZJAhrOOHY/lV/hwMZeWD9l4u+CvOpuvyoxwB8tt4S/vvonobzbjb9hYZ03CTaOv5lcox3rbYm/zhDsyvckhb8BoIVi/S+Bv0lg6mVf63q/egOU0qjKc78rPpZrPuhpvzRzNz5JcFm/+Ws1/Gu42D7DHJM1CeZYP554pypIhmg/ZCWsZaAmcj8sQs1qY+d3P2A0Fa1WiX0/meDJJ9qHgT/AmRBiiz6EP45kFYoC6oY/G/R/8JyLiT+zRpNEXCSMP2GF2r18tY4/9cts/+afkD8dCs/mmeCRP2YzkRaKG5M//rtSV71KlD9Et/mnnV+VP2pkQ3ZfR5Y/JorhAZ39lj9GEj4NeJaXP/+ZilIXMJg/qaq06/zgmD+r56T3ja+ZPye0f3pAlJo/RA/sYBOFmz/IqFsL7XucP8aNYIWJdp0/rNYGSrFznj8+snKVEnWfP6PrX+USP6A/\",\"dtype\":\"float64\",\"shape\":[75]},\"y\":{\"__ndarray__\":\"GhExyth1ND/Sv8nbtpRIP2vylNV0PVE/aTum7souWD/At0SJ8fVgPw3Iuahxymc/MSNhhJWvcD/bTfBN02d3P2zb5nxnaoA/CD5h5MAGhz8NmeH1TyaQP+zrCsc9p5Y/LbKd76fGnz/bLW5ISEmmPww9YvTcQq8/JV2OstnstT8Er5Y7M8G+P0c+r3jqkcU/5h99k6ZBzj88bCIzFzjVP4enV8oyxN0//yH99nXg5D8qOpLLf0jtP5kqGJXUifQ/c9cS8kHP/D+/DpwzojQEQIEmwoanVwxA4lgXt9HgE0BSSZ2AJuIbQAMJih9jjiNA5q4l5INuK0AwTKYKRj0zQNv5fmq8/DpAaCJseHrtQkB/+zpwzoxKQM3MzMzMeFJAZmZmZmZqWEAAAAAAAFxeQM3MzMzMJmJAmpmZmZkfZUBmZmZmZhhoQDMzMzMzEWtAAAAAAAAKbkBmZmZmZoFwQM3MzMzM/XFAMzMzMzN6c0CamZmZmfZ0QAAAAAAAc3ZAZmZmZmbvd0DNzMzMzGt5QDMzMzMz6HpAmpmZmZlkfEAAAAAAAOF9QGZmZmZmXX9AZmZmZuZsgECamZmZGSuBQM3MzMxM6YFAAAAAAICngkAzMzMzs2WDQGZmZmbmI4RAmpmZmRnihEDNzMzMTKCFQAAAAACAXoZAMzMzM7Mch0BmZmZm5tqHQJqZmZkZmYhAzczMzExXiUAAAAAAgBWKQDMzMzOz04pAZmZmZuaRi0CamZmZGVCMQM3MzMxMDo1AAAAAAIDMjUAzMzMzs4qOQGZmZmbmSI9A\",\"dtype\":\"float64\",\"shape\":[75]}}},\"id\":\"818ad911-f774-420e-838b-365e414de828\",\"type\":\"ColumnDataSource\"},{\"attributes\":{\"label\":{\"value\":\"CLIRAD `coolr_bands`\"},\"renderers\":[{\"id\":\"1cda6e76-74f7-46e0-ae9c-b3e29f36922d\",\"type\":\"GlyphRenderer\"}]},\"id\":\"ea0e6c63-2c36-4197-a89a-40f0ec1e669f\",\"type\":\"LegendItem\"},{\"attributes\":{\"line_alpha\":0.1,\"line_color\":\"#1f77b4\",\"line_dash\":[6],\"line_width\":5,\"x\":{\"field\":\"x\"},\"y\":{\"field\":\"y\"}},\"id\":\"69dfe54f-32ec-4995-bcfa-bf305b5d9626\",\"type\":\"Line\"},{\"attributes\":{\"line_alpha\":0.1,\"line_color\":\"#1f77b4\",\"line_dash\":[6],\"line_width\":5,\"x\":{\"field\":\"x\"},\"y\":{\"field\":\"y\"}},\"id\":\"8553592e-6881-4e6a-a491-230d674739f6\",\"type\":\"Line\"},{\"attributes\":{\"toolbar\":{\"id\":\"a39c35dc-c516-49d7-95c5-4f12c20c2460\",\"type\":\"ProxyToolbar\"},\"toolbar_location\":\"above\"},\"id\":\"7d6b568c-3b25-4375-8135-3fd6afea1135\",\"type\":\"ToolbarBox\"},{\"attributes\":{\"plot\":{\"id\":\"4671e940-ce21-4809-a03c-3f33455e421e\",\"subtype\":\"Figure\",\"type\":\"Plot\"},\"ticker\":{\"id\":\"2dd8b2df-d6da-41b5-b3b0-270e8ec8647d\",\"type\":\"BasicTicker\"}},\"id\":\"5ac3cc7a-fec0-4bc6-822f-a5fc53721d5b\",\"type\":\"Grid\"},{\"attributes\":{\"callback\":null,\"column_names\":[\"x\",\"y\"],\"data\":{\"x\":{\"__ndarray__\":\"OUnWTWA0ez+OkScrONN7P2RVoRXhLH0/Mpds5bKEfj+gPNVlnd9/P/eDuySnnoA/Q4nziHpOgT/x2rjMSACCP8E1ahPdsoI/SSKP8uBmgz9V2UbntBqEPx4HpwMuz4Q/lLv9Kb2FhT+MW6nA+W+GP3BioweZv4k/VkuQynpVkD9WoPotWK+UPwq/s8GyZ5k/Uhmjzgx9nj9/Y04etvehP0lLUoo34aQ/nVoO2Purpz/FM4Q9z5qoP3r09k+Glqc/2WBsF1bOpT9EyolVB2mjPwg5far74aA/ZiTThX7EnD+I+u2D3cSXP4lSA0xnx5I/VP5IIESDiz8ZKmpkI42BP865TG+1RW8/QFNK/YuqSb81XcuE2EJ4vz6m7RPLI4e/ZbGbuYo8jr9IeQ6ufkGOv6vdEXbTK4q/8EuxLmQxhr/CSh3W71iCvxV92QxkPH2/Mbrd/iX4db8DGWlBIshtv4NeOtB881+/7hW5RhTqM7/hi2Dv/1RVP5G3xiqYhmc/Mmx9okUOcj842R6v2zZ4P/baDjvDPH4/aVoIiMcSgj86kpaNePmEPxdSwm/q04c/wsc3Rnicij8qulEL9VmNP1uvJqVZBpA/0b+6sIlakT+/f6wNOamSP1ORr6mY75M/qLVwJpQolT+zLUIylkmWPzZUuisjRJc/OWC6vWIVmD/0K3VHAc2YP+pRb0jOgpk/FRHNVVZHmj/4KmR0YSCbPyEriBnLCJw/zm7cS+L4nD8FWJWRO+udPzFT9VNl3Z4/Tg0ivLfOnz/o+ACOUV+gP7XTrsCS1qA/\",\"dtype\":\"float64\",\"shape\":[75]},\"y\":{\"__ndarray__\":\"S/O/Q+51ND/Sv8nbtpRIP2vylNV0PVE/aTum7souWD/At0SJ8fVgPw3Iuahxymc/MSNhhJWvcD/bTfBN02d3P2zb5nxnaoA/CD5h5MAGhz8NmeH1TyaQP+zrCsc9p5Y/LbKd76fGnz/bLW5ISEmmPww9YvTcQq8/JV2OstnstT8Er5Y7M8G+P0c+r3jqkcU/5h99k6ZBzj88bCIzFzjVP4enV8oyxN0//yH99nXg5D8qOpLLf0jtP5kqGJXUifQ/c9cS8kHP/D+/DpwzojQEQIEmwoanVwxA4lgXt9HgE0BSSZ2AJuIbQAMJih9jjiNA5q4l5INuK0AwTKYKRj0zQNv5fmq8/DpAaCJseHrtQkB/+zpwzoxKQM3MzMzMeFJAZmZmZmZqWEAAAAAAAFxeQM3MzMzMJmJAmpmZmZkfZUBmZmZmZhhoQDMzMzMzEWtAAAAAAAAKbkBmZmZmZoFwQM3MzMzM/XFAMzMzMzN6c0CamZmZmfZ0QAAAAAAAc3ZAZmZmZmbvd0DNzMzMzGt5QDMzMzMz6HpAmpmZmZlkfEAAAAAAAOF9QGZmZmZmXX9AZmZmZuZsgECamZmZGSuBQM3MzMxM6YFAAAAAAICngkAzMzMzs2WDQGZmZmbmI4RAmpmZmRnihEDNzMzMTKCFQAAAAACAXoZAMzMzM7Mch0BmZmZm5tqHQJqZmZkZmYhAzczMzExXiUAAAAAAgBWKQDMzMzOz04pAZmZmZuaRi0CamZmZGVCMQM3MzMxMDo1AAAAAAIDMjUAzMzMzs4qOQGZmZmbmSI9A\",\"dtype\":\"float64\",\"shape\":[75]}}},\"id\":\"7ae476d0-0dad-41f6-bdb4-a420629da8ab\",\"type\":\"ColumnDataSource\"},{\"attributes\":{\"source\":{\"id\":\"7ae476d0-0dad-41f6-bdb4-a420629da8ab\",\"type\":\"ColumnDataSource\"}},\"id\":\"b471c328-5442-4051-9b61-3e131e47e32a\",\"type\":\"CDSView\"},{\"attributes\":{\"callback\":null,\"column_names\":[\"x\",\"y\"],\"data\":{\"x\":{\"__ndarray__\":\"2UPIZxxkXj+vvg1zesVgPzNU6dFSBWQ/xHCWV8xWZz+TWVu+V7BqPyQ6ms4GDG4/VDAfEnu2cD9NPqXi+WdyPyATu8JzGXQ/lUKe8f3MdT9yrJCUIml3PyjOltII9Hg/KN15TrFkej+GgT2WXTh8Pyxuccd67oE/gnq06tMnij+v2k6+TT2SPzv+BktHyZc/YItNk2i1nT8/BY2HYQGiP1ZnmWvvWKU/nNMTM06FqD8bToe4s1upP4iH3H6MyKc/fpWVic9bpT9tm76r2VuiP6l2pP+H6Z4/bDyM1HG4mT8qntvNURyVP4JvRD6C95A/yoPbd5g4ij/Zq2/nGbeCP1ZJAhrOOHY/lV/hwMZeWD9l4u+CvOpuvyoxwB8tt4S/vvonobzbjb9hYZ03CTaOv5lcox3rbYm/zhDsyvckhb8BoIVi/S+Bv0lg6mVf63q/egOU0qjKc78rPpZrPuhpvzRzNz5JcFm/+Ws1/Gu42D7DHJM1CeZYP554pypIhmg/ZCWsZaAmcj8sQs1qY+d3P2A0Fa1WiX0/meDJJ9qHgT/AmRBiiz6EP45kFYoC6oY/G/R/8JyLiT+zRpNEXCSMP2GF2r18tY4/9cts/+afkD8dCs/mmeCRP2YzkRaKG5M//rtSV71KlD9Et/mnnV+VP2pkQ3ZfR5Y/JorhAZ39lj9GEj4NeJaXP/+ZilIXMJg/qaq06/zgmD+r56T3ja+ZPye0f3pAlJo/RA/sYBOFmz/IqFsL7XucP8aNYIWJdp0/rNYGSrFznj8+snKVEnWfP6PrX+USP6A/\",\"dtype\":\"float64\",\"shape\":[75]},\"y\":{\"__ndarray__\":\"GhExyth1ND/Sv8nbtpRIP2vylNV0PVE/aTum7souWD/At0SJ8fVgPw3Iuahxymc/MSNhhJWvcD/bTfBN02d3P2zb5nxnaoA/CD5h5MAGhz8NmeH1TyaQP+zrCsc9p5Y/LbKd76fGnz/bLW5ISEmmPww9YvTcQq8/JV2OstnstT8Er5Y7M8G+P0c+r3jqkcU/5h99k6ZBzj88bCIzFzjVP4enV8oyxN0//yH99nXg5D8qOpLLf0jtP5kqGJXUifQ/c9cS8kHP/D+/DpwzojQEQIEmwoanVwxA4lgXt9HgE0BSSZ2AJuIbQAMJih9jjiNA5q4l5INuK0AwTKYKRj0zQNv5fmq8/DpAaCJseHrtQkB/+zpwzoxKQM3MzMzMeFJAZmZmZmZqWEAAAAAAAFxeQM3MzMzMJmJAmpmZmZkfZUBmZmZmZhhoQDMzMzMzEWtAAAAAAAAKbkBmZmZmZoFwQM3MzMzM/XFAMzMzMzN6c0CamZmZmfZ0QAAAAAAAc3ZAZmZmZmbvd0DNzMzMzGt5QDMzMzMz6HpAmpmZmZlkfEAAAAAAAOF9QGZmZmZmXX9AZmZmZuZsgECamZmZGSuBQM3MzMxM6YFAAAAAAICngkAzMzMzs2WDQGZmZmbmI4RAmpmZmRnihEDNzMzMTKCFQAAAAACAXoZAMzMzM7Mch0BmZmZm5tqHQJqZmZkZmYhAzczMzExXiUAAAAAAgBWKQDMzMzOz04pAZmZmZuaRi0CamZmZGVCMQM3MzMxMDo1AAAAAAIDMjUAzMzMzs4qOQGZmZmbmSI9A\",\"dtype\":\"float64\",\"shape\":[75]}}},\"id\":\"36dbf705-2748-49f0-8aab-27596a1422e3\",\"type\":\"ColumnDataSource\"},{\"attributes\":{},\"id\":\"c4958685-d3cf-4067-8a27-ccf290738d93\",\"type\":\"BasicTickFormatter\"},{\"attributes\":{},\"id\":\"ca41eda9-7aea-4f36-a601-d229223d7b80\",\"type\":\"WheelZoomTool\"},{\"attributes\":{\"data_source\":{\"id\":\"818ad911-f774-420e-838b-365e414de828\",\"type\":\"ColumnDataSource\"},\"glyph\":{\"id\":\"154ef9d2-7ce2-44c7-bbf3-99c744980433\",\"type\":\"Circle\"},\"hover_glyph\":null,\"muted_glyph\":null,\"nonselection_glyph\":{\"id\":\"2f9fdf6a-9b07-4181-973b-4b3324adad9a\",\"type\":\"Circle\"},\"selection_glyph\":null,\"view\":{\"id\":\"e89f3add-fc1a-4953-a370-593beffc685d\",\"type\":\"CDSView\"}},\"id\":\"7a07adb6-be84-442f-8e78-7dc6fb05e50a\",\"type\":\"GlyphRenderer\"},{\"attributes\":{\"data_source\":{\"id\":\"36dbf705-2748-49f0-8aab-27596a1422e3\",\"type\":\"ColumnDataSource\"},\"glyph\":{\"id\":\"b8c87c22-ad41-442c-aecb-96d59e87a647\",\"type\":\"Line\"},\"hover_glyph\":null,\"muted_glyph\":null,\"nonselection_glyph\":{\"id\":\"2f234c52-3477-47a4-acad-4be91a113cad\",\"type\":\"Line\"},\"selection_glyph\":null,\"view\":{\"id\":\"bc4302e9-638a-4c2b-805f-d8bcaa47fc89\",\"type\":\"CDSView\"}},\"id\":\"aabac0de-8c32-45e2-a76b-ecb2feee15c3\",\"type\":\"GlyphRenderer\"},{\"attributes\":{\"line_alpha\":0.6,\"line_color\":\"#e41a1c\",\"line_dash\":[6],\"line_width\":5,\"x\":{\"field\":\"x\"},\"y\":{\"field\":\"y\"}},\"id\":\"dd4e691b-4250-403d-860b-86892090ee3c\",\"type\":\"Line\"},{\"attributes\":{\"fill_alpha\":{\"value\":0.7},\"fill_color\":{\"value\":\"#4daf4a\"},\"line_alpha\":{\"value\":0.7},\"line_color\":{\"value\":\"#4daf4a\"},\"x\":{\"field\":\"x\"},\"y\":{\"field\":\"y\"}},\"id\":\"06425c8c-0b66-4bed-aaaa-f6f9072843ac\",\"type\":\"Circle\"},{\"attributes\":{\"callback\":null,\"column_names\":[\"x\",\"y\"],\"data\":{\"x\":{\"__ndarray__\":\"aKqhbdC1eD+ze8qMp155Pw9Ia9XE0no/6LtvcBtPfD8A9UWnk859P0qhgzwNUX8/gYP0pjtrgD8cJWANgi+BP0YtAzo/9YE/XC2Wu0a8gj/WE4Z38oaDPwCFZmdYUYQ/hHOkv6kdhT9ltUsFWCSGPyVlJrkp1ok/oGPHdIjNkD923hkeCZyVP/FKdKr+1Jo/r01ibJU9oD9icc+LZSyjP7flcm+9Z6Y/qQmn2k9xqT9lvhG/iW6qP0HLhhEuOqk/J00ilu4spz8fNVHPf3WkP70TNyJ3n6E/fW4U6MWrnT8j2UVpmDSYP2t8q0Ik4JI/GnFw2dNniz+1mYANWHiBP/KUsHMT2m8/eBKE5hQPQb+uxvTXoNp2v/DevdpLvoa/sLWOWHFEjr+LQhpvFUaOv1MNw5NS2om/IYV11vyuhb/8ZwCBZMCBvxZKgs4t9nu/I0Ip/7aFdL/kFYr+a7dqv00l9Ikhjlm/EaEABP9LEz92IYbOJ5xbP5onQE1m0mo/3gdb5OS9cz/k6a1sL815P6JPzv6b538/F9WWQcvvgj+aA4Z329GFP4J7tahQrYg/pNUvgCKEiz8XsR6M/EWOP5TOfmPafpA/dP+Fm9TbkT/GE+ubziqTP+8TOHdKd5Q/bF04AR65lT9Y7XgUqdeWP/7D8yEK15c//GzckgCkmD9a9zk8EFKZP+xW5FL7Bpo/ZUqD1bPEmj/uL1sjpKSbPxxbfaRpkZw/SuOxDT6HnT/khaKw84WeP9jZVEFze58/wjrYGgY+oD+KBnq/CbmgP/UnLNPhOKE/\",\"dtype\":\"float64\",\"shape\":[75]},\"y\":{\"__ndarray__\":\"GhExyth1ND/Sv8nbtpRIP2vylNV0PVE/aTum7souWD/At0SJ8fVgPw3Iuahxymc/MSNhhJWvcD/bTfBN02d3P2zb5nxnaoA/CD5h5MAGhz8NmeH1TyaQP+zrCsc9p5Y/LbKd76fGnz/bLW5ISEmmPww9YvTcQq8/JV2OstnstT8Er5Y7M8G+P0c+r3jqkcU/5h99k6ZBzj88bCIzFzjVP4enV8oyxN0//yH99nXg5D8qOpLLf0jtP5kqGJXUifQ/c9cS8kHP/D+/DpwzojQEQIEmwoanVwxA4lgXt9HgE0BSSZ2AJuIbQAMJih9jjiNA5q4l5INuK0AwTKYKRj0zQNv5fmq8/DpAaCJseHrtQkB/+zpwzoxKQM3MzMzMeFJAZmZmZmZqWEAAAAAAAFxeQM3MzMzMJmJAmpmZmZkfZUBmZmZmZhhoQDMzMzMzEWtAAAAAAAAKbkBmZmZmZoFwQM3MzMzM/XFAMzMzMzN6c0CamZmZmfZ0QAAAAAAAc3ZAZmZmZmbvd0DNzMzMzGt5QDMzMzMz6HpAmpmZmZlkfEAAAAAAAOF9QGZmZmZmXX9AZmZmZuZsgECamZmZGSuBQM3MzMxM6YFAAAAAAICngkAzMzMzs2WDQGZmZmbmI4RAmpmZmRnihEDNzMzMTKCFQAAAAACAXoZAMzMzM7Mch0BmZmZm5tqHQJqZmZkZmYhAzczMzExXiUAAAAAAgBWKQDMzMzOz04pAZmZmZuaRi0CamZmZGVCMQM3MzMxMDo1AAAAAAIDMjUAzMzMzs4qOQGZmZmbmSI9A\",\"dtype\":\"float64\",\"shape\":[75]}}},\"id\":\"74439700-cd81-48d6-870b-a5c19294f433\",\"type\":\"ColumnDataSource\"},{\"attributes\":{},\"id\":\"4b3c6fc8-7e0b-4804-83a5-4d4529949b8f\",\"type\":\"HelpTool\"},{\"attributes\":{\"data_source\":{\"id\":\"7ae476d0-0dad-41f6-bdb4-a420629da8ab\",\"type\":\"ColumnDataSource\"},\"glyph\":{\"id\":\"dd4e691b-4250-403d-860b-86892090ee3c\",\"type\":\"Line\"},\"hover_glyph\":null,\"muted_glyph\":null,\"nonselection_glyph\":{\"id\":\"8553592e-6881-4e6a-a491-230d674739f6\",\"type\":\"Line\"},\"selection_glyph\":null,\"view\":{\"id\":\"b471c328-5442-4051-9b61-3e131e47e32a\",\"type\":\"CDSView\"}},\"id\":\"1cda6e76-74f7-46e0-ae9c-b3e29f36922d\",\"type\":\"GlyphRenderer\"},{\"attributes\":{},\"id\":\"c72189be-0d24-4ce0-acbe-a70c807a0624\",\"type\":\"LogScale\"},{\"attributes\":{\"fill_alpha\":{\"value\":0.1},\"fill_color\":{\"value\":\"#1f77b4\"},\"line_alpha\":{\"value\":0.1},\"line_color\":{\"value\":\"#1f77b4\"},\"x\":{\"field\":\"x\"},\"y\":{\"field\":\"y\"}},\"id\":\"2f9fdf6a-9b07-4181-973b-4b3324adad9a\",\"type\":\"Circle\"},{\"attributes\":{},\"id\":\"2dd8b2df-d6da-41b5-b3b0-270e8ec8647d\",\"type\":\"BasicTicker\"},{\"attributes\":{\"source\":{\"id\":\"818ad911-f774-420e-838b-365e414de828\",\"type\":\"ColumnDataSource\"}},\"id\":\"e89f3add-fc1a-4953-a370-593beffc685d\",\"type\":\"CDSView\"},{\"attributes\":{},\"id\":\"1d0fa54f-4762-40e0-97e2-08da6eca9882\",\"type\":\"ResetTool\"},{\"attributes\":{\"line_color\":\"#4daf4a\",\"line_width\":1.5,\"x\":{\"field\":\"x\"},\"y\":{\"field\":\"y\"}},\"id\":\"b8c87c22-ad41-442c-aecb-96d59e87a647\",\"type\":\"Line\"},{\"attributes\":{},\"id\":\"93229f54-20dc-4b43-b4aa-5fac4e40a05c\",\"type\":\"BasicTickFormatter\"},{\"attributes\":{\"line_alpha\":0.6,\"line_color\":\"#984ea3\",\"line_width\":3,\"x\":{\"field\":\"x\"},\"y\":{\"field\":\"y\"}},\"id\":\"02d39d9d-6901-4f43-9a54-34df7f39db09\",\"type\":\"Line\"},{\"attributes\":{\"line_alpha\":0.1,\"line_color\":\"#1f77b4\",\"line_width\":1.5,\"x\":{\"field\":\"x\"},\"y\":{\"field\":\"y\"}},\"id\":\"2f234c52-3477-47a4-acad-4be91a113cad\",\"type\":\"Line\"},{\"attributes\":{\"callback\":null,\"column_names\":[\"x\",\"y\"],\"data\":{\"x\":{\"__ndarray__\":\"aKqhbdC1eD+ze8qMp155Pw9Ia9XE0no/6LtvcBtPfD8A9UWnk859P0qhgzwNUX8/gYP0pjtrgD8cJWANgi+BP0YtAzo/9YE/XC2Wu0a8gj/WE4Z38oaDPwCFZmdYUYQ/hHOkv6kdhT9ltUsFWCSGPyVlJrkp1ok/oGPHdIjNkD923hkeCZyVP/FKdKr+1Jo/r01ibJU9oD9icc+LZSyjP7flcm+9Z6Y/qQmn2k9xqT9lvhG/iW6qP0HLhhEuOqk/J00ilu4spz8fNVHPf3WkP70TNyJ3n6E/fW4U6MWrnT8j2UVpmDSYP2t8q0Ik4JI/GnFw2dNniz+1mYANWHiBP/KUsHMT2m8/eBKE5hQPQb+uxvTXoNp2v/DevdpLvoa/sLWOWHFEjr+LQhpvFUaOv1MNw5NS2om/IYV11vyuhb/8ZwCBZMCBvxZKgs4t9nu/I0Ip/7aFdL/kFYr+a7dqv00l9Ikhjlm/EaEABP9LEz92IYbOJ5xbP5onQE1m0mo/3gdb5OS9cz/k6a1sL815P6JPzv6b538/F9WWQcvvgj+aA4Z329GFP4J7tahQrYg/pNUvgCKEiz8XsR6M/EWOP5TOfmPafpA/dP+Fm9TbkT/GE+ubziqTP+8TOHdKd5Q/bF04AR65lT9Y7XgUqdeWP/7D8yEK15c//GzckgCkmD9a9zk8EFKZP+xW5FL7Bpo/ZUqD1bPEmj/uL1sjpKSbPxxbfaRpkZw/SuOxDT6HnT/khaKw84WeP9jZVEFze58/wjrYGgY+oD+KBnq/CbmgP/UnLNPhOKE/\",\"dtype\":\"float64\",\"shape\":[75]},\"y\":{\"__ndarray__\":\"GhExyth1ND/Sv8nbtpRIP2vylNV0PVE/aTum7souWD/At0SJ8fVgPw3Iuahxymc/MSNhhJWvcD/bTfBN02d3P2zb5nxnaoA/CD5h5MAGhz8NmeH1TyaQP+zrCsc9p5Y/LbKd76fGnz/bLW5ISEmmPww9YvTcQq8/JV2OstnstT8Er5Y7M8G+P0c+r3jqkcU/5h99k6ZBzj88bCIzFzjVP4enV8oyxN0//yH99nXg5D8qOpLLf0jtP5kqGJXUifQ/c9cS8kHP/D+/DpwzojQEQIEmwoanVwxA4lgXt9HgE0BSSZ2AJuIbQAMJih9jjiNA5q4l5INuK0AwTKYKRj0zQNv5fmq8/DpAaCJseHrtQkB/+zpwzoxKQM3MzMzMeFJAZmZmZmZqWEAAAAAAAFxeQM3MzMzMJmJAmpmZmZkfZUBmZmZmZhhoQDMzMzMzEWtAAAAAAAAKbkBmZmZmZoFwQM3MzMzM/XFAMzMzMzN6c0CamZmZmfZ0QAAAAAAAc3ZAZmZmZmbvd0DNzMzMzGt5QDMzMzMz6HpAmpmZmZlkfEAAAAAAAOF9QGZmZmZmXX9AZmZmZuZsgECamZmZGSuBQM3MzMxM6YFAAAAAAICngkAzMzMzs2WDQGZmZmbmI4RAmpmZmRnihEDNzMzMTKCFQAAAAACAXoZAMzMzM7Mch0BmZmZm5tqHQJqZmZkZmYhAzczMzExXiUAAAAAAgBWKQDMzMzOz04pAZmZmZuaRi0CamZmZGVCMQM3MzMxMDo1AAAAAAIDMjUAzMzMzs4qOQGZmZmbmSI9A\",\"dtype\":\"float64\",\"shape\":[75]}}},\"id\":\"4d4279e3-845f-4907-b9e3-6929573dfa28\",\"type\":\"ColumnDataSource\"},{\"attributes\":{\"source\":{\"id\":\"36dbf705-2748-49f0-8aab-27596a1422e3\",\"type\":\"ColumnDataSource\"}},\"id\":\"bc4302e9-638a-4c2b-805f-d8bcaa47fc89\",\"type\":\"CDSView\"},{\"attributes\":{\"fill_alpha\":{\"value\":0.7},\"fill_color\":{\"value\":\"#984ea3\"},\"line_alpha\":{\"value\":0.7},\"line_color\":{\"value\":\"#984ea3\"},\"x\":{\"field\":\"x\"},\"y\":{\"field\":\"y\"}},\"id\":\"1e26c5fb-c2da-4000-aa67-86a013bc50aa\",\"type\":\"Square\"},{\"attributes\":{},\"id\":\"1453e945-c548-4f0a-837f-9652121f5d64\",\"type\":\"PanTool\"},{\"attributes\":{\"items\":[{\"id\":\"ea0e6c63-2c36-4197-a89a-40f0ec1e669f\",\"type\":\"LegendItem\"},{\"id\":\"47577181-e780-481e-8a4f-a5aaf0478d37\",\"type\":\"LegendItem\"},{\"id\":\"10849d29-e1e4-468c-9a1a-f214836b40e0\",\"type\":\"LegendItem\"}],\"label_text_font_size\":{\"value\":\"8pt\"},\"location\":[10,-30],\"plot\":{\"id\":\"4671e940-ce21-4809-a03c-3f33455e421e\",\"subtype\":\"Figure\",\"type\":\"Plot\"}},\"id\":\"ef9190c5-efcb-40a7-a2f2-7a29861bd0cd\",\"type\":\"Legend\"},{\"attributes\":{\"source\":{\"id\":\"1deffdcd-46e7-494f-920b-f328358058be\",\"type\":\"ColumnDataSource\"}},\"id\":\"3bb9f632-6fc0-4285-a4f6-736ea43add6e\",\"type\":\"CDSView\"},{\"attributes\":{\"source\":{\"id\":\"74439700-cd81-48d6-870b-a5c19294f433\",\"type\":\"ColumnDataSource\"}},\"id\":\"6c3f633b-034a-4b80-bf8f-5582db7eb179\",\"type\":\"CDSView\"},{\"attributes\":{\"callback\":null,\"end\":0.0522886555616,\"start\":-0.0154461786016},\"id\":\"25a20eff-8c33-44ab-b90e-3fd9baef9137\",\"type\":\"Range1d\"},{\"attributes\":{\"fill_alpha\":{\"value\":0.1},\"fill_color\":{\"value\":\"#1f77b4\"},\"line_alpha\":{\"value\":0.1},\"line_color\":{\"value\":\"#1f77b4\"},\"x\":{\"field\":\"x\"},\"y\":{\"field\":\"y\"}},\"id\":\"43dc0938-7d20-4f34-935b-6bb398ae344b\",\"type\":\"Square\"},{\"attributes\":{\"data_source\":{\"id\":\"74439700-cd81-48d6-870b-a5c19294f433\",\"type\":\"ColumnDataSource\"},\"glyph\":{\"id\":\"1e26c5fb-c2da-4000-aa67-86a013bc50aa\",\"type\":\"Square\"},\"hover_glyph\":null,\"muted_glyph\":null,\"nonselection_glyph\":{\"id\":\"43dc0938-7d20-4f34-935b-6bb398ae344b\",\"type\":\"Square\"},\"selection_glyph\":null,\"view\":{\"id\":\"6c3f633b-034a-4b80-bf8f-5582db7eb179\",\"type\":\"CDSView\"}},\"id\":\"68c7b6bc-0f22-4bee-9727-94cef914528f\",\"type\":\"GlyphRenderer\"},{\"attributes\":{\"callback\":null,\"column_names\":[\"x\",\"y\"],\"data\":{\"x\":{\"__ndarray__\":\"2UPIZxxkXj+vvg1zesVgPzNU6dFSBWQ/xHCWV8xWZz+TWVu+V7BqPyQ6ms4GDG4/VDAfEnu2cD9NPqXi+WdyPyATu8JzGXQ/lUKe8f3MdT9yrJCUIml3PyjOltII9Hg/KN15TrFkej+GgT2WXTh8Pyxuccd67oE/gnq06tMnij+v2k6+TT2SPzv+BktHyZc/YItNk2i1nT8/BY2HYQGiP1ZnmWvvWKU/nNMTM06FqD8bToe4s1upP4iH3H6MyKc/fpWVic9bpT9tm76r2VuiP6l2pP+H6Z4/bDyM1HG4mT8qntvNURyVP4JvRD6C95A/yoPbd5g4ij/Zq2/nGbeCP1ZJAhrOOHY/lV/hwMZeWD9l4u+CvOpuvyoxwB8tt4S/vvonobzbjb9hYZ03CTaOv5lcox3rbYm/zhDsyvckhb8BoIVi/S+Bv0lg6mVf63q/egOU0qjKc78rPpZrPuhpvzRzNz5JcFm/+Ws1/Gu42D7DHJM1CeZYP554pypIhmg/ZCWsZaAmcj8sQs1qY+d3P2A0Fa1WiX0/meDJJ9qHgT/AmRBiiz6EP45kFYoC6oY/G/R/8JyLiT+zRpNEXCSMP2GF2r18tY4/9cts/+afkD8dCs/mmeCRP2YzkRaKG5M//rtSV71KlD9Et/mnnV+VP2pkQ3ZfR5Y/JorhAZ39lj9GEj4NeJaXP/+ZilIXMJg/qaq06/zgmD+r56T3ja+ZPye0f3pAlJo/RA/sYBOFmz/IqFsL7XucP8aNYIWJdp0/rNYGSrFznj8+snKVEnWfP6PrX+USP6A/\",\"dtype\":\"float64\",\"shape\":[75]},\"y\":{\"__ndarray__\":\"GhExyth1ND/Sv8nbtpRIP2vylNV0PVE/aTum7souWD/At0SJ8fVgPw3Iuahxymc/MSNhhJWvcD/bTfBN02d3P2zb5nxnaoA/CD5h5MAGhz8NmeH1TyaQP+zrCsc9p5Y/LbKd76fGnz/bLW5ISEmmPww9YvTcQq8/JV2OstnstT8Er5Y7M8G+P0c+r3jqkcU/5h99k6ZBzj88bCIzFzjVP4enV8oyxN0//yH99nXg5D8qOpLLf0jtP5kqGJXUifQ/c9cS8kHP/D+/DpwzojQEQIEmwoanVwxA4lgXt9HgE0BSSZ2AJuIbQAMJih9jjiNA5q4l5INuK0AwTKYKRj0zQNv5fmq8/DpAaCJseHrtQkB/+zpwzoxKQM3MzMzMeFJAZmZmZmZqWEAAAAAAAFxeQM3MzMzMJmJAmpmZmZkfZUBmZmZmZhhoQDMzMzMzEWtAAAAAAAAKbkBmZmZmZoFwQM3MzMzM/XFAMzMzMzN6c0CamZmZmfZ0QAAAAAAAc3ZAZmZmZmbvd0DNzMzMzGt5QDMzMzMz6HpAmpmZmZlkfEAAAAAAAOF9QGZmZmZmXX9AZmZmZuZsgECamZmZGSuBQM3MzMxM6YFAAAAAAICngkAzMzMzs2WDQGZmZmbmI4RAmpmZmRnihEDNzMzMTKCFQAAAAACAXoZAMzMzM7Mch0BmZmZm5tqHQJqZmZkZmYhAzczMzExXiUAAAAAAgBWKQDMzMzOz04pAZmZmZuaRi0CamZmZGVCMQM3MzMxMDo1AAAAAAIDMjUAzMzMzs4qOQGZmZmbmSI9A\",\"dtype\":\"float64\",\"shape\":[75]}}},\"id\":\"b60f77cd-3d6e-463d-8256-1d06c857567a\",\"type\":\"ColumnDataSource\"},{\"attributes\":{\"source\":{\"id\":\"4d4279e3-845f-4907-b9e3-6929573dfa28\",\"type\":\"ColumnDataSource\"}},\"id\":\"56875b63-2025-4cba-834f-968bbe8d5067\",\"type\":\"CDSView\"},{\"attributes\":{\"children\":[{\"id\":\"7d6b568c-3b25-4375-8135-3fd6afea1135\",\"type\":\"ToolbarBox\"},{\"id\":\"21772044-bd85-4413-8c99-48c8737a058e\",\"type\":\"Column\"}]},\"id\":\"f750dcac-3d75-4092-840d-76345db7cdd3\",\"type\":\"Column\"},{\"attributes\":{\"fill_alpha\":{\"value\":0.1},\"fill_color\":{\"value\":\"#1f77b4\"},\"line_alpha\":{\"value\":0.1},\"line_color\":{\"value\":\"#1f77b4\"},\"x\":{\"field\":\"x\"},\"y\":{\"field\":\"y\"}},\"id\":\"99c69023-cb46-4bde-96ec-b068b4c1db48\",\"type\":\"Circle\"},{\"attributes\":{\"line_alpha\":0.1,\"line_color\":\"#1f77b4\",\"line_width\":3,\"x\":{\"field\":\"x\"},\"y\":{\"field\":\"y\"}},\"id\":\"0026de56-2536-4b30-8046-b1540560b793\",\"type\":\"Line\"},{\"attributes\":{},\"id\":\"770a028b-071f-45bb-b9c5-b0a903811f9f\",\"type\":\"LinearScale\"},{\"attributes\":{\"data_source\":{\"id\":\"4d4279e3-845f-4907-b9e3-6929573dfa28\",\"type\":\"ColumnDataSource\"},\"glyph\":{\"id\":\"02d39d9d-6901-4f43-9a54-34df7f39db09\",\"type\":\"Line\"},\"hover_glyph\":null,\"muted_glyph\":null,\"nonselection_glyph\":{\"id\":\"0026de56-2536-4b30-8046-b1540560b793\",\"type\":\"Line\"},\"selection_glyph\":null,\"view\":{\"id\":\"56875b63-2025-4cba-834f-968bbe8d5067\",\"type\":\"CDSView\"}},\"id\":\"5ce411f2-ce7e-4131-bd92-f9c3b88beb91\",\"type\":\"GlyphRenderer\"},{\"attributes\":{\"children\":[{\"id\":\"2a6c1818-80a9-4781-a50f-ccd61b24421d\",\"subtype\":\"Figure\",\"type\":\"Plot\"},{\"id\":\"4671e940-ce21-4809-a03c-3f33455e421e\",\"subtype\":\"Figure\",\"type\":\"Plot\"}]},\"id\":\"c261a5d9-b725-45f6-a92c-86a841876945\",\"type\":\"Row\"},{\"attributes\":{\"overlay\":{\"id\":\"f2de5c3b-edb5-494e-9a38-45defa792c51\",\"type\":\"BoxAnnotation\"}},\"id\":\"0fdbf6af-ca5a-4fac-ad6b-17071a4a477f\",\"type\":\"BoxZoomTool\"},{\"attributes\":{\"bottom_units\":\"screen\",\"fill_alpha\":{\"value\":0.5},\"fill_color\":{\"value\":\"lightgrey\"},\"left_units\":\"screen\",\"level\":\"overlay\",\"line_alpha\":{\"value\":1.0},\"line_color\":{\"value\":\"black\"},\"line_dash\":[4,4],\"line_width\":{\"value\":2},\"plot\":null,\"render_mode\":\"css\",\"right_units\":\"screen\",\"top_units\":\"screen\"},\"id\":\"f2de5c3b-edb5-494e-9a38-45defa792c51\",\"type\":\"BoxAnnotation\"},{\"attributes\":{\"tools\":[{\"id\":\"0a3b417a-b366-43c7-88f4-0c3e30584992\",\"type\":\"PanTool\"},{\"id\":\"71e79991-b14c-40ab-b978-330944f3da7a\",\"type\":\"WheelZoomTool\"},{\"id\":\"452b2596-1365-4b75-bfc5-9deb062f6c64\",\"type\":\"BoxZoomTool\"},{\"id\":\"bd4bbf56-830e-4119-a0c8-89ea7a395a3f\",\"type\":\"SaveTool\"},{\"id\":\"86d58243-8f9f-47b4-a8e0-d532d5494de9\",\"type\":\"ResetTool\"},{\"id\":\"2e50ff52-8080-4ab6-91e8-248410e0bc3c\",\"type\":\"HelpTool\"},{\"id\":\"1453e945-c548-4f0a-837f-9652121f5d64\",\"type\":\"PanTool\"},{\"id\":\"ca41eda9-7aea-4f36-a601-d229223d7b80\",\"type\":\"WheelZoomTool\"},{\"id\":\"0fdbf6af-ca5a-4fac-ad6b-17071a4a477f\",\"type\":\"BoxZoomTool\"},{\"id\":\"325a0536-f884-446a-81fe-81627842d614\",\"type\":\"SaveTool\"},{\"id\":\"1d0fa54f-4762-40e0-97e2-08da6eca9882\",\"type\":\"ResetTool\"},{\"id\":\"4b3c6fc8-7e0b-4804-83a5-4d4529949b8f\",\"type\":\"HelpTool\"}]},\"id\":\"a39c35dc-c516-49d7-95c5-4f12c20c2460\",\"type\":\"ProxyToolbar\"},{\"attributes\":{\"line_alpha\":0.6,\"line_color\":\"#e41a1c\",\"line_dash\":[6],\"line_width\":5,\"x\":{\"field\":\"x\"},\"y\":{\"field\":\"y\"}},\"id\":\"49b1e343-27f7-49ad-9131-f79c7f14e49a\",\"type\":\"Line\"},{\"attributes\":{\"label\":{\"value\":\"CRD\"},\"renderers\":[{\"id\":\"7a07adb6-be84-442f-8e78-7dc6fb05e50a\",\"type\":\"GlyphRenderer\"},{\"id\":\"aabac0de-8c32-45e2-a76b-ecb2feee15c3\",\"type\":\"GlyphRenderer\"}]},\"id\":\"47577181-e780-481e-8a4f-a5aaf0478d37\",\"type\":\"LegendItem\"},{\"attributes\":{\"label\":{\"value\":\"WGT igg=10 wgt_flux=2\"},\"renderers\":[{\"id\":\"68c7b6bc-0f22-4bee-9727-94cef914528f\",\"type\":\"GlyphRenderer\"},{\"id\":\"5ce411f2-ce7e-4131-bd92-f9c3b88beb91\",\"type\":\"GlyphRenderer\"}]},\"id\":\"10849d29-e1e4-468c-9a1a-f214836b40e0\",\"type\":\"LegendItem\"},{\"attributes\":{\"dimension\":1,\"plot\":{\"id\":\"4671e940-ce21-4809-a03c-3f33455e421e\",\"subtype\":\"Figure\",\"type\":\"Plot\"},\"ticker\":{\"id\":\"f8ae310e-7c7d-42eb-983b-0b6bd4931e0b\",\"type\":\"LogTicker\"}},\"id\":\"82af8b72-24c3-4436-a6aa-dee58132cdc1\",\"type\":\"Grid\"},{\"attributes\":{\"children\":[{\"id\":\"c261a5d9-b725-45f6-a92c-86a841876945\",\"type\":\"Row\"}]},\"id\":\"21772044-bd85-4413-8c99-48c8737a058e\",\"type\":\"Column\"},{\"attributes\":{},\"id\":\"88b104fa-9abb-48dc-82f6-e8d98d00fd8c\",\"type\":\"BasicTickFormatter\"}],\"root_ids\":[\"f750dcac-3d75-4092-840d-76345db7cdd3\"]},\"title\":\"Bokeh Application\",\"version\":\"0.12.14\"}};\n",
       "  var render_items = [{\"docid\":\"3b38f704-8be4-43b5-b878-9dd4616cff02\",\"elementid\":\"fb5b23dc-dd12-45eb-a8ae-37d33c997839\",\"modelid\":\"f750dcac-3d75-4092-840d-76345db7cdd3\"}];\n",
       "  root.Bokeh.embed.embed_items_notebook(docs_json, render_items);\n",
       "\n",
       "  }\n",
       "  if (root.Bokeh !== undefined) {\n",
       "    embed_document(root);\n",
       "  } else {\n",
       "    var attempts = 0;\n",
       "    var timer = setInterval(function(root) {\n",
       "      if (root.Bokeh !== undefined) {\n",
       "        embed_document(root);\n",
       "        clearInterval(timer);\n",
       "      }\n",
       "      attempts++;\n",
       "      if (attempts > 100) {\n",
       "        console.log(\"Bokeh: ERROR: Unable to run BokehJS code because BokehJS library is missing\")\n",
       "        clearInterval(timer);\n",
       "      }\n",
       "    }, 10, root)\n",
       "  }\n",
       "})(window);"
      ],
      "application/vnd.bokehjs_exec.v0+json": ""
     },
     "metadata": {
      "application/vnd.bokehjs_exec.v0+json": {
       "id": "f750dcac-3d75-4092-840d-76345db7cdd3"
      }
     },
     "output_type": "display_data"
    },
    {
     "name": "stdout",
     "output_type": "stream",
     "text": [
      "FIGURE. Cooling rate profiles.\n"
     ]
    },
    {
     "data": {
      "text/html": [
       "<a id=\"Flux_Comparison\"></a>"
      ],
      "text/plain": [
       "<IPython.core.display.HTML object>"
      ]
     },
     "metadata": {},
     "output_type": "display_data"
    },
    {
     "data": {
      "text/markdown": [
       "# Flux Comparison"
      ],
      "text/plain": [
       "<IPython.core.display.Markdown object>"
      ]
     },
     "metadata": {},
     "output_type": "display_data"
    },
    {
     "data": {
      "text/html": [
       "<div>\n",
       "<style>\n",
       "    .dataframe thead tr:only-child th {\n",
       "        text-align: right;\n",
       "    }\n",
       "\n",
       "    .dataframe thead th {\n",
       "        text-align: left;\n",
       "    }\n",
       "\n",
       "    .dataframe tbody tr th {\n",
       "        vertical-align: top;\n",
       "    }\n",
       "</style>\n",
       "<table border=\"1\" class=\"dataframe\">\n",
       "  <thead>\n",
       "    <tr style=\"text-align: right;\">\n",
       "      <th></th>\n",
       "      <th></th>\n",
       "      <th>flug</th>\n",
       "      <th>fldg</th>\n",
       "      <th>fnetg</th>\n",
       "    </tr>\n",
       "    <tr>\n",
       "      <th>pressure</th>\n",
       "      <th>level</th>\n",
       "      <th></th>\n",
       "      <th></th>\n",
       "      <th></th>\n",
       "    </tr>\n",
       "  </thead>\n",
       "  <tbody>\n",
       "    <tr>\n",
       "      <th>0.0000</th>\n",
       "      <th>1</th>\n",
       "      <td>-37.086989</td>\n",
       "      <td>0.000000</td>\n",
       "      <td>-37.086989</td>\n",
       "    </tr>\n",
       "    <tr>\n",
       "      <th>1.0685</th>\n",
       "      <th>24</th>\n",
       "      <td>-37.086145</td>\n",
       "      <td>0.004339</td>\n",
       "      <td>-37.081806</td>\n",
       "    </tr>\n",
       "    <tr>\n",
       "      <th>1013.0000</th>\n",
       "      <th>76</th>\n",
       "      <td>-38.491734</td>\n",
       "      <td>2.791664</td>\n",
       "      <td>-35.700070</td>\n",
       "    </tr>\n",
       "  </tbody>\n",
       "</table>\n",
       "</div>"
      ],
      "text/plain": [
       "                      flug      fldg      fnetg\n",
       "pressure  level                                \n",
       "0.0000    1     -37.086989  0.000000 -37.086989\n",
       "1.0685    24    -37.086145  0.004339 -37.081806\n",
       "1013.0000 76    -38.491734  2.791664 -35.700070"
      ]
     },
     "metadata": {},
     "output_type": "display_data"
    },
    {
     "name": "stdout",
     "output_type": "stream",
     "text": [
      "Table. Fluxes. WGT igg=10 wgt_flux=1\n"
     ]
    },
    {
     "data": {
      "text/html": [
       "<div>\n",
       "<style>\n",
       "    .dataframe thead tr:only-child th {\n",
       "        text-align: right;\n",
       "    }\n",
       "\n",
       "    .dataframe thead th {\n",
       "        text-align: left;\n",
       "    }\n",
       "\n",
       "    .dataframe tbody tr th {\n",
       "        vertical-align: top;\n",
       "    }\n",
       "</style>\n",
       "<table border=\"1\" class=\"dataframe\">\n",
       "  <thead>\n",
       "    <tr style=\"text-align: right;\">\n",
       "      <th></th>\n",
       "      <th></th>\n",
       "      <th>flug</th>\n",
       "      <th>fldg</th>\n",
       "      <th>fnetg</th>\n",
       "    </tr>\n",
       "    <tr>\n",
       "      <th>pressure</th>\n",
       "      <th>level</th>\n",
       "      <th></th>\n",
       "      <th></th>\n",
       "      <th></th>\n",
       "    </tr>\n",
       "  </thead>\n",
       "  <tbody>\n",
       "    <tr>\n",
       "      <th>0.0000</th>\n",
       "      <th>1</th>\n",
       "      <td>-37.085128</td>\n",
       "      <td>0.000000</td>\n",
       "      <td>-37.085128</td>\n",
       "    </tr>\n",
       "    <tr>\n",
       "      <th>1.0685</th>\n",
       "      <th>24</th>\n",
       "      <td>-37.084747</td>\n",
       "      <td>0.004505</td>\n",
       "      <td>-37.080242</td>\n",
       "    </tr>\n",
       "    <tr>\n",
       "      <th>1013.0000</th>\n",
       "      <th>76</th>\n",
       "      <td>-38.491734</td>\n",
       "      <td>2.697929</td>\n",
       "      <td>-35.793805</td>\n",
       "    </tr>\n",
       "  </tbody>\n",
       "</table>\n",
       "</div>"
      ],
      "text/plain": [
       "                      flug      fldg      fnetg\n",
       "pressure  level                                \n",
       "0.0000    1     -37.085128  0.000000 -37.085128\n",
       "1.0685    24    -37.084747  0.004505 -37.080242\n",
       "1013.0000 76    -38.491734  2.697929 -35.793805"
      ]
     },
     "metadata": {},
     "output_type": "display_data"
    },
    {
     "name": "stdout",
     "output_type": "stream",
     "text": [
      "Table. Fluxes. CRD\n"
     ]
    },
    {
     "data": {
      "text/html": [
       "<div>\n",
       "<style>\n",
       "    .dataframe thead tr:only-child th {\n",
       "        text-align: right;\n",
       "    }\n",
       "\n",
       "    .dataframe thead th {\n",
       "        text-align: left;\n",
       "    }\n",
       "\n",
       "    .dataframe tbody tr th {\n",
       "        vertical-align: top;\n",
       "    }\n",
       "</style>\n",
       "<table border=\"1\" class=\"dataframe\">\n",
       "  <thead>\n",
       "    <tr style=\"text-align: right;\">\n",
       "      <th></th>\n",
       "      <th></th>\n",
       "      <th>flug</th>\n",
       "      <th>fldg</th>\n",
       "      <th>fnetg</th>\n",
       "    </tr>\n",
       "    <tr>\n",
       "      <th>pressure</th>\n",
       "      <th>level</th>\n",
       "      <th></th>\n",
       "      <th></th>\n",
       "      <th></th>\n",
       "    </tr>\n",
       "  </thead>\n",
       "  <tbody>\n",
       "    <tr>\n",
       "      <th>1.000000e-08</th>\n",
       "      <th>1</th>\n",
       "      <td>-37.140226</td>\n",
       "      <td>0.000002</td>\n",
       "      <td>-37.140224</td>\n",
       "    </tr>\n",
       "    <tr>\n",
       "      <th>1.068500e+00</th>\n",
       "      <th>24</th>\n",
       "      <td>-37.139335</td>\n",
       "      <td>0.003958</td>\n",
       "      <td>-37.135377</td>\n",
       "    </tr>\n",
       "    <tr>\n",
       "      <th>1.013000e+03</th>\n",
       "      <th>76</th>\n",
       "      <td>-38.491730</td>\n",
       "      <td>2.687236</td>\n",
       "      <td>-35.804494</td>\n",
       "    </tr>\n",
       "  </tbody>\n",
       "</table>\n",
       "</div>"
      ],
      "text/plain": [
       "                         flug      fldg      fnetg\n",
       "pressure     level                                \n",
       "1.000000e-08 1     -37.140226  0.000002 -37.140224\n",
       "1.068500e+00 24    -37.139335  0.003958 -37.135377\n",
       "1.013000e+03 76    -38.491730  2.687236 -35.804494"
      ]
     },
     "metadata": {},
     "output_type": "display_data"
    },
    {
     "name": "stdout",
     "output_type": "stream",
     "text": [
      "Table. Fluxes. CLIRAD\n"
     ]
    },
    {
     "data": {
      "text/html": [
       "<div>\n",
       "<style>\n",
       "    .dataframe thead tr:only-child th {\n",
       "        text-align: right;\n",
       "    }\n",
       "\n",
       "    .dataframe thead th {\n",
       "        text-align: left;\n",
       "    }\n",
       "\n",
       "    .dataframe tbody tr th {\n",
       "        vertical-align: top;\n",
       "    }\n",
       "</style>\n",
       "<table border=\"1\" class=\"dataframe\">\n",
       "  <thead>\n",
       "    <tr style=\"text-align: right;\">\n",
       "      <th></th>\n",
       "      <th></th>\n",
       "      <th>flug</th>\n",
       "      <th>fldg</th>\n",
       "      <th>fnetg</th>\n",
       "    </tr>\n",
       "    <tr>\n",
       "      <th>pressure</th>\n",
       "      <th>level</th>\n",
       "      <th></th>\n",
       "      <th></th>\n",
       "      <th></th>\n",
       "    </tr>\n",
       "  </thead>\n",
       "  <tbody>\n",
       "    <tr>\n",
       "      <th>0.0000</th>\n",
       "      <th>1</th>\n",
       "      <td>1.861050e-03</td>\n",
       "      <td>0.000000</td>\n",
       "      <td>0.001861</td>\n",
       "    </tr>\n",
       "    <tr>\n",
       "      <th>1.0685</th>\n",
       "      <th>24</th>\n",
       "      <td>1.397880e-03</td>\n",
       "      <td>0.000165</td>\n",
       "      <td>0.001564</td>\n",
       "    </tr>\n",
       "    <tr>\n",
       "      <th>1013.0000</th>\n",
       "      <th>76</th>\n",
       "      <td>-2.000000e-07</td>\n",
       "      <td>-0.093735</td>\n",
       "      <td>-0.093735</td>\n",
       "    </tr>\n",
       "  </tbody>\n",
       "</table>\n",
       "</div>"
      ],
      "text/plain": [
       "                         flug      fldg     fnetg\n",
       "pressure  level                                  \n",
       "0.0000    1      1.861050e-03  0.000000  0.001861\n",
       "1.0685    24     1.397880e-03  0.000165  0.001564\n",
       "1013.0000 76    -2.000000e-07 -0.093735 -0.093735"
      ]
     },
     "metadata": {},
     "output_type": "display_data"
    },
    {
     "name": "stdout",
     "output_type": "stream",
     "text": [
      "Table. Fluxes. (CRD) - (WGT igg=10 wgt_flux=1)\n"
     ]
    },
    {
     "data": {
      "text/html": [
       "<div>\n",
       "<style>\n",
       "    .dataframe thead tr:only-child th {\n",
       "        text-align: right;\n",
       "    }\n",
       "\n",
       "    .dataframe thead th {\n",
       "        text-align: left;\n",
       "    }\n",
       "\n",
       "    .dataframe tbody tr th {\n",
       "        vertical-align: top;\n",
       "    }\n",
       "</style>\n",
       "<table border=\"1\" class=\"dataframe\">\n",
       "  <thead>\n",
       "    <tr style=\"text-align: right;\">\n",
       "      <th></th>\n",
       "      <th></th>\n",
       "      <th>flug</th>\n",
       "      <th>fldg</th>\n",
       "      <th>fnetg</th>\n",
       "    </tr>\n",
       "    <tr>\n",
       "      <th>pressure</th>\n",
       "      <th>level</th>\n",
       "      <th></th>\n",
       "      <th></th>\n",
       "      <th></th>\n",
       "    </tr>\n",
       "  </thead>\n",
       "  <tbody>\n",
       "    <tr>\n",
       "      <th>0.0000</th>\n",
       "      <th>1</th>\n",
       "      <td>-0.053237</td>\n",
       "      <td>0.000002</td>\n",
       "      <td>-0.053235</td>\n",
       "    </tr>\n",
       "    <tr>\n",
       "      <th>1.0685</th>\n",
       "      <th>24</th>\n",
       "      <td>-0.053190</td>\n",
       "      <td>-0.000382</td>\n",
       "      <td>-0.053571</td>\n",
       "    </tr>\n",
       "    <tr>\n",
       "      <th>1013.0000</th>\n",
       "      <th>76</th>\n",
       "      <td>0.000004</td>\n",
       "      <td>-0.104428</td>\n",
       "      <td>-0.104424</td>\n",
       "    </tr>\n",
       "  </tbody>\n",
       "</table>\n",
       "</div>"
      ],
      "text/plain": [
       "                     flug      fldg     fnetg\n",
       "pressure  level                              \n",
       "0.0000    1     -0.053237  0.000002 -0.053235\n",
       "1.0685    24    -0.053190 -0.000382 -0.053571\n",
       "1013.0000 76     0.000004 -0.104428 -0.104424"
      ]
     },
     "metadata": {},
     "output_type": "display_data"
    },
    {
     "name": "stdout",
     "output_type": "stream",
     "text": [
      "Table. Fluxes. (CLIRAD) - (WGT igg=10 wgt_flux=1)\n"
     ]
    },
    {
     "data": {
      "text/html": [
       "<a id=\"Best-fit_Parameters\"></a>"
      ],
      "text/plain": [
       "<IPython.core.display.HTML object>"
      ]
     },
     "metadata": {},
     "output_type": "display_data"
    },
    {
     "data": {
      "text/markdown": [
       "# Best-fit Parameters"
      ],
      "text/plain": [
       "<IPython.core.display.Markdown object>"
      ]
     },
     "metadata": {},
     "output_type": "display_data"
    },
    {
     "name": "stdout",
     "output_type": "stream",
     "text": [
      "Best-fit values for each (gas, band)\n",
      "------------------------------------\n",
      "o n2o band3a\n",
      "  atmpro = mls\n",
      "  band = 3a\n",
      "  commitnumber = a06b618\n",
      "  conc = 3.2e-07\n",
      "  dv = 0.001\n",
      "  klin = 2.22e-20\n",
      "  molecule = n2o\n",
      "  ng_adju = [0, 0]\n",
      "  ng_refs = [1, 2]\n",
      "  nv = 1000\n",
      "  option_compute_btable = 0\n",
      "  option_compute_ktable = 1\n",
      "  option_wgt_flux = 1\n",
      "  option_wgt_k = 1\n",
      "  ref_pts = [(1, 250), (500, 250)]\n",
      "  tsfc = 294\n",
      "  vmax = 620\n",
      "  vmin = 540\n",
      "  w_diffuse = [(1.8,), (1.66, 1.8)]\n",
      "  wgt = [(0.9,), (0.5, 0.95)]\n"
     ]
    }
   ],
   "source": [
    "script()"
   ]
  },
  {
   "cell_type": "code",
   "execution_count": 13,
   "metadata": {
    "collapsed": true
   },
   "outputs": [
    {
     "data": {
      "text/html": [
       "<script>\n",
       "code_show=true; \n",
       "function code_toggle() {\n",
       " if (code_show){\n",
       " $('div.input').hide();\n",
       " } else {\n",
       " $('div.input').show();\n",
       " }\n",
       " code_show = !code_show\n",
       "} \n",
       "$( document ).ready(code_toggle);\n",
       "</script>\n",
       "<form action=\"javascript:code_toggle()\"><input type=\"submit\" value=\"Click here to toggle on/off the raw code.\"></form>"
      ],
      "text/plain": [
       "<IPython.core.display.HTML object>"
      ]
     },
     "execution_count": 13,
     "metadata": {},
     "output_type": "execute_result"
    }
   ],
   "source": [
    "display.HTML('''<script>\n",
    "code_show=true; \n",
    "function code_toggle() {\n",
    " if (code_show){\n",
    " $('div.input').hide();\n",
    " } else {\n",
    " $('div.input').show();\n",
    " }\n",
    " code_show = !code_show\n",
    "} \n",
    "$( document ).ready(code_toggle);\n",
    "</script>\n",
    "<form action=\"javascript:code_toggle()\"><input type=\"submit\" value=\"Click here to toggle on/off the raw code.\"></form>''')"
   ]
  }
 ],
 "metadata": {
  "kernelspec": {
   "display_name": "Python 3",
   "language": "python",
   "name": "python3"
  },
  "language_info": {
   "codemirror_mode": {
    "name": "ipython",
    "version": 3
   },
   "file_extension": ".py",
   "mimetype": "text/x-python",
   "name": "python",
   "nbconvert_exporter": "python",
   "pygments_lexer": "ipython3",
   "version": "3.6.1"
  }
 },
 "nbformat": 4,
 "nbformat_minor": 2
}
