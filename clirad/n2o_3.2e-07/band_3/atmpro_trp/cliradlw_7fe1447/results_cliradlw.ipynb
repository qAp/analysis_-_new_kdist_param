{
 "cells": [
  {
   "cell_type": "code",
   "execution_count": 1,
   "metadata": {
    "collapsed": true
   },
   "outputs": [
    {
     "name": "stdout",
     "output_type": "stream",
     "text": [
      "The history saving thread hit an unexpected error (OperationalError('database is locked',)).History will not be written to the database.\n"
     ]
    }
   ],
   "source": [
    "%matplotlib inline\n",
    "import os\n",
    "import re\n",
    "import io\n",
    "import itertools\n",
    "import pprint\n",
    "\n",
    "from bokeh.io import output_notebook, show\n",
    "from bokeh.layouts import gridplot\n",
    "from bokeh.plotting import figure\n",
    "from bokeh.models import Range1d, Legend\n",
    "from bokeh.palettes import all_palettes\n",
    "\n",
    "import matplotlib\n",
    "import matplotlib.pyplot as plt\n",
    "import numpy as np\n",
    "import pandas as pd\n",
    "import xarray as xr\n",
    "\n",
    "import climatools.lblnew.bestfit_params as bestfits\n",
    "from climatools.lblnew import setup_bestfit, setup_overlap\n",
    "import climatools.lblnew.pipeline as pipe_lblnew\n",
    "import climatools.cliradlw.setup as setup_cliradlw\n",
    "import climatools.cliradlw.pipeline as pipe_cliradlw\n",
    "\n",
    "import climatools.html.html as climahtml\n",
    "from climatools.lblnew.dataio import *\n",
    "from climatools.plot.plot import *\n",
    "\n",
    "\n",
    "import IPython.display as display"
   ]
  },
  {
   "cell_type": "code",
   "execution_count": 2,
   "metadata": {
    "collapsed": true
   },
   "outputs": [],
   "source": [
    "%run param.py"
   ]
  },
  {
   "cell_type": "code",
   "execution_count": 3,
   "metadata": {
    "collapsed": true
   },
   "outputs": [],
   "source": [
    "def load_output_file(path_csv):\n",
    "    '''\n",
    "    Load lblnew output .csv file to xarray.Dataset\n",
    "    \n",
    "    Parameters\n",
    "    ----------\n",
    "    path_csv: str\n",
    "              Path to the .csv file to be loaded.\n",
    "    ds: xarray.Dataset\n",
    "        Data in the input file in the form of an xarray.Dataset.\n",
    "    '''\n",
    "    toindex = ['band', 'pressure', 'igg', 'g']    \n",
    "    df = pd.read_csv(path_csv, sep=r'\\s+')\n",
    "    df = df.set_index([i for i in toindex if i in df.columns])\n",
    "    df = df.rename(columns={'sfu': 'flug',\n",
    "                            'sfd': 'fldg',\n",
    "                            'fnet': 'fnetg',\n",
    "                            'coolr': 'coolrg'})\n",
    "    ds = xr.Dataset.from_dataframe(df)\n",
    "\n",
    "    for l in ('level', 'layer'):\n",
    "        if l in ds.data_vars:\n",
    "            if len(ds[l].dims) > 1:\n",
    "                surface = {d: 0 for d in ds.dims if d != 'pressure'}\n",
    "                coord_level = ds[l][surface]\n",
    "                ds.coords[l] = ('pressure', coord_level)\n",
    "            else:\n",
    "                ds.coords[l] = ('pressure', ds[l])\n",
    "    \n",
    "    return ds"
   ]
  },
  {
   "cell_type": "code",
   "execution_count": 4,
   "metadata": {
    "collapsed": true
   },
   "outputs": [],
   "source": [
    "def lblnew_setup(param=None):\n",
    "    if 'ng_refs' in param:\n",
    "        return {'setup': setup_bestfit,\n",
    "                'fname_flux_crd': 'output_flux.dat',\n",
    "                'fname_cool_crd': 'output_coolr.dat',\n",
    "                'fname_flux_wgt': 'output_wfluxg.dat',\n",
    "                'fname_cool_wgt': 'output_wcoolrg.dat'}\n",
    "    else:\n",
    "        return {'setup': setup_overlap,\n",
    "                'fname_flux_crd': 'output_flux.dat',\n",
    "                'fname_cool_crd': 'output_coolr.dat',\n",
    "                'fname_flux_wgt': 'output_wflux.dat',\n",
    "                'fname_cool_wgt': 'output_wcoolr.dat'}\n",
    "\n",
    "    \n",
    "def load_lblnew_data(param):\n",
    "    \n",
    "    fname_dsname = [('fname_flux_crd', 'ds_flux_crd'),\n",
    "                    ('fname_cool_crd', 'ds_cool_crd'),\n",
    "                    ('fname_flux_wgt', 'ds_flux_wgt'),\n",
    "                    ('fname_cool_wgt', 'ds_cool_wgt')]\n",
    "    \n",
    "    d = lblnew_setup(param)\n",
    "    dir_fortran = pipe_lblnew.get_dir_case(param, setup=d['setup'])\n",
    "    \n",
    "    data_dict = {}\n",
    "    for fname, dsname in fname_dsname:\n",
    "        fpath = os.path.join(dir_fortran, d[fname])\n",
    "        data_dict[dsname] = load_output_file(fpath)\n",
    "    return data_dict\n",
    "    \n",
    "\n",
    "    \n",
    "    "
   ]
  },
  {
   "cell_type": "code",
   "execution_count": 5,
   "metadata": {
    "collapsed": true
   },
   "outputs": [],
   "source": [
    "d = load_lblnew_data(PARAM_LBLNEW)\n",
    "\n",
    "DS_FLUX_CRD = d['ds_flux_crd']\n",
    "DS_COOL_CRD = d['ds_cool_crd']\n",
    "DS_FLUX_WGT = d['ds_flux_wgt']\n",
    "DS_COOL_WGT = d['ds_cool_wgt']"
   ]
  },
  {
   "cell_type": "code",
   "execution_count": 6,
   "metadata": {
    "collapsed": true
   },
   "outputs": [],
   "source": [
    "DIR_FORTRAN = pipe_cliradlw.get_fortran_dir(PARAM, \n",
    "                                            setup=setup_cliradlw)\n",
    "\n",
    "PATH_FLUX = os.path.join(DIR_FORTRAN, 'output_flux.dat')\n",
    "PATH_COOL = os.path.join(DIR_FORTRAN, 'output_coolr.dat')\n",
    "\n",
    "DS_FLUX = load_output_file(PATH_FLUX)\n",
    "DS_COOL = load_output_file(PATH_COOL)"
   ]
  },
  {
   "cell_type": "code",
   "execution_count": 7,
   "metadata": {
    "collapsed": true
   },
   "outputs": [
    {
     "data": {
      "text/html": [
       "\n",
       "    <div class=\"bk-root\">\n",
       "        <a href=\"https://bokeh.pydata.org\" target=\"_blank\" class=\"bk-logo bk-logo-small bk-logo-notebook\"></a>\n",
       "        <span id=\"2734e8b2-f83b-4d33-886c-d231c237f79c\">Loading BokehJS ...</span>\n",
       "    </div>"
      ]
     },
     "metadata": {},
     "output_type": "display_data"
    },
    {
     "data": {
      "application/javascript": [
       "\n",
       "(function(root) {\n",
       "  function now() {\n",
       "    return new Date();\n",
       "  }\n",
       "\n",
       "  var force = true;\n",
       "\n",
       "  if (typeof (root._bokeh_onload_callbacks) === \"undefined\" || force === true) {\n",
       "    root._bokeh_onload_callbacks = [];\n",
       "    root._bokeh_is_loading = undefined;\n",
       "  }\n",
       "\n",
       "  var JS_MIME_TYPE = 'application/javascript';\n",
       "  var HTML_MIME_TYPE = 'text/html';\n",
       "  var EXEC_MIME_TYPE = 'application/vnd.bokehjs_exec.v0+json';\n",
       "  var CLASS_NAME = 'output_bokeh rendered_html';\n",
       "\n",
       "  /**\n",
       "   * Render data to the DOM node\n",
       "   */\n",
       "  function render(props, node) {\n",
       "    var script = document.createElement(\"script\");\n",
       "    node.appendChild(script);\n",
       "  }\n",
       "\n",
       "  /**\n",
       "   * Handle when an output is cleared or removed\n",
       "   */\n",
       "  function handleClearOutput(event, handle) {\n",
       "    var cell = handle.cell;\n",
       "\n",
       "    var id = cell.output_area._bokeh_element_id;\n",
       "    var server_id = cell.output_area._bokeh_server_id;\n",
       "    // Clean up Bokeh references\n",
       "    if (id !== undefined) {\n",
       "      Bokeh.index[id].model.document.clear();\n",
       "      delete Bokeh.index[id];\n",
       "    }\n",
       "\n",
       "    if (server_id !== undefined) {\n",
       "      // Clean up Bokeh references\n",
       "      var cmd = \"from bokeh.io.state import curstate; print(curstate().uuid_to_server['\" + server_id + \"'].get_sessions()[0].document.roots[0]._id)\";\n",
       "      cell.notebook.kernel.execute(cmd, {\n",
       "        iopub: {\n",
       "          output: function(msg) {\n",
       "            var element_id = msg.content.text.trim();\n",
       "            Bokeh.index[element_id].model.document.clear();\n",
       "            delete Bokeh.index[element_id];\n",
       "          }\n",
       "        }\n",
       "      });\n",
       "      // Destroy server and session\n",
       "      var cmd = \"import bokeh.io.notebook as ion; ion.destroy_server('\" + server_id + \"')\";\n",
       "      cell.notebook.kernel.execute(cmd);\n",
       "    }\n",
       "  }\n",
       "\n",
       "  /**\n",
       "   * Handle when a new output is added\n",
       "   */\n",
       "  function handleAddOutput(event, handle) {\n",
       "    var output_area = handle.output_area;\n",
       "    var output = handle.output;\n",
       "\n",
       "    // limit handleAddOutput to display_data with EXEC_MIME_TYPE content only\n",
       "    if ((output.output_type != \"display_data\") || (!output.data.hasOwnProperty(EXEC_MIME_TYPE))) {\n",
       "      return\n",
       "    }\n",
       "\n",
       "    var toinsert = output_area.element.find(\".\" + CLASS_NAME.split(' ')[0]);\n",
       "\n",
       "    if (output.metadata[EXEC_MIME_TYPE][\"id\"] !== undefined) {\n",
       "      toinsert[0].firstChild.textContent = output.data[JS_MIME_TYPE];\n",
       "      // store reference to embed id on output_area\n",
       "      output_area._bokeh_element_id = output.metadata[EXEC_MIME_TYPE][\"id\"];\n",
       "    }\n",
       "    if (output.metadata[EXEC_MIME_TYPE][\"server_id\"] !== undefined) {\n",
       "      var bk_div = document.createElement(\"div\");\n",
       "      bk_div.innerHTML = output.data[HTML_MIME_TYPE];\n",
       "      var script_attrs = bk_div.children[0].attributes;\n",
       "      for (var i = 0; i < script_attrs.length; i++) {\n",
       "        toinsert[0].firstChild.setAttribute(script_attrs[i].name, script_attrs[i].value);\n",
       "      }\n",
       "      // store reference to server id on output_area\n",
       "      output_area._bokeh_server_id = output.metadata[EXEC_MIME_TYPE][\"server_id\"];\n",
       "    }\n",
       "  }\n",
       "\n",
       "  function register_renderer(events, OutputArea) {\n",
       "\n",
       "    function append_mime(data, metadata, element) {\n",
       "      // create a DOM node to render to\n",
       "      var toinsert = this.create_output_subarea(\n",
       "        metadata,\n",
       "        CLASS_NAME,\n",
       "        EXEC_MIME_TYPE\n",
       "      );\n",
       "      this.keyboard_manager.register_events(toinsert);\n",
       "      // Render to node\n",
       "      var props = {data: data, metadata: metadata[EXEC_MIME_TYPE]};\n",
       "      render(props, toinsert[0]);\n",
       "      element.append(toinsert);\n",
       "      return toinsert\n",
       "    }\n",
       "\n",
       "    /* Handle when an output is cleared or removed */\n",
       "    events.on('clear_output.CodeCell', handleClearOutput);\n",
       "    events.on('delete.Cell', handleClearOutput);\n",
       "\n",
       "    /* Handle when a new output is added */\n",
       "    events.on('output_added.OutputArea', handleAddOutput);\n",
       "\n",
       "    /**\n",
       "     * Register the mime type and append_mime function with output_area\n",
       "     */\n",
       "    OutputArea.prototype.register_mime_type(EXEC_MIME_TYPE, append_mime, {\n",
       "      /* Is output safe? */\n",
       "      safe: true,\n",
       "      /* Index of renderer in `output_area.display_order` */\n",
       "      index: 0\n",
       "    });\n",
       "  }\n",
       "\n",
       "  // register the mime type if in Jupyter Notebook environment and previously unregistered\n",
       "  if (root.Jupyter !== undefined) {\n",
       "    var events = require('base/js/events');\n",
       "    var OutputArea = require('notebook/js/outputarea').OutputArea;\n",
       "\n",
       "    if (OutputArea.prototype.mime_types().indexOf(EXEC_MIME_TYPE) == -1) {\n",
       "      register_renderer(events, OutputArea);\n",
       "    }\n",
       "  }\n",
       "\n",
       "  \n",
       "  if (typeof (root._bokeh_timeout) === \"undefined\" || force === true) {\n",
       "    root._bokeh_timeout = Date.now() + 5000;\n",
       "    root._bokeh_failed_load = false;\n",
       "  }\n",
       "\n",
       "  var NB_LOAD_WARNING = {'data': {'text/html':\n",
       "     \"<div style='background-color: #fdd'>\\n\"+\n",
       "     \"<p>\\n\"+\n",
       "     \"BokehJS does not appear to have successfully loaded. If loading BokehJS from CDN, this \\n\"+\n",
       "     \"may be due to a slow or bad network connection. Possible fixes:\\n\"+\n",
       "     \"</p>\\n\"+\n",
       "     \"<ul>\\n\"+\n",
       "     \"<li>re-rerun `output_notebook()` to attempt to load from CDN again, or</li>\\n\"+\n",
       "     \"<li>use INLINE resources instead, as so:</li>\\n\"+\n",
       "     \"</ul>\\n\"+\n",
       "     \"<code>\\n\"+\n",
       "     \"from bokeh.resources import INLINE\\n\"+\n",
       "     \"output_notebook(resources=INLINE)\\n\"+\n",
       "     \"</code>\\n\"+\n",
       "     \"</div>\"}};\n",
       "\n",
       "  function display_loaded() {\n",
       "    var el = document.getElementById(\"2734e8b2-f83b-4d33-886c-d231c237f79c\");\n",
       "    if (el != null) {\n",
       "      el.textContent = \"BokehJS is loading...\";\n",
       "    }\n",
       "    if (root.Bokeh !== undefined) {\n",
       "      if (el != null) {\n",
       "        el.textContent = \"BokehJS \" + root.Bokeh.version + \" successfully loaded.\";\n",
       "      }\n",
       "    } else if (Date.now() < root._bokeh_timeout) {\n",
       "      setTimeout(display_loaded, 100)\n",
       "    }\n",
       "  }\n",
       "\n",
       "\n",
       "  function run_callbacks() {\n",
       "    try {\n",
       "      root._bokeh_onload_callbacks.forEach(function(callback) { callback() });\n",
       "    }\n",
       "    finally {\n",
       "      delete root._bokeh_onload_callbacks\n",
       "    }\n",
       "    console.info(\"Bokeh: all callbacks have finished\");\n",
       "  }\n",
       "\n",
       "  function load_libs(js_urls, callback) {\n",
       "    root._bokeh_onload_callbacks.push(callback);\n",
       "    if (root._bokeh_is_loading > 0) {\n",
       "      console.log(\"Bokeh: BokehJS is being loaded, scheduling callback at\", now());\n",
       "      return null;\n",
       "    }\n",
       "    if (js_urls == null || js_urls.length === 0) {\n",
       "      run_callbacks();\n",
       "      return null;\n",
       "    }\n",
       "    console.log(\"Bokeh: BokehJS not loaded, scheduling load and callback at\", now());\n",
       "    root._bokeh_is_loading = js_urls.length;\n",
       "    for (var i = 0; i < js_urls.length; i++) {\n",
       "      var url = js_urls[i];\n",
       "      var s = document.createElement('script');\n",
       "      s.src = url;\n",
       "      s.async = false;\n",
       "      s.onreadystatechange = s.onload = function() {\n",
       "        root._bokeh_is_loading--;\n",
       "        if (root._bokeh_is_loading === 0) {\n",
       "          console.log(\"Bokeh: all BokehJS libraries loaded\");\n",
       "          run_callbacks()\n",
       "        }\n",
       "      };\n",
       "      s.onerror = function() {\n",
       "        console.warn(\"failed to load library \" + url);\n",
       "      };\n",
       "      console.log(\"Bokeh: injecting script tag for BokehJS library: \", url);\n",
       "      document.getElementsByTagName(\"head\")[0].appendChild(s);\n",
       "    }\n",
       "  };var element = document.getElementById(\"2734e8b2-f83b-4d33-886c-d231c237f79c\");\n",
       "  if (element == null) {\n",
       "    console.log(\"Bokeh: ERROR: autoload.js configured with elementid '2734e8b2-f83b-4d33-886c-d231c237f79c' but no matching script tag was found. \")\n",
       "    return false;\n",
       "  }\n",
       "\n",
       "  var js_urls = [\"https://cdn.pydata.org/bokeh/release/bokeh-0.12.14.min.js\", \"https://cdn.pydata.org/bokeh/release/bokeh-widgets-0.12.14.min.js\", \"https://cdn.pydata.org/bokeh/release/bokeh-tables-0.12.14.min.js\", \"https://cdn.pydata.org/bokeh/release/bokeh-gl-0.12.14.min.js\"];\n",
       "\n",
       "  var inline_js = [\n",
       "    function(Bokeh) {\n",
       "      Bokeh.set_log_level(\"info\");\n",
       "    },\n",
       "    \n",
       "    function(Bokeh) {\n",
       "      \n",
       "    },\n",
       "    function(Bokeh) {\n",
       "      console.log(\"Bokeh: injecting CSS: https://cdn.pydata.org/bokeh/release/bokeh-0.12.14.min.css\");\n",
       "      Bokeh.embed.inject_css(\"https://cdn.pydata.org/bokeh/release/bokeh-0.12.14.min.css\");\n",
       "      console.log(\"Bokeh: injecting CSS: https://cdn.pydata.org/bokeh/release/bokeh-widgets-0.12.14.min.css\");\n",
       "      Bokeh.embed.inject_css(\"https://cdn.pydata.org/bokeh/release/bokeh-widgets-0.12.14.min.css\");\n",
       "      console.log(\"Bokeh: injecting CSS: https://cdn.pydata.org/bokeh/release/bokeh-tables-0.12.14.min.css\");\n",
       "      Bokeh.embed.inject_css(\"https://cdn.pydata.org/bokeh/release/bokeh-tables-0.12.14.min.css\");\n",
       "    }\n",
       "  ];\n",
       "\n",
       "  function run_inline_js() {\n",
       "    \n",
       "    if ((root.Bokeh !== undefined) || (force === true)) {\n",
       "      for (var i = 0; i < inline_js.length; i++) {\n",
       "        inline_js[i].call(root, root.Bokeh);\n",
       "      }if (force === true) {\n",
       "        display_loaded();\n",
       "      }} else if (Date.now() < root._bokeh_timeout) {\n",
       "      setTimeout(run_inline_js, 100);\n",
       "    } else if (!root._bokeh_failed_load) {\n",
       "      console.log(\"Bokeh: BokehJS failed to load within specified timeout.\");\n",
       "      root._bokeh_failed_load = true;\n",
       "    } else if (force !== true) {\n",
       "      var cell = $(document.getElementById(\"2734e8b2-f83b-4d33-886c-d231c237f79c\")).parents('.cell').data().cell;\n",
       "      cell.output_area.append_execute_result(NB_LOAD_WARNING)\n",
       "    }\n",
       "\n",
       "  }\n",
       "\n",
       "  if (root._bokeh_is_loading === 0) {\n",
       "    console.log(\"Bokeh: BokehJS loaded, going straight to plotting\");\n",
       "    run_inline_js();\n",
       "  } else {\n",
       "    load_libs(js_urls, function() {\n",
       "      console.log(\"Bokeh: BokehJS plotting callback run at\", now());\n",
       "      run_inline_js();\n",
       "    });\n",
       "  }\n",
       "}(window));"
      ],
      "application/vnd.bokehjs_load.v0+json": "\n(function(root) {\n  function now() {\n    return new Date();\n  }\n\n  var force = true;\n\n  if (typeof (root._bokeh_onload_callbacks) === \"undefined\" || force === true) {\n    root._bokeh_onload_callbacks = [];\n    root._bokeh_is_loading = undefined;\n  }\n\n  \n\n  \n  if (typeof (root._bokeh_timeout) === \"undefined\" || force === true) {\n    root._bokeh_timeout = Date.now() + 5000;\n    root._bokeh_failed_load = false;\n  }\n\n  var NB_LOAD_WARNING = {'data': {'text/html':\n     \"<div style='background-color: #fdd'>\\n\"+\n     \"<p>\\n\"+\n     \"BokehJS does not appear to have successfully loaded. If loading BokehJS from CDN, this \\n\"+\n     \"may be due to a slow or bad network connection. Possible fixes:\\n\"+\n     \"</p>\\n\"+\n     \"<ul>\\n\"+\n     \"<li>re-rerun `output_notebook()` to attempt to load from CDN again, or</li>\\n\"+\n     \"<li>use INLINE resources instead, as so:</li>\\n\"+\n     \"</ul>\\n\"+\n     \"<code>\\n\"+\n     \"from bokeh.resources import INLINE\\n\"+\n     \"output_notebook(resources=INLINE)\\n\"+\n     \"</code>\\n\"+\n     \"</div>\"}};\n\n  function display_loaded() {\n    var el = document.getElementById(\"2734e8b2-f83b-4d33-886c-d231c237f79c\");\n    if (el != null) {\n      el.textContent = \"BokehJS is loading...\";\n    }\n    if (root.Bokeh !== undefined) {\n      if (el != null) {\n        el.textContent = \"BokehJS \" + root.Bokeh.version + \" successfully loaded.\";\n      }\n    } else if (Date.now() < root._bokeh_timeout) {\n      setTimeout(display_loaded, 100)\n    }\n  }\n\n\n  function run_callbacks() {\n    try {\n      root._bokeh_onload_callbacks.forEach(function(callback) { callback() });\n    }\n    finally {\n      delete root._bokeh_onload_callbacks\n    }\n    console.info(\"Bokeh: all callbacks have finished\");\n  }\n\n  function load_libs(js_urls, callback) {\n    root._bokeh_onload_callbacks.push(callback);\n    if (root._bokeh_is_loading > 0) {\n      console.log(\"Bokeh: BokehJS is being loaded, scheduling callback at\", now());\n      return null;\n    }\n    if (js_urls == null || js_urls.length === 0) {\n      run_callbacks();\n      return null;\n    }\n    console.log(\"Bokeh: BokehJS not loaded, scheduling load and callback at\", now());\n    root._bokeh_is_loading = js_urls.length;\n    for (var i = 0; i < js_urls.length; i++) {\n      var url = js_urls[i];\n      var s = document.createElement('script');\n      s.src = url;\n      s.async = false;\n      s.onreadystatechange = s.onload = function() {\n        root._bokeh_is_loading--;\n        if (root._bokeh_is_loading === 0) {\n          console.log(\"Bokeh: all BokehJS libraries loaded\");\n          run_callbacks()\n        }\n      };\n      s.onerror = function() {\n        console.warn(\"failed to load library \" + url);\n      };\n      console.log(\"Bokeh: injecting script tag for BokehJS library: \", url);\n      document.getElementsByTagName(\"head\")[0].appendChild(s);\n    }\n  };var element = document.getElementById(\"2734e8b2-f83b-4d33-886c-d231c237f79c\");\n  if (element == null) {\n    console.log(\"Bokeh: ERROR: autoload.js configured with elementid '2734e8b2-f83b-4d33-886c-d231c237f79c' but no matching script tag was found. \")\n    return false;\n  }\n\n  var js_urls = [\"https://cdn.pydata.org/bokeh/release/bokeh-0.12.14.min.js\", \"https://cdn.pydata.org/bokeh/release/bokeh-widgets-0.12.14.min.js\", \"https://cdn.pydata.org/bokeh/release/bokeh-tables-0.12.14.min.js\", \"https://cdn.pydata.org/bokeh/release/bokeh-gl-0.12.14.min.js\"];\n\n  var inline_js = [\n    function(Bokeh) {\n      Bokeh.set_log_level(\"info\");\n    },\n    \n    function(Bokeh) {\n      \n    },\n    function(Bokeh) {\n      console.log(\"Bokeh: injecting CSS: https://cdn.pydata.org/bokeh/release/bokeh-0.12.14.min.css\");\n      Bokeh.embed.inject_css(\"https://cdn.pydata.org/bokeh/release/bokeh-0.12.14.min.css\");\n      console.log(\"Bokeh: injecting CSS: https://cdn.pydata.org/bokeh/release/bokeh-widgets-0.12.14.min.css\");\n      Bokeh.embed.inject_css(\"https://cdn.pydata.org/bokeh/release/bokeh-widgets-0.12.14.min.css\");\n      console.log(\"Bokeh: injecting CSS: https://cdn.pydata.org/bokeh/release/bokeh-tables-0.12.14.min.css\");\n      Bokeh.embed.inject_css(\"https://cdn.pydata.org/bokeh/release/bokeh-tables-0.12.14.min.css\");\n    }\n  ];\n\n  function run_inline_js() {\n    \n    if ((root.Bokeh !== undefined) || (force === true)) {\n      for (var i = 0; i < inline_js.length; i++) {\n        inline_js[i].call(root, root.Bokeh);\n      }if (force === true) {\n        display_loaded();\n      }} else if (Date.now() < root._bokeh_timeout) {\n      setTimeout(run_inline_js, 100);\n    } else if (!root._bokeh_failed_load) {\n      console.log(\"Bokeh: BokehJS failed to load within specified timeout.\");\n      root._bokeh_failed_load = true;\n    } else if (force !== true) {\n      var cell = $(document.getElementById(\"2734e8b2-f83b-4d33-886c-d231c237f79c\")).parents('.cell').data().cell;\n      cell.output_area.append_execute_result(NB_LOAD_WARNING)\n    }\n\n  }\n\n  if (root._bokeh_is_loading === 0) {\n    console.log(\"Bokeh: BokehJS loaded, going straight to plotting\");\n    run_inline_js();\n  } else {\n    load_libs(js_urls, function() {\n      console.log(\"Bokeh: BokehJS plotting callback run at\", now());\n      run_inline_js();\n    });\n  }\n}(window));"
     },
     "metadata": {},
     "output_type": "display_data"
    }
   ],
   "source": [
    "output_notebook()"
   ]
  },
  {
   "cell_type": "code",
   "execution_count": 8,
   "metadata": {
    "collapsed": true
   },
   "outputs": [],
   "source": [
    "def fmt_cool(ds_in):\n",
    "    ds = ds_in.copy(deep=True)\n",
    "    if 'igg' in ds.dims:\n",
    "        ds = ds.sel(igg=1)\n",
    "\n",
    "    if 'g' in ds.dims:\n",
    "        ds = ds.sum('g')\n",
    "            \n",
    "    if 'band' in ds.dims:\n",
    "        try:\n",
    "            ds = ds.squeeze('band')\n",
    "        except ValueError:\n",
    "            ds = ds.sum('band')\n",
    "                \n",
    "    return ds['coolrg']\n",
    "\n",
    "\n",
    "def pltdata_cooling_1(ds_cool=None,\n",
    "                      ds_cool_crd=None, ds_cool_wgt=None):\n",
    "    \n",
    "\n",
    "\n",
    "    colors = all_palettes['Set1'][4]\n",
    "    data = [{'label': 'CLIRAD `coolr_bands`',\n",
    "             'srs': fmt_cool(ds_cool),\n",
    "             'line_dash': 'dashed', 'line_width': 5,\n",
    "             'color': colors[0], 'alpha': .6},\n",
    "            {'label': 'CRD',\n",
    "             'srs': fmt_cool(ds_cool_crd),\n",
    "             'line_dash': 'solid', 'line_width': 1.5,\n",
    "             'marker': 'circle', 'marker_size': 5,\n",
    "             'color': colors[2], 'alpha': 1,},\n",
    "            {'label': 'WGT igg=10 wgt_flux=2',\n",
    "             'srs': fmt_cool(ds_cool_wgt),\n",
    "             'line_dash': 'solid', 'line_width': 3,\n",
    "             'marker': 'square', 'marker_size': 5,\n",
    "             'color': colors[3], 'alpha': .6}]\n",
    "    return data\n",
    "\n",
    "\n",
    "def nice_xlims(pltdata=None, prange=None):\n",
    "    \n",
    "    def get_slice(srs):\n",
    "        return srs.sel(pressure=slice(*prange))\n",
    "    \n",
    "    srss = [d['srs'] for d in pltdata]\n",
    "    vmin = min([get_slice(srs).min() for srs in srss])\n",
    "    vmax = max([get_slice(srs).max() for srs in srss])\n",
    "    dv = (vmax - vmin) * .01\n",
    "    return float(vmin - dv), float(vmax + dv)\n",
    "    \n",
    "\n",
    "def plt_cooling_bokeh(pltdata=None):\n",
    "    '''\n",
    "    Plot a list of cooling rate profiles using bokeh.\n",
    "    '''\n",
    "    ymin = 1e-2 \n",
    "    ymax = 1020 \n",
    "        \n",
    "    p1 = figure(title=\"Linear pressure scale\", \n",
    "                plot_width=400)        \n",
    "    xmin, xmax = nice_xlims(pltdata, prange=(50, 1050))\n",
    "    for d in pltdata:\n",
    "        if 'marker' in d:\n",
    "            getattr(p1, d['marker'])(d['srs'].values, \n",
    "                    d['srs'].coords['pressure'].values,\n",
    "                    color=d['color'], alpha=.7)\n",
    "        p1.line(d['srs'].values, \n",
    "                d['srs'].coords['pressure'].values,\n",
    "                color=d['color'], alpha=d['alpha'], \n",
    "                line_width=d['line_width'], line_dash=d['line_dash'])\n",
    "    \n",
    "    p1.y_range = Range1d(ymax, ymin)\n",
    "    p1.yaxis.axis_label = 'pressure [mb]'   \n",
    "    p1.x_range = Range1d(xmin, xmax)\n",
    "    p1.xaxis.axis_label = 'cooling rate [K/day]'\n",
    "            \n",
    "    p2 = figure(title='Log pressure scale', y_axis_type='log',\n",
    "                plot_width=560)\n",
    "    xmin, xmax = nice_xlims(pltdata, prange=(.01, 200))\n",
    "    \n",
    "    rs = []\n",
    "    for d in pltdata:\n",
    "        rd = []\n",
    "        if 'marker' in d:\n",
    "            r_mark = getattr(p2, d['marker'])(d['srs'].values, \n",
    "                        d['srs'].coords['pressure'].values,\n",
    "                        color=d['color'], alpha=.7)\n",
    "            rd.append(r_mark)\n",
    "        r_line = p2.line(d['srs'].values, \n",
    "                    d['srs'].coords['pressure'].values,\n",
    "                    color=d['color'], alpha=d['alpha'], \n",
    "                    line_width=d['line_width'], line_dash=d['line_dash'])\n",
    "        rd.append(r_line)\n",
    "      \n",
    "        rs.append(rd)\n",
    "        \n",
    "    p2.y_range = Range1d(ymax, ymin)  \n",
    "    p2.yaxis.axis_label = 'pressure [mb]'\n",
    "    \n",
    "    p2.x_range = Range1d(xmin, xmax)\n",
    "    p2.xaxis.axis_label = 'cooling rate [K/day]'\n",
    "    \n",
    "    items = [(d['label'], r) for r, d in zip(rs, pltdata)]\n",
    "    legend = Legend(items=items, location=(10, -30))\n",
    "    legend.label_text_font_size = '8pt'\n",
    "    \n",
    "    p2.add_layout(legend, 'right')  \n",
    "    \n",
    "    show(gridplot(p1, p2, ncols=2, plot_height=500))\n",
    "    \n",
    "\n",
    "def script_plt_cooling():\n",
    "    pltdata = pltdata_cooling_1(\n",
    "        ds_cool=DS_COOL,\n",
    "        ds_cool_crd=DS_COOL_CRD,\n",
    "        ds_cool_wgt=DS_COOL_WGT)\n",
    "    plt_cooling_bokeh(pltdata=pltdata)\n",
    "    print('''FIGURE. Cooling rate profiles.''')"
   ]
  },
  {
   "cell_type": "code",
   "execution_count": 9,
   "metadata": {
    "collapsed": true
   },
   "outputs": [],
   "source": [
    "def fmt_flux(ds_in):\n",
    "    ds = ds_in.copy(deep=True)\n",
    "    \n",
    "    for l in ('level', 'layer'):\n",
    "        if l in ds.data_vars:\n",
    "            if len(ds[l].dims) > 1:\n",
    "                surface = {d: 0 for d in ds.dims if d != 'pressure'}\n",
    "                coord_level = ds[l][surface]\n",
    "                ds.coords[l] = ('pressure', coord_level)\n",
    "            else:\n",
    "                ds.coords[l] = ('pressure', ds[l])\n",
    "        \n",
    "    ds = ds.isel(pressure=[0, 23, -1])\n",
    "        \n",
    "    if 'igg' in ds.dims:\n",
    "        ds = ds.sel(igg=[1])\n",
    "        ds = ds.squeeze('igg').drop('igg')\n",
    "    \n",
    "    if 'g' in ds.dims:\n",
    "        ds = ds.sum('g')\n",
    "            \n",
    "    if 'band' in ds.dims:\n",
    "        try:\n",
    "            ds = ds.squeeze('band').drop('band')\n",
    "        except ValueError:\n",
    "            ds = ds.sum('band')\n",
    "                \n",
    "    df = ds.to_dataframe()\n",
    "    df = df.set_index('level', append=True)               \n",
    "    return df\n",
    "\n",
    "\n",
    "def tbdata_flux(ds_flux=None, ds_flux_crd=None, ds_flux_wgt=None):\n",
    "    ilevels = [0, 23, -1]\n",
    "            \n",
    "    benchmark = {'label': 'WGT igg=10 wgt_flux=1',\n",
    "                 'df': fmt_flux(ds_flux_wgt)}\n",
    "    \n",
    "    tbs = [{'label': 'CRD',\n",
    "            'df': fmt_flux(ds_flux_crd)},\n",
    "           {'label': 'CLIRAD',\n",
    "            'df': fmt_flux(ds_flux)}]\n",
    "    \n",
    "    data = {'benchmark': benchmark, 'others': tbs}\n",
    "    return data\n",
    "\n",
    "\n",
    "def tb_flux(tbdata=None):\n",
    "    benchmark = tbdata['benchmark']\n",
    "    others = tbdata['others']\n",
    "    \n",
    "    def show_tb(d=None):\n",
    "        display.display(d['df'])\n",
    "        print('Table.', 'Fluxes.', d['label'])\n",
    "        \n",
    "    def show_tbdiff(d0=None, d=None):\n",
    "        df = d['df']\n",
    "        df.index = d0['df'].index\n",
    "        display.display(df - d0['df'])\n",
    "        print('Table.', 'Fluxes.', \n",
    "              '({}) - ({})'.format(d['label'], d0['label']))\n",
    "        \n",
    "    show_tb(benchmark)\n",
    "    for d in others:\n",
    "        show_tb(d)\n",
    "        \n",
    "    for d in others:\n",
    "        show_tbdiff(d=d, d0=benchmark)\n",
    "        \n",
    "        \n",
    "def script_tb_flux():\n",
    "    data = tbdata_flux(ds_flux=DS_FLUX,\n",
    "                       ds_flux_crd=DS_FLUX_CRD,\n",
    "                       ds_flux_wgt=DS_FLUX_WGT)\n",
    "    tb_flux(tbdata=data)"
   ]
  },
  {
   "cell_type": "code",
   "execution_count": 10,
   "metadata": {
    "collapsed": true
   },
   "outputs": [],
   "source": [
    "def band_map():\n",
    "    '''\n",
    "    Maps spectral bands in lblnew to spectral bands in clirad.\n",
    "    '''\n",
    "    lblnew2clirad = {'1': '1',\n",
    "            '2': '2',\n",
    "            '3a': '3',\n",
    "            '3b': '4',\n",
    "            '3c': '5',\n",
    "            '4': '6', \n",
    "            '5': '7',\n",
    "            '6': '8',\n",
    "            '7': '9', \n",
    "            '8': '10',\n",
    "            '9': '11'}\n",
    "    \n",
    "    clirad2lblnew = {clirad: lblnew \n",
    "                     for lblnew, clirad in lblnew2clirad.items()}\n",
    "    return clirad2lblnew\n",
    "\n",
    "\n",
    "def gasbands():\n",
    "    bmap = band_map()\n",
    "    gases = list(PARAM['molecule'].keys())\n",
    "    \n",
    "    bands = [bmap[str(b)] for b in PARAM['band']]\n",
    "    return list(itertools.product(gases, bands))\n",
    "\n",
    "\n",
    "def print_bestfit_params():\n",
    "    print('Best-fit values for each (gas, band)')\n",
    "    print('------------------------------------')\n",
    "    for gas, band in gasbands():\n",
    "        print('o {} band{}'.format(gas, band))\n",
    "        param = bestfits.kdist_params(molecule=gas, band=band)\n",
    "        for name, value in sorted(param.items()):\n",
    "            print(2 * ' ' + '{} = {}'.format(name, value))\n",
    "\n",
    "        \n",
    "def print_input_param():        \n",
    "    for name, value in PARAM.items():\n",
    "        print('{} = {}'.format(name, value))\n",
    "        \n",
    "        \n",
    "def print_lblnew_param():\n",
    "    for name, value in sorted(PARAM_LBLNEW.items()):\n",
    "        print('{} = {}'.format(name, value))\n"
   ]
  },
  {
   "cell_type": "code",
   "execution_count": 11,
   "metadata": {
    "collapsed": true,
    "scrolled": false
   },
   "outputs": [],
   "source": [
    "def show_html(s):\n",
    "    display.display(display.HTML(s))\n",
    "\n",
    "    \n",
    "def show_markdown(s):\n",
    "    display.display(display.Markdown(s))\n",
    "\n",
    "    \n",
    "def script():\n",
    "    \n",
    "    title = '### CLIRAD-LW'\n",
    "    s_input = 'Input Parameters'\n",
    "    s_lblnew_param = 'LBLNEW case compaired against'\n",
    "    s_bestfits = 'Best-fit Parameters'\n",
    "    s_plt_cooling = 'Cooling Rate Profiles'\n",
    "    s_tb_flux = 'Flux Comparison'\n",
    "    \n",
    "    # title\n",
    "    show_markdown('### CLIRAD-LW')\n",
    "    \n",
    "    # TOC\n",
    "    show_markdown('### Table of Contents')\n",
    "    show_html(climahtml.getHTML_hrefanchor(s_input))\n",
    "    show_html(climahtml.getHTML_hrefanchor(s_lblnew_param))\n",
    "    show_html(climahtml.getHTML_hrefanchor(s_plt_cooling))\n",
    "    show_html(climahtml.getHTML_hrefanchor(s_tb_flux))\n",
    "    show_html(climahtml.getHTML_hrefanchor(s_bestfits))\n",
    "    \n",
    "    # Input parameters\n",
    "    show_html(climahtml.getHTML_idanchor(s_input))\n",
    "    show_markdown(climahtml.getMarkdown_sectitle(s_input))\n",
    "    print_input_param()\n",
    "    \n",
    "    # LBLNEW parameters \n",
    "    show_html(climahtml.getHTML_idanchor(s_lblnew_param))\n",
    "    show_markdown(climahtml.getMarkdown_sectitle(s_lblnew_param))\n",
    "    print_lblnew_param()\n",
    "    \n",
    "    # Cooling rate profiles\n",
    "    show_html(climahtml.getHTML_idanchor(s_plt_cooling))\n",
    "    show_markdown(climahtml.getMarkdown_sectitle(s_plt_cooling))\n",
    "    script_plt_cooling()\n",
    "    \n",
    "    # Flux comparison\n",
    "    show_html(climahtml.getHTML_idanchor(s_tb_flux))\n",
    "    show_markdown(climahtml.getMarkdown_sectitle(s_tb_flux))\n",
    "    script_tb_flux()\n",
    "    \n",
    "    # Best-fit values\n",
    "    show_html(climahtml.getHTML_idanchor(s_bestfits))\n",
    "    show_markdown(climahtml.getMarkdown_sectitle(s_bestfits))\n",
    "    print_bestfit_params()\n",
    "   \n",
    "    "
   ]
  },
  {
   "cell_type": "code",
   "execution_count": 12,
   "metadata": {
    "collapsed": true,
    "scrolled": false
   },
   "outputs": [
    {
     "data": {
      "text/markdown": [
       "### CLIRAD-LW"
      ],
      "text/plain": [
       "<IPython.core.display.Markdown object>"
      ]
     },
     "metadata": {},
     "output_type": "display_data"
    },
    {
     "data": {
      "text/markdown": [
       "### Table of Contents"
      ],
      "text/plain": [
       "<IPython.core.display.Markdown object>"
      ]
     },
     "metadata": {},
     "output_type": "display_data"
    },
    {
     "data": {
      "text/html": [
       "<a href=\"#Input_Parameters\">Input Parameters</a>"
      ],
      "text/plain": [
       "<IPython.core.display.HTML object>"
      ]
     },
     "metadata": {},
     "output_type": "display_data"
    },
    {
     "data": {
      "text/html": [
       "<a href=\"#LBLNEW_case_compaired_against\">LBLNEW case compaired against</a>"
      ],
      "text/plain": [
       "<IPython.core.display.HTML object>"
      ]
     },
     "metadata": {},
     "output_type": "display_data"
    },
    {
     "data": {
      "text/html": [
       "<a href=\"#Cooling_Rate_Profiles\">Cooling Rate Profiles</a>"
      ],
      "text/plain": [
       "<IPython.core.display.HTML object>"
      ]
     },
     "metadata": {},
     "output_type": "display_data"
    },
    {
     "data": {
      "text/html": [
       "<a href=\"#Flux_Comparison\">Flux Comparison</a>"
      ],
      "text/plain": [
       "<IPython.core.display.HTML object>"
      ]
     },
     "metadata": {},
     "output_type": "display_data"
    },
    {
     "data": {
      "text/html": [
       "<a href=\"#Best-fit_Parameters\">Best-fit Parameters</a>"
      ],
      "text/plain": [
       "<IPython.core.display.HTML object>"
      ]
     },
     "metadata": {},
     "output_type": "display_data"
    },
    {
     "data": {
      "text/html": [
       "<a id=\"Input_Parameters\"></a>"
      ],
      "text/plain": [
       "<IPython.core.display.HTML object>"
      ]
     },
     "metadata": {},
     "output_type": "display_data"
    },
    {
     "data": {
      "text/markdown": [
       "# Input Parameters"
      ],
      "text/plain": [
       "<IPython.core.display.Markdown object>"
      ]
     },
     "metadata": {},
     "output_type": "display_data"
    },
    {
     "name": "stdout",
     "output_type": "stream",
     "text": [
      "atmpro = trp\n",
      "band = [3]\n",
      "commitnumber = 7fe1447\n",
      "molecule = {'n2o': 3.2e-07}\n",
      "tsfc = 300\n"
     ]
    },
    {
     "data": {
      "text/html": [
       "<a id=\"LBLNEW_case_compaired_against\"></a>"
      ],
      "text/plain": [
       "<IPython.core.display.HTML object>"
      ]
     },
     "metadata": {},
     "output_type": "display_data"
    },
    {
     "data": {
      "text/markdown": [
       "# LBLNEW case compaired against"
      ],
      "text/plain": [
       "<IPython.core.display.Markdown object>"
      ]
     },
     "metadata": {},
     "output_type": "display_data"
    },
    {
     "name": "stdout",
     "output_type": "stream",
     "text": [
      "atmpro = trp\n",
      "band = 3a\n",
      "commitnumber = a06b618\n",
      "conc = 3.2e-07\n",
      "dv = 0.001\n",
      "klin = 2.22e-20\n",
      "molecule = n2o\n",
      "ng_adju = [0, 0]\n",
      "ng_refs = [1, 2]\n",
      "nv = 1000\n",
      "option_compute_btable = 0\n",
      "option_compute_ktable = 0\n",
      "option_wgt_flux = 1\n",
      "option_wgt_k = 1\n",
      "ref_pts = [(1, 250), (500, 250)]\n",
      "tsfc = 300\n",
      "vmax = 620\n",
      "vmin = 540\n",
      "w_diffuse = [(1.8,), (1.66, 1.8)]\n",
      "wgt = [(0.9,), (0.5, 0.95)]\n"
     ]
    },
    {
     "data": {
      "text/html": [
       "<a id=\"Cooling_Rate_Profiles\"></a>"
      ],
      "text/plain": [
       "<IPython.core.display.HTML object>"
      ]
     },
     "metadata": {},
     "output_type": "display_data"
    },
    {
     "data": {
      "text/markdown": [
       "# Cooling Rate Profiles"
      ],
      "text/plain": [
       "<IPython.core.display.Markdown object>"
      ]
     },
     "metadata": {},
     "output_type": "display_data"
    },
    {
     "data": {
      "text/html": [
       "\n",
       "<div class=\"bk-root\">\n",
       "    <div class=\"bk-plotdiv\" id=\"e5a083a0-6867-48c6-a4cb-1530425ea832\"></div>\n",
       "</div>"
      ]
     },
     "metadata": {},
     "output_type": "display_data"
    },
    {
     "data": {
      "application/javascript": [
       "(function(root) {\n",
       "  function embed_document(root) {\n",
       "    \n",
       "  var docs_json = {\"42640999-85a4-443f-bf4f-79b4972ea8c5\":{\"roots\":{\"references\":[{\"attributes\":{\"data_source\":{\"id\":\"6ccef13d-1942-418b-affa-7a3586b82616\",\"type\":\"ColumnDataSource\"},\"glyph\":{\"id\":\"fa26b757-7dbf-4dcf-a7e6-465e8f9f95b7\",\"type\":\"Circle\"},\"hover_glyph\":null,\"muted_glyph\":null,\"nonselection_glyph\":{\"id\":\"af4aec03-dbc0-4d16-bbd4-d42016e1ad1f\",\"type\":\"Circle\"},\"selection_glyph\":null,\"view\":{\"id\":\"44698a8e-55c1-44bf-a397-46e4f2ae370f\",\"type\":\"CDSView\"}},\"id\":\"54766533-72ac-4b31-ad8a-c5270222bafb\",\"type\":\"GlyphRenderer\"},{\"attributes\":{\"data_source\":{\"id\":\"c2be5956-278b-4005-a56e-cebaacbf99d0\",\"type\":\"ColumnDataSource\"},\"glyph\":{\"id\":\"b388d964-ede7-4707-b9f9-0a7273a901c6\",\"type\":\"Circle\"},\"hover_glyph\":null,\"muted_glyph\":null,\"nonselection_glyph\":{\"id\":\"6e6786b8-847a-48a4-a54e-2efe0f8d8c07\",\"type\":\"Circle\"},\"selection_glyph\":null,\"view\":{\"id\":\"4b340e0e-a1a2-4d12-b497-983e1369290a\",\"type\":\"CDSView\"}},\"id\":\"34064947-c075-4bd4-93b1-dd89edd0c06d\",\"type\":\"GlyphRenderer\"},{\"attributes\":{\"line_color\":\"#4daf4a\",\"line_width\":1.5,\"x\":{\"field\":\"x\"},\"y\":{\"field\":\"y\"}},\"id\":\"df52f09f-9b93-44e1-aa4a-43f5f6d0ff64\",\"type\":\"Line\"},{\"attributes\":{},\"id\":\"099b186c-1728-4b9c-94c7-edeb46c618b2\",\"type\":\"BasicTickFormatter\"},{\"attributes\":{\"fill_alpha\":{\"value\":0.1},\"fill_color\":{\"value\":\"#1f77b4\"},\"line_alpha\":{\"value\":0.1},\"line_color\":{\"value\":\"#1f77b4\"},\"x\":{\"field\":\"x\"},\"y\":{\"field\":\"y\"}},\"id\":\"af4aec03-dbc0-4d16-bbd4-d42016e1ad1f\",\"type\":\"Circle\"},{\"attributes\":{\"source\":{\"id\":\"67e40eb7-83c5-4d31-81d5-78637b0220fb\",\"type\":\"ColumnDataSource\"}},\"id\":\"c21e2976-a1ef-43df-9fc9-d7c45865bc61\",\"type\":\"CDSView\"},{\"attributes\":{\"data_source\":{\"id\":\"8d063a9d-9b2f-4519-82ce-4cf9ba238cf5\",\"type\":\"ColumnDataSource\"},\"glyph\":{\"id\":\"8a527bf4-0cb0-4a4f-96f9-e50ff2e60702\",\"type\":\"Line\"},\"hover_glyph\":null,\"muted_glyph\":null,\"nonselection_glyph\":{\"id\":\"d1360f80-f357-4024-a076-abb52fb833b8\",\"type\":\"Line\"},\"selection_glyph\":null,\"view\":{\"id\":\"18f18464-5e17-4f6e-bfc0-a6b2a0fc21d2\",\"type\":\"CDSView\"}},\"id\":\"595676d1-425e-441e-84bf-1d4dfea4e164\",\"type\":\"GlyphRenderer\"},{\"attributes\":{\"data_source\":{\"id\":\"ead0f27b-5a3e-43fb-aa2d-a18521f1b4ff\",\"type\":\"ColumnDataSource\"},\"glyph\":{\"id\":\"df52f09f-9b93-44e1-aa4a-43f5f6d0ff64\",\"type\":\"Line\"},\"hover_glyph\":null,\"muted_glyph\":null,\"nonselection_glyph\":{\"id\":\"34112c15-9d1e-4190-876b-6ec26427eb94\",\"type\":\"Line\"},\"selection_glyph\":null,\"view\":{\"id\":\"1fb58316-c5d1-45f4-97be-dda861da38ba\",\"type\":\"CDSView\"}},\"id\":\"9b6ff093-085f-4a2d-8ce2-0198f4a890be\",\"type\":\"GlyphRenderer\"},{\"attributes\":{\"line_alpha\":0.6,\"line_color\":\"#e41a1c\",\"line_dash\":[6],\"line_width\":5,\"x\":{\"field\":\"x\"},\"y\":{\"field\":\"y\"}},\"id\":\"e262f70c-8962-476f-9e5c-26d82b9d9e12\",\"type\":\"Line\"},{\"attributes\":{},\"id\":\"5b47800c-2d92-489a-8105-3f7569125eba\",\"type\":\"HelpTool\"},{\"attributes\":{\"callback\":null,\"column_names\":[\"x\",\"y\"],\"data\":{\"x\":{\"__ndarray__\":\"aKqhbdC1eD+ze8qMp155Pw9Ia9XE0no/6LtvcBtPfD8A9UWnk859P0qhgzwNUX8/gYP0pjtrgD8cJWANgi+BP0YtAzo/9YE/XC2Wu0a8gj/WE4Z38oaDPwCFZmdYUYQ/hHOkv6kdhT9ltUsFWCSGPyVlJrkp1ok/oGPHdIjNkD923hkeCZyVP/FKdKr+1Jo/r01ibJU9oD9icc+LZSyjP7flcm+9Z6Y/qQmn2k9xqT9lvhG/iW6qP0HLhhEuOqk/J00ilu4spz8fNVHPf3WkP70TNyJ3n6E/fW4U6MWrnT8j2UVpmDSYP2t8q0Ik4JI/GnFw2dNniz+1mYANWHiBP/KUsHMT2m8/eBKE5hQPQb+uxvTXoNp2v/DevdpLvoa/sLWOWHFEjr+LQhpvFUaOv1MNw5NS2om/IYV11vyuhb/8ZwCBZMCBvxZKgs4t9nu/I0Ip/7aFdL/kFYr+a7dqv00l9Ikhjlm/EaEABP9LEz92IYbOJ5xbP5onQE1m0mo/3gdb5OS9cz/k6a1sL815P6JPzv6b538/F9WWQcvvgj+aA4Z329GFP4J7tahQrYg/pNUvgCKEiz8XsR6M/EWOP5TOfmPafpA/dP+Fm9TbkT/GE+ubziqTP+8TOHdKd5Q/bF04AR65lT9Y7XgUqdeWP/7D8yEK15c//GzckgCkmD9a9zk8EFKZP+xW5FL7Bpo/ZUqD1bPEmj/uL1sjpKSbPxxbfaRpkZw/SuOxDT6HnT/khaKw84WeP9jZVEFze58/wjrYGgY+oD+KBnq/CbmgP/UnLNPhOKE/\",\"dtype\":\"float64\",\"shape\":[75]},\"y\":{\"__ndarray__\":\"GhExyth1ND/Sv8nbtpRIP2vylNV0PVE/aTum7souWD/At0SJ8fVgPw3Iuahxymc/MSNhhJWvcD/bTfBN02d3P2zb5nxnaoA/CD5h5MAGhz8NmeH1TyaQP+zrCsc9p5Y/LbKd76fGnz/bLW5ISEmmPww9YvTcQq8/JV2OstnstT8Er5Y7M8G+P0c+r3jqkcU/5h99k6ZBzj88bCIzFzjVP4enV8oyxN0//yH99nXg5D8qOpLLf0jtP5kqGJXUifQ/c9cS8kHP/D+/DpwzojQEQIEmwoanVwxA4lgXt9HgE0BSSZ2AJuIbQAMJih9jjiNA5q4l5INuK0AwTKYKRj0zQNv5fmq8/DpAaCJseHrtQkB/+zpwzoxKQM3MzMzMeFJAZmZmZmZqWEAAAAAAAFxeQM3MzMzMJmJAmpmZmZkfZUBmZmZmZhhoQDMzMzMzEWtAAAAAAAAKbkBmZmZmZoFwQM3MzMzM/XFAMzMzMzN6c0CamZmZmfZ0QAAAAAAAc3ZAZmZmZmbvd0DNzMzMzGt5QDMzMzMz6HpAmpmZmZlkfEAAAAAAAOF9QGZmZmZmXX9AZmZmZuZsgECamZmZGSuBQM3MzMxM6YFAAAAAAICngkAzMzMzs2WDQGZmZmbmI4RAmpmZmRnihEDNzMzMTKCFQAAAAACAXoZAMzMzM7Mch0BmZmZm5tqHQJqZmZkZmYhAzczMzExXiUAAAAAAgBWKQDMzMzOz04pAZmZmZuaRi0CamZmZGVCMQM3MzMxMDo1AAAAAAIDMjUAzMzMzs4qOQGZmZmbmSI9A\",\"dtype\":\"float64\",\"shape\":[75]}}},\"id\":\"220d92e9-7ed5-4a16-826a-15aeecd35b12\",\"type\":\"ColumnDataSource\"},{\"attributes\":{\"line_alpha\":0.1,\"line_color\":\"#1f77b4\",\"line_width\":1.5,\"x\":{\"field\":\"x\"},\"y\":{\"field\":\"y\"}},\"id\":\"7ea56112-7224-46f0-9f73-cbcc247b90b9\",\"type\":\"Line\"},{\"attributes\":{\"bottom_units\":\"screen\",\"fill_alpha\":{\"value\":0.5},\"fill_color\":{\"value\":\"lightgrey\"},\"left_units\":\"screen\",\"level\":\"overlay\",\"line_alpha\":{\"value\":1.0},\"line_color\":{\"value\":\"black\"},\"line_dash\":[4,4],\"line_width\":{\"value\":2},\"plot\":null,\"render_mode\":\"css\",\"right_units\":\"screen\",\"top_units\":\"screen\"},\"id\":\"0b2758d6-5fe9-4d7a-ab1c-bd044f7ec864\",\"type\":\"BoxAnnotation\"},{\"attributes\":{\"fill_alpha\":{\"value\":0.7},\"fill_color\":{\"value\":\"#4daf4a\"},\"line_alpha\":{\"value\":0.7},\"line_color\":{\"value\":\"#4daf4a\"},\"x\":{\"field\":\"x\"},\"y\":{\"field\":\"y\"}},\"id\":\"fa26b757-7dbf-4dcf-a7e6-465e8f9f95b7\",\"type\":\"Circle\"},{\"attributes\":{\"callback\":null,\"column_names\":[\"x\",\"y\"],\"data\":{\"x\":{\"__ndarray__\":\"2UPIZxxkXj+vvg1zesVgPzNU6dFSBWQ/xHCWV8xWZz+TWVu+V7BqPyQ6ms4GDG4/VDAfEnu2cD9NPqXi+WdyPyATu8JzGXQ/lUKe8f3MdT9yrJCUIml3PyjOltII9Hg/KN15TrFkej+GgT2WXTh8Pyxuccd67oE/gnq06tMnij+v2k6+TT2SPzv+BktHyZc/YItNk2i1nT8/BY2HYQGiP1ZnmWvvWKU/nNMTM06FqD8bToe4s1upP4iH3H6MyKc/fpWVic9bpT9tm76r2VuiP6l2pP+H6Z4/bDyM1HG4mT8qntvNURyVP4JvRD6C95A/yoPbd5g4ij/Zq2/nGbeCP1ZJAhrOOHY/lV/hwMZeWD9l4u+CvOpuvyoxwB8tt4S/vvonobzbjb9hYZ03CTaOv5lcox3rbYm/zhDsyvckhb8BoIVi/S+Bv0lg6mVf63q/egOU0qjKc78rPpZrPuhpvzRzNz5JcFm/+Ws1/Gu42D7DHJM1CeZYP554pypIhmg/ZCWsZaAmcj8sQs1qY+d3P2A0Fa1WiX0/meDJJ9qHgT/AmRBiiz6EP45kFYoC6oY/G/R/8JyLiT+zRpNEXCSMP2GF2r18tY4/9cts/+afkD8dCs/mmeCRP2YzkRaKG5M//rtSV71KlD9Et/mnnV+VP2pkQ3ZfR5Y/JorhAZ39lj9GEj4NeJaXP/+ZilIXMJg/qaq06/zgmD+r56T3ja+ZPye0f3pAlJo/RA/sYBOFmz/IqFsL7XucP8aNYIWJdp0/rNYGSrFznj8+snKVEnWfP6PrX+USP6A/\",\"dtype\":\"float64\",\"shape\":[75]},\"y\":{\"__ndarray__\":\"GhExyth1ND/Sv8nbtpRIP2vylNV0PVE/aTum7souWD/At0SJ8fVgPw3Iuahxymc/MSNhhJWvcD/bTfBN02d3P2zb5nxnaoA/CD5h5MAGhz8NmeH1TyaQP+zrCsc9p5Y/LbKd76fGnz/bLW5ISEmmPww9YvTcQq8/JV2OstnstT8Er5Y7M8G+P0c+r3jqkcU/5h99k6ZBzj88bCIzFzjVP4enV8oyxN0//yH99nXg5D8qOpLLf0jtP5kqGJXUifQ/c9cS8kHP/D+/DpwzojQEQIEmwoanVwxA4lgXt9HgE0BSSZ2AJuIbQAMJih9jjiNA5q4l5INuK0AwTKYKRj0zQNv5fmq8/DpAaCJseHrtQkB/+zpwzoxKQM3MzMzMeFJAZmZmZmZqWEAAAAAAAFxeQM3MzMzMJmJAmpmZmZkfZUBmZmZmZhhoQDMzMzMzEWtAAAAAAAAKbkBmZmZmZoFwQM3MzMzM/XFAMzMzMzN6c0CamZmZmfZ0QAAAAAAAc3ZAZmZmZmbvd0DNzMzMzGt5QDMzMzMz6HpAmpmZmZlkfEAAAAAAAOF9QGZmZmZmXX9AZmZmZuZsgECamZmZGSuBQM3MzMxM6YFAAAAAAICngkAzMzMzs2WDQGZmZmbmI4RAmpmZmRnihEDNzMzMTKCFQAAAAACAXoZAMzMzM7Mch0BmZmZm5tqHQJqZmZkZmYhAzczMzExXiUAAAAAAgBWKQDMzMzOz04pAZmZmZuaRi0CamZmZGVCMQM3MzMxMDo1AAAAAAIDMjUAzMzMzs4qOQGZmZmbmSI9A\",\"dtype\":\"float64\",\"shape\":[75]}}},\"id\":\"a5187f48-f756-49e8-b091-55e12b335de7\",\"type\":\"ColumnDataSource\"},{\"attributes\":{\"callback\":null,\"column_names\":[\"x\",\"y\"],\"data\":{\"x\":{\"__ndarray__\":\"2UPIZxxkXj+vvg1zesVgPzNU6dFSBWQ/xHCWV8xWZz+TWVu+V7BqPyQ6ms4GDG4/VDAfEnu2cD9NPqXi+WdyPyATu8JzGXQ/lUKe8f3MdT9yrJCUIml3PyjOltII9Hg/KN15TrFkej+GgT2WXTh8Pyxuccd67oE/gnq06tMnij+v2k6+TT2SPzv+BktHyZc/YItNk2i1nT8/BY2HYQGiP1ZnmWvvWKU/nNMTM06FqD8bToe4s1upP4iH3H6MyKc/fpWVic9bpT9tm76r2VuiP6l2pP+H6Z4/bDyM1HG4mT8qntvNURyVP4JvRD6C95A/yoPbd5g4ij/Zq2/nGbeCP1ZJAhrOOHY/lV/hwMZeWD9l4u+CvOpuvyoxwB8tt4S/vvonobzbjb9hYZ03CTaOv5lcox3rbYm/zhDsyvckhb8BoIVi/S+Bv0lg6mVf63q/egOU0qjKc78rPpZrPuhpvzRzNz5JcFm/+Ws1/Gu42D7DHJM1CeZYP554pypIhmg/ZCWsZaAmcj8sQs1qY+d3P2A0Fa1WiX0/meDJJ9qHgT/AmRBiiz6EP45kFYoC6oY/G/R/8JyLiT+zRpNEXCSMP2GF2r18tY4/9cts/+afkD8dCs/mmeCRP2YzkRaKG5M//rtSV71KlD9Et/mnnV+VP2pkQ3ZfR5Y/JorhAZ39lj9GEj4NeJaXP/+ZilIXMJg/qaq06/zgmD+r56T3ja+ZPye0f3pAlJo/RA/sYBOFmz/IqFsL7XucP8aNYIWJdp0/rNYGSrFznj8+snKVEnWfP6PrX+USP6A/\",\"dtype\":\"float64\",\"shape\":[75]},\"y\":{\"__ndarray__\":\"GhExyth1ND/Sv8nbtpRIP2vylNV0PVE/aTum7souWD/At0SJ8fVgPw3Iuahxymc/MSNhhJWvcD/bTfBN02d3P2zb5nxnaoA/CD5h5MAGhz8NmeH1TyaQP+zrCsc9p5Y/LbKd76fGnz/bLW5ISEmmPww9YvTcQq8/JV2OstnstT8Er5Y7M8G+P0c+r3jqkcU/5h99k6ZBzj88bCIzFzjVP4enV8oyxN0//yH99nXg5D8qOpLLf0jtP5kqGJXUifQ/c9cS8kHP/D+/DpwzojQEQIEmwoanVwxA4lgXt9HgE0BSSZ2AJuIbQAMJih9jjiNA5q4l5INuK0AwTKYKRj0zQNv5fmq8/DpAaCJseHrtQkB/+zpwzoxKQM3MzMzMeFJAZmZmZmZqWEAAAAAAAFxeQM3MzMzMJmJAmpmZmZkfZUBmZmZmZhhoQDMzMzMzEWtAAAAAAAAKbkBmZmZmZoFwQM3MzMzM/XFAMzMzMzN6c0CamZmZmfZ0QAAAAAAAc3ZAZmZmZmbvd0DNzMzMzGt5QDMzMzMz6HpAmpmZmZlkfEAAAAAAAOF9QGZmZmZmXX9AZmZmZuZsgECamZmZGSuBQM3MzMxM6YFAAAAAAICngkAzMzMzs2WDQGZmZmbmI4RAmpmZmRnihEDNzMzMTKCFQAAAAACAXoZAMzMzM7Mch0BmZmZm5tqHQJqZmZkZmYhAzczMzExXiUAAAAAAgBWKQDMzMzOz04pAZmZmZuaRi0CamZmZGVCMQM3MzMxMDo1AAAAAAIDMjUAzMzMzs4qOQGZmZmbmSI9A\",\"dtype\":\"float64\",\"shape\":[75]}}},\"id\":\"6ccef13d-1942-418b-affa-7a3586b82616\",\"type\":\"ColumnDataSource\"},{\"attributes\":{\"data_source\":{\"id\":\"67e40eb7-83c5-4d31-81d5-78637b0220fb\",\"type\":\"ColumnDataSource\"},\"glyph\":{\"id\":\"e262f70c-8962-476f-9e5c-26d82b9d9e12\",\"type\":\"Line\"},\"hover_glyph\":null,\"muted_glyph\":null,\"nonselection_glyph\":{\"id\":\"f683954f-5642-4ce1-8c02-01be2027efcf\",\"type\":\"Line\"},\"selection_glyph\":null,\"view\":{\"id\":\"c21e2976-a1ef-43df-9fc9-d7c45865bc61\",\"type\":\"CDSView\"}},\"id\":\"c7f427c6-0563-49ca-8696-a01ca097bcfe\",\"type\":\"GlyphRenderer\"},{\"attributes\":{\"source\":{\"id\":\"6ccef13d-1942-418b-affa-7a3586b82616\",\"type\":\"ColumnDataSource\"}},\"id\":\"44698a8e-55c1-44bf-a397-46e4f2ae370f\",\"type\":\"CDSView\"},{\"attributes\":{},\"id\":\"0347926d-d6ed-43c0-b3f0-bee3bb9f4b99\",\"type\":\"BasicTickFormatter\"},{\"attributes\":{\"ticker\":null},\"id\":\"e0706e4e-2874-47f7-a365-b7848577cfb0\",\"type\":\"LogTickFormatter\"},{\"attributes\":{\"callback\":null,\"column_names\":[\"x\",\"y\"],\"data\":{\"x\":{\"__ndarray__\":\"2UPIZxxkXj+vvg1zesVgPzNU6dFSBWQ/xHCWV8xWZz+TWVu+V7BqPyQ6ms4GDG4/VDAfEnu2cD9NPqXi+WdyPyATu8JzGXQ/lUKe8f3MdT9yrJCUIml3PyjOltII9Hg/KN15TrFkej+GgT2WXTh8Pyxuccd67oE/gnq06tMnij+v2k6+TT2SPzv+BktHyZc/YItNk2i1nT8/BY2HYQGiP1ZnmWvvWKU/nNMTM06FqD8bToe4s1upP4iH3H6MyKc/fpWVic9bpT9tm76r2VuiP6l2pP+H6Z4/bDyM1HG4mT8qntvNURyVP4JvRD6C95A/yoPbd5g4ij/Zq2/nGbeCP1ZJAhrOOHY/lV/hwMZeWD9l4u+CvOpuvyoxwB8tt4S/vvonobzbjb9hYZ03CTaOv5lcox3rbYm/zhDsyvckhb8BoIVi/S+Bv0lg6mVf63q/egOU0qjKc78rPpZrPuhpvzRzNz5JcFm/+Ws1/Gu42D7DHJM1CeZYP554pypIhmg/ZCWsZaAmcj8sQs1qY+d3P2A0Fa1WiX0/meDJJ9qHgT/AmRBiiz6EP45kFYoC6oY/G/R/8JyLiT+zRpNEXCSMP2GF2r18tY4/9cts/+afkD8dCs/mmeCRP2YzkRaKG5M//rtSV71KlD9Et/mnnV+VP2pkQ3ZfR5Y/JorhAZ39lj9GEj4NeJaXP/+ZilIXMJg/qaq06/zgmD+r56T3ja+ZPye0f3pAlJo/RA/sYBOFmz/IqFsL7XucP8aNYIWJdp0/rNYGSrFznj8+snKVEnWfP6PrX+USP6A/\",\"dtype\":\"float64\",\"shape\":[75]},\"y\":{\"__ndarray__\":\"GhExyth1ND/Sv8nbtpRIP2vylNV0PVE/aTum7souWD/At0SJ8fVgPw3Iuahxymc/MSNhhJWvcD/bTfBN02d3P2zb5nxnaoA/CD5h5MAGhz8NmeH1TyaQP+zrCsc9p5Y/LbKd76fGnz/bLW5ISEmmPww9YvTcQq8/JV2OstnstT8Er5Y7M8G+P0c+r3jqkcU/5h99k6ZBzj88bCIzFzjVP4enV8oyxN0//yH99nXg5D8qOpLLf0jtP5kqGJXUifQ/c9cS8kHP/D+/DpwzojQEQIEmwoanVwxA4lgXt9HgE0BSSZ2AJuIbQAMJih9jjiNA5q4l5INuK0AwTKYKRj0zQNv5fmq8/DpAaCJseHrtQkB/+zpwzoxKQM3MzMzMeFJAZmZmZmZqWEAAAAAAAFxeQM3MzMzMJmJAmpmZmZkfZUBmZmZmZhhoQDMzMzMzEWtAAAAAAAAKbkBmZmZmZoFwQM3MzMzM/XFAMzMzMzN6c0CamZmZmfZ0QAAAAAAAc3ZAZmZmZmbvd0DNzMzMzGt5QDMzMzMz6HpAmpmZmZlkfEAAAAAAAOF9QGZmZmZmXX9AZmZmZuZsgECamZmZGSuBQM3MzMxM6YFAAAAAAICngkAzMzMzs2WDQGZmZmbmI4RAmpmZmRnihEDNzMzMTKCFQAAAAACAXoZAMzMzM7Mch0BmZmZm5tqHQJqZmZkZmYhAzczMzExXiUAAAAAAgBWKQDMzMzOz04pAZmZmZuaRi0CamZmZGVCMQM3MzMxMDo1AAAAAAIDMjUAzMzMzs4qOQGZmZmbmSI9A\",\"dtype\":\"float64\",\"shape\":[75]}}},\"id\":\"c2be5956-278b-4005-a56e-cebaacbf99d0\",\"type\":\"ColumnDataSource\"},{\"attributes\":{\"line_color\":\"#4daf4a\",\"line_width\":1.5,\"x\":{\"field\":\"x\"},\"y\":{\"field\":\"y\"}},\"id\":\"23681889-ed3c-46db-924b-cc0da0554525\",\"type\":\"Line\"},{\"attributes\":{\"overlay\":{\"id\":\"0b2758d6-5fe9-4d7a-ab1c-bd044f7ec864\",\"type\":\"BoxAnnotation\"}},\"id\":\"926cef2b-8995-439c-99fb-4f2bfa7fd87d\",\"type\":\"BoxZoomTool\"},{\"attributes\":{\"callback\":null,\"column_names\":[\"x\",\"y\"],\"data\":{\"x\":{\"__ndarray__\":\"aKqhbdC1eD+ze8qMp155Pw9Ia9XE0no/6LtvcBtPfD8A9UWnk859P0qhgzwNUX8/gYP0pjtrgD8cJWANgi+BP0YtAzo/9YE/XC2Wu0a8gj/WE4Z38oaDPwCFZmdYUYQ/hHOkv6kdhT9ltUsFWCSGPyVlJrkp1ok/oGPHdIjNkD923hkeCZyVP/FKdKr+1Jo/r01ibJU9oD9icc+LZSyjP7flcm+9Z6Y/qQmn2k9xqT9lvhG/iW6qP0HLhhEuOqk/J00ilu4spz8fNVHPf3WkP70TNyJ3n6E/fW4U6MWrnT8j2UVpmDSYP2t8q0Ik4JI/GnFw2dNniz+1mYANWHiBP/KUsHMT2m8/eBKE5hQPQb+uxvTXoNp2v/DevdpLvoa/sLWOWHFEjr+LQhpvFUaOv1MNw5NS2om/IYV11vyuhb/8ZwCBZMCBvxZKgs4t9nu/I0Ip/7aFdL/kFYr+a7dqv00l9Ikhjlm/EaEABP9LEz92IYbOJ5xbP5onQE1m0mo/3gdb5OS9cz/k6a1sL815P6JPzv6b538/F9WWQcvvgj+aA4Z329GFP4J7tahQrYg/pNUvgCKEiz8XsR6M/EWOP5TOfmPafpA/dP+Fm9TbkT/GE+ubziqTP+8TOHdKd5Q/bF04AR65lT9Y7XgUqdeWP/7D8yEK15c//GzckgCkmD9a9zk8EFKZP+xW5FL7Bpo/ZUqD1bPEmj/uL1sjpKSbPxxbfaRpkZw/SuOxDT6HnT/khaKw84WeP9jZVEFze58/wjrYGgY+oD+KBnq/CbmgP/UnLNPhOKE/\",\"dtype\":\"float64\",\"shape\":[75]},\"y\":{\"__ndarray__\":\"GhExyth1ND/Sv8nbtpRIP2vylNV0PVE/aTum7souWD/At0SJ8fVgPw3Iuahxymc/MSNhhJWvcD/bTfBN02d3P2zb5nxnaoA/CD5h5MAGhz8NmeH1TyaQP+zrCsc9p5Y/LbKd76fGnz/bLW5ISEmmPww9YvTcQq8/JV2OstnstT8Er5Y7M8G+P0c+r3jqkcU/5h99k6ZBzj88bCIzFzjVP4enV8oyxN0//yH99nXg5D8qOpLLf0jtP5kqGJXUifQ/c9cS8kHP/D+/DpwzojQEQIEmwoanVwxA4lgXt9HgE0BSSZ2AJuIbQAMJih9jjiNA5q4l5INuK0AwTKYKRj0zQNv5fmq8/DpAaCJseHrtQkB/+zpwzoxKQM3MzMzMeFJAZmZmZmZqWEAAAAAAAFxeQM3MzMzMJmJAmpmZmZkfZUBmZmZmZhhoQDMzMzMzEWtAAAAAAAAKbkBmZmZmZoFwQM3MzMzM/XFAMzMzMzN6c0CamZmZmfZ0QAAAAAAAc3ZAZmZmZmbvd0DNzMzMzGt5QDMzMzMz6HpAmpmZmZlkfEAAAAAAAOF9QGZmZmZmXX9AZmZmZuZsgECamZmZGSuBQM3MzMxM6YFAAAAAAICngkAzMzMzs2WDQGZmZmbmI4RAmpmZmRnihEDNzMzMTKCFQAAAAACAXoZAMzMzM7Mch0BmZmZm5tqHQJqZmZkZmYhAzczMzExXiUAAAAAAgBWKQDMzMzOz04pAZmZmZuaRi0CamZmZGVCMQM3MzMxMDo1AAAAAAIDMjUAzMzMzs4qOQGZmZmbmSI9A\",\"dtype\":\"float64\",\"shape\":[75]}}},\"id\":\"50ca8d44-9c8f-4cea-8402-ab9b006c5bc4\",\"type\":\"ColumnDataSource\"},{\"attributes\":{\"data_source\":{\"id\":\"a5187f48-f756-49e8-b091-55e12b335de7\",\"type\":\"ColumnDataSource\"},\"glyph\":{\"id\":\"23681889-ed3c-46db-924b-cc0da0554525\",\"type\":\"Line\"},\"hover_glyph\":null,\"muted_glyph\":null,\"nonselection_glyph\":{\"id\":\"7ea56112-7224-46f0-9f73-cbcc247b90b9\",\"type\":\"Line\"},\"selection_glyph\":null,\"view\":{\"id\":\"4183dda1-0e86-4fca-ac15-12df889ea923\",\"type\":\"CDSView\"}},\"id\":\"2429bf03-a23a-46a3-9a2f-cda00360d7e4\",\"type\":\"GlyphRenderer\"},{\"attributes\":{\"source\":{\"id\":\"220d92e9-7ed5-4a16-826a-15aeecd35b12\",\"type\":\"ColumnDataSource\"}},\"id\":\"0a09edc5-a771-4694-894c-8c3d5b587cb5\",\"type\":\"CDSView\"},{\"attributes\":{\"line_alpha\":0.1,\"line_color\":\"#1f77b4\",\"line_width\":1.5,\"x\":{\"field\":\"x\"},\"y\":{\"field\":\"y\"}},\"id\":\"34112c15-9d1e-4190-876b-6ec26427eb94\",\"type\":\"Line\"},{\"attributes\":{\"source\":{\"id\":\"a5187f48-f756-49e8-b091-55e12b335de7\",\"type\":\"ColumnDataSource\"}},\"id\":\"4183dda1-0e86-4fca-ac15-12df889ea923\",\"type\":\"CDSView\"},{\"attributes\":{},\"id\":\"1a8dc191-f63c-4d10-b72b-a639d14f49f4\",\"type\":\"SaveTool\"},{\"attributes\":{\"callback\":null,\"column_names\":[\"x\",\"y\"],\"data\":{\"x\":{\"__ndarray__\":\"pf6iTdM8ez+V6DQkUdx7PwwpYG7ANn0/L8TdZS6Mfj/XcUQC++R/P9uBZtNyoIA/LjSgLYpPgT8NxPluzwCCP6WGSuQBs4I/P1pu+eBmgz9MESbutBqEPx4HpwMuz4Q/Y9NZTL2FhT+MW6nA+W+GP3BioweZv4k/VkuQynpVkD9WoPotWK+UPwq/s8GyZ5k/Uhmjzgx9nj9zaeUmtvehP0lLUoo34aQ/nVoO2Purpz+6ORtGz5qoP3r09k+Glqc/2WBsF1bOpT9EyolVB2mjPwg5far74aA/ZiTThX7EnD+I+u2D3cSXP4lSA0xnx5I/VP5IIESDiz8UxtlnI42BP7spC321RW8/flNP0YuqSb81XcuE2EJ4vz6m7RPLI4e/ZbGbuYo8jr9IeQ6ufkGOv6vdEXbTK4q/8EuxLmQxhr/Hrq3S71iCvx9F+gVkPH2/O4L+9yX4db8DGWlBIshtv6p+vbR881+/DZa7MBTqM7/hi2Dv/1RVP5G3xiqYhmc/Mmx9okUOcj8tEf612zZ4P/baDjvDPH4/aVoIiMcSgj86kpaNePmEPxdSwm/q04c/wsc3Rnicij8qulEL9VmNP1uvJqVZBpA/0b+6sIlakT+ni9oeOamSP1ORr6mY75M/qLVwJpQolT+zLUIylkmWPzZUuisjRJc/OWC6vWIVmD/0K3VHAc2YP+pRb0jOgpk/FRHNVVZHmj/4KmR0YSCbPyEriBnLCJw/zm7cS+L4nD8FWJWRO+udPzFT9VNl3Z4/Tg0ivLfOnz/o+ACOUV+gP7XTrsCS1qA/\",\"dtype\":\"float64\",\"shape\":[75]},\"y\":{\"__ndarray__\":\"S/O/Q+51ND/Sv8nbtpRIP2vylNV0PVE/aTum7souWD/At0SJ8fVgPw3Iuahxymc/MSNhhJWvcD/bTfBN02d3P2zb5nxnaoA/CD5h5MAGhz8NmeH1TyaQP+zrCsc9p5Y/LbKd76fGnz/bLW5ISEmmPww9YvTcQq8/JV2OstnstT8Er5Y7M8G+P0c+r3jqkcU/5h99k6ZBzj88bCIzFzjVP4enV8oyxN0//yH99nXg5D8qOpLLf0jtP5kqGJXUifQ/c9cS8kHP/D+/DpwzojQEQIEmwoanVwxA4lgXt9HgE0BSSZ2AJuIbQAMJih9jjiNA5q4l5INuK0AwTKYKRj0zQNv5fmq8/DpAaCJseHrtQkB/+zpwzoxKQM3MzMzMeFJAZmZmZmZqWEAAAAAAAFxeQM3MzMzMJmJAmpmZmZkfZUBmZmZmZhhoQDMzMzMzEWtAAAAAAAAKbkBmZmZmZoFwQM3MzMzM/XFAMzMzMzN6c0CamZmZmfZ0QAAAAAAAc3ZAZmZmZmbvd0DNzMzMzGt5QDMzMzMz6HpAmpmZmZlkfEAAAAAAAOF9QGZmZmZmXX9AZmZmZuZsgECamZmZGSuBQM3MzMxM6YFAAAAAAICngkAzMzMzs2WDQGZmZmbmI4RAmpmZmRnihEDNzMzMTKCFQAAAAACAXoZAMzMzM7Mch0BmZmZm5tqHQJqZmZkZmYhAzczMzExXiUAAAAAAgBWKQDMzMzOz04pAZmZmZuaRi0CamZmZGVCMQM3MzMxMDo1AAAAAAIDMjUAzMzMzs4qOQGZmZmbmSI9A\",\"dtype\":\"float64\",\"shape\":[75]}}},\"id\":\"67e40eb7-83c5-4d31-81d5-78637b0220fb\",\"type\":\"ColumnDataSource\"},{\"attributes\":{\"fill_alpha\":{\"value\":0.7},\"fill_color\":{\"value\":\"#984ea3\"},\"line_alpha\":{\"value\":0.7},\"line_color\":{\"value\":\"#984ea3\"},\"x\":{\"field\":\"x\"},\"y\":{\"field\":\"y\"}},\"id\":\"59ed353b-3135-4ee5-b286-b986e77873f0\",\"type\":\"Square\"},{\"attributes\":{\"callback\":null,\"end\":0.0522886555616,\"start\":-0.0154461786016},\"id\":\"d829251c-9e9f-45a1-953b-cc4a7e48c4a3\",\"type\":\"Range1d\"},{\"attributes\":{\"line_alpha\":0.6,\"line_color\":\"#984ea3\",\"line_width\":3,\"x\":{\"field\":\"x\"},\"y\":{\"field\":\"y\"}},\"id\":\"2f8c67af-e19e-4804-bd9d-8b874038f5cc\",\"type\":\"Line\"},{\"attributes\":{\"source\":{\"id\":\"50ca8d44-9c8f-4cea-8402-ab9b006c5bc4\",\"type\":\"ColumnDataSource\"}},\"id\":\"540aa089-a7a8-4e60-a0b5-a801a8defac9\",\"type\":\"CDSView\"},{\"attributes\":{\"fill_alpha\":{\"value\":0.7},\"fill_color\":{\"value\":\"#4daf4a\"},\"line_alpha\":{\"value\":0.7},\"line_color\":{\"value\":\"#4daf4a\"},\"x\":{\"field\":\"x\"},\"y\":{\"field\":\"y\"}},\"id\":\"b388d964-ede7-4707-b9f9-0a7273a901c6\",\"type\":\"Circle\"},{\"attributes\":{\"fill_alpha\":{\"value\":0.1},\"fill_color\":{\"value\":\"#1f77b4\"},\"line_alpha\":{\"value\":0.1},\"line_color\":{\"value\":\"#1f77b4\"},\"x\":{\"field\":\"x\"},\"y\":{\"field\":\"y\"}},\"id\":\"6ab4df91-2e04-4a96-915f-2a78f6564678\",\"type\":\"Square\"},{\"attributes\":{\"data_source\":{\"id\":\"220d92e9-7ed5-4a16-826a-15aeecd35b12\",\"type\":\"ColumnDataSource\"},\"glyph\":{\"id\":\"59ed353b-3135-4ee5-b286-b986e77873f0\",\"type\":\"Square\"},\"hover_glyph\":null,\"muted_glyph\":null,\"nonselection_glyph\":{\"id\":\"6ab4df91-2e04-4a96-915f-2a78f6564678\",\"type\":\"Square\"},\"selection_glyph\":null,\"view\":{\"id\":\"0a09edc5-a771-4694-894c-8c3d5b587cb5\",\"type\":\"CDSView\"}},\"id\":\"80555e32-e547-48b1-847c-99e9dcb6428d\",\"type\":\"GlyphRenderer\"},{\"attributes\":{\"items\":[{\"id\":\"25dece32-13f8-4606-8cf2-64f32a4dcf6a\",\"type\":\"LegendItem\"},{\"id\":\"281da0d3-a16b-4864-aad8-6d292f5f9185\",\"type\":\"LegendItem\"},{\"id\":\"2b06c7bc-50ae-47ea-839c-f748e31d6e07\",\"type\":\"LegendItem\"}],\"label_text_font_size\":{\"value\":\"8pt\"},\"location\":[10,-30],\"plot\":{\"id\":\"afb3d424-6de9-41e7-9a62-2ea6ae8683fc\",\"subtype\":\"Figure\",\"type\":\"Plot\"}},\"id\":\"e5e44976-4f4b-4dec-885f-d61a24e9c21a\",\"type\":\"Legend\"},{\"attributes\":{\"toolbar\":{\"id\":\"0997ca73-1149-4b5f-b49a-b2ac5d4e9cd5\",\"type\":\"ProxyToolbar\"},\"toolbar_location\":\"above\"},\"id\":\"adc874c1-b12c-4e4c-b7bc-97565baf58c5\",\"type\":\"ToolbarBox\"},{\"attributes\":{\"line_alpha\":0.1,\"line_color\":\"#1f77b4\",\"line_width\":3,\"x\":{\"field\":\"x\"},\"y\":{\"field\":\"y\"}},\"id\":\"68ef1747-b01b-4cd4-b110-902ee3732a30\",\"type\":\"Line\"},{\"attributes\":{\"data_source\":{\"id\":\"50ca8d44-9c8f-4cea-8402-ab9b006c5bc4\",\"type\":\"ColumnDataSource\"},\"glyph\":{\"id\":\"2f8c67af-e19e-4804-bd9d-8b874038f5cc\",\"type\":\"Line\"},\"hover_glyph\":null,\"muted_glyph\":null,\"nonselection_glyph\":{\"id\":\"68ef1747-b01b-4cd4-b110-902ee3732a30\",\"type\":\"Line\"},\"selection_glyph\":null,\"view\":{\"id\":\"540aa089-a7a8-4e60-a0b5-a801a8defac9\",\"type\":\"CDSView\"}},\"id\":\"57234894-ee2a-4d52-8df1-9db1a5d781b9\",\"type\":\"GlyphRenderer\"},{\"attributes\":{\"source\":{\"id\":\"8d063a9d-9b2f-4519-82ce-4cf9ba238cf5\",\"type\":\"ColumnDataSource\"}},\"id\":\"18f18464-5e17-4f6e-bfc0-a6b2a0fc21d2\",\"type\":\"CDSView\"},{\"attributes\":{\"label\":{\"value\":\"CRD\"},\"renderers\":[{\"id\":\"54766533-72ac-4b31-ad8a-c5270222bafb\",\"type\":\"GlyphRenderer\"},{\"id\":\"2429bf03-a23a-46a3-9a2f-cda00360d7e4\",\"type\":\"GlyphRenderer\"}]},\"id\":\"281da0d3-a16b-4864-aad8-6d292f5f9185\",\"type\":\"LegendItem\"},{\"attributes\":{\"children\":[{\"id\":\"adc874c1-b12c-4e4c-b7bc-97565baf58c5\",\"type\":\"ToolbarBox\"},{\"id\":\"5fd1bd8b-e35c-44d7-bfd0-5e49706dc490\",\"type\":\"Column\"}]},\"id\":\"f92de937-e13c-49d5-a1b3-80b0ddbaa1a6\",\"type\":\"Column\"},{\"attributes\":{\"label\":{\"value\":\"CLIRAD `coolr_bands`\"},\"renderers\":[{\"id\":\"c7f427c6-0563-49ca-8696-a01ca097bcfe\",\"type\":\"GlyphRenderer\"}]},\"id\":\"25dece32-13f8-4606-8cf2-64f32a4dcf6a\",\"type\":\"LegendItem\"},{\"attributes\":{\"line_alpha\":0.6,\"line_color\":\"#e41a1c\",\"line_dash\":[6],\"line_width\":5,\"x\":{\"field\":\"x\"},\"y\":{\"field\":\"y\"}},\"id\":\"8a527bf4-0cb0-4a4f-96f9-e50ff2e60702\",\"type\":\"Line\"},{\"attributes\":{\"callback\":null,\"column_names\":[\"x\",\"y\"],\"data\":{\"x\":{\"__ndarray__\":\"2UPIZxxkXj+vvg1zesVgPzNU6dFSBWQ/xHCWV8xWZz+TWVu+V7BqPyQ6ms4GDG4/VDAfEnu2cD9NPqXi+WdyPyATu8JzGXQ/lUKe8f3MdT9yrJCUIml3PyjOltII9Hg/KN15TrFkej+GgT2WXTh8Pyxuccd67oE/gnq06tMnij+v2k6+TT2SPzv+BktHyZc/YItNk2i1nT8/BY2HYQGiP1ZnmWvvWKU/nNMTM06FqD8bToe4s1upP4iH3H6MyKc/fpWVic9bpT9tm76r2VuiP6l2pP+H6Z4/bDyM1HG4mT8qntvNURyVP4JvRD6C95A/yoPbd5g4ij/Zq2/nGbeCP1ZJAhrOOHY/lV/hwMZeWD9l4u+CvOpuvyoxwB8tt4S/vvonobzbjb9hYZ03CTaOv5lcox3rbYm/zhDsyvckhb8BoIVi/S+Bv0lg6mVf63q/egOU0qjKc78rPpZrPuhpvzRzNz5JcFm/+Ws1/Gu42D7DHJM1CeZYP554pypIhmg/ZCWsZaAmcj8sQs1qY+d3P2A0Fa1WiX0/meDJJ9qHgT/AmRBiiz6EP45kFYoC6oY/G/R/8JyLiT+zRpNEXCSMP2GF2r18tY4/9cts/+afkD8dCs/mmeCRP2YzkRaKG5M//rtSV71KlD9Et/mnnV+VP2pkQ3ZfR5Y/JorhAZ39lj9GEj4NeJaXP/+ZilIXMJg/qaq06/zgmD+r56T3ja+ZPye0f3pAlJo/RA/sYBOFmz/IqFsL7XucP8aNYIWJdp0/rNYGSrFznj8+snKVEnWfP6PrX+USP6A/\",\"dtype\":\"float64\",\"shape\":[75]},\"y\":{\"__ndarray__\":\"GhExyth1ND/Sv8nbtpRIP2vylNV0PVE/aTum7souWD/At0SJ8fVgPw3Iuahxymc/MSNhhJWvcD/bTfBN02d3P2zb5nxnaoA/CD5h5MAGhz8NmeH1TyaQP+zrCsc9p5Y/LbKd76fGnz/bLW5ISEmmPww9YvTcQq8/JV2OstnstT8Er5Y7M8G+P0c+r3jqkcU/5h99k6ZBzj88bCIzFzjVP4enV8oyxN0//yH99nXg5D8qOpLLf0jtP5kqGJXUifQ/c9cS8kHP/D+/DpwzojQEQIEmwoanVwxA4lgXt9HgE0BSSZ2AJuIbQAMJih9jjiNA5q4l5INuK0AwTKYKRj0zQNv5fmq8/DpAaCJseHrtQkB/+zpwzoxKQM3MzMzMeFJAZmZmZmZqWEAAAAAAAFxeQM3MzMzMJmJAmpmZmZkfZUBmZmZmZhhoQDMzMzMzEWtAAAAAAAAKbkBmZmZmZoFwQM3MzMzM/XFAMzMzMzN6c0CamZmZmfZ0QAAAAAAAc3ZAZmZmZmbvd0DNzMzMzGt5QDMzMzMz6HpAmpmZmZlkfEAAAAAAAOF9QGZmZmZmXX9AZmZmZuZsgECamZmZGSuBQM3MzMxM6YFAAAAAAICngkAzMzMzs2WDQGZmZmbmI4RAmpmZmRnihEDNzMzMTKCFQAAAAACAXoZAMzMzM7Mch0BmZmZm5tqHQJqZmZkZmYhAzczMzExXiUAAAAAAgBWKQDMzMzOz04pAZmZmZuaRi0CamZmZGVCMQM3MzMxMDo1AAAAAAIDMjUAzMzMzs4qOQGZmZmbmSI9A\",\"dtype\":\"float64\",\"shape\":[75]}}},\"id\":\"ead0f27b-5a3e-43fb-aa2d-a18521f1b4ff\",\"type\":\"ColumnDataSource\"},{\"attributes\":{},\"id\":\"7f4b1043-0104-4b52-996e-426e7bb50822\",\"type\":\"ResetTool\"},{\"attributes\":{\"line_alpha\":0.1,\"line_color\":\"#1f77b4\",\"line_dash\":[6],\"line_width\":5,\"x\":{\"field\":\"x\"},\"y\":{\"field\":\"y\"}},\"id\":\"f683954f-5642-4ce1-8c02-01be2027efcf\",\"type\":\"Line\"},{\"attributes\":{},\"id\":\"4b65dd84-c6f0-4995-9671-f8e90ea2d037\",\"type\":\"SaveTool\"},{\"attributes\":{\"source\":{\"id\":\"ead0f27b-5a3e-43fb-aa2d-a18521f1b4ff\",\"type\":\"ColumnDataSource\"}},\"id\":\"1fb58316-c5d1-45f4-97be-dda861da38ba\",\"type\":\"CDSView\"},{\"attributes\":{},\"id\":\"ddfbb791-d687-4749-85d5-da65be2d78c6\",\"type\":\"HelpTool\"},{\"attributes\":{\"axis_label\":\"pressure [mb]\",\"formatter\":{\"id\":\"e0706e4e-2874-47f7-a365-b7848577cfb0\",\"type\":\"LogTickFormatter\"},\"plot\":{\"id\":\"afb3d424-6de9-41e7-9a62-2ea6ae8683fc\",\"subtype\":\"Figure\",\"type\":\"Plot\"},\"ticker\":{\"id\":\"6dc636d7-521c-44f2-9634-9777a21c0a46\",\"type\":\"LogTicker\"}},\"id\":\"0af1465a-3252-4d07-b072-b9b68a2ba0c2\",\"type\":\"LogAxis\"},{\"attributes\":{\"children\":[{\"id\":\"4e603528-841f-4440-82fd-103cb3aaec2f\",\"subtype\":\"Figure\",\"type\":\"Plot\"},{\"id\":\"afb3d424-6de9-41e7-9a62-2ea6ae8683fc\",\"subtype\":\"Figure\",\"type\":\"Plot\"}]},\"id\":\"36ddfdf8-276b-449b-91f8-b31d8b9eda88\",\"type\":\"Row\"},{\"attributes\":{\"overlay\":{\"id\":\"ba2910d7-f66e-4519-8632-90f78250ab0f\",\"type\":\"BoxAnnotation\"}},\"id\":\"3c262ff6-f9d2-438d-b2ab-6e60d7a9d876\",\"type\":\"BoxZoomTool\"},{\"attributes\":{},\"id\":\"a60cf958-335c-4126-8b7e-e719685a1b75\",\"type\":\"LogScale\"},{\"attributes\":{},\"id\":\"bb89ca69-9bb1-4658-a929-7bd7bccf02d1\",\"type\":\"WheelZoomTool\"},{\"attributes\":{\"bottom_units\":\"screen\",\"fill_alpha\":{\"value\":0.5},\"fill_color\":{\"value\":\"lightgrey\"},\"left_units\":\"screen\",\"level\":\"overlay\",\"line_alpha\":{\"value\":1.0},\"line_color\":{\"value\":\"black\"},\"line_dash\":[4,4],\"line_width\":{\"value\":2},\"plot\":null,\"render_mode\":\"css\",\"right_units\":\"screen\",\"top_units\":\"screen\"},\"id\":\"ba2910d7-f66e-4519-8632-90f78250ab0f\",\"type\":\"BoxAnnotation\"},{\"attributes\":{},\"id\":\"dca75e34-1a1d-445b-bace-4e86e6ccab12\",\"type\":\"PanTool\"},{\"attributes\":{},\"id\":\"c6b336a3-bccb-4210-a145-094a911c7e77\",\"type\":\"ResetTool\"},{\"attributes\":{\"plot\":{\"id\":\"4e603528-841f-4440-82fd-103cb3aaec2f\",\"subtype\":\"Figure\",\"type\":\"Plot\"},\"ticker\":{\"id\":\"3ce58174-ab37-437a-a945-8373f21ad2ec\",\"type\":\"BasicTicker\"}},\"id\":\"5886b0ce-d8cb-4821-a563-dfdd6c4418fa\",\"type\":\"Grid\"},{\"attributes\":{\"callback\":null,\"end\":0.01,\"start\":1020},\"id\":\"f686f3c1-5c34-4ecc-8b67-7cddcb87299b\",\"type\":\"Range1d\"},{\"attributes\":{\"tools\":[{\"id\":\"e550d4f6-a8a2-40b8-b43d-e04bba6c9cf7\",\"type\":\"PanTool\"},{\"id\":\"7d53dc2e-d51d-49ad-897c-7105da30b96e\",\"type\":\"WheelZoomTool\"},{\"id\":\"926cef2b-8995-439c-99fb-4f2bfa7fd87d\",\"type\":\"BoxZoomTool\"},{\"id\":\"1a8dc191-f63c-4d10-b72b-a639d14f49f4\",\"type\":\"SaveTool\"},{\"id\":\"7f4b1043-0104-4b52-996e-426e7bb50822\",\"type\":\"ResetTool\"},{\"id\":\"5b47800c-2d92-489a-8105-3f7569125eba\",\"type\":\"HelpTool\"},{\"id\":\"dca75e34-1a1d-445b-bace-4e86e6ccab12\",\"type\":\"PanTool\"},{\"id\":\"bb89ca69-9bb1-4658-a929-7bd7bccf02d1\",\"type\":\"WheelZoomTool\"},{\"id\":\"3c262ff6-f9d2-438d-b2ab-6e60d7a9d876\",\"type\":\"BoxZoomTool\"},{\"id\":\"4b65dd84-c6f0-4995-9671-f8e90ea2d037\",\"type\":\"SaveTool\"},{\"id\":\"c6b336a3-bccb-4210-a145-094a911c7e77\",\"type\":\"ResetTool\"},{\"id\":\"ddfbb791-d687-4749-85d5-da65be2d78c6\",\"type\":\"HelpTool\"}]},\"id\":\"0997ca73-1149-4b5f-b49a-b2ac5d4e9cd5\",\"type\":\"ProxyToolbar\"},{\"attributes\":{},\"id\":\"94263e84-4273-4bd4-988c-9e3b92fa76c5\",\"type\":\"BasicTicker\"},{\"attributes\":{\"label\":{\"value\":\"WGT igg=10 wgt_flux=2\"},\"renderers\":[{\"id\":\"80555e32-e547-48b1-847c-99e9dcb6428d\",\"type\":\"GlyphRenderer\"},{\"id\":\"57234894-ee2a-4d52-8df1-9db1a5d781b9\",\"type\":\"GlyphRenderer\"}]},\"id\":\"2b06c7bc-50ae-47ea-839c-f748e31d6e07\",\"type\":\"LegendItem\"},{\"attributes\":{\"callback\":null,\"end\":0.034121293328,\"start\":-0.015266303728},\"id\":\"7575d442-b373-44b3-8a66-6d30307a11e1\",\"type\":\"Range1d\"},{\"attributes\":{\"fill_alpha\":{\"value\":0.7},\"fill_color\":{\"value\":\"#984ea3\"},\"line_alpha\":{\"value\":0.7},\"line_color\":{\"value\":\"#984ea3\"},\"x\":{\"field\":\"x\"},\"y\":{\"field\":\"y\"}},\"id\":\"96a988dc-f3b5-4879-baad-3582f1cff058\",\"type\":\"Square\"},{\"attributes\":{},\"id\":\"3ce58174-ab37-437a-a945-8373f21ad2ec\",\"type\":\"BasicTicker\"},{\"attributes\":{\"line_alpha\":0.6,\"line_color\":\"#984ea3\",\"line_width\":3,\"x\":{\"field\":\"x\"},\"y\":{\"field\":\"y\"}},\"id\":\"075a70d9-b5f1-4dbe-966b-28670527bc92\",\"type\":\"Line\"},{\"attributes\":{\"fill_alpha\":{\"value\":0.1},\"fill_color\":{\"value\":\"#1f77b4\"},\"line_alpha\":{\"value\":0.1},\"line_color\":{\"value\":\"#1f77b4\"},\"x\":{\"field\":\"x\"},\"y\":{\"field\":\"y\"}},\"id\":\"6e6786b8-847a-48a4-a54e-2efe0f8d8c07\",\"type\":\"Circle\"},{\"attributes\":{},\"id\":\"af0f7b6c-4633-46ad-b4cf-1d6d260d9b0f\",\"type\":\"LinearScale\"},{\"attributes\":{},\"id\":\"b79da697-ddee-4c9e-96fe-d2f525ce1535\",\"type\":\"LinearScale\"},{\"attributes\":{\"source\":{\"id\":\"c2be5956-278b-4005-a56e-cebaacbf99d0\",\"type\":\"ColumnDataSource\"}},\"id\":\"4b340e0e-a1a2-4d12-b497-983e1369290a\",\"type\":\"CDSView\"},{\"attributes\":{\"callback\":null,\"column_names\":[\"x\",\"y\"],\"data\":{\"x\":{\"__ndarray__\":\"aKqhbdC1eD+ze8qMp155Pw9Ia9XE0no/6LtvcBtPfD8A9UWnk859P0qhgzwNUX8/gYP0pjtrgD8cJWANgi+BP0YtAzo/9YE/XC2Wu0a8gj/WE4Z38oaDPwCFZmdYUYQ/hHOkv6kdhT9ltUsFWCSGPyVlJrkp1ok/oGPHdIjNkD923hkeCZyVP/FKdKr+1Jo/r01ibJU9oD9icc+LZSyjP7flcm+9Z6Y/qQmn2k9xqT9lvhG/iW6qP0HLhhEuOqk/J00ilu4spz8fNVHPf3WkP70TNyJ3n6E/fW4U6MWrnT8j2UVpmDSYP2t8q0Ik4JI/GnFw2dNniz+1mYANWHiBP/KUsHMT2m8/eBKE5hQPQb+uxvTXoNp2v/DevdpLvoa/sLWOWHFEjr+LQhpvFUaOv1MNw5NS2om/IYV11vyuhb/8ZwCBZMCBvxZKgs4t9nu/I0Ip/7aFdL/kFYr+a7dqv00l9Ikhjlm/EaEABP9LEz92IYbOJ5xbP5onQE1m0mo/3gdb5OS9cz/k6a1sL815P6JPzv6b538/F9WWQcvvgj+aA4Z329GFP4J7tahQrYg/pNUvgCKEiz8XsR6M/EWOP5TOfmPafpA/dP+Fm9TbkT/GE+ubziqTP+8TOHdKd5Q/bF04AR65lT9Y7XgUqdeWP/7D8yEK15c//GzckgCkmD9a9zk8EFKZP+xW5FL7Bpo/ZUqD1bPEmj/uL1sjpKSbPxxbfaRpkZw/SuOxDT6HnT/khaKw84WeP9jZVEFze58/wjrYGgY+oD+KBnq/CbmgP/UnLNPhOKE/\",\"dtype\":\"float64\",\"shape\":[75]},\"y\":{\"__ndarray__\":\"GhExyth1ND/Sv8nbtpRIP2vylNV0PVE/aTum7souWD/At0SJ8fVgPw3Iuahxymc/MSNhhJWvcD/bTfBN02d3P2zb5nxnaoA/CD5h5MAGhz8NmeH1TyaQP+zrCsc9p5Y/LbKd76fGnz/bLW5ISEmmPww9YvTcQq8/JV2OstnstT8Er5Y7M8G+P0c+r3jqkcU/5h99k6ZBzj88bCIzFzjVP4enV8oyxN0//yH99nXg5D8qOpLLf0jtP5kqGJXUifQ/c9cS8kHP/D+/DpwzojQEQIEmwoanVwxA4lgXt9HgE0BSSZ2AJuIbQAMJih9jjiNA5q4l5INuK0AwTKYKRj0zQNv5fmq8/DpAaCJseHrtQkB/+zpwzoxKQM3MzMzMeFJAZmZmZmZqWEAAAAAAAFxeQM3MzMzMJmJAmpmZmZkfZUBmZmZmZhhoQDMzMzMzEWtAAAAAAAAKbkBmZmZmZoFwQM3MzMzM/XFAMzMzMzN6c0CamZmZmfZ0QAAAAAAAc3ZAZmZmZmbvd0DNzMzMzGt5QDMzMzMz6HpAmpmZmZlkfEAAAAAAAOF9QGZmZmZmXX9AZmZmZuZsgECamZmZGSuBQM3MzMxM6YFAAAAAAICngkAzMzMzs2WDQGZmZmbmI4RAmpmZmRnihEDNzMzMTKCFQAAAAACAXoZAMzMzM7Mch0BmZmZm5tqHQJqZmZkZmYhAzczMzExXiUAAAAAAgBWKQDMzMzOz04pAZmZmZuaRi0CamZmZGVCMQM3MzMxMDo1AAAAAAIDMjUAzMzMzs4qOQGZmZmbmSI9A\",\"dtype\":\"float64\",\"shape\":[75]}}},\"id\":\"2a838e36-0c0d-4359-9d3f-c2597db5ccad\",\"type\":\"ColumnDataSource\"},{\"attributes\":{\"active_drag\":\"auto\",\"active_inspect\":\"auto\",\"active_scroll\":\"auto\",\"active_tap\":\"auto\",\"tools\":[{\"id\":\"e550d4f6-a8a2-40b8-b43d-e04bba6c9cf7\",\"type\":\"PanTool\"},{\"id\":\"7d53dc2e-d51d-49ad-897c-7105da30b96e\",\"type\":\"WheelZoomTool\"},{\"id\":\"926cef2b-8995-439c-99fb-4f2bfa7fd87d\",\"type\":\"BoxZoomTool\"},{\"id\":\"1a8dc191-f63c-4d10-b72b-a639d14f49f4\",\"type\":\"SaveTool\"},{\"id\":\"7f4b1043-0104-4b52-996e-426e7bb50822\",\"type\":\"ResetTool\"},{\"id\":\"5b47800c-2d92-489a-8105-3f7569125eba\",\"type\":\"HelpTool\"}]},\"id\":\"ef4a6410-2337-48b2-b57b-5b12020571e6\",\"type\":\"Toolbar\"},{\"attributes\":{},\"id\":\"fed5d5c1-2dab-423f-bad5-67adcb3a5235\",\"type\":\"BasicTickFormatter\"},{\"attributes\":{\"callback\":null,\"column_names\":[\"x\",\"y\"],\"data\":{\"x\":{\"__ndarray__\":\"aKqhbdC1eD+ze8qMp155Pw9Ia9XE0no/6LtvcBtPfD8A9UWnk859P0qhgzwNUX8/gYP0pjtrgD8cJWANgi+BP0YtAzo/9YE/XC2Wu0a8gj/WE4Z38oaDPwCFZmdYUYQ/hHOkv6kdhT9ltUsFWCSGPyVlJrkp1ok/oGPHdIjNkD923hkeCZyVP/FKdKr+1Jo/r01ibJU9oD9icc+LZSyjP7flcm+9Z6Y/qQmn2k9xqT9lvhG/iW6qP0HLhhEuOqk/J00ilu4spz8fNVHPf3WkP70TNyJ3n6E/fW4U6MWrnT8j2UVpmDSYP2t8q0Ik4JI/GnFw2dNniz+1mYANWHiBP/KUsHMT2m8/eBKE5hQPQb+uxvTXoNp2v/DevdpLvoa/sLWOWHFEjr+LQhpvFUaOv1MNw5NS2om/IYV11vyuhb/8ZwCBZMCBvxZKgs4t9nu/I0Ip/7aFdL/kFYr+a7dqv00l9Ikhjlm/EaEABP9LEz92IYbOJ5xbP5onQE1m0mo/3gdb5OS9cz/k6a1sL815P6JPzv6b538/F9WWQcvvgj+aA4Z329GFP4J7tahQrYg/pNUvgCKEiz8XsR6M/EWOP5TOfmPafpA/dP+Fm9TbkT/GE+ubziqTP+8TOHdKd5Q/bF04AR65lT9Y7XgUqdeWP/7D8yEK15c//GzckgCkmD9a9zk8EFKZP+xW5FL7Bpo/ZUqD1bPEmj/uL1sjpKSbPxxbfaRpkZw/SuOxDT6HnT/khaKw84WeP9jZVEFze58/wjrYGgY+oD+KBnq/CbmgP/UnLNPhOKE/\",\"dtype\":\"float64\",\"shape\":[75]},\"y\":{\"__ndarray__\":\"GhExyth1ND/Sv8nbtpRIP2vylNV0PVE/aTum7souWD/At0SJ8fVgPw3Iuahxymc/MSNhhJWvcD/bTfBN02d3P2zb5nxnaoA/CD5h5MAGhz8NmeH1TyaQP+zrCsc9p5Y/LbKd76fGnz/bLW5ISEmmPww9YvTcQq8/JV2OstnstT8Er5Y7M8G+P0c+r3jqkcU/5h99k6ZBzj88bCIzFzjVP4enV8oyxN0//yH99nXg5D8qOpLLf0jtP5kqGJXUifQ/c9cS8kHP/D+/DpwzojQEQIEmwoanVwxA4lgXt9HgE0BSSZ2AJuIbQAMJih9jjiNA5q4l5INuK0AwTKYKRj0zQNv5fmq8/DpAaCJseHrtQkB/+zpwzoxKQM3MzMzMeFJAZmZmZmZqWEAAAAAAAFxeQM3MzMzMJmJAmpmZmZkfZUBmZmZmZhhoQDMzMzMzEWtAAAAAAAAKbkBmZmZmZoFwQM3MzMzM/XFAMzMzMzN6c0CamZmZmfZ0QAAAAAAAc3ZAZmZmZmbvd0DNzMzMzGt5QDMzMzMz6HpAmpmZmZlkfEAAAAAAAOF9QGZmZmZmXX9AZmZmZuZsgECamZmZGSuBQM3MzMxM6YFAAAAAAICngkAzMzMzs2WDQGZmZmbmI4RAmpmZmRnihEDNzMzMTKCFQAAAAACAXoZAMzMzM7Mch0BmZmZm5tqHQJqZmZkZmYhAzczMzExXiUAAAAAAgBWKQDMzMzOz04pAZmZmZuaRi0CamZmZGVCMQM3MzMxMDo1AAAAAAIDMjUAzMzMzs4qOQGZmZmbmSI9A\",\"dtype\":\"float64\",\"shape\":[75]}}},\"id\":\"f0ca4a4c-1060-472a-a070-53356f6473f3\",\"type\":\"ColumnDataSource\"},{\"attributes\":{\"callback\":null,\"end\":0.01,\"start\":1020},\"id\":\"44a32a19-30ed-43ed-9b30-5cf04a09ac3d\",\"type\":\"Range1d\"},{\"attributes\":{\"plot\":{\"id\":\"afb3d424-6de9-41e7-9a62-2ea6ae8683fc\",\"subtype\":\"Figure\",\"type\":\"Plot\"},\"ticker\":{\"id\":\"ff6343c7-a104-4515-a75a-6d997a3fb90c\",\"type\":\"BasicTicker\"}},\"id\":\"0e5acfd2-1414-4eac-82a0-8ffe0b4f3887\",\"type\":\"Grid\"},{\"attributes\":{\"source\":{\"id\":\"f0ca4a4c-1060-472a-a070-53356f6473f3\",\"type\":\"ColumnDataSource\"}},\"id\":\"a6e538a3-483d-4d4a-a9e9-1d57bec1cd6a\",\"type\":\"CDSView\"},{\"attributes\":{\"axis_label\":\"pressure [mb]\",\"formatter\":{\"id\":\"099b186c-1728-4b9c-94c7-edeb46c618b2\",\"type\":\"BasicTickFormatter\"},\"plot\":{\"id\":\"4e603528-841f-4440-82fd-103cb3aaec2f\",\"subtype\":\"Figure\",\"type\":\"Plot\"},\"ticker\":{\"id\":\"94263e84-4273-4bd4-988c-9e3b92fa76c5\",\"type\":\"BasicTicker\"}},\"id\":\"4e844492-a5c1-4afb-9487-da6a466d63b2\",\"type\":\"LinearAxis\"},{\"attributes\":{\"callback\":null,\"column_names\":[\"x\",\"y\"],\"data\":{\"x\":{\"__ndarray__\":\"pf6iTdM8ez+V6DQkUdx7PwwpYG7ANn0/L8TdZS6Mfj/XcUQC++R/P9uBZtNyoIA/LjSgLYpPgT8NxPluzwCCP6WGSuQBs4I/P1pu+eBmgz9MESbutBqEPx4HpwMuz4Q/Y9NZTL2FhT+MW6nA+W+GP3BioweZv4k/VkuQynpVkD9WoPotWK+UPwq/s8GyZ5k/Uhmjzgx9nj9zaeUmtvehP0lLUoo34aQ/nVoO2Purpz+6ORtGz5qoP3r09k+Glqc/2WBsF1bOpT9EyolVB2mjPwg5far74aA/ZiTThX7EnD+I+u2D3cSXP4lSA0xnx5I/VP5IIESDiz8UxtlnI42BP7spC321RW8/flNP0YuqSb81XcuE2EJ4vz6m7RPLI4e/ZbGbuYo8jr9IeQ6ufkGOv6vdEXbTK4q/8EuxLmQxhr/Hrq3S71iCvx9F+gVkPH2/O4L+9yX4db8DGWlBIshtv6p+vbR881+/DZa7MBTqM7/hi2Dv/1RVP5G3xiqYhmc/Mmx9okUOcj8tEf612zZ4P/baDjvDPH4/aVoIiMcSgj86kpaNePmEPxdSwm/q04c/wsc3Rnicij8qulEL9VmNP1uvJqVZBpA/0b+6sIlakT+ni9oeOamSP1ORr6mY75M/qLVwJpQolT+zLUIylkmWPzZUuisjRJc/OWC6vWIVmD/0K3VHAc2YP+pRb0jOgpk/FRHNVVZHmj/4KmR0YSCbPyEriBnLCJw/zm7cS+L4nD8FWJWRO+udPzFT9VNl3Z4/Tg0ivLfOnz/o+ACOUV+gP7XTrsCS1qA/\",\"dtype\":\"float64\",\"shape\":[75]},\"y\":{\"__ndarray__\":\"S/O/Q+51ND/Sv8nbtpRIP2vylNV0PVE/aTum7souWD/At0SJ8fVgPw3Iuahxymc/MSNhhJWvcD/bTfBN02d3P2zb5nxnaoA/CD5h5MAGhz8NmeH1TyaQP+zrCsc9p5Y/LbKd76fGnz/bLW5ISEmmPww9YvTcQq8/JV2OstnstT8Er5Y7M8G+P0c+r3jqkcU/5h99k6ZBzj88bCIzFzjVP4enV8oyxN0//yH99nXg5D8qOpLLf0jtP5kqGJXUifQ/c9cS8kHP/D+/DpwzojQEQIEmwoanVwxA4lgXt9HgE0BSSZ2AJuIbQAMJih9jjiNA5q4l5INuK0AwTKYKRj0zQNv5fmq8/DpAaCJseHrtQkB/+zpwzoxKQM3MzMzMeFJAZmZmZmZqWEAAAAAAAFxeQM3MzMzMJmJAmpmZmZkfZUBmZmZmZhhoQDMzMzMzEWtAAAAAAAAKbkBmZmZmZoFwQM3MzMzM/XFAMzMzMzN6c0CamZmZmfZ0QAAAAAAAc3ZAZmZmZmbvd0DNzMzMzGt5QDMzMzMz6HpAmpmZmZlkfEAAAAAAAOF9QGZmZmZmXX9AZmZmZuZsgECamZmZGSuBQM3MzMxM6YFAAAAAAICngkAzMzMzs2WDQGZmZmbmI4RAmpmZmRnihEDNzMzMTKCFQAAAAACAXoZAMzMzM7Mch0BmZmZm5tqHQJqZmZkZmYhAzczMzExXiUAAAAAAgBWKQDMzMzOz04pAZmZmZuaRi0CamZmZGVCMQM3MzMxMDo1AAAAAAIDMjUAzMzMzs4qOQGZmZmbmSI9A\",\"dtype\":\"float64\",\"shape\":[75]}}},\"id\":\"8d063a9d-9b2f-4519-82ce-4cf9ba238cf5\",\"type\":\"ColumnDataSource\"},{\"attributes\":{\"num_minor_ticks\":10},\"id\":\"6dc636d7-521c-44f2-9634-9777a21c0a46\",\"type\":\"LogTicker\"},{\"attributes\":{\"below\":[{\"id\":\"48ecafea-3ef5-4254-a3c5-dddeb279ec09\",\"type\":\"LinearAxis\"}],\"left\":[{\"id\":\"4e844492-a5c1-4afb-9487-da6a466d63b2\",\"type\":\"LinearAxis\"}],\"plot_height\":500,\"plot_width\":400,\"renderers\":[{\"id\":\"48ecafea-3ef5-4254-a3c5-dddeb279ec09\",\"type\":\"LinearAxis\"},{\"id\":\"5886b0ce-d8cb-4821-a563-dfdd6c4418fa\",\"type\":\"Grid\"},{\"id\":\"4e844492-a5c1-4afb-9487-da6a466d63b2\",\"type\":\"LinearAxis\"},{\"id\":\"a448b033-7d2a-4fb6-8844-49a4ca6b6dc6\",\"type\":\"Grid\"},{\"id\":\"0b2758d6-5fe9-4d7a-ab1c-bd044f7ec864\",\"type\":\"BoxAnnotation\"},{\"id\":\"595676d1-425e-441e-84bf-1d4dfea4e164\",\"type\":\"GlyphRenderer\"},{\"id\":\"34064947-c075-4bd4-93b1-dd89edd0c06d\",\"type\":\"GlyphRenderer\"},{\"id\":\"9b6ff093-085f-4a2d-8ce2-0198f4a890be\",\"type\":\"GlyphRenderer\"},{\"id\":\"d75a5d14-cf81-4458-ae21-e8b37dc4dd09\",\"type\":\"GlyphRenderer\"},{\"id\":\"7febf013-2fe2-4f4e-977a-8bde03d41144\",\"type\":\"GlyphRenderer\"}],\"title\":{\"id\":\"bb980c61-499d-427f-b1c3-250022ce8f05\",\"type\":\"Title\"},\"toolbar\":{\"id\":\"ef4a6410-2337-48b2-b57b-5b12020571e6\",\"type\":\"Toolbar\"},\"toolbar_location\":null,\"x_range\":{\"id\":\"7575d442-b373-44b3-8a66-6d30307a11e1\",\"type\":\"Range1d\"},\"x_scale\":{\"id\":\"02710eae-74ce-46ab-b8e9-7d81e103be35\",\"type\":\"LinearScale\"},\"y_range\":{\"id\":\"44a32a19-30ed-43ed-9b30-5cf04a09ac3d\",\"type\":\"Range1d\"},\"y_scale\":{\"id\":\"af0f7b6c-4633-46ad-b4cf-1d6d260d9b0f\",\"type\":\"LinearScale\"}},\"id\":\"4e603528-841f-4440-82fd-103cb3aaec2f\",\"subtype\":\"Figure\",\"type\":\"Plot\"},{\"attributes\":{\"source\":{\"id\":\"2a838e36-0c0d-4359-9d3f-c2597db5ccad\",\"type\":\"ColumnDataSource\"}},\"id\":\"4e33aa93-04a9-4779-b655-8f96112887b6\",\"type\":\"CDSView\"},{\"attributes\":{\"axis_label\":\"cooling rate [K/day]\",\"formatter\":{\"id\":\"fed5d5c1-2dab-423f-bad5-67adcb3a5235\",\"type\":\"BasicTickFormatter\"},\"plot\":{\"id\":\"4e603528-841f-4440-82fd-103cb3aaec2f\",\"subtype\":\"Figure\",\"type\":\"Plot\"},\"ticker\":{\"id\":\"3ce58174-ab37-437a-a945-8373f21ad2ec\",\"type\":\"BasicTicker\"}},\"id\":\"48ecafea-3ef5-4254-a3c5-dddeb279ec09\",\"type\":\"LinearAxis\"},{\"attributes\":{\"fill_alpha\":{\"value\":0.1},\"fill_color\":{\"value\":\"#1f77b4\"},\"line_alpha\":{\"value\":0.1},\"line_color\":{\"value\":\"#1f77b4\"},\"x\":{\"field\":\"x\"},\"y\":{\"field\":\"y\"}},\"id\":\"3d2db918-86c5-4c6a-830d-6aca00f4b65a\",\"type\":\"Square\"},{\"attributes\":{\"dimension\":1,\"plot\":{\"id\":\"4e603528-841f-4440-82fd-103cb3aaec2f\",\"subtype\":\"Figure\",\"type\":\"Plot\"},\"ticker\":{\"id\":\"94263e84-4273-4bd4-988c-9e3b92fa76c5\",\"type\":\"BasicTicker\"}},\"id\":\"a448b033-7d2a-4fb6-8844-49a4ca6b6dc6\",\"type\":\"Grid\"},{\"attributes\":{\"data_source\":{\"id\":\"2a838e36-0c0d-4359-9d3f-c2597db5ccad\",\"type\":\"ColumnDataSource\"},\"glyph\":{\"id\":\"96a988dc-f3b5-4879-baad-3582f1cff058\",\"type\":\"Square\"},\"hover_glyph\":null,\"muted_glyph\":null,\"nonselection_glyph\":{\"id\":\"3d2db918-86c5-4c6a-830d-6aca00f4b65a\",\"type\":\"Square\"},\"selection_glyph\":null,\"view\":{\"id\":\"4e33aa93-04a9-4779-b655-8f96112887b6\",\"type\":\"CDSView\"}},\"id\":\"d75a5d14-cf81-4458-ae21-e8b37dc4dd09\",\"type\":\"GlyphRenderer\"},{\"attributes\":{\"below\":[{\"id\":\"98083772-c635-4dd8-9ce5-af5423fe2521\",\"type\":\"LinearAxis\"}],\"left\":[{\"id\":\"0af1465a-3252-4d07-b072-b9b68a2ba0c2\",\"type\":\"LogAxis\"}],\"plot_height\":500,\"plot_width\":560,\"renderers\":[{\"id\":\"98083772-c635-4dd8-9ce5-af5423fe2521\",\"type\":\"LinearAxis\"},{\"id\":\"0e5acfd2-1414-4eac-82a0-8ffe0b4f3887\",\"type\":\"Grid\"},{\"id\":\"0af1465a-3252-4d07-b072-b9b68a2ba0c2\",\"type\":\"LogAxis\"},{\"id\":\"a4041cc1-c71d-40e8-a420-de5d0e337420\",\"type\":\"Grid\"},{\"id\":\"ba2910d7-f66e-4519-8632-90f78250ab0f\",\"type\":\"BoxAnnotation\"},{\"id\":\"c7f427c6-0563-49ca-8696-a01ca097bcfe\",\"type\":\"GlyphRenderer\"},{\"id\":\"54766533-72ac-4b31-ad8a-c5270222bafb\",\"type\":\"GlyphRenderer\"},{\"id\":\"2429bf03-a23a-46a3-9a2f-cda00360d7e4\",\"type\":\"GlyphRenderer\"},{\"id\":\"80555e32-e547-48b1-847c-99e9dcb6428d\",\"type\":\"GlyphRenderer\"},{\"id\":\"57234894-ee2a-4d52-8df1-9db1a5d781b9\",\"type\":\"GlyphRenderer\"},{\"id\":\"e5e44976-4f4b-4dec-885f-d61a24e9c21a\",\"type\":\"Legend\"}],\"right\":[{\"id\":\"e5e44976-4f4b-4dec-885f-d61a24e9c21a\",\"type\":\"Legend\"}],\"title\":{\"id\":\"d240e77f-0be3-4bde-9c67-e342e68fb20c\",\"type\":\"Title\"},\"toolbar\":{\"id\":\"7b7e2235-c5b5-4cd0-9992-95ada4547c0f\",\"type\":\"Toolbar\"},\"toolbar_location\":null,\"x_range\":{\"id\":\"d829251c-9e9f-45a1-953b-cc4a7e48c4a3\",\"type\":\"Range1d\"},\"x_scale\":{\"id\":\"b79da697-ddee-4c9e-96fe-d2f525ce1535\",\"type\":\"LinearScale\"},\"y_range\":{\"id\":\"f686f3c1-5c34-4ecc-8b67-7cddcb87299b\",\"type\":\"Range1d\"},\"y_scale\":{\"id\":\"a60cf958-335c-4126-8b7e-e719685a1b75\",\"type\":\"LogScale\"}},\"id\":\"afb3d424-6de9-41e7-9a62-2ea6ae8683fc\",\"subtype\":\"Figure\",\"type\":\"Plot\"},{\"attributes\":{\"plot\":null,\"text\":\"Log pressure scale\"},\"id\":\"d240e77f-0be3-4bde-9c67-e342e68fb20c\",\"type\":\"Title\"},{\"attributes\":{},\"id\":\"7d53dc2e-d51d-49ad-897c-7105da30b96e\",\"type\":\"WheelZoomTool\"},{\"attributes\":{\"line_alpha\":0.1,\"line_color\":\"#1f77b4\",\"line_width\":3,\"x\":{\"field\":\"x\"},\"y\":{\"field\":\"y\"}},\"id\":\"231869ae-eefe-43f2-beab-ed76787a3999\",\"type\":\"Line\"},{\"attributes\":{\"data_source\":{\"id\":\"f0ca4a4c-1060-472a-a070-53356f6473f3\",\"type\":\"ColumnDataSource\"},\"glyph\":{\"id\":\"075a70d9-b5f1-4dbe-966b-28670527bc92\",\"type\":\"Line\"},\"hover_glyph\":null,\"muted_glyph\":null,\"nonselection_glyph\":{\"id\":\"231869ae-eefe-43f2-beab-ed76787a3999\",\"type\":\"Line\"},\"selection_glyph\":null,\"view\":{\"id\":\"a6e538a3-483d-4d4a-a9e9-1d57bec1cd6a\",\"type\":\"CDSView\"}},\"id\":\"7febf013-2fe2-4f4e-977a-8bde03d41144\",\"type\":\"GlyphRenderer\"},{\"attributes\":{},\"id\":\"02710eae-74ce-46ab-b8e9-7d81e103be35\",\"type\":\"LinearScale\"},{\"attributes\":{\"children\":[{\"id\":\"36ddfdf8-276b-449b-91f8-b31d8b9eda88\",\"type\":\"Row\"}]},\"id\":\"5fd1bd8b-e35c-44d7-bfd0-5e49706dc490\",\"type\":\"Column\"},{\"attributes\":{\"dimension\":1,\"plot\":{\"id\":\"afb3d424-6de9-41e7-9a62-2ea6ae8683fc\",\"subtype\":\"Figure\",\"type\":\"Plot\"},\"ticker\":{\"id\":\"6dc636d7-521c-44f2-9634-9777a21c0a46\",\"type\":\"LogTicker\"}},\"id\":\"a4041cc1-c71d-40e8-a420-de5d0e337420\",\"type\":\"Grid\"},{\"attributes\":{},\"id\":\"ff6343c7-a104-4515-a75a-6d997a3fb90c\",\"type\":\"BasicTicker\"},{\"attributes\":{\"plot\":null,\"text\":\"Linear pressure scale\"},\"id\":\"bb980c61-499d-427f-b1c3-250022ce8f05\",\"type\":\"Title\"},{\"attributes\":{},\"id\":\"e550d4f6-a8a2-40b8-b43d-e04bba6c9cf7\",\"type\":\"PanTool\"},{\"attributes\":{\"active_drag\":\"auto\",\"active_inspect\":\"auto\",\"active_scroll\":\"auto\",\"active_tap\":\"auto\",\"tools\":[{\"id\":\"dca75e34-1a1d-445b-bace-4e86e6ccab12\",\"type\":\"PanTool\"},{\"id\":\"bb89ca69-9bb1-4658-a929-7bd7bccf02d1\",\"type\":\"WheelZoomTool\"},{\"id\":\"3c262ff6-f9d2-438d-b2ab-6e60d7a9d876\",\"type\":\"BoxZoomTool\"},{\"id\":\"4b65dd84-c6f0-4995-9671-f8e90ea2d037\",\"type\":\"SaveTool\"},{\"id\":\"c6b336a3-bccb-4210-a145-094a911c7e77\",\"type\":\"ResetTool\"},{\"id\":\"ddfbb791-d687-4749-85d5-da65be2d78c6\",\"type\":\"HelpTool\"}]},\"id\":\"7b7e2235-c5b5-4cd0-9992-95ada4547c0f\",\"type\":\"Toolbar\"},{\"attributes\":{\"line_alpha\":0.1,\"line_color\":\"#1f77b4\",\"line_dash\":[6],\"line_width\":5,\"x\":{\"field\":\"x\"},\"y\":{\"field\":\"y\"}},\"id\":\"d1360f80-f357-4024-a076-abb52fb833b8\",\"type\":\"Line\"},{\"attributes\":{\"axis_label\":\"cooling rate [K/day]\",\"formatter\":{\"id\":\"0347926d-d6ed-43c0-b3f0-bee3bb9f4b99\",\"type\":\"BasicTickFormatter\"},\"plot\":{\"id\":\"afb3d424-6de9-41e7-9a62-2ea6ae8683fc\",\"subtype\":\"Figure\",\"type\":\"Plot\"},\"ticker\":{\"id\":\"ff6343c7-a104-4515-a75a-6d997a3fb90c\",\"type\":\"BasicTicker\"}},\"id\":\"98083772-c635-4dd8-9ce5-af5423fe2521\",\"type\":\"LinearAxis\"}],\"root_ids\":[\"f92de937-e13c-49d5-a1b3-80b0ddbaa1a6\"]},\"title\":\"Bokeh Application\",\"version\":\"0.12.14\"}};\n",
       "  var render_items = [{\"docid\":\"42640999-85a4-443f-bf4f-79b4972ea8c5\",\"elementid\":\"e5a083a0-6867-48c6-a4cb-1530425ea832\",\"modelid\":\"f92de937-e13c-49d5-a1b3-80b0ddbaa1a6\"}];\n",
       "  root.Bokeh.embed.embed_items_notebook(docs_json, render_items);\n",
       "\n",
       "  }\n",
       "  if (root.Bokeh !== undefined) {\n",
       "    embed_document(root);\n",
       "  } else {\n",
       "    var attempts = 0;\n",
       "    var timer = setInterval(function(root) {\n",
       "      if (root.Bokeh !== undefined) {\n",
       "        embed_document(root);\n",
       "        clearInterval(timer);\n",
       "      }\n",
       "      attempts++;\n",
       "      if (attempts > 100) {\n",
       "        console.log(\"Bokeh: ERROR: Unable to run BokehJS code because BokehJS library is missing\")\n",
       "        clearInterval(timer);\n",
       "      }\n",
       "    }, 10, root)\n",
       "  }\n",
       "})(window);"
      ],
      "application/vnd.bokehjs_exec.v0+json": ""
     },
     "metadata": {
      "application/vnd.bokehjs_exec.v0+json": {
       "id": "f92de937-e13c-49d5-a1b3-80b0ddbaa1a6"
      }
     },
     "output_type": "display_data"
    },
    {
     "name": "stdout",
     "output_type": "stream",
     "text": [
      "FIGURE. Cooling rate profiles.\n"
     ]
    },
    {
     "data": {
      "text/html": [
       "<a id=\"Flux_Comparison\"></a>"
      ],
      "text/plain": [
       "<IPython.core.display.HTML object>"
      ]
     },
     "metadata": {},
     "output_type": "display_data"
    },
    {
     "data": {
      "text/markdown": [
       "# Flux Comparison"
      ],
      "text/plain": [
       "<IPython.core.display.Markdown object>"
      ]
     },
     "metadata": {},
     "output_type": "display_data"
    },
    {
     "data": {
      "text/html": [
       "<div>\n",
       "<style>\n",
       "    .dataframe thead tr:only-child th {\n",
       "        text-align: right;\n",
       "    }\n",
       "\n",
       "    .dataframe thead th {\n",
       "        text-align: left;\n",
       "    }\n",
       "\n",
       "    .dataframe tbody tr th {\n",
       "        vertical-align: top;\n",
       "    }\n",
       "</style>\n",
       "<table border=\"1\" class=\"dataframe\">\n",
       "  <thead>\n",
       "    <tr style=\"text-align: right;\">\n",
       "      <th></th>\n",
       "      <th></th>\n",
       "      <th>flug</th>\n",
       "      <th>fldg</th>\n",
       "      <th>fnetg</th>\n",
       "    </tr>\n",
       "    <tr>\n",
       "      <th>pressure</th>\n",
       "      <th>level</th>\n",
       "      <th></th>\n",
       "      <th></th>\n",
       "      <th></th>\n",
       "    </tr>\n",
       "  </thead>\n",
       "  <tbody>\n",
       "    <tr>\n",
       "      <th>0.0000</th>\n",
       "      <th>1</th>\n",
       "      <td>-37.086989</td>\n",
       "      <td>0.000000</td>\n",
       "      <td>-37.086989</td>\n",
       "    </tr>\n",
       "    <tr>\n",
       "      <th>1.0685</th>\n",
       "      <th>24</th>\n",
       "      <td>-37.086145</td>\n",
       "      <td>0.004339</td>\n",
       "      <td>-37.081806</td>\n",
       "    </tr>\n",
       "    <tr>\n",
       "      <th>1013.0000</th>\n",
       "      <th>76</th>\n",
       "      <td>-38.491734</td>\n",
       "      <td>2.791664</td>\n",
       "      <td>-35.700070</td>\n",
       "    </tr>\n",
       "  </tbody>\n",
       "</table>\n",
       "</div>"
      ],
      "text/plain": [
       "                      flug      fldg      fnetg\n",
       "pressure  level                                \n",
       "0.0000    1     -37.086989  0.000000 -37.086989\n",
       "1.0685    24    -37.086145  0.004339 -37.081806\n",
       "1013.0000 76    -38.491734  2.791664 -35.700070"
      ]
     },
     "metadata": {},
     "output_type": "display_data"
    },
    {
     "name": "stdout",
     "output_type": "stream",
     "text": [
      "Table. Fluxes. WGT igg=10 wgt_flux=1\n"
     ]
    },
    {
     "data": {
      "text/html": [
       "<div>\n",
       "<style>\n",
       "    .dataframe thead tr:only-child th {\n",
       "        text-align: right;\n",
       "    }\n",
       "\n",
       "    .dataframe thead th {\n",
       "        text-align: left;\n",
       "    }\n",
       "\n",
       "    .dataframe tbody tr th {\n",
       "        vertical-align: top;\n",
       "    }\n",
       "</style>\n",
       "<table border=\"1\" class=\"dataframe\">\n",
       "  <thead>\n",
       "    <tr style=\"text-align: right;\">\n",
       "      <th></th>\n",
       "      <th></th>\n",
       "      <th>flug</th>\n",
       "      <th>fldg</th>\n",
       "      <th>fnetg</th>\n",
       "    </tr>\n",
       "    <tr>\n",
       "      <th>pressure</th>\n",
       "      <th>level</th>\n",
       "      <th></th>\n",
       "      <th></th>\n",
       "      <th></th>\n",
       "    </tr>\n",
       "  </thead>\n",
       "  <tbody>\n",
       "    <tr>\n",
       "      <th>0.0000</th>\n",
       "      <th>1</th>\n",
       "      <td>-37.085128</td>\n",
       "      <td>0.000000</td>\n",
       "      <td>-37.085128</td>\n",
       "    </tr>\n",
       "    <tr>\n",
       "      <th>1.0685</th>\n",
       "      <th>24</th>\n",
       "      <td>-37.084747</td>\n",
       "      <td>0.004505</td>\n",
       "      <td>-37.080242</td>\n",
       "    </tr>\n",
       "    <tr>\n",
       "      <th>1013.0000</th>\n",
       "      <th>76</th>\n",
       "      <td>-38.491734</td>\n",
       "      <td>2.697929</td>\n",
       "      <td>-35.793805</td>\n",
       "    </tr>\n",
       "  </tbody>\n",
       "</table>\n",
       "</div>"
      ],
      "text/plain": [
       "                      flug      fldg      fnetg\n",
       "pressure  level                                \n",
       "0.0000    1     -37.085128  0.000000 -37.085128\n",
       "1.0685    24    -37.084747  0.004505 -37.080242\n",
       "1013.0000 76    -38.491734  2.697929 -35.793805"
      ]
     },
     "metadata": {},
     "output_type": "display_data"
    },
    {
     "name": "stdout",
     "output_type": "stream",
     "text": [
      "Table. Fluxes. CRD\n"
     ]
    },
    {
     "data": {
      "text/html": [
       "<div>\n",
       "<style>\n",
       "    .dataframe thead tr:only-child th {\n",
       "        text-align: right;\n",
       "    }\n",
       "\n",
       "    .dataframe thead th {\n",
       "        text-align: left;\n",
       "    }\n",
       "\n",
       "    .dataframe tbody tr th {\n",
       "        vertical-align: top;\n",
       "    }\n",
       "</style>\n",
       "<table border=\"1\" class=\"dataframe\">\n",
       "  <thead>\n",
       "    <tr style=\"text-align: right;\">\n",
       "      <th></th>\n",
       "      <th></th>\n",
       "      <th>flug</th>\n",
       "      <th>fldg</th>\n",
       "      <th>fnetg</th>\n",
       "    </tr>\n",
       "    <tr>\n",
       "      <th>pressure</th>\n",
       "      <th>level</th>\n",
       "      <th></th>\n",
       "      <th></th>\n",
       "      <th></th>\n",
       "    </tr>\n",
       "  </thead>\n",
       "  <tbody>\n",
       "    <tr>\n",
       "      <th>1.000000e-08</th>\n",
       "      <th>1</th>\n",
       "      <td>-37.140226</td>\n",
       "      <td>0.000002</td>\n",
       "      <td>-37.140224</td>\n",
       "    </tr>\n",
       "    <tr>\n",
       "      <th>1.068500e+00</th>\n",
       "      <th>24</th>\n",
       "      <td>-37.139335</td>\n",
       "      <td>0.003958</td>\n",
       "      <td>-37.135377</td>\n",
       "    </tr>\n",
       "    <tr>\n",
       "      <th>1.013000e+03</th>\n",
       "      <th>76</th>\n",
       "      <td>-38.491730</td>\n",
       "      <td>2.687236</td>\n",
       "      <td>-35.804494</td>\n",
       "    </tr>\n",
       "  </tbody>\n",
       "</table>\n",
       "</div>"
      ],
      "text/plain": [
       "                         flug      fldg      fnetg\n",
       "pressure     level                                \n",
       "1.000000e-08 1     -37.140226  0.000002 -37.140224\n",
       "1.068500e+00 24    -37.139335  0.003958 -37.135377\n",
       "1.013000e+03 76    -38.491730  2.687236 -35.804494"
      ]
     },
     "metadata": {},
     "output_type": "display_data"
    },
    {
     "name": "stdout",
     "output_type": "stream",
     "text": [
      "Table. Fluxes. CLIRAD\n"
     ]
    },
    {
     "data": {
      "text/html": [
       "<div>\n",
       "<style>\n",
       "    .dataframe thead tr:only-child th {\n",
       "        text-align: right;\n",
       "    }\n",
       "\n",
       "    .dataframe thead th {\n",
       "        text-align: left;\n",
       "    }\n",
       "\n",
       "    .dataframe tbody tr th {\n",
       "        vertical-align: top;\n",
       "    }\n",
       "</style>\n",
       "<table border=\"1\" class=\"dataframe\">\n",
       "  <thead>\n",
       "    <tr style=\"text-align: right;\">\n",
       "      <th></th>\n",
       "      <th></th>\n",
       "      <th>flug</th>\n",
       "      <th>fldg</th>\n",
       "      <th>fnetg</th>\n",
       "    </tr>\n",
       "    <tr>\n",
       "      <th>pressure</th>\n",
       "      <th>level</th>\n",
       "      <th></th>\n",
       "      <th></th>\n",
       "      <th></th>\n",
       "    </tr>\n",
       "  </thead>\n",
       "  <tbody>\n",
       "    <tr>\n",
       "      <th>0.0000</th>\n",
       "      <th>1</th>\n",
       "      <td>1.861050e-03</td>\n",
       "      <td>0.000000</td>\n",
       "      <td>0.001861</td>\n",
       "    </tr>\n",
       "    <tr>\n",
       "      <th>1.0685</th>\n",
       "      <th>24</th>\n",
       "      <td>1.397880e-03</td>\n",
       "      <td>0.000165</td>\n",
       "      <td>0.001564</td>\n",
       "    </tr>\n",
       "    <tr>\n",
       "      <th>1013.0000</th>\n",
       "      <th>76</th>\n",
       "      <td>-2.000000e-07</td>\n",
       "      <td>-0.093735</td>\n",
       "      <td>-0.093735</td>\n",
       "    </tr>\n",
       "  </tbody>\n",
       "</table>\n",
       "</div>"
      ],
      "text/plain": [
       "                         flug      fldg     fnetg\n",
       "pressure  level                                  \n",
       "0.0000    1      1.861050e-03  0.000000  0.001861\n",
       "1.0685    24     1.397880e-03  0.000165  0.001564\n",
       "1013.0000 76    -2.000000e-07 -0.093735 -0.093735"
      ]
     },
     "metadata": {},
     "output_type": "display_data"
    },
    {
     "name": "stdout",
     "output_type": "stream",
     "text": [
      "Table. Fluxes. (CRD) - (WGT igg=10 wgt_flux=1)\n"
     ]
    },
    {
     "data": {
      "text/html": [
       "<div>\n",
       "<style>\n",
       "    .dataframe thead tr:only-child th {\n",
       "        text-align: right;\n",
       "    }\n",
       "\n",
       "    .dataframe thead th {\n",
       "        text-align: left;\n",
       "    }\n",
       "\n",
       "    .dataframe tbody tr th {\n",
       "        vertical-align: top;\n",
       "    }\n",
       "</style>\n",
       "<table border=\"1\" class=\"dataframe\">\n",
       "  <thead>\n",
       "    <tr style=\"text-align: right;\">\n",
       "      <th></th>\n",
       "      <th></th>\n",
       "      <th>flug</th>\n",
       "      <th>fldg</th>\n",
       "      <th>fnetg</th>\n",
       "    </tr>\n",
       "    <tr>\n",
       "      <th>pressure</th>\n",
       "      <th>level</th>\n",
       "      <th></th>\n",
       "      <th></th>\n",
       "      <th></th>\n",
       "    </tr>\n",
       "  </thead>\n",
       "  <tbody>\n",
       "    <tr>\n",
       "      <th>0.0000</th>\n",
       "      <th>1</th>\n",
       "      <td>-0.053237</td>\n",
       "      <td>0.000002</td>\n",
       "      <td>-0.053235</td>\n",
       "    </tr>\n",
       "    <tr>\n",
       "      <th>1.0685</th>\n",
       "      <th>24</th>\n",
       "      <td>-0.053190</td>\n",
       "      <td>-0.000382</td>\n",
       "      <td>-0.053571</td>\n",
       "    </tr>\n",
       "    <tr>\n",
       "      <th>1013.0000</th>\n",
       "      <th>76</th>\n",
       "      <td>0.000004</td>\n",
       "      <td>-0.104428</td>\n",
       "      <td>-0.104424</td>\n",
       "    </tr>\n",
       "  </tbody>\n",
       "</table>\n",
       "</div>"
      ],
      "text/plain": [
       "                     flug      fldg     fnetg\n",
       "pressure  level                              \n",
       "0.0000    1     -0.053237  0.000002 -0.053235\n",
       "1.0685    24    -0.053190 -0.000382 -0.053571\n",
       "1013.0000 76     0.000004 -0.104428 -0.104424"
      ]
     },
     "metadata": {},
     "output_type": "display_data"
    },
    {
     "name": "stdout",
     "output_type": "stream",
     "text": [
      "Table. Fluxes. (CLIRAD) - (WGT igg=10 wgt_flux=1)\n"
     ]
    },
    {
     "data": {
      "text/html": [
       "<a id=\"Best-fit_Parameters\"></a>"
      ],
      "text/plain": [
       "<IPython.core.display.HTML object>"
      ]
     },
     "metadata": {},
     "output_type": "display_data"
    },
    {
     "data": {
      "text/markdown": [
       "# Best-fit Parameters"
      ],
      "text/plain": [
       "<IPython.core.display.Markdown object>"
      ]
     },
     "metadata": {},
     "output_type": "display_data"
    },
    {
     "name": "stdout",
     "output_type": "stream",
     "text": [
      "Best-fit values for each (gas, band)\n",
      "------------------------------------\n",
      "o n2o band3a\n",
      "  atmpro = mls\n",
      "  band = 3a\n",
      "  commitnumber = a06b618\n",
      "  conc = 3.2e-07\n",
      "  dv = 0.001\n",
      "  klin = 2.22e-20\n",
      "  molecule = n2o\n",
      "  ng_adju = [0, 0]\n",
      "  ng_refs = [1, 2]\n",
      "  nv = 1000\n",
      "  option_compute_btable = 0\n",
      "  option_compute_ktable = 1\n",
      "  option_wgt_flux = 1\n",
      "  option_wgt_k = 1\n",
      "  ref_pts = [(1, 250), (500, 250)]\n",
      "  tsfc = 294\n",
      "  vmax = 620\n",
      "  vmin = 540\n",
      "  w_diffuse = [(1.8,), (1.66, 1.8)]\n",
      "  wgt = [(0.9,), (0.5, 0.95)]\n"
     ]
    }
   ],
   "source": [
    "script()"
   ]
  },
  {
   "cell_type": "code",
   "execution_count": 13,
   "metadata": {
    "collapsed": true
   },
   "outputs": [
    {
     "data": {
      "text/html": [
       "<script>\n",
       "code_show=true; \n",
       "function code_toggle() {\n",
       " if (code_show){\n",
       " $('div.input').hide();\n",
       " } else {\n",
       " $('div.input').show();\n",
       " }\n",
       " code_show = !code_show\n",
       "} \n",
       "$( document ).ready(code_toggle);\n",
       "</script>\n",
       "<form action=\"javascript:code_toggle()\"><input type=\"submit\" value=\"Click here to toggle on/off the raw code.\"></form>"
      ],
      "text/plain": [
       "<IPython.core.display.HTML object>"
      ]
     },
     "execution_count": 13,
     "metadata": {},
     "output_type": "execute_result"
    }
   ],
   "source": [
    "display.HTML('''<script>\n",
    "code_show=true; \n",
    "function code_toggle() {\n",
    " if (code_show){\n",
    " $('div.input').hide();\n",
    " } else {\n",
    " $('div.input').show();\n",
    " }\n",
    " code_show = !code_show\n",
    "} \n",
    "$( document ).ready(code_toggle);\n",
    "</script>\n",
    "<form action=\"javascript:code_toggle()\"><input type=\"submit\" value=\"Click here to toggle on/off the raw code.\"></form>''')"
   ]
  }
 ],
 "metadata": {
  "kernelspec": {
   "display_name": "Python 3",
   "language": "python",
   "name": "python3"
  },
  "language_info": {
   "codemirror_mode": {
    "name": "ipython",
    "version": 3
   },
   "file_extension": ".py",
   "mimetype": "text/x-python",
   "name": "python",
   "nbconvert_exporter": "python",
   "pygments_lexer": "ipython3",
   "version": "3.6.1"
  }
 },
 "nbformat": 4,
 "nbformat_minor": 2
}
