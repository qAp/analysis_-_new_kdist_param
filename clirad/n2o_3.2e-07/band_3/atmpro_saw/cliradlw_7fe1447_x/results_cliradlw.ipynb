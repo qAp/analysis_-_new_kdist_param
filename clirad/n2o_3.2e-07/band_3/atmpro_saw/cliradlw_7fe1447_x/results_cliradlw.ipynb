{
 "cells": [
  {
   "cell_type": "code",
   "execution_count": 1,
   "metadata": {
    "collapsed": true
   },
   "outputs": [],
   "source": [
    "%matplotlib inline\n",
    "import os\n",
    "import re\n",
    "import io\n",
    "import itertools\n",
    "import pprint\n",
    "\n",
    "from bokeh.io import output_notebook, show\n",
    "from bokeh.layouts import gridplot\n",
    "from bokeh.plotting import figure\n",
    "from bokeh.models import Range1d, Legend\n",
    "from bokeh.palettes import all_palettes\n",
    "\n",
    "import matplotlib\n",
    "import matplotlib.pyplot as plt\n",
    "import numpy as np\n",
    "import pandas as pd\n",
    "import xarray as xr\n",
    "\n",
    "import climatools.lblnew.bestfit_params as bestfits\n",
    "from climatools.lblnew import setup_bestfit, setup_overlap\n",
    "import climatools.lblnew.pipeline as pipe_lblnew\n",
    "import climatools.cliradlw.setup as setup_cliradlw\n",
    "import climatools.cliradlw.pipeline as pipe_cliradlw\n",
    "\n",
    "import climatools.html.html as climahtml\n",
    "from climatools.lblnew.dataio import *\n",
    "from climatools.plot.plot import *\n",
    "\n",
    "\n",
    "import IPython.display as display"
   ]
  },
  {
   "cell_type": "code",
   "execution_count": 2,
   "metadata": {
    "collapsed": true
   },
   "outputs": [],
   "source": [
    "%run param.py"
   ]
  },
  {
   "cell_type": "code",
   "execution_count": 3,
   "metadata": {
    "collapsed": true
   },
   "outputs": [],
   "source": [
    "def load_output_file(path_csv):\n",
    "    '''\n",
    "    Load lblnew output .csv file to xarray.Dataset\n",
    "    \n",
    "    Parameters\n",
    "    ----------\n",
    "    path_csv: str\n",
    "              Path to the .csv file to be loaded.\n",
    "    ds: xarray.Dataset\n",
    "        Data in the input file in the form of an xarray.Dataset.\n",
    "    '''\n",
    "    toindex = ['band', 'pressure', 'igg', 'g']    \n",
    "    df = pd.read_csv(path_csv, sep=r'\\s+')\n",
    "    df = df.set_index([i for i in toindex if i in df.columns])\n",
    "    df = df.rename(columns={'sfu': 'flug',\n",
    "                            'sfd': 'fldg',\n",
    "                            'fnet': 'fnetg',\n",
    "                            'coolr': 'coolrg'})\n",
    "    ds = xr.Dataset.from_dataframe(df)\n",
    "\n",
    "    for l in ('level', 'layer'):\n",
    "        if l in ds.data_vars:\n",
    "            if len(ds[l].dims) > 1:\n",
    "                surface = {d: 0 for d in ds.dims if d != 'pressure'}\n",
    "                coord_level = ds[l][surface]\n",
    "                ds.coords[l] = ('pressure', coord_level)\n",
    "            else:\n",
    "                ds.coords[l] = ('pressure', ds[l])\n",
    "    \n",
    "    return ds"
   ]
  },
  {
   "cell_type": "code",
   "execution_count": 4,
   "metadata": {
    "collapsed": true
   },
   "outputs": [],
   "source": [
    "def lblnew_setup(param=None):\n",
    "    if 'ng_refs' in param:\n",
    "        return {'setup': setup_bestfit,\n",
    "                'fname_flux_crd': 'output_flux.dat',\n",
    "                'fname_cool_crd': 'output_coolr.dat',\n",
    "                'fname_flux_wgt': 'output_wfluxg.dat',\n",
    "                'fname_cool_wgt': 'output_wcoolrg.dat'}\n",
    "    else:\n",
    "        return {'setup': setup_overlap,\n",
    "                'fname_flux_crd': 'output_flux.dat',\n",
    "                'fname_cool_crd': 'output_coolr.dat',\n",
    "                'fname_flux_wgt': 'output_wflux.dat',\n",
    "                'fname_cool_wgt': 'output_wcoolr.dat'}\n",
    "\n",
    "    \n",
    "def load_lblnew_data(param):\n",
    "    \n",
    "    fname_dsname = [('fname_flux_crd', 'ds_flux_crd'),\n",
    "                    ('fname_cool_crd', 'ds_cool_crd'),\n",
    "                    ('fname_flux_wgt', 'ds_flux_wgt'),\n",
    "                    ('fname_cool_wgt', 'ds_cool_wgt')]\n",
    "    \n",
    "    d = lblnew_setup(param)\n",
    "    dir_fortran = pipe_lblnew.get_dir_case(param, setup=d['setup'])\n",
    "    \n",
    "    data_dict = {}\n",
    "    for fname, dsname in fname_dsname:\n",
    "        fpath = os.path.join(dir_fortran, d[fname])\n",
    "        data_dict[dsname] = load_output_file(fpath)\n",
    "    return data_dict\n",
    "    \n",
    "\n",
    "    \n",
    "    "
   ]
  },
  {
   "cell_type": "code",
   "execution_count": 5,
   "metadata": {
    "collapsed": true
   },
   "outputs": [],
   "source": [
    "d = load_lblnew_data(PARAM_LBLNEW)\n",
    "\n",
    "DS_FLUX_CRD = d['ds_flux_crd']\n",
    "DS_COOL_CRD = d['ds_cool_crd']\n",
    "DS_FLUX_WGT = d['ds_flux_wgt']\n",
    "DS_COOL_WGT = d['ds_cool_wgt']"
   ]
  },
  {
   "cell_type": "code",
   "execution_count": 6,
   "metadata": {
    "collapsed": true
   },
   "outputs": [],
   "source": [
    "DIR_FORTRAN = pipe_cliradlw.get_fortran_dir(PARAM, \n",
    "                                            setup=setup_cliradlw)\n",
    "\n",
    "PATH_FLUX = os.path.join(DIR_FORTRAN, 'output_flux.dat')\n",
    "PATH_COOL = os.path.join(DIR_FORTRAN, 'output_coolr.dat')\n",
    "\n",
    "DS_FLUX = load_output_file(PATH_FLUX)\n",
    "DS_COOL = load_output_file(PATH_COOL)"
   ]
  },
  {
   "cell_type": "code",
   "execution_count": 7,
   "metadata": {
    "collapsed": true
   },
   "outputs": [
    {
     "data": {
      "text/html": [
       "\n",
       "    <div class=\"bk-root\">\n",
       "        <a href=\"https://bokeh.pydata.org\" target=\"_blank\" class=\"bk-logo bk-logo-small bk-logo-notebook\"></a>\n",
       "        <span id=\"48531a27-d7ba-4c14-95ae-cea0ba81d78c\">Loading BokehJS ...</span>\n",
       "    </div>"
      ]
     },
     "metadata": {},
     "output_type": "display_data"
    },
    {
     "data": {
      "application/javascript": [
       "\n",
       "(function(root) {\n",
       "  function now() {\n",
       "    return new Date();\n",
       "  }\n",
       "\n",
       "  var force = true;\n",
       "\n",
       "  if (typeof (root._bokeh_onload_callbacks) === \"undefined\" || force === true) {\n",
       "    root._bokeh_onload_callbacks = [];\n",
       "    root._bokeh_is_loading = undefined;\n",
       "  }\n",
       "\n",
       "  var JS_MIME_TYPE = 'application/javascript';\n",
       "  var HTML_MIME_TYPE = 'text/html';\n",
       "  var EXEC_MIME_TYPE = 'application/vnd.bokehjs_exec.v0+json';\n",
       "  var CLASS_NAME = 'output_bokeh rendered_html';\n",
       "\n",
       "  /**\n",
       "   * Render data to the DOM node\n",
       "   */\n",
       "  function render(props, node) {\n",
       "    var script = document.createElement(\"script\");\n",
       "    node.appendChild(script);\n",
       "  }\n",
       "\n",
       "  /**\n",
       "   * Handle when an output is cleared or removed\n",
       "   */\n",
       "  function handleClearOutput(event, handle) {\n",
       "    var cell = handle.cell;\n",
       "\n",
       "    var id = cell.output_area._bokeh_element_id;\n",
       "    var server_id = cell.output_area._bokeh_server_id;\n",
       "    // Clean up Bokeh references\n",
       "    if (id !== undefined) {\n",
       "      Bokeh.index[id].model.document.clear();\n",
       "      delete Bokeh.index[id];\n",
       "    }\n",
       "\n",
       "    if (server_id !== undefined) {\n",
       "      // Clean up Bokeh references\n",
       "      var cmd = \"from bokeh.io.state import curstate; print(curstate().uuid_to_server['\" + server_id + \"'].get_sessions()[0].document.roots[0]._id)\";\n",
       "      cell.notebook.kernel.execute(cmd, {\n",
       "        iopub: {\n",
       "          output: function(msg) {\n",
       "            var element_id = msg.content.text.trim();\n",
       "            Bokeh.index[element_id].model.document.clear();\n",
       "            delete Bokeh.index[element_id];\n",
       "          }\n",
       "        }\n",
       "      });\n",
       "      // Destroy server and session\n",
       "      var cmd = \"import bokeh.io.notebook as ion; ion.destroy_server('\" + server_id + \"')\";\n",
       "      cell.notebook.kernel.execute(cmd);\n",
       "    }\n",
       "  }\n",
       "\n",
       "  /**\n",
       "   * Handle when a new output is added\n",
       "   */\n",
       "  function handleAddOutput(event, handle) {\n",
       "    var output_area = handle.output_area;\n",
       "    var output = handle.output;\n",
       "\n",
       "    // limit handleAddOutput to display_data with EXEC_MIME_TYPE content only\n",
       "    if ((output.output_type != \"display_data\") || (!output.data.hasOwnProperty(EXEC_MIME_TYPE))) {\n",
       "      return\n",
       "    }\n",
       "\n",
       "    var toinsert = output_area.element.find(\".\" + CLASS_NAME.split(' ')[0]);\n",
       "\n",
       "    if (output.metadata[EXEC_MIME_TYPE][\"id\"] !== undefined) {\n",
       "      toinsert[0].firstChild.textContent = output.data[JS_MIME_TYPE];\n",
       "      // store reference to embed id on output_area\n",
       "      output_area._bokeh_element_id = output.metadata[EXEC_MIME_TYPE][\"id\"];\n",
       "    }\n",
       "    if (output.metadata[EXEC_MIME_TYPE][\"server_id\"] !== undefined) {\n",
       "      var bk_div = document.createElement(\"div\");\n",
       "      bk_div.innerHTML = output.data[HTML_MIME_TYPE];\n",
       "      var script_attrs = bk_div.children[0].attributes;\n",
       "      for (var i = 0; i < script_attrs.length; i++) {\n",
       "        toinsert[0].firstChild.setAttribute(script_attrs[i].name, script_attrs[i].value);\n",
       "      }\n",
       "      // store reference to server id on output_area\n",
       "      output_area._bokeh_server_id = output.metadata[EXEC_MIME_TYPE][\"server_id\"];\n",
       "    }\n",
       "  }\n",
       "\n",
       "  function register_renderer(events, OutputArea) {\n",
       "\n",
       "    function append_mime(data, metadata, element) {\n",
       "      // create a DOM node to render to\n",
       "      var toinsert = this.create_output_subarea(\n",
       "        metadata,\n",
       "        CLASS_NAME,\n",
       "        EXEC_MIME_TYPE\n",
       "      );\n",
       "      this.keyboard_manager.register_events(toinsert);\n",
       "      // Render to node\n",
       "      var props = {data: data, metadata: metadata[EXEC_MIME_TYPE]};\n",
       "      render(props, toinsert[0]);\n",
       "      element.append(toinsert);\n",
       "      return toinsert\n",
       "    }\n",
       "\n",
       "    /* Handle when an output is cleared or removed */\n",
       "    events.on('clear_output.CodeCell', handleClearOutput);\n",
       "    events.on('delete.Cell', handleClearOutput);\n",
       "\n",
       "    /* Handle when a new output is added */\n",
       "    events.on('output_added.OutputArea', handleAddOutput);\n",
       "\n",
       "    /**\n",
       "     * Register the mime type and append_mime function with output_area\n",
       "     */\n",
       "    OutputArea.prototype.register_mime_type(EXEC_MIME_TYPE, append_mime, {\n",
       "      /* Is output safe? */\n",
       "      safe: true,\n",
       "      /* Index of renderer in `output_area.display_order` */\n",
       "      index: 0\n",
       "    });\n",
       "  }\n",
       "\n",
       "  // register the mime type if in Jupyter Notebook environment and previously unregistered\n",
       "  if (root.Jupyter !== undefined) {\n",
       "    var events = require('base/js/events');\n",
       "    var OutputArea = require('notebook/js/outputarea').OutputArea;\n",
       "\n",
       "    if (OutputArea.prototype.mime_types().indexOf(EXEC_MIME_TYPE) == -1) {\n",
       "      register_renderer(events, OutputArea);\n",
       "    }\n",
       "  }\n",
       "\n",
       "  \n",
       "  if (typeof (root._bokeh_timeout) === \"undefined\" || force === true) {\n",
       "    root._bokeh_timeout = Date.now() + 5000;\n",
       "    root._bokeh_failed_load = false;\n",
       "  }\n",
       "\n",
       "  var NB_LOAD_WARNING = {'data': {'text/html':\n",
       "     \"<div style='background-color: #fdd'>\\n\"+\n",
       "     \"<p>\\n\"+\n",
       "     \"BokehJS does not appear to have successfully loaded. If loading BokehJS from CDN, this \\n\"+\n",
       "     \"may be due to a slow or bad network connection. Possible fixes:\\n\"+\n",
       "     \"</p>\\n\"+\n",
       "     \"<ul>\\n\"+\n",
       "     \"<li>re-rerun `output_notebook()` to attempt to load from CDN again, or</li>\\n\"+\n",
       "     \"<li>use INLINE resources instead, as so:</li>\\n\"+\n",
       "     \"</ul>\\n\"+\n",
       "     \"<code>\\n\"+\n",
       "     \"from bokeh.resources import INLINE\\n\"+\n",
       "     \"output_notebook(resources=INLINE)\\n\"+\n",
       "     \"</code>\\n\"+\n",
       "     \"</div>\"}};\n",
       "\n",
       "  function display_loaded() {\n",
       "    var el = document.getElementById(\"48531a27-d7ba-4c14-95ae-cea0ba81d78c\");\n",
       "    if (el != null) {\n",
       "      el.textContent = \"BokehJS is loading...\";\n",
       "    }\n",
       "    if (root.Bokeh !== undefined) {\n",
       "      if (el != null) {\n",
       "        el.textContent = \"BokehJS \" + root.Bokeh.version + \" successfully loaded.\";\n",
       "      }\n",
       "    } else if (Date.now() < root._bokeh_timeout) {\n",
       "      setTimeout(display_loaded, 100)\n",
       "    }\n",
       "  }\n",
       "\n",
       "\n",
       "  function run_callbacks() {\n",
       "    try {\n",
       "      root._bokeh_onload_callbacks.forEach(function(callback) { callback() });\n",
       "    }\n",
       "    finally {\n",
       "      delete root._bokeh_onload_callbacks\n",
       "    }\n",
       "    console.info(\"Bokeh: all callbacks have finished\");\n",
       "  }\n",
       "\n",
       "  function load_libs(js_urls, callback) {\n",
       "    root._bokeh_onload_callbacks.push(callback);\n",
       "    if (root._bokeh_is_loading > 0) {\n",
       "      console.log(\"Bokeh: BokehJS is being loaded, scheduling callback at\", now());\n",
       "      return null;\n",
       "    }\n",
       "    if (js_urls == null || js_urls.length === 0) {\n",
       "      run_callbacks();\n",
       "      return null;\n",
       "    }\n",
       "    console.log(\"Bokeh: BokehJS not loaded, scheduling load and callback at\", now());\n",
       "    root._bokeh_is_loading = js_urls.length;\n",
       "    for (var i = 0; i < js_urls.length; i++) {\n",
       "      var url = js_urls[i];\n",
       "      var s = document.createElement('script');\n",
       "      s.src = url;\n",
       "      s.async = false;\n",
       "      s.onreadystatechange = s.onload = function() {\n",
       "        root._bokeh_is_loading--;\n",
       "        if (root._bokeh_is_loading === 0) {\n",
       "          console.log(\"Bokeh: all BokehJS libraries loaded\");\n",
       "          run_callbacks()\n",
       "        }\n",
       "      };\n",
       "      s.onerror = function() {\n",
       "        console.warn(\"failed to load library \" + url);\n",
       "      };\n",
       "      console.log(\"Bokeh: injecting script tag for BokehJS library: \", url);\n",
       "      document.getElementsByTagName(\"head\")[0].appendChild(s);\n",
       "    }\n",
       "  };var element = document.getElementById(\"48531a27-d7ba-4c14-95ae-cea0ba81d78c\");\n",
       "  if (element == null) {\n",
       "    console.log(\"Bokeh: ERROR: autoload.js configured with elementid '48531a27-d7ba-4c14-95ae-cea0ba81d78c' but no matching script tag was found. \")\n",
       "    return false;\n",
       "  }\n",
       "\n",
       "  var js_urls = [\"https://cdn.pydata.org/bokeh/release/bokeh-0.12.14.min.js\", \"https://cdn.pydata.org/bokeh/release/bokeh-widgets-0.12.14.min.js\", \"https://cdn.pydata.org/bokeh/release/bokeh-tables-0.12.14.min.js\", \"https://cdn.pydata.org/bokeh/release/bokeh-gl-0.12.14.min.js\"];\n",
       "\n",
       "  var inline_js = [\n",
       "    function(Bokeh) {\n",
       "      Bokeh.set_log_level(\"info\");\n",
       "    },\n",
       "    \n",
       "    function(Bokeh) {\n",
       "      \n",
       "    },\n",
       "    function(Bokeh) {\n",
       "      console.log(\"Bokeh: injecting CSS: https://cdn.pydata.org/bokeh/release/bokeh-0.12.14.min.css\");\n",
       "      Bokeh.embed.inject_css(\"https://cdn.pydata.org/bokeh/release/bokeh-0.12.14.min.css\");\n",
       "      console.log(\"Bokeh: injecting CSS: https://cdn.pydata.org/bokeh/release/bokeh-widgets-0.12.14.min.css\");\n",
       "      Bokeh.embed.inject_css(\"https://cdn.pydata.org/bokeh/release/bokeh-widgets-0.12.14.min.css\");\n",
       "      console.log(\"Bokeh: injecting CSS: https://cdn.pydata.org/bokeh/release/bokeh-tables-0.12.14.min.css\");\n",
       "      Bokeh.embed.inject_css(\"https://cdn.pydata.org/bokeh/release/bokeh-tables-0.12.14.min.css\");\n",
       "    }\n",
       "  ];\n",
       "\n",
       "  function run_inline_js() {\n",
       "    \n",
       "    if ((root.Bokeh !== undefined) || (force === true)) {\n",
       "      for (var i = 0; i < inline_js.length; i++) {\n",
       "        inline_js[i].call(root, root.Bokeh);\n",
       "      }if (force === true) {\n",
       "        display_loaded();\n",
       "      }} else if (Date.now() < root._bokeh_timeout) {\n",
       "      setTimeout(run_inline_js, 100);\n",
       "    } else if (!root._bokeh_failed_load) {\n",
       "      console.log(\"Bokeh: BokehJS failed to load within specified timeout.\");\n",
       "      root._bokeh_failed_load = true;\n",
       "    } else if (force !== true) {\n",
       "      var cell = $(document.getElementById(\"48531a27-d7ba-4c14-95ae-cea0ba81d78c\")).parents('.cell').data().cell;\n",
       "      cell.output_area.append_execute_result(NB_LOAD_WARNING)\n",
       "    }\n",
       "\n",
       "  }\n",
       "\n",
       "  if (root._bokeh_is_loading === 0) {\n",
       "    console.log(\"Bokeh: BokehJS loaded, going straight to plotting\");\n",
       "    run_inline_js();\n",
       "  } else {\n",
       "    load_libs(js_urls, function() {\n",
       "      console.log(\"Bokeh: BokehJS plotting callback run at\", now());\n",
       "      run_inline_js();\n",
       "    });\n",
       "  }\n",
       "}(window));"
      ],
      "application/vnd.bokehjs_load.v0+json": "\n(function(root) {\n  function now() {\n    return new Date();\n  }\n\n  var force = true;\n\n  if (typeof (root._bokeh_onload_callbacks) === \"undefined\" || force === true) {\n    root._bokeh_onload_callbacks = [];\n    root._bokeh_is_loading = undefined;\n  }\n\n  \n\n  \n  if (typeof (root._bokeh_timeout) === \"undefined\" || force === true) {\n    root._bokeh_timeout = Date.now() + 5000;\n    root._bokeh_failed_load = false;\n  }\n\n  var NB_LOAD_WARNING = {'data': {'text/html':\n     \"<div style='background-color: #fdd'>\\n\"+\n     \"<p>\\n\"+\n     \"BokehJS does not appear to have successfully loaded. If loading BokehJS from CDN, this \\n\"+\n     \"may be due to a slow or bad network connection. Possible fixes:\\n\"+\n     \"</p>\\n\"+\n     \"<ul>\\n\"+\n     \"<li>re-rerun `output_notebook()` to attempt to load from CDN again, or</li>\\n\"+\n     \"<li>use INLINE resources instead, as so:</li>\\n\"+\n     \"</ul>\\n\"+\n     \"<code>\\n\"+\n     \"from bokeh.resources import INLINE\\n\"+\n     \"output_notebook(resources=INLINE)\\n\"+\n     \"</code>\\n\"+\n     \"</div>\"}};\n\n  function display_loaded() {\n    var el = document.getElementById(\"48531a27-d7ba-4c14-95ae-cea0ba81d78c\");\n    if (el != null) {\n      el.textContent = \"BokehJS is loading...\";\n    }\n    if (root.Bokeh !== undefined) {\n      if (el != null) {\n        el.textContent = \"BokehJS \" + root.Bokeh.version + \" successfully loaded.\";\n      }\n    } else if (Date.now() < root._bokeh_timeout) {\n      setTimeout(display_loaded, 100)\n    }\n  }\n\n\n  function run_callbacks() {\n    try {\n      root._bokeh_onload_callbacks.forEach(function(callback) { callback() });\n    }\n    finally {\n      delete root._bokeh_onload_callbacks\n    }\n    console.info(\"Bokeh: all callbacks have finished\");\n  }\n\n  function load_libs(js_urls, callback) {\n    root._bokeh_onload_callbacks.push(callback);\n    if (root._bokeh_is_loading > 0) {\n      console.log(\"Bokeh: BokehJS is being loaded, scheduling callback at\", now());\n      return null;\n    }\n    if (js_urls == null || js_urls.length === 0) {\n      run_callbacks();\n      return null;\n    }\n    console.log(\"Bokeh: BokehJS not loaded, scheduling load and callback at\", now());\n    root._bokeh_is_loading = js_urls.length;\n    for (var i = 0; i < js_urls.length; i++) {\n      var url = js_urls[i];\n      var s = document.createElement('script');\n      s.src = url;\n      s.async = false;\n      s.onreadystatechange = s.onload = function() {\n        root._bokeh_is_loading--;\n        if (root._bokeh_is_loading === 0) {\n          console.log(\"Bokeh: all BokehJS libraries loaded\");\n          run_callbacks()\n        }\n      };\n      s.onerror = function() {\n        console.warn(\"failed to load library \" + url);\n      };\n      console.log(\"Bokeh: injecting script tag for BokehJS library: \", url);\n      document.getElementsByTagName(\"head\")[0].appendChild(s);\n    }\n  };var element = document.getElementById(\"48531a27-d7ba-4c14-95ae-cea0ba81d78c\");\n  if (element == null) {\n    console.log(\"Bokeh: ERROR: autoload.js configured with elementid '48531a27-d7ba-4c14-95ae-cea0ba81d78c' but no matching script tag was found. \")\n    return false;\n  }\n\n  var js_urls = [\"https://cdn.pydata.org/bokeh/release/bokeh-0.12.14.min.js\", \"https://cdn.pydata.org/bokeh/release/bokeh-widgets-0.12.14.min.js\", \"https://cdn.pydata.org/bokeh/release/bokeh-tables-0.12.14.min.js\", \"https://cdn.pydata.org/bokeh/release/bokeh-gl-0.12.14.min.js\"];\n\n  var inline_js = [\n    function(Bokeh) {\n      Bokeh.set_log_level(\"info\");\n    },\n    \n    function(Bokeh) {\n      \n    },\n    function(Bokeh) {\n      console.log(\"Bokeh: injecting CSS: https://cdn.pydata.org/bokeh/release/bokeh-0.12.14.min.css\");\n      Bokeh.embed.inject_css(\"https://cdn.pydata.org/bokeh/release/bokeh-0.12.14.min.css\");\n      console.log(\"Bokeh: injecting CSS: https://cdn.pydata.org/bokeh/release/bokeh-widgets-0.12.14.min.css\");\n      Bokeh.embed.inject_css(\"https://cdn.pydata.org/bokeh/release/bokeh-widgets-0.12.14.min.css\");\n      console.log(\"Bokeh: injecting CSS: https://cdn.pydata.org/bokeh/release/bokeh-tables-0.12.14.min.css\");\n      Bokeh.embed.inject_css(\"https://cdn.pydata.org/bokeh/release/bokeh-tables-0.12.14.min.css\");\n    }\n  ];\n\n  function run_inline_js() {\n    \n    if ((root.Bokeh !== undefined) || (force === true)) {\n      for (var i = 0; i < inline_js.length; i++) {\n        inline_js[i].call(root, root.Bokeh);\n      }if (force === true) {\n        display_loaded();\n      }} else if (Date.now() < root._bokeh_timeout) {\n      setTimeout(run_inline_js, 100);\n    } else if (!root._bokeh_failed_load) {\n      console.log(\"Bokeh: BokehJS failed to load within specified timeout.\");\n      root._bokeh_failed_load = true;\n    } else if (force !== true) {\n      var cell = $(document.getElementById(\"48531a27-d7ba-4c14-95ae-cea0ba81d78c\")).parents('.cell').data().cell;\n      cell.output_area.append_execute_result(NB_LOAD_WARNING)\n    }\n\n  }\n\n  if (root._bokeh_is_loading === 0) {\n    console.log(\"Bokeh: BokehJS loaded, going straight to plotting\");\n    run_inline_js();\n  } else {\n    load_libs(js_urls, function() {\n      console.log(\"Bokeh: BokehJS plotting callback run at\", now());\n      run_inline_js();\n    });\n  }\n}(window));"
     },
     "metadata": {},
     "output_type": "display_data"
    }
   ],
   "source": [
    "output_notebook()"
   ]
  },
  {
   "cell_type": "code",
   "execution_count": 8,
   "metadata": {
    "collapsed": true
   },
   "outputs": [],
   "source": [
    "def fmt_cool(ds_in):\n",
    "    ds = ds_in.copy(deep=True)\n",
    "    if 'igg' in ds.dims:\n",
    "        ds = ds.sel(igg=1)\n",
    "\n",
    "    if 'g' in ds.dims:\n",
    "        ds = ds.sum('g')\n",
    "            \n",
    "    if 'band' in ds.dims:\n",
    "        try:\n",
    "            ds = ds.squeeze('band')\n",
    "        except ValueError:\n",
    "            ds = ds.sum('band')\n",
    "                \n",
    "    return ds['coolrg']\n",
    "\n",
    "\n",
    "def pltdata_cooling_1(ds_cool=None,\n",
    "                      ds_cool_crd=None, ds_cool_wgt=None):\n",
    "    \n",
    "\n",
    "\n",
    "    colors = all_palettes['Set1'][4]\n",
    "    data = [{'label': 'CLIRAD `coolr_bands`',\n",
    "             'srs': fmt_cool(ds_cool),\n",
    "             'line_dash': 'dashed', 'line_width': 5,\n",
    "             'color': colors[0], 'alpha': .6},\n",
    "            {'label': 'CRD',\n",
    "             'srs': fmt_cool(ds_cool_crd),\n",
    "             'line_dash': 'solid', 'line_width': 1.5,\n",
    "             'marker': 'circle', 'marker_size': 5,\n",
    "             'color': colors[2], 'alpha': 1,},\n",
    "            {'label': 'WGT igg=10 wgt_flux=2',\n",
    "             'srs': fmt_cool(ds_cool_wgt),\n",
    "             'line_dash': 'solid', 'line_width': 3,\n",
    "             'marker': 'square', 'marker_size': 5,\n",
    "             'color': colors[3], 'alpha': .6}]\n",
    "    return data\n",
    "\n",
    "\n",
    "def nice_xlims(pltdata=None, prange=None):\n",
    "    \n",
    "    def get_slice(srs):\n",
    "        return srs.sel(pressure=slice(*prange))\n",
    "    \n",
    "    srss = [d['srs'] for d in pltdata]\n",
    "    vmin = min([get_slice(srs).min() for srs in srss])\n",
    "    vmax = max([get_slice(srs).max() for srs in srss])\n",
    "    dv = (vmax - vmin) * .01\n",
    "    return float(vmin - dv), float(vmax + dv)\n",
    "    \n",
    "\n",
    "def plt_cooling_bokeh(pltdata=None):\n",
    "    '''\n",
    "    Plot a list of cooling rate profiles using bokeh.\n",
    "    '''\n",
    "    ymin = 1e-2 \n",
    "    ymax = 1020 \n",
    "        \n",
    "    p1 = figure(title=\"Linear pressure scale\", \n",
    "                plot_width=400)        \n",
    "    xmin, xmax = nice_xlims(pltdata, prange=(50, 1050))\n",
    "    for d in pltdata:\n",
    "        if 'marker' in d:\n",
    "            getattr(p1, d['marker'])(d['srs'].values, \n",
    "                    d['srs'].coords['pressure'].values,\n",
    "                    color=d['color'], alpha=.7)\n",
    "        p1.line(d['srs'].values, \n",
    "                d['srs'].coords['pressure'].values,\n",
    "                color=d['color'], alpha=d['alpha'], \n",
    "                line_width=d['line_width'], line_dash=d['line_dash'])\n",
    "    \n",
    "    p1.y_range = Range1d(ymax, ymin)\n",
    "    p1.yaxis.axis_label = 'pressure [mb]'   \n",
    "    p1.x_range = Range1d(xmin, xmax)\n",
    "    p1.xaxis.axis_label = 'cooling rate [K/day]'\n",
    "            \n",
    "    p2 = figure(title='Log pressure scale', y_axis_type='log',\n",
    "                plot_width=560)\n",
    "    xmin, xmax = nice_xlims(pltdata, prange=(.01, 200))\n",
    "    \n",
    "    rs = []\n",
    "    for d in pltdata:\n",
    "        rd = []\n",
    "        if 'marker' in d:\n",
    "            r_mark = getattr(p2, d['marker'])(d['srs'].values, \n",
    "                        d['srs'].coords['pressure'].values,\n",
    "                        color=d['color'], alpha=.7)\n",
    "            rd.append(r_mark)\n",
    "        r_line = p2.line(d['srs'].values, \n",
    "                    d['srs'].coords['pressure'].values,\n",
    "                    color=d['color'], alpha=d['alpha'], \n",
    "                    line_width=d['line_width'], line_dash=d['line_dash'])\n",
    "        rd.append(r_line)\n",
    "      \n",
    "        rs.append(rd)\n",
    "        \n",
    "    p2.y_range = Range1d(ymax, ymin)  \n",
    "    p2.yaxis.axis_label = 'pressure [mb]'\n",
    "    \n",
    "    p2.x_range = Range1d(xmin, xmax)\n",
    "    p2.xaxis.axis_label = 'cooling rate [K/day]'\n",
    "    \n",
    "    items = [(d['label'], r) for r, d in zip(rs, pltdata)]\n",
    "    legend = Legend(items=items, location=(10, -30))\n",
    "    legend.label_text_font_size = '8pt'\n",
    "    \n",
    "    p2.add_layout(legend, 'right')  \n",
    "    \n",
    "    show(gridplot(p1, p2, ncols=2, plot_height=500))\n",
    "    \n",
    "\n",
    "def script_plt_cooling():\n",
    "    pltdata = pltdata_cooling_1(\n",
    "        ds_cool=DS_COOL,\n",
    "        ds_cool_crd=DS_COOL_CRD,\n",
    "        ds_cool_wgt=DS_COOL_WGT)\n",
    "    plt_cooling_bokeh(pltdata=pltdata)\n",
    "    print('''FIGURE. Cooling rate profiles.''')"
   ]
  },
  {
   "cell_type": "code",
   "execution_count": 9,
   "metadata": {
    "collapsed": true
   },
   "outputs": [],
   "source": [
    "def fmt_flux(ds_in):\n",
    "    ds = ds_in.copy(deep=True)\n",
    "    \n",
    "    for l in ('level', 'layer'):\n",
    "        if l in ds.data_vars:\n",
    "            if len(ds[l].dims) > 1:\n",
    "                surface = {d: 0 for d in ds.dims if d != 'pressure'}\n",
    "                coord_level = ds[l][surface]\n",
    "                ds.coords[l] = ('pressure', coord_level)\n",
    "            else:\n",
    "                ds.coords[l] = ('pressure', ds[l])\n",
    "        \n",
    "    ds = ds.isel(pressure=[0, 23, -1])\n",
    "        \n",
    "    if 'igg' in ds.dims:\n",
    "        ds = ds.sel(igg=[1])\n",
    "        ds = ds.squeeze('igg').drop('igg')\n",
    "    \n",
    "    if 'g' in ds.dims:\n",
    "        ds = ds.sum('g')\n",
    "            \n",
    "    if 'band' in ds.dims:\n",
    "        try:\n",
    "            ds = ds.squeeze('band').drop('band')\n",
    "        except ValueError:\n",
    "            ds = ds.sum('band')\n",
    "                \n",
    "    df = ds.to_dataframe()\n",
    "    df = df.set_index('level', append=True)               \n",
    "    return df\n",
    "\n",
    "\n",
    "def tbdata_flux(ds_flux=None, ds_flux_crd=None, ds_flux_wgt=None):\n",
    "    ilevels = [0, 23, -1]\n",
    "            \n",
    "    benchmark = {'label': 'WGT igg=10 wgt_flux=1',\n",
    "                 'df': fmt_flux(ds_flux_wgt)}\n",
    "    \n",
    "    tbs = [{'label': 'CRD',\n",
    "            'df': fmt_flux(ds_flux_crd)},\n",
    "           {'label': 'CLIRAD',\n",
    "            'df': fmt_flux(ds_flux)}]\n",
    "    \n",
    "    data = {'benchmark': benchmark, 'others': tbs}\n",
    "    return data\n",
    "\n",
    "\n",
    "def tb_flux(tbdata=None):\n",
    "    benchmark = tbdata['benchmark']\n",
    "    others = tbdata['others']\n",
    "    \n",
    "    def show_tb(d=None):\n",
    "        display.display(d['df'])\n",
    "        print('Table.', 'Fluxes.', d['label'])\n",
    "        \n",
    "    def show_tbdiff(d0=None, d=None):\n",
    "        df = d['df']\n",
    "        df.index = d0['df'].index\n",
    "        display.display(df - d0['df'])\n",
    "        print('Table.', 'Fluxes.', \n",
    "              '({}) - ({})'.format(d['label'], d0['label']))\n",
    "        \n",
    "    show_tb(benchmark)\n",
    "    for d in others:\n",
    "        show_tb(d)\n",
    "        \n",
    "    for d in others:\n",
    "        show_tbdiff(d=d, d0=benchmark)\n",
    "        \n",
    "        \n",
    "def script_tb_flux():\n",
    "    data = tbdata_flux(ds_flux=DS_FLUX,\n",
    "                       ds_flux_crd=DS_FLUX_CRD,\n",
    "                       ds_flux_wgt=DS_FLUX_WGT)\n",
    "    tb_flux(tbdata=data)"
   ]
  },
  {
   "cell_type": "code",
   "execution_count": 10,
   "metadata": {
    "collapsed": true
   },
   "outputs": [],
   "source": [
    "def band_map():\n",
    "    '''\n",
    "    Maps spectral bands in lblnew to spectral bands in clirad.\n",
    "    '''\n",
    "    lblnew2clirad = {'1': '1',\n",
    "            '2': '2',\n",
    "            '3a': '3',\n",
    "            '3b': '4',\n",
    "            '3c': '5',\n",
    "            '4': '6', \n",
    "            '5': '7',\n",
    "            '6': '8',\n",
    "            '7': '9', \n",
    "            '8': '10',\n",
    "            '9': '11'}\n",
    "    \n",
    "    clirad2lblnew = {clirad: lblnew \n",
    "                     for lblnew, clirad in lblnew2clirad.items()}\n",
    "    return clirad2lblnew\n",
    "\n",
    "\n",
    "def gasbands():\n",
    "    bmap = band_map()\n",
    "    gases = list(PARAM['molecule'].keys())\n",
    "    \n",
    "    bands = [bmap[str(b)] for b in PARAM['band']]\n",
    "    return list(itertools.product(gases, bands))\n",
    "\n",
    "\n",
    "def print_bestfit_params():\n",
    "    print('Best-fit values for each (gas, band)')\n",
    "    print('------------------------------------')\n",
    "    for gas, band in gasbands():\n",
    "        print('o {} band{}'.format(gas, band))\n",
    "        param = bestfits.kdist_params(molecule=gas, band=band)\n",
    "        for name, value in sorted(param.items()):\n",
    "            print(2 * ' ' + '{} = {}'.format(name, value))\n",
    "\n",
    "        \n",
    "def print_input_param():        \n",
    "    for name, value in PARAM.items():\n",
    "        print('{} = {}'.format(name, value))\n",
    "        \n",
    "        \n",
    "def print_lblnew_param():\n",
    "    for name, value in sorted(PARAM_LBLNEW.items()):\n",
    "        print('{} = {}'.format(name, value))\n"
   ]
  },
  {
   "cell_type": "code",
   "execution_count": 11,
   "metadata": {
    "collapsed": true,
    "scrolled": false
   },
   "outputs": [],
   "source": [
    "def show_html(s):\n",
    "    display.display(display.HTML(s))\n",
    "\n",
    "    \n",
    "def show_markdown(s):\n",
    "    display.display(display.Markdown(s))\n",
    "\n",
    "    \n",
    "def script():\n",
    "    \n",
    "    title = '### CLIRAD-LW'\n",
    "    s_input = 'Input Parameters'\n",
    "    s_lblnew_param = 'LBLNEW case compaired against'\n",
    "    s_bestfits = 'Best-fit Parameters'\n",
    "    s_plt_cooling = 'Cooling Rate Profiles'\n",
    "    s_tb_flux = 'Flux Comparison'\n",
    "    \n",
    "    # title\n",
    "    show_markdown('### CLIRAD-LW')\n",
    "    \n",
    "    # TOC\n",
    "    show_markdown('### Table of Contents')\n",
    "    show_html(climahtml.getHTML_hrefanchor(s_input))\n",
    "    show_html(climahtml.getHTML_hrefanchor(s_lblnew_param))\n",
    "    show_html(climahtml.getHTML_hrefanchor(s_plt_cooling))\n",
    "    show_html(climahtml.getHTML_hrefanchor(s_tb_flux))\n",
    "    show_html(climahtml.getHTML_hrefanchor(s_bestfits))\n",
    "    \n",
    "    # Input parameters\n",
    "    show_html(climahtml.getHTML_idanchor(s_input))\n",
    "    show_markdown(climahtml.getMarkdown_sectitle(s_input))\n",
    "    print_input_param()\n",
    "    \n",
    "    # LBLNEW parameters \n",
    "    show_html(climahtml.getHTML_idanchor(s_lblnew_param))\n",
    "    show_markdown(climahtml.getMarkdown_sectitle(s_lblnew_param))\n",
    "    print_lblnew_param()\n",
    "    \n",
    "    # Cooling rate profiles\n",
    "    show_html(climahtml.getHTML_idanchor(s_plt_cooling))\n",
    "    show_markdown(climahtml.getMarkdown_sectitle(s_plt_cooling))\n",
    "    script_plt_cooling()\n",
    "    \n",
    "    # Flux comparison\n",
    "    show_html(climahtml.getHTML_idanchor(s_tb_flux))\n",
    "    show_markdown(climahtml.getMarkdown_sectitle(s_tb_flux))\n",
    "    script_tb_flux()\n",
    "    \n",
    "    # Best-fit values\n",
    "    show_html(climahtml.getHTML_idanchor(s_bestfits))\n",
    "    show_markdown(climahtml.getMarkdown_sectitle(s_bestfits))\n",
    "    print_bestfit_params()\n",
    "   \n",
    "    "
   ]
  },
  {
   "cell_type": "code",
   "execution_count": 12,
   "metadata": {
    "collapsed": true,
    "scrolled": false
   },
   "outputs": [
    {
     "data": {
      "text/markdown": [
       "### CLIRAD-LW"
      ],
      "text/plain": [
       "<IPython.core.display.Markdown object>"
      ]
     },
     "metadata": {},
     "output_type": "display_data"
    },
    {
     "data": {
      "text/markdown": [
       "### Table of Contents"
      ],
      "text/plain": [
       "<IPython.core.display.Markdown object>"
      ]
     },
     "metadata": {},
     "output_type": "display_data"
    },
    {
     "data": {
      "text/html": [
       "<a href=\"#Input_Parameters\">Input Parameters</a>"
      ],
      "text/plain": [
       "<IPython.core.display.HTML object>"
      ]
     },
     "metadata": {},
     "output_type": "display_data"
    },
    {
     "data": {
      "text/html": [
       "<a href=\"#LBLNEW_case_compaired_against\">LBLNEW case compaired against</a>"
      ],
      "text/plain": [
       "<IPython.core.display.HTML object>"
      ]
     },
     "metadata": {},
     "output_type": "display_data"
    },
    {
     "data": {
      "text/html": [
       "<a href=\"#Cooling_Rate_Profiles\">Cooling Rate Profiles</a>"
      ],
      "text/plain": [
       "<IPython.core.display.HTML object>"
      ]
     },
     "metadata": {},
     "output_type": "display_data"
    },
    {
     "data": {
      "text/html": [
       "<a href=\"#Flux_Comparison\">Flux Comparison</a>"
      ],
      "text/plain": [
       "<IPython.core.display.HTML object>"
      ]
     },
     "metadata": {},
     "output_type": "display_data"
    },
    {
     "data": {
      "text/html": [
       "<a href=\"#Best-fit_Parameters\">Best-fit Parameters</a>"
      ],
      "text/plain": [
       "<IPython.core.display.HTML object>"
      ]
     },
     "metadata": {},
     "output_type": "display_data"
    },
    {
     "data": {
      "text/html": [
       "<a id=\"Input_Parameters\"></a>"
      ],
      "text/plain": [
       "<IPython.core.display.HTML object>"
      ]
     },
     "metadata": {},
     "output_type": "display_data"
    },
    {
     "data": {
      "text/markdown": [
       "# Input Parameters"
      ],
      "text/plain": [
       "<IPython.core.display.Markdown object>"
      ]
     },
     "metadata": {},
     "output_type": "display_data"
    },
    {
     "name": "stdout",
     "output_type": "stream",
     "text": [
      "atmpro = saw\n",
      "band = [3]\n",
      "commitnumber = 7fe1447_x\n",
      "molecule = {'n2o': 3.2e-07}\n",
      "tsfc = 257\n"
     ]
    },
    {
     "data": {
      "text/html": [
       "<a id=\"LBLNEW_case_compaired_against\"></a>"
      ],
      "text/plain": [
       "<IPython.core.display.HTML object>"
      ]
     },
     "metadata": {},
     "output_type": "display_data"
    },
    {
     "data": {
      "text/markdown": [
       "# LBLNEW case compaired against"
      ],
      "text/plain": [
       "<IPython.core.display.Markdown object>"
      ]
     },
     "metadata": {},
     "output_type": "display_data"
    },
    {
     "name": "stdout",
     "output_type": "stream",
     "text": [
      "atmpro = saw\n",
      "band = 3a\n",
      "commitnumber = a06b618\n",
      "conc = 3.2e-07\n",
      "dv = 0.001\n",
      "klin = 2.22e-20\n",
      "molecule = n2o\n",
      "ng_adju = [0, 0]\n",
      "ng_refs = [1, 2]\n",
      "nv = 1000\n",
      "option_compute_btable = 0\n",
      "option_compute_ktable = 0\n",
      "option_wgt_flux = 1\n",
      "option_wgt_k = 1\n",
      "ref_pts = [(1, 250), (500, 250)]\n",
      "tsfc = 257\n",
      "vmax = 620\n",
      "vmin = 540\n",
      "w_diffuse = [(1.8,), (1.66, 1.8)]\n",
      "wgt = [(0.9,), (0.5, 0.95)]\n"
     ]
    },
    {
     "data": {
      "text/html": [
       "<a id=\"Cooling_Rate_Profiles\"></a>"
      ],
      "text/plain": [
       "<IPython.core.display.HTML object>"
      ]
     },
     "metadata": {},
     "output_type": "display_data"
    },
    {
     "data": {
      "text/markdown": [
       "# Cooling Rate Profiles"
      ],
      "text/plain": [
       "<IPython.core.display.Markdown object>"
      ]
     },
     "metadata": {},
     "output_type": "display_data"
    },
    {
     "data": {
      "text/html": [
       "\n",
       "<div class=\"bk-root\">\n",
       "    <div class=\"bk-plotdiv\" id=\"f1b1ef41-546a-4b85-b623-3474fe6eb975\"></div>\n",
       "</div>"
      ]
     },
     "metadata": {},
     "output_type": "display_data"
    },
    {
     "data": {
      "application/javascript": [
       "(function(root) {\n",
       "  function embed_document(root) {\n",
       "    \n",
       "  var docs_json = {\"cf8440bd-9378-4f37-9f3f-15b5f737c1bb\":{\"roots\":{\"references\":[{\"attributes\":{\"fill_alpha\":{\"value\":0.1},\"fill_color\":{\"value\":\"#1f77b4\"},\"line_alpha\":{\"value\":0.1},\"line_color\":{\"value\":\"#1f77b4\"},\"x\":{\"field\":\"x\"},\"y\":{\"field\":\"y\"}},\"id\":\"f4948b89-df4a-4337-8ebf-9a528015977b\",\"type\":\"Circle\"},{\"attributes\":{\"callback\":null,\"column_names\":[\"x\",\"y\"],\"data\":{\"x\":{\"__ndarray__\":\"PeUybmRBiD881n+qVOmJP8oE+GbeWY0/2WvYRaB7kD90bA5IpVuSP9FH9MFpTZQ/JmLx+SBQlj88YEm8imKYP619dvMwh5o/UWoqEn2+nD8X0toI+wifP0u/78eDs6A/VfffgiDroT8wh7QxDwejP3SF/yYV6KM/hGYdbnyvpD+q4p1PCHqlPwnTwzdKSKY/R60u1Lgdpz/KQRv5I82nP75zgC6skag/5PlWGE3lpz8HInyUioOlPz9XmySbrqI/mSGFCx73nz9F1g4Z9tKaP7FibJYt7ZU/2+AIQT/FkT8hHL8dQVONP5HTNopcE4g/BwY7HZ0Qgz+y26X6LwN9P3AB/APHQHc/dtY43Q8hdT+lcYWHUvpzP7aIZbWhGHM/sxF4yUoicj/A4mN6rlpwP0tRFMuZJGw/oIScmijPZz/lb756Q4hjPytMrHpjgl4/pMA4DtQxVj9+xx491cBLP55BYE0/Xjs/hk1uFs/PQz9vkX3CXVtbP24/Z+dtT2k/WNobzR1rcj/qZ2ZpAfB3P1D9R2ZuTn0/mXhot+9OgT/qIC6dCuODPzZPTGahUYY/ytJrpua8iD+Jip4gAg+LP7gbARTBL40/kqdIFWRAjz+6R7XWt5aQPxMwzFbWbpE/mNf1elw8kj8awt45VfSSP26VuHIclpM/nIiqEn8xlD9ej5S9PbmUP6C+nfj1OZU/06l7wb+xlT82n3uW9RCWPzWp/+yCWpY/nqoiYwxolj94+NNMnDiWP9CxtjsB05U/Eu3Txz1KlT9UnHqwsL2UP/Tn0xFdI5Q/\",\"dtype\":\"float64\",\"shape\":[75]},\"y\":{\"__ndarray__\":\"GhExyth1ND/Sv8nbtpRIP2vylNV0PVE/aTum7souWD/At0SJ8fVgPw3Iuahxymc/MSNhhJWvcD/bTfBN02d3P2zb5nxnaoA/CD5h5MAGhz8NmeH1TyaQP+zrCsc9p5Y/LbKd76fGnz/bLW5ISEmmPww9YvTcQq8/JV2OstnstT8Er5Y7M8G+P0c+r3jqkcU/5h99k6ZBzj88bCIzFzjVP4enV8oyxN0//yH99nXg5D8qOpLLf0jtP5kqGJXUifQ/c9cS8kHP/D+/DpwzojQEQIEmwoanVwxA4lgXt9HgE0BSSZ2AJuIbQAMJih9jjiNA5q4l5INuK0AwTKYKRj0zQNv5fmq8/DpAaCJseHrtQkB/+zpwzoxKQM3MzMzMeFJAZmZmZmZqWEAAAAAAAFxeQM3MzMzMJmJAmpmZmZkfZUBmZmZmZhhoQDMzMzMzEWtAAAAAAAAKbkBmZmZmZoFwQM3MzMzM/XFAMzMzMzN6c0CamZmZmfZ0QAAAAAAAc3ZAZmZmZmbvd0DNzMzMzGt5QDMzMzMz6HpAmpmZmZlkfEAAAAAAAOF9QGZmZmZmXX9AZmZmZuZsgECamZmZGSuBQM3MzMxM6YFAAAAAAICngkAzMzMzs2WDQGZmZmbmI4RAmpmZmRnihEDNzMzMTKCFQAAAAACAXoZAMzMzM7Mch0BmZmZm5tqHQJqZmZkZmYhAzczMzExXiUAAAAAAgBWKQDMzMzOz04pAZmZmZuaRi0CamZmZGVCMQM3MzMxMDo1AAAAAAIDMjUAzMzMzs4qOQGZmZmbmSI9A\",\"dtype\":\"float64\",\"shape\":[75]}}},\"id\":\"9fe988c3-1f9a-4678-bf07-fa505074386e\",\"type\":\"ColumnDataSource\"},{\"attributes\":{\"data_source\":{\"id\":\"79ff23b8-4aa8-4208-9775-53a1235f0586\",\"type\":\"ColumnDataSource\"},\"glyph\":{\"id\":\"33abaafd-8d41-44ea-95f6-977a610ac34e\",\"type\":\"Line\"},\"hover_glyph\":null,\"muted_glyph\":null,\"nonselection_glyph\":{\"id\":\"10444759-2719-4f2e-ac7f-b12a3cbbf868\",\"type\":\"Line\"},\"selection_glyph\":null,\"view\":{\"id\":\"d41133d3-6023-48c4-803e-510e15d96ab4\",\"type\":\"CDSView\"}},\"id\":\"78738454-c651-44d4-ab0f-200e4bfaa6de\",\"type\":\"GlyphRenderer\"},{\"attributes\":{},\"id\":\"9192a356-5ebf-4cc4-9335-973bd9bdd223\",\"type\":\"BasicTickFormatter\"},{\"attributes\":{\"data_source\":{\"id\":\"24f24579-f6d4-4c80-bcf2-e26ff49a929a\",\"type\":\"ColumnDataSource\"},\"glyph\":{\"id\":\"8e473d5e-5c8b-4743-9b1b-e936232fe4c8\",\"type\":\"Square\"},\"hover_glyph\":null,\"muted_glyph\":null,\"nonselection_glyph\":{\"id\":\"d8923c42-1cc1-4195-8e68-56ce72490892\",\"type\":\"Square\"},\"selection_glyph\":null,\"view\":{\"id\":\"ec2c2da8-8648-4e5b-a9f5-ea5ef059aadd\",\"type\":\"CDSView\"}},\"id\":\"90a94c96-db14-42ed-a918-998985a2aa76\",\"type\":\"GlyphRenderer\"},{\"attributes\":{\"dimension\":1,\"plot\":{\"id\":\"75d1b9c4-8180-4ebc-aab7-c03fb08abe68\",\"subtype\":\"Figure\",\"type\":\"Plot\"},\"ticker\":{\"id\":\"9f942a9c-16f6-44a8-a8d9-b93dfc632248\",\"type\":\"LogTicker\"}},\"id\":\"fdfe2071-97f2-4d49-be6a-e3e61c36ba59\",\"type\":\"Grid\"},{\"attributes\":{\"source\":{\"id\":\"d96e1983-2114-41e2-8d11-f1b127277130\",\"type\":\"ColumnDataSource\"}},\"id\":\"2a439667-1c66-411c-81f6-1d823547f137\",\"type\":\"CDSView\"},{\"attributes\":{\"bottom_units\":\"screen\",\"fill_alpha\":{\"value\":0.5},\"fill_color\":{\"value\":\"lightgrey\"},\"left_units\":\"screen\",\"level\":\"overlay\",\"line_alpha\":{\"value\":1.0},\"line_color\":{\"value\":\"black\"},\"line_dash\":[4,4],\"line_width\":{\"value\":2},\"plot\":null,\"render_mode\":\"css\",\"right_units\":\"screen\",\"top_units\":\"screen\"},\"id\":\"b976584e-d5d5-44b9-a1ec-28eb5d470a4c\",\"type\":\"BoxAnnotation\"},{\"attributes\":{\"fill_alpha\":{\"value\":0.1},\"fill_color\":{\"value\":\"#1f77b4\"},\"line_alpha\":{\"value\":0.1},\"line_color\":{\"value\":\"#1f77b4\"},\"x\":{\"field\":\"x\"},\"y\":{\"field\":\"y\"}},\"id\":\"d8923c42-1cc1-4195-8e68-56ce72490892\",\"type\":\"Square\"},{\"attributes\":{\"fill_alpha\":{\"value\":0.7},\"fill_color\":{\"value\":\"#4daf4a\"},\"line_alpha\":{\"value\":0.7},\"line_color\":{\"value\":\"#4daf4a\"},\"x\":{\"field\":\"x\"},\"y\":{\"field\":\"y\"}},\"id\":\"bb975c7f-352d-497a-8f2d-6f78f0ea4c7d\",\"type\":\"Circle\"},{\"attributes\":{\"fill_alpha\":{\"value\":0.7},\"fill_color\":{\"value\":\"#984ea3\"},\"line_alpha\":{\"value\":0.7},\"line_color\":{\"value\":\"#984ea3\"},\"x\":{\"field\":\"x\"},\"y\":{\"field\":\"y\"}},\"id\":\"8e473d5e-5c8b-4743-9b1b-e936232fe4c8\",\"type\":\"Square\"},{\"attributes\":{\"callback\":null,\"column_names\":[\"x\",\"y\"],\"data\":{\"x\":{\"__ndarray__\":\"PeUybmRBiD881n+qVOmJP8oE+GbeWY0/2WvYRaB7kD90bA5IpVuSP9FH9MFpTZQ/JmLx+SBQlj88YEm8imKYP619dvMwh5o/UWoqEn2+nD8X0toI+wifP0u/78eDs6A/VfffgiDroT8wh7QxDwejP3SF/yYV6KM/hGYdbnyvpD+q4p1PCHqlPwnTwzdKSKY/R60u1Lgdpz/KQRv5I82nP75zgC6skag/5PlWGE3lpz8HInyUioOlPz9XmySbrqI/mSGFCx73nz9F1g4Z9tKaP7FibJYt7ZU/2+AIQT/FkT8hHL8dQVONP5HTNopcE4g/BwY7HZ0Qgz+y26X6LwN9P3AB/APHQHc/dtY43Q8hdT+lcYWHUvpzP7aIZbWhGHM/sxF4yUoicj/A4mN6rlpwP0tRFMuZJGw/oIScmijPZz/lb756Q4hjPytMrHpjgl4/pMA4DtQxVj9+xx491cBLP55BYE0/Xjs/hk1uFs/PQz9vkX3CXVtbP24/Z+dtT2k/WNobzR1rcj/qZ2ZpAfB3P1D9R2ZuTn0/mXhot+9OgT/qIC6dCuODPzZPTGahUYY/ytJrpua8iD+Jip4gAg+LP7gbARTBL40/kqdIFWRAjz+6R7XWt5aQPxMwzFbWbpE/mNf1elw8kj8awt45VfSSP26VuHIclpM/nIiqEn8xlD9ej5S9PbmUP6C+nfj1OZU/06l7wb+xlT82n3uW9RCWPzWp/+yCWpY/nqoiYwxolj94+NNMnDiWP9CxtjsB05U/Eu3Txz1KlT9UnHqwsL2UP/Tn0xFdI5Q/\",\"dtype\":\"float64\",\"shape\":[75]},\"y\":{\"__ndarray__\":\"GhExyth1ND/Sv8nbtpRIP2vylNV0PVE/aTum7souWD/At0SJ8fVgPw3Iuahxymc/MSNhhJWvcD/bTfBN02d3P2zb5nxnaoA/CD5h5MAGhz8NmeH1TyaQP+zrCsc9p5Y/LbKd76fGnz/bLW5ISEmmPww9YvTcQq8/JV2OstnstT8Er5Y7M8G+P0c+r3jqkcU/5h99k6ZBzj88bCIzFzjVP4enV8oyxN0//yH99nXg5D8qOpLLf0jtP5kqGJXUifQ/c9cS8kHP/D+/DpwzojQEQIEmwoanVwxA4lgXt9HgE0BSSZ2AJuIbQAMJih9jjiNA5q4l5INuK0AwTKYKRj0zQNv5fmq8/DpAaCJseHrtQkB/+zpwzoxKQM3MzMzMeFJAZmZmZmZqWEAAAAAAAFxeQM3MzMzMJmJAmpmZmZkfZUBmZmZmZhhoQDMzMzMzEWtAAAAAAAAKbkBmZmZmZoFwQM3MzMzM/XFAMzMzMzN6c0CamZmZmfZ0QAAAAAAAc3ZAZmZmZmbvd0DNzMzMzGt5QDMzMzMz6HpAmpmZmZlkfEAAAAAAAOF9QGZmZmZmXX9AZmZmZuZsgECamZmZGSuBQM3MzMxM6YFAAAAAAICngkAzMzMzs2WDQGZmZmbmI4RAmpmZmRnihEDNzMzMTKCFQAAAAACAXoZAMzMzM7Mch0BmZmZm5tqHQJqZmZkZmYhAzczMzExXiUAAAAAAgBWKQDMzMzOz04pAZmZmZuaRi0CamZmZGVCMQM3MzMxMDo1AAAAAAIDMjUAzMzMzs4qOQGZmZmbmSI9A\",\"dtype\":\"float64\",\"shape\":[75]}}},\"id\":\"24f24579-f6d4-4c80-bcf2-e26ff49a929a\",\"type\":\"ColumnDataSource\"},{\"attributes\":{\"callback\":null,\"column_names\":[\"x\",\"y\"],\"data\":{\"x\":{\"__ndarray__\":\"kbDDJp8PhD9E4SASn+qFP1aU2NbLxok/zCeTaSDVjT96XAr+bQWRP6RENoMENJM/N/8XHud1lT9vOckc7MmXP5EzkfV7Mpo/KQsxJwCwnD99xy086D+fP8W60uEK8KA/LKY8NNhGoj/V6uCd0nqjP/OVCKCNZqQ/dfPtWssvpT9txMbOcfSlP2zSUTQttqY/Cb/msldzpz9/EvM6Ty2oPwPTtWtMzKg/Vcv+wvDmpz9apRdcQw6lP87aqnqyyKE/QO0BBL2BnT86FUNObPmXP+hAqdIjAZM/mALKjb9Ajj+bQEZ96DuJP/1Ow1KFiIU/VtI9vL0cgj9fo8F6l+N9Px0jR+Unj3o/6nXu6hNIej8F/cvOl+B5P7/nZ3Edn3g/FBhrLmmbdj/l7ZZRHYxzP4iA2FVuCXA/BPAodCu7aT9JJrN7Y+FjP16n4wLvo1w/sNC+YuO7UT/3WtzC59g6P0CtIPItRCm/CVQi9KA/F7/fiXap2nRQPyIdtJQ5CGQ/h8KdAtZubz/bqBZdUyp1P5uHA0j8aHo/aZbVSpl6fz83jKeCbzGCPwMnjzLYkIQ/uOPRti/ahj8+NrDyVwqJPwzZvTiYHYs/ZbzbLMYPjT99yh119dyOP4jYOhqCQZA/shdqSjsAkT+hpzG8uqyRP5xRkCs3SZI/O5EjR4HYkj8B7gphW12TP6CQ4dSu2ZM/dWH/0CdNlD/BS+A+wbGUP1MWXZVG95Q/hN/w/E4FlT+lzKC2Gs2UP6FsRt05WpQ/avMM1SXHkz85eg7CYiiTP0V5yI9Wh5I/\",\"dtype\":\"float64\",\"shape\":[75]},\"y\":{\"__ndarray__\":\"GhExyth1ND/Sv8nbtpRIP2vylNV0PVE/aTum7souWD/At0SJ8fVgPw3Iuahxymc/MSNhhJWvcD/bTfBN02d3P2zb5nxnaoA/CD5h5MAGhz8NmeH1TyaQP+zrCsc9p5Y/LbKd76fGnz/bLW5ISEmmPww9YvTcQq8/JV2OstnstT8Er5Y7M8G+P0c+r3jqkcU/5h99k6ZBzj88bCIzFzjVP4enV8oyxN0//yH99nXg5D8qOpLLf0jtP5kqGJXUifQ/c9cS8kHP/D+/DpwzojQEQIEmwoanVwxA4lgXt9HgE0BSSZ2AJuIbQAMJih9jjiNA5q4l5INuK0AwTKYKRj0zQNv5fmq8/DpAaCJseHrtQkB/+zpwzoxKQM3MzMzMeFJAZmZmZmZqWEAAAAAAAFxeQM3MzMzMJmJAmpmZmZkfZUBmZmZmZhhoQDMzMzMzEWtAAAAAAAAKbkBmZmZmZoFwQM3MzMzM/XFAMzMzMzN6c0CamZmZmfZ0QAAAAAAAc3ZAZmZmZmbvd0DNzMzMzGt5QDMzMzMz6HpAmpmZmZlkfEAAAAAAAOF9QGZmZmZmXX9AZmZmZuZsgECamZmZGSuBQM3MzMxM6YFAAAAAAICngkAzMzMzs2WDQGZmZmbmI4RAmpmZmRnihEDNzMzMTKCFQAAAAACAXoZAMzMzM7Mch0BmZmZm5tqHQJqZmZkZmYhAzczMzExXiUAAAAAAgBWKQDMzMzOz04pAZmZmZuaRi0CamZmZGVCMQM3MzMxMDo1AAAAAAIDMjUAzMzMzs4qOQGZmZmbmSI9A\",\"dtype\":\"float64\",\"shape\":[75]}}},\"id\":\"9b97ac40-30e0-4bf4-ba08-a55500393477\",\"type\":\"ColumnDataSource\"},{\"attributes\":{\"callback\":null,\"end\":0.01,\"start\":1020},\"id\":\"6cad05c6-cc69-4b0b-bac3-d730257c8648\",\"type\":\"Range1d\"},{\"attributes\":{\"line_alpha\":0.6,\"line_color\":\"#984ea3\",\"line_width\":3,\"x\":{\"field\":\"x\"},\"y\":{\"field\":\"y\"}},\"id\":\"2bbd0dd0-37bb-46c4-bd42-8e2e347a61d4\",\"type\":\"Line\"},{\"attributes\":{\"data_source\":{\"id\":\"d96e1983-2114-41e2-8d11-f1b127277130\",\"type\":\"ColumnDataSource\"},\"glyph\":{\"id\":\"6cd52d99-a78c-4d9c-94a0-323573771111\",\"type\":\"Line\"},\"hover_glyph\":null,\"muted_glyph\":null,\"nonselection_glyph\":{\"id\":\"dfcda360-dadd-4641-9d87-1b8865e383eb\",\"type\":\"Line\"},\"selection_glyph\":null,\"view\":{\"id\":\"2a439667-1c66-411c-81f6-1d823547f137\",\"type\":\"CDSView\"}},\"id\":\"c8593268-89dd-494f-871e-abd4a4d20528\",\"type\":\"GlyphRenderer\"},{\"attributes\":{\"line_alpha\":0.6,\"line_color\":\"#e41a1c\",\"line_dash\":[6],\"line_width\":5,\"x\":{\"field\":\"x\"},\"y\":{\"field\":\"y\"}},\"id\":\"33abaafd-8d41-44ea-95f6-977a610ac34e\",\"type\":\"Line\"},{\"attributes\":{\"source\":{\"id\":\"24f24579-f6d4-4c80-bcf2-e26ff49a929a\",\"type\":\"ColumnDataSource\"}},\"id\":\"ec2c2da8-8648-4e5b-a9f5-ea5ef059aadd\",\"type\":\"CDSView\"},{\"attributes\":{},\"id\":\"dd35f65c-ef25-4bfa-b117-49e0f9ca74fa\",\"type\":\"LinearScale\"},{\"attributes\":{},\"id\":\"95d94997-cf50-4330-a00f-328d3714852c\",\"type\":\"BasicTickFormatter\"},{\"attributes\":{},\"id\":\"395bbbbe-a7d1-407f-8c77-ca97ed9e866a\",\"type\":\"BasicTicker\"},{\"attributes\":{},\"id\":\"52bc2270-db04-4d98-ae8f-df5968359e02\",\"type\":\"LinearScale\"},{\"attributes\":{\"data_source\":{\"id\":\"b819e796-7a5d-4c29-bb34-142e29420711\",\"type\":\"ColumnDataSource\"},\"glyph\":{\"id\":\"1fc2518d-7e4e-41c2-aeb8-146aa424e1aa\",\"type\":\"Circle\"},\"hover_glyph\":null,\"muted_glyph\":null,\"nonselection_glyph\":{\"id\":\"651ae487-cd10-4335-8982-b4615b6fe89b\",\"type\":\"Circle\"},\"selection_glyph\":null,\"view\":{\"id\":\"90b1e3e7-3655-4c8f-b2a7-e402a6d51915\",\"type\":\"CDSView\"}},\"id\":\"2d717392-6cb2-4afc-b6ee-a69dac1361ab\",\"type\":\"GlyphRenderer\"},{\"attributes\":{\"callback\":null,\"column_names\":[\"x\",\"y\"],\"data\":{\"x\":{\"__ndarray__\":\"D5UtL0zohj8d+xrIAVuIP6/5MPxZjIs/WFgpalTTjj/3o+hOnhyRP7L4fZq735I/hRw4wPywlD9dXOB7SpGWP2zDtLEKgpg/oRu4CC6Emj+qR8mU15acP2JN4Rg0up4/5o04CUp2oD9N5zcKGHahP76j8QT1P6I/5UiNJ4fxoj8OsVIl8KWjP8nhhCP3XaQ/6p/5/+UYpT/oOcRtpNSlPyIkWScxf6Y/bPrX5aDzpT+cyeiUCNOjP1svU4H9UaE/9jR+5k7enT+XLKCwwUuZP2Pmd6Q+7JQ/LMzdD8E2kT8MI4BFxdKMPzqgpywDAYg/CNglK4E7gz+x9qqn7Hp9Py1Z6TulZnc/fDv3EnJ7dD/yB9S6zHJyP3YN4lpg3HA/lJh2mfkIbz/ooEVaFWZrPwVjvUPcJGc/QViJ2jZDYz87fRh0FkNfP/IYyyDxRVg/W0zSjrl4UT+IWDkd551FP1Zw+igmKDY/VIxnwUZmQz8v2weGl9NaP/LnKsl5gGg/UObFnybHcT+ZdzK+gy13P1n1T/bqcXw/idjl9c7KgD/fYGw8+EuDP7mgPeU4uoU/FUY57EwOiD/uetvf6EmKP95qF39NaYw/dFkkpHBojj9qEmYh1CGQP0L8JMCu+5A/FAiMDKrBkT+TWJnDynWSP+V7QWl6GZM/KdBc5PSukz/bDCttVTiUP83veLbutpQ/rpdLT/0olT/7U6DSZYqVPwy0xpahzpU/uiZEw9nilT9XXvI/+buVP8tzemd/Y5U/WUp99q/ulD8m2T5y2G6UPxz43P+D7JM/\",\"dtype\":\"float64\",\"shape\":[75]},\"y\":{\"__ndarray__\":\"S/O/Q+51ND/Sv8nbtpRIP2vylNV0PVE/aTum7souWD/At0SJ8fVgPw3Iuahxymc/MSNhhJWvcD/bTfBN02d3P2zb5nxnaoA/CD5h5MAGhz8NmeH1TyaQP+zrCsc9p5Y/LbKd76fGnz/bLW5ISEmmPww9YvTcQq8/JV2OstnstT8Er5Y7M8G+P0c+r3jqkcU/5h99k6ZBzj88bCIzFzjVP4enV8oyxN0//yH99nXg5D8qOpLLf0jtP5kqGJXUifQ/c9cS8kHP/D+/DpwzojQEQIEmwoanVwxA4lgXt9HgE0BSSZ2AJuIbQAMJih9jjiNA5q4l5INuK0AwTKYKRj0zQNv5fmq8/DpAaCJseHrtQkB/+zpwzoxKQM3MzMzMeFJAZmZmZmZqWEAAAAAAAFxeQM3MzMzMJmJAmpmZmZkfZUBmZmZmZhhoQDMzMzMzEWtAAAAAAAAKbkBmZmZmZoFwQM3MzMzM/XFAMzMzMzN6c0CamZmZmfZ0QAAAAAAAc3ZAZmZmZmbvd0DNzMzMzGt5QDMzMzMz6HpAmpmZmZlkfEAAAAAAAOF9QGZmZmZmXX9AZmZmZuZsgECamZmZGSuBQM3MzMxM6YFAAAAAAICngkAzMzMzs2WDQGZmZmbmI4RAmpmZmRnihEDNzMzMTKCFQAAAAACAXoZAMzMzM7Mch0BmZmZm5tqHQJqZmZkZmYhAzczMzExXiUAAAAAAgBWKQDMzMzOz04pAZmZmZuaRi0CamZmZGVCMQM3MzMxMDo1AAAAAAIDMjUAzMzMzs4qOQGZmZmbmSI9A\",\"dtype\":\"float64\",\"shape\":[75]}}},\"id\":\"d891a6e4-bfd9-41f0-8363-38f58e032796\",\"type\":\"ColumnDataSource\"},{\"attributes\":{\"line_alpha\":0.1,\"line_color\":\"#1f77b4\",\"line_dash\":[6],\"line_width\":5,\"x\":{\"field\":\"x\"},\"y\":{\"field\":\"y\"}},\"id\":\"10444759-2719-4f2e-ac7f-b12a3cbbf868\",\"type\":\"Line\"},{\"attributes\":{\"line_alpha\":0.6,\"line_color\":\"#e41a1c\",\"line_dash\":[6],\"line_width\":5,\"x\":{\"field\":\"x\"},\"y\":{\"field\":\"y\"}},\"id\":\"08bdcfb1-05b0-4a87-a2c7-9d2508e7b18e\",\"type\":\"Line\"},{\"attributes\":{\"line_alpha\":0.1,\"line_color\":\"#1f77b4\",\"line_dash\":[6],\"line_width\":5,\"x\":{\"field\":\"x\"},\"y\":{\"field\":\"y\"}},\"id\":\"163c9910-9c0c-47ab-803c-25a2997553a4\",\"type\":\"Line\"},{\"attributes\":{\"dimension\":1,\"plot\":{\"id\":\"89e9a514-8c96-4a2c-b1ab-8a0555b9782b\",\"subtype\":\"Figure\",\"type\":\"Plot\"},\"ticker\":{\"id\":\"395bbbbe-a7d1-407f-8c77-ca97ed9e866a\",\"type\":\"BasicTicker\"}},\"id\":\"25297421-8c06-40e3-8564-4e7c855ca5b0\",\"type\":\"Grid\"},{\"attributes\":{\"callback\":null,\"column_names\":[\"x\",\"y\"],\"data\":{\"x\":{\"__ndarray__\":\"kbDDJp8PhD9E4SASn+qFP1aU2NbLxok/zCeTaSDVjT96XAr+bQWRP6RENoMENJM/N/8XHud1lT9vOckc7MmXP5EzkfV7Mpo/KQsxJwCwnD99xy086D+fP8W60uEK8KA/LKY8NNhGoj/V6uCd0nqjP/OVCKCNZqQ/dfPtWssvpT9txMbOcfSlP2zSUTQttqY/Cb/msldzpz9/EvM6Ty2oPwPTtWtMzKg/Vcv+wvDmpz9apRdcQw6lP87aqnqyyKE/QO0BBL2BnT86FUNObPmXP+hAqdIjAZM/mALKjb9Ajj+bQEZ96DuJP/1Ow1KFiIU/VtI9vL0cgj9fo8F6l+N9Px0jR+Unj3o/6nXu6hNIej8F/cvOl+B5P7/nZ3Edn3g/FBhrLmmbdj/l7ZZRHYxzP4iA2FVuCXA/BPAodCu7aT9JJrN7Y+FjP16n4wLvo1w/sNC+YuO7UT/3WtzC59g6P0CtIPItRCm/CVQi9KA/F7/fiXap2nRQPyIdtJQ5CGQ/h8KdAtZubz/bqBZdUyp1P5uHA0j8aHo/aZbVSpl6fz83jKeCbzGCPwMnjzLYkIQ/uOPRti/ahj8+NrDyVwqJPwzZvTiYHYs/ZbzbLMYPjT99yh119dyOP4jYOhqCQZA/shdqSjsAkT+hpzG8uqyRP5xRkCs3SZI/O5EjR4HYkj8B7gphW12TP6CQ4dSu2ZM/dWH/0CdNlD/BS+A+wbGUP1MWXZVG95Q/hN/w/E4FlT+lzKC2Gs2UP6FsRt05WpQ/avMM1SXHkz85eg7CYiiTP0V5yI9Wh5I/\",\"dtype\":\"float64\",\"shape\":[75]},\"y\":{\"__ndarray__\":\"GhExyth1ND/Sv8nbtpRIP2vylNV0PVE/aTum7souWD/At0SJ8fVgPw3Iuahxymc/MSNhhJWvcD/bTfBN02d3P2zb5nxnaoA/CD5h5MAGhz8NmeH1TyaQP+zrCsc9p5Y/LbKd76fGnz/bLW5ISEmmPww9YvTcQq8/JV2OstnstT8Er5Y7M8G+P0c+r3jqkcU/5h99k6ZBzj88bCIzFzjVP4enV8oyxN0//yH99nXg5D8qOpLLf0jtP5kqGJXUifQ/c9cS8kHP/D+/DpwzojQEQIEmwoanVwxA4lgXt9HgE0BSSZ2AJuIbQAMJih9jjiNA5q4l5INuK0AwTKYKRj0zQNv5fmq8/DpAaCJseHrtQkB/+zpwzoxKQM3MzMzMeFJAZmZmZmZqWEAAAAAAAFxeQM3MzMzMJmJAmpmZmZkfZUBmZmZmZhhoQDMzMzMzEWtAAAAAAAAKbkBmZmZmZoFwQM3MzMzM/XFAMzMzMzN6c0CamZmZmfZ0QAAAAAAAc3ZAZmZmZmbvd0DNzMzMzGt5QDMzMzMz6HpAmpmZmZlkfEAAAAAAAOF9QGZmZmZmXX9AZmZmZuZsgECamZmZGSuBQM3MzMxM6YFAAAAAAICngkAzMzMzs2WDQGZmZmbmI4RAmpmZmRnihEDNzMzMTKCFQAAAAACAXoZAMzMzM7Mch0BmZmZm5tqHQJqZmZkZmYhAzczMzExXiUAAAAAAgBWKQDMzMzOz04pAZmZmZuaRi0CamZmZGVCMQM3MzMxMDo1AAAAAAIDMjUAzMzMzs4qOQGZmZmbmSI9A\",\"dtype\":\"float64\",\"shape\":[75]}}},\"id\":\"55ced79d-1321-4571-82c3-fb340cff409f\",\"type\":\"ColumnDataSource\"},{\"attributes\":{\"fill_alpha\":{\"value\":0.7},\"fill_color\":{\"value\":\"#4daf4a\"},\"line_alpha\":{\"value\":0.7},\"line_color\":{\"value\":\"#4daf4a\"},\"x\":{\"field\":\"x\"},\"y\":{\"field\":\"y\"}},\"id\":\"1fc2518d-7e4e-41c2-aeb8-146aa424e1aa\",\"type\":\"Circle\"},{\"attributes\":{\"callback\":null,\"column_names\":[\"x\",\"y\"],\"data\":{\"x\":{\"__ndarray__\":\"kbDDJp8PhD9E4SASn+qFP1aU2NbLxok/zCeTaSDVjT96XAr+bQWRP6RENoMENJM/N/8XHud1lT9vOckc7MmXP5EzkfV7Mpo/KQsxJwCwnD99xy086D+fP8W60uEK8KA/LKY8NNhGoj/V6uCd0nqjP/OVCKCNZqQ/dfPtWssvpT9txMbOcfSlP2zSUTQttqY/Cb/msldzpz9/EvM6Ty2oPwPTtWtMzKg/Vcv+wvDmpz9apRdcQw6lP87aqnqyyKE/QO0BBL2BnT86FUNObPmXP+hAqdIjAZM/mALKjb9Ajj+bQEZ96DuJP/1Ow1KFiIU/VtI9vL0cgj9fo8F6l+N9Px0jR+Unj3o/6nXu6hNIej8F/cvOl+B5P7/nZ3Edn3g/FBhrLmmbdj/l7ZZRHYxzP4iA2FVuCXA/BPAodCu7aT9JJrN7Y+FjP16n4wLvo1w/sNC+YuO7UT/3WtzC59g6P0CtIPItRCm/CVQi9KA/F7/fiXap2nRQPyIdtJQ5CGQ/h8KdAtZubz/bqBZdUyp1P5uHA0j8aHo/aZbVSpl6fz83jKeCbzGCPwMnjzLYkIQ/uOPRti/ahj8+NrDyVwqJPwzZvTiYHYs/ZbzbLMYPjT99yh119dyOP4jYOhqCQZA/shdqSjsAkT+hpzG8uqyRP5xRkCs3SZI/O5EjR4HYkj8B7gphW12TP6CQ4dSu2ZM/dWH/0CdNlD/BS+A+wbGUP1MWXZVG95Q/hN/w/E4FlT+lzKC2Gs2UP6FsRt05WpQ/avMM1SXHkz85eg7CYiiTP0V5yI9Wh5I/\",\"dtype\":\"float64\",\"shape\":[75]},\"y\":{\"__ndarray__\":\"GhExyth1ND/Sv8nbtpRIP2vylNV0PVE/aTum7souWD/At0SJ8fVgPw3Iuahxymc/MSNhhJWvcD/bTfBN02d3P2zb5nxnaoA/CD5h5MAGhz8NmeH1TyaQP+zrCsc9p5Y/LbKd76fGnz/bLW5ISEmmPww9YvTcQq8/JV2OstnstT8Er5Y7M8G+P0c+r3jqkcU/5h99k6ZBzj88bCIzFzjVP4enV8oyxN0//yH99nXg5D8qOpLLf0jtP5kqGJXUifQ/c9cS8kHP/D+/DpwzojQEQIEmwoanVwxA4lgXt9HgE0BSSZ2AJuIbQAMJih9jjiNA5q4l5INuK0AwTKYKRj0zQNv5fmq8/DpAaCJseHrtQkB/+zpwzoxKQM3MzMzMeFJAZmZmZmZqWEAAAAAAAFxeQM3MzMzMJmJAmpmZmZkfZUBmZmZmZhhoQDMzMzMzEWtAAAAAAAAKbkBmZmZmZoFwQM3MzMzM/XFAMzMzMzN6c0CamZmZmfZ0QAAAAAAAc3ZAZmZmZmbvd0DNzMzMzGt5QDMzMzMz6HpAmpmZmZlkfEAAAAAAAOF9QGZmZmZmXX9AZmZmZuZsgECamZmZGSuBQM3MzMxM6YFAAAAAAICngkAzMzMzs2WDQGZmZmbmI4RAmpmZmRnihEDNzMzMTKCFQAAAAACAXoZAMzMzM7Mch0BmZmZm5tqHQJqZmZkZmYhAzczMzExXiUAAAAAAgBWKQDMzMzOz04pAZmZmZuaRi0CamZmZGVCMQM3MzMxMDo1AAAAAAIDMjUAzMzMzs4qOQGZmZmbmSI9A\",\"dtype\":\"float64\",\"shape\":[75]}}},\"id\":\"b819e796-7a5d-4c29-bb34-142e29420711\",\"type\":\"ColumnDataSource\"},{\"attributes\":{},\"id\":\"54142f98-f1a7-449e-8b28-e990b80a3952\",\"type\":\"PanTool\"},{\"attributes\":{},\"id\":\"cf067d40-9762-4b16-9ef0-8fe2a3c7486c\",\"type\":\"ResetTool\"},{\"attributes\":{\"children\":[{\"id\":\"89e9a514-8c96-4a2c-b1ab-8a0555b9782b\",\"subtype\":\"Figure\",\"type\":\"Plot\"},{\"id\":\"75d1b9c4-8180-4ebc-aab7-c03fb08abe68\",\"subtype\":\"Figure\",\"type\":\"Plot\"}]},\"id\":\"7289abb8-e21f-483e-a530-b9ab1f021322\",\"type\":\"Row\"},{\"attributes\":{\"callback\":null,\"column_names\":[\"x\",\"y\"],\"data\":{\"x\":{\"__ndarray__\":\"PeUybmRBiD881n+qVOmJP8oE+GbeWY0/2WvYRaB7kD90bA5IpVuSP9FH9MFpTZQ/JmLx+SBQlj88YEm8imKYP619dvMwh5o/UWoqEn2+nD8X0toI+wifP0u/78eDs6A/VfffgiDroT8wh7QxDwejP3SF/yYV6KM/hGYdbnyvpD+q4p1PCHqlPwnTwzdKSKY/R60u1Lgdpz/KQRv5I82nP75zgC6skag/5PlWGE3lpz8HInyUioOlPz9XmySbrqI/mSGFCx73nz9F1g4Z9tKaP7FibJYt7ZU/2+AIQT/FkT8hHL8dQVONP5HTNopcE4g/BwY7HZ0Qgz+y26X6LwN9P3AB/APHQHc/dtY43Q8hdT+lcYWHUvpzP7aIZbWhGHM/sxF4yUoicj/A4mN6rlpwP0tRFMuZJGw/oIScmijPZz/lb756Q4hjPytMrHpjgl4/pMA4DtQxVj9+xx491cBLP55BYE0/Xjs/hk1uFs/PQz9vkX3CXVtbP24/Z+dtT2k/WNobzR1rcj/qZ2ZpAfB3P1D9R2ZuTn0/mXhot+9OgT/qIC6dCuODPzZPTGahUYY/ytJrpua8iD+Jip4gAg+LP7gbARTBL40/kqdIFWRAjz+6R7XWt5aQPxMwzFbWbpE/mNf1elw8kj8awt45VfSSP26VuHIclpM/nIiqEn8xlD9ej5S9PbmUP6C+nfj1OZU/06l7wb+xlT82n3uW9RCWPzWp/+yCWpY/nqoiYwxolj94+NNMnDiWP9CxtjsB05U/Eu3Txz1KlT9UnHqwsL2UP/Tn0xFdI5Q/\",\"dtype\":\"float64\",\"shape\":[75]},\"y\":{\"__ndarray__\":\"GhExyth1ND/Sv8nbtpRIP2vylNV0PVE/aTum7souWD/At0SJ8fVgPw3Iuahxymc/MSNhhJWvcD/bTfBN02d3P2zb5nxnaoA/CD5h5MAGhz8NmeH1TyaQP+zrCsc9p5Y/LbKd76fGnz/bLW5ISEmmPww9YvTcQq8/JV2OstnstT8Er5Y7M8G+P0c+r3jqkcU/5h99k6ZBzj88bCIzFzjVP4enV8oyxN0//yH99nXg5D8qOpLLf0jtP5kqGJXUifQ/c9cS8kHP/D+/DpwzojQEQIEmwoanVwxA4lgXt9HgE0BSSZ2AJuIbQAMJih9jjiNA5q4l5INuK0AwTKYKRj0zQNv5fmq8/DpAaCJseHrtQkB/+zpwzoxKQM3MzMzMeFJAZmZmZmZqWEAAAAAAAFxeQM3MzMzMJmJAmpmZmZkfZUBmZmZmZhhoQDMzMzMzEWtAAAAAAAAKbkBmZmZmZoFwQM3MzMzM/XFAMzMzMzN6c0CamZmZmfZ0QAAAAAAAc3ZAZmZmZmbvd0DNzMzMzGt5QDMzMzMz6HpAmpmZmZlkfEAAAAAAAOF9QGZmZmZmXX9AZmZmZuZsgECamZmZGSuBQM3MzMxM6YFAAAAAAICngkAzMzMzs2WDQGZmZmbmI4RAmpmZmRnihEDNzMzMTKCFQAAAAACAXoZAMzMzM7Mch0BmZmZm5tqHQJqZmZkZmYhAzczMzExXiUAAAAAAgBWKQDMzMzOz04pAZmZmZuaRi0CamZmZGVCMQM3MzMxMDo1AAAAAAIDMjUAzMzMzs4qOQGZmZmbmSI9A\",\"dtype\":\"float64\",\"shape\":[75]}}},\"id\":\"e0bd2385-4b69-4ce9-af24-abf38bea15c3\",\"type\":\"ColumnDataSource\"},{\"attributes\":{\"children\":[{\"id\":\"7289abb8-e21f-483e-a530-b9ab1f021322\",\"type\":\"Row\"}]},\"id\":\"dc5099ad-a568-4a12-b3a9-718e99e71397\",\"type\":\"Column\"},{\"attributes\":{\"overlay\":{\"id\":\"b976584e-d5d5-44b9-a1ec-28eb5d470a4c\",\"type\":\"BoxAnnotation\"}},\"id\":\"2acf92ec-bfc4-4f99-9ecf-cb60b599d887\",\"type\":\"BoxZoomTool\"},{\"attributes\":{\"below\":[{\"id\":\"5b9f492c-ce1c-4fbe-ad32-397011813e84\",\"type\":\"LinearAxis\"}],\"left\":[{\"id\":\"5a56502b-bed1-4518-9fad-2374e8e335d0\",\"type\":\"LinearAxis\"}],\"plot_height\":500,\"plot_width\":400,\"renderers\":[{\"id\":\"5b9f492c-ce1c-4fbe-ad32-397011813e84\",\"type\":\"LinearAxis\"},{\"id\":\"8bb9a412-7d2d-40e8-a0dc-d835ba414cc0\",\"type\":\"Grid\"},{\"id\":\"5a56502b-bed1-4518-9fad-2374e8e335d0\",\"type\":\"LinearAxis\"},{\"id\":\"25297421-8c06-40e3-8564-4e7c855ca5b0\",\"type\":\"Grid\"},{\"id\":\"b976584e-d5d5-44b9-a1ec-28eb5d470a4c\",\"type\":\"BoxAnnotation\"},{\"id\":\"78738454-c651-44d4-ab0f-200e4bfaa6de\",\"type\":\"GlyphRenderer\"},{\"id\":\"391f3538-d900-4e25-bd7e-30ad7f5c30e7\",\"type\":\"GlyphRenderer\"},{\"id\":\"c8593268-89dd-494f-871e-abd4a4d20528\",\"type\":\"GlyphRenderer\"},{\"id\":\"90a94c96-db14-42ed-a918-998985a2aa76\",\"type\":\"GlyphRenderer\"},{\"id\":\"70e471af-78ad-400f-a972-06d4ba34b73b\",\"type\":\"GlyphRenderer\"}],\"title\":{\"id\":\"39aa481e-e9cf-49f1-9451-958c6bdd8533\",\"type\":\"Title\"},\"toolbar\":{\"id\":\"cff92e21-202c-4ebe-b1fb-2325a6e6e76f\",\"type\":\"Toolbar\"},\"toolbar_location\":null,\"x_range\":{\"id\":\"3a329fd7-eb0a-4cb6-8ec2-b6295ec5832b\",\"type\":\"Range1d\"},\"x_scale\":{\"id\":\"dd35f65c-ef25-4bfa-b117-49e0f9ca74fa\",\"type\":\"LinearScale\"},\"y_range\":{\"id\":\"00d82489-3cae-4bbc-8303-03ec21cbcd46\",\"type\":\"Range1d\"},\"y_scale\":{\"id\":\"52bc2270-db04-4d98-ae8f-df5968359e02\",\"type\":\"LinearScale\"}},\"id\":\"89e9a514-8c96-4a2c-b1ab-8a0555b9782b\",\"subtype\":\"Figure\",\"type\":\"Plot\"},{\"attributes\":{\"axis_label\":\"cooling rate [K/day]\",\"formatter\":{\"id\":\"0ceb4a7b-e95e-43f8-8eda-42d81853f006\",\"type\":\"BasicTickFormatter\"},\"plot\":{\"id\":\"89e9a514-8c96-4a2c-b1ab-8a0555b9782b\",\"subtype\":\"Figure\",\"type\":\"Plot\"},\"ticker\":{\"id\":\"dca3f8fe-4afb-4138-aaaa-cae3ce93d69e\",\"type\":\"BasicTicker\"}},\"id\":\"5b9f492c-ce1c-4fbe-ad32-397011813e84\",\"type\":\"LinearAxis\"},{\"attributes\":{\"axis_label\":\"pressure [mb]\",\"formatter\":{\"id\":\"9192a356-5ebf-4cc4-9335-973bd9bdd223\",\"type\":\"BasicTickFormatter\"},\"plot\":{\"id\":\"89e9a514-8c96-4a2c-b1ab-8a0555b9782b\",\"subtype\":\"Figure\",\"type\":\"Plot\"},\"ticker\":{\"id\":\"395bbbbe-a7d1-407f-8c77-ca97ed9e866a\",\"type\":\"BasicTicker\"}},\"id\":\"5a56502b-bed1-4518-9fad-2374e8e335d0\",\"type\":\"LinearAxis\"},{\"attributes\":{\"items\":[{\"id\":\"305ae17b-85bb-439c-98d7-47dbf7dee209\",\"type\":\"LegendItem\"},{\"id\":\"6496fbb7-5035-438d-8456-aa27569498f7\",\"type\":\"LegendItem\"},{\"id\":\"d790e815-bd8e-4f59-b232-572452f880bd\",\"type\":\"LegendItem\"}],\"label_text_font_size\":{\"value\":\"8pt\"},\"location\":[10,-30],\"plot\":{\"id\":\"75d1b9c4-8180-4ebc-aab7-c03fb08abe68\",\"subtype\":\"Figure\",\"type\":\"Plot\"}},\"id\":\"de62612d-2bd4-446b-9796-8a6c551fc3cd\",\"type\":\"Legend\"},{\"attributes\":{\"line_alpha\":0.1,\"line_color\":\"#1f77b4\",\"line_width\":1.5,\"x\":{\"field\":\"x\"},\"y\":{\"field\":\"y\"}},\"id\":\"3c34d5df-99f2-45b5-95ad-9965837b29a6\",\"type\":\"Line\"},{\"attributes\":{},\"id\":\"503cdbf3-d1fe-414f-9b96-ac61007d4da1\",\"type\":\"WheelZoomTool\"},{\"attributes\":{\"fill_alpha\":{\"value\":0.1},\"fill_color\":{\"value\":\"#1f77b4\"},\"line_alpha\":{\"value\":0.1},\"line_color\":{\"value\":\"#1f77b4\"},\"x\":{\"field\":\"x\"},\"y\":{\"field\":\"y\"}},\"id\":\"651ae487-cd10-4335-8982-b4615b6fe89b\",\"type\":\"Circle\"},{\"attributes\":{\"ticker\":null},\"id\":\"993a0e30-fb39-4263-85d6-8f4ebf3e39bc\",\"type\":\"LogTickFormatter\"},{\"attributes\":{\"data_source\":{\"id\":\"d891a6e4-bfd9-41f0-8363-38f58e032796\",\"type\":\"ColumnDataSource\"},\"glyph\":{\"id\":\"08bdcfb1-05b0-4a87-a2c7-9d2508e7b18e\",\"type\":\"Line\"},\"hover_glyph\":null,\"muted_glyph\":null,\"nonselection_glyph\":{\"id\":\"163c9910-9c0c-47ab-803c-25a2997553a4\",\"type\":\"Line\"},\"selection_glyph\":null,\"view\":{\"id\":\"915bfbc2-c58e-4f18-9727-3d622da0d995\",\"type\":\"CDSView\"}},\"id\":\"1da0c65a-3a0e-46a8-a86b-1e41800cc90c\",\"type\":\"GlyphRenderer\"},{\"attributes\":{\"axis_label\":\"pressure [mb]\",\"formatter\":{\"id\":\"993a0e30-fb39-4263-85d6-8f4ebf3e39bc\",\"type\":\"LogTickFormatter\"},\"plot\":{\"id\":\"75d1b9c4-8180-4ebc-aab7-c03fb08abe68\",\"subtype\":\"Figure\",\"type\":\"Plot\"},\"ticker\":{\"id\":\"9f942a9c-16f6-44a8-a8d9-b93dfc632248\",\"type\":\"LogTicker\"}},\"id\":\"2d0eb5df-adf6-4436-bdd4-661c95ad6207\",\"type\":\"LogAxis\"},{\"attributes\":{\"source\":{\"id\":\"b819e796-7a5d-4c29-bb34-142e29420711\",\"type\":\"ColumnDataSource\"}},\"id\":\"90b1e3e7-3655-4c8f-b2a7-e402a6d51915\",\"type\":\"CDSView\"},{\"attributes\":{\"tools\":[{\"id\":\"54142f98-f1a7-449e-8b28-e990b80a3952\",\"type\":\"PanTool\"},{\"id\":\"503cdbf3-d1fe-414f-9b96-ac61007d4da1\",\"type\":\"WheelZoomTool\"},{\"id\":\"2acf92ec-bfc4-4f99-9ecf-cb60b599d887\",\"type\":\"BoxZoomTool\"},{\"id\":\"951e55d0-d2d8-408b-aaf2-da912e0e9ffc\",\"type\":\"SaveTool\"},{\"id\":\"cf067d40-9762-4b16-9ef0-8fe2a3c7486c\",\"type\":\"ResetTool\"},{\"id\":\"685a1bb6-0c37-49a1-bcb4-75511bd4ef0d\",\"type\":\"HelpTool\"},{\"id\":\"56efd308-b2c6-4be2-a77d-289f6110bcfa\",\"type\":\"PanTool\"},{\"id\":\"b5a796ca-b72a-4687-b942-5a3a8c4257a4\",\"type\":\"WheelZoomTool\"},{\"id\":\"fd5f6385-5144-406c-9531-14e57934ef70\",\"type\":\"BoxZoomTool\"},{\"id\":\"c70ff0db-dc92-4e84-9304-93c967e312cc\",\"type\":\"SaveTool\"},{\"id\":\"05fd58d7-e25a-47fa-bfef-9b160ff3c19c\",\"type\":\"ResetTool\"},{\"id\":\"7c971978-d753-4703-a850-5cb98639516a\",\"type\":\"HelpTool\"}]},\"id\":\"a26faab8-9245-4ec4-943b-1d9a77737b6f\",\"type\":\"ProxyToolbar\"},{\"attributes\":{},\"id\":\"685a1bb6-0c37-49a1-bcb4-75511bd4ef0d\",\"type\":\"HelpTool\"},{\"attributes\":{\"line_color\":\"#4daf4a\",\"line_width\":1.5,\"x\":{\"field\":\"x\"},\"y\":{\"field\":\"y\"}},\"id\":\"e1681c2e-55a8-404d-85bf-a8261c576698\",\"type\":\"Line\"},{\"attributes\":{\"callback\":null,\"column_names\":[\"x\",\"y\"],\"data\":{\"x\":{\"__ndarray__\":\"PeUybmRBiD881n+qVOmJP8oE+GbeWY0/2WvYRaB7kD90bA5IpVuSP9FH9MFpTZQ/JmLx+SBQlj88YEm8imKYP619dvMwh5o/UWoqEn2+nD8X0toI+wifP0u/78eDs6A/VfffgiDroT8wh7QxDwejP3SF/yYV6KM/hGYdbnyvpD+q4p1PCHqlPwnTwzdKSKY/R60u1Lgdpz/KQRv5I82nP75zgC6skag/5PlWGE3lpz8HInyUioOlPz9XmySbrqI/mSGFCx73nz9F1g4Z9tKaP7FibJYt7ZU/2+AIQT/FkT8hHL8dQVONP5HTNopcE4g/BwY7HZ0Qgz+y26X6LwN9P3AB/APHQHc/dtY43Q8hdT+lcYWHUvpzP7aIZbWhGHM/sxF4yUoicj/A4mN6rlpwP0tRFMuZJGw/oIScmijPZz/lb756Q4hjPytMrHpjgl4/pMA4DtQxVj9+xx491cBLP55BYE0/Xjs/hk1uFs/PQz9vkX3CXVtbP24/Z+dtT2k/WNobzR1rcj/qZ2ZpAfB3P1D9R2ZuTn0/mXhot+9OgT/qIC6dCuODPzZPTGahUYY/ytJrpua8iD+Jip4gAg+LP7gbARTBL40/kqdIFWRAjz+6R7XWt5aQPxMwzFbWbpE/mNf1elw8kj8awt45VfSSP26VuHIclpM/nIiqEn8xlD9ej5S9PbmUP6C+nfj1OZU/06l7wb+xlT82n3uW9RCWPzWp/+yCWpY/nqoiYwxolj94+NNMnDiWP9CxtjsB05U/Eu3Txz1KlT9UnHqwsL2UP/Tn0xFdI5Q/\",\"dtype\":\"float64\",\"shape\":[75]},\"y\":{\"__ndarray__\":\"GhExyth1ND/Sv8nbtpRIP2vylNV0PVE/aTum7souWD/At0SJ8fVgPw3Iuahxymc/MSNhhJWvcD/bTfBN02d3P2zb5nxnaoA/CD5h5MAGhz8NmeH1TyaQP+zrCsc9p5Y/LbKd76fGnz/bLW5ISEmmPww9YvTcQq8/JV2OstnstT8Er5Y7M8G+P0c+r3jqkcU/5h99k6ZBzj88bCIzFzjVP4enV8oyxN0//yH99nXg5D8qOpLLf0jtP5kqGJXUifQ/c9cS8kHP/D+/DpwzojQEQIEmwoanVwxA4lgXt9HgE0BSSZ2AJuIbQAMJih9jjiNA5q4l5INuK0AwTKYKRj0zQNv5fmq8/DpAaCJseHrtQkB/+zpwzoxKQM3MzMzMeFJAZmZmZmZqWEAAAAAAAFxeQM3MzMzMJmJAmpmZmZkfZUBmZmZmZhhoQDMzMzMzEWtAAAAAAAAKbkBmZmZmZoFwQM3MzMzM/XFAMzMzMzN6c0CamZmZmfZ0QAAAAAAAc3ZAZmZmZmbvd0DNzMzMzGt5QDMzMzMz6HpAmpmZmZlkfEAAAAAAAOF9QGZmZmZmXX9AZmZmZuZsgECamZmZGSuBQM3MzMxM6YFAAAAAAICngkAzMzMzs2WDQGZmZmbmI4RAmpmZmRnihEDNzMzMTKCFQAAAAACAXoZAMzMzM7Mch0BmZmZm5tqHQJqZmZkZmYhAzczMzExXiUAAAAAAgBWKQDMzMzOz04pAZmZmZuaRi0CamZmZGVCMQM3MzMxMDo1AAAAAAIDMjUAzMzMzs4qOQGZmZmbmSI9A\",\"dtype\":\"float64\",\"shape\":[75]}}},\"id\":\"191234f4-04e4-4b76-ba32-357d53c55993\",\"type\":\"ColumnDataSource\"},{\"attributes\":{\"data_source\":{\"id\":\"55ced79d-1321-4571-82c3-fb340cff409f\",\"type\":\"ColumnDataSource\"},\"glyph\":{\"id\":\"e1681c2e-55a8-404d-85bf-a8261c576698\",\"type\":\"Line\"},\"hover_glyph\":null,\"muted_glyph\":null,\"nonselection_glyph\":{\"id\":\"3c34d5df-99f2-45b5-95ad-9965837b29a6\",\"type\":\"Line\"},\"selection_glyph\":null,\"view\":{\"id\":\"c0da1a3a-d9fa-49bf-a487-9eb7b37d5a70\",\"type\":\"CDSView\"}},\"id\":\"2c00ad4d-5f90-44d4-9ce3-44f8904a996e\",\"type\":\"GlyphRenderer\"},{\"attributes\":{\"source\":{\"id\":\"79ff23b8-4aa8-4208-9775-53a1235f0586\",\"type\":\"ColumnDataSource\"}},\"id\":\"d41133d3-6023-48c4-803e-510e15d96ab4\",\"type\":\"CDSView\"},{\"attributes\":{\"source\":{\"id\":\"d891a6e4-bfd9-41f0-8363-38f58e032796\",\"type\":\"ColumnDataSource\"}},\"id\":\"915bfbc2-c58e-4f18-9727-3d622da0d995\",\"type\":\"CDSView\"},{\"attributes\":{\"callback\":null,\"end\":0.048898929892,\"start\":0.001442828908},\"id\":\"49ce2d23-07eb-43b3-9816-8c6bca1b0fe9\",\"type\":\"Range1d\"},{\"attributes\":{},\"id\":\"0ceb4a7b-e95e-43f8-8eda-42d81853f006\",\"type\":\"BasicTickFormatter\"},{\"attributes\":{\"source\":{\"id\":\"55ced79d-1321-4571-82c3-fb340cff409f\",\"type\":\"ColumnDataSource\"}},\"id\":\"c0da1a3a-d9fa-49bf-a487-9eb7b37d5a70\",\"type\":\"CDSView\"},{\"attributes\":{\"data_source\":{\"id\":\"9fe988c3-1f9a-4678-bf07-fa505074386e\",\"type\":\"ColumnDataSource\"},\"glyph\":{\"id\":\"2bbd0dd0-37bb-46c4-bd42-8e2e347a61d4\",\"type\":\"Line\"},\"hover_glyph\":null,\"muted_glyph\":null,\"nonselection_glyph\":{\"id\":\"6ebb4a77-2051-485a-9ec2-fc6085c5c823\",\"type\":\"Line\"},\"selection_glyph\":null,\"view\":{\"id\":\"8783c304-f96c-4a12-b642-d8cfa2032eea\",\"type\":\"CDSView\"}},\"id\":\"70e471af-78ad-400f-a972-06d4ba34b73b\",\"type\":\"GlyphRenderer\"},{\"attributes\":{\"num_minor_ticks\":10},\"id\":\"9f942a9c-16f6-44a8-a8d9-b93dfc632248\",\"type\":\"LogTicker\"},{\"attributes\":{\"fill_alpha\":{\"value\":0.7},\"fill_color\":{\"value\":\"#984ea3\"},\"line_alpha\":{\"value\":0.7},\"line_color\":{\"value\":\"#984ea3\"},\"x\":{\"field\":\"x\"},\"y\":{\"field\":\"y\"}},\"id\":\"991c297e-2936-4fd4-844e-a3fd91d91057\",\"type\":\"Square\"},{\"attributes\":{\"fill_alpha\":{\"value\":0.1},\"fill_color\":{\"value\":\"#1f77b4\"},\"line_alpha\":{\"value\":0.1},\"line_color\":{\"value\":\"#1f77b4\"},\"x\":{\"field\":\"x\"},\"y\":{\"field\":\"y\"}},\"id\":\"c6a862f2-08fe-4920-83be-40c6c5848d98\",\"type\":\"Square\"},{\"attributes\":{\"callback\":null,\"end\":0.0221020286487,\"start\":-0.0004135073187},\"id\":\"3a329fd7-eb0a-4cb6-8ec2-b6295ec5832b\",\"type\":\"Range1d\"},{\"attributes\":{\"label\":{\"value\":\"CRD\"},\"renderers\":[{\"id\":\"2d717392-6cb2-4afc-b6ee-a69dac1361ab\",\"type\":\"GlyphRenderer\"},{\"id\":\"2c00ad4d-5f90-44d4-9ce3-44f8904a996e\",\"type\":\"GlyphRenderer\"}]},\"id\":\"6496fbb7-5035-438d-8456-aa27569498f7\",\"type\":\"LegendItem\"},{\"attributes\":{\"data_source\":{\"id\":\"9b97ac40-30e0-4bf4-ba08-a55500393477\",\"type\":\"ColumnDataSource\"},\"glyph\":{\"id\":\"bb975c7f-352d-497a-8f2d-6f78f0ea4c7d\",\"type\":\"Circle\"},\"hover_glyph\":null,\"muted_glyph\":null,\"nonselection_glyph\":{\"id\":\"f4948b89-df4a-4337-8ebf-9a528015977b\",\"type\":\"Circle\"},\"selection_glyph\":null,\"view\":{\"id\":\"76a88d42-b3c8-4442-9508-9ecec99d81d9\",\"type\":\"CDSView\"}},\"id\":\"391f3538-d900-4e25-bd7e-30ad7f5c30e7\",\"type\":\"GlyphRenderer\"},{\"attributes\":{\"data_source\":{\"id\":\"e0bd2385-4b69-4ce9-af24-abf38bea15c3\",\"type\":\"ColumnDataSource\"},\"glyph\":{\"id\":\"991c297e-2936-4fd4-844e-a3fd91d91057\",\"type\":\"Square\"},\"hover_glyph\":null,\"muted_glyph\":null,\"nonselection_glyph\":{\"id\":\"c6a862f2-08fe-4920-83be-40c6c5848d98\",\"type\":\"Square\"},\"selection_glyph\":null,\"view\":{\"id\":\"71b65be5-6da9-4325-be56-f1b3160e54ee\",\"type\":\"CDSView\"}},\"id\":\"f046748d-12a2-4987-b2c5-6074a9d21945\",\"type\":\"GlyphRenderer\"},{\"attributes\":{\"source\":{\"id\":\"9fe988c3-1f9a-4678-bf07-fa505074386e\",\"type\":\"ColumnDataSource\"}},\"id\":\"8783c304-f96c-4a12-b642-d8cfa2032eea\",\"type\":\"CDSView\"},{\"attributes\":{\"callback\":null,\"column_names\":[\"x\",\"y\"],\"data\":{\"x\":{\"__ndarray__\":\"D5UtL0zohj8d+xrIAVuIP6/5MPxZjIs/WFgpalTTjj/3o+hOnhyRP7L4fZq735I/hRw4wPywlD9dXOB7SpGWP2zDtLEKgpg/oRu4CC6Emj+qR8mU15acP2JN4Rg0up4/5o04CUp2oD9N5zcKGHahP76j8QT1P6I/5UiNJ4fxoj8OsVIl8KWjP8nhhCP3XaQ/6p/5/+UYpT/oOcRtpNSlPyIkWScxf6Y/bPrX5aDzpT+cyeiUCNOjP1svU4H9UaE/9jR+5k7enT+XLKCwwUuZP2Pmd6Q+7JQ/LMzdD8E2kT8MI4BFxdKMPzqgpywDAYg/CNglK4E7gz+x9qqn7Hp9Py1Z6TulZnc/fDv3EnJ7dD/yB9S6zHJyP3YN4lpg3HA/lJh2mfkIbz/ooEVaFWZrPwVjvUPcJGc/QViJ2jZDYz87fRh0FkNfP/IYyyDxRVg/W0zSjrl4UT+IWDkd551FP1Zw+igmKDY/VIxnwUZmQz8v2weGl9NaP/LnKsl5gGg/UObFnybHcT+ZdzK+gy13P1n1T/bqcXw/idjl9c7KgD/fYGw8+EuDP7mgPeU4uoU/FUY57EwOiD/uetvf6EmKP95qF39NaYw/dFkkpHBojj9qEmYh1CGQP0L8JMCu+5A/FAiMDKrBkT+TWJnDynWSP+V7QWl6GZM/KdBc5PSukz/bDCttVTiUP83veLbutpQ/rpdLT/0olT/7U6DSZYqVPwy0xpahzpU/uiZEw9nilT9XXvI/+buVP8tzemd/Y5U/WUp99q/ulD8m2T5y2G6UPxz43P+D7JM/\",\"dtype\":\"float64\",\"shape\":[75]},\"y\":{\"__ndarray__\":\"S/O/Q+51ND/Sv8nbtpRIP2vylNV0PVE/aTum7souWD/At0SJ8fVgPw3Iuahxymc/MSNhhJWvcD/bTfBN02d3P2zb5nxnaoA/CD5h5MAGhz8NmeH1TyaQP+zrCsc9p5Y/LbKd76fGnz/bLW5ISEmmPww9YvTcQq8/JV2OstnstT8Er5Y7M8G+P0c+r3jqkcU/5h99k6ZBzj88bCIzFzjVP4enV8oyxN0//yH99nXg5D8qOpLLf0jtP5kqGJXUifQ/c9cS8kHP/D+/DpwzojQEQIEmwoanVwxA4lgXt9HgE0BSSZ2AJuIbQAMJih9jjiNA5q4l5INuK0AwTKYKRj0zQNv5fmq8/DpAaCJseHrtQkB/+zpwzoxKQM3MzMzMeFJAZmZmZmZqWEAAAAAAAFxeQM3MzMzMJmJAmpmZmZkfZUBmZmZmZhhoQDMzMzMzEWtAAAAAAAAKbkBmZmZmZoFwQM3MzMzM/XFAMzMzMzN6c0CamZmZmfZ0QAAAAAAAc3ZAZmZmZmbvd0DNzMzMzGt5QDMzMzMz6HpAmpmZmZlkfEAAAAAAAOF9QGZmZmZmXX9AZmZmZuZsgECamZmZGSuBQM3MzMxM6YFAAAAAAICngkAzMzMzs2WDQGZmZmbmI4RAmpmZmRnihEDNzMzMTKCFQAAAAACAXoZAMzMzM7Mch0BmZmZm5tqHQJqZmZkZmYhAzczMzExXiUAAAAAAgBWKQDMzMzOz04pAZmZmZuaRi0CamZmZGVCMQM3MzMxMDo1AAAAAAIDMjUAzMzMzs4qOQGZmZmbmSI9A\",\"dtype\":\"float64\",\"shape\":[75]}}},\"id\":\"79ff23b8-4aa8-4208-9775-53a1235f0586\",\"type\":\"ColumnDataSource\"},{\"attributes\":{\"line_alpha\":0.1,\"line_color\":\"#1f77b4\",\"line_width\":3,\"x\":{\"field\":\"x\"},\"y\":{\"field\":\"y\"}},\"id\":\"6ebb4a77-2051-485a-9ec2-fc6085c5c823\",\"type\":\"Line\"},{\"attributes\":{\"source\":{\"id\":\"e0bd2385-4b69-4ce9-af24-abf38bea15c3\",\"type\":\"ColumnDataSource\"}},\"id\":\"71b65be5-6da9-4325-be56-f1b3160e54ee\",\"type\":\"CDSView\"},{\"attributes\":{\"plot\":{\"id\":\"89e9a514-8c96-4a2c-b1ab-8a0555b9782b\",\"subtype\":\"Figure\",\"type\":\"Plot\"},\"ticker\":{\"id\":\"dca3f8fe-4afb-4138-aaaa-cae3ce93d69e\",\"type\":\"BasicTicker\"}},\"id\":\"8bb9a412-7d2d-40e8-a0dc-d835ba414cc0\",\"type\":\"Grid\"},{\"attributes\":{\"line_alpha\":0.6,\"line_color\":\"#984ea3\",\"line_width\":3,\"x\":{\"field\":\"x\"},\"y\":{\"field\":\"y\"}},\"id\":\"48d02055-b533-4306-9af0-4140232a3cd2\",\"type\":\"Line\"},{\"attributes\":{\"source\":{\"id\":\"9b97ac40-30e0-4bf4-ba08-a55500393477\",\"type\":\"ColumnDataSource\"}},\"id\":\"76a88d42-b3c8-4442-9508-9ecec99d81d9\",\"type\":\"CDSView\"},{\"attributes\":{},\"id\":\"561a631c-0b44-4b5a-b7d5-143e82d9c938\",\"type\":\"BasicTicker\"},{\"attributes\":{\"line_alpha\":0.1,\"line_color\":\"#1f77b4\",\"line_width\":3,\"x\":{\"field\":\"x\"},\"y\":{\"field\":\"y\"}},\"id\":\"ee655201-8800-416b-a53e-234bc39c5f50\",\"type\":\"Line\"},{\"attributes\":{\"plot\":null,\"text\":\"Log pressure scale\"},\"id\":\"f95769ba-e951-4207-a4c5-ad0c02878e59\",\"type\":\"Title\"},{\"attributes\":{\"label\":{\"value\":\"WGT igg=10 wgt_flux=2\"},\"renderers\":[{\"id\":\"f046748d-12a2-4987-b2c5-6074a9d21945\",\"type\":\"GlyphRenderer\"},{\"id\":\"24fcfe85-caae-4adc-aaeb-42f82d3b7c1a\",\"type\":\"GlyphRenderer\"}]},\"id\":\"d790e815-bd8e-4f59-b232-572452f880bd\",\"type\":\"LegendItem\"},{\"attributes\":{\"data_source\":{\"id\":\"191234f4-04e4-4b76-ba32-357d53c55993\",\"type\":\"ColumnDataSource\"},\"glyph\":{\"id\":\"48d02055-b533-4306-9af0-4140232a3cd2\",\"type\":\"Line\"},\"hover_glyph\":null,\"muted_glyph\":null,\"nonselection_glyph\":{\"id\":\"ee655201-8800-416b-a53e-234bc39c5f50\",\"type\":\"Line\"},\"selection_glyph\":null,\"view\":{\"id\":\"e88be62a-f753-4027-8b2d-5b5d46d382ff\",\"type\":\"CDSView\"}},\"id\":\"24fcfe85-caae-4adc-aaeb-42f82d3b7c1a\",\"type\":\"GlyphRenderer\"},{\"attributes\":{},\"id\":\"d1c130cb-ae48-4d8b-b2b2-4126b162ebf2\",\"type\":\"LinearScale\"},{\"attributes\":{\"below\":[{\"id\":\"04676a64-70a6-4826-b87a-0942825d0404\",\"type\":\"LinearAxis\"}],\"left\":[{\"id\":\"2d0eb5df-adf6-4436-bdd4-661c95ad6207\",\"type\":\"LogAxis\"}],\"plot_height\":500,\"plot_width\":560,\"renderers\":[{\"id\":\"04676a64-70a6-4826-b87a-0942825d0404\",\"type\":\"LinearAxis\"},{\"id\":\"27786edd-e260-4097-a1de-7ce758afb01a\",\"type\":\"Grid\"},{\"id\":\"2d0eb5df-adf6-4436-bdd4-661c95ad6207\",\"type\":\"LogAxis\"},{\"id\":\"fdfe2071-97f2-4d49-be6a-e3e61c36ba59\",\"type\":\"Grid\"},{\"id\":\"8cfbcaa3-2d72-43c4-8706-df67395ccfe5\",\"type\":\"BoxAnnotation\"},{\"id\":\"1da0c65a-3a0e-46a8-a86b-1e41800cc90c\",\"type\":\"GlyphRenderer\"},{\"id\":\"2d717392-6cb2-4afc-b6ee-a69dac1361ab\",\"type\":\"GlyphRenderer\"},{\"id\":\"2c00ad4d-5f90-44d4-9ce3-44f8904a996e\",\"type\":\"GlyphRenderer\"},{\"id\":\"f046748d-12a2-4987-b2c5-6074a9d21945\",\"type\":\"GlyphRenderer\"},{\"id\":\"24fcfe85-caae-4adc-aaeb-42f82d3b7c1a\",\"type\":\"GlyphRenderer\"},{\"id\":\"de62612d-2bd4-446b-9796-8a6c551fc3cd\",\"type\":\"Legend\"}],\"right\":[{\"id\":\"de62612d-2bd4-446b-9796-8a6c551fc3cd\",\"type\":\"Legend\"}],\"title\":{\"id\":\"f95769ba-e951-4207-a4c5-ad0c02878e59\",\"type\":\"Title\"},\"toolbar\":{\"id\":\"23e036d2-e046-4b35-a851-49c0569b221d\",\"type\":\"Toolbar\"},\"toolbar_location\":null,\"x_range\":{\"id\":\"49ce2d23-07eb-43b3-9816-8c6bca1b0fe9\",\"type\":\"Range1d\"},\"x_scale\":{\"id\":\"d1c130cb-ae48-4d8b-b2b2-4126b162ebf2\",\"type\":\"LinearScale\"},\"y_range\":{\"id\":\"6cad05c6-cc69-4b0b-bac3-d730257c8648\",\"type\":\"Range1d\"},\"y_scale\":{\"id\":\"6db5df90-66c8-42cf-9b8f-4cc4670ec913\",\"type\":\"LogScale\"}},\"id\":\"75d1b9c4-8180-4ebc-aab7-c03fb08abe68\",\"subtype\":\"Figure\",\"type\":\"Plot\"},{\"attributes\":{\"source\":{\"id\":\"191234f4-04e4-4b76-ba32-357d53c55993\",\"type\":\"ColumnDataSource\"}},\"id\":\"e88be62a-f753-4027-8b2d-5b5d46d382ff\",\"type\":\"CDSView\"},{\"attributes\":{},\"id\":\"c70ff0db-dc92-4e84-9304-93c967e312cc\",\"type\":\"SaveTool\"},{\"attributes\":{\"overlay\":{\"id\":\"8cfbcaa3-2d72-43c4-8706-df67395ccfe5\",\"type\":\"BoxAnnotation\"}},\"id\":\"fd5f6385-5144-406c-9531-14e57934ef70\",\"type\":\"BoxZoomTool\"},{\"attributes\":{},\"id\":\"6db5df90-66c8-42cf-9b8f-4cc4670ec913\",\"type\":\"LogScale\"},{\"attributes\":{\"toolbar\":{\"id\":\"a26faab8-9245-4ec4-943b-1d9a77737b6f\",\"type\":\"ProxyToolbar\"},\"toolbar_location\":\"above\"},\"id\":\"6822b1f9-026c-49ff-8a3f-daa55770d135\",\"type\":\"ToolbarBox\"},{\"attributes\":{\"axis_label\":\"cooling rate [K/day]\",\"formatter\":{\"id\":\"95d94997-cf50-4330-a00f-328d3714852c\",\"type\":\"BasicTickFormatter\"},\"plot\":{\"id\":\"75d1b9c4-8180-4ebc-aab7-c03fb08abe68\",\"subtype\":\"Figure\",\"type\":\"Plot\"},\"ticker\":{\"id\":\"561a631c-0b44-4b5a-b7d5-143e82d9c938\",\"type\":\"BasicTicker\"}},\"id\":\"04676a64-70a6-4826-b87a-0942825d0404\",\"type\":\"LinearAxis\"},{\"attributes\":{\"children\":[{\"id\":\"6822b1f9-026c-49ff-8a3f-daa55770d135\",\"type\":\"ToolbarBox\"},{\"id\":\"dc5099ad-a568-4a12-b3a9-718e99e71397\",\"type\":\"Column\"}]},\"id\":\"afe39466-80d3-49db-81da-43ef39c75641\",\"type\":\"Column\"},{\"attributes\":{\"plot\":null,\"text\":\"Linear pressure scale\"},\"id\":\"39aa481e-e9cf-49f1-9451-958c6bdd8533\",\"type\":\"Title\"},{\"attributes\":{\"bottom_units\":\"screen\",\"fill_alpha\":{\"value\":0.5},\"fill_color\":{\"value\":\"lightgrey\"},\"left_units\":\"screen\",\"level\":\"overlay\",\"line_alpha\":{\"value\":1.0},\"line_color\":{\"value\":\"black\"},\"line_dash\":[4,4],\"line_width\":{\"value\":2},\"plot\":null,\"render_mode\":\"css\",\"right_units\":\"screen\",\"top_units\":\"screen\"},\"id\":\"8cfbcaa3-2d72-43c4-8706-df67395ccfe5\",\"type\":\"BoxAnnotation\"},{\"attributes\":{},\"id\":\"56efd308-b2c6-4be2-a77d-289f6110bcfa\",\"type\":\"PanTool\"},{\"attributes\":{},\"id\":\"7c971978-d753-4703-a850-5cb98639516a\",\"type\":\"HelpTool\"},{\"attributes\":{\"line_alpha\":0.1,\"line_color\":\"#1f77b4\",\"line_width\":1.5,\"x\":{\"field\":\"x\"},\"y\":{\"field\":\"y\"}},\"id\":\"dfcda360-dadd-4641-9d87-1b8865e383eb\",\"type\":\"Line\"},{\"attributes\":{\"plot\":{\"id\":\"75d1b9c4-8180-4ebc-aab7-c03fb08abe68\",\"subtype\":\"Figure\",\"type\":\"Plot\"},\"ticker\":{\"id\":\"561a631c-0b44-4b5a-b7d5-143e82d9c938\",\"type\":\"BasicTicker\"}},\"id\":\"27786edd-e260-4097-a1de-7ce758afb01a\",\"type\":\"Grid\"},{\"attributes\":{\"callback\":null,\"column_names\":[\"x\",\"y\"],\"data\":{\"x\":{\"__ndarray__\":\"kbDDJp8PhD9E4SASn+qFP1aU2NbLxok/zCeTaSDVjT96XAr+bQWRP6RENoMENJM/N/8XHud1lT9vOckc7MmXP5EzkfV7Mpo/KQsxJwCwnD99xy086D+fP8W60uEK8KA/LKY8NNhGoj/V6uCd0nqjP/OVCKCNZqQ/dfPtWssvpT9txMbOcfSlP2zSUTQttqY/Cb/msldzpz9/EvM6Ty2oPwPTtWtMzKg/Vcv+wvDmpz9apRdcQw6lP87aqnqyyKE/QO0BBL2BnT86FUNObPmXP+hAqdIjAZM/mALKjb9Ajj+bQEZ96DuJP/1Ow1KFiIU/VtI9vL0cgj9fo8F6l+N9Px0jR+Unj3o/6nXu6hNIej8F/cvOl+B5P7/nZ3Edn3g/FBhrLmmbdj/l7ZZRHYxzP4iA2FVuCXA/BPAodCu7aT9JJrN7Y+FjP16n4wLvo1w/sNC+YuO7UT/3WtzC59g6P0CtIPItRCm/CVQi9KA/F7/fiXap2nRQPyIdtJQ5CGQ/h8KdAtZubz/bqBZdUyp1P5uHA0j8aHo/aZbVSpl6fz83jKeCbzGCPwMnjzLYkIQ/uOPRti/ahj8+NrDyVwqJPwzZvTiYHYs/ZbzbLMYPjT99yh119dyOP4jYOhqCQZA/shdqSjsAkT+hpzG8uqyRP5xRkCs3SZI/O5EjR4HYkj8B7gphW12TP6CQ4dSu2ZM/dWH/0CdNlD/BS+A+wbGUP1MWXZVG95Q/hN/w/E4FlT+lzKC2Gs2UP6FsRt05WpQ/avMM1SXHkz85eg7CYiiTP0V5yI9Wh5I/\",\"dtype\":\"float64\",\"shape\":[75]},\"y\":{\"__ndarray__\":\"GhExyth1ND/Sv8nbtpRIP2vylNV0PVE/aTum7souWD/At0SJ8fVgPw3Iuahxymc/MSNhhJWvcD/bTfBN02d3P2zb5nxnaoA/CD5h5MAGhz8NmeH1TyaQP+zrCsc9p5Y/LbKd76fGnz/bLW5ISEmmPww9YvTcQq8/JV2OstnstT8Er5Y7M8G+P0c+r3jqkcU/5h99k6ZBzj88bCIzFzjVP4enV8oyxN0//yH99nXg5D8qOpLLf0jtP5kqGJXUifQ/c9cS8kHP/D+/DpwzojQEQIEmwoanVwxA4lgXt9HgE0BSSZ2AJuIbQAMJih9jjiNA5q4l5INuK0AwTKYKRj0zQNv5fmq8/DpAaCJseHrtQkB/+zpwzoxKQM3MzMzMeFJAZmZmZmZqWEAAAAAAAFxeQM3MzMzMJmJAmpmZmZkfZUBmZmZmZhhoQDMzMzMzEWtAAAAAAAAKbkBmZmZmZoFwQM3MzMzM/XFAMzMzMzN6c0CamZmZmfZ0QAAAAAAAc3ZAZmZmZmbvd0DNzMzMzGt5QDMzMzMz6HpAmpmZmZlkfEAAAAAAAOF9QGZmZmZmXX9AZmZmZuZsgECamZmZGSuBQM3MzMxM6YFAAAAAAICngkAzMzMzs2WDQGZmZmbmI4RAmpmZmRnihEDNzMzMTKCFQAAAAACAXoZAMzMzM7Mch0BmZmZm5tqHQJqZmZkZmYhAzczMzExXiUAAAAAAgBWKQDMzMzOz04pAZmZmZuaRi0CamZmZGVCMQM3MzMxMDo1AAAAAAIDMjUAzMzMzs4qOQGZmZmbmSI9A\",\"dtype\":\"float64\",\"shape\":[75]}}},\"id\":\"d96e1983-2114-41e2-8d11-f1b127277130\",\"type\":\"ColumnDataSource\"},{\"attributes\":{},\"id\":\"b5a796ca-b72a-4687-b942-5a3a8c4257a4\",\"type\":\"WheelZoomTool\"},{\"attributes\":{},\"id\":\"dca3f8fe-4afb-4138-aaaa-cae3ce93d69e\",\"type\":\"BasicTicker\"},{\"attributes\":{\"active_drag\":\"auto\",\"active_inspect\":\"auto\",\"active_scroll\":\"auto\",\"active_tap\":\"auto\",\"tools\":[{\"id\":\"54142f98-f1a7-449e-8b28-e990b80a3952\",\"type\":\"PanTool\"},{\"id\":\"503cdbf3-d1fe-414f-9b96-ac61007d4da1\",\"type\":\"WheelZoomTool\"},{\"id\":\"2acf92ec-bfc4-4f99-9ecf-cb60b599d887\",\"type\":\"BoxZoomTool\"},{\"id\":\"951e55d0-d2d8-408b-aaf2-da912e0e9ffc\",\"type\":\"SaveTool\"},{\"id\":\"cf067d40-9762-4b16-9ef0-8fe2a3c7486c\",\"type\":\"ResetTool\"},{\"id\":\"685a1bb6-0c37-49a1-bcb4-75511bd4ef0d\",\"type\":\"HelpTool\"}]},\"id\":\"cff92e21-202c-4ebe-b1fb-2325a6e6e76f\",\"type\":\"Toolbar\"},{\"attributes\":{\"label\":{\"value\":\"CLIRAD `coolr_bands`\"},\"renderers\":[{\"id\":\"1da0c65a-3a0e-46a8-a86b-1e41800cc90c\",\"type\":\"GlyphRenderer\"}]},\"id\":\"305ae17b-85bb-439c-98d7-47dbf7dee209\",\"type\":\"LegendItem\"},{\"attributes\":{},\"id\":\"951e55d0-d2d8-408b-aaf2-da912e0e9ffc\",\"type\":\"SaveTool\"},{\"attributes\":{\"active_drag\":\"auto\",\"active_inspect\":\"auto\",\"active_scroll\":\"auto\",\"active_tap\":\"auto\",\"tools\":[{\"id\":\"56efd308-b2c6-4be2-a77d-289f6110bcfa\",\"type\":\"PanTool\"},{\"id\":\"b5a796ca-b72a-4687-b942-5a3a8c4257a4\",\"type\":\"WheelZoomTool\"},{\"id\":\"fd5f6385-5144-406c-9531-14e57934ef70\",\"type\":\"BoxZoomTool\"},{\"id\":\"c70ff0db-dc92-4e84-9304-93c967e312cc\",\"type\":\"SaveTool\"},{\"id\":\"05fd58d7-e25a-47fa-bfef-9b160ff3c19c\",\"type\":\"ResetTool\"},{\"id\":\"7c971978-d753-4703-a850-5cb98639516a\",\"type\":\"HelpTool\"}]},\"id\":\"23e036d2-e046-4b35-a851-49c0569b221d\",\"type\":\"Toolbar\"},{\"attributes\":{},\"id\":\"05fd58d7-e25a-47fa-bfef-9b160ff3c19c\",\"type\":\"ResetTool\"},{\"attributes\":{\"callback\":null,\"end\":0.01,\"start\":1020},\"id\":\"00d82489-3cae-4bbc-8303-03ec21cbcd46\",\"type\":\"Range1d\"},{\"attributes\":{\"line_color\":\"#4daf4a\",\"line_width\":1.5,\"x\":{\"field\":\"x\"},\"y\":{\"field\":\"y\"}},\"id\":\"6cd52d99-a78c-4d9c-94a0-323573771111\",\"type\":\"Line\"}],\"root_ids\":[\"afe39466-80d3-49db-81da-43ef39c75641\"]},\"title\":\"Bokeh Application\",\"version\":\"0.12.14\"}};\n",
       "  var render_items = [{\"docid\":\"cf8440bd-9378-4f37-9f3f-15b5f737c1bb\",\"elementid\":\"f1b1ef41-546a-4b85-b623-3474fe6eb975\",\"modelid\":\"afe39466-80d3-49db-81da-43ef39c75641\"}];\n",
       "  root.Bokeh.embed.embed_items_notebook(docs_json, render_items);\n",
       "\n",
       "  }\n",
       "  if (root.Bokeh !== undefined) {\n",
       "    embed_document(root);\n",
       "  } else {\n",
       "    var attempts = 0;\n",
       "    var timer = setInterval(function(root) {\n",
       "      if (root.Bokeh !== undefined) {\n",
       "        embed_document(root);\n",
       "        clearInterval(timer);\n",
       "      }\n",
       "      attempts++;\n",
       "      if (attempts > 100) {\n",
       "        console.log(\"Bokeh: ERROR: Unable to run BokehJS code because BokehJS library is missing\")\n",
       "        clearInterval(timer);\n",
       "      }\n",
       "    }, 10, root)\n",
       "  }\n",
       "})(window);"
      ],
      "application/vnd.bokehjs_exec.v0+json": ""
     },
     "metadata": {
      "application/vnd.bokehjs_exec.v0+json": {
       "id": "afe39466-80d3-49db-81da-43ef39c75641"
      }
     },
     "output_type": "display_data"
    },
    {
     "name": "stdout",
     "output_type": "stream",
     "text": [
      "FIGURE. Cooling rate profiles.\n"
     ]
    },
    {
     "data": {
      "text/html": [
       "<a id=\"Flux_Comparison\"></a>"
      ],
      "text/plain": [
       "<IPython.core.display.HTML object>"
      ]
     },
     "metadata": {},
     "output_type": "display_data"
    },
    {
     "data": {
      "text/markdown": [
       "# Flux Comparison"
      ],
      "text/plain": [
       "<IPython.core.display.Markdown object>"
      ]
     },
     "metadata": {},
     "output_type": "display_data"
    },
    {
     "data": {
      "text/html": [
       "<div>\n",
       "<style>\n",
       "    .dataframe thead tr:only-child th {\n",
       "        text-align: right;\n",
       "    }\n",
       "\n",
       "    .dataframe thead th {\n",
       "        text-align: left;\n",
       "    }\n",
       "\n",
       "    .dataframe tbody tr th {\n",
       "        vertical-align: top;\n",
       "    }\n",
       "</style>\n",
       "<table border=\"1\" class=\"dataframe\">\n",
       "  <thead>\n",
       "    <tr style=\"text-align: right;\">\n",
       "      <th></th>\n",
       "      <th></th>\n",
       "      <th>flug</th>\n",
       "      <th>fldg</th>\n",
       "      <th>fnetg</th>\n",
       "    </tr>\n",
       "    <tr>\n",
       "      <th>pressure</th>\n",
       "      <th>level</th>\n",
       "      <th></th>\n",
       "      <th></th>\n",
       "      <th></th>\n",
       "    </tr>\n",
       "  </thead>\n",
       "  <tbody>\n",
       "    <tr>\n",
       "      <th>0.0000</th>\n",
       "      <th>1</th>\n",
       "      <td>-23.028098</td>\n",
       "      <td>0.000000</td>\n",
       "      <td>-23.028098</td>\n",
       "    </tr>\n",
       "    <tr>\n",
       "      <th>1.0685</th>\n",
       "      <th>24</th>\n",
       "      <td>-23.026680</td>\n",
       "      <td>0.004153</td>\n",
       "      <td>-23.022527</td>\n",
       "    </tr>\n",
       "    <tr>\n",
       "      <th>1013.0000</th>\n",
       "      <th>76</th>\n",
       "      <td>-23.591138</td>\n",
       "      <td>1.955718</td>\n",
       "      <td>-21.635419</td>\n",
       "    </tr>\n",
       "  </tbody>\n",
       "</table>\n",
       "</div>"
      ],
      "text/plain": [
       "                      flug      fldg      fnetg\n",
       "pressure  level                                \n",
       "0.0000    1     -23.028098  0.000000 -23.028098\n",
       "1.0685    24    -23.026680  0.004153 -23.022527\n",
       "1013.0000 76    -23.591138  1.955718 -21.635419"
      ]
     },
     "metadata": {},
     "output_type": "display_data"
    },
    {
     "name": "stdout",
     "output_type": "stream",
     "text": [
      "Table. Fluxes. WGT igg=10 wgt_flux=1\n"
     ]
    },
    {
     "data": {
      "text/html": [
       "<div>\n",
       "<style>\n",
       "    .dataframe thead tr:only-child th {\n",
       "        text-align: right;\n",
       "    }\n",
       "\n",
       "    .dataframe thead th {\n",
       "        text-align: left;\n",
       "    }\n",
       "\n",
       "    .dataframe tbody tr th {\n",
       "        vertical-align: top;\n",
       "    }\n",
       "</style>\n",
       "<table border=\"1\" class=\"dataframe\">\n",
       "  <thead>\n",
       "    <tr style=\"text-align: right;\">\n",
       "      <th></th>\n",
       "      <th></th>\n",
       "      <th>flug</th>\n",
       "      <th>fldg</th>\n",
       "      <th>fnetg</th>\n",
       "    </tr>\n",
       "    <tr>\n",
       "      <th>pressure</th>\n",
       "      <th>level</th>\n",
       "      <th></th>\n",
       "      <th></th>\n",
       "      <th></th>\n",
       "    </tr>\n",
       "  </thead>\n",
       "  <tbody>\n",
       "    <tr>\n",
       "      <th>0.0000</th>\n",
       "      <th>1</th>\n",
       "      <td>-23.030142</td>\n",
       "      <td>0.000000</td>\n",
       "      <td>-23.030142</td>\n",
       "    </tr>\n",
       "    <tr>\n",
       "      <th>1.0685</th>\n",
       "      <th>24</th>\n",
       "      <td>-23.028839</td>\n",
       "      <td>0.004279</td>\n",
       "      <td>-23.024560</td>\n",
       "    </tr>\n",
       "    <tr>\n",
       "      <th>1013.0000</th>\n",
       "      <th>76</th>\n",
       "      <td>-23.591138</td>\n",
       "      <td>1.870278</td>\n",
       "      <td>-21.720860</td>\n",
       "    </tr>\n",
       "  </tbody>\n",
       "</table>\n",
       "</div>"
      ],
      "text/plain": [
       "                      flug      fldg      fnetg\n",
       "pressure  level                                \n",
       "0.0000    1     -23.030142  0.000000 -23.030142\n",
       "1.0685    24    -23.028839  0.004279 -23.024560\n",
       "1013.0000 76    -23.591138  1.870278 -21.720860"
      ]
     },
     "metadata": {},
     "output_type": "display_data"
    },
    {
     "name": "stdout",
     "output_type": "stream",
     "text": [
      "Table. Fluxes. CRD\n"
     ]
    },
    {
     "data": {
      "text/html": [
       "<div>\n",
       "<style>\n",
       "    .dataframe thead tr:only-child th {\n",
       "        text-align: right;\n",
       "    }\n",
       "\n",
       "    .dataframe thead th {\n",
       "        text-align: left;\n",
       "    }\n",
       "\n",
       "    .dataframe tbody tr th {\n",
       "        vertical-align: top;\n",
       "    }\n",
       "</style>\n",
       "<table border=\"1\" class=\"dataframe\">\n",
       "  <thead>\n",
       "    <tr style=\"text-align: right;\">\n",
       "      <th></th>\n",
       "      <th></th>\n",
       "      <th>flug</th>\n",
       "      <th>fldg</th>\n",
       "      <th>fnetg</th>\n",
       "    </tr>\n",
       "    <tr>\n",
       "      <th>pressure</th>\n",
       "      <th>level</th>\n",
       "      <th></th>\n",
       "      <th></th>\n",
       "      <th></th>\n",
       "    </tr>\n",
       "  </thead>\n",
       "  <tbody>\n",
       "    <tr>\n",
       "      <th>1.000000e-08</th>\n",
       "      <th>1</th>\n",
       "      <td>-23.050441</td>\n",
       "      <td>0.000002</td>\n",
       "      <td>-23.050439</td>\n",
       "    </tr>\n",
       "    <tr>\n",
       "      <th>1.068500e+00</th>\n",
       "      <th>24</th>\n",
       "      <td>-23.049116</td>\n",
       "      <td>0.003792</td>\n",
       "      <td>-23.045324</td>\n",
       "    </tr>\n",
       "    <tr>\n",
       "      <th>1.013000e+03</th>\n",
       "      <th>76</th>\n",
       "      <td>-23.591140</td>\n",
       "      <td>1.889003</td>\n",
       "      <td>-21.702137</td>\n",
       "    </tr>\n",
       "  </tbody>\n",
       "</table>\n",
       "</div>"
      ],
      "text/plain": [
       "                         flug      fldg      fnetg\n",
       "pressure     level                                \n",
       "1.000000e-08 1     -23.050441  0.000002 -23.050439\n",
       "1.068500e+00 24    -23.049116  0.003792 -23.045324\n",
       "1.013000e+03 76    -23.591140  1.889003 -21.702137"
      ]
     },
     "metadata": {},
     "output_type": "display_data"
    },
    {
     "name": "stdout",
     "output_type": "stream",
     "text": [
      "Table. Fluxes. CLIRAD\n"
     ]
    },
    {
     "data": {
      "text/html": [
       "<div>\n",
       "<style>\n",
       "    .dataframe thead tr:only-child th {\n",
       "        text-align: right;\n",
       "    }\n",
       "\n",
       "    .dataframe thead th {\n",
       "        text-align: left;\n",
       "    }\n",
       "\n",
       "    .dataframe tbody tr th {\n",
       "        vertical-align: top;\n",
       "    }\n",
       "</style>\n",
       "<table border=\"1\" class=\"dataframe\">\n",
       "  <thead>\n",
       "    <tr style=\"text-align: right;\">\n",
       "      <th></th>\n",
       "      <th></th>\n",
       "      <th>flug</th>\n",
       "      <th>fldg</th>\n",
       "      <th>fnetg</th>\n",
       "    </tr>\n",
       "    <tr>\n",
       "      <th>pressure</th>\n",
       "      <th>level</th>\n",
       "      <th></th>\n",
       "      <th></th>\n",
       "      <th></th>\n",
       "    </tr>\n",
       "  </thead>\n",
       "  <tbody>\n",
       "    <tr>\n",
       "      <th>0.0000</th>\n",
       "      <th>1</th>\n",
       "      <td>-2.043730e-03</td>\n",
       "      <td>0.000000</td>\n",
       "      <td>-0.002044</td>\n",
       "    </tr>\n",
       "    <tr>\n",
       "      <th>1.0685</th>\n",
       "      <th>24</th>\n",
       "      <td>-2.159380e-03</td>\n",
       "      <td>0.000126</td>\n",
       "      <td>-0.002033</td>\n",
       "    </tr>\n",
       "    <tr>\n",
       "      <th>1013.0000</th>\n",
       "      <th>76</th>\n",
       "      <td>1.400000e-07</td>\n",
       "      <td>-0.085440</td>\n",
       "      <td>-0.085441</td>\n",
       "    </tr>\n",
       "  </tbody>\n",
       "</table>\n",
       "</div>"
      ],
      "text/plain": [
       "                         flug      fldg     fnetg\n",
       "pressure  level                                  \n",
       "0.0000    1     -2.043730e-03  0.000000 -0.002044\n",
       "1.0685    24    -2.159380e-03  0.000126 -0.002033\n",
       "1013.0000 76     1.400000e-07 -0.085440 -0.085441"
      ]
     },
     "metadata": {},
     "output_type": "display_data"
    },
    {
     "name": "stdout",
     "output_type": "stream",
     "text": [
      "Table. Fluxes. (CRD) - (WGT igg=10 wgt_flux=1)\n"
     ]
    },
    {
     "data": {
      "text/html": [
       "<div>\n",
       "<style>\n",
       "    .dataframe thead tr:only-child th {\n",
       "        text-align: right;\n",
       "    }\n",
       "\n",
       "    .dataframe thead th {\n",
       "        text-align: left;\n",
       "    }\n",
       "\n",
       "    .dataframe tbody tr th {\n",
       "        vertical-align: top;\n",
       "    }\n",
       "</style>\n",
       "<table border=\"1\" class=\"dataframe\">\n",
       "  <thead>\n",
       "    <tr style=\"text-align: right;\">\n",
       "      <th></th>\n",
       "      <th></th>\n",
       "      <th>flug</th>\n",
       "      <th>fldg</th>\n",
       "      <th>fnetg</th>\n",
       "    </tr>\n",
       "    <tr>\n",
       "      <th>pressure</th>\n",
       "      <th>level</th>\n",
       "      <th></th>\n",
       "      <th></th>\n",
       "      <th></th>\n",
       "    </tr>\n",
       "  </thead>\n",
       "  <tbody>\n",
       "    <tr>\n",
       "      <th>0.0000</th>\n",
       "      <th>1</th>\n",
       "      <td>-0.022343</td>\n",
       "      <td>0.000002</td>\n",
       "      <td>-0.022341</td>\n",
       "    </tr>\n",
       "    <tr>\n",
       "      <th>1.0685</th>\n",
       "      <th>24</th>\n",
       "      <td>-0.022436</td>\n",
       "      <td>-0.000361</td>\n",
       "      <td>-0.022797</td>\n",
       "    </tr>\n",
       "    <tr>\n",
       "      <th>1013.0000</th>\n",
       "      <th>76</th>\n",
       "      <td>-0.000002</td>\n",
       "      <td>-0.066715</td>\n",
       "      <td>-0.066718</td>\n",
       "    </tr>\n",
       "  </tbody>\n",
       "</table>\n",
       "</div>"
      ],
      "text/plain": [
       "                     flug      fldg     fnetg\n",
       "pressure  level                              \n",
       "0.0000    1     -0.022343  0.000002 -0.022341\n",
       "1.0685    24    -0.022436 -0.000361 -0.022797\n",
       "1013.0000 76    -0.000002 -0.066715 -0.066718"
      ]
     },
     "metadata": {},
     "output_type": "display_data"
    },
    {
     "name": "stdout",
     "output_type": "stream",
     "text": [
      "Table. Fluxes. (CLIRAD) - (WGT igg=10 wgt_flux=1)\n"
     ]
    },
    {
     "data": {
      "text/html": [
       "<a id=\"Best-fit_Parameters\"></a>"
      ],
      "text/plain": [
       "<IPython.core.display.HTML object>"
      ]
     },
     "metadata": {},
     "output_type": "display_data"
    },
    {
     "data": {
      "text/markdown": [
       "# Best-fit Parameters"
      ],
      "text/plain": [
       "<IPython.core.display.Markdown object>"
      ]
     },
     "metadata": {},
     "output_type": "display_data"
    },
    {
     "name": "stdout",
     "output_type": "stream",
     "text": [
      "Best-fit values for each (gas, band)\n",
      "------------------------------------\n",
      "o n2o band3a\n",
      "  atmpro = mls\n",
      "  band = 3a\n",
      "  commitnumber = a06b618\n",
      "  conc = 3.2e-07\n",
      "  dv = 0.001\n",
      "  klin = 2.22e-20\n",
      "  molecule = n2o\n",
      "  ng_adju = [0, 0]\n",
      "  ng_refs = [1, 2]\n",
      "  nv = 1000\n",
      "  option_compute_btable = 0\n",
      "  option_compute_ktable = 1\n",
      "  option_wgt_flux = 1\n",
      "  option_wgt_k = 1\n",
      "  ref_pts = [(1, 250), (500, 250)]\n",
      "  tsfc = 294\n",
      "  vmax = 620\n",
      "  vmin = 540\n",
      "  w_diffuse = [(1.8,), (1.66, 1.8)]\n",
      "  wgt = [(0.9,), (0.5, 0.95)]\n"
     ]
    }
   ],
   "source": [
    "script()"
   ]
  },
  {
   "cell_type": "code",
   "execution_count": 13,
   "metadata": {
    "collapsed": true
   },
   "outputs": [
    {
     "data": {
      "text/html": [
       "<script>\n",
       "code_show=true; \n",
       "function code_toggle() {\n",
       " if (code_show){\n",
       " $('div.input').hide();\n",
       " } else {\n",
       " $('div.input').show();\n",
       " }\n",
       " code_show = !code_show\n",
       "} \n",
       "$( document ).ready(code_toggle);\n",
       "</script>\n",
       "<form action=\"javascript:code_toggle()\"><input type=\"submit\" value=\"Click here to toggle on/off the raw code.\"></form>"
      ],
      "text/plain": [
       "<IPython.core.display.HTML object>"
      ]
     },
     "execution_count": 13,
     "metadata": {},
     "output_type": "execute_result"
    }
   ],
   "source": [
    "display.HTML('''<script>\n",
    "code_show=true; \n",
    "function code_toggle() {\n",
    " if (code_show){\n",
    " $('div.input').hide();\n",
    " } else {\n",
    " $('div.input').show();\n",
    " }\n",
    " code_show = !code_show\n",
    "} \n",
    "$( document ).ready(code_toggle);\n",
    "</script>\n",
    "<form action=\"javascript:code_toggle()\"><input type=\"submit\" value=\"Click here to toggle on/off the raw code.\"></form>''')"
   ]
  }
 ],
 "metadata": {
  "kernelspec": {
   "display_name": "Python 3",
   "language": "python",
   "name": "python3"
  },
  "language_info": {
   "codemirror_mode": {
    "name": "ipython",
    "version": 3
   },
   "file_extension": ".py",
   "mimetype": "text/x-python",
   "name": "python",
   "nbconvert_exporter": "python",
   "pygments_lexer": "ipython3",
   "version": "3.6.1"
  }
 },
 "nbformat": 4,
 "nbformat_minor": 2
}
