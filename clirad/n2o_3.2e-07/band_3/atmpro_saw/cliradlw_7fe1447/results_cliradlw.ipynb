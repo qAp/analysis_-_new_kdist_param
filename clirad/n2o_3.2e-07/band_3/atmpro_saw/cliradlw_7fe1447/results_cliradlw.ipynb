{
 "cells": [
  {
   "cell_type": "code",
   "execution_count": 1,
   "metadata": {
    "collapsed": true
   },
   "outputs": [],
   "source": [
    "%matplotlib inline\n",
    "import os\n",
    "import re\n",
    "import io\n",
    "import itertools\n",
    "import pprint\n",
    "\n",
    "from bokeh.io import output_notebook, show\n",
    "from bokeh.layouts import gridplot\n",
    "from bokeh.plotting import figure\n",
    "from bokeh.models import Range1d, Legend\n",
    "from bokeh.palettes import all_palettes\n",
    "\n",
    "import matplotlib\n",
    "import matplotlib.pyplot as plt\n",
    "import numpy as np\n",
    "import pandas as pd\n",
    "import xarray as xr\n",
    "\n",
    "import climatools.lblnew.bestfit_params as bestfits\n",
    "from climatools.lblnew import setup_bestfit, setup_overlap\n",
    "import climatools.lblnew.pipeline as pipe_lblnew\n",
    "import climatools.cliradlw.setup as setup_cliradlw\n",
    "import climatools.cliradlw.pipeline as pipe_cliradlw\n",
    "\n",
    "import climatools.html.html as climahtml\n",
    "from climatools.lblnew.dataio import *\n",
    "from climatools.plot.plot import *\n",
    "\n",
    "\n",
    "import IPython.display as display"
   ]
  },
  {
   "cell_type": "code",
   "execution_count": 2,
   "metadata": {
    "collapsed": true
   },
   "outputs": [],
   "source": [
    "%run param.py"
   ]
  },
  {
   "cell_type": "code",
   "execution_count": 3,
   "metadata": {
    "collapsed": true
   },
   "outputs": [],
   "source": [
    "def load_output_file(path_csv):\n",
    "    '''\n",
    "    Load lblnew output .csv file to xarray.Dataset\n",
    "    \n",
    "    Parameters\n",
    "    ----------\n",
    "    path_csv: str\n",
    "              Path to the .csv file to be loaded.\n",
    "    ds: xarray.Dataset\n",
    "        Data in the input file in the form of an xarray.Dataset.\n",
    "    '''\n",
    "    toindex = ['band', 'pressure', 'igg', 'g']    \n",
    "    df = pd.read_csv(path_csv, sep=r'\\s+')\n",
    "    df = df.set_index([i for i in toindex if i in df.columns])\n",
    "    df = df.rename(columns={'sfu': 'flug',\n",
    "                            'sfd': 'fldg',\n",
    "                            'fnet': 'fnetg',\n",
    "                            'coolr': 'coolrg'})\n",
    "    ds = xr.Dataset.from_dataframe(df)\n",
    "\n",
    "    for l in ('level', 'layer'):\n",
    "        if l in ds.data_vars:\n",
    "            if len(ds[l].dims) > 1:\n",
    "                surface = {d: 0 for d in ds.dims if d != 'pressure'}\n",
    "                coord_level = ds[l][surface]\n",
    "                ds.coords[l] = ('pressure', coord_level)\n",
    "            else:\n",
    "                ds.coords[l] = ('pressure', ds[l])\n",
    "    \n",
    "    return ds"
   ]
  },
  {
   "cell_type": "code",
   "execution_count": 4,
   "metadata": {
    "collapsed": true
   },
   "outputs": [],
   "source": [
    "def lblnew_setup(param=None):\n",
    "    if 'ng_refs' in param:\n",
    "        return {'setup': setup_bestfit,\n",
    "                'fname_flux_crd': 'output_flux.dat',\n",
    "                'fname_cool_crd': 'output_coolr.dat',\n",
    "                'fname_flux_wgt': 'output_wfluxg.dat',\n",
    "                'fname_cool_wgt': 'output_wcoolrg.dat'}\n",
    "    else:\n",
    "        return {'setup': setup_overlap,\n",
    "                'fname_flux_crd': 'output_flux.dat',\n",
    "                'fname_cool_crd': 'output_coolr.dat',\n",
    "                'fname_flux_wgt': 'output_wflux.dat',\n",
    "                'fname_cool_wgt': 'output_wcoolr.dat'}\n",
    "\n",
    "    \n",
    "def load_lblnew_data(param):\n",
    "    \n",
    "    fname_dsname = [('fname_flux_crd', 'ds_flux_crd'),\n",
    "                    ('fname_cool_crd', 'ds_cool_crd'),\n",
    "                    ('fname_flux_wgt', 'ds_flux_wgt'),\n",
    "                    ('fname_cool_wgt', 'ds_cool_wgt')]\n",
    "    \n",
    "    d = lblnew_setup(param)\n",
    "    dir_fortran = pipe_lblnew.get_dir_case(param, setup=d['setup'])\n",
    "    \n",
    "    data_dict = {}\n",
    "    for fname, dsname in fname_dsname:\n",
    "        fpath = os.path.join(dir_fortran, d[fname])\n",
    "        data_dict[dsname] = load_output_file(fpath)\n",
    "    return data_dict\n",
    "    \n",
    "\n",
    "    \n",
    "    "
   ]
  },
  {
   "cell_type": "code",
   "execution_count": 5,
   "metadata": {
    "collapsed": true
   },
   "outputs": [],
   "source": [
    "d = load_lblnew_data(PARAM_LBLNEW)\n",
    "\n",
    "DS_FLUX_CRD = d['ds_flux_crd']\n",
    "DS_COOL_CRD = d['ds_cool_crd']\n",
    "DS_FLUX_WGT = d['ds_flux_wgt']\n",
    "DS_COOL_WGT = d['ds_cool_wgt']"
   ]
  },
  {
   "cell_type": "code",
   "execution_count": 6,
   "metadata": {
    "collapsed": true
   },
   "outputs": [],
   "source": [
    "DIR_FORTRAN = pipe_cliradlw.get_fortran_dir(PARAM, \n",
    "                                            setup=setup_cliradlw)\n",
    "\n",
    "PATH_FLUX = os.path.join(DIR_FORTRAN, 'output_flux.dat')\n",
    "PATH_COOL = os.path.join(DIR_FORTRAN, 'output_coolr.dat')\n",
    "\n",
    "DS_FLUX = load_output_file(PATH_FLUX)\n",
    "DS_COOL = load_output_file(PATH_COOL)"
   ]
  },
  {
   "cell_type": "code",
   "execution_count": 7,
   "metadata": {
    "collapsed": true
   },
   "outputs": [
    {
     "data": {
      "text/html": [
       "\n",
       "    <div class=\"bk-root\">\n",
       "        <a href=\"https://bokeh.pydata.org\" target=\"_blank\" class=\"bk-logo bk-logo-small bk-logo-notebook\"></a>\n",
       "        <span id=\"d298ad5a-a40b-44c1-82fc-f55d716719e0\">Loading BokehJS ...</span>\n",
       "    </div>"
      ]
     },
     "metadata": {},
     "output_type": "display_data"
    },
    {
     "data": {
      "application/javascript": [
       "\n",
       "(function(root) {\n",
       "  function now() {\n",
       "    return new Date();\n",
       "  }\n",
       "\n",
       "  var force = true;\n",
       "\n",
       "  if (typeof (root._bokeh_onload_callbacks) === \"undefined\" || force === true) {\n",
       "    root._bokeh_onload_callbacks = [];\n",
       "    root._bokeh_is_loading = undefined;\n",
       "  }\n",
       "\n",
       "  var JS_MIME_TYPE = 'application/javascript';\n",
       "  var HTML_MIME_TYPE = 'text/html';\n",
       "  var EXEC_MIME_TYPE = 'application/vnd.bokehjs_exec.v0+json';\n",
       "  var CLASS_NAME = 'output_bokeh rendered_html';\n",
       "\n",
       "  /**\n",
       "   * Render data to the DOM node\n",
       "   */\n",
       "  function render(props, node) {\n",
       "    var script = document.createElement(\"script\");\n",
       "    node.appendChild(script);\n",
       "  }\n",
       "\n",
       "  /**\n",
       "   * Handle when an output is cleared or removed\n",
       "   */\n",
       "  function handleClearOutput(event, handle) {\n",
       "    var cell = handle.cell;\n",
       "\n",
       "    var id = cell.output_area._bokeh_element_id;\n",
       "    var server_id = cell.output_area._bokeh_server_id;\n",
       "    // Clean up Bokeh references\n",
       "    if (id !== undefined) {\n",
       "      Bokeh.index[id].model.document.clear();\n",
       "      delete Bokeh.index[id];\n",
       "    }\n",
       "\n",
       "    if (server_id !== undefined) {\n",
       "      // Clean up Bokeh references\n",
       "      var cmd = \"from bokeh.io.state import curstate; print(curstate().uuid_to_server['\" + server_id + \"'].get_sessions()[0].document.roots[0]._id)\";\n",
       "      cell.notebook.kernel.execute(cmd, {\n",
       "        iopub: {\n",
       "          output: function(msg) {\n",
       "            var element_id = msg.content.text.trim();\n",
       "            Bokeh.index[element_id].model.document.clear();\n",
       "            delete Bokeh.index[element_id];\n",
       "          }\n",
       "        }\n",
       "      });\n",
       "      // Destroy server and session\n",
       "      var cmd = \"import bokeh.io.notebook as ion; ion.destroy_server('\" + server_id + \"')\";\n",
       "      cell.notebook.kernel.execute(cmd);\n",
       "    }\n",
       "  }\n",
       "\n",
       "  /**\n",
       "   * Handle when a new output is added\n",
       "   */\n",
       "  function handleAddOutput(event, handle) {\n",
       "    var output_area = handle.output_area;\n",
       "    var output = handle.output;\n",
       "\n",
       "    // limit handleAddOutput to display_data with EXEC_MIME_TYPE content only\n",
       "    if ((output.output_type != \"display_data\") || (!output.data.hasOwnProperty(EXEC_MIME_TYPE))) {\n",
       "      return\n",
       "    }\n",
       "\n",
       "    var toinsert = output_area.element.find(\".\" + CLASS_NAME.split(' ')[0]);\n",
       "\n",
       "    if (output.metadata[EXEC_MIME_TYPE][\"id\"] !== undefined) {\n",
       "      toinsert[0].firstChild.textContent = output.data[JS_MIME_TYPE];\n",
       "      // store reference to embed id on output_area\n",
       "      output_area._bokeh_element_id = output.metadata[EXEC_MIME_TYPE][\"id\"];\n",
       "    }\n",
       "    if (output.metadata[EXEC_MIME_TYPE][\"server_id\"] !== undefined) {\n",
       "      var bk_div = document.createElement(\"div\");\n",
       "      bk_div.innerHTML = output.data[HTML_MIME_TYPE];\n",
       "      var script_attrs = bk_div.children[0].attributes;\n",
       "      for (var i = 0; i < script_attrs.length; i++) {\n",
       "        toinsert[0].firstChild.setAttribute(script_attrs[i].name, script_attrs[i].value);\n",
       "      }\n",
       "      // store reference to server id on output_area\n",
       "      output_area._bokeh_server_id = output.metadata[EXEC_MIME_TYPE][\"server_id\"];\n",
       "    }\n",
       "  }\n",
       "\n",
       "  function register_renderer(events, OutputArea) {\n",
       "\n",
       "    function append_mime(data, metadata, element) {\n",
       "      // create a DOM node to render to\n",
       "      var toinsert = this.create_output_subarea(\n",
       "        metadata,\n",
       "        CLASS_NAME,\n",
       "        EXEC_MIME_TYPE\n",
       "      );\n",
       "      this.keyboard_manager.register_events(toinsert);\n",
       "      // Render to node\n",
       "      var props = {data: data, metadata: metadata[EXEC_MIME_TYPE]};\n",
       "      render(props, toinsert[0]);\n",
       "      element.append(toinsert);\n",
       "      return toinsert\n",
       "    }\n",
       "\n",
       "    /* Handle when an output is cleared or removed */\n",
       "    events.on('clear_output.CodeCell', handleClearOutput);\n",
       "    events.on('delete.Cell', handleClearOutput);\n",
       "\n",
       "    /* Handle when a new output is added */\n",
       "    events.on('output_added.OutputArea', handleAddOutput);\n",
       "\n",
       "    /**\n",
       "     * Register the mime type and append_mime function with output_area\n",
       "     */\n",
       "    OutputArea.prototype.register_mime_type(EXEC_MIME_TYPE, append_mime, {\n",
       "      /* Is output safe? */\n",
       "      safe: true,\n",
       "      /* Index of renderer in `output_area.display_order` */\n",
       "      index: 0\n",
       "    });\n",
       "  }\n",
       "\n",
       "  // register the mime type if in Jupyter Notebook environment and previously unregistered\n",
       "  if (root.Jupyter !== undefined) {\n",
       "    var events = require('base/js/events');\n",
       "    var OutputArea = require('notebook/js/outputarea').OutputArea;\n",
       "\n",
       "    if (OutputArea.prototype.mime_types().indexOf(EXEC_MIME_TYPE) == -1) {\n",
       "      register_renderer(events, OutputArea);\n",
       "    }\n",
       "  }\n",
       "\n",
       "  \n",
       "  if (typeof (root._bokeh_timeout) === \"undefined\" || force === true) {\n",
       "    root._bokeh_timeout = Date.now() + 5000;\n",
       "    root._bokeh_failed_load = false;\n",
       "  }\n",
       "\n",
       "  var NB_LOAD_WARNING = {'data': {'text/html':\n",
       "     \"<div style='background-color: #fdd'>\\n\"+\n",
       "     \"<p>\\n\"+\n",
       "     \"BokehJS does not appear to have successfully loaded. If loading BokehJS from CDN, this \\n\"+\n",
       "     \"may be due to a slow or bad network connection. Possible fixes:\\n\"+\n",
       "     \"</p>\\n\"+\n",
       "     \"<ul>\\n\"+\n",
       "     \"<li>re-rerun `output_notebook()` to attempt to load from CDN again, or</li>\\n\"+\n",
       "     \"<li>use INLINE resources instead, as so:</li>\\n\"+\n",
       "     \"</ul>\\n\"+\n",
       "     \"<code>\\n\"+\n",
       "     \"from bokeh.resources import INLINE\\n\"+\n",
       "     \"output_notebook(resources=INLINE)\\n\"+\n",
       "     \"</code>\\n\"+\n",
       "     \"</div>\"}};\n",
       "\n",
       "  function display_loaded() {\n",
       "    var el = document.getElementById(\"d298ad5a-a40b-44c1-82fc-f55d716719e0\");\n",
       "    if (el != null) {\n",
       "      el.textContent = \"BokehJS is loading...\";\n",
       "    }\n",
       "    if (root.Bokeh !== undefined) {\n",
       "      if (el != null) {\n",
       "        el.textContent = \"BokehJS \" + root.Bokeh.version + \" successfully loaded.\";\n",
       "      }\n",
       "    } else if (Date.now() < root._bokeh_timeout) {\n",
       "      setTimeout(display_loaded, 100)\n",
       "    }\n",
       "  }\n",
       "\n",
       "\n",
       "  function run_callbacks() {\n",
       "    try {\n",
       "      root._bokeh_onload_callbacks.forEach(function(callback) { callback() });\n",
       "    }\n",
       "    finally {\n",
       "      delete root._bokeh_onload_callbacks\n",
       "    }\n",
       "    console.info(\"Bokeh: all callbacks have finished\");\n",
       "  }\n",
       "\n",
       "  function load_libs(js_urls, callback) {\n",
       "    root._bokeh_onload_callbacks.push(callback);\n",
       "    if (root._bokeh_is_loading > 0) {\n",
       "      console.log(\"Bokeh: BokehJS is being loaded, scheduling callback at\", now());\n",
       "      return null;\n",
       "    }\n",
       "    if (js_urls == null || js_urls.length === 0) {\n",
       "      run_callbacks();\n",
       "      return null;\n",
       "    }\n",
       "    console.log(\"Bokeh: BokehJS not loaded, scheduling load and callback at\", now());\n",
       "    root._bokeh_is_loading = js_urls.length;\n",
       "    for (var i = 0; i < js_urls.length; i++) {\n",
       "      var url = js_urls[i];\n",
       "      var s = document.createElement('script');\n",
       "      s.src = url;\n",
       "      s.async = false;\n",
       "      s.onreadystatechange = s.onload = function() {\n",
       "        root._bokeh_is_loading--;\n",
       "        if (root._bokeh_is_loading === 0) {\n",
       "          console.log(\"Bokeh: all BokehJS libraries loaded\");\n",
       "          run_callbacks()\n",
       "        }\n",
       "      };\n",
       "      s.onerror = function() {\n",
       "        console.warn(\"failed to load library \" + url);\n",
       "      };\n",
       "      console.log(\"Bokeh: injecting script tag for BokehJS library: \", url);\n",
       "      document.getElementsByTagName(\"head\")[0].appendChild(s);\n",
       "    }\n",
       "  };var element = document.getElementById(\"d298ad5a-a40b-44c1-82fc-f55d716719e0\");\n",
       "  if (element == null) {\n",
       "    console.log(\"Bokeh: ERROR: autoload.js configured with elementid 'd298ad5a-a40b-44c1-82fc-f55d716719e0' but no matching script tag was found. \")\n",
       "    return false;\n",
       "  }\n",
       "\n",
       "  var js_urls = [\"https://cdn.pydata.org/bokeh/release/bokeh-0.12.14.min.js\", \"https://cdn.pydata.org/bokeh/release/bokeh-widgets-0.12.14.min.js\", \"https://cdn.pydata.org/bokeh/release/bokeh-tables-0.12.14.min.js\", \"https://cdn.pydata.org/bokeh/release/bokeh-gl-0.12.14.min.js\"];\n",
       "\n",
       "  var inline_js = [\n",
       "    function(Bokeh) {\n",
       "      Bokeh.set_log_level(\"info\");\n",
       "    },\n",
       "    \n",
       "    function(Bokeh) {\n",
       "      \n",
       "    },\n",
       "    function(Bokeh) {\n",
       "      console.log(\"Bokeh: injecting CSS: https://cdn.pydata.org/bokeh/release/bokeh-0.12.14.min.css\");\n",
       "      Bokeh.embed.inject_css(\"https://cdn.pydata.org/bokeh/release/bokeh-0.12.14.min.css\");\n",
       "      console.log(\"Bokeh: injecting CSS: https://cdn.pydata.org/bokeh/release/bokeh-widgets-0.12.14.min.css\");\n",
       "      Bokeh.embed.inject_css(\"https://cdn.pydata.org/bokeh/release/bokeh-widgets-0.12.14.min.css\");\n",
       "      console.log(\"Bokeh: injecting CSS: https://cdn.pydata.org/bokeh/release/bokeh-tables-0.12.14.min.css\");\n",
       "      Bokeh.embed.inject_css(\"https://cdn.pydata.org/bokeh/release/bokeh-tables-0.12.14.min.css\");\n",
       "    }\n",
       "  ];\n",
       "\n",
       "  function run_inline_js() {\n",
       "    \n",
       "    if ((root.Bokeh !== undefined) || (force === true)) {\n",
       "      for (var i = 0; i < inline_js.length; i++) {\n",
       "        inline_js[i].call(root, root.Bokeh);\n",
       "      }if (force === true) {\n",
       "        display_loaded();\n",
       "      }} else if (Date.now() < root._bokeh_timeout) {\n",
       "      setTimeout(run_inline_js, 100);\n",
       "    } else if (!root._bokeh_failed_load) {\n",
       "      console.log(\"Bokeh: BokehJS failed to load within specified timeout.\");\n",
       "      root._bokeh_failed_load = true;\n",
       "    } else if (force !== true) {\n",
       "      var cell = $(document.getElementById(\"d298ad5a-a40b-44c1-82fc-f55d716719e0\")).parents('.cell').data().cell;\n",
       "      cell.output_area.append_execute_result(NB_LOAD_WARNING)\n",
       "    }\n",
       "\n",
       "  }\n",
       "\n",
       "  if (root._bokeh_is_loading === 0) {\n",
       "    console.log(\"Bokeh: BokehJS loaded, going straight to plotting\");\n",
       "    run_inline_js();\n",
       "  } else {\n",
       "    load_libs(js_urls, function() {\n",
       "      console.log(\"Bokeh: BokehJS plotting callback run at\", now());\n",
       "      run_inline_js();\n",
       "    });\n",
       "  }\n",
       "}(window));"
      ],
      "application/vnd.bokehjs_load.v0+json": "\n(function(root) {\n  function now() {\n    return new Date();\n  }\n\n  var force = true;\n\n  if (typeof (root._bokeh_onload_callbacks) === \"undefined\" || force === true) {\n    root._bokeh_onload_callbacks = [];\n    root._bokeh_is_loading = undefined;\n  }\n\n  \n\n  \n  if (typeof (root._bokeh_timeout) === \"undefined\" || force === true) {\n    root._bokeh_timeout = Date.now() + 5000;\n    root._bokeh_failed_load = false;\n  }\n\n  var NB_LOAD_WARNING = {'data': {'text/html':\n     \"<div style='background-color: #fdd'>\\n\"+\n     \"<p>\\n\"+\n     \"BokehJS does not appear to have successfully loaded. If loading BokehJS from CDN, this \\n\"+\n     \"may be due to a slow or bad network connection. Possible fixes:\\n\"+\n     \"</p>\\n\"+\n     \"<ul>\\n\"+\n     \"<li>re-rerun `output_notebook()` to attempt to load from CDN again, or</li>\\n\"+\n     \"<li>use INLINE resources instead, as so:</li>\\n\"+\n     \"</ul>\\n\"+\n     \"<code>\\n\"+\n     \"from bokeh.resources import INLINE\\n\"+\n     \"output_notebook(resources=INLINE)\\n\"+\n     \"</code>\\n\"+\n     \"</div>\"}};\n\n  function display_loaded() {\n    var el = document.getElementById(\"d298ad5a-a40b-44c1-82fc-f55d716719e0\");\n    if (el != null) {\n      el.textContent = \"BokehJS is loading...\";\n    }\n    if (root.Bokeh !== undefined) {\n      if (el != null) {\n        el.textContent = \"BokehJS \" + root.Bokeh.version + \" successfully loaded.\";\n      }\n    } else if (Date.now() < root._bokeh_timeout) {\n      setTimeout(display_loaded, 100)\n    }\n  }\n\n\n  function run_callbacks() {\n    try {\n      root._bokeh_onload_callbacks.forEach(function(callback) { callback() });\n    }\n    finally {\n      delete root._bokeh_onload_callbacks\n    }\n    console.info(\"Bokeh: all callbacks have finished\");\n  }\n\n  function load_libs(js_urls, callback) {\n    root._bokeh_onload_callbacks.push(callback);\n    if (root._bokeh_is_loading > 0) {\n      console.log(\"Bokeh: BokehJS is being loaded, scheduling callback at\", now());\n      return null;\n    }\n    if (js_urls == null || js_urls.length === 0) {\n      run_callbacks();\n      return null;\n    }\n    console.log(\"Bokeh: BokehJS not loaded, scheduling load and callback at\", now());\n    root._bokeh_is_loading = js_urls.length;\n    for (var i = 0; i < js_urls.length; i++) {\n      var url = js_urls[i];\n      var s = document.createElement('script');\n      s.src = url;\n      s.async = false;\n      s.onreadystatechange = s.onload = function() {\n        root._bokeh_is_loading--;\n        if (root._bokeh_is_loading === 0) {\n          console.log(\"Bokeh: all BokehJS libraries loaded\");\n          run_callbacks()\n        }\n      };\n      s.onerror = function() {\n        console.warn(\"failed to load library \" + url);\n      };\n      console.log(\"Bokeh: injecting script tag for BokehJS library: \", url);\n      document.getElementsByTagName(\"head\")[0].appendChild(s);\n    }\n  };var element = document.getElementById(\"d298ad5a-a40b-44c1-82fc-f55d716719e0\");\n  if (element == null) {\n    console.log(\"Bokeh: ERROR: autoload.js configured with elementid 'd298ad5a-a40b-44c1-82fc-f55d716719e0' but no matching script tag was found. \")\n    return false;\n  }\n\n  var js_urls = [\"https://cdn.pydata.org/bokeh/release/bokeh-0.12.14.min.js\", \"https://cdn.pydata.org/bokeh/release/bokeh-widgets-0.12.14.min.js\", \"https://cdn.pydata.org/bokeh/release/bokeh-tables-0.12.14.min.js\", \"https://cdn.pydata.org/bokeh/release/bokeh-gl-0.12.14.min.js\"];\n\n  var inline_js = [\n    function(Bokeh) {\n      Bokeh.set_log_level(\"info\");\n    },\n    \n    function(Bokeh) {\n      \n    },\n    function(Bokeh) {\n      console.log(\"Bokeh: injecting CSS: https://cdn.pydata.org/bokeh/release/bokeh-0.12.14.min.css\");\n      Bokeh.embed.inject_css(\"https://cdn.pydata.org/bokeh/release/bokeh-0.12.14.min.css\");\n      console.log(\"Bokeh: injecting CSS: https://cdn.pydata.org/bokeh/release/bokeh-widgets-0.12.14.min.css\");\n      Bokeh.embed.inject_css(\"https://cdn.pydata.org/bokeh/release/bokeh-widgets-0.12.14.min.css\");\n      console.log(\"Bokeh: injecting CSS: https://cdn.pydata.org/bokeh/release/bokeh-tables-0.12.14.min.css\");\n      Bokeh.embed.inject_css(\"https://cdn.pydata.org/bokeh/release/bokeh-tables-0.12.14.min.css\");\n    }\n  ];\n\n  function run_inline_js() {\n    \n    if ((root.Bokeh !== undefined) || (force === true)) {\n      for (var i = 0; i < inline_js.length; i++) {\n        inline_js[i].call(root, root.Bokeh);\n      }if (force === true) {\n        display_loaded();\n      }} else if (Date.now() < root._bokeh_timeout) {\n      setTimeout(run_inline_js, 100);\n    } else if (!root._bokeh_failed_load) {\n      console.log(\"Bokeh: BokehJS failed to load within specified timeout.\");\n      root._bokeh_failed_load = true;\n    } else if (force !== true) {\n      var cell = $(document.getElementById(\"d298ad5a-a40b-44c1-82fc-f55d716719e0\")).parents('.cell').data().cell;\n      cell.output_area.append_execute_result(NB_LOAD_WARNING)\n    }\n\n  }\n\n  if (root._bokeh_is_loading === 0) {\n    console.log(\"Bokeh: BokehJS loaded, going straight to plotting\");\n    run_inline_js();\n  } else {\n    load_libs(js_urls, function() {\n      console.log(\"Bokeh: BokehJS plotting callback run at\", now());\n      run_inline_js();\n    });\n  }\n}(window));"
     },
     "metadata": {},
     "output_type": "display_data"
    }
   ],
   "source": [
    "output_notebook()"
   ]
  },
  {
   "cell_type": "code",
   "execution_count": 8,
   "metadata": {
    "collapsed": true
   },
   "outputs": [],
   "source": [
    "def fmt_cool(ds_in):\n",
    "    ds = ds_in.copy(deep=True)\n",
    "    if 'igg' in ds.dims:\n",
    "        ds = ds.sel(igg=1)\n",
    "\n",
    "    if 'g' in ds.dims:\n",
    "        ds = ds.sum('g')\n",
    "            \n",
    "    if 'band' in ds.dims:\n",
    "        try:\n",
    "            ds = ds.squeeze('band')\n",
    "        except ValueError:\n",
    "            ds = ds.sum('band')\n",
    "                \n",
    "    return ds['coolrg']\n",
    "\n",
    "\n",
    "def pltdata_cooling_1(ds_cool=None,\n",
    "                      ds_cool_crd=None, ds_cool_wgt=None):\n",
    "    \n",
    "\n",
    "\n",
    "    colors = all_palettes['Set1'][4]\n",
    "    data = [{'label': 'CLIRAD `coolr_bands`',\n",
    "             'srs': fmt_cool(ds_cool),\n",
    "             'line_dash': 'dashed', 'line_width': 5,\n",
    "             'color': colors[0], 'alpha': .6},\n",
    "            {'label': 'CRD',\n",
    "             'srs': fmt_cool(ds_cool_crd),\n",
    "             'line_dash': 'solid', 'line_width': 1.5,\n",
    "             'marker': 'circle', 'marker_size': 5,\n",
    "             'color': colors[2], 'alpha': 1,},\n",
    "            {'label': 'WGT igg=10 wgt_flux=2',\n",
    "             'srs': fmt_cool(ds_cool_wgt),\n",
    "             'line_dash': 'solid', 'line_width': 3,\n",
    "             'marker': 'square', 'marker_size': 5,\n",
    "             'color': colors[3], 'alpha': .6}]\n",
    "    return data\n",
    "\n",
    "\n",
    "def nice_xlims(pltdata=None, prange=None):\n",
    "    \n",
    "    def get_slice(srs):\n",
    "        return srs.sel(pressure=slice(*prange))\n",
    "    \n",
    "    srss = [d['srs'] for d in pltdata]\n",
    "    vmin = min([get_slice(srs).min() for srs in srss])\n",
    "    vmax = max([get_slice(srs).max() for srs in srss])\n",
    "    dv = (vmax - vmin) * .01\n",
    "    return float(vmin - dv), float(vmax + dv)\n",
    "    \n",
    "\n",
    "def plt_cooling_bokeh(pltdata=None):\n",
    "    '''\n",
    "    Plot a list of cooling rate profiles using bokeh.\n",
    "    '''\n",
    "    ymin = 1e-2 \n",
    "    ymax = 1020 \n",
    "        \n",
    "    p1 = figure(title=\"Linear pressure scale\", \n",
    "                plot_width=400)        \n",
    "    xmin, xmax = nice_xlims(pltdata, prange=(50, 1050))\n",
    "    for d in pltdata:\n",
    "        if 'marker' in d:\n",
    "            getattr(p1, d['marker'])(d['srs'].values, \n",
    "                    d['srs'].coords['pressure'].values,\n",
    "                    color=d['color'], alpha=.7)\n",
    "        p1.line(d['srs'].values, \n",
    "                d['srs'].coords['pressure'].values,\n",
    "                color=d['color'], alpha=d['alpha'], \n",
    "                line_width=d['line_width'], line_dash=d['line_dash'])\n",
    "    \n",
    "    p1.y_range = Range1d(ymax, ymin)\n",
    "    p1.yaxis.axis_label = 'pressure [mb]'   \n",
    "    p1.x_range = Range1d(xmin, xmax)\n",
    "    p1.xaxis.axis_label = 'cooling rate [K/day]'\n",
    "            \n",
    "    p2 = figure(title='Log pressure scale', y_axis_type='log',\n",
    "                plot_width=560)\n",
    "    xmin, xmax = nice_xlims(pltdata, prange=(.01, 200))\n",
    "    \n",
    "    rs = []\n",
    "    for d in pltdata:\n",
    "        rd = []\n",
    "        if 'marker' in d:\n",
    "            r_mark = getattr(p2, d['marker'])(d['srs'].values, \n",
    "                        d['srs'].coords['pressure'].values,\n",
    "                        color=d['color'], alpha=.7)\n",
    "            rd.append(r_mark)\n",
    "        r_line = p2.line(d['srs'].values, \n",
    "                    d['srs'].coords['pressure'].values,\n",
    "                    color=d['color'], alpha=d['alpha'], \n",
    "                    line_width=d['line_width'], line_dash=d['line_dash'])\n",
    "        rd.append(r_line)\n",
    "      \n",
    "        rs.append(rd)\n",
    "        \n",
    "    p2.y_range = Range1d(ymax, ymin)  \n",
    "    p2.yaxis.axis_label = 'pressure [mb]'\n",
    "    \n",
    "    p2.x_range = Range1d(xmin, xmax)\n",
    "    p2.xaxis.axis_label = 'cooling rate [K/day]'\n",
    "    \n",
    "    items = [(d['label'], r) for r, d in zip(rs, pltdata)]\n",
    "    legend = Legend(items=items, location=(10, -30))\n",
    "    legend.label_text_font_size = '8pt'\n",
    "    \n",
    "    p2.add_layout(legend, 'right')  \n",
    "    \n",
    "    show(gridplot(p1, p2, ncols=2, plot_height=500))\n",
    "    \n",
    "\n",
    "def script_plt_cooling():\n",
    "    pltdata = pltdata_cooling_1(\n",
    "        ds_cool=DS_COOL,\n",
    "        ds_cool_crd=DS_COOL_CRD,\n",
    "        ds_cool_wgt=DS_COOL_WGT)\n",
    "    plt_cooling_bokeh(pltdata=pltdata)\n",
    "    print('''FIGURE. Cooling rate profiles.''')"
   ]
  },
  {
   "cell_type": "code",
   "execution_count": 9,
   "metadata": {
    "collapsed": true
   },
   "outputs": [],
   "source": [
    "def fmt_flux(ds_in):\n",
    "    ds = ds_in.copy(deep=True)\n",
    "    \n",
    "    for l in ('level', 'layer'):\n",
    "        if l in ds.data_vars:\n",
    "            if len(ds[l].dims) > 1:\n",
    "                surface = {d: 0 for d in ds.dims if d != 'pressure'}\n",
    "                coord_level = ds[l][surface]\n",
    "                ds.coords[l] = ('pressure', coord_level)\n",
    "            else:\n",
    "                ds.coords[l] = ('pressure', ds[l])\n",
    "        \n",
    "    ds = ds.isel(pressure=[0, 23, -1])\n",
    "        \n",
    "    if 'igg' in ds.dims:\n",
    "        ds = ds.sel(igg=[1])\n",
    "        ds = ds.squeeze('igg').drop('igg')\n",
    "    \n",
    "    if 'g' in ds.dims:\n",
    "        ds = ds.sum('g')\n",
    "            \n",
    "    if 'band' in ds.dims:\n",
    "        try:\n",
    "            ds = ds.squeeze('band').drop('band')\n",
    "        except ValueError:\n",
    "            ds = ds.sum('band')\n",
    "                \n",
    "    df = ds.to_dataframe()\n",
    "    df = df.set_index('level', append=True)               \n",
    "    return df\n",
    "\n",
    "\n",
    "def tbdata_flux(ds_flux=None, ds_flux_crd=None, ds_flux_wgt=None):\n",
    "    ilevels = [0, 23, -1]\n",
    "            \n",
    "    benchmark = {'label': 'WGT igg=10 wgt_flux=1',\n",
    "                 'df': fmt_flux(ds_flux_wgt)}\n",
    "    \n",
    "    tbs = [{'label': 'CRD',\n",
    "            'df': fmt_flux(ds_flux_crd)},\n",
    "           {'label': 'CLIRAD',\n",
    "            'df': fmt_flux(ds_flux)}]\n",
    "    \n",
    "    data = {'benchmark': benchmark, 'others': tbs}\n",
    "    return data\n",
    "\n",
    "\n",
    "def tb_flux(tbdata=None):\n",
    "    benchmark = tbdata['benchmark']\n",
    "    others = tbdata['others']\n",
    "    \n",
    "    def show_tb(d=None):\n",
    "        display.display(d['df'])\n",
    "        print('Table.', 'Fluxes.', d['label'])\n",
    "        \n",
    "    def show_tbdiff(d0=None, d=None):\n",
    "        df = d['df']\n",
    "        df.index = d0['df'].index\n",
    "        display.display(df - d0['df'])\n",
    "        print('Table.', 'Fluxes.', \n",
    "              '({}) - ({})'.format(d['label'], d0['label']))\n",
    "        \n",
    "    show_tb(benchmark)\n",
    "    for d in others:\n",
    "        show_tb(d)\n",
    "        \n",
    "    for d in others:\n",
    "        show_tbdiff(d=d, d0=benchmark)\n",
    "        \n",
    "        \n",
    "def script_tb_flux():\n",
    "    data = tbdata_flux(ds_flux=DS_FLUX,\n",
    "                       ds_flux_crd=DS_FLUX_CRD,\n",
    "                       ds_flux_wgt=DS_FLUX_WGT)\n",
    "    tb_flux(tbdata=data)"
   ]
  },
  {
   "cell_type": "code",
   "execution_count": 10,
   "metadata": {
    "collapsed": true
   },
   "outputs": [],
   "source": [
    "def band_map():\n",
    "    '''\n",
    "    Maps spectral bands in lblnew to spectral bands in clirad.\n",
    "    '''\n",
    "    lblnew2clirad = {'1': '1',\n",
    "            '2': '2',\n",
    "            '3a': '3',\n",
    "            '3b': '4',\n",
    "            '3c': '5',\n",
    "            '4': '6', \n",
    "            '5': '7',\n",
    "            '6': '8',\n",
    "            '7': '9', \n",
    "            '8': '10',\n",
    "            '9': '11'}\n",
    "    \n",
    "    clirad2lblnew = {clirad: lblnew \n",
    "                     for lblnew, clirad in lblnew2clirad.items()}\n",
    "    return clirad2lblnew\n",
    "\n",
    "\n",
    "def gasbands():\n",
    "    bmap = band_map()\n",
    "    gases = list(PARAM['molecule'].keys())\n",
    "    \n",
    "    bands = [bmap[str(b)] for b in PARAM['band']]\n",
    "    return list(itertools.product(gases, bands))\n",
    "\n",
    "\n",
    "def print_bestfit_params():\n",
    "    print('Best-fit values for each (gas, band)')\n",
    "    print('------------------------------------')\n",
    "    for gas, band in gasbands():\n",
    "        print('o {} band{}'.format(gas, band))\n",
    "        param = bestfits.kdist_params(molecule=gas, band=band)\n",
    "        for name, value in sorted(param.items()):\n",
    "            print(2 * ' ' + '{} = {}'.format(name, value))\n",
    "\n",
    "        \n",
    "def print_input_param():        \n",
    "    for name, value in PARAM.items():\n",
    "        print('{} = {}'.format(name, value))\n",
    "        \n",
    "        \n",
    "def print_lblnew_param():\n",
    "    for name, value in sorted(PARAM_LBLNEW.items()):\n",
    "        print('{} = {}'.format(name, value))\n"
   ]
  },
  {
   "cell_type": "code",
   "execution_count": 11,
   "metadata": {
    "collapsed": true,
    "scrolled": false
   },
   "outputs": [],
   "source": [
    "def show_html(s):\n",
    "    display.display(display.HTML(s))\n",
    "\n",
    "    \n",
    "def show_markdown(s):\n",
    "    display.display(display.Markdown(s))\n",
    "\n",
    "    \n",
    "def script():\n",
    "    \n",
    "    title = '### CLIRAD-LW'\n",
    "    s_input = 'Input Parameters'\n",
    "    s_lblnew_param = 'LBLNEW case compaired against'\n",
    "    s_bestfits = 'Best-fit Parameters'\n",
    "    s_plt_cooling = 'Cooling Rate Profiles'\n",
    "    s_tb_flux = 'Flux Comparison'\n",
    "    \n",
    "    # title\n",
    "    show_markdown('### CLIRAD-LW')\n",
    "    \n",
    "    # TOC\n",
    "    show_markdown('### Table of Contents')\n",
    "    show_html(climahtml.getHTML_hrefanchor(s_input))\n",
    "    show_html(climahtml.getHTML_hrefanchor(s_lblnew_param))\n",
    "    show_html(climahtml.getHTML_hrefanchor(s_plt_cooling))\n",
    "    show_html(climahtml.getHTML_hrefanchor(s_tb_flux))\n",
    "    show_html(climahtml.getHTML_hrefanchor(s_bestfits))\n",
    "    \n",
    "    # Input parameters\n",
    "    show_html(climahtml.getHTML_idanchor(s_input))\n",
    "    show_markdown(climahtml.getMarkdown_sectitle(s_input))\n",
    "    print_input_param()\n",
    "    \n",
    "    # LBLNEW parameters \n",
    "    show_html(climahtml.getHTML_idanchor(s_lblnew_param))\n",
    "    show_markdown(climahtml.getMarkdown_sectitle(s_lblnew_param))\n",
    "    print_lblnew_param()\n",
    "    \n",
    "    # Cooling rate profiles\n",
    "    show_html(climahtml.getHTML_idanchor(s_plt_cooling))\n",
    "    show_markdown(climahtml.getMarkdown_sectitle(s_plt_cooling))\n",
    "    script_plt_cooling()\n",
    "    \n",
    "    # Flux comparison\n",
    "    show_html(climahtml.getHTML_idanchor(s_tb_flux))\n",
    "    show_markdown(climahtml.getMarkdown_sectitle(s_tb_flux))\n",
    "    script_tb_flux()\n",
    "    \n",
    "    # Best-fit values\n",
    "    show_html(climahtml.getHTML_idanchor(s_bestfits))\n",
    "    show_markdown(climahtml.getMarkdown_sectitle(s_bestfits))\n",
    "    print_bestfit_params()\n",
    "   \n",
    "    "
   ]
  },
  {
   "cell_type": "code",
   "execution_count": 12,
   "metadata": {
    "collapsed": true,
    "scrolled": false
   },
   "outputs": [
    {
     "data": {
      "text/markdown": [
       "### CLIRAD-LW"
      ],
      "text/plain": [
       "<IPython.core.display.Markdown object>"
      ]
     },
     "metadata": {},
     "output_type": "display_data"
    },
    {
     "data": {
      "text/markdown": [
       "### Table of Contents"
      ],
      "text/plain": [
       "<IPython.core.display.Markdown object>"
      ]
     },
     "metadata": {},
     "output_type": "display_data"
    },
    {
     "data": {
      "text/html": [
       "<a href=\"#Input_Parameters\">Input Parameters</a>"
      ],
      "text/plain": [
       "<IPython.core.display.HTML object>"
      ]
     },
     "metadata": {},
     "output_type": "display_data"
    },
    {
     "data": {
      "text/html": [
       "<a href=\"#LBLNEW_case_compaired_against\">LBLNEW case compaired against</a>"
      ],
      "text/plain": [
       "<IPython.core.display.HTML object>"
      ]
     },
     "metadata": {},
     "output_type": "display_data"
    },
    {
     "data": {
      "text/html": [
       "<a href=\"#Cooling_Rate_Profiles\">Cooling Rate Profiles</a>"
      ],
      "text/plain": [
       "<IPython.core.display.HTML object>"
      ]
     },
     "metadata": {},
     "output_type": "display_data"
    },
    {
     "data": {
      "text/html": [
       "<a href=\"#Flux_Comparison\">Flux Comparison</a>"
      ],
      "text/plain": [
       "<IPython.core.display.HTML object>"
      ]
     },
     "metadata": {},
     "output_type": "display_data"
    },
    {
     "data": {
      "text/html": [
       "<a href=\"#Best-fit_Parameters\">Best-fit Parameters</a>"
      ],
      "text/plain": [
       "<IPython.core.display.HTML object>"
      ]
     },
     "metadata": {},
     "output_type": "display_data"
    },
    {
     "data": {
      "text/html": [
       "<a id=\"Input_Parameters\"></a>"
      ],
      "text/plain": [
       "<IPython.core.display.HTML object>"
      ]
     },
     "metadata": {},
     "output_type": "display_data"
    },
    {
     "data": {
      "text/markdown": [
       "# Input Parameters"
      ],
      "text/plain": [
       "<IPython.core.display.Markdown object>"
      ]
     },
     "metadata": {},
     "output_type": "display_data"
    },
    {
     "name": "stdout",
     "output_type": "stream",
     "text": [
      "atmpro = saw\n",
      "band = [3]\n",
      "commitnumber = 7fe1447\n",
      "molecule = {'n2o': 3.2e-07}\n",
      "tsfc = 257\n"
     ]
    },
    {
     "data": {
      "text/html": [
       "<a id=\"LBLNEW_case_compaired_against\"></a>"
      ],
      "text/plain": [
       "<IPython.core.display.HTML object>"
      ]
     },
     "metadata": {},
     "output_type": "display_data"
    },
    {
     "data": {
      "text/markdown": [
       "# LBLNEW case compaired against"
      ],
      "text/plain": [
       "<IPython.core.display.Markdown object>"
      ]
     },
     "metadata": {},
     "output_type": "display_data"
    },
    {
     "name": "stdout",
     "output_type": "stream",
     "text": [
      "atmpro = saw\n",
      "band = 3a\n",
      "commitnumber = a06b618\n",
      "conc = 3.2e-07\n",
      "dv = 0.001\n",
      "klin = 2.22e-20\n",
      "molecule = n2o\n",
      "ng_adju = [0, 0]\n",
      "ng_refs = [1, 2]\n",
      "nv = 1000\n",
      "option_compute_btable = 0\n",
      "option_compute_ktable = 0\n",
      "option_wgt_flux = 1\n",
      "option_wgt_k = 1\n",
      "ref_pts = [(1, 250), (500, 250)]\n",
      "tsfc = 257\n",
      "vmax = 620\n",
      "vmin = 540\n",
      "w_diffuse = [(1.8,), (1.66, 1.8)]\n",
      "wgt = [(0.9,), (0.5, 0.95)]\n"
     ]
    },
    {
     "data": {
      "text/html": [
       "<a id=\"Cooling_Rate_Profiles\"></a>"
      ],
      "text/plain": [
       "<IPython.core.display.HTML object>"
      ]
     },
     "metadata": {},
     "output_type": "display_data"
    },
    {
     "data": {
      "text/markdown": [
       "# Cooling Rate Profiles"
      ],
      "text/plain": [
       "<IPython.core.display.Markdown object>"
      ]
     },
     "metadata": {},
     "output_type": "display_data"
    },
    {
     "data": {
      "text/html": [
       "\n",
       "<div class=\"bk-root\">\n",
       "    <div class=\"bk-plotdiv\" id=\"499b2494-6b54-4da9-9759-277ee6987d0c\"></div>\n",
       "</div>"
      ]
     },
     "metadata": {},
     "output_type": "display_data"
    },
    {
     "data": {
      "application/javascript": [
       "(function(root) {\n",
       "  function embed_document(root) {\n",
       "    \n",
       "  var docs_json = {\"2a7806ae-1a7d-45b3-9df0-03acb94d3abd\":{\"roots\":{\"references\":[{\"attributes\":{\"dimension\":1,\"plot\":{\"id\":\"85e5105a-3637-43dc-9ebd-59f33a9fd534\",\"subtype\":\"Figure\",\"type\":\"Plot\"},\"ticker\":{\"id\":\"c4fee748-e39a-475a-8660-fb9fa79a9551\",\"type\":\"LogTicker\"}},\"id\":\"773e24e3-805b-4a01-8b88-5856298d6385\",\"type\":\"Grid\"},{\"attributes\":{\"num_minor_ticks\":10},\"id\":\"c4fee748-e39a-475a-8660-fb9fa79a9551\",\"type\":\"LogTicker\"},{\"attributes\":{\"children\":[{\"id\":\"fe0f9a79-6895-4e4f-b28c-7d99fd83da83\",\"type\":\"Row\"}]},\"id\":\"666f872e-c989-462a-afb3-d23108e92e41\",\"type\":\"Column\"},{\"attributes\":{\"source\":{\"id\":\"2edf75bb-b8e4-403f-b673-af7411f66c9e\",\"type\":\"ColumnDataSource\"}},\"id\":\"7205a0a7-cb1e-4208-a0ef-526daf650442\",\"type\":\"CDSView\"},{\"attributes\":{\"data_source\":{\"id\":\"893c87f5-b1b2-4084-a8d4-6678af951eeb\",\"type\":\"ColumnDataSource\"},\"glyph\":{\"id\":\"d2dcfe76-1414-4e6d-951d-23cedfdd09e7\",\"type\":\"Line\"},\"hover_glyph\":null,\"muted_glyph\":null,\"nonselection_glyph\":{\"id\":\"afb84c94-c861-47a9-9739-3a2f2cd83fea\",\"type\":\"Line\"},\"selection_glyph\":null,\"view\":{\"id\":\"d2e04a9b-09c8-4fb2-bfdf-058304d067f3\",\"type\":\"CDSView\"}},\"id\":\"ccc2986d-37c2-4db0-a7d9-dba96ad317a6\",\"type\":\"GlyphRenderer\"},{\"attributes\":{},\"id\":\"574007d6-5caf-4e3c-a62a-454c366eac75\",\"type\":\"PanTool\"},{\"attributes\":{},\"id\":\"67d7457b-0212-4b24-8b2b-59d8dcc46daa\",\"type\":\"HelpTool\"},{\"attributes\":{\"callback\":null,\"column_names\":[\"x\",\"y\"],\"data\":{\"x\":{\"__ndarray__\":\"kbDDJp8PhD9E4SASn+qFP1aU2NbLxok/zCeTaSDVjT96XAr+bQWRP6RENoMENJM/N/8XHud1lT9vOckc7MmXP5EzkfV7Mpo/KQsxJwCwnD99xy086D+fP8W60uEK8KA/LKY8NNhGoj/V6uCd0nqjP/OVCKCNZqQ/dfPtWssvpT9txMbOcfSlP2zSUTQttqY/Cb/msldzpz9/EvM6Ty2oPwPTtWtMzKg/Vcv+wvDmpz9apRdcQw6lP87aqnqyyKE/QO0BBL2BnT86FUNObPmXP+hAqdIjAZM/mALKjb9Ajj+bQEZ96DuJP/1Ow1KFiIU/VtI9vL0cgj9fo8F6l+N9Px0jR+Unj3o/6nXu6hNIej8F/cvOl+B5P7/nZ3Edn3g/FBhrLmmbdj/l7ZZRHYxzP4iA2FVuCXA/BPAodCu7aT9JJrN7Y+FjP16n4wLvo1w/sNC+YuO7UT/3WtzC59g6P0CtIPItRCm/CVQi9KA/F7/fiXap2nRQPyIdtJQ5CGQ/h8KdAtZubz/bqBZdUyp1P5uHA0j8aHo/aZbVSpl6fz83jKeCbzGCPwMnjzLYkIQ/uOPRti/ahj8+NrDyVwqJPwzZvTiYHYs/ZbzbLMYPjT99yh119dyOP4jYOhqCQZA/shdqSjsAkT+hpzG8uqyRP5xRkCs3SZI/O5EjR4HYkj8B7gphW12TP6CQ4dSu2ZM/dWH/0CdNlD/BS+A+wbGUP1MWXZVG95Q/hN/w/E4FlT+lzKC2Gs2UP6FsRt05WpQ/avMM1SXHkz85eg7CYiiTP0V5yI9Wh5I/\",\"dtype\":\"float64\",\"shape\":[75]},\"y\":{\"__ndarray__\":\"GhExyth1ND/Sv8nbtpRIP2vylNV0PVE/aTum7souWD/At0SJ8fVgPw3Iuahxymc/MSNhhJWvcD/bTfBN02d3P2zb5nxnaoA/CD5h5MAGhz8NmeH1TyaQP+zrCsc9p5Y/LbKd76fGnz/bLW5ISEmmPww9YvTcQq8/JV2OstnstT8Er5Y7M8G+P0c+r3jqkcU/5h99k6ZBzj88bCIzFzjVP4enV8oyxN0//yH99nXg5D8qOpLLf0jtP5kqGJXUifQ/c9cS8kHP/D+/DpwzojQEQIEmwoanVwxA4lgXt9HgE0BSSZ2AJuIbQAMJih9jjiNA5q4l5INuK0AwTKYKRj0zQNv5fmq8/DpAaCJseHrtQkB/+zpwzoxKQM3MzMzMeFJAZmZmZmZqWEAAAAAAAFxeQM3MzMzMJmJAmpmZmZkfZUBmZmZmZhhoQDMzMzMzEWtAAAAAAAAKbkBmZmZmZoFwQM3MzMzM/XFAMzMzMzN6c0CamZmZmfZ0QAAAAAAAc3ZAZmZmZmbvd0DNzMzMzGt5QDMzMzMz6HpAmpmZmZlkfEAAAAAAAOF9QGZmZmZmXX9AZmZmZuZsgECamZmZGSuBQM3MzMxM6YFAAAAAAICngkAzMzMzs2WDQGZmZmbmI4RAmpmZmRnihEDNzMzMTKCFQAAAAACAXoZAMzMzM7Mch0BmZmZm5tqHQJqZmZkZmYhAzczMzExXiUAAAAAAgBWKQDMzMzOz04pAZmZmZuaRi0CamZmZGVCMQM3MzMxMDo1AAAAAAIDMjUAzMzMzs4qOQGZmZmbmSI9A\",\"dtype\":\"float64\",\"shape\":[75]}}},\"id\":\"a1cf53c3-88b9-400d-ad47-282a764ec65d\",\"type\":\"ColumnDataSource\"},{\"attributes\":{\"line_color\":\"#4daf4a\",\"line_width\":1.5,\"x\":{\"field\":\"x\"},\"y\":{\"field\":\"y\"}},\"id\":\"fa9426ff-080c-43e1-92d3-ad7a52e54965\",\"type\":\"Line\"},{\"attributes\":{},\"id\":\"40c77567-2eef-4aed-90fe-8644924f88f9\",\"type\":\"WheelZoomTool\"},{\"attributes\":{\"axis_label\":\"cooling rate [K/day]\",\"formatter\":{\"id\":\"9b47bcfd-0156-40d5-8d3f-6c1311fc8600\",\"type\":\"BasicTickFormatter\"},\"plot\":{\"id\":\"85e5105a-3637-43dc-9ebd-59f33a9fd534\",\"subtype\":\"Figure\",\"type\":\"Plot\"},\"ticker\":{\"id\":\"1e0d0d56-616d-4c26-b05a-a628b782d3b1\",\"type\":\"BasicTicker\"}},\"id\":\"0a2e41d6-2cd9-41d0-a2e4-80f097f6ed5f\",\"type\":\"LinearAxis\"},{\"attributes\":{\"line_alpha\":0.1,\"line_color\":\"#1f77b4\",\"line_width\":1.5,\"x\":{\"field\":\"x\"},\"y\":{\"field\":\"y\"}},\"id\":\"546c9ecb-d202-4dbe-8324-10f8985b6768\",\"type\":\"Line\"},{\"attributes\":{},\"id\":\"b4e01713-51c3-4228-8b07-e685a55a8393\",\"type\":\"BasicTicker\"},{\"attributes\":{},\"id\":\"400197f3-54e8-4516-96c7-cd59c4636d5e\",\"type\":\"PanTool\"},{\"attributes\":{\"dimension\":1,\"plot\":{\"id\":\"068e633f-f24e-43ce-ae6c-800b2c84134c\",\"subtype\":\"Figure\",\"type\":\"Plot\"},\"ticker\":{\"id\":\"b4e01713-51c3-4228-8b07-e685a55a8393\",\"type\":\"BasicTicker\"}},\"id\":\"0b6efa44-f00c-42d8-befb-dd940d10fbb8\",\"type\":\"Grid\"},{\"attributes\":{\"bottom_units\":\"screen\",\"fill_alpha\":{\"value\":0.5},\"fill_color\":{\"value\":\"lightgrey\"},\"left_units\":\"screen\",\"level\":\"overlay\",\"line_alpha\":{\"value\":1.0},\"line_color\":{\"value\":\"black\"},\"line_dash\":[4,4],\"line_width\":{\"value\":2},\"plot\":null,\"render_mode\":\"css\",\"right_units\":\"screen\",\"top_units\":\"screen\"},\"id\":\"8409705e-5cbd-4758-980f-94936276b4ec\",\"type\":\"BoxAnnotation\"},{\"attributes\":{},\"id\":\"045209eb-c48d-4f74-9fa2-36658932c42d\",\"type\":\"LogScale\"},{\"attributes\":{\"data_source\":{\"id\":\"a1cf53c3-88b9-400d-ad47-282a764ec65d\",\"type\":\"ColumnDataSource\"},\"glyph\":{\"id\":\"02f214be-1faf-4ca1-9d2b-12fa06989ef6\",\"type\":\"Circle\"},\"hover_glyph\":null,\"muted_glyph\":null,\"nonselection_glyph\":{\"id\":\"beb2dd63-7022-442b-98f2-1aa87dc8736c\",\"type\":\"Circle\"},\"selection_glyph\":null,\"view\":{\"id\":\"b40c341f-40a1-4693-b130-d2a80c7c4498\",\"type\":\"CDSView\"}},\"id\":\"0b17131e-9222-4788-b7ce-cbb0e5a3d162\",\"type\":\"GlyphRenderer\"},{\"attributes\":{\"active_drag\":\"auto\",\"active_inspect\":\"auto\",\"active_scroll\":\"auto\",\"active_tap\":\"auto\",\"tools\":[{\"id\":\"574007d6-5caf-4e3c-a62a-454c366eac75\",\"type\":\"PanTool\"},{\"id\":\"40c77567-2eef-4aed-90fe-8644924f88f9\",\"type\":\"WheelZoomTool\"},{\"id\":\"3d27ce0d-2bd7-43cc-8545-780a45dfbcb3\",\"type\":\"BoxZoomTool\"},{\"id\":\"2f6113e5-64e9-4bf1-8ddf-32bd244c198b\",\"type\":\"SaveTool\"},{\"id\":\"929fb78e-cf60-4368-97ee-a959831d6b37\",\"type\":\"ResetTool\"},{\"id\":\"02e1dd80-bcd0-48f3-ab3c-46b40bbddab3\",\"type\":\"HelpTool\"}]},\"id\":\"af899e49-7af5-4b2e-b5e7-1e964805a6e8\",\"type\":\"Toolbar\"},{\"attributes\":{\"plot\":null,\"text\":\"Linear pressure scale\"},\"id\":\"859270f2-88dc-4738-841a-68a04f77a2f4\",\"type\":\"Title\"},{\"attributes\":{},\"id\":\"5633bbbb-f214-45b9-adce-db45bc9df419\",\"type\":\"LinearScale\"},{\"attributes\":{},\"id\":\"ef077b42-6e45-4958-a65a-74cf91dfadd2\",\"type\":\"ResetTool\"},{\"attributes\":{\"callback\":null,\"column_names\":[\"x\",\"y\"],\"data\":{\"x\":{\"__ndarray__\":\"PeUybmRBiD881n+qVOmJP8oE+GbeWY0/2WvYRaB7kD90bA5IpVuSP9FH9MFpTZQ/JmLx+SBQlj88YEm8imKYP619dvMwh5o/UWoqEn2+nD8X0toI+wifP0u/78eDs6A/VfffgiDroT8wh7QxDwejP3SF/yYV6KM/hGYdbnyvpD+q4p1PCHqlPwnTwzdKSKY/R60u1Lgdpz/KQRv5I82nP75zgC6skag/5PlWGE3lpz8HInyUioOlPz9XmySbrqI/mSGFCx73nz9F1g4Z9tKaP7FibJYt7ZU/2+AIQT/FkT8hHL8dQVONP5HTNopcE4g/BwY7HZ0Qgz+y26X6LwN9P3AB/APHQHc/dtY43Q8hdT+lcYWHUvpzP7aIZbWhGHM/sxF4yUoicj/A4mN6rlpwP0tRFMuZJGw/oIScmijPZz/lb756Q4hjPytMrHpjgl4/pMA4DtQxVj9+xx491cBLP55BYE0/Xjs/hk1uFs/PQz9vkX3CXVtbP24/Z+dtT2k/WNobzR1rcj/qZ2ZpAfB3P1D9R2ZuTn0/mXhot+9OgT/qIC6dCuODPzZPTGahUYY/ytJrpua8iD+Jip4gAg+LP7gbARTBL40/kqdIFWRAjz+6R7XWt5aQPxMwzFbWbpE/mNf1elw8kj8awt45VfSSP26VuHIclpM/nIiqEn8xlD9ej5S9PbmUP6C+nfj1OZU/06l7wb+xlT82n3uW9RCWPzWp/+yCWpY/nqoiYwxolj94+NNMnDiWP9CxtjsB05U/Eu3Txz1KlT9UnHqwsL2UP/Tn0xFdI5Q/\",\"dtype\":\"float64\",\"shape\":[75]},\"y\":{\"__ndarray__\":\"GhExyth1ND/Sv8nbtpRIP2vylNV0PVE/aTum7souWD/At0SJ8fVgPw3Iuahxymc/MSNhhJWvcD/bTfBN02d3P2zb5nxnaoA/CD5h5MAGhz8NmeH1TyaQP+zrCsc9p5Y/LbKd76fGnz/bLW5ISEmmPww9YvTcQq8/JV2OstnstT8Er5Y7M8G+P0c+r3jqkcU/5h99k6ZBzj88bCIzFzjVP4enV8oyxN0//yH99nXg5D8qOpLLf0jtP5kqGJXUifQ/c9cS8kHP/D+/DpwzojQEQIEmwoanVwxA4lgXt9HgE0BSSZ2AJuIbQAMJih9jjiNA5q4l5INuK0AwTKYKRj0zQNv5fmq8/DpAaCJseHrtQkB/+zpwzoxKQM3MzMzMeFJAZmZmZmZqWEAAAAAAAFxeQM3MzMzMJmJAmpmZmZkfZUBmZmZmZhhoQDMzMzMzEWtAAAAAAAAKbkBmZmZmZoFwQM3MzMzM/XFAMzMzMzN6c0CamZmZmfZ0QAAAAAAAc3ZAZmZmZmbvd0DNzMzMzGt5QDMzMzMz6HpAmpmZmZlkfEAAAAAAAOF9QGZmZmZmXX9AZmZmZuZsgECamZmZGSuBQM3MzMxM6YFAAAAAAICngkAzMzMzs2WDQGZmZmbmI4RAmpmZmRnihEDNzMzMTKCFQAAAAACAXoZAMzMzM7Mch0BmZmZm5tqHQJqZmZkZmYhAzczMzExXiUAAAAAAgBWKQDMzMzOz04pAZmZmZuaRi0CamZmZGVCMQM3MzMxMDo1AAAAAAIDMjUAzMzMzs4qOQGZmZmbmSI9A\",\"dtype\":\"float64\",\"shape\":[75]}}},\"id\":\"2edf75bb-b8e4-403f-b673-af7411f66c9e\",\"type\":\"ColumnDataSource\"},{\"attributes\":{\"line_alpha\":0.1,\"line_color\":\"#1f77b4\",\"line_width\":3,\"x\":{\"field\":\"x\"},\"y\":{\"field\":\"y\"}},\"id\":\"d8982528-6f45-4833-9831-1a94f7cd4dcf\",\"type\":\"Line\"},{\"attributes\":{\"axis_label\":\"pressure [mb]\",\"formatter\":{\"id\":\"4e19ea51-6099-4ab2-9ba1-c236c56fce27\",\"type\":\"BasicTickFormatter\"},\"plot\":{\"id\":\"068e633f-f24e-43ce-ae6c-800b2c84134c\",\"subtype\":\"Figure\",\"type\":\"Plot\"},\"ticker\":{\"id\":\"b4e01713-51c3-4228-8b07-e685a55a8393\",\"type\":\"BasicTicker\"}},\"id\":\"ef957efb-dddf-4038-a9a3-9c613c1a52ee\",\"type\":\"LinearAxis\"},{\"attributes\":{},\"id\":\"1e0d0d56-616d-4c26-b05a-a628b782d3b1\",\"type\":\"BasicTicker\"},{\"attributes\":{\"fill_alpha\":{\"value\":0.7},\"fill_color\":{\"value\":\"#4daf4a\"},\"line_alpha\":{\"value\":0.7},\"line_color\":{\"value\":\"#4daf4a\"},\"x\":{\"field\":\"x\"},\"y\":{\"field\":\"y\"}},\"id\":\"02f214be-1faf-4ca1-9d2b-12fa06989ef6\",\"type\":\"Circle\"},{\"attributes\":{},\"id\":\"12126524-0458-4bde-b920-cfb8f18fb0db\",\"type\":\"SaveTool\"},{\"attributes\":{\"tools\":[{\"id\":\"574007d6-5caf-4e3c-a62a-454c366eac75\",\"type\":\"PanTool\"},{\"id\":\"40c77567-2eef-4aed-90fe-8644924f88f9\",\"type\":\"WheelZoomTool\"},{\"id\":\"3d27ce0d-2bd7-43cc-8545-780a45dfbcb3\",\"type\":\"BoxZoomTool\"},{\"id\":\"2f6113e5-64e9-4bf1-8ddf-32bd244c198b\",\"type\":\"SaveTool\"},{\"id\":\"929fb78e-cf60-4368-97ee-a959831d6b37\",\"type\":\"ResetTool\"},{\"id\":\"02e1dd80-bcd0-48f3-ab3c-46b40bbddab3\",\"type\":\"HelpTool\"},{\"id\":\"400197f3-54e8-4516-96c7-cd59c4636d5e\",\"type\":\"PanTool\"},{\"id\":\"a070445b-b948-447e-987a-315a845f0894\",\"type\":\"WheelZoomTool\"},{\"id\":\"dd53ad25-e4e5-4f76-90b0-762cee331450\",\"type\":\"BoxZoomTool\"},{\"id\":\"12126524-0458-4bde-b920-cfb8f18fb0db\",\"type\":\"SaveTool\"},{\"id\":\"ef077b42-6e45-4958-a65a-74cf91dfadd2\",\"type\":\"ResetTool\"},{\"id\":\"67d7457b-0212-4b24-8b2b-59d8dcc46daa\",\"type\":\"HelpTool\"}]},\"id\":\"2317d0ee-cfdf-44a1-b31d-0f6fd61b1714\",\"type\":\"ProxyToolbar\"},{\"attributes\":{\"items\":[{\"id\":\"80de21a1-c363-4b09-860d-4d538b6a1099\",\"type\":\"LegendItem\"},{\"id\":\"c72c40d1-c95f-4ad2-8ce5-3fa1184d1991\",\"type\":\"LegendItem\"},{\"id\":\"8c454451-acf4-4a25-84e7-3c546cf81101\",\"type\":\"LegendItem\"}],\"label_text_font_size\":{\"value\":\"8pt\"},\"location\":[10,-30],\"plot\":{\"id\":\"85e5105a-3637-43dc-9ebd-59f33a9fd534\",\"subtype\":\"Figure\",\"type\":\"Plot\"}},\"id\":\"0aec9f13-025f-4329-9561-dcbed5fdce05\",\"type\":\"Legend\"},{\"attributes\":{},\"id\":\"6417416b-da76-4572-abd7-b8e25f06bd72\",\"type\":\"BasicTickFormatter\"},{\"attributes\":{\"callback\":null,\"column_names\":[\"x\",\"y\"],\"data\":{\"x\":{\"__ndarray__\":\"0QWNSv7ohj+2R3zikVyIP+P/1X3ci4s/bvRDAszQjj9nk4l8ExqRP1E2jFKn25I/mJV0NBGtlD/QyLqUx46WP9ZSTQQCgZg/iifmGS6Emj+RU/el15acP0tZDyo0up4/2pPPEUp2oD9N5zcKGHahP76j8QT1P6I/5UiNJ4fxoj8Ct+kt8KWjP73nGyz3XaQ/3qWQCOYYpT/bP1t2pNSlPxcq8C8xf6Y/YQBv7qDzpT+Qz3+dCNOjP0816on9UaE/3kCs907enT+XLKCwwUuZP0vypbU+7JQ/FNgLIcE2kT/cOtxnxdKMPwq4A08DAYg/63/DP4E7gz+BDgfK7Hp9P/5wRV6lZnc/VRt0LnJ7dD/Vr3HPzHJyP1q1f29g3HA/b3jztPkIbz/VEARoFWZrP99COl/cJGc/LshH6DZDYz8UXZWPFkNfP8v4RzzxRVg/NSxPqrl4UT9LWDRJ551FP+2v8XUmKDY/Hyzj50ZmQz8Ku4Shl9NaP99X6dZ5gGg/Rx6lpibHcT+QrxHFgy13P08tL/3qcXw/idjl9c7KgD/a/Ns/+EuDP7mgPeU4uoU/FUY57EwOiD/uetvf6EmKP95qF39NaYw/dFkkpHBojj9qEmYh1CGQP0L8JMCu+5A/FAiMDKrBkT+TWJnDynWSP+V7QWl6GZM/KdBc5PSukz/bDCttVTiUP83veLbutpQ/rpdLT/0olT/7U6DSZYqVP/S/9KehzpU/uiZEw9nilT9XXvI/+buVP8tzemd/Y5U/WUp99q/ulD8m2T5y2G6UPxz43P+D7JM/\",\"dtype\":\"float64\",\"shape\":[75]},\"y\":{\"__ndarray__\":\"S/O/Q+51ND/Sv8nbtpRIP2vylNV0PVE/aTum7souWD/At0SJ8fVgPw3Iuahxymc/MSNhhJWvcD/bTfBN02d3P2zb5nxnaoA/CD5h5MAGhz8NmeH1TyaQP+zrCsc9p5Y/LbKd76fGnz/bLW5ISEmmPww9YvTcQq8/JV2OstnstT8Er5Y7M8G+P0c+r3jqkcU/5h99k6ZBzj88bCIzFzjVP4enV8oyxN0//yH99nXg5D8qOpLLf0jtP5kqGJXUifQ/c9cS8kHP/D+/DpwzojQEQIEmwoanVwxA4lgXt9HgE0BSSZ2AJuIbQAMJih9jjiNA5q4l5INuK0AwTKYKRj0zQNv5fmq8/DpAaCJseHrtQkB/+zpwzoxKQM3MzMzMeFJAZmZmZmZqWEAAAAAAAFxeQM3MzMzMJmJAmpmZmZkfZUBmZmZmZhhoQDMzMzMzEWtAAAAAAAAKbkBmZmZmZoFwQM3MzMzM/XFAMzMzMzN6c0CamZmZmfZ0QAAAAAAAc3ZAZmZmZmbvd0DNzMzMzGt5QDMzMzMz6HpAmpmZmZlkfEAAAAAAAOF9QGZmZmZmXX9AZmZmZuZsgECamZmZGSuBQM3MzMxM6YFAAAAAAICngkAzMzMzs2WDQGZmZmbmI4RAmpmZmRnihEDNzMzMTKCFQAAAAACAXoZAMzMzM7Mch0BmZmZm5tqHQJqZmZkZmYhAzczMzExXiUAAAAAAgBWKQDMzMzOz04pAZmZmZuaRi0CamZmZGVCMQM3MzMxMDo1AAAAAAIDMjUAzMzMzs4qOQGZmZmbmSI9A\",\"dtype\":\"float64\",\"shape\":[75]}}},\"id\":\"893c87f5-b1b2-4084-a8d4-6678af951eeb\",\"type\":\"ColumnDataSource\"},{\"attributes\":{\"data_source\":{\"id\":\"2edf75bb-b8e4-403f-b673-af7411f66c9e\",\"type\":\"ColumnDataSource\"},\"glyph\":{\"id\":\"9276b1c0-7003-4ea6-9d06-f0bf16ae2f8d\",\"type\":\"Line\"},\"hover_glyph\":null,\"muted_glyph\":null,\"nonselection_glyph\":{\"id\":\"d8982528-6f45-4833-9831-1a94f7cd4dcf\",\"type\":\"Line\"},\"selection_glyph\":null,\"view\":{\"id\":\"7205a0a7-cb1e-4208-a0ef-526daf650442\",\"type\":\"CDSView\"}},\"id\":\"9a7175a0-aeb1-4dda-b62f-be303aaa7b7d\",\"type\":\"GlyphRenderer\"},{\"attributes\":{\"below\":[{\"id\":\"0a2e41d6-2cd9-41d0-a2e4-80f097f6ed5f\",\"type\":\"LinearAxis\"}],\"left\":[{\"id\":\"a161fe86-b7ae-4d1b-99e6-f22dd45c9606\",\"type\":\"LogAxis\"}],\"plot_height\":500,\"plot_width\":560,\"renderers\":[{\"id\":\"0a2e41d6-2cd9-41d0-a2e4-80f097f6ed5f\",\"type\":\"LinearAxis\"},{\"id\":\"4623ed9c-b068-4b4c-888a-9d89699db5c9\",\"type\":\"Grid\"},{\"id\":\"a161fe86-b7ae-4d1b-99e6-f22dd45c9606\",\"type\":\"LogAxis\"},{\"id\":\"773e24e3-805b-4a01-8b88-5856298d6385\",\"type\":\"Grid\"},{\"id\":\"079c4037-48f4-4920-8c17-c91c5d277e46\",\"type\":\"BoxAnnotation\"},{\"id\":\"0991a482-7134-44eb-af7e-4e7ca16aa963\",\"type\":\"GlyphRenderer\"},{\"id\":\"db318e06-fd84-4b00-89c9-eea76fa9238f\",\"type\":\"GlyphRenderer\"},{\"id\":\"2da858f2-125c-433c-8c2d-ecabd48d54df\",\"type\":\"GlyphRenderer\"},{\"id\":\"618f3a3c-8b93-4e4c-aeb1-17fcde6c6c5d\",\"type\":\"GlyphRenderer\"},{\"id\":\"46d6c3e2-a575-4682-91f5-03b633d59f93\",\"type\":\"GlyphRenderer\"},{\"id\":\"0aec9f13-025f-4329-9561-dcbed5fdce05\",\"type\":\"Legend\"}],\"right\":[{\"id\":\"0aec9f13-025f-4329-9561-dcbed5fdce05\",\"type\":\"Legend\"}],\"title\":{\"id\":\"88289ffd-6d60-47a3-a7de-4d5aabc3f5c7\",\"type\":\"Title\"},\"toolbar\":{\"id\":\"a034fd44-8581-489b-8f33-5d938748ea1e\",\"type\":\"Toolbar\"},\"toolbar_location\":null,\"x_range\":{\"id\":\"30f13ec1-5dc8-4b24-a633-8cad5364d7ab\",\"type\":\"Range1d\"},\"x_scale\":{\"id\":\"5633bbbb-f214-45b9-adce-db45bc9df419\",\"type\":\"LinearScale\"},\"y_range\":{\"id\":\"41bf4b6d-84da-426b-a201-27804605dbc5\",\"type\":\"Range1d\"},\"y_scale\":{\"id\":\"045209eb-c48d-4f74-9fa2-36658932c42d\",\"type\":\"LogScale\"}},\"id\":\"85e5105a-3637-43dc-9ebd-59f33a9fd534\",\"subtype\":\"Figure\",\"type\":\"Plot\"},{\"attributes\":{\"overlay\":{\"id\":\"8409705e-5cbd-4758-980f-94936276b4ec\",\"type\":\"BoxAnnotation\"}},\"id\":\"3d27ce0d-2bd7-43cc-8545-780a45dfbcb3\",\"type\":\"BoxZoomTool\"},{\"attributes\":{},\"id\":\"2f6113e5-64e9-4bf1-8ddf-32bd244c198b\",\"type\":\"SaveTool\"},{\"attributes\":{\"toolbar\":{\"id\":\"2317d0ee-cfdf-44a1-b31d-0f6fd61b1714\",\"type\":\"ProxyToolbar\"},\"toolbar_location\":\"above\"},\"id\":\"4d975009-44c2-49f2-b88a-801b47789e34\",\"type\":\"ToolbarBox\"},{\"attributes\":{\"data_source\":{\"id\":\"fc50faa6-bc2d-4a93-aa81-73c827f39e3e\",\"type\":\"ColumnDataSource\"},\"glyph\":{\"id\":\"fa9426ff-080c-43e1-92d3-ad7a52e54965\",\"type\":\"Line\"},\"hover_glyph\":null,\"muted_glyph\":null,\"nonselection_glyph\":{\"id\":\"546c9ecb-d202-4dbe-8324-10f8985b6768\",\"type\":\"Line\"},\"selection_glyph\":null,\"view\":{\"id\":\"88ed4e6a-7bd5-402d-a4ac-3fa92a786288\",\"type\":\"CDSView\"}},\"id\":\"ad78cc31-1e3a-436f-8e40-833e1c32af87\",\"type\":\"GlyphRenderer\"},{\"attributes\":{\"callback\":null,\"column_names\":[\"x\",\"y\"],\"data\":{\"x\":{\"__ndarray__\":\"0QWNSv7ohj+2R3zikVyIP+P/1X3ci4s/bvRDAszQjj9nk4l8ExqRP1E2jFKn25I/mJV0NBGtlD/QyLqUx46WP9ZSTQQCgZg/iifmGS6Emj+RU/el15acP0tZDyo0up4/2pPPEUp2oD9N5zcKGHahP76j8QT1P6I/5UiNJ4fxoj8Ct+kt8KWjP73nGyz3XaQ/3qWQCOYYpT/bP1t2pNSlPxcq8C8xf6Y/YQBv7qDzpT+Qz3+dCNOjP0816on9UaE/3kCs907enT+XLKCwwUuZP0vypbU+7JQ/FNgLIcE2kT/cOtxnxdKMPwq4A08DAYg/63/DP4E7gz+BDgfK7Hp9P/5wRV6lZnc/VRt0LnJ7dD/Vr3HPzHJyP1q1f29g3HA/b3jztPkIbz/VEARoFWZrP99COl/cJGc/LshH6DZDYz8UXZWPFkNfP8v4RzzxRVg/NSxPqrl4UT9LWDRJ551FP+2v8XUmKDY/Hyzj50ZmQz8Ku4Shl9NaP99X6dZ5gGg/Rx6lpibHcT+QrxHFgy13P08tL/3qcXw/idjl9c7KgD/a/Ns/+EuDP7mgPeU4uoU/FUY57EwOiD/uetvf6EmKP95qF39NaYw/dFkkpHBojj9qEmYh1CGQP0L8JMCu+5A/FAiMDKrBkT+TWJnDynWSP+V7QWl6GZM/KdBc5PSukz/bDCttVTiUP83veLbutpQ/rpdLT/0olT/7U6DSZYqVP/S/9KehzpU/uiZEw9nilT9XXvI/+buVP8tzemd/Y5U/WUp99q/ulD8m2T5y2G6UPxz43P+D7JM/\",\"dtype\":\"float64\",\"shape\":[75]},\"y\":{\"__ndarray__\":\"S/O/Q+51ND/Sv8nbtpRIP2vylNV0PVE/aTum7souWD/At0SJ8fVgPw3Iuahxymc/MSNhhJWvcD/bTfBN02d3P2zb5nxnaoA/CD5h5MAGhz8NmeH1TyaQP+zrCsc9p5Y/LbKd76fGnz/bLW5ISEmmPww9YvTcQq8/JV2OstnstT8Er5Y7M8G+P0c+r3jqkcU/5h99k6ZBzj88bCIzFzjVP4enV8oyxN0//yH99nXg5D8qOpLLf0jtP5kqGJXUifQ/c9cS8kHP/D+/DpwzojQEQIEmwoanVwxA4lgXt9HgE0BSSZ2AJuIbQAMJih9jjiNA5q4l5INuK0AwTKYKRj0zQNv5fmq8/DpAaCJseHrtQkB/+zpwzoxKQM3MzMzMeFJAZmZmZmZqWEAAAAAAAFxeQM3MzMzMJmJAmpmZmZkfZUBmZmZmZhhoQDMzMzMzEWtAAAAAAAAKbkBmZmZmZoFwQM3MzMzM/XFAMzMzMzN6c0CamZmZmfZ0QAAAAAAAc3ZAZmZmZmbvd0DNzMzMzGt5QDMzMzMz6HpAmpmZmZlkfEAAAAAAAOF9QGZmZmZmXX9AZmZmZuZsgECamZmZGSuBQM3MzMxM6YFAAAAAAICngkAzMzMzs2WDQGZmZmbmI4RAmpmZmRnihEDNzMzMTKCFQAAAAACAXoZAMzMzM7Mch0BmZmZm5tqHQJqZmZkZmYhAzczMzExXiUAAAAAAgBWKQDMzMzOz04pAZmZmZuaRi0CamZmZGVCMQM3MzMxMDo1AAAAAAIDMjUAzMzMzs4qOQGZmZmbmSI9A\",\"dtype\":\"float64\",\"shape\":[75]}}},\"id\":\"01491e2b-b07b-4eab-b020-bf448330854b\",\"type\":\"ColumnDataSource\"},{\"attributes\":{},\"id\":\"02e1dd80-bcd0-48f3-ab3c-46b40bbddab3\",\"type\":\"HelpTool\"},{\"attributes\":{},\"id\":\"929fb78e-cf60-4368-97ee-a959831d6b37\",\"type\":\"ResetTool\"},{\"attributes\":{\"bottom_units\":\"screen\",\"fill_alpha\":{\"value\":0.5},\"fill_color\":{\"value\":\"lightgrey\"},\"left_units\":\"screen\",\"level\":\"overlay\",\"line_alpha\":{\"value\":1.0},\"line_color\":{\"value\":\"black\"},\"line_dash\":[4,4],\"line_width\":{\"value\":2},\"plot\":null,\"render_mode\":\"css\",\"right_units\":\"screen\",\"top_units\":\"screen\"},\"id\":\"079c4037-48f4-4920-8c17-c91c5d277e46\",\"type\":\"BoxAnnotation\"},{\"attributes\":{},\"id\":\"a070445b-b948-447e-987a-315a845f0894\",\"type\":\"WheelZoomTool\"},{\"attributes\":{\"below\":[{\"id\":\"3fd2e1cb-e799-4d48-89f2-ed65cbfc4b3d\",\"type\":\"LinearAxis\"}],\"left\":[{\"id\":\"ef957efb-dddf-4038-a9a3-9c613c1a52ee\",\"type\":\"LinearAxis\"}],\"plot_height\":500,\"plot_width\":400,\"renderers\":[{\"id\":\"3fd2e1cb-e799-4d48-89f2-ed65cbfc4b3d\",\"type\":\"LinearAxis\"},{\"id\":\"f622cb41-409b-4569-92d5-5b742c0f18c7\",\"type\":\"Grid\"},{\"id\":\"ef957efb-dddf-4038-a9a3-9c613c1a52ee\",\"type\":\"LinearAxis\"},{\"id\":\"0b6efa44-f00c-42d8-befb-dd940d10fbb8\",\"type\":\"Grid\"},{\"id\":\"8409705e-5cbd-4758-980f-94936276b4ec\",\"type\":\"BoxAnnotation\"},{\"id\":\"ccc2986d-37c2-4db0-a7d9-dba96ad317a6\",\"type\":\"GlyphRenderer\"},{\"id\":\"0b17131e-9222-4788-b7ce-cbb0e5a3d162\",\"type\":\"GlyphRenderer\"},{\"id\":\"ad78cc31-1e3a-436f-8e40-833e1c32af87\",\"type\":\"GlyphRenderer\"},{\"id\":\"17d92e93-2f01-499d-9abc-b8294f157913\",\"type\":\"GlyphRenderer\"},{\"id\":\"9a7175a0-aeb1-4dda-b62f-be303aaa7b7d\",\"type\":\"GlyphRenderer\"}],\"title\":{\"id\":\"859270f2-88dc-4738-841a-68a04f77a2f4\",\"type\":\"Title\"},\"toolbar\":{\"id\":\"af899e49-7af5-4b2e-b5e7-1e964805a6e8\",\"type\":\"Toolbar\"},\"toolbar_location\":null,\"x_range\":{\"id\":\"ccfbad29-7cb8-4051-aca6-72fb099d7983\",\"type\":\"Range1d\"},\"x_scale\":{\"id\":\"1941f7b1-b8f7-4bcc-85e1-6497d33b3ac9\",\"type\":\"LinearScale\"},\"y_range\":{\"id\":\"b77eb933-742c-4909-ac46-c9fc759a74f7\",\"type\":\"Range1d\"},\"y_scale\":{\"id\":\"396251fe-00bf-497e-82bd-9bf0898fdafb\",\"type\":\"LinearScale\"}},\"id\":\"068e633f-f24e-43ce-ae6c-800b2c84134c\",\"subtype\":\"Figure\",\"type\":\"Plot\"},{\"attributes\":{\"overlay\":{\"id\":\"079c4037-48f4-4920-8c17-c91c5d277e46\",\"type\":\"BoxAnnotation\"}},\"id\":\"dd53ad25-e4e5-4f76-90b0-762cee331450\",\"type\":\"BoxZoomTool\"},{\"attributes\":{\"plot\":null,\"text\":\"Log pressure scale\"},\"id\":\"88289ffd-6d60-47a3-a7de-4d5aabc3f5c7\",\"type\":\"Title\"},{\"attributes\":{\"axis_label\":\"pressure [mb]\",\"formatter\":{\"id\":\"148fca2d-a32f-44e9-8c07-d707d862f84b\",\"type\":\"LogTickFormatter\"},\"plot\":{\"id\":\"85e5105a-3637-43dc-9ebd-59f33a9fd534\",\"subtype\":\"Figure\",\"type\":\"Plot\"},\"ticker\":{\"id\":\"c4fee748-e39a-475a-8660-fb9fa79a9551\",\"type\":\"LogTicker\"}},\"id\":\"a161fe86-b7ae-4d1b-99e6-f22dd45c9606\",\"type\":\"LogAxis\"},{\"attributes\":{\"source\":{\"id\":\"a1cf53c3-88b9-400d-ad47-282a764ec65d\",\"type\":\"ColumnDataSource\"}},\"id\":\"b40c341f-40a1-4693-b130-d2a80c7c4498\",\"type\":\"CDSView\"},{\"attributes\":{\"line_alpha\":0.6,\"line_color\":\"#984ea3\",\"line_width\":3,\"x\":{\"field\":\"x\"},\"y\":{\"field\":\"y\"}},\"id\":\"9276b1c0-7003-4ea6-9d06-f0bf16ae2f8d\",\"type\":\"Line\"},{\"attributes\":{\"callback\":null,\"end\":0.0221020286487,\"start\":-0.0004135073187},\"id\":\"ccfbad29-7cb8-4051-aca6-72fb099d7983\",\"type\":\"Range1d\"},{\"attributes\":{\"callback\":null,\"end\":0.01,\"start\":1020},\"id\":\"b77eb933-742c-4909-ac46-c9fc759a74f7\",\"type\":\"Range1d\"},{\"attributes\":{},\"id\":\"80db682d-55e6-494a-97cd-8d799c2295ab\",\"type\":\"BasicTicker\"},{\"attributes\":{},\"id\":\"1941f7b1-b8f7-4bcc-85e1-6497d33b3ac9\",\"type\":\"LinearScale\"},{\"attributes\":{\"callback\":null,\"end\":0.01,\"start\":1020},\"id\":\"41bf4b6d-84da-426b-a201-27804605dbc5\",\"type\":\"Range1d\"},{\"attributes\":{\"active_drag\":\"auto\",\"active_inspect\":\"auto\",\"active_scroll\":\"auto\",\"active_tap\":\"auto\",\"tools\":[{\"id\":\"400197f3-54e8-4516-96c7-cd59c4636d5e\",\"type\":\"PanTool\"},{\"id\":\"a070445b-b948-447e-987a-315a845f0894\",\"type\":\"WheelZoomTool\"},{\"id\":\"dd53ad25-e4e5-4f76-90b0-762cee331450\",\"type\":\"BoxZoomTool\"},{\"id\":\"12126524-0458-4bde-b920-cfb8f18fb0db\",\"type\":\"SaveTool\"},{\"id\":\"ef077b42-6e45-4958-a65a-74cf91dfadd2\",\"type\":\"ResetTool\"},{\"id\":\"67d7457b-0212-4b24-8b2b-59d8dcc46daa\",\"type\":\"HelpTool\"}]},\"id\":\"a034fd44-8581-489b-8f33-5d938748ea1e\",\"type\":\"Toolbar\"},{\"attributes\":{\"plot\":{\"id\":\"85e5105a-3637-43dc-9ebd-59f33a9fd534\",\"subtype\":\"Figure\",\"type\":\"Plot\"},\"ticker\":{\"id\":\"1e0d0d56-616d-4c26-b05a-a628b782d3b1\",\"type\":\"BasicTicker\"}},\"id\":\"4623ed9c-b068-4b4c-888a-9d89699db5c9\",\"type\":\"Grid\"},{\"attributes\":{\"axis_label\":\"cooling rate [K/day]\",\"formatter\":{\"id\":\"6417416b-da76-4572-abd7-b8e25f06bd72\",\"type\":\"BasicTickFormatter\"},\"plot\":{\"id\":\"068e633f-f24e-43ce-ae6c-800b2c84134c\",\"subtype\":\"Figure\",\"type\":\"Plot\"},\"ticker\":{\"id\":\"80db682d-55e6-494a-97cd-8d799c2295ab\",\"type\":\"BasicTicker\"}},\"id\":\"3fd2e1cb-e799-4d48-89f2-ed65cbfc4b3d\",\"type\":\"LinearAxis\"},{\"attributes\":{},\"id\":\"396251fe-00bf-497e-82bd-9bf0898fdafb\",\"type\":\"LinearScale\"},{\"attributes\":{\"line_alpha\":0.6,\"line_color\":\"#e41a1c\",\"line_dash\":[6],\"line_width\":5,\"x\":{\"field\":\"x\"},\"y\":{\"field\":\"y\"}},\"id\":\"d2dcfe76-1414-4e6d-951d-23cedfdd09e7\",\"type\":\"Line\"},{\"attributes\":{\"plot\":{\"id\":\"068e633f-f24e-43ce-ae6c-800b2c84134c\",\"subtype\":\"Figure\",\"type\":\"Plot\"},\"ticker\":{\"id\":\"80db682d-55e6-494a-97cd-8d799c2295ab\",\"type\":\"BasicTicker\"}},\"id\":\"f622cb41-409b-4569-92d5-5b742c0f18c7\",\"type\":\"Grid\"},{\"attributes\":{\"source\":{\"id\":\"ea02d0a1-1943-48a8-9936-f7454ac48d60\",\"type\":\"ColumnDataSource\"}},\"id\":\"3226b150-7d3d-49e1-aeee-7a2e086db724\",\"type\":\"CDSView\"},{\"attributes\":{\"line_alpha\":0.1,\"line_color\":\"#1f77b4\",\"line_dash\":[6],\"line_width\":5,\"x\":{\"field\":\"x\"},\"y\":{\"field\":\"y\"}},\"id\":\"1af99911-5b35-4752-9c40-529c1ab5d887\",\"type\":\"Line\"},{\"attributes\":{\"source\":{\"id\":\"fc50faa6-bc2d-4a93-aa81-73c827f39e3e\",\"type\":\"ColumnDataSource\"}},\"id\":\"88ed4e6a-7bd5-402d-a4ac-3fa92a786288\",\"type\":\"CDSView\"},{\"attributes\":{\"ticker\":null},\"id\":\"148fca2d-a32f-44e9-8c07-d707d862f84b\",\"type\":\"LogTickFormatter\"},{\"attributes\":{\"callback\":null,\"column_names\":[\"x\",\"y\"],\"data\":{\"x\":{\"__ndarray__\":\"kbDDJp8PhD9E4SASn+qFP1aU2NbLxok/zCeTaSDVjT96XAr+bQWRP6RENoMENJM/N/8XHud1lT9vOckc7MmXP5EzkfV7Mpo/KQsxJwCwnD99xy086D+fP8W60uEK8KA/LKY8NNhGoj/V6uCd0nqjP/OVCKCNZqQ/dfPtWssvpT9txMbOcfSlP2zSUTQttqY/Cb/msldzpz9/EvM6Ty2oPwPTtWtMzKg/Vcv+wvDmpz9apRdcQw6lP87aqnqyyKE/QO0BBL2BnT86FUNObPmXP+hAqdIjAZM/mALKjb9Ajj+bQEZ96DuJP/1Ow1KFiIU/VtI9vL0cgj9fo8F6l+N9Px0jR+Unj3o/6nXu6hNIej8F/cvOl+B5P7/nZ3Edn3g/FBhrLmmbdj/l7ZZRHYxzP4iA2FVuCXA/BPAodCu7aT9JJrN7Y+FjP16n4wLvo1w/sNC+YuO7UT/3WtzC59g6P0CtIPItRCm/CVQi9KA/F7/fiXap2nRQPyIdtJQ5CGQ/h8KdAtZubz/bqBZdUyp1P5uHA0j8aHo/aZbVSpl6fz83jKeCbzGCPwMnjzLYkIQ/uOPRti/ahj8+NrDyVwqJPwzZvTiYHYs/ZbzbLMYPjT99yh119dyOP4jYOhqCQZA/shdqSjsAkT+hpzG8uqyRP5xRkCs3SZI/O5EjR4HYkj8B7gphW12TP6CQ4dSu2ZM/dWH/0CdNlD/BS+A+wbGUP1MWXZVG95Q/hN/w/E4FlT+lzKC2Gs2UP6FsRt05WpQ/avMM1SXHkz85eg7CYiiTP0V5yI9Wh5I/\",\"dtype\":\"float64\",\"shape\":[75]},\"y\":{\"__ndarray__\":\"GhExyth1ND/Sv8nbtpRIP2vylNV0PVE/aTum7souWD/At0SJ8fVgPw3Iuahxymc/MSNhhJWvcD/bTfBN02d3P2zb5nxnaoA/CD5h5MAGhz8NmeH1TyaQP+zrCsc9p5Y/LbKd76fGnz/bLW5ISEmmPww9YvTcQq8/JV2OstnstT8Er5Y7M8G+P0c+r3jqkcU/5h99k6ZBzj88bCIzFzjVP4enV8oyxN0//yH99nXg5D8qOpLLf0jtP5kqGJXUifQ/c9cS8kHP/D+/DpwzojQEQIEmwoanVwxA4lgXt9HgE0BSSZ2AJuIbQAMJih9jjiNA5q4l5INuK0AwTKYKRj0zQNv5fmq8/DpAaCJseHrtQkB/+zpwzoxKQM3MzMzMeFJAZmZmZmZqWEAAAAAAAFxeQM3MzMzMJmJAmpmZmZkfZUBmZmZmZhhoQDMzMzMzEWtAAAAAAAAKbkBmZmZmZoFwQM3MzMzM/XFAMzMzMzN6c0CamZmZmfZ0QAAAAAAAc3ZAZmZmZmbvd0DNzMzMzGt5QDMzMzMz6HpAmpmZmZlkfEAAAAAAAOF9QGZmZmZmXX9AZmZmZuZsgECamZmZGSuBQM3MzMxM6YFAAAAAAICngkAzMzMzs2WDQGZmZmbmI4RAmpmZmRnihEDNzMzMTKCFQAAAAACAXoZAMzMzM7Mch0BmZmZm5tqHQJqZmZkZmYhAzczMzExXiUAAAAAAgBWKQDMzMzOz04pAZmZmZuaRi0CamZmZGVCMQM3MzMxMDo1AAAAAAIDMjUAzMzMzs4qOQGZmZmbmSI9A\",\"dtype\":\"float64\",\"shape\":[75]}}},\"id\":\"fc50faa6-bc2d-4a93-aa81-73c827f39e3e\",\"type\":\"ColumnDataSource\"},{\"attributes\":{\"fill_alpha\":{\"value\":0.7},\"fill_color\":{\"value\":\"#4daf4a\"},\"line_alpha\":{\"value\":0.7},\"line_color\":{\"value\":\"#4daf4a\"},\"x\":{\"field\":\"x\"},\"y\":{\"field\":\"y\"}},\"id\":\"d665c594-0556-4a0c-a941-8dcec96362bb\",\"type\":\"Circle\"},{\"attributes\":{\"callback\":null,\"column_names\":[\"x\",\"y\"],\"data\":{\"x\":{\"__ndarray__\":\"PeUybmRBiD881n+qVOmJP8oE+GbeWY0/2WvYRaB7kD90bA5IpVuSP9FH9MFpTZQ/JmLx+SBQlj88YEm8imKYP619dvMwh5o/UWoqEn2+nD8X0toI+wifP0u/78eDs6A/VfffgiDroT8wh7QxDwejP3SF/yYV6KM/hGYdbnyvpD+q4p1PCHqlPwnTwzdKSKY/R60u1Lgdpz/KQRv5I82nP75zgC6skag/5PlWGE3lpz8HInyUioOlPz9XmySbrqI/mSGFCx73nz9F1g4Z9tKaP7FibJYt7ZU/2+AIQT/FkT8hHL8dQVONP5HTNopcE4g/BwY7HZ0Qgz+y26X6LwN9P3AB/APHQHc/dtY43Q8hdT+lcYWHUvpzP7aIZbWhGHM/sxF4yUoicj/A4mN6rlpwP0tRFMuZJGw/oIScmijPZz/lb756Q4hjPytMrHpjgl4/pMA4DtQxVj9+xx491cBLP55BYE0/Xjs/hk1uFs/PQz9vkX3CXVtbP24/Z+dtT2k/WNobzR1rcj/qZ2ZpAfB3P1D9R2ZuTn0/mXhot+9OgT/qIC6dCuODPzZPTGahUYY/ytJrpua8iD+Jip4gAg+LP7gbARTBL40/kqdIFWRAjz+6R7XWt5aQPxMwzFbWbpE/mNf1elw8kj8awt45VfSSP26VuHIclpM/nIiqEn8xlD9ej5S9PbmUP6C+nfj1OZU/06l7wb+xlT82n3uW9RCWPzWp/+yCWpY/nqoiYwxolj94+NNMnDiWP9CxtjsB05U/Eu3Txz1KlT9UnHqwsL2UP/Tn0xFdI5Q/\",\"dtype\":\"float64\",\"shape\":[75]},\"y\":{\"__ndarray__\":\"GhExyth1ND/Sv8nbtpRIP2vylNV0PVE/aTum7souWD/At0SJ8fVgPw3Iuahxymc/MSNhhJWvcD/bTfBN02d3P2zb5nxnaoA/CD5h5MAGhz8NmeH1TyaQP+zrCsc9p5Y/LbKd76fGnz/bLW5ISEmmPww9YvTcQq8/JV2OstnstT8Er5Y7M8G+P0c+r3jqkcU/5h99k6ZBzj88bCIzFzjVP4enV8oyxN0//yH99nXg5D8qOpLLf0jtP5kqGJXUifQ/c9cS8kHP/D+/DpwzojQEQIEmwoanVwxA4lgXt9HgE0BSSZ2AJuIbQAMJih9jjiNA5q4l5INuK0AwTKYKRj0zQNv5fmq8/DpAaCJseHrtQkB/+zpwzoxKQM3MzMzMeFJAZmZmZmZqWEAAAAAAAFxeQM3MzMzMJmJAmpmZmZkfZUBmZmZmZhhoQDMzMzMzEWtAAAAAAAAKbkBmZmZmZoFwQM3MzMzM/XFAMzMzMzN6c0CamZmZmfZ0QAAAAAAAc3ZAZmZmZmbvd0DNzMzMzGt5QDMzMzMz6HpAmpmZmZlkfEAAAAAAAOF9QGZmZmZmXX9AZmZmZuZsgECamZmZGSuBQM3MzMxM6YFAAAAAAICngkAzMzMzs2WDQGZmZmbmI4RAmpmZmRnihEDNzMzMTKCFQAAAAACAXoZAMzMzM7Mch0BmZmZm5tqHQJqZmZkZmYhAzczMzExXiUAAAAAAgBWKQDMzMzOz04pAZmZmZuaRi0CamZmZGVCMQM3MzMxMDo1AAAAAAIDMjUAzMzMzs4qOQGZmZmbmSI9A\",\"dtype\":\"float64\",\"shape\":[75]}}},\"id\":\"86f5d7c1-1556-4dd0-b26a-77faa3a7f840\",\"type\":\"ColumnDataSource\"},{\"attributes\":{\"data_source\":{\"id\":\"82540dd9-bf93-4866-b839-fdc97d5e57ff\",\"type\":\"ColumnDataSource\"},\"glyph\":{\"id\":\"d665c594-0556-4a0c-a941-8dcec96362bb\",\"type\":\"Circle\"},\"hover_glyph\":null,\"muted_glyph\":null,\"nonselection_glyph\":{\"id\":\"b70b275c-1e2f-4657-8fc6-ba80b4652438\",\"type\":\"Circle\"},\"selection_glyph\":null,\"view\":{\"id\":\"51f32cd4-e356-47e8-98d4-8f959d930c1b\",\"type\":\"CDSView\"}},\"id\":\"db318e06-fd84-4b00-89c9-eea76fa9238f\",\"type\":\"GlyphRenderer\"},{\"attributes\":{\"callback\":null,\"column_names\":[\"x\",\"y\"],\"data\":{\"x\":{\"__ndarray__\":\"kbDDJp8PhD9E4SASn+qFP1aU2NbLxok/zCeTaSDVjT96XAr+bQWRP6RENoMENJM/N/8XHud1lT9vOckc7MmXP5EzkfV7Mpo/KQsxJwCwnD99xy086D+fP8W60uEK8KA/LKY8NNhGoj/V6uCd0nqjP/OVCKCNZqQ/dfPtWssvpT9txMbOcfSlP2zSUTQttqY/Cb/msldzpz9/EvM6Ty2oPwPTtWtMzKg/Vcv+wvDmpz9apRdcQw6lP87aqnqyyKE/QO0BBL2BnT86FUNObPmXP+hAqdIjAZM/mALKjb9Ajj+bQEZ96DuJP/1Ow1KFiIU/VtI9vL0cgj9fo8F6l+N9Px0jR+Unj3o/6nXu6hNIej8F/cvOl+B5P7/nZ3Edn3g/FBhrLmmbdj/l7ZZRHYxzP4iA2FVuCXA/BPAodCu7aT9JJrN7Y+FjP16n4wLvo1w/sNC+YuO7UT/3WtzC59g6P0CtIPItRCm/CVQi9KA/F7/fiXap2nRQPyIdtJQ5CGQ/h8KdAtZubz/bqBZdUyp1P5uHA0j8aHo/aZbVSpl6fz83jKeCbzGCPwMnjzLYkIQ/uOPRti/ahj8+NrDyVwqJPwzZvTiYHYs/ZbzbLMYPjT99yh119dyOP4jYOhqCQZA/shdqSjsAkT+hpzG8uqyRP5xRkCs3SZI/O5EjR4HYkj8B7gphW12TP6CQ4dSu2ZM/dWH/0CdNlD/BS+A+wbGUP1MWXZVG95Q/hN/w/E4FlT+lzKC2Gs2UP6FsRt05WpQ/avMM1SXHkz85eg7CYiiTP0V5yI9Wh5I/\",\"dtype\":\"float64\",\"shape\":[75]},\"y\":{\"__ndarray__\":\"GhExyth1ND/Sv8nbtpRIP2vylNV0PVE/aTum7souWD/At0SJ8fVgPw3Iuahxymc/MSNhhJWvcD/bTfBN02d3P2zb5nxnaoA/CD5h5MAGhz8NmeH1TyaQP+zrCsc9p5Y/LbKd76fGnz/bLW5ISEmmPww9YvTcQq8/JV2OstnstT8Er5Y7M8G+P0c+r3jqkcU/5h99k6ZBzj88bCIzFzjVP4enV8oyxN0//yH99nXg5D8qOpLLf0jtP5kqGJXUifQ/c9cS8kHP/D+/DpwzojQEQIEmwoanVwxA4lgXt9HgE0BSSZ2AJuIbQAMJih9jjiNA5q4l5INuK0AwTKYKRj0zQNv5fmq8/DpAaCJseHrtQkB/+zpwzoxKQM3MzMzMeFJAZmZmZmZqWEAAAAAAAFxeQM3MzMzMJmJAmpmZmZkfZUBmZmZmZhhoQDMzMzMzEWtAAAAAAAAKbkBmZmZmZoFwQM3MzMzM/XFAMzMzMzN6c0CamZmZmfZ0QAAAAAAAc3ZAZmZmZmbvd0DNzMzMzGt5QDMzMzMz6HpAmpmZmZlkfEAAAAAAAOF9QGZmZmZmXX9AZmZmZuZsgECamZmZGSuBQM3MzMxM6YFAAAAAAICngkAzMzMzs2WDQGZmZmbmI4RAmpmZmRnihEDNzMzMTKCFQAAAAACAXoZAMzMzM7Mch0BmZmZm5tqHQJqZmZkZmYhAzczMzExXiUAAAAAAgBWKQDMzMzOz04pAZmZmZuaRi0CamZmZGVCMQM3MzMxMDo1AAAAAAIDMjUAzMzMzs4qOQGZmZmbmSI9A\",\"dtype\":\"float64\",\"shape\":[75]}}},\"id\":\"c33112cb-3d90-45e3-9656-6cd2fcf3d53d\",\"type\":\"ColumnDataSource\"},{\"attributes\":{\"data_source\":{\"id\":\"01491e2b-b07b-4eab-b020-bf448330854b\",\"type\":\"ColumnDataSource\"},\"glyph\":{\"id\":\"ec4c3e96-6ab7-4c47-a3ec-3df9e4380a9a\",\"type\":\"Line\"},\"hover_glyph\":null,\"muted_glyph\":null,\"nonselection_glyph\":{\"id\":\"1af99911-5b35-4752-9c40-529c1ab5d887\",\"type\":\"Line\"},\"selection_glyph\":null,\"view\":{\"id\":\"eb91bc47-4106-450e-b465-8d7dc2e826ef\",\"type\":\"CDSView\"}},\"id\":\"0991a482-7134-44eb-af7e-4e7ca16aa963\",\"type\":\"GlyphRenderer\"},{\"attributes\":{\"label\":{\"value\":\"CRD\"},\"renderers\":[{\"id\":\"db318e06-fd84-4b00-89c9-eea76fa9238f\",\"type\":\"GlyphRenderer\"},{\"id\":\"2da858f2-125c-433c-8c2d-ecabd48d54df\",\"type\":\"GlyphRenderer\"}]},\"id\":\"c72c40d1-c95f-4ad2-8ce5-3fa1184d1991\",\"type\":\"LegendItem\"},{\"attributes\":{\"callback\":null,\"column_names\":[\"x\",\"y\"],\"data\":{\"x\":{\"__ndarray__\":\"kbDDJp8PhD9E4SASn+qFP1aU2NbLxok/zCeTaSDVjT96XAr+bQWRP6RENoMENJM/N/8XHud1lT9vOckc7MmXP5EzkfV7Mpo/KQsxJwCwnD99xy086D+fP8W60uEK8KA/LKY8NNhGoj/V6uCd0nqjP/OVCKCNZqQ/dfPtWssvpT9txMbOcfSlP2zSUTQttqY/Cb/msldzpz9/EvM6Ty2oPwPTtWtMzKg/Vcv+wvDmpz9apRdcQw6lP87aqnqyyKE/QO0BBL2BnT86FUNObPmXP+hAqdIjAZM/mALKjb9Ajj+bQEZ96DuJP/1Ow1KFiIU/VtI9vL0cgj9fo8F6l+N9Px0jR+Unj3o/6nXu6hNIej8F/cvOl+B5P7/nZ3Edn3g/FBhrLmmbdj/l7ZZRHYxzP4iA2FVuCXA/BPAodCu7aT9JJrN7Y+FjP16n4wLvo1w/sNC+YuO7UT/3WtzC59g6P0CtIPItRCm/CVQi9KA/F7/fiXap2nRQPyIdtJQ5CGQ/h8KdAtZubz/bqBZdUyp1P5uHA0j8aHo/aZbVSpl6fz83jKeCbzGCPwMnjzLYkIQ/uOPRti/ahj8+NrDyVwqJPwzZvTiYHYs/ZbzbLMYPjT99yh119dyOP4jYOhqCQZA/shdqSjsAkT+hpzG8uqyRP5xRkCs3SZI/O5EjR4HYkj8B7gphW12TP6CQ4dSu2ZM/dWH/0CdNlD/BS+A+wbGUP1MWXZVG95Q/hN/w/E4FlT+lzKC2Gs2UP6FsRt05WpQ/avMM1SXHkz85eg7CYiiTP0V5yI9Wh5I/\",\"dtype\":\"float64\",\"shape\":[75]},\"y\":{\"__ndarray__\":\"GhExyth1ND/Sv8nbtpRIP2vylNV0PVE/aTum7souWD/At0SJ8fVgPw3Iuahxymc/MSNhhJWvcD/bTfBN02d3P2zb5nxnaoA/CD5h5MAGhz8NmeH1TyaQP+zrCsc9p5Y/LbKd76fGnz/bLW5ISEmmPww9YvTcQq8/JV2OstnstT8Er5Y7M8G+P0c+r3jqkcU/5h99k6ZBzj88bCIzFzjVP4enV8oyxN0//yH99nXg5D8qOpLLf0jtP5kqGJXUifQ/c9cS8kHP/D+/DpwzojQEQIEmwoanVwxA4lgXt9HgE0BSSZ2AJuIbQAMJih9jjiNA5q4l5INuK0AwTKYKRj0zQNv5fmq8/DpAaCJseHrtQkB/+zpwzoxKQM3MzMzMeFJAZmZmZmZqWEAAAAAAAFxeQM3MzMzMJmJAmpmZmZkfZUBmZmZmZhhoQDMzMzMzEWtAAAAAAAAKbkBmZmZmZoFwQM3MzMzM/XFAMzMzMzN6c0CamZmZmfZ0QAAAAAAAc3ZAZmZmZmbvd0DNzMzMzGt5QDMzMzMz6HpAmpmZmZlkfEAAAAAAAOF9QGZmZmZmXX9AZmZmZuZsgECamZmZGSuBQM3MzMxM6YFAAAAAAICngkAzMzMzs2WDQGZmZmbmI4RAmpmZmRnihEDNzMzMTKCFQAAAAACAXoZAMzMzM7Mch0BmZmZm5tqHQJqZmZkZmYhAzczMzExXiUAAAAAAgBWKQDMzMzOz04pAZmZmZuaRi0CamZmZGVCMQM3MzMxMDo1AAAAAAIDMjUAzMzMzs4qOQGZmZmbmSI9A\",\"dtype\":\"float64\",\"shape\":[75]}}},\"id\":\"82540dd9-bf93-4866-b839-fdc97d5e57ff\",\"type\":\"ColumnDataSource\"},{\"attributes\":{},\"id\":\"9b47bcfd-0156-40d5-8d3f-6c1311fc8600\",\"type\":\"BasicTickFormatter\"},{\"attributes\":{\"data_source\":{\"id\":\"ea02d0a1-1943-48a8-9936-f7454ac48d60\",\"type\":\"ColumnDataSource\"},\"glyph\":{\"id\":\"f1d5452a-4383-4f1b-af8d-6a0a7ff184f7\",\"type\":\"Square\"},\"hover_glyph\":null,\"muted_glyph\":null,\"nonselection_glyph\":{\"id\":\"d18c706f-6a1b-434c-ad9a-8548feb79656\",\"type\":\"Square\"},\"selection_glyph\":null,\"view\":{\"id\":\"3226b150-7d3d-49e1-aeee-7a2e086db724\",\"type\":\"CDSView\"}},\"id\":\"17d92e93-2f01-499d-9abc-b8294f157913\",\"type\":\"GlyphRenderer\"},{\"attributes\":{\"fill_alpha\":{\"value\":0.1},\"fill_color\":{\"value\":\"#1f77b4\"},\"line_alpha\":{\"value\":0.1},\"line_color\":{\"value\":\"#1f77b4\"},\"x\":{\"field\":\"x\"},\"y\":{\"field\":\"y\"}},\"id\":\"beb2dd63-7022-442b-98f2-1aa87dc8736c\",\"type\":\"Circle\"},{\"attributes\":{\"fill_alpha\":{\"value\":0.1},\"fill_color\":{\"value\":\"#1f77b4\"},\"line_alpha\":{\"value\":0.1},\"line_color\":{\"value\":\"#1f77b4\"},\"x\":{\"field\":\"x\"},\"y\":{\"field\":\"y\"}},\"id\":\"d18c706f-6a1b-434c-ad9a-8548feb79656\",\"type\":\"Square\"},{\"attributes\":{\"source\":{\"id\":\"893c87f5-b1b2-4084-a8d4-6678af951eeb\",\"type\":\"ColumnDataSource\"}},\"id\":\"d2e04a9b-09c8-4fb2-bfdf-058304d067f3\",\"type\":\"CDSView\"},{\"attributes\":{\"callback\":null,\"column_names\":[\"x\",\"y\"],\"data\":{\"x\":{\"__ndarray__\":\"PeUybmRBiD881n+qVOmJP8oE+GbeWY0/2WvYRaB7kD90bA5IpVuSP9FH9MFpTZQ/JmLx+SBQlj88YEm8imKYP619dvMwh5o/UWoqEn2+nD8X0toI+wifP0u/78eDs6A/VfffgiDroT8wh7QxDwejP3SF/yYV6KM/hGYdbnyvpD+q4p1PCHqlPwnTwzdKSKY/R60u1Lgdpz/KQRv5I82nP75zgC6skag/5PlWGE3lpz8HInyUioOlPz9XmySbrqI/mSGFCx73nz9F1g4Z9tKaP7FibJYt7ZU/2+AIQT/FkT8hHL8dQVONP5HTNopcE4g/BwY7HZ0Qgz+y26X6LwN9P3AB/APHQHc/dtY43Q8hdT+lcYWHUvpzP7aIZbWhGHM/sxF4yUoicj/A4mN6rlpwP0tRFMuZJGw/oIScmijPZz/lb756Q4hjPytMrHpjgl4/pMA4DtQxVj9+xx491cBLP55BYE0/Xjs/hk1uFs/PQz9vkX3CXVtbP24/Z+dtT2k/WNobzR1rcj/qZ2ZpAfB3P1D9R2ZuTn0/mXhot+9OgT/qIC6dCuODPzZPTGahUYY/ytJrpua8iD+Jip4gAg+LP7gbARTBL40/kqdIFWRAjz+6R7XWt5aQPxMwzFbWbpE/mNf1elw8kj8awt45VfSSP26VuHIclpM/nIiqEn8xlD9ej5S9PbmUP6C+nfj1OZU/06l7wb+xlT82n3uW9RCWPzWp/+yCWpY/nqoiYwxolj94+NNMnDiWP9CxtjsB05U/Eu3Txz1KlT9UnHqwsL2UP/Tn0xFdI5Q/\",\"dtype\":\"float64\",\"shape\":[75]},\"y\":{\"__ndarray__\":\"GhExyth1ND/Sv8nbtpRIP2vylNV0PVE/aTum7souWD/At0SJ8fVgPw3Iuahxymc/MSNhhJWvcD/bTfBN02d3P2zb5nxnaoA/CD5h5MAGhz8NmeH1TyaQP+zrCsc9p5Y/LbKd76fGnz/bLW5ISEmmPww9YvTcQq8/JV2OstnstT8Er5Y7M8G+P0c+r3jqkcU/5h99k6ZBzj88bCIzFzjVP4enV8oyxN0//yH99nXg5D8qOpLLf0jtP5kqGJXUifQ/c9cS8kHP/D+/DpwzojQEQIEmwoanVwxA4lgXt9HgE0BSSZ2AJuIbQAMJih9jjiNA5q4l5INuK0AwTKYKRj0zQNv5fmq8/DpAaCJseHrtQkB/+zpwzoxKQM3MzMzMeFJAZmZmZmZqWEAAAAAAAFxeQM3MzMzMJmJAmpmZmZkfZUBmZmZmZhhoQDMzMzMzEWtAAAAAAAAKbkBmZmZmZoFwQM3MzMzM/XFAMzMzMzN6c0CamZmZmfZ0QAAAAAAAc3ZAZmZmZmbvd0DNzMzMzGt5QDMzMzMz6HpAmpmZmZlkfEAAAAAAAOF9QGZmZmZmXX9AZmZmZuZsgECamZmZGSuBQM3MzMxM6YFAAAAAAICngkAzMzMzs2WDQGZmZmbmI4RAmpmZmRnihEDNzMzMTKCFQAAAAACAXoZAMzMzM7Mch0BmZmZm5tqHQJqZmZkZmYhAzczMzExXiUAAAAAAgBWKQDMzMzOz04pAZmZmZuaRi0CamZmZGVCMQM3MzMxMDo1AAAAAAIDMjUAzMzMzs4qOQGZmZmbmSI9A\",\"dtype\":\"float64\",\"shape\":[75]}}},\"id\":\"ea02d0a1-1943-48a8-9936-f7454ac48d60\",\"type\":\"ColumnDataSource\"},{\"attributes\":{\"line_alpha\":0.1,\"line_color\":\"#1f77b4\",\"line_width\":1.5,\"x\":{\"field\":\"x\"},\"y\":{\"field\":\"y\"}},\"id\":\"aabc5dde-11d9-4be7-b476-232dcae7bbe9\",\"type\":\"Line\"},{\"attributes\":{},\"id\":\"4e19ea51-6099-4ab2-9ba1-c236c56fce27\",\"type\":\"BasicTickFormatter\"},{\"attributes\":{\"source\":{\"id\":\"01491e2b-b07b-4eab-b020-bf448330854b\",\"type\":\"ColumnDataSource\"}},\"id\":\"eb91bc47-4106-450e-b465-8d7dc2e826ef\",\"type\":\"CDSView\"},{\"attributes\":{\"fill_alpha\":{\"value\":0.7},\"fill_color\":{\"value\":\"#984ea3\"},\"line_alpha\":{\"value\":0.7},\"line_color\":{\"value\":\"#984ea3\"},\"x\":{\"field\":\"x\"},\"y\":{\"field\":\"y\"}},\"id\":\"f1d5452a-4383-4f1b-af8d-6a0a7ff184f7\",\"type\":\"Square\"},{\"attributes\":{\"fill_alpha\":{\"value\":0.1},\"fill_color\":{\"value\":\"#1f77b4\"},\"line_alpha\":{\"value\":0.1},\"line_color\":{\"value\":\"#1f77b4\"},\"x\":{\"field\":\"x\"},\"y\":{\"field\":\"y\"}},\"id\":\"b70b275c-1e2f-4657-8fc6-ba80b4652438\",\"type\":\"Circle\"},{\"attributes\":{\"children\":[{\"id\":\"068e633f-f24e-43ce-ae6c-800b2c84134c\",\"subtype\":\"Figure\",\"type\":\"Plot\"},{\"id\":\"85e5105a-3637-43dc-9ebd-59f33a9fd534\",\"subtype\":\"Figure\",\"type\":\"Plot\"}]},\"id\":\"fe0f9a79-6895-4e4f-b28c-7d99fd83da83\",\"type\":\"Row\"},{\"attributes\":{\"source\":{\"id\":\"82540dd9-bf93-4866-b839-fdc97d5e57ff\",\"type\":\"ColumnDataSource\"}},\"id\":\"51f32cd4-e356-47e8-98d4-8f959d930c1b\",\"type\":\"CDSView\"},{\"attributes\":{\"line_color\":\"#4daf4a\",\"line_width\":1.5,\"x\":{\"field\":\"x\"},\"y\":{\"field\":\"y\"}},\"id\":\"891b57b4-8bbb-439d-b06b-dbde04373228\",\"type\":\"Line\"},{\"attributes\":{\"data_source\":{\"id\":\"c33112cb-3d90-45e3-9656-6cd2fcf3d53d\",\"type\":\"ColumnDataSource\"},\"glyph\":{\"id\":\"891b57b4-8bbb-439d-b06b-dbde04373228\",\"type\":\"Line\"},\"hover_glyph\":null,\"muted_glyph\":null,\"nonselection_glyph\":{\"id\":\"aabc5dde-11d9-4be7-b476-232dcae7bbe9\",\"type\":\"Line\"},\"selection_glyph\":null,\"view\":{\"id\":\"4c868a51-6221-4ab9-be1e-6f4f190dc5c5\",\"type\":\"CDSView\"}},\"id\":\"2da858f2-125c-433c-8c2d-ecabd48d54df\",\"type\":\"GlyphRenderer\"},{\"attributes\":{\"callback\":null,\"end\":0.048898929891000004,\"start\":0.0014428290089999998},\"id\":\"30f13ec1-5dc8-4b24-a633-8cad5364d7ab\",\"type\":\"Range1d\"},{\"attributes\":{\"callback\":null,\"column_names\":[\"x\",\"y\"],\"data\":{\"x\":{\"__ndarray__\":\"PeUybmRBiD881n+qVOmJP8oE+GbeWY0/2WvYRaB7kD90bA5IpVuSP9FH9MFpTZQ/JmLx+SBQlj88YEm8imKYP619dvMwh5o/UWoqEn2+nD8X0toI+wifP0u/78eDs6A/VfffgiDroT8wh7QxDwejP3SF/yYV6KM/hGYdbnyvpD+q4p1PCHqlPwnTwzdKSKY/R60u1Lgdpz/KQRv5I82nP75zgC6skag/5PlWGE3lpz8HInyUioOlPz9XmySbrqI/mSGFCx73nz9F1g4Z9tKaP7FibJYt7ZU/2+AIQT/FkT8hHL8dQVONP5HTNopcE4g/BwY7HZ0Qgz+y26X6LwN9P3AB/APHQHc/dtY43Q8hdT+lcYWHUvpzP7aIZbWhGHM/sxF4yUoicj/A4mN6rlpwP0tRFMuZJGw/oIScmijPZz/lb756Q4hjPytMrHpjgl4/pMA4DtQxVj9+xx491cBLP55BYE0/Xjs/hk1uFs/PQz9vkX3CXVtbP24/Z+dtT2k/WNobzR1rcj/qZ2ZpAfB3P1D9R2ZuTn0/mXhot+9OgT/qIC6dCuODPzZPTGahUYY/ytJrpua8iD+Jip4gAg+LP7gbARTBL40/kqdIFWRAjz+6R7XWt5aQPxMwzFbWbpE/mNf1elw8kj8awt45VfSSP26VuHIclpM/nIiqEn8xlD9ej5S9PbmUP6C+nfj1OZU/06l7wb+xlT82n3uW9RCWPzWp/+yCWpY/nqoiYwxolj94+NNMnDiWP9CxtjsB05U/Eu3Txz1KlT9UnHqwsL2UP/Tn0xFdI5Q/\",\"dtype\":\"float64\",\"shape\":[75]},\"y\":{\"__ndarray__\":\"GhExyth1ND/Sv8nbtpRIP2vylNV0PVE/aTum7souWD/At0SJ8fVgPw3Iuahxymc/MSNhhJWvcD/bTfBN02d3P2zb5nxnaoA/CD5h5MAGhz8NmeH1TyaQP+zrCsc9p5Y/LbKd76fGnz/bLW5ISEmmPww9YvTcQq8/JV2OstnstT8Er5Y7M8G+P0c+r3jqkcU/5h99k6ZBzj88bCIzFzjVP4enV8oyxN0//yH99nXg5D8qOpLLf0jtP5kqGJXUifQ/c9cS8kHP/D+/DpwzojQEQIEmwoanVwxA4lgXt9HgE0BSSZ2AJuIbQAMJih9jjiNA5q4l5INuK0AwTKYKRj0zQNv5fmq8/DpAaCJseHrtQkB/+zpwzoxKQM3MzMzMeFJAZmZmZmZqWEAAAAAAAFxeQM3MzMzMJmJAmpmZmZkfZUBmZmZmZhhoQDMzMzMzEWtAAAAAAAAKbkBmZmZmZoFwQM3MzMzM/XFAMzMzMzN6c0CamZmZmfZ0QAAAAAAAc3ZAZmZmZmbvd0DNzMzMzGt5QDMzMzMz6HpAmpmZmZlkfEAAAAAAAOF9QGZmZmZmXX9AZmZmZuZsgECamZmZGSuBQM3MzMxM6YFAAAAAAICngkAzMzMzs2WDQGZmZmbmI4RAmpmZmRnihEDNzMzMTKCFQAAAAACAXoZAMzMzM7Mch0BmZmZm5tqHQJqZmZkZmYhAzczMzExXiUAAAAAAgBWKQDMzMzOz04pAZmZmZuaRi0CamZmZGVCMQM3MzMxMDo1AAAAAAIDMjUAzMzMzs4qOQGZmZmbmSI9A\",\"dtype\":\"float64\",\"shape\":[75]}}},\"id\":\"13983ead-741d-4897-9d94-06343fdfbb0d\",\"type\":\"ColumnDataSource\"},{\"attributes\":{\"source\":{\"id\":\"c33112cb-3d90-45e3-9656-6cd2fcf3d53d\",\"type\":\"ColumnDataSource\"}},\"id\":\"4c868a51-6221-4ab9-be1e-6f4f190dc5c5\",\"type\":\"CDSView\"},{\"attributes\":{\"fill_alpha\":{\"value\":0.7},\"fill_color\":{\"value\":\"#984ea3\"},\"line_alpha\":{\"value\":0.7},\"line_color\":{\"value\":\"#984ea3\"},\"x\":{\"field\":\"x\"},\"y\":{\"field\":\"y\"}},\"id\":\"3f201e48-57a7-4ecb-9edf-055db40e03bf\",\"type\":\"Square\"},{\"attributes\":{\"data_source\":{\"id\":\"86f5d7c1-1556-4dd0-b26a-77faa3a7f840\",\"type\":\"ColumnDataSource\"},\"glyph\":{\"id\":\"3f201e48-57a7-4ecb-9edf-055db40e03bf\",\"type\":\"Square\"},\"hover_glyph\":null,\"muted_glyph\":null,\"nonselection_glyph\":{\"id\":\"e0c6fe67-4b84-471b-8adc-9fe03ad85f67\",\"type\":\"Square\"},\"selection_glyph\":null,\"view\":{\"id\":\"fe1db9fe-d1c2-4d29-aef6-d80889f352d0\",\"type\":\"CDSView\"}},\"id\":\"618f3a3c-8b93-4e4c-aeb1-17fcde6c6c5d\",\"type\":\"GlyphRenderer\"},{\"attributes\":{\"fill_alpha\":{\"value\":0.1},\"fill_color\":{\"value\":\"#1f77b4\"},\"line_alpha\":{\"value\":0.1},\"line_color\":{\"value\":\"#1f77b4\"},\"x\":{\"field\":\"x\"},\"y\":{\"field\":\"y\"}},\"id\":\"e0c6fe67-4b84-471b-8adc-9fe03ad85f67\",\"type\":\"Square\"},{\"attributes\":{\"source\":{\"id\":\"86f5d7c1-1556-4dd0-b26a-77faa3a7f840\",\"type\":\"ColumnDataSource\"}},\"id\":\"fe1db9fe-d1c2-4d29-aef6-d80889f352d0\",\"type\":\"CDSView\"},{\"attributes\":{\"line_alpha\":0.6,\"line_color\":\"#984ea3\",\"line_width\":3,\"x\":{\"field\":\"x\"},\"y\":{\"field\":\"y\"}},\"id\":\"7e8246fe-83f8-4eb1-bc12-ef0db71386cf\",\"type\":\"Line\"},{\"attributes\":{\"line_alpha\":0.6,\"line_color\":\"#e41a1c\",\"line_dash\":[6],\"line_width\":5,\"x\":{\"field\":\"x\"},\"y\":{\"field\":\"y\"}},\"id\":\"ec4c3e96-6ab7-4c47-a3ec-3df9e4380a9a\",\"type\":\"Line\"},{\"attributes\":{\"label\":{\"value\":\"WGT igg=10 wgt_flux=2\"},\"renderers\":[{\"id\":\"618f3a3c-8b93-4e4c-aeb1-17fcde6c6c5d\",\"type\":\"GlyphRenderer\"},{\"id\":\"46d6c3e2-a575-4682-91f5-03b633d59f93\",\"type\":\"GlyphRenderer\"}]},\"id\":\"8c454451-acf4-4a25-84e7-3c546cf81101\",\"type\":\"LegendItem\"},{\"attributes\":{\"data_source\":{\"id\":\"13983ead-741d-4897-9d94-06343fdfbb0d\",\"type\":\"ColumnDataSource\"},\"glyph\":{\"id\":\"7e8246fe-83f8-4eb1-bc12-ef0db71386cf\",\"type\":\"Line\"},\"hover_glyph\":null,\"muted_glyph\":null,\"nonselection_glyph\":{\"id\":\"05a35044-48e6-4a97-8623-05b892094824\",\"type\":\"Line\"},\"selection_glyph\":null,\"view\":{\"id\":\"2d49046b-ef83-4bc4-9108-f7b5b3cc2423\",\"type\":\"CDSView\"}},\"id\":\"46d6c3e2-a575-4682-91f5-03b633d59f93\",\"type\":\"GlyphRenderer\"},{\"attributes\":{\"line_alpha\":0.1,\"line_color\":\"#1f77b4\",\"line_width\":3,\"x\":{\"field\":\"x\"},\"y\":{\"field\":\"y\"}},\"id\":\"05a35044-48e6-4a97-8623-05b892094824\",\"type\":\"Line\"},{\"attributes\":{\"source\":{\"id\":\"13983ead-741d-4897-9d94-06343fdfbb0d\",\"type\":\"ColumnDataSource\"}},\"id\":\"2d49046b-ef83-4bc4-9108-f7b5b3cc2423\",\"type\":\"CDSView\"},{\"attributes\":{\"label\":{\"value\":\"CLIRAD `coolr_bands`\"},\"renderers\":[{\"id\":\"0991a482-7134-44eb-af7e-4e7ca16aa963\",\"type\":\"GlyphRenderer\"}]},\"id\":\"80de21a1-c363-4b09-860d-4d538b6a1099\",\"type\":\"LegendItem\"},{\"attributes\":{\"line_alpha\":0.1,\"line_color\":\"#1f77b4\",\"line_dash\":[6],\"line_width\":5,\"x\":{\"field\":\"x\"},\"y\":{\"field\":\"y\"}},\"id\":\"afb84c94-c861-47a9-9739-3a2f2cd83fea\",\"type\":\"Line\"},{\"attributes\":{\"children\":[{\"id\":\"4d975009-44c2-49f2-b88a-801b47789e34\",\"type\":\"ToolbarBox\"},{\"id\":\"666f872e-c989-462a-afb3-d23108e92e41\",\"type\":\"Column\"}]},\"id\":\"ca5032d4-93ef-41c3-b094-cee2fd0b8d77\",\"type\":\"Column\"}],\"root_ids\":[\"ca5032d4-93ef-41c3-b094-cee2fd0b8d77\"]},\"title\":\"Bokeh Application\",\"version\":\"0.12.14\"}};\n",
       "  var render_items = [{\"docid\":\"2a7806ae-1a7d-45b3-9df0-03acb94d3abd\",\"elementid\":\"499b2494-6b54-4da9-9759-277ee6987d0c\",\"modelid\":\"ca5032d4-93ef-41c3-b094-cee2fd0b8d77\"}];\n",
       "  root.Bokeh.embed.embed_items_notebook(docs_json, render_items);\n",
       "\n",
       "  }\n",
       "  if (root.Bokeh !== undefined) {\n",
       "    embed_document(root);\n",
       "  } else {\n",
       "    var attempts = 0;\n",
       "    var timer = setInterval(function(root) {\n",
       "      if (root.Bokeh !== undefined) {\n",
       "        embed_document(root);\n",
       "        clearInterval(timer);\n",
       "      }\n",
       "      attempts++;\n",
       "      if (attempts > 100) {\n",
       "        console.log(\"Bokeh: ERROR: Unable to run BokehJS code because BokehJS library is missing\")\n",
       "        clearInterval(timer);\n",
       "      }\n",
       "    }, 10, root)\n",
       "  }\n",
       "})(window);"
      ],
      "application/vnd.bokehjs_exec.v0+json": ""
     },
     "metadata": {
      "application/vnd.bokehjs_exec.v0+json": {
       "id": "ca5032d4-93ef-41c3-b094-cee2fd0b8d77"
      }
     },
     "output_type": "display_data"
    },
    {
     "name": "stdout",
     "output_type": "stream",
     "text": [
      "FIGURE. Cooling rate profiles.\n"
     ]
    },
    {
     "data": {
      "text/html": [
       "<a id=\"Flux_Comparison\"></a>"
      ],
      "text/plain": [
       "<IPython.core.display.HTML object>"
      ]
     },
     "metadata": {},
     "output_type": "display_data"
    },
    {
     "data": {
      "text/markdown": [
       "# Flux Comparison"
      ],
      "text/plain": [
       "<IPython.core.display.Markdown object>"
      ]
     },
     "metadata": {},
     "output_type": "display_data"
    },
    {
     "data": {
      "text/html": [
       "<div>\n",
       "<style>\n",
       "    .dataframe thead tr:only-child th {\n",
       "        text-align: right;\n",
       "    }\n",
       "\n",
       "    .dataframe thead th {\n",
       "        text-align: left;\n",
       "    }\n",
       "\n",
       "    .dataframe tbody tr th {\n",
       "        vertical-align: top;\n",
       "    }\n",
       "</style>\n",
       "<table border=\"1\" class=\"dataframe\">\n",
       "  <thead>\n",
       "    <tr style=\"text-align: right;\">\n",
       "      <th></th>\n",
       "      <th></th>\n",
       "      <th>flug</th>\n",
       "      <th>fldg</th>\n",
       "      <th>fnetg</th>\n",
       "    </tr>\n",
       "    <tr>\n",
       "      <th>pressure</th>\n",
       "      <th>level</th>\n",
       "      <th></th>\n",
       "      <th></th>\n",
       "      <th></th>\n",
       "    </tr>\n",
       "  </thead>\n",
       "  <tbody>\n",
       "    <tr>\n",
       "      <th>0.0000</th>\n",
       "      <th>1</th>\n",
       "      <td>-23.028098</td>\n",
       "      <td>0.000000</td>\n",
       "      <td>-23.028098</td>\n",
       "    </tr>\n",
       "    <tr>\n",
       "      <th>1.0685</th>\n",
       "      <th>24</th>\n",
       "      <td>-23.026680</td>\n",
       "      <td>0.004153</td>\n",
       "      <td>-23.022527</td>\n",
       "    </tr>\n",
       "    <tr>\n",
       "      <th>1013.0000</th>\n",
       "      <th>76</th>\n",
       "      <td>-23.591138</td>\n",
       "      <td>1.955718</td>\n",
       "      <td>-21.635419</td>\n",
       "    </tr>\n",
       "  </tbody>\n",
       "</table>\n",
       "</div>"
      ],
      "text/plain": [
       "                      flug      fldg      fnetg\n",
       "pressure  level                                \n",
       "0.0000    1     -23.028098  0.000000 -23.028098\n",
       "1.0685    24    -23.026680  0.004153 -23.022527\n",
       "1013.0000 76    -23.591138  1.955718 -21.635419"
      ]
     },
     "metadata": {},
     "output_type": "display_data"
    },
    {
     "name": "stdout",
     "output_type": "stream",
     "text": [
      "Table. Fluxes. WGT igg=10 wgt_flux=1\n"
     ]
    },
    {
     "data": {
      "text/html": [
       "<div>\n",
       "<style>\n",
       "    .dataframe thead tr:only-child th {\n",
       "        text-align: right;\n",
       "    }\n",
       "\n",
       "    .dataframe thead th {\n",
       "        text-align: left;\n",
       "    }\n",
       "\n",
       "    .dataframe tbody tr th {\n",
       "        vertical-align: top;\n",
       "    }\n",
       "</style>\n",
       "<table border=\"1\" class=\"dataframe\">\n",
       "  <thead>\n",
       "    <tr style=\"text-align: right;\">\n",
       "      <th></th>\n",
       "      <th></th>\n",
       "      <th>flug</th>\n",
       "      <th>fldg</th>\n",
       "      <th>fnetg</th>\n",
       "    </tr>\n",
       "    <tr>\n",
       "      <th>pressure</th>\n",
       "      <th>level</th>\n",
       "      <th></th>\n",
       "      <th></th>\n",
       "      <th></th>\n",
       "    </tr>\n",
       "  </thead>\n",
       "  <tbody>\n",
       "    <tr>\n",
       "      <th>0.0000</th>\n",
       "      <th>1</th>\n",
       "      <td>-23.030142</td>\n",
       "      <td>0.000000</td>\n",
       "      <td>-23.030142</td>\n",
       "    </tr>\n",
       "    <tr>\n",
       "      <th>1.0685</th>\n",
       "      <th>24</th>\n",
       "      <td>-23.028839</td>\n",
       "      <td>0.004279</td>\n",
       "      <td>-23.024560</td>\n",
       "    </tr>\n",
       "    <tr>\n",
       "      <th>1013.0000</th>\n",
       "      <th>76</th>\n",
       "      <td>-23.591138</td>\n",
       "      <td>1.870278</td>\n",
       "      <td>-21.720860</td>\n",
       "    </tr>\n",
       "  </tbody>\n",
       "</table>\n",
       "</div>"
      ],
      "text/plain": [
       "                      flug      fldg      fnetg\n",
       "pressure  level                                \n",
       "0.0000    1     -23.030142  0.000000 -23.030142\n",
       "1.0685    24    -23.028839  0.004279 -23.024560\n",
       "1013.0000 76    -23.591138  1.870278 -21.720860"
      ]
     },
     "metadata": {},
     "output_type": "display_data"
    },
    {
     "name": "stdout",
     "output_type": "stream",
     "text": [
      "Table. Fluxes. CRD\n"
     ]
    },
    {
     "data": {
      "text/html": [
       "<div>\n",
       "<style>\n",
       "    .dataframe thead tr:only-child th {\n",
       "        text-align: right;\n",
       "    }\n",
       "\n",
       "    .dataframe thead th {\n",
       "        text-align: left;\n",
       "    }\n",
       "\n",
       "    .dataframe tbody tr th {\n",
       "        vertical-align: top;\n",
       "    }\n",
       "</style>\n",
       "<table border=\"1\" class=\"dataframe\">\n",
       "  <thead>\n",
       "    <tr style=\"text-align: right;\">\n",
       "      <th></th>\n",
       "      <th></th>\n",
       "      <th>flug</th>\n",
       "      <th>fldg</th>\n",
       "      <th>fnetg</th>\n",
       "    </tr>\n",
       "    <tr>\n",
       "      <th>pressure</th>\n",
       "      <th>level</th>\n",
       "      <th></th>\n",
       "      <th></th>\n",
       "      <th></th>\n",
       "    </tr>\n",
       "  </thead>\n",
       "  <tbody>\n",
       "    <tr>\n",
       "      <th>1.000000e-08</th>\n",
       "      <th>1</th>\n",
       "      <td>-23.050441</td>\n",
       "      <td>0.000002</td>\n",
       "      <td>-23.050439</td>\n",
       "    </tr>\n",
       "    <tr>\n",
       "      <th>1.068500e+00</th>\n",
       "      <th>24</th>\n",
       "      <td>-23.049116</td>\n",
       "      <td>0.003792</td>\n",
       "      <td>-23.045324</td>\n",
       "    </tr>\n",
       "    <tr>\n",
       "      <th>1.013000e+03</th>\n",
       "      <th>76</th>\n",
       "      <td>-23.591140</td>\n",
       "      <td>1.889003</td>\n",
       "      <td>-21.702137</td>\n",
       "    </tr>\n",
       "  </tbody>\n",
       "</table>\n",
       "</div>"
      ],
      "text/plain": [
       "                         flug      fldg      fnetg\n",
       "pressure     level                                \n",
       "1.000000e-08 1     -23.050441  0.000002 -23.050439\n",
       "1.068500e+00 24    -23.049116  0.003792 -23.045324\n",
       "1.013000e+03 76    -23.591140  1.889003 -21.702137"
      ]
     },
     "metadata": {},
     "output_type": "display_data"
    },
    {
     "name": "stdout",
     "output_type": "stream",
     "text": [
      "Table. Fluxes. CLIRAD\n"
     ]
    },
    {
     "data": {
      "text/html": [
       "<div>\n",
       "<style>\n",
       "    .dataframe thead tr:only-child th {\n",
       "        text-align: right;\n",
       "    }\n",
       "\n",
       "    .dataframe thead th {\n",
       "        text-align: left;\n",
       "    }\n",
       "\n",
       "    .dataframe tbody tr th {\n",
       "        vertical-align: top;\n",
       "    }\n",
       "</style>\n",
       "<table border=\"1\" class=\"dataframe\">\n",
       "  <thead>\n",
       "    <tr style=\"text-align: right;\">\n",
       "      <th></th>\n",
       "      <th></th>\n",
       "      <th>flug</th>\n",
       "      <th>fldg</th>\n",
       "      <th>fnetg</th>\n",
       "    </tr>\n",
       "    <tr>\n",
       "      <th>pressure</th>\n",
       "      <th>level</th>\n",
       "      <th></th>\n",
       "      <th></th>\n",
       "      <th></th>\n",
       "    </tr>\n",
       "  </thead>\n",
       "  <tbody>\n",
       "    <tr>\n",
       "      <th>0.0000</th>\n",
       "      <th>1</th>\n",
       "      <td>-2.043730e-03</td>\n",
       "      <td>0.000000</td>\n",
       "      <td>-0.002044</td>\n",
       "    </tr>\n",
       "    <tr>\n",
       "      <th>1.0685</th>\n",
       "      <th>24</th>\n",
       "      <td>-2.159380e-03</td>\n",
       "      <td>0.000126</td>\n",
       "      <td>-0.002033</td>\n",
       "    </tr>\n",
       "    <tr>\n",
       "      <th>1013.0000</th>\n",
       "      <th>76</th>\n",
       "      <td>1.400000e-07</td>\n",
       "      <td>-0.085440</td>\n",
       "      <td>-0.085441</td>\n",
       "    </tr>\n",
       "  </tbody>\n",
       "</table>\n",
       "</div>"
      ],
      "text/plain": [
       "                         flug      fldg     fnetg\n",
       "pressure  level                                  \n",
       "0.0000    1     -2.043730e-03  0.000000 -0.002044\n",
       "1.0685    24    -2.159380e-03  0.000126 -0.002033\n",
       "1013.0000 76     1.400000e-07 -0.085440 -0.085441"
      ]
     },
     "metadata": {},
     "output_type": "display_data"
    },
    {
     "name": "stdout",
     "output_type": "stream",
     "text": [
      "Table. Fluxes. (CRD) - (WGT igg=10 wgt_flux=1)\n"
     ]
    },
    {
     "data": {
      "text/html": [
       "<div>\n",
       "<style>\n",
       "    .dataframe thead tr:only-child th {\n",
       "        text-align: right;\n",
       "    }\n",
       "\n",
       "    .dataframe thead th {\n",
       "        text-align: left;\n",
       "    }\n",
       "\n",
       "    .dataframe tbody tr th {\n",
       "        vertical-align: top;\n",
       "    }\n",
       "</style>\n",
       "<table border=\"1\" class=\"dataframe\">\n",
       "  <thead>\n",
       "    <tr style=\"text-align: right;\">\n",
       "      <th></th>\n",
       "      <th></th>\n",
       "      <th>flug</th>\n",
       "      <th>fldg</th>\n",
       "      <th>fnetg</th>\n",
       "    </tr>\n",
       "    <tr>\n",
       "      <th>pressure</th>\n",
       "      <th>level</th>\n",
       "      <th></th>\n",
       "      <th></th>\n",
       "      <th></th>\n",
       "    </tr>\n",
       "  </thead>\n",
       "  <tbody>\n",
       "    <tr>\n",
       "      <th>0.0000</th>\n",
       "      <th>1</th>\n",
       "      <td>-0.022343</td>\n",
       "      <td>0.000002</td>\n",
       "      <td>-0.022341</td>\n",
       "    </tr>\n",
       "    <tr>\n",
       "      <th>1.0685</th>\n",
       "      <th>24</th>\n",
       "      <td>-0.022436</td>\n",
       "      <td>-0.000361</td>\n",
       "      <td>-0.022797</td>\n",
       "    </tr>\n",
       "    <tr>\n",
       "      <th>1013.0000</th>\n",
       "      <th>76</th>\n",
       "      <td>-0.000002</td>\n",
       "      <td>-0.066715</td>\n",
       "      <td>-0.066718</td>\n",
       "    </tr>\n",
       "  </tbody>\n",
       "</table>\n",
       "</div>"
      ],
      "text/plain": [
       "                     flug      fldg     fnetg\n",
       "pressure  level                              \n",
       "0.0000    1     -0.022343  0.000002 -0.022341\n",
       "1.0685    24    -0.022436 -0.000361 -0.022797\n",
       "1013.0000 76    -0.000002 -0.066715 -0.066718"
      ]
     },
     "metadata": {},
     "output_type": "display_data"
    },
    {
     "name": "stdout",
     "output_type": "stream",
     "text": [
      "Table. Fluxes. (CLIRAD) - (WGT igg=10 wgt_flux=1)\n"
     ]
    },
    {
     "data": {
      "text/html": [
       "<a id=\"Best-fit_Parameters\"></a>"
      ],
      "text/plain": [
       "<IPython.core.display.HTML object>"
      ]
     },
     "metadata": {},
     "output_type": "display_data"
    },
    {
     "data": {
      "text/markdown": [
       "# Best-fit Parameters"
      ],
      "text/plain": [
       "<IPython.core.display.Markdown object>"
      ]
     },
     "metadata": {},
     "output_type": "display_data"
    },
    {
     "name": "stdout",
     "output_type": "stream",
     "text": [
      "Best-fit values for each (gas, band)\n",
      "------------------------------------\n",
      "o n2o band3a\n",
      "  atmpro = mls\n",
      "  band = 3a\n",
      "  commitnumber = a06b618\n",
      "  conc = 3.2e-07\n",
      "  dv = 0.001\n",
      "  klin = 2.22e-20\n",
      "  molecule = n2o\n",
      "  ng_adju = [0, 0]\n",
      "  ng_refs = [1, 2]\n",
      "  nv = 1000\n",
      "  option_compute_btable = 0\n",
      "  option_compute_ktable = 1\n",
      "  option_wgt_flux = 1\n",
      "  option_wgt_k = 1\n",
      "  ref_pts = [(1, 250), (500, 250)]\n",
      "  tsfc = 294\n",
      "  vmax = 620\n",
      "  vmin = 540\n",
      "  w_diffuse = [(1.8,), (1.66, 1.8)]\n",
      "  wgt = [(0.9,), (0.5, 0.95)]\n"
     ]
    }
   ],
   "source": [
    "script()"
   ]
  },
  {
   "cell_type": "code",
   "execution_count": 13,
   "metadata": {
    "collapsed": true
   },
   "outputs": [
    {
     "data": {
      "text/html": [
       "<script>\n",
       "code_show=true; \n",
       "function code_toggle() {\n",
       " if (code_show){\n",
       " $('div.input').hide();\n",
       " } else {\n",
       " $('div.input').show();\n",
       " }\n",
       " code_show = !code_show\n",
       "} \n",
       "$( document ).ready(code_toggle);\n",
       "</script>\n",
       "<form action=\"javascript:code_toggle()\"><input type=\"submit\" value=\"Click here to toggle on/off the raw code.\"></form>"
      ],
      "text/plain": [
       "<IPython.core.display.HTML object>"
      ]
     },
     "execution_count": 13,
     "metadata": {},
     "output_type": "execute_result"
    }
   ],
   "source": [
    "display.HTML('''<script>\n",
    "code_show=true; \n",
    "function code_toggle() {\n",
    " if (code_show){\n",
    " $('div.input').hide();\n",
    " } else {\n",
    " $('div.input').show();\n",
    " }\n",
    " code_show = !code_show\n",
    "} \n",
    "$( document ).ready(code_toggle);\n",
    "</script>\n",
    "<form action=\"javascript:code_toggle()\"><input type=\"submit\" value=\"Click here to toggle on/off the raw code.\"></form>''')"
   ]
  }
 ],
 "metadata": {
  "kernelspec": {
   "display_name": "Python 3",
   "language": "python",
   "name": "python3"
  },
  "language_info": {
   "codemirror_mode": {
    "name": "ipython",
    "version": 3
   },
   "file_extension": ".py",
   "mimetype": "text/x-python",
   "name": "python",
   "nbconvert_exporter": "python",
   "pygments_lexer": "ipython3",
   "version": "3.6.1"
  }
 },
 "nbformat": 4,
 "nbformat_minor": 2
}
