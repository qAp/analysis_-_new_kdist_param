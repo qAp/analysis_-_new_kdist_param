{
 "cells": [
  {
   "cell_type": "code",
   "execution_count": 1,
   "metadata": {
    "collapsed": true
   },
   "outputs": [],
   "source": [
    "%matplotlib inline\n",
    "import os\n",
    "import re\n",
    "import io\n",
    "import itertools\n",
    "import pprint\n",
    "\n",
    "from bokeh.io import output_notebook, show\n",
    "from bokeh.layouts import gridplot\n",
    "from bokeh.plotting import figure\n",
    "from bokeh.models import Range1d, Legend\n",
    "from bokeh.palettes import all_palettes\n",
    "\n",
    "import matplotlib\n",
    "import matplotlib.pyplot as plt\n",
    "import numpy as np\n",
    "import pandas as pd\n",
    "import xarray as xr\n",
    "\n",
    "import climatools.lblnew.bestfit_params as bestfits\n",
    "from climatools.lblnew import setup_bestfit, setup_overlap\n",
    "import climatools.lblnew.pipeline as pipe_lblnew\n",
    "import climatools.cliradlw.setup as setup_cliradlw\n",
    "import climatools.cliradlw.pipeline as pipe_cliradlw\n",
    "\n",
    "import climatools.html.html as climahtml\n",
    "from climatools.lblnew.dataio import *\n",
    "from climatools.plot.plot import *\n",
    "\n",
    "\n",
    "import IPython.display as display"
   ]
  },
  {
   "cell_type": "code",
   "execution_count": 2,
   "metadata": {
    "collapsed": true
   },
   "outputs": [],
   "source": [
    "%run param.py"
   ]
  },
  {
   "cell_type": "code",
   "execution_count": 3,
   "metadata": {
    "collapsed": true
   },
   "outputs": [],
   "source": [
    "def load_output_file(path_csv):\n",
    "    '''\n",
    "    Load lblnew output .csv file to xarray.Dataset\n",
    "    \n",
    "    Parameters\n",
    "    ----------\n",
    "    path_csv: str\n",
    "              Path to the .csv file to be loaded.\n",
    "    ds: xarray.Dataset\n",
    "        Data in the input file in the form of an xarray.Dataset.\n",
    "    '''\n",
    "    toindex = ['band', 'pressure', 'igg', 'g']    \n",
    "    df = pd.read_csv(path_csv, sep=r'\\s+')\n",
    "    df = df.set_index([i for i in toindex if i in df.columns])\n",
    "    df = df.rename(columns={'sfu': 'flug',\n",
    "                            'sfd': 'fldg',\n",
    "                            'fnet': 'fnetg',\n",
    "                            'coolr': 'coolrg'})\n",
    "    ds = xr.Dataset.from_dataframe(df)\n",
    "\n",
    "    for l in ('level', 'layer'):\n",
    "        if l in ds.data_vars:\n",
    "            if len(ds[l].dims) > 1:\n",
    "                surface = {d: 0 for d in ds.dims if d != 'pressure'}\n",
    "                coord_level = ds[l][surface]\n",
    "                ds.coords[l] = ('pressure', coord_level)\n",
    "            else:\n",
    "                ds.coords[l] = ('pressure', ds[l])\n",
    "    \n",
    "    return ds"
   ]
  },
  {
   "cell_type": "code",
   "execution_count": 4,
   "metadata": {
    "collapsed": true
   },
   "outputs": [],
   "source": [
    "def lblnew_setup(param=None):\n",
    "    if 'ng_refs' in param:\n",
    "        return {'setup': setup_bestfit,\n",
    "                'fname_flux_crd': 'output_flux.dat',\n",
    "                'fname_cool_crd': 'output_coolr.dat',\n",
    "                'fname_flux_wgt': 'output_wfluxg.dat',\n",
    "                'fname_cool_wgt': 'output_wcoolrg.dat'}\n",
    "    else:\n",
    "        return {'setup': setup_overlap,\n",
    "                'fname_flux_crd': 'output_flux.dat',\n",
    "                'fname_cool_crd': 'output_coolr.dat',\n",
    "                'fname_flux_wgt': 'output_wflux.dat',\n",
    "                'fname_cool_wgt': 'output_wcoolr.dat'}\n",
    "\n",
    "    \n",
    "def load_lblnew_data(param):\n",
    "    \n",
    "    fname_dsname = [('fname_flux_crd', 'ds_flux_crd'),\n",
    "                    ('fname_cool_crd', 'ds_cool_crd'),\n",
    "                    ('fname_flux_wgt', 'ds_flux_wgt'),\n",
    "                    ('fname_cool_wgt', 'ds_cool_wgt')]\n",
    "    \n",
    "    d = lblnew_setup(param)\n",
    "    dir_fortran = pipe_lblnew.get_dir_case(param, setup=d['setup'])\n",
    "    \n",
    "    data_dict = {}\n",
    "    for fname, dsname in fname_dsname:\n",
    "        fpath = os.path.join(dir_fortran, d[fname])\n",
    "        data_dict[dsname] = load_output_file(fpath)\n",
    "    return data_dict\n",
    "    \n",
    "\n",
    "    \n",
    "    "
   ]
  },
  {
   "cell_type": "code",
   "execution_count": 5,
   "metadata": {
    "collapsed": true
   },
   "outputs": [],
   "source": [
    "d = load_lblnew_data(PARAM_LBLNEW)\n",
    "\n",
    "DS_FLUX_CRD = d['ds_flux_crd']\n",
    "DS_COOL_CRD = d['ds_cool_crd']\n",
    "DS_FLUX_WGT = d['ds_flux_wgt']\n",
    "DS_COOL_WGT = d['ds_cool_wgt']"
   ]
  },
  {
   "cell_type": "code",
   "execution_count": 6,
   "metadata": {
    "collapsed": true
   },
   "outputs": [],
   "source": [
    "DIR_FORTRAN = pipe_cliradlw.get_fortran_dir(PARAM, \n",
    "                                            setup=setup_cliradlw)\n",
    "\n",
    "PATH_FLUX = os.path.join(DIR_FORTRAN, 'output_flux.dat')\n",
    "PATH_COOL = os.path.join(DIR_FORTRAN, 'output_coolr.dat')\n",
    "\n",
    "DS_FLUX = load_output_file(PATH_FLUX)\n",
    "DS_COOL = load_output_file(PATH_COOL)"
   ]
  },
  {
   "cell_type": "code",
   "execution_count": 7,
   "metadata": {
    "collapsed": true
   },
   "outputs": [
    {
     "data": {
      "text/html": [
       "\n",
       "    <div class=\"bk-root\">\n",
       "        <a href=\"https://bokeh.pydata.org\" target=\"_blank\" class=\"bk-logo bk-logo-small bk-logo-notebook\"></a>\n",
       "        <span id=\"60ca814c-033e-43ce-b790-4d17c7280157\">Loading BokehJS ...</span>\n",
       "    </div>"
      ]
     },
     "metadata": {},
     "output_type": "display_data"
    },
    {
     "data": {
      "application/javascript": [
       "\n",
       "(function(root) {\n",
       "  function now() {\n",
       "    return new Date();\n",
       "  }\n",
       "\n",
       "  var force = true;\n",
       "\n",
       "  if (typeof (root._bokeh_onload_callbacks) === \"undefined\" || force === true) {\n",
       "    root._bokeh_onload_callbacks = [];\n",
       "    root._bokeh_is_loading = undefined;\n",
       "  }\n",
       "\n",
       "  var JS_MIME_TYPE = 'application/javascript';\n",
       "  var HTML_MIME_TYPE = 'text/html';\n",
       "  var EXEC_MIME_TYPE = 'application/vnd.bokehjs_exec.v0+json';\n",
       "  var CLASS_NAME = 'output_bokeh rendered_html';\n",
       "\n",
       "  /**\n",
       "   * Render data to the DOM node\n",
       "   */\n",
       "  function render(props, node) {\n",
       "    var script = document.createElement(\"script\");\n",
       "    node.appendChild(script);\n",
       "  }\n",
       "\n",
       "  /**\n",
       "   * Handle when an output is cleared or removed\n",
       "   */\n",
       "  function handleClearOutput(event, handle) {\n",
       "    var cell = handle.cell;\n",
       "\n",
       "    var id = cell.output_area._bokeh_element_id;\n",
       "    var server_id = cell.output_area._bokeh_server_id;\n",
       "    // Clean up Bokeh references\n",
       "    if (id !== undefined) {\n",
       "      Bokeh.index[id].model.document.clear();\n",
       "      delete Bokeh.index[id];\n",
       "    }\n",
       "\n",
       "    if (server_id !== undefined) {\n",
       "      // Clean up Bokeh references\n",
       "      var cmd = \"from bokeh.io.state import curstate; print(curstate().uuid_to_server['\" + server_id + \"'].get_sessions()[0].document.roots[0]._id)\";\n",
       "      cell.notebook.kernel.execute(cmd, {\n",
       "        iopub: {\n",
       "          output: function(msg) {\n",
       "            var element_id = msg.content.text.trim();\n",
       "            Bokeh.index[element_id].model.document.clear();\n",
       "            delete Bokeh.index[element_id];\n",
       "          }\n",
       "        }\n",
       "      });\n",
       "      // Destroy server and session\n",
       "      var cmd = \"import bokeh.io.notebook as ion; ion.destroy_server('\" + server_id + \"')\";\n",
       "      cell.notebook.kernel.execute(cmd);\n",
       "    }\n",
       "  }\n",
       "\n",
       "  /**\n",
       "   * Handle when a new output is added\n",
       "   */\n",
       "  function handleAddOutput(event, handle) {\n",
       "    var output_area = handle.output_area;\n",
       "    var output = handle.output;\n",
       "\n",
       "    // limit handleAddOutput to display_data with EXEC_MIME_TYPE content only\n",
       "    if ((output.output_type != \"display_data\") || (!output.data.hasOwnProperty(EXEC_MIME_TYPE))) {\n",
       "      return\n",
       "    }\n",
       "\n",
       "    var toinsert = output_area.element.find(\".\" + CLASS_NAME.split(' ')[0]);\n",
       "\n",
       "    if (output.metadata[EXEC_MIME_TYPE][\"id\"] !== undefined) {\n",
       "      toinsert[toinsert.length - 1].firstChild.textContent = output.data[JS_MIME_TYPE];\n",
       "      // store reference to embed id on output_area\n",
       "      output_area._bokeh_element_id = output.metadata[EXEC_MIME_TYPE][\"id\"];\n",
       "    }\n",
       "    if (output.metadata[EXEC_MIME_TYPE][\"server_id\"] !== undefined) {\n",
       "      var bk_div = document.createElement(\"div\");\n",
       "      bk_div.innerHTML = output.data[HTML_MIME_TYPE];\n",
       "      var script_attrs = bk_div.children[0].attributes;\n",
       "      for (var i = 0; i < script_attrs.length; i++) {\n",
       "        toinsert[toinsert.length - 1].firstChild.setAttribute(script_attrs[i].name, script_attrs[i].value);\n",
       "      }\n",
       "      // store reference to server id on output_area\n",
       "      output_area._bokeh_server_id = output.metadata[EXEC_MIME_TYPE][\"server_id\"];\n",
       "    }\n",
       "  }\n",
       "\n",
       "  function register_renderer(events, OutputArea) {\n",
       "\n",
       "    function append_mime(data, metadata, element) {\n",
       "      // create a DOM node to render to\n",
       "      var toinsert = this.create_output_subarea(\n",
       "        metadata,\n",
       "        CLASS_NAME,\n",
       "        EXEC_MIME_TYPE\n",
       "      );\n",
       "      this.keyboard_manager.register_events(toinsert);\n",
       "      // Render to node\n",
       "      var props = {data: data, metadata: metadata[EXEC_MIME_TYPE]};\n",
       "      render(props, toinsert[toinsert.length - 1]);\n",
       "      element.append(toinsert);\n",
       "      return toinsert\n",
       "    }\n",
       "\n",
       "    /* Handle when an output is cleared or removed */\n",
       "    events.on('clear_output.CodeCell', handleClearOutput);\n",
       "    events.on('delete.Cell', handleClearOutput);\n",
       "\n",
       "    /* Handle when a new output is added */\n",
       "    events.on('output_added.OutputArea', handleAddOutput);\n",
       "\n",
       "    /**\n",
       "     * Register the mime type and append_mime function with output_area\n",
       "     */\n",
       "    OutputArea.prototype.register_mime_type(EXEC_MIME_TYPE, append_mime, {\n",
       "      /* Is output safe? */\n",
       "      safe: true,\n",
       "      /* Index of renderer in `output_area.display_order` */\n",
       "      index: 0\n",
       "    });\n",
       "  }\n",
       "\n",
       "  // register the mime type if in Jupyter Notebook environment and previously unregistered\n",
       "  if (root.Jupyter !== undefined) {\n",
       "    var events = require('base/js/events');\n",
       "    var OutputArea = require('notebook/js/outputarea').OutputArea;\n",
       "\n",
       "    if (OutputArea.prototype.mime_types().indexOf(EXEC_MIME_TYPE) == -1) {\n",
       "      register_renderer(events, OutputArea);\n",
       "    }\n",
       "  }\n",
       "\n",
       "  \n",
       "  if (typeof (root._bokeh_timeout) === \"undefined\" || force === true) {\n",
       "    root._bokeh_timeout = Date.now() + 5000;\n",
       "    root._bokeh_failed_load = false;\n",
       "  }\n",
       "\n",
       "  var NB_LOAD_WARNING = {'data': {'text/html':\n",
       "     \"<div style='background-color: #fdd'>\\n\"+\n",
       "     \"<p>\\n\"+\n",
       "     \"BokehJS does not appear to have successfully loaded. If loading BokehJS from CDN, this \\n\"+\n",
       "     \"may be due to a slow or bad network connection. Possible fixes:\\n\"+\n",
       "     \"</p>\\n\"+\n",
       "     \"<ul>\\n\"+\n",
       "     \"<li>re-rerun `output_notebook()` to attempt to load from CDN again, or</li>\\n\"+\n",
       "     \"<li>use INLINE resources instead, as so:</li>\\n\"+\n",
       "     \"</ul>\\n\"+\n",
       "     \"<code>\\n\"+\n",
       "     \"from bokeh.resources import INLINE\\n\"+\n",
       "     \"output_notebook(resources=INLINE)\\n\"+\n",
       "     \"</code>\\n\"+\n",
       "     \"</div>\"}};\n",
       "\n",
       "  function display_loaded() {\n",
       "    var el = document.getElementById(\"60ca814c-033e-43ce-b790-4d17c7280157\");\n",
       "    if (el != null) {\n",
       "      el.textContent = \"BokehJS is loading...\";\n",
       "    }\n",
       "    if (root.Bokeh !== undefined) {\n",
       "      if (el != null) {\n",
       "        el.textContent = \"BokehJS \" + root.Bokeh.version + \" successfully loaded.\";\n",
       "      }\n",
       "    } else if (Date.now() < root._bokeh_timeout) {\n",
       "      setTimeout(display_loaded, 100)\n",
       "    }\n",
       "  }\n",
       "\n",
       "\n",
       "  function run_callbacks() {\n",
       "    try {\n",
       "      root._bokeh_onload_callbacks.forEach(function(callback) { callback() });\n",
       "    }\n",
       "    finally {\n",
       "      delete root._bokeh_onload_callbacks\n",
       "    }\n",
       "    console.info(\"Bokeh: all callbacks have finished\");\n",
       "  }\n",
       "\n",
       "  function load_libs(js_urls, callback) {\n",
       "    root._bokeh_onload_callbacks.push(callback);\n",
       "    if (root._bokeh_is_loading > 0) {\n",
       "      console.log(\"Bokeh: BokehJS is being loaded, scheduling callback at\", now());\n",
       "      return null;\n",
       "    }\n",
       "    if (js_urls == null || js_urls.length === 0) {\n",
       "      run_callbacks();\n",
       "      return null;\n",
       "    }\n",
       "    console.log(\"Bokeh: BokehJS not loaded, scheduling load and callback at\", now());\n",
       "    root._bokeh_is_loading = js_urls.length;\n",
       "    for (var i = 0; i < js_urls.length; i++) {\n",
       "      var url = js_urls[i];\n",
       "      var s = document.createElement('script');\n",
       "      s.src = url;\n",
       "      s.async = false;\n",
       "      s.onreadystatechange = s.onload = function() {\n",
       "        root._bokeh_is_loading--;\n",
       "        if (root._bokeh_is_loading === 0) {\n",
       "          console.log(\"Bokeh: all BokehJS libraries loaded\");\n",
       "          run_callbacks()\n",
       "        }\n",
       "      };\n",
       "      s.onerror = function() {\n",
       "        console.warn(\"failed to load library \" + url);\n",
       "      };\n",
       "      console.log(\"Bokeh: injecting script tag for BokehJS library: \", url);\n",
       "      document.getElementsByTagName(\"head\")[0].appendChild(s);\n",
       "    }\n",
       "  };var element = document.getElementById(\"60ca814c-033e-43ce-b790-4d17c7280157\");\n",
       "  if (element == null) {\n",
       "    console.log(\"Bokeh: ERROR: autoload.js configured with elementid '60ca814c-033e-43ce-b790-4d17c7280157' but no matching script tag was found. \")\n",
       "    return false;\n",
       "  }\n",
       "\n",
       "  var js_urls = [\"https://cdn.pydata.org/bokeh/release/bokeh-0.12.16.min.js\", \"https://cdn.pydata.org/bokeh/release/bokeh-widgets-0.12.16.min.js\", \"https://cdn.pydata.org/bokeh/release/bokeh-tables-0.12.16.min.js\", \"https://cdn.pydata.org/bokeh/release/bokeh-gl-0.12.16.min.js\"];\n",
       "\n",
       "  var inline_js = [\n",
       "    function(Bokeh) {\n",
       "      Bokeh.set_log_level(\"info\");\n",
       "    },\n",
       "    \n",
       "    function(Bokeh) {\n",
       "      \n",
       "    },\n",
       "    function(Bokeh) {\n",
       "      console.log(\"Bokeh: injecting CSS: https://cdn.pydata.org/bokeh/release/bokeh-0.12.16.min.css\");\n",
       "      Bokeh.embed.inject_css(\"https://cdn.pydata.org/bokeh/release/bokeh-0.12.16.min.css\");\n",
       "      console.log(\"Bokeh: injecting CSS: https://cdn.pydata.org/bokeh/release/bokeh-widgets-0.12.16.min.css\");\n",
       "      Bokeh.embed.inject_css(\"https://cdn.pydata.org/bokeh/release/bokeh-widgets-0.12.16.min.css\");\n",
       "      console.log(\"Bokeh: injecting CSS: https://cdn.pydata.org/bokeh/release/bokeh-tables-0.12.16.min.css\");\n",
       "      Bokeh.embed.inject_css(\"https://cdn.pydata.org/bokeh/release/bokeh-tables-0.12.16.min.css\");\n",
       "    }\n",
       "  ];\n",
       "\n",
       "  function run_inline_js() {\n",
       "    \n",
       "    if ((root.Bokeh !== undefined) || (force === true)) {\n",
       "      for (var i = 0; i < inline_js.length; i++) {\n",
       "        inline_js[i].call(root, root.Bokeh);\n",
       "      }if (force === true) {\n",
       "        display_loaded();\n",
       "      }} else if (Date.now() < root._bokeh_timeout) {\n",
       "      setTimeout(run_inline_js, 100);\n",
       "    } else if (!root._bokeh_failed_load) {\n",
       "      console.log(\"Bokeh: BokehJS failed to load within specified timeout.\");\n",
       "      root._bokeh_failed_load = true;\n",
       "    } else if (force !== true) {\n",
       "      var cell = $(document.getElementById(\"60ca814c-033e-43ce-b790-4d17c7280157\")).parents('.cell').data().cell;\n",
       "      cell.output_area.append_execute_result(NB_LOAD_WARNING)\n",
       "    }\n",
       "\n",
       "  }\n",
       "\n",
       "  if (root._bokeh_is_loading === 0) {\n",
       "    console.log(\"Bokeh: BokehJS loaded, going straight to plotting\");\n",
       "    run_inline_js();\n",
       "  } else {\n",
       "    load_libs(js_urls, function() {\n",
       "      console.log(\"Bokeh: BokehJS plotting callback run at\", now());\n",
       "      run_inline_js();\n",
       "    });\n",
       "  }\n",
       "}(window));"
      ],
      "application/vnd.bokehjs_load.v0+json": "\n(function(root) {\n  function now() {\n    return new Date();\n  }\n\n  var force = true;\n\n  if (typeof (root._bokeh_onload_callbacks) === \"undefined\" || force === true) {\n    root._bokeh_onload_callbacks = [];\n    root._bokeh_is_loading = undefined;\n  }\n\n  \n\n  \n  if (typeof (root._bokeh_timeout) === \"undefined\" || force === true) {\n    root._bokeh_timeout = Date.now() + 5000;\n    root._bokeh_failed_load = false;\n  }\n\n  var NB_LOAD_WARNING = {'data': {'text/html':\n     \"<div style='background-color: #fdd'>\\n\"+\n     \"<p>\\n\"+\n     \"BokehJS does not appear to have successfully loaded. If loading BokehJS from CDN, this \\n\"+\n     \"may be due to a slow or bad network connection. Possible fixes:\\n\"+\n     \"</p>\\n\"+\n     \"<ul>\\n\"+\n     \"<li>re-rerun `output_notebook()` to attempt to load from CDN again, or</li>\\n\"+\n     \"<li>use INLINE resources instead, as so:</li>\\n\"+\n     \"</ul>\\n\"+\n     \"<code>\\n\"+\n     \"from bokeh.resources import INLINE\\n\"+\n     \"output_notebook(resources=INLINE)\\n\"+\n     \"</code>\\n\"+\n     \"</div>\"}};\n\n  function display_loaded() {\n    var el = document.getElementById(\"60ca814c-033e-43ce-b790-4d17c7280157\");\n    if (el != null) {\n      el.textContent = \"BokehJS is loading...\";\n    }\n    if (root.Bokeh !== undefined) {\n      if (el != null) {\n        el.textContent = \"BokehJS \" + root.Bokeh.version + \" successfully loaded.\";\n      }\n    } else if (Date.now() < root._bokeh_timeout) {\n      setTimeout(display_loaded, 100)\n    }\n  }\n\n\n  function run_callbacks() {\n    try {\n      root._bokeh_onload_callbacks.forEach(function(callback) { callback() });\n    }\n    finally {\n      delete root._bokeh_onload_callbacks\n    }\n    console.info(\"Bokeh: all callbacks have finished\");\n  }\n\n  function load_libs(js_urls, callback) {\n    root._bokeh_onload_callbacks.push(callback);\n    if (root._bokeh_is_loading > 0) {\n      console.log(\"Bokeh: BokehJS is being loaded, scheduling callback at\", now());\n      return null;\n    }\n    if (js_urls == null || js_urls.length === 0) {\n      run_callbacks();\n      return null;\n    }\n    console.log(\"Bokeh: BokehJS not loaded, scheduling load and callback at\", now());\n    root._bokeh_is_loading = js_urls.length;\n    for (var i = 0; i < js_urls.length; i++) {\n      var url = js_urls[i];\n      var s = document.createElement('script');\n      s.src = url;\n      s.async = false;\n      s.onreadystatechange = s.onload = function() {\n        root._bokeh_is_loading--;\n        if (root._bokeh_is_loading === 0) {\n          console.log(\"Bokeh: all BokehJS libraries loaded\");\n          run_callbacks()\n        }\n      };\n      s.onerror = function() {\n        console.warn(\"failed to load library \" + url);\n      };\n      console.log(\"Bokeh: injecting script tag for BokehJS library: \", url);\n      document.getElementsByTagName(\"head\")[0].appendChild(s);\n    }\n  };var element = document.getElementById(\"60ca814c-033e-43ce-b790-4d17c7280157\");\n  if (element == null) {\n    console.log(\"Bokeh: ERROR: autoload.js configured with elementid '60ca814c-033e-43ce-b790-4d17c7280157' but no matching script tag was found. \")\n    return false;\n  }\n\n  var js_urls = [\"https://cdn.pydata.org/bokeh/release/bokeh-0.12.16.min.js\", \"https://cdn.pydata.org/bokeh/release/bokeh-widgets-0.12.16.min.js\", \"https://cdn.pydata.org/bokeh/release/bokeh-tables-0.12.16.min.js\", \"https://cdn.pydata.org/bokeh/release/bokeh-gl-0.12.16.min.js\"];\n\n  var inline_js = [\n    function(Bokeh) {\n      Bokeh.set_log_level(\"info\");\n    },\n    \n    function(Bokeh) {\n      \n    },\n    function(Bokeh) {\n      console.log(\"Bokeh: injecting CSS: https://cdn.pydata.org/bokeh/release/bokeh-0.12.16.min.css\");\n      Bokeh.embed.inject_css(\"https://cdn.pydata.org/bokeh/release/bokeh-0.12.16.min.css\");\n      console.log(\"Bokeh: injecting CSS: https://cdn.pydata.org/bokeh/release/bokeh-widgets-0.12.16.min.css\");\n      Bokeh.embed.inject_css(\"https://cdn.pydata.org/bokeh/release/bokeh-widgets-0.12.16.min.css\");\n      console.log(\"Bokeh: injecting CSS: https://cdn.pydata.org/bokeh/release/bokeh-tables-0.12.16.min.css\");\n      Bokeh.embed.inject_css(\"https://cdn.pydata.org/bokeh/release/bokeh-tables-0.12.16.min.css\");\n    }\n  ];\n\n  function run_inline_js() {\n    \n    if ((root.Bokeh !== undefined) || (force === true)) {\n      for (var i = 0; i < inline_js.length; i++) {\n        inline_js[i].call(root, root.Bokeh);\n      }if (force === true) {\n        display_loaded();\n      }} else if (Date.now() < root._bokeh_timeout) {\n      setTimeout(run_inline_js, 100);\n    } else if (!root._bokeh_failed_load) {\n      console.log(\"Bokeh: BokehJS failed to load within specified timeout.\");\n      root._bokeh_failed_load = true;\n    } else if (force !== true) {\n      var cell = $(document.getElementById(\"60ca814c-033e-43ce-b790-4d17c7280157\")).parents('.cell').data().cell;\n      cell.output_area.append_execute_result(NB_LOAD_WARNING)\n    }\n\n  }\n\n  if (root._bokeh_is_loading === 0) {\n    console.log(\"Bokeh: BokehJS loaded, going straight to plotting\");\n    run_inline_js();\n  } else {\n    load_libs(js_urls, function() {\n      console.log(\"Bokeh: BokehJS plotting callback run at\", now());\n      run_inline_js();\n    });\n  }\n}(window));"
     },
     "metadata": {},
     "output_type": "display_data"
    }
   ],
   "source": [
    "output_notebook()"
   ]
  },
  {
   "cell_type": "code",
   "execution_count": 8,
   "metadata": {
    "collapsed": true
   },
   "outputs": [],
   "source": [
    "def fmt_cool(ds_in):\n",
    "    ds = ds_in.copy(deep=True)\n",
    "    if 'igg' in ds.dims:\n",
    "        ds = ds.sel(igg=1)\n",
    "\n",
    "    if 'g' in ds.dims:\n",
    "        ds = ds.sum('g')\n",
    "            \n",
    "    if 'band' in ds.dims:\n",
    "        try:\n",
    "            ds = ds.squeeze('band')\n",
    "        except ValueError:\n",
    "            ds = ds.sum('band')\n",
    "                \n",
    "    return ds['coolrg']\n",
    "\n",
    "\n",
    "def pltdata_cooling_1(ds_cool=None,\n",
    "                      ds_cool_crd=None, ds_cool_wgt=None):\n",
    "    \n",
    "\n",
    "\n",
    "    colors = all_palettes['Set1'][4]\n",
    "    data = [{'label': 'CLIRAD `coolr_bands`',\n",
    "             'srs': fmt_cool(ds_cool),\n",
    "             'line_dash': 'dashed', 'line_width': 5,\n",
    "             'color': colors[0], 'alpha': .6},\n",
    "            {'label': 'CRD',\n",
    "             'srs': fmt_cool(ds_cool_crd),\n",
    "             'line_dash': 'solid', 'line_width': 1.5,\n",
    "             'marker': 'circle', 'marker_size': 5,\n",
    "             'color': colors[2], 'alpha': 1,},\n",
    "            {'label': 'WGT igg=10 wgt_flux=2',\n",
    "             'srs': fmt_cool(ds_cool_wgt),\n",
    "             'line_dash': 'solid', 'line_width': 3,\n",
    "             'marker': 'square', 'marker_size': 5,\n",
    "             'color': colors[3], 'alpha': .6}]\n",
    "    return data\n",
    "\n",
    "\n",
    "def nice_xlims(pltdata=None, prange=None):\n",
    "    \n",
    "    def get_slice(srs):\n",
    "        return srs.sel(pressure=slice(*prange))\n",
    "    \n",
    "    srss = [d['srs'] for d in pltdata]\n",
    "    vmin = min([get_slice(srs).min() for srs in srss])\n",
    "    vmax = max([get_slice(srs).max() for srs in srss])\n",
    "    dv = (vmax - vmin) * .01\n",
    "    return float(vmin - dv), float(vmax + dv)\n",
    "    \n",
    "\n",
    "def plt_cooling_bokeh(pltdata=None):\n",
    "    '''\n",
    "    Plot a list of cooling rate profiles using bokeh.\n",
    "    '''\n",
    "    ymin = 1e-2 \n",
    "    ymax = 1020 \n",
    "        \n",
    "    p1 = figure(title=\"Linear pressure scale\", \n",
    "                plot_width=400)        \n",
    "    xmin, xmax = nice_xlims(pltdata, prange=(50, 1050))\n",
    "    for d in pltdata:\n",
    "        if 'marker' in d:\n",
    "            getattr(p1, d['marker'])(d['srs'].values, \n",
    "                    d['srs'].coords['pressure'].values,\n",
    "                    color=d['color'], alpha=.7)\n",
    "        p1.line(d['srs'].values, \n",
    "                d['srs'].coords['pressure'].values,\n",
    "                color=d['color'], alpha=d['alpha'], \n",
    "                line_width=d['line_width'], line_dash=d['line_dash'])\n",
    "    \n",
    "    p1.y_range = Range1d(ymax, ymin)\n",
    "    p1.yaxis.axis_label = 'pressure [mb]'   \n",
    "    p1.x_range = Range1d(xmin, xmax)\n",
    "    p1.xaxis.axis_label = 'cooling rate [K/day]'\n",
    "            \n",
    "    p2 = figure(title='Log pressure scale', y_axis_type='log',\n",
    "                plot_width=560)\n",
    "    xmin, xmax = nice_xlims(pltdata, prange=(.01, 200))\n",
    "    \n",
    "    rs = []\n",
    "    for d in pltdata:\n",
    "        rd = []\n",
    "        if 'marker' in d:\n",
    "            r_mark = getattr(p2, d['marker'])(d['srs'].values, \n",
    "                        d['srs'].coords['pressure'].values,\n",
    "                        color=d['color'], alpha=.7)\n",
    "            rd.append(r_mark)\n",
    "        r_line = p2.line(d['srs'].values, \n",
    "                    d['srs'].coords['pressure'].values,\n",
    "                    color=d['color'], alpha=d['alpha'], \n",
    "                    line_width=d['line_width'], line_dash=d['line_dash'])\n",
    "        rd.append(r_line)\n",
    "      \n",
    "        rs.append(rd)\n",
    "        \n",
    "    p2.y_range = Range1d(ymax, ymin)  \n",
    "    p2.yaxis.axis_label = 'pressure [mb]'\n",
    "    \n",
    "    p2.x_range = Range1d(xmin, xmax)\n",
    "    p2.xaxis.axis_label = 'cooling rate [K/day]'\n",
    "    \n",
    "    items = [(d['label'], r) for r, d in zip(rs, pltdata)]\n",
    "    legend = Legend(items=items, location=(10, -30))\n",
    "    legend.label_text_font_size = '8pt'\n",
    "    \n",
    "    p2.add_layout(legend, 'right')  \n",
    "    \n",
    "    show(gridplot(p1, p2, ncols=2, plot_height=500))\n",
    "    \n",
    "\n",
    "def script_plt_cooling():\n",
    "    pltdata = pltdata_cooling_1(\n",
    "        ds_cool=DS_COOL,\n",
    "        ds_cool_crd=DS_COOL_CRD,\n",
    "        ds_cool_wgt=DS_COOL_WGT)\n",
    "    plt_cooling_bokeh(pltdata=pltdata)\n",
    "    print('''FIGURE. Cooling rate profiles.''')"
   ]
  },
  {
   "cell_type": "code",
   "execution_count": 9,
   "metadata": {
    "collapsed": true
   },
   "outputs": [],
   "source": [
    "def fmt_flux(ds_in):\n",
    "    ds = ds_in.copy(deep=True)\n",
    "    \n",
    "    for l in ('level', 'layer'):\n",
    "        if l in ds.data_vars:\n",
    "            if len(ds[l].dims) > 1:\n",
    "                surface = {d: 0 for d in ds.dims if d != 'pressure'}\n",
    "                coord_level = ds[l][surface]\n",
    "                ds.coords[l] = ('pressure', coord_level)\n",
    "            else:\n",
    "                ds.coords[l] = ('pressure', ds[l])\n",
    "        \n",
    "    ds = ds.isel(pressure=[0, 23, -1])\n",
    "        \n",
    "    if 'igg' in ds.dims:\n",
    "        ds = ds.sel(igg=[1])\n",
    "        ds = ds.squeeze('igg').drop('igg')\n",
    "    \n",
    "    if 'g' in ds.dims:\n",
    "        ds = ds.sum('g')\n",
    "            \n",
    "    if 'band' in ds.dims:\n",
    "        try:\n",
    "            ds = ds.squeeze('band').drop('band')\n",
    "        except ValueError:\n",
    "            ds = ds.sum('band')\n",
    "                \n",
    "    df = ds.to_dataframe()\n",
    "    df = df.set_index('level', append=True)               \n",
    "    return df\n",
    "\n",
    "\n",
    "def tbdata_flux(ds_flux=None, ds_flux_crd=None, ds_flux_wgt=None):\n",
    "    ilevels = [0, 23, -1]\n",
    "            \n",
    "    benchmark = {'label': 'CRD',\n",
    "                 'df': fmt_flux(ds_flux_crd)}\n",
    "    \n",
    "    tbs = [{'label': 'WGT igg=10 wgt_flux=1',\n",
    "            'df': fmt_flux(ds_flux_wgt)},\n",
    "           {'label': 'CLIRAD',\n",
    "            'df': fmt_flux(ds_flux)}]\n",
    "    \n",
    "    data = {'benchmark': benchmark, 'others': tbs}\n",
    "    return data\n",
    "\n",
    "\n",
    "def tb_flux(tbdata=None):\n",
    "    benchmark = tbdata['benchmark']\n",
    "    others = tbdata['others']\n",
    "    \n",
    "    def show_tb(d=None):\n",
    "        display.display(d['df'])\n",
    "        print('Table.', 'Fluxes.', d['label'])\n",
    "        \n",
    "    def show_tbdiff(d0=None, d=None):\n",
    "        df = d['df']\n",
    "        df.index = d0['df'].index\n",
    "        display.display(df - d0['df'])\n",
    "        print('Table.', 'Fluxes.', \n",
    "              '({}) - ({})'.format(d['label'], d0['label']))\n",
    "        \n",
    "    show_tb(benchmark)\n",
    "    for d in others:\n",
    "        show_tb(d)\n",
    "        \n",
    "    for d in others:\n",
    "        show_tbdiff(d=d, d0=benchmark)\n",
    "        \n",
    "        \n",
    "def script_tb_flux():\n",
    "    data = tbdata_flux(ds_flux=DS_FLUX,\n",
    "                       ds_flux_crd=DS_FLUX_CRD,\n",
    "                       ds_flux_wgt=DS_FLUX_WGT)\n",
    "    tb_flux(tbdata=data)"
   ]
  },
  {
   "cell_type": "code",
   "execution_count": 10,
   "metadata": {
    "collapsed": true
   },
   "outputs": [],
   "source": [
    "def band_map():\n",
    "    '''\n",
    "    Maps spectral bands in lblnew to spectral bands in clirad.\n",
    "    '''\n",
    "    lblnew2clirad = {'1': '1',\n",
    "            '2': '2',\n",
    "            '3a': '3',\n",
    "            '3b': '4',\n",
    "            '3c': '5',\n",
    "            '4': '6', \n",
    "            '5': '7',\n",
    "            '6': '8',\n",
    "            '7': '9', \n",
    "            '8': '10',\n",
    "            '9': '11'}\n",
    "    \n",
    "    clirad2lblnew = {clirad: lblnew \n",
    "                     for lblnew, clirad in lblnew2clirad.items()}\n",
    "    return clirad2lblnew\n",
    "\n",
    "\n",
    "def gasbands():\n",
    "    bmap = band_map()\n",
    "    gases = list(PARAM['molecule'].keys())\n",
    "    \n",
    "    bands = [bmap[str(b)] for b in PARAM['band']]\n",
    "    return list(itertools.product(gases, bands))\n",
    "\n",
    "\n",
    "def print_bestfit_params():\n",
    "    print('Best-fit values for each (gas, band)')\n",
    "    print('------------------------------------')\n",
    "    for gas, band in gasbands():\n",
    "        print('o {} band{}'.format(gas, band))\n",
    "        param = bestfits.kdist_params(molecule=gas, band=band)\n",
    "        for name, value in sorted(param.items()):\n",
    "            print(2 * ' ' + '{} = {}'.format(name, value))\n",
    "\n",
    "        \n",
    "def print_input_param():        \n",
    "    for name, value in PARAM.items():\n",
    "        print('{} = {}'.format(name, value))\n",
    "        \n",
    "        \n",
    "def print_lblnew_param():\n",
    "    for name, value in sorted(PARAM_LBLNEW.items()):\n",
    "        print('{} = {}'.format(name, value))\n"
   ]
  },
  {
   "cell_type": "code",
   "execution_count": 11,
   "metadata": {
    "collapsed": true,
    "scrolled": false
   },
   "outputs": [],
   "source": [
    "def show_html(s):\n",
    "    display.display(display.HTML(s))\n",
    "\n",
    "    \n",
    "def show_markdown(s):\n",
    "    display.display(display.Markdown(s))\n",
    "\n",
    "    \n",
    "def script():\n",
    "    \n",
    "    title = '### CLIRAD-LW'\n",
    "    s_input = 'Input Parameters'\n",
    "    s_lblnew_param = 'LBLNEW case compaired against'\n",
    "    s_bestfits = 'Best-fit Parameters'\n",
    "    s_plt_cooling = 'Cooling Rate Profiles'\n",
    "    s_tb_flux = 'Flux Comparison'\n",
    "    \n",
    "    # title\n",
    "    show_markdown('### CLIRAD-LW')\n",
    "    \n",
    "    # TOC\n",
    "    show_markdown('### Table of Contents')\n",
    "    show_html(climahtml.getHTML_hrefanchor(s_input))\n",
    "    show_html(climahtml.getHTML_hrefanchor(s_lblnew_param))\n",
    "    show_html(climahtml.getHTML_hrefanchor(s_plt_cooling))\n",
    "    show_html(climahtml.getHTML_hrefanchor(s_tb_flux))\n",
    "    show_html(climahtml.getHTML_hrefanchor(s_bestfits))\n",
    "    \n",
    "    # Input parameters\n",
    "    show_html(climahtml.getHTML_idanchor(s_input))\n",
    "    show_markdown(climahtml.getMarkdown_sectitle(s_input))\n",
    "    print_input_param()\n",
    "    \n",
    "    # LBLNEW parameters \n",
    "    show_html(climahtml.getHTML_idanchor(s_lblnew_param))\n",
    "    show_markdown(climahtml.getMarkdown_sectitle(s_lblnew_param))\n",
    "    print_lblnew_param()\n",
    "    \n",
    "    # Cooling rate profiles\n",
    "    show_html(climahtml.getHTML_idanchor(s_plt_cooling))\n",
    "    show_markdown(climahtml.getMarkdown_sectitle(s_plt_cooling))\n",
    "    script_plt_cooling()\n",
    "    \n",
    "    # Flux comparison\n",
    "    show_html(climahtml.getHTML_idanchor(s_tb_flux))\n",
    "    show_markdown(climahtml.getMarkdown_sectitle(s_tb_flux))\n",
    "    script_tb_flux()\n",
    "    \n",
    "    # Best-fit values\n",
    "    show_html(climahtml.getHTML_idanchor(s_bestfits))\n",
    "    show_markdown(climahtml.getMarkdown_sectitle(s_bestfits))\n",
    "    print_bestfit_params()\n",
    "   \n",
    "    "
   ]
  },
  {
   "cell_type": "code",
   "execution_count": 12,
   "metadata": {
    "collapsed": true,
    "scrolled": false
   },
   "outputs": [
    {
     "data": {
      "text/markdown": [
       "### CLIRAD-LW"
      ],
      "text/plain": [
       "<IPython.core.display.Markdown object>"
      ]
     },
     "metadata": {},
     "output_type": "display_data"
    },
    {
     "data": {
      "text/markdown": [
       "### Table of Contents"
      ],
      "text/plain": [
       "<IPython.core.display.Markdown object>"
      ]
     },
     "metadata": {},
     "output_type": "display_data"
    },
    {
     "data": {
      "text/html": [
       "<a href=\"#Input_Parameters\">Input Parameters</a>"
      ],
      "text/plain": [
       "<IPython.core.display.HTML object>"
      ]
     },
     "metadata": {},
     "output_type": "display_data"
    },
    {
     "data": {
      "text/html": [
       "<a href=\"#LBLNEW_case_compaired_against\">LBLNEW case compaired against</a>"
      ],
      "text/plain": [
       "<IPython.core.display.HTML object>"
      ]
     },
     "metadata": {},
     "output_type": "display_data"
    },
    {
     "data": {
      "text/html": [
       "<a href=\"#Cooling_Rate_Profiles\">Cooling Rate Profiles</a>"
      ],
      "text/plain": [
       "<IPython.core.display.HTML object>"
      ]
     },
     "metadata": {},
     "output_type": "display_data"
    },
    {
     "data": {
      "text/html": [
       "<a href=\"#Flux_Comparison\">Flux Comparison</a>"
      ],
      "text/plain": [
       "<IPython.core.display.HTML object>"
      ]
     },
     "metadata": {},
     "output_type": "display_data"
    },
    {
     "data": {
      "text/html": [
       "<a href=\"#Best-fit_Parameters\">Best-fit Parameters</a>"
      ],
      "text/plain": [
       "<IPython.core.display.HTML object>"
      ]
     },
     "metadata": {},
     "output_type": "display_data"
    },
    {
     "data": {
      "text/html": [
       "<a id=\"Input_Parameters\"></a>"
      ],
      "text/plain": [
       "<IPython.core.display.HTML object>"
      ]
     },
     "metadata": {},
     "output_type": "display_data"
    },
    {
     "data": {
      "text/markdown": [
       "# Input Parameters"
      ],
      "text/plain": [
       "<IPython.core.display.Markdown object>"
      ]
     },
     "metadata": {},
     "output_type": "display_data"
    },
    {
     "name": "stdout",
     "output_type": "stream",
     "text": [
      "atmpro = saw\n",
      "band = [3]\n",
      "commitnumber = de5d43e\n",
      "molecule = {'n2o': 3.2e-07}\n",
      "tsfc = 257\n"
     ]
    },
    {
     "data": {
      "text/html": [
       "<a id=\"LBLNEW_case_compaired_against\"></a>"
      ],
      "text/plain": [
       "<IPython.core.display.HTML object>"
      ]
     },
     "metadata": {},
     "output_type": "display_data"
    },
    {
     "data": {
      "text/markdown": [
       "# LBLNEW case compaired against"
      ],
      "text/plain": [
       "<IPython.core.display.Markdown object>"
      ]
     },
     "metadata": {},
     "output_type": "display_data"
    },
    {
     "name": "stdout",
     "output_type": "stream",
     "text": [
      "atmpro = saw\n",
      "band = 3a\n",
      "commitnumber = 5014a19\n",
      "conc = 3.2e-07\n",
      "dv = 0.001\n",
      "klin = 2.22e-20\n",
      "molecule = n2o\n",
      "ng_adju = [0, 0]\n",
      "ng_refs = [1, 2]\n",
      "nv = 1000\n",
      "option_compute_btable = 0\n",
      "option_compute_ktable = 0\n",
      "option_wgt_flux = 1\n",
      "option_wgt_k = 1\n",
      "ref_pts = [(1, 250), (500, 250)]\n",
      "tsfc = 257\n",
      "vmax = 620\n",
      "vmin = 540\n",
      "w_diffuse = [(1.8,), (1.66, 1.8)]\n",
      "wgt = [(0.9,), (0.5, 0.95)]\n"
     ]
    },
    {
     "data": {
      "text/html": [
       "<a id=\"Cooling_Rate_Profiles\"></a>"
      ],
      "text/plain": [
       "<IPython.core.display.HTML object>"
      ]
     },
     "metadata": {},
     "output_type": "display_data"
    },
    {
     "data": {
      "text/markdown": [
       "# Cooling Rate Profiles"
      ],
      "text/plain": [
       "<IPython.core.display.Markdown object>"
      ]
     },
     "metadata": {},
     "output_type": "display_data"
    },
    {
     "data": {
      "text/html": [
       "\n",
       "<div class=\"bk-root\">\n",
       "    <div class=\"bk-plotdiv\" id=\"7b61e06f-4d55-48b6-9da7-f2db54c8e443\"></div>\n",
       "</div>"
      ]
     },
     "metadata": {},
     "output_type": "display_data"
    },
    {
     "data": {
      "application/javascript": [
       "(function(root) {\n",
       "  function embed_document(root) {\n",
       "    \n",
       "  var docs_json = {\"36f7e47e-8932-416c-ab30-1bb1e436d92e\":{\"roots\":{\"references\":[{\"attributes\":{},\"id\":\"f7b4b491-a076-44aa-b4d3-493e9528e582\",\"type\":\"Selection\"},{\"attributes\":{\"toolbar\":{\"id\":\"af6e8a9e-e4da-48e6-bbd8-84cd565cd262\",\"type\":\"ProxyToolbar\"},\"toolbar_location\":\"above\"},\"id\":\"4001571b-40b1-4c9f-a1a3-f623d2d95455\",\"type\":\"ToolbarBox\"},{\"attributes\":{\"data_source\":{\"id\":\"8b414397-10fd-4193-9b96-d428bd753fc1\",\"type\":\"ColumnDataSource\"},\"glyph\":{\"id\":\"0382e601-a674-4cbe-8283-102b4a9a0a76\",\"type\":\"Square\"},\"hover_glyph\":null,\"muted_glyph\":null,\"nonselection_glyph\":{\"id\":\"e6de1e2d-da99-4444-82f7-1d20afb366db\",\"type\":\"Square\"},\"selection_glyph\":null,\"view\":{\"id\":\"7465af79-6cce-4c37-9fb0-d347f921b07a\",\"type\":\"CDSView\"}},\"id\":\"29c035f9-7e45-4b35-9181-5cb2959bb1f9\",\"type\":\"GlyphRenderer\"},{\"attributes\":{},\"id\":\"90d48bc2-6b18-4351-b588-d3583d3441ea\",\"type\":\"UnionRenderers\"},{\"attributes\":{},\"id\":\"320301d3-7686-4301-a776-db0936281fd2\",\"type\":\"Selection\"},{\"attributes\":{\"data_source\":{\"id\":\"6241b4f8-ad09-4659-b598-da78c501f4a1\",\"type\":\"ColumnDataSource\"},\"glyph\":{\"id\":\"2a5bae8b-26c2-4616-82f5-dfc974ccbb13\",\"type\":\"Line\"},\"hover_glyph\":null,\"muted_glyph\":null,\"nonselection_glyph\":{\"id\":\"e0f321fd-24da-43f9-9ecb-0e7db7fbd0a2\",\"type\":\"Line\"},\"selection_glyph\":null,\"view\":{\"id\":\"f1f3ea4f-f881-4aba-827a-3c522adb17ab\",\"type\":\"CDSView\"}},\"id\":\"5a369205-450b-4424-af97-ed4480067b86\",\"type\":\"GlyphRenderer\"},{\"attributes\":{},\"id\":\"3f24c7c6-9e22-4ab9-a103-073c471e9309\",\"type\":\"UnionRenderers\"},{\"attributes\":{},\"id\":\"d924ca1f-bf0d-4775-a7b7-dd9cefcfce17\",\"type\":\"Selection\"},{\"attributes\":{},\"id\":\"eb8e930d-23ec-4e65-a0c5-83f749a3baa7\",\"type\":\"UnionRenderers\"},{\"attributes\":{},\"id\":\"3de30f33-786c-484c-8d56-44a49f11acbc\",\"type\":\"ResetTool\"},{\"attributes\":{},\"id\":\"89f8ce64-1369-4c49-914d-b0b83e4778d5\",\"type\":\"Selection\"},{\"attributes\":{},\"id\":\"042d9b19-fd63-4728-a7ff-c2309da00fdc\",\"type\":\"UnionRenderers\"},{\"attributes\":{\"tools\":[{\"id\":\"e44c4c41-a011-4458-ba53-fc327a27be74\",\"type\":\"PanTool\"},{\"id\":\"681f4462-2b97-4d21-905c-3e8c8fe6786a\",\"type\":\"WheelZoomTool\"},{\"id\":\"5daf567b-3029-4d3a-a470-90a9d55385c9\",\"type\":\"BoxZoomTool\"},{\"id\":\"840d2515-4a1e-4c90-846a-789184560579\",\"type\":\"SaveTool\"},{\"id\":\"f6cc1c92-9ca0-4d65-9ba4-a3e8e4aab410\",\"type\":\"ResetTool\"},{\"id\":\"c6b6be9f-55c9-4851-ad4a-806c734f088b\",\"type\":\"HelpTool\"},{\"id\":\"fbd01207-7595-4c2f-b658-e67cff4bc455\",\"type\":\"PanTool\"},{\"id\":\"677e4aaf-c8c5-4bac-8c80-f213023a5271\",\"type\":\"WheelZoomTool\"},{\"id\":\"f0371add-a13d-49c0-8f61-1c6283d29482\",\"type\":\"BoxZoomTool\"},{\"id\":\"19bbbced-d8a9-47fc-b13b-a72ed12962bf\",\"type\":\"SaveTool\"},{\"id\":\"3de30f33-786c-484c-8d56-44a49f11acbc\",\"type\":\"ResetTool\"},{\"id\":\"549d15f5-12b6-4fc7-a4c6-8a48295307d0\",\"type\":\"HelpTool\"}]},\"id\":\"af6e8a9e-e4da-48e6-bbd8-84cd565cd262\",\"type\":\"ProxyToolbar\"},{\"attributes\":{\"callback\":null,\"end\":0.01,\"start\":1020},\"id\":\"12b8f50f-db9c-4502-98fb-cb1a6388d443\",\"type\":\"Range1d\"},{\"attributes\":{},\"id\":\"1e1a20e1-2ab5-41c1-af35-f35c079876bb\",\"type\":\"Selection\"},{\"attributes\":{\"fill_alpha\":{\"value\":0.7},\"fill_color\":{\"value\":\"#4daf4a\"},\"line_alpha\":{\"value\":0.7},\"line_color\":{\"value\":\"#4daf4a\"},\"x\":{\"field\":\"x\"},\"y\":{\"field\":\"y\"}},\"id\":\"c25fa9bf-c277-449e-a3d3-1184af538aec\",\"type\":\"Circle\"},{\"attributes\":{},\"id\":\"46751f57-ae02-46d1-8bfd-ece31d07ea00\",\"type\":\"UnionRenderers\"},{\"attributes\":{\"children\":[{\"id\":\"4001571b-40b1-4c9f-a1a3-f623d2d95455\",\"type\":\"ToolbarBox\"},{\"id\":\"1bd8f64c-bfaf-44c1-931e-6cef6c49355d\",\"type\":\"Column\"}]},\"id\":\"2a34a31f-39b7-44a8-a7df-495f1a63a878\",\"type\":\"Column\"},{\"attributes\":{\"below\":[{\"id\":\"1d0c13bf-3692-4cff-b136-0146d4638bbb\",\"type\":\"LinearAxis\"}],\"left\":[{\"id\":\"4e4fce3f-2328-49b8-bb4e-a129e4f083d3\",\"type\":\"LogAxis\"}],\"plot_height\":500,\"plot_width\":560,\"renderers\":[{\"id\":\"1d0c13bf-3692-4cff-b136-0146d4638bbb\",\"type\":\"LinearAxis\"},{\"id\":\"45874664-627a-45c6-8867-f76145987260\",\"type\":\"Grid\"},{\"id\":\"4e4fce3f-2328-49b8-bb4e-a129e4f083d3\",\"type\":\"LogAxis\"},{\"id\":\"ab279246-74b5-448f-a2f9-2fb19f15c9d6\",\"type\":\"Grid\"},{\"id\":\"e1b57326-e92d-42f4-896e-48549d9fae7e\",\"type\":\"BoxAnnotation\"},{\"id\":\"011714c7-fb65-47f5-8be5-45996fbb8595\",\"type\":\"GlyphRenderer\"},{\"id\":\"ebfd072f-23bb-4d6d-9cb7-3c321533ec3b\",\"type\":\"GlyphRenderer\"},{\"id\":\"487d6455-7f89-4830-8f28-93bd06bf99f3\",\"type\":\"GlyphRenderer\"},{\"id\":\"29c035f9-7e45-4b35-9181-5cb2959bb1f9\",\"type\":\"GlyphRenderer\"},{\"id\":\"d8251065-044b-49ad-8be5-78bec33f84a8\",\"type\":\"GlyphRenderer\"},{\"id\":\"3a74930c-5a0b-49c1-834a-5421b19424f6\",\"type\":\"Legend\"}],\"right\":[{\"id\":\"3a74930c-5a0b-49c1-834a-5421b19424f6\",\"type\":\"Legend\"}],\"title\":{\"id\":\"6e25771a-cf1e-46ae-ba04-2596908a2c28\",\"type\":\"Title\"},\"toolbar\":{\"id\":\"4b065c43-ba72-4ada-8250-913513a96dea\",\"type\":\"Toolbar\"},\"toolbar_location\":null,\"x_range\":{\"id\":\"95f10170-5b8c-4e04-9466-6bc7972541e1\",\"type\":\"Range1d\"},\"x_scale\":{\"id\":\"e77a030e-0fd3-4c9b-bd3d-896aa9dfb23d\",\"type\":\"LinearScale\"},\"y_range\":{\"id\":\"12b8f50f-db9c-4502-98fb-cb1a6388d443\",\"type\":\"Range1d\"},\"y_scale\":{\"id\":\"5a8f32c0-d411-42ac-aef2-ba6ac41a65c5\",\"type\":\"LogScale\"}},\"id\":\"dab24723-bbbf-417f-92ae-160a106b9d4d\",\"subtype\":\"Figure\",\"type\":\"Plot\"},{\"attributes\":{\"source\":{\"id\":\"cd832714-e4d3-4a02-a159-d43cc3dc42b0\",\"type\":\"ColumnDataSource\"}},\"id\":\"9e5b5a96-efb8-4d39-9d82-fab30120d508\",\"type\":\"CDSView\"},{\"attributes\":{\"items\":[{\"id\":\"daa9e2ff-803e-4d03-bf8e-cf5c7992d6ff\",\"type\":\"LegendItem\"},{\"id\":\"b0ff86ad-e53b-43c4-a926-599b3577e131\",\"type\":\"LegendItem\"},{\"id\":\"248424d8-cb15-4ffa-a0b4-0330a595d55d\",\"type\":\"LegendItem\"}],\"label_text_font_size\":{\"value\":\"8pt\"},\"location\":[10,-30],\"plot\":{\"id\":\"dab24723-bbbf-417f-92ae-160a106b9d4d\",\"subtype\":\"Figure\",\"type\":\"Plot\"}},\"id\":\"3a74930c-5a0b-49c1-834a-5421b19424f6\",\"type\":\"Legend\"},{\"attributes\":{\"data_source\":{\"id\":\"eb235e47-57e7-4e46-be00-03b7e534840d\",\"type\":\"ColumnDataSource\"},\"glyph\":{\"id\":\"c25fa9bf-c277-449e-a3d3-1184af538aec\",\"type\":\"Circle\"},\"hover_glyph\":null,\"muted_glyph\":null,\"nonselection_glyph\":{\"id\":\"593ccb44-4ee3-484b-b336-06cb627003b4\",\"type\":\"Circle\"},\"selection_glyph\":null,\"view\":{\"id\":\"b4d3bf23-a2b1-4c6a-8e8a-31f2694e1991\",\"type\":\"CDSView\"}},\"id\":\"ebfd072f-23bb-4d6d-9cb7-3c321533ec3b\",\"type\":\"GlyphRenderer\"},{\"attributes\":{\"line_alpha\":0.6,\"line_color\":\"#984ea3\",\"line_width\":3,\"x\":{\"field\":\"x\"},\"y\":{\"field\":\"y\"}},\"id\":\"2a5bae8b-26c2-4616-82f5-dfc974ccbb13\",\"type\":\"Line\"},{\"attributes\":{\"line_color\":\"#4daf4a\",\"line_width\":1.5,\"x\":{\"field\":\"x\"},\"y\":{\"field\":\"y\"}},\"id\":\"62cbf382-522d-4b3e-aa02-d890c5b33116\",\"type\":\"Line\"},{\"attributes\":{\"source\":{\"id\":\"eb235e47-57e7-4e46-be00-03b7e534840d\",\"type\":\"ColumnDataSource\"}},\"id\":\"b4d3bf23-a2b1-4c6a-8e8a-31f2694e1991\",\"type\":\"CDSView\"},{\"attributes\":{\"callback\":null,\"data\":{\"x\":{\"__ndarray__\":\"PeUybmRBiD881n+qVOmJP8oE+GbeWY0/2WvYRaB7kD90bA5IpVuSP9FH9MFpTZQ/JmLx+SBQlj88YEm8imKYP619dvMwh5o/UWoqEn2+nD8X0toI+wifP0u/78eDs6A/VfffgiDroT8wh7QxDwejP3SF/yYV6KM/hGYdbnyvpD+q4p1PCHqlPwnTwzdKSKY/R60u1Lgdpz/KQRv5I82nP75zgC6skag/5PlWGE3lpz8HInyUioOlPz9XmySbrqI/mSGFCx73nz9F1g4Z9tKaP7FibJYt7ZU/2+AIQT/FkT8hHL8dQVONP5HTNopcE4g/BwY7HZ0Qgz+y26X6LwN9P3AB/APHQHc/dtY43Q8hdT+lcYWHUvpzP7aIZbWhGHM/sxF4yUoicj/A4mN6rlpwP0tRFMuZJGw/oIScmijPZz/lb756Q4hjPytMrHpjgl4/pMA4DtQxVj9+xx491cBLP55BYE0/Xjs/hk1uFs/PQz9vkX3CXVtbP24/Z+dtT2k/WNobzR1rcj/qZ2ZpAfB3P1D9R2ZuTn0/mXhot+9OgT/qIC6dCuODPzZPTGahUYY/ytJrpua8iD+Jip4gAg+LP7gbARTBL40/kqdIFWRAjz+6R7XWt5aQPxMwzFbWbpE/mNf1elw8kj8awt45VfSSP26VuHIclpM/nIiqEn8xlD9ej5S9PbmUP6C+nfj1OZU/06l7wb+xlT82n3uW9RCWPzWp/+yCWpY/nqoiYwxolj94+NNMnDiWP9CxtjsB05U/Eu3Txz1KlT9UnHqwsL2UP/Tn0xFdI5Q/\",\"dtype\":\"float64\",\"shape\":[75]},\"y\":{\"__ndarray__\":\"GhExyth1ND/Sv8nbtpRIP2vylNV0PVE/aTum7souWD/At0SJ8fVgPw3Iuahxymc/MSNhhJWvcD/bTfBN02d3P2zb5nxnaoA/CD5h5MAGhz8NmeH1TyaQP+zrCsc9p5Y/LbKd76fGnz/bLW5ISEmmPww9YvTcQq8/JV2OstnstT8Er5Y7M8G+P0c+r3jqkcU/5h99k6ZBzj88bCIzFzjVP4enV8oyxN0//yH99nXg5D8qOpLLf0jtP5kqGJXUifQ/c9cS8kHP/D+/DpwzojQEQIEmwoanVwxA4lgXt9HgE0BSSZ2AJuIbQAMJih9jjiNA5q4l5INuK0AwTKYKRj0zQNv5fmq8/DpAaCJseHrtQkB/+zpwzoxKQM3MzMzMeFJAZmZmZmZqWEAAAAAAAFxeQM3MzMzMJmJAmpmZmZkfZUBmZmZmZhhoQDMzMzMzEWtAAAAAAAAKbkBmZmZmZoFwQM3MzMzM/XFAMzMzMzN6c0CamZmZmfZ0QAAAAAAAc3ZAZmZmZmbvd0DNzMzMzGt5QDMzMzMz6HpAmpmZmZlkfEAAAAAAAOF9QGZmZmZmXX9AZmZmZuZsgECamZmZGSuBQM3MzMxM6YFAAAAAAICngkAzMzMzs2WDQGZmZmbmI4RAmpmZmRnihEDNzMzMTKCFQAAAAACAXoZAMzMzM7Mch0BmZmZm5tqHQJqZmZkZmYhAzczMzExXiUAAAAAAgBWKQDMzMzOz04pAZmZmZuaRi0CamZmZGVCMQM3MzMxMDo1AAAAAAIDMjUAzMzMzs4qOQGZmZmbmSI9A\",\"dtype\":\"float64\",\"shape\":[75]}},\"selected\":{\"id\":\"47e628d7-7644-48a2-8657-3f97fa04c542\",\"type\":\"Selection\"},\"selection_policy\":{\"id\":\"3853226d-7509-4142-aa96-1975bd98a4e3\",\"type\":\"UnionRenderers\"}},\"id\":\"6241b4f8-ad09-4659-b598-da78c501f4a1\",\"type\":\"ColumnDataSource\"},{\"attributes\":{\"fill_alpha\":{\"value\":0.1},\"fill_color\":{\"value\":\"#1f77b4\"},\"line_alpha\":{\"value\":0.1},\"line_color\":{\"value\":\"#1f77b4\"},\"x\":{\"field\":\"x\"},\"y\":{\"field\":\"y\"}},\"id\":\"593ccb44-4ee3-484b-b336-06cb627003b4\",\"type\":\"Circle\"},{\"attributes\":{\"fill_alpha\":{\"value\":0.7},\"fill_color\":{\"value\":\"#984ea3\"},\"line_alpha\":{\"value\":0.7},\"line_color\":{\"value\":\"#984ea3\"},\"x\":{\"field\":\"x\"},\"y\":{\"field\":\"y\"}},\"id\":\"86c02ed8-2f4e-4a4d-bf57-9244031422a7\",\"type\":\"Square\"},{\"attributes\":{},\"id\":\"549d15f5-12b6-4fc7-a4c6-8a48295307d0\",\"type\":\"HelpTool\"},{\"attributes\":{\"children\":[{\"id\":\"67b4d9f6-17f6-4417-867f-fb8e67fdb982\",\"type\":\"Row\"}]},\"id\":\"1bd8f64c-bfaf-44c1-931e-6cef6c49355d\",\"type\":\"Column\"},{\"attributes\":{\"callback\":null,\"data\":{\"x\":{\"__ndarray__\":\"PeUybmRBiD881n+qVOmJP8oE+GbeWY0/2WvYRaB7kD90bA5IpVuSP9FH9MFpTZQ/JmLx+SBQlj88YEm8imKYP619dvMwh5o/UWoqEn2+nD8X0toI+wifP0u/78eDs6A/VfffgiDroT8wh7QxDwejP3SF/yYV6KM/hGYdbnyvpD+q4p1PCHqlPwnTwzdKSKY/R60u1Lgdpz/KQRv5I82nP75zgC6skag/5PlWGE3lpz8HInyUioOlPz9XmySbrqI/mSGFCx73nz9F1g4Z9tKaP7FibJYt7ZU/2+AIQT/FkT8hHL8dQVONP5HTNopcE4g/BwY7HZ0Qgz+y26X6LwN9P3AB/APHQHc/dtY43Q8hdT+lcYWHUvpzP7aIZbWhGHM/sxF4yUoicj/A4mN6rlpwP0tRFMuZJGw/oIScmijPZz/lb756Q4hjPytMrHpjgl4/pMA4DtQxVj9+xx491cBLP55BYE0/Xjs/hk1uFs/PQz9vkX3CXVtbP24/Z+dtT2k/WNobzR1rcj/qZ2ZpAfB3P1D9R2ZuTn0/mXhot+9OgT/qIC6dCuODPzZPTGahUYY/ytJrpua8iD+Jip4gAg+LP7gbARTBL40/kqdIFWRAjz+6R7XWt5aQPxMwzFbWbpE/mNf1elw8kj8awt45VfSSP26VuHIclpM/nIiqEn8xlD9ej5S9PbmUP6C+nfj1OZU/06l7wb+xlT82n3uW9RCWPzWp/+yCWpY/nqoiYwxolj94+NNMnDiWP9CxtjsB05U/Eu3Txz1KlT9UnHqwsL2UP/Tn0xFdI5Q/\",\"dtype\":\"float64\",\"shape\":[75]},\"y\":{\"__ndarray__\":\"GhExyth1ND/Sv8nbtpRIP2vylNV0PVE/aTum7souWD/At0SJ8fVgPw3Iuahxymc/MSNhhJWvcD/bTfBN02d3P2zb5nxnaoA/CD5h5MAGhz8NmeH1TyaQP+zrCsc9p5Y/LbKd76fGnz/bLW5ISEmmPww9YvTcQq8/JV2OstnstT8Er5Y7M8G+P0c+r3jqkcU/5h99k6ZBzj88bCIzFzjVP4enV8oyxN0//yH99nXg5D8qOpLLf0jtP5kqGJXUifQ/c9cS8kHP/D+/DpwzojQEQIEmwoanVwxA4lgXt9HgE0BSSZ2AJuIbQAMJih9jjiNA5q4l5INuK0AwTKYKRj0zQNv5fmq8/DpAaCJseHrtQkB/+zpwzoxKQM3MzMzMeFJAZmZmZmZqWEAAAAAAAFxeQM3MzMzMJmJAmpmZmZkfZUBmZmZmZhhoQDMzMzMzEWtAAAAAAAAKbkBmZmZmZoFwQM3MzMzM/XFAMzMzMzN6c0CamZmZmfZ0QAAAAAAAc3ZAZmZmZmbvd0DNzMzMzGt5QDMzMzMz6HpAmpmZmZlkfEAAAAAAAOF9QGZmZmZmXX9AZmZmZuZsgECamZmZGSuBQM3MzMxM6YFAAAAAAICngkAzMzMzs2WDQGZmZmbmI4RAmpmZmRnihEDNzMzMTKCFQAAAAACAXoZAMzMzM7Mch0BmZmZm5tqHQJqZmZkZmYhAzczMzExXiUAAAAAAgBWKQDMzMzOz04pAZmZmZuaRi0CamZmZGVCMQM3MzMxMDo1AAAAAAIDMjUAzMzMzs4qOQGZmZmbmSI9A\",\"dtype\":\"float64\",\"shape\":[75]}},\"selected\":{\"id\":\"d924ca1f-bf0d-4775-a7b7-dd9cefcfce17\",\"type\":\"Selection\"},\"selection_policy\":{\"id\":\"eb8e930d-23ec-4e65-a0c5-83f749a3baa7\",\"type\":\"UnionRenderers\"}},\"id\":\"8b414397-10fd-4193-9b96-d428bd753fc1\",\"type\":\"ColumnDataSource\"},{\"attributes\":{\"source\":{\"id\":\"d230ba86-185b-4e0c-a06b-ce50ce9176f9\",\"type\":\"ColumnDataSource\"}},\"id\":\"150a3e9a-fcb3-4a96-b364-8699d3ab1d6a\",\"type\":\"CDSView\"},{\"attributes\":{},\"id\":\"e77a030e-0fd3-4c9b-bd3d-896aa9dfb23d\",\"type\":\"LinearScale\"},{\"attributes\":{\"callback\":null,\"data\":{\"x\":{\"__ndarray__\":\"kbDDJp8PhD9E4SASn+qFP1aU2NbLxok/zCeTaSDVjT96XAr+bQWRP6RENoMENJM/N/8XHud1lT9vOckc7MmXP5EzkfV7Mpo/KQsxJwCwnD99xy086D+fP8W60uEK8KA/LKY8NNhGoj/V6uCd0nqjP/OVCKCNZqQ/dfPtWssvpT9txMbOcfSlP2zSUTQttqY/Cb/msldzpz9/EvM6Ty2oPwPTtWtMzKg/Vcv+wvDmpz9apRdcQw6lP87aqnqyyKE/QO0BBL2BnT86FUNObPmXP+hAqdIjAZM/mALKjb9Ajj+bQEZ96DuJP/1Ow1KFiIU/VtI9vL0cgj9fo8F6l+N9Px0jR+Unj3o/6nXu6hNIej8F/cvOl+B5P7/nZ3Edn3g/FBhrLmmbdj/l7ZZRHYxzP4iA2FVuCXA/BPAodCu7aT9JJrN7Y+FjP16n4wLvo1w/sNC+YuO7UT/3WtzC59g6P0CtIPItRCm/CVQi9KA/F7/fiXap2nRQPyIdtJQ5CGQ/h8KdAtZubz/bqBZdUyp1P5uHA0j8aHo/aZbVSpl6fz83jKeCbzGCPwMnjzLYkIQ/uOPRti/ahj8+NrDyVwqJPwzZvTiYHYs/ZbzbLMYPjT99yh119dyOP4jYOhqCQZA/shdqSjsAkT+hpzG8uqyRP5xRkCs3SZI/O5EjR4HYkj8B7gphW12TP6CQ4dSu2ZM/dWH/0CdNlD/BS+A+wbGUP1MWXZVG95Q/hN/w/E4FlT+lzKC2Gs2UP6FsRt05WpQ/avMM1SXHkz85eg7CYiiTP0V5yI9Wh5I/\",\"dtype\":\"float64\",\"shape\":[75]},\"y\":{\"__ndarray__\":\"GhExyth1ND/Sv8nbtpRIP2vylNV0PVE/aTum7souWD/At0SJ8fVgPw3Iuahxymc/MSNhhJWvcD/bTfBN02d3P2zb5nxnaoA/CD5h5MAGhz8NmeH1TyaQP+zrCsc9p5Y/LbKd76fGnz/bLW5ISEmmPww9YvTcQq8/JV2OstnstT8Er5Y7M8G+P0c+r3jqkcU/5h99k6ZBzj88bCIzFzjVP4enV8oyxN0//yH99nXg5D8qOpLLf0jtP5kqGJXUifQ/c9cS8kHP/D+/DpwzojQEQIEmwoanVwxA4lgXt9HgE0BSSZ2AJuIbQAMJih9jjiNA5q4l5INuK0AwTKYKRj0zQNv5fmq8/DpAaCJseHrtQkB/+zpwzoxKQM3MzMzMeFJAZmZmZmZqWEAAAAAAAFxeQM3MzMzMJmJAmpmZmZkfZUBmZmZmZhhoQDMzMzMzEWtAAAAAAAAKbkBmZmZmZoFwQM3MzMzM/XFAMzMzMzN6c0CamZmZmfZ0QAAAAAAAc3ZAZmZmZmbvd0DNzMzMzGt5QDMzMzMz6HpAmpmZmZlkfEAAAAAAAOF9QGZmZmZmXX9AZmZmZuZsgECamZmZGSuBQM3MzMxM6YFAAAAAAICngkAzMzMzs2WDQGZmZmbmI4RAmpmZmRnihEDNzMzMTKCFQAAAAACAXoZAMzMzM7Mch0BmZmZm5tqHQJqZmZkZmYhAzczMzExXiUAAAAAAgBWKQDMzMzOz04pAZmZmZuaRi0CamZmZGVCMQM3MzMxMDo1AAAAAAIDMjUAzMzMzs4qOQGZmZmbmSI9A\",\"dtype\":\"float64\",\"shape\":[75]}},\"selected\":{\"id\":\"320301d3-7686-4301-a776-db0936281fd2\",\"type\":\"Selection\"},\"selection_policy\":{\"id\":\"3f24c7c6-9e22-4ab9-a103-073c471e9309\",\"type\":\"UnionRenderers\"}},\"id\":\"eb235e47-57e7-4e46-be00-03b7e534840d\",\"type\":\"ColumnDataSource\"},{\"attributes\":{\"source\":{\"id\":\"6241b4f8-ad09-4659-b598-da78c501f4a1\",\"type\":\"ColumnDataSource\"}},\"id\":\"f1f3ea4f-f881-4aba-827a-3c522adb17ab\",\"type\":\"CDSView\"},{\"attributes\":{},\"id\":\"10266b8b-c751-4e79-b40e-496f10266d93\",\"type\":\"BasicTicker\"},{\"attributes\":{\"line_alpha\":0.1,\"line_color\":\"#1f77b4\",\"line_width\":3,\"x\":{\"field\":\"x\"},\"y\":{\"field\":\"y\"}},\"id\":\"b9ba2f98-64f6-43d1-98a8-471ecd9e3108\",\"type\":\"Line\"},{\"attributes\":{\"axis_label\":\"pressure [mb]\",\"formatter\":{\"id\":\"bf85daa4-ce12-497f-b4c7-7372dbfce45c\",\"type\":\"LogTickFormatter\"},\"plot\":{\"id\":\"dab24723-bbbf-417f-92ae-160a106b9d4d\",\"subtype\":\"Figure\",\"type\":\"Plot\"},\"ticker\":{\"id\":\"8808cfda-63e8-46db-a664-154d562a6c3d\",\"type\":\"LogTicker\"}},\"id\":\"4e4fce3f-2328-49b8-bb4e-a129e4f083d3\",\"type\":\"LogAxis\"},{\"attributes\":{\"plot\":{\"id\":\"dab24723-bbbf-417f-92ae-160a106b9d4d\",\"subtype\":\"Figure\",\"type\":\"Plot\"},\"ticker\":{\"id\":\"10266b8b-c751-4e79-b40e-496f10266d93\",\"type\":\"BasicTicker\"}},\"id\":\"45874664-627a-45c6-8867-f76145987260\",\"type\":\"Grid\"},{\"attributes\":{\"fill_alpha\":{\"value\":0.1},\"fill_color\":{\"value\":\"#1f77b4\"},\"line_alpha\":{\"value\":0.1},\"line_color\":{\"value\":\"#1f77b4\"},\"x\":{\"field\":\"x\"},\"y\":{\"field\":\"y\"}},\"id\":\"ed1fae6f-9f51-4a57-8372-3d9737424fc4\",\"type\":\"Square\"},{\"attributes\":{\"plot\":null,\"text\":\"Log pressure scale\"},\"id\":\"6e25771a-cf1e-46ae-ba04-2596908a2c28\",\"type\":\"Title\"},{\"attributes\":{},\"id\":\"677e4aaf-c8c5-4bac-8c80-f213023a5271\",\"type\":\"WheelZoomTool\"},{\"attributes\":{\"overlay\":{\"id\":\"e1b57326-e92d-42f4-896e-48549d9fae7e\",\"type\":\"BoxAnnotation\"}},\"id\":\"f0371add-a13d-49c0-8f61-1c6283d29482\",\"type\":\"BoxZoomTool\"},{\"attributes\":{\"num_minor_ticks\":10},\"id\":\"8808cfda-63e8-46db-a664-154d562a6c3d\",\"type\":\"LogTicker\"},{\"attributes\":{\"callback\":null,\"data\":{\"x\":{\"__ndarray__\":\"kbDDJp8PhD9E4SASn+qFP1aU2NbLxok/zCeTaSDVjT96XAr+bQWRP6RENoMENJM/N/8XHud1lT9vOckc7MmXP5EzkfV7Mpo/KQsxJwCwnD99xy086D+fP8W60uEK8KA/LKY8NNhGoj/V6uCd0nqjP/OVCKCNZqQ/dfPtWssvpT9txMbOcfSlP2zSUTQttqY/Cb/msldzpz9/EvM6Ty2oPwPTtWtMzKg/Vcv+wvDmpz9apRdcQw6lP87aqnqyyKE/QO0BBL2BnT86FUNObPmXP+hAqdIjAZM/mALKjb9Ajj+bQEZ96DuJP/1Ow1KFiIU/VtI9vL0cgj9fo8F6l+N9Px0jR+Unj3o/6nXu6hNIej8F/cvOl+B5P7/nZ3Edn3g/FBhrLmmbdj/l7ZZRHYxzP4iA2FVuCXA/BPAodCu7aT9JJrN7Y+FjP16n4wLvo1w/sNC+YuO7UT/3WtzC59g6P0CtIPItRCm/CVQi9KA/F7/fiXap2nRQPyIdtJQ5CGQ/h8KdAtZubz/bqBZdUyp1P5uHA0j8aHo/aZbVSpl6fz83jKeCbzGCPwMnjzLYkIQ/uOPRti/ahj8+NrDyVwqJPwzZvTiYHYs/ZbzbLMYPjT99yh119dyOP4jYOhqCQZA/shdqSjsAkT+hpzG8uqyRP5xRkCs3SZI/O5EjR4HYkj8B7gphW12TP6CQ4dSu2ZM/dWH/0CdNlD/BS+A+wbGUP1MWXZVG95Q/hN/w/E4FlT+lzKC2Gs2UP6FsRt05WpQ/avMM1SXHkz85eg7CYiiTP0V5yI9Wh5I/\",\"dtype\":\"float64\",\"shape\":[75]},\"y\":{\"__ndarray__\":\"GhExyth1ND/Sv8nbtpRIP2vylNV0PVE/aTum7souWD/At0SJ8fVgPw3Iuahxymc/MSNhhJWvcD/bTfBN02d3P2zb5nxnaoA/CD5h5MAGhz8NmeH1TyaQP+zrCsc9p5Y/LbKd76fGnz/bLW5ISEmmPww9YvTcQq8/JV2OstnstT8Er5Y7M8G+P0c+r3jqkcU/5h99k6ZBzj88bCIzFzjVP4enV8oyxN0//yH99nXg5D8qOpLLf0jtP5kqGJXUifQ/c9cS8kHP/D+/DpwzojQEQIEmwoanVwxA4lgXt9HgE0BSSZ2AJuIbQAMJih9jjiNA5q4l5INuK0AwTKYKRj0zQNv5fmq8/DpAaCJseHrtQkB/+zpwzoxKQM3MzMzMeFJAZmZmZmZqWEAAAAAAAFxeQM3MzMzMJmJAmpmZmZkfZUBmZmZmZhhoQDMzMzMzEWtAAAAAAAAKbkBmZmZmZoFwQM3MzMzM/XFAMzMzMzN6c0CamZmZmfZ0QAAAAAAAc3ZAZmZmZmbvd0DNzMzMzGt5QDMzMzMz6HpAmpmZmZlkfEAAAAAAAOF9QGZmZmZmXX9AZmZmZuZsgECamZmZGSuBQM3MzMxM6YFAAAAAAICngkAzMzMzs2WDQGZmZmbmI4RAmpmZmRnihEDNzMzMTKCFQAAAAACAXoZAMzMzM7Mch0BmZmZm5tqHQJqZmZkZmYhAzczMzExXiUAAAAAAgBWKQDMzMzOz04pAZmZmZuaRi0CamZmZGVCMQM3MzMxMDo1AAAAAAIDMjUAzMzMzs4qOQGZmZmbmSI9A\",\"dtype\":\"float64\",\"shape\":[75]}},\"selected\":{\"id\":\"89f8ce64-1369-4c49-914d-b0b83e4778d5\",\"type\":\"Selection\"},\"selection_policy\":{\"id\":\"042d9b19-fd63-4728-a7ff-c2309da00fdc\",\"type\":\"UnionRenderers\"}},\"id\":\"d0ec838a-5cde-4e12-afd6-a84b9277f323\",\"type\":\"ColumnDataSource\"},{\"attributes\":{\"bottom_units\":\"screen\",\"fill_alpha\":{\"value\":0.5},\"fill_color\":{\"value\":\"lightgrey\"},\"left_units\":\"screen\",\"level\":\"overlay\",\"line_alpha\":{\"value\":1.0},\"line_color\":{\"value\":\"black\"},\"line_dash\":[4,4],\"line_width\":{\"value\":2},\"plot\":null,\"render_mode\":\"css\",\"right_units\":\"screen\",\"top_units\":\"screen\"},\"id\":\"e1b57326-e92d-42f4-896e-48549d9fae7e\",\"type\":\"BoxAnnotation\"},{\"attributes\":{\"line_alpha\":0.1,\"line_color\":\"#1f77b4\",\"line_width\":1.5,\"x\":{\"field\":\"x\"},\"y\":{\"field\":\"y\"}},\"id\":\"33d79031-dc94-49ac-bd90-44595e95805f\",\"type\":\"Line\"},{\"attributes\":{\"line_alpha\":0.1,\"line_color\":\"#1f77b4\",\"line_width\":3,\"x\":{\"field\":\"x\"},\"y\":{\"field\":\"y\"}},\"id\":\"e0f321fd-24da-43f9-9ecb-0e7db7fbd0a2\",\"type\":\"Line\"},{\"attributes\":{\"data_source\":{\"id\":\"d0ec838a-5cde-4e12-afd6-a84b9277f323\",\"type\":\"ColumnDataSource\"},\"glyph\":{\"id\":\"62cbf382-522d-4b3e-aa02-d890c5b33116\",\"type\":\"Line\"},\"hover_glyph\":null,\"muted_glyph\":null,\"nonselection_glyph\":{\"id\":\"33d79031-dc94-49ac-bd90-44595e95805f\",\"type\":\"Line\"},\"selection_glyph\":null,\"view\":{\"id\":\"251bcd1b-1ba6-41d6-b94f-2922001ea3df\",\"type\":\"CDSView\"}},\"id\":\"487d6455-7f89-4830-8f28-93bd06bf99f3\",\"type\":\"GlyphRenderer\"},{\"attributes\":{},\"id\":\"5a8f32c0-d411-42ac-aef2-ba6ac41a65c5\",\"type\":\"LogScale\"},{\"attributes\":{\"source\":{\"id\":\"d0ec838a-5cde-4e12-afd6-a84b9277f323\",\"type\":\"ColumnDataSource\"}},\"id\":\"251bcd1b-1ba6-41d6-b94f-2922001ea3df\",\"type\":\"CDSView\"},{\"attributes\":{\"fill_alpha\":{\"value\":0.7},\"fill_color\":{\"value\":\"#984ea3\"},\"line_alpha\":{\"value\":0.7},\"line_color\":{\"value\":\"#984ea3\"},\"x\":{\"field\":\"x\"},\"y\":{\"field\":\"y\"}},\"id\":\"0382e601-a674-4cbe-8283-102b4a9a0a76\",\"type\":\"Square\"},{\"attributes\":{\"data_source\":{\"id\":\"a07c9bfd-a972-4948-9dd2-e6246042aae3\",\"type\":\"ColumnDataSource\"},\"glyph\":{\"id\":\"e84afc5f-01e2-4206-ad9f-776e1a8962bb\",\"type\":\"Line\"},\"hover_glyph\":null,\"muted_glyph\":null,\"nonselection_glyph\":{\"id\":\"b9ba2f98-64f6-43d1-98a8-471ecd9e3108\",\"type\":\"Line\"},\"selection_glyph\":null,\"view\":{\"id\":\"764a059f-2dd5-4d8e-b485-25b57498de70\",\"type\":\"CDSView\"}},\"id\":\"d8251065-044b-49ad-8be5-78bec33f84a8\",\"type\":\"GlyphRenderer\"},{\"attributes\":{\"axis_label\":\"cooling rate [K/day]\",\"formatter\":{\"id\":\"dfc47356-5300-4606-ac1e-83debe7f550c\",\"type\":\"BasicTickFormatter\"},\"plot\":{\"id\":\"dab24723-bbbf-417f-92ae-160a106b9d4d\",\"subtype\":\"Figure\",\"type\":\"Plot\"},\"ticker\":{\"id\":\"10266b8b-c751-4e79-b40e-496f10266d93\",\"type\":\"BasicTicker\"}},\"id\":\"1d0c13bf-3692-4cff-b136-0146d4638bbb\",\"type\":\"LinearAxis\"},{\"attributes\":{\"line_alpha\":0.6,\"line_color\":\"#984ea3\",\"line_width\":3,\"x\":{\"field\":\"x\"},\"y\":{\"field\":\"y\"}},\"id\":\"e84afc5f-01e2-4206-ad9f-776e1a8962bb\",\"type\":\"Line\"},{\"attributes\":{\"source\":{\"id\":\"a07c9bfd-a972-4948-9dd2-e6246042aae3\",\"type\":\"ColumnDataSource\"}},\"id\":\"764a059f-2dd5-4d8e-b485-25b57498de70\",\"type\":\"CDSView\"},{\"attributes\":{\"callback\":null,\"data\":{\"x\":{\"__ndarray__\":\"PeUybmRBiD881n+qVOmJP8oE+GbeWY0/2WvYRaB7kD90bA5IpVuSP9FH9MFpTZQ/JmLx+SBQlj88YEm8imKYP619dvMwh5o/UWoqEn2+nD8X0toI+wifP0u/78eDs6A/VfffgiDroT8wh7QxDwejP3SF/yYV6KM/hGYdbnyvpD+q4p1PCHqlPwnTwzdKSKY/R60u1Lgdpz/KQRv5I82nP75zgC6skag/5PlWGE3lpz8HInyUioOlPz9XmySbrqI/mSGFCx73nz9F1g4Z9tKaP7FibJYt7ZU/2+AIQT/FkT8hHL8dQVONP5HTNopcE4g/BwY7HZ0Qgz+y26X6LwN9P3AB/APHQHc/dtY43Q8hdT+lcYWHUvpzP7aIZbWhGHM/sxF4yUoicj/A4mN6rlpwP0tRFMuZJGw/oIScmijPZz/lb756Q4hjPytMrHpjgl4/pMA4DtQxVj9+xx491cBLP55BYE0/Xjs/hk1uFs/PQz9vkX3CXVtbP24/Z+dtT2k/WNobzR1rcj/qZ2ZpAfB3P1D9R2ZuTn0/mXhot+9OgT/qIC6dCuODPzZPTGahUYY/ytJrpua8iD+Jip4gAg+LP7gbARTBL40/kqdIFWRAjz+6R7XWt5aQPxMwzFbWbpE/mNf1elw8kj8awt45VfSSP26VuHIclpM/nIiqEn8xlD9ej5S9PbmUP6C+nfj1OZU/06l7wb+xlT82n3uW9RCWPzWp/+yCWpY/nqoiYwxolj94+NNMnDiWP9CxtjsB05U/Eu3Txz1KlT9UnHqwsL2UP/Tn0xFdI5Q/\",\"dtype\":\"float64\",\"shape\":[75]},\"y\":{\"__ndarray__\":\"GhExyth1ND/Sv8nbtpRIP2vylNV0PVE/aTum7souWD/At0SJ8fVgPw3Iuahxymc/MSNhhJWvcD/bTfBN02d3P2zb5nxnaoA/CD5h5MAGhz8NmeH1TyaQP+zrCsc9p5Y/LbKd76fGnz/bLW5ISEmmPww9YvTcQq8/JV2OstnstT8Er5Y7M8G+P0c+r3jqkcU/5h99k6ZBzj88bCIzFzjVP4enV8oyxN0//yH99nXg5D8qOpLLf0jtP5kqGJXUifQ/c9cS8kHP/D+/DpwzojQEQIEmwoanVwxA4lgXt9HgE0BSSZ2AJuIbQAMJih9jjiNA5q4l5INuK0AwTKYKRj0zQNv5fmq8/DpAaCJseHrtQkB/+zpwzoxKQM3MzMzMeFJAZmZmZmZqWEAAAAAAAFxeQM3MzMzMJmJAmpmZmZkfZUBmZmZmZhhoQDMzMzMzEWtAAAAAAAAKbkBmZmZmZoFwQM3MzMzM/XFAMzMzMzN6c0CamZmZmfZ0QAAAAAAAc3ZAZmZmZmbvd0DNzMzMzGt5QDMzMzMz6HpAmpmZmZlkfEAAAAAAAOF9QGZmZmZmXX9AZmZmZuZsgECamZmZGSuBQM3MzMxM6YFAAAAAAICngkAzMzMzs2WDQGZmZmbmI4RAmpmZmRnihEDNzMzMTKCFQAAAAACAXoZAMzMzM7Mch0BmZmZm5tqHQJqZmZkZmYhAzczMzExXiUAAAAAAgBWKQDMzMzOz04pAZmZmZuaRi0CamZmZGVCMQM3MzMxMDo1AAAAAAIDMjUAzMzMzs4qOQGZmZmbmSI9A\",\"dtype\":\"float64\",\"shape\":[75]}},\"selected\":{\"id\":\"1e1a20e1-2ab5-41c1-af35-f35c079876bb\",\"type\":\"Selection\"},\"selection_policy\":{\"id\":\"46751f57-ae02-46d1-8bfd-ece31d07ea00\",\"type\":\"UnionRenderers\"}},\"id\":\"a07c9bfd-a972-4948-9dd2-e6246042aae3\",\"type\":\"ColumnDataSource\"},{\"attributes\":{\"children\":[{\"id\":\"9533a372-28d1-41f9-b886-5e2ac557f9ab\",\"subtype\":\"Figure\",\"type\":\"Plot\"},{\"id\":\"dab24723-bbbf-417f-92ae-160a106b9d4d\",\"subtype\":\"Figure\",\"type\":\"Plot\"}]},\"id\":\"67b4d9f6-17f6-4417-867f-fb8e67fdb982\",\"type\":\"Row\"},{\"attributes\":{\"callback\":null,\"end\":0.048898929892,\"start\":0.001442828908},\"id\":\"95f10170-5b8c-4e04-9466-6bc7972541e1\",\"type\":\"Range1d\"},{\"attributes\":{},\"id\":\"dfc47356-5300-4606-ac1e-83debe7f550c\",\"type\":\"BasicTickFormatter\"},{\"attributes\":{\"line_alpha\":0.1,\"line_color\":\"#1f77b4\",\"line_dash\":[6],\"line_width\":5,\"x\":{\"field\":\"x\"},\"y\":{\"field\":\"y\"}},\"id\":\"c72312ea-8428-47a4-a03d-2efac393d5c7\",\"type\":\"Line\"},{\"attributes\":{\"source\":{\"id\":\"8b414397-10fd-4193-9b96-d428bd753fc1\",\"type\":\"ColumnDataSource\"}},\"id\":\"7465af79-6cce-4c37-9fb0-d347f921b07a\",\"type\":\"CDSView\"},{\"attributes\":{\"label\":{\"value\":\"CLIRAD `coolr_bands`\"},\"renderers\":[{\"id\":\"011714c7-fb65-47f5-8be5-45996fbb8595\",\"type\":\"GlyphRenderer\"}]},\"id\":\"daa9e2ff-803e-4d03-bf8e-cf5c7992d6ff\",\"type\":\"LegendItem\"},{\"attributes\":{},\"id\":\"5f3aba5e-d702-4a8c-80cf-7e79b90485e8\",\"type\":\"UnionRenderers\"},{\"attributes\":{\"label\":{\"value\":\"CRD\"},\"renderers\":[{\"id\":\"ebfd072f-23bb-4d6d-9cb7-3c321533ec3b\",\"type\":\"GlyphRenderer\"},{\"id\":\"487d6455-7f89-4830-8f28-93bd06bf99f3\",\"type\":\"GlyphRenderer\"}]},\"id\":\"b0ff86ad-e53b-43c4-a926-599b3577e131\",\"type\":\"LegendItem\"},{\"attributes\":{},\"id\":\"9719058e-aab6-4b7f-b60f-6d56c3cd5cba\",\"type\":\"Selection\"},{\"attributes\":{\"active_drag\":\"auto\",\"active_inspect\":\"auto\",\"active_scroll\":\"auto\",\"active_tap\":\"auto\",\"tools\":[{\"id\":\"fbd01207-7595-4c2f-b658-e67cff4bc455\",\"type\":\"PanTool\"},{\"id\":\"677e4aaf-c8c5-4bac-8c80-f213023a5271\",\"type\":\"WheelZoomTool\"},{\"id\":\"f0371add-a13d-49c0-8f61-1c6283d29482\",\"type\":\"BoxZoomTool\"},{\"id\":\"19bbbced-d8a9-47fc-b13b-a72ed12962bf\",\"type\":\"SaveTool\"},{\"id\":\"3de30f33-786c-484c-8d56-44a49f11acbc\",\"type\":\"ResetTool\"},{\"id\":\"549d15f5-12b6-4fc7-a4c6-8a48295307d0\",\"type\":\"HelpTool\"}]},\"id\":\"4b065c43-ba72-4ada-8250-913513a96dea\",\"type\":\"Toolbar\"},{\"attributes\":{\"label\":{\"value\":\"WGT igg=10 wgt_flux=2\"},\"renderers\":[{\"id\":\"29c035f9-7e45-4b35-9181-5cb2959bb1f9\",\"type\":\"GlyphRenderer\"},{\"id\":\"d8251065-044b-49ad-8be5-78bec33f84a8\",\"type\":\"GlyphRenderer\"}]},\"id\":\"248424d8-cb15-4ffa-a0b4-0330a595d55d\",\"type\":\"LegendItem\"},{\"attributes\":{},\"id\":\"f70f8bae-0a19-4f34-a26f-eada2b4d35ab\",\"type\":\"Selection\"},{\"attributes\":{\"dimension\":1,\"plot\":{\"id\":\"dab24723-bbbf-417f-92ae-160a106b9d4d\",\"subtype\":\"Figure\",\"type\":\"Plot\"},\"ticker\":{\"id\":\"8808cfda-63e8-46db-a664-154d562a6c3d\",\"type\":\"LogTicker\"}},\"id\":\"ab279246-74b5-448f-a2f9-2fb19f15c9d6\",\"type\":\"Grid\"},{\"attributes\":{},\"id\":\"1e99896e-3cae-4167-8bf9-e2916443fb37\",\"type\":\"BasicTickFormatter\"},{\"attributes\":{},\"id\":\"f4f0b119-c081-4609-9723-cdec197a4d40\",\"type\":\"BasicTickFormatter\"},{\"attributes\":{},\"id\":\"48aed314-8cf3-4e71-ae7f-dacfe4d3a020\",\"type\":\"Selection\"},{\"attributes\":{\"ticker\":null},\"id\":\"bf85daa4-ce12-497f-b4c7-7372dbfce45c\",\"type\":\"LogTickFormatter\"},{\"attributes\":{},\"id\":\"60ee557e-f365-4d1e-beac-54636504f94c\",\"type\":\"UnionRenderers\"},{\"attributes\":{},\"id\":\"fbd01207-7595-4c2f-b658-e67cff4bc455\",\"type\":\"PanTool\"},{\"attributes\":{},\"id\":\"e53aa069-5e69-43aa-8109-d5dc179af399\",\"type\":\"UnionRenderers\"},{\"attributes\":{},\"id\":\"0d39c0b1-e3f7-4b13-b54e-37edfdd32af9\",\"type\":\"Selection\"},{\"attributes\":{},\"id\":\"fe40b6d1-aff9-472b-ab28-7b8ef1c0d913\",\"type\":\"UnionRenderers\"},{\"attributes\":{},\"id\":\"19bbbced-d8a9-47fc-b13b-a72ed12962bf\",\"type\":\"SaveTool\"},{\"attributes\":{},\"id\":\"47e628d7-7644-48a2-8657-3f97fa04c542\",\"type\":\"Selection\"},{\"attributes\":{\"data_source\":{\"id\":\"cd832714-e4d3-4a02-a159-d43cc3dc42b0\",\"type\":\"ColumnDataSource\"},\"glyph\":{\"id\":\"86c02ed8-2f4e-4a4d-bf57-9244031422a7\",\"type\":\"Square\"},\"hover_glyph\":null,\"muted_glyph\":null,\"nonselection_glyph\":{\"id\":\"ed1fae6f-9f51-4a57-8372-3d9737424fc4\",\"type\":\"Square\"},\"selection_glyph\":null,\"view\":{\"id\":\"9e5b5a96-efb8-4d39-9d82-fab30120d508\",\"type\":\"CDSView\"}},\"id\":\"0b3861e7-6100-45c0-a717-0f14bc2e1dbb\",\"type\":\"GlyphRenderer\"},{\"attributes\":{},\"id\":\"3853226d-7509-4142-aa96-1975bd98a4e3\",\"type\":\"UnionRenderers\"},{\"attributes\":{\"fill_alpha\":{\"value\":0.1},\"fill_color\":{\"value\":\"#1f77b4\"},\"line_alpha\":{\"value\":0.1},\"line_color\":{\"value\":\"#1f77b4\"},\"x\":{\"field\":\"x\"},\"y\":{\"field\":\"y\"}},\"id\":\"a69542d5-230e-4b62-91b8-ba6f6ea3a670\",\"type\":\"Circle\"},{\"attributes\":{\"callback\":null,\"end\":0.0221020286487,\"start\":-0.0004135073187},\"id\":\"147eb4c7-cc67-4d1d-90e7-28dd45bdc5c3\",\"type\":\"Range1d\"},{\"attributes\":{\"active_drag\":\"auto\",\"active_inspect\":\"auto\",\"active_scroll\":\"auto\",\"active_tap\":\"auto\",\"tools\":[{\"id\":\"e44c4c41-a011-4458-ba53-fc327a27be74\",\"type\":\"PanTool\"},{\"id\":\"681f4462-2b97-4d21-905c-3e8c8fe6786a\",\"type\":\"WheelZoomTool\"},{\"id\":\"5daf567b-3029-4d3a-a470-90a9d55385c9\",\"type\":\"BoxZoomTool\"},{\"id\":\"840d2515-4a1e-4c90-846a-789184560579\",\"type\":\"SaveTool\"},{\"id\":\"f6cc1c92-9ca0-4d65-9ba4-a3e8e4aab410\",\"type\":\"ResetTool\"},{\"id\":\"c6b6be9f-55c9-4851-ad4a-806c734f088b\",\"type\":\"HelpTool\"}]},\"id\":\"a54ba9b5-da69-495d-8c9b-2bcf5c24d63e\",\"type\":\"Toolbar\"},{\"attributes\":{},\"id\":\"e44c4c41-a011-4458-ba53-fc327a27be74\",\"type\":\"PanTool\"},{\"attributes\":{\"source\":{\"id\":\"7c20abdd-b76d-4ccd-a3cf-8b07a3405c83\",\"type\":\"ColumnDataSource\"}},\"id\":\"63be20f4-f6fe-405f-acc2-a6481fb7191d\",\"type\":\"CDSView\"},{\"attributes\":{},\"id\":\"f856fc69-cf70-4850-873e-ac18ee06e7dc\",\"type\":\"LinearScale\"},{\"attributes\":{},\"id\":\"f6cc1c92-9ca0-4d65-9ba4-a3e8e4aab410\",\"type\":\"ResetTool\"},{\"attributes\":{},\"id\":\"681f4462-2b97-4d21-905c-3e8c8fe6786a\",\"type\":\"WheelZoomTool\"},{\"attributes\":{},\"id\":\"840d2515-4a1e-4c90-846a-789184560579\",\"type\":\"SaveTool\"},{\"attributes\":{},\"id\":\"c6b6be9f-55c9-4851-ad4a-806c734f088b\",\"type\":\"HelpTool\"},{\"attributes\":{\"overlay\":{\"id\":\"29ca2d4d-103b-46d1-804c-40038894b9b3\",\"type\":\"BoxAnnotation\"}},\"id\":\"5daf567b-3029-4d3a-a470-90a9d55385c9\",\"type\":\"BoxZoomTool\"},{\"attributes\":{\"line_alpha\":0.1,\"line_color\":\"#1f77b4\",\"line_dash\":[6],\"line_width\":5,\"x\":{\"field\":\"x\"},\"y\":{\"field\":\"y\"}},\"id\":\"0ecb0294-edd2-4148-ac95-2214ddf1035d\",\"type\":\"Line\"},{\"attributes\":{},\"id\":\"04d481f6-5fd8-40fa-836a-8da30b8bd02c\",\"type\":\"LinearScale\"},{\"attributes\":{\"callback\":null,\"data\":{\"x\":{\"__ndarray__\":\"kbDDJp8PhD9E4SASn+qFP1aU2NbLxok/zCeTaSDVjT96XAr+bQWRP6RENoMENJM/N/8XHud1lT9vOckc7MmXP5EzkfV7Mpo/KQsxJwCwnD99xy086D+fP8W60uEK8KA/LKY8NNhGoj/V6uCd0nqjP/OVCKCNZqQ/dfPtWssvpT9txMbOcfSlP2zSUTQttqY/Cb/msldzpz9/EvM6Ty2oPwPTtWtMzKg/Vcv+wvDmpz9apRdcQw6lP87aqnqyyKE/QO0BBL2BnT86FUNObPmXP+hAqdIjAZM/mALKjb9Ajj+bQEZ96DuJP/1Ow1KFiIU/VtI9vL0cgj9fo8F6l+N9Px0jR+Unj3o/6nXu6hNIej8F/cvOl+B5P7/nZ3Edn3g/FBhrLmmbdj/l7ZZRHYxzP4iA2FVuCXA/BPAodCu7aT9JJrN7Y+FjP16n4wLvo1w/sNC+YuO7UT/3WtzC59g6P0CtIPItRCm/CVQi9KA/F7/fiXap2nRQPyIdtJQ5CGQ/h8KdAtZubz/bqBZdUyp1P5uHA0j8aHo/aZbVSpl6fz83jKeCbzGCPwMnjzLYkIQ/uOPRti/ahj8+NrDyVwqJPwzZvTiYHYs/ZbzbLMYPjT99yh119dyOP4jYOhqCQZA/shdqSjsAkT+hpzG8uqyRP5xRkCs3SZI/O5EjR4HYkj8B7gphW12TP6CQ4dSu2ZM/dWH/0CdNlD/BS+A+wbGUP1MWXZVG95Q/hN/w/E4FlT+lzKC2Gs2UP6FsRt05WpQ/avMM1SXHkz85eg7CYiiTP0V5yI9Wh5I/\",\"dtype\":\"float64\",\"shape\":[75]},\"y\":{\"__ndarray__\":\"GhExyth1ND/Sv8nbtpRIP2vylNV0PVE/aTum7souWD/At0SJ8fVgPw3Iuahxymc/MSNhhJWvcD/bTfBN02d3P2zb5nxnaoA/CD5h5MAGhz8NmeH1TyaQP+zrCsc9p5Y/LbKd76fGnz/bLW5ISEmmPww9YvTcQq8/JV2OstnstT8Er5Y7M8G+P0c+r3jqkcU/5h99k6ZBzj88bCIzFzjVP4enV8oyxN0//yH99nXg5D8qOpLLf0jtP5kqGJXUifQ/c9cS8kHP/D+/DpwzojQEQIEmwoanVwxA4lgXt9HgE0BSSZ2AJuIbQAMJih9jjiNA5q4l5INuK0AwTKYKRj0zQNv5fmq8/DpAaCJseHrtQkB/+zpwzoxKQM3MzMzMeFJAZmZmZmZqWEAAAAAAAFxeQM3MzMzMJmJAmpmZmZkfZUBmZmZmZhhoQDMzMzMzEWtAAAAAAAAKbkBmZmZmZoFwQM3MzMzM/XFAMzMzMzN6c0CamZmZmfZ0QAAAAAAAc3ZAZmZmZmbvd0DNzMzMzGt5QDMzMzMz6HpAmpmZmZlkfEAAAAAAAOF9QGZmZmZmXX9AZmZmZuZsgECamZmZGSuBQM3MzMxM6YFAAAAAAICngkAzMzMzs2WDQGZmZmbmI4RAmpmZmRnihEDNzMzMTKCFQAAAAACAXoZAMzMzM7Mch0BmZmZm5tqHQJqZmZkZmYhAzczMzExXiUAAAAAAgBWKQDMzMzOz04pAZmZmZuaRi0CamZmZGVCMQM3MzMxMDo1AAAAAAIDMjUAzMzMzs4qOQGZmZmbmSI9A\",\"dtype\":\"float64\",\"shape\":[75]}},\"selected\":{\"id\":\"0d39c0b1-e3f7-4b13-b54e-37edfdd32af9\",\"type\":\"Selection\"},\"selection_policy\":{\"id\":\"fe40b6d1-aff9-472b-ab28-7b8ef1c0d913\",\"type\":\"UnionRenderers\"}},\"id\":\"5da4c595-647a-4cb6-bbaf-e16c18f84402\",\"type\":\"ColumnDataSource\"},{\"attributes\":{\"callback\":null,\"data\":{\"x\":{\"__ndarray__\":\"kbDDJp8PhD9E4SASn+qFP1aU2NbLxok/zCeTaSDVjT96XAr+bQWRP6RENoMENJM/N/8XHud1lT9vOckc7MmXP5EzkfV7Mpo/KQsxJwCwnD99xy086D+fP8W60uEK8KA/LKY8NNhGoj/V6uCd0nqjP/OVCKCNZqQ/dfPtWssvpT9txMbOcfSlP2zSUTQttqY/Cb/msldzpz9/EvM6Ty2oPwPTtWtMzKg/Vcv+wvDmpz9apRdcQw6lP87aqnqyyKE/QO0BBL2BnT86FUNObPmXP+hAqdIjAZM/mALKjb9Ajj+bQEZ96DuJP/1Ow1KFiIU/VtI9vL0cgj9fo8F6l+N9Px0jR+Unj3o/6nXu6hNIej8F/cvOl+B5P7/nZ3Edn3g/FBhrLmmbdj/l7ZZRHYxzP4iA2FVuCXA/BPAodCu7aT9JJrN7Y+FjP16n4wLvo1w/sNC+YuO7UT/3WtzC59g6P0CtIPItRCm/CVQi9KA/F7/fiXap2nRQPyIdtJQ5CGQ/h8KdAtZubz/bqBZdUyp1P5uHA0j8aHo/aZbVSpl6fz83jKeCbzGCPwMnjzLYkIQ/uOPRti/ahj8+NrDyVwqJPwzZvTiYHYs/ZbzbLMYPjT99yh119dyOP4jYOhqCQZA/shdqSjsAkT+hpzG8uqyRP5xRkCs3SZI/O5EjR4HYkj8B7gphW12TP6CQ4dSu2ZM/dWH/0CdNlD/BS+A+wbGUP1MWXZVG95Q/hN/w/E4FlT+lzKC2Gs2UP6FsRt05WpQ/avMM1SXHkz85eg7CYiiTP0V5yI9Wh5I/\",\"dtype\":\"float64\",\"shape\":[75]},\"y\":{\"__ndarray__\":\"GhExyth1ND/Sv8nbtpRIP2vylNV0PVE/aTum7souWD/At0SJ8fVgPw3Iuahxymc/MSNhhJWvcD/bTfBN02d3P2zb5nxnaoA/CD5h5MAGhz8NmeH1TyaQP+zrCsc9p5Y/LbKd76fGnz/bLW5ISEmmPww9YvTcQq8/JV2OstnstT8Er5Y7M8G+P0c+r3jqkcU/5h99k6ZBzj88bCIzFzjVP4enV8oyxN0//yH99nXg5D8qOpLLf0jtP5kqGJXUifQ/c9cS8kHP/D+/DpwzojQEQIEmwoanVwxA4lgXt9HgE0BSSZ2AJuIbQAMJih9jjiNA5q4l5INuK0AwTKYKRj0zQNv5fmq8/DpAaCJseHrtQkB/+zpwzoxKQM3MzMzMeFJAZmZmZmZqWEAAAAAAAFxeQM3MzMzMJmJAmpmZmZkfZUBmZmZmZhhoQDMzMzMzEWtAAAAAAAAKbkBmZmZmZoFwQM3MzMzM/XFAMzMzMzN6c0CamZmZmfZ0QAAAAAAAc3ZAZmZmZmbvd0DNzMzMzGt5QDMzMzMz6HpAmpmZmZlkfEAAAAAAAOF9QGZmZmZmXX9AZmZmZuZsgECamZmZGSuBQM3MzMxM6YFAAAAAAICngkAzMzMzs2WDQGZmZmbmI4RAmpmZmRnihEDNzMzMTKCFQAAAAACAXoZAMzMzM7Mch0BmZmZm5tqHQJqZmZkZmYhAzczMzExXiUAAAAAAgBWKQDMzMzOz04pAZmZmZuaRi0CamZmZGVCMQM3MzMxMDo1AAAAAAIDMjUAzMzMzs4qOQGZmZmbmSI9A\",\"dtype\":\"float64\",\"shape\":[75]}},\"selected\":{\"id\":\"48aed314-8cf3-4e71-ae7f-dacfe4d3a020\",\"type\":\"Selection\"},\"selection_policy\":{\"id\":\"60ee557e-f365-4d1e-beac-54636504f94c\",\"type\":\"UnionRenderers\"}},\"id\":\"7c20abdd-b76d-4ccd-a3cf-8b07a3405c83\",\"type\":\"ColumnDataSource\"},{\"attributes\":{\"source\":{\"id\":\"d79e6722-062d-485e-bf12-4e9bc75b489c\",\"type\":\"ColumnDataSource\"}},\"id\":\"95eaacbb-27d4-40d4-9b03-c6c4d0d0c641\",\"type\":\"CDSView\"},{\"attributes\":{\"callback\":null,\"end\":0.01,\"start\":1020},\"id\":\"232b0368-afb5-4ede-b427-3826425a5a53\",\"type\":\"Range1d\"},{\"attributes\":{\"data_source\":{\"id\":\"7c20abdd-b76d-4ccd-a3cf-8b07a3405c83\",\"type\":\"ColumnDataSource\"},\"glyph\":{\"id\":\"203ae572-93de-4026-a548-80739f5c53a1\",\"type\":\"Circle\"},\"hover_glyph\":null,\"muted_glyph\":null,\"nonselection_glyph\":{\"id\":\"a69542d5-230e-4b62-91b8-ba6f6ea3a670\",\"type\":\"Circle\"},\"selection_glyph\":null,\"view\":{\"id\":\"63be20f4-f6fe-405f-acc2-a6481fb7191d\",\"type\":\"CDSView\"}},\"id\":\"f905ef85-bf90-47de-adc1-8c829742e4da\",\"type\":\"GlyphRenderer\"},{\"attributes\":{\"data_source\":{\"id\":\"d79e6722-062d-485e-bf12-4e9bc75b489c\",\"type\":\"ColumnDataSource\"},\"glyph\":{\"id\":\"d893860d-2f79-47f0-aaae-167dbb83c573\",\"type\":\"Line\"},\"hover_glyph\":null,\"muted_glyph\":null,\"nonselection_glyph\":{\"id\":\"0ecb0294-edd2-4148-ac95-2214ddf1035d\",\"type\":\"Line\"},\"selection_glyph\":null,\"view\":{\"id\":\"95eaacbb-27d4-40d4-9b03-c6c4d0d0c641\",\"type\":\"CDSView\"}},\"id\":\"fe05189a-3bbf-4a93-9367-497f6d56d8bb\",\"type\":\"GlyphRenderer\"},{\"attributes\":{\"data_source\":{\"id\":\"d230ba86-185b-4e0c-a06b-ce50ce9176f9\",\"type\":\"ColumnDataSource\"},\"glyph\":{\"id\":\"2b391563-1994-46ad-915f-33ffbefc08d1\",\"type\":\"Line\"},\"hover_glyph\":null,\"muted_glyph\":null,\"nonselection_glyph\":{\"id\":\"c72312ea-8428-47a4-a03d-2efac393d5c7\",\"type\":\"Line\"},\"selection_glyph\":null,\"view\":{\"id\":\"150a3e9a-fcb3-4a96-b364-8699d3ab1d6a\",\"type\":\"CDSView\"}},\"id\":\"011714c7-fb65-47f5-8be5-45996fbb8595\",\"type\":\"GlyphRenderer\"},{\"attributes\":{\"fill_alpha\":{\"value\":0.7},\"fill_color\":{\"value\":\"#4daf4a\"},\"line_alpha\":{\"value\":0.7},\"line_color\":{\"value\":\"#4daf4a\"},\"x\":{\"field\":\"x\"},\"y\":{\"field\":\"y\"}},\"id\":\"203ae572-93de-4026-a548-80739f5c53a1\",\"type\":\"Circle\"},{\"attributes\":{\"callback\":null,\"data\":{\"x\":{\"__ndarray__\":\"PeUybmRBiD881n+qVOmJP8oE+GbeWY0/2WvYRaB7kD90bA5IpVuSP9FH9MFpTZQ/JmLx+SBQlj88YEm8imKYP619dvMwh5o/UWoqEn2+nD8X0toI+wifP0u/78eDs6A/VfffgiDroT8wh7QxDwejP3SF/yYV6KM/hGYdbnyvpD+q4p1PCHqlPwnTwzdKSKY/R60u1Lgdpz/KQRv5I82nP75zgC6skag/5PlWGE3lpz8HInyUioOlPz9XmySbrqI/mSGFCx73nz9F1g4Z9tKaP7FibJYt7ZU/2+AIQT/FkT8hHL8dQVONP5HTNopcE4g/BwY7HZ0Qgz+y26X6LwN9P3AB/APHQHc/dtY43Q8hdT+lcYWHUvpzP7aIZbWhGHM/sxF4yUoicj/A4mN6rlpwP0tRFMuZJGw/oIScmijPZz/lb756Q4hjPytMrHpjgl4/pMA4DtQxVj9+xx491cBLP55BYE0/Xjs/hk1uFs/PQz9vkX3CXVtbP24/Z+dtT2k/WNobzR1rcj/qZ2ZpAfB3P1D9R2ZuTn0/mXhot+9OgT/qIC6dCuODPzZPTGahUYY/ytJrpua8iD+Jip4gAg+LP7gbARTBL40/kqdIFWRAjz+6R7XWt5aQPxMwzFbWbpE/mNf1elw8kj8awt45VfSSP26VuHIclpM/nIiqEn8xlD9ej5S9PbmUP6C+nfj1OZU/06l7wb+xlT82n3uW9RCWPzWp/+yCWpY/nqoiYwxolj94+NNMnDiWP9CxtjsB05U/Eu3Txz1KlT9UnHqwsL2UP/Tn0xFdI5Q/\",\"dtype\":\"float64\",\"shape\":[75]},\"y\":{\"__ndarray__\":\"GhExyth1ND/Sv8nbtpRIP2vylNV0PVE/aTum7souWD/At0SJ8fVgPw3Iuahxymc/MSNhhJWvcD/bTfBN02d3P2zb5nxnaoA/CD5h5MAGhz8NmeH1TyaQP+zrCsc9p5Y/LbKd76fGnz/bLW5ISEmmPww9YvTcQq8/JV2OstnstT8Er5Y7M8G+P0c+r3jqkcU/5h99k6ZBzj88bCIzFzjVP4enV8oyxN0//yH99nXg5D8qOpLLf0jtP5kqGJXUifQ/c9cS8kHP/D+/DpwzojQEQIEmwoanVwxA4lgXt9HgE0BSSZ2AJuIbQAMJih9jjiNA5q4l5INuK0AwTKYKRj0zQNv5fmq8/DpAaCJseHrtQkB/+zpwzoxKQM3MzMzMeFJAZmZmZmZqWEAAAAAAAFxeQM3MzMzMJmJAmpmZmZkfZUBmZmZmZhhoQDMzMzMzEWtAAAAAAAAKbkBmZmZmZoFwQM3MzMzM/XFAMzMzMzN6c0CamZmZmfZ0QAAAAAAAc3ZAZmZmZmbvd0DNzMzMzGt5QDMzMzMz6HpAmpmZmZlkfEAAAAAAAOF9QGZmZmZmXX9AZmZmZuZsgECamZmZGSuBQM3MzMxM6YFAAAAAAICngkAzMzMzs2WDQGZmZmbmI4RAmpmZmRnihEDNzMzMTKCFQAAAAACAXoZAMzMzM7Mch0BmZmZm5tqHQJqZmZkZmYhAzczMzExXiUAAAAAAgBWKQDMzMzOz04pAZmZmZuaRi0CamZmZGVCMQM3MzMxMDo1AAAAAAIDMjUAzMzMzs4qOQGZmZmbmSI9A\",\"dtype\":\"float64\",\"shape\":[75]}},\"selected\":{\"id\":\"f70f8bae-0a19-4f34-a26f-eada2b4d35ab\",\"type\":\"Selection\"},\"selection_policy\":{\"id\":\"e53aa069-5e69-43aa-8109-d5dc179af399\",\"type\":\"UnionRenderers\"}},\"id\":\"cd832714-e4d3-4a02-a159-d43cc3dc42b0\",\"type\":\"ColumnDataSource\"},{\"attributes\":{\"data_source\":{\"id\":\"5da4c595-647a-4cb6-bbaf-e16c18f84402\",\"type\":\"ColumnDataSource\"},\"glyph\":{\"id\":\"08fba98b-7767-4009-87b4-3a3be8f2f417\",\"type\":\"Line\"},\"hover_glyph\":null,\"muted_glyph\":null,\"nonselection_glyph\":{\"id\":\"02d0894b-6d91-41a1-a904-2f270a331963\",\"type\":\"Line\"},\"selection_glyph\":null,\"view\":{\"id\":\"cafb5eb9-806d-4725-ae56-238866f971bf\",\"type\":\"CDSView\"}},\"id\":\"8ba94b50-fc2c-4fe6-9bc6-09b943e51c61\",\"type\":\"GlyphRenderer\"},{\"attributes\":{\"below\":[{\"id\":\"9b3c139c-0933-47db-bef3-55b9c3fe5969\",\"type\":\"LinearAxis\"}],\"left\":[{\"id\":\"e2bab04c-e09f-44e2-83cc-41e37945edb1\",\"type\":\"LinearAxis\"}],\"plot_height\":500,\"plot_width\":400,\"renderers\":[{\"id\":\"9b3c139c-0933-47db-bef3-55b9c3fe5969\",\"type\":\"LinearAxis\"},{\"id\":\"46e4491a-56ec-43cf-9900-1ea465d2f243\",\"type\":\"Grid\"},{\"id\":\"e2bab04c-e09f-44e2-83cc-41e37945edb1\",\"type\":\"LinearAxis\"},{\"id\":\"0d675c44-6aec-4f72-b073-918c8689520d\",\"type\":\"Grid\"},{\"id\":\"29ca2d4d-103b-46d1-804c-40038894b9b3\",\"type\":\"BoxAnnotation\"},{\"id\":\"fe05189a-3bbf-4a93-9367-497f6d56d8bb\",\"type\":\"GlyphRenderer\"},{\"id\":\"f905ef85-bf90-47de-adc1-8c829742e4da\",\"type\":\"GlyphRenderer\"},{\"id\":\"8ba94b50-fc2c-4fe6-9bc6-09b943e51c61\",\"type\":\"GlyphRenderer\"},{\"id\":\"0b3861e7-6100-45c0-a717-0f14bc2e1dbb\",\"type\":\"GlyphRenderer\"},{\"id\":\"5a369205-450b-4424-af97-ed4480067b86\",\"type\":\"GlyphRenderer\"}],\"title\":{\"id\":\"fdfddfca-0f30-4bec-aceb-b78be35f29a5\",\"type\":\"Title\"},\"toolbar\":{\"id\":\"a54ba9b5-da69-495d-8c9b-2bcf5c24d63e\",\"type\":\"Toolbar\"},\"toolbar_location\":null,\"x_range\":{\"id\":\"147eb4c7-cc67-4d1d-90e7-28dd45bdc5c3\",\"type\":\"Range1d\"},\"x_scale\":{\"id\":\"f856fc69-cf70-4850-873e-ac18ee06e7dc\",\"type\":\"LinearScale\"},\"y_range\":{\"id\":\"232b0368-afb5-4ede-b427-3826425a5a53\",\"type\":\"Range1d\"},\"y_scale\":{\"id\":\"04d481f6-5fd8-40fa-836a-8da30b8bd02c\",\"type\":\"LinearScale\"}},\"id\":\"9533a372-28d1-41f9-b886-5e2ac557f9ab\",\"subtype\":\"Figure\",\"type\":\"Plot\"},{\"attributes\":{\"source\":{\"id\":\"5da4c595-647a-4cb6-bbaf-e16c18f84402\",\"type\":\"ColumnDataSource\"}},\"id\":\"cafb5eb9-806d-4725-ae56-238866f971bf\",\"type\":\"CDSView\"},{\"attributes\":{\"line_alpha\":0.6,\"line_color\":\"#e41a1c\",\"line_dash\":[6],\"line_width\":5,\"x\":{\"field\":\"x\"},\"y\":{\"field\":\"y\"}},\"id\":\"d893860d-2f79-47f0-aaae-167dbb83c573\",\"type\":\"Line\"},{\"attributes\":{\"fill_alpha\":{\"value\":0.1},\"fill_color\":{\"value\":\"#1f77b4\"},\"line_alpha\":{\"value\":0.1},\"line_color\":{\"value\":\"#1f77b4\"},\"x\":{\"field\":\"x\"},\"y\":{\"field\":\"y\"}},\"id\":\"e6de1e2d-da99-4444-82f7-1d20afb366db\",\"type\":\"Square\"},{\"attributes\":{\"plot\":{\"id\":\"9533a372-28d1-41f9-b886-5e2ac557f9ab\",\"subtype\":\"Figure\",\"type\":\"Plot\"},\"ticker\":{\"id\":\"c8d94b56-23d8-4bce-91ea-1ebcea0f1c7f\",\"type\":\"BasicTicker\"}},\"id\":\"46e4491a-56ec-43cf-9900-1ea465d2f243\",\"type\":\"Grid\"},{\"attributes\":{\"line_alpha\":0.6,\"line_color\":\"#e41a1c\",\"line_dash\":[6],\"line_width\":5,\"x\":{\"field\":\"x\"},\"y\":{\"field\":\"y\"}},\"id\":\"2b391563-1994-46ad-915f-33ffbefc08d1\",\"type\":\"Line\"},{\"attributes\":{\"callback\":null,\"data\":{\"x\":{\"__ndarray__\":\"D5UtL0zohj8d+xrIAVuIP6/5MPxZjIs/WFgpalTTjj/3o+hOnhyRP7L4fZq735I/hRw4wPywlD9dXOB7SpGWP2zDtLEKgpg/oRu4CC6Emj+qR8mU15acP2JN4Rg0up4/5o04CUp2oD9N5zcKGHahP76j8QT1P6I/5UiNJ4fxoj8OsVIl8KWjP8nhhCP3XaQ/6p/5/+UYpT/oOcRtpNSlPyIkWScxf6Y/bPrX5aDzpT+cyeiUCNOjP1svU4H9UaE/9jR+5k7enT+XLKCwwUuZP2Pmd6Q+7JQ/LMzdD8E2kT8MI4BFxdKMPzqgpywDAYg/CNglK4E7gz+x9qqn7Hp9Py1Z6TulZnc/fDv3EnJ7dD/yB9S6zHJyP3YN4lpg3HA/lJh2mfkIbz/ooEVaFWZrPwVjvUPcJGc/QViJ2jZDYz87fRh0FkNfP/IYyyDxRVg/W0zSjrl4UT+IWDkd551FP1Zw+igmKDY/VIxnwUZmQz8v2weGl9NaP/LnKsl5gGg/UObFnybHcT+ZdzK+gy13P1n1T/bqcXw/idjl9c7KgD/fYGw8+EuDP7mgPeU4uoU/FUY57EwOiD/uetvf6EmKP95qF39NaYw/dFkkpHBojj9qEmYh1CGQP0L8JMCu+5A/FAiMDKrBkT+TWJnDynWSP+V7QWl6GZM/KdBc5PSukz/bDCttVTiUP83veLbutpQ/rpdLT/0olT/7U6DSZYqVPwy0xpahzpU/uiZEw9nilT9XXvI/+buVP8tzemd/Y5U/WUp99q/ulD8m2T5y2G6UPxz43P+D7JM/\",\"dtype\":\"float64\",\"shape\":[75]},\"y\":{\"__ndarray__\":\"S/O/Q+51ND/Sv8nbtpRIP2vylNV0PVE/aTum7souWD/At0SJ8fVgPw3Iuahxymc/MSNhhJWvcD/bTfBN02d3P2zb5nxnaoA/CD5h5MAGhz8NmeH1TyaQP+zrCsc9p5Y/LbKd76fGnz/bLW5ISEmmPww9YvTcQq8/JV2OstnstT8Er5Y7M8G+P0c+r3jqkcU/5h99k6ZBzj88bCIzFzjVP4enV8oyxN0//yH99nXg5D8qOpLLf0jtP5kqGJXUifQ/c9cS8kHP/D+/DpwzojQEQIEmwoanVwxA4lgXt9HgE0BSSZ2AJuIbQAMJih9jjiNA5q4l5INuK0AwTKYKRj0zQNv5fmq8/DpAaCJseHrtQkB/+zpwzoxKQM3MzMzMeFJAZmZmZmZqWEAAAAAAAFxeQM3MzMzMJmJAmpmZmZkfZUBmZmZmZhhoQDMzMzMzEWtAAAAAAAAKbkBmZmZmZoFwQM3MzMzM/XFAMzMzMzN6c0CamZmZmfZ0QAAAAAAAc3ZAZmZmZmbvd0DNzMzMzGt5QDMzMzMz6HpAmpmZmZlkfEAAAAAAAOF9QGZmZmZmXX9AZmZmZuZsgECamZmZGSuBQM3MzMxM6YFAAAAAAICngkAzMzMzs2WDQGZmZmbmI4RAmpmZmRnihEDNzMzMTKCFQAAAAACAXoZAMzMzM7Mch0BmZmZm5tqHQJqZmZkZmYhAzczMzExXiUAAAAAAgBWKQDMzMzOz04pAZmZmZuaRi0CamZmZGVCMQM3MzMxMDo1AAAAAAIDMjUAzMzMzs4qOQGZmZmbmSI9A\",\"dtype\":\"float64\",\"shape\":[75]}},\"selected\":{\"id\":\"9719058e-aab6-4b7f-b60f-6d56c3cd5cba\",\"type\":\"Selection\"},\"selection_policy\":{\"id\":\"5f3aba5e-d702-4a8c-80cf-7e79b90485e8\",\"type\":\"UnionRenderers\"}},\"id\":\"d79e6722-062d-485e-bf12-4e9bc75b489c\",\"type\":\"ColumnDataSource\"},{\"attributes\":{\"callback\":null,\"data\":{\"x\":{\"__ndarray__\":\"D5UtL0zohj8d+xrIAVuIP6/5MPxZjIs/WFgpalTTjj/3o+hOnhyRP7L4fZq735I/hRw4wPywlD9dXOB7SpGWP2zDtLEKgpg/oRu4CC6Emj+qR8mU15acP2JN4Rg0up4/5o04CUp2oD9N5zcKGHahP76j8QT1P6I/5UiNJ4fxoj8OsVIl8KWjP8nhhCP3XaQ/6p/5/+UYpT/oOcRtpNSlPyIkWScxf6Y/bPrX5aDzpT+cyeiUCNOjP1svU4H9UaE/9jR+5k7enT+XLKCwwUuZP2Pmd6Q+7JQ/LMzdD8E2kT8MI4BFxdKMPzqgpywDAYg/CNglK4E7gz+x9qqn7Hp9Py1Z6TulZnc/fDv3EnJ7dD/yB9S6zHJyP3YN4lpg3HA/lJh2mfkIbz/ooEVaFWZrPwVjvUPcJGc/QViJ2jZDYz87fRh0FkNfP/IYyyDxRVg/W0zSjrl4UT+IWDkd551FP1Zw+igmKDY/VIxnwUZmQz8v2weGl9NaP/LnKsl5gGg/UObFnybHcT+ZdzK+gy13P1n1T/bqcXw/idjl9c7KgD/fYGw8+EuDP7mgPeU4uoU/FUY57EwOiD/uetvf6EmKP95qF39NaYw/dFkkpHBojj9qEmYh1CGQP0L8JMCu+5A/FAiMDKrBkT+TWJnDynWSP+V7QWl6GZM/KdBc5PSukz/bDCttVTiUP83veLbutpQ/rpdLT/0olT/7U6DSZYqVPwy0xpahzpU/uiZEw9nilT9XXvI/+buVP8tzemd/Y5U/WUp99q/ulD8m2T5y2G6UPxz43P+D7JM/\",\"dtype\":\"float64\",\"shape\":[75]},\"y\":{\"__ndarray__\":\"S/O/Q+51ND/Sv8nbtpRIP2vylNV0PVE/aTum7souWD/At0SJ8fVgPw3Iuahxymc/MSNhhJWvcD/bTfBN02d3P2zb5nxnaoA/CD5h5MAGhz8NmeH1TyaQP+zrCsc9p5Y/LbKd76fGnz/bLW5ISEmmPww9YvTcQq8/JV2OstnstT8Er5Y7M8G+P0c+r3jqkcU/5h99k6ZBzj88bCIzFzjVP4enV8oyxN0//yH99nXg5D8qOpLLf0jtP5kqGJXUifQ/c9cS8kHP/D+/DpwzojQEQIEmwoanVwxA4lgXt9HgE0BSSZ2AJuIbQAMJih9jjiNA5q4l5INuK0AwTKYKRj0zQNv5fmq8/DpAaCJseHrtQkB/+zpwzoxKQM3MzMzMeFJAZmZmZmZqWEAAAAAAAFxeQM3MzMzMJmJAmpmZmZkfZUBmZmZmZhhoQDMzMzMzEWtAAAAAAAAKbkBmZmZmZoFwQM3MzMzM/XFAMzMzMzN6c0CamZmZmfZ0QAAAAAAAc3ZAZmZmZmbvd0DNzMzMzGt5QDMzMzMz6HpAmpmZmZlkfEAAAAAAAOF9QGZmZmZmXX9AZmZmZuZsgECamZmZGSuBQM3MzMxM6YFAAAAAAICngkAzMzMzs2WDQGZmZmbmI4RAmpmZmRnihEDNzMzMTKCFQAAAAACAXoZAMzMzM7Mch0BmZmZm5tqHQJqZmZkZmYhAzczMzExXiUAAAAAAgBWKQDMzMzOz04pAZmZmZuaRi0CamZmZGVCMQM3MzMxMDo1AAAAAAIDMjUAzMzMzs4qOQGZmZmbmSI9A\",\"dtype\":\"float64\",\"shape\":[75]}},\"selected\":{\"id\":\"f7b4b491-a076-44aa-b4d3-493e9528e582\",\"type\":\"Selection\"},\"selection_policy\":{\"id\":\"90d48bc2-6b18-4351-b588-d3583d3441ea\",\"type\":\"UnionRenderers\"}},\"id\":\"d230ba86-185b-4e0c-a06b-ce50ce9176f9\",\"type\":\"ColumnDataSource\"},{\"attributes\":{\"axis_label\":\"cooling rate [K/day]\",\"formatter\":{\"id\":\"1e99896e-3cae-4167-8bf9-e2916443fb37\",\"type\":\"BasicTickFormatter\"},\"plot\":{\"id\":\"9533a372-28d1-41f9-b886-5e2ac557f9ab\",\"subtype\":\"Figure\",\"type\":\"Plot\"},\"ticker\":{\"id\":\"c8d94b56-23d8-4bce-91ea-1ebcea0f1c7f\",\"type\":\"BasicTicker\"}},\"id\":\"9b3c139c-0933-47db-bef3-55b9c3fe5969\",\"type\":\"LinearAxis\"},{\"attributes\":{},\"id\":\"c8d94b56-23d8-4bce-91ea-1ebcea0f1c7f\",\"type\":\"BasicTicker\"},{\"attributes\":{},\"id\":\"63ff3fd5-4144-4706-bb8e-43f04e59fbe7\",\"type\":\"BasicTicker\"},{\"attributes\":{\"line_alpha\":0.1,\"line_color\":\"#1f77b4\",\"line_width\":1.5,\"x\":{\"field\":\"x\"},\"y\":{\"field\":\"y\"}},\"id\":\"02d0894b-6d91-41a1-a904-2f270a331963\",\"type\":\"Line\"},{\"attributes\":{\"plot\":null,\"text\":\"Linear pressure scale\"},\"id\":\"fdfddfca-0f30-4bec-aceb-b78be35f29a5\",\"type\":\"Title\"},{\"attributes\":{\"axis_label\":\"pressure [mb]\",\"formatter\":{\"id\":\"f4f0b119-c081-4609-9723-cdec197a4d40\",\"type\":\"BasicTickFormatter\"},\"plot\":{\"id\":\"9533a372-28d1-41f9-b886-5e2ac557f9ab\",\"subtype\":\"Figure\",\"type\":\"Plot\"},\"ticker\":{\"id\":\"63ff3fd5-4144-4706-bb8e-43f04e59fbe7\",\"type\":\"BasicTicker\"}},\"id\":\"e2bab04c-e09f-44e2-83cc-41e37945edb1\",\"type\":\"LinearAxis\"},{\"attributes\":{\"bottom_units\":\"screen\",\"fill_alpha\":{\"value\":0.5},\"fill_color\":{\"value\":\"lightgrey\"},\"left_units\":\"screen\",\"level\":\"overlay\",\"line_alpha\":{\"value\":1.0},\"line_color\":{\"value\":\"black\"},\"line_dash\":[4,4],\"line_width\":{\"value\":2},\"plot\":null,\"render_mode\":\"css\",\"right_units\":\"screen\",\"top_units\":\"screen\"},\"id\":\"29ca2d4d-103b-46d1-804c-40038894b9b3\",\"type\":\"BoxAnnotation\"},{\"attributes\":{\"line_color\":\"#4daf4a\",\"line_width\":1.5,\"x\":{\"field\":\"x\"},\"y\":{\"field\":\"y\"}},\"id\":\"08fba98b-7767-4009-87b4-3a3be8f2f417\",\"type\":\"Line\"},{\"attributes\":{\"dimension\":1,\"plot\":{\"id\":\"9533a372-28d1-41f9-b886-5e2ac557f9ab\",\"subtype\":\"Figure\",\"type\":\"Plot\"},\"ticker\":{\"id\":\"63ff3fd5-4144-4706-bb8e-43f04e59fbe7\",\"type\":\"BasicTicker\"}},\"id\":\"0d675c44-6aec-4f72-b073-918c8689520d\",\"type\":\"Grid\"}],\"root_ids\":[\"2a34a31f-39b7-44a8-a7df-495f1a63a878\"]},\"title\":\"Bokeh Application\",\"version\":\"0.12.16\"}};\n",
       "  var render_items = [{\"docid\":\"36f7e47e-8932-416c-ab30-1bb1e436d92e\",\"elementid\":\"7b61e06f-4d55-48b6-9da7-f2db54c8e443\",\"modelid\":\"2a34a31f-39b7-44a8-a7df-495f1a63a878\"}];\n",
       "  root.Bokeh.embed.embed_items_notebook(docs_json, render_items);\n",
       "\n",
       "  }\n",
       "  if (root.Bokeh !== undefined) {\n",
       "    embed_document(root);\n",
       "  } else {\n",
       "    var attempts = 0;\n",
       "    var timer = setInterval(function(root) {\n",
       "      if (root.Bokeh !== undefined) {\n",
       "        embed_document(root);\n",
       "        clearInterval(timer);\n",
       "      }\n",
       "      attempts++;\n",
       "      if (attempts > 100) {\n",
       "        console.log(\"Bokeh: ERROR: Unable to run BokehJS code because BokehJS library is missing\")\n",
       "        clearInterval(timer);\n",
       "      }\n",
       "    }, 10, root)\n",
       "  }\n",
       "})(window);"
      ],
      "application/vnd.bokehjs_exec.v0+json": ""
     },
     "metadata": {
      "application/vnd.bokehjs_exec.v0+json": {
       "id": "2a34a31f-39b7-44a8-a7df-495f1a63a878"
      }
     },
     "output_type": "display_data"
    },
    {
     "name": "stdout",
     "output_type": "stream",
     "text": [
      "FIGURE. Cooling rate profiles.\n"
     ]
    },
    {
     "data": {
      "text/html": [
       "<a id=\"Flux_Comparison\"></a>"
      ],
      "text/plain": [
       "<IPython.core.display.HTML object>"
      ]
     },
     "metadata": {},
     "output_type": "display_data"
    },
    {
     "data": {
      "text/markdown": [
       "# Flux Comparison"
      ],
      "text/plain": [
       "<IPython.core.display.Markdown object>"
      ]
     },
     "metadata": {},
     "output_type": "display_data"
    },
    {
     "data": {
      "text/html": [
       "<div>\n",
       "<style scoped>\n",
       "    .dataframe tbody tr th:only-of-type {\n",
       "        vertical-align: middle;\n",
       "    }\n",
       "\n",
       "    .dataframe tbody tr th {\n",
       "        vertical-align: top;\n",
       "    }\n",
       "\n",
       "    .dataframe thead th {\n",
       "        text-align: right;\n",
       "    }\n",
       "</style>\n",
       "<table border=\"1\" class=\"dataframe\">\n",
       "  <thead>\n",
       "    <tr style=\"text-align: right;\">\n",
       "      <th></th>\n",
       "      <th></th>\n",
       "      <th>flug</th>\n",
       "      <th>fldg</th>\n",
       "      <th>fnetg</th>\n",
       "    </tr>\n",
       "    <tr>\n",
       "      <th>pressure</th>\n",
       "      <th>level</th>\n",
       "      <th></th>\n",
       "      <th></th>\n",
       "      <th></th>\n",
       "    </tr>\n",
       "  </thead>\n",
       "  <tbody>\n",
       "    <tr>\n",
       "      <th>0.0000</th>\n",
       "      <th>1</th>\n",
       "      <td>-23.030142</td>\n",
       "      <td>0.000000</td>\n",
       "      <td>-23.030142</td>\n",
       "    </tr>\n",
       "    <tr>\n",
       "      <th>1.0685</th>\n",
       "      <th>24</th>\n",
       "      <td>-23.028839</td>\n",
       "      <td>0.004279</td>\n",
       "      <td>-23.024560</td>\n",
       "    </tr>\n",
       "    <tr>\n",
       "      <th>1013.0000</th>\n",
       "      <th>76</th>\n",
       "      <td>-23.591138</td>\n",
       "      <td>1.870278</td>\n",
       "      <td>-21.720860</td>\n",
       "    </tr>\n",
       "  </tbody>\n",
       "</table>\n",
       "</div>"
      ],
      "text/plain": [
       "                      flug      fldg      fnetg\n",
       "pressure  level                                \n",
       "0.0000    1     -23.030142  0.000000 -23.030142\n",
       "1.0685    24    -23.028839  0.004279 -23.024560\n",
       "1013.0000 76    -23.591138  1.870278 -21.720860"
      ]
     },
     "metadata": {},
     "output_type": "display_data"
    },
    {
     "name": "stdout",
     "output_type": "stream",
     "text": [
      "Table. Fluxes. CRD\n"
     ]
    },
    {
     "data": {
      "text/html": [
       "<div>\n",
       "<style scoped>\n",
       "    .dataframe tbody tr th:only-of-type {\n",
       "        vertical-align: middle;\n",
       "    }\n",
       "\n",
       "    .dataframe tbody tr th {\n",
       "        vertical-align: top;\n",
       "    }\n",
       "\n",
       "    .dataframe thead th {\n",
       "        text-align: right;\n",
       "    }\n",
       "</style>\n",
       "<table border=\"1\" class=\"dataframe\">\n",
       "  <thead>\n",
       "    <tr style=\"text-align: right;\">\n",
       "      <th></th>\n",
       "      <th></th>\n",
       "      <th>flug</th>\n",
       "      <th>fldg</th>\n",
       "      <th>fnetg</th>\n",
       "    </tr>\n",
       "    <tr>\n",
       "      <th>pressure</th>\n",
       "      <th>level</th>\n",
       "      <th></th>\n",
       "      <th></th>\n",
       "      <th></th>\n",
       "    </tr>\n",
       "  </thead>\n",
       "  <tbody>\n",
       "    <tr>\n",
       "      <th>0.0000</th>\n",
       "      <th>1</th>\n",
       "      <td>-23.028098</td>\n",
       "      <td>0.000000</td>\n",
       "      <td>-23.028098</td>\n",
       "    </tr>\n",
       "    <tr>\n",
       "      <th>1.0685</th>\n",
       "      <th>24</th>\n",
       "      <td>-23.026680</td>\n",
       "      <td>0.004153</td>\n",
       "      <td>-23.022527</td>\n",
       "    </tr>\n",
       "    <tr>\n",
       "      <th>1013.0000</th>\n",
       "      <th>76</th>\n",
       "      <td>-23.591138</td>\n",
       "      <td>1.955718</td>\n",
       "      <td>-21.635419</td>\n",
       "    </tr>\n",
       "  </tbody>\n",
       "</table>\n",
       "</div>"
      ],
      "text/plain": [
       "                      flug      fldg      fnetg\n",
       "pressure  level                                \n",
       "0.0000    1     -23.028098  0.000000 -23.028098\n",
       "1.0685    24    -23.026680  0.004153 -23.022527\n",
       "1013.0000 76    -23.591138  1.955718 -21.635419"
      ]
     },
     "metadata": {},
     "output_type": "display_data"
    },
    {
     "name": "stdout",
     "output_type": "stream",
     "text": [
      "Table. Fluxes. WGT igg=10 wgt_flux=1\n"
     ]
    },
    {
     "data": {
      "text/html": [
       "<div>\n",
       "<style scoped>\n",
       "    .dataframe tbody tr th:only-of-type {\n",
       "        vertical-align: middle;\n",
       "    }\n",
       "\n",
       "    .dataframe tbody tr th {\n",
       "        vertical-align: top;\n",
       "    }\n",
       "\n",
       "    .dataframe thead th {\n",
       "        text-align: right;\n",
       "    }\n",
       "</style>\n",
       "<table border=\"1\" class=\"dataframe\">\n",
       "  <thead>\n",
       "    <tr style=\"text-align: right;\">\n",
       "      <th></th>\n",
       "      <th></th>\n",
       "      <th>flug</th>\n",
       "      <th>fldg</th>\n",
       "      <th>fnetg</th>\n",
       "    </tr>\n",
       "    <tr>\n",
       "      <th>pressure</th>\n",
       "      <th>level</th>\n",
       "      <th></th>\n",
       "      <th></th>\n",
       "      <th></th>\n",
       "    </tr>\n",
       "  </thead>\n",
       "  <tbody>\n",
       "    <tr>\n",
       "      <th>1.000000e-08</th>\n",
       "      <th>1</th>\n",
       "      <td>-23.050441</td>\n",
       "      <td>0.000002</td>\n",
       "      <td>-23.050439</td>\n",
       "    </tr>\n",
       "    <tr>\n",
       "      <th>1.068500e+00</th>\n",
       "      <th>24</th>\n",
       "      <td>-23.049116</td>\n",
       "      <td>0.003792</td>\n",
       "      <td>-23.045324</td>\n",
       "    </tr>\n",
       "    <tr>\n",
       "      <th>1.013000e+03</th>\n",
       "      <th>76</th>\n",
       "      <td>-23.591140</td>\n",
       "      <td>1.889003</td>\n",
       "      <td>-21.702137</td>\n",
       "    </tr>\n",
       "  </tbody>\n",
       "</table>\n",
       "</div>"
      ],
      "text/plain": [
       "                         flug      fldg      fnetg\n",
       "pressure     level                                \n",
       "1.000000e-08 1     -23.050441  0.000002 -23.050439\n",
       "1.068500e+00 24    -23.049116  0.003792 -23.045324\n",
       "1.013000e+03 76    -23.591140  1.889003 -21.702137"
      ]
     },
     "metadata": {},
     "output_type": "display_data"
    },
    {
     "name": "stdout",
     "output_type": "stream",
     "text": [
      "Table. Fluxes. CLIRAD\n"
     ]
    },
    {
     "data": {
      "text/html": [
       "<div>\n",
       "<style scoped>\n",
       "    .dataframe tbody tr th:only-of-type {\n",
       "        vertical-align: middle;\n",
       "    }\n",
       "\n",
       "    .dataframe tbody tr th {\n",
       "        vertical-align: top;\n",
       "    }\n",
       "\n",
       "    .dataframe thead th {\n",
       "        text-align: right;\n",
       "    }\n",
       "</style>\n",
       "<table border=\"1\" class=\"dataframe\">\n",
       "  <thead>\n",
       "    <tr style=\"text-align: right;\">\n",
       "      <th></th>\n",
       "      <th></th>\n",
       "      <th>flug</th>\n",
       "      <th>fldg</th>\n",
       "      <th>fnetg</th>\n",
       "    </tr>\n",
       "    <tr>\n",
       "      <th>pressure</th>\n",
       "      <th>level</th>\n",
       "      <th></th>\n",
       "      <th></th>\n",
       "      <th></th>\n",
       "    </tr>\n",
       "  </thead>\n",
       "  <tbody>\n",
       "    <tr>\n",
       "      <th>0.0000</th>\n",
       "      <th>1</th>\n",
       "      <td>2.043730e-03</td>\n",
       "      <td>0.000000</td>\n",
       "      <td>0.002044</td>\n",
       "    </tr>\n",
       "    <tr>\n",
       "      <th>1.0685</th>\n",
       "      <th>24</th>\n",
       "      <td>2.159380e-03</td>\n",
       "      <td>-0.000126</td>\n",
       "      <td>0.002033</td>\n",
       "    </tr>\n",
       "    <tr>\n",
       "      <th>1013.0000</th>\n",
       "      <th>76</th>\n",
       "      <td>-1.400000e-07</td>\n",
       "      <td>0.085440</td>\n",
       "      <td>0.085441</td>\n",
       "    </tr>\n",
       "  </tbody>\n",
       "</table>\n",
       "</div>"
      ],
      "text/plain": [
       "                         flug      fldg     fnetg\n",
       "pressure  level                                  \n",
       "0.0000    1      2.043730e-03  0.000000  0.002044\n",
       "1.0685    24     2.159380e-03 -0.000126  0.002033\n",
       "1013.0000 76    -1.400000e-07  0.085440  0.085441"
      ]
     },
     "metadata": {},
     "output_type": "display_data"
    },
    {
     "name": "stdout",
     "output_type": "stream",
     "text": [
      "Table. Fluxes. (WGT igg=10 wgt_flux=1) - (CRD)\n"
     ]
    },
    {
     "data": {
      "text/html": [
       "<div>\n",
       "<style scoped>\n",
       "    .dataframe tbody tr th:only-of-type {\n",
       "        vertical-align: middle;\n",
       "    }\n",
       "\n",
       "    .dataframe tbody tr th {\n",
       "        vertical-align: top;\n",
       "    }\n",
       "\n",
       "    .dataframe thead th {\n",
       "        text-align: right;\n",
       "    }\n",
       "</style>\n",
       "<table border=\"1\" class=\"dataframe\">\n",
       "  <thead>\n",
       "    <tr style=\"text-align: right;\">\n",
       "      <th></th>\n",
       "      <th></th>\n",
       "      <th>flug</th>\n",
       "      <th>fldg</th>\n",
       "      <th>fnetg</th>\n",
       "    </tr>\n",
       "    <tr>\n",
       "      <th>pressure</th>\n",
       "      <th>level</th>\n",
       "      <th></th>\n",
       "      <th></th>\n",
       "      <th></th>\n",
       "    </tr>\n",
       "  </thead>\n",
       "  <tbody>\n",
       "    <tr>\n",
       "      <th>0.0000</th>\n",
       "      <th>1</th>\n",
       "      <td>-0.020299</td>\n",
       "      <td>0.000002</td>\n",
       "      <td>-0.020297</td>\n",
       "    </tr>\n",
       "    <tr>\n",
       "      <th>1.0685</th>\n",
       "      <th>24</th>\n",
       "      <td>-0.020277</td>\n",
       "      <td>-0.000486</td>\n",
       "      <td>-0.020764</td>\n",
       "    </tr>\n",
       "    <tr>\n",
       "      <th>1013.0000</th>\n",
       "      <th>76</th>\n",
       "      <td>-0.000002</td>\n",
       "      <td>0.018725</td>\n",
       "      <td>0.018723</td>\n",
       "    </tr>\n",
       "  </tbody>\n",
       "</table>\n",
       "</div>"
      ],
      "text/plain": [
       "                     flug      fldg     fnetg\n",
       "pressure  level                              \n",
       "0.0000    1     -0.020299  0.000002 -0.020297\n",
       "1.0685    24    -0.020277 -0.000486 -0.020764\n",
       "1013.0000 76    -0.000002  0.018725  0.018723"
      ]
     },
     "metadata": {},
     "output_type": "display_data"
    },
    {
     "name": "stdout",
     "output_type": "stream",
     "text": [
      "Table. Fluxes. (CLIRAD) - (CRD)\n"
     ]
    },
    {
     "data": {
      "text/html": [
       "<a id=\"Best-fit_Parameters\"></a>"
      ],
      "text/plain": [
       "<IPython.core.display.HTML object>"
      ]
     },
     "metadata": {},
     "output_type": "display_data"
    },
    {
     "data": {
      "text/markdown": [
       "# Best-fit Parameters"
      ],
      "text/plain": [
       "<IPython.core.display.Markdown object>"
      ]
     },
     "metadata": {},
     "output_type": "display_data"
    },
    {
     "name": "stdout",
     "output_type": "stream",
     "text": [
      "Best-fit values for each (gas, band)\n",
      "------------------------------------\n",
      "o n2o band3a\n",
      "  atmpro = mls\n",
      "  band = 3a\n",
      "  commitnumber = a06b618\n",
      "  conc = 3.2e-07\n",
      "  dv = 0.001\n",
      "  klin = 2.22e-20\n",
      "  molecule = n2o\n",
      "  ng_adju = [0, 0]\n",
      "  ng_refs = [1, 2]\n",
      "  nv = 1000\n",
      "  option_compute_btable = 0\n",
      "  option_compute_ktable = 1\n",
      "  option_wgt_flux = 1\n",
      "  option_wgt_k = 1\n",
      "  ref_pts = [(1, 250), (500, 250)]\n",
      "  tsfc = 294\n",
      "  vmax = 620\n",
      "  vmin = 540\n",
      "  w_diffuse = [(1.8,), (1.66, 1.8)]\n",
      "  wgt = [(0.9,), (0.5, 0.95)]\n"
     ]
    }
   ],
   "source": [
    "script()"
   ]
  },
  {
   "cell_type": "code",
   "execution_count": 13,
   "metadata": {
    "collapsed": true
   },
   "outputs": [
    {
     "data": {
      "text/html": [
       "<script>\n",
       "code_show=true; \n",
       "function code_toggle() {\n",
       " if (code_show){\n",
       " $('div.input').hide();\n",
       " } else {\n",
       " $('div.input').show();\n",
       " }\n",
       " code_show = !code_show\n",
       "} \n",
       "$( document ).ready(code_toggle);\n",
       "</script>\n",
       "<form action=\"javascript:code_toggle()\"><input type=\"submit\" value=\"Click here to toggle on/off the raw code.\"></form>"
      ],
      "text/plain": [
       "<IPython.core.display.HTML object>"
      ]
     },
     "execution_count": 13,
     "metadata": {},
     "output_type": "execute_result"
    }
   ],
   "source": [
    "display.HTML('''<script>\n",
    "code_show=true; \n",
    "function code_toggle() {\n",
    " if (code_show){\n",
    " $('div.input').hide();\n",
    " } else {\n",
    " $('div.input').show();\n",
    " }\n",
    " code_show = !code_show\n",
    "} \n",
    "$( document ).ready(code_toggle);\n",
    "</script>\n",
    "<form action=\"javascript:code_toggle()\"><input type=\"submit\" value=\"Click here to toggle on/off the raw code.\"></form>''')"
   ]
  }
 ],
 "metadata": {
  "kernelspec": {
   "display_name": "Python 3",
   "language": "python",
   "name": "python3"
  },
  "language_info": {
   "codemirror_mode": {
    "name": "ipython",
    "version": 3
   },
   "file_extension": ".py",
   "mimetype": "text/x-python",
   "name": "python",
   "nbconvert_exporter": "python",
   "pygments_lexer": "ipython3",
   "version": "3.6.1"
  }
 },
 "nbformat": 4,
 "nbformat_minor": 2
}
