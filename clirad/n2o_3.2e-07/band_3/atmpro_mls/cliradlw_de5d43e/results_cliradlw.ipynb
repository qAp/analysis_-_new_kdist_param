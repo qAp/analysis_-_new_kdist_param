{
 "cells": [
  {
   "cell_type": "code",
   "execution_count": 1,
   "metadata": {
    "collapsed": true
   },
   "outputs": [],
   "source": [
    "%matplotlib inline\n",
    "import os\n",
    "import re\n",
    "import io\n",
    "import itertools\n",
    "import pprint\n",
    "\n",
    "from bokeh.io import output_notebook, show\n",
    "from bokeh.layouts import gridplot\n",
    "from bokeh.plotting import figure\n",
    "from bokeh.models import Range1d, Legend\n",
    "from bokeh.palettes import all_palettes\n",
    "\n",
    "import matplotlib\n",
    "import matplotlib.pyplot as plt\n",
    "import numpy as np\n",
    "import pandas as pd\n",
    "import xarray as xr\n",
    "\n",
    "import climatools.lblnew.bestfit_params as bestfits\n",
    "from climatools.lblnew import setup_bestfit, setup_overlap\n",
    "import climatools.lblnew.pipeline as pipe_lblnew\n",
    "import climatools.cliradlw.setup as setup_cliradlw\n",
    "import climatools.cliradlw.pipeline as pipe_cliradlw\n",
    "\n",
    "import climatools.html.html as climahtml\n",
    "from climatools.lblnew.dataio import *\n",
    "from climatools.plot.plot import *\n",
    "\n",
    "\n",
    "import IPython.display as display"
   ]
  },
  {
   "cell_type": "code",
   "execution_count": 2,
   "metadata": {
    "collapsed": true
   },
   "outputs": [],
   "source": [
    "%run param.py"
   ]
  },
  {
   "cell_type": "code",
   "execution_count": 3,
   "metadata": {
    "collapsed": true
   },
   "outputs": [],
   "source": [
    "def load_output_file(path_csv):\n",
    "    '''\n",
    "    Load lblnew output .csv file to xarray.Dataset\n",
    "    \n",
    "    Parameters\n",
    "    ----------\n",
    "    path_csv: str\n",
    "              Path to the .csv file to be loaded.\n",
    "    ds: xarray.Dataset\n",
    "        Data in the input file in the form of an xarray.Dataset.\n",
    "    '''\n",
    "    toindex = ['band', 'pressure', 'igg', 'g']    \n",
    "    df = pd.read_csv(path_csv, sep=r'\\s+')\n",
    "    df = df.set_index([i for i in toindex if i in df.columns])\n",
    "    df = df.rename(columns={'sfu': 'flug',\n",
    "                            'sfd': 'fldg',\n",
    "                            'fnet': 'fnetg',\n",
    "                            'coolr': 'coolrg'})\n",
    "    ds = xr.Dataset.from_dataframe(df)\n",
    "\n",
    "    for l in ('level', 'layer'):\n",
    "        if l in ds.data_vars:\n",
    "            if len(ds[l].dims) > 1:\n",
    "                surface = {d: 0 for d in ds.dims if d != 'pressure'}\n",
    "                coord_level = ds[l][surface]\n",
    "                ds.coords[l] = ('pressure', coord_level)\n",
    "            else:\n",
    "                ds.coords[l] = ('pressure', ds[l])\n",
    "    \n",
    "    return ds"
   ]
  },
  {
   "cell_type": "code",
   "execution_count": 4,
   "metadata": {
    "collapsed": true
   },
   "outputs": [],
   "source": [
    "def lblnew_setup(param=None):\n",
    "    if 'ng_refs' in param:\n",
    "        return {'setup': setup_bestfit,\n",
    "                'fname_flux_crd': 'output_flux.dat',\n",
    "                'fname_cool_crd': 'output_coolr.dat',\n",
    "                'fname_flux_wgt': 'output_wfluxg.dat',\n",
    "                'fname_cool_wgt': 'output_wcoolrg.dat'}\n",
    "    else:\n",
    "        return {'setup': setup_overlap,\n",
    "                'fname_flux_crd': 'output_flux.dat',\n",
    "                'fname_cool_crd': 'output_coolr.dat',\n",
    "                'fname_flux_wgt': 'output_wflux.dat',\n",
    "                'fname_cool_wgt': 'output_wcoolr.dat'}\n",
    "\n",
    "    \n",
    "def load_lblnew_data(param):\n",
    "    \n",
    "    fname_dsname = [('fname_flux_crd', 'ds_flux_crd'),\n",
    "                    ('fname_cool_crd', 'ds_cool_crd'),\n",
    "                    ('fname_flux_wgt', 'ds_flux_wgt'),\n",
    "                    ('fname_cool_wgt', 'ds_cool_wgt')]\n",
    "    \n",
    "    d = lblnew_setup(param)\n",
    "    dir_fortran = pipe_lblnew.get_dir_case(param, setup=d['setup'])\n",
    "    \n",
    "    data_dict = {}\n",
    "    for fname, dsname in fname_dsname:\n",
    "        fpath = os.path.join(dir_fortran, d[fname])\n",
    "        data_dict[dsname] = load_output_file(fpath)\n",
    "    return data_dict\n",
    "    \n",
    "\n",
    "    \n",
    "    "
   ]
  },
  {
   "cell_type": "code",
   "execution_count": 5,
   "metadata": {
    "collapsed": true
   },
   "outputs": [],
   "source": [
    "d = load_lblnew_data(PARAM_LBLNEW)\n",
    "\n",
    "DS_FLUX_CRD = d['ds_flux_crd']\n",
    "DS_COOL_CRD = d['ds_cool_crd']\n",
    "DS_FLUX_WGT = d['ds_flux_wgt']\n",
    "DS_COOL_WGT = d['ds_cool_wgt']"
   ]
  },
  {
   "cell_type": "code",
   "execution_count": 6,
   "metadata": {
    "collapsed": true
   },
   "outputs": [],
   "source": [
    "DIR_FORTRAN = pipe_cliradlw.get_fortran_dir(PARAM, \n",
    "                                            setup=setup_cliradlw)\n",
    "\n",
    "PATH_FLUX = os.path.join(DIR_FORTRAN, 'output_flux.dat')\n",
    "PATH_COOL = os.path.join(DIR_FORTRAN, 'output_coolr.dat')\n",
    "\n",
    "DS_FLUX = load_output_file(PATH_FLUX)\n",
    "DS_COOL = load_output_file(PATH_COOL)"
   ]
  },
  {
   "cell_type": "code",
   "execution_count": 7,
   "metadata": {
    "collapsed": true
   },
   "outputs": [
    {
     "data": {
      "text/html": [
       "\n",
       "    <div class=\"bk-root\">\n",
       "        <a href=\"https://bokeh.pydata.org\" target=\"_blank\" class=\"bk-logo bk-logo-small bk-logo-notebook\"></a>\n",
       "        <span id=\"0ee7759c-de3e-4fe2-b872-27b7de95fb95\">Loading BokehJS ...</span>\n",
       "    </div>"
      ]
     },
     "metadata": {},
     "output_type": "display_data"
    },
    {
     "data": {
      "application/javascript": [
       "\n",
       "(function(root) {\n",
       "  function now() {\n",
       "    return new Date();\n",
       "  }\n",
       "\n",
       "  var force = true;\n",
       "\n",
       "  if (typeof (root._bokeh_onload_callbacks) === \"undefined\" || force === true) {\n",
       "    root._bokeh_onload_callbacks = [];\n",
       "    root._bokeh_is_loading = undefined;\n",
       "  }\n",
       "\n",
       "  var JS_MIME_TYPE = 'application/javascript';\n",
       "  var HTML_MIME_TYPE = 'text/html';\n",
       "  var EXEC_MIME_TYPE = 'application/vnd.bokehjs_exec.v0+json';\n",
       "  var CLASS_NAME = 'output_bokeh rendered_html';\n",
       "\n",
       "  /**\n",
       "   * Render data to the DOM node\n",
       "   */\n",
       "  function render(props, node) {\n",
       "    var script = document.createElement(\"script\");\n",
       "    node.appendChild(script);\n",
       "  }\n",
       "\n",
       "  /**\n",
       "   * Handle when an output is cleared or removed\n",
       "   */\n",
       "  function handleClearOutput(event, handle) {\n",
       "    var cell = handle.cell;\n",
       "\n",
       "    var id = cell.output_area._bokeh_element_id;\n",
       "    var server_id = cell.output_area._bokeh_server_id;\n",
       "    // Clean up Bokeh references\n",
       "    if (id !== undefined) {\n",
       "      Bokeh.index[id].model.document.clear();\n",
       "      delete Bokeh.index[id];\n",
       "    }\n",
       "\n",
       "    if (server_id !== undefined) {\n",
       "      // Clean up Bokeh references\n",
       "      var cmd = \"from bokeh.io.state import curstate; print(curstate().uuid_to_server['\" + server_id + \"'].get_sessions()[0].document.roots[0]._id)\";\n",
       "      cell.notebook.kernel.execute(cmd, {\n",
       "        iopub: {\n",
       "          output: function(msg) {\n",
       "            var element_id = msg.content.text.trim();\n",
       "            Bokeh.index[element_id].model.document.clear();\n",
       "            delete Bokeh.index[element_id];\n",
       "          }\n",
       "        }\n",
       "      });\n",
       "      // Destroy server and session\n",
       "      var cmd = \"import bokeh.io.notebook as ion; ion.destroy_server('\" + server_id + \"')\";\n",
       "      cell.notebook.kernel.execute(cmd);\n",
       "    }\n",
       "  }\n",
       "\n",
       "  /**\n",
       "   * Handle when a new output is added\n",
       "   */\n",
       "  function handleAddOutput(event, handle) {\n",
       "    var output_area = handle.output_area;\n",
       "    var output = handle.output;\n",
       "\n",
       "    // limit handleAddOutput to display_data with EXEC_MIME_TYPE content only\n",
       "    if ((output.output_type != \"display_data\") || (!output.data.hasOwnProperty(EXEC_MIME_TYPE))) {\n",
       "      return\n",
       "    }\n",
       "\n",
       "    var toinsert = output_area.element.find(\".\" + CLASS_NAME.split(' ')[0]);\n",
       "\n",
       "    if (output.metadata[EXEC_MIME_TYPE][\"id\"] !== undefined) {\n",
       "      toinsert[toinsert.length - 1].firstChild.textContent = output.data[JS_MIME_TYPE];\n",
       "      // store reference to embed id on output_area\n",
       "      output_area._bokeh_element_id = output.metadata[EXEC_MIME_TYPE][\"id\"];\n",
       "    }\n",
       "    if (output.metadata[EXEC_MIME_TYPE][\"server_id\"] !== undefined) {\n",
       "      var bk_div = document.createElement(\"div\");\n",
       "      bk_div.innerHTML = output.data[HTML_MIME_TYPE];\n",
       "      var script_attrs = bk_div.children[0].attributes;\n",
       "      for (var i = 0; i < script_attrs.length; i++) {\n",
       "        toinsert[toinsert.length - 1].firstChild.setAttribute(script_attrs[i].name, script_attrs[i].value);\n",
       "      }\n",
       "      // store reference to server id on output_area\n",
       "      output_area._bokeh_server_id = output.metadata[EXEC_MIME_TYPE][\"server_id\"];\n",
       "    }\n",
       "  }\n",
       "\n",
       "  function register_renderer(events, OutputArea) {\n",
       "\n",
       "    function append_mime(data, metadata, element) {\n",
       "      // create a DOM node to render to\n",
       "      var toinsert = this.create_output_subarea(\n",
       "        metadata,\n",
       "        CLASS_NAME,\n",
       "        EXEC_MIME_TYPE\n",
       "      );\n",
       "      this.keyboard_manager.register_events(toinsert);\n",
       "      // Render to node\n",
       "      var props = {data: data, metadata: metadata[EXEC_MIME_TYPE]};\n",
       "      render(props, toinsert[toinsert.length - 1]);\n",
       "      element.append(toinsert);\n",
       "      return toinsert\n",
       "    }\n",
       "\n",
       "    /* Handle when an output is cleared or removed */\n",
       "    events.on('clear_output.CodeCell', handleClearOutput);\n",
       "    events.on('delete.Cell', handleClearOutput);\n",
       "\n",
       "    /* Handle when a new output is added */\n",
       "    events.on('output_added.OutputArea', handleAddOutput);\n",
       "\n",
       "    /**\n",
       "     * Register the mime type and append_mime function with output_area\n",
       "     */\n",
       "    OutputArea.prototype.register_mime_type(EXEC_MIME_TYPE, append_mime, {\n",
       "      /* Is output safe? */\n",
       "      safe: true,\n",
       "      /* Index of renderer in `output_area.display_order` */\n",
       "      index: 0\n",
       "    });\n",
       "  }\n",
       "\n",
       "  // register the mime type if in Jupyter Notebook environment and previously unregistered\n",
       "  if (root.Jupyter !== undefined) {\n",
       "    var events = require('base/js/events');\n",
       "    var OutputArea = require('notebook/js/outputarea').OutputArea;\n",
       "\n",
       "    if (OutputArea.prototype.mime_types().indexOf(EXEC_MIME_TYPE) == -1) {\n",
       "      register_renderer(events, OutputArea);\n",
       "    }\n",
       "  }\n",
       "\n",
       "  \n",
       "  if (typeof (root._bokeh_timeout) === \"undefined\" || force === true) {\n",
       "    root._bokeh_timeout = Date.now() + 5000;\n",
       "    root._bokeh_failed_load = false;\n",
       "  }\n",
       "\n",
       "  var NB_LOAD_WARNING = {'data': {'text/html':\n",
       "     \"<div style='background-color: #fdd'>\\n\"+\n",
       "     \"<p>\\n\"+\n",
       "     \"BokehJS does not appear to have successfully loaded. If loading BokehJS from CDN, this \\n\"+\n",
       "     \"may be due to a slow or bad network connection. Possible fixes:\\n\"+\n",
       "     \"</p>\\n\"+\n",
       "     \"<ul>\\n\"+\n",
       "     \"<li>re-rerun `output_notebook()` to attempt to load from CDN again, or</li>\\n\"+\n",
       "     \"<li>use INLINE resources instead, as so:</li>\\n\"+\n",
       "     \"</ul>\\n\"+\n",
       "     \"<code>\\n\"+\n",
       "     \"from bokeh.resources import INLINE\\n\"+\n",
       "     \"output_notebook(resources=INLINE)\\n\"+\n",
       "     \"</code>\\n\"+\n",
       "     \"</div>\"}};\n",
       "\n",
       "  function display_loaded() {\n",
       "    var el = document.getElementById(\"0ee7759c-de3e-4fe2-b872-27b7de95fb95\");\n",
       "    if (el != null) {\n",
       "      el.textContent = \"BokehJS is loading...\";\n",
       "    }\n",
       "    if (root.Bokeh !== undefined) {\n",
       "      if (el != null) {\n",
       "        el.textContent = \"BokehJS \" + root.Bokeh.version + \" successfully loaded.\";\n",
       "      }\n",
       "    } else if (Date.now() < root._bokeh_timeout) {\n",
       "      setTimeout(display_loaded, 100)\n",
       "    }\n",
       "  }\n",
       "\n",
       "\n",
       "  function run_callbacks() {\n",
       "    try {\n",
       "      root._bokeh_onload_callbacks.forEach(function(callback) { callback() });\n",
       "    }\n",
       "    finally {\n",
       "      delete root._bokeh_onload_callbacks\n",
       "    }\n",
       "    console.info(\"Bokeh: all callbacks have finished\");\n",
       "  }\n",
       "\n",
       "  function load_libs(js_urls, callback) {\n",
       "    root._bokeh_onload_callbacks.push(callback);\n",
       "    if (root._bokeh_is_loading > 0) {\n",
       "      console.log(\"Bokeh: BokehJS is being loaded, scheduling callback at\", now());\n",
       "      return null;\n",
       "    }\n",
       "    if (js_urls == null || js_urls.length === 0) {\n",
       "      run_callbacks();\n",
       "      return null;\n",
       "    }\n",
       "    console.log(\"Bokeh: BokehJS not loaded, scheduling load and callback at\", now());\n",
       "    root._bokeh_is_loading = js_urls.length;\n",
       "    for (var i = 0; i < js_urls.length; i++) {\n",
       "      var url = js_urls[i];\n",
       "      var s = document.createElement('script');\n",
       "      s.src = url;\n",
       "      s.async = false;\n",
       "      s.onreadystatechange = s.onload = function() {\n",
       "        root._bokeh_is_loading--;\n",
       "        if (root._bokeh_is_loading === 0) {\n",
       "          console.log(\"Bokeh: all BokehJS libraries loaded\");\n",
       "          run_callbacks()\n",
       "        }\n",
       "      };\n",
       "      s.onerror = function() {\n",
       "        console.warn(\"failed to load library \" + url);\n",
       "      };\n",
       "      console.log(\"Bokeh: injecting script tag for BokehJS library: \", url);\n",
       "      document.getElementsByTagName(\"head\")[0].appendChild(s);\n",
       "    }\n",
       "  };var element = document.getElementById(\"0ee7759c-de3e-4fe2-b872-27b7de95fb95\");\n",
       "  if (element == null) {\n",
       "    console.log(\"Bokeh: ERROR: autoload.js configured with elementid '0ee7759c-de3e-4fe2-b872-27b7de95fb95' but no matching script tag was found. \")\n",
       "    return false;\n",
       "  }\n",
       "\n",
       "  var js_urls = [\"https://cdn.pydata.org/bokeh/release/bokeh-0.12.16.min.js\", \"https://cdn.pydata.org/bokeh/release/bokeh-widgets-0.12.16.min.js\", \"https://cdn.pydata.org/bokeh/release/bokeh-tables-0.12.16.min.js\", \"https://cdn.pydata.org/bokeh/release/bokeh-gl-0.12.16.min.js\"];\n",
       "\n",
       "  var inline_js = [\n",
       "    function(Bokeh) {\n",
       "      Bokeh.set_log_level(\"info\");\n",
       "    },\n",
       "    \n",
       "    function(Bokeh) {\n",
       "      \n",
       "    },\n",
       "    function(Bokeh) {\n",
       "      console.log(\"Bokeh: injecting CSS: https://cdn.pydata.org/bokeh/release/bokeh-0.12.16.min.css\");\n",
       "      Bokeh.embed.inject_css(\"https://cdn.pydata.org/bokeh/release/bokeh-0.12.16.min.css\");\n",
       "      console.log(\"Bokeh: injecting CSS: https://cdn.pydata.org/bokeh/release/bokeh-widgets-0.12.16.min.css\");\n",
       "      Bokeh.embed.inject_css(\"https://cdn.pydata.org/bokeh/release/bokeh-widgets-0.12.16.min.css\");\n",
       "      console.log(\"Bokeh: injecting CSS: https://cdn.pydata.org/bokeh/release/bokeh-tables-0.12.16.min.css\");\n",
       "      Bokeh.embed.inject_css(\"https://cdn.pydata.org/bokeh/release/bokeh-tables-0.12.16.min.css\");\n",
       "    }\n",
       "  ];\n",
       "\n",
       "  function run_inline_js() {\n",
       "    \n",
       "    if ((root.Bokeh !== undefined) || (force === true)) {\n",
       "      for (var i = 0; i < inline_js.length; i++) {\n",
       "        inline_js[i].call(root, root.Bokeh);\n",
       "      }if (force === true) {\n",
       "        display_loaded();\n",
       "      }} else if (Date.now() < root._bokeh_timeout) {\n",
       "      setTimeout(run_inline_js, 100);\n",
       "    } else if (!root._bokeh_failed_load) {\n",
       "      console.log(\"Bokeh: BokehJS failed to load within specified timeout.\");\n",
       "      root._bokeh_failed_load = true;\n",
       "    } else if (force !== true) {\n",
       "      var cell = $(document.getElementById(\"0ee7759c-de3e-4fe2-b872-27b7de95fb95\")).parents('.cell').data().cell;\n",
       "      cell.output_area.append_execute_result(NB_LOAD_WARNING)\n",
       "    }\n",
       "\n",
       "  }\n",
       "\n",
       "  if (root._bokeh_is_loading === 0) {\n",
       "    console.log(\"Bokeh: BokehJS loaded, going straight to plotting\");\n",
       "    run_inline_js();\n",
       "  } else {\n",
       "    load_libs(js_urls, function() {\n",
       "      console.log(\"Bokeh: BokehJS plotting callback run at\", now());\n",
       "      run_inline_js();\n",
       "    });\n",
       "  }\n",
       "}(window));"
      ],
      "application/vnd.bokehjs_load.v0+json": "\n(function(root) {\n  function now() {\n    return new Date();\n  }\n\n  var force = true;\n\n  if (typeof (root._bokeh_onload_callbacks) === \"undefined\" || force === true) {\n    root._bokeh_onload_callbacks = [];\n    root._bokeh_is_loading = undefined;\n  }\n\n  \n\n  \n  if (typeof (root._bokeh_timeout) === \"undefined\" || force === true) {\n    root._bokeh_timeout = Date.now() + 5000;\n    root._bokeh_failed_load = false;\n  }\n\n  var NB_LOAD_WARNING = {'data': {'text/html':\n     \"<div style='background-color: #fdd'>\\n\"+\n     \"<p>\\n\"+\n     \"BokehJS does not appear to have successfully loaded. If loading BokehJS from CDN, this \\n\"+\n     \"may be due to a slow or bad network connection. Possible fixes:\\n\"+\n     \"</p>\\n\"+\n     \"<ul>\\n\"+\n     \"<li>re-rerun `output_notebook()` to attempt to load from CDN again, or</li>\\n\"+\n     \"<li>use INLINE resources instead, as so:</li>\\n\"+\n     \"</ul>\\n\"+\n     \"<code>\\n\"+\n     \"from bokeh.resources import INLINE\\n\"+\n     \"output_notebook(resources=INLINE)\\n\"+\n     \"</code>\\n\"+\n     \"</div>\"}};\n\n  function display_loaded() {\n    var el = document.getElementById(\"0ee7759c-de3e-4fe2-b872-27b7de95fb95\");\n    if (el != null) {\n      el.textContent = \"BokehJS is loading...\";\n    }\n    if (root.Bokeh !== undefined) {\n      if (el != null) {\n        el.textContent = \"BokehJS \" + root.Bokeh.version + \" successfully loaded.\";\n      }\n    } else if (Date.now() < root._bokeh_timeout) {\n      setTimeout(display_loaded, 100)\n    }\n  }\n\n\n  function run_callbacks() {\n    try {\n      root._bokeh_onload_callbacks.forEach(function(callback) { callback() });\n    }\n    finally {\n      delete root._bokeh_onload_callbacks\n    }\n    console.info(\"Bokeh: all callbacks have finished\");\n  }\n\n  function load_libs(js_urls, callback) {\n    root._bokeh_onload_callbacks.push(callback);\n    if (root._bokeh_is_loading > 0) {\n      console.log(\"Bokeh: BokehJS is being loaded, scheduling callback at\", now());\n      return null;\n    }\n    if (js_urls == null || js_urls.length === 0) {\n      run_callbacks();\n      return null;\n    }\n    console.log(\"Bokeh: BokehJS not loaded, scheduling load and callback at\", now());\n    root._bokeh_is_loading = js_urls.length;\n    for (var i = 0; i < js_urls.length; i++) {\n      var url = js_urls[i];\n      var s = document.createElement('script');\n      s.src = url;\n      s.async = false;\n      s.onreadystatechange = s.onload = function() {\n        root._bokeh_is_loading--;\n        if (root._bokeh_is_loading === 0) {\n          console.log(\"Bokeh: all BokehJS libraries loaded\");\n          run_callbacks()\n        }\n      };\n      s.onerror = function() {\n        console.warn(\"failed to load library \" + url);\n      };\n      console.log(\"Bokeh: injecting script tag for BokehJS library: \", url);\n      document.getElementsByTagName(\"head\")[0].appendChild(s);\n    }\n  };var element = document.getElementById(\"0ee7759c-de3e-4fe2-b872-27b7de95fb95\");\n  if (element == null) {\n    console.log(\"Bokeh: ERROR: autoload.js configured with elementid '0ee7759c-de3e-4fe2-b872-27b7de95fb95' but no matching script tag was found. \")\n    return false;\n  }\n\n  var js_urls = [\"https://cdn.pydata.org/bokeh/release/bokeh-0.12.16.min.js\", \"https://cdn.pydata.org/bokeh/release/bokeh-widgets-0.12.16.min.js\", \"https://cdn.pydata.org/bokeh/release/bokeh-tables-0.12.16.min.js\", \"https://cdn.pydata.org/bokeh/release/bokeh-gl-0.12.16.min.js\"];\n\n  var inline_js = [\n    function(Bokeh) {\n      Bokeh.set_log_level(\"info\");\n    },\n    \n    function(Bokeh) {\n      \n    },\n    function(Bokeh) {\n      console.log(\"Bokeh: injecting CSS: https://cdn.pydata.org/bokeh/release/bokeh-0.12.16.min.css\");\n      Bokeh.embed.inject_css(\"https://cdn.pydata.org/bokeh/release/bokeh-0.12.16.min.css\");\n      console.log(\"Bokeh: injecting CSS: https://cdn.pydata.org/bokeh/release/bokeh-widgets-0.12.16.min.css\");\n      Bokeh.embed.inject_css(\"https://cdn.pydata.org/bokeh/release/bokeh-widgets-0.12.16.min.css\");\n      console.log(\"Bokeh: injecting CSS: https://cdn.pydata.org/bokeh/release/bokeh-tables-0.12.16.min.css\");\n      Bokeh.embed.inject_css(\"https://cdn.pydata.org/bokeh/release/bokeh-tables-0.12.16.min.css\");\n    }\n  ];\n\n  function run_inline_js() {\n    \n    if ((root.Bokeh !== undefined) || (force === true)) {\n      for (var i = 0; i < inline_js.length; i++) {\n        inline_js[i].call(root, root.Bokeh);\n      }if (force === true) {\n        display_loaded();\n      }} else if (Date.now() < root._bokeh_timeout) {\n      setTimeout(run_inline_js, 100);\n    } else if (!root._bokeh_failed_load) {\n      console.log(\"Bokeh: BokehJS failed to load within specified timeout.\");\n      root._bokeh_failed_load = true;\n    } else if (force !== true) {\n      var cell = $(document.getElementById(\"0ee7759c-de3e-4fe2-b872-27b7de95fb95\")).parents('.cell').data().cell;\n      cell.output_area.append_execute_result(NB_LOAD_WARNING)\n    }\n\n  }\n\n  if (root._bokeh_is_loading === 0) {\n    console.log(\"Bokeh: BokehJS loaded, going straight to plotting\");\n    run_inline_js();\n  } else {\n    load_libs(js_urls, function() {\n      console.log(\"Bokeh: BokehJS plotting callback run at\", now());\n      run_inline_js();\n    });\n  }\n}(window));"
     },
     "metadata": {},
     "output_type": "display_data"
    }
   ],
   "source": [
    "output_notebook()"
   ]
  },
  {
   "cell_type": "code",
   "execution_count": 8,
   "metadata": {
    "collapsed": true
   },
   "outputs": [],
   "source": [
    "def fmt_cool(ds_in):\n",
    "    ds = ds_in.copy(deep=True)\n",
    "    if 'igg' in ds.dims:\n",
    "        ds = ds.sel(igg=1)\n",
    "\n",
    "    if 'g' in ds.dims:\n",
    "        ds = ds.sum('g')\n",
    "            \n",
    "    if 'band' in ds.dims:\n",
    "        try:\n",
    "            ds = ds.squeeze('band')\n",
    "        except ValueError:\n",
    "            ds = ds.sum('band')\n",
    "                \n",
    "    return ds['coolrg']\n",
    "\n",
    "\n",
    "def pltdata_cooling_1(ds_cool=None,\n",
    "                      ds_cool_crd=None, ds_cool_wgt=None):\n",
    "    \n",
    "\n",
    "\n",
    "    colors = all_palettes['Set1'][4]\n",
    "    data = [{'label': 'CLIRAD `coolr_bands`',\n",
    "             'srs': fmt_cool(ds_cool),\n",
    "             'line_dash': 'dashed', 'line_width': 5,\n",
    "             'color': colors[0], 'alpha': .6},\n",
    "            {'label': 'CRD',\n",
    "             'srs': fmt_cool(ds_cool_crd),\n",
    "             'line_dash': 'solid', 'line_width': 1.5,\n",
    "             'marker': 'circle', 'marker_size': 5,\n",
    "             'color': colors[2], 'alpha': 1,},\n",
    "            {'label': 'WGT igg=10 wgt_flux=2',\n",
    "             'srs': fmt_cool(ds_cool_wgt),\n",
    "             'line_dash': 'solid', 'line_width': 3,\n",
    "             'marker': 'square', 'marker_size': 5,\n",
    "             'color': colors[3], 'alpha': .6}]\n",
    "    return data\n",
    "\n",
    "\n",
    "def nice_xlims(pltdata=None, prange=None):\n",
    "    \n",
    "    def get_slice(srs):\n",
    "        return srs.sel(pressure=slice(*prange))\n",
    "    \n",
    "    srss = [d['srs'] for d in pltdata]\n",
    "    vmin = min([get_slice(srs).min() for srs in srss])\n",
    "    vmax = max([get_slice(srs).max() for srs in srss])\n",
    "    dv = (vmax - vmin) * .01\n",
    "    return float(vmin - dv), float(vmax + dv)\n",
    "    \n",
    "\n",
    "def plt_cooling_bokeh(pltdata=None):\n",
    "    '''\n",
    "    Plot a list of cooling rate profiles using bokeh.\n",
    "    '''\n",
    "    ymin = 1e-2 \n",
    "    ymax = 1020 \n",
    "        \n",
    "    p1 = figure(title=\"Linear pressure scale\", \n",
    "                plot_width=400)        \n",
    "    xmin, xmax = nice_xlims(pltdata, prange=(50, 1050))\n",
    "    for d in pltdata:\n",
    "        if 'marker' in d:\n",
    "            getattr(p1, d['marker'])(d['srs'].values, \n",
    "                    d['srs'].coords['pressure'].values,\n",
    "                    color=d['color'], alpha=.7)\n",
    "        p1.line(d['srs'].values, \n",
    "                d['srs'].coords['pressure'].values,\n",
    "                color=d['color'], alpha=d['alpha'], \n",
    "                line_width=d['line_width'], line_dash=d['line_dash'])\n",
    "    \n",
    "    p1.y_range = Range1d(ymax, ymin)\n",
    "    p1.yaxis.axis_label = 'pressure [mb]'   \n",
    "    p1.x_range = Range1d(xmin, xmax)\n",
    "    p1.xaxis.axis_label = 'cooling rate [K/day]'\n",
    "            \n",
    "    p2 = figure(title='Log pressure scale', y_axis_type='log',\n",
    "                plot_width=560)\n",
    "    xmin, xmax = nice_xlims(pltdata, prange=(.01, 200))\n",
    "    \n",
    "    rs = []\n",
    "    for d in pltdata:\n",
    "        rd = []\n",
    "        if 'marker' in d:\n",
    "            r_mark = getattr(p2, d['marker'])(d['srs'].values, \n",
    "                        d['srs'].coords['pressure'].values,\n",
    "                        color=d['color'], alpha=.7)\n",
    "            rd.append(r_mark)\n",
    "        r_line = p2.line(d['srs'].values, \n",
    "                    d['srs'].coords['pressure'].values,\n",
    "                    color=d['color'], alpha=d['alpha'], \n",
    "                    line_width=d['line_width'], line_dash=d['line_dash'])\n",
    "        rd.append(r_line)\n",
    "      \n",
    "        rs.append(rd)\n",
    "        \n",
    "    p2.y_range = Range1d(ymax, ymin)  \n",
    "    p2.yaxis.axis_label = 'pressure [mb]'\n",
    "    \n",
    "    p2.x_range = Range1d(xmin, xmax)\n",
    "    p2.xaxis.axis_label = 'cooling rate [K/day]'\n",
    "    \n",
    "    items = [(d['label'], r) for r, d in zip(rs, pltdata)]\n",
    "    legend = Legend(items=items, location=(10, -30))\n",
    "    legend.label_text_font_size = '8pt'\n",
    "    \n",
    "    p2.add_layout(legend, 'right')  \n",
    "    \n",
    "    show(gridplot(p1, p2, ncols=2, plot_height=500))\n",
    "    \n",
    "\n",
    "def script_plt_cooling():\n",
    "    pltdata = pltdata_cooling_1(\n",
    "        ds_cool=DS_COOL,\n",
    "        ds_cool_crd=DS_COOL_CRD,\n",
    "        ds_cool_wgt=DS_COOL_WGT)\n",
    "    plt_cooling_bokeh(pltdata=pltdata)\n",
    "    print('''FIGURE. Cooling rate profiles.''')"
   ]
  },
  {
   "cell_type": "code",
   "execution_count": 9,
   "metadata": {
    "collapsed": true
   },
   "outputs": [],
   "source": [
    "def fmt_flux(ds_in):\n",
    "    ds = ds_in.copy(deep=True)\n",
    "    \n",
    "    for l in ('level', 'layer'):\n",
    "        if l in ds.data_vars:\n",
    "            if len(ds[l].dims) > 1:\n",
    "                surface = {d: 0 for d in ds.dims if d != 'pressure'}\n",
    "                coord_level = ds[l][surface]\n",
    "                ds.coords[l] = ('pressure', coord_level)\n",
    "            else:\n",
    "                ds.coords[l] = ('pressure', ds[l])\n",
    "        \n",
    "    ds = ds.isel(pressure=[0, 23, -1])\n",
    "        \n",
    "    if 'igg' in ds.dims:\n",
    "        ds = ds.sel(igg=[1])\n",
    "        ds = ds.squeeze('igg').drop('igg')\n",
    "    \n",
    "    if 'g' in ds.dims:\n",
    "        ds = ds.sum('g')\n",
    "            \n",
    "    if 'band' in ds.dims:\n",
    "        try:\n",
    "            ds = ds.squeeze('band').drop('band')\n",
    "        except ValueError:\n",
    "            ds = ds.sum('band')\n",
    "                \n",
    "    df = ds.to_dataframe()\n",
    "    df = df.set_index('level', append=True)               \n",
    "    return df\n",
    "\n",
    "\n",
    "def tbdata_flux(ds_flux=None, ds_flux_crd=None, ds_flux_wgt=None):\n",
    "    ilevels = [0, 23, -1]\n",
    "            \n",
    "    benchmark = {'label': 'CRD',\n",
    "                 'df': fmt_flux(ds_flux_crd)}\n",
    "    \n",
    "    tbs = [{'label': 'WGT igg=10 wgt_flux=1',\n",
    "            'df': fmt_flux(ds_flux_wgt)},\n",
    "           {'label': 'CLIRAD',\n",
    "            'df': fmt_flux(ds_flux)}]\n",
    "    \n",
    "    data = {'benchmark': benchmark, 'others': tbs}\n",
    "    return data\n",
    "\n",
    "\n",
    "def tb_flux(tbdata=None):\n",
    "    benchmark = tbdata['benchmark']\n",
    "    others = tbdata['others']\n",
    "    \n",
    "    def show_tb(d=None):\n",
    "        display.display(d['df'])\n",
    "        print('Table.', 'Fluxes.', d['label'])\n",
    "        \n",
    "    def show_tbdiff(d0=None, d=None):\n",
    "        df = d['df']\n",
    "        df.index = d0['df'].index\n",
    "        display.display(df - d0['df'])\n",
    "        print('Table.', 'Fluxes.', \n",
    "              '({}) - ({})'.format(d['label'], d0['label']))\n",
    "        \n",
    "    show_tb(benchmark)\n",
    "    for d in others:\n",
    "        show_tb(d)\n",
    "        \n",
    "    for d in others:\n",
    "        show_tbdiff(d=d, d0=benchmark)\n",
    "        \n",
    "        \n",
    "def script_tb_flux():\n",
    "    data = tbdata_flux(ds_flux=DS_FLUX,\n",
    "                       ds_flux_crd=DS_FLUX_CRD,\n",
    "                       ds_flux_wgt=DS_FLUX_WGT)\n",
    "    tb_flux(tbdata=data)"
   ]
  },
  {
   "cell_type": "code",
   "execution_count": 10,
   "metadata": {
    "collapsed": true
   },
   "outputs": [],
   "source": [
    "def band_map():\n",
    "    '''\n",
    "    Maps spectral bands in lblnew to spectral bands in clirad.\n",
    "    '''\n",
    "    lblnew2clirad = {'1': '1',\n",
    "            '2': '2',\n",
    "            '3a': '3',\n",
    "            '3b': '4',\n",
    "            '3c': '5',\n",
    "            '4': '6', \n",
    "            '5': '7',\n",
    "            '6': '8',\n",
    "            '7': '9', \n",
    "            '8': '10',\n",
    "            '9': '11'}\n",
    "    \n",
    "    clirad2lblnew = {clirad: lblnew \n",
    "                     for lblnew, clirad in lblnew2clirad.items()}\n",
    "    return clirad2lblnew\n",
    "\n",
    "\n",
    "def gasbands():\n",
    "    bmap = band_map()\n",
    "    gases = list(PARAM['molecule'].keys())\n",
    "    \n",
    "    bands = [bmap[str(b)] for b in PARAM['band']]\n",
    "    return list(itertools.product(gases, bands))\n",
    "\n",
    "\n",
    "def print_bestfit_params():\n",
    "    print('Best-fit values for each (gas, band)')\n",
    "    print('------------------------------------')\n",
    "    for gas, band in gasbands():\n",
    "        print('o {} band{}'.format(gas, band))\n",
    "        param = bestfits.kdist_params(molecule=gas, band=band)\n",
    "        for name, value in sorted(param.items()):\n",
    "            print(2 * ' ' + '{} = {}'.format(name, value))\n",
    "\n",
    "        \n",
    "def print_input_param():        \n",
    "    for name, value in PARAM.items():\n",
    "        print('{} = {}'.format(name, value))\n",
    "        \n",
    "        \n",
    "def print_lblnew_param():\n",
    "    for name, value in sorted(PARAM_LBLNEW.items()):\n",
    "        print('{} = {}'.format(name, value))\n"
   ]
  },
  {
   "cell_type": "code",
   "execution_count": 11,
   "metadata": {
    "collapsed": true,
    "scrolled": false
   },
   "outputs": [],
   "source": [
    "def show_html(s):\n",
    "    display.display(display.HTML(s))\n",
    "\n",
    "    \n",
    "def show_markdown(s):\n",
    "    display.display(display.Markdown(s))\n",
    "\n",
    "    \n",
    "def script():\n",
    "    \n",
    "    title = '### CLIRAD-LW'\n",
    "    s_input = 'Input Parameters'\n",
    "    s_lblnew_param = 'LBLNEW case compaired against'\n",
    "    s_bestfits = 'Best-fit Parameters'\n",
    "    s_plt_cooling = 'Cooling Rate Profiles'\n",
    "    s_tb_flux = 'Flux Comparison'\n",
    "    \n",
    "    # title\n",
    "    show_markdown('### CLIRAD-LW')\n",
    "    \n",
    "    # TOC\n",
    "    show_markdown('### Table of Contents')\n",
    "    show_html(climahtml.getHTML_hrefanchor(s_input))\n",
    "    show_html(climahtml.getHTML_hrefanchor(s_lblnew_param))\n",
    "    show_html(climahtml.getHTML_hrefanchor(s_plt_cooling))\n",
    "    show_html(climahtml.getHTML_hrefanchor(s_tb_flux))\n",
    "    show_html(climahtml.getHTML_hrefanchor(s_bestfits))\n",
    "    \n",
    "    # Input parameters\n",
    "    show_html(climahtml.getHTML_idanchor(s_input))\n",
    "    show_markdown(climahtml.getMarkdown_sectitle(s_input))\n",
    "    print_input_param()\n",
    "    \n",
    "    # LBLNEW parameters \n",
    "    show_html(climahtml.getHTML_idanchor(s_lblnew_param))\n",
    "    show_markdown(climahtml.getMarkdown_sectitle(s_lblnew_param))\n",
    "    print_lblnew_param()\n",
    "    \n",
    "    # Cooling rate profiles\n",
    "    show_html(climahtml.getHTML_idanchor(s_plt_cooling))\n",
    "    show_markdown(climahtml.getMarkdown_sectitle(s_plt_cooling))\n",
    "    script_plt_cooling()\n",
    "    \n",
    "    # Flux comparison\n",
    "    show_html(climahtml.getHTML_idanchor(s_tb_flux))\n",
    "    show_markdown(climahtml.getMarkdown_sectitle(s_tb_flux))\n",
    "    script_tb_flux()\n",
    "    \n",
    "    # Best-fit values\n",
    "    show_html(climahtml.getHTML_idanchor(s_bestfits))\n",
    "    show_markdown(climahtml.getMarkdown_sectitle(s_bestfits))\n",
    "    print_bestfit_params()\n",
    "   \n",
    "    "
   ]
  },
  {
   "cell_type": "code",
   "execution_count": 12,
   "metadata": {
    "collapsed": true,
    "scrolled": false
   },
   "outputs": [
    {
     "data": {
      "text/markdown": [
       "### CLIRAD-LW"
      ],
      "text/plain": [
       "<IPython.core.display.Markdown object>"
      ]
     },
     "metadata": {},
     "output_type": "display_data"
    },
    {
     "data": {
      "text/markdown": [
       "### Table of Contents"
      ],
      "text/plain": [
       "<IPython.core.display.Markdown object>"
      ]
     },
     "metadata": {},
     "output_type": "display_data"
    },
    {
     "data": {
      "text/html": [
       "<a href=\"#Input_Parameters\">Input Parameters</a>"
      ],
      "text/plain": [
       "<IPython.core.display.HTML object>"
      ]
     },
     "metadata": {},
     "output_type": "display_data"
    },
    {
     "data": {
      "text/html": [
       "<a href=\"#LBLNEW_case_compaired_against\">LBLNEW case compaired against</a>"
      ],
      "text/plain": [
       "<IPython.core.display.HTML object>"
      ]
     },
     "metadata": {},
     "output_type": "display_data"
    },
    {
     "data": {
      "text/html": [
       "<a href=\"#Cooling_Rate_Profiles\">Cooling Rate Profiles</a>"
      ],
      "text/plain": [
       "<IPython.core.display.HTML object>"
      ]
     },
     "metadata": {},
     "output_type": "display_data"
    },
    {
     "data": {
      "text/html": [
       "<a href=\"#Flux_Comparison\">Flux Comparison</a>"
      ],
      "text/plain": [
       "<IPython.core.display.HTML object>"
      ]
     },
     "metadata": {},
     "output_type": "display_data"
    },
    {
     "data": {
      "text/html": [
       "<a href=\"#Best-fit_Parameters\">Best-fit Parameters</a>"
      ],
      "text/plain": [
       "<IPython.core.display.HTML object>"
      ]
     },
     "metadata": {},
     "output_type": "display_data"
    },
    {
     "data": {
      "text/html": [
       "<a id=\"Input_Parameters\"></a>"
      ],
      "text/plain": [
       "<IPython.core.display.HTML object>"
      ]
     },
     "metadata": {},
     "output_type": "display_data"
    },
    {
     "data": {
      "text/markdown": [
       "# Input Parameters"
      ],
      "text/plain": [
       "<IPython.core.display.Markdown object>"
      ]
     },
     "metadata": {},
     "output_type": "display_data"
    },
    {
     "name": "stdout",
     "output_type": "stream",
     "text": [
      "atmpro = mls\n",
      "band = [3]\n",
      "commitnumber = de5d43e\n",
      "molecule = {'n2o': 3.2e-07}\n",
      "tsfc = 294\n"
     ]
    },
    {
     "data": {
      "text/html": [
       "<a id=\"LBLNEW_case_compaired_against\"></a>"
      ],
      "text/plain": [
       "<IPython.core.display.HTML object>"
      ]
     },
     "metadata": {},
     "output_type": "display_data"
    },
    {
     "data": {
      "text/markdown": [
       "# LBLNEW case compaired against"
      ],
      "text/plain": [
       "<IPython.core.display.Markdown object>"
      ]
     },
     "metadata": {},
     "output_type": "display_data"
    },
    {
     "name": "stdout",
     "output_type": "stream",
     "text": [
      "atmpro = mls\n",
      "band = 3a\n",
      "commitnumber = 5014a19\n",
      "conc = 3.2e-07\n",
      "dv = 0.001\n",
      "klin = 2.22e-20\n",
      "molecule = n2o\n",
      "ng_adju = [0, 0]\n",
      "ng_refs = [1, 2]\n",
      "nv = 1000\n",
      "option_compute_btable = 0\n",
      "option_compute_ktable = 0\n",
      "option_wgt_flux = 1\n",
      "option_wgt_k = 1\n",
      "ref_pts = [(1, 250), (500, 250)]\n",
      "tsfc = 294\n",
      "vmax = 620\n",
      "vmin = 540\n",
      "w_diffuse = [(1.8,), (1.66, 1.8)]\n",
      "wgt = [(0.9,), (0.5, 0.95)]\n"
     ]
    },
    {
     "data": {
      "text/html": [
       "<a id=\"Cooling_Rate_Profiles\"></a>"
      ],
      "text/plain": [
       "<IPython.core.display.HTML object>"
      ]
     },
     "metadata": {},
     "output_type": "display_data"
    },
    {
     "data": {
      "text/markdown": [
       "# Cooling Rate Profiles"
      ],
      "text/plain": [
       "<IPython.core.display.Markdown object>"
      ]
     },
     "metadata": {},
     "output_type": "display_data"
    },
    {
     "data": {
      "text/html": [
       "\n",
       "<div class=\"bk-root\">\n",
       "    <div class=\"bk-plotdiv\" id=\"251abf14-edde-44e6-a22a-c187dd7ea6d7\"></div>\n",
       "</div>"
      ]
     },
     "metadata": {},
     "output_type": "display_data"
    },
    {
     "data": {
      "application/javascript": [
       "(function(root) {\n",
       "  function embed_document(root) {\n",
       "    \n",
       "  var docs_json = {\"7fcca1f2-a84d-4e5b-894f-3e6b0c28a9b4\":{\"roots\":{\"references\":[{\"attributes\":{\"overlay\":{\"id\":\"47dde72e-cb72-464b-9f2f-0dc1f765da64\",\"type\":\"BoxAnnotation\"}},\"id\":\"5f7581d9-f638-4994-871c-43f2f9779e2e\",\"type\":\"BoxZoomTool\"},{\"attributes\":{\"below\":[{\"id\":\"22afd0ca-06fb-48f3-a9b8-550b0a7089bc\",\"type\":\"LinearAxis\"}],\"left\":[{\"id\":\"a3d61d5b-60fd-409a-822e-f7c807414907\",\"type\":\"LinearAxis\"}],\"plot_height\":500,\"plot_width\":400,\"renderers\":[{\"id\":\"22afd0ca-06fb-48f3-a9b8-550b0a7089bc\",\"type\":\"LinearAxis\"},{\"id\":\"645841dc-66dd-4c3a-a63e-a9220d0dfe04\",\"type\":\"Grid\"},{\"id\":\"a3d61d5b-60fd-409a-822e-f7c807414907\",\"type\":\"LinearAxis\"},{\"id\":\"e29421ec-c655-4ac7-934d-095c7ac20288\",\"type\":\"Grid\"},{\"id\":\"4088f9dc-3e92-4d08-a259-6566de8aeafa\",\"type\":\"BoxAnnotation\"},{\"id\":\"79cbd925-1052-418b-9c62-c5ff442059b6\",\"type\":\"GlyphRenderer\"},{\"id\":\"3a127ade-c20f-4bbb-aecf-f4239a39144e\",\"type\":\"GlyphRenderer\"},{\"id\":\"5ccf4dc1-e364-4eb2-93ea-2a792f7e8211\",\"type\":\"GlyphRenderer\"},{\"id\":\"dec5b627-838e-4bbe-8f0f-c837b3b046c2\",\"type\":\"GlyphRenderer\"},{\"id\":\"601df0a3-3988-4409-9e31-9c8fd8c9a5de\",\"type\":\"GlyphRenderer\"}],\"title\":{\"id\":\"f88bee2b-199c-4a9c-b152-413f6a6e13aa\",\"type\":\"Title\"},\"toolbar\":{\"id\":\"4c5ed369-1a52-4b24-86e6-cc87a3fd98cc\",\"type\":\"Toolbar\"},\"toolbar_location\":null,\"x_range\":{\"id\":\"f9691d1f-b4da-4e7b-aa29-f5fa97b76f0d\",\"type\":\"Range1d\"},\"x_scale\":{\"id\":\"ba7851d8-de1b-49b1-ad56-8bccf85909e1\",\"type\":\"LinearScale\"},\"y_range\":{\"id\":\"949def7d-6787-415a-b78c-0c002066b4a9\",\"type\":\"Range1d\"},\"y_scale\":{\"id\":\"6f4690c4-762b-42d5-a776-503c538db050\",\"type\":\"LinearScale\"}},\"id\":\"f5996644-94b7-4078-95be-0d02a06de28c\",\"subtype\":\"Figure\",\"type\":\"Plot\"},{\"attributes\":{\"callback\":null,\"data\":{\"x\":{\"__ndarray__\":\"N1qKIPvccj9czE2X/VtzPwLcUqYJnHQ/QR74GqL7dT86Q5GbLl53P8n4bEZLw3g/Ih06Avcqej+YJpYyMZV7P22q4yEJAn0/+D77MmBxfj+/kE/58+J/P0JJnPamq4A/6YW+cFZngT89OlRzlTCCPyBUvEnBl4Q/YjVBJcA5iz9YAimer4qSP76PwfGJB5g/+zYMvJ34nT9pUN5tUxyiP3sRS6pTkKU/ehn9vf0rqT9oPhlR5CysP+0IT48RRqw/eXptguSnqT/wM5ckomKmP6XY8ka9EqM/NLBv7Fa/nz9nShMMvcqZP1cZzrwqRZQ/Tqnf73vsjT8kDtVjBuKDP/uqB81oy3Y/gLQATXPUYj9m7CejOJNFv34zMvfmrmu/kbJ6DV6Qdb/gG+7bvHV6vye9zsn0C3+/3m3GwK0Igb98kWfX+OV/v92JbsrQCXm/aFXpfVN3cb92ned65FBkv+ZhFiZT2Ui/wCeI5+9zTD9cLZZzQEpkP6tEM2VRlHA/WpyDD+XTdj+8UUpvKrJ8PwDEmeXwQ4E/OE74hJwPhD98qTXIrq6GPyrgxvg8N4k/Pr9d1KKziz/WgKDAAhSOP8mahmE2M5A/lMn561VdkT9+WRIL+XqSP7B02cdFl5M/moMuBU60lD9Q7/p1NMGVP06EFXfY1ZY/acqi9Rbklz+mUMrmWemYPwOumAKz8Zk/HjTwKZ3kmj81d7jKiMybPzwVv8yol5w/8AoR8GNFnT90IVymguidPzjP5JxJdJ4/yt/qbW0Jnz8SnpKsMZOfP5ZM2yngEaA/\",\"dtype\":\"float64\",\"shape\":[75]},\"y\":{\"__ndarray__\":\"GhExyth1ND/Sv8nbtpRIP2vylNV0PVE/aTum7souWD/At0SJ8fVgPw3Iuahxymc/MSNhhJWvcD/bTfBN02d3P2zb5nxnaoA/CD5h5MAGhz8NmeH1TyaQP+zrCsc9p5Y/LbKd76fGnz/bLW5ISEmmPww9YvTcQq8/JV2OstnstT8Er5Y7M8G+P0c+r3jqkcU/5h99k6ZBzj88bCIzFzjVP4enV8oyxN0//yH99nXg5D8qOpLLf0jtP5kqGJXUifQ/c9cS8kHP/D+/DpwzojQEQIEmwoanVwxA4lgXt9HgE0BSSZ2AJuIbQAMJih9jjiNA5q4l5INuK0AwTKYKRj0zQNv5fmq8/DpAaCJseHrtQkB/+zpwzoxKQM3MzMzMeFJAZmZmZmZqWEAAAAAAAFxeQM3MzMzMJmJAmpmZmZkfZUBmZmZmZhhoQDMzMzMzEWtAAAAAAAAKbkBmZmZmZoFwQM3MzMzM/XFAMzMzMzN6c0CamZmZmfZ0QAAAAAAAc3ZAZmZmZmbvd0DNzMzMzGt5QDMzMzMz6HpAmpmZmZlkfEAAAAAAAOF9QGZmZmZmXX9AZmZmZuZsgECamZmZGSuBQM3MzMxM6YFAAAAAAICngkAzMzMzs2WDQGZmZmbmI4RAmpmZmRnihEDNzMzMTKCFQAAAAACAXoZAMzMzM7Mch0BmZmZm5tqHQJqZmZkZmYhAzczMzExXiUAAAAAAgBWKQDMzMzOz04pAZmZmZuaRi0CamZmZGVCMQM3MzMxMDo1AAAAAAIDMjUAzMzMzs4qOQGZmZmbmSI9A\",\"dtype\":\"float64\",\"shape\":[75]}},\"selected\":{\"id\":\"01fe4854-6d79-4c2c-ab61-2a18ae948ee6\",\"type\":\"Selection\"},\"selection_policy\":{\"id\":\"fcdbb50c-33b4-49cf-a2ce-76414e82b6a9\",\"type\":\"UnionRenderers\"}},\"id\":\"6caf199b-43f6-4a25-93aa-58d21c8d6292\",\"type\":\"ColumnDataSource\"},{\"attributes\":{},\"id\":\"20b50c57-5993-4599-b38b-be333f2c1c66\",\"type\":\"HelpTool\"},{\"attributes\":{\"data_source\":{\"id\":\"06d6ddc2-16d2-42e8-a2bd-22df44b6ff98\",\"type\":\"ColumnDataSource\"},\"glyph\":{\"id\":\"8df17051-3a70-46ca-9f71-a871b3ef9189\",\"type\":\"Circle\"},\"hover_glyph\":null,\"muted_glyph\":null,\"nonselection_glyph\":{\"id\":\"05ea06ce-4df4-497b-8177-bac3b6ae3998\",\"type\":\"Circle\"},\"selection_glyph\":null,\"view\":{\"id\":\"ccc7cd5f-62bc-4663-979b-139342e3ef1d\",\"type\":\"CDSView\"}},\"id\":\"3a127ade-c20f-4bbb-aecf-f4239a39144e\",\"type\":\"GlyphRenderer\"},{\"attributes\":{\"callback\":null,\"data\":{\"x\":{\"__ndarray__\":\"nWTkmq29dT/5r32O+UN2P8ZxdF5pdXc/AcRaThu0eD+lp1yq2PR5P2PiiA2MN3s/2oanWRR9fD+Pe6KLB8R9PwAB6eZUDn8/0EpKWJwsgD9i4BOMvtKAPwgybKD6eIE/rymtCo8ggj9LUrD+g9OCP89/2mvr7oQ/Q88NHaDTij/6bogrRuGRP4ctEhqO1ZY/tpcW8JA0nD8qidPmi/+gP1PrRBzHHKQ/vRsaNbBspz9qH+FqUyuqP8NLlrGmVKo//HtooKsNqD+q6Ts+qCulPzCt3sUhOaI/ueSKG0+1nj/HCQ6N+UmZP2zCkLHnJpQ/lI/2ouoVjj/QbWoqECCEP9OJE3765nY/L3aOx+RCYT9x2lh0JytRv8vRCi0ep2+/7zynWDKZd7+ov9NuOE98v8dW9Q0jOIC/sexL89x0gb/kEIt+D0OAv8PHmQLv5nm/8ZeewYKacr9IMoppz/pmv0sTlLWdXFK/0OnaF4fsQD/WbG3yN0BhP7Ryc5ZH6m0/jm5QeJoedT8how1NQxd7P99kH5W3a4A/fYZPdaougz+6wo0k2dSFP1pRRgYAYYg/uEz/8sbSij/XnemDNzSNP2GuT31DiI8/MHcUhH7okD+3Gdlb6weSP0mhqEPZIZM/5e8J0r82lD8O+fppwkeVP3jUDx8VVZY/nUBNN81elz8aMrEI5GOYPzrrRmTHYpk/tS1bzzZVmj9HqU81JDWbP/xmeVaG/Js/f5DPpWSrnD8bTLENVkidP0HpSIT/2p0/3Kb53Glonj84s6cuKvOeP0VJmetsfJ8/\",\"dtype\":\"float64\",\"shape\":[75]},\"y\":{\"__ndarray__\":\"S/O/Q+51ND/Sv8nbtpRIP2vylNV0PVE/aTum7souWD/At0SJ8fVgPw3Iuahxymc/MSNhhJWvcD/bTfBN02d3P2zb5nxnaoA/CD5h5MAGhz8NmeH1TyaQP+zrCsc9p5Y/LbKd76fGnz/bLW5ISEmmPww9YvTcQq8/JV2OstnstT8Er5Y7M8G+P0c+r3jqkcU/5h99k6ZBzj88bCIzFzjVP4enV8oyxN0//yH99nXg5D8qOpLLf0jtP5kqGJXUifQ/c9cS8kHP/D+/DpwzojQEQIEmwoanVwxA4lgXt9HgE0BSSZ2AJuIbQAMJih9jjiNA5q4l5INuK0AwTKYKRj0zQNv5fmq8/DpAaCJseHrtQkB/+zpwzoxKQM3MzMzMeFJAZmZmZmZqWEAAAAAAAFxeQM3MzMzMJmJAmpmZmZkfZUBmZmZmZhhoQDMzMzMzEWtAAAAAAAAKbkBmZmZmZoFwQM3MzMzM/XFAMzMzMzN6c0CamZmZmfZ0QAAAAAAAc3ZAZmZmZmbvd0DNzMzMzGt5QDMzMzMz6HpAmpmZmZlkfEAAAAAAAOF9QGZmZmZmXX9AZmZmZuZsgECamZmZGSuBQM3MzMxM6YFAAAAAAICngkAzMzMzs2WDQGZmZmbmI4RAmpmZmRnihEDNzMzMTKCFQAAAAACAXoZAMzMzM7Mch0BmZmZm5tqHQJqZmZkZmYhAzczMzExXiUAAAAAAgBWKQDMzMzOz04pAZmZmZuaRi0CamZmZGVCMQM3MzMxMDo1AAAAAAIDMjUAzMzMzs4qOQGZmZmbmSI9A\",\"dtype\":\"float64\",\"shape\":[75]}},\"selected\":{\"id\":\"a6713d31-c1e4-44f5-8e3f-83a64bb33c32\",\"type\":\"Selection\"},\"selection_policy\":{\"id\":\"2e4a9ad2-2ec8-413c-b9f7-cd97b00b219d\",\"type\":\"UnionRenderers\"}},\"id\":\"8b00906d-a929-40f4-a3af-1bc79ac66dda\",\"type\":\"ColumnDataSource\"},{\"attributes\":{},\"id\":\"e14763c5-7ad1-4e45-9738-8e12835de7aa\",\"type\":\"PanTool\"},{\"attributes\":{\"fill_alpha\":{\"value\":0.7},\"fill_color\":{\"value\":\"#4daf4a\"},\"line_alpha\":{\"value\":0.7},\"line_color\":{\"value\":\"#4daf4a\"},\"x\":{\"field\":\"x\"},\"y\":{\"field\":\"y\"}},\"id\":\"8df17051-3a70-46ca-9f71-a871b3ef9189\",\"type\":\"Circle\"},{\"attributes\":{\"axis_label\":\"cooling rate [K/day]\",\"formatter\":{\"id\":\"386c18b7-c30a-487f-9b71-749b2dc737b5\",\"type\":\"BasicTickFormatter\"},\"plot\":{\"id\":\"89c18415-aecf-4eb8-b385-7e691275c499\",\"subtype\":\"Figure\",\"type\":\"Plot\"},\"ticker\":{\"id\":\"4fc9ffea-5436-4c93-b865-82d97d503de7\",\"type\":\"BasicTicker\"}},\"id\":\"95bf4ef1-cf4e-4aa5-9ca9-77edc0865f1d\",\"type\":\"LinearAxis\"},{\"attributes\":{\"axis_label\":\"pressure [mb]\",\"formatter\":{\"id\":\"d1668ee0-7cfb-412c-bc38-822122937fb1\",\"type\":\"LogTickFormatter\"},\"plot\":{\"id\":\"89c18415-aecf-4eb8-b385-7e691275c499\",\"subtype\":\"Figure\",\"type\":\"Plot\"},\"ticker\":{\"id\":\"4d830b02-8707-4d5e-8293-df4cf87c2d99\",\"type\":\"LogTicker\"}},\"id\":\"9428f351-8838-48cd-a7a0-ad9e437a805a\",\"type\":\"LogAxis\"},{\"attributes\":{\"callback\":null,\"data\":{\"x\":{\"__ndarray__\":\"N1qKIPvccj9czE2X/VtzPwLcUqYJnHQ/QR74GqL7dT86Q5GbLl53P8n4bEZLw3g/Ih06Avcqej+YJpYyMZV7P22q4yEJAn0/+D77MmBxfj+/kE/58+J/P0JJnPamq4A/6YW+cFZngT89OlRzlTCCPyBUvEnBl4Q/YjVBJcA5iz9YAimer4qSP76PwfGJB5g/+zYMvJ34nT9pUN5tUxyiP3sRS6pTkKU/ehn9vf0rqT9oPhlR5CysP+0IT48RRqw/eXptguSnqT/wM5ckomKmP6XY8ka9EqM/NLBv7Fa/nz9nShMMvcqZP1cZzrwqRZQ/Tqnf73vsjT8kDtVjBuKDP/uqB81oy3Y/gLQATXPUYj9m7CejOJNFv34zMvfmrmu/kbJ6DV6Qdb/gG+7bvHV6vye9zsn0C3+/3m3GwK0Igb98kWfX+OV/v92JbsrQCXm/aFXpfVN3cb92ned65FBkv+ZhFiZT2Ui/wCeI5+9zTD9cLZZzQEpkP6tEM2VRlHA/WpyDD+XTdj+8UUpvKrJ8PwDEmeXwQ4E/OE74hJwPhD98qTXIrq6GPyrgxvg8N4k/Pr9d1KKziz/WgKDAAhSOP8mahmE2M5A/lMn561VdkT9+WRIL+XqSP7B02cdFl5M/moMuBU60lD9Q7/p1NMGVP06EFXfY1ZY/acqi9Rbklz+mUMrmWemYPwOumAKz8Zk/HjTwKZ3kmj81d7jKiMybPzwVv8yol5w/8AoR8GNFnT90IVymguidPzjP5JxJdJ4/yt/qbW0Jnz8SnpKsMZOfP5ZM2yngEaA/\",\"dtype\":\"float64\",\"shape\":[75]},\"y\":{\"__ndarray__\":\"GhExyth1ND/Sv8nbtpRIP2vylNV0PVE/aTum7souWD/At0SJ8fVgPw3Iuahxymc/MSNhhJWvcD/bTfBN02d3P2zb5nxnaoA/CD5h5MAGhz8NmeH1TyaQP+zrCsc9p5Y/LbKd76fGnz/bLW5ISEmmPww9YvTcQq8/JV2OstnstT8Er5Y7M8G+P0c+r3jqkcU/5h99k6ZBzj88bCIzFzjVP4enV8oyxN0//yH99nXg5D8qOpLLf0jtP5kqGJXUifQ/c9cS8kHP/D+/DpwzojQEQIEmwoanVwxA4lgXt9HgE0BSSZ2AJuIbQAMJih9jjiNA5q4l5INuK0AwTKYKRj0zQNv5fmq8/DpAaCJseHrtQkB/+zpwzoxKQM3MzMzMeFJAZmZmZmZqWEAAAAAAAFxeQM3MzMzMJmJAmpmZmZkfZUBmZmZmZhhoQDMzMzMzEWtAAAAAAAAKbkBmZmZmZoFwQM3MzMzM/XFAMzMzMzN6c0CamZmZmfZ0QAAAAAAAc3ZAZmZmZmbvd0DNzMzMzGt5QDMzMzMz6HpAmpmZmZlkfEAAAAAAAOF9QGZmZmZmXX9AZmZmZuZsgECamZmZGSuBQM3MzMxM6YFAAAAAAICngkAzMzMzs2WDQGZmZmbmI4RAmpmZmRnihEDNzMzMTKCFQAAAAACAXoZAMzMzM7Mch0BmZmZm5tqHQJqZmZkZmYhAzczMzExXiUAAAAAAgBWKQDMzMzOz04pAZmZmZuaRi0CamZmZGVCMQM3MzMxMDo1AAAAAAIDMjUAzMzMzs4qOQGZmZmbmSI9A\",\"dtype\":\"float64\",\"shape\":[75]}},\"selected\":{\"id\":\"37890cfc-5ba7-49a4-941a-49d874e74e9a\",\"type\":\"Selection\"},\"selection_policy\":{\"id\":\"720c522c-c385-4586-a526-2a1bd6dbe467\",\"type\":\"UnionRenderers\"}},\"id\":\"879034a2-0e8f-4ae5-bb15-a4cb5861e991\",\"type\":\"ColumnDataSource\"},{\"attributes\":{\"callback\":null,\"end\":0.055859538548400006,\"start\":-0.009161137508399999},\"id\":\"e87cb29f-fad2-494b-8dc9-6e8ec1b9bc10\",\"type\":\"Range1d\"},{\"attributes\":{},\"id\":\"1976d877-3df0-4010-b720-615bed7f109d\",\"type\":\"BasicTicker\"},{\"attributes\":{\"source\":{\"id\":\"273903dc-c4e2-4ae0-8f10-4a720adcab30\",\"type\":\"ColumnDataSource\"}},\"id\":\"dbab9cb6-22df-4963-b35f-65066ac707a9\",\"type\":\"CDSView\"},{\"attributes\":{\"line_color\":\"#4daf4a\",\"line_width\":1.5,\"x\":{\"field\":\"x\"},\"y\":{\"field\":\"y\"}},\"id\":\"51013cc7-d0ff-47f2-a3af-68d6419eab39\",\"type\":\"Line\"},{\"attributes\":{\"num_minor_ticks\":10},\"id\":\"4d830b02-8707-4d5e-8293-df4cf87c2d99\",\"type\":\"LogTicker\"},{\"attributes\":{},\"id\":\"c508c04e-351a-43ec-91f6-b14fd015da1d\",\"type\":\"WheelZoomTool\"},{\"attributes\":{\"bottom_units\":\"screen\",\"fill_alpha\":{\"value\":0.5},\"fill_color\":{\"value\":\"lightgrey\"},\"left_units\":\"screen\",\"level\":\"overlay\",\"line_alpha\":{\"value\":1.0},\"line_color\":{\"value\":\"black\"},\"line_dash\":[4,4],\"line_width\":{\"value\":2},\"plot\":null,\"render_mode\":\"css\",\"right_units\":\"screen\",\"top_units\":\"screen\"},\"id\":\"4088f9dc-3e92-4d08-a259-6566de8aeafa\",\"type\":\"BoxAnnotation\"},{\"attributes\":{\"source\":{\"id\":\"1672cfcc-6e2c-424f-9a51-5ea2cefd4968\",\"type\":\"ColumnDataSource\"}},\"id\":\"015a26bf-2a16-46f5-a7c1-59aa93f2932c\",\"type\":\"CDSView\"},{\"attributes\":{\"children\":[{\"id\":\"b9ed5fb9-dcb6-4049-82e6-75c4dcf6e283\",\"type\":\"Row\"}]},\"id\":\"bd504340-e633-47ae-af86-32ee3826c5b5\",\"type\":\"Column\"},{\"attributes\":{\"source\":{\"id\":\"879034a2-0e8f-4ae5-bb15-a4cb5861e991\",\"type\":\"ColumnDataSource\"}},\"id\":\"eb456c7d-b0f7-4b9e-99be-9e260b117117\",\"type\":\"CDSView\"},{\"attributes\":{\"fill_alpha\":{\"value\":0.1},\"fill_color\":{\"value\":\"#1f77b4\"},\"line_alpha\":{\"value\":0.1},\"line_color\":{\"value\":\"#1f77b4\"},\"x\":{\"field\":\"x\"},\"y\":{\"field\":\"y\"}},\"id\":\"ec0b78fb-06cc-4a55-a782-6014250cf789\",\"type\":\"Square\"},{\"attributes\":{},\"id\":\"dce66810-f518-45ba-aaa9-3085efa3fdc3\",\"type\":\"PanTool\"},{\"attributes\":{},\"id\":\"9660a172-61d6-445e-87f6-1239b55f3704\",\"type\":\"BasicTicker\"},{\"attributes\":{},\"id\":\"33470e04-99eb-402b-a7b7-cb2e4f315227\",\"type\":\"SaveTool\"},{\"attributes\":{\"plot\":null,\"text\":\"Log pressure scale\"},\"id\":\"26e59852-2d9b-492c-92ec-5c29f0f3bead\",\"type\":\"Title\"},{\"attributes\":{},\"id\":\"6899baeb-6fb2-4495-9e55-08ff483f558f\",\"type\":\"ResetTool\"},{\"attributes\":{\"source\":{\"id\":\"06d6ddc2-16d2-42e8-a2bd-22df44b6ff98\",\"type\":\"ColumnDataSource\"}},\"id\":\"ccc7cd5f-62bc-4663-979b-139342e3ef1d\",\"type\":\"CDSView\"},{\"attributes\":{},\"id\":\"ba7851d8-de1b-49b1-ad56-8bccf85909e1\",\"type\":\"LinearScale\"},{\"attributes\":{\"line_alpha\":0.6,\"line_color\":\"#984ea3\",\"line_width\":3,\"x\":{\"field\":\"x\"},\"y\":{\"field\":\"y\"}},\"id\":\"b709e4b6-0195-457c-9177-66fc6a5cd6a7\",\"type\":\"Line\"},{\"attributes\":{\"bottom_units\":\"screen\",\"fill_alpha\":{\"value\":0.5},\"fill_color\":{\"value\":\"lightgrey\"},\"left_units\":\"screen\",\"level\":\"overlay\",\"line_alpha\":{\"value\":1.0},\"line_color\":{\"value\":\"black\"},\"line_dash\":[4,4],\"line_width\":{\"value\":2},\"plot\":null,\"render_mode\":\"css\",\"right_units\":\"screen\",\"top_units\":\"screen\"},\"id\":\"47dde72e-cb72-464b-9f2f-0dc1f765da64\",\"type\":\"BoxAnnotation\"},{\"attributes\":{},\"id\":\"6f4690c4-762b-42d5-a776-503c538db050\",\"type\":\"LinearScale\"},{\"attributes\":{\"line_alpha\":0.1,\"line_color\":\"#1f77b4\",\"line_dash\":[6],\"line_width\":5,\"x\":{\"field\":\"x\"},\"y\":{\"field\":\"y\"}},\"id\":\"e8b8ea27-113b-4b7f-9eee-439092ecda0e\",\"type\":\"Line\"},{\"attributes\":{},\"id\":\"1af84449-28a6-44d8-8024-708616515073\",\"type\":\"SaveTool\"},{\"attributes\":{\"dimension\":1,\"plot\":{\"id\":\"f5996644-94b7-4078-95be-0d02a06de28c\",\"subtype\":\"Figure\",\"type\":\"Plot\"},\"ticker\":{\"id\":\"1976d877-3df0-4010-b720-615bed7f109d\",\"type\":\"BasicTicker\"}},\"id\":\"e29421ec-c655-4ac7-934d-095c7ac20288\",\"type\":\"Grid\"},{\"attributes\":{\"data_source\":{\"id\":\"ff62bec2-c18b-42f3-8cd7-d6c77c006054\",\"type\":\"ColumnDataSource\"},\"glyph\":{\"id\":\"b709e4b6-0195-457c-9177-66fc6a5cd6a7\",\"type\":\"Line\"},\"hover_glyph\":null,\"muted_glyph\":null,\"nonselection_glyph\":{\"id\":\"80584940-3c72-492e-88c4-1b79cae73b78\",\"type\":\"Line\"},\"selection_glyph\":null,\"view\":{\"id\":\"b75d3f57-376b-4ea7-9c3d-31b5c73b3b30\",\"type\":\"CDSView\"}},\"id\":\"601df0a3-3988-4409-9e31-9c8fd8c9a5de\",\"type\":\"GlyphRenderer\"},{\"attributes\":{},\"id\":\"7e872cb9-1fca-4e4c-9452-8c0793504b0f\",\"type\":\"ResetTool\"},{\"attributes\":{\"fill_alpha\":{\"value\":0.1},\"fill_color\":{\"value\":\"#1f77b4\"},\"line_alpha\":{\"value\":0.1},\"line_color\":{\"value\":\"#1f77b4\"},\"x\":{\"field\":\"x\"},\"y\":{\"field\":\"y\"}},\"id\":\"05ea06ce-4df4-497b-8177-bac3b6ae3998\",\"type\":\"Circle\"},{\"attributes\":{\"line_alpha\":0.1,\"line_color\":\"#1f77b4\",\"line_dash\":[6],\"line_width\":5,\"x\":{\"field\":\"x\"},\"y\":{\"field\":\"y\"}},\"id\":\"820e3b19-70a6-4059-9bda-a73fa44391d3\",\"type\":\"Line\"},{\"attributes\":{\"axis_label\":\"cooling rate [K/day]\",\"formatter\":{\"id\":\"f3ece4fc-a28b-491e-bb5e-491ff19a391e\",\"type\":\"BasicTickFormatter\"},\"plot\":{\"id\":\"f5996644-94b7-4078-95be-0d02a06de28c\",\"subtype\":\"Figure\",\"type\":\"Plot\"},\"ticker\":{\"id\":\"9660a172-61d6-445e-87f6-1239b55f3704\",\"type\":\"BasicTicker\"}},\"id\":\"22afd0ca-06fb-48f3-a9b8-550b0a7089bc\",\"type\":\"LinearAxis\"},{\"attributes\":{},\"id\":\"b42b5d71-bece-4180-a741-baf0442854d1\",\"type\":\"WheelZoomTool\"},{\"attributes\":{},\"id\":\"2f21c041-34cd-4953-9761-81a9a1091c92\",\"type\":\"HelpTool\"},{\"attributes\":{\"callback\":null,\"data\":{\"x\":{\"__ndarray__\":\"N1qKIPvccj9czE2X/VtzPwLcUqYJnHQ/QR74GqL7dT86Q5GbLl53P8n4bEZLw3g/Ih06Avcqej+YJpYyMZV7P22q4yEJAn0/+D77MmBxfj+/kE/58+J/P0JJnPamq4A/6YW+cFZngT89OlRzlTCCPyBUvEnBl4Q/YjVBJcA5iz9YAimer4qSP76PwfGJB5g/+zYMvJ34nT9pUN5tUxyiP3sRS6pTkKU/ehn9vf0rqT9oPhlR5CysP+0IT48RRqw/eXptguSnqT/wM5ckomKmP6XY8ka9EqM/NLBv7Fa/nz9nShMMvcqZP1cZzrwqRZQ/Tqnf73vsjT8kDtVjBuKDP/uqB81oy3Y/gLQATXPUYj9m7CejOJNFv34zMvfmrmu/kbJ6DV6Qdb/gG+7bvHV6vye9zsn0C3+/3m3GwK0Igb98kWfX+OV/v92JbsrQCXm/aFXpfVN3cb92ned65FBkv+ZhFiZT2Ui/wCeI5+9zTD9cLZZzQEpkP6tEM2VRlHA/WpyDD+XTdj+8UUpvKrJ8PwDEmeXwQ4E/OE74hJwPhD98qTXIrq6GPyrgxvg8N4k/Pr9d1KKziz/WgKDAAhSOP8mahmE2M5A/lMn561VdkT9+WRIL+XqSP7B02cdFl5M/moMuBU60lD9Q7/p1NMGVP06EFXfY1ZY/acqi9Rbklz+mUMrmWemYPwOumAKz8Zk/HjTwKZ3kmj81d7jKiMybPzwVv8yol5w/8AoR8GNFnT90IVymguidPzjP5JxJdJ4/yt/qbW0Jnz8SnpKsMZOfP5ZM2yngEaA/\",\"dtype\":\"float64\",\"shape\":[75]},\"y\":{\"__ndarray__\":\"GhExyth1ND/Sv8nbtpRIP2vylNV0PVE/aTum7souWD/At0SJ8fVgPw3Iuahxymc/MSNhhJWvcD/bTfBN02d3P2zb5nxnaoA/CD5h5MAGhz8NmeH1TyaQP+zrCsc9p5Y/LbKd76fGnz/bLW5ISEmmPww9YvTcQq8/JV2OstnstT8Er5Y7M8G+P0c+r3jqkcU/5h99k6ZBzj88bCIzFzjVP4enV8oyxN0//yH99nXg5D8qOpLLf0jtP5kqGJXUifQ/c9cS8kHP/D+/DpwzojQEQIEmwoanVwxA4lgXt9HgE0BSSZ2AJuIbQAMJih9jjiNA5q4l5INuK0AwTKYKRj0zQNv5fmq8/DpAaCJseHrtQkB/+zpwzoxKQM3MzMzMeFJAZmZmZmZqWEAAAAAAAFxeQM3MzMzMJmJAmpmZmZkfZUBmZmZmZhhoQDMzMzMzEWtAAAAAAAAKbkBmZmZmZoFwQM3MzMzM/XFAMzMzMzN6c0CamZmZmfZ0QAAAAAAAc3ZAZmZmZmbvd0DNzMzMzGt5QDMzMzMz6HpAmpmZmZlkfEAAAAAAAOF9QGZmZmZmXX9AZmZmZuZsgECamZmZGSuBQM3MzMxM6YFAAAAAAICngkAzMzMzs2WDQGZmZmbmI4RAmpmZmRnihEDNzMzMTKCFQAAAAACAXoZAMzMzM7Mch0BmZmZm5tqHQJqZmZkZmYhAzczMzExXiUAAAAAAgBWKQDMzMzOz04pAZmZmZuaRi0CamZmZGVCMQM3MzMxMDo1AAAAAAIDMjUAzMzMzs4qOQGZmZmbmSI9A\",\"dtype\":\"float64\",\"shape\":[75]}},\"selected\":{\"id\":\"a1bcc2a3-c1e6-4731-82a4-73366f77ee11\",\"type\":\"Selection\"},\"selection_policy\":{\"id\":\"aa954bcc-086d-4c87-ae4e-e5aa4ed8d222\",\"type\":\"UnionRenderers\"}},\"id\":\"ff62bec2-c18b-42f3-8cd7-d6c77c006054\",\"type\":\"ColumnDataSource\"},{\"attributes\":{\"callback\":null,\"data\":{\"x\":{\"__ndarray__\":\"sxHf/NM8QT+2IwYYYY9GP3NgHTb2DVE/lz2FMyo2Vz8GlpmWvGhdPyvQRiSFz2E/ezX6uEHrZD9Ofd5cFQtoP87753fGKGs/o/0fSchFbj+ks1lf55lwP1h07qSsAHI/TZv7MCVHcz9Z+BWLoYx0PxP5gTZ4KXk/kn8VgACCgz+mYmNeRxyOP07ItT444ZQ/hguDdqojmz/AzlcN5eugP9823BJ8faQ/WUBr9QpIqD9CPOxnrFurPz0Zw2xnN6s/JAioh6AeqD+hRPBk3HmkP0lnHsiTB6E/F0QW/EXvmz8fWiQgOMSWP5KksPo/YZI/wu526LShjD9H44hpas+EP5UK6NbLNXw/eia4OLHecD96iYfxh5hTP0wtGRjZFF+/91JlEStgcb+WuwF1MtB3vwcEINFwAX6/+p0FJfUzgb8/dq36aU6Av5rj88JRfXm/Dj/UBjvPcb+NajIWFitlv9Yajt4o+U2/NHxPsI9FRj9y6U5mciBiP+x3JL9+P24/B1nfD+L7dD8Zm9xDUKJ6Py2q5vYpB4A/4VpUIH+dgj+scpeAPBSFPyijEwelb4c/c9Klxh62iT9COVAuLe2LP0wFm46OGI4/iK8MMEcdkD+uN5cGcSqRP3o+yz9vNJI/AtBWleU6kz8ZURd/lD6UP5OdhsFfQJU/ZTiPpFNAlj+7LR+25T2XP12otZbtNpg/ol3tdxQmmT9Dw5XFWgKaP9oki3Cdw5o/VYLhNvxpmz/nidOIGv6bP/ru5EAAipw/FzE4v2sUnT95MJTZQaGdP+k4om6sM54/\",\"dtype\":\"float64\",\"shape\":[75]},\"y\":{\"__ndarray__\":\"GhExyth1ND/Sv8nbtpRIP2vylNV0PVE/aTum7souWD/At0SJ8fVgPw3Iuahxymc/MSNhhJWvcD/bTfBN02d3P2zb5nxnaoA/CD5h5MAGhz8NmeH1TyaQP+zrCsc9p5Y/LbKd76fGnz/bLW5ISEmmPww9YvTcQq8/JV2OstnstT8Er5Y7M8G+P0c+r3jqkcU/5h99k6ZBzj88bCIzFzjVP4enV8oyxN0//yH99nXg5D8qOpLLf0jtP5kqGJXUifQ/c9cS8kHP/D+/DpwzojQEQIEmwoanVwxA4lgXt9HgE0BSSZ2AJuIbQAMJih9jjiNA5q4l5INuK0AwTKYKRj0zQNv5fmq8/DpAaCJseHrtQkB/+zpwzoxKQM3MzMzMeFJAZmZmZmZqWEAAAAAAAFxeQM3MzMzMJmJAmpmZmZkfZUBmZmZmZhhoQDMzMzMzEWtAAAAAAAAKbkBmZmZmZoFwQM3MzMzM/XFAMzMzMzN6c0CamZmZmfZ0QAAAAAAAc3ZAZmZmZmbvd0DNzMzMzGt5QDMzMzMz6HpAmpmZmZlkfEAAAAAAAOF9QGZmZmZmXX9AZmZmZuZsgECamZmZGSuBQM3MzMxM6YFAAAAAAICngkAzMzMzs2WDQGZmZmbmI4RAmpmZmRnihEDNzMzMTKCFQAAAAACAXoZAMzMzM7Mch0BmZmZm5tqHQJqZmZkZmYhAzczMzExXiUAAAAAAgBWKQDMzMzOz04pAZmZmZuaRi0CamZmZGVCMQM3MzMxMDo1AAAAAAIDMjUAzMzMzs4qOQGZmZmbmSI9A\",\"dtype\":\"float64\",\"shape\":[75]}},\"selected\":{\"id\":\"2293496e-6b62-43d7-8316-2d463f3ca9ff\",\"type\":\"Selection\"},\"selection_policy\":{\"id\":\"2bfb70c4-b346-46fc-9b93-3167f8c1e9ca\",\"type\":\"UnionRenderers\"}},\"id\":\"06d6ddc2-16d2-42e8-a2bd-22df44b6ff98\",\"type\":\"ColumnDataSource\"},{\"attributes\":{\"items\":[{\"id\":\"eef109a9-46af-4057-b177-d8a7e4610917\",\"type\":\"LegendItem\"},{\"id\":\"b2f9ba32-0d1f-47e9-8bbb-a6854590952e\",\"type\":\"LegendItem\"},{\"id\":\"a50a2d2a-e7a5-4704-a453-7130e8f222ed\",\"type\":\"LegendItem\"}],\"label_text_font_size\":{\"value\":\"8pt\"},\"location\":[10,-30],\"plot\":{\"id\":\"89c18415-aecf-4eb8-b385-7e691275c499\",\"subtype\":\"Figure\",\"type\":\"Plot\"}},\"id\":\"6b833a78-3f6f-44c8-8d6d-24d25ec0f3d5\",\"type\":\"Legend\"},{\"attributes\":{\"below\":[{\"id\":\"95bf4ef1-cf4e-4aa5-9ca9-77edc0865f1d\",\"type\":\"LinearAxis\"}],\"left\":[{\"id\":\"9428f351-8838-48cd-a7a0-ad9e437a805a\",\"type\":\"LogAxis\"}],\"plot_height\":500,\"plot_width\":560,\"renderers\":[{\"id\":\"95bf4ef1-cf4e-4aa5-9ca9-77edc0865f1d\",\"type\":\"LinearAxis\"},{\"id\":\"118262d2-d270-49a2-a4a3-b9f670b178a6\",\"type\":\"Grid\"},{\"id\":\"9428f351-8838-48cd-a7a0-ad9e437a805a\",\"type\":\"LogAxis\"},{\"id\":\"28f912ee-564d-431a-9c0a-e27ec8feeb9e\",\"type\":\"Grid\"},{\"id\":\"47dde72e-cb72-464b-9f2f-0dc1f765da64\",\"type\":\"BoxAnnotation\"},{\"id\":\"01b567bf-9cdd-486c-931b-1d30e4be5ac5\",\"type\":\"GlyphRenderer\"},{\"id\":\"9b229c82-0c8d-469a-9df0-63fb4e21320d\",\"type\":\"GlyphRenderer\"},{\"id\":\"23b6d83f-3947-4ae8-a6e3-cb26b5c97d84\",\"type\":\"GlyphRenderer\"},{\"id\":\"905d8b7a-f302-4469-aae6-180ca4e0d9b2\",\"type\":\"GlyphRenderer\"},{\"id\":\"a3896c19-fa7c-4724-b8ad-29175d71b71d\",\"type\":\"GlyphRenderer\"},{\"id\":\"6b833a78-3f6f-44c8-8d6d-24d25ec0f3d5\",\"type\":\"Legend\"}],\"right\":[{\"id\":\"6b833a78-3f6f-44c8-8d6d-24d25ec0f3d5\",\"type\":\"Legend\"}],\"title\":{\"id\":\"26e59852-2d9b-492c-92ec-5c29f0f3bead\",\"type\":\"Title\"},\"toolbar\":{\"id\":\"289627bd-685a-4c0b-9646-e86befc9d169\",\"type\":\"Toolbar\"},\"toolbar_location\":null,\"x_range\":{\"id\":\"e87cb29f-fad2-494b-8dc9-6e8ec1b9bc10\",\"type\":\"Range1d\"},\"x_scale\":{\"id\":\"6783f553-e6e5-4d9e-b432-ba2d29867910\",\"type\":\"LinearScale\"},\"y_range\":{\"id\":\"0dddc8e9-fe4a-4358-a71e-a57552b07714\",\"type\":\"Range1d\"},\"y_scale\":{\"id\":\"65efd159-bc81-45bb-899c-33500117a98e\",\"type\":\"LogScale\"}},\"id\":\"89c18415-aecf-4eb8-b385-7e691275c499\",\"subtype\":\"Figure\",\"type\":\"Plot\"},{\"attributes\":{\"data_source\":{\"id\":\"273903dc-c4e2-4ae0-8f10-4a720adcab30\",\"type\":\"ColumnDataSource\"},\"glyph\":{\"id\":\"b61803e6-0016-4a40-8095-cebadd8db594\",\"type\":\"Line\"},\"hover_glyph\":null,\"muted_glyph\":null,\"nonselection_glyph\":{\"id\":\"e8b8ea27-113b-4b7f-9eee-439092ecda0e\",\"type\":\"Line\"},\"selection_glyph\":null,\"view\":{\"id\":\"dbab9cb6-22df-4963-b35f-65066ac707a9\",\"type\":\"CDSView\"}},\"id\":\"79cbd925-1052-418b-9c62-c5ff442059b6\",\"type\":\"GlyphRenderer\"},{\"attributes\":{},\"id\":\"65efd159-bc81-45bb-899c-33500117a98e\",\"type\":\"LogScale\"},{\"attributes\":{\"plot\":{\"id\":\"89c18415-aecf-4eb8-b385-7e691275c499\",\"subtype\":\"Figure\",\"type\":\"Plot\"},\"ticker\":{\"id\":\"4fc9ffea-5436-4c93-b865-82d97d503de7\",\"type\":\"BasicTicker\"}},\"id\":\"118262d2-d270-49a2-a4a3-b9f670b178a6\",\"type\":\"Grid\"},{\"attributes\":{\"active_drag\":\"auto\",\"active_inspect\":\"auto\",\"active_scroll\":\"auto\",\"active_tap\":\"auto\",\"tools\":[{\"id\":\"e14763c5-7ad1-4e45-9738-8e12835de7aa\",\"type\":\"PanTool\"},{\"id\":\"c508c04e-351a-43ec-91f6-b14fd015da1d\",\"type\":\"WheelZoomTool\"},{\"id\":\"bb12d22a-45ea-4b37-acba-ded9a19d683c\",\"type\":\"BoxZoomTool\"},{\"id\":\"33470e04-99eb-402b-a7b7-cb2e4f315227\",\"type\":\"SaveTool\"},{\"id\":\"6899baeb-6fb2-4495-9e55-08ff483f558f\",\"type\":\"ResetTool\"},{\"id\":\"20b50c57-5993-4599-b38b-be333f2c1c66\",\"type\":\"HelpTool\"}]},\"id\":\"4c5ed369-1a52-4b24-86e6-cc87a3fd98cc\",\"type\":\"Toolbar\"},{\"attributes\":{\"data_source\":{\"id\":\"16f030c8-573e-4f95-abb0-aff98b177279\",\"type\":\"ColumnDataSource\"},\"glyph\":{\"id\":\"51013cc7-d0ff-47f2-a3af-68d6419eab39\",\"type\":\"Line\"},\"hover_glyph\":null,\"muted_glyph\":null,\"nonselection_glyph\":{\"id\":\"66ceba21-48b0-4c01-bbf9-47e8188e45ef\",\"type\":\"Line\"},\"selection_glyph\":null,\"view\":{\"id\":\"b66fa025-0b70-42e4-93cd-80df9055ec86\",\"type\":\"CDSView\"}},\"id\":\"5ccf4dc1-e364-4eb2-93ea-2a792f7e8211\",\"type\":\"GlyphRenderer\"},{\"attributes\":{},\"id\":\"4fc9ffea-5436-4c93-b865-82d97d503de7\",\"type\":\"BasicTicker\"},{\"attributes\":{\"dimension\":1,\"plot\":{\"id\":\"89c18415-aecf-4eb8-b385-7e691275c499\",\"subtype\":\"Figure\",\"type\":\"Plot\"},\"ticker\":{\"id\":\"4d830b02-8707-4d5e-8293-df4cf87c2d99\",\"type\":\"LogTicker\"}},\"id\":\"28f912ee-564d-431a-9c0a-e27ec8feeb9e\",\"type\":\"Grid\"},{\"attributes\":{\"line_alpha\":0.6,\"line_color\":\"#e41a1c\",\"line_dash\":[6],\"line_width\":5,\"x\":{\"field\":\"x\"},\"y\":{\"field\":\"y\"}},\"id\":\"86fac1bf-7b50-4b20-8157-9c4a1e1a83cb\",\"type\":\"Line\"},{\"attributes\":{\"axis_label\":\"pressure [mb]\",\"formatter\":{\"id\":\"23b860bd-4715-4d2c-b9ce-52420dd30864\",\"type\":\"BasicTickFormatter\"},\"plot\":{\"id\":\"f5996644-94b7-4078-95be-0d02a06de28c\",\"subtype\":\"Figure\",\"type\":\"Plot\"},\"ticker\":{\"id\":\"1976d877-3df0-4010-b720-615bed7f109d\",\"type\":\"BasicTicker\"}},\"id\":\"a3d61d5b-60fd-409a-822e-f7c807414907\",\"type\":\"LinearAxis\"},{\"attributes\":{\"callback\":null,\"end\":0.031785480902,\"start\":-0.008922780501999999},\"id\":\"f9691d1f-b4da-4e7b-aa29-f5fa97b76f0d\",\"type\":\"Range1d\"},{\"attributes\":{\"source\":{\"id\":\"16f030c8-573e-4f95-abb0-aff98b177279\",\"type\":\"ColumnDataSource\"}},\"id\":\"b66fa025-0b70-42e4-93cd-80df9055ec86\",\"type\":\"CDSView\"},{\"attributes\":{\"source\":{\"id\":\"ff62bec2-c18b-42f3-8cd7-d6c77c006054\",\"type\":\"ColumnDataSource\"}},\"id\":\"b75d3f57-376b-4ea7-9c3d-31b5c73b3b30\",\"type\":\"CDSView\"},{\"attributes\":{\"callback\":null,\"end\":0.01,\"start\":1020},\"id\":\"0dddc8e9-fe4a-4358-a71e-a57552b07714\",\"type\":\"Range1d\"},{\"attributes\":{\"active_drag\":\"auto\",\"active_inspect\":\"auto\",\"active_scroll\":\"auto\",\"active_tap\":\"auto\",\"tools\":[{\"id\":\"dce66810-f518-45ba-aaa9-3085efa3fdc3\",\"type\":\"PanTool\"},{\"id\":\"b42b5d71-bece-4180-a741-baf0442854d1\",\"type\":\"WheelZoomTool\"},{\"id\":\"5f7581d9-f638-4994-871c-43f2f9779e2e\",\"type\":\"BoxZoomTool\"},{\"id\":\"1af84449-28a6-44d8-8024-708616515073\",\"type\":\"SaveTool\"},{\"id\":\"7e872cb9-1fca-4e4c-9452-8c0793504b0f\",\"type\":\"ResetTool\"},{\"id\":\"2f21c041-34cd-4953-9761-81a9a1091c92\",\"type\":\"HelpTool\"}]},\"id\":\"289627bd-685a-4c0b-9646-e86befc9d169\",\"type\":\"Toolbar\"},{\"attributes\":{\"line_alpha\":0.1,\"line_color\":\"#1f77b4\",\"line_width\":1.5,\"x\":{\"field\":\"x\"},\"y\":{\"field\":\"y\"}},\"id\":\"66ceba21-48b0-4c01-bbf9-47e8188e45ef\",\"type\":\"Line\"},{\"attributes\":{\"overlay\":{\"id\":\"4088f9dc-3e92-4d08-a259-6566de8aeafa\",\"type\":\"BoxAnnotation\"}},\"id\":\"bb12d22a-45ea-4b37-acba-ded9a19d683c\",\"type\":\"BoxZoomTool\"},{\"attributes\":{\"data_source\":{\"id\":\"1672cfcc-6e2c-424f-9a51-5ea2cefd4968\",\"type\":\"ColumnDataSource\"},\"glyph\":{\"id\":\"54c27f57-0bab-4eba-b28f-647fd9e2b0c1\",\"type\":\"Square\"},\"hover_glyph\":null,\"muted_glyph\":null,\"nonselection_glyph\":{\"id\":\"ec0b78fb-06cc-4a55-a782-6014250cf789\",\"type\":\"Square\"},\"selection_glyph\":null,\"view\":{\"id\":\"015a26bf-2a16-46f5-a7c1-59aa93f2932c\",\"type\":\"CDSView\"}},\"id\":\"905d8b7a-f302-4469-aae6-180ca4e0d9b2\",\"type\":\"GlyphRenderer\"},{\"attributes\":{\"fill_alpha\":{\"value\":0.1},\"fill_color\":{\"value\":\"#1f77b4\"},\"line_alpha\":{\"value\":0.1},\"line_color\":{\"value\":\"#1f77b4\"},\"x\":{\"field\":\"x\"},\"y\":{\"field\":\"y\"}},\"id\":\"eaecc24c-1f66-43b3-818e-fb7d399c438d\",\"type\":\"Square\"},{\"attributes\":{\"line_alpha\":0.1,\"line_color\":\"#1f77b4\",\"line_width\":3,\"x\":{\"field\":\"x\"},\"y\":{\"field\":\"y\"}},\"id\":\"80584940-3c72-492e-88c4-1b79cae73b78\",\"type\":\"Line\"},{\"attributes\":{\"line_alpha\":0.6,\"line_color\":\"#984ea3\",\"line_width\":3,\"x\":{\"field\":\"x\"},\"y\":{\"field\":\"y\"}},\"id\":\"da635131-987d-422a-86ca-06ec9336edd3\",\"type\":\"Line\"},{\"attributes\":{},\"id\":\"6783f553-e6e5-4d9e-b432-ba2d29867910\",\"type\":\"LinearScale\"},{\"attributes\":{\"fill_alpha\":{\"value\":0.7},\"fill_color\":{\"value\":\"#984ea3\"},\"line_alpha\":{\"value\":0.7},\"line_color\":{\"value\":\"#984ea3\"},\"x\":{\"field\":\"x\"},\"y\":{\"field\":\"y\"}},\"id\":\"17437954-f4a2-4711-8fb5-80fd83cf7523\",\"type\":\"Square\"},{\"attributes\":{\"data_source\":{\"id\":\"879034a2-0e8f-4ae5-bb15-a4cb5861e991\",\"type\":\"ColumnDataSource\"},\"glyph\":{\"id\":\"17437954-f4a2-4711-8fb5-80fd83cf7523\",\"type\":\"Square\"},\"hover_glyph\":null,\"muted_glyph\":null,\"nonselection_glyph\":{\"id\":\"eaecc24c-1f66-43b3-818e-fb7d399c438d\",\"type\":\"Square\"},\"selection_glyph\":null,\"view\":{\"id\":\"eb456c7d-b0f7-4b9e-99be-9e260b117117\",\"type\":\"CDSView\"}},\"id\":\"dec5b627-838e-4bbe-8f0f-c837b3b046c2\",\"type\":\"GlyphRenderer\"},{\"attributes\":{\"plot\":null,\"text\":\"Linear pressure scale\"},\"id\":\"f88bee2b-199c-4a9c-b152-413f6a6e13aa\",\"type\":\"Title\"},{\"attributes\":{\"plot\":{\"id\":\"f5996644-94b7-4078-95be-0d02a06de28c\",\"subtype\":\"Figure\",\"type\":\"Plot\"},\"ticker\":{\"id\":\"9660a172-61d6-445e-87f6-1239b55f3704\",\"type\":\"BasicTicker\"}},\"id\":\"645841dc-66dd-4c3a-a63e-a9220d0dfe04\",\"type\":\"Grid\"},{\"attributes\":{\"callback\":null,\"data\":{\"x\":{\"__ndarray__\":\"sxHf/NM8QT+2IwYYYY9GP3NgHTb2DVE/lz2FMyo2Vz8GlpmWvGhdPyvQRiSFz2E/ezX6uEHrZD9Ofd5cFQtoP87753fGKGs/o/0fSchFbj+ks1lf55lwP1h07qSsAHI/TZv7MCVHcz9Z+BWLoYx0PxP5gTZ4KXk/kn8VgACCgz+mYmNeRxyOP07ItT444ZQ/hguDdqojmz/AzlcN5eugP9823BJ8faQ/WUBr9QpIqD9CPOxnrFurPz0Zw2xnN6s/JAioh6AeqD+hRPBk3HmkP0lnHsiTB6E/F0QW/EXvmz8fWiQgOMSWP5KksPo/YZI/wu526LShjD9H44hpas+EP5UK6NbLNXw/eia4OLHecD96iYfxh5hTP0wtGRjZFF+/91JlEStgcb+WuwF1MtB3vwcEINFwAX6/+p0FJfUzgb8/dq36aU6Av5rj88JRfXm/Dj/UBjvPcb+NajIWFitlv9Yajt4o+U2/NHxPsI9FRj9y6U5mciBiP+x3JL9+P24/B1nfD+L7dD8Zm9xDUKJ6Py2q5vYpB4A/4VpUIH+dgj+scpeAPBSFPyijEwelb4c/c9Klxh62iT9COVAuLe2LP0wFm46OGI4/iK8MMEcdkD+uN5cGcSqRP3o+yz9vNJI/AtBWleU6kz8ZURd/lD6UP5OdhsFfQJU/ZTiPpFNAlj+7LR+25T2XP12otZbtNpg/ol3tdxQmmT9Dw5XFWgKaP9oki3Cdw5o/VYLhNvxpmz/nidOIGv6bP/ru5EAAipw/FzE4v2sUnT95MJTZQaGdP+k4om6sM54/\",\"dtype\":\"float64\",\"shape\":[75]},\"y\":{\"__ndarray__\":\"GhExyth1ND/Sv8nbtpRIP2vylNV0PVE/aTum7souWD/At0SJ8fVgPw3Iuahxymc/MSNhhJWvcD/bTfBN02d3P2zb5nxnaoA/CD5h5MAGhz8NmeH1TyaQP+zrCsc9p5Y/LbKd76fGnz/bLW5ISEmmPww9YvTcQq8/JV2OstnstT8Er5Y7M8G+P0c+r3jqkcU/5h99k6ZBzj88bCIzFzjVP4enV8oyxN0//yH99nXg5D8qOpLLf0jtP5kqGJXUifQ/c9cS8kHP/D+/DpwzojQEQIEmwoanVwxA4lgXt9HgE0BSSZ2AJuIbQAMJih9jjiNA5q4l5INuK0AwTKYKRj0zQNv5fmq8/DpAaCJseHrtQkB/+zpwzoxKQM3MzMzMeFJAZmZmZmZqWEAAAAAAAFxeQM3MzMzMJmJAmpmZmZkfZUBmZmZmZhhoQDMzMzMzEWtAAAAAAAAKbkBmZmZmZoFwQM3MzMzM/XFAMzMzMzN6c0CamZmZmfZ0QAAAAAAAc3ZAZmZmZmbvd0DNzMzMzGt5QDMzMzMz6HpAmpmZmZlkfEAAAAAAAOF9QGZmZmZmXX9AZmZmZuZsgECamZmZGSuBQM3MzMxM6YFAAAAAAICngkAzMzMzs2WDQGZmZmbmI4RAmpmZmRnihEDNzMzMTKCFQAAAAACAXoZAMzMzM7Mch0BmZmZm5tqHQJqZmZkZmYhAzczMzExXiUAAAAAAgBWKQDMzMzOz04pAZmZmZuaRi0CamZmZGVCMQM3MzMxMDo1AAAAAAIDMjUAzMzMzs4qOQGZmZmbmSI9A\",\"dtype\":\"float64\",\"shape\":[75]}},\"selected\":{\"id\":\"bb31affc-d24c-46dc-accc-a0e0ebc14727\",\"type\":\"Selection\"},\"selection_policy\":{\"id\":\"9647e282-c3b9-4115-b775-53e5c294eb7b\",\"type\":\"UnionRenderers\"}},\"id\":\"16f030c8-573e-4f95-abb0-aff98b177279\",\"type\":\"ColumnDataSource\"},{\"attributes\":{\"tools\":[{\"id\":\"e14763c5-7ad1-4e45-9738-8e12835de7aa\",\"type\":\"PanTool\"},{\"id\":\"c508c04e-351a-43ec-91f6-b14fd015da1d\",\"type\":\"WheelZoomTool\"},{\"id\":\"bb12d22a-45ea-4b37-acba-ded9a19d683c\",\"type\":\"BoxZoomTool\"},{\"id\":\"33470e04-99eb-402b-a7b7-cb2e4f315227\",\"type\":\"SaveTool\"},{\"id\":\"6899baeb-6fb2-4495-9e55-08ff483f558f\",\"type\":\"ResetTool\"},{\"id\":\"20b50c57-5993-4599-b38b-be333f2c1c66\",\"type\":\"HelpTool\"},{\"id\":\"dce66810-f518-45ba-aaa9-3085efa3fdc3\",\"type\":\"PanTool\"},{\"id\":\"b42b5d71-bece-4180-a741-baf0442854d1\",\"type\":\"WheelZoomTool\"},{\"id\":\"5f7581d9-f638-4994-871c-43f2f9779e2e\",\"type\":\"BoxZoomTool\"},{\"id\":\"1af84449-28a6-44d8-8024-708616515073\",\"type\":\"SaveTool\"},{\"id\":\"7e872cb9-1fca-4e4c-9452-8c0793504b0f\",\"type\":\"ResetTool\"},{\"id\":\"2f21c041-34cd-4953-9761-81a9a1091c92\",\"type\":\"HelpTool\"}]},\"id\":\"2b1f7cc8-4857-4bcd-b101-0cf6304e217a\",\"type\":\"ProxyToolbar\"},{\"attributes\":{\"data_source\":{\"id\":\"6caf199b-43f6-4a25-93aa-58d21c8d6292\",\"type\":\"ColumnDataSource\"},\"glyph\":{\"id\":\"da635131-987d-422a-86ca-06ec9336edd3\",\"type\":\"Line\"},\"hover_glyph\":null,\"muted_glyph\":null,\"nonselection_glyph\":{\"id\":\"356eb6a9-f9f8-4470-a779-08ee7c235223\",\"type\":\"Line\"},\"selection_glyph\":null,\"view\":{\"id\":\"8ad57a49-6fe8-47f4-be9f-929276789ba8\",\"type\":\"CDSView\"}},\"id\":\"a3896c19-fa7c-4724-b8ad-29175d71b71d\",\"type\":\"GlyphRenderer\"},{\"attributes\":{\"toolbar\":{\"id\":\"2b1f7cc8-4857-4bcd-b101-0cf6304e217a\",\"type\":\"ProxyToolbar\"},\"toolbar_location\":\"above\"},\"id\":\"2888adb6-2672-4323-b244-37bbe1135501\",\"type\":\"ToolbarBox\"},{\"attributes\":{\"children\":[{\"id\":\"2888adb6-2672-4323-b244-37bbe1135501\",\"type\":\"ToolbarBox\"},{\"id\":\"bd504340-e633-47ae-af86-32ee3826c5b5\",\"type\":\"Column\"}]},\"id\":\"84116ce2-b4f6-42dc-a5b3-7970e015898e\",\"type\":\"Column\"},{\"attributes\":{\"callback\":null,\"end\":0.01,\"start\":1020},\"id\":\"949def7d-6787-415a-b78c-0c002066b4a9\",\"type\":\"Range1d\"},{\"attributes\":{\"callback\":null,\"data\":{\"x\":{\"__ndarray__\":\"sxHf/NM8QT+2IwYYYY9GP3NgHTb2DVE/lz2FMyo2Vz8GlpmWvGhdPyvQRiSFz2E/ezX6uEHrZD9Ofd5cFQtoP87753fGKGs/o/0fSchFbj+ks1lf55lwP1h07qSsAHI/TZv7MCVHcz9Z+BWLoYx0PxP5gTZ4KXk/kn8VgACCgz+mYmNeRxyOP07ItT444ZQ/hguDdqojmz/AzlcN5eugP9823BJ8faQ/WUBr9QpIqD9CPOxnrFurPz0Zw2xnN6s/JAioh6AeqD+hRPBk3HmkP0lnHsiTB6E/F0QW/EXvmz8fWiQgOMSWP5KksPo/YZI/wu526LShjD9H44hpas+EP5UK6NbLNXw/eia4OLHecD96iYfxh5hTP0wtGRjZFF+/91JlEStgcb+WuwF1MtB3vwcEINFwAX6/+p0FJfUzgb8/dq36aU6Av5rj88JRfXm/Dj/UBjvPcb+NajIWFitlv9Yajt4o+U2/NHxPsI9FRj9y6U5mciBiP+x3JL9+P24/B1nfD+L7dD8Zm9xDUKJ6Py2q5vYpB4A/4VpUIH+dgj+scpeAPBSFPyijEwelb4c/c9Klxh62iT9COVAuLe2LP0wFm46OGI4/iK8MMEcdkD+uN5cGcSqRP3o+yz9vNJI/AtBWleU6kz8ZURd/lD6UP5OdhsFfQJU/ZTiPpFNAlj+7LR+25T2XP12otZbtNpg/ol3tdxQmmT9Dw5XFWgKaP9oki3Cdw5o/VYLhNvxpmz/nidOIGv6bP/ru5EAAipw/FzE4v2sUnT95MJTZQaGdP+k4om6sM54/\",\"dtype\":\"float64\",\"shape\":[75]},\"y\":{\"__ndarray__\":\"GhExyth1ND/Sv8nbtpRIP2vylNV0PVE/aTum7souWD/At0SJ8fVgPw3Iuahxymc/MSNhhJWvcD/bTfBN02d3P2zb5nxnaoA/CD5h5MAGhz8NmeH1TyaQP+zrCsc9p5Y/LbKd76fGnz/bLW5ISEmmPww9YvTcQq8/JV2OstnstT8Er5Y7M8G+P0c+r3jqkcU/5h99k6ZBzj88bCIzFzjVP4enV8oyxN0//yH99nXg5D8qOpLLf0jtP5kqGJXUifQ/c9cS8kHP/D+/DpwzojQEQIEmwoanVwxA4lgXt9HgE0BSSZ2AJuIbQAMJih9jjiNA5q4l5INuK0AwTKYKRj0zQNv5fmq8/DpAaCJseHrtQkB/+zpwzoxKQM3MzMzMeFJAZmZmZmZqWEAAAAAAAFxeQM3MzMzMJmJAmpmZmZkfZUBmZmZmZhhoQDMzMzMzEWtAAAAAAAAKbkBmZmZmZoFwQM3MzMzM/XFAMzMzMzN6c0CamZmZmfZ0QAAAAAAAc3ZAZmZmZmbvd0DNzMzMzGt5QDMzMzMz6HpAmpmZmZlkfEAAAAAAAOF9QGZmZmZmXX9AZmZmZuZsgECamZmZGSuBQM3MzMxM6YFAAAAAAICngkAzMzMzs2WDQGZmZmbmI4RAmpmZmRnihEDNzMzMTKCFQAAAAACAXoZAMzMzM7Mch0BmZmZm5tqHQJqZmZkZmYhAzczMzExXiUAAAAAAgBWKQDMzMzOz04pAZmZmZuaRi0CamZmZGVCMQM3MzMxMDo1AAAAAAIDMjUAzMzMzs4qOQGZmZmbmSI9A\",\"dtype\":\"float64\",\"shape\":[75]}},\"selected\":{\"id\":\"73a5fbce-a78c-45cd-92de-ed6aabbe622e\",\"type\":\"Selection\"},\"selection_policy\":{\"id\":\"050de634-130a-4f2c-bcea-51f8f0f7dcaa\",\"type\":\"UnionRenderers\"}},\"id\":\"32cf10ac-0da6-44c4-a951-b809f9d62669\",\"type\":\"ColumnDataSource\"},{\"attributes\":{\"callback\":null,\"data\":{\"x\":{\"__ndarray__\":\"sxHf/NM8QT+2IwYYYY9GP3NgHTb2DVE/lz2FMyo2Vz8GlpmWvGhdPyvQRiSFz2E/ezX6uEHrZD9Ofd5cFQtoP87753fGKGs/o/0fSchFbj+ks1lf55lwP1h07qSsAHI/TZv7MCVHcz9Z+BWLoYx0PxP5gTZ4KXk/kn8VgACCgz+mYmNeRxyOP07ItT444ZQ/hguDdqojmz/AzlcN5eugP9823BJ8faQ/WUBr9QpIqD9CPOxnrFurPz0Zw2xnN6s/JAioh6AeqD+hRPBk3HmkP0lnHsiTB6E/F0QW/EXvmz8fWiQgOMSWP5KksPo/YZI/wu526LShjD9H44hpas+EP5UK6NbLNXw/eia4OLHecD96iYfxh5hTP0wtGRjZFF+/91JlEStgcb+WuwF1MtB3vwcEINFwAX6/+p0FJfUzgb8/dq36aU6Av5rj88JRfXm/Dj/UBjvPcb+NajIWFitlv9Yajt4o+U2/NHxPsI9FRj9y6U5mciBiP+x3JL9+P24/B1nfD+L7dD8Zm9xDUKJ6Py2q5vYpB4A/4VpUIH+dgj+scpeAPBSFPyijEwelb4c/c9Klxh62iT9COVAuLe2LP0wFm46OGI4/iK8MMEcdkD+uN5cGcSqRP3o+yz9vNJI/AtBWleU6kz8ZURd/lD6UP5OdhsFfQJU/ZTiPpFNAlj+7LR+25T2XP12otZbtNpg/ol3tdxQmmT9Dw5XFWgKaP9oki3Cdw5o/VYLhNvxpmz/nidOIGv6bP/ru5EAAipw/FzE4v2sUnT95MJTZQaGdP+k4om6sM54/\",\"dtype\":\"float64\",\"shape\":[75]},\"y\":{\"__ndarray__\":\"GhExyth1ND/Sv8nbtpRIP2vylNV0PVE/aTum7souWD/At0SJ8fVgPw3Iuahxymc/MSNhhJWvcD/bTfBN02d3P2zb5nxnaoA/CD5h5MAGhz8NmeH1TyaQP+zrCsc9p5Y/LbKd76fGnz/bLW5ISEmmPww9YvTcQq8/JV2OstnstT8Er5Y7M8G+P0c+r3jqkcU/5h99k6ZBzj88bCIzFzjVP4enV8oyxN0//yH99nXg5D8qOpLLf0jtP5kqGJXUifQ/c9cS8kHP/D+/DpwzojQEQIEmwoanVwxA4lgXt9HgE0BSSZ2AJuIbQAMJih9jjiNA5q4l5INuK0AwTKYKRj0zQNv5fmq8/DpAaCJseHrtQkB/+zpwzoxKQM3MzMzMeFJAZmZmZmZqWEAAAAAAAFxeQM3MzMzMJmJAmpmZmZkfZUBmZmZmZhhoQDMzMzMzEWtAAAAAAAAKbkBmZmZmZoFwQM3MzMzM/XFAMzMzMzN6c0CamZmZmfZ0QAAAAAAAc3ZAZmZmZmbvd0DNzMzMzGt5QDMzMzMz6HpAmpmZmZlkfEAAAAAAAOF9QGZmZmZmXX9AZmZmZuZsgECamZmZGSuBQM3MzMxM6YFAAAAAAICngkAzMzMzs2WDQGZmZmbmI4RAmpmZmRnihEDNzMzMTKCFQAAAAACAXoZAMzMzM7Mch0BmZmZm5tqHQJqZmZkZmYhAzczMzExXiUAAAAAAgBWKQDMzMzOz04pAZmZmZuaRi0CamZmZGVCMQM3MzMxMDo1AAAAAAIDMjUAzMzMzs4qOQGZmZmbmSI9A\",\"dtype\":\"float64\",\"shape\":[75]}},\"selected\":{\"id\":\"8febb3d8-aa04-44ee-bf5d-17e9b3ce494b\",\"type\":\"Selection\"},\"selection_policy\":{\"id\":\"f9555765-d759-4b02-b5a9-2aeb50dc7c2f\",\"type\":\"UnionRenderers\"}},\"id\":\"717eeeb4-9bca-499d-80bf-82f190457f1e\",\"type\":\"ColumnDataSource\"},{\"attributes\":{\"callback\":null,\"data\":{\"x\":{\"__ndarray__\":\"N1qKIPvccj9czE2X/VtzPwLcUqYJnHQ/QR74GqL7dT86Q5GbLl53P8n4bEZLw3g/Ih06Avcqej+YJpYyMZV7P22q4yEJAn0/+D77MmBxfj+/kE/58+J/P0JJnPamq4A/6YW+cFZngT89OlRzlTCCPyBUvEnBl4Q/YjVBJcA5iz9YAimer4qSP76PwfGJB5g/+zYMvJ34nT9pUN5tUxyiP3sRS6pTkKU/ehn9vf0rqT9oPhlR5CysP+0IT48RRqw/eXptguSnqT/wM5ckomKmP6XY8ka9EqM/NLBv7Fa/nz9nShMMvcqZP1cZzrwqRZQ/Tqnf73vsjT8kDtVjBuKDP/uqB81oy3Y/gLQATXPUYj9m7CejOJNFv34zMvfmrmu/kbJ6DV6Qdb/gG+7bvHV6vye9zsn0C3+/3m3GwK0Igb98kWfX+OV/v92JbsrQCXm/aFXpfVN3cb92ned65FBkv+ZhFiZT2Ui/wCeI5+9zTD9cLZZzQEpkP6tEM2VRlHA/WpyDD+XTdj+8UUpvKrJ8PwDEmeXwQ4E/OE74hJwPhD98qTXIrq6GPyrgxvg8N4k/Pr9d1KKziz/WgKDAAhSOP8mahmE2M5A/lMn561VdkT9+WRIL+XqSP7B02cdFl5M/moMuBU60lD9Q7/p1NMGVP06EFXfY1ZY/acqi9Rbklz+mUMrmWemYPwOumAKz8Zk/HjTwKZ3kmj81d7jKiMybPzwVv8yol5w/8AoR8GNFnT90IVymguidPzjP5JxJdJ4/yt/qbW0Jnz8SnpKsMZOfP5ZM2yngEaA/\",\"dtype\":\"float64\",\"shape\":[75]},\"y\":{\"__ndarray__\":\"GhExyth1ND/Sv8nbtpRIP2vylNV0PVE/aTum7souWD/At0SJ8fVgPw3Iuahxymc/MSNhhJWvcD/bTfBN02d3P2zb5nxnaoA/CD5h5MAGhz8NmeH1TyaQP+zrCsc9p5Y/LbKd76fGnz/bLW5ISEmmPww9YvTcQq8/JV2OstnstT8Er5Y7M8G+P0c+r3jqkcU/5h99k6ZBzj88bCIzFzjVP4enV8oyxN0//yH99nXg5D8qOpLLf0jtP5kqGJXUifQ/c9cS8kHP/D+/DpwzojQEQIEmwoanVwxA4lgXt9HgE0BSSZ2AJuIbQAMJih9jjiNA5q4l5INuK0AwTKYKRj0zQNv5fmq8/DpAaCJseHrtQkB/+zpwzoxKQM3MzMzMeFJAZmZmZmZqWEAAAAAAAFxeQM3MzMzMJmJAmpmZmZkfZUBmZmZmZhhoQDMzMzMzEWtAAAAAAAAKbkBmZmZmZoFwQM3MzMzM/XFAMzMzMzN6c0CamZmZmfZ0QAAAAAAAc3ZAZmZmZmbvd0DNzMzMzGt5QDMzMzMz6HpAmpmZmZlkfEAAAAAAAOF9QGZmZmZmXX9AZmZmZuZsgECamZmZGSuBQM3MzMxM6YFAAAAAAICngkAzMzMzs2WDQGZmZmbmI4RAmpmZmRnihEDNzMzMTKCFQAAAAACAXoZAMzMzM7Mch0BmZmZm5tqHQJqZmZkZmYhAzczMzExXiUAAAAAAgBWKQDMzMzOz04pAZmZmZuaRi0CamZmZGVCMQM3MzMxMDo1AAAAAAIDMjUAzMzMzs4qOQGZmZmbmSI9A\",\"dtype\":\"float64\",\"shape\":[75]}},\"selected\":{\"id\":\"a16db7f7-fa77-4f9e-8edd-b906fd54cee2\",\"type\":\"Selection\"},\"selection_policy\":{\"id\":\"165f8b61-2fc4-41b6-99c0-84d6b8406ec7\",\"type\":\"UnionRenderers\"}},\"id\":\"1672cfcc-6e2c-424f-9a51-5ea2cefd4968\",\"type\":\"ColumnDataSource\"},{\"attributes\":{\"fill_alpha\":{\"value\":0.1},\"fill_color\":{\"value\":\"#1f77b4\"},\"line_alpha\":{\"value\":0.1},\"line_color\":{\"value\":\"#1f77b4\"},\"x\":{\"field\":\"x\"},\"y\":{\"field\":\"y\"}},\"id\":\"069e8ecc-0d94-4bfd-92ee-aadbc98475d3\",\"type\":\"Circle\"},{\"attributes\":{\"data_source\":{\"id\":\"32cf10ac-0da6-44c4-a951-b809f9d62669\",\"type\":\"ColumnDataSource\"},\"glyph\":{\"id\":\"026f6a61-87cb-4f17-99ac-f41295a830ee\",\"type\":\"Circle\"},\"hover_glyph\":null,\"muted_glyph\":null,\"nonselection_glyph\":{\"id\":\"069e8ecc-0d94-4bfd-92ee-aadbc98475d3\",\"type\":\"Circle\"},\"selection_glyph\":null,\"view\":{\"id\":\"0f030afa-f916-4620-85cc-8da96d582e07\",\"type\":\"CDSView\"}},\"id\":\"9b229c82-0c8d-469a-9df0-63fb4e21320d\",\"type\":\"GlyphRenderer\"},{\"attributes\":{\"fill_alpha\":{\"value\":0.7},\"fill_color\":{\"value\":\"#4daf4a\"},\"line_alpha\":{\"value\":0.7},\"line_color\":{\"value\":\"#4daf4a\"},\"x\":{\"field\":\"x\"},\"y\":{\"field\":\"y\"}},\"id\":\"026f6a61-87cb-4f17-99ac-f41295a830ee\",\"type\":\"Circle\"},{\"attributes\":{\"source\":{\"id\":\"8b00906d-a929-40f4-a3af-1bc79ac66dda\",\"type\":\"ColumnDataSource\"}},\"id\":\"7831ac76-16e7-4c24-99b2-94ac995214d2\",\"type\":\"CDSView\"},{\"attributes\":{\"line_color\":\"#4daf4a\",\"line_width\":1.5,\"x\":{\"field\":\"x\"},\"y\":{\"field\":\"y\"}},\"id\":\"13208b90-116b-4b1d-97ec-09828dad0f34\",\"type\":\"Line\"},{\"attributes\":{\"source\":{\"id\":\"32cf10ac-0da6-44c4-a951-b809f9d62669\",\"type\":\"ColumnDataSource\"}},\"id\":\"0f030afa-f916-4620-85cc-8da96d582e07\",\"type\":\"CDSView\"},{\"attributes\":{\"callback\":null,\"data\":{\"x\":{\"__ndarray__\":\"nWTkmq29dT/5r32O+UN2P8ZxdF5pdXc/AcRaThu0eD+lp1yq2PR5P2PiiA2MN3s/2oanWRR9fD+Pe6KLB8R9PwAB6eZUDn8/0EpKWJwsgD9i4BOMvtKAPwgybKD6eIE/rymtCo8ggj9LUrD+g9OCP89/2mvr7oQ/Q88NHaDTij/6bogrRuGRP4ctEhqO1ZY/tpcW8JA0nD8qidPmi/+gP1PrRBzHHKQ/vRsaNbBspz9qH+FqUyuqP8NLlrGmVKo//HtooKsNqD+q6Ts+qCulPzCt3sUhOaI/ueSKG0+1nj/HCQ6N+UmZP2zCkLHnJpQ/lI/2ouoVjj/QbWoqECCEP9OJE3765nY/L3aOx+RCYT9x2lh0JytRv8vRCi0ep2+/7zynWDKZd7+ov9NuOE98v8dW9Q0jOIC/sexL89x0gb/kEIt+D0OAv8PHmQLv5nm/8ZeewYKacr9IMoppz/pmv0sTlLWdXFK/0OnaF4fsQD/WbG3yN0BhP7Ryc5ZH6m0/jm5QeJoedT8how1NQxd7P99kH5W3a4A/fYZPdaougz+6wo0k2dSFP1pRRgYAYYg/uEz/8sbSij/XnemDNzSNP2GuT31DiI8/MHcUhH7okD+3Gdlb6weSP0mhqEPZIZM/5e8J0r82lD8O+fppwkeVP3jUDx8VVZY/nUBNN81elz8aMrEI5GOYPzrrRmTHYpk/tS1bzzZVmj9HqU81JDWbP/xmeVaG/Js/f5DPpWSrnD8bTLENVkidP0HpSIT/2p0/3Kb53Glonj84s6cuKvOeP0VJmetsfJ8/\",\"dtype\":\"float64\",\"shape\":[75]},\"y\":{\"__ndarray__\":\"S/O/Q+51ND/Sv8nbtpRIP2vylNV0PVE/aTum7souWD/At0SJ8fVgPw3Iuahxymc/MSNhhJWvcD/bTfBN02d3P2zb5nxnaoA/CD5h5MAGhz8NmeH1TyaQP+zrCsc9p5Y/LbKd76fGnz/bLW5ISEmmPww9YvTcQq8/JV2OstnstT8Er5Y7M8G+P0c+r3jqkcU/5h99k6ZBzj88bCIzFzjVP4enV8oyxN0//yH99nXg5D8qOpLLf0jtP5kqGJXUifQ/c9cS8kHP/D+/DpwzojQEQIEmwoanVwxA4lgXt9HgE0BSSZ2AJuIbQAMJih9jjiNA5q4l5INuK0AwTKYKRj0zQNv5fmq8/DpAaCJseHrtQkB/+zpwzoxKQM3MzMzMeFJAZmZmZmZqWEAAAAAAAFxeQM3MzMzMJmJAmpmZmZkfZUBmZmZmZhhoQDMzMzMzEWtAAAAAAAAKbkBmZmZmZoFwQM3MzMzM/XFAMzMzMzN6c0CamZmZmfZ0QAAAAAAAc3ZAZmZmZmbvd0DNzMzMzGt5QDMzMzMz6HpAmpmZmZlkfEAAAAAAAOF9QGZmZmZmXX9AZmZmZuZsgECamZmZGSuBQM3MzMxM6YFAAAAAAICngkAzMzMzs2WDQGZmZmbmI4RAmpmZmRnihEDNzMzMTKCFQAAAAACAXoZAMzMzM7Mch0BmZmZm5tqHQJqZmZkZmYhAzczMzExXiUAAAAAAgBWKQDMzMzOz04pAZmZmZuaRi0CamZmZGVCMQM3MzMxMDo1AAAAAAIDMjUAzMzMzs4qOQGZmZmbmSI9A\",\"dtype\":\"float64\",\"shape\":[75]}},\"selected\":{\"id\":\"ea2dbafc-b9d4-4211-9b58-e91655deff0e\",\"type\":\"Selection\"},\"selection_policy\":{\"id\":\"6e84d41e-ef3f-40d6-85e2-c11f78e1f42c\",\"type\":\"UnionRenderers\"}},\"id\":\"273903dc-c4e2-4ae0-8f10-4a720adcab30\",\"type\":\"ColumnDataSource\"},{\"attributes\":{\"data_source\":{\"id\":\"8b00906d-a929-40f4-a3af-1bc79ac66dda\",\"type\":\"ColumnDataSource\"},\"glyph\":{\"id\":\"86fac1bf-7b50-4b20-8157-9c4a1e1a83cb\",\"type\":\"Line\"},\"hover_glyph\":null,\"muted_glyph\":null,\"nonselection_glyph\":{\"id\":\"820e3b19-70a6-4059-9bda-a73fa44391d3\",\"type\":\"Line\"},\"selection_glyph\":null,\"view\":{\"id\":\"7831ac76-16e7-4c24-99b2-94ac995214d2\",\"type\":\"CDSView\"}},\"id\":\"01b567bf-9cdd-486c-931b-1d30e4be5ac5\",\"type\":\"GlyphRenderer\"},{\"attributes\":{\"line_alpha\":0.1,\"line_color\":\"#1f77b4\",\"line_width\":1.5,\"x\":{\"field\":\"x\"},\"y\":{\"field\":\"y\"}},\"id\":\"639535e5-2987-476b-af3f-d34df01f1c8c\",\"type\":\"Line\"},{\"attributes\":{\"data_source\":{\"id\":\"717eeeb4-9bca-499d-80bf-82f190457f1e\",\"type\":\"ColumnDataSource\"},\"glyph\":{\"id\":\"13208b90-116b-4b1d-97ec-09828dad0f34\",\"type\":\"Line\"},\"hover_glyph\":null,\"muted_glyph\":null,\"nonselection_glyph\":{\"id\":\"639535e5-2987-476b-af3f-d34df01f1c8c\",\"type\":\"Line\"},\"selection_glyph\":null,\"view\":{\"id\":\"f6b14982-e755-4ef6-8789-a7edb804796f\",\"type\":\"CDSView\"}},\"id\":\"23b6d83f-3947-4ae8-a6e3-cb26b5c97d84\",\"type\":\"GlyphRenderer\"},{\"attributes\":{\"source\":{\"id\":\"717eeeb4-9bca-499d-80bf-82f190457f1e\",\"type\":\"ColumnDataSource\"}},\"id\":\"f6b14982-e755-4ef6-8789-a7edb804796f\",\"type\":\"CDSView\"},{\"attributes\":{\"fill_alpha\":{\"value\":0.7},\"fill_color\":{\"value\":\"#984ea3\"},\"line_alpha\":{\"value\":0.7},\"line_color\":{\"value\":\"#984ea3\"},\"x\":{\"field\":\"x\"},\"y\":{\"field\":\"y\"}},\"id\":\"54c27f57-0bab-4eba-b28f-647fd9e2b0c1\",\"type\":\"Square\"},{\"attributes\":{\"children\":[{\"id\":\"f5996644-94b7-4078-95be-0d02a06de28c\",\"subtype\":\"Figure\",\"type\":\"Plot\"},{\"id\":\"89c18415-aecf-4eb8-b385-7e691275c499\",\"subtype\":\"Figure\",\"type\":\"Plot\"}]},\"id\":\"b9ed5fb9-dcb6-4049-82e6-75c4dcf6e283\",\"type\":\"Row\"},{\"attributes\":{\"line_alpha\":0.1,\"line_color\":\"#1f77b4\",\"line_width\":3,\"x\":{\"field\":\"x\"},\"y\":{\"field\":\"y\"}},\"id\":\"356eb6a9-f9f8-4470-a779-08ee7c235223\",\"type\":\"Line\"},{\"attributes\":{\"source\":{\"id\":\"6caf199b-43f6-4a25-93aa-58d21c8d6292\",\"type\":\"ColumnDataSource\"}},\"id\":\"8ad57a49-6fe8-47f4-be9f-929276789ba8\",\"type\":\"CDSView\"},{\"attributes\":{},\"id\":\"f3ece4fc-a28b-491e-bb5e-491ff19a391e\",\"type\":\"BasicTickFormatter\"},{\"attributes\":{\"label\":{\"value\":\"CLIRAD `coolr_bands`\"},\"renderers\":[{\"id\":\"01b567bf-9cdd-486c-931b-1d30e4be5ac5\",\"type\":\"GlyphRenderer\"}]},\"id\":\"eef109a9-46af-4057-b177-d8a7e4610917\",\"type\":\"LegendItem\"},{\"attributes\":{},\"id\":\"23b860bd-4715-4d2c-b9ce-52420dd30864\",\"type\":\"BasicTickFormatter\"},{\"attributes\":{\"label\":{\"value\":\"CRD\"},\"renderers\":[{\"id\":\"9b229c82-0c8d-469a-9df0-63fb4e21320d\",\"type\":\"GlyphRenderer\"},{\"id\":\"23b6d83f-3947-4ae8-a6e3-cb26b5c97d84\",\"type\":\"GlyphRenderer\"}]},\"id\":\"b2f9ba32-0d1f-47e9-8bbb-a6854590952e\",\"type\":\"LegendItem\"},{\"attributes\":{},\"id\":\"6e84d41e-ef3f-40d6-85e2-c11f78e1f42c\",\"type\":\"UnionRenderers\"},{\"attributes\":{\"label\":{\"value\":\"WGT igg=10 wgt_flux=2\"},\"renderers\":[{\"id\":\"905d8b7a-f302-4469-aae6-180ca4e0d9b2\",\"type\":\"GlyphRenderer\"},{\"id\":\"a3896c19-fa7c-4724-b8ad-29175d71b71d\",\"type\":\"GlyphRenderer\"}]},\"id\":\"a50a2d2a-e7a5-4704-a453-7130e8f222ed\",\"type\":\"LegendItem\"},{\"attributes\":{\"line_alpha\":0.6,\"line_color\":\"#e41a1c\",\"line_dash\":[6],\"line_width\":5,\"x\":{\"field\":\"x\"},\"y\":{\"field\":\"y\"}},\"id\":\"b61803e6-0016-4a40-8095-cebadd8db594\",\"type\":\"Line\"},{\"attributes\":{},\"id\":\"a1bcc2a3-c1e6-4731-82a4-73366f77ee11\",\"type\":\"Selection\"},{\"attributes\":{},\"id\":\"2e4a9ad2-2ec8-413c-b9f7-cd97b00b219d\",\"type\":\"UnionRenderers\"},{\"attributes\":{},\"id\":\"ea2dbafc-b9d4-4211-9b58-e91655deff0e\",\"type\":\"Selection\"},{\"attributes\":{},\"id\":\"aa954bcc-086d-4c87-ae4e-e5aa4ed8d222\",\"type\":\"UnionRenderers\"},{\"attributes\":{},\"id\":\"2293496e-6b62-43d7-8316-2d463f3ca9ff\",\"type\":\"Selection\"},{\"attributes\":{},\"id\":\"2bfb70c4-b346-46fc-9b93-3167f8c1e9ca\",\"type\":\"UnionRenderers\"},{\"attributes\":{},\"id\":\"bb31affc-d24c-46dc-accc-a0e0ebc14727\",\"type\":\"Selection\"},{\"attributes\":{},\"id\":\"9647e282-c3b9-4115-b775-53e5c294eb7b\",\"type\":\"UnionRenderers\"},{\"attributes\":{},\"id\":\"37890cfc-5ba7-49a4-941a-49d874e74e9a\",\"type\":\"Selection\"},{\"attributes\":{},\"id\":\"720c522c-c385-4586-a526-2a1bd6dbe467\",\"type\":\"UnionRenderers\"},{\"attributes\":{},\"id\":\"a6713d31-c1e4-44f5-8e3f-83a64bb33c32\",\"type\":\"Selection\"},{\"attributes\":{},\"id\":\"fcdbb50c-33b4-49cf-a2ce-76414e82b6a9\",\"type\":\"UnionRenderers\"},{\"attributes\":{},\"id\":\"386c18b7-c30a-487f-9b71-749b2dc737b5\",\"type\":\"BasicTickFormatter\"},{\"attributes\":{\"ticker\":null},\"id\":\"d1668ee0-7cfb-412c-bc38-822122937fb1\",\"type\":\"LogTickFormatter\"},{\"attributes\":{},\"id\":\"a16db7f7-fa77-4f9e-8edd-b906fd54cee2\",\"type\":\"Selection\"},{\"attributes\":{},\"id\":\"73a5fbce-a78c-45cd-92de-ed6aabbe622e\",\"type\":\"Selection\"},{\"attributes\":{},\"id\":\"050de634-130a-4f2c-bcea-51f8f0f7dcaa\",\"type\":\"UnionRenderers\"},{\"attributes\":{},\"id\":\"165f8b61-2fc4-41b6-99c0-84d6b8406ec7\",\"type\":\"UnionRenderers\"},{\"attributes\":{},\"id\":\"8febb3d8-aa04-44ee-bf5d-17e9b3ce494b\",\"type\":\"Selection\"},{\"attributes\":{},\"id\":\"f9555765-d759-4b02-b5a9-2aeb50dc7c2f\",\"type\":\"UnionRenderers\"},{\"attributes\":{},\"id\":\"01fe4854-6d79-4c2c-ab61-2a18ae948ee6\",\"type\":\"Selection\"}],\"root_ids\":[\"84116ce2-b4f6-42dc-a5b3-7970e015898e\"]},\"title\":\"Bokeh Application\",\"version\":\"0.12.16\"}};\n",
       "  var render_items = [{\"docid\":\"7fcca1f2-a84d-4e5b-894f-3e6b0c28a9b4\",\"elementid\":\"251abf14-edde-44e6-a22a-c187dd7ea6d7\",\"modelid\":\"84116ce2-b4f6-42dc-a5b3-7970e015898e\"}];\n",
       "  root.Bokeh.embed.embed_items_notebook(docs_json, render_items);\n",
       "\n",
       "  }\n",
       "  if (root.Bokeh !== undefined) {\n",
       "    embed_document(root);\n",
       "  } else {\n",
       "    var attempts = 0;\n",
       "    var timer = setInterval(function(root) {\n",
       "      if (root.Bokeh !== undefined) {\n",
       "        embed_document(root);\n",
       "        clearInterval(timer);\n",
       "      }\n",
       "      attempts++;\n",
       "      if (attempts > 100) {\n",
       "        console.log(\"Bokeh: ERROR: Unable to run BokehJS code because BokehJS library is missing\")\n",
       "        clearInterval(timer);\n",
       "      }\n",
       "    }, 10, root)\n",
       "  }\n",
       "})(window);"
      ],
      "application/vnd.bokehjs_exec.v0+json": ""
     },
     "metadata": {
      "application/vnd.bokehjs_exec.v0+json": {
       "id": "84116ce2-b4f6-42dc-a5b3-7970e015898e"
      }
     },
     "output_type": "display_data"
    },
    {
     "name": "stdout",
     "output_type": "stream",
     "text": [
      "FIGURE. Cooling rate profiles.\n"
     ]
    },
    {
     "data": {
      "text/html": [
       "<a id=\"Flux_Comparison\"></a>"
      ],
      "text/plain": [
       "<IPython.core.display.HTML object>"
      ]
     },
     "metadata": {},
     "output_type": "display_data"
    },
    {
     "data": {
      "text/markdown": [
       "# Flux Comparison"
      ],
      "text/plain": [
       "<IPython.core.display.Markdown object>"
      ]
     },
     "metadata": {},
     "output_type": "display_data"
    },
    {
     "data": {
      "text/html": [
       "<div>\n",
       "<style scoped>\n",
       "    .dataframe tbody tr th:only-of-type {\n",
       "        vertical-align: middle;\n",
       "    }\n",
       "\n",
       "    .dataframe tbody tr th {\n",
       "        vertical-align: top;\n",
       "    }\n",
       "\n",
       "    .dataframe thead th {\n",
       "        text-align: right;\n",
       "    }\n",
       "</style>\n",
       "<table border=\"1\" class=\"dataframe\">\n",
       "  <thead>\n",
       "    <tr style=\"text-align: right;\">\n",
       "      <th></th>\n",
       "      <th></th>\n",
       "      <th>flug</th>\n",
       "      <th>fldg</th>\n",
       "      <th>fnetg</th>\n",
       "    </tr>\n",
       "    <tr>\n",
       "      <th>pressure</th>\n",
       "      <th>level</th>\n",
       "      <th></th>\n",
       "      <th></th>\n",
       "      <th></th>\n",
       "    </tr>\n",
       "  </thead>\n",
       "  <tbody>\n",
       "    <tr>\n",
       "      <th>0.0000</th>\n",
       "      <th>1</th>\n",
       "      <td>-35.017092</td>\n",
       "      <td>0.000000</td>\n",
       "      <td>-35.017092</td>\n",
       "    </tr>\n",
       "    <tr>\n",
       "      <th>1.0685</th>\n",
       "      <th>24</th>\n",
       "      <td>-35.016790</td>\n",
       "      <td>0.004570</td>\n",
       "      <td>-35.012219</td>\n",
       "    </tr>\n",
       "    <tr>\n",
       "      <th>1013.0000</th>\n",
       "      <th>76</th>\n",
       "      <td>-36.235408</td>\n",
       "      <td>2.613275</td>\n",
       "      <td>-33.622133</td>\n",
       "    </tr>\n",
       "  </tbody>\n",
       "</table>\n",
       "</div>"
      ],
      "text/plain": [
       "                      flug      fldg      fnetg\n",
       "pressure  level                                \n",
       "0.0000    1     -35.017092  0.000000 -35.017092\n",
       "1.0685    24    -35.016790  0.004570 -35.012219\n",
       "1013.0000 76    -36.235408  2.613275 -33.622133"
      ]
     },
     "metadata": {},
     "output_type": "display_data"
    },
    {
     "name": "stdout",
     "output_type": "stream",
     "text": [
      "Table. Fluxes. CRD\n"
     ]
    },
    {
     "data": {
      "text/html": [
       "<div>\n",
       "<style scoped>\n",
       "    .dataframe tbody tr th:only-of-type {\n",
       "        vertical-align: middle;\n",
       "    }\n",
       "\n",
       "    .dataframe tbody tr th {\n",
       "        vertical-align: top;\n",
       "    }\n",
       "\n",
       "    .dataframe thead th {\n",
       "        text-align: right;\n",
       "    }\n",
       "</style>\n",
       "<table border=\"1\" class=\"dataframe\">\n",
       "  <thead>\n",
       "    <tr style=\"text-align: right;\">\n",
       "      <th></th>\n",
       "      <th></th>\n",
       "      <th>flug</th>\n",
       "      <th>fldg</th>\n",
       "      <th>fnetg</th>\n",
       "    </tr>\n",
       "    <tr>\n",
       "      <th>pressure</th>\n",
       "      <th>level</th>\n",
       "      <th></th>\n",
       "      <th></th>\n",
       "      <th></th>\n",
       "    </tr>\n",
       "  </thead>\n",
       "  <tbody>\n",
       "    <tr>\n",
       "      <th>0.0000</th>\n",
       "      <th>1</th>\n",
       "      <td>-35.017698</td>\n",
       "      <td>0.000000</td>\n",
       "      <td>-35.017698</td>\n",
       "    </tr>\n",
       "    <tr>\n",
       "      <th>1.0685</th>\n",
       "      <th>24</th>\n",
       "      <td>-35.016942</td>\n",
       "      <td>0.004396</td>\n",
       "      <td>-35.012545</td>\n",
       "    </tr>\n",
       "    <tr>\n",
       "      <th>1013.0000</th>\n",
       "      <th>76</th>\n",
       "      <td>-36.235408</td>\n",
       "      <td>2.706732</td>\n",
       "      <td>-33.528677</td>\n",
       "    </tr>\n",
       "  </tbody>\n",
       "</table>\n",
       "</div>"
      ],
      "text/plain": [
       "                      flug      fldg      fnetg\n",
       "pressure  level                                \n",
       "0.0000    1     -35.017698  0.000000 -35.017698\n",
       "1.0685    24    -35.016942  0.004396 -35.012545\n",
       "1013.0000 76    -36.235408  2.706732 -33.528677"
      ]
     },
     "metadata": {},
     "output_type": "display_data"
    },
    {
     "name": "stdout",
     "output_type": "stream",
     "text": [
      "Table. Fluxes. WGT igg=10 wgt_flux=1\n"
     ]
    },
    {
     "data": {
      "text/html": [
       "<div>\n",
       "<style scoped>\n",
       "    .dataframe tbody tr th:only-of-type {\n",
       "        vertical-align: middle;\n",
       "    }\n",
       "\n",
       "    .dataframe tbody tr th {\n",
       "        vertical-align: top;\n",
       "    }\n",
       "\n",
       "    .dataframe thead th {\n",
       "        text-align: right;\n",
       "    }\n",
       "</style>\n",
       "<table border=\"1\" class=\"dataframe\">\n",
       "  <thead>\n",
       "    <tr style=\"text-align: right;\">\n",
       "      <th></th>\n",
       "      <th></th>\n",
       "      <th>flug</th>\n",
       "      <th>fldg</th>\n",
       "      <th>fnetg</th>\n",
       "    </tr>\n",
       "    <tr>\n",
       "      <th>pressure</th>\n",
       "      <th>level</th>\n",
       "      <th></th>\n",
       "      <th></th>\n",
       "      <th></th>\n",
       "    </tr>\n",
       "  </thead>\n",
       "  <tbody>\n",
       "    <tr>\n",
       "      <th>1.000000e-08</th>\n",
       "      <th>1</th>\n",
       "      <td>-35.064029</td>\n",
       "      <td>0.000002</td>\n",
       "      <td>-35.064028</td>\n",
       "    </tr>\n",
       "    <tr>\n",
       "      <th>1.068500e+00</th>\n",
       "      <th>24</th>\n",
       "      <td>-35.063219</td>\n",
       "      <td>0.004008</td>\n",
       "      <td>-35.059211</td>\n",
       "    </tr>\n",
       "    <tr>\n",
       "      <th>1.013000e+03</th>\n",
       "      <th>76</th>\n",
       "      <td>-36.235410</td>\n",
       "      <td>2.607666</td>\n",
       "      <td>-33.627744</td>\n",
       "    </tr>\n",
       "  </tbody>\n",
       "</table>\n",
       "</div>"
      ],
      "text/plain": [
       "                         flug      fldg      fnetg\n",
       "pressure     level                                \n",
       "1.000000e-08 1     -35.064029  0.000002 -35.064028\n",
       "1.068500e+00 24    -35.063219  0.004008 -35.059211\n",
       "1.013000e+03 76    -36.235410  2.607666 -33.627744"
      ]
     },
     "metadata": {},
     "output_type": "display_data"
    },
    {
     "name": "stdout",
     "output_type": "stream",
     "text": [
      "Table. Fluxes. CLIRAD\n"
     ]
    },
    {
     "data": {
      "text/html": [
       "<div>\n",
       "<style scoped>\n",
       "    .dataframe tbody tr th:only-of-type {\n",
       "        vertical-align: middle;\n",
       "    }\n",
       "\n",
       "    .dataframe tbody tr th {\n",
       "        vertical-align: top;\n",
       "    }\n",
       "\n",
       "    .dataframe thead th {\n",
       "        text-align: right;\n",
       "    }\n",
       "</style>\n",
       "<table border=\"1\" class=\"dataframe\">\n",
       "  <thead>\n",
       "    <tr style=\"text-align: right;\">\n",
       "      <th></th>\n",
       "      <th></th>\n",
       "      <th>flug</th>\n",
       "      <th>fldg</th>\n",
       "      <th>fnetg</th>\n",
       "    </tr>\n",
       "    <tr>\n",
       "      <th>pressure</th>\n",
       "      <th>level</th>\n",
       "      <th></th>\n",
       "      <th></th>\n",
       "      <th></th>\n",
       "    </tr>\n",
       "  </thead>\n",
       "  <tbody>\n",
       "    <tr>\n",
       "      <th>0.0000</th>\n",
       "      <th>1</th>\n",
       "      <td>-6.061600e-04</td>\n",
       "      <td>0.000000</td>\n",
       "      <td>-0.000606</td>\n",
       "    </tr>\n",
       "    <tr>\n",
       "      <th>1.0685</th>\n",
       "      <th>24</th>\n",
       "      <td>-1.517900e-04</td>\n",
       "      <td>-0.000175</td>\n",
       "      <td>-0.000326</td>\n",
       "    </tr>\n",
       "    <tr>\n",
       "      <th>1013.0000</th>\n",
       "      <th>76</th>\n",
       "      <td>-1.700000e-07</td>\n",
       "      <td>0.093457</td>\n",
       "      <td>0.093456</td>\n",
       "    </tr>\n",
       "  </tbody>\n",
       "</table>\n",
       "</div>"
      ],
      "text/plain": [
       "                         flug      fldg     fnetg\n",
       "pressure  level                                  \n",
       "0.0000    1     -6.061600e-04  0.000000 -0.000606\n",
       "1.0685    24    -1.517900e-04 -0.000175 -0.000326\n",
       "1013.0000 76    -1.700000e-07  0.093457  0.093456"
      ]
     },
     "metadata": {},
     "output_type": "display_data"
    },
    {
     "name": "stdout",
     "output_type": "stream",
     "text": [
      "Table. Fluxes. (WGT igg=10 wgt_flux=1) - (CRD)\n"
     ]
    },
    {
     "data": {
      "text/html": [
       "<div>\n",
       "<style scoped>\n",
       "    .dataframe tbody tr th:only-of-type {\n",
       "        vertical-align: middle;\n",
       "    }\n",
       "\n",
       "    .dataframe tbody tr th {\n",
       "        vertical-align: top;\n",
       "    }\n",
       "\n",
       "    .dataframe thead th {\n",
       "        text-align: right;\n",
       "    }\n",
       "</style>\n",
       "<table border=\"1\" class=\"dataframe\">\n",
       "  <thead>\n",
       "    <tr style=\"text-align: right;\">\n",
       "      <th></th>\n",
       "      <th></th>\n",
       "      <th>flug</th>\n",
       "      <th>fldg</th>\n",
       "      <th>fnetg</th>\n",
       "    </tr>\n",
       "    <tr>\n",
       "      <th>pressure</th>\n",
       "      <th>level</th>\n",
       "      <th></th>\n",
       "      <th></th>\n",
       "      <th></th>\n",
       "    </tr>\n",
       "  </thead>\n",
       "  <tbody>\n",
       "    <tr>\n",
       "      <th>0.0000</th>\n",
       "      <th>1</th>\n",
       "      <td>-0.046937</td>\n",
       "      <td>0.000002</td>\n",
       "      <td>-0.046936</td>\n",
       "    </tr>\n",
       "    <tr>\n",
       "      <th>1.0685</th>\n",
       "      <th>24</th>\n",
       "      <td>-0.046429</td>\n",
       "      <td>-0.000563</td>\n",
       "      <td>-0.046992</td>\n",
       "    </tr>\n",
       "    <tr>\n",
       "      <th>1013.0000</th>\n",
       "      <th>76</th>\n",
       "      <td>-0.000002</td>\n",
       "      <td>-0.005609</td>\n",
       "      <td>-0.005611</td>\n",
       "    </tr>\n",
       "  </tbody>\n",
       "</table>\n",
       "</div>"
      ],
      "text/plain": [
       "                     flug      fldg     fnetg\n",
       "pressure  level                              \n",
       "0.0000    1     -0.046937  0.000002 -0.046936\n",
       "1.0685    24    -0.046429 -0.000563 -0.046992\n",
       "1013.0000 76    -0.000002 -0.005609 -0.005611"
      ]
     },
     "metadata": {},
     "output_type": "display_data"
    },
    {
     "name": "stdout",
     "output_type": "stream",
     "text": [
      "Table. Fluxes. (CLIRAD) - (CRD)\n"
     ]
    },
    {
     "data": {
      "text/html": [
       "<a id=\"Best-fit_Parameters\"></a>"
      ],
      "text/plain": [
       "<IPython.core.display.HTML object>"
      ]
     },
     "metadata": {},
     "output_type": "display_data"
    },
    {
     "data": {
      "text/markdown": [
       "# Best-fit Parameters"
      ],
      "text/plain": [
       "<IPython.core.display.Markdown object>"
      ]
     },
     "metadata": {},
     "output_type": "display_data"
    },
    {
     "name": "stdout",
     "output_type": "stream",
     "text": [
      "Best-fit values for each (gas, band)\n",
      "------------------------------------\n",
      "o n2o band3a\n",
      "  atmpro = mls\n",
      "  band = 3a\n",
      "  commitnumber = a06b618\n",
      "  conc = 3.2e-07\n",
      "  dv = 0.001\n",
      "  klin = 2.22e-20\n",
      "  molecule = n2o\n",
      "  ng_adju = [0, 0]\n",
      "  ng_refs = [1, 2]\n",
      "  nv = 1000\n",
      "  option_compute_btable = 0\n",
      "  option_compute_ktable = 1\n",
      "  option_wgt_flux = 1\n",
      "  option_wgt_k = 1\n",
      "  ref_pts = [(1, 250), (500, 250)]\n",
      "  tsfc = 294\n",
      "  vmax = 620\n",
      "  vmin = 540\n",
      "  w_diffuse = [(1.8,), (1.66, 1.8)]\n",
      "  wgt = [(0.9,), (0.5, 0.95)]\n"
     ]
    }
   ],
   "source": [
    "script()"
   ]
  },
  {
   "cell_type": "code",
   "execution_count": 13,
   "metadata": {
    "collapsed": true
   },
   "outputs": [
    {
     "data": {
      "text/html": [
       "<script>\n",
       "code_show=true; \n",
       "function code_toggle() {\n",
       " if (code_show){\n",
       " $('div.input').hide();\n",
       " } else {\n",
       " $('div.input').show();\n",
       " }\n",
       " code_show = !code_show\n",
       "} \n",
       "$( document ).ready(code_toggle);\n",
       "</script>\n",
       "<form action=\"javascript:code_toggle()\"><input type=\"submit\" value=\"Click here to toggle on/off the raw code.\"></form>"
      ],
      "text/plain": [
       "<IPython.core.display.HTML object>"
      ]
     },
     "execution_count": 13,
     "metadata": {},
     "output_type": "execute_result"
    }
   ],
   "source": [
    "display.HTML('''<script>\n",
    "code_show=true; \n",
    "function code_toggle() {\n",
    " if (code_show){\n",
    " $('div.input').hide();\n",
    " } else {\n",
    " $('div.input').show();\n",
    " }\n",
    " code_show = !code_show\n",
    "} \n",
    "$( document ).ready(code_toggle);\n",
    "</script>\n",
    "<form action=\"javascript:code_toggle()\"><input type=\"submit\" value=\"Click here to toggle on/off the raw code.\"></form>''')"
   ]
  }
 ],
 "metadata": {
  "kernelspec": {
   "display_name": "Python 3",
   "language": "python",
   "name": "python3"
  },
  "language_info": {
   "codemirror_mode": {
    "name": "ipython",
    "version": 3
   },
   "file_extension": ".py",
   "mimetype": "text/x-python",
   "name": "python",
   "nbconvert_exporter": "python",
   "pygments_lexer": "ipython3",
   "version": "3.6.1"
  }
 },
 "nbformat": 4,
 "nbformat_minor": 2
}
