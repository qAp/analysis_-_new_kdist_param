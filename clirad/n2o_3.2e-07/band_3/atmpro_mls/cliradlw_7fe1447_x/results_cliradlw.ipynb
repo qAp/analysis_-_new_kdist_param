{
 "cells": [
  {
   "cell_type": "code",
   "execution_count": 1,
   "metadata": {
    "collapsed": true
   },
   "outputs": [],
   "source": [
    "%matplotlib inline\n",
    "import os\n",
    "import re\n",
    "import io\n",
    "import itertools\n",
    "import pprint\n",
    "\n",
    "from bokeh.io import output_notebook, show\n",
    "from bokeh.layouts import gridplot\n",
    "from bokeh.plotting import figure\n",
    "from bokeh.models import Range1d, Legend\n",
    "from bokeh.palettes import all_palettes\n",
    "\n",
    "import matplotlib\n",
    "import matplotlib.pyplot as plt\n",
    "import numpy as np\n",
    "import pandas as pd\n",
    "import xarray as xr\n",
    "\n",
    "import climatools.lblnew.bestfit_params as bestfits\n",
    "from climatools.lblnew import setup_bestfit, setup_overlap\n",
    "import climatools.lblnew.pipeline as pipe_lblnew\n",
    "import climatools.cliradlw.setup as setup_cliradlw\n",
    "import climatools.cliradlw.pipeline as pipe_cliradlw\n",
    "\n",
    "import climatools.html.html as climahtml\n",
    "from climatools.lblnew.dataio import *\n",
    "from climatools.plot.plot import *\n",
    "\n",
    "\n",
    "import IPython.display as display"
   ]
  },
  {
   "cell_type": "code",
   "execution_count": 2,
   "metadata": {
    "collapsed": true
   },
   "outputs": [],
   "source": [
    "%run param.py"
   ]
  },
  {
   "cell_type": "code",
   "execution_count": 3,
   "metadata": {
    "collapsed": true
   },
   "outputs": [],
   "source": [
    "def load_output_file(path_csv):\n",
    "    '''\n",
    "    Load lblnew output .csv file to xarray.Dataset\n",
    "    \n",
    "    Parameters\n",
    "    ----------\n",
    "    path_csv: str\n",
    "              Path to the .csv file to be loaded.\n",
    "    ds: xarray.Dataset\n",
    "        Data in the input file in the form of an xarray.Dataset.\n",
    "    '''\n",
    "    toindex = ['band', 'pressure', 'igg', 'g']    \n",
    "    df = pd.read_csv(path_csv, sep=r'\\s+')\n",
    "    df = df.set_index([i for i in toindex if i in df.columns])\n",
    "    df = df.rename(columns={'sfu': 'flug',\n",
    "                            'sfd': 'fldg',\n",
    "                            'fnet': 'fnetg',\n",
    "                            'coolr': 'coolrg'})\n",
    "    ds = xr.Dataset.from_dataframe(df)\n",
    "\n",
    "    for l in ('level', 'layer'):\n",
    "        if l in ds.data_vars:\n",
    "            if len(ds[l].dims) > 1:\n",
    "                surface = {d: 0 for d in ds.dims if d != 'pressure'}\n",
    "                coord_level = ds[l][surface]\n",
    "                ds.coords[l] = ('pressure', coord_level)\n",
    "            else:\n",
    "                ds.coords[l] = ('pressure', ds[l])\n",
    "    \n",
    "    return ds"
   ]
  },
  {
   "cell_type": "code",
   "execution_count": 4,
   "metadata": {
    "collapsed": true
   },
   "outputs": [],
   "source": [
    "def lblnew_setup(param=None):\n",
    "    if 'ng_refs' in param:\n",
    "        return {'setup': setup_bestfit,\n",
    "                'fname_flux_crd': 'output_flux.dat',\n",
    "                'fname_cool_crd': 'output_coolr.dat',\n",
    "                'fname_flux_wgt': 'output_wfluxg.dat',\n",
    "                'fname_cool_wgt': 'output_wcoolrg.dat'}\n",
    "    else:\n",
    "        return {'setup': setup_overlap,\n",
    "                'fname_flux_crd': 'output_flux.dat',\n",
    "                'fname_cool_crd': 'output_coolr.dat',\n",
    "                'fname_flux_wgt': 'output_wflux.dat',\n",
    "                'fname_cool_wgt': 'output_wcoolr.dat'}\n",
    "\n",
    "    \n",
    "def load_lblnew_data(param):\n",
    "    \n",
    "    fname_dsname = [('fname_flux_crd', 'ds_flux_crd'),\n",
    "                    ('fname_cool_crd', 'ds_cool_crd'),\n",
    "                    ('fname_flux_wgt', 'ds_flux_wgt'),\n",
    "                    ('fname_cool_wgt', 'ds_cool_wgt')]\n",
    "    \n",
    "    d = lblnew_setup(param)\n",
    "    dir_fortran = pipe_lblnew.get_dir_case(param, setup=d['setup'])\n",
    "    \n",
    "    data_dict = {}\n",
    "    for fname, dsname in fname_dsname:\n",
    "        fpath = os.path.join(dir_fortran, d[fname])\n",
    "        data_dict[dsname] = load_output_file(fpath)\n",
    "    return data_dict\n",
    "    \n",
    "\n",
    "    \n",
    "    "
   ]
  },
  {
   "cell_type": "code",
   "execution_count": 5,
   "metadata": {
    "collapsed": true
   },
   "outputs": [],
   "source": [
    "d = load_lblnew_data(PARAM_LBLNEW)\n",
    "\n",
    "DS_FLUX_CRD = d['ds_flux_crd']\n",
    "DS_COOL_CRD = d['ds_cool_crd']\n",
    "DS_FLUX_WGT = d['ds_flux_wgt']\n",
    "DS_COOL_WGT = d['ds_cool_wgt']"
   ]
  },
  {
   "cell_type": "code",
   "execution_count": 6,
   "metadata": {
    "collapsed": true
   },
   "outputs": [],
   "source": [
    "DIR_FORTRAN = pipe_cliradlw.get_fortran_dir(PARAM, \n",
    "                                            setup=setup_cliradlw)\n",
    "\n",
    "PATH_FLUX = os.path.join(DIR_FORTRAN, 'output_flux.dat')\n",
    "PATH_COOL = os.path.join(DIR_FORTRAN, 'output_coolr.dat')\n",
    "\n",
    "DS_FLUX = load_output_file(PATH_FLUX)\n",
    "DS_COOL = load_output_file(PATH_COOL)"
   ]
  },
  {
   "cell_type": "code",
   "execution_count": 7,
   "metadata": {
    "collapsed": true
   },
   "outputs": [
    {
     "data": {
      "text/html": [
       "\n",
       "    <div class=\"bk-root\">\n",
       "        <a href=\"https://bokeh.pydata.org\" target=\"_blank\" class=\"bk-logo bk-logo-small bk-logo-notebook\"></a>\n",
       "        <span id=\"e0fcaccb-4cd7-40c6-aa48-5e198d11498c\">Loading BokehJS ...</span>\n",
       "    </div>"
      ]
     },
     "metadata": {},
     "output_type": "display_data"
    },
    {
     "data": {
      "application/javascript": [
       "\n",
       "(function(root) {\n",
       "  function now() {\n",
       "    return new Date();\n",
       "  }\n",
       "\n",
       "  var force = true;\n",
       "\n",
       "  if (typeof (root._bokeh_onload_callbacks) === \"undefined\" || force === true) {\n",
       "    root._bokeh_onload_callbacks = [];\n",
       "    root._bokeh_is_loading = undefined;\n",
       "  }\n",
       "\n",
       "  var JS_MIME_TYPE = 'application/javascript';\n",
       "  var HTML_MIME_TYPE = 'text/html';\n",
       "  var EXEC_MIME_TYPE = 'application/vnd.bokehjs_exec.v0+json';\n",
       "  var CLASS_NAME = 'output_bokeh rendered_html';\n",
       "\n",
       "  /**\n",
       "   * Render data to the DOM node\n",
       "   */\n",
       "  function render(props, node) {\n",
       "    var script = document.createElement(\"script\");\n",
       "    node.appendChild(script);\n",
       "  }\n",
       "\n",
       "  /**\n",
       "   * Handle when an output is cleared or removed\n",
       "   */\n",
       "  function handleClearOutput(event, handle) {\n",
       "    var cell = handle.cell;\n",
       "\n",
       "    var id = cell.output_area._bokeh_element_id;\n",
       "    var server_id = cell.output_area._bokeh_server_id;\n",
       "    // Clean up Bokeh references\n",
       "    if (id !== undefined) {\n",
       "      Bokeh.index[id].model.document.clear();\n",
       "      delete Bokeh.index[id];\n",
       "    }\n",
       "\n",
       "    if (server_id !== undefined) {\n",
       "      // Clean up Bokeh references\n",
       "      var cmd = \"from bokeh.io.state import curstate; print(curstate().uuid_to_server['\" + server_id + \"'].get_sessions()[0].document.roots[0]._id)\";\n",
       "      cell.notebook.kernel.execute(cmd, {\n",
       "        iopub: {\n",
       "          output: function(msg) {\n",
       "            var element_id = msg.content.text.trim();\n",
       "            Bokeh.index[element_id].model.document.clear();\n",
       "            delete Bokeh.index[element_id];\n",
       "          }\n",
       "        }\n",
       "      });\n",
       "      // Destroy server and session\n",
       "      var cmd = \"import bokeh.io.notebook as ion; ion.destroy_server('\" + server_id + \"')\";\n",
       "      cell.notebook.kernel.execute(cmd);\n",
       "    }\n",
       "  }\n",
       "\n",
       "  /**\n",
       "   * Handle when a new output is added\n",
       "   */\n",
       "  function handleAddOutput(event, handle) {\n",
       "    var output_area = handle.output_area;\n",
       "    var output = handle.output;\n",
       "\n",
       "    // limit handleAddOutput to display_data with EXEC_MIME_TYPE content only\n",
       "    if ((output.output_type != \"display_data\") || (!output.data.hasOwnProperty(EXEC_MIME_TYPE))) {\n",
       "      return\n",
       "    }\n",
       "\n",
       "    var toinsert = output_area.element.find(\".\" + CLASS_NAME.split(' ')[0]);\n",
       "\n",
       "    if (output.metadata[EXEC_MIME_TYPE][\"id\"] !== undefined) {\n",
       "      toinsert[0].firstChild.textContent = output.data[JS_MIME_TYPE];\n",
       "      // store reference to embed id on output_area\n",
       "      output_area._bokeh_element_id = output.metadata[EXEC_MIME_TYPE][\"id\"];\n",
       "    }\n",
       "    if (output.metadata[EXEC_MIME_TYPE][\"server_id\"] !== undefined) {\n",
       "      var bk_div = document.createElement(\"div\");\n",
       "      bk_div.innerHTML = output.data[HTML_MIME_TYPE];\n",
       "      var script_attrs = bk_div.children[0].attributes;\n",
       "      for (var i = 0; i < script_attrs.length; i++) {\n",
       "        toinsert[0].firstChild.setAttribute(script_attrs[i].name, script_attrs[i].value);\n",
       "      }\n",
       "      // store reference to server id on output_area\n",
       "      output_area._bokeh_server_id = output.metadata[EXEC_MIME_TYPE][\"server_id\"];\n",
       "    }\n",
       "  }\n",
       "\n",
       "  function register_renderer(events, OutputArea) {\n",
       "\n",
       "    function append_mime(data, metadata, element) {\n",
       "      // create a DOM node to render to\n",
       "      var toinsert = this.create_output_subarea(\n",
       "        metadata,\n",
       "        CLASS_NAME,\n",
       "        EXEC_MIME_TYPE\n",
       "      );\n",
       "      this.keyboard_manager.register_events(toinsert);\n",
       "      // Render to node\n",
       "      var props = {data: data, metadata: metadata[EXEC_MIME_TYPE]};\n",
       "      render(props, toinsert[0]);\n",
       "      element.append(toinsert);\n",
       "      return toinsert\n",
       "    }\n",
       "\n",
       "    /* Handle when an output is cleared or removed */\n",
       "    events.on('clear_output.CodeCell', handleClearOutput);\n",
       "    events.on('delete.Cell', handleClearOutput);\n",
       "\n",
       "    /* Handle when a new output is added */\n",
       "    events.on('output_added.OutputArea', handleAddOutput);\n",
       "\n",
       "    /**\n",
       "     * Register the mime type and append_mime function with output_area\n",
       "     */\n",
       "    OutputArea.prototype.register_mime_type(EXEC_MIME_TYPE, append_mime, {\n",
       "      /* Is output safe? */\n",
       "      safe: true,\n",
       "      /* Index of renderer in `output_area.display_order` */\n",
       "      index: 0\n",
       "    });\n",
       "  }\n",
       "\n",
       "  // register the mime type if in Jupyter Notebook environment and previously unregistered\n",
       "  if (root.Jupyter !== undefined) {\n",
       "    var events = require('base/js/events');\n",
       "    var OutputArea = require('notebook/js/outputarea').OutputArea;\n",
       "\n",
       "    if (OutputArea.prototype.mime_types().indexOf(EXEC_MIME_TYPE) == -1) {\n",
       "      register_renderer(events, OutputArea);\n",
       "    }\n",
       "  }\n",
       "\n",
       "  \n",
       "  if (typeof (root._bokeh_timeout) === \"undefined\" || force === true) {\n",
       "    root._bokeh_timeout = Date.now() + 5000;\n",
       "    root._bokeh_failed_load = false;\n",
       "  }\n",
       "\n",
       "  var NB_LOAD_WARNING = {'data': {'text/html':\n",
       "     \"<div style='background-color: #fdd'>\\n\"+\n",
       "     \"<p>\\n\"+\n",
       "     \"BokehJS does not appear to have successfully loaded. If loading BokehJS from CDN, this \\n\"+\n",
       "     \"may be due to a slow or bad network connection. Possible fixes:\\n\"+\n",
       "     \"</p>\\n\"+\n",
       "     \"<ul>\\n\"+\n",
       "     \"<li>re-rerun `output_notebook()` to attempt to load from CDN again, or</li>\\n\"+\n",
       "     \"<li>use INLINE resources instead, as so:</li>\\n\"+\n",
       "     \"</ul>\\n\"+\n",
       "     \"<code>\\n\"+\n",
       "     \"from bokeh.resources import INLINE\\n\"+\n",
       "     \"output_notebook(resources=INLINE)\\n\"+\n",
       "     \"</code>\\n\"+\n",
       "     \"</div>\"}};\n",
       "\n",
       "  function display_loaded() {\n",
       "    var el = document.getElementById(\"e0fcaccb-4cd7-40c6-aa48-5e198d11498c\");\n",
       "    if (el != null) {\n",
       "      el.textContent = \"BokehJS is loading...\";\n",
       "    }\n",
       "    if (root.Bokeh !== undefined) {\n",
       "      if (el != null) {\n",
       "        el.textContent = \"BokehJS \" + root.Bokeh.version + \" successfully loaded.\";\n",
       "      }\n",
       "    } else if (Date.now() < root._bokeh_timeout) {\n",
       "      setTimeout(display_loaded, 100)\n",
       "    }\n",
       "  }\n",
       "\n",
       "\n",
       "  function run_callbacks() {\n",
       "    try {\n",
       "      root._bokeh_onload_callbacks.forEach(function(callback) { callback() });\n",
       "    }\n",
       "    finally {\n",
       "      delete root._bokeh_onload_callbacks\n",
       "    }\n",
       "    console.info(\"Bokeh: all callbacks have finished\");\n",
       "  }\n",
       "\n",
       "  function load_libs(js_urls, callback) {\n",
       "    root._bokeh_onload_callbacks.push(callback);\n",
       "    if (root._bokeh_is_loading > 0) {\n",
       "      console.log(\"Bokeh: BokehJS is being loaded, scheduling callback at\", now());\n",
       "      return null;\n",
       "    }\n",
       "    if (js_urls == null || js_urls.length === 0) {\n",
       "      run_callbacks();\n",
       "      return null;\n",
       "    }\n",
       "    console.log(\"Bokeh: BokehJS not loaded, scheduling load and callback at\", now());\n",
       "    root._bokeh_is_loading = js_urls.length;\n",
       "    for (var i = 0; i < js_urls.length; i++) {\n",
       "      var url = js_urls[i];\n",
       "      var s = document.createElement('script');\n",
       "      s.src = url;\n",
       "      s.async = false;\n",
       "      s.onreadystatechange = s.onload = function() {\n",
       "        root._bokeh_is_loading--;\n",
       "        if (root._bokeh_is_loading === 0) {\n",
       "          console.log(\"Bokeh: all BokehJS libraries loaded\");\n",
       "          run_callbacks()\n",
       "        }\n",
       "      };\n",
       "      s.onerror = function() {\n",
       "        console.warn(\"failed to load library \" + url);\n",
       "      };\n",
       "      console.log(\"Bokeh: injecting script tag for BokehJS library: \", url);\n",
       "      document.getElementsByTagName(\"head\")[0].appendChild(s);\n",
       "    }\n",
       "  };var element = document.getElementById(\"e0fcaccb-4cd7-40c6-aa48-5e198d11498c\");\n",
       "  if (element == null) {\n",
       "    console.log(\"Bokeh: ERROR: autoload.js configured with elementid 'e0fcaccb-4cd7-40c6-aa48-5e198d11498c' but no matching script tag was found. \")\n",
       "    return false;\n",
       "  }\n",
       "\n",
       "  var js_urls = [\"https://cdn.pydata.org/bokeh/release/bokeh-0.12.14.min.js\", \"https://cdn.pydata.org/bokeh/release/bokeh-widgets-0.12.14.min.js\", \"https://cdn.pydata.org/bokeh/release/bokeh-tables-0.12.14.min.js\", \"https://cdn.pydata.org/bokeh/release/bokeh-gl-0.12.14.min.js\"];\n",
       "\n",
       "  var inline_js = [\n",
       "    function(Bokeh) {\n",
       "      Bokeh.set_log_level(\"info\");\n",
       "    },\n",
       "    \n",
       "    function(Bokeh) {\n",
       "      \n",
       "    },\n",
       "    function(Bokeh) {\n",
       "      console.log(\"Bokeh: injecting CSS: https://cdn.pydata.org/bokeh/release/bokeh-0.12.14.min.css\");\n",
       "      Bokeh.embed.inject_css(\"https://cdn.pydata.org/bokeh/release/bokeh-0.12.14.min.css\");\n",
       "      console.log(\"Bokeh: injecting CSS: https://cdn.pydata.org/bokeh/release/bokeh-widgets-0.12.14.min.css\");\n",
       "      Bokeh.embed.inject_css(\"https://cdn.pydata.org/bokeh/release/bokeh-widgets-0.12.14.min.css\");\n",
       "      console.log(\"Bokeh: injecting CSS: https://cdn.pydata.org/bokeh/release/bokeh-tables-0.12.14.min.css\");\n",
       "      Bokeh.embed.inject_css(\"https://cdn.pydata.org/bokeh/release/bokeh-tables-0.12.14.min.css\");\n",
       "    }\n",
       "  ];\n",
       "\n",
       "  function run_inline_js() {\n",
       "    \n",
       "    if ((root.Bokeh !== undefined) || (force === true)) {\n",
       "      for (var i = 0; i < inline_js.length; i++) {\n",
       "        inline_js[i].call(root, root.Bokeh);\n",
       "      }if (force === true) {\n",
       "        display_loaded();\n",
       "      }} else if (Date.now() < root._bokeh_timeout) {\n",
       "      setTimeout(run_inline_js, 100);\n",
       "    } else if (!root._bokeh_failed_load) {\n",
       "      console.log(\"Bokeh: BokehJS failed to load within specified timeout.\");\n",
       "      root._bokeh_failed_load = true;\n",
       "    } else if (force !== true) {\n",
       "      var cell = $(document.getElementById(\"e0fcaccb-4cd7-40c6-aa48-5e198d11498c\")).parents('.cell').data().cell;\n",
       "      cell.output_area.append_execute_result(NB_LOAD_WARNING)\n",
       "    }\n",
       "\n",
       "  }\n",
       "\n",
       "  if (root._bokeh_is_loading === 0) {\n",
       "    console.log(\"Bokeh: BokehJS loaded, going straight to plotting\");\n",
       "    run_inline_js();\n",
       "  } else {\n",
       "    load_libs(js_urls, function() {\n",
       "      console.log(\"Bokeh: BokehJS plotting callback run at\", now());\n",
       "      run_inline_js();\n",
       "    });\n",
       "  }\n",
       "}(window));"
      ],
      "application/vnd.bokehjs_load.v0+json": "\n(function(root) {\n  function now() {\n    return new Date();\n  }\n\n  var force = true;\n\n  if (typeof (root._bokeh_onload_callbacks) === \"undefined\" || force === true) {\n    root._bokeh_onload_callbacks = [];\n    root._bokeh_is_loading = undefined;\n  }\n\n  \n\n  \n  if (typeof (root._bokeh_timeout) === \"undefined\" || force === true) {\n    root._bokeh_timeout = Date.now() + 5000;\n    root._bokeh_failed_load = false;\n  }\n\n  var NB_LOAD_WARNING = {'data': {'text/html':\n     \"<div style='background-color: #fdd'>\\n\"+\n     \"<p>\\n\"+\n     \"BokehJS does not appear to have successfully loaded. If loading BokehJS from CDN, this \\n\"+\n     \"may be due to a slow or bad network connection. Possible fixes:\\n\"+\n     \"</p>\\n\"+\n     \"<ul>\\n\"+\n     \"<li>re-rerun `output_notebook()` to attempt to load from CDN again, or</li>\\n\"+\n     \"<li>use INLINE resources instead, as so:</li>\\n\"+\n     \"</ul>\\n\"+\n     \"<code>\\n\"+\n     \"from bokeh.resources import INLINE\\n\"+\n     \"output_notebook(resources=INLINE)\\n\"+\n     \"</code>\\n\"+\n     \"</div>\"}};\n\n  function display_loaded() {\n    var el = document.getElementById(\"e0fcaccb-4cd7-40c6-aa48-5e198d11498c\");\n    if (el != null) {\n      el.textContent = \"BokehJS is loading...\";\n    }\n    if (root.Bokeh !== undefined) {\n      if (el != null) {\n        el.textContent = \"BokehJS \" + root.Bokeh.version + \" successfully loaded.\";\n      }\n    } else if (Date.now() < root._bokeh_timeout) {\n      setTimeout(display_loaded, 100)\n    }\n  }\n\n\n  function run_callbacks() {\n    try {\n      root._bokeh_onload_callbacks.forEach(function(callback) { callback() });\n    }\n    finally {\n      delete root._bokeh_onload_callbacks\n    }\n    console.info(\"Bokeh: all callbacks have finished\");\n  }\n\n  function load_libs(js_urls, callback) {\n    root._bokeh_onload_callbacks.push(callback);\n    if (root._bokeh_is_loading > 0) {\n      console.log(\"Bokeh: BokehJS is being loaded, scheduling callback at\", now());\n      return null;\n    }\n    if (js_urls == null || js_urls.length === 0) {\n      run_callbacks();\n      return null;\n    }\n    console.log(\"Bokeh: BokehJS not loaded, scheduling load and callback at\", now());\n    root._bokeh_is_loading = js_urls.length;\n    for (var i = 0; i < js_urls.length; i++) {\n      var url = js_urls[i];\n      var s = document.createElement('script');\n      s.src = url;\n      s.async = false;\n      s.onreadystatechange = s.onload = function() {\n        root._bokeh_is_loading--;\n        if (root._bokeh_is_loading === 0) {\n          console.log(\"Bokeh: all BokehJS libraries loaded\");\n          run_callbacks()\n        }\n      };\n      s.onerror = function() {\n        console.warn(\"failed to load library \" + url);\n      };\n      console.log(\"Bokeh: injecting script tag for BokehJS library: \", url);\n      document.getElementsByTagName(\"head\")[0].appendChild(s);\n    }\n  };var element = document.getElementById(\"e0fcaccb-4cd7-40c6-aa48-5e198d11498c\");\n  if (element == null) {\n    console.log(\"Bokeh: ERROR: autoload.js configured with elementid 'e0fcaccb-4cd7-40c6-aa48-5e198d11498c' but no matching script tag was found. \")\n    return false;\n  }\n\n  var js_urls = [\"https://cdn.pydata.org/bokeh/release/bokeh-0.12.14.min.js\", \"https://cdn.pydata.org/bokeh/release/bokeh-widgets-0.12.14.min.js\", \"https://cdn.pydata.org/bokeh/release/bokeh-tables-0.12.14.min.js\", \"https://cdn.pydata.org/bokeh/release/bokeh-gl-0.12.14.min.js\"];\n\n  var inline_js = [\n    function(Bokeh) {\n      Bokeh.set_log_level(\"info\");\n    },\n    \n    function(Bokeh) {\n      \n    },\n    function(Bokeh) {\n      console.log(\"Bokeh: injecting CSS: https://cdn.pydata.org/bokeh/release/bokeh-0.12.14.min.css\");\n      Bokeh.embed.inject_css(\"https://cdn.pydata.org/bokeh/release/bokeh-0.12.14.min.css\");\n      console.log(\"Bokeh: injecting CSS: https://cdn.pydata.org/bokeh/release/bokeh-widgets-0.12.14.min.css\");\n      Bokeh.embed.inject_css(\"https://cdn.pydata.org/bokeh/release/bokeh-widgets-0.12.14.min.css\");\n      console.log(\"Bokeh: injecting CSS: https://cdn.pydata.org/bokeh/release/bokeh-tables-0.12.14.min.css\");\n      Bokeh.embed.inject_css(\"https://cdn.pydata.org/bokeh/release/bokeh-tables-0.12.14.min.css\");\n    }\n  ];\n\n  function run_inline_js() {\n    \n    if ((root.Bokeh !== undefined) || (force === true)) {\n      for (var i = 0; i < inline_js.length; i++) {\n        inline_js[i].call(root, root.Bokeh);\n      }if (force === true) {\n        display_loaded();\n      }} else if (Date.now() < root._bokeh_timeout) {\n      setTimeout(run_inline_js, 100);\n    } else if (!root._bokeh_failed_load) {\n      console.log(\"Bokeh: BokehJS failed to load within specified timeout.\");\n      root._bokeh_failed_load = true;\n    } else if (force !== true) {\n      var cell = $(document.getElementById(\"e0fcaccb-4cd7-40c6-aa48-5e198d11498c\")).parents('.cell').data().cell;\n      cell.output_area.append_execute_result(NB_LOAD_WARNING)\n    }\n\n  }\n\n  if (root._bokeh_is_loading === 0) {\n    console.log(\"Bokeh: BokehJS loaded, going straight to plotting\");\n    run_inline_js();\n  } else {\n    load_libs(js_urls, function() {\n      console.log(\"Bokeh: BokehJS plotting callback run at\", now());\n      run_inline_js();\n    });\n  }\n}(window));"
     },
     "metadata": {},
     "output_type": "display_data"
    }
   ],
   "source": [
    "output_notebook()"
   ]
  },
  {
   "cell_type": "code",
   "execution_count": 8,
   "metadata": {
    "collapsed": true
   },
   "outputs": [],
   "source": [
    "def fmt_cool(ds_in):\n",
    "    ds = ds_in.copy(deep=True)\n",
    "    if 'igg' in ds.dims:\n",
    "        ds = ds.sel(igg=1)\n",
    "\n",
    "    if 'g' in ds.dims:\n",
    "        ds = ds.sum('g')\n",
    "            \n",
    "    if 'band' in ds.dims:\n",
    "        try:\n",
    "            ds = ds.squeeze('band')\n",
    "        except ValueError:\n",
    "            ds = ds.sum('band')\n",
    "                \n",
    "    return ds['coolrg']\n",
    "\n",
    "\n",
    "def pltdata_cooling_1(ds_cool=None,\n",
    "                      ds_cool_crd=None, ds_cool_wgt=None):\n",
    "    \n",
    "\n",
    "\n",
    "    colors = all_palettes['Set1'][4]\n",
    "    data = [{'label': 'CLIRAD `coolr_bands`',\n",
    "             'srs': fmt_cool(ds_cool),\n",
    "             'line_dash': 'dashed', 'line_width': 5,\n",
    "             'color': colors[0], 'alpha': .6},\n",
    "            {'label': 'CRD',\n",
    "             'srs': fmt_cool(ds_cool_crd),\n",
    "             'line_dash': 'solid', 'line_width': 1.5,\n",
    "             'marker': 'circle', 'marker_size': 5,\n",
    "             'color': colors[2], 'alpha': 1,},\n",
    "            {'label': 'WGT igg=10 wgt_flux=2',\n",
    "             'srs': fmt_cool(ds_cool_wgt),\n",
    "             'line_dash': 'solid', 'line_width': 3,\n",
    "             'marker': 'square', 'marker_size': 5,\n",
    "             'color': colors[3], 'alpha': .6}]\n",
    "    return data\n",
    "\n",
    "\n",
    "def nice_xlims(pltdata=None, prange=None):\n",
    "    \n",
    "    def get_slice(srs):\n",
    "        return srs.sel(pressure=slice(*prange))\n",
    "    \n",
    "    srss = [d['srs'] for d in pltdata]\n",
    "    vmin = min([get_slice(srs).min() for srs in srss])\n",
    "    vmax = max([get_slice(srs).max() for srs in srss])\n",
    "    dv = (vmax - vmin) * .01\n",
    "    return float(vmin - dv), float(vmax + dv)\n",
    "    \n",
    "\n",
    "def plt_cooling_bokeh(pltdata=None):\n",
    "    '''\n",
    "    Plot a list of cooling rate profiles using bokeh.\n",
    "    '''\n",
    "    ymin = 1e-2 \n",
    "    ymax = 1020 \n",
    "        \n",
    "    p1 = figure(title=\"Linear pressure scale\", \n",
    "                plot_width=400)        \n",
    "    xmin, xmax = nice_xlims(pltdata, prange=(50, 1050))\n",
    "    for d in pltdata:\n",
    "        if 'marker' in d:\n",
    "            getattr(p1, d['marker'])(d['srs'].values, \n",
    "                    d['srs'].coords['pressure'].values,\n",
    "                    color=d['color'], alpha=.7)\n",
    "        p1.line(d['srs'].values, \n",
    "                d['srs'].coords['pressure'].values,\n",
    "                color=d['color'], alpha=d['alpha'], \n",
    "                line_width=d['line_width'], line_dash=d['line_dash'])\n",
    "    \n",
    "    p1.y_range = Range1d(ymax, ymin)\n",
    "    p1.yaxis.axis_label = 'pressure [mb]'   \n",
    "    p1.x_range = Range1d(xmin, xmax)\n",
    "    p1.xaxis.axis_label = 'cooling rate [K/day]'\n",
    "            \n",
    "    p2 = figure(title='Log pressure scale', y_axis_type='log',\n",
    "                plot_width=560)\n",
    "    xmin, xmax = nice_xlims(pltdata, prange=(.01, 200))\n",
    "    \n",
    "    rs = []\n",
    "    for d in pltdata:\n",
    "        rd = []\n",
    "        if 'marker' in d:\n",
    "            r_mark = getattr(p2, d['marker'])(d['srs'].values, \n",
    "                        d['srs'].coords['pressure'].values,\n",
    "                        color=d['color'], alpha=.7)\n",
    "            rd.append(r_mark)\n",
    "        r_line = p2.line(d['srs'].values, \n",
    "                    d['srs'].coords['pressure'].values,\n",
    "                    color=d['color'], alpha=d['alpha'], \n",
    "                    line_width=d['line_width'], line_dash=d['line_dash'])\n",
    "        rd.append(r_line)\n",
    "      \n",
    "        rs.append(rd)\n",
    "        \n",
    "    p2.y_range = Range1d(ymax, ymin)  \n",
    "    p2.yaxis.axis_label = 'pressure [mb]'\n",
    "    \n",
    "    p2.x_range = Range1d(xmin, xmax)\n",
    "    p2.xaxis.axis_label = 'cooling rate [K/day]'\n",
    "    \n",
    "    items = [(d['label'], r) for r, d in zip(rs, pltdata)]\n",
    "    legend = Legend(items=items, location=(10, -30))\n",
    "    legend.label_text_font_size = '8pt'\n",
    "    \n",
    "    p2.add_layout(legend, 'right')  \n",
    "    \n",
    "    show(gridplot(p1, p2, ncols=2, plot_height=500))\n",
    "    \n",
    "\n",
    "def script_plt_cooling():\n",
    "    pltdata = pltdata_cooling_1(\n",
    "        ds_cool=DS_COOL,\n",
    "        ds_cool_crd=DS_COOL_CRD,\n",
    "        ds_cool_wgt=DS_COOL_WGT)\n",
    "    plt_cooling_bokeh(pltdata=pltdata)\n",
    "    print('''FIGURE. Cooling rate profiles.''')"
   ]
  },
  {
   "cell_type": "code",
   "execution_count": 9,
   "metadata": {
    "collapsed": true
   },
   "outputs": [],
   "source": [
    "def fmt_flux(ds_in):\n",
    "    ds = ds_in.copy(deep=True)\n",
    "    \n",
    "    for l in ('level', 'layer'):\n",
    "        if l in ds.data_vars:\n",
    "            if len(ds[l].dims) > 1:\n",
    "                surface = {d: 0 for d in ds.dims if d != 'pressure'}\n",
    "                coord_level = ds[l][surface]\n",
    "                ds.coords[l] = ('pressure', coord_level)\n",
    "            else:\n",
    "                ds.coords[l] = ('pressure', ds[l])\n",
    "        \n",
    "    ds = ds.isel(pressure=[0, 23, -1])\n",
    "        \n",
    "    if 'igg' in ds.dims:\n",
    "        ds = ds.sel(igg=[1])\n",
    "        ds = ds.squeeze('igg').drop('igg')\n",
    "    \n",
    "    if 'g' in ds.dims:\n",
    "        ds = ds.sum('g')\n",
    "            \n",
    "    if 'band' in ds.dims:\n",
    "        try:\n",
    "            ds = ds.squeeze('band').drop('band')\n",
    "        except ValueError:\n",
    "            ds = ds.sum('band')\n",
    "                \n",
    "    df = ds.to_dataframe()\n",
    "    df = df.set_index('level', append=True)               \n",
    "    return df\n",
    "\n",
    "\n",
    "def tbdata_flux(ds_flux=None, ds_flux_crd=None, ds_flux_wgt=None):\n",
    "    ilevels = [0, 23, -1]\n",
    "            \n",
    "    benchmark = {'label': 'WGT igg=10 wgt_flux=1',\n",
    "                 'df': fmt_flux(ds_flux_wgt)}\n",
    "    \n",
    "    tbs = [{'label': 'CRD',\n",
    "            'df': fmt_flux(ds_flux_crd)},\n",
    "           {'label': 'CLIRAD',\n",
    "            'df': fmt_flux(ds_flux)}]\n",
    "    \n",
    "    data = {'benchmark': benchmark, 'others': tbs}\n",
    "    return data\n",
    "\n",
    "\n",
    "def tb_flux(tbdata=None):\n",
    "    benchmark = tbdata['benchmark']\n",
    "    others = tbdata['others']\n",
    "    \n",
    "    def show_tb(d=None):\n",
    "        display.display(d['df'])\n",
    "        print('Table.', 'Fluxes.', d['label'])\n",
    "        \n",
    "    def show_tbdiff(d0=None, d=None):\n",
    "        df = d['df']\n",
    "        df.index = d0['df'].index\n",
    "        display.display(df - d0['df'])\n",
    "        print('Table.', 'Fluxes.', \n",
    "              '({}) - ({})'.format(d['label'], d0['label']))\n",
    "        \n",
    "    show_tb(benchmark)\n",
    "    for d in others:\n",
    "        show_tb(d)\n",
    "        \n",
    "    for d in others:\n",
    "        show_tbdiff(d=d, d0=benchmark)\n",
    "        \n",
    "        \n",
    "def script_tb_flux():\n",
    "    data = tbdata_flux(ds_flux=DS_FLUX,\n",
    "                       ds_flux_crd=DS_FLUX_CRD,\n",
    "                       ds_flux_wgt=DS_FLUX_WGT)\n",
    "    tb_flux(tbdata=data)"
   ]
  },
  {
   "cell_type": "code",
   "execution_count": 10,
   "metadata": {
    "collapsed": true
   },
   "outputs": [],
   "source": [
    "def band_map():\n",
    "    '''\n",
    "    Maps spectral bands in lblnew to spectral bands in clirad.\n",
    "    '''\n",
    "    lblnew2clirad = {'1': '1',\n",
    "            '2': '2',\n",
    "            '3a': '3',\n",
    "            '3b': '4',\n",
    "            '3c': '5',\n",
    "            '4': '6', \n",
    "            '5': '7',\n",
    "            '6': '8',\n",
    "            '7': '9', \n",
    "            '8': '10',\n",
    "            '9': '11'}\n",
    "    \n",
    "    clirad2lblnew = {clirad: lblnew \n",
    "                     for lblnew, clirad in lblnew2clirad.items()}\n",
    "    return clirad2lblnew\n",
    "\n",
    "\n",
    "def gasbands():\n",
    "    bmap = band_map()\n",
    "    gases = list(PARAM['molecule'].keys())\n",
    "    \n",
    "    bands = [bmap[str(b)] for b in PARAM['band']]\n",
    "    return list(itertools.product(gases, bands))\n",
    "\n",
    "\n",
    "def print_bestfit_params():\n",
    "    print('Best-fit values for each (gas, band)')\n",
    "    print('------------------------------------')\n",
    "    for gas, band in gasbands():\n",
    "        print('o {} band{}'.format(gas, band))\n",
    "        param = bestfits.kdist_params(molecule=gas, band=band)\n",
    "        for name, value in sorted(param.items()):\n",
    "            print(2 * ' ' + '{} = {}'.format(name, value))\n",
    "\n",
    "        \n",
    "def print_input_param():        \n",
    "    for name, value in PARAM.items():\n",
    "        print('{} = {}'.format(name, value))\n",
    "        \n",
    "        \n",
    "def print_lblnew_param():\n",
    "    for name, value in sorted(PARAM_LBLNEW.items()):\n",
    "        print('{} = {}'.format(name, value))\n"
   ]
  },
  {
   "cell_type": "code",
   "execution_count": 11,
   "metadata": {
    "collapsed": true,
    "scrolled": false
   },
   "outputs": [],
   "source": [
    "def show_html(s):\n",
    "    display.display(display.HTML(s))\n",
    "\n",
    "    \n",
    "def show_markdown(s):\n",
    "    display.display(display.Markdown(s))\n",
    "\n",
    "    \n",
    "def script():\n",
    "    \n",
    "    title = '### CLIRAD-LW'\n",
    "    s_input = 'Input Parameters'\n",
    "    s_lblnew_param = 'LBLNEW case compaired against'\n",
    "    s_bestfits = 'Best-fit Parameters'\n",
    "    s_plt_cooling = 'Cooling Rate Profiles'\n",
    "    s_tb_flux = 'Flux Comparison'\n",
    "    \n",
    "    # title\n",
    "    show_markdown('### CLIRAD-LW')\n",
    "    \n",
    "    # TOC\n",
    "    show_markdown('### Table of Contents')\n",
    "    show_html(climahtml.getHTML_hrefanchor(s_input))\n",
    "    show_html(climahtml.getHTML_hrefanchor(s_lblnew_param))\n",
    "    show_html(climahtml.getHTML_hrefanchor(s_plt_cooling))\n",
    "    show_html(climahtml.getHTML_hrefanchor(s_tb_flux))\n",
    "    show_html(climahtml.getHTML_hrefanchor(s_bestfits))\n",
    "    \n",
    "    # Input parameters\n",
    "    show_html(climahtml.getHTML_idanchor(s_input))\n",
    "    show_markdown(climahtml.getMarkdown_sectitle(s_input))\n",
    "    print_input_param()\n",
    "    \n",
    "    # LBLNEW parameters \n",
    "    show_html(climahtml.getHTML_idanchor(s_lblnew_param))\n",
    "    show_markdown(climahtml.getMarkdown_sectitle(s_lblnew_param))\n",
    "    print_lblnew_param()\n",
    "    \n",
    "    # Cooling rate profiles\n",
    "    show_html(climahtml.getHTML_idanchor(s_plt_cooling))\n",
    "    show_markdown(climahtml.getMarkdown_sectitle(s_plt_cooling))\n",
    "    script_plt_cooling()\n",
    "    \n",
    "    # Flux comparison\n",
    "    show_html(climahtml.getHTML_idanchor(s_tb_flux))\n",
    "    show_markdown(climahtml.getMarkdown_sectitle(s_tb_flux))\n",
    "    script_tb_flux()\n",
    "    \n",
    "    # Best-fit values\n",
    "    show_html(climahtml.getHTML_idanchor(s_bestfits))\n",
    "    show_markdown(climahtml.getMarkdown_sectitle(s_bestfits))\n",
    "    print_bestfit_params()\n",
    "   \n",
    "    "
   ]
  },
  {
   "cell_type": "code",
   "execution_count": 12,
   "metadata": {
    "collapsed": true,
    "scrolled": false
   },
   "outputs": [
    {
     "data": {
      "text/markdown": [
       "### CLIRAD-LW"
      ],
      "text/plain": [
       "<IPython.core.display.Markdown object>"
      ]
     },
     "metadata": {},
     "output_type": "display_data"
    },
    {
     "data": {
      "text/markdown": [
       "### Table of Contents"
      ],
      "text/plain": [
       "<IPython.core.display.Markdown object>"
      ]
     },
     "metadata": {},
     "output_type": "display_data"
    },
    {
     "data": {
      "text/html": [
       "<a href=\"#Input_Parameters\">Input Parameters</a>"
      ],
      "text/plain": [
       "<IPython.core.display.HTML object>"
      ]
     },
     "metadata": {},
     "output_type": "display_data"
    },
    {
     "data": {
      "text/html": [
       "<a href=\"#LBLNEW_case_compaired_against\">LBLNEW case compaired against</a>"
      ],
      "text/plain": [
       "<IPython.core.display.HTML object>"
      ]
     },
     "metadata": {},
     "output_type": "display_data"
    },
    {
     "data": {
      "text/html": [
       "<a href=\"#Cooling_Rate_Profiles\">Cooling Rate Profiles</a>"
      ],
      "text/plain": [
       "<IPython.core.display.HTML object>"
      ]
     },
     "metadata": {},
     "output_type": "display_data"
    },
    {
     "data": {
      "text/html": [
       "<a href=\"#Flux_Comparison\">Flux Comparison</a>"
      ],
      "text/plain": [
       "<IPython.core.display.HTML object>"
      ]
     },
     "metadata": {},
     "output_type": "display_data"
    },
    {
     "data": {
      "text/html": [
       "<a href=\"#Best-fit_Parameters\">Best-fit Parameters</a>"
      ],
      "text/plain": [
       "<IPython.core.display.HTML object>"
      ]
     },
     "metadata": {},
     "output_type": "display_data"
    },
    {
     "data": {
      "text/html": [
       "<a id=\"Input_Parameters\"></a>"
      ],
      "text/plain": [
       "<IPython.core.display.HTML object>"
      ]
     },
     "metadata": {},
     "output_type": "display_data"
    },
    {
     "data": {
      "text/markdown": [
       "# Input Parameters"
      ],
      "text/plain": [
       "<IPython.core.display.Markdown object>"
      ]
     },
     "metadata": {},
     "output_type": "display_data"
    },
    {
     "name": "stdout",
     "output_type": "stream",
     "text": [
      "atmpro = mls\n",
      "band = [3]\n",
      "commitnumber = 7fe1447_x\n",
      "molecule = {'n2o': 3.2e-07}\n",
      "tsfc = 294\n"
     ]
    },
    {
     "data": {
      "text/html": [
       "<a id=\"LBLNEW_case_compaired_against\"></a>"
      ],
      "text/plain": [
       "<IPython.core.display.HTML object>"
      ]
     },
     "metadata": {},
     "output_type": "display_data"
    },
    {
     "data": {
      "text/markdown": [
       "# LBLNEW case compaired against"
      ],
      "text/plain": [
       "<IPython.core.display.Markdown object>"
      ]
     },
     "metadata": {},
     "output_type": "display_data"
    },
    {
     "name": "stdout",
     "output_type": "stream",
     "text": [
      "atmpro = mls\n",
      "band = 3a\n",
      "commitnumber = a06b618\n",
      "conc = 3.2e-07\n",
      "dv = 0.001\n",
      "klin = 2.22e-20\n",
      "molecule = n2o\n",
      "ng_adju = [0, 0]\n",
      "ng_refs = [1, 2]\n",
      "nv = 1000\n",
      "option_compute_btable = 0\n",
      "option_compute_ktable = 0\n",
      "option_wgt_flux = 1\n",
      "option_wgt_k = 1\n",
      "ref_pts = [(1, 250), (500, 250)]\n",
      "tsfc = 294\n",
      "vmax = 620\n",
      "vmin = 540\n",
      "w_diffuse = [(1.8,), (1.66, 1.8)]\n",
      "wgt = [(0.9,), (0.5, 0.95)]\n"
     ]
    },
    {
     "data": {
      "text/html": [
       "<a id=\"Cooling_Rate_Profiles\"></a>"
      ],
      "text/plain": [
       "<IPython.core.display.HTML object>"
      ]
     },
     "metadata": {},
     "output_type": "display_data"
    },
    {
     "data": {
      "text/markdown": [
       "# Cooling Rate Profiles"
      ],
      "text/plain": [
       "<IPython.core.display.Markdown object>"
      ]
     },
     "metadata": {},
     "output_type": "display_data"
    },
    {
     "data": {
      "text/html": [
       "\n",
       "<div class=\"bk-root\">\n",
       "    <div class=\"bk-plotdiv\" id=\"568cdae1-cbd0-4962-98d6-6f001f9843e8\"></div>\n",
       "</div>"
      ]
     },
     "metadata": {},
     "output_type": "display_data"
    },
    {
     "data": {
      "application/javascript": [
       "(function(root) {\n",
       "  function embed_document(root) {\n",
       "    \n",
       "  var docs_json = {\"778a2719-e042-44f5-be1b-2b9790d75978\":{\"roots\":{\"references\":[{\"attributes\":{\"axis_label\":\"cooling rate [K/day]\",\"formatter\":{\"id\":\"a7cf719e-410f-4be1-85fd-01b1435c3228\",\"type\":\"BasicTickFormatter\"},\"plot\":{\"id\":\"24fe9050-6ff8-43e2-83a4-bd4aa6863398\",\"subtype\":\"Figure\",\"type\":\"Plot\"},\"ticker\":{\"id\":\"c5e81098-5f2d-4d0c-97da-a6ed40959526\",\"type\":\"BasicTicker\"}},\"id\":\"2477a429-0ac7-496a-83ab-799d162ec6e5\",\"type\":\"LinearAxis\"},{\"attributes\":{\"callback\":null,\"column_names\":[\"x\",\"y\"],\"data\":{\"x\":{\"__ndarray__\":\"nWTkmq29dT/5r32O+UN2P8ZxdF5pdXc/AcRaThu0eD+lp1yq2PR5P2PiiA2MN3s/2oanWRR9fD+Pe6KLB8R9PwAB6eZUDn8/0EpKWJwsgD9i4BOMvtKAPwgybKD6eIE/rymtCo8ggj9LUrD+g9OCP89/2mvr7oQ/Q88NHaDTij/6bogrRuGRP4ctEhqO1ZY/tpcW8JA0nD8qidPmi/+gP1PrRBzHHKQ/vRsaNbBspz9qH+FqUyuqP8NLlrGmVKo//HtooKsNqD+q6Ts+qCulPzCt3sUhOaI/ueSKG0+1nj/HCQ6N+UmZP2zCkLHnJpQ/lI/2ouoVjj/QbWoqECCEP9OJE3765nY/L3aOx+RCYT9x2lh0JytRv8vRCi0ep2+/7zynWDKZd7+ov9NuOE98v8dW9Q0jOIC/sexL89x0gb/kEIt+D0OAv8PHmQLv5nm/8ZeewYKacr9IMoppz/pmv0sTlLWdXFK/0OnaF4fsQD/WbG3yN0BhP7Ryc5ZH6m0/jm5QeJoedT8how1NQxd7P99kH5W3a4A/fYZPdaougz+6wo0k2dSFP1pRRgYAYYg/uEz/8sbSij/XnemDNzSNP2GuT31DiI8/MHcUhH7okD+3Gdlb6weSP0mhqEPZIZM/5e8J0r82lD8O+fppwkeVP3jUDx8VVZY/nUBNN81elz8aMrEI5GOYPzrrRmTHYpk/tS1bzzZVmj9HqU81JDWbP/xmeVaG/Js/f5DPpWSrnD8bTLENVkidP0HpSIT/2p0/3Kb53Glonj84s6cuKvOeP0VJmetsfJ8/\",\"dtype\":\"float64\",\"shape\":[75]},\"y\":{\"__ndarray__\":\"S/O/Q+51ND/Sv8nbtpRIP2vylNV0PVE/aTum7souWD/At0SJ8fVgPw3Iuahxymc/MSNhhJWvcD/bTfBN02d3P2zb5nxnaoA/CD5h5MAGhz8NmeH1TyaQP+zrCsc9p5Y/LbKd76fGnz/bLW5ISEmmPww9YvTcQq8/JV2OstnstT8Er5Y7M8G+P0c+r3jqkcU/5h99k6ZBzj88bCIzFzjVP4enV8oyxN0//yH99nXg5D8qOpLLf0jtP5kqGJXUifQ/c9cS8kHP/D+/DpwzojQEQIEmwoanVwxA4lgXt9HgE0BSSZ2AJuIbQAMJih9jjiNA5q4l5INuK0AwTKYKRj0zQNv5fmq8/DpAaCJseHrtQkB/+zpwzoxKQM3MzMzMeFJAZmZmZmZqWEAAAAAAAFxeQM3MzMzMJmJAmpmZmZkfZUBmZmZmZhhoQDMzMzMzEWtAAAAAAAAKbkBmZmZmZoFwQM3MzMzM/XFAMzMzMzN6c0CamZmZmfZ0QAAAAAAAc3ZAZmZmZmbvd0DNzMzMzGt5QDMzMzMz6HpAmpmZmZlkfEAAAAAAAOF9QGZmZmZmXX9AZmZmZuZsgECamZmZGSuBQM3MzMxM6YFAAAAAAICngkAzMzMzs2WDQGZmZmbmI4RAmpmZmRnihEDNzMzMTKCFQAAAAACAXoZAMzMzM7Mch0BmZmZm5tqHQJqZmZkZmYhAzczMzExXiUAAAAAAgBWKQDMzMzOz04pAZmZmZuaRi0CamZmZGVCMQM3MzMxMDo1AAAAAAIDMjUAzMzMzs4qOQGZmZmbmSI9A\",\"dtype\":\"float64\",\"shape\":[75]}}},\"id\":\"5a325d9d-2824-434f-a7b7-eade678add29\",\"type\":\"ColumnDataSource\"},{\"attributes\":{\"fill_alpha\":{\"value\":0.1},\"fill_color\":{\"value\":\"#1f77b4\"},\"line_alpha\":{\"value\":0.1},\"line_color\":{\"value\":\"#1f77b4\"},\"x\":{\"field\":\"x\"},\"y\":{\"field\":\"y\"}},\"id\":\"55fe0b0c-f172-4501-a7fa-4367f3cf7162\",\"type\":\"Circle\"},{\"attributes\":{\"data_source\":{\"id\":\"151ce34e-80a2-49c3-9fbd-fdc877bcffd1\",\"type\":\"ColumnDataSource\"},\"glyph\":{\"id\":\"6c25e105-06e8-4d30-a266-104a9ef34d4b\",\"type\":\"Line\"},\"hover_glyph\":null,\"muted_glyph\":null,\"nonselection_glyph\":{\"id\":\"af8b5a60-2a06-440c-ac7e-ad4c982f1beb\",\"type\":\"Line\"},\"selection_glyph\":null,\"view\":{\"id\":\"a1287453-85c6-4cfe-a49f-d16c830bac66\",\"type\":\"CDSView\"}},\"id\":\"53c9bdd4-cab7-4023-a788-4e971561375a\",\"type\":\"GlyphRenderer\"},{\"attributes\":{\"callback\":null,\"end\":0.01,\"start\":1020},\"id\":\"c00d2b2f-f19d-487a-8929-4e124f93067b\",\"type\":\"Range1d\"},{\"attributes\":{\"data_source\":{\"id\":\"5a325d9d-2824-434f-a7b7-eade678add29\",\"type\":\"ColumnDataSource\"},\"glyph\":{\"id\":\"6f41ca0b-fb27-4997-9749-0032d4b8fd9a\",\"type\":\"Line\"},\"hover_glyph\":null,\"muted_glyph\":null,\"nonselection_glyph\":{\"id\":\"7938eb50-5bbd-4e96-a767-6bf574856158\",\"type\":\"Line\"},\"selection_glyph\":null,\"view\":{\"id\":\"4dc12ca0-02f4-46aa-912b-e6e0422cfbe0\",\"type\":\"CDSView\"}},\"id\":\"58fd419e-84a9-4047-b3c4-d43a9b65ee46\",\"type\":\"GlyphRenderer\"},{\"attributes\":{\"plot\":{\"id\":\"24fe9050-6ff8-43e2-83a4-bd4aa6863398\",\"subtype\":\"Figure\",\"type\":\"Plot\"},\"ticker\":{\"id\":\"c5e81098-5f2d-4d0c-97da-a6ed40959526\",\"type\":\"BasicTicker\"}},\"id\":\"92a979f6-8d38-47f3-9019-de98ee1c961f\",\"type\":\"Grid\"},{\"attributes\":{\"plot\":null,\"text\":\"Linear pressure scale\"},\"id\":\"582bfbc3-d806-4a2a-a005-0e7377a6178b\",\"type\":\"Title\"},{\"attributes\":{\"num_minor_ticks\":10},\"id\":\"53e056ec-3b79-46f0-b15c-3f144b5ec2a1\",\"type\":\"LogTicker\"},{\"attributes\":{\"fill_alpha\":{\"value\":0.7},\"fill_color\":{\"value\":\"#4daf4a\"},\"line_alpha\":{\"value\":0.7},\"line_color\":{\"value\":\"#4daf4a\"},\"x\":{\"field\":\"x\"},\"y\":{\"field\":\"y\"}},\"id\":\"ca8223bc-c40b-4e96-8169-725ceec02fe6\",\"type\":\"Circle\"},{\"attributes\":{\"callback\":null,\"column_names\":[\"x\",\"y\"],\"data\":{\"x\":{\"__ndarray__\":\"N1qKIPvccj9czE2X/VtzPwLcUqYJnHQ/QR74GqL7dT86Q5GbLl53P8n4bEZLw3g/Ih06Avcqej+YJpYyMZV7P22q4yEJAn0/+D77MmBxfj+/kE/58+J/P0JJnPamq4A/6YW+cFZngT89OlRzlTCCPyBUvEnBl4Q/YjVBJcA5iz9YAimer4qSP76PwfGJB5g/+zYMvJ34nT9pUN5tUxyiP3sRS6pTkKU/ehn9vf0rqT9oPhlR5CysP+0IT48RRqw/eXptguSnqT/wM5ckomKmP6XY8ka9EqM/NLBv7Fa/nz9nShMMvcqZP1cZzrwqRZQ/Tqnf73vsjT8kDtVjBuKDP/uqB81oy3Y/gLQATXPUYj9m7CejOJNFv34zMvfmrmu/kbJ6DV6Qdb/gG+7bvHV6vye9zsn0C3+/3m3GwK0Igb98kWfX+OV/v92JbsrQCXm/aFXpfVN3cb92ned65FBkv+ZhFiZT2Ui/wCeI5+9zTD9cLZZzQEpkP6tEM2VRlHA/WpyDD+XTdj+8UUpvKrJ8PwDEmeXwQ4E/OE74hJwPhD98qTXIrq6GPyrgxvg8N4k/Pr9d1KKziz/WgKDAAhSOP8mahmE2M5A/lMn561VdkT9+WRIL+XqSP7B02cdFl5M/moMuBU60lD9Q7/p1NMGVP06EFXfY1ZY/acqi9Rbklz+mUMrmWemYPwOumAKz8Zk/HjTwKZ3kmj81d7jKiMybPzwVv8yol5w/8AoR8GNFnT90IVymguidPzjP5JxJdJ4/yt/qbW0Jnz8SnpKsMZOfP5ZM2yngEaA/\",\"dtype\":\"float64\",\"shape\":[75]},\"y\":{\"__ndarray__\":\"GhExyth1ND/Sv8nbtpRIP2vylNV0PVE/aTum7souWD/At0SJ8fVgPw3Iuahxymc/MSNhhJWvcD/bTfBN02d3P2zb5nxnaoA/CD5h5MAGhz8NmeH1TyaQP+zrCsc9p5Y/LbKd76fGnz/bLW5ISEmmPww9YvTcQq8/JV2OstnstT8Er5Y7M8G+P0c+r3jqkcU/5h99k6ZBzj88bCIzFzjVP4enV8oyxN0//yH99nXg5D8qOpLLf0jtP5kqGJXUifQ/c9cS8kHP/D+/DpwzojQEQIEmwoanVwxA4lgXt9HgE0BSSZ2AJuIbQAMJih9jjiNA5q4l5INuK0AwTKYKRj0zQNv5fmq8/DpAaCJseHrtQkB/+zpwzoxKQM3MzMzMeFJAZmZmZmZqWEAAAAAAAFxeQM3MzMzMJmJAmpmZmZkfZUBmZmZmZhhoQDMzMzMzEWtAAAAAAAAKbkBmZmZmZoFwQM3MzMzM/XFAMzMzMzN6c0CamZmZmfZ0QAAAAAAAc3ZAZmZmZmbvd0DNzMzMzGt5QDMzMzMz6HpAmpmZmZlkfEAAAAAAAOF9QGZmZmZmXX9AZmZmZuZsgECamZmZGSuBQM3MzMxM6YFAAAAAAICngkAzMzMzs2WDQGZmZmbmI4RAmpmZmRnihEDNzMzMTKCFQAAAAACAXoZAMzMzM7Mch0BmZmZm5tqHQJqZmZkZmYhAzczMzExXiUAAAAAAgBWKQDMzMzOz04pAZmZmZuaRi0CamZmZGVCMQM3MzMxMDo1AAAAAAIDMjUAzMzMzs4qOQGZmZmbmSI9A\",\"dtype\":\"float64\",\"shape\":[75]}}},\"id\":\"35226815-6ece-4d2b-aacb-93d2bfa17689\",\"type\":\"ColumnDataSource\"},{\"attributes\":{\"overlay\":{\"id\":\"7a1b97c0-b325-4f7c-a460-9b4cc7985fb4\",\"type\":\"BoxAnnotation\"}},\"id\":\"8143bef4-327a-405d-8fb2-d28751e3f63e\",\"type\":\"BoxZoomTool\"},{\"attributes\":{\"data_source\":{\"id\":\"fffefb34-46b9-4be0-a9ac-da1b2b9c8384\",\"type\":\"ColumnDataSource\"},\"glyph\":{\"id\":\"ca8223bc-c40b-4e96-8169-725ceec02fe6\",\"type\":\"Circle\"},\"hover_glyph\":null,\"muted_glyph\":null,\"nonselection_glyph\":{\"id\":\"55fe0b0c-f172-4501-a7fa-4367f3cf7162\",\"type\":\"Circle\"},\"selection_glyph\":null,\"view\":{\"id\":\"a81805a3-f3ec-4b6d-a032-9dd964136c31\",\"type\":\"CDSView\"}},\"id\":\"f0d74fb8-1931-4178-aab0-57798884bbe3\",\"type\":\"GlyphRenderer\"},{\"attributes\":{\"source\":{\"id\":\"fffefb34-46b9-4be0-a9ac-da1b2b9c8384\",\"type\":\"ColumnDataSource\"}},\"id\":\"a81805a3-f3ec-4b6d-a032-9dd964136c31\",\"type\":\"CDSView\"},{\"attributes\":{\"toolbar\":{\"id\":\"1f43057b-6d10-46e7-991c-e47eb892a558\",\"type\":\"ProxyToolbar\"},\"toolbar_location\":\"above\"},\"id\":\"bbbb8497-4217-4c4a-881b-f3a16a73c97f\",\"type\":\"ToolbarBox\"},{\"attributes\":{\"source\":{\"id\":\"11be1c91-b95f-4fb0-85dc-b92175783816\",\"type\":\"ColumnDataSource\"}},\"id\":\"e43c9621-a776-4db5-a9f0-3a5b4a87da17\",\"type\":\"CDSView\"},{\"attributes\":{},\"id\":\"c78190ff-af0c-4755-8c23-86b92dda8d2e\",\"type\":\"LinearScale\"},{\"attributes\":{},\"id\":\"8fdf404c-98c7-4ee4-a97c-225178dde256\",\"type\":\"HelpTool\"},{\"attributes\":{\"callback\":null,\"column_names\":[\"x\",\"y\"],\"data\":{\"x\":{\"__ndarray__\":\"sxHf/NM8QT+2IwYYYY9GP3NgHTb2DVE/lz2FMyo2Vz8GlpmWvGhdPyvQRiSFz2E/ezX6uEHrZD9Ofd5cFQtoP87753fGKGs/o/0fSchFbj+ks1lf55lwP1h07qSsAHI/TZv7MCVHcz9Z+BWLoYx0PxP5gTZ4KXk/kn8VgACCgz+mYmNeRxyOP07ItT444ZQ/hguDdqojmz/AzlcN5eugP9823BJ8faQ/WUBr9QpIqD9CPOxnrFurPz0Zw2xnN6s/JAioh6AeqD+hRPBk3HmkP0lnHsiTB6E/F0QW/EXvmz8fWiQgOMSWP5KksPo/YZI/wu526LShjD9H44hpas+EP5UK6NbLNXw/eia4OLHecD96iYfxh5hTP0wtGRjZFF+/91JlEStgcb+WuwF1MtB3vwcEINFwAX6/+p0FJfUzgb8/dq36aU6Av5rj88JRfXm/Dj/UBjvPcb+NajIWFitlv9Yajt4o+U2/NHxPsI9FRj9y6U5mciBiP+x3JL9+P24/B1nfD+L7dD8Zm9xDUKJ6Py2q5vYpB4A/4VpUIH+dgj+scpeAPBSFPyijEwelb4c/c9Klxh62iT9COVAuLe2LP0wFm46OGI4/iK8MMEcdkD+uN5cGcSqRP3o+yz9vNJI/AtBWleU6kz8ZURd/lD6UP5OdhsFfQJU/ZTiPpFNAlj+7LR+25T2XP12otZbtNpg/ol3tdxQmmT9Dw5XFWgKaP9oki3Cdw5o/VYLhNvxpmz/nidOIGv6bP/ru5EAAipw/FzE4v2sUnT95MJTZQaGdP+k4om6sM54/\",\"dtype\":\"float64\",\"shape\":[75]},\"y\":{\"__ndarray__\":\"GhExyth1ND/Sv8nbtpRIP2vylNV0PVE/aTum7souWD/At0SJ8fVgPw3Iuahxymc/MSNhhJWvcD/bTfBN02d3P2zb5nxnaoA/CD5h5MAGhz8NmeH1TyaQP+zrCsc9p5Y/LbKd76fGnz/bLW5ISEmmPww9YvTcQq8/JV2OstnstT8Er5Y7M8G+P0c+r3jqkcU/5h99k6ZBzj88bCIzFzjVP4enV8oyxN0//yH99nXg5D8qOpLLf0jtP5kqGJXUifQ/c9cS8kHP/D+/DpwzojQEQIEmwoanVwxA4lgXt9HgE0BSSZ2AJuIbQAMJih9jjiNA5q4l5INuK0AwTKYKRj0zQNv5fmq8/DpAaCJseHrtQkB/+zpwzoxKQM3MzMzMeFJAZmZmZmZqWEAAAAAAAFxeQM3MzMzMJmJAmpmZmZkfZUBmZmZmZhhoQDMzMzMzEWtAAAAAAAAKbkBmZmZmZoFwQM3MzMzM/XFAMzMzMzN6c0CamZmZmfZ0QAAAAAAAc3ZAZmZmZmbvd0DNzMzMzGt5QDMzMzMz6HpAmpmZmZlkfEAAAAAAAOF9QGZmZmZmXX9AZmZmZuZsgECamZmZGSuBQM3MzMxM6YFAAAAAAICngkAzMzMzs2WDQGZmZmbmI4RAmpmZmRnihEDNzMzMTKCFQAAAAACAXoZAMzMzM7Mch0BmZmZm5tqHQJqZmZkZmYhAzczMzExXiUAAAAAAgBWKQDMzMzOz04pAZmZmZuaRi0CamZmZGVCMQM3MzMxMDo1AAAAAAIDMjUAzMzMzs4qOQGZmZmbmSI9A\",\"dtype\":\"float64\",\"shape\":[75]}}},\"id\":\"fffefb34-46b9-4be0-a9ac-da1b2b9c8384\",\"type\":\"ColumnDataSource\"},{\"attributes\":{},\"id\":\"fcb78a37-b66a-40e1-8cdb-d76f2d71ea24\",\"type\":\"WheelZoomTool\"},{\"attributes\":{},\"id\":\"94b173a8-8d34-4ea2-9d4e-fc67c864f710\",\"type\":\"BasicTickFormatter\"},{\"attributes\":{},\"id\":\"80afffbe-dcf4-4958-93ba-8867f7a150d4\",\"type\":\"BasicTickFormatter\"},{\"attributes\":{},\"id\":\"9627817b-2f66-40aa-88af-53572f6059bf\",\"type\":\"PanTool\"},{\"attributes\":{\"dimension\":1,\"plot\":{\"id\":\"24fe9050-6ff8-43e2-83a4-bd4aa6863398\",\"subtype\":\"Figure\",\"type\":\"Plot\"},\"ticker\":{\"id\":\"1c1ef6f0-8f7b-480c-8991-b0507a5cc720\",\"type\":\"BasicTicker\"}},\"id\":\"c84ce802-1190-4561-b97c-484d8e1d6341\",\"type\":\"Grid\"},{\"attributes\":{\"callback\":null,\"column_names\":[\"x\",\"y\"],\"data\":{\"x\":{\"__ndarray__\":\"sxHf/NM8QT+2IwYYYY9GP3NgHTb2DVE/lz2FMyo2Vz8GlpmWvGhdPyvQRiSFz2E/ezX6uEHrZD9Ofd5cFQtoP87753fGKGs/o/0fSchFbj+ks1lf55lwP1h07qSsAHI/TZv7MCVHcz9Z+BWLoYx0PxP5gTZ4KXk/kn8VgACCgz+mYmNeRxyOP07ItT444ZQ/hguDdqojmz/AzlcN5eugP9823BJ8faQ/WUBr9QpIqD9CPOxnrFurPz0Zw2xnN6s/JAioh6AeqD+hRPBk3HmkP0lnHsiTB6E/F0QW/EXvmz8fWiQgOMSWP5KksPo/YZI/wu526LShjD9H44hpas+EP5UK6NbLNXw/eia4OLHecD96iYfxh5hTP0wtGRjZFF+/91JlEStgcb+WuwF1MtB3vwcEINFwAX6/+p0FJfUzgb8/dq36aU6Av5rj88JRfXm/Dj/UBjvPcb+NajIWFitlv9Yajt4o+U2/NHxPsI9FRj9y6U5mciBiP+x3JL9+P24/B1nfD+L7dD8Zm9xDUKJ6Py2q5vYpB4A/4VpUIH+dgj+scpeAPBSFPyijEwelb4c/c9Klxh62iT9COVAuLe2LP0wFm46OGI4/iK8MMEcdkD+uN5cGcSqRP3o+yz9vNJI/AtBWleU6kz8ZURd/lD6UP5OdhsFfQJU/ZTiPpFNAlj+7LR+25T2XP12otZbtNpg/ol3tdxQmmT9Dw5XFWgKaP9oki3Cdw5o/VYLhNvxpmz/nidOIGv6bP/ru5EAAipw/FzE4v2sUnT95MJTZQaGdP+k4om6sM54/\",\"dtype\":\"float64\",\"shape\":[75]},\"y\":{\"__ndarray__\":\"GhExyth1ND/Sv8nbtpRIP2vylNV0PVE/aTum7souWD/At0SJ8fVgPw3Iuahxymc/MSNhhJWvcD/bTfBN02d3P2zb5nxnaoA/CD5h5MAGhz8NmeH1TyaQP+zrCsc9p5Y/LbKd76fGnz/bLW5ISEmmPww9YvTcQq8/JV2OstnstT8Er5Y7M8G+P0c+r3jqkcU/5h99k6ZBzj88bCIzFzjVP4enV8oyxN0//yH99nXg5D8qOpLLf0jtP5kqGJXUifQ/c9cS8kHP/D+/DpwzojQEQIEmwoanVwxA4lgXt9HgE0BSSZ2AJuIbQAMJih9jjiNA5q4l5INuK0AwTKYKRj0zQNv5fmq8/DpAaCJseHrtQkB/+zpwzoxKQM3MzMzMeFJAZmZmZmZqWEAAAAAAAFxeQM3MzMzMJmJAmpmZmZkfZUBmZmZmZhhoQDMzMzMzEWtAAAAAAAAKbkBmZmZmZoFwQM3MzMzM/XFAMzMzMzN6c0CamZmZmfZ0QAAAAAAAc3ZAZmZmZmbvd0DNzMzMzGt5QDMzMzMz6HpAmpmZmZlkfEAAAAAAAOF9QGZmZmZmXX9AZmZmZuZsgECamZmZGSuBQM3MzMxM6YFAAAAAAICngkAzMzMzs2WDQGZmZmbmI4RAmpmZmRnihEDNzMzMTKCFQAAAAACAXoZAMzMzM7Mch0BmZmZm5tqHQJqZmZkZmYhAzczMzExXiUAAAAAAgBWKQDMzMzOz04pAZmZmZuaRi0CamZmZGVCMQM3MzMxMDo1AAAAAAIDMjUAzMzMzs4qOQGZmZmbmSI9A\",\"dtype\":\"float64\",\"shape\":[75]}}},\"id\":\"151ce34e-80a2-49c3-9fbd-fdc877bcffd1\",\"type\":\"ColumnDataSource\"},{\"attributes\":{\"line_color\":\"#4daf4a\",\"line_width\":1.5,\"x\":{\"field\":\"x\"},\"y\":{\"field\":\"y\"}},\"id\":\"6c25e105-06e8-4d30-a266-104a9ef34d4b\",\"type\":\"Line\"},{\"attributes\":{\"axis_label\":\"pressure [mb]\",\"formatter\":{\"id\":\"94b173a8-8d34-4ea2-9d4e-fc67c864f710\",\"type\":\"BasicTickFormatter\"},\"plot\":{\"id\":\"24fe9050-6ff8-43e2-83a4-bd4aa6863398\",\"subtype\":\"Figure\",\"type\":\"Plot\"},\"ticker\":{\"id\":\"1c1ef6f0-8f7b-480c-8991-b0507a5cc720\",\"type\":\"BasicTicker\"}},\"id\":\"8fd84814-95b8-4094-967d-5f1f22cfb3df\",\"type\":\"LinearAxis\"},{\"attributes\":{\"line_alpha\":0.6,\"line_color\":\"#984ea3\",\"line_width\":3,\"x\":{\"field\":\"x\"},\"y\":{\"field\":\"y\"}},\"id\":\"04e3b62b-376d-454f-8b27-a2a6bbae51c0\",\"type\":\"Line\"},{\"attributes\":{\"line_alpha\":0.1,\"line_color\":\"#1f77b4\",\"line_width\":1.5,\"x\":{\"field\":\"x\"},\"y\":{\"field\":\"y\"}},\"id\":\"af8b5a60-2a06-440c-ac7e-ad4c982f1beb\",\"type\":\"Line\"},{\"attributes\":{\"callback\":null,\"column_names\":[\"x\",\"y\"],\"data\":{\"x\":{\"__ndarray__\":\"N1qKIPvccj9czE2X/VtzPwLcUqYJnHQ/QR74GqL7dT86Q5GbLl53P8n4bEZLw3g/Ih06Avcqej+YJpYyMZV7P22q4yEJAn0/+D77MmBxfj+/kE/58+J/P0JJnPamq4A/6YW+cFZngT89OlRzlTCCPyBUvEnBl4Q/YjVBJcA5iz9YAimer4qSP76PwfGJB5g/+zYMvJ34nT9pUN5tUxyiP3sRS6pTkKU/ehn9vf0rqT9oPhlR5CysP+0IT48RRqw/eXptguSnqT/wM5ckomKmP6XY8ka9EqM/NLBv7Fa/nz9nShMMvcqZP1cZzrwqRZQ/Tqnf73vsjT8kDtVjBuKDP/uqB81oy3Y/gLQATXPUYj9m7CejOJNFv34zMvfmrmu/kbJ6DV6Qdb/gG+7bvHV6vye9zsn0C3+/3m3GwK0Igb98kWfX+OV/v92JbsrQCXm/aFXpfVN3cb92ned65FBkv+ZhFiZT2Ui/wCeI5+9zTD9cLZZzQEpkP6tEM2VRlHA/WpyDD+XTdj+8UUpvKrJ8PwDEmeXwQ4E/OE74hJwPhD98qTXIrq6GPyrgxvg8N4k/Pr9d1KKziz/WgKDAAhSOP8mahmE2M5A/lMn561VdkT9+WRIL+XqSP7B02cdFl5M/moMuBU60lD9Q7/p1NMGVP06EFXfY1ZY/acqi9Rbklz+mUMrmWemYPwOumAKz8Zk/HjTwKZ3kmj81d7jKiMybPzwVv8yol5w/8AoR8GNFnT90IVymguidPzjP5JxJdJ4/yt/qbW0Jnz8SnpKsMZOfP5ZM2yngEaA/\",\"dtype\":\"float64\",\"shape\":[75]},\"y\":{\"__ndarray__\":\"GhExyth1ND/Sv8nbtpRIP2vylNV0PVE/aTum7souWD/At0SJ8fVgPw3Iuahxymc/MSNhhJWvcD/bTfBN02d3P2zb5nxnaoA/CD5h5MAGhz8NmeH1TyaQP+zrCsc9p5Y/LbKd76fGnz/bLW5ISEmmPww9YvTcQq8/JV2OstnstT8Er5Y7M8G+P0c+r3jqkcU/5h99k6ZBzj88bCIzFzjVP4enV8oyxN0//yH99nXg5D8qOpLLf0jtP5kqGJXUifQ/c9cS8kHP/D+/DpwzojQEQIEmwoanVwxA4lgXt9HgE0BSSZ2AJuIbQAMJih9jjiNA5q4l5INuK0AwTKYKRj0zQNv5fmq8/DpAaCJseHrtQkB/+zpwzoxKQM3MzMzMeFJAZmZmZmZqWEAAAAAAAFxeQM3MzMzMJmJAmpmZmZkfZUBmZmZmZhhoQDMzMzMzEWtAAAAAAAAKbkBmZmZmZoFwQM3MzMzM/XFAMzMzMzN6c0CamZmZmfZ0QAAAAAAAc3ZAZmZmZmbvd0DNzMzMzGt5QDMzMzMz6HpAmpmZmZlkfEAAAAAAAOF9QGZmZmZmXX9AZmZmZuZsgECamZmZGSuBQM3MzMxM6YFAAAAAAICngkAzMzMzs2WDQGZmZmbmI4RAmpmZmRnihEDNzMzMTKCFQAAAAACAXoZAMzMzM7Mch0BmZmZm5tqHQJqZmZkZmYhAzczMzExXiUAAAAAAgBWKQDMzMzOz04pAZmZmZuaRi0CamZmZGVCMQM3MzMxMDo1AAAAAAIDMjUAzMzMzs4qOQGZmZmbmSI9A\",\"dtype\":\"float64\",\"shape\":[75]}}},\"id\":\"3c28f822-56db-4309-a1b4-e1ae811bc0c3\",\"type\":\"ColumnDataSource\"},{\"attributes\":{\"source\":{\"id\":\"151ce34e-80a2-49c3-9fbd-fdc877bcffd1\",\"type\":\"ColumnDataSource\"}},\"id\":\"a1287453-85c6-4cfe-a49f-d16c830bac66\",\"type\":\"CDSView\"},{\"attributes\":{\"fill_alpha\":{\"value\":0.7},\"fill_color\":{\"value\":\"#984ea3\"},\"line_alpha\":{\"value\":0.7},\"line_color\":{\"value\":\"#984ea3\"},\"x\":{\"field\":\"x\"},\"y\":{\"field\":\"y\"}},\"id\":\"0ccc9d66-2198-45e5-99f9-dda3b1c157b3\",\"type\":\"Square\"},{\"attributes\":{\"items\":[{\"id\":\"db853bfb-1a76-4855-b3f9-ba97b50d537f\",\"type\":\"LegendItem\"},{\"id\":\"46d5c9f4-8062-40a1-9779-efd8a30e1238\",\"type\":\"LegendItem\"},{\"id\":\"602623f4-38fb-4a61-95cc-447e516e4b07\",\"type\":\"LegendItem\"}],\"label_text_font_size\":{\"value\":\"8pt\"},\"location\":[10,-30],\"plot\":{\"id\":\"b6e9de19-9424-45e8-9103-01ae77f01a58\",\"subtype\":\"Figure\",\"type\":\"Plot\"}},\"id\":\"56c0c91b-b04e-43eb-ab50-4b37a7ce7197\",\"type\":\"Legend\"},{\"attributes\":{\"source\":{\"id\":\"35226815-6ece-4d2b-aacb-93d2bfa17689\",\"type\":\"ColumnDataSource\"}},\"id\":\"e3144bfc-cced-495f-9c1d-ba7af4b9d2c8\",\"type\":\"CDSView\"},{\"attributes\":{\"below\":[{\"id\":\"2477a429-0ac7-496a-83ab-799d162ec6e5\",\"type\":\"LinearAxis\"}],\"left\":[{\"id\":\"8fd84814-95b8-4094-967d-5f1f22cfb3df\",\"type\":\"LinearAxis\"}],\"plot_height\":500,\"plot_width\":400,\"renderers\":[{\"id\":\"2477a429-0ac7-496a-83ab-799d162ec6e5\",\"type\":\"LinearAxis\"},{\"id\":\"92a979f6-8d38-47f3-9019-de98ee1c961f\",\"type\":\"Grid\"},{\"id\":\"8fd84814-95b8-4094-967d-5f1f22cfb3df\",\"type\":\"LinearAxis\"},{\"id\":\"c84ce802-1190-4561-b97c-484d8e1d6341\",\"type\":\"Grid\"},{\"id\":\"7a1b97c0-b325-4f7c-a460-9b4cc7985fb4\",\"type\":\"BoxAnnotation\"},{\"id\":\"58fd419e-84a9-4047-b3c4-d43a9b65ee46\",\"type\":\"GlyphRenderer\"},{\"id\":\"6ceb219f-4f92-42fa-99f7-ef77e9bd6a35\",\"type\":\"GlyphRenderer\"},{\"id\":\"a3504319-c7cf-4706-af0a-0245286bf8af\",\"type\":\"GlyphRenderer\"},{\"id\":\"0ce48f45-6371-4962-818a-76fe118770da\",\"type\":\"GlyphRenderer\"},{\"id\":\"9f112d96-c3b6-45f3-bacc-3b755404df1e\",\"type\":\"GlyphRenderer\"}],\"title\":{\"id\":\"582bfbc3-d806-4a2a-a005-0e7377a6178b\",\"type\":\"Title\"},\"toolbar\":{\"id\":\"665501f9-d0fb-44e7-a604-79d9a3a5e31d\",\"type\":\"Toolbar\"},\"toolbar_location\":null,\"x_range\":{\"id\":\"8200e415-64e4-4103-bfac-324e129263e9\",\"type\":\"Range1d\"},\"x_scale\":{\"id\":\"398abb57-665f-40bc-b20b-92744123f9a9\",\"type\":\"LinearScale\"},\"y_range\":{\"id\":\"c00d2b2f-f19d-487a-8929-4e124f93067b\",\"type\":\"Range1d\"},\"y_scale\":{\"id\":\"c78190ff-af0c-4755-8c23-86b92dda8d2e\",\"type\":\"LinearScale\"}},\"id\":\"24fe9050-6ff8-43e2-83a4-bd4aa6863398\",\"subtype\":\"Figure\",\"type\":\"Plot\"},{\"attributes\":{\"callback\":null,\"end\":0.055859538548400006,\"start\":-0.009161137508399999},\"id\":\"ed2986b9-cdff-4790-a2cb-b5b2507a0846\",\"type\":\"Range1d\"},{\"attributes\":{\"fill_alpha\":{\"value\":0.1},\"fill_color\":{\"value\":\"#1f77b4\"},\"line_alpha\":{\"value\":0.1},\"line_color\":{\"value\":\"#1f77b4\"},\"x\":{\"field\":\"x\"},\"y\":{\"field\":\"y\"}},\"id\":\"a9d6c5cf-19c7-4c4f-8392-f4500764be16\",\"type\":\"Square\"},{\"attributes\":{\"data_source\":{\"id\":\"35226815-6ece-4d2b-aacb-93d2bfa17689\",\"type\":\"ColumnDataSource\"},\"glyph\":{\"id\":\"0ccc9d66-2198-45e5-99f9-dda3b1c157b3\",\"type\":\"Square\"},\"hover_glyph\":null,\"muted_glyph\":null,\"nonselection_glyph\":{\"id\":\"a9d6c5cf-19c7-4c4f-8392-f4500764be16\",\"type\":\"Square\"},\"selection_glyph\":null,\"view\":{\"id\":\"e3144bfc-cced-495f-9c1d-ba7af4b9d2c8\",\"type\":\"CDSView\"}},\"id\":\"a3fdd7a7-d60f-4c3f-95d6-5a96298042a0\",\"type\":\"GlyphRenderer\"},{\"attributes\":{\"callback\":null,\"column_names\":[\"x\",\"y\"],\"data\":{\"x\":{\"__ndarray__\":\"sxHf/NM8QT+2IwYYYY9GP3NgHTb2DVE/lz2FMyo2Vz8GlpmWvGhdPyvQRiSFz2E/ezX6uEHrZD9Ofd5cFQtoP87753fGKGs/o/0fSchFbj+ks1lf55lwP1h07qSsAHI/TZv7MCVHcz9Z+BWLoYx0PxP5gTZ4KXk/kn8VgACCgz+mYmNeRxyOP07ItT444ZQ/hguDdqojmz/AzlcN5eugP9823BJ8faQ/WUBr9QpIqD9CPOxnrFurPz0Zw2xnN6s/JAioh6AeqD+hRPBk3HmkP0lnHsiTB6E/F0QW/EXvmz8fWiQgOMSWP5KksPo/YZI/wu526LShjD9H44hpas+EP5UK6NbLNXw/eia4OLHecD96iYfxh5hTP0wtGRjZFF+/91JlEStgcb+WuwF1MtB3vwcEINFwAX6/+p0FJfUzgb8/dq36aU6Av5rj88JRfXm/Dj/UBjvPcb+NajIWFitlv9Yajt4o+U2/NHxPsI9FRj9y6U5mciBiP+x3JL9+P24/B1nfD+L7dD8Zm9xDUKJ6Py2q5vYpB4A/4VpUIH+dgj+scpeAPBSFPyijEwelb4c/c9Klxh62iT9COVAuLe2LP0wFm46OGI4/iK8MMEcdkD+uN5cGcSqRP3o+yz9vNJI/AtBWleU6kz8ZURd/lD6UP5OdhsFfQJU/ZTiPpFNAlj+7LR+25T2XP12otZbtNpg/ol3tdxQmmT9Dw5XFWgKaP9oki3Cdw5o/VYLhNvxpmz/nidOIGv6bP/ru5EAAipw/FzE4v2sUnT95MJTZQaGdP+k4om6sM54/\",\"dtype\":\"float64\",\"shape\":[75]},\"y\":{\"__ndarray__\":\"GhExyth1ND/Sv8nbtpRIP2vylNV0PVE/aTum7souWD/At0SJ8fVgPw3Iuahxymc/MSNhhJWvcD/bTfBN02d3P2zb5nxnaoA/CD5h5MAGhz8NmeH1TyaQP+zrCsc9p5Y/LbKd76fGnz/bLW5ISEmmPww9YvTcQq8/JV2OstnstT8Er5Y7M8G+P0c+r3jqkcU/5h99k6ZBzj88bCIzFzjVP4enV8oyxN0//yH99nXg5D8qOpLLf0jtP5kqGJXUifQ/c9cS8kHP/D+/DpwzojQEQIEmwoanVwxA4lgXt9HgE0BSSZ2AJuIbQAMJih9jjiNA5q4l5INuK0AwTKYKRj0zQNv5fmq8/DpAaCJseHrtQkB/+zpwzoxKQM3MzMzMeFJAZmZmZmZqWEAAAAAAAFxeQM3MzMzMJmJAmpmZmZkfZUBmZmZmZhhoQDMzMzMzEWtAAAAAAAAKbkBmZmZmZoFwQM3MzMzM/XFAMzMzMzN6c0CamZmZmfZ0QAAAAAAAc3ZAZmZmZmbvd0DNzMzMzGt5QDMzMzMz6HpAmpmZmZlkfEAAAAAAAOF9QGZmZmZmXX9AZmZmZuZsgECamZmZGSuBQM3MzMxM6YFAAAAAAICngkAzMzMzs2WDQGZmZmbmI4RAmpmZmRnihEDNzMzMTKCFQAAAAACAXoZAMzMzM7Mch0BmZmZm5tqHQJqZmZkZmYhAzczMzExXiUAAAAAAgBWKQDMzMzOz04pAZmZmZuaRi0CamZmZGVCMQM3MzMxMDo1AAAAAAIDMjUAzMzMzs4qOQGZmZmbmSI9A\",\"dtype\":\"float64\",\"shape\":[75]}}},\"id\":\"11be1c91-b95f-4fb0-85dc-b92175783816\",\"type\":\"ColumnDataSource\"},{\"attributes\":{\"source\":{\"id\":\"3c28f822-56db-4309-a1b4-e1ae811bc0c3\",\"type\":\"ColumnDataSource\"}},\"id\":\"0a1faedd-7b4b-4725-87af-6a6169c73f89\",\"type\":\"CDSView\"},{\"attributes\":{\"children\":[{\"id\":\"bbbb8497-4217-4c4a-881b-f3a16a73c97f\",\"type\":\"ToolbarBox\"},{\"id\":\"2087c31b-a30d-448a-b8ac-0287094662c1\",\"type\":\"Column\"}]},\"id\":\"31d4ce58-35a9-4625-b840-6575904d92d7\",\"type\":\"Column\"},{\"attributes\":{\"line_alpha\":0.1,\"line_color\":\"#1f77b4\",\"line_width\":3,\"x\":{\"field\":\"x\"},\"y\":{\"field\":\"y\"}},\"id\":\"0efedfe7-d626-45c6-9be6-0b7a6f2683d4\",\"type\":\"Line\"},{\"attributes\":{\"data_source\":{\"id\":\"3c28f822-56db-4309-a1b4-e1ae811bc0c3\",\"type\":\"ColumnDataSource\"},\"glyph\":{\"id\":\"04e3b62b-376d-454f-8b27-a2a6bbae51c0\",\"type\":\"Line\"},\"hover_glyph\":null,\"muted_glyph\":null,\"nonselection_glyph\":{\"id\":\"0efedfe7-d626-45c6-9be6-0b7a6f2683d4\",\"type\":\"Line\"},\"selection_glyph\":null,\"view\":{\"id\":\"0a1faedd-7b4b-4725-87af-6a6169c73f89\",\"type\":\"CDSView\"}},\"id\":\"5f380f01-1195-4409-ae79-88bf9cdcda17\",\"type\":\"GlyphRenderer\"},{\"attributes\":{\"children\":[{\"id\":\"24fe9050-6ff8-43e2-83a4-bd4aa6863398\",\"subtype\":\"Figure\",\"type\":\"Plot\"},{\"id\":\"b6e9de19-9424-45e8-9103-01ae77f01a58\",\"subtype\":\"Figure\",\"type\":\"Plot\"}]},\"id\":\"88b6a0a3-e96d-4318-9ed4-0833d6814c2b\",\"type\":\"Row\"},{\"attributes\":{\"tools\":[{\"id\":\"9627817b-2f66-40aa-88af-53572f6059bf\",\"type\":\"PanTool\"},{\"id\":\"fcb78a37-b66a-40e1-8cdb-d76f2d71ea24\",\"type\":\"WheelZoomTool\"},{\"id\":\"8143bef4-327a-405d-8fb2-d28751e3f63e\",\"type\":\"BoxZoomTool\"},{\"id\":\"d53368c8-3145-4356-9b73-aec33280883b\",\"type\":\"SaveTool\"},{\"id\":\"1886857b-ef69-40b7-94ae-4d8ad215223a\",\"type\":\"ResetTool\"},{\"id\":\"8fdf404c-98c7-4ee4-a97c-225178dde256\",\"type\":\"HelpTool\"},{\"id\":\"d55c3dda-a5a7-4f48-a129-c9f1ef5196ee\",\"type\":\"PanTool\"},{\"id\":\"55ff6d16-6eb5-4b48-b3ae-7fe8e0af6c03\",\"type\":\"WheelZoomTool\"},{\"id\":\"d33a2e96-eac3-4dd9-bb58-a6beebca4145\",\"type\":\"BoxZoomTool\"},{\"id\":\"57cf003a-6820-4a35-9408-81db235146cf\",\"type\":\"SaveTool\"},{\"id\":\"ecdb7b77-51e4-483d-ae8e-72425c070511\",\"type\":\"ResetTool\"},{\"id\":\"347716ce-17cb-4b77-91ae-e589782ccfcd\",\"type\":\"HelpTool\"}]},\"id\":\"1f43057b-6d10-46e7-991c-e47eb892a558\",\"type\":\"ProxyToolbar\"},{\"attributes\":{},\"id\":\"d53368c8-3145-4356-9b73-aec33280883b\",\"type\":\"SaveTool\"},{\"attributes\":{\"line_alpha\":0.6,\"line_color\":\"#e41a1c\",\"line_dash\":[6],\"line_width\":5,\"x\":{\"field\":\"x\"},\"y\":{\"field\":\"y\"}},\"id\":\"6f41ca0b-fb27-4997-9749-0032d4b8fd9a\",\"type\":\"Line\"},{\"attributes\":{\"callback\":null,\"column_names\":[\"x\",\"y\"],\"data\":{\"x\":{\"__ndarray__\":\"sxHf/NM8QT+2IwYYYY9GP3NgHTb2DVE/lz2FMyo2Vz8GlpmWvGhdPyvQRiSFz2E/ezX6uEHrZD9Ofd5cFQtoP87753fGKGs/o/0fSchFbj+ks1lf55lwP1h07qSsAHI/TZv7MCVHcz9Z+BWLoYx0PxP5gTZ4KXk/kn8VgACCgz+mYmNeRxyOP07ItT444ZQ/hguDdqojmz/AzlcN5eugP9823BJ8faQ/WUBr9QpIqD9CPOxnrFurPz0Zw2xnN6s/JAioh6AeqD+hRPBk3HmkP0lnHsiTB6E/F0QW/EXvmz8fWiQgOMSWP5KksPo/YZI/wu526LShjD9H44hpas+EP5UK6NbLNXw/eia4OLHecD96iYfxh5hTP0wtGRjZFF+/91JlEStgcb+WuwF1MtB3vwcEINFwAX6/+p0FJfUzgb8/dq36aU6Av5rj88JRfXm/Dj/UBjvPcb+NajIWFitlv9Yajt4o+U2/NHxPsI9FRj9y6U5mciBiP+x3JL9+P24/B1nfD+L7dD8Zm9xDUKJ6Py2q5vYpB4A/4VpUIH+dgj+scpeAPBSFPyijEwelb4c/c9Klxh62iT9COVAuLe2LP0wFm46OGI4/iK8MMEcdkD+uN5cGcSqRP3o+yz9vNJI/AtBWleU6kz8ZURd/lD6UP5OdhsFfQJU/ZTiPpFNAlj+7LR+25T2XP12otZbtNpg/ol3tdxQmmT9Dw5XFWgKaP9oki3Cdw5o/VYLhNvxpmz/nidOIGv6bP/ru5EAAipw/FzE4v2sUnT95MJTZQaGdP+k4om6sM54/\",\"dtype\":\"float64\",\"shape\":[75]},\"y\":{\"__ndarray__\":\"GhExyth1ND/Sv8nbtpRIP2vylNV0PVE/aTum7souWD/At0SJ8fVgPw3Iuahxymc/MSNhhJWvcD/bTfBN02d3P2zb5nxnaoA/CD5h5MAGhz8NmeH1TyaQP+zrCsc9p5Y/LbKd76fGnz/bLW5ISEmmPww9YvTcQq8/JV2OstnstT8Er5Y7M8G+P0c+r3jqkcU/5h99k6ZBzj88bCIzFzjVP4enV8oyxN0//yH99nXg5D8qOpLLf0jtP5kqGJXUifQ/c9cS8kHP/D+/DpwzojQEQIEmwoanVwxA4lgXt9HgE0BSSZ2AJuIbQAMJih9jjiNA5q4l5INuK0AwTKYKRj0zQNv5fmq8/DpAaCJseHrtQkB/+zpwzoxKQM3MzMzMeFJAZmZmZmZqWEAAAAAAAFxeQM3MzMzMJmJAmpmZmZkfZUBmZmZmZhhoQDMzMzMzEWtAAAAAAAAKbkBmZmZmZoFwQM3MzMzM/XFAMzMzMzN6c0CamZmZmfZ0QAAAAAAAc3ZAZmZmZmbvd0DNzMzMzGt5QDMzMzMz6HpAmpmZmZlkfEAAAAAAAOF9QGZmZmZmXX9AZmZmZuZsgECamZmZGSuBQM3MzMxM6YFAAAAAAICngkAzMzMzs2WDQGZmZmbmI4RAmpmZmRnihEDNzMzMTKCFQAAAAACAXoZAMzMzM7Mch0BmZmZm5tqHQJqZmZkZmYhAzczMzExXiUAAAAAAgBWKQDMzMzOz04pAZmZmZuaRi0CamZmZGVCMQM3MzMxMDo1AAAAAAIDMjUAzMzMzs4qOQGZmZmbmSI9A\",\"dtype\":\"float64\",\"shape\":[75]}}},\"id\":\"80c1040c-499c-4fb9-b6f8-40e93007d69f\",\"type\":\"ColumnDataSource\"},{\"attributes\":{},\"id\":\"c5e81098-5f2d-4d0c-97da-a6ed40959526\",\"type\":\"BasicTicker\"},{\"attributes\":{},\"id\":\"398abb57-665f-40bc-b20b-92744123f9a9\",\"type\":\"LinearScale\"},{\"attributes\":{\"bottom_units\":\"screen\",\"fill_alpha\":{\"value\":0.5},\"fill_color\":{\"value\":\"lightgrey\"},\"left_units\":\"screen\",\"level\":\"overlay\",\"line_alpha\":{\"value\":1.0},\"line_color\":{\"value\":\"black\"},\"line_dash\":[4,4],\"line_width\":{\"value\":2},\"plot\":null,\"render_mode\":\"css\",\"right_units\":\"screen\",\"top_units\":\"screen\"},\"id\":\"7a1b97c0-b325-4f7c-a460-9b4cc7985fb4\",\"type\":\"BoxAnnotation\"},{\"attributes\":{},\"id\":\"1c1ef6f0-8f7b-480c-8991-b0507a5cc720\",\"type\":\"BasicTicker\"},{\"attributes\":{},\"id\":\"1886857b-ef69-40b7-94ae-4d8ad215223a\",\"type\":\"ResetTool\"},{\"attributes\":{\"ticker\":null},\"id\":\"7ca42572-5457-459b-a087-cb67beadd97c\",\"type\":\"LogTickFormatter\"},{\"attributes\":{\"axis_label\":\"pressure [mb]\",\"formatter\":{\"id\":\"7ca42572-5457-459b-a087-cb67beadd97c\",\"type\":\"LogTickFormatter\"},\"plot\":{\"id\":\"b6e9de19-9424-45e8-9103-01ae77f01a58\",\"subtype\":\"Figure\",\"type\":\"Plot\"},\"ticker\":{\"id\":\"53e056ec-3b79-46f0-b15c-3f144b5ec2a1\",\"type\":\"LogTicker\"}},\"id\":\"2fe0acb5-7c78-4f14-8428-2d108d2c7cd0\",\"type\":\"LogAxis\"},{\"attributes\":{\"fill_alpha\":{\"value\":0.7},\"fill_color\":{\"value\":\"#4daf4a\"},\"line_alpha\":{\"value\":0.7},\"line_color\":{\"value\":\"#4daf4a\"},\"x\":{\"field\":\"x\"},\"y\":{\"field\":\"y\"}},\"id\":\"360dabc2-ddf8-4eda-9d24-30c9e4ba27da\",\"type\":\"Circle\"},{\"attributes\":{\"data_source\":{\"id\":\"c0660e9b-4ea3-498e-a9fa-62bac3cb900d\",\"type\":\"ColumnDataSource\"},\"glyph\":{\"id\":\"c07a8165-1031-40b2-a9d2-bfa0a3f3f7c8\",\"type\":\"Line\"},\"hover_glyph\":null,\"muted_glyph\":null,\"nonselection_glyph\":{\"id\":\"2be5615f-b17b-4560-ad4f-2620463334b4\",\"type\":\"Line\"},\"selection_glyph\":null,\"view\":{\"id\":\"694e7716-7144-4867-b141-fb28c7c340a4\",\"type\":\"CDSView\"}},\"id\":\"3757bbfa-9c6a-48a7-90d7-cae38ed3e7ec\",\"type\":\"GlyphRenderer\"},{\"attributes\":{\"label\":{\"value\":\"WGT igg=10 wgt_flux=2\"},\"renderers\":[{\"id\":\"a3fdd7a7-d60f-4c3f-95d6-5a96298042a0\",\"type\":\"GlyphRenderer\"},{\"id\":\"5f380f01-1195-4409-ae79-88bf9cdcda17\",\"type\":\"GlyphRenderer\"}]},\"id\":\"602623f4-38fb-4a61-95cc-447e516e4b07\",\"type\":\"LegendItem\"},{\"attributes\":{\"callback\":null,\"column_names\":[\"x\",\"y\"],\"data\":{\"x\":{\"__ndarray__\":\"N1qKIPvccj9czE2X/VtzPwLcUqYJnHQ/QR74GqL7dT86Q5GbLl53P8n4bEZLw3g/Ih06Avcqej+YJpYyMZV7P22q4yEJAn0/+D77MmBxfj+/kE/58+J/P0JJnPamq4A/6YW+cFZngT89OlRzlTCCPyBUvEnBl4Q/YjVBJcA5iz9YAimer4qSP76PwfGJB5g/+zYMvJ34nT9pUN5tUxyiP3sRS6pTkKU/ehn9vf0rqT9oPhlR5CysP+0IT48RRqw/eXptguSnqT/wM5ckomKmP6XY8ka9EqM/NLBv7Fa/nz9nShMMvcqZP1cZzrwqRZQ/Tqnf73vsjT8kDtVjBuKDP/uqB81oy3Y/gLQATXPUYj9m7CejOJNFv34zMvfmrmu/kbJ6DV6Qdb/gG+7bvHV6vye9zsn0C3+/3m3GwK0Igb98kWfX+OV/v92JbsrQCXm/aFXpfVN3cb92ned65FBkv+ZhFiZT2Ui/wCeI5+9zTD9cLZZzQEpkP6tEM2VRlHA/WpyDD+XTdj+8UUpvKrJ8PwDEmeXwQ4E/OE74hJwPhD98qTXIrq6GPyrgxvg8N4k/Pr9d1KKziz/WgKDAAhSOP8mahmE2M5A/lMn561VdkT9+WRIL+XqSP7B02cdFl5M/moMuBU60lD9Q7/p1NMGVP06EFXfY1ZY/acqi9Rbklz+mUMrmWemYPwOumAKz8Zk/HjTwKZ3kmj81d7jKiMybPzwVv8yol5w/8AoR8GNFnT90IVymguidPzjP5JxJdJ4/yt/qbW0Jnz8SnpKsMZOfP5ZM2yngEaA/\",\"dtype\":\"float64\",\"shape\":[75]},\"y\":{\"__ndarray__\":\"GhExyth1ND/Sv8nbtpRIP2vylNV0PVE/aTum7souWD/At0SJ8fVgPw3Iuahxymc/MSNhhJWvcD/bTfBN02d3P2zb5nxnaoA/CD5h5MAGhz8NmeH1TyaQP+zrCsc9p5Y/LbKd76fGnz/bLW5ISEmmPww9YvTcQq8/JV2OstnstT8Er5Y7M8G+P0c+r3jqkcU/5h99k6ZBzj88bCIzFzjVP4enV8oyxN0//yH99nXg5D8qOpLLf0jtP5kqGJXUifQ/c9cS8kHP/D+/DpwzojQEQIEmwoanVwxA4lgXt9HgE0BSSZ2AJuIbQAMJih9jjiNA5q4l5INuK0AwTKYKRj0zQNv5fmq8/DpAaCJseHrtQkB/+zpwzoxKQM3MzMzMeFJAZmZmZmZqWEAAAAAAAFxeQM3MzMzMJmJAmpmZmZkfZUBmZmZmZhhoQDMzMzMzEWtAAAAAAAAKbkBmZmZmZoFwQM3MzMzM/XFAMzMzMzN6c0CamZmZmfZ0QAAAAAAAc3ZAZmZmZmbvd0DNzMzMzGt5QDMzMzMz6HpAmpmZmZlkfEAAAAAAAOF9QGZmZmZmXX9AZmZmZuZsgECamZmZGSuBQM3MzMxM6YFAAAAAAICngkAzMzMzs2WDQGZmZmbmI4RAmpmZmRnihEDNzMzMTKCFQAAAAACAXoZAMzMzM7Mch0BmZmZm5tqHQJqZmZkZmYhAzczMzExXiUAAAAAAgBWKQDMzMzOz04pAZmZmZuaRi0CamZmZGVCMQM3MzMxMDo1AAAAAAIDMjUAzMzMzs4qOQGZmZmbmSI9A\",\"dtype\":\"float64\",\"shape\":[75]}}},\"id\":\"4be1cf8c-8093-4ba8-9654-06e1eef2adb7\",\"type\":\"ColumnDataSource\"},{\"attributes\":{\"line_alpha\":0.1,\"line_color\":\"#1f77b4\",\"line_dash\":[6],\"line_width\":5,\"x\":{\"field\":\"x\"},\"y\":{\"field\":\"y\"}},\"id\":\"2be5615f-b17b-4560-ad4f-2620463334b4\",\"type\":\"Line\"},{\"attributes\":{\"data_source\":{\"id\":\"80c1040c-499c-4fb9-b6f8-40e93007d69f\",\"type\":\"ColumnDataSource\"},\"glyph\":{\"id\":\"bba2e46a-20a4-4234-9ce4-67f5fd6b6b16\",\"type\":\"Line\"},\"hover_glyph\":null,\"muted_glyph\":null,\"nonselection_glyph\":{\"id\":\"40367fc0-6fd6-4019-8e22-7f39f33786ec\",\"type\":\"Line\"},\"selection_glyph\":null,\"view\":{\"id\":\"65b5144d-a571-4507-89fe-fc1fc5f4e8b2\",\"type\":\"CDSView\"}},\"id\":\"a3504319-c7cf-4706-af0a-0245286bf8af\",\"type\":\"GlyphRenderer\"},{\"attributes\":{\"plot\":{\"id\":\"b6e9de19-9424-45e8-9103-01ae77f01a58\",\"subtype\":\"Figure\",\"type\":\"Plot\"},\"ticker\":{\"id\":\"713c0bbd-ad3c-466f-b99d-6ce5863be620\",\"type\":\"BasicTicker\"}},\"id\":\"4508cd63-b7a7-4759-8fe8-4dbad99136ae\",\"type\":\"Grid\"},{\"attributes\":{\"line_alpha\":0.1,\"line_color\":\"#1f77b4\",\"line_dash\":[6],\"line_width\":5,\"x\":{\"field\":\"x\"},\"y\":{\"field\":\"y\"}},\"id\":\"7938eb50-5bbd-4e96-a767-6bf574856158\",\"type\":\"Line\"},{\"attributes\":{\"callback\":null,\"column_names\":[\"x\",\"y\"],\"data\":{\"x\":{\"__ndarray__\":\"N1qKIPvccj9czE2X/VtzPwLcUqYJnHQ/QR74GqL7dT86Q5GbLl53P8n4bEZLw3g/Ih06Avcqej+YJpYyMZV7P22q4yEJAn0/+D77MmBxfj+/kE/58+J/P0JJnPamq4A/6YW+cFZngT89OlRzlTCCPyBUvEnBl4Q/YjVBJcA5iz9YAimer4qSP76PwfGJB5g/+zYMvJ34nT9pUN5tUxyiP3sRS6pTkKU/ehn9vf0rqT9oPhlR5CysP+0IT48RRqw/eXptguSnqT/wM5ckomKmP6XY8ka9EqM/NLBv7Fa/nz9nShMMvcqZP1cZzrwqRZQ/Tqnf73vsjT8kDtVjBuKDP/uqB81oy3Y/gLQATXPUYj9m7CejOJNFv34zMvfmrmu/kbJ6DV6Qdb/gG+7bvHV6vye9zsn0C3+/3m3GwK0Igb98kWfX+OV/v92JbsrQCXm/aFXpfVN3cb92ned65FBkv+ZhFiZT2Ui/wCeI5+9zTD9cLZZzQEpkP6tEM2VRlHA/WpyDD+XTdj+8UUpvKrJ8PwDEmeXwQ4E/OE74hJwPhD98qTXIrq6GPyrgxvg8N4k/Pr9d1KKziz/WgKDAAhSOP8mahmE2M5A/lMn561VdkT9+WRIL+XqSP7B02cdFl5M/moMuBU60lD9Q7/p1NMGVP06EFXfY1ZY/acqi9Rbklz+mUMrmWemYPwOumAKz8Zk/HjTwKZ3kmj81d7jKiMybPzwVv8yol5w/8AoR8GNFnT90IVymguidPzjP5JxJdJ4/yt/qbW0Jnz8SnpKsMZOfP5ZM2yngEaA/\",\"dtype\":\"float64\",\"shape\":[75]},\"y\":{\"__ndarray__\":\"GhExyth1ND/Sv8nbtpRIP2vylNV0PVE/aTum7souWD/At0SJ8fVgPw3Iuahxymc/MSNhhJWvcD/bTfBN02d3P2zb5nxnaoA/CD5h5MAGhz8NmeH1TyaQP+zrCsc9p5Y/LbKd76fGnz/bLW5ISEmmPww9YvTcQq8/JV2OstnstT8Er5Y7M8G+P0c+r3jqkcU/5h99k6ZBzj88bCIzFzjVP4enV8oyxN0//yH99nXg5D8qOpLLf0jtP5kqGJXUifQ/c9cS8kHP/D+/DpwzojQEQIEmwoanVwxA4lgXt9HgE0BSSZ2AJuIbQAMJih9jjiNA5q4l5INuK0AwTKYKRj0zQNv5fmq8/DpAaCJseHrtQkB/+zpwzoxKQM3MzMzMeFJAZmZmZmZqWEAAAAAAAFxeQM3MzMzMJmJAmpmZmZkfZUBmZmZmZhhoQDMzMzMzEWtAAAAAAAAKbkBmZmZmZoFwQM3MzMzM/XFAMzMzMzN6c0CamZmZmfZ0QAAAAAAAc3ZAZmZmZmbvd0DNzMzMzGt5QDMzMzMz6HpAmpmZmZlkfEAAAAAAAOF9QGZmZmZmXX9AZmZmZuZsgECamZmZGSuBQM3MzMxM6YFAAAAAAICngkAzMzMzs2WDQGZmZmbmI4RAmpmZmRnihEDNzMzMTKCFQAAAAACAXoZAMzMzM7Mch0BmZmZm5tqHQJqZmZkZmYhAzczMzExXiUAAAAAAgBWKQDMzMzOz04pAZmZmZuaRi0CamZmZGVCMQM3MzMxMDo1AAAAAAIDMjUAzMzMzs4qOQGZmZmbmSI9A\",\"dtype\":\"float64\",\"shape\":[75]}}},\"id\":\"ff57a944-86e0-476f-ad2d-2418825068d7\",\"type\":\"ColumnDataSource\"},{\"attributes\":{\"bottom_units\":\"screen\",\"fill_alpha\":{\"value\":0.5},\"fill_color\":{\"value\":\"lightgrey\"},\"left_units\":\"screen\",\"level\":\"overlay\",\"line_alpha\":{\"value\":1.0},\"line_color\":{\"value\":\"black\"},\"line_dash\":[4,4],\"line_width\":{\"value\":2},\"plot\":null,\"render_mode\":\"css\",\"right_units\":\"screen\",\"top_units\":\"screen\"},\"id\":\"fd2834e2-ef4f-49b1-930d-90e294e0f999\",\"type\":\"BoxAnnotation\"},{\"attributes\":{\"line_alpha\":0.1,\"line_color\":\"#1f77b4\",\"line_width\":3,\"x\":{\"field\":\"x\"},\"y\":{\"field\":\"y\"}},\"id\":\"b8ae56f8-5c10-42de-a665-9512a2ff1b5b\",\"type\":\"Line\"},{\"attributes\":{\"data_source\":{\"id\":\"ff57a944-86e0-476f-ad2d-2418825068d7\",\"type\":\"ColumnDataSource\"},\"glyph\":{\"id\":\"fd97ed01-6da3-4542-8d7e-7c9055bfa61d\",\"type\":\"Line\"},\"hover_glyph\":null,\"muted_glyph\":null,\"nonselection_glyph\":{\"id\":\"b8ae56f8-5c10-42de-a665-9512a2ff1b5b\",\"type\":\"Line\"},\"selection_glyph\":null,\"view\":{\"id\":\"cccb8cbd-5830-4886-b2c1-1c3493d33150\",\"type\":\"CDSView\"}},\"id\":\"9f112d96-c3b6-45f3-bacc-3b755404df1e\",\"type\":\"GlyphRenderer\"},{\"attributes\":{\"axis_label\":\"cooling rate [K/day]\",\"formatter\":{\"id\":\"80afffbe-dcf4-4958-93ba-8867f7a150d4\",\"type\":\"BasicTickFormatter\"},\"plot\":{\"id\":\"b6e9de19-9424-45e8-9103-01ae77f01a58\",\"subtype\":\"Figure\",\"type\":\"Plot\"},\"ticker\":{\"id\":\"713c0bbd-ad3c-466f-b99d-6ce5863be620\",\"type\":\"BasicTicker\"}},\"id\":\"b0464277-ed63-4038-a80e-7575bbadadc8\",\"type\":\"LinearAxis\"},{\"attributes\":{\"label\":{\"value\":\"CRD\"},\"renderers\":[{\"id\":\"f0d74fb8-1931-4178-aab0-57798884bbe3\",\"type\":\"GlyphRenderer\"},{\"id\":\"53c9bdd4-cab7-4023-a788-4e971561375a\",\"type\":\"GlyphRenderer\"}]},\"id\":\"46d5c9f4-8062-40a1-9779-efd8a30e1238\",\"type\":\"LegendItem\"},{\"attributes\":{\"callback\":null,\"column_names\":[\"x\",\"y\"],\"data\":{\"x\":{\"__ndarray__\":\"nWTkmq29dT/5r32O+UN2P8ZxdF5pdXc/AcRaThu0eD+lp1yq2PR5P2PiiA2MN3s/2oanWRR9fD+Pe6KLB8R9PwAB6eZUDn8/0EpKWJwsgD9i4BOMvtKAPwgybKD6eIE/rymtCo8ggj9LUrD+g9OCP89/2mvr7oQ/Q88NHaDTij/6bogrRuGRP4ctEhqO1ZY/tpcW8JA0nD8qidPmi/+gP1PrRBzHHKQ/vRsaNbBspz9qH+FqUyuqP8NLlrGmVKo//HtooKsNqD+q6Ts+qCulPzCt3sUhOaI/ueSKG0+1nj/HCQ6N+UmZP2zCkLHnJpQ/lI/2ouoVjj/QbWoqECCEP9OJE3765nY/L3aOx+RCYT9x2lh0JytRv8vRCi0ep2+/7zynWDKZd7+ov9NuOE98v8dW9Q0jOIC/sexL89x0gb/kEIt+D0OAv8PHmQLv5nm/8ZeewYKacr9IMoppz/pmv0sTlLWdXFK/0OnaF4fsQD/WbG3yN0BhP7Ryc5ZH6m0/jm5QeJoedT8how1NQxd7P99kH5W3a4A/fYZPdaougz+6wo0k2dSFP1pRRgYAYYg/uEz/8sbSij/XnemDNzSNP2GuT31DiI8/MHcUhH7okD+3Gdlb6weSP0mhqEPZIZM/5e8J0r82lD8O+fppwkeVP3jUDx8VVZY/nUBNN81elz8aMrEI5GOYPzrrRmTHYpk/tS1bzzZVmj9HqU81JDWbP/xmeVaG/Js/f5DPpWSrnD8bTLENVkidP0HpSIT/2p0/3Kb53Glonj84s6cuKvOeP0VJmetsfJ8/\",\"dtype\":\"float64\",\"shape\":[75]},\"y\":{\"__ndarray__\":\"S/O/Q+51ND/Sv8nbtpRIP2vylNV0PVE/aTum7souWD/At0SJ8fVgPw3Iuahxymc/MSNhhJWvcD/bTfBN02d3P2zb5nxnaoA/CD5h5MAGhz8NmeH1TyaQP+zrCsc9p5Y/LbKd76fGnz/bLW5ISEmmPww9YvTcQq8/JV2OstnstT8Er5Y7M8G+P0c+r3jqkcU/5h99k6ZBzj88bCIzFzjVP4enV8oyxN0//yH99nXg5D8qOpLLf0jtP5kqGJXUifQ/c9cS8kHP/D+/DpwzojQEQIEmwoanVwxA4lgXt9HgE0BSSZ2AJuIbQAMJih9jjiNA5q4l5INuK0AwTKYKRj0zQNv5fmq8/DpAaCJseHrtQkB/+zpwzoxKQM3MzMzMeFJAZmZmZmZqWEAAAAAAAFxeQM3MzMzMJmJAmpmZmZkfZUBmZmZmZhhoQDMzMzMzEWtAAAAAAAAKbkBmZmZmZoFwQM3MzMzM/XFAMzMzMzN6c0CamZmZmfZ0QAAAAAAAc3ZAZmZmZmbvd0DNzMzMzGt5QDMzMzMz6HpAmpmZmZlkfEAAAAAAAOF9QGZmZmZmXX9AZmZmZuZsgECamZmZGSuBQM3MzMxM6YFAAAAAAICngkAzMzMzs2WDQGZmZmbmI4RAmpmZmRnihEDNzMzMTKCFQAAAAACAXoZAMzMzM7Mch0BmZmZm5tqHQJqZmZkZmYhAzczMzExXiUAAAAAAgBWKQDMzMzOz04pAZmZmZuaRi0CamZmZGVCMQM3MzMxMDo1AAAAAAIDMjUAzMzMzs4qOQGZmZmbmSI9A\",\"dtype\":\"float64\",\"shape\":[75]}}},\"id\":\"c0660e9b-4ea3-498e-a9fa-62bac3cb900d\",\"type\":\"ColumnDataSource\"},{\"attributes\":{\"overlay\":{\"id\":\"fd2834e2-ef4f-49b1-930d-90e294e0f999\",\"type\":\"BoxAnnotation\"}},\"id\":\"d33a2e96-eac3-4dd9-bb58-a6beebca4145\",\"type\":\"BoxZoomTool\"},{\"attributes\":{\"callback\":null,\"end\":0.031785480902,\"start\":-0.008922780501999999},\"id\":\"8200e415-64e4-4103-bfac-324e129263e9\",\"type\":\"Range1d\"},{\"attributes\":{\"plot\":null,\"text\":\"Log pressure scale\"},\"id\":\"725f3cbc-ae3a-4dc3-aed1-fb3b73b4d169\",\"type\":\"Title\"},{\"attributes\":{\"fill_alpha\":{\"value\":0.1},\"fill_color\":{\"value\":\"#1f77b4\"},\"line_alpha\":{\"value\":0.1},\"line_color\":{\"value\":\"#1f77b4\"},\"x\":{\"field\":\"x\"},\"y\":{\"field\":\"y\"}},\"id\":\"e4f2a0a2-8bf3-4b75-aeac-9693a46acd67\",\"type\":\"Square\"},{\"attributes\":{},\"id\":\"347716ce-17cb-4b77-91ae-e589782ccfcd\",\"type\":\"HelpTool\"},{\"attributes\":{\"line_alpha\":0.1,\"line_color\":\"#1f77b4\",\"line_width\":1.5,\"x\":{\"field\":\"x\"},\"y\":{\"field\":\"y\"}},\"id\":\"40367fc0-6fd6-4019-8e22-7f39f33786ec\",\"type\":\"Line\"},{\"attributes\":{},\"id\":\"d6f44525-5b7a-4a6a-b6d0-dbefc8e505d8\",\"type\":\"LinearScale\"},{\"attributes\":{\"callback\":null,\"end\":0.01,\"start\":1020},\"id\":\"18ac643c-629e-4cf9-ac1f-97ab21d82f88\",\"type\":\"Range1d\"},{\"attributes\":{\"fill_alpha\":{\"value\":0.7},\"fill_color\":{\"value\":\"#984ea3\"},\"line_alpha\":{\"value\":0.7},\"line_color\":{\"value\":\"#984ea3\"},\"x\":{\"field\":\"x\"},\"y\":{\"field\":\"y\"}},\"id\":\"d6a08f36-c24e-4611-b3ed-ad2cbc84df24\",\"type\":\"Square\"},{\"attributes\":{},\"id\":\"a7cf719e-410f-4be1-85fd-01b1435c3228\",\"type\":\"BasicTickFormatter\"},{\"attributes\":{\"active_drag\":\"auto\",\"active_inspect\":\"auto\",\"active_scroll\":\"auto\",\"active_tap\":\"auto\",\"tools\":[{\"id\":\"9627817b-2f66-40aa-88af-53572f6059bf\",\"type\":\"PanTool\"},{\"id\":\"fcb78a37-b66a-40e1-8cdb-d76f2d71ea24\",\"type\":\"WheelZoomTool\"},{\"id\":\"8143bef4-327a-405d-8fb2-d28751e3f63e\",\"type\":\"BoxZoomTool\"},{\"id\":\"d53368c8-3145-4356-9b73-aec33280883b\",\"type\":\"SaveTool\"},{\"id\":\"1886857b-ef69-40b7-94ae-4d8ad215223a\",\"type\":\"ResetTool\"},{\"id\":\"8fdf404c-98c7-4ee4-a97c-225178dde256\",\"type\":\"HelpTool\"}]},\"id\":\"665501f9-d0fb-44e7-a604-79d9a3a5e31d\",\"type\":\"Toolbar\"},{\"attributes\":{},\"id\":\"713c0bbd-ad3c-466f-b99d-6ce5863be620\",\"type\":\"BasicTicker\"},{\"attributes\":{\"source\":{\"id\":\"5a325d9d-2824-434f-a7b7-eade678add29\",\"type\":\"ColumnDataSource\"}},\"id\":\"4dc12ca0-02f4-46aa-912b-e6e0422cfbe0\",\"type\":\"CDSView\"},{\"attributes\":{},\"id\":\"d55c3dda-a5a7-4f48-a129-c9f1ef5196ee\",\"type\":\"PanTool\"},{\"attributes\":{},\"id\":\"57cf003a-6820-4a35-9408-81db235146cf\",\"type\":\"SaveTool\"},{\"attributes\":{\"data_source\":{\"id\":\"11be1c91-b95f-4fb0-85dc-b92175783816\",\"type\":\"ColumnDataSource\"},\"glyph\":{\"id\":\"360dabc2-ddf8-4eda-9d24-30c9e4ba27da\",\"type\":\"Circle\"},\"hover_glyph\":null,\"muted_glyph\":null,\"nonselection_glyph\":{\"id\":\"11b5e605-4267-492b-b40e-eb0d55264f2f\",\"type\":\"Circle\"},\"selection_glyph\":null,\"view\":{\"id\":\"e43c9621-a776-4db5-a9f0-3a5b4a87da17\",\"type\":\"CDSView\"}},\"id\":\"6ceb219f-4f92-42fa-99f7-ef77e9bd6a35\",\"type\":\"GlyphRenderer\"},{\"attributes\":{\"children\":[{\"id\":\"88b6a0a3-e96d-4318-9ed4-0833d6814c2b\",\"type\":\"Row\"}]},\"id\":\"2087c31b-a30d-448a-b8ac-0287094662c1\",\"type\":\"Column\"},{\"attributes\":{\"line_alpha\":0.6,\"line_color\":\"#984ea3\",\"line_width\":3,\"x\":{\"field\":\"x\"},\"y\":{\"field\":\"y\"}},\"id\":\"fd97ed01-6da3-4542-8d7e-7c9055bfa61d\",\"type\":\"Line\"},{\"attributes\":{\"source\":{\"id\":\"ff57a944-86e0-476f-ad2d-2418825068d7\",\"type\":\"ColumnDataSource\"}},\"id\":\"cccb8cbd-5830-4886-b2c1-1c3493d33150\",\"type\":\"CDSView\"},{\"attributes\":{\"label\":{\"value\":\"CLIRAD `coolr_bands`\"},\"renderers\":[{\"id\":\"3757bbfa-9c6a-48a7-90d7-cae38ed3e7ec\",\"type\":\"GlyphRenderer\"}]},\"id\":\"db853bfb-1a76-4855-b3f9-ba97b50d537f\",\"type\":\"LegendItem\"},{\"attributes\":{\"below\":[{\"id\":\"b0464277-ed63-4038-a80e-7575bbadadc8\",\"type\":\"LinearAxis\"}],\"left\":[{\"id\":\"2fe0acb5-7c78-4f14-8428-2d108d2c7cd0\",\"type\":\"LogAxis\"}],\"plot_height\":500,\"plot_width\":560,\"renderers\":[{\"id\":\"b0464277-ed63-4038-a80e-7575bbadadc8\",\"type\":\"LinearAxis\"},{\"id\":\"4508cd63-b7a7-4759-8fe8-4dbad99136ae\",\"type\":\"Grid\"},{\"id\":\"2fe0acb5-7c78-4f14-8428-2d108d2c7cd0\",\"type\":\"LogAxis\"},{\"id\":\"e4e1d2e6-25c8-43e7-8924-236a0d27d20a\",\"type\":\"Grid\"},{\"id\":\"fd2834e2-ef4f-49b1-930d-90e294e0f999\",\"type\":\"BoxAnnotation\"},{\"id\":\"3757bbfa-9c6a-48a7-90d7-cae38ed3e7ec\",\"type\":\"GlyphRenderer\"},{\"id\":\"f0d74fb8-1931-4178-aab0-57798884bbe3\",\"type\":\"GlyphRenderer\"},{\"id\":\"53c9bdd4-cab7-4023-a788-4e971561375a\",\"type\":\"GlyphRenderer\"},{\"id\":\"a3fdd7a7-d60f-4c3f-95d6-5a96298042a0\",\"type\":\"GlyphRenderer\"},{\"id\":\"5f380f01-1195-4409-ae79-88bf9cdcda17\",\"type\":\"GlyphRenderer\"},{\"id\":\"56c0c91b-b04e-43eb-ab50-4b37a7ce7197\",\"type\":\"Legend\"}],\"right\":[{\"id\":\"56c0c91b-b04e-43eb-ab50-4b37a7ce7197\",\"type\":\"Legend\"}],\"title\":{\"id\":\"725f3cbc-ae3a-4dc3-aed1-fb3b73b4d169\",\"type\":\"Title\"},\"toolbar\":{\"id\":\"56db44f5-8ab0-4244-ba3b-325ebaeeab1d\",\"type\":\"Toolbar\"},\"toolbar_location\":null,\"x_range\":{\"id\":\"ed2986b9-cdff-4790-a2cb-b5b2507a0846\",\"type\":\"Range1d\"},\"x_scale\":{\"id\":\"d6f44525-5b7a-4a6a-b6d0-dbefc8e505d8\",\"type\":\"LinearScale\"},\"y_range\":{\"id\":\"18ac643c-629e-4cf9-ac1f-97ab21d82f88\",\"type\":\"Range1d\"},\"y_scale\":{\"id\":\"ef3f3f8f-77f2-4f18-adc1-4efacbaaa066\",\"type\":\"LogScale\"}},\"id\":\"b6e9de19-9424-45e8-9103-01ae77f01a58\",\"subtype\":\"Figure\",\"type\":\"Plot\"},{\"attributes\":{\"data_source\":{\"id\":\"4be1cf8c-8093-4ba8-9654-06e1eef2adb7\",\"type\":\"ColumnDataSource\"},\"glyph\":{\"id\":\"d6a08f36-c24e-4611-b3ed-ad2cbc84df24\",\"type\":\"Square\"},\"hover_glyph\":null,\"muted_glyph\":null,\"nonselection_glyph\":{\"id\":\"e4f2a0a2-8bf3-4b75-aeac-9693a46acd67\",\"type\":\"Square\"},\"selection_glyph\":null,\"view\":{\"id\":\"cf88e729-02fa-47ab-9beb-a823bc7c6e11\",\"type\":\"CDSView\"}},\"id\":\"0ce48f45-6371-4962-818a-76fe118770da\",\"type\":\"GlyphRenderer\"},{\"attributes\":{},\"id\":\"ecdb7b77-51e4-483d-ae8e-72425c070511\",\"type\":\"ResetTool\"},{\"attributes\":{\"line_color\":\"#4daf4a\",\"line_width\":1.5,\"x\":{\"field\":\"x\"},\"y\":{\"field\":\"y\"}},\"id\":\"bba2e46a-20a4-4234-9ce4-67f5fd6b6b16\",\"type\":\"Line\"},{\"attributes\":{\"fill_alpha\":{\"value\":0.1},\"fill_color\":{\"value\":\"#1f77b4\"},\"line_alpha\":{\"value\":0.1},\"line_color\":{\"value\":\"#1f77b4\"},\"x\":{\"field\":\"x\"},\"y\":{\"field\":\"y\"}},\"id\":\"11b5e605-4267-492b-b40e-eb0d55264f2f\",\"type\":\"Circle\"},{\"attributes\":{\"source\":{\"id\":\"c0660e9b-4ea3-498e-a9fa-62bac3cb900d\",\"type\":\"ColumnDataSource\"}},\"id\":\"694e7716-7144-4867-b141-fb28c7c340a4\",\"type\":\"CDSView\"},{\"attributes\":{\"line_alpha\":0.6,\"line_color\":\"#e41a1c\",\"line_dash\":[6],\"line_width\":5,\"x\":{\"field\":\"x\"},\"y\":{\"field\":\"y\"}},\"id\":\"c07a8165-1031-40b2-a9d2-bfa0a3f3f7c8\",\"type\":\"Line\"},{\"attributes\":{\"source\":{\"id\":\"4be1cf8c-8093-4ba8-9654-06e1eef2adb7\",\"type\":\"ColumnDataSource\"}},\"id\":\"cf88e729-02fa-47ab-9beb-a823bc7c6e11\",\"type\":\"CDSView\"},{\"attributes\":{\"dimension\":1,\"plot\":{\"id\":\"b6e9de19-9424-45e8-9103-01ae77f01a58\",\"subtype\":\"Figure\",\"type\":\"Plot\"},\"ticker\":{\"id\":\"53e056ec-3b79-46f0-b15c-3f144b5ec2a1\",\"type\":\"LogTicker\"}},\"id\":\"e4e1d2e6-25c8-43e7-8924-236a0d27d20a\",\"type\":\"Grid\"},{\"attributes\":{\"source\":{\"id\":\"80c1040c-499c-4fb9-b6f8-40e93007d69f\",\"type\":\"ColumnDataSource\"}},\"id\":\"65b5144d-a571-4507-89fe-fc1fc5f4e8b2\",\"type\":\"CDSView\"},{\"attributes\":{\"active_drag\":\"auto\",\"active_inspect\":\"auto\",\"active_scroll\":\"auto\",\"active_tap\":\"auto\",\"tools\":[{\"id\":\"d55c3dda-a5a7-4f48-a129-c9f1ef5196ee\",\"type\":\"PanTool\"},{\"id\":\"55ff6d16-6eb5-4b48-b3ae-7fe8e0af6c03\",\"type\":\"WheelZoomTool\"},{\"id\":\"d33a2e96-eac3-4dd9-bb58-a6beebca4145\",\"type\":\"BoxZoomTool\"},{\"id\":\"57cf003a-6820-4a35-9408-81db235146cf\",\"type\":\"SaveTool\"},{\"id\":\"ecdb7b77-51e4-483d-ae8e-72425c070511\",\"type\":\"ResetTool\"},{\"id\":\"347716ce-17cb-4b77-91ae-e589782ccfcd\",\"type\":\"HelpTool\"}]},\"id\":\"56db44f5-8ab0-4244-ba3b-325ebaeeab1d\",\"type\":\"Toolbar\"},{\"attributes\":{},\"id\":\"55ff6d16-6eb5-4b48-b3ae-7fe8e0af6c03\",\"type\":\"WheelZoomTool\"},{\"attributes\":{},\"id\":\"ef3f3f8f-77f2-4f18-adc1-4efacbaaa066\",\"type\":\"LogScale\"}],\"root_ids\":[\"31d4ce58-35a9-4625-b840-6575904d92d7\"]},\"title\":\"Bokeh Application\",\"version\":\"0.12.14\"}};\n",
       "  var render_items = [{\"docid\":\"778a2719-e042-44f5-be1b-2b9790d75978\",\"elementid\":\"568cdae1-cbd0-4962-98d6-6f001f9843e8\",\"modelid\":\"31d4ce58-35a9-4625-b840-6575904d92d7\"}];\n",
       "  root.Bokeh.embed.embed_items_notebook(docs_json, render_items);\n",
       "\n",
       "  }\n",
       "  if (root.Bokeh !== undefined) {\n",
       "    embed_document(root);\n",
       "  } else {\n",
       "    var attempts = 0;\n",
       "    var timer = setInterval(function(root) {\n",
       "      if (root.Bokeh !== undefined) {\n",
       "        embed_document(root);\n",
       "        clearInterval(timer);\n",
       "      }\n",
       "      attempts++;\n",
       "      if (attempts > 100) {\n",
       "        console.log(\"Bokeh: ERROR: Unable to run BokehJS code because BokehJS library is missing\")\n",
       "        clearInterval(timer);\n",
       "      }\n",
       "    }, 10, root)\n",
       "  }\n",
       "})(window);"
      ],
      "application/vnd.bokehjs_exec.v0+json": ""
     },
     "metadata": {
      "application/vnd.bokehjs_exec.v0+json": {
       "id": "31d4ce58-35a9-4625-b840-6575904d92d7"
      }
     },
     "output_type": "display_data"
    },
    {
     "name": "stdout",
     "output_type": "stream",
     "text": [
      "FIGURE. Cooling rate profiles.\n"
     ]
    },
    {
     "data": {
      "text/html": [
       "<a id=\"Flux_Comparison\"></a>"
      ],
      "text/plain": [
       "<IPython.core.display.HTML object>"
      ]
     },
     "metadata": {},
     "output_type": "display_data"
    },
    {
     "data": {
      "text/markdown": [
       "# Flux Comparison"
      ],
      "text/plain": [
       "<IPython.core.display.Markdown object>"
      ]
     },
     "metadata": {},
     "output_type": "display_data"
    },
    {
     "data": {
      "text/html": [
       "<div>\n",
       "<style>\n",
       "    .dataframe thead tr:only-child th {\n",
       "        text-align: right;\n",
       "    }\n",
       "\n",
       "    .dataframe thead th {\n",
       "        text-align: left;\n",
       "    }\n",
       "\n",
       "    .dataframe tbody tr th {\n",
       "        vertical-align: top;\n",
       "    }\n",
       "</style>\n",
       "<table border=\"1\" class=\"dataframe\">\n",
       "  <thead>\n",
       "    <tr style=\"text-align: right;\">\n",
       "      <th></th>\n",
       "      <th></th>\n",
       "      <th>flug</th>\n",
       "      <th>fldg</th>\n",
       "      <th>fnetg</th>\n",
       "    </tr>\n",
       "    <tr>\n",
       "      <th>pressure</th>\n",
       "      <th>level</th>\n",
       "      <th></th>\n",
       "      <th></th>\n",
       "      <th></th>\n",
       "    </tr>\n",
       "  </thead>\n",
       "  <tbody>\n",
       "    <tr>\n",
       "      <th>0.0000</th>\n",
       "      <th>1</th>\n",
       "      <td>-35.017698</td>\n",
       "      <td>0.000000</td>\n",
       "      <td>-35.017698</td>\n",
       "    </tr>\n",
       "    <tr>\n",
       "      <th>1.0685</th>\n",
       "      <th>24</th>\n",
       "      <td>-35.016942</td>\n",
       "      <td>0.004396</td>\n",
       "      <td>-35.012545</td>\n",
       "    </tr>\n",
       "    <tr>\n",
       "      <th>1013.0000</th>\n",
       "      <th>76</th>\n",
       "      <td>-36.235408</td>\n",
       "      <td>2.706732</td>\n",
       "      <td>-33.528677</td>\n",
       "    </tr>\n",
       "  </tbody>\n",
       "</table>\n",
       "</div>"
      ],
      "text/plain": [
       "                      flug      fldg      fnetg\n",
       "pressure  level                                \n",
       "0.0000    1     -35.017698  0.000000 -35.017698\n",
       "1.0685    24    -35.016942  0.004396 -35.012545\n",
       "1013.0000 76    -36.235408  2.706732 -33.528677"
      ]
     },
     "metadata": {},
     "output_type": "display_data"
    },
    {
     "name": "stdout",
     "output_type": "stream",
     "text": [
      "Table. Fluxes. WGT igg=10 wgt_flux=1\n"
     ]
    },
    {
     "data": {
      "text/html": [
       "<div>\n",
       "<style>\n",
       "    .dataframe thead tr:only-child th {\n",
       "        text-align: right;\n",
       "    }\n",
       "\n",
       "    .dataframe thead th {\n",
       "        text-align: left;\n",
       "    }\n",
       "\n",
       "    .dataframe tbody tr th {\n",
       "        vertical-align: top;\n",
       "    }\n",
       "</style>\n",
       "<table border=\"1\" class=\"dataframe\">\n",
       "  <thead>\n",
       "    <tr style=\"text-align: right;\">\n",
       "      <th></th>\n",
       "      <th></th>\n",
       "      <th>flug</th>\n",
       "      <th>fldg</th>\n",
       "      <th>fnetg</th>\n",
       "    </tr>\n",
       "    <tr>\n",
       "      <th>pressure</th>\n",
       "      <th>level</th>\n",
       "      <th></th>\n",
       "      <th></th>\n",
       "      <th></th>\n",
       "    </tr>\n",
       "  </thead>\n",
       "  <tbody>\n",
       "    <tr>\n",
       "      <th>0.0000</th>\n",
       "      <th>1</th>\n",
       "      <td>-35.017092</td>\n",
       "      <td>0.000000</td>\n",
       "      <td>-35.017092</td>\n",
       "    </tr>\n",
       "    <tr>\n",
       "      <th>1.0685</th>\n",
       "      <th>24</th>\n",
       "      <td>-35.016790</td>\n",
       "      <td>0.004570</td>\n",
       "      <td>-35.012219</td>\n",
       "    </tr>\n",
       "    <tr>\n",
       "      <th>1013.0000</th>\n",
       "      <th>76</th>\n",
       "      <td>-36.235408</td>\n",
       "      <td>2.613275</td>\n",
       "      <td>-33.622133</td>\n",
       "    </tr>\n",
       "  </tbody>\n",
       "</table>\n",
       "</div>"
      ],
      "text/plain": [
       "                      flug      fldg      fnetg\n",
       "pressure  level                                \n",
       "0.0000    1     -35.017092  0.000000 -35.017092\n",
       "1.0685    24    -35.016790  0.004570 -35.012219\n",
       "1013.0000 76    -36.235408  2.613275 -33.622133"
      ]
     },
     "metadata": {},
     "output_type": "display_data"
    },
    {
     "name": "stdout",
     "output_type": "stream",
     "text": [
      "Table. Fluxes. CRD\n"
     ]
    },
    {
     "data": {
      "text/html": [
       "<div>\n",
       "<style>\n",
       "    .dataframe thead tr:only-child th {\n",
       "        text-align: right;\n",
       "    }\n",
       "\n",
       "    .dataframe thead th {\n",
       "        text-align: left;\n",
       "    }\n",
       "\n",
       "    .dataframe tbody tr th {\n",
       "        vertical-align: top;\n",
       "    }\n",
       "</style>\n",
       "<table border=\"1\" class=\"dataframe\">\n",
       "  <thead>\n",
       "    <tr style=\"text-align: right;\">\n",
       "      <th></th>\n",
       "      <th></th>\n",
       "      <th>flug</th>\n",
       "      <th>fldg</th>\n",
       "      <th>fnetg</th>\n",
       "    </tr>\n",
       "    <tr>\n",
       "      <th>pressure</th>\n",
       "      <th>level</th>\n",
       "      <th></th>\n",
       "      <th></th>\n",
       "      <th></th>\n",
       "    </tr>\n",
       "  </thead>\n",
       "  <tbody>\n",
       "    <tr>\n",
       "      <th>1.000000e-08</th>\n",
       "      <th>1</th>\n",
       "      <td>-35.064029</td>\n",
       "      <td>0.000002</td>\n",
       "      <td>-35.064028</td>\n",
       "    </tr>\n",
       "    <tr>\n",
       "      <th>1.068500e+00</th>\n",
       "      <th>24</th>\n",
       "      <td>-35.063219</td>\n",
       "      <td>0.004008</td>\n",
       "      <td>-35.059211</td>\n",
       "    </tr>\n",
       "    <tr>\n",
       "      <th>1.013000e+03</th>\n",
       "      <th>76</th>\n",
       "      <td>-36.235410</td>\n",
       "      <td>2.607666</td>\n",
       "      <td>-33.627744</td>\n",
       "    </tr>\n",
       "  </tbody>\n",
       "</table>\n",
       "</div>"
      ],
      "text/plain": [
       "                         flug      fldg      fnetg\n",
       "pressure     level                                \n",
       "1.000000e-08 1     -35.064029  0.000002 -35.064028\n",
       "1.068500e+00 24    -35.063219  0.004008 -35.059211\n",
       "1.013000e+03 76    -36.235410  2.607666 -33.627744"
      ]
     },
     "metadata": {},
     "output_type": "display_data"
    },
    {
     "name": "stdout",
     "output_type": "stream",
     "text": [
      "Table. Fluxes. CLIRAD\n"
     ]
    },
    {
     "data": {
      "text/html": [
       "<div>\n",
       "<style>\n",
       "    .dataframe thead tr:only-child th {\n",
       "        text-align: right;\n",
       "    }\n",
       "\n",
       "    .dataframe thead th {\n",
       "        text-align: left;\n",
       "    }\n",
       "\n",
       "    .dataframe tbody tr th {\n",
       "        vertical-align: top;\n",
       "    }\n",
       "</style>\n",
       "<table border=\"1\" class=\"dataframe\">\n",
       "  <thead>\n",
       "    <tr style=\"text-align: right;\">\n",
       "      <th></th>\n",
       "      <th></th>\n",
       "      <th>flug</th>\n",
       "      <th>fldg</th>\n",
       "      <th>fnetg</th>\n",
       "    </tr>\n",
       "    <tr>\n",
       "      <th>pressure</th>\n",
       "      <th>level</th>\n",
       "      <th></th>\n",
       "      <th></th>\n",
       "      <th></th>\n",
       "    </tr>\n",
       "  </thead>\n",
       "  <tbody>\n",
       "    <tr>\n",
       "      <th>0.0000</th>\n",
       "      <th>1</th>\n",
       "      <td>6.061600e-04</td>\n",
       "      <td>0.000000</td>\n",
       "      <td>0.000606</td>\n",
       "    </tr>\n",
       "    <tr>\n",
       "      <th>1.0685</th>\n",
       "      <th>24</th>\n",
       "      <td>1.517900e-04</td>\n",
       "      <td>0.000175</td>\n",
       "      <td>0.000326</td>\n",
       "    </tr>\n",
       "    <tr>\n",
       "      <th>1013.0000</th>\n",
       "      <th>76</th>\n",
       "      <td>1.700000e-07</td>\n",
       "      <td>-0.093457</td>\n",
       "      <td>-0.093456</td>\n",
       "    </tr>\n",
       "  </tbody>\n",
       "</table>\n",
       "</div>"
      ],
      "text/plain": [
       "                         flug      fldg     fnetg\n",
       "pressure  level                                  \n",
       "0.0000    1      6.061600e-04  0.000000  0.000606\n",
       "1.0685    24     1.517900e-04  0.000175  0.000326\n",
       "1013.0000 76     1.700000e-07 -0.093457 -0.093456"
      ]
     },
     "metadata": {},
     "output_type": "display_data"
    },
    {
     "name": "stdout",
     "output_type": "stream",
     "text": [
      "Table. Fluxes. (CRD) - (WGT igg=10 wgt_flux=1)\n"
     ]
    },
    {
     "data": {
      "text/html": [
       "<div>\n",
       "<style>\n",
       "    .dataframe thead tr:only-child th {\n",
       "        text-align: right;\n",
       "    }\n",
       "\n",
       "    .dataframe thead th {\n",
       "        text-align: left;\n",
       "    }\n",
       "\n",
       "    .dataframe tbody tr th {\n",
       "        vertical-align: top;\n",
       "    }\n",
       "</style>\n",
       "<table border=\"1\" class=\"dataframe\">\n",
       "  <thead>\n",
       "    <tr style=\"text-align: right;\">\n",
       "      <th></th>\n",
       "      <th></th>\n",
       "      <th>flug</th>\n",
       "      <th>fldg</th>\n",
       "      <th>fnetg</th>\n",
       "    </tr>\n",
       "    <tr>\n",
       "      <th>pressure</th>\n",
       "      <th>level</th>\n",
       "      <th></th>\n",
       "      <th></th>\n",
       "      <th></th>\n",
       "    </tr>\n",
       "  </thead>\n",
       "  <tbody>\n",
       "    <tr>\n",
       "      <th>0.0000</th>\n",
       "      <th>1</th>\n",
       "      <td>-0.046331</td>\n",
       "      <td>0.000002</td>\n",
       "      <td>-0.046330</td>\n",
       "    </tr>\n",
       "    <tr>\n",
       "      <th>1.0685</th>\n",
       "      <th>24</th>\n",
       "      <td>-0.046277</td>\n",
       "      <td>-0.000388</td>\n",
       "      <td>-0.046666</td>\n",
       "    </tr>\n",
       "    <tr>\n",
       "      <th>1013.0000</th>\n",
       "      <th>76</th>\n",
       "      <td>-0.000002</td>\n",
       "      <td>-0.099065</td>\n",
       "      <td>-0.099067</td>\n",
       "    </tr>\n",
       "  </tbody>\n",
       "</table>\n",
       "</div>"
      ],
      "text/plain": [
       "                     flug      fldg     fnetg\n",
       "pressure  level                              \n",
       "0.0000    1     -0.046331  0.000002 -0.046330\n",
       "1.0685    24    -0.046277 -0.000388 -0.046666\n",
       "1013.0000 76    -0.000002 -0.099065 -0.099067"
      ]
     },
     "metadata": {},
     "output_type": "display_data"
    },
    {
     "name": "stdout",
     "output_type": "stream",
     "text": [
      "Table. Fluxes. (CLIRAD) - (WGT igg=10 wgt_flux=1)\n"
     ]
    },
    {
     "data": {
      "text/html": [
       "<a id=\"Best-fit_Parameters\"></a>"
      ],
      "text/plain": [
       "<IPython.core.display.HTML object>"
      ]
     },
     "metadata": {},
     "output_type": "display_data"
    },
    {
     "data": {
      "text/markdown": [
       "# Best-fit Parameters"
      ],
      "text/plain": [
       "<IPython.core.display.Markdown object>"
      ]
     },
     "metadata": {},
     "output_type": "display_data"
    },
    {
     "name": "stdout",
     "output_type": "stream",
     "text": [
      "Best-fit values for each (gas, band)\n",
      "------------------------------------\n",
      "o n2o band3a\n",
      "  atmpro = mls\n",
      "  band = 3a\n",
      "  commitnumber = a06b618\n",
      "  conc = 3.2e-07\n",
      "  dv = 0.001\n",
      "  klin = 2.22e-20\n",
      "  molecule = n2o\n",
      "  ng_adju = [0, 0]\n",
      "  ng_refs = [1, 2]\n",
      "  nv = 1000\n",
      "  option_compute_btable = 0\n",
      "  option_compute_ktable = 1\n",
      "  option_wgt_flux = 1\n",
      "  option_wgt_k = 1\n",
      "  ref_pts = [(1, 250), (500, 250)]\n",
      "  tsfc = 294\n",
      "  vmax = 620\n",
      "  vmin = 540\n",
      "  w_diffuse = [(1.8,), (1.66, 1.8)]\n",
      "  wgt = [(0.9,), (0.5, 0.95)]\n"
     ]
    }
   ],
   "source": [
    "script()"
   ]
  },
  {
   "cell_type": "code",
   "execution_count": 13,
   "metadata": {
    "collapsed": true
   },
   "outputs": [
    {
     "data": {
      "text/html": [
       "<script>\n",
       "code_show=true; \n",
       "function code_toggle() {\n",
       " if (code_show){\n",
       " $('div.input').hide();\n",
       " } else {\n",
       " $('div.input').show();\n",
       " }\n",
       " code_show = !code_show\n",
       "} \n",
       "$( document ).ready(code_toggle);\n",
       "</script>\n",
       "<form action=\"javascript:code_toggle()\"><input type=\"submit\" value=\"Click here to toggle on/off the raw code.\"></form>"
      ],
      "text/plain": [
       "<IPython.core.display.HTML object>"
      ]
     },
     "execution_count": 13,
     "metadata": {},
     "output_type": "execute_result"
    }
   ],
   "source": [
    "display.HTML('''<script>\n",
    "code_show=true; \n",
    "function code_toggle() {\n",
    " if (code_show){\n",
    " $('div.input').hide();\n",
    " } else {\n",
    " $('div.input').show();\n",
    " }\n",
    " code_show = !code_show\n",
    "} \n",
    "$( document ).ready(code_toggle);\n",
    "</script>\n",
    "<form action=\"javascript:code_toggle()\"><input type=\"submit\" value=\"Click here to toggle on/off the raw code.\"></form>''')"
   ]
  }
 ],
 "metadata": {
  "kernelspec": {
   "display_name": "Python 3",
   "language": "python",
   "name": "python3"
  },
  "language_info": {
   "codemirror_mode": {
    "name": "ipython",
    "version": 3
   },
   "file_extension": ".py",
   "mimetype": "text/x-python",
   "name": "python",
   "nbconvert_exporter": "python",
   "pygments_lexer": "ipython3",
   "version": "3.6.1"
  }
 },
 "nbformat": 4,
 "nbformat_minor": 2
}
