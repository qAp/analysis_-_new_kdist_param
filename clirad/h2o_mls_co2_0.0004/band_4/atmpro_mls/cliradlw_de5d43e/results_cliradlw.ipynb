{
 "cells": [
  {
   "cell_type": "code",
   "execution_count": 1,
   "metadata": {
    "collapsed": true
   },
   "outputs": [],
   "source": [
    "%matplotlib inline\n",
    "import os\n",
    "import re\n",
    "import io\n",
    "import itertools\n",
    "import pprint\n",
    "\n",
    "from bokeh.io import output_notebook, show\n",
    "from bokeh.layouts import gridplot\n",
    "from bokeh.plotting import figure\n",
    "from bokeh.models import Range1d, Legend\n",
    "from bokeh.palettes import all_palettes\n",
    "\n",
    "import matplotlib\n",
    "import matplotlib.pyplot as plt\n",
    "import numpy as np\n",
    "import pandas as pd\n",
    "import xarray as xr\n",
    "\n",
    "import climatools.lblnew.bestfit_params as bestfits\n",
    "from climatools.lblnew import setup_bestfit, setup_overlap\n",
    "import climatools.lblnew.pipeline as pipe_lblnew\n",
    "import climatools.cliradlw.setup as setup_cliradlw\n",
    "import climatools.cliradlw.pipeline as pipe_cliradlw\n",
    "\n",
    "import climatools.html.html as climahtml\n",
    "from climatools.lblnew.dataio import *\n",
    "from climatools.plot.plot import *\n",
    "\n",
    "\n",
    "import IPython.display as display"
   ]
  },
  {
   "cell_type": "code",
   "execution_count": 2,
   "metadata": {
    "collapsed": true
   },
   "outputs": [],
   "source": [
    "%run param.py"
   ]
  },
  {
   "cell_type": "code",
   "execution_count": 3,
   "metadata": {
    "collapsed": true
   },
   "outputs": [
    {
     "name": "stdout",
     "output_type": "stream",
     "text": [
      "The history saving thread hit an unexpected error (OperationalError('database is locked',)).History will not be written to the database.\n"
     ]
    }
   ],
   "source": [
    "def load_output_file(path_csv):\n",
    "    '''\n",
    "    Load lblnew output .csv file to xarray.Dataset\n",
    "    \n",
    "    Parameters\n",
    "    ----------\n",
    "    path_csv: str\n",
    "              Path to the .csv file to be loaded.\n",
    "    ds: xarray.Dataset\n",
    "        Data in the input file in the form of an xarray.Dataset.\n",
    "    '''\n",
    "    toindex = ['band', 'pressure', 'igg', 'g']    \n",
    "    df = pd.read_csv(path_csv, sep=r'\\s+')\n",
    "    df = df.set_index([i for i in toindex if i in df.columns])\n",
    "    df = df.rename(columns={'sfu': 'flug',\n",
    "                            'sfd': 'fldg',\n",
    "                            'fnet': 'fnetg',\n",
    "                            'coolr': 'coolrg'})\n",
    "    ds = xr.Dataset.from_dataframe(df)\n",
    "\n",
    "    for l in ('level', 'layer'):\n",
    "        if l in ds.data_vars:\n",
    "            if len(ds[l].dims) > 1:\n",
    "                surface = {d: 0 for d in ds.dims if d != 'pressure'}\n",
    "                coord_level = ds[l][surface]\n",
    "                ds.coords[l] = ('pressure', coord_level)\n",
    "            else:\n",
    "                ds.coords[l] = ('pressure', ds[l])\n",
    "    \n",
    "    return ds"
   ]
  },
  {
   "cell_type": "code",
   "execution_count": 4,
   "metadata": {
    "collapsed": true
   },
   "outputs": [],
   "source": [
    "def lblnew_setup(param=None):\n",
    "    if 'ng_refs' in param:\n",
    "        return {'setup': setup_bestfit,\n",
    "                'fname_flux_crd': 'output_flux.dat',\n",
    "                'fname_cool_crd': 'output_coolr.dat',\n",
    "                'fname_flux_wgt': 'output_wfluxg.dat',\n",
    "                'fname_cool_wgt': 'output_wcoolrg.dat'}\n",
    "    else:\n",
    "        return {'setup': setup_overlap,\n",
    "                'fname_flux_crd': 'output_flux.dat',\n",
    "                'fname_cool_crd': 'output_coolr.dat',\n",
    "                'fname_flux_wgt': 'output_wflux.dat',\n",
    "                'fname_cool_wgt': 'output_wcoolr.dat'}\n",
    "\n",
    "    \n",
    "def load_lblnew_data(param):\n",
    "    \n",
    "    fname_dsname = [('fname_flux_crd', 'ds_flux_crd'),\n",
    "                    ('fname_cool_crd', 'ds_cool_crd'),\n",
    "                    ('fname_flux_wgt', 'ds_flux_wgt'),\n",
    "                    ('fname_cool_wgt', 'ds_cool_wgt')]\n",
    "    \n",
    "    d = lblnew_setup(param)\n",
    "    dir_fortran = pipe_lblnew.get_dir_case(param, setup=d['setup'])\n",
    "    \n",
    "    data_dict = {}\n",
    "    for fname, dsname in fname_dsname:\n",
    "        fpath = os.path.join(dir_fortran, d[fname])\n",
    "        data_dict[dsname] = load_output_file(fpath)\n",
    "    return data_dict\n",
    "    \n",
    "\n",
    "    \n",
    "    "
   ]
  },
  {
   "cell_type": "code",
   "execution_count": 5,
   "metadata": {
    "collapsed": true
   },
   "outputs": [],
   "source": [
    "d = load_lblnew_data(PARAM_LBLNEW)\n",
    "\n",
    "DS_FLUX_CRD = d['ds_flux_crd']\n",
    "DS_COOL_CRD = d['ds_cool_crd']\n",
    "DS_FLUX_WGT = d['ds_flux_wgt']\n",
    "DS_COOL_WGT = d['ds_cool_wgt']"
   ]
  },
  {
   "cell_type": "code",
   "execution_count": 6,
   "metadata": {
    "collapsed": true
   },
   "outputs": [],
   "source": [
    "DIR_FORTRAN = pipe_cliradlw.get_fortran_dir(PARAM, \n",
    "                                            setup=setup_cliradlw)\n",
    "\n",
    "PATH_FLUX = os.path.join(DIR_FORTRAN, 'output_flux.dat')\n",
    "PATH_COOL = os.path.join(DIR_FORTRAN, 'output_coolr.dat')\n",
    "\n",
    "DS_FLUX = load_output_file(PATH_FLUX)\n",
    "DS_COOL = load_output_file(PATH_COOL)"
   ]
  },
  {
   "cell_type": "code",
   "execution_count": 7,
   "metadata": {
    "collapsed": true
   },
   "outputs": [
    {
     "data": {
      "text/html": [
       "\n",
       "    <div class=\"bk-root\">\n",
       "        <a href=\"https://bokeh.pydata.org\" target=\"_blank\" class=\"bk-logo bk-logo-small bk-logo-notebook\"></a>\n",
       "        <span id=\"24b51a69-27fc-422b-bd11-1d0bb4d61cf1\">Loading BokehJS ...</span>\n",
       "    </div>"
      ]
     },
     "metadata": {},
     "output_type": "display_data"
    },
    {
     "data": {
      "application/javascript": [
       "\n",
       "(function(root) {\n",
       "  function now() {\n",
       "    return new Date();\n",
       "  }\n",
       "\n",
       "  var force = true;\n",
       "\n",
       "  if (typeof (root._bokeh_onload_callbacks) === \"undefined\" || force === true) {\n",
       "    root._bokeh_onload_callbacks = [];\n",
       "    root._bokeh_is_loading = undefined;\n",
       "  }\n",
       "\n",
       "  var JS_MIME_TYPE = 'application/javascript';\n",
       "  var HTML_MIME_TYPE = 'text/html';\n",
       "  var EXEC_MIME_TYPE = 'application/vnd.bokehjs_exec.v0+json';\n",
       "  var CLASS_NAME = 'output_bokeh rendered_html';\n",
       "\n",
       "  /**\n",
       "   * Render data to the DOM node\n",
       "   */\n",
       "  function render(props, node) {\n",
       "    var script = document.createElement(\"script\");\n",
       "    node.appendChild(script);\n",
       "  }\n",
       "\n",
       "  /**\n",
       "   * Handle when an output is cleared or removed\n",
       "   */\n",
       "  function handleClearOutput(event, handle) {\n",
       "    var cell = handle.cell;\n",
       "\n",
       "    var id = cell.output_area._bokeh_element_id;\n",
       "    var server_id = cell.output_area._bokeh_server_id;\n",
       "    // Clean up Bokeh references\n",
       "    if (id !== undefined) {\n",
       "      Bokeh.index[id].model.document.clear();\n",
       "      delete Bokeh.index[id];\n",
       "    }\n",
       "\n",
       "    if (server_id !== undefined) {\n",
       "      // Clean up Bokeh references\n",
       "      var cmd = \"from bokeh.io.state import curstate; print(curstate().uuid_to_server['\" + server_id + \"'].get_sessions()[0].document.roots[0]._id)\";\n",
       "      cell.notebook.kernel.execute(cmd, {\n",
       "        iopub: {\n",
       "          output: function(msg) {\n",
       "            var element_id = msg.content.text.trim();\n",
       "            Bokeh.index[element_id].model.document.clear();\n",
       "            delete Bokeh.index[element_id];\n",
       "          }\n",
       "        }\n",
       "      });\n",
       "      // Destroy server and session\n",
       "      var cmd = \"import bokeh.io.notebook as ion; ion.destroy_server('\" + server_id + \"')\";\n",
       "      cell.notebook.kernel.execute(cmd);\n",
       "    }\n",
       "  }\n",
       "\n",
       "  /**\n",
       "   * Handle when a new output is added\n",
       "   */\n",
       "  function handleAddOutput(event, handle) {\n",
       "    var output_area = handle.output_area;\n",
       "    var output = handle.output;\n",
       "\n",
       "    // limit handleAddOutput to display_data with EXEC_MIME_TYPE content only\n",
       "    if ((output.output_type != \"display_data\") || (!output.data.hasOwnProperty(EXEC_MIME_TYPE))) {\n",
       "      return\n",
       "    }\n",
       "\n",
       "    var toinsert = output_area.element.find(\".\" + CLASS_NAME.split(' ')[0]);\n",
       "\n",
       "    if (output.metadata[EXEC_MIME_TYPE][\"id\"] !== undefined) {\n",
       "      toinsert[toinsert.length - 1].firstChild.textContent = output.data[JS_MIME_TYPE];\n",
       "      // store reference to embed id on output_area\n",
       "      output_area._bokeh_element_id = output.metadata[EXEC_MIME_TYPE][\"id\"];\n",
       "    }\n",
       "    if (output.metadata[EXEC_MIME_TYPE][\"server_id\"] !== undefined) {\n",
       "      var bk_div = document.createElement(\"div\");\n",
       "      bk_div.innerHTML = output.data[HTML_MIME_TYPE];\n",
       "      var script_attrs = bk_div.children[0].attributes;\n",
       "      for (var i = 0; i < script_attrs.length; i++) {\n",
       "        toinsert[toinsert.length - 1].firstChild.setAttribute(script_attrs[i].name, script_attrs[i].value);\n",
       "      }\n",
       "      // store reference to server id on output_area\n",
       "      output_area._bokeh_server_id = output.metadata[EXEC_MIME_TYPE][\"server_id\"];\n",
       "    }\n",
       "  }\n",
       "\n",
       "  function register_renderer(events, OutputArea) {\n",
       "\n",
       "    function append_mime(data, metadata, element) {\n",
       "      // create a DOM node to render to\n",
       "      var toinsert = this.create_output_subarea(\n",
       "        metadata,\n",
       "        CLASS_NAME,\n",
       "        EXEC_MIME_TYPE\n",
       "      );\n",
       "      this.keyboard_manager.register_events(toinsert);\n",
       "      // Render to node\n",
       "      var props = {data: data, metadata: metadata[EXEC_MIME_TYPE]};\n",
       "      render(props, toinsert[toinsert.length - 1]);\n",
       "      element.append(toinsert);\n",
       "      return toinsert\n",
       "    }\n",
       "\n",
       "    /* Handle when an output is cleared or removed */\n",
       "    events.on('clear_output.CodeCell', handleClearOutput);\n",
       "    events.on('delete.Cell', handleClearOutput);\n",
       "\n",
       "    /* Handle when a new output is added */\n",
       "    events.on('output_added.OutputArea', handleAddOutput);\n",
       "\n",
       "    /**\n",
       "     * Register the mime type and append_mime function with output_area\n",
       "     */\n",
       "    OutputArea.prototype.register_mime_type(EXEC_MIME_TYPE, append_mime, {\n",
       "      /* Is output safe? */\n",
       "      safe: true,\n",
       "      /* Index of renderer in `output_area.display_order` */\n",
       "      index: 0\n",
       "    });\n",
       "  }\n",
       "\n",
       "  // register the mime type if in Jupyter Notebook environment and previously unregistered\n",
       "  if (root.Jupyter !== undefined) {\n",
       "    var events = require('base/js/events');\n",
       "    var OutputArea = require('notebook/js/outputarea').OutputArea;\n",
       "\n",
       "    if (OutputArea.prototype.mime_types().indexOf(EXEC_MIME_TYPE) == -1) {\n",
       "      register_renderer(events, OutputArea);\n",
       "    }\n",
       "  }\n",
       "\n",
       "  \n",
       "  if (typeof (root._bokeh_timeout) === \"undefined\" || force === true) {\n",
       "    root._bokeh_timeout = Date.now() + 5000;\n",
       "    root._bokeh_failed_load = false;\n",
       "  }\n",
       "\n",
       "  var NB_LOAD_WARNING = {'data': {'text/html':\n",
       "     \"<div style='background-color: #fdd'>\\n\"+\n",
       "     \"<p>\\n\"+\n",
       "     \"BokehJS does not appear to have successfully loaded. If loading BokehJS from CDN, this \\n\"+\n",
       "     \"may be due to a slow or bad network connection. Possible fixes:\\n\"+\n",
       "     \"</p>\\n\"+\n",
       "     \"<ul>\\n\"+\n",
       "     \"<li>re-rerun `output_notebook()` to attempt to load from CDN again, or</li>\\n\"+\n",
       "     \"<li>use INLINE resources instead, as so:</li>\\n\"+\n",
       "     \"</ul>\\n\"+\n",
       "     \"<code>\\n\"+\n",
       "     \"from bokeh.resources import INLINE\\n\"+\n",
       "     \"output_notebook(resources=INLINE)\\n\"+\n",
       "     \"</code>\\n\"+\n",
       "     \"</div>\"}};\n",
       "\n",
       "  function display_loaded() {\n",
       "    var el = document.getElementById(\"24b51a69-27fc-422b-bd11-1d0bb4d61cf1\");\n",
       "    if (el != null) {\n",
       "      el.textContent = \"BokehJS is loading...\";\n",
       "    }\n",
       "    if (root.Bokeh !== undefined) {\n",
       "      if (el != null) {\n",
       "        el.textContent = \"BokehJS \" + root.Bokeh.version + \" successfully loaded.\";\n",
       "      }\n",
       "    } else if (Date.now() < root._bokeh_timeout) {\n",
       "      setTimeout(display_loaded, 100)\n",
       "    }\n",
       "  }\n",
       "\n",
       "\n",
       "  function run_callbacks() {\n",
       "    try {\n",
       "      root._bokeh_onload_callbacks.forEach(function(callback) { callback() });\n",
       "    }\n",
       "    finally {\n",
       "      delete root._bokeh_onload_callbacks\n",
       "    }\n",
       "    console.info(\"Bokeh: all callbacks have finished\");\n",
       "  }\n",
       "\n",
       "  function load_libs(js_urls, callback) {\n",
       "    root._bokeh_onload_callbacks.push(callback);\n",
       "    if (root._bokeh_is_loading > 0) {\n",
       "      console.log(\"Bokeh: BokehJS is being loaded, scheduling callback at\", now());\n",
       "      return null;\n",
       "    }\n",
       "    if (js_urls == null || js_urls.length === 0) {\n",
       "      run_callbacks();\n",
       "      return null;\n",
       "    }\n",
       "    console.log(\"Bokeh: BokehJS not loaded, scheduling load and callback at\", now());\n",
       "    root._bokeh_is_loading = js_urls.length;\n",
       "    for (var i = 0; i < js_urls.length; i++) {\n",
       "      var url = js_urls[i];\n",
       "      var s = document.createElement('script');\n",
       "      s.src = url;\n",
       "      s.async = false;\n",
       "      s.onreadystatechange = s.onload = function() {\n",
       "        root._bokeh_is_loading--;\n",
       "        if (root._bokeh_is_loading === 0) {\n",
       "          console.log(\"Bokeh: all BokehJS libraries loaded\");\n",
       "          run_callbacks()\n",
       "        }\n",
       "      };\n",
       "      s.onerror = function() {\n",
       "        console.warn(\"failed to load library \" + url);\n",
       "      };\n",
       "      console.log(\"Bokeh: injecting script tag for BokehJS library: \", url);\n",
       "      document.getElementsByTagName(\"head\")[0].appendChild(s);\n",
       "    }\n",
       "  };var element = document.getElementById(\"24b51a69-27fc-422b-bd11-1d0bb4d61cf1\");\n",
       "  if (element == null) {\n",
       "    console.log(\"Bokeh: ERROR: autoload.js configured with elementid '24b51a69-27fc-422b-bd11-1d0bb4d61cf1' but no matching script tag was found. \")\n",
       "    return false;\n",
       "  }\n",
       "\n",
       "  var js_urls = [\"https://cdn.pydata.org/bokeh/release/bokeh-0.12.16.min.js\", \"https://cdn.pydata.org/bokeh/release/bokeh-widgets-0.12.16.min.js\", \"https://cdn.pydata.org/bokeh/release/bokeh-tables-0.12.16.min.js\", \"https://cdn.pydata.org/bokeh/release/bokeh-gl-0.12.16.min.js\"];\n",
       "\n",
       "  var inline_js = [\n",
       "    function(Bokeh) {\n",
       "      Bokeh.set_log_level(\"info\");\n",
       "    },\n",
       "    \n",
       "    function(Bokeh) {\n",
       "      \n",
       "    },\n",
       "    function(Bokeh) {\n",
       "      console.log(\"Bokeh: injecting CSS: https://cdn.pydata.org/bokeh/release/bokeh-0.12.16.min.css\");\n",
       "      Bokeh.embed.inject_css(\"https://cdn.pydata.org/bokeh/release/bokeh-0.12.16.min.css\");\n",
       "      console.log(\"Bokeh: injecting CSS: https://cdn.pydata.org/bokeh/release/bokeh-widgets-0.12.16.min.css\");\n",
       "      Bokeh.embed.inject_css(\"https://cdn.pydata.org/bokeh/release/bokeh-widgets-0.12.16.min.css\");\n",
       "      console.log(\"Bokeh: injecting CSS: https://cdn.pydata.org/bokeh/release/bokeh-tables-0.12.16.min.css\");\n",
       "      Bokeh.embed.inject_css(\"https://cdn.pydata.org/bokeh/release/bokeh-tables-0.12.16.min.css\");\n",
       "    }\n",
       "  ];\n",
       "\n",
       "  function run_inline_js() {\n",
       "    \n",
       "    if ((root.Bokeh !== undefined) || (force === true)) {\n",
       "      for (var i = 0; i < inline_js.length; i++) {\n",
       "        inline_js[i].call(root, root.Bokeh);\n",
       "      }if (force === true) {\n",
       "        display_loaded();\n",
       "      }} else if (Date.now() < root._bokeh_timeout) {\n",
       "      setTimeout(run_inline_js, 100);\n",
       "    } else if (!root._bokeh_failed_load) {\n",
       "      console.log(\"Bokeh: BokehJS failed to load within specified timeout.\");\n",
       "      root._bokeh_failed_load = true;\n",
       "    } else if (force !== true) {\n",
       "      var cell = $(document.getElementById(\"24b51a69-27fc-422b-bd11-1d0bb4d61cf1\")).parents('.cell').data().cell;\n",
       "      cell.output_area.append_execute_result(NB_LOAD_WARNING)\n",
       "    }\n",
       "\n",
       "  }\n",
       "\n",
       "  if (root._bokeh_is_loading === 0) {\n",
       "    console.log(\"Bokeh: BokehJS loaded, going straight to plotting\");\n",
       "    run_inline_js();\n",
       "  } else {\n",
       "    load_libs(js_urls, function() {\n",
       "      console.log(\"Bokeh: BokehJS plotting callback run at\", now());\n",
       "      run_inline_js();\n",
       "    });\n",
       "  }\n",
       "}(window));"
      ],
      "application/vnd.bokehjs_load.v0+json": "\n(function(root) {\n  function now() {\n    return new Date();\n  }\n\n  var force = true;\n\n  if (typeof (root._bokeh_onload_callbacks) === \"undefined\" || force === true) {\n    root._bokeh_onload_callbacks = [];\n    root._bokeh_is_loading = undefined;\n  }\n\n  \n\n  \n  if (typeof (root._bokeh_timeout) === \"undefined\" || force === true) {\n    root._bokeh_timeout = Date.now() + 5000;\n    root._bokeh_failed_load = false;\n  }\n\n  var NB_LOAD_WARNING = {'data': {'text/html':\n     \"<div style='background-color: #fdd'>\\n\"+\n     \"<p>\\n\"+\n     \"BokehJS does not appear to have successfully loaded. If loading BokehJS from CDN, this \\n\"+\n     \"may be due to a slow or bad network connection. Possible fixes:\\n\"+\n     \"</p>\\n\"+\n     \"<ul>\\n\"+\n     \"<li>re-rerun `output_notebook()` to attempt to load from CDN again, or</li>\\n\"+\n     \"<li>use INLINE resources instead, as so:</li>\\n\"+\n     \"</ul>\\n\"+\n     \"<code>\\n\"+\n     \"from bokeh.resources import INLINE\\n\"+\n     \"output_notebook(resources=INLINE)\\n\"+\n     \"</code>\\n\"+\n     \"</div>\"}};\n\n  function display_loaded() {\n    var el = document.getElementById(\"24b51a69-27fc-422b-bd11-1d0bb4d61cf1\");\n    if (el != null) {\n      el.textContent = \"BokehJS is loading...\";\n    }\n    if (root.Bokeh !== undefined) {\n      if (el != null) {\n        el.textContent = \"BokehJS \" + root.Bokeh.version + \" successfully loaded.\";\n      }\n    } else if (Date.now() < root._bokeh_timeout) {\n      setTimeout(display_loaded, 100)\n    }\n  }\n\n\n  function run_callbacks() {\n    try {\n      root._bokeh_onload_callbacks.forEach(function(callback) { callback() });\n    }\n    finally {\n      delete root._bokeh_onload_callbacks\n    }\n    console.info(\"Bokeh: all callbacks have finished\");\n  }\n\n  function load_libs(js_urls, callback) {\n    root._bokeh_onload_callbacks.push(callback);\n    if (root._bokeh_is_loading > 0) {\n      console.log(\"Bokeh: BokehJS is being loaded, scheduling callback at\", now());\n      return null;\n    }\n    if (js_urls == null || js_urls.length === 0) {\n      run_callbacks();\n      return null;\n    }\n    console.log(\"Bokeh: BokehJS not loaded, scheduling load and callback at\", now());\n    root._bokeh_is_loading = js_urls.length;\n    for (var i = 0; i < js_urls.length; i++) {\n      var url = js_urls[i];\n      var s = document.createElement('script');\n      s.src = url;\n      s.async = false;\n      s.onreadystatechange = s.onload = function() {\n        root._bokeh_is_loading--;\n        if (root._bokeh_is_loading === 0) {\n          console.log(\"Bokeh: all BokehJS libraries loaded\");\n          run_callbacks()\n        }\n      };\n      s.onerror = function() {\n        console.warn(\"failed to load library \" + url);\n      };\n      console.log(\"Bokeh: injecting script tag for BokehJS library: \", url);\n      document.getElementsByTagName(\"head\")[0].appendChild(s);\n    }\n  };var element = document.getElementById(\"24b51a69-27fc-422b-bd11-1d0bb4d61cf1\");\n  if (element == null) {\n    console.log(\"Bokeh: ERROR: autoload.js configured with elementid '24b51a69-27fc-422b-bd11-1d0bb4d61cf1' but no matching script tag was found. \")\n    return false;\n  }\n\n  var js_urls = [\"https://cdn.pydata.org/bokeh/release/bokeh-0.12.16.min.js\", \"https://cdn.pydata.org/bokeh/release/bokeh-widgets-0.12.16.min.js\", \"https://cdn.pydata.org/bokeh/release/bokeh-tables-0.12.16.min.js\", \"https://cdn.pydata.org/bokeh/release/bokeh-gl-0.12.16.min.js\"];\n\n  var inline_js = [\n    function(Bokeh) {\n      Bokeh.set_log_level(\"info\");\n    },\n    \n    function(Bokeh) {\n      \n    },\n    function(Bokeh) {\n      console.log(\"Bokeh: injecting CSS: https://cdn.pydata.org/bokeh/release/bokeh-0.12.16.min.css\");\n      Bokeh.embed.inject_css(\"https://cdn.pydata.org/bokeh/release/bokeh-0.12.16.min.css\");\n      console.log(\"Bokeh: injecting CSS: https://cdn.pydata.org/bokeh/release/bokeh-widgets-0.12.16.min.css\");\n      Bokeh.embed.inject_css(\"https://cdn.pydata.org/bokeh/release/bokeh-widgets-0.12.16.min.css\");\n      console.log(\"Bokeh: injecting CSS: https://cdn.pydata.org/bokeh/release/bokeh-tables-0.12.16.min.css\");\n      Bokeh.embed.inject_css(\"https://cdn.pydata.org/bokeh/release/bokeh-tables-0.12.16.min.css\");\n    }\n  ];\n\n  function run_inline_js() {\n    \n    if ((root.Bokeh !== undefined) || (force === true)) {\n      for (var i = 0; i < inline_js.length; i++) {\n        inline_js[i].call(root, root.Bokeh);\n      }if (force === true) {\n        display_loaded();\n      }} else if (Date.now() < root._bokeh_timeout) {\n      setTimeout(run_inline_js, 100);\n    } else if (!root._bokeh_failed_load) {\n      console.log(\"Bokeh: BokehJS failed to load within specified timeout.\");\n      root._bokeh_failed_load = true;\n    } else if (force !== true) {\n      var cell = $(document.getElementById(\"24b51a69-27fc-422b-bd11-1d0bb4d61cf1\")).parents('.cell').data().cell;\n      cell.output_area.append_execute_result(NB_LOAD_WARNING)\n    }\n\n  }\n\n  if (root._bokeh_is_loading === 0) {\n    console.log(\"Bokeh: BokehJS loaded, going straight to plotting\");\n    run_inline_js();\n  } else {\n    load_libs(js_urls, function() {\n      console.log(\"Bokeh: BokehJS plotting callback run at\", now());\n      run_inline_js();\n    });\n  }\n}(window));"
     },
     "metadata": {},
     "output_type": "display_data"
    }
   ],
   "source": [
    "output_notebook()"
   ]
  },
  {
   "cell_type": "code",
   "execution_count": 8,
   "metadata": {
    "collapsed": true
   },
   "outputs": [],
   "source": [
    "def fmt_cool(ds_in):\n",
    "    ds = ds_in.copy(deep=True)\n",
    "    if 'igg' in ds.dims:\n",
    "        ds = ds.sel(igg=1)\n",
    "\n",
    "    if 'g' in ds.dims:\n",
    "        ds = ds.sum('g')\n",
    "            \n",
    "    if 'band' in ds.dims:\n",
    "        try:\n",
    "            ds = ds.squeeze('band')\n",
    "        except ValueError:\n",
    "            ds = ds.sum('band')\n",
    "                \n",
    "    return ds['coolrg']\n",
    "\n",
    "\n",
    "def pltdata_cooling_1(ds_cool=None,\n",
    "                      ds_cool_crd=None, ds_cool_wgt=None):\n",
    "    \n",
    "\n",
    "\n",
    "    colors = all_palettes['Set1'][4]\n",
    "    data = [{'label': 'CLIRAD `coolr_bands`',\n",
    "             'srs': fmt_cool(ds_cool),\n",
    "             'line_dash': 'dashed', 'line_width': 5,\n",
    "             'color': colors[0], 'alpha': .6},\n",
    "            {'label': 'CRD',\n",
    "             'srs': fmt_cool(ds_cool_crd),\n",
    "             'line_dash': 'solid', 'line_width': 1.5,\n",
    "             'marker': 'circle', 'marker_size': 5,\n",
    "             'color': colors[2], 'alpha': 1,},\n",
    "            {'label': 'WGT igg=10 wgt_flux=2',\n",
    "             'srs': fmt_cool(ds_cool_wgt),\n",
    "             'line_dash': 'solid', 'line_width': 3,\n",
    "             'marker': 'square', 'marker_size': 5,\n",
    "             'color': colors[3], 'alpha': .6}]\n",
    "    return data\n",
    "\n",
    "\n",
    "def nice_xlims(pltdata=None, prange=None):\n",
    "    \n",
    "    def get_slice(srs):\n",
    "        return srs.sel(pressure=slice(*prange))\n",
    "    \n",
    "    srss = [d['srs'] for d in pltdata]\n",
    "    vmin = min([get_slice(srs).min() for srs in srss])\n",
    "    vmax = max([get_slice(srs).max() for srs in srss])\n",
    "    dv = (vmax - vmin) * .01\n",
    "    return float(vmin - dv), float(vmax + dv)\n",
    "    \n",
    "\n",
    "def plt_cooling_bokeh(pltdata=None):\n",
    "    '''\n",
    "    Plot a list of cooling rate profiles using bokeh.\n",
    "    '''\n",
    "    ymin = 1e-2 \n",
    "    ymax = 1020 \n",
    "        \n",
    "    p1 = figure(title=\"Linear pressure scale\", \n",
    "                plot_width=400)        \n",
    "    xmin, xmax = nice_xlims(pltdata, prange=(50, 1050))\n",
    "    for d in pltdata:\n",
    "        if 'marker' in d:\n",
    "            getattr(p1, d['marker'])(d['srs'].values, \n",
    "                    d['srs'].coords['pressure'].values,\n",
    "                    color=d['color'], alpha=.7)\n",
    "        p1.line(d['srs'].values, \n",
    "                d['srs'].coords['pressure'].values,\n",
    "                color=d['color'], alpha=d['alpha'], \n",
    "                line_width=d['line_width'], line_dash=d['line_dash'])\n",
    "    \n",
    "    p1.y_range = Range1d(ymax, ymin)\n",
    "    p1.yaxis.axis_label = 'pressure [mb]'   \n",
    "    p1.x_range = Range1d(xmin, xmax)\n",
    "    p1.xaxis.axis_label = 'cooling rate [K/day]'\n",
    "            \n",
    "    p2 = figure(title='Log pressure scale', y_axis_type='log',\n",
    "                plot_width=560)\n",
    "    xmin, xmax = nice_xlims(pltdata, prange=(.01, 200))\n",
    "    \n",
    "    rs = []\n",
    "    for d in pltdata:\n",
    "        rd = []\n",
    "        if 'marker' in d:\n",
    "            r_mark = getattr(p2, d['marker'])(d['srs'].values, \n",
    "                        d['srs'].coords['pressure'].values,\n",
    "                        color=d['color'], alpha=.7)\n",
    "            rd.append(r_mark)\n",
    "        r_line = p2.line(d['srs'].values, \n",
    "                    d['srs'].coords['pressure'].values,\n",
    "                    color=d['color'], alpha=d['alpha'], \n",
    "                    line_width=d['line_width'], line_dash=d['line_dash'])\n",
    "        rd.append(r_line)\n",
    "      \n",
    "        rs.append(rd)\n",
    "        \n",
    "    p2.y_range = Range1d(ymax, ymin)  \n",
    "    p2.yaxis.axis_label = 'pressure [mb]'\n",
    "    \n",
    "    p2.x_range = Range1d(xmin, xmax)\n",
    "    p2.xaxis.axis_label = 'cooling rate [K/day]'\n",
    "    \n",
    "    items = [(d['label'], r) for r, d in zip(rs, pltdata)]\n",
    "    legend = Legend(items=items, location=(10, -30))\n",
    "    legend.label_text_font_size = '8pt'\n",
    "    \n",
    "    p2.add_layout(legend, 'right')  \n",
    "    \n",
    "    show(gridplot(p1, p2, ncols=2, plot_height=500))\n",
    "    \n",
    "\n",
    "def script_plt_cooling():\n",
    "    pltdata = pltdata_cooling_1(\n",
    "        ds_cool=DS_COOL,\n",
    "        ds_cool_crd=DS_COOL_CRD,\n",
    "        ds_cool_wgt=DS_COOL_WGT)\n",
    "    plt_cooling_bokeh(pltdata=pltdata)\n",
    "    print('''FIGURE. Cooling rate profiles.''')"
   ]
  },
  {
   "cell_type": "code",
   "execution_count": 9,
   "metadata": {
    "collapsed": true
   },
   "outputs": [],
   "source": [
    "def fmt_flux(ds_in):\n",
    "    ds = ds_in.copy(deep=True)\n",
    "    \n",
    "    for l in ('level', 'layer'):\n",
    "        if l in ds.data_vars:\n",
    "            if len(ds[l].dims) > 1:\n",
    "                surface = {d: 0 for d in ds.dims if d != 'pressure'}\n",
    "                coord_level = ds[l][surface]\n",
    "                ds.coords[l] = ('pressure', coord_level)\n",
    "            else:\n",
    "                ds.coords[l] = ('pressure', ds[l])\n",
    "        \n",
    "    ds = ds.isel(pressure=[0, 23, -1])\n",
    "        \n",
    "    if 'igg' in ds.dims:\n",
    "        ds = ds.sel(igg=[1])\n",
    "        ds = ds.squeeze('igg').drop('igg')\n",
    "    \n",
    "    if 'g' in ds.dims:\n",
    "        ds = ds.sum('g')\n",
    "            \n",
    "    if 'band' in ds.dims:\n",
    "        try:\n",
    "            ds = ds.squeeze('band').drop('band')\n",
    "        except ValueError:\n",
    "            ds = ds.sum('band')\n",
    "                \n",
    "    df = ds.to_dataframe()\n",
    "    df = df.set_index('level', append=True)               \n",
    "    return df\n",
    "\n",
    "\n",
    "def tbdata_flux(ds_flux=None, ds_flux_crd=None, ds_flux_wgt=None):\n",
    "    ilevels = [0, 23, -1]\n",
    "            \n",
    "    benchmark = {'label': 'CRD',\n",
    "                 'df': fmt_flux(ds_flux_crd)}\n",
    "    \n",
    "    tbs = [{'label': 'WGT igg=10 wgt_flux=1',\n",
    "            'df': fmt_flux(ds_flux_wgt)},\n",
    "           {'label': 'CLIRAD',\n",
    "            'df': fmt_flux(ds_flux)}]\n",
    "    \n",
    "    data = {'benchmark': benchmark, 'others': tbs}\n",
    "    return data\n",
    "\n",
    "\n",
    "def tb_flux(tbdata=None):\n",
    "    benchmark = tbdata['benchmark']\n",
    "    others = tbdata['others']\n",
    "    \n",
    "    def show_tb(d=None):\n",
    "        display.display(d['df'])\n",
    "        print('Table.', 'Fluxes.', d['label'])\n",
    "        \n",
    "    def show_tbdiff(d0=None, d=None):\n",
    "        df = d['df']\n",
    "        df.index = d0['df'].index\n",
    "        display.display(df - d0['df'])\n",
    "        print('Table.', 'Fluxes.', \n",
    "              '({}) - ({})'.format(d['label'], d0['label']))\n",
    "        \n",
    "    show_tb(benchmark)\n",
    "    for d in others:\n",
    "        show_tb(d)\n",
    "        \n",
    "    for d in others:\n",
    "        show_tbdiff(d=d, d0=benchmark)\n",
    "        \n",
    "        \n",
    "def script_tb_flux():\n",
    "    data = tbdata_flux(ds_flux=DS_FLUX,\n",
    "                       ds_flux_crd=DS_FLUX_CRD,\n",
    "                       ds_flux_wgt=DS_FLUX_WGT)\n",
    "    tb_flux(tbdata=data)"
   ]
  },
  {
   "cell_type": "code",
   "execution_count": 10,
   "metadata": {
    "collapsed": true
   },
   "outputs": [],
   "source": [
    "def band_map():\n",
    "    '''\n",
    "    Maps spectral bands in lblnew to spectral bands in clirad.\n",
    "    '''\n",
    "    lblnew2clirad = {'1': '1',\n",
    "            '2': '2',\n",
    "            '3a': '3',\n",
    "            '3b': '4',\n",
    "            '3c': '5',\n",
    "            '4': '6', \n",
    "            '5': '7',\n",
    "            '6': '8',\n",
    "            '7': '9', \n",
    "            '8': '10',\n",
    "            '9': '11'}\n",
    "    \n",
    "    clirad2lblnew = {clirad: lblnew \n",
    "                     for lblnew, clirad in lblnew2clirad.items()}\n",
    "    return clirad2lblnew\n",
    "\n",
    "\n",
    "def gasbands():\n",
    "    bmap = band_map()\n",
    "    gases = list(PARAM['molecule'].keys())\n",
    "    \n",
    "    bands = [bmap[str(b)] for b in PARAM['band']]\n",
    "    return list(itertools.product(gases, bands))\n",
    "\n",
    "\n",
    "def print_bestfit_params():\n",
    "    print('Best-fit values for each (gas, band)')\n",
    "    print('------------------------------------')\n",
    "    for gas, band in gasbands():\n",
    "        print('o {} band{}'.format(gas, band))\n",
    "        param = bestfits.kdist_params(molecule=gas, band=band)\n",
    "        for name, value in sorted(param.items()):\n",
    "            print(2 * ' ' + '{} = {}'.format(name, value))\n",
    "\n",
    "        \n",
    "def print_input_param():        \n",
    "    for name, value in PARAM.items():\n",
    "        print('{} = {}'.format(name, value))\n",
    "        \n",
    "        \n",
    "def print_lblnew_param():\n",
    "    for name, value in sorted(PARAM_LBLNEW.items()):\n",
    "        print('{} = {}'.format(name, value))\n"
   ]
  },
  {
   "cell_type": "code",
   "execution_count": 11,
   "metadata": {
    "collapsed": true,
    "scrolled": false
   },
   "outputs": [],
   "source": [
    "def show_html(s):\n",
    "    display.display(display.HTML(s))\n",
    "\n",
    "    \n",
    "def show_markdown(s):\n",
    "    display.display(display.Markdown(s))\n",
    "\n",
    "    \n",
    "def script():\n",
    "    \n",
    "    title = '### CLIRAD-LW'\n",
    "    s_input = 'Input Parameters'\n",
    "    s_lblnew_param = 'LBLNEW case compaired against'\n",
    "    s_bestfits = 'Best-fit Parameters'\n",
    "    s_plt_cooling = 'Cooling Rate Profiles'\n",
    "    s_tb_flux = 'Flux Comparison'\n",
    "    \n",
    "    # title\n",
    "    show_markdown('### CLIRAD-LW')\n",
    "    \n",
    "    # TOC\n",
    "    show_markdown('### Table of Contents')\n",
    "    show_html(climahtml.getHTML_hrefanchor(s_input))\n",
    "    show_html(climahtml.getHTML_hrefanchor(s_lblnew_param))\n",
    "    show_html(climahtml.getHTML_hrefanchor(s_plt_cooling))\n",
    "    show_html(climahtml.getHTML_hrefanchor(s_tb_flux))\n",
    "    show_html(climahtml.getHTML_hrefanchor(s_bestfits))\n",
    "    \n",
    "    # Input parameters\n",
    "    show_html(climahtml.getHTML_idanchor(s_input))\n",
    "    show_markdown(climahtml.getMarkdown_sectitle(s_input))\n",
    "    print_input_param()\n",
    "    \n",
    "    # LBLNEW parameters \n",
    "    show_html(climahtml.getHTML_idanchor(s_lblnew_param))\n",
    "    show_markdown(climahtml.getMarkdown_sectitle(s_lblnew_param))\n",
    "    print_lblnew_param()\n",
    "    \n",
    "    # Cooling rate profiles\n",
    "    show_html(climahtml.getHTML_idanchor(s_plt_cooling))\n",
    "    show_markdown(climahtml.getMarkdown_sectitle(s_plt_cooling))\n",
    "    script_plt_cooling()\n",
    "    \n",
    "    # Flux comparison\n",
    "    show_html(climahtml.getHTML_idanchor(s_tb_flux))\n",
    "    show_markdown(climahtml.getMarkdown_sectitle(s_tb_flux))\n",
    "    script_tb_flux()\n",
    "    \n",
    "    # Best-fit values\n",
    "    show_html(climahtml.getHTML_idanchor(s_bestfits))\n",
    "    show_markdown(climahtml.getMarkdown_sectitle(s_bestfits))\n",
    "    print_bestfit_params()\n",
    "   \n",
    "    "
   ]
  },
  {
   "cell_type": "code",
   "execution_count": 12,
   "metadata": {
    "collapsed": true,
    "scrolled": false
   },
   "outputs": [
    {
     "data": {
      "text/markdown": [
       "### CLIRAD-LW"
      ],
      "text/plain": [
       "<IPython.core.display.Markdown object>"
      ]
     },
     "metadata": {},
     "output_type": "display_data"
    },
    {
     "data": {
      "text/markdown": [
       "### Table of Contents"
      ],
      "text/plain": [
       "<IPython.core.display.Markdown object>"
      ]
     },
     "metadata": {},
     "output_type": "display_data"
    },
    {
     "data": {
      "text/html": [
       "<a href=\"#Input_Parameters\">Input Parameters</a>"
      ],
      "text/plain": [
       "<IPython.core.display.HTML object>"
      ]
     },
     "metadata": {},
     "output_type": "display_data"
    },
    {
     "data": {
      "text/html": [
       "<a href=\"#LBLNEW_case_compaired_against\">LBLNEW case compaired against</a>"
      ],
      "text/plain": [
       "<IPython.core.display.HTML object>"
      ]
     },
     "metadata": {},
     "output_type": "display_data"
    },
    {
     "data": {
      "text/html": [
       "<a href=\"#Cooling_Rate_Profiles\">Cooling Rate Profiles</a>"
      ],
      "text/plain": [
       "<IPython.core.display.HTML object>"
      ]
     },
     "metadata": {},
     "output_type": "display_data"
    },
    {
     "data": {
      "text/html": [
       "<a href=\"#Flux_Comparison\">Flux Comparison</a>"
      ],
      "text/plain": [
       "<IPython.core.display.HTML object>"
      ]
     },
     "metadata": {},
     "output_type": "display_data"
    },
    {
     "data": {
      "text/html": [
       "<a href=\"#Best-fit_Parameters\">Best-fit Parameters</a>"
      ],
      "text/plain": [
       "<IPython.core.display.HTML object>"
      ]
     },
     "metadata": {},
     "output_type": "display_data"
    },
    {
     "data": {
      "text/html": [
       "<a id=\"Input_Parameters\"></a>"
      ],
      "text/plain": [
       "<IPython.core.display.HTML object>"
      ]
     },
     "metadata": {},
     "output_type": "display_data"
    },
    {
     "data": {
      "text/markdown": [
       "# Input Parameters"
      ],
      "text/plain": [
       "<IPython.core.display.Markdown object>"
      ]
     },
     "metadata": {},
     "output_type": "display_data"
    },
    {
     "name": "stdout",
     "output_type": "stream",
     "text": [
      "commitnumber = de5d43e\n",
      "molecule = {'h2o': 'atmpro', 'co2': 0.0004}\n",
      "band = [4]\n",
      "atmpro = mls\n",
      "tsfc = 294\n"
     ]
    },
    {
     "data": {
      "text/html": [
       "<a id=\"LBLNEW_case_compaired_against\"></a>"
      ],
      "text/plain": [
       "<IPython.core.display.HTML object>"
      ]
     },
     "metadata": {},
     "output_type": "display_data"
    },
    {
     "data": {
      "text/markdown": [
       "# LBLNEW case compaired against"
      ],
      "text/plain": [
       "<IPython.core.display.Markdown object>"
      ]
     },
     "metadata": {},
     "output_type": "display_data"
    },
    {
     "name": "stdout",
     "output_type": "stream",
     "text": [
      "atmpro = mls\n",
      "band = 3b\n",
      "commitnumber = 5014a19\n",
      "dv = 0.001\n",
      "molecule = {'h2o': 'atmpro', 'co2': 0.0004}\n",
      "nv = 1000\n",
      "tsfc = 294\n"
     ]
    },
    {
     "data": {
      "text/html": [
       "<a id=\"Cooling_Rate_Profiles\"></a>"
      ],
      "text/plain": [
       "<IPython.core.display.HTML object>"
      ]
     },
     "metadata": {},
     "output_type": "display_data"
    },
    {
     "data": {
      "text/markdown": [
       "# Cooling Rate Profiles"
      ],
      "text/plain": [
       "<IPython.core.display.Markdown object>"
      ]
     },
     "metadata": {},
     "output_type": "display_data"
    },
    {
     "data": {
      "text/html": [
       "\n",
       "<div class=\"bk-root\">\n",
       "    <div class=\"bk-plotdiv\" id=\"81b787e1-2290-4a1b-a13e-c3df9ceab996\"></div>\n",
       "</div>"
      ]
     },
     "metadata": {},
     "output_type": "display_data"
    },
    {
     "data": {
      "application/javascript": [
       "(function(root) {\n",
       "  function embed_document(root) {\n",
       "    \n",
       "  var docs_json = {\"e25cf48d-477b-4098-a1ce-034dc1b9ad5f\":{\"roots\":{\"references\":[{\"attributes\":{},\"id\":\"c82c4442-1f47-40cd-8f54-5b2675c4d44f\",\"type\":\"ResetTool\"},{\"attributes\":{\"callback\":null,\"data\":{\"x\":{\"__ndarray__\":\"hNVYwtotU0BLcyuE1XxEQGdjJeZZhUBAvHZpw2EtOkAtP3CVJ3Q0QJTai2g7xi9A6nk3FhS2KECqFmx+V1cjQHQ1w1eFhx5AueLiqNw8GECBXrhzYTQTQCm9gKhF3g1Aqtyf5j/vBUBNK4VALpH4P5yuH0nm5OM/GRu62R8o8D92d1OA3qr/P6Io0CfyZAVAjVzc60nVCkB4yrRHuY0QQFu5F5gVihRAx9HBn4a0GkAcJa/OMdggQGFEkaRaPiBAIT6w4784GUBGwUKcPa4TQO4UYXlGgQ9A/hO3ZRujCUBWcC60KV0FQM6WYv1V9gFAuSXNeowt/T89bDNfbyz2Pw04S8ly0vA/RrTbNqVf6j/V80Wt9nHiPxhwvxEXX9Q/JGOU65ayxj+UEDDjO+vAP2v2ZvLS76A/G89OoxyOub/z246rvF24v6/X53aelJk/uuqhgGTvsz++jN6AAUq4P1o73bv+C7o/1zWUuX1/uj80jR6mGkm6P398U6I2u7k/s1AFuC0FuT+i1ckZiju4P2rDECLhR7c/eACEQhb/tT/rdX6WVl+0P7k0tov0mLI/AkjD4p3nsD+igX79FdSuP6Sn+Fr4Q6w/ymsRkLAhqj9TOBO3MCmoP4taUM4GT6Y//z9OmDCapD/LHocSRBWjP+pvXb/N06E/g/1qHTv5oD+z5q7CucigP2Wqhhv1sqE/NE4iRvisoz8YpRnFUT2lP8/iVW5TUKQ/caNH2i3MoD/gXtFhSa+ZPxx7bWtIMpQ/yQGntlXCkT+8poaEj4uTP7u+B5bAObY/\",\"dtype\":\"float64\",\"shape\":[75]},\"y\":{\"__ndarray__\":\"GhExyth1ND/Sv8nbtpRIP2vylNV0PVE/aTum7souWD/At0SJ8fVgPw3Iuahxymc/MSNhhJWvcD/bTfBN02d3P2zb5nxnaoA/CD5h5MAGhz8NmeH1TyaQP+zrCsc9p5Y/LbKd76fGnz/bLW5ISEmmPww9YvTcQq8/JV2OstnstT8Er5Y7M8G+P0c+r3jqkcU/5h99k6ZBzj88bCIzFzjVP4enV8oyxN0//yH99nXg5D8qOpLLf0jtP5kqGJXUifQ/c9cS8kHP/D+/DpwzojQEQIEmwoanVwxA4lgXt9HgE0BSSZ2AJuIbQAMJih9jjiNA5q4l5INuK0AwTKYKRj0zQNv5fmq8/DpAaCJseHrtQkB/+zpwzoxKQM3MzMzMeFJAZmZmZmZqWEAAAAAAAFxeQM3MzMzMJmJAmpmZmZkfZUBmZmZmZhhoQDMzMzMzEWtAAAAAAAAKbkBmZmZmZoFwQM3MzMzM/XFAMzMzMzN6c0CamZmZmfZ0QAAAAAAAc3ZAZmZmZmbvd0DNzMzMzGt5QDMzMzMz6HpAmpmZmZlkfEAAAAAAAOF9QGZmZmZmXX9AZmZmZuZsgECamZmZGSuBQM3MzMxM6YFAAAAAAICngkAzMzMzs2WDQGZmZmbmI4RAmpmZmRnihEDNzMzMTKCFQAAAAACAXoZAMzMzM7Mch0BmZmZm5tqHQJqZmZkZmYhAzczMzExXiUAAAAAAgBWKQDMzMzOz04pAZmZmZuaRi0CamZmZGVCMQM3MzMxMDo1AAAAAAIDMjUAzMzMzs4qOQGZmZmbmSI9A\",\"dtype\":\"float64\",\"shape\":[75]}},\"selected\":{\"id\":\"cfb1b685-e4ca-4c43-8484-ffa7000867ba\",\"type\":\"Selection\"},\"selection_policy\":{\"id\":\"d6a71fb4-9a60-4417-b0e1-4ecbe8005610\",\"type\":\"UnionRenderers\"}},\"id\":\"3b605416-7676-47c1-a40a-8052b4a83f26\",\"type\":\"ColumnDataSource\"},{\"attributes\":{\"callback\":null,\"data\":{\"x\":{\"__ndarray__\":\"BTHQtS90Q0A+CWzOwfNAQC2RC87grz9ABn3p7c+lPECyvKseMLc4QPOOU3QkEzRAa+7of7lWLkB0et6NBU0lQBHfLqC8tBxAjF3sB4YdFEAa6ftfZKgPQKK0N/jC9ApAqgQwCideBkB5QURq2iX9P9jcC6v8G+4/Zcy4BDu58j99fs6TIV3+Pz+XX7zVuQJAMPZefNHOBkCWIwlnXN0NQK4oJQSrUhRA0ADN1rDdG0CtQD4yZ1chQL2zLE5r0R9A1iapp+pxF0BhW5q22uYSQDggU4iRzxBAYROZucDVC0DcJoFygIUFQOmGAaZnlQFAUzHfC91GAEB1E8ZgD1f7P/wyGCMSZfM/f5uL4Psy6j+wV/VFhNfjP4wAPNztfts/UkjPgLxPzz8cPHbE337BP/eQnAdR6XG/6EP+NhdBxL+wqE4owIfCv/Lx56VrsFy/3M2iY0b5rT9c9V1qtDezP3yeMkNSJ7U/xjEJTORYtj+HLN/uPUC3P+t3ll2GuLc/wcRAU4bctz8aHZU9N6S3PzlUrwJM/rY/HIMEewKXtT9alcN1LLmzP7+S9eUWhLE/IRZfJBzJrj8mkckeq9iqP6/XpVrMTqc/zgYpECdEpD8FD5kTMJGhP9NdrIT7vJ4/tmdPLxz7mj8sr1L9J9iXP/xt/kjZbpU/Ep013Yp7lD940ZmsOHKUP7slzMMoWZc/t3gsQTzOmz/aO/mtAwugP7X7vWNkCJ8/ntGYQWPDmD8WMvTbGZ6RP6n5uKPwuok/ryEzdSk+hj/TFsUVkQ2KP3B9XSiO87Q/\",\"dtype\":\"float64\",\"shape\":[75]},\"y\":{\"__ndarray__\":\"S/O/Q+51ND/Sv8nbtpRIP2vylNV0PVE/aTum7souWD/At0SJ8fVgPw3Iuahxymc/MSNhhJWvcD/bTfBN02d3P2zb5nxnaoA/CD5h5MAGhz8NmeH1TyaQP+zrCsc9p5Y/LbKd76fGnz/bLW5ISEmmPww9YvTcQq8/JV2OstnstT8Er5Y7M8G+P0c+r3jqkcU/5h99k6ZBzj88bCIzFzjVP4enV8oyxN0//yH99nXg5D8qOpLLf0jtP5kqGJXUifQ/c9cS8kHP/D+/DpwzojQEQIEmwoanVwxA4lgXt9HgE0BSSZ2AJuIbQAMJih9jjiNA5q4l5INuK0AwTKYKRj0zQNv5fmq8/DpAaCJseHrtQkB/+zpwzoxKQM3MzMzMeFJAZmZmZmZqWEAAAAAAAFxeQM3MzMzMJmJAmpmZmZkfZUBmZmZmZhhoQDMzMzMzEWtAAAAAAAAKbkBmZmZmZoFwQM3MzMzM/XFAMzMzMzN6c0CamZmZmfZ0QAAAAAAAc3ZAZmZmZmbvd0DNzMzMzGt5QDMzMzMz6HpAmpmZmZlkfEAAAAAAAOF9QGZmZmZmXX9AZmZmZuZsgECamZmZGSuBQM3MzMxM6YFAAAAAAICngkAzMzMzs2WDQGZmZmbmI4RAmpmZmRnihEDNzMzMTKCFQAAAAACAXoZAMzMzM7Mch0BmZmZm5tqHQJqZmZkZmYhAzczMzExXiUAAAAAAgBWKQDMzMzOz04pAZmZmZuaRi0CamZmZGVCMQM3MzMxMDo1AAAAAAIDMjUAzMzMzs4qOQGZmZmbmSI9A\",\"dtype\":\"float64\",\"shape\":[75]}},\"selected\":{\"id\":\"28df11a5-21aa-4b68-83b7-cb6d26040fc0\",\"type\":\"Selection\"},\"selection_policy\":{\"id\":\"7e08797a-7a9f-41c2-bfb3-a075c1c5e957\",\"type\":\"UnionRenderers\"}},\"id\":\"1b1b3fe8-681b-4349-b2b3-6c8fb5b450da\",\"type\":\"ColumnDataSource\"},{\"attributes\":{\"overlay\":{\"id\":\"5c52bc1c-3a61-4402-a8c2-d2db8414512b\",\"type\":\"BoxAnnotation\"}},\"id\":\"f170f979-eeeb-472d-977e-b60abd2231bb\",\"type\":\"BoxZoomTool\"},{\"attributes\":{\"callback\":null,\"end\":0.01,\"start\":1020},\"id\":\"12a9c28a-8ab9-4816-bac2-4900159ae97b\",\"type\":\"Range1d\"},{\"attributes\":{\"line_alpha\":0.1,\"line_color\":\"#1f77b4\",\"line_dash\":[6],\"line_width\":5,\"x\":{\"field\":\"x\"},\"y\":{\"field\":\"y\"}},\"id\":\"db1c03c0-40c8-4200-a59e-dcc25acdc334\",\"type\":\"Line\"},{\"attributes\":{\"fill_alpha\":{\"value\":0.7},\"fill_color\":{\"value\":\"#4daf4a\"},\"line_alpha\":{\"value\":0.7},\"line_color\":{\"value\":\"#4daf4a\"},\"x\":{\"field\":\"x\"},\"y\":{\"field\":\"y\"}},\"id\":\"d39e35c6-3e0b-4d7c-b71b-dd7710bad2f2\",\"type\":\"Circle\"},{\"attributes\":{\"fill_alpha\":{\"value\":0.1},\"fill_color\":{\"value\":\"#1f77b4\"},\"line_alpha\":{\"value\":0.1},\"line_color\":{\"value\":\"#1f77b4\"},\"x\":{\"field\":\"x\"},\"y\":{\"field\":\"y\"}},\"id\":\"2902517a-f579-4545-b237-840a4ac084f7\",\"type\":\"Square\"},{\"attributes\":{\"active_drag\":\"auto\",\"active_inspect\":\"auto\",\"active_scroll\":\"auto\",\"active_tap\":\"auto\",\"tools\":[{\"id\":\"a4972f4d-b169-4499-86b2-2a1cc77d0c5d\",\"type\":\"PanTool\"},{\"id\":\"b3698197-e379-4907-81d1-94f0358525bc\",\"type\":\"WheelZoomTool\"},{\"id\":\"f170f979-eeeb-472d-977e-b60abd2231bb\",\"type\":\"BoxZoomTool\"},{\"id\":\"9829c81b-fbaa-44bf-9c10-a03409b0d2db\",\"type\":\"SaveTool\"},{\"id\":\"c82c4442-1f47-40cd-8f54-5b2675c4d44f\",\"type\":\"ResetTool\"},{\"id\":\"5be510e0-b164-43a2-9c3e-1dd8e9a50395\",\"type\":\"HelpTool\"}]},\"id\":\"b21ee178-528d-4844-9422-7b540dc30a03\",\"type\":\"Toolbar\"},{\"attributes\":{},\"id\":\"9829c81b-fbaa-44bf-9c10-a03409b0d2db\",\"type\":\"SaveTool\"},{\"attributes\":{\"fill_alpha\":{\"value\":0.1},\"fill_color\":{\"value\":\"#1f77b4\"},\"line_alpha\":{\"value\":0.1},\"line_color\":{\"value\":\"#1f77b4\"},\"x\":{\"field\":\"x\"},\"y\":{\"field\":\"y\"}},\"id\":\"49ffbec4-c40a-4226-acbe-2cfb8a441903\",\"type\":\"Circle\"},{\"attributes\":{\"bottom_units\":\"screen\",\"fill_alpha\":{\"value\":0.5},\"fill_color\":{\"value\":\"lightgrey\"},\"left_units\":\"screen\",\"level\":\"overlay\",\"line_alpha\":{\"value\":1.0},\"line_color\":{\"value\":\"black\"},\"line_dash\":[4,4],\"line_width\":{\"value\":2},\"plot\":null,\"render_mode\":\"css\",\"right_units\":\"screen\",\"top_units\":\"screen\"},\"id\":\"5c52bc1c-3a61-4402-a8c2-d2db8414512b\",\"type\":\"BoxAnnotation\"},{\"attributes\":{\"plot\":null,\"text\":\"Linear pressure scale\"},\"id\":\"1c0a3526-0716-4e21-8884-0627af3a7ef0\",\"type\":\"Title\"},{\"attributes\":{\"data_source\":{\"id\":\"1b1b3fe8-681b-4349-b2b3-6c8fb5b450da\",\"type\":\"ColumnDataSource\"},\"glyph\":{\"id\":\"94519118-737d-49d1-8fa4-f3d90142c793\",\"type\":\"Line\"},\"hover_glyph\":null,\"muted_glyph\":null,\"nonselection_glyph\":{\"id\":\"db1c03c0-40c8-4200-a59e-dcc25acdc334\",\"type\":\"Line\"},\"selection_glyph\":null,\"view\":{\"id\":\"81ee2418-c5dd-4445-afba-9b3a1a1032d2\",\"type\":\"CDSView\"}},\"id\":\"1972d17e-fccf-497b-9a6a-c79111d3a83a\",\"type\":\"GlyphRenderer\"},{\"attributes\":{},\"id\":\"a6b9eed7-62e6-4549-a16b-7978765e0593\",\"type\":\"LinearScale\"},{\"attributes\":{\"axis_label\":\"cooling rate [K/day]\",\"formatter\":{\"id\":\"ed3815f2-9bed-4c4f-aafe-781d00f03de4\",\"type\":\"BasicTickFormatter\"},\"plot\":{\"id\":\"b5309340-8252-4588-80ce-f8b55ff475ce\",\"subtype\":\"Figure\",\"type\":\"Plot\"},\"ticker\":{\"id\":\"702801b1-5971-413a-aa78-3f7fe6628b70\",\"type\":\"BasicTicker\"}},\"id\":\"40f81733-b5c2-4796-a8bc-59e49c9f6093\",\"type\":\"LinearAxis\"},{\"attributes\":{\"source\":{\"id\":\"1b1b3fe8-681b-4349-b2b3-6c8fb5b450da\",\"type\":\"ColumnDataSource\"}},\"id\":\"81ee2418-c5dd-4445-afba-9b3a1a1032d2\",\"type\":\"CDSView\"},{\"attributes\":{\"below\":[{\"id\":\"40f81733-b5c2-4796-a8bc-59e49c9f6093\",\"type\":\"LinearAxis\"}],\"left\":[{\"id\":\"a91f0082-4809-4381-9658-a11b9712dd1b\",\"type\":\"LinearAxis\"}],\"plot_height\":500,\"plot_width\":400,\"renderers\":[{\"id\":\"40f81733-b5c2-4796-a8bc-59e49c9f6093\",\"type\":\"LinearAxis\"},{\"id\":\"c7ffec56-f508-432d-8c53-c3c7efbb7cf1\",\"type\":\"Grid\"},{\"id\":\"a91f0082-4809-4381-9658-a11b9712dd1b\",\"type\":\"LinearAxis\"},{\"id\":\"417a1001-56d1-479a-acce-c8f2fa57206b\",\"type\":\"Grid\"},{\"id\":\"5c52bc1c-3a61-4402-a8c2-d2db8414512b\",\"type\":\"BoxAnnotation\"},{\"id\":\"1972d17e-fccf-497b-9a6a-c79111d3a83a\",\"type\":\"GlyphRenderer\"},{\"id\":\"d6db78ce-d5db-45f2-b52d-624cf982d1af\",\"type\":\"GlyphRenderer\"},{\"id\":\"0ee544c2-c881-4eae-adea-a67aef6a67bc\",\"type\":\"GlyphRenderer\"},{\"id\":\"56958f45-835b-4ac2-8e90-f70553f4452a\",\"type\":\"GlyphRenderer\"},{\"id\":\"b06a5bfe-0b70-48b1-9620-573c997170f2\",\"type\":\"GlyphRenderer\"}],\"title\":{\"id\":\"1c0a3526-0716-4e21-8884-0627af3a7ef0\",\"type\":\"Title\"},\"toolbar\":{\"id\":\"b21ee178-528d-4844-9422-7b540dc30a03\",\"type\":\"Toolbar\"},\"toolbar_location\":null,\"x_range\":{\"id\":\"478d683d-03cd-4dda-9799-489cbb962fc3\",\"type\":\"Range1d\"},\"x_scale\":{\"id\":\"a6b9eed7-62e6-4549-a16b-7978765e0593\",\"type\":\"LinearScale\"},\"y_range\":{\"id\":\"12a9c28a-8ab9-4816-bac2-4900159ae97b\",\"type\":\"Range1d\"},\"y_scale\":{\"id\":\"b412c7b7-0a1b-4689-a17c-77d5606b35c2\",\"type\":\"LinearScale\"}},\"id\":\"b5309340-8252-4588-80ce-f8b55ff475ce\",\"subtype\":\"Figure\",\"type\":\"Plot\"},{\"attributes\":{},\"id\":\"b3698197-e379-4907-81d1-94f0358525bc\",\"type\":\"WheelZoomTool\"},{\"attributes\":{\"plot\":{\"id\":\"b5309340-8252-4588-80ce-f8b55ff475ce\",\"subtype\":\"Figure\",\"type\":\"Plot\"},\"ticker\":{\"id\":\"702801b1-5971-413a-aa78-3f7fe6628b70\",\"type\":\"BasicTicker\"}},\"id\":\"c7ffec56-f508-432d-8c53-c3c7efbb7cf1\",\"type\":\"Grid\"},{\"attributes\":{\"callback\":null,\"end\":0.6278411359999999,\"start\":-0.166019356},\"id\":\"478d683d-03cd-4dda-9799-489cbb962fc3\",\"type\":\"Range1d\"},{\"attributes\":{\"data_source\":{\"id\":\"3b605416-7676-47c1-a40a-8052b4a83f26\",\"type\":\"ColumnDataSource\"},\"glyph\":{\"id\":\"d39e35c6-3e0b-4d7c-b71b-dd7710bad2f2\",\"type\":\"Circle\"},\"hover_glyph\":null,\"muted_glyph\":null,\"nonselection_glyph\":{\"id\":\"49ffbec4-c40a-4226-acbe-2cfb8a441903\",\"type\":\"Circle\"},\"selection_glyph\":null,\"view\":{\"id\":\"aa5d494e-d586-4233-9c8c-324f8ae15719\",\"type\":\"CDSView\"}},\"id\":\"d6db78ce-d5db-45f2-b52d-624cf982d1af\",\"type\":\"GlyphRenderer\"},{\"attributes\":{},\"id\":\"5be510e0-b164-43a2-9c3e-1dd8e9a50395\",\"type\":\"HelpTool\"},{\"attributes\":{\"below\":[{\"id\":\"383a0956-a1ec-42f8-be04-ce0970d065f8\",\"type\":\"LinearAxis\"}],\"left\":[{\"id\":\"cf160e79-5297-4352-a1ec-7c2bad57a22a\",\"type\":\"LogAxis\"}],\"plot_height\":500,\"plot_width\":560,\"renderers\":[{\"id\":\"383a0956-a1ec-42f8-be04-ce0970d065f8\",\"type\":\"LinearAxis\"},{\"id\":\"6c7bc720-017a-45f9-95c4-9de57872faa7\",\"type\":\"Grid\"},{\"id\":\"cf160e79-5297-4352-a1ec-7c2bad57a22a\",\"type\":\"LogAxis\"},{\"id\":\"856c4dc9-02d9-4fa7-a550-da2f8e7f9f7e\",\"type\":\"Grid\"},{\"id\":\"23f82b2f-3d38-41f1-b833-132525b52a51\",\"type\":\"BoxAnnotation\"},{\"id\":\"d6fa7329-4139-4dfc-9544-9770499a7659\",\"type\":\"GlyphRenderer\"},{\"id\":\"73a9575d-b20a-415f-8042-1a893cf1bde5\",\"type\":\"GlyphRenderer\"},{\"id\":\"cf2ea22c-2f14-4cd1-8312-dc3ad82310b0\",\"type\":\"GlyphRenderer\"},{\"id\":\"02260cc9-170e-4a29-b1c6-4c5d6b5d6607\",\"type\":\"GlyphRenderer\"},{\"id\":\"5d3e6ec8-e8c6-4a79-86fe-0c3181958222\",\"type\":\"GlyphRenderer\"},{\"id\":\"55985e13-b0b2-4496-b251-77beaa5cf900\",\"type\":\"Legend\"}],\"right\":[{\"id\":\"55985e13-b0b2-4496-b251-77beaa5cf900\",\"type\":\"Legend\"}],\"title\":{\"id\":\"93915bce-bee9-467f-9981-e09864ac2cbe\",\"type\":\"Title\"},\"toolbar\":{\"id\":\"af02949f-9cde-4131-926f-fe258d617907\",\"type\":\"Toolbar\"},\"toolbar_location\":null,\"x_range\":{\"id\":\"b398482b-7dbb-40f0-9d8d-0e844fb9834f\",\"type\":\"Range1d\"},\"x_scale\":{\"id\":\"61c79d4b-7400-41ef-90d3-e07b0ca54e35\",\"type\":\"LinearScale\"},\"y_range\":{\"id\":\"773f24bf-6539-4a0a-b947-1b26b38ea7d7\",\"type\":\"Range1d\"},\"y_scale\":{\"id\":\"f25c3e2c-256a-41ed-9e67-8a6b1906ba39\",\"type\":\"LogScale\"}},\"id\":\"4b0eb760-2ef2-4fdf-9e06-341910ea4e3a\",\"subtype\":\"Figure\",\"type\":\"Plot\"},{\"attributes\":{},\"id\":\"b412c7b7-0a1b-4689-a17c-77d5606b35c2\",\"type\":\"LinearScale\"},{\"attributes\":{\"axis_label\":\"pressure [mb]\",\"formatter\":{\"id\":\"fa94f8c1-4c54-4641-8056-01863e71b3cb\",\"type\":\"BasicTickFormatter\"},\"plot\":{\"id\":\"b5309340-8252-4588-80ce-f8b55ff475ce\",\"subtype\":\"Figure\",\"type\":\"Plot\"},\"ticker\":{\"id\":\"6d960c37-7c59-48c2-af1b-83db88883276\",\"type\":\"BasicTicker\"}},\"id\":\"a91f0082-4809-4381-9658-a11b9712dd1b\",\"type\":\"LinearAxis\"},{\"attributes\":{},\"id\":\"a4972f4d-b169-4499-86b2-2a1cc77d0c5d\",\"type\":\"PanTool\"},{\"attributes\":{\"dimension\":1,\"plot\":{\"id\":\"b5309340-8252-4588-80ce-f8b55ff475ce\",\"subtype\":\"Figure\",\"type\":\"Plot\"},\"ticker\":{\"id\":\"6d960c37-7c59-48c2-af1b-83db88883276\",\"type\":\"BasicTicker\"}},\"id\":\"417a1001-56d1-479a-acce-c8f2fa57206b\",\"type\":\"Grid\"},{\"attributes\":{},\"id\":\"6d960c37-7c59-48c2-af1b-83db88883276\",\"type\":\"BasicTicker\"},{\"attributes\":{},\"id\":\"702801b1-5971-413a-aa78-3f7fe6628b70\",\"type\":\"BasicTicker\"},{\"attributes\":{},\"id\":\"bf72579d-d4a5-40ce-ad68-901145975111\",\"type\":\"PanTool\"},{\"attributes\":{\"dimension\":1,\"plot\":{\"id\":\"4b0eb760-2ef2-4fdf-9e06-341910ea4e3a\",\"subtype\":\"Figure\",\"type\":\"Plot\"},\"ticker\":{\"id\":\"6a1df6b4-120b-4814-8c5b-aed0a9af0d86\",\"type\":\"LogTicker\"}},\"id\":\"856c4dc9-02d9-4fa7-a550-da2f8e7f9f7e\",\"type\":\"Grid\"},{\"attributes\":{\"fill_alpha\":{\"value\":0.7},\"fill_color\":{\"value\":\"#984ea3\"},\"line_alpha\":{\"value\":0.7},\"line_color\":{\"value\":\"#984ea3\"},\"x\":{\"field\":\"x\"},\"y\":{\"field\":\"y\"}},\"id\":\"a8acb609-e39e-4bdd-a296-1080a14ce6c8\",\"type\":\"Square\"},{\"attributes\":{\"data_source\":{\"id\":\"5362e31f-9fb2-4fe7-8ff8-2307cd02916d\",\"type\":\"ColumnDataSource\"},\"glyph\":{\"id\":\"a8acb609-e39e-4bdd-a296-1080a14ce6c8\",\"type\":\"Square\"},\"hover_glyph\":null,\"muted_glyph\":null,\"nonselection_glyph\":{\"id\":\"e9cc3092-59c9-42cd-a5d6-f4df2c20077b\",\"type\":\"Square\"},\"selection_glyph\":null,\"view\":{\"id\":\"5bd429bc-5c55-4699-b66c-e7b8831a57b8\",\"type\":\"CDSView\"}},\"id\":\"02260cc9-170e-4a29-b1c6-4c5d6b5d6607\",\"type\":\"GlyphRenderer\"},{\"attributes\":{\"items\":[{\"id\":\"5b755e6e-668b-4c02-971a-ec5c542cd621\",\"type\":\"LegendItem\"},{\"id\":\"f3c1c794-aeea-4b08-9988-1ff416b3208e\",\"type\":\"LegendItem\"},{\"id\":\"e843020d-edc7-492f-96ea-a51b2907a958\",\"type\":\"LegendItem\"}],\"label_text_font_size\":{\"value\":\"8pt\"},\"location\":[10,-30],\"plot\":{\"id\":\"4b0eb760-2ef2-4fdf-9e06-341910ea4e3a\",\"subtype\":\"Figure\",\"type\":\"Plot\"}},\"id\":\"55985e13-b0b2-4496-b251-77beaa5cf900\",\"type\":\"Legend\"},{\"attributes\":{\"callback\":null,\"data\":{\"x\":{\"__ndarray__\":\"hNVYwtotU0BLcyuE1XxEQGdjJeZZhUBAvHZpw2EtOkAtP3CVJ3Q0QJTai2g7xi9A6nk3FhS2KECqFmx+V1cjQHQ1w1eFhx5AueLiqNw8GECBXrhzYTQTQCm9gKhF3g1Aqtyf5j/vBUBNK4VALpH4P5yuH0nm5OM/GRu62R8o8D92d1OA3qr/P6Io0CfyZAVAjVzc60nVCkB4yrRHuY0QQFu5F5gVihRAx9HBn4a0GkAcJa/OMdggQGFEkaRaPiBAIT6w4784GUBGwUKcPa4TQO4UYXlGgQ9A/hO3ZRujCUBWcC60KV0FQM6WYv1V9gFAuSXNeowt/T89bDNfbyz2Pw04S8ly0vA/RrTbNqVf6j/V80Wt9nHiPxhwvxEXX9Q/JGOU65ayxj+UEDDjO+vAP2v2ZvLS76A/G89OoxyOub/z246rvF24v6/X53aelJk/uuqhgGTvsz++jN6AAUq4P1o73bv+C7o/1zWUuX1/uj80jR6mGkm6P398U6I2u7k/s1AFuC0FuT+i1ckZiju4P2rDECLhR7c/eACEQhb/tT/rdX6WVl+0P7k0tov0mLI/AkjD4p3nsD+igX79FdSuP6Sn+Fr4Q6w/ymsRkLAhqj9TOBO3MCmoP4taUM4GT6Y//z9OmDCapD/LHocSRBWjP+pvXb/N06E/g/1qHTv5oD+z5q7CucigP2Wqhhv1sqE/NE4iRvisoz8YpRnFUT2lP8/iVW5TUKQ/caNH2i3MoD/gXtFhSa+ZPxx7bWtIMpQ/yQGntlXCkT+8poaEj4uTP7u+B5bAObY/\",\"dtype\":\"float64\",\"shape\":[75]},\"y\":{\"__ndarray__\":\"GhExyth1ND/Sv8nbtpRIP2vylNV0PVE/aTum7souWD/At0SJ8fVgPw3Iuahxymc/MSNhhJWvcD/bTfBN02d3P2zb5nxnaoA/CD5h5MAGhz8NmeH1TyaQP+zrCsc9p5Y/LbKd76fGnz/bLW5ISEmmPww9YvTcQq8/JV2OstnstT8Er5Y7M8G+P0c+r3jqkcU/5h99k6ZBzj88bCIzFzjVP4enV8oyxN0//yH99nXg5D8qOpLLf0jtP5kqGJXUifQ/c9cS8kHP/D+/DpwzojQEQIEmwoanVwxA4lgXt9HgE0BSSZ2AJuIbQAMJih9jjiNA5q4l5INuK0AwTKYKRj0zQNv5fmq8/DpAaCJseHrtQkB/+zpwzoxKQM3MzMzMeFJAZmZmZmZqWEAAAAAAAFxeQM3MzMzMJmJAmpmZmZkfZUBmZmZmZhhoQDMzMzMzEWtAAAAAAAAKbkBmZmZmZoFwQM3MzMzM/XFAMzMzMzN6c0CamZmZmfZ0QAAAAAAAc3ZAZmZmZmbvd0DNzMzMzGt5QDMzMzMz6HpAmpmZmZlkfEAAAAAAAOF9QGZmZmZmXX9AZmZmZuZsgECamZmZGSuBQM3MzMxM6YFAAAAAAICngkAzMzMzs2WDQGZmZmbmI4RAmpmZmRnihEDNzMzMTKCFQAAAAACAXoZAMzMzM7Mch0BmZmZm5tqHQJqZmZkZmYhAzczMzExXiUAAAAAAgBWKQDMzMzOz04pAZmZmZuaRi0CamZmZGVCMQM3MzMxMDo1AAAAAAIDMjUAzMzMzs4qOQGZmZmbmSI9A\",\"dtype\":\"float64\",\"shape\":[75]}},\"selected\":{\"id\":\"c67586ca-4620-49fd-8d98-fb68c0f427ab\",\"type\":\"Selection\"},\"selection_policy\":{\"id\":\"4ce536d3-18ec-47d1-b3e2-bd28f00a3984\",\"type\":\"UnionRenderers\"}},\"id\":\"434b1d6a-2efd-43c5-8e49-02c6c387eb03\",\"type\":\"ColumnDataSource\"},{\"attributes\":{\"bottom_units\":\"screen\",\"fill_alpha\":{\"value\":0.5},\"fill_color\":{\"value\":\"lightgrey\"},\"left_units\":\"screen\",\"level\":\"overlay\",\"line_alpha\":{\"value\":1.0},\"line_color\":{\"value\":\"black\"},\"line_dash\":[4,4],\"line_width\":{\"value\":2},\"plot\":null,\"render_mode\":\"css\",\"right_units\":\"screen\",\"top_units\":\"screen\"},\"id\":\"23f82b2f-3d38-41f1-b833-132525b52a51\",\"type\":\"BoxAnnotation\"},{\"attributes\":{\"source\":{\"id\":\"a8a330ee-dea6-4239-9e06-f78392237d1c\",\"type\":\"ColumnDataSource\"}},\"id\":\"f444b021-bc3f-44a9-9148-d863e972ae4b\",\"type\":\"CDSView\"},{\"attributes\":{\"data_source\":{\"id\":\"2f8dea87-0034-4b40-9e07-e22b81d2a30f\",\"type\":\"ColumnDataSource\"},\"glyph\":{\"id\":\"39ed3a3d-3a3a-43c4-8ed6-4c716add1dc8\",\"type\":\"Line\"},\"hover_glyph\":null,\"muted_glyph\":null,\"nonselection_glyph\":{\"id\":\"2a4a48b2-52f4-4e97-85ef-ee74df86a658\",\"type\":\"Line\"},\"selection_glyph\":null,\"view\":{\"id\":\"4a9e6e8c-4c96-4133-a728-2737179295e0\",\"type\":\"CDSView\"}},\"id\":\"5d3e6ec8-e8c6-4a79-86fe-0c3181958222\",\"type\":\"GlyphRenderer\"},{\"attributes\":{\"callback\":null,\"data\":{\"x\":{\"__ndarray__\":\"hNVYwtotU0BLcyuE1XxEQGdjJeZZhUBAvHZpw2EtOkAtP3CVJ3Q0QJTai2g7xi9A6nk3FhS2KECqFmx+V1cjQHQ1w1eFhx5AueLiqNw8GECBXrhzYTQTQCm9gKhF3g1Aqtyf5j/vBUBNK4VALpH4P5yuH0nm5OM/GRu62R8o8D92d1OA3qr/P6Io0CfyZAVAjVzc60nVCkB4yrRHuY0QQFu5F5gVihRAx9HBn4a0GkAcJa/OMdggQGFEkaRaPiBAIT6w4784GUBGwUKcPa4TQO4UYXlGgQ9A/hO3ZRujCUBWcC60KV0FQM6WYv1V9gFAuSXNeowt/T89bDNfbyz2Pw04S8ly0vA/RrTbNqVf6j/V80Wt9nHiPxhwvxEXX9Q/JGOU65ayxj+UEDDjO+vAP2v2ZvLS76A/G89OoxyOub/z246rvF24v6/X53aelJk/uuqhgGTvsz++jN6AAUq4P1o73bv+C7o/1zWUuX1/uj80jR6mGkm6P398U6I2u7k/s1AFuC0FuT+i1ckZiju4P2rDECLhR7c/eACEQhb/tT/rdX6WVl+0P7k0tov0mLI/AkjD4p3nsD+igX79FdSuP6Sn+Fr4Q6w/ymsRkLAhqj9TOBO3MCmoP4taUM4GT6Y//z9OmDCapD/LHocSRBWjP+pvXb/N06E/g/1qHTv5oD+z5q7CucigP2Wqhhv1sqE/NE4iRvisoz8YpRnFUT2lP8/iVW5TUKQ/caNH2i3MoD/gXtFhSa+ZPxx7bWtIMpQ/yQGntlXCkT+8poaEj4uTP7u+B5bAObY/\",\"dtype\":\"float64\",\"shape\":[75]},\"y\":{\"__ndarray__\":\"GhExyth1ND/Sv8nbtpRIP2vylNV0PVE/aTum7souWD/At0SJ8fVgPw3Iuahxymc/MSNhhJWvcD/bTfBN02d3P2zb5nxnaoA/CD5h5MAGhz8NmeH1TyaQP+zrCsc9p5Y/LbKd76fGnz/bLW5ISEmmPww9YvTcQq8/JV2OstnstT8Er5Y7M8G+P0c+r3jqkcU/5h99k6ZBzj88bCIzFzjVP4enV8oyxN0//yH99nXg5D8qOpLLf0jtP5kqGJXUifQ/c9cS8kHP/D+/DpwzojQEQIEmwoanVwxA4lgXt9HgE0BSSZ2AJuIbQAMJih9jjiNA5q4l5INuK0AwTKYKRj0zQNv5fmq8/DpAaCJseHrtQkB/+zpwzoxKQM3MzMzMeFJAZmZmZmZqWEAAAAAAAFxeQM3MzMzMJmJAmpmZmZkfZUBmZmZmZhhoQDMzMzMzEWtAAAAAAAAKbkBmZmZmZoFwQM3MzMzM/XFAMzMzMzN6c0CamZmZmfZ0QAAAAAAAc3ZAZmZmZmbvd0DNzMzMzGt5QDMzMzMz6HpAmpmZmZlkfEAAAAAAAOF9QGZmZmZmXX9AZmZmZuZsgECamZmZGSuBQM3MzMxM6YFAAAAAAICngkAzMzMzs2WDQGZmZmbmI4RAmpmZmRnihEDNzMzMTKCFQAAAAACAXoZAMzMzM7Mch0BmZmZm5tqHQJqZmZkZmYhAzczMzExXiUAAAAAAgBWKQDMzMzOz04pAZmZmZuaRi0CamZmZGVCMQM3MzMxMDo1AAAAAAIDMjUAzMzMzs4qOQGZmZmbmSI9A\",\"dtype\":\"float64\",\"shape\":[75]}},\"selected\":{\"id\":\"38185ddd-0381-4bb2-8eb3-2644a85c644d\",\"type\":\"Selection\"},\"selection_policy\":{\"id\":\"5fc2e596-307c-4fce-87f9-fe5e930a7d20\",\"type\":\"UnionRenderers\"}},\"id\":\"0bc4abe9-b622-47a1-a52b-e1793a2ed921\",\"type\":\"ColumnDataSource\"},{\"attributes\":{},\"id\":\"1c32e5ac-9564-4ff3-8ef5-eb25e3070d5b\",\"type\":\"WheelZoomTool\"},{\"attributes\":{\"data_source\":{\"id\":\"221ac290-2e00-4edb-b437-99a9bb6d1f2c\",\"type\":\"ColumnDataSource\"},\"glyph\":{\"id\":\"5bc9e5f5-ce0a-4d1d-8824-8bf22aa182ad\",\"type\":\"Square\"},\"hover_glyph\":null,\"muted_glyph\":null,\"nonselection_glyph\":{\"id\":\"2902517a-f579-4545-b237-840a4ac084f7\",\"type\":\"Square\"},\"selection_glyph\":null,\"view\":{\"id\":\"140ab027-c7f7-4eaa-8396-3b50cf0d1b75\",\"type\":\"CDSView\"}},\"id\":\"56958f45-835b-4ac2-8e90-f70553f4452a\",\"type\":\"GlyphRenderer\"},{\"attributes\":{\"overlay\":{\"id\":\"23f82b2f-3d38-41f1-b833-132525b52a51\",\"type\":\"BoxAnnotation\"}},\"id\":\"6486a2c4-b768-425b-8e09-d6401f6ff969\",\"type\":\"BoxZoomTool\"},{\"attributes\":{\"data_source\":{\"id\":\"434b1d6a-2efd-43c5-8e49-02c6c387eb03\",\"type\":\"ColumnDataSource\"},\"glyph\":{\"id\":\"01282bf0-0889-4997-89da-cff363fc3de5\",\"type\":\"Line\"},\"hover_glyph\":null,\"muted_glyph\":null,\"nonselection_glyph\":{\"id\":\"2a04606b-d247-4049-91b8-d082010df70d\",\"type\":\"Line\"},\"selection_glyph\":null,\"view\":{\"id\":\"67fa87cc-46eb-4040-a24c-678b5d0932d1\",\"type\":\"CDSView\"}},\"id\":\"cf2ea22c-2f14-4cd1-8312-dc3ad82310b0\",\"type\":\"GlyphRenderer\"},{\"attributes\":{\"source\":{\"id\":\"3b605416-7676-47c1-a40a-8052b4a83f26\",\"type\":\"ColumnDataSource\"}},\"id\":\"aa5d494e-d586-4233-9c8c-324f8ae15719\",\"type\":\"CDSView\"},{\"attributes\":{},\"id\":\"27f4ba73-2872-4252-9b8b-e02375ab664e\",\"type\":\"SaveTool\"},{\"attributes\":{},\"id\":\"8fab0fbe-7053-4e03-a5bd-2f8351c4ec94\",\"type\":\"ResetTool\"},{\"attributes\":{\"axis_label\":\"pressure [mb]\",\"formatter\":{\"id\":\"cb91159e-7748-48a1-888e-b6cdfe44fbbd\",\"type\":\"LogTickFormatter\"},\"plot\":{\"id\":\"4b0eb760-2ef2-4fdf-9e06-341910ea4e3a\",\"subtype\":\"Figure\",\"type\":\"Plot\"},\"ticker\":{\"id\":\"6a1df6b4-120b-4814-8c5b-aed0a9af0d86\",\"type\":\"LogTicker\"}},\"id\":\"cf160e79-5297-4352-a1ec-7c2bad57a22a\",\"type\":\"LogAxis\"},{\"attributes\":{\"data_source\":{\"id\":\"a8a330ee-dea6-4239-9e06-f78392237d1c\",\"type\":\"ColumnDataSource\"},\"glyph\":{\"id\":\"08a15570-65ec-4f15-a8fc-cc68c844bcda\",\"type\":\"Circle\"},\"hover_glyph\":null,\"muted_glyph\":null,\"nonselection_glyph\":{\"id\":\"afa5b3d4-a42b-4bcf-b564-c598ea95e4f6\",\"type\":\"Circle\"},\"selection_glyph\":null,\"view\":{\"id\":\"f444b021-bc3f-44a9-9148-d863e972ae4b\",\"type\":\"CDSView\"}},\"id\":\"73a9575d-b20a-415f-8042-1a893cf1bde5\",\"type\":\"GlyphRenderer\"},{\"attributes\":{\"source\":{\"id\":\"221ac290-2e00-4edb-b437-99a9bb6d1f2c\",\"type\":\"ColumnDataSource\"}},\"id\":\"140ab027-c7f7-4eaa-8396-3b50cf0d1b75\",\"type\":\"CDSView\"},{\"attributes\":{\"line_alpha\":0.1,\"line_color\":\"#1f77b4\",\"line_width\":3,\"x\":{\"field\":\"x\"},\"y\":{\"field\":\"y\"}},\"id\":\"2a4a48b2-52f4-4e97-85ef-ee74df86a658\",\"type\":\"Line\"},{\"attributes\":{},\"id\":\"c954ff36-4ab9-4cb7-83af-f817bf3f366a\",\"type\":\"HelpTool\"},{\"attributes\":{\"source\":{\"id\":\"434b1d6a-2efd-43c5-8e49-02c6c387eb03\",\"type\":\"ColumnDataSource\"}},\"id\":\"67fa87cc-46eb-4040-a24c-678b5d0932d1\",\"type\":\"CDSView\"},{\"attributes\":{},\"id\":\"6f0c8685-f8d4-42ae-86f8-7c562c393edd\",\"type\":\"UnionRenderers\"},{\"attributes\":{\"children\":[{\"id\":\"b5309340-8252-4588-80ce-f8b55ff475ce\",\"subtype\":\"Figure\",\"type\":\"Plot\"},{\"id\":\"4b0eb760-2ef2-4fdf-9e06-341910ea4e3a\",\"subtype\":\"Figure\",\"type\":\"Plot\"}]},\"id\":\"816126c2-8c29-4c9e-a85c-9bbbbc05ec79\",\"type\":\"Row\"},{\"attributes\":{\"callback\":null,\"data\":{\"x\":{\"__ndarray__\":\"YQDhQ4muRUD+tidIbG9BQPBRf73Cwj9AZHlXPWAWPEBZT62+uuY3QH9N1qiHcDNAmIbhI2IaLkC9AWa+gz8mQJsGRfMA7h9A+e9msiQtF0C0STQ3lasRQMMRpFLsSAxAhOPo4E8zBkDPl4NF6kL7P7Y6jIubwek/ExhG1QrO8T/B9c2iHHH/P70NIDKbNgRAI3n4fN7eCEBSh8vg3psPQI0woHKnrxRAegt/4fC9G0CF4n0LoVkhQO4SMBV2UCBAN5Jfmn2ZGEBf4ckTrYETQGYO7nMhmxBAPVbfr7i+C0AwGo3XF1QGQHYjPVY6aQJAIEIBgAjW/z+JibybXe35P//bdutGCfM/UC623qkf6z+kVnew7i3jP5+EZ3w+jtg/0sZTh8NvzT/uNpgbRiDDP35AojSUDZE/k+NO6WD9wb9OPC1gfn7Bv0TBGtRvQGK/QD5JAz2prD9msFarfr6yP/yCJz6IrrQ/x+XaePmbtT/jZOUO0Dq2P6aSXxGMm7Y/cxm9bp/Ctj/HL4mhP662P1C5gqC1OLY/MbipK+Y6tT9WGKTeKLmzPyMwzMW857E/VkQBZrQRsD+CHrGwvLisP2HVSUsfmak/Y9FEPRzbpj8Q/njBPVWkP+tHflUS/6E/0+RIuKfjnz/3dN2q12ycP9GIoe5mupk/zTC9FlcJmD9L1Vy/d9OXPzT1/GEy8pk/SKGe0WVQnj8cN7OYA/2gP1sRN9ISXqA/x0/tUHBYmj8JvmRBMxiTP6vlLL4xnIw/u33fioehiD+biVmXaeeLPzZftcr9IrU/\",\"dtype\":\"float64\",\"shape\":[75]},\"y\":{\"__ndarray__\":\"GhExyth1ND/Sv8nbtpRIP2vylNV0PVE/aTum7souWD/At0SJ8fVgPw3Iuahxymc/MSNhhJWvcD/bTfBN02d3P2zb5nxnaoA/CD5h5MAGhz8NmeH1TyaQP+zrCsc9p5Y/LbKd76fGnz/bLW5ISEmmPww9YvTcQq8/JV2OstnstT8Er5Y7M8G+P0c+r3jqkcU/5h99k6ZBzj88bCIzFzjVP4enV8oyxN0//yH99nXg5D8qOpLLf0jtP5kqGJXUifQ/c9cS8kHP/D+/DpwzojQEQIEmwoanVwxA4lgXt9HgE0BSSZ2AJuIbQAMJih9jjiNA5q4l5INuK0AwTKYKRj0zQNv5fmq8/DpAaCJseHrtQkB/+zpwzoxKQM3MzMzMeFJAZmZmZmZqWEAAAAAAAFxeQM3MzMzMJmJAmpmZmZkfZUBmZmZmZhhoQDMzMzMzEWtAAAAAAAAKbkBmZmZmZoFwQM3MzMzM/XFAMzMzMzN6c0CamZmZmfZ0QAAAAAAAc3ZAZmZmZmbvd0DNzMzMzGt5QDMzMzMz6HpAmpmZmZlkfEAAAAAAAOF9QGZmZmZmXX9AZmZmZuZsgECamZmZGSuBQM3MzMxM6YFAAAAAAICngkAzMzMzs2WDQGZmZmbmI4RAmpmZmRnihEDNzMzMTKCFQAAAAACAXoZAMzMzM7Mch0BmZmZm5tqHQJqZmZkZmYhAzczMzExXiUAAAAAAgBWKQDMzMzOz04pAZmZmZuaRi0CamZmZGVCMQM3MzMxMDo1AAAAAAIDMjUAzMzMzs4qOQGZmZmbmSI9A\",\"dtype\":\"float64\",\"shape\":[75]}},\"selected\":{\"id\":\"83ad7ca1-002b-4e8f-bccb-8ff2487ec886\",\"type\":\"Selection\"},\"selection_policy\":{\"id\":\"d31dcc4a-b359-4c88-aff0-904402db8bf2\",\"type\":\"UnionRenderers\"}},\"id\":\"221ac290-2e00-4edb-b437-99a9bb6d1f2c\",\"type\":\"ColumnDataSource\"},{\"attributes\":{\"line_alpha\":0.1,\"line_color\":\"#1f77b4\",\"line_width\":1.5,\"x\":{\"field\":\"x\"},\"y\":{\"field\":\"y\"}},\"id\":\"2a04606b-d247-4049-91b8-d082010df70d\",\"type\":\"Line\"},{\"attributes\":{\"fill_alpha\":{\"value\":0.1},\"fill_color\":{\"value\":\"#1f77b4\"},\"line_alpha\":{\"value\":0.1},\"line_color\":{\"value\":\"#1f77b4\"},\"x\":{\"field\":\"x\"},\"y\":{\"field\":\"y\"}},\"id\":\"e9cc3092-59c9-42cd-a5d6-f4df2c20077b\",\"type\":\"Square\"},{\"attributes\":{\"line_color\":\"#4daf4a\",\"line_width\":1.5,\"x\":{\"field\":\"x\"},\"y\":{\"field\":\"y\"}},\"id\":\"01282bf0-0889-4997-89da-cff363fc3de5\",\"type\":\"Line\"},{\"attributes\":{\"line_alpha\":0.1,\"line_color\":\"#1f77b4\",\"line_dash\":[6],\"line_width\":5,\"x\":{\"field\":\"x\"},\"y\":{\"field\":\"y\"}},\"id\":\"803a64ad-05ce-4395-a493-9472fcd12ffb\",\"type\":\"Line\"},{\"attributes\":{\"callback\":null,\"data\":{\"x\":{\"__ndarray__\":\"YQDhQ4muRUD+tidIbG9BQPBRf73Cwj9AZHlXPWAWPEBZT62+uuY3QH9N1qiHcDNAmIbhI2IaLkC9AWa+gz8mQJsGRfMA7h9A+e9msiQtF0C0STQ3lasRQMMRpFLsSAxAhOPo4E8zBkDPl4NF6kL7P7Y6jIubwek/ExhG1QrO8T/B9c2iHHH/P70NIDKbNgRAI3n4fN7eCEBSh8vg3psPQI0woHKnrxRAegt/4fC9G0CF4n0LoVkhQO4SMBV2UCBAN5Jfmn2ZGEBf4ckTrYETQGYO7nMhmxBAPVbfr7i+C0AwGo3XF1QGQHYjPVY6aQJAIEIBgAjW/z+JibybXe35P//bdutGCfM/UC623qkf6z+kVnew7i3jP5+EZ3w+jtg/0sZTh8NvzT/uNpgbRiDDP35AojSUDZE/k+NO6WD9wb9OPC1gfn7Bv0TBGtRvQGK/QD5JAz2prD9msFarfr6yP/yCJz6IrrQ/x+XaePmbtT/jZOUO0Dq2P6aSXxGMm7Y/cxm9bp/Ctj/HL4mhP662P1C5gqC1OLY/MbipK+Y6tT9WGKTeKLmzPyMwzMW857E/VkQBZrQRsD+CHrGwvLisP2HVSUsfmak/Y9FEPRzbpj8Q/njBPVWkP+tHflUS/6E/0+RIuKfjnz/3dN2q12ycP9GIoe5mupk/zTC9FlcJmD9L1Vy/d9OXPzT1/GEy8pk/SKGe0WVQnj8cN7OYA/2gP1sRN9ISXqA/x0/tUHBYmj8JvmRBMxiTP6vlLL4xnIw/u33fioehiD+biVmXaeeLPzZftcr9IrU/\",\"dtype\":\"float64\",\"shape\":[75]},\"y\":{\"__ndarray__\":\"GhExyth1ND/Sv8nbtpRIP2vylNV0PVE/aTum7souWD/At0SJ8fVgPw3Iuahxymc/MSNhhJWvcD/bTfBN02d3P2zb5nxnaoA/CD5h5MAGhz8NmeH1TyaQP+zrCsc9p5Y/LbKd76fGnz/bLW5ISEmmPww9YvTcQq8/JV2OstnstT8Er5Y7M8G+P0c+r3jqkcU/5h99k6ZBzj88bCIzFzjVP4enV8oyxN0//yH99nXg5D8qOpLLf0jtP5kqGJXUifQ/c9cS8kHP/D+/DpwzojQEQIEmwoanVwxA4lgXt9HgE0BSSZ2AJuIbQAMJih9jjiNA5q4l5INuK0AwTKYKRj0zQNv5fmq8/DpAaCJseHrtQkB/+zpwzoxKQM3MzMzMeFJAZmZmZmZqWEAAAAAAAFxeQM3MzMzMJmJAmpmZmZkfZUBmZmZmZhhoQDMzMzMzEWtAAAAAAAAKbkBmZmZmZoFwQM3MzMzM/XFAMzMzMzN6c0CamZmZmfZ0QAAAAAAAc3ZAZmZmZmbvd0DNzMzMzGt5QDMzMzMz6HpAmpmZmZlkfEAAAAAAAOF9QGZmZmZmXX9AZmZmZuZsgECamZmZGSuBQM3MzMxM6YFAAAAAAICngkAzMzMzs2WDQGZmZmbmI4RAmpmZmRnihEDNzMzMTKCFQAAAAACAXoZAMzMzM7Mch0BmZmZm5tqHQJqZmZkZmYhAzczMzExXiUAAAAAAgBWKQDMzMzOz04pAZmZmZuaRi0CamZmZGVCMQM3MzMxMDo1AAAAAAIDMjUAzMzMzs4qOQGZmZmbmSI9A\",\"dtype\":\"float64\",\"shape\":[75]}},\"selected\":{\"id\":\"56682c5f-2dc3-4d6b-b226-c7ec9ac98322\",\"type\":\"Selection\"},\"selection_policy\":{\"id\":\"91a68c27-cf1a-48b0-b9ff-056ed5cb9de9\",\"type\":\"UnionRenderers\"}},\"id\":\"5362e31f-9fb2-4fe7-8ff8-2307cd02916d\",\"type\":\"ColumnDataSource\"},{\"attributes\":{\"children\":[{\"id\":\"816126c2-8c29-4c9e-a85c-9bbbbc05ec79\",\"type\":\"Row\"}]},\"id\":\"1afc47cb-a2e0-43b3-bbd3-1fa49bbc8180\",\"type\":\"Column\"},{\"attributes\":{},\"id\":\"61c79d4b-7400-41ef-90d3-e07b0ca54e35\",\"type\":\"LinearScale\"},{\"attributes\":{\"plot\":{\"id\":\"4b0eb760-2ef2-4fdf-9e06-341910ea4e3a\",\"subtype\":\"Figure\",\"type\":\"Plot\"},\"ticker\":{\"id\":\"f24851d0-c1ab-4860-a59b-d00498fbe394\",\"type\":\"BasicTicker\"}},\"id\":\"6c7bc720-017a-45f9-95c4-9de57872faa7\",\"type\":\"Grid\"},{\"attributes\":{\"line_alpha\":0.6,\"line_color\":\"#984ea3\",\"line_width\":3,\"x\":{\"field\":\"x\"},\"y\":{\"field\":\"y\"}},\"id\":\"06e2ec1b-fe94-49ae-9041-1f946afd4ed8\",\"type\":\"Line\"},{\"attributes\":{\"label\":{\"value\":\"CLIRAD `coolr_bands`\"},\"renderers\":[{\"id\":\"d6fa7329-4139-4dfc-9544-9770499a7659\",\"type\":\"GlyphRenderer\"}]},\"id\":\"5b755e6e-668b-4c02-971a-ec5c542cd621\",\"type\":\"LegendItem\"},{\"attributes\":{},\"id\":\"ed3815f2-9bed-4c4f-aafe-781d00f03de4\",\"type\":\"BasicTickFormatter\"},{\"attributes\":{\"label\":{\"value\":\"CRD\"},\"renderers\":[{\"id\":\"73a9575d-b20a-415f-8042-1a893cf1bde5\",\"type\":\"GlyphRenderer\"},{\"id\":\"cf2ea22c-2f14-4cd1-8312-dc3ad82310b0\",\"type\":\"GlyphRenderer\"}]},\"id\":\"f3c1c794-aeea-4b08-9988-1ff416b3208e\",\"type\":\"LegendItem\"},{\"attributes\":{},\"id\":\"0e5780cb-0ccc-4d60-a4b3-9e6e426201c5\",\"type\":\"Selection\"},{\"attributes\":{\"fill_alpha\":{\"value\":0.7},\"fill_color\":{\"value\":\"#984ea3\"},\"line_alpha\":{\"value\":0.7},\"line_color\":{\"value\":\"#984ea3\"},\"x\":{\"field\":\"x\"},\"y\":{\"field\":\"y\"}},\"id\":\"5bc9e5f5-ce0a-4d1d-8824-8bf22aa182ad\",\"type\":\"Square\"},{\"attributes\":{\"label\":{\"value\":\"WGT igg=10 wgt_flux=2\"},\"renderers\":[{\"id\":\"02260cc9-170e-4a29-b1c6-4c5d6b5d6607\",\"type\":\"GlyphRenderer\"},{\"id\":\"5d3e6ec8-e8c6-4a79-86fe-0c3181958222\",\"type\":\"GlyphRenderer\"}]},\"id\":\"e843020d-edc7-492f-96ea-a51b2907a958\",\"type\":\"LegendItem\"},{\"attributes\":{\"line_alpha\":0.6,\"line_color\":\"#e41a1c\",\"line_dash\":[6],\"line_width\":5,\"x\":{\"field\":\"x\"},\"y\":{\"field\":\"y\"}},\"id\":\"044b7b6b-a785-4170-8265-8b3638312ab2\",\"type\":\"Line\"},{\"attributes\":{},\"id\":\"7e08797a-7a9f-41c2-bfb3-a075c1c5e957\",\"type\":\"UnionRenderers\"},{\"attributes\":{\"callback\":null,\"end\":8.763389732100002,\"start\":-0.24656934210000003},\"id\":\"b398482b-7dbb-40f0-9d8d-0e844fb9834f\",\"type\":\"Range1d\"},{\"attributes\":{},\"id\":\"fa94f8c1-4c54-4641-8056-01863e71b3cb\",\"type\":\"BasicTickFormatter\"},{\"attributes\":{\"source\":{\"id\":\"2f8dea87-0034-4b40-9e07-e22b81d2a30f\",\"type\":\"ColumnDataSource\"}},\"id\":\"4a9e6e8c-4c96-4133-a728-2737179295e0\",\"type\":\"CDSView\"},{\"attributes\":{},\"id\":\"d6a71fb4-9a60-4417-b0e1-4ecbe8005610\",\"type\":\"UnionRenderers\"},{\"attributes\":{\"axis_label\":\"cooling rate [K/day]\",\"formatter\":{\"id\":\"04e7e74f-8e09-42ad-a3b8-31720bff1273\",\"type\":\"BasicTickFormatter\"},\"plot\":{\"id\":\"4b0eb760-2ef2-4fdf-9e06-341910ea4e3a\",\"subtype\":\"Figure\",\"type\":\"Plot\"},\"ticker\":{\"id\":\"f24851d0-c1ab-4860-a59b-d00498fbe394\",\"type\":\"BasicTicker\"}},\"id\":\"383a0956-a1ec-42f8-be04-ce0970d065f8\",\"type\":\"LinearAxis\"},{\"attributes\":{},\"id\":\"cfb1b685-e4ca-4c43-8484-ffa7000867ba\",\"type\":\"Selection\"},{\"attributes\":{},\"id\":\"d31dcc4a-b359-4c88-aff0-904402db8bf2\",\"type\":\"UnionRenderers\"},{\"attributes\":{\"callback\":null,\"end\":0.01,\"start\":1020},\"id\":\"773f24bf-6539-4a0a-b947-1b26b38ea7d7\",\"type\":\"Range1d\"},{\"attributes\":{},\"id\":\"5fc2e596-307c-4fce-87f9-fe5e930a7d20\",\"type\":\"UnionRenderers\"},{\"attributes\":{\"callback\":null,\"data\":{\"x\":{\"__ndarray__\":\"YQDhQ4muRUD+tidIbG9BQPBRf73Cwj9AZHlXPWAWPEBZT62+uuY3QH9N1qiHcDNAmIbhI2IaLkC9AWa+gz8mQJsGRfMA7h9A+e9msiQtF0C0STQ3lasRQMMRpFLsSAxAhOPo4E8zBkDPl4NF6kL7P7Y6jIubwek/ExhG1QrO8T/B9c2iHHH/P70NIDKbNgRAI3n4fN7eCEBSh8vg3psPQI0woHKnrxRAegt/4fC9G0CF4n0LoVkhQO4SMBV2UCBAN5Jfmn2ZGEBf4ckTrYETQGYO7nMhmxBAPVbfr7i+C0AwGo3XF1QGQHYjPVY6aQJAIEIBgAjW/z+JibybXe35P//bdutGCfM/UC623qkf6z+kVnew7i3jP5+EZ3w+jtg/0sZTh8NvzT/uNpgbRiDDP35AojSUDZE/k+NO6WD9wb9OPC1gfn7Bv0TBGtRvQGK/QD5JAz2prD9msFarfr6yP/yCJz6IrrQ/x+XaePmbtT/jZOUO0Dq2P6aSXxGMm7Y/cxm9bp/Ctj/HL4mhP662P1C5gqC1OLY/MbipK+Y6tT9WGKTeKLmzPyMwzMW857E/VkQBZrQRsD+CHrGwvLisP2HVSUsfmak/Y9FEPRzbpj8Q/njBPVWkP+tHflUS/6E/0+RIuKfjnz/3dN2q12ycP9GIoe5mupk/zTC9FlcJmD9L1Vy/d9OXPzT1/GEy8pk/SKGe0WVQnj8cN7OYA/2gP1sRN9ISXqA/x0/tUHBYmj8JvmRBMxiTP6vlLL4xnIw/u33fioehiD+biVmXaeeLPzZftcr9IrU/\",\"dtype\":\"float64\",\"shape\":[75]},\"y\":{\"__ndarray__\":\"GhExyth1ND/Sv8nbtpRIP2vylNV0PVE/aTum7souWD/At0SJ8fVgPw3Iuahxymc/MSNhhJWvcD/bTfBN02d3P2zb5nxnaoA/CD5h5MAGhz8NmeH1TyaQP+zrCsc9p5Y/LbKd76fGnz/bLW5ISEmmPww9YvTcQq8/JV2OstnstT8Er5Y7M8G+P0c+r3jqkcU/5h99k6ZBzj88bCIzFzjVP4enV8oyxN0//yH99nXg5D8qOpLLf0jtP5kqGJXUifQ/c9cS8kHP/D+/DpwzojQEQIEmwoanVwxA4lgXt9HgE0BSSZ2AJuIbQAMJih9jjiNA5q4l5INuK0AwTKYKRj0zQNv5fmq8/DpAaCJseHrtQkB/+zpwzoxKQM3MzMzMeFJAZmZmZmZqWEAAAAAAAFxeQM3MzMzMJmJAmpmZmZkfZUBmZmZmZhhoQDMzMzMzEWtAAAAAAAAKbkBmZmZmZoFwQM3MzMzM/XFAMzMzMzN6c0CamZmZmfZ0QAAAAAAAc3ZAZmZmZmbvd0DNzMzMzGt5QDMzMzMz6HpAmpmZmZlkfEAAAAAAAOF9QGZmZmZmXX9AZmZmZuZsgECamZmZGSuBQM3MzMxM6YFAAAAAAICngkAzMzMzs2WDQGZmZmbmI4RAmpmZmRnihEDNzMzMTKCFQAAAAACAXoZAMzMzM7Mch0BmZmZm5tqHQJqZmZkZmYhAzczMzExXiUAAAAAAgBWKQDMzMzOz04pAZmZmZuaRi0CamZmZGVCMQM3MzMxMDo1AAAAAAIDMjUAzMzMzs4qOQGZmZmbmSI9A\",\"dtype\":\"float64\",\"shape\":[75]}},\"selected\":{\"id\":\"60de4551-8b61-46cc-a782-10a882a3a79a\",\"type\":\"Selection\"},\"selection_policy\":{\"id\":\"898ed3d8-481a-47fc-94a3-24988bf45cd0\",\"type\":\"UnionRenderers\"}},\"id\":\"49efa050-2107-4994-9750-9dd17f0909b9\",\"type\":\"ColumnDataSource\"},{\"attributes\":{},\"id\":\"38185ddd-0381-4bb2-8eb3-2644a85c644d\",\"type\":\"Selection\"},{\"attributes\":{},\"id\":\"898ed3d8-481a-47fc-94a3-24988bf45cd0\",\"type\":\"UnionRenderers\"},{\"attributes\":{},\"id\":\"04e7e74f-8e09-42ad-a3b8-31720bff1273\",\"type\":\"BasicTickFormatter\"},{\"attributes\":{\"plot\":null,\"text\":\"Log pressure scale\"},\"id\":\"93915bce-bee9-467f-9981-e09864ac2cbe\",\"type\":\"Title\"},{\"attributes\":{\"num_minor_ticks\":10},\"id\":\"6a1df6b4-120b-4814-8c5b-aed0a9af0d86\",\"type\":\"LogTicker\"},{\"attributes\":{},\"id\":\"83ad7ca1-002b-4e8f-bccb-8ff2487ec886\",\"type\":\"Selection\"},{\"attributes\":{},\"id\":\"4ce536d3-18ec-47d1-b3e2-bd28f00a3984\",\"type\":\"UnionRenderers\"},{\"attributes\":{\"line_alpha\":0.6,\"line_color\":\"#984ea3\",\"line_width\":3,\"x\":{\"field\":\"x\"},\"y\":{\"field\":\"y\"}},\"id\":\"39ed3a3d-3a3a-43c4-8ed6-4c716add1dc8\",\"type\":\"Line\"},{\"attributes\":{},\"id\":\"60de4551-8b61-46cc-a782-10a882a3a79a\",\"type\":\"Selection\"},{\"attributes\":{},\"id\":\"1a421863-639d-463d-84db-ede9e9a2ee04\",\"type\":\"Selection\"},{\"attributes\":{\"ticker\":null},\"id\":\"cb91159e-7748-48a1-888e-b6cdfe44fbbd\",\"type\":\"LogTickFormatter\"},{\"attributes\":{},\"id\":\"58551570-5f01-4801-af46-51392e0edcba\",\"type\":\"UnionRenderers\"},{\"attributes\":{\"line_alpha\":0.1,\"line_color\":\"#1f77b4\",\"line_width\":1.5,\"x\":{\"field\":\"x\"},\"y\":{\"field\":\"y\"}},\"id\":\"bc6d9c1b-4d73-4daa-93fb-d63d2b806a59\",\"type\":\"Line\"},{\"attributes\":{},\"id\":\"c67586ca-4620-49fd-8d98-fb68c0f427ab\",\"type\":\"Selection\"},{\"attributes\":{},\"id\":\"91a68c27-cf1a-48b0-b9ff-056ed5cb9de9\",\"type\":\"UnionRenderers\"},{\"attributes\":{\"toolbar\":{\"id\":\"5cc01209-4103-4d2d-b82b-26b70e15033f\",\"type\":\"ProxyToolbar\"},\"toolbar_location\":\"above\"},\"id\":\"97e828d6-69d6-41cd-a81a-847f5cc7abf3\",\"type\":\"ToolbarBox\"},{\"attributes\":{\"data_source\":{\"id\":\"0bc4abe9-b622-47a1-a52b-e1793a2ed921\",\"type\":\"ColumnDataSource\"},\"glyph\":{\"id\":\"7bc686d4-40a2-4c77-848b-3873b885d822\",\"type\":\"Line\"},\"hover_glyph\":null,\"muted_glyph\":null,\"nonselection_glyph\":{\"id\":\"bc6d9c1b-4d73-4daa-93fb-d63d2b806a59\",\"type\":\"Line\"},\"selection_glyph\":null,\"view\":{\"id\":\"d7a98978-fca4-41d9-82ee-bcbad01f0386\",\"type\":\"CDSView\"}},\"id\":\"0ee544c2-c881-4eae-adea-a67aef6a67bc\",\"type\":\"GlyphRenderer\"},{\"attributes\":{},\"id\":\"e3082237-3e36-426c-b9c9-bd6ac71ad3c6\",\"type\":\"UnionRenderers\"},{\"attributes\":{},\"id\":\"56682c5f-2dc3-4d6b-b226-c7ec9ac98322\",\"type\":\"Selection\"},{\"attributes\":{\"children\":[{\"id\":\"97e828d6-69d6-41cd-a81a-847f5cc7abf3\",\"type\":\"ToolbarBox\"},{\"id\":\"1afc47cb-a2e0-43b3-bbd3-1fa49bbc8180\",\"type\":\"Column\"}]},\"id\":\"5aa0743a-1799-4adb-bd97-9cbb187d0a43\",\"type\":\"Column\"},{\"attributes\":{\"source\":{\"id\":\"0bc4abe9-b622-47a1-a52b-e1793a2ed921\",\"type\":\"ColumnDataSource\"}},\"id\":\"d7a98978-fca4-41d9-82ee-bcbad01f0386\",\"type\":\"CDSView\"},{\"attributes\":{\"callback\":null,\"data\":{\"x\":{\"__ndarray__\":\"YQDhQ4muRUD+tidIbG9BQPBRf73Cwj9AZHlXPWAWPEBZT62+uuY3QH9N1qiHcDNAmIbhI2IaLkC9AWa+gz8mQJsGRfMA7h9A+e9msiQtF0C0STQ3lasRQMMRpFLsSAxAhOPo4E8zBkDPl4NF6kL7P7Y6jIubwek/ExhG1QrO8T/B9c2iHHH/P70NIDKbNgRAI3n4fN7eCEBSh8vg3psPQI0woHKnrxRAegt/4fC9G0CF4n0LoVkhQO4SMBV2UCBAN5Jfmn2ZGEBf4ckTrYETQGYO7nMhmxBAPVbfr7i+C0AwGo3XF1QGQHYjPVY6aQJAIEIBgAjW/z+JibybXe35P//bdutGCfM/UC623qkf6z+kVnew7i3jP5+EZ3w+jtg/0sZTh8NvzT/uNpgbRiDDP35AojSUDZE/k+NO6WD9wb9OPC1gfn7Bv0TBGtRvQGK/QD5JAz2prD9msFarfr6yP/yCJz6IrrQ/x+XaePmbtT/jZOUO0Dq2P6aSXxGMm7Y/cxm9bp/Ctj/HL4mhP662P1C5gqC1OLY/MbipK+Y6tT9WGKTeKLmzPyMwzMW857E/VkQBZrQRsD+CHrGwvLisP2HVSUsfmak/Y9FEPRzbpj8Q/njBPVWkP+tHflUS/6E/0+RIuKfjnz/3dN2q12ycP9GIoe5mupk/zTC9FlcJmD9L1Vy/d9OXPzT1/GEy8pk/SKGe0WVQnj8cN7OYA/2gP1sRN9ISXqA/x0/tUHBYmj8JvmRBMxiTP6vlLL4xnIw/u33fioehiD+biVmXaeeLPzZftcr9IrU/\",\"dtype\":\"float64\",\"shape\":[75]},\"y\":{\"__ndarray__\":\"GhExyth1ND/Sv8nbtpRIP2vylNV0PVE/aTum7souWD/At0SJ8fVgPw3Iuahxymc/MSNhhJWvcD/bTfBN02d3P2zb5nxnaoA/CD5h5MAGhz8NmeH1TyaQP+zrCsc9p5Y/LbKd76fGnz/bLW5ISEmmPww9YvTcQq8/JV2OstnstT8Er5Y7M8G+P0c+r3jqkcU/5h99k6ZBzj88bCIzFzjVP4enV8oyxN0//yH99nXg5D8qOpLLf0jtP5kqGJXUifQ/c9cS8kHP/D+/DpwzojQEQIEmwoanVwxA4lgXt9HgE0BSSZ2AJuIbQAMJih9jjiNA5q4l5INuK0AwTKYKRj0zQNv5fmq8/DpAaCJseHrtQkB/+zpwzoxKQM3MzMzMeFJAZmZmZmZqWEAAAAAAAFxeQM3MzMzMJmJAmpmZmZkfZUBmZmZmZhhoQDMzMzMzEWtAAAAAAAAKbkBmZmZmZoFwQM3MzMzM/XFAMzMzMzN6c0CamZmZmfZ0QAAAAAAAc3ZAZmZmZmbvd0DNzMzMzGt5QDMzMzMz6HpAmpmZmZlkfEAAAAAAAOF9QGZmZmZmXX9AZmZmZuZsgECamZmZGSuBQM3MzMxM6YFAAAAAAICngkAzMzMzs2WDQGZmZmbmI4RAmpmZmRnihEDNzMzMTKCFQAAAAACAXoZAMzMzM7Mch0BmZmZm5tqHQJqZmZkZmYhAzczMzExXiUAAAAAAgBWKQDMzMzOz04pAZmZmZuaRi0CamZmZGVCMQM3MzMxMDo1AAAAAAIDMjUAzMzMzs4qOQGZmZmbmSI9A\",\"dtype\":\"float64\",\"shape\":[75]}},\"selected\":{\"id\":\"5316a8c2-3741-4c5d-8119-5e8ba754f565\",\"type\":\"Selection\"},\"selection_policy\":{\"id\":\"e3082237-3e36-426c-b9c9-bd6ac71ad3c6\",\"type\":\"UnionRenderers\"}},\"id\":\"2f8dea87-0034-4b40-9e07-e22b81d2a30f\",\"type\":\"ColumnDataSource\"},{\"attributes\":{},\"id\":\"5316a8c2-3741-4c5d-8119-5e8ba754f565\",\"type\":\"Selection\"},{\"attributes\":{\"tools\":[{\"id\":\"a4972f4d-b169-4499-86b2-2a1cc77d0c5d\",\"type\":\"PanTool\"},{\"id\":\"b3698197-e379-4907-81d1-94f0358525bc\",\"type\":\"WheelZoomTool\"},{\"id\":\"f170f979-eeeb-472d-977e-b60abd2231bb\",\"type\":\"BoxZoomTool\"},{\"id\":\"9829c81b-fbaa-44bf-9c10-a03409b0d2db\",\"type\":\"SaveTool\"},{\"id\":\"c82c4442-1f47-40cd-8f54-5b2675c4d44f\",\"type\":\"ResetTool\"},{\"id\":\"5be510e0-b164-43a2-9c3e-1dd8e9a50395\",\"type\":\"HelpTool\"},{\"id\":\"bf72579d-d4a5-40ce-ad68-901145975111\",\"type\":\"PanTool\"},{\"id\":\"1c32e5ac-9564-4ff3-8ef5-eb25e3070d5b\",\"type\":\"WheelZoomTool\"},{\"id\":\"6486a2c4-b768-425b-8e09-d6401f6ff969\",\"type\":\"BoxZoomTool\"},{\"id\":\"27f4ba73-2872-4252-9b8b-e02375ab664e\",\"type\":\"SaveTool\"},{\"id\":\"8fab0fbe-7053-4e03-a5bd-2f8351c4ec94\",\"type\":\"ResetTool\"},{\"id\":\"c954ff36-4ab9-4cb7-83af-f817bf3f366a\",\"type\":\"HelpTool\"}]},\"id\":\"5cc01209-4103-4d2d-b82b-26b70e15033f\",\"type\":\"ProxyToolbar\"},{\"attributes\":{\"line_alpha\":0.6,\"line_color\":\"#e41a1c\",\"line_dash\":[6],\"line_width\":5,\"x\":{\"field\":\"x\"},\"y\":{\"field\":\"y\"}},\"id\":\"94519118-737d-49d1-8fa4-f3d90142c793\",\"type\":\"Line\"},{\"attributes\":{},\"id\":\"28df11a5-21aa-4b68-83b7-cb6d26040fc0\",\"type\":\"Selection\"},{\"attributes\":{\"line_alpha\":0.1,\"line_color\":\"#1f77b4\",\"line_width\":3,\"x\":{\"field\":\"x\"},\"y\":{\"field\":\"y\"}},\"id\":\"6fc327f5-3f44-4cea-9cf6-e46790e5fd88\",\"type\":\"Line\"},{\"attributes\":{\"fill_alpha\":{\"value\":0.1},\"fill_color\":{\"value\":\"#1f77b4\"},\"line_alpha\":{\"value\":0.1},\"line_color\":{\"value\":\"#1f77b4\"},\"x\":{\"field\":\"x\"},\"y\":{\"field\":\"y\"}},\"id\":\"afa5b3d4-a42b-4bcf-b564-c598ea95e4f6\",\"type\":\"Circle\"},{\"attributes\":{\"callback\":null,\"data\":{\"x\":{\"__ndarray__\":\"BTHQtS90Q0A+CWzOwfNAQC2RC87grz9ABn3p7c+lPECyvKseMLc4QPOOU3QkEzRAa+7of7lWLkB0et6NBU0lQBHfLqC8tBxAjF3sB4YdFEAa6ftfZKgPQKK0N/jC9ApAqgQwCideBkB5QURq2iX9P9jcC6v8G+4/Zcy4BDu58j99fs6TIV3+Pz+XX7zVuQJAMPZefNHOBkCWIwlnXN0NQK4oJQSrUhRA0ADN1rDdG0CtQD4yZ1chQL2zLE5r0R9A1iapp+pxF0BhW5q22uYSQDggU4iRzxBAYROZucDVC0DcJoFygIUFQOmGAaZnlQFAUzHfC91GAEB1E8ZgD1f7P/wyGCMSZfM/f5uL4Psy6j+wV/VFhNfjP4wAPNztfts/UkjPgLxPzz8cPHbE337BP/eQnAdR6XG/6EP+NhdBxL+wqE4owIfCv/Lx56VrsFy/3M2iY0b5rT9c9V1qtDezP3yeMkNSJ7U/xjEJTORYtj+HLN/uPUC3P+t3ll2GuLc/wcRAU4bctz8aHZU9N6S3PzlUrwJM/rY/HIMEewKXtT9alcN1LLmzP7+S9eUWhLE/IRZfJBzJrj8mkckeq9iqP6/XpVrMTqc/zgYpECdEpD8FD5kTMJGhP9NdrIT7vJ4/tmdPLxz7mj8sr1L9J9iXP/xt/kjZbpU/Ep013Yp7lD940ZmsOHKUP7slzMMoWZc/t3gsQTzOmz/aO/mtAwugP7X7vWNkCJ8/ntGYQWPDmD8WMvTbGZ6RP6n5uKPwuok/ryEzdSk+hj/TFsUVkQ2KP3B9XSiO87Q/\",\"dtype\":\"float64\",\"shape\":[75]},\"y\":{\"__ndarray__\":\"S/O/Q+51ND/Sv8nbtpRIP2vylNV0PVE/aTum7souWD/At0SJ8fVgPw3Iuahxymc/MSNhhJWvcD/bTfBN02d3P2zb5nxnaoA/CD5h5MAGhz8NmeH1TyaQP+zrCsc9p5Y/LbKd76fGnz/bLW5ISEmmPww9YvTcQq8/JV2OstnstT8Er5Y7M8G+P0c+r3jqkcU/5h99k6ZBzj88bCIzFzjVP4enV8oyxN0//yH99nXg5D8qOpLLf0jtP5kqGJXUifQ/c9cS8kHP/D+/DpwzojQEQIEmwoanVwxA4lgXt9HgE0BSSZ2AJuIbQAMJih9jjiNA5q4l5INuK0AwTKYKRj0zQNv5fmq8/DpAaCJseHrtQkB/+zpwzoxKQM3MzMzMeFJAZmZmZmZqWEAAAAAAAFxeQM3MzMzMJmJAmpmZmZkfZUBmZmZmZhhoQDMzMzMzEWtAAAAAAAAKbkBmZmZmZoFwQM3MzMzM/XFAMzMzMzN6c0CamZmZmfZ0QAAAAAAAc3ZAZmZmZmbvd0DNzMzMzGt5QDMzMzMz6HpAmpmZmZlkfEAAAAAAAOF9QGZmZmZmXX9AZmZmZuZsgECamZmZGSuBQM3MzMxM6YFAAAAAAICngkAzMzMzs2WDQGZmZmbmI4RAmpmZmRnihEDNzMzMTKCFQAAAAACAXoZAMzMzM7Mch0BmZmZm5tqHQJqZmZkZmYhAzczMzExXiUAAAAAAgBWKQDMzMzOz04pAZmZmZuaRi0CamZmZGVCMQM3MzMxMDo1AAAAAAIDMjUAzMzMzs4qOQGZmZmbmSI9A\",\"dtype\":\"float64\",\"shape\":[75]}},\"selected\":{\"id\":\"0e5780cb-0ccc-4d60-a4b3-9e6e426201c5\",\"type\":\"Selection\"},\"selection_policy\":{\"id\":\"6f0c8685-f8d4-42ae-86f8-7c562c393edd\",\"type\":\"UnionRenderers\"}},\"id\":\"a2def2fb-a507-4eb3-a76b-835d63d34963\",\"type\":\"ColumnDataSource\"},{\"attributes\":{\"fill_alpha\":{\"value\":0.7},\"fill_color\":{\"value\":\"#4daf4a\"},\"line_alpha\":{\"value\":0.7},\"line_color\":{\"value\":\"#4daf4a\"},\"x\":{\"field\":\"x\"},\"y\":{\"field\":\"y\"}},\"id\":\"08a15570-65ec-4f15-a8fc-cc68c844bcda\",\"type\":\"Circle\"},{\"attributes\":{\"data_source\":{\"id\":\"a2def2fb-a507-4eb3-a76b-835d63d34963\",\"type\":\"ColumnDataSource\"},\"glyph\":{\"id\":\"044b7b6b-a785-4170-8265-8b3638312ab2\",\"type\":\"Line\"},\"hover_glyph\":null,\"muted_glyph\":null,\"nonselection_glyph\":{\"id\":\"803a64ad-05ce-4395-a493-9472fcd12ffb\",\"type\":\"Line\"},\"selection_glyph\":null,\"view\":{\"id\":\"246a253e-05b6-4935-96f9-3c1b54b2bde4\",\"type\":\"CDSView\"}},\"id\":\"d6fa7329-4139-4dfc-9544-9770499a7659\",\"type\":\"GlyphRenderer\"},{\"attributes\":{\"active_drag\":\"auto\",\"active_inspect\":\"auto\",\"active_scroll\":\"auto\",\"active_tap\":\"auto\",\"tools\":[{\"id\":\"bf72579d-d4a5-40ce-ad68-901145975111\",\"type\":\"PanTool\"},{\"id\":\"1c32e5ac-9564-4ff3-8ef5-eb25e3070d5b\",\"type\":\"WheelZoomTool\"},{\"id\":\"6486a2c4-b768-425b-8e09-d6401f6ff969\",\"type\":\"BoxZoomTool\"},{\"id\":\"27f4ba73-2872-4252-9b8b-e02375ab664e\",\"type\":\"SaveTool\"},{\"id\":\"8fab0fbe-7053-4e03-a5bd-2f8351c4ec94\",\"type\":\"ResetTool\"},{\"id\":\"c954ff36-4ab9-4cb7-83af-f817bf3f366a\",\"type\":\"HelpTool\"}]},\"id\":\"af02949f-9cde-4131-926f-fe258d617907\",\"type\":\"Toolbar\"},{\"attributes\":{\"source\":{\"id\":\"5362e31f-9fb2-4fe7-8ff8-2307cd02916d\",\"type\":\"ColumnDataSource\"}},\"id\":\"5bd429bc-5c55-4699-b66c-e7b8831a57b8\",\"type\":\"CDSView\"},{\"attributes\":{\"source\":{\"id\":\"49efa050-2107-4994-9750-9dd17f0909b9\",\"type\":\"ColumnDataSource\"}},\"id\":\"ad4a5a6f-ffc6-4457-8402-5802437db216\",\"type\":\"CDSView\"},{\"attributes\":{\"callback\":null,\"data\":{\"x\":{\"__ndarray__\":\"hNVYwtotU0BLcyuE1XxEQGdjJeZZhUBAvHZpw2EtOkAtP3CVJ3Q0QJTai2g7xi9A6nk3FhS2KECqFmx+V1cjQHQ1w1eFhx5AueLiqNw8GECBXrhzYTQTQCm9gKhF3g1Aqtyf5j/vBUBNK4VALpH4P5yuH0nm5OM/GRu62R8o8D92d1OA3qr/P6Io0CfyZAVAjVzc60nVCkB4yrRHuY0QQFu5F5gVihRAx9HBn4a0GkAcJa/OMdggQGFEkaRaPiBAIT6w4784GUBGwUKcPa4TQO4UYXlGgQ9A/hO3ZRujCUBWcC60KV0FQM6WYv1V9gFAuSXNeowt/T89bDNfbyz2Pw04S8ly0vA/RrTbNqVf6j/V80Wt9nHiPxhwvxEXX9Q/JGOU65ayxj+UEDDjO+vAP2v2ZvLS76A/G89OoxyOub/z246rvF24v6/X53aelJk/uuqhgGTvsz++jN6AAUq4P1o73bv+C7o/1zWUuX1/uj80jR6mGkm6P398U6I2u7k/s1AFuC0FuT+i1ckZiju4P2rDECLhR7c/eACEQhb/tT/rdX6WVl+0P7k0tov0mLI/AkjD4p3nsD+igX79FdSuP6Sn+Fr4Q6w/ymsRkLAhqj9TOBO3MCmoP4taUM4GT6Y//z9OmDCapD/LHocSRBWjP+pvXb/N06E/g/1qHTv5oD+z5q7CucigP2Wqhhv1sqE/NE4iRvisoz8YpRnFUT2lP8/iVW5TUKQ/caNH2i3MoD/gXtFhSa+ZPxx7bWtIMpQ/yQGntlXCkT+8poaEj4uTP7u+B5bAObY/\",\"dtype\":\"float64\",\"shape\":[75]},\"y\":{\"__ndarray__\":\"GhExyth1ND/Sv8nbtpRIP2vylNV0PVE/aTum7souWD/At0SJ8fVgPw3Iuahxymc/MSNhhJWvcD/bTfBN02d3P2zb5nxnaoA/CD5h5MAGhz8NmeH1TyaQP+zrCsc9p5Y/LbKd76fGnz/bLW5ISEmmPww9YvTcQq8/JV2OstnstT8Er5Y7M8G+P0c+r3jqkcU/5h99k6ZBzj88bCIzFzjVP4enV8oyxN0//yH99nXg5D8qOpLLf0jtP5kqGJXUifQ/c9cS8kHP/D+/DpwzojQEQIEmwoanVwxA4lgXt9HgE0BSSZ2AJuIbQAMJih9jjiNA5q4l5INuK0AwTKYKRj0zQNv5fmq8/DpAaCJseHrtQkB/+zpwzoxKQM3MzMzMeFJAZmZmZmZqWEAAAAAAAFxeQM3MzMzMJmJAmpmZmZkfZUBmZmZmZhhoQDMzMzMzEWtAAAAAAAAKbkBmZmZmZoFwQM3MzMzM/XFAMzMzMzN6c0CamZmZmfZ0QAAAAAAAc3ZAZmZmZmbvd0DNzMzMzGt5QDMzMzMz6HpAmpmZmZlkfEAAAAAAAOF9QGZmZmZmXX9AZmZmZuZsgECamZmZGSuBQM3MzMxM6YFAAAAAAICngkAzMzMzs2WDQGZmZmbmI4RAmpmZmRnihEDNzMzMTKCFQAAAAACAXoZAMzMzM7Mch0BmZmZm5tqHQJqZmZkZmYhAzczMzExXiUAAAAAAgBWKQDMzMzOz04pAZmZmZuaRi0CamZmZGVCMQM3MzMxMDo1AAAAAAIDMjUAzMzMzs4qOQGZmZmbmSI9A\",\"dtype\":\"float64\",\"shape\":[75]}},\"selected\":{\"id\":\"1a421863-639d-463d-84db-ede9e9a2ee04\",\"type\":\"Selection\"},\"selection_policy\":{\"id\":\"58551570-5f01-4801-af46-51392e0edcba\",\"type\":\"UnionRenderers\"}},\"id\":\"a8a330ee-dea6-4239-9e06-f78392237d1c\",\"type\":\"ColumnDataSource\"},{\"attributes\":{},\"id\":\"f25c3e2c-256a-41ed-9e67-8a6b1906ba39\",\"type\":\"LogScale\"},{\"attributes\":{\"line_color\":\"#4daf4a\",\"line_width\":1.5,\"x\":{\"field\":\"x\"},\"y\":{\"field\":\"y\"}},\"id\":\"7bc686d4-40a2-4c77-848b-3873b885d822\",\"type\":\"Line\"},{\"attributes\":{},\"id\":\"f24851d0-c1ab-4860-a59b-d00498fbe394\",\"type\":\"BasicTicker\"},{\"attributes\":{\"source\":{\"id\":\"a2def2fb-a507-4eb3-a76b-835d63d34963\",\"type\":\"ColumnDataSource\"}},\"id\":\"246a253e-05b6-4935-96f9-3c1b54b2bde4\",\"type\":\"CDSView\"},{\"attributes\":{\"data_source\":{\"id\":\"49efa050-2107-4994-9750-9dd17f0909b9\",\"type\":\"ColumnDataSource\"},\"glyph\":{\"id\":\"06e2ec1b-fe94-49ae-9041-1f946afd4ed8\",\"type\":\"Line\"},\"hover_glyph\":null,\"muted_glyph\":null,\"nonselection_glyph\":{\"id\":\"6fc327f5-3f44-4cea-9cf6-e46790e5fd88\",\"type\":\"Line\"},\"selection_glyph\":null,\"view\":{\"id\":\"ad4a5a6f-ffc6-4457-8402-5802437db216\",\"type\":\"CDSView\"}},\"id\":\"b06a5bfe-0b70-48b1-9620-573c997170f2\",\"type\":\"GlyphRenderer\"}],\"root_ids\":[\"5aa0743a-1799-4adb-bd97-9cbb187d0a43\"]},\"title\":\"Bokeh Application\",\"version\":\"0.12.16\"}};\n",
       "  var render_items = [{\"docid\":\"e25cf48d-477b-4098-a1ce-034dc1b9ad5f\",\"elementid\":\"81b787e1-2290-4a1b-a13e-c3df9ceab996\",\"modelid\":\"5aa0743a-1799-4adb-bd97-9cbb187d0a43\"}];\n",
       "  root.Bokeh.embed.embed_items_notebook(docs_json, render_items);\n",
       "\n",
       "  }\n",
       "  if (root.Bokeh !== undefined) {\n",
       "    embed_document(root);\n",
       "  } else {\n",
       "    var attempts = 0;\n",
       "    var timer = setInterval(function(root) {\n",
       "      if (root.Bokeh !== undefined) {\n",
       "        embed_document(root);\n",
       "        clearInterval(timer);\n",
       "      }\n",
       "      attempts++;\n",
       "      if (attempts > 100) {\n",
       "        console.log(\"Bokeh: ERROR: Unable to run BokehJS code because BokehJS library is missing\")\n",
       "        clearInterval(timer);\n",
       "      }\n",
       "    }, 10, root)\n",
       "  }\n",
       "})(window);"
      ],
      "application/vnd.bokehjs_exec.v0+json": ""
     },
     "metadata": {
      "application/vnd.bokehjs_exec.v0+json": {
       "id": "5aa0743a-1799-4adb-bd97-9cbb187d0a43"
      }
     },
     "output_type": "display_data"
    },
    {
     "name": "stdout",
     "output_type": "stream",
     "text": [
      "FIGURE. Cooling rate profiles.\n"
     ]
    },
    {
     "data": {
      "text/html": [
       "<a id=\"Flux_Comparison\"></a>"
      ],
      "text/plain": [
       "<IPython.core.display.HTML object>"
      ]
     },
     "metadata": {},
     "output_type": "display_data"
    },
    {
     "data": {
      "text/markdown": [
       "# Flux Comparison"
      ],
      "text/plain": [
       "<IPython.core.display.Markdown object>"
      ]
     },
     "metadata": {},
     "output_type": "display_data"
    },
    {
     "data": {
      "text/html": [
       "<div>\n",
       "<style scoped>\n",
       "    .dataframe tbody tr th:only-of-type {\n",
       "        vertical-align: middle;\n",
       "    }\n",
       "\n",
       "    .dataframe tbody tr th {\n",
       "        vertical-align: top;\n",
       "    }\n",
       "\n",
       "    .dataframe thead th {\n",
       "        text-align: right;\n",
       "    }\n",
       "</style>\n",
       "<table border=\"1\" class=\"dataframe\">\n",
       "  <thead>\n",
       "    <tr style=\"text-align: right;\">\n",
       "      <th></th>\n",
       "      <th></th>\n",
       "      <th>flug</th>\n",
       "      <th>fldg</th>\n",
       "      <th>fnetg</th>\n",
       "    </tr>\n",
       "    <tr>\n",
       "      <th>pressure</th>\n",
       "      <th>level</th>\n",
       "      <th></th>\n",
       "      <th></th>\n",
       "      <th></th>\n",
       "    </tr>\n",
       "  </thead>\n",
       "  <tbody>\n",
       "    <tr>\n",
       "      <th>0.0000</th>\n",
       "      <th>1</th>\n",
       "      <td>-17.738220</td>\n",
       "      <td>0.000000</td>\n",
       "      <td>-17.738220</td>\n",
       "    </tr>\n",
       "    <tr>\n",
       "      <th>1.0685</th>\n",
       "      <th>24</th>\n",
       "      <td>-17.900548</td>\n",
       "      <td>0.889380</td>\n",
       "      <td>-17.011168</td>\n",
       "    </tr>\n",
       "    <tr>\n",
       "      <th>1013.0000</th>\n",
       "      <th>76</th>\n",
       "      <td>-43.964837</td>\n",
       "      <td>43.642378</td>\n",
       "      <td>-0.322459</td>\n",
       "    </tr>\n",
       "  </tbody>\n",
       "</table>\n",
       "</div>"
      ],
      "text/plain": [
       "                      flug       fldg      fnetg\n",
       "pressure  level                                 \n",
       "0.0000    1     -17.738220   0.000000 -17.738220\n",
       "1.0685    24    -17.900548   0.889380 -17.011168\n",
       "1013.0000 76    -43.964837  43.642378  -0.322459"
      ]
     },
     "metadata": {},
     "output_type": "display_data"
    },
    {
     "name": "stdout",
     "output_type": "stream",
     "text": [
      "Table. Fluxes. CRD\n"
     ]
    },
    {
     "data": {
      "text/html": [
       "<div>\n",
       "<style scoped>\n",
       "    .dataframe tbody tr th:only-of-type {\n",
       "        vertical-align: middle;\n",
       "    }\n",
       "\n",
       "    .dataframe tbody tr th {\n",
       "        vertical-align: top;\n",
       "    }\n",
       "\n",
       "    .dataframe thead th {\n",
       "        text-align: right;\n",
       "    }\n",
       "</style>\n",
       "<table border=\"1\" class=\"dataframe\">\n",
       "  <thead>\n",
       "    <tr style=\"text-align: right;\">\n",
       "      <th></th>\n",
       "      <th></th>\n",
       "      <th>flug</th>\n",
       "      <th>fldg</th>\n",
       "      <th>fnetg</th>\n",
       "    </tr>\n",
       "    <tr>\n",
       "      <th>pressure</th>\n",
       "      <th>level</th>\n",
       "      <th></th>\n",
       "      <th></th>\n",
       "      <th></th>\n",
       "    </tr>\n",
       "  </thead>\n",
       "  <tbody>\n",
       "    <tr>\n",
       "      <th>0.0000</th>\n",
       "      <th>1</th>\n",
       "      <td>-17.530033</td>\n",
       "      <td>0.000000</td>\n",
       "      <td>-17.530033</td>\n",
       "    </tr>\n",
       "    <tr>\n",
       "      <th>1.0685</th>\n",
       "      <th>24</th>\n",
       "      <td>-17.698354</td>\n",
       "      <td>0.905701</td>\n",
       "      <td>-16.792652</td>\n",
       "    </tr>\n",
       "    <tr>\n",
       "      <th>1013.0000</th>\n",
       "      <th>76</th>\n",
       "      <td>-43.964837</td>\n",
       "      <td>43.696758</td>\n",
       "      <td>-0.268080</td>\n",
       "    </tr>\n",
       "  </tbody>\n",
       "</table>\n",
       "</div>"
      ],
      "text/plain": [
       "                      flug       fldg      fnetg\n",
       "pressure  level                                 \n",
       "0.0000    1     -17.530033   0.000000 -17.530033\n",
       "1.0685    24    -17.698354   0.905701 -16.792652\n",
       "1013.0000 76    -43.964837  43.696758  -0.268080"
      ]
     },
     "metadata": {},
     "output_type": "display_data"
    },
    {
     "name": "stdout",
     "output_type": "stream",
     "text": [
      "Table. Fluxes. WGT igg=10 wgt_flux=1\n"
     ]
    },
    {
     "data": {
      "text/html": [
       "<div>\n",
       "<style scoped>\n",
       "    .dataframe tbody tr th:only-of-type {\n",
       "        vertical-align: middle;\n",
       "    }\n",
       "\n",
       "    .dataframe tbody tr th {\n",
       "        vertical-align: top;\n",
       "    }\n",
       "\n",
       "    .dataframe thead th {\n",
       "        text-align: right;\n",
       "    }\n",
       "</style>\n",
       "<table border=\"1\" class=\"dataframe\">\n",
       "  <thead>\n",
       "    <tr style=\"text-align: right;\">\n",
       "      <th></th>\n",
       "      <th></th>\n",
       "      <th>flug</th>\n",
       "      <th>fldg</th>\n",
       "      <th>fnetg</th>\n",
       "    </tr>\n",
       "    <tr>\n",
       "      <th>pressure</th>\n",
       "      <th>level</th>\n",
       "      <th></th>\n",
       "      <th></th>\n",
       "      <th></th>\n",
       "    </tr>\n",
       "  </thead>\n",
       "  <tbody>\n",
       "    <tr>\n",
       "      <th>1.000000e-08</th>\n",
       "      <th>1</th>\n",
       "      <td>-17.435557</td>\n",
       "      <td>0.000182</td>\n",
       "      <td>-17.435375</td>\n",
       "    </tr>\n",
       "    <tr>\n",
       "      <th>1.068500e+00</th>\n",
       "      <th>24</th>\n",
       "      <td>-17.599147</td>\n",
       "      <td>0.892785</td>\n",
       "      <td>-16.706362</td>\n",
       "    </tr>\n",
       "    <tr>\n",
       "      <th>1.013000e+03</th>\n",
       "      <th>76</th>\n",
       "      <td>-43.964840</td>\n",
       "      <td>43.705010</td>\n",
       "      <td>-0.259830</td>\n",
       "    </tr>\n",
       "  </tbody>\n",
       "</table>\n",
       "</div>"
      ],
      "text/plain": [
       "                         flug       fldg      fnetg\n",
       "pressure     level                                 \n",
       "1.000000e-08 1     -17.435557   0.000182 -17.435375\n",
       "1.068500e+00 24    -17.599147   0.892785 -16.706362\n",
       "1.013000e+03 76    -43.964840  43.705010  -0.259830"
      ]
     },
     "metadata": {},
     "output_type": "display_data"
    },
    {
     "name": "stdout",
     "output_type": "stream",
     "text": [
      "Table. Fluxes. CLIRAD\n"
     ]
    },
    {
     "data": {
      "text/html": [
       "<div>\n",
       "<style scoped>\n",
       "    .dataframe tbody tr th:only-of-type {\n",
       "        vertical-align: middle;\n",
       "    }\n",
       "\n",
       "    .dataframe tbody tr th {\n",
       "        vertical-align: top;\n",
       "    }\n",
       "\n",
       "    .dataframe thead th {\n",
       "        text-align: right;\n",
       "    }\n",
       "</style>\n",
       "<table border=\"1\" class=\"dataframe\">\n",
       "  <thead>\n",
       "    <tr style=\"text-align: right;\">\n",
       "      <th></th>\n",
       "      <th></th>\n",
       "      <th>flug</th>\n",
       "      <th>fldg</th>\n",
       "      <th>fnetg</th>\n",
       "    </tr>\n",
       "    <tr>\n",
       "      <th>pressure</th>\n",
       "      <th>level</th>\n",
       "      <th></th>\n",
       "      <th></th>\n",
       "      <th></th>\n",
       "    </tr>\n",
       "  </thead>\n",
       "  <tbody>\n",
       "    <tr>\n",
       "      <th>0.0000</th>\n",
       "      <th>1</th>\n",
       "      <td>0.208187</td>\n",
       "      <td>0.000000</td>\n",
       "      <td>0.208187</td>\n",
       "    </tr>\n",
       "    <tr>\n",
       "      <th>1.0685</th>\n",
       "      <th>24</th>\n",
       "      <td>0.202194</td>\n",
       "      <td>0.016322</td>\n",
       "      <td>0.218516</td>\n",
       "    </tr>\n",
       "    <tr>\n",
       "      <th>1013.0000</th>\n",
       "      <th>76</th>\n",
       "      <td>0.000000</td>\n",
       "      <td>0.054380</td>\n",
       "      <td>0.054380</td>\n",
       "    </tr>\n",
       "  </tbody>\n",
       "</table>\n",
       "</div>"
      ],
      "text/plain": [
       "                     flug      fldg     fnetg\n",
       "pressure  level                              \n",
       "0.0000    1      0.208187  0.000000  0.208187\n",
       "1.0685    24     0.202194  0.016322  0.218516\n",
       "1013.0000 76     0.000000  0.054380  0.054380"
      ]
     },
     "metadata": {},
     "output_type": "display_data"
    },
    {
     "name": "stdout",
     "output_type": "stream",
     "text": [
      "Table. Fluxes. (WGT igg=10 wgt_flux=1) - (CRD)\n"
     ]
    },
    {
     "data": {
      "text/html": [
       "<div>\n",
       "<style scoped>\n",
       "    .dataframe tbody tr th:only-of-type {\n",
       "        vertical-align: middle;\n",
       "    }\n",
       "\n",
       "    .dataframe tbody tr th {\n",
       "        vertical-align: top;\n",
       "    }\n",
       "\n",
       "    .dataframe thead th {\n",
       "        text-align: right;\n",
       "    }\n",
       "</style>\n",
       "<table border=\"1\" class=\"dataframe\">\n",
       "  <thead>\n",
       "    <tr style=\"text-align: right;\">\n",
       "      <th></th>\n",
       "      <th></th>\n",
       "      <th>flug</th>\n",
       "      <th>fldg</th>\n",
       "      <th>fnetg</th>\n",
       "    </tr>\n",
       "    <tr>\n",
       "      <th>pressure</th>\n",
       "      <th>level</th>\n",
       "      <th></th>\n",
       "      <th></th>\n",
       "      <th></th>\n",
       "    </tr>\n",
       "  </thead>\n",
       "  <tbody>\n",
       "    <tr>\n",
       "      <th>0.0000</th>\n",
       "      <th>1</th>\n",
       "      <td>0.302663</td>\n",
       "      <td>0.000182</td>\n",
       "      <td>0.302845</td>\n",
       "    </tr>\n",
       "    <tr>\n",
       "      <th>1.0685</th>\n",
       "      <th>24</th>\n",
       "      <td>0.301401</td>\n",
       "      <td>0.003405</td>\n",
       "      <td>0.304806</td>\n",
       "    </tr>\n",
       "    <tr>\n",
       "      <th>1013.0000</th>\n",
       "      <th>76</th>\n",
       "      <td>-0.000003</td>\n",
       "      <td>0.062632</td>\n",
       "      <td>0.062630</td>\n",
       "    </tr>\n",
       "  </tbody>\n",
       "</table>\n",
       "</div>"
      ],
      "text/plain": [
       "                     flug      fldg     fnetg\n",
       "pressure  level                              \n",
       "0.0000    1      0.302663  0.000182  0.302845\n",
       "1.0685    24     0.301401  0.003405  0.304806\n",
       "1013.0000 76    -0.000003  0.062632  0.062630"
      ]
     },
     "metadata": {},
     "output_type": "display_data"
    },
    {
     "name": "stdout",
     "output_type": "stream",
     "text": [
      "Table. Fluxes. (CLIRAD) - (CRD)\n"
     ]
    },
    {
     "data": {
      "text/html": [
       "<a id=\"Best-fit_Parameters\"></a>"
      ],
      "text/plain": [
       "<IPython.core.display.HTML object>"
      ]
     },
     "metadata": {},
     "output_type": "display_data"
    },
    {
     "data": {
      "text/markdown": [
       "# Best-fit Parameters"
      ],
      "text/plain": [
       "<IPython.core.display.Markdown object>"
      ]
     },
     "metadata": {},
     "output_type": "display_data"
    },
    {
     "name": "stdout",
     "output_type": "stream",
     "text": [
      "Best-fit values for each (gas, band)\n",
      "------------------------------------\n",
      "o h2o band3b\n",
      "  atmpro = trp\n",
      "  band = 3b\n",
      "  commitnumber = a06b618\n",
      "  conc = None\n",
      "  dv = 0.001\n",
      "  klin = 1e-24\n",
      "  molecule = h2o\n",
      "  ng_adju = [0]\n",
      "  ng_refs = [6]\n",
      "  nv = 1000\n",
      "  option_compute_btable = 0\n",
      "  option_compute_ktable = 1\n",
      "  option_wgt_flux = 1\n",
      "  option_wgt_k = 1\n",
      "  ref_pts = [(600, 250)]\n",
      "  tsfc = 294\n",
      "  vmax = 720\n",
      "  vmin = 620\n",
      "  w_diffuse = [(1.66, 1.66, 1.66, 1.55, 1.5, 1.66)]\n",
      "  wgt = [(0.8, 0.8, 0.8, 0.6, 0.6, 0.9)]\n",
      "o co2 band3b\n",
      "  atmpro = mls\n",
      "  band = 3b\n",
      "  commitnumber = a06b618\n",
      "  conc = 0.0004\n",
      "  dv = 0.001\n",
      "  klin = 0\n",
      "  molecule = co2\n",
      "  ng_adju = [0, 0]\n",
      "  ng_refs = [5, 2]\n",
      "  nv = 1000\n",
      "  option_compute_btable = 0\n",
      "  option_compute_ktable = 1\n",
      "  option_wgt_flux = 1\n",
      "  option_wgt_k = 1\n",
      "  ref_pts = [(1, 250), (10, 250)]\n",
      "  tsfc = 294\n",
      "  vmax = 720\n",
      "  vmin = 620\n",
      "  w_diffuse = [(1.66, 1.66, 1.66, 1.66, 1.66), (1.66, 1.66)]\n",
      "  wgt = [(0, 0.6, 0.5, 0.7, 0.8), (0.8, 0.7)]\n"
     ]
    }
   ],
   "source": [
    "script()"
   ]
  },
  {
   "cell_type": "code",
   "execution_count": 13,
   "metadata": {
    "collapsed": true
   },
   "outputs": [
    {
     "data": {
      "text/html": [
       "<script>\n",
       "code_show=true; \n",
       "function code_toggle() {\n",
       " if (code_show){\n",
       " $('div.input').hide();\n",
       " } else {\n",
       " $('div.input').show();\n",
       " }\n",
       " code_show = !code_show\n",
       "} \n",
       "$( document ).ready(code_toggle);\n",
       "</script>\n",
       "<form action=\"javascript:code_toggle()\"><input type=\"submit\" value=\"Click here to toggle on/off the raw code.\"></form>"
      ],
      "text/plain": [
       "<IPython.core.display.HTML object>"
      ]
     },
     "execution_count": 13,
     "metadata": {},
     "output_type": "execute_result"
    }
   ],
   "source": [
    "display.HTML('''<script>\n",
    "code_show=true; \n",
    "function code_toggle() {\n",
    " if (code_show){\n",
    " $('div.input').hide();\n",
    " } else {\n",
    " $('div.input').show();\n",
    " }\n",
    " code_show = !code_show\n",
    "} \n",
    "$( document ).ready(code_toggle);\n",
    "</script>\n",
    "<form action=\"javascript:code_toggle()\"><input type=\"submit\" value=\"Click here to toggle on/off the raw code.\"></form>''')"
   ]
  }
 ],
 "metadata": {
  "kernelspec": {
   "display_name": "Python 3",
   "language": "python",
   "name": "python3"
  },
  "language_info": {
   "codemirror_mode": {
    "name": "ipython",
    "version": 3
   },
   "file_extension": ".py",
   "mimetype": "text/x-python",
   "name": "python",
   "nbconvert_exporter": "python",
   "pygments_lexer": "ipython3",
   "version": "3.6.1"
  }
 },
 "nbformat": 4,
 "nbformat_minor": 2
}
