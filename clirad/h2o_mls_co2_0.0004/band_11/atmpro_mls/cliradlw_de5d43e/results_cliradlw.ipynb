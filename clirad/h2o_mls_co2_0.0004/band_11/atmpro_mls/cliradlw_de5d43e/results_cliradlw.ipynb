{
 "cells": [
  {
   "cell_type": "code",
   "execution_count": 1,
   "metadata": {
    "collapsed": true
   },
   "outputs": [],
   "source": [
    "%matplotlib inline\n",
    "import os\n",
    "import re\n",
    "import io\n",
    "import itertools\n",
    "import pprint\n",
    "\n",
    "from bokeh.io import output_notebook, show\n",
    "from bokeh.layouts import gridplot\n",
    "from bokeh.plotting import figure\n",
    "from bokeh.models import Range1d, Legend\n",
    "from bokeh.palettes import all_palettes\n",
    "\n",
    "import matplotlib\n",
    "import matplotlib.pyplot as plt\n",
    "import numpy as np\n",
    "import pandas as pd\n",
    "import xarray as xr\n",
    "\n",
    "import climatools.lblnew.bestfit_params as bestfits\n",
    "from climatools.lblnew import setup_bestfit, setup_overlap\n",
    "import climatools.lblnew.pipeline as pipe_lblnew\n",
    "import climatools.cliradlw.setup as setup_cliradlw\n",
    "import climatools.cliradlw.pipeline as pipe_cliradlw\n",
    "\n",
    "import climatools.html.html as climahtml\n",
    "from climatools.lblnew.dataio import *\n",
    "from climatools.plot.plot import *\n",
    "\n",
    "\n",
    "import IPython.display as display"
   ]
  },
  {
   "cell_type": "code",
   "execution_count": 2,
   "metadata": {
    "collapsed": true
   },
   "outputs": [],
   "source": [
    "%run param.py"
   ]
  },
  {
   "cell_type": "code",
   "execution_count": 3,
   "metadata": {
    "collapsed": true
   },
   "outputs": [],
   "source": [
    "def load_output_file(path_csv):\n",
    "    '''\n",
    "    Load lblnew output .csv file to xarray.Dataset\n",
    "    \n",
    "    Parameters\n",
    "    ----------\n",
    "    path_csv: str\n",
    "              Path to the .csv file to be loaded.\n",
    "    ds: xarray.Dataset\n",
    "        Data in the input file in the form of an xarray.Dataset.\n",
    "    '''\n",
    "    toindex = ['band', 'pressure', 'igg', 'g']    \n",
    "    df = pd.read_csv(path_csv, sep=r'\\s+')\n",
    "    df = df.set_index([i for i in toindex if i in df.columns])\n",
    "    df = df.rename(columns={'sfu': 'flug',\n",
    "                            'sfd': 'fldg',\n",
    "                            'fnet': 'fnetg',\n",
    "                            'coolr': 'coolrg'})\n",
    "    ds = xr.Dataset.from_dataframe(df)\n",
    "\n",
    "    for l in ('level', 'layer'):\n",
    "        if l in ds.data_vars:\n",
    "            if len(ds[l].dims) > 1:\n",
    "                surface = {d: 0 for d in ds.dims if d != 'pressure'}\n",
    "                coord_level = ds[l][surface]\n",
    "                ds.coords[l] = ('pressure', coord_level)\n",
    "            else:\n",
    "                ds.coords[l] = ('pressure', ds[l])\n",
    "    \n",
    "    return ds"
   ]
  },
  {
   "cell_type": "code",
   "execution_count": 4,
   "metadata": {
    "collapsed": true
   },
   "outputs": [],
   "source": [
    "def lblnew_setup(param=None):\n",
    "    if 'ng_refs' in param:\n",
    "        return {'setup': setup_bestfit,\n",
    "                'fname_flux_crd': 'output_flux.dat',\n",
    "                'fname_cool_crd': 'output_coolr.dat',\n",
    "                'fname_flux_wgt': 'output_wfluxg.dat',\n",
    "                'fname_cool_wgt': 'output_wcoolrg.dat'}\n",
    "    else:\n",
    "        return {'setup': setup_overlap,\n",
    "                'fname_flux_crd': 'output_flux.dat',\n",
    "                'fname_cool_crd': 'output_coolr.dat',\n",
    "                'fname_flux_wgt': 'output_wflux.dat',\n",
    "                'fname_cool_wgt': 'output_wcoolr.dat'}\n",
    "\n",
    "    \n",
    "def load_lblnew_data(param):\n",
    "    \n",
    "    fname_dsname = [('fname_flux_crd', 'ds_flux_crd'),\n",
    "                    ('fname_cool_crd', 'ds_cool_crd'),\n",
    "                    ('fname_flux_wgt', 'ds_flux_wgt'),\n",
    "                    ('fname_cool_wgt', 'ds_cool_wgt')]\n",
    "    \n",
    "    d = lblnew_setup(param)\n",
    "    dir_fortran = pipe_lblnew.get_dir_case(param, setup=d['setup'])\n",
    "    \n",
    "    data_dict = {}\n",
    "    for fname, dsname in fname_dsname:\n",
    "        fpath = os.path.join(dir_fortran, d[fname])\n",
    "        data_dict[dsname] = load_output_file(fpath)\n",
    "    return data_dict\n",
    "    \n",
    "\n",
    "    \n",
    "    "
   ]
  },
  {
   "cell_type": "code",
   "execution_count": 5,
   "metadata": {
    "collapsed": true
   },
   "outputs": [
    {
     "name": "stdout",
     "output_type": "stream",
     "text": [
      "The history saving thread hit an unexpected error (OperationalError('database is locked',)).History will not be written to the database.\n"
     ]
    }
   ],
   "source": [
    "d = load_lblnew_data(PARAM_LBLNEW)\n",
    "\n",
    "DS_FLUX_CRD = d['ds_flux_crd']\n",
    "DS_COOL_CRD = d['ds_cool_crd']\n",
    "DS_FLUX_WGT = d['ds_flux_wgt']\n",
    "DS_COOL_WGT = d['ds_cool_wgt']"
   ]
  },
  {
   "cell_type": "code",
   "execution_count": 6,
   "metadata": {
    "collapsed": true
   },
   "outputs": [],
   "source": [
    "DIR_FORTRAN = pipe_cliradlw.get_fortran_dir(PARAM, \n",
    "                                            setup=setup_cliradlw)\n",
    "\n",
    "PATH_FLUX = os.path.join(DIR_FORTRAN, 'output_flux.dat')\n",
    "PATH_COOL = os.path.join(DIR_FORTRAN, 'output_coolr.dat')\n",
    "\n",
    "DS_FLUX = load_output_file(PATH_FLUX)\n",
    "DS_COOL = load_output_file(PATH_COOL)"
   ]
  },
  {
   "cell_type": "code",
   "execution_count": 7,
   "metadata": {
    "collapsed": true
   },
   "outputs": [
    {
     "data": {
      "text/html": [
       "\n",
       "    <div class=\"bk-root\">\n",
       "        <a href=\"https://bokeh.pydata.org\" target=\"_blank\" class=\"bk-logo bk-logo-small bk-logo-notebook\"></a>\n",
       "        <span id=\"1e9aba32-3fa8-4315-8adc-b762ed9cfe07\">Loading BokehJS ...</span>\n",
       "    </div>"
      ]
     },
     "metadata": {},
     "output_type": "display_data"
    },
    {
     "data": {
      "application/javascript": [
       "\n",
       "(function(root) {\n",
       "  function now() {\n",
       "    return new Date();\n",
       "  }\n",
       "\n",
       "  var force = true;\n",
       "\n",
       "  if (typeof (root._bokeh_onload_callbacks) === \"undefined\" || force === true) {\n",
       "    root._bokeh_onload_callbacks = [];\n",
       "    root._bokeh_is_loading = undefined;\n",
       "  }\n",
       "\n",
       "  var JS_MIME_TYPE = 'application/javascript';\n",
       "  var HTML_MIME_TYPE = 'text/html';\n",
       "  var EXEC_MIME_TYPE = 'application/vnd.bokehjs_exec.v0+json';\n",
       "  var CLASS_NAME = 'output_bokeh rendered_html';\n",
       "\n",
       "  /**\n",
       "   * Render data to the DOM node\n",
       "   */\n",
       "  function render(props, node) {\n",
       "    var script = document.createElement(\"script\");\n",
       "    node.appendChild(script);\n",
       "  }\n",
       "\n",
       "  /**\n",
       "   * Handle when an output is cleared or removed\n",
       "   */\n",
       "  function handleClearOutput(event, handle) {\n",
       "    var cell = handle.cell;\n",
       "\n",
       "    var id = cell.output_area._bokeh_element_id;\n",
       "    var server_id = cell.output_area._bokeh_server_id;\n",
       "    // Clean up Bokeh references\n",
       "    if (id !== undefined) {\n",
       "      Bokeh.index[id].model.document.clear();\n",
       "      delete Bokeh.index[id];\n",
       "    }\n",
       "\n",
       "    if (server_id !== undefined) {\n",
       "      // Clean up Bokeh references\n",
       "      var cmd = \"from bokeh.io.state import curstate; print(curstate().uuid_to_server['\" + server_id + \"'].get_sessions()[0].document.roots[0]._id)\";\n",
       "      cell.notebook.kernel.execute(cmd, {\n",
       "        iopub: {\n",
       "          output: function(msg) {\n",
       "            var element_id = msg.content.text.trim();\n",
       "            Bokeh.index[element_id].model.document.clear();\n",
       "            delete Bokeh.index[element_id];\n",
       "          }\n",
       "        }\n",
       "      });\n",
       "      // Destroy server and session\n",
       "      var cmd = \"import bokeh.io.notebook as ion; ion.destroy_server('\" + server_id + \"')\";\n",
       "      cell.notebook.kernel.execute(cmd);\n",
       "    }\n",
       "  }\n",
       "\n",
       "  /**\n",
       "   * Handle when a new output is added\n",
       "   */\n",
       "  function handleAddOutput(event, handle) {\n",
       "    var output_area = handle.output_area;\n",
       "    var output = handle.output;\n",
       "\n",
       "    // limit handleAddOutput to display_data with EXEC_MIME_TYPE content only\n",
       "    if ((output.output_type != \"display_data\") || (!output.data.hasOwnProperty(EXEC_MIME_TYPE))) {\n",
       "      return\n",
       "    }\n",
       "\n",
       "    var toinsert = output_area.element.find(\".\" + CLASS_NAME.split(' ')[0]);\n",
       "\n",
       "    if (output.metadata[EXEC_MIME_TYPE][\"id\"] !== undefined) {\n",
       "      toinsert[toinsert.length - 1].firstChild.textContent = output.data[JS_MIME_TYPE];\n",
       "      // store reference to embed id on output_area\n",
       "      output_area._bokeh_element_id = output.metadata[EXEC_MIME_TYPE][\"id\"];\n",
       "    }\n",
       "    if (output.metadata[EXEC_MIME_TYPE][\"server_id\"] !== undefined) {\n",
       "      var bk_div = document.createElement(\"div\");\n",
       "      bk_div.innerHTML = output.data[HTML_MIME_TYPE];\n",
       "      var script_attrs = bk_div.children[0].attributes;\n",
       "      for (var i = 0; i < script_attrs.length; i++) {\n",
       "        toinsert[toinsert.length - 1].firstChild.setAttribute(script_attrs[i].name, script_attrs[i].value);\n",
       "      }\n",
       "      // store reference to server id on output_area\n",
       "      output_area._bokeh_server_id = output.metadata[EXEC_MIME_TYPE][\"server_id\"];\n",
       "    }\n",
       "  }\n",
       "\n",
       "  function register_renderer(events, OutputArea) {\n",
       "\n",
       "    function append_mime(data, metadata, element) {\n",
       "      // create a DOM node to render to\n",
       "      var toinsert = this.create_output_subarea(\n",
       "        metadata,\n",
       "        CLASS_NAME,\n",
       "        EXEC_MIME_TYPE\n",
       "      );\n",
       "      this.keyboard_manager.register_events(toinsert);\n",
       "      // Render to node\n",
       "      var props = {data: data, metadata: metadata[EXEC_MIME_TYPE]};\n",
       "      render(props, toinsert[toinsert.length - 1]);\n",
       "      element.append(toinsert);\n",
       "      return toinsert\n",
       "    }\n",
       "\n",
       "    /* Handle when an output is cleared or removed */\n",
       "    events.on('clear_output.CodeCell', handleClearOutput);\n",
       "    events.on('delete.Cell', handleClearOutput);\n",
       "\n",
       "    /* Handle when a new output is added */\n",
       "    events.on('output_added.OutputArea', handleAddOutput);\n",
       "\n",
       "    /**\n",
       "     * Register the mime type and append_mime function with output_area\n",
       "     */\n",
       "    OutputArea.prototype.register_mime_type(EXEC_MIME_TYPE, append_mime, {\n",
       "      /* Is output safe? */\n",
       "      safe: true,\n",
       "      /* Index of renderer in `output_area.display_order` */\n",
       "      index: 0\n",
       "    });\n",
       "  }\n",
       "\n",
       "  // register the mime type if in Jupyter Notebook environment and previously unregistered\n",
       "  if (root.Jupyter !== undefined) {\n",
       "    var events = require('base/js/events');\n",
       "    var OutputArea = require('notebook/js/outputarea').OutputArea;\n",
       "\n",
       "    if (OutputArea.prototype.mime_types().indexOf(EXEC_MIME_TYPE) == -1) {\n",
       "      register_renderer(events, OutputArea);\n",
       "    }\n",
       "  }\n",
       "\n",
       "  \n",
       "  if (typeof (root._bokeh_timeout) === \"undefined\" || force === true) {\n",
       "    root._bokeh_timeout = Date.now() + 5000;\n",
       "    root._bokeh_failed_load = false;\n",
       "  }\n",
       "\n",
       "  var NB_LOAD_WARNING = {'data': {'text/html':\n",
       "     \"<div style='background-color: #fdd'>\\n\"+\n",
       "     \"<p>\\n\"+\n",
       "     \"BokehJS does not appear to have successfully loaded. If loading BokehJS from CDN, this \\n\"+\n",
       "     \"may be due to a slow or bad network connection. Possible fixes:\\n\"+\n",
       "     \"</p>\\n\"+\n",
       "     \"<ul>\\n\"+\n",
       "     \"<li>re-rerun `output_notebook()` to attempt to load from CDN again, or</li>\\n\"+\n",
       "     \"<li>use INLINE resources instead, as so:</li>\\n\"+\n",
       "     \"</ul>\\n\"+\n",
       "     \"<code>\\n\"+\n",
       "     \"from bokeh.resources import INLINE\\n\"+\n",
       "     \"output_notebook(resources=INLINE)\\n\"+\n",
       "     \"</code>\\n\"+\n",
       "     \"</div>\"}};\n",
       "\n",
       "  function display_loaded() {\n",
       "    var el = document.getElementById(\"1e9aba32-3fa8-4315-8adc-b762ed9cfe07\");\n",
       "    if (el != null) {\n",
       "      el.textContent = \"BokehJS is loading...\";\n",
       "    }\n",
       "    if (root.Bokeh !== undefined) {\n",
       "      if (el != null) {\n",
       "        el.textContent = \"BokehJS \" + root.Bokeh.version + \" successfully loaded.\";\n",
       "      }\n",
       "    } else if (Date.now() < root._bokeh_timeout) {\n",
       "      setTimeout(display_loaded, 100)\n",
       "    }\n",
       "  }\n",
       "\n",
       "\n",
       "  function run_callbacks() {\n",
       "    try {\n",
       "      root._bokeh_onload_callbacks.forEach(function(callback) { callback() });\n",
       "    }\n",
       "    finally {\n",
       "      delete root._bokeh_onload_callbacks\n",
       "    }\n",
       "    console.info(\"Bokeh: all callbacks have finished\");\n",
       "  }\n",
       "\n",
       "  function load_libs(js_urls, callback) {\n",
       "    root._bokeh_onload_callbacks.push(callback);\n",
       "    if (root._bokeh_is_loading > 0) {\n",
       "      console.log(\"Bokeh: BokehJS is being loaded, scheduling callback at\", now());\n",
       "      return null;\n",
       "    }\n",
       "    if (js_urls == null || js_urls.length === 0) {\n",
       "      run_callbacks();\n",
       "      return null;\n",
       "    }\n",
       "    console.log(\"Bokeh: BokehJS not loaded, scheduling load and callback at\", now());\n",
       "    root._bokeh_is_loading = js_urls.length;\n",
       "    for (var i = 0; i < js_urls.length; i++) {\n",
       "      var url = js_urls[i];\n",
       "      var s = document.createElement('script');\n",
       "      s.src = url;\n",
       "      s.async = false;\n",
       "      s.onreadystatechange = s.onload = function() {\n",
       "        root._bokeh_is_loading--;\n",
       "        if (root._bokeh_is_loading === 0) {\n",
       "          console.log(\"Bokeh: all BokehJS libraries loaded\");\n",
       "          run_callbacks()\n",
       "        }\n",
       "      };\n",
       "      s.onerror = function() {\n",
       "        console.warn(\"failed to load library \" + url);\n",
       "      };\n",
       "      console.log(\"Bokeh: injecting script tag for BokehJS library: \", url);\n",
       "      document.getElementsByTagName(\"head\")[0].appendChild(s);\n",
       "    }\n",
       "  };var element = document.getElementById(\"1e9aba32-3fa8-4315-8adc-b762ed9cfe07\");\n",
       "  if (element == null) {\n",
       "    console.log(\"Bokeh: ERROR: autoload.js configured with elementid '1e9aba32-3fa8-4315-8adc-b762ed9cfe07' but no matching script tag was found. \")\n",
       "    return false;\n",
       "  }\n",
       "\n",
       "  var js_urls = [\"https://cdn.pydata.org/bokeh/release/bokeh-0.12.16.min.js\", \"https://cdn.pydata.org/bokeh/release/bokeh-widgets-0.12.16.min.js\", \"https://cdn.pydata.org/bokeh/release/bokeh-tables-0.12.16.min.js\", \"https://cdn.pydata.org/bokeh/release/bokeh-gl-0.12.16.min.js\"];\n",
       "\n",
       "  var inline_js = [\n",
       "    function(Bokeh) {\n",
       "      Bokeh.set_log_level(\"info\");\n",
       "    },\n",
       "    \n",
       "    function(Bokeh) {\n",
       "      \n",
       "    },\n",
       "    function(Bokeh) {\n",
       "      console.log(\"Bokeh: injecting CSS: https://cdn.pydata.org/bokeh/release/bokeh-0.12.16.min.css\");\n",
       "      Bokeh.embed.inject_css(\"https://cdn.pydata.org/bokeh/release/bokeh-0.12.16.min.css\");\n",
       "      console.log(\"Bokeh: injecting CSS: https://cdn.pydata.org/bokeh/release/bokeh-widgets-0.12.16.min.css\");\n",
       "      Bokeh.embed.inject_css(\"https://cdn.pydata.org/bokeh/release/bokeh-widgets-0.12.16.min.css\");\n",
       "      console.log(\"Bokeh: injecting CSS: https://cdn.pydata.org/bokeh/release/bokeh-tables-0.12.16.min.css\");\n",
       "      Bokeh.embed.inject_css(\"https://cdn.pydata.org/bokeh/release/bokeh-tables-0.12.16.min.css\");\n",
       "    }\n",
       "  ];\n",
       "\n",
       "  function run_inline_js() {\n",
       "    \n",
       "    if ((root.Bokeh !== undefined) || (force === true)) {\n",
       "      for (var i = 0; i < inline_js.length; i++) {\n",
       "        inline_js[i].call(root, root.Bokeh);\n",
       "      }if (force === true) {\n",
       "        display_loaded();\n",
       "      }} else if (Date.now() < root._bokeh_timeout) {\n",
       "      setTimeout(run_inline_js, 100);\n",
       "    } else if (!root._bokeh_failed_load) {\n",
       "      console.log(\"Bokeh: BokehJS failed to load within specified timeout.\");\n",
       "      root._bokeh_failed_load = true;\n",
       "    } else if (force !== true) {\n",
       "      var cell = $(document.getElementById(\"1e9aba32-3fa8-4315-8adc-b762ed9cfe07\")).parents('.cell').data().cell;\n",
       "      cell.output_area.append_execute_result(NB_LOAD_WARNING)\n",
       "    }\n",
       "\n",
       "  }\n",
       "\n",
       "  if (root._bokeh_is_loading === 0) {\n",
       "    console.log(\"Bokeh: BokehJS loaded, going straight to plotting\");\n",
       "    run_inline_js();\n",
       "  } else {\n",
       "    load_libs(js_urls, function() {\n",
       "      console.log(\"Bokeh: BokehJS plotting callback run at\", now());\n",
       "      run_inline_js();\n",
       "    });\n",
       "  }\n",
       "}(window));"
      ],
      "application/vnd.bokehjs_load.v0+json": "\n(function(root) {\n  function now() {\n    return new Date();\n  }\n\n  var force = true;\n\n  if (typeof (root._bokeh_onload_callbacks) === \"undefined\" || force === true) {\n    root._bokeh_onload_callbacks = [];\n    root._bokeh_is_loading = undefined;\n  }\n\n  \n\n  \n  if (typeof (root._bokeh_timeout) === \"undefined\" || force === true) {\n    root._bokeh_timeout = Date.now() + 5000;\n    root._bokeh_failed_load = false;\n  }\n\n  var NB_LOAD_WARNING = {'data': {'text/html':\n     \"<div style='background-color: #fdd'>\\n\"+\n     \"<p>\\n\"+\n     \"BokehJS does not appear to have successfully loaded. If loading BokehJS from CDN, this \\n\"+\n     \"may be due to a slow or bad network connection. Possible fixes:\\n\"+\n     \"</p>\\n\"+\n     \"<ul>\\n\"+\n     \"<li>re-rerun `output_notebook()` to attempt to load from CDN again, or</li>\\n\"+\n     \"<li>use INLINE resources instead, as so:</li>\\n\"+\n     \"</ul>\\n\"+\n     \"<code>\\n\"+\n     \"from bokeh.resources import INLINE\\n\"+\n     \"output_notebook(resources=INLINE)\\n\"+\n     \"</code>\\n\"+\n     \"</div>\"}};\n\n  function display_loaded() {\n    var el = document.getElementById(\"1e9aba32-3fa8-4315-8adc-b762ed9cfe07\");\n    if (el != null) {\n      el.textContent = \"BokehJS is loading...\";\n    }\n    if (root.Bokeh !== undefined) {\n      if (el != null) {\n        el.textContent = \"BokehJS \" + root.Bokeh.version + \" successfully loaded.\";\n      }\n    } else if (Date.now() < root._bokeh_timeout) {\n      setTimeout(display_loaded, 100)\n    }\n  }\n\n\n  function run_callbacks() {\n    try {\n      root._bokeh_onload_callbacks.forEach(function(callback) { callback() });\n    }\n    finally {\n      delete root._bokeh_onload_callbacks\n    }\n    console.info(\"Bokeh: all callbacks have finished\");\n  }\n\n  function load_libs(js_urls, callback) {\n    root._bokeh_onload_callbacks.push(callback);\n    if (root._bokeh_is_loading > 0) {\n      console.log(\"Bokeh: BokehJS is being loaded, scheduling callback at\", now());\n      return null;\n    }\n    if (js_urls == null || js_urls.length === 0) {\n      run_callbacks();\n      return null;\n    }\n    console.log(\"Bokeh: BokehJS not loaded, scheduling load and callback at\", now());\n    root._bokeh_is_loading = js_urls.length;\n    for (var i = 0; i < js_urls.length; i++) {\n      var url = js_urls[i];\n      var s = document.createElement('script');\n      s.src = url;\n      s.async = false;\n      s.onreadystatechange = s.onload = function() {\n        root._bokeh_is_loading--;\n        if (root._bokeh_is_loading === 0) {\n          console.log(\"Bokeh: all BokehJS libraries loaded\");\n          run_callbacks()\n        }\n      };\n      s.onerror = function() {\n        console.warn(\"failed to load library \" + url);\n      };\n      console.log(\"Bokeh: injecting script tag for BokehJS library: \", url);\n      document.getElementsByTagName(\"head\")[0].appendChild(s);\n    }\n  };var element = document.getElementById(\"1e9aba32-3fa8-4315-8adc-b762ed9cfe07\");\n  if (element == null) {\n    console.log(\"Bokeh: ERROR: autoload.js configured with elementid '1e9aba32-3fa8-4315-8adc-b762ed9cfe07' but no matching script tag was found. \")\n    return false;\n  }\n\n  var js_urls = [\"https://cdn.pydata.org/bokeh/release/bokeh-0.12.16.min.js\", \"https://cdn.pydata.org/bokeh/release/bokeh-widgets-0.12.16.min.js\", \"https://cdn.pydata.org/bokeh/release/bokeh-tables-0.12.16.min.js\", \"https://cdn.pydata.org/bokeh/release/bokeh-gl-0.12.16.min.js\"];\n\n  var inline_js = [\n    function(Bokeh) {\n      Bokeh.set_log_level(\"info\");\n    },\n    \n    function(Bokeh) {\n      \n    },\n    function(Bokeh) {\n      console.log(\"Bokeh: injecting CSS: https://cdn.pydata.org/bokeh/release/bokeh-0.12.16.min.css\");\n      Bokeh.embed.inject_css(\"https://cdn.pydata.org/bokeh/release/bokeh-0.12.16.min.css\");\n      console.log(\"Bokeh: injecting CSS: https://cdn.pydata.org/bokeh/release/bokeh-widgets-0.12.16.min.css\");\n      Bokeh.embed.inject_css(\"https://cdn.pydata.org/bokeh/release/bokeh-widgets-0.12.16.min.css\");\n      console.log(\"Bokeh: injecting CSS: https://cdn.pydata.org/bokeh/release/bokeh-tables-0.12.16.min.css\");\n      Bokeh.embed.inject_css(\"https://cdn.pydata.org/bokeh/release/bokeh-tables-0.12.16.min.css\");\n    }\n  ];\n\n  function run_inline_js() {\n    \n    if ((root.Bokeh !== undefined) || (force === true)) {\n      for (var i = 0; i < inline_js.length; i++) {\n        inline_js[i].call(root, root.Bokeh);\n      }if (force === true) {\n        display_loaded();\n      }} else if (Date.now() < root._bokeh_timeout) {\n      setTimeout(run_inline_js, 100);\n    } else if (!root._bokeh_failed_load) {\n      console.log(\"Bokeh: BokehJS failed to load within specified timeout.\");\n      root._bokeh_failed_load = true;\n    } else if (force !== true) {\n      var cell = $(document.getElementById(\"1e9aba32-3fa8-4315-8adc-b762ed9cfe07\")).parents('.cell').data().cell;\n      cell.output_area.append_execute_result(NB_LOAD_WARNING)\n    }\n\n  }\n\n  if (root._bokeh_is_loading === 0) {\n    console.log(\"Bokeh: BokehJS loaded, going straight to plotting\");\n    run_inline_js();\n  } else {\n    load_libs(js_urls, function() {\n      console.log(\"Bokeh: BokehJS plotting callback run at\", now());\n      run_inline_js();\n    });\n  }\n}(window));"
     },
     "metadata": {},
     "output_type": "display_data"
    }
   ],
   "source": [
    "output_notebook()"
   ]
  },
  {
   "cell_type": "code",
   "execution_count": 8,
   "metadata": {
    "collapsed": true
   },
   "outputs": [],
   "source": [
    "def fmt_cool(ds_in):\n",
    "    ds = ds_in.copy(deep=True)\n",
    "    if 'igg' in ds.dims:\n",
    "        ds = ds.sel(igg=1)\n",
    "\n",
    "    if 'g' in ds.dims:\n",
    "        ds = ds.sum('g')\n",
    "            \n",
    "    if 'band' in ds.dims:\n",
    "        try:\n",
    "            ds = ds.squeeze('band')\n",
    "        except ValueError:\n",
    "            ds = ds.sum('band')\n",
    "                \n",
    "    return ds['coolrg']\n",
    "\n",
    "\n",
    "def pltdata_cooling_1(ds_cool=None,\n",
    "                      ds_cool_crd=None, ds_cool_wgt=None):\n",
    "    \n",
    "\n",
    "\n",
    "    colors = all_palettes['Set1'][4]\n",
    "    data = [{'label': 'CLIRAD `coolr_bands`',\n",
    "             'srs': fmt_cool(ds_cool),\n",
    "             'line_dash': 'dashed', 'line_width': 5,\n",
    "             'color': colors[0], 'alpha': .6},\n",
    "            {'label': 'CRD',\n",
    "             'srs': fmt_cool(ds_cool_crd),\n",
    "             'line_dash': 'solid', 'line_width': 1.5,\n",
    "             'marker': 'circle', 'marker_size': 5,\n",
    "             'color': colors[2], 'alpha': 1,},\n",
    "            {'label': 'WGT igg=10 wgt_flux=2',\n",
    "             'srs': fmt_cool(ds_cool_wgt),\n",
    "             'line_dash': 'solid', 'line_width': 3,\n",
    "             'marker': 'square', 'marker_size': 5,\n",
    "             'color': colors[3], 'alpha': .6}]\n",
    "    return data\n",
    "\n",
    "\n",
    "def nice_xlims(pltdata=None, prange=None):\n",
    "    \n",
    "    def get_slice(srs):\n",
    "        return srs.sel(pressure=slice(*prange))\n",
    "    \n",
    "    srss = [d['srs'] for d in pltdata]\n",
    "    vmin = min([get_slice(srs).min() for srs in srss])\n",
    "    vmax = max([get_slice(srs).max() for srs in srss])\n",
    "    dv = (vmax - vmin) * .01\n",
    "    return float(vmin - dv), float(vmax + dv)\n",
    "    \n",
    "\n",
    "def plt_cooling_bokeh(pltdata=None):\n",
    "    '''\n",
    "    Plot a list of cooling rate profiles using bokeh.\n",
    "    '''\n",
    "    ymin = 1e-2 \n",
    "    ymax = 1020 \n",
    "        \n",
    "    p1 = figure(title=\"Linear pressure scale\", \n",
    "                plot_width=400)        \n",
    "    xmin, xmax = nice_xlims(pltdata, prange=(50, 1050))\n",
    "    for d in pltdata:\n",
    "        if 'marker' in d:\n",
    "            getattr(p1, d['marker'])(d['srs'].values, \n",
    "                    d['srs'].coords['pressure'].values,\n",
    "                    color=d['color'], alpha=.7)\n",
    "        p1.line(d['srs'].values, \n",
    "                d['srs'].coords['pressure'].values,\n",
    "                color=d['color'], alpha=d['alpha'], \n",
    "                line_width=d['line_width'], line_dash=d['line_dash'])\n",
    "    \n",
    "    p1.y_range = Range1d(ymax, ymin)\n",
    "    p1.yaxis.axis_label = 'pressure [mb]'   \n",
    "    p1.x_range = Range1d(xmin, xmax)\n",
    "    p1.xaxis.axis_label = 'cooling rate [K/day]'\n",
    "            \n",
    "    p2 = figure(title='Log pressure scale', y_axis_type='log',\n",
    "                plot_width=560)\n",
    "    xmin, xmax = nice_xlims(pltdata, prange=(.01, 200))\n",
    "    \n",
    "    rs = []\n",
    "    for d in pltdata:\n",
    "        rd = []\n",
    "        if 'marker' in d:\n",
    "            r_mark = getattr(p2, d['marker'])(d['srs'].values, \n",
    "                        d['srs'].coords['pressure'].values,\n",
    "                        color=d['color'], alpha=.7)\n",
    "            rd.append(r_mark)\n",
    "        r_line = p2.line(d['srs'].values, \n",
    "                    d['srs'].coords['pressure'].values,\n",
    "                    color=d['color'], alpha=d['alpha'], \n",
    "                    line_width=d['line_width'], line_dash=d['line_dash'])\n",
    "        rd.append(r_line)\n",
    "      \n",
    "        rs.append(rd)\n",
    "        \n",
    "    p2.y_range = Range1d(ymax, ymin)  \n",
    "    p2.yaxis.axis_label = 'pressure [mb]'\n",
    "    \n",
    "    p2.x_range = Range1d(xmin, xmax)\n",
    "    p2.xaxis.axis_label = 'cooling rate [K/day]'\n",
    "    \n",
    "    items = [(d['label'], r) for r, d in zip(rs, pltdata)]\n",
    "    legend = Legend(items=items, location=(10, -30))\n",
    "    legend.label_text_font_size = '8pt'\n",
    "    \n",
    "    p2.add_layout(legend, 'right')  \n",
    "    \n",
    "    show(gridplot(p1, p2, ncols=2, plot_height=500))\n",
    "    \n",
    "\n",
    "def script_plt_cooling():\n",
    "    pltdata = pltdata_cooling_1(\n",
    "        ds_cool=DS_COOL,\n",
    "        ds_cool_crd=DS_COOL_CRD,\n",
    "        ds_cool_wgt=DS_COOL_WGT)\n",
    "    plt_cooling_bokeh(pltdata=pltdata)\n",
    "    print('''FIGURE. Cooling rate profiles.''')"
   ]
  },
  {
   "cell_type": "code",
   "execution_count": 9,
   "metadata": {
    "collapsed": true
   },
   "outputs": [],
   "source": [
    "def fmt_flux(ds_in):\n",
    "    ds = ds_in.copy(deep=True)\n",
    "    \n",
    "    for l in ('level', 'layer'):\n",
    "        if l in ds.data_vars:\n",
    "            if len(ds[l].dims) > 1:\n",
    "                surface = {d: 0 for d in ds.dims if d != 'pressure'}\n",
    "                coord_level = ds[l][surface]\n",
    "                ds.coords[l] = ('pressure', coord_level)\n",
    "            else:\n",
    "                ds.coords[l] = ('pressure', ds[l])\n",
    "        \n",
    "    ds = ds.isel(pressure=[0, 23, -1])\n",
    "        \n",
    "    if 'igg' in ds.dims:\n",
    "        ds = ds.sel(igg=[1])\n",
    "        ds = ds.squeeze('igg').drop('igg')\n",
    "    \n",
    "    if 'g' in ds.dims:\n",
    "        ds = ds.sum('g')\n",
    "            \n",
    "    if 'band' in ds.dims:\n",
    "        try:\n",
    "            ds = ds.squeeze('band').drop('band')\n",
    "        except ValueError:\n",
    "            ds = ds.sum('band')\n",
    "                \n",
    "    df = ds.to_dataframe()\n",
    "    df = df.set_index('level', append=True)               \n",
    "    return df\n",
    "\n",
    "\n",
    "def tbdata_flux(ds_flux=None, ds_flux_crd=None, ds_flux_wgt=None):\n",
    "    ilevels = [0, 23, -1]\n",
    "            \n",
    "    benchmark = {'label': 'CRD',\n",
    "                 'df': fmt_flux(ds_flux_crd)}\n",
    "    \n",
    "    tbs = [{'label': 'WGT igg=10 wgt_flux=1',\n",
    "            'df': fmt_flux(ds_flux_wgt)},\n",
    "           {'label': 'CLIRAD',\n",
    "            'df': fmt_flux(ds_flux)}]\n",
    "    \n",
    "    data = {'benchmark': benchmark, 'others': tbs}\n",
    "    return data\n",
    "\n",
    "\n",
    "def tb_flux(tbdata=None):\n",
    "    benchmark = tbdata['benchmark']\n",
    "    others = tbdata['others']\n",
    "    \n",
    "    def show_tb(d=None):\n",
    "        display.display(d['df'])\n",
    "        print('Table.', 'Fluxes.', d['label'])\n",
    "        \n",
    "    def show_tbdiff(d0=None, d=None):\n",
    "        df = d['df']\n",
    "        df.index = d0['df'].index\n",
    "        display.display(df - d0['df'])\n",
    "        print('Table.', 'Fluxes.', \n",
    "              '({}) - ({})'.format(d['label'], d0['label']))\n",
    "        \n",
    "    show_tb(benchmark)\n",
    "    for d in others:\n",
    "        show_tb(d)\n",
    "        \n",
    "    for d in others:\n",
    "        show_tbdiff(d=d, d0=benchmark)\n",
    "        \n",
    "        \n",
    "def script_tb_flux():\n",
    "    data = tbdata_flux(ds_flux=DS_FLUX,\n",
    "                       ds_flux_crd=DS_FLUX_CRD,\n",
    "                       ds_flux_wgt=DS_FLUX_WGT)\n",
    "    tb_flux(tbdata=data)"
   ]
  },
  {
   "cell_type": "code",
   "execution_count": 10,
   "metadata": {
    "collapsed": true
   },
   "outputs": [],
   "source": [
    "def band_map():\n",
    "    '''\n",
    "    Maps spectral bands in lblnew to spectral bands in clirad.\n",
    "    '''\n",
    "    lblnew2clirad = {'1': '1',\n",
    "            '2': '2',\n",
    "            '3a': '3',\n",
    "            '3b': '4',\n",
    "            '3c': '5',\n",
    "            '4': '6', \n",
    "            '5': '7',\n",
    "            '6': '8',\n",
    "            '7': '9', \n",
    "            '8': '10',\n",
    "            '9': '11'}\n",
    "    \n",
    "    clirad2lblnew = {clirad: lblnew \n",
    "                     for lblnew, clirad in lblnew2clirad.items()}\n",
    "    return clirad2lblnew\n",
    "\n",
    "\n",
    "def gasbands():\n",
    "    bmap = band_map()\n",
    "    gases = list(PARAM['molecule'].keys())\n",
    "    \n",
    "    bands = [bmap[str(b)] for b in PARAM['band']]\n",
    "    return list(itertools.product(gases, bands))\n",
    "\n",
    "\n",
    "def print_bestfit_params():\n",
    "    print('Best-fit values for each (gas, band)')\n",
    "    print('------------------------------------')\n",
    "    for gas, band in gasbands():\n",
    "        print('o {} band{}'.format(gas, band))\n",
    "        param = bestfits.kdist_params(molecule=gas, band=band)\n",
    "        for name, value in sorted(param.items()):\n",
    "            print(2 * ' ' + '{} = {}'.format(name, value))\n",
    "\n",
    "        \n",
    "def print_input_param():        \n",
    "    for name, value in PARAM.items():\n",
    "        print('{} = {}'.format(name, value))\n",
    "        \n",
    "        \n",
    "def print_lblnew_param():\n",
    "    for name, value in sorted(PARAM_LBLNEW.items()):\n",
    "        print('{} = {}'.format(name, value))\n"
   ]
  },
  {
   "cell_type": "code",
   "execution_count": 11,
   "metadata": {
    "collapsed": true,
    "scrolled": false
   },
   "outputs": [],
   "source": [
    "def show_html(s):\n",
    "    display.display(display.HTML(s))\n",
    "\n",
    "    \n",
    "def show_markdown(s):\n",
    "    display.display(display.Markdown(s))\n",
    "\n",
    "    \n",
    "def script():\n",
    "    \n",
    "    title = '### CLIRAD-LW'\n",
    "    s_input = 'Input Parameters'\n",
    "    s_lblnew_param = 'LBLNEW case compaired against'\n",
    "    s_bestfits = 'Best-fit Parameters'\n",
    "    s_plt_cooling = 'Cooling Rate Profiles'\n",
    "    s_tb_flux = 'Flux Comparison'\n",
    "    \n",
    "    # title\n",
    "    show_markdown('### CLIRAD-LW')\n",
    "    \n",
    "    # TOC\n",
    "    show_markdown('### Table of Contents')\n",
    "    show_html(climahtml.getHTML_hrefanchor(s_input))\n",
    "    show_html(climahtml.getHTML_hrefanchor(s_lblnew_param))\n",
    "    show_html(climahtml.getHTML_hrefanchor(s_plt_cooling))\n",
    "    show_html(climahtml.getHTML_hrefanchor(s_tb_flux))\n",
    "    show_html(climahtml.getHTML_hrefanchor(s_bestfits))\n",
    "    \n",
    "    # Input parameters\n",
    "    show_html(climahtml.getHTML_idanchor(s_input))\n",
    "    show_markdown(climahtml.getMarkdown_sectitle(s_input))\n",
    "    print_input_param()\n",
    "    \n",
    "    # LBLNEW parameters \n",
    "    show_html(climahtml.getHTML_idanchor(s_lblnew_param))\n",
    "    show_markdown(climahtml.getMarkdown_sectitle(s_lblnew_param))\n",
    "    print_lblnew_param()\n",
    "    \n",
    "    # Cooling rate profiles\n",
    "    show_html(climahtml.getHTML_idanchor(s_plt_cooling))\n",
    "    show_markdown(climahtml.getMarkdown_sectitle(s_plt_cooling))\n",
    "    script_plt_cooling()\n",
    "    \n",
    "    # Flux comparison\n",
    "    show_html(climahtml.getHTML_idanchor(s_tb_flux))\n",
    "    show_markdown(climahtml.getMarkdown_sectitle(s_tb_flux))\n",
    "    script_tb_flux()\n",
    "    \n",
    "    # Best-fit values\n",
    "    show_html(climahtml.getHTML_idanchor(s_bestfits))\n",
    "    show_markdown(climahtml.getMarkdown_sectitle(s_bestfits))\n",
    "    print_bestfit_params()\n",
    "   \n",
    "    "
   ]
  },
  {
   "cell_type": "code",
   "execution_count": 12,
   "metadata": {
    "collapsed": true,
    "scrolled": false
   },
   "outputs": [
    {
     "data": {
      "text/markdown": [
       "### CLIRAD-LW"
      ],
      "text/plain": [
       "<IPython.core.display.Markdown object>"
      ]
     },
     "metadata": {},
     "output_type": "display_data"
    },
    {
     "data": {
      "text/markdown": [
       "### Table of Contents"
      ],
      "text/plain": [
       "<IPython.core.display.Markdown object>"
      ]
     },
     "metadata": {},
     "output_type": "display_data"
    },
    {
     "data": {
      "text/html": [
       "<a href=\"#Input_Parameters\">Input Parameters</a>"
      ],
      "text/plain": [
       "<IPython.core.display.HTML object>"
      ]
     },
     "metadata": {},
     "output_type": "display_data"
    },
    {
     "data": {
      "text/html": [
       "<a href=\"#LBLNEW_case_compaired_against\">LBLNEW case compaired against</a>"
      ],
      "text/plain": [
       "<IPython.core.display.HTML object>"
      ]
     },
     "metadata": {},
     "output_type": "display_data"
    },
    {
     "data": {
      "text/html": [
       "<a href=\"#Cooling_Rate_Profiles\">Cooling Rate Profiles</a>"
      ],
      "text/plain": [
       "<IPython.core.display.HTML object>"
      ]
     },
     "metadata": {},
     "output_type": "display_data"
    },
    {
     "data": {
      "text/html": [
       "<a href=\"#Flux_Comparison\">Flux Comparison</a>"
      ],
      "text/plain": [
       "<IPython.core.display.HTML object>"
      ]
     },
     "metadata": {},
     "output_type": "display_data"
    },
    {
     "data": {
      "text/html": [
       "<a href=\"#Best-fit_Parameters\">Best-fit Parameters</a>"
      ],
      "text/plain": [
       "<IPython.core.display.HTML object>"
      ]
     },
     "metadata": {},
     "output_type": "display_data"
    },
    {
     "data": {
      "text/html": [
       "<a id=\"Input_Parameters\"></a>"
      ],
      "text/plain": [
       "<IPython.core.display.HTML object>"
      ]
     },
     "metadata": {},
     "output_type": "display_data"
    },
    {
     "data": {
      "text/markdown": [
       "# Input Parameters"
      ],
      "text/plain": [
       "<IPython.core.display.Markdown object>"
      ]
     },
     "metadata": {},
     "output_type": "display_data"
    },
    {
     "name": "stdout",
     "output_type": "stream",
     "text": [
      "commitnumber = de5d43e\n",
      "molecule = {'h2o': 'atmpro', 'co2': 0.0004}\n",
      "band = [11]\n",
      "atmpro = mls\n",
      "tsfc = 294\n"
     ]
    },
    {
     "data": {
      "text/html": [
       "<a id=\"LBLNEW_case_compaired_against\"></a>"
      ],
      "text/plain": [
       "<IPython.core.display.HTML object>"
      ]
     },
     "metadata": {},
     "output_type": "display_data"
    },
    {
     "data": {
      "text/markdown": [
       "# LBLNEW case compaired against"
      ],
      "text/plain": [
       "<IPython.core.display.Markdown object>"
      ]
     },
     "metadata": {},
     "output_type": "display_data"
    },
    {
     "name": "stdout",
     "output_type": "stream",
     "text": [
      "atmpro = mls\n",
      "band = 9\n",
      "commitnumber = 5014a19\n",
      "dv = 0.001\n",
      "molecule = {'h2o': 'atmpro', 'co2': 0.0004}\n",
      "nv = 1000\n",
      "tsfc = 294\n"
     ]
    },
    {
     "data": {
      "text/html": [
       "<a id=\"Cooling_Rate_Profiles\"></a>"
      ],
      "text/plain": [
       "<IPython.core.display.HTML object>"
      ]
     },
     "metadata": {},
     "output_type": "display_data"
    },
    {
     "data": {
      "text/markdown": [
       "# Cooling Rate Profiles"
      ],
      "text/plain": [
       "<IPython.core.display.Markdown object>"
      ]
     },
     "metadata": {},
     "output_type": "display_data"
    },
    {
     "data": {
      "text/html": [
       "\n",
       "<div class=\"bk-root\">\n",
       "    <div class=\"bk-plotdiv\" id=\"def66c12-4626-4d38-87e0-ad31f1a103a1\"></div>\n",
       "</div>"
      ]
     },
     "metadata": {},
     "output_type": "display_data"
    },
    {
     "data": {
      "application/javascript": [
       "(function(root) {\n",
       "  function embed_document(root) {\n",
       "    \n",
       "  var docs_json = {\"b4ea0d6f-86ce-4334-8de9-c4a4cd6427a2\":{\"roots\":{\"references\":[{\"attributes\":{\"fill_alpha\":{\"value\":0.1},\"fill_color\":{\"value\":\"#1f77b4\"},\"line_alpha\":{\"value\":0.1},\"line_color\":{\"value\":\"#1f77b4\"},\"x\":{\"field\":\"x\"},\"y\":{\"field\":\"y\"}},\"id\":\"874587c3-bf5e-4efc-a5e8-26b542442c8c\",\"type\":\"Circle\"},{\"attributes\":{\"dimension\":1,\"plot\":{\"id\":\"065a63b8-7011-487f-8b9c-1b82de0551d8\",\"subtype\":\"Figure\",\"type\":\"Plot\"},\"ticker\":{\"id\":\"057f19f4-feda-4e6c-9968-8d33dae67663\",\"type\":\"BasicTicker\"}},\"id\":\"3869b18a-54a5-4b5d-afe3-1d822335d74c\",\"type\":\"Grid\"},{\"attributes\":{\"callback\":null,\"data\":{\"x\":{\"__ndarray__\":\"9XUJHEPfwD8uJ6LQiwKEP91JOPM6CXk/E/GN2uGMUT9wAX3mWb5vvw3HduSv3IC/rBZNcZn2iL+z+wfxfmWQvww/r63cYZS/f2IqHpOcmL8U2jfM1zKdv0u7a+UyKaG/qPrSMaBEpL/Uc16ls3qpv4oYLULcla+/vMMWUOLSsL9wT40gYHCvvwRUjIHiuKy/gaRI8QPtpr+evY6THXaWvz/Cw8OaG5Y/IH1Rim+Lvj+966ZzyWHRPzHTUWkfRtE/hqocg+Nswz8x3VZAwiy1P0XMRaxgfKc/Co03ZMk9mT8SnvH5OAWLP+BV3csHiXs/94Z5kTR4Yj9ZGMLrY1dEv1fSiUoDNFO/DVwzFaY9SL8hVT70XIVLvxh8pSqwslS//iTD1EvRV7/gOAFyb6pYvxqPsDExEmC/E6MB2X9mZr+TgxCKUcJpvyjspDLMH2i/Snk55btfZ79jeA6bv39nv/NmbiyKEWi/vbeHXCcwaL/AqMHIlBVnvw/swfP1rWS/iHDUkTHsYL+vKueBAoVXv9T1vsnQlEW/CXPcclIPLD/5mdJwRX9TP6naiI1UxGI/tO6ZiOIFbT/ecCzjN2l0P3s5dEJ9Tns/2MBGcKQugj+3D112ptWGP/7VUFsEdYs/AtSN3SkQkD/Uy/xem3GSP+liYfU47ZQ/9h5IjfKUlz9miHKICYGaP2gR04NX0p0/XodTrjy9oD8mHvd9nXOiP6XT93CCnKM/UYgTp3kYpD8LQuECvESkP3rqEofMkqQ/kkKEeFdPpT9icWV0M+imP4CQBJg0ca4/\",\"dtype\":\"float64\",\"shape\":[75]},\"y\":{\"__ndarray__\":\"GhExyth1ND/Sv8nbtpRIP2vylNV0PVE/aTum7souWD/At0SJ8fVgPw3Iuahxymc/MSNhhJWvcD/bTfBN02d3P2zb5nxnaoA/CD5h5MAGhz8NmeH1TyaQP+zrCsc9p5Y/LbKd76fGnz/bLW5ISEmmPww9YvTcQq8/JV2OstnstT8Er5Y7M8G+P0c+r3jqkcU/5h99k6ZBzj88bCIzFzjVP4enV8oyxN0//yH99nXg5D8qOpLLf0jtP5kqGJXUifQ/c9cS8kHP/D+/DpwzojQEQIEmwoanVwxA4lgXt9HgE0BSSZ2AJuIbQAMJih9jjiNA5q4l5INuK0AwTKYKRj0zQNv5fmq8/DpAaCJseHrtQkB/+zpwzoxKQM3MzMzMeFJAZmZmZmZqWEAAAAAAAFxeQM3MzMzMJmJAmpmZmZkfZUBmZmZmZhhoQDMzMzMzEWtAAAAAAAAKbkBmZmZmZoFwQM3MzMzM/XFAMzMzMzN6c0CamZmZmfZ0QAAAAAAAc3ZAZmZmZmbvd0DNzMzMzGt5QDMzMzMz6HpAmpmZmZlkfEAAAAAAAOF9QGZmZmZmXX9AZmZmZuZsgECamZmZGSuBQM3MzMxM6YFAAAAAAICngkAzMzMzs2WDQGZmZmbmI4RAmpmZmRnihEDNzMzMTKCFQAAAAACAXoZAMzMzM7Mch0BmZmZm5tqHQJqZmZkZmYhAzczMzExXiUAAAAAAgBWKQDMzMzOz04pAZmZmZuaRi0CamZmZGVCMQM3MzMxMDo1AAAAAAIDMjUAzMzMzs4qOQGZmZmbmSI9A\",\"dtype\":\"float64\",\"shape\":[75]}},\"selected\":{\"id\":\"6af82fbb-f38c-4541-9f35-a66ba8e54568\",\"type\":\"Selection\"},\"selection_policy\":{\"id\":\"6f1593ba-5ab1-405c-a10f-c227846de651\",\"type\":\"UnionRenderers\"}},\"id\":\"0225c70e-5a46-4ba4-b48a-9201c2322dac\",\"type\":\"ColumnDataSource\"},{\"attributes\":{\"line_color\":\"#4daf4a\",\"line_width\":1.5,\"x\":{\"field\":\"x\"},\"y\":{\"field\":\"y\"}},\"id\":\"4f13a7b1-453a-4c8e-b576-31edd46c85b3\",\"type\":\"Line\"},{\"attributes\":{\"source\":{\"id\":\"68b8200f-3f88-42e1-8e2f-a70fbdbeb069\",\"type\":\"ColumnDataSource\"}},\"id\":\"b9254572-45a0-490e-a972-ad03e62fa7dd\",\"type\":\"CDSView\"},{\"attributes\":{\"data_source\":{\"id\":\"3fde8739-0166-46db-bd29-226bae7a6bd4\",\"type\":\"ColumnDataSource\"},\"glyph\":{\"id\":\"727366c6-4412-4ad9-9362-259ceaeadadc\",\"type\":\"Square\"},\"hover_glyph\":null,\"muted_glyph\":null,\"nonselection_glyph\":{\"id\":\"d3f152d9-2aac-415f-9018-92d17914d104\",\"type\":\"Square\"},\"selection_glyph\":null,\"view\":{\"id\":\"487a11ae-7424-4cf9-88ea-c0b7b7d5885b\",\"type\":\"CDSView\"}},\"id\":\"c7af3fb9-1b86-487a-ac58-4add79161ee5\",\"type\":\"GlyphRenderer\"},{\"attributes\":{\"line_alpha\":0.1,\"line_color\":\"#1f77b4\",\"line_width\":1.5,\"x\":{\"field\":\"x\"},\"y\":{\"field\":\"y\"}},\"id\":\"f0181acc-5e94-438d-adc2-390691d7a67b\",\"type\":\"Line\"},{\"attributes\":{},\"id\":\"9571a54c-2e28-44de-b033-f4867c127d53\",\"type\":\"ResetTool\"},{\"attributes\":{\"data_source\":{\"id\":\"f585bc2b-edf6-4d0a-a489-4d5517e01814\",\"type\":\"ColumnDataSource\"},\"glyph\":{\"id\":\"21ffea31-4447-4f69-9f24-d498cb96be95\",\"type\":\"Circle\"},\"hover_glyph\":null,\"muted_glyph\":null,\"nonselection_glyph\":{\"id\":\"874587c3-bf5e-4efc-a5e8-26b542442c8c\",\"type\":\"Circle\"},\"selection_glyph\":null,\"view\":{\"id\":\"facc8932-a2f0-4097-9222-587f2532a004\",\"type\":\"CDSView\"}},\"id\":\"16a8d7d8-782c-4207-a53b-3012cc0b6840\",\"type\":\"GlyphRenderer\"},{\"attributes\":{},\"id\":\"07755410-daf4-4460-b836-64e94a33e2b0\",\"type\":\"SaveTool\"},{\"attributes\":{},\"id\":\"9a5d52a0-df89-41a1-abf2-504bc97e77aa\",\"type\":\"HelpTool\"},{\"attributes\":{\"bottom_units\":\"screen\",\"fill_alpha\":{\"value\":0.5},\"fill_color\":{\"value\":\"lightgrey\"},\"left_units\":\"screen\",\"level\":\"overlay\",\"line_alpha\":{\"value\":1.0},\"line_color\":{\"value\":\"black\"},\"line_dash\":[4,4],\"line_width\":{\"value\":2},\"plot\":null,\"render_mode\":\"css\",\"right_units\":\"screen\",\"top_units\":\"screen\"},\"id\":\"59e21836-1413-4a29-ab28-de2be87e95ec\",\"type\":\"BoxAnnotation\"},{\"attributes\":{\"callback\":null,\"data\":{\"x\":{\"__ndarray__\":\"9XUJHEPfwD8uJ6LQiwKEP91JOPM6CXk/E/GN2uGMUT9wAX3mWb5vvw3HduSv3IC/rBZNcZn2iL+z+wfxfmWQvww/r63cYZS/f2IqHpOcmL8U2jfM1zKdv0u7a+UyKaG/qPrSMaBEpL/Uc16ls3qpv4oYLULcla+/vMMWUOLSsL9wT40gYHCvvwRUjIHiuKy/gaRI8QPtpr+evY6THXaWvz/Cw8OaG5Y/IH1Rim+Lvj+966ZzyWHRPzHTUWkfRtE/hqocg+Nswz8x3VZAwiy1P0XMRaxgfKc/Co03ZMk9mT8SnvH5OAWLP+BV3csHiXs/94Z5kTR4Yj9ZGMLrY1dEv1fSiUoDNFO/DVwzFaY9SL8hVT70XIVLvxh8pSqwslS//iTD1EvRV7/gOAFyb6pYvxqPsDExEmC/E6MB2X9mZr+TgxCKUcJpvyjspDLMH2i/Snk55btfZ79jeA6bv39nv/NmbiyKEWi/vbeHXCcwaL/AqMHIlBVnvw/swfP1rWS/iHDUkTHsYL+vKueBAoVXv9T1vsnQlEW/CXPcclIPLD/5mdJwRX9TP6naiI1UxGI/tO6ZiOIFbT/ecCzjN2l0P3s5dEJ9Tns/2MBGcKQugj+3D112ptWGP/7VUFsEdYs/AtSN3SkQkD/Uy/xem3GSP+liYfU47ZQ/9h5IjfKUlz9miHKICYGaP2gR04NX0p0/XodTrjy9oD8mHvd9nXOiP6XT93CCnKM/UYgTp3kYpD8LQuECvESkP3rqEofMkqQ/kkKEeFdPpT9icWV0M+imP4CQBJg0ca4/\",\"dtype\":\"float64\",\"shape\":[75]},\"y\":{\"__ndarray__\":\"GhExyth1ND/Sv8nbtpRIP2vylNV0PVE/aTum7souWD/At0SJ8fVgPw3Iuahxymc/MSNhhJWvcD/bTfBN02d3P2zb5nxnaoA/CD5h5MAGhz8NmeH1TyaQP+zrCsc9p5Y/LbKd76fGnz/bLW5ISEmmPww9YvTcQq8/JV2OstnstT8Er5Y7M8G+P0c+r3jqkcU/5h99k6ZBzj88bCIzFzjVP4enV8oyxN0//yH99nXg5D8qOpLLf0jtP5kqGJXUifQ/c9cS8kHP/D+/DpwzojQEQIEmwoanVwxA4lgXt9HgE0BSSZ2AJuIbQAMJih9jjiNA5q4l5INuK0AwTKYKRj0zQNv5fmq8/DpAaCJseHrtQkB/+zpwzoxKQM3MzMzMeFJAZmZmZmZqWEAAAAAAAFxeQM3MzMzMJmJAmpmZmZkfZUBmZmZmZhhoQDMzMzMzEWtAAAAAAAAKbkBmZmZmZoFwQM3MzMzM/XFAMzMzMzN6c0CamZmZmfZ0QAAAAAAAc3ZAZmZmZmbvd0DNzMzMzGt5QDMzMzMz6HpAmpmZmZlkfEAAAAAAAOF9QGZmZmZmXX9AZmZmZuZsgECamZmZGSuBQM3MzMxM6YFAAAAAAICngkAzMzMzs2WDQGZmZmbmI4RAmpmZmRnihEDNzMzMTKCFQAAAAACAXoZAMzMzM7Mch0BmZmZm5tqHQJqZmZkZmYhAzczMzExXiUAAAAAAgBWKQDMzMzOz04pAZmZmZuaRi0CamZmZGVCMQM3MzMxMDo1AAAAAAIDMjUAzMzMzs4qOQGZmZmbmSI9A\",\"dtype\":\"float64\",\"shape\":[75]}},\"selected\":{\"id\":\"4b48d2e9-8dcf-447b-83cb-da4ddee3f0de\",\"type\":\"Selection\"},\"selection_policy\":{\"id\":\"b13ae9b6-7d76-40cd-9782-6f0d34983203\",\"type\":\"UnionRenderers\"}},\"id\":\"68b8200f-3f88-42e1-8e2f-a70fbdbeb069\",\"type\":\"ColumnDataSource\"},{\"attributes\":{\"line_alpha\":0.6,\"line_color\":\"#e41a1c\",\"line_dash\":[6],\"line_width\":5,\"x\":{\"field\":\"x\"},\"y\":{\"field\":\"y\"}},\"id\":\"1ee9e9ad-6aa0-47d3-bb60-648b4e5ebe65\",\"type\":\"Line\"},{\"attributes\":{\"overlay\":{\"id\":\"59e21836-1413-4a29-ab28-de2be87e95ec\",\"type\":\"BoxAnnotation\"}},\"id\":\"1852a4f2-f8ae-44ad-bca2-661c8f89cbd6\",\"type\":\"BoxZoomTool\"},{\"attributes\":{\"callback\":null,\"end\":0.01,\"start\":1020},\"id\":\"d297c9ba-5610-48c1-925d-381eb1d6d591\",\"type\":\"Range1d\"},{\"attributes\":{\"fill_alpha\":{\"value\":0.7},\"fill_color\":{\"value\":\"#984ea3\"},\"line_alpha\":{\"value\":0.7},\"line_color\":{\"value\":\"#984ea3\"},\"x\":{\"field\":\"x\"},\"y\":{\"field\":\"y\"}},\"id\":\"727366c6-4412-4ad9-9362-259ceaeadadc\",\"type\":\"Square\"},{\"attributes\":{\"data_source\":{\"id\":\"a88343a8-c595-41e5-a202-a6017d5fd664\",\"type\":\"ColumnDataSource\"},\"glyph\":{\"id\":\"1ee9e9ad-6aa0-47d3-bb60-648b4e5ebe65\",\"type\":\"Line\"},\"hover_glyph\":null,\"muted_glyph\":null,\"nonselection_glyph\":{\"id\":\"a184e3f5-54b2-4e64-89b4-511dc7f42228\",\"type\":\"Line\"},\"selection_glyph\":null,\"view\":{\"id\":\"ec93e8a0-6f23-49d8-afe6-64da9336850b\",\"type\":\"CDSView\"}},\"id\":\"77a33c1c-0022-4a07-97e0-d8c27723646a\",\"type\":\"GlyphRenderer\"},{\"attributes\":{},\"id\":\"abd7bde2-be68-4e95-bd26-1968ecb4e48d\",\"type\":\"UnionRenderers\"},{\"attributes\":{},\"id\":\"f6a2271d-fdec-4d50-ad4f-1c2a72fed796\",\"type\":\"WheelZoomTool\"},{\"attributes\":{\"ticker\":null},\"id\":\"db63d9d3-95a6-4c99-9b89-c08906cc3106\",\"type\":\"LogTickFormatter\"},{\"attributes\":{\"callback\":null,\"data\":{\"x\":{\"__ndarray__\":\"ZJ2/QzAS0T+p7kj3noq2PxTCcp2phKc/N4pZpErKgz8iPD9kSFCRv1W0Tmm4WaC/qijnVstHo7+X3pkxTkGkvzrhdH7JR6S/XRVz0xCcpL94WOWY5Rilv2MRLfMCXqa/Dd78K9CTqL8DoTkOY6Ktv52CASaeo7G/Cvhlyxo+sb+l4TsBsq+qv1exTk4ajqG/0KW18l0NkL+0yNoNgMtjP4zRYynMWpo/LKIPXgfDuD8URu1dB3fNP0vZdbFhtM4/9/Iz3B0lxT+s+wlfRk69P/oj/ddoIrI/uoUb4c40oD82M1JlkxmAPzACtsUtzWo/dYD18ho/dT9FmUu6Bu5qPzYpHcoTJ0Q/5fB/nbMNS79/URCpWuxVv1enAX3GcFq/su5Z/3kmXL8XyjrCfzhcv4xC4HpsQWK/J3FCF0d7ab9Pu1u6giRtv/MeOIa/6Gu/hjxiMmWAbL8KuikcO0xuv5XpwSwOUW+/Q6KqNGtqbr+YB4WRcgFtvx5d7Wx9jWu/2fgnCzO6ab9nKURFNv5mv8VTaW0VImK/pBCK5m/tVb/SDWHWLnUWv3s8gIeaz1Y/d9l2bFm9aT/V+WyrfeR0Pwfxjdm8Z30/+KTLDvWjgz9m+wfG/giIP3fAALgVn4s/Ioaz4QQ0jj/zk05KXw2QP0yryLhHDpE/aKU5R1fIkj/VOdYqmRqVP3unru7rz5g/w0o1TmscnT/wKCGacQGhP8YD40P97KI/wkaH94Q7pD+mLv1xGTylPz2qVUyJSqY/+i5RL4uYpz9wgxQbd3OpP2ps5PeMfbA/\",\"dtype\":\"float64\",\"shape\":[75]},\"y\":{\"__ndarray__\":\"S/O/Q+51ND/Sv8nbtpRIP2vylNV0PVE/aTum7souWD/At0SJ8fVgPw3Iuahxymc/MSNhhJWvcD/bTfBN02d3P2zb5nxnaoA/CD5h5MAGhz8NmeH1TyaQP+zrCsc9p5Y/LbKd76fGnz/bLW5ISEmmPww9YvTcQq8/JV2OstnstT8Er5Y7M8G+P0c+r3jqkcU/5h99k6ZBzj88bCIzFzjVP4enV8oyxN0//yH99nXg5D8qOpLLf0jtP5kqGJXUifQ/c9cS8kHP/D+/DpwzojQEQIEmwoanVwxA4lgXt9HgE0BSSZ2AJuIbQAMJih9jjiNA5q4l5INuK0AwTKYKRj0zQNv5fmq8/DpAaCJseHrtQkB/+zpwzoxKQM3MzMzMeFJAZmZmZmZqWEAAAAAAAFxeQM3MzMzMJmJAmpmZmZkfZUBmZmZmZhhoQDMzMzMzEWtAAAAAAAAKbkBmZmZmZoFwQM3MzMzM/XFAMzMzMzN6c0CamZmZmfZ0QAAAAAAAc3ZAZmZmZmbvd0DNzMzMzGt5QDMzMzMz6HpAmpmZmZlkfEAAAAAAAOF9QGZmZmZmXX9AZmZmZuZsgECamZmZGSuBQM3MzMxM6YFAAAAAAICngkAzMzMzs2WDQGZmZmbmI4RAmpmZmRnihEDNzMzMTKCFQAAAAACAXoZAMzMzM7Mch0BmZmZm5tqHQJqZmZkZmYhAzczMzExXiUAAAAAAgBWKQDMzMzOz04pAZmZmZuaRi0CamZmZGVCMQM3MzMxMDo1AAAAAAIDMjUAzMzMzs4qOQGZmZmbmSI9A\",\"dtype\":\"float64\",\"shape\":[75]}},\"selected\":{\"id\":\"ca597ee4-c95e-43a5-b734-7fb5daaea9b1\",\"type\":\"Selection\"},\"selection_policy\":{\"id\":\"abd7bde2-be68-4e95-bd26-1968ecb4e48d\",\"type\":\"UnionRenderers\"}},\"id\":\"a88343a8-c595-41e5-a202-a6017d5fd664\",\"type\":\"ColumnDataSource\"},{\"attributes\":{\"fill_alpha\":{\"value\":0.1},\"fill_color\":{\"value\":\"#1f77b4\"},\"line_alpha\":{\"value\":0.1},\"line_color\":{\"value\":\"#1f77b4\"},\"x\":{\"field\":\"x\"},\"y\":{\"field\":\"y\"}},\"id\":\"d3f152d9-2aac-415f-9018-92d17914d104\",\"type\":\"Square\"},{\"attributes\":{},\"id\":\"d03b0f44-2d2d-48ac-aeee-12963b15ee92\",\"type\":\"PanTool\"},{\"attributes\":{\"source\":{\"id\":\"f585bc2b-edf6-4d0a-a489-4d5517e01814\",\"type\":\"ColumnDataSource\"}},\"id\":\"facc8932-a2f0-4097-9222-587f2532a004\",\"type\":\"CDSView\"},{\"attributes\":{\"data_source\":{\"id\":\"68b8200f-3f88-42e1-8e2f-a70fbdbeb069\",\"type\":\"ColumnDataSource\"},\"glyph\":{\"id\":\"4f13a7b1-453a-4c8e-b576-31edd46c85b3\",\"type\":\"Line\"},\"hover_glyph\":null,\"muted_glyph\":null,\"nonselection_glyph\":{\"id\":\"f0181acc-5e94-438d-adc2-390691d7a67b\",\"type\":\"Line\"},\"selection_glyph\":null,\"view\":{\"id\":\"b9254572-45a0-490e-a972-ad03e62fa7dd\",\"type\":\"CDSView\"}},\"id\":\"ddbbe83d-a20a-4b9e-863c-1a09249f455e\",\"type\":\"GlyphRenderer\"},{\"attributes\":{\"callback\":null,\"data\":{\"x\":{\"__ndarray__\":\"bf1XyvDn0T/1+Rv5K4C1P4qD/Tcslqg/csGxGImRkD9zUT1y3EuCv5Nd9Asyppm/tYdsCcH2oL970xAvMZGiv2kVuYScJ6O/zUTeYBKoo7+/t8jBlYGkvxIDJVGkBaa/uYNSYHOhqL+kxKk0NC6uv6SKGgA1K7K/4wPiRcTssb/uNxIcImSsv5g52d1uD6S/HLzIZybWlb8tmkQ4gwpZv1AEe5DBMZs/1Q7aBkn6uT8LwT/f9R3OPwnStcQEFM8/bWrqhreYxD+Sn2TdBWu7P7d8mzPfl7A/nAi1uxQSoD/QsvtJDVGHP+qE81CrTXM/fO1rNjWdcD/o7WjQEhNkPwGwWMj+p0I/39/nB8C4O7/7pZFU9yhSv3dKDcnezVm/6ofT8EaSW7//SjsxA4dbv1AdG6A8/GG/JRaZPWdLab8uTNVnVhBtv4U9+fW0nGu/q36518j8a7+2xwgxYmJtv6x2GA18cG6/qhIoDBEKbr8HXbzD2Mdsv8Q984pQ+Wq/gMlHuyN9aL+1gpNmlOtkv/RyVWpIrV+/jjDn/hOoUb/GRCRePzX+PjRRPbZCaFY/3oD7a4XqZz/I6hJpLRlzP/MuyGGq/Ho/aQ8NKUxBgj/nyVvM1MaGP2jmGn0Esoo/fix8MR8Gjj8LneFKmXuQP3WDSlcO/5E/KXd0Y0fRkz9oWqSBBjiWPzDemU2jcJk/x0oYQthtnT9yvfHe5segP3cD3F6YbaI/JmBL+kF+oz/mmzp9p0OkP8LSNZ3hKaU/UWV26IRopj8HBpkv8lyoP9GBM5iJGbA/\",\"dtype\":\"float64\",\"shape\":[75]},\"y\":{\"__ndarray__\":\"GhExyth1ND/Sv8nbtpRIP2vylNV0PVE/aTum7souWD/At0SJ8fVgPw3Iuahxymc/MSNhhJWvcD/bTfBN02d3P2zb5nxnaoA/CD5h5MAGhz8NmeH1TyaQP+zrCsc9p5Y/LbKd76fGnz/bLW5ISEmmPww9YvTcQq8/JV2OstnstT8Er5Y7M8G+P0c+r3jqkcU/5h99k6ZBzj88bCIzFzjVP4enV8oyxN0//yH99nXg5D8qOpLLf0jtP5kqGJXUifQ/c9cS8kHP/D+/DpwzojQEQIEmwoanVwxA4lgXt9HgE0BSSZ2AJuIbQAMJih9jjiNA5q4l5INuK0AwTKYKRj0zQNv5fmq8/DpAaCJseHrtQkB/+zpwzoxKQM3MzMzMeFJAZmZmZmZqWEAAAAAAAFxeQM3MzMzMJmJAmpmZmZkfZUBmZmZmZhhoQDMzMzMzEWtAAAAAAAAKbkBmZmZmZoFwQM3MzMzM/XFAMzMzMzN6c0CamZmZmfZ0QAAAAAAAc3ZAZmZmZmbvd0DNzMzMzGt5QDMzMzMz6HpAmpmZmZlkfEAAAAAAAOF9QGZmZmZmXX9AZmZmZuZsgECamZmZGSuBQM3MzMxM6YFAAAAAAICngkAzMzMzs2WDQGZmZmbmI4RAmpmZmRnihEDNzMzMTKCFQAAAAACAXoZAMzMzM7Mch0BmZmZm5tqHQJqZmZkZmYhAzczMzExXiUAAAAAAgBWKQDMzMzOz04pAZmZmZuaRi0CamZmZGVCMQM3MzMxMDo1AAAAAAIDMjUAzMzMzs4qOQGZmZmbmSI9A\",\"dtype\":\"float64\",\"shape\":[75]}},\"selected\":{\"id\":\"f152f607-f8fd-47bb-9b6d-bd094e5557a9\",\"type\":\"Selection\"},\"selection_policy\":{\"id\":\"05f006e5-46b9-4718-ae31-e9271e38461a\",\"type\":\"UnionRenderers\"}},\"id\":\"3fde8739-0166-46db-bd29-226bae7a6bd4\",\"type\":\"ColumnDataSource\"},{\"attributes\":{\"children\":[{\"id\":\"9e8e96fd-2e02-43e1-b36e-35b60d63005d\",\"type\":\"Row\"}]},\"id\":\"f0a8d3ec-5211-46b7-9b85-52ea801ae99a\",\"type\":\"Column\"},{\"attributes\":{},\"id\":\"ca597ee4-c95e-43a5-b734-7fb5daaea9b1\",\"type\":\"Selection\"},{\"attributes\":{\"label\":{\"value\":\"CLIRAD `coolr_bands`\"},\"renderers\":[{\"id\":\"97121625-a8be-4b83-a091-0455e1aefad2\",\"type\":\"GlyphRenderer\"}]},\"id\":\"38bed216-f5b5-417f-9ad8-017d61568272\",\"type\":\"LegendItem\"},{\"attributes\":{},\"id\":\"6f1593ba-5ab1-405c-a10f-c227846de651\",\"type\":\"UnionRenderers\"},{\"attributes\":{\"label\":{\"value\":\"CRD\"},\"renderers\":[{\"id\":\"16a8d7d8-782c-4207-a53b-3012cc0b6840\",\"type\":\"GlyphRenderer\"},{\"id\":\"ddbbe83d-a20a-4b9e-863c-1a09249f455e\",\"type\":\"GlyphRenderer\"}]},\"id\":\"6fe4ffa5-268a-4401-bdff-c2c42da4badf\",\"type\":\"LegendItem\"},{\"attributes\":{},\"id\":\"60b9b4ad-bc1c-48b8-84bf-7908aa6a7f94\",\"type\":\"UnionRenderers\"},{\"attributes\":{\"label\":{\"value\":\"WGT igg=10 wgt_flux=2\"},\"renderers\":[{\"id\":\"c7af3fb9-1b86-487a-ac58-4add79161ee5\",\"type\":\"GlyphRenderer\"},{\"id\":\"3758df5b-2936-4918-b9a0-6c5c09b1008b\",\"type\":\"GlyphRenderer\"}]},\"id\":\"c4cff729-9023-45ad-ba1b-5b46f7515af4\",\"type\":\"LegendItem\"},{\"attributes\":{\"axis_label\":\"cooling rate [K/day]\",\"formatter\":{\"id\":\"b2dd5773-b77d-4c96-a7a4-2706ab69ead6\",\"type\":\"BasicTickFormatter\"},\"plot\":{\"id\":\"065a63b8-7011-487f-8b9c-1b82de0551d8\",\"subtype\":\"Figure\",\"type\":\"Plot\"},\"ticker\":{\"id\":\"5793e33f-8e5f-4b1d-b787-16e469500174\",\"type\":\"BasicTicker\"}},\"id\":\"2bb59d72-b265-4a06-a01b-c91ade000fc1\",\"type\":\"LinearAxis\"},{\"attributes\":{},\"id\":\"6af82fbb-f38c-4541-9f35-a66ba8e54568\",\"type\":\"Selection\"},{\"attributes\":{\"children\":[{\"id\":\"065a63b8-7011-487f-8b9c-1b82de0551d8\",\"subtype\":\"Figure\",\"type\":\"Plot\"},{\"id\":\"f6ca2f3b-cde2-4e59-b54c-f4af7c89e89f\",\"subtype\":\"Figure\",\"type\":\"Plot\"}]},\"id\":\"9e8e96fd-2e02-43e1-b36e-35b60d63005d\",\"type\":\"Row\"},{\"attributes\":{},\"id\":\"400f1a3d-ed74-4a93-837a-13864cbc6c2e\",\"type\":\"BasicTickFormatter\"},{\"attributes\":{},\"id\":\"1fe124cd-3f01-49af-b365-1e4b8362560d\",\"type\":\"UnionRenderers\"},{\"attributes\":{\"plot\":null,\"text\":\"Linear pressure scale\"},\"id\":\"073d0457-b625-4d5e-ad8b-636b14104071\",\"type\":\"Title\"},{\"attributes\":{},\"id\":\"805e04b2-0990-4143-ba1d-8c7d4666ff8d\",\"type\":\"Selection\"},{\"attributes\":{},\"id\":\"61876634-6d3d-43ae-b185-2edd8be4d988\",\"type\":\"Selection\"},{\"attributes\":{},\"id\":\"61dffa58-0e40-4cf6-97cc-027a493509f1\",\"type\":\"UnionRenderers\"},{\"attributes\":{},\"id\":\"115a9f29-e615-48f8-8387-7f675503a7ff\",\"type\":\"Selection\"},{\"attributes\":{\"below\":[{\"id\":\"3cd0b795-ad25-404e-a432-3c425e7e2f77\",\"type\":\"LinearAxis\"}],\"left\":[{\"id\":\"a3c18e66-a000-40ca-96ae-d3c0db283c9d\",\"type\":\"LogAxis\"}],\"plot_height\":500,\"plot_width\":560,\"renderers\":[{\"id\":\"3cd0b795-ad25-404e-a432-3c425e7e2f77\",\"type\":\"LinearAxis\"},{\"id\":\"6d805710-6774-4bc8-81b3-78153f35afbd\",\"type\":\"Grid\"},{\"id\":\"a3c18e66-a000-40ca-96ae-d3c0db283c9d\",\"type\":\"LogAxis\"},{\"id\":\"1074de64-ec42-4a0e-b1fd-1ca44a9ba284\",\"type\":\"Grid\"},{\"id\":\"07adde49-e7c4-4459-af13-3c014b3c4ee3\",\"type\":\"BoxAnnotation\"},{\"id\":\"97121625-a8be-4b83-a091-0455e1aefad2\",\"type\":\"GlyphRenderer\"},{\"id\":\"16a8d7d8-782c-4207-a53b-3012cc0b6840\",\"type\":\"GlyphRenderer\"},{\"id\":\"ddbbe83d-a20a-4b9e-863c-1a09249f455e\",\"type\":\"GlyphRenderer\"},{\"id\":\"c7af3fb9-1b86-487a-ac58-4add79161ee5\",\"type\":\"GlyphRenderer\"},{\"id\":\"3758df5b-2936-4918-b9a0-6c5c09b1008b\",\"type\":\"GlyphRenderer\"},{\"id\":\"76b1129d-e7d8-4fea-9921-ddb8a2a5e9f0\",\"type\":\"Legend\"}],\"right\":[{\"id\":\"76b1129d-e7d8-4fea-9921-ddb8a2a5e9f0\",\"type\":\"Legend\"}],\"title\":{\"id\":\"db9e58ae-64ab-419b-acb3-4274831d6e4c\",\"type\":\"Title\"},\"toolbar\":{\"id\":\"91c4b478-ce31-4574-84f8-bb8c534b26aa\",\"type\":\"Toolbar\"},\"toolbar_location\":null,\"x_range\":{\"id\":\"6207ce0e-5982-4ce3-ae55-a191a9d68ac9\",\"type\":\"Range1d\"},\"x_scale\":{\"id\":\"29a8dab1-d545-4f3e-899e-17eba6530a82\",\"type\":\"LinearScale\"},\"y_range\":{\"id\":\"50393ae0-726b-49c2-b2db-4de87f56f50c\",\"type\":\"Range1d\"},\"y_scale\":{\"id\":\"0e33753a-cf43-4a82-bab6-41ddd35769ef\",\"type\":\"LogScale\"}},\"id\":\"f6ca2f3b-cde2-4e59-b54c-f4af7c89e89f\",\"subtype\":\"Figure\",\"type\":\"Plot\"},{\"attributes\":{},\"id\":\"f60027f7-17a8-4a18-8c39-712bf496fd8c\",\"type\":\"UnionRenderers\"},{\"attributes\":{},\"id\":\"66d5e135-398a-42ea-94f6-119753178d5b\",\"type\":\"Selection\"},{\"attributes\":{},\"id\":\"1e4ccc75-32de-453a-ac33-d85528664b1d\",\"type\":\"BasicTickFormatter\"},{\"attributes\":{\"toolbar\":{\"id\":\"a76efd67-3c1c-4fd3-adf1-dcaa1af3f93a\",\"type\":\"ProxyToolbar\"},\"toolbar_location\":\"above\"},\"id\":\"fd0ce9b6-c600-402c-b3dc-e6d3c832da9f\",\"type\":\"ToolbarBox\"},{\"attributes\":{\"source\":{\"id\":\"a88343a8-c595-41e5-a202-a6017d5fd664\",\"type\":\"ColumnDataSource\"}},\"id\":\"ec93e8a0-6f23-49d8-afe6-64da9336850b\",\"type\":\"CDSView\"},{\"attributes\":{},\"id\":\"b13ae9b6-7d76-40cd-9782-6f0d34983203\",\"type\":\"UnionRenderers\"},{\"attributes\":{},\"id\":\"e6202d47-8052-41ee-81ce-bf813679d76a\",\"type\":\"Selection\"},{\"attributes\":{},\"id\":\"4b48d2e9-8dcf-447b-83cb-da4ddee3f0de\",\"type\":\"Selection\"},{\"attributes\":{},\"id\":\"147495c1-4d82-4b29-83cd-3098e9f4281b\",\"type\":\"UnionRenderers\"},{\"attributes\":{},\"id\":\"5e8c627f-0348-4e5a-8c73-07325cd9be85\",\"type\":\"UnionRenderers\"},{\"attributes\":{},\"id\":\"874bb2fd-e2ed-4625-927d-8b8ba964d62e\",\"type\":\"Selection\"},{\"attributes\":{\"below\":[{\"id\":\"2bb59d72-b265-4a06-a01b-c91ade000fc1\",\"type\":\"LinearAxis\"}],\"left\":[{\"id\":\"fb95fde6-ce06-4abe-b06f-73b2e9e62310\",\"type\":\"LinearAxis\"}],\"plot_height\":500,\"plot_width\":400,\"renderers\":[{\"id\":\"2bb59d72-b265-4a06-a01b-c91ade000fc1\",\"type\":\"LinearAxis\"},{\"id\":\"81685a70-aeef-434b-acb5-4887695ec5f7\",\"type\":\"Grid\"},{\"id\":\"fb95fde6-ce06-4abe-b06f-73b2e9e62310\",\"type\":\"LinearAxis\"},{\"id\":\"3869b18a-54a5-4b5d-afe3-1d822335d74c\",\"type\":\"Grid\"},{\"id\":\"59e21836-1413-4a29-ab28-de2be87e95ec\",\"type\":\"BoxAnnotation\"},{\"id\":\"77a33c1c-0022-4a07-97e0-d8c27723646a\",\"type\":\"GlyphRenderer\"},{\"id\":\"ae37fb83-dca9-4b1a-bced-c2f4eb9f1ba2\",\"type\":\"GlyphRenderer\"},{\"id\":\"ee753a99-c315-4c79-ae48-391d66dbf705\",\"type\":\"GlyphRenderer\"},{\"id\":\"89f79f97-bb03-4337-a16d-2b7cac04ab5b\",\"type\":\"GlyphRenderer\"},{\"id\":\"6c7a6d2d-2ab2-4385-ac2b-5f734eba6db5\",\"type\":\"GlyphRenderer\"}],\"title\":{\"id\":\"073d0457-b625-4d5e-ad8b-636b14104071\",\"type\":\"Title\"},\"toolbar\":{\"id\":\"3a5c82b7-0681-4fb2-84d3-55dc554f2088\",\"type\":\"Toolbar\"},\"toolbar_location\":null,\"x_range\":{\"id\":\"8de1d0a0-3ac3-45a6-9226-f1a674913565\",\"type\":\"Range1d\"},\"x_scale\":{\"id\":\"db804645-f7ba-4311-ae48-ea98e1d431e1\",\"type\":\"LinearScale\"},\"y_range\":{\"id\":\"d297c9ba-5610-48c1-925d-381eb1d6d591\",\"type\":\"Range1d\"},\"y_scale\":{\"id\":\"f8b42655-eea2-4c85-a7bb-564cdd33984b\",\"type\":\"LinearScale\"}},\"id\":\"065a63b8-7011-487f-8b9c-1b82de0551d8\",\"subtype\":\"Figure\",\"type\":\"Plot\"},{\"attributes\":{},\"id\":\"05f006e5-46b9-4718-ae31-e9271e38461a\",\"type\":\"UnionRenderers\"},{\"attributes\":{},\"id\":\"f152f607-f8fd-47bb-9b6d-bd094e5557a9\",\"type\":\"Selection\"},{\"attributes\":{\"children\":[{\"id\":\"fd0ce9b6-c600-402c-b3dc-e6d3c832da9f\",\"type\":\"ToolbarBox\"},{\"id\":\"f0a8d3ec-5211-46b7-9b85-52ea801ae99a\",\"type\":\"Column\"}]},\"id\":\"b08e49b2-3dbe-466d-9547-b3dde01489d6\",\"type\":\"Column\"},{\"attributes\":{},\"id\":\"f8b42655-eea2-4c85-a7bb-564cdd33984b\",\"type\":\"LinearScale\"},{\"attributes\":{\"fill_alpha\":{\"value\":0.1},\"fill_color\":{\"value\":\"#1f77b4\"},\"line_alpha\":{\"value\":0.1},\"line_color\":{\"value\":\"#1f77b4\"},\"x\":{\"field\":\"x\"},\"y\":{\"field\":\"y\"}},\"id\":\"f4becfd3-d2ff-4788-849b-53eb328573b4\",\"type\":\"Circle\"},{\"attributes\":{\"tools\":[{\"id\":\"d03b0f44-2d2d-48ac-aeee-12963b15ee92\",\"type\":\"PanTool\"},{\"id\":\"f6a2271d-fdec-4d50-ad4f-1c2a72fed796\",\"type\":\"WheelZoomTool\"},{\"id\":\"1852a4f2-f8ae-44ad-bca2-661c8f89cbd6\",\"type\":\"BoxZoomTool\"},{\"id\":\"07755410-daf4-4460-b836-64e94a33e2b0\",\"type\":\"SaveTool\"},{\"id\":\"9571a54c-2e28-44de-b033-f4867c127d53\",\"type\":\"ResetTool\"},{\"id\":\"9a5d52a0-df89-41a1-abf2-504bc97e77aa\",\"type\":\"HelpTool\"},{\"id\":\"f4bd65e2-e673-4ec0-9937-4a8ed3d8c73e\",\"type\":\"PanTool\"},{\"id\":\"9665c37c-8b5e-487c-8702-5c0ab8809b3a\",\"type\":\"WheelZoomTool\"},{\"id\":\"4346bae8-22b0-4d5f-b843-1f5a7452d8f4\",\"type\":\"BoxZoomTool\"},{\"id\":\"ed81e77f-0eeb-464c-83b9-5dfa64c7cd09\",\"type\":\"SaveTool\"},{\"id\":\"063fc847-97e1-44a7-9c5c-4f85e06784ef\",\"type\":\"ResetTool\"},{\"id\":\"678d34c9-ab3d-4451-ada4-8e23c3da41e6\",\"type\":\"HelpTool\"}]},\"id\":\"a76efd67-3c1c-4fd3-adf1-dcaa1af3f93a\",\"type\":\"ProxyToolbar\"},{\"attributes\":{\"line_alpha\":0.1,\"line_color\":\"#1f77b4\",\"line_dash\":[6],\"line_width\":5,\"x\":{\"field\":\"x\"},\"y\":{\"field\":\"y\"}},\"id\":\"a184e3f5-54b2-4e64-89b4-511dc7f42228\",\"type\":\"Line\"},{\"attributes\":{\"active_drag\":\"auto\",\"active_inspect\":\"auto\",\"active_scroll\":\"auto\",\"active_tap\":\"auto\",\"tools\":[{\"id\":\"d03b0f44-2d2d-48ac-aeee-12963b15ee92\",\"type\":\"PanTool\"},{\"id\":\"f6a2271d-fdec-4d50-ad4f-1c2a72fed796\",\"type\":\"WheelZoomTool\"},{\"id\":\"1852a4f2-f8ae-44ad-bca2-661c8f89cbd6\",\"type\":\"BoxZoomTool\"},{\"id\":\"07755410-daf4-4460-b836-64e94a33e2b0\",\"type\":\"SaveTool\"},{\"id\":\"9571a54c-2e28-44de-b033-f4867c127d53\",\"type\":\"ResetTool\"},{\"id\":\"9a5d52a0-df89-41a1-abf2-504bc97e77aa\",\"type\":\"HelpTool\"}]},\"id\":\"3a5c82b7-0681-4fb2-84d3-55dc554f2088\",\"type\":\"Toolbar\"},{\"attributes\":{\"callback\":null,\"end\":0.06509813680899999,\"start\":-0.004505215709},\"id\":\"8de1d0a0-3ac3-45a6-9226-f1a674913565\",\"type\":\"Range1d\"},{\"attributes\":{\"axis_label\":\"pressure [mb]\",\"formatter\":{\"id\":\"400f1a3d-ed74-4a93-837a-13864cbc6c2e\",\"type\":\"BasicTickFormatter\"},\"plot\":{\"id\":\"065a63b8-7011-487f-8b9c-1b82de0551d8\",\"subtype\":\"Figure\",\"type\":\"Plot\"},\"ticker\":{\"id\":\"057f19f4-feda-4e6c-9968-8d33dae67663\",\"type\":\"BasicTicker\"}},\"id\":\"fb95fde6-ce06-4abe-b06f-73b2e9e62310\",\"type\":\"LinearAxis\"},{\"attributes\":{},\"id\":\"057f19f4-feda-4e6c-9968-8d33dae67663\",\"type\":\"BasicTicker\"},{\"attributes\":{},\"id\":\"db804645-f7ba-4311-ae48-ea98e1d431e1\",\"type\":\"LinearScale\"},{\"attributes\":{},\"id\":\"5793e33f-8e5f-4b1d-b787-16e469500174\",\"type\":\"BasicTicker\"},{\"attributes\":{\"plot\":{\"id\":\"065a63b8-7011-487f-8b9c-1b82de0551d8\",\"subtype\":\"Figure\",\"type\":\"Plot\"},\"ticker\":{\"id\":\"5793e33f-8e5f-4b1d-b787-16e469500174\",\"type\":\"BasicTicker\"}},\"id\":\"81685a70-aeef-434b-acb5-4887695ec5f7\",\"type\":\"Grid\"},{\"attributes\":{\"data_source\":{\"id\":\"e751c079-6e72-4b70-bc81-7aeb30bac0a8\",\"type\":\"ColumnDataSource\"},\"glyph\":{\"id\":\"964fe0aa-59c4-4ce8-b915-407a0168c453\",\"type\":\"Line\"},\"hover_glyph\":null,\"muted_glyph\":null,\"nonselection_glyph\":{\"id\":\"3c8a5a89-a340-4c8c-8d2b-f729b58095d5\",\"type\":\"Line\"},\"selection_glyph\":null,\"view\":{\"id\":\"f3bb63c6-03ab-487c-909b-8bbe1f9365fb\",\"type\":\"CDSView\"}},\"id\":\"3758df5b-2936-4918-b9a0-6c5c09b1008b\",\"type\":\"GlyphRenderer\"},{\"attributes\":{\"num_minor_ticks\":10},\"id\":\"50615b37-5381-4db5-a5a1-a45e2fa5c1e8\",\"type\":\"LogTicker\"},{\"attributes\":{\"dimension\":1,\"plot\":{\"id\":\"f6ca2f3b-cde2-4e59-b54c-f4af7c89e89f\",\"subtype\":\"Figure\",\"type\":\"Plot\"},\"ticker\":{\"id\":\"50615b37-5381-4db5-a5a1-a45e2fa5c1e8\",\"type\":\"LogTicker\"}},\"id\":\"1074de64-ec42-4a0e-b1fd-1ca44a9ba284\",\"type\":\"Grid\"},{\"attributes\":{\"source\":{\"id\":\"0225c70e-5a46-4ba4-b48a-9201c2322dac\",\"type\":\"ColumnDataSource\"}},\"id\":\"ab3b3375-6813-42f6-97f0-52dc61fd5a4a\",\"type\":\"CDSView\"},{\"attributes\":{},\"id\":\"f4bd65e2-e673-4ec0-9937-4a8ed3d8c73e\",\"type\":\"PanTool\"},{\"attributes\":{\"source\":{\"id\":\"2216f653-f27a-4eff-9d12-891cfcacec8e\",\"type\":\"ColumnDataSource\"}},\"id\":\"29cc8b30-1677-415b-b2c9-e940b62b4fb3\",\"type\":\"CDSView\"},{\"attributes\":{\"bottom_units\":\"screen\",\"fill_alpha\":{\"value\":0.5},\"fill_color\":{\"value\":\"lightgrey\"},\"left_units\":\"screen\",\"level\":\"overlay\",\"line_alpha\":{\"value\":1.0},\"line_color\":{\"value\":\"black\"},\"line_dash\":[4,4],\"line_width\":{\"value\":2},\"plot\":null,\"render_mode\":\"css\",\"right_units\":\"screen\",\"top_units\":\"screen\"},\"id\":\"07adde49-e7c4-4459-af13-3c014b3c4ee3\",\"type\":\"BoxAnnotation\"},{\"attributes\":{},\"id\":\"03bd0aa0-b6c4-4db0-8160-24af7e632e07\",\"type\":\"BasicTicker\"},{\"attributes\":{},\"id\":\"9665c37c-8b5e-487c-8702-5c0ab8809b3a\",\"type\":\"WheelZoomTool\"},{\"attributes\":{\"callback\":null,\"data\":{\"x\":{\"__ndarray__\":\"9XUJHEPfwD8uJ6LQiwKEP91JOPM6CXk/E/GN2uGMUT9wAX3mWb5vvw3HduSv3IC/rBZNcZn2iL+z+wfxfmWQvww/r63cYZS/f2IqHpOcmL8U2jfM1zKdv0u7a+UyKaG/qPrSMaBEpL/Uc16ls3qpv4oYLULcla+/vMMWUOLSsL9wT40gYHCvvwRUjIHiuKy/gaRI8QPtpr+evY6THXaWvz/Cw8OaG5Y/IH1Rim+Lvj+966ZzyWHRPzHTUWkfRtE/hqocg+Nswz8x3VZAwiy1P0XMRaxgfKc/Co03ZMk9mT8SnvH5OAWLP+BV3csHiXs/94Z5kTR4Yj9ZGMLrY1dEv1fSiUoDNFO/DVwzFaY9SL8hVT70XIVLvxh8pSqwslS//iTD1EvRV7/gOAFyb6pYvxqPsDExEmC/E6MB2X9mZr+TgxCKUcJpvyjspDLMH2i/Snk55btfZ79jeA6bv39nv/NmbiyKEWi/vbeHXCcwaL/AqMHIlBVnvw/swfP1rWS/iHDUkTHsYL+vKueBAoVXv9T1vsnQlEW/CXPcclIPLD/5mdJwRX9TP6naiI1UxGI/tO6ZiOIFbT/ecCzjN2l0P3s5dEJ9Tns/2MBGcKQugj+3D112ptWGP/7VUFsEdYs/AtSN3SkQkD/Uy/xem3GSP+liYfU47ZQ/9h5IjfKUlz9miHKICYGaP2gR04NX0p0/XodTrjy9oD8mHvd9nXOiP6XT93CCnKM/UYgTp3kYpD8LQuECvESkP3rqEofMkqQ/kkKEeFdPpT9icWV0M+imP4CQBJg0ca4/\",\"dtype\":\"float64\",\"shape\":[75]},\"y\":{\"__ndarray__\":\"GhExyth1ND/Sv8nbtpRIP2vylNV0PVE/aTum7souWD/At0SJ8fVgPw3Iuahxymc/MSNhhJWvcD/bTfBN02d3P2zb5nxnaoA/CD5h5MAGhz8NmeH1TyaQP+zrCsc9p5Y/LbKd76fGnz/bLW5ISEmmPww9YvTcQq8/JV2OstnstT8Er5Y7M8G+P0c+r3jqkcU/5h99k6ZBzj88bCIzFzjVP4enV8oyxN0//yH99nXg5D8qOpLLf0jtP5kqGJXUifQ/c9cS8kHP/D+/DpwzojQEQIEmwoanVwxA4lgXt9HgE0BSSZ2AJuIbQAMJih9jjiNA5q4l5INuK0AwTKYKRj0zQNv5fmq8/DpAaCJseHrtQkB/+zpwzoxKQM3MzMzMeFJAZmZmZmZqWEAAAAAAAFxeQM3MzMzMJmJAmpmZmZkfZUBmZmZmZhhoQDMzMzMzEWtAAAAAAAAKbkBmZmZmZoFwQM3MzMzM/XFAMzMzMzN6c0CamZmZmfZ0QAAAAAAAc3ZAZmZmZmbvd0DNzMzMzGt5QDMzMzMz6HpAmpmZmZlkfEAAAAAAAOF9QGZmZmZmXX9AZmZmZuZsgECamZmZGSuBQM3MzMxM6YFAAAAAAICngkAzMzMzs2WDQGZmZmbmI4RAmpmZmRnihEDNzMzMTKCFQAAAAACAXoZAMzMzM7Mch0BmZmZm5tqHQJqZmZkZmYhAzczMzExXiUAAAAAAgBWKQDMzMzOz04pAZmZmZuaRi0CamZmZGVCMQM3MzMxMDo1AAAAAAIDMjUAzMzMzs4qOQGZmZmbmSI9A\",\"dtype\":\"float64\",\"shape\":[75]}},\"selected\":{\"id\":\"805e04b2-0990-4143-ba1d-8c7d4666ff8d\",\"type\":\"Selection\"},\"selection_policy\":{\"id\":\"60b9b4ad-bc1c-48b8-84bf-7908aa6a7f94\",\"type\":\"UnionRenderers\"}},\"id\":\"526e40af-e52b-4afe-9e56-9a19b33344ca\",\"type\":\"ColumnDataSource\"},{\"attributes\":{\"overlay\":{\"id\":\"07adde49-e7c4-4459-af13-3c014b3c4ee3\",\"type\":\"BoxAnnotation\"}},\"id\":\"4346bae8-22b0-4d5f-b843-1f5a7452d8f4\",\"type\":\"BoxZoomTool\"},{\"attributes\":{},\"id\":\"ed81e77f-0eeb-464c-83b9-5dfa64c7cd09\",\"type\":\"SaveTool\"},{\"attributes\":{\"data_source\":{\"id\":\"0225c70e-5a46-4ba4-b48a-9201c2322dac\",\"type\":\"ColumnDataSource\"},\"glyph\":{\"id\":\"e0c96c2c-4e9d-4870-b86f-a31367d812f1\",\"type\":\"Circle\"},\"hover_glyph\":null,\"muted_glyph\":null,\"nonselection_glyph\":{\"id\":\"f4becfd3-d2ff-4788-849b-53eb328573b4\",\"type\":\"Circle\"},\"selection_glyph\":null,\"view\":{\"id\":\"ab3b3375-6813-42f6-97f0-52dc61fd5a4a\",\"type\":\"CDSView\"}},\"id\":\"ae37fb83-dca9-4b1a-bced-c2f4eb9f1ba2\",\"type\":\"GlyphRenderer\"},{\"attributes\":{},\"id\":\"063fc847-97e1-44a7-9c5c-4f85e06784ef\",\"type\":\"ResetTool\"},{\"attributes\":{\"callback\":null,\"end\":0.27501909227000004,\"start\":-0.07439743927},\"id\":\"6207ce0e-5982-4ce3-ae55-a191a9d68ac9\",\"type\":\"Range1d\"},{\"attributes\":{\"line_alpha\":0.1,\"line_color\":\"#1f77b4\",\"line_width\":3,\"x\":{\"field\":\"x\"},\"y\":{\"field\":\"y\"}},\"id\":\"3c8a5a89-a340-4c8c-8d2b-f729b58095d5\",\"type\":\"Line\"},{\"attributes\":{},\"id\":\"678d34c9-ab3d-4451-ada4-8e23c3da41e6\",\"type\":\"HelpTool\"},{\"attributes\":{\"axis_label\":\"cooling rate [K/day]\",\"formatter\":{\"id\":\"1e4ccc75-32de-453a-ac33-d85528664b1d\",\"type\":\"BasicTickFormatter\"},\"plot\":{\"id\":\"f6ca2f3b-cde2-4e59-b54c-f4af7c89e89f\",\"subtype\":\"Figure\",\"type\":\"Plot\"},\"ticker\":{\"id\":\"03bd0aa0-b6c4-4db0-8160-24af7e632e07\",\"type\":\"BasicTicker\"}},\"id\":\"3cd0b795-ad25-404e-a432-3c425e7e2f77\",\"type\":\"LinearAxis\"},{\"attributes\":{\"data_source\":{\"id\":\"526e40af-e52b-4afe-9e56-9a19b33344ca\",\"type\":\"ColumnDataSource\"},\"glyph\":{\"id\":\"c4e2b2f5-550e-4891-8610-98062a5143d8\",\"type\":\"Line\"},\"hover_glyph\":null,\"muted_glyph\":null,\"nonselection_glyph\":{\"id\":\"73e0c565-bca3-42fb-9e76-beb8101d1613\",\"type\":\"Line\"},\"selection_glyph\":null,\"view\":{\"id\":\"63982273-d81d-4b61-96d7-26741801f7ff\",\"type\":\"CDSView\"}},\"id\":\"ee753a99-c315-4c79-ae48-391d66dbf705\",\"type\":\"GlyphRenderer\"},{\"attributes\":{\"source\":{\"id\":\"526e40af-e52b-4afe-9e56-9a19b33344ca\",\"type\":\"ColumnDataSource\"}},\"id\":\"63982273-d81d-4b61-96d7-26741801f7ff\",\"type\":\"CDSView\"},{\"attributes\":{\"axis_label\":\"pressure [mb]\",\"formatter\":{\"id\":\"db63d9d3-95a6-4c99-9b89-c08906cc3106\",\"type\":\"LogTickFormatter\"},\"plot\":{\"id\":\"f6ca2f3b-cde2-4e59-b54c-f4af7c89e89f\",\"subtype\":\"Figure\",\"type\":\"Plot\"},\"ticker\":{\"id\":\"50615b37-5381-4db5-a5a1-a45e2fa5c1e8\",\"type\":\"LogTicker\"}},\"id\":\"a3c18e66-a000-40ca-96ae-d3c0db283c9d\",\"type\":\"LogAxis\"},{\"attributes\":{\"line_color\":\"#4daf4a\",\"line_width\":1.5,\"x\":{\"field\":\"x\"},\"y\":{\"field\":\"y\"}},\"id\":\"c4e2b2f5-550e-4891-8610-98062a5143d8\",\"type\":\"Line\"},{\"attributes\":{\"line_alpha\":0.6,\"line_color\":\"#984ea3\",\"line_width\":3,\"x\":{\"field\":\"x\"},\"y\":{\"field\":\"y\"}},\"id\":\"964fe0aa-59c4-4ce8-b915-407a0168c453\",\"type\":\"Line\"},{\"attributes\":{\"plot\":null,\"text\":\"Log pressure scale\"},\"id\":\"db9e58ae-64ab-419b-acb3-4274831d6e4c\",\"type\":\"Title\"},{\"attributes\":{\"source\":{\"id\":\"68400b09-4e8b-4f85-973c-a2d6ef156a05\",\"type\":\"ColumnDataSource\"}},\"id\":\"6f21c7b2-4e47-4f96-99fc-1941685966a1\",\"type\":\"CDSView\"},{\"attributes\":{\"source\":{\"id\":\"d1bd3bc4-4219-4dde-9b1b-c7070d2b9606\",\"type\":\"ColumnDataSource\"}},\"id\":\"a5ea9440-17c0-420c-b613-899d3e888751\",\"type\":\"CDSView\"},{\"attributes\":{\"source\":{\"id\":\"e751c079-6e72-4b70-bc81-7aeb30bac0a8\",\"type\":\"ColumnDataSource\"}},\"id\":\"f3bb63c6-03ab-487c-909b-8bbe1f9365fb\",\"type\":\"CDSView\"},{\"attributes\":{\"line_alpha\":0.1,\"line_color\":\"#1f77b4\",\"line_width\":1.5,\"x\":{\"field\":\"x\"},\"y\":{\"field\":\"y\"}},\"id\":\"73e0c565-bca3-42fb-9e76-beb8101d1613\",\"type\":\"Line\"},{\"attributes\":{\"callback\":null,\"data\":{\"x\":{\"__ndarray__\":\"9XUJHEPfwD8uJ6LQiwKEP91JOPM6CXk/E/GN2uGMUT9wAX3mWb5vvw3HduSv3IC/rBZNcZn2iL+z+wfxfmWQvww/r63cYZS/f2IqHpOcmL8U2jfM1zKdv0u7a+UyKaG/qPrSMaBEpL/Uc16ls3qpv4oYLULcla+/vMMWUOLSsL9wT40gYHCvvwRUjIHiuKy/gaRI8QPtpr+evY6THXaWvz/Cw8OaG5Y/IH1Rim+Lvj+966ZzyWHRPzHTUWkfRtE/hqocg+Nswz8x3VZAwiy1P0XMRaxgfKc/Co03ZMk9mT8SnvH5OAWLP+BV3csHiXs/94Z5kTR4Yj9ZGMLrY1dEv1fSiUoDNFO/DVwzFaY9SL8hVT70XIVLvxh8pSqwslS//iTD1EvRV7/gOAFyb6pYvxqPsDExEmC/E6MB2X9mZr+TgxCKUcJpvyjspDLMH2i/Snk55btfZ79jeA6bv39nv/NmbiyKEWi/vbeHXCcwaL/AqMHIlBVnvw/swfP1rWS/iHDUkTHsYL+vKueBAoVXv9T1vsnQlEW/CXPcclIPLD/5mdJwRX9TP6naiI1UxGI/tO6ZiOIFbT/ecCzjN2l0P3s5dEJ9Tns/2MBGcKQugj+3D112ptWGP/7VUFsEdYs/AtSN3SkQkD/Uy/xem3GSP+liYfU47ZQ/9h5IjfKUlz9miHKICYGaP2gR04NX0p0/XodTrjy9oD8mHvd9nXOiP6XT93CCnKM/UYgTp3kYpD8LQuECvESkP3rqEofMkqQ/kkKEeFdPpT9icWV0M+imP4CQBJg0ca4/\",\"dtype\":\"float64\",\"shape\":[75]},\"y\":{\"__ndarray__\":\"GhExyth1ND/Sv8nbtpRIP2vylNV0PVE/aTum7souWD/At0SJ8fVgPw3Iuahxymc/MSNhhJWvcD/bTfBN02d3P2zb5nxnaoA/CD5h5MAGhz8NmeH1TyaQP+zrCsc9p5Y/LbKd76fGnz/bLW5ISEmmPww9YvTcQq8/JV2OstnstT8Er5Y7M8G+P0c+r3jqkcU/5h99k6ZBzj88bCIzFzjVP4enV8oyxN0//yH99nXg5D8qOpLLf0jtP5kqGJXUifQ/c9cS8kHP/D+/DpwzojQEQIEmwoanVwxA4lgXt9HgE0BSSZ2AJuIbQAMJih9jjiNA5q4l5INuK0AwTKYKRj0zQNv5fmq8/DpAaCJseHrtQkB/+zpwzoxKQM3MzMzMeFJAZmZmZmZqWEAAAAAAAFxeQM3MzMzMJmJAmpmZmZkfZUBmZmZmZhhoQDMzMzMzEWtAAAAAAAAKbkBmZmZmZoFwQM3MzMzM/XFAMzMzMzN6c0CamZmZmfZ0QAAAAAAAc3ZAZmZmZmbvd0DNzMzMzGt5QDMzMzMz6HpAmpmZmZlkfEAAAAAAAOF9QGZmZmZmXX9AZmZmZuZsgECamZmZGSuBQM3MzMxM6YFAAAAAAICngkAzMzMzs2WDQGZmZmbmI4RAmpmZmRnihEDNzMzMTKCFQAAAAACAXoZAMzMzM7Mch0BmZmZm5tqHQJqZmZkZmYhAzczMzExXiUAAAAAAgBWKQDMzMzOz04pAZmZmZuaRi0CamZmZGVCMQM3MzMxMDo1AAAAAAIDMjUAzMzMzs4qOQGZmZmbmSI9A\",\"dtype\":\"float64\",\"shape\":[75]}},\"selected\":{\"id\":\"e6202d47-8052-41ee-81ce-bf813679d76a\",\"type\":\"Selection\"},\"selection_policy\":{\"id\":\"147495c1-4d82-4b29-83cd-3098e9f4281b\",\"type\":\"UnionRenderers\"}},\"id\":\"f585bc2b-edf6-4d0a-a489-4d5517e01814\",\"type\":\"ColumnDataSource\"},{\"attributes\":{\"fill_alpha\":{\"value\":0.7},\"fill_color\":{\"value\":\"#984ea3\"},\"line_alpha\":{\"value\":0.7},\"line_color\":{\"value\":\"#984ea3\"},\"x\":{\"field\":\"x\"},\"y\":{\"field\":\"y\"}},\"id\":\"d3fab48e-6866-472b-a0ff-accd7d8b5f67\",\"type\":\"Square\"},{\"attributes\":{\"fill_alpha\":{\"value\":0.1},\"fill_color\":{\"value\":\"#1f77b4\"},\"line_alpha\":{\"value\":0.1},\"line_color\":{\"value\":\"#1f77b4\"},\"x\":{\"field\":\"x\"},\"y\":{\"field\":\"y\"}},\"id\":\"0e9bbb94-b461-424e-9b50-fac072e96559\",\"type\":\"Square\"},{\"attributes\":{\"line_alpha\":0.1,\"line_color\":\"#1f77b4\",\"line_width\":3,\"x\":{\"field\":\"x\"},\"y\":{\"field\":\"y\"}},\"id\":\"a1349855-13ae-46b7-a88f-f6432499a68b\",\"type\":\"Line\"},{\"attributes\":{\"active_drag\":\"auto\",\"active_inspect\":\"auto\",\"active_scroll\":\"auto\",\"active_tap\":\"auto\",\"tools\":[{\"id\":\"f4bd65e2-e673-4ec0-9937-4a8ed3d8c73e\",\"type\":\"PanTool\"},{\"id\":\"9665c37c-8b5e-487c-8702-5c0ab8809b3a\",\"type\":\"WheelZoomTool\"},{\"id\":\"4346bae8-22b0-4d5f-b843-1f5a7452d8f4\",\"type\":\"BoxZoomTool\"},{\"id\":\"ed81e77f-0eeb-464c-83b9-5dfa64c7cd09\",\"type\":\"SaveTool\"},{\"id\":\"063fc847-97e1-44a7-9c5c-4f85e06784ef\",\"type\":\"ResetTool\"},{\"id\":\"678d34c9-ab3d-4451-ada4-8e23c3da41e6\",\"type\":\"HelpTool\"}]},\"id\":\"91c4b478-ce31-4574-84f8-bb8c534b26aa\",\"type\":\"Toolbar\"},{\"attributes\":{\"items\":[{\"id\":\"38bed216-f5b5-417f-9ad8-017d61568272\",\"type\":\"LegendItem\"},{\"id\":\"6fe4ffa5-268a-4401-bdff-c2c42da4badf\",\"type\":\"LegendItem\"},{\"id\":\"c4cff729-9023-45ad-ba1b-5b46f7515af4\",\"type\":\"LegendItem\"}],\"label_text_font_size\":{\"value\":\"8pt\"},\"location\":[10,-30],\"plot\":{\"id\":\"f6ca2f3b-cde2-4e59-b54c-f4af7c89e89f\",\"subtype\":\"Figure\",\"type\":\"Plot\"}},\"id\":\"76b1129d-e7d8-4fea-9921-ddb8a2a5e9f0\",\"type\":\"Legend\"},{\"attributes\":{},\"id\":\"0e33753a-cf43-4a82-bab6-41ddd35769ef\",\"type\":\"LogScale\"},{\"attributes\":{},\"id\":\"29a8dab1-d545-4f3e-899e-17eba6530a82\",\"type\":\"LinearScale\"},{\"attributes\":{\"line_alpha\":0.6,\"line_color\":\"#e41a1c\",\"line_dash\":[6],\"line_width\":5,\"x\":{\"field\":\"x\"},\"y\":{\"field\":\"y\"}},\"id\":\"aeeee49a-03da-4db8-9333-090598d6f80d\",\"type\":\"Line\"},{\"attributes\":{\"callback\":null,\"data\":{\"x\":{\"__ndarray__\":\"bf1XyvDn0T/1+Rv5K4C1P4qD/Tcslqg/csGxGImRkD9zUT1y3EuCv5Nd9Asyppm/tYdsCcH2oL970xAvMZGiv2kVuYScJ6O/zUTeYBKoo7+/t8jBlYGkvxIDJVGkBaa/uYNSYHOhqL+kxKk0NC6uv6SKGgA1K7K/4wPiRcTssb/uNxIcImSsv5g52d1uD6S/HLzIZybWlb8tmkQ4gwpZv1AEe5DBMZs/1Q7aBkn6uT8LwT/f9R3OPwnStcQEFM8/bWrqhreYxD+Sn2TdBWu7P7d8mzPfl7A/nAi1uxQSoD/QsvtJDVGHP+qE81CrTXM/fO1rNjWdcD/o7WjQEhNkPwGwWMj+p0I/39/nB8C4O7/7pZFU9yhSv3dKDcnezVm/6ofT8EaSW7//SjsxA4dbv1AdG6A8/GG/JRaZPWdLab8uTNVnVhBtv4U9+fW0nGu/q36518j8a7+2xwgxYmJtv6x2GA18cG6/qhIoDBEKbr8HXbzD2Mdsv8Q984pQ+Wq/gMlHuyN9aL+1gpNmlOtkv/RyVWpIrV+/jjDn/hOoUb/GRCRePzX+PjRRPbZCaFY/3oD7a4XqZz/I6hJpLRlzP/MuyGGq/Ho/aQ8NKUxBgj/nyVvM1MaGP2jmGn0Esoo/fix8MR8Gjj8LneFKmXuQP3WDSlcO/5E/KXd0Y0fRkz9oWqSBBjiWPzDemU2jcJk/x0oYQthtnT9yvfHe5segP3cD3F6YbaI/JmBL+kF+oz/mmzp9p0OkP8LSNZ3hKaU/UWV26IRopj8HBpkv8lyoP9GBM5iJGbA/\",\"dtype\":\"float64\",\"shape\":[75]},\"y\":{\"__ndarray__\":\"GhExyth1ND/Sv8nbtpRIP2vylNV0PVE/aTum7souWD/At0SJ8fVgPw3Iuahxymc/MSNhhJWvcD/bTfBN02d3P2zb5nxnaoA/CD5h5MAGhz8NmeH1TyaQP+zrCsc9p5Y/LbKd76fGnz/bLW5ISEmmPww9YvTcQq8/JV2OstnstT8Er5Y7M8G+P0c+r3jqkcU/5h99k6ZBzj88bCIzFzjVP4enV8oyxN0//yH99nXg5D8qOpLLf0jtP5kqGJXUifQ/c9cS8kHP/D+/DpwzojQEQIEmwoanVwxA4lgXt9HgE0BSSZ2AJuIbQAMJih9jjiNA5q4l5INuK0AwTKYKRj0zQNv5fmq8/DpAaCJseHrtQkB/+zpwzoxKQM3MzMzMeFJAZmZmZmZqWEAAAAAAAFxeQM3MzMzMJmJAmpmZmZkfZUBmZmZmZhhoQDMzMzMzEWtAAAAAAAAKbkBmZmZmZoFwQM3MzMzM/XFAMzMzMzN6c0CamZmZmfZ0QAAAAAAAc3ZAZmZmZmbvd0DNzMzMzGt5QDMzMzMz6HpAmpmZmZlkfEAAAAAAAOF9QGZmZmZmXX9AZmZmZuZsgECamZmZGSuBQM3MzMxM6YFAAAAAAICngkAzMzMzs2WDQGZmZmbmI4RAmpmZmRnihEDNzMzMTKCFQAAAAACAXoZAMzMzM7Mch0BmZmZm5tqHQJqZmZkZmYhAzczMzExXiUAAAAAAgBWKQDMzMzOz04pAZmZmZuaRi0CamZmZGVCMQM3MzMxMDo1AAAAAAIDMjUAzMzMzs4qOQGZmZmbmSI9A\",\"dtype\":\"float64\",\"shape\":[75]}},\"selected\":{\"id\":\"874bb2fd-e2ed-4625-927d-8b8ba964d62e\",\"type\":\"Selection\"},\"selection_policy\":{\"id\":\"5e8c627f-0348-4e5a-8c73-07325cd9be85\",\"type\":\"UnionRenderers\"}},\"id\":\"e751c079-6e72-4b70-bc81-7aeb30bac0a8\",\"type\":\"ColumnDataSource\"},{\"attributes\":{\"callback\":null,\"data\":{\"x\":{\"__ndarray__\":\"bf1XyvDn0T/1+Rv5K4C1P4qD/Tcslqg/csGxGImRkD9zUT1y3EuCv5Nd9Asyppm/tYdsCcH2oL970xAvMZGiv2kVuYScJ6O/zUTeYBKoo7+/t8jBlYGkvxIDJVGkBaa/uYNSYHOhqL+kxKk0NC6uv6SKGgA1K7K/4wPiRcTssb/uNxIcImSsv5g52d1uD6S/HLzIZybWlb8tmkQ4gwpZv1AEe5DBMZs/1Q7aBkn6uT8LwT/f9R3OPwnStcQEFM8/bWrqhreYxD+Sn2TdBWu7P7d8mzPfl7A/nAi1uxQSoD/QsvtJDVGHP+qE81CrTXM/fO1rNjWdcD/o7WjQEhNkPwGwWMj+p0I/39/nB8C4O7/7pZFU9yhSv3dKDcnezVm/6ofT8EaSW7//SjsxA4dbv1AdG6A8/GG/JRaZPWdLab8uTNVnVhBtv4U9+fW0nGu/q36518j8a7+2xwgxYmJtv6x2GA18cG6/qhIoDBEKbr8HXbzD2Mdsv8Q984pQ+Wq/gMlHuyN9aL+1gpNmlOtkv/RyVWpIrV+/jjDn/hOoUb/GRCRePzX+PjRRPbZCaFY/3oD7a4XqZz/I6hJpLRlzP/MuyGGq/Ho/aQ8NKUxBgj/nyVvM1MaGP2jmGn0Esoo/fix8MR8Gjj8LneFKmXuQP3WDSlcO/5E/KXd0Y0fRkz9oWqSBBjiWPzDemU2jcJk/x0oYQthtnT9yvfHe5segP3cD3F6YbaI/JmBL+kF+oz/mmzp9p0OkP8LSNZ3hKaU/UWV26IRopj8HBpkv8lyoP9GBM5iJGbA/\",\"dtype\":\"float64\",\"shape\":[75]},\"y\":{\"__ndarray__\":\"GhExyth1ND/Sv8nbtpRIP2vylNV0PVE/aTum7souWD/At0SJ8fVgPw3Iuahxymc/MSNhhJWvcD/bTfBN02d3P2zb5nxnaoA/CD5h5MAGhz8NmeH1TyaQP+zrCsc9p5Y/LbKd76fGnz/bLW5ISEmmPww9YvTcQq8/JV2OstnstT8Er5Y7M8G+P0c+r3jqkcU/5h99k6ZBzj88bCIzFzjVP4enV8oyxN0//yH99nXg5D8qOpLLf0jtP5kqGJXUifQ/c9cS8kHP/D+/DpwzojQEQIEmwoanVwxA4lgXt9HgE0BSSZ2AJuIbQAMJih9jjiNA5q4l5INuK0AwTKYKRj0zQNv5fmq8/DpAaCJseHrtQkB/+zpwzoxKQM3MzMzMeFJAZmZmZmZqWEAAAAAAAFxeQM3MzMzMJmJAmpmZmZkfZUBmZmZmZhhoQDMzMzMzEWtAAAAAAAAKbkBmZmZmZoFwQM3MzMzM/XFAMzMzMzN6c0CamZmZmfZ0QAAAAAAAc3ZAZmZmZmbvd0DNzMzMzGt5QDMzMzMz6HpAmpmZmZlkfEAAAAAAAOF9QGZmZmZmXX9AZmZmZuZsgECamZmZGSuBQM3MzMxM6YFAAAAAAICngkAzMzMzs2WDQGZmZmbmI4RAmpmZmRnihEDNzMzMTKCFQAAAAACAXoZAMzMzM7Mch0BmZmZm5tqHQJqZmZkZmYhAzczMzExXiUAAAAAAgBWKQDMzMzOz04pAZmZmZuaRi0CamZmZGVCMQM3MzMxMDo1AAAAAAIDMjUAzMzMzs4qOQGZmZmbmSI9A\",\"dtype\":\"float64\",\"shape\":[75]}},\"selected\":{\"id\":\"61876634-6d3d-43ae-b185-2edd8be4d988\",\"type\":\"Selection\"},\"selection_policy\":{\"id\":\"1fe124cd-3f01-49af-b365-1e4b8362560d\",\"type\":\"UnionRenderers\"}},\"id\":\"2216f653-f27a-4eff-9d12-891cfcacec8e\",\"type\":\"ColumnDataSource\"},{\"attributes\":{\"line_alpha\":0.1,\"line_color\":\"#1f77b4\",\"line_dash\":[6],\"line_width\":5,\"x\":{\"field\":\"x\"},\"y\":{\"field\":\"y\"}},\"id\":\"47849c72-24f3-4abf-9103-ebbbc1270b7c\",\"type\":\"Line\"},{\"attributes\":{\"data_source\":{\"id\":\"68400b09-4e8b-4f85-973c-a2d6ef156a05\",\"type\":\"ColumnDataSource\"},\"glyph\":{\"id\":\"aeeee49a-03da-4db8-9333-090598d6f80d\",\"type\":\"Line\"},\"hover_glyph\":null,\"muted_glyph\":null,\"nonselection_glyph\":{\"id\":\"47849c72-24f3-4abf-9103-ebbbc1270b7c\",\"type\":\"Line\"},\"selection_glyph\":null,\"view\":{\"id\":\"6f21c7b2-4e47-4f96-99fc-1941685966a1\",\"type\":\"CDSView\"}},\"id\":\"97121625-a8be-4b83-a091-0455e1aefad2\",\"type\":\"GlyphRenderer\"},{\"attributes\":{\"plot\":{\"id\":\"f6ca2f3b-cde2-4e59-b54c-f4af7c89e89f\",\"subtype\":\"Figure\",\"type\":\"Plot\"},\"ticker\":{\"id\":\"03bd0aa0-b6c4-4db0-8160-24af7e632e07\",\"type\":\"BasicTicker\"}},\"id\":\"6d805710-6774-4bc8-81b3-78153f35afbd\",\"type\":\"Grid\"},{\"attributes\":{},\"id\":\"b2dd5773-b77d-4c96-a7a4-2706ab69ead6\",\"type\":\"BasicTickFormatter\"},{\"attributes\":{\"fill_alpha\":{\"value\":0.7},\"fill_color\":{\"value\":\"#4daf4a\"},\"line_alpha\":{\"value\":0.7},\"line_color\":{\"value\":\"#4daf4a\"},\"x\":{\"field\":\"x\"},\"y\":{\"field\":\"y\"}},\"id\":\"e0c96c2c-4e9d-4870-b86f-a31367d812f1\",\"type\":\"Circle\"},{\"attributes\":{\"callback\":null,\"end\":0.01,\"start\":1020},\"id\":\"50393ae0-726b-49c2-b2db-4de87f56f50c\",\"type\":\"Range1d\"},{\"attributes\":{\"data_source\":{\"id\":\"d1bd3bc4-4219-4dde-9b1b-c7070d2b9606\",\"type\":\"ColumnDataSource\"},\"glyph\":{\"id\":\"d3fab48e-6866-472b-a0ff-accd7d8b5f67\",\"type\":\"Square\"},\"hover_glyph\":null,\"muted_glyph\":null,\"nonselection_glyph\":{\"id\":\"0e9bbb94-b461-424e-9b50-fac072e96559\",\"type\":\"Square\"},\"selection_glyph\":null,\"view\":{\"id\":\"a5ea9440-17c0-420c-b613-899d3e888751\",\"type\":\"CDSView\"}},\"id\":\"89f79f97-bb03-4337-a16d-2b7cac04ab5b\",\"type\":\"GlyphRenderer\"},{\"attributes\":{\"callback\":null,\"data\":{\"x\":{\"__ndarray__\":\"ZJ2/QzAS0T+p7kj3noq2PxTCcp2phKc/N4pZpErKgz8iPD9kSFCRv1W0Tmm4WaC/qijnVstHo7+X3pkxTkGkvzrhdH7JR6S/XRVz0xCcpL94WOWY5Rilv2MRLfMCXqa/Dd78K9CTqL8DoTkOY6Ktv52CASaeo7G/Cvhlyxo+sb+l4TsBsq+qv1exTk4ajqG/0KW18l0NkL+0yNoNgMtjP4zRYynMWpo/LKIPXgfDuD8URu1dB3fNP0vZdbFhtM4/9/Iz3B0lxT+s+wlfRk69P/oj/ddoIrI/uoUb4c40oD82M1JlkxmAPzACtsUtzWo/dYD18ho/dT9FmUu6Bu5qPzYpHcoTJ0Q/5fB/nbMNS79/URCpWuxVv1enAX3GcFq/su5Z/3kmXL8XyjrCfzhcv4xC4HpsQWK/J3FCF0d7ab9Pu1u6giRtv/MeOIa/6Gu/hjxiMmWAbL8KuikcO0xuv5XpwSwOUW+/Q6KqNGtqbr+YB4WRcgFtvx5d7Wx9jWu/2fgnCzO6ab9nKURFNv5mv8VTaW0VImK/pBCK5m/tVb/SDWHWLnUWv3s8gIeaz1Y/d9l2bFm9aT/V+WyrfeR0Pwfxjdm8Z30/+KTLDvWjgz9m+wfG/giIP3fAALgVn4s/Ioaz4QQ0jj/zk05KXw2QP0yryLhHDpE/aKU5R1fIkj/VOdYqmRqVP3unru7rz5g/w0o1TmscnT/wKCGacQGhP8YD40P97KI/wkaH94Q7pD+mLv1xGTylPz2qVUyJSqY/+i5RL4uYpz9wgxQbd3OpP2ps5PeMfbA/\",\"dtype\":\"float64\",\"shape\":[75]},\"y\":{\"__ndarray__\":\"S/O/Q+51ND/Sv8nbtpRIP2vylNV0PVE/aTum7souWD/At0SJ8fVgPw3Iuahxymc/MSNhhJWvcD/bTfBN02d3P2zb5nxnaoA/CD5h5MAGhz8NmeH1TyaQP+zrCsc9p5Y/LbKd76fGnz/bLW5ISEmmPww9YvTcQq8/JV2OstnstT8Er5Y7M8G+P0c+r3jqkcU/5h99k6ZBzj88bCIzFzjVP4enV8oyxN0//yH99nXg5D8qOpLLf0jtP5kqGJXUifQ/c9cS8kHP/D+/DpwzojQEQIEmwoanVwxA4lgXt9HgE0BSSZ2AJuIbQAMJih9jjiNA5q4l5INuK0AwTKYKRj0zQNv5fmq8/DpAaCJseHrtQkB/+zpwzoxKQM3MzMzMeFJAZmZmZmZqWEAAAAAAAFxeQM3MzMzMJmJAmpmZmZkfZUBmZmZmZhhoQDMzMzMzEWtAAAAAAAAKbkBmZmZmZoFwQM3MzMzM/XFAMzMzMzN6c0CamZmZmfZ0QAAAAAAAc3ZAZmZmZmbvd0DNzMzMzGt5QDMzMzMz6HpAmpmZmZlkfEAAAAAAAOF9QGZmZmZmXX9AZmZmZuZsgECamZmZGSuBQM3MzMxM6YFAAAAAAICngkAzMzMzs2WDQGZmZmbmI4RAmpmZmRnihEDNzMzMTKCFQAAAAACAXoZAMzMzM7Mch0BmZmZm5tqHQJqZmZkZmYhAzczMzExXiUAAAAAAgBWKQDMzMzOz04pAZmZmZuaRi0CamZmZGVCMQM3MzMxMDo1AAAAAAIDMjUAzMzMzs4qOQGZmZmbmSI9A\",\"dtype\":\"float64\",\"shape\":[75]}},\"selected\":{\"id\":\"66d5e135-398a-42ea-94f6-119753178d5b\",\"type\":\"Selection\"},\"selection_policy\":{\"id\":\"f60027f7-17a8-4a18-8c39-712bf496fd8c\",\"type\":\"UnionRenderers\"}},\"id\":\"68400b09-4e8b-4f85-973c-a2d6ef156a05\",\"type\":\"ColumnDataSource\"},{\"attributes\":{\"source\":{\"id\":\"3fde8739-0166-46db-bd29-226bae7a6bd4\",\"type\":\"ColumnDataSource\"}},\"id\":\"487a11ae-7424-4cf9-88ea-c0b7b7d5885b\",\"type\":\"CDSView\"},{\"attributes\":{\"callback\":null,\"data\":{\"x\":{\"__ndarray__\":\"bf1XyvDn0T/1+Rv5K4C1P4qD/Tcslqg/csGxGImRkD9zUT1y3EuCv5Nd9Asyppm/tYdsCcH2oL970xAvMZGiv2kVuYScJ6O/zUTeYBKoo7+/t8jBlYGkvxIDJVGkBaa/uYNSYHOhqL+kxKk0NC6uv6SKGgA1K7K/4wPiRcTssb/uNxIcImSsv5g52d1uD6S/HLzIZybWlb8tmkQ4gwpZv1AEe5DBMZs/1Q7aBkn6uT8LwT/f9R3OPwnStcQEFM8/bWrqhreYxD+Sn2TdBWu7P7d8mzPfl7A/nAi1uxQSoD/QsvtJDVGHP+qE81CrTXM/fO1rNjWdcD/o7WjQEhNkPwGwWMj+p0I/39/nB8C4O7/7pZFU9yhSv3dKDcnezVm/6ofT8EaSW7//SjsxA4dbv1AdG6A8/GG/JRaZPWdLab8uTNVnVhBtv4U9+fW0nGu/q36518j8a7+2xwgxYmJtv6x2GA18cG6/qhIoDBEKbr8HXbzD2Mdsv8Q984pQ+Wq/gMlHuyN9aL+1gpNmlOtkv/RyVWpIrV+/jjDn/hOoUb/GRCRePzX+PjRRPbZCaFY/3oD7a4XqZz/I6hJpLRlzP/MuyGGq/Ho/aQ8NKUxBgj/nyVvM1MaGP2jmGn0Esoo/fix8MR8Gjj8LneFKmXuQP3WDSlcO/5E/KXd0Y0fRkz9oWqSBBjiWPzDemU2jcJk/x0oYQthtnT9yvfHe5segP3cD3F6YbaI/JmBL+kF+oz/mmzp9p0OkP8LSNZ3hKaU/UWV26IRopj8HBpkv8lyoP9GBM5iJGbA/\",\"dtype\":\"float64\",\"shape\":[75]},\"y\":{\"__ndarray__\":\"GhExyth1ND/Sv8nbtpRIP2vylNV0PVE/aTum7souWD/At0SJ8fVgPw3Iuahxymc/MSNhhJWvcD/bTfBN02d3P2zb5nxnaoA/CD5h5MAGhz8NmeH1TyaQP+zrCsc9p5Y/LbKd76fGnz/bLW5ISEmmPww9YvTcQq8/JV2OstnstT8Er5Y7M8G+P0c+r3jqkcU/5h99k6ZBzj88bCIzFzjVP4enV8oyxN0//yH99nXg5D8qOpLLf0jtP5kqGJXUifQ/c9cS8kHP/D+/DpwzojQEQIEmwoanVwxA4lgXt9HgE0BSSZ2AJuIbQAMJih9jjiNA5q4l5INuK0AwTKYKRj0zQNv5fmq8/DpAaCJseHrtQkB/+zpwzoxKQM3MzMzMeFJAZmZmZmZqWEAAAAAAAFxeQM3MzMzMJmJAmpmZmZkfZUBmZmZmZhhoQDMzMzMzEWtAAAAAAAAKbkBmZmZmZoFwQM3MzMzM/XFAMzMzMzN6c0CamZmZmfZ0QAAAAAAAc3ZAZmZmZmbvd0DNzMzMzGt5QDMzMzMz6HpAmpmZmZlkfEAAAAAAAOF9QGZmZmZmXX9AZmZmZuZsgECamZmZGSuBQM3MzMxM6YFAAAAAAICngkAzMzMzs2WDQGZmZmbmI4RAmpmZmRnihEDNzMzMTKCFQAAAAACAXoZAMzMzM7Mch0BmZmZm5tqHQJqZmZkZmYhAzczMzExXiUAAAAAAgBWKQDMzMzOz04pAZmZmZuaRi0CamZmZGVCMQM3MzMxMDo1AAAAAAIDMjUAzMzMzs4qOQGZmZmbmSI9A\",\"dtype\":\"float64\",\"shape\":[75]}},\"selected\":{\"id\":\"115a9f29-e615-48f8-8387-7f675503a7ff\",\"type\":\"Selection\"},\"selection_policy\":{\"id\":\"61dffa58-0e40-4cf6-97cc-027a493509f1\",\"type\":\"UnionRenderers\"}},\"id\":\"d1bd3bc4-4219-4dde-9b1b-c7070d2b9606\",\"type\":\"ColumnDataSource\"},{\"attributes\":{\"data_source\":{\"id\":\"2216f653-f27a-4eff-9d12-891cfcacec8e\",\"type\":\"ColumnDataSource\"},\"glyph\":{\"id\":\"926c0fcf-985e-4995-8de0-b5d0219570b1\",\"type\":\"Line\"},\"hover_glyph\":null,\"muted_glyph\":null,\"nonselection_glyph\":{\"id\":\"a1349855-13ae-46b7-a88f-f6432499a68b\",\"type\":\"Line\"},\"selection_glyph\":null,\"view\":{\"id\":\"29cc8b30-1677-415b-b2c9-e940b62b4fb3\",\"type\":\"CDSView\"}},\"id\":\"6c7a6d2d-2ab2-4385-ac2b-5f734eba6db5\",\"type\":\"GlyphRenderer\"},{\"attributes\":{\"line_alpha\":0.6,\"line_color\":\"#984ea3\",\"line_width\":3,\"x\":{\"field\":\"x\"},\"y\":{\"field\":\"y\"}},\"id\":\"926c0fcf-985e-4995-8de0-b5d0219570b1\",\"type\":\"Line\"},{\"attributes\":{\"fill_alpha\":{\"value\":0.7},\"fill_color\":{\"value\":\"#4daf4a\"},\"line_alpha\":{\"value\":0.7},\"line_color\":{\"value\":\"#4daf4a\"},\"x\":{\"field\":\"x\"},\"y\":{\"field\":\"y\"}},\"id\":\"21ffea31-4447-4f69-9f24-d498cb96be95\",\"type\":\"Circle\"}],\"root_ids\":[\"b08e49b2-3dbe-466d-9547-b3dde01489d6\"]},\"title\":\"Bokeh Application\",\"version\":\"0.12.16\"}};\n",
       "  var render_items = [{\"docid\":\"b4ea0d6f-86ce-4334-8de9-c4a4cd6427a2\",\"elementid\":\"def66c12-4626-4d38-87e0-ad31f1a103a1\",\"modelid\":\"b08e49b2-3dbe-466d-9547-b3dde01489d6\"}];\n",
       "  root.Bokeh.embed.embed_items_notebook(docs_json, render_items);\n",
       "\n",
       "  }\n",
       "  if (root.Bokeh !== undefined) {\n",
       "    embed_document(root);\n",
       "  } else {\n",
       "    var attempts = 0;\n",
       "    var timer = setInterval(function(root) {\n",
       "      if (root.Bokeh !== undefined) {\n",
       "        embed_document(root);\n",
       "        clearInterval(timer);\n",
       "      }\n",
       "      attempts++;\n",
       "      if (attempts > 100) {\n",
       "        console.log(\"Bokeh: ERROR: Unable to run BokehJS code because BokehJS library is missing\")\n",
       "        clearInterval(timer);\n",
       "      }\n",
       "    }, 10, root)\n",
       "  }\n",
       "})(window);"
      ],
      "application/vnd.bokehjs_exec.v0+json": ""
     },
     "metadata": {
      "application/vnd.bokehjs_exec.v0+json": {
       "id": "b08e49b2-3dbe-466d-9547-b3dde01489d6"
      }
     },
     "output_type": "display_data"
    },
    {
     "name": "stdout",
     "output_type": "stream",
     "text": [
      "FIGURE. Cooling rate profiles.\n"
     ]
    },
    {
     "data": {
      "text/html": [
       "<a id=\"Flux_Comparison\"></a>"
      ],
      "text/plain": [
       "<IPython.core.display.HTML object>"
      ]
     },
     "metadata": {},
     "output_type": "display_data"
    },
    {
     "data": {
      "text/markdown": [
       "# Flux Comparison"
      ],
      "text/plain": [
       "<IPython.core.display.Markdown object>"
      ]
     },
     "metadata": {},
     "output_type": "display_data"
    },
    {
     "data": {
      "text/html": [
       "<div>\n",
       "<style scoped>\n",
       "    .dataframe tbody tr th:only-of-type {\n",
       "        vertical-align: middle;\n",
       "    }\n",
       "\n",
       "    .dataframe tbody tr th {\n",
       "        vertical-align: top;\n",
       "    }\n",
       "\n",
       "    .dataframe thead th {\n",
       "        text-align: right;\n",
       "    }\n",
       "</style>\n",
       "<table border=\"1\" class=\"dataframe\">\n",
       "  <thead>\n",
       "    <tr style=\"text-align: right;\">\n",
       "      <th></th>\n",
       "      <th></th>\n",
       "      <th>flug</th>\n",
       "      <th>fldg</th>\n",
       "      <th>fnetg</th>\n",
       "    </tr>\n",
       "    <tr>\n",
       "      <th>pressure</th>\n",
       "      <th>level</th>\n",
       "      <th></th>\n",
       "      <th></th>\n",
       "      <th></th>\n",
       "    </tr>\n",
       "  </thead>\n",
       "  <tbody>\n",
       "    <tr>\n",
       "      <th>0.0000</th>\n",
       "      <th>1</th>\n",
       "      <td>-4.087705</td>\n",
       "      <td>0.000000</td>\n",
       "      <td>-4.087705</td>\n",
       "    </tr>\n",
       "    <tr>\n",
       "      <th>1.0685</th>\n",
       "      <th>24</th>\n",
       "      <td>-4.095148</td>\n",
       "      <td>0.018857</td>\n",
       "      <td>-4.076292</td>\n",
       "    </tr>\n",
       "    <tr>\n",
       "      <th>1013.0000</th>\n",
       "      <th>76</th>\n",
       "      <td>-6.625452</td>\n",
       "      <td>4.061424</td>\n",
       "      <td>-2.564029</td>\n",
       "    </tr>\n",
       "  </tbody>\n",
       "</table>\n",
       "</div>"
      ],
      "text/plain": [
       "                     flug      fldg     fnetg\n",
       "pressure  level                              \n",
       "0.0000    1     -4.087705  0.000000 -4.087705\n",
       "1.0685    24    -4.095148  0.018857 -4.076292\n",
       "1013.0000 76    -6.625452  4.061424 -2.564029"
      ]
     },
     "metadata": {},
     "output_type": "display_data"
    },
    {
     "name": "stdout",
     "output_type": "stream",
     "text": [
      "Table. Fluxes. CRD\n"
     ]
    },
    {
     "data": {
      "text/html": [
       "<div>\n",
       "<style scoped>\n",
       "    .dataframe tbody tr th:only-of-type {\n",
       "        vertical-align: middle;\n",
       "    }\n",
       "\n",
       "    .dataframe tbody tr th {\n",
       "        vertical-align: top;\n",
       "    }\n",
       "\n",
       "    .dataframe thead th {\n",
       "        text-align: right;\n",
       "    }\n",
       "</style>\n",
       "<table border=\"1\" class=\"dataframe\">\n",
       "  <thead>\n",
       "    <tr style=\"text-align: right;\">\n",
       "      <th></th>\n",
       "      <th></th>\n",
       "      <th>flug</th>\n",
       "      <th>fldg</th>\n",
       "      <th>fnetg</th>\n",
       "    </tr>\n",
       "    <tr>\n",
       "      <th>pressure</th>\n",
       "      <th>level</th>\n",
       "      <th></th>\n",
       "      <th></th>\n",
       "      <th></th>\n",
       "    </tr>\n",
       "  </thead>\n",
       "  <tbody>\n",
       "    <tr>\n",
       "      <th>0.0000</th>\n",
       "      <th>1</th>\n",
       "      <td>-4.022411</td>\n",
       "      <td>0.000000</td>\n",
       "      <td>-4.022411</td>\n",
       "    </tr>\n",
       "    <tr>\n",
       "      <th>1.0685</th>\n",
       "      <th>24</th>\n",
       "      <td>-4.030233</td>\n",
       "      <td>0.018090</td>\n",
       "      <td>-4.012142</td>\n",
       "    </tr>\n",
       "    <tr>\n",
       "      <th>1013.0000</th>\n",
       "      <th>76</th>\n",
       "      <td>-6.625452</td>\n",
       "      <td>4.040676</td>\n",
       "      <td>-2.584776</td>\n",
       "    </tr>\n",
       "  </tbody>\n",
       "</table>\n",
       "</div>"
      ],
      "text/plain": [
       "                     flug      fldg     fnetg\n",
       "pressure  level                              \n",
       "0.0000    1     -4.022411  0.000000 -4.022411\n",
       "1.0685    24    -4.030233  0.018090 -4.012142\n",
       "1013.0000 76    -6.625452  4.040676 -2.584776"
      ]
     },
     "metadata": {},
     "output_type": "display_data"
    },
    {
     "name": "stdout",
     "output_type": "stream",
     "text": [
      "Table. Fluxes. WGT igg=10 wgt_flux=1\n"
     ]
    },
    {
     "data": {
      "text/html": [
       "<div>\n",
       "<style scoped>\n",
       "    .dataframe tbody tr th:only-of-type {\n",
       "        vertical-align: middle;\n",
       "    }\n",
       "\n",
       "    .dataframe tbody tr th {\n",
       "        vertical-align: top;\n",
       "    }\n",
       "\n",
       "    .dataframe thead th {\n",
       "        text-align: right;\n",
       "    }\n",
       "</style>\n",
       "<table border=\"1\" class=\"dataframe\">\n",
       "  <thead>\n",
       "    <tr style=\"text-align: right;\">\n",
       "      <th></th>\n",
       "      <th></th>\n",
       "      <th>flug</th>\n",
       "      <th>fldg</th>\n",
       "      <th>fnetg</th>\n",
       "    </tr>\n",
       "    <tr>\n",
       "      <th>pressure</th>\n",
       "      <th>level</th>\n",
       "      <th></th>\n",
       "      <th></th>\n",
       "      <th></th>\n",
       "    </tr>\n",
       "  </thead>\n",
       "  <tbody>\n",
       "    <tr>\n",
       "      <th>1.000000e-08</th>\n",
       "      <th>1</th>\n",
       "      <td>-4.022173</td>\n",
       "      <td>0.000002</td>\n",
       "      <td>-4.022171</td>\n",
       "    </tr>\n",
       "    <tr>\n",
       "      <th>1.068500e+00</th>\n",
       "      <th>24</th>\n",
       "      <td>-4.029741</td>\n",
       "      <td>0.017678</td>\n",
       "      <td>-4.012062</td>\n",
       "    </tr>\n",
       "    <tr>\n",
       "      <th>1.013000e+03</th>\n",
       "      <th>76</th>\n",
       "      <td>-6.625452</td>\n",
       "      <td>4.069445</td>\n",
       "      <td>-2.556007</td>\n",
       "    </tr>\n",
       "  </tbody>\n",
       "</table>\n",
       "</div>"
      ],
      "text/plain": [
       "                        flug      fldg     fnetg\n",
       "pressure     level                              \n",
       "1.000000e-08 1     -4.022173  0.000002 -4.022171\n",
       "1.068500e+00 24    -4.029741  0.017678 -4.012062\n",
       "1.013000e+03 76    -6.625452  4.069445 -2.556007"
      ]
     },
     "metadata": {},
     "output_type": "display_data"
    },
    {
     "name": "stdout",
     "output_type": "stream",
     "text": [
      "Table. Fluxes. CLIRAD\n"
     ]
    },
    {
     "data": {
      "text/html": [
       "<div>\n",
       "<style scoped>\n",
       "    .dataframe tbody tr th:only-of-type {\n",
       "        vertical-align: middle;\n",
       "    }\n",
       "\n",
       "    .dataframe tbody tr th {\n",
       "        vertical-align: top;\n",
       "    }\n",
       "\n",
       "    .dataframe thead th {\n",
       "        text-align: right;\n",
       "    }\n",
       "</style>\n",
       "<table border=\"1\" class=\"dataframe\">\n",
       "  <thead>\n",
       "    <tr style=\"text-align: right;\">\n",
       "      <th></th>\n",
       "      <th></th>\n",
       "      <th>flug</th>\n",
       "      <th>fldg</th>\n",
       "      <th>fnetg</th>\n",
       "    </tr>\n",
       "    <tr>\n",
       "      <th>pressure</th>\n",
       "      <th>level</th>\n",
       "      <th></th>\n",
       "      <th></th>\n",
       "      <th></th>\n",
       "    </tr>\n",
       "  </thead>\n",
       "  <tbody>\n",
       "    <tr>\n",
       "      <th>0.0000</th>\n",
       "      <th>1</th>\n",
       "      <td>0.065295</td>\n",
       "      <td>0.000000</td>\n",
       "      <td>0.065295</td>\n",
       "    </tr>\n",
       "    <tr>\n",
       "      <th>1.0685</th>\n",
       "      <th>24</th>\n",
       "      <td>0.064916</td>\n",
       "      <td>-0.000766</td>\n",
       "      <td>0.064150</td>\n",
       "    </tr>\n",
       "    <tr>\n",
       "      <th>1013.0000</th>\n",
       "      <th>76</th>\n",
       "      <td>0.000000</td>\n",
       "      <td>-0.020748</td>\n",
       "      <td>-0.020748</td>\n",
       "    </tr>\n",
       "  </tbody>\n",
       "</table>\n",
       "</div>"
      ],
      "text/plain": [
       "                     flug      fldg     fnetg\n",
       "pressure  level                              \n",
       "0.0000    1      0.065295  0.000000  0.065295\n",
       "1.0685    24     0.064916 -0.000766  0.064150\n",
       "1013.0000 76     0.000000 -0.020748 -0.020748"
      ]
     },
     "metadata": {},
     "output_type": "display_data"
    },
    {
     "name": "stdout",
     "output_type": "stream",
     "text": [
      "Table. Fluxes. (WGT igg=10 wgt_flux=1) - (CRD)\n"
     ]
    },
    {
     "data": {
      "text/html": [
       "<div>\n",
       "<style scoped>\n",
       "    .dataframe tbody tr th:only-of-type {\n",
       "        vertical-align: middle;\n",
       "    }\n",
       "\n",
       "    .dataframe tbody tr th {\n",
       "        vertical-align: top;\n",
       "    }\n",
       "\n",
       "    .dataframe thead th {\n",
       "        text-align: right;\n",
       "    }\n",
       "</style>\n",
       "<table border=\"1\" class=\"dataframe\">\n",
       "  <thead>\n",
       "    <tr style=\"text-align: right;\">\n",
       "      <th></th>\n",
       "      <th></th>\n",
       "      <th>flug</th>\n",
       "      <th>fldg</th>\n",
       "      <th>fnetg</th>\n",
       "    </tr>\n",
       "    <tr>\n",
       "      <th>pressure</th>\n",
       "      <th>level</th>\n",
       "      <th></th>\n",
       "      <th></th>\n",
       "      <th></th>\n",
       "    </tr>\n",
       "  </thead>\n",
       "  <tbody>\n",
       "    <tr>\n",
       "      <th>0.0000</th>\n",
       "      <th>1</th>\n",
       "      <td>6.553220e-02</td>\n",
       "      <td>0.000002</td>\n",
       "      <td>0.065534</td>\n",
       "    </tr>\n",
       "    <tr>\n",
       "      <th>1.0685</th>\n",
       "      <th>24</th>\n",
       "      <td>6.540790e-02</td>\n",
       "      <td>-0.001178</td>\n",
       "      <td>0.064230</td>\n",
       "    </tr>\n",
       "    <tr>\n",
       "      <th>1013.0000</th>\n",
       "      <th>76</th>\n",
       "      <td>3.000000e-07</td>\n",
       "      <td>0.008021</td>\n",
       "      <td>0.008022</td>\n",
       "    </tr>\n",
       "  </tbody>\n",
       "</table>\n",
       "</div>"
      ],
      "text/plain": [
       "                         flug      fldg     fnetg\n",
       "pressure  level                                  \n",
       "0.0000    1      6.553220e-02  0.000002  0.065534\n",
       "1.0685    24     6.540790e-02 -0.001178  0.064230\n",
       "1013.0000 76     3.000000e-07  0.008021  0.008022"
      ]
     },
     "metadata": {},
     "output_type": "display_data"
    },
    {
     "name": "stdout",
     "output_type": "stream",
     "text": [
      "Table. Fluxes. (CLIRAD) - (CRD)\n"
     ]
    },
    {
     "data": {
      "text/html": [
       "<a id=\"Best-fit_Parameters\"></a>"
      ],
      "text/plain": [
       "<IPython.core.display.HTML object>"
      ]
     },
     "metadata": {},
     "output_type": "display_data"
    },
    {
     "data": {
      "text/markdown": [
       "# Best-fit Parameters"
      ],
      "text/plain": [
       "<IPython.core.display.Markdown object>"
      ]
     },
     "metadata": {},
     "output_type": "display_data"
    },
    {
     "name": "stdout",
     "output_type": "stream",
     "text": [
      "Best-fit values for each (gas, band)\n",
      "------------------------------------\n",
      "o h2o band9\n",
      "  atmpro = mls\n",
      "  band = 9\n",
      "  commitnumber = a06b618\n",
      "  conc = None\n",
      "  dv = 0.001\n",
      "  klin = 1e-24\n",
      "  molecule = h2o\n",
      "  ng_adju = [0]\n",
      "  ng_refs = [5]\n",
      "  nv = 1000\n",
      "  option_compute_btable = 0\n",
      "  option_compute_ktable = 1\n",
      "  option_wgt_flux = 1\n",
      "  option_wgt_k = 1\n",
      "  ref_pts = [(500, 250)]\n",
      "  tsfc = 294\n",
      "  vmax = 3000\n",
      "  vmin = 1900\n",
      "  w_diffuse = [(1.66, 1.66, 1.66, 1.66, 1.66)]\n",
      "  wgt = [(0.4, 0.4, 0.5, 0.55, 0.85)]\n",
      "o co2 band9\n",
      "  atmpro = mls\n",
      "  band = 9\n",
      "  commitnumber = a06b618\n",
      "  conc = 0.0004\n",
      "  dv = 0.001\n",
      "  klin = 6.5e-24\n",
      "  molecule = co2\n",
      "  ng_adju = [0, 0]\n",
      "  ng_refs = [3, 3]\n",
      "  nv = 1000\n",
      "  option_compute_btable = 0\n",
      "  option_compute_ktable = 1\n",
      "  option_wgt_flux = 1\n",
      "  option_wgt_k = 1\n",
      "  ref_pts = [(1, 250), (50, 250)]\n",
      "  tsfc = 294\n",
      "  vmax = 3000\n",
      "  vmin = 1900\n",
      "  w_diffuse = [(1.66, 1.66, 1.75), (1.75, 1.6, 1.85)]\n",
      "  wgt = [(0.7, 0.8, 0.7), (0.8, 0.7, 0.8)]\n"
     ]
    }
   ],
   "source": [
    "script()"
   ]
  },
  {
   "cell_type": "code",
   "execution_count": 13,
   "metadata": {
    "collapsed": true
   },
   "outputs": [
    {
     "data": {
      "text/html": [
       "<script>\n",
       "code_show=true; \n",
       "function code_toggle() {\n",
       " if (code_show){\n",
       " $('div.input').hide();\n",
       " } else {\n",
       " $('div.input').show();\n",
       " }\n",
       " code_show = !code_show\n",
       "} \n",
       "$( document ).ready(code_toggle);\n",
       "</script>\n",
       "<form action=\"javascript:code_toggle()\"><input type=\"submit\" value=\"Click here to toggle on/off the raw code.\"></form>"
      ],
      "text/plain": [
       "<IPython.core.display.HTML object>"
      ]
     },
     "execution_count": 13,
     "metadata": {},
     "output_type": "execute_result"
    }
   ],
   "source": [
    "display.HTML('''<script>\n",
    "code_show=true; \n",
    "function code_toggle() {\n",
    " if (code_show){\n",
    " $('div.input').hide();\n",
    " } else {\n",
    " $('div.input').show();\n",
    " }\n",
    " code_show = !code_show\n",
    "} \n",
    "$( document ).ready(code_toggle);\n",
    "</script>\n",
    "<form action=\"javascript:code_toggle()\"><input type=\"submit\" value=\"Click here to toggle on/off the raw code.\"></form>''')"
   ]
  }
 ],
 "metadata": {
  "kernelspec": {
   "display_name": "Python 3",
   "language": "python",
   "name": "python3"
  },
  "language_info": {
   "codemirror_mode": {
    "name": "ipython",
    "version": 3
   },
   "file_extension": ".py",
   "mimetype": "text/x-python",
   "name": "python",
   "nbconvert_exporter": "python",
   "pygments_lexer": "ipython3",
   "version": "3.6.1"
  }
 },
 "nbformat": 4,
 "nbformat_minor": 2
}
