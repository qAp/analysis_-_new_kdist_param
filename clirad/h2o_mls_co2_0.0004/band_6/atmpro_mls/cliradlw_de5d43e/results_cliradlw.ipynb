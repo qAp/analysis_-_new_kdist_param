{
 "cells": [
  {
   "cell_type": "code",
   "execution_count": 1,
   "metadata": {
    "collapsed": true
   },
   "outputs": [],
   "source": [
    "%matplotlib inline\n",
    "import os\n",
    "import re\n",
    "import io\n",
    "import itertools\n",
    "import pprint\n",
    "\n",
    "from bokeh.io import output_notebook, show\n",
    "from bokeh.layouts import gridplot\n",
    "from bokeh.plotting import figure\n",
    "from bokeh.models import Range1d, Legend\n",
    "from bokeh.palettes import all_palettes\n",
    "\n",
    "import matplotlib\n",
    "import matplotlib.pyplot as plt\n",
    "import numpy as np\n",
    "import pandas as pd\n",
    "import xarray as xr\n",
    "\n",
    "import climatools.lblnew.bestfit_params as bestfits\n",
    "from climatools.lblnew import setup_bestfit, setup_overlap\n",
    "import climatools.lblnew.pipeline as pipe_lblnew\n",
    "import climatools.cliradlw.setup as setup_cliradlw\n",
    "import climatools.cliradlw.pipeline as pipe_cliradlw\n",
    "\n",
    "import climatools.html.html as climahtml\n",
    "from climatools.lblnew.dataio import *\n",
    "from climatools.plot.plot import *\n",
    "\n",
    "\n",
    "import IPython.display as display"
   ]
  },
  {
   "cell_type": "code",
   "execution_count": 2,
   "metadata": {
    "collapsed": true
   },
   "outputs": [],
   "source": [
    "%run param.py"
   ]
  },
  {
   "cell_type": "code",
   "execution_count": 3,
   "metadata": {
    "collapsed": true
   },
   "outputs": [
    {
     "name": "stdout",
     "output_type": "stream",
     "text": [
      "The history saving thread hit an unexpected error (OperationalError('database is locked',)).History will not be written to the database.\n"
     ]
    }
   ],
   "source": [
    "def load_output_file(path_csv):\n",
    "    '''\n",
    "    Load lblnew output .csv file to xarray.Dataset\n",
    "    \n",
    "    Parameters\n",
    "    ----------\n",
    "    path_csv: str\n",
    "              Path to the .csv file to be loaded.\n",
    "    ds: xarray.Dataset\n",
    "        Data in the input file in the form of an xarray.Dataset.\n",
    "    '''\n",
    "    toindex = ['band', 'pressure', 'igg', 'g']    \n",
    "    df = pd.read_csv(path_csv, sep=r'\\s+')\n",
    "    df = df.set_index([i for i in toindex if i in df.columns])\n",
    "    df = df.rename(columns={'sfu': 'flug',\n",
    "                            'sfd': 'fldg',\n",
    "                            'fnet': 'fnetg',\n",
    "                            'coolr': 'coolrg'})\n",
    "    ds = xr.Dataset.from_dataframe(df)\n",
    "\n",
    "    for l in ('level', 'layer'):\n",
    "        if l in ds.data_vars:\n",
    "            if len(ds[l].dims) > 1:\n",
    "                surface = {d: 0 for d in ds.dims if d != 'pressure'}\n",
    "                coord_level = ds[l][surface]\n",
    "                ds.coords[l] = ('pressure', coord_level)\n",
    "            else:\n",
    "                ds.coords[l] = ('pressure', ds[l])\n",
    "    \n",
    "    return ds"
   ]
  },
  {
   "cell_type": "code",
   "execution_count": 4,
   "metadata": {
    "collapsed": true
   },
   "outputs": [],
   "source": [
    "def lblnew_setup(param=None):\n",
    "    if 'ng_refs' in param:\n",
    "        return {'setup': setup_bestfit,\n",
    "                'fname_flux_crd': 'output_flux.dat',\n",
    "                'fname_cool_crd': 'output_coolr.dat',\n",
    "                'fname_flux_wgt': 'output_wfluxg.dat',\n",
    "                'fname_cool_wgt': 'output_wcoolrg.dat'}\n",
    "    else:\n",
    "        return {'setup': setup_overlap,\n",
    "                'fname_flux_crd': 'output_flux.dat',\n",
    "                'fname_cool_crd': 'output_coolr.dat',\n",
    "                'fname_flux_wgt': 'output_wflux.dat',\n",
    "                'fname_cool_wgt': 'output_wcoolr.dat'}\n",
    "\n",
    "    \n",
    "def load_lblnew_data(param):\n",
    "    \n",
    "    fname_dsname = [('fname_flux_crd', 'ds_flux_crd'),\n",
    "                    ('fname_cool_crd', 'ds_cool_crd'),\n",
    "                    ('fname_flux_wgt', 'ds_flux_wgt'),\n",
    "                    ('fname_cool_wgt', 'ds_cool_wgt')]\n",
    "    \n",
    "    d = lblnew_setup(param)\n",
    "    dir_fortran = pipe_lblnew.get_dir_case(param, setup=d['setup'])\n",
    "    \n",
    "    data_dict = {}\n",
    "    for fname, dsname in fname_dsname:\n",
    "        fpath = os.path.join(dir_fortran, d[fname])\n",
    "        data_dict[dsname] = load_output_file(fpath)\n",
    "    return data_dict\n",
    "    \n",
    "\n",
    "    \n",
    "    "
   ]
  },
  {
   "cell_type": "code",
   "execution_count": 5,
   "metadata": {
    "collapsed": true
   },
   "outputs": [],
   "source": [
    "d = load_lblnew_data(PARAM_LBLNEW)\n",
    "\n",
    "DS_FLUX_CRD = d['ds_flux_crd']\n",
    "DS_COOL_CRD = d['ds_cool_crd']\n",
    "DS_FLUX_WGT = d['ds_flux_wgt']\n",
    "DS_COOL_WGT = d['ds_cool_wgt']"
   ]
  },
  {
   "cell_type": "code",
   "execution_count": 6,
   "metadata": {
    "collapsed": true
   },
   "outputs": [],
   "source": [
    "DIR_FORTRAN = pipe_cliradlw.get_fortran_dir(PARAM, \n",
    "                                            setup=setup_cliradlw)\n",
    "\n",
    "PATH_FLUX = os.path.join(DIR_FORTRAN, 'output_flux.dat')\n",
    "PATH_COOL = os.path.join(DIR_FORTRAN, 'output_coolr.dat')\n",
    "\n",
    "DS_FLUX = load_output_file(PATH_FLUX)\n",
    "DS_COOL = load_output_file(PATH_COOL)"
   ]
  },
  {
   "cell_type": "code",
   "execution_count": 7,
   "metadata": {
    "collapsed": true
   },
   "outputs": [
    {
     "data": {
      "text/html": [
       "\n",
       "    <div class=\"bk-root\">\n",
       "        <a href=\"https://bokeh.pydata.org\" target=\"_blank\" class=\"bk-logo bk-logo-small bk-logo-notebook\"></a>\n",
       "        <span id=\"0c54ab16-4b36-4eab-8665-a3de62b46a3d\">Loading BokehJS ...</span>\n",
       "    </div>"
      ]
     },
     "metadata": {},
     "output_type": "display_data"
    },
    {
     "data": {
      "application/javascript": [
       "\n",
       "(function(root) {\n",
       "  function now() {\n",
       "    return new Date();\n",
       "  }\n",
       "\n",
       "  var force = true;\n",
       "\n",
       "  if (typeof (root._bokeh_onload_callbacks) === \"undefined\" || force === true) {\n",
       "    root._bokeh_onload_callbacks = [];\n",
       "    root._bokeh_is_loading = undefined;\n",
       "  }\n",
       "\n",
       "  var JS_MIME_TYPE = 'application/javascript';\n",
       "  var HTML_MIME_TYPE = 'text/html';\n",
       "  var EXEC_MIME_TYPE = 'application/vnd.bokehjs_exec.v0+json';\n",
       "  var CLASS_NAME = 'output_bokeh rendered_html';\n",
       "\n",
       "  /**\n",
       "   * Render data to the DOM node\n",
       "   */\n",
       "  function render(props, node) {\n",
       "    var script = document.createElement(\"script\");\n",
       "    node.appendChild(script);\n",
       "  }\n",
       "\n",
       "  /**\n",
       "   * Handle when an output is cleared or removed\n",
       "   */\n",
       "  function handleClearOutput(event, handle) {\n",
       "    var cell = handle.cell;\n",
       "\n",
       "    var id = cell.output_area._bokeh_element_id;\n",
       "    var server_id = cell.output_area._bokeh_server_id;\n",
       "    // Clean up Bokeh references\n",
       "    if (id !== undefined) {\n",
       "      Bokeh.index[id].model.document.clear();\n",
       "      delete Bokeh.index[id];\n",
       "    }\n",
       "\n",
       "    if (server_id !== undefined) {\n",
       "      // Clean up Bokeh references\n",
       "      var cmd = \"from bokeh.io.state import curstate; print(curstate().uuid_to_server['\" + server_id + \"'].get_sessions()[0].document.roots[0]._id)\";\n",
       "      cell.notebook.kernel.execute(cmd, {\n",
       "        iopub: {\n",
       "          output: function(msg) {\n",
       "            var element_id = msg.content.text.trim();\n",
       "            Bokeh.index[element_id].model.document.clear();\n",
       "            delete Bokeh.index[element_id];\n",
       "          }\n",
       "        }\n",
       "      });\n",
       "      // Destroy server and session\n",
       "      var cmd = \"import bokeh.io.notebook as ion; ion.destroy_server('\" + server_id + \"')\";\n",
       "      cell.notebook.kernel.execute(cmd);\n",
       "    }\n",
       "  }\n",
       "\n",
       "  /**\n",
       "   * Handle when a new output is added\n",
       "   */\n",
       "  function handleAddOutput(event, handle) {\n",
       "    var output_area = handle.output_area;\n",
       "    var output = handle.output;\n",
       "\n",
       "    // limit handleAddOutput to display_data with EXEC_MIME_TYPE content only\n",
       "    if ((output.output_type != \"display_data\") || (!output.data.hasOwnProperty(EXEC_MIME_TYPE))) {\n",
       "      return\n",
       "    }\n",
       "\n",
       "    var toinsert = output_area.element.find(\".\" + CLASS_NAME.split(' ')[0]);\n",
       "\n",
       "    if (output.metadata[EXEC_MIME_TYPE][\"id\"] !== undefined) {\n",
       "      toinsert[toinsert.length - 1].firstChild.textContent = output.data[JS_MIME_TYPE];\n",
       "      // store reference to embed id on output_area\n",
       "      output_area._bokeh_element_id = output.metadata[EXEC_MIME_TYPE][\"id\"];\n",
       "    }\n",
       "    if (output.metadata[EXEC_MIME_TYPE][\"server_id\"] !== undefined) {\n",
       "      var bk_div = document.createElement(\"div\");\n",
       "      bk_div.innerHTML = output.data[HTML_MIME_TYPE];\n",
       "      var script_attrs = bk_div.children[0].attributes;\n",
       "      for (var i = 0; i < script_attrs.length; i++) {\n",
       "        toinsert[toinsert.length - 1].firstChild.setAttribute(script_attrs[i].name, script_attrs[i].value);\n",
       "      }\n",
       "      // store reference to server id on output_area\n",
       "      output_area._bokeh_server_id = output.metadata[EXEC_MIME_TYPE][\"server_id\"];\n",
       "    }\n",
       "  }\n",
       "\n",
       "  function register_renderer(events, OutputArea) {\n",
       "\n",
       "    function append_mime(data, metadata, element) {\n",
       "      // create a DOM node to render to\n",
       "      var toinsert = this.create_output_subarea(\n",
       "        metadata,\n",
       "        CLASS_NAME,\n",
       "        EXEC_MIME_TYPE\n",
       "      );\n",
       "      this.keyboard_manager.register_events(toinsert);\n",
       "      // Render to node\n",
       "      var props = {data: data, metadata: metadata[EXEC_MIME_TYPE]};\n",
       "      render(props, toinsert[toinsert.length - 1]);\n",
       "      element.append(toinsert);\n",
       "      return toinsert\n",
       "    }\n",
       "\n",
       "    /* Handle when an output is cleared or removed */\n",
       "    events.on('clear_output.CodeCell', handleClearOutput);\n",
       "    events.on('delete.Cell', handleClearOutput);\n",
       "\n",
       "    /* Handle when a new output is added */\n",
       "    events.on('output_added.OutputArea', handleAddOutput);\n",
       "\n",
       "    /**\n",
       "     * Register the mime type and append_mime function with output_area\n",
       "     */\n",
       "    OutputArea.prototype.register_mime_type(EXEC_MIME_TYPE, append_mime, {\n",
       "      /* Is output safe? */\n",
       "      safe: true,\n",
       "      /* Index of renderer in `output_area.display_order` */\n",
       "      index: 0\n",
       "    });\n",
       "  }\n",
       "\n",
       "  // register the mime type if in Jupyter Notebook environment and previously unregistered\n",
       "  if (root.Jupyter !== undefined) {\n",
       "    var events = require('base/js/events');\n",
       "    var OutputArea = require('notebook/js/outputarea').OutputArea;\n",
       "\n",
       "    if (OutputArea.prototype.mime_types().indexOf(EXEC_MIME_TYPE) == -1) {\n",
       "      register_renderer(events, OutputArea);\n",
       "    }\n",
       "  }\n",
       "\n",
       "  \n",
       "  if (typeof (root._bokeh_timeout) === \"undefined\" || force === true) {\n",
       "    root._bokeh_timeout = Date.now() + 5000;\n",
       "    root._bokeh_failed_load = false;\n",
       "  }\n",
       "\n",
       "  var NB_LOAD_WARNING = {'data': {'text/html':\n",
       "     \"<div style='background-color: #fdd'>\\n\"+\n",
       "     \"<p>\\n\"+\n",
       "     \"BokehJS does not appear to have successfully loaded. If loading BokehJS from CDN, this \\n\"+\n",
       "     \"may be due to a slow or bad network connection. Possible fixes:\\n\"+\n",
       "     \"</p>\\n\"+\n",
       "     \"<ul>\\n\"+\n",
       "     \"<li>re-rerun `output_notebook()` to attempt to load from CDN again, or</li>\\n\"+\n",
       "     \"<li>use INLINE resources instead, as so:</li>\\n\"+\n",
       "     \"</ul>\\n\"+\n",
       "     \"<code>\\n\"+\n",
       "     \"from bokeh.resources import INLINE\\n\"+\n",
       "     \"output_notebook(resources=INLINE)\\n\"+\n",
       "     \"</code>\\n\"+\n",
       "     \"</div>\"}};\n",
       "\n",
       "  function display_loaded() {\n",
       "    var el = document.getElementById(\"0c54ab16-4b36-4eab-8665-a3de62b46a3d\");\n",
       "    if (el != null) {\n",
       "      el.textContent = \"BokehJS is loading...\";\n",
       "    }\n",
       "    if (root.Bokeh !== undefined) {\n",
       "      if (el != null) {\n",
       "        el.textContent = \"BokehJS \" + root.Bokeh.version + \" successfully loaded.\";\n",
       "      }\n",
       "    } else if (Date.now() < root._bokeh_timeout) {\n",
       "      setTimeout(display_loaded, 100)\n",
       "    }\n",
       "  }\n",
       "\n",
       "\n",
       "  function run_callbacks() {\n",
       "    try {\n",
       "      root._bokeh_onload_callbacks.forEach(function(callback) { callback() });\n",
       "    }\n",
       "    finally {\n",
       "      delete root._bokeh_onload_callbacks\n",
       "    }\n",
       "    console.info(\"Bokeh: all callbacks have finished\");\n",
       "  }\n",
       "\n",
       "  function load_libs(js_urls, callback) {\n",
       "    root._bokeh_onload_callbacks.push(callback);\n",
       "    if (root._bokeh_is_loading > 0) {\n",
       "      console.log(\"Bokeh: BokehJS is being loaded, scheduling callback at\", now());\n",
       "      return null;\n",
       "    }\n",
       "    if (js_urls == null || js_urls.length === 0) {\n",
       "      run_callbacks();\n",
       "      return null;\n",
       "    }\n",
       "    console.log(\"Bokeh: BokehJS not loaded, scheduling load and callback at\", now());\n",
       "    root._bokeh_is_loading = js_urls.length;\n",
       "    for (var i = 0; i < js_urls.length; i++) {\n",
       "      var url = js_urls[i];\n",
       "      var s = document.createElement('script');\n",
       "      s.src = url;\n",
       "      s.async = false;\n",
       "      s.onreadystatechange = s.onload = function() {\n",
       "        root._bokeh_is_loading--;\n",
       "        if (root._bokeh_is_loading === 0) {\n",
       "          console.log(\"Bokeh: all BokehJS libraries loaded\");\n",
       "          run_callbacks()\n",
       "        }\n",
       "      };\n",
       "      s.onerror = function() {\n",
       "        console.warn(\"failed to load library \" + url);\n",
       "      };\n",
       "      console.log(\"Bokeh: injecting script tag for BokehJS library: \", url);\n",
       "      document.getElementsByTagName(\"head\")[0].appendChild(s);\n",
       "    }\n",
       "  };var element = document.getElementById(\"0c54ab16-4b36-4eab-8665-a3de62b46a3d\");\n",
       "  if (element == null) {\n",
       "    console.log(\"Bokeh: ERROR: autoload.js configured with elementid '0c54ab16-4b36-4eab-8665-a3de62b46a3d' but no matching script tag was found. \")\n",
       "    return false;\n",
       "  }\n",
       "\n",
       "  var js_urls = [\"https://cdn.pydata.org/bokeh/release/bokeh-0.12.16.min.js\", \"https://cdn.pydata.org/bokeh/release/bokeh-widgets-0.12.16.min.js\", \"https://cdn.pydata.org/bokeh/release/bokeh-tables-0.12.16.min.js\", \"https://cdn.pydata.org/bokeh/release/bokeh-gl-0.12.16.min.js\"];\n",
       "\n",
       "  var inline_js = [\n",
       "    function(Bokeh) {\n",
       "      Bokeh.set_log_level(\"info\");\n",
       "    },\n",
       "    \n",
       "    function(Bokeh) {\n",
       "      \n",
       "    },\n",
       "    function(Bokeh) {\n",
       "      console.log(\"Bokeh: injecting CSS: https://cdn.pydata.org/bokeh/release/bokeh-0.12.16.min.css\");\n",
       "      Bokeh.embed.inject_css(\"https://cdn.pydata.org/bokeh/release/bokeh-0.12.16.min.css\");\n",
       "      console.log(\"Bokeh: injecting CSS: https://cdn.pydata.org/bokeh/release/bokeh-widgets-0.12.16.min.css\");\n",
       "      Bokeh.embed.inject_css(\"https://cdn.pydata.org/bokeh/release/bokeh-widgets-0.12.16.min.css\");\n",
       "      console.log(\"Bokeh: injecting CSS: https://cdn.pydata.org/bokeh/release/bokeh-tables-0.12.16.min.css\");\n",
       "      Bokeh.embed.inject_css(\"https://cdn.pydata.org/bokeh/release/bokeh-tables-0.12.16.min.css\");\n",
       "    }\n",
       "  ];\n",
       "\n",
       "  function run_inline_js() {\n",
       "    \n",
       "    if ((root.Bokeh !== undefined) || (force === true)) {\n",
       "      for (var i = 0; i < inline_js.length; i++) {\n",
       "        inline_js[i].call(root, root.Bokeh);\n",
       "      }if (force === true) {\n",
       "        display_loaded();\n",
       "      }} else if (Date.now() < root._bokeh_timeout) {\n",
       "      setTimeout(run_inline_js, 100);\n",
       "    } else if (!root._bokeh_failed_load) {\n",
       "      console.log(\"Bokeh: BokehJS failed to load within specified timeout.\");\n",
       "      root._bokeh_failed_load = true;\n",
       "    } else if (force !== true) {\n",
       "      var cell = $(document.getElementById(\"0c54ab16-4b36-4eab-8665-a3de62b46a3d\")).parents('.cell').data().cell;\n",
       "      cell.output_area.append_execute_result(NB_LOAD_WARNING)\n",
       "    }\n",
       "\n",
       "  }\n",
       "\n",
       "  if (root._bokeh_is_loading === 0) {\n",
       "    console.log(\"Bokeh: BokehJS loaded, going straight to plotting\");\n",
       "    run_inline_js();\n",
       "  } else {\n",
       "    load_libs(js_urls, function() {\n",
       "      console.log(\"Bokeh: BokehJS plotting callback run at\", now());\n",
       "      run_inline_js();\n",
       "    });\n",
       "  }\n",
       "}(window));"
      ],
      "application/vnd.bokehjs_load.v0+json": "\n(function(root) {\n  function now() {\n    return new Date();\n  }\n\n  var force = true;\n\n  if (typeof (root._bokeh_onload_callbacks) === \"undefined\" || force === true) {\n    root._bokeh_onload_callbacks = [];\n    root._bokeh_is_loading = undefined;\n  }\n\n  \n\n  \n  if (typeof (root._bokeh_timeout) === \"undefined\" || force === true) {\n    root._bokeh_timeout = Date.now() + 5000;\n    root._bokeh_failed_load = false;\n  }\n\n  var NB_LOAD_WARNING = {'data': {'text/html':\n     \"<div style='background-color: #fdd'>\\n\"+\n     \"<p>\\n\"+\n     \"BokehJS does not appear to have successfully loaded. If loading BokehJS from CDN, this \\n\"+\n     \"may be due to a slow or bad network connection. Possible fixes:\\n\"+\n     \"</p>\\n\"+\n     \"<ul>\\n\"+\n     \"<li>re-rerun `output_notebook()` to attempt to load from CDN again, or</li>\\n\"+\n     \"<li>use INLINE resources instead, as so:</li>\\n\"+\n     \"</ul>\\n\"+\n     \"<code>\\n\"+\n     \"from bokeh.resources import INLINE\\n\"+\n     \"output_notebook(resources=INLINE)\\n\"+\n     \"</code>\\n\"+\n     \"</div>\"}};\n\n  function display_loaded() {\n    var el = document.getElementById(\"0c54ab16-4b36-4eab-8665-a3de62b46a3d\");\n    if (el != null) {\n      el.textContent = \"BokehJS is loading...\";\n    }\n    if (root.Bokeh !== undefined) {\n      if (el != null) {\n        el.textContent = \"BokehJS \" + root.Bokeh.version + \" successfully loaded.\";\n      }\n    } else if (Date.now() < root._bokeh_timeout) {\n      setTimeout(display_loaded, 100)\n    }\n  }\n\n\n  function run_callbacks() {\n    try {\n      root._bokeh_onload_callbacks.forEach(function(callback) { callback() });\n    }\n    finally {\n      delete root._bokeh_onload_callbacks\n    }\n    console.info(\"Bokeh: all callbacks have finished\");\n  }\n\n  function load_libs(js_urls, callback) {\n    root._bokeh_onload_callbacks.push(callback);\n    if (root._bokeh_is_loading > 0) {\n      console.log(\"Bokeh: BokehJS is being loaded, scheduling callback at\", now());\n      return null;\n    }\n    if (js_urls == null || js_urls.length === 0) {\n      run_callbacks();\n      return null;\n    }\n    console.log(\"Bokeh: BokehJS not loaded, scheduling load and callback at\", now());\n    root._bokeh_is_loading = js_urls.length;\n    for (var i = 0; i < js_urls.length; i++) {\n      var url = js_urls[i];\n      var s = document.createElement('script');\n      s.src = url;\n      s.async = false;\n      s.onreadystatechange = s.onload = function() {\n        root._bokeh_is_loading--;\n        if (root._bokeh_is_loading === 0) {\n          console.log(\"Bokeh: all BokehJS libraries loaded\");\n          run_callbacks()\n        }\n      };\n      s.onerror = function() {\n        console.warn(\"failed to load library \" + url);\n      };\n      console.log(\"Bokeh: injecting script tag for BokehJS library: \", url);\n      document.getElementsByTagName(\"head\")[0].appendChild(s);\n    }\n  };var element = document.getElementById(\"0c54ab16-4b36-4eab-8665-a3de62b46a3d\");\n  if (element == null) {\n    console.log(\"Bokeh: ERROR: autoload.js configured with elementid '0c54ab16-4b36-4eab-8665-a3de62b46a3d' but no matching script tag was found. \")\n    return false;\n  }\n\n  var js_urls = [\"https://cdn.pydata.org/bokeh/release/bokeh-0.12.16.min.js\", \"https://cdn.pydata.org/bokeh/release/bokeh-widgets-0.12.16.min.js\", \"https://cdn.pydata.org/bokeh/release/bokeh-tables-0.12.16.min.js\", \"https://cdn.pydata.org/bokeh/release/bokeh-gl-0.12.16.min.js\"];\n\n  var inline_js = [\n    function(Bokeh) {\n      Bokeh.set_log_level(\"info\");\n    },\n    \n    function(Bokeh) {\n      \n    },\n    function(Bokeh) {\n      console.log(\"Bokeh: injecting CSS: https://cdn.pydata.org/bokeh/release/bokeh-0.12.16.min.css\");\n      Bokeh.embed.inject_css(\"https://cdn.pydata.org/bokeh/release/bokeh-0.12.16.min.css\");\n      console.log(\"Bokeh: injecting CSS: https://cdn.pydata.org/bokeh/release/bokeh-widgets-0.12.16.min.css\");\n      Bokeh.embed.inject_css(\"https://cdn.pydata.org/bokeh/release/bokeh-widgets-0.12.16.min.css\");\n      console.log(\"Bokeh: injecting CSS: https://cdn.pydata.org/bokeh/release/bokeh-tables-0.12.16.min.css\");\n      Bokeh.embed.inject_css(\"https://cdn.pydata.org/bokeh/release/bokeh-tables-0.12.16.min.css\");\n    }\n  ];\n\n  function run_inline_js() {\n    \n    if ((root.Bokeh !== undefined) || (force === true)) {\n      for (var i = 0; i < inline_js.length; i++) {\n        inline_js[i].call(root, root.Bokeh);\n      }if (force === true) {\n        display_loaded();\n      }} else if (Date.now() < root._bokeh_timeout) {\n      setTimeout(run_inline_js, 100);\n    } else if (!root._bokeh_failed_load) {\n      console.log(\"Bokeh: BokehJS failed to load within specified timeout.\");\n      root._bokeh_failed_load = true;\n    } else if (force !== true) {\n      var cell = $(document.getElementById(\"0c54ab16-4b36-4eab-8665-a3de62b46a3d\")).parents('.cell').data().cell;\n      cell.output_area.append_execute_result(NB_LOAD_WARNING)\n    }\n\n  }\n\n  if (root._bokeh_is_loading === 0) {\n    console.log(\"Bokeh: BokehJS loaded, going straight to plotting\");\n    run_inline_js();\n  } else {\n    load_libs(js_urls, function() {\n      console.log(\"Bokeh: BokehJS plotting callback run at\", now());\n      run_inline_js();\n    });\n  }\n}(window));"
     },
     "metadata": {},
     "output_type": "display_data"
    }
   ],
   "source": [
    "output_notebook()"
   ]
  },
  {
   "cell_type": "code",
   "execution_count": 8,
   "metadata": {
    "collapsed": true
   },
   "outputs": [],
   "source": [
    "def fmt_cool(ds_in):\n",
    "    ds = ds_in.copy(deep=True)\n",
    "    if 'igg' in ds.dims:\n",
    "        ds = ds.sel(igg=1)\n",
    "\n",
    "    if 'g' in ds.dims:\n",
    "        ds = ds.sum('g')\n",
    "            \n",
    "    if 'band' in ds.dims:\n",
    "        try:\n",
    "            ds = ds.squeeze('band')\n",
    "        except ValueError:\n",
    "            ds = ds.sum('band')\n",
    "                \n",
    "    return ds['coolrg']\n",
    "\n",
    "\n",
    "def pltdata_cooling_1(ds_cool=None,\n",
    "                      ds_cool_crd=None, ds_cool_wgt=None):\n",
    "    \n",
    "\n",
    "\n",
    "    colors = all_palettes['Set1'][4]\n",
    "    data = [{'label': 'CLIRAD `coolr_bands`',\n",
    "             'srs': fmt_cool(ds_cool),\n",
    "             'line_dash': 'dashed', 'line_width': 5,\n",
    "             'color': colors[0], 'alpha': .6},\n",
    "            {'label': 'CRD',\n",
    "             'srs': fmt_cool(ds_cool_crd),\n",
    "             'line_dash': 'solid', 'line_width': 1.5,\n",
    "             'marker': 'circle', 'marker_size': 5,\n",
    "             'color': colors[2], 'alpha': 1,},\n",
    "            {'label': 'WGT igg=10 wgt_flux=2',\n",
    "             'srs': fmt_cool(ds_cool_wgt),\n",
    "             'line_dash': 'solid', 'line_width': 3,\n",
    "             'marker': 'square', 'marker_size': 5,\n",
    "             'color': colors[3], 'alpha': .6}]\n",
    "    return data\n",
    "\n",
    "\n",
    "def nice_xlims(pltdata=None, prange=None):\n",
    "    \n",
    "    def get_slice(srs):\n",
    "        return srs.sel(pressure=slice(*prange))\n",
    "    \n",
    "    srss = [d['srs'] for d in pltdata]\n",
    "    vmin = min([get_slice(srs).min() for srs in srss])\n",
    "    vmax = max([get_slice(srs).max() for srs in srss])\n",
    "    dv = (vmax - vmin) * .01\n",
    "    return float(vmin - dv), float(vmax + dv)\n",
    "    \n",
    "\n",
    "def plt_cooling_bokeh(pltdata=None):\n",
    "    '''\n",
    "    Plot a list of cooling rate profiles using bokeh.\n",
    "    '''\n",
    "    ymin = 1e-2 \n",
    "    ymax = 1020 \n",
    "        \n",
    "    p1 = figure(title=\"Linear pressure scale\", \n",
    "                plot_width=400)        \n",
    "    xmin, xmax = nice_xlims(pltdata, prange=(50, 1050))\n",
    "    for d in pltdata:\n",
    "        if 'marker' in d:\n",
    "            getattr(p1, d['marker'])(d['srs'].values, \n",
    "                    d['srs'].coords['pressure'].values,\n",
    "                    color=d['color'], alpha=.7)\n",
    "        p1.line(d['srs'].values, \n",
    "                d['srs'].coords['pressure'].values,\n",
    "                color=d['color'], alpha=d['alpha'], \n",
    "                line_width=d['line_width'], line_dash=d['line_dash'])\n",
    "    \n",
    "    p1.y_range = Range1d(ymax, ymin)\n",
    "    p1.yaxis.axis_label = 'pressure [mb]'   \n",
    "    p1.x_range = Range1d(xmin, xmax)\n",
    "    p1.xaxis.axis_label = 'cooling rate [K/day]'\n",
    "            \n",
    "    p2 = figure(title='Log pressure scale', y_axis_type='log',\n",
    "                plot_width=560)\n",
    "    xmin, xmax = nice_xlims(pltdata, prange=(.01, 200))\n",
    "    \n",
    "    rs = []\n",
    "    for d in pltdata:\n",
    "        rd = []\n",
    "        if 'marker' in d:\n",
    "            r_mark = getattr(p2, d['marker'])(d['srs'].values, \n",
    "                        d['srs'].coords['pressure'].values,\n",
    "                        color=d['color'], alpha=.7)\n",
    "            rd.append(r_mark)\n",
    "        r_line = p2.line(d['srs'].values, \n",
    "                    d['srs'].coords['pressure'].values,\n",
    "                    color=d['color'], alpha=d['alpha'], \n",
    "                    line_width=d['line_width'], line_dash=d['line_dash'])\n",
    "        rd.append(r_line)\n",
    "      \n",
    "        rs.append(rd)\n",
    "        \n",
    "    p2.y_range = Range1d(ymax, ymin)  \n",
    "    p2.yaxis.axis_label = 'pressure [mb]'\n",
    "    \n",
    "    p2.x_range = Range1d(xmin, xmax)\n",
    "    p2.xaxis.axis_label = 'cooling rate [K/day]'\n",
    "    \n",
    "    items = [(d['label'], r) for r, d in zip(rs, pltdata)]\n",
    "    legend = Legend(items=items, location=(10, -30))\n",
    "    legend.label_text_font_size = '8pt'\n",
    "    \n",
    "    p2.add_layout(legend, 'right')  \n",
    "    \n",
    "    show(gridplot(p1, p2, ncols=2, plot_height=500))\n",
    "    \n",
    "\n",
    "def script_plt_cooling():\n",
    "    pltdata = pltdata_cooling_1(\n",
    "        ds_cool=DS_COOL,\n",
    "        ds_cool_crd=DS_COOL_CRD,\n",
    "        ds_cool_wgt=DS_COOL_WGT)\n",
    "    plt_cooling_bokeh(pltdata=pltdata)\n",
    "    print('''FIGURE. Cooling rate profiles.''')"
   ]
  },
  {
   "cell_type": "code",
   "execution_count": 9,
   "metadata": {
    "collapsed": true
   },
   "outputs": [],
   "source": [
    "def fmt_flux(ds_in):\n",
    "    ds = ds_in.copy(deep=True)\n",
    "    \n",
    "    for l in ('level', 'layer'):\n",
    "        if l in ds.data_vars:\n",
    "            if len(ds[l].dims) > 1:\n",
    "                surface = {d: 0 for d in ds.dims if d != 'pressure'}\n",
    "                coord_level = ds[l][surface]\n",
    "                ds.coords[l] = ('pressure', coord_level)\n",
    "            else:\n",
    "                ds.coords[l] = ('pressure', ds[l])\n",
    "        \n",
    "    ds = ds.isel(pressure=[0, 23, -1])\n",
    "        \n",
    "    if 'igg' in ds.dims:\n",
    "        ds = ds.sel(igg=[1])\n",
    "        ds = ds.squeeze('igg').drop('igg')\n",
    "    \n",
    "    if 'g' in ds.dims:\n",
    "        ds = ds.sum('g')\n",
    "            \n",
    "    if 'band' in ds.dims:\n",
    "        try:\n",
    "            ds = ds.squeeze('band').drop('band')\n",
    "        except ValueError:\n",
    "            ds = ds.sum('band')\n",
    "                \n",
    "    df = ds.to_dataframe()\n",
    "    df = df.set_index('level', append=True)               \n",
    "    return df\n",
    "\n",
    "\n",
    "def tbdata_flux(ds_flux=None, ds_flux_crd=None, ds_flux_wgt=None):\n",
    "    ilevels = [0, 23, -1]\n",
    "            \n",
    "    benchmark = {'label': 'CRD',\n",
    "                 'df': fmt_flux(ds_flux_crd)}\n",
    "    \n",
    "    tbs = [{'label': 'WGT igg=10 wgt_flux=1',\n",
    "            'df': fmt_flux(ds_flux_wgt)},\n",
    "           {'label': 'CLIRAD',\n",
    "            'df': fmt_flux(ds_flux)}]\n",
    "    \n",
    "    data = {'benchmark': benchmark, 'others': tbs}\n",
    "    return data\n",
    "\n",
    "\n",
    "def tb_flux(tbdata=None):\n",
    "    benchmark = tbdata['benchmark']\n",
    "    others = tbdata['others']\n",
    "    \n",
    "    def show_tb(d=None):\n",
    "        display.display(d['df'])\n",
    "        print('Table.', 'Fluxes.', d['label'])\n",
    "        \n",
    "    def show_tbdiff(d0=None, d=None):\n",
    "        df = d['df']\n",
    "        df.index = d0['df'].index\n",
    "        display.display(df - d0['df'])\n",
    "        print('Table.', 'Fluxes.', \n",
    "              '({}) - ({})'.format(d['label'], d0['label']))\n",
    "        \n",
    "    show_tb(benchmark)\n",
    "    for d in others:\n",
    "        show_tb(d)\n",
    "        \n",
    "    for d in others:\n",
    "        show_tbdiff(d=d, d0=benchmark)\n",
    "        \n",
    "        \n",
    "def script_tb_flux():\n",
    "    data = tbdata_flux(ds_flux=DS_FLUX,\n",
    "                       ds_flux_crd=DS_FLUX_CRD,\n",
    "                       ds_flux_wgt=DS_FLUX_WGT)\n",
    "    tb_flux(tbdata=data)"
   ]
  },
  {
   "cell_type": "code",
   "execution_count": 10,
   "metadata": {
    "collapsed": true
   },
   "outputs": [],
   "source": [
    "def band_map():\n",
    "    '''\n",
    "    Maps spectral bands in lblnew to spectral bands in clirad.\n",
    "    '''\n",
    "    lblnew2clirad = {'1': '1',\n",
    "            '2': '2',\n",
    "            '3a': '3',\n",
    "            '3b': '4',\n",
    "            '3c': '5',\n",
    "            '4': '6', \n",
    "            '5': '7',\n",
    "            '6': '8',\n",
    "            '7': '9', \n",
    "            '8': '10',\n",
    "            '9': '11'}\n",
    "    \n",
    "    clirad2lblnew = {clirad: lblnew \n",
    "                     for lblnew, clirad in lblnew2clirad.items()}\n",
    "    return clirad2lblnew\n",
    "\n",
    "\n",
    "def gasbands():\n",
    "    bmap = band_map()\n",
    "    gases = list(PARAM['molecule'].keys())\n",
    "    \n",
    "    bands = [bmap[str(b)] for b in PARAM['band']]\n",
    "    return list(itertools.product(gases, bands))\n",
    "\n",
    "\n",
    "def print_bestfit_params():\n",
    "    print('Best-fit values for each (gas, band)')\n",
    "    print('------------------------------------')\n",
    "    for gas, band in gasbands():\n",
    "        print('o {} band{}'.format(gas, band))\n",
    "        param = bestfits.kdist_params(molecule=gas, band=band)\n",
    "        for name, value in sorted(param.items()):\n",
    "            print(2 * ' ' + '{} = {}'.format(name, value))\n",
    "\n",
    "        \n",
    "def print_input_param():        \n",
    "    for name, value in PARAM.items():\n",
    "        print('{} = {}'.format(name, value))\n",
    "        \n",
    "        \n",
    "def print_lblnew_param():\n",
    "    for name, value in sorted(PARAM_LBLNEW.items()):\n",
    "        print('{} = {}'.format(name, value))\n"
   ]
  },
  {
   "cell_type": "code",
   "execution_count": 11,
   "metadata": {
    "collapsed": true,
    "scrolled": false
   },
   "outputs": [],
   "source": [
    "def show_html(s):\n",
    "    display.display(display.HTML(s))\n",
    "\n",
    "    \n",
    "def show_markdown(s):\n",
    "    display.display(display.Markdown(s))\n",
    "\n",
    "    \n",
    "def script():\n",
    "    \n",
    "    title = '### CLIRAD-LW'\n",
    "    s_input = 'Input Parameters'\n",
    "    s_lblnew_param = 'LBLNEW case compaired against'\n",
    "    s_bestfits = 'Best-fit Parameters'\n",
    "    s_plt_cooling = 'Cooling Rate Profiles'\n",
    "    s_tb_flux = 'Flux Comparison'\n",
    "    \n",
    "    # title\n",
    "    show_markdown('### CLIRAD-LW')\n",
    "    \n",
    "    # TOC\n",
    "    show_markdown('### Table of Contents')\n",
    "    show_html(climahtml.getHTML_hrefanchor(s_input))\n",
    "    show_html(climahtml.getHTML_hrefanchor(s_lblnew_param))\n",
    "    show_html(climahtml.getHTML_hrefanchor(s_plt_cooling))\n",
    "    show_html(climahtml.getHTML_hrefanchor(s_tb_flux))\n",
    "    show_html(climahtml.getHTML_hrefanchor(s_bestfits))\n",
    "    \n",
    "    # Input parameters\n",
    "    show_html(climahtml.getHTML_idanchor(s_input))\n",
    "    show_markdown(climahtml.getMarkdown_sectitle(s_input))\n",
    "    print_input_param()\n",
    "    \n",
    "    # LBLNEW parameters \n",
    "    show_html(climahtml.getHTML_idanchor(s_lblnew_param))\n",
    "    show_markdown(climahtml.getMarkdown_sectitle(s_lblnew_param))\n",
    "    print_lblnew_param()\n",
    "    \n",
    "    # Cooling rate profiles\n",
    "    show_html(climahtml.getHTML_idanchor(s_plt_cooling))\n",
    "    show_markdown(climahtml.getMarkdown_sectitle(s_plt_cooling))\n",
    "    script_plt_cooling()\n",
    "    \n",
    "    # Flux comparison\n",
    "    show_html(climahtml.getHTML_idanchor(s_tb_flux))\n",
    "    show_markdown(climahtml.getMarkdown_sectitle(s_tb_flux))\n",
    "    script_tb_flux()\n",
    "    \n",
    "    # Best-fit values\n",
    "    show_html(climahtml.getHTML_idanchor(s_bestfits))\n",
    "    show_markdown(climahtml.getMarkdown_sectitle(s_bestfits))\n",
    "    print_bestfit_params()\n",
    "   \n",
    "    "
   ]
  },
  {
   "cell_type": "code",
   "execution_count": 12,
   "metadata": {
    "collapsed": true,
    "scrolled": false
   },
   "outputs": [
    {
     "data": {
      "text/markdown": [
       "### CLIRAD-LW"
      ],
      "text/plain": [
       "<IPython.core.display.Markdown object>"
      ]
     },
     "metadata": {},
     "output_type": "display_data"
    },
    {
     "data": {
      "text/markdown": [
       "### Table of Contents"
      ],
      "text/plain": [
       "<IPython.core.display.Markdown object>"
      ]
     },
     "metadata": {},
     "output_type": "display_data"
    },
    {
     "data": {
      "text/html": [
       "<a href=\"#Input_Parameters\">Input Parameters</a>"
      ],
      "text/plain": [
       "<IPython.core.display.HTML object>"
      ]
     },
     "metadata": {},
     "output_type": "display_data"
    },
    {
     "data": {
      "text/html": [
       "<a href=\"#LBLNEW_case_compaired_against\">LBLNEW case compaired against</a>"
      ],
      "text/plain": [
       "<IPython.core.display.HTML object>"
      ]
     },
     "metadata": {},
     "output_type": "display_data"
    },
    {
     "data": {
      "text/html": [
       "<a href=\"#Cooling_Rate_Profiles\">Cooling Rate Profiles</a>"
      ],
      "text/plain": [
       "<IPython.core.display.HTML object>"
      ]
     },
     "metadata": {},
     "output_type": "display_data"
    },
    {
     "data": {
      "text/html": [
       "<a href=\"#Flux_Comparison\">Flux Comparison</a>"
      ],
      "text/plain": [
       "<IPython.core.display.HTML object>"
      ]
     },
     "metadata": {},
     "output_type": "display_data"
    },
    {
     "data": {
      "text/html": [
       "<a href=\"#Best-fit_Parameters\">Best-fit Parameters</a>"
      ],
      "text/plain": [
       "<IPython.core.display.HTML object>"
      ]
     },
     "metadata": {},
     "output_type": "display_data"
    },
    {
     "data": {
      "text/html": [
       "<a id=\"Input_Parameters\"></a>"
      ],
      "text/plain": [
       "<IPython.core.display.HTML object>"
      ]
     },
     "metadata": {},
     "output_type": "display_data"
    },
    {
     "data": {
      "text/markdown": [
       "# Input Parameters"
      ],
      "text/plain": [
       "<IPython.core.display.Markdown object>"
      ]
     },
     "metadata": {},
     "output_type": "display_data"
    },
    {
     "name": "stdout",
     "output_type": "stream",
     "text": [
      "commitnumber = de5d43e\n",
      "molecule = {'h2o': 'atmpro', 'co2': 0.0004}\n",
      "band = [6]\n",
      "atmpro = mls\n",
      "tsfc = 294\n"
     ]
    },
    {
     "data": {
      "text/html": [
       "<a id=\"LBLNEW_case_compaired_against\"></a>"
      ],
      "text/plain": [
       "<IPython.core.display.HTML object>"
      ]
     },
     "metadata": {},
     "output_type": "display_data"
    },
    {
     "data": {
      "text/markdown": [
       "# LBLNEW case compaired against"
      ],
      "text/plain": [
       "<IPython.core.display.Markdown object>"
      ]
     },
     "metadata": {},
     "output_type": "display_data"
    },
    {
     "name": "stdout",
     "output_type": "stream",
     "text": [
      "atmpro = mls\n",
      "band = 4\n",
      "commitnumber = 5014a19\n",
      "dv = 0.001\n",
      "molecule = {'h2o': 'atmpro', 'co2': 0.0004}\n",
      "nv = 1000\n",
      "tsfc = 294\n"
     ]
    },
    {
     "data": {
      "text/html": [
       "<a id=\"Cooling_Rate_Profiles\"></a>"
      ],
      "text/plain": [
       "<IPython.core.display.HTML object>"
      ]
     },
     "metadata": {},
     "output_type": "display_data"
    },
    {
     "data": {
      "text/markdown": [
       "# Cooling Rate Profiles"
      ],
      "text/plain": [
       "<IPython.core.display.Markdown object>"
      ]
     },
     "metadata": {},
     "output_type": "display_data"
    },
    {
     "data": {
      "text/html": [
       "\n",
       "<div class=\"bk-root\">\n",
       "    <div class=\"bk-plotdiv\" id=\"646a281c-06a0-4eb0-8c84-45ba720547e2\"></div>\n",
       "</div>"
      ]
     },
     "metadata": {},
     "output_type": "display_data"
    },
    {
     "data": {
      "application/javascript": [
       "(function(root) {\n",
       "  function embed_document(root) {\n",
       "    \n",
       "  var docs_json = {\"fba269b2-4879-4731-a1e3-8d9b34eb2fbd\":{\"roots\":{\"references\":[{\"attributes\":{\"data_source\":{\"id\":\"37f1f198-6dca-442a-ab12-9e310afcad86\",\"type\":\"ColumnDataSource\"},\"glyph\":{\"id\":\"df2a65ea-3d16-47ea-a054-3dacb21e9026\",\"type\":\"Line\"},\"hover_glyph\":null,\"muted_glyph\":null,\"nonselection_glyph\":{\"id\":\"babec75c-5f12-4120-ac17-94a43c6488f2\",\"type\":\"Line\"},\"selection_glyph\":null,\"view\":{\"id\":\"9f0e5981-d22a-47d9-83dd-6b5a82926e99\",\"type\":\"CDSView\"}},\"id\":\"83f3f794-7ea2-4935-9e27-64901d2ce223\",\"type\":\"GlyphRenderer\"},{\"attributes\":{\"bottom_units\":\"screen\",\"fill_alpha\":{\"value\":0.5},\"fill_color\":{\"value\":\"lightgrey\"},\"left_units\":\"screen\",\"level\":\"overlay\",\"line_alpha\":{\"value\":1.0},\"line_color\":{\"value\":\"black\"},\"line_dash\":[4,4],\"line_width\":{\"value\":2},\"plot\":null,\"render_mode\":\"css\",\"right_units\":\"screen\",\"top_units\":\"screen\"},\"id\":\"f4fa167c-be9e-43ed-9fab-cfbcb36b88a5\",\"type\":\"BoxAnnotation\"},{\"attributes\":{\"callback\":null,\"data\":{\"x\":{\"__ndarray__\":\"qje2u/ocSb99/Y+EieFJvzcHvs0HJkm/KLA+LkpBSb/Q8PVn4WtJvzfXAp02k0m/XOFSDIOzSb8eIapL9dBJvwQ+shyr5km/Y6DutGYLSr+xZCBtKUlKv1W8NZtMdkq/+GiunoKVSr/4FMwVb7ZKv4aGJ/cg5Eq/tQAvOakfSr9IFtec+SRFv2RJ+Q9MbTG/dfuse3IwPj9Li9qE0tNbP54gx1SOSW4/+oIHnuOpfD8xhVCjZeSFP2QyJECwV4Y/6rXfNmgqgD9cO8D4ijN0P3R7GSqeMWY/eKAVqvBmUz/OSc5WlS4qP5E6ZDWY3Tu/uBqvJNIHS79vsKiqBlhRvxkZRjRYNVO/gfZx1NQpVL93M3TC/LtUv8z70rfZE1W/SG5fnel5Vb9rIvhGCcZVvwiTSseIg1W/6PFi/l3hVb+hnoJom85Wv3M2ZbJtTVm/BQEXROIuW78Zfd4z3/hbv9748KqbC1u/vshKY2LZVr8QFElr4n9Nv9in4IDsIyO/+pJNaGUvTz+OyMxNKEBkPyLmVUfVSXI/7LXJdvhKfD+lr+n+/zGEP/mVBjLGfYs/b2D222zmkT/M5NMXzcCWP5RfgCl1XJw/VUhzEOYJoj/0Cgnt3IGmP/OWsNhUTas/ho6mRUAvsD81gyj6pNyyP0Jv9KgtsrU/e+KUFLO5uD9Q3QFD+/27P3woj3b1jb8/gpQzbzCvwT/ypFxM+bHDP5vUI0+KvcU/+y8hMCDFxz/a3zxJeMrJP6q7sgsG18s/uzsZufrzzT+4RttjrxjQP6HpVwB0VNE/\",\"dtype\":\"float64\",\"shape\":[75]},\"y\":{\"__ndarray__\":\"S/O/Q+51ND/Sv8nbtpRIP2vylNV0PVE/aTum7souWD/At0SJ8fVgPw3Iuahxymc/MSNhhJWvcD/bTfBN02d3P2zb5nxnaoA/CD5h5MAGhz8NmeH1TyaQP+zrCsc9p5Y/LbKd76fGnz/bLW5ISEmmPww9YvTcQq8/JV2OstnstT8Er5Y7M8G+P0c+r3jqkcU/5h99k6ZBzj88bCIzFzjVP4enV8oyxN0//yH99nXg5D8qOpLLf0jtP5kqGJXUifQ/c9cS8kHP/D+/DpwzojQEQIEmwoanVwxA4lgXt9HgE0BSSZ2AJuIbQAMJih9jjiNA5q4l5INuK0AwTKYKRj0zQNv5fmq8/DpAaCJseHrtQkB/+zpwzoxKQM3MzMzMeFJAZmZmZmZqWEAAAAAAAFxeQM3MzMzMJmJAmpmZmZkfZUBmZmZmZhhoQDMzMzMzEWtAAAAAAAAKbkBmZmZmZoFwQM3MzMzM/XFAMzMzMzN6c0CamZmZmfZ0QAAAAAAAc3ZAZmZmZmbvd0DNzMzMzGt5QDMzMzMz6HpAmpmZmZlkfEAAAAAAAOF9QGZmZmZmXX9AZmZmZuZsgECamZmZGSuBQM3MzMxM6YFAAAAAAICngkAzMzMzs2WDQGZmZmbmI4RAmpmZmRnihEDNzMzMTKCFQAAAAACAXoZAMzMzM7Mch0BmZmZm5tqHQJqZmZkZmYhAzczMzExXiUAAAAAAgBWKQDMzMzOz04pAZmZmZuaRi0CamZmZGVCMQM3MzMxMDo1AAAAAAIDMjUAzMzMzs4qOQGZmZmbmSI9A\",\"dtype\":\"float64\",\"shape\":[75]}},\"selected\":{\"id\":\"e43823f3-dd68-44ee-b8cf-809baa3df855\",\"type\":\"Selection\"},\"selection_policy\":{\"id\":\"24d992e2-c97d-4548-ac75-3b672ff07b2d\",\"type\":\"UnionRenderers\"}},\"id\":\"37f1f198-6dca-442a-ab12-9e310afcad86\",\"type\":\"ColumnDataSource\"},{\"attributes\":{},\"id\":\"a95db833-afce-44cd-b3f6-026b9828c997\",\"type\":\"PanTool\"},{\"attributes\":{\"callback\":null,\"data\":{\"x\":{\"__ndarray__\":\"+fzpmAbBSL9+iMvNYdFIvy1GFje38Ui/XiaCxz0QSb9d38f2XypJv2YU6VftP0m/SVffSTVRSb9GKhCoT11Jv6VHh8icZEm/7d3O03BmSb87D7I4s2JJvwvn22DRWEm/NX1AHrpISb+Vmcpd+S9Jv8P0ouGctUi/nAGe/06zRb9uQq/1RNQ2v4OFFkj+jzQ/ck0kyRHBWD99b404trhsP1y/lpeAP3s/kLGbmHxThz+b0LRc5/OQP73d9UZrFJE/FcxWZmOIiD/TcbF5h6F+P5hvygvaM3E/DSjgRuZrYD8U/q4wZ9lEP11C11Wk3im/0zkPuHU+R79RwI8sr15Qv8CyHjNai1K/jHNPK4mLU79HhXH8tydUv107tj34i1S/b/a/z7wEVb9DoI20gahVv7uyryc/Q1a/nVHFHQcPV79+4t7Gb5RYv59rguGBZVq/GLPiaStOW7+zqaasbopav1GabXEE3la/x1A6/N6oTr+jgwDrjFEsv1j1fmmIOks/0CmZu1WZYj8s40pxIQxxP2HJgvYk2Ho/e6cNhRIYgz+jMAQN8aCJP+ssfV+RnJA/j39DAQv7lD9it+bGqPaZPzZzE3jRnp8/Kvyizwq2oz9EhQY8EiqoP3p9X7wc/6w/9avlQKIYsT/NGPjnKNuzPyZkCzTkx7Y/CM9CCrffuT9jQg5CJyG9P8plzPKvRMA/5aO9qHoFwj8bT4A4esLDP7WtXiypZsU/98NTuLPpxj/ywb7fYFbIPzlEmoB4wMk/1COytPg5yz+8+8ogytnMP6fp1BGXzs4/\",\"dtype\":\"float64\",\"shape\":[75]},\"y\":{\"__ndarray__\":\"GhExyth1ND/Sv8nbtpRIP2vylNV0PVE/aTum7souWD/At0SJ8fVgPw3Iuahxymc/MSNhhJWvcD/bTfBN02d3P2zb5nxnaoA/CD5h5MAGhz8NmeH1TyaQP+zrCsc9p5Y/LbKd76fGnz/bLW5ISEmmPww9YvTcQq8/JV2OstnstT8Er5Y7M8G+P0c+r3jqkcU/5h99k6ZBzj88bCIzFzjVP4enV8oyxN0//yH99nXg5D8qOpLLf0jtP5kqGJXUifQ/c9cS8kHP/D+/DpwzojQEQIEmwoanVwxA4lgXt9HgE0BSSZ2AJuIbQAMJih9jjiNA5q4l5INuK0AwTKYKRj0zQNv5fmq8/DpAaCJseHrtQkB/+zpwzoxKQM3MzMzMeFJAZmZmZmZqWEAAAAAAAFxeQM3MzMzMJmJAmpmZmZkfZUBmZmZmZhhoQDMzMzMzEWtAAAAAAAAKbkBmZmZmZoFwQM3MzMzM/XFAMzMzMzN6c0CamZmZmfZ0QAAAAAAAc3ZAZmZmZmbvd0DNzMzMzGt5QDMzMzMz6HpAmpmZmZlkfEAAAAAAAOF9QGZmZmZmXX9AZmZmZuZsgECamZmZGSuBQM3MzMxM6YFAAAAAAICngkAzMzMzs2WDQGZmZmbmI4RAmpmZmRnihEDNzMzMTKCFQAAAAACAXoZAMzMzM7Mch0BmZmZm5tqHQJqZmZkZmYhAzczMzExXiUAAAAAAgBWKQDMzMzOz04pAZmZmZuaRi0CamZmZGVCMQM3MzMxMDo1AAAAAAIDMjUAzMzMzs4qOQGZmZmbmSI9A\",\"dtype\":\"float64\",\"shape\":[75]}},\"selected\":{\"id\":\"c1c2f2ef-1d02-414f-94d2-3d6b293408dd\",\"type\":\"Selection\"},\"selection_policy\":{\"id\":\"258c370b-6c3f-49f6-91a8-72f77262f855\",\"type\":\"UnionRenderers\"}},\"id\":\"c717cb90-b145-43f9-ab30-c373d49c1834\",\"type\":\"ColumnDataSource\"},{\"attributes\":{},\"id\":\"9ece5e2e-f98a-4a20-9ba8-dbcd56d761df\",\"type\":\"WheelZoomTool\"},{\"attributes\":{\"data_source\":{\"id\":\"ad21e77a-c342-4092-9e60-1aa518baf649\",\"type\":\"ColumnDataSource\"},\"glyph\":{\"id\":\"a4509ddf-23f9-4fb7-b634-0982ddf55698\",\"type\":\"Square\"},\"hover_glyph\":null,\"muted_glyph\":null,\"nonselection_glyph\":{\"id\":\"6dce1029-134e-4ec9-98ee-a33b5088074d\",\"type\":\"Square\"},\"selection_glyph\":null,\"view\":{\"id\":\"cc179c06-bdee-4cd2-b078-f1b0518f4b11\",\"type\":\"CDSView\"}},\"id\":\"f8ec722e-48cf-4450-95d6-fd15504480a5\",\"type\":\"GlyphRenderer\"},{\"attributes\":{\"overlay\":{\"id\":\"f4fa167c-be9e-43ed-9fab-cfbcb36b88a5\",\"type\":\"BoxAnnotation\"}},\"id\":\"26c44340-531b-4dce-96f9-521902994545\",\"type\":\"BoxZoomTool\"},{\"attributes\":{},\"id\":\"da777fc5-3fd1-4f5f-979b-d9d4b6919f17\",\"type\":\"ResetTool\"},{\"attributes\":{\"callback\":null,\"data\":{\"x\":{\"__ndarray__\":\"Y9VcTIiMRb8AJqmO2J9FvwE+xgcKx0W/qt3g1fDtRb8RWvlcDxJGv/KDrHUrM0a/xnZZSBpRRr9VsSSbrmtGvzjyLlW7gka/BZktqBKWRr8/YQC3iaVGv1wsJ382sUa/hyT3rRG5Rr8iqELOB7xGv96LGU0Gn0a/P7IpjMkTRb/BuYg3SiQ9v1wL0g9JZ+k+Mp2q9Oh5TD8hQtkl/CNjPwWKhY5XSHM/EvObL54UgT9Sb4Uxm2CJP4oZyFCh/Ik/86cvwpL2gj9omlvZsRV4P6Qt4yyJiGs//khNDiqwWj8x6BXUO+9AP1Mf0XDr1Ci/Koy9+JoVRb9ZF0yVqRFOv6jw8vx6YVG/XiG5XtapUr/QKdlEvnhTv5TrbqFZAFS/NU+sliZzVL8jWXjBnRBVv8lwstGdjlW/jPcEBbVKVr/t9dEVo6hXv/KgWxuqalm/OvMYjU+UWr9cqurXcZJav7fDzQtqlli/KAabDuoIU79FvagpPkhDv4SWml8vMzI/DlqSu8SjWD8rYt+tb8lpP2tBFsMIqnU/Vlh2Zt4IgD+yt9YPmCSGP5SMoT73VY0/4vth0n/Zkj+t7DQyxaWXP+036lNUHp0/Eq4sQ69Ooj/V3ykc9ZumPx8ORZMhTas/CbyvpL4nsD8R9IfOgdGyP0daVe+jrLU/sZjtF6eyuD/AgsnHzfS7P9AtEftGbL8/PTlUnR+QwT/yUZDpGnfDP1udGGkUWMU/I7qpeXUrxz8QkiZayfnIPxnkkezPzco/HQtELry7zD+CO+18gdHOP9bbTY0jmNA/\",\"dtype\":\"float64\",\"shape\":[75]},\"y\":{\"__ndarray__\":\"GhExyth1ND/Sv8nbtpRIP2vylNV0PVE/aTum7souWD/At0SJ8fVgPw3Iuahxymc/MSNhhJWvcD/bTfBN02d3P2zb5nxnaoA/CD5h5MAGhz8NmeH1TyaQP+zrCsc9p5Y/LbKd76fGnz/bLW5ISEmmPww9YvTcQq8/JV2OstnstT8Er5Y7M8G+P0c+r3jqkcU/5h99k6ZBzj88bCIzFzjVP4enV8oyxN0//yH99nXg5D8qOpLLf0jtP5kqGJXUifQ/c9cS8kHP/D+/DpwzojQEQIEmwoanVwxA4lgXt9HgE0BSSZ2AJuIbQAMJih9jjiNA5q4l5INuK0AwTKYKRj0zQNv5fmq8/DpAaCJseHrtQkB/+zpwzoxKQM3MzMzMeFJAZmZmZmZqWEAAAAAAAFxeQM3MzMzMJmJAmpmZmZkfZUBmZmZmZhhoQDMzMzMzEWtAAAAAAAAKbkBmZmZmZoFwQM3MzMzM/XFAMzMzMzN6c0CamZmZmfZ0QAAAAAAAc3ZAZmZmZmbvd0DNzMzMzGt5QDMzMzMz6HpAmpmZmZlkfEAAAAAAAOF9QGZmZmZmXX9AZmZmZuZsgECamZmZGSuBQM3MzMxM6YFAAAAAAICngkAzMzMzs2WDQGZmZmbmI4RAmpmZmRnihEDNzMzMTKCFQAAAAACAXoZAMzMzM7Mch0BmZmZm5tqHQJqZmZkZmYhAzczMzExXiUAAAAAAgBWKQDMzMzOz04pAZmZmZuaRi0CamZmZGVCMQM3MzMxMDo1AAAAAAIDMjUAzMzMzs4qOQGZmZmbmSI9A\",\"dtype\":\"float64\",\"shape\":[75]}},\"selected\":{\"id\":\"55ced49f-b05d-4233-9617-e99244005c1f\",\"type\":\"Selection\"},\"selection_policy\":{\"id\":\"4ca23ee3-8609-4ca6-adb8-4574386d5029\",\"type\":\"UnionRenderers\"}},\"id\":\"ad21e77a-c342-4092-9e60-1aa518baf649\",\"type\":\"ColumnDataSource\"},{\"attributes\":{},\"id\":\"a8b912a6-2a25-472a-acd2-67e50bdf7440\",\"type\":\"HelpTool\"},{\"attributes\":{\"callback\":null,\"data\":{\"x\":{\"__ndarray__\":\"+fzpmAbBSL9+iMvNYdFIvy1GFje38Ui/XiaCxz0QSb9d38f2XypJv2YU6VftP0m/SVffSTVRSb9GKhCoT11Jv6VHh8icZEm/7d3O03BmSb87D7I4s2JJvwvn22DRWEm/NX1AHrpISb+Vmcpd+S9Jv8P0ouGctUi/nAGe/06zRb9uQq/1RNQ2v4OFFkj+jzQ/ck0kyRHBWD99b404trhsP1y/lpeAP3s/kLGbmHxThz+b0LRc5/OQP73d9UZrFJE/FcxWZmOIiD/TcbF5h6F+P5hvygvaM3E/DSjgRuZrYD8U/q4wZ9lEP11C11Wk3im/0zkPuHU+R79RwI8sr15Qv8CyHjNai1K/jHNPK4mLU79HhXH8tydUv107tj34i1S/b/a/z7wEVb9DoI20gahVv7uyryc/Q1a/nVHFHQcPV79+4t7Gb5RYv59rguGBZVq/GLPiaStOW7+zqaasbopav1GabXEE3la/x1A6/N6oTr+jgwDrjFEsv1j1fmmIOks/0CmZu1WZYj8s40pxIQxxP2HJgvYk2Ho/e6cNhRIYgz+jMAQN8aCJP+ssfV+RnJA/j39DAQv7lD9it+bGqPaZPzZzE3jRnp8/Kvyizwq2oz9EhQY8EiqoP3p9X7wc/6w/9avlQKIYsT/NGPjnKNuzPyZkCzTkx7Y/CM9CCrffuT9jQg5CJyG9P8plzPKvRMA/5aO9qHoFwj8bT4A4esLDP7WtXiypZsU/98NTuLPpxj/ywb7fYFbIPzlEmoB4wMk/1COytPg5yz+8+8ogytnMP6fp1BGXzs4/\",\"dtype\":\"float64\",\"shape\":[75]},\"y\":{\"__ndarray__\":\"GhExyth1ND/Sv8nbtpRIP2vylNV0PVE/aTum7souWD/At0SJ8fVgPw3Iuahxymc/MSNhhJWvcD/bTfBN02d3P2zb5nxnaoA/CD5h5MAGhz8NmeH1TyaQP+zrCsc9p5Y/LbKd76fGnz/bLW5ISEmmPww9YvTcQq8/JV2OstnstT8Er5Y7M8G+P0c+r3jqkcU/5h99k6ZBzj88bCIzFzjVP4enV8oyxN0//yH99nXg5D8qOpLLf0jtP5kqGJXUifQ/c9cS8kHP/D+/DpwzojQEQIEmwoanVwxA4lgXt9HgE0BSSZ2AJuIbQAMJih9jjiNA5q4l5INuK0AwTKYKRj0zQNv5fmq8/DpAaCJseHrtQkB/+zpwzoxKQM3MzMzMeFJAZmZmZmZqWEAAAAAAAFxeQM3MzMzMJmJAmpmZmZkfZUBmZmZmZhhoQDMzMzMzEWtAAAAAAAAKbkBmZmZmZoFwQM3MzMzM/XFAMzMzMzN6c0CamZmZmfZ0QAAAAAAAc3ZAZmZmZmbvd0DNzMzMzGt5QDMzMzMz6HpAmpmZmZlkfEAAAAAAAOF9QGZmZmZmXX9AZmZmZuZsgECamZmZGSuBQM3MzMxM6YFAAAAAAICngkAzMzMzs2WDQGZmZmbmI4RAmpmZmRnihEDNzMzMTKCFQAAAAACAXoZAMzMzM7Mch0BmZmZm5tqHQJqZmZkZmYhAzczMzExXiUAAAAAAgBWKQDMzMzOz04pAZmZmZuaRi0CamZmZGVCMQM3MzMxMDo1AAAAAAIDMjUAzMzMzs4qOQGZmZmbmSI9A\",\"dtype\":\"float64\",\"shape\":[75]}},\"selected\":{\"id\":\"d31d2717-209a-4f9b-ae6e-c1b5639cbbdb\",\"type\":\"Selection\"},\"selection_policy\":{\"id\":\"538f0566-bf76-4c62-a658-273bd1c18c61\",\"type\":\"UnionRenderers\"}},\"id\":\"1c5d4aaf-c13d-4cc4-8122-a9df2d8ce674\",\"type\":\"ColumnDataSource\"},{\"attributes\":{},\"id\":\"64832461-fc81-4f40-be3a-23a825c45327\",\"type\":\"SaveTool\"},{\"attributes\":{\"source\":{\"id\":\"c717cb90-b145-43f9-ab30-c373d49c1834\",\"type\":\"ColumnDataSource\"}},\"id\":\"bc1e131d-55dd-4fd7-a70a-ccd45ccef804\",\"type\":\"CDSView\"},{\"attributes\":{},\"id\":\"9fc765c0-b07b-4143-b237-df218a0dbe35\",\"type\":\"LinearScale\"},{\"attributes\":{\"line_alpha\":0.1,\"line_color\":\"#1f77b4\",\"line_width\":3,\"x\":{\"field\":\"x\"},\"y\":{\"field\":\"y\"}},\"id\":\"9cf31c9f-c877-484c-a52f-73a84428a88a\",\"type\":\"Line\"},{\"attributes\":{\"below\":[{\"id\":\"5c54e234-0f22-4f45-bbcd-3f3cc25b3838\",\"type\":\"LinearAxis\"}],\"left\":[{\"id\":\"2afd7f80-8e10-44e3-85d3-106f5a03d81a\",\"type\":\"LogAxis\"}],\"plot_height\":500,\"plot_width\":560,\"renderers\":[{\"id\":\"5c54e234-0f22-4f45-bbcd-3f3cc25b3838\",\"type\":\"LinearAxis\"},{\"id\":\"bce3afac-d5e7-4ea4-9a19-6d717c4789e6\",\"type\":\"Grid\"},{\"id\":\"2afd7f80-8e10-44e3-85d3-106f5a03d81a\",\"type\":\"LogAxis\"},{\"id\":\"498bd059-dcf0-4d0b-b39c-030b3b9686cb\",\"type\":\"Grid\"},{\"id\":\"f4fa167c-be9e-43ed-9fab-cfbcb36b88a5\",\"type\":\"BoxAnnotation\"},{\"id\":\"0127d82a-37d1-41d2-ac07-d1b9972667ce\",\"type\":\"GlyphRenderer\"},{\"id\":\"7aa040c3-459e-4711-860a-749b7b549914\",\"type\":\"GlyphRenderer\"},{\"id\":\"bf4572df-4ab4-4118-a205-da7f374229ce\",\"type\":\"GlyphRenderer\"},{\"id\":\"9cc9bb1f-6c9f-4cc3-8c74-1a63d9b85dc4\",\"type\":\"GlyphRenderer\"},{\"id\":\"29c3d530-eb0f-4f1f-baf0-e15f107a615a\",\"type\":\"GlyphRenderer\"},{\"id\":\"f3777405-9b2c-4c91-8ee4-e12a3a7a3250\",\"type\":\"Legend\"}],\"right\":[{\"id\":\"f3777405-9b2c-4c91-8ee4-e12a3a7a3250\",\"type\":\"Legend\"}],\"title\":{\"id\":\"a9e138f6-630a-4d76-b946-c41b7c35a212\",\"type\":\"Title\"},\"toolbar\":{\"id\":\"fbc996ca-6d65-41ee-a28b-3ccf106b1275\",\"type\":\"Toolbar\"},\"toolbar_location\":null,\"x_range\":{\"id\":\"13b74c7a-a6dc-43ef-b857-52034ec3eeaa\",\"type\":\"Range1d\"},\"x_scale\":{\"id\":\"9fc765c0-b07b-4143-b237-df218a0dbe35\",\"type\":\"LinearScale\"},\"y_range\":{\"id\":\"db61fb39-b065-4560-bd3e-f44910753aba\",\"type\":\"Range1d\"},\"y_scale\":{\"id\":\"0aba0934-7675-4f47-abc4-1af41817c0e8\",\"type\":\"LogScale\"}},\"id\":\"466ed748-a91a-4320-a853-66f727b2dd3a\",\"subtype\":\"Figure\",\"type\":\"Plot\"},{\"attributes\":{\"line_alpha\":0.6,\"line_color\":\"#984ea3\",\"line_width\":3,\"x\":{\"field\":\"x\"},\"y\":{\"field\":\"y\"}},\"id\":\"5a48eb42-a13b-4481-b998-11a61d67c9d0\",\"type\":\"Line\"},{\"attributes\":{\"line_alpha\":0.1,\"line_color\":\"#1f77b4\",\"line_dash\":[6],\"line_width\":5,\"x\":{\"field\":\"x\"},\"y\":{\"field\":\"y\"}},\"id\":\"d5d4e9f8-8d27-40e7-ab21-c998446320d9\",\"type\":\"Line\"},{\"attributes\":{\"active_drag\":\"auto\",\"active_inspect\":\"auto\",\"active_scroll\":\"auto\",\"active_tap\":\"auto\",\"tools\":[{\"id\":\"529c70ea-1ea4-46aa-b3ca-c40344870d84\",\"type\":\"PanTool\"},{\"id\":\"21763285-b327-44d7-a083-985ac37c3b70\",\"type\":\"WheelZoomTool\"},{\"id\":\"e3a474d2-7bbb-479b-9f0e-bfa6cda24fa7\",\"type\":\"BoxZoomTool\"},{\"id\":\"bdc34d22-324e-4027-a299-2104b263ca86\",\"type\":\"SaveTool\"},{\"id\":\"92737bf7-c134-446c-93b6-a54c3febeab6\",\"type\":\"ResetTool\"},{\"id\":\"1473c35c-5f9c-4662-9e42-4ffe2b6db917\",\"type\":\"HelpTool\"}]},\"id\":\"86b97535-0c40-41f3-9a49-e807e772bf7e\",\"type\":\"Toolbar\"},{\"attributes\":{\"line_alpha\":0.1,\"line_color\":\"#1f77b4\",\"line_width\":1.5,\"x\":{\"field\":\"x\"},\"y\":{\"field\":\"y\"}},\"id\":\"67ac05eb-461f-4730-8a3d-f96f3d17546c\",\"type\":\"Line\"},{\"attributes\":{\"plot\":null,\"text\":\"Linear pressure scale\"},\"id\":\"5eff546d-7c74-4504-80f2-545f67e196fa\",\"type\":\"Title\"},{\"attributes\":{\"source\":{\"id\":\"808f9f3c-c7e6-4bb6-9f98-6b124f0a273c\",\"type\":\"ColumnDataSource\"}},\"id\":\"16cb602e-e155-449d-be72-db745879a05e\",\"type\":\"CDSView\"},{\"attributes\":{\"line_color\":\"#4daf4a\",\"line_width\":1.5,\"x\":{\"field\":\"x\"},\"y\":{\"field\":\"y\"}},\"id\":\"18ca7123-e9b8-4118-956d-826570ee3805\",\"type\":\"Line\"},{\"attributes\":{\"data_source\":{\"id\":\"c717cb90-b145-43f9-ab30-c373d49c1834\",\"type\":\"ColumnDataSource\"},\"glyph\":{\"id\":\"18ca7123-e9b8-4118-956d-826570ee3805\",\"type\":\"Line\"},\"hover_glyph\":null,\"muted_glyph\":null,\"nonselection_glyph\":{\"id\":\"67ac05eb-461f-4730-8a3d-f96f3d17546c\",\"type\":\"Line\"},\"selection_glyph\":null,\"view\":{\"id\":\"bc1e131d-55dd-4fd7-a70a-ccd45ccef804\",\"type\":\"CDSView\"}},\"id\":\"101dcc15-d1c9-40f0-963b-1566f1a40736\",\"type\":\"GlyphRenderer\"},{\"attributes\":{\"line_alpha\":0.6,\"line_color\":\"#984ea3\",\"line_width\":3,\"x\":{\"field\":\"x\"},\"y\":{\"field\":\"y\"}},\"id\":\"d3b417bd-0aa1-4413-9aa2-828256b948c4\",\"type\":\"Line\"},{\"attributes\":{\"data_source\":{\"id\":\"808f9f3c-c7e6-4bb6-9f98-6b124f0a273c\",\"type\":\"ColumnDataSource\"},\"glyph\":{\"id\":\"5a48eb42-a13b-4481-b998-11a61d67c9d0\",\"type\":\"Line\"},\"hover_glyph\":null,\"muted_glyph\":null,\"nonselection_glyph\":{\"id\":\"9cf31c9f-c877-484c-a52f-73a84428a88a\",\"type\":\"Line\"},\"selection_glyph\":null,\"view\":{\"id\":\"16cb602e-e155-449d-be72-db745879a05e\",\"type\":\"CDSView\"}},\"id\":\"29c3d530-eb0f-4f1f-baf0-e15f107a615a\",\"type\":\"GlyphRenderer\"},{\"attributes\":{\"callback\":null,\"data\":{\"x\":{\"__ndarray__\":\"Y9VcTIiMRb8AJqmO2J9FvwE+xgcKx0W/qt3g1fDtRb8RWvlcDxJGv/KDrHUrM0a/xnZZSBpRRr9VsSSbrmtGvzjyLlW7gka/BZktqBKWRr8/YQC3iaVGv1wsJ382sUa/hyT3rRG5Rr8iqELOB7xGv96LGU0Gn0a/P7IpjMkTRb/BuYg3SiQ9v1wL0g9JZ+k+Mp2q9Oh5TD8hQtkl/CNjPwWKhY5XSHM/EvObL54UgT9Sb4Uxm2CJP4oZyFCh/Ik/86cvwpL2gj9omlvZsRV4P6Qt4yyJiGs//khNDiqwWj8x6BXUO+9AP1Mf0XDr1Ci/Koy9+JoVRb9ZF0yVqRFOv6jw8vx6YVG/XiG5XtapUr/QKdlEvnhTv5TrbqFZAFS/NU+sliZzVL8jWXjBnRBVv8lwstGdjlW/jPcEBbVKVr/t9dEVo6hXv/KgWxuqalm/OvMYjU+UWr9cqurXcZJav7fDzQtqlli/KAabDuoIU79FvagpPkhDv4SWml8vMzI/DlqSu8SjWD8rYt+tb8lpP2tBFsMIqnU/Vlh2Zt4IgD+yt9YPmCSGP5SMoT73VY0/4vth0n/Zkj+t7DQyxaWXP+036lNUHp0/Eq4sQ69Ooj/V3ykc9ZumPx8ORZMhTas/CbyvpL4nsD8R9IfOgdGyP0daVe+jrLU/sZjtF6eyuD/AgsnHzfS7P9AtEftGbL8/PTlUnR+QwT/yUZDpGnfDP1udGGkUWMU/I7qpeXUrxz8QkiZayfnIPxnkkezPzco/HQtELry7zD+CO+18gdHOP9bbTY0jmNA/\",\"dtype\":\"float64\",\"shape\":[75]},\"y\":{\"__ndarray__\":\"GhExyth1ND/Sv8nbtpRIP2vylNV0PVE/aTum7souWD/At0SJ8fVgPw3Iuahxymc/MSNhhJWvcD/bTfBN02d3P2zb5nxnaoA/CD5h5MAGhz8NmeH1TyaQP+zrCsc9p5Y/LbKd76fGnz/bLW5ISEmmPww9YvTcQq8/JV2OstnstT8Er5Y7M8G+P0c+r3jqkcU/5h99k6ZBzj88bCIzFzjVP4enV8oyxN0//yH99nXg5D8qOpLLf0jtP5kqGJXUifQ/c9cS8kHP/D+/DpwzojQEQIEmwoanVwxA4lgXt9HgE0BSSZ2AJuIbQAMJih9jjiNA5q4l5INuK0AwTKYKRj0zQNv5fmq8/DpAaCJseHrtQkB/+zpwzoxKQM3MzMzMeFJAZmZmZmZqWEAAAAAAAFxeQM3MzMzMJmJAmpmZmZkfZUBmZmZmZhhoQDMzMzMzEWtAAAAAAAAKbkBmZmZmZoFwQM3MzMzM/XFAMzMzMzN6c0CamZmZmfZ0QAAAAAAAc3ZAZmZmZmbvd0DNzMzMzGt5QDMzMzMz6HpAmpmZmZlkfEAAAAAAAOF9QGZmZmZmXX9AZmZmZuZsgECamZmZGSuBQM3MzMxM6YFAAAAAAICngkAzMzMzs2WDQGZmZmbmI4RAmpmZmRnihEDNzMzMTKCFQAAAAACAXoZAMzMzM7Mch0BmZmZm5tqHQJqZmZkZmYhAzczMzExXiUAAAAAAgBWKQDMzMzOz04pAZmZmZuaRi0CamZmZGVCMQM3MzMxMDo1AAAAAAIDMjUAzMzMzs4qOQGZmZmbmSI9A\",\"dtype\":\"float64\",\"shape\":[75]}},\"selected\":{\"id\":\"b96a0655-06d9-49f4-b103-5c1be2e02467\",\"type\":\"Selection\"},\"selection_policy\":{\"id\":\"3c81b6de-896d-48ae-97aa-d87aae7663bd\",\"type\":\"UnionRenderers\"}},\"id\":\"b9ab1bd0-0576-4a07-ae9c-c38dc3c27d35\",\"type\":\"ColumnDataSource\"},{\"attributes\":{\"data_source\":{\"id\":\"3307a8dc-baac-45e8-9cbd-e073c6ebb680\",\"type\":\"ColumnDataSource\"},\"glyph\":{\"id\":\"e614eeef-1120-4329-b067-e4c44b9bec93\",\"type\":\"Line\"},\"hover_glyph\":null,\"muted_glyph\":null,\"nonselection_glyph\":{\"id\":\"d5d4e9f8-8d27-40e7-ab21-c998446320d9\",\"type\":\"Line\"},\"selection_glyph\":null,\"view\":{\"id\":\"302610d2-fdf2-40ae-b80c-3b80e92a5ba4\",\"type\":\"CDSView\"}},\"id\":\"0127d82a-37d1-41d2-ac07-d1b9972667ce\",\"type\":\"GlyphRenderer\"},{\"attributes\":{\"callback\":null,\"end\":0.01,\"start\":1020},\"id\":\"db61fb39-b065-4560-bd3e-f44910753aba\",\"type\":\"Range1d\"},{\"attributes\":{\"fill_alpha\":{\"value\":0.7},\"fill_color\":{\"value\":\"#4daf4a\"},\"line_alpha\":{\"value\":0.7},\"line_color\":{\"value\":\"#4daf4a\"},\"x\":{\"field\":\"x\"},\"y\":{\"field\":\"y\"}},\"id\":\"9a88d4cc-d476-4d18-9a8a-cbdf8b6432be\",\"type\":\"Circle\"},{\"attributes\":{},\"id\":\"0aba0934-7675-4f47-abc4-1af41817c0e8\",\"type\":\"LogScale\"},{\"attributes\":{\"fill_alpha\":{\"value\":0.7},\"fill_color\":{\"value\":\"#984ea3\"},\"line_alpha\":{\"value\":0.7},\"line_color\":{\"value\":\"#984ea3\"},\"x\":{\"field\":\"x\"},\"y\":{\"field\":\"y\"}},\"id\":\"a4509ddf-23f9-4fb7-b634-0982ddf55698\",\"type\":\"Square\"},{\"attributes\":{\"axis_label\":\"cooling rate [K/day]\",\"formatter\":{\"id\":\"a57ad827-4f4f-4a03-bdd2-cea6190ab046\",\"type\":\"BasicTickFormatter\"},\"plot\":{\"id\":\"369841b7-1056-41be-b90d-d753199ebb04\",\"subtype\":\"Figure\",\"type\":\"Plot\"},\"ticker\":{\"id\":\"7efd55fd-b860-4b33-8487-191dc6724de4\",\"type\":\"BasicTicker\"}},\"id\":\"c5276dc3-9780-4c15-b95a-0ea8cedce560\",\"type\":\"LinearAxis\"},{\"attributes\":{\"axis_label\":\"pressure [mb]\",\"formatter\":{\"id\":\"cdb9364c-890b-479b-b320-6a5ce79dd906\",\"type\":\"LogTickFormatter\"},\"plot\":{\"id\":\"466ed748-a91a-4320-a853-66f727b2dd3a\",\"subtype\":\"Figure\",\"type\":\"Plot\"},\"ticker\":{\"id\":\"6beaf500-7566-41dc-825d-d8a4cec49013\",\"type\":\"LogTicker\"}},\"id\":\"2afd7f80-8e10-44e3-85d3-106f5a03d81a\",\"type\":\"LogAxis\"},{\"attributes\":{\"axis_label\":\"pressure [mb]\",\"formatter\":{\"id\":\"c3131851-8c88-443a-9709-6798e7b4d385\",\"type\":\"BasicTickFormatter\"},\"plot\":{\"id\":\"369841b7-1056-41be-b90d-d753199ebb04\",\"subtype\":\"Figure\",\"type\":\"Plot\"},\"ticker\":{\"id\":\"2c896c7c-1927-4007-8fb6-724e59eb9538\",\"type\":\"BasicTicker\"}},\"id\":\"7087ad51-2e1e-4cce-b7b5-f223a5aa01dc\",\"type\":\"LinearAxis\"},{\"attributes\":{\"source\":{\"id\":\"1c5d4aaf-c13d-4cc4-8122-a9df2d8ce674\",\"type\":\"ColumnDataSource\"}},\"id\":\"935c893c-515c-44ee-b786-20382503525e\",\"type\":\"CDSView\"},{\"attributes\":{\"dimension\":1,\"plot\":{\"id\":\"466ed748-a91a-4320-a853-66f727b2dd3a\",\"subtype\":\"Figure\",\"type\":\"Plot\"},\"ticker\":{\"id\":\"6beaf500-7566-41dc-825d-d8a4cec49013\",\"type\":\"LogTicker\"}},\"id\":\"498bd059-dcf0-4d0b-b39c-030b3b9686cb\",\"type\":\"Grid\"},{\"attributes\":{\"plot\":{\"id\":\"369841b7-1056-41be-b90d-d753199ebb04\",\"subtype\":\"Figure\",\"type\":\"Plot\"},\"ticker\":{\"id\":\"7efd55fd-b860-4b33-8487-191dc6724de4\",\"type\":\"BasicTicker\"}},\"id\":\"0b7b156e-799c-4561-9975-8ace8c93bfb5\",\"type\":\"Grid\"},{\"attributes\":{\"plot\":null,\"text\":\"Log pressure scale\"},\"id\":\"a9e138f6-630a-4d76-b946-c41b7c35a212\",\"type\":\"Title\"},{\"attributes\":{},\"id\":\"2c896c7c-1927-4007-8fb6-724e59eb9538\",\"type\":\"BasicTicker\"},{\"attributes\":{\"callback\":null,\"data\":{\"x\":{\"__ndarray__\":\"Y9VcTIiMRb8AJqmO2J9FvwE+xgcKx0W/qt3g1fDtRb8RWvlcDxJGv/KDrHUrM0a/xnZZSBpRRr9VsSSbrmtGvzjyLlW7gka/BZktqBKWRr8/YQC3iaVGv1wsJ382sUa/hyT3rRG5Rr8iqELOB7xGv96LGU0Gn0a/P7IpjMkTRb/BuYg3SiQ9v1wL0g9JZ+k+Mp2q9Oh5TD8hQtkl/CNjPwWKhY5XSHM/EvObL54UgT9Sb4Uxm2CJP4oZyFCh/Ik/86cvwpL2gj9omlvZsRV4P6Qt4yyJiGs//khNDiqwWj8x6BXUO+9AP1Mf0XDr1Ci/Koy9+JoVRb9ZF0yVqRFOv6jw8vx6YVG/XiG5XtapUr/QKdlEvnhTv5TrbqFZAFS/NU+sliZzVL8jWXjBnRBVv8lwstGdjlW/jPcEBbVKVr/t9dEVo6hXv/KgWxuqalm/OvMYjU+UWr9cqurXcZJav7fDzQtqlli/KAabDuoIU79FvagpPkhDv4SWml8vMzI/DlqSu8SjWD8rYt+tb8lpP2tBFsMIqnU/Vlh2Zt4IgD+yt9YPmCSGP5SMoT73VY0/4vth0n/Zkj+t7DQyxaWXP+036lNUHp0/Eq4sQ69Ooj/V3ykc9ZumPx8ORZMhTas/CbyvpL4nsD8R9IfOgdGyP0daVe+jrLU/sZjtF6eyuD/AgsnHzfS7P9AtEftGbL8/PTlUnR+QwT/yUZDpGnfDP1udGGkUWMU/I7qpeXUrxz8QkiZayfnIPxnkkezPzco/HQtELry7zD+CO+18gdHOP9bbTY0jmNA/\",\"dtype\":\"float64\",\"shape\":[75]},\"y\":{\"__ndarray__\":\"GhExyth1ND/Sv8nbtpRIP2vylNV0PVE/aTum7souWD/At0SJ8fVgPw3Iuahxymc/MSNhhJWvcD/bTfBN02d3P2zb5nxnaoA/CD5h5MAGhz8NmeH1TyaQP+zrCsc9p5Y/LbKd76fGnz/bLW5ISEmmPww9YvTcQq8/JV2OstnstT8Er5Y7M8G+P0c+r3jqkcU/5h99k6ZBzj88bCIzFzjVP4enV8oyxN0//yH99nXg5D8qOpLLf0jtP5kqGJXUifQ/c9cS8kHP/D+/DpwzojQEQIEmwoanVwxA4lgXt9HgE0BSSZ2AJuIbQAMJih9jjiNA5q4l5INuK0AwTKYKRj0zQNv5fmq8/DpAaCJseHrtQkB/+zpwzoxKQM3MzMzMeFJAZmZmZmZqWEAAAAAAAFxeQM3MzMzMJmJAmpmZmZkfZUBmZmZmZhhoQDMzMzMzEWtAAAAAAAAKbkBmZmZmZoFwQM3MzMzM/XFAMzMzMzN6c0CamZmZmfZ0QAAAAAAAc3ZAZmZmZmbvd0DNzMzMzGt5QDMzMzMz6HpAmpmZmZlkfEAAAAAAAOF9QGZmZmZmXX9AZmZmZuZsgECamZmZGSuBQM3MzMxM6YFAAAAAAICngkAzMzMzs2WDQGZmZmbmI4RAmpmZmRnihEDNzMzMTKCFQAAAAACAXoZAMzMzM7Mch0BmZmZm5tqHQJqZmZkZmYhAzczMzExXiUAAAAAAgBWKQDMzMzOz04pAZmZmZuaRi0CamZmZGVCMQM3MzMxMDo1AAAAAAIDMjUAzMzMzs4qOQGZmZmbmSI9A\",\"dtype\":\"float64\",\"shape\":[75]}},\"selected\":{\"id\":\"09106379-874f-4303-825d-c00376f09fc1\",\"type\":\"Selection\"},\"selection_policy\":{\"id\":\"f684729f-0fd0-4d01-9744-dfd197d93ebf\",\"type\":\"UnionRenderers\"}},\"id\":\"808f9f3c-c7e6-4bb6-9f98-6b124f0a273c\",\"type\":\"ColumnDataSource\"},{\"attributes\":{},\"id\":\"92737bf7-c134-446c-93b6-a54c3febeab6\",\"type\":\"ResetTool\"},{\"attributes\":{\"below\":[{\"id\":\"c5276dc3-9780-4c15-b95a-0ea8cedce560\",\"type\":\"LinearAxis\"}],\"left\":[{\"id\":\"7087ad51-2e1e-4cce-b7b5-f223a5aa01dc\",\"type\":\"LinearAxis\"}],\"plot_height\":500,\"plot_width\":400,\"renderers\":[{\"id\":\"c5276dc3-9780-4c15-b95a-0ea8cedce560\",\"type\":\"LinearAxis\"},{\"id\":\"0b7b156e-799c-4561-9975-8ace8c93bfb5\",\"type\":\"Grid\"},{\"id\":\"7087ad51-2e1e-4cce-b7b5-f223a5aa01dc\",\"type\":\"LinearAxis\"},{\"id\":\"f9575dd7-a0c5-4e05-9c9d-eab996a92a8e\",\"type\":\"Grid\"},{\"id\":\"894eb91e-af51-405b-a321-a1d3b3158722\",\"type\":\"BoxAnnotation\"},{\"id\":\"83f3f794-7ea2-4935-9e27-64901d2ce223\",\"type\":\"GlyphRenderer\"},{\"id\":\"b3f145cf-eb26-40bd-b7d7-ec681b1ce7f8\",\"type\":\"GlyphRenderer\"},{\"id\":\"101dcc15-d1c9-40f0-963b-1566f1a40736\",\"type\":\"GlyphRenderer\"},{\"id\":\"f8ec722e-48cf-4450-95d6-fd15504480a5\",\"type\":\"GlyphRenderer\"},{\"id\":\"01698024-23e5-4001-93a8-0fc51c4ca177\",\"type\":\"GlyphRenderer\"}],\"title\":{\"id\":\"5eff546d-7c74-4504-80f2-545f67e196fa\",\"type\":\"Title\"},\"toolbar\":{\"id\":\"86b97535-0c40-41f3-9a49-e807e772bf7e\",\"type\":\"Toolbar\"},\"toolbar_location\":null,\"x_range\":{\"id\":\"c9e35b66-48d9-4b27-8ac3-83512496dadb\",\"type\":\"Range1d\"},\"x_scale\":{\"id\":\"380b3971-3552-47f5-809d-e688fc8064e6\",\"type\":\"LinearScale\"},\"y_range\":{\"id\":\"f428df33-9bc8-4f7b-b7ce-078cfd32108b\",\"type\":\"Range1d\"},\"y_scale\":{\"id\":\"f67d1035-0894-4a0d-b038-b163060ffb92\",\"type\":\"LinearScale\"}},\"id\":\"369841b7-1056-41be-b90d-d753199ebb04\",\"subtype\":\"Figure\",\"type\":\"Plot\"},{\"attributes\":{\"fill_alpha\":{\"value\":0.1},\"fill_color\":{\"value\":\"#1f77b4\"},\"line_alpha\":{\"value\":0.1},\"line_color\":{\"value\":\"#1f77b4\"},\"x\":{\"field\":\"x\"},\"y\":{\"field\":\"y\"}},\"id\":\"6dce1029-134e-4ec9-98ee-a33b5088074d\",\"type\":\"Square\"},{\"attributes\":{\"source\":{\"id\":\"b9ab1bd0-0576-4a07-ae9c-c38dc3c27d35\",\"type\":\"ColumnDataSource\"}},\"id\":\"9540c370-263f-453d-b092-3249cedb48d1\",\"type\":\"CDSView\"},{\"attributes\":{\"data_source\":{\"id\":\"1c5d4aaf-c13d-4cc4-8122-a9df2d8ce674\",\"type\":\"ColumnDataSource\"},\"glyph\":{\"id\":\"9a88d4cc-d476-4d18-9a8a-cbdf8b6432be\",\"type\":\"Circle\"},\"hover_glyph\":null,\"muted_glyph\":null,\"nonselection_glyph\":{\"id\":\"d4223d77-4168-434f-8bad-47e0d5e39c50\",\"type\":\"Circle\"},\"selection_glyph\":null,\"view\":{\"id\":\"935c893c-515c-44ee-b786-20382503525e\",\"type\":\"CDSView\"}},\"id\":\"b3f145cf-eb26-40bd-b7d7-ec681b1ce7f8\",\"type\":\"GlyphRenderer\"},{\"attributes\":{\"callback\":null,\"data\":{\"x\":{\"__ndarray__\":\"qje2u/ocSb99/Y+EieFJvzcHvs0HJkm/KLA+LkpBSb/Q8PVn4WtJvzfXAp02k0m/XOFSDIOzSb8eIapL9dBJvwQ+shyr5km/Y6DutGYLSr+xZCBtKUlKv1W8NZtMdkq/+GiunoKVSr/4FMwVb7ZKv4aGJ/cg5Eq/tQAvOakfSr9IFtec+SRFv2RJ+Q9MbTG/dfuse3IwPj9Li9qE0tNbP54gx1SOSW4/+oIHnuOpfD8xhVCjZeSFP2QyJECwV4Y/6rXfNmgqgD9cO8D4ijN0P3R7GSqeMWY/eKAVqvBmUz/OSc5WlS4qP5E6ZDWY3Tu/uBqvJNIHS79vsKiqBlhRvxkZRjRYNVO/gfZx1NQpVL93M3TC/LtUv8z70rfZE1W/SG5fnel5Vb9rIvhGCcZVvwiTSseIg1W/6PFi/l3hVb+hnoJom85Wv3M2ZbJtTVm/BQEXROIuW78Zfd4z3/hbv9748KqbC1u/vshKY2LZVr8QFElr4n9Nv9in4IDsIyO/+pJNaGUvTz+OyMxNKEBkPyLmVUfVSXI/7LXJdvhKfD+lr+n+/zGEP/mVBjLGfYs/b2D222zmkT/M5NMXzcCWP5RfgCl1XJw/VUhzEOYJoj/0Cgnt3IGmP/OWsNhUTas/ho6mRUAvsD81gyj6pNyyP0Jv9KgtsrU/e+KUFLO5uD9Q3QFD+/27P3woj3b1jb8/gpQzbzCvwT/ypFxM+bHDP5vUI0+KvcU/+y8hMCDFxz/a3zxJeMrJP6q7sgsG18s/uzsZufrzzT+4RttjrxjQP6HpVwB0VNE/\",\"dtype\":\"float64\",\"shape\":[75]},\"y\":{\"__ndarray__\":\"S/O/Q+51ND/Sv8nbtpRIP2vylNV0PVE/aTum7souWD/At0SJ8fVgPw3Iuahxymc/MSNhhJWvcD/bTfBN02d3P2zb5nxnaoA/CD5h5MAGhz8NmeH1TyaQP+zrCsc9p5Y/LbKd76fGnz/bLW5ISEmmPww9YvTcQq8/JV2OstnstT8Er5Y7M8G+P0c+r3jqkcU/5h99k6ZBzj88bCIzFzjVP4enV8oyxN0//yH99nXg5D8qOpLLf0jtP5kqGJXUifQ/c9cS8kHP/D+/DpwzojQEQIEmwoanVwxA4lgXt9HgE0BSSZ2AJuIbQAMJih9jjiNA5q4l5INuK0AwTKYKRj0zQNv5fmq8/DpAaCJseHrtQkB/+zpwzoxKQM3MzMzMeFJAZmZmZmZqWEAAAAAAAFxeQM3MzMzMJmJAmpmZmZkfZUBmZmZmZhhoQDMzMzMzEWtAAAAAAAAKbkBmZmZmZoFwQM3MzMzM/XFAMzMzMzN6c0CamZmZmfZ0QAAAAAAAc3ZAZmZmZmbvd0DNzMzMzGt5QDMzMzMz6HpAmpmZmZlkfEAAAAAAAOF9QGZmZmZmXX9AZmZmZuZsgECamZmZGSuBQM3MzMxM6YFAAAAAAICngkAzMzMzs2WDQGZmZmbmI4RAmpmZmRnihEDNzMzMTKCFQAAAAACAXoZAMzMzM7Mch0BmZmZm5tqHQJqZmZkZmYhAzczMzExXiUAAAAAAgBWKQDMzMzOz04pAZmZmZuaRi0CamZmZGVCMQM3MzMxMDo1AAAAAAIDMjUAzMzMzs4qOQGZmZmbmSI9A\",\"dtype\":\"float64\",\"shape\":[75]}},\"selected\":{\"id\":\"31141752-4e0b-4200-9bc8-af2f9322c916\",\"type\":\"Selection\"},\"selection_policy\":{\"id\":\"7afd733a-3e47-418e-bf53-d357bf74a2c5\",\"type\":\"UnionRenderers\"}},\"id\":\"3307a8dc-baac-45e8-9cbd-e073c6ebb680\",\"type\":\"ColumnDataSource\"},{\"attributes\":{\"callback\":null,\"end\":0.273504478949,\"start\":-0.004432153849},\"id\":\"c9e35b66-48d9-4b27-8ac3-83512496dadb\",\"type\":\"Range1d\"},{\"attributes\":{},\"id\":\"21763285-b327-44d7-a083-985ac37c3b70\",\"type\":\"WheelZoomTool\"},{\"attributes\":{},\"id\":\"bdc34d22-324e-4027-a299-2104b263ca86\",\"type\":\"SaveTool\"},{\"attributes\":{\"axis_label\":\"cooling rate [K/day]\",\"formatter\":{\"id\":\"6114be63-3cdc-439b-9f49-b84754202ad6\",\"type\":\"BasicTickFormatter\"},\"plot\":{\"id\":\"466ed748-a91a-4320-a853-66f727b2dd3a\",\"subtype\":\"Figure\",\"type\":\"Plot\"},\"ticker\":{\"id\":\"57be04dc-81fe-4c55-b547-3a975302de5a\",\"type\":\"BasicTicker\"}},\"id\":\"5c54e234-0f22-4f45-bbcd-3f3cc25b3838\",\"type\":\"LinearAxis\"},{\"attributes\":{\"fill_alpha\":{\"value\":0.1},\"fill_color\":{\"value\":\"#1f77b4\"},\"line_alpha\":{\"value\":0.1},\"line_color\":{\"value\":\"#1f77b4\"},\"x\":{\"field\":\"x\"},\"y\":{\"field\":\"y\"}},\"id\":\"f805e212-ff3e-44b4-9f74-5f315774fc3c\",\"type\":\"Circle\"},{\"attributes\":{\"source\":{\"id\":\"37f1f198-6dca-442a-ab12-9e310afcad86\",\"type\":\"ColumnDataSource\"}},\"id\":\"9f0e5981-d22a-47d9-83dd-6b5a82926e99\",\"type\":\"CDSView\"},{\"attributes\":{\"callback\":null,\"data\":{\"x\":{\"__ndarray__\":\"+fzpmAbBSL9+iMvNYdFIvy1GFje38Ui/XiaCxz0QSb9d38f2XypJv2YU6VftP0m/SVffSTVRSb9GKhCoT11Jv6VHh8icZEm/7d3O03BmSb87D7I4s2JJvwvn22DRWEm/NX1AHrpISb+Vmcpd+S9Jv8P0ouGctUi/nAGe/06zRb9uQq/1RNQ2v4OFFkj+jzQ/ck0kyRHBWD99b404trhsP1y/lpeAP3s/kLGbmHxThz+b0LRc5/OQP73d9UZrFJE/FcxWZmOIiD/TcbF5h6F+P5hvygvaM3E/DSjgRuZrYD8U/q4wZ9lEP11C11Wk3im/0zkPuHU+R79RwI8sr15Qv8CyHjNai1K/jHNPK4mLU79HhXH8tydUv107tj34i1S/b/a/z7wEVb9DoI20gahVv7uyryc/Q1a/nVHFHQcPV79+4t7Gb5RYv59rguGBZVq/GLPiaStOW7+zqaasbopav1GabXEE3la/x1A6/N6oTr+jgwDrjFEsv1j1fmmIOks/0CmZu1WZYj8s40pxIQxxP2HJgvYk2Ho/e6cNhRIYgz+jMAQN8aCJP+ssfV+RnJA/j39DAQv7lD9it+bGqPaZPzZzE3jRnp8/Kvyizwq2oz9EhQY8EiqoP3p9X7wc/6w/9avlQKIYsT/NGPjnKNuzPyZkCzTkx7Y/CM9CCrffuT9jQg5CJyG9P8plzPKvRMA/5aO9qHoFwj8bT4A4esLDP7WtXiypZsU/98NTuLPpxj/ywb7fYFbIPzlEmoB4wMk/1COytPg5yz+8+8ogytnMP6fp1BGXzs4/\",\"dtype\":\"float64\",\"shape\":[75]},\"y\":{\"__ndarray__\":\"GhExyth1ND/Sv8nbtpRIP2vylNV0PVE/aTum7souWD/At0SJ8fVgPw3Iuahxymc/MSNhhJWvcD/bTfBN02d3P2zb5nxnaoA/CD5h5MAGhz8NmeH1TyaQP+zrCsc9p5Y/LbKd76fGnz/bLW5ISEmmPww9YvTcQq8/JV2OstnstT8Er5Y7M8G+P0c+r3jqkcU/5h99k6ZBzj88bCIzFzjVP4enV8oyxN0//yH99nXg5D8qOpLLf0jtP5kqGJXUifQ/c9cS8kHP/D+/DpwzojQEQIEmwoanVwxA4lgXt9HgE0BSSZ2AJuIbQAMJih9jjiNA5q4l5INuK0AwTKYKRj0zQNv5fmq8/DpAaCJseHrtQkB/+zpwzoxKQM3MzMzMeFJAZmZmZmZqWEAAAAAAAFxeQM3MzMzMJmJAmpmZmZkfZUBmZmZmZhhoQDMzMzMzEWtAAAAAAAAKbkBmZmZmZoFwQM3MzMzM/XFAMzMzMzN6c0CamZmZmfZ0QAAAAAAAc3ZAZmZmZmbvd0DNzMzMzGt5QDMzMzMz6HpAmpmZmZlkfEAAAAAAAOF9QGZmZmZmXX9AZmZmZuZsgECamZmZGSuBQM3MzMxM6YFAAAAAAICngkAzMzMzs2WDQGZmZmbmI4RAmpmZmRnihEDNzMzMTKCFQAAAAACAXoZAMzMzM7Mch0BmZmZm5tqHQJqZmZkZmYhAzczMzExXiUAAAAAAgBWKQDMzMzOz04pAZmZmZuaRi0CamZmZGVCMQM3MzMxMDo1AAAAAAIDMjUAzMzMzs4qOQGZmZmbmSI9A\",\"dtype\":\"float64\",\"shape\":[75]}},\"selected\":{\"id\":\"667c8e38-d910-4f87-8b31-d0b1a1108bf9\",\"type\":\"Selection\"},\"selection_policy\":{\"id\":\"4f356431-4519-49b6-a2ba-151de4c93436\",\"type\":\"UnionRenderers\"}},\"id\":\"cfcfa5dd-7d47-4d7e-a8e9-6f650644171a\",\"type\":\"ColumnDataSource\"},{\"attributes\":{\"data_source\":{\"id\":\"cfcfa5dd-7d47-4d7e-a8e9-6f650644171a\",\"type\":\"ColumnDataSource\"},\"glyph\":{\"id\":\"3b53c030-acdf-49d1-afff-ac010758ccf6\",\"type\":\"Circle\"},\"hover_glyph\":null,\"muted_glyph\":null,\"nonselection_glyph\":{\"id\":\"f805e212-ff3e-44b4-9f74-5f315774fc3c\",\"type\":\"Circle\"},\"selection_glyph\":null,\"view\":{\"id\":\"f38e8712-6995-47d6-92ad-faac05082d53\",\"type\":\"CDSView\"}},\"id\":\"7aa040c3-459e-4711-860a-749b7b549914\",\"type\":\"GlyphRenderer\"},{\"attributes\":{\"plot\":{\"id\":\"466ed748-a91a-4320-a853-66f727b2dd3a\",\"subtype\":\"Figure\",\"type\":\"Plot\"},\"ticker\":{\"id\":\"57be04dc-81fe-4c55-b547-3a975302de5a\",\"type\":\"BasicTicker\"}},\"id\":\"bce3afac-d5e7-4ea4-9a19-6d717c4789e6\",\"type\":\"Grid\"},{\"attributes\":{\"fill_alpha\":{\"value\":0.1},\"fill_color\":{\"value\":\"#1f77b4\"},\"line_alpha\":{\"value\":0.1},\"line_color\":{\"value\":\"#1f77b4\"},\"x\":{\"field\":\"x\"},\"y\":{\"field\":\"y\"}},\"id\":\"d4223d77-4168-434f-8bad-47e0d5e39c50\",\"type\":\"Circle\"},{\"attributes\":{\"source\":{\"id\":\"ad21e77a-c342-4092-9e60-1aa518baf649\",\"type\":\"ColumnDataSource\"}},\"id\":\"cc179c06-bdee-4cd2-b078-f1b0518f4b11\",\"type\":\"CDSView\"},{\"attributes\":{\"overlay\":{\"id\":\"894eb91e-af51-405b-a321-a1d3b3158722\",\"type\":\"BoxAnnotation\"}},\"id\":\"e3a474d2-7bbb-479b-9f0e-bfa6cda24fa7\",\"type\":\"BoxZoomTool\"},{\"attributes\":{\"callback\":null,\"end\":0.016861251888,\"start\":-0.001682030688},\"id\":\"13b74c7a-a6dc-43ef-b857-52034ec3eeaa\",\"type\":\"Range1d\"},{\"attributes\":{\"source\":{\"id\":\"668ea6bc-1a2d-484a-a419-35cb6e6f6b41\",\"type\":\"ColumnDataSource\"}},\"id\":\"85b50c7c-75c1-4f5b-81ce-c389b3da206d\",\"type\":\"CDSView\"},{\"attributes\":{\"dimension\":1,\"plot\":{\"id\":\"369841b7-1056-41be-b90d-d753199ebb04\",\"subtype\":\"Figure\",\"type\":\"Plot\"},\"ticker\":{\"id\":\"2c896c7c-1927-4007-8fb6-724e59eb9538\",\"type\":\"BasicTicker\"}},\"id\":\"f9575dd7-a0c5-4e05-9c9d-eab996a92a8e\",\"type\":\"Grid\"},{\"attributes\":{\"callback\":null,\"end\":0.01,\"start\":1020},\"id\":\"f428df33-9bc8-4f7b-b7ce-078cfd32108b\",\"type\":\"Range1d\"},{\"attributes\":{\"line_alpha\":0.1,\"line_color\":\"#1f77b4\",\"line_width\":3,\"x\":{\"field\":\"x\"},\"y\":{\"field\":\"y\"}},\"id\":\"e730c336-5b81-4631-9e4c-8ae4a91a03c5\",\"type\":\"Line\"},{\"attributes\":{},\"id\":\"380b3971-3552-47f5-809d-e688fc8064e6\",\"type\":\"LinearScale\"},{\"attributes\":{\"num_minor_ticks\":10},\"id\":\"6beaf500-7566-41dc-825d-d8a4cec49013\",\"type\":\"LogTicker\"},{\"attributes\":{\"data_source\":{\"id\":\"b9ab1bd0-0576-4a07-ae9c-c38dc3c27d35\",\"type\":\"ColumnDataSource\"},\"glyph\":{\"id\":\"d3b417bd-0aa1-4413-9aa2-828256b948c4\",\"type\":\"Line\"},\"hover_glyph\":null,\"muted_glyph\":null,\"nonselection_glyph\":{\"id\":\"e730c336-5b81-4631-9e4c-8ae4a91a03c5\",\"type\":\"Line\"},\"selection_glyph\":null,\"view\":{\"id\":\"9540c370-263f-453d-b092-3249cedb48d1\",\"type\":\"CDSView\"}},\"id\":\"01698024-23e5-4001-93a8-0fc51c4ca177\",\"type\":\"GlyphRenderer\"},{\"attributes\":{},\"id\":\"f67d1035-0894-4a0d-b038-b163060ffb92\",\"type\":\"LinearScale\"},{\"attributes\":{\"bottom_units\":\"screen\",\"fill_alpha\":{\"value\":0.5},\"fill_color\":{\"value\":\"lightgrey\"},\"left_units\":\"screen\",\"level\":\"overlay\",\"line_alpha\":{\"value\":1.0},\"line_color\":{\"value\":\"black\"},\"line_dash\":[4,4],\"line_width\":{\"value\":2},\"plot\":null,\"render_mode\":\"css\",\"right_units\":\"screen\",\"top_units\":\"screen\"},\"id\":\"894eb91e-af51-405b-a321-a1d3b3158722\",\"type\":\"BoxAnnotation\"},{\"attributes\":{\"active_drag\":\"auto\",\"active_inspect\":\"auto\",\"active_scroll\":\"auto\",\"active_tap\":\"auto\",\"tools\":[{\"id\":\"a95db833-afce-44cd-b3f6-026b9828c997\",\"type\":\"PanTool\"},{\"id\":\"9ece5e2e-f98a-4a20-9ba8-dbcd56d761df\",\"type\":\"WheelZoomTool\"},{\"id\":\"26c44340-531b-4dce-96f9-521902994545\",\"type\":\"BoxZoomTool\"},{\"id\":\"64832461-fc81-4f40-be3a-23a825c45327\",\"type\":\"SaveTool\"},{\"id\":\"da777fc5-3fd1-4f5f-979b-d9d4b6919f17\",\"type\":\"ResetTool\"},{\"id\":\"a8b912a6-2a25-472a-acd2-67e50bdf7440\",\"type\":\"HelpTool\"}]},\"id\":\"fbc996ca-6d65-41ee-a28b-3ccf106b1275\",\"type\":\"Toolbar\"},{\"attributes\":{},\"id\":\"7efd55fd-b860-4b33-8487-191dc6724de4\",\"type\":\"BasicTicker\"},{\"attributes\":{\"line_alpha\":0.6,\"line_color\":\"#e41a1c\",\"line_dash\":[6],\"line_width\":5,\"x\":{\"field\":\"x\"},\"y\":{\"field\":\"y\"}},\"id\":\"e614eeef-1120-4329-b067-e4c44b9bec93\",\"type\":\"Line\"},{\"attributes\":{\"items\":[{\"id\":\"d48f2cd7-b101-42ee-b0cc-baf513fe1fd9\",\"type\":\"LegendItem\"},{\"id\":\"8b999a66-ec61-45d9-81bd-141101c330fc\",\"type\":\"LegendItem\"},{\"id\":\"ef99206b-d8a1-4e57-83e8-f25d3977c0ed\",\"type\":\"LegendItem\"}],\"label_text_font_size\":{\"value\":\"8pt\"},\"location\":[10,-30],\"plot\":{\"id\":\"466ed748-a91a-4320-a853-66f727b2dd3a\",\"subtype\":\"Figure\",\"type\":\"Plot\"}},\"id\":\"f3777405-9b2c-4c91-8ee4-e12a3a7a3250\",\"type\":\"Legend\"},{\"attributes\":{\"callback\":null,\"data\":{\"x\":{\"__ndarray__\":\"+fzpmAbBSL9+iMvNYdFIvy1GFje38Ui/XiaCxz0QSb9d38f2XypJv2YU6VftP0m/SVffSTVRSb9GKhCoT11Jv6VHh8icZEm/7d3O03BmSb87D7I4s2JJvwvn22DRWEm/NX1AHrpISb+Vmcpd+S9Jv8P0ouGctUi/nAGe/06zRb9uQq/1RNQ2v4OFFkj+jzQ/ck0kyRHBWD99b404trhsP1y/lpeAP3s/kLGbmHxThz+b0LRc5/OQP73d9UZrFJE/FcxWZmOIiD/TcbF5h6F+P5hvygvaM3E/DSjgRuZrYD8U/q4wZ9lEP11C11Wk3im/0zkPuHU+R79RwI8sr15Qv8CyHjNai1K/jHNPK4mLU79HhXH8tydUv107tj34i1S/b/a/z7wEVb9DoI20gahVv7uyryc/Q1a/nVHFHQcPV79+4t7Gb5RYv59rguGBZVq/GLPiaStOW7+zqaasbopav1GabXEE3la/x1A6/N6oTr+jgwDrjFEsv1j1fmmIOks/0CmZu1WZYj8s40pxIQxxP2HJgvYk2Ho/e6cNhRIYgz+jMAQN8aCJP+ssfV+RnJA/j39DAQv7lD9it+bGqPaZPzZzE3jRnp8/Kvyizwq2oz9EhQY8EiqoP3p9X7wc/6w/9avlQKIYsT/NGPjnKNuzPyZkCzTkx7Y/CM9CCrffuT9jQg5CJyG9P8plzPKvRMA/5aO9qHoFwj8bT4A4esLDP7WtXiypZsU/98NTuLPpxj/ywb7fYFbIPzlEmoB4wMk/1COytPg5yz+8+8ogytnMP6fp1BGXzs4/\",\"dtype\":\"float64\",\"shape\":[75]},\"y\":{\"__ndarray__\":\"GhExyth1ND/Sv8nbtpRIP2vylNV0PVE/aTum7souWD/At0SJ8fVgPw3Iuahxymc/MSNhhJWvcD/bTfBN02d3P2zb5nxnaoA/CD5h5MAGhz8NmeH1TyaQP+zrCsc9p5Y/LbKd76fGnz/bLW5ISEmmPww9YvTcQq8/JV2OstnstT8Er5Y7M8G+P0c+r3jqkcU/5h99k6ZBzj88bCIzFzjVP4enV8oyxN0//yH99nXg5D8qOpLLf0jtP5kqGJXUifQ/c9cS8kHP/D+/DpwzojQEQIEmwoanVwxA4lgXt9HgE0BSSZ2AJuIbQAMJih9jjiNA5q4l5INuK0AwTKYKRj0zQNv5fmq8/DpAaCJseHrtQkB/+zpwzoxKQM3MzMzMeFJAZmZmZmZqWEAAAAAAAFxeQM3MzMzMJmJAmpmZmZkfZUBmZmZmZhhoQDMzMzMzEWtAAAAAAAAKbkBmZmZmZoFwQM3MzMzM/XFAMzMzMzN6c0CamZmZmfZ0QAAAAAAAc3ZAZmZmZmbvd0DNzMzMzGt5QDMzMzMz6HpAmpmZmZlkfEAAAAAAAOF9QGZmZmZmXX9AZmZmZuZsgECamZmZGSuBQM3MzMxM6YFAAAAAAICngkAzMzMzs2WDQGZmZmbmI4RAmpmZmRnihEDNzMzMTKCFQAAAAACAXoZAMzMzM7Mch0BmZmZm5tqHQJqZmZkZmYhAzczMzExXiUAAAAAAgBWKQDMzMzOz04pAZmZmZuaRi0CamZmZGVCMQM3MzMxMDo1AAAAAAIDMjUAzMzMzs4qOQGZmZmbmSI9A\",\"dtype\":\"float64\",\"shape\":[75]}},\"selected\":{\"id\":\"e7282cc6-547d-4743-a893-ae24d70f1f71\",\"type\":\"Selection\"},\"selection_policy\":{\"id\":\"e56b78eb-0fb2-4ea3-be14-b90d5d933501\",\"type\":\"UnionRenderers\"}},\"id\":\"7a7b344c-e87e-4cb0-b47c-4ee5b9f47e2a\",\"type\":\"ColumnDataSource\"},{\"attributes\":{},\"id\":\"1473c35c-5f9c-4662-9e42-4ffe2b6db917\",\"type\":\"HelpTool\"},{\"attributes\":{\"source\":{\"id\":\"cfcfa5dd-7d47-4d7e-a8e9-6f650644171a\",\"type\":\"ColumnDataSource\"}},\"id\":\"f38e8712-6995-47d6-92ad-faac05082d53\",\"type\":\"CDSView\"},{\"attributes\":{},\"id\":\"57be04dc-81fe-4c55-b547-3a975302de5a\",\"type\":\"BasicTicker\"},{\"attributes\":{},\"id\":\"529c70ea-1ea4-46aa-b3ca-c40344870d84\",\"type\":\"PanTool\"},{\"attributes\":{\"fill_alpha\":{\"value\":0.7},\"fill_color\":{\"value\":\"#4daf4a\"},\"line_alpha\":{\"value\":0.7},\"line_color\":{\"value\":\"#4daf4a\"},\"x\":{\"field\":\"x\"},\"y\":{\"field\":\"y\"}},\"id\":\"3b53c030-acdf-49d1-afff-ac010758ccf6\",\"type\":\"Circle\"},{\"attributes\":{\"source\":{\"id\":\"3307a8dc-baac-45e8-9cbd-e073c6ebb680\",\"type\":\"ColumnDataSource\"}},\"id\":\"302610d2-fdf2-40ae-b80c-3b80e92a5ba4\",\"type\":\"CDSView\"},{\"attributes\":{\"callback\":null,\"data\":{\"x\":{\"__ndarray__\":\"Y9VcTIiMRb8AJqmO2J9FvwE+xgcKx0W/qt3g1fDtRb8RWvlcDxJGv/KDrHUrM0a/xnZZSBpRRr9VsSSbrmtGvzjyLlW7gka/BZktqBKWRr8/YQC3iaVGv1wsJ382sUa/hyT3rRG5Rr8iqELOB7xGv96LGU0Gn0a/P7IpjMkTRb/BuYg3SiQ9v1wL0g9JZ+k+Mp2q9Oh5TD8hQtkl/CNjPwWKhY5XSHM/EvObL54UgT9Sb4Uxm2CJP4oZyFCh/Ik/86cvwpL2gj9omlvZsRV4P6Qt4yyJiGs//khNDiqwWj8x6BXUO+9AP1Mf0XDr1Ci/Koy9+JoVRb9ZF0yVqRFOv6jw8vx6YVG/XiG5XtapUr/QKdlEvnhTv5TrbqFZAFS/NU+sliZzVL8jWXjBnRBVv8lwstGdjlW/jPcEBbVKVr/t9dEVo6hXv/KgWxuqalm/OvMYjU+UWr9cqurXcZJav7fDzQtqlli/KAabDuoIU79FvagpPkhDv4SWml8vMzI/DlqSu8SjWD8rYt+tb8lpP2tBFsMIqnU/Vlh2Zt4IgD+yt9YPmCSGP5SMoT73VY0/4vth0n/Zkj+t7DQyxaWXP+036lNUHp0/Eq4sQ69Ooj/V3ykc9ZumPx8ORZMhTas/CbyvpL4nsD8R9IfOgdGyP0daVe+jrLU/sZjtF6eyuD/AgsnHzfS7P9AtEftGbL8/PTlUnR+QwT/yUZDpGnfDP1udGGkUWMU/I7qpeXUrxz8QkiZayfnIPxnkkezPzco/HQtELry7zD+CO+18gdHOP9bbTY0jmNA/\",\"dtype\":\"float64\",\"shape\":[75]},\"y\":{\"__ndarray__\":\"GhExyth1ND/Sv8nbtpRIP2vylNV0PVE/aTum7souWD/At0SJ8fVgPw3Iuahxymc/MSNhhJWvcD/bTfBN02d3P2zb5nxnaoA/CD5h5MAGhz8NmeH1TyaQP+zrCsc9p5Y/LbKd76fGnz/bLW5ISEmmPww9YvTcQq8/JV2OstnstT8Er5Y7M8G+P0c+r3jqkcU/5h99k6ZBzj88bCIzFzjVP4enV8oyxN0//yH99nXg5D8qOpLLf0jtP5kqGJXUifQ/c9cS8kHP/D+/DpwzojQEQIEmwoanVwxA4lgXt9HgE0BSSZ2AJuIbQAMJih9jjiNA5q4l5INuK0AwTKYKRj0zQNv5fmq8/DpAaCJseHrtQkB/+zpwzoxKQM3MzMzMeFJAZmZmZmZqWEAAAAAAAFxeQM3MzMzMJmJAmpmZmZkfZUBmZmZmZhhoQDMzMzMzEWtAAAAAAAAKbkBmZmZmZoFwQM3MzMzM/XFAMzMzMzN6c0CamZmZmfZ0QAAAAAAAc3ZAZmZmZmbvd0DNzMzMzGt5QDMzMzMz6HpAmpmZmZlkfEAAAAAAAOF9QGZmZmZmXX9AZmZmZuZsgECamZmZGSuBQM3MzMxM6YFAAAAAAICngkAzMzMzs2WDQGZmZmbmI4RAmpmZmRnihEDNzMzMTKCFQAAAAACAXoZAMzMzM7Mch0BmZmZm5tqHQJqZmZkZmYhAzczMzExXiUAAAAAAgBWKQDMzMzOz04pAZmZmZuaRi0CamZmZGVCMQM3MzMxMDo1AAAAAAIDMjUAzMzMzs4qOQGZmZmbmSI9A\",\"dtype\":\"float64\",\"shape\":[75]}},\"selected\":{\"id\":\"7ad77209-9d53-4a3d-a6de-e7e150586210\",\"type\":\"Selection\"},\"selection_policy\":{\"id\":\"e6958ad7-3c92-4d33-8c4d-a8f1194c17fe\",\"type\":\"UnionRenderers\"}},\"id\":\"668ea6bc-1a2d-484a-a419-35cb6e6f6b41\",\"type\":\"ColumnDataSource\"},{\"attributes\":{\"line_alpha\":0.1,\"line_color\":\"#1f77b4\",\"line_dash\":[6],\"line_width\":5,\"x\":{\"field\":\"x\"},\"y\":{\"field\":\"y\"}},\"id\":\"babec75c-5f12-4120-ac17-94a43c6488f2\",\"type\":\"Line\"},{\"attributes\":{\"source\":{\"id\":\"7a7b344c-e87e-4cb0-b47c-4ee5b9f47e2a\",\"type\":\"ColumnDataSource\"}},\"id\":\"c46ce566-8546-40d2-80d6-85096bbcb022\",\"type\":\"CDSView\"},{\"attributes\":{\"line_color\":\"#4daf4a\",\"line_width\":1.5,\"x\":{\"field\":\"x\"},\"y\":{\"field\":\"y\"}},\"id\":\"04ef0ae1-0226-4489-a609-5607c9d08b6f\",\"type\":\"Line\"},{\"attributes\":{\"fill_alpha\":{\"value\":0.7},\"fill_color\":{\"value\":\"#984ea3\"},\"line_alpha\":{\"value\":0.7},\"line_color\":{\"value\":\"#984ea3\"},\"x\":{\"field\":\"x\"},\"y\":{\"field\":\"y\"}},\"id\":\"4b4ce7ad-501c-4b67-930d-9f53e87ac45a\",\"type\":\"Square\"},{\"attributes\":{},\"id\":\"c3131851-8c88-443a-9709-6798e7b4d385\",\"type\":\"BasicTickFormatter\"},{\"attributes\":{\"children\":[{\"id\":\"369841b7-1056-41be-b90d-d753199ebb04\",\"subtype\":\"Figure\",\"type\":\"Plot\"},{\"id\":\"466ed748-a91a-4320-a853-66f727b2dd3a\",\"subtype\":\"Figure\",\"type\":\"Plot\"}]},\"id\":\"dfa9d6c0-aa0c-4ffa-9bd4-36c6163e2a8c\",\"type\":\"Row\"},{\"attributes\":{\"line_alpha\":0.1,\"line_color\":\"#1f77b4\",\"line_width\":1.5,\"x\":{\"field\":\"x\"},\"y\":{\"field\":\"y\"}},\"id\":\"e19665d5-a83c-4872-9c54-8693dfd31942\",\"type\":\"Line\"},{\"attributes\":{\"fill_alpha\":{\"value\":0.1},\"fill_color\":{\"value\":\"#1f77b4\"},\"line_alpha\":{\"value\":0.1},\"line_color\":{\"value\":\"#1f77b4\"},\"x\":{\"field\":\"x\"},\"y\":{\"field\":\"y\"}},\"id\":\"5748f4e3-2f64-486d-bdd2-3ea1f3e77979\",\"type\":\"Square\"},{\"attributes\":{\"data_source\":{\"id\":\"7a7b344c-e87e-4cb0-b47c-4ee5b9f47e2a\",\"type\":\"ColumnDataSource\"},\"glyph\":{\"id\":\"04ef0ae1-0226-4489-a609-5607c9d08b6f\",\"type\":\"Line\"},\"hover_glyph\":null,\"muted_glyph\":null,\"nonselection_glyph\":{\"id\":\"e19665d5-a83c-4872-9c54-8693dfd31942\",\"type\":\"Line\"},\"selection_glyph\":null,\"view\":{\"id\":\"c46ce566-8546-40d2-80d6-85096bbcb022\",\"type\":\"CDSView\"}},\"id\":\"bf4572df-4ab4-4118-a205-da7f374229ce\",\"type\":\"GlyphRenderer\"},{\"attributes\":{\"data_source\":{\"id\":\"668ea6bc-1a2d-484a-a419-35cb6e6f6b41\",\"type\":\"ColumnDataSource\"},\"glyph\":{\"id\":\"4b4ce7ad-501c-4b67-930d-9f53e87ac45a\",\"type\":\"Square\"},\"hover_glyph\":null,\"muted_glyph\":null,\"nonselection_glyph\":{\"id\":\"5748f4e3-2f64-486d-bdd2-3ea1f3e77979\",\"type\":\"Square\"},\"selection_glyph\":null,\"view\":{\"id\":\"85b50c7c-75c1-4f5b-81ce-c389b3da206d\",\"type\":\"CDSView\"}},\"id\":\"9cc9bb1f-6c9f-4cc3-8c74-1a63d9b85dc4\",\"type\":\"GlyphRenderer\"},{\"attributes\":{\"children\":[{\"id\":\"dfa9d6c0-aa0c-4ffa-9bd4-36c6163e2a8c\",\"type\":\"Row\"}]},\"id\":\"8135ee4c-43a1-477c-b278-24b26e0f4176\",\"type\":\"Column\"},{\"attributes\":{\"label\":{\"value\":\"CLIRAD `coolr_bands`\"},\"renderers\":[{\"id\":\"0127d82a-37d1-41d2-ac07-d1b9972667ce\",\"type\":\"GlyphRenderer\"}]},\"id\":\"d48f2cd7-b101-42ee-b0cc-baf513fe1fd9\",\"type\":\"LegendItem\"},{\"attributes\":{},\"id\":\"a57ad827-4f4f-4a03-bdd2-cea6190ab046\",\"type\":\"BasicTickFormatter\"},{\"attributes\":{\"label\":{\"value\":\"CRD\"},\"renderers\":[{\"id\":\"7aa040c3-459e-4711-860a-749b7b549914\",\"type\":\"GlyphRenderer\"},{\"id\":\"bf4572df-4ab4-4118-a205-da7f374229ce\",\"type\":\"GlyphRenderer\"}]},\"id\":\"8b999a66-ec61-45d9-81bd-141101c330fc\",\"type\":\"LegendItem\"},{\"attributes\":{},\"id\":\"d31d2717-209a-4f9b-ae6e-c1b5639cbbdb\",\"type\":\"Selection\"},{\"attributes\":{\"label\":{\"value\":\"WGT igg=10 wgt_flux=2\"},\"renderers\":[{\"id\":\"9cc9bb1f-6c9f-4cc3-8c74-1a63d9b85dc4\",\"type\":\"GlyphRenderer\"},{\"id\":\"29c3d530-eb0f-4f1f-baf0-e15f107a615a\",\"type\":\"GlyphRenderer\"}]},\"id\":\"ef99206b-d8a1-4e57-83e8-f25d3977c0ed\",\"type\":\"LegendItem\"},{\"attributes\":{},\"id\":\"538f0566-bf76-4c62-a658-273bd1c18c61\",\"type\":\"UnionRenderers\"},{\"attributes\":{},\"id\":\"24d992e2-c97d-4548-ac75-3b672ff07b2d\",\"type\":\"UnionRenderers\"},{\"attributes\":{},\"id\":\"e43823f3-dd68-44ee-b8cf-809baa3df855\",\"type\":\"Selection\"},{\"attributes\":{},\"id\":\"c1c2f2ef-1d02-414f-94d2-3d6b293408dd\",\"type\":\"Selection\"},{\"attributes\":{},\"id\":\"6114be63-3cdc-439b-9f49-b84754202ad6\",\"type\":\"BasicTickFormatter\"},{\"attributes\":{},\"id\":\"258c370b-6c3f-49f6-91a8-72f77262f855\",\"type\":\"UnionRenderers\"},{\"attributes\":{},\"id\":\"55ced49f-b05d-4233-9617-e99244005c1f\",\"type\":\"Selection\"},{\"attributes\":{},\"id\":\"b96a0655-06d9-49f4-b103-5c1be2e02467\",\"type\":\"Selection\"},{\"attributes\":{},\"id\":\"7afd733a-3e47-418e-bf53-d357bf74a2c5\",\"type\":\"UnionRenderers\"},{\"attributes\":{},\"id\":\"4ca23ee3-8609-4ca6-adb8-4574386d5029\",\"type\":\"UnionRenderers\"},{\"attributes\":{},\"id\":\"667c8e38-d910-4f87-8b31-d0b1a1108bf9\",\"type\":\"Selection\"},{\"attributes\":{},\"id\":\"3c81b6de-896d-48ae-97aa-d87aae7663bd\",\"type\":\"UnionRenderers\"},{\"attributes\":{},\"id\":\"e7282cc6-547d-4743-a893-ae24d70f1f71\",\"type\":\"Selection\"},{\"attributes\":{\"ticker\":null},\"id\":\"cdb9364c-890b-479b-b320-6a5ce79dd906\",\"type\":\"LogTickFormatter\"},{\"attributes\":{},\"id\":\"4f356431-4519-49b6-a2ba-151de4c93436\",\"type\":\"UnionRenderers\"},{\"attributes\":{},\"id\":\"31141752-4e0b-4200-9bc8-af2f9322c916\",\"type\":\"Selection\"},{\"attributes\":{},\"id\":\"e56b78eb-0fb2-4ea3-be14-b90d5d933501\",\"type\":\"UnionRenderers\"},{\"attributes\":{},\"id\":\"7ad77209-9d53-4a3d-a6de-e7e150586210\",\"type\":\"Selection\"},{\"attributes\":{},\"id\":\"09106379-874f-4303-825d-c00376f09fc1\",\"type\":\"Selection\"},{\"attributes\":{\"toolbar\":{\"id\":\"b21f179c-c1ca-443c-9bfd-1810fb98c8ae\",\"type\":\"ProxyToolbar\"},\"toolbar_location\":\"above\"},\"id\":\"08349a3f-1ab3-41d8-b413-c6d2ecfe05f6\",\"type\":\"ToolbarBox\"},{\"attributes\":{},\"id\":\"e6958ad7-3c92-4d33-8c4d-a8f1194c17fe\",\"type\":\"UnionRenderers\"},{\"attributes\":{\"children\":[{\"id\":\"08349a3f-1ab3-41d8-b413-c6d2ecfe05f6\",\"type\":\"ToolbarBox\"},{\"id\":\"8135ee4c-43a1-477c-b278-24b26e0f4176\",\"type\":\"Column\"}]},\"id\":\"4365e4a4-9821-4673-b9cf-d744de9d1ece\",\"type\":\"Column\"},{\"attributes\":{},\"id\":\"f684729f-0fd0-4d01-9744-dfd197d93ebf\",\"type\":\"UnionRenderers\"},{\"attributes\":{\"tools\":[{\"id\":\"529c70ea-1ea4-46aa-b3ca-c40344870d84\",\"type\":\"PanTool\"},{\"id\":\"21763285-b327-44d7-a083-985ac37c3b70\",\"type\":\"WheelZoomTool\"},{\"id\":\"e3a474d2-7bbb-479b-9f0e-bfa6cda24fa7\",\"type\":\"BoxZoomTool\"},{\"id\":\"bdc34d22-324e-4027-a299-2104b263ca86\",\"type\":\"SaveTool\"},{\"id\":\"92737bf7-c134-446c-93b6-a54c3febeab6\",\"type\":\"ResetTool\"},{\"id\":\"1473c35c-5f9c-4662-9e42-4ffe2b6db917\",\"type\":\"HelpTool\"},{\"id\":\"a95db833-afce-44cd-b3f6-026b9828c997\",\"type\":\"PanTool\"},{\"id\":\"9ece5e2e-f98a-4a20-9ba8-dbcd56d761df\",\"type\":\"WheelZoomTool\"},{\"id\":\"26c44340-531b-4dce-96f9-521902994545\",\"type\":\"BoxZoomTool\"},{\"id\":\"64832461-fc81-4f40-be3a-23a825c45327\",\"type\":\"SaveTool\"},{\"id\":\"da777fc5-3fd1-4f5f-979b-d9d4b6919f17\",\"type\":\"ResetTool\"},{\"id\":\"a8b912a6-2a25-472a-acd2-67e50bdf7440\",\"type\":\"HelpTool\"}]},\"id\":\"b21f179c-c1ca-443c-9bfd-1810fb98c8ae\",\"type\":\"ProxyToolbar\"},{\"attributes\":{\"line_alpha\":0.6,\"line_color\":\"#e41a1c\",\"line_dash\":[6],\"line_width\":5,\"x\":{\"field\":\"x\"},\"y\":{\"field\":\"y\"}},\"id\":\"df2a65ea-3d16-47ea-a054-3dacb21e9026\",\"type\":\"Line\"}],\"root_ids\":[\"4365e4a4-9821-4673-b9cf-d744de9d1ece\"]},\"title\":\"Bokeh Application\",\"version\":\"0.12.16\"}};\n",
       "  var render_items = [{\"docid\":\"fba269b2-4879-4731-a1e3-8d9b34eb2fbd\",\"elementid\":\"646a281c-06a0-4eb0-8c84-45ba720547e2\",\"modelid\":\"4365e4a4-9821-4673-b9cf-d744de9d1ece\"}];\n",
       "  root.Bokeh.embed.embed_items_notebook(docs_json, render_items);\n",
       "\n",
       "  }\n",
       "  if (root.Bokeh !== undefined) {\n",
       "    embed_document(root);\n",
       "  } else {\n",
       "    var attempts = 0;\n",
       "    var timer = setInterval(function(root) {\n",
       "      if (root.Bokeh !== undefined) {\n",
       "        embed_document(root);\n",
       "        clearInterval(timer);\n",
       "      }\n",
       "      attempts++;\n",
       "      if (attempts > 100) {\n",
       "        console.log(\"Bokeh: ERROR: Unable to run BokehJS code because BokehJS library is missing\")\n",
       "        clearInterval(timer);\n",
       "      }\n",
       "    }, 10, root)\n",
       "  }\n",
       "})(window);"
      ],
      "application/vnd.bokehjs_exec.v0+json": ""
     },
     "metadata": {
      "application/vnd.bokehjs_exec.v0+json": {
       "id": "4365e4a4-9821-4673-b9cf-d744de9d1ece"
      }
     },
     "output_type": "display_data"
    },
    {
     "name": "stdout",
     "output_type": "stream",
     "text": [
      "FIGURE. Cooling rate profiles.\n"
     ]
    },
    {
     "data": {
      "text/html": [
       "<a id=\"Flux_Comparison\"></a>"
      ],
      "text/plain": [
       "<IPython.core.display.HTML object>"
      ]
     },
     "metadata": {},
     "output_type": "display_data"
    },
    {
     "data": {
      "text/markdown": [
       "# Flux Comparison"
      ],
      "text/plain": [
       "<IPython.core.display.Markdown object>"
      ]
     },
     "metadata": {},
     "output_type": "display_data"
    },
    {
     "data": {
      "text/html": [
       "<div>\n",
       "<style scoped>\n",
       "    .dataframe tbody tr th:only-of-type {\n",
       "        vertical-align: middle;\n",
       "    }\n",
       "\n",
       "    .dataframe tbody tr th {\n",
       "        vertical-align: top;\n",
       "    }\n",
       "\n",
       "    .dataframe thead th {\n",
       "        text-align: right;\n",
       "    }\n",
       "</style>\n",
       "<table border=\"1\" class=\"dataframe\">\n",
       "  <thead>\n",
       "    <tr style=\"text-align: right;\">\n",
       "      <th></th>\n",
       "      <th></th>\n",
       "      <th>flug</th>\n",
       "      <th>fldg</th>\n",
       "      <th>fnetg</th>\n",
       "    </tr>\n",
       "    <tr>\n",
       "      <th>pressure</th>\n",
       "      <th>level</th>\n",
       "      <th></th>\n",
       "      <th></th>\n",
       "      <th></th>\n",
       "    </tr>\n",
       "  </thead>\n",
       "  <tbody>\n",
       "    <tr>\n",
       "      <th>0.0000</th>\n",
       "      <th>1</th>\n",
       "      <td>-60.098092</td>\n",
       "      <td>0.000000</td>\n",
       "      <td>-60.098092</td>\n",
       "    </tr>\n",
       "    <tr>\n",
       "      <th>1.0685</th>\n",
       "      <th>24</th>\n",
       "      <td>-60.098166</td>\n",
       "      <td>0.001145</td>\n",
       "      <td>-60.097020</td>\n",
       "    </tr>\n",
       "    <tr>\n",
       "      <th>1013.0000</th>\n",
       "      <th>76</th>\n",
       "      <td>-61.681246</td>\n",
       "      <td>8.740424</td>\n",
       "      <td>-52.940822</td>\n",
       "    </tr>\n",
       "  </tbody>\n",
       "</table>\n",
       "</div>"
      ],
      "text/plain": [
       "                      flug      fldg      fnetg\n",
       "pressure  level                                \n",
       "0.0000    1     -60.098092  0.000000 -60.098092\n",
       "1.0685    24    -60.098166  0.001145 -60.097020\n",
       "1013.0000 76    -61.681246  8.740424 -52.940822"
      ]
     },
     "metadata": {},
     "output_type": "display_data"
    },
    {
     "name": "stdout",
     "output_type": "stream",
     "text": [
      "Table. Fluxes. CRD\n"
     ]
    },
    {
     "data": {
      "text/html": [
       "<div>\n",
       "<style scoped>\n",
       "    .dataframe tbody tr th:only-of-type {\n",
       "        vertical-align: middle;\n",
       "    }\n",
       "\n",
       "    .dataframe tbody tr th {\n",
       "        vertical-align: top;\n",
       "    }\n",
       "\n",
       "    .dataframe thead th {\n",
       "        text-align: right;\n",
       "    }\n",
       "</style>\n",
       "<table border=\"1\" class=\"dataframe\">\n",
       "  <thead>\n",
       "    <tr style=\"text-align: right;\">\n",
       "      <th></th>\n",
       "      <th></th>\n",
       "      <th>flug</th>\n",
       "      <th>fldg</th>\n",
       "      <th>fnetg</th>\n",
       "    </tr>\n",
       "    <tr>\n",
       "      <th>pressure</th>\n",
       "      <th>level</th>\n",
       "      <th></th>\n",
       "      <th></th>\n",
       "      <th></th>\n",
       "    </tr>\n",
       "  </thead>\n",
       "  <tbody>\n",
       "    <tr>\n",
       "      <th>0.0000</th>\n",
       "      <th>1</th>\n",
       "      <td>-60.152945</td>\n",
       "      <td>0.000000</td>\n",
       "      <td>-60.152945</td>\n",
       "    </tr>\n",
       "    <tr>\n",
       "      <th>1.0685</th>\n",
       "      <th>24</th>\n",
       "      <td>-60.153074</td>\n",
       "      <td>0.000911</td>\n",
       "      <td>-60.152163</td>\n",
       "    </tr>\n",
       "    <tr>\n",
       "      <th>1013.0000</th>\n",
       "      <th>76</th>\n",
       "      <td>-61.681246</td>\n",
       "      <td>8.696503</td>\n",
       "      <td>-52.984743</td>\n",
       "    </tr>\n",
       "  </tbody>\n",
       "</table>\n",
       "</div>"
      ],
      "text/plain": [
       "                      flug      fldg      fnetg\n",
       "pressure  level                                \n",
       "0.0000    1     -60.152945  0.000000 -60.152945\n",
       "1.0685    24    -60.153074  0.000911 -60.152163\n",
       "1013.0000 76    -61.681246  8.696503 -52.984743"
      ]
     },
     "metadata": {},
     "output_type": "display_data"
    },
    {
     "name": "stdout",
     "output_type": "stream",
     "text": [
      "Table. Fluxes. WGT igg=10 wgt_flux=1\n"
     ]
    },
    {
     "data": {
      "text/html": [
       "<div>\n",
       "<style scoped>\n",
       "    .dataframe tbody tr th:only-of-type {\n",
       "        vertical-align: middle;\n",
       "    }\n",
       "\n",
       "    .dataframe tbody tr th {\n",
       "        vertical-align: top;\n",
       "    }\n",
       "\n",
       "    .dataframe thead th {\n",
       "        text-align: right;\n",
       "    }\n",
       "</style>\n",
       "<table border=\"1\" class=\"dataframe\">\n",
       "  <thead>\n",
       "    <tr style=\"text-align: right;\">\n",
       "      <th></th>\n",
       "      <th></th>\n",
       "      <th>flug</th>\n",
       "      <th>fldg</th>\n",
       "      <th>fnetg</th>\n",
       "    </tr>\n",
       "    <tr>\n",
       "      <th>pressure</th>\n",
       "      <th>level</th>\n",
       "      <th></th>\n",
       "      <th></th>\n",
       "      <th></th>\n",
       "    </tr>\n",
       "  </thead>\n",
       "  <tbody>\n",
       "    <tr>\n",
       "      <th>1.000000e-08</th>\n",
       "      <th>1</th>\n",
       "      <td>-60.16773</td>\n",
       "      <td>1.202576e-07</td>\n",
       "      <td>-60.167730</td>\n",
       "    </tr>\n",
       "    <tr>\n",
       "      <th>1.068500e+00</th>\n",
       "      <th>24</th>\n",
       "      <td>-60.16792</td>\n",
       "      <td>8.406889e-04</td>\n",
       "      <td>-60.167080</td>\n",
       "    </tr>\n",
       "    <tr>\n",
       "      <th>1.013000e+03</th>\n",
       "      <th>76</th>\n",
       "      <td>-61.68125</td>\n",
       "      <td>8.817584e+00</td>\n",
       "      <td>-52.863666</td>\n",
       "    </tr>\n",
       "  </tbody>\n",
       "</table>\n",
       "</div>"
      ],
      "text/plain": [
       "                        flug          fldg      fnetg\n",
       "pressure     level                                   \n",
       "1.000000e-08 1     -60.16773  1.202576e-07 -60.167730\n",
       "1.068500e+00 24    -60.16792  8.406889e-04 -60.167080\n",
       "1.013000e+03 76    -61.68125  8.817584e+00 -52.863666"
      ]
     },
     "metadata": {},
     "output_type": "display_data"
    },
    {
     "name": "stdout",
     "output_type": "stream",
     "text": [
      "Table. Fluxes. CLIRAD\n"
     ]
    },
    {
     "data": {
      "text/html": [
       "<div>\n",
       "<style scoped>\n",
       "    .dataframe tbody tr th:only-of-type {\n",
       "        vertical-align: middle;\n",
       "    }\n",
       "\n",
       "    .dataframe tbody tr th {\n",
       "        vertical-align: top;\n",
       "    }\n",
       "\n",
       "    .dataframe thead th {\n",
       "        text-align: right;\n",
       "    }\n",
       "</style>\n",
       "<table border=\"1\" class=\"dataframe\">\n",
       "  <thead>\n",
       "    <tr style=\"text-align: right;\">\n",
       "      <th></th>\n",
       "      <th></th>\n",
       "      <th>flug</th>\n",
       "      <th>fldg</th>\n",
       "      <th>fnetg</th>\n",
       "    </tr>\n",
       "    <tr>\n",
       "      <th>pressure</th>\n",
       "      <th>level</th>\n",
       "      <th></th>\n",
       "      <th></th>\n",
       "      <th></th>\n",
       "    </tr>\n",
       "  </thead>\n",
       "  <tbody>\n",
       "    <tr>\n",
       "      <th>0.0000</th>\n",
       "      <th>1</th>\n",
       "      <td>-0.054853</td>\n",
       "      <td>0.000000</td>\n",
       "      <td>-0.054853</td>\n",
       "    </tr>\n",
       "    <tr>\n",
       "      <th>1.0685</th>\n",
       "      <th>24</th>\n",
       "      <td>-0.054908</td>\n",
       "      <td>-0.000234</td>\n",
       "      <td>-0.055143</td>\n",
       "    </tr>\n",
       "    <tr>\n",
       "      <th>1013.0000</th>\n",
       "      <th>76</th>\n",
       "      <td>0.000000</td>\n",
       "      <td>-0.043921</td>\n",
       "      <td>-0.043921</td>\n",
       "    </tr>\n",
       "  </tbody>\n",
       "</table>\n",
       "</div>"
      ],
      "text/plain": [
       "                     flug      fldg     fnetg\n",
       "pressure  level                              \n",
       "0.0000    1     -0.054853  0.000000 -0.054853\n",
       "1.0685    24    -0.054908 -0.000234 -0.055143\n",
       "1013.0000 76     0.000000 -0.043921 -0.043921"
      ]
     },
     "metadata": {},
     "output_type": "display_data"
    },
    {
     "name": "stdout",
     "output_type": "stream",
     "text": [
      "Table. Fluxes. (WGT igg=10 wgt_flux=1) - (CRD)\n"
     ]
    },
    {
     "data": {
      "text/html": [
       "<div>\n",
       "<style scoped>\n",
       "    .dataframe tbody tr th:only-of-type {\n",
       "        vertical-align: middle;\n",
       "    }\n",
       "\n",
       "    .dataframe tbody tr th {\n",
       "        vertical-align: top;\n",
       "    }\n",
       "\n",
       "    .dataframe thead th {\n",
       "        text-align: right;\n",
       "    }\n",
       "</style>\n",
       "<table border=\"1\" class=\"dataframe\">\n",
       "  <thead>\n",
       "    <tr style=\"text-align: right;\">\n",
       "      <th></th>\n",
       "      <th></th>\n",
       "      <th>flug</th>\n",
       "      <th>fldg</th>\n",
       "      <th>fnetg</th>\n",
       "    </tr>\n",
       "    <tr>\n",
       "      <th>pressure</th>\n",
       "      <th>level</th>\n",
       "      <th></th>\n",
       "      <th></th>\n",
       "      <th></th>\n",
       "    </tr>\n",
       "  </thead>\n",
       "  <tbody>\n",
       "    <tr>\n",
       "      <th>0.0000</th>\n",
       "      <th>1</th>\n",
       "      <td>-0.069638</td>\n",
       "      <td>1.202576e-07</td>\n",
       "      <td>-0.069638</td>\n",
       "    </tr>\n",
       "    <tr>\n",
       "      <th>1.0685</th>\n",
       "      <th>24</th>\n",
       "      <td>-0.069754</td>\n",
       "      <td>-3.046660e-04</td>\n",
       "      <td>-0.070060</td>\n",
       "    </tr>\n",
       "    <tr>\n",
       "      <th>1013.0000</th>\n",
       "      <th>76</th>\n",
       "      <td>-0.000004</td>\n",
       "      <td>7.716000e-02</td>\n",
       "      <td>0.077156</td>\n",
       "    </tr>\n",
       "  </tbody>\n",
       "</table>\n",
       "</div>"
      ],
      "text/plain": [
       "                     flug          fldg     fnetg\n",
       "pressure  level                                  \n",
       "0.0000    1     -0.069638  1.202576e-07 -0.069638\n",
       "1.0685    24    -0.069754 -3.046660e-04 -0.070060\n",
       "1013.0000 76    -0.000004  7.716000e-02  0.077156"
      ]
     },
     "metadata": {},
     "output_type": "display_data"
    },
    {
     "name": "stdout",
     "output_type": "stream",
     "text": [
      "Table. Fluxes. (CLIRAD) - (CRD)\n"
     ]
    },
    {
     "data": {
      "text/html": [
       "<a id=\"Best-fit_Parameters\"></a>"
      ],
      "text/plain": [
       "<IPython.core.display.HTML object>"
      ]
     },
     "metadata": {},
     "output_type": "display_data"
    },
    {
     "data": {
      "text/markdown": [
       "# Best-fit Parameters"
      ],
      "text/plain": [
       "<IPython.core.display.Markdown object>"
      ]
     },
     "metadata": {},
     "output_type": "display_data"
    },
    {
     "name": "stdout",
     "output_type": "stream",
     "text": [
      "Best-fit values for each (gas, band)\n",
      "------------------------------------\n",
      "o h2o band4\n",
      "  atmpro = mls\n",
      "  band = 4\n",
      "  commitnumber = a06b618\n",
      "  conc = None\n",
      "  dv = 0.001\n",
      "  klin = 1e-24\n",
      "  molecule = h2o\n",
      "  ng_adju = [0]\n",
      "  ng_refs = [3]\n",
      "  nv = 1000\n",
      "  option_compute_btable = 0\n",
      "  option_compute_ktable = 1\n",
      "  option_wgt_flux = 1\n",
      "  option_wgt_k = 1\n",
      "  ref_pts = [(600, 250)]\n",
      "  tsfc = 294\n",
      "  vmax = 980\n",
      "  vmin = 800\n",
      "  w_diffuse = [(1.66, 1.66, 1.85)]\n",
      "  wgt = [(0.5, 0.55, 0.85)]\n",
      "o co2 band4\n",
      "  atmpro = mls\n",
      "  band = 4\n",
      "  commitnumber = a06b618\n",
      "  conc = 0.0004\n",
      "  dv = 0.001\n",
      "  klin = 6.5e-24\n",
      "  molecule = co2\n",
      "  ng_adju = [0, 0]\n",
      "  ng_refs = [1, 2]\n",
      "  nv = 1000\n",
      "  option_compute_btable = 0\n",
      "  option_compute_ktable = 1\n",
      "  option_wgt_flux = 1\n",
      "  option_wgt_k = 1\n",
      "  ref_pts = [(1, 250), (500, 250)]\n",
      "  tsfc = 294\n",
      "  vmax = 980\n",
      "  vmin = 800\n",
      "  w_diffuse = [(1.75,), (1.66, 1.9)]\n",
      "  wgt = [(0.75,), (0.75, 0.95)]\n"
     ]
    }
   ],
   "source": [
    "script()"
   ]
  },
  {
   "cell_type": "code",
   "execution_count": 13,
   "metadata": {
    "collapsed": true
   },
   "outputs": [
    {
     "data": {
      "text/html": [
       "<script>\n",
       "code_show=true; \n",
       "function code_toggle() {\n",
       " if (code_show){\n",
       " $('div.input').hide();\n",
       " } else {\n",
       " $('div.input').show();\n",
       " }\n",
       " code_show = !code_show\n",
       "} \n",
       "$( document ).ready(code_toggle);\n",
       "</script>\n",
       "<form action=\"javascript:code_toggle()\"><input type=\"submit\" value=\"Click here to toggle on/off the raw code.\"></form>"
      ],
      "text/plain": [
       "<IPython.core.display.HTML object>"
      ]
     },
     "execution_count": 13,
     "metadata": {},
     "output_type": "execute_result"
    }
   ],
   "source": [
    "display.HTML('''<script>\n",
    "code_show=true; \n",
    "function code_toggle() {\n",
    " if (code_show){\n",
    " $('div.input').hide();\n",
    " } else {\n",
    " $('div.input').show();\n",
    " }\n",
    " code_show = !code_show\n",
    "} \n",
    "$( document ).ready(code_toggle);\n",
    "</script>\n",
    "<form action=\"javascript:code_toggle()\"><input type=\"submit\" value=\"Click here to toggle on/off the raw code.\"></form>''')"
   ]
  }
 ],
 "metadata": {
  "kernelspec": {
   "display_name": "Python 3",
   "language": "python",
   "name": "python3"
  },
  "language_info": {
   "codemirror_mode": {
    "name": "ipython",
    "version": 3
   },
   "file_extension": ".py",
   "mimetype": "text/x-python",
   "name": "python",
   "nbconvert_exporter": "python",
   "pygments_lexer": "ipython3",
   "version": "3.6.1"
  }
 },
 "nbformat": 4,
 "nbformat_minor": 2
}
