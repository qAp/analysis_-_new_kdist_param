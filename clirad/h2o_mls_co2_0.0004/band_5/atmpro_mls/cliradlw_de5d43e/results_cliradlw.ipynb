{
 "cells": [
  {
   "cell_type": "code",
   "execution_count": 1,
   "metadata": {
    "collapsed": true
   },
   "outputs": [],
   "source": [
    "%matplotlib inline\n",
    "import os\n",
    "import re\n",
    "import io\n",
    "import itertools\n",
    "import pprint\n",
    "\n",
    "from bokeh.io import output_notebook, show\n",
    "from bokeh.layouts import gridplot\n",
    "from bokeh.plotting import figure\n",
    "from bokeh.models import Range1d, Legend\n",
    "from bokeh.palettes import all_palettes\n",
    "\n",
    "import matplotlib\n",
    "import matplotlib.pyplot as plt\n",
    "import numpy as np\n",
    "import pandas as pd\n",
    "import xarray as xr\n",
    "\n",
    "import climatools.lblnew.bestfit_params as bestfits\n",
    "from climatools.lblnew import setup_bestfit, setup_overlap\n",
    "import climatools.lblnew.pipeline as pipe_lblnew\n",
    "import climatools.cliradlw.setup as setup_cliradlw\n",
    "import climatools.cliradlw.pipeline as pipe_cliradlw\n",
    "\n",
    "import climatools.html.html as climahtml\n",
    "from climatools.lblnew.dataio import *\n",
    "from climatools.plot.plot import *\n",
    "\n",
    "\n",
    "import IPython.display as display"
   ]
  },
  {
   "cell_type": "code",
   "execution_count": 2,
   "metadata": {
    "collapsed": true
   },
   "outputs": [],
   "source": [
    "%run param.py"
   ]
  },
  {
   "cell_type": "code",
   "execution_count": 3,
   "metadata": {
    "collapsed": true
   },
   "outputs": [],
   "source": [
    "def load_output_file(path_csv):\n",
    "    '''\n",
    "    Load lblnew output .csv file to xarray.Dataset\n",
    "    \n",
    "    Parameters\n",
    "    ----------\n",
    "    path_csv: str\n",
    "              Path to the .csv file to be loaded.\n",
    "    ds: xarray.Dataset\n",
    "        Data in the input file in the form of an xarray.Dataset.\n",
    "    '''\n",
    "    toindex = ['band', 'pressure', 'igg', 'g']    \n",
    "    df = pd.read_csv(path_csv, sep=r'\\s+')\n",
    "    df = df.set_index([i for i in toindex if i in df.columns])\n",
    "    df = df.rename(columns={'sfu': 'flug',\n",
    "                            'sfd': 'fldg',\n",
    "                            'fnet': 'fnetg',\n",
    "                            'coolr': 'coolrg'})\n",
    "    ds = xr.Dataset.from_dataframe(df)\n",
    "\n",
    "    for l in ('level', 'layer'):\n",
    "        if l in ds.data_vars:\n",
    "            if len(ds[l].dims) > 1:\n",
    "                surface = {d: 0 for d in ds.dims if d != 'pressure'}\n",
    "                coord_level = ds[l][surface]\n",
    "                ds.coords[l] = ('pressure', coord_level)\n",
    "            else:\n",
    "                ds.coords[l] = ('pressure', ds[l])\n",
    "    \n",
    "    return ds"
   ]
  },
  {
   "cell_type": "code",
   "execution_count": 4,
   "metadata": {
    "collapsed": true
   },
   "outputs": [],
   "source": [
    "def lblnew_setup(param=None):\n",
    "    if 'ng_refs' in param:\n",
    "        return {'setup': setup_bestfit,\n",
    "                'fname_flux_crd': 'output_flux.dat',\n",
    "                'fname_cool_crd': 'output_coolr.dat',\n",
    "                'fname_flux_wgt': 'output_wfluxg.dat',\n",
    "                'fname_cool_wgt': 'output_wcoolrg.dat'}\n",
    "    else:\n",
    "        return {'setup': setup_overlap,\n",
    "                'fname_flux_crd': 'output_flux.dat',\n",
    "                'fname_cool_crd': 'output_coolr.dat',\n",
    "                'fname_flux_wgt': 'output_wflux.dat',\n",
    "                'fname_cool_wgt': 'output_wcoolr.dat'}\n",
    "\n",
    "    \n",
    "def load_lblnew_data(param):\n",
    "    \n",
    "    fname_dsname = [('fname_flux_crd', 'ds_flux_crd'),\n",
    "                    ('fname_cool_crd', 'ds_cool_crd'),\n",
    "                    ('fname_flux_wgt', 'ds_flux_wgt'),\n",
    "                    ('fname_cool_wgt', 'ds_cool_wgt')]\n",
    "    \n",
    "    d = lblnew_setup(param)\n",
    "    dir_fortran = pipe_lblnew.get_dir_case(param, setup=d['setup'])\n",
    "    \n",
    "    data_dict = {}\n",
    "    for fname, dsname in fname_dsname:\n",
    "        fpath = os.path.join(dir_fortran, d[fname])\n",
    "        data_dict[dsname] = load_output_file(fpath)\n",
    "    return data_dict\n",
    "    \n",
    "\n",
    "    \n",
    "    "
   ]
  },
  {
   "cell_type": "code",
   "execution_count": 5,
   "metadata": {
    "collapsed": true
   },
   "outputs": [
    {
     "name": "stdout",
     "output_type": "stream",
     "text": [
      "The history saving thread hit an unexpected error (OperationalError('database is locked',)).History will not be written to the database.\n"
     ]
    }
   ],
   "source": [
    "d = load_lblnew_data(PARAM_LBLNEW)\n",
    "\n",
    "DS_FLUX_CRD = d['ds_flux_crd']\n",
    "DS_COOL_CRD = d['ds_cool_crd']\n",
    "DS_FLUX_WGT = d['ds_flux_wgt']\n",
    "DS_COOL_WGT = d['ds_cool_wgt']"
   ]
  },
  {
   "cell_type": "code",
   "execution_count": 6,
   "metadata": {
    "collapsed": true
   },
   "outputs": [],
   "source": [
    "DIR_FORTRAN = pipe_cliradlw.get_fortran_dir(PARAM, \n",
    "                                            setup=setup_cliradlw)\n",
    "\n",
    "PATH_FLUX = os.path.join(DIR_FORTRAN, 'output_flux.dat')\n",
    "PATH_COOL = os.path.join(DIR_FORTRAN, 'output_coolr.dat')\n",
    "\n",
    "DS_FLUX = load_output_file(PATH_FLUX)\n",
    "DS_COOL = load_output_file(PATH_COOL)"
   ]
  },
  {
   "cell_type": "code",
   "execution_count": 7,
   "metadata": {
    "collapsed": true
   },
   "outputs": [
    {
     "data": {
      "text/html": [
       "\n",
       "    <div class=\"bk-root\">\n",
       "        <a href=\"https://bokeh.pydata.org\" target=\"_blank\" class=\"bk-logo bk-logo-small bk-logo-notebook\"></a>\n",
       "        <span id=\"2829afc4-0b57-4eaf-8510-64324f4a241f\">Loading BokehJS ...</span>\n",
       "    </div>"
      ]
     },
     "metadata": {},
     "output_type": "display_data"
    },
    {
     "data": {
      "application/javascript": [
       "\n",
       "(function(root) {\n",
       "  function now() {\n",
       "    return new Date();\n",
       "  }\n",
       "\n",
       "  var force = true;\n",
       "\n",
       "  if (typeof (root._bokeh_onload_callbacks) === \"undefined\" || force === true) {\n",
       "    root._bokeh_onload_callbacks = [];\n",
       "    root._bokeh_is_loading = undefined;\n",
       "  }\n",
       "\n",
       "  var JS_MIME_TYPE = 'application/javascript';\n",
       "  var HTML_MIME_TYPE = 'text/html';\n",
       "  var EXEC_MIME_TYPE = 'application/vnd.bokehjs_exec.v0+json';\n",
       "  var CLASS_NAME = 'output_bokeh rendered_html';\n",
       "\n",
       "  /**\n",
       "   * Render data to the DOM node\n",
       "   */\n",
       "  function render(props, node) {\n",
       "    var script = document.createElement(\"script\");\n",
       "    node.appendChild(script);\n",
       "  }\n",
       "\n",
       "  /**\n",
       "   * Handle when an output is cleared or removed\n",
       "   */\n",
       "  function handleClearOutput(event, handle) {\n",
       "    var cell = handle.cell;\n",
       "\n",
       "    var id = cell.output_area._bokeh_element_id;\n",
       "    var server_id = cell.output_area._bokeh_server_id;\n",
       "    // Clean up Bokeh references\n",
       "    if (id !== undefined) {\n",
       "      Bokeh.index[id].model.document.clear();\n",
       "      delete Bokeh.index[id];\n",
       "    }\n",
       "\n",
       "    if (server_id !== undefined) {\n",
       "      // Clean up Bokeh references\n",
       "      var cmd = \"from bokeh.io.state import curstate; print(curstate().uuid_to_server['\" + server_id + \"'].get_sessions()[0].document.roots[0]._id)\";\n",
       "      cell.notebook.kernel.execute(cmd, {\n",
       "        iopub: {\n",
       "          output: function(msg) {\n",
       "            var element_id = msg.content.text.trim();\n",
       "            Bokeh.index[element_id].model.document.clear();\n",
       "            delete Bokeh.index[element_id];\n",
       "          }\n",
       "        }\n",
       "      });\n",
       "      // Destroy server and session\n",
       "      var cmd = \"import bokeh.io.notebook as ion; ion.destroy_server('\" + server_id + \"')\";\n",
       "      cell.notebook.kernel.execute(cmd);\n",
       "    }\n",
       "  }\n",
       "\n",
       "  /**\n",
       "   * Handle when a new output is added\n",
       "   */\n",
       "  function handleAddOutput(event, handle) {\n",
       "    var output_area = handle.output_area;\n",
       "    var output = handle.output;\n",
       "\n",
       "    // limit handleAddOutput to display_data with EXEC_MIME_TYPE content only\n",
       "    if ((output.output_type != \"display_data\") || (!output.data.hasOwnProperty(EXEC_MIME_TYPE))) {\n",
       "      return\n",
       "    }\n",
       "\n",
       "    var toinsert = output_area.element.find(\".\" + CLASS_NAME.split(' ')[0]);\n",
       "\n",
       "    if (output.metadata[EXEC_MIME_TYPE][\"id\"] !== undefined) {\n",
       "      toinsert[toinsert.length - 1].firstChild.textContent = output.data[JS_MIME_TYPE];\n",
       "      // store reference to embed id on output_area\n",
       "      output_area._bokeh_element_id = output.metadata[EXEC_MIME_TYPE][\"id\"];\n",
       "    }\n",
       "    if (output.metadata[EXEC_MIME_TYPE][\"server_id\"] !== undefined) {\n",
       "      var bk_div = document.createElement(\"div\");\n",
       "      bk_div.innerHTML = output.data[HTML_MIME_TYPE];\n",
       "      var script_attrs = bk_div.children[0].attributes;\n",
       "      for (var i = 0; i < script_attrs.length; i++) {\n",
       "        toinsert[toinsert.length - 1].firstChild.setAttribute(script_attrs[i].name, script_attrs[i].value);\n",
       "      }\n",
       "      // store reference to server id on output_area\n",
       "      output_area._bokeh_server_id = output.metadata[EXEC_MIME_TYPE][\"server_id\"];\n",
       "    }\n",
       "  }\n",
       "\n",
       "  function register_renderer(events, OutputArea) {\n",
       "\n",
       "    function append_mime(data, metadata, element) {\n",
       "      // create a DOM node to render to\n",
       "      var toinsert = this.create_output_subarea(\n",
       "        metadata,\n",
       "        CLASS_NAME,\n",
       "        EXEC_MIME_TYPE\n",
       "      );\n",
       "      this.keyboard_manager.register_events(toinsert);\n",
       "      // Render to node\n",
       "      var props = {data: data, metadata: metadata[EXEC_MIME_TYPE]};\n",
       "      render(props, toinsert[toinsert.length - 1]);\n",
       "      element.append(toinsert);\n",
       "      return toinsert\n",
       "    }\n",
       "\n",
       "    /* Handle when an output is cleared or removed */\n",
       "    events.on('clear_output.CodeCell', handleClearOutput);\n",
       "    events.on('delete.Cell', handleClearOutput);\n",
       "\n",
       "    /* Handle when a new output is added */\n",
       "    events.on('output_added.OutputArea', handleAddOutput);\n",
       "\n",
       "    /**\n",
       "     * Register the mime type and append_mime function with output_area\n",
       "     */\n",
       "    OutputArea.prototype.register_mime_type(EXEC_MIME_TYPE, append_mime, {\n",
       "      /* Is output safe? */\n",
       "      safe: true,\n",
       "      /* Index of renderer in `output_area.display_order` */\n",
       "      index: 0\n",
       "    });\n",
       "  }\n",
       "\n",
       "  // register the mime type if in Jupyter Notebook environment and previously unregistered\n",
       "  if (root.Jupyter !== undefined) {\n",
       "    var events = require('base/js/events');\n",
       "    var OutputArea = require('notebook/js/outputarea').OutputArea;\n",
       "\n",
       "    if (OutputArea.prototype.mime_types().indexOf(EXEC_MIME_TYPE) == -1) {\n",
       "      register_renderer(events, OutputArea);\n",
       "    }\n",
       "  }\n",
       "\n",
       "  \n",
       "  if (typeof (root._bokeh_timeout) === \"undefined\" || force === true) {\n",
       "    root._bokeh_timeout = Date.now() + 5000;\n",
       "    root._bokeh_failed_load = false;\n",
       "  }\n",
       "\n",
       "  var NB_LOAD_WARNING = {'data': {'text/html':\n",
       "     \"<div style='background-color: #fdd'>\\n\"+\n",
       "     \"<p>\\n\"+\n",
       "     \"BokehJS does not appear to have successfully loaded. If loading BokehJS from CDN, this \\n\"+\n",
       "     \"may be due to a slow or bad network connection. Possible fixes:\\n\"+\n",
       "     \"</p>\\n\"+\n",
       "     \"<ul>\\n\"+\n",
       "     \"<li>re-rerun `output_notebook()` to attempt to load from CDN again, or</li>\\n\"+\n",
       "     \"<li>use INLINE resources instead, as so:</li>\\n\"+\n",
       "     \"</ul>\\n\"+\n",
       "     \"<code>\\n\"+\n",
       "     \"from bokeh.resources import INLINE\\n\"+\n",
       "     \"output_notebook(resources=INLINE)\\n\"+\n",
       "     \"</code>\\n\"+\n",
       "     \"</div>\"}};\n",
       "\n",
       "  function display_loaded() {\n",
       "    var el = document.getElementById(\"2829afc4-0b57-4eaf-8510-64324f4a241f\");\n",
       "    if (el != null) {\n",
       "      el.textContent = \"BokehJS is loading...\";\n",
       "    }\n",
       "    if (root.Bokeh !== undefined) {\n",
       "      if (el != null) {\n",
       "        el.textContent = \"BokehJS \" + root.Bokeh.version + \" successfully loaded.\";\n",
       "      }\n",
       "    } else if (Date.now() < root._bokeh_timeout) {\n",
       "      setTimeout(display_loaded, 100)\n",
       "    }\n",
       "  }\n",
       "\n",
       "\n",
       "  function run_callbacks() {\n",
       "    try {\n",
       "      root._bokeh_onload_callbacks.forEach(function(callback) { callback() });\n",
       "    }\n",
       "    finally {\n",
       "      delete root._bokeh_onload_callbacks\n",
       "    }\n",
       "    console.info(\"Bokeh: all callbacks have finished\");\n",
       "  }\n",
       "\n",
       "  function load_libs(js_urls, callback) {\n",
       "    root._bokeh_onload_callbacks.push(callback);\n",
       "    if (root._bokeh_is_loading > 0) {\n",
       "      console.log(\"Bokeh: BokehJS is being loaded, scheduling callback at\", now());\n",
       "      return null;\n",
       "    }\n",
       "    if (js_urls == null || js_urls.length === 0) {\n",
       "      run_callbacks();\n",
       "      return null;\n",
       "    }\n",
       "    console.log(\"Bokeh: BokehJS not loaded, scheduling load and callback at\", now());\n",
       "    root._bokeh_is_loading = js_urls.length;\n",
       "    for (var i = 0; i < js_urls.length; i++) {\n",
       "      var url = js_urls[i];\n",
       "      var s = document.createElement('script');\n",
       "      s.src = url;\n",
       "      s.async = false;\n",
       "      s.onreadystatechange = s.onload = function() {\n",
       "        root._bokeh_is_loading--;\n",
       "        if (root._bokeh_is_loading === 0) {\n",
       "          console.log(\"Bokeh: all BokehJS libraries loaded\");\n",
       "          run_callbacks()\n",
       "        }\n",
       "      };\n",
       "      s.onerror = function() {\n",
       "        console.warn(\"failed to load library \" + url);\n",
       "      };\n",
       "      console.log(\"Bokeh: injecting script tag for BokehJS library: \", url);\n",
       "      document.getElementsByTagName(\"head\")[0].appendChild(s);\n",
       "    }\n",
       "  };var element = document.getElementById(\"2829afc4-0b57-4eaf-8510-64324f4a241f\");\n",
       "  if (element == null) {\n",
       "    console.log(\"Bokeh: ERROR: autoload.js configured with elementid '2829afc4-0b57-4eaf-8510-64324f4a241f' but no matching script tag was found. \")\n",
       "    return false;\n",
       "  }\n",
       "\n",
       "  var js_urls = [\"https://cdn.pydata.org/bokeh/release/bokeh-0.12.16.min.js\", \"https://cdn.pydata.org/bokeh/release/bokeh-widgets-0.12.16.min.js\", \"https://cdn.pydata.org/bokeh/release/bokeh-tables-0.12.16.min.js\", \"https://cdn.pydata.org/bokeh/release/bokeh-gl-0.12.16.min.js\"];\n",
       "\n",
       "  var inline_js = [\n",
       "    function(Bokeh) {\n",
       "      Bokeh.set_log_level(\"info\");\n",
       "    },\n",
       "    \n",
       "    function(Bokeh) {\n",
       "      \n",
       "    },\n",
       "    function(Bokeh) {\n",
       "      console.log(\"Bokeh: injecting CSS: https://cdn.pydata.org/bokeh/release/bokeh-0.12.16.min.css\");\n",
       "      Bokeh.embed.inject_css(\"https://cdn.pydata.org/bokeh/release/bokeh-0.12.16.min.css\");\n",
       "      console.log(\"Bokeh: injecting CSS: https://cdn.pydata.org/bokeh/release/bokeh-widgets-0.12.16.min.css\");\n",
       "      Bokeh.embed.inject_css(\"https://cdn.pydata.org/bokeh/release/bokeh-widgets-0.12.16.min.css\");\n",
       "      console.log(\"Bokeh: injecting CSS: https://cdn.pydata.org/bokeh/release/bokeh-tables-0.12.16.min.css\");\n",
       "      Bokeh.embed.inject_css(\"https://cdn.pydata.org/bokeh/release/bokeh-tables-0.12.16.min.css\");\n",
       "    }\n",
       "  ];\n",
       "\n",
       "  function run_inline_js() {\n",
       "    \n",
       "    if ((root.Bokeh !== undefined) || (force === true)) {\n",
       "      for (var i = 0; i < inline_js.length; i++) {\n",
       "        inline_js[i].call(root, root.Bokeh);\n",
       "      }if (force === true) {\n",
       "        display_loaded();\n",
       "      }} else if (Date.now() < root._bokeh_timeout) {\n",
       "      setTimeout(run_inline_js, 100);\n",
       "    } else if (!root._bokeh_failed_load) {\n",
       "      console.log(\"Bokeh: BokehJS failed to load within specified timeout.\");\n",
       "      root._bokeh_failed_load = true;\n",
       "    } else if (force !== true) {\n",
       "      var cell = $(document.getElementById(\"2829afc4-0b57-4eaf-8510-64324f4a241f\")).parents('.cell').data().cell;\n",
       "      cell.output_area.append_execute_result(NB_LOAD_WARNING)\n",
       "    }\n",
       "\n",
       "  }\n",
       "\n",
       "  if (root._bokeh_is_loading === 0) {\n",
       "    console.log(\"Bokeh: BokehJS loaded, going straight to plotting\");\n",
       "    run_inline_js();\n",
       "  } else {\n",
       "    load_libs(js_urls, function() {\n",
       "      console.log(\"Bokeh: BokehJS plotting callback run at\", now());\n",
       "      run_inline_js();\n",
       "    });\n",
       "  }\n",
       "}(window));"
      ],
      "application/vnd.bokehjs_load.v0+json": "\n(function(root) {\n  function now() {\n    return new Date();\n  }\n\n  var force = true;\n\n  if (typeof (root._bokeh_onload_callbacks) === \"undefined\" || force === true) {\n    root._bokeh_onload_callbacks = [];\n    root._bokeh_is_loading = undefined;\n  }\n\n  \n\n  \n  if (typeof (root._bokeh_timeout) === \"undefined\" || force === true) {\n    root._bokeh_timeout = Date.now() + 5000;\n    root._bokeh_failed_load = false;\n  }\n\n  var NB_LOAD_WARNING = {'data': {'text/html':\n     \"<div style='background-color: #fdd'>\\n\"+\n     \"<p>\\n\"+\n     \"BokehJS does not appear to have successfully loaded. If loading BokehJS from CDN, this \\n\"+\n     \"may be due to a slow or bad network connection. Possible fixes:\\n\"+\n     \"</p>\\n\"+\n     \"<ul>\\n\"+\n     \"<li>re-rerun `output_notebook()` to attempt to load from CDN again, or</li>\\n\"+\n     \"<li>use INLINE resources instead, as so:</li>\\n\"+\n     \"</ul>\\n\"+\n     \"<code>\\n\"+\n     \"from bokeh.resources import INLINE\\n\"+\n     \"output_notebook(resources=INLINE)\\n\"+\n     \"</code>\\n\"+\n     \"</div>\"}};\n\n  function display_loaded() {\n    var el = document.getElementById(\"2829afc4-0b57-4eaf-8510-64324f4a241f\");\n    if (el != null) {\n      el.textContent = \"BokehJS is loading...\";\n    }\n    if (root.Bokeh !== undefined) {\n      if (el != null) {\n        el.textContent = \"BokehJS \" + root.Bokeh.version + \" successfully loaded.\";\n      }\n    } else if (Date.now() < root._bokeh_timeout) {\n      setTimeout(display_loaded, 100)\n    }\n  }\n\n\n  function run_callbacks() {\n    try {\n      root._bokeh_onload_callbacks.forEach(function(callback) { callback() });\n    }\n    finally {\n      delete root._bokeh_onload_callbacks\n    }\n    console.info(\"Bokeh: all callbacks have finished\");\n  }\n\n  function load_libs(js_urls, callback) {\n    root._bokeh_onload_callbacks.push(callback);\n    if (root._bokeh_is_loading > 0) {\n      console.log(\"Bokeh: BokehJS is being loaded, scheduling callback at\", now());\n      return null;\n    }\n    if (js_urls == null || js_urls.length === 0) {\n      run_callbacks();\n      return null;\n    }\n    console.log(\"Bokeh: BokehJS not loaded, scheduling load and callback at\", now());\n    root._bokeh_is_loading = js_urls.length;\n    for (var i = 0; i < js_urls.length; i++) {\n      var url = js_urls[i];\n      var s = document.createElement('script');\n      s.src = url;\n      s.async = false;\n      s.onreadystatechange = s.onload = function() {\n        root._bokeh_is_loading--;\n        if (root._bokeh_is_loading === 0) {\n          console.log(\"Bokeh: all BokehJS libraries loaded\");\n          run_callbacks()\n        }\n      };\n      s.onerror = function() {\n        console.warn(\"failed to load library \" + url);\n      };\n      console.log(\"Bokeh: injecting script tag for BokehJS library: \", url);\n      document.getElementsByTagName(\"head\")[0].appendChild(s);\n    }\n  };var element = document.getElementById(\"2829afc4-0b57-4eaf-8510-64324f4a241f\");\n  if (element == null) {\n    console.log(\"Bokeh: ERROR: autoload.js configured with elementid '2829afc4-0b57-4eaf-8510-64324f4a241f' but no matching script tag was found. \")\n    return false;\n  }\n\n  var js_urls = [\"https://cdn.pydata.org/bokeh/release/bokeh-0.12.16.min.js\", \"https://cdn.pydata.org/bokeh/release/bokeh-widgets-0.12.16.min.js\", \"https://cdn.pydata.org/bokeh/release/bokeh-tables-0.12.16.min.js\", \"https://cdn.pydata.org/bokeh/release/bokeh-gl-0.12.16.min.js\"];\n\n  var inline_js = [\n    function(Bokeh) {\n      Bokeh.set_log_level(\"info\");\n    },\n    \n    function(Bokeh) {\n      \n    },\n    function(Bokeh) {\n      console.log(\"Bokeh: injecting CSS: https://cdn.pydata.org/bokeh/release/bokeh-0.12.16.min.css\");\n      Bokeh.embed.inject_css(\"https://cdn.pydata.org/bokeh/release/bokeh-0.12.16.min.css\");\n      console.log(\"Bokeh: injecting CSS: https://cdn.pydata.org/bokeh/release/bokeh-widgets-0.12.16.min.css\");\n      Bokeh.embed.inject_css(\"https://cdn.pydata.org/bokeh/release/bokeh-widgets-0.12.16.min.css\");\n      console.log(\"Bokeh: injecting CSS: https://cdn.pydata.org/bokeh/release/bokeh-tables-0.12.16.min.css\");\n      Bokeh.embed.inject_css(\"https://cdn.pydata.org/bokeh/release/bokeh-tables-0.12.16.min.css\");\n    }\n  ];\n\n  function run_inline_js() {\n    \n    if ((root.Bokeh !== undefined) || (force === true)) {\n      for (var i = 0; i < inline_js.length; i++) {\n        inline_js[i].call(root, root.Bokeh);\n      }if (force === true) {\n        display_loaded();\n      }} else if (Date.now() < root._bokeh_timeout) {\n      setTimeout(run_inline_js, 100);\n    } else if (!root._bokeh_failed_load) {\n      console.log(\"Bokeh: BokehJS failed to load within specified timeout.\");\n      root._bokeh_failed_load = true;\n    } else if (force !== true) {\n      var cell = $(document.getElementById(\"2829afc4-0b57-4eaf-8510-64324f4a241f\")).parents('.cell').data().cell;\n      cell.output_area.append_execute_result(NB_LOAD_WARNING)\n    }\n\n  }\n\n  if (root._bokeh_is_loading === 0) {\n    console.log(\"Bokeh: BokehJS loaded, going straight to plotting\");\n    run_inline_js();\n  } else {\n    load_libs(js_urls, function() {\n      console.log(\"Bokeh: BokehJS plotting callback run at\", now());\n      run_inline_js();\n    });\n  }\n}(window));"
     },
     "metadata": {},
     "output_type": "display_data"
    }
   ],
   "source": [
    "output_notebook()"
   ]
  },
  {
   "cell_type": "code",
   "execution_count": 8,
   "metadata": {
    "collapsed": true
   },
   "outputs": [],
   "source": [
    "def fmt_cool(ds_in):\n",
    "    ds = ds_in.copy(deep=True)\n",
    "    if 'igg' in ds.dims:\n",
    "        ds = ds.sel(igg=1)\n",
    "\n",
    "    if 'g' in ds.dims:\n",
    "        ds = ds.sum('g')\n",
    "            \n",
    "    if 'band' in ds.dims:\n",
    "        try:\n",
    "            ds = ds.squeeze('band')\n",
    "        except ValueError:\n",
    "            ds = ds.sum('band')\n",
    "                \n",
    "    return ds['coolrg']\n",
    "\n",
    "\n",
    "def pltdata_cooling_1(ds_cool=None,\n",
    "                      ds_cool_crd=None, ds_cool_wgt=None):\n",
    "    \n",
    "\n",
    "\n",
    "    colors = all_palettes['Set1'][4]\n",
    "    data = [{'label': 'CLIRAD `coolr_bands`',\n",
    "             'srs': fmt_cool(ds_cool),\n",
    "             'line_dash': 'dashed', 'line_width': 5,\n",
    "             'color': colors[0], 'alpha': .6},\n",
    "            {'label': 'CRD',\n",
    "             'srs': fmt_cool(ds_cool_crd),\n",
    "             'line_dash': 'solid', 'line_width': 1.5,\n",
    "             'marker': 'circle', 'marker_size': 5,\n",
    "             'color': colors[2], 'alpha': 1,},\n",
    "            {'label': 'WGT igg=10 wgt_flux=2',\n",
    "             'srs': fmt_cool(ds_cool_wgt),\n",
    "             'line_dash': 'solid', 'line_width': 3,\n",
    "             'marker': 'square', 'marker_size': 5,\n",
    "             'color': colors[3], 'alpha': .6}]\n",
    "    return data\n",
    "\n",
    "\n",
    "def nice_xlims(pltdata=None, prange=None):\n",
    "    \n",
    "    def get_slice(srs):\n",
    "        return srs.sel(pressure=slice(*prange))\n",
    "    \n",
    "    srss = [d['srs'] for d in pltdata]\n",
    "    vmin = min([get_slice(srs).min() for srs in srss])\n",
    "    vmax = max([get_slice(srs).max() for srs in srss])\n",
    "    dv = (vmax - vmin) * .01\n",
    "    return float(vmin - dv), float(vmax + dv)\n",
    "    \n",
    "\n",
    "def plt_cooling_bokeh(pltdata=None):\n",
    "    '''\n",
    "    Plot a list of cooling rate profiles using bokeh.\n",
    "    '''\n",
    "    ymin = 1e-2 \n",
    "    ymax = 1020 \n",
    "        \n",
    "    p1 = figure(title=\"Linear pressure scale\", \n",
    "                plot_width=400)        \n",
    "    xmin, xmax = nice_xlims(pltdata, prange=(50, 1050))\n",
    "    for d in pltdata:\n",
    "        if 'marker' in d:\n",
    "            getattr(p1, d['marker'])(d['srs'].values, \n",
    "                    d['srs'].coords['pressure'].values,\n",
    "                    color=d['color'], alpha=.7)\n",
    "        p1.line(d['srs'].values, \n",
    "                d['srs'].coords['pressure'].values,\n",
    "                color=d['color'], alpha=d['alpha'], \n",
    "                line_width=d['line_width'], line_dash=d['line_dash'])\n",
    "    \n",
    "    p1.y_range = Range1d(ymax, ymin)\n",
    "    p1.yaxis.axis_label = 'pressure [mb]'   \n",
    "    p1.x_range = Range1d(xmin, xmax)\n",
    "    p1.xaxis.axis_label = 'cooling rate [K/day]'\n",
    "            \n",
    "    p2 = figure(title='Log pressure scale', y_axis_type='log',\n",
    "                plot_width=560)\n",
    "    xmin, xmax = nice_xlims(pltdata, prange=(.01, 200))\n",
    "    \n",
    "    rs = []\n",
    "    for d in pltdata:\n",
    "        rd = []\n",
    "        if 'marker' in d:\n",
    "            r_mark = getattr(p2, d['marker'])(d['srs'].values, \n",
    "                        d['srs'].coords['pressure'].values,\n",
    "                        color=d['color'], alpha=.7)\n",
    "            rd.append(r_mark)\n",
    "        r_line = p2.line(d['srs'].values, \n",
    "                    d['srs'].coords['pressure'].values,\n",
    "                    color=d['color'], alpha=d['alpha'], \n",
    "                    line_width=d['line_width'], line_dash=d['line_dash'])\n",
    "        rd.append(r_line)\n",
    "      \n",
    "        rs.append(rd)\n",
    "        \n",
    "    p2.y_range = Range1d(ymax, ymin)  \n",
    "    p2.yaxis.axis_label = 'pressure [mb]'\n",
    "    \n",
    "    p2.x_range = Range1d(xmin, xmax)\n",
    "    p2.xaxis.axis_label = 'cooling rate [K/day]'\n",
    "    \n",
    "    items = [(d['label'], r) for r, d in zip(rs, pltdata)]\n",
    "    legend = Legend(items=items, location=(10, -30))\n",
    "    legend.label_text_font_size = '8pt'\n",
    "    \n",
    "    p2.add_layout(legend, 'right')  \n",
    "    \n",
    "    show(gridplot(p1, p2, ncols=2, plot_height=500))\n",
    "    \n",
    "\n",
    "def script_plt_cooling():\n",
    "    pltdata = pltdata_cooling_1(\n",
    "        ds_cool=DS_COOL,\n",
    "        ds_cool_crd=DS_COOL_CRD,\n",
    "        ds_cool_wgt=DS_COOL_WGT)\n",
    "    plt_cooling_bokeh(pltdata=pltdata)\n",
    "    print('''FIGURE. Cooling rate profiles.''')"
   ]
  },
  {
   "cell_type": "code",
   "execution_count": 9,
   "metadata": {
    "collapsed": true
   },
   "outputs": [],
   "source": [
    "def fmt_flux(ds_in):\n",
    "    ds = ds_in.copy(deep=True)\n",
    "    \n",
    "    for l in ('level', 'layer'):\n",
    "        if l in ds.data_vars:\n",
    "            if len(ds[l].dims) > 1:\n",
    "                surface = {d: 0 for d in ds.dims if d != 'pressure'}\n",
    "                coord_level = ds[l][surface]\n",
    "                ds.coords[l] = ('pressure', coord_level)\n",
    "            else:\n",
    "                ds.coords[l] = ('pressure', ds[l])\n",
    "        \n",
    "    ds = ds.isel(pressure=[0, 23, -1])\n",
    "        \n",
    "    if 'igg' in ds.dims:\n",
    "        ds = ds.sel(igg=[1])\n",
    "        ds = ds.squeeze('igg').drop('igg')\n",
    "    \n",
    "    if 'g' in ds.dims:\n",
    "        ds = ds.sum('g')\n",
    "            \n",
    "    if 'band' in ds.dims:\n",
    "        try:\n",
    "            ds = ds.squeeze('band').drop('band')\n",
    "        except ValueError:\n",
    "            ds = ds.sum('band')\n",
    "                \n",
    "    df = ds.to_dataframe()\n",
    "    df = df.set_index('level', append=True)               \n",
    "    return df\n",
    "\n",
    "\n",
    "def tbdata_flux(ds_flux=None, ds_flux_crd=None, ds_flux_wgt=None):\n",
    "    ilevels = [0, 23, -1]\n",
    "            \n",
    "    benchmark = {'label': 'CRD',\n",
    "                 'df': fmt_flux(ds_flux_crd)}\n",
    "    \n",
    "    tbs = [{'label': 'WGT igg=10 wgt_flux=1',\n",
    "            'df': fmt_flux(ds_flux_wgt)},\n",
    "           {'label': 'CLIRAD',\n",
    "            'df': fmt_flux(ds_flux)}]\n",
    "    \n",
    "    data = {'benchmark': benchmark, 'others': tbs}\n",
    "    return data\n",
    "\n",
    "\n",
    "def tb_flux(tbdata=None):\n",
    "    benchmark = tbdata['benchmark']\n",
    "    others = tbdata['others']\n",
    "    \n",
    "    def show_tb(d=None):\n",
    "        display.display(d['df'])\n",
    "        print('Table.', 'Fluxes.', d['label'])\n",
    "        \n",
    "    def show_tbdiff(d0=None, d=None):\n",
    "        df = d['df']\n",
    "        df.index = d0['df'].index\n",
    "        display.display(df - d0['df'])\n",
    "        print('Table.', 'Fluxes.', \n",
    "              '({}) - ({})'.format(d['label'], d0['label']))\n",
    "        \n",
    "    show_tb(benchmark)\n",
    "    for d in others:\n",
    "        show_tb(d)\n",
    "        \n",
    "    for d in others:\n",
    "        show_tbdiff(d=d, d0=benchmark)\n",
    "        \n",
    "        \n",
    "def script_tb_flux():\n",
    "    data = tbdata_flux(ds_flux=DS_FLUX,\n",
    "                       ds_flux_crd=DS_FLUX_CRD,\n",
    "                       ds_flux_wgt=DS_FLUX_WGT)\n",
    "    tb_flux(tbdata=data)"
   ]
  },
  {
   "cell_type": "code",
   "execution_count": 10,
   "metadata": {
    "collapsed": true
   },
   "outputs": [],
   "source": [
    "def band_map():\n",
    "    '''\n",
    "    Maps spectral bands in lblnew to spectral bands in clirad.\n",
    "    '''\n",
    "    lblnew2clirad = {'1': '1',\n",
    "            '2': '2',\n",
    "            '3a': '3',\n",
    "            '3b': '4',\n",
    "            '3c': '5',\n",
    "            '4': '6', \n",
    "            '5': '7',\n",
    "            '6': '8',\n",
    "            '7': '9', \n",
    "            '8': '10',\n",
    "            '9': '11'}\n",
    "    \n",
    "    clirad2lblnew = {clirad: lblnew \n",
    "                     for lblnew, clirad in lblnew2clirad.items()}\n",
    "    return clirad2lblnew\n",
    "\n",
    "\n",
    "def gasbands():\n",
    "    bmap = band_map()\n",
    "    gases = list(PARAM['molecule'].keys())\n",
    "    \n",
    "    bands = [bmap[str(b)] for b in PARAM['band']]\n",
    "    return list(itertools.product(gases, bands))\n",
    "\n",
    "\n",
    "def print_bestfit_params():\n",
    "    print('Best-fit values for each (gas, band)')\n",
    "    print('------------------------------------')\n",
    "    for gas, band in gasbands():\n",
    "        print('o {} band{}'.format(gas, band))\n",
    "        param = bestfits.kdist_params(molecule=gas, band=band)\n",
    "        for name, value in sorted(param.items()):\n",
    "            print(2 * ' ' + '{} = {}'.format(name, value))\n",
    "\n",
    "        \n",
    "def print_input_param():        \n",
    "    for name, value in PARAM.items():\n",
    "        print('{} = {}'.format(name, value))\n",
    "        \n",
    "        \n",
    "def print_lblnew_param():\n",
    "    for name, value in sorted(PARAM_LBLNEW.items()):\n",
    "        print('{} = {}'.format(name, value))\n"
   ]
  },
  {
   "cell_type": "code",
   "execution_count": 11,
   "metadata": {
    "collapsed": true,
    "scrolled": false
   },
   "outputs": [],
   "source": [
    "def show_html(s):\n",
    "    display.display(display.HTML(s))\n",
    "\n",
    "    \n",
    "def show_markdown(s):\n",
    "    display.display(display.Markdown(s))\n",
    "\n",
    "    \n",
    "def script():\n",
    "    \n",
    "    title = '### CLIRAD-LW'\n",
    "    s_input = 'Input Parameters'\n",
    "    s_lblnew_param = 'LBLNEW case compaired against'\n",
    "    s_bestfits = 'Best-fit Parameters'\n",
    "    s_plt_cooling = 'Cooling Rate Profiles'\n",
    "    s_tb_flux = 'Flux Comparison'\n",
    "    \n",
    "    # title\n",
    "    show_markdown('### CLIRAD-LW')\n",
    "    \n",
    "    # TOC\n",
    "    show_markdown('### Table of Contents')\n",
    "    show_html(climahtml.getHTML_hrefanchor(s_input))\n",
    "    show_html(climahtml.getHTML_hrefanchor(s_lblnew_param))\n",
    "    show_html(climahtml.getHTML_hrefanchor(s_plt_cooling))\n",
    "    show_html(climahtml.getHTML_hrefanchor(s_tb_flux))\n",
    "    show_html(climahtml.getHTML_hrefanchor(s_bestfits))\n",
    "    \n",
    "    # Input parameters\n",
    "    show_html(climahtml.getHTML_idanchor(s_input))\n",
    "    show_markdown(climahtml.getMarkdown_sectitle(s_input))\n",
    "    print_input_param()\n",
    "    \n",
    "    # LBLNEW parameters \n",
    "    show_html(climahtml.getHTML_idanchor(s_lblnew_param))\n",
    "    show_markdown(climahtml.getMarkdown_sectitle(s_lblnew_param))\n",
    "    print_lblnew_param()\n",
    "    \n",
    "    # Cooling rate profiles\n",
    "    show_html(climahtml.getHTML_idanchor(s_plt_cooling))\n",
    "    show_markdown(climahtml.getMarkdown_sectitle(s_plt_cooling))\n",
    "    script_plt_cooling()\n",
    "    \n",
    "    # Flux comparison\n",
    "    show_html(climahtml.getHTML_idanchor(s_tb_flux))\n",
    "    show_markdown(climahtml.getMarkdown_sectitle(s_tb_flux))\n",
    "    script_tb_flux()\n",
    "    \n",
    "    # Best-fit values\n",
    "    show_html(climahtml.getHTML_idanchor(s_bestfits))\n",
    "    show_markdown(climahtml.getMarkdown_sectitle(s_bestfits))\n",
    "    print_bestfit_params()\n",
    "   \n",
    "    "
   ]
  },
  {
   "cell_type": "code",
   "execution_count": 12,
   "metadata": {
    "collapsed": true,
    "scrolled": false
   },
   "outputs": [
    {
     "data": {
      "text/markdown": [
       "### CLIRAD-LW"
      ],
      "text/plain": [
       "<IPython.core.display.Markdown object>"
      ]
     },
     "metadata": {},
     "output_type": "display_data"
    },
    {
     "data": {
      "text/markdown": [
       "### Table of Contents"
      ],
      "text/plain": [
       "<IPython.core.display.Markdown object>"
      ]
     },
     "metadata": {},
     "output_type": "display_data"
    },
    {
     "data": {
      "text/html": [
       "<a href=\"#Input_Parameters\">Input Parameters</a>"
      ],
      "text/plain": [
       "<IPython.core.display.HTML object>"
      ]
     },
     "metadata": {},
     "output_type": "display_data"
    },
    {
     "data": {
      "text/html": [
       "<a href=\"#LBLNEW_case_compaired_against\">LBLNEW case compaired against</a>"
      ],
      "text/plain": [
       "<IPython.core.display.HTML object>"
      ]
     },
     "metadata": {},
     "output_type": "display_data"
    },
    {
     "data": {
      "text/html": [
       "<a href=\"#Cooling_Rate_Profiles\">Cooling Rate Profiles</a>"
      ],
      "text/plain": [
       "<IPython.core.display.HTML object>"
      ]
     },
     "metadata": {},
     "output_type": "display_data"
    },
    {
     "data": {
      "text/html": [
       "<a href=\"#Flux_Comparison\">Flux Comparison</a>"
      ],
      "text/plain": [
       "<IPython.core.display.HTML object>"
      ]
     },
     "metadata": {},
     "output_type": "display_data"
    },
    {
     "data": {
      "text/html": [
       "<a href=\"#Best-fit_Parameters\">Best-fit Parameters</a>"
      ],
      "text/plain": [
       "<IPython.core.display.HTML object>"
      ]
     },
     "metadata": {},
     "output_type": "display_data"
    },
    {
     "data": {
      "text/html": [
       "<a id=\"Input_Parameters\"></a>"
      ],
      "text/plain": [
       "<IPython.core.display.HTML object>"
      ]
     },
     "metadata": {},
     "output_type": "display_data"
    },
    {
     "data": {
      "text/markdown": [
       "# Input Parameters"
      ],
      "text/plain": [
       "<IPython.core.display.Markdown object>"
      ]
     },
     "metadata": {},
     "output_type": "display_data"
    },
    {
     "name": "stdout",
     "output_type": "stream",
     "text": [
      "commitnumber = de5d43e\n",
      "molecule = {'h2o': 'atmpro', 'co2': 0.0004}\n",
      "band = [5]\n",
      "atmpro = mls\n",
      "tsfc = 294\n"
     ]
    },
    {
     "data": {
      "text/html": [
       "<a id=\"LBLNEW_case_compaired_against\"></a>"
      ],
      "text/plain": [
       "<IPython.core.display.HTML object>"
      ]
     },
     "metadata": {},
     "output_type": "display_data"
    },
    {
     "data": {
      "text/markdown": [
       "# LBLNEW case compaired against"
      ],
      "text/plain": [
       "<IPython.core.display.Markdown object>"
      ]
     },
     "metadata": {},
     "output_type": "display_data"
    },
    {
     "name": "stdout",
     "output_type": "stream",
     "text": [
      "atmpro = mls\n",
      "band = 3c\n",
      "commitnumber = 5014a19\n",
      "dv = 0.001\n",
      "molecule = {'h2o': 'atmpro', 'co2': 0.0004}\n",
      "nv = 1000\n",
      "tsfc = 294\n"
     ]
    },
    {
     "data": {
      "text/html": [
       "<a id=\"Cooling_Rate_Profiles\"></a>"
      ],
      "text/plain": [
       "<IPython.core.display.HTML object>"
      ]
     },
     "metadata": {},
     "output_type": "display_data"
    },
    {
     "data": {
      "text/markdown": [
       "# Cooling Rate Profiles"
      ],
      "text/plain": [
       "<IPython.core.display.Markdown object>"
      ]
     },
     "metadata": {},
     "output_type": "display_data"
    },
    {
     "data": {
      "text/html": [
       "\n",
       "<div class=\"bk-root\">\n",
       "    <div class=\"bk-plotdiv\" id=\"c26d24d2-adb7-4625-a67c-9f6cb5f47dd3\"></div>\n",
       "</div>"
      ]
     },
     "metadata": {},
     "output_type": "display_data"
    },
    {
     "data": {
      "application/javascript": [
       "(function(root) {\n",
       "  function embed_document(root) {\n",
       "    \n",
       "  var docs_json = {\"df2b5a50-54d2-4d6b-a76f-4450c974eb4e\":{\"roots\":{\"references\":[{\"attributes\":{\"data_source\":{\"id\":\"08076202-af75-4713-8f0f-df29f68974b8\",\"type\":\"ColumnDataSource\"},\"glyph\":{\"id\":\"23c38d50-e11e-4660-9a25-1f65d663b2d5\",\"type\":\"Line\"},\"hover_glyph\":null,\"muted_glyph\":null,\"nonselection_glyph\":{\"id\":\"5b961191-72ff-45d7-969a-ef1d3b1d0721\",\"type\":\"Line\"},\"selection_glyph\":null,\"view\":{\"id\":\"134d55d9-a759-402c-b4c0-c50a5d8a80c5\",\"type\":\"CDSView\"}},\"id\":\"0139052a-0de4-4a7a-8e42-3a7341a7a06e\",\"type\":\"GlyphRenderer\"},{\"attributes\":{\"source\":{\"id\":\"55a3042d-754e-44b3-9102-81428035b73b\",\"type\":\"ColumnDataSource\"}},\"id\":\"b3d9e8b6-2330-4845-8aed-c0d2547e8327\",\"type\":\"CDSView\"},{\"attributes\":{\"bottom_units\":\"screen\",\"fill_alpha\":{\"value\":0.5},\"fill_color\":{\"value\":\"lightgrey\"},\"left_units\":\"screen\",\"level\":\"overlay\",\"line_alpha\":{\"value\":1.0},\"line_color\":{\"value\":\"black\"},\"line_dash\":[4,4],\"line_width\":{\"value\":2},\"plot\":null,\"render_mode\":\"css\",\"right_units\":\"screen\",\"top_units\":\"screen\"},\"id\":\"bc7ae2a0-bda1-4986-8e75-67c31f284239\",\"type\":\"BoxAnnotation\"},{\"attributes\":{\"fill_alpha\":{\"value\":0.1},\"fill_color\":{\"value\":\"#1f77b4\"},\"line_alpha\":{\"value\":0.1},\"line_color\":{\"value\":\"#1f77b4\"},\"x\":{\"field\":\"x\"},\"y\":{\"field\":\"y\"}},\"id\":\"84f5b1f9-2932-4f4f-8130-6b9c3071c4b4\",\"type\":\"Square\"},{\"attributes\":{\"dimension\":1,\"plot\":{\"id\":\"7e56c1be-1177-4c27-b5af-ee923f3557ae\",\"subtype\":\"Figure\",\"type\":\"Plot\"},\"ticker\":{\"id\":\"a975f677-c694-4525-aa08-9e8977072d68\",\"type\":\"LogTicker\"}},\"id\":\"28829ac3-50ab-4e46-bc62-00f0ca4c56f6\",\"type\":\"Grid\"},{\"attributes\":{\"data_source\":{\"id\":\"ef0d838c-8135-42c8-851c-2abaa32c2866\",\"type\":\"ColumnDataSource\"},\"glyph\":{\"id\":\"f1003329-d166-4ff1-be93-d9f5e9c4b5be\",\"type\":\"Line\"},\"hover_glyph\":null,\"muted_glyph\":null,\"nonselection_glyph\":{\"id\":\"4aaa329d-9d82-44b5-b47e-2812ba751fe4\",\"type\":\"Line\"},\"selection_glyph\":null,\"view\":{\"id\":\"41fd2920-9fb6-4b21-865f-40f641ca063a\",\"type\":\"CDSView\"}},\"id\":\"bab174cb-d079-4994-a56e-e12fb8713f08\",\"type\":\"GlyphRenderer\"},{\"attributes\":{},\"id\":\"00681140-2fa6-48f3-9bed-1c800428d0f3\",\"type\":\"PanTool\"},{\"attributes\":{},\"id\":\"d00e7d82-87a0-4bbc-8a45-e008169278c7\",\"type\":\"WheelZoomTool\"},{\"attributes\":{\"fill_alpha\":{\"value\":0.7},\"fill_color\":{\"value\":\"#984ea3\"},\"line_alpha\":{\"value\":0.7},\"line_color\":{\"value\":\"#984ea3\"},\"x\":{\"field\":\"x\"},\"y\":{\"field\":\"y\"}},\"id\":\"3591bf90-6baa-4718-8576-be9bc3186bac\",\"type\":\"Square\"},{\"attributes\":{\"overlay\":{\"id\":\"bc7ae2a0-bda1-4986-8e75-67c31f284239\",\"type\":\"BoxAnnotation\"}},\"id\":\"605cc7b8-0b21-4f7b-98fd-94f8c0c28c20\",\"type\":\"BoxZoomTool\"},{\"attributes\":{},\"id\":\"fb2664ae-bab0-404f-aae3-fdae452c3ccb\",\"type\":\"SaveTool\"},{\"attributes\":{\"callback\":null,\"data\":{\"x\":{\"__ndarray__\":\"+nEDV9yswz9UlRFyObnDPwbu5eN/F8U/hGQiIaEYxj/LzmjMoDHHPzychsnQCMg/rAncmY2+yD8Wwb064B3JP690wnTvG8k/LFs1GZ+TyD8J3NupkF3HP94UXpvwP8U/iLPHsC/+wT/yiOFVnIu6P1Bp8gQqsrM/AP4pVaLsuT8cDX0D1bfEPydRq7+Qm8o/+6O5X08Fzj9vEGv5mkjQP2vZlAqu4tI/cNy1xpii2T+QwlDizoDhP24wN4xAZOE/jBXze7Tb2j8zvWmfM47UPzeBM0KJINA/BrQ6WlHayT/a9smTnPrEP1C7iIQpqcA/C0RPyqSGuD9S84ByDjCwPy9j0CqvbKU/ecZtHeRBoD/n3pilaqmYP1oTXMNEN5A/zZcFfWO0hD9tIyLc6/t4P1016RzeWGG/8XE7btfPh7/l0vPMnSmIv1n/QurRr2C/P000pw5bfj/j5wMlrF2QP50Goq2eIZk/NrY39QrWoD+FhNRfQhSlP6KaL4IIaak/fxLcntnbrT/GpuHQZS6xP4znLOb5abM/9WJJNcN4tT9E2Wj0+2K3P2vgb/25Pbk/J+wNhIUPuz8fcJfcrOq8P03VoNx0074/FpDNwI6gwD9rosfW0NnBP9bTHmHeBMM/pb5uCacixD+Q/tEWWzHFPwZIVY8LOcY/qPytlbdAxz9o6CMZB1HIPypenxjdask/siGshPaDyj+9bJ6XSHHLP1KNLNMOA8w/E0xvXiAxzD9SZyjNairMP6fGrmFEKsw/EuNvWnRbzD+P1iDliv/MP5YYFYJmIc8/\",\"dtype\":\"float64\",\"shape\":[75]},\"y\":{\"__ndarray__\":\"GhExyth1ND/Sv8nbtpRIP2vylNV0PVE/aTum7souWD/At0SJ8fVgPw3Iuahxymc/MSNhhJWvcD/bTfBN02d3P2zb5nxnaoA/CD5h5MAGhz8NmeH1TyaQP+zrCsc9p5Y/LbKd76fGnz/bLW5ISEmmPww9YvTcQq8/JV2OstnstT8Er5Y7M8G+P0c+r3jqkcU/5h99k6ZBzj88bCIzFzjVP4enV8oyxN0//yH99nXg5D8qOpLLf0jtP5kqGJXUifQ/c9cS8kHP/D+/DpwzojQEQIEmwoanVwxA4lgXt9HgE0BSSZ2AJuIbQAMJih9jjiNA5q4l5INuK0AwTKYKRj0zQNv5fmq8/DpAaCJseHrtQkB/+zpwzoxKQM3MzMzMeFJAZmZmZmZqWEAAAAAAAFxeQM3MzMzMJmJAmpmZmZkfZUBmZmZmZhhoQDMzMzMzEWtAAAAAAAAKbkBmZmZmZoFwQM3MzMzM/XFAMzMzMzN6c0CamZmZmfZ0QAAAAAAAc3ZAZmZmZmbvd0DNzMzMzGt5QDMzMzMz6HpAmpmZmZlkfEAAAAAAAOF9QGZmZmZmXX9AZmZmZuZsgECamZmZGSuBQM3MzMxM6YFAAAAAAICngkAzMzMzs2WDQGZmZmbmI4RAmpmZmRnihEDNzMzMTKCFQAAAAACAXoZAMzMzM7Mch0BmZmZm5tqHQJqZmZkZmYhAzczMzExXiUAAAAAAgBWKQDMzMzOz04pAZmZmZuaRi0CamZmZGVCMQM3MzMxMDo1AAAAAAIDMjUAzMzMzs4qOQGZmZmbmSI9A\",\"dtype\":\"float64\",\"shape\":[75]}},\"selected\":{\"id\":\"976b8d7b-2a79-4eaf-830b-44f0a02cf351\",\"type\":\"Selection\"},\"selection_policy\":{\"id\":\"6a93cae4-b761-4b8e-9606-fc3f27ef7d51\",\"type\":\"UnionRenderers\"}},\"id\":\"6fc05281-14f0-43ee-92f0-4e5701fdc53a\",\"type\":\"ColumnDataSource\"},{\"attributes\":{},\"id\":\"3e50b966-dcad-46a7-bf6b-4572b0df16a9\",\"type\":\"ResetTool\"},{\"attributes\":{\"plot\":{\"id\":\"7e56c1be-1177-4c27-b5af-ee923f3557ae\",\"subtype\":\"Figure\",\"type\":\"Plot\"},\"ticker\":{\"id\":\"50c3589f-a6c9-4c8a-96b4-4c4c775cc435\",\"type\":\"BasicTicker\"}},\"id\":\"ed954617-eec4-47ce-b050-c306cc5af617\",\"type\":\"Grid\"},{\"attributes\":{\"source\":{\"id\":\"ef0d838c-8135-42c8-851c-2abaa32c2866\",\"type\":\"ColumnDataSource\"}},\"id\":\"41fd2920-9fb6-4b21-865f-40f641ca063a\",\"type\":\"CDSView\"},{\"attributes\":{},\"id\":\"1c66088f-4ec6-48e0-aef7-59ecf9ff93ad\",\"type\":\"HelpTool\"},{\"attributes\":{\"line_alpha\":0.1,\"line_color\":\"#1f77b4\",\"line_width\":1.5,\"x\":{\"field\":\"x\"},\"y\":{\"field\":\"y\"}},\"id\":\"4aaa329d-9d82-44b5-b47e-2812ba751fe4\",\"type\":\"Line\"},{\"attributes\":{\"callback\":null,\"data\":{\"x\":{\"__ndarray__\":\"3hqefzd00D/UIdwJm2bQP0mJdnh8+dA/oZcXgS2G0T+mSjGT6vPRPyTe8HFcPNI/x9lT9oZQ0j9uIxJDeiPSP5r2YmLSo9E/DT8wLvK+0D9n0gkV2sHOP5KgS3oQ6co/Pj4ALYbAxT8Z755uZhW+P6ohxY4zvrM/xFrk7fTCtz9HtJka09nCP5PzcpZhdcg/QJe6dUj7zD8Dht1eb+7QP/2zD0eRlNQ/pv8XlfWX2z/V9LCCpTviP7u89z/Zt+E/RK6KJgb32j/UOyacJ2jUP8wJ2uTwSc8/XeKn9aciyD+hoPOe8+jCP7AZQ60nwr0/sSU3zMiHtj8qcOJG8t6vPyrttAXpAac/Hl06IOjsoT+6eEffB5SZP7cfKGtfNo0/3fczsucPgD97ppliFYVyP9JLliCNzWG/vTJWONWchL8heWesdj+Dv+KlNf/bszk/fY/kveTigz8hhiU37daSP3pEYSRvEZw/z238aLydoj9tpQpYCDGnP+OWjOwV2as/B///WLhHsD+zDAQQXaGyP/rNv7tn7bQ/sHTHLakEtz8Nbt1gt+64P1CZcvASvbo/15d0rSB6vD9JI/KfZi++Py6QoPgx5r8/6i4/JggNwT/OgS+WMyXCP2R3oqDrLcM/LgIAU0gqxD+s6yfOFxzFP/azN3z7CMY/JPnfhCH2xj91ffaO4OfHP+0Ptenf4Mg/KGk4RGDVyT/EkIOvO5/KPy5uJzpgEcs/VIY3jP4nyz+lQ9BmDxPLP///gzikC8s/OM9DM3A8yz93aqr+c97LP01jQYJeD84/\",\"dtype\":\"float64\",\"shape\":[75]},\"y\":{\"__ndarray__\":\"GhExyth1ND/Sv8nbtpRIP2vylNV0PVE/aTum7souWD/At0SJ8fVgPw3Iuahxymc/MSNhhJWvcD/bTfBN02d3P2zb5nxnaoA/CD5h5MAGhz8NmeH1TyaQP+zrCsc9p5Y/LbKd76fGnz/bLW5ISEmmPww9YvTcQq8/JV2OstnstT8Er5Y7M8G+P0c+r3jqkcU/5h99k6ZBzj88bCIzFzjVP4enV8oyxN0//yH99nXg5D8qOpLLf0jtP5kqGJXUifQ/c9cS8kHP/D+/DpwzojQEQIEmwoanVwxA4lgXt9HgE0BSSZ2AJuIbQAMJih9jjiNA5q4l5INuK0AwTKYKRj0zQNv5fmq8/DpAaCJseHrtQkB/+zpwzoxKQM3MzMzMeFJAZmZmZmZqWEAAAAAAAFxeQM3MzMzMJmJAmpmZmZkfZUBmZmZmZhhoQDMzMzMzEWtAAAAAAAAKbkBmZmZmZoFwQM3MzMzM/XFAMzMzMzN6c0CamZmZmfZ0QAAAAAAAc3ZAZmZmZmbvd0DNzMzMzGt5QDMzMzMz6HpAmpmZmZlkfEAAAAAAAOF9QGZmZmZmXX9AZmZmZuZsgECamZmZGSuBQM3MzMxM6YFAAAAAAICngkAzMzMzs2WDQGZmZmbmI4RAmpmZmRnihEDNzMzMTKCFQAAAAACAXoZAMzMzM7Mch0BmZmZm5tqHQJqZmZkZmYhAzczMzExXiUAAAAAAgBWKQDMzMzOz04pAZmZmZuaRi0CamZmZGVCMQM3MzMxMDo1AAAAAAIDMjUAzMzMzs4qOQGZmZmbmSI9A\",\"dtype\":\"float64\",\"shape\":[75]}},\"selected\":{\"id\":\"eaaf82e8-ee82-4feb-bd32-4bb1eab9019c\",\"type\":\"Selection\"},\"selection_policy\":{\"id\":\"c538b1c4-5b21-4865-929d-322d549112e1\",\"type\":\"UnionRenderers\"}},\"id\":\"180d9f9f-3f42-45f6-a72e-f0b243043575\",\"type\":\"ColumnDataSource\"},{\"attributes\":{},\"id\":\"50c3589f-a6c9-4c8a-96b4-4c4c775cc435\",\"type\":\"BasicTicker\"},{\"attributes\":{\"data_source\":{\"id\":\"6fc05281-14f0-43ee-92f0-4e5701fdc53a\",\"type\":\"ColumnDataSource\"},\"glyph\":{\"id\":\"27e4f311-3400-4029-89b1-a0528a18f516\",\"type\":\"Line\"},\"hover_glyph\":null,\"muted_glyph\":null,\"nonselection_glyph\":{\"id\":\"e373bc71-27ff-4fe0-86fa-1ede3a00734c\",\"type\":\"Line\"},\"selection_glyph\":null,\"view\":{\"id\":\"8b162504-1f18-4a09-8668-f490f36d1791\",\"type\":\"CDSView\"}},\"id\":\"42d48d9a-dca8-4408-aa44-46bce1ceeef1\",\"type\":\"GlyphRenderer\"},{\"attributes\":{\"line_alpha\":0.1,\"line_color\":\"#1f77b4\",\"line_width\":3,\"x\":{\"field\":\"x\"},\"y\":{\"field\":\"y\"}},\"id\":\"5b961191-72ff-45d7-969a-ef1d3b1d0721\",\"type\":\"Line\"},{\"attributes\":{\"source\":{\"id\":\"180d9f9f-3f42-45f6-a72e-f0b243043575\",\"type\":\"ColumnDataSource\"}},\"id\":\"77085c75-09aa-4836-be5f-143af287d973\",\"type\":\"CDSView\"},{\"attributes\":{\"axis_label\":\"pressure [mb]\",\"formatter\":{\"id\":\"87142c25-1680-43f9-a405-e5c9c963911b\",\"type\":\"LogTickFormatter\"},\"plot\":{\"id\":\"7e56c1be-1177-4c27-b5af-ee923f3557ae\",\"subtype\":\"Figure\",\"type\":\"Plot\"},\"ticker\":{\"id\":\"a975f677-c694-4525-aa08-9e8977072d68\",\"type\":\"LogTicker\"}},\"id\":\"8c871cd1-6d87-4de8-a8dd-46ac64a50dec\",\"type\":\"LogAxis\"},{\"attributes\":{\"line_color\":\"#4daf4a\",\"line_width\":1.5,\"x\":{\"field\":\"x\"},\"y\":{\"field\":\"y\"}},\"id\":\"f1003329-d166-4ff1-be93-d9f5e9c4b5be\",\"type\":\"Line\"},{\"attributes\":{\"callback\":null,\"data\":{\"x\":{\"__ndarray__\":\"+nEDV9yswz9UlRFyObnDPwbu5eN/F8U/hGQiIaEYxj/LzmjMoDHHPzychsnQCMg/rAncmY2+yD8Wwb064B3JP690wnTvG8k/LFs1GZ+TyD8J3NupkF3HP94UXpvwP8U/iLPHsC/+wT/yiOFVnIu6P1Bp8gQqsrM/AP4pVaLsuT8cDX0D1bfEPydRq7+Qm8o/+6O5X08Fzj9vEGv5mkjQP2vZlAqu4tI/cNy1xpii2T+QwlDizoDhP24wN4xAZOE/jBXze7Tb2j8zvWmfM47UPzeBM0KJINA/BrQ6WlHayT/a9smTnPrEP1C7iIQpqcA/C0RPyqSGuD9S84ByDjCwPy9j0CqvbKU/ecZtHeRBoD/n3pilaqmYP1oTXMNEN5A/zZcFfWO0hD9tIyLc6/t4P1016RzeWGG/8XE7btfPh7/l0vPMnSmIv1n/QurRr2C/P000pw5bfj/j5wMlrF2QP50Goq2eIZk/NrY39QrWoD+FhNRfQhSlP6KaL4IIaak/fxLcntnbrT/GpuHQZS6xP4znLOb5abM/9WJJNcN4tT9E2Wj0+2K3P2vgb/25Pbk/J+wNhIUPuz8fcJfcrOq8P03VoNx0074/FpDNwI6gwD9rosfW0NnBP9bTHmHeBMM/pb5uCacixD+Q/tEWWzHFPwZIVY8LOcY/qPytlbdAxz9o6CMZB1HIPypenxjdask/siGshPaDyj+9bJ6XSHHLP1KNLNMOA8w/E0xvXiAxzD9SZyjNairMP6fGrmFEKsw/EuNvWnRbzD+P1iDliv/MP5YYFYJmIc8/\",\"dtype\":\"float64\",\"shape\":[75]},\"y\":{\"__ndarray__\":\"GhExyth1ND/Sv8nbtpRIP2vylNV0PVE/aTum7souWD/At0SJ8fVgPw3Iuahxymc/MSNhhJWvcD/bTfBN02d3P2zb5nxnaoA/CD5h5MAGhz8NmeH1TyaQP+zrCsc9p5Y/LbKd76fGnz/bLW5ISEmmPww9YvTcQq8/JV2OstnstT8Er5Y7M8G+P0c+r3jqkcU/5h99k6ZBzj88bCIzFzjVP4enV8oyxN0//yH99nXg5D8qOpLLf0jtP5kqGJXUifQ/c9cS8kHP/D+/DpwzojQEQIEmwoanVwxA4lgXt9HgE0BSSZ2AJuIbQAMJih9jjiNA5q4l5INuK0AwTKYKRj0zQNv5fmq8/DpAaCJseHrtQkB/+zpwzoxKQM3MzMzMeFJAZmZmZmZqWEAAAAAAAFxeQM3MzMzMJmJAmpmZmZkfZUBmZmZmZhhoQDMzMzMzEWtAAAAAAAAKbkBmZmZmZoFwQM3MzMzM/XFAMzMzMzN6c0CamZmZmfZ0QAAAAAAAc3ZAZmZmZmbvd0DNzMzMzGt5QDMzMzMz6HpAmpmZmZlkfEAAAAAAAOF9QGZmZmZmXX9AZmZmZuZsgECamZmZGSuBQM3MzMxM6YFAAAAAAICngkAzMzMzs2WDQGZmZmbmI4RAmpmZmRnihEDNzMzMTKCFQAAAAACAXoZAMzMzM7Mch0BmZmZm5tqHQJqZmZkZmYhAzczMzExXiUAAAAAAgBWKQDMzMzOz04pAZmZmZuaRi0CamZmZGVCMQM3MzMxMDo1AAAAAAIDMjUAzMzMzs4qOQGZmZmbmSI9A\",\"dtype\":\"float64\",\"shape\":[75]}},\"selected\":{\"id\":\"4d92186e-1b5e-4110-8a37-599a016453c7\",\"type\":\"Selection\"},\"selection_policy\":{\"id\":\"8b2d6a10-2d73-4bd9-9c97-ca7fe761da8e\",\"type\":\"UnionRenderers\"}},\"id\":\"55a3042d-754e-44b3-9102-81428035b73b\",\"type\":\"ColumnDataSource\"},{\"attributes\":{\"line_alpha\":0.1,\"line_color\":\"#1f77b4\",\"line_dash\":[6],\"line_width\":5,\"x\":{\"field\":\"x\"},\"y\":{\"field\":\"y\"}},\"id\":\"0b28d856-454f-4c91-9226-008f931174e1\",\"type\":\"Line\"},{\"attributes\":{\"axis_label\":\"cooling rate [K/day]\",\"formatter\":{\"id\":\"b1e771ba-0e0e-46fc-bba5-b8e3d9db56a9\",\"type\":\"BasicTickFormatter\"},\"plot\":{\"id\":\"7e56c1be-1177-4c27-b5af-ee923f3557ae\",\"subtype\":\"Figure\",\"type\":\"Plot\"},\"ticker\":{\"id\":\"50c3589f-a6c9-4c8a-96b4-4c4c775cc435\",\"type\":\"BasicTicker\"}},\"id\":\"01ef3a95-8dd4-40a7-8e85-1f6ebdb34c24\",\"type\":\"LinearAxis\"},{\"attributes\":{},\"id\":\"b8100d27-654d-4025-bbd1-9bb5feec6c80\",\"type\":\"LogScale\"},{\"attributes\":{\"line_alpha\":0.6,\"line_color\":\"#e41a1c\",\"line_dash\":[6],\"line_width\":5,\"x\":{\"field\":\"x\"},\"y\":{\"field\":\"y\"}},\"id\":\"d8d5a61a-cece-4ed1-8fa1-a12e445eab72\",\"type\":\"Line\"},{\"attributes\":{\"callback\":null,\"end\":0.57560515732,\"start\":-0.01845174932},\"id\":\"f9f0fb97-738b-4d6e-b5ba-508beb40b01d\",\"type\":\"Range1d\"},{\"attributes\":{\"source\":{\"id\":\"6fc05281-14f0-43ee-92f0-4e5701fdc53a\",\"type\":\"ColumnDataSource\"}},\"id\":\"8b162504-1f18-4a09-8668-f490f36d1791\",\"type\":\"CDSView\"},{\"attributes\":{\"callback\":null,\"data\":{\"x\":{\"__ndarray__\":\"3hqefzd00D/UIdwJm2bQP0mJdnh8+dA/oZcXgS2G0T+mSjGT6vPRPyTe8HFcPNI/x9lT9oZQ0j9uIxJDeiPSP5r2YmLSo9E/DT8wLvK+0D9n0gkV2sHOP5KgS3oQ6co/Pj4ALYbAxT8Z755uZhW+P6ohxY4zvrM/xFrk7fTCtz9HtJka09nCP5PzcpZhdcg/QJe6dUj7zD8Dht1eb+7QP/2zD0eRlNQ/pv8XlfWX2z/V9LCCpTviP7u89z/Zt+E/RK6KJgb32j/UOyacJ2jUP8wJ2uTwSc8/XeKn9aciyD+hoPOe8+jCP7AZQ60nwr0/sSU3zMiHtj8qcOJG8t6vPyrttAXpAac/Hl06IOjsoT+6eEffB5SZP7cfKGtfNo0/3fczsucPgD97ppliFYVyP9JLliCNzWG/vTJWONWchL8heWesdj+Dv+KlNf/bszk/fY/kveTigz8hhiU37daSP3pEYSRvEZw/z238aLydoj9tpQpYCDGnP+OWjOwV2as/B///WLhHsD+zDAQQXaGyP/rNv7tn7bQ/sHTHLakEtz8Nbt1gt+64P1CZcvASvbo/15d0rSB6vD9JI/KfZi++Py6QoPgx5r8/6i4/JggNwT/OgS+WMyXCP2R3oqDrLcM/LgIAU0gqxD+s6yfOFxzFP/azN3z7CMY/JPnfhCH2xj91ffaO4OfHP+0Ptenf4Mg/KGk4RGDVyT/EkIOvO5/KPy5uJzpgEcs/VIY3jP4nyz+lQ9BmDxPLP///gzikC8s/OM9DM3A8yz93aqr+c97LP01jQYJeD84/\",\"dtype\":\"float64\",\"shape\":[75]},\"y\":{\"__ndarray__\":\"GhExyth1ND/Sv8nbtpRIP2vylNV0PVE/aTum7souWD/At0SJ8fVgPw3Iuahxymc/MSNhhJWvcD/bTfBN02d3P2zb5nxnaoA/CD5h5MAGhz8NmeH1TyaQP+zrCsc9p5Y/LbKd76fGnz/bLW5ISEmmPww9YvTcQq8/JV2OstnstT8Er5Y7M8G+P0c+r3jqkcU/5h99k6ZBzj88bCIzFzjVP4enV8oyxN0//yH99nXg5D8qOpLLf0jtP5kqGJXUifQ/c9cS8kHP/D+/DpwzojQEQIEmwoanVwxA4lgXt9HgE0BSSZ2AJuIbQAMJih9jjiNA5q4l5INuK0AwTKYKRj0zQNv5fmq8/DpAaCJseHrtQkB/+zpwzoxKQM3MzMzMeFJAZmZmZmZqWEAAAAAAAFxeQM3MzMzMJmJAmpmZmZkfZUBmZmZmZhhoQDMzMzMzEWtAAAAAAAAKbkBmZmZmZoFwQM3MzMzM/XFAMzMzMzN6c0CamZmZmfZ0QAAAAAAAc3ZAZmZmZmbvd0DNzMzMzGt5QDMzMzMz6HpAmpmZmZlkfEAAAAAAAOF9QGZmZmZmXX9AZmZmZuZsgECamZmZGSuBQM3MzMxM6YFAAAAAAICngkAzMzMzs2WDQGZmZmbmI4RAmpmZmRnihEDNzMzMTKCFQAAAAACAXoZAMzMzM7Mch0BmZmZm5tqHQJqZmZkZmYhAzczMzExXiUAAAAAAgBWKQDMzMzOz04pAZmZmZuaRi0CamZmZGVCMQM3MzMxMDo1AAAAAAIDMjUAzMzMzs4qOQGZmZmbmSI9A\",\"dtype\":\"float64\",\"shape\":[75]}},\"selected\":{\"id\":\"0a33f684-d23b-4d46-ac56-d4eb08669061\",\"type\":\"Selection\"},\"selection_policy\":{\"id\":\"ad8572b5-7d3d-4396-b6ed-b3604c0798ff\",\"type\":\"UnionRenderers\"}},\"id\":\"ef0d838c-8135-42c8-851c-2abaa32c2866\",\"type\":\"ColumnDataSource\"},{\"attributes\":{},\"id\":\"e02dee9c-56a3-44b9-8674-454ae3ccdcf4\",\"type\":\"LinearScale\"},{\"attributes\":{\"fill_alpha\":{\"value\":0.7},\"fill_color\":{\"value\":\"#4daf4a\"},\"line_alpha\":{\"value\":0.7},\"line_color\":{\"value\":\"#4daf4a\"},\"x\":{\"field\":\"x\"},\"y\":{\"field\":\"y\"}},\"id\":\"71512f82-b6cb-46cd-95cc-d97b5a691a37\",\"type\":\"Circle\"},{\"attributes\":{\"callback\":null,\"end\":0.01,\"start\":1020},\"id\":\"0c53138e-e3f0-4e4b-8512-c37f88da9160\",\"type\":\"Range1d\"},{\"attributes\":{\"source\":{\"id\":\"08076202-af75-4713-8f0f-df29f68974b8\",\"type\":\"ColumnDataSource\"}},\"id\":\"134d55d9-a759-402c-b4c0-c50a5d8a80c5\",\"type\":\"CDSView\"},{\"attributes\":{\"num_minor_ticks\":10},\"id\":\"a975f677-c694-4525-aa08-9e8977072d68\",\"type\":\"LogTicker\"},{\"attributes\":{\"data_source\":{\"id\":\"180d9f9f-3f42-45f6-a72e-f0b243043575\",\"type\":\"ColumnDataSource\"},\"glyph\":{\"id\":\"71512f82-b6cb-46cd-95cc-d97b5a691a37\",\"type\":\"Circle\"},\"hover_glyph\":null,\"muted_glyph\":null,\"nonselection_glyph\":{\"id\":\"cede1ea5-c4fc-49c2-b79f-e02dce6971f8\",\"type\":\"Circle\"},\"selection_glyph\":null,\"view\":{\"id\":\"77085c75-09aa-4836-be5f-143af287d973\",\"type\":\"CDSView\"}},\"id\":\"e16fa83b-a45f-403a-9aac-26c586c38324\",\"type\":\"GlyphRenderer\"},{\"attributes\":{\"line_alpha\":0.6,\"line_color\":\"#984ea3\",\"line_width\":3,\"x\":{\"field\":\"x\"},\"y\":{\"field\":\"y\"}},\"id\":\"23c38d50-e11e-4660-9a25-1f65d663b2d5\",\"type\":\"Line\"},{\"attributes\":{\"line_alpha\":0.1,\"line_color\":\"#1f77b4\",\"line_width\":3,\"x\":{\"field\":\"x\"},\"y\":{\"field\":\"y\"}},\"id\":\"e373bc71-27ff-4fe0-86fa-1ede3a00734c\",\"type\":\"Line\"},{\"attributes\":{\"callback\":null,\"data\":{\"x\":{\"__ndarray__\":\"3hqefzd00D/UIdwJm2bQP0mJdnh8+dA/oZcXgS2G0T+mSjGT6vPRPyTe8HFcPNI/x9lT9oZQ0j9uIxJDeiPSP5r2YmLSo9E/DT8wLvK+0D9n0gkV2sHOP5KgS3oQ6co/Pj4ALYbAxT8Z755uZhW+P6ohxY4zvrM/xFrk7fTCtz9HtJka09nCP5PzcpZhdcg/QJe6dUj7zD8Dht1eb+7QP/2zD0eRlNQ/pv8XlfWX2z/V9LCCpTviP7u89z/Zt+E/RK6KJgb32j/UOyacJ2jUP8wJ2uTwSc8/XeKn9aciyD+hoPOe8+jCP7AZQ60nwr0/sSU3zMiHtj8qcOJG8t6vPyrttAXpAac/Hl06IOjsoT+6eEffB5SZP7cfKGtfNo0/3fczsucPgD97ppliFYVyP9JLliCNzWG/vTJWONWchL8heWesdj+Dv+KlNf/bszk/fY/kveTigz8hhiU37daSP3pEYSRvEZw/z238aLydoj9tpQpYCDGnP+OWjOwV2as/B///WLhHsD+zDAQQXaGyP/rNv7tn7bQ/sHTHLakEtz8Nbt1gt+64P1CZcvASvbo/15d0rSB6vD9JI/KfZi++Py6QoPgx5r8/6i4/JggNwT/OgS+WMyXCP2R3oqDrLcM/LgIAU0gqxD+s6yfOFxzFP/azN3z7CMY/JPnfhCH2xj91ffaO4OfHP+0Ptenf4Mg/KGk4RGDVyT/EkIOvO5/KPy5uJzpgEcs/VIY3jP4nyz+lQ9BmDxPLP///gzikC8s/OM9DM3A8yz93aqr+c97LP01jQYJeD84/\",\"dtype\":\"float64\",\"shape\":[75]},\"y\":{\"__ndarray__\":\"GhExyth1ND/Sv8nbtpRIP2vylNV0PVE/aTum7souWD/At0SJ8fVgPw3Iuahxymc/MSNhhJWvcD/bTfBN02d3P2zb5nxnaoA/CD5h5MAGhz8NmeH1TyaQP+zrCsc9p5Y/LbKd76fGnz/bLW5ISEmmPww9YvTcQq8/JV2OstnstT8Er5Y7M8G+P0c+r3jqkcU/5h99k6ZBzj88bCIzFzjVP4enV8oyxN0//yH99nXg5D8qOpLLf0jtP5kqGJXUifQ/c9cS8kHP/D+/DpwzojQEQIEmwoanVwxA4lgXt9HgE0BSSZ2AJuIbQAMJih9jjiNA5q4l5INuK0AwTKYKRj0zQNv5fmq8/DpAaCJseHrtQkB/+zpwzoxKQM3MzMzMeFJAZmZmZmZqWEAAAAAAAFxeQM3MzMzMJmJAmpmZmZkfZUBmZmZmZhhoQDMzMzMzEWtAAAAAAAAKbkBmZmZmZoFwQM3MzMzM/XFAMzMzMzN6c0CamZmZmfZ0QAAAAAAAc3ZAZmZmZmbvd0DNzMzMzGt5QDMzMzMz6HpAmpmZmZlkfEAAAAAAAOF9QGZmZmZmXX9AZmZmZuZsgECamZmZGSuBQM3MzMxM6YFAAAAAAICngkAzMzMzs2WDQGZmZmbmI4RAmpmZmRnihEDNzMzMTKCFQAAAAACAXoZAMzMzM7Mch0BmZmZm5tqHQJqZmZkZmYhAzczMzExXiUAAAAAAgBWKQDMzMzOz04pAZmZmZuaRi0CamZmZGVCMQM3MzMxMDo1AAAAAAIDMjUAzMzMzs4qOQGZmZmbmSI9A\",\"dtype\":\"float64\",\"shape\":[75]}},\"selected\":{\"id\":\"d468a8b7-0ee7-49dc-925e-52ff38195a37\",\"type\":\"Selection\"},\"selection_policy\":{\"id\":\"53b30c9c-1c7f-4b7a-b2a0-559681a5ad23\",\"type\":\"UnionRenderers\"}},\"id\":\"15fbbc71-0829-4fb7-9801-8949533aa32f\",\"type\":\"ColumnDataSource\"},{\"attributes\":{\"line_alpha\":0.6,\"line_color\":\"#984ea3\",\"line_width\":3,\"x\":{\"field\":\"x\"},\"y\":{\"field\":\"y\"}},\"id\":\"27e4f311-3400-4029-89b1-a0528a18f516\",\"type\":\"Line\"},{\"attributes\":{\"plot\":null,\"text\":\"Log pressure scale\"},\"id\":\"11b6b2c2-ab6e-4d60-ace6-4d93cc5788b3\",\"type\":\"Title\"},{\"attributes\":{\"callback\":null,\"data\":{\"x\":{\"__ndarray__\":\"+nEDV9yswz9UlRFyObnDPwbu5eN/F8U/hGQiIaEYxj/LzmjMoDHHPzychsnQCMg/rAncmY2+yD8Wwb064B3JP690wnTvG8k/LFs1GZ+TyD8J3NupkF3HP94UXpvwP8U/iLPHsC/+wT/yiOFVnIu6P1Bp8gQqsrM/AP4pVaLsuT8cDX0D1bfEPydRq7+Qm8o/+6O5X08Fzj9vEGv5mkjQP2vZlAqu4tI/cNy1xpii2T+QwlDizoDhP24wN4xAZOE/jBXze7Tb2j8zvWmfM47UPzeBM0KJINA/BrQ6WlHayT/a9smTnPrEP1C7iIQpqcA/C0RPyqSGuD9S84ByDjCwPy9j0CqvbKU/ecZtHeRBoD/n3pilaqmYP1oTXMNEN5A/zZcFfWO0hD9tIyLc6/t4P1016RzeWGG/8XE7btfPh7/l0vPMnSmIv1n/QurRr2C/P000pw5bfj/j5wMlrF2QP50Goq2eIZk/NrY39QrWoD+FhNRfQhSlP6KaL4IIaak/fxLcntnbrT/GpuHQZS6xP4znLOb5abM/9WJJNcN4tT9E2Wj0+2K3P2vgb/25Pbk/J+wNhIUPuz8fcJfcrOq8P03VoNx0074/FpDNwI6gwD9rosfW0NnBP9bTHmHeBMM/pb5uCacixD+Q/tEWWzHFPwZIVY8LOcY/qPytlbdAxz9o6CMZB1HIPypenxjdask/siGshPaDyj+9bJ6XSHHLP1KNLNMOA8w/E0xvXiAxzD9SZyjNairMP6fGrmFEKsw/EuNvWnRbzD+P1iDliv/MP5YYFYJmIc8/\",\"dtype\":\"float64\",\"shape\":[75]},\"y\":{\"__ndarray__\":\"GhExyth1ND/Sv8nbtpRIP2vylNV0PVE/aTum7souWD/At0SJ8fVgPw3Iuahxymc/MSNhhJWvcD/bTfBN02d3P2zb5nxnaoA/CD5h5MAGhz8NmeH1TyaQP+zrCsc9p5Y/LbKd76fGnz/bLW5ISEmmPww9YvTcQq8/JV2OstnstT8Er5Y7M8G+P0c+r3jqkcU/5h99k6ZBzj88bCIzFzjVP4enV8oyxN0//yH99nXg5D8qOpLLf0jtP5kqGJXUifQ/c9cS8kHP/D+/DpwzojQEQIEmwoanVwxA4lgXt9HgE0BSSZ2AJuIbQAMJih9jjiNA5q4l5INuK0AwTKYKRj0zQNv5fmq8/DpAaCJseHrtQkB/+zpwzoxKQM3MzMzMeFJAZmZmZmZqWEAAAAAAAFxeQM3MzMzMJmJAmpmZmZkfZUBmZmZmZhhoQDMzMzMzEWtAAAAAAAAKbkBmZmZmZoFwQM3MzMzM/XFAMzMzMzN6c0CamZmZmfZ0QAAAAAAAc3ZAZmZmZmbvd0DNzMzMzGt5QDMzMzMz6HpAmpmZmZlkfEAAAAAAAOF9QGZmZmZmXX9AZmZmZuZsgECamZmZGSuBQM3MzMxM6YFAAAAAAICngkAzMzMzs2WDQGZmZmbmI4RAmpmZmRnihEDNzMzMTKCFQAAAAACAXoZAMzMzM7Mch0BmZmZm5tqHQJqZmZkZmYhAzczMzExXiUAAAAAAgBWKQDMzMzOz04pAZmZmZuaRi0CamZmZGVCMQM3MzMxMDo1AAAAAAIDMjUAzMzMzs4qOQGZmZmbmSI9A\",\"dtype\":\"float64\",\"shape\":[75]}},\"selected\":{\"id\":\"c0f76101-563c-411d-a397-ab89503c2eb0\",\"type\":\"Selection\"},\"selection_policy\":{\"id\":\"993e7b20-83eb-4766-8fa3-b239ff183d06\",\"type\":\"UnionRenderers\"}},\"id\":\"08076202-af75-4713-8f0f-df29f68974b8\",\"type\":\"ColumnDataSource\"},{\"attributes\":{\"line_alpha\":0.6,\"line_color\":\"#e41a1c\",\"line_dash\":[6],\"line_width\":5,\"x\":{\"field\":\"x\"},\"y\":{\"field\":\"y\"}},\"id\":\"10dbdb94-7eb9-4f8d-88c4-43bac40da4a3\",\"type\":\"Line\"},{\"attributes\":{\"source\":{\"id\":\"dd35af25-afb4-47e5-a106-c7d8c4a29fb6\",\"type\":\"ColumnDataSource\"}},\"id\":\"51dbac14-5a31-4323-965b-766028d46258\",\"type\":\"CDSView\"},{\"attributes\":{\"items\":[{\"id\":\"17f8e370-f87e-4921-9130-65dddd86b43d\",\"type\":\"LegendItem\"},{\"id\":\"47576cb8-5e71-4e72-aaed-a11ee805884a\",\"type\":\"LegendItem\"},{\"id\":\"159d6233-3c25-470e-bc45-5ed45527ed3c\",\"type\":\"LegendItem\"}],\"label_text_font_size\":{\"value\":\"8pt\"},\"location\":[10,-30],\"plot\":{\"id\":\"7e56c1be-1177-4c27-b5af-ee923f3557ae\",\"subtype\":\"Figure\",\"type\":\"Plot\"}},\"id\":\"80fc314a-39a2-4bd1-aff6-c5ad41368727\",\"type\":\"Legend\"},{\"attributes\":{\"fill_alpha\":{\"value\":0.1},\"fill_color\":{\"value\":\"#1f77b4\"},\"line_alpha\":{\"value\":0.1},\"line_color\":{\"value\":\"#1f77b4\"},\"x\":{\"field\":\"x\"},\"y\":{\"field\":\"y\"}},\"id\":\"cede1ea5-c4fc-49c2-b79f-e02dce6971f8\",\"type\":\"Circle\"},{\"attributes\":{\"callback\":null,\"data\":{\"x\":{\"__ndarray__\":\"RXec5D+Luj+wnd57ble7P1n4XYVSg70/QgKIswnNvz9UXbhaxAPBP64s0VlmEcI/XDJ19EsGwz86ygOJ1NHDP+xEMKsDYsQ/4VOtQz2WxD/N2rektEjEP0v5WuGnO8M/KHA+t8gkwT/ee9GBWV+7P6g9EwQJtrY/V5xivIMrvj/IjY0GESXHP/PsbnVr38w/CNPm7invzj9Anyu+X1TPP63CA1ZQidE/xIYbrt2P2D/NiWYzwU/hP9NoUSMdc+E/0qXBZfxY2z/QUmgPavXUPzPFudlhhNA/9HZ8YjqAyj8DQFdTQHfFP9HXoO2gq8A/proLiqLktz8HU0a8ckauPzVMDziCvKI/cxND386fmz9JQ7t6ffyVP9qLhJDVqI0/B7d22IQ4gj8rrm890VBzPzbsDM5GQGu/Hbu9BKSGib9JAIUaiNyJv/wMlMF9l2y/1kLigXXadj8oLbcP1ISMPzQN/DvqzpY/ZRj7uww5nz+yNBOzLtOjP9ODcyeHOKg/ZOcFiQHTrD8Iv/1OzcSwPwL8KisTH7M/J+F3EJFTtT8Xyp4RYGm3P/upxlLxbbk/corQAMVluz8kHwWZrnG9P2Ax0b3ak78/q0OoMaUewT/yuOLBmnPCP+K87mO7scM/L0oSfLrXxD8iWdmhDunFP0eL2MzG78Y/IqOHylT7xz+HSivXPhHJPwyn1D6AOco/El6KxGdfyz/iBjpiRlvMP15mlgwZ8sw/4rWm1IAczT+Qp4Ld8gnNPyWTdEms98w/EU0kwekXzT+brXrIrazNP3976MyHsc8/\",\"dtype\":\"float64\",\"shape\":[75]},\"y\":{\"__ndarray__\":\"S/O/Q+51ND/Sv8nbtpRIP2vylNV0PVE/aTum7souWD/At0SJ8fVgPw3Iuahxymc/MSNhhJWvcD/bTfBN02d3P2zb5nxnaoA/CD5h5MAGhz8NmeH1TyaQP+zrCsc9p5Y/LbKd76fGnz/bLW5ISEmmPww9YvTcQq8/JV2OstnstT8Er5Y7M8G+P0c+r3jqkcU/5h99k6ZBzj88bCIzFzjVP4enV8oyxN0//yH99nXg5D8qOpLLf0jtP5kqGJXUifQ/c9cS8kHP/D+/DpwzojQEQIEmwoanVwxA4lgXt9HgE0BSSZ2AJuIbQAMJih9jjiNA5q4l5INuK0AwTKYKRj0zQNv5fmq8/DpAaCJseHrtQkB/+zpwzoxKQM3MzMzMeFJAZmZmZmZqWEAAAAAAAFxeQM3MzMzMJmJAmpmZmZkfZUBmZmZmZhhoQDMzMzMzEWtAAAAAAAAKbkBmZmZmZoFwQM3MzMzM/XFAMzMzMzN6c0CamZmZmfZ0QAAAAAAAc3ZAZmZmZmbvd0DNzMzMzGt5QDMzMzMz6HpAmpmZmZlkfEAAAAAAAOF9QGZmZmZmXX9AZmZmZuZsgECamZmZGSuBQM3MzMxM6YFAAAAAAICngkAzMzMzs2WDQGZmZmbmI4RAmpmZmRnihEDNzMzMTKCFQAAAAACAXoZAMzMzM7Mch0BmZmZm5tqHQJqZmZkZmYhAzczMzExXiUAAAAAAgBWKQDMzMzOz04pAZmZmZuaRi0CamZmZGVCMQM3MzMxMDo1AAAAAAIDMjUAzMzMzs4qOQGZmZmbmSI9A\",\"dtype\":\"float64\",\"shape\":[75]}},\"selected\":{\"id\":\"a65a205a-86af-4a2e-b74a-7e95a89ffed2\",\"type\":\"Selection\"},\"selection_policy\":{\"id\":\"0a8dbc84-f796-477f-93c1-baa8eedc9f51\",\"type\":\"UnionRenderers\"}},\"id\":\"dd35af25-afb4-47e5-a106-c7d8c4a29fb6\",\"type\":\"ColumnDataSource\"},{\"attributes\":{\"fill_alpha\":{\"value\":0.7},\"fill_color\":{\"value\":\"#4daf4a\"},\"line_alpha\":{\"value\":0.7},\"line_color\":{\"value\":\"#4daf4a\"},\"x\":{\"field\":\"x\"},\"y\":{\"field\":\"y\"}},\"id\":\"8053338e-630e-4592-848b-a6ade8812fd6\",\"type\":\"Circle\"},{\"attributes\":{\"data_source\":{\"id\":\"55a3042d-754e-44b3-9102-81428035b73b\",\"type\":\"ColumnDataSource\"},\"glyph\":{\"id\":\"3591bf90-6baa-4718-8576-be9bc3186bac\",\"type\":\"Square\"},\"hover_glyph\":null,\"muted_glyph\":null,\"nonselection_glyph\":{\"id\":\"84f5b1f9-2932-4f4f-8130-6b9c3071c4b4\",\"type\":\"Square\"},\"selection_glyph\":null,\"view\":{\"id\":\"b3d9e8b6-2330-4845-8aed-c0d2547e8327\",\"type\":\"CDSView\"}},\"id\":\"ef109012-b29b-4be8-a772-0dcfada503cf\",\"type\":\"GlyphRenderer\"},{\"attributes\":{\"source\":{\"id\":\"d476ad0d-8a7c-4f75-a4d5-8f00e26e0571\",\"type\":\"ColumnDataSource\"}},\"id\":\"3e1447ed-a4e7-48ef-a3dc-7fd064f426e7\",\"type\":\"CDSView\"},{\"attributes\":{\"active_drag\":\"auto\",\"active_inspect\":\"auto\",\"active_scroll\":\"auto\",\"active_tap\":\"auto\",\"tools\":[{\"id\":\"00681140-2fa6-48f3-9bed-1c800428d0f3\",\"type\":\"PanTool\"},{\"id\":\"d00e7d82-87a0-4bbc-8a45-e008169278c7\",\"type\":\"WheelZoomTool\"},{\"id\":\"605cc7b8-0b21-4f7b-98fd-94f8c0c28c20\",\"type\":\"BoxZoomTool\"},{\"id\":\"fb2664ae-bab0-404f-aae3-fdae452c3ccb\",\"type\":\"SaveTool\"},{\"id\":\"3e50b966-dcad-46a7-bf6b-4572b0df16a9\",\"type\":\"ResetTool\"},{\"id\":\"1c66088f-4ec6-48e0-aef7-59ecf9ff93ad\",\"type\":\"HelpTool\"}]},\"id\":\"c67e6ec1-cdd2-4256-804a-bcf59c0d4de5\",\"type\":\"Toolbar\"},{\"attributes\":{\"data_source\":{\"id\":\"dd35af25-afb4-47e5-a106-c7d8c4a29fb6\",\"type\":\"ColumnDataSource\"},\"glyph\":{\"id\":\"d8d5a61a-cece-4ed1-8fa1-a12e445eab72\",\"type\":\"Line\"},\"hover_glyph\":null,\"muted_glyph\":null,\"nonselection_glyph\":{\"id\":\"0b28d856-454f-4c91-9226-008f931174e1\",\"type\":\"Line\"},\"selection_glyph\":null,\"view\":{\"id\":\"51dbac14-5a31-4323-965b-766028d46258\",\"type\":\"CDSView\"}},\"id\":\"71994c87-630e-4eb6-a060-38299e682c26\",\"type\":\"GlyphRenderer\"},{\"attributes\":{\"callback\":null,\"data\":{\"x\":{\"__ndarray__\":\"3hqefzd00D/UIdwJm2bQP0mJdnh8+dA/oZcXgS2G0T+mSjGT6vPRPyTe8HFcPNI/x9lT9oZQ0j9uIxJDeiPSP5r2YmLSo9E/DT8wLvK+0D9n0gkV2sHOP5KgS3oQ6co/Pj4ALYbAxT8Z755uZhW+P6ohxY4zvrM/xFrk7fTCtz9HtJka09nCP5PzcpZhdcg/QJe6dUj7zD8Dht1eb+7QP/2zD0eRlNQ/pv8XlfWX2z/V9LCCpTviP7u89z/Zt+E/RK6KJgb32j/UOyacJ2jUP8wJ2uTwSc8/XeKn9aciyD+hoPOe8+jCP7AZQ60nwr0/sSU3zMiHtj8qcOJG8t6vPyrttAXpAac/Hl06IOjsoT+6eEffB5SZP7cfKGtfNo0/3fczsucPgD97ppliFYVyP9JLliCNzWG/vTJWONWchL8heWesdj+Dv+KlNf/bszk/fY/kveTigz8hhiU37daSP3pEYSRvEZw/z238aLydoj9tpQpYCDGnP+OWjOwV2as/B///WLhHsD+zDAQQXaGyP/rNv7tn7bQ/sHTHLakEtz8Nbt1gt+64P1CZcvASvbo/15d0rSB6vD9JI/KfZi++Py6QoPgx5r8/6i4/JggNwT/OgS+WMyXCP2R3oqDrLcM/LgIAU0gqxD+s6yfOFxzFP/azN3z7CMY/JPnfhCH2xj91ffaO4OfHP+0Ptenf4Mg/KGk4RGDVyT/EkIOvO5/KPy5uJzpgEcs/VIY3jP4nyz+lQ9BmDxPLP///gzikC8s/OM9DM3A8yz93aqr+c97LP01jQYJeD84/\",\"dtype\":\"float64\",\"shape\":[75]},\"y\":{\"__ndarray__\":\"GhExyth1ND/Sv8nbtpRIP2vylNV0PVE/aTum7souWD/At0SJ8fVgPw3Iuahxymc/MSNhhJWvcD/bTfBN02d3P2zb5nxnaoA/CD5h5MAGhz8NmeH1TyaQP+zrCsc9p5Y/LbKd76fGnz/bLW5ISEmmPww9YvTcQq8/JV2OstnstT8Er5Y7M8G+P0c+r3jqkcU/5h99k6ZBzj88bCIzFzjVP4enV8oyxN0//yH99nXg5D8qOpLLf0jtP5kqGJXUifQ/c9cS8kHP/D+/DpwzojQEQIEmwoanVwxA4lgXt9HgE0BSSZ2AJuIbQAMJih9jjiNA5q4l5INuK0AwTKYKRj0zQNv5fmq8/DpAaCJseHrtQkB/+zpwzoxKQM3MzMzMeFJAZmZmZmZqWEAAAAAAAFxeQM3MzMzMJmJAmpmZmZkfZUBmZmZmZhhoQDMzMzMzEWtAAAAAAAAKbkBmZmZmZoFwQM3MzMzM/XFAMzMzMzN6c0CamZmZmfZ0QAAAAAAAc3ZAZmZmZmbvd0DNzMzMzGt5QDMzMzMz6HpAmpmZmZlkfEAAAAAAAOF9QGZmZmZmXX9AZmZmZuZsgECamZmZGSuBQM3MzMxM6YFAAAAAAICngkAzMzMzs2WDQGZmZmbmI4RAmpmZmRnihEDNzMzMTKCFQAAAAACAXoZAMzMzM7Mch0BmZmZm5tqHQJqZmZkZmYhAzczMzExXiUAAAAAAgBWKQDMzMzOz04pAZmZmZuaRi0CamZmZGVCMQM3MzMxMDo1AAAAAAIDMjUAzMzMzs4qOQGZmZmbmSI9A\",\"dtype\":\"float64\",\"shape\":[75]}},\"selected\":{\"id\":\"bf95ec72-8f84-4d54-a12d-ff7e74d9b255\",\"type\":\"Selection\"},\"selection_policy\":{\"id\":\"3c5e8ec5-84b8-47cb-815a-48c53bdc5d07\",\"type\":\"UnionRenderers\"}},\"id\":\"d748f9d2-626e-44cc-98a9-2c0cca63a7a0\",\"type\":\"ColumnDataSource\"},{\"attributes\":{\"data_source\":{\"id\":\"d748f9d2-626e-44cc-98a9-2c0cca63a7a0\",\"type\":\"ColumnDataSource\"},\"glyph\":{\"id\":\"b647849b-82aa-4b5e-88ea-cdc29dd8db87\",\"type\":\"Line\"},\"hover_glyph\":null,\"muted_glyph\":null,\"nonselection_glyph\":{\"id\":\"ac1ea982-1c36-4a37-8a43-58127605e013\",\"type\":\"Line\"},\"selection_glyph\":null,\"view\":{\"id\":\"49d2b2cf-cb67-41c3-86c4-d71b0848ce7e\",\"type\":\"CDSView\"}},\"id\":\"bb1417b1-bc54-4b61-a56a-84887cb7d6bd\",\"type\":\"GlyphRenderer\"},{\"attributes\":{\"source\":{\"id\":\"d748f9d2-626e-44cc-98a9-2c0cca63a7a0\",\"type\":\"ColumnDataSource\"}},\"id\":\"49d2b2cf-cb67-41c3-86c4-d71b0848ce7e\",\"type\":\"CDSView\"},{\"attributes\":{\"line_alpha\":0.1,\"line_color\":\"#1f77b4\",\"line_width\":1.5,\"x\":{\"field\":\"x\"},\"y\":{\"field\":\"y\"}},\"id\":\"ac1ea982-1c36-4a37-8a43-58127605e013\",\"type\":\"Line\"},{\"attributes\":{\"fill_alpha\":{\"value\":0.1},\"fill_color\":{\"value\":\"#1f77b4\"},\"line_alpha\":{\"value\":0.1},\"line_color\":{\"value\":\"#1f77b4\"},\"x\":{\"field\":\"x\"},\"y\":{\"field\":\"y\"}},\"id\":\"bced024f-cdf1-4dc1-bab9-93f9feb6842c\",\"type\":\"Circle\"},{\"attributes\":{\"source\":{\"id\":\"83f5e42e-c875-4c6d-8466-163065cbeb72\",\"type\":\"ColumnDataSource\"}},\"id\":\"816acb38-ee77-4e80-8e56-b7d0ca216df7\",\"type\":\"CDSView\"},{\"attributes\":{\"callback\":null,\"data\":{\"x\":{\"__ndarray__\":\"+nEDV9yswz9UlRFyObnDPwbu5eN/F8U/hGQiIaEYxj/LzmjMoDHHPzychsnQCMg/rAncmY2+yD8Wwb064B3JP690wnTvG8k/LFs1GZ+TyD8J3NupkF3HP94UXpvwP8U/iLPHsC/+wT/yiOFVnIu6P1Bp8gQqsrM/AP4pVaLsuT8cDX0D1bfEPydRq7+Qm8o/+6O5X08Fzj9vEGv5mkjQP2vZlAqu4tI/cNy1xpii2T+QwlDizoDhP24wN4xAZOE/jBXze7Tb2j8zvWmfM47UPzeBM0KJINA/BrQ6WlHayT/a9smTnPrEP1C7iIQpqcA/C0RPyqSGuD9S84ByDjCwPy9j0CqvbKU/ecZtHeRBoD/n3pilaqmYP1oTXMNEN5A/zZcFfWO0hD9tIyLc6/t4P1016RzeWGG/8XE7btfPh7/l0vPMnSmIv1n/QurRr2C/P000pw5bfj/j5wMlrF2QP50Goq2eIZk/NrY39QrWoD+FhNRfQhSlP6KaL4IIaak/fxLcntnbrT/GpuHQZS6xP4znLOb5abM/9WJJNcN4tT9E2Wj0+2K3P2vgb/25Pbk/J+wNhIUPuz8fcJfcrOq8P03VoNx0074/FpDNwI6gwD9rosfW0NnBP9bTHmHeBMM/pb5uCacixD+Q/tEWWzHFPwZIVY8LOcY/qPytlbdAxz9o6CMZB1HIPypenxjdask/siGshPaDyj+9bJ6XSHHLP1KNLNMOA8w/E0xvXiAxzD9SZyjNairMP6fGrmFEKsw/EuNvWnRbzD+P1iDliv/MP5YYFYJmIc8/\",\"dtype\":\"float64\",\"shape\":[75]},\"y\":{\"__ndarray__\":\"GhExyth1ND/Sv8nbtpRIP2vylNV0PVE/aTum7souWD/At0SJ8fVgPw3Iuahxymc/MSNhhJWvcD/bTfBN02d3P2zb5nxnaoA/CD5h5MAGhz8NmeH1TyaQP+zrCsc9p5Y/LbKd76fGnz/bLW5ISEmmPww9YvTcQq8/JV2OstnstT8Er5Y7M8G+P0c+r3jqkcU/5h99k6ZBzj88bCIzFzjVP4enV8oyxN0//yH99nXg5D8qOpLLf0jtP5kqGJXUifQ/c9cS8kHP/D+/DpwzojQEQIEmwoanVwxA4lgXt9HgE0BSSZ2AJuIbQAMJih9jjiNA5q4l5INuK0AwTKYKRj0zQNv5fmq8/DpAaCJseHrtQkB/+zpwzoxKQM3MzMzMeFJAZmZmZmZqWEAAAAAAAFxeQM3MzMzMJmJAmpmZmZkfZUBmZmZmZhhoQDMzMzMzEWtAAAAAAAAKbkBmZmZmZoFwQM3MzMzM/XFAMzMzMzN6c0CamZmZmfZ0QAAAAAAAc3ZAZmZmZmbvd0DNzMzMzGt5QDMzMzMz6HpAmpmZmZlkfEAAAAAAAOF9QGZmZmZmXX9AZmZmZuZsgECamZmZGSuBQM3MzMxM6YFAAAAAAICngkAzMzMzs2WDQGZmZmbmI4RAmpmZmRnihEDNzMzMTKCFQAAAAACAXoZAMzMzM7Mch0BmZmZm5tqHQJqZmZkZmYhAzczMzExXiUAAAAAAgBWKQDMzMzOz04pAZmZmZuaRi0CamZmZGVCMQM3MzMxMDo1AAAAAAIDMjUAzMzMzs4qOQGZmZmbmSI9A\",\"dtype\":\"float64\",\"shape\":[75]}},\"selected\":{\"id\":\"936a47d1-a2fe-438f-a282-a606f003322c\",\"type\":\"Selection\"},\"selection_policy\":{\"id\":\"1e79eaa7-e64e-4120-a549-5bcdc06df398\",\"type\":\"UnionRenderers\"}},\"id\":\"d476ad0d-8a7c-4f75-a4d5-8f00e26e0571\",\"type\":\"ColumnDataSource\"},{\"attributes\":{},\"id\":\"4793e71e-2407-47cb-bf51-fd752d555985\",\"type\":\"HelpTool\"},{\"attributes\":{},\"id\":\"5ffffba4-474b-41d8-b652-d762f2fefeaf\",\"type\":\"WheelZoomTool\"},{\"attributes\":{\"data_source\":{\"id\":\"15fbbc71-0829-4fb7-9801-8949533aa32f\",\"type\":\"ColumnDataSource\"},\"glyph\":{\"id\":\"8053338e-630e-4592-848b-a6ade8812fd6\",\"type\":\"Circle\"},\"hover_glyph\":null,\"muted_glyph\":null,\"nonselection_glyph\":{\"id\":\"bced024f-cdf1-4dc1-bab9-93f9feb6842c\",\"type\":\"Circle\"},\"selection_glyph\":null,\"view\":{\"id\":\"b185f467-a2a8-4de7-a360-f7340cd27a44\",\"type\":\"CDSView\"}},\"id\":\"105eb765-dff1-4b69-b4db-9ca8777b3171\",\"type\":\"GlyphRenderer\"},{\"attributes\":{\"fill_alpha\":{\"value\":0.7},\"fill_color\":{\"value\":\"#984ea3\"},\"line_alpha\":{\"value\":0.7},\"line_color\":{\"value\":\"#984ea3\"},\"x\":{\"field\":\"x\"},\"y\":{\"field\":\"y\"}},\"id\":\"aa7a4a53-4c03-47e0-8b68-5a1e5f3ffdfb\",\"type\":\"Square\"},{\"attributes\":{},\"id\":\"c51e6389-a202-44de-9818-94f214328a94\",\"type\":\"SaveTool\"},{\"attributes\":{},\"id\":\"466a068f-3c0c-431b-b765-02c461abcafd\",\"type\":\"BasicTickFormatter\"},{\"attributes\":{\"source\":{\"id\":\"15fbbc71-0829-4fb7-9801-8949533aa32f\",\"type\":\"ColumnDataSource\"}},\"id\":\"b185f467-a2a8-4de7-a360-f7340cd27a44\",\"type\":\"CDSView\"},{\"attributes\":{},\"id\":\"592f7784-d207-46d5-ae3e-e3eafacd62bb\",\"type\":\"ResetTool\"},{\"attributes\":{\"fill_alpha\":{\"value\":0.1},\"fill_color\":{\"value\":\"#1f77b4\"},\"line_alpha\":{\"value\":0.1},\"line_color\":{\"value\":\"#1f77b4\"},\"x\":{\"field\":\"x\"},\"y\":{\"field\":\"y\"}},\"id\":\"79a49cbd-6042-48f9-b15a-f5a186283e0e\",\"type\":\"Square\"},{\"attributes\":{\"overlay\":{\"id\":\"2de5a50b-1955-4f40-bd1d-80cb4ebca4e3\",\"type\":\"BoxAnnotation\"}},\"id\":\"7bf2cf2a-ca3d-4a3c-a51e-2e404f1ca6b7\",\"type\":\"BoxZoomTool\"},{\"attributes\":{\"line_color\":\"#4daf4a\",\"line_width\":1.5,\"x\":{\"field\":\"x\"},\"y\":{\"field\":\"y\"}},\"id\":\"b647849b-82aa-4b5e-88ea-cdc29dd8db87\",\"type\":\"Line\"},{\"attributes\":{\"data_source\":{\"id\":\"d476ad0d-8a7c-4f75-a4d5-8f00e26e0571\",\"type\":\"ColumnDataSource\"},\"glyph\":{\"id\":\"aa7a4a53-4c03-47e0-8b68-5a1e5f3ffdfb\",\"type\":\"Square\"},\"hover_glyph\":null,\"muted_glyph\":null,\"nonselection_glyph\":{\"id\":\"79a49cbd-6042-48f9-b15a-f5a186283e0e\",\"type\":\"Square\"},\"selection_glyph\":null,\"view\":{\"id\":\"3e1447ed-a4e7-48ef-a3dc-7fd064f426e7\",\"type\":\"CDSView\"}},\"id\":\"4de54481-aca6-48a2-b0ff-204e34ed71cf\",\"type\":\"GlyphRenderer\"},{\"attributes\":{\"children\":[{\"id\":\"d1580741-6df3-4afd-9cb5-332d2b6bc0a0\",\"subtype\":\"Figure\",\"type\":\"Plot\"},{\"id\":\"7e56c1be-1177-4c27-b5af-ee923f3557ae\",\"subtype\":\"Figure\",\"type\":\"Plot\"}]},\"id\":\"cff108e8-c58a-4ff2-85f8-25887cc7b2c8\",\"type\":\"Row\"},{\"attributes\":{\"label\":{\"value\":\"CLIRAD `coolr_bands`\"},\"renderers\":[{\"id\":\"71994c87-630e-4eb6-a060-38299e682c26\",\"type\":\"GlyphRenderer\"}]},\"id\":\"17f8e370-f87e-4921-9130-65dddd86b43d\",\"type\":\"LegendItem\"},{\"attributes\":{},\"id\":\"a47e70ba-c031-4a41-bb19-194fef863dad\",\"type\":\"UnionRenderers\"},{\"attributes\":{\"label\":{\"value\":\"CRD\"},\"renderers\":[{\"id\":\"105eb765-dff1-4b69-b4db-9ca8777b3171\",\"type\":\"GlyphRenderer\"},{\"id\":\"bb1417b1-bc54-4b61-a56a-84887cb7d6bd\",\"type\":\"GlyphRenderer\"}]},\"id\":\"47576cb8-5e71-4e72-aaed-a11ee805884a\",\"type\":\"LegendItem\"},{\"attributes\":{},\"id\":\"d0e987c8-be48-4f63-bf41-5e0e091fd53b\",\"type\":\"Selection\"},{\"attributes\":{\"label\":{\"value\":\"WGT igg=10 wgt_flux=2\"},\"renderers\":[{\"id\":\"4de54481-aca6-48a2-b0ff-204e34ed71cf\",\"type\":\"GlyphRenderer\"},{\"id\":\"0139052a-0de4-4a7a-8e42-3a7341a7a06e\",\"type\":\"GlyphRenderer\"}]},\"id\":\"159d6233-3c25-470e-bc45-5ed45527ed3c\",\"type\":\"LegendItem\"},{\"attributes\":{},\"id\":\"eaaf82e8-ee82-4feb-bd32-4bb1eab9019c\",\"type\":\"Selection\"},{\"attributes\":{},\"id\":\"25c4360e-50f8-4734-bb18-1a185a47fc31\",\"type\":\"BasicTickFormatter\"},{\"attributes\":{},\"id\":\"0a33f684-d23b-4d46-ac56-d4eb08669061\",\"type\":\"Selection\"},{\"attributes\":{\"below\":[{\"id\":\"01ef3a95-8dd4-40a7-8e85-1f6ebdb34c24\",\"type\":\"LinearAxis\"}],\"left\":[{\"id\":\"8c871cd1-6d87-4de8-a8dd-46ac64a50dec\",\"type\":\"LogAxis\"}],\"plot_height\":500,\"plot_width\":560,\"renderers\":[{\"id\":\"01ef3a95-8dd4-40a7-8e85-1f6ebdb34c24\",\"type\":\"LinearAxis\"},{\"id\":\"ed954617-eec4-47ce-b050-c306cc5af617\",\"type\":\"Grid\"},{\"id\":\"8c871cd1-6d87-4de8-a8dd-46ac64a50dec\",\"type\":\"LogAxis\"},{\"id\":\"28829ac3-50ab-4e46-bc62-00f0ca4c56f6\",\"type\":\"Grid\"},{\"id\":\"bc7ae2a0-bda1-4986-8e75-67c31f284239\",\"type\":\"BoxAnnotation\"},{\"id\":\"71994c87-630e-4eb6-a060-38299e682c26\",\"type\":\"GlyphRenderer\"},{\"id\":\"105eb765-dff1-4b69-b4db-9ca8777b3171\",\"type\":\"GlyphRenderer\"},{\"id\":\"bb1417b1-bc54-4b61-a56a-84887cb7d6bd\",\"type\":\"GlyphRenderer\"},{\"id\":\"4de54481-aca6-48a2-b0ff-204e34ed71cf\",\"type\":\"GlyphRenderer\"},{\"id\":\"0139052a-0de4-4a7a-8e42-3a7341a7a06e\",\"type\":\"GlyphRenderer\"},{\"id\":\"80fc314a-39a2-4bd1-aff6-c5ad41368727\",\"type\":\"Legend\"}],\"right\":[{\"id\":\"80fc314a-39a2-4bd1-aff6-c5ad41368727\",\"type\":\"Legend\"}],\"title\":{\"id\":\"11b6b2c2-ab6e-4d60-ace6-4d93cc5788b3\",\"type\":\"Title\"},\"toolbar\":{\"id\":\"c67e6ec1-cdd2-4256-804a-bcf59c0d4de5\",\"type\":\"Toolbar\"},\"toolbar_location\":null,\"x_range\":{\"id\":\"f9f0fb97-738b-4d6e-b5ba-508beb40b01d\",\"type\":\"Range1d\"},\"x_scale\":{\"id\":\"e02dee9c-56a3-44b9-8674-454ae3ccdcf4\",\"type\":\"LinearScale\"},\"y_range\":{\"id\":\"0c53138e-e3f0-4e4b-8512-c37f88da9160\",\"type\":\"Range1d\"},\"y_scale\":{\"id\":\"b8100d27-654d-4025-bbd1-9bb5feec6c80\",\"type\":\"LogScale\"}},\"id\":\"7e56c1be-1177-4c27-b5af-ee923f3557ae\",\"subtype\":\"Figure\",\"type\":\"Plot\"},{\"attributes\":{},\"id\":\"c538b1c4-5b21-4865-929d-322d549112e1\",\"type\":\"UnionRenderers\"},{\"attributes\":{},\"id\":\"ad8572b5-7d3d-4396-b6ed-b3604c0798ff\",\"type\":\"UnionRenderers\"},{\"attributes\":{},\"id\":\"b1e771ba-0e0e-46fc-bba5-b8e3d9db56a9\",\"type\":\"BasicTickFormatter\"},{\"attributes\":{},\"id\":\"d0f79cf3-744f-4fa2-8db4-79ccd1e1fd04\",\"type\":\"PanTool\"},{\"attributes\":{},\"id\":\"8b2d6a10-2d73-4bd9-9c97-ca7fe761da8e\",\"type\":\"UnionRenderers\"},{\"attributes\":{},\"id\":\"6a93cae4-b761-4b8e-9606-fc3f27ef7d51\",\"type\":\"UnionRenderers\"},{\"attributes\":{\"data_source\":{\"id\":\"83f5e42e-c875-4c6d-8466-163065cbeb72\",\"type\":\"ColumnDataSource\"},\"glyph\":{\"id\":\"10dbdb94-7eb9-4f8d-88c4-43bac40da4a3\",\"type\":\"Line\"},\"hover_glyph\":null,\"muted_glyph\":null,\"nonselection_glyph\":{\"id\":\"3503e04b-2b55-46f0-869d-bda9918e238f\",\"type\":\"Line\"},\"selection_glyph\":null,\"view\":{\"id\":\"816acb38-ee77-4e80-8e56-b7d0ca216df7\",\"type\":\"CDSView\"}},\"id\":\"5403cc6d-1ec3-4500-8aff-a681f63e0529\",\"type\":\"GlyphRenderer\"},{\"attributes\":{},\"id\":\"53b30c9c-1c7f-4b7a-b2a0-559681a5ad23\",\"type\":\"UnionRenderers\"},{\"attributes\":{},\"id\":\"4d92186e-1b5e-4110-8a37-599a016453c7\",\"type\":\"Selection\"},{\"attributes\":{},\"id\":\"d468a8b7-0ee7-49dc-925e-52ff38195a37\",\"type\":\"Selection\"},{\"attributes\":{},\"id\":\"976b8d7b-2a79-4eaf-830b-44f0a02cf351\",\"type\":\"Selection\"},{\"attributes\":{},\"id\":\"a65a205a-86af-4a2e-b74a-7e95a89ffed2\",\"type\":\"Selection\"},{\"attributes\":{\"ticker\":null},\"id\":\"87142c25-1680-43f9-a405-e5c9c963911b\",\"type\":\"LogTickFormatter\"},{\"attributes\":{},\"id\":\"0a8dbc84-f796-477f-93c1-baa8eedc9f51\",\"type\":\"UnionRenderers\"},{\"attributes\":{},\"id\":\"3c5e8ec5-84b8-47cb-815a-48c53bdc5d07\",\"type\":\"UnionRenderers\"},{\"attributes\":{\"axis_label\":\"pressure [mb]\",\"formatter\":{\"id\":\"466a068f-3c0c-431b-b765-02c461abcafd\",\"type\":\"BasicTickFormatter\"},\"plot\":{\"id\":\"d1580741-6df3-4afd-9cb5-332d2b6bc0a0\",\"subtype\":\"Figure\",\"type\":\"Plot\"},\"ticker\":{\"id\":\"a1fd8b00-ee08-4ff7-98d0-2920cd4a6ac8\",\"type\":\"BasicTicker\"}},\"id\":\"062888d3-5648-4f06-b4ff-4b0a0fbce394\",\"type\":\"LinearAxis\"},{\"attributes\":{},\"id\":\"bf95ec72-8f84-4d54-a12d-ff7e74d9b255\",\"type\":\"Selection\"},{\"attributes\":{},\"id\":\"1e79eaa7-e64e-4120-a549-5bcdc06df398\",\"type\":\"UnionRenderers\"},{\"attributes\":{},\"id\":\"993e7b20-83eb-4766-8fa3-b239ff183d06\",\"type\":\"UnionRenderers\"},{\"attributes\":{\"toolbar\":{\"id\":\"970495a2-efcb-4212-aad3-e3ee14c97181\",\"type\":\"ProxyToolbar\"},\"toolbar_location\":\"above\"},\"id\":\"8da83656-7a72-4cfb-a958-1089c7eeabd6\",\"type\":\"ToolbarBox\"},{\"attributes\":{\"active_drag\":\"auto\",\"active_inspect\":\"auto\",\"active_scroll\":\"auto\",\"active_tap\":\"auto\",\"tools\":[{\"id\":\"d0f79cf3-744f-4fa2-8db4-79ccd1e1fd04\",\"type\":\"PanTool\"},{\"id\":\"5ffffba4-474b-41d8-b652-d762f2fefeaf\",\"type\":\"WheelZoomTool\"},{\"id\":\"7bf2cf2a-ca3d-4a3c-a51e-2e404f1ca6b7\",\"type\":\"BoxZoomTool\"},{\"id\":\"c51e6389-a202-44de-9818-94f214328a94\",\"type\":\"SaveTool\"},{\"id\":\"592f7784-d207-46d5-ae3e-e3eafacd62bb\",\"type\":\"ResetTool\"},{\"id\":\"4793e71e-2407-47cb-bf51-fd752d555985\",\"type\":\"HelpTool\"}]},\"id\":\"fbe58f91-3d19-40fc-9219-3c8dd70b7f6d\",\"type\":\"Toolbar\"},{\"attributes\":{\"line_alpha\":0.1,\"line_color\":\"#1f77b4\",\"line_dash\":[6],\"line_width\":5,\"x\":{\"field\":\"x\"},\"y\":{\"field\":\"y\"}},\"id\":\"3503e04b-2b55-46f0-869d-bda9918e238f\",\"type\":\"Line\"},{\"attributes\":{},\"id\":\"936a47d1-a2fe-438f-a282-a606f003322c\",\"type\":\"Selection\"},{\"attributes\":{\"children\":[{\"id\":\"8da83656-7a72-4cfb-a958-1089c7eeabd6\",\"type\":\"ToolbarBox\"},{\"id\":\"1fb22b24-1f96-4378-b9d2-85665c511eee\",\"type\":\"Column\"}]},\"id\":\"28a464b1-2d0d-4c85-a2a2-b853e716abdd\",\"type\":\"Column\"},{\"attributes\":{},\"id\":\"c0f76101-563c-411d-a397-ab89503c2eb0\",\"type\":\"Selection\"},{\"attributes\":{\"plot\":{\"id\":\"d1580741-6df3-4afd-9cb5-332d2b6bc0a0\",\"subtype\":\"Figure\",\"type\":\"Plot\"},\"ticker\":{\"id\":\"dadd3435-35c4-4895-aabf-4cc68cec1925\",\"type\":\"BasicTicker\"}},\"id\":\"b769672d-921a-453c-a06f-17c39c9a7392\",\"type\":\"Grid\"},{\"attributes\":{\"tools\":[{\"id\":\"d0f79cf3-744f-4fa2-8db4-79ccd1e1fd04\",\"type\":\"PanTool\"},{\"id\":\"5ffffba4-474b-41d8-b652-d762f2fefeaf\",\"type\":\"WheelZoomTool\"},{\"id\":\"7bf2cf2a-ca3d-4a3c-a51e-2e404f1ca6b7\",\"type\":\"BoxZoomTool\"},{\"id\":\"c51e6389-a202-44de-9818-94f214328a94\",\"type\":\"SaveTool\"},{\"id\":\"592f7784-d207-46d5-ae3e-e3eafacd62bb\",\"type\":\"ResetTool\"},{\"id\":\"4793e71e-2407-47cb-bf51-fd752d555985\",\"type\":\"HelpTool\"},{\"id\":\"00681140-2fa6-48f3-9bed-1c800428d0f3\",\"type\":\"PanTool\"},{\"id\":\"d00e7d82-87a0-4bbc-8a45-e008169278c7\",\"type\":\"WheelZoomTool\"},{\"id\":\"605cc7b8-0b21-4f7b-98fd-94f8c0c28c20\",\"type\":\"BoxZoomTool\"},{\"id\":\"fb2664ae-bab0-404f-aae3-fdae452c3ccb\",\"type\":\"SaveTool\"},{\"id\":\"3e50b966-dcad-46a7-bf6b-4572b0df16a9\",\"type\":\"ResetTool\"},{\"id\":\"1c66088f-4ec6-48e0-aef7-59ecf9ff93ad\",\"type\":\"HelpTool\"}]},\"id\":\"970495a2-efcb-4212-aad3-e3ee14c97181\",\"type\":\"ProxyToolbar\"},{\"attributes\":{\"callback\":null,\"data\":{\"x\":{\"__ndarray__\":\"RXec5D+Luj+wnd57ble7P1n4XYVSg70/QgKIswnNvz9UXbhaxAPBP64s0VlmEcI/XDJ19EsGwz86ygOJ1NHDP+xEMKsDYsQ/4VOtQz2WxD/N2rektEjEP0v5WuGnO8M/KHA+t8gkwT/ee9GBWV+7P6g9EwQJtrY/V5xivIMrvj/IjY0GESXHP/PsbnVr38w/CNPm7invzj9Anyu+X1TPP63CA1ZQidE/xIYbrt2P2D/NiWYzwU/hP9NoUSMdc+E/0qXBZfxY2z/QUmgPavXUPzPFudlhhNA/9HZ8YjqAyj8DQFdTQHfFP9HXoO2gq8A/proLiqLktz8HU0a8ckauPzVMDziCvKI/cxND386fmz9JQ7t6ffyVP9qLhJDVqI0/B7d22IQ4gj8rrm890VBzPzbsDM5GQGu/Hbu9BKSGib9JAIUaiNyJv/wMlMF9l2y/1kLigXXadj8oLbcP1ISMPzQN/DvqzpY/ZRj7uww5nz+yNBOzLtOjP9ODcyeHOKg/ZOcFiQHTrD8Iv/1OzcSwPwL8KisTH7M/J+F3EJFTtT8Xyp4RYGm3P/upxlLxbbk/corQAMVluz8kHwWZrnG9P2Ax0b3ak78/q0OoMaUewT/yuOLBmnPCP+K87mO7scM/L0oSfLrXxD8iWdmhDunFP0eL2MzG78Y/IqOHylT7xz+HSivXPhHJPwyn1D6AOco/El6KxGdfyz/iBjpiRlvMP15mlgwZ8sw/4rWm1IAczT+Qp4Ld8gnNPyWTdEms98w/EU0kwekXzT+brXrIrazNP3976MyHsc8/\",\"dtype\":\"float64\",\"shape\":[75]},\"y\":{\"__ndarray__\":\"S/O/Q+51ND/Sv8nbtpRIP2vylNV0PVE/aTum7souWD/At0SJ8fVgPw3Iuahxymc/MSNhhJWvcD/bTfBN02d3P2zb5nxnaoA/CD5h5MAGhz8NmeH1TyaQP+zrCsc9p5Y/LbKd76fGnz/bLW5ISEmmPww9YvTcQq8/JV2OstnstT8Er5Y7M8G+P0c+r3jqkcU/5h99k6ZBzj88bCIzFzjVP4enV8oyxN0//yH99nXg5D8qOpLLf0jtP5kqGJXUifQ/c9cS8kHP/D+/DpwzojQEQIEmwoanVwxA4lgXt9HgE0BSSZ2AJuIbQAMJih9jjiNA5q4l5INuK0AwTKYKRj0zQNv5fmq8/DpAaCJseHrtQkB/+zpwzoxKQM3MzMzMeFJAZmZmZmZqWEAAAAAAAFxeQM3MzMzMJmJAmpmZmZkfZUBmZmZmZhhoQDMzMzMzEWtAAAAAAAAKbkBmZmZmZoFwQM3MzMzM/XFAMzMzMzN6c0CamZmZmfZ0QAAAAAAAc3ZAZmZmZmbvd0DNzMzMzGt5QDMzMzMz6HpAmpmZmZlkfEAAAAAAAOF9QGZmZmZmXX9AZmZmZuZsgECamZmZGSuBQM3MzMxM6YFAAAAAAICngkAzMzMzs2WDQGZmZmbmI4RAmpmZmRnihEDNzMzMTKCFQAAAAACAXoZAMzMzM7Mch0BmZmZm5tqHQJqZmZkZmYhAzczMzExXiUAAAAAAgBWKQDMzMzOz04pAZmZmZuaRi0CamZmZGVCMQM3MzMxMDo1AAAAAAIDMjUAzMzMzs4qOQGZmZmbmSI9A\",\"dtype\":\"float64\",\"shape\":[75]}},\"selected\":{\"id\":\"d0e987c8-be48-4f63-bf41-5e0e091fd53b\",\"type\":\"Selection\"},\"selection_policy\":{\"id\":\"a47e70ba-c031-4a41-bb19-194fef863dad\",\"type\":\"UnionRenderers\"}},\"id\":\"83f5e42e-c875-4c6d-8466-163065cbeb72\",\"type\":\"ColumnDataSource\"},{\"attributes\":{},\"id\":\"eaf2f239-197a-4a06-b30b-b8b8214f6921\",\"type\":\"LinearScale\"},{\"attributes\":{\"axis_label\":\"cooling rate [K/day]\",\"formatter\":{\"id\":\"25c4360e-50f8-4734-bb18-1a185a47fc31\",\"type\":\"BasicTickFormatter\"},\"plot\":{\"id\":\"d1580741-6df3-4afd-9cb5-332d2b6bc0a0\",\"subtype\":\"Figure\",\"type\":\"Plot\"},\"ticker\":{\"id\":\"dadd3435-35c4-4895-aabf-4cc68cec1925\",\"type\":\"BasicTicker\"}},\"id\":\"4ed9db81-fb93-4478-af1a-ae1b10dbc9a9\",\"type\":\"LinearAxis\"},{\"attributes\":{\"bottom_units\":\"screen\",\"fill_alpha\":{\"value\":0.5},\"fill_color\":{\"value\":\"lightgrey\"},\"left_units\":\"screen\",\"level\":\"overlay\",\"line_alpha\":{\"value\":1.0},\"line_color\":{\"value\":\"black\"},\"line_dash\":[4,4],\"line_width\":{\"value\":2},\"plot\":null,\"render_mode\":\"css\",\"right_units\":\"screen\",\"top_units\":\"screen\"},\"id\":\"2de5a50b-1955-4f40-bd1d-80cb4ebca4e3\",\"type\":\"BoxAnnotation\"},{\"attributes\":{\"callback\":null,\"end\":0.01,\"start\":1020},\"id\":\"fc4bbb48-1f77-4219-99c0-32d2834a5ca1\",\"type\":\"Range1d\"},{\"attributes\":{\"plot\":null,\"text\":\"Linear pressure scale\"},\"id\":\"02ca77e3-d450-48d1-b941-7c4f49644fc3\",\"type\":\"Title\"},{\"attributes\":{\"children\":[{\"id\":\"cff108e8-c58a-4ff2-85f8-25887cc7b2c8\",\"type\":\"Row\"}]},\"id\":\"1fb22b24-1f96-4378-b9d2-85665c511eee\",\"type\":\"Column\"},{\"attributes\":{},\"id\":\"724576ae-8773-4ad4-9db8-6e1085456e8f\",\"type\":\"LinearScale\"},{\"attributes\":{\"below\":[{\"id\":\"4ed9db81-fb93-4478-af1a-ae1b10dbc9a9\",\"type\":\"LinearAxis\"}],\"left\":[{\"id\":\"062888d3-5648-4f06-b4ff-4b0a0fbce394\",\"type\":\"LinearAxis\"}],\"plot_height\":500,\"plot_width\":400,\"renderers\":[{\"id\":\"4ed9db81-fb93-4478-af1a-ae1b10dbc9a9\",\"type\":\"LinearAxis\"},{\"id\":\"b769672d-921a-453c-a06f-17c39c9a7392\",\"type\":\"Grid\"},{\"id\":\"062888d3-5648-4f06-b4ff-4b0a0fbce394\",\"type\":\"LinearAxis\"},{\"id\":\"e2a0ea58-2329-491b-be92-2e96ed850b60\",\"type\":\"Grid\"},{\"id\":\"2de5a50b-1955-4f40-bd1d-80cb4ebca4e3\",\"type\":\"BoxAnnotation\"},{\"id\":\"5403cc6d-1ec3-4500-8aff-a681f63e0529\",\"type\":\"GlyphRenderer\"},{\"id\":\"e16fa83b-a45f-403a-9aac-26c586c38324\",\"type\":\"GlyphRenderer\"},{\"id\":\"bab174cb-d079-4994-a56e-e12fb8713f08\",\"type\":\"GlyphRenderer\"},{\"id\":\"ef109012-b29b-4be8-a772-0dcfada503cf\",\"type\":\"GlyphRenderer\"},{\"id\":\"42d48d9a-dca8-4408-aa44-46bce1ceeef1\",\"type\":\"GlyphRenderer\"}],\"title\":{\"id\":\"02ca77e3-d450-48d1-b941-7c4f49644fc3\",\"type\":\"Title\"},\"toolbar\":{\"id\":\"fbe58f91-3d19-40fc-9219-3c8dd70b7f6d\",\"type\":\"Toolbar\"},\"toolbar_location\":null,\"x_range\":{\"id\":\"125b1049-f3b4-45da-8a5e-b235fb4214e3\",\"type\":\"Range1d\"},\"x_scale\":{\"id\":\"eaf2f239-197a-4a06-b30b-b8b8214f6921\",\"type\":\"LinearScale\"},\"y_range\":{\"id\":\"fc4bbb48-1f77-4219-99c0-32d2834a5ca1\",\"type\":\"Range1d\"},\"y_scale\":{\"id\":\"724576ae-8773-4ad4-9db8-6e1085456e8f\",\"type\":\"LinearScale\"}},\"id\":\"d1580741-6df3-4afd-9cb5-332d2b6bc0a0\",\"subtype\":\"Figure\",\"type\":\"Plot\"},{\"attributes\":{\"dimension\":1,\"plot\":{\"id\":\"d1580741-6df3-4afd-9cb5-332d2b6bc0a0\",\"subtype\":\"Figure\",\"type\":\"Plot\"},\"ticker\":{\"id\":\"a1fd8b00-ee08-4ff7-98d0-2920cd4a6ac8\",\"type\":\"BasicTicker\"}},\"id\":\"e2a0ea58-2329-491b-be92-2e96ed850b60\",\"type\":\"Grid\"},{\"attributes\":{\"callback\":null,\"end\":0.25020762962,\"start\":-0.01522999162},\"id\":\"125b1049-f3b4-45da-8a5e-b235fb4214e3\",\"type\":\"Range1d\"},{\"attributes\":{},\"id\":\"dadd3435-35c4-4895-aabf-4cc68cec1925\",\"type\":\"BasicTicker\"},{\"attributes\":{},\"id\":\"a1fd8b00-ee08-4ff7-98d0-2920cd4a6ac8\",\"type\":\"BasicTicker\"}],\"root_ids\":[\"28a464b1-2d0d-4c85-a2a2-b853e716abdd\"]},\"title\":\"Bokeh Application\",\"version\":\"0.12.16\"}};\n",
       "  var render_items = [{\"docid\":\"df2b5a50-54d2-4d6b-a76f-4450c974eb4e\",\"elementid\":\"c26d24d2-adb7-4625-a67c-9f6cb5f47dd3\",\"modelid\":\"28a464b1-2d0d-4c85-a2a2-b853e716abdd\"}];\n",
       "  root.Bokeh.embed.embed_items_notebook(docs_json, render_items);\n",
       "\n",
       "  }\n",
       "  if (root.Bokeh !== undefined) {\n",
       "    embed_document(root);\n",
       "  } else {\n",
       "    var attempts = 0;\n",
       "    var timer = setInterval(function(root) {\n",
       "      if (root.Bokeh !== undefined) {\n",
       "        embed_document(root);\n",
       "        clearInterval(timer);\n",
       "      }\n",
       "      attempts++;\n",
       "      if (attempts > 100) {\n",
       "        console.log(\"Bokeh: ERROR: Unable to run BokehJS code because BokehJS library is missing\")\n",
       "        clearInterval(timer);\n",
       "      }\n",
       "    }, 10, root)\n",
       "  }\n",
       "})(window);"
      ],
      "application/vnd.bokehjs_exec.v0+json": ""
     },
     "metadata": {
      "application/vnd.bokehjs_exec.v0+json": {
       "id": "28a464b1-2d0d-4c85-a2a2-b853e716abdd"
      }
     },
     "output_type": "display_data"
    },
    {
     "name": "stdout",
     "output_type": "stream",
     "text": [
      "FIGURE. Cooling rate profiles.\n"
     ]
    },
    {
     "data": {
      "text/html": [
       "<a id=\"Flux_Comparison\"></a>"
      ],
      "text/plain": [
       "<IPython.core.display.HTML object>"
      ]
     },
     "metadata": {},
     "output_type": "display_data"
    },
    {
     "data": {
      "text/markdown": [
       "# Flux Comparison"
      ],
      "text/plain": [
       "<IPython.core.display.Markdown object>"
      ]
     },
     "metadata": {},
     "output_type": "display_data"
    },
    {
     "data": {
      "text/html": [
       "<div>\n",
       "<style scoped>\n",
       "    .dataframe tbody tr th:only-of-type {\n",
       "        vertical-align: middle;\n",
       "    }\n",
       "\n",
       "    .dataframe tbody tr th {\n",
       "        vertical-align: top;\n",
       "    }\n",
       "\n",
       "    .dataframe thead th {\n",
       "        text-align: right;\n",
       "    }\n",
       "</style>\n",
       "<table border=\"1\" class=\"dataframe\">\n",
       "  <thead>\n",
       "    <tr style=\"text-align: right;\">\n",
       "      <th></th>\n",
       "      <th></th>\n",
       "      <th>flug</th>\n",
       "      <th>fldg</th>\n",
       "      <th>fnetg</th>\n",
       "    </tr>\n",
       "    <tr>\n",
       "      <th>pressure</th>\n",
       "      <th>level</th>\n",
       "      <th></th>\n",
       "      <th></th>\n",
       "      <th></th>\n",
       "    </tr>\n",
       "  </thead>\n",
       "  <tbody>\n",
       "    <tr>\n",
       "      <th>0.0000</th>\n",
       "      <th>1</th>\n",
       "      <td>-24.894165</td>\n",
       "      <td>0.000000</td>\n",
       "      <td>-24.894165</td>\n",
       "    </tr>\n",
       "    <tr>\n",
       "      <th>1.0685</th>\n",
       "      <th>24</th>\n",
       "      <td>-24.902862</td>\n",
       "      <td>0.055775</td>\n",
       "      <td>-24.847087</td>\n",
       "    </tr>\n",
       "    <tr>\n",
       "      <th>1013.0000</th>\n",
       "      <th>76</th>\n",
       "      <td>-32.637543</td>\n",
       "      <td>20.854052</td>\n",
       "      <td>-11.783491</td>\n",
       "    </tr>\n",
       "  </tbody>\n",
       "</table>\n",
       "</div>"
      ],
      "text/plain": [
       "                      flug       fldg      fnetg\n",
       "pressure  level                                 \n",
       "0.0000    1     -24.894165   0.000000 -24.894165\n",
       "1.0685    24    -24.902862   0.055775 -24.847087\n",
       "1013.0000 76    -32.637543  20.854052 -11.783491"
      ]
     },
     "metadata": {},
     "output_type": "display_data"
    },
    {
     "name": "stdout",
     "output_type": "stream",
     "text": [
      "Table. Fluxes. CRD\n"
     ]
    },
    {
     "data": {
      "text/html": [
       "<div>\n",
       "<style scoped>\n",
       "    .dataframe tbody tr th:only-of-type {\n",
       "        vertical-align: middle;\n",
       "    }\n",
       "\n",
       "    .dataframe tbody tr th {\n",
       "        vertical-align: top;\n",
       "    }\n",
       "\n",
       "    .dataframe thead th {\n",
       "        text-align: right;\n",
       "    }\n",
       "</style>\n",
       "<table border=\"1\" class=\"dataframe\">\n",
       "  <thead>\n",
       "    <tr style=\"text-align: right;\">\n",
       "      <th></th>\n",
       "      <th></th>\n",
       "      <th>flug</th>\n",
       "      <th>fldg</th>\n",
       "      <th>fnetg</th>\n",
       "    </tr>\n",
       "    <tr>\n",
       "      <th>pressure</th>\n",
       "      <th>level</th>\n",
       "      <th></th>\n",
       "      <th></th>\n",
       "      <th></th>\n",
       "    </tr>\n",
       "  </thead>\n",
       "  <tbody>\n",
       "    <tr>\n",
       "      <th>0.0000</th>\n",
       "      <th>1</th>\n",
       "      <td>-24.588660</td>\n",
       "      <td>0.000000</td>\n",
       "      <td>-24.588660</td>\n",
       "    </tr>\n",
       "    <tr>\n",
       "      <th>1.0685</th>\n",
       "      <th>24</th>\n",
       "      <td>-24.597444</td>\n",
       "      <td>0.053638</td>\n",
       "      <td>-24.543806</td>\n",
       "    </tr>\n",
       "    <tr>\n",
       "      <th>1013.0000</th>\n",
       "      <th>76</th>\n",
       "      <td>-32.637543</td>\n",
       "      <td>21.178975</td>\n",
       "      <td>-11.458568</td>\n",
       "    </tr>\n",
       "  </tbody>\n",
       "</table>\n",
       "</div>"
      ],
      "text/plain": [
       "                      flug       fldg      fnetg\n",
       "pressure  level                                 \n",
       "0.0000    1     -24.588660   0.000000 -24.588660\n",
       "1.0685    24    -24.597444   0.053638 -24.543806\n",
       "1013.0000 76    -32.637543  21.178975 -11.458568"
      ]
     },
     "metadata": {},
     "output_type": "display_data"
    },
    {
     "name": "stdout",
     "output_type": "stream",
     "text": [
      "Table. Fluxes. WGT igg=10 wgt_flux=1\n"
     ]
    },
    {
     "data": {
      "text/html": [
       "<div>\n",
       "<style scoped>\n",
       "    .dataframe tbody tr th:only-of-type {\n",
       "        vertical-align: middle;\n",
       "    }\n",
       "\n",
       "    .dataframe tbody tr th {\n",
       "        vertical-align: top;\n",
       "    }\n",
       "\n",
       "    .dataframe thead th {\n",
       "        text-align: right;\n",
       "    }\n",
       "</style>\n",
       "<table border=\"1\" class=\"dataframe\">\n",
       "  <thead>\n",
       "    <tr style=\"text-align: right;\">\n",
       "      <th></th>\n",
       "      <th></th>\n",
       "      <th>flug</th>\n",
       "      <th>fldg</th>\n",
       "      <th>fnetg</th>\n",
       "    </tr>\n",
       "    <tr>\n",
       "      <th>pressure</th>\n",
       "      <th>level</th>\n",
       "      <th></th>\n",
       "      <th></th>\n",
       "      <th></th>\n",
       "    </tr>\n",
       "  </thead>\n",
       "  <tbody>\n",
       "    <tr>\n",
       "      <th>1.000000e-08</th>\n",
       "      <th>1</th>\n",
       "      <td>-24.637442</td>\n",
       "      <td>0.000001</td>\n",
       "      <td>-24.637441</td>\n",
       "    </tr>\n",
       "    <tr>\n",
       "      <th>1.068500e+00</th>\n",
       "      <th>24</th>\n",
       "      <td>-24.645900</td>\n",
       "      <td>0.052416</td>\n",
       "      <td>-24.593484</td>\n",
       "    </tr>\n",
       "    <tr>\n",
       "      <th>1.013000e+03</th>\n",
       "      <th>76</th>\n",
       "      <td>-32.637540</td>\n",
       "      <td>21.352693</td>\n",
       "      <td>-11.284847</td>\n",
       "    </tr>\n",
       "  </tbody>\n",
       "</table>\n",
       "</div>"
      ],
      "text/plain": [
       "                         flug       fldg      fnetg\n",
       "pressure     level                                 \n",
       "1.000000e-08 1     -24.637442   0.000001 -24.637441\n",
       "1.068500e+00 24    -24.645900   0.052416 -24.593484\n",
       "1.013000e+03 76    -32.637540  21.352693 -11.284847"
      ]
     },
     "metadata": {},
     "output_type": "display_data"
    },
    {
     "name": "stdout",
     "output_type": "stream",
     "text": [
      "Table. Fluxes. CLIRAD\n"
     ]
    },
    {
     "data": {
      "text/html": [
       "<div>\n",
       "<style scoped>\n",
       "    .dataframe tbody tr th:only-of-type {\n",
       "        vertical-align: middle;\n",
       "    }\n",
       "\n",
       "    .dataframe tbody tr th {\n",
       "        vertical-align: top;\n",
       "    }\n",
       "\n",
       "    .dataframe thead th {\n",
       "        text-align: right;\n",
       "    }\n",
       "</style>\n",
       "<table border=\"1\" class=\"dataframe\">\n",
       "  <thead>\n",
       "    <tr style=\"text-align: right;\">\n",
       "      <th></th>\n",
       "      <th></th>\n",
       "      <th>flug</th>\n",
       "      <th>fldg</th>\n",
       "      <th>fnetg</th>\n",
       "    </tr>\n",
       "    <tr>\n",
       "      <th>pressure</th>\n",
       "      <th>level</th>\n",
       "      <th></th>\n",
       "      <th></th>\n",
       "      <th></th>\n",
       "    </tr>\n",
       "  </thead>\n",
       "  <tbody>\n",
       "    <tr>\n",
       "      <th>0.0000</th>\n",
       "      <th>1</th>\n",
       "      <td>0.305505</td>\n",
       "      <td>0.000000</td>\n",
       "      <td>0.305505</td>\n",
       "    </tr>\n",
       "    <tr>\n",
       "      <th>1.0685</th>\n",
       "      <th>24</th>\n",
       "      <td>0.305418</td>\n",
       "      <td>-0.002137</td>\n",
       "      <td>0.303281</td>\n",
       "    </tr>\n",
       "    <tr>\n",
       "      <th>1013.0000</th>\n",
       "      <th>76</th>\n",
       "      <td>0.000000</td>\n",
       "      <td>0.324923</td>\n",
       "      <td>0.324923</td>\n",
       "    </tr>\n",
       "  </tbody>\n",
       "</table>\n",
       "</div>"
      ],
      "text/plain": [
       "                     flug      fldg     fnetg\n",
       "pressure  level                              \n",
       "0.0000    1      0.305505  0.000000  0.305505\n",
       "1.0685    24     0.305418 -0.002137  0.303281\n",
       "1013.0000 76     0.000000  0.324923  0.324923"
      ]
     },
     "metadata": {},
     "output_type": "display_data"
    },
    {
     "name": "stdout",
     "output_type": "stream",
     "text": [
      "Table. Fluxes. (WGT igg=10 wgt_flux=1) - (CRD)\n"
     ]
    },
    {
     "data": {
      "text/html": [
       "<div>\n",
       "<style scoped>\n",
       "    .dataframe tbody tr th:only-of-type {\n",
       "        vertical-align: middle;\n",
       "    }\n",
       "\n",
       "    .dataframe tbody tr th {\n",
       "        vertical-align: top;\n",
       "    }\n",
       "\n",
       "    .dataframe thead th {\n",
       "        text-align: right;\n",
       "    }\n",
       "</style>\n",
       "<table border=\"1\" class=\"dataframe\">\n",
       "  <thead>\n",
       "    <tr style=\"text-align: right;\">\n",
       "      <th></th>\n",
       "      <th></th>\n",
       "      <th>flug</th>\n",
       "      <th>fldg</th>\n",
       "      <th>fnetg</th>\n",
       "    </tr>\n",
       "    <tr>\n",
       "      <th>pressure</th>\n",
       "      <th>level</th>\n",
       "      <th></th>\n",
       "      <th></th>\n",
       "      <th></th>\n",
       "    </tr>\n",
       "  </thead>\n",
       "  <tbody>\n",
       "    <tr>\n",
       "      <th>0.0000</th>\n",
       "      <th>1</th>\n",
       "      <td>0.256723</td>\n",
       "      <td>0.000001</td>\n",
       "      <td>0.256724</td>\n",
       "    </tr>\n",
       "    <tr>\n",
       "      <th>1.0685</th>\n",
       "      <th>24</th>\n",
       "      <td>0.256962</td>\n",
       "      <td>-0.003359</td>\n",
       "      <td>0.253603</td>\n",
       "    </tr>\n",
       "    <tr>\n",
       "      <th>1013.0000</th>\n",
       "      <th>76</th>\n",
       "      <td>0.000003</td>\n",
       "      <td>0.498641</td>\n",
       "      <td>0.498644</td>\n",
       "    </tr>\n",
       "  </tbody>\n",
       "</table>\n",
       "</div>"
      ],
      "text/plain": [
       "                     flug      fldg     fnetg\n",
       "pressure  level                              \n",
       "0.0000    1      0.256723  0.000001  0.256724\n",
       "1.0685    24     0.256962 -0.003359  0.253603\n",
       "1013.0000 76     0.000003  0.498641  0.498644"
      ]
     },
     "metadata": {},
     "output_type": "display_data"
    },
    {
     "name": "stdout",
     "output_type": "stream",
     "text": [
      "Table. Fluxes. (CLIRAD) - (CRD)\n"
     ]
    },
    {
     "data": {
      "text/html": [
       "<a id=\"Best-fit_Parameters\"></a>"
      ],
      "text/plain": [
       "<IPython.core.display.HTML object>"
      ]
     },
     "metadata": {},
     "output_type": "display_data"
    },
    {
     "data": {
      "text/markdown": [
       "# Best-fit Parameters"
      ],
      "text/plain": [
       "<IPython.core.display.Markdown object>"
      ]
     },
     "metadata": {},
     "output_type": "display_data"
    },
    {
     "name": "stdout",
     "output_type": "stream",
     "text": [
      "Best-fit values for each (gas, band)\n",
      "------------------------------------\n",
      "o h2o band3c\n",
      "  atmpro = mls\n",
      "  band = 3c\n",
      "  commitnumber = a06b618\n",
      "  conc = None\n",
      "  dv = 0.001\n",
      "  klin = 5e-25\n",
      "  molecule = h2o\n",
      "  ng_adju = [0]\n",
      "  ng_refs = [5]\n",
      "  nv = 1000\n",
      "  option_compute_btable = 0\n",
      "  option_compute_ktable = 1\n",
      "  option_wgt_flux = 1\n",
      "  option_wgt_k = 1\n",
      "  ref_pts = [(600, 250)]\n",
      "  tsfc = 294\n",
      "  vmax = 800\n",
      "  vmin = 720\n",
      "  w_diffuse = [(1.55, 1.6, 1.66, 1.66, 1.8)]\n",
      "  wgt = [(0.5, 0.5, 0.6, 0.7, 0.9)]\n",
      "o co2 band3c\n",
      "  atmpro = mls\n",
      "  band = 3c\n",
      "  commitnumber = a06b618\n",
      "  conc = 0.0004\n",
      "  dv = 0.001\n",
      "  klin = 6.375563e-24\n",
      "  molecule = co2\n",
      "  ng_adju = [0, 0, 0]\n",
      "  ng_refs = [3, 2, 4]\n",
      "  nv = 1000\n",
      "  option_compute_btable = 0\n",
      "  option_compute_ktable = 1\n",
      "  option_wgt_flux = 1\n",
      "  option_wgt_k = 1\n",
      "  ref_pts = [(1, 250), (10, 250), (500, 250)]\n",
      "  tsfc = 294\n",
      "  vmax = 800\n",
      "  vmin = 720\n",
      "  w_diffuse = [(1.7, 1.6, 1.8), (1.8, 1.7), (1.5, 1.6, 1.7, 1.8)]\n",
      "  wgt = [(0.6, 0.4, 0.7), (0.7, 0.4), (0.3, 0.4, 0.85, 0.9)]\n"
     ]
    }
   ],
   "source": [
    "script()"
   ]
  },
  {
   "cell_type": "code",
   "execution_count": 13,
   "metadata": {
    "collapsed": true
   },
   "outputs": [
    {
     "data": {
      "text/html": [
       "<script>\n",
       "code_show=true; \n",
       "function code_toggle() {\n",
       " if (code_show){\n",
       " $('div.input').hide();\n",
       " } else {\n",
       " $('div.input').show();\n",
       " }\n",
       " code_show = !code_show\n",
       "} \n",
       "$( document ).ready(code_toggle);\n",
       "</script>\n",
       "<form action=\"javascript:code_toggle()\"><input type=\"submit\" value=\"Click here to toggle on/off the raw code.\"></form>"
      ],
      "text/plain": [
       "<IPython.core.display.HTML object>"
      ]
     },
     "execution_count": 13,
     "metadata": {},
     "output_type": "execute_result"
    }
   ],
   "source": [
    "display.HTML('''<script>\n",
    "code_show=true; \n",
    "function code_toggle() {\n",
    " if (code_show){\n",
    " $('div.input').hide();\n",
    " } else {\n",
    " $('div.input').show();\n",
    " }\n",
    " code_show = !code_show\n",
    "} \n",
    "$( document ).ready(code_toggle);\n",
    "</script>\n",
    "<form action=\"javascript:code_toggle()\"><input type=\"submit\" value=\"Click here to toggle on/off the raw code.\"></form>''')"
   ]
  }
 ],
 "metadata": {
  "kernelspec": {
   "display_name": "Python 3",
   "language": "python",
   "name": "python3"
  },
  "language_info": {
   "codemirror_mode": {
    "name": "ipython",
    "version": 3
   },
   "file_extension": ".py",
   "mimetype": "text/x-python",
   "name": "python",
   "nbconvert_exporter": "python",
   "pygments_lexer": "ipython3",
   "version": "3.6.1"
  }
 },
 "nbformat": 4,
 "nbformat_minor": 2
}
