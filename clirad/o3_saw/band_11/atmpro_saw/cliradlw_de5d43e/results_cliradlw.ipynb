{
 "cells": [
  {
   "cell_type": "code",
   "execution_count": 1,
   "metadata": {
    "collapsed": true
   },
   "outputs": [],
   "source": [
    "%matplotlib inline\n",
    "import os\n",
    "import re\n",
    "import io\n",
    "import itertools\n",
    "import pprint\n",
    "\n",
    "from bokeh.io import output_notebook, show\n",
    "from bokeh.layouts import gridplot\n",
    "from bokeh.plotting import figure\n",
    "from bokeh.models import Range1d, Legend\n",
    "from bokeh.palettes import all_palettes\n",
    "\n",
    "import matplotlib\n",
    "import matplotlib.pyplot as plt\n",
    "import numpy as np\n",
    "import pandas as pd\n",
    "import xarray as xr\n",
    "\n",
    "import climatools.lblnew.bestfit_params as bestfits\n",
    "from climatools.lblnew import setup_bestfit, setup_overlap\n",
    "import climatools.lblnew.pipeline as pipe_lblnew\n",
    "import climatools.cliradlw.setup as setup_cliradlw\n",
    "import climatools.cliradlw.pipeline as pipe_cliradlw\n",
    "\n",
    "import climatools.html.html as climahtml\n",
    "from climatools.lblnew.dataio import *\n",
    "from climatools.plot.plot import *\n",
    "\n",
    "\n",
    "import IPython.display as display"
   ]
  },
  {
   "cell_type": "code",
   "execution_count": 2,
   "metadata": {
    "collapsed": true
   },
   "outputs": [],
   "source": [
    "%run param.py"
   ]
  },
  {
   "cell_type": "code",
   "execution_count": 3,
   "metadata": {
    "collapsed": true
   },
   "outputs": [],
   "source": [
    "def load_output_file(path_csv):\n",
    "    '''\n",
    "    Load lblnew output .csv file to xarray.Dataset\n",
    "    \n",
    "    Parameters\n",
    "    ----------\n",
    "    path_csv: str\n",
    "              Path to the .csv file to be loaded.\n",
    "    ds: xarray.Dataset\n",
    "        Data in the input file in the form of an xarray.Dataset.\n",
    "    '''\n",
    "    toindex = ['band', 'pressure', 'igg', 'g']    \n",
    "    df = pd.read_csv(path_csv, sep=r'\\s+')\n",
    "    df = df.set_index([i for i in toindex if i in df.columns])\n",
    "    df = df.rename(columns={'sfu': 'flug',\n",
    "                            'sfd': 'fldg',\n",
    "                            'fnet': 'fnetg',\n",
    "                            'coolr': 'coolrg'})\n",
    "    ds = xr.Dataset.from_dataframe(df)\n",
    "\n",
    "    for l in ('level', 'layer'):\n",
    "        if l in ds.data_vars:\n",
    "            if len(ds[l].dims) > 1:\n",
    "                surface = {d: 0 for d in ds.dims if d != 'pressure'}\n",
    "                coord_level = ds[l][surface]\n",
    "                ds.coords[l] = ('pressure', coord_level)\n",
    "            else:\n",
    "                ds.coords[l] = ('pressure', ds[l])\n",
    "    \n",
    "    return ds"
   ]
  },
  {
   "cell_type": "code",
   "execution_count": 4,
   "metadata": {
    "collapsed": true
   },
   "outputs": [],
   "source": [
    "def lblnew_setup(param=None):\n",
    "    if 'ng_refs' in param:\n",
    "        return {'setup': setup_bestfit,\n",
    "                'fname_flux_crd': 'output_flux.dat',\n",
    "                'fname_cool_crd': 'output_coolr.dat',\n",
    "                'fname_flux_wgt': 'output_wfluxg.dat',\n",
    "                'fname_cool_wgt': 'output_wcoolrg.dat'}\n",
    "    else:\n",
    "        return {'setup': setup_overlap,\n",
    "                'fname_flux_crd': 'output_flux.dat',\n",
    "                'fname_cool_crd': 'output_coolr.dat',\n",
    "                'fname_flux_wgt': 'output_wflux.dat',\n",
    "                'fname_cool_wgt': 'output_wcoolr.dat'}\n",
    "\n",
    "    \n",
    "def load_lblnew_data(param):\n",
    "    \n",
    "    fname_dsname = [('fname_flux_crd', 'ds_flux_crd'),\n",
    "                    ('fname_cool_crd', 'ds_cool_crd'),\n",
    "                    ('fname_flux_wgt', 'ds_flux_wgt'),\n",
    "                    ('fname_cool_wgt', 'ds_cool_wgt')]\n",
    "    \n",
    "    d = lblnew_setup(param)\n",
    "    dir_fortran = pipe_lblnew.get_dir_case(param, setup=d['setup'])\n",
    "    \n",
    "    data_dict = {}\n",
    "    for fname, dsname in fname_dsname:\n",
    "        fpath = os.path.join(dir_fortran, d[fname])\n",
    "        data_dict[dsname] = load_output_file(fpath)\n",
    "    return data_dict\n",
    "    \n",
    "\n",
    "    \n",
    "    "
   ]
  },
  {
   "cell_type": "code",
   "execution_count": 5,
   "metadata": {
    "collapsed": true
   },
   "outputs": [],
   "source": [
    "d = load_lblnew_data(PARAM_LBLNEW)\n",
    "\n",
    "DS_FLUX_CRD = d['ds_flux_crd']\n",
    "DS_COOL_CRD = d['ds_cool_crd']\n",
    "DS_FLUX_WGT = d['ds_flux_wgt']\n",
    "DS_COOL_WGT = d['ds_cool_wgt']"
   ]
  },
  {
   "cell_type": "code",
   "execution_count": 6,
   "metadata": {
    "collapsed": true
   },
   "outputs": [],
   "source": [
    "DIR_FORTRAN = pipe_cliradlw.get_fortran_dir(PARAM, \n",
    "                                            setup=setup_cliradlw)\n",
    "\n",
    "PATH_FLUX = os.path.join(DIR_FORTRAN, 'output_flux.dat')\n",
    "PATH_COOL = os.path.join(DIR_FORTRAN, 'output_coolr.dat')\n",
    "\n",
    "DS_FLUX = load_output_file(PATH_FLUX)\n",
    "DS_COOL = load_output_file(PATH_COOL)"
   ]
  },
  {
   "cell_type": "code",
   "execution_count": 7,
   "metadata": {
    "collapsed": true
   },
   "outputs": [
    {
     "data": {
      "text/html": [
       "\n",
       "    <div class=\"bk-root\">\n",
       "        <a href=\"https://bokeh.pydata.org\" target=\"_blank\" class=\"bk-logo bk-logo-small bk-logo-notebook\"></a>\n",
       "        <span id=\"da587740-f89f-4211-8f4d-b769eda8f4c1\">Loading BokehJS ...</span>\n",
       "    </div>"
      ]
     },
     "metadata": {},
     "output_type": "display_data"
    },
    {
     "data": {
      "application/javascript": [
       "\n",
       "(function(root) {\n",
       "  function now() {\n",
       "    return new Date();\n",
       "  }\n",
       "\n",
       "  var force = true;\n",
       "\n",
       "  if (typeof (root._bokeh_onload_callbacks) === \"undefined\" || force === true) {\n",
       "    root._bokeh_onload_callbacks = [];\n",
       "    root._bokeh_is_loading = undefined;\n",
       "  }\n",
       "\n",
       "  var JS_MIME_TYPE = 'application/javascript';\n",
       "  var HTML_MIME_TYPE = 'text/html';\n",
       "  var EXEC_MIME_TYPE = 'application/vnd.bokehjs_exec.v0+json';\n",
       "  var CLASS_NAME = 'output_bokeh rendered_html';\n",
       "\n",
       "  /**\n",
       "   * Render data to the DOM node\n",
       "   */\n",
       "  function render(props, node) {\n",
       "    var script = document.createElement(\"script\");\n",
       "    node.appendChild(script);\n",
       "  }\n",
       "\n",
       "  /**\n",
       "   * Handle when an output is cleared or removed\n",
       "   */\n",
       "  function handleClearOutput(event, handle) {\n",
       "    var cell = handle.cell;\n",
       "\n",
       "    var id = cell.output_area._bokeh_element_id;\n",
       "    var server_id = cell.output_area._bokeh_server_id;\n",
       "    // Clean up Bokeh references\n",
       "    if (id !== undefined) {\n",
       "      Bokeh.index[id].model.document.clear();\n",
       "      delete Bokeh.index[id];\n",
       "    }\n",
       "\n",
       "    if (server_id !== undefined) {\n",
       "      // Clean up Bokeh references\n",
       "      var cmd = \"from bokeh.io.state import curstate; print(curstate().uuid_to_server['\" + server_id + \"'].get_sessions()[0].document.roots[0]._id)\";\n",
       "      cell.notebook.kernel.execute(cmd, {\n",
       "        iopub: {\n",
       "          output: function(msg) {\n",
       "            var element_id = msg.content.text.trim();\n",
       "            Bokeh.index[element_id].model.document.clear();\n",
       "            delete Bokeh.index[element_id];\n",
       "          }\n",
       "        }\n",
       "      });\n",
       "      // Destroy server and session\n",
       "      var cmd = \"import bokeh.io.notebook as ion; ion.destroy_server('\" + server_id + \"')\";\n",
       "      cell.notebook.kernel.execute(cmd);\n",
       "    }\n",
       "  }\n",
       "\n",
       "  /**\n",
       "   * Handle when a new output is added\n",
       "   */\n",
       "  function handleAddOutput(event, handle) {\n",
       "    var output_area = handle.output_area;\n",
       "    var output = handle.output;\n",
       "\n",
       "    // limit handleAddOutput to display_data with EXEC_MIME_TYPE content only\n",
       "    if ((output.output_type != \"display_data\") || (!output.data.hasOwnProperty(EXEC_MIME_TYPE))) {\n",
       "      return\n",
       "    }\n",
       "\n",
       "    var toinsert = output_area.element.find(\".\" + CLASS_NAME.split(' ')[0]);\n",
       "\n",
       "    if (output.metadata[EXEC_MIME_TYPE][\"id\"] !== undefined) {\n",
       "      toinsert[toinsert.length - 1].firstChild.textContent = output.data[JS_MIME_TYPE];\n",
       "      // store reference to embed id on output_area\n",
       "      output_area._bokeh_element_id = output.metadata[EXEC_MIME_TYPE][\"id\"];\n",
       "    }\n",
       "    if (output.metadata[EXEC_MIME_TYPE][\"server_id\"] !== undefined) {\n",
       "      var bk_div = document.createElement(\"div\");\n",
       "      bk_div.innerHTML = output.data[HTML_MIME_TYPE];\n",
       "      var script_attrs = bk_div.children[0].attributes;\n",
       "      for (var i = 0; i < script_attrs.length; i++) {\n",
       "        toinsert[toinsert.length - 1].firstChild.setAttribute(script_attrs[i].name, script_attrs[i].value);\n",
       "      }\n",
       "      // store reference to server id on output_area\n",
       "      output_area._bokeh_server_id = output.metadata[EXEC_MIME_TYPE][\"server_id\"];\n",
       "    }\n",
       "  }\n",
       "\n",
       "  function register_renderer(events, OutputArea) {\n",
       "\n",
       "    function append_mime(data, metadata, element) {\n",
       "      // create a DOM node to render to\n",
       "      var toinsert = this.create_output_subarea(\n",
       "        metadata,\n",
       "        CLASS_NAME,\n",
       "        EXEC_MIME_TYPE\n",
       "      );\n",
       "      this.keyboard_manager.register_events(toinsert);\n",
       "      // Render to node\n",
       "      var props = {data: data, metadata: metadata[EXEC_MIME_TYPE]};\n",
       "      render(props, toinsert[toinsert.length - 1]);\n",
       "      element.append(toinsert);\n",
       "      return toinsert\n",
       "    }\n",
       "\n",
       "    /* Handle when an output is cleared or removed */\n",
       "    events.on('clear_output.CodeCell', handleClearOutput);\n",
       "    events.on('delete.Cell', handleClearOutput);\n",
       "\n",
       "    /* Handle when a new output is added */\n",
       "    events.on('output_added.OutputArea', handleAddOutput);\n",
       "\n",
       "    /**\n",
       "     * Register the mime type and append_mime function with output_area\n",
       "     */\n",
       "    OutputArea.prototype.register_mime_type(EXEC_MIME_TYPE, append_mime, {\n",
       "      /* Is output safe? */\n",
       "      safe: true,\n",
       "      /* Index of renderer in `output_area.display_order` */\n",
       "      index: 0\n",
       "    });\n",
       "  }\n",
       "\n",
       "  // register the mime type if in Jupyter Notebook environment and previously unregistered\n",
       "  if (root.Jupyter !== undefined) {\n",
       "    var events = require('base/js/events');\n",
       "    var OutputArea = require('notebook/js/outputarea').OutputArea;\n",
       "\n",
       "    if (OutputArea.prototype.mime_types().indexOf(EXEC_MIME_TYPE) == -1) {\n",
       "      register_renderer(events, OutputArea);\n",
       "    }\n",
       "  }\n",
       "\n",
       "  \n",
       "  if (typeof (root._bokeh_timeout) === \"undefined\" || force === true) {\n",
       "    root._bokeh_timeout = Date.now() + 5000;\n",
       "    root._bokeh_failed_load = false;\n",
       "  }\n",
       "\n",
       "  var NB_LOAD_WARNING = {'data': {'text/html':\n",
       "     \"<div style='background-color: #fdd'>\\n\"+\n",
       "     \"<p>\\n\"+\n",
       "     \"BokehJS does not appear to have successfully loaded. If loading BokehJS from CDN, this \\n\"+\n",
       "     \"may be due to a slow or bad network connection. Possible fixes:\\n\"+\n",
       "     \"</p>\\n\"+\n",
       "     \"<ul>\\n\"+\n",
       "     \"<li>re-rerun `output_notebook()` to attempt to load from CDN again, or</li>\\n\"+\n",
       "     \"<li>use INLINE resources instead, as so:</li>\\n\"+\n",
       "     \"</ul>\\n\"+\n",
       "     \"<code>\\n\"+\n",
       "     \"from bokeh.resources import INLINE\\n\"+\n",
       "     \"output_notebook(resources=INLINE)\\n\"+\n",
       "     \"</code>\\n\"+\n",
       "     \"</div>\"}};\n",
       "\n",
       "  function display_loaded() {\n",
       "    var el = document.getElementById(\"da587740-f89f-4211-8f4d-b769eda8f4c1\");\n",
       "    if (el != null) {\n",
       "      el.textContent = \"BokehJS is loading...\";\n",
       "    }\n",
       "    if (root.Bokeh !== undefined) {\n",
       "      if (el != null) {\n",
       "        el.textContent = \"BokehJS \" + root.Bokeh.version + \" successfully loaded.\";\n",
       "      }\n",
       "    } else if (Date.now() < root._bokeh_timeout) {\n",
       "      setTimeout(display_loaded, 100)\n",
       "    }\n",
       "  }\n",
       "\n",
       "\n",
       "  function run_callbacks() {\n",
       "    try {\n",
       "      root._bokeh_onload_callbacks.forEach(function(callback) { callback() });\n",
       "    }\n",
       "    finally {\n",
       "      delete root._bokeh_onload_callbacks\n",
       "    }\n",
       "    console.info(\"Bokeh: all callbacks have finished\");\n",
       "  }\n",
       "\n",
       "  function load_libs(js_urls, callback) {\n",
       "    root._bokeh_onload_callbacks.push(callback);\n",
       "    if (root._bokeh_is_loading > 0) {\n",
       "      console.log(\"Bokeh: BokehJS is being loaded, scheduling callback at\", now());\n",
       "      return null;\n",
       "    }\n",
       "    if (js_urls == null || js_urls.length === 0) {\n",
       "      run_callbacks();\n",
       "      return null;\n",
       "    }\n",
       "    console.log(\"Bokeh: BokehJS not loaded, scheduling load and callback at\", now());\n",
       "    root._bokeh_is_loading = js_urls.length;\n",
       "    for (var i = 0; i < js_urls.length; i++) {\n",
       "      var url = js_urls[i];\n",
       "      var s = document.createElement('script');\n",
       "      s.src = url;\n",
       "      s.async = false;\n",
       "      s.onreadystatechange = s.onload = function() {\n",
       "        root._bokeh_is_loading--;\n",
       "        if (root._bokeh_is_loading === 0) {\n",
       "          console.log(\"Bokeh: all BokehJS libraries loaded\");\n",
       "          run_callbacks()\n",
       "        }\n",
       "      };\n",
       "      s.onerror = function() {\n",
       "        console.warn(\"failed to load library \" + url);\n",
       "      };\n",
       "      console.log(\"Bokeh: injecting script tag for BokehJS library: \", url);\n",
       "      document.getElementsByTagName(\"head\")[0].appendChild(s);\n",
       "    }\n",
       "  };var element = document.getElementById(\"da587740-f89f-4211-8f4d-b769eda8f4c1\");\n",
       "  if (element == null) {\n",
       "    console.log(\"Bokeh: ERROR: autoload.js configured with elementid 'da587740-f89f-4211-8f4d-b769eda8f4c1' but no matching script tag was found. \")\n",
       "    return false;\n",
       "  }\n",
       "\n",
       "  var js_urls = [\"https://cdn.pydata.org/bokeh/release/bokeh-0.12.16.min.js\", \"https://cdn.pydata.org/bokeh/release/bokeh-widgets-0.12.16.min.js\", \"https://cdn.pydata.org/bokeh/release/bokeh-tables-0.12.16.min.js\", \"https://cdn.pydata.org/bokeh/release/bokeh-gl-0.12.16.min.js\"];\n",
       "\n",
       "  var inline_js = [\n",
       "    function(Bokeh) {\n",
       "      Bokeh.set_log_level(\"info\");\n",
       "    },\n",
       "    \n",
       "    function(Bokeh) {\n",
       "      \n",
       "    },\n",
       "    function(Bokeh) {\n",
       "      console.log(\"Bokeh: injecting CSS: https://cdn.pydata.org/bokeh/release/bokeh-0.12.16.min.css\");\n",
       "      Bokeh.embed.inject_css(\"https://cdn.pydata.org/bokeh/release/bokeh-0.12.16.min.css\");\n",
       "      console.log(\"Bokeh: injecting CSS: https://cdn.pydata.org/bokeh/release/bokeh-widgets-0.12.16.min.css\");\n",
       "      Bokeh.embed.inject_css(\"https://cdn.pydata.org/bokeh/release/bokeh-widgets-0.12.16.min.css\");\n",
       "      console.log(\"Bokeh: injecting CSS: https://cdn.pydata.org/bokeh/release/bokeh-tables-0.12.16.min.css\");\n",
       "      Bokeh.embed.inject_css(\"https://cdn.pydata.org/bokeh/release/bokeh-tables-0.12.16.min.css\");\n",
       "    }\n",
       "  ];\n",
       "\n",
       "  function run_inline_js() {\n",
       "    \n",
       "    if ((root.Bokeh !== undefined) || (force === true)) {\n",
       "      for (var i = 0; i < inline_js.length; i++) {\n",
       "        inline_js[i].call(root, root.Bokeh);\n",
       "      }if (force === true) {\n",
       "        display_loaded();\n",
       "      }} else if (Date.now() < root._bokeh_timeout) {\n",
       "      setTimeout(run_inline_js, 100);\n",
       "    } else if (!root._bokeh_failed_load) {\n",
       "      console.log(\"Bokeh: BokehJS failed to load within specified timeout.\");\n",
       "      root._bokeh_failed_load = true;\n",
       "    } else if (force !== true) {\n",
       "      var cell = $(document.getElementById(\"da587740-f89f-4211-8f4d-b769eda8f4c1\")).parents('.cell').data().cell;\n",
       "      cell.output_area.append_execute_result(NB_LOAD_WARNING)\n",
       "    }\n",
       "\n",
       "  }\n",
       "\n",
       "  if (root._bokeh_is_loading === 0) {\n",
       "    console.log(\"Bokeh: BokehJS loaded, going straight to plotting\");\n",
       "    run_inline_js();\n",
       "  } else {\n",
       "    load_libs(js_urls, function() {\n",
       "      console.log(\"Bokeh: BokehJS plotting callback run at\", now());\n",
       "      run_inline_js();\n",
       "    });\n",
       "  }\n",
       "}(window));"
      ],
      "application/vnd.bokehjs_load.v0+json": "\n(function(root) {\n  function now() {\n    return new Date();\n  }\n\n  var force = true;\n\n  if (typeof (root._bokeh_onload_callbacks) === \"undefined\" || force === true) {\n    root._bokeh_onload_callbacks = [];\n    root._bokeh_is_loading = undefined;\n  }\n\n  \n\n  \n  if (typeof (root._bokeh_timeout) === \"undefined\" || force === true) {\n    root._bokeh_timeout = Date.now() + 5000;\n    root._bokeh_failed_load = false;\n  }\n\n  var NB_LOAD_WARNING = {'data': {'text/html':\n     \"<div style='background-color: #fdd'>\\n\"+\n     \"<p>\\n\"+\n     \"BokehJS does not appear to have successfully loaded. If loading BokehJS from CDN, this \\n\"+\n     \"may be due to a slow or bad network connection. Possible fixes:\\n\"+\n     \"</p>\\n\"+\n     \"<ul>\\n\"+\n     \"<li>re-rerun `output_notebook()` to attempt to load from CDN again, or</li>\\n\"+\n     \"<li>use INLINE resources instead, as so:</li>\\n\"+\n     \"</ul>\\n\"+\n     \"<code>\\n\"+\n     \"from bokeh.resources import INLINE\\n\"+\n     \"output_notebook(resources=INLINE)\\n\"+\n     \"</code>\\n\"+\n     \"</div>\"}};\n\n  function display_loaded() {\n    var el = document.getElementById(\"da587740-f89f-4211-8f4d-b769eda8f4c1\");\n    if (el != null) {\n      el.textContent = \"BokehJS is loading...\";\n    }\n    if (root.Bokeh !== undefined) {\n      if (el != null) {\n        el.textContent = \"BokehJS \" + root.Bokeh.version + \" successfully loaded.\";\n      }\n    } else if (Date.now() < root._bokeh_timeout) {\n      setTimeout(display_loaded, 100)\n    }\n  }\n\n\n  function run_callbacks() {\n    try {\n      root._bokeh_onload_callbacks.forEach(function(callback) { callback() });\n    }\n    finally {\n      delete root._bokeh_onload_callbacks\n    }\n    console.info(\"Bokeh: all callbacks have finished\");\n  }\n\n  function load_libs(js_urls, callback) {\n    root._bokeh_onload_callbacks.push(callback);\n    if (root._bokeh_is_loading > 0) {\n      console.log(\"Bokeh: BokehJS is being loaded, scheduling callback at\", now());\n      return null;\n    }\n    if (js_urls == null || js_urls.length === 0) {\n      run_callbacks();\n      return null;\n    }\n    console.log(\"Bokeh: BokehJS not loaded, scheduling load and callback at\", now());\n    root._bokeh_is_loading = js_urls.length;\n    for (var i = 0; i < js_urls.length; i++) {\n      var url = js_urls[i];\n      var s = document.createElement('script');\n      s.src = url;\n      s.async = false;\n      s.onreadystatechange = s.onload = function() {\n        root._bokeh_is_loading--;\n        if (root._bokeh_is_loading === 0) {\n          console.log(\"Bokeh: all BokehJS libraries loaded\");\n          run_callbacks()\n        }\n      };\n      s.onerror = function() {\n        console.warn(\"failed to load library \" + url);\n      };\n      console.log(\"Bokeh: injecting script tag for BokehJS library: \", url);\n      document.getElementsByTagName(\"head\")[0].appendChild(s);\n    }\n  };var element = document.getElementById(\"da587740-f89f-4211-8f4d-b769eda8f4c1\");\n  if (element == null) {\n    console.log(\"Bokeh: ERROR: autoload.js configured with elementid 'da587740-f89f-4211-8f4d-b769eda8f4c1' but no matching script tag was found. \")\n    return false;\n  }\n\n  var js_urls = [\"https://cdn.pydata.org/bokeh/release/bokeh-0.12.16.min.js\", \"https://cdn.pydata.org/bokeh/release/bokeh-widgets-0.12.16.min.js\", \"https://cdn.pydata.org/bokeh/release/bokeh-tables-0.12.16.min.js\", \"https://cdn.pydata.org/bokeh/release/bokeh-gl-0.12.16.min.js\"];\n\n  var inline_js = [\n    function(Bokeh) {\n      Bokeh.set_log_level(\"info\");\n    },\n    \n    function(Bokeh) {\n      \n    },\n    function(Bokeh) {\n      console.log(\"Bokeh: injecting CSS: https://cdn.pydata.org/bokeh/release/bokeh-0.12.16.min.css\");\n      Bokeh.embed.inject_css(\"https://cdn.pydata.org/bokeh/release/bokeh-0.12.16.min.css\");\n      console.log(\"Bokeh: injecting CSS: https://cdn.pydata.org/bokeh/release/bokeh-widgets-0.12.16.min.css\");\n      Bokeh.embed.inject_css(\"https://cdn.pydata.org/bokeh/release/bokeh-widgets-0.12.16.min.css\");\n      console.log(\"Bokeh: injecting CSS: https://cdn.pydata.org/bokeh/release/bokeh-tables-0.12.16.min.css\");\n      Bokeh.embed.inject_css(\"https://cdn.pydata.org/bokeh/release/bokeh-tables-0.12.16.min.css\");\n    }\n  ];\n\n  function run_inline_js() {\n    \n    if ((root.Bokeh !== undefined) || (force === true)) {\n      for (var i = 0; i < inline_js.length; i++) {\n        inline_js[i].call(root, root.Bokeh);\n      }if (force === true) {\n        display_loaded();\n      }} else if (Date.now() < root._bokeh_timeout) {\n      setTimeout(run_inline_js, 100);\n    } else if (!root._bokeh_failed_load) {\n      console.log(\"Bokeh: BokehJS failed to load within specified timeout.\");\n      root._bokeh_failed_load = true;\n    } else if (force !== true) {\n      var cell = $(document.getElementById(\"da587740-f89f-4211-8f4d-b769eda8f4c1\")).parents('.cell').data().cell;\n      cell.output_area.append_execute_result(NB_LOAD_WARNING)\n    }\n\n  }\n\n  if (root._bokeh_is_loading === 0) {\n    console.log(\"Bokeh: BokehJS loaded, going straight to plotting\");\n    run_inline_js();\n  } else {\n    load_libs(js_urls, function() {\n      console.log(\"Bokeh: BokehJS plotting callback run at\", now());\n      run_inline_js();\n    });\n  }\n}(window));"
     },
     "metadata": {},
     "output_type": "display_data"
    }
   ],
   "source": [
    "output_notebook()"
   ]
  },
  {
   "cell_type": "code",
   "execution_count": 8,
   "metadata": {
    "collapsed": true
   },
   "outputs": [],
   "source": [
    "def fmt_cool(ds_in):\n",
    "    ds = ds_in.copy(deep=True)\n",
    "    if 'igg' in ds.dims:\n",
    "        ds = ds.sel(igg=1)\n",
    "\n",
    "    if 'g' in ds.dims:\n",
    "        ds = ds.sum('g')\n",
    "            \n",
    "    if 'band' in ds.dims:\n",
    "        try:\n",
    "            ds = ds.squeeze('band')\n",
    "        except ValueError:\n",
    "            ds = ds.sum('band')\n",
    "                \n",
    "    return ds['coolrg']\n",
    "\n",
    "\n",
    "def pltdata_cooling_1(ds_cool=None,\n",
    "                      ds_cool_crd=None, ds_cool_wgt=None):\n",
    "    \n",
    "\n",
    "\n",
    "    colors = all_palettes['Set1'][4]\n",
    "    data = [{'label': 'CLIRAD `coolr_bands`',\n",
    "             'srs': fmt_cool(ds_cool),\n",
    "             'line_dash': 'dashed', 'line_width': 5,\n",
    "             'color': colors[0], 'alpha': .6},\n",
    "            {'label': 'CRD',\n",
    "             'srs': fmt_cool(ds_cool_crd),\n",
    "             'line_dash': 'solid', 'line_width': 1.5,\n",
    "             'marker': 'circle', 'marker_size': 5,\n",
    "             'color': colors[2], 'alpha': 1,},\n",
    "            {'label': 'WGT igg=10 wgt_flux=2',\n",
    "             'srs': fmt_cool(ds_cool_wgt),\n",
    "             'line_dash': 'solid', 'line_width': 3,\n",
    "             'marker': 'square', 'marker_size': 5,\n",
    "             'color': colors[3], 'alpha': .6}]\n",
    "    return data\n",
    "\n",
    "\n",
    "def nice_xlims(pltdata=None, prange=None):\n",
    "    \n",
    "    def get_slice(srs):\n",
    "        return srs.sel(pressure=slice(*prange))\n",
    "    \n",
    "    srss = [d['srs'] for d in pltdata]\n",
    "    vmin = min([get_slice(srs).min() for srs in srss])\n",
    "    vmax = max([get_slice(srs).max() for srs in srss])\n",
    "    dv = (vmax - vmin) * .01\n",
    "    return float(vmin - dv), float(vmax + dv)\n",
    "    \n",
    "\n",
    "def plt_cooling_bokeh(pltdata=None):\n",
    "    '''\n",
    "    Plot a list of cooling rate profiles using bokeh.\n",
    "    '''\n",
    "    ymin = 1e-2 \n",
    "    ymax = 1020 \n",
    "        \n",
    "    p1 = figure(title=\"Linear pressure scale\", \n",
    "                plot_width=400)        \n",
    "    xmin, xmax = nice_xlims(pltdata, prange=(50, 1050))\n",
    "    for d in pltdata:\n",
    "        if 'marker' in d:\n",
    "            getattr(p1, d['marker'])(d['srs'].values, \n",
    "                    d['srs'].coords['pressure'].values,\n",
    "                    color=d['color'], alpha=.7)\n",
    "        p1.line(d['srs'].values, \n",
    "                d['srs'].coords['pressure'].values,\n",
    "                color=d['color'], alpha=d['alpha'], \n",
    "                line_width=d['line_width'], line_dash=d['line_dash'])\n",
    "    \n",
    "    p1.y_range = Range1d(ymax, ymin)\n",
    "    p1.yaxis.axis_label = 'pressure [mb]'   \n",
    "    p1.x_range = Range1d(xmin, xmax)\n",
    "    p1.xaxis.axis_label = 'cooling rate [K/day]'\n",
    "            \n",
    "    p2 = figure(title='Log pressure scale', y_axis_type='log',\n",
    "                plot_width=560)\n",
    "    xmin, xmax = nice_xlims(pltdata, prange=(.01, 200))\n",
    "    \n",
    "    rs = []\n",
    "    for d in pltdata:\n",
    "        rd = []\n",
    "        if 'marker' in d:\n",
    "            r_mark = getattr(p2, d['marker'])(d['srs'].values, \n",
    "                        d['srs'].coords['pressure'].values,\n",
    "                        color=d['color'], alpha=.7)\n",
    "            rd.append(r_mark)\n",
    "        r_line = p2.line(d['srs'].values, \n",
    "                    d['srs'].coords['pressure'].values,\n",
    "                    color=d['color'], alpha=d['alpha'], \n",
    "                    line_width=d['line_width'], line_dash=d['line_dash'])\n",
    "        rd.append(r_line)\n",
    "      \n",
    "        rs.append(rd)\n",
    "        \n",
    "    p2.y_range = Range1d(ymax, ymin)  \n",
    "    p2.yaxis.axis_label = 'pressure [mb]'\n",
    "    \n",
    "    p2.x_range = Range1d(xmin, xmax)\n",
    "    p2.xaxis.axis_label = 'cooling rate [K/day]'\n",
    "    \n",
    "    items = [(d['label'], r) for r, d in zip(rs, pltdata)]\n",
    "    legend = Legend(items=items, location=(10, -30))\n",
    "    legend.label_text_font_size = '8pt'\n",
    "    \n",
    "    p2.add_layout(legend, 'right')  \n",
    "    \n",
    "    show(gridplot(p1, p2, ncols=2, plot_height=500))\n",
    "    \n",
    "\n",
    "def script_plt_cooling():\n",
    "    pltdata = pltdata_cooling_1(\n",
    "        ds_cool=DS_COOL,\n",
    "        ds_cool_crd=DS_COOL_CRD,\n",
    "        ds_cool_wgt=DS_COOL_WGT)\n",
    "    plt_cooling_bokeh(pltdata=pltdata)\n",
    "    print('''FIGURE. Cooling rate profiles.''')"
   ]
  },
  {
   "cell_type": "code",
   "execution_count": 9,
   "metadata": {
    "collapsed": true
   },
   "outputs": [],
   "source": [
    "def fmt_flux(ds_in):\n",
    "    ds = ds_in.copy(deep=True)\n",
    "    \n",
    "    for l in ('level', 'layer'):\n",
    "        if l in ds.data_vars:\n",
    "            if len(ds[l].dims) > 1:\n",
    "                surface = {d: 0 for d in ds.dims if d != 'pressure'}\n",
    "                coord_level = ds[l][surface]\n",
    "                ds.coords[l] = ('pressure', coord_level)\n",
    "            else:\n",
    "                ds.coords[l] = ('pressure', ds[l])\n",
    "        \n",
    "    ds = ds.isel(pressure=[0, 23, -1])\n",
    "        \n",
    "    if 'igg' in ds.dims:\n",
    "        ds = ds.sel(igg=[1])\n",
    "        ds = ds.squeeze('igg').drop('igg')\n",
    "    \n",
    "    if 'g' in ds.dims:\n",
    "        ds = ds.sum('g')\n",
    "            \n",
    "    if 'band' in ds.dims:\n",
    "        try:\n",
    "            ds = ds.squeeze('band').drop('band')\n",
    "        except ValueError:\n",
    "            ds = ds.sum('band')\n",
    "                \n",
    "    df = ds.to_dataframe()\n",
    "    df = df.set_index('level', append=True)               \n",
    "    return df\n",
    "\n",
    "\n",
    "def tbdata_flux(ds_flux=None, ds_flux_crd=None, ds_flux_wgt=None):\n",
    "    ilevels = [0, 23, -1]\n",
    "            \n",
    "    benchmark = {'label': 'CRD',\n",
    "                 'df': fmt_flux(ds_flux_crd)}\n",
    "    \n",
    "    tbs = [{'label': 'WGT igg=10 wgt_flux=1',\n",
    "            'df': fmt_flux(ds_flux_wgt)},\n",
    "           {'label': 'CLIRAD',\n",
    "            'df': fmt_flux(ds_flux)}]\n",
    "    \n",
    "    data = {'benchmark': benchmark, 'others': tbs}\n",
    "    return data\n",
    "\n",
    "\n",
    "def tb_flux(tbdata=None):\n",
    "    benchmark = tbdata['benchmark']\n",
    "    others = tbdata['others']\n",
    "    \n",
    "    def show_tb(d=None):\n",
    "        display.display(d['df'])\n",
    "        print('Table.', 'Fluxes.', d['label'])\n",
    "        \n",
    "    def show_tbdiff(d0=None, d=None):\n",
    "        df = d['df']\n",
    "        df.index = d0['df'].index\n",
    "        display.display(df - d0['df'])\n",
    "        print('Table.', 'Fluxes.', \n",
    "              '({}) - ({})'.format(d['label'], d0['label']))\n",
    "        \n",
    "    show_tb(benchmark)\n",
    "    for d in others:\n",
    "        show_tb(d)\n",
    "        \n",
    "    for d in others:\n",
    "        show_tbdiff(d=d, d0=benchmark)\n",
    "        \n",
    "        \n",
    "def script_tb_flux():\n",
    "    data = tbdata_flux(ds_flux=DS_FLUX,\n",
    "                       ds_flux_crd=DS_FLUX_CRD,\n",
    "                       ds_flux_wgt=DS_FLUX_WGT)\n",
    "    tb_flux(tbdata=data)"
   ]
  },
  {
   "cell_type": "code",
   "execution_count": 10,
   "metadata": {
    "collapsed": true
   },
   "outputs": [],
   "source": [
    "def band_map():\n",
    "    '''\n",
    "    Maps spectral bands in lblnew to spectral bands in clirad.\n",
    "    '''\n",
    "    lblnew2clirad = {'1': '1',\n",
    "            '2': '2',\n",
    "            '3a': '3',\n",
    "            '3b': '4',\n",
    "            '3c': '5',\n",
    "            '4': '6', \n",
    "            '5': '7',\n",
    "            '6': '8',\n",
    "            '7': '9', \n",
    "            '8': '10',\n",
    "            '9': '11'}\n",
    "    \n",
    "    clirad2lblnew = {clirad: lblnew \n",
    "                     for lblnew, clirad in lblnew2clirad.items()}\n",
    "    return clirad2lblnew\n",
    "\n",
    "\n",
    "def gasbands():\n",
    "    bmap = band_map()\n",
    "    gases = list(PARAM['molecule'].keys())\n",
    "    \n",
    "    bands = [bmap[str(b)] for b in PARAM['band']]\n",
    "    return list(itertools.product(gases, bands))\n",
    "\n",
    "\n",
    "def print_bestfit_params():\n",
    "    print('Best-fit values for each (gas, band)')\n",
    "    print('------------------------------------')\n",
    "    for gas, band in gasbands():\n",
    "        print('o {} band{}'.format(gas, band))\n",
    "        param = bestfits.kdist_params(molecule=gas, band=band)\n",
    "        for name, value in sorted(param.items()):\n",
    "            print(2 * ' ' + '{} = {}'.format(name, value))\n",
    "\n",
    "        \n",
    "def print_input_param():        \n",
    "    for name, value in PARAM.items():\n",
    "        print('{} = {}'.format(name, value))\n",
    "        \n",
    "        \n",
    "def print_lblnew_param():\n",
    "    for name, value in sorted(PARAM_LBLNEW.items()):\n",
    "        print('{} = {}'.format(name, value))\n"
   ]
  },
  {
   "cell_type": "code",
   "execution_count": 11,
   "metadata": {
    "collapsed": true,
    "scrolled": false
   },
   "outputs": [],
   "source": [
    "def show_html(s):\n",
    "    display.display(display.HTML(s))\n",
    "\n",
    "    \n",
    "def show_markdown(s):\n",
    "    display.display(display.Markdown(s))\n",
    "\n",
    "    \n",
    "def script():\n",
    "    \n",
    "    title = '### CLIRAD-LW'\n",
    "    s_input = 'Input Parameters'\n",
    "    s_lblnew_param = 'LBLNEW case compaired against'\n",
    "    s_bestfits = 'Best-fit Parameters'\n",
    "    s_plt_cooling = 'Cooling Rate Profiles'\n",
    "    s_tb_flux = 'Flux Comparison'\n",
    "    \n",
    "    # title\n",
    "    show_markdown('### CLIRAD-LW')\n",
    "    \n",
    "    # TOC\n",
    "    show_markdown('### Table of Contents')\n",
    "    show_html(climahtml.getHTML_hrefanchor(s_input))\n",
    "    show_html(climahtml.getHTML_hrefanchor(s_lblnew_param))\n",
    "    show_html(climahtml.getHTML_hrefanchor(s_plt_cooling))\n",
    "    show_html(climahtml.getHTML_hrefanchor(s_tb_flux))\n",
    "    show_html(climahtml.getHTML_hrefanchor(s_bestfits))\n",
    "    \n",
    "    # Input parameters\n",
    "    show_html(climahtml.getHTML_idanchor(s_input))\n",
    "    show_markdown(climahtml.getMarkdown_sectitle(s_input))\n",
    "    print_input_param()\n",
    "    \n",
    "    # LBLNEW parameters \n",
    "    show_html(climahtml.getHTML_idanchor(s_lblnew_param))\n",
    "    show_markdown(climahtml.getMarkdown_sectitle(s_lblnew_param))\n",
    "    print_lblnew_param()\n",
    "    \n",
    "    # Cooling rate profiles\n",
    "    show_html(climahtml.getHTML_idanchor(s_plt_cooling))\n",
    "    show_markdown(climahtml.getMarkdown_sectitle(s_plt_cooling))\n",
    "    script_plt_cooling()\n",
    "    \n",
    "    # Flux comparison\n",
    "    show_html(climahtml.getHTML_idanchor(s_tb_flux))\n",
    "    show_markdown(climahtml.getMarkdown_sectitle(s_tb_flux))\n",
    "    script_tb_flux()\n",
    "    \n",
    "    # Best-fit values\n",
    "    show_html(climahtml.getHTML_idanchor(s_bestfits))\n",
    "    show_markdown(climahtml.getMarkdown_sectitle(s_bestfits))\n",
    "    print_bestfit_params()\n",
    "   \n",
    "    "
   ]
  },
  {
   "cell_type": "code",
   "execution_count": 12,
   "metadata": {
    "collapsed": true,
    "scrolled": false
   },
   "outputs": [
    {
     "data": {
      "text/markdown": [
       "### CLIRAD-LW"
      ],
      "text/plain": [
       "<IPython.core.display.Markdown object>"
      ]
     },
     "metadata": {},
     "output_type": "display_data"
    },
    {
     "data": {
      "text/markdown": [
       "### Table of Contents"
      ],
      "text/plain": [
       "<IPython.core.display.Markdown object>"
      ]
     },
     "metadata": {},
     "output_type": "display_data"
    },
    {
     "data": {
      "text/html": [
       "<a href=\"#Input_Parameters\">Input Parameters</a>"
      ],
      "text/plain": [
       "<IPython.core.display.HTML object>"
      ]
     },
     "metadata": {},
     "output_type": "display_data"
    },
    {
     "data": {
      "text/html": [
       "<a href=\"#LBLNEW_case_compaired_against\">LBLNEW case compaired against</a>"
      ],
      "text/plain": [
       "<IPython.core.display.HTML object>"
      ]
     },
     "metadata": {},
     "output_type": "display_data"
    },
    {
     "data": {
      "text/html": [
       "<a href=\"#Cooling_Rate_Profiles\">Cooling Rate Profiles</a>"
      ],
      "text/plain": [
       "<IPython.core.display.HTML object>"
      ]
     },
     "metadata": {},
     "output_type": "display_data"
    },
    {
     "data": {
      "text/html": [
       "<a href=\"#Flux_Comparison\">Flux Comparison</a>"
      ],
      "text/plain": [
       "<IPython.core.display.HTML object>"
      ]
     },
     "metadata": {},
     "output_type": "display_data"
    },
    {
     "data": {
      "text/html": [
       "<a href=\"#Best-fit_Parameters\">Best-fit Parameters</a>"
      ],
      "text/plain": [
       "<IPython.core.display.HTML object>"
      ]
     },
     "metadata": {},
     "output_type": "display_data"
    },
    {
     "data": {
      "text/html": [
       "<a id=\"Input_Parameters\"></a>"
      ],
      "text/plain": [
       "<IPython.core.display.HTML object>"
      ]
     },
     "metadata": {},
     "output_type": "display_data"
    },
    {
     "data": {
      "text/markdown": [
       "# Input Parameters"
      ],
      "text/plain": [
       "<IPython.core.display.Markdown object>"
      ]
     },
     "metadata": {},
     "output_type": "display_data"
    },
    {
     "name": "stdout",
     "output_type": "stream",
     "text": [
      "atmpro = saw\n",
      "band = [11]\n",
      "commitnumber = de5d43e\n",
      "molecule = {'o3': 'atmpro'}\n",
      "tsfc = 257\n"
     ]
    },
    {
     "data": {
      "text/html": [
       "<a id=\"LBLNEW_case_compaired_against\"></a>"
      ],
      "text/plain": [
       "<IPython.core.display.HTML object>"
      ]
     },
     "metadata": {},
     "output_type": "display_data"
    },
    {
     "data": {
      "text/markdown": [
       "# LBLNEW case compaired against"
      ],
      "text/plain": [
       "<IPython.core.display.Markdown object>"
      ]
     },
     "metadata": {},
     "output_type": "display_data"
    },
    {
     "name": "stdout",
     "output_type": "stream",
     "text": [
      "atmpro = saw\n",
      "band = 9\n",
      "commitnumber = 5014a19\n",
      "conc = None\n",
      "dv = 0.001\n",
      "klin = 2e-20\n",
      "molecule = o3\n",
      "ng_adju = [0, 0]\n",
      "ng_refs = [2, 5]\n",
      "nv = 1000\n",
      "option_compute_btable = 0\n",
      "option_compute_ktable = 0\n",
      "option_wgt_flux = 1\n",
      "option_wgt_k = 1\n",
      "ref_pts = [(1, 250), (50, 250)]\n",
      "tsfc = 257\n",
      "vmax = 3000\n",
      "vmin = 1900\n",
      "w_diffuse = [(1.55, 1.55), (1.55, 1.55, 1.55, 1.55, 1.8)]\n",
      "wgt = [(0.3, 0.4), (0.5, 0.6, 0.7, 0.85, 0.9)]\n"
     ]
    },
    {
     "data": {
      "text/html": [
       "<a id=\"Cooling_Rate_Profiles\"></a>"
      ],
      "text/plain": [
       "<IPython.core.display.HTML object>"
      ]
     },
     "metadata": {},
     "output_type": "display_data"
    },
    {
     "data": {
      "text/markdown": [
       "# Cooling Rate Profiles"
      ],
      "text/plain": [
       "<IPython.core.display.Markdown object>"
      ]
     },
     "metadata": {},
     "output_type": "display_data"
    },
    {
     "data": {
      "text/html": [
       "\n",
       "<div class=\"bk-root\">\n",
       "    <div class=\"bk-plotdiv\" id=\"06006502-e0fb-4ccc-8664-95d7e6e49ccd\"></div>\n",
       "</div>"
      ]
     },
     "metadata": {},
     "output_type": "display_data"
    },
    {
     "data": {
      "application/javascript": [
       "(function(root) {\n",
       "  function embed_document(root) {\n",
       "    \n",
       "  var docs_json = {\"41d9a48d-d5c9-49cf-8421-2ae5bac8080b\":{\"roots\":{\"references\":[{\"attributes\":{},\"id\":\"ad893cf6-8023-4887-a134-e29a71ceda15\",\"type\":\"Selection\"},{\"attributes\":{},\"id\":\"8efff007-746b-4ccd-af00-70a9b22e3983\",\"type\":\"Selection\"},{\"attributes\":{},\"id\":\"1c424e40-69c5-4112-9da3-e5947f313330\",\"type\":\"UnionRenderers\"},{\"attributes\":{},\"id\":\"a2720e8a-ce7f-4d3e-b3cb-8da511293471\",\"type\":\"Selection\"},{\"attributes\":{\"source\":{\"id\":\"03f18a1b-3147-4fdb-a4ab-6fa4c18f4c3f\",\"type\":\"ColumnDataSource\"}},\"id\":\"dfae7bd2-7e96-4190-855c-133f6b26ee6e\",\"type\":\"CDSView\"},{\"attributes\":{},\"id\":\"c9367bf6-0d47-41ee-ae42-0ab6afa204ff\",\"type\":\"Selection\"},{\"attributes\":{},\"id\":\"21af96e1-0dfc-4685-b624-d4842341128e\",\"type\":\"UnionRenderers\"},{\"attributes\":{},\"id\":\"027e8726-3fdc-4af2-bd0d-58b48ae944ab\",\"type\":\"BasicTickFormatter\"},{\"attributes\":{\"ticker\":null},\"id\":\"3401c8b4-aa7f-485f-882d-8b6a7c2955c6\",\"type\":\"LogTickFormatter\"},{\"attributes\":{},\"id\":\"6016bc16-5cdd-4012-bb59-dbe73b7233ef\",\"type\":\"UnionRenderers\"},{\"attributes\":{},\"id\":\"0525068d-acff-425e-ad66-1d7724387226\",\"type\":\"Selection\"},{\"attributes\":{},\"id\":\"ac68bc19-aceb-4d3d-a3f7-fc05bab28a17\",\"type\":\"WheelZoomTool\"},{\"attributes\":{},\"id\":\"c8145e78-7ff0-4142-9809-c9a6ef711912\",\"type\":\"UnionRenderers\"},{\"attributes\":{},\"id\":\"bd9967be-3dd7-4c93-b450-0b00a8ae56b1\",\"type\":\"UnionRenderers\"},{\"attributes\":{\"callback\":null,\"end\":0.01,\"start\":1020},\"id\":\"775451c1-658b-4a8f-94e4-af2d5d090d61\",\"type\":\"Range1d\"},{\"attributes\":{},\"id\":\"73913e0f-7f39-4bb5-b6ab-12e502e3a837\",\"type\":\"Selection\"},{\"attributes\":{},\"id\":\"a90d4684-264f-4dce-9a8c-c60c211892b2\",\"type\":\"UnionRenderers\"},{\"attributes\":{},\"id\":\"3e6e0150-3db2-494f-ba79-8c45ddb99d0d\",\"type\":\"Selection\"},{\"attributes\":{\"axis_label\":\"pressure [mb]\",\"formatter\":{\"id\":\"fc770f44-393c-420f-b84e-ecdea224fb23\",\"type\":\"BasicTickFormatter\"},\"plot\":{\"id\":\"c29eb1a9-f956-407e-8677-4f1bdf1c9db5\",\"subtype\":\"Figure\",\"type\":\"Plot\"},\"ticker\":{\"id\":\"ceba551b-ddd0-4887-a6f8-060ca91c0bd7\",\"type\":\"BasicTicker\"}},\"id\":\"823b8782-3a73-4c2a-9c9d-bf920176ee52\",\"type\":\"LinearAxis\"},{\"attributes\":{\"tools\":[{\"id\":\"db9e0bcf-ea5d-4e39-8149-ec2305dfdc47\",\"type\":\"PanTool\"},{\"id\":\"ac68bc19-aceb-4d3d-a3f7-fc05bab28a17\",\"type\":\"WheelZoomTool\"},{\"id\":\"e43ce3d7-bf37-4402-8d46-11a345541e44\",\"type\":\"BoxZoomTool\"},{\"id\":\"b30e0c90-e6d7-47e7-95aa-4ed311ad13c7\",\"type\":\"SaveTool\"},{\"id\":\"0f62e0e0-ff29-471b-be46-150c76b1629a\",\"type\":\"ResetTool\"},{\"id\":\"b6467372-c91a-4026-940c-584f8859779b\",\"type\":\"HelpTool\"},{\"id\":\"35a8918c-30b0-4e77-a91f-a63c242751e4\",\"type\":\"PanTool\"},{\"id\":\"f26aa270-d2bd-4a5d-85f6-66feeaa1ce08\",\"type\":\"WheelZoomTool\"},{\"id\":\"d9b55ae8-131d-45e2-b734-67f3a230f768\",\"type\":\"BoxZoomTool\"},{\"id\":\"5c4ce63a-00c6-4184-8ac3-c3f702960a81\",\"type\":\"SaveTool\"},{\"id\":\"b0819e5c-3fa0-4cf8-b91b-96f788a71842\",\"type\":\"ResetTool\"},{\"id\":\"2705ef76-712c-4b07-8e9e-f5386b7c8b48\",\"type\":\"HelpTool\"}]},\"id\":\"6e997f15-c4c5-46eb-8e59-2ce832a7aaeb\",\"type\":\"ProxyToolbar\"},{\"attributes\":{\"callback\":null,\"end\":5.299204945e-05,\"start\":-0.00210054052445},\"id\":\"032897e2-8a73-4823-b81b-a373355a4357\",\"type\":\"Range1d\"},{\"attributes\":{\"toolbar\":{\"id\":\"6e997f15-c4c5-46eb-8e59-2ce832a7aaeb\",\"type\":\"ProxyToolbar\"},\"toolbar_location\":\"above\"},\"id\":\"e00b19a6-adf0-4de0-aa5c-7f0de9e9b68e\",\"type\":\"ToolbarBox\"},{\"attributes\":{\"children\":[{\"id\":\"e00b19a6-adf0-4de0-aa5c-7f0de9e9b68e\",\"type\":\"ToolbarBox\"},{\"id\":\"ce6117fa-e4f5-4923-b628-5455b4701bf8\",\"type\":\"Column\"}]},\"id\":\"ffd69214-131c-4a38-b2cd-44495f86dd55\",\"type\":\"Column\"},{\"attributes\":{\"source\":{\"id\":\"1aac8f24-70ec-40f6-af40-fa271f1941c9\",\"type\":\"ColumnDataSource\"}},\"id\":\"aaa220c1-02c1-44a6-87d5-c4db418abe5b\",\"type\":\"CDSView\"},{\"attributes\":{\"source\":{\"id\":\"5510d478-03ae-4838-8596-d71a55006c93\",\"type\":\"ColumnDataSource\"}},\"id\":\"6ffe7ec3-a960-4bb0-840d-d2c8163fc101\",\"type\":\"CDSView\"},{\"attributes\":{},\"id\":\"b30e0c90-e6d7-47e7-95aa-4ed311ad13c7\",\"type\":\"SaveTool\"},{\"attributes\":{\"callback\":null,\"data\":{\"x\":{\"__ndarray__\":\"JCFfINVJCb9z+l1an5QVv5B9qDkYTwu/ulzwZQPpCb/I/cctTvcFv2mUlzEAJ/y+O6wFHCz9x74xdZZcWCABP2KeWXBNrRU/LQjIA8jKIz8N0HHcoa8vP/Ab4IZClTc/XOnCL3XEQD9AmEcJzF5IP3p0GExy8lE/EfQr8Ok3WT+5Ug0LjgNhP17q6LuJSGY/L1jcjtiGbD/LfPWk1O1xP8fJ2m3y93U/jyvAg1f1dz8BjwjDCRd1P9pV18iGWnA/OSLPVYKjZj9wUOFZmShWP+H+O36vjxo/+XdzvVhUR7+HUchBDcdRv1gsawJYolS/R+zP2RTcV7/seDhvTxhcv/mxLpfZE2C/pBBGgFMXYb/fWW3Mk/VgvxQzglIbMV+/PloNYo9kWb+JGtdHuGxTv+4jbywsoE6/XgOUYp0sSb+rHeRcNS9Dv1Pv3C7v7Du/mi5qglziNL+1jWYnFKcuv3gvg0CsKia/hF6mR4blHr+8koqwN3UVv0bCiVYRNRC/vnJnr5TyCL8nO4fXh5YCvx77wuUdXPq+SGuX10aZ8r6Uba+grYDqvsoBiZK34uC+yMxxZE1zz74y/A/nmtuSPiFN0hU+5dA+a2qlyhVK3z4K17o1/CnmPnmIveRe+us+t1U40qJ+8D5lp51XVLPyPkoQ+NrKofQ+o3Ff+eNA9j5dS52anJf3PvnJn6pK3Pg+yv5VxiAb+j49NsfavR77PilugwNBsfs+LdVmZtqj+z7b87VVQeD6PtYwtCBnkvk+cPpAro799z67UuxkxFr2PrWgJdmDwfQ+\",\"dtype\":\"float64\",\"shape\":[75]},\"y\":{\"__ndarray__\":\"S/O/Q+51ND/Sv8nbtpRIP2vylNV0PVE/aTum7souWD/At0SJ8fVgPw3Iuahxymc/MSNhhJWvcD/bTfBN02d3P2zb5nxnaoA/CD5h5MAGhz8NmeH1TyaQP+zrCsc9p5Y/LbKd76fGnz/bLW5ISEmmPww9YvTcQq8/JV2OstnstT8Er5Y7M8G+P0c+r3jqkcU/5h99k6ZBzj88bCIzFzjVP4enV8oyxN0//yH99nXg5D8qOpLLf0jtP5kqGJXUifQ/c9cS8kHP/D+/DpwzojQEQIEmwoanVwxA4lgXt9HgE0BSSZ2AJuIbQAMJih9jjiNA5q4l5INuK0AwTKYKRj0zQNv5fmq8/DpAaCJseHrtQkB/+zpwzoxKQM3MzMzMeFJAZmZmZmZqWEAAAAAAAFxeQM3MzMzMJmJAmpmZmZkfZUBmZmZmZhhoQDMzMzMzEWtAAAAAAAAKbkBmZmZmZoFwQM3MzMzM/XFAMzMzMzN6c0CamZmZmfZ0QAAAAAAAc3ZAZmZmZmbvd0DNzMzMzGt5QDMzMzMz6HpAmpmZmZlkfEAAAAAAAOF9QGZmZmZmXX9AZmZmZuZsgECamZmZGSuBQM3MzMxM6YFAAAAAAICngkAzMzMzs2WDQGZmZmbmI4RAmpmZmRnihEDNzMzMTKCFQAAAAACAXoZAMzMzM7Mch0BmZmZm5tqHQJqZmZkZmYhAzczMzExXiUAAAAAAgBWKQDMzMzOz04pAZmZmZuaRi0CamZmZGVCMQM3MzMxMDo1AAAAAAIDMjUAzMzMzs4qOQGZmZmbmSI9A\",\"dtype\":\"float64\",\"shape\":[75]}},\"selected\":{\"id\":\"cc90afdf-2b1f-4ece-8e8b-d2c6f488c9e5\",\"type\":\"Selection\"},\"selection_policy\":{\"id\":\"7dcec73f-cbea-4a42-8085-800c0eb395c3\",\"type\":\"UnionRenderers\"}},\"id\":\"1aac8f24-70ec-40f6-af40-fa271f1941c9\",\"type\":\"ColumnDataSource\"},{\"attributes\":{},\"id\":\"db9e0bcf-ea5d-4e39-8149-ec2305dfdc47\",\"type\":\"PanTool\"},{\"attributes\":{},\"id\":\"e56ef3b0-341f-4846-a951-6676bf55cade\",\"type\":\"LinearScale\"},{\"attributes\":{},\"id\":\"b6467372-c91a-4026-940c-584f8859779b\",\"type\":\"HelpTool\"},{\"attributes\":{\"data_source\":{\"id\":\"5510d478-03ae-4838-8596-d71a55006c93\",\"type\":\"ColumnDataSource\"},\"glyph\":{\"id\":\"2efd021b-14b8-48c4-ac43-5a6d3e69ef27\",\"type\":\"Line\"},\"hover_glyph\":null,\"muted_glyph\":null,\"nonselection_glyph\":{\"id\":\"bec945dc-cb4c-49b9-b0d1-9a7e20ee5027\",\"type\":\"Line\"},\"selection_glyph\":null,\"view\":{\"id\":\"6ffe7ec3-a960-4bb0-840d-d2c8163fc101\",\"type\":\"CDSView\"}},\"id\":\"d90baf36-0af9-4d88-abec-39c1c120fdf3\",\"type\":\"GlyphRenderer\"},{\"attributes\":{\"data_source\":{\"id\":\"03f18a1b-3147-4fdb-a4ab-6fa4c18f4c3f\",\"type\":\"ColumnDataSource\"},\"glyph\":{\"id\":\"c152821a-84a4-4262-900a-7865b3d8ebcf\",\"type\":\"Circle\"},\"hover_glyph\":null,\"muted_glyph\":null,\"nonselection_glyph\":{\"id\":\"01e6ed3b-4b6d-437b-b1c4-345347240146\",\"type\":\"Circle\"},\"selection_glyph\":null,\"view\":{\"id\":\"dfae7bd2-7e96-4190-855c-133f6b26ee6e\",\"type\":\"CDSView\"}},\"id\":\"113d135b-9ca4-49f3-8a4f-c2e4736b6060\",\"type\":\"GlyphRenderer\"},{\"attributes\":{},\"id\":\"0f62e0e0-ff29-471b-be46-150c76b1629a\",\"type\":\"ResetTool\"},{\"attributes\":{\"plot\":null,\"text\":\"Linear pressure scale\"},\"id\":\"e74f1b0d-c78f-4bd5-9648-43e49acf48ac\",\"type\":\"Title\"},{\"attributes\":{\"line_color\":\"#4daf4a\",\"line_width\":1.5,\"x\":{\"field\":\"x\"},\"y\":{\"field\":\"y\"}},\"id\":\"2efd021b-14b8-48c4-ac43-5a6d3e69ef27\",\"type\":\"Line\"},{\"attributes\":{\"below\":[{\"id\":\"cc28fb27-5b39-42e7-9def-850dfcc2469a\",\"type\":\"LinearAxis\"}],\"left\":[{\"id\":\"80a703bc-4531-415e-bb30-ae24c80ddb89\",\"type\":\"LogAxis\"}],\"plot_height\":500,\"plot_width\":560,\"renderers\":[{\"id\":\"cc28fb27-5b39-42e7-9def-850dfcc2469a\",\"type\":\"LinearAxis\"},{\"id\":\"d0da53ba-3487-4603-bd6c-16d956acdd68\",\"type\":\"Grid\"},{\"id\":\"80a703bc-4531-415e-bb30-ae24c80ddb89\",\"type\":\"LogAxis\"},{\"id\":\"94747be5-18a5-40d2-9bcc-bbcd66ae60c0\",\"type\":\"Grid\"},{\"id\":\"4c9f18a3-8b13-4c7c-a162-1e7bca8841d8\",\"type\":\"BoxAnnotation\"},{\"id\":\"c81dad70-86d4-409b-bdf9-b83804195aa6\",\"type\":\"GlyphRenderer\"},{\"id\":\"1d8cc3a5-5550-403f-b36f-22bb883586df\",\"type\":\"GlyphRenderer\"},{\"id\":\"0254c8c8-c1d6-45ab-b4dd-55576930fc91\",\"type\":\"GlyphRenderer\"},{\"id\":\"8e75427e-7ee3-4646-b53e-ab79f8828b9c\",\"type\":\"GlyphRenderer\"},{\"id\":\"1cd54e08-8e5b-4582-a6fb-2c4085cc0bc3\",\"type\":\"GlyphRenderer\"},{\"id\":\"e0cbab39-1702-461b-9cf7-3e9591e3eaca\",\"type\":\"Legend\"}],\"right\":[{\"id\":\"e0cbab39-1702-461b-9cf7-3e9591e3eaca\",\"type\":\"Legend\"}],\"title\":{\"id\":\"d775bbe1-84cd-45f4-8056-70f53cbe6954\",\"type\":\"Title\"},\"toolbar\":{\"id\":\"0d125df8-38e4-4d39-a032-49366f3c84a9\",\"type\":\"Toolbar\"},\"toolbar_location\":null,\"x_range\":{\"id\":\"0ad6af77-0a90-4d54-8d9b-7ce89af4e656\",\"type\":\"Range1d\"},\"x_scale\":{\"id\":\"85024c70-5ef4-43db-9f9a-29e85dcabe08\",\"type\":\"LinearScale\"},\"y_range\":{\"id\":\"aea2b04e-50ec-42f3-bcbb-d235abac344d\",\"type\":\"Range1d\"},\"y_scale\":{\"id\":\"2d800c30-55c2-4311-a058-7665217e74e3\",\"type\":\"LogScale\"}},\"id\":\"94f77d19-965d-48cb-9353-67fbd88ab2e5\",\"subtype\":\"Figure\",\"type\":\"Plot\"},{\"attributes\":{\"axis_label\":\"cooling rate [K/day]\",\"formatter\":{\"id\":\"0ef44974-db6e-45ea-8c18-43dc6b28ac78\",\"type\":\"BasicTickFormatter\"},\"plot\":{\"id\":\"c29eb1a9-f956-407e-8677-4f1bdf1c9db5\",\"subtype\":\"Figure\",\"type\":\"Plot\"},\"ticker\":{\"id\":\"b9c390b8-8b85-49b8-97a7-b9e3eb5a4724\",\"type\":\"BasicTicker\"}},\"id\":\"284083ff-2362-420b-bbb3-b340ce16365a\",\"type\":\"LinearAxis\"},{\"attributes\":{\"bottom_units\":\"screen\",\"fill_alpha\":{\"value\":0.5},\"fill_color\":{\"value\":\"lightgrey\"},\"left_units\":\"screen\",\"level\":\"overlay\",\"line_alpha\":{\"value\":1.0},\"line_color\":{\"value\":\"black\"},\"line_dash\":[4,4],\"line_width\":{\"value\":2},\"plot\":null,\"render_mode\":\"css\",\"right_units\":\"screen\",\"top_units\":\"screen\"},\"id\":\"a40e13cd-4b2b-4ac5-8c7a-9e49f90a816c\",\"type\":\"BoxAnnotation\"},{\"attributes\":{\"children\":[{\"id\":\"d6342d40-4ae1-4964-944c-97546ded9245\",\"type\":\"Row\"}]},\"id\":\"ce6117fa-e4f5-4923-b628-5455b4701bf8\",\"type\":\"Column\"},{\"attributes\":{\"below\":[{\"id\":\"284083ff-2362-420b-bbb3-b340ce16365a\",\"type\":\"LinearAxis\"}],\"left\":[{\"id\":\"823b8782-3a73-4c2a-9c9d-bf920176ee52\",\"type\":\"LinearAxis\"}],\"plot_height\":500,\"plot_width\":400,\"renderers\":[{\"id\":\"284083ff-2362-420b-bbb3-b340ce16365a\",\"type\":\"LinearAxis\"},{\"id\":\"c56cd69a-0a08-490d-b778-57d470f067b1\",\"type\":\"Grid\"},{\"id\":\"823b8782-3a73-4c2a-9c9d-bf920176ee52\",\"type\":\"LinearAxis\"},{\"id\":\"196774f2-e01a-43bf-9ae9-114c38429cbd\",\"type\":\"Grid\"},{\"id\":\"a40e13cd-4b2b-4ac5-8c7a-9e49f90a816c\",\"type\":\"BoxAnnotation\"},{\"id\":\"e59a186a-45e8-4d10-a16b-23d33656dfd5\",\"type\":\"GlyphRenderer\"},{\"id\":\"113d135b-9ca4-49f3-8a4f-c2e4736b6060\",\"type\":\"GlyphRenderer\"},{\"id\":\"d90baf36-0af9-4d88-abec-39c1c120fdf3\",\"type\":\"GlyphRenderer\"},{\"id\":\"d0f487ec-6c49-4099-a0a0-014aed0e6497\",\"type\":\"GlyphRenderer\"},{\"id\":\"fcb5002e-8e5b-41e3-a76d-50e6a2a5067c\",\"type\":\"GlyphRenderer\"}],\"title\":{\"id\":\"e74f1b0d-c78f-4bd5-9648-43e49acf48ac\",\"type\":\"Title\"},\"toolbar\":{\"id\":\"16423b19-1a9d-4645-abc2-439d3f40d62c\",\"type\":\"Toolbar\"},\"toolbar_location\":null,\"x_range\":{\"id\":\"032897e2-8a73-4823-b81b-a373355a4357\",\"type\":\"Range1d\"},\"x_scale\":{\"id\":\"0a696187-c730-49e7-b172-2080c6a52b2c\",\"type\":\"LinearScale\"},\"y_range\":{\"id\":\"775451c1-658b-4a8f-94e4-af2d5d090d61\",\"type\":\"Range1d\"},\"y_scale\":{\"id\":\"e56ef3b0-341f-4846-a951-6676bf55cade\",\"type\":\"LinearScale\"}},\"id\":\"c29eb1a9-f956-407e-8677-4f1bdf1c9db5\",\"subtype\":\"Figure\",\"type\":\"Plot\"},{\"attributes\":{\"fill_alpha\":{\"value\":0.1},\"fill_color\":{\"value\":\"#1f77b4\"},\"line_alpha\":{\"value\":0.1},\"line_color\":{\"value\":\"#1f77b4\"},\"x\":{\"field\":\"x\"},\"y\":{\"field\":\"y\"}},\"id\":\"01e6ed3b-4b6d-437b-b1c4-345347240146\",\"type\":\"Circle\"},{\"attributes\":{\"callback\":null,\"data\":{\"x\":{\"__ndarray__\":\"qHU8NPoqDL/7cd0KFQwPv4wuUpSCaBG/S+xPuVOiEb/3QJJmvnwPv3wun+jxUga/PZ5Moohx6b542TSyBBgCPydLRZ9tiho/h/gzd85BKT8C7tNm6J80P0mJ/39nCz8/AxKGJu0rRj99jUAhritQP3NfbdUF5lc/MMbJPr3SYD9Bbex6b7FmP3Qj9zcSr20/JmRSCXD2cj8dfKCWmMd3P7qXQyj5DH0/s21ctPyPfz9sjP8+yJJ7P4R5cLjNG3U/TvntsjrVbD/IZ6jEC19cP9N7NRK8gy0/tqZEjDqeRr/LqlDoqnVRv7Vj8NXqCVS/1y9A8U/oVr9+A06QA7hav9Vjj9NGI16/t+PfBVeiX79Vw0Hsk3Zfv74f2CQIpl2/XTxH2kkhWb8Dk2M/hxFUvwxH3tkhdVC/b5vtAXIJTL/tlDDHZgxGv2cwpgtweEC/Z2Dl6R4oOb/E0Iqe+sUyvzgp1OzkgCu/OZaU2h5XI79lIf22AgUbvywqvEtygRS/Vu5Pl8S4D78LCPCymcMHv/bReX1P9wC/iuwBPrEq+L4QUrPNiH/xvpFq8RQgA+e+7TpeVPmG174Vxrgl8+ajvnCBcbyADtE+9c0CV4J54T5/mqHElpjpPp9jdSchafA+uhSZtCCK8z7u06IWqEX2Pk0bPnFdq/g+zRiz95iv+j5xbqXar1r8PrhtiPCI7v0+KfdwMu96/z58kbMDwVwAP415g5W5tgA/DOttKVStAD/SQFflMjMAP5K+Qk5Jx/4+4eD+kfDQ/D5ym2eFJcf6PjDkHHmDzPg+\",\"dtype\":\"float64\",\"shape\":[75]},\"y\":{\"__ndarray__\":\"GhExyth1ND/Sv8nbtpRIP2vylNV0PVE/aTum7souWD/At0SJ8fVgPw3Iuahxymc/MSNhhJWvcD/bTfBN02d3P2zb5nxnaoA/CD5h5MAGhz8NmeH1TyaQP+zrCsc9p5Y/LbKd76fGnz/bLW5ISEmmPww9YvTcQq8/JV2OstnstT8Er5Y7M8G+P0c+r3jqkcU/5h99k6ZBzj88bCIzFzjVP4enV8oyxN0//yH99nXg5D8qOpLLf0jtP5kqGJXUifQ/c9cS8kHP/D+/DpwzojQEQIEmwoanVwxA4lgXt9HgE0BSSZ2AJuIbQAMJih9jjiNA5q4l5INuK0AwTKYKRj0zQNv5fmq8/DpAaCJseHrtQkB/+zpwzoxKQM3MzMzMeFJAZmZmZmZqWEAAAAAAAFxeQM3MzMzMJmJAmpmZmZkfZUBmZmZmZhhoQDMzMzMzEWtAAAAAAAAKbkBmZmZmZoFwQM3MzMzM/XFAMzMzMzN6c0CamZmZmfZ0QAAAAAAAc3ZAZmZmZmbvd0DNzMzMzGt5QDMzMzMz6HpAmpmZmZlkfEAAAAAAAOF9QGZmZmZmXX9AZmZmZuZsgECamZmZGSuBQM3MzMxM6YFAAAAAAICngkAzMzMzs2WDQGZmZmbmI4RAmpmZmRnihEDNzMzMTKCFQAAAAACAXoZAMzMzM7Mch0BmZmZm5tqHQJqZmZkZmYhAzczMzExXiUAAAAAAgBWKQDMzMzOz04pAZmZmZuaRi0CamZmZGVCMQM3MzMxMDo1AAAAAAIDMjUAzMzMzs4qOQGZmZmbmSI9A\",\"dtype\":\"float64\",\"shape\":[75]}},\"selected\":{\"id\":\"d83b48da-379f-479d-99d0-f942e9b46e32\",\"type\":\"Selection\"},\"selection_policy\":{\"id\":\"de07deeb-348a-465f-af74-b4ad481f9ee8\",\"type\":\"UnionRenderers\"}},\"id\":\"5510d478-03ae-4838-8596-d71a55006c93\",\"type\":\"ColumnDataSource\"},{\"attributes\":{},\"id\":\"0a696187-c730-49e7-b172-2080c6a52b2c\",\"type\":\"LinearScale\"},{\"attributes\":{},\"id\":\"b9c390b8-8b85-49b8-97a7-b9e3eb5a4724\",\"type\":\"BasicTicker\"},{\"attributes\":{\"plot\":{\"id\":\"c29eb1a9-f956-407e-8677-4f1bdf1c9db5\",\"subtype\":\"Figure\",\"type\":\"Plot\"},\"ticker\":{\"id\":\"b9c390b8-8b85-49b8-97a7-b9e3eb5a4724\",\"type\":\"BasicTicker\"}},\"id\":\"c56cd69a-0a08-490d-b778-57d470f067b1\",\"type\":\"Grid\"},{\"attributes\":{\"data_source\":{\"id\":\"1aac8f24-70ec-40f6-af40-fa271f1941c9\",\"type\":\"ColumnDataSource\"},\"glyph\":{\"id\":\"32b506cb-9265-4976-8768-8e734886e142\",\"type\":\"Line\"},\"hover_glyph\":null,\"muted_glyph\":null,\"nonselection_glyph\":{\"id\":\"728b1c96-97fb-4585-a85f-a037e1494f76\",\"type\":\"Line\"},\"selection_glyph\":null,\"view\":{\"id\":\"aaa220c1-02c1-44a6-87d5-c4db418abe5b\",\"type\":\"CDSView\"}},\"id\":\"e59a186a-45e8-4d10-a16b-23d33656dfd5\",\"type\":\"GlyphRenderer\"},{\"attributes\":{},\"id\":\"ceba551b-ddd0-4887-a6f8-060ca91c0bd7\",\"type\":\"BasicTicker\"},{\"attributes\":{\"dimension\":1,\"plot\":{\"id\":\"c29eb1a9-f956-407e-8677-4f1bdf1c9db5\",\"subtype\":\"Figure\",\"type\":\"Plot\"},\"ticker\":{\"id\":\"ceba551b-ddd0-4887-a6f8-060ca91c0bd7\",\"type\":\"BasicTicker\"}},\"id\":\"196774f2-e01a-43bf-9ae9-114c38429cbd\",\"type\":\"Grid\"},{\"attributes\":{\"callback\":null,\"data\":{\"x\":{\"__ndarray__\":\"qHU8NPoqDL/7cd0KFQwPv4wuUpSCaBG/S+xPuVOiEb/3QJJmvnwPv3wun+jxUga/PZ5Moohx6b542TSyBBgCPydLRZ9tiho/h/gzd85BKT8C7tNm6J80P0mJ/39nCz8/AxKGJu0rRj99jUAhritQP3NfbdUF5lc/MMbJPr3SYD9Bbex6b7FmP3Qj9zcSr20/JmRSCXD2cj8dfKCWmMd3P7qXQyj5DH0/s21ctPyPfz9sjP8+yJJ7P4R5cLjNG3U/TvntsjrVbD/IZ6jEC19cP9N7NRK8gy0/tqZEjDqeRr/LqlDoqnVRv7Vj8NXqCVS/1y9A8U/oVr9+A06QA7hav9Vjj9NGI16/t+PfBVeiX79Vw0Hsk3Zfv74f2CQIpl2/XTxH2kkhWb8Dk2M/hxFUvwxH3tkhdVC/b5vtAXIJTL/tlDDHZgxGv2cwpgtweEC/Z2Dl6R4oOb/E0Iqe+sUyvzgp1OzkgCu/OZaU2h5XI79lIf22AgUbvywqvEtygRS/Vu5Pl8S4D78LCPCymcMHv/bReX1P9wC/iuwBPrEq+L4QUrPNiH/xvpFq8RQgA+e+7TpeVPmG174Vxrgl8+ajvnCBcbyADtE+9c0CV4J54T5/mqHElpjpPp9jdSchafA+uhSZtCCK8z7u06IWqEX2Pk0bPnFdq/g+zRiz95iv+j5xbqXar1r8PrhtiPCI7v0+KfdwMu96/z58kbMDwVwAP415g5W5tgA/DOttKVStAD/SQFflMjMAP5K+Qk5Jx/4+4eD+kfDQ/D5ym2eFJcf6PjDkHHmDzPg+\",\"dtype\":\"float64\",\"shape\":[75]},\"y\":{\"__ndarray__\":\"GhExyth1ND/Sv8nbtpRIP2vylNV0PVE/aTum7souWD/At0SJ8fVgPw3Iuahxymc/MSNhhJWvcD/bTfBN02d3P2zb5nxnaoA/CD5h5MAGhz8NmeH1TyaQP+zrCsc9p5Y/LbKd76fGnz/bLW5ISEmmPww9YvTcQq8/JV2OstnstT8Er5Y7M8G+P0c+r3jqkcU/5h99k6ZBzj88bCIzFzjVP4enV8oyxN0//yH99nXg5D8qOpLLf0jtP5kqGJXUifQ/c9cS8kHP/D+/DpwzojQEQIEmwoanVwxA4lgXt9HgE0BSSZ2AJuIbQAMJih9jjiNA5q4l5INuK0AwTKYKRj0zQNv5fmq8/DpAaCJseHrtQkB/+zpwzoxKQM3MzMzMeFJAZmZmZmZqWEAAAAAAAFxeQM3MzMzMJmJAmpmZmZkfZUBmZmZmZhhoQDMzMzMzEWtAAAAAAAAKbkBmZmZmZoFwQM3MzMzM/XFAMzMzMzN6c0CamZmZmfZ0QAAAAAAAc3ZAZmZmZmbvd0DNzMzMzGt5QDMzMzMz6HpAmpmZmZlkfEAAAAAAAOF9QGZmZmZmXX9AZmZmZuZsgECamZmZGSuBQM3MzMxM6YFAAAAAAICngkAzMzMzs2WDQGZmZmbmI4RAmpmZmRnihEDNzMzMTKCFQAAAAACAXoZAMzMzM7Mch0BmZmZm5tqHQJqZmZkZmYhAzczMzExXiUAAAAAAgBWKQDMzMzOz04pAZmZmZuaRi0CamZmZGVCMQM3MzMxMDo1AAAAAAIDMjUAzMzMzs4qOQGZmZmbmSI9A\",\"dtype\":\"float64\",\"shape\":[75]}},\"selected\":{\"id\":\"dc04aca1-3fc1-4861-8375-012750c50312\",\"type\":\"Selection\"},\"selection_policy\":{\"id\":\"32fc3e92-2ef8-4070-a4e2-8a388f4b5b23\",\"type\":\"UnionRenderers\"}},\"id\":\"03f18a1b-3147-4fdb-a4ab-6fa4c18f4c3f\",\"type\":\"ColumnDataSource\"},{\"attributes\":{\"fill_alpha\":{\"value\":0.7},\"fill_color\":{\"value\":\"#4daf4a\"},\"line_alpha\":{\"value\":0.7},\"line_color\":{\"value\":\"#4daf4a\"},\"x\":{\"field\":\"x\"},\"y\":{\"field\":\"y\"}},\"id\":\"c152821a-84a4-4262-900a-7865b3d8ebcf\",\"type\":\"Circle\"},{\"attributes\":{\"active_drag\":\"auto\",\"active_inspect\":\"auto\",\"active_scroll\":\"auto\",\"active_tap\":\"auto\",\"tools\":[{\"id\":\"db9e0bcf-ea5d-4e39-8149-ec2305dfdc47\",\"type\":\"PanTool\"},{\"id\":\"ac68bc19-aceb-4d3d-a3f7-fc05bab28a17\",\"type\":\"WheelZoomTool\"},{\"id\":\"e43ce3d7-bf37-4402-8d46-11a345541e44\",\"type\":\"BoxZoomTool\"},{\"id\":\"b30e0c90-e6d7-47e7-95aa-4ed311ad13c7\",\"type\":\"SaveTool\"},{\"id\":\"0f62e0e0-ff29-471b-be46-150c76b1629a\",\"type\":\"ResetTool\"},{\"id\":\"b6467372-c91a-4026-940c-584f8859779b\",\"type\":\"HelpTool\"}]},\"id\":\"16423b19-1a9d-4645-abc2-439d3f40d62c\",\"type\":\"Toolbar\"},{\"attributes\":{\"line_alpha\":0.1,\"line_color\":\"#1f77b4\",\"line_width\":1.5,\"x\":{\"field\":\"x\"},\"y\":{\"field\":\"y\"}},\"id\":\"bec945dc-cb4c-49b9-b0d1-9a7e20ee5027\",\"type\":\"Line\"},{\"attributes\":{\"line_alpha\":0.6,\"line_color\":\"#e41a1c\",\"line_dash\":[6],\"line_width\":5,\"x\":{\"field\":\"x\"},\"y\":{\"field\":\"y\"}},\"id\":\"32b506cb-9265-4976-8768-8e734886e142\",\"type\":\"Line\"},{\"attributes\":{\"overlay\":{\"id\":\"a40e13cd-4b2b-4ac5-8c7a-9e49f90a816c\",\"type\":\"BoxAnnotation\"}},\"id\":\"e43ce3d7-bf37-4402-8d46-11a345541e44\",\"type\":\"BoxZoomTool\"},{\"attributes\":{\"callback\":null,\"end\":0.007803596143,\"start\":-0.0021842380429999996},\"id\":\"0ad6af77-0a90-4d54-8d9b-7ce89af4e656\",\"type\":\"Range1d\"},{\"attributes\":{\"plot\":{\"id\":\"94f77d19-965d-48cb-9353-67fbd88ab2e5\",\"subtype\":\"Figure\",\"type\":\"Plot\"},\"ticker\":{\"id\":\"659e79fa-00ac-4417-b0b4-3c6cbf92a1c3\",\"type\":\"BasicTicker\"}},\"id\":\"d0da53ba-3487-4603-bd6c-16d956acdd68\",\"type\":\"Grid\"},{\"attributes\":{\"axis_label\":\"cooling rate [K/day]\",\"formatter\":{\"id\":\"027e8726-3fdc-4af2-bd0d-58b48ae944ab\",\"type\":\"BasicTickFormatter\"},\"plot\":{\"id\":\"94f77d19-965d-48cb-9353-67fbd88ab2e5\",\"subtype\":\"Figure\",\"type\":\"Plot\"},\"ticker\":{\"id\":\"659e79fa-00ac-4417-b0b4-3c6cbf92a1c3\",\"type\":\"BasicTicker\"}},\"id\":\"cc28fb27-5b39-42e7-9def-850dfcc2469a\",\"type\":\"LinearAxis\"},{\"attributes\":{},\"id\":\"659e79fa-00ac-4417-b0b4-3c6cbf92a1c3\",\"type\":\"BasicTicker\"},{\"attributes\":{\"active_drag\":\"auto\",\"active_inspect\":\"auto\",\"active_scroll\":\"auto\",\"active_tap\":\"auto\",\"tools\":[{\"id\":\"35a8918c-30b0-4e77-a91f-a63c242751e4\",\"type\":\"PanTool\"},{\"id\":\"f26aa270-d2bd-4a5d-85f6-66feeaa1ce08\",\"type\":\"WheelZoomTool\"},{\"id\":\"d9b55ae8-131d-45e2-b734-67f3a230f768\",\"type\":\"BoxZoomTool\"},{\"id\":\"5c4ce63a-00c6-4184-8ac3-c3f702960a81\",\"type\":\"SaveTool\"},{\"id\":\"b0819e5c-3fa0-4cf8-b91b-96f788a71842\",\"type\":\"ResetTool\"},{\"id\":\"2705ef76-712c-4b07-8e9e-f5386b7c8b48\",\"type\":\"HelpTool\"}]},\"id\":\"0d125df8-38e4-4d39-a032-49366f3c84a9\",\"type\":\"Toolbar\"},{\"attributes\":{},\"id\":\"85024c70-5ef4-43db-9f9a-29e85dcabe08\",\"type\":\"LinearScale\"},{\"attributes\":{\"line_alpha\":0.1,\"line_color\":\"#1f77b4\",\"line_width\":3,\"x\":{\"field\":\"x\"},\"y\":{\"field\":\"y\"}},\"id\":\"8aba287a-55e2-41fd-aa67-1a4ca37b7da3\",\"type\":\"Line\"},{\"attributes\":{\"items\":[{\"id\":\"fc202e27-f1ba-406a-b9ad-f1deafa041dd\",\"type\":\"LegendItem\"},{\"id\":\"80d43353-58ed-469f-bd5f-5e2dab236de4\",\"type\":\"LegendItem\"},{\"id\":\"27026cdb-158e-4cf4-9c68-6dd6081cb887\",\"type\":\"LegendItem\"}],\"label_text_font_size\":{\"value\":\"8pt\"},\"location\":[10,-30],\"plot\":{\"id\":\"94f77d19-965d-48cb-9353-67fbd88ab2e5\",\"subtype\":\"Figure\",\"type\":\"Plot\"}},\"id\":\"e0cbab39-1702-461b-9cf7-3e9591e3eaca\",\"type\":\"Legend\"},{\"attributes\":{\"fill_alpha\":{\"value\":0.7},\"fill_color\":{\"value\":\"#984ea3\"},\"line_alpha\":{\"value\":0.7},\"line_color\":{\"value\":\"#984ea3\"},\"x\":{\"field\":\"x\"},\"y\":{\"field\":\"y\"}},\"id\":\"642bcd9e-1767-42e9-98d4-ee210d332801\",\"type\":\"Square\"},{\"attributes\":{\"line_alpha\":0.1,\"line_color\":\"#1f77b4\",\"line_width\":3,\"x\":{\"field\":\"x\"},\"y\":{\"field\":\"y\"}},\"id\":\"f105d09d-b575-4283-9d58-600596ae0e8b\",\"type\":\"Line\"},{\"attributes\":{\"data_source\":{\"id\":\"d2557565-894b-4377-96c9-4430e96d84a5\",\"type\":\"ColumnDataSource\"},\"glyph\":{\"id\":\"2d4dc1ff-f238-40ad-921a-8477e6deef2b\",\"type\":\"Line\"},\"hover_glyph\":null,\"muted_glyph\":null,\"nonselection_glyph\":{\"id\":\"bd9c0e80-ec4a-458a-8a92-45baff2b47a3\",\"type\":\"Line\"},\"selection_glyph\":null,\"view\":{\"id\":\"14ce666d-14be-477d-843b-d039fc8c490c\",\"type\":\"CDSView\"}},\"id\":\"c81dad70-86d4-409b-bdf9-b83804195aa6\",\"type\":\"GlyphRenderer\"},{\"attributes\":{\"data_source\":{\"id\":\"6f2fb349-6b09-4308-9f58-c83646bcd51b\",\"type\":\"ColumnDataSource\"},\"glyph\":{\"id\":\"11e8a943-4ea4-42a3-b721-370951bbadfc\",\"type\":\"Line\"},\"hover_glyph\":null,\"muted_glyph\":null,\"nonselection_glyph\":{\"id\":\"f105d09d-b575-4283-9d58-600596ae0e8b\",\"type\":\"Line\"},\"selection_glyph\":null,\"view\":{\"id\":\"ae372063-b0d0-4280-8c63-a18fec78c8ec\",\"type\":\"CDSView\"}},\"id\":\"fcb5002e-8e5b-41e3-a76d-50e6a2a5067c\",\"type\":\"GlyphRenderer\"},{\"attributes\":{\"source\":{\"id\":\"6f2fb349-6b09-4308-9f58-c83646bcd51b\",\"type\":\"ColumnDataSource\"}},\"id\":\"ae372063-b0d0-4280-8c63-a18fec78c8ec\",\"type\":\"CDSView\"},{\"attributes\":{\"children\":[{\"id\":\"c29eb1a9-f956-407e-8677-4f1bdf1c9db5\",\"subtype\":\"Figure\",\"type\":\"Plot\"},{\"id\":\"94f77d19-965d-48cb-9353-67fbd88ab2e5\",\"subtype\":\"Figure\",\"type\":\"Plot\"}]},\"id\":\"d6342d40-4ae1-4964-944c-97546ded9245\",\"type\":\"Row\"},{\"attributes\":{\"plot\":null,\"text\":\"Log pressure scale\"},\"id\":\"d775bbe1-84cd-45f4-8056-70f53cbe6954\",\"type\":\"Title\"},{\"attributes\":{\"callback\":null,\"data\":{\"x\":{\"__ndarray__\":\"AHViEbeeCb/m5hqUOkYMv6jcPd3yyg+/Z+g4Z6EnEL+Q/32trPkMv0Un04zsuAS/WF7lKPbs6L7HTtvQfRQAP9TSjURrDxg/Nsfk+6MPJz9xFbbPZOYyPx1SJICrgzw/VoCD+2ppRD/8M/dvBthNP1ygutIEFFY/39oDM0khXz9ObAcDXAdlP/ecOXZNj2s/o6LrIISgcT8OWNaWJyV2P3Z1ksUuGHs/nOZY1kNzfT/r/7moVLJ5P+ILg0/npHM/fQIHJfG4aj++Buij8fNZP1jWCYvPAiU/CLkyA8SQR7+g8ksYCeNRv/a+s+06oVS/R5iWDcLMV7/6GWKNMRFcvwZ8hsVuEmC/IYUAOB0VYb/0X+wd4Ahhv0jdO9Ba7F+/5nCzMGuPWr9WDibVEdhUvwipMx65vVC/VGgTKiQETL+GIuxE0rxFv6mAxlNQ/z+/KP+nULcpOL/oSanj19Qxv0KVWYHM5ym/WL6T13wbIr+eAp3I5DEZvxZ83g6+DhO/k7+t5SRjDb9MIhv9zewFv9NTM7wvLf++5GVkeUsR9r6QSny12abvvo99FZPfcuS+UA5pT8nb076wOqEWGPFovkfKTcX5FNI+HgGQWF9h4T5M6PnfRfPoPiReupRase8+yKfk5CLE8j50hJjjLFD1PjOLQ/AXivc+ez37C+9o+T4YmWcfr/X6PhOdHOhGbfw+RYzAwpbf/T6E4tz95Qj/PlBtSfQmsP8+W97aX+6d/z5oEEwhBbr+PnAxImajN/0+eSsdJ9Nj+z6kFL84yn35Pjp2j7wnpvc+\",\"dtype\":\"float64\",\"shape\":[75]},\"y\":{\"__ndarray__\":\"GhExyth1ND/Sv8nbtpRIP2vylNV0PVE/aTum7souWD/At0SJ8fVgPw3Iuahxymc/MSNhhJWvcD/bTfBN02d3P2zb5nxnaoA/CD5h5MAGhz8NmeH1TyaQP+zrCsc9p5Y/LbKd76fGnz/bLW5ISEmmPww9YvTcQq8/JV2OstnstT8Er5Y7M8G+P0c+r3jqkcU/5h99k6ZBzj88bCIzFzjVP4enV8oyxN0//yH99nXg5D8qOpLLf0jtP5kqGJXUifQ/c9cS8kHP/D+/DpwzojQEQIEmwoanVwxA4lgXt9HgE0BSSZ2AJuIbQAMJih9jjiNA5q4l5INuK0AwTKYKRj0zQNv5fmq8/DpAaCJseHrtQkB/+zpwzoxKQM3MzMzMeFJAZmZmZmZqWEAAAAAAAFxeQM3MzMzMJmJAmpmZmZkfZUBmZmZmZhhoQDMzMzMzEWtAAAAAAAAKbkBmZmZmZoFwQM3MzMzM/XFAMzMzMzN6c0CamZmZmfZ0QAAAAAAAc3ZAZmZmZmbvd0DNzMzMzGt5QDMzMzMz6HpAmpmZmZlkfEAAAAAAAOF9QGZmZmZmXX9AZmZmZuZsgECamZmZGSuBQM3MzMxM6YFAAAAAAICngkAzMzMzs2WDQGZmZmbmI4RAmpmZmRnihEDNzMzMTKCFQAAAAACAXoZAMzMzM7Mch0BmZmZm5tqHQJqZmZkZmYhAzczMzExXiUAAAAAAgBWKQDMzMzOz04pAZmZmZuaRi0CamZmZGVCMQM3MzMxMDo1AAAAAAIDMjUAzMzMzs4qOQGZmZmbmSI9A\",\"dtype\":\"float64\",\"shape\":[75]}},\"selected\":{\"id\":\"a2720e8a-ce7f-4d3e-b3cb-8da511293471\",\"type\":\"Selection\"},\"selection_policy\":{\"id\":\"1c424e40-69c5-4112-9da3-e5947f313330\",\"type\":\"UnionRenderers\"}},\"id\":\"6f2fb349-6b09-4308-9f58-c83646bcd51b\",\"type\":\"ColumnDataSource\"},{\"attributes\":{},\"id\":\"2d800c30-55c2-4311-a058-7665217e74e3\",\"type\":\"LogScale\"},{\"attributes\":{\"axis_label\":\"pressure [mb]\",\"formatter\":{\"id\":\"3401c8b4-aa7f-485f-882d-8b6a7c2955c6\",\"type\":\"LogTickFormatter\"},\"plot\":{\"id\":\"94f77d19-965d-48cb-9353-67fbd88ab2e5\",\"subtype\":\"Figure\",\"type\":\"Plot\"},\"ticker\":{\"id\":\"01bddf1b-ca2c-40ee-8180-cbc728915179\",\"type\":\"LogTicker\"}},\"id\":\"80a703bc-4531-415e-bb30-ae24c80ddb89\",\"type\":\"LogAxis\"},{\"attributes\":{},\"id\":\"b0819e5c-3fa0-4cf8-b91b-96f788a71842\",\"type\":\"ResetTool\"},{\"attributes\":{\"source\":{\"id\":\"d2557565-894b-4377-96c9-4430e96d84a5\",\"type\":\"ColumnDataSource\"}},\"id\":\"14ce666d-14be-477d-843b-d039fc8c490c\",\"type\":\"CDSView\"},{\"attributes\":{\"fill_alpha\":{\"value\":0.7},\"fill_color\":{\"value\":\"#4daf4a\"},\"line_alpha\":{\"value\":0.7},\"line_color\":{\"value\":\"#4daf4a\"},\"x\":{\"field\":\"x\"},\"y\":{\"field\":\"y\"}},\"id\":\"b076142c-ddcd-4d11-9daa-970398922542\",\"type\":\"Circle\"},{\"attributes\":{},\"id\":\"f26aa270-d2bd-4a5d-85f6-66feeaa1ce08\",\"type\":\"WheelZoomTool\"},{\"attributes\":{\"overlay\":{\"id\":\"4c9f18a3-8b13-4c7c-a162-1e7bca8841d8\",\"type\":\"BoxAnnotation\"}},\"id\":\"d9b55ae8-131d-45e2-b734-67f3a230f768\",\"type\":\"BoxZoomTool\"},{\"attributes\":{},\"id\":\"5c4ce63a-00c6-4184-8ac3-c3f702960a81\",\"type\":\"SaveTool\"},{\"attributes\":{\"fill_alpha\":{\"value\":0.1},\"fill_color\":{\"value\":\"#1f77b4\"},\"line_alpha\":{\"value\":0.1},\"line_color\":{\"value\":\"#1f77b4\"},\"x\":{\"field\":\"x\"},\"y\":{\"field\":\"y\"}},\"id\":\"ccf462fa-084a-482b-8224-4667cdfc24d6\",\"type\":\"Circle\"},{\"attributes\":{\"num_minor_ticks\":10},\"id\":\"01bddf1b-ca2c-40ee-8180-cbc728915179\",\"type\":\"LogTicker\"},{\"attributes\":{\"callback\":null,\"data\":{\"x\":{\"__ndarray__\":\"AHViEbeeCb/m5hqUOkYMv6jcPd3yyg+/Z+g4Z6EnEL+Q/32trPkMv0Un04zsuAS/WF7lKPbs6L7HTtvQfRQAP9TSjURrDxg/Nsfk+6MPJz9xFbbPZOYyPx1SJICrgzw/VoCD+2ppRD/8M/dvBthNP1ygutIEFFY/39oDM0khXz9ObAcDXAdlP/ecOXZNj2s/o6LrIISgcT8OWNaWJyV2P3Z1ksUuGHs/nOZY1kNzfT/r/7moVLJ5P+ILg0/npHM/fQIHJfG4aj++Buij8fNZP1jWCYvPAiU/CLkyA8SQR7+g8ksYCeNRv/a+s+06oVS/R5iWDcLMV7/6GWKNMRFcvwZ8hsVuEmC/IYUAOB0VYb/0X+wd4Ahhv0jdO9Ba7F+/5nCzMGuPWr9WDibVEdhUvwipMx65vVC/VGgTKiQETL+GIuxE0rxFv6mAxlNQ/z+/KP+nULcpOL/oSanj19Qxv0KVWYHM5ym/WL6T13wbIr+eAp3I5DEZvxZ83g6+DhO/k7+t5SRjDb9MIhv9zewFv9NTM7wvLf++5GVkeUsR9r6QSny12abvvo99FZPfcuS+UA5pT8nb076wOqEWGPFovkfKTcX5FNI+HgGQWF9h4T5M6PnfRfPoPiReupRase8+yKfk5CLE8j50hJjjLFD1PjOLQ/AXivc+ez37C+9o+T4YmWcfr/X6PhOdHOhGbfw+RYzAwpbf/T6E4tz95Qj/PlBtSfQmsP8+W97aX+6d/z5oEEwhBbr+PnAxImajN/0+eSsdJ9Nj+z6kFL84yn35Pjp2j7wnpvc+\",\"dtype\":\"float64\",\"shape\":[75]},\"y\":{\"__ndarray__\":\"GhExyth1ND/Sv8nbtpRIP2vylNV0PVE/aTum7souWD/At0SJ8fVgPw3Iuahxymc/MSNhhJWvcD/bTfBN02d3P2zb5nxnaoA/CD5h5MAGhz8NmeH1TyaQP+zrCsc9p5Y/LbKd76fGnz/bLW5ISEmmPww9YvTcQq8/JV2OstnstT8Er5Y7M8G+P0c+r3jqkcU/5h99k6ZBzj88bCIzFzjVP4enV8oyxN0//yH99nXg5D8qOpLLf0jtP5kqGJXUifQ/c9cS8kHP/D+/DpwzojQEQIEmwoanVwxA4lgXt9HgE0BSSZ2AJuIbQAMJih9jjiNA5q4l5INuK0AwTKYKRj0zQNv5fmq8/DpAaCJseHrtQkB/+zpwzoxKQM3MzMzMeFJAZmZmZmZqWEAAAAAAAFxeQM3MzMzMJmJAmpmZmZkfZUBmZmZmZhhoQDMzMzMzEWtAAAAAAAAKbkBmZmZmZoFwQM3MzMzM/XFAMzMzMzN6c0CamZmZmfZ0QAAAAAAAc3ZAZmZmZmbvd0DNzMzMzGt5QDMzMzMz6HpAmpmZmZlkfEAAAAAAAOF9QGZmZmZmXX9AZmZmZuZsgECamZmZGSuBQM3MzMxM6YFAAAAAAICngkAzMzMzs2WDQGZmZmbmI4RAmpmZmRnihEDNzMzMTKCFQAAAAACAXoZAMzMzM7Mch0BmZmZm5tqHQJqZmZkZmYhAzczMzExXiUAAAAAAgBWKQDMzMzOz04pAZmZmZuaRi0CamZmZGVCMQM3MzMxMDo1AAAAAAIDMjUAzMzMzs4qOQGZmZmbmSI9A\",\"dtype\":\"float64\",\"shape\":[75]}},\"selected\":{\"id\":\"3e6e0150-3db2-494f-ba79-8c45ddb99d0d\",\"type\":\"Selection\"},\"selection_policy\":{\"id\":\"a90d4684-264f-4dce-9a8c-c60c211892b2\",\"type\":\"UnionRenderers\"}},\"id\":\"f7c634ea-4293-4761-9f8f-281cc7ffdec3\",\"type\":\"ColumnDataSource\"},{\"attributes\":{\"bottom_units\":\"screen\",\"fill_alpha\":{\"value\":0.5},\"fill_color\":{\"value\":\"lightgrey\"},\"left_units\":\"screen\",\"level\":\"overlay\",\"line_alpha\":{\"value\":1.0},\"line_color\":{\"value\":\"black\"},\"line_dash\":[4,4],\"line_width\":{\"value\":2},\"plot\":null,\"render_mode\":\"css\",\"right_units\":\"screen\",\"top_units\":\"screen\"},\"id\":\"4c9f18a3-8b13-4c7c-a162-1e7bca8841d8\",\"type\":\"BoxAnnotation\"},{\"attributes\":{\"data_source\":{\"id\":\"621a9558-e267-4235-9dd2-97ccfcc736b2\",\"type\":\"ColumnDataSource\"},\"glyph\":{\"id\":\"b076142c-ddcd-4d11-9daa-970398922542\",\"type\":\"Circle\"},\"hover_glyph\":null,\"muted_glyph\":null,\"nonselection_glyph\":{\"id\":\"ccf462fa-084a-482b-8224-4667cdfc24d6\",\"type\":\"Circle\"},\"selection_glyph\":null,\"view\":{\"id\":\"56165c89-19d1-4e66-a85a-cb7bb3d64a5d\",\"type\":\"CDSView\"}},\"id\":\"1d8cc3a5-5550-403f-b36f-22bb883586df\",\"type\":\"GlyphRenderer\"},{\"attributes\":{\"dimension\":1,\"plot\":{\"id\":\"94f77d19-965d-48cb-9353-67fbd88ab2e5\",\"subtype\":\"Figure\",\"type\":\"Plot\"},\"ticker\":{\"id\":\"01bddf1b-ca2c-40ee-8180-cbc728915179\",\"type\":\"LogTicker\"}},\"id\":\"94747be5-18a5-40d2-9bcc-bbcd66ae60c0\",\"type\":\"Grid\"},{\"attributes\":{\"data_source\":{\"id\":\"f7c634ea-4293-4761-9f8f-281cc7ffdec3\",\"type\":\"ColumnDataSource\"},\"glyph\":{\"id\":\"1dd73160-2b44-464f-ab9d-4dbc82f82588\",\"type\":\"Square\"},\"hover_glyph\":null,\"muted_glyph\":null,\"nonselection_glyph\":{\"id\":\"cfc66241-fcff-4408-a133-9aebea7a7b66\",\"type\":\"Square\"},\"selection_glyph\":null,\"view\":{\"id\":\"1795cb8e-5fec-41a0-af66-e4e48d3cef89\",\"type\":\"CDSView\"}},\"id\":\"8e75427e-7ee3-4646-b53e-ab79f8828b9c\",\"type\":\"GlyphRenderer\"},{\"attributes\":{},\"id\":\"35a8918c-30b0-4e77-a91f-a63c242751e4\",\"type\":\"PanTool\"},{\"attributes\":{\"callback\":null,\"end\":0.01,\"start\":1020},\"id\":\"aea2b04e-50ec-42f3-bcbb-d235abac344d\",\"type\":\"Range1d\"},{\"attributes\":{\"line_alpha\":0.1,\"line_color\":\"#1f77b4\",\"line_dash\":[6],\"line_width\":5,\"x\":{\"field\":\"x\"},\"y\":{\"field\":\"y\"}},\"id\":\"bd9c0e80-ec4a-458a-8a92-45baff2b47a3\",\"type\":\"Line\"},{\"attributes\":{},\"id\":\"2705ef76-712c-4b07-8e9e-f5386b7c8b48\",\"type\":\"HelpTool\"},{\"attributes\":{\"callback\":null,\"data\":{\"x\":{\"__ndarray__\":\"qHU8NPoqDL/7cd0KFQwPv4wuUpSCaBG/S+xPuVOiEb/3QJJmvnwPv3wun+jxUga/PZ5Moohx6b542TSyBBgCPydLRZ9tiho/h/gzd85BKT8C7tNm6J80P0mJ/39nCz8/AxKGJu0rRj99jUAhritQP3NfbdUF5lc/MMbJPr3SYD9Bbex6b7FmP3Qj9zcSr20/JmRSCXD2cj8dfKCWmMd3P7qXQyj5DH0/s21ctPyPfz9sjP8+yJJ7P4R5cLjNG3U/TvntsjrVbD/IZ6jEC19cP9N7NRK8gy0/tqZEjDqeRr/LqlDoqnVRv7Vj8NXqCVS/1y9A8U/oVr9+A06QA7hav9Vjj9NGI16/t+PfBVeiX79Vw0Hsk3Zfv74f2CQIpl2/XTxH2kkhWb8Dk2M/hxFUvwxH3tkhdVC/b5vtAXIJTL/tlDDHZgxGv2cwpgtweEC/Z2Dl6R4oOb/E0Iqe+sUyvzgp1OzkgCu/OZaU2h5XI79lIf22AgUbvywqvEtygRS/Vu5Pl8S4D78LCPCymcMHv/bReX1P9wC/iuwBPrEq+L4QUrPNiH/xvpFq8RQgA+e+7TpeVPmG174Vxrgl8+ajvnCBcbyADtE+9c0CV4J54T5/mqHElpjpPp9jdSchafA+uhSZtCCK8z7u06IWqEX2Pk0bPnFdq/g+zRiz95iv+j5xbqXar1r8PrhtiPCI7v0+KfdwMu96/z58kbMDwVwAP415g5W5tgA/DOttKVStAD/SQFflMjMAP5K+Qk5Jx/4+4eD+kfDQ/D5ym2eFJcf6PjDkHHmDzPg+\",\"dtype\":\"float64\",\"shape\":[75]},\"y\":{\"__ndarray__\":\"GhExyth1ND/Sv8nbtpRIP2vylNV0PVE/aTum7souWD/At0SJ8fVgPw3Iuahxymc/MSNhhJWvcD/bTfBN02d3P2zb5nxnaoA/CD5h5MAGhz8NmeH1TyaQP+zrCsc9p5Y/LbKd76fGnz/bLW5ISEmmPww9YvTcQq8/JV2OstnstT8Er5Y7M8G+P0c+r3jqkcU/5h99k6ZBzj88bCIzFzjVP4enV8oyxN0//yH99nXg5D8qOpLLf0jtP5kqGJXUifQ/c9cS8kHP/D+/DpwzojQEQIEmwoanVwxA4lgXt9HgE0BSSZ2AJuIbQAMJih9jjiNA5q4l5INuK0AwTKYKRj0zQNv5fmq8/DpAaCJseHrtQkB/+zpwzoxKQM3MzMzMeFJAZmZmZmZqWEAAAAAAAFxeQM3MzMzMJmJAmpmZmZkfZUBmZmZmZhhoQDMzMzMzEWtAAAAAAAAKbkBmZmZmZoFwQM3MzMzM/XFAMzMzMzN6c0CamZmZmfZ0QAAAAAAAc3ZAZmZmZmbvd0DNzMzMzGt5QDMzMzMz6HpAmpmZmZlkfEAAAAAAAOF9QGZmZmZmXX9AZmZmZuZsgECamZmZGSuBQM3MzMxM6YFAAAAAAICngkAzMzMzs2WDQGZmZmbmI4RAmpmZmRnihEDNzMzMTKCFQAAAAACAXoZAMzMzM7Mch0BmZmZm5tqHQJqZmZkZmYhAzczMzExXiUAAAAAAgBWKQDMzMzOz04pAZmZmZuaRi0CamZmZGVCMQM3MzMxMDo1AAAAAAIDMjUAzMzMzs4qOQGZmZmbmSI9A\",\"dtype\":\"float64\",\"shape\":[75]}},\"selected\":{\"id\":\"c9367bf6-0d47-41ee-ae42-0ab6afa204ff\",\"type\":\"Selection\"},\"selection_policy\":{\"id\":\"c8145e78-7ff0-4142-9809-c9a6ef711912\",\"type\":\"UnionRenderers\"}},\"id\":\"621a9558-e267-4235-9dd2-97ccfcc736b2\",\"type\":\"ColumnDataSource\"},{\"attributes\":{\"source\":{\"id\":\"f7c634ea-4293-4761-9f8f-281cc7ffdec3\",\"type\":\"ColumnDataSource\"}},\"id\":\"1795cb8e-5fec-41a0-af66-e4e48d3cef89\",\"type\":\"CDSView\"},{\"attributes\":{\"line_alpha\":0.6,\"line_color\":\"#984ea3\",\"line_width\":3,\"x\":{\"field\":\"x\"},\"y\":{\"field\":\"y\"}},\"id\":\"085f468d-768f-4b84-8f56-28494d398cfb\",\"type\":\"Line\"},{\"attributes\":{\"line_color\":\"#4daf4a\",\"line_width\":1.5,\"x\":{\"field\":\"x\"},\"y\":{\"field\":\"y\"}},\"id\":\"cdc2d201-4a3d-4a5e-b70e-864378729513\",\"type\":\"Line\"},{\"attributes\":{\"callback\":null,\"data\":{\"x\":{\"__ndarray__\":\"JCFfINVJCb9z+l1an5QVv5B9qDkYTwu/ulzwZQPpCb/I/cctTvcFv2mUlzEAJ/y+O6wFHCz9x74xdZZcWCABP2KeWXBNrRU/LQjIA8jKIz8N0HHcoa8vP/Ab4IZClTc/XOnCL3XEQD9AmEcJzF5IP3p0GExy8lE/EfQr8Ok3WT+5Ug0LjgNhP17q6LuJSGY/L1jcjtiGbD/LfPWk1O1xP8fJ2m3y93U/jyvAg1f1dz8BjwjDCRd1P9pV18iGWnA/OSLPVYKjZj9wUOFZmShWP+H+O36vjxo/+XdzvVhUR7+HUchBDcdRv1gsawJYolS/R+zP2RTcV7/seDhvTxhcv/mxLpfZE2C/pBBGgFMXYb/fWW3Mk/VgvxQzglIbMV+/PloNYo9kWb+JGtdHuGxTv+4jbywsoE6/XgOUYp0sSb+rHeRcNS9Dv1Pv3C7v7Du/mi5qglziNL+1jWYnFKcuv3gvg0CsKia/hF6mR4blHr+8koqwN3UVv0bCiVYRNRC/vnJnr5TyCL8nO4fXh5YCvx77wuUdXPq+SGuX10aZ8r6Uba+grYDqvsoBiZK34uC+yMxxZE1zz74y/A/nmtuSPiFN0hU+5dA+a2qlyhVK3z4K17o1/CnmPnmIveRe+us+t1U40qJ+8D5lp51XVLPyPkoQ+NrKofQ+o3Ff+eNA9j5dS52anJf3PvnJn6pK3Pg+yv5VxiAb+j49NsfavR77PilugwNBsfs+LdVmZtqj+z7b87VVQeD6PtYwtCBnkvk+cPpAro799z67UuxkxFr2PrWgJdmDwfQ+\",\"dtype\":\"float64\",\"shape\":[75]},\"y\":{\"__ndarray__\":\"S/O/Q+51ND/Sv8nbtpRIP2vylNV0PVE/aTum7souWD/At0SJ8fVgPw3Iuahxymc/MSNhhJWvcD/bTfBN02d3P2zb5nxnaoA/CD5h5MAGhz8NmeH1TyaQP+zrCsc9p5Y/LbKd76fGnz/bLW5ISEmmPww9YvTcQq8/JV2OstnstT8Er5Y7M8G+P0c+r3jqkcU/5h99k6ZBzj88bCIzFzjVP4enV8oyxN0//yH99nXg5D8qOpLLf0jtP5kqGJXUifQ/c9cS8kHP/D+/DpwzojQEQIEmwoanVwxA4lgXt9HgE0BSSZ2AJuIbQAMJih9jjiNA5q4l5INuK0AwTKYKRj0zQNv5fmq8/DpAaCJseHrtQkB/+zpwzoxKQM3MzMzMeFJAZmZmZmZqWEAAAAAAAFxeQM3MzMzMJmJAmpmZmZkfZUBmZmZmZhhoQDMzMzMzEWtAAAAAAAAKbkBmZmZmZoFwQM3MzMzM/XFAMzMzMzN6c0CamZmZmfZ0QAAAAAAAc3ZAZmZmZmbvd0DNzMzMzGt5QDMzMzMz6HpAmpmZmZlkfEAAAAAAAOF9QGZmZmZmXX9AZmZmZuZsgECamZmZGSuBQM3MzMxM6YFAAAAAAICngkAzMzMzs2WDQGZmZmbmI4RAmpmZmRnihEDNzMzMTKCFQAAAAACAXoZAMzMzM7Mch0BmZmZm5tqHQJqZmZkZmYhAzczMzExXiUAAAAAAgBWKQDMzMzOz04pAZmZmZuaRi0CamZmZGVCMQM3MzMxMDo1AAAAAAIDMjUAzMzMzs4qOQGZmZmbmSI9A\",\"dtype\":\"float64\",\"shape\":[75]}},\"selected\":{\"id\":\"8efff007-746b-4ccd-af00-70a9b22e3983\",\"type\":\"Selection\"},\"selection_policy\":{\"id\":\"6016bc16-5cdd-4012-bb59-dbe73b7233ef\",\"type\":\"UnionRenderers\"}},\"id\":\"d2557565-894b-4377-96c9-4430e96d84a5\",\"type\":\"ColumnDataSource\"},{\"attributes\":{\"source\":{\"id\":\"621a9558-e267-4235-9dd2-97ccfcc736b2\",\"type\":\"ColumnDataSource\"}},\"id\":\"56165c89-19d1-4e66-a85a-cb7bb3d64a5d\",\"type\":\"CDSView\"},{\"attributes\":{\"line_alpha\":0.1,\"line_color\":\"#1f77b4\",\"line_dash\":[6],\"line_width\":5,\"x\":{\"field\":\"x\"},\"y\":{\"field\":\"y\"}},\"id\":\"728b1c96-97fb-4585-a85f-a037e1494f76\",\"type\":\"Line\"},{\"attributes\":{\"callback\":null,\"data\":{\"x\":{\"__ndarray__\":\"qHU8NPoqDL/7cd0KFQwPv4wuUpSCaBG/S+xPuVOiEb/3QJJmvnwPv3wun+jxUga/PZ5Moohx6b542TSyBBgCPydLRZ9tiho/h/gzd85BKT8C7tNm6J80P0mJ/39nCz8/AxKGJu0rRj99jUAhritQP3NfbdUF5lc/MMbJPr3SYD9Bbex6b7FmP3Qj9zcSr20/JmRSCXD2cj8dfKCWmMd3P7qXQyj5DH0/s21ctPyPfz9sjP8+yJJ7P4R5cLjNG3U/TvntsjrVbD/IZ6jEC19cP9N7NRK8gy0/tqZEjDqeRr/LqlDoqnVRv7Vj8NXqCVS/1y9A8U/oVr9+A06QA7hav9Vjj9NGI16/t+PfBVeiX79Vw0Hsk3Zfv74f2CQIpl2/XTxH2kkhWb8Dk2M/hxFUvwxH3tkhdVC/b5vtAXIJTL/tlDDHZgxGv2cwpgtweEC/Z2Dl6R4oOb/E0Iqe+sUyvzgp1OzkgCu/OZaU2h5XI79lIf22AgUbvywqvEtygRS/Vu5Pl8S4D78LCPCymcMHv/bReX1P9wC/iuwBPrEq+L4QUrPNiH/xvpFq8RQgA+e+7TpeVPmG174Vxrgl8+ajvnCBcbyADtE+9c0CV4J54T5/mqHElpjpPp9jdSchafA+uhSZtCCK8z7u06IWqEX2Pk0bPnFdq/g+zRiz95iv+j5xbqXar1r8PrhtiPCI7v0+KfdwMu96/z58kbMDwVwAP415g5W5tgA/DOttKVStAD/SQFflMjMAP5K+Qk5Jx/4+4eD+kfDQ/D5ym2eFJcf6PjDkHHmDzPg+\",\"dtype\":\"float64\",\"shape\":[75]},\"y\":{\"__ndarray__\":\"GhExyth1ND/Sv8nbtpRIP2vylNV0PVE/aTum7souWD/At0SJ8fVgPw3Iuahxymc/MSNhhJWvcD/bTfBN02d3P2zb5nxnaoA/CD5h5MAGhz8NmeH1TyaQP+zrCsc9p5Y/LbKd76fGnz/bLW5ISEmmPww9YvTcQq8/JV2OstnstT8Er5Y7M8G+P0c+r3jqkcU/5h99k6ZBzj88bCIzFzjVP4enV8oyxN0//yH99nXg5D8qOpLLf0jtP5kqGJXUifQ/c9cS8kHP/D+/DpwzojQEQIEmwoanVwxA4lgXt9HgE0BSSZ2AJuIbQAMJih9jjiNA5q4l5INuK0AwTKYKRj0zQNv5fmq8/DpAaCJseHrtQkB/+zpwzoxKQM3MzMzMeFJAZmZmZmZqWEAAAAAAAFxeQM3MzMzMJmJAmpmZmZkfZUBmZmZmZhhoQDMzMzMzEWtAAAAAAAAKbkBmZmZmZoFwQM3MzMzM/XFAMzMzMzN6c0CamZmZmfZ0QAAAAAAAc3ZAZmZmZmbvd0DNzMzMzGt5QDMzMzMz6HpAmpmZmZlkfEAAAAAAAOF9QGZmZmZmXX9AZmZmZuZsgECamZmZGSuBQM3MzMxM6YFAAAAAAICngkAzMzMzs2WDQGZmZmbmI4RAmpmZmRnihEDNzMzMTKCFQAAAAACAXoZAMzMzM7Mch0BmZmZm5tqHQJqZmZkZmYhAzczMzExXiUAAAAAAgBWKQDMzMzOz04pAZmZmZuaRi0CamZmZGVCMQM3MzMxMDo1AAAAAAIDMjUAzMzMzs4qOQGZmZmbmSI9A\",\"dtype\":\"float64\",\"shape\":[75]}},\"selected\":{\"id\":\"73913e0f-7f39-4bb5-b6ab-12e502e3a837\",\"type\":\"Selection\"},\"selection_policy\":{\"id\":\"bd9967be-3dd7-4c93-b450-0b00a8ae56b1\",\"type\":\"UnionRenderers\"}},\"id\":\"44b2771d-635c-4329-afb3-a50da6d396d6\",\"type\":\"ColumnDataSource\"},{\"attributes\":{\"line_alpha\":0.6,\"line_color\":\"#e41a1c\",\"line_dash\":[6],\"line_width\":5,\"x\":{\"field\":\"x\"},\"y\":{\"field\":\"y\"}},\"id\":\"2d4dc1ff-f238-40ad-921a-8477e6deef2b\",\"type\":\"Line\"},{\"attributes\":{\"line_alpha\":0.1,\"line_color\":\"#1f77b4\",\"line_width\":1.5,\"x\":{\"field\":\"x\"},\"y\":{\"field\":\"y\"}},\"id\":\"e7bd0937-1bab-46c7-9fc3-bdae1b695df8\",\"type\":\"Line\"},{\"attributes\":{\"data_source\":{\"id\":\"44b2771d-635c-4329-afb3-a50da6d396d6\",\"type\":\"ColumnDataSource\"},\"glyph\":{\"id\":\"cdc2d201-4a3d-4a5e-b70e-864378729513\",\"type\":\"Line\"},\"hover_glyph\":null,\"muted_glyph\":null,\"nonselection_glyph\":{\"id\":\"e7bd0937-1bab-46c7-9fc3-bdae1b695df8\",\"type\":\"Line\"},\"selection_glyph\":null,\"view\":{\"id\":\"86d847f3-56ed-4d56-806c-768bfb5fa94d\",\"type\":\"CDSView\"}},\"id\":\"0254c8c8-c1d6-45ab-b4dd-55576930fc91\",\"type\":\"GlyphRenderer\"},{\"attributes\":{\"source\":{\"id\":\"44b2771d-635c-4329-afb3-a50da6d396d6\",\"type\":\"ColumnDataSource\"}},\"id\":\"86d847f3-56ed-4d56-806c-768bfb5fa94d\",\"type\":\"CDSView\"},{\"attributes\":{\"callback\":null,\"data\":{\"x\":{\"__ndarray__\":\"AHViEbeeCb/m5hqUOkYMv6jcPd3yyg+/Z+g4Z6EnEL+Q/32trPkMv0Un04zsuAS/WF7lKPbs6L7HTtvQfRQAP9TSjURrDxg/Nsfk+6MPJz9xFbbPZOYyPx1SJICrgzw/VoCD+2ppRD/8M/dvBthNP1ygutIEFFY/39oDM0khXz9ObAcDXAdlP/ecOXZNj2s/o6LrIISgcT8OWNaWJyV2P3Z1ksUuGHs/nOZY1kNzfT/r/7moVLJ5P+ILg0/npHM/fQIHJfG4aj++Buij8fNZP1jWCYvPAiU/CLkyA8SQR7+g8ksYCeNRv/a+s+06oVS/R5iWDcLMV7/6GWKNMRFcvwZ8hsVuEmC/IYUAOB0VYb/0X+wd4Ahhv0jdO9Ba7F+/5nCzMGuPWr9WDibVEdhUvwipMx65vVC/VGgTKiQETL+GIuxE0rxFv6mAxlNQ/z+/KP+nULcpOL/oSanj19Qxv0KVWYHM5ym/WL6T13wbIr+eAp3I5DEZvxZ83g6+DhO/k7+t5SRjDb9MIhv9zewFv9NTM7wvLf++5GVkeUsR9r6QSny12abvvo99FZPfcuS+UA5pT8nb076wOqEWGPFovkfKTcX5FNI+HgGQWF9h4T5M6PnfRfPoPiReupRase8+yKfk5CLE8j50hJjjLFD1PjOLQ/AXivc+ez37C+9o+T4YmWcfr/X6PhOdHOhGbfw+RYzAwpbf/T6E4tz95Qj/PlBtSfQmsP8+W97aX+6d/z5oEEwhBbr+PnAxImajN/0+eSsdJ9Nj+z6kFL84yn35Pjp2j7wnpvc+\",\"dtype\":\"float64\",\"shape\":[75]},\"y\":{\"__ndarray__\":\"GhExyth1ND/Sv8nbtpRIP2vylNV0PVE/aTum7souWD/At0SJ8fVgPw3Iuahxymc/MSNhhJWvcD/bTfBN02d3P2zb5nxnaoA/CD5h5MAGhz8NmeH1TyaQP+zrCsc9p5Y/LbKd76fGnz/bLW5ISEmmPww9YvTcQq8/JV2OstnstT8Er5Y7M8G+P0c+r3jqkcU/5h99k6ZBzj88bCIzFzjVP4enV8oyxN0//yH99nXg5D8qOpLLf0jtP5kqGJXUifQ/c9cS8kHP/D+/DpwzojQEQIEmwoanVwxA4lgXt9HgE0BSSZ2AJuIbQAMJih9jjiNA5q4l5INuK0AwTKYKRj0zQNv5fmq8/DpAaCJseHrtQkB/+zpwzoxKQM3MzMzMeFJAZmZmZmZqWEAAAAAAAFxeQM3MzMzMJmJAmpmZmZkfZUBmZmZmZhhoQDMzMzMzEWtAAAAAAAAKbkBmZmZmZoFwQM3MzMzM/XFAMzMzMzN6c0CamZmZmfZ0QAAAAAAAc3ZAZmZmZmbvd0DNzMzMzGt5QDMzMzMz6HpAmpmZmZlkfEAAAAAAAOF9QGZmZmZmXX9AZmZmZuZsgECamZmZGSuBQM3MzMxM6YFAAAAAAICngkAzMzMzs2WDQGZmZmbmI4RAmpmZmRnihEDNzMzMTKCFQAAAAACAXoZAMzMzM7Mch0BmZmZm5tqHQJqZmZkZmYhAzczMzExXiUAAAAAAgBWKQDMzMzOz04pAZmZmZuaRi0CamZmZGVCMQM3MzMxMDo1AAAAAAIDMjUAzMzMzs4qOQGZmZmbmSI9A\",\"dtype\":\"float64\",\"shape\":[75]}},\"selected\":{\"id\":\"ad893cf6-8023-4887-a134-e29a71ceda15\",\"type\":\"Selection\"},\"selection_policy\":{\"id\":\"87087af1-2d02-4ebb-a0fa-e6c2135f5dfe\",\"type\":\"UnionRenderers\"}},\"id\":\"6bc03546-6096-4620-93d1-57ae4ff6aa0d\",\"type\":\"ColumnDataSource\"},{\"attributes\":{\"fill_alpha\":{\"value\":0.7},\"fill_color\":{\"value\":\"#984ea3\"},\"line_alpha\":{\"value\":0.7},\"line_color\":{\"value\":\"#984ea3\"},\"x\":{\"field\":\"x\"},\"y\":{\"field\":\"y\"}},\"id\":\"1dd73160-2b44-464f-ab9d-4dbc82f82588\",\"type\":\"Square\"},{\"attributes\":{\"data_source\":{\"id\":\"d047188e-c6a3-4dc3-b358-ba0b2f61d529\",\"type\":\"ColumnDataSource\"},\"glyph\":{\"id\":\"085f468d-768f-4b84-8f56-28494d398cfb\",\"type\":\"Line\"},\"hover_glyph\":null,\"muted_glyph\":null,\"nonselection_glyph\":{\"id\":\"8aba287a-55e2-41fd-aa67-1a4ca37b7da3\",\"type\":\"Line\"},\"selection_glyph\":null,\"view\":{\"id\":\"c91712a9-a143-4ea6-9974-88dbe3f5f2bc\",\"type\":\"CDSView\"}},\"id\":\"1cd54e08-8e5b-4582-a6fb-2c4085cc0bc3\",\"type\":\"GlyphRenderer\"},{\"attributes\":{\"fill_alpha\":{\"value\":0.1},\"fill_color\":{\"value\":\"#1f77b4\"},\"line_alpha\":{\"value\":0.1},\"line_color\":{\"value\":\"#1f77b4\"},\"x\":{\"field\":\"x\"},\"y\":{\"field\":\"y\"}},\"id\":\"361e4afe-9671-4f4c-93bb-537e2930c496\",\"type\":\"Square\"},{\"attributes\":{\"callback\":null,\"data\":{\"x\":{\"__ndarray__\":\"AHViEbeeCb/m5hqUOkYMv6jcPd3yyg+/Z+g4Z6EnEL+Q/32trPkMv0Un04zsuAS/WF7lKPbs6L7HTtvQfRQAP9TSjURrDxg/Nsfk+6MPJz9xFbbPZOYyPx1SJICrgzw/VoCD+2ppRD/8M/dvBthNP1ygutIEFFY/39oDM0khXz9ObAcDXAdlP/ecOXZNj2s/o6LrIISgcT8OWNaWJyV2P3Z1ksUuGHs/nOZY1kNzfT/r/7moVLJ5P+ILg0/npHM/fQIHJfG4aj++Buij8fNZP1jWCYvPAiU/CLkyA8SQR7+g8ksYCeNRv/a+s+06oVS/R5iWDcLMV7/6GWKNMRFcvwZ8hsVuEmC/IYUAOB0VYb/0X+wd4Ahhv0jdO9Ba7F+/5nCzMGuPWr9WDibVEdhUvwipMx65vVC/VGgTKiQETL+GIuxE0rxFv6mAxlNQ/z+/KP+nULcpOL/oSanj19Qxv0KVWYHM5ym/WL6T13wbIr+eAp3I5DEZvxZ83g6+DhO/k7+t5SRjDb9MIhv9zewFv9NTM7wvLf++5GVkeUsR9r6QSny12abvvo99FZPfcuS+UA5pT8nb076wOqEWGPFovkfKTcX5FNI+HgGQWF9h4T5M6PnfRfPoPiReupRase8+yKfk5CLE8j50hJjjLFD1PjOLQ/AXivc+ez37C+9o+T4YmWcfr/X6PhOdHOhGbfw+RYzAwpbf/T6E4tz95Qj/PlBtSfQmsP8+W97aX+6d/z5oEEwhBbr+PnAxImajN/0+eSsdJ9Nj+z6kFL84yn35Pjp2j7wnpvc+\",\"dtype\":\"float64\",\"shape\":[75]},\"y\":{\"__ndarray__\":\"GhExyth1ND/Sv8nbtpRIP2vylNV0PVE/aTum7souWD/At0SJ8fVgPw3Iuahxymc/MSNhhJWvcD/bTfBN02d3P2zb5nxnaoA/CD5h5MAGhz8NmeH1TyaQP+zrCsc9p5Y/LbKd76fGnz/bLW5ISEmmPww9YvTcQq8/JV2OstnstT8Er5Y7M8G+P0c+r3jqkcU/5h99k6ZBzj88bCIzFzjVP4enV8oyxN0//yH99nXg5D8qOpLLf0jtP5kqGJXUifQ/c9cS8kHP/D+/DpwzojQEQIEmwoanVwxA4lgXt9HgE0BSSZ2AJuIbQAMJih9jjiNA5q4l5INuK0AwTKYKRj0zQNv5fmq8/DpAaCJseHrtQkB/+zpwzoxKQM3MzMzMeFJAZmZmZmZqWEAAAAAAAFxeQM3MzMzMJmJAmpmZmZkfZUBmZmZmZhhoQDMzMzMzEWtAAAAAAAAKbkBmZmZmZoFwQM3MzMzM/XFAMzMzMzN6c0CamZmZmfZ0QAAAAAAAc3ZAZmZmZmbvd0DNzMzMzGt5QDMzMzMz6HpAmpmZmZlkfEAAAAAAAOF9QGZmZmZmXX9AZmZmZuZsgECamZmZGSuBQM3MzMxM6YFAAAAAAICngkAzMzMzs2WDQGZmZmbmI4RAmpmZmRnihEDNzMzMTKCFQAAAAACAXoZAMzMzM7Mch0BmZmZm5tqHQJqZmZkZmYhAzczMzExXiUAAAAAAgBWKQDMzMzOz04pAZmZmZuaRi0CamZmZGVCMQM3MzMxMDo1AAAAAAIDMjUAzMzMzs4qOQGZmZmbmSI9A\",\"dtype\":\"float64\",\"shape\":[75]}},\"selected\":{\"id\":\"0525068d-acff-425e-ad66-1d7724387226\",\"type\":\"Selection\"},\"selection_policy\":{\"id\":\"21af96e1-0dfc-4685-b624-d4842341128e\",\"type\":\"UnionRenderers\"}},\"id\":\"d047188e-c6a3-4dc3-b358-ba0b2f61d529\",\"type\":\"ColumnDataSource\"},{\"attributes\":{\"source\":{\"id\":\"d047188e-c6a3-4dc3-b358-ba0b2f61d529\",\"type\":\"ColumnDataSource\"}},\"id\":\"c91712a9-a143-4ea6-9974-88dbe3f5f2bc\",\"type\":\"CDSView\"},{\"attributes\":{},\"id\":\"0ef44974-db6e-45ea-8c18-43dc6b28ac78\",\"type\":\"BasicTickFormatter\"},{\"attributes\":{\"source\":{\"id\":\"6bc03546-6096-4620-93d1-57ae4ff6aa0d\",\"type\":\"ColumnDataSource\"}},\"id\":\"340675ee-6785-42ff-a681-759fe6d0af98\",\"type\":\"CDSView\"},{\"attributes\":{},\"id\":\"fc770f44-393c-420f-b84e-ecdea224fb23\",\"type\":\"BasicTickFormatter\"},{\"attributes\":{\"label\":{\"value\":\"CLIRAD `coolr_bands`\"},\"renderers\":[{\"id\":\"c81dad70-86d4-409b-bdf9-b83804195aa6\",\"type\":\"GlyphRenderer\"}]},\"id\":\"fc202e27-f1ba-406a-b9ad-f1deafa041dd\",\"type\":\"LegendItem\"},{\"attributes\":{},\"id\":\"87087af1-2d02-4ebb-a0fa-e6c2135f5dfe\",\"type\":\"UnionRenderers\"},{\"attributes\":{\"fill_alpha\":{\"value\":0.1},\"fill_color\":{\"value\":\"#1f77b4\"},\"line_alpha\":{\"value\":0.1},\"line_color\":{\"value\":\"#1f77b4\"},\"x\":{\"field\":\"x\"},\"y\":{\"field\":\"y\"}},\"id\":\"cfc66241-fcff-4408-a133-9aebea7a7b66\",\"type\":\"Square\"},{\"attributes\":{\"label\":{\"value\":\"CRD\"},\"renderers\":[{\"id\":\"1d8cc3a5-5550-403f-b36f-22bb883586df\",\"type\":\"GlyphRenderer\"},{\"id\":\"0254c8c8-c1d6-45ab-b4dd-55576930fc91\",\"type\":\"GlyphRenderer\"}]},\"id\":\"80d43353-58ed-469f-bd5f-5e2dab236de4\",\"type\":\"LegendItem\"},{\"attributes\":{},\"id\":\"d83b48da-379f-479d-99d0-f942e9b46e32\",\"type\":\"Selection\"},{\"attributes\":{\"data_source\":{\"id\":\"6bc03546-6096-4620-93d1-57ae4ff6aa0d\",\"type\":\"ColumnDataSource\"},\"glyph\":{\"id\":\"642bcd9e-1767-42e9-98d4-ee210d332801\",\"type\":\"Square\"},\"hover_glyph\":null,\"muted_glyph\":null,\"nonselection_glyph\":{\"id\":\"361e4afe-9671-4f4c-93bb-537e2930c496\",\"type\":\"Square\"},\"selection_glyph\":null,\"view\":{\"id\":\"340675ee-6785-42ff-a681-759fe6d0af98\",\"type\":\"CDSView\"}},\"id\":\"d0f487ec-6c49-4099-a0a0-014aed0e6497\",\"type\":\"GlyphRenderer\"},{\"attributes\":{\"label\":{\"value\":\"WGT igg=10 wgt_flux=2\"},\"renderers\":[{\"id\":\"8e75427e-7ee3-4646-b53e-ab79f8828b9c\",\"type\":\"GlyphRenderer\"},{\"id\":\"1cd54e08-8e5b-4582-a6fb-2c4085cc0bc3\",\"type\":\"GlyphRenderer\"}]},\"id\":\"27026cdb-158e-4cf4-9c68-6dd6081cb887\",\"type\":\"LegendItem\"},{\"attributes\":{\"line_alpha\":0.6,\"line_color\":\"#984ea3\",\"line_width\":3,\"x\":{\"field\":\"x\"},\"y\":{\"field\":\"y\"}},\"id\":\"11e8a943-4ea4-42a3-b721-370951bbadfc\",\"type\":\"Line\"},{\"attributes\":{},\"id\":\"32fc3e92-2ef8-4070-a4e2-8a388f4b5b23\",\"type\":\"UnionRenderers\"},{\"attributes\":{},\"id\":\"7dcec73f-cbea-4a42-8085-800c0eb395c3\",\"type\":\"UnionRenderers\"},{\"attributes\":{},\"id\":\"dc04aca1-3fc1-4861-8375-012750c50312\",\"type\":\"Selection\"},{\"attributes\":{},\"id\":\"cc90afdf-2b1f-4ece-8e8b-d2c6f488c9e5\",\"type\":\"Selection\"},{\"attributes\":{},\"id\":\"de07deeb-348a-465f-af74-b4ad481f9ee8\",\"type\":\"UnionRenderers\"}],\"root_ids\":[\"ffd69214-131c-4a38-b2cd-44495f86dd55\"]},\"title\":\"Bokeh Application\",\"version\":\"0.12.16\"}};\n",
       "  var render_items = [{\"docid\":\"41d9a48d-d5c9-49cf-8421-2ae5bac8080b\",\"elementid\":\"06006502-e0fb-4ccc-8664-95d7e6e49ccd\",\"modelid\":\"ffd69214-131c-4a38-b2cd-44495f86dd55\"}];\n",
       "  root.Bokeh.embed.embed_items_notebook(docs_json, render_items);\n",
       "\n",
       "  }\n",
       "  if (root.Bokeh !== undefined) {\n",
       "    embed_document(root);\n",
       "  } else {\n",
       "    var attempts = 0;\n",
       "    var timer = setInterval(function(root) {\n",
       "      if (root.Bokeh !== undefined) {\n",
       "        embed_document(root);\n",
       "        clearInterval(timer);\n",
       "      }\n",
       "      attempts++;\n",
       "      if (attempts > 100) {\n",
       "        console.log(\"Bokeh: ERROR: Unable to run BokehJS code because BokehJS library is missing\")\n",
       "        clearInterval(timer);\n",
       "      }\n",
       "    }, 10, root)\n",
       "  }\n",
       "})(window);"
      ],
      "application/vnd.bokehjs_exec.v0+json": ""
     },
     "metadata": {
      "application/vnd.bokehjs_exec.v0+json": {
       "id": "ffd69214-131c-4a38-b2cd-44495f86dd55"
      }
     },
     "output_type": "display_data"
    },
    {
     "name": "stdout",
     "output_type": "stream",
     "text": [
      "FIGURE. Cooling rate profiles.\n"
     ]
    },
    {
     "data": {
      "text/html": [
       "<a id=\"Flux_Comparison\"></a>"
      ],
      "text/plain": [
       "<IPython.core.display.HTML object>"
      ]
     },
     "metadata": {},
     "output_type": "display_data"
    },
    {
     "data": {
      "text/markdown": [
       "# Flux Comparison"
      ],
      "text/plain": [
       "<IPython.core.display.Markdown object>"
      ]
     },
     "metadata": {},
     "output_type": "display_data"
    },
    {
     "data": {
      "text/html": [
       "<div>\n",
       "<style scoped>\n",
       "    .dataframe tbody tr th:only-of-type {\n",
       "        vertical-align: middle;\n",
       "    }\n",
       "\n",
       "    .dataframe tbody tr th {\n",
       "        vertical-align: top;\n",
       "    }\n",
       "\n",
       "    .dataframe thead th {\n",
       "        text-align: right;\n",
       "    }\n",
       "</style>\n",
       "<table border=\"1\" class=\"dataframe\">\n",
       "  <thead>\n",
       "    <tr style=\"text-align: right;\">\n",
       "      <th></th>\n",
       "      <th></th>\n",
       "      <th>flug</th>\n",
       "      <th>fldg</th>\n",
       "      <th>fnetg</th>\n",
       "    </tr>\n",
       "    <tr>\n",
       "      <th>pressure</th>\n",
       "      <th>level</th>\n",
       "      <th></th>\n",
       "      <th></th>\n",
       "      <th></th>\n",
       "    </tr>\n",
       "  </thead>\n",
       "  <tbody>\n",
       "    <tr>\n",
       "      <th>0.0000</th>\n",
       "      <th>1</th>\n",
       "      <td>-1.425259</td>\n",
       "      <td>0.000000</td>\n",
       "      <td>-1.425259</td>\n",
       "    </tr>\n",
       "    <tr>\n",
       "      <th>1.0685</th>\n",
       "      <th>24</th>\n",
       "      <td>-1.424986</td>\n",
       "      <td>0.000473</td>\n",
       "      <td>-1.424513</td>\n",
       "    </tr>\n",
       "    <tr>\n",
       "      <th>1013.0000</th>\n",
       "      <th>76</th>\n",
       "      <td>-1.466909</td>\n",
       "      <td>0.007168</td>\n",
       "      <td>-1.459741</td>\n",
       "    </tr>\n",
       "  </tbody>\n",
       "</table>\n",
       "</div>"
      ],
      "text/plain": [
       "                     flug      fldg     fnetg\n",
       "pressure  level                              \n",
       "0.0000    1     -1.425259  0.000000 -1.425259\n",
       "1.0685    24    -1.424986  0.000473 -1.424513\n",
       "1013.0000 76    -1.466909  0.007168 -1.459741"
      ]
     },
     "metadata": {},
     "output_type": "display_data"
    },
    {
     "name": "stdout",
     "output_type": "stream",
     "text": [
      "Table. Fluxes. CRD\n"
     ]
    },
    {
     "data": {
      "text/html": [
       "<div>\n",
       "<style scoped>\n",
       "    .dataframe tbody tr th:only-of-type {\n",
       "        vertical-align: middle;\n",
       "    }\n",
       "\n",
       "    .dataframe tbody tr th {\n",
       "        vertical-align: top;\n",
       "    }\n",
       "\n",
       "    .dataframe thead th {\n",
       "        text-align: right;\n",
       "    }\n",
       "</style>\n",
       "<table border=\"1\" class=\"dataframe\">\n",
       "  <thead>\n",
       "    <tr style=\"text-align: right;\">\n",
       "      <th></th>\n",
       "      <th></th>\n",
       "      <th>flug</th>\n",
       "      <th>fldg</th>\n",
       "      <th>fnetg</th>\n",
       "    </tr>\n",
       "    <tr>\n",
       "      <th>pressure</th>\n",
       "      <th>level</th>\n",
       "      <th></th>\n",
       "      <th></th>\n",
       "      <th></th>\n",
       "    </tr>\n",
       "  </thead>\n",
       "  <tbody>\n",
       "    <tr>\n",
       "      <th>0.0000</th>\n",
       "      <th>1</th>\n",
       "      <td>-1.423681</td>\n",
       "      <td>0.000000</td>\n",
       "      <td>-1.423681</td>\n",
       "    </tr>\n",
       "    <tr>\n",
       "      <th>1.0685</th>\n",
       "      <th>24</th>\n",
       "      <td>-1.423429</td>\n",
       "      <td>0.000443</td>\n",
       "      <td>-1.422986</td>\n",
       "    </tr>\n",
       "    <tr>\n",
       "      <th>1013.0000</th>\n",
       "      <th>76</th>\n",
       "      <td>-1.466909</td>\n",
       "      <td>0.007235</td>\n",
       "      <td>-1.459674</td>\n",
       "    </tr>\n",
       "  </tbody>\n",
       "</table>\n",
       "</div>"
      ],
      "text/plain": [
       "                     flug      fldg     fnetg\n",
       "pressure  level                              \n",
       "0.0000    1     -1.423681  0.000000 -1.423681\n",
       "1.0685    24    -1.423429  0.000443 -1.422986\n",
       "1013.0000 76    -1.466909  0.007235 -1.459674"
      ]
     },
     "metadata": {},
     "output_type": "display_data"
    },
    {
     "name": "stdout",
     "output_type": "stream",
     "text": [
      "Table. Fluxes. WGT igg=10 wgt_flux=1\n"
     ]
    },
    {
     "data": {
      "text/html": [
       "<div>\n",
       "<style scoped>\n",
       "    .dataframe tbody tr th:only-of-type {\n",
       "        vertical-align: middle;\n",
       "    }\n",
       "\n",
       "    .dataframe tbody tr th {\n",
       "        vertical-align: top;\n",
       "    }\n",
       "\n",
       "    .dataframe thead th {\n",
       "        text-align: right;\n",
       "    }\n",
       "</style>\n",
       "<table border=\"1\" class=\"dataframe\">\n",
       "  <thead>\n",
       "    <tr style=\"text-align: right;\">\n",
       "      <th></th>\n",
       "      <th></th>\n",
       "      <th>flug</th>\n",
       "      <th>fldg</th>\n",
       "      <th>fnetg</th>\n",
       "    </tr>\n",
       "    <tr>\n",
       "      <th>pressure</th>\n",
       "      <th>level</th>\n",
       "      <th></th>\n",
       "      <th></th>\n",
       "      <th></th>\n",
       "    </tr>\n",
       "  </thead>\n",
       "  <tbody>\n",
       "    <tr>\n",
       "      <th>1.000000e-08</th>\n",
       "      <th>1</th>\n",
       "      <td>-1.425814</td>\n",
       "      <td>0.000002</td>\n",
       "      <td>-1.425812</td>\n",
       "    </tr>\n",
       "    <tr>\n",
       "      <th>1.068500e+00</th>\n",
       "      <th>24</th>\n",
       "      <td>-1.425612</td>\n",
       "      <td>0.000367</td>\n",
       "      <td>-1.425245</td>\n",
       "    </tr>\n",
       "    <tr>\n",
       "      <th>1.013000e+03</th>\n",
       "      <th>76</th>\n",
       "      <td>-1.466909</td>\n",
       "      <td>0.006724</td>\n",
       "      <td>-1.460185</td>\n",
       "    </tr>\n",
       "  </tbody>\n",
       "</table>\n",
       "</div>"
      ],
      "text/plain": [
       "                        flug      fldg     fnetg\n",
       "pressure     level                              \n",
       "1.000000e-08 1     -1.425814  0.000002 -1.425812\n",
       "1.068500e+00 24    -1.425612  0.000367 -1.425245\n",
       "1.013000e+03 76    -1.466909  0.006724 -1.460185"
      ]
     },
     "metadata": {},
     "output_type": "display_data"
    },
    {
     "name": "stdout",
     "output_type": "stream",
     "text": [
      "Table. Fluxes. CLIRAD\n"
     ]
    },
    {
     "data": {
      "text/html": [
       "<div>\n",
       "<style scoped>\n",
       "    .dataframe tbody tr th:only-of-type {\n",
       "        vertical-align: middle;\n",
       "    }\n",
       "\n",
       "    .dataframe tbody tr th {\n",
       "        vertical-align: top;\n",
       "    }\n",
       "\n",
       "    .dataframe thead th {\n",
       "        text-align: right;\n",
       "    }\n",
       "</style>\n",
       "<table border=\"1\" class=\"dataframe\">\n",
       "  <thead>\n",
       "    <tr style=\"text-align: right;\">\n",
       "      <th></th>\n",
       "      <th></th>\n",
       "      <th>flug</th>\n",
       "      <th>fldg</th>\n",
       "      <th>fnetg</th>\n",
       "    </tr>\n",
       "    <tr>\n",
       "      <th>pressure</th>\n",
       "      <th>level</th>\n",
       "      <th></th>\n",
       "      <th></th>\n",
       "      <th></th>\n",
       "    </tr>\n",
       "  </thead>\n",
       "  <tbody>\n",
       "    <tr>\n",
       "      <th>0.0000</th>\n",
       "      <th>1</th>\n",
       "      <td>1.577849e-03</td>\n",
       "      <td>0.000000</td>\n",
       "      <td>0.001578</td>\n",
       "    </tr>\n",
       "    <tr>\n",
       "      <th>1.0685</th>\n",
       "      <th>24</th>\n",
       "      <td>1.557013e-03</td>\n",
       "      <td>-0.000030</td>\n",
       "      <td>0.001527</td>\n",
       "    </tr>\n",
       "    <tr>\n",
       "      <th>1013.0000</th>\n",
       "      <th>76</th>\n",
       "      <td>4.940000e-08</td>\n",
       "      <td>0.000067</td>\n",
       "      <td>0.000067</td>\n",
       "    </tr>\n",
       "  </tbody>\n",
       "</table>\n",
       "</div>"
      ],
      "text/plain": [
       "                         flug      fldg     fnetg\n",
       "pressure  level                                  \n",
       "0.0000    1      1.577849e-03  0.000000  0.001578\n",
       "1.0685    24     1.557013e-03 -0.000030  0.001527\n",
       "1013.0000 76     4.940000e-08  0.000067  0.000067"
      ]
     },
     "metadata": {},
     "output_type": "display_data"
    },
    {
     "name": "stdout",
     "output_type": "stream",
     "text": [
      "Table. Fluxes. (WGT igg=10 wgt_flux=1) - (CRD)\n"
     ]
    },
    {
     "data": {
      "text/html": [
       "<div>\n",
       "<style scoped>\n",
       "    .dataframe tbody tr th:only-of-type {\n",
       "        vertical-align: middle;\n",
       "    }\n",
       "\n",
       "    .dataframe tbody tr th {\n",
       "        vertical-align: top;\n",
       "    }\n",
       "\n",
       "    .dataframe thead th {\n",
       "        text-align: right;\n",
       "    }\n",
       "</style>\n",
       "<table border=\"1\" class=\"dataframe\">\n",
       "  <thead>\n",
       "    <tr style=\"text-align: right;\">\n",
       "      <th></th>\n",
       "      <th></th>\n",
       "      <th>flug</th>\n",
       "      <th>fldg</th>\n",
       "      <th>fnetg</th>\n",
       "    </tr>\n",
       "    <tr>\n",
       "      <th>pressure</th>\n",
       "      <th>level</th>\n",
       "      <th></th>\n",
       "      <th></th>\n",
       "      <th></th>\n",
       "    </tr>\n",
       "  </thead>\n",
       "  <tbody>\n",
       "    <tr>\n",
       "      <th>0.0000</th>\n",
       "      <th>1</th>\n",
       "      <td>-5.552000e-04</td>\n",
       "      <td>0.000002</td>\n",
       "      <td>-0.000553</td>\n",
       "    </tr>\n",
       "    <tr>\n",
       "      <th>1.0685</th>\n",
       "      <th>24</th>\n",
       "      <td>-6.261000e-04</td>\n",
       "      <td>-0.000107</td>\n",
       "      <td>-0.000733</td>\n",
       "    </tr>\n",
       "    <tr>\n",
       "      <th>1013.0000</th>\n",
       "      <th>76</th>\n",
       "      <td>-2.000000e-07</td>\n",
       "      <td>-0.000444</td>\n",
       "      <td>-0.000444</td>\n",
       "    </tr>\n",
       "  </tbody>\n",
       "</table>\n",
       "</div>"
      ],
      "text/plain": [
       "                         flug      fldg     fnetg\n",
       "pressure  level                                  \n",
       "0.0000    1     -5.552000e-04  0.000002 -0.000553\n",
       "1.0685    24    -6.261000e-04 -0.000107 -0.000733\n",
       "1013.0000 76    -2.000000e-07 -0.000444 -0.000444"
      ]
     },
     "metadata": {},
     "output_type": "display_data"
    },
    {
     "name": "stdout",
     "output_type": "stream",
     "text": [
      "Table. Fluxes. (CLIRAD) - (CRD)\n"
     ]
    },
    {
     "data": {
      "text/html": [
       "<a id=\"Best-fit_Parameters\"></a>"
      ],
      "text/plain": [
       "<IPython.core.display.HTML object>"
      ]
     },
     "metadata": {},
     "output_type": "display_data"
    },
    {
     "data": {
      "text/markdown": [
       "# Best-fit Parameters"
      ],
      "text/plain": [
       "<IPython.core.display.Markdown object>"
      ]
     },
     "metadata": {},
     "output_type": "display_data"
    },
    {
     "name": "stdout",
     "output_type": "stream",
     "text": [
      "Best-fit values for each (gas, band)\n",
      "------------------------------------\n",
      "o o3 band9\n",
      "  atmpro = mls\n",
      "  band = 9\n",
      "  commitnumber = a06b618\n",
      "  conc = None\n",
      "  dv = 0.001\n",
      "  klin = 2e-20\n",
      "  molecule = o3\n",
      "  ng_adju = [0, 0]\n",
      "  ng_refs = [2, 5]\n",
      "  nv = 1000\n",
      "  option_compute_btable = 0\n",
      "  option_compute_ktable = 1\n",
      "  option_wgt_flux = 1\n",
      "  option_wgt_k = 1\n",
      "  ref_pts = [(1, 250), (50, 250)]\n",
      "  tsfc = 294\n",
      "  vmax = 3000\n",
      "  vmin = 1900\n",
      "  w_diffuse = [(1.55, 1.55), (1.55, 1.55, 1.55, 1.55, 1.8)]\n",
      "  wgt = [(0.3, 0.4), (0.5, 0.6, 0.7, 0.85, 0.9)]\n"
     ]
    }
   ],
   "source": [
    "script()"
   ]
  },
  {
   "cell_type": "code",
   "execution_count": 13,
   "metadata": {
    "collapsed": true
   },
   "outputs": [
    {
     "data": {
      "text/html": [
       "<script>\n",
       "code_show=true; \n",
       "function code_toggle() {\n",
       " if (code_show){\n",
       " $('div.input').hide();\n",
       " } else {\n",
       " $('div.input').show();\n",
       " }\n",
       " code_show = !code_show\n",
       "} \n",
       "$( document ).ready(code_toggle);\n",
       "</script>\n",
       "<form action=\"javascript:code_toggle()\"><input type=\"submit\" value=\"Click here to toggle on/off the raw code.\"></form>"
      ],
      "text/plain": [
       "<IPython.core.display.HTML object>"
      ]
     },
     "execution_count": 13,
     "metadata": {},
     "output_type": "execute_result"
    }
   ],
   "source": [
    "display.HTML('''<script>\n",
    "code_show=true; \n",
    "function code_toggle() {\n",
    " if (code_show){\n",
    " $('div.input').hide();\n",
    " } else {\n",
    " $('div.input').show();\n",
    " }\n",
    " code_show = !code_show\n",
    "} \n",
    "$( document ).ready(code_toggle);\n",
    "</script>\n",
    "<form action=\"javascript:code_toggle()\"><input type=\"submit\" value=\"Click here to toggle on/off the raw code.\"></form>''')"
   ]
  }
 ],
 "metadata": {
  "kernelspec": {
   "display_name": "Python 3",
   "language": "python",
   "name": "python3"
  },
  "language_info": {
   "codemirror_mode": {
    "name": "ipython",
    "version": 3
   },
   "file_extension": ".py",
   "mimetype": "text/x-python",
   "name": "python",
   "nbconvert_exporter": "python",
   "pygments_lexer": "ipython3",
   "version": "3.6.1"
  }
 },
 "nbformat": 4,
 "nbformat_minor": 2
}
