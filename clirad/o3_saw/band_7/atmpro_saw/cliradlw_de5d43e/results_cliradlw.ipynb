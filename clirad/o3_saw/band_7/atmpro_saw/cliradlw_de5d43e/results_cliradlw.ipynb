{
 "cells": [
  {
   "cell_type": "code",
   "execution_count": 1,
   "metadata": {
    "collapsed": true
   },
   "outputs": [],
   "source": [
    "%matplotlib inline\n",
    "import os\n",
    "import re\n",
    "import io\n",
    "import itertools\n",
    "import pprint\n",
    "\n",
    "from bokeh.io import output_notebook, show\n",
    "from bokeh.layouts import gridplot\n",
    "from bokeh.plotting import figure\n",
    "from bokeh.models import Range1d, Legend\n",
    "from bokeh.palettes import all_palettes\n",
    "\n",
    "import matplotlib\n",
    "import matplotlib.pyplot as plt\n",
    "import numpy as np\n",
    "import pandas as pd\n",
    "import xarray as xr\n",
    "\n",
    "import climatools.lblnew.bestfit_params as bestfits\n",
    "from climatools.lblnew import setup_bestfit, setup_overlap\n",
    "import climatools.lblnew.pipeline as pipe_lblnew\n",
    "import climatools.cliradlw.setup as setup_cliradlw\n",
    "import climatools.cliradlw.pipeline as pipe_cliradlw\n",
    "\n",
    "import climatools.html.html as climahtml\n",
    "from climatools.lblnew.dataio import *\n",
    "from climatools.plot.plot import *\n",
    "\n",
    "\n",
    "import IPython.display as display"
   ]
  },
  {
   "cell_type": "code",
   "execution_count": 2,
   "metadata": {
    "collapsed": true
   },
   "outputs": [],
   "source": [
    "%run param.py"
   ]
  },
  {
   "cell_type": "code",
   "execution_count": 3,
   "metadata": {
    "collapsed": true
   },
   "outputs": [],
   "source": [
    "def load_output_file(path_csv):\n",
    "    '''\n",
    "    Load lblnew output .csv file to xarray.Dataset\n",
    "    \n",
    "    Parameters\n",
    "    ----------\n",
    "    path_csv: str\n",
    "              Path to the .csv file to be loaded.\n",
    "    ds: xarray.Dataset\n",
    "        Data in the input file in the form of an xarray.Dataset.\n",
    "    '''\n",
    "    toindex = ['band', 'pressure', 'igg', 'g']    \n",
    "    df = pd.read_csv(path_csv, sep=r'\\s+')\n",
    "    df = df.set_index([i for i in toindex if i in df.columns])\n",
    "    df = df.rename(columns={'sfu': 'flug',\n",
    "                            'sfd': 'fldg',\n",
    "                            'fnet': 'fnetg',\n",
    "                            'coolr': 'coolrg'})\n",
    "    ds = xr.Dataset.from_dataframe(df)\n",
    "\n",
    "    for l in ('level', 'layer'):\n",
    "        if l in ds.data_vars:\n",
    "            if len(ds[l].dims) > 1:\n",
    "                surface = {d: 0 for d in ds.dims if d != 'pressure'}\n",
    "                coord_level = ds[l][surface]\n",
    "                ds.coords[l] = ('pressure', coord_level)\n",
    "            else:\n",
    "                ds.coords[l] = ('pressure', ds[l])\n",
    "    \n",
    "    return ds"
   ]
  },
  {
   "cell_type": "code",
   "execution_count": 4,
   "metadata": {
    "collapsed": true
   },
   "outputs": [],
   "source": [
    "def lblnew_setup(param=None):\n",
    "    if 'ng_refs' in param:\n",
    "        return {'setup': setup_bestfit,\n",
    "                'fname_flux_crd': 'output_flux.dat',\n",
    "                'fname_cool_crd': 'output_coolr.dat',\n",
    "                'fname_flux_wgt': 'output_wfluxg.dat',\n",
    "                'fname_cool_wgt': 'output_wcoolrg.dat'}\n",
    "    else:\n",
    "        return {'setup': setup_overlap,\n",
    "                'fname_flux_crd': 'output_flux.dat',\n",
    "                'fname_cool_crd': 'output_coolr.dat',\n",
    "                'fname_flux_wgt': 'output_wflux.dat',\n",
    "                'fname_cool_wgt': 'output_wcoolr.dat'}\n",
    "\n",
    "    \n",
    "def load_lblnew_data(param):\n",
    "    \n",
    "    fname_dsname = [('fname_flux_crd', 'ds_flux_crd'),\n",
    "                    ('fname_cool_crd', 'ds_cool_crd'),\n",
    "                    ('fname_flux_wgt', 'ds_flux_wgt'),\n",
    "                    ('fname_cool_wgt', 'ds_cool_wgt')]\n",
    "    \n",
    "    d = lblnew_setup(param)\n",
    "    dir_fortran = pipe_lblnew.get_dir_case(param, setup=d['setup'])\n",
    "    \n",
    "    data_dict = {}\n",
    "    for fname, dsname in fname_dsname:\n",
    "        fpath = os.path.join(dir_fortran, d[fname])\n",
    "        data_dict[dsname] = load_output_file(fpath)\n",
    "    return data_dict\n",
    "    \n",
    "\n",
    "    \n",
    "    "
   ]
  },
  {
   "cell_type": "code",
   "execution_count": 5,
   "metadata": {
    "collapsed": true
   },
   "outputs": [],
   "source": [
    "d = load_lblnew_data(PARAM_LBLNEW)\n",
    "\n",
    "DS_FLUX_CRD = d['ds_flux_crd']\n",
    "DS_COOL_CRD = d['ds_cool_crd']\n",
    "DS_FLUX_WGT = d['ds_flux_wgt']\n",
    "DS_COOL_WGT = d['ds_cool_wgt']"
   ]
  },
  {
   "cell_type": "code",
   "execution_count": 6,
   "metadata": {
    "collapsed": true
   },
   "outputs": [],
   "source": [
    "DIR_FORTRAN = pipe_cliradlw.get_fortran_dir(PARAM, \n",
    "                                            setup=setup_cliradlw)\n",
    "\n",
    "PATH_FLUX = os.path.join(DIR_FORTRAN, 'output_flux.dat')\n",
    "PATH_COOL = os.path.join(DIR_FORTRAN, 'output_coolr.dat')\n",
    "\n",
    "DS_FLUX = load_output_file(PATH_FLUX)\n",
    "DS_COOL = load_output_file(PATH_COOL)"
   ]
  },
  {
   "cell_type": "code",
   "execution_count": 7,
   "metadata": {
    "collapsed": true
   },
   "outputs": [
    {
     "data": {
      "text/html": [
       "\n",
       "    <div class=\"bk-root\">\n",
       "        <a href=\"https://bokeh.pydata.org\" target=\"_blank\" class=\"bk-logo bk-logo-small bk-logo-notebook\"></a>\n",
       "        <span id=\"80c5c113-1921-4256-a624-9ebc599da41a\">Loading BokehJS ...</span>\n",
       "    </div>"
      ]
     },
     "metadata": {},
     "output_type": "display_data"
    },
    {
     "data": {
      "application/javascript": [
       "\n",
       "(function(root) {\n",
       "  function now() {\n",
       "    return new Date();\n",
       "  }\n",
       "\n",
       "  var force = true;\n",
       "\n",
       "  if (typeof (root._bokeh_onload_callbacks) === \"undefined\" || force === true) {\n",
       "    root._bokeh_onload_callbacks = [];\n",
       "    root._bokeh_is_loading = undefined;\n",
       "  }\n",
       "\n",
       "  var JS_MIME_TYPE = 'application/javascript';\n",
       "  var HTML_MIME_TYPE = 'text/html';\n",
       "  var EXEC_MIME_TYPE = 'application/vnd.bokehjs_exec.v0+json';\n",
       "  var CLASS_NAME = 'output_bokeh rendered_html';\n",
       "\n",
       "  /**\n",
       "   * Render data to the DOM node\n",
       "   */\n",
       "  function render(props, node) {\n",
       "    var script = document.createElement(\"script\");\n",
       "    node.appendChild(script);\n",
       "  }\n",
       "\n",
       "  /**\n",
       "   * Handle when an output is cleared or removed\n",
       "   */\n",
       "  function handleClearOutput(event, handle) {\n",
       "    var cell = handle.cell;\n",
       "\n",
       "    var id = cell.output_area._bokeh_element_id;\n",
       "    var server_id = cell.output_area._bokeh_server_id;\n",
       "    // Clean up Bokeh references\n",
       "    if (id !== undefined) {\n",
       "      Bokeh.index[id].model.document.clear();\n",
       "      delete Bokeh.index[id];\n",
       "    }\n",
       "\n",
       "    if (server_id !== undefined) {\n",
       "      // Clean up Bokeh references\n",
       "      var cmd = \"from bokeh.io.state import curstate; print(curstate().uuid_to_server['\" + server_id + \"'].get_sessions()[0].document.roots[0]._id)\";\n",
       "      cell.notebook.kernel.execute(cmd, {\n",
       "        iopub: {\n",
       "          output: function(msg) {\n",
       "            var element_id = msg.content.text.trim();\n",
       "            Bokeh.index[element_id].model.document.clear();\n",
       "            delete Bokeh.index[element_id];\n",
       "          }\n",
       "        }\n",
       "      });\n",
       "      // Destroy server and session\n",
       "      var cmd = \"import bokeh.io.notebook as ion; ion.destroy_server('\" + server_id + \"')\";\n",
       "      cell.notebook.kernel.execute(cmd);\n",
       "    }\n",
       "  }\n",
       "\n",
       "  /**\n",
       "   * Handle when a new output is added\n",
       "   */\n",
       "  function handleAddOutput(event, handle) {\n",
       "    var output_area = handle.output_area;\n",
       "    var output = handle.output;\n",
       "\n",
       "    // limit handleAddOutput to display_data with EXEC_MIME_TYPE content only\n",
       "    if ((output.output_type != \"display_data\") || (!output.data.hasOwnProperty(EXEC_MIME_TYPE))) {\n",
       "      return\n",
       "    }\n",
       "\n",
       "    var toinsert = output_area.element.find(\".\" + CLASS_NAME.split(' ')[0]);\n",
       "\n",
       "    if (output.metadata[EXEC_MIME_TYPE][\"id\"] !== undefined) {\n",
       "      toinsert[toinsert.length - 1].firstChild.textContent = output.data[JS_MIME_TYPE];\n",
       "      // store reference to embed id on output_area\n",
       "      output_area._bokeh_element_id = output.metadata[EXEC_MIME_TYPE][\"id\"];\n",
       "    }\n",
       "    if (output.metadata[EXEC_MIME_TYPE][\"server_id\"] !== undefined) {\n",
       "      var bk_div = document.createElement(\"div\");\n",
       "      bk_div.innerHTML = output.data[HTML_MIME_TYPE];\n",
       "      var script_attrs = bk_div.children[0].attributes;\n",
       "      for (var i = 0; i < script_attrs.length; i++) {\n",
       "        toinsert[toinsert.length - 1].firstChild.setAttribute(script_attrs[i].name, script_attrs[i].value);\n",
       "      }\n",
       "      // store reference to server id on output_area\n",
       "      output_area._bokeh_server_id = output.metadata[EXEC_MIME_TYPE][\"server_id\"];\n",
       "    }\n",
       "  }\n",
       "\n",
       "  function register_renderer(events, OutputArea) {\n",
       "\n",
       "    function append_mime(data, metadata, element) {\n",
       "      // create a DOM node to render to\n",
       "      var toinsert = this.create_output_subarea(\n",
       "        metadata,\n",
       "        CLASS_NAME,\n",
       "        EXEC_MIME_TYPE\n",
       "      );\n",
       "      this.keyboard_manager.register_events(toinsert);\n",
       "      // Render to node\n",
       "      var props = {data: data, metadata: metadata[EXEC_MIME_TYPE]};\n",
       "      render(props, toinsert[toinsert.length - 1]);\n",
       "      element.append(toinsert);\n",
       "      return toinsert\n",
       "    }\n",
       "\n",
       "    /* Handle when an output is cleared or removed */\n",
       "    events.on('clear_output.CodeCell', handleClearOutput);\n",
       "    events.on('delete.Cell', handleClearOutput);\n",
       "\n",
       "    /* Handle when a new output is added */\n",
       "    events.on('output_added.OutputArea', handleAddOutput);\n",
       "\n",
       "    /**\n",
       "     * Register the mime type and append_mime function with output_area\n",
       "     */\n",
       "    OutputArea.prototype.register_mime_type(EXEC_MIME_TYPE, append_mime, {\n",
       "      /* Is output safe? */\n",
       "      safe: true,\n",
       "      /* Index of renderer in `output_area.display_order` */\n",
       "      index: 0\n",
       "    });\n",
       "  }\n",
       "\n",
       "  // register the mime type if in Jupyter Notebook environment and previously unregistered\n",
       "  if (root.Jupyter !== undefined) {\n",
       "    var events = require('base/js/events');\n",
       "    var OutputArea = require('notebook/js/outputarea').OutputArea;\n",
       "\n",
       "    if (OutputArea.prototype.mime_types().indexOf(EXEC_MIME_TYPE) == -1) {\n",
       "      register_renderer(events, OutputArea);\n",
       "    }\n",
       "  }\n",
       "\n",
       "  \n",
       "  if (typeof (root._bokeh_timeout) === \"undefined\" || force === true) {\n",
       "    root._bokeh_timeout = Date.now() + 5000;\n",
       "    root._bokeh_failed_load = false;\n",
       "  }\n",
       "\n",
       "  var NB_LOAD_WARNING = {'data': {'text/html':\n",
       "     \"<div style='background-color: #fdd'>\\n\"+\n",
       "     \"<p>\\n\"+\n",
       "     \"BokehJS does not appear to have successfully loaded. If loading BokehJS from CDN, this \\n\"+\n",
       "     \"may be due to a slow or bad network connection. Possible fixes:\\n\"+\n",
       "     \"</p>\\n\"+\n",
       "     \"<ul>\\n\"+\n",
       "     \"<li>re-rerun `output_notebook()` to attempt to load from CDN again, or</li>\\n\"+\n",
       "     \"<li>use INLINE resources instead, as so:</li>\\n\"+\n",
       "     \"</ul>\\n\"+\n",
       "     \"<code>\\n\"+\n",
       "     \"from bokeh.resources import INLINE\\n\"+\n",
       "     \"output_notebook(resources=INLINE)\\n\"+\n",
       "     \"</code>\\n\"+\n",
       "     \"</div>\"}};\n",
       "\n",
       "  function display_loaded() {\n",
       "    var el = document.getElementById(\"80c5c113-1921-4256-a624-9ebc599da41a\");\n",
       "    if (el != null) {\n",
       "      el.textContent = \"BokehJS is loading...\";\n",
       "    }\n",
       "    if (root.Bokeh !== undefined) {\n",
       "      if (el != null) {\n",
       "        el.textContent = \"BokehJS \" + root.Bokeh.version + \" successfully loaded.\";\n",
       "      }\n",
       "    } else if (Date.now() < root._bokeh_timeout) {\n",
       "      setTimeout(display_loaded, 100)\n",
       "    }\n",
       "  }\n",
       "\n",
       "\n",
       "  function run_callbacks() {\n",
       "    try {\n",
       "      root._bokeh_onload_callbacks.forEach(function(callback) { callback() });\n",
       "    }\n",
       "    finally {\n",
       "      delete root._bokeh_onload_callbacks\n",
       "    }\n",
       "    console.info(\"Bokeh: all callbacks have finished\");\n",
       "  }\n",
       "\n",
       "  function load_libs(js_urls, callback) {\n",
       "    root._bokeh_onload_callbacks.push(callback);\n",
       "    if (root._bokeh_is_loading > 0) {\n",
       "      console.log(\"Bokeh: BokehJS is being loaded, scheduling callback at\", now());\n",
       "      return null;\n",
       "    }\n",
       "    if (js_urls == null || js_urls.length === 0) {\n",
       "      run_callbacks();\n",
       "      return null;\n",
       "    }\n",
       "    console.log(\"Bokeh: BokehJS not loaded, scheduling load and callback at\", now());\n",
       "    root._bokeh_is_loading = js_urls.length;\n",
       "    for (var i = 0; i < js_urls.length; i++) {\n",
       "      var url = js_urls[i];\n",
       "      var s = document.createElement('script');\n",
       "      s.src = url;\n",
       "      s.async = false;\n",
       "      s.onreadystatechange = s.onload = function() {\n",
       "        root._bokeh_is_loading--;\n",
       "        if (root._bokeh_is_loading === 0) {\n",
       "          console.log(\"Bokeh: all BokehJS libraries loaded\");\n",
       "          run_callbacks()\n",
       "        }\n",
       "      };\n",
       "      s.onerror = function() {\n",
       "        console.warn(\"failed to load library \" + url);\n",
       "      };\n",
       "      console.log(\"Bokeh: injecting script tag for BokehJS library: \", url);\n",
       "      document.getElementsByTagName(\"head\")[0].appendChild(s);\n",
       "    }\n",
       "  };var element = document.getElementById(\"80c5c113-1921-4256-a624-9ebc599da41a\");\n",
       "  if (element == null) {\n",
       "    console.log(\"Bokeh: ERROR: autoload.js configured with elementid '80c5c113-1921-4256-a624-9ebc599da41a' but no matching script tag was found. \")\n",
       "    return false;\n",
       "  }\n",
       "\n",
       "  var js_urls = [\"https://cdn.pydata.org/bokeh/release/bokeh-0.12.16.min.js\", \"https://cdn.pydata.org/bokeh/release/bokeh-widgets-0.12.16.min.js\", \"https://cdn.pydata.org/bokeh/release/bokeh-tables-0.12.16.min.js\", \"https://cdn.pydata.org/bokeh/release/bokeh-gl-0.12.16.min.js\"];\n",
       "\n",
       "  var inline_js = [\n",
       "    function(Bokeh) {\n",
       "      Bokeh.set_log_level(\"info\");\n",
       "    },\n",
       "    \n",
       "    function(Bokeh) {\n",
       "      \n",
       "    },\n",
       "    function(Bokeh) {\n",
       "      console.log(\"Bokeh: injecting CSS: https://cdn.pydata.org/bokeh/release/bokeh-0.12.16.min.css\");\n",
       "      Bokeh.embed.inject_css(\"https://cdn.pydata.org/bokeh/release/bokeh-0.12.16.min.css\");\n",
       "      console.log(\"Bokeh: injecting CSS: https://cdn.pydata.org/bokeh/release/bokeh-widgets-0.12.16.min.css\");\n",
       "      Bokeh.embed.inject_css(\"https://cdn.pydata.org/bokeh/release/bokeh-widgets-0.12.16.min.css\");\n",
       "      console.log(\"Bokeh: injecting CSS: https://cdn.pydata.org/bokeh/release/bokeh-tables-0.12.16.min.css\");\n",
       "      Bokeh.embed.inject_css(\"https://cdn.pydata.org/bokeh/release/bokeh-tables-0.12.16.min.css\");\n",
       "    }\n",
       "  ];\n",
       "\n",
       "  function run_inline_js() {\n",
       "    \n",
       "    if ((root.Bokeh !== undefined) || (force === true)) {\n",
       "      for (var i = 0; i < inline_js.length; i++) {\n",
       "        inline_js[i].call(root, root.Bokeh);\n",
       "      }if (force === true) {\n",
       "        display_loaded();\n",
       "      }} else if (Date.now() < root._bokeh_timeout) {\n",
       "      setTimeout(run_inline_js, 100);\n",
       "    } else if (!root._bokeh_failed_load) {\n",
       "      console.log(\"Bokeh: BokehJS failed to load within specified timeout.\");\n",
       "      root._bokeh_failed_load = true;\n",
       "    } else if (force !== true) {\n",
       "      var cell = $(document.getElementById(\"80c5c113-1921-4256-a624-9ebc599da41a\")).parents('.cell').data().cell;\n",
       "      cell.output_area.append_execute_result(NB_LOAD_WARNING)\n",
       "    }\n",
       "\n",
       "  }\n",
       "\n",
       "  if (root._bokeh_is_loading === 0) {\n",
       "    console.log(\"Bokeh: BokehJS loaded, going straight to plotting\");\n",
       "    run_inline_js();\n",
       "  } else {\n",
       "    load_libs(js_urls, function() {\n",
       "      console.log(\"Bokeh: BokehJS plotting callback run at\", now());\n",
       "      run_inline_js();\n",
       "    });\n",
       "  }\n",
       "}(window));"
      ],
      "application/vnd.bokehjs_load.v0+json": "\n(function(root) {\n  function now() {\n    return new Date();\n  }\n\n  var force = true;\n\n  if (typeof (root._bokeh_onload_callbacks) === \"undefined\" || force === true) {\n    root._bokeh_onload_callbacks = [];\n    root._bokeh_is_loading = undefined;\n  }\n\n  \n\n  \n  if (typeof (root._bokeh_timeout) === \"undefined\" || force === true) {\n    root._bokeh_timeout = Date.now() + 5000;\n    root._bokeh_failed_load = false;\n  }\n\n  var NB_LOAD_WARNING = {'data': {'text/html':\n     \"<div style='background-color: #fdd'>\\n\"+\n     \"<p>\\n\"+\n     \"BokehJS does not appear to have successfully loaded. If loading BokehJS from CDN, this \\n\"+\n     \"may be due to a slow or bad network connection. Possible fixes:\\n\"+\n     \"</p>\\n\"+\n     \"<ul>\\n\"+\n     \"<li>re-rerun `output_notebook()` to attempt to load from CDN again, or</li>\\n\"+\n     \"<li>use INLINE resources instead, as so:</li>\\n\"+\n     \"</ul>\\n\"+\n     \"<code>\\n\"+\n     \"from bokeh.resources import INLINE\\n\"+\n     \"output_notebook(resources=INLINE)\\n\"+\n     \"</code>\\n\"+\n     \"</div>\"}};\n\n  function display_loaded() {\n    var el = document.getElementById(\"80c5c113-1921-4256-a624-9ebc599da41a\");\n    if (el != null) {\n      el.textContent = \"BokehJS is loading...\";\n    }\n    if (root.Bokeh !== undefined) {\n      if (el != null) {\n        el.textContent = \"BokehJS \" + root.Bokeh.version + \" successfully loaded.\";\n      }\n    } else if (Date.now() < root._bokeh_timeout) {\n      setTimeout(display_loaded, 100)\n    }\n  }\n\n\n  function run_callbacks() {\n    try {\n      root._bokeh_onload_callbacks.forEach(function(callback) { callback() });\n    }\n    finally {\n      delete root._bokeh_onload_callbacks\n    }\n    console.info(\"Bokeh: all callbacks have finished\");\n  }\n\n  function load_libs(js_urls, callback) {\n    root._bokeh_onload_callbacks.push(callback);\n    if (root._bokeh_is_loading > 0) {\n      console.log(\"Bokeh: BokehJS is being loaded, scheduling callback at\", now());\n      return null;\n    }\n    if (js_urls == null || js_urls.length === 0) {\n      run_callbacks();\n      return null;\n    }\n    console.log(\"Bokeh: BokehJS not loaded, scheduling load and callback at\", now());\n    root._bokeh_is_loading = js_urls.length;\n    for (var i = 0; i < js_urls.length; i++) {\n      var url = js_urls[i];\n      var s = document.createElement('script');\n      s.src = url;\n      s.async = false;\n      s.onreadystatechange = s.onload = function() {\n        root._bokeh_is_loading--;\n        if (root._bokeh_is_loading === 0) {\n          console.log(\"Bokeh: all BokehJS libraries loaded\");\n          run_callbacks()\n        }\n      };\n      s.onerror = function() {\n        console.warn(\"failed to load library \" + url);\n      };\n      console.log(\"Bokeh: injecting script tag for BokehJS library: \", url);\n      document.getElementsByTagName(\"head\")[0].appendChild(s);\n    }\n  };var element = document.getElementById(\"80c5c113-1921-4256-a624-9ebc599da41a\");\n  if (element == null) {\n    console.log(\"Bokeh: ERROR: autoload.js configured with elementid '80c5c113-1921-4256-a624-9ebc599da41a' but no matching script tag was found. \")\n    return false;\n  }\n\n  var js_urls = [\"https://cdn.pydata.org/bokeh/release/bokeh-0.12.16.min.js\", \"https://cdn.pydata.org/bokeh/release/bokeh-widgets-0.12.16.min.js\", \"https://cdn.pydata.org/bokeh/release/bokeh-tables-0.12.16.min.js\", \"https://cdn.pydata.org/bokeh/release/bokeh-gl-0.12.16.min.js\"];\n\n  var inline_js = [\n    function(Bokeh) {\n      Bokeh.set_log_level(\"info\");\n    },\n    \n    function(Bokeh) {\n      \n    },\n    function(Bokeh) {\n      console.log(\"Bokeh: injecting CSS: https://cdn.pydata.org/bokeh/release/bokeh-0.12.16.min.css\");\n      Bokeh.embed.inject_css(\"https://cdn.pydata.org/bokeh/release/bokeh-0.12.16.min.css\");\n      console.log(\"Bokeh: injecting CSS: https://cdn.pydata.org/bokeh/release/bokeh-widgets-0.12.16.min.css\");\n      Bokeh.embed.inject_css(\"https://cdn.pydata.org/bokeh/release/bokeh-widgets-0.12.16.min.css\");\n      console.log(\"Bokeh: injecting CSS: https://cdn.pydata.org/bokeh/release/bokeh-tables-0.12.16.min.css\");\n      Bokeh.embed.inject_css(\"https://cdn.pydata.org/bokeh/release/bokeh-tables-0.12.16.min.css\");\n    }\n  ];\n\n  function run_inline_js() {\n    \n    if ((root.Bokeh !== undefined) || (force === true)) {\n      for (var i = 0; i < inline_js.length; i++) {\n        inline_js[i].call(root, root.Bokeh);\n      }if (force === true) {\n        display_loaded();\n      }} else if (Date.now() < root._bokeh_timeout) {\n      setTimeout(run_inline_js, 100);\n    } else if (!root._bokeh_failed_load) {\n      console.log(\"Bokeh: BokehJS failed to load within specified timeout.\");\n      root._bokeh_failed_load = true;\n    } else if (force !== true) {\n      var cell = $(document.getElementById(\"80c5c113-1921-4256-a624-9ebc599da41a\")).parents('.cell').data().cell;\n      cell.output_area.append_execute_result(NB_LOAD_WARNING)\n    }\n\n  }\n\n  if (root._bokeh_is_loading === 0) {\n    console.log(\"Bokeh: BokehJS loaded, going straight to plotting\");\n    run_inline_js();\n  } else {\n    load_libs(js_urls, function() {\n      console.log(\"Bokeh: BokehJS plotting callback run at\", now());\n      run_inline_js();\n    });\n  }\n}(window));"
     },
     "metadata": {},
     "output_type": "display_data"
    }
   ],
   "source": [
    "output_notebook()"
   ]
  },
  {
   "cell_type": "code",
   "execution_count": 8,
   "metadata": {
    "collapsed": true
   },
   "outputs": [],
   "source": [
    "def fmt_cool(ds_in):\n",
    "    ds = ds_in.copy(deep=True)\n",
    "    if 'igg' in ds.dims:\n",
    "        ds = ds.sel(igg=1)\n",
    "\n",
    "    if 'g' in ds.dims:\n",
    "        ds = ds.sum('g')\n",
    "            \n",
    "    if 'band' in ds.dims:\n",
    "        try:\n",
    "            ds = ds.squeeze('band')\n",
    "        except ValueError:\n",
    "            ds = ds.sum('band')\n",
    "                \n",
    "    return ds['coolrg']\n",
    "\n",
    "\n",
    "def pltdata_cooling_1(ds_cool=None,\n",
    "                      ds_cool_crd=None, ds_cool_wgt=None):\n",
    "    \n",
    "\n",
    "\n",
    "    colors = all_palettes['Set1'][4]\n",
    "    data = [{'label': 'CLIRAD `coolr_bands`',\n",
    "             'srs': fmt_cool(ds_cool),\n",
    "             'line_dash': 'dashed', 'line_width': 5,\n",
    "             'color': colors[0], 'alpha': .6},\n",
    "            {'label': 'CRD',\n",
    "             'srs': fmt_cool(ds_cool_crd),\n",
    "             'line_dash': 'solid', 'line_width': 1.5,\n",
    "             'marker': 'circle', 'marker_size': 5,\n",
    "             'color': colors[2], 'alpha': 1,},\n",
    "            {'label': 'WGT igg=10 wgt_flux=2',\n",
    "             'srs': fmt_cool(ds_cool_wgt),\n",
    "             'line_dash': 'solid', 'line_width': 3,\n",
    "             'marker': 'square', 'marker_size': 5,\n",
    "             'color': colors[3], 'alpha': .6}]\n",
    "    return data\n",
    "\n",
    "\n",
    "def nice_xlims(pltdata=None, prange=None):\n",
    "    \n",
    "    def get_slice(srs):\n",
    "        return srs.sel(pressure=slice(*prange))\n",
    "    \n",
    "    srss = [d['srs'] for d in pltdata]\n",
    "    vmin = min([get_slice(srs).min() for srs in srss])\n",
    "    vmax = max([get_slice(srs).max() for srs in srss])\n",
    "    dv = (vmax - vmin) * .01\n",
    "    return float(vmin - dv), float(vmax + dv)\n",
    "    \n",
    "\n",
    "def plt_cooling_bokeh(pltdata=None):\n",
    "    '''\n",
    "    Plot a list of cooling rate profiles using bokeh.\n",
    "    '''\n",
    "    ymin = 1e-2 \n",
    "    ymax = 1020 \n",
    "        \n",
    "    p1 = figure(title=\"Linear pressure scale\", \n",
    "                plot_width=400)        \n",
    "    xmin, xmax = nice_xlims(pltdata, prange=(50, 1050))\n",
    "    for d in pltdata:\n",
    "        if 'marker' in d:\n",
    "            getattr(p1, d['marker'])(d['srs'].values, \n",
    "                    d['srs'].coords['pressure'].values,\n",
    "                    color=d['color'], alpha=.7)\n",
    "        p1.line(d['srs'].values, \n",
    "                d['srs'].coords['pressure'].values,\n",
    "                color=d['color'], alpha=d['alpha'], \n",
    "                line_width=d['line_width'], line_dash=d['line_dash'])\n",
    "    \n",
    "    p1.y_range = Range1d(ymax, ymin)\n",
    "    p1.yaxis.axis_label = 'pressure [mb]'   \n",
    "    p1.x_range = Range1d(xmin, xmax)\n",
    "    p1.xaxis.axis_label = 'cooling rate [K/day]'\n",
    "            \n",
    "    p2 = figure(title='Log pressure scale', y_axis_type='log',\n",
    "                plot_width=560)\n",
    "    xmin, xmax = nice_xlims(pltdata, prange=(.01, 200))\n",
    "    \n",
    "    rs = []\n",
    "    for d in pltdata:\n",
    "        rd = []\n",
    "        if 'marker' in d:\n",
    "            r_mark = getattr(p2, d['marker'])(d['srs'].values, \n",
    "                        d['srs'].coords['pressure'].values,\n",
    "                        color=d['color'], alpha=.7)\n",
    "            rd.append(r_mark)\n",
    "        r_line = p2.line(d['srs'].values, \n",
    "                    d['srs'].coords['pressure'].values,\n",
    "                    color=d['color'], alpha=d['alpha'], \n",
    "                    line_width=d['line_width'], line_dash=d['line_dash'])\n",
    "        rd.append(r_line)\n",
    "      \n",
    "        rs.append(rd)\n",
    "        \n",
    "    p2.y_range = Range1d(ymax, ymin)  \n",
    "    p2.yaxis.axis_label = 'pressure [mb]'\n",
    "    \n",
    "    p2.x_range = Range1d(xmin, xmax)\n",
    "    p2.xaxis.axis_label = 'cooling rate [K/day]'\n",
    "    \n",
    "    items = [(d['label'], r) for r, d in zip(rs, pltdata)]\n",
    "    legend = Legend(items=items, location=(10, -30))\n",
    "    legend.label_text_font_size = '8pt'\n",
    "    \n",
    "    p2.add_layout(legend, 'right')  \n",
    "    \n",
    "    show(gridplot(p1, p2, ncols=2, plot_height=500))\n",
    "    \n",
    "\n",
    "def script_plt_cooling():\n",
    "    pltdata = pltdata_cooling_1(\n",
    "        ds_cool=DS_COOL,\n",
    "        ds_cool_crd=DS_COOL_CRD,\n",
    "        ds_cool_wgt=DS_COOL_WGT)\n",
    "    plt_cooling_bokeh(pltdata=pltdata)\n",
    "    print('''FIGURE. Cooling rate profiles.''')"
   ]
  },
  {
   "cell_type": "code",
   "execution_count": 9,
   "metadata": {
    "collapsed": true
   },
   "outputs": [],
   "source": [
    "def fmt_flux(ds_in):\n",
    "    ds = ds_in.copy(deep=True)\n",
    "    \n",
    "    for l in ('level', 'layer'):\n",
    "        if l in ds.data_vars:\n",
    "            if len(ds[l].dims) > 1:\n",
    "                surface = {d: 0 for d in ds.dims if d != 'pressure'}\n",
    "                coord_level = ds[l][surface]\n",
    "                ds.coords[l] = ('pressure', coord_level)\n",
    "            else:\n",
    "                ds.coords[l] = ('pressure', ds[l])\n",
    "        \n",
    "    ds = ds.isel(pressure=[0, 23, -1])\n",
    "        \n",
    "    if 'igg' in ds.dims:\n",
    "        ds = ds.sel(igg=[1])\n",
    "        ds = ds.squeeze('igg').drop('igg')\n",
    "    \n",
    "    if 'g' in ds.dims:\n",
    "        ds = ds.sum('g')\n",
    "            \n",
    "    if 'band' in ds.dims:\n",
    "        try:\n",
    "            ds = ds.squeeze('band').drop('band')\n",
    "        except ValueError:\n",
    "            ds = ds.sum('band')\n",
    "                \n",
    "    df = ds.to_dataframe()\n",
    "    df = df.set_index('level', append=True)               \n",
    "    return df\n",
    "\n",
    "\n",
    "def tbdata_flux(ds_flux=None, ds_flux_crd=None, ds_flux_wgt=None):\n",
    "    ilevels = [0, 23, -1]\n",
    "            \n",
    "    benchmark = {'label': 'CRD',\n",
    "                 'df': fmt_flux(ds_flux_crd)}\n",
    "    \n",
    "    tbs = [{'label': 'WGT igg=10 wgt_flux=1',\n",
    "            'df': fmt_flux(ds_flux_wgt)},\n",
    "           {'label': 'CLIRAD',\n",
    "            'df': fmt_flux(ds_flux)}]\n",
    "    \n",
    "    data = {'benchmark': benchmark, 'others': tbs}\n",
    "    return data\n",
    "\n",
    "\n",
    "def tb_flux(tbdata=None):\n",
    "    benchmark = tbdata['benchmark']\n",
    "    others = tbdata['others']\n",
    "    \n",
    "    def show_tb(d=None):\n",
    "        display.display(d['df'])\n",
    "        print('Table.', 'Fluxes.', d['label'])\n",
    "        \n",
    "    def show_tbdiff(d0=None, d=None):\n",
    "        df = d['df']\n",
    "        df.index = d0['df'].index\n",
    "        display.display(df - d0['df'])\n",
    "        print('Table.', 'Fluxes.', \n",
    "              '({}) - ({})'.format(d['label'], d0['label']))\n",
    "        \n",
    "    show_tb(benchmark)\n",
    "    for d in others:\n",
    "        show_tb(d)\n",
    "        \n",
    "    for d in others:\n",
    "        show_tbdiff(d=d, d0=benchmark)\n",
    "        \n",
    "        \n",
    "def script_tb_flux():\n",
    "    data = tbdata_flux(ds_flux=DS_FLUX,\n",
    "                       ds_flux_crd=DS_FLUX_CRD,\n",
    "                       ds_flux_wgt=DS_FLUX_WGT)\n",
    "    tb_flux(tbdata=data)"
   ]
  },
  {
   "cell_type": "code",
   "execution_count": 10,
   "metadata": {
    "collapsed": true
   },
   "outputs": [],
   "source": [
    "def band_map():\n",
    "    '''\n",
    "    Maps spectral bands in lblnew to spectral bands in clirad.\n",
    "    '''\n",
    "    lblnew2clirad = {'1': '1',\n",
    "            '2': '2',\n",
    "            '3a': '3',\n",
    "            '3b': '4',\n",
    "            '3c': '5',\n",
    "            '4': '6', \n",
    "            '5': '7',\n",
    "            '6': '8',\n",
    "            '7': '9', \n",
    "            '8': '10',\n",
    "            '9': '11'}\n",
    "    \n",
    "    clirad2lblnew = {clirad: lblnew \n",
    "                     for lblnew, clirad in lblnew2clirad.items()}\n",
    "    return clirad2lblnew\n",
    "\n",
    "\n",
    "def gasbands():\n",
    "    bmap = band_map()\n",
    "    gases = list(PARAM['molecule'].keys())\n",
    "    \n",
    "    bands = [bmap[str(b)] for b in PARAM['band']]\n",
    "    return list(itertools.product(gases, bands))\n",
    "\n",
    "\n",
    "def print_bestfit_params():\n",
    "    print('Best-fit values for each (gas, band)')\n",
    "    print('------------------------------------')\n",
    "    for gas, band in gasbands():\n",
    "        print('o {} band{}'.format(gas, band))\n",
    "        param = bestfits.kdist_params(molecule=gas, band=band)\n",
    "        for name, value in sorted(param.items()):\n",
    "            print(2 * ' ' + '{} = {}'.format(name, value))\n",
    "\n",
    "        \n",
    "def print_input_param():        \n",
    "    for name, value in PARAM.items():\n",
    "        print('{} = {}'.format(name, value))\n",
    "        \n",
    "        \n",
    "def print_lblnew_param():\n",
    "    for name, value in sorted(PARAM_LBLNEW.items()):\n",
    "        print('{} = {}'.format(name, value))\n"
   ]
  },
  {
   "cell_type": "code",
   "execution_count": 11,
   "metadata": {
    "collapsed": true,
    "scrolled": false
   },
   "outputs": [],
   "source": [
    "def show_html(s):\n",
    "    display.display(display.HTML(s))\n",
    "\n",
    "    \n",
    "def show_markdown(s):\n",
    "    display.display(display.Markdown(s))\n",
    "\n",
    "    \n",
    "def script():\n",
    "    \n",
    "    title = '### CLIRAD-LW'\n",
    "    s_input = 'Input Parameters'\n",
    "    s_lblnew_param = 'LBLNEW case compaired against'\n",
    "    s_bestfits = 'Best-fit Parameters'\n",
    "    s_plt_cooling = 'Cooling Rate Profiles'\n",
    "    s_tb_flux = 'Flux Comparison'\n",
    "    \n",
    "    # title\n",
    "    show_markdown('### CLIRAD-LW')\n",
    "    \n",
    "    # TOC\n",
    "    show_markdown('### Table of Contents')\n",
    "    show_html(climahtml.getHTML_hrefanchor(s_input))\n",
    "    show_html(climahtml.getHTML_hrefanchor(s_lblnew_param))\n",
    "    show_html(climahtml.getHTML_hrefanchor(s_plt_cooling))\n",
    "    show_html(climahtml.getHTML_hrefanchor(s_tb_flux))\n",
    "    show_html(climahtml.getHTML_hrefanchor(s_bestfits))\n",
    "    \n",
    "    # Input parameters\n",
    "    show_html(climahtml.getHTML_idanchor(s_input))\n",
    "    show_markdown(climahtml.getMarkdown_sectitle(s_input))\n",
    "    print_input_param()\n",
    "    \n",
    "    # LBLNEW parameters \n",
    "    show_html(climahtml.getHTML_idanchor(s_lblnew_param))\n",
    "    show_markdown(climahtml.getMarkdown_sectitle(s_lblnew_param))\n",
    "    print_lblnew_param()\n",
    "    \n",
    "    # Cooling rate profiles\n",
    "    show_html(climahtml.getHTML_idanchor(s_plt_cooling))\n",
    "    show_markdown(climahtml.getMarkdown_sectitle(s_plt_cooling))\n",
    "    script_plt_cooling()\n",
    "    \n",
    "    # Flux comparison\n",
    "    show_html(climahtml.getHTML_idanchor(s_tb_flux))\n",
    "    show_markdown(climahtml.getMarkdown_sectitle(s_tb_flux))\n",
    "    script_tb_flux()\n",
    "    \n",
    "    # Best-fit values\n",
    "    show_html(climahtml.getHTML_idanchor(s_bestfits))\n",
    "    show_markdown(climahtml.getMarkdown_sectitle(s_bestfits))\n",
    "    print_bestfit_params()\n",
    "   \n",
    "    "
   ]
  },
  {
   "cell_type": "code",
   "execution_count": 12,
   "metadata": {
    "collapsed": true,
    "scrolled": false
   },
   "outputs": [
    {
     "data": {
      "text/markdown": [
       "### CLIRAD-LW"
      ],
      "text/plain": [
       "<IPython.core.display.Markdown object>"
      ]
     },
     "metadata": {},
     "output_type": "display_data"
    },
    {
     "data": {
      "text/markdown": [
       "### Table of Contents"
      ],
      "text/plain": [
       "<IPython.core.display.Markdown object>"
      ]
     },
     "metadata": {},
     "output_type": "display_data"
    },
    {
     "data": {
      "text/html": [
       "<a href=\"#Input_Parameters\">Input Parameters</a>"
      ],
      "text/plain": [
       "<IPython.core.display.HTML object>"
      ]
     },
     "metadata": {},
     "output_type": "display_data"
    },
    {
     "data": {
      "text/html": [
       "<a href=\"#LBLNEW_case_compaired_against\">LBLNEW case compaired against</a>"
      ],
      "text/plain": [
       "<IPython.core.display.HTML object>"
      ]
     },
     "metadata": {},
     "output_type": "display_data"
    },
    {
     "data": {
      "text/html": [
       "<a href=\"#Cooling_Rate_Profiles\">Cooling Rate Profiles</a>"
      ],
      "text/plain": [
       "<IPython.core.display.HTML object>"
      ]
     },
     "metadata": {},
     "output_type": "display_data"
    },
    {
     "data": {
      "text/html": [
       "<a href=\"#Flux_Comparison\">Flux Comparison</a>"
      ],
      "text/plain": [
       "<IPython.core.display.HTML object>"
      ]
     },
     "metadata": {},
     "output_type": "display_data"
    },
    {
     "data": {
      "text/html": [
       "<a href=\"#Best-fit_Parameters\">Best-fit Parameters</a>"
      ],
      "text/plain": [
       "<IPython.core.display.HTML object>"
      ]
     },
     "metadata": {},
     "output_type": "display_data"
    },
    {
     "data": {
      "text/html": [
       "<a id=\"Input_Parameters\"></a>"
      ],
      "text/plain": [
       "<IPython.core.display.HTML object>"
      ]
     },
     "metadata": {},
     "output_type": "display_data"
    },
    {
     "data": {
      "text/markdown": [
       "# Input Parameters"
      ],
      "text/plain": [
       "<IPython.core.display.Markdown object>"
      ]
     },
     "metadata": {},
     "output_type": "display_data"
    },
    {
     "name": "stdout",
     "output_type": "stream",
     "text": [
      "atmpro = saw\n",
      "band = [7]\n",
      "commitnumber = de5d43e\n",
      "molecule = {'o3': 'atmpro'}\n",
      "tsfc = 257\n"
     ]
    },
    {
     "data": {
      "text/html": [
       "<a id=\"LBLNEW_case_compaired_against\"></a>"
      ],
      "text/plain": [
       "<IPython.core.display.HTML object>"
      ]
     },
     "metadata": {},
     "output_type": "display_data"
    },
    {
     "data": {
      "text/markdown": [
       "# LBLNEW case compaired against"
      ],
      "text/plain": [
       "<IPython.core.display.Markdown object>"
      ]
     },
     "metadata": {},
     "output_type": "display_data"
    },
    {
     "name": "stdout",
     "output_type": "stream",
     "text": [
      "atmpro = saw\n",
      "band = 5\n",
      "commitnumber = 5014a19\n",
      "conc = None\n",
      "dv = 0.001\n",
      "klin = 2e-20\n",
      "molecule = o3\n",
      "ng_adju = [0, 0]\n",
      "ng_refs = [2, 5]\n",
      "nv = 1000\n",
      "option_compute_btable = 0\n",
      "option_compute_ktable = 0\n",
      "option_wgt_flux = 1\n",
      "option_wgt_k = 1\n",
      "ref_pts = [(1, 250), (50, 250)]\n",
      "tsfc = 257\n",
      "vmax = 1100\n",
      "vmin = 980\n",
      "w_diffuse = [(1.6, 1.75), (1.55, 1.66, 1.7, 1.75, 1.8)]\n",
      "wgt = [(0.35, 0.6), (0.5, 0.55, 0.7, 0.9, 1.0)]\n"
     ]
    },
    {
     "data": {
      "text/html": [
       "<a id=\"Cooling_Rate_Profiles\"></a>"
      ],
      "text/plain": [
       "<IPython.core.display.HTML object>"
      ]
     },
     "metadata": {},
     "output_type": "display_data"
    },
    {
     "data": {
      "text/markdown": [
       "# Cooling Rate Profiles"
      ],
      "text/plain": [
       "<IPython.core.display.Markdown object>"
      ]
     },
     "metadata": {},
     "output_type": "display_data"
    },
    {
     "data": {
      "text/html": [
       "\n",
       "<div class=\"bk-root\">\n",
       "    <div class=\"bk-plotdiv\" id=\"dc334edc-fc84-4e7f-9215-1fe10d1b7b7d\"></div>\n",
       "</div>"
      ]
     },
     "metadata": {},
     "output_type": "display_data"
    },
    {
     "data": {
      "application/javascript": [
       "(function(root) {\n",
       "  function embed_document(root) {\n",
       "    \n",
       "  var docs_json = {\"62e07024-0cc7-4010-a6bf-7df4e2718f2c\":{\"roots\":{\"references\":[{\"attributes\":{},\"id\":\"43f26b48-96c6-430b-9945-48c2387317a1\",\"type\":\"UnionRenderers\"},{\"attributes\":{},\"id\":\"fa050534-801b-40f4-badb-41ad0f1f531e\",\"type\":\"Selection\"},{\"attributes\":{},\"id\":\"b1acd852-5bc8-42af-877a-495cba4ba85e\",\"type\":\"BasicTickFormatter\"},{\"attributes\":{},\"id\":\"2fb907e8-5a71-40d3-a2d1-84f6c0c01ea1\",\"type\":\"Selection\"},{\"attributes\":{},\"id\":\"81790990-ccb3-4320-8fa7-6ea79616af71\",\"type\":\"UnionRenderers\"},{\"attributes\":{},\"id\":\"396122b6-1a51-48a5-b9bc-696a4b49b6c6\",\"type\":\"UnionRenderers\"},{\"attributes\":{\"ticker\":null},\"id\":\"954ceff1-3040-491b-abfb-b21d1bbc1633\",\"type\":\"LogTickFormatter\"},{\"attributes\":{},\"id\":\"a66e3baa-857b-4f22-b39e-1df733dacc18\",\"type\":\"UnionRenderers\"},{\"attributes\":{},\"id\":\"6e801aab-b7df-4304-8c6f-6a8e24f02f14\",\"type\":\"Selection\"},{\"attributes\":{\"plot\":null,\"text\":\"Linear pressure scale\"},\"id\":\"77524009-ff86-4bd0-8d4e-7fb104fd29d5\",\"type\":\"Title\"},{\"attributes\":{},\"id\":\"e26c6f10-6e90-4e68-a869-422a1ea1fc13\",\"type\":\"Selection\"},{\"attributes\":{\"fill_alpha\":{\"value\":0.7},\"fill_color\":{\"value\":\"#4daf4a\"},\"line_alpha\":{\"value\":0.7},\"line_color\":{\"value\":\"#4daf4a\"},\"x\":{\"field\":\"x\"},\"y\":{\"field\":\"y\"}},\"id\":\"affd6ab2-1457-4068-bcc0-1ea97c64f17f\",\"type\":\"Circle\"},{\"attributes\":{},\"id\":\"fbbd7725-83c9-4212-8426-91266db5e23a\",\"type\":\"Selection\"},{\"attributes\":{},\"id\":\"4787fc37-761a-4632-864c-dc6e01d3bc74\",\"type\":\"Selection\"},{\"attributes\":{\"toolbar\":{\"id\":\"ccab21dc-72f8-4f3c-b71d-59887a92b492\",\"type\":\"ProxyToolbar\"},\"toolbar_location\":\"above\"},\"id\":\"ca9b5c92-1dcb-405f-aae1-b6e53235ee1c\",\"type\":\"ToolbarBox\"},{\"attributes\":{},\"id\":\"84048cf5-650a-4e06-aa67-6183b5748a91\",\"type\":\"UnionRenderers\"},{\"attributes\":{\"children\":[{\"id\":\"ca9b5c92-1dcb-405f-aae1-b6e53235ee1c\",\"type\":\"ToolbarBox\"},{\"id\":\"9af6c2eb-f567-429c-9325-c40e31ffde82\",\"type\":\"Column\"}]},\"id\":\"a833f869-8fc4-4f6e-9a9d-d6907e896c43\",\"type\":\"Column\"},{\"attributes\":{\"callback\":null,\"end\":0.010802154238,\"start\":-0.12353291043800001},\"id\":\"ff63fa5e-ef68-4e4a-9033-c567e837bdc3\",\"type\":\"Range1d\"},{\"attributes\":{\"below\":[{\"id\":\"3d16ce42-b91c-441e-b94c-f8b9db1c8bac\",\"type\":\"LinearAxis\"}],\"left\":[{\"id\":\"c879988c-7d0e-4bde-81fc-6d0a742441de\",\"type\":\"LinearAxis\"}],\"plot_height\":500,\"plot_width\":400,\"renderers\":[{\"id\":\"3d16ce42-b91c-441e-b94c-f8b9db1c8bac\",\"type\":\"LinearAxis\"},{\"id\":\"5676ec10-1b3c-4c12-a61a-7c6b78f83df9\",\"type\":\"Grid\"},{\"id\":\"c879988c-7d0e-4bde-81fc-6d0a742441de\",\"type\":\"LinearAxis\"},{\"id\":\"83b22b96-c5a9-4860-8a1f-c9b9047c2b97\",\"type\":\"Grid\"},{\"id\":\"04485d05-bdc0-4a9d-9280-3f3cba5aebe3\",\"type\":\"BoxAnnotation\"},{\"id\":\"1fec2454-bf26-44e0-aced-7af1660474df\",\"type\":\"GlyphRenderer\"},{\"id\":\"a762c2bc-450a-40be-8fdc-4837cf8006ff\",\"type\":\"GlyphRenderer\"},{\"id\":\"12179799-a47d-4716-ba5e-7f21aa67fbff\",\"type\":\"GlyphRenderer\"},{\"id\":\"744a1a7a-289c-4391-80ee-821086cdba7d\",\"type\":\"GlyphRenderer\"},{\"id\":\"cd7554ef-8bdd-4e96-99c1-abf5da89e59f\",\"type\":\"GlyphRenderer\"}],\"title\":{\"id\":\"77524009-ff86-4bd0-8d4e-7fb104fd29d5\",\"type\":\"Title\"},\"toolbar\":{\"id\":\"4b18750d-5261-4b5c-9bd1-c27a28e69875\",\"type\":\"Toolbar\"},\"toolbar_location\":null,\"x_range\":{\"id\":\"ff63fa5e-ef68-4e4a-9033-c567e837bdc3\",\"type\":\"Range1d\"},\"x_scale\":{\"id\":\"d0f8a1ba-7cd8-439d-8193-3a428e400d2b\",\"type\":\"LinearScale\"},\"y_range\":{\"id\":\"8c1aa4f4-20ef-419d-86d3-d26987512bf1\",\"type\":\"Range1d\"},\"y_scale\":{\"id\":\"2087cddd-d29f-411e-bc04-742b63a174bd\",\"type\":\"LinearScale\"}},\"id\":\"786b195c-f154-4c8e-949a-785180ba0b01\",\"subtype\":\"Figure\",\"type\":\"Plot\"},{\"attributes\":{},\"id\":\"3488db14-e0c3-46d6-a85d-aa5d8a5879e7\",\"type\":\"UnionRenderers\"},{\"attributes\":{\"tools\":[{\"id\":\"62a26f4f-4d83-4d28-81e8-3c4e802b3bf8\",\"type\":\"PanTool\"},{\"id\":\"0c9341f3-dd6e-4fc8-8967-549fd692b15b\",\"type\":\"WheelZoomTool\"},{\"id\":\"c719f039-8512-4597-acc9-e3da4d6a8d25\",\"type\":\"BoxZoomTool\"},{\"id\":\"54ecba93-78c3-48b6-b954-c40d821044d6\",\"type\":\"SaveTool\"},{\"id\":\"c6f38164-b8d3-4bdb-8e98-a0e88023e657\",\"type\":\"ResetTool\"},{\"id\":\"49847fb6-8943-4cf6-8e19-8d35373ca579\",\"type\":\"HelpTool\"},{\"id\":\"ba196114-67ba-4012-a7bf-6a648c2befb3\",\"type\":\"PanTool\"},{\"id\":\"e96a5bb4-fcc5-4efc-8f7d-91380cfba122\",\"type\":\"WheelZoomTool\"},{\"id\":\"36891a0b-ee3c-4dfb-9a10-7495bac566ef\",\"type\":\"BoxZoomTool\"},{\"id\":\"81f8c3ea-f390-4c45-942f-5e9795f5489d\",\"type\":\"SaveTool\"},{\"id\":\"7c1776f8-53f4-4674-b60e-1e3e37f9695d\",\"type\":\"ResetTool\"},{\"id\":\"71fa5e07-3e06-4ed9-9454-1721ed2cf79c\",\"type\":\"HelpTool\"}]},\"id\":\"ccab21dc-72f8-4f3c-b71d-59887a92b492\",\"type\":\"ProxyToolbar\"},{\"attributes\":{\"axis_label\":\"pressure [mb]\",\"formatter\":{\"id\":\"31934d55-0847-4e36-a7ba-a3a9bf0aebc4\",\"type\":\"BasicTickFormatter\"},\"plot\":{\"id\":\"786b195c-f154-4c8e-949a-785180ba0b01\",\"subtype\":\"Figure\",\"type\":\"Plot\"},\"ticker\":{\"id\":\"3f4c07bf-7f74-4aa9-a2b5-80fa017b62d8\",\"type\":\"BasicTicker\"}},\"id\":\"c879988c-7d0e-4bde-81fc-6d0a742441de\",\"type\":\"LinearAxis\"},{\"attributes\":{},\"id\":\"d0f8a1ba-7cd8-439d-8193-3a428e400d2b\",\"type\":\"LinearScale\"},{\"attributes\":{\"plot\":{\"id\":\"786b195c-f154-4c8e-949a-785180ba0b01\",\"subtype\":\"Figure\",\"type\":\"Plot\"},\"ticker\":{\"id\":\"253c81e9-6582-4dea-ad75-a04569aa31b0\",\"type\":\"BasicTicker\"}},\"id\":\"5676ec10-1b3c-4c12-a61a-7c6b78f83df9\",\"type\":\"Grid\"},{\"attributes\":{},\"id\":\"253c81e9-6582-4dea-ad75-a04569aa31b0\",\"type\":\"BasicTicker\"},{\"attributes\":{\"axis_label\":\"cooling rate [K/day]\",\"formatter\":{\"id\":\"27ef8a40-2f6f-43d4-83d1-9052982c25c2\",\"type\":\"BasicTickFormatter\"},\"plot\":{\"id\":\"786b195c-f154-4c8e-949a-785180ba0b01\",\"subtype\":\"Figure\",\"type\":\"Plot\"},\"ticker\":{\"id\":\"253c81e9-6582-4dea-ad75-a04569aa31b0\",\"type\":\"BasicTicker\"}},\"id\":\"3d16ce42-b91c-441e-b94c-f8b9db1c8bac\",\"type\":\"LinearAxis\"},{\"attributes\":{\"below\":[{\"id\":\"7ddc98b5-bf76-4e15-981a-fc1f9d6491d3\",\"type\":\"LinearAxis\"}],\"left\":[{\"id\":\"fba3053a-76ce-4da0-a9ce-1081dbf1d319\",\"type\":\"LogAxis\"}],\"plot_height\":500,\"plot_width\":560,\"renderers\":[{\"id\":\"7ddc98b5-bf76-4e15-981a-fc1f9d6491d3\",\"type\":\"LinearAxis\"},{\"id\":\"96e1a121-625e-4ca9-8698-79d600fb6c0b\",\"type\":\"Grid\"},{\"id\":\"fba3053a-76ce-4da0-a9ce-1081dbf1d319\",\"type\":\"LogAxis\"},{\"id\":\"49e2ef30-4eb4-4fdf-9bfa-c98856871553\",\"type\":\"Grid\"},{\"id\":\"cbbfd8f5-7752-4301-8a27-603f74b8b096\",\"type\":\"BoxAnnotation\"},{\"id\":\"e6c22c45-38a8-46da-9d83-d5d7bfc243b9\",\"type\":\"GlyphRenderer\"},{\"id\":\"3d9d05f9-e6e1-463f-bbb6-0976a8f1bbd3\",\"type\":\"GlyphRenderer\"},{\"id\":\"96f90528-df28-4f7f-9720-9040491e4e60\",\"type\":\"GlyphRenderer\"},{\"id\":\"532201ff-6845-4ac3-adb9-42f55aba7b9d\",\"type\":\"GlyphRenderer\"},{\"id\":\"7eb45040-c9ba-4d58-afbc-6ceedf15266d\",\"type\":\"GlyphRenderer\"},{\"id\":\"ff7465be-9958-4a04-acc8-ad905b959996\",\"type\":\"Legend\"}],\"right\":[{\"id\":\"ff7465be-9958-4a04-acc8-ad905b959996\",\"type\":\"Legend\"}],\"title\":{\"id\":\"84bac1e3-e3dc-45f1-99ad-4b1a9f8441cf\",\"type\":\"Title\"},\"toolbar\":{\"id\":\"810922ab-f323-457c-84f7-d9326805be68\",\"type\":\"Toolbar\"},\"toolbar_location\":null,\"x_range\":{\"id\":\"6278b42f-9ad9-4d60-90cf-4c5a1c110474\",\"type\":\"Range1d\"},\"x_scale\":{\"id\":\"6f48e21f-6fc0-44fd-abf0-00581e650c66\",\"type\":\"LinearScale\"},\"y_range\":{\"id\":\"8cbf8ce8-e490-4791-a8b8-cb8d84926837\",\"type\":\"Range1d\"},\"y_scale\":{\"id\":\"3f8666d4-75d4-4dde-9e67-3b2e002d388e\",\"type\":\"LogScale\"}},\"id\":\"3b24ee44-aa83-4823-b942-7ea7d8a8081d\",\"subtype\":\"Figure\",\"type\":\"Plot\"},{\"attributes\":{\"active_drag\":\"auto\",\"active_inspect\":\"auto\",\"active_scroll\":\"auto\",\"active_tap\":\"auto\",\"tools\":[{\"id\":\"62a26f4f-4d83-4d28-81e8-3c4e802b3bf8\",\"type\":\"PanTool\"},{\"id\":\"0c9341f3-dd6e-4fc8-8967-549fd692b15b\",\"type\":\"WheelZoomTool\"},{\"id\":\"c719f039-8512-4597-acc9-e3da4d6a8d25\",\"type\":\"BoxZoomTool\"},{\"id\":\"54ecba93-78c3-48b6-b954-c40d821044d6\",\"type\":\"SaveTool\"},{\"id\":\"c6f38164-b8d3-4bdb-8e98-a0e88023e657\",\"type\":\"ResetTool\"},{\"id\":\"49847fb6-8943-4cf6-8e19-8d35373ca579\",\"type\":\"HelpTool\"}]},\"id\":\"4b18750d-5261-4b5c-9bd1-c27a28e69875\",\"type\":\"Toolbar\"},{\"attributes\":{\"source\":{\"id\":\"74f7fefb-1c38-49b9-95a1-bfd987999908\",\"type\":\"ColumnDataSource\"}},\"id\":\"2406b017-68bc-48b9-b913-12617d0e2f0d\",\"type\":\"CDSView\"},{\"attributes\":{},\"id\":\"3f4c07bf-7f74-4aa9-a2b5-80fa017b62d8\",\"type\":\"BasicTicker\"},{\"attributes\":{\"callback\":null,\"data\":{\"x\":{\"__ndarray__\":\"BPOcnL0Nnb8t1f1KhJmev78qr0aKiZ6/y5Hf7CDAmb/ltuC5tVSPv/gst5YGXzs/St2q+HpPlz/VrE8TX+iqPwTP0WsyMbc/OzlDccebwT9jSKnf4ObIP9QWMrK/x9A/8S7V1MvS1T8fculOZnLdP96S+6HCZuQ/YURPiIj06j8UKpN1k/PwP1oZ6DXRgvQ/ugkI9xQK+D+/tn76z3r7P/DSl+8qtf4/iLfOv112/z9BtWbQdYb6P+Gbps8O+PM/jpg0oaSb7T+D5d+ZlrnkPyRkvaRzNts/YbRccOUw0j9IqQDvT+/KP9X/QT3gLsQ/p5W+5/KsvD/imn8XXa6wP4qvCXi4bqI/HGebZ2FZlz/AUmQM79tQvwVNPIFfDKC/RC09As4+rb+8hcya+m6zv1tmoTXwN7e/13nIUvNuur/yONI6JmK6vzPyyAso1be/ET54E5optb8ccVlpeNGxvxabf4mylqy/5pNrw47qpL9XS8ADkbKcv9Z8oe+KupS/Sz/A3u0Pjr/y1ycqYquEv2VywYx2C3q/kTlP62grbr/LOWD311tcv2YPmstDcfW+uJ390nC7WD/Iu0VNpI5nP6tSMdDgr3A/dCO+aI7ydD9iFnAMDqF4Py864e3WtXs/sWMElS8vfj+Sbl3HPhyAP5Zuiv+m9IA/t/DqQziZgT+gwOmM0BCCP4ryKWFdhYI/x1OMfCn/gj8ewWHvq1WDP8nRWXPybIM/B/sog6Asgz9as74WLoqCP1qkxEcvnoE/9+55gFqMgD8/oO0BDOV+P5wCRZ63wHw/\",\"dtype\":\"float64\",\"shape\":[75]},\"y\":{\"__ndarray__\":\"GhExyth1ND/Sv8nbtpRIP2vylNV0PVE/aTum7souWD/At0SJ8fVgPw3Iuahxymc/MSNhhJWvcD/bTfBN02d3P2zb5nxnaoA/CD5h5MAGhz8NmeH1TyaQP+zrCsc9p5Y/LbKd76fGnz/bLW5ISEmmPww9YvTcQq8/JV2OstnstT8Er5Y7M8G+P0c+r3jqkcU/5h99k6ZBzj88bCIzFzjVP4enV8oyxN0//yH99nXg5D8qOpLLf0jtP5kqGJXUifQ/c9cS8kHP/D+/DpwzojQEQIEmwoanVwxA4lgXt9HgE0BSSZ2AJuIbQAMJih9jjiNA5q4l5INuK0AwTKYKRj0zQNv5fmq8/DpAaCJseHrtQkB/+zpwzoxKQM3MzMzMeFJAZmZmZmZqWEAAAAAAAFxeQM3MzMzMJmJAmpmZmZkfZUBmZmZmZhhoQDMzMzMzEWtAAAAAAAAKbkBmZmZmZoFwQM3MzMzM/XFAMzMzMzN6c0CamZmZmfZ0QAAAAAAAc3ZAZmZmZmbvd0DNzMzMzGt5QDMzMzMz6HpAmpmZmZlkfEAAAAAAAOF9QGZmZmZmXX9AZmZmZuZsgECamZmZGSuBQM3MzMxM6YFAAAAAAICngkAzMzMzs2WDQGZmZmbmI4RAmpmZmRnihEDNzMzMTKCFQAAAAACAXoZAMzMzM7Mch0BmZmZm5tqHQJqZmZkZmYhAzczMzExXiUAAAAAAgBWKQDMzMzOz04pAZmZmZuaRi0CamZmZGVCMQM3MzMxMDo1AAAAAAIDMjUAzMzMzs4qOQGZmZmbmSI9A\",\"dtype\":\"float64\",\"shape\":[75]}},\"selected\":{\"id\":\"46717a9c-64e7-4a5f-a9ab-e7e5195f3a5e\",\"type\":\"Selection\"},\"selection_policy\":{\"id\":\"38894270-55fe-4ed0-8f18-ecf890f602b8\",\"type\":\"UnionRenderers\"}},\"id\":\"32619172-308d-4350-a25e-9cc66f6c865c\",\"type\":\"ColumnDataSource\"},{\"attributes\":{},\"id\":\"c6f38164-b8d3-4bdb-8e98-a0e88023e657\",\"type\":\"ResetTool\"},{\"attributes\":{\"callback\":null,\"data\":{\"x\":{\"__ndarray__\":\"oJ3lD4zXkL8dgxOmL1GRv2OEe1tsN5C/21BmwK9Kh79FsSPxFc1pv1XS4LgAO4M/1D/Xqpx3mz/TzMWlS3upPzHxK/w3NLQ/kYOOLTZzvT+L4vKre1zEP2K3to2SGcs/aPWjG0CD0T/sa354baHXPzZy/qLbfeA/Bp1SVroY5j8fvDRN8VvsP2J5ocp6m/E/amrZWl9E9T+o4zEDlRH5P3pZbsTutvw/Ae5o0lxd/j9vgm+aPrv6P0kQroBCffQ/bWX0aTbr7T/++WzTjtHkP562RgTj4Ns/rGko/6Qr0z863SaaD6HNP/M0R/NT3sY/ZzgzNH16wD+utBp/k4ezP6Vrne0Of6U/v/GmPGnKmD+dqRX/Xl5lv6SO6WQEr6K/NijZa/Nfsb8vx2ACDW+3v8CtYMA38ru/3RuNjYpJv78DHCn4+TG+vzoklEJJFrq/MOczT5cNtr/0fqbVxaqxvxJz62N1E6u/hP/Qc9sjo79iptEKKq+Zv0fSXBF2NpK/br+dwEvbib9syu7xHU+Bv4ThHKhlAXW/R0BzQIy8Zr+UiIXdnRxRv6mZpU8E4z4/KPTAn0/YXT9c6lNXjchoP4Ye//YNtHA/4jfHsdxvdD+vm+3pJah3P0MDpWcJWXo/PtN4Vgx/fD/n6n/jKEV+Pzn+qZCpvX8/9+QPNbJsgD8UmAqFGtKAP2wJCfG5NYE/lAugX+WegT/ZpHnEA+qBPyDMD5L8/oE/FiG5WPjKgT9sAq6ivUWBP831uwmlg4A/1nlNsLxCfz8fWOjbr299P7vvUzfJpns/\",\"dtype\":\"float64\",\"shape\":[75]},\"y\":{\"__ndarray__\":\"S/O/Q+51ND/Sv8nbtpRIP2vylNV0PVE/aTum7souWD/At0SJ8fVgPw3Iuahxymc/MSNhhJWvcD/bTfBN02d3P2zb5nxnaoA/CD5h5MAGhz8NmeH1TyaQP+zrCsc9p5Y/LbKd76fGnz/bLW5ISEmmPww9YvTcQq8/JV2OstnstT8Er5Y7M8G+P0c+r3jqkcU/5h99k6ZBzj88bCIzFzjVP4enV8oyxN0//yH99nXg5D8qOpLLf0jtP5kqGJXUifQ/c9cS8kHP/D+/DpwzojQEQIEmwoanVwxA4lgXt9HgE0BSSZ2AJuIbQAMJih9jjiNA5q4l5INuK0AwTKYKRj0zQNv5fmq8/DpAaCJseHrtQkB/+zpwzoxKQM3MzMzMeFJAZmZmZmZqWEAAAAAAAFxeQM3MzMzMJmJAmpmZmZkfZUBmZmZmZhhoQDMzMzMzEWtAAAAAAAAKbkBmZmZmZoFwQM3MzMzM/XFAMzMzMzN6c0CamZmZmfZ0QAAAAAAAc3ZAZmZmZmbvd0DNzMzMzGt5QDMzMzMz6HpAmpmZmZlkfEAAAAAAAOF9QGZmZmZmXX9AZmZmZuZsgECamZmZGSuBQM3MzMxM6YFAAAAAAICngkAzMzMzs2WDQGZmZmbmI4RAmpmZmRnihEDNzMzMTKCFQAAAAACAXoZAMzMzM7Mch0BmZmZm5tqHQJqZmZkZmYhAzczMzExXiUAAAAAAgBWKQDMzMzOz04pAZmZmZuaRi0CamZmZGVCMQM3MzMxMDo1AAAAAAIDMjUAzMzMzs4qOQGZmZmbmSI9A\",\"dtype\":\"float64\",\"shape\":[75]}},\"selected\":{\"id\":\"617e4302-678d-48df-8700-6449afad3723\",\"type\":\"Selection\"},\"selection_policy\":{\"id\":\"3aae6aca-3ee6-4955-bf86-e68b3b1ed3d8\",\"type\":\"UnionRenderers\"}},\"id\":\"74f7fefb-1c38-49b9-95a1-bfd987999908\",\"type\":\"ColumnDataSource\"},{\"attributes\":{},\"id\":\"54ecba93-78c3-48b6-b954-c40d821044d6\",\"type\":\"SaveTool\"},{\"attributes\":{\"line_alpha\":0.6,\"line_color\":\"#e41a1c\",\"line_dash\":[6],\"line_width\":5,\"x\":{\"field\":\"x\"},\"y\":{\"field\":\"y\"}},\"id\":\"b3849197-fbf2-488a-8d3a-4529755b9e46\",\"type\":\"Line\"},{\"attributes\":{},\"id\":\"49847fb6-8943-4cf6-8e19-8d35373ca579\",\"type\":\"HelpTool\"},{\"attributes\":{\"bottom_units\":\"screen\",\"fill_alpha\":{\"value\":0.5},\"fill_color\":{\"value\":\"lightgrey\"},\"left_units\":\"screen\",\"level\":\"overlay\",\"line_alpha\":{\"value\":1.0},\"line_color\":{\"value\":\"black\"},\"line_dash\":[4,4],\"line_width\":{\"value\":2},\"plot\":null,\"render_mode\":\"css\",\"right_units\":\"screen\",\"top_units\":\"screen\"},\"id\":\"04485d05-bdc0-4a9d-9280-3f3cba5aebe3\",\"type\":\"BoxAnnotation\"},{\"attributes\":{\"line_alpha\":0.1,\"line_color\":\"#1f77b4\",\"line_dash\":[6],\"line_width\":5,\"x\":{\"field\":\"x\"},\"y\":{\"field\":\"y\"}},\"id\":\"0571ed6e-faeb-4cd5-afa8-aaecfc2afc03\",\"type\":\"Line\"},{\"attributes\":{\"overlay\":{\"id\":\"04485d05-bdc0-4a9d-9280-3f3cba5aebe3\",\"type\":\"BoxAnnotation\"}},\"id\":\"c719f039-8512-4597-acc9-e3da4d6a8d25\",\"type\":\"BoxZoomTool\"},{\"attributes\":{\"dimension\":1,\"plot\":{\"id\":\"786b195c-f154-4c8e-949a-785180ba0b01\",\"subtype\":\"Figure\",\"type\":\"Plot\"},\"ticker\":{\"id\":\"3f4c07bf-7f74-4aa9-a2b5-80fa017b62d8\",\"type\":\"BasicTicker\"}},\"id\":\"83b22b96-c5a9-4860-8a1f-c9b9047c2b97\",\"type\":\"Grid\"},{\"attributes\":{},\"id\":\"0c9341f3-dd6e-4fc8-8967-549fd692b15b\",\"type\":\"WheelZoomTool\"},{\"attributes\":{\"data_source\":{\"id\":\"74f7fefb-1c38-49b9-95a1-bfd987999908\",\"type\":\"ColumnDataSource\"},\"glyph\":{\"id\":\"b3849197-fbf2-488a-8d3a-4529755b9e46\",\"type\":\"Line\"},\"hover_glyph\":null,\"muted_glyph\":null,\"nonselection_glyph\":{\"id\":\"0571ed6e-faeb-4cd5-afa8-aaecfc2afc03\",\"type\":\"Line\"},\"selection_glyph\":null,\"view\":{\"id\":\"2406b017-68bc-48b9-b913-12617d0e2f0d\",\"type\":\"CDSView\"}},\"id\":\"1fec2454-bf26-44e0-aced-7af1660474df\",\"type\":\"GlyphRenderer\"},{\"attributes\":{\"callback\":null,\"end\":0.01,\"start\":1020},\"id\":\"8c1aa4f4-20ef-419d-86d3-d26987512bf1\",\"type\":\"Range1d\"},{\"attributes\":{},\"id\":\"62a26f4f-4d83-4d28-81e8-3c4e802b3bf8\",\"type\":\"PanTool\"},{\"attributes\":{},\"id\":\"2087cddd-d29f-411e-bc04-742b63a174bd\",\"type\":\"LinearScale\"},{\"attributes\":{\"data_source\":{\"id\":\"9595ff20-76b7-4d68-92c9-e568d2cc033c\",\"type\":\"ColumnDataSource\"},\"glyph\":{\"id\":\"3820a089-0724-474e-97fa-31f2e9e3a386\",\"type\":\"Line\"},\"hover_glyph\":null,\"muted_glyph\":null,\"nonselection_glyph\":{\"id\":\"e32c6d8f-a6e2-4f36-a8ae-c2ac659f30f1\",\"type\":\"Line\"},\"selection_glyph\":null,\"view\":{\"id\":\"4e092554-1f06-4ab5-8642-46761ffad7ab\",\"type\":\"CDSView\"}},\"id\":\"7eb45040-c9ba-4d58-afbc-6ceedf15266d\",\"type\":\"GlyphRenderer\"},{\"attributes\":{},\"id\":\"a81be40a-2096-4e2d-8b31-51c01ad67bae\",\"type\":\"BasicTicker\"},{\"attributes\":{},\"id\":\"7c1776f8-53f4-4674-b60e-1e3e37f9695d\",\"type\":\"ResetTool\"},{\"attributes\":{\"callback\":null,\"end\":1.9872841389999998,\"start\":-0.14310203900000001},\"id\":\"6278b42f-9ad9-4d60-90cf-4c5a1c110474\",\"type\":\"Range1d\"},{\"attributes\":{},\"id\":\"6f48e21f-6fc0-44fd-abf0-00581e650c66\",\"type\":\"LinearScale\"},{\"attributes\":{\"active_drag\":\"auto\",\"active_inspect\":\"auto\",\"active_scroll\":\"auto\",\"active_tap\":\"auto\",\"tools\":[{\"id\":\"ba196114-67ba-4012-a7bf-6a648c2befb3\",\"type\":\"PanTool\"},{\"id\":\"e96a5bb4-fcc5-4efc-8f7d-91380cfba122\",\"type\":\"WheelZoomTool\"},{\"id\":\"36891a0b-ee3c-4dfb-9a10-7495bac566ef\",\"type\":\"BoxZoomTool\"},{\"id\":\"81f8c3ea-f390-4c45-942f-5e9795f5489d\",\"type\":\"SaveTool\"},{\"id\":\"7c1776f8-53f4-4674-b60e-1e3e37f9695d\",\"type\":\"ResetTool\"},{\"id\":\"71fa5e07-3e06-4ed9-9454-1721ed2cf79c\",\"type\":\"HelpTool\"}]},\"id\":\"810922ab-f323-457c-84f7-d9326805be68\",\"type\":\"Toolbar\"},{\"attributes\":{\"fill_alpha\":{\"value\":0.7},\"fill_color\":{\"value\":\"#984ea3\"},\"line_alpha\":{\"value\":0.7},\"line_color\":{\"value\":\"#984ea3\"},\"x\":{\"field\":\"x\"},\"y\":{\"field\":\"y\"}},\"id\":\"69de6b0b-ff60-402a-8da3-aea67f482c86\",\"type\":\"Square\"},{\"attributes\":{},\"id\":\"81f8c3ea-f390-4c45-942f-5e9795f5489d\",\"type\":\"SaveTool\"},{\"attributes\":{\"line_alpha\":0.6,\"line_color\":\"#984ea3\",\"line_width\":3,\"x\":{\"field\":\"x\"},\"y\":{\"field\":\"y\"}},\"id\":\"fef6abba-4d6f-4cf6-9c9e-700054a9ac06\",\"type\":\"Line\"},{\"attributes\":{\"line_alpha\":0.6,\"line_color\":\"#984ea3\",\"line_width\":3,\"x\":{\"field\":\"x\"},\"y\":{\"field\":\"y\"}},\"id\":\"3820a089-0724-474e-97fa-31f2e9e3a386\",\"type\":\"Line\"},{\"attributes\":{\"items\":[{\"id\":\"a5f016bf-5a57-494c-87df-215e0c40ea1c\",\"type\":\"LegendItem\"},{\"id\":\"7f16828c-0740-43a8-96e2-98c385642c6a\",\"type\":\"LegendItem\"},{\"id\":\"1868c87e-ef5c-4e19-b123-c842092ddce1\",\"type\":\"LegendItem\"}],\"label_text_font_size\":{\"value\":\"8pt\"},\"location\":[10,-30],\"plot\":{\"id\":\"3b24ee44-aa83-4823-b942-7ea7d8a8081d\",\"subtype\":\"Figure\",\"type\":\"Plot\"}},\"id\":\"ff7465be-9958-4a04-acc8-ad905b959996\",\"type\":\"Legend\"},{\"attributes\":{\"bottom_units\":\"screen\",\"fill_alpha\":{\"value\":0.5},\"fill_color\":{\"value\":\"lightgrey\"},\"left_units\":\"screen\",\"level\":\"overlay\",\"line_alpha\":{\"value\":1.0},\"line_color\":{\"value\":\"black\"},\"line_dash\":[4,4],\"line_width\":{\"value\":2},\"plot\":null,\"render_mode\":\"css\",\"right_units\":\"screen\",\"top_units\":\"screen\"},\"id\":\"cbbfd8f5-7752-4301-8a27-603f74b8b096\",\"type\":\"BoxAnnotation\"},{\"attributes\":{\"callback\":null,\"end\":0.01,\"start\":1020},\"id\":\"8cbf8ce8-e490-4791-a8b8-cb8d84926837\",\"type\":\"Range1d\"},{\"attributes\":{\"plot\":null,\"text\":\"Log pressure scale\"},\"id\":\"84bac1e3-e3dc-45f1-99ad-4b1a9f8441cf\",\"type\":\"Title\"},{\"attributes\":{\"source\":{\"id\":\"562d0dc5-6ec4-4f5f-9770-c11d0f94f12e\",\"type\":\"ColumnDataSource\"}},\"id\":\"57dbd3ed-4166-4f34-82ad-71a9572db779\",\"type\":\"CDSView\"},{\"attributes\":{\"axis_label\":\"pressure [mb]\",\"formatter\":{\"id\":\"954ceff1-3040-491b-abfb-b21d1bbc1633\",\"type\":\"LogTickFormatter\"},\"plot\":{\"id\":\"3b24ee44-aa83-4823-b942-7ea7d8a8081d\",\"subtype\":\"Figure\",\"type\":\"Plot\"},\"ticker\":{\"id\":\"3c28a5cf-cf1b-4b11-9b48-47600eac14d4\",\"type\":\"LogTicker\"}},\"id\":\"fba3053a-76ce-4da0-a9ce-1081dbf1d319\",\"type\":\"LogAxis\"},{\"attributes\":{\"source\":{\"id\":\"0d0b9dfc-eef2-4c86-a7b2-e4b862694991\",\"type\":\"ColumnDataSource\"}},\"id\":\"1d8d3dda-5c6d-48a0-b65c-46e128c19884\",\"type\":\"CDSView\"},{\"attributes\":{\"source\":{\"id\":\"ba55a41c-ceeb-45d8-ac63-fb01835957db\",\"type\":\"ColumnDataSource\"}},\"id\":\"f8468a7c-8191-4ec0-9331-3770da2c0d75\",\"type\":\"CDSView\"},{\"attributes\":{\"source\":{\"id\":\"15dddb58-789d-4de7-993e-0b4718b9af54\",\"type\":\"ColumnDataSource\"}},\"id\":\"2dce0b28-26ee-49ab-aec3-10c0815d7d80\",\"type\":\"CDSView\"},{\"attributes\":{\"fill_alpha\":{\"value\":0.1},\"fill_color\":{\"value\":\"#1f77b4\"},\"line_alpha\":{\"value\":0.1},\"line_color\":{\"value\":\"#1f77b4\"},\"x\":{\"field\":\"x\"},\"y\":{\"field\":\"y\"}},\"id\":\"9760dcef-9ade-4d91-9254-8e230c5b7716\",\"type\":\"Square\"},{\"attributes\":{\"line_alpha\":0.1,\"line_color\":\"#1f77b4\",\"line_width\":3,\"x\":{\"field\":\"x\"},\"y\":{\"field\":\"y\"}},\"id\":\"bb38904e-739a-4a2e-95d2-c16676f4b85a\",\"type\":\"Line\"},{\"attributes\":{\"num_minor_ticks\":10},\"id\":\"3c28a5cf-cf1b-4b11-9b48-47600eac14d4\",\"type\":\"LogTicker\"},{\"attributes\":{\"callback\":null,\"data\":{\"x\":{\"__ndarray__\":\"BPOcnL0Nnb8t1f1KhJmev78qr0aKiZ6/y5Hf7CDAmb/ltuC5tVSPv/gst5YGXzs/St2q+HpPlz/VrE8TX+iqPwTP0WsyMbc/OzlDccebwT9jSKnf4ObIP9QWMrK/x9A/8S7V1MvS1T8fculOZnLdP96S+6HCZuQ/YURPiIj06j8UKpN1k/PwP1oZ6DXRgvQ/ugkI9xQK+D+/tn76z3r7P/DSl+8qtf4/iLfOv112/z9BtWbQdYb6P+Gbps8O+PM/jpg0oaSb7T+D5d+ZlrnkPyRkvaRzNts/YbRccOUw0j9IqQDvT+/KP9X/QT3gLsQ/p5W+5/KsvD/imn8XXa6wP4qvCXi4bqI/HGebZ2FZlz/AUmQM79tQvwVNPIFfDKC/RC09As4+rb+8hcya+m6zv1tmoTXwN7e/13nIUvNuur/yONI6JmK6vzPyyAso1be/ET54E5optb8ccVlpeNGxvxabf4mylqy/5pNrw47qpL9XS8ADkbKcv9Z8oe+KupS/Sz/A3u0Pjr/y1ycqYquEv2VywYx2C3q/kTlP62grbr/LOWD311tcv2YPmstDcfW+uJ390nC7WD/Iu0VNpI5nP6tSMdDgr3A/dCO+aI7ydD9iFnAMDqF4Py864e3WtXs/sWMElS8vfj+Sbl3HPhyAP5Zuiv+m9IA/t/DqQziZgT+gwOmM0BCCP4ryKWFdhYI/x1OMfCn/gj8ewWHvq1WDP8nRWXPybIM/B/sog6Asgz9as74WLoqCP1qkxEcvnoE/9+55gFqMgD8/oO0BDOV+P5wCRZ63wHw/\",\"dtype\":\"float64\",\"shape\":[75]},\"y\":{\"__ndarray__\":\"GhExyth1ND/Sv8nbtpRIP2vylNV0PVE/aTum7souWD/At0SJ8fVgPw3Iuahxymc/MSNhhJWvcD/bTfBN02d3P2zb5nxnaoA/CD5h5MAGhz8NmeH1TyaQP+zrCsc9p5Y/LbKd76fGnz/bLW5ISEmmPww9YvTcQq8/JV2OstnstT8Er5Y7M8G+P0c+r3jqkcU/5h99k6ZBzj88bCIzFzjVP4enV8oyxN0//yH99nXg5D8qOpLLf0jtP5kqGJXUifQ/c9cS8kHP/D+/DpwzojQEQIEmwoanVwxA4lgXt9HgE0BSSZ2AJuIbQAMJih9jjiNA5q4l5INuK0AwTKYKRj0zQNv5fmq8/DpAaCJseHrtQkB/+zpwzoxKQM3MzMzMeFJAZmZmZmZqWEAAAAAAAFxeQM3MzMzMJmJAmpmZmZkfZUBmZmZmZhhoQDMzMzMzEWtAAAAAAAAKbkBmZmZmZoFwQM3MzMzM/XFAMzMzMzN6c0CamZmZmfZ0QAAAAAAAc3ZAZmZmZmbvd0DNzMzMzGt5QDMzMzMz6HpAmpmZmZlkfEAAAAAAAOF9QGZmZmZmXX9AZmZmZuZsgECamZmZGSuBQM3MzMxM6YFAAAAAAICngkAzMzMzs2WDQGZmZmbmI4RAmpmZmRnihEDNzMzMTKCFQAAAAACAXoZAMzMzM7Mch0BmZmZm5tqHQJqZmZkZmYhAzczMzExXiUAAAAAAgBWKQDMzMzOz04pAZmZmZuaRi0CamZmZGVCMQM3MzMxMDo1AAAAAAIDMjUAzMzMzs4qOQGZmZmbmSI9A\",\"dtype\":\"float64\",\"shape\":[75]}},\"selected\":{\"id\":\"2fb907e8-5a71-40d3-a2d1-84f6c0c01ea1\",\"type\":\"Selection\"},\"selection_policy\":{\"id\":\"81790990-ccb3-4320-8fa7-6ea79616af71\",\"type\":\"UnionRenderers\"}},\"id\":\"0d0b9dfc-eef2-4c86-a7b2-e4b862694991\",\"type\":\"ColumnDataSource\"},{\"attributes\":{\"overlay\":{\"id\":\"cbbfd8f5-7752-4301-8a27-603f74b8b096\",\"type\":\"BoxAnnotation\"}},\"id\":\"36891a0b-ee3c-4dfb-9a10-7495bac566ef\",\"type\":\"BoxZoomTool\"},{\"attributes\":{},\"id\":\"71fa5e07-3e06-4ed9-9454-1721ed2cf79c\",\"type\":\"HelpTool\"},{\"attributes\":{\"data_source\":{\"id\":\"15dddb58-789d-4de7-993e-0b4718b9af54\",\"type\":\"ColumnDataSource\"},\"glyph\":{\"id\":\"fef6abba-4d6f-4cf6-9c9e-700054a9ac06\",\"type\":\"Line\"},\"hover_glyph\":null,\"muted_glyph\":null,\"nonselection_glyph\":{\"id\":\"bb38904e-739a-4a2e-95d2-c16676f4b85a\",\"type\":\"Line\"},\"selection_glyph\":null,\"view\":{\"id\":\"2dce0b28-26ee-49ab-aec3-10c0815d7d80\",\"type\":\"CDSView\"}},\"id\":\"cd7554ef-8bdd-4e96-99c1-abf5da89e59f\",\"type\":\"GlyphRenderer\"},{\"attributes\":{\"line_color\":\"#4daf4a\",\"line_width\":1.5,\"x\":{\"field\":\"x\"},\"y\":{\"field\":\"y\"}},\"id\":\"0d27d690-2814-43b3-807d-cb9414519c26\",\"type\":\"Line\"},{\"attributes\":{\"fill_alpha\":{\"value\":0.1},\"fill_color\":{\"value\":\"#1f77b4\"},\"line_alpha\":{\"value\":0.1},\"line_color\":{\"value\":\"#1f77b4\"},\"x\":{\"field\":\"x\"},\"y\":{\"field\":\"y\"}},\"id\":\"7742c26f-a007-492b-87cd-243987255b73\",\"type\":\"Circle\"},{\"attributes\":{\"fill_alpha\":{\"value\":0.1},\"fill_color\":{\"value\":\"#1f77b4\"},\"line_alpha\":{\"value\":0.1},\"line_color\":{\"value\":\"#1f77b4\"},\"x\":{\"field\":\"x\"},\"y\":{\"field\":\"y\"}},\"id\":\"fdd02072-bd50-4d00-8030-92993c693939\",\"type\":\"Circle\"},{\"attributes\":{\"callback\":null,\"data\":{\"x\":{\"__ndarray__\":\"ckiyTFS5lr/LPcHAy76Xv+HqYLhAHJe/2So8Jvtekr8li9EeiP2Bv5FCPiednHY/9P87y2VLmj+s7/e2uNuqP2ezLRRZN7Y/hsUFuMmVwD9O7diFsCzHP6XwZi7sAM8/UmpBPIob1D+P0DsD1iLbP79SlI4k1+I/b+CuGN7+6D9+324ycqLvP5Jpu6lLTfM/t747PsnZ9j8ZLHmV5Wb6P99DEIdvyP0/7ulc5K3x/j8ZrBIOuLT6P0FYDKWWkPQ/vJWDq8z87j+nmJw9RDnmP8+e3wErUd4/QbKkz1P81D84s4hqi0DPPy4Q4JOXLMc/ToaFiAsowD8GH6BG3GayPzYEYvHWW6M/3Lb10LE6lj+Y3G/QgdVxv0WqrnG8EaO/WUyG1FnmsL+QP0s9eS62v3xv7hgnEbq/KslcT2sQvb8i9hyo+Um8v+OrSWq75ri/MLwSQKqTtb8FnOM1lsSxv2CDpuo8+Ku/bEywgXIwpL8pDDfnVXSbv5IbChz5sJO//w848JNOjL/2dEWOTD6Dv+6Sfnxc2Xe/IS06pnzUar/rhtdA5/5WvzYqVpRswS8/MD6Ds70LXD/FhZX35cNoP8SfRVzRGHE/UTy4QhwpdT9GZ74TwLR4P8xvTwcTq3s/7G9RRbcKfj/UzJT+8P9/P7kIXSPEz4A/JoqfRHdrgT//m9YvEd2BP5bBbZ9OTYI/amNhB0jDgj9FYzVfVxeDP4If/5bdLoM/OPjj/Vnygj/tAlnvxViCP4eVVUqrd4E/nyVnPsR1gD9mifknIdZ+P/6pmWtFznw/\",\"dtype\":\"float64\",\"shape\":[75]},\"y\":{\"__ndarray__\":\"GhExyth1ND/Sv8nbtpRIP2vylNV0PVE/aTum7souWD/At0SJ8fVgPw3Iuahxymc/MSNhhJWvcD/bTfBN02d3P2zb5nxnaoA/CD5h5MAGhz8NmeH1TyaQP+zrCsc9p5Y/LbKd76fGnz/bLW5ISEmmPww9YvTcQq8/JV2OstnstT8Er5Y7M8G+P0c+r3jqkcU/5h99k6ZBzj88bCIzFzjVP4enV8oyxN0//yH99nXg5D8qOpLLf0jtP5kqGJXUifQ/c9cS8kHP/D+/DpwzojQEQIEmwoanVwxA4lgXt9HgE0BSSZ2AJuIbQAMJih9jjiNA5q4l5INuK0AwTKYKRj0zQNv5fmq8/DpAaCJseHrtQkB/+zpwzoxKQM3MzMzMeFJAZmZmZmZqWEAAAAAAAFxeQM3MzMzMJmJAmpmZmZkfZUBmZmZmZhhoQDMzMzMzEWtAAAAAAAAKbkBmZmZmZoFwQM3MzMzM/XFAMzMzMzN6c0CamZmZmfZ0QAAAAAAAc3ZAZmZmZmbvd0DNzMzMzGt5QDMzMzMz6HpAmpmZmZlkfEAAAAAAAOF9QGZmZmZmXX9AZmZmZuZsgECamZmZGSuBQM3MzMxM6YFAAAAAAICngkAzMzMzs2WDQGZmZmbmI4RAmpmZmRnihEDNzMzMTKCFQAAAAACAXoZAMzMzM7Mch0BmZmZm5tqHQJqZmZkZmYhAzczMzExXiUAAAAAAgBWKQDMzMzOz04pAZmZmZuaRi0CamZmZGVCMQM3MzMxMDo1AAAAAAIDMjUAzMzMzs4qOQGZmZmbmSI9A\",\"dtype\":\"float64\",\"shape\":[75]}},\"selected\":{\"id\":\"4787fc37-761a-4632-864c-dc6e01d3bc74\",\"type\":\"Selection\"},\"selection_policy\":{\"id\":\"3488db14-e0c3-46d6-a85d-aa5d8a5879e7\",\"type\":\"UnionRenderers\"}},\"id\":\"9595ff20-76b7-4d68-92c9-e568d2cc033c\",\"type\":\"ColumnDataSource\"},{\"attributes\":{\"callback\":null,\"data\":{\"x\":{\"__ndarray__\":\"ckiyTFS5lr/LPcHAy76Xv+HqYLhAHJe/2So8Jvtekr8li9EeiP2Bv5FCPiednHY/9P87y2VLmj+s7/e2uNuqP2ezLRRZN7Y/hsUFuMmVwD9O7diFsCzHP6XwZi7sAM8/UmpBPIob1D+P0DsD1iLbP79SlI4k1+I/b+CuGN7+6D9+324ycqLvP5Jpu6lLTfM/t747PsnZ9j8ZLHmV5Wb6P99DEIdvyP0/7ulc5K3x/j8ZrBIOuLT6P0FYDKWWkPQ/vJWDq8z87j+nmJw9RDnmP8+e3wErUd4/QbKkz1P81D84s4hqi0DPPy4Q4JOXLMc/ToaFiAsowD8GH6BG3GayPzYEYvHWW6M/3Lb10LE6lj+Y3G/QgdVxv0WqrnG8EaO/WUyG1FnmsL+QP0s9eS62v3xv7hgnEbq/KslcT2sQvb8i9hyo+Um8v+OrSWq75ri/MLwSQKqTtb8FnOM1lsSxv2CDpuo8+Ku/bEywgXIwpL8pDDfnVXSbv5IbChz5sJO//w848JNOjL/2dEWOTD6Dv+6Sfnxc2Xe/IS06pnzUar/rhtdA5/5WvzYqVpRswS8/MD6Ds70LXD/FhZX35cNoP8SfRVzRGHE/UTy4QhwpdT9GZ74TwLR4P8xvTwcTq3s/7G9RRbcKfj/UzJT+8P9/P7kIXSPEz4A/JoqfRHdrgT//m9YvEd2BP5bBbZ9OTYI/amNhB0jDgj9FYzVfVxeDP4If/5bdLoM/OPjj/Vnygj/tAlnvxViCP4eVVUqrd4E/nyVnPsR1gD9mifknIdZ+P/6pmWtFznw/\",\"dtype\":\"float64\",\"shape\":[75]},\"y\":{\"__ndarray__\":\"GhExyth1ND/Sv8nbtpRIP2vylNV0PVE/aTum7souWD/At0SJ8fVgPw3Iuahxymc/MSNhhJWvcD/bTfBN02d3P2zb5nxnaoA/CD5h5MAGhz8NmeH1TyaQP+zrCsc9p5Y/LbKd76fGnz/bLW5ISEmmPww9YvTcQq8/JV2OstnstT8Er5Y7M8G+P0c+r3jqkcU/5h99k6ZBzj88bCIzFzjVP4enV8oyxN0//yH99nXg5D8qOpLLf0jtP5kqGJXUifQ/c9cS8kHP/D+/DpwzojQEQIEmwoanVwxA4lgXt9HgE0BSSZ2AJuIbQAMJih9jjiNA5q4l5INuK0AwTKYKRj0zQNv5fmq8/DpAaCJseHrtQkB/+zpwzoxKQM3MzMzMeFJAZmZmZmZqWEAAAAAAAFxeQM3MzMzMJmJAmpmZmZkfZUBmZmZmZhhoQDMzMzMzEWtAAAAAAAAKbkBmZmZmZoFwQM3MzMzM/XFAMzMzMzN6c0CamZmZmfZ0QAAAAAAAc3ZAZmZmZmbvd0DNzMzMzGt5QDMzMzMz6HpAmpmZmZlkfEAAAAAAAOF9QGZmZmZmXX9AZmZmZuZsgECamZmZGSuBQM3MzMxM6YFAAAAAAICngkAzMzMzs2WDQGZmZmbmI4RAmpmZmRnihEDNzMzMTKCFQAAAAACAXoZAMzMzM7Mch0BmZmZm5tqHQJqZmZkZmYhAzczMzExXiUAAAAAAgBWKQDMzMzOz04pAZmZmZuaRi0CamZmZGVCMQM3MzMxMDo1AAAAAAIDMjUAzMzMzs4qOQGZmZmbmSI9A\",\"dtype\":\"float64\",\"shape\":[75]}},\"selected\":{\"id\":\"fbbd7725-83c9-4212-8426-91266db5e23a\",\"type\":\"Selection\"},\"selection_policy\":{\"id\":\"84048cf5-650a-4e06-aa67-6183b5748a91\",\"type\":\"UnionRenderers\"}},\"id\":\"b3c59252-22d2-4a46-8627-6280587d8c90\",\"type\":\"ColumnDataSource\"},{\"attributes\":{\"data_source\":{\"id\":\"b3c59252-22d2-4a46-8627-6280587d8c90\",\"type\":\"ColumnDataSource\"},\"glyph\":{\"id\":\"210e79c8-32f5-414a-a629-96e27c91fa43\",\"type\":\"Square\"},\"hover_glyph\":null,\"muted_glyph\":null,\"nonselection_glyph\":{\"id\":\"7a2eaee8-1c19-4fe8-a6a3-9da9d2846cb7\",\"type\":\"Square\"},\"selection_glyph\":null,\"view\":{\"id\":\"c9de6e1a-8419-4879-b771-cd0658d6220a\",\"type\":\"CDSView\"}},\"id\":\"532201ff-6845-4ac3-adb9-42f55aba7b9d\",\"type\":\"GlyphRenderer\"},{\"attributes\":{\"callback\":null,\"data\":{\"x\":{\"__ndarray__\":\"BPOcnL0Nnb8t1f1KhJmev78qr0aKiZ6/y5Hf7CDAmb/ltuC5tVSPv/gst5YGXzs/St2q+HpPlz/VrE8TX+iqPwTP0WsyMbc/OzlDccebwT9jSKnf4ObIP9QWMrK/x9A/8S7V1MvS1T8fculOZnLdP96S+6HCZuQ/YURPiIj06j8UKpN1k/PwP1oZ6DXRgvQ/ugkI9xQK+D+/tn76z3r7P/DSl+8qtf4/iLfOv112/z9BtWbQdYb6P+Gbps8O+PM/jpg0oaSb7T+D5d+ZlrnkPyRkvaRzNts/YbRccOUw0j9IqQDvT+/KP9X/QT3gLsQ/p5W+5/KsvD/imn8XXa6wP4qvCXi4bqI/HGebZ2FZlz/AUmQM79tQvwVNPIFfDKC/RC09As4+rb+8hcya+m6zv1tmoTXwN7e/13nIUvNuur/yONI6JmK6vzPyyAso1be/ET54E5optb8ccVlpeNGxvxabf4mylqy/5pNrw47qpL9XS8ADkbKcv9Z8oe+KupS/Sz/A3u0Pjr/y1ycqYquEv2VywYx2C3q/kTlP62grbr/LOWD311tcv2YPmstDcfW+uJ390nC7WD/Iu0VNpI5nP6tSMdDgr3A/dCO+aI7ydD9iFnAMDqF4Py864e3WtXs/sWMElS8vfj+Sbl3HPhyAP5Zuiv+m9IA/t/DqQziZgT+gwOmM0BCCP4ryKWFdhYI/x1OMfCn/gj8ewWHvq1WDP8nRWXPybIM/B/sog6Asgz9as74WLoqCP1qkxEcvnoE/9+55gFqMgD8/oO0BDOV+P5wCRZ63wHw/\",\"dtype\":\"float64\",\"shape\":[75]},\"y\":{\"__ndarray__\":\"GhExyth1ND/Sv8nbtpRIP2vylNV0PVE/aTum7souWD/At0SJ8fVgPw3Iuahxymc/MSNhhJWvcD/bTfBN02d3P2zb5nxnaoA/CD5h5MAGhz8NmeH1TyaQP+zrCsc9p5Y/LbKd76fGnz/bLW5ISEmmPww9YvTcQq8/JV2OstnstT8Er5Y7M8G+P0c+r3jqkcU/5h99k6ZBzj88bCIzFzjVP4enV8oyxN0//yH99nXg5D8qOpLLf0jtP5kqGJXUifQ/c9cS8kHP/D+/DpwzojQEQIEmwoanVwxA4lgXt9HgE0BSSZ2AJuIbQAMJih9jjiNA5q4l5INuK0AwTKYKRj0zQNv5fmq8/DpAaCJseHrtQkB/+zpwzoxKQM3MzMzMeFJAZmZmZmZqWEAAAAAAAFxeQM3MzMzMJmJAmpmZmZkfZUBmZmZmZhhoQDMzMzMzEWtAAAAAAAAKbkBmZmZmZoFwQM3MzMzM/XFAMzMzMzN6c0CamZmZmfZ0QAAAAAAAc3ZAZmZmZmbvd0DNzMzMzGt5QDMzMzMz6HpAmpmZmZlkfEAAAAAAAOF9QGZmZmZmXX9AZmZmZuZsgECamZmZGSuBQM3MzMxM6YFAAAAAAICngkAzMzMzs2WDQGZmZmbmI4RAmpmZmRnihEDNzMzMTKCFQAAAAACAXoZAMzMzM7Mch0BmZmZm5tqHQJqZmZkZmYhAzczMzExXiUAAAAAAgBWKQDMzMzOz04pAZmZmZuaRi0CamZmZGVCMQM3MzMxMDo1AAAAAAIDMjUAzMzMzs4qOQGZmZmbmSI9A\",\"dtype\":\"float64\",\"shape\":[75]}},\"selected\":{\"id\":\"d56d54e8-5d8d-4c02-b329-8a63a13a4d70\",\"type\":\"Selection\"},\"selection_policy\":{\"id\":\"cbd6a295-0199-4d80-af34-5ea1be71e145\",\"type\":\"UnionRenderers\"}},\"id\":\"ba55a41c-ceeb-45d8-ac63-fb01835957db\",\"type\":\"ColumnDataSource\"},{\"attributes\":{},\"id\":\"e96a5bb4-fcc5-4efc-8f7d-91380cfba122\",\"type\":\"WheelZoomTool\"},{\"attributes\":{\"source\":{\"id\":\"32619172-308d-4350-a25e-9cc66f6c865c\",\"type\":\"ColumnDataSource\"}},\"id\":\"b323ee3c-69e2-45e1-8377-21eac452ae4f\",\"type\":\"CDSView\"},{\"attributes\":{\"callback\":null,\"data\":{\"x\":{\"__ndarray__\":\"ckiyTFS5lr/LPcHAy76Xv+HqYLhAHJe/2So8Jvtekr8li9EeiP2Bv5FCPiednHY/9P87y2VLmj+s7/e2uNuqP2ezLRRZN7Y/hsUFuMmVwD9O7diFsCzHP6XwZi7sAM8/UmpBPIob1D+P0DsD1iLbP79SlI4k1+I/b+CuGN7+6D9+324ycqLvP5Jpu6lLTfM/t747PsnZ9j8ZLHmV5Wb6P99DEIdvyP0/7ulc5K3x/j8ZrBIOuLT6P0FYDKWWkPQ/vJWDq8z87j+nmJw9RDnmP8+e3wErUd4/QbKkz1P81D84s4hqi0DPPy4Q4JOXLMc/ToaFiAsowD8GH6BG3GayPzYEYvHWW6M/3Lb10LE6lj+Y3G/QgdVxv0WqrnG8EaO/WUyG1FnmsL+QP0s9eS62v3xv7hgnEbq/KslcT2sQvb8i9hyo+Um8v+OrSWq75ri/MLwSQKqTtb8FnOM1lsSxv2CDpuo8+Ku/bEywgXIwpL8pDDfnVXSbv5IbChz5sJO//w848JNOjL/2dEWOTD6Dv+6Sfnxc2Xe/IS06pnzUar/rhtdA5/5WvzYqVpRswS8/MD6Ds70LXD/FhZX35cNoP8SfRVzRGHE/UTy4QhwpdT9GZ74TwLR4P8xvTwcTq3s/7G9RRbcKfj/UzJT+8P9/P7kIXSPEz4A/JoqfRHdrgT//m9YvEd2BP5bBbZ9OTYI/amNhB0jDgj9FYzVfVxeDP4If/5bdLoM/OPjj/Vnygj/tAlnvxViCP4eVVUqrd4E/nyVnPsR1gD9mifknIdZ+P/6pmWtFznw/\",\"dtype\":\"float64\",\"shape\":[75]},\"y\":{\"__ndarray__\":\"GhExyth1ND/Sv8nbtpRIP2vylNV0PVE/aTum7souWD/At0SJ8fVgPw3Iuahxymc/MSNhhJWvcD/bTfBN02d3P2zb5nxnaoA/CD5h5MAGhz8NmeH1TyaQP+zrCsc9p5Y/LbKd76fGnz/bLW5ISEmmPww9YvTcQq8/JV2OstnstT8Er5Y7M8G+P0c+r3jqkcU/5h99k6ZBzj88bCIzFzjVP4enV8oyxN0//yH99nXg5D8qOpLLf0jtP5kqGJXUifQ/c9cS8kHP/D+/DpwzojQEQIEmwoanVwxA4lgXt9HgE0BSSZ2AJuIbQAMJih9jjiNA5q4l5INuK0AwTKYKRj0zQNv5fmq8/DpAaCJseHrtQkB/+zpwzoxKQM3MzMzMeFJAZmZmZmZqWEAAAAAAAFxeQM3MzMzMJmJAmpmZmZkfZUBmZmZmZhhoQDMzMzMzEWtAAAAAAAAKbkBmZmZmZoFwQM3MzMzM/XFAMzMzMzN6c0CamZmZmfZ0QAAAAAAAc3ZAZmZmZmbvd0DNzMzMzGt5QDMzMzMz6HpAmpmZmZlkfEAAAAAAAOF9QGZmZmZmXX9AZmZmZuZsgECamZmZGSuBQM3MzMxM6YFAAAAAAICngkAzMzMzs2WDQGZmZmbmI4RAmpmZmRnihEDNzMzMTKCFQAAAAACAXoZAMzMzM7Mch0BmZmZm5tqHQJqZmZkZmYhAzczMzExXiUAAAAAAgBWKQDMzMzOz04pAZmZmZuaRi0CamZmZGVCMQM3MzMxMDo1AAAAAAIDMjUAzMzMzs4qOQGZmZmbmSI9A\",\"dtype\":\"float64\",\"shape\":[75]}},\"selected\":{\"id\":\"fa050534-801b-40f4-badb-41ad0f1f531e\",\"type\":\"Selection\"},\"selection_policy\":{\"id\":\"43f26b48-96c6-430b-9945-48c2387317a1\",\"type\":\"UnionRenderers\"}},\"id\":\"15dddb58-789d-4de7-993e-0b4718b9af54\",\"type\":\"ColumnDataSource\"},{\"attributes\":{},\"id\":\"ba196114-67ba-4012-a7bf-6a648c2befb3\",\"type\":\"PanTool\"},{\"attributes\":{\"line_color\":\"#4daf4a\",\"line_width\":1.5,\"x\":{\"field\":\"x\"},\"y\":{\"field\":\"y\"}},\"id\":\"e5adce31-b428-49b1-a570-a6a55cc444f7\",\"type\":\"Line\"},{\"attributes\":{\"line_alpha\":0.1,\"line_color\":\"#1f77b4\",\"line_width\":3,\"x\":{\"field\":\"x\"},\"y\":{\"field\":\"y\"}},\"id\":\"e32c6d8f-a6e2-4f36-a8ae-c2ac659f30f1\",\"type\":\"Line\"},{\"attributes\":{\"source\":{\"id\":\"d87cb5b9-6baf-42b1-8924-5d4721924b59\",\"type\":\"ColumnDataSource\"}},\"id\":\"bac27b62-9190-42ad-8092-a50edebb05c0\",\"type\":\"CDSView\"},{\"attributes\":{\"data_source\":{\"id\":\"0d0b9dfc-eef2-4c86-a7b2-e4b862694991\",\"type\":\"ColumnDataSource\"},\"glyph\":{\"id\":\"d3a44a88-86f1-4c30-a204-60f3f757e39a\",\"type\":\"Circle\"},\"hover_glyph\":null,\"muted_glyph\":null,\"nonselection_glyph\":{\"id\":\"fdd02072-bd50-4d00-8030-92993c693939\",\"type\":\"Circle\"},\"selection_glyph\":null,\"view\":{\"id\":\"1d8d3dda-5c6d-48a0-b65c-46e128c19884\",\"type\":\"CDSView\"}},\"id\":\"3d9d05f9-e6e1-463f-bbb6-0976a8f1bbd3\",\"type\":\"GlyphRenderer\"},{\"attributes\":{\"line_alpha\":0.1,\"line_color\":\"#1f77b4\",\"line_dash\":[6],\"line_width\":5,\"x\":{\"field\":\"x\"},\"y\":{\"field\":\"y\"}},\"id\":\"0ef4b4bb-b28c-4011-93ba-446749c38e30\",\"type\":\"Line\"},{\"attributes\":{\"fill_alpha\":{\"value\":0.7},\"fill_color\":{\"value\":\"#4daf4a\"},\"line_alpha\":{\"value\":0.7},\"line_color\":{\"value\":\"#4daf4a\"},\"x\":{\"field\":\"x\"},\"y\":{\"field\":\"y\"}},\"id\":\"d3a44a88-86f1-4c30-a204-60f3f757e39a\",\"type\":\"Circle\"},{\"attributes\":{},\"id\":\"3f8666d4-75d4-4dde-9e67-3b2e002d388e\",\"type\":\"LogScale\"},{\"attributes\":{\"axis_label\":\"cooling rate [K/day]\",\"formatter\":{\"id\":\"b1acd852-5bc8-42af-877a-495cba4ba85e\",\"type\":\"BasicTickFormatter\"},\"plot\":{\"id\":\"3b24ee44-aa83-4823-b942-7ea7d8a8081d\",\"subtype\":\"Figure\",\"type\":\"Plot\"},\"ticker\":{\"id\":\"a81be40a-2096-4e2d-8b31-51c01ad67bae\",\"type\":\"BasicTicker\"}},\"id\":\"7ddc98b5-bf76-4e15-981a-fc1f9d6491d3\",\"type\":\"LinearAxis\"},{\"attributes\":{\"callback\":null,\"data\":{\"x\":{\"__ndarray__\":\"BPOcnL0Nnb8t1f1KhJmev78qr0aKiZ6/y5Hf7CDAmb/ltuC5tVSPv/gst5YGXzs/St2q+HpPlz/VrE8TX+iqPwTP0WsyMbc/OzlDccebwT9jSKnf4ObIP9QWMrK/x9A/8S7V1MvS1T8fculOZnLdP96S+6HCZuQ/YURPiIj06j8UKpN1k/PwP1oZ6DXRgvQ/ugkI9xQK+D+/tn76z3r7P/DSl+8qtf4/iLfOv112/z9BtWbQdYb6P+Gbps8O+PM/jpg0oaSb7T+D5d+ZlrnkPyRkvaRzNts/YbRccOUw0j9IqQDvT+/KP9X/QT3gLsQ/p5W+5/KsvD/imn8XXa6wP4qvCXi4bqI/HGebZ2FZlz/AUmQM79tQvwVNPIFfDKC/RC09As4+rb+8hcya+m6zv1tmoTXwN7e/13nIUvNuur/yONI6JmK6vzPyyAso1be/ET54E5optb8ccVlpeNGxvxabf4mylqy/5pNrw47qpL9XS8ADkbKcv9Z8oe+KupS/Sz/A3u0Pjr/y1ycqYquEv2VywYx2C3q/kTlP62grbr/LOWD311tcv2YPmstDcfW+uJ390nC7WD/Iu0VNpI5nP6tSMdDgr3A/dCO+aI7ydD9iFnAMDqF4Py864e3WtXs/sWMElS8vfj+Sbl3HPhyAP5Zuiv+m9IA/t/DqQziZgT+gwOmM0BCCP4ryKWFdhYI/x1OMfCn/gj8ewWHvq1WDP8nRWXPybIM/B/sog6Asgz9as74WLoqCP1qkxEcvnoE/9+55gFqMgD8/oO0BDOV+P5wCRZ63wHw/\",\"dtype\":\"float64\",\"shape\":[75]},\"y\":{\"__ndarray__\":\"GhExyth1ND/Sv8nbtpRIP2vylNV0PVE/aTum7souWD/At0SJ8fVgPw3Iuahxymc/MSNhhJWvcD/bTfBN02d3P2zb5nxnaoA/CD5h5MAGhz8NmeH1TyaQP+zrCsc9p5Y/LbKd76fGnz/bLW5ISEmmPww9YvTcQq8/JV2OstnstT8Er5Y7M8G+P0c+r3jqkcU/5h99k6ZBzj88bCIzFzjVP4enV8oyxN0//yH99nXg5D8qOpLLf0jtP5kqGJXUifQ/c9cS8kHP/D+/DpwzojQEQIEmwoanVwxA4lgXt9HgE0BSSZ2AJuIbQAMJih9jjiNA5q4l5INuK0AwTKYKRj0zQNv5fmq8/DpAaCJseHrtQkB/+zpwzoxKQM3MzMzMeFJAZmZmZmZqWEAAAAAAAFxeQM3MzMzMJmJAmpmZmZkfZUBmZmZmZhhoQDMzMzMzEWtAAAAAAAAKbkBmZmZmZoFwQM3MzMzM/XFAMzMzMzN6c0CamZmZmfZ0QAAAAAAAc3ZAZmZmZmbvd0DNzMzMzGt5QDMzMzMz6HpAmpmZmZlkfEAAAAAAAOF9QGZmZmZmXX9AZmZmZuZsgECamZmZGSuBQM3MzMxM6YFAAAAAAICngkAzMzMzs2WDQGZmZmbmI4RAmpmZmRnihEDNzMzMTKCFQAAAAACAXoZAMzMzM7Mch0BmZmZm5tqHQJqZmZkZmYhAzczMzExXiUAAAAAAgBWKQDMzMzOz04pAZmZmZuaRi0CamZmZGVCMQM3MzMxMDo1AAAAAAIDMjUAzMzMzs4qOQGZmZmbmSI9A\",\"dtype\":\"float64\",\"shape\":[75]}},\"selected\":{\"id\":\"e26c6f10-6e90-4e68-a869-422a1ea1fc13\",\"type\":\"Selection\"},\"selection_policy\":{\"id\":\"396122b6-1a51-48a5-b9bc-696a4b49b6c6\",\"type\":\"UnionRenderers\"}},\"id\":\"0b8af52f-66d7-45a9-bb74-3abc6b9ea1df\",\"type\":\"ColumnDataSource\"},{\"attributes\":{\"line_alpha\":0.1,\"line_color\":\"#1f77b4\",\"line_width\":1.5,\"x\":{\"field\":\"x\"},\"y\":{\"field\":\"y\"}},\"id\":\"30622cad-f77f-4688-9e4c-d17fd5168afa\",\"type\":\"Line\"},{\"attributes\":{\"line_alpha\":0.6,\"line_color\":\"#e41a1c\",\"line_dash\":[6],\"line_width\":5,\"x\":{\"field\":\"x\"},\"y\":{\"field\":\"y\"}},\"id\":\"23158878-9429-440e-984c-e8df080a950f\",\"type\":\"Line\"},{\"attributes\":{\"data_source\":{\"id\":\"0b8af52f-66d7-45a9-bb74-3abc6b9ea1df\",\"type\":\"ColumnDataSource\"},\"glyph\":{\"id\":\"e5adce31-b428-49b1-a570-a6a55cc444f7\",\"type\":\"Line\"},\"hover_glyph\":null,\"muted_glyph\":null,\"nonselection_glyph\":{\"id\":\"30622cad-f77f-4688-9e4c-d17fd5168afa\",\"type\":\"Line\"},\"selection_glyph\":null,\"view\":{\"id\":\"b8db1d1d-cc47-4942-96a9-7e35d0deaaf8\",\"type\":\"CDSView\"}},\"id\":\"96f90528-df28-4f7f-9720-9040491e4e60\",\"type\":\"GlyphRenderer\"},{\"attributes\":{\"source\":{\"id\":\"0b8af52f-66d7-45a9-bb74-3abc6b9ea1df\",\"type\":\"ColumnDataSource\"}},\"id\":\"b8db1d1d-cc47-4942-96a9-7e35d0deaaf8\",\"type\":\"CDSView\"},{\"attributes\":{\"data_source\":{\"id\":\"562d0dc5-6ec4-4f5f-9770-c11d0f94f12e\",\"type\":\"ColumnDataSource\"},\"glyph\":{\"id\":\"23158878-9429-440e-984c-e8df080a950f\",\"type\":\"Line\"},\"hover_glyph\":null,\"muted_glyph\":null,\"nonselection_glyph\":{\"id\":\"0ef4b4bb-b28c-4011-93ba-446749c38e30\",\"type\":\"Line\"},\"selection_glyph\":null,\"view\":{\"id\":\"57dbd3ed-4166-4f34-82ad-71a9572db779\",\"type\":\"CDSView\"}},\"id\":\"e6c22c45-38a8-46da-9d83-d5d7bfc243b9\",\"type\":\"GlyphRenderer\"},{\"attributes\":{\"callback\":null,\"data\":{\"x\":{\"__ndarray__\":\"ckiyTFS5lr/LPcHAy76Xv+HqYLhAHJe/2So8Jvtekr8li9EeiP2Bv5FCPiednHY/9P87y2VLmj+s7/e2uNuqP2ezLRRZN7Y/hsUFuMmVwD9O7diFsCzHP6XwZi7sAM8/UmpBPIob1D+P0DsD1iLbP79SlI4k1+I/b+CuGN7+6D9+324ycqLvP5Jpu6lLTfM/t747PsnZ9j8ZLHmV5Wb6P99DEIdvyP0/7ulc5K3x/j8ZrBIOuLT6P0FYDKWWkPQ/vJWDq8z87j+nmJw9RDnmP8+e3wErUd4/QbKkz1P81D84s4hqi0DPPy4Q4JOXLMc/ToaFiAsowD8GH6BG3GayPzYEYvHWW6M/3Lb10LE6lj+Y3G/QgdVxv0WqrnG8EaO/WUyG1FnmsL+QP0s9eS62v3xv7hgnEbq/KslcT2sQvb8i9hyo+Um8v+OrSWq75ri/MLwSQKqTtb8FnOM1lsSxv2CDpuo8+Ku/bEywgXIwpL8pDDfnVXSbv5IbChz5sJO//w848JNOjL/2dEWOTD6Dv+6Sfnxc2Xe/IS06pnzUar/rhtdA5/5WvzYqVpRswS8/MD6Ds70LXD/FhZX35cNoP8SfRVzRGHE/UTy4QhwpdT9GZ74TwLR4P8xvTwcTq3s/7G9RRbcKfj/UzJT+8P9/P7kIXSPEz4A/JoqfRHdrgT//m9YvEd2BP5bBbZ9OTYI/amNhB0jDgj9FYzVfVxeDP4If/5bdLoM/OPjj/Vnygj/tAlnvxViCP4eVVUqrd4E/nyVnPsR1gD9mifknIdZ+P/6pmWtFznw/\",\"dtype\":\"float64\",\"shape\":[75]},\"y\":{\"__ndarray__\":\"GhExyth1ND/Sv8nbtpRIP2vylNV0PVE/aTum7souWD/At0SJ8fVgPw3Iuahxymc/MSNhhJWvcD/bTfBN02d3P2zb5nxnaoA/CD5h5MAGhz8NmeH1TyaQP+zrCsc9p5Y/LbKd76fGnz/bLW5ISEmmPww9YvTcQq8/JV2OstnstT8Er5Y7M8G+P0c+r3jqkcU/5h99k6ZBzj88bCIzFzjVP4enV8oyxN0//yH99nXg5D8qOpLLf0jtP5kqGJXUifQ/c9cS8kHP/D+/DpwzojQEQIEmwoanVwxA4lgXt9HgE0BSSZ2AJuIbQAMJih9jjiNA5q4l5INuK0AwTKYKRj0zQNv5fmq8/DpAaCJseHrtQkB/+zpwzoxKQM3MzMzMeFJAZmZmZmZqWEAAAAAAAFxeQM3MzMzMJmJAmpmZmZkfZUBmZmZmZhhoQDMzMzMzEWtAAAAAAAAKbkBmZmZmZoFwQM3MzMzM/XFAMzMzMzN6c0CamZmZmfZ0QAAAAAAAc3ZAZmZmZmbvd0DNzMzMzGt5QDMzMzMz6HpAmpmZmZlkfEAAAAAAAOF9QGZmZmZmXX9AZmZmZuZsgECamZmZGSuBQM3MzMxM6YFAAAAAAICngkAzMzMzs2WDQGZmZmbmI4RAmpmZmRnihEDNzMzMTKCFQAAAAACAXoZAMzMzM7Mch0BmZmZm5tqHQJqZmZkZmYhAzczMzExXiUAAAAAAgBWKQDMzMzOz04pAZmZmZuaRi0CamZmZGVCMQM3MzMxMDo1AAAAAAIDMjUAzMzMzs4qOQGZmZmbmSI9A\",\"dtype\":\"float64\",\"shape\":[75]}},\"selected\":{\"id\":\"a980f2a6-683f-4626-ba9d-1e65960e6508\",\"type\":\"Selection\"},\"selection_policy\":{\"id\":\"ce975e4f-13a6-4271-a523-57656ded39c1\",\"type\":\"UnionRenderers\"}},\"id\":\"d87cb5b9-6baf-42b1-8924-5d4721924b59\",\"type\":\"ColumnDataSource\"},{\"attributes\":{\"fill_alpha\":{\"value\":0.7},\"fill_color\":{\"value\":\"#984ea3\"},\"line_alpha\":{\"value\":0.7},\"line_color\":{\"value\":\"#984ea3\"},\"x\":{\"field\":\"x\"},\"y\":{\"field\":\"y\"}},\"id\":\"210e79c8-32f5-414a-a629-96e27c91fa43\",\"type\":\"Square\"},{\"attributes\":{\"source\":{\"id\":\"9595ff20-76b7-4d68-92c9-e568d2cc033c\",\"type\":\"ColumnDataSource\"}},\"id\":\"4e092554-1f06-4ab5-8642-46761ffad7ab\",\"type\":\"CDSView\"},{\"attributes\":{\"fill_alpha\":{\"value\":0.1},\"fill_color\":{\"value\":\"#1f77b4\"},\"line_alpha\":{\"value\":0.1},\"line_color\":{\"value\":\"#1f77b4\"},\"x\":{\"field\":\"x\"},\"y\":{\"field\":\"y\"}},\"id\":\"7a2eaee8-1c19-4fe8-a6a3-9da9d2846cb7\",\"type\":\"Square\"},{\"attributes\":{\"children\":[{\"id\":\"18f3d57f-f362-4dd7-a1fd-22d7c290304d\",\"type\":\"Row\"}]},\"id\":\"9af6c2eb-f567-429c-9325-c40e31ffde82\",\"type\":\"Column\"},{\"attributes\":{\"children\":[{\"id\":\"786b195c-f154-4c8e-949a-785180ba0b01\",\"subtype\":\"Figure\",\"type\":\"Plot\"},{\"id\":\"3b24ee44-aa83-4823-b942-7ea7d8a8081d\",\"subtype\":\"Figure\",\"type\":\"Plot\"}]},\"id\":\"18f3d57f-f362-4dd7-a1fd-22d7c290304d\",\"type\":\"Row\"},{\"attributes\":{\"data_source\":{\"id\":\"ba55a41c-ceeb-45d8-ac63-fb01835957db\",\"type\":\"ColumnDataSource\"},\"glyph\":{\"id\":\"0d27d690-2814-43b3-807d-cb9414519c26\",\"type\":\"Line\"},\"hover_glyph\":null,\"muted_glyph\":null,\"nonselection_glyph\":{\"id\":\"6774bef6-a597-4770-933e-ef76ba283c0b\",\"type\":\"Line\"},\"selection_glyph\":null,\"view\":{\"id\":\"f8468a7c-8191-4ec0-9331-3770da2c0d75\",\"type\":\"CDSView\"}},\"id\":\"12179799-a47d-4716-ba5e-7f21aa67fbff\",\"type\":\"GlyphRenderer\"},{\"attributes\":{\"dimension\":1,\"plot\":{\"id\":\"3b24ee44-aa83-4823-b942-7ea7d8a8081d\",\"subtype\":\"Figure\",\"type\":\"Plot\"},\"ticker\":{\"id\":\"3c28a5cf-cf1b-4b11-9b48-47600eac14d4\",\"type\":\"LogTicker\"}},\"id\":\"49e2ef30-4eb4-4fdf-9bfa-c98856871553\",\"type\":\"Grid\"},{\"attributes\":{\"data_source\":{\"id\":\"d87cb5b9-6baf-42b1-8924-5d4721924b59\",\"type\":\"ColumnDataSource\"},\"glyph\":{\"id\":\"69de6b0b-ff60-402a-8da3-aea67f482c86\",\"type\":\"Square\"},\"hover_glyph\":null,\"muted_glyph\":null,\"nonselection_glyph\":{\"id\":\"9760dcef-9ade-4d91-9254-8e230c5b7716\",\"type\":\"Square\"},\"selection_glyph\":null,\"view\":{\"id\":\"bac27b62-9190-42ad-8092-a50edebb05c0\",\"type\":\"CDSView\"}},\"id\":\"744a1a7a-289c-4391-80ee-821086cdba7d\",\"type\":\"GlyphRenderer\"},{\"attributes\":{\"label\":{\"value\":\"CLIRAD `coolr_bands`\"},\"renderers\":[{\"id\":\"e6c22c45-38a8-46da-9d83-d5d7bfc243b9\",\"type\":\"GlyphRenderer\"}]},\"id\":\"a5f016bf-5a57-494c-87df-215e0c40ea1c\",\"type\":\"LegendItem\"},{\"attributes\":{\"line_alpha\":0.1,\"line_color\":\"#1f77b4\",\"line_width\":1.5,\"x\":{\"field\":\"x\"},\"y\":{\"field\":\"y\"}},\"id\":\"6774bef6-a597-4770-933e-ef76ba283c0b\",\"type\":\"Line\"},{\"attributes\":{},\"id\":\"46717a9c-64e7-4a5f-a9ab-e7e5195f3a5e\",\"type\":\"Selection\"},{\"attributes\":{\"label\":{\"value\":\"CRD\"},\"renderers\":[{\"id\":\"3d9d05f9-e6e1-463f-bbb6-0976a8f1bbd3\",\"type\":\"GlyphRenderer\"},{\"id\":\"96f90528-df28-4f7f-9720-9040491e4e60\",\"type\":\"GlyphRenderer\"}]},\"id\":\"7f16828c-0740-43a8-96e2-98c385642c6a\",\"type\":\"LegendItem\"},{\"attributes\":{\"source\":{\"id\":\"b3c59252-22d2-4a46-8627-6280587d8c90\",\"type\":\"ColumnDataSource\"}},\"id\":\"c9de6e1a-8419-4879-b771-cd0658d6220a\",\"type\":\"CDSView\"},{\"attributes\":{},\"id\":\"cbd6a295-0199-4d80-af34-5ea1be71e145\",\"type\":\"UnionRenderers\"},{\"attributes\":{\"label\":{\"value\":\"WGT igg=10 wgt_flux=2\"},\"renderers\":[{\"id\":\"532201ff-6845-4ac3-adb9-42f55aba7b9d\",\"type\":\"GlyphRenderer\"},{\"id\":\"7eb45040-c9ba-4d58-afbc-6ceedf15266d\",\"type\":\"GlyphRenderer\"}]},\"id\":\"1868c87e-ef5c-4e19-b123-c842092ddce1\",\"type\":\"LegendItem\"},{\"attributes\":{\"callback\":null,\"data\":{\"x\":{\"__ndarray__\":\"oJ3lD4zXkL8dgxOmL1GRv2OEe1tsN5C/21BmwK9Kh79FsSPxFc1pv1XS4LgAO4M/1D/Xqpx3mz/TzMWlS3upPzHxK/w3NLQ/kYOOLTZzvT+L4vKre1zEP2K3to2SGcs/aPWjG0CD0T/sa354baHXPzZy/qLbfeA/Bp1SVroY5j8fvDRN8VvsP2J5ocp6m/E/amrZWl9E9T+o4zEDlRH5P3pZbsTutvw/Ae5o0lxd/j9vgm+aPrv6P0kQroBCffQ/bWX0aTbr7T/++WzTjtHkP562RgTj4Ns/rGko/6Qr0z863SaaD6HNP/M0R/NT3sY/ZzgzNH16wD+utBp/k4ezP6Vrne0Of6U/v/GmPGnKmD+dqRX/Xl5lv6SO6WQEr6K/NijZa/Nfsb8vx2ACDW+3v8CtYMA38ru/3RuNjYpJv78DHCn4+TG+vzoklEJJFrq/MOczT5cNtr/0fqbVxaqxvxJz62N1E6u/hP/Qc9sjo79iptEKKq+Zv0fSXBF2NpK/br+dwEvbib9syu7xHU+Bv4ThHKhlAXW/R0BzQIy8Zr+UiIXdnRxRv6mZpU8E4z4/KPTAn0/YXT9c6lNXjchoP4Ye//YNtHA/4jfHsdxvdD+vm+3pJah3P0MDpWcJWXo/PtN4Vgx/fD/n6n/jKEV+Pzn+qZCpvX8/9+QPNbJsgD8UmAqFGtKAP2wJCfG5NYE/lAugX+WegT/ZpHnEA+qBPyDMD5L8/oE/FiG5WPjKgT9sAq6ivUWBP831uwmlg4A/1nlNsLxCfz8fWOjbr299P7vvUzfJpns/\",\"dtype\":\"float64\",\"shape\":[75]},\"y\":{\"__ndarray__\":\"S/O/Q+51ND/Sv8nbtpRIP2vylNV0PVE/aTum7souWD/At0SJ8fVgPw3Iuahxymc/MSNhhJWvcD/bTfBN02d3P2zb5nxnaoA/CD5h5MAGhz8NmeH1TyaQP+zrCsc9p5Y/LbKd76fGnz/bLW5ISEmmPww9YvTcQq8/JV2OstnstT8Er5Y7M8G+P0c+r3jqkcU/5h99k6ZBzj88bCIzFzjVP4enV8oyxN0//yH99nXg5D8qOpLLf0jtP5kqGJXUifQ/c9cS8kHP/D+/DpwzojQEQIEmwoanVwxA4lgXt9HgE0BSSZ2AJuIbQAMJih9jjiNA5q4l5INuK0AwTKYKRj0zQNv5fmq8/DpAaCJseHrtQkB/+zpwzoxKQM3MzMzMeFJAZmZmZmZqWEAAAAAAAFxeQM3MzMzMJmJAmpmZmZkfZUBmZmZmZhhoQDMzMzMzEWtAAAAAAAAKbkBmZmZmZoFwQM3MzMzM/XFAMzMzMzN6c0CamZmZmfZ0QAAAAAAAc3ZAZmZmZmbvd0DNzMzMzGt5QDMzMzMz6HpAmpmZmZlkfEAAAAAAAOF9QGZmZmZmXX9AZmZmZuZsgECamZmZGSuBQM3MzMxM6YFAAAAAAICngkAzMzMzs2WDQGZmZmbmI4RAmpmZmRnihEDNzMzMTKCFQAAAAACAXoZAMzMzM7Mch0BmZmZm5tqHQJqZmZkZmYhAzczMzExXiUAAAAAAgBWKQDMzMzOz04pAZmZmZuaRi0CamZmZGVCMQM3MzMxMDo1AAAAAAIDMjUAzMzMzs4qOQGZmZmbmSI9A\",\"dtype\":\"float64\",\"shape\":[75]}},\"selected\":{\"id\":\"6e801aab-b7df-4304-8c6f-6a8e24f02f14\",\"type\":\"Selection\"},\"selection_policy\":{\"id\":\"a66e3baa-857b-4f22-b39e-1df733dacc18\",\"type\":\"UnionRenderers\"}},\"id\":\"562d0dc5-6ec4-4f5f-9770-c11d0f94f12e\",\"type\":\"ColumnDataSource\"},{\"attributes\":{},\"id\":\"a980f2a6-683f-4626-ba9d-1e65960e6508\",\"type\":\"Selection\"},{\"attributes\":{\"plot\":{\"id\":\"3b24ee44-aa83-4823-b942-7ea7d8a8081d\",\"subtype\":\"Figure\",\"type\":\"Plot\"},\"ticker\":{\"id\":\"a81be40a-2096-4e2d-8b31-51c01ad67bae\",\"type\":\"BasicTicker\"}},\"id\":\"96e1a121-625e-4ca9-8698-79d600fb6c0b\",\"type\":\"Grid\"},{\"attributes\":{},\"id\":\"31934d55-0847-4e36-a7ba-a3a9bf0aebc4\",\"type\":\"BasicTickFormatter\"},{\"attributes\":{},\"id\":\"27ef8a40-2f6f-43d4-83d1-9052982c25c2\",\"type\":\"BasicTickFormatter\"},{\"attributes\":{\"data_source\":{\"id\":\"32619172-308d-4350-a25e-9cc66f6c865c\",\"type\":\"ColumnDataSource\"},\"glyph\":{\"id\":\"affd6ab2-1457-4068-bcc0-1ea97c64f17f\",\"type\":\"Circle\"},\"hover_glyph\":null,\"muted_glyph\":null,\"nonselection_glyph\":{\"id\":\"7742c26f-a007-492b-87cd-243987255b73\",\"type\":\"Circle\"},\"selection_glyph\":null,\"view\":{\"id\":\"b323ee3c-69e2-45e1-8377-21eac452ae4f\",\"type\":\"CDSView\"}},\"id\":\"a762c2bc-450a-40be-8fdc-4837cf8006ff\",\"type\":\"GlyphRenderer\"},{\"attributes\":{},\"id\":\"38894270-55fe-4ed0-8f18-ecf890f602b8\",\"type\":\"UnionRenderers\"},{\"attributes\":{},\"id\":\"3aae6aca-3ee6-4955-bf86-e68b3b1ed3d8\",\"type\":\"UnionRenderers\"},{\"attributes\":{},\"id\":\"617e4302-678d-48df-8700-6449afad3723\",\"type\":\"Selection\"},{\"attributes\":{},\"id\":\"d56d54e8-5d8d-4c02-b329-8a63a13a4d70\",\"type\":\"Selection\"},{\"attributes\":{},\"id\":\"ce975e4f-13a6-4271-a523-57656ded39c1\",\"type\":\"UnionRenderers\"}],\"root_ids\":[\"a833f869-8fc4-4f6e-9a9d-d6907e896c43\"]},\"title\":\"Bokeh Application\",\"version\":\"0.12.16\"}};\n",
       "  var render_items = [{\"docid\":\"62e07024-0cc7-4010-a6bf-7df4e2718f2c\",\"elementid\":\"dc334edc-fc84-4e7f-9215-1fe10d1b7b7d\",\"modelid\":\"a833f869-8fc4-4f6e-9a9d-d6907e896c43\"}];\n",
       "  root.Bokeh.embed.embed_items_notebook(docs_json, render_items);\n",
       "\n",
       "  }\n",
       "  if (root.Bokeh !== undefined) {\n",
       "    embed_document(root);\n",
       "  } else {\n",
       "    var attempts = 0;\n",
       "    var timer = setInterval(function(root) {\n",
       "      if (root.Bokeh !== undefined) {\n",
       "        embed_document(root);\n",
       "        clearInterval(timer);\n",
       "      }\n",
       "      attempts++;\n",
       "      if (attempts > 100) {\n",
       "        console.log(\"Bokeh: ERROR: Unable to run BokehJS code because BokehJS library is missing\")\n",
       "        clearInterval(timer);\n",
       "      }\n",
       "    }, 10, root)\n",
       "  }\n",
       "})(window);"
      ],
      "application/vnd.bokehjs_exec.v0+json": ""
     },
     "metadata": {
      "application/vnd.bokehjs_exec.v0+json": {
       "id": "a833f869-8fc4-4f6e-9a9d-d6907e896c43"
      }
     },
     "output_type": "display_data"
    },
    {
     "name": "stdout",
     "output_type": "stream",
     "text": [
      "FIGURE. Cooling rate profiles.\n"
     ]
    },
    {
     "data": {
      "text/html": [
       "<a id=\"Flux_Comparison\"></a>"
      ],
      "text/plain": [
       "<IPython.core.display.HTML object>"
      ]
     },
     "metadata": {},
     "output_type": "display_data"
    },
    {
     "data": {
      "text/markdown": [
       "# Flux Comparison"
      ],
      "text/plain": [
       "<IPython.core.display.Markdown object>"
      ]
     },
     "metadata": {},
     "output_type": "display_data"
    },
    {
     "data": {
      "text/html": [
       "<div>\n",
       "<style scoped>\n",
       "    .dataframe tbody tr th:only-of-type {\n",
       "        vertical-align: middle;\n",
       "    }\n",
       "\n",
       "    .dataframe tbody tr th {\n",
       "        vertical-align: top;\n",
       "    }\n",
       "\n",
       "    .dataframe thead th {\n",
       "        text-align: right;\n",
       "    }\n",
       "</style>\n",
       "<table border=\"1\" class=\"dataframe\">\n",
       "  <thead>\n",
       "    <tr style=\"text-align: right;\">\n",
       "      <th></th>\n",
       "      <th></th>\n",
       "      <th>flug</th>\n",
       "      <th>fldg</th>\n",
       "      <th>fnetg</th>\n",
       "    </tr>\n",
       "    <tr>\n",
       "      <th>pressure</th>\n",
       "      <th>level</th>\n",
       "      <th></th>\n",
       "      <th></th>\n",
       "      <th></th>\n",
       "    </tr>\n",
       "  </thead>\n",
       "  <tbody>\n",
       "    <tr>\n",
       "      <th>0.0000</th>\n",
       "      <th>1</th>\n",
       "      <td>-10.995326</td>\n",
       "      <td>0.000000</td>\n",
       "      <td>-10.995326</td>\n",
       "    </tr>\n",
       "    <tr>\n",
       "      <th>1.0685</th>\n",
       "      <th>24</th>\n",
       "      <td>-10.943219</td>\n",
       "      <td>0.150943</td>\n",
       "      <td>-10.792276</td>\n",
       "    </tr>\n",
       "    <tr>\n",
       "      <th>1013.0000</th>\n",
       "      <th>76</th>\n",
       "      <td>-15.051406</td>\n",
       "      <td>2.803273</td>\n",
       "      <td>-12.248134</td>\n",
       "    </tr>\n",
       "  </tbody>\n",
       "</table>\n",
       "</div>"
      ],
      "text/plain": [
       "                      flug      fldg      fnetg\n",
       "pressure  level                                \n",
       "0.0000    1     -10.995326  0.000000 -10.995326\n",
       "1.0685    24    -10.943219  0.150943 -10.792276\n",
       "1013.0000 76    -15.051406  2.803273 -12.248134"
      ]
     },
     "metadata": {},
     "output_type": "display_data"
    },
    {
     "name": "stdout",
     "output_type": "stream",
     "text": [
      "Table. Fluxes. CRD\n"
     ]
    },
    {
     "data": {
      "text/html": [
       "<div>\n",
       "<style scoped>\n",
       "    .dataframe tbody tr th:only-of-type {\n",
       "        vertical-align: middle;\n",
       "    }\n",
       "\n",
       "    .dataframe tbody tr th {\n",
       "        vertical-align: top;\n",
       "    }\n",
       "\n",
       "    .dataframe thead th {\n",
       "        text-align: right;\n",
       "    }\n",
       "</style>\n",
       "<table border=\"1\" class=\"dataframe\">\n",
       "  <thead>\n",
       "    <tr style=\"text-align: right;\">\n",
       "      <th></th>\n",
       "      <th></th>\n",
       "      <th>flug</th>\n",
       "      <th>fldg</th>\n",
       "      <th>fnetg</th>\n",
       "    </tr>\n",
       "    <tr>\n",
       "      <th>pressure</th>\n",
       "      <th>level</th>\n",
       "      <th></th>\n",
       "      <th></th>\n",
       "      <th></th>\n",
       "    </tr>\n",
       "  </thead>\n",
       "  <tbody>\n",
       "    <tr>\n",
       "      <th>0.0000</th>\n",
       "      <th>1</th>\n",
       "      <td>-10.817870</td>\n",
       "      <td>0.000000</td>\n",
       "      <td>-10.817870</td>\n",
       "    </tr>\n",
       "    <tr>\n",
       "      <th>1.0685</th>\n",
       "      <th>24</th>\n",
       "      <td>-10.765242</td>\n",
       "      <td>0.146048</td>\n",
       "      <td>-10.619193</td>\n",
       "    </tr>\n",
       "    <tr>\n",
       "      <th>1013.0000</th>\n",
       "      <th>76</th>\n",
       "      <td>-15.051406</td>\n",
       "      <td>2.877771</td>\n",
       "      <td>-12.173635</td>\n",
       "    </tr>\n",
       "  </tbody>\n",
       "</table>\n",
       "</div>"
      ],
      "text/plain": [
       "                      flug      fldg      fnetg\n",
       "pressure  level                                \n",
       "0.0000    1     -10.817870  0.000000 -10.817870\n",
       "1.0685    24    -10.765242  0.146048 -10.619193\n",
       "1013.0000 76    -15.051406  2.877771 -12.173635"
      ]
     },
     "metadata": {},
     "output_type": "display_data"
    },
    {
     "name": "stdout",
     "output_type": "stream",
     "text": [
      "Table. Fluxes. WGT igg=10 wgt_flux=1\n"
     ]
    },
    {
     "data": {
      "text/html": [
       "<div>\n",
       "<style scoped>\n",
       "    .dataframe tbody tr th:only-of-type {\n",
       "        vertical-align: middle;\n",
       "    }\n",
       "\n",
       "    .dataframe tbody tr th {\n",
       "        vertical-align: top;\n",
       "    }\n",
       "\n",
       "    .dataframe thead th {\n",
       "        text-align: right;\n",
       "    }\n",
       "</style>\n",
       "<table border=\"1\" class=\"dataframe\">\n",
       "  <thead>\n",
       "    <tr style=\"text-align: right;\">\n",
       "      <th></th>\n",
       "      <th></th>\n",
       "      <th>flug</th>\n",
       "      <th>fldg</th>\n",
       "      <th>fnetg</th>\n",
       "    </tr>\n",
       "    <tr>\n",
       "      <th>pressure</th>\n",
       "      <th>level</th>\n",
       "      <th></th>\n",
       "      <th></th>\n",
       "      <th></th>\n",
       "    </tr>\n",
       "  </thead>\n",
       "  <tbody>\n",
       "    <tr>\n",
       "      <th>1.000000e-08</th>\n",
       "      <th>1</th>\n",
       "      <td>-10.705945</td>\n",
       "      <td>0.000002</td>\n",
       "      <td>-10.705943</td>\n",
       "    </tr>\n",
       "    <tr>\n",
       "      <th>1.068500e+00</th>\n",
       "      <th>24</th>\n",
       "      <td>-10.654750</td>\n",
       "      <td>0.141489</td>\n",
       "      <td>-10.513261</td>\n",
       "    </tr>\n",
       "    <tr>\n",
       "      <th>1.013000e+03</th>\n",
       "      <th>76</th>\n",
       "      <td>-15.051410</td>\n",
       "      <td>2.886247</td>\n",
       "      <td>-12.165163</td>\n",
       "    </tr>\n",
       "  </tbody>\n",
       "</table>\n",
       "</div>"
      ],
      "text/plain": [
       "                         flug      fldg      fnetg\n",
       "pressure     level                                \n",
       "1.000000e-08 1     -10.705945  0.000002 -10.705943\n",
       "1.068500e+00 24    -10.654750  0.141489 -10.513261\n",
       "1.013000e+03 76    -15.051410  2.886247 -12.165163"
      ]
     },
     "metadata": {},
     "output_type": "display_data"
    },
    {
     "name": "stdout",
     "output_type": "stream",
     "text": [
      "Table. Fluxes. CLIRAD\n"
     ]
    },
    {
     "data": {
      "text/html": [
       "<div>\n",
       "<style scoped>\n",
       "    .dataframe tbody tr th:only-of-type {\n",
       "        vertical-align: middle;\n",
       "    }\n",
       "\n",
       "    .dataframe tbody tr th {\n",
       "        vertical-align: top;\n",
       "    }\n",
       "\n",
       "    .dataframe thead th {\n",
       "        text-align: right;\n",
       "    }\n",
       "</style>\n",
       "<table border=\"1\" class=\"dataframe\">\n",
       "  <thead>\n",
       "    <tr style=\"text-align: right;\">\n",
       "      <th></th>\n",
       "      <th></th>\n",
       "      <th>flug</th>\n",
       "      <th>fldg</th>\n",
       "      <th>fnetg</th>\n",
       "    </tr>\n",
       "    <tr>\n",
       "      <th>pressure</th>\n",
       "      <th>level</th>\n",
       "      <th></th>\n",
       "      <th></th>\n",
       "      <th></th>\n",
       "    </tr>\n",
       "  </thead>\n",
       "  <tbody>\n",
       "    <tr>\n",
       "      <th>0.0000</th>\n",
       "      <th>1</th>\n",
       "      <td>1.774560e-01</td>\n",
       "      <td>0.000000</td>\n",
       "      <td>0.177456</td>\n",
       "    </tr>\n",
       "    <tr>\n",
       "      <th>1.0685</th>\n",
       "      <th>24</th>\n",
       "      <td>1.779772e-01</td>\n",
       "      <td>-0.004895</td>\n",
       "      <td>0.173083</td>\n",
       "    </tr>\n",
       "    <tr>\n",
       "      <th>1013.0000</th>\n",
       "      <th>76</th>\n",
       "      <td>-2.200000e-07</td>\n",
       "      <td>0.074498</td>\n",
       "      <td>0.074499</td>\n",
       "    </tr>\n",
       "  </tbody>\n",
       "</table>\n",
       "</div>"
      ],
      "text/plain": [
       "                         flug      fldg     fnetg\n",
       "pressure  level                                  \n",
       "0.0000    1      1.774560e-01  0.000000  0.177456\n",
       "1.0685    24     1.779772e-01 -0.004895  0.173083\n",
       "1013.0000 76    -2.200000e-07  0.074498  0.074499"
      ]
     },
     "metadata": {},
     "output_type": "display_data"
    },
    {
     "name": "stdout",
     "output_type": "stream",
     "text": [
      "Table. Fluxes. (WGT igg=10 wgt_flux=1) - (CRD)\n"
     ]
    },
    {
     "data": {
      "text/html": [
       "<div>\n",
       "<style scoped>\n",
       "    .dataframe tbody tr th:only-of-type {\n",
       "        vertical-align: middle;\n",
       "    }\n",
       "\n",
       "    .dataframe tbody tr th {\n",
       "        vertical-align: top;\n",
       "    }\n",
       "\n",
       "    .dataframe thead th {\n",
       "        text-align: right;\n",
       "    }\n",
       "</style>\n",
       "<table border=\"1\" class=\"dataframe\">\n",
       "  <thead>\n",
       "    <tr style=\"text-align: right;\">\n",
       "      <th></th>\n",
       "      <th></th>\n",
       "      <th>flug</th>\n",
       "      <th>fldg</th>\n",
       "      <th>fnetg</th>\n",
       "    </tr>\n",
       "    <tr>\n",
       "      <th>pressure</th>\n",
       "      <th>level</th>\n",
       "      <th></th>\n",
       "      <th></th>\n",
       "      <th></th>\n",
       "    </tr>\n",
       "  </thead>\n",
       "  <tbody>\n",
       "    <tr>\n",
       "      <th>0.0000</th>\n",
       "      <th>1</th>\n",
       "      <td>0.289381</td>\n",
       "      <td>0.000002</td>\n",
       "      <td>0.289383</td>\n",
       "    </tr>\n",
       "    <tr>\n",
       "      <th>1.0685</th>\n",
       "      <th>24</th>\n",
       "      <td>0.288469</td>\n",
       "      <td>-0.009454</td>\n",
       "      <td>0.279015</td>\n",
       "    </tr>\n",
       "    <tr>\n",
       "      <th>1013.0000</th>\n",
       "      <th>76</th>\n",
       "      <td>-0.000004</td>\n",
       "      <td>0.082974</td>\n",
       "      <td>0.082971</td>\n",
       "    </tr>\n",
       "  </tbody>\n",
       "</table>\n",
       "</div>"
      ],
      "text/plain": [
       "                     flug      fldg     fnetg\n",
       "pressure  level                              \n",
       "0.0000    1      0.289381  0.000002  0.289383\n",
       "1.0685    24     0.288469 -0.009454  0.279015\n",
       "1013.0000 76    -0.000004  0.082974  0.082971"
      ]
     },
     "metadata": {},
     "output_type": "display_data"
    },
    {
     "name": "stdout",
     "output_type": "stream",
     "text": [
      "Table. Fluxes. (CLIRAD) - (CRD)\n"
     ]
    },
    {
     "data": {
      "text/html": [
       "<a id=\"Best-fit_Parameters\"></a>"
      ],
      "text/plain": [
       "<IPython.core.display.HTML object>"
      ]
     },
     "metadata": {},
     "output_type": "display_data"
    },
    {
     "data": {
      "text/markdown": [
       "# Best-fit Parameters"
      ],
      "text/plain": [
       "<IPython.core.display.Markdown object>"
      ]
     },
     "metadata": {},
     "output_type": "display_data"
    },
    {
     "name": "stdout",
     "output_type": "stream",
     "text": [
      "Best-fit values for each (gas, band)\n",
      "------------------------------------\n",
      "o o3 band5\n",
      "  atmpro = mls\n",
      "  band = 5\n",
      "  commitnumber = a06b618\n",
      "  conc = None\n",
      "  dv = 0.001\n",
      "  klin = 2e-20\n",
      "  molecule = o3\n",
      "  ng_adju = [0, 0]\n",
      "  ng_refs = [2, 5]\n",
      "  nv = 1000\n",
      "  option_compute_btable = 0\n",
      "  option_compute_ktable = 1\n",
      "  option_wgt_flux = 1\n",
      "  option_wgt_k = 1\n",
      "  ref_pts = [(1, 250), (50, 250)]\n",
      "  tsfc = 294\n",
      "  vmax = 1100\n",
      "  vmin = 980\n",
      "  w_diffuse = [(1.6, 1.75), (1.55, 1.66, 1.7, 1.75, 1.8)]\n",
      "  wgt = [(0.35, 0.6), (0.5, 0.55, 0.7, 0.9, 1.0)]\n"
     ]
    }
   ],
   "source": [
    "script()"
   ]
  },
  {
   "cell_type": "code",
   "execution_count": 13,
   "metadata": {
    "collapsed": true
   },
   "outputs": [
    {
     "data": {
      "text/html": [
       "<script>\n",
       "code_show=true; \n",
       "function code_toggle() {\n",
       " if (code_show){\n",
       " $('div.input').hide();\n",
       " } else {\n",
       " $('div.input').show();\n",
       " }\n",
       " code_show = !code_show\n",
       "} \n",
       "$( document ).ready(code_toggle);\n",
       "</script>\n",
       "<form action=\"javascript:code_toggle()\"><input type=\"submit\" value=\"Click here to toggle on/off the raw code.\"></form>"
      ],
      "text/plain": [
       "<IPython.core.display.HTML object>"
      ]
     },
     "execution_count": 13,
     "metadata": {},
     "output_type": "execute_result"
    }
   ],
   "source": [
    "display.HTML('''<script>\n",
    "code_show=true; \n",
    "function code_toggle() {\n",
    " if (code_show){\n",
    " $('div.input').hide();\n",
    " } else {\n",
    " $('div.input').show();\n",
    " }\n",
    " code_show = !code_show\n",
    "} \n",
    "$( document ).ready(code_toggle);\n",
    "</script>\n",
    "<form action=\"javascript:code_toggle()\"><input type=\"submit\" value=\"Click here to toggle on/off the raw code.\"></form>''')"
   ]
  }
 ],
 "metadata": {
  "kernelspec": {
   "display_name": "Python 3",
   "language": "python",
   "name": "python3"
  },
  "language_info": {
   "codemirror_mode": {
    "name": "ipython",
    "version": 3
   },
   "file_extension": ".py",
   "mimetype": "text/x-python",
   "name": "python",
   "nbconvert_exporter": "python",
   "pygments_lexer": "ipython3",
   "version": "3.6.1"
  }
 },
 "nbformat": 4,
 "nbformat_minor": 2
}
