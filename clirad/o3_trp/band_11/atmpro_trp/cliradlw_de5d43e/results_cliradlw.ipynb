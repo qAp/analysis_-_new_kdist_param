{
 "cells": [
  {
   "cell_type": "code",
   "execution_count": 1,
   "metadata": {
    "collapsed": true
   },
   "outputs": [
    {
     "name": "stdout",
     "output_type": "stream",
     "text": [
      "The history saving thread hit an unexpected error (OperationalError('database is locked',)).History will not be written to the database.\n"
     ]
    }
   ],
   "source": [
    "%matplotlib inline\n",
    "import os\n",
    "import re\n",
    "import io\n",
    "import itertools\n",
    "import pprint\n",
    "\n",
    "from bokeh.io import output_notebook, show\n",
    "from bokeh.layouts import gridplot\n",
    "from bokeh.plotting import figure\n",
    "from bokeh.models import Range1d, Legend\n",
    "from bokeh.palettes import all_palettes\n",
    "\n",
    "import matplotlib\n",
    "import matplotlib.pyplot as plt\n",
    "import numpy as np\n",
    "import pandas as pd\n",
    "import xarray as xr\n",
    "\n",
    "import climatools.lblnew.bestfit_params as bestfits\n",
    "from climatools.lblnew import setup_bestfit, setup_overlap\n",
    "import climatools.lblnew.pipeline as pipe_lblnew\n",
    "import climatools.cliradlw.setup as setup_cliradlw\n",
    "import climatools.cliradlw.pipeline as pipe_cliradlw\n",
    "\n",
    "import climatools.html.html as climahtml\n",
    "from climatools.lblnew.dataio import *\n",
    "from climatools.plot.plot import *\n",
    "\n",
    "\n",
    "import IPython.display as display"
   ]
  },
  {
   "cell_type": "code",
   "execution_count": 2,
   "metadata": {
    "collapsed": true
   },
   "outputs": [],
   "source": [
    "%run param.py"
   ]
  },
  {
   "cell_type": "code",
   "execution_count": 3,
   "metadata": {
    "collapsed": true
   },
   "outputs": [],
   "source": [
    "def load_output_file(path_csv):\n",
    "    '''\n",
    "    Load lblnew output .csv file to xarray.Dataset\n",
    "    \n",
    "    Parameters\n",
    "    ----------\n",
    "    path_csv: str\n",
    "              Path to the .csv file to be loaded.\n",
    "    ds: xarray.Dataset\n",
    "        Data in the input file in the form of an xarray.Dataset.\n",
    "    '''\n",
    "    toindex = ['band', 'pressure', 'igg', 'g']    \n",
    "    df = pd.read_csv(path_csv, sep=r'\\s+')\n",
    "    df = df.set_index([i for i in toindex if i in df.columns])\n",
    "    df = df.rename(columns={'sfu': 'flug',\n",
    "                            'sfd': 'fldg',\n",
    "                            'fnet': 'fnetg',\n",
    "                            'coolr': 'coolrg'})\n",
    "    ds = xr.Dataset.from_dataframe(df)\n",
    "\n",
    "    for l in ('level', 'layer'):\n",
    "        if l in ds.data_vars:\n",
    "            if len(ds[l].dims) > 1:\n",
    "                surface = {d: 0 for d in ds.dims if d != 'pressure'}\n",
    "                coord_level = ds[l][surface]\n",
    "                ds.coords[l] = ('pressure', coord_level)\n",
    "            else:\n",
    "                ds.coords[l] = ('pressure', ds[l])\n",
    "    \n",
    "    return ds"
   ]
  },
  {
   "cell_type": "code",
   "execution_count": 4,
   "metadata": {
    "collapsed": true
   },
   "outputs": [],
   "source": [
    "def lblnew_setup(param=None):\n",
    "    if 'ng_refs' in param:\n",
    "        return {'setup': setup_bestfit,\n",
    "                'fname_flux_crd': 'output_flux.dat',\n",
    "                'fname_cool_crd': 'output_coolr.dat',\n",
    "                'fname_flux_wgt': 'output_wfluxg.dat',\n",
    "                'fname_cool_wgt': 'output_wcoolrg.dat'}\n",
    "    else:\n",
    "        return {'setup': setup_overlap,\n",
    "                'fname_flux_crd': 'output_flux.dat',\n",
    "                'fname_cool_crd': 'output_coolr.dat',\n",
    "                'fname_flux_wgt': 'output_wflux.dat',\n",
    "                'fname_cool_wgt': 'output_wcoolr.dat'}\n",
    "\n",
    "    \n",
    "def load_lblnew_data(param):\n",
    "    \n",
    "    fname_dsname = [('fname_flux_crd', 'ds_flux_crd'),\n",
    "                    ('fname_cool_crd', 'ds_cool_crd'),\n",
    "                    ('fname_flux_wgt', 'ds_flux_wgt'),\n",
    "                    ('fname_cool_wgt', 'ds_cool_wgt')]\n",
    "    \n",
    "    d = lblnew_setup(param)\n",
    "    dir_fortran = pipe_lblnew.get_dir_case(param, setup=d['setup'])\n",
    "    \n",
    "    data_dict = {}\n",
    "    for fname, dsname in fname_dsname:\n",
    "        fpath = os.path.join(dir_fortran, d[fname])\n",
    "        data_dict[dsname] = load_output_file(fpath)\n",
    "    return data_dict\n",
    "    \n",
    "\n",
    "    \n",
    "    "
   ]
  },
  {
   "cell_type": "code",
   "execution_count": 5,
   "metadata": {
    "collapsed": true
   },
   "outputs": [],
   "source": [
    "d = load_lblnew_data(PARAM_LBLNEW)\n",
    "\n",
    "DS_FLUX_CRD = d['ds_flux_crd']\n",
    "DS_COOL_CRD = d['ds_cool_crd']\n",
    "DS_FLUX_WGT = d['ds_flux_wgt']\n",
    "DS_COOL_WGT = d['ds_cool_wgt']"
   ]
  },
  {
   "cell_type": "code",
   "execution_count": 6,
   "metadata": {
    "collapsed": true
   },
   "outputs": [],
   "source": [
    "DIR_FORTRAN = pipe_cliradlw.get_fortran_dir(PARAM, \n",
    "                                            setup=setup_cliradlw)\n",
    "\n",
    "PATH_FLUX = os.path.join(DIR_FORTRAN, 'output_flux.dat')\n",
    "PATH_COOL = os.path.join(DIR_FORTRAN, 'output_coolr.dat')\n",
    "\n",
    "DS_FLUX = load_output_file(PATH_FLUX)\n",
    "DS_COOL = load_output_file(PATH_COOL)"
   ]
  },
  {
   "cell_type": "code",
   "execution_count": 7,
   "metadata": {
    "collapsed": true
   },
   "outputs": [
    {
     "data": {
      "text/html": [
       "\n",
       "    <div class=\"bk-root\">\n",
       "        <a href=\"https://bokeh.pydata.org\" target=\"_blank\" class=\"bk-logo bk-logo-small bk-logo-notebook\"></a>\n",
       "        <span id=\"a1c59e30-8c7d-4df1-b884-b503e1505a8d\">Loading BokehJS ...</span>\n",
       "    </div>"
      ]
     },
     "metadata": {},
     "output_type": "display_data"
    },
    {
     "data": {
      "application/javascript": [
       "\n",
       "(function(root) {\n",
       "  function now() {\n",
       "    return new Date();\n",
       "  }\n",
       "\n",
       "  var force = true;\n",
       "\n",
       "  if (typeof (root._bokeh_onload_callbacks) === \"undefined\" || force === true) {\n",
       "    root._bokeh_onload_callbacks = [];\n",
       "    root._bokeh_is_loading = undefined;\n",
       "  }\n",
       "\n",
       "  var JS_MIME_TYPE = 'application/javascript';\n",
       "  var HTML_MIME_TYPE = 'text/html';\n",
       "  var EXEC_MIME_TYPE = 'application/vnd.bokehjs_exec.v0+json';\n",
       "  var CLASS_NAME = 'output_bokeh rendered_html';\n",
       "\n",
       "  /**\n",
       "   * Render data to the DOM node\n",
       "   */\n",
       "  function render(props, node) {\n",
       "    var script = document.createElement(\"script\");\n",
       "    node.appendChild(script);\n",
       "  }\n",
       "\n",
       "  /**\n",
       "   * Handle when an output is cleared or removed\n",
       "   */\n",
       "  function handleClearOutput(event, handle) {\n",
       "    var cell = handle.cell;\n",
       "\n",
       "    var id = cell.output_area._bokeh_element_id;\n",
       "    var server_id = cell.output_area._bokeh_server_id;\n",
       "    // Clean up Bokeh references\n",
       "    if (id !== undefined) {\n",
       "      Bokeh.index[id].model.document.clear();\n",
       "      delete Bokeh.index[id];\n",
       "    }\n",
       "\n",
       "    if (server_id !== undefined) {\n",
       "      // Clean up Bokeh references\n",
       "      var cmd = \"from bokeh.io.state import curstate; print(curstate().uuid_to_server['\" + server_id + \"'].get_sessions()[0].document.roots[0]._id)\";\n",
       "      cell.notebook.kernel.execute(cmd, {\n",
       "        iopub: {\n",
       "          output: function(msg) {\n",
       "            var element_id = msg.content.text.trim();\n",
       "            Bokeh.index[element_id].model.document.clear();\n",
       "            delete Bokeh.index[element_id];\n",
       "          }\n",
       "        }\n",
       "      });\n",
       "      // Destroy server and session\n",
       "      var cmd = \"import bokeh.io.notebook as ion; ion.destroy_server('\" + server_id + \"')\";\n",
       "      cell.notebook.kernel.execute(cmd);\n",
       "    }\n",
       "  }\n",
       "\n",
       "  /**\n",
       "   * Handle when a new output is added\n",
       "   */\n",
       "  function handleAddOutput(event, handle) {\n",
       "    var output_area = handle.output_area;\n",
       "    var output = handle.output;\n",
       "\n",
       "    // limit handleAddOutput to display_data with EXEC_MIME_TYPE content only\n",
       "    if ((output.output_type != \"display_data\") || (!output.data.hasOwnProperty(EXEC_MIME_TYPE))) {\n",
       "      return\n",
       "    }\n",
       "\n",
       "    var toinsert = output_area.element.find(\".\" + CLASS_NAME.split(' ')[0]);\n",
       "\n",
       "    if (output.metadata[EXEC_MIME_TYPE][\"id\"] !== undefined) {\n",
       "      toinsert[toinsert.length - 1].firstChild.textContent = output.data[JS_MIME_TYPE];\n",
       "      // store reference to embed id on output_area\n",
       "      output_area._bokeh_element_id = output.metadata[EXEC_MIME_TYPE][\"id\"];\n",
       "    }\n",
       "    if (output.metadata[EXEC_MIME_TYPE][\"server_id\"] !== undefined) {\n",
       "      var bk_div = document.createElement(\"div\");\n",
       "      bk_div.innerHTML = output.data[HTML_MIME_TYPE];\n",
       "      var script_attrs = bk_div.children[0].attributes;\n",
       "      for (var i = 0; i < script_attrs.length; i++) {\n",
       "        toinsert[toinsert.length - 1].firstChild.setAttribute(script_attrs[i].name, script_attrs[i].value);\n",
       "      }\n",
       "      // store reference to server id on output_area\n",
       "      output_area._bokeh_server_id = output.metadata[EXEC_MIME_TYPE][\"server_id\"];\n",
       "    }\n",
       "  }\n",
       "\n",
       "  function register_renderer(events, OutputArea) {\n",
       "\n",
       "    function append_mime(data, metadata, element) {\n",
       "      // create a DOM node to render to\n",
       "      var toinsert = this.create_output_subarea(\n",
       "        metadata,\n",
       "        CLASS_NAME,\n",
       "        EXEC_MIME_TYPE\n",
       "      );\n",
       "      this.keyboard_manager.register_events(toinsert);\n",
       "      // Render to node\n",
       "      var props = {data: data, metadata: metadata[EXEC_MIME_TYPE]};\n",
       "      render(props, toinsert[toinsert.length - 1]);\n",
       "      element.append(toinsert);\n",
       "      return toinsert\n",
       "    }\n",
       "\n",
       "    /* Handle when an output is cleared or removed */\n",
       "    events.on('clear_output.CodeCell', handleClearOutput);\n",
       "    events.on('delete.Cell', handleClearOutput);\n",
       "\n",
       "    /* Handle when a new output is added */\n",
       "    events.on('output_added.OutputArea', handleAddOutput);\n",
       "\n",
       "    /**\n",
       "     * Register the mime type and append_mime function with output_area\n",
       "     */\n",
       "    OutputArea.prototype.register_mime_type(EXEC_MIME_TYPE, append_mime, {\n",
       "      /* Is output safe? */\n",
       "      safe: true,\n",
       "      /* Index of renderer in `output_area.display_order` */\n",
       "      index: 0\n",
       "    });\n",
       "  }\n",
       "\n",
       "  // register the mime type if in Jupyter Notebook environment and previously unregistered\n",
       "  if (root.Jupyter !== undefined) {\n",
       "    var events = require('base/js/events');\n",
       "    var OutputArea = require('notebook/js/outputarea').OutputArea;\n",
       "\n",
       "    if (OutputArea.prototype.mime_types().indexOf(EXEC_MIME_TYPE) == -1) {\n",
       "      register_renderer(events, OutputArea);\n",
       "    }\n",
       "  }\n",
       "\n",
       "  \n",
       "  if (typeof (root._bokeh_timeout) === \"undefined\" || force === true) {\n",
       "    root._bokeh_timeout = Date.now() + 5000;\n",
       "    root._bokeh_failed_load = false;\n",
       "  }\n",
       "\n",
       "  var NB_LOAD_WARNING = {'data': {'text/html':\n",
       "     \"<div style='background-color: #fdd'>\\n\"+\n",
       "     \"<p>\\n\"+\n",
       "     \"BokehJS does not appear to have successfully loaded. If loading BokehJS from CDN, this \\n\"+\n",
       "     \"may be due to a slow or bad network connection. Possible fixes:\\n\"+\n",
       "     \"</p>\\n\"+\n",
       "     \"<ul>\\n\"+\n",
       "     \"<li>re-rerun `output_notebook()` to attempt to load from CDN again, or</li>\\n\"+\n",
       "     \"<li>use INLINE resources instead, as so:</li>\\n\"+\n",
       "     \"</ul>\\n\"+\n",
       "     \"<code>\\n\"+\n",
       "     \"from bokeh.resources import INLINE\\n\"+\n",
       "     \"output_notebook(resources=INLINE)\\n\"+\n",
       "     \"</code>\\n\"+\n",
       "     \"</div>\"}};\n",
       "\n",
       "  function display_loaded() {\n",
       "    var el = document.getElementById(\"a1c59e30-8c7d-4df1-b884-b503e1505a8d\");\n",
       "    if (el != null) {\n",
       "      el.textContent = \"BokehJS is loading...\";\n",
       "    }\n",
       "    if (root.Bokeh !== undefined) {\n",
       "      if (el != null) {\n",
       "        el.textContent = \"BokehJS \" + root.Bokeh.version + \" successfully loaded.\";\n",
       "      }\n",
       "    } else if (Date.now() < root._bokeh_timeout) {\n",
       "      setTimeout(display_loaded, 100)\n",
       "    }\n",
       "  }\n",
       "\n",
       "\n",
       "  function run_callbacks() {\n",
       "    try {\n",
       "      root._bokeh_onload_callbacks.forEach(function(callback) { callback() });\n",
       "    }\n",
       "    finally {\n",
       "      delete root._bokeh_onload_callbacks\n",
       "    }\n",
       "    console.info(\"Bokeh: all callbacks have finished\");\n",
       "  }\n",
       "\n",
       "  function load_libs(js_urls, callback) {\n",
       "    root._bokeh_onload_callbacks.push(callback);\n",
       "    if (root._bokeh_is_loading > 0) {\n",
       "      console.log(\"Bokeh: BokehJS is being loaded, scheduling callback at\", now());\n",
       "      return null;\n",
       "    }\n",
       "    if (js_urls == null || js_urls.length === 0) {\n",
       "      run_callbacks();\n",
       "      return null;\n",
       "    }\n",
       "    console.log(\"Bokeh: BokehJS not loaded, scheduling load and callback at\", now());\n",
       "    root._bokeh_is_loading = js_urls.length;\n",
       "    for (var i = 0; i < js_urls.length; i++) {\n",
       "      var url = js_urls[i];\n",
       "      var s = document.createElement('script');\n",
       "      s.src = url;\n",
       "      s.async = false;\n",
       "      s.onreadystatechange = s.onload = function() {\n",
       "        root._bokeh_is_loading--;\n",
       "        if (root._bokeh_is_loading === 0) {\n",
       "          console.log(\"Bokeh: all BokehJS libraries loaded\");\n",
       "          run_callbacks()\n",
       "        }\n",
       "      };\n",
       "      s.onerror = function() {\n",
       "        console.warn(\"failed to load library \" + url);\n",
       "      };\n",
       "      console.log(\"Bokeh: injecting script tag for BokehJS library: \", url);\n",
       "      document.getElementsByTagName(\"head\")[0].appendChild(s);\n",
       "    }\n",
       "  };var element = document.getElementById(\"a1c59e30-8c7d-4df1-b884-b503e1505a8d\");\n",
       "  if (element == null) {\n",
       "    console.log(\"Bokeh: ERROR: autoload.js configured with elementid 'a1c59e30-8c7d-4df1-b884-b503e1505a8d' but no matching script tag was found. \")\n",
       "    return false;\n",
       "  }\n",
       "\n",
       "  var js_urls = [\"https://cdn.pydata.org/bokeh/release/bokeh-0.12.16.min.js\", \"https://cdn.pydata.org/bokeh/release/bokeh-widgets-0.12.16.min.js\", \"https://cdn.pydata.org/bokeh/release/bokeh-tables-0.12.16.min.js\", \"https://cdn.pydata.org/bokeh/release/bokeh-gl-0.12.16.min.js\"];\n",
       "\n",
       "  var inline_js = [\n",
       "    function(Bokeh) {\n",
       "      Bokeh.set_log_level(\"info\");\n",
       "    },\n",
       "    \n",
       "    function(Bokeh) {\n",
       "      \n",
       "    },\n",
       "    function(Bokeh) {\n",
       "      console.log(\"Bokeh: injecting CSS: https://cdn.pydata.org/bokeh/release/bokeh-0.12.16.min.css\");\n",
       "      Bokeh.embed.inject_css(\"https://cdn.pydata.org/bokeh/release/bokeh-0.12.16.min.css\");\n",
       "      console.log(\"Bokeh: injecting CSS: https://cdn.pydata.org/bokeh/release/bokeh-widgets-0.12.16.min.css\");\n",
       "      Bokeh.embed.inject_css(\"https://cdn.pydata.org/bokeh/release/bokeh-widgets-0.12.16.min.css\");\n",
       "      console.log(\"Bokeh: injecting CSS: https://cdn.pydata.org/bokeh/release/bokeh-tables-0.12.16.min.css\");\n",
       "      Bokeh.embed.inject_css(\"https://cdn.pydata.org/bokeh/release/bokeh-tables-0.12.16.min.css\");\n",
       "    }\n",
       "  ];\n",
       "\n",
       "  function run_inline_js() {\n",
       "    \n",
       "    if ((root.Bokeh !== undefined) || (force === true)) {\n",
       "      for (var i = 0; i < inline_js.length; i++) {\n",
       "        inline_js[i].call(root, root.Bokeh);\n",
       "      }if (force === true) {\n",
       "        display_loaded();\n",
       "      }} else if (Date.now() < root._bokeh_timeout) {\n",
       "      setTimeout(run_inline_js, 100);\n",
       "    } else if (!root._bokeh_failed_load) {\n",
       "      console.log(\"Bokeh: BokehJS failed to load within specified timeout.\");\n",
       "      root._bokeh_failed_load = true;\n",
       "    } else if (force !== true) {\n",
       "      var cell = $(document.getElementById(\"a1c59e30-8c7d-4df1-b884-b503e1505a8d\")).parents('.cell').data().cell;\n",
       "      cell.output_area.append_execute_result(NB_LOAD_WARNING)\n",
       "    }\n",
       "\n",
       "  }\n",
       "\n",
       "  if (root._bokeh_is_loading === 0) {\n",
       "    console.log(\"Bokeh: BokehJS loaded, going straight to plotting\");\n",
       "    run_inline_js();\n",
       "  } else {\n",
       "    load_libs(js_urls, function() {\n",
       "      console.log(\"Bokeh: BokehJS plotting callback run at\", now());\n",
       "      run_inline_js();\n",
       "    });\n",
       "  }\n",
       "}(window));"
      ],
      "application/vnd.bokehjs_load.v0+json": "\n(function(root) {\n  function now() {\n    return new Date();\n  }\n\n  var force = true;\n\n  if (typeof (root._bokeh_onload_callbacks) === \"undefined\" || force === true) {\n    root._bokeh_onload_callbacks = [];\n    root._bokeh_is_loading = undefined;\n  }\n\n  \n\n  \n  if (typeof (root._bokeh_timeout) === \"undefined\" || force === true) {\n    root._bokeh_timeout = Date.now() + 5000;\n    root._bokeh_failed_load = false;\n  }\n\n  var NB_LOAD_WARNING = {'data': {'text/html':\n     \"<div style='background-color: #fdd'>\\n\"+\n     \"<p>\\n\"+\n     \"BokehJS does not appear to have successfully loaded. If loading BokehJS from CDN, this \\n\"+\n     \"may be due to a slow or bad network connection. Possible fixes:\\n\"+\n     \"</p>\\n\"+\n     \"<ul>\\n\"+\n     \"<li>re-rerun `output_notebook()` to attempt to load from CDN again, or</li>\\n\"+\n     \"<li>use INLINE resources instead, as so:</li>\\n\"+\n     \"</ul>\\n\"+\n     \"<code>\\n\"+\n     \"from bokeh.resources import INLINE\\n\"+\n     \"output_notebook(resources=INLINE)\\n\"+\n     \"</code>\\n\"+\n     \"</div>\"}};\n\n  function display_loaded() {\n    var el = document.getElementById(\"a1c59e30-8c7d-4df1-b884-b503e1505a8d\");\n    if (el != null) {\n      el.textContent = \"BokehJS is loading...\";\n    }\n    if (root.Bokeh !== undefined) {\n      if (el != null) {\n        el.textContent = \"BokehJS \" + root.Bokeh.version + \" successfully loaded.\";\n      }\n    } else if (Date.now() < root._bokeh_timeout) {\n      setTimeout(display_loaded, 100)\n    }\n  }\n\n\n  function run_callbacks() {\n    try {\n      root._bokeh_onload_callbacks.forEach(function(callback) { callback() });\n    }\n    finally {\n      delete root._bokeh_onload_callbacks\n    }\n    console.info(\"Bokeh: all callbacks have finished\");\n  }\n\n  function load_libs(js_urls, callback) {\n    root._bokeh_onload_callbacks.push(callback);\n    if (root._bokeh_is_loading > 0) {\n      console.log(\"Bokeh: BokehJS is being loaded, scheduling callback at\", now());\n      return null;\n    }\n    if (js_urls == null || js_urls.length === 0) {\n      run_callbacks();\n      return null;\n    }\n    console.log(\"Bokeh: BokehJS not loaded, scheduling load and callback at\", now());\n    root._bokeh_is_loading = js_urls.length;\n    for (var i = 0; i < js_urls.length; i++) {\n      var url = js_urls[i];\n      var s = document.createElement('script');\n      s.src = url;\n      s.async = false;\n      s.onreadystatechange = s.onload = function() {\n        root._bokeh_is_loading--;\n        if (root._bokeh_is_loading === 0) {\n          console.log(\"Bokeh: all BokehJS libraries loaded\");\n          run_callbacks()\n        }\n      };\n      s.onerror = function() {\n        console.warn(\"failed to load library \" + url);\n      };\n      console.log(\"Bokeh: injecting script tag for BokehJS library: \", url);\n      document.getElementsByTagName(\"head\")[0].appendChild(s);\n    }\n  };var element = document.getElementById(\"a1c59e30-8c7d-4df1-b884-b503e1505a8d\");\n  if (element == null) {\n    console.log(\"Bokeh: ERROR: autoload.js configured with elementid 'a1c59e30-8c7d-4df1-b884-b503e1505a8d' but no matching script tag was found. \")\n    return false;\n  }\n\n  var js_urls = [\"https://cdn.pydata.org/bokeh/release/bokeh-0.12.16.min.js\", \"https://cdn.pydata.org/bokeh/release/bokeh-widgets-0.12.16.min.js\", \"https://cdn.pydata.org/bokeh/release/bokeh-tables-0.12.16.min.js\", \"https://cdn.pydata.org/bokeh/release/bokeh-gl-0.12.16.min.js\"];\n\n  var inline_js = [\n    function(Bokeh) {\n      Bokeh.set_log_level(\"info\");\n    },\n    \n    function(Bokeh) {\n      \n    },\n    function(Bokeh) {\n      console.log(\"Bokeh: injecting CSS: https://cdn.pydata.org/bokeh/release/bokeh-0.12.16.min.css\");\n      Bokeh.embed.inject_css(\"https://cdn.pydata.org/bokeh/release/bokeh-0.12.16.min.css\");\n      console.log(\"Bokeh: injecting CSS: https://cdn.pydata.org/bokeh/release/bokeh-widgets-0.12.16.min.css\");\n      Bokeh.embed.inject_css(\"https://cdn.pydata.org/bokeh/release/bokeh-widgets-0.12.16.min.css\");\n      console.log(\"Bokeh: injecting CSS: https://cdn.pydata.org/bokeh/release/bokeh-tables-0.12.16.min.css\");\n      Bokeh.embed.inject_css(\"https://cdn.pydata.org/bokeh/release/bokeh-tables-0.12.16.min.css\");\n    }\n  ];\n\n  function run_inline_js() {\n    \n    if ((root.Bokeh !== undefined) || (force === true)) {\n      for (var i = 0; i < inline_js.length; i++) {\n        inline_js[i].call(root, root.Bokeh);\n      }if (force === true) {\n        display_loaded();\n      }} else if (Date.now() < root._bokeh_timeout) {\n      setTimeout(run_inline_js, 100);\n    } else if (!root._bokeh_failed_load) {\n      console.log(\"Bokeh: BokehJS failed to load within specified timeout.\");\n      root._bokeh_failed_load = true;\n    } else if (force !== true) {\n      var cell = $(document.getElementById(\"a1c59e30-8c7d-4df1-b884-b503e1505a8d\")).parents('.cell').data().cell;\n      cell.output_area.append_execute_result(NB_LOAD_WARNING)\n    }\n\n  }\n\n  if (root._bokeh_is_loading === 0) {\n    console.log(\"Bokeh: BokehJS loaded, going straight to plotting\");\n    run_inline_js();\n  } else {\n    load_libs(js_urls, function() {\n      console.log(\"Bokeh: BokehJS plotting callback run at\", now());\n      run_inline_js();\n    });\n  }\n}(window));"
     },
     "metadata": {},
     "output_type": "display_data"
    }
   ],
   "source": [
    "output_notebook()"
   ]
  },
  {
   "cell_type": "code",
   "execution_count": 8,
   "metadata": {
    "collapsed": true
   },
   "outputs": [],
   "source": [
    "def fmt_cool(ds_in):\n",
    "    ds = ds_in.copy(deep=True)\n",
    "    if 'igg' in ds.dims:\n",
    "        ds = ds.sel(igg=1)\n",
    "\n",
    "    if 'g' in ds.dims:\n",
    "        ds = ds.sum('g')\n",
    "            \n",
    "    if 'band' in ds.dims:\n",
    "        try:\n",
    "            ds = ds.squeeze('band')\n",
    "        except ValueError:\n",
    "            ds = ds.sum('band')\n",
    "                \n",
    "    return ds['coolrg']\n",
    "\n",
    "\n",
    "def pltdata_cooling_1(ds_cool=None,\n",
    "                      ds_cool_crd=None, ds_cool_wgt=None):\n",
    "    \n",
    "\n",
    "\n",
    "    colors = all_palettes['Set1'][4]\n",
    "    data = [{'label': 'CLIRAD `coolr_bands`',\n",
    "             'srs': fmt_cool(ds_cool),\n",
    "             'line_dash': 'dashed', 'line_width': 5,\n",
    "             'color': colors[0], 'alpha': .6},\n",
    "            {'label': 'CRD',\n",
    "             'srs': fmt_cool(ds_cool_crd),\n",
    "             'line_dash': 'solid', 'line_width': 1.5,\n",
    "             'marker': 'circle', 'marker_size': 5,\n",
    "             'color': colors[2], 'alpha': 1,},\n",
    "            {'label': 'WGT igg=10 wgt_flux=2',\n",
    "             'srs': fmt_cool(ds_cool_wgt),\n",
    "             'line_dash': 'solid', 'line_width': 3,\n",
    "             'marker': 'square', 'marker_size': 5,\n",
    "             'color': colors[3], 'alpha': .6}]\n",
    "    return data\n",
    "\n",
    "\n",
    "def nice_xlims(pltdata=None, prange=None):\n",
    "    \n",
    "    def get_slice(srs):\n",
    "        return srs.sel(pressure=slice(*prange))\n",
    "    \n",
    "    srss = [d['srs'] for d in pltdata]\n",
    "    vmin = min([get_slice(srs).min() for srs in srss])\n",
    "    vmax = max([get_slice(srs).max() for srs in srss])\n",
    "    dv = (vmax - vmin) * .01\n",
    "    return float(vmin - dv), float(vmax + dv)\n",
    "    \n",
    "\n",
    "def plt_cooling_bokeh(pltdata=None):\n",
    "    '''\n",
    "    Plot a list of cooling rate profiles using bokeh.\n",
    "    '''\n",
    "    ymin = 1e-2 \n",
    "    ymax = 1020 \n",
    "        \n",
    "    p1 = figure(title=\"Linear pressure scale\", \n",
    "                plot_width=400)        \n",
    "    xmin, xmax = nice_xlims(pltdata, prange=(50, 1050))\n",
    "    for d in pltdata:\n",
    "        if 'marker' in d:\n",
    "            getattr(p1, d['marker'])(d['srs'].values, \n",
    "                    d['srs'].coords['pressure'].values,\n",
    "                    color=d['color'], alpha=.7)\n",
    "        p1.line(d['srs'].values, \n",
    "                d['srs'].coords['pressure'].values,\n",
    "                color=d['color'], alpha=d['alpha'], \n",
    "                line_width=d['line_width'], line_dash=d['line_dash'])\n",
    "    \n",
    "    p1.y_range = Range1d(ymax, ymin)\n",
    "    p1.yaxis.axis_label = 'pressure [mb]'   \n",
    "    p1.x_range = Range1d(xmin, xmax)\n",
    "    p1.xaxis.axis_label = 'cooling rate [K/day]'\n",
    "            \n",
    "    p2 = figure(title='Log pressure scale', y_axis_type='log',\n",
    "                plot_width=560)\n",
    "    xmin, xmax = nice_xlims(pltdata, prange=(.01, 200))\n",
    "    \n",
    "    rs = []\n",
    "    for d in pltdata:\n",
    "        rd = []\n",
    "        if 'marker' in d:\n",
    "            r_mark = getattr(p2, d['marker'])(d['srs'].values, \n",
    "                        d['srs'].coords['pressure'].values,\n",
    "                        color=d['color'], alpha=.7)\n",
    "            rd.append(r_mark)\n",
    "        r_line = p2.line(d['srs'].values, \n",
    "                    d['srs'].coords['pressure'].values,\n",
    "                    color=d['color'], alpha=d['alpha'], \n",
    "                    line_width=d['line_width'], line_dash=d['line_dash'])\n",
    "        rd.append(r_line)\n",
    "      \n",
    "        rs.append(rd)\n",
    "        \n",
    "    p2.y_range = Range1d(ymax, ymin)  \n",
    "    p2.yaxis.axis_label = 'pressure [mb]'\n",
    "    \n",
    "    p2.x_range = Range1d(xmin, xmax)\n",
    "    p2.xaxis.axis_label = 'cooling rate [K/day]'\n",
    "    \n",
    "    items = [(d['label'], r) for r, d in zip(rs, pltdata)]\n",
    "    legend = Legend(items=items, location=(10, -30))\n",
    "    legend.label_text_font_size = '8pt'\n",
    "    \n",
    "    p2.add_layout(legend, 'right')  \n",
    "    \n",
    "    show(gridplot(p1, p2, ncols=2, plot_height=500))\n",
    "    \n",
    "\n",
    "def script_plt_cooling():\n",
    "    pltdata = pltdata_cooling_1(\n",
    "        ds_cool=DS_COOL,\n",
    "        ds_cool_crd=DS_COOL_CRD,\n",
    "        ds_cool_wgt=DS_COOL_WGT)\n",
    "    plt_cooling_bokeh(pltdata=pltdata)\n",
    "    print('''FIGURE. Cooling rate profiles.''')"
   ]
  },
  {
   "cell_type": "code",
   "execution_count": 9,
   "metadata": {
    "collapsed": true
   },
   "outputs": [],
   "source": [
    "def fmt_flux(ds_in):\n",
    "    ds = ds_in.copy(deep=True)\n",
    "    \n",
    "    for l in ('level', 'layer'):\n",
    "        if l in ds.data_vars:\n",
    "            if len(ds[l].dims) > 1:\n",
    "                surface = {d: 0 for d in ds.dims if d != 'pressure'}\n",
    "                coord_level = ds[l][surface]\n",
    "                ds.coords[l] = ('pressure', coord_level)\n",
    "            else:\n",
    "                ds.coords[l] = ('pressure', ds[l])\n",
    "        \n",
    "    ds = ds.isel(pressure=[0, 23, -1])\n",
    "        \n",
    "    if 'igg' in ds.dims:\n",
    "        ds = ds.sel(igg=[1])\n",
    "        ds = ds.squeeze('igg').drop('igg')\n",
    "    \n",
    "    if 'g' in ds.dims:\n",
    "        ds = ds.sum('g')\n",
    "            \n",
    "    if 'band' in ds.dims:\n",
    "        try:\n",
    "            ds = ds.squeeze('band').drop('band')\n",
    "        except ValueError:\n",
    "            ds = ds.sum('band')\n",
    "                \n",
    "    df = ds.to_dataframe()\n",
    "    df = df.set_index('level', append=True)               \n",
    "    return df\n",
    "\n",
    "\n",
    "def tbdata_flux(ds_flux=None, ds_flux_crd=None, ds_flux_wgt=None):\n",
    "    ilevels = [0, 23, -1]\n",
    "            \n",
    "    benchmark = {'label': 'CRD',\n",
    "                 'df': fmt_flux(ds_flux_crd)}\n",
    "    \n",
    "    tbs = [{'label': 'WGT igg=10 wgt_flux=1',\n",
    "            'df': fmt_flux(ds_flux_wgt)},\n",
    "           {'label': 'CLIRAD',\n",
    "            'df': fmt_flux(ds_flux)}]\n",
    "    \n",
    "    data = {'benchmark': benchmark, 'others': tbs}\n",
    "    return data\n",
    "\n",
    "\n",
    "def tb_flux(tbdata=None):\n",
    "    benchmark = tbdata['benchmark']\n",
    "    others = tbdata['others']\n",
    "    \n",
    "    def show_tb(d=None):\n",
    "        display.display(d['df'])\n",
    "        print('Table.', 'Fluxes.', d['label'])\n",
    "        \n",
    "    def show_tbdiff(d0=None, d=None):\n",
    "        df = d['df']\n",
    "        df.index = d0['df'].index\n",
    "        display.display(df - d0['df'])\n",
    "        print('Table.', 'Fluxes.', \n",
    "              '({}) - ({})'.format(d['label'], d0['label']))\n",
    "        \n",
    "    show_tb(benchmark)\n",
    "    for d in others:\n",
    "        show_tb(d)\n",
    "        \n",
    "    for d in others:\n",
    "        show_tbdiff(d=d, d0=benchmark)\n",
    "        \n",
    "        \n",
    "def script_tb_flux():\n",
    "    data = tbdata_flux(ds_flux=DS_FLUX,\n",
    "                       ds_flux_crd=DS_FLUX_CRD,\n",
    "                       ds_flux_wgt=DS_FLUX_WGT)\n",
    "    tb_flux(tbdata=data)"
   ]
  },
  {
   "cell_type": "code",
   "execution_count": 10,
   "metadata": {
    "collapsed": true
   },
   "outputs": [],
   "source": [
    "def band_map():\n",
    "    '''\n",
    "    Maps spectral bands in lblnew to spectral bands in clirad.\n",
    "    '''\n",
    "    lblnew2clirad = {'1': '1',\n",
    "            '2': '2',\n",
    "            '3a': '3',\n",
    "            '3b': '4',\n",
    "            '3c': '5',\n",
    "            '4': '6', \n",
    "            '5': '7',\n",
    "            '6': '8',\n",
    "            '7': '9', \n",
    "            '8': '10',\n",
    "            '9': '11'}\n",
    "    \n",
    "    clirad2lblnew = {clirad: lblnew \n",
    "                     for lblnew, clirad in lblnew2clirad.items()}\n",
    "    return clirad2lblnew\n",
    "\n",
    "\n",
    "def gasbands():\n",
    "    bmap = band_map()\n",
    "    gases = list(PARAM['molecule'].keys())\n",
    "    \n",
    "    bands = [bmap[str(b)] for b in PARAM['band']]\n",
    "    return list(itertools.product(gases, bands))\n",
    "\n",
    "\n",
    "def print_bestfit_params():\n",
    "    print('Best-fit values for each (gas, band)')\n",
    "    print('------------------------------------')\n",
    "    for gas, band in gasbands():\n",
    "        print('o {} band{}'.format(gas, band))\n",
    "        param = bestfits.kdist_params(molecule=gas, band=band)\n",
    "        for name, value in sorted(param.items()):\n",
    "            print(2 * ' ' + '{} = {}'.format(name, value))\n",
    "\n",
    "        \n",
    "def print_input_param():        \n",
    "    for name, value in PARAM.items():\n",
    "        print('{} = {}'.format(name, value))\n",
    "        \n",
    "        \n",
    "def print_lblnew_param():\n",
    "    for name, value in sorted(PARAM_LBLNEW.items()):\n",
    "        print('{} = {}'.format(name, value))\n"
   ]
  },
  {
   "cell_type": "code",
   "execution_count": 11,
   "metadata": {
    "collapsed": true,
    "scrolled": false
   },
   "outputs": [],
   "source": [
    "def show_html(s):\n",
    "    display.display(display.HTML(s))\n",
    "\n",
    "    \n",
    "def show_markdown(s):\n",
    "    display.display(display.Markdown(s))\n",
    "\n",
    "    \n",
    "def script():\n",
    "    \n",
    "    title = '### CLIRAD-LW'\n",
    "    s_input = 'Input Parameters'\n",
    "    s_lblnew_param = 'LBLNEW case compaired against'\n",
    "    s_bestfits = 'Best-fit Parameters'\n",
    "    s_plt_cooling = 'Cooling Rate Profiles'\n",
    "    s_tb_flux = 'Flux Comparison'\n",
    "    \n",
    "    # title\n",
    "    show_markdown('### CLIRAD-LW')\n",
    "    \n",
    "    # TOC\n",
    "    show_markdown('### Table of Contents')\n",
    "    show_html(climahtml.getHTML_hrefanchor(s_input))\n",
    "    show_html(climahtml.getHTML_hrefanchor(s_lblnew_param))\n",
    "    show_html(climahtml.getHTML_hrefanchor(s_plt_cooling))\n",
    "    show_html(climahtml.getHTML_hrefanchor(s_tb_flux))\n",
    "    show_html(climahtml.getHTML_hrefanchor(s_bestfits))\n",
    "    \n",
    "    # Input parameters\n",
    "    show_html(climahtml.getHTML_idanchor(s_input))\n",
    "    show_markdown(climahtml.getMarkdown_sectitle(s_input))\n",
    "    print_input_param()\n",
    "    \n",
    "    # LBLNEW parameters \n",
    "    show_html(climahtml.getHTML_idanchor(s_lblnew_param))\n",
    "    show_markdown(climahtml.getMarkdown_sectitle(s_lblnew_param))\n",
    "    print_lblnew_param()\n",
    "    \n",
    "    # Cooling rate profiles\n",
    "    show_html(climahtml.getHTML_idanchor(s_plt_cooling))\n",
    "    show_markdown(climahtml.getMarkdown_sectitle(s_plt_cooling))\n",
    "    script_plt_cooling()\n",
    "    \n",
    "    # Flux comparison\n",
    "    show_html(climahtml.getHTML_idanchor(s_tb_flux))\n",
    "    show_markdown(climahtml.getMarkdown_sectitle(s_tb_flux))\n",
    "    script_tb_flux()\n",
    "    \n",
    "    # Best-fit values\n",
    "    show_html(climahtml.getHTML_idanchor(s_bestfits))\n",
    "    show_markdown(climahtml.getMarkdown_sectitle(s_bestfits))\n",
    "    print_bestfit_params()\n",
    "   \n",
    "    "
   ]
  },
  {
   "cell_type": "code",
   "execution_count": 12,
   "metadata": {
    "collapsed": true,
    "scrolled": false
   },
   "outputs": [
    {
     "data": {
      "text/markdown": [
       "### CLIRAD-LW"
      ],
      "text/plain": [
       "<IPython.core.display.Markdown object>"
      ]
     },
     "metadata": {},
     "output_type": "display_data"
    },
    {
     "data": {
      "text/markdown": [
       "### Table of Contents"
      ],
      "text/plain": [
       "<IPython.core.display.Markdown object>"
      ]
     },
     "metadata": {},
     "output_type": "display_data"
    },
    {
     "data": {
      "text/html": [
       "<a href=\"#Input_Parameters\">Input Parameters</a>"
      ],
      "text/plain": [
       "<IPython.core.display.HTML object>"
      ]
     },
     "metadata": {},
     "output_type": "display_data"
    },
    {
     "data": {
      "text/html": [
       "<a href=\"#LBLNEW_case_compaired_against\">LBLNEW case compaired against</a>"
      ],
      "text/plain": [
       "<IPython.core.display.HTML object>"
      ]
     },
     "metadata": {},
     "output_type": "display_data"
    },
    {
     "data": {
      "text/html": [
       "<a href=\"#Cooling_Rate_Profiles\">Cooling Rate Profiles</a>"
      ],
      "text/plain": [
       "<IPython.core.display.HTML object>"
      ]
     },
     "metadata": {},
     "output_type": "display_data"
    },
    {
     "data": {
      "text/html": [
       "<a href=\"#Flux_Comparison\">Flux Comparison</a>"
      ],
      "text/plain": [
       "<IPython.core.display.HTML object>"
      ]
     },
     "metadata": {},
     "output_type": "display_data"
    },
    {
     "data": {
      "text/html": [
       "<a href=\"#Best-fit_Parameters\">Best-fit Parameters</a>"
      ],
      "text/plain": [
       "<IPython.core.display.HTML object>"
      ]
     },
     "metadata": {},
     "output_type": "display_data"
    },
    {
     "data": {
      "text/html": [
       "<a id=\"Input_Parameters\"></a>"
      ],
      "text/plain": [
       "<IPython.core.display.HTML object>"
      ]
     },
     "metadata": {},
     "output_type": "display_data"
    },
    {
     "data": {
      "text/markdown": [
       "# Input Parameters"
      ],
      "text/plain": [
       "<IPython.core.display.Markdown object>"
      ]
     },
     "metadata": {},
     "output_type": "display_data"
    },
    {
     "name": "stdout",
     "output_type": "stream",
     "text": [
      "atmpro = trp\n",
      "band = [11]\n",
      "commitnumber = de5d43e\n",
      "molecule = {'o3': 'atmpro'}\n",
      "tsfc = 300\n"
     ]
    },
    {
     "data": {
      "text/html": [
       "<a id=\"LBLNEW_case_compaired_against\"></a>"
      ],
      "text/plain": [
       "<IPython.core.display.HTML object>"
      ]
     },
     "metadata": {},
     "output_type": "display_data"
    },
    {
     "data": {
      "text/markdown": [
       "# LBLNEW case compaired against"
      ],
      "text/plain": [
       "<IPython.core.display.Markdown object>"
      ]
     },
     "metadata": {},
     "output_type": "display_data"
    },
    {
     "name": "stdout",
     "output_type": "stream",
     "text": [
      "atmpro = trp\n",
      "band = 9\n",
      "commitnumber = 5014a19\n",
      "conc = None\n",
      "dv = 0.001\n",
      "klin = 2e-20\n",
      "molecule = o3\n",
      "ng_adju = [0, 0]\n",
      "ng_refs = [2, 5]\n",
      "nv = 1000\n",
      "option_compute_btable = 0\n",
      "option_compute_ktable = 0\n",
      "option_wgt_flux = 1\n",
      "option_wgt_k = 1\n",
      "ref_pts = [(1, 250), (50, 250)]\n",
      "tsfc = 300\n",
      "vmax = 3000\n",
      "vmin = 1900\n",
      "w_diffuse = [(1.55, 1.55), (1.55, 1.55, 1.55, 1.55, 1.8)]\n",
      "wgt = [(0.3, 0.4), (0.5, 0.6, 0.7, 0.85, 0.9)]\n"
     ]
    },
    {
     "data": {
      "text/html": [
       "<a id=\"Cooling_Rate_Profiles\"></a>"
      ],
      "text/plain": [
       "<IPython.core.display.HTML object>"
      ]
     },
     "metadata": {},
     "output_type": "display_data"
    },
    {
     "data": {
      "text/markdown": [
       "# Cooling Rate Profiles"
      ],
      "text/plain": [
       "<IPython.core.display.Markdown object>"
      ]
     },
     "metadata": {},
     "output_type": "display_data"
    },
    {
     "data": {
      "text/html": [
       "\n",
       "<div class=\"bk-root\">\n",
       "    <div class=\"bk-plotdiv\" id=\"6d571dc7-d3a1-4e30-837d-37bb6c39f7ab\"></div>\n",
       "</div>"
      ]
     },
     "metadata": {},
     "output_type": "display_data"
    },
    {
     "data": {
      "application/javascript": [
       "(function(root) {\n",
       "  function embed_document(root) {\n",
       "    \n",
       "  var docs_json = {\"78ea5aee-d76d-4846-b3e6-4749fce5a81d\":{\"roots\":{\"references\":[{\"attributes\":{},\"id\":\"b52173c0-3dcd-4402-a206-a6ccfbb0ad5b\",\"type\":\"WheelZoomTool\"},{\"attributes\":{\"callback\":null,\"data\":{\"x\":{\"__ndarray__\":\"Y/ZeY2CYLr9wuScdRE8xvyUaAAjhUzW/ASQB00ZZOb9j7hSoZF89v0oh3MPUskC/Y+trGMm1Qr9iDFi4ULhEvzSY1ZwxuUa/68pEliS6SL+GrOA0+LlKv35iEOeTt0y/w5Ilje60Tr+uTQWV8lZQv6WO89Z3gFK/stsDRrkhVr/RhohLMe9YvxkFLoAK9li/R8WH6olNVL9Ig3mThTpAv4lGfXngck8/CaePRX1Haj/HXPmzdpdzPzIEMSXa4nI/TG3yopJdaT/8ceJ0DcUevzUDBWtPmnC/IOBSD8YIf79B67kDd8uGv0qd1iZ7b4+/fnUnaCvgkr+xl9hCsZGTv+wPq3dsj5K/mDpT3kpTjb/exbEtAF+Bvx81OqhD9W6/Ihqz5rSgWL+qFnqa7C5NvwXmSRsMSki/acDH7uT6RL/bUW2PnXlCv6dGuX8THEC/EUk1/hwoPL+18OAEV8A4v9GAB3A9/TW/1oJAgIXUM7+RaLk74wAyvwiCZvQLUDC/HzjXBuirLb/l1W+oHywrvyZhPY2RySi/Ce2jnBdoJr9pko1EvgQkv7+RWVOAoSG/BcneUON5Hr+JlXWxG6oZvx9SrdPJ2BS/OLIy6tgEEL/A1HMPhVcGv75S64fohPm+uCU22xcd2r6OA6rasN3nPl7nyKvj7vw+qBFyKR34BT9qkSr8hskMP7DE+o8UxBE/pcQtr39SFT+/tlC8Qh4ZP1sN3lbAHR0/uE9soxubID9DDUriDKMiPzVFZRjrlyQ/1Pjvmt57Jj/Wb/hBBlMoPw/+YxfeHSo/\",\"dtype\":\"float64\",\"shape\":[75]},\"y\":{\"__ndarray__\":\"GhExyth1ND/Sv8nbtpRIP2vylNV0PVE/aTum7souWD/At0SJ8fVgPw3Iuahxymc/MSNhhJWvcD/bTfBN02d3P2zb5nxnaoA/CD5h5MAGhz8NmeH1TyaQP+zrCsc9p5Y/LbKd76fGnz/bLW5ISEmmPww9YvTcQq8/JV2OstnstT8Er5Y7M8G+P0c+r3jqkcU/5h99k6ZBzj88bCIzFzjVP4enV8oyxN0//yH99nXg5D8qOpLLf0jtP5kqGJXUifQ/c9cS8kHP/D+/DpwzojQEQIEmwoanVwxA4lgXt9HgE0BSSZ2AJuIbQAMJih9jjiNA5q4l5INuK0AwTKYKRj0zQNv5fmq8/DpAaCJseHrtQkB/+zpwzoxKQM3MzMzMeFJAZmZmZmZqWEAAAAAAAFxeQM3MzMzMJmJAmpmZmZkfZUBmZmZmZhhoQDMzMzMzEWtAAAAAAAAKbkBmZmZmZoFwQM3MzMzM/XFAMzMzMzN6c0CamZmZmfZ0QAAAAAAAc3ZAZmZmZmbvd0DNzMzMzGt5QDMzMzMz6HpAmpmZmZlkfEAAAAAAAOF9QGZmZmZmXX9AZmZmZuZsgECamZmZGSuBQM3MzMxM6YFAAAAAAICngkAzMzMzs2WDQGZmZmbmI4RAmpmZmRnihEDNzMzMTKCFQAAAAACAXoZAMzMzM7Mch0BmZmZm5tqHQJqZmZkZmYhAzczMzExXiUAAAAAAgBWKQDMzMzOz04pAZmZmZuaRi0CamZmZGVCMQM3MzMxMDo1AAAAAAIDMjUAzMzMzs4qOQGZmZmbmSI9A\",\"dtype\":\"float64\",\"shape\":[75]}},\"selected\":{\"id\":\"520bc135-9abc-4ae0-a8be-895fca8edc5f\",\"type\":\"Selection\"},\"selection_policy\":{\"id\":\"d19f2ee2-ea84-4e09-80ae-ff73d21e9dab\",\"type\":\"UnionRenderers\"}},\"id\":\"e69dd313-9a26-471b-835f-ad4fb53032d9\",\"type\":\"ColumnDataSource\"},{\"attributes\":{\"data_source\":{\"id\":\"85b42ec1-ae53-4cbb-be78-ba7d3390df7b\",\"type\":\"ColumnDataSource\"},\"glyph\":{\"id\":\"6a9ca34e-3c8a-42b4-84db-7a8449d115c9\",\"type\":\"Line\"},\"hover_glyph\":null,\"muted_glyph\":null,\"nonselection_glyph\":{\"id\":\"8875d763-6685-4f1c-b563-14a88ddf20be\",\"type\":\"Line\"},\"selection_glyph\":null,\"view\":{\"id\":\"2a4e3a73-513c-4b13-90a6-6d9fa54f1423\",\"type\":\"CDSView\"}},\"id\":\"354437d8-4654-4c81-87e8-a6aa94521337\",\"type\":\"GlyphRenderer\"},{\"attributes\":{\"items\":[{\"id\":\"75af9621-7743-4659-8191-ac7387ff84a8\",\"type\":\"LegendItem\"},{\"id\":\"e7a0ca36-7088-4b3c-9cc4-2f5542baf8da\",\"type\":\"LegendItem\"},{\"id\":\"6a297969-bf46-4c19-a191-7c5e684454c5\",\"type\":\"LegendItem\"}],\"label_text_font_size\":{\"value\":\"8pt\"},\"location\":[10,-30],\"plot\":{\"id\":\"f1e842c2-23cb-4164-ab89-0a362c4807b5\",\"subtype\":\"Figure\",\"type\":\"Plot\"}},\"id\":\"720e3fa2-0caf-4b96-8a4b-0bd0fa5a282c\",\"type\":\"Legend\"},{\"attributes\":{},\"id\":\"2a59eea8-99e5-4b7d-a417-b8033d434f8d\",\"type\":\"LinearScale\"},{\"attributes\":{},\"id\":\"dc4c5b8d-8dca-41aa-8f9c-5833023ed241\",\"type\":\"PanTool\"},{\"attributes\":{\"active_drag\":\"auto\",\"active_inspect\":\"auto\",\"active_scroll\":\"auto\",\"active_tap\":\"auto\",\"tools\":[{\"id\":\"dc4c5b8d-8dca-41aa-8f9c-5833023ed241\",\"type\":\"PanTool\"},{\"id\":\"b52173c0-3dcd-4402-a206-a6ccfbb0ad5b\",\"type\":\"WheelZoomTool\"},{\"id\":\"a9ca3cd3-3242-48ae-8325-068ae262aead\",\"type\":\"BoxZoomTool\"},{\"id\":\"ec5a52bb-02f1-4639-9d3a-70010449706e\",\"type\":\"SaveTool\"},{\"id\":\"0d4b2ff2-b985-4410-bc71-fd02aee611f0\",\"type\":\"ResetTool\"},{\"id\":\"e09aab6f-4c77-4306-a19e-9ffd53c15c58\",\"type\":\"HelpTool\"}]},\"id\":\"ffc1d652-fbab-4f6b-aa32-e6c6a19de287\",\"type\":\"Toolbar\"},{\"attributes\":{},\"id\":\"0d4b2ff2-b985-4410-bc71-fd02aee611f0\",\"type\":\"ResetTool\"},{\"attributes\":{\"line_color\":\"#4daf4a\",\"line_width\":1.5,\"x\":{\"field\":\"x\"},\"y\":{\"field\":\"y\"}},\"id\":\"e1ae549a-31ca-4a97-bc48-064db0450046\",\"type\":\"Line\"},{\"attributes\":{\"bottom_units\":\"screen\",\"fill_alpha\":{\"value\":0.5},\"fill_color\":{\"value\":\"lightgrey\"},\"left_units\":\"screen\",\"level\":\"overlay\",\"line_alpha\":{\"value\":1.0},\"line_color\":{\"value\":\"black\"},\"line_dash\":[4,4],\"line_width\":{\"value\":2},\"plot\":null,\"render_mode\":\"css\",\"right_units\":\"screen\",\"top_units\":\"screen\"},\"id\":\"4e87528c-912d-49ee-8a6c-5f5f3f5e5b0d\",\"type\":\"BoxAnnotation\"},{\"attributes\":{\"children\":[{\"id\":\"94e19f5f-ae2a-4eec-84c7-f427d5ecf6f4\",\"type\":\"Row\"}]},\"id\":\"86be20f2-de0b-4ebe-96af-45d14fabdbc9\",\"type\":\"Column\"},{\"attributes\":{\"data_source\":{\"id\":\"a536165f-7611-4a2d-80f7-4f44cb2fde55\",\"type\":\"ColumnDataSource\"},\"glyph\":{\"id\":\"e0595256-ebea-4b6c-85df-21daac50e756\",\"type\":\"Line\"},\"hover_glyph\":null,\"muted_glyph\":null,\"nonselection_glyph\":{\"id\":\"3a4217b5-4e38-4827-ab3d-50d64e2b01a0\",\"type\":\"Line\"},\"selection_glyph\":null,\"view\":{\"id\":\"ff22a751-2c91-43e2-89e2-c95a1c4d964f\",\"type\":\"CDSView\"}},\"id\":\"b8d938e0-3d2e-41da-9c9d-3c53633a3648\",\"type\":\"GlyphRenderer\"},{\"attributes\":{},\"id\":\"4473f7bc-e6c8-4cbc-be97-6b656e5818b9\",\"type\":\"LogScale\"},{\"attributes\":{\"line_alpha\":0.1,\"line_color\":\"#1f77b4\",\"line_dash\":[6],\"line_width\":5,\"x\":{\"field\":\"x\"},\"y\":{\"field\":\"y\"}},\"id\":\"3a4217b5-4e38-4827-ab3d-50d64e2b01a0\",\"type\":\"Line\"},{\"attributes\":{\"num_minor_ticks\":10},\"id\":\"65b46920-8b37-48db-b99c-c165dd22dd56\",\"type\":\"LogTicker\"},{\"attributes\":{\"fill_alpha\":{\"value\":0.1},\"fill_color\":{\"value\":\"#1f77b4\"},\"line_alpha\":{\"value\":0.1},\"line_color\":{\"value\":\"#1f77b4\"},\"x\":{\"field\":\"x\"},\"y\":{\"field\":\"y\"}},\"id\":\"9724b14f-4178-410a-a9ea-2ef1aca549ad\",\"type\":\"Circle\"},{\"attributes\":{\"dimension\":1,\"plot\":{\"id\":\"f1e842c2-23cb-4164-ab89-0a362c4807b5\",\"subtype\":\"Figure\",\"type\":\"Plot\"},\"ticker\":{\"id\":\"65b46920-8b37-48db-b99c-c165dd22dd56\",\"type\":\"LogTicker\"}},\"id\":\"e515b0b9-24f7-4e4a-8259-8d6f54dba361\",\"type\":\"Grid\"},{\"attributes\":{\"plot\":{\"id\":\"f1e842c2-23cb-4164-ab89-0a362c4807b5\",\"subtype\":\"Figure\",\"type\":\"Plot\"},\"ticker\":{\"id\":\"a4241495-0d6b-4f83-a724-425ee0967d13\",\"type\":\"BasicTicker\"}},\"id\":\"20b0dd77-2426-4cd6-b135-236c3c80ef2d\",\"type\":\"Grid\"},{\"attributes\":{\"children\":[{\"id\":\"48dc68ce-4e6a-46bb-adc5-5a5d8712c7a4\",\"subtype\":\"Figure\",\"type\":\"Plot\"},{\"id\":\"f1e842c2-23cb-4164-ab89-0a362c4807b5\",\"subtype\":\"Figure\",\"type\":\"Plot\"}]},\"id\":\"94e19f5f-ae2a-4eec-84c7-f427d5ecf6f4\",\"type\":\"Row\"},{\"attributes\":{\"data_source\":{\"id\":\"e69dd313-9a26-471b-835f-ad4fb53032d9\",\"type\":\"ColumnDataSource\"},\"glyph\":{\"id\":\"2cdadcf9-a46c-4213-b919-9d9044725b9a\",\"type\":\"Circle\"},\"hover_glyph\":null,\"muted_glyph\":null,\"nonselection_glyph\":{\"id\":\"9724b14f-4178-410a-a9ea-2ef1aca549ad\",\"type\":\"Circle\"},\"selection_glyph\":null,\"view\":{\"id\":\"3f353fa6-a482-44c1-a56d-1629e9c87cba\",\"type\":\"CDSView\"}},\"id\":\"b9484e5d-1036-46e9-a90f-d0245871c095\",\"type\":\"GlyphRenderer\"},{\"attributes\":{\"callback\":null,\"data\":{\"x\":{\"__ndarray__\":\"rFFSuCsrL7/lSssI+qMxv+kx1meewDW/ZmU23hrgOb/NTeKsDQI+vzvyuNn/EkG/dqAKVbwlQ7+Bk+um3TlFv6ydXWmUTUe//pZvA/9gSb80zseJWnRLv6xn5j67hk2/IKNUcqmZT7/wXItMrdZQv79jKBlPKVO/bhF/lq8wV784n3nzoKZav1tnjaeglVu/9AXbCiotWL+cd3hDb31Lv0AShium5T4/aqyiYifYZD8I+kg+/TBwP0kqj4I/420/soJbDM2KYD/e+Gw5w61UvzRyg1yAGHW/vK1BkEyUgb/qbougCNKIvxzcXFM+ypC/VozVTwjwk78I2FZzL4OUv0ya+BLRU5O/C8QPugVPjr99l4Sls7+BvzgDj++TKm+/J0SFAuSCWL/es8iTOPRMv/hQeonbHEi/2Bew5mrURL9tBokgglZCv97Xs2w89z+/BixdhEDsO79Ef49/o4g4v8KMjlz1yTW/0ACnaFukM78++OyMktQxv0TKtvjZJzC/ThfjACRkLb/P9Tt5re0qv4sLvYsLlSi/hWxPz60+Jr8XWUgctecjv+fapdSJkiG/HNM7XlF5Hr+IEhEI08gZv2OBvtFRGhW/gOgowrVqEL9/5f9SbG4HvyrLCFhAUPy+cvLTxub3475tLR32dE7fPoLDYH7SRPg+QlkWXAxnAz8Q+PZ9vQQKPw4pejJJRhA/aXuZXHy3Ez9HPsrEfGEXPw1nfHiqOxs/VY1peBwsHz9YJFcOjYkhP7xNoqqLZSM/RCigu5EuJT+MPKZIOPYmP9OaxQ1UsCg/\",\"dtype\":\"float64\",\"shape\":[75]},\"y\":{\"__ndarray__\":\"GhExyth1ND/Sv8nbtpRIP2vylNV0PVE/aTum7souWD/At0SJ8fVgPw3Iuahxymc/MSNhhJWvcD/bTfBN02d3P2zb5nxnaoA/CD5h5MAGhz8NmeH1TyaQP+zrCsc9p5Y/LbKd76fGnz/bLW5ISEmmPww9YvTcQq8/JV2OstnstT8Er5Y7M8G+P0c+r3jqkcU/5h99k6ZBzj88bCIzFzjVP4enV8oyxN0//yH99nXg5D8qOpLLf0jtP5kqGJXUifQ/c9cS8kHP/D+/DpwzojQEQIEmwoanVwxA4lgXt9HgE0BSSZ2AJuIbQAMJih9jjiNA5q4l5INuK0AwTKYKRj0zQNv5fmq8/DpAaCJseHrtQkB/+zpwzoxKQM3MzMzMeFJAZmZmZmZqWEAAAAAAAFxeQM3MzMzMJmJAmpmZmZkfZUBmZmZmZhhoQDMzMzMzEWtAAAAAAAAKbkBmZmZmZoFwQM3MzMzM/XFAMzMzMzN6c0CamZmZmfZ0QAAAAAAAc3ZAZmZmZmbvd0DNzMzMzGt5QDMzMzMz6HpAmpmZmZlkfEAAAAAAAOF9QGZmZmZmXX9AZmZmZuZsgECamZmZGSuBQM3MzMxM6YFAAAAAAICngkAzMzMzs2WDQGZmZmbmI4RAmpmZmRnihEDNzMzMTKCFQAAAAACAXoZAMzMzM7Mch0BmZmZm5tqHQJqZmZkZmYhAzczMzExXiUAAAAAAgBWKQDMzMzOz04pAZmZmZuaRi0CamZmZGVCMQM3MzMxMDo1AAAAAAIDMjUAzMzMzs4qOQGZmZmbmSI9A\",\"dtype\":\"float64\",\"shape\":[75]}},\"selected\":{\"id\":\"149b9cb3-e307-4f7b-904e-18e2888baa25\",\"type\":\"Selection\"},\"selection_policy\":{\"id\":\"ffda3185-3f8b-4d36-b757-7cca447496bc\",\"type\":\"UnionRenderers\"}},\"id\":\"1a35d16b-97ff-4821-8420-7567b69aca99\",\"type\":\"ColumnDataSource\"},{\"attributes\":{\"callback\":null,\"end\":0.0050312669131000005,\"start\":-0.0202798304231},\"id\":\"1051f36e-253a-44a1-911a-448eaa5c69ce\",\"type\":\"Range1d\"},{\"attributes\":{\"overlay\":{\"id\":\"4e87528c-912d-49ee-8a6c-5f5f3f5e5b0d\",\"type\":\"BoxAnnotation\"}},\"id\":\"a9ca3cd3-3242-48ae-8325-068ae262aead\",\"type\":\"BoxZoomTool\"},{\"attributes\":{\"source\":{\"id\":\"e69dd313-9a26-471b-835f-ad4fb53032d9\",\"type\":\"ColumnDataSource\"}},\"id\":\"3f353fa6-a482-44c1-a56d-1629e9c87cba\",\"type\":\"CDSView\"},{\"attributes\":{\"source\":{\"id\":\"a536165f-7611-4a2d-80f7-4f44cb2fde55\",\"type\":\"ColumnDataSource\"}},\"id\":\"ff22a751-2c91-43e2-89e2-c95a1c4d964f\",\"type\":\"CDSView\"},{\"attributes\":{\"axis_label\":\"cooling rate [K/day]\",\"formatter\":{\"id\":\"2e2d27d8-33ef-4493-890b-2c5125f3afa2\",\"type\":\"BasicTickFormatter\"},\"plot\":{\"id\":\"f1e842c2-23cb-4164-ab89-0a362c4807b5\",\"subtype\":\"Figure\",\"type\":\"Plot\"},\"ticker\":{\"id\":\"a4241495-0d6b-4f83-a724-425ee0967d13\",\"type\":\"BasicTicker\"}},\"id\":\"664a965c-4871-4f39-8a82-fa1562d1402e\",\"type\":\"LinearAxis\"},{\"attributes\":{\"fill_alpha\":{\"value\":0.7},\"fill_color\":{\"value\":\"#4daf4a\"},\"line_alpha\":{\"value\":0.7},\"line_color\":{\"value\":\"#4daf4a\"},\"x\":{\"field\":\"x\"},\"y\":{\"field\":\"y\"}},\"id\":\"2cdadcf9-a46c-4213-b919-9d9044725b9a\",\"type\":\"Circle\"},{\"attributes\":{\"line_alpha\":0.6,\"line_color\":\"#984ea3\",\"line_width\":3,\"x\":{\"field\":\"x\"},\"y\":{\"field\":\"y\"}},\"id\":\"6a9ca34e-3c8a-42b4-84db-7a8449d115c9\",\"type\":\"Line\"},{\"attributes\":{\"callback\":null,\"data\":{\"x\":{\"__ndarray__\":\"Y/ZeY2CYLr9wuScdRE8xvyUaAAjhUzW/ASQB00ZZOb9j7hSoZF89v0oh3MPUskC/Y+trGMm1Qr9iDFi4ULhEvzSY1ZwxuUa/68pEliS6SL+GrOA0+LlKv35iEOeTt0y/w5Ilje60Tr+uTQWV8lZQv6WO89Z3gFK/stsDRrkhVr/RhohLMe9YvxkFLoAK9li/R8WH6olNVL9Ig3mThTpAv4lGfXngck8/CaePRX1Haj/HXPmzdpdzPzIEMSXa4nI/TG3yopJdaT/8ceJ0DcUevzUDBWtPmnC/IOBSD8YIf79B67kDd8uGv0qd1iZ7b4+/fnUnaCvgkr+xl9hCsZGTv+wPq3dsj5K/mDpT3kpTjb/exbEtAF+Bvx81OqhD9W6/Ihqz5rSgWL+qFnqa7C5NvwXmSRsMSki/acDH7uT6RL/bUW2PnXlCv6dGuX8THEC/EUk1/hwoPL+18OAEV8A4v9GAB3A9/TW/1oJAgIXUM7+RaLk74wAyvwiCZvQLUDC/HzjXBuirLb/l1W+oHywrvyZhPY2RySi/Ce2jnBdoJr9pko1EvgQkv7+RWVOAoSG/BcneUON5Hr+JlXWxG6oZvx9SrdPJ2BS/OLIy6tgEEL/A1HMPhVcGv75S64fohPm+uCU22xcd2r6OA6rasN3nPl7nyKvj7vw+qBFyKR34BT9qkSr8hskMP7DE+o8UxBE/pcQtr39SFT+/tlC8Qh4ZP1sN3lbAHR0/uE9soxubID9DDUriDKMiPzVFZRjrlyQ/1Pjvmt57Jj/Wb/hBBlMoPw/+YxfeHSo/\",\"dtype\":\"float64\",\"shape\":[75]},\"y\":{\"__ndarray__\":\"GhExyth1ND/Sv8nbtpRIP2vylNV0PVE/aTum7souWD/At0SJ8fVgPw3Iuahxymc/MSNhhJWvcD/bTfBN02d3P2zb5nxnaoA/CD5h5MAGhz8NmeH1TyaQP+zrCsc9p5Y/LbKd76fGnz/bLW5ISEmmPww9YvTcQq8/JV2OstnstT8Er5Y7M8G+P0c+r3jqkcU/5h99k6ZBzj88bCIzFzjVP4enV8oyxN0//yH99nXg5D8qOpLLf0jtP5kqGJXUifQ/c9cS8kHP/D+/DpwzojQEQIEmwoanVwxA4lgXt9HgE0BSSZ2AJuIbQAMJih9jjiNA5q4l5INuK0AwTKYKRj0zQNv5fmq8/DpAaCJseHrtQkB/+zpwzoxKQM3MzMzMeFJAZmZmZmZqWEAAAAAAAFxeQM3MzMzMJmJAmpmZmZkfZUBmZmZmZhhoQDMzMzMzEWtAAAAAAAAKbkBmZmZmZoFwQM3MzMzM/XFAMzMzMzN6c0CamZmZmfZ0QAAAAAAAc3ZAZmZmZmbvd0DNzMzMzGt5QDMzMzMz6HpAmpmZmZlkfEAAAAAAAOF9QGZmZmZmXX9AZmZmZuZsgECamZmZGSuBQM3MzMxM6YFAAAAAAICngkAzMzMzs2WDQGZmZmbmI4RAmpmZmRnihEDNzMzMTKCFQAAAAACAXoZAMzMzM7Mch0BmZmZm5tqHQJqZmZkZmYhAzczMzExXiUAAAAAAgBWKQDMzMzOz04pAZmZmZuaRi0CamZmZGVCMQM3MzMxMDo1AAAAAAIDMjUAzMzMzs4qOQGZmZmbmSI9A\",\"dtype\":\"float64\",\"shape\":[75]}},\"selected\":{\"id\":\"629bdef1-e512-4561-a710-55d1caa317da\",\"type\":\"Selection\"},\"selection_policy\":{\"id\":\"49274fb1-b93b-4512-bdea-9c6b93900dee\",\"type\":\"UnionRenderers\"}},\"id\":\"7d14ebb0-5998-49ae-9ab2-8f5a182f5112\",\"type\":\"ColumnDataSource\"},{\"attributes\":{\"line_alpha\":0.1,\"line_color\":\"#1f77b4\",\"line_width\":1.5,\"x\":{\"field\":\"x\"},\"y\":{\"field\":\"y\"}},\"id\":\"a66df518-c016-4039-af31-aa089d3c4bad\",\"type\":\"Line\"},{\"attributes\":{\"source\":{\"id\":\"85b42ec1-ae53-4cbb-be78-ba7d3390df7b\",\"type\":\"ColumnDataSource\"}},\"id\":\"2a4e3a73-513c-4b13-90a6-6d9fa54f1423\",\"type\":\"CDSView\"},{\"attributes\":{\"data_source\":{\"id\":\"7d14ebb0-5998-49ae-9ab2-8f5a182f5112\",\"type\":\"ColumnDataSource\"},\"glyph\":{\"id\":\"e1ae549a-31ca-4a97-bc48-064db0450046\",\"type\":\"Line\"},\"hover_glyph\":null,\"muted_glyph\":null,\"nonselection_glyph\":{\"id\":\"a66df518-c016-4039-af31-aa089d3c4bad\",\"type\":\"Line\"},\"selection_glyph\":null,\"view\":{\"id\":\"e9966510-617c-4506-a981-8939e0dcd054\",\"type\":\"CDSView\"}},\"id\":\"bdf981cb-0628-4883-8c53-dc9a0cb1824f\",\"type\":\"GlyphRenderer\"},{\"attributes\":{\"line_alpha\":0.6,\"line_color\":\"#984ea3\",\"line_width\":3,\"x\":{\"field\":\"x\"},\"y\":{\"field\":\"y\"}},\"id\":\"25a87abd-d78d-4fc5-94f0-b6f0e232c55d\",\"type\":\"Line\"},{\"attributes\":{\"source\":{\"id\":\"7d14ebb0-5998-49ae-9ab2-8f5a182f5112\",\"type\":\"ColumnDataSource\"}},\"id\":\"e9966510-617c-4506-a981-8939e0dcd054\",\"type\":\"CDSView\"},{\"attributes\":{\"fill_alpha\":{\"value\":0.7},\"fill_color\":{\"value\":\"#984ea3\"},\"line_alpha\":{\"value\":0.7},\"line_color\":{\"value\":\"#984ea3\"},\"x\":{\"field\":\"x\"},\"y\":{\"field\":\"y\"}},\"id\":\"3db5e9c5-d534-48c9-aee5-3de02903b633\",\"type\":\"Square\"},{\"attributes\":{},\"id\":\"a4241495-0d6b-4f83-a724-425ee0967d13\",\"type\":\"BasicTicker\"},{\"attributes\":{\"callback\":null,\"data\":{\"x\":{\"__ndarray__\":\"rFFSuCsrL7/lSssI+qMxv+kx1meewDW/ZmU23hrgOb/NTeKsDQI+vzvyuNn/EkG/dqAKVbwlQ7+Bk+um3TlFv6ydXWmUTUe//pZvA/9gSb80zseJWnRLv6xn5j67hk2/IKNUcqmZT7/wXItMrdZQv79jKBlPKVO/bhF/lq8wV784n3nzoKZav1tnjaeglVu/9AXbCiotWL+cd3hDb31Lv0AShium5T4/aqyiYifYZD8I+kg+/TBwP0kqj4I/420/soJbDM2KYD/e+Gw5w61UvzRyg1yAGHW/vK1BkEyUgb/qbougCNKIvxzcXFM+ypC/VozVTwjwk78I2FZzL4OUv0ya+BLRU5O/C8QPugVPjr99l4Sls7+BvzgDj++TKm+/J0SFAuSCWL/es8iTOPRMv/hQeonbHEi/2Bew5mrURL9tBokgglZCv97Xs2w89z+/BixdhEDsO79Ef49/o4g4v8KMjlz1yTW/0ACnaFukM78++OyMktQxv0TKtvjZJzC/ThfjACRkLb/P9Tt5re0qv4sLvYsLlSi/hWxPz60+Jr8XWUgctecjv+fapdSJkiG/HNM7XlF5Hr+IEhEI08gZv2OBvtFRGhW/gOgowrVqEL9/5f9SbG4HvyrLCFhAUPy+cvLTxub3475tLR32dE7fPoLDYH7SRPg+QlkWXAxnAz8Q+PZ9vQQKPw4pejJJRhA/aXuZXHy3Ez9HPsrEfGEXPw1nfHiqOxs/VY1peBwsHz9YJFcOjYkhP7xNoqqLZSM/RCigu5EuJT+MPKZIOPYmP9OaxQ1UsCg/\",\"dtype\":\"float64\",\"shape\":[75]},\"y\":{\"__ndarray__\":\"GhExyth1ND/Sv8nbtpRIP2vylNV0PVE/aTum7souWD/At0SJ8fVgPw3Iuahxymc/MSNhhJWvcD/bTfBN02d3P2zb5nxnaoA/CD5h5MAGhz8NmeH1TyaQP+zrCsc9p5Y/LbKd76fGnz/bLW5ISEmmPww9YvTcQq8/JV2OstnstT8Er5Y7M8G+P0c+r3jqkcU/5h99k6ZBzj88bCIzFzjVP4enV8oyxN0//yH99nXg5D8qOpLLf0jtP5kqGJXUifQ/c9cS8kHP/D+/DpwzojQEQIEmwoanVwxA4lgXt9HgE0BSSZ2AJuIbQAMJih9jjiNA5q4l5INuK0AwTKYKRj0zQNv5fmq8/DpAaCJseHrtQkB/+zpwzoxKQM3MzMzMeFJAZmZmZmZqWEAAAAAAAFxeQM3MzMzMJmJAmpmZmZkfZUBmZmZmZhhoQDMzMzMzEWtAAAAAAAAKbkBmZmZmZoFwQM3MzMzM/XFAMzMzMzN6c0CamZmZmfZ0QAAAAAAAc3ZAZmZmZmbvd0DNzMzMzGt5QDMzMzMz6HpAmpmZmZlkfEAAAAAAAOF9QGZmZmZmXX9AZmZmZuZsgECamZmZGSuBQM3MzMxM6YFAAAAAAICngkAzMzMzs2WDQGZmZmbmI4RAmpmZmRnihEDNzMzMTKCFQAAAAACAXoZAMzMzM7Mch0BmZmZm5tqHQJqZmZkZmYhAzczMzExXiUAAAAAAgBWKQDMzMzOz04pAZmZmZuaRi0CamZmZGVCMQM3MzMxMDo1AAAAAAIDMjUAzMzMzs4qOQGZmZmbmSI9A\",\"dtype\":\"float64\",\"shape\":[75]}},\"selected\":{\"id\":\"18bae741-85e3-47f2-bbac-a7e1c63f4d7e\",\"type\":\"Selection\"},\"selection_policy\":{\"id\":\"0ffa2e67-e60c-4cf9-950c-9c6a1bfd37b5\",\"type\":\"UnionRenderers\"}},\"id\":\"85b42ec1-ae53-4cbb-be78-ba7d3390df7b\",\"type\":\"ColumnDataSource\"},{\"attributes\":{\"fill_alpha\":{\"value\":0.1},\"fill_color\":{\"value\":\"#1f77b4\"},\"line_alpha\":{\"value\":0.1},\"line_color\":{\"value\":\"#1f77b4\"},\"x\":{\"field\":\"x\"},\"y\":{\"field\":\"y\"}},\"id\":\"8dd4408e-5cf2-43cd-88ea-f3c8505ecbb8\",\"type\":\"Square\"},{\"attributes\":{\"data_source\":{\"id\":\"1a35d16b-97ff-4821-8420-7567b69aca99\",\"type\":\"ColumnDataSource\"},\"glyph\":{\"id\":\"3db5e9c5-d534-48c9-aee5-3de02903b633\",\"type\":\"Square\"},\"hover_glyph\":null,\"muted_glyph\":null,\"nonselection_glyph\":{\"id\":\"8dd4408e-5cf2-43cd-88ea-f3c8505ecbb8\",\"type\":\"Square\"},\"selection_glyph\":null,\"view\":{\"id\":\"82710744-7d70-460a-a45c-bef18ce413ba\",\"type\":\"CDSView\"}},\"id\":\"5564924e-19c2-4b60-ab89-e3a5f8a6200b\",\"type\":\"GlyphRenderer\"},{\"attributes\":{\"line_alpha\":0.6,\"line_color\":\"#e41a1c\",\"line_dash\":[6],\"line_width\":5,\"x\":{\"field\":\"x\"},\"y\":{\"field\":\"y\"}},\"id\":\"733f80bc-3056-4dd0-8a6e-6f63bc93b046\",\"type\":\"Line\"},{\"attributes\":{},\"id\":\"73fdb54a-2a36-4154-8f5e-9554a6a1c18a\",\"type\":\"WheelZoomTool\"},{\"attributes\":{\"line_alpha\":0.1,\"line_color\":\"#1f77b4\",\"line_width\":3,\"x\":{\"field\":\"x\"},\"y\":{\"field\":\"y\"}},\"id\":\"e3e64d3a-5d67-42d9-9351-b365e18a3562\",\"type\":\"Line\"},{\"attributes\":{\"source\":{\"id\":\"1a35d16b-97ff-4821-8420-7567b69aca99\",\"type\":\"ColumnDataSource\"}},\"id\":\"82710744-7d70-460a-a45c-bef18ce413ba\",\"type\":\"CDSView\"},{\"attributes\":{},\"id\":\"f618b098-c8ae-4c01-bcfb-032231e7df77\",\"type\":\"BasicTickFormatter\"},{\"attributes\":{},\"id\":\"f907a116-f2c5-4d94-8009-9a019bbd15fa\",\"type\":\"PanTool\"},{\"attributes\":{\"label\":{\"value\":\"CLIRAD `coolr_bands`\"},\"renderers\":[{\"id\":\"b8d938e0-3d2e-41da-9c9d-3c53633a3648\",\"type\":\"GlyphRenderer\"}]},\"id\":\"75af9621-7743-4659-8191-ac7387ff84a8\",\"type\":\"LegendItem\"},{\"attributes\":{},\"id\":\"ec5a52bb-02f1-4639-9d3a-70010449706e\",\"type\":\"SaveTool\"},{\"attributes\":{},\"id\":\"05058898-e16c-4254-b734-9106a9bbc494\",\"type\":\"Selection\"},{\"attributes\":{\"label\":{\"value\":\"CRD\"},\"renderers\":[{\"id\":\"b9484e5d-1036-46e9-a90f-d0245871c095\",\"type\":\"GlyphRenderer\"},{\"id\":\"bdf981cb-0628-4883-8c53-dc9a0cb1824f\",\"type\":\"GlyphRenderer\"}]},\"id\":\"e7a0ca36-7088-4b3c-9cc4-2f5542baf8da\",\"type\":\"LegendItem\"},{\"attributes\":{\"data_source\":{\"id\":\"d330d27d-325a-4646-996d-7bdf738ca061\",\"type\":\"ColumnDataSource\"},\"glyph\":{\"id\":\"25a87abd-d78d-4fc5-94f0-b6f0e232c55d\",\"type\":\"Line\"},\"hover_glyph\":null,\"muted_glyph\":null,\"nonselection_glyph\":{\"id\":\"e3e64d3a-5d67-42d9-9351-b365e18a3562\",\"type\":\"Line\"},\"selection_glyph\":null,\"view\":{\"id\":\"a6922636-e501-4341-b7dd-0ca37171f648\",\"type\":\"CDSView\"}},\"id\":\"df2445ee-d211-4cd4-92a3-8292c8eec192\",\"type\":\"GlyphRenderer\"},{\"attributes\":{},\"id\":\"500ca83b-3205-4274-b6a7-a1fa636a5049\",\"type\":\"Selection\"},{\"attributes\":{\"label\":{\"value\":\"WGT igg=10 wgt_flux=2\"},\"renderers\":[{\"id\":\"5564924e-19c2-4b60-ab89-e3a5f8a6200b\",\"type\":\"GlyphRenderer\"},{\"id\":\"354437d8-4654-4c81-87e8-a6aa94521337\",\"type\":\"GlyphRenderer\"}]},\"id\":\"6a297969-bf46-4c19-a191-7c5e684454c5\",\"type\":\"LegendItem\"},{\"attributes\":{},\"id\":\"e690e86c-7b62-42f6-a3a1-5d89f0f81f1a\",\"type\":\"UnionRenderers\"},{\"attributes\":{\"axis_label\":\"pressure [mb]\",\"formatter\":{\"id\":\"2e4a6992-17bc-4950-9577-3e9cad3b62fa\",\"type\":\"LogTickFormatter\"},\"plot\":{\"id\":\"f1e842c2-23cb-4164-ab89-0a362c4807b5\",\"subtype\":\"Figure\",\"type\":\"Plot\"},\"ticker\":{\"id\":\"65b46920-8b37-48db-b99c-c165dd22dd56\",\"type\":\"LogTicker\"}},\"id\":\"dc02b0f8-74a6-4beb-ac05-c6e69586551a\",\"type\":\"LogAxis\"},{\"attributes\":{},\"id\":\"d28de898-7a0e-4d42-8a3f-940e9d06a94e\",\"type\":\"BasicTickFormatter\"},{\"attributes\":{\"source\":{\"id\":\"d330d27d-325a-4646-996d-7bdf738ca061\",\"type\":\"ColumnDataSource\"}},\"id\":\"a6922636-e501-4341-b7dd-0ca37171f648\",\"type\":\"CDSView\"},{\"attributes\":{},\"id\":\"c955f23d-5b6a-4142-ba80-c466e67e41df\",\"type\":\"Selection\"},{\"attributes\":{},\"id\":\"88871966-76ab-44d4-ab8f-023f1dc0a5a2\",\"type\":\"UnionRenderers\"},{\"attributes\":{\"callback\":null,\"data\":{\"x\":{\"__ndarray__\":\"dnjy9h3XK7/40FMAUBMwvxuY4+kONzO/yFz+gr3dNr/VesDgJoY6v/5KAiDYMT6/GZh+1LXxQL9cfhAFuclCvxiKR0Juo0S/Gb1B1Rt+Rr8sRlg9/FlIv3PzRp7ZNUq/tkMLG94TTL8mpsgtXP1NvzFfpVUJI1G/ZahMIbfuVL/m4wSsaHpYvytzA946IVq/nvuJS1BqWL/KnMASVSFRv3Z+bwgawxC/9M5YpF8cWT+QYoskyxdlP06H2JwfGGI/2cvLsMi4Rz/8Y5m26rdhv8QvFG8m33a/U5k3RQbEgb/nYaPXX6mIv3PFs279oJC/gXRWsDK/k79swH2jcTaUv2PL40rsw5K/j6TA3NCPjL+lTG8hvRiAvwuObNljY2u/fonpG8A2Vb80xHDYFPJIvz+0VZaMw0S/tjL7QzPwQb/OSmllWpU/v1mN8PtkhDu/aD1Nm8QKOL+UVp/HLiI1vwZIGTuLxjK/YbKGOsHuML89hU9/ZcEuv9Htdw+D4Cu/H3LbXutdKb/Um4o3E0Anv/CyRkjbOyW/cwNCoI44I78UwSXyOjQhv1J8aEgCXh6/bhSNIkZVGr8571/epkUWvzU50rYTNhK/uVPav1pMDL/yznvNpycEv6HPeuHMPvi+lR+bwieq4L7rxzjczafcPkOnGx1scvU+qkUMDxARAT9iDV21/tQGP0KA8Z1vhgw/byuUeBNFET8NcItvYXcUP/aEu+Cl0Bc/7kwQBq5AGz+QxX0fSKceP73vVv5s9SA/FDyklYGLIj+kMwBa8BUkP1yCj0eulSU/\",\"dtype\":\"float64\",\"shape\":[75]},\"y\":{\"__ndarray__\":\"S/O/Q+51ND/Sv8nbtpRIP2vylNV0PVE/aTum7souWD/At0SJ8fVgPw3Iuahxymc/MSNhhJWvcD/bTfBN02d3P2zb5nxnaoA/CD5h5MAGhz8NmeH1TyaQP+zrCsc9p5Y/LbKd76fGnz/bLW5ISEmmPww9YvTcQq8/JV2OstnstT8Er5Y7M8G+P0c+r3jqkcU/5h99k6ZBzj88bCIzFzjVP4enV8oyxN0//yH99nXg5D8qOpLLf0jtP5kqGJXUifQ/c9cS8kHP/D+/DpwzojQEQIEmwoanVwxA4lgXt9HgE0BSSZ2AJuIbQAMJih9jjiNA5q4l5INuK0AwTKYKRj0zQNv5fmq8/DpAaCJseHrtQkB/+zpwzoxKQM3MzMzMeFJAZmZmZmZqWEAAAAAAAFxeQM3MzMzMJmJAmpmZmZkfZUBmZmZmZhhoQDMzMzMzEWtAAAAAAAAKbkBmZmZmZoFwQM3MzMzM/XFAMzMzMzN6c0CamZmZmfZ0QAAAAAAAc3ZAZmZmZmbvd0DNzMzMzGt5QDMzMzMz6HpAmpmZmZlkfEAAAAAAAOF9QGZmZmZmXX9AZmZmZuZsgECamZmZGSuBQM3MzMxM6YFAAAAAAICngkAzMzMzs2WDQGZmZmbmI4RAmpmZmRnihEDNzMzMTKCFQAAAAACAXoZAMzMzM7Mch0BmZmZm5tqHQJqZmZkZmYhAzczMzExXiUAAAAAAgBWKQDMzMzOz04pAZmZmZuaRi0CamZmZGVCMQM3MzMxMDo1AAAAAAIDMjUAzMzMzs4qOQGZmZmbmSI9A\",\"dtype\":\"float64\",\"shape\":[75]}},\"selected\":{\"id\":\"96a9ef42-0d99-479e-90df-1282a0d4aae8\",\"type\":\"Selection\"},\"selection_policy\":{\"id\":\"e690e86c-7b62-42f6-a3a1-5d89f0f81f1a\",\"type\":\"UnionRenderers\"}},\"id\":\"a536165f-7611-4a2d-80f7-4f44cb2fde55\",\"type\":\"ColumnDataSource\"},{\"attributes\":{},\"id\":\"87a0fcc9-e00b-45f0-9df1-a6b853772ee7\",\"type\":\"UnionRenderers\"},{\"attributes\":{\"line_alpha\":0.6,\"line_color\":\"#e41a1c\",\"line_dash\":[6],\"line_width\":5,\"x\":{\"field\":\"x\"},\"y\":{\"field\":\"y\"}},\"id\":\"e0595256-ebea-4b6c-85df-21daac50e756\",\"type\":\"Line\"},{\"attributes\":{},\"id\":\"bc45b452-b051-4712-8420-f0818d3b320c\",\"type\":\"UnionRenderers\"},{\"attributes\":{},\"id\":\"d86e5a2f-bac3-4d44-ba73-55c27d2b0009\",\"type\":\"Selection\"},{\"attributes\":{\"ticker\":null},\"id\":\"2e4a6992-17bc-4950-9577-3e9cad3b62fa\",\"type\":\"LogTickFormatter\"},{\"attributes\":{},\"id\":\"520bc135-9abc-4ae0-a8be-895fca8edc5f\",\"type\":\"Selection\"},{\"attributes\":{\"overlay\":{\"id\":\"a6bc397e-f685-402f-8b23-5186745b277f\",\"type\":\"BoxAnnotation\"}},\"id\":\"3f7f93d3-1bdd-4f9a-8417-658ac7af766e\",\"type\":\"BoxZoomTool\"},{\"attributes\":{\"plot\":null,\"text\":\"Log pressure scale\"},\"id\":\"8d48aa96-2290-45ec-ae73-a87680614aca\",\"type\":\"Title\"},{\"attributes\":{},\"id\":\"b0fec63a-f129-4181-9a7f-0cc179e87ac5\",\"type\":\"UnionRenderers\"},{\"attributes\":{},\"id\":\"e09aab6f-4c77-4306-a19e-9ffd53c15c58\",\"type\":\"HelpTool\"},{\"attributes\":{},\"id\":\"e8e47257-f155-44c0-a480-dccbd876ee27\",\"type\":\"Selection\"},{\"attributes\":{},\"id\":\"629bdef1-e512-4561-a710-55d1caa317da\",\"type\":\"Selection\"},{\"attributes\":{\"line_alpha\":0.1,\"line_color\":\"#1f77b4\",\"line_width\":3,\"x\":{\"field\":\"x\"},\"y\":{\"field\":\"y\"}},\"id\":\"8875d763-6685-4f1c-b563-14a88ddf20be\",\"type\":\"Line\"},{\"attributes\":{},\"id\":\"96a9ef42-0d99-479e-90df-1282a0d4aae8\",\"type\":\"Selection\"},{\"attributes\":{},\"id\":\"149b9cb3-e307-4f7b-904e-18e2888baa25\",\"type\":\"Selection\"},{\"attributes\":{},\"id\":\"49274fb1-b93b-4512-bdea-9c6b93900dee\",\"type\":\"UnionRenderers\"},{\"attributes\":{},\"id\":\"d19f2ee2-ea84-4e09-80ae-ff73d21e9dab\",\"type\":\"UnionRenderers\"},{\"attributes\":{},\"id\":\"ffda3185-3f8b-4d36-b757-7cca447496bc\",\"type\":\"UnionRenderers\"},{\"attributes\":{},\"id\":\"0ffa2e67-e60c-4cf9-950c-9c6a1bfd37b5\",\"type\":\"UnionRenderers\"},{\"attributes\":{\"source\":{\"id\":\"97147be3-30f6-4dd6-bcbe-884de61b5f07\",\"type\":\"ColumnDataSource\"}},\"id\":\"8547505a-159e-4c68-970a-b5ef19dae8c2\",\"type\":\"CDSView\"},{\"attributes\":{},\"id\":\"18bae741-85e3-47f2-bbac-a7e1c63f4d7e\",\"type\":\"Selection\"},{\"attributes\":{\"tools\":[{\"id\":\"f907a116-f2c5-4d94-8009-9a019bbd15fa\",\"type\":\"PanTool\"},{\"id\":\"73fdb54a-2a36-4154-8f5e-9554a6a1c18a\",\"type\":\"WheelZoomTool\"},{\"id\":\"3f7f93d3-1bdd-4f9a-8417-658ac7af766e\",\"type\":\"BoxZoomTool\"},{\"id\":\"6f869440-7348-469f-8e55-82e8fb2c2308\",\"type\":\"SaveTool\"},{\"id\":\"2a33dad3-28b9-4641-8fa2-7b7e0671dedf\",\"type\":\"ResetTool\"},{\"id\":\"1bf80765-bd0d-4977-8fbc-fc8b87a55db5\",\"type\":\"HelpTool\"},{\"id\":\"dc4c5b8d-8dca-41aa-8f9c-5833023ed241\",\"type\":\"PanTool\"},{\"id\":\"b52173c0-3dcd-4402-a206-a6ccfbb0ad5b\",\"type\":\"WheelZoomTool\"},{\"id\":\"a9ca3cd3-3242-48ae-8325-068ae262aead\",\"type\":\"BoxZoomTool\"},{\"id\":\"ec5a52bb-02f1-4639-9d3a-70010449706e\",\"type\":\"SaveTool\"},{\"id\":\"0d4b2ff2-b985-4410-bc71-fd02aee611f0\",\"type\":\"ResetTool\"},{\"id\":\"e09aab6f-4c77-4306-a19e-9ffd53c15c58\",\"type\":\"HelpTool\"}]},\"id\":\"a716b45d-8e66-4655-ab46-95545a62662c\",\"type\":\"ProxyToolbar\"},{\"attributes\":{\"callback\":null,\"end\":0.0002879111569,\"start\":-0.0087550800869},\"id\":\"29927c48-bae3-4f86-9f4b-f9b31698fce8\",\"type\":\"Range1d\"},{\"attributes\":{\"toolbar\":{\"id\":\"a716b45d-8e66-4655-ab46-95545a62662c\",\"type\":\"ProxyToolbar\"},\"toolbar_location\":\"above\"},\"id\":\"ce3dbe43-de63-424c-8fa5-0c6e8b21b98e\",\"type\":\"ToolbarBox\"},{\"attributes\":{\"children\":[{\"id\":\"ce3dbe43-de63-424c-8fa5-0c6e8b21b98e\",\"type\":\"ToolbarBox\"},{\"id\":\"86be20f2-de0b-4ebe-96af-45d14fabdbc9\",\"type\":\"Column\"}]},\"id\":\"d3ba677b-8c60-4d7b-a938-c98da5ebbd24\",\"type\":\"Column\"},{\"attributes\":{\"active_drag\":\"auto\",\"active_inspect\":\"auto\",\"active_scroll\":\"auto\",\"active_tap\":\"auto\",\"tools\":[{\"id\":\"f907a116-f2c5-4d94-8009-9a019bbd15fa\",\"type\":\"PanTool\"},{\"id\":\"73fdb54a-2a36-4154-8f5e-9554a6a1c18a\",\"type\":\"WheelZoomTool\"},{\"id\":\"3f7f93d3-1bdd-4f9a-8417-658ac7af766e\",\"type\":\"BoxZoomTool\"},{\"id\":\"6f869440-7348-469f-8e55-82e8fb2c2308\",\"type\":\"SaveTool\"},{\"id\":\"2a33dad3-28b9-4641-8fa2-7b7e0671dedf\",\"type\":\"ResetTool\"},{\"id\":\"1bf80765-bd0d-4977-8fbc-fc8b87a55db5\",\"type\":\"HelpTool\"}]},\"id\":\"3d126618-3b48-4c4e-81b4-c074c8222aa0\",\"type\":\"Toolbar\"},{\"attributes\":{\"plot\":{\"id\":\"48dc68ce-4e6a-46bb-adc5-5a5d8712c7a4\",\"subtype\":\"Figure\",\"type\":\"Plot\"},\"ticker\":{\"id\":\"f397bb15-3481-48e0-937b-6457a33e3ca9\",\"type\":\"BasicTicker\"}},\"id\":\"ae5c63a8-06a9-4f85-ae14-fc8ff0f956ee\",\"type\":\"Grid\"},{\"attributes\":{\"line_alpha\":0.1,\"line_color\":\"#1f77b4\",\"line_width\":1.5,\"x\":{\"field\":\"x\"},\"y\":{\"field\":\"y\"}},\"id\":\"0a92552a-ab63-4905-b3aa-14233d04758d\",\"type\":\"Line\"},{\"attributes\":{\"below\":[{\"id\":\"cf4d4f68-e164-4126-b381-ba66f9658b97\",\"type\":\"LinearAxis\"}],\"left\":[{\"id\":\"d1e9c1e8-89a2-4bfb-b38c-2759fec4c308\",\"type\":\"LinearAxis\"}],\"plot_height\":500,\"plot_width\":400,\"renderers\":[{\"id\":\"cf4d4f68-e164-4126-b381-ba66f9658b97\",\"type\":\"LinearAxis\"},{\"id\":\"ae5c63a8-06a9-4f85-ae14-fc8ff0f956ee\",\"type\":\"Grid\"},{\"id\":\"d1e9c1e8-89a2-4bfb-b38c-2759fec4c308\",\"type\":\"LinearAxis\"},{\"id\":\"485f3806-f145-4151-aa3b-3f7086b8c361\",\"type\":\"Grid\"},{\"id\":\"a6bc397e-f685-402f-8b23-5186745b277f\",\"type\":\"BoxAnnotation\"},{\"id\":\"9a81953d-b3a2-4de0-ad19-afdb8142cefe\",\"type\":\"GlyphRenderer\"},{\"id\":\"f24c65c5-08f9-4385-90bd-7afe1e851714\",\"type\":\"GlyphRenderer\"},{\"id\":\"e98ccd13-28a8-4d4f-85dc-fbc0cb5ef4cb\",\"type\":\"GlyphRenderer\"},{\"id\":\"f11e351b-639c-49ea-a76f-76e5d31b8957\",\"type\":\"GlyphRenderer\"},{\"id\":\"df2445ee-d211-4cd4-92a3-8292c8eec192\",\"type\":\"GlyphRenderer\"}],\"title\":{\"id\":\"a02ea04c-2516-4598-9b88-81c05e205f2b\",\"type\":\"Title\"},\"toolbar\":{\"id\":\"3d126618-3b48-4c4e-81b4-c074c8222aa0\",\"type\":\"Toolbar\"},\"toolbar_location\":null,\"x_range\":{\"id\":\"29927c48-bae3-4f86-9f4b-f9b31698fce8\",\"type\":\"Range1d\"},\"x_scale\":{\"id\":\"d246a1d2-61c7-41bc-972c-e7a23b001657\",\"type\":\"LinearScale\"},\"y_range\":{\"id\":\"e6d6855c-42fb-4512-aac6-89c6084837f7\",\"type\":\"Range1d\"},\"y_scale\":{\"id\":\"0e7b34da-067c-4a28-a0c7-ec050f6789ef\",\"type\":\"LinearScale\"}},\"id\":\"48dc68ce-4e6a-46bb-adc5-5a5d8712c7a4\",\"subtype\":\"Figure\",\"type\":\"Plot\"},{\"attributes\":{\"plot\":null,\"text\":\"Linear pressure scale\"},\"id\":\"a02ea04c-2516-4598-9b88-81c05e205f2b\",\"type\":\"Title\"},{\"attributes\":{\"callback\":null,\"end\":0.01,\"start\":1020},\"id\":\"6cd990b8-a5ee-4eaa-a35e-1ded8f52a9f6\",\"type\":\"Range1d\"},{\"attributes\":{\"below\":[{\"id\":\"664a965c-4871-4f39-8a82-fa1562d1402e\",\"type\":\"LinearAxis\"}],\"left\":[{\"id\":\"dc02b0f8-74a6-4beb-ac05-c6e69586551a\",\"type\":\"LogAxis\"}],\"plot_height\":500,\"plot_width\":560,\"renderers\":[{\"id\":\"664a965c-4871-4f39-8a82-fa1562d1402e\",\"type\":\"LinearAxis\"},{\"id\":\"20b0dd77-2426-4cd6-b135-236c3c80ef2d\",\"type\":\"Grid\"},{\"id\":\"dc02b0f8-74a6-4beb-ac05-c6e69586551a\",\"type\":\"LogAxis\"},{\"id\":\"e515b0b9-24f7-4e4a-8259-8d6f54dba361\",\"type\":\"Grid\"},{\"id\":\"4e87528c-912d-49ee-8a6c-5f5f3f5e5b0d\",\"type\":\"BoxAnnotation\"},{\"id\":\"b8d938e0-3d2e-41da-9c9d-3c53633a3648\",\"type\":\"GlyphRenderer\"},{\"id\":\"b9484e5d-1036-46e9-a90f-d0245871c095\",\"type\":\"GlyphRenderer\"},{\"id\":\"bdf981cb-0628-4883-8c53-dc9a0cb1824f\",\"type\":\"GlyphRenderer\"},{\"id\":\"5564924e-19c2-4b60-ab89-e3a5f8a6200b\",\"type\":\"GlyphRenderer\"},{\"id\":\"354437d8-4654-4c81-87e8-a6aa94521337\",\"type\":\"GlyphRenderer\"},{\"id\":\"720e3fa2-0caf-4b96-8a4b-0bd0fa5a282c\",\"type\":\"Legend\"}],\"right\":[{\"id\":\"720e3fa2-0caf-4b96-8a4b-0bd0fa5a282c\",\"type\":\"Legend\"}],\"title\":{\"id\":\"8d48aa96-2290-45ec-ae73-a87680614aca\",\"type\":\"Title\"},\"toolbar\":{\"id\":\"ffc1d652-fbab-4f6b-aa32-e6c6a19de287\",\"type\":\"Toolbar\"},\"toolbar_location\":null,\"x_range\":{\"id\":\"1051f36e-253a-44a1-911a-448eaa5c69ce\",\"type\":\"Range1d\"},\"x_scale\":{\"id\":\"2a59eea8-99e5-4b7d-a417-b8033d434f8d\",\"type\":\"LinearScale\"},\"y_range\":{\"id\":\"6cd990b8-a5ee-4eaa-a35e-1ded8f52a9f6\",\"type\":\"Range1d\"},\"y_scale\":{\"id\":\"4473f7bc-e6c8-4cbc-be97-6b656e5818b9\",\"type\":\"LogScale\"}},\"id\":\"f1e842c2-23cb-4164-ab89-0a362c4807b5\",\"subtype\":\"Figure\",\"type\":\"Plot\"},{\"attributes\":{\"callback\":null,\"data\":{\"x\":{\"__ndarray__\":\"Y/ZeY2CYLr9wuScdRE8xvyUaAAjhUzW/ASQB00ZZOb9j7hSoZF89v0oh3MPUskC/Y+trGMm1Qr9iDFi4ULhEvzSY1ZwxuUa/68pEliS6SL+GrOA0+LlKv35iEOeTt0y/w5Ilje60Tr+uTQWV8lZQv6WO89Z3gFK/stsDRrkhVr/RhohLMe9YvxkFLoAK9li/R8WH6olNVL9Ig3mThTpAv4lGfXngck8/CaePRX1Haj/HXPmzdpdzPzIEMSXa4nI/TG3yopJdaT/8ceJ0DcUevzUDBWtPmnC/IOBSD8YIf79B67kDd8uGv0qd1iZ7b4+/fnUnaCvgkr+xl9hCsZGTv+wPq3dsj5K/mDpT3kpTjb/exbEtAF+Bvx81OqhD9W6/Ihqz5rSgWL+qFnqa7C5NvwXmSRsMSki/acDH7uT6RL/bUW2PnXlCv6dGuX8THEC/EUk1/hwoPL+18OAEV8A4v9GAB3A9/TW/1oJAgIXUM7+RaLk74wAyvwiCZvQLUDC/HzjXBuirLb/l1W+oHywrvyZhPY2RySi/Ce2jnBdoJr9pko1EvgQkv7+RWVOAoSG/BcneUON5Hr+JlXWxG6oZvx9SrdPJ2BS/OLIy6tgEEL/A1HMPhVcGv75S64fohPm+uCU22xcd2r6OA6rasN3nPl7nyKvj7vw+qBFyKR34BT9qkSr8hskMP7DE+o8UxBE/pcQtr39SFT+/tlC8Qh4ZP1sN3lbAHR0/uE9soxubID9DDUriDKMiPzVFZRjrlyQ/1Pjvmt57Jj/Wb/hBBlMoPw/+YxfeHSo/\",\"dtype\":\"float64\",\"shape\":[75]},\"y\":{\"__ndarray__\":\"GhExyth1ND/Sv8nbtpRIP2vylNV0PVE/aTum7souWD/At0SJ8fVgPw3Iuahxymc/MSNhhJWvcD/bTfBN02d3P2zb5nxnaoA/CD5h5MAGhz8NmeH1TyaQP+zrCsc9p5Y/LbKd76fGnz/bLW5ISEmmPww9YvTcQq8/JV2OstnstT8Er5Y7M8G+P0c+r3jqkcU/5h99k6ZBzj88bCIzFzjVP4enV8oyxN0//yH99nXg5D8qOpLLf0jtP5kqGJXUifQ/c9cS8kHP/D+/DpwzojQEQIEmwoanVwxA4lgXt9HgE0BSSZ2AJuIbQAMJih9jjiNA5q4l5INuK0AwTKYKRj0zQNv5fmq8/DpAaCJseHrtQkB/+zpwzoxKQM3MzMzMeFJAZmZmZmZqWEAAAAAAAFxeQM3MzMzMJmJAmpmZmZkfZUBmZmZmZhhoQDMzMzMzEWtAAAAAAAAKbkBmZmZmZoFwQM3MzMzM/XFAMzMzMzN6c0CamZmZmfZ0QAAAAAAAc3ZAZmZmZmbvd0DNzMzMzGt5QDMzMzMz6HpAmpmZmZlkfEAAAAAAAOF9QGZmZmZmXX9AZmZmZuZsgECamZmZGSuBQM3MzMxM6YFAAAAAAICngkAzMzMzs2WDQGZmZmbmI4RAmpmZmRnihEDNzMzMTKCFQAAAAACAXoZAMzMzM7Mch0BmZmZm5tqHQJqZmZkZmYhAzczMzExXiUAAAAAAgBWKQDMzMzOz04pAZmZmZuaRi0CamZmZGVCMQM3MzMxMDo1AAAAAAIDMjUAzMzMzs4qOQGZmZmbmSI9A\",\"dtype\":\"float64\",\"shape\":[75]}},\"selected\":{\"id\":\"500ca83b-3205-4274-b6a7-a1fa636a5049\",\"type\":\"Selection\"},\"selection_policy\":{\"id\":\"88871966-76ab-44d4-ab8f-023f1dc0a5a2\",\"type\":\"UnionRenderers\"}},\"id\":\"61ded05b-dd17-441a-aa51-fa8bea672e21\",\"type\":\"ColumnDataSource\"},{\"attributes\":{\"data_source\":{\"id\":\"246a8f24-f171-483f-84ae-b636f80b5b8b\",\"type\":\"ColumnDataSource\"},\"glyph\":{\"id\":\"128c2aa6-d521-4059-a200-fd7fea99a9d7\",\"type\":\"Circle\"},\"hover_glyph\":null,\"muted_glyph\":null,\"nonselection_glyph\":{\"id\":\"0ae533ee-310d-46ca-860d-8ce3876cc639\",\"type\":\"Circle\"},\"selection_glyph\":null,\"view\":{\"id\":\"feb498cd-a737-4be1-9039-2d83dd9ed316\",\"type\":\"CDSView\"}},\"id\":\"f24c65c5-08f9-4385-90bd-7afe1e851714\",\"type\":\"GlyphRenderer\"},{\"attributes\":{},\"id\":\"6f869440-7348-469f-8e55-82e8fb2c2308\",\"type\":\"SaveTool\"},{\"attributes\":{\"bottom_units\":\"screen\",\"fill_alpha\":{\"value\":0.5},\"fill_color\":{\"value\":\"lightgrey\"},\"left_units\":\"screen\",\"level\":\"overlay\",\"line_alpha\":{\"value\":1.0},\"line_color\":{\"value\":\"black\"},\"line_dash\":[4,4],\"line_width\":{\"value\":2},\"plot\":null,\"render_mode\":\"css\",\"right_units\":\"screen\",\"top_units\":\"screen\"},\"id\":\"a6bc397e-f685-402f-8b23-5186745b277f\",\"type\":\"BoxAnnotation\"},{\"attributes\":{\"callback\":null,\"data\":{\"x\":{\"__ndarray__\":\"rFFSuCsrL7/lSssI+qMxv+kx1meewDW/ZmU23hrgOb/NTeKsDQI+vzvyuNn/EkG/dqAKVbwlQ7+Bk+um3TlFv6ydXWmUTUe//pZvA/9gSb80zseJWnRLv6xn5j67hk2/IKNUcqmZT7/wXItMrdZQv79jKBlPKVO/bhF/lq8wV784n3nzoKZav1tnjaeglVu/9AXbCiotWL+cd3hDb31Lv0AShium5T4/aqyiYifYZD8I+kg+/TBwP0kqj4I/420/soJbDM2KYD/e+Gw5w61UvzRyg1yAGHW/vK1BkEyUgb/qbougCNKIvxzcXFM+ypC/VozVTwjwk78I2FZzL4OUv0ya+BLRU5O/C8QPugVPjr99l4Sls7+BvzgDj++TKm+/J0SFAuSCWL/es8iTOPRMv/hQeonbHEi/2Bew5mrURL9tBokgglZCv97Xs2w89z+/BixdhEDsO79Ef49/o4g4v8KMjlz1yTW/0ACnaFukM78++OyMktQxv0TKtvjZJzC/ThfjACRkLb/P9Tt5re0qv4sLvYsLlSi/hWxPz60+Jr8XWUgctecjv+fapdSJkiG/HNM7XlF5Hr+IEhEI08gZv2OBvtFRGhW/gOgowrVqEL9/5f9SbG4HvyrLCFhAUPy+cvLTxub3475tLR32dE7fPoLDYH7SRPg+QlkWXAxnAz8Q+PZ9vQQKPw4pejJJRhA/aXuZXHy3Ez9HPsrEfGEXPw1nfHiqOxs/VY1peBwsHz9YJFcOjYkhP7xNoqqLZSM/RCigu5EuJT+MPKZIOPYmP9OaxQ1UsCg/\",\"dtype\":\"float64\",\"shape\":[75]},\"y\":{\"__ndarray__\":\"GhExyth1ND/Sv8nbtpRIP2vylNV0PVE/aTum7souWD/At0SJ8fVgPw3Iuahxymc/MSNhhJWvcD/bTfBN02d3P2zb5nxnaoA/CD5h5MAGhz8NmeH1TyaQP+zrCsc9p5Y/LbKd76fGnz/bLW5ISEmmPww9YvTcQq8/JV2OstnstT8Er5Y7M8G+P0c+r3jqkcU/5h99k6ZBzj88bCIzFzjVP4enV8oyxN0//yH99nXg5D8qOpLLf0jtP5kqGJXUifQ/c9cS8kHP/D+/DpwzojQEQIEmwoanVwxA4lgXt9HgE0BSSZ2AJuIbQAMJih9jjiNA5q4l5INuK0AwTKYKRj0zQNv5fmq8/DpAaCJseHrtQkB/+zpwzoxKQM3MzMzMeFJAZmZmZmZqWEAAAAAAAFxeQM3MzMzMJmJAmpmZmZkfZUBmZmZmZhhoQDMzMzMzEWtAAAAAAAAKbkBmZmZmZoFwQM3MzMzM/XFAMzMzMzN6c0CamZmZmfZ0QAAAAAAAc3ZAZmZmZmbvd0DNzMzMzGt5QDMzMzMz6HpAmpmZmZlkfEAAAAAAAOF9QGZmZmZmXX9AZmZmZuZsgECamZmZGSuBQM3MzMxM6YFAAAAAAICngkAzMzMzs2WDQGZmZmbmI4RAmpmZmRnihEDNzMzMTKCFQAAAAACAXoZAMzMzM7Mch0BmZmZm5tqHQJqZmZkZmYhAzczMzExXiUAAAAAAgBWKQDMzMzOz04pAZmZmZuaRi0CamZmZGVCMQM3MzMxMDo1AAAAAAIDMjUAzMzMzs4qOQGZmZmbmSI9A\",\"dtype\":\"float64\",\"shape\":[75]}},\"selected\":{\"id\":\"d86e5a2f-bac3-4d44-ba73-55c27d2b0009\",\"type\":\"Selection\"},\"selection_policy\":{\"id\":\"87a0fcc9-e00b-45f0-9df1-a6b853772ee7\",\"type\":\"UnionRenderers\"}},\"id\":\"d8ca0f09-4266-43a4-b2d3-5ea365d675c1\",\"type\":\"ColumnDataSource\"},{\"attributes\":{\"data_source\":{\"id\":\"61ded05b-dd17-441a-aa51-fa8bea672e21\",\"type\":\"ColumnDataSource\"},\"glyph\":{\"id\":\"01bc7b61-9099-4a8f-bfe4-530476fd7e55\",\"type\":\"Line\"},\"hover_glyph\":null,\"muted_glyph\":null,\"nonselection_glyph\":{\"id\":\"0a92552a-ab63-4905-b3aa-14233d04758d\",\"type\":\"Line\"},\"selection_glyph\":null,\"view\":{\"id\":\"783aa364-c776-4c9f-a77b-e9481dbce59f\",\"type\":\"CDSView\"}},\"id\":\"e98ccd13-28a8-4d4f-85dc-fbc0cb5ef4cb\",\"type\":\"GlyphRenderer\"},{\"attributes\":{},\"id\":\"1bf80765-bd0d-4977-8fbc-fc8b87a55db5\",\"type\":\"HelpTool\"},{\"attributes\":{},\"id\":\"7d76418b-ebd4-4286-b76e-6b0ad4da59d4\",\"type\":\"BasicTicker\"},{\"attributes\":{},\"id\":\"d246a1d2-61c7-41bc-972c-e7a23b001657\",\"type\":\"LinearScale\"},{\"attributes\":{\"source\":{\"id\":\"61ded05b-dd17-441a-aa51-fa8bea672e21\",\"type\":\"ColumnDataSource\"}},\"id\":\"783aa364-c776-4c9f-a77b-e9481dbce59f\",\"type\":\"CDSView\"},{\"attributes\":{\"source\":{\"id\":\"d8ca0f09-4266-43a4-b2d3-5ea365d675c1\",\"type\":\"ColumnDataSource\"}},\"id\":\"54cc1bdd-5c81-43ed-ac2b-ba0fec853bde\",\"type\":\"CDSView\"},{\"attributes\":{},\"id\":\"0e7b34da-067c-4a28-a0c7-ec050f6789ef\",\"type\":\"LinearScale\"},{\"attributes\":{\"fill_alpha\":{\"value\":0.1},\"fill_color\":{\"value\":\"#1f77b4\"},\"line_alpha\":{\"value\":0.1},\"line_color\":{\"value\":\"#1f77b4\"},\"x\":{\"field\":\"x\"},\"y\":{\"field\":\"y\"}},\"id\":\"0ae533ee-310d-46ca-860d-8ce3876cc639\",\"type\":\"Circle\"},{\"attributes\":{},\"id\":\"2a33dad3-28b9-4641-8fa2-7b7e0671dedf\",\"type\":\"ResetTool\"},{\"attributes\":{\"callback\":null,\"data\":{\"x\":{\"__ndarray__\":\"dnjy9h3XK7/40FMAUBMwvxuY4+kONzO/yFz+gr3dNr/VesDgJoY6v/5KAiDYMT6/GZh+1LXxQL9cfhAFuclCvxiKR0Juo0S/Gb1B1Rt+Rr8sRlg9/FlIv3PzRp7ZNUq/tkMLG94TTL8mpsgtXP1NvzFfpVUJI1G/ZahMIbfuVL/m4wSsaHpYvytzA946IVq/nvuJS1BqWL/KnMASVSFRv3Z+bwgawxC/9M5YpF8cWT+QYoskyxdlP06H2JwfGGI/2cvLsMi4Rz/8Y5m26rdhv8QvFG8m33a/U5k3RQbEgb/nYaPXX6mIv3PFs279oJC/gXRWsDK/k79swH2jcTaUv2PL40rsw5K/j6TA3NCPjL+lTG8hvRiAvwuObNljY2u/fonpG8A2Vb80xHDYFPJIvz+0VZaMw0S/tjL7QzPwQb/OSmllWpU/v1mN8PtkhDu/aD1Nm8QKOL+UVp/HLiI1vwZIGTuLxjK/YbKGOsHuML89hU9/ZcEuv9Htdw+D4Cu/H3LbXutdKb/Um4o3E0Anv/CyRkjbOyW/cwNCoI44I78UwSXyOjQhv1J8aEgCXh6/bhSNIkZVGr8571/epkUWvzU50rYTNhK/uVPav1pMDL/yznvNpycEv6HPeuHMPvi+lR+bwieq4L7rxzjczafcPkOnGx1scvU+qkUMDxARAT9iDV21/tQGP0KA8Z1vhgw/byuUeBNFET8NcItvYXcUP/aEu+Cl0Bc/7kwQBq5AGz+QxX0fSKceP73vVv5s9SA/FDyklYGLIj+kMwBa8BUkP1yCj0eulSU/\",\"dtype\":\"float64\",\"shape\":[75]},\"y\":{\"__ndarray__\":\"S/O/Q+51ND/Sv8nbtpRIP2vylNV0PVE/aTum7souWD/At0SJ8fVgPw3Iuahxymc/MSNhhJWvcD/bTfBN02d3P2zb5nxnaoA/CD5h5MAGhz8NmeH1TyaQP+zrCsc9p5Y/LbKd76fGnz/bLW5ISEmmPww9YvTcQq8/JV2OstnstT8Er5Y7M8G+P0c+r3jqkcU/5h99k6ZBzj88bCIzFzjVP4enV8oyxN0//yH99nXg5D8qOpLLf0jtP5kqGJXUifQ/c9cS8kHP/D+/DpwzojQEQIEmwoanVwxA4lgXt9HgE0BSSZ2AJuIbQAMJih9jjiNA5q4l5INuK0AwTKYKRj0zQNv5fmq8/DpAaCJseHrtQkB/+zpwzoxKQM3MzMzMeFJAZmZmZmZqWEAAAAAAAFxeQM3MzMzMJmJAmpmZmZkfZUBmZmZmZhhoQDMzMzMzEWtAAAAAAAAKbkBmZmZmZoFwQM3MzMzM/XFAMzMzMzN6c0CamZmZmfZ0QAAAAAAAc3ZAZmZmZmbvd0DNzMzMzGt5QDMzMzMz6HpAmpmZmZlkfEAAAAAAAOF9QGZmZmZmXX9AZmZmZuZsgECamZmZGSuBQM3MzMxM6YFAAAAAAICngkAzMzMzs2WDQGZmZmbmI4RAmpmZmRnihEDNzMzMTKCFQAAAAACAXoZAMzMzM7Mch0BmZmZm5tqHQJqZmZkZmYhAzczMzExXiUAAAAAAgBWKQDMzMzOz04pAZmZmZuaRi0CamZmZGVCMQM3MzMxMDo1AAAAAAIDMjUAzMzMzs4qOQGZmZmbmSI9A\",\"dtype\":\"float64\",\"shape\":[75]}},\"selected\":{\"id\":\"05058898-e16c-4254-b734-9106a9bbc494\",\"type\":\"Selection\"},\"selection_policy\":{\"id\":\"be63ad34-fc30-4e83-98d3-1201133b7576\",\"type\":\"UnionRenderers\"}},\"id\":\"97147be3-30f6-4dd6-bcbe-884de61b5f07\",\"type\":\"ColumnDataSource\"},{\"attributes\":{\"data_source\":{\"id\":\"d8ca0f09-4266-43a4-b2d3-5ea365d675c1\",\"type\":\"ColumnDataSource\"},\"glyph\":{\"id\":\"b500e7b4-8ed1-4125-b1ab-eef2dc59b685\",\"type\":\"Square\"},\"hover_glyph\":null,\"muted_glyph\":null,\"nonselection_glyph\":{\"id\":\"49371d10-79f2-4562-a1e5-7c871786b3b2\",\"type\":\"Square\"},\"selection_glyph\":null,\"view\":{\"id\":\"54cc1bdd-5c81-43ed-ac2b-ba0fec853bde\",\"type\":\"CDSView\"}},\"id\":\"f11e351b-639c-49ea-a76f-76e5d31b8957\",\"type\":\"GlyphRenderer\"},{\"attributes\":{\"axis_label\":\"pressure [mb]\",\"formatter\":{\"id\":\"d28de898-7a0e-4d42-8a3f-940e9d06a94e\",\"type\":\"BasicTickFormatter\"},\"plot\":{\"id\":\"48dc68ce-4e6a-46bb-adc5-5a5d8712c7a4\",\"subtype\":\"Figure\",\"type\":\"Plot\"},\"ticker\":{\"id\":\"7d76418b-ebd4-4286-b76e-6b0ad4da59d4\",\"type\":\"BasicTicker\"}},\"id\":\"d1e9c1e8-89a2-4bfb-b38c-2759fec4c308\",\"type\":\"LinearAxis\"},{\"attributes\":{\"callback\":null,\"data\":{\"x\":{\"__ndarray__\":\"Y/ZeY2CYLr9wuScdRE8xvyUaAAjhUzW/ASQB00ZZOb9j7hSoZF89v0oh3MPUskC/Y+trGMm1Qr9iDFi4ULhEvzSY1ZwxuUa/68pEliS6SL+GrOA0+LlKv35iEOeTt0y/w5Ilje60Tr+uTQWV8lZQv6WO89Z3gFK/stsDRrkhVr/RhohLMe9YvxkFLoAK9li/R8WH6olNVL9Ig3mThTpAv4lGfXngck8/CaePRX1Haj/HXPmzdpdzPzIEMSXa4nI/TG3yopJdaT/8ceJ0DcUevzUDBWtPmnC/IOBSD8YIf79B67kDd8uGv0qd1iZ7b4+/fnUnaCvgkr+xl9hCsZGTv+wPq3dsj5K/mDpT3kpTjb/exbEtAF+Bvx81OqhD9W6/Ihqz5rSgWL+qFnqa7C5NvwXmSRsMSki/acDH7uT6RL/bUW2PnXlCv6dGuX8THEC/EUk1/hwoPL+18OAEV8A4v9GAB3A9/TW/1oJAgIXUM7+RaLk74wAyvwiCZvQLUDC/HzjXBuirLb/l1W+oHywrvyZhPY2RySi/Ce2jnBdoJr9pko1EvgQkv7+RWVOAoSG/BcneUON5Hr+JlXWxG6oZvx9SrdPJ2BS/OLIy6tgEEL/A1HMPhVcGv75S64fohPm+uCU22xcd2r6OA6rasN3nPl7nyKvj7vw+qBFyKR34BT9qkSr8hskMP7DE+o8UxBE/pcQtr39SFT+/tlC8Qh4ZP1sN3lbAHR0/uE9soxubID9DDUriDKMiPzVFZRjrlyQ/1Pjvmt57Jj/Wb/hBBlMoPw/+YxfeHSo/\",\"dtype\":\"float64\",\"shape\":[75]},\"y\":{\"__ndarray__\":\"GhExyth1ND/Sv8nbtpRIP2vylNV0PVE/aTum7souWD/At0SJ8fVgPw3Iuahxymc/MSNhhJWvcD/bTfBN02d3P2zb5nxnaoA/CD5h5MAGhz8NmeH1TyaQP+zrCsc9p5Y/LbKd76fGnz/bLW5ISEmmPww9YvTcQq8/JV2OstnstT8Er5Y7M8G+P0c+r3jqkcU/5h99k6ZBzj88bCIzFzjVP4enV8oyxN0//yH99nXg5D8qOpLLf0jtP5kqGJXUifQ/c9cS8kHP/D+/DpwzojQEQIEmwoanVwxA4lgXt9HgE0BSSZ2AJuIbQAMJih9jjiNA5q4l5INuK0AwTKYKRj0zQNv5fmq8/DpAaCJseHrtQkB/+zpwzoxKQM3MzMzMeFJAZmZmZmZqWEAAAAAAAFxeQM3MzMzMJmJAmpmZmZkfZUBmZmZmZhhoQDMzMzMzEWtAAAAAAAAKbkBmZmZmZoFwQM3MzMzM/XFAMzMzMzN6c0CamZmZmfZ0QAAAAAAAc3ZAZmZmZmbvd0DNzMzMzGt5QDMzMzMz6HpAmpmZmZlkfEAAAAAAAOF9QGZmZmZmXX9AZmZmZuZsgECamZmZGSuBQM3MzMxM6YFAAAAAAICngkAzMzMzs2WDQGZmZmbmI4RAmpmZmRnihEDNzMzMTKCFQAAAAACAXoZAMzMzM7Mch0BmZmZm5tqHQJqZmZkZmYhAzczMzExXiUAAAAAAgBWKQDMzMzOz04pAZmZmZuaRi0CamZmZGVCMQM3MzMxMDo1AAAAAAIDMjUAzMzMzs4qOQGZmZmbmSI9A\",\"dtype\":\"float64\",\"shape\":[75]}},\"selected\":{\"id\":\"c955f23d-5b6a-4142-ba80-c466e67e41df\",\"type\":\"Selection\"},\"selection_policy\":{\"id\":\"bc45b452-b051-4712-8420-f0818d3b320c\",\"type\":\"UnionRenderers\"}},\"id\":\"246a8f24-f171-483f-84ae-b636f80b5b8b\",\"type\":\"ColumnDataSource\"},{\"attributes\":{\"axis_label\":\"cooling rate [K/day]\",\"formatter\":{\"id\":\"f618b098-c8ae-4c01-bcfb-032231e7df77\",\"type\":\"BasicTickFormatter\"},\"plot\":{\"id\":\"48dc68ce-4e6a-46bb-adc5-5a5d8712c7a4\",\"subtype\":\"Figure\",\"type\":\"Plot\"},\"ticker\":{\"id\":\"f397bb15-3481-48e0-937b-6457a33e3ca9\",\"type\":\"BasicTicker\"}},\"id\":\"cf4d4f68-e164-4126-b381-ba66f9658b97\",\"type\":\"LinearAxis\"},{\"attributes\":{\"line_alpha\":0.1,\"line_color\":\"#1f77b4\",\"line_dash\":[6],\"line_width\":5,\"x\":{\"field\":\"x\"},\"y\":{\"field\":\"y\"}},\"id\":\"a563c242-6f0e-4248-8418-f1e183513fa8\",\"type\":\"Line\"},{\"attributes\":{\"fill_alpha\":{\"value\":0.7},\"fill_color\":{\"value\":\"#4daf4a\"},\"line_alpha\":{\"value\":0.7},\"line_color\":{\"value\":\"#4daf4a\"},\"x\":{\"field\":\"x\"},\"y\":{\"field\":\"y\"}},\"id\":\"128c2aa6-d521-4059-a200-fd7fea99a9d7\",\"type\":\"Circle\"},{\"attributes\":{},\"id\":\"2e2d27d8-33ef-4493-890b-2c5125f3afa2\",\"type\":\"BasicTickFormatter\"},{\"attributes\":{\"line_color\":\"#4daf4a\",\"line_width\":1.5,\"x\":{\"field\":\"x\"},\"y\":{\"field\":\"y\"}},\"id\":\"01bc7b61-9099-4a8f-bfe4-530476fd7e55\",\"type\":\"Line\"},{\"attributes\":{},\"id\":\"f397bb15-3481-48e0-937b-6457a33e3ca9\",\"type\":\"BasicTicker\"},{\"attributes\":{\"source\":{\"id\":\"246a8f24-f171-483f-84ae-b636f80b5b8b\",\"type\":\"ColumnDataSource\"}},\"id\":\"feb498cd-a737-4be1-9039-2d83dd9ed316\",\"type\":\"CDSView\"},{\"attributes\":{\"fill_alpha\":{\"value\":0.7},\"fill_color\":{\"value\":\"#984ea3\"},\"line_alpha\":{\"value\":0.7},\"line_color\":{\"value\":\"#984ea3\"},\"x\":{\"field\":\"x\"},\"y\":{\"field\":\"y\"}},\"id\":\"b500e7b4-8ed1-4125-b1ab-eef2dc59b685\",\"type\":\"Square\"},{\"attributes\":{\"dimension\":1,\"plot\":{\"id\":\"48dc68ce-4e6a-46bb-adc5-5a5d8712c7a4\",\"subtype\":\"Figure\",\"type\":\"Plot\"},\"ticker\":{\"id\":\"7d76418b-ebd4-4286-b76e-6b0ad4da59d4\",\"type\":\"BasicTicker\"}},\"id\":\"485f3806-f145-4151-aa3b-3f7086b8c361\",\"type\":\"Grid\"},{\"attributes\":{\"callback\":null,\"data\":{\"x\":{\"__ndarray__\":\"rFFSuCsrL7/lSssI+qMxv+kx1meewDW/ZmU23hrgOb/NTeKsDQI+vzvyuNn/EkG/dqAKVbwlQ7+Bk+um3TlFv6ydXWmUTUe//pZvA/9gSb80zseJWnRLv6xn5j67hk2/IKNUcqmZT7/wXItMrdZQv79jKBlPKVO/bhF/lq8wV784n3nzoKZav1tnjaeglVu/9AXbCiotWL+cd3hDb31Lv0AShium5T4/aqyiYifYZD8I+kg+/TBwP0kqj4I/420/soJbDM2KYD/e+Gw5w61UvzRyg1yAGHW/vK1BkEyUgb/qbougCNKIvxzcXFM+ypC/VozVTwjwk78I2FZzL4OUv0ya+BLRU5O/C8QPugVPjr99l4Sls7+BvzgDj++TKm+/J0SFAuSCWL/es8iTOPRMv/hQeonbHEi/2Bew5mrURL9tBokgglZCv97Xs2w89z+/BixdhEDsO79Ef49/o4g4v8KMjlz1yTW/0ACnaFukM78++OyMktQxv0TKtvjZJzC/ThfjACRkLb/P9Tt5re0qv4sLvYsLlSi/hWxPz60+Jr8XWUgctecjv+fapdSJkiG/HNM7XlF5Hr+IEhEI08gZv2OBvtFRGhW/gOgowrVqEL9/5f9SbG4HvyrLCFhAUPy+cvLTxub3475tLR32dE7fPoLDYH7SRPg+QlkWXAxnAz8Q+PZ9vQQKPw4pejJJRhA/aXuZXHy3Ez9HPsrEfGEXPw1nfHiqOxs/VY1peBwsHz9YJFcOjYkhP7xNoqqLZSM/RCigu5EuJT+MPKZIOPYmP9OaxQ1UsCg/\",\"dtype\":\"float64\",\"shape\":[75]},\"y\":{\"__ndarray__\":\"GhExyth1ND/Sv8nbtpRIP2vylNV0PVE/aTum7souWD/At0SJ8fVgPw3Iuahxymc/MSNhhJWvcD/bTfBN02d3P2zb5nxnaoA/CD5h5MAGhz8NmeH1TyaQP+zrCsc9p5Y/LbKd76fGnz/bLW5ISEmmPww9YvTcQq8/JV2OstnstT8Er5Y7M8G+P0c+r3jqkcU/5h99k6ZBzj88bCIzFzjVP4enV8oyxN0//yH99nXg5D8qOpLLf0jtP5kqGJXUifQ/c9cS8kHP/D+/DpwzojQEQIEmwoanVwxA4lgXt9HgE0BSSZ2AJuIbQAMJih9jjiNA5q4l5INuK0AwTKYKRj0zQNv5fmq8/DpAaCJseHrtQkB/+zpwzoxKQM3MzMzMeFJAZmZmZmZqWEAAAAAAAFxeQM3MzMzMJmJAmpmZmZkfZUBmZmZmZhhoQDMzMzMzEWtAAAAAAAAKbkBmZmZmZoFwQM3MzMzM/XFAMzMzMzN6c0CamZmZmfZ0QAAAAAAAc3ZAZmZmZmbvd0DNzMzMzGt5QDMzMzMz6HpAmpmZmZlkfEAAAAAAAOF9QGZmZmZmXX9AZmZmZuZsgECamZmZGSuBQM3MzMxM6YFAAAAAAICngkAzMzMzs2WDQGZmZmbmI4RAmpmZmRnihEDNzMzMTKCFQAAAAACAXoZAMzMzM7Mch0BmZmZm5tqHQJqZmZkZmYhAzczMzExXiUAAAAAAgBWKQDMzMzOz04pAZmZmZuaRi0CamZmZGVCMQM3MzMxMDo1AAAAAAIDMjUAzMzMzs4qOQGZmZmbmSI9A\",\"dtype\":\"float64\",\"shape\":[75]}},\"selected\":{\"id\":\"e8e47257-f155-44c0-a480-dccbd876ee27\",\"type\":\"Selection\"},\"selection_policy\":{\"id\":\"b0fec63a-f129-4181-9a7f-0cc179e87ac5\",\"type\":\"UnionRenderers\"}},\"id\":\"d330d27d-325a-4646-996d-7bdf738ca061\",\"type\":\"ColumnDataSource\"},{\"attributes\":{\"fill_alpha\":{\"value\":0.1},\"fill_color\":{\"value\":\"#1f77b4\"},\"line_alpha\":{\"value\":0.1},\"line_color\":{\"value\":\"#1f77b4\"},\"x\":{\"field\":\"x\"},\"y\":{\"field\":\"y\"}},\"id\":\"49371d10-79f2-4562-a1e5-7c871786b3b2\",\"type\":\"Square\"},{\"attributes\":{},\"id\":\"be63ad34-fc30-4e83-98d3-1201133b7576\",\"type\":\"UnionRenderers\"},{\"attributes\":{\"callback\":null,\"end\":0.01,\"start\":1020},\"id\":\"e6d6855c-42fb-4512-aac6-89c6084837f7\",\"type\":\"Range1d\"},{\"attributes\":{\"data_source\":{\"id\":\"97147be3-30f6-4dd6-bcbe-884de61b5f07\",\"type\":\"ColumnDataSource\"},\"glyph\":{\"id\":\"733f80bc-3056-4dd0-8a6e-6f63bc93b046\",\"type\":\"Line\"},\"hover_glyph\":null,\"muted_glyph\":null,\"nonselection_glyph\":{\"id\":\"a563c242-6f0e-4248-8418-f1e183513fa8\",\"type\":\"Line\"},\"selection_glyph\":null,\"view\":{\"id\":\"8547505a-159e-4c68-970a-b5ef19dae8c2\",\"type\":\"CDSView\"}},\"id\":\"9a81953d-b3a2-4de0-ad19-afdb8142cefe\",\"type\":\"GlyphRenderer\"}],\"root_ids\":[\"d3ba677b-8c60-4d7b-a938-c98da5ebbd24\"]},\"title\":\"Bokeh Application\",\"version\":\"0.12.16\"}};\n",
       "  var render_items = [{\"docid\":\"78ea5aee-d76d-4846-b3e6-4749fce5a81d\",\"elementid\":\"6d571dc7-d3a1-4e30-837d-37bb6c39f7ab\",\"modelid\":\"d3ba677b-8c60-4d7b-a938-c98da5ebbd24\"}];\n",
       "  root.Bokeh.embed.embed_items_notebook(docs_json, render_items);\n",
       "\n",
       "  }\n",
       "  if (root.Bokeh !== undefined) {\n",
       "    embed_document(root);\n",
       "  } else {\n",
       "    var attempts = 0;\n",
       "    var timer = setInterval(function(root) {\n",
       "      if (root.Bokeh !== undefined) {\n",
       "        embed_document(root);\n",
       "        clearInterval(timer);\n",
       "      }\n",
       "      attempts++;\n",
       "      if (attempts > 100) {\n",
       "        console.log(\"Bokeh: ERROR: Unable to run BokehJS code because BokehJS library is missing\")\n",
       "        clearInterval(timer);\n",
       "      }\n",
       "    }, 10, root)\n",
       "  }\n",
       "})(window);"
      ],
      "application/vnd.bokehjs_exec.v0+json": ""
     },
     "metadata": {
      "application/vnd.bokehjs_exec.v0+json": {
       "id": "d3ba677b-8c60-4d7b-a938-c98da5ebbd24"
      }
     },
     "output_type": "display_data"
    },
    {
     "name": "stdout",
     "output_type": "stream",
     "text": [
      "FIGURE. Cooling rate profiles.\n"
     ]
    },
    {
     "data": {
      "text/html": [
       "<a id=\"Flux_Comparison\"></a>"
      ],
      "text/plain": [
       "<IPython.core.display.HTML object>"
      ]
     },
     "metadata": {},
     "output_type": "display_data"
    },
    {
     "data": {
      "text/markdown": [
       "# Flux Comparison"
      ],
      "text/plain": [
       "<IPython.core.display.Markdown object>"
      ]
     },
     "metadata": {},
     "output_type": "display_data"
    },
    {
     "data": {
      "text/html": [
       "<div>\n",
       "<style scoped>\n",
       "    .dataframe tbody tr th:only-of-type {\n",
       "        vertical-align: middle;\n",
       "    }\n",
       "\n",
       "    .dataframe tbody tr th {\n",
       "        vertical-align: top;\n",
       "    }\n",
       "\n",
       "    .dataframe thead th {\n",
       "        text-align: right;\n",
       "    }\n",
       "</style>\n",
       "<table border=\"1\" class=\"dataframe\">\n",
       "  <thead>\n",
       "    <tr style=\"text-align: right;\">\n",
       "      <th></th>\n",
       "      <th></th>\n",
       "      <th>flug</th>\n",
       "      <th>fldg</th>\n",
       "      <th>fnetg</th>\n",
       "    </tr>\n",
       "    <tr>\n",
       "      <th>pressure</th>\n",
       "      <th>level</th>\n",
       "      <th></th>\n",
       "      <th></th>\n",
       "      <th></th>\n",
       "    </tr>\n",
       "  </thead>\n",
       "  <tbody>\n",
       "    <tr>\n",
       "      <th>0.0000</th>\n",
       "      <th>1</th>\n",
       "      <td>-8.046576</td>\n",
       "      <td>0.000000</td>\n",
       "      <td>-8.046576</td>\n",
       "    </tr>\n",
       "    <tr>\n",
       "      <th>1.0685</th>\n",
       "      <th>24</th>\n",
       "      <td>-8.046767</td>\n",
       "      <td>0.000418</td>\n",
       "      <td>-8.046349</td>\n",
       "    </tr>\n",
       "    <tr>\n",
       "      <th>1013.0000</th>\n",
       "      <th>76</th>\n",
       "      <td>-8.185140</td>\n",
       "      <td>0.014767</td>\n",
       "      <td>-8.170373</td>\n",
       "    </tr>\n",
       "  </tbody>\n",
       "</table>\n",
       "</div>"
      ],
      "text/plain": [
       "                     flug      fldg     fnetg\n",
       "pressure  level                              \n",
       "0.0000    1     -8.046576  0.000000 -8.046576\n",
       "1.0685    24    -8.046767  0.000418 -8.046349\n",
       "1013.0000 76    -8.185140  0.014767 -8.170373"
      ]
     },
     "metadata": {},
     "output_type": "display_data"
    },
    {
     "name": "stdout",
     "output_type": "stream",
     "text": [
      "Table. Fluxes. CRD\n"
     ]
    },
    {
     "data": {
      "text/html": [
       "<div>\n",
       "<style scoped>\n",
       "    .dataframe tbody tr th:only-of-type {\n",
       "        vertical-align: middle;\n",
       "    }\n",
       "\n",
       "    .dataframe tbody tr th {\n",
       "        vertical-align: top;\n",
       "    }\n",
       "\n",
       "    .dataframe thead th {\n",
       "        text-align: right;\n",
       "    }\n",
       "</style>\n",
       "<table border=\"1\" class=\"dataframe\">\n",
       "  <thead>\n",
       "    <tr style=\"text-align: right;\">\n",
       "      <th></th>\n",
       "      <th></th>\n",
       "      <th>flug</th>\n",
       "      <th>fldg</th>\n",
       "      <th>fnetg</th>\n",
       "    </tr>\n",
       "    <tr>\n",
       "      <th>pressure</th>\n",
       "      <th>level</th>\n",
       "      <th></th>\n",
       "      <th></th>\n",
       "      <th></th>\n",
       "    </tr>\n",
       "  </thead>\n",
       "  <tbody>\n",
       "    <tr>\n",
       "      <th>0.0000</th>\n",
       "      <th>1</th>\n",
       "      <td>-8.042373</td>\n",
       "      <td>0.000000</td>\n",
       "      <td>-8.042373</td>\n",
       "    </tr>\n",
       "    <tr>\n",
       "      <th>1.0685</th>\n",
       "      <th>24</th>\n",
       "      <td>-8.042604</td>\n",
       "      <td>0.000393</td>\n",
       "      <td>-8.042211</td>\n",
       "    </tr>\n",
       "    <tr>\n",
       "      <th>1013.0000</th>\n",
       "      <th>76</th>\n",
       "      <td>-8.185140</td>\n",
       "      <td>0.014226</td>\n",
       "      <td>-8.170914</td>\n",
       "    </tr>\n",
       "  </tbody>\n",
       "</table>\n",
       "</div>"
      ],
      "text/plain": [
       "                     flug      fldg     fnetg\n",
       "pressure  level                              \n",
       "0.0000    1     -8.042373  0.000000 -8.042373\n",
       "1.0685    24    -8.042604  0.000393 -8.042211\n",
       "1013.0000 76    -8.185140  0.014226 -8.170914"
      ]
     },
     "metadata": {},
     "output_type": "display_data"
    },
    {
     "name": "stdout",
     "output_type": "stream",
     "text": [
      "Table. Fluxes. WGT igg=10 wgt_flux=1\n"
     ]
    },
    {
     "data": {
      "text/html": [
       "<div>\n",
       "<style scoped>\n",
       "    .dataframe tbody tr th:only-of-type {\n",
       "        vertical-align: middle;\n",
       "    }\n",
       "\n",
       "    .dataframe tbody tr th {\n",
       "        vertical-align: top;\n",
       "    }\n",
       "\n",
       "    .dataframe thead th {\n",
       "        text-align: right;\n",
       "    }\n",
       "</style>\n",
       "<table border=\"1\" class=\"dataframe\">\n",
       "  <thead>\n",
       "    <tr style=\"text-align: right;\">\n",
       "      <th></th>\n",
       "      <th></th>\n",
       "      <th>flug</th>\n",
       "      <th>fldg</th>\n",
       "      <th>fnetg</th>\n",
       "    </tr>\n",
       "    <tr>\n",
       "      <th>pressure</th>\n",
       "      <th>level</th>\n",
       "      <th></th>\n",
       "      <th></th>\n",
       "      <th></th>\n",
       "    </tr>\n",
       "  </thead>\n",
       "  <tbody>\n",
       "    <tr>\n",
       "      <th>1.000000e-08</th>\n",
       "      <th>1</th>\n",
       "      <td>-8.051348</td>\n",
       "      <td>0.000002</td>\n",
       "      <td>-8.051346</td>\n",
       "    </tr>\n",
       "    <tr>\n",
       "      <th>1.068500e+00</th>\n",
       "      <th>24</th>\n",
       "      <td>-8.051592</td>\n",
       "      <td>0.000321</td>\n",
       "      <td>-8.051271</td>\n",
       "    </tr>\n",
       "    <tr>\n",
       "      <th>1.013000e+03</th>\n",
       "      <th>76</th>\n",
       "      <td>-8.185140</td>\n",
       "      <td>0.012814</td>\n",
       "      <td>-8.172326</td>\n",
       "    </tr>\n",
       "  </tbody>\n",
       "</table>\n",
       "</div>"
      ],
      "text/plain": [
       "                        flug      fldg     fnetg\n",
       "pressure     level                              \n",
       "1.000000e-08 1     -8.051348  0.000002 -8.051346\n",
       "1.068500e+00 24    -8.051592  0.000321 -8.051271\n",
       "1.013000e+03 76    -8.185140  0.012814 -8.172326"
      ]
     },
     "metadata": {},
     "output_type": "display_data"
    },
    {
     "name": "stdout",
     "output_type": "stream",
     "text": [
      "Table. Fluxes. CLIRAD\n"
     ]
    },
    {
     "data": {
      "text/html": [
       "<div>\n",
       "<style scoped>\n",
       "    .dataframe tbody tr th:only-of-type {\n",
       "        vertical-align: middle;\n",
       "    }\n",
       "\n",
       "    .dataframe tbody tr th {\n",
       "        vertical-align: top;\n",
       "    }\n",
       "\n",
       "    .dataframe thead th {\n",
       "        text-align: right;\n",
       "    }\n",
       "</style>\n",
       "<table border=\"1\" class=\"dataframe\">\n",
       "  <thead>\n",
       "    <tr style=\"text-align: right;\">\n",
       "      <th></th>\n",
       "      <th></th>\n",
       "      <th>flug</th>\n",
       "      <th>fldg</th>\n",
       "      <th>fnetg</th>\n",
       "    </tr>\n",
       "    <tr>\n",
       "      <th>pressure</th>\n",
       "      <th>level</th>\n",
       "      <th></th>\n",
       "      <th></th>\n",
       "      <th></th>\n",
       "    </tr>\n",
       "  </thead>\n",
       "  <tbody>\n",
       "    <tr>\n",
       "      <th>0.0000</th>\n",
       "      <th>1</th>\n",
       "      <td>4.202873e-03</td>\n",
       "      <td>0.000000</td>\n",
       "      <td>0.004203</td>\n",
       "    </tr>\n",
       "    <tr>\n",
       "      <th>1.0685</th>\n",
       "      <th>24</th>\n",
       "      <td>4.163447e-03</td>\n",
       "      <td>-0.000026</td>\n",
       "      <td>0.004138</td>\n",
       "    </tr>\n",
       "    <tr>\n",
       "      <th>1013.0000</th>\n",
       "      <th>76</th>\n",
       "      <td>2.350000e-08</td>\n",
       "      <td>-0.000541</td>\n",
       "      <td>-0.000541</td>\n",
       "    </tr>\n",
       "  </tbody>\n",
       "</table>\n",
       "</div>"
      ],
      "text/plain": [
       "                         flug      fldg     fnetg\n",
       "pressure  level                                  \n",
       "0.0000    1      4.202873e-03  0.000000  0.004203\n",
       "1.0685    24     4.163447e-03 -0.000026  0.004138\n",
       "1013.0000 76     2.350000e-08 -0.000541 -0.000541"
      ]
     },
     "metadata": {},
     "output_type": "display_data"
    },
    {
     "name": "stdout",
     "output_type": "stream",
     "text": [
      "Table. Fluxes. (WGT igg=10 wgt_flux=1) - (CRD)\n"
     ]
    },
    {
     "data": {
      "text/html": [
       "<div>\n",
       "<style scoped>\n",
       "    .dataframe tbody tr th:only-of-type {\n",
       "        vertical-align: middle;\n",
       "    }\n",
       "\n",
       "    .dataframe tbody tr th {\n",
       "        vertical-align: top;\n",
       "    }\n",
       "\n",
       "    .dataframe thead th {\n",
       "        text-align: right;\n",
       "    }\n",
       "</style>\n",
       "<table border=\"1\" class=\"dataframe\">\n",
       "  <thead>\n",
       "    <tr style=\"text-align: right;\">\n",
       "      <th></th>\n",
       "      <th></th>\n",
       "      <th>flug</th>\n",
       "      <th>fldg</th>\n",
       "      <th>fnetg</th>\n",
       "    </tr>\n",
       "    <tr>\n",
       "      <th>pressure</th>\n",
       "      <th>level</th>\n",
       "      <th></th>\n",
       "      <th></th>\n",
       "      <th></th>\n",
       "    </tr>\n",
       "  </thead>\n",
       "  <tbody>\n",
       "    <tr>\n",
       "      <th>0.0000</th>\n",
       "      <th>1</th>\n",
       "      <td>-4.772600e-03</td>\n",
       "      <td>0.000002</td>\n",
       "      <td>-0.004770</td>\n",
       "    </tr>\n",
       "    <tr>\n",
       "      <th>1.0685</th>\n",
       "      <th>24</th>\n",
       "      <td>-4.824400e-03</td>\n",
       "      <td>-0.000098</td>\n",
       "      <td>-0.004922</td>\n",
       "    </tr>\n",
       "    <tr>\n",
       "      <th>1013.0000</th>\n",
       "      <th>76</th>\n",
       "      <td>-3.000000e-07</td>\n",
       "      <td>-0.001953</td>\n",
       "      <td>-0.001953</td>\n",
       "    </tr>\n",
       "  </tbody>\n",
       "</table>\n",
       "</div>"
      ],
      "text/plain": [
       "                         flug      fldg     fnetg\n",
       "pressure  level                                  \n",
       "0.0000    1     -4.772600e-03  0.000002 -0.004770\n",
       "1.0685    24    -4.824400e-03 -0.000098 -0.004922\n",
       "1013.0000 76    -3.000000e-07 -0.001953 -0.001953"
      ]
     },
     "metadata": {},
     "output_type": "display_data"
    },
    {
     "name": "stdout",
     "output_type": "stream",
     "text": [
      "Table. Fluxes. (CLIRAD) - (CRD)\n"
     ]
    },
    {
     "data": {
      "text/html": [
       "<a id=\"Best-fit_Parameters\"></a>"
      ],
      "text/plain": [
       "<IPython.core.display.HTML object>"
      ]
     },
     "metadata": {},
     "output_type": "display_data"
    },
    {
     "data": {
      "text/markdown": [
       "# Best-fit Parameters"
      ],
      "text/plain": [
       "<IPython.core.display.Markdown object>"
      ]
     },
     "metadata": {},
     "output_type": "display_data"
    },
    {
     "name": "stdout",
     "output_type": "stream",
     "text": [
      "Best-fit values for each (gas, band)\n",
      "------------------------------------\n",
      "o o3 band9\n",
      "  atmpro = mls\n",
      "  band = 9\n",
      "  commitnumber = a06b618\n",
      "  conc = None\n",
      "  dv = 0.001\n",
      "  klin = 2e-20\n",
      "  molecule = o3\n",
      "  ng_adju = [0, 0]\n",
      "  ng_refs = [2, 5]\n",
      "  nv = 1000\n",
      "  option_compute_btable = 0\n",
      "  option_compute_ktable = 1\n",
      "  option_wgt_flux = 1\n",
      "  option_wgt_k = 1\n",
      "  ref_pts = [(1, 250), (50, 250)]\n",
      "  tsfc = 294\n",
      "  vmax = 3000\n",
      "  vmin = 1900\n",
      "  w_diffuse = [(1.55, 1.55), (1.55, 1.55, 1.55, 1.55, 1.8)]\n",
      "  wgt = [(0.3, 0.4), (0.5, 0.6, 0.7, 0.85, 0.9)]\n"
     ]
    }
   ],
   "source": [
    "script()"
   ]
  },
  {
   "cell_type": "code",
   "execution_count": 13,
   "metadata": {
    "collapsed": true
   },
   "outputs": [
    {
     "data": {
      "text/html": [
       "<script>\n",
       "code_show=true; \n",
       "function code_toggle() {\n",
       " if (code_show){\n",
       " $('div.input').hide();\n",
       " } else {\n",
       " $('div.input').show();\n",
       " }\n",
       " code_show = !code_show\n",
       "} \n",
       "$( document ).ready(code_toggle);\n",
       "</script>\n",
       "<form action=\"javascript:code_toggle()\"><input type=\"submit\" value=\"Click here to toggle on/off the raw code.\"></form>"
      ],
      "text/plain": [
       "<IPython.core.display.HTML object>"
      ]
     },
     "execution_count": 13,
     "metadata": {},
     "output_type": "execute_result"
    }
   ],
   "source": [
    "display.HTML('''<script>\n",
    "code_show=true; \n",
    "function code_toggle() {\n",
    " if (code_show){\n",
    " $('div.input').hide();\n",
    " } else {\n",
    " $('div.input').show();\n",
    " }\n",
    " code_show = !code_show\n",
    "} \n",
    "$( document ).ready(code_toggle);\n",
    "</script>\n",
    "<form action=\"javascript:code_toggle()\"><input type=\"submit\" value=\"Click here to toggle on/off the raw code.\"></form>''')"
   ]
  }
 ],
 "metadata": {
  "kernelspec": {
   "display_name": "Python 3",
   "language": "python",
   "name": "python3"
  },
  "language_info": {
   "codemirror_mode": {
    "name": "ipython",
    "version": 3
   },
   "file_extension": ".py",
   "mimetype": "text/x-python",
   "name": "python",
   "nbconvert_exporter": "python",
   "pygments_lexer": "ipython3",
   "version": "3.6.1"
  }
 },
 "nbformat": 4,
 "nbformat_minor": 2
}
