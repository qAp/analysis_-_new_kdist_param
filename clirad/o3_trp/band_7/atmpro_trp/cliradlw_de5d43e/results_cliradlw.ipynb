{
 "cells": [
  {
   "cell_type": "code",
   "execution_count": 1,
   "metadata": {
    "collapsed": true
   },
   "outputs": [],
   "source": [
    "%matplotlib inline\n",
    "import os\n",
    "import re\n",
    "import io\n",
    "import itertools\n",
    "import pprint\n",
    "\n",
    "from bokeh.io import output_notebook, show\n",
    "from bokeh.layouts import gridplot\n",
    "from bokeh.plotting import figure\n",
    "from bokeh.models import Range1d, Legend\n",
    "from bokeh.palettes import all_palettes\n",
    "\n",
    "import matplotlib\n",
    "import matplotlib.pyplot as plt\n",
    "import numpy as np\n",
    "import pandas as pd\n",
    "import xarray as xr\n",
    "\n",
    "import climatools.lblnew.bestfit_params as bestfits\n",
    "from climatools.lblnew import setup_bestfit, setup_overlap\n",
    "import climatools.lblnew.pipeline as pipe_lblnew\n",
    "import climatools.cliradlw.setup as setup_cliradlw\n",
    "import climatools.cliradlw.pipeline as pipe_cliradlw\n",
    "\n",
    "import climatools.html.html as climahtml\n",
    "from climatools.lblnew.dataio import *\n",
    "from climatools.plot.plot import *\n",
    "\n",
    "\n",
    "import IPython.display as display"
   ]
  },
  {
   "cell_type": "code",
   "execution_count": 2,
   "metadata": {
    "collapsed": true
   },
   "outputs": [],
   "source": [
    "%run param.py"
   ]
  },
  {
   "cell_type": "code",
   "execution_count": 3,
   "metadata": {
    "collapsed": true
   },
   "outputs": [],
   "source": [
    "def load_output_file(path_csv):\n",
    "    '''\n",
    "    Load lblnew output .csv file to xarray.Dataset\n",
    "    \n",
    "    Parameters\n",
    "    ----------\n",
    "    path_csv: str\n",
    "              Path to the .csv file to be loaded.\n",
    "    ds: xarray.Dataset\n",
    "        Data in the input file in the form of an xarray.Dataset.\n",
    "    '''\n",
    "    toindex = ['band', 'pressure', 'igg', 'g']    \n",
    "    df = pd.read_csv(path_csv, sep=r'\\s+')\n",
    "    df = df.set_index([i for i in toindex if i in df.columns])\n",
    "    df = df.rename(columns={'sfu': 'flug',\n",
    "                            'sfd': 'fldg',\n",
    "                            'fnet': 'fnetg',\n",
    "                            'coolr': 'coolrg'})\n",
    "    ds = xr.Dataset.from_dataframe(df)\n",
    "\n",
    "    for l in ('level', 'layer'):\n",
    "        if l in ds.data_vars:\n",
    "            if len(ds[l].dims) > 1:\n",
    "                surface = {d: 0 for d in ds.dims if d != 'pressure'}\n",
    "                coord_level = ds[l][surface]\n",
    "                ds.coords[l] = ('pressure', coord_level)\n",
    "            else:\n",
    "                ds.coords[l] = ('pressure', ds[l])\n",
    "    \n",
    "    return ds"
   ]
  },
  {
   "cell_type": "code",
   "execution_count": 4,
   "metadata": {
    "collapsed": true
   },
   "outputs": [],
   "source": [
    "def lblnew_setup(param=None):\n",
    "    if 'ng_refs' in param:\n",
    "        return {'setup': setup_bestfit,\n",
    "                'fname_flux_crd': 'output_flux.dat',\n",
    "                'fname_cool_crd': 'output_coolr.dat',\n",
    "                'fname_flux_wgt': 'output_wfluxg.dat',\n",
    "                'fname_cool_wgt': 'output_wcoolrg.dat'}\n",
    "    else:\n",
    "        return {'setup': setup_overlap,\n",
    "                'fname_flux_crd': 'output_flux.dat',\n",
    "                'fname_cool_crd': 'output_coolr.dat',\n",
    "                'fname_flux_wgt': 'output_wflux.dat',\n",
    "                'fname_cool_wgt': 'output_wcoolr.dat'}\n",
    "\n",
    "    \n",
    "def load_lblnew_data(param):\n",
    "    \n",
    "    fname_dsname = [('fname_flux_crd', 'ds_flux_crd'),\n",
    "                    ('fname_cool_crd', 'ds_cool_crd'),\n",
    "                    ('fname_flux_wgt', 'ds_flux_wgt'),\n",
    "                    ('fname_cool_wgt', 'ds_cool_wgt')]\n",
    "    \n",
    "    d = lblnew_setup(param)\n",
    "    dir_fortran = pipe_lblnew.get_dir_case(param, setup=d['setup'])\n",
    "    \n",
    "    data_dict = {}\n",
    "    for fname, dsname in fname_dsname:\n",
    "        fpath = os.path.join(dir_fortran, d[fname])\n",
    "        data_dict[dsname] = load_output_file(fpath)\n",
    "    return data_dict\n",
    "    \n",
    "\n",
    "    \n",
    "    "
   ]
  },
  {
   "cell_type": "code",
   "execution_count": 5,
   "metadata": {
    "collapsed": true
   },
   "outputs": [],
   "source": [
    "d = load_lblnew_data(PARAM_LBLNEW)\n",
    "\n",
    "DS_FLUX_CRD = d['ds_flux_crd']\n",
    "DS_COOL_CRD = d['ds_cool_crd']\n",
    "DS_FLUX_WGT = d['ds_flux_wgt']\n",
    "DS_COOL_WGT = d['ds_cool_wgt']"
   ]
  },
  {
   "cell_type": "code",
   "execution_count": 6,
   "metadata": {
    "collapsed": true
   },
   "outputs": [],
   "source": [
    "DIR_FORTRAN = pipe_cliradlw.get_fortran_dir(PARAM, \n",
    "                                            setup=setup_cliradlw)\n",
    "\n",
    "PATH_FLUX = os.path.join(DIR_FORTRAN, 'output_flux.dat')\n",
    "PATH_COOL = os.path.join(DIR_FORTRAN, 'output_coolr.dat')\n",
    "\n",
    "DS_FLUX = load_output_file(PATH_FLUX)\n",
    "DS_COOL = load_output_file(PATH_COOL)"
   ]
  },
  {
   "cell_type": "code",
   "execution_count": 7,
   "metadata": {
    "collapsed": true
   },
   "outputs": [
    {
     "data": {
      "text/html": [
       "\n",
       "    <div class=\"bk-root\">\n",
       "        <a href=\"https://bokeh.pydata.org\" target=\"_blank\" class=\"bk-logo bk-logo-small bk-logo-notebook\"></a>\n",
       "        <span id=\"ca310fc7-92eb-4510-a1da-a9060e9d0e38\">Loading BokehJS ...</span>\n",
       "    </div>"
      ]
     },
     "metadata": {},
     "output_type": "display_data"
    },
    {
     "data": {
      "application/javascript": [
       "\n",
       "(function(root) {\n",
       "  function now() {\n",
       "    return new Date();\n",
       "  }\n",
       "\n",
       "  var force = true;\n",
       "\n",
       "  if (typeof (root._bokeh_onload_callbacks) === \"undefined\" || force === true) {\n",
       "    root._bokeh_onload_callbacks = [];\n",
       "    root._bokeh_is_loading = undefined;\n",
       "  }\n",
       "\n",
       "  var JS_MIME_TYPE = 'application/javascript';\n",
       "  var HTML_MIME_TYPE = 'text/html';\n",
       "  var EXEC_MIME_TYPE = 'application/vnd.bokehjs_exec.v0+json';\n",
       "  var CLASS_NAME = 'output_bokeh rendered_html';\n",
       "\n",
       "  /**\n",
       "   * Render data to the DOM node\n",
       "   */\n",
       "  function render(props, node) {\n",
       "    var script = document.createElement(\"script\");\n",
       "    node.appendChild(script);\n",
       "  }\n",
       "\n",
       "  /**\n",
       "   * Handle when an output is cleared or removed\n",
       "   */\n",
       "  function handleClearOutput(event, handle) {\n",
       "    var cell = handle.cell;\n",
       "\n",
       "    var id = cell.output_area._bokeh_element_id;\n",
       "    var server_id = cell.output_area._bokeh_server_id;\n",
       "    // Clean up Bokeh references\n",
       "    if (id !== undefined) {\n",
       "      Bokeh.index[id].model.document.clear();\n",
       "      delete Bokeh.index[id];\n",
       "    }\n",
       "\n",
       "    if (server_id !== undefined) {\n",
       "      // Clean up Bokeh references\n",
       "      var cmd = \"from bokeh.io.state import curstate; print(curstate().uuid_to_server['\" + server_id + \"'].get_sessions()[0].document.roots[0]._id)\";\n",
       "      cell.notebook.kernel.execute(cmd, {\n",
       "        iopub: {\n",
       "          output: function(msg) {\n",
       "            var element_id = msg.content.text.trim();\n",
       "            Bokeh.index[element_id].model.document.clear();\n",
       "            delete Bokeh.index[element_id];\n",
       "          }\n",
       "        }\n",
       "      });\n",
       "      // Destroy server and session\n",
       "      var cmd = \"import bokeh.io.notebook as ion; ion.destroy_server('\" + server_id + \"')\";\n",
       "      cell.notebook.kernel.execute(cmd);\n",
       "    }\n",
       "  }\n",
       "\n",
       "  /**\n",
       "   * Handle when a new output is added\n",
       "   */\n",
       "  function handleAddOutput(event, handle) {\n",
       "    var output_area = handle.output_area;\n",
       "    var output = handle.output;\n",
       "\n",
       "    // limit handleAddOutput to display_data with EXEC_MIME_TYPE content only\n",
       "    if ((output.output_type != \"display_data\") || (!output.data.hasOwnProperty(EXEC_MIME_TYPE))) {\n",
       "      return\n",
       "    }\n",
       "\n",
       "    var toinsert = output_area.element.find(\".\" + CLASS_NAME.split(' ')[0]);\n",
       "\n",
       "    if (output.metadata[EXEC_MIME_TYPE][\"id\"] !== undefined) {\n",
       "      toinsert[toinsert.length - 1].firstChild.textContent = output.data[JS_MIME_TYPE];\n",
       "      // store reference to embed id on output_area\n",
       "      output_area._bokeh_element_id = output.metadata[EXEC_MIME_TYPE][\"id\"];\n",
       "    }\n",
       "    if (output.metadata[EXEC_MIME_TYPE][\"server_id\"] !== undefined) {\n",
       "      var bk_div = document.createElement(\"div\");\n",
       "      bk_div.innerHTML = output.data[HTML_MIME_TYPE];\n",
       "      var script_attrs = bk_div.children[0].attributes;\n",
       "      for (var i = 0; i < script_attrs.length; i++) {\n",
       "        toinsert[toinsert.length - 1].firstChild.setAttribute(script_attrs[i].name, script_attrs[i].value);\n",
       "      }\n",
       "      // store reference to server id on output_area\n",
       "      output_area._bokeh_server_id = output.metadata[EXEC_MIME_TYPE][\"server_id\"];\n",
       "    }\n",
       "  }\n",
       "\n",
       "  function register_renderer(events, OutputArea) {\n",
       "\n",
       "    function append_mime(data, metadata, element) {\n",
       "      // create a DOM node to render to\n",
       "      var toinsert = this.create_output_subarea(\n",
       "        metadata,\n",
       "        CLASS_NAME,\n",
       "        EXEC_MIME_TYPE\n",
       "      );\n",
       "      this.keyboard_manager.register_events(toinsert);\n",
       "      // Render to node\n",
       "      var props = {data: data, metadata: metadata[EXEC_MIME_TYPE]};\n",
       "      render(props, toinsert[toinsert.length - 1]);\n",
       "      element.append(toinsert);\n",
       "      return toinsert\n",
       "    }\n",
       "\n",
       "    /* Handle when an output is cleared or removed */\n",
       "    events.on('clear_output.CodeCell', handleClearOutput);\n",
       "    events.on('delete.Cell', handleClearOutput);\n",
       "\n",
       "    /* Handle when a new output is added */\n",
       "    events.on('output_added.OutputArea', handleAddOutput);\n",
       "\n",
       "    /**\n",
       "     * Register the mime type and append_mime function with output_area\n",
       "     */\n",
       "    OutputArea.prototype.register_mime_type(EXEC_MIME_TYPE, append_mime, {\n",
       "      /* Is output safe? */\n",
       "      safe: true,\n",
       "      /* Index of renderer in `output_area.display_order` */\n",
       "      index: 0\n",
       "    });\n",
       "  }\n",
       "\n",
       "  // register the mime type if in Jupyter Notebook environment and previously unregistered\n",
       "  if (root.Jupyter !== undefined) {\n",
       "    var events = require('base/js/events');\n",
       "    var OutputArea = require('notebook/js/outputarea').OutputArea;\n",
       "\n",
       "    if (OutputArea.prototype.mime_types().indexOf(EXEC_MIME_TYPE) == -1) {\n",
       "      register_renderer(events, OutputArea);\n",
       "    }\n",
       "  }\n",
       "\n",
       "  \n",
       "  if (typeof (root._bokeh_timeout) === \"undefined\" || force === true) {\n",
       "    root._bokeh_timeout = Date.now() + 5000;\n",
       "    root._bokeh_failed_load = false;\n",
       "  }\n",
       "\n",
       "  var NB_LOAD_WARNING = {'data': {'text/html':\n",
       "     \"<div style='background-color: #fdd'>\\n\"+\n",
       "     \"<p>\\n\"+\n",
       "     \"BokehJS does not appear to have successfully loaded. If loading BokehJS from CDN, this \\n\"+\n",
       "     \"may be due to a slow or bad network connection. Possible fixes:\\n\"+\n",
       "     \"</p>\\n\"+\n",
       "     \"<ul>\\n\"+\n",
       "     \"<li>re-rerun `output_notebook()` to attempt to load from CDN again, or</li>\\n\"+\n",
       "     \"<li>use INLINE resources instead, as so:</li>\\n\"+\n",
       "     \"</ul>\\n\"+\n",
       "     \"<code>\\n\"+\n",
       "     \"from bokeh.resources import INLINE\\n\"+\n",
       "     \"output_notebook(resources=INLINE)\\n\"+\n",
       "     \"</code>\\n\"+\n",
       "     \"</div>\"}};\n",
       "\n",
       "  function display_loaded() {\n",
       "    var el = document.getElementById(\"ca310fc7-92eb-4510-a1da-a9060e9d0e38\");\n",
       "    if (el != null) {\n",
       "      el.textContent = \"BokehJS is loading...\";\n",
       "    }\n",
       "    if (root.Bokeh !== undefined) {\n",
       "      if (el != null) {\n",
       "        el.textContent = \"BokehJS \" + root.Bokeh.version + \" successfully loaded.\";\n",
       "      }\n",
       "    } else if (Date.now() < root._bokeh_timeout) {\n",
       "      setTimeout(display_loaded, 100)\n",
       "    }\n",
       "  }\n",
       "\n",
       "\n",
       "  function run_callbacks() {\n",
       "    try {\n",
       "      root._bokeh_onload_callbacks.forEach(function(callback) { callback() });\n",
       "    }\n",
       "    finally {\n",
       "      delete root._bokeh_onload_callbacks\n",
       "    }\n",
       "    console.info(\"Bokeh: all callbacks have finished\");\n",
       "  }\n",
       "\n",
       "  function load_libs(js_urls, callback) {\n",
       "    root._bokeh_onload_callbacks.push(callback);\n",
       "    if (root._bokeh_is_loading > 0) {\n",
       "      console.log(\"Bokeh: BokehJS is being loaded, scheduling callback at\", now());\n",
       "      return null;\n",
       "    }\n",
       "    if (js_urls == null || js_urls.length === 0) {\n",
       "      run_callbacks();\n",
       "      return null;\n",
       "    }\n",
       "    console.log(\"Bokeh: BokehJS not loaded, scheduling load and callback at\", now());\n",
       "    root._bokeh_is_loading = js_urls.length;\n",
       "    for (var i = 0; i < js_urls.length; i++) {\n",
       "      var url = js_urls[i];\n",
       "      var s = document.createElement('script');\n",
       "      s.src = url;\n",
       "      s.async = false;\n",
       "      s.onreadystatechange = s.onload = function() {\n",
       "        root._bokeh_is_loading--;\n",
       "        if (root._bokeh_is_loading === 0) {\n",
       "          console.log(\"Bokeh: all BokehJS libraries loaded\");\n",
       "          run_callbacks()\n",
       "        }\n",
       "      };\n",
       "      s.onerror = function() {\n",
       "        console.warn(\"failed to load library \" + url);\n",
       "      };\n",
       "      console.log(\"Bokeh: injecting script tag for BokehJS library: \", url);\n",
       "      document.getElementsByTagName(\"head\")[0].appendChild(s);\n",
       "    }\n",
       "  };var element = document.getElementById(\"ca310fc7-92eb-4510-a1da-a9060e9d0e38\");\n",
       "  if (element == null) {\n",
       "    console.log(\"Bokeh: ERROR: autoload.js configured with elementid 'ca310fc7-92eb-4510-a1da-a9060e9d0e38' but no matching script tag was found. \")\n",
       "    return false;\n",
       "  }\n",
       "\n",
       "  var js_urls = [\"https://cdn.pydata.org/bokeh/release/bokeh-0.12.16.min.js\", \"https://cdn.pydata.org/bokeh/release/bokeh-widgets-0.12.16.min.js\", \"https://cdn.pydata.org/bokeh/release/bokeh-tables-0.12.16.min.js\", \"https://cdn.pydata.org/bokeh/release/bokeh-gl-0.12.16.min.js\"];\n",
       "\n",
       "  var inline_js = [\n",
       "    function(Bokeh) {\n",
       "      Bokeh.set_log_level(\"info\");\n",
       "    },\n",
       "    \n",
       "    function(Bokeh) {\n",
       "      \n",
       "    },\n",
       "    function(Bokeh) {\n",
       "      console.log(\"Bokeh: injecting CSS: https://cdn.pydata.org/bokeh/release/bokeh-0.12.16.min.css\");\n",
       "      Bokeh.embed.inject_css(\"https://cdn.pydata.org/bokeh/release/bokeh-0.12.16.min.css\");\n",
       "      console.log(\"Bokeh: injecting CSS: https://cdn.pydata.org/bokeh/release/bokeh-widgets-0.12.16.min.css\");\n",
       "      Bokeh.embed.inject_css(\"https://cdn.pydata.org/bokeh/release/bokeh-widgets-0.12.16.min.css\");\n",
       "      console.log(\"Bokeh: injecting CSS: https://cdn.pydata.org/bokeh/release/bokeh-tables-0.12.16.min.css\");\n",
       "      Bokeh.embed.inject_css(\"https://cdn.pydata.org/bokeh/release/bokeh-tables-0.12.16.min.css\");\n",
       "    }\n",
       "  ];\n",
       "\n",
       "  function run_inline_js() {\n",
       "    \n",
       "    if ((root.Bokeh !== undefined) || (force === true)) {\n",
       "      for (var i = 0; i < inline_js.length; i++) {\n",
       "        inline_js[i].call(root, root.Bokeh);\n",
       "      }if (force === true) {\n",
       "        display_loaded();\n",
       "      }} else if (Date.now() < root._bokeh_timeout) {\n",
       "      setTimeout(run_inline_js, 100);\n",
       "    } else if (!root._bokeh_failed_load) {\n",
       "      console.log(\"Bokeh: BokehJS failed to load within specified timeout.\");\n",
       "      root._bokeh_failed_load = true;\n",
       "    } else if (force !== true) {\n",
       "      var cell = $(document.getElementById(\"ca310fc7-92eb-4510-a1da-a9060e9d0e38\")).parents('.cell').data().cell;\n",
       "      cell.output_area.append_execute_result(NB_LOAD_WARNING)\n",
       "    }\n",
       "\n",
       "  }\n",
       "\n",
       "  if (root._bokeh_is_loading === 0) {\n",
       "    console.log(\"Bokeh: BokehJS loaded, going straight to plotting\");\n",
       "    run_inline_js();\n",
       "  } else {\n",
       "    load_libs(js_urls, function() {\n",
       "      console.log(\"Bokeh: BokehJS plotting callback run at\", now());\n",
       "      run_inline_js();\n",
       "    });\n",
       "  }\n",
       "}(window));"
      ],
      "application/vnd.bokehjs_load.v0+json": "\n(function(root) {\n  function now() {\n    return new Date();\n  }\n\n  var force = true;\n\n  if (typeof (root._bokeh_onload_callbacks) === \"undefined\" || force === true) {\n    root._bokeh_onload_callbacks = [];\n    root._bokeh_is_loading = undefined;\n  }\n\n  \n\n  \n  if (typeof (root._bokeh_timeout) === \"undefined\" || force === true) {\n    root._bokeh_timeout = Date.now() + 5000;\n    root._bokeh_failed_load = false;\n  }\n\n  var NB_LOAD_WARNING = {'data': {'text/html':\n     \"<div style='background-color: #fdd'>\\n\"+\n     \"<p>\\n\"+\n     \"BokehJS does not appear to have successfully loaded. If loading BokehJS from CDN, this \\n\"+\n     \"may be due to a slow or bad network connection. Possible fixes:\\n\"+\n     \"</p>\\n\"+\n     \"<ul>\\n\"+\n     \"<li>re-rerun `output_notebook()` to attempt to load from CDN again, or</li>\\n\"+\n     \"<li>use INLINE resources instead, as so:</li>\\n\"+\n     \"</ul>\\n\"+\n     \"<code>\\n\"+\n     \"from bokeh.resources import INLINE\\n\"+\n     \"output_notebook(resources=INLINE)\\n\"+\n     \"</code>\\n\"+\n     \"</div>\"}};\n\n  function display_loaded() {\n    var el = document.getElementById(\"ca310fc7-92eb-4510-a1da-a9060e9d0e38\");\n    if (el != null) {\n      el.textContent = \"BokehJS is loading...\";\n    }\n    if (root.Bokeh !== undefined) {\n      if (el != null) {\n        el.textContent = \"BokehJS \" + root.Bokeh.version + \" successfully loaded.\";\n      }\n    } else if (Date.now() < root._bokeh_timeout) {\n      setTimeout(display_loaded, 100)\n    }\n  }\n\n\n  function run_callbacks() {\n    try {\n      root._bokeh_onload_callbacks.forEach(function(callback) { callback() });\n    }\n    finally {\n      delete root._bokeh_onload_callbacks\n    }\n    console.info(\"Bokeh: all callbacks have finished\");\n  }\n\n  function load_libs(js_urls, callback) {\n    root._bokeh_onload_callbacks.push(callback);\n    if (root._bokeh_is_loading > 0) {\n      console.log(\"Bokeh: BokehJS is being loaded, scheduling callback at\", now());\n      return null;\n    }\n    if (js_urls == null || js_urls.length === 0) {\n      run_callbacks();\n      return null;\n    }\n    console.log(\"Bokeh: BokehJS not loaded, scheduling load and callback at\", now());\n    root._bokeh_is_loading = js_urls.length;\n    for (var i = 0; i < js_urls.length; i++) {\n      var url = js_urls[i];\n      var s = document.createElement('script');\n      s.src = url;\n      s.async = false;\n      s.onreadystatechange = s.onload = function() {\n        root._bokeh_is_loading--;\n        if (root._bokeh_is_loading === 0) {\n          console.log(\"Bokeh: all BokehJS libraries loaded\");\n          run_callbacks()\n        }\n      };\n      s.onerror = function() {\n        console.warn(\"failed to load library \" + url);\n      };\n      console.log(\"Bokeh: injecting script tag for BokehJS library: \", url);\n      document.getElementsByTagName(\"head\")[0].appendChild(s);\n    }\n  };var element = document.getElementById(\"ca310fc7-92eb-4510-a1da-a9060e9d0e38\");\n  if (element == null) {\n    console.log(\"Bokeh: ERROR: autoload.js configured with elementid 'ca310fc7-92eb-4510-a1da-a9060e9d0e38' but no matching script tag was found. \")\n    return false;\n  }\n\n  var js_urls = [\"https://cdn.pydata.org/bokeh/release/bokeh-0.12.16.min.js\", \"https://cdn.pydata.org/bokeh/release/bokeh-widgets-0.12.16.min.js\", \"https://cdn.pydata.org/bokeh/release/bokeh-tables-0.12.16.min.js\", \"https://cdn.pydata.org/bokeh/release/bokeh-gl-0.12.16.min.js\"];\n\n  var inline_js = [\n    function(Bokeh) {\n      Bokeh.set_log_level(\"info\");\n    },\n    \n    function(Bokeh) {\n      \n    },\n    function(Bokeh) {\n      console.log(\"Bokeh: injecting CSS: https://cdn.pydata.org/bokeh/release/bokeh-0.12.16.min.css\");\n      Bokeh.embed.inject_css(\"https://cdn.pydata.org/bokeh/release/bokeh-0.12.16.min.css\");\n      console.log(\"Bokeh: injecting CSS: https://cdn.pydata.org/bokeh/release/bokeh-widgets-0.12.16.min.css\");\n      Bokeh.embed.inject_css(\"https://cdn.pydata.org/bokeh/release/bokeh-widgets-0.12.16.min.css\");\n      console.log(\"Bokeh: injecting CSS: https://cdn.pydata.org/bokeh/release/bokeh-tables-0.12.16.min.css\");\n      Bokeh.embed.inject_css(\"https://cdn.pydata.org/bokeh/release/bokeh-tables-0.12.16.min.css\");\n    }\n  ];\n\n  function run_inline_js() {\n    \n    if ((root.Bokeh !== undefined) || (force === true)) {\n      for (var i = 0; i < inline_js.length; i++) {\n        inline_js[i].call(root, root.Bokeh);\n      }if (force === true) {\n        display_loaded();\n      }} else if (Date.now() < root._bokeh_timeout) {\n      setTimeout(run_inline_js, 100);\n    } else if (!root._bokeh_failed_load) {\n      console.log(\"Bokeh: BokehJS failed to load within specified timeout.\");\n      root._bokeh_failed_load = true;\n    } else if (force !== true) {\n      var cell = $(document.getElementById(\"ca310fc7-92eb-4510-a1da-a9060e9d0e38\")).parents('.cell').data().cell;\n      cell.output_area.append_execute_result(NB_LOAD_WARNING)\n    }\n\n  }\n\n  if (root._bokeh_is_loading === 0) {\n    console.log(\"Bokeh: BokehJS loaded, going straight to plotting\");\n    run_inline_js();\n  } else {\n    load_libs(js_urls, function() {\n      console.log(\"Bokeh: BokehJS plotting callback run at\", now());\n      run_inline_js();\n    });\n  }\n}(window));"
     },
     "metadata": {},
     "output_type": "display_data"
    }
   ],
   "source": [
    "output_notebook()"
   ]
  },
  {
   "cell_type": "code",
   "execution_count": 8,
   "metadata": {
    "collapsed": true
   },
   "outputs": [],
   "source": [
    "def fmt_cool(ds_in):\n",
    "    ds = ds_in.copy(deep=True)\n",
    "    if 'igg' in ds.dims:\n",
    "        ds = ds.sel(igg=1)\n",
    "\n",
    "    if 'g' in ds.dims:\n",
    "        ds = ds.sum('g')\n",
    "            \n",
    "    if 'band' in ds.dims:\n",
    "        try:\n",
    "            ds = ds.squeeze('band')\n",
    "        except ValueError:\n",
    "            ds = ds.sum('band')\n",
    "                \n",
    "    return ds['coolrg']\n",
    "\n",
    "\n",
    "def pltdata_cooling_1(ds_cool=None,\n",
    "                      ds_cool_crd=None, ds_cool_wgt=None):\n",
    "    \n",
    "\n",
    "\n",
    "    colors = all_palettes['Set1'][4]\n",
    "    data = [{'label': 'CLIRAD `coolr_bands`',\n",
    "             'srs': fmt_cool(ds_cool),\n",
    "             'line_dash': 'dashed', 'line_width': 5,\n",
    "             'color': colors[0], 'alpha': .6},\n",
    "            {'label': 'CRD',\n",
    "             'srs': fmt_cool(ds_cool_crd),\n",
    "             'line_dash': 'solid', 'line_width': 1.5,\n",
    "             'marker': 'circle', 'marker_size': 5,\n",
    "             'color': colors[2], 'alpha': 1,},\n",
    "            {'label': 'WGT igg=10 wgt_flux=2',\n",
    "             'srs': fmt_cool(ds_cool_wgt),\n",
    "             'line_dash': 'solid', 'line_width': 3,\n",
    "             'marker': 'square', 'marker_size': 5,\n",
    "             'color': colors[3], 'alpha': .6}]\n",
    "    return data\n",
    "\n",
    "\n",
    "def nice_xlims(pltdata=None, prange=None):\n",
    "    \n",
    "    def get_slice(srs):\n",
    "        return srs.sel(pressure=slice(*prange))\n",
    "    \n",
    "    srss = [d['srs'] for d in pltdata]\n",
    "    vmin = min([get_slice(srs).min() for srs in srss])\n",
    "    vmax = max([get_slice(srs).max() for srs in srss])\n",
    "    dv = (vmax - vmin) * .01\n",
    "    return float(vmin - dv), float(vmax + dv)\n",
    "    \n",
    "\n",
    "def plt_cooling_bokeh(pltdata=None):\n",
    "    '''\n",
    "    Plot a list of cooling rate profiles using bokeh.\n",
    "    '''\n",
    "    ymin = 1e-2 \n",
    "    ymax = 1020 \n",
    "        \n",
    "    p1 = figure(title=\"Linear pressure scale\", \n",
    "                plot_width=400)        \n",
    "    xmin, xmax = nice_xlims(pltdata, prange=(50, 1050))\n",
    "    for d in pltdata:\n",
    "        if 'marker' in d:\n",
    "            getattr(p1, d['marker'])(d['srs'].values, \n",
    "                    d['srs'].coords['pressure'].values,\n",
    "                    color=d['color'], alpha=.7)\n",
    "        p1.line(d['srs'].values, \n",
    "                d['srs'].coords['pressure'].values,\n",
    "                color=d['color'], alpha=d['alpha'], \n",
    "                line_width=d['line_width'], line_dash=d['line_dash'])\n",
    "    \n",
    "    p1.y_range = Range1d(ymax, ymin)\n",
    "    p1.yaxis.axis_label = 'pressure [mb]'   \n",
    "    p1.x_range = Range1d(xmin, xmax)\n",
    "    p1.xaxis.axis_label = 'cooling rate [K/day]'\n",
    "            \n",
    "    p2 = figure(title='Log pressure scale', y_axis_type='log',\n",
    "                plot_width=560)\n",
    "    xmin, xmax = nice_xlims(pltdata, prange=(.01, 200))\n",
    "    \n",
    "    rs = []\n",
    "    for d in pltdata:\n",
    "        rd = []\n",
    "        if 'marker' in d:\n",
    "            r_mark = getattr(p2, d['marker'])(d['srs'].values, \n",
    "                        d['srs'].coords['pressure'].values,\n",
    "                        color=d['color'], alpha=.7)\n",
    "            rd.append(r_mark)\n",
    "        r_line = p2.line(d['srs'].values, \n",
    "                    d['srs'].coords['pressure'].values,\n",
    "                    color=d['color'], alpha=d['alpha'], \n",
    "                    line_width=d['line_width'], line_dash=d['line_dash'])\n",
    "        rd.append(r_line)\n",
    "      \n",
    "        rs.append(rd)\n",
    "        \n",
    "    p2.y_range = Range1d(ymax, ymin)  \n",
    "    p2.yaxis.axis_label = 'pressure [mb]'\n",
    "    \n",
    "    p2.x_range = Range1d(xmin, xmax)\n",
    "    p2.xaxis.axis_label = 'cooling rate [K/day]'\n",
    "    \n",
    "    items = [(d['label'], r) for r, d in zip(rs, pltdata)]\n",
    "    legend = Legend(items=items, location=(10, -30))\n",
    "    legend.label_text_font_size = '8pt'\n",
    "    \n",
    "    p2.add_layout(legend, 'right')  \n",
    "    \n",
    "    show(gridplot(p1, p2, ncols=2, plot_height=500))\n",
    "    \n",
    "\n",
    "def script_plt_cooling():\n",
    "    pltdata = pltdata_cooling_1(\n",
    "        ds_cool=DS_COOL,\n",
    "        ds_cool_crd=DS_COOL_CRD,\n",
    "        ds_cool_wgt=DS_COOL_WGT)\n",
    "    plt_cooling_bokeh(pltdata=pltdata)\n",
    "    print('''FIGURE. Cooling rate profiles.''')"
   ]
  },
  {
   "cell_type": "code",
   "execution_count": 9,
   "metadata": {
    "collapsed": true
   },
   "outputs": [],
   "source": [
    "def fmt_flux(ds_in):\n",
    "    ds = ds_in.copy(deep=True)\n",
    "    \n",
    "    for l in ('level', 'layer'):\n",
    "        if l in ds.data_vars:\n",
    "            if len(ds[l].dims) > 1:\n",
    "                surface = {d: 0 for d in ds.dims if d != 'pressure'}\n",
    "                coord_level = ds[l][surface]\n",
    "                ds.coords[l] = ('pressure', coord_level)\n",
    "            else:\n",
    "                ds.coords[l] = ('pressure', ds[l])\n",
    "        \n",
    "    ds = ds.isel(pressure=[0, 23, -1])\n",
    "        \n",
    "    if 'igg' in ds.dims:\n",
    "        ds = ds.sel(igg=[1])\n",
    "        ds = ds.squeeze('igg').drop('igg')\n",
    "    \n",
    "    if 'g' in ds.dims:\n",
    "        ds = ds.sum('g')\n",
    "            \n",
    "    if 'band' in ds.dims:\n",
    "        try:\n",
    "            ds = ds.squeeze('band').drop('band')\n",
    "        except ValueError:\n",
    "            ds = ds.sum('band')\n",
    "                \n",
    "    df = ds.to_dataframe()\n",
    "    df = df.set_index('level', append=True)               \n",
    "    return df\n",
    "\n",
    "\n",
    "def tbdata_flux(ds_flux=None, ds_flux_crd=None, ds_flux_wgt=None):\n",
    "    ilevels = [0, 23, -1]\n",
    "            \n",
    "    benchmark = {'label': 'CRD',\n",
    "                 'df': fmt_flux(ds_flux_crd)}\n",
    "    \n",
    "    tbs = [{'label': 'WGT igg=10 wgt_flux=1',\n",
    "            'df': fmt_flux(ds_flux_wgt)},\n",
    "           {'label': 'CLIRAD',\n",
    "            'df': fmt_flux(ds_flux)}]\n",
    "    \n",
    "    data = {'benchmark': benchmark, 'others': tbs}\n",
    "    return data\n",
    "\n",
    "\n",
    "def tb_flux(tbdata=None):\n",
    "    benchmark = tbdata['benchmark']\n",
    "    others = tbdata['others']\n",
    "    \n",
    "    def show_tb(d=None):\n",
    "        display.display(d['df'])\n",
    "        print('Table.', 'Fluxes.', d['label'])\n",
    "        \n",
    "    def show_tbdiff(d0=None, d=None):\n",
    "        df = d['df']\n",
    "        df.index = d0['df'].index\n",
    "        display.display(df - d0['df'])\n",
    "        print('Table.', 'Fluxes.', \n",
    "              '({}) - ({})'.format(d['label'], d0['label']))\n",
    "        \n",
    "    show_tb(benchmark)\n",
    "    for d in others:\n",
    "        show_tb(d)\n",
    "        \n",
    "    for d in others:\n",
    "        show_tbdiff(d=d, d0=benchmark)\n",
    "        \n",
    "        \n",
    "def script_tb_flux():\n",
    "    data = tbdata_flux(ds_flux=DS_FLUX,\n",
    "                       ds_flux_crd=DS_FLUX_CRD,\n",
    "                       ds_flux_wgt=DS_FLUX_WGT)\n",
    "    tb_flux(tbdata=data)"
   ]
  },
  {
   "cell_type": "code",
   "execution_count": 10,
   "metadata": {
    "collapsed": true
   },
   "outputs": [],
   "source": [
    "def band_map():\n",
    "    '''\n",
    "    Maps spectral bands in lblnew to spectral bands in clirad.\n",
    "    '''\n",
    "    lblnew2clirad = {'1': '1',\n",
    "            '2': '2',\n",
    "            '3a': '3',\n",
    "            '3b': '4',\n",
    "            '3c': '5',\n",
    "            '4': '6', \n",
    "            '5': '7',\n",
    "            '6': '8',\n",
    "            '7': '9', \n",
    "            '8': '10',\n",
    "            '9': '11'}\n",
    "    \n",
    "    clirad2lblnew = {clirad: lblnew \n",
    "                     for lblnew, clirad in lblnew2clirad.items()}\n",
    "    return clirad2lblnew\n",
    "\n",
    "\n",
    "def gasbands():\n",
    "    bmap = band_map()\n",
    "    gases = list(PARAM['molecule'].keys())\n",
    "    \n",
    "    bands = [bmap[str(b)] for b in PARAM['band']]\n",
    "    return list(itertools.product(gases, bands))\n",
    "\n",
    "\n",
    "def print_bestfit_params():\n",
    "    print('Best-fit values for each (gas, band)')\n",
    "    print('------------------------------------')\n",
    "    for gas, band in gasbands():\n",
    "        print('o {} band{}'.format(gas, band))\n",
    "        param = bestfits.kdist_params(molecule=gas, band=band)\n",
    "        for name, value in sorted(param.items()):\n",
    "            print(2 * ' ' + '{} = {}'.format(name, value))\n",
    "\n",
    "        \n",
    "def print_input_param():        \n",
    "    for name, value in PARAM.items():\n",
    "        print('{} = {}'.format(name, value))\n",
    "        \n",
    "        \n",
    "def print_lblnew_param():\n",
    "    for name, value in sorted(PARAM_LBLNEW.items()):\n",
    "        print('{} = {}'.format(name, value))\n"
   ]
  },
  {
   "cell_type": "code",
   "execution_count": 11,
   "metadata": {
    "collapsed": true,
    "scrolled": false
   },
   "outputs": [],
   "source": [
    "def show_html(s):\n",
    "    display.display(display.HTML(s))\n",
    "\n",
    "    \n",
    "def show_markdown(s):\n",
    "    display.display(display.Markdown(s))\n",
    "\n",
    "    \n",
    "def script():\n",
    "    \n",
    "    title = '### CLIRAD-LW'\n",
    "    s_input = 'Input Parameters'\n",
    "    s_lblnew_param = 'LBLNEW case compaired against'\n",
    "    s_bestfits = 'Best-fit Parameters'\n",
    "    s_plt_cooling = 'Cooling Rate Profiles'\n",
    "    s_tb_flux = 'Flux Comparison'\n",
    "    \n",
    "    # title\n",
    "    show_markdown('### CLIRAD-LW')\n",
    "    \n",
    "    # TOC\n",
    "    show_markdown('### Table of Contents')\n",
    "    show_html(climahtml.getHTML_hrefanchor(s_input))\n",
    "    show_html(climahtml.getHTML_hrefanchor(s_lblnew_param))\n",
    "    show_html(climahtml.getHTML_hrefanchor(s_plt_cooling))\n",
    "    show_html(climahtml.getHTML_hrefanchor(s_tb_flux))\n",
    "    show_html(climahtml.getHTML_hrefanchor(s_bestfits))\n",
    "    \n",
    "    # Input parameters\n",
    "    show_html(climahtml.getHTML_idanchor(s_input))\n",
    "    show_markdown(climahtml.getMarkdown_sectitle(s_input))\n",
    "    print_input_param()\n",
    "    \n",
    "    # LBLNEW parameters \n",
    "    show_html(climahtml.getHTML_idanchor(s_lblnew_param))\n",
    "    show_markdown(climahtml.getMarkdown_sectitle(s_lblnew_param))\n",
    "    print_lblnew_param()\n",
    "    \n",
    "    # Cooling rate profiles\n",
    "    show_html(climahtml.getHTML_idanchor(s_plt_cooling))\n",
    "    show_markdown(climahtml.getMarkdown_sectitle(s_plt_cooling))\n",
    "    script_plt_cooling()\n",
    "    \n",
    "    # Flux comparison\n",
    "    show_html(climahtml.getHTML_idanchor(s_tb_flux))\n",
    "    show_markdown(climahtml.getMarkdown_sectitle(s_tb_flux))\n",
    "    script_tb_flux()\n",
    "    \n",
    "    # Best-fit values\n",
    "    show_html(climahtml.getHTML_idanchor(s_bestfits))\n",
    "    show_markdown(climahtml.getMarkdown_sectitle(s_bestfits))\n",
    "    print_bestfit_params()\n",
    "   \n",
    "    "
   ]
  },
  {
   "cell_type": "code",
   "execution_count": 12,
   "metadata": {
    "collapsed": true,
    "scrolled": false
   },
   "outputs": [
    {
     "data": {
      "text/markdown": [
       "### CLIRAD-LW"
      ],
      "text/plain": [
       "<IPython.core.display.Markdown object>"
      ]
     },
     "metadata": {},
     "output_type": "display_data"
    },
    {
     "data": {
      "text/markdown": [
       "### Table of Contents"
      ],
      "text/plain": [
       "<IPython.core.display.Markdown object>"
      ]
     },
     "metadata": {},
     "output_type": "display_data"
    },
    {
     "data": {
      "text/html": [
       "<a href=\"#Input_Parameters\">Input Parameters</a>"
      ],
      "text/plain": [
       "<IPython.core.display.HTML object>"
      ]
     },
     "metadata": {},
     "output_type": "display_data"
    },
    {
     "data": {
      "text/html": [
       "<a href=\"#LBLNEW_case_compaired_against\">LBLNEW case compaired against</a>"
      ],
      "text/plain": [
       "<IPython.core.display.HTML object>"
      ]
     },
     "metadata": {},
     "output_type": "display_data"
    },
    {
     "data": {
      "text/html": [
       "<a href=\"#Cooling_Rate_Profiles\">Cooling Rate Profiles</a>"
      ],
      "text/plain": [
       "<IPython.core.display.HTML object>"
      ]
     },
     "metadata": {},
     "output_type": "display_data"
    },
    {
     "data": {
      "text/html": [
       "<a href=\"#Flux_Comparison\">Flux Comparison</a>"
      ],
      "text/plain": [
       "<IPython.core.display.HTML object>"
      ]
     },
     "metadata": {},
     "output_type": "display_data"
    },
    {
     "data": {
      "text/html": [
       "<a href=\"#Best-fit_Parameters\">Best-fit Parameters</a>"
      ],
      "text/plain": [
       "<IPython.core.display.HTML object>"
      ]
     },
     "metadata": {},
     "output_type": "display_data"
    },
    {
     "data": {
      "text/html": [
       "<a id=\"Input_Parameters\"></a>"
      ],
      "text/plain": [
       "<IPython.core.display.HTML object>"
      ]
     },
     "metadata": {},
     "output_type": "display_data"
    },
    {
     "data": {
      "text/markdown": [
       "# Input Parameters"
      ],
      "text/plain": [
       "<IPython.core.display.Markdown object>"
      ]
     },
     "metadata": {},
     "output_type": "display_data"
    },
    {
     "name": "stdout",
     "output_type": "stream",
     "text": [
      "atmpro = trp\n",
      "band = [7]\n",
      "commitnumber = de5d43e\n",
      "molecule = {'o3': 'atmpro'}\n",
      "tsfc = 300\n"
     ]
    },
    {
     "data": {
      "text/html": [
       "<a id=\"LBLNEW_case_compaired_against\"></a>"
      ],
      "text/plain": [
       "<IPython.core.display.HTML object>"
      ]
     },
     "metadata": {},
     "output_type": "display_data"
    },
    {
     "data": {
      "text/markdown": [
       "# LBLNEW case compaired against"
      ],
      "text/plain": [
       "<IPython.core.display.Markdown object>"
      ]
     },
     "metadata": {},
     "output_type": "display_data"
    },
    {
     "name": "stdout",
     "output_type": "stream",
     "text": [
      "atmpro = trp\n",
      "band = 5\n",
      "commitnumber = 5014a19\n",
      "conc = None\n",
      "dv = 0.001\n",
      "klin = 2e-20\n",
      "molecule = o3\n",
      "ng_adju = [0, 0]\n",
      "ng_refs = [2, 5]\n",
      "nv = 1000\n",
      "option_compute_btable = 0\n",
      "option_compute_ktable = 0\n",
      "option_wgt_flux = 1\n",
      "option_wgt_k = 1\n",
      "ref_pts = [(1, 250), (50, 250)]\n",
      "tsfc = 300\n",
      "vmax = 1100\n",
      "vmin = 980\n",
      "w_diffuse = [(1.6, 1.75), (1.55, 1.66, 1.7, 1.75, 1.8)]\n",
      "wgt = [(0.35, 0.6), (0.5, 0.55, 0.7, 0.9, 1.0)]\n"
     ]
    },
    {
     "data": {
      "text/html": [
       "<a id=\"Cooling_Rate_Profiles\"></a>"
      ],
      "text/plain": [
       "<IPython.core.display.HTML object>"
      ]
     },
     "metadata": {},
     "output_type": "display_data"
    },
    {
     "data": {
      "text/markdown": [
       "# Cooling Rate Profiles"
      ],
      "text/plain": [
       "<IPython.core.display.Markdown object>"
      ]
     },
     "metadata": {},
     "output_type": "display_data"
    },
    {
     "data": {
      "text/html": [
       "\n",
       "<div class=\"bk-root\">\n",
       "    <div class=\"bk-plotdiv\" id=\"85b018e1-de95-4681-b99c-35bd89616ea9\"></div>\n",
       "</div>"
      ]
     },
     "metadata": {},
     "output_type": "display_data"
    },
    {
     "data": {
      "application/javascript": [
       "(function(root) {\n",
       "  function embed_document(root) {\n",
       "    \n",
       "  var docs_json = {\"70e6391a-3723-4e96-b89c-ea0409c2937a\":{\"roots\":{\"references\":[{\"attributes\":{\"callback\":null,\"end\":0.01,\"start\":1020},\"id\":\"6b548d8e-2189-4f57-85e4-853d68d1b7c2\",\"type\":\"Range1d\"},{\"attributes\":{\"line_color\":\"#4daf4a\",\"line_width\":1.5,\"x\":{\"field\":\"x\"},\"y\":{\"field\":\"y\"}},\"id\":\"74e20d71-764a-4d5c-bc36-c5dcb47f4c5b\",\"type\":\"Line\"},{\"attributes\":{\"dimension\":1,\"plot\":{\"id\":\"0cddea04-4d2f-44fd-bfed-165755199aa9\",\"subtype\":\"Figure\",\"type\":\"Plot\"},\"ticker\":{\"id\":\"417dd6eb-9f2a-4a20-9d5a-c2d79e175880\",\"type\":\"BasicTicker\"}},\"id\":\"fa9831c0-08e5-4303-9a4c-b537254bf66f\",\"type\":\"Grid\"},{\"attributes\":{\"line_alpha\":0.6,\"line_color\":\"#e41a1c\",\"line_dash\":[6],\"line_width\":5,\"x\":{\"field\":\"x\"},\"y\":{\"field\":\"y\"}},\"id\":\"09bb9043-fdcf-456d-85c7-06113dfa48c1\",\"type\":\"Line\"},{\"attributes\":{},\"id\":\"3dc3ab6a-906c-4978-8ef6-33b7ac444f48\",\"type\":\"BasicTicker\"},{\"attributes\":{},\"id\":\"159d71f2-e2d3-4a23-b9ea-04651b4222ca\",\"type\":\"Selection\"},{\"attributes\":{\"callback\":null,\"data\":{\"x\":{\"__ndarray__\":\"lLK5KIJRnr+fsiDo9v+gv8HdcFdjlKS/82rKX2sAqL/KyvIfGUWrv/nrLLJRYa6/cNhdcGuqsL90KPfGBg6yv0StFd/jW7O/0mx3PwmUtL/AqCPOKra1vxMx91n9wra/YVhoYfu7t78vAjVFGHC4v04s4+va+re/q2RExd9Gsr96gsl40D+Cv1W6YBUUq7o/7M37QVXz0T/gIK1zBBfhPz/9qelhJew/S8G/rWCg9D8oe/B/7Fr5P3aYQFsYM/o/Bo2qcBX19z9J8fEJ2bnyP5x+u7IsNOo/MHLku3Os4T9h+qBfQqLXP8zhKLMgGMg/+4DxIP7gqr8qog1d3IjSv/Cvkk3Bc9+/7uvAOSPK47/gk3ejySTjv2JKJNHL6Ni/n19rIY6Wx7/FxkDH3O+8v37CPNggm7e/9/e5pOHJs7+nRApMRMuwv27I4cGGD6y/mZN1CoJfp79PG6WwKnmjv8A+NbwrS6C/P5JVu215m78+eRHTqR6Xv4OZmCkLMZO/KCHSG2B5j79xYItAaWaJv5ltdLxstYO/qfp86MeFfL+HIuEanxJyv3tXYG8yD2C/zebjzGC2OT8CgZiNWMdlP0gkND8D1XM/oOBPPSx1fD9vpYggj1+CPwOk2gCceYY/eb3Y1KmNij/3JBoep1qOP9zVwmRe0pA/Zgll884nkj+46+z+jUqTP3HfCiuMYpQ/hSFjz02ElT+OBPSkR7GWP89Y+Tqw6Zc/1HbF7GIjmT9qLAa0GUyaP9kh7zYeVZs/sZkgQ/dHnD+cE9nZICudP6SUWYJhAJ4/\",\"dtype\":\"float64\",\"shape\":[75]},\"y\":{\"__ndarray__\":\"S/O/Q+51ND/Sv8nbtpRIP2vylNV0PVE/aTum7souWD/At0SJ8fVgPw3Iuahxymc/MSNhhJWvcD/bTfBN02d3P2zb5nxnaoA/CD5h5MAGhz8NmeH1TyaQP+zrCsc9p5Y/LbKd76fGnz/bLW5ISEmmPww9YvTcQq8/JV2OstnstT8Er5Y7M8G+P0c+r3jqkcU/5h99k6ZBzj88bCIzFzjVP4enV8oyxN0//yH99nXg5D8qOpLLf0jtP5kqGJXUifQ/c9cS8kHP/D+/DpwzojQEQIEmwoanVwxA4lgXt9HgE0BSSZ2AJuIbQAMJih9jjiNA5q4l5INuK0AwTKYKRj0zQNv5fmq8/DpAaCJseHrtQkB/+zpwzoxKQM3MzMzMeFJAZmZmZmZqWEAAAAAAAFxeQM3MzMzMJmJAmpmZmZkfZUBmZmZmZhhoQDMzMzMzEWtAAAAAAAAKbkBmZmZmZoFwQM3MzMzM/XFAMzMzMzN6c0CamZmZmfZ0QAAAAAAAc3ZAZmZmZmbvd0DNzMzMzGt5QDMzMzMz6HpAmpmZmZlkfEAAAAAAAOF9QGZmZmZmXX9AZmZmZuZsgECamZmZGSuBQM3MzMxM6YFAAAAAAICngkAzMzMzs2WDQGZmZmbmI4RAmpmZmRnihEDNzMzMTKCFQAAAAACAXoZAMzMzM7Mch0BmZmZm5tqHQJqZmZkZmYhAzczMzExXiUAAAAAAgBWKQDMzMzOz04pAZmZmZuaRi0CamZmZGVCMQM3MzMxMDo1AAAAAAIDMjUAzMzMzs4qOQGZmZmbmSI9A\",\"dtype\":\"float64\",\"shape\":[75]}},\"selected\":{\"id\":\"5c241948-fbf5-41ca-a2a4-0b711edf9710\",\"type\":\"Selection\"},\"selection_policy\":{\"id\":\"c0b21100-8e2f-47f3-a932-fe2dc4759dab\",\"type\":\"UnionRenderers\"}},\"id\":\"af425a68-c0ef-4a68-88cb-912c3c65dd48\",\"type\":\"ColumnDataSource\"},{\"attributes\":{},\"id\":\"4e2d2549-1d62-402f-9a72-b85829284a28\",\"type\":\"PanTool\"},{\"attributes\":{},\"id\":\"417dd6eb-9f2a-4a20-9d5a-c2d79e175880\",\"type\":\"BasicTicker\"},{\"attributes\":{\"line_alpha\":0.1,\"line_color\":\"#1f77b4\",\"line_width\":1.5,\"x\":{\"field\":\"x\"},\"y\":{\"field\":\"y\"}},\"id\":\"6a51f02b-4481-496b-92b3-3df7f0a7f074\",\"type\":\"Line\"},{\"attributes\":{\"plot\":{\"id\":\"0cddea04-4d2f-44fd-bfed-165755199aa9\",\"subtype\":\"Figure\",\"type\":\"Plot\"},\"ticker\":{\"id\":\"3dc3ab6a-906c-4978-8ef6-33b7ac444f48\",\"type\":\"BasicTicker\"}},\"id\":\"61efae30-a588-4c02-a77e-c7137167d882\",\"type\":\"Grid\"},{\"attributes\":{\"below\":[{\"id\":\"a59863fd-0066-4780-86cd-d84902a0b752\",\"type\":\"LinearAxis\"}],\"left\":[{\"id\":\"91c094c5-6020-42b9-9ec6-96da14c8c549\",\"type\":\"LogAxis\"}],\"plot_height\":500,\"plot_width\":560,\"renderers\":[{\"id\":\"a59863fd-0066-4780-86cd-d84902a0b752\",\"type\":\"LinearAxis\"},{\"id\":\"9c5172b0-3f2b-49ae-bb89-aea5e9605168\",\"type\":\"Grid\"},{\"id\":\"91c094c5-6020-42b9-9ec6-96da14c8c549\",\"type\":\"LogAxis\"},{\"id\":\"3617eb21-e406-4285-9446-8091e877c071\",\"type\":\"Grid\"},{\"id\":\"c6ddbad9-50ca-4ab1-88e9-9fec03a70bb8\",\"type\":\"BoxAnnotation\"},{\"id\":\"25290f8f-8a3d-4b31-a34c-b88bd1ca73f2\",\"type\":\"GlyphRenderer\"},{\"id\":\"4bad230a-5db4-416c-ac3b-47a20f8db48d\",\"type\":\"GlyphRenderer\"},{\"id\":\"9e14c9d0-97c3-4e61-a3d0-4a9af0f9f99e\",\"type\":\"GlyphRenderer\"},{\"id\":\"eea5c9a8-cf78-4c0e-ad77-f63ce05574c9\",\"type\":\"GlyphRenderer\"},{\"id\":\"83cbf81f-6503-4350-8b32-e1f6b548b07a\",\"type\":\"GlyphRenderer\"},{\"id\":\"8b43e0ed-c110-4828-8613-862251225152\",\"type\":\"Legend\"}],\"right\":[{\"id\":\"8b43e0ed-c110-4828-8613-862251225152\",\"type\":\"Legend\"}],\"title\":{\"id\":\"708f969f-6928-4113-8d5e-0961a83dca87\",\"type\":\"Title\"},\"toolbar\":{\"id\":\"45f7946b-4c6a-4433-a195-4b8ebdd7dc0b\",\"type\":\"Toolbar\"},\"toolbar_location\":null,\"x_range\":{\"id\":\"f43a40dd-9abe-424f-8d54-e8f3253f6bde\",\"type\":\"Range1d\"},\"x_scale\":{\"id\":\"289f0239-86ae-4b14-bb32-1117d241f23c\",\"type\":\"LinearScale\"},\"y_range\":{\"id\":\"5733f12a-a8ec-4b09-a248-b11a140df387\",\"type\":\"Range1d\"},\"y_scale\":{\"id\":\"2d82911f-f872-40d4-9bd0-13ec5fc98d57\",\"type\":\"LogScale\"}},\"id\":\"47a9fe01-558d-4666-83bd-304ce86fe2a2\",\"subtype\":\"Figure\",\"type\":\"Plot\"},{\"attributes\":{\"below\":[{\"id\":\"60754894-5513-4307-84fc-664699367920\",\"type\":\"LinearAxis\"}],\"left\":[{\"id\":\"ecb523f5-b47c-4953-9861-0792c408399c\",\"type\":\"LinearAxis\"}],\"plot_height\":500,\"plot_width\":400,\"renderers\":[{\"id\":\"60754894-5513-4307-84fc-664699367920\",\"type\":\"LinearAxis\"},{\"id\":\"61efae30-a588-4c02-a77e-c7137167d882\",\"type\":\"Grid\"},{\"id\":\"ecb523f5-b47c-4953-9861-0792c408399c\",\"type\":\"LinearAxis\"},{\"id\":\"fa9831c0-08e5-4303-9a4c-b537254bf66f\",\"type\":\"Grid\"},{\"id\":\"aaff97b9-6b8d-4e8d-aa5c-53b9ad5c7e33\",\"type\":\"BoxAnnotation\"},{\"id\":\"bbec3f10-75a0-42dd-81f9-3828065b3a50\",\"type\":\"GlyphRenderer\"},{\"id\":\"bde3a798-66fe-4f01-92f4-8b90a7e89de0\",\"type\":\"GlyphRenderer\"},{\"id\":\"bf716191-6aa8-4064-af9d-7178a77b7491\",\"type\":\"GlyphRenderer\"},{\"id\":\"f28b9722-1195-4db0-afd0-3132f2f9977b\",\"type\":\"GlyphRenderer\"},{\"id\":\"2bec3965-d20b-4ca1-a513-9b8faa9974db\",\"type\":\"GlyphRenderer\"}],\"title\":{\"id\":\"b31a90f5-26e6-449b-921f-dd3eea0dbd27\",\"type\":\"Title\"},\"toolbar\":{\"id\":\"b7a7ec8b-7d51-4553-a041-7f90759a509c\",\"type\":\"Toolbar\"},\"toolbar_location\":null,\"x_range\":{\"id\":\"df125f3f-2878-4708-b108-13283c89fb02\",\"type\":\"Range1d\"},\"x_scale\":{\"id\":\"b925798d-26a8-4d84-a5a6-4d377f7dec47\",\"type\":\"LinearScale\"},\"y_range\":{\"id\":\"6b548d8e-2189-4f57-85e4-853d68d1b7c2\",\"type\":\"Range1d\"},\"y_scale\":{\"id\":\"f4a2adbb-e6d6-4828-97c7-1bd7479160a8\",\"type\":\"LinearScale\"}},\"id\":\"0cddea04-4d2f-44fd-bfed-165755199aa9\",\"subtype\":\"Figure\",\"type\":\"Plot\"},{\"attributes\":{\"axis_label\":\"pressure [mb]\",\"formatter\":{\"id\":\"e87b8699-f594-400f-bd09-5cbcb4598028\",\"type\":\"BasicTickFormatter\"},\"plot\":{\"id\":\"0cddea04-4d2f-44fd-bfed-165755199aa9\",\"subtype\":\"Figure\",\"type\":\"Plot\"},\"ticker\":{\"id\":\"417dd6eb-9f2a-4a20-9d5a-c2d79e175880\",\"type\":\"BasicTicker\"}},\"id\":\"ecb523f5-b47c-4953-9861-0792c408399c\",\"type\":\"LinearAxis\"},{\"attributes\":{\"line_alpha\":0.1,\"line_color\":\"#1f77b4\",\"line_dash\":[6],\"line_width\":5,\"x\":{\"field\":\"x\"},\"y\":{\"field\":\"y\"}},\"id\":\"15787c2b-0e1d-4d3c-9682-72c901b20932\",\"type\":\"Line\"},{\"attributes\":{\"source\":{\"id\":\"c5a30820-6a1d-4f64-93cc-b87289394eda\",\"type\":\"ColumnDataSource\"}},\"id\":\"3df9fbb1-a778-45ef-9650-44da83ef9c03\",\"type\":\"CDSView\"},{\"attributes\":{},\"id\":\"b925798d-26a8-4d84-a5a6-4d377f7dec47\",\"type\":\"LinearScale\"},{\"attributes\":{\"callback\":null,\"data\":{\"x\":{\"__ndarray__\":\"L51n0PYGo7/as8vdBU+lv6Rd+eqysam/VfWIV63arb+cJbyVCeWwv0mGYzBbv7K/auoe1KN7tL8mdjp+Ehm2v4I1ye1pl7e/dumoaIH9uL+/0ERUuFC6v3ju+z+glru/oQFpvefZvL/+pfvvd969v6GXm7nREb2//ieqd+sOtb+E+1N7MOhWv536m6tBc8E/84wBAmvP1T8eEfhoFu3jP9VJz1c93u8/uNyqNd7n9j8eR2I4jUP7P+Mh51g5D/s/W4mKgipf+D+4/gLmxlnzP5rD/2fee+s/QwaPwjdl4j8YU7g3IozXP5OcfhZsn8U/WQn8Mi+/sb8fqkJm26fSv6pqejezKd6/MB1KH4AV4r9xVI+wf+ngv7tK0pBMota/7Agzrxudxr/Jfi/oMYi8v/5VA3F3hre/vs4gGurrs7+vnamJnhGxvzow64ulxKy/GLNnx/QhqL9PEkgSTzmkv6jVDoFOAaG/jtK5YzDNnL9hdQ/Jw1SYv7IL4A86RpS/MWpFO3GwkL9GOjFbGg6Lv6LwveUIHoW/FMdp30/afr/O6IKT2Olzv/lt5z6iyWK/liHw70DNJz/RKwA3GwxlPweDwzjs+HM/fJ3HbaMdfT+rt4zvGfaCP97t1SL9UYc/yrEOqoGkiz/yQPf096OPP3c+/C/phZE/FrgCKwPekj/sKiN8j/2TP4IZwEz1E5U/+2qLjos6lj/n+Z5UpXSXP0adw/n3wJg/Htm6ptARmj8BZN5mzlObPyQo9Zpbd5w/yuuJ+pmEnT/DLZsQpYOeP2o6ltKOdp8/\",\"dtype\":\"float64\",\"shape\":[75]},\"y\":{\"__ndarray__\":\"GhExyth1ND/Sv8nbtpRIP2vylNV0PVE/aTum7souWD/At0SJ8fVgPw3Iuahxymc/MSNhhJWvcD/bTfBN02d3P2zb5nxnaoA/CD5h5MAGhz8NmeH1TyaQP+zrCsc9p5Y/LbKd76fGnz/bLW5ISEmmPww9YvTcQq8/JV2OstnstT8Er5Y7M8G+P0c+r3jqkcU/5h99k6ZBzj88bCIzFzjVP4enV8oyxN0//yH99nXg5D8qOpLLf0jtP5kqGJXUifQ/c9cS8kHP/D+/DpwzojQEQIEmwoanVwxA4lgXt9HgE0BSSZ2AJuIbQAMJih9jjiNA5q4l5INuK0AwTKYKRj0zQNv5fmq8/DpAaCJseHrtQkB/+zpwzoxKQM3MzMzMeFJAZmZmZmZqWEAAAAAAAFxeQM3MzMzMJmJAmpmZmZkfZUBmZmZmZhhoQDMzMzMzEWtAAAAAAAAKbkBmZmZmZoFwQM3MzMzM/XFAMzMzMzN6c0CamZmZmfZ0QAAAAAAAc3ZAZmZmZmbvd0DNzMzMzGt5QDMzMzMz6HpAmpmZmZlkfEAAAAAAAOF9QGZmZmZmXX9AZmZmZuZsgECamZmZGSuBQM3MzMxM6YFAAAAAAICngkAzMzMzs2WDQGZmZmbmI4RAmpmZmRnihEDNzMzMTKCFQAAAAACAXoZAMzMzM7Mch0BmZmZm5tqHQJqZmZkZmYhAzczMzExXiUAAAAAAgBWKQDMzMzOz04pAZmZmZuaRi0CamZmZGVCMQM3MzMxMDo1AAAAAAIDMjUAzMzMzs4qOQGZmZmbmSI9A\",\"dtype\":\"float64\",\"shape\":[75]}},\"selected\":{\"id\":\"db50c356-408e-433a-99b1-5c1c381ec14a\",\"type\":\"Selection\"},\"selection_policy\":{\"id\":\"051dbd9b-e27f-4282-accd-479848189dca\",\"type\":\"UnionRenderers\"}},\"id\":\"e94f1ea3-ca60-4a3c-a0a7-2c6be3c8859e\",\"type\":\"ColumnDataSource\"},{\"attributes\":{\"callback\":null,\"end\":0.0370153638,\"start\":-0.6045303437999999},\"id\":\"df125f3f-2878-4708-b108-13283c89fb02\",\"type\":\"Range1d\"},{\"attributes\":{\"axis_label\":\"cooling rate [K/day]\",\"formatter\":{\"id\":\"c9b598d6-fb4b-4595-b0e1-b27e052dc023\",\"type\":\"BasicTickFormatter\"},\"plot\":{\"id\":\"0cddea04-4d2f-44fd-bfed-165755199aa9\",\"subtype\":\"Figure\",\"type\":\"Plot\"},\"ticker\":{\"id\":\"3dc3ab6a-906c-4978-8ef6-33b7ac444f48\",\"type\":\"BasicTicker\"}},\"id\":\"60754894-5513-4307-84fc-664699367920\",\"type\":\"LinearAxis\"},{\"attributes\":{\"plot\":null,\"text\":\"Linear pressure scale\"},\"id\":\"b31a90f5-26e6-449b-921f-dd3eea0dbd27\",\"type\":\"Title\"},{\"attributes\":{},\"id\":\"f4a2adbb-e6d6-4828-97c7-1bd7479160a8\",\"type\":\"LinearScale\"},{\"attributes\":{\"toolbar\":{\"id\":\"440c44b9-3501-4e97-a39c-71ec35d0f019\",\"type\":\"ProxyToolbar\"},\"toolbar_location\":\"above\"},\"id\":\"6343a598-c965-4e4c-a7c8-04e2b479188a\",\"type\":\"ToolbarBox\"},{\"attributes\":{},\"id\":\"370fdfc8-83fa-49c3-9791-59af1c8f98ea\",\"type\":\"HelpTool\"},{\"attributes\":{\"plot\":{\"id\":\"47a9fe01-558d-4666-83bd-304ce86fe2a2\",\"subtype\":\"Figure\",\"type\":\"Plot\"},\"ticker\":{\"id\":\"73d9097b-7f67-443e-ab3a-afbc64b8c85b\",\"type\":\"BasicTicker\"}},\"id\":\"9c5172b0-3f2b-49ae-bb89-aea5e9605168\",\"type\":\"Grid\"},{\"attributes\":{\"line_alpha\":0.1,\"line_color\":\"#1f77b4\",\"line_width\":3,\"x\":{\"field\":\"x\"},\"y\":{\"field\":\"y\"}},\"id\":\"398c4d7b-b84f-49c7-899a-e08c1cf3fb96\",\"type\":\"Line\"},{\"attributes\":{\"items\":[{\"id\":\"495d6e82-e30d-4a8c-800a-15065bb6e968\",\"type\":\"LegendItem\"},{\"id\":\"82899325-8c8f-40e0-9a43-7944453f4e41\",\"type\":\"LegendItem\"},{\"id\":\"e24359e8-513b-4f1e-8199-11401b6be7d0\",\"type\":\"LegendItem\"}],\"label_text_font_size\":{\"value\":\"8pt\"},\"location\":[10,-30],\"plot\":{\"id\":\"47a9fe01-558d-4666-83bd-304ce86fe2a2\",\"subtype\":\"Figure\",\"type\":\"Plot\"}},\"id\":\"8b43e0ed-c110-4828-8613-862251225152\",\"type\":\"Legend\"},{\"attributes\":{\"ticker\":null},\"id\":\"f88af6f0-02de-43c1-ad69-40b4527a7a2b\",\"type\":\"LogTickFormatter\"},{\"attributes\":{},\"id\":\"64f41c56-d72c-4b98-82a7-89002cb5d660\",\"type\":\"UnionRenderers\"},{\"attributes\":{\"active_drag\":\"auto\",\"active_inspect\":\"auto\",\"active_scroll\":\"auto\",\"active_tap\":\"auto\",\"tools\":[{\"id\":\"89903527-5392-4dbc-9136-2f1181b80910\",\"type\":\"PanTool\"},{\"id\":\"5752c0e3-0419-49a5-8b9e-1ec61b33ddbb\",\"type\":\"WheelZoomTool\"},{\"id\":\"8c8aa0de-8aef-4100-a8e4-2eeff80efcff\",\"type\":\"BoxZoomTool\"},{\"id\":\"ead91708-1779-41f9-b62e-3718f63d1809\",\"type\":\"SaveTool\"},{\"id\":\"95fde2d0-1816-42ce-92c6-e57281612a32\",\"type\":\"ResetTool\"},{\"id\":\"d88a74eb-a0fd-4056-ad73-7710a0322e23\",\"type\":\"HelpTool\"}]},\"id\":\"45f7946b-4c6a-4433-a195-4b8ebdd7dc0b\",\"type\":\"Toolbar\"},{\"attributes\":{},\"id\":\"676d5ed7-9367-4ad7-b836-89f39cf7d87e\",\"type\":\"UnionRenderers\"},{\"attributes\":{},\"id\":\"ae3b4658-fed8-4452-aedf-12497c5b18fa\",\"type\":\"Selection\"},{\"attributes\":{},\"id\":\"2d72eeb2-be55-4da2-ae01-40ec68ce6156\",\"type\":\"Selection\"},{\"attributes\":{},\"id\":\"cdb23b30-5c51-4136-8e55-e32fe63bed9d\",\"type\":\"WheelZoomTool\"},{\"attributes\":{\"source\":{\"id\":\"8758bd04-0fa0-4f9a-81e6-58812078ff47\",\"type\":\"ColumnDataSource\"}},\"id\":\"bafc4d1f-1aa7-44d4-a1c5-e019203a4a21\",\"type\":\"CDSView\"},{\"attributes\":{},\"id\":\"37142905-9ad4-435e-ba38-c366ca63143d\",\"type\":\"Selection\"},{\"attributes\":{},\"id\":\"e3ca87d7-6cd7-4ed6-9340-cda56e23a646\",\"type\":\"UnionRenderers\"},{\"attributes\":{\"plot\":null,\"text\":\"Log pressure scale\"},\"id\":\"708f969f-6928-4113-8d5e-0961a83dca87\",\"type\":\"Title\"},{\"attributes\":{},\"id\":\"cfafc5fb-0a61-47f5-9260-cb33a7ba8e33\",\"type\":\"UnionRenderers\"},{\"attributes\":{\"data_source\":{\"id\":\"8758bd04-0fa0-4f9a-81e6-58812078ff47\",\"type\":\"ColumnDataSource\"},\"glyph\":{\"id\":\"0ab74635-0b67-4af5-8326-93d53a3b158b\",\"type\":\"Line\"},\"hover_glyph\":null,\"muted_glyph\":null,\"nonselection_glyph\":{\"id\":\"35f71cbb-1dd8-4501-8aac-ca53b276ca97\",\"type\":\"Line\"},\"selection_glyph\":null,\"view\":{\"id\":\"bafc4d1f-1aa7-44d4-a1c5-e019203a4a21\",\"type\":\"CDSView\"}},\"id\":\"2bec3965-d20b-4ca1-a513-9b8faa9974db\",\"type\":\"GlyphRenderer\"},{\"attributes\":{},\"id\":\"af6d0349-6197-49f0-8737-35f4a264427d\",\"type\":\"Selection\"},{\"attributes\":{\"tools\":[{\"id\":\"4e2d2549-1d62-402f-9a72-b85829284a28\",\"type\":\"PanTool\"},{\"id\":\"cdb23b30-5c51-4136-8e55-e32fe63bed9d\",\"type\":\"WheelZoomTool\"},{\"id\":\"8dee94df-5cf2-468c-84f1-5d029d865860\",\"type\":\"BoxZoomTool\"},{\"id\":\"f53dac3e-38fd-43f2-a3a0-bee2dc598f33\",\"type\":\"SaveTool\"},{\"id\":\"2a10ef17-1e83-422a-b1f6-23549eeedd73\",\"type\":\"ResetTool\"},{\"id\":\"370fdfc8-83fa-49c3-9791-59af1c8f98ea\",\"type\":\"HelpTool\"},{\"id\":\"89903527-5392-4dbc-9136-2f1181b80910\",\"type\":\"PanTool\"},{\"id\":\"5752c0e3-0419-49a5-8b9e-1ec61b33ddbb\",\"type\":\"WheelZoomTool\"},{\"id\":\"8c8aa0de-8aef-4100-a8e4-2eeff80efcff\",\"type\":\"BoxZoomTool\"},{\"id\":\"ead91708-1779-41f9-b62e-3718f63d1809\",\"type\":\"SaveTool\"},{\"id\":\"95fde2d0-1816-42ce-92c6-e57281612a32\",\"type\":\"ResetTool\"},{\"id\":\"d88a74eb-a0fd-4056-ad73-7710a0322e23\",\"type\":\"HelpTool\"}]},\"id\":\"440c44b9-3501-4e97-a39c-71ec35d0f019\",\"type\":\"ProxyToolbar\"},{\"attributes\":{\"line_alpha\":0.6,\"line_color\":\"#984ea3\",\"line_width\":3,\"x\":{\"field\":\"x\"},\"y\":{\"field\":\"y\"}},\"id\":\"0ab74635-0b67-4af5-8326-93d53a3b158b\",\"type\":\"Line\"},{\"attributes\":{\"fill_alpha\":{\"value\":0.7},\"fill_color\":{\"value\":\"#984ea3\"},\"line_alpha\":{\"value\":0.7},\"line_color\":{\"value\":\"#984ea3\"},\"x\":{\"field\":\"x\"},\"y\":{\"field\":\"y\"}},\"id\":\"7397adca-111f-4e74-b3fa-2b00c738304a\",\"type\":\"Square\"},{\"attributes\":{},\"id\":\"db266398-6701-4427-bd68-16d4a9f8683e\",\"type\":\"UnionRenderers\"},{\"attributes\":{\"line_alpha\":0.1,\"line_color\":\"#1f77b4\",\"line_dash\":[6],\"line_width\":5,\"x\":{\"field\":\"x\"},\"y\":{\"field\":\"y\"}},\"id\":\"313f31dc-11f6-4039-a895-ea32990a539c\",\"type\":\"Line\"},{\"attributes\":{},\"id\":\"86f6eb9b-3e3b-437e-a468-79543ba3832a\",\"type\":\"Selection\"},{\"attributes\":{\"children\":[{\"id\":\"6343a598-c965-4e4c-a7c8-04e2b479188a\",\"type\":\"ToolbarBox\"},{\"id\":\"cfec3e97-fa0e-478e-8894-aefe5259a87a\",\"type\":\"Column\"}]},\"id\":\"7be13482-5901-4834-bfe3-7109cb395e11\",\"type\":\"Column\"},{\"attributes\":{\"line_alpha\":0.1,\"line_color\":\"#1f77b4\",\"line_width\":3,\"x\":{\"field\":\"x\"},\"y\":{\"field\":\"y\"}},\"id\":\"35f71cbb-1dd8-4501-8aac-ca53b276ca97\",\"type\":\"Line\"},{\"attributes\":{\"callback\":null,\"data\":{\"x\":{\"__ndarray__\":\"L51n0PYGo7/as8vdBU+lv6Rd+eqysam/VfWIV63arb+cJbyVCeWwv0mGYzBbv7K/auoe1KN7tL8mdjp+Ehm2v4I1ye1pl7e/dumoaIH9uL+/0ERUuFC6v3ju+z+glru/oQFpvefZvL/+pfvvd969v6GXm7nREb2//ieqd+sOtb+E+1N7MOhWv536m6tBc8E/84wBAmvP1T8eEfhoFu3jP9VJz1c93u8/uNyqNd7n9j8eR2I4jUP7P+Mh51g5D/s/W4mKgipf+D+4/gLmxlnzP5rD/2fee+s/QwaPwjdl4j8YU7g3IozXP5OcfhZsn8U/WQn8Mi+/sb8fqkJm26fSv6pqejezKd6/MB1KH4AV4r9xVI+wf+ngv7tK0pBMota/7Agzrxudxr/Jfi/oMYi8v/5VA3F3hre/vs4gGurrs7+vnamJnhGxvzow64ulxKy/GLNnx/QhqL9PEkgSTzmkv6jVDoFOAaG/jtK5YzDNnL9hdQ/Jw1SYv7IL4A86RpS/MWpFO3GwkL9GOjFbGg6Lv6LwveUIHoW/FMdp30/afr/O6IKT2Olzv/lt5z6iyWK/liHw70DNJz/RKwA3GwxlPweDwzjs+HM/fJ3HbaMdfT+rt4zvGfaCP97t1SL9UYc/yrEOqoGkiz/yQPf096OPP3c+/C/phZE/FrgCKwPekj/sKiN8j/2TP4IZwEz1E5U/+2qLjos6lj/n+Z5UpXSXP0adw/n3wJg/Htm6ptARmj8BZN5mzlObPyQo9Zpbd5w/yuuJ+pmEnT/DLZsQpYOeP2o6ltKOdp8/\",\"dtype\":\"float64\",\"shape\":[75]},\"y\":{\"__ndarray__\":\"GhExyth1ND/Sv8nbtpRIP2vylNV0PVE/aTum7souWD/At0SJ8fVgPw3Iuahxymc/MSNhhJWvcD/bTfBN02d3P2zb5nxnaoA/CD5h5MAGhz8NmeH1TyaQP+zrCsc9p5Y/LbKd76fGnz/bLW5ISEmmPww9YvTcQq8/JV2OstnstT8Er5Y7M8G+P0c+r3jqkcU/5h99k6ZBzj88bCIzFzjVP4enV8oyxN0//yH99nXg5D8qOpLLf0jtP5kqGJXUifQ/c9cS8kHP/D+/DpwzojQEQIEmwoanVwxA4lgXt9HgE0BSSZ2AJuIbQAMJih9jjiNA5q4l5INuK0AwTKYKRj0zQNv5fmq8/DpAaCJseHrtQkB/+zpwzoxKQM3MzMzMeFJAZmZmZmZqWEAAAAAAAFxeQM3MzMzMJmJAmpmZmZkfZUBmZmZmZhhoQDMzMzMzEWtAAAAAAAAKbkBmZmZmZoFwQM3MzMzM/XFAMzMzMzN6c0CamZmZmfZ0QAAAAAAAc3ZAZmZmZmbvd0DNzMzMzGt5QDMzMzMz6HpAmpmZmZlkfEAAAAAAAOF9QGZmZmZmXX9AZmZmZuZsgECamZmZGSuBQM3MzMxM6YFAAAAAAICngkAzMzMzs2WDQGZmZmbmI4RAmpmZmRnihEDNzMzMTKCFQAAAAACAXoZAMzMzM7Mch0BmZmZm5tqHQJqZmZkZmYhAzczMzExXiUAAAAAAgBWKQDMzMzOz04pAZmZmZuaRi0CamZmZGVCMQM3MzMxMDo1AAAAAAIDMjUAzMzMzs4qOQGZmZmbmSI9A\",\"dtype\":\"float64\",\"shape\":[75]}},\"selected\":{\"id\":\"ae3b4658-fed8-4452-aedf-12497c5b18fa\",\"type\":\"Selection\"},\"selection_policy\":{\"id\":\"676d5ed7-9367-4ad7-b836-89f39cf7d87e\",\"type\":\"UnionRenderers\"}},\"id\":\"0bb9ac76-5fed-4ddb-ad4a-198cf6ff46f7\",\"type\":\"ColumnDataSource\"},{\"attributes\":{\"line_color\":\"#4daf4a\",\"line_width\":1.5,\"x\":{\"field\":\"x\"},\"y\":{\"field\":\"y\"}},\"id\":\"8c138e7c-8fd0-4fba-b4e1-5ff0d890f94b\",\"type\":\"Line\"},{\"attributes\":{\"callback\":null,\"end\":1.7272162710000003,\"start\":-0.641649171},\"id\":\"f43a40dd-9abe-424f-8d54-e8f3253f6bde\",\"type\":\"Range1d\"},{\"attributes\":{},\"id\":\"89903527-5392-4dbc-9136-2f1181b80910\",\"type\":\"PanTool\"},{\"attributes\":{},\"id\":\"5752c0e3-0419-49a5-8b9e-1ec61b33ddbb\",\"type\":\"WheelZoomTool\"},{\"attributes\":{\"fill_alpha\":{\"value\":0.1},\"fill_color\":{\"value\":\"#1f77b4\"},\"line_alpha\":{\"value\":0.1},\"line_color\":{\"value\":\"#1f77b4\"},\"x\":{\"field\":\"x\"},\"y\":{\"field\":\"y\"}},\"id\":\"e4cb41d5-93fa-41fb-bfb4-cb7a5cad3f50\",\"type\":\"Circle\"},{\"attributes\":{\"num_minor_ticks\":10},\"id\":\"7e667fc8-e0cb-4d42-b9b4-127ab5b3c14d\",\"type\":\"LogTicker\"},{\"attributes\":{\"fill_alpha\":{\"value\":0.1},\"fill_color\":{\"value\":\"#1f77b4\"},\"line_alpha\":{\"value\":0.1},\"line_color\":{\"value\":\"#1f77b4\"},\"x\":{\"field\":\"x\"},\"y\":{\"field\":\"y\"}},\"id\":\"1a617541-76a7-4891-9bd1-c5e56dd0e359\",\"type\":\"Square\"},{\"attributes\":{\"overlay\":{\"id\":\"aaff97b9-6b8d-4e8d-aa5c-53b9ad5c7e33\",\"type\":\"BoxAnnotation\"}},\"id\":\"8dee94df-5cf2-468c-84f1-5d029d865860\",\"type\":\"BoxZoomTool\"},{\"attributes\":{\"bottom_units\":\"screen\",\"fill_alpha\":{\"value\":0.5},\"fill_color\":{\"value\":\"lightgrey\"},\"left_units\":\"screen\",\"level\":\"overlay\",\"line_alpha\":{\"value\":1.0},\"line_color\":{\"value\":\"black\"},\"line_dash\":[4,4],\"line_width\":{\"value\":2},\"plot\":null,\"render_mode\":\"css\",\"right_units\":\"screen\",\"top_units\":\"screen\"},\"id\":\"c6ddbad9-50ca-4ab1-88e9-9fec03a70bb8\",\"type\":\"BoxAnnotation\"},{\"attributes\":{\"children\":[{\"id\":\"4b9199a4-1612-48f6-80b9-8d2ee171eed7\",\"type\":\"Row\"}]},\"id\":\"cfec3e97-fa0e-478e-8894-aefe5259a87a\",\"type\":\"Column\"},{\"attributes\":{},\"id\":\"2d82911f-f872-40d4-9bd0-13ec5fc98d57\",\"type\":\"LogScale\"},{\"attributes\":{},\"id\":\"289f0239-86ae-4b14-bb32-1117d241f23c\",\"type\":\"LinearScale\"},{\"attributes\":{},\"id\":\"f53dac3e-38fd-43f2-a3a0-bee2dc598f33\",\"type\":\"SaveTool\"},{\"attributes\":{\"callback\":null,\"data\":{\"x\":{\"__ndarray__\":\"QAqMf8jToL//Am2tg9uiv4KXXsTcxaa/CbOvtDyAqr+XMOULKAquv/Zz3V1wsrC/axtQ0GhFsr+zxrK9yb2zvyxM19mNGrW/LO/UYgNgtr94slVTCZW3v2/iFOS3uri/4vBVi5vXub+AsFBzDrG6v5ggoEBT+7m/XX5QeJTrsr+IMy3ulTJWvxDudP0AGMA/6wh8otdQ1D/knMsZ+cDiP8aKfXZ+Qe4/o4o+xqzk9T9VaQUyrWD6P5TTSbffqfo/QOGTHutp+D8HGIGklK/zP69XAnCGp+w/tSvYtSLy4z8gWTmmed/aP8OQaY7Jd8s/BwvBGPMtpb92jyqSyBHSv3qbpcY+x96/8ExajFAY47+OsiV76SXiv9PR4Ylv1Ne/ZNUPxTcox79EBNUj6tW8v8XrXMIxrLe/rC09nVn5s7/+a04c/xCxv01ArjXdsKy/FlSMXooFqL/rQDykthqkv8ubJbtw5KC/k3wF02ibnL+7LxvJOSmYv0jGAzWwIZS/OO4Pb2WTkL90/x5SvuOKvzaCRb6cBoW/HnHt1GnEfr8C1jSKI+xzvy5QYprG8GK/oqlyr7M/Ij9b9idgm21kP/OIxRnLm3M/8oQX1qCrfD9SvS5kMrOCP0U0PyNJBoc/ltGO82xKiz8kjkkkzkaPPxKV9WfoWJE/w2u+wze2kj+HN2NTXNiTPwA+WSk09JQ/ZoUbZZIflj9T9DEkPluXPywjvALZpZg/UhpPJi/zmT+HDrT+mDSbP3kQaeMHVpw/IFItymtgnT+SC1dzoVieP/Z7NzNbSJ8/\",\"dtype\":\"float64\",\"shape\":[75]},\"y\":{\"__ndarray__\":\"GhExyth1ND/Sv8nbtpRIP2vylNV0PVE/aTum7souWD/At0SJ8fVgPw3Iuahxymc/MSNhhJWvcD/bTfBN02d3P2zb5nxnaoA/CD5h5MAGhz8NmeH1TyaQP+zrCsc9p5Y/LbKd76fGnz/bLW5ISEmmPww9YvTcQq8/JV2OstnstT8Er5Y7M8G+P0c+r3jqkcU/5h99k6ZBzj88bCIzFzjVP4enV8oyxN0//yH99nXg5D8qOpLLf0jtP5kqGJXUifQ/c9cS8kHP/D+/DpwzojQEQIEmwoanVwxA4lgXt9HgE0BSSZ2AJuIbQAMJih9jjiNA5q4l5INuK0AwTKYKRj0zQNv5fmq8/DpAaCJseHrtQkB/+zpwzoxKQM3MzMzMeFJAZmZmZmZqWEAAAAAAAFxeQM3MzMzMJmJAmpmZmZkfZUBmZmZmZhhoQDMzMzMzEWtAAAAAAAAKbkBmZmZmZoFwQM3MzMzM/XFAMzMzMzN6c0CamZmZmfZ0QAAAAAAAc3ZAZmZmZmbvd0DNzMzMzGt5QDMzMzMz6HpAmpmZmZlkfEAAAAAAAOF9QGZmZmZmXX9AZmZmZuZsgECamZmZGSuBQM3MzMxM6YFAAAAAAICngkAzMzMzs2WDQGZmZmbmI4RAmpmZmRnihEDNzMzMTKCFQAAAAACAXoZAMzMzM7Mch0BmZmZm5tqHQJqZmZkZmYhAzczMzExXiUAAAAAAgBWKQDMzMzOz04pAZmZmZuaRi0CamZmZGVCMQM3MzMxMDo1AAAAAAIDMjUAzMzMzs4qOQGZmZmbmSI9A\",\"dtype\":\"float64\",\"shape\":[75]}},\"selected\":{\"id\":\"2d72eeb2-be55-4da2-ae01-40ec68ce6156\",\"type\":\"Selection\"},\"selection_policy\":{\"id\":\"e3ca87d7-6cd7-4ed6-9340-cda56e23a646\",\"type\":\"UnionRenderers\"}},\"id\":\"fbbbadfd-ecff-4cce-acb9-dfbd7b0f5381\",\"type\":\"ColumnDataSource\"},{\"attributes\":{\"source\":{\"id\":\"fbbbadfd-ecff-4cce-acb9-dfbd7b0f5381\",\"type\":\"ColumnDataSource\"}},\"id\":\"bbf31f81-7d71-446c-b581-d7ecf9205fff\",\"type\":\"CDSView\"},{\"attributes\":{\"axis_label\":\"cooling rate [K/day]\",\"formatter\":{\"id\":\"5a2bd56a-67ae-45a7-99db-35dcb62eb495\",\"type\":\"BasicTickFormatter\"},\"plot\":{\"id\":\"47a9fe01-558d-4666-83bd-304ce86fe2a2\",\"subtype\":\"Figure\",\"type\":\"Plot\"},\"ticker\":{\"id\":\"73d9097b-7f67-443e-ab3a-afbc64b8c85b\",\"type\":\"BasicTicker\"}},\"id\":\"a59863fd-0066-4780-86cd-d84902a0b752\",\"type\":\"LinearAxis\"},{\"attributes\":{\"source\":{\"id\":\"94dd0a22-f13a-434c-ba4c-2d44e932a7b8\",\"type\":\"ColumnDataSource\"}},\"id\":\"23738039-1c2e-4169-8863-a381412a27be\",\"type\":\"CDSView\"},{\"attributes\":{\"axis_label\":\"pressure [mb]\",\"formatter\":{\"id\":\"f88af6f0-02de-43c1-ad69-40b4527a7a2b\",\"type\":\"LogTickFormatter\"},\"plot\":{\"id\":\"47a9fe01-558d-4666-83bd-304ce86fe2a2\",\"subtype\":\"Figure\",\"type\":\"Plot\"},\"ticker\":{\"id\":\"7e667fc8-e0cb-4d42-b9b4-127ab5b3c14d\",\"type\":\"LogTicker\"}},\"id\":\"91c094c5-6020-42b9-9ec6-96da14c8c549\",\"type\":\"LogAxis\"},{\"attributes\":{\"dimension\":1,\"plot\":{\"id\":\"47a9fe01-558d-4666-83bd-304ce86fe2a2\",\"subtype\":\"Figure\",\"type\":\"Plot\"},\"ticker\":{\"id\":\"7e667fc8-e0cb-4d42-b9b4-127ab5b3c14d\",\"type\":\"LogTicker\"}},\"id\":\"3617eb21-e406-4285-9446-8091e877c071\",\"type\":\"Grid\"},{\"attributes\":{\"fill_alpha\":{\"value\":0.7},\"fill_color\":{\"value\":\"#4daf4a\"},\"line_alpha\":{\"value\":0.7},\"line_color\":{\"value\":\"#4daf4a\"},\"x\":{\"field\":\"x\"},\"y\":{\"field\":\"y\"}},\"id\":\"78812ba8-9e4e-45e2-a4ec-c35dc4c1ae20\",\"type\":\"Circle\"},{\"attributes\":{},\"id\":\"73d9097b-7f67-443e-ab3a-afbc64b8c85b\",\"type\":\"BasicTicker\"},{\"attributes\":{\"source\":{\"id\":\"0bb9ac76-5fed-4ddb-ad4a-198cf6ff46f7\",\"type\":\"ColumnDataSource\"}},\"id\":\"c6eb0858-e2ce-4c5c-93a9-bf878dc4d93e\",\"type\":\"CDSView\"},{\"attributes\":{\"callback\":null,\"data\":{\"x\":{\"__ndarray__\":\"lLK5KIJRnr+fsiDo9v+gv8HdcFdjlKS/82rKX2sAqL/KyvIfGUWrv/nrLLJRYa6/cNhdcGuqsL90KPfGBg6yv0StFd/jW7O/0mx3PwmUtL/AqCPOKra1vxMx91n9wra/YVhoYfu7t78vAjVFGHC4v04s4+va+re/q2RExd9Gsr96gsl40D+Cv1W6YBUUq7o/7M37QVXz0T/gIK1zBBfhPz/9qelhJew/S8G/rWCg9D8oe/B/7Fr5P3aYQFsYM/o/Bo2qcBX19z9J8fEJ2bnyP5x+u7IsNOo/MHLku3Os4T9h+qBfQqLXP8zhKLMgGMg/+4DxIP7gqr8qog1d3IjSv/Cvkk3Bc9+/7uvAOSPK47/gk3ejySTjv2JKJNHL6Ni/n19rIY6Wx7/FxkDH3O+8v37CPNggm7e/9/e5pOHJs7+nRApMRMuwv27I4cGGD6y/mZN1CoJfp79PG6WwKnmjv8A+NbwrS6C/P5JVu215m78+eRHTqR6Xv4OZmCkLMZO/KCHSG2B5j79xYItAaWaJv5ltdLxstYO/qfp86MeFfL+HIuEanxJyv3tXYG8yD2C/zebjzGC2OT8CgZiNWMdlP0gkND8D1XM/oOBPPSx1fD9vpYggj1+CPwOk2gCceYY/eb3Y1KmNij/3JBoep1qOP9zVwmRe0pA/Zgll884nkj+46+z+jUqTP3HfCiuMYpQ/hSFjz02ElT+OBPSkR7GWP89Y+Tqw6Zc/1HbF7GIjmT9qLAa0GUyaP9kh7zYeVZs/sZkgQ/dHnD+cE9nZICudP6SUWYJhAJ4/\",\"dtype\":\"float64\",\"shape\":[75]},\"y\":{\"__ndarray__\":\"S/O/Q+51ND/Sv8nbtpRIP2vylNV0PVE/aTum7souWD/At0SJ8fVgPw3Iuahxymc/MSNhhJWvcD/bTfBN02d3P2zb5nxnaoA/CD5h5MAGhz8NmeH1TyaQP+zrCsc9p5Y/LbKd76fGnz/bLW5ISEmmPww9YvTcQq8/JV2OstnstT8Er5Y7M8G+P0c+r3jqkcU/5h99k6ZBzj88bCIzFzjVP4enV8oyxN0//yH99nXg5D8qOpLLf0jtP5kqGJXUifQ/c9cS8kHP/D+/DpwzojQEQIEmwoanVwxA4lgXt9HgE0BSSZ2AJuIbQAMJih9jjiNA5q4l5INuK0AwTKYKRj0zQNv5fmq8/DpAaCJseHrtQkB/+zpwzoxKQM3MzMzMeFJAZmZmZmZqWEAAAAAAAFxeQM3MzMzMJmJAmpmZmZkfZUBmZmZmZhhoQDMzMzMzEWtAAAAAAAAKbkBmZmZmZoFwQM3MzMzM/XFAMzMzMzN6c0CamZmZmfZ0QAAAAAAAc3ZAZmZmZmbvd0DNzMzMzGt5QDMzMzMz6HpAmpmZmZlkfEAAAAAAAOF9QGZmZmZmXX9AZmZmZuZsgECamZmZGSuBQM3MzMxM6YFAAAAAAICngkAzMzMzs2WDQGZmZmbmI4RAmpmZmRnihEDNzMzMTKCFQAAAAACAXoZAMzMzM7Mch0BmZmZm5tqHQJqZmZkZmYhAzczMzExXiUAAAAAAgBWKQDMzMzOz04pAZmZmZuaRi0CamZmZGVCMQM3MzMxMDo1AAAAAAIDMjUAzMzMzs4qOQGZmZmbmSI9A\",\"dtype\":\"float64\",\"shape\":[75]}},\"selected\":{\"id\":\"37142905-9ad4-435e-ba38-c366ca63143d\",\"type\":\"Selection\"},\"selection_policy\":{\"id\":\"64f41c56-d72c-4b98-82a7-89002cb5d660\",\"type\":\"UnionRenderers\"}},\"id\":\"94dd0a22-f13a-434c-ba4c-2d44e932a7b8\",\"type\":\"ColumnDataSource\"},{\"attributes\":{\"callback\":null,\"data\":{\"x\":{\"__ndarray__\":\"QAqMf8jToL//Am2tg9uiv4KXXsTcxaa/CbOvtDyAqr+XMOULKAquv/Zz3V1wsrC/axtQ0GhFsr+zxrK9yb2zvyxM19mNGrW/LO/UYgNgtr94slVTCZW3v2/iFOS3uri/4vBVi5vXub+AsFBzDrG6v5ggoEBT+7m/XX5QeJTrsr+IMy3ulTJWvxDudP0AGMA/6wh8otdQ1D/knMsZ+cDiP8aKfXZ+Qe4/o4o+xqzk9T9VaQUyrWD6P5TTSbffqfo/QOGTHutp+D8HGIGklK/zP69XAnCGp+w/tSvYtSLy4z8gWTmmed/aP8OQaY7Jd8s/BwvBGPMtpb92jyqSyBHSv3qbpcY+x96/8ExajFAY47+OsiV76SXiv9PR4Ylv1Ne/ZNUPxTcox79EBNUj6tW8v8XrXMIxrLe/rC09nVn5s7/+a04c/xCxv01ArjXdsKy/FlSMXooFqL/rQDykthqkv8ubJbtw5KC/k3wF02ibnL+7LxvJOSmYv0jGAzWwIZS/OO4Pb2WTkL90/x5SvuOKvzaCRb6cBoW/HnHt1GnEfr8C1jSKI+xzvy5QYprG8GK/oqlyr7M/Ij9b9idgm21kP/OIxRnLm3M/8oQX1qCrfD9SvS5kMrOCP0U0PyNJBoc/ltGO82xKiz8kjkkkzkaPPxKV9WfoWJE/w2u+wze2kj+HN2NTXNiTPwA+WSk09JQ/ZoUbZZIflj9T9DEkPluXPywjvALZpZg/UhpPJi/zmT+HDrT+mDSbP3kQaeMHVpw/IFItymtgnT+SC1dzoVieP/Z7NzNbSJ8/\",\"dtype\":\"float64\",\"shape\":[75]},\"y\":{\"__ndarray__\":\"GhExyth1ND/Sv8nbtpRIP2vylNV0PVE/aTum7souWD/At0SJ8fVgPw3Iuahxymc/MSNhhJWvcD/bTfBN02d3P2zb5nxnaoA/CD5h5MAGhz8NmeH1TyaQP+zrCsc9p5Y/LbKd76fGnz/bLW5ISEmmPww9YvTcQq8/JV2OstnstT8Er5Y7M8G+P0c+r3jqkcU/5h99k6ZBzj88bCIzFzjVP4enV8oyxN0//yH99nXg5D8qOpLLf0jtP5kqGJXUifQ/c9cS8kHP/D+/DpwzojQEQIEmwoanVwxA4lgXt9HgE0BSSZ2AJuIbQAMJih9jjiNA5q4l5INuK0AwTKYKRj0zQNv5fmq8/DpAaCJseHrtQkB/+zpwzoxKQM3MzMzMeFJAZmZmZmZqWEAAAAAAAFxeQM3MzMzMJmJAmpmZmZkfZUBmZmZmZhhoQDMzMzMzEWtAAAAAAAAKbkBmZmZmZoFwQM3MzMzM/XFAMzMzMzN6c0CamZmZmfZ0QAAAAAAAc3ZAZmZmZmbvd0DNzMzMzGt5QDMzMzMz6HpAmpmZmZlkfEAAAAAAAOF9QGZmZmZmXX9AZmZmZuZsgECamZmZGSuBQM3MzMxM6YFAAAAAAICngkAzMzMzs2WDQGZmZmbmI4RAmpmZmRnihEDNzMzMTKCFQAAAAACAXoZAMzMzM7Mch0BmZmZm5tqHQJqZmZkZmYhAzczMzExXiUAAAAAAgBWKQDMzMzOz04pAZmZmZuaRi0CamZmZGVCMQM3MzMxMDo1AAAAAAIDMjUAzMzMzs4qOQGZmZmbmSI9A\",\"dtype\":\"float64\",\"shape\":[75]}},\"selected\":{\"id\":\"86f6eb9b-3e3b-437e-a468-79543ba3832a\",\"type\":\"Selection\"},\"selection_policy\":{\"id\":\"db266398-6701-4427-bd68-16d4a9f8683e\",\"type\":\"UnionRenderers\"}},\"id\":\"5d828e73-e79a-434b-a389-27e10f748c19\",\"type\":\"ColumnDataSource\"},{\"attributes\":{\"overlay\":{\"id\":\"c6ddbad9-50ca-4ab1-88e9-9fec03a70bb8\",\"type\":\"BoxAnnotation\"}},\"id\":\"8c8aa0de-8aef-4100-a8e4-2eeff80efcff\",\"type\":\"BoxZoomTool\"},{\"attributes\":{\"data_source\":{\"id\":\"0bb9ac76-5fed-4ddb-ad4a-198cf6ff46f7\",\"type\":\"ColumnDataSource\"},\"glyph\":{\"id\":\"1d6a831b-65f8-421e-9d47-fdbdb8f5fd7b\",\"type\":\"Circle\"},\"hover_glyph\":null,\"muted_glyph\":null,\"nonselection_glyph\":{\"id\":\"e4cb41d5-93fa-41fb-bfb4-cb7a5cad3f50\",\"type\":\"Circle\"},\"selection_glyph\":null,\"view\":{\"id\":\"c6eb0858-e2ce-4c5c-93a9-bf878dc4d93e\",\"type\":\"CDSView\"}},\"id\":\"4bad230a-5db4-416c-ac3b-47a20f8db48d\",\"type\":\"GlyphRenderer\"},{\"attributes\":{},\"id\":\"2a10ef17-1e83-422a-b1f6-23549eeedd73\",\"type\":\"ResetTool\"},{\"attributes\":{},\"id\":\"95fde2d0-1816-42ce-92c6-e57281612a32\",\"type\":\"ResetTool\"},{\"attributes\":{\"callback\":null,\"end\":0.01,\"start\":1020},\"id\":\"5733f12a-a8ec-4b09-a248-b11a140df387\",\"type\":\"Range1d\"},{\"attributes\":{\"bottom_units\":\"screen\",\"fill_alpha\":{\"value\":0.5},\"fill_color\":{\"value\":\"lightgrey\"},\"left_units\":\"screen\",\"level\":\"overlay\",\"line_alpha\":{\"value\":1.0},\"line_color\":{\"value\":\"black\"},\"line_dash\":[4,4],\"line_width\":{\"value\":2},\"plot\":null,\"render_mode\":\"css\",\"right_units\":\"screen\",\"top_units\":\"screen\"},\"id\":\"aaff97b9-6b8d-4e8d-aa5c-53b9ad5c7e33\",\"type\":\"BoxAnnotation\"},{\"attributes\":{\"source\":{\"id\":\"af425a68-c0ef-4a68-88cb-912c3c65dd48\",\"type\":\"ColumnDataSource\"}},\"id\":\"e597f4f4-0452-478e-bb11-7626fab27a74\",\"type\":\"CDSView\"},{\"attributes\":{\"data_source\":{\"id\":\"94dd0a22-f13a-434c-ba4c-2d44e932a7b8\",\"type\":\"ColumnDataSource\"},\"glyph\":{\"id\":\"548a49c6-f778-4c44-a744-cbc1b3eba37c\",\"type\":\"Line\"},\"hover_glyph\":null,\"muted_glyph\":null,\"nonselection_glyph\":{\"id\":\"313f31dc-11f6-4039-a895-ea32990a539c\",\"type\":\"Line\"},\"selection_glyph\":null,\"view\":{\"id\":\"23738039-1c2e-4169-8863-a381412a27be\",\"type\":\"CDSView\"}},\"id\":\"25290f8f-8a3d-4b31-a34c-b88bd1ca73f2\",\"type\":\"GlyphRenderer\"},{\"attributes\":{\"fill_alpha\":{\"value\":0.7},\"fill_color\":{\"value\":\"#4daf4a\"},\"line_alpha\":{\"value\":0.7},\"line_color\":{\"value\":\"#4daf4a\"},\"x\":{\"field\":\"x\"},\"y\":{\"field\":\"y\"}},\"id\":\"1d6a831b-65f8-421e-9d47-fdbdb8f5fd7b\",\"type\":\"Circle\"},{\"attributes\":{\"line_alpha\":0.6,\"line_color\":\"#e41a1c\",\"line_dash\":[6],\"line_width\":5,\"x\":{\"field\":\"x\"},\"y\":{\"field\":\"y\"}},\"id\":\"548a49c6-f778-4c44-a744-cbc1b3eba37c\",\"type\":\"Line\"},{\"attributes\":{},\"id\":\"d88a74eb-a0fd-4056-ad73-7710a0322e23\",\"type\":\"HelpTool\"},{\"attributes\":{},\"id\":\"ead91708-1779-41f9-b62e-3718f63d1809\",\"type\":\"SaveTool\"},{\"attributes\":{\"callback\":null,\"data\":{\"x\":{\"__ndarray__\":\"L51n0PYGo7/as8vdBU+lv6Rd+eqysam/VfWIV63arb+cJbyVCeWwv0mGYzBbv7K/auoe1KN7tL8mdjp+Ehm2v4I1ye1pl7e/dumoaIH9uL+/0ERUuFC6v3ju+z+glru/oQFpvefZvL/+pfvvd969v6GXm7nREb2//ieqd+sOtb+E+1N7MOhWv536m6tBc8E/84wBAmvP1T8eEfhoFu3jP9VJz1c93u8/uNyqNd7n9j8eR2I4jUP7P+Mh51g5D/s/W4mKgipf+D+4/gLmxlnzP5rD/2fee+s/QwaPwjdl4j8YU7g3IozXP5OcfhZsn8U/WQn8Mi+/sb8fqkJm26fSv6pqejezKd6/MB1KH4AV4r9xVI+wf+ngv7tK0pBMota/7Agzrxudxr/Jfi/oMYi8v/5VA3F3hre/vs4gGurrs7+vnamJnhGxvzow64ulxKy/GLNnx/QhqL9PEkgSTzmkv6jVDoFOAaG/jtK5YzDNnL9hdQ/Jw1SYv7IL4A86RpS/MWpFO3GwkL9GOjFbGg6Lv6LwveUIHoW/FMdp30/afr/O6IKT2Olzv/lt5z6iyWK/liHw70DNJz/RKwA3GwxlPweDwzjs+HM/fJ3HbaMdfT+rt4zvGfaCP97t1SL9UYc/yrEOqoGkiz/yQPf096OPP3c+/C/phZE/FrgCKwPekj/sKiN8j/2TP4IZwEz1E5U/+2qLjos6lj/n+Z5UpXSXP0adw/n3wJg/Htm6ptARmj8BZN5mzlObPyQo9Zpbd5w/yuuJ+pmEnT/DLZsQpYOeP2o6ltKOdp8/\",\"dtype\":\"float64\",\"shape\":[75]},\"y\":{\"__ndarray__\":\"GhExyth1ND/Sv8nbtpRIP2vylNV0PVE/aTum7souWD/At0SJ8fVgPw3Iuahxymc/MSNhhJWvcD/bTfBN02d3P2zb5nxnaoA/CD5h5MAGhz8NmeH1TyaQP+zrCsc9p5Y/LbKd76fGnz/bLW5ISEmmPww9YvTcQq8/JV2OstnstT8Er5Y7M8G+P0c+r3jqkcU/5h99k6ZBzj88bCIzFzjVP4enV8oyxN0//yH99nXg5D8qOpLLf0jtP5kqGJXUifQ/c9cS8kHP/D+/DpwzojQEQIEmwoanVwxA4lgXt9HgE0BSSZ2AJuIbQAMJih9jjiNA5q4l5INuK0AwTKYKRj0zQNv5fmq8/DpAaCJseHrtQkB/+zpwzoxKQM3MzMzMeFJAZmZmZmZqWEAAAAAAAFxeQM3MzMzMJmJAmpmZmZkfZUBmZmZmZhhoQDMzMzMzEWtAAAAAAAAKbkBmZmZmZoFwQM3MzMzM/XFAMzMzMzN6c0CamZmZmfZ0QAAAAAAAc3ZAZmZmZmbvd0DNzMzMzGt5QDMzMzMz6HpAmpmZmZlkfEAAAAAAAOF9QGZmZmZmXX9AZmZmZuZsgECamZmZGSuBQM3MzMxM6YFAAAAAAICngkAzMzMzs2WDQGZmZmbmI4RAmpmZmRnihEDNzMzMTKCFQAAAAACAXoZAMzMzM7Mch0BmZmZm5tqHQJqZmZkZmYhAzczMzExXiUAAAAAAgBWKQDMzMzOz04pAZmZmZuaRi0CamZmZGVCMQM3MzMxMDo1AAAAAAIDMjUAzMzMzs4qOQGZmZmbmSI9A\",\"dtype\":\"float64\",\"shape\":[75]}},\"selected\":{\"id\":\"af6d0349-6197-49f0-8737-35f4a264427d\",\"type\":\"Selection\"},\"selection_policy\":{\"id\":\"cfafc5fb-0a61-47f5-9260-cb33a7ba8e33\",\"type\":\"UnionRenderers\"}},\"id\":\"d5bf1ef7-0e04-4e69-8cc0-7ffb217696d2\",\"type\":\"ColumnDataSource\"},{\"attributes\":{\"line_alpha\":0.1,\"line_color\":\"#1f77b4\",\"line_width\":1.5,\"x\":{\"field\":\"x\"},\"y\":{\"field\":\"y\"}},\"id\":\"724d5248-2dc0-44fc-9986-aa8b424b2cca\",\"type\":\"Line\"},{\"attributes\":{\"data_source\":{\"id\":\"d5bf1ef7-0e04-4e69-8cc0-7ffb217696d2\",\"type\":\"ColumnDataSource\"},\"glyph\":{\"id\":\"8c138e7c-8fd0-4fba-b4e1-5ff0d890f94b\",\"type\":\"Line\"},\"hover_glyph\":null,\"muted_glyph\":null,\"nonselection_glyph\":{\"id\":\"724d5248-2dc0-44fc-9986-aa8b424b2cca\",\"type\":\"Line\"},\"selection_glyph\":null,\"view\":{\"id\":\"b3f7301e-8689-4175-b860-05513f003470\",\"type\":\"CDSView\"}},\"id\":\"9e14c9d0-97c3-4e61-a3d0-4a9af0f9f99e\",\"type\":\"GlyphRenderer\"},{\"attributes\":{\"data_source\":{\"id\":\"fbbbadfd-ecff-4cce-acb9-dfbd7b0f5381\",\"type\":\"ColumnDataSource\"},\"glyph\":{\"id\":\"82c93dfc-b834-46be-8379-7657b8bcfff3\",\"type\":\"Square\"},\"hover_glyph\":null,\"muted_glyph\":null,\"nonselection_glyph\":{\"id\":\"1a617541-76a7-4891-9bd1-c5e56dd0e359\",\"type\":\"Square\"},\"selection_glyph\":null,\"view\":{\"id\":\"bbf31f81-7d71-446c-b581-d7ecf9205fff\",\"type\":\"CDSView\"}},\"id\":\"eea5c9a8-cf78-4c0e-ad77-f63ce05574c9\",\"type\":\"GlyphRenderer\"},{\"attributes\":{\"source\":{\"id\":\"d5bf1ef7-0e04-4e69-8cc0-7ffb217696d2\",\"type\":\"ColumnDataSource\"}},\"id\":\"b3f7301e-8689-4175-b860-05513f003470\",\"type\":\"CDSView\"},{\"attributes\":{\"callback\":null,\"data\":{\"x\":{\"__ndarray__\":\"L51n0PYGo7/as8vdBU+lv6Rd+eqysam/VfWIV63arb+cJbyVCeWwv0mGYzBbv7K/auoe1KN7tL8mdjp+Ehm2v4I1ye1pl7e/dumoaIH9uL+/0ERUuFC6v3ju+z+glru/oQFpvefZvL/+pfvvd969v6GXm7nREb2//ieqd+sOtb+E+1N7MOhWv536m6tBc8E/84wBAmvP1T8eEfhoFu3jP9VJz1c93u8/uNyqNd7n9j8eR2I4jUP7P+Mh51g5D/s/W4mKgipf+D+4/gLmxlnzP5rD/2fee+s/QwaPwjdl4j8YU7g3IozXP5OcfhZsn8U/WQn8Mi+/sb8fqkJm26fSv6pqejezKd6/MB1KH4AV4r9xVI+wf+ngv7tK0pBMota/7Agzrxudxr/Jfi/oMYi8v/5VA3F3hre/vs4gGurrs7+vnamJnhGxvzow64ulxKy/GLNnx/QhqL9PEkgSTzmkv6jVDoFOAaG/jtK5YzDNnL9hdQ/Jw1SYv7IL4A86RpS/MWpFO3GwkL9GOjFbGg6Lv6LwveUIHoW/FMdp30/afr/O6IKT2Olzv/lt5z6iyWK/liHw70DNJz/RKwA3GwxlPweDwzjs+HM/fJ3HbaMdfT+rt4zvGfaCP97t1SL9UYc/yrEOqoGkiz/yQPf096OPP3c+/C/phZE/FrgCKwPekj/sKiN8j/2TP4IZwEz1E5U/+2qLjos6lj/n+Z5UpXSXP0adw/n3wJg/Htm6ptARmj8BZN5mzlObPyQo9Zpbd5w/yuuJ+pmEnT/DLZsQpYOeP2o6ltKOdp8/\",\"dtype\":\"float64\",\"shape\":[75]},\"y\":{\"__ndarray__\":\"GhExyth1ND/Sv8nbtpRIP2vylNV0PVE/aTum7souWD/At0SJ8fVgPw3Iuahxymc/MSNhhJWvcD/bTfBN02d3P2zb5nxnaoA/CD5h5MAGhz8NmeH1TyaQP+zrCsc9p5Y/LbKd76fGnz/bLW5ISEmmPww9YvTcQq8/JV2OstnstT8Er5Y7M8G+P0c+r3jqkcU/5h99k6ZBzj88bCIzFzjVP4enV8oyxN0//yH99nXg5D8qOpLLf0jtP5kqGJXUifQ/c9cS8kHP/D+/DpwzojQEQIEmwoanVwxA4lgXt9HgE0BSSZ2AJuIbQAMJih9jjiNA5q4l5INuK0AwTKYKRj0zQNv5fmq8/DpAaCJseHrtQkB/+zpwzoxKQM3MzMzMeFJAZmZmZmZqWEAAAAAAAFxeQM3MzMzMJmJAmpmZmZkfZUBmZmZmZhhoQDMzMzMzEWtAAAAAAAAKbkBmZmZmZoFwQM3MzMzM/XFAMzMzMzN6c0CamZmZmfZ0QAAAAAAAc3ZAZmZmZmbvd0DNzMzMzGt5QDMzMzMz6HpAmpmZmZlkfEAAAAAAAOF9QGZmZmZmXX9AZmZmZuZsgECamZmZGSuBQM3MzMxM6YFAAAAAAICngkAzMzMzs2WDQGZmZmbmI4RAmpmZmRnihEDNzMzMTKCFQAAAAACAXoZAMzMzM7Mch0BmZmZm5tqHQJqZmZkZmYhAzczMzExXiUAAAAAAgBWKQDMzMzOz04pAZmZmZuaRi0CamZmZGVCMQM3MzMxMDo1AAAAAAIDMjUAzMzMzs4qOQGZmZmbmSI9A\",\"dtype\":\"float64\",\"shape\":[75]}},\"selected\":{\"id\":\"91d0bc9c-1ce1-4b8e-baf1-de9bdbbaac2b\",\"type\":\"Selection\"},\"selection_policy\":{\"id\":\"5b43c399-1375-44d7-be96-6aa9fa4fd4ab\",\"type\":\"UnionRenderers\"}},\"id\":\"c5a30820-6a1d-4f64-93cc-b87289394eda\",\"type\":\"ColumnDataSource\"},{\"attributes\":{\"fill_alpha\":{\"value\":0.7},\"fill_color\":{\"value\":\"#984ea3\"},\"line_alpha\":{\"value\":0.7},\"line_color\":{\"value\":\"#984ea3\"},\"x\":{\"field\":\"x\"},\"y\":{\"field\":\"y\"}},\"id\":\"82c93dfc-b834-46be-8379-7657b8bcfff3\",\"type\":\"Square\"},{\"attributes\":{\"data_source\":{\"id\":\"af425a68-c0ef-4a68-88cb-912c3c65dd48\",\"type\":\"ColumnDataSource\"},\"glyph\":{\"id\":\"09bb9043-fdcf-456d-85c7-06113dfa48c1\",\"type\":\"Line\"},\"hover_glyph\":null,\"muted_glyph\":null,\"nonselection_glyph\":{\"id\":\"15787c2b-0e1d-4d3c-9682-72c901b20932\",\"type\":\"Line\"},\"selection_glyph\":null,\"view\":{\"id\":\"e597f4f4-0452-478e-bb11-7626fab27a74\",\"type\":\"CDSView\"}},\"id\":\"bbec3f10-75a0-42dd-81f9-3828065b3a50\",\"type\":\"GlyphRenderer\"},{\"attributes\":{\"data_source\":{\"id\":\"5d828e73-e79a-434b-a389-27e10f748c19\",\"type\":\"ColumnDataSource\"},\"glyph\":{\"id\":\"8d2dff2e-df77-42da-932a-991bfe28b848\",\"type\":\"Line\"},\"hover_glyph\":null,\"muted_glyph\":null,\"nonselection_glyph\":{\"id\":\"398c4d7b-b84f-49c7-899a-e08c1cf3fb96\",\"type\":\"Line\"},\"selection_glyph\":null,\"view\":{\"id\":\"52e83b86-b0c8-4368-9b34-5977acc19f62\",\"type\":\"CDSView\"}},\"id\":\"83cbf81f-6503-4350-8b32-e1f6b548b07a\",\"type\":\"GlyphRenderer\"},{\"attributes\":{\"fill_alpha\":{\"value\":0.1},\"fill_color\":{\"value\":\"#1f77b4\"},\"line_alpha\":{\"value\":0.1},\"line_color\":{\"value\":\"#1f77b4\"},\"x\":{\"field\":\"x\"},\"y\":{\"field\":\"y\"}},\"id\":\"632a9a17-2def-4734-8a5f-699846773d22\",\"type\":\"Circle\"},{\"attributes\":{\"fill_alpha\":{\"value\":0.1},\"fill_color\":{\"value\":\"#1f77b4\"},\"line_alpha\":{\"value\":0.1},\"line_color\":{\"value\":\"#1f77b4\"},\"x\":{\"field\":\"x\"},\"y\":{\"field\":\"y\"}},\"id\":\"e7df854d-07bc-465a-8afa-e60e70f0dea4\",\"type\":\"Square\"},{\"attributes\":{\"line_alpha\":0.6,\"line_color\":\"#984ea3\",\"line_width\":3,\"x\":{\"field\":\"x\"},\"y\":{\"field\":\"y\"}},\"id\":\"8d2dff2e-df77-42da-932a-991bfe28b848\",\"type\":\"Line\"},{\"attributes\":{\"source\":{\"id\":\"7772217b-e900-49d9-9ac9-bf39016d2e37\",\"type\":\"ColumnDataSource\"}},\"id\":\"f33ba5b5-860a-402c-a6fa-405ab6b04320\",\"type\":\"CDSView\"},{\"attributes\":{\"source\":{\"id\":\"5d828e73-e79a-434b-a389-27e10f748c19\",\"type\":\"ColumnDataSource\"}},\"id\":\"52e83b86-b0c8-4368-9b34-5977acc19f62\",\"type\":\"CDSView\"},{\"attributes\":{\"children\":[{\"id\":\"0cddea04-4d2f-44fd-bfed-165755199aa9\",\"subtype\":\"Figure\",\"type\":\"Plot\"},{\"id\":\"47a9fe01-558d-4666-83bd-304ce86fe2a2\",\"subtype\":\"Figure\",\"type\":\"Plot\"}]},\"id\":\"4b9199a4-1612-48f6-80b9-8d2ee171eed7\",\"type\":\"Row\"},{\"attributes\":{\"label\":{\"value\":\"CLIRAD `coolr_bands`\"},\"renderers\":[{\"id\":\"25290f8f-8a3d-4b31-a34c-b88bd1ca73f2\",\"type\":\"GlyphRenderer\"}]},\"id\":\"495d6e82-e30d-4a8c-800a-15065bb6e968\",\"type\":\"LegendItem\"},{\"attributes\":{},\"id\":\"e87b8699-f594-400f-bd09-5cbcb4598028\",\"type\":\"BasicTickFormatter\"},{\"attributes\":{\"label\":{\"value\":\"CRD\"},\"renderers\":[{\"id\":\"4bad230a-5db4-416c-ac3b-47a20f8db48d\",\"type\":\"GlyphRenderer\"},{\"id\":\"9e14c9d0-97c3-4e61-a3d0-4a9af0f9f99e\",\"type\":\"GlyphRenderer\"}]},\"id\":\"82899325-8c8f-40e0-9a43-7944453f4e41\",\"type\":\"LegendItem\"},{\"attributes\":{\"data_source\":{\"id\":\"e94f1ea3-ca60-4a3c-a0a7-2c6be3c8859e\",\"type\":\"ColumnDataSource\"},\"glyph\":{\"id\":\"74e20d71-764a-4d5c-bc36-c5dcb47f4c5b\",\"type\":\"Line\"},\"hover_glyph\":null,\"muted_glyph\":null,\"nonselection_glyph\":{\"id\":\"6a51f02b-4481-496b-92b3-3df7f0a7f074\",\"type\":\"Line\"},\"selection_glyph\":null,\"view\":{\"id\":\"fd278121-30d6-4fbf-a7e7-3f8110a720c9\",\"type\":\"CDSView\"}},\"id\":\"bf716191-6aa8-4064-af9d-7178a77b7491\",\"type\":\"GlyphRenderer\"},{\"attributes\":{\"active_drag\":\"auto\",\"active_inspect\":\"auto\",\"active_scroll\":\"auto\",\"active_tap\":\"auto\",\"tools\":[{\"id\":\"4e2d2549-1d62-402f-9a72-b85829284a28\",\"type\":\"PanTool\"},{\"id\":\"cdb23b30-5c51-4136-8e55-e32fe63bed9d\",\"type\":\"WheelZoomTool\"},{\"id\":\"8dee94df-5cf2-468c-84f1-5d029d865860\",\"type\":\"BoxZoomTool\"},{\"id\":\"f53dac3e-38fd-43f2-a3a0-bee2dc598f33\",\"type\":\"SaveTool\"},{\"id\":\"2a10ef17-1e83-422a-b1f6-23549eeedd73\",\"type\":\"ResetTool\"},{\"id\":\"370fdfc8-83fa-49c3-9791-59af1c8f98ea\",\"type\":\"HelpTool\"}]},\"id\":\"b7a7ec8b-7d51-4553-a041-7f90759a509c\",\"type\":\"Toolbar\"},{\"attributes\":{},\"id\":\"5b43c399-1375-44d7-be96-6aa9fa4fd4ab\",\"type\":\"UnionRenderers\"},{\"attributes\":{\"label\":{\"value\":\"WGT igg=10 wgt_flux=2\"},\"renderers\":[{\"id\":\"eea5c9a8-cf78-4c0e-ad77-f63ce05574c9\",\"type\":\"GlyphRenderer\"},{\"id\":\"83cbf81f-6503-4350-8b32-e1f6b548b07a\",\"type\":\"GlyphRenderer\"}]},\"id\":\"e24359e8-513b-4f1e-8199-11401b6be7d0\",\"type\":\"LegendItem\"},{\"attributes\":{},\"id\":\"babeb72d-2953-4e82-887b-e806aeb292f0\",\"type\":\"Selection\"},{\"attributes\":{\"data_source\":{\"id\":\"7772217b-e900-49d9-9ac9-bf39016d2e37\",\"type\":\"ColumnDataSource\"},\"glyph\":{\"id\":\"7397adca-111f-4e74-b3fa-2b00c738304a\",\"type\":\"Square\"},\"hover_glyph\":null,\"muted_glyph\":null,\"nonselection_glyph\":{\"id\":\"e7df854d-07bc-465a-8afa-e60e70f0dea4\",\"type\":\"Square\"},\"selection_glyph\":null,\"view\":{\"id\":\"f33ba5b5-860a-402c-a6fa-405ab6b04320\",\"type\":\"CDSView\"}},\"id\":\"f28b9722-1195-4db0-afd0-3132f2f9977b\",\"type\":\"GlyphRenderer\"},{\"attributes\":{},\"id\":\"c9b598d6-fb4b-4595-b0e1-b27e052dc023\",\"type\":\"BasicTickFormatter\"},{\"attributes\":{},\"id\":\"5a2bd56a-67ae-45a7-99db-35dcb62eb495\",\"type\":\"BasicTickFormatter\"},{\"attributes\":{},\"id\":\"91d0bc9c-1ce1-4b8e-baf1-de9bdbbaac2b\",\"type\":\"Selection\"},{\"attributes\":{},\"id\":\"c0b21100-8e2f-47f3-a932-fe2dc4759dab\",\"type\":\"UnionRenderers\"},{\"attributes\":{\"data_source\":{\"id\":\"c5a30820-6a1d-4f64-93cc-b87289394eda\",\"type\":\"ColumnDataSource\"},\"glyph\":{\"id\":\"78812ba8-9e4e-45e2-a4ec-c35dc4c1ae20\",\"type\":\"Circle\"},\"hover_glyph\":null,\"muted_glyph\":null,\"nonselection_glyph\":{\"id\":\"632a9a17-2def-4734-8a5f-699846773d22\",\"type\":\"Circle\"},\"selection_glyph\":null,\"view\":{\"id\":\"3df9fbb1-a778-45ef-9650-44da83ef9c03\",\"type\":\"CDSView\"}},\"id\":\"bde3a798-66fe-4f01-92f4-8b90a7e89de0\",\"type\":\"GlyphRenderer\"},{\"attributes\":{},\"id\":\"5c241948-fbf5-41ca-a2a4-0b711edf9710\",\"type\":\"Selection\"},{\"attributes\":{},\"id\":\"11a9ac45-513e-4f96-9894-0b73df0342bc\",\"type\":\"UnionRenderers\"},{\"attributes\":{\"callback\":null,\"data\":{\"x\":{\"__ndarray__\":\"QAqMf8jToL//Am2tg9uiv4KXXsTcxaa/CbOvtDyAqr+XMOULKAquv/Zz3V1wsrC/axtQ0GhFsr+zxrK9yb2zvyxM19mNGrW/LO/UYgNgtr94slVTCZW3v2/iFOS3uri/4vBVi5vXub+AsFBzDrG6v5ggoEBT+7m/XX5QeJTrsr+IMy3ulTJWvxDudP0AGMA/6wh8otdQ1D/knMsZ+cDiP8aKfXZ+Qe4/o4o+xqzk9T9VaQUyrWD6P5TTSbffqfo/QOGTHutp+D8HGIGklK/zP69XAnCGp+w/tSvYtSLy4z8gWTmmed/aP8OQaY7Jd8s/BwvBGPMtpb92jyqSyBHSv3qbpcY+x96/8ExajFAY47+OsiV76SXiv9PR4Ylv1Ne/ZNUPxTcox79EBNUj6tW8v8XrXMIxrLe/rC09nVn5s7/+a04c/xCxv01ArjXdsKy/FlSMXooFqL/rQDykthqkv8ubJbtw5KC/k3wF02ibnL+7LxvJOSmYv0jGAzWwIZS/OO4Pb2WTkL90/x5SvuOKvzaCRb6cBoW/HnHt1GnEfr8C1jSKI+xzvy5QYprG8GK/oqlyr7M/Ij9b9idgm21kP/OIxRnLm3M/8oQX1qCrfD9SvS5kMrOCP0U0PyNJBoc/ltGO82xKiz8kjkkkzkaPPxKV9WfoWJE/w2u+wze2kj+HN2NTXNiTPwA+WSk09JQ/ZoUbZZIflj9T9DEkPluXPywjvALZpZg/UhpPJi/zmT+HDrT+mDSbP3kQaeMHVpw/IFItymtgnT+SC1dzoVieP/Z7NzNbSJ8/\",\"dtype\":\"float64\",\"shape\":[75]},\"y\":{\"__ndarray__\":\"GhExyth1ND/Sv8nbtpRIP2vylNV0PVE/aTum7souWD/At0SJ8fVgPw3Iuahxymc/MSNhhJWvcD/bTfBN02d3P2zb5nxnaoA/CD5h5MAGhz8NmeH1TyaQP+zrCsc9p5Y/LbKd76fGnz/bLW5ISEmmPww9YvTcQq8/JV2OstnstT8Er5Y7M8G+P0c+r3jqkcU/5h99k6ZBzj88bCIzFzjVP4enV8oyxN0//yH99nXg5D8qOpLLf0jtP5kqGJXUifQ/c9cS8kHP/D+/DpwzojQEQIEmwoanVwxA4lgXt9HgE0BSSZ2AJuIbQAMJih9jjiNA5q4l5INuK0AwTKYKRj0zQNv5fmq8/DpAaCJseHrtQkB/+zpwzoxKQM3MzMzMeFJAZmZmZmZqWEAAAAAAAFxeQM3MzMzMJmJAmpmZmZkfZUBmZmZmZhhoQDMzMzMzEWtAAAAAAAAKbkBmZmZmZoFwQM3MzMzM/XFAMzMzMzN6c0CamZmZmfZ0QAAAAAAAc3ZAZmZmZmbvd0DNzMzMzGt5QDMzMzMz6HpAmpmZmZlkfEAAAAAAAOF9QGZmZmZmXX9AZmZmZuZsgECamZmZGSuBQM3MzMxM6YFAAAAAAICngkAzMzMzs2WDQGZmZmbmI4RAmpmZmRnihEDNzMzMTKCFQAAAAACAXoZAMzMzM7Mch0BmZmZm5tqHQJqZmZkZmYhAzczMzExXiUAAAAAAgBWKQDMzMzOz04pAZmZmZuaRi0CamZmZGVCMQM3MzMxMDo1AAAAAAIDMjUAzMzMzs4qOQGZmZmbmSI9A\",\"dtype\":\"float64\",\"shape\":[75]}},\"selected\":{\"id\":\"159d71f2-e2d3-4a23-b9ea-04651b4222ca\",\"type\":\"Selection\"},\"selection_policy\":{\"id\":\"c5589dde-583f-4eac-b653-b321f367aad2\",\"type\":\"UnionRenderers\"}},\"id\":\"8758bd04-0fa0-4f9a-81e6-58812078ff47\",\"type\":\"ColumnDataSource\"},{\"attributes\":{},\"id\":\"051dbd9b-e27f-4282-accd-479848189dca\",\"type\":\"UnionRenderers\"},{\"attributes\":{\"callback\":null,\"data\":{\"x\":{\"__ndarray__\":\"QAqMf8jToL//Am2tg9uiv4KXXsTcxaa/CbOvtDyAqr+XMOULKAquv/Zz3V1wsrC/axtQ0GhFsr+zxrK9yb2zvyxM19mNGrW/LO/UYgNgtr94slVTCZW3v2/iFOS3uri/4vBVi5vXub+AsFBzDrG6v5ggoEBT+7m/XX5QeJTrsr+IMy3ulTJWvxDudP0AGMA/6wh8otdQ1D/knMsZ+cDiP8aKfXZ+Qe4/o4o+xqzk9T9VaQUyrWD6P5TTSbffqfo/QOGTHutp+D8HGIGklK/zP69XAnCGp+w/tSvYtSLy4z8gWTmmed/aP8OQaY7Jd8s/BwvBGPMtpb92jyqSyBHSv3qbpcY+x96/8ExajFAY47+OsiV76SXiv9PR4Ylv1Ne/ZNUPxTcox79EBNUj6tW8v8XrXMIxrLe/rC09nVn5s7/+a04c/xCxv01ArjXdsKy/FlSMXooFqL/rQDykthqkv8ubJbtw5KC/k3wF02ibnL+7LxvJOSmYv0jGAzWwIZS/OO4Pb2WTkL90/x5SvuOKvzaCRb6cBoW/HnHt1GnEfr8C1jSKI+xzvy5QYprG8GK/oqlyr7M/Ij9b9idgm21kP/OIxRnLm3M/8oQX1qCrfD9SvS5kMrOCP0U0PyNJBoc/ltGO82xKiz8kjkkkzkaPPxKV9WfoWJE/w2u+wze2kj+HN2NTXNiTPwA+WSk09JQ/ZoUbZZIflj9T9DEkPluXPywjvALZpZg/UhpPJi/zmT+HDrT+mDSbP3kQaeMHVpw/IFItymtgnT+SC1dzoVieP/Z7NzNbSJ8/\",\"dtype\":\"float64\",\"shape\":[75]},\"y\":{\"__ndarray__\":\"GhExyth1ND/Sv8nbtpRIP2vylNV0PVE/aTum7souWD/At0SJ8fVgPw3Iuahxymc/MSNhhJWvcD/bTfBN02d3P2zb5nxnaoA/CD5h5MAGhz8NmeH1TyaQP+zrCsc9p5Y/LbKd76fGnz/bLW5ISEmmPww9YvTcQq8/JV2OstnstT8Er5Y7M8G+P0c+r3jqkcU/5h99k6ZBzj88bCIzFzjVP4enV8oyxN0//yH99nXg5D8qOpLLf0jtP5kqGJXUifQ/c9cS8kHP/D+/DpwzojQEQIEmwoanVwxA4lgXt9HgE0BSSZ2AJuIbQAMJih9jjiNA5q4l5INuK0AwTKYKRj0zQNv5fmq8/DpAaCJseHrtQkB/+zpwzoxKQM3MzMzMeFJAZmZmZmZqWEAAAAAAAFxeQM3MzMzMJmJAmpmZmZkfZUBmZmZmZhhoQDMzMzMzEWtAAAAAAAAKbkBmZmZmZoFwQM3MzMzM/XFAMzMzMzN6c0CamZmZmfZ0QAAAAAAAc3ZAZmZmZmbvd0DNzMzMzGt5QDMzMzMz6HpAmpmZmZlkfEAAAAAAAOF9QGZmZmZmXX9AZmZmZuZsgECamZmZGSuBQM3MzMxM6YFAAAAAAICngkAzMzMzs2WDQGZmZmbmI4RAmpmZmRnihEDNzMzMTKCFQAAAAACAXoZAMzMzM7Mch0BmZmZm5tqHQJqZmZkZmYhAzczMzExXiUAAAAAAgBWKQDMzMzOz04pAZmZmZuaRi0CamZmZGVCMQM3MzMxMDo1AAAAAAIDMjUAzMzMzs4qOQGZmZmbmSI9A\",\"dtype\":\"float64\",\"shape\":[75]}},\"selected\":{\"id\":\"babeb72d-2953-4e82-887b-e806aeb292f0\",\"type\":\"Selection\"},\"selection_policy\":{\"id\":\"11a9ac45-513e-4f96-9894-0b73df0342bc\",\"type\":\"UnionRenderers\"}},\"id\":\"7772217b-e900-49d9-9ac9-bf39016d2e37\",\"type\":\"ColumnDataSource\"},{\"attributes\":{},\"id\":\"db50c356-408e-433a-99b1-5c1c381ec14a\",\"type\":\"Selection\"},{\"attributes\":{},\"id\":\"c5589dde-583f-4eac-b653-b321f367aad2\",\"type\":\"UnionRenderers\"},{\"attributes\":{\"source\":{\"id\":\"e94f1ea3-ca60-4a3c-a0a7-2c6be3c8859e\",\"type\":\"ColumnDataSource\"}},\"id\":\"fd278121-30d6-4fbf-a7e7-3f8110a720c9\",\"type\":\"CDSView\"}],\"root_ids\":[\"7be13482-5901-4834-bfe3-7109cb395e11\"]},\"title\":\"Bokeh Application\",\"version\":\"0.12.16\"}};\n",
       "  var render_items = [{\"docid\":\"70e6391a-3723-4e96-b89c-ea0409c2937a\",\"elementid\":\"85b018e1-de95-4681-b99c-35bd89616ea9\",\"modelid\":\"7be13482-5901-4834-bfe3-7109cb395e11\"}];\n",
       "  root.Bokeh.embed.embed_items_notebook(docs_json, render_items);\n",
       "\n",
       "  }\n",
       "  if (root.Bokeh !== undefined) {\n",
       "    embed_document(root);\n",
       "  } else {\n",
       "    var attempts = 0;\n",
       "    var timer = setInterval(function(root) {\n",
       "      if (root.Bokeh !== undefined) {\n",
       "        embed_document(root);\n",
       "        clearInterval(timer);\n",
       "      }\n",
       "      attempts++;\n",
       "      if (attempts > 100) {\n",
       "        console.log(\"Bokeh: ERROR: Unable to run BokehJS code because BokehJS library is missing\")\n",
       "        clearInterval(timer);\n",
       "      }\n",
       "    }, 10, root)\n",
       "  }\n",
       "})(window);"
      ],
      "application/vnd.bokehjs_exec.v0+json": ""
     },
     "metadata": {
      "application/vnd.bokehjs_exec.v0+json": {
       "id": "7be13482-5901-4834-bfe3-7109cb395e11"
      }
     },
     "output_type": "display_data"
    },
    {
     "name": "stdout",
     "output_type": "stream",
     "text": [
      "FIGURE. Cooling rate profiles.\n"
     ]
    },
    {
     "data": {
      "text/html": [
       "<a id=\"Flux_Comparison\"></a>"
      ],
      "text/plain": [
       "<IPython.core.display.HTML object>"
      ]
     },
     "metadata": {},
     "output_type": "display_data"
    },
    {
     "data": {
      "text/markdown": [
       "# Flux Comparison"
      ],
      "text/plain": [
       "<IPython.core.display.Markdown object>"
      ]
     },
     "metadata": {},
     "output_type": "display_data"
    },
    {
     "data": {
      "text/html": [
       "<div>\n",
       "<style scoped>\n",
       "    .dataframe tbody tr th:only-of-type {\n",
       "        vertical-align: middle;\n",
       "    }\n",
       "\n",
       "    .dataframe tbody tr th {\n",
       "        vertical-align: top;\n",
       "    }\n",
       "\n",
       "    .dataframe thead th {\n",
       "        text-align: right;\n",
       "    }\n",
       "</style>\n",
       "<table border=\"1\" class=\"dataframe\">\n",
       "  <thead>\n",
       "    <tr style=\"text-align: right;\">\n",
       "      <th></th>\n",
       "      <th></th>\n",
       "      <th>flug</th>\n",
       "      <th>fldg</th>\n",
       "      <th>fnetg</th>\n",
       "    </tr>\n",
       "    <tr>\n",
       "      <th>pressure</th>\n",
       "      <th>level</th>\n",
       "      <th></th>\n",
       "      <th></th>\n",
       "      <th></th>\n",
       "    </tr>\n",
       "  </thead>\n",
       "  <tbody>\n",
       "    <tr>\n",
       "      <th>0.0000</th>\n",
       "      <th>1</th>\n",
       "      <td>-27.011626</td>\n",
       "      <td>0.000000</td>\n",
       "      <td>-27.011626</td>\n",
       "    </tr>\n",
       "    <tr>\n",
       "      <th>1.0685</th>\n",
       "      <th>24</th>\n",
       "      <td>-27.010755</td>\n",
       "      <td>0.127647</td>\n",
       "      <td>-26.883108</td>\n",
       "    </tr>\n",
       "    <tr>\n",
       "      <th>1013.0000</th>\n",
       "      <th>76</th>\n",
       "      <td>-34.728642</td>\n",
       "      <td>3.574645</td>\n",
       "      <td>-31.153997</td>\n",
       "    </tr>\n",
       "  </tbody>\n",
       "</table>\n",
       "</div>"
      ],
      "text/plain": [
       "                      flug      fldg      fnetg\n",
       "pressure  level                                \n",
       "0.0000    1     -27.011626  0.000000 -27.011626\n",
       "1.0685    24    -27.010755  0.127647 -26.883108\n",
       "1013.0000 76    -34.728642  3.574645 -31.153997"
      ]
     },
     "metadata": {},
     "output_type": "display_data"
    },
    {
     "name": "stdout",
     "output_type": "stream",
     "text": [
      "Table. Fluxes. CRD\n"
     ]
    },
    {
     "data": {
      "text/html": [
       "<div>\n",
       "<style scoped>\n",
       "    .dataframe tbody tr th:only-of-type {\n",
       "        vertical-align: middle;\n",
       "    }\n",
       "\n",
       "    .dataframe tbody tr th {\n",
       "        vertical-align: top;\n",
       "    }\n",
       "\n",
       "    .dataframe thead th {\n",
       "        text-align: right;\n",
       "    }\n",
       "</style>\n",
       "<table border=\"1\" class=\"dataframe\">\n",
       "  <thead>\n",
       "    <tr style=\"text-align: right;\">\n",
       "      <th></th>\n",
       "      <th></th>\n",
       "      <th>flug</th>\n",
       "      <th>fldg</th>\n",
       "      <th>fnetg</th>\n",
       "    </tr>\n",
       "    <tr>\n",
       "      <th>pressure</th>\n",
       "      <th>level</th>\n",
       "      <th></th>\n",
       "      <th></th>\n",
       "      <th></th>\n",
       "    </tr>\n",
       "  </thead>\n",
       "  <tbody>\n",
       "    <tr>\n",
       "      <th>0.0000</th>\n",
       "      <th>1</th>\n",
       "      <td>-26.888800</td>\n",
       "      <td>0.000000</td>\n",
       "      <td>-26.888800</td>\n",
       "    </tr>\n",
       "    <tr>\n",
       "      <th>1.0685</th>\n",
       "      <th>24</th>\n",
       "      <td>-26.886527</td>\n",
       "      <td>0.121014</td>\n",
       "      <td>-26.765513</td>\n",
       "    </tr>\n",
       "    <tr>\n",
       "      <th>1013.0000</th>\n",
       "      <th>76</th>\n",
       "      <td>-34.728642</td>\n",
       "      <td>3.549845</td>\n",
       "      <td>-31.178797</td>\n",
       "    </tr>\n",
       "  </tbody>\n",
       "</table>\n",
       "</div>"
      ],
      "text/plain": [
       "                      flug      fldg      fnetg\n",
       "pressure  level                                \n",
       "0.0000    1     -26.888800  0.000000 -26.888800\n",
       "1.0685    24    -26.886527  0.121014 -26.765513\n",
       "1013.0000 76    -34.728642  3.549845 -31.178797"
      ]
     },
     "metadata": {},
     "output_type": "display_data"
    },
    {
     "name": "stdout",
     "output_type": "stream",
     "text": [
      "Table. Fluxes. WGT igg=10 wgt_flux=1\n"
     ]
    },
    {
     "data": {
      "text/html": [
       "<div>\n",
       "<style scoped>\n",
       "    .dataframe tbody tr th:only-of-type {\n",
       "        vertical-align: middle;\n",
       "    }\n",
       "\n",
       "    .dataframe tbody tr th {\n",
       "        vertical-align: top;\n",
       "    }\n",
       "\n",
       "    .dataframe thead th {\n",
       "        text-align: right;\n",
       "    }\n",
       "</style>\n",
       "<table border=\"1\" class=\"dataframe\">\n",
       "  <thead>\n",
       "    <tr style=\"text-align: right;\">\n",
       "      <th></th>\n",
       "      <th></th>\n",
       "      <th>flug</th>\n",
       "      <th>fldg</th>\n",
       "      <th>fnetg</th>\n",
       "    </tr>\n",
       "    <tr>\n",
       "      <th>pressure</th>\n",
       "      <th>level</th>\n",
       "      <th></th>\n",
       "      <th></th>\n",
       "      <th></th>\n",
       "    </tr>\n",
       "  </thead>\n",
       "  <tbody>\n",
       "    <tr>\n",
       "      <th>1.000000e-08</th>\n",
       "      <th>1</th>\n",
       "      <td>-26.764956</td>\n",
       "      <td>0.000002</td>\n",
       "      <td>-26.764954</td>\n",
       "    </tr>\n",
       "    <tr>\n",
       "      <th>1.068500e+00</th>\n",
       "      <th>24</th>\n",
       "      <td>-26.761733</td>\n",
       "      <td>0.113350</td>\n",
       "      <td>-26.648384</td>\n",
       "    </tr>\n",
       "    <tr>\n",
       "      <th>1.013000e+03</th>\n",
       "      <th>76</th>\n",
       "      <td>-34.728640</td>\n",
       "      <td>3.435653</td>\n",
       "      <td>-31.292987</td>\n",
       "    </tr>\n",
       "  </tbody>\n",
       "</table>\n",
       "</div>"
      ],
      "text/plain": [
       "                         flug      fldg      fnetg\n",
       "pressure     level                                \n",
       "1.000000e-08 1     -26.764956  0.000002 -26.764954\n",
       "1.068500e+00 24    -26.761733  0.113350 -26.648384\n",
       "1.013000e+03 76    -34.728640  3.435653 -31.292987"
      ]
     },
     "metadata": {},
     "output_type": "display_data"
    },
    {
     "name": "stdout",
     "output_type": "stream",
     "text": [
      "Table. Fluxes. CLIRAD\n"
     ]
    },
    {
     "data": {
      "text/html": [
       "<div>\n",
       "<style scoped>\n",
       "    .dataframe tbody tr th:only-of-type {\n",
       "        vertical-align: middle;\n",
       "    }\n",
       "\n",
       "    .dataframe tbody tr th {\n",
       "        vertical-align: top;\n",
       "    }\n",
       "\n",
       "    .dataframe thead th {\n",
       "        text-align: right;\n",
       "    }\n",
       "</style>\n",
       "<table border=\"1\" class=\"dataframe\">\n",
       "  <thead>\n",
       "    <tr style=\"text-align: right;\">\n",
       "      <th></th>\n",
       "      <th></th>\n",
       "      <th>flug</th>\n",
       "      <th>fldg</th>\n",
       "      <th>fnetg</th>\n",
       "    </tr>\n",
       "    <tr>\n",
       "      <th>pressure</th>\n",
       "      <th>level</th>\n",
       "      <th></th>\n",
       "      <th></th>\n",
       "      <th></th>\n",
       "    </tr>\n",
       "  </thead>\n",
       "  <tbody>\n",
       "    <tr>\n",
       "      <th>0.0000</th>\n",
       "      <th>1</th>\n",
       "      <td>1.228259e-01</td>\n",
       "      <td>0.000000</td>\n",
       "      <td>0.122826</td>\n",
       "    </tr>\n",
       "    <tr>\n",
       "      <th>1.0685</th>\n",
       "      <th>24</th>\n",
       "      <td>1.242284e-01</td>\n",
       "      <td>-0.006632</td>\n",
       "      <td>0.117595</td>\n",
       "    </tr>\n",
       "    <tr>\n",
       "      <th>1013.0000</th>\n",
       "      <th>76</th>\n",
       "      <td>-1.700000e-07</td>\n",
       "      <td>-0.024800</td>\n",
       "      <td>-0.024800</td>\n",
       "    </tr>\n",
       "  </tbody>\n",
       "</table>\n",
       "</div>"
      ],
      "text/plain": [
       "                         flug      fldg     fnetg\n",
       "pressure  level                                  \n",
       "0.0000    1      1.228259e-01  0.000000  0.122826\n",
       "1.0685    24     1.242284e-01 -0.006632  0.117595\n",
       "1013.0000 76    -1.700000e-07 -0.024800 -0.024800"
      ]
     },
     "metadata": {},
     "output_type": "display_data"
    },
    {
     "name": "stdout",
     "output_type": "stream",
     "text": [
      "Table. Fluxes. (WGT igg=10 wgt_flux=1) - (CRD)\n"
     ]
    },
    {
     "data": {
      "text/html": [
       "<div>\n",
       "<style scoped>\n",
       "    .dataframe tbody tr th:only-of-type {\n",
       "        vertical-align: middle;\n",
       "    }\n",
       "\n",
       "    .dataframe tbody tr th {\n",
       "        vertical-align: top;\n",
       "    }\n",
       "\n",
       "    .dataframe thead th {\n",
       "        text-align: right;\n",
       "    }\n",
       "</style>\n",
       "<table border=\"1\" class=\"dataframe\">\n",
       "  <thead>\n",
       "    <tr style=\"text-align: right;\">\n",
       "      <th></th>\n",
       "      <th></th>\n",
       "      <th>flug</th>\n",
       "      <th>fldg</th>\n",
       "      <th>fnetg</th>\n",
       "    </tr>\n",
       "    <tr>\n",
       "      <th>pressure</th>\n",
       "      <th>level</th>\n",
       "      <th></th>\n",
       "      <th></th>\n",
       "      <th></th>\n",
       "    </tr>\n",
       "  </thead>\n",
       "  <tbody>\n",
       "    <tr>\n",
       "      <th>0.0000</th>\n",
       "      <th>1</th>\n",
       "      <td>0.246670</td>\n",
       "      <td>0.000002</td>\n",
       "      <td>0.246672</td>\n",
       "    </tr>\n",
       "    <tr>\n",
       "      <th>1.0685</th>\n",
       "      <th>24</th>\n",
       "      <td>0.249022</td>\n",
       "      <td>-0.014297</td>\n",
       "      <td>0.234724</td>\n",
       "    </tr>\n",
       "    <tr>\n",
       "      <th>1013.0000</th>\n",
       "      <th>76</th>\n",
       "      <td>0.000002</td>\n",
       "      <td>-0.138992</td>\n",
       "      <td>-0.138990</td>\n",
       "    </tr>\n",
       "  </tbody>\n",
       "</table>\n",
       "</div>"
      ],
      "text/plain": [
       "                     flug      fldg     fnetg\n",
       "pressure  level                              \n",
       "0.0000    1      0.246670  0.000002  0.246672\n",
       "1.0685    24     0.249022 -0.014297  0.234724\n",
       "1013.0000 76     0.000002 -0.138992 -0.138990"
      ]
     },
     "metadata": {},
     "output_type": "display_data"
    },
    {
     "name": "stdout",
     "output_type": "stream",
     "text": [
      "Table. Fluxes. (CLIRAD) - (CRD)\n"
     ]
    },
    {
     "data": {
      "text/html": [
       "<a id=\"Best-fit_Parameters\"></a>"
      ],
      "text/plain": [
       "<IPython.core.display.HTML object>"
      ]
     },
     "metadata": {},
     "output_type": "display_data"
    },
    {
     "data": {
      "text/markdown": [
       "# Best-fit Parameters"
      ],
      "text/plain": [
       "<IPython.core.display.Markdown object>"
      ]
     },
     "metadata": {},
     "output_type": "display_data"
    },
    {
     "name": "stdout",
     "output_type": "stream",
     "text": [
      "Best-fit values for each (gas, band)\n",
      "------------------------------------\n",
      "o o3 band5\n",
      "  atmpro = mls\n",
      "  band = 5\n",
      "  commitnumber = a06b618\n",
      "  conc = None\n",
      "  dv = 0.001\n",
      "  klin = 2e-20\n",
      "  molecule = o3\n",
      "  ng_adju = [0, 0]\n",
      "  ng_refs = [2, 5]\n",
      "  nv = 1000\n",
      "  option_compute_btable = 0\n",
      "  option_compute_ktable = 1\n",
      "  option_wgt_flux = 1\n",
      "  option_wgt_k = 1\n",
      "  ref_pts = [(1, 250), (50, 250)]\n",
      "  tsfc = 294\n",
      "  vmax = 1100\n",
      "  vmin = 980\n",
      "  w_diffuse = [(1.6, 1.75), (1.55, 1.66, 1.7, 1.75, 1.8)]\n",
      "  wgt = [(0.35, 0.6), (0.5, 0.55, 0.7, 0.9, 1.0)]\n"
     ]
    }
   ],
   "source": [
    "script()"
   ]
  },
  {
   "cell_type": "code",
   "execution_count": 13,
   "metadata": {
    "collapsed": true
   },
   "outputs": [
    {
     "data": {
      "text/html": [
       "<script>\n",
       "code_show=true; \n",
       "function code_toggle() {\n",
       " if (code_show){\n",
       " $('div.input').hide();\n",
       " } else {\n",
       " $('div.input').show();\n",
       " }\n",
       " code_show = !code_show\n",
       "} \n",
       "$( document ).ready(code_toggle);\n",
       "</script>\n",
       "<form action=\"javascript:code_toggle()\"><input type=\"submit\" value=\"Click here to toggle on/off the raw code.\"></form>"
      ],
      "text/plain": [
       "<IPython.core.display.HTML object>"
      ]
     },
     "execution_count": 13,
     "metadata": {},
     "output_type": "execute_result"
    }
   ],
   "source": [
    "display.HTML('''<script>\n",
    "code_show=true; \n",
    "function code_toggle() {\n",
    " if (code_show){\n",
    " $('div.input').hide();\n",
    " } else {\n",
    " $('div.input').show();\n",
    " }\n",
    " code_show = !code_show\n",
    "} \n",
    "$( document ).ready(code_toggle);\n",
    "</script>\n",
    "<form action=\"javascript:code_toggle()\"><input type=\"submit\" value=\"Click here to toggle on/off the raw code.\"></form>''')"
   ]
  }
 ],
 "metadata": {
  "kernelspec": {
   "display_name": "Python 3",
   "language": "python",
   "name": "python3"
  },
  "language_info": {
   "codemirror_mode": {
    "name": "ipython",
    "version": 3
   },
   "file_extension": ".py",
   "mimetype": "text/x-python",
   "name": "python",
   "nbconvert_exporter": "python",
   "pygments_lexer": "ipython3",
   "version": "3.6.1"
  }
 },
 "nbformat": 4,
 "nbformat_minor": 2
}
