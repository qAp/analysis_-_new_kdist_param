{
 "cells": [
  {
   "cell_type": "code",
   "execution_count": 2,
   "metadata": {},
   "outputs": [],
   "source": [
    "%reload_ext autoreload\n",
    "%autoreload 2\n",
    "\n",
    "import os\n",
    "import pprint\n",
    "import shutil\n",
    "import pymongo\n",
    "\n",
    "from climatools.cliradlw import (setup, pipeline)\n",
    "import climatools.cliradlw.runrecord as runrecord_clirad\n",
    "import climatools.cliradlw.utils as utils_clirad\n",
    "\n",
    "from climatools.lblnew import setup_overlap\n",
    "from climatools.lblnew import setup_bestfit\n",
    "import climatools.lblnew.pipeline as pipeline_lblnew\n",
    "import climatools.lblnew.bestfit_params as bestfit\n",
    "import climatools.lblnew.runrecord_bestfit as runrecord_bestfit\n",
    "import climatools.lblnew.runrecord_overlap as runrecord_overlap"
   ]
  },
  {
   "cell_type": "code",
   "execution_count": 3,
   "metadata": {
    "collapsed": true
   },
   "outputs": [],
   "source": [
    "client = pymongo.MongoClient('localhost', 27017)"
   ]
  },
  {
   "cell_type": "code",
   "execution_count": 4,
   "metadata": {},
   "outputs": [
    {
     "data": {
      "text/plain": [
       "159"
      ]
     },
     "execution_count": 4,
     "metadata": {},
     "output_type": "execute_result"
    }
   ],
   "source": [
    "client.cliradnew.lw.count()"
   ]
  },
  {
   "cell_type": "code",
   "execution_count": 9,
   "metadata": {
    "collapsed": true
   },
   "outputs": [],
   "source": [
    "ATMPROS = [('mls', 294), ('saw', 257), ('trp', 300)]"
   ]
  },
  {
   "cell_type": "code",
   "execution_count": 52,
   "metadata": {},
   "outputs": [],
   "source": [
    "# EDIT HERE TO START\n",
    "\n",
    "def params_clirad_nonoverlap():\n",
    "    '''\n",
    "    Define clirad-lw input parameter dictionaries\n",
    "    '''\n",
    "    commitnumber = '1013f91'\n",
    "    molecule = {'co2': 400e-6}\n",
    "    bands = [4,] \n",
    "    \n",
    "    return [{'commitnumber': commitnumber,\n",
    "             'molecule': molecule,\n",
    "             'band': [band],\n",
    "             'atmpro': atmpro, 'tsfc': tsfc}\n",
    "            for band in bands\n",
    "            for atmpro, tsfc in ATMPROS]"
   ]
  },
  {
   "cell_type": "code",
   "execution_count": 33,
   "metadata": {},
   "outputs": [],
   "source": [
    "def param_clirad2lblnewbestfit(param=None, commitnumber=None):\n",
    "    '''\n",
    "    Concert clirad param to lblnew-bestfit partial param\n",
    "    \n",
    "    Parameters\n",
    "    ----------\n",
    "    param: dict\n",
    "        clirad's param dictionary\n",
    "    commitnumber: str\n",
    "        Git commit number of the latest lblnew-bestfit version\n",
    "    '''\n",
    "    molecule, conc = list(param['molecule'].items())[0]\n",
    "    band = param['band'][0]\n",
    "    band = utils_clirad.mapband_new2old()[band]\n",
    "    atmpro = param['atmpro']\n",
    "    tsfc = param['tsfc']\n",
    "    return {'commitnumber': commitnumber,\n",
    "            'molecule': molecule, 'conc': conc,\n",
    "            'band': band, \n",
    "            'atmpro': atmpro, 'tsfc': tsfc}"
   ]
  },
  {
   "cell_type": "code",
   "execution_count": 53,
   "metadata": {
    "collapsed": true
   },
   "outputs": [],
   "source": [
    "def to_lblnewparam(param=None, commitnumber=None):\n",
    "    '''\n",
    "    Make query for lblnew-bestfit runs' database from \n",
    "    a given clirad-lw param\n",
    "    '''\n",
    "    # Unpack clirad-lw's param\n",
    "    molecule, conc = list(param['molecule'].items())[0]\n",
    "    band = param['band'][0]\n",
    "    band = utils_clirad.mapband_new2old()[band]\n",
    "    atmpro = param['atmpro']\n",
    "    tsfc = param['tsfc']\n",
    "    \n",
    "    # Get bestfit parameter values for (molecule, band)\n",
    "    param_best = bestfit.kdist_params(molecule=molecule, band=band)\n",
    "    \n",
    "    param_best['atmpro'] = atmpro\n",
    "    param_best['tsfc'] = tsfc\n",
    "    param_best['option_compute_ktable'] = 0\n",
    "    param_best['option_compute_btable'] = 0\n",
    "    return param_best\n",
    "\n",
    "def make_query(param=None)   :\n",
    "    return {f'param.{n}': v for n, v in param.items()}\n",
    "\n",
    "def get_parampairs():\n",
    "    pairs = []\n",
    "    for p in params_clirad_nonoverlap():\n",
    "        p_lblnew = to_lblnewparam(param=p)\n",
    "        q = make_query(param=p_lblnew)\n",
    "        ndocs = client.lblnew.bestfit_lw.count(q)\n",
    "        if ndocs: pairs.append((p, p_lblnew))\n",
    "    return pairs"
   ]
  },
  {
   "cell_type": "code",
   "execution_count": null,
   "metadata": {},
   "outputs": [],
   "source": []
  },
  {
   "cell_type": "code",
   "execution_count": 60,
   "metadata": {
    "collapsed": true
   },
   "outputs": [],
   "source": [
    "def script_clirad_lblnew():\n",
    "    '''\n",
    "    Script to run clirad and then plot results against the \n",
    "    corresponding lblnew case.  This needs both input parameter\n",
    "    dictionaries from clirad and lblnew.\n",
    "    '''\n",
    "    ps = get_parampairs()\n",
    "    gprocs = pipeline.pipeline_ipynb2git(parampairs=ps, setup=setup)"
   ]
  },
  {
   "cell_type": "code",
   "execution_count": 65,
   "metadata": {
    "scrolled": false
   },
   "outputs": [
    {
     "name": "stdout",
     "output_type": "stream",
     "text": [
      "{'atmpro': 'mls',\n",
      " 'band': [4],\n",
      " 'commitnumber': '1013f91',\n",
      " 'molecule': {'co2': 0.0004},\n",
      " 'tsfc': 294}\n",
      "{'atmpro': 'saw',\n",
      " 'band': [4],\n",
      " 'commitnumber': '1013f91',\n",
      " 'molecule': {'co2': 0.0004},\n",
      " 'tsfc': 257}\n",
      "{'atmpro': 'trp',\n",
      " 'band': [4],\n",
      " 'commitnumber': '1013f91',\n",
      " 'molecule': {'co2': 0.0004},\n",
      " 'tsfc': 300}\n",
      "{'atmpro': 'mls',\n",
      " 'band': [4],\n",
      " 'commitnumber': '1013f91',\n",
      " 'molecule': {'co2': 0.0004},\n",
      " 'tsfc': 294}\n",
      "{'atmpro': 'saw',\n",
      " 'band': [4],\n",
      " 'commitnumber': '1013f91',\n",
      " 'molecule': {'co2': 0.0004},\n",
      " 'tsfc': 257}\n",
      "{'atmpro': 'trp',\n",
      " 'band': [4],\n",
      " 'commitnumber': '1013f91',\n",
      " 'molecule': {'co2': 0.0004},\n",
      " 'tsfc': 300}\n",
      "\n"
     ]
    }
   ],
   "source": [
    "script_clirad_lblnew()"
   ]
  },
  {
   "cell_type": "code",
   "execution_count": 66,
   "metadata": {
    "scrolled": true
   },
   "outputs": [
    {
     "name": "stdout",
     "output_type": "stream",
     "text": [
      "http://nbviewer.jupyter.org/github/qap/analysis_-_new_kdist_param/blob/master/clirad/co2_0.0004/band_4/atmpro_mls/cliradlw_1013f91/results_cliradlw.ipynb\n",
      "\n",
      "http://nbviewer.jupyter.org/github/qap/analysis_-_new_kdist_param/blob/master/clirad/co2_0.0004/band_4/atmpro_saw/cliradlw_1013f91/results_cliradlw.ipynb\n",
      "\n",
      "http://nbviewer.jupyter.org/github/qap/analysis_-_new_kdist_param/blob/master/clirad/co2_0.0004/band_4/atmpro_trp/cliradlw_1013f91/results_cliradlw.ipynb\n",
      "\n"
     ]
    }
   ],
   "source": [
    "for param, _ in get_parampairs():\n",
    "    print(pipeline.nbviewer_url(param=param, setup=setup))\n",
    "    print()\n"
   ]
  },
  {
   "cell_type": "code",
   "execution_count": null,
   "metadata": {
    "collapsed": true
   },
   "outputs": [],
   "source": []
  }
 ],
 "metadata": {
  "kernelspec": {
   "display_name": "Python 3",
   "language": "python",
   "name": "python3"
  },
  "language_info": {
   "codemirror_mode": {
    "name": "ipython",
    "version": 3
   },
   "file_extension": ".py",
   "mimetype": "text/x-python",
   "name": "python",
   "nbconvert_exporter": "python",
   "pygments_lexer": "ipython3",
   "version": "3.6.1"
  }
 },
 "nbformat": 4,
 "nbformat_minor": 2
}
