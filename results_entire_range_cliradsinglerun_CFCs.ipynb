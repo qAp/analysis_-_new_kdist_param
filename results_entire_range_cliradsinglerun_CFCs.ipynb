{
 "cells": [
  {
   "cell_type": "code",
   "execution_count": 28,
   "metadata": {
    "collapsed": true
   },
   "outputs": [],
   "source": [
    "import os\n",
    "import ast\n",
    "import json\n",
    "import importlib \n",
    "import itertools\n",
    "import collections\n",
    "import pprint\n",
    "\n",
    "from bokeh.io import output_notebook, show\n",
    "from bokeh.layouts import gridplot\n",
    "from bokeh.plotting import figure\n",
    "from bokeh.models import Range1d, Legend, ColumnDataSource, FactorRange\n",
    "from bokeh.palettes import all_palettes\n",
    "from bokeh.transform import factor_cmap\n",
    "\n",
    "import matplotlib\n",
    "import matplotlib.pyplot as plt\n",
    "import numpy as np\n",
    "import pandas as pd\n",
    "import xarray as xr\n",
    "\n",
    "\n",
    "import climatools.lblnew.bestfit_params as bestfits\n",
    "from climatools.lblnew import setup_bestfit, setup_overlap\n",
    "import climatools.lblnew.pipeline as pipe_lblnew\n",
    "import climatools.cliradlw.setup as setup_cliradlw\n",
    "import climatools.cliradlw.pipeline as pipe_cliradlw\n",
    "\n",
    "import climatools.html.html as climahtml\n",
    "from climatools.lblnew.dataio import *\n",
    "from climatools.plot.plot import *\n",
    "\n",
    "\n",
    "from IPython import display\n",
    "\n",
    "#importlib.reload(bestfits)\n",
    "#importlib.reload(setup_bestfit)\n",
    "#importlib.reload(setup_overlap)\n",
    "#importlib.reload(pipe_lblnew)\n",
    "#importlib.reload(setup_cliradlw)\n",
    "#importlib.reload(pipe_cliradlw)"
   ]
  },
  {
   "cell_type": "code",
   "execution_count": 29,
   "metadata": {
    "scrolled": true
   },
   "outputs": [
    {
     "data": {
      "text/html": [
       "\n",
       "    <div class=\"bk-root\">\n",
       "        <a href=\"https://bokeh.pydata.org\" target=\"_blank\" class=\"bk-logo bk-logo-small bk-logo-notebook\"></a>\n",
       "        <span id=\"965efe09-2a71-408d-9b7f-320527ad912b\">Loading BokehJS ...</span>\n",
       "    </div>"
      ]
     },
     "metadata": {},
     "output_type": "display_data"
    },
    {
     "data": {
      "application/javascript": [
       "\n",
       "(function(root) {\n",
       "  function now() {\n",
       "    return new Date();\n",
       "  }\n",
       "\n",
       "  var force = true;\n",
       "\n",
       "  if (typeof (root._bokeh_onload_callbacks) === \"undefined\" || force === true) {\n",
       "    root._bokeh_onload_callbacks = [];\n",
       "    root._bokeh_is_loading = undefined;\n",
       "  }\n",
       "\n",
       "  var JS_MIME_TYPE = 'application/javascript';\n",
       "  var HTML_MIME_TYPE = 'text/html';\n",
       "  var EXEC_MIME_TYPE = 'application/vnd.bokehjs_exec.v0+json';\n",
       "  var CLASS_NAME = 'output_bokeh rendered_html';\n",
       "\n",
       "  /**\n",
       "   * Render data to the DOM node\n",
       "   */\n",
       "  function render(props, node) {\n",
       "    var script = document.createElement(\"script\");\n",
       "    node.appendChild(script);\n",
       "  }\n",
       "\n",
       "  /**\n",
       "   * Handle when an output is cleared or removed\n",
       "   */\n",
       "  function handleClearOutput(event, handle) {\n",
       "    var cell = handle.cell;\n",
       "\n",
       "    var id = cell.output_area._bokeh_element_id;\n",
       "    var server_id = cell.output_area._bokeh_server_id;\n",
       "    // Clean up Bokeh references\n",
       "    if (id !== undefined) {\n",
       "      Bokeh.index[id].model.document.clear();\n",
       "      delete Bokeh.index[id];\n",
       "    }\n",
       "\n",
       "    if (server_id !== undefined) {\n",
       "      // Clean up Bokeh references\n",
       "      var cmd = \"from bokeh.io.state import curstate; print(curstate().uuid_to_server['\" + server_id + \"'].get_sessions()[0].document.roots[0]._id)\";\n",
       "      cell.notebook.kernel.execute(cmd, {\n",
       "        iopub: {\n",
       "          output: function(msg) {\n",
       "            var element_id = msg.content.text.trim();\n",
       "            Bokeh.index[element_id].model.document.clear();\n",
       "            delete Bokeh.index[element_id];\n",
       "          }\n",
       "        }\n",
       "      });\n",
       "      // Destroy server and session\n",
       "      var cmd = \"import bokeh.io.notebook as ion; ion.destroy_server('\" + server_id + \"')\";\n",
       "      cell.notebook.kernel.execute(cmd);\n",
       "    }\n",
       "  }\n",
       "\n",
       "  /**\n",
       "   * Handle when a new output is added\n",
       "   */\n",
       "  function handleAddOutput(event, handle) {\n",
       "    var output_area = handle.output_area;\n",
       "    var output = handle.output;\n",
       "\n",
       "    // limit handleAddOutput to display_data with EXEC_MIME_TYPE content only\n",
       "    if ((output.output_type != \"display_data\") || (!output.data.hasOwnProperty(EXEC_MIME_TYPE))) {\n",
       "      return\n",
       "    }\n",
       "\n",
       "    var toinsert = output_area.element.find(\".\" + CLASS_NAME.split(' ')[0]);\n",
       "\n",
       "    if (output.metadata[EXEC_MIME_TYPE][\"id\"] !== undefined) {\n",
       "      toinsert[toinsert.length - 1].firstChild.textContent = output.data[JS_MIME_TYPE];\n",
       "      // store reference to embed id on output_area\n",
       "      output_area._bokeh_element_id = output.metadata[EXEC_MIME_TYPE][\"id\"];\n",
       "    }\n",
       "    if (output.metadata[EXEC_MIME_TYPE][\"server_id\"] !== undefined) {\n",
       "      var bk_div = document.createElement(\"div\");\n",
       "      bk_div.innerHTML = output.data[HTML_MIME_TYPE];\n",
       "      var script_attrs = bk_div.children[0].attributes;\n",
       "      for (var i = 0; i < script_attrs.length; i++) {\n",
       "        toinsert[toinsert.length - 1].firstChild.setAttribute(script_attrs[i].name, script_attrs[i].value);\n",
       "      }\n",
       "      // store reference to server id on output_area\n",
       "      output_area._bokeh_server_id = output.metadata[EXEC_MIME_TYPE][\"server_id\"];\n",
       "    }\n",
       "  }\n",
       "\n",
       "  function register_renderer(events, OutputArea) {\n",
       "\n",
       "    function append_mime(data, metadata, element) {\n",
       "      // create a DOM node to render to\n",
       "      var toinsert = this.create_output_subarea(\n",
       "        metadata,\n",
       "        CLASS_NAME,\n",
       "        EXEC_MIME_TYPE\n",
       "      );\n",
       "      this.keyboard_manager.register_events(toinsert);\n",
       "      // Render to node\n",
       "      var props = {data: data, metadata: metadata[EXEC_MIME_TYPE]};\n",
       "      render(props, toinsert[toinsert.length - 1]);\n",
       "      element.append(toinsert);\n",
       "      return toinsert\n",
       "    }\n",
       "\n",
       "    /* Handle when an output is cleared or removed */\n",
       "    events.on('clear_output.CodeCell', handleClearOutput);\n",
       "    events.on('delete.Cell', handleClearOutput);\n",
       "\n",
       "    /* Handle when a new output is added */\n",
       "    events.on('output_added.OutputArea', handleAddOutput);\n",
       "\n",
       "    /**\n",
       "     * Register the mime type and append_mime function with output_area\n",
       "     */\n",
       "    OutputArea.prototype.register_mime_type(EXEC_MIME_TYPE, append_mime, {\n",
       "      /* Is output safe? */\n",
       "      safe: true,\n",
       "      /* Index of renderer in `output_area.display_order` */\n",
       "      index: 0\n",
       "    });\n",
       "  }\n",
       "\n",
       "  // register the mime type if in Jupyter Notebook environment and previously unregistered\n",
       "  if (root.Jupyter !== undefined) {\n",
       "    var events = require('base/js/events');\n",
       "    var OutputArea = require('notebook/js/outputarea').OutputArea;\n",
       "\n",
       "    if (OutputArea.prototype.mime_types().indexOf(EXEC_MIME_TYPE) == -1) {\n",
       "      register_renderer(events, OutputArea);\n",
       "    }\n",
       "  }\n",
       "\n",
       "  \n",
       "  if (typeof (root._bokeh_timeout) === \"undefined\" || force === true) {\n",
       "    root._bokeh_timeout = Date.now() + 5000;\n",
       "    root._bokeh_failed_load = false;\n",
       "  }\n",
       "\n",
       "  var NB_LOAD_WARNING = {'data': {'text/html':\n",
       "     \"<div style='background-color: #fdd'>\\n\"+\n",
       "     \"<p>\\n\"+\n",
       "     \"BokehJS does not appear to have successfully loaded. If loading BokehJS from CDN, this \\n\"+\n",
       "     \"may be due to a slow or bad network connection. Possible fixes:\\n\"+\n",
       "     \"</p>\\n\"+\n",
       "     \"<ul>\\n\"+\n",
       "     \"<li>re-rerun `output_notebook()` to attempt to load from CDN again, or</li>\\n\"+\n",
       "     \"<li>use INLINE resources instead, as so:</li>\\n\"+\n",
       "     \"</ul>\\n\"+\n",
       "     \"<code>\\n\"+\n",
       "     \"from bokeh.resources import INLINE\\n\"+\n",
       "     \"output_notebook(resources=INLINE)\\n\"+\n",
       "     \"</code>\\n\"+\n",
       "     \"</div>\"}};\n",
       "\n",
       "  function display_loaded() {\n",
       "    var el = document.getElementById(\"965efe09-2a71-408d-9b7f-320527ad912b\");\n",
       "    if (el != null) {\n",
       "      el.textContent = \"BokehJS is loading...\";\n",
       "    }\n",
       "    if (root.Bokeh !== undefined) {\n",
       "      if (el != null) {\n",
       "        el.textContent = \"BokehJS \" + root.Bokeh.version + \" successfully loaded.\";\n",
       "      }\n",
       "    } else if (Date.now() < root._bokeh_timeout) {\n",
       "      setTimeout(display_loaded, 100)\n",
       "    }\n",
       "  }\n",
       "\n",
       "\n",
       "  function run_callbacks() {\n",
       "    try {\n",
       "      root._bokeh_onload_callbacks.forEach(function(callback) { callback() });\n",
       "    }\n",
       "    finally {\n",
       "      delete root._bokeh_onload_callbacks\n",
       "    }\n",
       "    console.info(\"Bokeh: all callbacks have finished\");\n",
       "  }\n",
       "\n",
       "  function load_libs(js_urls, callback) {\n",
       "    root._bokeh_onload_callbacks.push(callback);\n",
       "    if (root._bokeh_is_loading > 0) {\n",
       "      console.log(\"Bokeh: BokehJS is being loaded, scheduling callback at\", now());\n",
       "      return null;\n",
       "    }\n",
       "    if (js_urls == null || js_urls.length === 0) {\n",
       "      run_callbacks();\n",
       "      return null;\n",
       "    }\n",
       "    console.log(\"Bokeh: BokehJS not loaded, scheduling load and callback at\", now());\n",
       "    root._bokeh_is_loading = js_urls.length;\n",
       "    for (var i = 0; i < js_urls.length; i++) {\n",
       "      var url = js_urls[i];\n",
       "      var s = document.createElement('script');\n",
       "      s.src = url;\n",
       "      s.async = false;\n",
       "      s.onreadystatechange = s.onload = function() {\n",
       "        root._bokeh_is_loading--;\n",
       "        if (root._bokeh_is_loading === 0) {\n",
       "          console.log(\"Bokeh: all BokehJS libraries loaded\");\n",
       "          run_callbacks()\n",
       "        }\n",
       "      };\n",
       "      s.onerror = function() {\n",
       "        console.warn(\"failed to load library \" + url);\n",
       "      };\n",
       "      console.log(\"Bokeh: injecting script tag for BokehJS library: \", url);\n",
       "      document.getElementsByTagName(\"head\")[0].appendChild(s);\n",
       "    }\n",
       "  };var element = document.getElementById(\"965efe09-2a71-408d-9b7f-320527ad912b\");\n",
       "  if (element == null) {\n",
       "    console.log(\"Bokeh: ERROR: autoload.js configured with elementid '965efe09-2a71-408d-9b7f-320527ad912b' but no matching script tag was found. \")\n",
       "    return false;\n",
       "  }\n",
       "\n",
       "  var js_urls = [\"https://cdn.pydata.org/bokeh/release/bokeh-0.12.16.min.js\", \"https://cdn.pydata.org/bokeh/release/bokeh-widgets-0.12.16.min.js\", \"https://cdn.pydata.org/bokeh/release/bokeh-tables-0.12.16.min.js\", \"https://cdn.pydata.org/bokeh/release/bokeh-gl-0.12.16.min.js\"];\n",
       "\n",
       "  var inline_js = [\n",
       "    function(Bokeh) {\n",
       "      Bokeh.set_log_level(\"info\");\n",
       "    },\n",
       "    \n",
       "    function(Bokeh) {\n",
       "      \n",
       "    },\n",
       "    function(Bokeh) {\n",
       "      console.log(\"Bokeh: injecting CSS: https://cdn.pydata.org/bokeh/release/bokeh-0.12.16.min.css\");\n",
       "      Bokeh.embed.inject_css(\"https://cdn.pydata.org/bokeh/release/bokeh-0.12.16.min.css\");\n",
       "      console.log(\"Bokeh: injecting CSS: https://cdn.pydata.org/bokeh/release/bokeh-widgets-0.12.16.min.css\");\n",
       "      Bokeh.embed.inject_css(\"https://cdn.pydata.org/bokeh/release/bokeh-widgets-0.12.16.min.css\");\n",
       "      console.log(\"Bokeh: injecting CSS: https://cdn.pydata.org/bokeh/release/bokeh-tables-0.12.16.min.css\");\n",
       "      Bokeh.embed.inject_css(\"https://cdn.pydata.org/bokeh/release/bokeh-tables-0.12.16.min.css\");\n",
       "    }\n",
       "  ];\n",
       "\n",
       "  function run_inline_js() {\n",
       "    \n",
       "    if ((root.Bokeh !== undefined) || (force === true)) {\n",
       "      for (var i = 0; i < inline_js.length; i++) {\n",
       "        inline_js[i].call(root, root.Bokeh);\n",
       "      }if (force === true) {\n",
       "        display_loaded();\n",
       "      }} else if (Date.now() < root._bokeh_timeout) {\n",
       "      setTimeout(run_inline_js, 100);\n",
       "    } else if (!root._bokeh_failed_load) {\n",
       "      console.log(\"Bokeh: BokehJS failed to load within specified timeout.\");\n",
       "      root._bokeh_failed_load = true;\n",
       "    } else if (force !== true) {\n",
       "      var cell = $(document.getElementById(\"965efe09-2a71-408d-9b7f-320527ad912b\")).parents('.cell').data().cell;\n",
       "      cell.output_area.append_execute_result(NB_LOAD_WARNING)\n",
       "    }\n",
       "\n",
       "  }\n",
       "\n",
       "  if (root._bokeh_is_loading === 0) {\n",
       "    console.log(\"Bokeh: BokehJS loaded, going straight to plotting\");\n",
       "    run_inline_js();\n",
       "  } else {\n",
       "    load_libs(js_urls, function() {\n",
       "      console.log(\"Bokeh: BokehJS plotting callback run at\", now());\n",
       "      run_inline_js();\n",
       "    });\n",
       "  }\n",
       "}(window));"
      ],
      "application/vnd.bokehjs_load.v0+json": "\n(function(root) {\n  function now() {\n    return new Date();\n  }\n\n  var force = true;\n\n  if (typeof (root._bokeh_onload_callbacks) === \"undefined\" || force === true) {\n    root._bokeh_onload_callbacks = [];\n    root._bokeh_is_loading = undefined;\n  }\n\n  \n\n  \n  if (typeof (root._bokeh_timeout) === \"undefined\" || force === true) {\n    root._bokeh_timeout = Date.now() + 5000;\n    root._bokeh_failed_load = false;\n  }\n\n  var NB_LOAD_WARNING = {'data': {'text/html':\n     \"<div style='background-color: #fdd'>\\n\"+\n     \"<p>\\n\"+\n     \"BokehJS does not appear to have successfully loaded. If loading BokehJS from CDN, this \\n\"+\n     \"may be due to a slow or bad network connection. Possible fixes:\\n\"+\n     \"</p>\\n\"+\n     \"<ul>\\n\"+\n     \"<li>re-rerun `output_notebook()` to attempt to load from CDN again, or</li>\\n\"+\n     \"<li>use INLINE resources instead, as so:</li>\\n\"+\n     \"</ul>\\n\"+\n     \"<code>\\n\"+\n     \"from bokeh.resources import INLINE\\n\"+\n     \"output_notebook(resources=INLINE)\\n\"+\n     \"</code>\\n\"+\n     \"</div>\"}};\n\n  function display_loaded() {\n    var el = document.getElementById(\"965efe09-2a71-408d-9b7f-320527ad912b\");\n    if (el != null) {\n      el.textContent = \"BokehJS is loading...\";\n    }\n    if (root.Bokeh !== undefined) {\n      if (el != null) {\n        el.textContent = \"BokehJS \" + root.Bokeh.version + \" successfully loaded.\";\n      }\n    } else if (Date.now() < root._bokeh_timeout) {\n      setTimeout(display_loaded, 100)\n    }\n  }\n\n\n  function run_callbacks() {\n    try {\n      root._bokeh_onload_callbacks.forEach(function(callback) { callback() });\n    }\n    finally {\n      delete root._bokeh_onload_callbacks\n    }\n    console.info(\"Bokeh: all callbacks have finished\");\n  }\n\n  function load_libs(js_urls, callback) {\n    root._bokeh_onload_callbacks.push(callback);\n    if (root._bokeh_is_loading > 0) {\n      console.log(\"Bokeh: BokehJS is being loaded, scheduling callback at\", now());\n      return null;\n    }\n    if (js_urls == null || js_urls.length === 0) {\n      run_callbacks();\n      return null;\n    }\n    console.log(\"Bokeh: BokehJS not loaded, scheduling load and callback at\", now());\n    root._bokeh_is_loading = js_urls.length;\n    for (var i = 0; i < js_urls.length; i++) {\n      var url = js_urls[i];\n      var s = document.createElement('script');\n      s.src = url;\n      s.async = false;\n      s.onreadystatechange = s.onload = function() {\n        root._bokeh_is_loading--;\n        if (root._bokeh_is_loading === 0) {\n          console.log(\"Bokeh: all BokehJS libraries loaded\");\n          run_callbacks()\n        }\n      };\n      s.onerror = function() {\n        console.warn(\"failed to load library \" + url);\n      };\n      console.log(\"Bokeh: injecting script tag for BokehJS library: \", url);\n      document.getElementsByTagName(\"head\")[0].appendChild(s);\n    }\n  };var element = document.getElementById(\"965efe09-2a71-408d-9b7f-320527ad912b\");\n  if (element == null) {\n    console.log(\"Bokeh: ERROR: autoload.js configured with elementid '965efe09-2a71-408d-9b7f-320527ad912b' but no matching script tag was found. \")\n    return false;\n  }\n\n  var js_urls = [\"https://cdn.pydata.org/bokeh/release/bokeh-0.12.16.min.js\", \"https://cdn.pydata.org/bokeh/release/bokeh-widgets-0.12.16.min.js\", \"https://cdn.pydata.org/bokeh/release/bokeh-tables-0.12.16.min.js\", \"https://cdn.pydata.org/bokeh/release/bokeh-gl-0.12.16.min.js\"];\n\n  var inline_js = [\n    function(Bokeh) {\n      Bokeh.set_log_level(\"info\");\n    },\n    \n    function(Bokeh) {\n      \n    },\n    function(Bokeh) {\n      console.log(\"Bokeh: injecting CSS: https://cdn.pydata.org/bokeh/release/bokeh-0.12.16.min.css\");\n      Bokeh.embed.inject_css(\"https://cdn.pydata.org/bokeh/release/bokeh-0.12.16.min.css\");\n      console.log(\"Bokeh: injecting CSS: https://cdn.pydata.org/bokeh/release/bokeh-widgets-0.12.16.min.css\");\n      Bokeh.embed.inject_css(\"https://cdn.pydata.org/bokeh/release/bokeh-widgets-0.12.16.min.css\");\n      console.log(\"Bokeh: injecting CSS: https://cdn.pydata.org/bokeh/release/bokeh-tables-0.12.16.min.css\");\n      Bokeh.embed.inject_css(\"https://cdn.pydata.org/bokeh/release/bokeh-tables-0.12.16.min.css\");\n    }\n  ];\n\n  function run_inline_js() {\n    \n    if ((root.Bokeh !== undefined) || (force === true)) {\n      for (var i = 0; i < inline_js.length; i++) {\n        inline_js[i].call(root, root.Bokeh);\n      }if (force === true) {\n        display_loaded();\n      }} else if (Date.now() < root._bokeh_timeout) {\n      setTimeout(run_inline_js, 100);\n    } else if (!root._bokeh_failed_load) {\n      console.log(\"Bokeh: BokehJS failed to load within specified timeout.\");\n      root._bokeh_failed_load = true;\n    } else if (force !== true) {\n      var cell = $(document.getElementById(\"965efe09-2a71-408d-9b7f-320527ad912b\")).parents('.cell').data().cell;\n      cell.output_area.append_execute_result(NB_LOAD_WARNING)\n    }\n\n  }\n\n  if (root._bokeh_is_loading === 0) {\n    console.log(\"Bokeh: BokehJS loaded, going straight to plotting\");\n    run_inline_js();\n  } else {\n    load_libs(js_urls, function() {\n      console.log(\"Bokeh: BokehJS plotting callback run at\", now());\n      run_inline_js();\n    });\n  }\n}(window));"
     },
     "metadata": {},
     "output_type": "display_data"
    }
   ],
   "source": [
    "output_notebook()"
   ]
  },
  {
   "cell_type": "code",
   "execution_count": 30,
   "metadata": {
    "collapsed": true
   },
   "outputs": [],
   "source": [
    "'''\n",
    "Get the clirad-lw and lblnew `param`s for all spectral bands.  \n",
    "These are returned by functions `clirad_params_atm` and\n",
    "`lblnew_params_atm`, respectively.\n",
    "'''\n",
    "\n",
    "def molecules_byband_atm():\n",
    "    return {1: {'h2o': 'atmpro'},\n",
    "            2: {'h2o': 'atmpro'}, \n",
    "            3: {'co2': 0.0004, 'h2o': 'atmpro', 'n2o': 3.2e-07},\n",
    "            4: {'co2': 0.0004, 'h2o': 'atmpro'},\n",
    "            5: {'co2': 0.0004, 'h2o': 'atmpro'},\n",
    "            6: {'co2': 0.0004, 'h2o': 'atmpro'},\n",
    "            7: {'co2': 0.0004, 'h2o': 'atmpro', 'o3': 'atmpro'},\n",
    "            8: {'h2o': 'atmpro'},\n",
    "            9: {'ch4': 1.8e-06, 'h2o': 'atmpro', 'n2o': 3.2e-07},\n",
    "            10: {'h2o': 'atmpro'},\n",
    "            11: {'co2': 0.0004, 'h2o': 'atmpro'}}\n",
    "\n",
    "\n",
    "def greyabsorbers_by_band_atm():\n",
    "    return {1: {'con': 'atmpro'},\n",
    "            2: {'con': 'atmpro'},\n",
    "            3: {'con': 'atmpro'},\n",
    "            4: {'con': 'atmpro'},\n",
    "            5: {'con': 'atmpro'},\n",
    "            6: {'con': 'atmpro'}, \n",
    "            7: {'con': 'atmpro'},\n",
    "            8: {'con': 'atmpro', 'n2o': 3.2e-7}, \n",
    "            9: {'con': 'atmpro'}, \n",
    "            10: None,\n",
    "            11: None}\n",
    "\n",
    "\n",
    "def clirad_params_atm(atmpro='mls'):\n",
    "    d = {}\n",
    "    for band, molecule in molecules_byband_atm().items():\n",
    "        for param in setup_cliradlw.test_cases():\n",
    "            if [band] == param['band'] and molecule == param['molecule']:\n",
    "                param['atmpro'] = atmpro\n",
    "                d[band] = param\n",
    "                break                \n",
    "    return d\n",
    "\n",
    "\n",
    "def clirad_params_atm_singlerun(atmpro='mls'):\n",
    "    '''\n",
    "    Returns param of clirad-lw run that is equivalent to the total\n",
    "    of all the runs listed in molecules_byband_atm().  In order\n",
    "    for the output to be compatible with clirad_data_atm(), it will\n",
    "    be a list.\n",
    "    '''\n",
    "    param0 = {'band': [1, 2, 3, 4, 5, 6, 7, 8, 9, 10, 11],\n",
    "              'commitnumber': 'eaeed17',\n",
    "              'molecule': {'ch4': 1.8e-06,\n",
    "                           'co2': 0.0004,\n",
    "                           'h2o': 'atmpro',\n",
    "                           'n2o': 3.2e-07,\n",
    "                           'o3': 'atmpro'}}\n",
    "    \n",
    "    d_atmpros = {'mls': 294, 'saw': 257, 'trp': 300}\n",
    "    \n",
    "    param = param0.copy()\n",
    "    param['atmpro'] = atmpro\n",
    "    param['tsfc'] = d_atmpros[atmpro]\n",
    "    \n",
    "    d = {}\n",
    "    d['all'] = param\n",
    "    return d\n",
    "\n",
    "\n",
    "def analysis_dirs_atm(atmpro='mls'):\n",
    "    params = clirad_params_atm(atmpro=atmpro)\n",
    "    return {band: pipe_cliradlw.get_analysis_dir(param=param,\n",
    "                                                 setup=setup_cliradlw) \n",
    "            for band, param in params.items()}\n",
    "\n",
    "\n",
    "def lblnew_params_atm(atmpro='mls'):\n",
    "    dirs = analysis_dirs_atm(atmpro=atmpro)\n",
    "    \n",
    "    d = {}\n",
    "    for band, dirname in dirs.items():\n",
    "        with open(os.path.join(dirname, 'param.py'), \n",
    "                  mode='r', encoding='utf-8') as f:\n",
    "            _, l = f.readlines()\n",
    "        \n",
    "        s = l.split('=')[1].strip()\n",
    "        d[band] = ast.literal_eval(s)\n",
    "        \n",
    "    return d\n"
   ]
  },
  {
   "cell_type": "code",
   "execution_count": 31,
   "metadata": {
    "collapsed": true
   },
   "outputs": [],
   "source": [
    "def db_getdir():\n",
    "    atmpro = 'mls'\n",
    "    params = clirad_params_atm_singlerun(atmpro=atmpro)\n",
    "    param = params['all']\n",
    "    \n",
    "    fdir = pipe_cliradlw.get_fortran_dir(param=param, \n",
    "                                         setup=setup_cliradlw)\n",
    "    return fdir\n",
    "\n",
    "\n",
    "def db_ktable():\n",
    "    fdir = db_getdir()    \n",
    "    fpath = os.path.join(fdir, 'ktable.dat')\n",
    "    \n",
    "    df = pd.read_csv(fpath, sep=r'\\s+')\n",
    "    df = df.set_index(['band', 'mid', 'il', 'it', 'g'])\n",
    "    ds = xr.Dataset.from_dataframe(df)\n",
    "    return ds\n",
    "\n",
    "\n",
    "def db_ng_dgs():\n",
    "    fdir = db_getdir()\n",
    "    fpath = os.path.join(fdir, 'ng_dgs.dat')\n",
    "    \n",
    "    df = pd.read_csv(fpath, sep=r'\\s+')\n",
    "    df = df.set_index(['band', 'mid', 'g'])\n",
    "    ds = xr.Dataset.from_dataframe(df)\n",
    "    return ds\n"
   ]
  },
  {
   "cell_type": "code",
   "execution_count": 32,
   "metadata": {
    "collapsed": true
   },
   "outputs": [],
   "source": [
    "def show_makeup():\n",
    "    df = pd.DataFrame()\n",
    "\n",
    "    for band, molecule in molecules_byband_atm().items():\n",
    "        for name, conc in molecule.items():\n",
    "            df.loc[name, band] = str(conc)\n",
    "\n",
    "    df = df.fillna(0)\n",
    "    df.columns.name = 'clirad band'\n",
    "    df.index.name = 'molecule'\n",
    "    \n",
    "    display.display(df)\n",
    "    \n",
    "    display.display(\n",
    "        display.Markdown('*TABLE.* Non-grey absorbers in the atmosphere.'))\n",
    "\n",
    "\n",
    "def show_grey_makeup():\n",
    "    df = pd.DataFrame()\n",
    "    \n",
    "    for band, molecule in greyabsorbers_by_band_atm().items():\n",
    "        if molecule == None:\n",
    "            pass\n",
    "        else:\n",
    "            for name, conc in molecule.items():\n",
    "                df.loc[name, band] = str(conc)\n",
    "                \n",
    "    df = df.fillna(0)\n",
    "    df.columns.name = 'clirad band'\n",
    "    df.index.name = 'absorber'\n",
    "    \n",
    "    display.display(df)\n",
    "    display.display(\n",
    "        display.Markdown('*TABLE.* Grey absorbers in the atmosphere.')\n",
    "    )"
   ]
  },
  {
   "cell_type": "code",
   "execution_count": 33,
   "metadata": {
    "collapsed": true
   },
   "outputs": [],
   "source": [
    "def load_output_file(path_csv):\n",
    "    '''\n",
    "    Load lblnew output .csv file to xarray.Dataset\n",
    "    \n",
    "    Parameters\n",
    "    ----------\n",
    "    path_csv: str\n",
    "              Path to the .csv file to be loaded.\n",
    "    ds: xarray.Dataset\n",
    "        Data in the input file in the form of an xarray.Dataset.\n",
    "    '''\n",
    "    toindex = ['band', 'pressure', 'igg', 'g']    \n",
    "    df = pd.read_csv(path_csv, sep=r'\\s+')\n",
    "    df = df.set_index([i for i in toindex if i in df.columns])\n",
    "    df = df.rename(columns={'sfu': 'flug',\n",
    "                            'sfd': 'fldg',\n",
    "                            'fnet': 'fnetg',\n",
    "                            'coolr': 'coolrg'})\n",
    "    ds = xr.Dataset.from_dataframe(df)\n",
    "\n",
    "    for l in ('level', 'layer'):\n",
    "        if l in ds.data_vars:\n",
    "            if len(ds[l].dims) > 1:\n",
    "                surface = {d: 0 for d in ds.dims if d != 'pressure'}\n",
    "                coord_level = ds[l][surface]\n",
    "                ds.coords[l] = ('pressure', coord_level)\n",
    "            else:\n",
    "                ds.coords[l] = ('pressure', ds[l])\n",
    "    \n",
    "    return ds"
   ]
  },
  {
   "cell_type": "code",
   "execution_count": 34,
   "metadata": {
    "collapsed": true
   },
   "outputs": [],
   "source": [
    "def lblnew_setup(param=None):\n",
    "    if 'ng_refs' in param:\n",
    "        return {'setup': setup_bestfit,\n",
    "                'fname_flux_crd': 'output_flux.dat',\n",
    "                'fname_cool_crd': 'output_coolr.dat',\n",
    "                'fname_flux_wgt': 'output_wfluxg.dat',\n",
    "                'fname_cool_wgt': 'output_wcoolrg.dat'}\n",
    "    else:\n",
    "        return {'setup': setup_overlap,\n",
    "                'fname_flux_crd': 'output_flux.dat',\n",
    "                'fname_cool_crd': 'output_coolr.dat',\n",
    "                'fname_flux_wgt': 'output_wflux.dat',\n",
    "                'fname_cool_wgt': 'output_wcoolr.dat'}\n",
    "\n",
    "    \n",
    "def load_lblnew_data(param):\n",
    "    \n",
    "    fname_dsname = [('fname_flux_crd', 'ds_flux_crd'),\n",
    "                    ('fname_cool_crd', 'ds_cool_crd'),\n",
    "                    ('fname_flux_wgt', 'ds_flux_wgt'),\n",
    "                    ('fname_cool_wgt', 'ds_cool_wgt')]\n",
    "    \n",
    "    d = lblnew_setup(param)\n",
    "    dir_fortran = pipe_lblnew.get_dir_case(param, setup=d['setup'])\n",
    "    \n",
    "    data_dict = {}\n",
    "    for fname, dsname in fname_dsname:\n",
    "        fpath = os.path.join(dir_fortran, d[fname])\n",
    "        data_dict[dsname] = load_output_file(fpath)\n",
    "    return data_dict"
   ]
  },
  {
   "cell_type": "code",
   "execution_count": 35,
   "metadata": {
    "collapsed": true
   },
   "outputs": [],
   "source": [
    "def crd_data_atm(params_atm):\n",
    "    '''\n",
    "    Parameters\n",
    "    ----------\n",
    "    \n",
    "    params_atm: dict\n",
    "                Parameter dictionary for each band.\n",
    "                \n",
    "    d: dict\n",
    "       'flux': xr.Dataset. [pressure, band]\n",
    "               Fluxes.\n",
    "       'cool': xr.Dataset. [pressure, band]\n",
    "               Cooling rate.\n",
    "    \n",
    "    '''\n",
    "    \n",
    "    results_atm = {band: load_lblnew_data(param) \n",
    "                   for band, param in params_atm.items()}\n",
    "    \n",
    "    bands = [band for band, _ in params_atm.items()]\n",
    "    fluxs = [d['ds_flux_crd'] for _, d in results_atm.items()]\n",
    "    cools = [d['ds_cool_crd'] for _, d in results_atm.items()]\n",
    "    \n",
    "    d = {}\n",
    "    d['flux'] = xr.concat(fluxs, dim=bands).rename({'concat_dim': 'band'})\n",
    "    d['cool'] = xr.concat(cools, dim=bands).rename({'concat_dim': 'band'})\n",
    "    return d        \n",
    "        \n",
    "        \n",
    "\n",
    "def clirad_data_atm(params_atm):\n",
    "    \n",
    "    dirnames = [pipe_cliradlw.get_fortran_dir(param,\n",
    "                                              setup=setup_cliradlw)\n",
    "                for _, param in params_atm.items()]\n",
    "    \n",
    "    fpaths_flux = [os.path.join(n, 'output_flux.dat') for n in dirnames]\n",
    "    fpaths_cool = [os.path.join(n, 'output_coolr.dat') for n in dirnames]\n",
    "    \n",
    "    fluxs = [load_output_file(p) for p in fpaths_flux]    \n",
    "    cools = [load_output_file(p) for p in fpaths_cool]\n",
    "    \n",
    "    d = {}\n",
    "    d['flux'] = sum(fluxs)\n",
    "    d['cool'] = sum(cools)\n",
    "    return d\n",
    "\n"
   ]
  },
  {
   "cell_type": "code",
   "execution_count": 36,
   "metadata": {
    "collapsed": true
   },
   "outputs": [],
   "source": [
    "\n",
    "\n",
    "import rtmtools.clirad.sw.wrangle as cliradwrangle\n",
    "\n",
    "import importlib\n",
    "importlib.reload(cliradwrangle)\n",
    "\n",
    "def oldclirad_data_atm():\n",
    "    '''\n",
    "    Load the OLD clirad's results. mls only.\n",
    "    '''\n",
    "    fpath = os.path.join('/chia_cluster/home/jackyu/radiation',\n",
    "                         'clirad-lw',\n",
    "                         'LW',\n",
    "                         'examples',\n",
    "                         'mls75_h2o_atmpro_co2_.0004_o3_atmpro_n2o_3.2e-7_ch4_1.8e-6_H2012',\n",
    "                         'OUTPUT_CLIRAD.dat')\n",
    "    \n",
    "    ds = cliradwrangle.load_OUTPUT_CLIRAD(readfrom=fpath)\n",
    "    \n",
    "    ds_cool = xr.Dataset()\n",
    "    ds_cool.coords['pressure'] = ('pressure', ds['layer_pressure'])\n",
    "    ds_cool.coords['band'] = ('band', ds['spectral_band'])\n",
    "    ds_cool['coolrg'] = (('band', 'pressure'), - ds['heating_rate'])\n",
    "    \n",
    "    ds_flux = xr.Dataset()\n",
    "    ds_flux.coords['pressure'] = ('pressure', ds['level_pressure'])\n",
    "    ds_flux.coords['band'] = ('band', ds['spectral_band'])\n",
    "    ds_flux['flug'] = (('band', 'pressure'), ds['flux_up'])\n",
    "    ds_flux['fldg'] = (('band', 'pressure'), ds['flux_down'])\n",
    "    ds_flux['fnetg'] = (('band', 'pressure'), ds['net_flux'])\n",
    "    \n",
    "    \n",
    "    d = {}\n",
    "    d['cool'] = ds_cool\n",
    "    d['flux'] = ds_flux\n",
    "    return d\n"
   ]
  },
  {
   "cell_type": "code",
   "execution_count": 37,
   "metadata": {
    "collapsed": true
   },
   "outputs": [],
   "source": [
    "def fmt_cool(ds_in):\n",
    "    ds = ds_in.copy(deep=True)\n",
    "    if 'igg' in ds.dims:\n",
    "        ds = ds.sel(igg=1)\n",
    "\n",
    "    if 'g' in ds.dims:\n",
    "        ds = ds.sum('g')\n",
    "            \n",
    "    if 'band' in ds.dims:\n",
    "        try:\n",
    "            ds = ds.squeeze('band')\n",
    "        except ValueError:\n",
    "            ds = ds.sum('band')\n",
    "                \n",
    "    return ds['coolrg']\n",
    "\n",
    "\n",
    "\n",
    "def nice_xlims(pltdata=None, prange=None):\n",
    "    \n",
    "    def get_slice(srs):\n",
    "        return srs.sel(pressure=slice(*prange))\n",
    "    \n",
    "    srss = [d['srs'] for d in pltdata]\n",
    "    vmin = min([get_slice(srs).min() for srs in srss])\n",
    "    vmax = max([get_slice(srs).max() for srs in srss])\n",
    "    dv = (vmax - vmin) * .01\n",
    "    return float(vmin - dv), float(vmax + dv)\n",
    "\n",
    "\n",
    "    \n",
    "def plt_cool_bokeh(pltdata=None, \n",
    "                   y_axis_type='linear', prange=(50, 1050)):\n",
    "    \n",
    "    ymin = 1e-2 \n",
    "    ymax = 1020\n",
    "    \n",
    "    p2 = figure(y_axis_type=y_axis_type, plot_width=300)\n",
    "    xmin, xmax = nice_xlims(pltdata, prange=prange)\n",
    "    \n",
    "    rs = []\n",
    "    for d in pltdata:\n",
    "        rd = []\n",
    "        if 'marker' in d:\n",
    "            r_mark = getattr(p2, d['marker'])(d['srs'].values, \n",
    "                        d['srs'].coords['pressure'].values,\n",
    "                        color=d['color'], alpha=.7)\n",
    "            rd.append(r_mark)\n",
    "        r_line = p2.line(d['srs'].values, \n",
    "                         d['srs'].coords['pressure'].values,\n",
    "                         color=d['color'], alpha=d['alpha'], \n",
    "                         line_width=d['line_width'], \n",
    "                         line_dash=d['line_dash'])\n",
    "        rd.append(r_line)\n",
    "      \n",
    "        rs.append(rd)\n",
    "        \n",
    "    p2.y_range = Range1d(ymax, ymin)  \n",
    "    p2.yaxis.axis_label = 'pressure [mb]'\n",
    "    \n",
    "    p2.x_range = Range1d(xmin, xmax)\n",
    "    p2.xaxis.axis_label = 'cooling rate [K/day]'\n",
    "    \n",
    "    items = [(d['label'], r) for r, d in zip(rs, pltdata)]\n",
    "    legend = Legend(items=items, location=(10, 0))\n",
    "    legend.label_text_font_size = '8pt'\n",
    "    p2.add_layout(legend, 'above')\n",
    "    p2.legend.orientation = 'horizontal'\n",
    "    p2.legend.location = 'top_center'\n",
    "    \n",
    "    return p2"
   ]
  },
  {
   "cell_type": "code",
   "execution_count": 38,
   "metadata": {
    "collapsed": true
   },
   "outputs": [],
   "source": [
    "def pltdata_cool(atmpro='mls'):\n",
    "    \n",
    "    d_clirad_singlerun = clirad_data_atm(\n",
    "        clirad_params_atm_singlerun(atmpro=atmpro))\n",
    "    d_clirad = clirad_data_atm(clirad_params_atm(atmpro=atmpro))\n",
    "    d_crd = crd_data_atm(lblnew_params_atm(atmpro=atmpro))\n",
    "\n",
    "    ds_clirad_singlerun = d_clirad_singlerun['cool']\n",
    "    ds_clirad = d_clirad['cool']\n",
    "    ds_crd = d_crd['cool']\n",
    "\n",
    "    colors = all_palettes['Set1'][4]\n",
    "    \n",
    "    data = [\n",
    "        {'label': 'CLIRAD (single-run)',\n",
    "        'srs': fmt_cool(ds_clirad_singlerun),\n",
    "        'line_dash': 'dashed', 'line_width': 5,\n",
    "        'color': colors[1], 'alpha': .6},\n",
    "        {'label': 'CRD',\n",
    "         'srs': fmt_cool(ds_crd),\n",
    "         'line_dash': 'solid', 'line_width': 1.5,\n",
    "         'marker': 'circle', 'marker_size': 5,\n",
    "         'color': colors[2], 'alpha': 1}\n",
    "    ]\n",
    "#        {'label': 'CLIRAD',\n",
    "#         'srs': fmt_cool(ds_clirad),\n",
    "#         'line_dash': 'dashed', 'line_width': 5,\n",
    "#         'color': colors[0], 'alpha': .6}\n",
    "        \n",
    "\n",
    "    \n",
    "    # include old CLIRAD's results for mls profile\n",
    "    if atmpro == 'mls':\n",
    "        d_oldclirad = oldclirad_data_atm()\n",
    "        ds_oldclirad = d_oldclirad['cool']        \n",
    "        data.append(\n",
    "            {'label': 'old CLIRAD (H2012)',\n",
    "             'srs': fmt_cool(ds_oldclirad),\n",
    "             'line_dash': 'solid', 'line_width': 1.5,\n",
    "             'marker': 'square', 'marker_size': 3,\n",
    "             'color': colors[3], 'alpha': .5})\n",
    "    return data\n",
    "\n",
    "\n",
    "def pltdata_cooldiff(atmpro='mls'):\n",
    "    \n",
    "    d_clirad_singlerun = clirad_data_atm(\n",
    "        clirad_params_atm_singlerun(atmpro=atmpro))\n",
    "    d_clirad = clirad_data_atm(clirad_params_atm(atmpro=atmpro))\n",
    "    d_crd = crd_data_atm(lblnew_params_atm(atmpro=atmpro))\n",
    "    \n",
    "    ds_clirad_singlerun = d_clirad_singlerun['cool']\n",
    "    ds_clirad = d_clirad['cool']\n",
    "    ds_crd = d_crd['cool']\n",
    "    \n",
    "    ds_diff = ds_clirad_singlerun - ds_crd\n",
    "    \n",
    "    colors = all_palettes['Set1'][4]\n",
    "    \n",
    "    data = [\n",
    "        {'label': 'CLIRAD (single-run) - CRD',\n",
    "         'srs': fmt_cool(ds_diff),\n",
    "         'line_dash': 'solid', 'line_width': 1.5, \n",
    "         'marker': 'circle', 'marker_size': 7,\n",
    "         'color': colors[3], 'alpha': .8}\n",
    "    ]\n",
    "    \n",
    "    # include old CLIRAD's results for mls profile\n",
    "    if atmpro == 'mls':\n",
    "        d_oldclirad = oldclirad_data_atm()\n",
    "        ds_oldclirad = d_oldclirad['cool']\n",
    "        ds_oldclirad.coords['pressure'] = ds_crd.coords['pressure']\n",
    "        ds_diff_old = ds_oldclirad.sum('band') - ds_crd.sum('band')\n",
    "        data.append(\n",
    "            {'label': 'old CLIRAD (H2012) - CRD',\n",
    "             'srs': fmt_cool(ds_diff_old),\n",
    "             'line_dash': 'dashed', 'line_width': 4,\n",
    "             'color': colors[1], 'alpha': .5}\n",
    "        )\n",
    "    return data\n",
    "\n",
    "\n",
    "def show_cool(atmpro='mls'):\n",
    "    \n",
    "    data_cool = pltdata_cool(atmpro=atmpro)\n",
    "    p_cool_liny = plt_cool_bokeh(pltdata=data_cool)\n",
    "    p_cool_logy = plt_cool_bokeh(pltdata=data_cool, \n",
    "                                 y_axis_type='log',\n",
    "                                 prange=(.01, 200))\n",
    "    \n",
    "    data_cooldiff = pltdata_cooldiff(atmpro=atmpro)\n",
    "    p_cooldiff_logy = plt_cool_bokeh(pltdata=data_cooldiff,\n",
    "                                     y_axis_type='log',\n",
    "                                     prange=(.01, 200))\n",
    "    \n",
    "    everything = gridplot(p_cool_liny, p_cool_logy, \n",
    "                          p_cooldiff_logy,\n",
    "                          ncols=3)\n",
    "    show(everything)\n",
    "    display.display(\n",
    "        display.Markdown('*FIGURE.* Cooling rates & difference.'))\n",
    "\n",
    "\n",
    "    "
   ]
  },
  {
   "cell_type": "code",
   "execution_count": null,
   "metadata": {
    "collapsed": true
   },
   "outputs": [],
   "source": []
  },
  {
   "cell_type": "code",
   "execution_count": null,
   "metadata": {
    "collapsed": true,
    "scrolled": false
   },
   "outputs": [],
   "source": [
    "\n",
    "\n",
    "def hist_band_vs_flux(da, title='Title'):\n",
    "       \n",
    "    bands = [str(b.values) for b in da['band']]\n",
    "\n",
    "    source = ColumnDataSource(\n",
    "        data={'band': bands, 'flux': da.values})\n",
    "\n",
    "    p = figure(x_range=bands, title=title)\n",
    "    p.vbar(source=source, x='band', top='flux', width=.9)\n",
    "\n",
    "    p.yaxis.axis_label = 'flux (W m-2)'\n",
    "    p.xaxis.axis_label = 'spectral band'\n",
    "    \n",
    "    return p\n",
    "\n",
    "\n",
    "def show_hist_flux(atmpro='mls'):\n",
    "    ds_crd = crd_data_atm(lblnew_params_atm(atmpro=atmpro))['flux']\n",
    "    ds_clirad = clirad_data_atm(\n",
    "        clirad_params_atm(atmpro=atmpro))['flux']\n",
    "    ds_clirad_singlerun = clirad_data_atm(\n",
    "        clirad_params_atm_singlerun(atmpro=atmpro))['flux']\n",
    "    \n",
    "    ip, varname = 0, 'flug'\n",
    "    da = (ds_clirad_singlerun - ds_crd).isel(pressure=ip)[varname]\n",
    "    p_toa = hist_band_vs_flux(da, \n",
    "        title='TOA flux. CLIRAD (single-run) - CRD.')\n",
    "\n",
    "    ip, varname = -1, 'fldg'\n",
    "    da = (ds_clirad_singlerun - ds_crd).isel(pressure=ip)[varname]\n",
    "    p_sfc = hist_band_vs_flux(da, \n",
    "        title='SFC flux. CLIRAD (single-run) - CRD.')    \n",
    "    \n",
    "    atm_crd = (ds_crd.isel(pressure=0) \n",
    "               - ds_crd.isel(pressure=-1))['fnetg']\n",
    "    atm_clirad_singlerun = (ds_clirad_singlerun.isel(pressure=0) \n",
    "                  - ds_clirad_singlerun.isel(pressure=-1))['fnetg']\n",
    "    da = atm_clirad_singlerun - atm_crd\n",
    "    p_atm = hist_band_vs_flux(da, \n",
    "        title='Atmosphere heating. CLIRAD (single-run) - CRD.')\n",
    "\n",
    "    everything = gridplot(p_toa, p_sfc, p_atm, ncols=3, \n",
    "                          plot_width=300, plot_height=300)\n",
    "    \n",
    "    show(everything)\n",
    "    display.display(\n",
    "        display.Markdown('*FIGURE.* Difference between CLIRAD and CRD'\n",
    "          ' in TOA, SFC and net atmosphere flux,'\n",
    "          ' in each spectral band.'))\n",
    "\n",
    "\n",
    "    \n",
    "def show_tb_flux(atmpro='mls'):\n",
    "    ds_crd = crd_data_atm(lblnew_params_atm(atmpro=atmpro))['flux']\n",
    "    olr_crd = ds_crd['flug'].isel(pressure=0)\n",
    "    sfc_crd = ds_crd['fldg'].isel(pressure=-1)\n",
    "    atm_crd = (ds_crd.isel(pressure=0)\n",
    "               - ds_crd.isel(pressure=-1))['fnetg']\n",
    "    \n",
    "    ds_clirad = clirad_data_atm(\n",
    "        clirad_params_atm(atmpro=atmpro))['flux']\n",
    "    olr_clirad = ds_clirad['flug'].isel(pressure=0)\n",
    "    sfc_clirad = ds_clirad['fldg'].isel(pressure=-1)\n",
    "    atm_clirad = (ds_clirad.isel(pressure=0)\n",
    "                  - ds_clirad.isel(pressure=-1))['fnetg']\n",
    "\n",
    "    ds_clirad_singlerun = clirad_data_atm(\n",
    "        clirad_params_atm_singlerun(atmpro=atmpro))['flux']\n",
    "    olr_clirad_singlerun = ds_clirad_singlerun['flug'].isel(pressure=0)\n",
    "    sfc_clirad_singlerun = ds_clirad_singlerun['fldg'].isel(pressure=-1)\n",
    "    atm_clirad_singlerun = (ds_clirad_singlerun.isel(pressure=0)\n",
    "                  - ds_clirad_singlerun.isel(pressure=-1))['fnetg']\n",
    "    \n",
    "    if atmpro == 'mls':\n",
    "        ds_oldclirad = oldclirad_data_atm()['flux']\n",
    "        ds_oldclirad['pressure'] = ds_crd['pressure']\n",
    "        olr_oldclirad = ds_oldclirad['flug'].isel(pressure=0)\n",
    "        sfc_oldclirad = ds_oldclirad['fldg'].isel(pressure=-1)\n",
    "        atm_oldclirad = (ds_oldclirad.isel(pressure=0)\n",
    "                         - ds_oldclirad.isel(pressure=-1))['fnetg']\n",
    "        \n",
    "    \n",
    "    \n",
    "    df = pd.DataFrame()\n",
    "    df.index.name = 'Sum over bands'\n",
    "    \n",
    "    if atmpro == 'mls':\n",
    "        df.loc['old CLIRAD - CRD', 'OLR flux'] = (olr_oldclirad.sum('band') - olr_crd.sum('band')).values\n",
    "        df.loc['old CLIRAD - CRD', 'SFC flux'] = (sfc_oldclirad.sum('band') - sfc_crd.sum('band')).values\n",
    "        df.loc['old CLIRAD - CRD', 'ATM heating'] = (atm_oldclirad.sum('band') - atm_crd.sum('band')).values\n",
    "    \n",
    "    df.loc['CLIRAD (single-run) - CRD', 'OLR flux'] = (olr_clirad_singlerun - olr_crd).sum('band').values\n",
    "    df.loc['CLIRAD (single-run) - CRD', 'SFC flux'] = (sfc_clirad_singlerun - sfc_crd).sum('band').values\n",
    "    df.loc['CLIRAD (single-run) - CRD', 'ATM heating'] = (atm_clirad_singlerun - atm_crd).sum('band').values\n",
    "\n",
    "    df.loc['CRD', 'OLR flux'] = olr_crd.sum('band').values\n",
    "    df.loc['CRD', 'SFC flux'] = sfc_crd.sum('band').values\n",
    "    df.loc['CRD', 'ATM heating'] = atm_crd.sum('band').values\n",
    "        \n",
    "    df = df.astype('float').round(2)\n",
    "    \n",
    "    display.display(df)\n",
    "    display.display(\n",
    "        display.Markdown('*TABLE.* Difference between CLIRAD and CRD'\n",
    "          ' in TOA, SFC and net atmosphere flux,'\n",
    "          ' over all spectral bands. CRD\\'s'\n",
    "          ' TOA, SFC and net atmosphere flux,'\n",
    "          ' over all spectral bands.'))\n"
   ]
  },
  {
   "cell_type": "code",
   "execution_count": null,
   "metadata": {
    "scrolled": false
   },
   "outputs": [
    {
     "data": {
      "text/markdown": [
       "## Results over entire range of molecules and spectral bands"
      ],
      "text/plain": [
       "<IPython.core.display.Markdown object>"
      ]
     },
     "metadata": {},
     "output_type": "display_data"
    },
    {
     "data": {
      "text/markdown": [
       "### Table of Contents"
      ],
      "text/plain": [
       "<IPython.core.display.Markdown object>"
      ]
     },
     "metadata": {},
     "output_type": "display_data"
    },
    {
     "data": {
      "text/html": [
       "<a href=\"#Makeup_of_atmosphere.\">Makeup of atmosphere.</a>"
      ],
      "text/plain": [
       "<IPython.core.display.HTML object>"
      ]
     },
     "metadata": {},
     "output_type": "display_data"
    },
    {
     "data": {
      "text/markdown": [
       "**mid-latitude summer**"
      ],
      "text/plain": [
       "<IPython.core.display.Markdown object>"
      ]
     },
     "metadata": {},
     "output_type": "display_data"
    },
    {
     "data": {
      "text/html": [
       "<a href=\"#Cooling_rates._mls.\">Cooling rates. mls.</a>"
      ],
      "text/plain": [
       "<IPython.core.display.HTML object>"
      ]
     },
     "metadata": {},
     "output_type": "display_data"
    },
    {
     "data": {
      "text/html": [
       "<a href=\"#Fluxes._mls.\">Fluxes. mls.</a>"
      ],
      "text/plain": [
       "<IPython.core.display.HTML object>"
      ]
     },
     "metadata": {},
     "output_type": "display_data"
    },
    {
     "data": {
      "text/markdown": [
       "**sub-arctic winter**"
      ],
      "text/plain": [
       "<IPython.core.display.Markdown object>"
      ]
     },
     "metadata": {},
     "output_type": "display_data"
    },
    {
     "data": {
      "text/html": [
       "<a href=\"#Cooling_rates._saw.\">Cooling rates. saw.</a>"
      ],
      "text/plain": [
       "<IPython.core.display.HTML object>"
      ]
     },
     "metadata": {},
     "output_type": "display_data"
    },
    {
     "data": {
      "text/html": [
       "<a href=\"#Fluxes._saw.\">Fluxes. saw.</a>"
      ],
      "text/plain": [
       "<IPython.core.display.HTML object>"
      ]
     },
     "metadata": {},
     "output_type": "display_data"
    },
    {
     "data": {
      "text/markdown": [
       "**tropical**"
      ],
      "text/plain": [
       "<IPython.core.display.Markdown object>"
      ]
     },
     "metadata": {},
     "output_type": "display_data"
    },
    {
     "data": {
      "text/html": [
       "<a href=\"#Cooling_rates._trp.\">Cooling rates. trp.</a>"
      ],
      "text/plain": [
       "<IPython.core.display.HTML object>"
      ]
     },
     "metadata": {},
     "output_type": "display_data"
    },
    {
     "data": {
      "text/html": [
       "<a href=\"#Fluxes._trp.\">Fluxes. trp.</a>"
      ],
      "text/plain": [
       "<IPython.core.display.HTML object>"
      ]
     },
     "metadata": {},
     "output_type": "display_data"
    },
    {
     "data": {
      "text/html": [
       "<a id=\"Makeup_of_atmosphere.\"></a>"
      ],
      "text/plain": [
       "<IPython.core.display.HTML object>"
      ]
     },
     "metadata": {},
     "output_type": "display_data"
    },
    {
     "data": {
      "text/markdown": [
       "# Makeup of atmosphere."
      ],
      "text/plain": [
       "<IPython.core.display.Markdown object>"
      ]
     },
     "metadata": {},
     "output_type": "display_data"
    },
    {
     "data": {
      "text/html": [
       "<div>\n",
       "<style scoped>\n",
       "    .dataframe tbody tr th:only-of-type {\n",
       "        vertical-align: middle;\n",
       "    }\n",
       "\n",
       "    .dataframe tbody tr th {\n",
       "        vertical-align: top;\n",
       "    }\n",
       "\n",
       "    .dataframe thead th {\n",
       "        text-align: right;\n",
       "    }\n",
       "</style>\n",
       "<table border=\"1\" class=\"dataframe\">\n",
       "  <thead>\n",
       "    <tr style=\"text-align: right;\">\n",
       "      <th>clirad band</th>\n",
       "      <th>1</th>\n",
       "      <th>2</th>\n",
       "      <th>3</th>\n",
       "      <th>4</th>\n",
       "      <th>5</th>\n",
       "      <th>6</th>\n",
       "      <th>7</th>\n",
       "      <th>8</th>\n",
       "      <th>9</th>\n",
       "      <th>10</th>\n",
       "      <th>11</th>\n",
       "    </tr>\n",
       "    <tr>\n",
       "      <th>molecule</th>\n",
       "      <th></th>\n",
       "      <th></th>\n",
       "      <th></th>\n",
       "      <th></th>\n",
       "      <th></th>\n",
       "      <th></th>\n",
       "      <th></th>\n",
       "      <th></th>\n",
       "      <th></th>\n",
       "      <th></th>\n",
       "      <th></th>\n",
       "    </tr>\n",
       "  </thead>\n",
       "  <tbody>\n",
       "    <tr>\n",
       "      <th>h2o</th>\n",
       "      <td>atmpro</td>\n",
       "      <td>atmpro</td>\n",
       "      <td>atmpro</td>\n",
       "      <td>atmpro</td>\n",
       "      <td>atmpro</td>\n",
       "      <td>atmpro</td>\n",
       "      <td>atmpro</td>\n",
       "      <td>atmpro</td>\n",
       "      <td>atmpro</td>\n",
       "      <td>atmpro</td>\n",
       "      <td>atmpro</td>\n",
       "    </tr>\n",
       "    <tr>\n",
       "      <th>co2</th>\n",
       "      <td>0</td>\n",
       "      <td>0</td>\n",
       "      <td>0.0004</td>\n",
       "      <td>0.0004</td>\n",
       "      <td>0.0004</td>\n",
       "      <td>0.0004</td>\n",
       "      <td>0.0004</td>\n",
       "      <td>0</td>\n",
       "      <td>0</td>\n",
       "      <td>0</td>\n",
       "      <td>0.0004</td>\n",
       "    </tr>\n",
       "    <tr>\n",
       "      <th>n2o</th>\n",
       "      <td>0</td>\n",
       "      <td>0</td>\n",
       "      <td>3.2e-07</td>\n",
       "      <td>0</td>\n",
       "      <td>0</td>\n",
       "      <td>0</td>\n",
       "      <td>0</td>\n",
       "      <td>0</td>\n",
       "      <td>3.2e-07</td>\n",
       "      <td>0</td>\n",
       "      <td>0</td>\n",
       "    </tr>\n",
       "    <tr>\n",
       "      <th>o3</th>\n",
       "      <td>0</td>\n",
       "      <td>0</td>\n",
       "      <td>0</td>\n",
       "      <td>0</td>\n",
       "      <td>0</td>\n",
       "      <td>0</td>\n",
       "      <td>atmpro</td>\n",
       "      <td>0</td>\n",
       "      <td>0</td>\n",
       "      <td>0</td>\n",
       "      <td>0</td>\n",
       "    </tr>\n",
       "    <tr>\n",
       "      <th>ch4</th>\n",
       "      <td>0</td>\n",
       "      <td>0</td>\n",
       "      <td>0</td>\n",
       "      <td>0</td>\n",
       "      <td>0</td>\n",
       "      <td>0</td>\n",
       "      <td>0</td>\n",
       "      <td>0</td>\n",
       "      <td>1.8e-06</td>\n",
       "      <td>0</td>\n",
       "      <td>0</td>\n",
       "    </tr>\n",
       "  </tbody>\n",
       "</table>\n",
       "</div>"
      ],
      "text/plain": [
       "clirad band      1       2        3       4       5       6       7       8   \\\n",
       "molecule                                                                       \n",
       "h2o          atmpro  atmpro   atmpro  atmpro  atmpro  atmpro  atmpro  atmpro   \n",
       "co2               0       0   0.0004  0.0004  0.0004  0.0004  0.0004       0   \n",
       "n2o               0       0  3.2e-07       0       0       0       0       0   \n",
       "o3                0       0        0       0       0       0  atmpro       0   \n",
       "ch4               0       0        0       0       0       0       0       0   \n",
       "\n",
       "clirad band       9       10      11  \n",
       "molecule                              \n",
       "h2o           atmpro  atmpro  atmpro  \n",
       "co2                0       0  0.0004  \n",
       "n2o          3.2e-07       0       0  \n",
       "o3                 0       0       0  \n",
       "ch4          1.8e-06       0       0  "
      ]
     },
     "metadata": {},
     "output_type": "display_data"
    },
    {
     "data": {
      "text/markdown": [
       "*TABLE.* Non-grey absorbers in the atmosphere."
      ],
      "text/plain": [
       "<IPython.core.display.Markdown object>"
      ]
     },
     "metadata": {},
     "output_type": "display_data"
    },
    {
     "data": {
      "text/html": [
       "<a id=\"Cooling_rates._mls.\"></a>"
      ],
      "text/plain": [
       "<IPython.core.display.HTML object>"
      ]
     },
     "metadata": {},
     "output_type": "display_data"
    },
    {
     "data": {
      "text/markdown": [
       "# Cooling rates. mls."
      ],
      "text/plain": [
       "<IPython.core.display.Markdown object>"
      ]
     },
     "metadata": {},
     "output_type": "display_data"
    },
    {
     "data": {
      "text/html": [
       "\n",
       "<div class=\"bk-root\">\n",
       "    <div class=\"bk-plotdiv\" id=\"d5863d9e-c5f3-4b3b-a153-eb50c93384da\"></div>\n",
       "</div>"
      ]
     },
     "metadata": {},
     "output_type": "display_data"
    },
    {
     "data": {
      "application/javascript": [
       "(function(root) {\n",
       "  function embed_document(root) {\n",
       "    \n",
       "  var docs_json = {\"37859aa4-c9b1-4d97-8682-5b35ddfab7f3\":{\"roots\":{\"references\":[{\"attributes\":{},\"id\":\"692b3474-c267-43e1-9b22-de432b5a3ea8\",\"type\":\"Selection\"},{\"attributes\":{},\"id\":\"7c17bbfb-8006-4df2-a197-18801d19ef59\",\"type\":\"UnionRenderers\"},{\"attributes\":{\"callback\":null,\"end\":2.3135572748904605,\"start\":-0.22322766227646001},\"id\":\"74e3ce75-4dc7-4d83-bd2e-421c06f50e92\",\"type\":\"Range1d\"},{\"attributes\":{\"axis_label\":\"pressure [mb]\",\"formatter\":{\"id\":\"9ee880a7-7c1b-4cc2-8390-fcae90f496b6\",\"type\":\"BasicTickFormatter\"},\"plot\":{\"id\":\"036182d0-6e0e-4896-bba4-b4e3a93fafe7\",\"subtype\":\"Figure\",\"type\":\"Plot\"},\"ticker\":{\"id\":\"78b1b384-f792-4423-91cc-3d6eab9c5045\",\"type\":\"BasicTicker\"}},\"id\":\"71d3f938-66ff-4c62-b654-4f2cef38b3e6\",\"type\":\"LinearAxis\"},{\"attributes\":{\"line_alpha\":0.5,\"line_color\":\"#984ea3\",\"line_width\":1.5,\"x\":{\"field\":\"x\"},\"y\":{\"field\":\"y\"}},\"id\":\"aa4bffea-9c51-423d-b252-a2e708057c02\",\"type\":\"Line\"},{\"attributes\":{},\"id\":\"6220992c-c6ff-4724-8366-940a087c9785\",\"type\":\"UnionRenderers\"},{\"attributes\":{},\"id\":\"b99ed4eb-b530-4854-87bf-e30a6f182ff6\",\"type\":\"BasicTickFormatter\"},{\"attributes\":{\"above\":[{\"id\":\"03141491-9001-49ba-9f95-b721578a1c34\",\"type\":\"Legend\"}],\"below\":[{\"id\":\"cdca3b85-e7c2-4fb4-a946-b06692a1b0b8\",\"type\":\"LinearAxis\"}],\"left\":[{\"id\":\"71d3f938-66ff-4c62-b654-4f2cef38b3e6\",\"type\":\"LinearAxis\"}],\"plot_width\":300,\"renderers\":[{\"id\":\"cdca3b85-e7c2-4fb4-a946-b06692a1b0b8\",\"type\":\"LinearAxis\"},{\"id\":\"0f87ed2f-bc8e-4778-a99b-a6253c872145\",\"type\":\"Grid\"},{\"id\":\"71d3f938-66ff-4c62-b654-4f2cef38b3e6\",\"type\":\"LinearAxis\"},{\"id\":\"125af592-65ad-4cf6-bba1-85d0847c6654\",\"type\":\"Grid\"},{\"id\":\"07affe66-9cf7-4edf-b7c1-5b6c73f865d3\",\"type\":\"BoxAnnotation\"},{\"id\":\"0dbe0dba-c1dc-45ae-9623-5d2ec93988fe\",\"type\":\"GlyphRenderer\"},{\"id\":\"c63bcbc8-ae3a-4385-9b15-55e76a2f1a88\",\"type\":\"GlyphRenderer\"},{\"id\":\"031f1ca6-b76e-4081-b6e6-a34dac644476\",\"type\":\"GlyphRenderer\"},{\"id\":\"ccf88984-4100-435f-8eb7-9194901489f0\",\"type\":\"GlyphRenderer\"},{\"id\":\"8facbdd5-dd3f-4fb3-b6f5-f9d1644a63a1\",\"type\":\"GlyphRenderer\"},{\"id\":\"03141491-9001-49ba-9f95-b721578a1c34\",\"type\":\"Legend\"}],\"title\":{\"id\":\"9791cf3e-6634-4687-99c8-b4e5bdbf06a8\",\"type\":\"Title\"},\"toolbar\":{\"id\":\"67fceaca-dd5a-4967-ba8b-8599feaa40c7\",\"type\":\"Toolbar\"},\"toolbar_location\":null,\"x_range\":{\"id\":\"74e3ce75-4dc7-4d83-bd2e-421c06f50e92\",\"type\":\"Range1d\"},\"x_scale\":{\"id\":\"5e94730f-4550-4c6e-826b-615c26ad595f\",\"type\":\"LinearScale\"},\"y_range\":{\"id\":\"acd1c82b-6ed0-4134-98c2-fc4a395f58dc\",\"type\":\"Range1d\"},\"y_scale\":{\"id\":\"409ee201-ae5e-4fdc-89df-9ab20b2ee9d8\",\"type\":\"LinearScale\"}},\"id\":\"036182d0-6e0e-4896-bba4-b4e3a93fafe7\",\"subtype\":\"Figure\",\"type\":\"Plot\"},{\"attributes\":{},\"id\":\"48197cfb-2c6c-4f4f-8439-3ba5b0d9374c\",\"type\":\"BasicTicker\"},{\"attributes\":{\"line_alpha\":0.6,\"line_color\":\"#377eb8\",\"line_dash\":[6],\"line_width\":5,\"x\":{\"field\":\"x\"},\"y\":{\"field\":\"y\"}},\"id\":\"80de587d-a11e-4b72-bb78-274a27bfd1d9\",\"type\":\"Line\"},{\"attributes\":{\"ticker\":null},\"id\":\"cec0f292-9004-4759-974d-af52e26186cf\",\"type\":\"LogTickFormatter\"},{\"attributes\":{},\"id\":\"959d7f23-5007-4050-be1d-e325a2ff92df\",\"type\":\"Selection\"},{\"attributes\":{},\"id\":\"e9a92eca-0f13-4f95-adc5-fea2d6a73b34\",\"type\":\"UnionRenderers\"},{\"attributes\":{\"plot\":{\"id\":\"036182d0-6e0e-4896-bba4-b4e3a93fafe7\",\"subtype\":\"Figure\",\"type\":\"Plot\"},\"ticker\":{\"id\":\"48197cfb-2c6c-4f4f-8439-3ba5b0d9374c\",\"type\":\"BasicTicker\"}},\"id\":\"0f87ed2f-bc8e-4778-a99b-a6253c872145\",\"type\":\"Grid\"},{\"attributes\":{},\"id\":\"82aba623-ee8f-4985-aba3-8a6318ddd0bc\",\"type\":\"UnionRenderers\"},{\"attributes\":{},\"id\":\"40f92197-77aa-42f6-86c0-dbe6449056cc\",\"type\":\"Selection\"},{\"attributes\":{\"dimension\":1,\"plot\":{\"id\":\"036182d0-6e0e-4896-bba4-b4e3a93fafe7\",\"subtype\":\"Figure\",\"type\":\"Plot\"},\"ticker\":{\"id\":\"78b1b384-f792-4423-91cc-3d6eab9c5045\",\"type\":\"BasicTicker\"}},\"id\":\"125af592-65ad-4cf6-bba1-85d0847c6654\",\"type\":\"Grid\"},{\"attributes\":{\"plot\":null,\"text\":\"\"},\"id\":\"46c46c68-fb8a-4f80-938a-c0f538038922\",\"type\":\"Title\"},{\"attributes\":{},\"id\":\"78b1b384-f792-4423-91cc-3d6eab9c5045\",\"type\":\"BasicTicker\"},{\"attributes\":{},\"id\":\"87b20330-e5b2-4012-85f9-02f12d60fbd0\",\"type\":\"Selection\"},{\"attributes\":{},\"id\":\"9ee880a7-7c1b-4cc2-8390-fcae90f496b6\",\"type\":\"BasicTickFormatter\"},{\"attributes\":{\"source\":{\"id\":\"c62d4033-cbb5-47f5-acb9-d5ea67fb05b2\",\"type\":\"ColumnDataSource\"}},\"id\":\"dd4f2b3c-5b3f-4b11-b73b-4db2f0d98772\",\"type\":\"CDSView\"},{\"attributes\":{},\"id\":\"2c1b4ca2-206f-490e-afad-4a7feec1e5b5\",\"type\":\"Selection\"},{\"attributes\":{},\"id\":\"1b07f252-ba8f-4434-867f-de07df8217e7\",\"type\":\"Selection\"},{\"attributes\":{},\"id\":\"203bdba5-5764-461a-8c19-60bad1e3d1bc\",\"type\":\"UnionRenderers\"},{\"attributes\":{\"axis_label\":\"cooling rate [K/day]\",\"formatter\":{\"id\":\"e73d77d4-0272-4838-ad01-bd0ac583d82b\",\"type\":\"BasicTickFormatter\"},\"plot\":{\"id\":\"036182d0-6e0e-4896-bba4-b4e3a93fafe7\",\"subtype\":\"Figure\",\"type\":\"Plot\"},\"ticker\":{\"id\":\"48197cfb-2c6c-4f4f-8439-3ba5b0d9374c\",\"type\":\"BasicTicker\"}},\"id\":\"cdca3b85-e7c2-4fb4-a946-b06692a1b0b8\",\"type\":\"LinearAxis\"},{\"attributes\":{\"overlay\":{\"id\":\"07affe66-9cf7-4edf-b7c1-5b6c73f865d3\",\"type\":\"BoxAnnotation\"}},\"id\":\"67eaf25f-829b-43ad-bf6b-81f1b3caeb8b\",\"type\":\"BoxZoomTool\"},{\"attributes\":{},\"id\":\"848ae3a8-a934-4391-81e3-322064d6bae5\",\"type\":\"Selection\"},{\"attributes\":{},\"id\":\"3bc2c790-479a-4180-a26e-0e4ce22aab1a\",\"type\":\"ResetTool\"},{\"attributes\":{\"num_minor_ticks\":10},\"id\":\"48e96443-ef7f-4f09-870e-3a6fb95c33f4\",\"type\":\"LogTicker\"},{\"attributes\":{},\"id\":\"9a3227c4-35cc-4e3b-8c9f-c1f9a5cc4a42\",\"type\":\"UnionRenderers\"},{\"attributes\":{},\"id\":\"2a50fe5d-82b0-452c-a321-8e88d4488601\",\"type\":\"UnionRenderers\"},{\"attributes\":{\"source\":{\"id\":\"bf1a049e-979e-4e26-8529-35dd42e54861\",\"type\":\"ColumnDataSource\"}},\"id\":\"b580ba7e-e52c-49a0-96e2-b1b21bc5509e\",\"type\":\"CDSView\"},{\"attributes\":{\"children\":[{\"id\":\"0815f79b-891f-4bf8-833a-8d8918307bef\",\"type\":\"ToolbarBox\"},{\"id\":\"8f98496c-0326-440f-b096-4b99de192bd6\",\"type\":\"Column\"}]},\"id\":\"b5b3ec7b-b04e-4afa-bce6-9a179960d225\",\"type\":\"Column\"},{\"attributes\":{\"bottom_units\":\"screen\",\"fill_alpha\":{\"value\":0.5},\"fill_color\":{\"value\":\"lightgrey\"},\"left_units\":\"screen\",\"level\":\"overlay\",\"line_alpha\":{\"value\":1.0},\"line_color\":{\"value\":\"black\"},\"line_dash\":[4,4],\"line_width\":{\"value\":2},\"plot\":null,\"render_mode\":\"css\",\"right_units\":\"screen\",\"top_units\":\"screen\"},\"id\":\"07affe66-9cf7-4edf-b7c1-5b6c73f865d3\",\"type\":\"BoxAnnotation\"},{\"attributes\":{},\"id\":\"e44e8655-b4a4-49c8-bd62-520c8847a597\",\"type\":\"LogScale\"},{\"attributes\":{\"source\":{\"id\":\"9e638f38-a0a0-4dc1-9bfe-34420b5fc570\",\"type\":\"ColumnDataSource\"}},\"id\":\"60eed06c-0263-44c3-9ec2-1da35dc99dca\",\"type\":\"CDSView\"},{\"attributes\":{\"callback\":null,\"data\":{\"x\":{\"__ndarray__\":\"oGsWFOcWRMAMO53n/6ogwD3viZgKZgLA/QYLKQLU/D8kxx1hxGkOQMQ0+uZxzQ5AVNhXd+QeBEAOfWNUzSflP8Ab6dWes+m/+NL3xc/V9b/FaMqELYjxv9IJsBTPId+/TcZOEIimsD/RlBh077XZP+5CgCXcI98/xk80a5U21D+mvbpH91KhP0I7juACtdC/1aw+HWoz4L+eELp8N6Pgv46j72rX7tG/sPOr1cQ1eb8yylG8HeyqvzLdYsjI0NO/iNtWXRBP17+iXw8BsSGxvwV3o383itg/95efVY5T1z8Wf4KYaOC3Pxz4JWCS45c/xGzh7qDj0D/z9Jq0lJzVP9S9cwqzvcM/ncXJA03snL/+DCuavWFzP5gifvItdK4/6ix5O2qXfj/VIxwFX/CrvyFUz3G74La/my7Kb2SHub/iQ7MhNea1vxA1JmSLibC/ec3xKLA2r7/CQWKSSD+dv/kBCet07ba/jdOl0S2ZuL/hF/AL7Yurv4nkUKY76K6/oQAAbI22s7/sel+r8Oayv1lPEDkNp6u/hX6dcBWzor/B7Z2I616YvxIFFivn5ZS/kePwCZ6plL+En8uXwV+Zv6r8aguhXJu/hY8q3THCk78YErbXNlBWP49H38C+f6A/WwZhsThqrD+Qb3Iuc+mtP/D2ZI59eqU/qxypqzTKlT/wr1QOo+RZP+CjI8tNBUE/JP80BLOBgT9iFteBPlSeP2eXidFcb6g/plqmh+qrrz+CO88mJx2yP91eBcEyWbM/pmiOXiQjtD+1cER8wdW0P/GeJNn6VLQ/\",\"dtype\":\"float64\",\"shape\":[75]},\"y\":{\"__ndarray__\":\"GhExyth1ND/Sv8nbtpRIP2vylNV0PVE/aTum7souWD/At0SJ8fVgPw3Iuahxymc/MSNhhJWvcD/bTfBN02d3P2zb5nxnaoA/CD5h5MAGhz8NmeH1TyaQP+zrCsc9p5Y/LbKd76fGnz/bLW5ISEmmPww9YvTcQq8/JV2OstnstT8Er5Y7M8G+P0c+r3jqkcU/5h99k6ZBzj88bCIzFzjVP4enV8oyxN0//yH99nXg5D8qOpLLf0jtP5kqGJXUifQ/c9cS8kHP/D+/DpwzojQEQIEmwoanVwxA4lgXt9HgE0BSSZ2AJuIbQAMJih9jjiNA5q4l5INuK0AwTKYKRj0zQNv5fmq8/DpAaCJseHrtQkB/+zpwzoxKQM3MzMzMeFJAZmZmZmZqWEAAAAAAAFxeQM3MzMzMJmJAmpmZmZkfZUBmZmZmZhhoQDMzMzMzEWtAAAAAAAAKbkBmZmZmZoFwQM3MzMzM/XFAMzMzMzN6c0CamZmZmfZ0QAAAAAAAc3ZAZmZmZmbvd0DNzMzMzGt5QDMzMzMz6HpAmpmZmZlkfEAAAAAAAOF9QGZmZmZmXX9AZmZmZuZsgECamZmZGSuBQM3MzMxM6YFAAAAAAICngkAzMzMzs2WDQGZmZmbmI4RAmpmZmRnihEDNzMzMTKCFQAAAAACAXoZAMzMzM7Mch0BmZmZm5tqHQJqZmZkZmYhAzczMzExXiUAAAAAAgBWKQDMzMzOz04pAZmZmZuaRi0CamZmZGVCMQM3MzMxMDo1AAAAAAIDMjUAzMzMzs4qOQGZmZmbmSI9A\",\"dtype\":\"float64\",\"shape\":[75]}},\"selected\":{\"id\":\"f4e6fa9a-b519-4bab-bfe7-745556d433c5\",\"type\":\"Selection\"},\"selection_policy\":{\"id\":\"9a3227c4-35cc-4e3b-8c9f-c1f9a5cc4a42\",\"type\":\"UnionRenderers\"}},\"id\":\"dfe9d1ca-b24a-4565-a9ae-67ce4bd83fab\",\"type\":\"ColumnDataSource\"},{\"attributes\":{\"data_source\":{\"id\":\"dfe9d1ca-b24a-4565-a9ae-67ce4bd83fab\",\"type\":\"ColumnDataSource\"},\"glyph\":{\"id\":\"82d57e2c-7b99-4e01-ace5-78010f2ca281\",\"type\":\"Line\"},\"hover_glyph\":null,\"muted_glyph\":null,\"nonselection_glyph\":{\"id\":\"d774e564-5c63-4a9c-b509-892bff9a1601\",\"type\":\"Line\"},\"selection_glyph\":null,\"view\":{\"id\":\"edb022c1-66cc-4172-9a26-002afdc1abca\",\"type\":\"CDSView\"}},\"id\":\"5a9d48ac-fc58-4532-bffb-c587452ed4e3\",\"type\":\"GlyphRenderer\"},{\"attributes\":{},\"id\":\"47515b46-f9f1-4bf7-b273-9c4ed548a4b7\",\"type\":\"PanTool\"},{\"attributes\":{\"callback\":null,\"data\":{\"x\":{\"__ndarray__\":\"MXhf+wfXU0AZbvNjswdFQLQWsEQVdUFA5TlpnhT9QUB/x1dOYK05QImjxHmcEjZA9jYDSBB3L0AISPl4H6wqQBPuuwfAzyJAOcHprUZAIUB7WWpkesAXQJoT1Uq+ChVArO/8u0EXCkBgVNlshzgCQMeNQ+Nzu/I/POwv1Qzh+D9QxMRmcj8DQOrE7tC4mAxAQsLBRIlHEkAi4cPYoDEXQEeDpjRjzB1ASZ0GEfCuI0DVFj11sssnQOMiVKSMHyhAWRHvUxNoJEDo8cjD4g8gQLGGvR2NDRpAdpI3nV5oFECtyWH9Lp4QQIZQd9bvmwtAkshlnu1BBkBMysnQf1UAQHZJU/DYZ/c/HoEhV+G48T/rSm4vc/TmP3EgV4cD49g/xmy6+4w7zz+bEsjh3uDDPw5SRMRogKs/4GPKdPc1a78lazVXN1vCP/B84ODeUug/LOyxgXDV9z+/DBHyZAwAQAOIY+fy/QFAahF3XKCUAECV0GHvGsz+P+X4k4Nhvf0/RO/IqI98/T8rkW+v/zT9P59vGMDsAv0/zEX7plCY/D/E3siS8kj7P2yUMv+hDvs/RmrXDaYs+z+c9f5GCO36P58nVCbr7vo/Qus8hbcy/D+rD5hFMCf9P4t6dxofnPw/bRp4QYZ2/D/q8NNiN2b8P5YTVw9ESPw/l1Dy0X/K+j+WKih3ZdD5P2k8OYxHjvk/hceGh5N4+T8lpPahWSn5P6vJnePt4vY/UuhmxnXI9T8miFqdE+D0Pz7qfx5CR/Q/0khvq2US9D9LfVdHQGv0P9syeEmwYfg/\",\"dtype\":\"float64\",\"shape\":[75]},\"y\":{\"__ndarray__\":\"hLndy31yND/6fmq8dJNIP8n9DkWBPlE/aDum7souWD/b4a/JGvVgP9f34SAhymc/ZvM4DOavcD+z0M5pFmh3PxuC4zJuaoA/xjcUPlsHhz8uHAjJAiaQP9ieWRKgppY/oI7HDFTGnz+a5h2n6EimPzS6g9iZQq8/IuAQqtTstT9SSZ2AJsK+P4nS3uALk8U/ih9j7lpCzj+ASL99HTjVP4enV8oyxN0/ACL99nXg5D9fmEwVjErtPyUGgZVDi/Q/AiuHFtnO/D9OYhBYOTQEQPHSTWIQWAxA4XoUrkfhE0D8qfHSTeIbQMh2vp8ajyNArkfhehRuK0Bcj8L1KDwzQFyPwvUo/DpAPgrXo3DtQkDNzMzMzIxKQClcj8L1eFJAKVyPwvVoWECamZmZmVleQGZmZmZmJmJAAAAAAAAgZUCamZmZmRloQJqZmZmZEWtAmpmZmZkJbkCamZmZmYFwQGZmZmZm/nFAZmZmZmZ6c0BmZmZmZvZ0QDQzMzMzc3ZAAAAAAADwd0AAAAAAAGx5QAAAAAAA6HpAzMzMzMxkfEDMzMzMzOB9QM3MzMzMXH9AzczMzMxsgEAzMzMzMyuBQDMzMzMz6YFAMzMzMzOngkCamZmZmWWDQAAAAAAAJIRAAAAAAADihEAAAAAAAKCFQGZmZmZmXoZAzczMzMwch0DNzMzMzNqHQM3MzMzMmIhAMzMzMzNXiUCamZmZmRWKQAAAAAAA1IpAAAAAAACSi0AAAAAAAFCMQGZmZmZmDo1AzczMzMzMjUDNzMzMzIqOQM3MzMzMSI9A\",\"dtype\":\"float64\",\"shape\":[75]}},\"selected\":{\"id\":\"2c1b4ca2-206f-490e-afad-4a7feec1e5b5\",\"type\":\"Selection\"},\"selection_policy\":{\"id\":\"6220992c-c6ff-4724-8366-940a087c9785\",\"type\":\"UnionRenderers\"}},\"id\":\"c62d4033-cbb5-47f5-acb9-d5ea67fb05b2\",\"type\":\"ColumnDataSource\"},{\"attributes\":{\"data_source\":{\"id\":\"9e638f38-a0a0-4dc1-9bfe-34420b5fc570\",\"type\":\"ColumnDataSource\"},\"glyph\":{\"id\":\"bab5d83c-4fd1-44dd-97a3-b738fa86fcce\",\"type\":\"Line\"},\"hover_glyph\":null,\"muted_glyph\":null,\"nonselection_glyph\":{\"id\":\"dee08947-dedb-4e5b-812c-ac692de1f71c\",\"type\":\"Line\"},\"selection_glyph\":null,\"view\":{\"id\":\"60eed06c-0263-44c3-9ec2-1da35dc99dca\",\"type\":\"CDSView\"}},\"id\":\"031f1ca6-b76e-4081-b6e6-a34dac644476\",\"type\":\"GlyphRenderer\"},{\"attributes\":{\"source\":{\"id\":\"0c2994c6-b1ba-45cb-9769-216c7fd4eee4\",\"type\":\"ColumnDataSource\"}},\"id\":\"f201e063-4008-4d16-b859-caacd469dc5a\",\"type\":\"CDSView\"},{\"attributes\":{\"bottom_units\":\"screen\",\"fill_alpha\":{\"value\":0.5},\"fill_color\":{\"value\":\"lightgrey\"},\"left_units\":\"screen\",\"level\":\"overlay\",\"line_alpha\":{\"value\":1.0},\"line_color\":{\"value\":\"black\"},\"line_dash\":[4,4],\"line_width\":{\"value\":2},\"plot\":null,\"render_mode\":\"css\",\"right_units\":\"screen\",\"top_units\":\"screen\"},\"id\":\"b29b7367-baa3-4a60-9db0-ab19b286594f\",\"type\":\"BoxAnnotation\"},{\"attributes\":{},\"id\":\"bae85c4b-1b19-4866-9f7f-dd0b5f1478a3\",\"type\":\"UnionRenderers\"},{\"attributes\":{},\"id\":\"ed763328-c50f-4075-9d87-db20fb059c8a\",\"type\":\"HelpTool\"},{\"attributes\":{\"active_drag\":\"auto\",\"active_inspect\":\"auto\",\"active_scroll\":\"auto\",\"active_tap\":\"auto\",\"tools\":[{\"id\":\"b3823526-8b32-46e7-b334-87a454765310\",\"type\":\"PanTool\"},{\"id\":\"38511160-e460-4305-ac40-ec81f3dee32d\",\"type\":\"WheelZoomTool\"},{\"id\":\"e74bd195-ddaa-4e34-bcb2-04115205b2c5\",\"type\":\"BoxZoomTool\"},{\"id\":\"6039a21f-7b0a-4d80-b383-a499d2f45c8d\",\"type\":\"SaveTool\"},{\"id\":\"3bc2c790-479a-4180-a26e-0e4ce22aab1a\",\"type\":\"ResetTool\"},{\"id\":\"ed763328-c50f-4075-9d87-db20fb059c8a\",\"type\":\"HelpTool\"}]},\"id\":\"b8d8e0ca-9b0c-453f-8f38-db1ad8e21e69\",\"type\":\"Toolbar\"},{\"attributes\":{},\"id\":\"0934f49b-cbdb-407e-8b9c-a0d8387fc0e8\",\"type\":\"PanTool\"},{\"attributes\":{\"line_alpha\":0.1,\"line_color\":\"#1f77b4\",\"line_width\":1.5,\"x\":{\"field\":\"x\"},\"y\":{\"field\":\"y\"}},\"id\":\"d774e564-5c63-4a9c-b509-892bff9a1601\",\"type\":\"Line\"},{\"attributes\":{\"source\":{\"id\":\"291e0c59-fde5-4bdd-b9ba-dfe25de7f798\",\"type\":\"ColumnDataSource\"}},\"id\":\"f7f86152-a521-4a8d-bdc2-099ac53b202f\",\"type\":\"CDSView\"},{\"attributes\":{\"line_alpha\":0.1,\"line_color\":\"#1f77b4\",\"line_dash\":[6],\"line_width\":5,\"x\":{\"field\":\"x\"},\"y\":{\"field\":\"y\"}},\"id\":\"7eea4b4b-a650-4a84-ab4e-d8c271368310\",\"type\":\"Line\"},{\"attributes\":{},\"id\":\"6bc66f86-f412-4b33-8c73-283a24ac4976\",\"type\":\"UnionRenderers\"},{\"attributes\":{\"callback\":null,\"end\":0.7323360194662635,\"start\":-1.576281364019664},\"id\":\"6f7af869-9a0c-4121-bea7-d4586a873b78\",\"type\":\"Range1d\"},{\"attributes\":{\"children\":[{\"id\":\"036182d0-6e0e-4896-bba4-b4e3a93fafe7\",\"subtype\":\"Figure\",\"type\":\"Plot\"},{\"id\":\"6aca8675-cd7c-4c14-9912-f5387254d44b\",\"subtype\":\"Figure\",\"type\":\"Plot\"},{\"id\":\"162e79e9-0a13-4b70-901b-011bf922bb7c\",\"subtype\":\"Figure\",\"type\":\"Plot\"}]},\"id\":\"549dca8a-12c6-4133-8a53-e67cb686aa16\",\"type\":\"Row\"},{\"attributes\":{\"callback\":null,\"data\":{\"x\":{\"__ndarray__\":\"EFTPEMULEsBY5Soo7NcRwOAih0PfTQnAcLzxlkslFUAgkIluU6TzP+gpDdzLdwVAICHKUKVt1T+Ik7s3hMbwP6AHr9TDy9y/ECnbDOK15j+w2qv7vfbXvzCQ/22EH9Y/ABwN6PuE1b8w8RgTZ5TNP8ZxqdeCOdI/WPaTJPMAyz/gCWaNx9zKv4Bz2SfMkLG/QNDU2Dvrw7/gjDvG8ELPv3BfAcZ9A9W/QPE2M06U4r+4EtXbvdv4v8CHA9UM1vO/wNkC+csj1L9A31CHx4DGv4BAVcDWEKk/AJyjBEwOpL8A2K0iJHelvwAHMEdHKYW/QAFQrblkpT+AYHxUdJWePwCcnL/AFYO/AIDdMF2+IL9AoMQ3Xs6Hv8CEJWa/IIk/SHjx3bH7mD9glt/hXwibv4AXhtbv81c/0ZPByHVmuD+ZIBKsyEuxPwB7VdwaDKi/AMK2wPlcpL+A1M+Jt0OhvwBblecIUqS/AOzlE2F5m79AcNDuEvKUv8BO6MRU/Ja/ALSuiFPKhL8ASGwETKOKvwCIZggV2Yi/AB5fgpVndD+A7LY9mXWhv8C4xgD0L5O/ALuUgd63fD8AAPReZ8gCPwB4gQY0fE+/gN8kEc8Okj9ggdWOaw6mPwButB7pzIA/QJoEKHMXlz9A3ZOmSfmuP0CC+mOR17o/8L5CjVu4sD8gd3D5DeiqP4BAGGl6MbI/oBQpEQTvtT+AoHD36662PwCQysucWWu/gOgg5EKCgD+gmD6me76hPwAZquxAgK4/MDP40Wo1tD/gyKr9n0C3P9Ci4ei4h7S/\",\"dtype\":\"float64\",\"shape\":[75]},\"y\":{\"__ndarray__\":\"GhExyth1ND/Sv8nbtpRIP2vylNV0PVE/aTum7souWD/At0SJ8fVgPw3Iuahxymc/MSNhhJWvcD/bTfBN02d3P2zb5nxnaoA/CD5h5MAGhz8NmeH1TyaQP+zrCsc9p5Y/LbKd76fGnz/bLW5ISEmmPww9YvTcQq8/JV2OstnstT8Er5Y7M8G+P0c+r3jqkcU/5h99k6ZBzj88bCIzFzjVP4enV8oyxN0//yH99nXg5D8qOpLLf0jtP5kqGJXUifQ/c9cS8kHP/D+/DpwzojQEQIEmwoanVwxA4lgXt9HgE0BSSZ2AJuIbQAMJih9jjiNA5q4l5INuK0AwTKYKRj0zQNv5fmq8/DpAaCJseHrtQkB/+zpwzoxKQM3MzMzMeFJAZmZmZmZqWEAAAAAAAFxeQM3MzMzMJmJAmpmZmZkfZUBmZmZmZhhoQDMzMzMzEWtAAAAAAAAKbkBmZmZmZoFwQM3MzMzM/XFAMzMzMzN6c0CamZmZmfZ0QAAAAAAAc3ZAZmZmZmbvd0DNzMzMzGt5QDMzMzMz6HpAmpmZmZlkfEAAAAAAAOF9QGZmZmZmXX9AZmZmZuZsgECamZmZGSuBQM3MzMxM6YFAAAAAAICngkAzMzMzs2WDQGZmZmbmI4RAmpmZmRnihEDNzMzMTKCFQAAAAACAXoZAMzMzM7Mch0BmZmZm5tqHQJqZmZkZmYhAzczMzExXiUAAAAAAgBWKQDMzMzOz04pAZmZmZuaRi0CamZmZGVCMQM3MzMxMDo1AAAAAAIDMjUAzMzMzs4qOQGZmZmbmSI9A\",\"dtype\":\"float64\",\"shape\":[75]}},\"selected\":{\"id\":\"42de77b5-ab99-423b-95c2-143bd56923a9\",\"type\":\"Selection\"},\"selection_policy\":{\"id\":\"93cde25c-ef7c-4bee-9571-7d422a365a54\",\"type\":\"UnionRenderers\"}},\"id\":\"28921a4f-a2e5-48da-9b24-b71d2f7e14ba\",\"type\":\"ColumnDataSource\"},{\"attributes\":{\"plot\":null,\"text\":\"\"},\"id\":\"b16c4460-74f5-4949-b748-7206608204a4\",\"type\":\"Title\"},{\"attributes\":{\"line_alpha\":0.1,\"line_color\":\"#1f77b4\",\"line_width\":1.5,\"x\":{\"field\":\"x\"},\"y\":{\"field\":\"y\"}},\"id\":\"dee08947-dedb-4e5b-812c-ac692de1f71c\",\"type\":\"Line\"},{\"attributes\":{},\"id\":\"128f8d93-ad8d-4f1c-9484-d004c6bb7669\",\"type\":\"SaveTool\"},{\"attributes\":{\"fill_alpha\":{\"value\":0.7},\"fill_color\":{\"value\":\"#984ea3\"},\"line_alpha\":{\"value\":0.7},\"line_color\":{\"value\":\"#984ea3\"},\"x\":{\"field\":\"x\"},\"y\":{\"field\":\"y\"}},\"id\":\"9fe1d7cf-6951-45a9-abcd-84467fd26a77\",\"type\":\"Square\"},{\"attributes\":{},\"id\":\"f536f610-5ffc-4ac4-aa0a-93ab32d8604c\",\"type\":\"HelpTool\"},{\"attributes\":{},\"id\":\"494286a3-da8c-48e6-b7a8-317298434eda\",\"type\":\"Selection\"},{\"attributes\":{\"data_source\":{\"id\":\"bf1a049e-979e-4e26-8529-35dd42e54861\",\"type\":\"ColumnDataSource\"},\"glyph\":{\"id\":\"9fe1d7cf-6951-45a9-abcd-84467fd26a77\",\"type\":\"Square\"},\"hover_glyph\":null,\"muted_glyph\":null,\"nonselection_glyph\":{\"id\":\"bb60e616-601f-4aec-895a-7731385c18dc\",\"type\":\"Square\"},\"selection_glyph\":null,\"view\":{\"id\":\"b580ba7e-e52c-49a0-96e2-b1b21bc5509e\",\"type\":\"CDSView\"}},\"id\":\"ccf88984-4100-435f-8eb7-9194901489f0\",\"type\":\"GlyphRenderer\"},{\"attributes\":{\"axis_label\":\"cooling rate [K/day]\",\"formatter\":{\"id\":\"7e27a1dd-eec8-4feb-b14e-992bf95f78e0\",\"type\":\"BasicTickFormatter\"},\"plot\":{\"id\":\"162e79e9-0a13-4b70-901b-011bf922bb7c\",\"subtype\":\"Figure\",\"type\":\"Plot\"},\"ticker\":{\"id\":\"c981262b-789c-4401-8079-4e1fb05ab571\",\"type\":\"BasicTicker\"}},\"id\":\"f1ce0676-061d-4d79-a88c-e424ad85492d\",\"type\":\"LinearAxis\"},{\"attributes\":{},\"id\":\"7e27a1dd-eec8-4feb-b14e-992bf95f78e0\",\"type\":\"BasicTickFormatter\"},{\"attributes\":{\"data_source\":{\"id\":\"c62d4033-cbb5-47f5-acb9-d5ea67fb05b2\",\"type\":\"ColumnDataSource\"},\"glyph\":{\"id\":\"aa4bffea-9c51-423d-b252-a2e708057c02\",\"type\":\"Line\"},\"hover_glyph\":null,\"muted_glyph\":null,\"nonselection_glyph\":{\"id\":\"d45a2604-fed0-4120-bad6-74e3482e9805\",\"type\":\"Line\"},\"selection_glyph\":null,\"view\":{\"id\":\"dd4f2b3c-5b3f-4b11-b73b-4db2f0d98772\",\"type\":\"CDSView\"}},\"id\":\"8facbdd5-dd3f-4fb3-b6f5-f9d1644a63a1\",\"type\":\"GlyphRenderer\"},{\"attributes\":{\"tools\":[{\"id\":\"47515b46-f9f1-4bf7-b273-9c4ed548a4b7\",\"type\":\"PanTool\"},{\"id\":\"ee711a14-93a7-4f47-af0d-db001b7665c1\",\"type\":\"WheelZoomTool\"},{\"id\":\"67eaf25f-829b-43ad-bf6b-81f1b3caeb8b\",\"type\":\"BoxZoomTool\"},{\"id\":\"e8747a8c-5412-4c36-8038-1812f4838a22\",\"type\":\"SaveTool\"},{\"id\":\"7171d95a-b3a8-449b-b50a-67307a2df196\",\"type\":\"ResetTool\"},{\"id\":\"7f67f3f3-35b5-4abb-8345-3644a0ee18d2\",\"type\":\"HelpTool\"},{\"id\":\"b3823526-8b32-46e7-b334-87a454765310\",\"type\":\"PanTool\"},{\"id\":\"38511160-e460-4305-ac40-ec81f3dee32d\",\"type\":\"WheelZoomTool\"},{\"id\":\"e74bd195-ddaa-4e34-bcb2-04115205b2c5\",\"type\":\"BoxZoomTool\"},{\"id\":\"6039a21f-7b0a-4d80-b383-a499d2f45c8d\",\"type\":\"SaveTool\"},{\"id\":\"3bc2c790-479a-4180-a26e-0e4ce22aab1a\",\"type\":\"ResetTool\"},{\"id\":\"ed763328-c50f-4075-9d87-db20fb059c8a\",\"type\":\"HelpTool\"},{\"id\":\"0934f49b-cbdb-407e-8b9c-a0d8387fc0e8\",\"type\":\"PanTool\"},{\"id\":\"4a82d55f-accc-47b1-8438-0f163aafeb96\",\"type\":\"WheelZoomTool\"},{\"id\":\"2d6561b4-7311-4c6c-b8cd-8abb55c035c2\",\"type\":\"BoxZoomTool\"},{\"id\":\"128f8d93-ad8d-4f1c-9484-d004c6bb7669\",\"type\":\"SaveTool\"},{\"id\":\"63b9e74a-74ed-4f7f-a97a-31480d586832\",\"type\":\"ResetTool\"},{\"id\":\"f536f610-5ffc-4ac4-aa0a-93ab32d8604c\",\"type\":\"HelpTool\"}]},\"id\":\"e496decb-a09f-47d3-963e-8bf4148b6037\",\"type\":\"ProxyToolbar\"},{\"attributes\":{},\"id\":\"ee711a14-93a7-4f47-af0d-db001b7665c1\",\"type\":\"WheelZoomTool\"},{\"attributes\":{},\"id\":\"e8747a8c-5412-4c36-8038-1812f4838a22\",\"type\":\"SaveTool\"},{\"attributes\":{\"callback\":null,\"data\":{\"x\":{\"__ndarray__\":\"QW/ChKHYRUABfBHv8BdDQO7pX4+S40FAjlrTPAs/QEBi55KjU0A8QOVEIjtRPTdAAW6pHa7pMUBoDUjHy+UpQJPUAjnkGiJAkii6KF00GkDyfPLi2t0UQPkZqhKpthFAXgmBeRVNDUDo1yrq/pUDQBJCuTYK9vU/YoFqy5OO+j/mD7q8ijIFQB7JG9aeDgtAKZPg33XgEEB3e15vURcWQASfV5qt/R1A31afOw7VJEBkZ/sSPswqQPJ8sfjH+ylASXHMMLlOJECnFuR/okcgQKATN+gOZBtALtOaGrQFFkBYLwnonigRQH3MfkLg4AtAJbaM1c4ICEAqMLR+58sCQGn6INO6Bfo/9OD7FbZF8T+Hs4EjcHrnP564dUqD6Ns/JQfYEdIQzT9x/Lwc00XAP+SGDp6tAKO/xAoZ+sRjyb+ScdT6eNyDv/4NISJvwuc/0BNwzqJ+9z+OhxM/9RYAQGCVqWPPlwFApa4RsMkGAECakb3Sg0P+P/wSdfkQIv0/okwaebtq/D8NcsI81zv8PzS6YIBmV/w/t/rzZVDu+z9vHpSuI3P7PzxXiTLKB/s/+xEut0e9+j80CdGvY4f6P91Lpyhohfo/hq2DgXOb+z8jUdf2UHz8P+0LQT6D/vw/NxBjOnr9/D975RKvuF38PyqTiuWeRvs/G8nM6yIW+j8IPCAwnv/4P9UcYY9Qbfg/OqB8rKY8+D929obcuzf4P6/7j5gVtPc/VtnblNCk9j8Yh5Uy8nP1P2TvKkPTiPQ/Kaw4REER9D/JF0FfkkT0P/aWmIV77/o/\",\"dtype\":\"float64\",\"shape\":[75]},\"y\":{\"__ndarray__\":\"GhExyth1ND/Sv8nbtpRIP2vylNV0PVE/aTum7souWD/At0SJ8fVgPw3Iuahxymc/MSNhhJWvcD/bTfBN02d3P2zb5nxnaoA/CD5h5MAGhz8NmeH1TyaQP+zrCsc9p5Y/LbKd76fGnz/bLW5ISEmmPww9YvTcQq8/JV2OstnstT8Er5Y7M8G+P0c+r3jqkcU/5h99k6ZBzj88bCIzFzjVP4enV8oyxN0//yH99nXg5D8qOpLLf0jtP5kqGJXUifQ/c9cS8kHP/D+/DpwzojQEQIEmwoanVwxA4lgXt9HgE0BSSZ2AJuIbQAMJih9jjiNA5q4l5INuK0AwTKYKRj0zQNv5fmq8/DpAaCJseHrtQkB/+zpwzoxKQM3MzMzMeFJAZmZmZmZqWEAAAAAAAFxeQM3MzMzMJmJAmpmZmZkfZUBmZmZmZhhoQDMzMzMzEWtAAAAAAAAKbkBmZmZmZoFwQM3MzMzM/XFAMzMzMzN6c0CamZmZmfZ0QAAAAAAAc3ZAZmZmZmbvd0DNzMzMzGt5QDMzMzMz6HpAmpmZmZlkfEAAAAAAAOF9QGZmZmZmXX9AZmZmZuZsgECamZmZGSuBQM3MzMxM6YFAAAAAAICngkAzMzMzs2WDQGZmZmbmI4RAmpmZmRnihEDNzMzMTKCFQAAAAACAXoZAMzMzM7Mch0BmZmZm5tqHQJqZmZkZmYhAzczMzExXiUAAAAAAgBWKQDMzMzOz04pAZmZmZuaRi0CamZmZGVCMQM3MzMxMDo1AAAAAAIDMjUAzMzMzs4qOQGZmZmbmSI9A\",\"dtype\":\"float64\",\"shape\":[75]}},\"selected\":{\"id\":\"959d7f23-5007-4050-be1d-e325a2ff92df\",\"type\":\"Selection\"},\"selection_policy\":{\"id\":\"82aba623-ee8f-4985-aba3-8a6318ddd0bc\",\"type\":\"UnionRenderers\"}},\"id\":\"7d8a7405-bc7d-4679-8cdf-f952cf219a08\",\"type\":\"ColumnDataSource\"},{\"attributes\":{},\"id\":\"409ee201-ae5e-4fdc-89df-9ab20b2ee9d8\",\"type\":\"LinearScale\"},{\"attributes\":{\"ticker\":null},\"id\":\"442652a4-080e-4be5-95bc-339db94676bf\",\"type\":\"LogTickFormatter\"},{\"attributes\":{\"overlay\":{\"id\":\"b29b7367-baa3-4a60-9db0-ab19b286594f\",\"type\":\"BoxAnnotation\"}},\"id\":\"2d6561b4-7311-4c6c-b8cd-8abb55c035c2\",\"type\":\"BoxZoomTool\"},{\"attributes\":{\"bottom_units\":\"screen\",\"fill_alpha\":{\"value\":0.5},\"fill_color\":{\"value\":\"lightgrey\"},\"left_units\":\"screen\",\"level\":\"overlay\",\"line_alpha\":{\"value\":1.0},\"line_color\":{\"value\":\"black\"},\"line_dash\":[4,4],\"line_width\":{\"value\":2},\"plot\":null,\"render_mode\":\"css\",\"right_units\":\"screen\",\"top_units\":\"screen\"},\"id\":\"e9b45497-26db-452a-b6df-10c1c4206852\",\"type\":\"BoxAnnotation\"},{\"attributes\":{},\"id\":\"7171d95a-b3a8-449b-b50a-67307a2df196\",\"type\":\"ResetTool\"},{\"attributes\":{\"data_source\":{\"id\":\"291e0c59-fde5-4bdd-b9ba-dfe25de7f798\",\"type\":\"ColumnDataSource\"},\"glyph\":{\"id\":\"38de4c40-bdfa-446f-bb18-7be126feb04b\",\"type\":\"Circle\"},\"hover_glyph\":null,\"muted_glyph\":null,\"nonselection_glyph\":{\"id\":\"33495270-f221-4860-bf4a-fc20ea84c80b\",\"type\":\"Circle\"},\"selection_glyph\":null,\"view\":{\"id\":\"f7f86152-a521-4a8d-bdc2-099ac53b202f\",\"type\":\"CDSView\"}},\"id\":\"c63bcbc8-ae3a-4385-9b15-55e76a2f1a88\",\"type\":\"GlyphRenderer\"},{\"attributes\":{},\"id\":\"3ffff786-89c8-4300-82f3-eb22da39f444\",\"type\":\"LinearScale\"},{\"attributes\":{\"children\":[{\"id\":\"549dca8a-12c6-4133-8a53-e67cb686aa16\",\"type\":\"Row\"}]},\"id\":\"8f98496c-0326-440f-b096-4b99de192bd6\",\"type\":\"Column\"},{\"attributes\":{\"data_source\":{\"id\":\"0c2994c6-b1ba-45cb-9769-216c7fd4eee4\",\"type\":\"ColumnDataSource\"},\"glyph\":{\"id\":\"9910b883-c26f-4437-8153-f51d3e31f7b1\",\"type\":\"Circle\"},\"hover_glyph\":null,\"muted_glyph\":null,\"nonselection_glyph\":{\"id\":\"0ff64071-d055-414a-8ed7-10c35bee10d8\",\"type\":\"Circle\"},\"selection_glyph\":null,\"view\":{\"id\":\"f201e063-4008-4d16-b859-caacd469dc5a\",\"type\":\"CDSView\"}},\"id\":\"8e68088b-712c-414d-b6af-03118df14518\",\"type\":\"GlyphRenderer\"},{\"attributes\":{\"items\":[{\"id\":\"258ff8ce-cf32-4206-b502-3a5bdf058264\",\"type\":\"LegendItem\"},{\"id\":\"fe0623d5-cd23-4791-b4c4-331b1cf26c7b\",\"type\":\"LegendItem\"}],\"label_text_font_size\":{\"value\":\"8pt\"},\"location\":\"top_center\",\"orientation\":\"horizontal\",\"plot\":{\"id\":\"162e79e9-0a13-4b70-901b-011bf922bb7c\",\"subtype\":\"Figure\",\"type\":\"Plot\"}},\"id\":\"7c622ab2-bdd2-4d00-8d0e-4af5dd4c4689\",\"type\":\"Legend\"},{\"attributes\":{\"callback\":null,\"data\":{\"x\":{\"__ndarray__\":\"MXhf+wfXU0AZbvNjswdFQLQWsEQVdUFA5TlpnhT9QUB/x1dOYK05QImjxHmcEjZA9jYDSBB3L0AISPl4H6wqQBPuuwfAzyJAOcHprUZAIUB7WWpkesAXQJoT1Uq+ChVArO/8u0EXCkBgVNlshzgCQMeNQ+Nzu/I/POwv1Qzh+D9QxMRmcj8DQOrE7tC4mAxAQsLBRIlHEkAi4cPYoDEXQEeDpjRjzB1ASZ0GEfCuI0DVFj11sssnQOMiVKSMHyhAWRHvUxNoJEDo8cjD4g8gQLGGvR2NDRpAdpI3nV5oFECtyWH9Lp4QQIZQd9bvmwtAkshlnu1BBkBMysnQf1UAQHZJU/DYZ/c/HoEhV+G48T/rSm4vc/TmP3EgV4cD49g/xmy6+4w7zz+bEsjh3uDDPw5SRMRogKs/4GPKdPc1a78lazVXN1vCP/B84ODeUug/LOyxgXDV9z+/DBHyZAwAQAOIY+fy/QFAahF3XKCUAECV0GHvGsz+P+X4k4Nhvf0/RO/IqI98/T8rkW+v/zT9P59vGMDsAv0/zEX7plCY/D/E3siS8kj7P2yUMv+hDvs/RmrXDaYs+z+c9f5GCO36P58nVCbr7vo/Qus8hbcy/D+rD5hFMCf9P4t6dxofnPw/bRp4QYZ2/D/q8NNiN2b8P5YTVw9ESPw/l1Dy0X/K+j+WKih3ZdD5P2k8OYxHjvk/hceGh5N4+T8lpPahWSn5P6vJnePt4vY/UuhmxnXI9T8miFqdE+D0Pz7qfx5CR/Q/0khvq2US9D9LfVdHQGv0P9syeEmwYfg/\",\"dtype\":\"float64\",\"shape\":[75]},\"y\":{\"__ndarray__\":\"hLndy31yND/6fmq8dJNIP8n9DkWBPlE/aDum7souWD/b4a/JGvVgP9f34SAhymc/ZvM4DOavcD+z0M5pFmh3PxuC4zJuaoA/xjcUPlsHhz8uHAjJAiaQP9ieWRKgppY/oI7HDFTGnz+a5h2n6EimPzS6g9iZQq8/IuAQqtTstT9SSZ2AJsK+P4nS3uALk8U/ih9j7lpCzj+ASL99HTjVP4enV8oyxN0/ACL99nXg5D9fmEwVjErtPyUGgZVDi/Q/AiuHFtnO/D9OYhBYOTQEQPHSTWIQWAxA4XoUrkfhE0D8qfHSTeIbQMh2vp8ajyNArkfhehRuK0Bcj8L1KDwzQFyPwvUo/DpAPgrXo3DtQkDNzMzMzIxKQClcj8L1eFJAKVyPwvVoWECamZmZmVleQGZmZmZmJmJAAAAAAAAgZUCamZmZmRloQJqZmZmZEWtAmpmZmZkJbkCamZmZmYFwQGZmZmZm/nFAZmZmZmZ6c0BmZmZmZvZ0QDQzMzMzc3ZAAAAAAADwd0AAAAAAAGx5QAAAAAAA6HpAzMzMzMxkfEDMzMzMzOB9QM3MzMzMXH9AzczMzMxsgEAzMzMzMyuBQDMzMzMz6YFAMzMzMzOngkCamZmZmWWDQAAAAAAAJIRAAAAAAADihEAAAAAAAKCFQGZmZmZmXoZAzczMzMwch0DNzMzMzNqHQM3MzMzMmIhAMzMzMzNXiUCamZmZmRWKQAAAAAAA1IpAAAAAAACSi0AAAAAAAFCMQGZmZmZmDo1AzczMzMzMjUDNzMzMzIqOQM3MzMzMSI9A\",\"dtype\":\"float64\",\"shape\":[75]}},\"selected\":{\"id\":\"87b20330-e5b2-4012-85f9-02f12d60fbd0\",\"type\":\"Selection\"},\"selection_policy\":{\"id\":\"e9a92eca-0f13-4f95-adc5-fea2d6a73b34\",\"type\":\"UnionRenderers\"}},\"id\":\"bf1a049e-979e-4e26-8529-35dd42e54861\",\"type\":\"ColumnDataSource\"},{\"attributes\":{\"label\":{\"value\":\"CLIRAD (single-run)\"},\"renderers\":[{\"id\":\"0dbe0dba-c1dc-45ae-9623-5d2ec93988fe\",\"type\":\"GlyphRenderer\"}]},\"id\":\"9cb4b0fd-f4f5-4fbe-acce-da3928f73d5f\",\"type\":\"LegendItem\"},{\"attributes\":{\"fill_alpha\":{\"value\":0.1},\"fill_color\":{\"value\":\"#1f77b4\"},\"line_alpha\":{\"value\":0.1},\"line_color\":{\"value\":\"#1f77b4\"},\"x\":{\"field\":\"x\"},\"y\":{\"field\":\"y\"}},\"id\":\"bb60e616-601f-4aec-895a-7731385c18dc\",\"type\":\"Square\"},{\"attributes\":{},\"id\":\"93cde25c-ef7c-4bee-9571-7d422a365a54\",\"type\":\"UnionRenderers\"},{\"attributes\":{\"line_color\":\"#4daf4a\",\"line_width\":1.5,\"x\":{\"field\":\"x\"},\"y\":{\"field\":\"y\"}},\"id\":\"bab5d83c-4fd1-44dd-97a3-b738fa86fcce\",\"type\":\"Line\"},{\"attributes\":{\"fill_alpha\":{\"value\":0.1},\"fill_color\":{\"value\":\"#1f77b4\"},\"line_alpha\":{\"value\":0.1},\"line_color\":{\"value\":\"#1f77b4\"},\"x\":{\"field\":\"x\"},\"y\":{\"field\":\"y\"}},\"id\":\"33495270-f221-4860-bf4a-fc20ea84c80b\",\"type\":\"Circle\"},{\"attributes\":{\"data_source\":{\"id\":\"7d8a7405-bc7d-4679-8cdf-f952cf219a08\",\"type\":\"ColumnDataSource\"},\"glyph\":{\"id\":\"80de587d-a11e-4b72-bb78-274a27bfd1d9\",\"type\":\"Line\"},\"hover_glyph\":null,\"muted_glyph\":null,\"nonselection_glyph\":{\"id\":\"7eea4b4b-a650-4a84-ab4e-d8c271368310\",\"type\":\"Line\"},\"selection_glyph\":null,\"view\":{\"id\":\"3f983097-27c6-40d5-9f9a-f8f98ca2ba27\",\"type\":\"CDSView\"}},\"id\":\"2079c708-38b9-4973-a317-db042f3e74eb\",\"type\":\"GlyphRenderer\"},{\"attributes\":{},\"id\":\"7f67f3f3-35b5-4abb-8345-3644a0ee18d2\",\"type\":\"HelpTool\"},{\"attributes\":{\"fill_alpha\":{\"value\":0.7},\"fill_color\":{\"value\":\"#4daf4a\"},\"line_alpha\":{\"value\":0.7},\"line_color\":{\"value\":\"#4daf4a\"},\"x\":{\"field\":\"x\"},\"y\":{\"field\":\"y\"}},\"id\":\"38de4c40-bdfa-446f-bb18-7be126feb04b\",\"type\":\"Circle\"},{\"attributes\":{\"line_alpha\":0.8,\"line_color\":\"#984ea3\",\"line_width\":1.5,\"x\":{\"field\":\"x\"},\"y\":{\"field\":\"y\"}},\"id\":\"82d57e2c-7b99-4e01-ace5-78010f2ca281\",\"type\":\"Line\"},{\"attributes\":{\"callback\":null,\"data\":{\"x\":{\"__ndarray__\":\"cm1sTMT3VEDEyvjosEJHQOKI6DjzCUNArgQWV9awPkB9Lm8XG3M4QEz+Qv6iYzNA7eV8HaPLLkCX1QHyTpMoQFBmYSYetiNAUB04GtGpH0AmFyVE5j8ZQJca9QPGqBNALJP+OOHHDEBNxaf7QF8AQKtislomWuw/cW2dcO6A9T/uJJvfPu0EQIaQLTI/JQ1AxGiII+PmEkCJvfVeuCsYQD6ZBhGbHB9AXQw69DTYJEAsubcwKucqQNuT9D5OmipAJyi3szEJJUBlNebh5WkgQDDcPHBr2xlArtlANXuQFEBdJadFHckQQI2Avh0ZsQtAjYiwt1rsBUCL0SDoVBgAQK6C0nEEjvc/CggLSme58T9sXU2orFPnP0v0JYz9Gdg/vT38vxYczD9nBQTe6kHHP1IhkEXJwKo/8OZnhCVAub+xtVgCpmqzP6DUpY6g0+k/PKK3T1h4+D8RTDjQc1EAQG/dAQs7TwJAQt2eHpPLAEBWEh074x//PyCap9ZSGf4/rEzaTySm/T+7aXhHRmr9P688KeqeNP0/ruZ4EemD/D8olrZcn9T7P0+vNc9hW/s/i9VVL+4P+z+0NzC24uz6P8731Kza8vo/xFf4SHzq+z+gYyHpvHb8P68ROkiFevw/BAjYdCga/D8AUp8VbW77P3JrF/nKmvo/qCQeGfq++T/dplwHJfn4P2G4p+Uva/g/OzZ0RqMZ+D8dmn/iar73P/OuA7Ka8PY/gaaeQHGn9T9hkyjAH1L0P3aZGhdAU/M/n8VP/g7P8j+90HxHNvfyPwhNBtgrqvk/\",\"dtype\":\"float64\",\"shape\":[75]},\"y\":{\"__ndarray__\":\"GhExyth1ND/Sv8nbtpRIP2vylNV0PVE/aTum7souWD/At0SJ8fVgPw3Iuahxymc/MSNhhJWvcD/bTfBN02d3P2zb5nxnaoA/CD5h5MAGhz8NmeH1TyaQP+zrCsc9p5Y/LbKd76fGnz/bLW5ISEmmPww9YvTcQq8/JV2OstnstT8Er5Y7M8G+P0c+r3jqkcU/5h99k6ZBzj88bCIzFzjVP4enV8oyxN0//yH99nXg5D8qOpLLf0jtP5kqGJXUifQ/c9cS8kHP/D+/DpwzojQEQIEmwoanVwxA4lgXt9HgE0BSSZ2AJuIbQAMJih9jjiNA5q4l5INuK0AwTKYKRj0zQNv5fmq8/DpAaCJseHrtQkB/+zpwzoxKQM3MzMzMeFJAZmZmZmZqWEAAAAAAAFxeQM3MzMzMJmJAmpmZmZkfZUBmZmZmZhhoQDMzMzMzEWtAAAAAAAAKbkBmZmZmZoFwQM3MzMzM/XFAMzMzMzN6c0CamZmZmfZ0QAAAAAAAc3ZAZmZmZmbvd0DNzMzMzGt5QDMzMzMz6HpAmpmZmZlkfEAAAAAAAOF9QGZmZmZmXX9AZmZmZuZsgECamZmZGSuBQM3MzMxM6YFAAAAAAICngkAzMzMzs2WDQGZmZmbmI4RAmpmZmRnihEDNzMzMTKCFQAAAAACAXoZAMzMzM7Mch0BmZmZm5tqHQJqZmZkZmYhAzczMzExXiUAAAAAAgBWKQDMzMzOz04pAZmZmZuaRi0CamZmZGVCMQM3MzMxMDo1AAAAAAIDMjUAzMzMzs4qOQGZmZmbmSI9A\",\"dtype\":\"float64\",\"shape\":[75]}},\"selected\":{\"id\":\"de0af210-950c-4158-a7b2-94e68cb74ee1\",\"type\":\"Selection\"},\"selection_policy\":{\"id\":\"bfcf2f56-4a95-4020-b6ad-f9089fbb68a3\",\"type\":\"UnionRenderers\"}},\"id\":\"9e638f38-a0a0-4dc1-9bfe-34420b5fc570\",\"type\":\"ColumnDataSource\"},{\"attributes\":{\"source\":{\"id\":\"dfe9d1ca-b24a-4565-a9ae-67ce4bd83fab\",\"type\":\"ColumnDataSource\"}},\"id\":\"edb022c1-66cc-4172-9a26-002afdc1abca\",\"type\":\"CDSView\"},{\"attributes\":{},\"id\":\"63b9e74a-74ed-4f7f-a97a-31480d586832\",\"type\":\"ResetTool\"},{\"attributes\":{\"axis_label\":\"pressure [mb]\",\"formatter\":{\"id\":\"442652a4-080e-4be5-95bc-339db94676bf\",\"type\":\"LogTickFormatter\"},\"plot\":{\"id\":\"162e79e9-0a13-4b70-901b-011bf922bb7c\",\"subtype\":\"Figure\",\"type\":\"Plot\"},\"ticker\":{\"id\":\"48e96443-ef7f-4f09-870e-3a6fb95c33f4\",\"type\":\"LogTicker\"}},\"id\":\"65d44c5e-a6e0-49e0-8334-0bb7216b1703\",\"type\":\"LogAxis\"},{\"attributes\":{},\"id\":\"4a82d55f-accc-47b1-8438-0f163aafeb96\",\"type\":\"WheelZoomTool\"},{\"attributes\":{},\"id\":\"42de77b5-ab99-423b-95c2-143bd56923a9\",\"type\":\"Selection\"},{\"attributes\":{\"toolbar\":{\"id\":\"e496decb-a09f-47d3-963e-8bf4148b6037\",\"type\":\"ProxyToolbar\"},\"toolbar_location\":\"above\"},\"id\":\"0815f79b-891f-4bf8-833a-8d8918307bef\",\"type\":\"ToolbarBox\"},{\"attributes\":{},\"id\":\"f4e6fa9a-b519-4bab-bfe7-745556d433c5\",\"type\":\"Selection\"},{\"attributes\":{\"active_drag\":\"auto\",\"active_inspect\":\"auto\",\"active_scroll\":\"auto\",\"active_tap\":\"auto\",\"tools\":[{\"id\":\"0934f49b-cbdb-407e-8b9c-a0d8387fc0e8\",\"type\":\"PanTool\"},{\"id\":\"4a82d55f-accc-47b1-8438-0f163aafeb96\",\"type\":\"WheelZoomTool\"},{\"id\":\"2d6561b4-7311-4c6c-b8cd-8abb55c035c2\",\"type\":\"BoxZoomTool\"},{\"id\":\"128f8d93-ad8d-4f1c-9484-d004c6bb7669\",\"type\":\"SaveTool\"},{\"id\":\"63b9e74a-74ed-4f7f-a97a-31480d586832\",\"type\":\"ResetTool\"},{\"id\":\"f536f610-5ffc-4ac4-aa0a-93ab32d8604c\",\"type\":\"HelpTool\"}]},\"id\":\"1d909336-901e-4329-981c-39538d972668\",\"type\":\"Toolbar\"},{\"attributes\":{},\"id\":\"c981262b-789c-4401-8079-4e1fb05ab571\",\"type\":\"BasicTicker\"},{\"attributes\":{},\"id\":\"5e94730f-4550-4c6e-826b-615c26ad595f\",\"type\":\"LinearScale\"},{\"attributes\":{\"axis_label\":\"pressure [mb]\",\"formatter\":{\"id\":\"cec0f292-9004-4759-974d-af52e26186cf\",\"type\":\"LogTickFormatter\"},\"plot\":{\"id\":\"6aca8675-cd7c-4c14-9912-f5387254d44b\",\"subtype\":\"Figure\",\"type\":\"Plot\"},\"ticker\":{\"id\":\"7ce24904-af5f-439e-b9f0-2319fdb89fb1\",\"type\":\"LogTicker\"}},\"id\":\"dc5f2571-721c-4ef2-a847-836e4019ddd2\",\"type\":\"LogAxis\"},{\"attributes\":{\"source\":{\"id\":\"b50cff33-e06a-4de5-b89c-0ef760e67b4f\",\"type\":\"ColumnDataSource\"}},\"id\":\"963ad1c0-2f02-486f-90d5-14d7ec3be80f\",\"type\":\"CDSView\"},{\"attributes\":{\"source\":{\"id\":\"28921a4f-a2e5-48da-9b24-b71d2f7e14ba\",\"type\":\"ColumnDataSource\"}},\"id\":\"e8d44e4c-afe4-410a-b424-f16bcceb13e9\",\"type\":\"CDSView\"},{\"attributes\":{\"items\":[{\"id\":\"9cb4b0fd-f4f5-4fbe-acce-da3928f73d5f\",\"type\":\"LegendItem\"},{\"id\":\"744cf4db-ab00-465b-be09-a5b01ea20ce5\",\"type\":\"LegendItem\"},{\"id\":\"80aa1d68-6030-4fb6-9843-7de99f9dadbb\",\"type\":\"LegendItem\"}],\"label_text_font_size\":{\"value\":\"8pt\"},\"location\":\"top_center\",\"orientation\":\"horizontal\",\"plot\":{\"id\":\"036182d0-6e0e-4896-bba4-b4e3a93fafe7\",\"subtype\":\"Figure\",\"type\":\"Plot\"}},\"id\":\"03141491-9001-49ba-9f95-b721578a1c34\",\"type\":\"Legend\"},{\"attributes\":{\"callback\":null,\"end\":13.587992271301857,\"start\":-0.33485573154785997},\"id\":\"95eb11c8-d259-4b9e-ba79-46b94d71cfa7\",\"type\":\"Range1d\"},{\"attributes\":{\"data_source\":{\"id\":\"bbc4cd05-f1d9-4bc7-8052-a377771373ae\",\"type\":\"ColumnDataSource\"},\"glyph\":{\"id\":\"c386a55a-114a-4bd5-bd75-24dc310e201f\",\"type\":\"Circle\"},\"hover_glyph\":null,\"muted_glyph\":null,\"nonselection_glyph\":{\"id\":\"ec8d9e76-7382-48f6-9c92-b8a5c2eba5a3\",\"type\":\"Circle\"},\"selection_glyph\":null,\"view\":{\"id\":\"0f5407f8-6743-4ec0-81ed-d308617a6833\",\"type\":\"CDSView\"}},\"id\":\"203ace4c-bfa4-4fae-b41c-9bea5f28d44d\",\"type\":\"GlyphRenderer\"},{\"attributes\":{\"callback\":null,\"data\":{\"x\":{\"__ndarray__\":\"cm1sTMT3VEDEyvjosEJHQOKI6DjzCUNArgQWV9awPkB9Lm8XG3M4QEz+Qv6iYzNA7eV8HaPLLkCX1QHyTpMoQFBmYSYetiNAUB04GtGpH0AmFyVE5j8ZQJca9QPGqBNALJP+OOHHDEBNxaf7QF8AQKtislomWuw/cW2dcO6A9T/uJJvfPu0EQIaQLTI/JQ1AxGiII+PmEkCJvfVeuCsYQD6ZBhGbHB9AXQw69DTYJEAsubcwKucqQNuT9D5OmipAJyi3szEJJUBlNebh5WkgQDDcPHBr2xlArtlANXuQFEBdJadFHckQQI2Avh0ZsQtAjYiwt1rsBUCL0SDoVBgAQK6C0nEEjvc/CggLSme58T9sXU2orFPnP0v0JYz9Gdg/vT38vxYczD9nBQTe6kHHP1IhkEXJwKo/8OZnhCVAub+xtVgCpmqzP6DUpY6g0+k/PKK3T1h4+D8RTDjQc1EAQG/dAQs7TwJAQt2eHpPLAEBWEh074x//PyCap9ZSGf4/rEzaTySm/T+7aXhHRmr9P688KeqeNP0/ruZ4EemD/D8olrZcn9T7P0+vNc9hW/s/i9VVL+4P+z+0NzC24uz6P8731Kza8vo/xFf4SHzq+z+gYyHpvHb8P68ROkiFevw/BAjYdCga/D8AUp8VbW77P3JrF/nKmvo/qCQeGfq++T/dplwHJfn4P2G4p+Uva/g/OzZ0RqMZ+D8dmn/iar73P/OuA7Ka8PY/gaaeQHGn9T9hkyjAH1L0P3aZGhdAU/M/n8VP/g7P8j+90HxHNvfyPwhNBtgrqvk/\",\"dtype\":\"float64\",\"shape\":[75]},\"y\":{\"__ndarray__\":\"GhExyth1ND/Sv8nbtpRIP2vylNV0PVE/aTum7souWD/At0SJ8fVgPw3Iuahxymc/MSNhhJWvcD/bTfBN02d3P2zb5nxnaoA/CD5h5MAGhz8NmeH1TyaQP+zrCsc9p5Y/LbKd76fGnz/bLW5ISEmmPww9YvTcQq8/JV2OstnstT8Er5Y7M8G+P0c+r3jqkcU/5h99k6ZBzj88bCIzFzjVP4enV8oyxN0//yH99nXg5D8qOpLLf0jtP5kqGJXUifQ/c9cS8kHP/D+/DpwzojQEQIEmwoanVwxA4lgXt9HgE0BSSZ2AJuIbQAMJih9jjiNA5q4l5INuK0AwTKYKRj0zQNv5fmq8/DpAaCJseHrtQkB/+zpwzoxKQM3MzMzMeFJAZmZmZmZqWEAAAAAAAFxeQM3MzMzMJmJAmpmZmZkfZUBmZmZmZhhoQDMzMzMzEWtAAAAAAAAKbkBmZmZmZoFwQM3MzMzM/XFAMzMzMzN6c0CamZmZmfZ0QAAAAAAAc3ZAZmZmZmbvd0DNzMzMzGt5QDMzMzMz6HpAmpmZmZlkfEAAAAAAAOF9QGZmZmZmXX9AZmZmZuZsgECamZmZGSuBQM3MzMxM6YFAAAAAAICngkAzMzMzs2WDQGZmZmbmI4RAmpmZmRnihEDNzMzMTKCFQAAAAACAXoZAMzMzM7Mch0BmZmZm5tqHQJqZmZkZmYhAzczMzExXiUAAAAAAgBWKQDMzMzOz04pAZmZmZuaRi0CamZmZGVCMQM3MzMxMDo1AAAAAAIDMjUAzMzMzs4qOQGZmZmbmSI9A\",\"dtype\":\"float64\",\"shape\":[75]}},\"selected\":{\"id\":\"2eadf920-6612-465f-856c-d0d2268f6ad5\",\"type\":\"Selection\"},\"selection_policy\":{\"id\":\"47c60103-6d0a-4e1d-83d2-2526036d89cb\",\"type\":\"UnionRenderers\"}},\"id\":\"291e0c59-fde5-4bdd-b9ba-dfe25de7f798\",\"type\":\"ColumnDataSource\"},{\"attributes\":{\"line_alpha\":0.1,\"line_color\":\"#1f77b4\",\"line_width\":1.5,\"x\":{\"field\":\"x\"},\"y\":{\"field\":\"y\"}},\"id\":\"cba2f103-bb0a-490e-9f6d-1f310fdebad1\",\"type\":\"Line\"},{\"attributes\":{\"dimension\":1,\"plot\":{\"id\":\"6aca8675-cd7c-4c14-9912-f5387254d44b\",\"subtype\":\"Figure\",\"type\":\"Plot\"},\"ticker\":{\"id\":\"7ce24904-af5f-439e-b9f0-2319fdb89fb1\",\"type\":\"LogTicker\"}},\"id\":\"aafe8dc1-4f13-4af1-9858-15c801771b71\",\"type\":\"Grid\"},{\"attributes\":{\"label\":{\"value\":\"CLIRAD (single-run)\"},\"renderers\":[{\"id\":\"2079c708-38b9-4973-a317-db042f3e74eb\",\"type\":\"GlyphRenderer\"}]},\"id\":\"9a2fef9b-4536-4e1d-a805-f6d4a123e6c9\",\"type\":\"LegendItem\"},{\"attributes\":{\"axis_label\":\"cooling rate [K/day]\",\"formatter\":{\"id\":\"b99ed4eb-b530-4854-87bf-e30a6f182ff6\",\"type\":\"BasicTickFormatter\"},\"plot\":{\"id\":\"6aca8675-cd7c-4c14-9912-f5387254d44b\",\"subtype\":\"Figure\",\"type\":\"Plot\"},\"ticker\":{\"id\":\"d24d0315-610a-499b-b7e3-c017db03ed45\",\"type\":\"BasicTicker\"}},\"id\":\"c057bea5-9bd3-475e-8f54-46a83c8c9246\",\"type\":\"LinearAxis\"},{\"attributes\":{\"fill_alpha\":{\"value\":0.7},\"fill_color\":{\"value\":\"#984ea3\"},\"line_alpha\":{\"value\":0.7},\"line_color\":{\"value\":\"#984ea3\"},\"x\":{\"field\":\"x\"},\"y\":{\"field\":\"y\"}},\"id\":\"6b2e6f61-9e00-4f83-b181-89902ba13203\",\"type\":\"Square\"},{\"attributes\":{},\"id\":\"b3823526-8b32-46e7-b334-87a454765310\",\"type\":\"PanTool\"},{\"attributes\":{\"label\":{\"value\":\"CRD\"},\"renderers\":[{\"id\":\"203ace4c-bfa4-4fae-b41c-9bea5f28d44d\",\"type\":\"GlyphRenderer\"},{\"id\":\"5a798958-214a-4ea9-87df-437f8cf16c8f\",\"type\":\"GlyphRenderer\"}]},\"id\":\"014a3c9e-a1f3-4f43-9ebb-7c91e5741f6b\",\"type\":\"LegendItem\"},{\"attributes\":{\"source\":{\"id\":\"bbc4cd05-f1d9-4bc7-8052-a377771373ae\",\"type\":\"ColumnDataSource\"}},\"id\":\"0f5407f8-6743-4ec0-81ed-d308617a6833\",\"type\":\"CDSView\"},{\"attributes\":{\"data_source\":{\"id\":\"b50cff33-e06a-4de5-b89c-0ef760e67b4f\",\"type\":\"ColumnDataSource\"},\"glyph\":{\"id\":\"fcd4cbaf-4216-4e23-9260-5271138d8a27\",\"type\":\"Line\"},\"hover_glyph\":null,\"muted_glyph\":null,\"nonselection_glyph\":{\"id\":\"0b64a401-b4ee-4da6-a9b1-52556a384f01\",\"type\":\"Line\"},\"selection_glyph\":null,\"view\":{\"id\":\"963ad1c0-2f02-486f-90d5-14d7ec3be80f\",\"type\":\"CDSView\"}},\"id\":\"5a798958-214a-4ea9-87df-437f8cf16c8f\",\"type\":\"GlyphRenderer\"},{\"attributes\":{\"callback\":null,\"end\":0.01,\"start\":1020},\"id\":\"09499930-a3e9-4ac7-bc36-5af95071ceaa\",\"type\":\"Range1d\"},{\"attributes\":{\"overlay\":{\"id\":\"e9b45497-26db-452a-b6df-10c1c4206852\",\"type\":\"BoxAnnotation\"}},\"id\":\"e74bd195-ddaa-4e34-bcb2-04115205b2c5\",\"type\":\"BoxZoomTool\"},{\"attributes\":{\"label\":{\"value\":\"old CLIRAD (H2012)\"},\"renderers\":[{\"id\":\"4cf8d15a-39eb-4496-9221-a941e567f47e\",\"type\":\"GlyphRenderer\"},{\"id\":\"c68158e3-d1f7-4cf8-aa7f-4ae575761d81\",\"type\":\"GlyphRenderer\"}]},\"id\":\"f1a319bf-340d-49f1-bfc2-72e2b341ace1\",\"type\":\"LegendItem\"},{\"attributes\":{\"above\":[{\"id\":\"1da34790-ca46-4e5d-8935-2987ffe3c88d\",\"type\":\"Legend\"}],\"below\":[{\"id\":\"c057bea5-9bd3-475e-8f54-46a83c8c9246\",\"type\":\"LinearAxis\"}],\"left\":[{\"id\":\"dc5f2571-721c-4ef2-a847-836e4019ddd2\",\"type\":\"LogAxis\"}],\"plot_width\":300,\"renderers\":[{\"id\":\"c057bea5-9bd3-475e-8f54-46a83c8c9246\",\"type\":\"LinearAxis\"},{\"id\":\"41bd359f-7794-4cb3-98ec-0f553948767c\",\"type\":\"Grid\"},{\"id\":\"dc5f2571-721c-4ef2-a847-836e4019ddd2\",\"type\":\"LogAxis\"},{\"id\":\"aafe8dc1-4f13-4af1-9858-15c801771b71\",\"type\":\"Grid\"},{\"id\":\"e9b45497-26db-452a-b6df-10c1c4206852\",\"type\":\"BoxAnnotation\"},{\"id\":\"2079c708-38b9-4973-a317-db042f3e74eb\",\"type\":\"GlyphRenderer\"},{\"id\":\"203ace4c-bfa4-4fae-b41c-9bea5f28d44d\",\"type\":\"GlyphRenderer\"},{\"id\":\"5a798958-214a-4ea9-87df-437f8cf16c8f\",\"type\":\"GlyphRenderer\"},{\"id\":\"4cf8d15a-39eb-4496-9221-a941e567f47e\",\"type\":\"GlyphRenderer\"},{\"id\":\"c68158e3-d1f7-4cf8-aa7f-4ae575761d81\",\"type\":\"GlyphRenderer\"},{\"id\":\"1da34790-ca46-4e5d-8935-2987ffe3c88d\",\"type\":\"Legend\"}],\"title\":{\"id\":\"46c46c68-fb8a-4f80-938a-c0f538038922\",\"type\":\"Title\"},\"toolbar\":{\"id\":\"b8d8e0ca-9b0c-453f-8f38-db1ad8e21e69\",\"type\":\"Toolbar\"},\"toolbar_location\":null,\"x_range\":{\"id\":\"95eb11c8-d259-4b9e-ba79-46b94d71cfa7\",\"type\":\"Range1d\"},\"x_scale\":{\"id\":\"bc89c9b2-7c8a-4475-ae37-8b461410bd5f\",\"type\":\"LinearScale\"},\"y_range\":{\"id\":\"f7c2735e-ed0a-4e39-9c04-1469bc8758d3\",\"type\":\"Range1d\"},\"y_scale\":{\"id\":\"5c0ff834-8b9d-408f-b37c-2891d92bc8bb\",\"type\":\"LogScale\"}},\"id\":\"6aca8675-cd7c-4c14-9912-f5387254d44b\",\"subtype\":\"Figure\",\"type\":\"Plot\"},{\"attributes\":{\"source\":{\"id\":\"5b3efa2a-1de2-47fe-9be0-e4e6dcb013b5\",\"type\":\"ColumnDataSource\"}},\"id\":\"10c5c144-0e09-42c7-919c-64ebfc299a07\",\"type\":\"CDSView\"},{\"attributes\":{\"callback\":null,\"data\":{\"x\":{\"__ndarray__\":\"cm1sTMT3VEDEyvjosEJHQOKI6DjzCUNArgQWV9awPkB9Lm8XG3M4QEz+Qv6iYzNA7eV8HaPLLkCX1QHyTpMoQFBmYSYetiNAUB04GtGpH0AmFyVE5j8ZQJca9QPGqBNALJP+OOHHDEBNxaf7QF8AQKtislomWuw/cW2dcO6A9T/uJJvfPu0EQIaQLTI/JQ1AxGiII+PmEkCJvfVeuCsYQD6ZBhGbHB9AXQw69DTYJEAsubcwKucqQNuT9D5OmipAJyi3szEJJUBlNebh5WkgQDDcPHBr2xlArtlANXuQFEBdJadFHckQQI2Avh0ZsQtAjYiwt1rsBUCL0SDoVBgAQK6C0nEEjvc/CggLSme58T9sXU2orFPnP0v0JYz9Gdg/vT38vxYczD9nBQTe6kHHP1IhkEXJwKo/8OZnhCVAub+xtVgCpmqzP6DUpY6g0+k/PKK3T1h4+D8RTDjQc1EAQG/dAQs7TwJAQt2eHpPLAEBWEh074x//PyCap9ZSGf4/rEzaTySm/T+7aXhHRmr9P688KeqeNP0/ruZ4EemD/D8olrZcn9T7P0+vNc9hW/s/i9VVL+4P+z+0NzC24uz6P8731Kza8vo/xFf4SHzq+z+gYyHpvHb8P68ROkiFevw/BAjYdCga/D8AUp8VbW77P3JrF/nKmvo/qCQeGfq++T/dplwHJfn4P2G4p+Uva/g/OzZ0RqMZ+D8dmn/iar73P/OuA7Ka8PY/gaaeQHGn9T9hkyjAH1L0P3aZGhdAU/M/n8VP/g7P8j+90HxHNvfyPwhNBtgrqvk/\",\"dtype\":\"float64\",\"shape\":[75]},\"y\":{\"__ndarray__\":\"GhExyth1ND/Sv8nbtpRIP2vylNV0PVE/aTum7souWD/At0SJ8fVgPw3Iuahxymc/MSNhhJWvcD/bTfBN02d3P2zb5nxnaoA/CD5h5MAGhz8NmeH1TyaQP+zrCsc9p5Y/LbKd76fGnz/bLW5ISEmmPww9YvTcQq8/JV2OstnstT8Er5Y7M8G+P0c+r3jqkcU/5h99k6ZBzj88bCIzFzjVP4enV8oyxN0//yH99nXg5D8qOpLLf0jtP5kqGJXUifQ/c9cS8kHP/D+/DpwzojQEQIEmwoanVwxA4lgXt9HgE0BSSZ2AJuIbQAMJih9jjiNA5q4l5INuK0AwTKYKRj0zQNv5fmq8/DpAaCJseHrtQkB/+zpwzoxKQM3MzMzMeFJAZmZmZmZqWEAAAAAAAFxeQM3MzMzMJmJAmpmZmZkfZUBmZmZmZhhoQDMzMzMzEWtAAAAAAAAKbkBmZmZmZoFwQM3MzMzM/XFAMzMzMzN6c0CamZmZmfZ0QAAAAAAAc3ZAZmZmZmbvd0DNzMzMzGt5QDMzMzMz6HpAmpmZmZlkfEAAAAAAAOF9QGZmZmZmXX9AZmZmZuZsgECamZmZGSuBQM3MzMxM6YFAAAAAAICngkAzMzMzs2WDQGZmZmbmI4RAmpmZmRnihEDNzMzMTKCFQAAAAACAXoZAMzMzM7Mch0BmZmZm5tqHQJqZmZkZmYhAzczMzExXiUAAAAAAgBWKQDMzMzOz04pAZmZmZuaRi0CamZmZGVCMQM3MzMxMDo1AAAAAAIDMjUAzMzMzs4qOQGZmZmbmSI9A\",\"dtype\":\"float64\",\"shape\":[75]}},\"selected\":{\"id\":\"1b07f252-ba8f-4434-867f-de07df8217e7\",\"type\":\"Selection\"},\"selection_policy\":{\"id\":\"7c17bbfb-8006-4df2-a197-18801d19ef59\",\"type\":\"UnionRenderers\"}},\"id\":\"bbc4cd05-f1d9-4bc7-8052-a377771373ae\",\"type\":\"ColumnDataSource\"},{\"attributes\":{\"above\":[{\"id\":\"7c622ab2-bdd2-4d00-8d0e-4af5dd4c4689\",\"type\":\"Legend\"}],\"below\":[{\"id\":\"f1ce0676-061d-4d79-a88c-e424ad85492d\",\"type\":\"LinearAxis\"}],\"left\":[{\"id\":\"65d44c5e-a6e0-49e0-8334-0bb7216b1703\",\"type\":\"LogAxis\"}],\"plot_width\":300,\"renderers\":[{\"id\":\"f1ce0676-061d-4d79-a88c-e424ad85492d\",\"type\":\"LinearAxis\"},{\"id\":\"508f723e-30c9-4878-976f-02fc3ccf53f8\",\"type\":\"Grid\"},{\"id\":\"65d44c5e-a6e0-49e0-8334-0bb7216b1703\",\"type\":\"LogAxis\"},{\"id\":\"afb63ec7-895d-4105-ad7c-0687484988a9\",\"type\":\"Grid\"},{\"id\":\"b29b7367-baa3-4a60-9db0-ab19b286594f\",\"type\":\"BoxAnnotation\"},{\"id\":\"8e68088b-712c-414d-b6af-03118df14518\",\"type\":\"GlyphRenderer\"},{\"id\":\"5a9d48ac-fc58-4532-bffb-c587452ed4e3\",\"type\":\"GlyphRenderer\"},{\"id\":\"73c2bc87-e4a2-457a-8a96-bf1fbc57eb9b\",\"type\":\"GlyphRenderer\"},{\"id\":\"7c622ab2-bdd2-4d00-8d0e-4af5dd4c4689\",\"type\":\"Legend\"}],\"title\":{\"id\":\"b16c4460-74f5-4949-b748-7206608204a4\",\"type\":\"Title\"},\"toolbar\":{\"id\":\"1d909336-901e-4329-981c-39538d972668\",\"type\":\"Toolbar\"},\"toolbar_location\":null,\"x_range\":{\"id\":\"6f7af869-9a0c-4121-bea7-d4586a873b78\",\"type\":\"Range1d\"},\"x_scale\":{\"id\":\"3ffff786-89c8-4300-82f3-eb22da39f444\",\"type\":\"LinearScale\"},\"y_range\":{\"id\":\"09499930-a3e9-4ac7-bc36-5af95071ceaa\",\"type\":\"Range1d\"},\"y_scale\":{\"id\":\"e44e8655-b4a4-49c8-bd62-520c8847a597\",\"type\":\"LogScale\"}},\"id\":\"162e79e9-0a13-4b70-901b-011bf922bb7c\",\"subtype\":\"Figure\",\"type\":\"Plot\"},{\"attributes\":{\"label\":{\"value\":\"CRD\"},\"renderers\":[{\"id\":\"c63bcbc8-ae3a-4385-9b15-55e76a2f1a88\",\"type\":\"GlyphRenderer\"},{\"id\":\"031f1ca6-b76e-4081-b6e6-a34dac644476\",\"type\":\"GlyphRenderer\"}]},\"id\":\"744cf4db-ab00-465b-be09-a5b01ea20ce5\",\"type\":\"LegendItem\"},{\"attributes\":{\"dimension\":1,\"plot\":{\"id\":\"162e79e9-0a13-4b70-901b-011bf922bb7c\",\"subtype\":\"Figure\",\"type\":\"Plot\"},\"ticker\":{\"id\":\"48e96443-ef7f-4f09-870e-3a6fb95c33f4\",\"type\":\"LogTicker\"}},\"id\":\"afb63ec7-895d-4105-ad7c-0687484988a9\",\"type\":\"Grid\"},{\"attributes\":{},\"id\":\"bc89c9b2-7c8a-4475-ae37-8b461410bd5f\",\"type\":\"LinearScale\"},{\"attributes\":{\"source\":{\"id\":\"7d8a7405-bc7d-4679-8cdf-f952cf219a08\",\"type\":\"ColumnDataSource\"}},\"id\":\"3f983097-27c6-40d5-9f9a-f8f98ca2ba27\",\"type\":\"CDSView\"},{\"attributes\":{\"items\":[{\"id\":\"9a2fef9b-4536-4e1d-a805-f6d4a123e6c9\",\"type\":\"LegendItem\"},{\"id\":\"014a3c9e-a1f3-4f43-9ebb-7c91e5741f6b\",\"type\":\"LegendItem\"},{\"id\":\"f1a319bf-340d-49f1-bfc2-72e2b341ace1\",\"type\":\"LegendItem\"}],\"label_text_font_size\":{\"value\":\"8pt\"},\"location\":\"top_center\",\"orientation\":\"horizontal\",\"plot\":{\"id\":\"6aca8675-cd7c-4c14-9912-f5387254d44b\",\"subtype\":\"Figure\",\"type\":\"Plot\"}},\"id\":\"1da34790-ca46-4e5d-8935-2987ffe3c88d\",\"type\":\"Legend\"},{\"attributes\":{\"line_alpha\":0.5,\"line_color\":\"#984ea3\",\"line_width\":1.5,\"x\":{\"field\":\"x\"},\"y\":{\"field\":\"y\"}},\"id\":\"dfbd9e3f-6716-4881-a20e-f7c3731de387\",\"type\":\"Line\"},{\"attributes\":{\"active_drag\":\"auto\",\"active_inspect\":\"auto\",\"active_scroll\":\"auto\",\"active_tap\":\"auto\",\"tools\":[{\"id\":\"47515b46-f9f1-4bf7-b273-9c4ed548a4b7\",\"type\":\"PanTool\"},{\"id\":\"ee711a14-93a7-4f47-af0d-db001b7665c1\",\"type\":\"WheelZoomTool\"},{\"id\":\"67eaf25f-829b-43ad-bf6b-81f1b3caeb8b\",\"type\":\"BoxZoomTool\"},{\"id\":\"e8747a8c-5412-4c36-8038-1812f4838a22\",\"type\":\"SaveTool\"},{\"id\":\"7171d95a-b3a8-449b-b50a-67307a2df196\",\"type\":\"ResetTool\"},{\"id\":\"7f67f3f3-35b5-4abb-8345-3644a0ee18d2\",\"type\":\"HelpTool\"}]},\"id\":\"67fceaca-dd5a-4967-ba8b-8599feaa40c7\",\"type\":\"Toolbar\"},{\"attributes\":{\"data_source\":{\"id\":\"7a491daf-bc94-44c9-b8e1-06825ce4137e\",\"type\":\"ColumnDataSource\"},\"glyph\":{\"id\":\"dfbd9e3f-6716-4881-a20e-f7c3731de387\",\"type\":\"Line\"},\"hover_glyph\":null,\"muted_glyph\":null,\"nonselection_glyph\":{\"id\":\"cba2f103-bb0a-490e-9f6d-1f310fdebad1\",\"type\":\"Line\"},\"selection_glyph\":null,\"view\":{\"id\":\"37bc099b-adda-49de-a421-7ce86db1cf41\",\"type\":\"CDSView\"}},\"id\":\"c68158e3-d1f7-4cf8-aa7f-4ae575761d81\",\"type\":\"GlyphRenderer\"},{\"attributes\":{\"fill_alpha\":{\"value\":0.1},\"fill_color\":{\"value\":\"#1f77b4\"},\"line_alpha\":{\"value\":0.1},\"line_color\":{\"value\":\"#1f77b4\"},\"x\":{\"field\":\"x\"},\"y\":{\"field\":\"y\"}},\"id\":\"ec8d9e76-7382-48f6-9c92-b8a5c2eba5a3\",\"type\":\"Circle\"},{\"attributes\":{},\"id\":\"cabe67b3-6c98-44f0-92f5-0f2bfbb8b8cf\",\"type\":\"Selection\"},{\"attributes\":{\"data_source\":{\"id\":\"5b3efa2a-1de2-47fe-9be0-e4e6dcb013b5\",\"type\":\"ColumnDataSource\"},\"glyph\":{\"id\":\"c69814b8-c26c-43ff-926d-d1a67f11477f\",\"type\":\"Line\"},\"hover_glyph\":null,\"muted_glyph\":null,\"nonselection_glyph\":{\"id\":\"56013118-62a8-4f63-95d5-edf3d5f1bfb5\",\"type\":\"Line\"},\"selection_glyph\":null,\"view\":{\"id\":\"10c5c144-0e09-42c7-919c-64ebfc299a07\",\"type\":\"CDSView\"}},\"id\":\"0dbe0dba-c1dc-45ae-9623-5d2ec93988fe\",\"type\":\"GlyphRenderer\"},{\"attributes\":{\"callback\":null,\"data\":{\"x\":{\"__ndarray__\":\"MXhf+wfXU0AZbvNjswdFQLQWsEQVdUFA5TlpnhT9QUB/x1dOYK05QImjxHmcEjZA9jYDSBB3L0AISPl4H6wqQBPuuwfAzyJAOcHprUZAIUB7WWpkesAXQJoT1Uq+ChVArO/8u0EXCkBgVNlshzgCQMeNQ+Nzu/I/POwv1Qzh+D9QxMRmcj8DQOrE7tC4mAxAQsLBRIlHEkAi4cPYoDEXQEeDpjRjzB1ASZ0GEfCuI0DVFj11sssnQOMiVKSMHyhAWRHvUxNoJEDo8cjD4g8gQLGGvR2NDRpAdpI3nV5oFECtyWH9Lp4QQIZQd9bvmwtAkshlnu1BBkBMysnQf1UAQHZJU/DYZ/c/HoEhV+G48T/rSm4vc/TmP3EgV4cD49g/xmy6+4w7zz+bEsjh3uDDPw5SRMRogKs/4GPKdPc1a78lazVXN1vCP/B84ODeUug/LOyxgXDV9z+/DBHyZAwAQAOIY+fy/QFAahF3XKCUAECV0GHvGsz+P+X4k4Nhvf0/RO/IqI98/T8rkW+v/zT9P59vGMDsAv0/zEX7plCY/D/E3siS8kj7P2yUMv+hDvs/RmrXDaYs+z+c9f5GCO36P58nVCbr7vo/Qus8hbcy/D+rD5hFMCf9P4t6dxofnPw/bRp4QYZ2/D/q8NNiN2b8P5YTVw9ESPw/l1Dy0X/K+j+WKih3ZdD5P2k8OYxHjvk/hceGh5N4+T8lpPahWSn5P6vJnePt4vY/UuhmxnXI9T8miFqdE+D0Pz7qfx5CR/Q/0khvq2US9D9LfVdHQGv0P9syeEmwYfg/\",\"dtype\":\"float64\",\"shape\":[75]},\"y\":{\"__ndarray__\":\"hLndy31yND/6fmq8dJNIP8n9DkWBPlE/aDum7souWD/b4a/JGvVgP9f34SAhymc/ZvM4DOavcD+z0M5pFmh3PxuC4zJuaoA/xjcUPlsHhz8uHAjJAiaQP9ieWRKgppY/oI7HDFTGnz+a5h2n6EimPzS6g9iZQq8/IuAQqtTstT9SSZ2AJsK+P4nS3uALk8U/ih9j7lpCzj+ASL99HTjVP4enV8oyxN0/ACL99nXg5D9fmEwVjErtPyUGgZVDi/Q/AiuHFtnO/D9OYhBYOTQEQPHSTWIQWAxA4XoUrkfhE0D8qfHSTeIbQMh2vp8ajyNArkfhehRuK0Bcj8L1KDwzQFyPwvUo/DpAPgrXo3DtQkDNzMzMzIxKQClcj8L1eFJAKVyPwvVoWECamZmZmVleQGZmZmZmJmJAAAAAAAAgZUCamZmZmRloQJqZmZmZEWtAmpmZmZkJbkCamZmZmYFwQGZmZmZm/nFAZmZmZmZ6c0BmZmZmZvZ0QDQzMzMzc3ZAAAAAAADwd0AAAAAAAGx5QAAAAAAA6HpAzMzMzMxkfEDMzMzMzOB9QM3MzMzMXH9AzczMzMxsgEAzMzMzMyuBQDMzMzMz6YFAMzMzMzOngkCamZmZmWWDQAAAAAAAJIRAAAAAAADihEAAAAAAAKCFQGZmZmZmXoZAzczMzMwch0DNzMzMzNqHQM3MzMzMmIhAMzMzMzNXiUCamZmZmRWKQAAAAAAA1IpAAAAAAACSi0AAAAAAAFCMQGZmZmZmDo1AzczMzMzMjUDNzMzMzIqOQM3MzMzMSI9A\",\"dtype\":\"float64\",\"shape\":[75]}},\"selected\":{\"id\":\"40f92197-77aa-42f6-86c0-dbe6449056cc\",\"type\":\"Selection\"},\"selection_policy\":{\"id\":\"2a50fe5d-82b0-452c-a321-8e88d4488601\",\"type\":\"UnionRenderers\"}},\"id\":\"5322f9af-59d7-4909-9deb-4b29e00d38f4\",\"type\":\"ColumnDataSource\"},{\"attributes\":{\"source\":{\"id\":\"7a491daf-bc94-44c9-b8e1-06825ce4137e\",\"type\":\"ColumnDataSource\"}},\"id\":\"37bc099b-adda-49de-a421-7ce86db1cf41\",\"type\":\"CDSView\"},{\"attributes\":{\"callback\":null,\"data\":{\"x\":{\"__ndarray__\":\"cm1sTMT3VEDEyvjosEJHQOKI6DjzCUNArgQWV9awPkB9Lm8XG3M4QEz+Qv6iYzNA7eV8HaPLLkCX1QHyTpMoQFBmYSYetiNAUB04GtGpH0AmFyVE5j8ZQJca9QPGqBNALJP+OOHHDEBNxaf7QF8AQKtislomWuw/cW2dcO6A9T/uJJvfPu0EQIaQLTI/JQ1AxGiII+PmEkCJvfVeuCsYQD6ZBhGbHB9AXQw69DTYJEAsubcwKucqQNuT9D5OmipAJyi3szEJJUBlNebh5WkgQDDcPHBr2xlArtlANXuQFEBdJadFHckQQI2Avh0ZsQtAjYiwt1rsBUCL0SDoVBgAQK6C0nEEjvc/CggLSme58T9sXU2orFPnP0v0JYz9Gdg/vT38vxYczD9nBQTe6kHHP1IhkEXJwKo/8OZnhCVAub+xtVgCpmqzP6DUpY6g0+k/PKK3T1h4+D8RTDjQc1EAQG/dAQs7TwJAQt2eHpPLAEBWEh074x//PyCap9ZSGf4/rEzaTySm/T+7aXhHRmr9P688KeqeNP0/ruZ4EemD/D8olrZcn9T7P0+vNc9hW/s/i9VVL+4P+z+0NzC24uz6P8731Kza8vo/xFf4SHzq+z+gYyHpvHb8P68ROkiFevw/BAjYdCga/D8AUp8VbW77P3JrF/nKmvo/qCQeGfq++T/dplwHJfn4P2G4p+Uva/g/OzZ0RqMZ+D8dmn/iar73P/OuA7Ka8PY/gaaeQHGn9T9hkyjAH1L0P3aZGhdAU/M/n8VP/g7P8j+90HxHNvfyPwhNBtgrqvk/\",\"dtype\":\"float64\",\"shape\":[75]},\"y\":{\"__ndarray__\":\"GhExyth1ND/Sv8nbtpRIP2vylNV0PVE/aTum7souWD/At0SJ8fVgPw3Iuahxymc/MSNhhJWvcD/bTfBN02d3P2zb5nxnaoA/CD5h5MAGhz8NmeH1TyaQP+zrCsc9p5Y/LbKd76fGnz/bLW5ISEmmPww9YvTcQq8/JV2OstnstT8Er5Y7M8G+P0c+r3jqkcU/5h99k6ZBzj88bCIzFzjVP4enV8oyxN0//yH99nXg5D8qOpLLf0jtP5kqGJXUifQ/c9cS8kHP/D+/DpwzojQEQIEmwoanVwxA4lgXt9HgE0BSSZ2AJuIbQAMJih9jjiNA5q4l5INuK0AwTKYKRj0zQNv5fmq8/DpAaCJseHrtQkB/+zpwzoxKQM3MzMzMeFJAZmZmZmZqWEAAAAAAAFxeQM3MzMzMJmJAmpmZmZkfZUBmZmZmZhhoQDMzMzMzEWtAAAAAAAAKbkBmZmZmZoFwQM3MzMzM/XFAMzMzMzN6c0CamZmZmfZ0QAAAAAAAc3ZAZmZmZmbvd0DNzMzMzGt5QDMzMzMz6HpAmpmZmZlkfEAAAAAAAOF9QGZmZmZmXX9AZmZmZuZsgECamZmZGSuBQM3MzMxM6YFAAAAAAICngkAzMzMzs2WDQGZmZmbmI4RAmpmZmRnihEDNzMzMTKCFQAAAAACAXoZAMzMzM7Mch0BmZmZm5tqHQJqZmZkZmYhAzczMzExXiUAAAAAAgBWKQDMzMzOz04pAZmZmZuaRi0CamZmZGVCMQM3MzMxMDo1AAAAAAIDMjUAzMzMzs4qOQGZmZmbmSI9A\",\"dtype\":\"float64\",\"shape\":[75]}},\"selected\":{\"id\":\"692b3474-c267-43e1-9b22-de432b5a3ea8\",\"type\":\"Selection\"},\"selection_policy\":{\"id\":\"203bdba5-5764-461a-8c19-60bad1e3d1bc\",\"type\":\"UnionRenderers\"}},\"id\":\"b50cff33-e06a-4de5-b89c-0ef760e67b4f\",\"type\":\"ColumnDataSource\"},{\"attributes\":{\"label\":{\"value\":\"old CLIRAD (H2012) - CRD\"},\"renderers\":[{\"id\":\"73c2bc87-e4a2-457a-8a96-bf1fbc57eb9b\",\"type\":\"GlyphRenderer\"}]},\"id\":\"fe0623d5-cd23-4791-b4c4-331b1cf26c7b\",\"type\":\"LegendItem\"},{\"attributes\":{},\"id\":\"38511160-e460-4305-ac40-ec81f3dee32d\",\"type\":\"WheelZoomTool\"},{\"attributes\":{},\"id\":\"e73d77d4-0272-4838-ad01-bd0ac583d82b\",\"type\":\"BasicTickFormatter\"},{\"attributes\":{\"source\":{\"id\":\"5322f9af-59d7-4909-9deb-4b29e00d38f4\",\"type\":\"ColumnDataSource\"}},\"id\":\"3cb279ee-f4f1-4d67-8f0a-9ccc372fe16a\",\"type\":\"CDSView\"},{\"attributes\":{\"callback\":null,\"data\":{\"x\":{\"__ndarray__\":\"MXhf+wfXU0AZbvNjswdFQLQWsEQVdUFA5TlpnhT9QUB/x1dOYK05QImjxHmcEjZA9jYDSBB3L0AISPl4H6wqQBPuuwfAzyJAOcHprUZAIUB7WWpkesAXQJoT1Uq+ChVArO/8u0EXCkBgVNlshzgCQMeNQ+Nzu/I/POwv1Qzh+D9QxMRmcj8DQOrE7tC4mAxAQsLBRIlHEkAi4cPYoDEXQEeDpjRjzB1ASZ0GEfCuI0DVFj11sssnQOMiVKSMHyhAWRHvUxNoJEDo8cjD4g8gQLGGvR2NDRpAdpI3nV5oFECtyWH9Lp4QQIZQd9bvmwtAkshlnu1BBkBMysnQf1UAQHZJU/DYZ/c/HoEhV+G48T/rSm4vc/TmP3EgV4cD49g/xmy6+4w7zz+bEsjh3uDDPw5SRMRogKs/4GPKdPc1a78lazVXN1vCP/B84ODeUug/LOyxgXDV9z+/DBHyZAwAQAOIY+fy/QFAahF3XKCUAECV0GHvGsz+P+X4k4Nhvf0/RO/IqI98/T8rkW+v/zT9P59vGMDsAv0/zEX7plCY/D/E3siS8kj7P2yUMv+hDvs/RmrXDaYs+z+c9f5GCO36P58nVCbr7vo/Qus8hbcy/D+rD5hFMCf9P4t6dxofnPw/bRp4QYZ2/D/q8NNiN2b8P5YTVw9ESPw/l1Dy0X/K+j+WKih3ZdD5P2k8OYxHjvk/hceGh5N4+T8lpPahWSn5P6vJnePt4vY/UuhmxnXI9T8miFqdE+D0Pz7qfx5CR/Q/0khvq2US9D9LfVdHQGv0P9syeEmwYfg/\",\"dtype\":\"float64\",\"shape\":[75]},\"y\":{\"__ndarray__\":\"hLndy31yND/6fmq8dJNIP8n9DkWBPlE/aDum7souWD/b4a/JGvVgP9f34SAhymc/ZvM4DOavcD+z0M5pFmh3PxuC4zJuaoA/xjcUPlsHhz8uHAjJAiaQP9ieWRKgppY/oI7HDFTGnz+a5h2n6EimPzS6g9iZQq8/IuAQqtTstT9SSZ2AJsK+P4nS3uALk8U/ih9j7lpCzj+ASL99HTjVP4enV8oyxN0/ACL99nXg5D9fmEwVjErtPyUGgZVDi/Q/AiuHFtnO/D9OYhBYOTQEQPHSTWIQWAxA4XoUrkfhE0D8qfHSTeIbQMh2vp8ajyNArkfhehRuK0Bcj8L1KDwzQFyPwvUo/DpAPgrXo3DtQkDNzMzMzIxKQClcj8L1eFJAKVyPwvVoWECamZmZmVleQGZmZmZmJmJAAAAAAAAgZUCamZmZmRloQJqZmZmZEWtAmpmZmZkJbkCamZmZmYFwQGZmZmZm/nFAZmZmZmZ6c0BmZmZmZvZ0QDQzMzMzc3ZAAAAAAADwd0AAAAAAAGx5QAAAAAAA6HpAzMzMzMxkfEDMzMzMzOB9QM3MzMzMXH9AzczMzMxsgEAzMzMzMyuBQDMzMzMz6YFAMzMzMzOngkCamZmZmWWDQAAAAAAAJIRAAAAAAADihEAAAAAAAKCFQGZmZmZmXoZAzczMzMwch0DNzMzMzNqHQM3MzMzMmIhAMzMzMzNXiUCamZmZmRWKQAAAAAAA1IpAAAAAAACSi0AAAAAAAFCMQGZmZmZmDo1AzczMzMzMjUDNzMzMzIqOQM3MzMzMSI9A\",\"dtype\":\"float64\",\"shape\":[75]}},\"selected\":{\"id\":\"494286a3-da8c-48e6-b7a8-317298434eda\",\"type\":\"Selection\"},\"selection_policy\":{\"id\":\"bae85c4b-1b19-4866-9f7f-dd0b5f1478a3\",\"type\":\"UnionRenderers\"}},\"id\":\"7a491daf-bc94-44c9-b8e1-06825ce4137e\",\"type\":\"ColumnDataSource\"},{\"attributes\":{\"num_minor_ticks\":10},\"id\":\"7ce24904-af5f-439e-b9f0-2319fdb89fb1\",\"type\":\"LogTicker\"},{\"attributes\":{},\"id\":\"5c0ff834-8b9d-408f-b37c-2891d92bc8bb\",\"type\":\"LogScale\"},{\"attributes\":{\"plot\":{\"id\":\"6aca8675-cd7c-4c14-9912-f5387254d44b\",\"subtype\":\"Figure\",\"type\":\"Plot\"},\"ticker\":{\"id\":\"d24d0315-610a-499b-b7e3-c017db03ed45\",\"type\":\"BasicTicker\"}},\"id\":\"41bd359f-7794-4cb3-98ec-0f553948767c\",\"type\":\"Grid\"},{\"attributes\":{\"data_source\":{\"id\":\"5322f9af-59d7-4909-9deb-4b29e00d38f4\",\"type\":\"ColumnDataSource\"},\"glyph\":{\"id\":\"6b2e6f61-9e00-4f83-b181-89902ba13203\",\"type\":\"Square\"},\"hover_glyph\":null,\"muted_glyph\":null,\"nonselection_glyph\":{\"id\":\"e6a7cb3e-80d1-4747-8ccc-214424d46a16\",\"type\":\"Square\"},\"selection_glyph\":null,\"view\":{\"id\":\"3cb279ee-f4f1-4d67-8f0a-9ccc372fe16a\",\"type\":\"CDSView\"}},\"id\":\"4cf8d15a-39eb-4496-9221-a941e567f47e\",\"type\":\"GlyphRenderer\"},{\"attributes\":{\"line_color\":\"#4daf4a\",\"line_width\":1.5,\"x\":{\"field\":\"x\"},\"y\":{\"field\":\"y\"}},\"id\":\"fcd4cbaf-4216-4e23-9260-5271138d8a27\",\"type\":\"Line\"},{\"attributes\":{\"callback\":null,\"end\":0.01,\"start\":1020},\"id\":\"f7c2735e-ed0a-4e39-9c04-1469bc8758d3\",\"type\":\"Range1d\"},{\"attributes\":{\"label\":{\"value\":\"CLIRAD (single-run) - CRD\"},\"renderers\":[{\"id\":\"8e68088b-712c-414d-b6af-03118df14518\",\"type\":\"GlyphRenderer\"},{\"id\":\"5a9d48ac-fc58-4532-bffb-c587452ed4e3\",\"type\":\"GlyphRenderer\"}]},\"id\":\"258ff8ce-cf32-4206-b502-3a5bdf058264\",\"type\":\"LegendItem\"},{\"attributes\":{},\"id\":\"d24d0315-610a-499b-b7e3-c017db03ed45\",\"type\":\"BasicTicker\"},{\"attributes\":{\"fill_alpha\":{\"value\":0.7},\"fill_color\":{\"value\":\"#4daf4a\"},\"line_alpha\":{\"value\":0.7},\"line_color\":{\"value\":\"#4daf4a\"},\"x\":{\"field\":\"x\"},\"y\":{\"field\":\"y\"}},\"id\":\"c386a55a-114a-4bd5-bd75-24dc310e201f\",\"type\":\"Circle\"},{\"attributes\":{},\"id\":\"6039a21f-7b0a-4d80-b383-a499d2f45c8d\",\"type\":\"SaveTool\"},{\"attributes\":{\"callback\":null,\"data\":{\"x\":{\"__ndarray__\":\"oGsWFOcWRMAMO53n/6ogwD3viZgKZgLA/QYLKQLU/D8kxx1hxGkOQMQ0+uZxzQ5AVNhXd+QeBEAOfWNUzSflP8Ab6dWes+m/+NL3xc/V9b/FaMqELYjxv9IJsBTPId+/TcZOEIimsD/RlBh077XZP+5CgCXcI98/xk80a5U21D+mvbpH91KhP0I7juACtdC/1aw+HWoz4L+eELp8N6Pgv46j72rX7tG/sPOr1cQ1eb8yylG8HeyqvzLdYsjI0NO/iNtWXRBP17+iXw8BsSGxvwV3o383itg/95efVY5T1z8Wf4KYaOC3Pxz4JWCS45c/xGzh7qDj0D/z9Jq0lJzVP9S9cwqzvcM/ncXJA03snL/+DCuavWFzP5gifvItdK4/6ix5O2qXfj/VIxwFX/CrvyFUz3G74La/my7Kb2SHub/iQ7MhNea1vxA1JmSLibC/ec3xKLA2r7/CQWKSSD+dv/kBCet07ba/jdOl0S2ZuL/hF/AL7Yurv4nkUKY76K6/oQAAbI22s7/sel+r8Oayv1lPEDkNp6u/hX6dcBWzor/B7Z2I616YvxIFFivn5ZS/kePwCZ6plL+En8uXwV+Zv6r8aguhXJu/hY8q3THCk78YErbXNlBWP49H38C+f6A/WwZhsThqrD+Qb3Iuc+mtP/D2ZI59eqU/qxypqzTKlT/wr1QOo+RZP+CjI8tNBUE/JP80BLOBgT9iFteBPlSeP2eXidFcb6g/plqmh+qrrz+CO88mJx2yP91eBcEyWbM/pmiOXiQjtD+1cER8wdW0P/GeJNn6VLQ/\",\"dtype\":\"float64\",\"shape\":[75]},\"y\":{\"__ndarray__\":\"GhExyth1ND/Sv8nbtpRIP2vylNV0PVE/aTum7souWD/At0SJ8fVgPw3Iuahxymc/MSNhhJWvcD/bTfBN02d3P2zb5nxnaoA/CD5h5MAGhz8NmeH1TyaQP+zrCsc9p5Y/LbKd76fGnz/bLW5ISEmmPww9YvTcQq8/JV2OstnstT8Er5Y7M8G+P0c+r3jqkcU/5h99k6ZBzj88bCIzFzjVP4enV8oyxN0//yH99nXg5D8qOpLLf0jtP5kqGJXUifQ/c9cS8kHP/D+/DpwzojQEQIEmwoanVwxA4lgXt9HgE0BSSZ2AJuIbQAMJih9jjiNA5q4l5INuK0AwTKYKRj0zQNv5fmq8/DpAaCJseHrtQkB/+zpwzoxKQM3MzMzMeFJAZmZmZmZqWEAAAAAAAFxeQM3MzMzMJmJAmpmZmZkfZUBmZmZmZhhoQDMzMzMzEWtAAAAAAAAKbkBmZmZmZoFwQM3MzMzM/XFAMzMzMzN6c0CamZmZmfZ0QAAAAAAAc3ZAZmZmZmbvd0DNzMzMzGt5QDMzMzMz6HpAmpmZmZlkfEAAAAAAAOF9QGZmZmZmXX9AZmZmZuZsgECamZmZGSuBQM3MzMxM6YFAAAAAAICngkAzMzMzs2WDQGZmZmbmI4RAmpmZmRnihEDNzMzMTKCFQAAAAACAXoZAMzMzM7Mch0BmZmZm5tqHQJqZmZkZmYhAzczMzExXiUAAAAAAgBWKQDMzMzOz04pAZmZmZuaRi0CamZmZGVCMQM3MzMxMDo1AAAAAAIDMjUAzMzMzs4qOQGZmZmbmSI9A\",\"dtype\":\"float64\",\"shape\":[75]}},\"selected\":{\"id\":\"848ae3a8-a934-4391-81e3-322064d6bae5\",\"type\":\"Selection\"},\"selection_policy\":{\"id\":\"6bc66f86-f412-4b33-8c73-283a24ac4976\",\"type\":\"UnionRenderers\"}},\"id\":\"0c2994c6-b1ba-45cb-9769-216c7fd4eee4\",\"type\":\"ColumnDataSource\"},{\"attributes\":{\"line_alpha\":0.1,\"line_color\":\"#1f77b4\",\"line_width\":1.5,\"x\":{\"field\":\"x\"},\"y\":{\"field\":\"y\"}},\"id\":\"0b64a401-b4ee-4da6-a9b1-52556a384f01\",\"type\":\"Line\"},{\"attributes\":{\"plot\":null,\"text\":\"\"},\"id\":\"9791cf3e-6634-4687-99c8-b4e5bdbf06a8\",\"type\":\"Title\"},{\"attributes\":{\"label\":{\"value\":\"old CLIRAD (H2012)\"},\"renderers\":[{\"id\":\"ccf88984-4100-435f-8eb7-9194901489f0\",\"type\":\"GlyphRenderer\"},{\"id\":\"8facbdd5-dd3f-4fb3-b6f5-f9d1644a63a1\",\"type\":\"GlyphRenderer\"}]},\"id\":\"80aa1d68-6030-4fb6-9843-7de99f9dadbb\",\"type\":\"LegendItem\"},{\"attributes\":{\"fill_alpha\":{\"value\":0.1},\"fill_color\":{\"value\":\"#1f77b4\"},\"line_alpha\":{\"value\":0.1},\"line_color\":{\"value\":\"#1f77b4\"},\"x\":{\"field\":\"x\"},\"y\":{\"field\":\"y\"}},\"id\":\"e6a7cb3e-80d1-4747-8ccc-214424d46a16\",\"type\":\"Square\"},{\"attributes\":{\"data_source\":{\"id\":\"28921a4f-a2e5-48da-9b24-b71d2f7e14ba\",\"type\":\"ColumnDataSource\"},\"glyph\":{\"id\":\"05d5fac5-cb21-408e-aad4-773a5880b17b\",\"type\":\"Line\"},\"hover_glyph\":null,\"muted_glyph\":null,\"nonselection_glyph\":{\"id\":\"5f19c320-9578-4e0e-838c-407499d680d1\",\"type\":\"Line\"},\"selection_glyph\":null,\"view\":{\"id\":\"e8d44e4c-afe4-410a-b424-f16bcceb13e9\",\"type\":\"CDSView\"}},\"id\":\"73c2bc87-e4a2-457a-8a96-bf1fbc57eb9b\",\"type\":\"GlyphRenderer\"},{\"attributes\":{\"line_alpha\":0.1,\"line_color\":\"#1f77b4\",\"line_dash\":[6],\"line_width\":4,\"x\":{\"field\":\"x\"},\"y\":{\"field\":\"y\"}},\"id\":\"5f19c320-9578-4e0e-838c-407499d680d1\",\"type\":\"Line\"},{\"attributes\":{\"line_alpha\":0.1,\"line_color\":\"#1f77b4\",\"line_width\":1.5,\"x\":{\"field\":\"x\"},\"y\":{\"field\":\"y\"}},\"id\":\"d45a2604-fed0-4120-bad6-74e3482e9805\",\"type\":\"Line\"},{\"attributes\":{\"fill_alpha\":{\"value\":0.7},\"fill_color\":{\"value\":\"#984ea3\"},\"line_alpha\":{\"value\":0.7},\"line_color\":{\"value\":\"#984ea3\"},\"x\":{\"field\":\"x\"},\"y\":{\"field\":\"y\"}},\"id\":\"9910b883-c26f-4437-8153-f51d3e31f7b1\",\"type\":\"Circle\"},{\"attributes\":{},\"id\":\"2eadf920-6612-465f-856c-d0d2268f6ad5\",\"type\":\"Selection\"},{\"attributes\":{\"fill_alpha\":{\"value\":0.1},\"fill_color\":{\"value\":\"#1f77b4\"},\"line_alpha\":{\"value\":0.1},\"line_color\":{\"value\":\"#1f77b4\"},\"x\":{\"field\":\"x\"},\"y\":{\"field\":\"y\"}},\"id\":\"0ff64071-d055-414a-8ed7-10c35bee10d8\",\"type\":\"Circle\"},{\"attributes\":{\"callback\":null,\"end\":0.01,\"start\":1020},\"id\":\"acd1c82b-6ed0-4134-98c2-fc4a395f58dc\",\"type\":\"Range1d\"},{\"attributes\":{\"line_alpha\":0.1,\"line_color\":\"#1f77b4\",\"line_dash\":[6],\"line_width\":5,\"x\":{\"field\":\"x\"},\"y\":{\"field\":\"y\"}},\"id\":\"56013118-62a8-4f63-95d5-edf3d5f1bfb5\",\"type\":\"Line\"},{\"attributes\":{},\"id\":\"752f711a-80ca-4a6e-86d2-a9a890442e02\",\"type\":\"UnionRenderers\"},{\"attributes\":{\"callback\":null,\"data\":{\"x\":{\"__ndarray__\":\"QW/ChKHYRUABfBHv8BdDQO7pX4+S40FAjlrTPAs/QEBi55KjU0A8QOVEIjtRPTdAAW6pHa7pMUBoDUjHy+UpQJPUAjnkGiJAkii6KF00GkDyfPLi2t0UQPkZqhKpthFAXgmBeRVNDUDo1yrq/pUDQBJCuTYK9vU/YoFqy5OO+j/mD7q8ijIFQB7JG9aeDgtAKZPg33XgEEB3e15vURcWQASfV5qt/R1A31afOw7VJEBkZ/sSPswqQPJ8sfjH+ylASXHMMLlOJECnFuR/okcgQKATN+gOZBtALtOaGrQFFkBYLwnonigRQH3MfkLg4AtAJbaM1c4ICEAqMLR+58sCQGn6INO6Bfo/9OD7FbZF8T+Hs4EjcHrnP564dUqD6Ns/JQfYEdIQzT9x/Lwc00XAP+SGDp6tAKO/xAoZ+sRjyb+ScdT6eNyDv/4NISJvwuc/0BNwzqJ+9z+OhxM/9RYAQGCVqWPPlwFApa4RsMkGAECakb3Sg0P+P/wSdfkQIv0/okwaebtq/D8NcsI81zv8PzS6YIBmV/w/t/rzZVDu+z9vHpSuI3P7PzxXiTLKB/s/+xEut0e9+j80CdGvY4f6P91Lpyhohfo/hq2DgXOb+z8jUdf2UHz8P+0LQT6D/vw/NxBjOnr9/D975RKvuF38PyqTiuWeRvs/G8nM6yIW+j8IPCAwnv/4P9UcYY9Qbfg/OqB8rKY8+D929obcuzf4P6/7j5gVtPc/VtnblNCk9j8Yh5Uy8nP1P2TvKkPTiPQ/Kaw4REER9D/JF0FfkkT0P/aWmIV77/o/\",\"dtype\":\"float64\",\"shape\":[75]},\"y\":{\"__ndarray__\":\"GhExyth1ND/Sv8nbtpRIP2vylNV0PVE/aTum7souWD/At0SJ8fVgPw3Iuahxymc/MSNhhJWvcD/bTfBN02d3P2zb5nxnaoA/CD5h5MAGhz8NmeH1TyaQP+zrCsc9p5Y/LbKd76fGnz/bLW5ISEmmPww9YvTcQq8/JV2OstnstT8Er5Y7M8G+P0c+r3jqkcU/5h99k6ZBzj88bCIzFzjVP4enV8oyxN0//yH99nXg5D8qOpLLf0jtP5kqGJXUifQ/c9cS8kHP/D+/DpwzojQEQIEmwoanVwxA4lgXt9HgE0BSSZ2AJuIbQAMJih9jjiNA5q4l5INuK0AwTKYKRj0zQNv5fmq8/DpAaCJseHrtQkB/+zpwzoxKQM3MzMzMeFJAZmZmZmZqWEAAAAAAAFxeQM3MzMzMJmJAmpmZmZkfZUBmZmZmZhhoQDMzMzMzEWtAAAAAAAAKbkBmZmZmZoFwQM3MzMzM/XFAMzMzMzN6c0CamZmZmfZ0QAAAAAAAc3ZAZmZmZmbvd0DNzMzMzGt5QDMzMzMz6HpAmpmZmZlkfEAAAAAAAOF9QGZmZmZmXX9AZmZmZuZsgECamZmZGSuBQM3MzMxM6YFAAAAAAICngkAzMzMzs2WDQGZmZmbmI4RAmpmZmRnihEDNzMzMTKCFQAAAAACAXoZAMzMzM7Mch0BmZmZm5tqHQJqZmZkZmYhAzczMzExXiUAAAAAAgBWKQDMzMzOz04pAZmZmZuaRi0CamZmZGVCMQM3MzMxMDo1AAAAAAIDMjUAzMzMzs4qOQGZmZmbmSI9A\",\"dtype\":\"float64\",\"shape\":[75]}},\"selected\":{\"id\":\"cabe67b3-6c98-44f0-92f5-0f2bfbb8b8cf\",\"type\":\"Selection\"},\"selection_policy\":{\"id\":\"752f711a-80ca-4a6e-86d2-a9a890442e02\",\"type\":\"UnionRenderers\"}},\"id\":\"5b3efa2a-1de2-47fe-9be0-e4e6dcb013b5\",\"type\":\"ColumnDataSource\"},{\"attributes\":{\"line_alpha\":0.5,\"line_color\":\"#377eb8\",\"line_dash\":[6],\"line_width\":4,\"x\":{\"field\":\"x\"},\"y\":{\"field\":\"y\"}},\"id\":\"05d5fac5-cb21-408e-aad4-773a5880b17b\",\"type\":\"Line\"},{\"attributes\":{\"plot\":{\"id\":\"162e79e9-0a13-4b70-901b-011bf922bb7c\",\"subtype\":\"Figure\",\"type\":\"Plot\"},\"ticker\":{\"id\":\"c981262b-789c-4401-8079-4e1fb05ab571\",\"type\":\"BasicTicker\"}},\"id\":\"508f723e-30c9-4878-976f-02fc3ccf53f8\",\"type\":\"Grid\"},{\"attributes\":{\"line_alpha\":0.6,\"line_color\":\"#377eb8\",\"line_dash\":[6],\"line_width\":5,\"x\":{\"field\":\"x\"},\"y\":{\"field\":\"y\"}},\"id\":\"c69814b8-c26c-43ff-926d-d1a67f11477f\",\"type\":\"Line\"},{\"attributes\":{},\"id\":\"bfcf2f56-4a95-4020-b6ad-f9089fbb68a3\",\"type\":\"UnionRenderers\"},{\"attributes\":{},\"id\":\"de0af210-950c-4158-a7b2-94e68cb74ee1\",\"type\":\"Selection\"},{\"attributes\":{},\"id\":\"47c60103-6d0a-4e1d-83d2-2526036d89cb\",\"type\":\"UnionRenderers\"}],\"root_ids\":[\"b5b3ec7b-b04e-4afa-bce6-9a179960d225\"]},\"title\":\"Bokeh Application\",\"version\":\"0.12.16\"}};\n",
       "  var render_items = [{\"docid\":\"37859aa4-c9b1-4d97-8682-5b35ddfab7f3\",\"elementid\":\"d5863d9e-c5f3-4b3b-a153-eb50c93384da\",\"modelid\":\"b5b3ec7b-b04e-4afa-bce6-9a179960d225\"}];\n",
       "  root.Bokeh.embed.embed_items_notebook(docs_json, render_items);\n",
       "\n",
       "  }\n",
       "  if (root.Bokeh !== undefined) {\n",
       "    embed_document(root);\n",
       "  } else {\n",
       "    var attempts = 0;\n",
       "    var timer = setInterval(function(root) {\n",
       "      if (root.Bokeh !== undefined) {\n",
       "        embed_document(root);\n",
       "        clearInterval(timer);\n",
       "      }\n",
       "      attempts++;\n",
       "      if (attempts > 100) {\n",
       "        console.log(\"Bokeh: ERROR: Unable to run BokehJS code because BokehJS library is missing\")\n",
       "        clearInterval(timer);\n",
       "      }\n",
       "    }, 10, root)\n",
       "  }\n",
       "})(window);"
      ],
      "application/vnd.bokehjs_exec.v0+json": ""
     },
     "metadata": {
      "application/vnd.bokehjs_exec.v0+json": {
       "id": "b5b3ec7b-b04e-4afa-bce6-9a179960d225"
      }
     },
     "output_type": "display_data"
    },
    {
     "data": {
      "text/markdown": [
       "*FIGURE.* Cooling rates & difference."
      ],
      "text/plain": [
       "<IPython.core.display.Markdown object>"
      ]
     },
     "metadata": {},
     "output_type": "display_data"
    },
    {
     "data": {
      "text/html": [
       "<a id=\"Fluxes._mls.\"></a>"
      ],
      "text/plain": [
       "<IPython.core.display.HTML object>"
      ]
     },
     "metadata": {},
     "output_type": "display_data"
    },
    {
     "data": {
      "text/markdown": [
       "# Fluxes. mls."
      ],
      "text/plain": [
       "<IPython.core.display.Markdown object>"
      ]
     },
     "metadata": {},
     "output_type": "display_data"
    },
    {
     "data": {
      "text/html": [
       "\n",
       "<div class=\"bk-root\">\n",
       "    <div class=\"bk-plotdiv\" id=\"ac30f7e1-8e9f-4c26-aa30-bdd23fb279f5\"></div>\n",
       "</div>"
      ]
     },
     "metadata": {},
     "output_type": "display_data"
    },
    {
     "data": {
      "application/javascript": [
       "(function(root) {\n",
       "  function embed_document(root) {\n",
       "    \n",
       "  var docs_json = {\"2a751ae5-5d5f-47b4-be42-cdae14f82399\":{\"roots\":{\"references\":[{\"attributes\":{\"children\":[{\"id\":\"db9833d0-3664-475a-978b-1f71b82ef22b\",\"type\":\"ToolbarBox\"},{\"id\":\"298c6524-9e08-4dd8-8b01-67ece90b321d\",\"type\":\"Column\"}]},\"id\":\"ac2be6db-5b5f-4c24-86fe-9234067e74bb\",\"type\":\"Column\"},{\"attributes\":{\"data_source\":{\"id\":\"0bc3b542-d2f8-4db6-984b-07b59970a0f8\",\"type\":\"ColumnDataSource\"},\"glyph\":{\"id\":\"c1c8a3e4-9d0c-497c-ab3f-b0b6b77d8514\",\"type\":\"VBar\"},\"hover_glyph\":null,\"muted_glyph\":null,\"nonselection_glyph\":{\"id\":\"f4f27bec-9325-49d3-a3d0-70fe6d3849cb\",\"type\":\"VBar\"},\"selection_glyph\":null,\"view\":{\"id\":\"30d7bdb0-3359-4b9b-a95b-88009a1ce932\",\"type\":\"CDSView\"}},\"id\":\"23fe4bce-d96f-4465-b2da-67cd70bb2e2b\",\"type\":\"GlyphRenderer\"},{\"attributes\":{},\"id\":\"58a700d5-9873-46c5-8200-b60952643e55\",\"type\":\"HelpTool\"},{\"attributes\":{},\"id\":\"8212de5f-4a36-484a-b935-fe211b913645\",\"type\":\"BasicTicker\"},{\"attributes\":{},\"id\":\"dd68c73b-8479-4391-be5e-08002ff93687\",\"type\":\"UnionRenderers\"},{\"attributes\":{\"dimension\":1,\"plot\":{\"id\":\"85721bc6-a27d-467a-9031-a38200e1c175\",\"subtype\":\"Figure\",\"type\":\"Plot\"},\"ticker\":{\"id\":\"8212de5f-4a36-484a-b935-fe211b913645\",\"type\":\"BasicTicker\"}},\"id\":\"688b8257-ab52-42a4-bb66-4348baaadc3a\",\"type\":\"Grid\"},{\"attributes\":{},\"id\":\"d234f9d8-1bd5-4b3b-9cff-b2216ca34d4d\",\"type\":\"CategoricalTickFormatter\"},{\"attributes\":{\"axis_label\":\"flux (W m-2)\",\"formatter\":{\"id\":\"dd9e18ae-ed98-466c-b295-aaa4d910fa1d\",\"type\":\"BasicTickFormatter\"},\"plot\":{\"id\":\"85721bc6-a27d-467a-9031-a38200e1c175\",\"subtype\":\"Figure\",\"type\":\"Plot\"},\"ticker\":{\"id\":\"8212de5f-4a36-484a-b935-fe211b913645\",\"type\":\"BasicTicker\"}},\"id\":\"c6bcf232-d7bc-4baa-aeda-ed4ce187a86b\",\"type\":\"LinearAxis\"},{\"attributes\":{},\"id\":\"e2515b0c-dacd-4791-ba67-1c018ecf8aaa\",\"type\":\"PanTool\"},{\"attributes\":{},\"id\":\"fc7a9776-19b9-4089-893e-09210d3844d1\",\"type\":\"Selection\"},{\"attributes\":{\"data_source\":{\"id\":\"0f3f4c7f-9c2a-43aa-9d59-bdcef6d06542\",\"type\":\"ColumnDataSource\"},\"glyph\":{\"id\":\"a64f1434-207e-4bf5-a4d8-75fd9edee7a2\",\"type\":\"VBar\"},\"hover_glyph\":null,\"muted_glyph\":null,\"nonselection_glyph\":{\"id\":\"0e4aeb83-28ec-44cf-b1d7-3f880bca9f72\",\"type\":\"VBar\"},\"selection_glyph\":null,\"view\":{\"id\":\"93c4c19a-163c-46eb-a811-ef2eee288e40\",\"type\":\"CDSView\"}},\"id\":\"f3e751dd-912d-426e-97e4-a099c7c70888\",\"type\":\"GlyphRenderer\"},{\"attributes\":{},\"id\":\"9b5b73c6-f1e7-4f8d-ab12-4d951e39fc57\",\"type\":\"WheelZoomTool\"},{\"attributes\":{\"axis_label\":\"spectral band\",\"formatter\":{\"id\":\"28842985-df8e-45ca-b547-3587bf3b7f69\",\"type\":\"CategoricalTickFormatter\"},\"plot\":{\"id\":\"85721bc6-a27d-467a-9031-a38200e1c175\",\"subtype\":\"Figure\",\"type\":\"Plot\"},\"ticker\":{\"id\":\"1c0b1362-6661-4845-b9a7-76cb5010d9bb\",\"type\":\"CategoricalTicker\"}},\"id\":\"23988669-a4f2-4053-9c4b-88a5f2bcaf24\",\"type\":\"CategoricalAxis\"},{\"attributes\":{},\"id\":\"aa79c829-48d0-4101-b709-9553d687ec28\",\"type\":\"Selection\"},{\"attributes\":{\"callback\":null,\"factors\":[\"1\",\"2\",\"3\",\"4\",\"5\",\"6\",\"7\",\"8\",\"9\",\"10\",\"11\"]},\"id\":\"a4bbfcc0-dfc3-4d8b-b305-8e14d8039529\",\"type\":\"FactorRange\"},{\"attributes\":{\"callback\":null,\"data\":{\"band\":[\"1\",\"2\",\"3\",\"4\",\"5\",\"6\",\"7\",\"8\",\"9\",\"10\",\"11\"],\"flux\":{\"__ndarray__\":\"AEILCRhdyD+AzEHQ0arSP0DMe5xpwtO/gGStodRe0z/ASgaAKm7QPwBwl/2607G/QKz+CMOA2D8ASdv4E5W5vwC2wvS9hpC/YNQ5UPHJwD9AvtXft8awPw==\",\"dtype\":\"float64\",\"shape\":[11]}},\"selected\":{\"id\":\"aa79c829-48d0-4101-b709-9553d687ec28\",\"type\":\"Selection\"},\"selection_policy\":{\"id\":\"dd68c73b-8479-4391-be5e-08002ff93687\",\"type\":\"UnionRenderers\"}},\"id\":\"06ae3812-a366-458a-b225-20c858cbba75\",\"type\":\"ColumnDataSource\"},{\"attributes\":{},\"id\":\"6d60fb1c-efdc-4b8a-8513-69a1e2adf6c6\",\"type\":\"CategoricalTickFormatter\"},{\"attributes\":{\"active_drag\":\"auto\",\"active_inspect\":\"auto\",\"active_scroll\":\"auto\",\"active_tap\":\"auto\",\"tools\":[{\"id\":\"71a1f16b-9a79-46e6-90fc-d9c412acac63\",\"type\":\"PanTool\"},{\"id\":\"9b5b73c6-f1e7-4f8d-ab12-4d951e39fc57\",\"type\":\"WheelZoomTool\"},{\"id\":\"c5d6de7a-d32f-4ba9-a0a7-775c0c90d51b\",\"type\":\"BoxZoomTool\"},{\"id\":\"63e60f09-9053-4212-85f7-530a4a768ed1\",\"type\":\"SaveTool\"},{\"id\":\"350c170a-bcbf-40f9-82e8-c3429a8399fc\",\"type\":\"ResetTool\"},{\"id\":\"58a700d5-9873-46c5-8200-b60952643e55\",\"type\":\"HelpTool\"}]},\"id\":\"1f893890-a009-4f59-8d33-fc885628aa57\",\"type\":\"Toolbar\"},{\"attributes\":{},\"id\":\"28842985-df8e-45ca-b547-3587bf3b7f69\",\"type\":\"CategoricalTickFormatter\"},{\"attributes\":{},\"id\":\"6fc985ab-659e-44d5-a46c-152c5de04a65\",\"type\":\"LinearScale\"},{\"attributes\":{},\"id\":\"ec45ce17-ee91-409b-b33f-722bb1c288e4\",\"type\":\"CategoricalScale\"},{\"attributes\":{\"overlay\":{\"id\":\"6a717317-b99d-4b9c-8386-808768bef01a\",\"type\":\"BoxAnnotation\"}},\"id\":\"c5d6de7a-d32f-4ba9-a0a7-775c0c90d51b\",\"type\":\"BoxZoomTool\"},{\"attributes\":{\"callback\":null},\"id\":\"76d7af19-6b7c-4674-a224-fd99f99b78dc\",\"type\":\"DataRange1d\"},{\"attributes\":{\"fill_color\":{\"value\":\"#1f77b4\"},\"line_color\":{\"value\":\"#1f77b4\"},\"top\":{\"field\":\"flux\"},\"width\":{\"value\":0.9},\"x\":{\"field\":\"band\"}},\"id\":\"a64f1434-207e-4bf5-a4d8-75fd9edee7a2\",\"type\":\"VBar\"},{\"attributes\":{},\"id\":\"350c170a-bcbf-40f9-82e8-c3429a8399fc\",\"type\":\"ResetTool\"},{\"attributes\":{},\"id\":\"71a1f16b-9a79-46e6-90fc-d9c412acac63\",\"type\":\"PanTool\"},{\"attributes\":{\"callback\":null,\"data\":{\"band\":[\"1\",\"2\",\"3\",\"4\",\"5\",\"6\",\"7\",\"8\",\"9\",\"10\",\"11\"],\"flux\":{\"__ndarray__\":\"AIMde81dyD8AYEI3wVi1vwBYNyirM4i/ANGnfnO5zj9A+KOoM/fOvwBuLCgMysK/AHAlOzYC1z8A5hw8E5qkP8BJ06BoHsi/QL8FwBXcvT8AZ1U6DnKtPw==\",\"dtype\":\"float64\",\"shape\":[11]}},\"selected\":{\"id\":\"fc7a9776-19b9-4089-893e-09210d3844d1\",\"type\":\"Selection\"},\"selection_policy\":{\"id\":\"d8ddd440-1529-4513-a8bf-d68d082b021a\",\"type\":\"UnionRenderers\"}},\"id\":\"0f3f4c7f-9c2a-43aa-9d59-bdcef6d06542\",\"type\":\"ColumnDataSource\"},{\"attributes\":{\"fill_color\":{\"value\":\"#1f77b4\"},\"line_color\":{\"value\":\"#1f77b4\"},\"top\":{\"field\":\"flux\"},\"width\":{\"value\":0.9},\"x\":{\"field\":\"band\"}},\"id\":\"c1c8a3e4-9d0c-497c-ab3f-b0b6b77d8514\",\"type\":\"VBar\"},{\"attributes\":{\"source\":{\"id\":\"0f3f4c7f-9c2a-43aa-9d59-bdcef6d06542\",\"type\":\"ColumnDataSource\"}},\"id\":\"93c4c19a-163c-46eb-a811-ef2eee288e40\",\"type\":\"CDSView\"},{\"attributes\":{\"bottom_units\":\"screen\",\"fill_alpha\":{\"value\":0.5},\"fill_color\":{\"value\":\"lightgrey\"},\"left_units\":\"screen\",\"level\":\"overlay\",\"line_alpha\":{\"value\":1.0},\"line_color\":{\"value\":\"black\"},\"line_dash\":[4,4],\"line_width\":{\"value\":2},\"plot\":null,\"render_mode\":\"css\",\"right_units\":\"screen\",\"top_units\":\"screen\"},\"id\":\"6a717317-b99d-4b9c-8386-808768bef01a\",\"type\":\"BoxAnnotation\"},{\"attributes\":{\"plot\":{\"id\":\"85721bc6-a27d-467a-9031-a38200e1c175\",\"subtype\":\"Figure\",\"type\":\"Plot\"},\"ticker\":{\"id\":\"1c0b1362-6661-4845-b9a7-76cb5010d9bb\",\"type\":\"CategoricalTicker\"}},\"id\":\"51e1d672-405f-4529-ac91-4513657a40e7\",\"type\":\"Grid\"},{\"attributes\":{\"overlay\":{\"id\":\"57da85d6-f84f-4257-a9b4-da1cb1913a08\",\"type\":\"BoxAnnotation\"}},\"id\":\"db68242e-9a23-4535-821d-6faacf20cc04\",\"type\":\"BoxZoomTool\"},{\"attributes\":{},\"id\":\"d8ddd440-1529-4513-a8bf-d68d082b021a\",\"type\":\"UnionRenderers\"},{\"attributes\":{\"fill_alpha\":{\"value\":0.1},\"fill_color\":{\"value\":\"#1f77b4\"},\"line_alpha\":{\"value\":0.1},\"line_color\":{\"value\":\"#1f77b4\"},\"top\":{\"field\":\"flux\"},\"width\":{\"value\":0.9},\"x\":{\"field\":\"band\"}},\"id\":\"0e4aeb83-28ec-44cf-b1d7-3f880bca9f72\",\"type\":\"VBar\"},{\"attributes\":{},\"id\":\"b754455f-0ff7-4d47-b5b2-6b8b6959a695\",\"type\":\"BasicTickFormatter\"},{\"attributes\":{},\"id\":\"b6a68c0c-d044-49fa-8270-107cbdd61522\",\"type\":\"UnionRenderers\"},{\"attributes\":{},\"id\":\"ff50fd3d-d7a2-4f2b-920f-9242b7a6f0ba\",\"type\":\"SaveTool\"},{\"attributes\":{\"children\":[{\"id\":\"dd3b9ad7-9aa3-4609-bd25-474ff11ca2a3\",\"type\":\"Row\"}]},\"id\":\"298c6524-9e08-4dd8-8b01-67ece90b321d\",\"type\":\"Column\"},{\"attributes\":{\"dimension\":1,\"plot\":{\"id\":\"2aba65ff-603f-457e-9df9-8c6b9f009674\",\"subtype\":\"Figure\",\"type\":\"Plot\"},\"ticker\":{\"id\":\"761c9d92-b965-40e8-88d6-ba37d79e7664\",\"type\":\"BasicTicker\"}},\"id\":\"f68bbe6b-aee8-4d5f-89c1-323f81c5d72a\",\"type\":\"Grid\"},{\"attributes\":{\"plot\":null,\"text\":\"Atmosphere heating. CLIRAD (single-run) - CRD.\"},\"id\":\"3f56af53-022d-4a75-934e-fa63a3bde7db\",\"type\":\"Title\"},{\"attributes\":{},\"id\":\"1c0b1362-6661-4845-b9a7-76cb5010d9bb\",\"type\":\"CategoricalTicker\"},{\"attributes\":{},\"id\":\"63e60f09-9053-4212-85f7-530a4a768ed1\",\"type\":\"SaveTool\"},{\"attributes\":{\"tools\":[{\"id\":\"d1826952-f900-479a-9f47-f26fd3a8bbcc\",\"type\":\"PanTool\"},{\"id\":\"1df931ab-4bb9-4991-a51f-7b9e85a4b355\",\"type\":\"WheelZoomTool\"},{\"id\":\"cadd405b-3068-4cd3-97b2-95b68e0fa32e\",\"type\":\"BoxZoomTool\"},{\"id\":\"28f6589f-ce94-48f6-b029-8544e94fb668\",\"type\":\"SaveTool\"},{\"id\":\"98e6b058-4f30-4720-8c99-258ba959811f\",\"type\":\"ResetTool\"},{\"id\":\"6e15f72e-7e4c-4821-b9dd-f6852f6cef1f\",\"type\":\"HelpTool\"},{\"id\":\"e2515b0c-dacd-4791-ba67-1c018ecf8aaa\",\"type\":\"PanTool\"},{\"id\":\"58ccf77f-6ed7-42e0-9435-7ab65206f41f\",\"type\":\"WheelZoomTool\"},{\"id\":\"db68242e-9a23-4535-821d-6faacf20cc04\",\"type\":\"BoxZoomTool\"},{\"id\":\"ff50fd3d-d7a2-4f2b-920f-9242b7a6f0ba\",\"type\":\"SaveTool\"},{\"id\":\"2c79b6ae-8c64-4731-8d2a-95506c0af387\",\"type\":\"ResetTool\"},{\"id\":\"e53ef4df-a37c-438e-855a-32cd9139ea1b\",\"type\":\"HelpTool\"},{\"id\":\"71a1f16b-9a79-46e6-90fc-d9c412acac63\",\"type\":\"PanTool\"},{\"id\":\"9b5b73c6-f1e7-4f8d-ab12-4d951e39fc57\",\"type\":\"WheelZoomTool\"},{\"id\":\"c5d6de7a-d32f-4ba9-a0a7-775c0c90d51b\",\"type\":\"BoxZoomTool\"},{\"id\":\"63e60f09-9053-4212-85f7-530a4a768ed1\",\"type\":\"SaveTool\"},{\"id\":\"350c170a-bcbf-40f9-82e8-c3429a8399fc\",\"type\":\"ResetTool\"},{\"id\":\"58a700d5-9873-46c5-8200-b60952643e55\",\"type\":\"HelpTool\"}]},\"id\":\"31647e62-4259-44f0-b694-e2f93d071d1d\",\"type\":\"ProxyToolbar\"},{\"attributes\":{},\"id\":\"dd9e18ae-ed98-466c-b295-aaa4d910fa1d\",\"type\":\"BasicTickFormatter\"},{\"attributes\":{\"children\":[{\"id\":\"dad42ec2-6115-4662-8932-4e1aa9d3da73\",\"subtype\":\"Figure\",\"type\":\"Plot\"},{\"id\":\"2aba65ff-603f-457e-9df9-8c6b9f009674\",\"subtype\":\"Figure\",\"type\":\"Plot\"},{\"id\":\"85721bc6-a27d-467a-9031-a38200e1c175\",\"subtype\":\"Figure\",\"type\":\"Plot\"}]},\"id\":\"dd3b9ad7-9aa3-4609-bd25-474ff11ca2a3\",\"type\":\"Row\"},{\"attributes\":{\"axis_label\":\"flux (W m-2)\",\"formatter\":{\"id\":\"4a250dc1-6da0-4395-af81-58b37354490b\",\"type\":\"BasicTickFormatter\"},\"plot\":{\"id\":\"2aba65ff-603f-457e-9df9-8c6b9f009674\",\"subtype\":\"Figure\",\"type\":\"Plot\"},\"ticker\":{\"id\":\"761c9d92-b965-40e8-88d6-ba37d79e7664\",\"type\":\"BasicTicker\"}},\"id\":\"cf6df45a-3bfd-4231-aa14-db29fd4cd5bd\",\"type\":\"LinearAxis\"},{\"attributes\":{\"toolbar\":{\"id\":\"31647e62-4259-44f0-b694-e2f93d071d1d\",\"type\":\"ProxyToolbar\"},\"toolbar_location\":\"above\"},\"id\":\"db9833d0-3664-475a-978b-1f71b82ef22b\",\"type\":\"ToolbarBox\"},{\"attributes\":{},\"id\":\"4a250dc1-6da0-4395-af81-58b37354490b\",\"type\":\"BasicTickFormatter\"},{\"attributes\":{},\"id\":\"f00006f8-78fe-4df1-bbd2-4f933b60c750\",\"type\":\"Selection\"},{\"attributes\":{\"axis_label\":\"spectral band\",\"formatter\":{\"id\":\"d234f9d8-1bd5-4b3b-9cff-b2216ca34d4d\",\"type\":\"CategoricalTickFormatter\"},\"plot\":{\"id\":\"2aba65ff-603f-457e-9df9-8c6b9f009674\",\"subtype\":\"Figure\",\"type\":\"Plot\"},\"ticker\":{\"id\":\"40166d73-1315-4363-b414-d732360d3b09\",\"type\":\"CategoricalTicker\"}},\"id\":\"a085ce9b-e6d1-4dd8-b9b2-0d4531408570\",\"type\":\"CategoricalAxis\"},{\"attributes\":{},\"id\":\"98e6b058-4f30-4720-8c99-258ba959811f\",\"type\":\"ResetTool\"},{\"attributes\":{\"source\":{\"id\":\"06ae3812-a366-458a-b225-20c858cbba75\",\"type\":\"ColumnDataSource\"}},\"id\":\"4b630e46-fa79-4ad0-9b3b-e3c617ef721d\",\"type\":\"CDSView\"},{\"attributes\":{\"overlay\":{\"id\":\"d89d8d87-6b0c-44ab-bd88-0bd293dd4374\",\"type\":\"BoxAnnotation\"}},\"id\":\"cadd405b-3068-4cd3-97b2-95b68e0fa32e\",\"type\":\"BoxZoomTool\"},{\"attributes\":{\"plot\":{\"id\":\"dad42ec2-6115-4662-8932-4e1aa9d3da73\",\"subtype\":\"Figure\",\"type\":\"Plot\"},\"ticker\":{\"id\":\"e3237291-520c-4ec6-b1b5-3799c90631c3\",\"type\":\"CategoricalTicker\"}},\"id\":\"5511eee9-a196-4a54-a6a2-ffd8679bc305\",\"type\":\"Grid\"},{\"attributes\":{\"below\":[{\"id\":\"a085ce9b-e6d1-4dd8-b9b2-0d4531408570\",\"type\":\"CategoricalAxis\"}],\"left\":[{\"id\":\"cf6df45a-3bfd-4231-aa14-db29fd4cd5bd\",\"type\":\"LinearAxis\"}],\"plot_height\":300,\"plot_width\":300,\"renderers\":[{\"id\":\"a085ce9b-e6d1-4dd8-b9b2-0d4531408570\",\"type\":\"CategoricalAxis\"},{\"id\":\"5287385e-3075-4370-80a8-4982d7e9b650\",\"type\":\"Grid\"},{\"id\":\"cf6df45a-3bfd-4231-aa14-db29fd4cd5bd\",\"type\":\"LinearAxis\"},{\"id\":\"f68bbe6b-aee8-4d5f-89c1-323f81c5d72a\",\"type\":\"Grid\"},{\"id\":\"57da85d6-f84f-4257-a9b4-da1cb1913a08\",\"type\":\"BoxAnnotation\"},{\"id\":\"23fe4bce-d96f-4465-b2da-67cd70bb2e2b\",\"type\":\"GlyphRenderer\"}],\"title\":{\"id\":\"dbe9bf5c-8710-40e1-a761-6e7320c6516e\",\"type\":\"Title\"},\"toolbar\":{\"id\":\"df137759-e55f-46d9-8915-f5b1358deb88\",\"type\":\"Toolbar\"},\"toolbar_location\":null,\"x_range\":{\"id\":\"f0148478-8389-490f-99f2-800bb4a1f870\",\"type\":\"FactorRange\"},\"x_scale\":{\"id\":\"856cad7d-bb5b-4637-8542-d515207f716a\",\"type\":\"CategoricalScale\"},\"y_range\":{\"id\":\"1594ba14-1c03-44c8-8e20-5eb370c41334\",\"type\":\"DataRange1d\"},\"y_scale\":{\"id\":\"2dad4004-d3f4-4a15-927c-22495e528f64\",\"type\":\"LinearScale\"}},\"id\":\"2aba65ff-603f-457e-9df9-8c6b9f009674\",\"subtype\":\"Figure\",\"type\":\"Plot\"},{\"attributes\":{},\"id\":\"856cad7d-bb5b-4637-8542-d515207f716a\",\"type\":\"CategoricalScale\"},{\"attributes\":{\"fill_alpha\":{\"value\":0.1},\"fill_color\":{\"value\":\"#1f77b4\"},\"line_alpha\":{\"value\":0.1},\"line_color\":{\"value\":\"#1f77b4\"},\"top\":{\"field\":\"flux\"},\"width\":{\"value\":0.9},\"x\":{\"field\":\"band\"}},\"id\":\"bc05f5d2-3235-4108-bcbc-cf823c8e183c\",\"type\":\"VBar\"},{\"attributes\":{},\"id\":\"40166d73-1315-4363-b414-d732360d3b09\",\"type\":\"CategoricalTicker\"},{\"attributes\":{},\"id\":\"28f6589f-ce94-48f6-b029-8544e94fb668\",\"type\":\"SaveTool\"},{\"attributes\":{\"data_source\":{\"id\":\"06ae3812-a366-458a-b225-20c858cbba75\",\"type\":\"ColumnDataSource\"},\"glyph\":{\"id\":\"733d5c44-38d8-4a52-bbf3-2099fd2cac53\",\"type\":\"VBar\"},\"hover_glyph\":null,\"muted_glyph\":null,\"nonselection_glyph\":{\"id\":\"bc05f5d2-3235-4108-bcbc-cf823c8e183c\",\"type\":\"VBar\"},\"selection_glyph\":null,\"view\":{\"id\":\"4b630e46-fa79-4ad0-9b3b-e3c617ef721d\",\"type\":\"CDSView\"}},\"id\":\"806d0126-2f87-408c-be50-e1f1b5f91ed0\",\"type\":\"GlyphRenderer\"},{\"attributes\":{\"source\":{\"id\":\"0bc3b542-d2f8-4db6-984b-07b59970a0f8\",\"type\":\"ColumnDataSource\"}},\"id\":\"30d7bdb0-3359-4b9b-a95b-88009a1ce932\",\"type\":\"CDSView\"},{\"attributes\":{\"callback\":null},\"id\":\"a03750e2-4765-403c-9209-5473e14e1589\",\"type\":\"DataRange1d\"},{\"attributes\":{},\"id\":\"e3237291-520c-4ec6-b1b5-3799c90631c3\",\"type\":\"CategoricalTicker\"},{\"attributes\":{\"callback\":null},\"id\":\"1594ba14-1c03-44c8-8e20-5eb370c41334\",\"type\":\"DataRange1d\"},{\"attributes\":{\"plot\":{\"id\":\"2aba65ff-603f-457e-9df9-8c6b9f009674\",\"subtype\":\"Figure\",\"type\":\"Plot\"},\"ticker\":{\"id\":\"40166d73-1315-4363-b414-d732360d3b09\",\"type\":\"CategoricalTicker\"}},\"id\":\"5287385e-3075-4370-80a8-4982d7e9b650\",\"type\":\"Grid\"},{\"attributes\":{\"active_drag\":\"auto\",\"active_inspect\":\"auto\",\"active_scroll\":\"auto\",\"active_tap\":\"auto\",\"tools\":[{\"id\":\"e2515b0c-dacd-4791-ba67-1c018ecf8aaa\",\"type\":\"PanTool\"},{\"id\":\"58ccf77f-6ed7-42e0-9435-7ab65206f41f\",\"type\":\"WheelZoomTool\"},{\"id\":\"db68242e-9a23-4535-821d-6faacf20cc04\",\"type\":\"BoxZoomTool\"},{\"id\":\"ff50fd3d-d7a2-4f2b-920f-9242b7a6f0ba\",\"type\":\"SaveTool\"},{\"id\":\"2c79b6ae-8c64-4731-8d2a-95506c0af387\",\"type\":\"ResetTool\"},{\"id\":\"e53ef4df-a37c-438e-855a-32cd9139ea1b\",\"type\":\"HelpTool\"}]},\"id\":\"df137759-e55f-46d9-8915-f5b1358deb88\",\"type\":\"Toolbar\"},{\"attributes\":{},\"id\":\"761c9d92-b965-40e8-88d6-ba37d79e7664\",\"type\":\"BasicTicker\"},{\"attributes\":{\"axis_label\":\"spectral band\",\"formatter\":{\"id\":\"6d60fb1c-efdc-4b8a-8513-69a1e2adf6c6\",\"type\":\"CategoricalTickFormatter\"},\"plot\":{\"id\":\"dad42ec2-6115-4662-8932-4e1aa9d3da73\",\"subtype\":\"Figure\",\"type\":\"Plot\"},\"ticker\":{\"id\":\"e3237291-520c-4ec6-b1b5-3799c90631c3\",\"type\":\"CategoricalTicker\"}},\"id\":\"809aee4e-a146-4d49-891c-379bd55f6f16\",\"type\":\"CategoricalAxis\"},{\"attributes\":{\"callback\":null,\"factors\":[\"1\",\"2\",\"3\",\"4\",\"5\",\"6\",\"7\",\"8\",\"9\",\"10\",\"11\"]},\"id\":\"f0148478-8389-490f-99f2-800bb4a1f870\",\"type\":\"FactorRange\"},{\"attributes\":{\"below\":[{\"id\":\"23988669-a4f2-4053-9c4b-88a5f2bcaf24\",\"type\":\"CategoricalAxis\"}],\"left\":[{\"id\":\"c6bcf232-d7bc-4baa-aeda-ed4ce187a86b\",\"type\":\"LinearAxis\"}],\"plot_height\":300,\"plot_width\":300,\"renderers\":[{\"id\":\"23988669-a4f2-4053-9c4b-88a5f2bcaf24\",\"type\":\"CategoricalAxis\"},{\"id\":\"51e1d672-405f-4529-ac91-4513657a40e7\",\"type\":\"Grid\"},{\"id\":\"c6bcf232-d7bc-4baa-aeda-ed4ce187a86b\",\"type\":\"LinearAxis\"},{\"id\":\"688b8257-ab52-42a4-bb66-4348baaadc3a\",\"type\":\"Grid\"},{\"id\":\"6a717317-b99d-4b9c-8386-808768bef01a\",\"type\":\"BoxAnnotation\"},{\"id\":\"f3e751dd-912d-426e-97e4-a099c7c70888\",\"type\":\"GlyphRenderer\"}],\"title\":{\"id\":\"3f56af53-022d-4a75-934e-fa63a3bde7db\",\"type\":\"Title\"},\"toolbar\":{\"id\":\"1f893890-a009-4f59-8d33-fc885628aa57\",\"type\":\"Toolbar\"},\"toolbar_location\":null,\"x_range\":{\"id\":\"a4bbfcc0-dfc3-4d8b-b305-8e14d8039529\",\"type\":\"FactorRange\"},\"x_scale\":{\"id\":\"ec45ce17-ee91-409b-b33f-722bb1c288e4\",\"type\":\"CategoricalScale\"},\"y_range\":{\"id\":\"76d7af19-6b7c-4674-a224-fd99f99b78dc\",\"type\":\"DataRange1d\"},\"y_scale\":{\"id\":\"6fc985ab-659e-44d5-a46c-152c5de04a65\",\"type\":\"LinearScale\"}},\"id\":\"85721bc6-a27d-467a-9031-a38200e1c175\",\"subtype\":\"Figure\",\"type\":\"Plot\"},{\"attributes\":{},\"id\":\"2c79b6ae-8c64-4731-8d2a-95506c0af387\",\"type\":\"ResetTool\"},{\"attributes\":{},\"id\":\"2dad4004-d3f4-4a15-927c-22495e528f64\",\"type\":\"LinearScale\"},{\"attributes\":{},\"id\":\"6e15f72e-7e4c-4821-b9dd-f6852f6cef1f\",\"type\":\"HelpTool\"},{\"attributes\":{\"active_drag\":\"auto\",\"active_inspect\":\"auto\",\"active_scroll\":\"auto\",\"active_tap\":\"auto\",\"tools\":[{\"id\":\"d1826952-f900-479a-9f47-f26fd3a8bbcc\",\"type\":\"PanTool\"},{\"id\":\"1df931ab-4bb9-4991-a51f-7b9e85a4b355\",\"type\":\"WheelZoomTool\"},{\"id\":\"cadd405b-3068-4cd3-97b2-95b68e0fa32e\",\"type\":\"BoxZoomTool\"},{\"id\":\"28f6589f-ce94-48f6-b029-8544e94fb668\",\"type\":\"SaveTool\"},{\"id\":\"98e6b058-4f30-4720-8c99-258ba959811f\",\"type\":\"ResetTool\"},{\"id\":\"6e15f72e-7e4c-4821-b9dd-f6852f6cef1f\",\"type\":\"HelpTool\"}]},\"id\":\"513df868-f33b-446f-97dc-ec648f7c16a6\",\"type\":\"Toolbar\"},{\"attributes\":{\"dimension\":1,\"plot\":{\"id\":\"dad42ec2-6115-4662-8932-4e1aa9d3da73\",\"subtype\":\"Figure\",\"type\":\"Plot\"},\"ticker\":{\"id\":\"7ed2a53e-6b7d-4b07-98ad-6c03fdade15c\",\"type\":\"BasicTicker\"}},\"id\":\"479f0d45-fd3c-4e6c-8596-2cab2cf6a4a4\",\"type\":\"Grid\"},{\"attributes\":{\"fill_color\":{\"value\":\"#1f77b4\"},\"line_color\":{\"value\":\"#1f77b4\"},\"top\":{\"field\":\"flux\"},\"width\":{\"value\":0.9},\"x\":{\"field\":\"band\"}},\"id\":\"733d5c44-38d8-4a52-bbf3-2099fd2cac53\",\"type\":\"VBar\"},{\"attributes\":{},\"id\":\"58ccf77f-6ed7-42e0-9435-7ab65206f41f\",\"type\":\"WheelZoomTool\"},{\"attributes\":{},\"id\":\"d1826952-f900-479a-9f47-f26fd3a8bbcc\",\"type\":\"PanTool\"},{\"attributes\":{},\"id\":\"7ed2a53e-6b7d-4b07-98ad-6c03fdade15c\",\"type\":\"BasicTicker\"},{\"attributes\":{\"bottom_units\":\"screen\",\"fill_alpha\":{\"value\":0.5},\"fill_color\":{\"value\":\"lightgrey\"},\"left_units\":\"screen\",\"level\":\"overlay\",\"line_alpha\":{\"value\":1.0},\"line_color\":{\"value\":\"black\"},\"line_dash\":[4,4],\"line_width\":{\"value\":2},\"plot\":null,\"render_mode\":\"css\",\"right_units\":\"screen\",\"top_units\":\"screen\"},\"id\":\"d89d8d87-6b0c-44ab-bd88-0bd293dd4374\",\"type\":\"BoxAnnotation\"},{\"attributes\":{\"fill_alpha\":{\"value\":0.1},\"fill_color\":{\"value\":\"#1f77b4\"},\"line_alpha\":{\"value\":0.1},\"line_color\":{\"value\":\"#1f77b4\"},\"top\":{\"field\":\"flux\"},\"width\":{\"value\":0.9},\"x\":{\"field\":\"band\"}},\"id\":\"f4f27bec-9325-49d3-a3d0-70fe6d3849cb\",\"type\":\"VBar\"},{\"attributes\":{\"callback\":null,\"data\":{\"band\":[\"1\",\"2\",\"3\",\"4\",\"5\",\"6\",\"7\",\"8\",\"9\",\"10\",\"11\"],\"flux\":{\"__ndarray__\":\"AAAAAyUF9r4AgsR29wDYPwC4H/DAANO/ANyul6YIsD+Ajh6/t+nfPwB0ImabwLM/ALE8WXvplz9gN3gVCPHBv4A0KnCyDcY/AKBF71TAjT8AcGzRXW2APw==\",\"dtype\":\"float64\",\"shape\":[11]}},\"selected\":{\"id\":\"f00006f8-78fe-4df1-bbd2-4f933b60c750\",\"type\":\"Selection\"},\"selection_policy\":{\"id\":\"b6a68c0c-d044-49fa-8270-107cbdd61522\",\"type\":\"UnionRenderers\"}},\"id\":\"0bc3b542-d2f8-4db6-984b-07b59970a0f8\",\"type\":\"ColumnDataSource\"},{\"attributes\":{},\"id\":\"1df931ab-4bb9-4991-a51f-7b9e85a4b355\",\"type\":\"WheelZoomTool\"},{\"attributes\":{},\"id\":\"ac2b05c6-501c-46cc-88d2-25d445ced81c\",\"type\":\"LinearScale\"},{\"attributes\":{},\"id\":\"e53ef4df-a37c-438e-855a-32cd9139ea1b\",\"type\":\"HelpTool\"},{\"attributes\":{\"callback\":null,\"factors\":[\"1\",\"2\",\"3\",\"4\",\"5\",\"6\",\"7\",\"8\",\"9\",\"10\",\"11\"]},\"id\":\"356c1773-2bac-4276-b603-b3c65d02ff71\",\"type\":\"FactorRange\"},{\"attributes\":{\"plot\":null,\"text\":\"TOA flux. CLIRAD (single-run) - CRD.\"},\"id\":\"3151e29e-9761-4447-8421-877b34a91f52\",\"type\":\"Title\"},{\"attributes\":{\"plot\":null,\"text\":\"SFC flux. CLIRAD (single-run) - CRD.\"},\"id\":\"dbe9bf5c-8710-40e1-a761-6e7320c6516e\",\"type\":\"Title\"},{\"attributes\":{\"bottom_units\":\"screen\",\"fill_alpha\":{\"value\":0.5},\"fill_color\":{\"value\":\"lightgrey\"},\"left_units\":\"screen\",\"level\":\"overlay\",\"line_alpha\":{\"value\":1.0},\"line_color\":{\"value\":\"black\"},\"line_dash\":[4,4],\"line_width\":{\"value\":2},\"plot\":null,\"render_mode\":\"css\",\"right_units\":\"screen\",\"top_units\":\"screen\"},\"id\":\"57da85d6-f84f-4257-a9b4-da1cb1913a08\",\"type\":\"BoxAnnotation\"},{\"attributes\":{},\"id\":\"9853142d-94a2-4ae6-8d85-08fb4e32b0ee\",\"type\":\"CategoricalScale\"},{\"attributes\":{\"axis_label\":\"flux (W m-2)\",\"formatter\":{\"id\":\"b754455f-0ff7-4d47-b5b2-6b8b6959a695\",\"type\":\"BasicTickFormatter\"},\"plot\":{\"id\":\"dad42ec2-6115-4662-8932-4e1aa9d3da73\",\"subtype\":\"Figure\",\"type\":\"Plot\"},\"ticker\":{\"id\":\"7ed2a53e-6b7d-4b07-98ad-6c03fdade15c\",\"type\":\"BasicTicker\"}},\"id\":\"fb04f30b-8916-4ee2-a436-e02c5ffaec24\",\"type\":\"LinearAxis\"},{\"attributes\":{\"below\":[{\"id\":\"809aee4e-a146-4d49-891c-379bd55f6f16\",\"type\":\"CategoricalAxis\"}],\"left\":[{\"id\":\"fb04f30b-8916-4ee2-a436-e02c5ffaec24\",\"type\":\"LinearAxis\"}],\"plot_height\":300,\"plot_width\":300,\"renderers\":[{\"id\":\"809aee4e-a146-4d49-891c-379bd55f6f16\",\"type\":\"CategoricalAxis\"},{\"id\":\"5511eee9-a196-4a54-a6a2-ffd8679bc305\",\"type\":\"Grid\"},{\"id\":\"fb04f30b-8916-4ee2-a436-e02c5ffaec24\",\"type\":\"LinearAxis\"},{\"id\":\"479f0d45-fd3c-4e6c-8596-2cab2cf6a4a4\",\"type\":\"Grid\"},{\"id\":\"d89d8d87-6b0c-44ab-bd88-0bd293dd4374\",\"type\":\"BoxAnnotation\"},{\"id\":\"806d0126-2f87-408c-be50-e1f1b5f91ed0\",\"type\":\"GlyphRenderer\"}],\"title\":{\"id\":\"3151e29e-9761-4447-8421-877b34a91f52\",\"type\":\"Title\"},\"toolbar\":{\"id\":\"513df868-f33b-446f-97dc-ec648f7c16a6\",\"type\":\"Toolbar\"},\"toolbar_location\":null,\"x_range\":{\"id\":\"356c1773-2bac-4276-b603-b3c65d02ff71\",\"type\":\"FactorRange\"},\"x_scale\":{\"id\":\"9853142d-94a2-4ae6-8d85-08fb4e32b0ee\",\"type\":\"CategoricalScale\"},\"y_range\":{\"id\":\"a03750e2-4765-403c-9209-5473e14e1589\",\"type\":\"DataRange1d\"},\"y_scale\":{\"id\":\"ac2b05c6-501c-46cc-88d2-25d445ced81c\",\"type\":\"LinearScale\"}},\"id\":\"dad42ec2-6115-4662-8932-4e1aa9d3da73\",\"subtype\":\"Figure\",\"type\":\"Plot\"}],\"root_ids\":[\"ac2be6db-5b5f-4c24-86fe-9234067e74bb\"]},\"title\":\"Bokeh Application\",\"version\":\"0.12.16\"}};\n",
       "  var render_items = [{\"docid\":\"2a751ae5-5d5f-47b4-be42-cdae14f82399\",\"elementid\":\"ac30f7e1-8e9f-4c26-aa30-bdd23fb279f5\",\"modelid\":\"ac2be6db-5b5f-4c24-86fe-9234067e74bb\"}];\n",
       "  root.Bokeh.embed.embed_items_notebook(docs_json, render_items);\n",
       "\n",
       "  }\n",
       "  if (root.Bokeh !== undefined) {\n",
       "    embed_document(root);\n",
       "  } else {\n",
       "    var attempts = 0;\n",
       "    var timer = setInterval(function(root) {\n",
       "      if (root.Bokeh !== undefined) {\n",
       "        embed_document(root);\n",
       "        clearInterval(timer);\n",
       "      }\n",
       "      attempts++;\n",
       "      if (attempts > 100) {\n",
       "        console.log(\"Bokeh: ERROR: Unable to run BokehJS code because BokehJS library is missing\")\n",
       "        clearInterval(timer);\n",
       "      }\n",
       "    }, 10, root)\n",
       "  }\n",
       "})(window);"
      ],
      "application/vnd.bokehjs_exec.v0+json": ""
     },
     "metadata": {
      "application/vnd.bokehjs_exec.v0+json": {
       "id": "ac2be6db-5b5f-4c24-86fe-9234067e74bb"
      }
     },
     "output_type": "display_data"
    },
    {
     "data": {
      "text/markdown": [
       "*FIGURE.* Difference between CLIRAD and CRD in TOA, SFC and net atmosphere flux, in each spectral band."
      ],
      "text/plain": [
       "<IPython.core.display.Markdown object>"
      ]
     },
     "metadata": {},
     "output_type": "display_data"
    },
    {
     "data": {
      "text/html": [
       "<div>\n",
       "<style scoped>\n",
       "    .dataframe tbody tr th:only-of-type {\n",
       "        vertical-align: middle;\n",
       "    }\n",
       "\n",
       "    .dataframe tbody tr th {\n",
       "        vertical-align: top;\n",
       "    }\n",
       "\n",
       "    .dataframe thead th {\n",
       "        text-align: right;\n",
       "    }\n",
       "</style>\n",
       "<table border=\"1\" class=\"dataframe\">\n",
       "  <thead>\n",
       "    <tr style=\"text-align: right;\">\n",
       "      <th></th>\n",
       "      <th>OLR flux</th>\n",
       "      <th>SFC flux</th>\n",
       "      <th>ATM heating</th>\n",
       "    </tr>\n",
       "    <tr>\n",
       "      <th>Sum over bands</th>\n",
       "      <th></th>\n",
       "      <th></th>\n",
       "      <th></th>\n",
       "    </tr>\n",
       "  </thead>\n",
       "  <tbody>\n",
       "    <tr>\n",
       "      <th>old CLIRAD - CRD</th>\n",
       "      <td>0.14</td>\n",
       "      <td>2.01</td>\n",
       "      <td>-1.73</td>\n",
       "    </tr>\n",
       "    <tr>\n",
       "      <th>CLIRAD (single-run) - CRD</th>\n",
       "      <td>1.13</td>\n",
       "      <td>0.79</td>\n",
       "      <td>0.33</td>\n",
       "    </tr>\n",
       "    <tr>\n",
       "      <th>CRD</th>\n",
       "      <td>-290.39</td>\n",
       "      <td>308.14</td>\n",
       "      <td>-174.89</td>\n",
       "    </tr>\n",
       "  </tbody>\n",
       "</table>\n",
       "</div>"
      ],
      "text/plain": [
       "                           OLR flux  SFC flux  ATM heating\n",
       "Sum over bands                                            \n",
       "old CLIRAD - CRD               0.14      2.01        -1.73\n",
       "CLIRAD (single-run) - CRD      1.13      0.79         0.33\n",
       "CRD                         -290.39    308.14      -174.89"
      ]
     },
     "metadata": {},
     "output_type": "display_data"
    },
    {
     "data": {
      "text/markdown": [
       "*TABLE.* Difference between CLIRAD and CRD in TOA, SFC and net atmosphere flux, over all spectral bands. CRD's TOA, SFC and net atmosphere flux, over all spectral bands."
      ],
      "text/plain": [
       "<IPython.core.display.Markdown object>"
      ]
     },
     "metadata": {},
     "output_type": "display_data"
    },
    {
     "data": {
      "text/html": [
       "<a id=\"Cooling_rates._saw.\"></a>"
      ],
      "text/plain": [
       "<IPython.core.display.HTML object>"
      ]
     },
     "metadata": {},
     "output_type": "display_data"
    },
    {
     "data": {
      "text/markdown": [
       "# Cooling rates. saw."
      ],
      "text/plain": [
       "<IPython.core.display.Markdown object>"
      ]
     },
     "metadata": {},
     "output_type": "display_data"
    }
   ],
   "source": [
    "def show_html(s):\n",
    "    display.display(display.HTML(s))\n",
    "\n",
    "    \n",
    "def show_markdown(s):\n",
    "    display.display(display.Markdown(s))\n",
    "\n",
    "\n",
    "def script():\n",
    "    \n",
    "    d_atm = {'mls': 'mid-latitude summer',\n",
    "             'saw': 'sub-arctic winter',\n",
    "             'trp': 'tropical'}\n",
    "    \n",
    "    title = ('## Results over entire range of molecules'\n",
    "             ' and spectral bands')\n",
    "    \n",
    "    s_makeup = 'Makeup of atmosphere.'\n",
    "    s_atmpro = '# {}'\n",
    "    s_cool = 'Cooling rates. {}.'\n",
    "    s_flux = 'Fluxes. {}.'\n",
    "    \n",
    "    atmpros = ['mls', 'saw', 'trp']\n",
    "    \n",
    "    # TOC\n",
    "    show_markdown(title)\n",
    "    show_markdown('### Table of Contents')\n",
    "    show_html(climahtml.getHTML_hrefanchor(s_makeup))\n",
    "    for atmpro in atmpros:\n",
    "        show_markdown('**' + d_atm[atmpro] + '**')\n",
    "        show_html(climahtml.getHTML_hrefanchor(s_cool.format(atmpro)))\n",
    "        show_html(climahtml.getHTML_hrefanchor(s_flux.format(atmpro)))\n",
    "\n",
    "        \n",
    "    # Atmosphere makeup\n",
    "    show_html(climahtml.getHTML_idanchor(s_makeup))\n",
    "    show_markdown(climahtml.getMarkdown_sectitle(s_makeup))\n",
    "    show_makeup()\n",
    "        \n",
    "    for atmpro in atmpros:\n",
    "        show_html(climahtml.getHTML_idanchor(s_cool.format(atmpro)))\n",
    "        show_markdown(\n",
    "            climahtml.getMarkdown_sectitle(s_cool.format(atmpro)))\n",
    "        show_cool(atmpro=atmpro)\n",
    "        show_html(climahtml.getHTML_idanchor(s_flux.format(atmpro)))\n",
    "        show_markdown(\n",
    "            climahtml.getMarkdown_sectitle(s_flux.format(atmpro)))\n",
    "        show_hist_flux(atmpro=atmpro)\n",
    "        show_tb_flux(atmpro=atmpro)\n",
    "    \n",
    "    \n",
    "script()  "
   ]
  },
  {
   "cell_type": "code",
   "execution_count": null,
   "metadata": {
    "collapsed": true
   },
   "outputs": [],
   "source": []
  },
  {
   "cell_type": "code",
   "execution_count": null,
   "metadata": {},
   "outputs": [],
   "source": [
    "display.HTML('''<script>\n",
    "code_show=true; \n",
    "function code_toggle() {\n",
    " if (code_show){\n",
    " $('div.input').hide();\n",
    " } else {\n",
    " $('div.input').show();\n",
    " }\n",
    " code_show = !code_show\n",
    "} \n",
    "$( document ).ready(code_toggle);\n",
    "</script>\n",
    "<form action=\"javascript:code_toggle()\"><input type=\"submit\" value=\"Click here to toggle on/off the raw code.\"></form>''')"
   ]
  },
  {
   "cell_type": "code",
   "execution_count": null,
   "metadata": {
    "collapsed": true
   },
   "outputs": [],
   "source": []
  }
 ],
 "metadata": {
  "kernelspec": {
   "display_name": "Python 3",
   "language": "python",
   "name": "python3"
  },
  "language_info": {
   "codemirror_mode": {
    "name": "ipython",
    "version": 3
   },
   "file_extension": ".py",
   "mimetype": "text/x-python",
   "name": "python",
   "nbconvert_exporter": "python",
   "pygments_lexer": "ipython3",
   "version": "3.6.1"
  }
 },
 "nbformat": 4,
 "nbformat_minor": 2
}
