{
 "cells": [
  {
   "cell_type": "code",
   "execution_count": 28,
   "metadata": {
    "collapsed": true
   },
   "outputs": [],
   "source": [
    "import os\n",
    "import ast\n",
    "import json\n",
    "import importlib \n",
    "import itertools\n",
    "import collections\n",
    "import pprint\n",
    "\n",
    "from bokeh.io import output_notebook, show\n",
    "from bokeh.layouts import gridplot\n",
    "from bokeh.plotting import figure\n",
    "from bokeh.models import Range1d, Legend, ColumnDataSource, FactorRange\n",
    "from bokeh.palettes import all_palettes\n",
    "from bokeh.transform import factor_cmap\n",
    "\n",
    "import matplotlib\n",
    "import matplotlib.pyplot as plt\n",
    "import numpy as np\n",
    "import pandas as pd\n",
    "import xarray as xr\n",
    "\n",
    "\n",
    "import climatools.lblnew.bestfit_params as bestfits\n",
    "from climatools.lblnew import setup_bestfit, setup_overlap\n",
    "import climatools.lblnew.pipeline as pipe_lblnew\n",
    "import climatools.cliradlw.setup as setup_cliradlw\n",
    "import climatools.cliradlw.pipeline as pipe_cliradlw\n",
    "\n",
    "import climatools.html.html as climahtml\n",
    "from climatools.lblnew.dataio import *\n",
    "from climatools.plot.plot import *\n",
    "\n",
    "\n",
    "from IPython import display\n",
    "\n",
    "#importlib.reload(bestfits)\n",
    "#importlib.reload(setup_bestfit)\n",
    "#importlib.reload(setup_overlap)\n",
    "#importlib.reload(pipe_lblnew)\n",
    "#importlib.reload(setup_cliradlw)\n",
    "#importlib.reload(pipe_cliradlw)"
   ]
  },
  {
   "cell_type": "code",
   "execution_count": 29,
   "metadata": {
    "scrolled": true
   },
   "outputs": [
    {
     "data": {
      "text/html": [
       "\n",
       "    <div class=\"bk-root\">\n",
       "        <a href=\"https://bokeh.pydata.org\" target=\"_blank\" class=\"bk-logo bk-logo-small bk-logo-notebook\"></a>\n",
       "        <span id=\"965efe09-2a71-408d-9b7f-320527ad912b\">Loading BokehJS ...</span>\n",
       "    </div>"
      ]
     },
     "metadata": {},
     "output_type": "display_data"
    },
    {
     "data": {
      "application/javascript": [
       "\n",
       "(function(root) {\n",
       "  function now() {\n",
       "    return new Date();\n",
       "  }\n",
       "\n",
       "  var force = true;\n",
       "\n",
       "  if (typeof (root._bokeh_onload_callbacks) === \"undefined\" || force === true) {\n",
       "    root._bokeh_onload_callbacks = [];\n",
       "    root._bokeh_is_loading = undefined;\n",
       "  }\n",
       "\n",
       "  var JS_MIME_TYPE = 'application/javascript';\n",
       "  var HTML_MIME_TYPE = 'text/html';\n",
       "  var EXEC_MIME_TYPE = 'application/vnd.bokehjs_exec.v0+json';\n",
       "  var CLASS_NAME = 'output_bokeh rendered_html';\n",
       "\n",
       "  /**\n",
       "   * Render data to the DOM node\n",
       "   */\n",
       "  function render(props, node) {\n",
       "    var script = document.createElement(\"script\");\n",
       "    node.appendChild(script);\n",
       "  }\n",
       "\n",
       "  /**\n",
       "   * Handle when an output is cleared or removed\n",
       "   */\n",
       "  function handleClearOutput(event, handle) {\n",
       "    var cell = handle.cell;\n",
       "\n",
       "    var id = cell.output_area._bokeh_element_id;\n",
       "    var server_id = cell.output_area._bokeh_server_id;\n",
       "    // Clean up Bokeh references\n",
       "    if (id !== undefined) {\n",
       "      Bokeh.index[id].model.document.clear();\n",
       "      delete Bokeh.index[id];\n",
       "    }\n",
       "\n",
       "    if (server_id !== undefined) {\n",
       "      // Clean up Bokeh references\n",
       "      var cmd = \"from bokeh.io.state import curstate; print(curstate().uuid_to_server['\" + server_id + \"'].get_sessions()[0].document.roots[0]._id)\";\n",
       "      cell.notebook.kernel.execute(cmd, {\n",
       "        iopub: {\n",
       "          output: function(msg) {\n",
       "            var element_id = msg.content.text.trim();\n",
       "            Bokeh.index[element_id].model.document.clear();\n",
       "            delete Bokeh.index[element_id];\n",
       "          }\n",
       "        }\n",
       "      });\n",
       "      // Destroy server and session\n",
       "      var cmd = \"import bokeh.io.notebook as ion; ion.destroy_server('\" + server_id + \"')\";\n",
       "      cell.notebook.kernel.execute(cmd);\n",
       "    }\n",
       "  }\n",
       "\n",
       "  /**\n",
       "   * Handle when a new output is added\n",
       "   */\n",
       "  function handleAddOutput(event, handle) {\n",
       "    var output_area = handle.output_area;\n",
       "    var output = handle.output;\n",
       "\n",
       "    // limit handleAddOutput to display_data with EXEC_MIME_TYPE content only\n",
       "    if ((output.output_type != \"display_data\") || (!output.data.hasOwnProperty(EXEC_MIME_TYPE))) {\n",
       "      return\n",
       "    }\n",
       "\n",
       "    var toinsert = output_area.element.find(\".\" + CLASS_NAME.split(' ')[0]);\n",
       "\n",
       "    if (output.metadata[EXEC_MIME_TYPE][\"id\"] !== undefined) {\n",
       "      toinsert[toinsert.length - 1].firstChild.textContent = output.data[JS_MIME_TYPE];\n",
       "      // store reference to embed id on output_area\n",
       "      output_area._bokeh_element_id = output.metadata[EXEC_MIME_TYPE][\"id\"];\n",
       "    }\n",
       "    if (output.metadata[EXEC_MIME_TYPE][\"server_id\"] !== undefined) {\n",
       "      var bk_div = document.createElement(\"div\");\n",
       "      bk_div.innerHTML = output.data[HTML_MIME_TYPE];\n",
       "      var script_attrs = bk_div.children[0].attributes;\n",
       "      for (var i = 0; i < script_attrs.length; i++) {\n",
       "        toinsert[toinsert.length - 1].firstChild.setAttribute(script_attrs[i].name, script_attrs[i].value);\n",
       "      }\n",
       "      // store reference to server id on output_area\n",
       "      output_area._bokeh_server_id = output.metadata[EXEC_MIME_TYPE][\"server_id\"];\n",
       "    }\n",
       "  }\n",
       "\n",
       "  function register_renderer(events, OutputArea) {\n",
       "\n",
       "    function append_mime(data, metadata, element) {\n",
       "      // create a DOM node to render to\n",
       "      var toinsert = this.create_output_subarea(\n",
       "        metadata,\n",
       "        CLASS_NAME,\n",
       "        EXEC_MIME_TYPE\n",
       "      );\n",
       "      this.keyboard_manager.register_events(toinsert);\n",
       "      // Render to node\n",
       "      var props = {data: data, metadata: metadata[EXEC_MIME_TYPE]};\n",
       "      render(props, toinsert[toinsert.length - 1]);\n",
       "      element.append(toinsert);\n",
       "      return toinsert\n",
       "    }\n",
       "\n",
       "    /* Handle when an output is cleared or removed */\n",
       "    events.on('clear_output.CodeCell', handleClearOutput);\n",
       "    events.on('delete.Cell', handleClearOutput);\n",
       "\n",
       "    /* Handle when a new output is added */\n",
       "    events.on('output_added.OutputArea', handleAddOutput);\n",
       "\n",
       "    /**\n",
       "     * Register the mime type and append_mime function with output_area\n",
       "     */\n",
       "    OutputArea.prototype.register_mime_type(EXEC_MIME_TYPE, append_mime, {\n",
       "      /* Is output safe? */\n",
       "      safe: true,\n",
       "      /* Index of renderer in `output_area.display_order` */\n",
       "      index: 0\n",
       "    });\n",
       "  }\n",
       "\n",
       "  // register the mime type if in Jupyter Notebook environment and previously unregistered\n",
       "  if (root.Jupyter !== undefined) {\n",
       "    var events = require('base/js/events');\n",
       "    var OutputArea = require('notebook/js/outputarea').OutputArea;\n",
       "\n",
       "    if (OutputArea.prototype.mime_types().indexOf(EXEC_MIME_TYPE) == -1) {\n",
       "      register_renderer(events, OutputArea);\n",
       "    }\n",
       "  }\n",
       "\n",
       "  \n",
       "  if (typeof (root._bokeh_timeout) === \"undefined\" || force === true) {\n",
       "    root._bokeh_timeout = Date.now() + 5000;\n",
       "    root._bokeh_failed_load = false;\n",
       "  }\n",
       "\n",
       "  var NB_LOAD_WARNING = {'data': {'text/html':\n",
       "     \"<div style='background-color: #fdd'>\\n\"+\n",
       "     \"<p>\\n\"+\n",
       "     \"BokehJS does not appear to have successfully loaded. If loading BokehJS from CDN, this \\n\"+\n",
       "     \"may be due to a slow or bad network connection. Possible fixes:\\n\"+\n",
       "     \"</p>\\n\"+\n",
       "     \"<ul>\\n\"+\n",
       "     \"<li>re-rerun `output_notebook()` to attempt to load from CDN again, or</li>\\n\"+\n",
       "     \"<li>use INLINE resources instead, as so:</li>\\n\"+\n",
       "     \"</ul>\\n\"+\n",
       "     \"<code>\\n\"+\n",
       "     \"from bokeh.resources import INLINE\\n\"+\n",
       "     \"output_notebook(resources=INLINE)\\n\"+\n",
       "     \"</code>\\n\"+\n",
       "     \"</div>\"}};\n",
       "\n",
       "  function display_loaded() {\n",
       "    var el = document.getElementById(\"965efe09-2a71-408d-9b7f-320527ad912b\");\n",
       "    if (el != null) {\n",
       "      el.textContent = \"BokehJS is loading...\";\n",
       "    }\n",
       "    if (root.Bokeh !== undefined) {\n",
       "      if (el != null) {\n",
       "        el.textContent = \"BokehJS \" + root.Bokeh.version + \" successfully loaded.\";\n",
       "      }\n",
       "    } else if (Date.now() < root._bokeh_timeout) {\n",
       "      setTimeout(display_loaded, 100)\n",
       "    }\n",
       "  }\n",
       "\n",
       "\n",
       "  function run_callbacks() {\n",
       "    try {\n",
       "      root._bokeh_onload_callbacks.forEach(function(callback) { callback() });\n",
       "    }\n",
       "    finally {\n",
       "      delete root._bokeh_onload_callbacks\n",
       "    }\n",
       "    console.info(\"Bokeh: all callbacks have finished\");\n",
       "  }\n",
       "\n",
       "  function load_libs(js_urls, callback) {\n",
       "    root._bokeh_onload_callbacks.push(callback);\n",
       "    if (root._bokeh_is_loading > 0) {\n",
       "      console.log(\"Bokeh: BokehJS is being loaded, scheduling callback at\", now());\n",
       "      return null;\n",
       "    }\n",
       "    if (js_urls == null || js_urls.length === 0) {\n",
       "      run_callbacks();\n",
       "      return null;\n",
       "    }\n",
       "    console.log(\"Bokeh: BokehJS not loaded, scheduling load and callback at\", now());\n",
       "    root._bokeh_is_loading = js_urls.length;\n",
       "    for (var i = 0; i < js_urls.length; i++) {\n",
       "      var url = js_urls[i];\n",
       "      var s = document.createElement('script');\n",
       "      s.src = url;\n",
       "      s.async = false;\n",
       "      s.onreadystatechange = s.onload = function() {\n",
       "        root._bokeh_is_loading--;\n",
       "        if (root._bokeh_is_loading === 0) {\n",
       "          console.log(\"Bokeh: all BokehJS libraries loaded\");\n",
       "          run_callbacks()\n",
       "        }\n",
       "      };\n",
       "      s.onerror = function() {\n",
       "        console.warn(\"failed to load library \" + url);\n",
       "      };\n",
       "      console.log(\"Bokeh: injecting script tag for BokehJS library: \", url);\n",
       "      document.getElementsByTagName(\"head\")[0].appendChild(s);\n",
       "    }\n",
       "  };var element = document.getElementById(\"965efe09-2a71-408d-9b7f-320527ad912b\");\n",
       "  if (element == null) {\n",
       "    console.log(\"Bokeh: ERROR: autoload.js configured with elementid '965efe09-2a71-408d-9b7f-320527ad912b' but no matching script tag was found. \")\n",
       "    return false;\n",
       "  }\n",
       "\n",
       "  var js_urls = [\"https://cdn.pydata.org/bokeh/release/bokeh-0.12.16.min.js\", \"https://cdn.pydata.org/bokeh/release/bokeh-widgets-0.12.16.min.js\", \"https://cdn.pydata.org/bokeh/release/bokeh-tables-0.12.16.min.js\", \"https://cdn.pydata.org/bokeh/release/bokeh-gl-0.12.16.min.js\"];\n",
       "\n",
       "  var inline_js = [\n",
       "    function(Bokeh) {\n",
       "      Bokeh.set_log_level(\"info\");\n",
       "    },\n",
       "    \n",
       "    function(Bokeh) {\n",
       "      \n",
       "    },\n",
       "    function(Bokeh) {\n",
       "      console.log(\"Bokeh: injecting CSS: https://cdn.pydata.org/bokeh/release/bokeh-0.12.16.min.css\");\n",
       "      Bokeh.embed.inject_css(\"https://cdn.pydata.org/bokeh/release/bokeh-0.12.16.min.css\");\n",
       "      console.log(\"Bokeh: injecting CSS: https://cdn.pydata.org/bokeh/release/bokeh-widgets-0.12.16.min.css\");\n",
       "      Bokeh.embed.inject_css(\"https://cdn.pydata.org/bokeh/release/bokeh-widgets-0.12.16.min.css\");\n",
       "      console.log(\"Bokeh: injecting CSS: https://cdn.pydata.org/bokeh/release/bokeh-tables-0.12.16.min.css\");\n",
       "      Bokeh.embed.inject_css(\"https://cdn.pydata.org/bokeh/release/bokeh-tables-0.12.16.min.css\");\n",
       "    }\n",
       "  ];\n",
       "\n",
       "  function run_inline_js() {\n",
       "    \n",
       "    if ((root.Bokeh !== undefined) || (force === true)) {\n",
       "      for (var i = 0; i < inline_js.length; i++) {\n",
       "        inline_js[i].call(root, root.Bokeh);\n",
       "      }if (force === true) {\n",
       "        display_loaded();\n",
       "      }} else if (Date.now() < root._bokeh_timeout) {\n",
       "      setTimeout(run_inline_js, 100);\n",
       "    } else if (!root._bokeh_failed_load) {\n",
       "      console.log(\"Bokeh: BokehJS failed to load within specified timeout.\");\n",
       "      root._bokeh_failed_load = true;\n",
       "    } else if (force !== true) {\n",
       "      var cell = $(document.getElementById(\"965efe09-2a71-408d-9b7f-320527ad912b\")).parents('.cell').data().cell;\n",
       "      cell.output_area.append_execute_result(NB_LOAD_WARNING)\n",
       "    }\n",
       "\n",
       "  }\n",
       "\n",
       "  if (root._bokeh_is_loading === 0) {\n",
       "    console.log(\"Bokeh: BokehJS loaded, going straight to plotting\");\n",
       "    run_inline_js();\n",
       "  } else {\n",
       "    load_libs(js_urls, function() {\n",
       "      console.log(\"Bokeh: BokehJS plotting callback run at\", now());\n",
       "      run_inline_js();\n",
       "    });\n",
       "  }\n",
       "}(window));"
      ],
      "application/vnd.bokehjs_load.v0+json": "\n(function(root) {\n  function now() {\n    return new Date();\n  }\n\n  var force = true;\n\n  if (typeof (root._bokeh_onload_callbacks) === \"undefined\" || force === true) {\n    root._bokeh_onload_callbacks = [];\n    root._bokeh_is_loading = undefined;\n  }\n\n  \n\n  \n  if (typeof (root._bokeh_timeout) === \"undefined\" || force === true) {\n    root._bokeh_timeout = Date.now() + 5000;\n    root._bokeh_failed_load = false;\n  }\n\n  var NB_LOAD_WARNING = {'data': {'text/html':\n     \"<div style='background-color: #fdd'>\\n\"+\n     \"<p>\\n\"+\n     \"BokehJS does not appear to have successfully loaded. If loading BokehJS from CDN, this \\n\"+\n     \"may be due to a slow or bad network connection. Possible fixes:\\n\"+\n     \"</p>\\n\"+\n     \"<ul>\\n\"+\n     \"<li>re-rerun `output_notebook()` to attempt to load from CDN again, or</li>\\n\"+\n     \"<li>use INLINE resources instead, as so:</li>\\n\"+\n     \"</ul>\\n\"+\n     \"<code>\\n\"+\n     \"from bokeh.resources import INLINE\\n\"+\n     \"output_notebook(resources=INLINE)\\n\"+\n     \"</code>\\n\"+\n     \"</div>\"}};\n\n  function display_loaded() {\n    var el = document.getElementById(\"965efe09-2a71-408d-9b7f-320527ad912b\");\n    if (el != null) {\n      el.textContent = \"BokehJS is loading...\";\n    }\n    if (root.Bokeh !== undefined) {\n      if (el != null) {\n        el.textContent = \"BokehJS \" + root.Bokeh.version + \" successfully loaded.\";\n      }\n    } else if (Date.now() < root._bokeh_timeout) {\n      setTimeout(display_loaded, 100)\n    }\n  }\n\n\n  function run_callbacks() {\n    try {\n      root._bokeh_onload_callbacks.forEach(function(callback) { callback() });\n    }\n    finally {\n      delete root._bokeh_onload_callbacks\n    }\n    console.info(\"Bokeh: all callbacks have finished\");\n  }\n\n  function load_libs(js_urls, callback) {\n    root._bokeh_onload_callbacks.push(callback);\n    if (root._bokeh_is_loading > 0) {\n      console.log(\"Bokeh: BokehJS is being loaded, scheduling callback at\", now());\n      return null;\n    }\n    if (js_urls == null || js_urls.length === 0) {\n      run_callbacks();\n      return null;\n    }\n    console.log(\"Bokeh: BokehJS not loaded, scheduling load and callback at\", now());\n    root._bokeh_is_loading = js_urls.length;\n    for (var i = 0; i < js_urls.length; i++) {\n      var url = js_urls[i];\n      var s = document.createElement('script');\n      s.src = url;\n      s.async = false;\n      s.onreadystatechange = s.onload = function() {\n        root._bokeh_is_loading--;\n        if (root._bokeh_is_loading === 0) {\n          console.log(\"Bokeh: all BokehJS libraries loaded\");\n          run_callbacks()\n        }\n      };\n      s.onerror = function() {\n        console.warn(\"failed to load library \" + url);\n      };\n      console.log(\"Bokeh: injecting script tag for BokehJS library: \", url);\n      document.getElementsByTagName(\"head\")[0].appendChild(s);\n    }\n  };var element = document.getElementById(\"965efe09-2a71-408d-9b7f-320527ad912b\");\n  if (element == null) {\n    console.log(\"Bokeh: ERROR: autoload.js configured with elementid '965efe09-2a71-408d-9b7f-320527ad912b' but no matching script tag was found. \")\n    return false;\n  }\n\n  var js_urls = [\"https://cdn.pydata.org/bokeh/release/bokeh-0.12.16.min.js\", \"https://cdn.pydata.org/bokeh/release/bokeh-widgets-0.12.16.min.js\", \"https://cdn.pydata.org/bokeh/release/bokeh-tables-0.12.16.min.js\", \"https://cdn.pydata.org/bokeh/release/bokeh-gl-0.12.16.min.js\"];\n\n  var inline_js = [\n    function(Bokeh) {\n      Bokeh.set_log_level(\"info\");\n    },\n    \n    function(Bokeh) {\n      \n    },\n    function(Bokeh) {\n      console.log(\"Bokeh: injecting CSS: https://cdn.pydata.org/bokeh/release/bokeh-0.12.16.min.css\");\n      Bokeh.embed.inject_css(\"https://cdn.pydata.org/bokeh/release/bokeh-0.12.16.min.css\");\n      console.log(\"Bokeh: injecting CSS: https://cdn.pydata.org/bokeh/release/bokeh-widgets-0.12.16.min.css\");\n      Bokeh.embed.inject_css(\"https://cdn.pydata.org/bokeh/release/bokeh-widgets-0.12.16.min.css\");\n      console.log(\"Bokeh: injecting CSS: https://cdn.pydata.org/bokeh/release/bokeh-tables-0.12.16.min.css\");\n      Bokeh.embed.inject_css(\"https://cdn.pydata.org/bokeh/release/bokeh-tables-0.12.16.min.css\");\n    }\n  ];\n\n  function run_inline_js() {\n    \n    if ((root.Bokeh !== undefined) || (force === true)) {\n      for (var i = 0; i < inline_js.length; i++) {\n        inline_js[i].call(root, root.Bokeh);\n      }if (force === true) {\n        display_loaded();\n      }} else if (Date.now() < root._bokeh_timeout) {\n      setTimeout(run_inline_js, 100);\n    } else if (!root._bokeh_failed_load) {\n      console.log(\"Bokeh: BokehJS failed to load within specified timeout.\");\n      root._bokeh_failed_load = true;\n    } else if (force !== true) {\n      var cell = $(document.getElementById(\"965efe09-2a71-408d-9b7f-320527ad912b\")).parents('.cell').data().cell;\n      cell.output_area.append_execute_result(NB_LOAD_WARNING)\n    }\n\n  }\n\n  if (root._bokeh_is_loading === 0) {\n    console.log(\"Bokeh: BokehJS loaded, going straight to plotting\");\n    run_inline_js();\n  } else {\n    load_libs(js_urls, function() {\n      console.log(\"Bokeh: BokehJS plotting callback run at\", now());\n      run_inline_js();\n    });\n  }\n}(window));"
     },
     "metadata": {},
     "output_type": "display_data"
    }
   ],
   "source": [
    "output_notebook()"
   ]
  },
  {
   "cell_type": "code",
   "execution_count": 30,
   "metadata": {
    "collapsed": true
   },
   "outputs": [],
   "source": [
    "'''\n",
    "Get the clirad-lw and lblnew `param`s for all spectral bands.  \n",
    "These are returned by functions `clirad_params_atm` and\n",
    "`lblnew_params_atm`, respectively.\n",
    "'''\n",
    "\n",
    "def molecules_byband_atm():\n",
    "    return {1: {'h2o': 'atmpro'},\n",
    "            2: {'h2o': 'atmpro'}, \n",
    "            3: {'co2': 0.0004, 'h2o': 'atmpro', 'n2o': 3.2e-07},\n",
    "            4: {'co2': 0.0004, 'h2o': 'atmpro'},\n",
    "            5: {'co2': 0.0004, 'h2o': 'atmpro'},\n",
    "            6: {'co2': 0.0004, 'h2o': 'atmpro'},\n",
    "            7: {'co2': 0.0004, 'h2o': 'atmpro', 'o3': 'atmpro'},\n",
    "            8: {'h2o': 'atmpro'},\n",
    "            9: {'ch4': 1.8e-06, 'h2o': 'atmpro', 'n2o': 3.2e-07},\n",
    "            10: {'h2o': 'atmpro'},\n",
    "            11: {'co2': 0.0004, 'h2o': 'atmpro'}}\n",
    "\n",
    "\n",
    "def greyabsorbers_by_band_atm():\n",
    "    return {1: {'con': 'atmpro'},\n",
    "            2: {'con': 'atmpro'},\n",
    "            3: {'con': 'atmpro'},\n",
    "            4: {'con': 'atmpro'},\n",
    "            5: {'con': 'atmpro'},\n",
    "            6: {'con': 'atmpro'}, \n",
    "            7: {'con': 'atmpro'},\n",
    "            8: {'con': 'atmpro', 'n2o': 3.2e-7}, \n",
    "            9: {'con': 'atmpro'}, \n",
    "            10: None,\n",
    "            11: None}\n",
    "\n",
    "\n",
    "def clirad_params_atm(atmpro='mls'):\n",
    "    d = {}\n",
    "    for band, molecule in molecules_byband_atm().items():\n",
    "        for param in setup_cliradlw.test_cases():\n",
    "            if [band] == param['band'] and molecule == param['molecule']:\n",
    "                param['atmpro'] = atmpro\n",
    "                d[band] = param\n",
    "                break                \n",
    "    return d\n",
    "\n",
    "\n",
    "def clirad_params_atm_singlerun(atmpro='mls'):\n",
    "    '''\n",
    "    Returns param of clirad-lw run that is equivalent to the total\n",
    "    of all the runs listed in molecules_byband_atm().  In order\n",
    "    for the output to be compatible with clirad_data_atm(), it will\n",
    "    be a list.\n",
    "    '''\n",
    "    param0 = {'band': [1, 2, 3, 4, 5, 6, 7, 8, 9, 10, 11],\n",
    "              'commitnumber': 'eaeed17',\n",
    "              'molecule': {'ch4': 1.8e-06,\n",
    "                           'co2': 0.0004,\n",
    "                           'h2o': 'atmpro',\n",
    "                           'n2o': 3.2e-07,\n",
    "                           'o3': 'atmpro'}}\n",
    "    \n",
    "    d_atmpros = {'mls': 294, 'saw': 257, 'trp': 300}\n",
    "    \n",
    "    param = param0.copy()\n",
    "    param['atmpro'] = atmpro\n",
    "    param['tsfc'] = d_atmpros[atmpro]\n",
    "    \n",
    "    d = {}\n",
    "    d['all'] = param\n",
    "    return d\n",
    "\n",
    "\n",
    "def analysis_dirs_atm(atmpro='mls'):\n",
    "    params = clirad_params_atm(atmpro=atmpro)\n",
    "    return {band: pipe_cliradlw.get_analysis_dir(param=param,\n",
    "                                                 setup=setup_cliradlw) \n",
    "            for band, param in params.items()}\n",
    "\n",
    "\n",
    "def lblnew_params_atm(atmpro='mls'):\n",
    "    dirs = analysis_dirs_atm(atmpro=atmpro)\n",
    "    \n",
    "    d = {}\n",
    "    for band, dirname in dirs.items():\n",
    "        with open(os.path.join(dirname, 'param.py'), \n",
    "                  mode='r', encoding='utf-8') as f:\n",
    "            _, l = f.readlines()\n",
    "        \n",
    "        s = l.split('=')[1].strip()\n",
    "        d[band] = ast.literal_eval(s)\n",
    "        \n",
    "    return d\n"
   ]
  },
  {
   "cell_type": "code",
   "execution_count": 31,
   "metadata": {
    "collapsed": true
   },
   "outputs": [],
   "source": [
    "def db_getdir():\n",
    "    atmpro = 'mls'\n",
    "    params = clirad_params_atm_singlerun(atmpro=atmpro)\n",
    "    param = params['all']\n",
    "    \n",
    "    fdir = pipe_cliradlw.get_fortran_dir(param=param, \n",
    "                                         setup=setup_cliradlw)\n",
    "    return fdir\n",
    "\n",
    "\n",
    "def db_ktable():\n",
    "    fdir = db_getdir()    \n",
    "    fpath = os.path.join(fdir, 'ktable.dat')\n",
    "    \n",
    "    df = pd.read_csv(fpath, sep=r'\\s+')\n",
    "    df = df.set_index(['band', 'mid', 'il', 'it', 'g'])\n",
    "    ds = xr.Dataset.from_dataframe(df)\n",
    "    return ds\n",
    "\n",
    "\n",
    "def db_ng_dgs():\n",
    "    fdir = db_getdir()\n",
    "    fpath = os.path.join(fdir, 'ng_dgs.dat')\n",
    "    \n",
    "    df = pd.read_csv(fpath, sep=r'\\s+')\n",
    "    df = df.set_index(['band', 'mid', 'g'])\n",
    "    ds = xr.Dataset.from_dataframe(df)\n",
    "    return ds\n"
   ]
  },
  {
   "cell_type": "code",
   "execution_count": 32,
   "metadata": {
    "collapsed": true
   },
   "outputs": [],
   "source": [
    "def show_makeup():\n",
    "    df = pd.DataFrame()\n",
    "\n",
    "    for band, molecule in molecules_byband_atm().items():\n",
    "        for name, conc in molecule.items():\n",
    "            df.loc[name, band] = str(conc)\n",
    "\n",
    "    df = df.fillna(0)\n",
    "    df.columns.name = 'clirad band'\n",
    "    df.index.name = 'molecule'\n",
    "    \n",
    "    display.display(df)\n",
    "    \n",
    "    display.display(\n",
    "        display.Markdown('*TABLE.* Non-grey absorbers in the atmosphere.'))\n",
    "\n",
    "\n",
    "def show_grey_makeup():\n",
    "    df = pd.DataFrame()\n",
    "    \n",
    "    for band, molecule in greyabsorbers_by_band_atm().items():\n",
    "        if molecule == None:\n",
    "            pass\n",
    "        else:\n",
    "            for name, conc in molecule.items():\n",
    "                df.loc[name, band] = str(conc)\n",
    "                \n",
    "    df = df.fillna(0)\n",
    "    df.columns.name = 'clirad band'\n",
    "    df.index.name = 'absorber'\n",
    "    \n",
    "    display.display(df)\n",
    "    display.display(\n",
    "        display.Markdown('*TABLE.* Grey absorbers in the atmosphere.')\n",
    "    )"
   ]
  },
  {
   "cell_type": "code",
   "execution_count": 33,
   "metadata": {
    "collapsed": true
   },
   "outputs": [],
   "source": [
    "def load_output_file(path_csv):\n",
    "    '''\n",
    "    Load lblnew output .csv file to xarray.Dataset\n",
    "    \n",
    "    Parameters\n",
    "    ----------\n",
    "    path_csv: str\n",
    "              Path to the .csv file to be loaded.\n",
    "    ds: xarray.Dataset\n",
    "        Data in the input file in the form of an xarray.Dataset.\n",
    "    '''\n",
    "    toindex = ['band', 'pressure', 'igg', 'g']    \n",
    "    df = pd.read_csv(path_csv, sep=r'\\s+')\n",
    "    df = df.set_index([i for i in toindex if i in df.columns])\n",
    "    df = df.rename(columns={'sfu': 'flug',\n",
    "                            'sfd': 'fldg',\n",
    "                            'fnet': 'fnetg',\n",
    "                            'coolr': 'coolrg'})\n",
    "    ds = xr.Dataset.from_dataframe(df)\n",
    "\n",
    "    for l in ('level', 'layer'):\n",
    "        if l in ds.data_vars:\n",
    "            if len(ds[l].dims) > 1:\n",
    "                surface = {d: 0 for d in ds.dims if d != 'pressure'}\n",
    "                coord_level = ds[l][surface]\n",
    "                ds.coords[l] = ('pressure', coord_level)\n",
    "            else:\n",
    "                ds.coords[l] = ('pressure', ds[l])\n",
    "    \n",
    "    return ds"
   ]
  },
  {
   "cell_type": "code",
   "execution_count": 34,
   "metadata": {
    "collapsed": true
   },
   "outputs": [],
   "source": [
    "def lblnew_setup(param=None):\n",
    "    if 'ng_refs' in param:\n",
    "        return {'setup': setup_bestfit,\n",
    "                'fname_flux_crd': 'output_flux.dat',\n",
    "                'fname_cool_crd': 'output_coolr.dat',\n",
    "                'fname_flux_wgt': 'output_wfluxg.dat',\n",
    "                'fname_cool_wgt': 'output_wcoolrg.dat'}\n",
    "    else:\n",
    "        return {'setup': setup_overlap,\n",
    "                'fname_flux_crd': 'output_flux.dat',\n",
    "                'fname_cool_crd': 'output_coolr.dat',\n",
    "                'fname_flux_wgt': 'output_wflux.dat',\n",
    "                'fname_cool_wgt': 'output_wcoolr.dat'}\n",
    "\n",
    "    \n",
    "def load_lblnew_data(param):\n",
    "    \n",
    "    fname_dsname = [('fname_flux_crd', 'ds_flux_crd'),\n",
    "                    ('fname_cool_crd', 'ds_cool_crd'),\n",
    "                    ('fname_flux_wgt', 'ds_flux_wgt'),\n",
    "                    ('fname_cool_wgt', 'ds_cool_wgt')]\n",
    "    \n",
    "    d = lblnew_setup(param)\n",
    "    dir_fortran = pipe_lblnew.get_dir_case(param, setup=d['setup'])\n",
    "    \n",
    "    data_dict = {}\n",
    "    for fname, dsname in fname_dsname:\n",
    "        fpath = os.path.join(dir_fortran, d[fname])\n",
    "        data_dict[dsname] = load_output_file(fpath)\n",
    "    return data_dict"
   ]
  },
  {
   "cell_type": "code",
   "execution_count": 35,
   "metadata": {
    "collapsed": true
   },
   "outputs": [],
   "source": [
    "def crd_data_atm(params_atm):\n",
    "    '''\n",
    "    Parameters\n",
    "    ----------\n",
    "    \n",
    "    params_atm: dict\n",
    "                Parameter dictionary for each band.\n",
    "                \n",
    "    d: dict\n",
    "       'flux': xr.Dataset. [pressure, band]\n",
    "               Fluxes.\n",
    "       'cool': xr.Dataset. [pressure, band]\n",
    "               Cooling rate.\n",
    "    \n",
    "    '''\n",
    "    \n",
    "    results_atm = {band: load_lblnew_data(param) \n",
    "                   for band, param in params_atm.items()}\n",
    "    \n",
    "    bands = [band for band, _ in params_atm.items()]\n",
    "    fluxs = [d['ds_flux_crd'] for _, d in results_atm.items()]\n",
    "    cools = [d['ds_cool_crd'] for _, d in results_atm.items()]\n",
    "    \n",
    "    d = {}\n",
    "    d['flux'] = xr.concat(fluxs, dim=bands).rename({'concat_dim': 'band'})\n",
    "    d['cool'] = xr.concat(cools, dim=bands).rename({'concat_dim': 'band'})\n",
    "    return d        \n",
    "        \n",
    "        \n",
    "\n",
    "def clirad_data_atm(params_atm):\n",
    "    \n",
    "    dirnames = [pipe_cliradlw.get_fortran_dir(param,\n",
    "                                              setup=setup_cliradlw)\n",
    "                for _, param in params_atm.items()]\n",
    "    \n",
    "    fpaths_flux = [os.path.join(n, 'output_flux.dat') for n in dirnames]\n",
    "    fpaths_cool = [os.path.join(n, 'output_coolr.dat') for n in dirnames]\n",
    "    \n",
    "    fluxs = [load_output_file(p) for p in fpaths_flux]    \n",
    "    cools = [load_output_file(p) for p in fpaths_cool]\n",
    "    \n",
    "    d = {}\n",
    "    d['flux'] = sum(fluxs)\n",
    "    d['cool'] = sum(cools)\n",
    "    return d\n",
    "\n"
   ]
  },
  {
   "cell_type": "code",
   "execution_count": 36,
   "metadata": {
    "collapsed": true
   },
   "outputs": [],
   "source": [
    "\n",
    "\n",
    "import rtmtools.clirad.sw.wrangle as cliradwrangle\n",
    "\n",
    "import importlib\n",
    "importlib.reload(cliradwrangle)\n",
    "\n",
    "def oldclirad_data_atm():\n",
    "    '''\n",
    "    Load the OLD clirad's results. mls only.\n",
    "    '''\n",
    "    fpath = os.path.join('/chia_cluster/home/jackyu/radiation',\n",
    "                         'clirad-lw',\n",
    "                         'LW',\n",
    "                         'examples',\n",
    "                         'mls75_h2o_atmpro_co2_.0004_o3_atmpro_n2o_3.2e-7_ch4_1.8e-6_H2012',\n",
    "                         'OUTPUT_CLIRAD.dat')\n",
    "    \n",
    "    ds = cliradwrangle.load_OUTPUT_CLIRAD(readfrom=fpath)\n",
    "    \n",
    "    ds_cool = xr.Dataset()\n",
    "    ds_cool.coords['pressure'] = ('pressure', ds['layer_pressure'])\n",
    "    ds_cool.coords['band'] = ('band', ds['spectral_band'])\n",
    "    ds_cool['coolrg'] = (('band', 'pressure'), - ds['heating_rate'])\n",
    "    \n",
    "    ds_flux = xr.Dataset()\n",
    "    ds_flux.coords['pressure'] = ('pressure', ds['level_pressure'])\n",
    "    ds_flux.coords['band'] = ('band', ds['spectral_band'])\n",
    "    ds_flux['flug'] = (('band', 'pressure'), ds['flux_up'])\n",
    "    ds_flux['fldg'] = (('band', 'pressure'), ds['flux_down'])\n",
    "    ds_flux['fnetg'] = (('band', 'pressure'), ds['net_flux'])\n",
    "    \n",
    "    \n",
    "    d = {}\n",
    "    d['cool'] = ds_cool\n",
    "    d['flux'] = ds_flux\n",
    "    return d\n"
   ]
  },
  {
   "cell_type": "code",
   "execution_count": 37,
   "metadata": {
    "collapsed": true
   },
   "outputs": [],
   "source": [
    "def fmt_cool(ds_in):\n",
    "    ds = ds_in.copy(deep=True)\n",
    "    if 'igg' in ds.dims:\n",
    "        ds = ds.sel(igg=1)\n",
    "\n",
    "    if 'g' in ds.dims:\n",
    "        ds = ds.sum('g')\n",
    "            \n",
    "    if 'band' in ds.dims:\n",
    "        try:\n",
    "            ds = ds.squeeze('band')\n",
    "        except ValueError:\n",
    "            ds = ds.sum('band')\n",
    "                \n",
    "    return ds['coolrg']\n",
    "\n",
    "\n",
    "\n",
    "def nice_xlims(pltdata=None, prange=None):\n",
    "    \n",
    "    def get_slice(srs):\n",
    "        return srs.sel(pressure=slice(*prange))\n",
    "    \n",
    "    srss = [d['srs'] for d in pltdata]\n",
    "    vmin = min([get_slice(srs).min() for srs in srss])\n",
    "    vmax = max([get_slice(srs).max() for srs in srss])\n",
    "    dv = (vmax - vmin) * .01\n",
    "    return float(vmin - dv), float(vmax + dv)\n",
    "\n",
    "\n",
    "    \n",
    "def plt_cool_bokeh(pltdata=None, \n",
    "                   y_axis_type='linear', prange=(50, 1050)):\n",
    "    \n",
    "    ymin = 1e-2 \n",
    "    ymax = 1020\n",
    "    \n",
    "    p2 = figure(y_axis_type=y_axis_type, plot_width=300)\n",
    "    xmin, xmax = nice_xlims(pltdata, prange=prange)\n",
    "    \n",
    "    rs = []\n",
    "    for d in pltdata:\n",
    "        rd = []\n",
    "        if 'marker' in d:\n",
    "            r_mark = getattr(p2, d['marker'])(d['srs'].values, \n",
    "                        d['srs'].coords['pressure'].values,\n",
    "                        color=d['color'], alpha=.7)\n",
    "            rd.append(r_mark)\n",
    "        r_line = p2.line(d['srs'].values, \n",
    "                         d['srs'].coords['pressure'].values,\n",
    "                         color=d['color'], alpha=d['alpha'], \n",
    "                         line_width=d['line_width'], \n",
    "                         line_dash=d['line_dash'])\n",
    "        rd.append(r_line)\n",
    "      \n",
    "        rs.append(rd)\n",
    "        \n",
    "    p2.y_range = Range1d(ymax, ymin)  \n",
    "    p2.yaxis.axis_label = 'pressure [mb]'\n",
    "    \n",
    "    p2.x_range = Range1d(xmin, xmax)\n",
    "    p2.xaxis.axis_label = 'cooling rate [K/day]'\n",
    "    \n",
    "    items = [(d['label'], r) for r, d in zip(rs, pltdata)]\n",
    "    legend = Legend(items=items, location=(10, 0))\n",
    "    legend.label_text_font_size = '8pt'\n",
    "    p2.add_layout(legend, 'above')\n",
    "    p2.legend.orientation = 'horizontal'\n",
    "    p2.legend.location = 'top_center'\n",
    "    \n",
    "    return p2"
   ]
  },
  {
   "cell_type": "code",
   "execution_count": 38,
   "metadata": {
    "collapsed": true
   },
   "outputs": [],
   "source": [
    "def pltdata_cool(atmpro='mls'):\n",
    "    \n",
    "    d_clirad_singlerun = clirad_data_atm(\n",
    "        clirad_params_atm_singlerun(atmpro=atmpro))\n",
    "    d_clirad = clirad_data_atm(clirad_params_atm(atmpro=atmpro))\n",
    "    d_crd = crd_data_atm(lblnew_params_atm(atmpro=atmpro))\n",
    "\n",
    "    ds_clirad_singlerun = d_clirad_singlerun['cool']\n",
    "    ds_clirad = d_clirad['cool']\n",
    "    ds_crd = d_crd['cool']\n",
    "\n",
    "    colors = all_palettes['Set1'][4]\n",
    "    \n",
    "    data = [\n",
    "        {'label': 'CLIRAD (single-run)',\n",
    "        'srs': fmt_cool(ds_clirad_singlerun),\n",
    "        'line_dash': 'dashed', 'line_width': 5,\n",
    "        'color': colors[1], 'alpha': .6},\n",
    "        {'label': 'CRD',\n",
    "         'srs': fmt_cool(ds_crd),\n",
    "         'line_dash': 'solid', 'line_width': 1.5,\n",
    "         'marker': 'circle', 'marker_size': 5,\n",
    "         'color': colors[2], 'alpha': 1}\n",
    "    ]\n",
    "#        {'label': 'CLIRAD',\n",
    "#         'srs': fmt_cool(ds_clirad),\n",
    "#         'line_dash': 'dashed', 'line_width': 5,\n",
    "#         'color': colors[0], 'alpha': .6}\n",
    "        \n",
    "\n",
    "    \n",
    "    # include old CLIRAD's results for mls profile\n",
    "    if atmpro == 'mls':\n",
    "        d_oldclirad = oldclirad_data_atm()\n",
    "        ds_oldclirad = d_oldclirad['cool']        \n",
    "        data.append(\n",
    "            {'label': 'old CLIRAD (H2012)',\n",
    "             'srs': fmt_cool(ds_oldclirad),\n",
    "             'line_dash': 'solid', 'line_width': 1.5,\n",
    "             'marker': 'square', 'marker_size': 3,\n",
    "             'color': colors[3], 'alpha': .5})\n",
    "    return data\n",
    "\n",
    "\n",
    "def pltdata_cooldiff(atmpro='mls'):\n",
    "    \n",
    "    d_clirad_singlerun = clirad_data_atm(\n",
    "        clirad_params_atm_singlerun(atmpro=atmpro))\n",
    "    d_clirad = clirad_data_atm(clirad_params_atm(atmpro=atmpro))\n",
    "    d_crd = crd_data_atm(lblnew_params_atm(atmpro=atmpro))\n",
    "    \n",
    "    ds_clirad_singlerun = d_clirad_singlerun['cool']\n",
    "    ds_clirad = d_clirad['cool']\n",
    "    ds_crd = d_crd['cool']\n",
    "    \n",
    "    ds_diff = ds_clirad_singlerun - ds_crd\n",
    "    \n",
    "    colors = all_palettes['Set1'][4]\n",
    "    \n",
    "    data = [\n",
    "        {'label': 'CLIRAD (single-run) - CRD',\n",
    "         'srs': fmt_cool(ds_diff),\n",
    "         'line_dash': 'solid', 'line_width': 1.5, \n",
    "         'marker': 'circle', 'marker_size': 7,\n",
    "         'color': colors[3], 'alpha': .8}\n",
    "    ]\n",
    "    \n",
    "    # include old CLIRAD's results for mls profile\n",
    "    if atmpro == 'mls':\n",
    "        d_oldclirad = oldclirad_data_atm()\n",
    "        ds_oldclirad = d_oldclirad['cool']\n",
    "        ds_oldclirad.coords['pressure'] = ds_crd.coords['pressure']\n",
    "        ds_diff_old = ds_oldclirad.sum('band') - ds_crd.sum('band')\n",
    "        data.append(\n",
    "            {'label': 'old CLIRAD (H2012) - CRD',\n",
    "             'srs': fmt_cool(ds_diff_old),\n",
    "             'line_dash': 'dashed', 'line_width': 4,\n",
    "             'color': colors[1], 'alpha': .5}\n",
    "        )\n",
    "    return data\n",
    "\n",
    "\n",
    "def show_cool(atmpro='mls'):\n",
    "    \n",
    "    data_cool = pltdata_cool(atmpro=atmpro)\n",
    "    p_cool_liny = plt_cool_bokeh(pltdata=data_cool)\n",
    "    p_cool_logy = plt_cool_bokeh(pltdata=data_cool, \n",
    "                                 y_axis_type='log',\n",
    "                                 prange=(.01, 200))\n",
    "    \n",
    "    data_cooldiff = pltdata_cooldiff(atmpro=atmpro)\n",
    "    p_cooldiff_logy = plt_cool_bokeh(pltdata=data_cooldiff,\n",
    "                                     y_axis_type='log',\n",
    "                                     prange=(.01, 200))\n",
    "    \n",
    "    everything = gridplot(p_cool_liny, p_cool_logy, \n",
    "                          p_cooldiff_logy,\n",
    "                          ncols=3)\n",
    "    show(everything)\n",
    "    display.display(\n",
    "        display.Markdown('*FIGURE.* Cooling rates & difference.'))\n",
    "\n",
    "\n",
    "    "
   ]
  },
  {
   "cell_type": "code",
   "execution_count": null,
   "metadata": {
    "collapsed": true
   },
   "outputs": [],
   "source": []
  },
  {
   "cell_type": "code",
   "execution_count": 39,
   "metadata": {
    "collapsed": true,
    "scrolled": false
   },
   "outputs": [],
   "source": [
    "\n",
    "\n",
    "def hist_band_vs_flux(da, title='Title'):\n",
    "       \n",
    "    bands = [str(b.values) for b in da['band']]\n",
    "\n",
    "    source = ColumnDataSource(\n",
    "        data={'band': bands, 'flux': da.values})\n",
    "\n",
    "    p = figure(x_range=bands, title=title)\n",
    "    p.vbar(source=source, x='band', top='flux', width=.9)\n",
    "\n",
    "    p.yaxis.axis_label = 'flux (W m-2)'\n",
    "    p.xaxis.axis_label = 'spectral band'\n",
    "    \n",
    "    return p\n",
    "\n",
    "\n",
    "def show_hist_flux(atmpro='mls'):\n",
    "    ds_crd = crd_data_atm(lblnew_params_atm(atmpro=atmpro))['flux']\n",
    "    ds_clirad = clirad_data_atm(\n",
    "        clirad_params_atm(atmpro=atmpro))['flux']\n",
    "    ds_clirad_singlerun = clirad_data_atm(\n",
    "        clirad_params_atm_singlerun(atmpro=atmpro))['flux']\n",
    "    \n",
    "    ip, varname = 0, 'flug'\n",
    "    da = (ds_clirad_singlerun - ds_crd).isel(pressure=ip)[varname]\n",
    "    p_toa = hist_band_vs_flux(da, \n",
    "        title='TOA flux. CLIRAD (single-run) - CRD.')\n",
    "\n",
    "    ip, varname = -1, 'fldg'\n",
    "    da = (ds_clirad_singlerun - ds_crd).isel(pressure=ip)[varname]\n",
    "    p_sfc = hist_band_vs_flux(da, \n",
    "        title='SFC flux. CLIRAD (single-run) - CRD.')    \n",
    "    \n",
    "    atm_crd = (ds_crd.isel(pressure=0) \n",
    "               - ds_crd.isel(pressure=-1))['fnetg']\n",
    "    atm_clirad_singlerun = (ds_clirad_singlerun.isel(pressure=0) \n",
    "                  - ds_clirad_singlerun.isel(pressure=-1))['fnetg']\n",
    "    da = atm_clirad_singlerun - atm_crd\n",
    "    p_atm = hist_band_vs_flux(da, \n",
    "        title='Atmosphere heating. CLIRAD (single-run) - CRD.')\n",
    "\n",
    "    everything = gridplot(p_toa, p_sfc, p_atm, ncols=3, \n",
    "                          plot_width=300, plot_height=300)\n",
    "    \n",
    "    show(everything)\n",
    "    display.display(\n",
    "        display.Markdown('*FIGURE.* Difference between CLIRAD and CRD'\n",
    "          ' in TOA, SFC and net atmosphere flux,'\n",
    "          ' in each spectral band.'))\n",
    "\n",
    "\n",
    "    \n",
    "def show_tb_flux(atmpro='mls'):\n",
    "    ds_crd = crd_data_atm(lblnew_params_atm(atmpro=atmpro))['flux']\n",
    "    olr_crd = ds_crd['flug'].isel(pressure=0)\n",
    "    sfc_crd = ds_crd['fldg'].isel(pressure=-1)\n",
    "    atm_crd = (ds_crd.isel(pressure=0)\n",
    "               - ds_crd.isel(pressure=-1))['fnetg']\n",
    "    \n",
    "    ds_clirad = clirad_data_atm(\n",
    "        clirad_params_atm(atmpro=atmpro))['flux']\n",
    "    olr_clirad = ds_clirad['flug'].isel(pressure=0)\n",
    "    sfc_clirad = ds_clirad['fldg'].isel(pressure=-1)\n",
    "    atm_clirad = (ds_clirad.isel(pressure=0)\n",
    "                  - ds_clirad.isel(pressure=-1))['fnetg']\n",
    "\n",
    "    ds_clirad_singlerun = clirad_data_atm(\n",
    "        clirad_params_atm_singlerun(atmpro=atmpro))['flux']\n",
    "    olr_clirad_singlerun = ds_clirad_singlerun['flug'].isel(pressure=0)\n",
    "    sfc_clirad_singlerun = ds_clirad_singlerun['fldg'].isel(pressure=-1)\n",
    "    atm_clirad_singlerun = (ds_clirad_singlerun.isel(pressure=0)\n",
    "                  - ds_clirad_singlerun.isel(pressure=-1))['fnetg']\n",
    "    \n",
    "    if atmpro == 'mls':\n",
    "        ds_oldclirad = oldclirad_data_atm()['flux']\n",
    "        ds_oldclirad['pressure'] = ds_crd['pressure']\n",
    "        olr_oldclirad = ds_oldclirad['flug'].isel(pressure=0)\n",
    "        sfc_oldclirad = ds_oldclirad['fldg'].isel(pressure=-1)\n",
    "        atm_oldclirad = (ds_oldclirad.isel(pressure=0)\n",
    "                         - ds_oldclirad.isel(pressure=-1))['fnetg']\n",
    "        \n",
    "    \n",
    "    \n",
    "    df = pd.DataFrame()\n",
    "    df.index.name = 'Sum over bands'\n",
    "    \n",
    "    if atmpro == 'mls':\n",
    "        df.loc['old CLIRAD - CRD', 'OLR flux'] = (olr_oldclirad.sum('band') - olr_crd.sum('band')).values\n",
    "        df.loc['old CLIRAD - CRD', 'SFC flux'] = (sfc_oldclirad.sum('band') - sfc_crd.sum('band')).values\n",
    "        df.loc['old CLIRAD - CRD', 'ATM heating'] = (atm_oldclirad.sum('band') - atm_crd.sum('band')).values\n",
    "    \n",
    "    df.loc['CLIRAD (single-run) - CRD', 'OLR flux'] = (olr_clirad_singlerun - olr_crd).sum('band').values\n",
    "    df.loc['CLIRAD (single-run) - CRD', 'SFC flux'] = (sfc_clirad_singlerun - sfc_crd).sum('band').values\n",
    "    df.loc['CLIRAD (single-run) - CRD', 'ATM heating'] = (atm_clirad_singlerun - atm_crd).sum('band').values\n",
    "\n",
    "    df.loc['CRD', 'OLR flux'] = olr_crd.sum('band').values\n",
    "    df.loc['CRD', 'SFC flux'] = sfc_crd.sum('band').values\n",
    "    df.loc['CRD', 'ATM heating'] = atm_crd.sum('band').values\n",
    "        \n",
    "    df = df.astype('float').round(2)\n",
    "    \n",
    "    display.display(df)\n",
    "    display.display(\n",
    "        display.Markdown('*TABLE.* Difference between CLIRAD and CRD'\n",
    "          ' in TOA, SFC and net atmosphere flux,'\n",
    "          ' over all spectral bands. CRD\\'s'\n",
    "          ' TOA, SFC and net atmosphere flux,'\n",
    "          ' over all spectral bands.'))\n"
   ]
  },
  {
   "cell_type": "code",
   "execution_count": 40,
   "metadata": {
    "scrolled": false
   },
   "outputs": [
    {
     "data": {
      "text/markdown": [
       "## Results over entire range of molecules and spectral bands"
      ],
      "text/plain": [
       "<IPython.core.display.Markdown object>"
      ]
     },
     "metadata": {},
     "output_type": "display_data"
    },
    {
     "data": {
      "text/markdown": [
       "### Table of Contents"
      ],
      "text/plain": [
       "<IPython.core.display.Markdown object>"
      ]
     },
     "metadata": {},
     "output_type": "display_data"
    },
    {
     "data": {
      "text/html": [
       "<a href=\"#Makeup_of_atmosphere.\">Makeup of atmosphere.</a>"
      ],
      "text/plain": [
       "<IPython.core.display.HTML object>"
      ]
     },
     "metadata": {},
     "output_type": "display_data"
    },
    {
     "data": {
      "text/markdown": [
       "**mid-latitude summer**"
      ],
      "text/plain": [
       "<IPython.core.display.Markdown object>"
      ]
     },
     "metadata": {},
     "output_type": "display_data"
    },
    {
     "data": {
      "text/html": [
       "<a href=\"#Cooling_rates._mls.\">Cooling rates. mls.</a>"
      ],
      "text/plain": [
       "<IPython.core.display.HTML object>"
      ]
     },
     "metadata": {},
     "output_type": "display_data"
    },
    {
     "data": {
      "text/html": [
       "<a href=\"#Fluxes._mls.\">Fluxes. mls.</a>"
      ],
      "text/plain": [
       "<IPython.core.display.HTML object>"
      ]
     },
     "metadata": {},
     "output_type": "display_data"
    },
    {
     "data": {
      "text/markdown": [
       "**sub-arctic winter**"
      ],
      "text/plain": [
       "<IPython.core.display.Markdown object>"
      ]
     },
     "metadata": {},
     "output_type": "display_data"
    },
    {
     "data": {
      "text/html": [
       "<a href=\"#Cooling_rates._saw.\">Cooling rates. saw.</a>"
      ],
      "text/plain": [
       "<IPython.core.display.HTML object>"
      ]
     },
     "metadata": {},
     "output_type": "display_data"
    },
    {
     "data": {
      "text/html": [
       "<a href=\"#Fluxes._saw.\">Fluxes. saw.</a>"
      ],
      "text/plain": [
       "<IPython.core.display.HTML object>"
      ]
     },
     "metadata": {},
     "output_type": "display_data"
    },
    {
     "data": {
      "text/markdown": [
       "**tropical**"
      ],
      "text/plain": [
       "<IPython.core.display.Markdown object>"
      ]
     },
     "metadata": {},
     "output_type": "display_data"
    },
    {
     "data": {
      "text/html": [
       "<a href=\"#Cooling_rates._trp.\">Cooling rates. trp.</a>"
      ],
      "text/plain": [
       "<IPython.core.display.HTML object>"
      ]
     },
     "metadata": {},
     "output_type": "display_data"
    },
    {
     "data": {
      "text/html": [
       "<a href=\"#Fluxes._trp.\">Fluxes. trp.</a>"
      ],
      "text/plain": [
       "<IPython.core.display.HTML object>"
      ]
     },
     "metadata": {},
     "output_type": "display_data"
    },
    {
     "data": {
      "text/html": [
       "<a id=\"Makeup_of_atmosphere.\"></a>"
      ],
      "text/plain": [
       "<IPython.core.display.HTML object>"
      ]
     },
     "metadata": {},
     "output_type": "display_data"
    },
    {
     "data": {
      "text/markdown": [
       "# Makeup of atmosphere."
      ],
      "text/plain": [
       "<IPython.core.display.Markdown object>"
      ]
     },
     "metadata": {},
     "output_type": "display_data"
    },
    {
     "data": {
      "text/html": [
       "<div>\n",
       "<style scoped>\n",
       "    .dataframe tbody tr th:only-of-type {\n",
       "        vertical-align: middle;\n",
       "    }\n",
       "\n",
       "    .dataframe tbody tr th {\n",
       "        vertical-align: top;\n",
       "    }\n",
       "\n",
       "    .dataframe thead th {\n",
       "        text-align: right;\n",
       "    }\n",
       "</style>\n",
       "<table border=\"1\" class=\"dataframe\">\n",
       "  <thead>\n",
       "    <tr style=\"text-align: right;\">\n",
       "      <th>clirad band</th>\n",
       "      <th>1</th>\n",
       "      <th>2</th>\n",
       "      <th>3</th>\n",
       "      <th>4</th>\n",
       "      <th>5</th>\n",
       "      <th>6</th>\n",
       "      <th>7</th>\n",
       "      <th>8</th>\n",
       "      <th>9</th>\n",
       "      <th>10</th>\n",
       "      <th>11</th>\n",
       "    </tr>\n",
       "    <tr>\n",
       "      <th>molecule</th>\n",
       "      <th></th>\n",
       "      <th></th>\n",
       "      <th></th>\n",
       "      <th></th>\n",
       "      <th></th>\n",
       "      <th></th>\n",
       "      <th></th>\n",
       "      <th></th>\n",
       "      <th></th>\n",
       "      <th></th>\n",
       "      <th></th>\n",
       "    </tr>\n",
       "  </thead>\n",
       "  <tbody>\n",
       "    <tr>\n",
       "      <th>h2o</th>\n",
       "      <td>atmpro</td>\n",
       "      <td>atmpro</td>\n",
       "      <td>atmpro</td>\n",
       "      <td>atmpro</td>\n",
       "      <td>atmpro</td>\n",
       "      <td>atmpro</td>\n",
       "      <td>atmpro</td>\n",
       "      <td>atmpro</td>\n",
       "      <td>atmpro</td>\n",
       "      <td>atmpro</td>\n",
       "      <td>atmpro</td>\n",
       "    </tr>\n",
       "    <tr>\n",
       "      <th>co2</th>\n",
       "      <td>0</td>\n",
       "      <td>0</td>\n",
       "      <td>0.0004</td>\n",
       "      <td>0.0004</td>\n",
       "      <td>0.0004</td>\n",
       "      <td>0.0004</td>\n",
       "      <td>0.0004</td>\n",
       "      <td>0</td>\n",
       "      <td>0</td>\n",
       "      <td>0</td>\n",
       "      <td>0.0004</td>\n",
       "    </tr>\n",
       "    <tr>\n",
       "      <th>n2o</th>\n",
       "      <td>0</td>\n",
       "      <td>0</td>\n",
       "      <td>3.2e-07</td>\n",
       "      <td>0</td>\n",
       "      <td>0</td>\n",
       "      <td>0</td>\n",
       "      <td>0</td>\n",
       "      <td>0</td>\n",
       "      <td>3.2e-07</td>\n",
       "      <td>0</td>\n",
       "      <td>0</td>\n",
       "    </tr>\n",
       "    <tr>\n",
       "      <th>o3</th>\n",
       "      <td>0</td>\n",
       "      <td>0</td>\n",
       "      <td>0</td>\n",
       "      <td>0</td>\n",
       "      <td>0</td>\n",
       "      <td>0</td>\n",
       "      <td>atmpro</td>\n",
       "      <td>0</td>\n",
       "      <td>0</td>\n",
       "      <td>0</td>\n",
       "      <td>0</td>\n",
       "    </tr>\n",
       "    <tr>\n",
       "      <th>ch4</th>\n",
       "      <td>0</td>\n",
       "      <td>0</td>\n",
       "      <td>0</td>\n",
       "      <td>0</td>\n",
       "      <td>0</td>\n",
       "      <td>0</td>\n",
       "      <td>0</td>\n",
       "      <td>0</td>\n",
       "      <td>1.8e-06</td>\n",
       "      <td>0</td>\n",
       "      <td>0</td>\n",
       "    </tr>\n",
       "  </tbody>\n",
       "</table>\n",
       "</div>"
      ],
      "text/plain": [
       "clirad band      1       2        3       4       5       6       7       8   \\\n",
       "molecule                                                                       \n",
       "h2o          atmpro  atmpro   atmpro  atmpro  atmpro  atmpro  atmpro  atmpro   \n",
       "co2               0       0   0.0004  0.0004  0.0004  0.0004  0.0004       0   \n",
       "n2o               0       0  3.2e-07       0       0       0       0       0   \n",
       "o3                0       0        0       0       0       0  atmpro       0   \n",
       "ch4               0       0        0       0       0       0       0       0   \n",
       "\n",
       "clirad band       9       10      11  \n",
       "molecule                              \n",
       "h2o           atmpro  atmpro  atmpro  \n",
       "co2                0       0  0.0004  \n",
       "n2o          3.2e-07       0       0  \n",
       "o3                 0       0       0  \n",
       "ch4          1.8e-06       0       0  "
      ]
     },
     "metadata": {},
     "output_type": "display_data"
    },
    {
     "data": {
      "text/markdown": [
       "*TABLE.* Non-grey absorbers in the atmosphere."
      ],
      "text/plain": [
       "<IPython.core.display.Markdown object>"
      ]
     },
     "metadata": {},
     "output_type": "display_data"
    },
    {
     "data": {
      "text/html": [
       "<a id=\"Cooling_rates._mls.\"></a>"
      ],
      "text/plain": [
       "<IPython.core.display.HTML object>"
      ]
     },
     "metadata": {},
     "output_type": "display_data"
    },
    {
     "data": {
      "text/markdown": [
       "# Cooling rates. mls."
      ],
      "text/plain": [
       "<IPython.core.display.Markdown object>"
      ]
     },
     "metadata": {},
     "output_type": "display_data"
    },
    {
     "data": {
      "text/html": [
       "\n",
       "<div class=\"bk-root\">\n",
       "    <div class=\"bk-plotdiv\" id=\"d5863d9e-c5f3-4b3b-a153-eb50c93384da\"></div>\n",
       "</div>"
      ]
     },
     "metadata": {},
     "output_type": "display_data"
    },
    {
     "data": {
      "application/javascript": [
       "(function(root) {\n",
       "  function embed_document(root) {\n",
       "    \n",
       "  var docs_json = {\"37859aa4-c9b1-4d97-8682-5b35ddfab7f3\":{\"roots\":{\"references\":[{\"attributes\":{},\"id\":\"692b3474-c267-43e1-9b22-de432b5a3ea8\",\"type\":\"Selection\"},{\"attributes\":{},\"id\":\"7c17bbfb-8006-4df2-a197-18801d19ef59\",\"type\":\"UnionRenderers\"},{\"attributes\":{\"callback\":null,\"end\":2.3135572748904605,\"start\":-0.22322766227646001},\"id\":\"74e3ce75-4dc7-4d83-bd2e-421c06f50e92\",\"type\":\"Range1d\"},{\"attributes\":{\"axis_label\":\"pressure [mb]\",\"formatter\":{\"id\":\"9ee880a7-7c1b-4cc2-8390-fcae90f496b6\",\"type\":\"BasicTickFormatter\"},\"plot\":{\"id\":\"036182d0-6e0e-4896-bba4-b4e3a93fafe7\",\"subtype\":\"Figure\",\"type\":\"Plot\"},\"ticker\":{\"id\":\"78b1b384-f792-4423-91cc-3d6eab9c5045\",\"type\":\"BasicTicker\"}},\"id\":\"71d3f938-66ff-4c62-b654-4f2cef38b3e6\",\"type\":\"LinearAxis\"},{\"attributes\":{\"line_alpha\":0.5,\"line_color\":\"#984ea3\",\"line_width\":1.5,\"x\":{\"field\":\"x\"},\"y\":{\"field\":\"y\"}},\"id\":\"aa4bffea-9c51-423d-b252-a2e708057c02\",\"type\":\"Line\"},{\"attributes\":{},\"id\":\"6220992c-c6ff-4724-8366-940a087c9785\",\"type\":\"UnionRenderers\"},{\"attributes\":{},\"id\":\"b99ed4eb-b530-4854-87bf-e30a6f182ff6\",\"type\":\"BasicTickFormatter\"},{\"attributes\":{\"above\":[{\"id\":\"03141491-9001-49ba-9f95-b721578a1c34\",\"type\":\"Legend\"}],\"below\":[{\"id\":\"cdca3b85-e7c2-4fb4-a946-b06692a1b0b8\",\"type\":\"LinearAxis\"}],\"left\":[{\"id\":\"71d3f938-66ff-4c62-b654-4f2cef38b3e6\",\"type\":\"LinearAxis\"}],\"plot_width\":300,\"renderers\":[{\"id\":\"cdca3b85-e7c2-4fb4-a946-b06692a1b0b8\",\"type\":\"LinearAxis\"},{\"id\":\"0f87ed2f-bc8e-4778-a99b-a6253c872145\",\"type\":\"Grid\"},{\"id\":\"71d3f938-66ff-4c62-b654-4f2cef38b3e6\",\"type\":\"LinearAxis\"},{\"id\":\"125af592-65ad-4cf6-bba1-85d0847c6654\",\"type\":\"Grid\"},{\"id\":\"07affe66-9cf7-4edf-b7c1-5b6c73f865d3\",\"type\":\"BoxAnnotation\"},{\"id\":\"0dbe0dba-c1dc-45ae-9623-5d2ec93988fe\",\"type\":\"GlyphRenderer\"},{\"id\":\"c63bcbc8-ae3a-4385-9b15-55e76a2f1a88\",\"type\":\"GlyphRenderer\"},{\"id\":\"031f1ca6-b76e-4081-b6e6-a34dac644476\",\"type\":\"GlyphRenderer\"},{\"id\":\"ccf88984-4100-435f-8eb7-9194901489f0\",\"type\":\"GlyphRenderer\"},{\"id\":\"8facbdd5-dd3f-4fb3-b6f5-f9d1644a63a1\",\"type\":\"GlyphRenderer\"},{\"id\":\"03141491-9001-49ba-9f95-b721578a1c34\",\"type\":\"Legend\"}],\"title\":{\"id\":\"9791cf3e-6634-4687-99c8-b4e5bdbf06a8\",\"type\":\"Title\"},\"toolbar\":{\"id\":\"67fceaca-dd5a-4967-ba8b-8599feaa40c7\",\"type\":\"Toolbar\"},\"toolbar_location\":null,\"x_range\":{\"id\":\"74e3ce75-4dc7-4d83-bd2e-421c06f50e92\",\"type\":\"Range1d\"},\"x_scale\":{\"id\":\"5e94730f-4550-4c6e-826b-615c26ad595f\",\"type\":\"LinearScale\"},\"y_range\":{\"id\":\"acd1c82b-6ed0-4134-98c2-fc4a395f58dc\",\"type\":\"Range1d\"},\"y_scale\":{\"id\":\"409ee201-ae5e-4fdc-89df-9ab20b2ee9d8\",\"type\":\"LinearScale\"}},\"id\":\"036182d0-6e0e-4896-bba4-b4e3a93fafe7\",\"subtype\":\"Figure\",\"type\":\"Plot\"},{\"attributes\":{},\"id\":\"48197cfb-2c6c-4f4f-8439-3ba5b0d9374c\",\"type\":\"BasicTicker\"},{\"attributes\":{\"line_alpha\":0.6,\"line_color\":\"#377eb8\",\"line_dash\":[6],\"line_width\":5,\"x\":{\"field\":\"x\"},\"y\":{\"field\":\"y\"}},\"id\":\"80de587d-a11e-4b72-bb78-274a27bfd1d9\",\"type\":\"Line\"},{\"attributes\":{\"ticker\":null},\"id\":\"cec0f292-9004-4759-974d-af52e26186cf\",\"type\":\"LogTickFormatter\"},{\"attributes\":{},\"id\":\"959d7f23-5007-4050-be1d-e325a2ff92df\",\"type\":\"Selection\"},{\"attributes\":{},\"id\":\"e9a92eca-0f13-4f95-adc5-fea2d6a73b34\",\"type\":\"UnionRenderers\"},{\"attributes\":{\"plot\":{\"id\":\"036182d0-6e0e-4896-bba4-b4e3a93fafe7\",\"subtype\":\"Figure\",\"type\":\"Plot\"},\"ticker\":{\"id\":\"48197cfb-2c6c-4f4f-8439-3ba5b0d9374c\",\"type\":\"BasicTicker\"}},\"id\":\"0f87ed2f-bc8e-4778-a99b-a6253c872145\",\"type\":\"Grid\"},{\"attributes\":{},\"id\":\"82aba623-ee8f-4985-aba3-8a6318ddd0bc\",\"type\":\"UnionRenderers\"},{\"attributes\":{},\"id\":\"40f92197-77aa-42f6-86c0-dbe6449056cc\",\"type\":\"Selection\"},{\"attributes\":{\"dimension\":1,\"plot\":{\"id\":\"036182d0-6e0e-4896-bba4-b4e3a93fafe7\",\"subtype\":\"Figure\",\"type\":\"Plot\"},\"ticker\":{\"id\":\"78b1b384-f792-4423-91cc-3d6eab9c5045\",\"type\":\"BasicTicker\"}},\"id\":\"125af592-65ad-4cf6-bba1-85d0847c6654\",\"type\":\"Grid\"},{\"attributes\":{\"plot\":null,\"text\":\"\"},\"id\":\"46c46c68-fb8a-4f80-938a-c0f538038922\",\"type\":\"Title\"},{\"attributes\":{},\"id\":\"78b1b384-f792-4423-91cc-3d6eab9c5045\",\"type\":\"BasicTicker\"},{\"attributes\":{},\"id\":\"87b20330-e5b2-4012-85f9-02f12d60fbd0\",\"type\":\"Selection\"},{\"attributes\":{},\"id\":\"9ee880a7-7c1b-4cc2-8390-fcae90f496b6\",\"type\":\"BasicTickFormatter\"},{\"attributes\":{\"source\":{\"id\":\"c62d4033-cbb5-47f5-acb9-d5ea67fb05b2\",\"type\":\"ColumnDataSource\"}},\"id\":\"dd4f2b3c-5b3f-4b11-b73b-4db2f0d98772\",\"type\":\"CDSView\"},{\"attributes\":{},\"id\":\"2c1b4ca2-206f-490e-afad-4a7feec1e5b5\",\"type\":\"Selection\"},{\"attributes\":{},\"id\":\"1b07f252-ba8f-4434-867f-de07df8217e7\",\"type\":\"Selection\"},{\"attributes\":{},\"id\":\"203bdba5-5764-461a-8c19-60bad1e3d1bc\",\"type\":\"UnionRenderers\"},{\"attributes\":{\"axis_label\":\"cooling rate [K/day]\",\"formatter\":{\"id\":\"e73d77d4-0272-4838-ad01-bd0ac583d82b\",\"type\":\"BasicTickFormatter\"},\"plot\":{\"id\":\"036182d0-6e0e-4896-bba4-b4e3a93fafe7\",\"subtype\":\"Figure\",\"type\":\"Plot\"},\"ticker\":{\"id\":\"48197cfb-2c6c-4f4f-8439-3ba5b0d9374c\",\"type\":\"BasicTicker\"}},\"id\":\"cdca3b85-e7c2-4fb4-a946-b06692a1b0b8\",\"type\":\"LinearAxis\"},{\"attributes\":{\"overlay\":{\"id\":\"07affe66-9cf7-4edf-b7c1-5b6c73f865d3\",\"type\":\"BoxAnnotation\"}},\"id\":\"67eaf25f-829b-43ad-bf6b-81f1b3caeb8b\",\"type\":\"BoxZoomTool\"},{\"attributes\":{},\"id\":\"848ae3a8-a934-4391-81e3-322064d6bae5\",\"type\":\"Selection\"},{\"attributes\":{},\"id\":\"3bc2c790-479a-4180-a26e-0e4ce22aab1a\",\"type\":\"ResetTool\"},{\"attributes\":{\"num_minor_ticks\":10},\"id\":\"48e96443-ef7f-4f09-870e-3a6fb95c33f4\",\"type\":\"LogTicker\"},{\"attributes\":{},\"id\":\"9a3227c4-35cc-4e3b-8c9f-c1f9a5cc4a42\",\"type\":\"UnionRenderers\"},{\"attributes\":{},\"id\":\"2a50fe5d-82b0-452c-a321-8e88d4488601\",\"type\":\"UnionRenderers\"},{\"attributes\":{\"source\":{\"id\":\"bf1a049e-979e-4e26-8529-35dd42e54861\",\"type\":\"ColumnDataSource\"}},\"id\":\"b580ba7e-e52c-49a0-96e2-b1b21bc5509e\",\"type\":\"CDSView\"},{\"attributes\":{\"children\":[{\"id\":\"0815f79b-891f-4bf8-833a-8d8918307bef\",\"type\":\"ToolbarBox\"},{\"id\":\"8f98496c-0326-440f-b096-4b99de192bd6\",\"type\":\"Column\"}]},\"id\":\"b5b3ec7b-b04e-4afa-bce6-9a179960d225\",\"type\":\"Column\"},{\"attributes\":{\"bottom_units\":\"screen\",\"fill_alpha\":{\"value\":0.5},\"fill_color\":{\"value\":\"lightgrey\"},\"left_units\":\"screen\",\"level\":\"overlay\",\"line_alpha\":{\"value\":1.0},\"line_color\":{\"value\":\"black\"},\"line_dash\":[4,4],\"line_width\":{\"value\":2},\"plot\":null,\"render_mode\":\"css\",\"right_units\":\"screen\",\"top_units\":\"screen\"},\"id\":\"07affe66-9cf7-4edf-b7c1-5b6c73f865d3\",\"type\":\"BoxAnnotation\"},{\"attributes\":{},\"id\":\"e44e8655-b4a4-49c8-bd62-520c8847a597\",\"type\":\"LogScale\"},{\"attributes\":{\"source\":{\"id\":\"9e638f38-a0a0-4dc1-9bfe-34420b5fc570\",\"type\":\"ColumnDataSource\"}},\"id\":\"60eed06c-0263-44c3-9ec2-1da35dc99dca\",\"type\":\"CDSView\"},{\"attributes\":{\"callback\":null,\"data\":{\"x\":{\"__ndarray__\":\"oGsWFOcWRMAMO53n/6ogwD3viZgKZgLA/QYLKQLU/D8kxx1hxGkOQMQ0+uZxzQ5AVNhXd+QeBEAOfWNUzSflP8Ab6dWes+m/+NL3xc/V9b/FaMqELYjxv9IJsBTPId+/TcZOEIimsD/RlBh077XZP+5CgCXcI98/xk80a5U21D+mvbpH91KhP0I7juACtdC/1aw+HWoz4L+eELp8N6Pgv46j72rX7tG/sPOr1cQ1eb8yylG8HeyqvzLdYsjI0NO/iNtWXRBP17+iXw8BsSGxvwV3o383itg/95efVY5T1z8Wf4KYaOC3Pxz4JWCS45c/xGzh7qDj0D/z9Jq0lJzVP9S9cwqzvcM/ncXJA03snL/+DCuavWFzP5gifvItdK4/6ix5O2qXfj/VIxwFX/CrvyFUz3G74La/my7Kb2SHub/iQ7MhNea1vxA1JmSLibC/ec3xKLA2r7/CQWKSSD+dv/kBCet07ba/jdOl0S2ZuL/hF/AL7Yurv4nkUKY76K6/oQAAbI22s7/sel+r8Oayv1lPEDkNp6u/hX6dcBWzor/B7Z2I616YvxIFFivn5ZS/kePwCZ6plL+En8uXwV+Zv6r8aguhXJu/hY8q3THCk78YErbXNlBWP49H38C+f6A/WwZhsThqrD+Qb3Iuc+mtP/D2ZI59eqU/qxypqzTKlT/wr1QOo+RZP+CjI8tNBUE/JP80BLOBgT9iFteBPlSeP2eXidFcb6g/plqmh+qrrz+CO88mJx2yP91eBcEyWbM/pmiOXiQjtD+1cER8wdW0P/GeJNn6VLQ/\",\"dtype\":\"float64\",\"shape\":[75]},\"y\":{\"__ndarray__\":\"GhExyth1ND/Sv8nbtpRIP2vylNV0PVE/aTum7souWD/At0SJ8fVgPw3Iuahxymc/MSNhhJWvcD/bTfBN02d3P2zb5nxnaoA/CD5h5MAGhz8NmeH1TyaQP+zrCsc9p5Y/LbKd76fGnz/bLW5ISEmmPww9YvTcQq8/JV2OstnstT8Er5Y7M8G+P0c+r3jqkcU/5h99k6ZBzj88bCIzFzjVP4enV8oyxN0//yH99nXg5D8qOpLLf0jtP5kqGJXUifQ/c9cS8kHP/D+/DpwzojQEQIEmwoanVwxA4lgXt9HgE0BSSZ2AJuIbQAMJih9jjiNA5q4l5INuK0AwTKYKRj0zQNv5fmq8/DpAaCJseHrtQkB/+zpwzoxKQM3MzMzMeFJAZmZmZmZqWEAAAAAAAFxeQM3MzMzMJmJAmpmZmZkfZUBmZmZmZhhoQDMzMzMzEWtAAAAAAAAKbkBmZmZmZoFwQM3MzMzM/XFAMzMzMzN6c0CamZmZmfZ0QAAAAAAAc3ZAZmZmZmbvd0DNzMzMzGt5QDMzMzMz6HpAmpmZmZlkfEAAAAAAAOF9QGZmZmZmXX9AZmZmZuZsgECamZmZGSuBQM3MzMxM6YFAAAAAAICngkAzMzMzs2WDQGZmZmbmI4RAmpmZmRnihEDNzMzMTKCFQAAAAACAXoZAMzMzM7Mch0BmZmZm5tqHQJqZmZkZmYhAzczMzExXiUAAAAAAgBWKQDMzMzOz04pAZmZmZuaRi0CamZmZGVCMQM3MzMxMDo1AAAAAAIDMjUAzMzMzs4qOQGZmZmbmSI9A\",\"dtype\":\"float64\",\"shape\":[75]}},\"selected\":{\"id\":\"f4e6fa9a-b519-4bab-bfe7-745556d433c5\",\"type\":\"Selection\"},\"selection_policy\":{\"id\":\"9a3227c4-35cc-4e3b-8c9f-c1f9a5cc4a42\",\"type\":\"UnionRenderers\"}},\"id\":\"dfe9d1ca-b24a-4565-a9ae-67ce4bd83fab\",\"type\":\"ColumnDataSource\"},{\"attributes\":{\"data_source\":{\"id\":\"dfe9d1ca-b24a-4565-a9ae-67ce4bd83fab\",\"type\":\"ColumnDataSource\"},\"glyph\":{\"id\":\"82d57e2c-7b99-4e01-ace5-78010f2ca281\",\"type\":\"Line\"},\"hover_glyph\":null,\"muted_glyph\":null,\"nonselection_glyph\":{\"id\":\"d774e564-5c63-4a9c-b509-892bff9a1601\",\"type\":\"Line\"},\"selection_glyph\":null,\"view\":{\"id\":\"edb022c1-66cc-4172-9a26-002afdc1abca\",\"type\":\"CDSView\"}},\"id\":\"5a9d48ac-fc58-4532-bffb-c587452ed4e3\",\"type\":\"GlyphRenderer\"},{\"attributes\":{},\"id\":\"47515b46-f9f1-4bf7-b273-9c4ed548a4b7\",\"type\":\"PanTool\"},{\"attributes\":{\"callback\":null,\"data\":{\"x\":{\"__ndarray__\":\"MXhf+wfXU0AZbvNjswdFQLQWsEQVdUFA5TlpnhT9QUB/x1dOYK05QImjxHmcEjZA9jYDSBB3L0AISPl4H6wqQBPuuwfAzyJAOcHprUZAIUB7WWpkesAXQJoT1Uq+ChVArO/8u0EXCkBgVNlshzgCQMeNQ+Nzu/I/POwv1Qzh+D9QxMRmcj8DQOrE7tC4mAxAQsLBRIlHEkAi4cPYoDEXQEeDpjRjzB1ASZ0GEfCuI0DVFj11sssnQOMiVKSMHyhAWRHvUxNoJEDo8cjD4g8gQLGGvR2NDRpAdpI3nV5oFECtyWH9Lp4QQIZQd9bvmwtAkshlnu1BBkBMysnQf1UAQHZJU/DYZ/c/HoEhV+G48T/rSm4vc/TmP3EgV4cD49g/xmy6+4w7zz+bEsjh3uDDPw5SRMRogKs/4GPKdPc1a78lazVXN1vCP/B84ODeUug/LOyxgXDV9z+/DBHyZAwAQAOIY+fy/QFAahF3XKCUAECV0GHvGsz+P+X4k4Nhvf0/RO/IqI98/T8rkW+v/zT9P59vGMDsAv0/zEX7plCY/D/E3siS8kj7P2yUMv+hDvs/RmrXDaYs+z+c9f5GCO36P58nVCbr7vo/Qus8hbcy/D+rD5hFMCf9P4t6dxofnPw/bRp4QYZ2/D/q8NNiN2b8P5YTVw9ESPw/l1Dy0X/K+j+WKih3ZdD5P2k8OYxHjvk/hceGh5N4+T8lpPahWSn5P6vJnePt4vY/UuhmxnXI9T8miFqdE+D0Pz7qfx5CR/Q/0khvq2US9D9LfVdHQGv0P9syeEmwYfg/\",\"dtype\":\"float64\",\"shape\":[75]},\"y\":{\"__ndarray__\":\"hLndy31yND/6fmq8dJNIP8n9DkWBPlE/aDum7souWD/b4a/JGvVgP9f34SAhymc/ZvM4DOavcD+z0M5pFmh3PxuC4zJuaoA/xjcUPlsHhz8uHAjJAiaQP9ieWRKgppY/oI7HDFTGnz+a5h2n6EimPzS6g9iZQq8/IuAQqtTstT9SSZ2AJsK+P4nS3uALk8U/ih9j7lpCzj+ASL99HTjVP4enV8oyxN0/ACL99nXg5D9fmEwVjErtPyUGgZVDi/Q/AiuHFtnO/D9OYhBYOTQEQPHSTWIQWAxA4XoUrkfhE0D8qfHSTeIbQMh2vp8ajyNArkfhehRuK0Bcj8L1KDwzQFyPwvUo/DpAPgrXo3DtQkDNzMzMzIxKQClcj8L1eFJAKVyPwvVoWECamZmZmVleQGZmZmZmJmJAAAAAAAAgZUCamZmZmRloQJqZmZmZEWtAmpmZmZkJbkCamZmZmYFwQGZmZmZm/nFAZmZmZmZ6c0BmZmZmZvZ0QDQzMzMzc3ZAAAAAAADwd0AAAAAAAGx5QAAAAAAA6HpAzMzMzMxkfEDMzMzMzOB9QM3MzMzMXH9AzczMzMxsgEAzMzMzMyuBQDMzMzMz6YFAMzMzMzOngkCamZmZmWWDQAAAAAAAJIRAAAAAAADihEAAAAAAAKCFQGZmZmZmXoZAzczMzMwch0DNzMzMzNqHQM3MzMzMmIhAMzMzMzNXiUCamZmZmRWKQAAAAAAA1IpAAAAAAACSi0AAAAAAAFCMQGZmZmZmDo1AzczMzMzMjUDNzMzMzIqOQM3MzMzMSI9A\",\"dtype\":\"float64\",\"shape\":[75]}},\"selected\":{\"id\":\"2c1b4ca2-206f-490e-afad-4a7feec1e5b5\",\"type\":\"Selection\"},\"selection_policy\":{\"id\":\"6220992c-c6ff-4724-8366-940a087c9785\",\"type\":\"UnionRenderers\"}},\"id\":\"c62d4033-cbb5-47f5-acb9-d5ea67fb05b2\",\"type\":\"ColumnDataSource\"},{\"attributes\":{\"data_source\":{\"id\":\"9e638f38-a0a0-4dc1-9bfe-34420b5fc570\",\"type\":\"ColumnDataSource\"},\"glyph\":{\"id\":\"bab5d83c-4fd1-44dd-97a3-b738fa86fcce\",\"type\":\"Line\"},\"hover_glyph\":null,\"muted_glyph\":null,\"nonselection_glyph\":{\"id\":\"dee08947-dedb-4e5b-812c-ac692de1f71c\",\"type\":\"Line\"},\"selection_glyph\":null,\"view\":{\"id\":\"60eed06c-0263-44c3-9ec2-1da35dc99dca\",\"type\":\"CDSView\"}},\"id\":\"031f1ca6-b76e-4081-b6e6-a34dac644476\",\"type\":\"GlyphRenderer\"},{\"attributes\":{\"source\":{\"id\":\"0c2994c6-b1ba-45cb-9769-216c7fd4eee4\",\"type\":\"ColumnDataSource\"}},\"id\":\"f201e063-4008-4d16-b859-caacd469dc5a\",\"type\":\"CDSView\"},{\"attributes\":{\"bottom_units\":\"screen\",\"fill_alpha\":{\"value\":0.5},\"fill_color\":{\"value\":\"lightgrey\"},\"left_units\":\"screen\",\"level\":\"overlay\",\"line_alpha\":{\"value\":1.0},\"line_color\":{\"value\":\"black\"},\"line_dash\":[4,4],\"line_width\":{\"value\":2},\"plot\":null,\"render_mode\":\"css\",\"right_units\":\"screen\",\"top_units\":\"screen\"},\"id\":\"b29b7367-baa3-4a60-9db0-ab19b286594f\",\"type\":\"BoxAnnotation\"},{\"attributes\":{},\"id\":\"bae85c4b-1b19-4866-9f7f-dd0b5f1478a3\",\"type\":\"UnionRenderers\"},{\"attributes\":{},\"id\":\"ed763328-c50f-4075-9d87-db20fb059c8a\",\"type\":\"HelpTool\"},{\"attributes\":{\"active_drag\":\"auto\",\"active_inspect\":\"auto\",\"active_scroll\":\"auto\",\"active_tap\":\"auto\",\"tools\":[{\"id\":\"b3823526-8b32-46e7-b334-87a454765310\",\"type\":\"PanTool\"},{\"id\":\"38511160-e460-4305-ac40-ec81f3dee32d\",\"type\":\"WheelZoomTool\"},{\"id\":\"e74bd195-ddaa-4e34-bcb2-04115205b2c5\",\"type\":\"BoxZoomTool\"},{\"id\":\"6039a21f-7b0a-4d80-b383-a499d2f45c8d\",\"type\":\"SaveTool\"},{\"id\":\"3bc2c790-479a-4180-a26e-0e4ce22aab1a\",\"type\":\"ResetTool\"},{\"id\":\"ed763328-c50f-4075-9d87-db20fb059c8a\",\"type\":\"HelpTool\"}]},\"id\":\"b8d8e0ca-9b0c-453f-8f38-db1ad8e21e69\",\"type\":\"Toolbar\"},{\"attributes\":{},\"id\":\"0934f49b-cbdb-407e-8b9c-a0d8387fc0e8\",\"type\":\"PanTool\"},{\"attributes\":{\"line_alpha\":0.1,\"line_color\":\"#1f77b4\",\"line_width\":1.5,\"x\":{\"field\":\"x\"},\"y\":{\"field\":\"y\"}},\"id\":\"d774e564-5c63-4a9c-b509-892bff9a1601\",\"type\":\"Line\"},{\"attributes\":{\"source\":{\"id\":\"291e0c59-fde5-4bdd-b9ba-dfe25de7f798\",\"type\":\"ColumnDataSource\"}},\"id\":\"f7f86152-a521-4a8d-bdc2-099ac53b202f\",\"type\":\"CDSView\"},{\"attributes\":{\"line_alpha\":0.1,\"line_color\":\"#1f77b4\",\"line_dash\":[6],\"line_width\":5,\"x\":{\"field\":\"x\"},\"y\":{\"field\":\"y\"}},\"id\":\"7eea4b4b-a650-4a84-ab4e-d8c271368310\",\"type\":\"Line\"},{\"attributes\":{},\"id\":\"6bc66f86-f412-4b33-8c73-283a24ac4976\",\"type\":\"UnionRenderers\"},{\"attributes\":{\"callback\":null,\"end\":0.7323360194662635,\"start\":-1.576281364019664},\"id\":\"6f7af869-9a0c-4121-bea7-d4586a873b78\",\"type\":\"Range1d\"},{\"attributes\":{\"children\":[{\"id\":\"036182d0-6e0e-4896-bba4-b4e3a93fafe7\",\"subtype\":\"Figure\",\"type\":\"Plot\"},{\"id\":\"6aca8675-cd7c-4c14-9912-f5387254d44b\",\"subtype\":\"Figure\",\"type\":\"Plot\"},{\"id\":\"162e79e9-0a13-4b70-901b-011bf922bb7c\",\"subtype\":\"Figure\",\"type\":\"Plot\"}]},\"id\":\"549dca8a-12c6-4133-8a53-e67cb686aa16\",\"type\":\"Row\"},{\"attributes\":{\"callback\":null,\"data\":{\"x\":{\"__ndarray__\":\"EFTPEMULEsBY5Soo7NcRwOAih0PfTQnAcLzxlkslFUAgkIluU6TzP+gpDdzLdwVAICHKUKVt1T+Ik7s3hMbwP6AHr9TDy9y/ECnbDOK15j+w2qv7vfbXvzCQ/22EH9Y/ABwN6PuE1b8w8RgTZ5TNP8ZxqdeCOdI/WPaTJPMAyz/gCWaNx9zKv4Bz2SfMkLG/QNDU2Dvrw7/gjDvG8ELPv3BfAcZ9A9W/QPE2M06U4r+4EtXbvdv4v8CHA9UM1vO/wNkC+csj1L9A31CHx4DGv4BAVcDWEKk/AJyjBEwOpL8A2K0iJHelvwAHMEdHKYW/QAFQrblkpT+AYHxUdJWePwCcnL/AFYO/AIDdMF2+IL9AoMQ3Xs6Hv8CEJWa/IIk/SHjx3bH7mD9glt/hXwibv4AXhtbv81c/0ZPByHVmuD+ZIBKsyEuxPwB7VdwaDKi/AMK2wPlcpL+A1M+Jt0OhvwBblecIUqS/AOzlE2F5m79AcNDuEvKUv8BO6MRU/Ja/ALSuiFPKhL8ASGwETKOKvwCIZggV2Yi/AB5fgpVndD+A7LY9mXWhv8C4xgD0L5O/ALuUgd63fD8AAPReZ8gCPwB4gQY0fE+/gN8kEc8Okj9ggdWOaw6mPwButB7pzIA/QJoEKHMXlz9A3ZOmSfmuP0CC+mOR17o/8L5CjVu4sD8gd3D5DeiqP4BAGGl6MbI/oBQpEQTvtT+AoHD36662PwCQysucWWu/gOgg5EKCgD+gmD6me76hPwAZquxAgK4/MDP40Wo1tD/gyKr9n0C3P9Ci4ei4h7S/\",\"dtype\":\"float64\",\"shape\":[75]},\"y\":{\"__ndarray__\":\"GhExyth1ND/Sv8nbtpRIP2vylNV0PVE/aTum7souWD/At0SJ8fVgPw3Iuahxymc/MSNhhJWvcD/bTfBN02d3P2zb5nxnaoA/CD5h5MAGhz8NmeH1TyaQP+zrCsc9p5Y/LbKd76fGnz/bLW5ISEmmPww9YvTcQq8/JV2OstnstT8Er5Y7M8G+P0c+r3jqkcU/5h99k6ZBzj88bCIzFzjVP4enV8oyxN0//yH99nXg5D8qOpLLf0jtP5kqGJXUifQ/c9cS8kHP/D+/DpwzojQEQIEmwoanVwxA4lgXt9HgE0BSSZ2AJuIbQAMJih9jjiNA5q4l5INuK0AwTKYKRj0zQNv5fmq8/DpAaCJseHrtQkB/+zpwzoxKQM3MzMzMeFJAZmZmZmZqWEAAAAAAAFxeQM3MzMzMJmJAmpmZmZkfZUBmZmZmZhhoQDMzMzMzEWtAAAAAAAAKbkBmZmZmZoFwQM3MzMzM/XFAMzMzMzN6c0CamZmZmfZ0QAAAAAAAc3ZAZmZmZmbvd0DNzMzMzGt5QDMzMzMz6HpAmpmZmZlkfEAAAAAAAOF9QGZmZmZmXX9AZmZmZuZsgECamZmZGSuBQM3MzMxM6YFAAAAAAICngkAzMzMzs2WDQGZmZmbmI4RAmpmZmRnihEDNzMzMTKCFQAAAAACAXoZAMzMzM7Mch0BmZmZm5tqHQJqZmZkZmYhAzczMzExXiUAAAAAAgBWKQDMzMzOz04pAZmZmZuaRi0CamZmZGVCMQM3MzMxMDo1AAAAAAIDMjUAzMzMzs4qOQGZmZmbmSI9A\",\"dtype\":\"float64\",\"shape\":[75]}},\"selected\":{\"id\":\"42de77b5-ab99-423b-95c2-143bd56923a9\",\"type\":\"Selection\"},\"selection_policy\":{\"id\":\"93cde25c-ef7c-4bee-9571-7d422a365a54\",\"type\":\"UnionRenderers\"}},\"id\":\"28921a4f-a2e5-48da-9b24-b71d2f7e14ba\",\"type\":\"ColumnDataSource\"},{\"attributes\":{\"plot\":null,\"text\":\"\"},\"id\":\"b16c4460-74f5-4949-b748-7206608204a4\",\"type\":\"Title\"},{\"attributes\":{\"line_alpha\":0.1,\"line_color\":\"#1f77b4\",\"line_width\":1.5,\"x\":{\"field\":\"x\"},\"y\":{\"field\":\"y\"}},\"id\":\"dee08947-dedb-4e5b-812c-ac692de1f71c\",\"type\":\"Line\"},{\"attributes\":{},\"id\":\"128f8d93-ad8d-4f1c-9484-d004c6bb7669\",\"type\":\"SaveTool\"},{\"attributes\":{\"fill_alpha\":{\"value\":0.7},\"fill_color\":{\"value\":\"#984ea3\"},\"line_alpha\":{\"value\":0.7},\"line_color\":{\"value\":\"#984ea3\"},\"x\":{\"field\":\"x\"},\"y\":{\"field\":\"y\"}},\"id\":\"9fe1d7cf-6951-45a9-abcd-84467fd26a77\",\"type\":\"Square\"},{\"attributes\":{},\"id\":\"f536f610-5ffc-4ac4-aa0a-93ab32d8604c\",\"type\":\"HelpTool\"},{\"attributes\":{},\"id\":\"494286a3-da8c-48e6-b7a8-317298434eda\",\"type\":\"Selection\"},{\"attributes\":{\"data_source\":{\"id\":\"bf1a049e-979e-4e26-8529-35dd42e54861\",\"type\":\"ColumnDataSource\"},\"glyph\":{\"id\":\"9fe1d7cf-6951-45a9-abcd-84467fd26a77\",\"type\":\"Square\"},\"hover_glyph\":null,\"muted_glyph\":null,\"nonselection_glyph\":{\"id\":\"bb60e616-601f-4aec-895a-7731385c18dc\",\"type\":\"Square\"},\"selection_glyph\":null,\"view\":{\"id\":\"b580ba7e-e52c-49a0-96e2-b1b21bc5509e\",\"type\":\"CDSView\"}},\"id\":\"ccf88984-4100-435f-8eb7-9194901489f0\",\"type\":\"GlyphRenderer\"},{\"attributes\":{\"axis_label\":\"cooling rate [K/day]\",\"formatter\":{\"id\":\"7e27a1dd-eec8-4feb-b14e-992bf95f78e0\",\"type\":\"BasicTickFormatter\"},\"plot\":{\"id\":\"162e79e9-0a13-4b70-901b-011bf922bb7c\",\"subtype\":\"Figure\",\"type\":\"Plot\"},\"ticker\":{\"id\":\"c981262b-789c-4401-8079-4e1fb05ab571\",\"type\":\"BasicTicker\"}},\"id\":\"f1ce0676-061d-4d79-a88c-e424ad85492d\",\"type\":\"LinearAxis\"},{\"attributes\":{},\"id\":\"7e27a1dd-eec8-4feb-b14e-992bf95f78e0\",\"type\":\"BasicTickFormatter\"},{\"attributes\":{\"data_source\":{\"id\":\"c62d4033-cbb5-47f5-acb9-d5ea67fb05b2\",\"type\":\"ColumnDataSource\"},\"glyph\":{\"id\":\"aa4bffea-9c51-423d-b252-a2e708057c02\",\"type\":\"Line\"},\"hover_glyph\":null,\"muted_glyph\":null,\"nonselection_glyph\":{\"id\":\"d45a2604-fed0-4120-bad6-74e3482e9805\",\"type\":\"Line\"},\"selection_glyph\":null,\"view\":{\"id\":\"dd4f2b3c-5b3f-4b11-b73b-4db2f0d98772\",\"type\":\"CDSView\"}},\"id\":\"8facbdd5-dd3f-4fb3-b6f5-f9d1644a63a1\",\"type\":\"GlyphRenderer\"},{\"attributes\":{\"tools\":[{\"id\":\"47515b46-f9f1-4bf7-b273-9c4ed548a4b7\",\"type\":\"PanTool\"},{\"id\":\"ee711a14-93a7-4f47-af0d-db001b7665c1\",\"type\":\"WheelZoomTool\"},{\"id\":\"67eaf25f-829b-43ad-bf6b-81f1b3caeb8b\",\"type\":\"BoxZoomTool\"},{\"id\":\"e8747a8c-5412-4c36-8038-1812f4838a22\",\"type\":\"SaveTool\"},{\"id\":\"7171d95a-b3a8-449b-b50a-67307a2df196\",\"type\":\"ResetTool\"},{\"id\":\"7f67f3f3-35b5-4abb-8345-3644a0ee18d2\",\"type\":\"HelpTool\"},{\"id\":\"b3823526-8b32-46e7-b334-87a454765310\",\"type\":\"PanTool\"},{\"id\":\"38511160-e460-4305-ac40-ec81f3dee32d\",\"type\":\"WheelZoomTool\"},{\"id\":\"e74bd195-ddaa-4e34-bcb2-04115205b2c5\",\"type\":\"BoxZoomTool\"},{\"id\":\"6039a21f-7b0a-4d80-b383-a499d2f45c8d\",\"type\":\"SaveTool\"},{\"id\":\"3bc2c790-479a-4180-a26e-0e4ce22aab1a\",\"type\":\"ResetTool\"},{\"id\":\"ed763328-c50f-4075-9d87-db20fb059c8a\",\"type\":\"HelpTool\"},{\"id\":\"0934f49b-cbdb-407e-8b9c-a0d8387fc0e8\",\"type\":\"PanTool\"},{\"id\":\"4a82d55f-accc-47b1-8438-0f163aafeb96\",\"type\":\"WheelZoomTool\"},{\"id\":\"2d6561b4-7311-4c6c-b8cd-8abb55c035c2\",\"type\":\"BoxZoomTool\"},{\"id\":\"128f8d93-ad8d-4f1c-9484-d004c6bb7669\",\"type\":\"SaveTool\"},{\"id\":\"63b9e74a-74ed-4f7f-a97a-31480d586832\",\"type\":\"ResetTool\"},{\"id\":\"f536f610-5ffc-4ac4-aa0a-93ab32d8604c\",\"type\":\"HelpTool\"}]},\"id\":\"e496decb-a09f-47d3-963e-8bf4148b6037\",\"type\":\"ProxyToolbar\"},{\"attributes\":{},\"id\":\"ee711a14-93a7-4f47-af0d-db001b7665c1\",\"type\":\"WheelZoomTool\"},{\"attributes\":{},\"id\":\"e8747a8c-5412-4c36-8038-1812f4838a22\",\"type\":\"SaveTool\"},{\"attributes\":{\"callback\":null,\"data\":{\"x\":{\"__ndarray__\":\"QW/ChKHYRUABfBHv8BdDQO7pX4+S40FAjlrTPAs/QEBi55KjU0A8QOVEIjtRPTdAAW6pHa7pMUBoDUjHy+UpQJPUAjnkGiJAkii6KF00GkDyfPLi2t0UQPkZqhKpthFAXgmBeRVNDUDo1yrq/pUDQBJCuTYK9vU/YoFqy5OO+j/mD7q8ijIFQB7JG9aeDgtAKZPg33XgEEB3e15vURcWQASfV5qt/R1A31afOw7VJEBkZ/sSPswqQPJ8sfjH+ylASXHMMLlOJECnFuR/okcgQKATN+gOZBtALtOaGrQFFkBYLwnonigRQH3MfkLg4AtAJbaM1c4ICEAqMLR+58sCQGn6INO6Bfo/9OD7FbZF8T+Hs4EjcHrnP564dUqD6Ns/JQfYEdIQzT9x/Lwc00XAP+SGDp6tAKO/xAoZ+sRjyb+ScdT6eNyDv/4NISJvwuc/0BNwzqJ+9z+OhxM/9RYAQGCVqWPPlwFApa4RsMkGAECakb3Sg0P+P/wSdfkQIv0/okwaebtq/D8NcsI81zv8PzS6YIBmV/w/t/rzZVDu+z9vHpSuI3P7PzxXiTLKB/s/+xEut0e9+j80CdGvY4f6P91Lpyhohfo/hq2DgXOb+z8jUdf2UHz8P+0LQT6D/vw/NxBjOnr9/D975RKvuF38PyqTiuWeRvs/G8nM6yIW+j8IPCAwnv/4P9UcYY9Qbfg/OqB8rKY8+D929obcuzf4P6/7j5gVtPc/VtnblNCk9j8Yh5Uy8nP1P2TvKkPTiPQ/Kaw4REER9D/JF0FfkkT0P/aWmIV77/o/\",\"dtype\":\"float64\",\"shape\":[75]},\"y\":{\"__ndarray__\":\"GhExyth1ND/Sv8nbtpRIP2vylNV0PVE/aTum7souWD/At0SJ8fVgPw3Iuahxymc/MSNhhJWvcD/bTfBN02d3P2zb5nxnaoA/CD5h5MAGhz8NmeH1TyaQP+zrCsc9p5Y/LbKd76fGnz/bLW5ISEmmPww9YvTcQq8/JV2OstnstT8Er5Y7M8G+P0c+r3jqkcU/5h99k6ZBzj88bCIzFzjVP4enV8oyxN0//yH99nXg5D8qOpLLf0jtP5kqGJXUifQ/c9cS8kHP/D+/DpwzojQEQIEmwoanVwxA4lgXt9HgE0BSSZ2AJuIbQAMJih9jjiNA5q4l5INuK0AwTKYKRj0zQNv5fmq8/DpAaCJseHrtQkB/+zpwzoxKQM3MzMzMeFJAZmZmZmZqWEAAAAAAAFxeQM3MzMzMJmJAmpmZmZkfZUBmZmZmZhhoQDMzMzMzEWtAAAAAAAAKbkBmZmZmZoFwQM3MzMzM/XFAMzMzMzN6c0CamZmZmfZ0QAAAAAAAc3ZAZmZmZmbvd0DNzMzMzGt5QDMzMzMz6HpAmpmZmZlkfEAAAAAAAOF9QGZmZmZmXX9AZmZmZuZsgECamZmZGSuBQM3MzMxM6YFAAAAAAICngkAzMzMzs2WDQGZmZmbmI4RAmpmZmRnihEDNzMzMTKCFQAAAAACAXoZAMzMzM7Mch0BmZmZm5tqHQJqZmZkZmYhAzczMzExXiUAAAAAAgBWKQDMzMzOz04pAZmZmZuaRi0CamZmZGVCMQM3MzMxMDo1AAAAAAIDMjUAzMzMzs4qOQGZmZmbmSI9A\",\"dtype\":\"float64\",\"shape\":[75]}},\"selected\":{\"id\":\"959d7f23-5007-4050-be1d-e325a2ff92df\",\"type\":\"Selection\"},\"selection_policy\":{\"id\":\"82aba623-ee8f-4985-aba3-8a6318ddd0bc\",\"type\":\"UnionRenderers\"}},\"id\":\"7d8a7405-bc7d-4679-8cdf-f952cf219a08\",\"type\":\"ColumnDataSource\"},{\"attributes\":{},\"id\":\"409ee201-ae5e-4fdc-89df-9ab20b2ee9d8\",\"type\":\"LinearScale\"},{\"attributes\":{\"ticker\":null},\"id\":\"442652a4-080e-4be5-95bc-339db94676bf\",\"type\":\"LogTickFormatter\"},{\"attributes\":{\"overlay\":{\"id\":\"b29b7367-baa3-4a60-9db0-ab19b286594f\",\"type\":\"BoxAnnotation\"}},\"id\":\"2d6561b4-7311-4c6c-b8cd-8abb55c035c2\",\"type\":\"BoxZoomTool\"},{\"attributes\":{\"bottom_units\":\"screen\",\"fill_alpha\":{\"value\":0.5},\"fill_color\":{\"value\":\"lightgrey\"},\"left_units\":\"screen\",\"level\":\"overlay\",\"line_alpha\":{\"value\":1.0},\"line_color\":{\"value\":\"black\"},\"line_dash\":[4,4],\"line_width\":{\"value\":2},\"plot\":null,\"render_mode\":\"css\",\"right_units\":\"screen\",\"top_units\":\"screen\"},\"id\":\"e9b45497-26db-452a-b6df-10c1c4206852\",\"type\":\"BoxAnnotation\"},{\"attributes\":{},\"id\":\"7171d95a-b3a8-449b-b50a-67307a2df196\",\"type\":\"ResetTool\"},{\"attributes\":{\"data_source\":{\"id\":\"291e0c59-fde5-4bdd-b9ba-dfe25de7f798\",\"type\":\"ColumnDataSource\"},\"glyph\":{\"id\":\"38de4c40-bdfa-446f-bb18-7be126feb04b\",\"type\":\"Circle\"},\"hover_glyph\":null,\"muted_glyph\":null,\"nonselection_glyph\":{\"id\":\"33495270-f221-4860-bf4a-fc20ea84c80b\",\"type\":\"Circle\"},\"selection_glyph\":null,\"view\":{\"id\":\"f7f86152-a521-4a8d-bdc2-099ac53b202f\",\"type\":\"CDSView\"}},\"id\":\"c63bcbc8-ae3a-4385-9b15-55e76a2f1a88\",\"type\":\"GlyphRenderer\"},{\"attributes\":{},\"id\":\"3ffff786-89c8-4300-82f3-eb22da39f444\",\"type\":\"LinearScale\"},{\"attributes\":{\"children\":[{\"id\":\"549dca8a-12c6-4133-8a53-e67cb686aa16\",\"type\":\"Row\"}]},\"id\":\"8f98496c-0326-440f-b096-4b99de192bd6\",\"type\":\"Column\"},{\"attributes\":{\"data_source\":{\"id\":\"0c2994c6-b1ba-45cb-9769-216c7fd4eee4\",\"type\":\"ColumnDataSource\"},\"glyph\":{\"id\":\"9910b883-c26f-4437-8153-f51d3e31f7b1\",\"type\":\"Circle\"},\"hover_glyph\":null,\"muted_glyph\":null,\"nonselection_glyph\":{\"id\":\"0ff64071-d055-414a-8ed7-10c35bee10d8\",\"type\":\"Circle\"},\"selection_glyph\":null,\"view\":{\"id\":\"f201e063-4008-4d16-b859-caacd469dc5a\",\"type\":\"CDSView\"}},\"id\":\"8e68088b-712c-414d-b6af-03118df14518\",\"type\":\"GlyphRenderer\"},{\"attributes\":{\"items\":[{\"id\":\"258ff8ce-cf32-4206-b502-3a5bdf058264\",\"type\":\"LegendItem\"},{\"id\":\"fe0623d5-cd23-4791-b4c4-331b1cf26c7b\",\"type\":\"LegendItem\"}],\"label_text_font_size\":{\"value\":\"8pt\"},\"location\":\"top_center\",\"orientation\":\"horizontal\",\"plot\":{\"id\":\"162e79e9-0a13-4b70-901b-011bf922bb7c\",\"subtype\":\"Figure\",\"type\":\"Plot\"}},\"id\":\"7c622ab2-bdd2-4d00-8d0e-4af5dd4c4689\",\"type\":\"Legend\"},{\"attributes\":{\"callback\":null,\"data\":{\"x\":{\"__ndarray__\":\"MXhf+wfXU0AZbvNjswdFQLQWsEQVdUFA5TlpnhT9QUB/x1dOYK05QImjxHmcEjZA9jYDSBB3L0AISPl4H6wqQBPuuwfAzyJAOcHprUZAIUB7WWpkesAXQJoT1Uq+ChVArO/8u0EXCkBgVNlshzgCQMeNQ+Nzu/I/POwv1Qzh+D9QxMRmcj8DQOrE7tC4mAxAQsLBRIlHEkAi4cPYoDEXQEeDpjRjzB1ASZ0GEfCuI0DVFj11sssnQOMiVKSMHyhAWRHvUxNoJEDo8cjD4g8gQLGGvR2NDRpAdpI3nV5oFECtyWH9Lp4QQIZQd9bvmwtAkshlnu1BBkBMysnQf1UAQHZJU/DYZ/c/HoEhV+G48T/rSm4vc/TmP3EgV4cD49g/xmy6+4w7zz+bEsjh3uDDPw5SRMRogKs/4GPKdPc1a78lazVXN1vCP/B84ODeUug/LOyxgXDV9z+/DBHyZAwAQAOIY+fy/QFAahF3XKCUAECV0GHvGsz+P+X4k4Nhvf0/RO/IqI98/T8rkW+v/zT9P59vGMDsAv0/zEX7plCY/D/E3siS8kj7P2yUMv+hDvs/RmrXDaYs+z+c9f5GCO36P58nVCbr7vo/Qus8hbcy/D+rD5hFMCf9P4t6dxofnPw/bRp4QYZ2/D/q8NNiN2b8P5YTVw9ESPw/l1Dy0X/K+j+WKih3ZdD5P2k8OYxHjvk/hceGh5N4+T8lpPahWSn5P6vJnePt4vY/UuhmxnXI9T8miFqdE+D0Pz7qfx5CR/Q/0khvq2US9D9LfVdHQGv0P9syeEmwYfg/\",\"dtype\":\"float64\",\"shape\":[75]},\"y\":{\"__ndarray__\":\"hLndy31yND/6fmq8dJNIP8n9DkWBPlE/aDum7souWD/b4a/JGvVgP9f34SAhymc/ZvM4DOavcD+z0M5pFmh3PxuC4zJuaoA/xjcUPlsHhz8uHAjJAiaQP9ieWRKgppY/oI7HDFTGnz+a5h2n6EimPzS6g9iZQq8/IuAQqtTstT9SSZ2AJsK+P4nS3uALk8U/ih9j7lpCzj+ASL99HTjVP4enV8oyxN0/ACL99nXg5D9fmEwVjErtPyUGgZVDi/Q/AiuHFtnO/D9OYhBYOTQEQPHSTWIQWAxA4XoUrkfhE0D8qfHSTeIbQMh2vp8ajyNArkfhehRuK0Bcj8L1KDwzQFyPwvUo/DpAPgrXo3DtQkDNzMzMzIxKQClcj8L1eFJAKVyPwvVoWECamZmZmVleQGZmZmZmJmJAAAAAAAAgZUCamZmZmRloQJqZmZmZEWtAmpmZmZkJbkCamZmZmYFwQGZmZmZm/nFAZmZmZmZ6c0BmZmZmZvZ0QDQzMzMzc3ZAAAAAAADwd0AAAAAAAGx5QAAAAAAA6HpAzMzMzMxkfEDMzMzMzOB9QM3MzMzMXH9AzczMzMxsgEAzMzMzMyuBQDMzMzMz6YFAMzMzMzOngkCamZmZmWWDQAAAAAAAJIRAAAAAAADihEAAAAAAAKCFQGZmZmZmXoZAzczMzMwch0DNzMzMzNqHQM3MzMzMmIhAMzMzMzNXiUCamZmZmRWKQAAAAAAA1IpAAAAAAACSi0AAAAAAAFCMQGZmZmZmDo1AzczMzMzMjUDNzMzMzIqOQM3MzMzMSI9A\",\"dtype\":\"float64\",\"shape\":[75]}},\"selected\":{\"id\":\"87b20330-e5b2-4012-85f9-02f12d60fbd0\",\"type\":\"Selection\"},\"selection_policy\":{\"id\":\"e9a92eca-0f13-4f95-adc5-fea2d6a73b34\",\"type\":\"UnionRenderers\"}},\"id\":\"bf1a049e-979e-4e26-8529-35dd42e54861\",\"type\":\"ColumnDataSource\"},{\"attributes\":{\"label\":{\"value\":\"CLIRAD (single-run)\"},\"renderers\":[{\"id\":\"0dbe0dba-c1dc-45ae-9623-5d2ec93988fe\",\"type\":\"GlyphRenderer\"}]},\"id\":\"9cb4b0fd-f4f5-4fbe-acce-da3928f73d5f\",\"type\":\"LegendItem\"},{\"attributes\":{\"fill_alpha\":{\"value\":0.1},\"fill_color\":{\"value\":\"#1f77b4\"},\"line_alpha\":{\"value\":0.1},\"line_color\":{\"value\":\"#1f77b4\"},\"x\":{\"field\":\"x\"},\"y\":{\"field\":\"y\"}},\"id\":\"bb60e616-601f-4aec-895a-7731385c18dc\",\"type\":\"Square\"},{\"attributes\":{},\"id\":\"93cde25c-ef7c-4bee-9571-7d422a365a54\",\"type\":\"UnionRenderers\"},{\"attributes\":{\"line_color\":\"#4daf4a\",\"line_width\":1.5,\"x\":{\"field\":\"x\"},\"y\":{\"field\":\"y\"}},\"id\":\"bab5d83c-4fd1-44dd-97a3-b738fa86fcce\",\"type\":\"Line\"},{\"attributes\":{\"fill_alpha\":{\"value\":0.1},\"fill_color\":{\"value\":\"#1f77b4\"},\"line_alpha\":{\"value\":0.1},\"line_color\":{\"value\":\"#1f77b4\"},\"x\":{\"field\":\"x\"},\"y\":{\"field\":\"y\"}},\"id\":\"33495270-f221-4860-bf4a-fc20ea84c80b\",\"type\":\"Circle\"},{\"attributes\":{\"data_source\":{\"id\":\"7d8a7405-bc7d-4679-8cdf-f952cf219a08\",\"type\":\"ColumnDataSource\"},\"glyph\":{\"id\":\"80de587d-a11e-4b72-bb78-274a27bfd1d9\",\"type\":\"Line\"},\"hover_glyph\":null,\"muted_glyph\":null,\"nonselection_glyph\":{\"id\":\"7eea4b4b-a650-4a84-ab4e-d8c271368310\",\"type\":\"Line\"},\"selection_glyph\":null,\"view\":{\"id\":\"3f983097-27c6-40d5-9f9a-f8f98ca2ba27\",\"type\":\"CDSView\"}},\"id\":\"2079c708-38b9-4973-a317-db042f3e74eb\",\"type\":\"GlyphRenderer\"},{\"attributes\":{},\"id\":\"7f67f3f3-35b5-4abb-8345-3644a0ee18d2\",\"type\":\"HelpTool\"},{\"attributes\":{\"fill_alpha\":{\"value\":0.7},\"fill_color\":{\"value\":\"#4daf4a\"},\"line_alpha\":{\"value\":0.7},\"line_color\":{\"value\":\"#4daf4a\"},\"x\":{\"field\":\"x\"},\"y\":{\"field\":\"y\"}},\"id\":\"38de4c40-bdfa-446f-bb18-7be126feb04b\",\"type\":\"Circle\"},{\"attributes\":{\"line_alpha\":0.8,\"line_color\":\"#984ea3\",\"line_width\":1.5,\"x\":{\"field\":\"x\"},\"y\":{\"field\":\"y\"}},\"id\":\"82d57e2c-7b99-4e01-ace5-78010f2ca281\",\"type\":\"Line\"},{\"attributes\":{\"callback\":null,\"data\":{\"x\":{\"__ndarray__\":\"cm1sTMT3VEDEyvjosEJHQOKI6DjzCUNArgQWV9awPkB9Lm8XG3M4QEz+Qv6iYzNA7eV8HaPLLkCX1QHyTpMoQFBmYSYetiNAUB04GtGpH0AmFyVE5j8ZQJca9QPGqBNALJP+OOHHDEBNxaf7QF8AQKtislomWuw/cW2dcO6A9T/uJJvfPu0EQIaQLTI/JQ1AxGiII+PmEkCJvfVeuCsYQD6ZBhGbHB9AXQw69DTYJEAsubcwKucqQNuT9D5OmipAJyi3szEJJUBlNebh5WkgQDDcPHBr2xlArtlANXuQFEBdJadFHckQQI2Avh0ZsQtAjYiwt1rsBUCL0SDoVBgAQK6C0nEEjvc/CggLSme58T9sXU2orFPnP0v0JYz9Gdg/vT38vxYczD9nBQTe6kHHP1IhkEXJwKo/8OZnhCVAub+xtVgCpmqzP6DUpY6g0+k/PKK3T1h4+D8RTDjQc1EAQG/dAQs7TwJAQt2eHpPLAEBWEh074x//PyCap9ZSGf4/rEzaTySm/T+7aXhHRmr9P688KeqeNP0/ruZ4EemD/D8olrZcn9T7P0+vNc9hW/s/i9VVL+4P+z+0NzC24uz6P8731Kza8vo/xFf4SHzq+z+gYyHpvHb8P68ROkiFevw/BAjYdCga/D8AUp8VbW77P3JrF/nKmvo/qCQeGfq++T/dplwHJfn4P2G4p+Uva/g/OzZ0RqMZ+D8dmn/iar73P/OuA7Ka8PY/gaaeQHGn9T9hkyjAH1L0P3aZGhdAU/M/n8VP/g7P8j+90HxHNvfyPwhNBtgrqvk/\",\"dtype\":\"float64\",\"shape\":[75]},\"y\":{\"__ndarray__\":\"GhExyth1ND/Sv8nbtpRIP2vylNV0PVE/aTum7souWD/At0SJ8fVgPw3Iuahxymc/MSNhhJWvcD/bTfBN02d3P2zb5nxnaoA/CD5h5MAGhz8NmeH1TyaQP+zrCsc9p5Y/LbKd76fGnz/bLW5ISEmmPww9YvTcQq8/JV2OstnstT8Er5Y7M8G+P0c+r3jqkcU/5h99k6ZBzj88bCIzFzjVP4enV8oyxN0//yH99nXg5D8qOpLLf0jtP5kqGJXUifQ/c9cS8kHP/D+/DpwzojQEQIEmwoanVwxA4lgXt9HgE0BSSZ2AJuIbQAMJih9jjiNA5q4l5INuK0AwTKYKRj0zQNv5fmq8/DpAaCJseHrtQkB/+zpwzoxKQM3MzMzMeFJAZmZmZmZqWEAAAAAAAFxeQM3MzMzMJmJAmpmZmZkfZUBmZmZmZhhoQDMzMzMzEWtAAAAAAAAKbkBmZmZmZoFwQM3MzMzM/XFAMzMzMzN6c0CamZmZmfZ0QAAAAAAAc3ZAZmZmZmbvd0DNzMzMzGt5QDMzMzMz6HpAmpmZmZlkfEAAAAAAAOF9QGZmZmZmXX9AZmZmZuZsgECamZmZGSuBQM3MzMxM6YFAAAAAAICngkAzMzMzs2WDQGZmZmbmI4RAmpmZmRnihEDNzMzMTKCFQAAAAACAXoZAMzMzM7Mch0BmZmZm5tqHQJqZmZkZmYhAzczMzExXiUAAAAAAgBWKQDMzMzOz04pAZmZmZuaRi0CamZmZGVCMQM3MzMxMDo1AAAAAAIDMjUAzMzMzs4qOQGZmZmbmSI9A\",\"dtype\":\"float64\",\"shape\":[75]}},\"selected\":{\"id\":\"de0af210-950c-4158-a7b2-94e68cb74ee1\",\"type\":\"Selection\"},\"selection_policy\":{\"id\":\"bfcf2f56-4a95-4020-b6ad-f9089fbb68a3\",\"type\":\"UnionRenderers\"}},\"id\":\"9e638f38-a0a0-4dc1-9bfe-34420b5fc570\",\"type\":\"ColumnDataSource\"},{\"attributes\":{\"source\":{\"id\":\"dfe9d1ca-b24a-4565-a9ae-67ce4bd83fab\",\"type\":\"ColumnDataSource\"}},\"id\":\"edb022c1-66cc-4172-9a26-002afdc1abca\",\"type\":\"CDSView\"},{\"attributes\":{},\"id\":\"63b9e74a-74ed-4f7f-a97a-31480d586832\",\"type\":\"ResetTool\"},{\"attributes\":{\"axis_label\":\"pressure [mb]\",\"formatter\":{\"id\":\"442652a4-080e-4be5-95bc-339db94676bf\",\"type\":\"LogTickFormatter\"},\"plot\":{\"id\":\"162e79e9-0a13-4b70-901b-011bf922bb7c\",\"subtype\":\"Figure\",\"type\":\"Plot\"},\"ticker\":{\"id\":\"48e96443-ef7f-4f09-870e-3a6fb95c33f4\",\"type\":\"LogTicker\"}},\"id\":\"65d44c5e-a6e0-49e0-8334-0bb7216b1703\",\"type\":\"LogAxis\"},{\"attributes\":{},\"id\":\"4a82d55f-accc-47b1-8438-0f163aafeb96\",\"type\":\"WheelZoomTool\"},{\"attributes\":{},\"id\":\"42de77b5-ab99-423b-95c2-143bd56923a9\",\"type\":\"Selection\"},{\"attributes\":{\"toolbar\":{\"id\":\"e496decb-a09f-47d3-963e-8bf4148b6037\",\"type\":\"ProxyToolbar\"},\"toolbar_location\":\"above\"},\"id\":\"0815f79b-891f-4bf8-833a-8d8918307bef\",\"type\":\"ToolbarBox\"},{\"attributes\":{},\"id\":\"f4e6fa9a-b519-4bab-bfe7-745556d433c5\",\"type\":\"Selection\"},{\"attributes\":{\"active_drag\":\"auto\",\"active_inspect\":\"auto\",\"active_scroll\":\"auto\",\"active_tap\":\"auto\",\"tools\":[{\"id\":\"0934f49b-cbdb-407e-8b9c-a0d8387fc0e8\",\"type\":\"PanTool\"},{\"id\":\"4a82d55f-accc-47b1-8438-0f163aafeb96\",\"type\":\"WheelZoomTool\"},{\"id\":\"2d6561b4-7311-4c6c-b8cd-8abb55c035c2\",\"type\":\"BoxZoomTool\"},{\"id\":\"128f8d93-ad8d-4f1c-9484-d004c6bb7669\",\"type\":\"SaveTool\"},{\"id\":\"63b9e74a-74ed-4f7f-a97a-31480d586832\",\"type\":\"ResetTool\"},{\"id\":\"f536f610-5ffc-4ac4-aa0a-93ab32d8604c\",\"type\":\"HelpTool\"}]},\"id\":\"1d909336-901e-4329-981c-39538d972668\",\"type\":\"Toolbar\"},{\"attributes\":{},\"id\":\"c981262b-789c-4401-8079-4e1fb05ab571\",\"type\":\"BasicTicker\"},{\"attributes\":{},\"id\":\"5e94730f-4550-4c6e-826b-615c26ad595f\",\"type\":\"LinearScale\"},{\"attributes\":{\"axis_label\":\"pressure [mb]\",\"formatter\":{\"id\":\"cec0f292-9004-4759-974d-af52e26186cf\",\"type\":\"LogTickFormatter\"},\"plot\":{\"id\":\"6aca8675-cd7c-4c14-9912-f5387254d44b\",\"subtype\":\"Figure\",\"type\":\"Plot\"},\"ticker\":{\"id\":\"7ce24904-af5f-439e-b9f0-2319fdb89fb1\",\"type\":\"LogTicker\"}},\"id\":\"dc5f2571-721c-4ef2-a847-836e4019ddd2\",\"type\":\"LogAxis\"},{\"attributes\":{\"source\":{\"id\":\"b50cff33-e06a-4de5-b89c-0ef760e67b4f\",\"type\":\"ColumnDataSource\"}},\"id\":\"963ad1c0-2f02-486f-90d5-14d7ec3be80f\",\"type\":\"CDSView\"},{\"attributes\":{\"source\":{\"id\":\"28921a4f-a2e5-48da-9b24-b71d2f7e14ba\",\"type\":\"ColumnDataSource\"}},\"id\":\"e8d44e4c-afe4-410a-b424-f16bcceb13e9\",\"type\":\"CDSView\"},{\"attributes\":{\"items\":[{\"id\":\"9cb4b0fd-f4f5-4fbe-acce-da3928f73d5f\",\"type\":\"LegendItem\"},{\"id\":\"744cf4db-ab00-465b-be09-a5b01ea20ce5\",\"type\":\"LegendItem\"},{\"id\":\"80aa1d68-6030-4fb6-9843-7de99f9dadbb\",\"type\":\"LegendItem\"}],\"label_text_font_size\":{\"value\":\"8pt\"},\"location\":\"top_center\",\"orientation\":\"horizontal\",\"plot\":{\"id\":\"036182d0-6e0e-4896-bba4-b4e3a93fafe7\",\"subtype\":\"Figure\",\"type\":\"Plot\"}},\"id\":\"03141491-9001-49ba-9f95-b721578a1c34\",\"type\":\"Legend\"},{\"attributes\":{\"callback\":null,\"end\":13.587992271301857,\"start\":-0.33485573154785997},\"id\":\"95eb11c8-d259-4b9e-ba79-46b94d71cfa7\",\"type\":\"Range1d\"},{\"attributes\":{\"data_source\":{\"id\":\"bbc4cd05-f1d9-4bc7-8052-a377771373ae\",\"type\":\"ColumnDataSource\"},\"glyph\":{\"id\":\"c386a55a-114a-4bd5-bd75-24dc310e201f\",\"type\":\"Circle\"},\"hover_glyph\":null,\"muted_glyph\":null,\"nonselection_glyph\":{\"id\":\"ec8d9e76-7382-48f6-9c92-b8a5c2eba5a3\",\"type\":\"Circle\"},\"selection_glyph\":null,\"view\":{\"id\":\"0f5407f8-6743-4ec0-81ed-d308617a6833\",\"type\":\"CDSView\"}},\"id\":\"203ace4c-bfa4-4fae-b41c-9bea5f28d44d\",\"type\":\"GlyphRenderer\"},{\"attributes\":{\"callback\":null,\"data\":{\"x\":{\"__ndarray__\":\"cm1sTMT3VEDEyvjosEJHQOKI6DjzCUNArgQWV9awPkB9Lm8XG3M4QEz+Qv6iYzNA7eV8HaPLLkCX1QHyTpMoQFBmYSYetiNAUB04GtGpH0AmFyVE5j8ZQJca9QPGqBNALJP+OOHHDEBNxaf7QF8AQKtislomWuw/cW2dcO6A9T/uJJvfPu0EQIaQLTI/JQ1AxGiII+PmEkCJvfVeuCsYQD6ZBhGbHB9AXQw69DTYJEAsubcwKucqQNuT9D5OmipAJyi3szEJJUBlNebh5WkgQDDcPHBr2xlArtlANXuQFEBdJadFHckQQI2Avh0ZsQtAjYiwt1rsBUCL0SDoVBgAQK6C0nEEjvc/CggLSme58T9sXU2orFPnP0v0JYz9Gdg/vT38vxYczD9nBQTe6kHHP1IhkEXJwKo/8OZnhCVAub+xtVgCpmqzP6DUpY6g0+k/PKK3T1h4+D8RTDjQc1EAQG/dAQs7TwJAQt2eHpPLAEBWEh074x//PyCap9ZSGf4/rEzaTySm/T+7aXhHRmr9P688KeqeNP0/ruZ4EemD/D8olrZcn9T7P0+vNc9hW/s/i9VVL+4P+z+0NzC24uz6P8731Kza8vo/xFf4SHzq+z+gYyHpvHb8P68ROkiFevw/BAjYdCga/D8AUp8VbW77P3JrF/nKmvo/qCQeGfq++T/dplwHJfn4P2G4p+Uva/g/OzZ0RqMZ+D8dmn/iar73P/OuA7Ka8PY/gaaeQHGn9T9hkyjAH1L0P3aZGhdAU/M/n8VP/g7P8j+90HxHNvfyPwhNBtgrqvk/\",\"dtype\":\"float64\",\"shape\":[75]},\"y\":{\"__ndarray__\":\"GhExyth1ND/Sv8nbtpRIP2vylNV0PVE/aTum7souWD/At0SJ8fVgPw3Iuahxymc/MSNhhJWvcD/bTfBN02d3P2zb5nxnaoA/CD5h5MAGhz8NmeH1TyaQP+zrCsc9p5Y/LbKd76fGnz/bLW5ISEmmPww9YvTcQq8/JV2OstnstT8Er5Y7M8G+P0c+r3jqkcU/5h99k6ZBzj88bCIzFzjVP4enV8oyxN0//yH99nXg5D8qOpLLf0jtP5kqGJXUifQ/c9cS8kHP/D+/DpwzojQEQIEmwoanVwxA4lgXt9HgE0BSSZ2AJuIbQAMJih9jjiNA5q4l5INuK0AwTKYKRj0zQNv5fmq8/DpAaCJseHrtQkB/+zpwzoxKQM3MzMzMeFJAZmZmZmZqWEAAAAAAAFxeQM3MzMzMJmJAmpmZmZkfZUBmZmZmZhhoQDMzMzMzEWtAAAAAAAAKbkBmZmZmZoFwQM3MzMzM/XFAMzMzMzN6c0CamZmZmfZ0QAAAAAAAc3ZAZmZmZmbvd0DNzMzMzGt5QDMzMzMz6HpAmpmZmZlkfEAAAAAAAOF9QGZmZmZmXX9AZmZmZuZsgECamZmZGSuBQM3MzMxM6YFAAAAAAICngkAzMzMzs2WDQGZmZmbmI4RAmpmZmRnihEDNzMzMTKCFQAAAAACAXoZAMzMzM7Mch0BmZmZm5tqHQJqZmZkZmYhAzczMzExXiUAAAAAAgBWKQDMzMzOz04pAZmZmZuaRi0CamZmZGVCMQM3MzMxMDo1AAAAAAIDMjUAzMzMzs4qOQGZmZmbmSI9A\",\"dtype\":\"float64\",\"shape\":[75]}},\"selected\":{\"id\":\"2eadf920-6612-465f-856c-d0d2268f6ad5\",\"type\":\"Selection\"},\"selection_policy\":{\"id\":\"47c60103-6d0a-4e1d-83d2-2526036d89cb\",\"type\":\"UnionRenderers\"}},\"id\":\"291e0c59-fde5-4bdd-b9ba-dfe25de7f798\",\"type\":\"ColumnDataSource\"},{\"attributes\":{\"line_alpha\":0.1,\"line_color\":\"#1f77b4\",\"line_width\":1.5,\"x\":{\"field\":\"x\"},\"y\":{\"field\":\"y\"}},\"id\":\"cba2f103-bb0a-490e-9f6d-1f310fdebad1\",\"type\":\"Line\"},{\"attributes\":{\"dimension\":1,\"plot\":{\"id\":\"6aca8675-cd7c-4c14-9912-f5387254d44b\",\"subtype\":\"Figure\",\"type\":\"Plot\"},\"ticker\":{\"id\":\"7ce24904-af5f-439e-b9f0-2319fdb89fb1\",\"type\":\"LogTicker\"}},\"id\":\"aafe8dc1-4f13-4af1-9858-15c801771b71\",\"type\":\"Grid\"},{\"attributes\":{\"label\":{\"value\":\"CLIRAD (single-run)\"},\"renderers\":[{\"id\":\"2079c708-38b9-4973-a317-db042f3e74eb\",\"type\":\"GlyphRenderer\"}]},\"id\":\"9a2fef9b-4536-4e1d-a805-f6d4a123e6c9\",\"type\":\"LegendItem\"},{\"attributes\":{\"axis_label\":\"cooling rate [K/day]\",\"formatter\":{\"id\":\"b99ed4eb-b530-4854-87bf-e30a6f182ff6\",\"type\":\"BasicTickFormatter\"},\"plot\":{\"id\":\"6aca8675-cd7c-4c14-9912-f5387254d44b\",\"subtype\":\"Figure\",\"type\":\"Plot\"},\"ticker\":{\"id\":\"d24d0315-610a-499b-b7e3-c017db03ed45\",\"type\":\"BasicTicker\"}},\"id\":\"c057bea5-9bd3-475e-8f54-46a83c8c9246\",\"type\":\"LinearAxis\"},{\"attributes\":{\"fill_alpha\":{\"value\":0.7},\"fill_color\":{\"value\":\"#984ea3\"},\"line_alpha\":{\"value\":0.7},\"line_color\":{\"value\":\"#984ea3\"},\"x\":{\"field\":\"x\"},\"y\":{\"field\":\"y\"}},\"id\":\"6b2e6f61-9e00-4f83-b181-89902ba13203\",\"type\":\"Square\"},{\"attributes\":{},\"id\":\"b3823526-8b32-46e7-b334-87a454765310\",\"type\":\"PanTool\"},{\"attributes\":{\"label\":{\"value\":\"CRD\"},\"renderers\":[{\"id\":\"203ace4c-bfa4-4fae-b41c-9bea5f28d44d\",\"type\":\"GlyphRenderer\"},{\"id\":\"5a798958-214a-4ea9-87df-437f8cf16c8f\",\"type\":\"GlyphRenderer\"}]},\"id\":\"014a3c9e-a1f3-4f43-9ebb-7c91e5741f6b\",\"type\":\"LegendItem\"},{\"attributes\":{\"source\":{\"id\":\"bbc4cd05-f1d9-4bc7-8052-a377771373ae\",\"type\":\"ColumnDataSource\"}},\"id\":\"0f5407f8-6743-4ec0-81ed-d308617a6833\",\"type\":\"CDSView\"},{\"attributes\":{\"data_source\":{\"id\":\"b50cff33-e06a-4de5-b89c-0ef760e67b4f\",\"type\":\"ColumnDataSource\"},\"glyph\":{\"id\":\"fcd4cbaf-4216-4e23-9260-5271138d8a27\",\"type\":\"Line\"},\"hover_glyph\":null,\"muted_glyph\":null,\"nonselection_glyph\":{\"id\":\"0b64a401-b4ee-4da6-a9b1-52556a384f01\",\"type\":\"Line\"},\"selection_glyph\":null,\"view\":{\"id\":\"963ad1c0-2f02-486f-90d5-14d7ec3be80f\",\"type\":\"CDSView\"}},\"id\":\"5a798958-214a-4ea9-87df-437f8cf16c8f\",\"type\":\"GlyphRenderer\"},{\"attributes\":{\"callback\":null,\"end\":0.01,\"start\":1020},\"id\":\"09499930-a3e9-4ac7-bc36-5af95071ceaa\",\"type\":\"Range1d\"},{\"attributes\":{\"overlay\":{\"id\":\"e9b45497-26db-452a-b6df-10c1c4206852\",\"type\":\"BoxAnnotation\"}},\"id\":\"e74bd195-ddaa-4e34-bcb2-04115205b2c5\",\"type\":\"BoxZoomTool\"},{\"attributes\":{\"label\":{\"value\":\"old CLIRAD (H2012)\"},\"renderers\":[{\"id\":\"4cf8d15a-39eb-4496-9221-a941e567f47e\",\"type\":\"GlyphRenderer\"},{\"id\":\"c68158e3-d1f7-4cf8-aa7f-4ae575761d81\",\"type\":\"GlyphRenderer\"}]},\"id\":\"f1a319bf-340d-49f1-bfc2-72e2b341ace1\",\"type\":\"LegendItem\"},{\"attributes\":{\"above\":[{\"id\":\"1da34790-ca46-4e5d-8935-2987ffe3c88d\",\"type\":\"Legend\"}],\"below\":[{\"id\":\"c057bea5-9bd3-475e-8f54-46a83c8c9246\",\"type\":\"LinearAxis\"}],\"left\":[{\"id\":\"dc5f2571-721c-4ef2-a847-836e4019ddd2\",\"type\":\"LogAxis\"}],\"plot_width\":300,\"renderers\":[{\"id\":\"c057bea5-9bd3-475e-8f54-46a83c8c9246\",\"type\":\"LinearAxis\"},{\"id\":\"41bd359f-7794-4cb3-98ec-0f553948767c\",\"type\":\"Grid\"},{\"id\":\"dc5f2571-721c-4ef2-a847-836e4019ddd2\",\"type\":\"LogAxis\"},{\"id\":\"aafe8dc1-4f13-4af1-9858-15c801771b71\",\"type\":\"Grid\"},{\"id\":\"e9b45497-26db-452a-b6df-10c1c4206852\",\"type\":\"BoxAnnotation\"},{\"id\":\"2079c708-38b9-4973-a317-db042f3e74eb\",\"type\":\"GlyphRenderer\"},{\"id\":\"203ace4c-bfa4-4fae-b41c-9bea5f28d44d\",\"type\":\"GlyphRenderer\"},{\"id\":\"5a798958-214a-4ea9-87df-437f8cf16c8f\",\"type\":\"GlyphRenderer\"},{\"id\":\"4cf8d15a-39eb-4496-9221-a941e567f47e\",\"type\":\"GlyphRenderer\"},{\"id\":\"c68158e3-d1f7-4cf8-aa7f-4ae575761d81\",\"type\":\"GlyphRenderer\"},{\"id\":\"1da34790-ca46-4e5d-8935-2987ffe3c88d\",\"type\":\"Legend\"}],\"title\":{\"id\":\"46c46c68-fb8a-4f80-938a-c0f538038922\",\"type\":\"Title\"},\"toolbar\":{\"id\":\"b8d8e0ca-9b0c-453f-8f38-db1ad8e21e69\",\"type\":\"Toolbar\"},\"toolbar_location\":null,\"x_range\":{\"id\":\"95eb11c8-d259-4b9e-ba79-46b94d71cfa7\",\"type\":\"Range1d\"},\"x_scale\":{\"id\":\"bc89c9b2-7c8a-4475-ae37-8b461410bd5f\",\"type\":\"LinearScale\"},\"y_range\":{\"id\":\"f7c2735e-ed0a-4e39-9c04-1469bc8758d3\",\"type\":\"Range1d\"},\"y_scale\":{\"id\":\"5c0ff834-8b9d-408f-b37c-2891d92bc8bb\",\"type\":\"LogScale\"}},\"id\":\"6aca8675-cd7c-4c14-9912-f5387254d44b\",\"subtype\":\"Figure\",\"type\":\"Plot\"},{\"attributes\":{\"source\":{\"id\":\"5b3efa2a-1de2-47fe-9be0-e4e6dcb013b5\",\"type\":\"ColumnDataSource\"}},\"id\":\"10c5c144-0e09-42c7-919c-64ebfc299a07\",\"type\":\"CDSView\"},{\"attributes\":{\"callback\":null,\"data\":{\"x\":{\"__ndarray__\":\"cm1sTMT3VEDEyvjosEJHQOKI6DjzCUNArgQWV9awPkB9Lm8XG3M4QEz+Qv6iYzNA7eV8HaPLLkCX1QHyTpMoQFBmYSYetiNAUB04GtGpH0AmFyVE5j8ZQJca9QPGqBNALJP+OOHHDEBNxaf7QF8AQKtislomWuw/cW2dcO6A9T/uJJvfPu0EQIaQLTI/JQ1AxGiII+PmEkCJvfVeuCsYQD6ZBhGbHB9AXQw69DTYJEAsubcwKucqQNuT9D5OmipAJyi3szEJJUBlNebh5WkgQDDcPHBr2xlArtlANXuQFEBdJadFHckQQI2Avh0ZsQtAjYiwt1rsBUCL0SDoVBgAQK6C0nEEjvc/CggLSme58T9sXU2orFPnP0v0JYz9Gdg/vT38vxYczD9nBQTe6kHHP1IhkEXJwKo/8OZnhCVAub+xtVgCpmqzP6DUpY6g0+k/PKK3T1h4+D8RTDjQc1EAQG/dAQs7TwJAQt2eHpPLAEBWEh074x//PyCap9ZSGf4/rEzaTySm/T+7aXhHRmr9P688KeqeNP0/ruZ4EemD/D8olrZcn9T7P0+vNc9hW/s/i9VVL+4P+z+0NzC24uz6P8731Kza8vo/xFf4SHzq+z+gYyHpvHb8P68ROkiFevw/BAjYdCga/D8AUp8VbW77P3JrF/nKmvo/qCQeGfq++T/dplwHJfn4P2G4p+Uva/g/OzZ0RqMZ+D8dmn/iar73P/OuA7Ka8PY/gaaeQHGn9T9hkyjAH1L0P3aZGhdAU/M/n8VP/g7P8j+90HxHNvfyPwhNBtgrqvk/\",\"dtype\":\"float64\",\"shape\":[75]},\"y\":{\"__ndarray__\":\"GhExyth1ND/Sv8nbtpRIP2vylNV0PVE/aTum7souWD/At0SJ8fVgPw3Iuahxymc/MSNhhJWvcD/bTfBN02d3P2zb5nxnaoA/CD5h5MAGhz8NmeH1TyaQP+zrCsc9p5Y/LbKd76fGnz/bLW5ISEmmPww9YvTcQq8/JV2OstnstT8Er5Y7M8G+P0c+r3jqkcU/5h99k6ZBzj88bCIzFzjVP4enV8oyxN0//yH99nXg5D8qOpLLf0jtP5kqGJXUifQ/c9cS8kHP/D+/DpwzojQEQIEmwoanVwxA4lgXt9HgE0BSSZ2AJuIbQAMJih9jjiNA5q4l5INuK0AwTKYKRj0zQNv5fmq8/DpAaCJseHrtQkB/+zpwzoxKQM3MzMzMeFJAZmZmZmZqWEAAAAAAAFxeQM3MzMzMJmJAmpmZmZkfZUBmZmZmZhhoQDMzMzMzEWtAAAAAAAAKbkBmZmZmZoFwQM3MzMzM/XFAMzMzMzN6c0CamZmZmfZ0QAAAAAAAc3ZAZmZmZmbvd0DNzMzMzGt5QDMzMzMz6HpAmpmZmZlkfEAAAAAAAOF9QGZmZmZmXX9AZmZmZuZsgECamZmZGSuBQM3MzMxM6YFAAAAAAICngkAzMzMzs2WDQGZmZmbmI4RAmpmZmRnihEDNzMzMTKCFQAAAAACAXoZAMzMzM7Mch0BmZmZm5tqHQJqZmZkZmYhAzczMzExXiUAAAAAAgBWKQDMzMzOz04pAZmZmZuaRi0CamZmZGVCMQM3MzMxMDo1AAAAAAIDMjUAzMzMzs4qOQGZmZmbmSI9A\",\"dtype\":\"float64\",\"shape\":[75]}},\"selected\":{\"id\":\"1b07f252-ba8f-4434-867f-de07df8217e7\",\"type\":\"Selection\"},\"selection_policy\":{\"id\":\"7c17bbfb-8006-4df2-a197-18801d19ef59\",\"type\":\"UnionRenderers\"}},\"id\":\"bbc4cd05-f1d9-4bc7-8052-a377771373ae\",\"type\":\"ColumnDataSource\"},{\"attributes\":{\"above\":[{\"id\":\"7c622ab2-bdd2-4d00-8d0e-4af5dd4c4689\",\"type\":\"Legend\"}],\"below\":[{\"id\":\"f1ce0676-061d-4d79-a88c-e424ad85492d\",\"type\":\"LinearAxis\"}],\"left\":[{\"id\":\"65d44c5e-a6e0-49e0-8334-0bb7216b1703\",\"type\":\"LogAxis\"}],\"plot_width\":300,\"renderers\":[{\"id\":\"f1ce0676-061d-4d79-a88c-e424ad85492d\",\"type\":\"LinearAxis\"},{\"id\":\"508f723e-30c9-4878-976f-02fc3ccf53f8\",\"type\":\"Grid\"},{\"id\":\"65d44c5e-a6e0-49e0-8334-0bb7216b1703\",\"type\":\"LogAxis\"},{\"id\":\"afb63ec7-895d-4105-ad7c-0687484988a9\",\"type\":\"Grid\"},{\"id\":\"b29b7367-baa3-4a60-9db0-ab19b286594f\",\"type\":\"BoxAnnotation\"},{\"id\":\"8e68088b-712c-414d-b6af-03118df14518\",\"type\":\"GlyphRenderer\"},{\"id\":\"5a9d48ac-fc58-4532-bffb-c587452ed4e3\",\"type\":\"GlyphRenderer\"},{\"id\":\"73c2bc87-e4a2-457a-8a96-bf1fbc57eb9b\",\"type\":\"GlyphRenderer\"},{\"id\":\"7c622ab2-bdd2-4d00-8d0e-4af5dd4c4689\",\"type\":\"Legend\"}],\"title\":{\"id\":\"b16c4460-74f5-4949-b748-7206608204a4\",\"type\":\"Title\"},\"toolbar\":{\"id\":\"1d909336-901e-4329-981c-39538d972668\",\"type\":\"Toolbar\"},\"toolbar_location\":null,\"x_range\":{\"id\":\"6f7af869-9a0c-4121-bea7-d4586a873b78\",\"type\":\"Range1d\"},\"x_scale\":{\"id\":\"3ffff786-89c8-4300-82f3-eb22da39f444\",\"type\":\"LinearScale\"},\"y_range\":{\"id\":\"09499930-a3e9-4ac7-bc36-5af95071ceaa\",\"type\":\"Range1d\"},\"y_scale\":{\"id\":\"e44e8655-b4a4-49c8-bd62-520c8847a597\",\"type\":\"LogScale\"}},\"id\":\"162e79e9-0a13-4b70-901b-011bf922bb7c\",\"subtype\":\"Figure\",\"type\":\"Plot\"},{\"attributes\":{\"label\":{\"value\":\"CRD\"},\"renderers\":[{\"id\":\"c63bcbc8-ae3a-4385-9b15-55e76a2f1a88\",\"type\":\"GlyphRenderer\"},{\"id\":\"031f1ca6-b76e-4081-b6e6-a34dac644476\",\"type\":\"GlyphRenderer\"}]},\"id\":\"744cf4db-ab00-465b-be09-a5b01ea20ce5\",\"type\":\"LegendItem\"},{\"attributes\":{\"dimension\":1,\"plot\":{\"id\":\"162e79e9-0a13-4b70-901b-011bf922bb7c\",\"subtype\":\"Figure\",\"type\":\"Plot\"},\"ticker\":{\"id\":\"48e96443-ef7f-4f09-870e-3a6fb95c33f4\",\"type\":\"LogTicker\"}},\"id\":\"afb63ec7-895d-4105-ad7c-0687484988a9\",\"type\":\"Grid\"},{\"attributes\":{},\"id\":\"bc89c9b2-7c8a-4475-ae37-8b461410bd5f\",\"type\":\"LinearScale\"},{\"attributes\":{\"source\":{\"id\":\"7d8a7405-bc7d-4679-8cdf-f952cf219a08\",\"type\":\"ColumnDataSource\"}},\"id\":\"3f983097-27c6-40d5-9f9a-f8f98ca2ba27\",\"type\":\"CDSView\"},{\"attributes\":{\"items\":[{\"id\":\"9a2fef9b-4536-4e1d-a805-f6d4a123e6c9\",\"type\":\"LegendItem\"},{\"id\":\"014a3c9e-a1f3-4f43-9ebb-7c91e5741f6b\",\"type\":\"LegendItem\"},{\"id\":\"f1a319bf-340d-49f1-bfc2-72e2b341ace1\",\"type\":\"LegendItem\"}],\"label_text_font_size\":{\"value\":\"8pt\"},\"location\":\"top_center\",\"orientation\":\"horizontal\",\"plot\":{\"id\":\"6aca8675-cd7c-4c14-9912-f5387254d44b\",\"subtype\":\"Figure\",\"type\":\"Plot\"}},\"id\":\"1da34790-ca46-4e5d-8935-2987ffe3c88d\",\"type\":\"Legend\"},{\"attributes\":{\"line_alpha\":0.5,\"line_color\":\"#984ea3\",\"line_width\":1.5,\"x\":{\"field\":\"x\"},\"y\":{\"field\":\"y\"}},\"id\":\"dfbd9e3f-6716-4881-a20e-f7c3731de387\",\"type\":\"Line\"},{\"attributes\":{\"active_drag\":\"auto\",\"active_inspect\":\"auto\",\"active_scroll\":\"auto\",\"active_tap\":\"auto\",\"tools\":[{\"id\":\"47515b46-f9f1-4bf7-b273-9c4ed548a4b7\",\"type\":\"PanTool\"},{\"id\":\"ee711a14-93a7-4f47-af0d-db001b7665c1\",\"type\":\"WheelZoomTool\"},{\"id\":\"67eaf25f-829b-43ad-bf6b-81f1b3caeb8b\",\"type\":\"BoxZoomTool\"},{\"id\":\"e8747a8c-5412-4c36-8038-1812f4838a22\",\"type\":\"SaveTool\"},{\"id\":\"7171d95a-b3a8-449b-b50a-67307a2df196\",\"type\":\"ResetTool\"},{\"id\":\"7f67f3f3-35b5-4abb-8345-3644a0ee18d2\",\"type\":\"HelpTool\"}]},\"id\":\"67fceaca-dd5a-4967-ba8b-8599feaa40c7\",\"type\":\"Toolbar\"},{\"attributes\":{\"data_source\":{\"id\":\"7a491daf-bc94-44c9-b8e1-06825ce4137e\",\"type\":\"ColumnDataSource\"},\"glyph\":{\"id\":\"dfbd9e3f-6716-4881-a20e-f7c3731de387\",\"type\":\"Line\"},\"hover_glyph\":null,\"muted_glyph\":null,\"nonselection_glyph\":{\"id\":\"cba2f103-bb0a-490e-9f6d-1f310fdebad1\",\"type\":\"Line\"},\"selection_glyph\":null,\"view\":{\"id\":\"37bc099b-adda-49de-a421-7ce86db1cf41\",\"type\":\"CDSView\"}},\"id\":\"c68158e3-d1f7-4cf8-aa7f-4ae575761d81\",\"type\":\"GlyphRenderer\"},{\"attributes\":{\"fill_alpha\":{\"value\":0.1},\"fill_color\":{\"value\":\"#1f77b4\"},\"line_alpha\":{\"value\":0.1},\"line_color\":{\"value\":\"#1f77b4\"},\"x\":{\"field\":\"x\"},\"y\":{\"field\":\"y\"}},\"id\":\"ec8d9e76-7382-48f6-9c92-b8a5c2eba5a3\",\"type\":\"Circle\"},{\"attributes\":{},\"id\":\"cabe67b3-6c98-44f0-92f5-0f2bfbb8b8cf\",\"type\":\"Selection\"},{\"attributes\":{\"data_source\":{\"id\":\"5b3efa2a-1de2-47fe-9be0-e4e6dcb013b5\",\"type\":\"ColumnDataSource\"},\"glyph\":{\"id\":\"c69814b8-c26c-43ff-926d-d1a67f11477f\",\"type\":\"Line\"},\"hover_glyph\":null,\"muted_glyph\":null,\"nonselection_glyph\":{\"id\":\"56013118-62a8-4f63-95d5-edf3d5f1bfb5\",\"type\":\"Line\"},\"selection_glyph\":null,\"view\":{\"id\":\"10c5c144-0e09-42c7-919c-64ebfc299a07\",\"type\":\"CDSView\"}},\"id\":\"0dbe0dba-c1dc-45ae-9623-5d2ec93988fe\",\"type\":\"GlyphRenderer\"},{\"attributes\":{\"callback\":null,\"data\":{\"x\":{\"__ndarray__\":\"MXhf+wfXU0AZbvNjswdFQLQWsEQVdUFA5TlpnhT9QUB/x1dOYK05QImjxHmcEjZA9jYDSBB3L0AISPl4H6wqQBPuuwfAzyJAOcHprUZAIUB7WWpkesAXQJoT1Uq+ChVArO/8u0EXCkBgVNlshzgCQMeNQ+Nzu/I/POwv1Qzh+D9QxMRmcj8DQOrE7tC4mAxAQsLBRIlHEkAi4cPYoDEXQEeDpjRjzB1ASZ0GEfCuI0DVFj11sssnQOMiVKSMHyhAWRHvUxNoJEDo8cjD4g8gQLGGvR2NDRpAdpI3nV5oFECtyWH9Lp4QQIZQd9bvmwtAkshlnu1BBkBMysnQf1UAQHZJU/DYZ/c/HoEhV+G48T/rSm4vc/TmP3EgV4cD49g/xmy6+4w7zz+bEsjh3uDDPw5SRMRogKs/4GPKdPc1a78lazVXN1vCP/B84ODeUug/LOyxgXDV9z+/DBHyZAwAQAOIY+fy/QFAahF3XKCUAECV0GHvGsz+P+X4k4Nhvf0/RO/IqI98/T8rkW+v/zT9P59vGMDsAv0/zEX7plCY/D/E3siS8kj7P2yUMv+hDvs/RmrXDaYs+z+c9f5GCO36P58nVCbr7vo/Qus8hbcy/D+rD5hFMCf9P4t6dxofnPw/bRp4QYZ2/D/q8NNiN2b8P5YTVw9ESPw/l1Dy0X/K+j+WKih3ZdD5P2k8OYxHjvk/hceGh5N4+T8lpPahWSn5P6vJnePt4vY/UuhmxnXI9T8miFqdE+D0Pz7qfx5CR/Q/0khvq2US9D9LfVdHQGv0P9syeEmwYfg/\",\"dtype\":\"float64\",\"shape\":[75]},\"y\":{\"__ndarray__\":\"hLndy31yND/6fmq8dJNIP8n9DkWBPlE/aDum7souWD/b4a/JGvVgP9f34SAhymc/ZvM4DOavcD+z0M5pFmh3PxuC4zJuaoA/xjcUPlsHhz8uHAjJAiaQP9ieWRKgppY/oI7HDFTGnz+a5h2n6EimPzS6g9iZQq8/IuAQqtTstT9SSZ2AJsK+P4nS3uALk8U/ih9j7lpCzj+ASL99HTjVP4enV8oyxN0/ACL99nXg5D9fmEwVjErtPyUGgZVDi/Q/AiuHFtnO/D9OYhBYOTQEQPHSTWIQWAxA4XoUrkfhE0D8qfHSTeIbQMh2vp8ajyNArkfhehRuK0Bcj8L1KDwzQFyPwvUo/DpAPgrXo3DtQkDNzMzMzIxKQClcj8L1eFJAKVyPwvVoWECamZmZmVleQGZmZmZmJmJAAAAAAAAgZUCamZmZmRloQJqZmZmZEWtAmpmZmZkJbkCamZmZmYFwQGZmZmZm/nFAZmZmZmZ6c0BmZmZmZvZ0QDQzMzMzc3ZAAAAAAADwd0AAAAAAAGx5QAAAAAAA6HpAzMzMzMxkfEDMzMzMzOB9QM3MzMzMXH9AzczMzMxsgEAzMzMzMyuBQDMzMzMz6YFAMzMzMzOngkCamZmZmWWDQAAAAAAAJIRAAAAAAADihEAAAAAAAKCFQGZmZmZmXoZAzczMzMwch0DNzMzMzNqHQM3MzMzMmIhAMzMzMzNXiUCamZmZmRWKQAAAAAAA1IpAAAAAAACSi0AAAAAAAFCMQGZmZmZmDo1AzczMzMzMjUDNzMzMzIqOQM3MzMzMSI9A\",\"dtype\":\"float64\",\"shape\":[75]}},\"selected\":{\"id\":\"40f92197-77aa-42f6-86c0-dbe6449056cc\",\"type\":\"Selection\"},\"selection_policy\":{\"id\":\"2a50fe5d-82b0-452c-a321-8e88d4488601\",\"type\":\"UnionRenderers\"}},\"id\":\"5322f9af-59d7-4909-9deb-4b29e00d38f4\",\"type\":\"ColumnDataSource\"},{\"attributes\":{\"source\":{\"id\":\"7a491daf-bc94-44c9-b8e1-06825ce4137e\",\"type\":\"ColumnDataSource\"}},\"id\":\"37bc099b-adda-49de-a421-7ce86db1cf41\",\"type\":\"CDSView\"},{\"attributes\":{\"callback\":null,\"data\":{\"x\":{\"__ndarray__\":\"cm1sTMT3VEDEyvjosEJHQOKI6DjzCUNArgQWV9awPkB9Lm8XG3M4QEz+Qv6iYzNA7eV8HaPLLkCX1QHyTpMoQFBmYSYetiNAUB04GtGpH0AmFyVE5j8ZQJca9QPGqBNALJP+OOHHDEBNxaf7QF8AQKtislomWuw/cW2dcO6A9T/uJJvfPu0EQIaQLTI/JQ1AxGiII+PmEkCJvfVeuCsYQD6ZBhGbHB9AXQw69DTYJEAsubcwKucqQNuT9D5OmipAJyi3szEJJUBlNebh5WkgQDDcPHBr2xlArtlANXuQFEBdJadFHckQQI2Avh0ZsQtAjYiwt1rsBUCL0SDoVBgAQK6C0nEEjvc/CggLSme58T9sXU2orFPnP0v0JYz9Gdg/vT38vxYczD9nBQTe6kHHP1IhkEXJwKo/8OZnhCVAub+xtVgCpmqzP6DUpY6g0+k/PKK3T1h4+D8RTDjQc1EAQG/dAQs7TwJAQt2eHpPLAEBWEh074x//PyCap9ZSGf4/rEzaTySm/T+7aXhHRmr9P688KeqeNP0/ruZ4EemD/D8olrZcn9T7P0+vNc9hW/s/i9VVL+4P+z+0NzC24uz6P8731Kza8vo/xFf4SHzq+z+gYyHpvHb8P68ROkiFevw/BAjYdCga/D8AUp8VbW77P3JrF/nKmvo/qCQeGfq++T/dplwHJfn4P2G4p+Uva/g/OzZ0RqMZ+D8dmn/iar73P/OuA7Ka8PY/gaaeQHGn9T9hkyjAH1L0P3aZGhdAU/M/n8VP/g7P8j+90HxHNvfyPwhNBtgrqvk/\",\"dtype\":\"float64\",\"shape\":[75]},\"y\":{\"__ndarray__\":\"GhExyth1ND/Sv8nbtpRIP2vylNV0PVE/aTum7souWD/At0SJ8fVgPw3Iuahxymc/MSNhhJWvcD/bTfBN02d3P2zb5nxnaoA/CD5h5MAGhz8NmeH1TyaQP+zrCsc9p5Y/LbKd76fGnz/bLW5ISEmmPww9YvTcQq8/JV2OstnstT8Er5Y7M8G+P0c+r3jqkcU/5h99k6ZBzj88bCIzFzjVP4enV8oyxN0//yH99nXg5D8qOpLLf0jtP5kqGJXUifQ/c9cS8kHP/D+/DpwzojQEQIEmwoanVwxA4lgXt9HgE0BSSZ2AJuIbQAMJih9jjiNA5q4l5INuK0AwTKYKRj0zQNv5fmq8/DpAaCJseHrtQkB/+zpwzoxKQM3MzMzMeFJAZmZmZmZqWEAAAAAAAFxeQM3MzMzMJmJAmpmZmZkfZUBmZmZmZhhoQDMzMzMzEWtAAAAAAAAKbkBmZmZmZoFwQM3MzMzM/XFAMzMzMzN6c0CamZmZmfZ0QAAAAAAAc3ZAZmZmZmbvd0DNzMzMzGt5QDMzMzMz6HpAmpmZmZlkfEAAAAAAAOF9QGZmZmZmXX9AZmZmZuZsgECamZmZGSuBQM3MzMxM6YFAAAAAAICngkAzMzMzs2WDQGZmZmbmI4RAmpmZmRnihEDNzMzMTKCFQAAAAACAXoZAMzMzM7Mch0BmZmZm5tqHQJqZmZkZmYhAzczMzExXiUAAAAAAgBWKQDMzMzOz04pAZmZmZuaRi0CamZmZGVCMQM3MzMxMDo1AAAAAAIDMjUAzMzMzs4qOQGZmZmbmSI9A\",\"dtype\":\"float64\",\"shape\":[75]}},\"selected\":{\"id\":\"692b3474-c267-43e1-9b22-de432b5a3ea8\",\"type\":\"Selection\"},\"selection_policy\":{\"id\":\"203bdba5-5764-461a-8c19-60bad1e3d1bc\",\"type\":\"UnionRenderers\"}},\"id\":\"b50cff33-e06a-4de5-b89c-0ef760e67b4f\",\"type\":\"ColumnDataSource\"},{\"attributes\":{\"label\":{\"value\":\"old CLIRAD (H2012) - CRD\"},\"renderers\":[{\"id\":\"73c2bc87-e4a2-457a-8a96-bf1fbc57eb9b\",\"type\":\"GlyphRenderer\"}]},\"id\":\"fe0623d5-cd23-4791-b4c4-331b1cf26c7b\",\"type\":\"LegendItem\"},{\"attributes\":{},\"id\":\"38511160-e460-4305-ac40-ec81f3dee32d\",\"type\":\"WheelZoomTool\"},{\"attributes\":{},\"id\":\"e73d77d4-0272-4838-ad01-bd0ac583d82b\",\"type\":\"BasicTickFormatter\"},{\"attributes\":{\"source\":{\"id\":\"5322f9af-59d7-4909-9deb-4b29e00d38f4\",\"type\":\"ColumnDataSource\"}},\"id\":\"3cb279ee-f4f1-4d67-8f0a-9ccc372fe16a\",\"type\":\"CDSView\"},{\"attributes\":{\"callback\":null,\"data\":{\"x\":{\"__ndarray__\":\"MXhf+wfXU0AZbvNjswdFQLQWsEQVdUFA5TlpnhT9QUB/x1dOYK05QImjxHmcEjZA9jYDSBB3L0AISPl4H6wqQBPuuwfAzyJAOcHprUZAIUB7WWpkesAXQJoT1Uq+ChVArO/8u0EXCkBgVNlshzgCQMeNQ+Nzu/I/POwv1Qzh+D9QxMRmcj8DQOrE7tC4mAxAQsLBRIlHEkAi4cPYoDEXQEeDpjRjzB1ASZ0GEfCuI0DVFj11sssnQOMiVKSMHyhAWRHvUxNoJEDo8cjD4g8gQLGGvR2NDRpAdpI3nV5oFECtyWH9Lp4QQIZQd9bvmwtAkshlnu1BBkBMysnQf1UAQHZJU/DYZ/c/HoEhV+G48T/rSm4vc/TmP3EgV4cD49g/xmy6+4w7zz+bEsjh3uDDPw5SRMRogKs/4GPKdPc1a78lazVXN1vCP/B84ODeUug/LOyxgXDV9z+/DBHyZAwAQAOIY+fy/QFAahF3XKCUAECV0GHvGsz+P+X4k4Nhvf0/RO/IqI98/T8rkW+v/zT9P59vGMDsAv0/zEX7plCY/D/E3siS8kj7P2yUMv+hDvs/RmrXDaYs+z+c9f5GCO36P58nVCbr7vo/Qus8hbcy/D+rD5hFMCf9P4t6dxofnPw/bRp4QYZ2/D/q8NNiN2b8P5YTVw9ESPw/l1Dy0X/K+j+WKih3ZdD5P2k8OYxHjvk/hceGh5N4+T8lpPahWSn5P6vJnePt4vY/UuhmxnXI9T8miFqdE+D0Pz7qfx5CR/Q/0khvq2US9D9LfVdHQGv0P9syeEmwYfg/\",\"dtype\":\"float64\",\"shape\":[75]},\"y\":{\"__ndarray__\":\"hLndy31yND/6fmq8dJNIP8n9DkWBPlE/aDum7souWD/b4a/JGvVgP9f34SAhymc/ZvM4DOavcD+z0M5pFmh3PxuC4zJuaoA/xjcUPlsHhz8uHAjJAiaQP9ieWRKgppY/oI7HDFTGnz+a5h2n6EimPzS6g9iZQq8/IuAQqtTstT9SSZ2AJsK+P4nS3uALk8U/ih9j7lpCzj+ASL99HTjVP4enV8oyxN0/ACL99nXg5D9fmEwVjErtPyUGgZVDi/Q/AiuHFtnO/D9OYhBYOTQEQPHSTWIQWAxA4XoUrkfhE0D8qfHSTeIbQMh2vp8ajyNArkfhehRuK0Bcj8L1KDwzQFyPwvUo/DpAPgrXo3DtQkDNzMzMzIxKQClcj8L1eFJAKVyPwvVoWECamZmZmVleQGZmZmZmJmJAAAAAAAAgZUCamZmZmRloQJqZmZmZEWtAmpmZmZkJbkCamZmZmYFwQGZmZmZm/nFAZmZmZmZ6c0BmZmZmZvZ0QDQzMzMzc3ZAAAAAAADwd0AAAAAAAGx5QAAAAAAA6HpAzMzMzMxkfEDMzMzMzOB9QM3MzMzMXH9AzczMzMxsgEAzMzMzMyuBQDMzMzMz6YFAMzMzMzOngkCamZmZmWWDQAAAAAAAJIRAAAAAAADihEAAAAAAAKCFQGZmZmZmXoZAzczMzMwch0DNzMzMzNqHQM3MzMzMmIhAMzMzMzNXiUCamZmZmRWKQAAAAAAA1IpAAAAAAACSi0AAAAAAAFCMQGZmZmZmDo1AzczMzMzMjUDNzMzMzIqOQM3MzMzMSI9A\",\"dtype\":\"float64\",\"shape\":[75]}},\"selected\":{\"id\":\"494286a3-da8c-48e6-b7a8-317298434eda\",\"type\":\"Selection\"},\"selection_policy\":{\"id\":\"bae85c4b-1b19-4866-9f7f-dd0b5f1478a3\",\"type\":\"UnionRenderers\"}},\"id\":\"7a491daf-bc94-44c9-b8e1-06825ce4137e\",\"type\":\"ColumnDataSource\"},{\"attributes\":{\"num_minor_ticks\":10},\"id\":\"7ce24904-af5f-439e-b9f0-2319fdb89fb1\",\"type\":\"LogTicker\"},{\"attributes\":{},\"id\":\"5c0ff834-8b9d-408f-b37c-2891d92bc8bb\",\"type\":\"LogScale\"},{\"attributes\":{\"plot\":{\"id\":\"6aca8675-cd7c-4c14-9912-f5387254d44b\",\"subtype\":\"Figure\",\"type\":\"Plot\"},\"ticker\":{\"id\":\"d24d0315-610a-499b-b7e3-c017db03ed45\",\"type\":\"BasicTicker\"}},\"id\":\"41bd359f-7794-4cb3-98ec-0f553948767c\",\"type\":\"Grid\"},{\"attributes\":{\"data_source\":{\"id\":\"5322f9af-59d7-4909-9deb-4b29e00d38f4\",\"type\":\"ColumnDataSource\"},\"glyph\":{\"id\":\"6b2e6f61-9e00-4f83-b181-89902ba13203\",\"type\":\"Square\"},\"hover_glyph\":null,\"muted_glyph\":null,\"nonselection_glyph\":{\"id\":\"e6a7cb3e-80d1-4747-8ccc-214424d46a16\",\"type\":\"Square\"},\"selection_glyph\":null,\"view\":{\"id\":\"3cb279ee-f4f1-4d67-8f0a-9ccc372fe16a\",\"type\":\"CDSView\"}},\"id\":\"4cf8d15a-39eb-4496-9221-a941e567f47e\",\"type\":\"GlyphRenderer\"},{\"attributes\":{\"line_color\":\"#4daf4a\",\"line_width\":1.5,\"x\":{\"field\":\"x\"},\"y\":{\"field\":\"y\"}},\"id\":\"fcd4cbaf-4216-4e23-9260-5271138d8a27\",\"type\":\"Line\"},{\"attributes\":{\"callback\":null,\"end\":0.01,\"start\":1020},\"id\":\"f7c2735e-ed0a-4e39-9c04-1469bc8758d3\",\"type\":\"Range1d\"},{\"attributes\":{\"label\":{\"value\":\"CLIRAD (single-run) - CRD\"},\"renderers\":[{\"id\":\"8e68088b-712c-414d-b6af-03118df14518\",\"type\":\"GlyphRenderer\"},{\"id\":\"5a9d48ac-fc58-4532-bffb-c587452ed4e3\",\"type\":\"GlyphRenderer\"}]},\"id\":\"258ff8ce-cf32-4206-b502-3a5bdf058264\",\"type\":\"LegendItem\"},{\"attributes\":{},\"id\":\"d24d0315-610a-499b-b7e3-c017db03ed45\",\"type\":\"BasicTicker\"},{\"attributes\":{\"fill_alpha\":{\"value\":0.7},\"fill_color\":{\"value\":\"#4daf4a\"},\"line_alpha\":{\"value\":0.7},\"line_color\":{\"value\":\"#4daf4a\"},\"x\":{\"field\":\"x\"},\"y\":{\"field\":\"y\"}},\"id\":\"c386a55a-114a-4bd5-bd75-24dc310e201f\",\"type\":\"Circle\"},{\"attributes\":{},\"id\":\"6039a21f-7b0a-4d80-b383-a499d2f45c8d\",\"type\":\"SaveTool\"},{\"attributes\":{\"callback\":null,\"data\":{\"x\":{\"__ndarray__\":\"oGsWFOcWRMAMO53n/6ogwD3viZgKZgLA/QYLKQLU/D8kxx1hxGkOQMQ0+uZxzQ5AVNhXd+QeBEAOfWNUzSflP8Ab6dWes+m/+NL3xc/V9b/FaMqELYjxv9IJsBTPId+/TcZOEIimsD/RlBh077XZP+5CgCXcI98/xk80a5U21D+mvbpH91KhP0I7juACtdC/1aw+HWoz4L+eELp8N6Pgv46j72rX7tG/sPOr1cQ1eb8yylG8HeyqvzLdYsjI0NO/iNtWXRBP17+iXw8BsSGxvwV3o383itg/95efVY5T1z8Wf4KYaOC3Pxz4JWCS45c/xGzh7qDj0D/z9Jq0lJzVP9S9cwqzvcM/ncXJA03snL/+DCuavWFzP5gifvItdK4/6ix5O2qXfj/VIxwFX/CrvyFUz3G74La/my7Kb2SHub/iQ7MhNea1vxA1JmSLibC/ec3xKLA2r7/CQWKSSD+dv/kBCet07ba/jdOl0S2ZuL/hF/AL7Yurv4nkUKY76K6/oQAAbI22s7/sel+r8Oayv1lPEDkNp6u/hX6dcBWzor/B7Z2I616YvxIFFivn5ZS/kePwCZ6plL+En8uXwV+Zv6r8aguhXJu/hY8q3THCk78YErbXNlBWP49H38C+f6A/WwZhsThqrD+Qb3Iuc+mtP/D2ZI59eqU/qxypqzTKlT/wr1QOo+RZP+CjI8tNBUE/JP80BLOBgT9iFteBPlSeP2eXidFcb6g/plqmh+qrrz+CO88mJx2yP91eBcEyWbM/pmiOXiQjtD+1cER8wdW0P/GeJNn6VLQ/\",\"dtype\":\"float64\",\"shape\":[75]},\"y\":{\"__ndarray__\":\"GhExyth1ND/Sv8nbtpRIP2vylNV0PVE/aTum7souWD/At0SJ8fVgPw3Iuahxymc/MSNhhJWvcD/bTfBN02d3P2zb5nxnaoA/CD5h5MAGhz8NmeH1TyaQP+zrCsc9p5Y/LbKd76fGnz/bLW5ISEmmPww9YvTcQq8/JV2OstnstT8Er5Y7M8G+P0c+r3jqkcU/5h99k6ZBzj88bCIzFzjVP4enV8oyxN0//yH99nXg5D8qOpLLf0jtP5kqGJXUifQ/c9cS8kHP/D+/DpwzojQEQIEmwoanVwxA4lgXt9HgE0BSSZ2AJuIbQAMJih9jjiNA5q4l5INuK0AwTKYKRj0zQNv5fmq8/DpAaCJseHrtQkB/+zpwzoxKQM3MzMzMeFJAZmZmZmZqWEAAAAAAAFxeQM3MzMzMJmJAmpmZmZkfZUBmZmZmZhhoQDMzMzMzEWtAAAAAAAAKbkBmZmZmZoFwQM3MzMzM/XFAMzMzMzN6c0CamZmZmfZ0QAAAAAAAc3ZAZmZmZmbvd0DNzMzMzGt5QDMzMzMz6HpAmpmZmZlkfEAAAAAAAOF9QGZmZmZmXX9AZmZmZuZsgECamZmZGSuBQM3MzMxM6YFAAAAAAICngkAzMzMzs2WDQGZmZmbmI4RAmpmZmRnihEDNzMzMTKCFQAAAAACAXoZAMzMzM7Mch0BmZmZm5tqHQJqZmZkZmYhAzczMzExXiUAAAAAAgBWKQDMzMzOz04pAZmZmZuaRi0CamZmZGVCMQM3MzMxMDo1AAAAAAIDMjUAzMzMzs4qOQGZmZmbmSI9A\",\"dtype\":\"float64\",\"shape\":[75]}},\"selected\":{\"id\":\"848ae3a8-a934-4391-81e3-322064d6bae5\",\"type\":\"Selection\"},\"selection_policy\":{\"id\":\"6bc66f86-f412-4b33-8c73-283a24ac4976\",\"type\":\"UnionRenderers\"}},\"id\":\"0c2994c6-b1ba-45cb-9769-216c7fd4eee4\",\"type\":\"ColumnDataSource\"},{\"attributes\":{\"line_alpha\":0.1,\"line_color\":\"#1f77b4\",\"line_width\":1.5,\"x\":{\"field\":\"x\"},\"y\":{\"field\":\"y\"}},\"id\":\"0b64a401-b4ee-4da6-a9b1-52556a384f01\",\"type\":\"Line\"},{\"attributes\":{\"plot\":null,\"text\":\"\"},\"id\":\"9791cf3e-6634-4687-99c8-b4e5bdbf06a8\",\"type\":\"Title\"},{\"attributes\":{\"label\":{\"value\":\"old CLIRAD (H2012)\"},\"renderers\":[{\"id\":\"ccf88984-4100-435f-8eb7-9194901489f0\",\"type\":\"GlyphRenderer\"},{\"id\":\"8facbdd5-dd3f-4fb3-b6f5-f9d1644a63a1\",\"type\":\"GlyphRenderer\"}]},\"id\":\"80aa1d68-6030-4fb6-9843-7de99f9dadbb\",\"type\":\"LegendItem\"},{\"attributes\":{\"fill_alpha\":{\"value\":0.1},\"fill_color\":{\"value\":\"#1f77b4\"},\"line_alpha\":{\"value\":0.1},\"line_color\":{\"value\":\"#1f77b4\"},\"x\":{\"field\":\"x\"},\"y\":{\"field\":\"y\"}},\"id\":\"e6a7cb3e-80d1-4747-8ccc-214424d46a16\",\"type\":\"Square\"},{\"attributes\":{\"data_source\":{\"id\":\"28921a4f-a2e5-48da-9b24-b71d2f7e14ba\",\"type\":\"ColumnDataSource\"},\"glyph\":{\"id\":\"05d5fac5-cb21-408e-aad4-773a5880b17b\",\"type\":\"Line\"},\"hover_glyph\":null,\"muted_glyph\":null,\"nonselection_glyph\":{\"id\":\"5f19c320-9578-4e0e-838c-407499d680d1\",\"type\":\"Line\"},\"selection_glyph\":null,\"view\":{\"id\":\"e8d44e4c-afe4-410a-b424-f16bcceb13e9\",\"type\":\"CDSView\"}},\"id\":\"73c2bc87-e4a2-457a-8a96-bf1fbc57eb9b\",\"type\":\"GlyphRenderer\"},{\"attributes\":{\"line_alpha\":0.1,\"line_color\":\"#1f77b4\",\"line_dash\":[6],\"line_width\":4,\"x\":{\"field\":\"x\"},\"y\":{\"field\":\"y\"}},\"id\":\"5f19c320-9578-4e0e-838c-407499d680d1\",\"type\":\"Line\"},{\"attributes\":{\"line_alpha\":0.1,\"line_color\":\"#1f77b4\",\"line_width\":1.5,\"x\":{\"field\":\"x\"},\"y\":{\"field\":\"y\"}},\"id\":\"d45a2604-fed0-4120-bad6-74e3482e9805\",\"type\":\"Line\"},{\"attributes\":{\"fill_alpha\":{\"value\":0.7},\"fill_color\":{\"value\":\"#984ea3\"},\"line_alpha\":{\"value\":0.7},\"line_color\":{\"value\":\"#984ea3\"},\"x\":{\"field\":\"x\"},\"y\":{\"field\":\"y\"}},\"id\":\"9910b883-c26f-4437-8153-f51d3e31f7b1\",\"type\":\"Circle\"},{\"attributes\":{},\"id\":\"2eadf920-6612-465f-856c-d0d2268f6ad5\",\"type\":\"Selection\"},{\"attributes\":{\"fill_alpha\":{\"value\":0.1},\"fill_color\":{\"value\":\"#1f77b4\"},\"line_alpha\":{\"value\":0.1},\"line_color\":{\"value\":\"#1f77b4\"},\"x\":{\"field\":\"x\"},\"y\":{\"field\":\"y\"}},\"id\":\"0ff64071-d055-414a-8ed7-10c35bee10d8\",\"type\":\"Circle\"},{\"attributes\":{\"callback\":null,\"end\":0.01,\"start\":1020},\"id\":\"acd1c82b-6ed0-4134-98c2-fc4a395f58dc\",\"type\":\"Range1d\"},{\"attributes\":{\"line_alpha\":0.1,\"line_color\":\"#1f77b4\",\"line_dash\":[6],\"line_width\":5,\"x\":{\"field\":\"x\"},\"y\":{\"field\":\"y\"}},\"id\":\"56013118-62a8-4f63-95d5-edf3d5f1bfb5\",\"type\":\"Line\"},{\"attributes\":{},\"id\":\"752f711a-80ca-4a6e-86d2-a9a890442e02\",\"type\":\"UnionRenderers\"},{\"attributes\":{\"callback\":null,\"data\":{\"x\":{\"__ndarray__\":\"QW/ChKHYRUABfBHv8BdDQO7pX4+S40FAjlrTPAs/QEBi55KjU0A8QOVEIjtRPTdAAW6pHa7pMUBoDUjHy+UpQJPUAjnkGiJAkii6KF00GkDyfPLi2t0UQPkZqhKpthFAXgmBeRVNDUDo1yrq/pUDQBJCuTYK9vU/YoFqy5OO+j/mD7q8ijIFQB7JG9aeDgtAKZPg33XgEEB3e15vURcWQASfV5qt/R1A31afOw7VJEBkZ/sSPswqQPJ8sfjH+ylASXHMMLlOJECnFuR/okcgQKATN+gOZBtALtOaGrQFFkBYLwnonigRQH3MfkLg4AtAJbaM1c4ICEAqMLR+58sCQGn6INO6Bfo/9OD7FbZF8T+Hs4EjcHrnP564dUqD6Ns/JQfYEdIQzT9x/Lwc00XAP+SGDp6tAKO/xAoZ+sRjyb+ScdT6eNyDv/4NISJvwuc/0BNwzqJ+9z+OhxM/9RYAQGCVqWPPlwFApa4RsMkGAECakb3Sg0P+P/wSdfkQIv0/okwaebtq/D8NcsI81zv8PzS6YIBmV/w/t/rzZVDu+z9vHpSuI3P7PzxXiTLKB/s/+xEut0e9+j80CdGvY4f6P91Lpyhohfo/hq2DgXOb+z8jUdf2UHz8P+0LQT6D/vw/NxBjOnr9/D975RKvuF38PyqTiuWeRvs/G8nM6yIW+j8IPCAwnv/4P9UcYY9Qbfg/OqB8rKY8+D929obcuzf4P6/7j5gVtPc/VtnblNCk9j8Yh5Uy8nP1P2TvKkPTiPQ/Kaw4REER9D/JF0FfkkT0P/aWmIV77/o/\",\"dtype\":\"float64\",\"shape\":[75]},\"y\":{\"__ndarray__\":\"GhExyth1ND/Sv8nbtpRIP2vylNV0PVE/aTum7souWD/At0SJ8fVgPw3Iuahxymc/MSNhhJWvcD/bTfBN02d3P2zb5nxnaoA/CD5h5MAGhz8NmeH1TyaQP+zrCsc9p5Y/LbKd76fGnz/bLW5ISEmmPww9YvTcQq8/JV2OstnstT8Er5Y7M8G+P0c+r3jqkcU/5h99k6ZBzj88bCIzFzjVP4enV8oyxN0//yH99nXg5D8qOpLLf0jtP5kqGJXUifQ/c9cS8kHP/D+/DpwzojQEQIEmwoanVwxA4lgXt9HgE0BSSZ2AJuIbQAMJih9jjiNA5q4l5INuK0AwTKYKRj0zQNv5fmq8/DpAaCJseHrtQkB/+zpwzoxKQM3MzMzMeFJAZmZmZmZqWEAAAAAAAFxeQM3MzMzMJmJAmpmZmZkfZUBmZmZmZhhoQDMzMzMzEWtAAAAAAAAKbkBmZmZmZoFwQM3MzMzM/XFAMzMzMzN6c0CamZmZmfZ0QAAAAAAAc3ZAZmZmZmbvd0DNzMzMzGt5QDMzMzMz6HpAmpmZmZlkfEAAAAAAAOF9QGZmZmZmXX9AZmZmZuZsgECamZmZGSuBQM3MzMxM6YFAAAAAAICngkAzMzMzs2WDQGZmZmbmI4RAmpmZmRnihEDNzMzMTKCFQAAAAACAXoZAMzMzM7Mch0BmZmZm5tqHQJqZmZkZmYhAzczMzExXiUAAAAAAgBWKQDMzMzOz04pAZmZmZuaRi0CamZmZGVCMQM3MzMxMDo1AAAAAAIDMjUAzMzMzs4qOQGZmZmbmSI9A\",\"dtype\":\"float64\",\"shape\":[75]}},\"selected\":{\"id\":\"cabe67b3-6c98-44f0-92f5-0f2bfbb8b8cf\",\"type\":\"Selection\"},\"selection_policy\":{\"id\":\"752f711a-80ca-4a6e-86d2-a9a890442e02\",\"type\":\"UnionRenderers\"}},\"id\":\"5b3efa2a-1de2-47fe-9be0-e4e6dcb013b5\",\"type\":\"ColumnDataSource\"},{\"attributes\":{\"line_alpha\":0.5,\"line_color\":\"#377eb8\",\"line_dash\":[6],\"line_width\":4,\"x\":{\"field\":\"x\"},\"y\":{\"field\":\"y\"}},\"id\":\"05d5fac5-cb21-408e-aad4-773a5880b17b\",\"type\":\"Line\"},{\"attributes\":{\"plot\":{\"id\":\"162e79e9-0a13-4b70-901b-011bf922bb7c\",\"subtype\":\"Figure\",\"type\":\"Plot\"},\"ticker\":{\"id\":\"c981262b-789c-4401-8079-4e1fb05ab571\",\"type\":\"BasicTicker\"}},\"id\":\"508f723e-30c9-4878-976f-02fc3ccf53f8\",\"type\":\"Grid\"},{\"attributes\":{\"line_alpha\":0.6,\"line_color\":\"#377eb8\",\"line_dash\":[6],\"line_width\":5,\"x\":{\"field\":\"x\"},\"y\":{\"field\":\"y\"}},\"id\":\"c69814b8-c26c-43ff-926d-d1a67f11477f\",\"type\":\"Line\"},{\"attributes\":{},\"id\":\"bfcf2f56-4a95-4020-b6ad-f9089fbb68a3\",\"type\":\"UnionRenderers\"},{\"attributes\":{},\"id\":\"de0af210-950c-4158-a7b2-94e68cb74ee1\",\"type\":\"Selection\"},{\"attributes\":{},\"id\":\"47c60103-6d0a-4e1d-83d2-2526036d89cb\",\"type\":\"UnionRenderers\"}],\"root_ids\":[\"b5b3ec7b-b04e-4afa-bce6-9a179960d225\"]},\"title\":\"Bokeh Application\",\"version\":\"0.12.16\"}};\n",
       "  var render_items = [{\"docid\":\"37859aa4-c9b1-4d97-8682-5b35ddfab7f3\",\"elementid\":\"d5863d9e-c5f3-4b3b-a153-eb50c93384da\",\"modelid\":\"b5b3ec7b-b04e-4afa-bce6-9a179960d225\"}];\n",
       "  root.Bokeh.embed.embed_items_notebook(docs_json, render_items);\n",
       "\n",
       "  }\n",
       "  if (root.Bokeh !== undefined) {\n",
       "    embed_document(root);\n",
       "  } else {\n",
       "    var attempts = 0;\n",
       "    var timer = setInterval(function(root) {\n",
       "      if (root.Bokeh !== undefined) {\n",
       "        embed_document(root);\n",
       "        clearInterval(timer);\n",
       "      }\n",
       "      attempts++;\n",
       "      if (attempts > 100) {\n",
       "        console.log(\"Bokeh: ERROR: Unable to run BokehJS code because BokehJS library is missing\")\n",
       "        clearInterval(timer);\n",
       "      }\n",
       "    }, 10, root)\n",
       "  }\n",
       "})(window);"
      ],
      "application/vnd.bokehjs_exec.v0+json": ""
     },
     "metadata": {
      "application/vnd.bokehjs_exec.v0+json": {
       "id": "b5b3ec7b-b04e-4afa-bce6-9a179960d225"
      }
     },
     "output_type": "display_data"
    },
    {
     "data": {
      "text/markdown": [
       "*FIGURE.* Cooling rates & difference."
      ],
      "text/plain": [
       "<IPython.core.display.Markdown object>"
      ]
     },
     "metadata": {},
     "output_type": "display_data"
    },
    {
     "data": {
      "text/html": [
       "<a id=\"Fluxes._mls.\"></a>"
      ],
      "text/plain": [
       "<IPython.core.display.HTML object>"
      ]
     },
     "metadata": {},
     "output_type": "display_data"
    },
    {
     "data": {
      "text/markdown": [
       "# Fluxes. mls."
      ],
      "text/plain": [
       "<IPython.core.display.Markdown object>"
      ]
     },
     "metadata": {},
     "output_type": "display_data"
    },
    {
     "data": {
      "text/html": [
       "\n",
       "<div class=\"bk-root\">\n",
       "    <div class=\"bk-plotdiv\" id=\"ac30f7e1-8e9f-4c26-aa30-bdd23fb279f5\"></div>\n",
       "</div>"
      ]
     },
     "metadata": {},
     "output_type": "display_data"
    },
    {
     "data": {
      "application/javascript": [
       "(function(root) {\n",
       "  function embed_document(root) {\n",
       "    \n",
       "  var docs_json = {\"2a751ae5-5d5f-47b4-be42-cdae14f82399\":{\"roots\":{\"references\":[{\"attributes\":{\"children\":[{\"id\":\"db9833d0-3664-475a-978b-1f71b82ef22b\",\"type\":\"ToolbarBox\"},{\"id\":\"298c6524-9e08-4dd8-8b01-67ece90b321d\",\"type\":\"Column\"}]},\"id\":\"ac2be6db-5b5f-4c24-86fe-9234067e74bb\",\"type\":\"Column\"},{\"attributes\":{\"data_source\":{\"id\":\"0bc3b542-d2f8-4db6-984b-07b59970a0f8\",\"type\":\"ColumnDataSource\"},\"glyph\":{\"id\":\"c1c8a3e4-9d0c-497c-ab3f-b0b6b77d8514\",\"type\":\"VBar\"},\"hover_glyph\":null,\"muted_glyph\":null,\"nonselection_glyph\":{\"id\":\"f4f27bec-9325-49d3-a3d0-70fe6d3849cb\",\"type\":\"VBar\"},\"selection_glyph\":null,\"view\":{\"id\":\"30d7bdb0-3359-4b9b-a95b-88009a1ce932\",\"type\":\"CDSView\"}},\"id\":\"23fe4bce-d96f-4465-b2da-67cd70bb2e2b\",\"type\":\"GlyphRenderer\"},{\"attributes\":{},\"id\":\"58a700d5-9873-46c5-8200-b60952643e55\",\"type\":\"HelpTool\"},{\"attributes\":{},\"id\":\"8212de5f-4a36-484a-b935-fe211b913645\",\"type\":\"BasicTicker\"},{\"attributes\":{},\"id\":\"dd68c73b-8479-4391-be5e-08002ff93687\",\"type\":\"UnionRenderers\"},{\"attributes\":{\"dimension\":1,\"plot\":{\"id\":\"85721bc6-a27d-467a-9031-a38200e1c175\",\"subtype\":\"Figure\",\"type\":\"Plot\"},\"ticker\":{\"id\":\"8212de5f-4a36-484a-b935-fe211b913645\",\"type\":\"BasicTicker\"}},\"id\":\"688b8257-ab52-42a4-bb66-4348baaadc3a\",\"type\":\"Grid\"},{\"attributes\":{},\"id\":\"d234f9d8-1bd5-4b3b-9cff-b2216ca34d4d\",\"type\":\"CategoricalTickFormatter\"},{\"attributes\":{\"axis_label\":\"flux (W m-2)\",\"formatter\":{\"id\":\"dd9e18ae-ed98-466c-b295-aaa4d910fa1d\",\"type\":\"BasicTickFormatter\"},\"plot\":{\"id\":\"85721bc6-a27d-467a-9031-a38200e1c175\",\"subtype\":\"Figure\",\"type\":\"Plot\"},\"ticker\":{\"id\":\"8212de5f-4a36-484a-b935-fe211b913645\",\"type\":\"BasicTicker\"}},\"id\":\"c6bcf232-d7bc-4baa-aeda-ed4ce187a86b\",\"type\":\"LinearAxis\"},{\"attributes\":{},\"id\":\"e2515b0c-dacd-4791-ba67-1c018ecf8aaa\",\"type\":\"PanTool\"},{\"attributes\":{},\"id\":\"fc7a9776-19b9-4089-893e-09210d3844d1\",\"type\":\"Selection\"},{\"attributes\":{\"data_source\":{\"id\":\"0f3f4c7f-9c2a-43aa-9d59-bdcef6d06542\",\"type\":\"ColumnDataSource\"},\"glyph\":{\"id\":\"a64f1434-207e-4bf5-a4d8-75fd9edee7a2\",\"type\":\"VBar\"},\"hover_glyph\":null,\"muted_glyph\":null,\"nonselection_glyph\":{\"id\":\"0e4aeb83-28ec-44cf-b1d7-3f880bca9f72\",\"type\":\"VBar\"},\"selection_glyph\":null,\"view\":{\"id\":\"93c4c19a-163c-46eb-a811-ef2eee288e40\",\"type\":\"CDSView\"}},\"id\":\"f3e751dd-912d-426e-97e4-a099c7c70888\",\"type\":\"GlyphRenderer\"},{\"attributes\":{},\"id\":\"9b5b73c6-f1e7-4f8d-ab12-4d951e39fc57\",\"type\":\"WheelZoomTool\"},{\"attributes\":{\"axis_label\":\"spectral band\",\"formatter\":{\"id\":\"28842985-df8e-45ca-b547-3587bf3b7f69\",\"type\":\"CategoricalTickFormatter\"},\"plot\":{\"id\":\"85721bc6-a27d-467a-9031-a38200e1c175\",\"subtype\":\"Figure\",\"type\":\"Plot\"},\"ticker\":{\"id\":\"1c0b1362-6661-4845-b9a7-76cb5010d9bb\",\"type\":\"CategoricalTicker\"}},\"id\":\"23988669-a4f2-4053-9c4b-88a5f2bcaf24\",\"type\":\"CategoricalAxis\"},{\"attributes\":{},\"id\":\"aa79c829-48d0-4101-b709-9553d687ec28\",\"type\":\"Selection\"},{\"attributes\":{\"callback\":null,\"factors\":[\"1\",\"2\",\"3\",\"4\",\"5\",\"6\",\"7\",\"8\",\"9\",\"10\",\"11\"]},\"id\":\"a4bbfcc0-dfc3-4d8b-b305-8e14d8039529\",\"type\":\"FactorRange\"},{\"attributes\":{\"callback\":null,\"data\":{\"band\":[\"1\",\"2\",\"3\",\"4\",\"5\",\"6\",\"7\",\"8\",\"9\",\"10\",\"11\"],\"flux\":{\"__ndarray__\":\"AEILCRhdyD+AzEHQ0arSP0DMe5xpwtO/gGStodRe0z/ASgaAKm7QPwBwl/2607G/QKz+CMOA2D8ASdv4E5W5vwC2wvS9hpC/YNQ5UPHJwD9AvtXft8awPw==\",\"dtype\":\"float64\",\"shape\":[11]}},\"selected\":{\"id\":\"aa79c829-48d0-4101-b709-9553d687ec28\",\"type\":\"Selection\"},\"selection_policy\":{\"id\":\"dd68c73b-8479-4391-be5e-08002ff93687\",\"type\":\"UnionRenderers\"}},\"id\":\"06ae3812-a366-458a-b225-20c858cbba75\",\"type\":\"ColumnDataSource\"},{\"attributes\":{},\"id\":\"6d60fb1c-efdc-4b8a-8513-69a1e2adf6c6\",\"type\":\"CategoricalTickFormatter\"},{\"attributes\":{\"active_drag\":\"auto\",\"active_inspect\":\"auto\",\"active_scroll\":\"auto\",\"active_tap\":\"auto\",\"tools\":[{\"id\":\"71a1f16b-9a79-46e6-90fc-d9c412acac63\",\"type\":\"PanTool\"},{\"id\":\"9b5b73c6-f1e7-4f8d-ab12-4d951e39fc57\",\"type\":\"WheelZoomTool\"},{\"id\":\"c5d6de7a-d32f-4ba9-a0a7-775c0c90d51b\",\"type\":\"BoxZoomTool\"},{\"id\":\"63e60f09-9053-4212-85f7-530a4a768ed1\",\"type\":\"SaveTool\"},{\"id\":\"350c170a-bcbf-40f9-82e8-c3429a8399fc\",\"type\":\"ResetTool\"},{\"id\":\"58a700d5-9873-46c5-8200-b60952643e55\",\"type\":\"HelpTool\"}]},\"id\":\"1f893890-a009-4f59-8d33-fc885628aa57\",\"type\":\"Toolbar\"},{\"attributes\":{},\"id\":\"28842985-df8e-45ca-b547-3587bf3b7f69\",\"type\":\"CategoricalTickFormatter\"},{\"attributes\":{},\"id\":\"6fc985ab-659e-44d5-a46c-152c5de04a65\",\"type\":\"LinearScale\"},{\"attributes\":{},\"id\":\"ec45ce17-ee91-409b-b33f-722bb1c288e4\",\"type\":\"CategoricalScale\"},{\"attributes\":{\"overlay\":{\"id\":\"6a717317-b99d-4b9c-8386-808768bef01a\",\"type\":\"BoxAnnotation\"}},\"id\":\"c5d6de7a-d32f-4ba9-a0a7-775c0c90d51b\",\"type\":\"BoxZoomTool\"},{\"attributes\":{\"callback\":null},\"id\":\"76d7af19-6b7c-4674-a224-fd99f99b78dc\",\"type\":\"DataRange1d\"},{\"attributes\":{\"fill_color\":{\"value\":\"#1f77b4\"},\"line_color\":{\"value\":\"#1f77b4\"},\"top\":{\"field\":\"flux\"},\"width\":{\"value\":0.9},\"x\":{\"field\":\"band\"}},\"id\":\"a64f1434-207e-4bf5-a4d8-75fd9edee7a2\",\"type\":\"VBar\"},{\"attributes\":{},\"id\":\"350c170a-bcbf-40f9-82e8-c3429a8399fc\",\"type\":\"ResetTool\"},{\"attributes\":{},\"id\":\"71a1f16b-9a79-46e6-90fc-d9c412acac63\",\"type\":\"PanTool\"},{\"attributes\":{\"callback\":null,\"data\":{\"band\":[\"1\",\"2\",\"3\",\"4\",\"5\",\"6\",\"7\",\"8\",\"9\",\"10\",\"11\"],\"flux\":{\"__ndarray__\":\"AIMde81dyD8AYEI3wVi1vwBYNyirM4i/ANGnfnO5zj9A+KOoM/fOvwBuLCgMysK/AHAlOzYC1z8A5hw8E5qkP8BJ06BoHsi/QL8FwBXcvT8AZ1U6DnKtPw==\",\"dtype\":\"float64\",\"shape\":[11]}},\"selected\":{\"id\":\"fc7a9776-19b9-4089-893e-09210d3844d1\",\"type\":\"Selection\"},\"selection_policy\":{\"id\":\"d8ddd440-1529-4513-a8bf-d68d082b021a\",\"type\":\"UnionRenderers\"}},\"id\":\"0f3f4c7f-9c2a-43aa-9d59-bdcef6d06542\",\"type\":\"ColumnDataSource\"},{\"attributes\":{\"fill_color\":{\"value\":\"#1f77b4\"},\"line_color\":{\"value\":\"#1f77b4\"},\"top\":{\"field\":\"flux\"},\"width\":{\"value\":0.9},\"x\":{\"field\":\"band\"}},\"id\":\"c1c8a3e4-9d0c-497c-ab3f-b0b6b77d8514\",\"type\":\"VBar\"},{\"attributes\":{\"source\":{\"id\":\"0f3f4c7f-9c2a-43aa-9d59-bdcef6d06542\",\"type\":\"ColumnDataSource\"}},\"id\":\"93c4c19a-163c-46eb-a811-ef2eee288e40\",\"type\":\"CDSView\"},{\"attributes\":{\"bottom_units\":\"screen\",\"fill_alpha\":{\"value\":0.5},\"fill_color\":{\"value\":\"lightgrey\"},\"left_units\":\"screen\",\"level\":\"overlay\",\"line_alpha\":{\"value\":1.0},\"line_color\":{\"value\":\"black\"},\"line_dash\":[4,4],\"line_width\":{\"value\":2},\"plot\":null,\"render_mode\":\"css\",\"right_units\":\"screen\",\"top_units\":\"screen\"},\"id\":\"6a717317-b99d-4b9c-8386-808768bef01a\",\"type\":\"BoxAnnotation\"},{\"attributes\":{\"plot\":{\"id\":\"85721bc6-a27d-467a-9031-a38200e1c175\",\"subtype\":\"Figure\",\"type\":\"Plot\"},\"ticker\":{\"id\":\"1c0b1362-6661-4845-b9a7-76cb5010d9bb\",\"type\":\"CategoricalTicker\"}},\"id\":\"51e1d672-405f-4529-ac91-4513657a40e7\",\"type\":\"Grid\"},{\"attributes\":{\"overlay\":{\"id\":\"57da85d6-f84f-4257-a9b4-da1cb1913a08\",\"type\":\"BoxAnnotation\"}},\"id\":\"db68242e-9a23-4535-821d-6faacf20cc04\",\"type\":\"BoxZoomTool\"},{\"attributes\":{},\"id\":\"d8ddd440-1529-4513-a8bf-d68d082b021a\",\"type\":\"UnionRenderers\"},{\"attributes\":{\"fill_alpha\":{\"value\":0.1},\"fill_color\":{\"value\":\"#1f77b4\"},\"line_alpha\":{\"value\":0.1},\"line_color\":{\"value\":\"#1f77b4\"},\"top\":{\"field\":\"flux\"},\"width\":{\"value\":0.9},\"x\":{\"field\":\"band\"}},\"id\":\"0e4aeb83-28ec-44cf-b1d7-3f880bca9f72\",\"type\":\"VBar\"},{\"attributes\":{},\"id\":\"b754455f-0ff7-4d47-b5b2-6b8b6959a695\",\"type\":\"BasicTickFormatter\"},{\"attributes\":{},\"id\":\"b6a68c0c-d044-49fa-8270-107cbdd61522\",\"type\":\"UnionRenderers\"},{\"attributes\":{},\"id\":\"ff50fd3d-d7a2-4f2b-920f-9242b7a6f0ba\",\"type\":\"SaveTool\"},{\"attributes\":{\"children\":[{\"id\":\"dd3b9ad7-9aa3-4609-bd25-474ff11ca2a3\",\"type\":\"Row\"}]},\"id\":\"298c6524-9e08-4dd8-8b01-67ece90b321d\",\"type\":\"Column\"},{\"attributes\":{\"dimension\":1,\"plot\":{\"id\":\"2aba65ff-603f-457e-9df9-8c6b9f009674\",\"subtype\":\"Figure\",\"type\":\"Plot\"},\"ticker\":{\"id\":\"761c9d92-b965-40e8-88d6-ba37d79e7664\",\"type\":\"BasicTicker\"}},\"id\":\"f68bbe6b-aee8-4d5f-89c1-323f81c5d72a\",\"type\":\"Grid\"},{\"attributes\":{\"plot\":null,\"text\":\"Atmosphere heating. CLIRAD (single-run) - CRD.\"},\"id\":\"3f56af53-022d-4a75-934e-fa63a3bde7db\",\"type\":\"Title\"},{\"attributes\":{},\"id\":\"1c0b1362-6661-4845-b9a7-76cb5010d9bb\",\"type\":\"CategoricalTicker\"},{\"attributes\":{},\"id\":\"63e60f09-9053-4212-85f7-530a4a768ed1\",\"type\":\"SaveTool\"},{\"attributes\":{\"tools\":[{\"id\":\"d1826952-f900-479a-9f47-f26fd3a8bbcc\",\"type\":\"PanTool\"},{\"id\":\"1df931ab-4bb9-4991-a51f-7b9e85a4b355\",\"type\":\"WheelZoomTool\"},{\"id\":\"cadd405b-3068-4cd3-97b2-95b68e0fa32e\",\"type\":\"BoxZoomTool\"},{\"id\":\"28f6589f-ce94-48f6-b029-8544e94fb668\",\"type\":\"SaveTool\"},{\"id\":\"98e6b058-4f30-4720-8c99-258ba959811f\",\"type\":\"ResetTool\"},{\"id\":\"6e15f72e-7e4c-4821-b9dd-f6852f6cef1f\",\"type\":\"HelpTool\"},{\"id\":\"e2515b0c-dacd-4791-ba67-1c018ecf8aaa\",\"type\":\"PanTool\"},{\"id\":\"58ccf77f-6ed7-42e0-9435-7ab65206f41f\",\"type\":\"WheelZoomTool\"},{\"id\":\"db68242e-9a23-4535-821d-6faacf20cc04\",\"type\":\"BoxZoomTool\"},{\"id\":\"ff50fd3d-d7a2-4f2b-920f-9242b7a6f0ba\",\"type\":\"SaveTool\"},{\"id\":\"2c79b6ae-8c64-4731-8d2a-95506c0af387\",\"type\":\"ResetTool\"},{\"id\":\"e53ef4df-a37c-438e-855a-32cd9139ea1b\",\"type\":\"HelpTool\"},{\"id\":\"71a1f16b-9a79-46e6-90fc-d9c412acac63\",\"type\":\"PanTool\"},{\"id\":\"9b5b73c6-f1e7-4f8d-ab12-4d951e39fc57\",\"type\":\"WheelZoomTool\"},{\"id\":\"c5d6de7a-d32f-4ba9-a0a7-775c0c90d51b\",\"type\":\"BoxZoomTool\"},{\"id\":\"63e60f09-9053-4212-85f7-530a4a768ed1\",\"type\":\"SaveTool\"},{\"id\":\"350c170a-bcbf-40f9-82e8-c3429a8399fc\",\"type\":\"ResetTool\"},{\"id\":\"58a700d5-9873-46c5-8200-b60952643e55\",\"type\":\"HelpTool\"}]},\"id\":\"31647e62-4259-44f0-b694-e2f93d071d1d\",\"type\":\"ProxyToolbar\"},{\"attributes\":{},\"id\":\"dd9e18ae-ed98-466c-b295-aaa4d910fa1d\",\"type\":\"BasicTickFormatter\"},{\"attributes\":{\"children\":[{\"id\":\"dad42ec2-6115-4662-8932-4e1aa9d3da73\",\"subtype\":\"Figure\",\"type\":\"Plot\"},{\"id\":\"2aba65ff-603f-457e-9df9-8c6b9f009674\",\"subtype\":\"Figure\",\"type\":\"Plot\"},{\"id\":\"85721bc6-a27d-467a-9031-a38200e1c175\",\"subtype\":\"Figure\",\"type\":\"Plot\"}]},\"id\":\"dd3b9ad7-9aa3-4609-bd25-474ff11ca2a3\",\"type\":\"Row\"},{\"attributes\":{\"axis_label\":\"flux (W m-2)\",\"formatter\":{\"id\":\"4a250dc1-6da0-4395-af81-58b37354490b\",\"type\":\"BasicTickFormatter\"},\"plot\":{\"id\":\"2aba65ff-603f-457e-9df9-8c6b9f009674\",\"subtype\":\"Figure\",\"type\":\"Plot\"},\"ticker\":{\"id\":\"761c9d92-b965-40e8-88d6-ba37d79e7664\",\"type\":\"BasicTicker\"}},\"id\":\"cf6df45a-3bfd-4231-aa14-db29fd4cd5bd\",\"type\":\"LinearAxis\"},{\"attributes\":{\"toolbar\":{\"id\":\"31647e62-4259-44f0-b694-e2f93d071d1d\",\"type\":\"ProxyToolbar\"},\"toolbar_location\":\"above\"},\"id\":\"db9833d0-3664-475a-978b-1f71b82ef22b\",\"type\":\"ToolbarBox\"},{\"attributes\":{},\"id\":\"4a250dc1-6da0-4395-af81-58b37354490b\",\"type\":\"BasicTickFormatter\"},{\"attributes\":{},\"id\":\"f00006f8-78fe-4df1-bbd2-4f933b60c750\",\"type\":\"Selection\"},{\"attributes\":{\"axis_label\":\"spectral band\",\"formatter\":{\"id\":\"d234f9d8-1bd5-4b3b-9cff-b2216ca34d4d\",\"type\":\"CategoricalTickFormatter\"},\"plot\":{\"id\":\"2aba65ff-603f-457e-9df9-8c6b9f009674\",\"subtype\":\"Figure\",\"type\":\"Plot\"},\"ticker\":{\"id\":\"40166d73-1315-4363-b414-d732360d3b09\",\"type\":\"CategoricalTicker\"}},\"id\":\"a085ce9b-e6d1-4dd8-b9b2-0d4531408570\",\"type\":\"CategoricalAxis\"},{\"attributes\":{},\"id\":\"98e6b058-4f30-4720-8c99-258ba959811f\",\"type\":\"ResetTool\"},{\"attributes\":{\"source\":{\"id\":\"06ae3812-a366-458a-b225-20c858cbba75\",\"type\":\"ColumnDataSource\"}},\"id\":\"4b630e46-fa79-4ad0-9b3b-e3c617ef721d\",\"type\":\"CDSView\"},{\"attributes\":{\"overlay\":{\"id\":\"d89d8d87-6b0c-44ab-bd88-0bd293dd4374\",\"type\":\"BoxAnnotation\"}},\"id\":\"cadd405b-3068-4cd3-97b2-95b68e0fa32e\",\"type\":\"BoxZoomTool\"},{\"attributes\":{\"plot\":{\"id\":\"dad42ec2-6115-4662-8932-4e1aa9d3da73\",\"subtype\":\"Figure\",\"type\":\"Plot\"},\"ticker\":{\"id\":\"e3237291-520c-4ec6-b1b5-3799c90631c3\",\"type\":\"CategoricalTicker\"}},\"id\":\"5511eee9-a196-4a54-a6a2-ffd8679bc305\",\"type\":\"Grid\"},{\"attributes\":{\"below\":[{\"id\":\"a085ce9b-e6d1-4dd8-b9b2-0d4531408570\",\"type\":\"CategoricalAxis\"}],\"left\":[{\"id\":\"cf6df45a-3bfd-4231-aa14-db29fd4cd5bd\",\"type\":\"LinearAxis\"}],\"plot_height\":300,\"plot_width\":300,\"renderers\":[{\"id\":\"a085ce9b-e6d1-4dd8-b9b2-0d4531408570\",\"type\":\"CategoricalAxis\"},{\"id\":\"5287385e-3075-4370-80a8-4982d7e9b650\",\"type\":\"Grid\"},{\"id\":\"cf6df45a-3bfd-4231-aa14-db29fd4cd5bd\",\"type\":\"LinearAxis\"},{\"id\":\"f68bbe6b-aee8-4d5f-89c1-323f81c5d72a\",\"type\":\"Grid\"},{\"id\":\"57da85d6-f84f-4257-a9b4-da1cb1913a08\",\"type\":\"BoxAnnotation\"},{\"id\":\"23fe4bce-d96f-4465-b2da-67cd70bb2e2b\",\"type\":\"GlyphRenderer\"}],\"title\":{\"id\":\"dbe9bf5c-8710-40e1-a761-6e7320c6516e\",\"type\":\"Title\"},\"toolbar\":{\"id\":\"df137759-e55f-46d9-8915-f5b1358deb88\",\"type\":\"Toolbar\"},\"toolbar_location\":null,\"x_range\":{\"id\":\"f0148478-8389-490f-99f2-800bb4a1f870\",\"type\":\"FactorRange\"},\"x_scale\":{\"id\":\"856cad7d-bb5b-4637-8542-d515207f716a\",\"type\":\"CategoricalScale\"},\"y_range\":{\"id\":\"1594ba14-1c03-44c8-8e20-5eb370c41334\",\"type\":\"DataRange1d\"},\"y_scale\":{\"id\":\"2dad4004-d3f4-4a15-927c-22495e528f64\",\"type\":\"LinearScale\"}},\"id\":\"2aba65ff-603f-457e-9df9-8c6b9f009674\",\"subtype\":\"Figure\",\"type\":\"Plot\"},{\"attributes\":{},\"id\":\"856cad7d-bb5b-4637-8542-d515207f716a\",\"type\":\"CategoricalScale\"},{\"attributes\":{\"fill_alpha\":{\"value\":0.1},\"fill_color\":{\"value\":\"#1f77b4\"},\"line_alpha\":{\"value\":0.1},\"line_color\":{\"value\":\"#1f77b4\"},\"top\":{\"field\":\"flux\"},\"width\":{\"value\":0.9},\"x\":{\"field\":\"band\"}},\"id\":\"bc05f5d2-3235-4108-bcbc-cf823c8e183c\",\"type\":\"VBar\"},{\"attributes\":{},\"id\":\"40166d73-1315-4363-b414-d732360d3b09\",\"type\":\"CategoricalTicker\"},{\"attributes\":{},\"id\":\"28f6589f-ce94-48f6-b029-8544e94fb668\",\"type\":\"SaveTool\"},{\"attributes\":{\"data_source\":{\"id\":\"06ae3812-a366-458a-b225-20c858cbba75\",\"type\":\"ColumnDataSource\"},\"glyph\":{\"id\":\"733d5c44-38d8-4a52-bbf3-2099fd2cac53\",\"type\":\"VBar\"},\"hover_glyph\":null,\"muted_glyph\":null,\"nonselection_glyph\":{\"id\":\"bc05f5d2-3235-4108-bcbc-cf823c8e183c\",\"type\":\"VBar\"},\"selection_glyph\":null,\"view\":{\"id\":\"4b630e46-fa79-4ad0-9b3b-e3c617ef721d\",\"type\":\"CDSView\"}},\"id\":\"806d0126-2f87-408c-be50-e1f1b5f91ed0\",\"type\":\"GlyphRenderer\"},{\"attributes\":{\"source\":{\"id\":\"0bc3b542-d2f8-4db6-984b-07b59970a0f8\",\"type\":\"ColumnDataSource\"}},\"id\":\"30d7bdb0-3359-4b9b-a95b-88009a1ce932\",\"type\":\"CDSView\"},{\"attributes\":{\"callback\":null},\"id\":\"a03750e2-4765-403c-9209-5473e14e1589\",\"type\":\"DataRange1d\"},{\"attributes\":{},\"id\":\"e3237291-520c-4ec6-b1b5-3799c90631c3\",\"type\":\"CategoricalTicker\"},{\"attributes\":{\"callback\":null},\"id\":\"1594ba14-1c03-44c8-8e20-5eb370c41334\",\"type\":\"DataRange1d\"},{\"attributes\":{\"plot\":{\"id\":\"2aba65ff-603f-457e-9df9-8c6b9f009674\",\"subtype\":\"Figure\",\"type\":\"Plot\"},\"ticker\":{\"id\":\"40166d73-1315-4363-b414-d732360d3b09\",\"type\":\"CategoricalTicker\"}},\"id\":\"5287385e-3075-4370-80a8-4982d7e9b650\",\"type\":\"Grid\"},{\"attributes\":{\"active_drag\":\"auto\",\"active_inspect\":\"auto\",\"active_scroll\":\"auto\",\"active_tap\":\"auto\",\"tools\":[{\"id\":\"e2515b0c-dacd-4791-ba67-1c018ecf8aaa\",\"type\":\"PanTool\"},{\"id\":\"58ccf77f-6ed7-42e0-9435-7ab65206f41f\",\"type\":\"WheelZoomTool\"},{\"id\":\"db68242e-9a23-4535-821d-6faacf20cc04\",\"type\":\"BoxZoomTool\"},{\"id\":\"ff50fd3d-d7a2-4f2b-920f-9242b7a6f0ba\",\"type\":\"SaveTool\"},{\"id\":\"2c79b6ae-8c64-4731-8d2a-95506c0af387\",\"type\":\"ResetTool\"},{\"id\":\"e53ef4df-a37c-438e-855a-32cd9139ea1b\",\"type\":\"HelpTool\"}]},\"id\":\"df137759-e55f-46d9-8915-f5b1358deb88\",\"type\":\"Toolbar\"},{\"attributes\":{},\"id\":\"761c9d92-b965-40e8-88d6-ba37d79e7664\",\"type\":\"BasicTicker\"},{\"attributes\":{\"axis_label\":\"spectral band\",\"formatter\":{\"id\":\"6d60fb1c-efdc-4b8a-8513-69a1e2adf6c6\",\"type\":\"CategoricalTickFormatter\"},\"plot\":{\"id\":\"dad42ec2-6115-4662-8932-4e1aa9d3da73\",\"subtype\":\"Figure\",\"type\":\"Plot\"},\"ticker\":{\"id\":\"e3237291-520c-4ec6-b1b5-3799c90631c3\",\"type\":\"CategoricalTicker\"}},\"id\":\"809aee4e-a146-4d49-891c-379bd55f6f16\",\"type\":\"CategoricalAxis\"},{\"attributes\":{\"callback\":null,\"factors\":[\"1\",\"2\",\"3\",\"4\",\"5\",\"6\",\"7\",\"8\",\"9\",\"10\",\"11\"]},\"id\":\"f0148478-8389-490f-99f2-800bb4a1f870\",\"type\":\"FactorRange\"},{\"attributes\":{\"below\":[{\"id\":\"23988669-a4f2-4053-9c4b-88a5f2bcaf24\",\"type\":\"CategoricalAxis\"}],\"left\":[{\"id\":\"c6bcf232-d7bc-4baa-aeda-ed4ce187a86b\",\"type\":\"LinearAxis\"}],\"plot_height\":300,\"plot_width\":300,\"renderers\":[{\"id\":\"23988669-a4f2-4053-9c4b-88a5f2bcaf24\",\"type\":\"CategoricalAxis\"},{\"id\":\"51e1d672-405f-4529-ac91-4513657a40e7\",\"type\":\"Grid\"},{\"id\":\"c6bcf232-d7bc-4baa-aeda-ed4ce187a86b\",\"type\":\"LinearAxis\"},{\"id\":\"688b8257-ab52-42a4-bb66-4348baaadc3a\",\"type\":\"Grid\"},{\"id\":\"6a717317-b99d-4b9c-8386-808768bef01a\",\"type\":\"BoxAnnotation\"},{\"id\":\"f3e751dd-912d-426e-97e4-a099c7c70888\",\"type\":\"GlyphRenderer\"}],\"title\":{\"id\":\"3f56af53-022d-4a75-934e-fa63a3bde7db\",\"type\":\"Title\"},\"toolbar\":{\"id\":\"1f893890-a009-4f59-8d33-fc885628aa57\",\"type\":\"Toolbar\"},\"toolbar_location\":null,\"x_range\":{\"id\":\"a4bbfcc0-dfc3-4d8b-b305-8e14d8039529\",\"type\":\"FactorRange\"},\"x_scale\":{\"id\":\"ec45ce17-ee91-409b-b33f-722bb1c288e4\",\"type\":\"CategoricalScale\"},\"y_range\":{\"id\":\"76d7af19-6b7c-4674-a224-fd99f99b78dc\",\"type\":\"DataRange1d\"},\"y_scale\":{\"id\":\"6fc985ab-659e-44d5-a46c-152c5de04a65\",\"type\":\"LinearScale\"}},\"id\":\"85721bc6-a27d-467a-9031-a38200e1c175\",\"subtype\":\"Figure\",\"type\":\"Plot\"},{\"attributes\":{},\"id\":\"2c79b6ae-8c64-4731-8d2a-95506c0af387\",\"type\":\"ResetTool\"},{\"attributes\":{},\"id\":\"2dad4004-d3f4-4a15-927c-22495e528f64\",\"type\":\"LinearScale\"},{\"attributes\":{},\"id\":\"6e15f72e-7e4c-4821-b9dd-f6852f6cef1f\",\"type\":\"HelpTool\"},{\"attributes\":{\"active_drag\":\"auto\",\"active_inspect\":\"auto\",\"active_scroll\":\"auto\",\"active_tap\":\"auto\",\"tools\":[{\"id\":\"d1826952-f900-479a-9f47-f26fd3a8bbcc\",\"type\":\"PanTool\"},{\"id\":\"1df931ab-4bb9-4991-a51f-7b9e85a4b355\",\"type\":\"WheelZoomTool\"},{\"id\":\"cadd405b-3068-4cd3-97b2-95b68e0fa32e\",\"type\":\"BoxZoomTool\"},{\"id\":\"28f6589f-ce94-48f6-b029-8544e94fb668\",\"type\":\"SaveTool\"},{\"id\":\"98e6b058-4f30-4720-8c99-258ba959811f\",\"type\":\"ResetTool\"},{\"id\":\"6e15f72e-7e4c-4821-b9dd-f6852f6cef1f\",\"type\":\"HelpTool\"}]},\"id\":\"513df868-f33b-446f-97dc-ec648f7c16a6\",\"type\":\"Toolbar\"},{\"attributes\":{\"dimension\":1,\"plot\":{\"id\":\"dad42ec2-6115-4662-8932-4e1aa9d3da73\",\"subtype\":\"Figure\",\"type\":\"Plot\"},\"ticker\":{\"id\":\"7ed2a53e-6b7d-4b07-98ad-6c03fdade15c\",\"type\":\"BasicTicker\"}},\"id\":\"479f0d45-fd3c-4e6c-8596-2cab2cf6a4a4\",\"type\":\"Grid\"},{\"attributes\":{\"fill_color\":{\"value\":\"#1f77b4\"},\"line_color\":{\"value\":\"#1f77b4\"},\"top\":{\"field\":\"flux\"},\"width\":{\"value\":0.9},\"x\":{\"field\":\"band\"}},\"id\":\"733d5c44-38d8-4a52-bbf3-2099fd2cac53\",\"type\":\"VBar\"},{\"attributes\":{},\"id\":\"58ccf77f-6ed7-42e0-9435-7ab65206f41f\",\"type\":\"WheelZoomTool\"},{\"attributes\":{},\"id\":\"d1826952-f900-479a-9f47-f26fd3a8bbcc\",\"type\":\"PanTool\"},{\"attributes\":{},\"id\":\"7ed2a53e-6b7d-4b07-98ad-6c03fdade15c\",\"type\":\"BasicTicker\"},{\"attributes\":{\"bottom_units\":\"screen\",\"fill_alpha\":{\"value\":0.5},\"fill_color\":{\"value\":\"lightgrey\"},\"left_units\":\"screen\",\"level\":\"overlay\",\"line_alpha\":{\"value\":1.0},\"line_color\":{\"value\":\"black\"},\"line_dash\":[4,4],\"line_width\":{\"value\":2},\"plot\":null,\"render_mode\":\"css\",\"right_units\":\"screen\",\"top_units\":\"screen\"},\"id\":\"d89d8d87-6b0c-44ab-bd88-0bd293dd4374\",\"type\":\"BoxAnnotation\"},{\"attributes\":{\"fill_alpha\":{\"value\":0.1},\"fill_color\":{\"value\":\"#1f77b4\"},\"line_alpha\":{\"value\":0.1},\"line_color\":{\"value\":\"#1f77b4\"},\"top\":{\"field\":\"flux\"},\"width\":{\"value\":0.9},\"x\":{\"field\":\"band\"}},\"id\":\"f4f27bec-9325-49d3-a3d0-70fe6d3849cb\",\"type\":\"VBar\"},{\"attributes\":{\"callback\":null,\"data\":{\"band\":[\"1\",\"2\",\"3\",\"4\",\"5\",\"6\",\"7\",\"8\",\"9\",\"10\",\"11\"],\"flux\":{\"__ndarray__\":\"AAAAAyUF9r4AgsR29wDYPwC4H/DAANO/ANyul6YIsD+Ajh6/t+nfPwB0ImabwLM/ALE8WXvplz9gN3gVCPHBv4A0KnCyDcY/AKBF71TAjT8AcGzRXW2APw==\",\"dtype\":\"float64\",\"shape\":[11]}},\"selected\":{\"id\":\"f00006f8-78fe-4df1-bbd2-4f933b60c750\",\"type\":\"Selection\"},\"selection_policy\":{\"id\":\"b6a68c0c-d044-49fa-8270-107cbdd61522\",\"type\":\"UnionRenderers\"}},\"id\":\"0bc3b542-d2f8-4db6-984b-07b59970a0f8\",\"type\":\"ColumnDataSource\"},{\"attributes\":{},\"id\":\"1df931ab-4bb9-4991-a51f-7b9e85a4b355\",\"type\":\"WheelZoomTool\"},{\"attributes\":{},\"id\":\"ac2b05c6-501c-46cc-88d2-25d445ced81c\",\"type\":\"LinearScale\"},{\"attributes\":{},\"id\":\"e53ef4df-a37c-438e-855a-32cd9139ea1b\",\"type\":\"HelpTool\"},{\"attributes\":{\"callback\":null,\"factors\":[\"1\",\"2\",\"3\",\"4\",\"5\",\"6\",\"7\",\"8\",\"9\",\"10\",\"11\"]},\"id\":\"356c1773-2bac-4276-b603-b3c65d02ff71\",\"type\":\"FactorRange\"},{\"attributes\":{\"plot\":null,\"text\":\"TOA flux. CLIRAD (single-run) - CRD.\"},\"id\":\"3151e29e-9761-4447-8421-877b34a91f52\",\"type\":\"Title\"},{\"attributes\":{\"plot\":null,\"text\":\"SFC flux. CLIRAD (single-run) - CRD.\"},\"id\":\"dbe9bf5c-8710-40e1-a761-6e7320c6516e\",\"type\":\"Title\"},{\"attributes\":{\"bottom_units\":\"screen\",\"fill_alpha\":{\"value\":0.5},\"fill_color\":{\"value\":\"lightgrey\"},\"left_units\":\"screen\",\"level\":\"overlay\",\"line_alpha\":{\"value\":1.0},\"line_color\":{\"value\":\"black\"},\"line_dash\":[4,4],\"line_width\":{\"value\":2},\"plot\":null,\"render_mode\":\"css\",\"right_units\":\"screen\",\"top_units\":\"screen\"},\"id\":\"57da85d6-f84f-4257-a9b4-da1cb1913a08\",\"type\":\"BoxAnnotation\"},{\"attributes\":{},\"id\":\"9853142d-94a2-4ae6-8d85-08fb4e32b0ee\",\"type\":\"CategoricalScale\"},{\"attributes\":{\"axis_label\":\"flux (W m-2)\",\"formatter\":{\"id\":\"b754455f-0ff7-4d47-b5b2-6b8b6959a695\",\"type\":\"BasicTickFormatter\"},\"plot\":{\"id\":\"dad42ec2-6115-4662-8932-4e1aa9d3da73\",\"subtype\":\"Figure\",\"type\":\"Plot\"},\"ticker\":{\"id\":\"7ed2a53e-6b7d-4b07-98ad-6c03fdade15c\",\"type\":\"BasicTicker\"}},\"id\":\"fb04f30b-8916-4ee2-a436-e02c5ffaec24\",\"type\":\"LinearAxis\"},{\"attributes\":{\"below\":[{\"id\":\"809aee4e-a146-4d49-891c-379bd55f6f16\",\"type\":\"CategoricalAxis\"}],\"left\":[{\"id\":\"fb04f30b-8916-4ee2-a436-e02c5ffaec24\",\"type\":\"LinearAxis\"}],\"plot_height\":300,\"plot_width\":300,\"renderers\":[{\"id\":\"809aee4e-a146-4d49-891c-379bd55f6f16\",\"type\":\"CategoricalAxis\"},{\"id\":\"5511eee9-a196-4a54-a6a2-ffd8679bc305\",\"type\":\"Grid\"},{\"id\":\"fb04f30b-8916-4ee2-a436-e02c5ffaec24\",\"type\":\"LinearAxis\"},{\"id\":\"479f0d45-fd3c-4e6c-8596-2cab2cf6a4a4\",\"type\":\"Grid\"},{\"id\":\"d89d8d87-6b0c-44ab-bd88-0bd293dd4374\",\"type\":\"BoxAnnotation\"},{\"id\":\"806d0126-2f87-408c-be50-e1f1b5f91ed0\",\"type\":\"GlyphRenderer\"}],\"title\":{\"id\":\"3151e29e-9761-4447-8421-877b34a91f52\",\"type\":\"Title\"},\"toolbar\":{\"id\":\"513df868-f33b-446f-97dc-ec648f7c16a6\",\"type\":\"Toolbar\"},\"toolbar_location\":null,\"x_range\":{\"id\":\"356c1773-2bac-4276-b603-b3c65d02ff71\",\"type\":\"FactorRange\"},\"x_scale\":{\"id\":\"9853142d-94a2-4ae6-8d85-08fb4e32b0ee\",\"type\":\"CategoricalScale\"},\"y_range\":{\"id\":\"a03750e2-4765-403c-9209-5473e14e1589\",\"type\":\"DataRange1d\"},\"y_scale\":{\"id\":\"ac2b05c6-501c-46cc-88d2-25d445ced81c\",\"type\":\"LinearScale\"}},\"id\":\"dad42ec2-6115-4662-8932-4e1aa9d3da73\",\"subtype\":\"Figure\",\"type\":\"Plot\"}],\"root_ids\":[\"ac2be6db-5b5f-4c24-86fe-9234067e74bb\"]},\"title\":\"Bokeh Application\",\"version\":\"0.12.16\"}};\n",
       "  var render_items = [{\"docid\":\"2a751ae5-5d5f-47b4-be42-cdae14f82399\",\"elementid\":\"ac30f7e1-8e9f-4c26-aa30-bdd23fb279f5\",\"modelid\":\"ac2be6db-5b5f-4c24-86fe-9234067e74bb\"}];\n",
       "  root.Bokeh.embed.embed_items_notebook(docs_json, render_items);\n",
       "\n",
       "  }\n",
       "  if (root.Bokeh !== undefined) {\n",
       "    embed_document(root);\n",
       "  } else {\n",
       "    var attempts = 0;\n",
       "    var timer = setInterval(function(root) {\n",
       "      if (root.Bokeh !== undefined) {\n",
       "        embed_document(root);\n",
       "        clearInterval(timer);\n",
       "      }\n",
       "      attempts++;\n",
       "      if (attempts > 100) {\n",
       "        console.log(\"Bokeh: ERROR: Unable to run BokehJS code because BokehJS library is missing\")\n",
       "        clearInterval(timer);\n",
       "      }\n",
       "    }, 10, root)\n",
       "  }\n",
       "})(window);"
      ],
      "application/vnd.bokehjs_exec.v0+json": ""
     },
     "metadata": {
      "application/vnd.bokehjs_exec.v0+json": {
       "id": "ac2be6db-5b5f-4c24-86fe-9234067e74bb"
      }
     },
     "output_type": "display_data"
    },
    {
     "data": {
      "text/markdown": [
       "*FIGURE.* Difference between CLIRAD and CRD in TOA, SFC and net atmosphere flux, in each spectral band."
      ],
      "text/plain": [
       "<IPython.core.display.Markdown object>"
      ]
     },
     "metadata": {},
     "output_type": "display_data"
    },
    {
     "data": {
      "text/html": [
       "<div>\n",
       "<style scoped>\n",
       "    .dataframe tbody tr th:only-of-type {\n",
       "        vertical-align: middle;\n",
       "    }\n",
       "\n",
       "    .dataframe tbody tr th {\n",
       "        vertical-align: top;\n",
       "    }\n",
       "\n",
       "    .dataframe thead th {\n",
       "        text-align: right;\n",
       "    }\n",
       "</style>\n",
       "<table border=\"1\" class=\"dataframe\">\n",
       "  <thead>\n",
       "    <tr style=\"text-align: right;\">\n",
       "      <th></th>\n",
       "      <th>OLR flux</th>\n",
       "      <th>SFC flux</th>\n",
       "      <th>ATM heating</th>\n",
       "    </tr>\n",
       "    <tr>\n",
       "      <th>Sum over bands</th>\n",
       "      <th></th>\n",
       "      <th></th>\n",
       "      <th></th>\n",
       "    </tr>\n",
       "  </thead>\n",
       "  <tbody>\n",
       "    <tr>\n",
       "      <th>old CLIRAD - CRD</th>\n",
       "      <td>0.14</td>\n",
       "      <td>2.01</td>\n",
       "      <td>-1.73</td>\n",
       "    </tr>\n",
       "    <tr>\n",
       "      <th>CLIRAD (single-run) - CRD</th>\n",
       "      <td>1.13</td>\n",
       "      <td>0.79</td>\n",
       "      <td>0.33</td>\n",
       "    </tr>\n",
       "    <tr>\n",
       "      <th>CRD</th>\n",
       "      <td>-290.39</td>\n",
       "      <td>308.14</td>\n",
       "      <td>-174.89</td>\n",
       "    </tr>\n",
       "  </tbody>\n",
       "</table>\n",
       "</div>"
      ],
      "text/plain": [
       "                           OLR flux  SFC flux  ATM heating\n",
       "Sum over bands                                            \n",
       "old CLIRAD - CRD               0.14      2.01        -1.73\n",
       "CLIRAD (single-run) - CRD      1.13      0.79         0.33\n",
       "CRD                         -290.39    308.14      -174.89"
      ]
     },
     "metadata": {},
     "output_type": "display_data"
    },
    {
     "data": {
      "text/markdown": [
       "*TABLE.* Difference between CLIRAD and CRD in TOA, SFC and net atmosphere flux, over all spectral bands. CRD's TOA, SFC and net atmosphere flux, over all spectral bands."
      ],
      "text/plain": [
       "<IPython.core.display.Markdown object>"
      ]
     },
     "metadata": {},
     "output_type": "display_data"
    },
    {
     "data": {
      "text/html": [
       "<a id=\"Cooling_rates._saw.\"></a>"
      ],
      "text/plain": [
       "<IPython.core.display.HTML object>"
      ]
     },
     "metadata": {},
     "output_type": "display_data"
    },
    {
     "data": {
      "text/markdown": [
       "# Cooling rates. saw."
      ],
      "text/plain": [
       "<IPython.core.display.Markdown object>"
      ]
     },
     "metadata": {},
     "output_type": "display_data"
    },
    {
     "data": {
      "text/html": [
       "\n",
       "<div class=\"bk-root\">\n",
       "    <div class=\"bk-plotdiv\" id=\"d97274fb-3e11-4694-8953-6a6d1147797c\"></div>\n",
       "</div>"
      ]
     },
     "metadata": {},
     "output_type": "display_data"
    },
    {
     "data": {
      "application/javascript": [
       "(function(root) {\n",
       "  function embed_document(root) {\n",
       "    \n",
       "  var docs_json = {\"1a2ce078-8449-4723-8b6b-16fdf00b079e\":{\"roots\":{\"references\":[{\"attributes\":{},\"id\":\"50b381c2-9ee6-4600-ada2-b4079d59af9e\",\"type\":\"Selection\"},{\"attributes\":{},\"id\":\"edfc368d-b94b-4fea-9ae4-7a73f37a19fd\",\"type\":\"Selection\"},{\"attributes\":{},\"id\":\"7be7a898-e075-4ba3-8a55-5d10a5fbb136\",\"type\":\"UnionRenderers\"},{\"attributes\":{\"axis_label\":\"pressure [mb]\",\"formatter\":{\"id\":\"1ec110de-ddec-44f9-8b04-5c637917bed6\",\"type\":\"LogTickFormatter\"},\"plot\":{\"id\":\"b776cec2-29c6-46b2-8558-4eced37dffb7\",\"subtype\":\"Figure\",\"type\":\"Plot\"},\"ticker\":{\"id\":\"f7968904-9d93-4568-8bfe-18b829a26fd7\",\"type\":\"LogTicker\"}},\"id\":\"192d1d14-7a5e-4e20-839d-ce78ef81f39d\",\"type\":\"LogAxis\"},{\"attributes\":{\"callback\":null,\"data\":{\"x\":{\"__ndarray__\":\"LVz7uCfeQ8ChGUaLJfYYwCMb75vopAPAb3fOabke8j9lWIgE9JsLQOXvyvkb2g9APnR7Fi/LBkCmSIIxVTrrPyu2iXaXmu2/L3WfIbFl+r+C9ZYDcxv0v8J+sAdRy9S/UH1/Rkeq4D8IzsLpVObuP4jqcTibAe0/eTvd8oYO2T+OQTCLDt7Qv5ji9BpoXuW/V0+3xBhy5b94Z7G7lXzav/6pSlfL38G/zBgKKJYesj/I1tW4gTDBP4Gg9xnb/bm/6OHFBmFwzb/Jlv56HxKhv/EZB1BwXNE/tDFGwmnx0T+dgz8RYjK8P0oF0SHPn6A/1zw/k0lFxD8Gy+tFFBfNP2i9183Z08A/N3gKDez1dr+ErhDxWg1oP7z6DbGqTLM/FGuCmYk5qD8ZDNtblLmYvzx7mOPoprO/Rm2hQwsHtr9zgNat/qeyv3TBkyPWuay/lNouayB+pb/vTOCOl1uavx4jDSfir5C/H1Be0ivxhb9YuwufkpI/v2KxTpOelHS/zMZedMBUm7+XBGrFTJ+qv1BpC30ogKq/qPfp7IHAor8ApUU9lFmjv/JYEpkYzKq/kHn7d8SRqr/cmaU2k1ylvxjD/zelpZ+/nlGD3JJLmL/E21bacaGTv/6RwjCw64m/2h/zxmcAhL/NgBME6nGBv9orU+u8T4S/oIG6YxpWhr8lZK/mZTWEv+Zn75KUCXq/gNkHHrReOb9kVHMMU5p/P9Y9Y3OW2Is/nkfL3Nfckj+u+BL/t1+WP0aldYMAE5g/U2koibtulz9Klct3jleXPw5pTN3dV5Y/\",\"dtype\":\"float64\",\"shape\":[75]},\"y\":{\"__ndarray__\":\"GhExyth1ND/Sv8nbtpRIP2vylNV0PVE/aTum7souWD/At0SJ8fVgPw3Iuahxymc/MSNhhJWvcD/bTfBN02d3P2zb5nxnaoA/CD5h5MAGhz8NmeH1TyaQP+zrCsc9p5Y/LbKd76fGnz/bLW5ISEmmPww9YvTcQq8/JV2OstnstT8Er5Y7M8G+P0c+r3jqkcU/5h99k6ZBzj88bCIzFzjVP4enV8oyxN0//yH99nXg5D8qOpLLf0jtP5kqGJXUifQ/c9cS8kHP/D+/DpwzojQEQIEmwoanVwxA4lgXt9HgE0BSSZ2AJuIbQAMJih9jjiNA5q4l5INuK0AwTKYKRj0zQNv5fmq8/DpAaCJseHrtQkB/+zpwzoxKQM3MzMzMeFJAZmZmZmZqWEAAAAAAAFxeQM3MzMzMJmJAmpmZmZkfZUBmZmZmZhhoQDMzMzMzEWtAAAAAAAAKbkBmZmZmZoFwQM3MzMzM/XFAMzMzMzN6c0CamZmZmfZ0QAAAAAAAc3ZAZmZmZmbvd0DNzMzMzGt5QDMzMzMz6HpAmpmZmZlkfEAAAAAAAOF9QGZmZmZmXX9AZmZmZuZsgECamZmZGSuBQM3MzMxM6YFAAAAAAICngkAzMzMzs2WDQGZmZmbmI4RAmpmZmRnihEDNzMzMTKCFQAAAAACAXoZAMzMzM7Mch0BmZmZm5tqHQJqZmZkZmYhAzczMzExXiUAAAAAAgBWKQDMzMzOz04pAZmZmZuaRi0CamZmZGVCMQM3MzMxMDo1AAAAAAIDMjUAzMzMzs4qOQGZmZmbmSI9A\",\"dtype\":\"float64\",\"shape\":[75]}},\"selected\":{\"id\":\"d34bc9c2-aa89-4897-9815-ff389153dd79\",\"type\":\"Selection\"},\"selection_policy\":{\"id\":\"ba987e58-9edf-4c04-b361-ff1f7088467c\",\"type\":\"UnionRenderers\"}},\"id\":\"c58ddeb5-b958-4fa6-a396-9c8f73e3e61c\",\"type\":\"ColumnDataSource\"},{\"attributes\":{\"data_source\":{\"id\":\"c58ddeb5-b958-4fa6-a396-9c8f73e3e61c\",\"type\":\"ColumnDataSource\"},\"glyph\":{\"id\":\"0169d2d3-0981-499e-b1ad-cf6dee64d1b7\",\"type\":\"Line\"},\"hover_glyph\":null,\"muted_glyph\":null,\"nonselection_glyph\":{\"id\":\"926f0913-1e14-4a74-9353-025551820302\",\"type\":\"Line\"},\"selection_glyph\":null,\"view\":{\"id\":\"4f1e9f3f-22d1-4bc0-a6ed-1001513f7af9\",\"type\":\"CDSView\"}},\"id\":\"9a89237d-6ddf-4abe-a0d5-aa75e56f03ff\",\"type\":\"GlyphRenderer\"},{\"attributes\":{\"dimension\":1,\"plot\":{\"id\":\"b776cec2-29c6-46b2-8558-4eced37dffb7\",\"subtype\":\"Figure\",\"type\":\"Plot\"},\"ticker\":{\"id\":\"f7968904-9d93-4568-8bfe-18b829a26fd7\",\"type\":\"LogTicker\"}},\"id\":\"ffbd6d14-3150-47df-bc5e-6f5c3cb69459\",\"type\":\"Grid\"},{\"attributes\":{},\"id\":\"61691e5a-a11c-4141-842b-b9dee647b5f0\",\"type\":\"UnionRenderers\"},{\"attributes\":{\"line_alpha\":0.1,\"line_color\":\"#1f77b4\",\"line_width\":1.5,\"x\":{\"field\":\"x\"},\"y\":{\"field\":\"y\"}},\"id\":\"926f0913-1e14-4a74-9353-025551820302\",\"type\":\"Line\"},{\"attributes\":{\"source\":{\"id\":\"792b0a1d-41a2-4fe4-a939-87591cf66260\",\"type\":\"ColumnDataSource\"}},\"id\":\"30c474a6-1dc2-4367-a53a-6e6ab3e6272c\",\"type\":\"CDSView\"},{\"attributes\":{},\"id\":\"cf39cc91-160d-4efb-87c0-d3b5210309a1\",\"type\":\"ResetTool\"},{\"attributes\":{},\"id\":\"0cb4ca28-8efa-4ce5-b0f6-f1e79c38836b\",\"type\":\"BasicTicker\"},{\"attributes\":{\"fill_alpha\":{\"value\":0.1},\"fill_color\":{\"value\":\"#1f77b4\"},\"line_alpha\":{\"value\":0.1},\"line_color\":{\"value\":\"#1f77b4\"},\"x\":{\"field\":\"x\"},\"y\":{\"field\":\"y\"}},\"id\":\"5c72717b-b397-4d93-9e06-56798ef04ce0\",\"type\":\"Circle\"},{\"attributes\":{},\"id\":\"0ca4cf3c-4ac1-43e7-9710-f6002064878c\",\"type\":\"ResetTool\"},{\"attributes\":{},\"id\":\"7c2775f2-238f-45d5-8f24-141ccda0d563\",\"type\":\"BasicTickFormatter\"},{\"attributes\":{},\"id\":\"4b1c3548-d6a4-471f-b371-fd25c91fb7e2\",\"type\":\"HelpTool\"},{\"attributes\":{\"data_source\":{\"id\":\"37e20a7a-eba2-455c-a282-b335b451bcd6\",\"type\":\"ColumnDataSource\"},\"glyph\":{\"id\":\"ce3e855d-95fc-43c4-a7c0-834fec03576b\",\"type\":\"Circle\"},\"hover_glyph\":null,\"muted_glyph\":null,\"nonselection_glyph\":{\"id\":\"5c72717b-b397-4d93-9e06-56798ef04ce0\",\"type\":\"Circle\"},\"selection_glyph\":null,\"view\":{\"id\":\"cf7717c8-dfd2-4f1a-a3a0-7604c014bec4\",\"type\":\"CDSView\"}},\"id\":\"10bea3e9-5e70-4633-9b10-e648b095b2df\",\"type\":\"GlyphRenderer\"},{\"attributes\":{\"callback\":null,\"data\":{\"x\":{\"__ndarray__\":\"dPEGK8OVQEDeoOdcKI48QFbHwpv6Wj5Ay6P+H0H1PkDQ4Pw1Pwc+QE/QQMz8iTtA2A4AykzZN0DdjedX4NEzQGtNrhl/gDBA2D3w2wNCLUCD8yO1LFEsQMSh3yrZ2SxAddHY/lW3LUCQJQyh8TwtQDsZ7GODoSpAi6Dn/2tIJ0DnDLMq6HUkQI7khOlE0SJADOiE4G6jIkCA/E90r7ojQD4p//OgKSZA0QfX6dGqJUCyytltEichQGghgfXIYRlAYiDp91xnE0B2wNHWtrQPQJ4m9qB2vgpAeJDQ8VfQBUDZ0VLI7iYCQFfZT3TydP8/LweR0IUK/T/QULeHxNj4P2vv6z6eL/Q/zgHEDC0f8T/QFWBxKcbuP44Jru1pXOw/gHqFfZV+5z+OfasQZCrhP6t1AyXK0t0/lna9be4v3T/c2Wqej6reP35gz5e/Ud4/nMqPj0zn3D8LaSXAL2PaPwxLIAIe8tI/ycIIktEE0T/QBmDBekPcP1FO88ASwOM/Iq2sIt+z6z9G6FH1eCvyPxuVEdtBb/U/iGRHMeCT9z8UPT1a/HH4P34cIRzqbvg/BVL+/E89+D8UZw90MO/3Pxe6cKnMffc/gpFKgkbl9j+HrQkEYjP2P3zN2LsygPU/XbOBIde49D8Mb12IkenzP3WIqqFOEvM/areay8ZI8j+L6oiWEKHxPzKOAUHPLvE/uT5D5rAN8T9sYOhno1DxP+7HZ16AqPE/jCnpRRNe8T/L5uQkGIfvP9VKN758h+o/8f1zKreS5T9uCZ6e1UPhP0M/OoB87NY/\",\"dtype\":\"float64\",\"shape\":[75]},\"y\":{\"__ndarray__\":\"GhExyth1ND/Sv8nbtpRIP2vylNV0PVE/aTum7souWD/At0SJ8fVgPw3Iuahxymc/MSNhhJWvcD/bTfBN02d3P2zb5nxnaoA/CD5h5MAGhz8NmeH1TyaQP+zrCsc9p5Y/LbKd76fGnz/bLW5ISEmmPww9YvTcQq8/JV2OstnstT8Er5Y7M8G+P0c+r3jqkcU/5h99k6ZBzj88bCIzFzjVP4enV8oyxN0//yH99nXg5D8qOpLLf0jtP5kqGJXUifQ/c9cS8kHP/D+/DpwzojQEQIEmwoanVwxA4lgXt9HgE0BSSZ2AJuIbQAMJih9jjiNA5q4l5INuK0AwTKYKRj0zQNv5fmq8/DpAaCJseHrtQkB/+zpwzoxKQM3MzMzMeFJAZmZmZmZqWEAAAAAAAFxeQM3MzMzMJmJAmpmZmZkfZUBmZmZmZhhoQDMzMzMzEWtAAAAAAAAKbkBmZmZmZoFwQM3MzMzM/XFAMzMzMzN6c0CamZmZmfZ0QAAAAAAAc3ZAZmZmZmbvd0DNzMzMzGt5QDMzMzMz6HpAmpmZmZlkfEAAAAAAAOF9QGZmZmZmXX9AZmZmZuZsgECamZmZGSuBQM3MzMxM6YFAAAAAAICngkAzMzMzs2WDQGZmZmbmI4RAmpmZmRnihEDNzMzMTKCFQAAAAACAXoZAMzMzM7Mch0BmZmZm5tqHQJqZmZkZmYhAzczMzExXiUAAAAAAgBWKQDMzMzOz04pAZmZmZuaRi0CamZmZGVCMQM3MzMxMDo1AAAAAAIDMjUAzMzMzs4qOQGZmZmbmSI9A\",\"dtype\":\"float64\",\"shape\":[75]}},\"selected\":{\"id\":\"50b381c2-9ee6-4600-ada2-b4079d59af9e\",\"type\":\"Selection\"},\"selection_policy\":{\"id\":\"fc79e058-98c0-4848-bce7-5b317d706315\",\"type\":\"UnionRenderers\"}},\"id\":\"ed0f7c2e-1ecb-439a-8c94-eccdb85165a2\",\"type\":\"ColumnDataSource\"},{\"attributes\":{\"callback\":null,\"end\":0.01,\"start\":1020},\"id\":\"ce2d9c99-5b5d-4b2a-bd4d-36f8beefe9b1\",\"type\":\"Range1d\"},{\"attributes\":{},\"id\":\"427f2762-a562-41d1-8bc1-7a4d0796605e\",\"type\":\"UnionRenderers\"},{\"attributes\":{},\"id\":\"22f0160d-be36-4433-810d-8c4e58e0efc1\",\"type\":\"HelpTool\"},{\"attributes\":{\"children\":[{\"id\":\"f0deff42-2fad-4886-ae3a-7e76cf7c38b5\",\"type\":\"Row\"}]},\"id\":\"39bcb722-421b-4359-95e3-5e1d8179350f\",\"type\":\"Column\"},{\"attributes\":{\"plot\":{\"id\":\"b776cec2-29c6-46b2-8558-4eced37dffb7\",\"subtype\":\"Figure\",\"type\":\"Plot\"},\"ticker\":{\"id\":\"0cb4ca28-8efa-4ce5-b0f6-f1e79c38836b\",\"type\":\"BasicTicker\"}},\"id\":\"ebb4d2c3-0fd7-45a5-89a0-5fdc1f70781f\",\"type\":\"Grid\"},{\"attributes\":{},\"id\":\"deacb941-130a-4e08-a653-b760dc548e33\",\"type\":\"UnionRenderers\"},{\"attributes\":{\"children\":[{\"id\":\"ebd58ba2-1f76-4803-be36-47ea1c17abeb\",\"subtype\":\"Figure\",\"type\":\"Plot\"},{\"id\":\"b776cec2-29c6-46b2-8558-4eced37dffb7\",\"subtype\":\"Figure\",\"type\":\"Plot\"},{\"id\":\"dc0dd6fc-5c88-4a9b-abed-836babdb70d6\",\"subtype\":\"Figure\",\"type\":\"Plot\"}]},\"id\":\"f0deff42-2fad-4886-ae3a-7e76cf7c38b5\",\"type\":\"Row\"},{\"attributes\":{},\"id\":\"4b26481c-d03d-4898-b7a9-27aae2787006\",\"type\":\"PanTool\"},{\"attributes\":{\"callback\":null,\"end\":0.01,\"start\":1020},\"id\":\"a0c2debf-1b2b-4c3a-b1e3-83befb9f54d9\",\"type\":\"Range1d\"},{\"attributes\":{\"overlay\":{\"id\":\"addefc41-529f-4012-9c4c-96313ab3518e\",\"type\":\"BoxAnnotation\"}},\"id\":\"0d278819-b40f-4e51-b3e5-b4010b1756f9\",\"type\":\"BoxZoomTool\"},{\"attributes\":{\"plot\":null,\"text\":\"\"},\"id\":\"de218c59-db09-4c2e-8ec6-d1577af8035c\",\"type\":\"Title\"},{\"attributes\":{\"bottom_units\":\"screen\",\"fill_alpha\":{\"value\":0.5},\"fill_color\":{\"value\":\"lightgrey\"},\"left_units\":\"screen\",\"level\":\"overlay\",\"line_alpha\":{\"value\":1.0},\"line_color\":{\"value\":\"black\"},\"line_dash\":[4,4],\"line_width\":{\"value\":2},\"plot\":null,\"render_mode\":\"css\",\"right_units\":\"screen\",\"top_units\":\"screen\"},\"id\":\"1f00155a-c81a-4457-af16-3628b06d1e40\",\"type\":\"BoxAnnotation\"},{\"attributes\":{},\"id\":\"67b17d88-d748-4c95-8add-85c0af9c2276\",\"type\":\"Selection\"},{\"attributes\":{},\"id\":\"81fade6a-0ba0-4314-9040-02ab053f2150\",\"type\":\"SaveTool\"},{\"attributes\":{},\"id\":\"b7f072d0-a992-4108-b367-fa6426d0b2a6\",\"type\":\"BasicTickFormatter\"},{\"attributes\":{},\"id\":\"cb4647fc-9057-4b8c-ba85-446ae3dd9058\",\"type\":\"Selection\"},{\"attributes\":{\"overlay\":{\"id\":\"1f00155a-c81a-4457-af16-3628b06d1e40\",\"type\":\"BoxAnnotation\"}},\"id\":\"b08859c8-fd1b-452f-892a-30b4ea73e0c7\",\"type\":\"BoxZoomTool\"},{\"attributes\":{\"plot\":null,\"text\":\"\"},\"id\":\"b4e8aa84-a11d-471e-a5fb-94832c6da91f\",\"type\":\"Title\"},{\"attributes\":{\"source\":{\"id\":\"37e20a7a-eba2-455c-a282-b335b451bcd6\",\"type\":\"ColumnDataSource\"}},\"id\":\"cf7717c8-dfd2-4f1a-a3a0-7604c014bec4\",\"type\":\"CDSView\"},{\"attributes\":{},\"id\":\"29b0de3f-596f-4660-9c9c-d2134785f316\",\"type\":\"BasicTickFormatter\"},{\"attributes\":{\"num_minor_ticks\":10},\"id\":\"f7968904-9d93-4568-8bfe-18b829a26fd7\",\"type\":\"LogTicker\"},{\"attributes\":{\"ticker\":null},\"id\":\"1ec110de-ddec-44f9-8b04-5c637917bed6\",\"type\":\"LogTickFormatter\"},{\"attributes\":{},\"id\":\"4bacc0db-b8cb-41c2-8230-2b16425828cc\",\"type\":\"SaveTool\"},{\"attributes\":{\"label\":{\"value\":\"CLIRAD (single-run) - CRD\"},\"renderers\":[{\"id\":\"10bea3e9-5e70-4633-9b10-e648b095b2df\",\"type\":\"GlyphRenderer\"},{\"id\":\"9a89237d-6ddf-4abe-a0d5-aa75e56f03ff\",\"type\":\"GlyphRenderer\"}]},\"id\":\"fce73a5a-304a-4a4b-8338-c86a877f13d1\",\"type\":\"LegendItem\"},{\"attributes\":{\"bottom_units\":\"screen\",\"fill_alpha\":{\"value\":0.5},\"fill_color\":{\"value\":\"lightgrey\"},\"left_units\":\"screen\",\"level\":\"overlay\",\"line_alpha\":{\"value\":1.0},\"line_color\":{\"value\":\"black\"},\"line_dash\":[4,4],\"line_width\":{\"value\":2},\"plot\":null,\"render_mode\":\"css\",\"right_units\":\"screen\",\"top_units\":\"screen\"},\"id\":\"addefc41-529f-4012-9c4c-96313ab3518e\",\"type\":\"BoxAnnotation\"},{\"attributes\":{\"line_alpha\":0.8,\"line_color\":\"#984ea3\",\"line_width\":1.5,\"x\":{\"field\":\"x\"},\"y\":{\"field\":\"y\"}},\"id\":\"0169d2d3-0981-499e-b1ad-cf6dee64d1b7\",\"type\":\"Line\"},{\"attributes\":{},\"id\":\"64d2a0bf-7fda-4856-ae16-6863df50b491\",\"type\":\"Selection\"},{\"attributes\":{},\"id\":\"26bee141-226c-4913-aef4-175c0858f354\",\"type\":\"WheelZoomTool\"},{\"attributes\":{},\"id\":\"bcfcbcaf-d3fb-430a-af57-b8fd100f4dee\",\"type\":\"Selection\"},{\"attributes\":{\"fill_alpha\":{\"value\":0.7},\"fill_color\":{\"value\":\"#984ea3\"},\"line_alpha\":{\"value\":0.7},\"line_color\":{\"value\":\"#984ea3\"},\"x\":{\"field\":\"x\"},\"y\":{\"field\":\"y\"}},\"id\":\"ce3e855d-95fc-43c4-a7c0-834fec03576b\",\"type\":\"Circle\"},{\"attributes\":{\"source\":{\"id\":\"c58ddeb5-b958-4fa6-a396-9c8f73e3e61c\",\"type\":\"ColumnDataSource\"}},\"id\":\"4f1e9f3f-22d1-4bc0-a6ed-1001513f7af9\",\"type\":\"CDSView\"},{\"attributes\":{\"callback\":null,\"end\":0.01,\"start\":1020},\"id\":\"6ff04dff-f9a3-4edc-aebd-6062c6536744\",\"type\":\"Range1d\"},{\"attributes\":{\"axis_label\":\"cooling rate [K/day]\",\"formatter\":{\"id\":\"e89c7669-6694-4b08-a3a2-de49ab5e233c\",\"type\":\"BasicTickFormatter\"},\"plot\":{\"id\":\"dc0dd6fc-5c88-4a9b-abed-836babdb70d6\",\"subtype\":\"Figure\",\"type\":\"Plot\"},\"ticker\":{\"id\":\"b1de2568-0a4c-47d0-a565-57d05ab45733\",\"type\":\"BasicTicker\"}},\"id\":\"a9e388e1-c439-4a74-9922-4af9c81d8171\",\"type\":\"LinearAxis\"},{\"attributes\":{\"line_alpha\":0.1,\"line_color\":\"#1f77b4\",\"line_width\":1.5,\"x\":{\"field\":\"x\"},\"y\":{\"field\":\"y\"}},\"id\":\"103e0ebf-011b-473f-91e5-cb094f138dd6\",\"type\":\"Line\"},{\"attributes\":{\"ticker\":null},\"id\":\"be9bdcf1-7d57-4683-849a-ad8968ca72fe\",\"type\":\"LogTickFormatter\"},{\"attributes\":{},\"id\":\"fafd7382-442f-476d-a11a-282d7cd42148\",\"type\":\"LogScale\"},{\"attributes\":{\"label\":{\"value\":\"CRD\"},\"renderers\":[{\"id\":\"41af6f43-0f19-46af-a57c-7c6dbb560eac\",\"type\":\"GlyphRenderer\"},{\"id\":\"de728de6-db9e-472d-bfbd-133dabc20551\",\"type\":\"GlyphRenderer\"}]},\"id\":\"4178f1a6-997c-48ab-a8c8-0b8fd4752d8a\",\"type\":\"LegendItem\"},{\"attributes\":{},\"id\":\"ba987e58-9edf-4c04-b361-ff1f7088467c\",\"type\":\"UnionRenderers\"},{\"attributes\":{\"children\":[{\"id\":\"e3216245-9649-4ec6-8ea9-564f705abad2\",\"type\":\"ToolbarBox\"},{\"id\":\"39bcb722-421b-4359-95e3-5e1d8179350f\",\"type\":\"Column\"}]},\"id\":\"6dd716d6-93ee-42e9-9842-fdde6826a3bf\",\"type\":\"Column\"},{\"attributes\":{\"active_drag\":\"auto\",\"active_inspect\":\"auto\",\"active_scroll\":\"auto\",\"active_tap\":\"auto\",\"tools\":[{\"id\":\"4b26481c-d03d-4898-b7a9-27aae2787006\",\"type\":\"PanTool\"},{\"id\":\"26bee141-226c-4913-aef4-175c0858f354\",\"type\":\"WheelZoomTool\"},{\"id\":\"b08859c8-fd1b-452f-892a-30b4ea73e0c7\",\"type\":\"BoxZoomTool\"},{\"id\":\"81fade6a-0ba0-4314-9040-02ab053f2150\",\"type\":\"SaveTool\"},{\"id\":\"0ca4cf3c-4ac1-43e7-9710-f6002064878c\",\"type\":\"ResetTool\"},{\"id\":\"4b1c3548-d6a4-471f-b371-fd25c91fb7e2\",\"type\":\"HelpTool\"}]},\"id\":\"ed2ec8d1-79f4-41d9-8fb0-7edc68c98ba4\",\"type\":\"Toolbar\"},{\"attributes\":{\"above\":[{\"id\":\"29c65f7b-78cb-47c9-807a-6837f86e45e8\",\"type\":\"Legend\"}],\"below\":[{\"id\":\"660f2fa7-e623-46f7-b4c0-77f3a31a6cf7\",\"type\":\"LinearAxis\"}],\"left\":[{\"id\":\"192d1d14-7a5e-4e20-839d-ce78ef81f39d\",\"type\":\"LogAxis\"}],\"plot_width\":300,\"renderers\":[{\"id\":\"660f2fa7-e623-46f7-b4c0-77f3a31a6cf7\",\"type\":\"LinearAxis\"},{\"id\":\"ebb4d2c3-0fd7-45a5-89a0-5fdc1f70781f\",\"type\":\"Grid\"},{\"id\":\"192d1d14-7a5e-4e20-839d-ce78ef81f39d\",\"type\":\"LogAxis\"},{\"id\":\"ffbd6d14-3150-47df-bc5e-6f5c3cb69459\",\"type\":\"Grid\"},{\"id\":\"1f00155a-c81a-4457-af16-3628b06d1e40\",\"type\":\"BoxAnnotation\"},{\"id\":\"c0637832-0a44-48d5-8b86-2ddb3b4e142d\",\"type\":\"GlyphRenderer\"},{\"id\":\"41af6f43-0f19-46af-a57c-7c6dbb560eac\",\"type\":\"GlyphRenderer\"},{\"id\":\"de728de6-db9e-472d-bfbd-133dabc20551\",\"type\":\"GlyphRenderer\"},{\"id\":\"29c65f7b-78cb-47c9-807a-6837f86e45e8\",\"type\":\"Legend\"}],\"title\":{\"id\":\"de218c59-db09-4c2e-8ec6-d1577af8035c\",\"type\":\"Title\"},\"toolbar\":{\"id\":\"ed2ec8d1-79f4-41d9-8fb0-7edc68c98ba4\",\"type\":\"Toolbar\"},\"toolbar_location\":null,\"x_range\":{\"id\":\"5ff3dcf4-bdd9-4f20-85e8-8142fc7a1265\",\"type\":\"Range1d\"},\"x_scale\":{\"id\":\"98f06843-7756-41d9-b6dd-99ad30f43037\",\"type\":\"LinearScale\"},\"y_range\":{\"id\":\"ce2d9c99-5b5d-4b2a-bd4d-36f8beefe9b1\",\"type\":\"Range1d\"},\"y_scale\":{\"id\":\"5fa3e567-b81f-4aa9-a1dc-6c1f8954911c\",\"type\":\"LogScale\"}},\"id\":\"b776cec2-29c6-46b2-8558-4eced37dffb7\",\"subtype\":\"Figure\",\"type\":\"Plot\"},{\"attributes\":{\"line_alpha\":0.6,\"line_color\":\"#377eb8\",\"line_dash\":[6],\"line_width\":5,\"x\":{\"field\":\"x\"},\"y\":{\"field\":\"y\"}},\"id\":\"c6251487-e8f6-4a35-a92e-cba761e2c86a\",\"type\":\"Line\"},{\"attributes\":{\"fill_alpha\":{\"value\":0.7},\"fill_color\":{\"value\":\"#4daf4a\"},\"line_alpha\":{\"value\":0.7},\"line_color\":{\"value\":\"#4daf4a\"},\"x\":{\"field\":\"x\"},\"y\":{\"field\":\"y\"}},\"id\":\"83ebb560-b22c-47d9-a01b-1b4c9fbdc5a1\",\"type\":\"Circle\"},{\"attributes\":{\"items\":[{\"id\":\"fce73a5a-304a-4a4b-8338-c86a877f13d1\",\"type\":\"LegendItem\"}],\"label_text_font_size\":{\"value\":\"8pt\"},\"location\":\"top_center\",\"orientation\":\"horizontal\",\"plot\":{\"id\":\"dc0dd6fc-5c88-4a9b-abed-836babdb70d6\",\"subtype\":\"Figure\",\"type\":\"Plot\"}},\"id\":\"afe1cab6-1558-4052-b97e-2f3e814d02fd\",\"type\":\"Legend\"},{\"attributes\":{\"callback\":null,\"data\":{\"x\":{\"__ndarray__\":\"dPEGK8OVQEDeoOdcKI48QFbHwpv6Wj5Ay6P+H0H1PkDQ4Pw1Pwc+QE/QQMz8iTtA2A4AykzZN0DdjedX4NEzQGtNrhl/gDBA2D3w2wNCLUCD8yO1LFEsQMSh3yrZ2SxAddHY/lW3LUCQJQyh8TwtQDsZ7GODoSpAi6Dn/2tIJ0DnDLMq6HUkQI7khOlE0SJADOiE4G6jIkCA/E90r7ojQD4p//OgKSZA0QfX6dGqJUCyytltEichQGghgfXIYRlAYiDp91xnE0B2wNHWtrQPQJ4m9qB2vgpAeJDQ8VfQBUDZ0VLI7iYCQFfZT3TydP8/LweR0IUK/T/QULeHxNj4P2vv6z6eL/Q/zgHEDC0f8T/QFWBxKcbuP44Jru1pXOw/gHqFfZV+5z+OfasQZCrhP6t1AyXK0t0/lna9be4v3T/c2Wqej6reP35gz5e/Ud4/nMqPj0zn3D8LaSXAL2PaPwxLIAIe8tI/ycIIktEE0T/QBmDBekPcP1FO88ASwOM/Iq2sIt+z6z9G6FH1eCvyPxuVEdtBb/U/iGRHMeCT9z8UPT1a/HH4P34cIRzqbvg/BVL+/E89+D8UZw90MO/3Pxe6cKnMffc/gpFKgkbl9j+HrQkEYjP2P3zN2LsygPU/XbOBIde49D8Mb12IkenzP3WIqqFOEvM/areay8ZI8j+L6oiWEKHxPzKOAUHPLvE/uT5D5rAN8T9sYOhno1DxP+7HZ16AqPE/jCnpRRNe8T/L5uQkGIfvP9VKN758h+o/8f1zKreS5T9uCZ6e1UPhP0M/OoB87NY/\",\"dtype\":\"float64\",\"shape\":[75]},\"y\":{\"__ndarray__\":\"GhExyth1ND/Sv8nbtpRIP2vylNV0PVE/aTum7souWD/At0SJ8fVgPw3Iuahxymc/MSNhhJWvcD/bTfBN02d3P2zb5nxnaoA/CD5h5MAGhz8NmeH1TyaQP+zrCsc9p5Y/LbKd76fGnz/bLW5ISEmmPww9YvTcQq8/JV2OstnstT8Er5Y7M8G+P0c+r3jqkcU/5h99k6ZBzj88bCIzFzjVP4enV8oyxN0//yH99nXg5D8qOpLLf0jtP5kqGJXUifQ/c9cS8kHP/D+/DpwzojQEQIEmwoanVwxA4lgXt9HgE0BSSZ2AJuIbQAMJih9jjiNA5q4l5INuK0AwTKYKRj0zQNv5fmq8/DpAaCJseHrtQkB/+zpwzoxKQM3MzMzMeFJAZmZmZmZqWEAAAAAAAFxeQM3MzMzMJmJAmpmZmZkfZUBmZmZmZhhoQDMzMzMzEWtAAAAAAAAKbkBmZmZmZoFwQM3MzMzM/XFAMzMzMzN6c0CamZmZmfZ0QAAAAAAAc3ZAZmZmZmbvd0DNzMzMzGt5QDMzMzMz6HpAmpmZmZlkfEAAAAAAAOF9QGZmZmZmXX9AZmZmZuZsgECamZmZGSuBQM3MzMxM6YFAAAAAAICngkAzMzMzs2WDQGZmZmbmI4RAmpmZmRnihEDNzMzMTKCFQAAAAACAXoZAMzMzM7Mch0BmZmZm5tqHQJqZmZkZmYhAzczMzExXiUAAAAAAgBWKQDMzMzOz04pAZmZmZuaRi0CamZmZGVCMQM3MzMxMDo1AAAAAAIDMjUAzMzMzs4qOQGZmZmbmSI9A\",\"dtype\":\"float64\",\"shape\":[75]}},\"selected\":{\"id\":\"67b17d88-d748-4c95-8add-85c0af9c2276\",\"type\":\"Selection\"},\"selection_policy\":{\"id\":\"427f2762-a562-41d1-8bc1-7a4d0796605e\",\"type\":\"UnionRenderers\"}},\"id\":\"d50dd75d-3967-409e-bf43-15f0423958fa\",\"type\":\"ColumnDataSource\"},{\"attributes\":{\"line_color\":\"#4daf4a\",\"line_width\":1.5,\"x\":{\"field\":\"x\"},\"y\":{\"field\":\"y\"}},\"id\":\"0814b28f-e505-4fb4-906f-cbd2702a1acd\",\"type\":\"Line\"},{\"attributes\":{},\"id\":\"e89c7669-6694-4b08-a3a2-de49ab5e233c\",\"type\":\"BasicTickFormatter\"},{\"attributes\":{\"plot\":null,\"text\":\"\"},\"id\":\"f5edf380-f457-43af-890d-406272580474\",\"type\":\"Title\"},{\"attributes\":{},\"id\":\"6bc5e90d-b2b3-4ce7-8850-79ff4bd77415\",\"type\":\"PanTool\"},{\"attributes\":{\"toolbar\":{\"id\":\"a33b0581-6144-4f5b-881b-e621a004b5b7\",\"type\":\"ProxyToolbar\"},\"toolbar_location\":\"above\"},\"id\":\"e3216245-9649-4ec6-8ea9-564f705abad2\",\"type\":\"ToolbarBox\"},{\"attributes\":{\"items\":[{\"id\":\"9ee57046-55b0-45e2-9a28-fc58ef8a8c66\",\"type\":\"LegendItem\"},{\"id\":\"4178f1a6-997c-48ab-a8c8-0b8fd4752d8a\",\"type\":\"LegendItem\"}],\"label_text_font_size\":{\"value\":\"8pt\"},\"location\":\"top_center\",\"orientation\":\"horizontal\",\"plot\":{\"id\":\"b776cec2-29c6-46b2-8558-4eced37dffb7\",\"subtype\":\"Figure\",\"type\":\"Plot\"}},\"id\":\"29c65f7b-78cb-47c9-807a-6837f86e45e8\",\"type\":\"Legend\"},{\"attributes\":{\"source\":{\"id\":\"ed0f7c2e-1ecb-439a-8c94-eccdb85165a2\",\"type\":\"ColumnDataSource\"}},\"id\":\"dea2cf98-2f48-4678-8efa-0c2a5e2a9815\",\"type\":\"CDSView\"},{\"attributes\":{\"callback\":null,\"data\":{\"x\":{\"__ndarray__\":\"0CYBcvU5UkCik9zf2GVBQF1VoNfLZ0BAVLxhiVXTPUDD1Wu1wJM6QFJyB025jjdAU6Aw5+b/NECYe1uuDfgyQB6bYtVTbTFAPxYSAF1HMEA00pYVm9QuQLolHbMzgC1AntlwirGsLECv+G9SjE4rQJH6ZLBp0ShAsLZQyPd/JkDyjgyf2PwkQLgyNGsrJyRAA13QbJD6I0C8hy0ilI4kQOVTXCEgcSZAovOGvZSGJUBVc/ZmUOIgQOf/6GHAyRlAcE8fAOBSFEDRur1U//gPQGFD9ZbokghAQsqHuSqSA0C91ci3W0UBQCtRQfvz7/4/kh8pntyB+j9t1/n+4TX1P773MAUjFfI/RgzR+CI28T8hBW8WHK7uPzVKjJfU8uk/0FPt4/z65T/wVYqzMPDhPz7K9C5CXuE/8+hSn9hY4T/9PPCkR6rhP1XsIC599OA/66X1nBCX3z/YbRM56QjcPz4dkSQc/dM/S7Wb8Fq00T+/yQdmX0vcP7TrGf476eM/WqNPJoWO7D9qOH1bcwDzP2bw+R5DQ/Y/RLSuQOQp+D8+aif8yAz5P0Wv6eBKRfk/0i2+IN4R+T/ik8QNFZr4PyS5UD5j/Pc/yJ68zXRG9z/2CHPL54H2P59SOhwKtPU/npkP8dfg9D8NlmVcdQz0P80ugRvuOvM/byxiAHN18j9USVZie8nxP5l9lNXYSPE/OB+F0UYP8T8Y7dsUCTHxP3EBgTHPcPE/bfx15p8S8T8FT+xkGtTuP6mdG7rkxuk/pboqTkHX5D/CrN8qGYngP7R4ZaL+htU/\",\"dtype\":\"float64\",\"shape\":[75]},\"y\":{\"__ndarray__\":\"GhExyth1ND/Sv8nbtpRIP2vylNV0PVE/aTum7souWD/At0SJ8fVgPw3Iuahxymc/MSNhhJWvcD/bTfBN02d3P2zb5nxnaoA/CD5h5MAGhz8NmeH1TyaQP+zrCsc9p5Y/LbKd76fGnz/bLW5ISEmmPww9YvTcQq8/JV2OstnstT8Er5Y7M8G+P0c+r3jqkcU/5h99k6ZBzj88bCIzFzjVP4enV8oyxN0//yH99nXg5D8qOpLLf0jtP5kqGJXUifQ/c9cS8kHP/D+/DpwzojQEQIEmwoanVwxA4lgXt9HgE0BSSZ2AJuIbQAMJih9jjiNA5q4l5INuK0AwTKYKRj0zQNv5fmq8/DpAaCJseHrtQkB/+zpwzoxKQM3MzMzMeFJAZmZmZmZqWEAAAAAAAFxeQM3MzMzMJmJAmpmZmZkfZUBmZmZmZhhoQDMzMzMzEWtAAAAAAAAKbkBmZmZmZoFwQM3MzMzM/XFAMzMzMzN6c0CamZmZmfZ0QAAAAAAAc3ZAZmZmZmbvd0DNzMzMzGt5QDMzMzMz6HpAmpmZmZlkfEAAAAAAAOF9QGZmZmZmXX9AZmZmZuZsgECamZmZGSuBQM3MzMxM6YFAAAAAAICngkAzMzMzs2WDQGZmZmbmI4RAmpmZmRnihEDNzMzMTKCFQAAAAACAXoZAMzMzM7Mch0BmZmZm5tqHQJqZmZkZmYhAzczMzExXiUAAAAAAgBWKQDMzMzOz04pAZmZmZuaRi0CamZmZGVCMQM3MzMxMDo1AAAAAAIDMjUAzMzMzs4qOQGZmZmbmSI9A\",\"dtype\":\"float64\",\"shape\":[75]}},\"selected\":{\"id\":\"bcfcbcaf-d3fb-430a-af57-b8fd100f4dee\",\"type\":\"Selection\"},\"selection_policy\":{\"id\":\"deacb941-130a-4e08-a653-b760dc548e33\",\"type\":\"UnionRenderers\"}},\"id\":\"7ecd8611-3764-446d-ac1e-4184fc7ad9fe\",\"type\":\"ColumnDataSource\"},{\"attributes\":{\"data_source\":{\"id\":\"7ecd8611-3764-446d-ac1e-4184fc7ad9fe\",\"type\":\"ColumnDataSource\"},\"glyph\":{\"id\":\"83ebb560-b22c-47d9-a01b-1b4c9fbdc5a1\",\"type\":\"Circle\"},\"hover_glyph\":null,\"muted_glyph\":null,\"nonselection_glyph\":{\"id\":\"2b1f5657-fe93-4791-b66d-5ee7893addde\",\"type\":\"Circle\"},\"selection_glyph\":null,\"view\":{\"id\":\"ea2d64cd-6c57-4c90-b4ce-43b8acbb7a4e\",\"type\":\"CDSView\"}},\"id\":\"41af6f43-0f19-46af-a57c-7c6dbb560eac\",\"type\":\"GlyphRenderer\"},{\"attributes\":{\"tools\":[{\"id\":\"a3f33f4d-dc52-4fa8-b307-2db40a65f553\",\"type\":\"PanTool\"},{\"id\":\"f62464ff-d77b-4291-b096-bc7f7c7b664d\",\"type\":\"WheelZoomTool\"},{\"id\":\"91ffdf0a-2f04-4674-a159-4d4f9653ebf9\",\"type\":\"BoxZoomTool\"},{\"id\":\"a8bd0812-b024-4a54-8cb3-0d94cc7c1e75\",\"type\":\"SaveTool\"},{\"id\":\"b28bfb9b-9806-4822-a964-81fbcb89e0b1\",\"type\":\"ResetTool\"},{\"id\":\"8c994e4d-cf1f-4f03-b157-bc448d2556e3\",\"type\":\"HelpTool\"},{\"id\":\"4b26481c-d03d-4898-b7a9-27aae2787006\",\"type\":\"PanTool\"},{\"id\":\"26bee141-226c-4913-aef4-175c0858f354\",\"type\":\"WheelZoomTool\"},{\"id\":\"b08859c8-fd1b-452f-892a-30b4ea73e0c7\",\"type\":\"BoxZoomTool\"},{\"id\":\"81fade6a-0ba0-4314-9040-02ab053f2150\",\"type\":\"SaveTool\"},{\"id\":\"0ca4cf3c-4ac1-43e7-9710-f6002064878c\",\"type\":\"ResetTool\"},{\"id\":\"4b1c3548-d6a4-471f-b371-fd25c91fb7e2\",\"type\":\"HelpTool\"},{\"id\":\"6bc5e90d-b2b3-4ce7-8850-79ff4bd77415\",\"type\":\"PanTool\"},{\"id\":\"381f3a27-537c-4ec3-9056-8f133f7b3767\",\"type\":\"WheelZoomTool\"},{\"id\":\"0d278819-b40f-4e51-b3e5-b4010b1756f9\",\"type\":\"BoxZoomTool\"},{\"id\":\"4bacc0db-b8cb-41c2-8230-2b16425828cc\",\"type\":\"SaveTool\"},{\"id\":\"cf39cc91-160d-4efb-87c0-d3b5210309a1\",\"type\":\"ResetTool\"},{\"id\":\"22f0160d-be36-4433-810d-8c4e58e0efc1\",\"type\":\"HelpTool\"}]},\"id\":\"a33b0581-6144-4f5b-881b-e621a004b5b7\",\"type\":\"ProxyToolbar\"},{\"attributes\":{\"dimension\":1,\"plot\":{\"id\":\"dc0dd6fc-5c88-4a9b-abed-836babdb70d6\",\"subtype\":\"Figure\",\"type\":\"Plot\"},\"ticker\":{\"id\":\"45e7a8ab-4e59-4af1-b737-9dd374ba41e5\",\"type\":\"LogTicker\"}},\"id\":\"a760d42b-7895-480b-97a5-41515d721fd0\",\"type\":\"Grid\"},{\"attributes\":{},\"id\":\"0879918e-e52d-4145-937c-c9475c64fbd7\",\"type\":\"UnionRenderers\"},{\"attributes\":{\"label\":{\"value\":\"CLIRAD (single-run)\"},\"renderers\":[{\"id\":\"c307d5ec-60bd-43d1-8225-c407a1bd9ed9\",\"type\":\"GlyphRenderer\"}]},\"id\":\"8ddb08e4-88b4-4490-8514-cb56214e99dc\",\"type\":\"LegendItem\"},{\"attributes\":{\"fill_alpha\":{\"value\":0.1},\"fill_color\":{\"value\":\"#1f77b4\"},\"line_alpha\":{\"value\":0.1},\"line_color\":{\"value\":\"#1f77b4\"},\"x\":{\"field\":\"x\"},\"y\":{\"field\":\"y\"}},\"id\":\"2b1f5657-fe93-4791-b66d-5ee7893addde\",\"type\":\"Circle\"},{\"attributes\":{},\"id\":\"b1de2568-0a4c-47d0-a565-57d05ab45733\",\"type\":\"BasicTicker\"},{\"attributes\":{},\"id\":\"d34bc9c2-aa89-4897-9815-ff389153dd79\",\"type\":\"Selection\"},{\"attributes\":{},\"id\":\"83cacc41-6ffb-43eb-bfcd-2e76dfe4c58d\",\"type\":\"UnionRenderers\"},{\"attributes\":{\"line_alpha\":0.1,\"line_color\":\"#1f77b4\",\"line_dash\":[6],\"line_width\":5,\"x\":{\"field\":\"x\"},\"y\":{\"field\":\"y\"}},\"id\":\"c360e096-8bbd-4c47-9c81-d6727f4059ff\",\"type\":\"Line\"},{\"attributes\":{\"callback\":null,\"end\":16.436989944828248,\"start\":0.29782337493475003},\"id\":\"5ff3dcf4-bdd9-4f20-85e8-8142fc7a1265\",\"type\":\"Range1d\"},{\"attributes\":{\"label\":{\"value\":\"CLIRAD (single-run)\"},\"renderers\":[{\"id\":\"c0637832-0a44-48d5-8b86-2ddb3b4e142d\",\"type\":\"GlyphRenderer\"}]},\"id\":\"9ee57046-55b0-45e2-9a28-fc58ef8a8c66\",\"type\":\"LegendItem\"},{\"attributes\":{\"source\":{\"id\":\"7ecd8611-3764-446d-ac1e-4184fc7ad9fe\",\"type\":\"ColumnDataSource\"}},\"id\":\"ea2d64cd-6c57-4c90-b4ce-43b8acbb7a4e\",\"type\":\"CDSView\"},{\"attributes\":{\"label\":{\"value\":\"CRD\"},\"renderers\":[{\"id\":\"66c0b567-80ac-4786-bf25-314f55ae9514\",\"type\":\"GlyphRenderer\"},{\"id\":\"6d0173e3-4fb9-4641-9ed2-b001bd3a0805\",\"type\":\"GlyphRenderer\"}]},\"id\":\"83f9b37f-869e-49a1-ad2d-9f99227f4d4f\",\"type\":\"LegendItem\"},{\"attributes\":{\"callback\":null,\"data\":{\"x\":{\"__ndarray__\":\"0CYBcvU5UkCik9zf2GVBQF1VoNfLZ0BAVLxhiVXTPUDD1Wu1wJM6QFJyB025jjdAU6Aw5+b/NECYe1uuDfgyQB6bYtVTbTFAPxYSAF1HMEA00pYVm9QuQLolHbMzgC1AntlwirGsLECv+G9SjE4rQJH6ZLBp0ShAsLZQyPd/JkDyjgyf2PwkQLgyNGsrJyRAA13QbJD6I0C8hy0ilI4kQOVTXCEgcSZAovOGvZSGJUBVc/ZmUOIgQOf/6GHAyRlAcE8fAOBSFEDRur1U//gPQGFD9ZbokghAQsqHuSqSA0C91ci3W0UBQCtRQfvz7/4/kh8pntyB+j9t1/n+4TX1P773MAUjFfI/RgzR+CI28T8hBW8WHK7uPzVKjJfU8uk/0FPt4/z65T/wVYqzMPDhPz7K9C5CXuE/8+hSn9hY4T/9PPCkR6rhP1XsIC599OA/66X1nBCX3z/YbRM56QjcPz4dkSQc/dM/S7Wb8Fq00T+/yQdmX0vcP7TrGf476eM/WqNPJoWO7D9qOH1bcwDzP2bw+R5DQ/Y/RLSuQOQp+D8+aif8yAz5P0Wv6eBKRfk/0i2+IN4R+T/ik8QNFZr4PyS5UD5j/Pc/yJ68zXRG9z/2CHPL54H2P59SOhwKtPU/npkP8dfg9D8NlmVcdQz0P80ugRvuOvM/byxiAHN18j9USVZie8nxP5l9lNXYSPE/OB+F0UYP8T8Y7dsUCTHxP3EBgTHPcPE/bfx15p8S8T8FT+xkGtTuP6mdG7rkxuk/pboqTkHX5D/CrN8qGYngP7R4ZaL+htU/\",\"dtype\":\"float64\",\"shape\":[75]},\"y\":{\"__ndarray__\":\"GhExyth1ND/Sv8nbtpRIP2vylNV0PVE/aTum7souWD/At0SJ8fVgPw3Iuahxymc/MSNhhJWvcD/bTfBN02d3P2zb5nxnaoA/CD5h5MAGhz8NmeH1TyaQP+zrCsc9p5Y/LbKd76fGnz/bLW5ISEmmPww9YvTcQq8/JV2OstnstT8Er5Y7M8G+P0c+r3jqkcU/5h99k6ZBzj88bCIzFzjVP4enV8oyxN0//yH99nXg5D8qOpLLf0jtP5kqGJXUifQ/c9cS8kHP/D+/DpwzojQEQIEmwoanVwxA4lgXt9HgE0BSSZ2AJuIbQAMJih9jjiNA5q4l5INuK0AwTKYKRj0zQNv5fmq8/DpAaCJseHrtQkB/+zpwzoxKQM3MzMzMeFJAZmZmZmZqWEAAAAAAAFxeQM3MzMzMJmJAmpmZmZkfZUBmZmZmZhhoQDMzMzMzEWtAAAAAAAAKbkBmZmZmZoFwQM3MzMzM/XFAMzMzMzN6c0CamZmZmfZ0QAAAAAAAc3ZAZmZmZmbvd0DNzMzMzGt5QDMzMzMz6HpAmpmZmZlkfEAAAAAAAOF9QGZmZmZmXX9AZmZmZuZsgECamZmZGSuBQM3MzMxM6YFAAAAAAICngkAzMzMzs2WDQGZmZmbmI4RAmpmZmRnihEDNzMzMTKCFQAAAAACAXoZAMzMzM7Mch0BmZmZm5tqHQJqZmZkZmYhAzczMzExXiUAAAAAAgBWKQDMzMzOz04pAZmZmZuaRi0CamZmZGVCMQM3MzMxMDo1AAAAAAIDMjUAzMzMzs4qOQGZmZmbmSI9A\",\"dtype\":\"float64\",\"shape\":[75]}},\"selected\":{\"id\":\"cb4647fc-9057-4b8c-ba85-446ae3dd9058\",\"type\":\"Selection\"},\"selection_policy\":{\"id\":\"0879918e-e52d-4145-937c-c9475c64fbd7\",\"type\":\"UnionRenderers\"}},\"id\":\"792b0a1d-41a2-4fe4-a939-87591cf66260\",\"type\":\"ColumnDataSource\"},{\"attributes\":{},\"id\":\"98f06843-7756-41d9-b6dd-99ad30f43037\",\"type\":\"LinearScale\"},{\"attributes\":{\"plot\":{\"id\":\"dc0dd6fc-5c88-4a9b-abed-836babdb70d6\",\"subtype\":\"Figure\",\"type\":\"Plot\"},\"ticker\":{\"id\":\"b1de2568-0a4c-47d0-a565-57d05ab45733\",\"type\":\"BasicTicker\"}},\"id\":\"ccc89bf4-6401-4cfc-aba8-c7ab256c55c0\",\"type\":\"Grid\"},{\"attributes\":{\"axis_label\":\"cooling rate [K/day]\",\"formatter\":{\"id\":\"7c2775f2-238f-45d5-8f24-141ccda0d563\",\"type\":\"BasicTickFormatter\"},\"plot\":{\"id\":\"b776cec2-29c6-46b2-8558-4eced37dffb7\",\"subtype\":\"Figure\",\"type\":\"Plot\"},\"ticker\":{\"id\":\"0cb4ca28-8efa-4ce5-b0f6-f1e79c38836b\",\"type\":\"BasicTicker\"}},\"id\":\"660f2fa7-e623-46f7-b4c0-77f3a31a6cf7\",\"type\":\"LinearAxis\"},{\"attributes\":{},\"id\":\"381f3a27-537c-4ec3-9056-8f133f7b3767\",\"type\":\"WheelZoomTool\"},{\"attributes\":{\"num_minor_ticks\":10},\"id\":\"45e7a8ab-4e59-4af1-b737-9dd374ba41e5\",\"type\":\"LogTicker\"},{\"attributes\":{\"axis_label\":\"pressure [mb]\",\"formatter\":{\"id\":\"be9bdcf1-7d57-4683-849a-ad8968ca72fe\",\"type\":\"LogTickFormatter\"},\"plot\":{\"id\":\"dc0dd6fc-5c88-4a9b-abed-836babdb70d6\",\"subtype\":\"Figure\",\"type\":\"Plot\"},\"ticker\":{\"id\":\"45e7a8ab-4e59-4af1-b737-9dd374ba41e5\",\"type\":\"LogTicker\"}},\"id\":\"89d17484-3c09-4966-8482-7f2b5e0c792e\",\"type\":\"LogAxis\"},{\"attributes\":{},\"id\":\"5fa3e567-b81f-4aa9-a1dc-6c1f8954911c\",\"type\":\"LogScale\"},{\"attributes\":{},\"id\":\"fc79e058-98c0-4848-bce7-5b317d706315\",\"type\":\"UnionRenderers\"},{\"attributes\":{\"data_source\":{\"id\":\"792b0a1d-41a2-4fe4-a939-87591cf66260\",\"type\":\"ColumnDataSource\"},\"glyph\":{\"id\":\"0814b28f-e505-4fb4-906f-cbd2702a1acd\",\"type\":\"Line\"},\"hover_glyph\":null,\"muted_glyph\":null,\"nonselection_glyph\":{\"id\":\"103e0ebf-011b-473f-91e5-cb094f138dd6\",\"type\":\"Line\"},\"selection_glyph\":null,\"view\":{\"id\":\"30c474a6-1dc2-4367-a53a-6e6ab3e6272c\",\"type\":\"CDSView\"}},\"id\":\"de728de6-db9e-472d-bfbd-133dabc20551\",\"type\":\"GlyphRenderer\"},{\"attributes\":{},\"id\":\"7eaeb4f0-1a34-42c7-901c-90ec90688389\",\"type\":\"Selection\"},{\"attributes\":{\"plot\":{\"id\":\"ebd58ba2-1f76-4803-be36-47ea1c17abeb\",\"subtype\":\"Figure\",\"type\":\"Plot\"},\"ticker\":{\"id\":\"c534a12f-a26e-43dc-8fb5-5ea49dda3dc2\",\"type\":\"BasicTicker\"}},\"id\":\"74223050-a386-4e2d-b25d-81a2934632bc\",\"type\":\"Grid\"},{\"attributes\":{\"line_color\":\"#4daf4a\",\"line_width\":1.5,\"x\":{\"field\":\"x\"},\"y\":{\"field\":\"y\"}},\"id\":\"1aec2ea0-9cd5-4869-8ecb-aca074122cb6\",\"type\":\"Line\"},{\"attributes\":{},\"id\":\"a3f33f4d-dc52-4fa8-b307-2db40a65f553\",\"type\":\"PanTool\"},{\"attributes\":{},\"id\":\"f62464ff-d77b-4291-b096-bc7f7c7b664d\",\"type\":\"WheelZoomTool\"},{\"attributes\":{\"source\":{\"id\":\"d50dd75d-3967-409e-bf43-15f0423958fa\",\"type\":\"ColumnDataSource\"}},\"id\":\"f56bc55d-8839-4957-8639-1dde597c8ebc\",\"type\":\"CDSView\"},{\"attributes\":{\"data_source\":{\"id\":\"ed0f7c2e-1ecb-439a-8c94-eccdb85165a2\",\"type\":\"ColumnDataSource\"},\"glyph\":{\"id\":\"c6251487-e8f6-4a35-a92e-cba761e2c86a\",\"type\":\"Line\"},\"hover_glyph\":null,\"muted_glyph\":null,\"nonselection_glyph\":{\"id\":\"c360e096-8bbd-4c47-9c81-d6727f4059ff\",\"type\":\"Line\"},\"selection_glyph\":null,\"view\":{\"id\":\"dea2cf98-2f48-4678-8efa-0c2a5e2a9815\",\"type\":\"CDSView\"}},\"id\":\"c0637832-0a44-48d5-8b86-2ddb3b4e142d\",\"type\":\"GlyphRenderer\"},{\"attributes\":{\"callback\":null,\"data\":{\"x\":{\"__ndarray__\":\"LVz7uCfeQ8ChGUaLJfYYwCMb75vopAPAb3fOabke8j9lWIgE9JsLQOXvyvkb2g9APnR7Fi/LBkCmSIIxVTrrPyu2iXaXmu2/L3WfIbFl+r+C9ZYDcxv0v8J+sAdRy9S/UH1/Rkeq4D8IzsLpVObuP4jqcTibAe0/eTvd8oYO2T+OQTCLDt7Qv5ji9BpoXuW/V0+3xBhy5b94Z7G7lXzav/6pSlfL38G/zBgKKJYesj/I1tW4gTDBP4Gg9xnb/bm/6OHFBmFwzb/Jlv56HxKhv/EZB1BwXNE/tDFGwmnx0T+dgz8RYjK8P0oF0SHPn6A/1zw/k0lFxD8Gy+tFFBfNP2i9183Z08A/N3gKDez1dr+ErhDxWg1oP7z6DbGqTLM/FGuCmYk5qD8ZDNtblLmYvzx7mOPoprO/Rm2hQwsHtr9zgNat/qeyv3TBkyPWuay/lNouayB+pb/vTOCOl1uavx4jDSfir5C/H1Be0ivxhb9YuwufkpI/v2KxTpOelHS/zMZedMBUm7+XBGrFTJ+qv1BpC30ogKq/qPfp7IHAor8ApUU9lFmjv/JYEpkYzKq/kHn7d8SRqr/cmaU2k1ylvxjD/zelpZ+/nlGD3JJLmL/E21bacaGTv/6RwjCw64m/2h/zxmcAhL/NgBME6nGBv9orU+u8T4S/oIG6YxpWhr8lZK/mZTWEv+Zn75KUCXq/gNkHHrReOb9kVHMMU5p/P9Y9Y3OW2Is/nkfL3Nfckj+u+BL/t1+WP0aldYMAE5g/U2koibtulz9Klct3jleXPw5pTN3dV5Y/\",\"dtype\":\"float64\",\"shape\":[75]},\"y\":{\"__ndarray__\":\"GhExyth1ND/Sv8nbtpRIP2vylNV0PVE/aTum7souWD/At0SJ8fVgPw3Iuahxymc/MSNhhJWvcD/bTfBN02d3P2zb5nxnaoA/CD5h5MAGhz8NmeH1TyaQP+zrCsc9p5Y/LbKd76fGnz/bLW5ISEmmPww9YvTcQq8/JV2OstnstT8Er5Y7M8G+P0c+r3jqkcU/5h99k6ZBzj88bCIzFzjVP4enV8oyxN0//yH99nXg5D8qOpLLf0jtP5kqGJXUifQ/c9cS8kHP/D+/DpwzojQEQIEmwoanVwxA4lgXt9HgE0BSSZ2AJuIbQAMJih9jjiNA5q4l5INuK0AwTKYKRj0zQNv5fmq8/DpAaCJseHrtQkB/+zpwzoxKQM3MzMzMeFJAZmZmZmZqWEAAAAAAAFxeQM3MzMzMJmJAmpmZmZkfZUBmZmZmZhhoQDMzMzMzEWtAAAAAAAAKbkBmZmZmZoFwQM3MzMzM/XFAMzMzMzN6c0CamZmZmfZ0QAAAAAAAc3ZAZmZmZmbvd0DNzMzMzGt5QDMzMzMz6HpAmpmZmZlkfEAAAAAAAOF9QGZmZmZmXX9AZmZmZuZsgECamZmZGSuBQM3MzMxM6YFAAAAAAICngkAzMzMzs2WDQGZmZmbmI4RAmpmZmRnihEDNzMzMTKCFQAAAAACAXoZAMzMzM7Mch0BmZmZm5tqHQJqZmZkZmYhAzczMzExXiUAAAAAAgBWKQDMzMzOz04pAZmZmZuaRi0CamZmZGVCMQM3MzMxMDo1AAAAAAIDMjUAzMzMzs4qOQGZmZmbmSI9A\",\"dtype\":\"float64\",\"shape\":[75]}},\"selected\":{\"id\":\"7eaeb4f0-1a34-42c7-901c-90ec90688389\",\"type\":\"Selection\"},\"selection_policy\":{\"id\":\"83cacc41-6ffb-43eb-bfcd-2e76dfe4c58d\",\"type\":\"UnionRenderers\"}},\"id\":\"37e20a7a-eba2-455c-a282-b335b451bcd6\",\"type\":\"ColumnDataSource\"},{\"attributes\":{\"source\":{\"id\":\"302b1209-2404-473e-adc1-fe6542cf3892\",\"type\":\"ColumnDataSource\"}},\"id\":\"7a4877cd-ff42-49f3-9844-925224948e1e\",\"type\":\"CDSView\"},{\"attributes\":{\"active_drag\":\"auto\",\"active_inspect\":\"auto\",\"active_scroll\":\"auto\",\"active_tap\":\"auto\",\"tools\":[{\"id\":\"a3f33f4d-dc52-4fa8-b307-2db40a65f553\",\"type\":\"PanTool\"},{\"id\":\"f62464ff-d77b-4291-b096-bc7f7c7b664d\",\"type\":\"WheelZoomTool\"},{\"id\":\"91ffdf0a-2f04-4674-a159-4d4f9653ebf9\",\"type\":\"BoxZoomTool\"},{\"id\":\"a8bd0812-b024-4a54-8cb3-0d94cc7c1e75\",\"type\":\"SaveTool\"},{\"id\":\"b28bfb9b-9806-4822-a964-81fbcb89e0b1\",\"type\":\"ResetTool\"},{\"id\":\"8c994e4d-cf1f-4f03-b157-bc448d2556e3\",\"type\":\"HelpTool\"}]},\"id\":\"f1a25979-3a0c-4ce6-aa69-8793d6972546\",\"type\":\"Toolbar\"},{\"attributes\":{\"fill_alpha\":{\"value\":0.7},\"fill_color\":{\"value\":\"#4daf4a\"},\"line_alpha\":{\"value\":0.7},\"line_color\":{\"value\":\"#4daf4a\"},\"x\":{\"field\":\"x\"},\"y\":{\"field\":\"y\"}},\"id\":\"90a79c74-cc39-445f-9927-d586e723b8ed\",\"type\":\"Circle\"},{\"attributes\":{},\"id\":\"6e96ac45-cfb1-4a32-99b0-b09a786f0b34\",\"type\":\"BasicTicker\"},{\"attributes\":{},\"id\":\"a8bd0812-b024-4a54-8cb3-0d94cc7c1e75\",\"type\":\"SaveTool\"},{\"attributes\":{\"line_alpha\":0.1,\"line_color\":\"#1f77b4\",\"line_width\":1.5,\"x\":{\"field\":\"x\"},\"y\":{\"field\":\"y\"}},\"id\":\"f68e3c2b-8a43-44d9-a9e9-3d4775d1213e\",\"type\":\"Line\"},{\"attributes\":{\"axis_label\":\"pressure [mb]\",\"formatter\":{\"id\":\"29b0de3f-596f-4660-9c9c-d2134785f316\",\"type\":\"BasicTickFormatter\"},\"plot\":{\"id\":\"ebd58ba2-1f76-4803-be36-47ea1c17abeb\",\"subtype\":\"Figure\",\"type\":\"Plot\"},\"ticker\":{\"id\":\"6e96ac45-cfb1-4a32-99b0-b09a786f0b34\",\"type\":\"BasicTicker\"}},\"id\":\"acd90cd1-330f-4267-a4e5-722ec4662808\",\"type\":\"LinearAxis\"},{\"attributes\":{\"active_drag\":\"auto\",\"active_inspect\":\"auto\",\"active_scroll\":\"auto\",\"active_tap\":\"auto\",\"tools\":[{\"id\":\"6bc5e90d-b2b3-4ce7-8850-79ff4bd77415\",\"type\":\"PanTool\"},{\"id\":\"381f3a27-537c-4ec3-9056-8f133f7b3767\",\"type\":\"WheelZoomTool\"},{\"id\":\"0d278819-b40f-4e51-b3e5-b4010b1756f9\",\"type\":\"BoxZoomTool\"},{\"id\":\"4bacc0db-b8cb-41c2-8230-2b16425828cc\",\"type\":\"SaveTool\"},{\"id\":\"cf39cc91-160d-4efb-87c0-d3b5210309a1\",\"type\":\"ResetTool\"},{\"id\":\"22f0160d-be36-4433-810d-8c4e58e0efc1\",\"type\":\"HelpTool\"}]},\"id\":\"03735b00-6108-456c-906a-66445be62f3a\",\"type\":\"Toolbar\"},{\"attributes\":{\"callback\":null,\"data\":{\"x\":{\"__ndarray__\":\"0CYBcvU5UkCik9zf2GVBQF1VoNfLZ0BAVLxhiVXTPUDD1Wu1wJM6QFJyB025jjdAU6Aw5+b/NECYe1uuDfgyQB6bYtVTbTFAPxYSAF1HMEA00pYVm9QuQLolHbMzgC1AntlwirGsLECv+G9SjE4rQJH6ZLBp0ShAsLZQyPd/JkDyjgyf2PwkQLgyNGsrJyRAA13QbJD6I0C8hy0ilI4kQOVTXCEgcSZAovOGvZSGJUBVc/ZmUOIgQOf/6GHAyRlAcE8fAOBSFEDRur1U//gPQGFD9ZbokghAQsqHuSqSA0C91ci3W0UBQCtRQfvz7/4/kh8pntyB+j9t1/n+4TX1P773MAUjFfI/RgzR+CI28T8hBW8WHK7uPzVKjJfU8uk/0FPt4/z65T/wVYqzMPDhPz7K9C5CXuE/8+hSn9hY4T/9PPCkR6rhP1XsIC599OA/66X1nBCX3z/YbRM56QjcPz4dkSQc/dM/S7Wb8Fq00T+/yQdmX0vcP7TrGf476eM/WqNPJoWO7D9qOH1bcwDzP2bw+R5DQ/Y/RLSuQOQp+D8+aif8yAz5P0Wv6eBKRfk/0i2+IN4R+T/ik8QNFZr4PyS5UD5j/Pc/yJ68zXRG9z/2CHPL54H2P59SOhwKtPU/npkP8dfg9D8NlmVcdQz0P80ugRvuOvM/byxiAHN18j9USVZie8nxP5l9lNXYSPE/OB+F0UYP8T8Y7dsUCTHxP3EBgTHPcPE/bfx15p8S8T8FT+xkGtTuP6mdG7rkxuk/pboqTkHX5D/CrN8qGYngP7R4ZaL+htU/\",\"dtype\":\"float64\",\"shape\":[75]},\"y\":{\"__ndarray__\":\"GhExyth1ND/Sv8nbtpRIP2vylNV0PVE/aTum7souWD/At0SJ8fVgPw3Iuahxymc/MSNhhJWvcD/bTfBN02d3P2zb5nxnaoA/CD5h5MAGhz8NmeH1TyaQP+zrCsc9p5Y/LbKd76fGnz/bLW5ISEmmPww9YvTcQq8/JV2OstnstT8Er5Y7M8G+P0c+r3jqkcU/5h99k6ZBzj88bCIzFzjVP4enV8oyxN0//yH99nXg5D8qOpLLf0jtP5kqGJXUifQ/c9cS8kHP/D+/DpwzojQEQIEmwoanVwxA4lgXt9HgE0BSSZ2AJuIbQAMJih9jjiNA5q4l5INuK0AwTKYKRj0zQNv5fmq8/DpAaCJseHrtQkB/+zpwzoxKQM3MzMzMeFJAZmZmZmZqWEAAAAAAAFxeQM3MzMzMJmJAmpmZmZkfZUBmZmZmZhhoQDMzMzMzEWtAAAAAAAAKbkBmZmZmZoFwQM3MzMzM/XFAMzMzMzN6c0CamZmZmfZ0QAAAAAAAc3ZAZmZmZmbvd0DNzMzMzGt5QDMzMzMz6HpAmpmZmZlkfEAAAAAAAOF9QGZmZmZmXX9AZmZmZuZsgECamZmZGSuBQM3MzMxM6YFAAAAAAICngkAzMzMzs2WDQGZmZmbmI4RAmpmZmRnihEDNzMzMTKCFQAAAAACAXoZAMzMzM7Mch0BmZmZm5tqHQJqZmZkZmYhAzczMzExXiUAAAAAAgBWKQDMzMzOz04pAZmZmZuaRi0CamZmZGVCMQM3MzMxMDo1AAAAAAIDMjUAzMzMzs4qOQGZmZmbmSI9A\",\"dtype\":\"float64\",\"shape\":[75]}},\"selected\":{\"id\":\"edfc368d-b94b-4fea-9ae4-7a73f37a19fd\",\"type\":\"Selection\"},\"selection_policy\":{\"id\":\"7be7a898-e075-4ba3-8a55-5d10a5fbb136\",\"type\":\"UnionRenderers\"}},\"id\":\"99d16372-d62f-4ca8-9d9e-a5f889f267d5\",\"type\":\"ColumnDataSource\"},{\"attributes\":{\"axis_label\":\"cooling rate [K/day]\",\"formatter\":{\"id\":\"b7f072d0-a992-4108-b367-fa6426d0b2a6\",\"type\":\"BasicTickFormatter\"},\"plot\":{\"id\":\"ebd58ba2-1f76-4803-be36-47ea1c17abeb\",\"subtype\":\"Figure\",\"type\":\"Plot\"},\"ticker\":{\"id\":\"c534a12f-a26e-43dc-8fb5-5ea49dda3dc2\",\"type\":\"BasicTicker\"}},\"id\":\"71247f18-9566-4cec-8a90-074b1a59b7c9\",\"type\":\"LinearAxis\"},{\"attributes\":{\"fill_alpha\":{\"value\":0.1},\"fill_color\":{\"value\":\"#1f77b4\"},\"line_alpha\":{\"value\":0.1},\"line_color\":{\"value\":\"#1f77b4\"},\"x\":{\"field\":\"x\"},\"y\":{\"field\":\"y\"}},\"id\":\"b57fb847-a7c7-42ca-964d-ded34f1be437\",\"type\":\"Circle\"},{\"attributes\":{},\"id\":\"857914fd-1be3-4f1b-a6aa-97419dae0834\",\"type\":\"LinearScale\"},{\"attributes\":{\"line_alpha\":0.1,\"line_color\":\"#1f77b4\",\"line_dash\":[6],\"line_width\":5,\"x\":{\"field\":\"x\"},\"y\":{\"field\":\"y\"}},\"id\":\"c0980bcd-c944-4fbd-b593-5d961fbb45ea\",\"type\":\"Line\"},{\"attributes\":{\"data_source\":{\"id\":\"d50dd75d-3967-409e-bf43-15f0423958fa\",\"type\":\"ColumnDataSource\"},\"glyph\":{\"id\":\"97f09a85-ac3d-4ac5-9b6b-f14a8f8311ed\",\"type\":\"Line\"},\"hover_glyph\":null,\"muted_glyph\":null,\"nonselection_glyph\":{\"id\":\"c0980bcd-c944-4fbd-b593-5d961fbb45ea\",\"type\":\"Line\"},\"selection_glyph\":null,\"view\":{\"id\":\"f56bc55d-8839-4957-8639-1dde597c8ebc\",\"type\":\"CDSView\"}},\"id\":\"c307d5ec-60bd-43d1-8225-c407a1bd9ed9\",\"type\":\"GlyphRenderer\"},{\"attributes\":{},\"id\":\"8c994e4d-cf1f-4f03-b157-bc448d2556e3\",\"type\":\"HelpTool\"},{\"attributes\":{\"dimension\":1,\"plot\":{\"id\":\"ebd58ba2-1f76-4803-be36-47ea1c17abeb\",\"subtype\":\"Figure\",\"type\":\"Plot\"},\"ticker\":{\"id\":\"6e96ac45-cfb1-4a32-99b0-b09a786f0b34\",\"type\":\"BasicTicker\"}},\"id\":\"645d406c-2fa5-4775-8a6e-277719414935\",\"type\":\"Grid\"},{\"attributes\":{\"source\":{\"id\":\"99d16372-d62f-4ca8-9d9e-a5f889f267d5\",\"type\":\"ColumnDataSource\"}},\"id\":\"86e438e4-0150-4f44-bc4f-6b9cadb43d81\",\"type\":\"CDSView\"},{\"attributes\":{},\"id\":\"01369af6-9aea-4b10-b088-5231fc033435\",\"type\":\"LinearScale\"},{\"attributes\":{},\"id\":\"c534a12f-a26e-43dc-8fb5-5ea49dda3dc2\",\"type\":\"BasicTicker\"},{\"attributes\":{},\"id\":\"b28bfb9b-9806-4822-a964-81fbcb89e0b1\",\"type\":\"ResetTool\"},{\"attributes\":{\"callback\":null,\"data\":{\"x\":{\"__ndarray__\":\"0CYBcvU5UkCik9zf2GVBQF1VoNfLZ0BAVLxhiVXTPUDD1Wu1wJM6QFJyB025jjdAU6Aw5+b/NECYe1uuDfgyQB6bYtVTbTFAPxYSAF1HMEA00pYVm9QuQLolHbMzgC1AntlwirGsLECv+G9SjE4rQJH6ZLBp0ShAsLZQyPd/JkDyjgyf2PwkQLgyNGsrJyRAA13QbJD6I0C8hy0ilI4kQOVTXCEgcSZAovOGvZSGJUBVc/ZmUOIgQOf/6GHAyRlAcE8fAOBSFEDRur1U//gPQGFD9ZbokghAQsqHuSqSA0C91ci3W0UBQCtRQfvz7/4/kh8pntyB+j9t1/n+4TX1P773MAUjFfI/RgzR+CI28T8hBW8WHK7uPzVKjJfU8uk/0FPt4/z65T/wVYqzMPDhPz7K9C5CXuE/8+hSn9hY4T/9PPCkR6rhP1XsIC599OA/66X1nBCX3z/YbRM56QjcPz4dkSQc/dM/S7Wb8Fq00T+/yQdmX0vcP7TrGf476eM/WqNPJoWO7D9qOH1bcwDzP2bw+R5DQ/Y/RLSuQOQp+D8+aif8yAz5P0Wv6eBKRfk/0i2+IN4R+T/ik8QNFZr4PyS5UD5j/Pc/yJ68zXRG9z/2CHPL54H2P59SOhwKtPU/npkP8dfg9D8NlmVcdQz0P80ugRvuOvM/byxiAHN18j9USVZie8nxP5l9lNXYSPE/OB+F0UYP8T8Y7dsUCTHxP3EBgTHPcPE/bfx15p8S8T8FT+xkGtTuP6mdG7rkxuk/pboqTkHX5D/CrN8qGYngP7R4ZaL+htU/\",\"dtype\":\"float64\",\"shape\":[75]},\"y\":{\"__ndarray__\":\"GhExyth1ND/Sv8nbtpRIP2vylNV0PVE/aTum7souWD/At0SJ8fVgPw3Iuahxymc/MSNhhJWvcD/bTfBN02d3P2zb5nxnaoA/CD5h5MAGhz8NmeH1TyaQP+zrCsc9p5Y/LbKd76fGnz/bLW5ISEmmPww9YvTcQq8/JV2OstnstT8Er5Y7M8G+P0c+r3jqkcU/5h99k6ZBzj88bCIzFzjVP4enV8oyxN0//yH99nXg5D8qOpLLf0jtP5kqGJXUifQ/c9cS8kHP/D+/DpwzojQEQIEmwoanVwxA4lgXt9HgE0BSSZ2AJuIbQAMJih9jjiNA5q4l5INuK0AwTKYKRj0zQNv5fmq8/DpAaCJseHrtQkB/+zpwzoxKQM3MzMzMeFJAZmZmZmZqWEAAAAAAAFxeQM3MzMzMJmJAmpmZmZkfZUBmZmZmZhhoQDMzMzMzEWtAAAAAAAAKbkBmZmZmZoFwQM3MzMzM/XFAMzMzMzN6c0CamZmZmfZ0QAAAAAAAc3ZAZmZmZmbvd0DNzMzMzGt5QDMzMzMz6HpAmpmZmZlkfEAAAAAAAOF9QGZmZmZmXX9AZmZmZuZsgECamZmZGSuBQM3MzMxM6YFAAAAAAICngkAzMzMzs2WDQGZmZmbmI4RAmpmZmRnihEDNzMzMTKCFQAAAAACAXoZAMzMzM7Mch0BmZmZm5tqHQJqZmZkZmYhAzczMzExXiUAAAAAAgBWKQDMzMzOz04pAZmZmZuaRi0CamZmZGVCMQM3MzMxMDo1AAAAAAIDMjUAzMzMzs4qOQGZmZmbmSI9A\",\"dtype\":\"float64\",\"shape\":[75]}},\"selected\":{\"id\":\"64d2a0bf-7fda-4856-ae16-6863df50b491\",\"type\":\"Selection\"},\"selection_policy\":{\"id\":\"61691e5a-a11c-4141-842b-b9dee647b5f0\",\"type\":\"UnionRenderers\"}},\"id\":\"302b1209-2404-473e-adc1-fe6542cf3892\",\"type\":\"ColumnDataSource\"},{\"attributes\":{\"items\":[{\"id\":\"8ddb08e4-88b4-4490-8514-cb56214e99dc\",\"type\":\"LegendItem\"},{\"id\":\"83f9b37f-869e-49a1-ad2d-9f99227f4d4f\",\"type\":\"LegendItem\"}],\"label_text_font_size\":{\"value\":\"8pt\"},\"location\":\"top_center\",\"orientation\":\"horizontal\",\"plot\":{\"id\":\"ebd58ba2-1f76-4803-be36-47ea1c17abeb\",\"subtype\":\"Figure\",\"type\":\"Plot\"}},\"id\":\"8d78c36d-9f5b-4ee7-9f33-03b601cc707d\",\"type\":\"Legend\"},{\"attributes\":{\"data_source\":{\"id\":\"99d16372-d62f-4ca8-9d9e-a5f889f267d5\",\"type\":\"ColumnDataSource\"},\"glyph\":{\"id\":\"90a79c74-cc39-445f-9927-d586e723b8ed\",\"type\":\"Circle\"},\"hover_glyph\":null,\"muted_glyph\":null,\"nonselection_glyph\":{\"id\":\"b57fb847-a7c7-42ca-964d-ded34f1be437\",\"type\":\"Circle\"},\"selection_glyph\":null,\"view\":{\"id\":\"86e438e4-0150-4f44-bc4f-6b9cadb43d81\",\"type\":\"CDSView\"}},\"id\":\"66c0b567-80ac-4786-bf25-314f55ae9514\",\"type\":\"GlyphRenderer\"},{\"attributes\":{\"callback\":null,\"end\":1.5925520929577701,\"start\":0.25278412604523004},\"id\":\"8dda5d1f-67f1-4741-93dd-cec2c5e45c74\",\"type\":\"Range1d\"},{\"attributes\":{\"bottom_units\":\"screen\",\"fill_alpha\":{\"value\":0.5},\"fill_color\":{\"value\":\"lightgrey\"},\"left_units\":\"screen\",\"level\":\"overlay\",\"line_alpha\":{\"value\":1.0},\"line_color\":{\"value\":\"black\"},\"line_dash\":[4,4],\"line_width\":{\"value\":2},\"plot\":null,\"render_mode\":\"css\",\"right_units\":\"screen\",\"top_units\":\"screen\"},\"id\":\"59bcdf27-b1ef-4d43-94ee-5f7bb57da2b0\",\"type\":\"BoxAnnotation\"},{\"attributes\":{\"data_source\":{\"id\":\"302b1209-2404-473e-adc1-fe6542cf3892\",\"type\":\"ColumnDataSource\"},\"glyph\":{\"id\":\"1aec2ea0-9cd5-4869-8ecb-aca074122cb6\",\"type\":\"Line\"},\"hover_glyph\":null,\"muted_glyph\":null,\"nonselection_glyph\":{\"id\":\"f68e3c2b-8a43-44d9-a9e9-3d4775d1213e\",\"type\":\"Line\"},\"selection_glyph\":null,\"view\":{\"id\":\"7a4877cd-ff42-49f3-9844-925224948e1e\",\"type\":\"CDSView\"}},\"id\":\"6d0173e3-4fb9-4641-9ed2-b001bd3a0805\",\"type\":\"GlyphRenderer\"},{\"attributes\":{\"line_alpha\":0.6,\"line_color\":\"#377eb8\",\"line_dash\":[6],\"line_width\":5,\"x\":{\"field\":\"x\"},\"y\":{\"field\":\"y\"}},\"id\":\"97f09a85-ac3d-4ac5-9b6b-f14a8f8311ed\",\"type\":\"Line\"},{\"attributes\":{\"overlay\":{\"id\":\"59bcdf27-b1ef-4d43-94ee-5f7bb57da2b0\",\"type\":\"BoxAnnotation\"}},\"id\":\"91ffdf0a-2f04-4674-a159-4d4f9653ebf9\",\"type\":\"BoxZoomTool\"},{\"attributes\":{\"callback\":null,\"end\":0.9917710995134403,\"start\":-1.6759815666374394},\"id\":\"8742d5e9-21f4-4de5-96c7-7834b90fd77d\",\"type\":\"Range1d\"},{\"attributes\":{\"above\":[{\"id\":\"afe1cab6-1558-4052-b97e-2f3e814d02fd\",\"type\":\"Legend\"}],\"below\":[{\"id\":\"a9e388e1-c439-4a74-9922-4af9c81d8171\",\"type\":\"LinearAxis\"}],\"left\":[{\"id\":\"89d17484-3c09-4966-8482-7f2b5e0c792e\",\"type\":\"LogAxis\"}],\"plot_width\":300,\"renderers\":[{\"id\":\"a9e388e1-c439-4a74-9922-4af9c81d8171\",\"type\":\"LinearAxis\"},{\"id\":\"ccc89bf4-6401-4cfc-aba8-c7ab256c55c0\",\"type\":\"Grid\"},{\"id\":\"89d17484-3c09-4966-8482-7f2b5e0c792e\",\"type\":\"LogAxis\"},{\"id\":\"a760d42b-7895-480b-97a5-41515d721fd0\",\"type\":\"Grid\"},{\"id\":\"addefc41-529f-4012-9c4c-96313ab3518e\",\"type\":\"BoxAnnotation\"},{\"id\":\"10bea3e9-5e70-4633-9b10-e648b095b2df\",\"type\":\"GlyphRenderer\"},{\"id\":\"9a89237d-6ddf-4abe-a0d5-aa75e56f03ff\",\"type\":\"GlyphRenderer\"},{\"id\":\"afe1cab6-1558-4052-b97e-2f3e814d02fd\",\"type\":\"Legend\"}],\"title\":{\"id\":\"f5edf380-f457-43af-890d-406272580474\",\"type\":\"Title\"},\"toolbar\":{\"id\":\"03735b00-6108-456c-906a-66445be62f3a\",\"type\":\"Toolbar\"},\"toolbar_location\":null,\"x_range\":{\"id\":\"8742d5e9-21f4-4de5-96c7-7834b90fd77d\",\"type\":\"Range1d\"},\"x_scale\":{\"id\":\"90fb47b7-6563-4c5b-8384-7ece923c08e1\",\"type\":\"LinearScale\"},\"y_range\":{\"id\":\"6ff04dff-f9a3-4edc-aebd-6062c6536744\",\"type\":\"Range1d\"},\"y_scale\":{\"id\":\"fafd7382-442f-476d-a11a-282d7cd42148\",\"type\":\"LogScale\"}},\"id\":\"dc0dd6fc-5c88-4a9b-abed-836babdb70d6\",\"subtype\":\"Figure\",\"type\":\"Plot\"},{\"attributes\":{},\"id\":\"90fb47b7-6563-4c5b-8384-7ece923c08e1\",\"type\":\"LinearScale\"},{\"attributes\":{\"above\":[{\"id\":\"8d78c36d-9f5b-4ee7-9f33-03b601cc707d\",\"type\":\"Legend\"}],\"below\":[{\"id\":\"71247f18-9566-4cec-8a90-074b1a59b7c9\",\"type\":\"LinearAxis\"}],\"left\":[{\"id\":\"acd90cd1-330f-4267-a4e5-722ec4662808\",\"type\":\"LinearAxis\"}],\"plot_width\":300,\"renderers\":[{\"id\":\"71247f18-9566-4cec-8a90-074b1a59b7c9\",\"type\":\"LinearAxis\"},{\"id\":\"74223050-a386-4e2d-b25d-81a2934632bc\",\"type\":\"Grid\"},{\"id\":\"acd90cd1-330f-4267-a4e5-722ec4662808\",\"type\":\"LinearAxis\"},{\"id\":\"645d406c-2fa5-4775-8a6e-277719414935\",\"type\":\"Grid\"},{\"id\":\"59bcdf27-b1ef-4d43-94ee-5f7bb57da2b0\",\"type\":\"BoxAnnotation\"},{\"id\":\"c307d5ec-60bd-43d1-8225-c407a1bd9ed9\",\"type\":\"GlyphRenderer\"},{\"id\":\"66c0b567-80ac-4786-bf25-314f55ae9514\",\"type\":\"GlyphRenderer\"},{\"id\":\"6d0173e3-4fb9-4641-9ed2-b001bd3a0805\",\"type\":\"GlyphRenderer\"},{\"id\":\"8d78c36d-9f5b-4ee7-9f33-03b601cc707d\",\"type\":\"Legend\"}],\"title\":{\"id\":\"b4e8aa84-a11d-471e-a5fb-94832c6da91f\",\"type\":\"Title\"},\"toolbar\":{\"id\":\"f1a25979-3a0c-4ce6-aa69-8793d6972546\",\"type\":\"Toolbar\"},\"toolbar_location\":null,\"x_range\":{\"id\":\"8dda5d1f-67f1-4741-93dd-cec2c5e45c74\",\"type\":\"Range1d\"},\"x_scale\":{\"id\":\"857914fd-1be3-4f1b-a6aa-97419dae0834\",\"type\":\"LinearScale\"},\"y_range\":{\"id\":\"a0c2debf-1b2b-4c3a-b1e3-83befb9f54d9\",\"type\":\"Range1d\"},\"y_scale\":{\"id\":\"01369af6-9aea-4b10-b088-5231fc033435\",\"type\":\"LinearScale\"}},\"id\":\"ebd58ba2-1f76-4803-be36-47ea1c17abeb\",\"subtype\":\"Figure\",\"type\":\"Plot\"}],\"root_ids\":[\"6dd716d6-93ee-42e9-9842-fdde6826a3bf\"]},\"title\":\"Bokeh Application\",\"version\":\"0.12.16\"}};\n",
       "  var render_items = [{\"docid\":\"1a2ce078-8449-4723-8b6b-16fdf00b079e\",\"elementid\":\"d97274fb-3e11-4694-8953-6a6d1147797c\",\"modelid\":\"6dd716d6-93ee-42e9-9842-fdde6826a3bf\"}];\n",
       "  root.Bokeh.embed.embed_items_notebook(docs_json, render_items);\n",
       "\n",
       "  }\n",
       "  if (root.Bokeh !== undefined) {\n",
       "    embed_document(root);\n",
       "  } else {\n",
       "    var attempts = 0;\n",
       "    var timer = setInterval(function(root) {\n",
       "      if (root.Bokeh !== undefined) {\n",
       "        embed_document(root);\n",
       "        clearInterval(timer);\n",
       "      }\n",
       "      attempts++;\n",
       "      if (attempts > 100) {\n",
       "        console.log(\"Bokeh: ERROR: Unable to run BokehJS code because BokehJS library is missing\")\n",
       "        clearInterval(timer);\n",
       "      }\n",
       "    }, 10, root)\n",
       "  }\n",
       "})(window);"
      ],
      "application/vnd.bokehjs_exec.v0+json": ""
     },
     "metadata": {
      "application/vnd.bokehjs_exec.v0+json": {
       "id": "6dd716d6-93ee-42e9-9842-fdde6826a3bf"
      }
     },
     "output_type": "display_data"
    },
    {
     "data": {
      "text/markdown": [
       "*FIGURE.* Cooling rates & difference."
      ],
      "text/plain": [
       "<IPython.core.display.Markdown object>"
      ]
     },
     "metadata": {},
     "output_type": "display_data"
    },
    {
     "data": {
      "text/html": [
       "<a id=\"Fluxes._saw.\"></a>"
      ],
      "text/plain": [
       "<IPython.core.display.HTML object>"
      ]
     },
     "metadata": {},
     "output_type": "display_data"
    },
    {
     "data": {
      "text/markdown": [
       "# Fluxes. saw."
      ],
      "text/plain": [
       "<IPython.core.display.Markdown object>"
      ]
     },
     "metadata": {},
     "output_type": "display_data"
    },
    {
     "data": {
      "text/html": [
       "\n",
       "<div class=\"bk-root\">\n",
       "    <div class=\"bk-plotdiv\" id=\"8898421f-a5df-478f-9d7b-6e492b1f473a\"></div>\n",
       "</div>"
      ]
     },
     "metadata": {},
     "output_type": "display_data"
    },
    {
     "data": {
      "application/javascript": [
       "(function(root) {\n",
       "  function embed_document(root) {\n",
       "    \n",
       "  var docs_json = {\"55e26fd8-826f-420a-82b8-64d6f68284ae\":{\"roots\":{\"references\":[{\"attributes\":{},\"id\":\"00e5507a-b610-47f7-9cd5-fb032b62cb20\",\"type\":\"BasicTickFormatter\"},{\"attributes\":{},\"id\":\"91f04883-1f2f-47a0-b2ec-bc57b32571c2\",\"type\":\"CategoricalScale\"},{\"attributes\":{\"callback\":null,\"factors\":[\"1\",\"2\",\"3\",\"4\",\"5\",\"6\",\"7\",\"8\",\"9\",\"10\",\"11\"]},\"id\":\"b2540c3c-d3f1-4414-ad67-6d26afd00af0\",\"type\":\"FactorRange\"},{\"attributes\":{\"overlay\":{\"id\":\"64a3f185-3036-42dc-912b-280edb22e270\",\"type\":\"BoxAnnotation\"}},\"id\":\"a7e582b6-498d-4f76-adf9-003662a9ec89\",\"type\":\"BoxZoomTool\"},{\"attributes\":{},\"id\":\"95dd5cb6-810e-49a5-a3ae-7f9ad35ad563\",\"type\":\"ResetTool\"},{\"attributes\":{\"callback\":null},\"id\":\"2d921649-68ac-4ec6-a3f4-7d8c53b601d0\",\"type\":\"DataRange1d\"},{\"attributes\":{\"plot\":null,\"text\":\"Atmosphere heating. CLIRAD (single-run) - CRD.\"},\"id\":\"0583de9f-ae09-4452-945b-8434099e55ad\",\"type\":\"Title\"},{\"attributes\":{},\"id\":\"035b22e8-5c93-4cdb-9786-bc0fba37c17f\",\"type\":\"SaveTool\"},{\"attributes\":{},\"id\":\"1d1b8197-5298-49cf-9c87-65260e6d1fa8\",\"type\":\"HelpTool\"},{\"attributes\":{\"active_drag\":\"auto\",\"active_inspect\":\"auto\",\"active_scroll\":\"auto\",\"active_tap\":\"auto\",\"tools\":[{\"id\":\"2daa7c92-48a1-4453-8703-fc45a7cf2669\",\"type\":\"PanTool\"},{\"id\":\"c90caa73-cf73-45aa-94d4-6f148fd1e9d1\",\"type\":\"WheelZoomTool\"},{\"id\":\"ef62e0de-0a25-4bb2-9dc7-65c7f278d4ce\",\"type\":\"BoxZoomTool\"},{\"id\":\"dded5508-bd5a-4cf6-ab67-bd382d9ac0db\",\"type\":\"SaveTool\"},{\"id\":\"6cd73d8d-ea4e-4cff-aec1-e1deea30e4f5\",\"type\":\"ResetTool\"},{\"id\":\"d4379afa-8358-498c-b695-a387b053000a\",\"type\":\"HelpTool\"}]},\"id\":\"440bfb41-f2e6-474f-8b48-7bb76edbbb21\",\"type\":\"Toolbar\"},{\"attributes\":{\"callback\":null,\"data\":{\"band\":[\"1\",\"2\",\"3\",\"4\",\"5\",\"6\",\"7\",\"8\",\"9\",\"10\",\"11\"],\"flux\":{\"__ndarray__\":\"gGLUtfY+xz8ABgWlaOWyPwDVO9wODbO/gApHkEqx0D8Ans4VpYS4PwDQ+uk/a46/IIOj5NU50j8AHErtRbSNv4BE2safqKA/AGgLdJJSdb+AbxLeeT2TPw==\",\"dtype\":\"float64\",\"shape\":[11]}},\"selected\":{\"id\":\"1c82e340-3158-424b-a8c8-0d4936ad8928\",\"type\":\"Selection\"},\"selection_policy\":{\"id\":\"b8ee9cea-5f87-4d24-84ad-8d1cbf9e7f2c\",\"type\":\"UnionRenderers\"}},\"id\":\"2ff358ab-66b6-4216-811b-78238b588228\",\"type\":\"ColumnDataSource\"},{\"attributes\":{\"plot\":null,\"text\":\"TOA flux. CLIRAD (single-run) - CRD.\"},\"id\":\"754719d3-a681-43c4-96d2-deb34d710eff\",\"type\":\"Title\"},{\"attributes\":{},\"id\":\"1c82e340-3158-424b-a8c8-0d4936ad8928\",\"type\":\"Selection\"},{\"attributes\":{},\"id\":\"c90caa73-cf73-45aa-94d4-6f148fd1e9d1\",\"type\":\"WheelZoomTool\"},{\"attributes\":{},\"id\":\"923f9bba-e4c9-4d0d-9840-b0b65c3bcc29\",\"type\":\"CategoricalScale\"},{\"attributes\":{},\"id\":\"2daa7c92-48a1-4453-8703-fc45a7cf2669\",\"type\":\"PanTool\"},{\"attributes\":{},\"id\":\"6a17729c-6542-4090-8bd8-8bbe0891c1c6\",\"type\":\"SaveTool\"},{\"attributes\":{},\"id\":\"2472ed5c-0a3b-4638-9e81-0211f7f464bb\",\"type\":\"ResetTool\"},{\"attributes\":{\"bottom_units\":\"screen\",\"fill_alpha\":{\"value\":0.5},\"fill_color\":{\"value\":\"lightgrey\"},\"left_units\":\"screen\",\"level\":\"overlay\",\"line_alpha\":{\"value\":1.0},\"line_color\":{\"value\":\"black\"},\"line_dash\":[4,4],\"line_width\":{\"value\":2},\"plot\":null,\"render_mode\":\"css\",\"right_units\":\"screen\",\"top_units\":\"screen\"},\"id\":\"64a3f185-3036-42dc-912b-280edb22e270\",\"type\":\"BoxAnnotation\"},{\"attributes\":{},\"id\":\"2cd9e4f0-8465-4c2d-8af4-6909e0877fd2\",\"type\":\"CategoricalTicker\"},{\"attributes\":{\"fill_color\":{\"value\":\"#1f77b4\"},\"line_color\":{\"value\":\"#1f77b4\"},\"top\":{\"field\":\"flux\"},\"width\":{\"value\":0.9},\"x\":{\"field\":\"band\"}},\"id\":\"7c9e77d7-1976-4292-9f8d-6ea64b02a591\",\"type\":\"VBar\"},{\"attributes\":{},\"id\":\"1803be0a-2654-4e0d-8eec-2471b9c5ed01\",\"type\":\"BasicTicker\"},{\"attributes\":{\"overlay\":{\"id\":\"971e8132-2859-4662-8fde-55aa6824379d\",\"type\":\"BoxAnnotation\"}},\"id\":\"ef62e0de-0a25-4bb2-9dc7-65c7f278d4ce\",\"type\":\"BoxZoomTool\"},{\"attributes\":{\"bottom_units\":\"screen\",\"fill_alpha\":{\"value\":0.5},\"fill_color\":{\"value\":\"lightgrey\"},\"left_units\":\"screen\",\"level\":\"overlay\",\"line_alpha\":{\"value\":1.0},\"line_color\":{\"value\":\"black\"},\"line_dash\":[4,4],\"line_width\":{\"value\":2},\"plot\":null,\"render_mode\":\"css\",\"right_units\":\"screen\",\"top_units\":\"screen\"},\"id\":\"dcff41b1-d817-452e-ae8b-779cf959f430\",\"type\":\"BoxAnnotation\"},{\"attributes\":{},\"id\":\"2cd19563-d500-4d40-aa47-dfbc141034e9\",\"type\":\"LinearScale\"},{\"attributes\":{\"callback\":null,\"factors\":[\"1\",\"2\",\"3\",\"4\",\"5\",\"6\",\"7\",\"8\",\"9\",\"10\",\"11\"]},\"id\":\"b0c34c02-d3c1-4a32-90b1-f85baf8bc89d\",\"type\":\"FactorRange\"},{\"attributes\":{},\"id\":\"71dfed54-4bd4-454e-ad23-164b592229d9\",\"type\":\"BasicTicker\"},{\"attributes\":{\"callback\":null,\"data\":{\"band\":[\"1\",\"2\",\"3\",\"4\",\"5\",\"6\",\"7\",\"8\",\"9\",\"10\",\"11\"],\"flux\":{\"__ndarray__\":\"AEDdJAaBZb8Asg5HV+nAvwA2IEJcueC/AAeY+Q5+tj/A8wOyMnXIPyAWSPVCprm/QFhl8EEZsD/ga9jnGC20vwDdJRad0ZM/AJDEy9O5oj8Ad2DnQ6NtPw==\",\"dtype\":\"float64\",\"shape\":[11]}},\"selected\":{\"id\":\"d4d40250-cbc3-43ab-8905-e665bb6756a9\",\"type\":\"Selection\"},\"selection_policy\":{\"id\":\"f91bd732-0095-4d76-bf42-8671e6e37fc5\",\"type\":\"UnionRenderers\"}},\"id\":\"57a9afd3-8629-4cbb-a79d-21994afcd2db\",\"type\":\"ColumnDataSource\"},{\"attributes\":{\"axis_label\":\"spectral band\",\"formatter\":{\"id\":\"81baf9bc-f7e4-4caf-9f71-791cfe4024dc\",\"type\":\"CategoricalTickFormatter\"},\"plot\":{\"id\":\"ac1a3c4e-0ba7-4661-b34a-20231823e471\",\"subtype\":\"Figure\",\"type\":\"Plot\"},\"ticker\":{\"id\":\"fbefeab0-bb54-49e0-92bd-036367b24693\",\"type\":\"CategoricalTicker\"}},\"id\":\"e0e998d6-0892-4081-af67-4b0f889636a9\",\"type\":\"CategoricalAxis\"},{\"attributes\":{},\"id\":\"b8ee9cea-5f87-4d24-84ad-8d1cbf9e7f2c\",\"type\":\"UnionRenderers\"},{\"attributes\":{},\"id\":\"b1bad97f-5a7f-4af2-ad6e-4b5c0267a868\",\"type\":\"WheelZoomTool\"},{\"attributes\":{\"axis_label\":\"flux (W m-2)\",\"formatter\":{\"id\":\"4d7b8f8c-5fe7-406c-b3a3-ec9d28b6da04\",\"type\":\"BasicTickFormatter\"},\"plot\":{\"id\":\"ac1a3c4e-0ba7-4661-b34a-20231823e471\",\"subtype\":\"Figure\",\"type\":\"Plot\"},\"ticker\":{\"id\":\"b8fe4796-5042-47ec-bbac-bb2bb96e15a5\",\"type\":\"BasicTicker\"}},\"id\":\"aa753ea3-33f1-4770-beff-47b0ac029fb9\",\"type\":\"LinearAxis\"},{\"attributes\":{\"below\":[{\"id\":\"b16014a9-ba93-425d-8a03-868124e0d44d\",\"type\":\"CategoricalAxis\"}],\"left\":[{\"id\":\"8e181362-73dc-40da-a72d-6fd553ab50d7\",\"type\":\"LinearAxis\"}],\"plot_height\":300,\"plot_width\":300,\"renderers\":[{\"id\":\"b16014a9-ba93-425d-8a03-868124e0d44d\",\"type\":\"CategoricalAxis\"},{\"id\":\"ca600ff6-0a14-418a-a7cc-983ac74eec34\",\"type\":\"Grid\"},{\"id\":\"8e181362-73dc-40da-a72d-6fd553ab50d7\",\"type\":\"LinearAxis\"},{\"id\":\"83af8c4f-a3ae-440f-9cb2-4efce61455d0\",\"type\":\"Grid\"},{\"id\":\"dcff41b1-d817-452e-ae8b-779cf959f430\",\"type\":\"BoxAnnotation\"},{\"id\":\"0a3788ca-29cb-4af6-ab0d-bac235b04af5\",\"type\":\"GlyphRenderer\"}],\"title\":{\"id\":\"754719d3-a681-43c4-96d2-deb34d710eff\",\"type\":\"Title\"},\"toolbar\":{\"id\":\"f5a0a0a3-961f-43c0-8b36-364f45f9107b\",\"type\":\"Toolbar\"},\"toolbar_location\":null,\"x_range\":{\"id\":\"b0c34c02-d3c1-4a32-90b1-f85baf8bc89d\",\"type\":\"FactorRange\"},\"x_scale\":{\"id\":\"2ccb723c-9b48-45b4-b95a-8361cf46f060\",\"type\":\"CategoricalScale\"},\"y_range\":{\"id\":\"830bc51d-174e-42db-8047-3a4475dced2e\",\"type\":\"DataRange1d\"},\"y_scale\":{\"id\":\"83c3962e-d337-409f-8847-08329cdc18d4\",\"type\":\"LinearScale\"}},\"id\":\"8802efdc-8ee3-4403-80f9-a269b54552a2\",\"subtype\":\"Figure\",\"type\":\"Plot\"},{\"attributes\":{\"axis_label\":\"flux (W m-2)\",\"formatter\":{\"id\":\"00e5507a-b610-47f7-9cd5-fb032b62cb20\",\"type\":\"BasicTickFormatter\"},\"plot\":{\"id\":\"9c482bb9-7b38-4841-8c29-705ecb44505d\",\"subtype\":\"Figure\",\"type\":\"Plot\"},\"ticker\":{\"id\":\"1803be0a-2654-4e0d-8eec-2471b9c5ed01\",\"type\":\"BasicTicker\"}},\"id\":\"e35ecfe2-e18f-427b-8f40-fccee1694350\",\"type\":\"LinearAxis\"},{\"attributes\":{},\"id\":\"d4379afa-8358-498c-b695-a387b053000a\",\"type\":\"HelpTool\"},{\"attributes\":{\"callback\":null,\"factors\":[\"1\",\"2\",\"3\",\"4\",\"5\",\"6\",\"7\",\"8\",\"9\",\"10\",\"11\"]},\"id\":\"23ffd22c-ac7a-4794-8235-b348485718da\",\"type\":\"FactorRange\"},{\"attributes\":{\"axis_label\":\"spectral band\",\"formatter\":{\"id\":\"e7e2d259-af34-4d17-94c8-255341d701e3\",\"type\":\"CategoricalTickFormatter\"},\"plot\":{\"id\":\"9c482bb9-7b38-4841-8c29-705ecb44505d\",\"subtype\":\"Figure\",\"type\":\"Plot\"},\"ticker\":{\"id\":\"2cd9e4f0-8465-4c2d-8af4-6909e0877fd2\",\"type\":\"CategoricalTicker\"}},\"id\":\"ea3de90f-041d-4ec3-a41f-d87b760c97a5\",\"type\":\"CategoricalAxis\"},{\"attributes\":{},\"id\":\"9e1c2fc8-d4aa-4456-9f75-0543a057fb17\",\"type\":\"CategoricalTicker\"},{\"attributes\":{},\"id\":\"83c3962e-d337-409f-8847-08329cdc18d4\",\"type\":\"LinearScale\"},{\"attributes\":{\"source\":{\"id\":\"62c8ceb3-e008-4482-bb81-ed8d596a1bed\",\"type\":\"ColumnDataSource\"}},\"id\":\"2b81b435-8e1e-4388-bcc0-dafeeabd92f3\",\"type\":\"CDSView\"},{\"attributes\":{\"fill_alpha\":{\"value\":0.1},\"fill_color\":{\"value\":\"#1f77b4\"},\"line_alpha\":{\"value\":0.1},\"line_color\":{\"value\":\"#1f77b4\"},\"top\":{\"field\":\"flux\"},\"width\":{\"value\":0.9},\"x\":{\"field\":\"band\"}},\"id\":\"c5423d9c-8705-4731-96d4-10baba1a01b0\",\"type\":\"VBar\"},{\"attributes\":{},\"id\":\"e06608b1-158f-490c-bbf6-a7bcf6eeae35\",\"type\":\"UnionRenderers\"},{\"attributes\":{\"children\":[{\"id\":\"589b4ed1-f45f-49da-8343-db3b3caff134\",\"type\":\"Row\"}]},\"id\":\"eb52ce63-e6e0-481f-b10d-6c6a1e8dbf03\",\"type\":\"Column\"},{\"attributes\":{\"below\":[{\"id\":\"e0e998d6-0892-4081-af67-4b0f889636a9\",\"type\":\"CategoricalAxis\"}],\"left\":[{\"id\":\"aa753ea3-33f1-4770-beff-47b0ac029fb9\",\"type\":\"LinearAxis\"}],\"plot_height\":300,\"plot_width\":300,\"renderers\":[{\"id\":\"e0e998d6-0892-4081-af67-4b0f889636a9\",\"type\":\"CategoricalAxis\"},{\"id\":\"c3f54c0a-25cf-4eea-a58c-1b01cd64ece6\",\"type\":\"Grid\"},{\"id\":\"aa753ea3-33f1-4770-beff-47b0ac029fb9\",\"type\":\"LinearAxis\"},{\"id\":\"28cf316f-9d7f-4c2b-97c3-2da92987a985\",\"type\":\"Grid\"},{\"id\":\"64a3f185-3036-42dc-912b-280edb22e270\",\"type\":\"BoxAnnotation\"},{\"id\":\"c6792490-46ef-43cb-9425-74ac39692612\",\"type\":\"GlyphRenderer\"}],\"title\":{\"id\":\"de835de2-1b53-4637-bda3-482a99525642\",\"type\":\"Title\"},\"toolbar\":{\"id\":\"7c4b8a6c-2609-461a-8237-b369f7fb9a4f\",\"type\":\"Toolbar\"},\"toolbar_location\":null,\"x_range\":{\"id\":\"23ffd22c-ac7a-4794-8235-b348485718da\",\"type\":\"FactorRange\"},\"x_scale\":{\"id\":\"923f9bba-e4c9-4d0d-9840-b0b65c3bcc29\",\"type\":\"CategoricalScale\"},\"y_range\":{\"id\":\"dc4f106b-bd32-4dc9-91ed-c2f433bd9fdb\",\"type\":\"DataRange1d\"},\"y_scale\":{\"id\":\"1209b96f-e4d0-4e70-a57a-3e7f46a8e7f5\",\"type\":\"LinearScale\"}},\"id\":\"ac1a3c4e-0ba7-4661-b34a-20231823e471\",\"subtype\":\"Figure\",\"type\":\"Plot\"},{\"attributes\":{\"bottom_units\":\"screen\",\"fill_alpha\":{\"value\":0.5},\"fill_color\":{\"value\":\"lightgrey\"},\"left_units\":\"screen\",\"level\":\"overlay\",\"line_alpha\":{\"value\":1.0},\"line_color\":{\"value\":\"black\"},\"line_dash\":[4,4],\"line_width\":{\"value\":2},\"plot\":null,\"render_mode\":\"css\",\"right_units\":\"screen\",\"top_units\":\"screen\"},\"id\":\"971e8132-2859-4662-8fde-55aa6824379d\",\"type\":\"BoxAnnotation\"},{\"attributes\":{},\"id\":\"81baf9bc-f7e4-4caf-9f71-791cfe4024dc\",\"type\":\"CategoricalTickFormatter\"},{\"attributes\":{\"callback\":null},\"id\":\"dc4f106b-bd32-4dc9-91ed-c2f433bd9fdb\",\"type\":\"DataRange1d\"},{\"attributes\":{\"active_drag\":\"auto\",\"active_inspect\":\"auto\",\"active_scroll\":\"auto\",\"active_tap\":\"auto\",\"tools\":[{\"id\":\"a87009c4-5cde-462b-9996-fcaf7dd857cb\",\"type\":\"PanTool\"},{\"id\":\"9277beb4-a650-4b44-baf3-c173a48d6f08\",\"type\":\"WheelZoomTool\"},{\"id\":\"82f27273-a63f-4cae-943c-b78fee5a18ed\",\"type\":\"BoxZoomTool\"},{\"id\":\"6a17729c-6542-4090-8bd8-8bbe0891c1c6\",\"type\":\"SaveTool\"},{\"id\":\"2472ed5c-0a3b-4638-9e81-0211f7f464bb\",\"type\":\"ResetTool\"},{\"id\":\"3201df55-55b5-4278-aea3-6361d3af86af\",\"type\":\"HelpTool\"}]},\"id\":\"f5a0a0a3-961f-43c0-8b36-364f45f9107b\",\"type\":\"Toolbar\"},{\"attributes\":{},\"id\":\"fbefeab0-bb54-49e0-92bd-036367b24693\",\"type\":\"CategoricalTicker\"},{\"attributes\":{\"children\":[{\"id\":\"60e5ba71-0448-4a67-985b-8e18def21a44\",\"type\":\"ToolbarBox\"},{\"id\":\"eb52ce63-e6e0-481f-b10d-6c6a1e8dbf03\",\"type\":\"Column\"}]},\"id\":\"0afaec3b-41ce-4e02-b9e9-9aa24b9778a1\",\"type\":\"Column\"},{\"attributes\":{\"source\":{\"id\":\"57a9afd3-8629-4cbb-a79d-21994afcd2db\",\"type\":\"ColumnDataSource\"}},\"id\":\"55afccc5-aa91-49a7-b660-1e1830944631\",\"type\":\"CDSView\"},{\"attributes\":{\"axis_label\":\"flux (W m-2)\",\"formatter\":{\"id\":\"30f97b32-a93c-467e-b323-eaae45d37e46\",\"type\":\"BasicTickFormatter\"},\"plot\":{\"id\":\"8802efdc-8ee3-4403-80f9-a269b54552a2\",\"subtype\":\"Figure\",\"type\":\"Plot\"},\"ticker\":{\"id\":\"71dfed54-4bd4-454e-ad23-164b592229d9\",\"type\":\"BasicTicker\"}},\"id\":\"8e181362-73dc-40da-a72d-6fd553ab50d7\",\"type\":\"LinearAxis\"},{\"attributes\":{},\"id\":\"a87009c4-5cde-462b-9996-fcaf7dd857cb\",\"type\":\"PanTool\"},{\"attributes\":{},\"id\":\"6cd73d8d-ea4e-4cff-aec1-e1deea30e4f5\",\"type\":\"ResetTool\"},{\"attributes\":{\"dimension\":1,\"plot\":{\"id\":\"8802efdc-8ee3-4403-80f9-a269b54552a2\",\"subtype\":\"Figure\",\"type\":\"Plot\"},\"ticker\":{\"id\":\"71dfed54-4bd4-454e-ad23-164b592229d9\",\"type\":\"BasicTicker\"}},\"id\":\"83af8c4f-a3ae-440f-9cb2-4efce61455d0\",\"type\":\"Grid\"},{\"attributes\":{},\"id\":\"b8fe4796-5042-47ec-bbac-bb2bb96e15a5\",\"type\":\"BasicTicker\"},{\"attributes\":{\"callback\":null,\"data\":{\"band\":[\"1\",\"2\",\"3\",\"4\",\"5\",\"6\",\"7\",\"8\",\"9\",\"10\",\"11\"],\"flux\":{\"__ndarray__\":\"gOIKWg6Vxz8AZUNIJ1zKP8BwLN5+r9w/QMdlApwjxj+ArqKa7WW4vwBJ8fEJ2bU/gB6GVidnzD+AUnx8QnawPwDBKhcq/4o/gEM6lz1kpb+AJgqhQRKPPw==\",\"dtype\":\"float64\",\"shape\":[11]}},\"selected\":{\"id\":\"0e16c144-b2c3-4c5a-b64e-a4058d024929\",\"type\":\"Selection\"},\"selection_policy\":{\"id\":\"e06608b1-158f-490c-bbf6-a7bcf6eeae35\",\"type\":\"UnionRenderers\"}},\"id\":\"62c8ceb3-e008-4482-bb81-ed8d596a1bed\",\"type\":\"ColumnDataSource\"},{\"attributes\":{\"active_drag\":\"auto\",\"active_inspect\":\"auto\",\"active_scroll\":\"auto\",\"active_tap\":\"auto\",\"tools\":[{\"id\":\"ba837dbe-5e6e-4bd2-8eb5-e39c073c9d88\",\"type\":\"PanTool\"},{\"id\":\"b1bad97f-5a7f-4af2-ad6e-4b5c0267a868\",\"type\":\"WheelZoomTool\"},{\"id\":\"a7e582b6-498d-4f76-adf9-003662a9ec89\",\"type\":\"BoxZoomTool\"},{\"id\":\"035b22e8-5c93-4cdb-9786-bc0fba37c17f\",\"type\":\"SaveTool\"},{\"id\":\"95dd5cb6-810e-49a5-a3ae-7f9ad35ad563\",\"type\":\"ResetTool\"},{\"id\":\"1d1b8197-5298-49cf-9c87-65260e6d1fa8\",\"type\":\"HelpTool\"}]},\"id\":\"7c4b8a6c-2609-461a-8237-b369f7fb9a4f\",\"type\":\"Toolbar\"},{\"attributes\":{\"plot\":{\"id\":\"9c482bb9-7b38-4841-8c29-705ecb44505d\",\"subtype\":\"Figure\",\"type\":\"Plot\"},\"ticker\":{\"id\":\"2cd9e4f0-8465-4c2d-8af4-6909e0877fd2\",\"type\":\"CategoricalTicker\"}},\"id\":\"55288396-3f84-4964-95ab-8ab2544a412c\",\"type\":\"Grid\"},{\"attributes\":{\"data_source\":{\"id\":\"2ff358ab-66b6-4216-811b-78238b588228\",\"type\":\"ColumnDataSource\"},\"glyph\":{\"id\":\"02ec48bd-d3f9-49e9-b70b-f492cd28ad9d\",\"type\":\"VBar\"},\"hover_glyph\":null,\"muted_glyph\":null,\"nonselection_glyph\":{\"id\":\"c5423d9c-8705-4731-96d4-10baba1a01b0\",\"type\":\"VBar\"},\"selection_glyph\":null,\"view\":{\"id\":\"842b0d3a-beac-4edf-9d81-1279a6e048a5\",\"type\":\"CDSView\"}},\"id\":\"0a3788ca-29cb-4af6-ab0d-bac235b04af5\",\"type\":\"GlyphRenderer\"},{\"attributes\":{},\"id\":\"e7e2d259-af34-4d17-94c8-255341d701e3\",\"type\":\"CategoricalTickFormatter\"},{\"attributes\":{\"overlay\":{\"id\":\"dcff41b1-d817-452e-ae8b-779cf959f430\",\"type\":\"BoxAnnotation\"}},\"id\":\"82f27273-a63f-4cae-943c-b78fee5a18ed\",\"type\":\"BoxZoomTool\"},{\"attributes\":{\"dimension\":1,\"plot\":{\"id\":\"9c482bb9-7b38-4841-8c29-705ecb44505d\",\"subtype\":\"Figure\",\"type\":\"Plot\"},\"ticker\":{\"id\":\"1803be0a-2654-4e0d-8eec-2471b9c5ed01\",\"type\":\"BasicTicker\"}},\"id\":\"abde115e-42d8-461d-9480-1680905746d6\",\"type\":\"Grid\"},{\"attributes\":{},\"id\":\"69d5ab8f-16d5-4370-a25d-b935276c9d0f\",\"type\":\"CategoricalTickFormatter\"},{\"attributes\":{},\"id\":\"ba837dbe-5e6e-4bd2-8eb5-e39c073c9d88\",\"type\":\"PanTool\"},{\"attributes\":{\"below\":[{\"id\":\"ea3de90f-041d-4ec3-a41f-d87b760c97a5\",\"type\":\"CategoricalAxis\"}],\"left\":[{\"id\":\"e35ecfe2-e18f-427b-8f40-fccee1694350\",\"type\":\"LinearAxis\"}],\"plot_height\":300,\"plot_width\":300,\"renderers\":[{\"id\":\"ea3de90f-041d-4ec3-a41f-d87b760c97a5\",\"type\":\"CategoricalAxis\"},{\"id\":\"55288396-3f84-4964-95ab-8ab2544a412c\",\"type\":\"Grid\"},{\"id\":\"e35ecfe2-e18f-427b-8f40-fccee1694350\",\"type\":\"LinearAxis\"},{\"id\":\"abde115e-42d8-461d-9480-1680905746d6\",\"type\":\"Grid\"},{\"id\":\"971e8132-2859-4662-8fde-55aa6824379d\",\"type\":\"BoxAnnotation\"},{\"id\":\"5806d700-9bcd-400e-9c76-87fe4482bab3\",\"type\":\"GlyphRenderer\"}],\"title\":{\"id\":\"0583de9f-ae09-4452-945b-8434099e55ad\",\"type\":\"Title\"},\"toolbar\":{\"id\":\"440bfb41-f2e6-474f-8b48-7bb76edbbb21\",\"type\":\"Toolbar\"},\"toolbar_location\":null,\"x_range\":{\"id\":\"b2540c3c-d3f1-4414-ad67-6d26afd00af0\",\"type\":\"FactorRange\"},\"x_scale\":{\"id\":\"91f04883-1f2f-47a0-b2ec-bc57b32571c2\",\"type\":\"CategoricalScale\"},\"y_range\":{\"id\":\"2d921649-68ac-4ec6-a3f4-7d8c53b601d0\",\"type\":\"DataRange1d\"},\"y_scale\":{\"id\":\"2cd19563-d500-4d40-aa47-dfbc141034e9\",\"type\":\"LinearScale\"}},\"id\":\"9c482bb9-7b38-4841-8c29-705ecb44505d\",\"subtype\":\"Figure\",\"type\":\"Plot\"},{\"attributes\":{},\"id\":\"dded5508-bd5a-4cf6-ab67-bd382d9ac0db\",\"type\":\"SaveTool\"},{\"attributes\":{\"dimension\":1,\"plot\":{\"id\":\"ac1a3c4e-0ba7-4661-b34a-20231823e471\",\"subtype\":\"Figure\",\"type\":\"Plot\"},\"ticker\":{\"id\":\"b8fe4796-5042-47ec-bbac-bb2bb96e15a5\",\"type\":\"BasicTicker\"}},\"id\":\"28cf316f-9d7f-4c2b-97c3-2da92987a985\",\"type\":\"Grid\"},{\"attributes\":{\"data_source\":{\"id\":\"57a9afd3-8629-4cbb-a79d-21994afcd2db\",\"type\":\"ColumnDataSource\"},\"glyph\":{\"id\":\"7c9e77d7-1976-4292-9f8d-6ea64b02a591\",\"type\":\"VBar\"},\"hover_glyph\":null,\"muted_glyph\":null,\"nonselection_glyph\":{\"id\":\"8d0500f0-4b82-423f-b602-69c8e2b4ebf9\",\"type\":\"VBar\"},\"selection_glyph\":null,\"view\":{\"id\":\"55afccc5-aa91-49a7-b660-1e1830944631\",\"type\":\"CDSView\"}},\"id\":\"c6792490-46ef-43cb-9425-74ac39692612\",\"type\":\"GlyphRenderer\"},{\"attributes\":{\"plot\":{\"id\":\"8802efdc-8ee3-4403-80f9-a269b54552a2\",\"subtype\":\"Figure\",\"type\":\"Plot\"},\"ticker\":{\"id\":\"9e1c2fc8-d4aa-4456-9f75-0543a057fb17\",\"type\":\"CategoricalTicker\"}},\"id\":\"ca600ff6-0a14-418a-a7cc-983ac74eec34\",\"type\":\"Grid\"},{\"attributes\":{\"tools\":[{\"id\":\"a87009c4-5cde-462b-9996-fcaf7dd857cb\",\"type\":\"PanTool\"},{\"id\":\"9277beb4-a650-4b44-baf3-c173a48d6f08\",\"type\":\"WheelZoomTool\"},{\"id\":\"82f27273-a63f-4cae-943c-b78fee5a18ed\",\"type\":\"BoxZoomTool\"},{\"id\":\"6a17729c-6542-4090-8bd8-8bbe0891c1c6\",\"type\":\"SaveTool\"},{\"id\":\"2472ed5c-0a3b-4638-9e81-0211f7f464bb\",\"type\":\"ResetTool\"},{\"id\":\"3201df55-55b5-4278-aea3-6361d3af86af\",\"type\":\"HelpTool\"},{\"id\":\"ba837dbe-5e6e-4bd2-8eb5-e39c073c9d88\",\"type\":\"PanTool\"},{\"id\":\"b1bad97f-5a7f-4af2-ad6e-4b5c0267a868\",\"type\":\"WheelZoomTool\"},{\"id\":\"a7e582b6-498d-4f76-adf9-003662a9ec89\",\"type\":\"BoxZoomTool\"},{\"id\":\"035b22e8-5c93-4cdb-9786-bc0fba37c17f\",\"type\":\"SaveTool\"},{\"id\":\"95dd5cb6-810e-49a5-a3ae-7f9ad35ad563\",\"type\":\"ResetTool\"},{\"id\":\"1d1b8197-5298-49cf-9c87-65260e6d1fa8\",\"type\":\"HelpTool\"},{\"id\":\"2daa7c92-48a1-4453-8703-fc45a7cf2669\",\"type\":\"PanTool\"},{\"id\":\"c90caa73-cf73-45aa-94d4-6f148fd1e9d1\",\"type\":\"WheelZoomTool\"},{\"id\":\"ef62e0de-0a25-4bb2-9dc7-65c7f278d4ce\",\"type\":\"BoxZoomTool\"},{\"id\":\"dded5508-bd5a-4cf6-ab67-bd382d9ac0db\",\"type\":\"SaveTool\"},{\"id\":\"6cd73d8d-ea4e-4cff-aec1-e1deea30e4f5\",\"type\":\"ResetTool\"},{\"id\":\"d4379afa-8358-498c-b695-a387b053000a\",\"type\":\"HelpTool\"}]},\"id\":\"bb759cbc-c745-4db5-97aa-3629837e593b\",\"type\":\"ProxyToolbar\"},{\"attributes\":{},\"id\":\"4d7b8f8c-5fe7-406c-b3a3-ec9d28b6da04\",\"type\":\"BasicTickFormatter\"},{\"attributes\":{},\"id\":\"30f97b32-a93c-467e-b323-eaae45d37e46\",\"type\":\"BasicTickFormatter\"},{\"attributes\":{\"children\":[{\"id\":\"8802efdc-8ee3-4403-80f9-a269b54552a2\",\"subtype\":\"Figure\",\"type\":\"Plot\"},{\"id\":\"ac1a3c4e-0ba7-4661-b34a-20231823e471\",\"subtype\":\"Figure\",\"type\":\"Plot\"},{\"id\":\"9c482bb9-7b38-4841-8c29-705ecb44505d\",\"subtype\":\"Figure\",\"type\":\"Plot\"}]},\"id\":\"589b4ed1-f45f-49da-8343-db3b3caff134\",\"type\":\"Row\"},{\"attributes\":{},\"id\":\"9277beb4-a650-4b44-baf3-c173a48d6f08\",\"type\":\"WheelZoomTool\"},{\"attributes\":{},\"id\":\"3201df55-55b5-4278-aea3-6361d3af86af\",\"type\":\"HelpTool\"},{\"attributes\":{\"fill_color\":{\"value\":\"#1f77b4\"},\"line_color\":{\"value\":\"#1f77b4\"},\"top\":{\"field\":\"flux\"},\"width\":{\"value\":0.9},\"x\":{\"field\":\"band\"}},\"id\":\"5aae9406-7103-49d9-a787-8c67d1317537\",\"type\":\"VBar\"},{\"attributes\":{\"data_source\":{\"id\":\"62c8ceb3-e008-4482-bb81-ed8d596a1bed\",\"type\":\"ColumnDataSource\"},\"glyph\":{\"id\":\"5aae9406-7103-49d9-a787-8c67d1317537\",\"type\":\"VBar\"},\"hover_glyph\":null,\"muted_glyph\":null,\"nonselection_glyph\":{\"id\":\"8ec36cac-effa-4049-a991-0b2a8c008ee2\",\"type\":\"VBar\"},\"selection_glyph\":null,\"view\":{\"id\":\"2b81b435-8e1e-4388-bcc0-dafeeabd92f3\",\"type\":\"CDSView\"}},\"id\":\"5806d700-9bcd-400e-9c76-87fe4482bab3\",\"type\":\"GlyphRenderer\"},{\"attributes\":{},\"id\":\"d4d40250-cbc3-43ab-8905-e665bb6756a9\",\"type\":\"Selection\"},{\"attributes\":{},\"id\":\"2ccb723c-9b48-45b4-b95a-8361cf46f060\",\"type\":\"CategoricalScale\"},{\"attributes\":{\"source\":{\"id\":\"2ff358ab-66b6-4216-811b-78238b588228\",\"type\":\"ColumnDataSource\"}},\"id\":\"842b0d3a-beac-4edf-9d81-1279a6e048a5\",\"type\":\"CDSView\"},{\"attributes\":{},\"id\":\"f91bd732-0095-4d76-bf42-8671e6e37fc5\",\"type\":\"UnionRenderers\"},{\"attributes\":{\"fill_color\":{\"value\":\"#1f77b4\"},\"line_color\":{\"value\":\"#1f77b4\"},\"top\":{\"field\":\"flux\"},\"width\":{\"value\":0.9},\"x\":{\"field\":\"band\"}},\"id\":\"02ec48bd-d3f9-49e9-b70b-f492cd28ad9d\",\"type\":\"VBar\"},{\"attributes\":{},\"id\":\"0e16c144-b2c3-4c5a-b64e-a4058d024929\",\"type\":\"Selection\"},{\"attributes\":{\"fill_alpha\":{\"value\":0.1},\"fill_color\":{\"value\":\"#1f77b4\"},\"line_alpha\":{\"value\":0.1},\"line_color\":{\"value\":\"#1f77b4\"},\"top\":{\"field\":\"flux\"},\"width\":{\"value\":0.9},\"x\":{\"field\":\"band\"}},\"id\":\"8d0500f0-4b82-423f-b602-69c8e2b4ebf9\",\"type\":\"VBar\"},{\"attributes\":{\"plot\":null,\"text\":\"SFC flux. CLIRAD (single-run) - CRD.\"},\"id\":\"de835de2-1b53-4637-bda3-482a99525642\",\"type\":\"Title\"},{\"attributes\":{\"axis_label\":\"spectral band\",\"formatter\":{\"id\":\"69d5ab8f-16d5-4370-a25d-b935276c9d0f\",\"type\":\"CategoricalTickFormatter\"},\"plot\":{\"id\":\"8802efdc-8ee3-4403-80f9-a269b54552a2\",\"subtype\":\"Figure\",\"type\":\"Plot\"},\"ticker\":{\"id\":\"9e1c2fc8-d4aa-4456-9f75-0543a057fb17\",\"type\":\"CategoricalTicker\"}},\"id\":\"b16014a9-ba93-425d-8a03-868124e0d44d\",\"type\":\"CategoricalAxis\"},{\"attributes\":{\"plot\":{\"id\":\"ac1a3c4e-0ba7-4661-b34a-20231823e471\",\"subtype\":\"Figure\",\"type\":\"Plot\"},\"ticker\":{\"id\":\"fbefeab0-bb54-49e0-92bd-036367b24693\",\"type\":\"CategoricalTicker\"}},\"id\":\"c3f54c0a-25cf-4eea-a58c-1b01cd64ece6\",\"type\":\"Grid\"},{\"attributes\":{\"fill_alpha\":{\"value\":0.1},\"fill_color\":{\"value\":\"#1f77b4\"},\"line_alpha\":{\"value\":0.1},\"line_color\":{\"value\":\"#1f77b4\"},\"top\":{\"field\":\"flux\"},\"width\":{\"value\":0.9},\"x\":{\"field\":\"band\"}},\"id\":\"8ec36cac-effa-4049-a991-0b2a8c008ee2\",\"type\":\"VBar\"},{\"attributes\":{\"callback\":null},\"id\":\"830bc51d-174e-42db-8047-3a4475dced2e\",\"type\":\"DataRange1d\"},{\"attributes\":{\"toolbar\":{\"id\":\"bb759cbc-c745-4db5-97aa-3629837e593b\",\"type\":\"ProxyToolbar\"},\"toolbar_location\":\"above\"},\"id\":\"60e5ba71-0448-4a67-985b-8e18def21a44\",\"type\":\"ToolbarBox\"},{\"attributes\":{},\"id\":\"1209b96f-e4d0-4e70-a57a-3e7f46a8e7f5\",\"type\":\"LinearScale\"}],\"root_ids\":[\"0afaec3b-41ce-4e02-b9e9-9aa24b9778a1\"]},\"title\":\"Bokeh Application\",\"version\":\"0.12.16\"}};\n",
       "  var render_items = [{\"docid\":\"55e26fd8-826f-420a-82b8-64d6f68284ae\",\"elementid\":\"8898421f-a5df-478f-9d7b-6e492b1f473a\",\"modelid\":\"0afaec3b-41ce-4e02-b9e9-9aa24b9778a1\"}];\n",
       "  root.Bokeh.embed.embed_items_notebook(docs_json, render_items);\n",
       "\n",
       "  }\n",
       "  if (root.Bokeh !== undefined) {\n",
       "    embed_document(root);\n",
       "  } else {\n",
       "    var attempts = 0;\n",
       "    var timer = setInterval(function(root) {\n",
       "      if (root.Bokeh !== undefined) {\n",
       "        embed_document(root);\n",
       "        clearInterval(timer);\n",
       "      }\n",
       "      attempts++;\n",
       "      if (attempts > 100) {\n",
       "        console.log(\"Bokeh: ERROR: Unable to run BokehJS code because BokehJS library is missing\")\n",
       "        clearInterval(timer);\n",
       "      }\n",
       "    }, 10, root)\n",
       "  }\n",
       "})(window);"
      ],
      "application/vnd.bokehjs_exec.v0+json": ""
     },
     "metadata": {
      "application/vnd.bokehjs_exec.v0+json": {
       "id": "0afaec3b-41ce-4e02-b9e9-9aa24b9778a1"
      }
     },
     "output_type": "display_data"
    },
    {
     "data": {
      "text/markdown": [
       "*FIGURE.* Difference between CLIRAD and CRD in TOA, SFC and net atmosphere flux, in each spectral band."
      ],
      "text/plain": [
       "<IPython.core.display.Markdown object>"
      ]
     },
     "metadata": {},
     "output_type": "display_data"
    },
    {
     "data": {
      "text/html": [
       "<div>\n",
       "<style scoped>\n",
       "    .dataframe tbody tr th:only-of-type {\n",
       "        vertical-align: middle;\n",
       "    }\n",
       "\n",
       "    .dataframe tbody tr th {\n",
       "        vertical-align: top;\n",
       "    }\n",
       "\n",
       "    .dataframe thead th {\n",
       "        text-align: right;\n",
       "    }\n",
       "</style>\n",
       "<table border=\"1\" class=\"dataframe\">\n",
       "  <thead>\n",
       "    <tr style=\"text-align: right;\">\n",
       "      <th></th>\n",
       "      <th>OLR flux</th>\n",
       "      <th>SFC flux</th>\n",
       "      <th>ATM heating</th>\n",
       "    </tr>\n",
       "    <tr>\n",
       "      <th>Sum over bands</th>\n",
       "      <th></th>\n",
       "      <th></th>\n",
       "      <th></th>\n",
       "    </tr>\n",
       "  </thead>\n",
       "  <tbody>\n",
       "    <tr>\n",
       "      <th>CLIRAD (single-run) - CRD</th>\n",
       "      <td>0.84</td>\n",
       "      <td>-0.44</td>\n",
       "      <td>1.27</td>\n",
       "    </tr>\n",
       "    <tr>\n",
       "      <th>CRD</th>\n",
       "      <td>-201.06</td>\n",
       "      <td>166.03</td>\n",
       "      <td>-119.67</td>\n",
       "    </tr>\n",
       "  </tbody>\n",
       "</table>\n",
       "</div>"
      ],
      "text/plain": [
       "                           OLR flux  SFC flux  ATM heating\n",
       "Sum over bands                                            \n",
       "CLIRAD (single-run) - CRD      0.84     -0.44         1.27\n",
       "CRD                         -201.06    166.03      -119.67"
      ]
     },
     "metadata": {},
     "output_type": "display_data"
    },
    {
     "data": {
      "text/markdown": [
       "*TABLE.* Difference between CLIRAD and CRD in TOA, SFC and net atmosphere flux, over all spectral bands. CRD's TOA, SFC and net atmosphere flux, over all spectral bands."
      ],
      "text/plain": [
       "<IPython.core.display.Markdown object>"
      ]
     },
     "metadata": {},
     "output_type": "display_data"
    },
    {
     "data": {
      "text/html": [
       "<a id=\"Cooling_rates._trp.\"></a>"
      ],
      "text/plain": [
       "<IPython.core.display.HTML object>"
      ]
     },
     "metadata": {},
     "output_type": "display_data"
    },
    {
     "data": {
      "text/markdown": [
       "# Cooling rates. trp."
      ],
      "text/plain": [
       "<IPython.core.display.Markdown object>"
      ]
     },
     "metadata": {},
     "output_type": "display_data"
    },
    {
     "data": {
      "text/html": [
       "\n",
       "<div class=\"bk-root\">\n",
       "    <div class=\"bk-plotdiv\" id=\"4f62d4f2-202d-42e0-9fa5-99ad1f966353\"></div>\n",
       "</div>"
      ]
     },
     "metadata": {},
     "output_type": "display_data"
    },
    {
     "data": {
      "application/javascript": [
       "(function(root) {\n",
       "  function embed_document(root) {\n",
       "    \n",
       "  var docs_json = {\"8590daa6-9dd0-4ba0-be96-9bbcb4421924\":{\"roots\":{\"references\":[{\"attributes\":{\"callback\":null,\"end\":0.5596213662811859,\"start\":-1.3413269281465863},\"id\":\"9cfc4197-782a-4fba-a7d9-6d92a8849f28\",\"type\":\"Range1d\"},{\"attributes\":{\"line_alpha\":0.6,\"line_color\":\"#377eb8\",\"line_dash\":[6],\"line_width\":5,\"x\":{\"field\":\"x\"},\"y\":{\"field\":\"y\"}},\"id\":\"0bdea7ca-fae2-474d-9099-7ceb3383c24b\",\"type\":\"Line\"},{\"attributes\":{\"callback\":null,\"data\":{\"x\":{\"__ndarray__\":\"R/KIaN7AVEClCeJMyPNGQOvRhpxr30JAptxzhxx4PkA7SssMElA4QK6Bp3CyUDNAsVXpjES9LkBFhUV0+5coQMHYwqbbySNA6f09nM3nH0CaSd/3eYoZQDmgiAOW8BNAPYqARh3eDEBkm4vCgvr+P9D+5tWhQfY/P8DwKRnSAkBq38kb17ILQDT7IWuSsxFAUr2Rjm0FFkAinq3s9XgbQGCHwtYcqSFAG64kT303J0C7dRDneyooQD9JYrbK8yRA9S3bneHhIUAIymSuUMMcQIkHLe6VEBdAAau3cITREkA6CiNvkQIPQJU39ki7IQlAaAvwok1UA0BXLQiS4+L7P0xzDpJ2hPI/NNuPGMbJ5z91mUVYxqfSPxqwUPSxZca/G11peifD3L8QzNj5t2jTvwzOozTL360/SPJ4VI1VzD9KJ0nXEIncP8yDdlvHt+4/Et49nYLW9z++2teD4Jn+P+568eH/bwFALf5D9lmAAkCiZAicVOkCQPPT4jNKxwJAOjp3wTzBAUBSQsKNGisBQG4OmjqJwQBAJ3sZoHFuAEA5Ar0Sdi0AQGy4rw5+9f8/7W4nSrC3/z8mPr8zj4T/P4UYRHCQS/8/embVKYcF/z+5YXG+LLP+P/qb8BVUgf4/KvafTtyO/j/avAK1Ppv+PwJV9VVm2P0/JFtYlU/n/D9sN+q2fiX6Pw44e41PNPc/Opt+Z/wN9T+x3vcSW1vzP9ofvWQJlvI/8sciQQBW8j80sfkQa17yPzg5qng2r/I/Oh14WJBh8z+VZjnpctj0P6CcrSuCqQBA\",\"dtype\":\"float64\",\"shape\":[75]},\"y\":{\"__ndarray__\":\"GhExyth1ND/Sv8nbtpRIP2vylNV0PVE/aTum7souWD/At0SJ8fVgPw3Iuahxymc/MSNhhJWvcD/bTfBN02d3P2zb5nxnaoA/CD5h5MAGhz8NmeH1TyaQP+zrCsc9p5Y/LbKd76fGnz/bLW5ISEmmPww9YvTcQq8/JV2OstnstT8Er5Y7M8G+P0c+r3jqkcU/5h99k6ZBzj88bCIzFzjVP4enV8oyxN0//yH99nXg5D8qOpLLf0jtP5kqGJXUifQ/c9cS8kHP/D+/DpwzojQEQIEmwoanVwxA4lgXt9HgE0BSSZ2AJuIbQAMJih9jjiNA5q4l5INuK0AwTKYKRj0zQNv5fmq8/DpAaCJseHrtQkB/+zpwzoxKQM3MzMzMeFJAZmZmZmZqWEAAAAAAAFxeQM3MzMzMJmJAmpmZmZkfZUBmZmZmZhhoQDMzMzMzEWtAAAAAAAAKbkBmZmZmZoFwQM3MzMzM/XFAMzMzMzN6c0CamZmZmfZ0QAAAAAAAc3ZAZmZmZmbvd0DNzMzMzGt5QDMzMzMz6HpAmpmZmZlkfEAAAAAAAOF9QGZmZmZmXX9AZmZmZuZsgECamZmZGSuBQM3MzMxM6YFAAAAAAICngkAzMzMzs2WDQGZmZmbmI4RAmpmZmRnihEDNzMzMTKCFQAAAAACAXoZAMzMzM7Mch0BmZmZm5tqHQJqZmZkZmYhAzczMzExXiUAAAAAAgBWKQDMzMzOz04pAZmZmZuaRi0CamZmZGVCMQM3MzMxMDo1AAAAAAIDMjUAzMzMzs4qOQGZmZmbmSI9A\",\"dtype\":\"float64\",\"shape\":[75]}},\"selected\":{\"id\":\"f8bd68e6-5c91-4b0f-be06-02e42fbbe7eb\",\"type\":\"Selection\"},\"selection_policy\":{\"id\":\"b62284ad-b60b-4ad0-b912-fe87da95673e\",\"type\":\"UnionRenderers\"}},\"id\":\"2a47ad61-ebe5-4f5f-8fc4-37161bdbaa62\",\"type\":\"ColumnDataSource\"},{\"attributes\":{\"data_source\":{\"id\":\"13cc4d84-7c3f-4c25-887a-e4f7ff54b6ad\",\"type\":\"ColumnDataSource\"},\"glyph\":{\"id\":\"05824bee-f020-482e-a03c-548fccf71b8b\",\"type\":\"Line\"},\"hover_glyph\":null,\"muted_glyph\":null,\"nonselection_glyph\":{\"id\":\"54f5c77e-56bf-4a8d-a3c9-fd1be94e33ac\",\"type\":\"Line\"},\"selection_glyph\":null,\"view\":{\"id\":\"656ceb78-92cc-4b1b-9be7-659d444531da\",\"type\":\"CDSView\"}},\"id\":\"57cbadeb-b8c1-4889-bd6d-9054c12582ee\",\"type\":\"GlyphRenderer\"},{\"attributes\":{\"children\":[{\"id\":\"0d93a6e0-e814-46af-a968-1ed18aab0d07\",\"type\":\"Row\"}]},\"id\":\"6e187616-a375-416a-9a2c-425d5c728372\",\"type\":\"Column\"},{\"attributes\":{\"items\":[{\"id\":\"dc59e697-e310-4e4a-82a5-539d3753619e\",\"type\":\"LegendItem\"}],\"label_text_font_size\":{\"value\":\"8pt\"},\"location\":\"top_center\",\"orientation\":\"horizontal\",\"plot\":{\"id\":\"ae6005c9-8048-4322-b623-3a88808b8451\",\"subtype\":\"Figure\",\"type\":\"Plot\"}},\"id\":\"c16f4ed1-a30b-47aa-b394-123acd6368c8\",\"type\":\"Legend\"},{\"attributes\":{\"line_color\":\"#4daf4a\",\"line_width\":1.5,\"x\":{\"field\":\"x\"},\"y\":{\"field\":\"y\"}},\"id\":\"f36cc2db-e2c2-4ead-91aa-faf3890510bc\",\"type\":\"Line\"},{\"attributes\":{\"fill_alpha\":{\"value\":0.7},\"fill_color\":{\"value\":\"#4daf4a\"},\"line_alpha\":{\"value\":0.7},\"line_color\":{\"value\":\"#4daf4a\"},\"x\":{\"field\":\"x\"},\"y\":{\"field\":\"y\"}},\"id\":\"7ee08db1-4fc7-4dc6-baea-5b69e4e9cb28\",\"type\":\"Circle\"},{\"attributes\":{\"line_color\":\"#4daf4a\",\"line_width\":1.5,\"x\":{\"field\":\"x\"},\"y\":{\"field\":\"y\"}},\"id\":\"71b20b27-be93-4681-b716-225a597823d2\",\"type\":\"Line\"},{\"attributes\":{\"source\":{\"id\":\"2a47ad61-ebe5-4f5f-8fc4-37161bdbaa62\",\"type\":\"ColumnDataSource\"}},\"id\":\"940ef145-19db-41a4-bd3b-7de411ba6f49\",\"type\":\"CDSView\"},{\"attributes\":{\"fill_alpha\":{\"value\":0.1},\"fill_color\":{\"value\":\"#1f77b4\"},\"line_alpha\":{\"value\":0.1},\"line_color\":{\"value\":\"#1f77b4\"},\"x\":{\"field\":\"x\"},\"y\":{\"field\":\"y\"}},\"id\":\"9a93dca5-bd68-4484-9bec-72ea2836e661\",\"type\":\"Circle\"},{\"attributes\":{\"line_alpha\":0.1,\"line_color\":\"#1f77b4\",\"line_width\":1.5,\"x\":{\"field\":\"x\"},\"y\":{\"field\":\"y\"}},\"id\":\"54f5c77e-56bf-4a8d-a3c9-fd1be94e33ac\",\"type\":\"Line\"},{\"attributes\":{\"line_alpha\":0.1,\"line_color\":\"#1f77b4\",\"line_width\":1.5,\"x\":{\"field\":\"x\"},\"y\":{\"field\":\"y\"}},\"id\":\"9531851e-5a42-479a-9084-b8c9f26f9e7a\",\"type\":\"Line\"},{\"attributes\":{\"callback\":null,\"data\":{\"x\":{\"__ndarray__\":\"R/KIaN7AVEClCeJMyPNGQOvRhpxr30JAptxzhxx4PkA7SssMElA4QK6Bp3CyUDNAsVXpjES9LkBFhUV0+5coQMHYwqbbySNA6f09nM3nH0CaSd/3eYoZQDmgiAOW8BNAPYqARh3eDEBkm4vCgvr+P9D+5tWhQfY/P8DwKRnSAkBq38kb17ILQDT7IWuSsxFAUr2Rjm0FFkAinq3s9XgbQGCHwtYcqSFAG64kT303J0C7dRDneyooQD9JYrbK8yRA9S3bneHhIUAIymSuUMMcQIkHLe6VEBdAAau3cITREkA6CiNvkQIPQJU39ki7IQlAaAvwok1UA0BXLQiS4+L7P0xzDpJ2hPI/NNuPGMbJ5z91mUVYxqfSPxqwUPSxZca/G11peifD3L8QzNj5t2jTvwzOozTL360/SPJ4VI1VzD9KJ0nXEIncP8yDdlvHt+4/Et49nYLW9z++2teD4Jn+P+568eH/bwFALf5D9lmAAkCiZAicVOkCQPPT4jNKxwJAOjp3wTzBAUBSQsKNGisBQG4OmjqJwQBAJ3sZoHFuAEA5Ar0Sdi0AQGy4rw5+9f8/7W4nSrC3/z8mPr8zj4T/P4UYRHCQS/8/embVKYcF/z+5YXG+LLP+P/qb8BVUgf4/KvafTtyO/j/avAK1Ppv+PwJV9VVm2P0/JFtYlU/n/D9sN+q2fiX6Pw44e41PNPc/Opt+Z/wN9T+x3vcSW1vzP9ofvWQJlvI/8sciQQBW8j80sfkQa17yPzg5qng2r/I/Oh14WJBh8z+VZjnpctj0P6CcrSuCqQBA\",\"dtype\":\"float64\",\"shape\":[75]},\"y\":{\"__ndarray__\":\"GhExyth1ND/Sv8nbtpRIP2vylNV0PVE/aTum7souWD/At0SJ8fVgPw3Iuahxymc/MSNhhJWvcD/bTfBN02d3P2zb5nxnaoA/CD5h5MAGhz8NmeH1TyaQP+zrCsc9p5Y/LbKd76fGnz/bLW5ISEmmPww9YvTcQq8/JV2OstnstT8Er5Y7M8G+P0c+r3jqkcU/5h99k6ZBzj88bCIzFzjVP4enV8oyxN0//yH99nXg5D8qOpLLf0jtP5kqGJXUifQ/c9cS8kHP/D+/DpwzojQEQIEmwoanVwxA4lgXt9HgE0BSSZ2AJuIbQAMJih9jjiNA5q4l5INuK0AwTKYKRj0zQNv5fmq8/DpAaCJseHrtQkB/+zpwzoxKQM3MzMzMeFJAZmZmZmZqWEAAAAAAAFxeQM3MzMzMJmJAmpmZmZkfZUBmZmZmZhhoQDMzMzMzEWtAAAAAAAAKbkBmZmZmZoFwQM3MzMzM/XFAMzMzMzN6c0CamZmZmfZ0QAAAAAAAc3ZAZmZmZmbvd0DNzMzMzGt5QDMzMzMz6HpAmpmZmZlkfEAAAAAAAOF9QGZmZmZmXX9AZmZmZuZsgECamZmZGSuBQM3MzMxM6YFAAAAAAICngkAzMzMzs2WDQGZmZmbmI4RAmpmZmRnihEDNzMzMTKCFQAAAAACAXoZAMzMzM7Mch0BmZmZm5tqHQJqZmZkZmYhAzczMzExXiUAAAAAAgBWKQDMzMzOz04pAZmZmZuaRi0CamZmZGVCMQM3MzMxMDo1AAAAAAIDMjUAzMzMzs4qOQGZmZmbmSI9A\",\"dtype\":\"float64\",\"shape\":[75]}},\"selected\":{\"id\":\"85bff36b-233a-4db9-a1fa-cdcb67f7f627\",\"type\":\"Selection\"},\"selection_policy\":{\"id\":\"6a377d62-2184-4cdb-9794-74340f552373\",\"type\":\"UnionRenderers\"}},\"id\":\"d610ef72-3235-4cab-b598-293ecff164cd\",\"type\":\"ColumnDataSource\"},{\"attributes\":{\"callback\":null,\"data\":{\"x\":{\"__ndarray__\":\"R/KIaN7AVEClCeJMyPNGQOvRhpxr30JAptxzhxx4PkA7SssMElA4QK6Bp3CyUDNAsVXpjES9LkBFhUV0+5coQMHYwqbbySNA6f09nM3nH0CaSd/3eYoZQDmgiAOW8BNAPYqARh3eDEBkm4vCgvr+P9D+5tWhQfY/P8DwKRnSAkBq38kb17ILQDT7IWuSsxFAUr2Rjm0FFkAinq3s9XgbQGCHwtYcqSFAG64kT303J0C7dRDneyooQD9JYrbK8yRA9S3bneHhIUAIymSuUMMcQIkHLe6VEBdAAau3cITREkA6CiNvkQIPQJU39ki7IQlAaAvwok1UA0BXLQiS4+L7P0xzDpJ2hPI/NNuPGMbJ5z91mUVYxqfSPxqwUPSxZca/G11peifD3L8QzNj5t2jTvwzOozTL360/SPJ4VI1VzD9KJ0nXEIncP8yDdlvHt+4/Et49nYLW9z++2teD4Jn+P+568eH/bwFALf5D9lmAAkCiZAicVOkCQPPT4jNKxwJAOjp3wTzBAUBSQsKNGisBQG4OmjqJwQBAJ3sZoHFuAEA5Ar0Sdi0AQGy4rw5+9f8/7W4nSrC3/z8mPr8zj4T/P4UYRHCQS/8/embVKYcF/z+5YXG+LLP+P/qb8BVUgf4/KvafTtyO/j/avAK1Ppv+PwJV9VVm2P0/JFtYlU/n/D9sN+q2fiX6Pw44e41PNPc/Opt+Z/wN9T+x3vcSW1vzP9ofvWQJlvI/8sciQQBW8j80sfkQa17yPzg5qng2r/I/Oh14WJBh8z+VZjnpctj0P6CcrSuCqQBA\",\"dtype\":\"float64\",\"shape\":[75]},\"y\":{\"__ndarray__\":\"GhExyth1ND/Sv8nbtpRIP2vylNV0PVE/aTum7souWD/At0SJ8fVgPw3Iuahxymc/MSNhhJWvcD/bTfBN02d3P2zb5nxnaoA/CD5h5MAGhz8NmeH1TyaQP+zrCsc9p5Y/LbKd76fGnz/bLW5ISEmmPww9YvTcQq8/JV2OstnstT8Er5Y7M8G+P0c+r3jqkcU/5h99k6ZBzj88bCIzFzjVP4enV8oyxN0//yH99nXg5D8qOpLLf0jtP5kqGJXUifQ/c9cS8kHP/D+/DpwzojQEQIEmwoanVwxA4lgXt9HgE0BSSZ2AJuIbQAMJih9jjiNA5q4l5INuK0AwTKYKRj0zQNv5fmq8/DpAaCJseHrtQkB/+zpwzoxKQM3MzMzMeFJAZmZmZmZqWEAAAAAAAFxeQM3MzMzMJmJAmpmZmZkfZUBmZmZmZhhoQDMzMzMzEWtAAAAAAAAKbkBmZmZmZoFwQM3MzMzM/XFAMzMzMzN6c0CamZmZmfZ0QAAAAAAAc3ZAZmZmZmbvd0DNzMzMzGt5QDMzMzMz6HpAmpmZmZlkfEAAAAAAAOF9QGZmZmZmXX9AZmZmZuZsgECamZmZGSuBQM3MzMxM6YFAAAAAAICngkAzMzMzs2WDQGZmZmbmI4RAmpmZmRnihEDNzMzMTKCFQAAAAACAXoZAMzMzM7Mch0BmZmZm5tqHQJqZmZkZmYhAzczMzExXiUAAAAAAgBWKQDMzMzOz04pAZmZmZuaRi0CamZmZGVCMQM3MzMxMDo1AAAAAAIDMjUAzMzMzs4qOQGZmZmbmSI9A\",\"dtype\":\"float64\",\"shape\":[75]}},\"selected\":{\"id\":\"a796b745-05d2-4b12-ac25-424fecdefc9f\",\"type\":\"Selection\"},\"selection_policy\":{\"id\":\"079f2176-af0e-4eaf-bb6b-55b843dc1ee7\",\"type\":\"UnionRenderers\"}},\"id\":\"ad588d74-0fac-4fe8-90cb-3cfdb56c79f9\",\"type\":\"ColumnDataSource\"},{\"attributes\":{\"data_source\":{\"id\":\"2a47ad61-ebe5-4f5f-8fc4-37161bdbaa62\",\"type\":\"ColumnDataSource\"},\"glyph\":{\"id\":\"7ee08db1-4fc7-4dc6-baea-5b69e4e9cb28\",\"type\":\"Circle\"},\"hover_glyph\":null,\"muted_glyph\":null,\"nonselection_glyph\":{\"id\":\"e8732f25-e8a7-4e82-a92d-21aa550333f3\",\"type\":\"Circle\"},\"selection_glyph\":null,\"view\":{\"id\":\"940ef145-19db-41a4-bd3b-7de411ba6f49\",\"type\":\"CDSView\"}},\"id\":\"4233fd45-01bd-4f02-ae0d-19d3acf86dc2\",\"type\":\"GlyphRenderer\"},{\"attributes\":{\"source\":{\"id\":\"72f8146f-cf86-4845-8b1f-6bdba563b868\",\"type\":\"ColumnDataSource\"}},\"id\":\"31d8d329-b59a-4b30-b292-a06fea22d6f6\",\"type\":\"CDSView\"},{\"attributes\":{\"callback\":null,\"data\":{\"x\":{\"__ndarray__\":\"+91suA2FRUDEhDu3BNNCQJGH2RpTtEFAEt02UCgdQEDVxLSQChY8QIhbJRqUKjdAYVUzOB7pMUDTM3KX3QQqQEK9BNB3SCJA6NjTUF6dGkBKgvPiLzsVQL0Sjm8nBhJA/DvUw9qUDUDkg8wWHTEDQPqPmlKB6f4/+3yWOi+sBUBavERq4UMMQLVhH27xnBBAfwWOfm3eE0DummfvB08ZQAaUixg3DCFArKetlIYCJ0Cs7TuihhkoQB+fXFuzhCRAQi/iYYwnIUBZuHizlFYcQC1AvJM7WRhAg3T9xFgsFEA0HebAUMcPQFKxsGLKOwlAuRjZ7ZQ7BUAmhydNp3kAQNl7ZywnsfQ/bePIZtQK5j8GONhrav7QPxDDyUYoicG/tW4zfJCS3r80aRMuziHYv2KS/mjbLl+/fwV3ehhXxT+O1XwUPq7YP7JEdD4ju+w/6QCXA6269j/1X/IRTNf9P3eY3xv76wBA9MudvM6EAUC4nZXZbkcCQJZjjxetTAJAN+UlS5cWAUCXT334HoEAQPbZ2qEuTwBAxddFMwkvAEAgAG4tOAQAQIwWdH+UnP8/BWSLQ0Y//z+ZMGChRAf/P7Wo5GjCDf8/mQ+WHj5C/z+7FkMl7WP/Px29Y3brZP8/oy7TqCBM/z/lglFOVvr+P18JCfCU2P0/cmhc+6zJ/D8DIuChwy/6P76YinnXm/c/Z9o81bPt9T/nsnvwZn70P/MHGE0DxPM/L8l+pxuV8z/YaqQova7zP2CtsiQ0EfQ/P+H9lMkD9T+yagFyKrv2P/6hXMS+pwFA\",\"dtype\":\"float64\",\"shape\":[75]},\"y\":{\"__ndarray__\":\"GhExyth1ND/Sv8nbtpRIP2vylNV0PVE/aTum7souWD/At0SJ8fVgPw3Iuahxymc/MSNhhJWvcD/bTfBN02d3P2zb5nxnaoA/CD5h5MAGhz8NmeH1TyaQP+zrCsc9p5Y/LbKd76fGnz/bLW5ISEmmPww9YvTcQq8/JV2OstnstT8Er5Y7M8G+P0c+r3jqkcU/5h99k6ZBzj88bCIzFzjVP4enV8oyxN0//yH99nXg5D8qOpLLf0jtP5kqGJXUifQ/c9cS8kHP/D+/DpwzojQEQIEmwoanVwxA4lgXt9HgE0BSSZ2AJuIbQAMJih9jjiNA5q4l5INuK0AwTKYKRj0zQNv5fmq8/DpAaCJseHrtQkB/+zpwzoxKQM3MzMzMeFJAZmZmZmZqWEAAAAAAAFxeQM3MzMzMJmJAmpmZmZkfZUBmZmZmZhhoQDMzMzMzEWtAAAAAAAAKbkBmZmZmZoFwQM3MzMzM/XFAMzMzMzN6c0CamZmZmfZ0QAAAAAAAc3ZAZmZmZmbvd0DNzMzMzGt5QDMzMzMz6HpAmpmZmZlkfEAAAAAAAOF9QGZmZmZmXX9AZmZmZuZsgECamZmZGSuBQM3MzMxM6YFAAAAAAICngkAzMzMzs2WDQGZmZmbmI4RAmpmZmRnihEDNzMzMTKCFQAAAAACAXoZAMzMzM7Mch0BmZmZm5tqHQJqZmZkZmYhAzczMzExXiUAAAAAAgBWKQDMzMzOz04pAZmZmZuaRi0CamZmZGVCMQM3MzMxMDo1AAAAAAIDMjUAzMzMzs4qOQGZmZmbmSI9A\",\"dtype\":\"float64\",\"shape\":[75]}},\"selected\":{\"id\":\"0b492a40-f39a-4084-b4e3-c29123a164da\",\"type\":\"Selection\"},\"selection_policy\":{\"id\":\"426814e6-efec-4104-9b72-d783fd44da7e\",\"type\":\"UnionRenderers\"}},\"id\":\"76f3e858-4f82-4e78-a58c-4849f28ff17f\",\"type\":\"ColumnDataSource\"},{\"attributes\":{\"label\":{\"value\":\"CLIRAD (single-run)\"},\"renderers\":[{\"id\":\"5ea64766-eb39-4be4-8b59-e703d4146fd2\",\"type\":\"GlyphRenderer\"}]},\"id\":\"e426b2f6-ab1a-4abc-a176-f1b6728b9b0e\",\"type\":\"LegendItem\"},{\"attributes\":{\"callback\":null,\"end\":0.01,\"start\":1020},\"id\":\"e9848a21-f6c2-49bb-b0a6-94bd24792053\",\"type\":\"Range1d\"},{\"attributes\":{\"source\":{\"id\":\"13cc4d84-7c3f-4c25-887a-e4f7ff54b6ad\",\"type\":\"ColumnDataSource\"}},\"id\":\"656ceb78-92cc-4b1b-9be7-659d444531da\",\"type\":\"CDSView\"},{\"attributes\":{\"source\":{\"id\":\"76f3e858-4f82-4e78-a58c-4849f28ff17f\",\"type\":\"ColumnDataSource\"}},\"id\":\"13e2fef5-1538-49b4-b34e-ad9794d2655f\",\"type\":\"CDSView\"},{\"attributes\":{\"callback\":null,\"data\":{\"x\":{\"__ndarray__\":\"R/KIaN7AVEClCeJMyPNGQOvRhpxr30JAptxzhxx4PkA7SssMElA4QK6Bp3CyUDNAsVXpjES9LkBFhUV0+5coQMHYwqbbySNA6f09nM3nH0CaSd/3eYoZQDmgiAOW8BNAPYqARh3eDEBkm4vCgvr+P9D+5tWhQfY/P8DwKRnSAkBq38kb17ILQDT7IWuSsxFAUr2Rjm0FFkAinq3s9XgbQGCHwtYcqSFAG64kT303J0C7dRDneyooQD9JYrbK8yRA9S3bneHhIUAIymSuUMMcQIkHLe6VEBdAAau3cITREkA6CiNvkQIPQJU39ki7IQlAaAvwok1UA0BXLQiS4+L7P0xzDpJ2hPI/NNuPGMbJ5z91mUVYxqfSPxqwUPSxZca/G11peifD3L8QzNj5t2jTvwzOozTL360/SPJ4VI1VzD9KJ0nXEIncP8yDdlvHt+4/Et49nYLW9z++2teD4Jn+P+568eH/bwFALf5D9lmAAkCiZAicVOkCQPPT4jNKxwJAOjp3wTzBAUBSQsKNGisBQG4OmjqJwQBAJ3sZoHFuAEA5Ar0Sdi0AQGy4rw5+9f8/7W4nSrC3/z8mPr8zj4T/P4UYRHCQS/8/embVKYcF/z+5YXG+LLP+P/qb8BVUgf4/KvafTtyO/j/avAK1Ppv+PwJV9VVm2P0/JFtYlU/n/D9sN+q2fiX6Pw44e41PNPc/Opt+Z/wN9T+x3vcSW1vzP9ofvWQJlvI/8sciQQBW8j80sfkQa17yPzg5qng2r/I/Oh14WJBh8z+VZjnpctj0P6CcrSuCqQBA\",\"dtype\":\"float64\",\"shape\":[75]},\"y\":{\"__ndarray__\":\"GhExyth1ND/Sv8nbtpRIP2vylNV0PVE/aTum7souWD/At0SJ8fVgPw3Iuahxymc/MSNhhJWvcD/bTfBN02d3P2zb5nxnaoA/CD5h5MAGhz8NmeH1TyaQP+zrCsc9p5Y/LbKd76fGnz/bLW5ISEmmPww9YvTcQq8/JV2OstnstT8Er5Y7M8G+P0c+r3jqkcU/5h99k6ZBzj88bCIzFzjVP4enV8oyxN0//yH99nXg5D8qOpLLf0jtP5kqGJXUifQ/c9cS8kHP/D+/DpwzojQEQIEmwoanVwxA4lgXt9HgE0BSSZ2AJuIbQAMJih9jjiNA5q4l5INuK0AwTKYKRj0zQNv5fmq8/DpAaCJseHrtQkB/+zpwzoxKQM3MzMzMeFJAZmZmZmZqWEAAAAAAAFxeQM3MzMzMJmJAmpmZmZkfZUBmZmZmZhhoQDMzMzMzEWtAAAAAAAAKbkBmZmZmZoFwQM3MzMzM/XFAMzMzMzN6c0CamZmZmfZ0QAAAAAAAc3ZAZmZmZmbvd0DNzMzMzGt5QDMzMzMz6HpAmpmZmZlkfEAAAAAAAOF9QGZmZmZmXX9AZmZmZuZsgECamZmZGSuBQM3MzMxM6YFAAAAAAICngkAzMzMzs2WDQGZmZmbmI4RAmpmZmRnihEDNzMzMTKCFQAAAAACAXoZAMzMzM7Mch0BmZmZm5tqHQJqZmZkZmYhAzczMzExXiUAAAAAAgBWKQDMzMzOz04pAZmZmZuaRi0CamZmZGVCMQM3MzMxMDo1AAAAAAIDMjUAzMzMzs4qOQGZmZmbmSI9A\",\"dtype\":\"float64\",\"shape\":[75]}},\"selected\":{\"id\":\"c027fff1-57ed-4e55-8dda-4f6530d25b99\",\"type\":\"Selection\"},\"selection_policy\":{\"id\":\"d39ff0f7-5361-4de8-a9dd-6cd4ffa73e3c\",\"type\":\"UnionRenderers\"}},\"id\":\"72f8146f-cf86-4845-8b1f-6bdba563b868\",\"type\":\"ColumnDataSource\"},{\"attributes\":{\"source\":{\"id\":\"d610ef72-3235-4cab-b598-293ecff164cd\",\"type\":\"ColumnDataSource\"}},\"id\":\"2df9d45f-793f-440c-a958-7bc5f5b401fc\",\"type\":\"CDSView\"},{\"attributes\":{\"data_source\":{\"id\":\"d610ef72-3235-4cab-b598-293ecff164cd\",\"type\":\"ColumnDataSource\"},\"glyph\":{\"id\":\"71b20b27-be93-4681-b716-225a597823d2\",\"type\":\"Line\"},\"hover_glyph\":null,\"muted_glyph\":null,\"nonselection_glyph\":{\"id\":\"9531851e-5a42-479a-9084-b8c9f26f9e7a\",\"type\":\"Line\"},\"selection_glyph\":null,\"view\":{\"id\":\"2df9d45f-793f-440c-a958-7bc5f5b401fc\",\"type\":\"CDSView\"}},\"id\":\"3f6c2e6f-d88c-4d47-89fe-72d105bc647d\",\"type\":\"GlyphRenderer\"},{\"attributes\":{\"children\":[{\"id\":\"89ac3080-4118-4cb1-9d08-69686d568b6b\",\"subtype\":\"Figure\",\"type\":\"Plot\"},{\"id\":\"e97c1036-f986-4ba9-84e1-75eab3087e10\",\"subtype\":\"Figure\",\"type\":\"Plot\"},{\"id\":\"ae6005c9-8048-4322-b623-3a88808b8451\",\"subtype\":\"Figure\",\"type\":\"Plot\"}]},\"id\":\"0d93a6e0-e814-46af-a968-1ed18aab0d07\",\"type\":\"Row\"},{\"attributes\":{\"data_source\":{\"id\":\"ad588d74-0fac-4fe8-90cb-3cfdb56c79f9\",\"type\":\"ColumnDataSource\"},\"glyph\":{\"id\":\"f36cc2db-e2c2-4ead-91aa-faf3890510bc\",\"type\":\"Line\"},\"hover_glyph\":null,\"muted_glyph\":null,\"nonselection_glyph\":{\"id\":\"a18e2266-b5e3-40a2-adea-a604cd0a1bf7\",\"type\":\"Line\"},\"selection_glyph\":null,\"view\":{\"id\":\"ec9c1d7e-60f7-4800-968d-1be2d877b994\",\"type\":\"CDSView\"}},\"id\":\"67507dd7-b7fc-407d-9d80-1633cc6b8091\",\"type\":\"GlyphRenderer\"},{\"attributes\":{\"data_source\":{\"id\":\"72f8146f-cf86-4845-8b1f-6bdba563b868\",\"type\":\"ColumnDataSource\"},\"glyph\":{\"id\":\"ac4adcaf-269d-4b71-8c76-afd001e5e061\",\"type\":\"Circle\"},\"hover_glyph\":null,\"muted_glyph\":null,\"nonselection_glyph\":{\"id\":\"9a93dca5-bd68-4484-9bec-72ea2836e661\",\"type\":\"Circle\"},\"selection_glyph\":null,\"view\":{\"id\":\"31d8d329-b59a-4b30-b292-a06fea22d6f6\",\"type\":\"CDSView\"}},\"id\":\"9b903c21-e47c-4bfd-92e5-991224d67a69\",\"type\":\"GlyphRenderer\"},{\"attributes\":{\"line_alpha\":0.1,\"line_color\":\"#1f77b4\",\"line_width\":1.5,\"x\":{\"field\":\"x\"},\"y\":{\"field\":\"y\"}},\"id\":\"a18e2266-b5e3-40a2-adea-a604cd0a1bf7\",\"type\":\"Line\"},{\"attributes\":{\"fill_alpha\":{\"value\":0.7},\"fill_color\":{\"value\":\"#4daf4a\"},\"line_alpha\":{\"value\":0.7},\"line_color\":{\"value\":\"#4daf4a\"},\"x\":{\"field\":\"x\"},\"y\":{\"field\":\"y\"}},\"id\":\"ac4adcaf-269d-4b71-8c76-afd001e5e061\",\"type\":\"Circle\"},{\"attributes\":{\"fill_alpha\":{\"value\":0.1},\"fill_color\":{\"value\":\"#1f77b4\"},\"line_alpha\":{\"value\":0.1},\"line_color\":{\"value\":\"#1f77b4\"},\"x\":{\"field\":\"x\"},\"y\":{\"field\":\"y\"}},\"id\":\"e8732f25-e8a7-4e82-a92d-21aa550333f3\",\"type\":\"Circle\"},{\"attributes\":{\"callback\":null,\"end\":0.01,\"start\":1020},\"id\":\"e3348c96-7725-4aae-9df2-41f0b3ac0fdd\",\"type\":\"Range1d\"},{\"attributes\":{\"plot\":{\"id\":\"89ac3080-4118-4cb1-9d08-69686d568b6b\",\"subtype\":\"Figure\",\"type\":\"Plot\"},\"ticker\":{\"id\":\"66b3dad0-b72b-410c-8819-fa9a24ea68e4\",\"type\":\"BasicTicker\"}},\"id\":\"65ed703d-815f-4e11-9a4d-5a39abf950e5\",\"type\":\"Grid\"},{\"attributes\":{},\"id\":\"47640b97-e257-4105-af04-125d0b6b1d7a\",\"type\":\"BasicTickFormatter\"},{\"attributes\":{},\"id\":\"4d36f3d4-1990-4f99-b10b-925505ebe677\",\"type\":\"ResetTool\"},{\"attributes\":{\"items\":[{\"id\":\"bb88441b-6b09-4755-a76f-6834abd6c619\",\"type\":\"LegendItem\"},{\"id\":\"4a4b04e4-b587-4be4-a79f-86dff0215c55\",\"type\":\"LegendItem\"}],\"label_text_font_size\":{\"value\":\"8pt\"},\"location\":\"top_center\",\"orientation\":\"horizontal\",\"plot\":{\"id\":\"89ac3080-4118-4cb1-9d08-69686d568b6b\",\"subtype\":\"Figure\",\"type\":\"Plot\"}},\"id\":\"cba86ab3-f7cf-4f82-a67e-2a2e3f578447\",\"type\":\"Legend\"},{\"attributes\":{\"overlay\":{\"id\":\"9e99645a-2ac0-4f02-9b8e-ed121d4be2fb\",\"type\":\"BoxAnnotation\"}},\"id\":\"6b42d472-4283-48e0-81fd-90e4d2edfb74\",\"type\":\"BoxZoomTool\"},{\"attributes\":{\"overlay\":{\"id\":\"c67c2887-050b-44c1-a44e-16cb05b40105\",\"type\":\"BoxAnnotation\"}},\"id\":\"11fcdecd-41b0-4166-a509-d519c292985a\",\"type\":\"BoxZoomTool\"},{\"attributes\":{\"fill_alpha\":{\"value\":0.1},\"fill_color\":{\"value\":\"#1f77b4\"},\"line_alpha\":{\"value\":0.1},\"line_color\":{\"value\":\"#1f77b4\"},\"x\":{\"field\":\"x\"},\"y\":{\"field\":\"y\"}},\"id\":\"c85bb4ab-2a96-4d74-a0fd-097f484a6088\",\"type\":\"Circle\"},{\"attributes\":{\"tools\":[{\"id\":\"01275585-cd24-44fc-8985-e7b6c6af2cc0\",\"type\":\"PanTool\"},{\"id\":\"b962a39b-527c-4f70-bb8f-46db7528f9eb\",\"type\":\"WheelZoomTool\"},{\"id\":\"6b42d472-4283-48e0-81fd-90e4d2edfb74\",\"type\":\"BoxZoomTool\"},{\"id\":\"abb55792-14e5-46ab-b255-6a7bef979c21\",\"type\":\"SaveTool\"},{\"id\":\"bec868e5-e182-41f8-a734-6e89dff7a9d4\",\"type\":\"ResetTool\"},{\"id\":\"f857b30d-7807-43dd-bf59-039a81a393de\",\"type\":\"HelpTool\"},{\"id\":\"44dd646f-9798-4478-8557-d683338c0456\",\"type\":\"PanTool\"},{\"id\":\"29ad4d16-b604-4f9a-8685-05017cabd4b2\",\"type\":\"WheelZoomTool\"},{\"id\":\"11fcdecd-41b0-4166-a509-d519c292985a\",\"type\":\"BoxZoomTool\"},{\"id\":\"1d9ae61b-6d9a-44ac-aace-5b826ace8557\",\"type\":\"SaveTool\"},{\"id\":\"4d36f3d4-1990-4f99-b10b-925505ebe677\",\"type\":\"ResetTool\"},{\"id\":\"d88ecae5-94e3-45aa-a140-9cd6c2924a3e\",\"type\":\"HelpTool\"},{\"id\":\"665be004-23e5-4d9b-b2db-d4d1858d4b9b\",\"type\":\"PanTool\"},{\"id\":\"ebc6da59-6d65-44c8-862a-26815c8e67cf\",\"type\":\"WheelZoomTool\"},{\"id\":\"49167617-cd51-4814-9a21-e2f6b797aa11\",\"type\":\"BoxZoomTool\"},{\"id\":\"f310d047-01a5-4b8e-9580-7efb78f5d1b7\",\"type\":\"SaveTool\"},{\"id\":\"de7d24b7-7519-492e-924c-9cec0c68866c\",\"type\":\"ResetTool\"},{\"id\":\"2953c1c4-399a-48a8-b8cd-8448e3ca5dfc\",\"type\":\"HelpTool\"}]},\"id\":\"121f81a9-5e59-4e5a-a868-ae3f99256406\",\"type\":\"ProxyToolbar\"},{\"attributes\":{},\"id\":\"37d05f0d-7ea2-4a7b-be78-9649cf65d642\",\"type\":\"LinearScale\"},{\"attributes\":{\"axis_label\":\"pressure [mb]\",\"formatter\":{\"id\":\"47640b97-e257-4105-af04-125d0b6b1d7a\",\"type\":\"BasicTickFormatter\"},\"plot\":{\"id\":\"89ac3080-4118-4cb1-9d08-69686d568b6b\",\"subtype\":\"Figure\",\"type\":\"Plot\"},\"ticker\":{\"id\":\"5c428a9b-87be-4f70-854b-ebafad8dc32a\",\"type\":\"BasicTicker\"}},\"id\":\"01e4a26f-70b1-4d35-aa1a-7a2517ec3614\",\"type\":\"LinearAxis\"},{\"attributes\":{},\"id\":\"01275585-cd24-44fc-8985-e7b6c6af2cc0\",\"type\":\"PanTool\"},{\"attributes\":{\"above\":[{\"id\":\"c16f4ed1-a30b-47aa-b394-123acd6368c8\",\"type\":\"Legend\"}],\"below\":[{\"id\":\"3893c5ad-0e4f-4cf6-805f-fc270f3a8bec\",\"type\":\"LinearAxis\"}],\"left\":[{\"id\":\"f6544498-bd1c-4427-b351-8975b65d1790\",\"type\":\"LogAxis\"}],\"plot_width\":300,\"renderers\":[{\"id\":\"3893c5ad-0e4f-4cf6-805f-fc270f3a8bec\",\"type\":\"LinearAxis\"},{\"id\":\"1abdb559-17e9-4c15-91a3-8dcd65f0367c\",\"type\":\"Grid\"},{\"id\":\"f6544498-bd1c-4427-b351-8975b65d1790\",\"type\":\"LogAxis\"},{\"id\":\"1e014397-b199-4e4c-b169-2cadc972bada\",\"type\":\"Grid\"},{\"id\":\"96073a69-c026-4e77-81aa-ba093df26777\",\"type\":\"BoxAnnotation\"},{\"id\":\"9cae7b7b-4d2f-4842-b13f-32b2f531b77a\",\"type\":\"GlyphRenderer\"},{\"id\":\"57cbadeb-b8c1-4889-bd6d-9054c12582ee\",\"type\":\"GlyphRenderer\"},{\"id\":\"c16f4ed1-a30b-47aa-b394-123acd6368c8\",\"type\":\"Legend\"}],\"title\":{\"id\":\"434a34c9-3539-4ed2-b184-89812ccb0dec\",\"type\":\"Title\"},\"toolbar\":{\"id\":\"eedc7ac8-55b5-4b7d-8889-19f9e5e2cbe8\",\"type\":\"Toolbar\"},\"toolbar_location\":null,\"x_range\":{\"id\":\"9cfc4197-782a-4fba-a7d9-6d92a8849f28\",\"type\":\"Range1d\"},\"x_scale\":{\"id\":\"87965353-4621-4c54-89e2-75720ae9d0e3\",\"type\":\"LinearScale\"},\"y_range\":{\"id\":\"93a5aaa4-39bc-4f17-b328-a5ea6b797882\",\"type\":\"Range1d\"},\"y_scale\":{\"id\":\"49bae8b0-2148-4f09-9750-1ec0657baf4a\",\"type\":\"LogScale\"}},\"id\":\"ae6005c9-8048-4322-b623-3a88808b8451\",\"subtype\":\"Figure\",\"type\":\"Plot\"},{\"attributes\":{},\"id\":\"6a377d62-2184-4cdb-9794-74340f552373\",\"type\":\"UnionRenderers\"},{\"attributes\":{},\"id\":\"abb55792-14e5-46ab-b255-6a7bef979c21\",\"type\":\"SaveTool\"},{\"attributes\":{\"fill_alpha\":{\"value\":0.7},\"fill_color\":{\"value\":\"#984ea3\"},\"line_alpha\":{\"value\":0.7},\"line_color\":{\"value\":\"#984ea3\"},\"x\":{\"field\":\"x\"},\"y\":{\"field\":\"y\"}},\"id\":\"a2ea76a2-995f-4406-9fc0-2dc28147d721\",\"type\":\"Circle\"},{\"attributes\":{},\"id\":\"f857b30d-7807-43dd-bf59-039a81a393de\",\"type\":\"HelpTool\"},{\"attributes\":{},\"id\":\"24222c20-2829-49e8-af82-1090aef4bde9\",\"type\":\"BasicTickFormatter\"},{\"attributes\":{\"callback\":null,\"data\":{\"x\":{\"__ndarray__\":\"lAalGK/8Q8CGE5pWDoMgwKSl1BqIsQLA3tedj0Ej/D/B1EsfxC8OQNnO7ksNzw5ASFT1jd9TBED76MoyIs7mP/K34Ws9Fui/B5SoLb0p9b9BHa9TKD3xv87XqD/ppt6/njd2qq/Xtj+IsTWs3Z7dP1IiZ/m+T+E/3uUthbDQ1j8unlvPSSGyPwqYKdAPatG/ob4dgAA44b+hGTDqb0/hvy5r3sa3nNO/PTeDO117ur+OD4jURPWgv4GIasHWxcu/WtYff6dK17+vawS7/i67v0WK81haitQ/KZhcREWt1T8/X2I46pe4PzW+eboZD4o/D9WQrnR0zj/ggxshrEHUP2hEyNKEZcE/X3xvHBvvq7/PFtbGvpWavye0G7YmcqM/gBmhHJD2nL+RdOrQWOSyv57C6w9C2a6/J7MHaNP5q7/hjWIWltauv5rxI9BByq+/qdJtmlm9sb8lWa88jlKov85OPMKYgLC//kbGNGdxv78v3VhOuDy0v/UW3BRHp66/jqAqyq5Utb8wV56ocj+1v8sdzS+mlqy/NrHRaTa0n7/4DIGn8p6UvyR46M5jOpa/WroCp4Eanr9uY8OXpFKfvyXpt68D546/m49UYHpbjj9RoDbaDBimP3AkZA7scqw/7g5nRouopz8Fg7FT5sWXPwCwL9oJTQc/RLPy+5mifb8AMtXr1YlkP+Yr2AP74Zk/tOXHt+32qz9ZQz3YvTCyP5KBroWe37I/zRPAZbbxsz80mqt6IQW1P3RCh8DaH7Y/QEBcyJMjuj/gQYCMeCu+P7+r4BWTx78/\",\"dtype\":\"float64\",\"shape\":[75]},\"y\":{\"__ndarray__\":\"GhExyth1ND/Sv8nbtpRIP2vylNV0PVE/aTum7souWD/At0SJ8fVgPw3Iuahxymc/MSNhhJWvcD/bTfBN02d3P2zb5nxnaoA/CD5h5MAGhz8NmeH1TyaQP+zrCsc9p5Y/LbKd76fGnz/bLW5ISEmmPww9YvTcQq8/JV2OstnstT8Er5Y7M8G+P0c+r3jqkcU/5h99k6ZBzj88bCIzFzjVP4enV8oyxN0//yH99nXg5D8qOpLLf0jtP5kqGJXUifQ/c9cS8kHP/D+/DpwzojQEQIEmwoanVwxA4lgXt9HgE0BSSZ2AJuIbQAMJih9jjiNA5q4l5INuK0AwTKYKRj0zQNv5fmq8/DpAaCJseHrtQkB/+zpwzoxKQM3MzMzMeFJAZmZmZmZqWEAAAAAAAFxeQM3MzMzMJmJAmpmZmZkfZUBmZmZmZhhoQDMzMzMzEWtAAAAAAAAKbkBmZmZmZoFwQM3MzMzM/XFAMzMzMzN6c0CamZmZmfZ0QAAAAAAAc3ZAZmZmZmbvd0DNzMzMzGt5QDMzMzMz6HpAmpmZmZlkfEAAAAAAAOF9QGZmZmZmXX9AZmZmZuZsgECamZmZGSuBQM3MzMxM6YFAAAAAAICngkAzMzMzs2WDQGZmZmbmI4RAmpmZmRnihEDNzMzMTKCFQAAAAACAXoZAMzMzM7Mch0BmZmZm5tqHQJqZmZkZmYhAzczMzExXiUAAAAAAgBWKQDMzMzOz04pAZmZmZuaRi0CamZmZGVCMQM3MzMxMDo1AAAAAAIDMjUAzMzMzs4qOQGZmZmbmSI9A\",\"dtype\":\"float64\",\"shape\":[75]}},\"selected\":{\"id\":\"441311db-e2d5-45e3-af1f-0e46ce6d879c\",\"type\":\"Selection\"},\"selection_policy\":{\"id\":\"d05b3d77-8b8a-4a8b-8104-7ce2277e821c\",\"type\":\"UnionRenderers\"}},\"id\":\"13cc4d84-7c3f-4c25-887a-e4f7ff54b6ad\",\"type\":\"ColumnDataSource\"},{\"attributes\":{\"bottom_units\":\"screen\",\"fill_alpha\":{\"value\":0.5},\"fill_color\":{\"value\":\"lightgrey\"},\"left_units\":\"screen\",\"level\":\"overlay\",\"line_alpha\":{\"value\":1.0},\"line_color\":{\"value\":\"black\"},\"line_dash\":[4,4],\"line_width\":{\"value\":2},\"plot\":null,\"render_mode\":\"css\",\"right_units\":\"screen\",\"top_units\":\"screen\"},\"id\":\"96073a69-c026-4e77-81aa-ba093df26777\",\"type\":\"BoxAnnotation\"},{\"attributes\":{\"children\":[{\"id\":\"e7b9a74a-ce7a-4171-b7d4-8f5722094822\",\"type\":\"ToolbarBox\"},{\"id\":\"6e187616-a375-416a-9a2c-425d5c728372\",\"type\":\"Column\"}]},\"id\":\"abe86b7d-d22c-4aef-a4c1-a26341d7cd0e\",\"type\":\"Column\"},{\"attributes\":{},\"id\":\"d39ff0f7-5361-4de8-a9dd-6cd4ffa73e3c\",\"type\":\"UnionRenderers\"},{\"attributes\":{\"active_drag\":\"auto\",\"active_inspect\":\"auto\",\"active_scroll\":\"auto\",\"active_tap\":\"auto\",\"tools\":[{\"id\":\"665be004-23e5-4d9b-b2db-d4d1858d4b9b\",\"type\":\"PanTool\"},{\"id\":\"ebc6da59-6d65-44c8-862a-26815c8e67cf\",\"type\":\"WheelZoomTool\"},{\"id\":\"49167617-cd51-4814-9a21-e2f6b797aa11\",\"type\":\"BoxZoomTool\"},{\"id\":\"f310d047-01a5-4b8e-9580-7efb78f5d1b7\",\"type\":\"SaveTool\"},{\"id\":\"de7d24b7-7519-492e-924c-9cec0c68866c\",\"type\":\"ResetTool\"},{\"id\":\"2953c1c4-399a-48a8-b8cd-8448e3ca5dfc\",\"type\":\"HelpTool\"}]},\"id\":\"eedc7ac8-55b5-4b7d-8889-19f9e5e2cbe8\",\"type\":\"Toolbar\"},{\"attributes\":{},\"id\":\"45d7983a-0ed9-42f9-a10c-8042308ac114\",\"type\":\"UnionRenderers\"},{\"attributes\":{},\"id\":\"85bff36b-233a-4db9-a1fa-cdcb67f7f627\",\"type\":\"Selection\"},{\"attributes\":{\"plot\":null,\"text\":\"\"},\"id\":\"434a34c9-3539-4ed2-b184-89812ccb0dec\",\"type\":\"Title\"},{\"attributes\":{},\"id\":\"49bae8b0-2148-4f09-9750-1ec0657baf4a\",\"type\":\"LogScale\"},{\"attributes\":{},\"id\":\"87965353-4621-4c54-89e2-75720ae9d0e3\",\"type\":\"LinearScale\"},{\"attributes\":{\"label\":{\"value\":\"CRD\"},\"renderers\":[{\"id\":\"4233fd45-01bd-4f02-ae0d-19d3acf86dc2\",\"type\":\"GlyphRenderer\"},{\"id\":\"67507dd7-b7fc-407d-9d80-1633cc6b8091\",\"type\":\"GlyphRenderer\"}]},\"id\":\"c8c0a750-1262-404a-a7af-eab78654a60c\",\"type\":\"LegendItem\"},{\"attributes\":{},\"id\":\"d88ecae5-94e3-45aa-a140-9cd6c2924a3e\",\"type\":\"HelpTool\"},{\"attributes\":{},\"id\":\"b642f4d8-a5bf-443e-8fa6-f5a433f8b139\",\"type\":\"BasicTickFormatter\"},{\"attributes\":{},\"id\":\"5c428a9b-87be-4f70-854b-ebafad8dc32a\",\"type\":\"BasicTicker\"},{\"attributes\":{},\"id\":\"8b17dd42-9874-485c-a898-cc2a0a67d151\",\"type\":\"BasicTicker\"},{\"attributes\":{},\"id\":\"21dfbb03-b8a1-4319-a3fa-0e32025313ad\",\"type\":\"Selection\"},{\"attributes\":{},\"id\":\"29ad4d16-b604-4f9a-8685-05017cabd4b2\",\"type\":\"WheelZoomTool\"},{\"attributes\":{},\"id\":\"079f2176-af0e-4eaf-bb6b-55b843dc1ee7\",\"type\":\"UnionRenderers\"},{\"attributes\":{\"callback\":null,\"end\":2.3923471759882906,\"start\":-0.5061118456772901},\"id\":\"5438ca28-95f5-41c9-9e84-aaa5634785dd\",\"type\":\"Range1d\"},{\"attributes\":{\"axis_label\":\"cooling rate [K/day]\",\"formatter\":{\"id\":\"498777ce-94f2-4178-8882-63ee85508cd4\",\"type\":\"BasicTickFormatter\"},\"plot\":{\"id\":\"89ac3080-4118-4cb1-9d08-69686d568b6b\",\"subtype\":\"Figure\",\"type\":\"Plot\"},\"ticker\":{\"id\":\"66b3dad0-b72b-410c-8819-fa9a24ea68e4\",\"type\":\"BasicTicker\"}},\"id\":\"e5859088-cead-431f-ab74-8f570557580e\",\"type\":\"LinearAxis\"},{\"attributes\":{\"axis_label\":\"cooling rate [K/day]\",\"formatter\":{\"id\":\"24222c20-2829-49e8-af82-1090aef4bde9\",\"type\":\"BasicTickFormatter\"},\"plot\":{\"id\":\"ae6005c9-8048-4322-b623-3a88808b8451\",\"subtype\":\"Figure\",\"type\":\"Plot\"},\"ticker\":{\"id\":\"8b17dd42-9874-485c-a898-cc2a0a67d151\",\"type\":\"BasicTicker\"}},\"id\":\"3893c5ad-0e4f-4cf6-805f-fc270f3a8bec\",\"type\":\"LinearAxis\"},{\"attributes\":{\"ticker\":null},\"id\":\"f9a34076-bc0f-446c-8b04-700883cfed13\",\"type\":\"LogTickFormatter\"},{\"attributes\":{},\"id\":\"b62284ad-b60b-4ad0-b912-fe87da95673e\",\"type\":\"UnionRenderers\"},{\"attributes\":{\"plot\":null,\"text\":\"\"},\"id\":\"94b78404-fd65-44af-9aa1-75dc57352200\",\"type\":\"Title\"},{\"attributes\":{\"dimension\":1,\"plot\":{\"id\":\"89ac3080-4118-4cb1-9d08-69686d568b6b\",\"subtype\":\"Figure\",\"type\":\"Plot\"},\"ticker\":{\"id\":\"5c428a9b-87be-4f70-854b-ebafad8dc32a\",\"type\":\"BasicTicker\"}},\"id\":\"085a4d12-38fe-42b4-b481-29d030d4a03f\",\"type\":\"Grid\"},{\"attributes\":{\"callback\":null,\"end\":0.01,\"start\":1020},\"id\":\"93a5aaa4-39bc-4f17-b328-a5ea6b797882\",\"type\":\"Range1d\"},{\"attributes\":{\"line_alpha\":0.8,\"line_color\":\"#984ea3\",\"line_width\":1.5,\"x\":{\"field\":\"x\"},\"y\":{\"field\":\"y\"}},\"id\":\"05824bee-f020-482e-a03c-548fccf71b8b\",\"type\":\"Line\"},{\"attributes\":{\"bottom_units\":\"screen\",\"fill_alpha\":{\"value\":0.5},\"fill_color\":{\"value\":\"lightgrey\"},\"left_units\":\"screen\",\"level\":\"overlay\",\"line_alpha\":{\"value\":1.0},\"line_color\":{\"value\":\"black\"},\"line_dash\":[4,4],\"line_width\":{\"value\":2},\"plot\":null,\"render_mode\":\"css\",\"right_units\":\"screen\",\"top_units\":\"screen\"},\"id\":\"9e99645a-2ac0-4f02-9b8e-ed121d4be2fb\",\"type\":\"BoxAnnotation\"},{\"attributes\":{},\"id\":\"f8bd68e6-5c91-4b0f-be06-02e42fbbe7eb\",\"type\":\"Selection\"},{\"attributes\":{\"bottom_units\":\"screen\",\"fill_alpha\":{\"value\":0.5},\"fill_color\":{\"value\":\"lightgrey\"},\"left_units\":\"screen\",\"level\":\"overlay\",\"line_alpha\":{\"value\":1.0},\"line_color\":{\"value\":\"black\"},\"line_dash\":[4,4],\"line_width\":{\"value\":2},\"plot\":null,\"render_mode\":\"css\",\"right_units\":\"screen\",\"top_units\":\"screen\"},\"id\":\"c67c2887-050b-44c1-a44e-16cb05b40105\",\"type\":\"BoxAnnotation\"},{\"attributes\":{\"callback\":null,\"data\":{\"x\":{\"__ndarray__\":\"lAalGK/8Q8CGE5pWDoMgwKSl1BqIsQLA3tedj0Ej/D/B1EsfxC8OQNnO7ksNzw5ASFT1jd9TBED76MoyIs7mP/K34Ws9Fui/B5SoLb0p9b9BHa9TKD3xv87XqD/ppt6/njd2qq/Xtj+IsTWs3Z7dP1IiZ/m+T+E/3uUthbDQ1j8unlvPSSGyPwqYKdAPatG/ob4dgAA44b+hGTDqb0/hvy5r3sa3nNO/PTeDO117ur+OD4jURPWgv4GIasHWxcu/WtYff6dK17+vawS7/i67v0WK81haitQ/KZhcREWt1T8/X2I46pe4PzW+eboZD4o/D9WQrnR0zj/ggxshrEHUP2hEyNKEZcE/X3xvHBvvq7/PFtbGvpWavye0G7YmcqM/gBmhHJD2nL+RdOrQWOSyv57C6w9C2a6/J7MHaNP5q7/hjWIWltauv5rxI9BByq+/qdJtmlm9sb8lWa88jlKov85OPMKYgLC//kbGNGdxv78v3VhOuDy0v/UW3BRHp66/jqAqyq5Utb8wV56ocj+1v8sdzS+mlqy/NrHRaTa0n7/4DIGn8p6UvyR46M5jOpa/WroCp4Eanr9uY8OXpFKfvyXpt68D546/m49UYHpbjj9RoDbaDBimP3AkZA7scqw/7g5nRouopz8Fg7FT5sWXPwCwL9oJTQc/RLPy+5mifb8AMtXr1YlkP+Yr2AP74Zk/tOXHt+32qz9ZQz3YvTCyP5KBroWe37I/zRPAZbbxsz80mqt6IQW1P3RCh8DaH7Y/QEBcyJMjuj/gQYCMeCu+P7+r4BWTx78/\",\"dtype\":\"float64\",\"shape\":[75]},\"y\":{\"__ndarray__\":\"GhExyth1ND/Sv8nbtpRIP2vylNV0PVE/aTum7souWD/At0SJ8fVgPw3Iuahxymc/MSNhhJWvcD/bTfBN02d3P2zb5nxnaoA/CD5h5MAGhz8NmeH1TyaQP+zrCsc9p5Y/LbKd76fGnz/bLW5ISEmmPww9YvTcQq8/JV2OstnstT8Er5Y7M8G+P0c+r3jqkcU/5h99k6ZBzj88bCIzFzjVP4enV8oyxN0//yH99nXg5D8qOpLLf0jtP5kqGJXUifQ/c9cS8kHP/D+/DpwzojQEQIEmwoanVwxA4lgXt9HgE0BSSZ2AJuIbQAMJih9jjiNA5q4l5INuK0AwTKYKRj0zQNv5fmq8/DpAaCJseHrtQkB/+zpwzoxKQM3MzMzMeFJAZmZmZmZqWEAAAAAAAFxeQM3MzMzMJmJAmpmZmZkfZUBmZmZmZhhoQDMzMzMzEWtAAAAAAAAKbkBmZmZmZoFwQM3MzMzM/XFAMzMzMzN6c0CamZmZmfZ0QAAAAAAAc3ZAZmZmZmbvd0DNzMzMzGt5QDMzMzMz6HpAmpmZmZlkfEAAAAAAAOF9QGZmZmZmXX9AZmZmZuZsgECamZmZGSuBQM3MzMxM6YFAAAAAAICngkAzMzMzs2WDQGZmZmbmI4RAmpmZmRnihEDNzMzMTKCFQAAAAACAXoZAMzMzM7Mch0BmZmZm5tqHQJqZmZkZmYhAzczMzExXiUAAAAAAgBWKQDMzMzOz04pAZmZmZuaRi0CamZmZGVCMQM3MzMxMDo1AAAAAAIDMjUAzMzMzs4qOQGZmZmbmSI9A\",\"dtype\":\"float64\",\"shape\":[75]}},\"selected\":{\"id\":\"86bcbbae-6850-4f52-9ae5-71ed25245187\",\"type\":\"Selection\"},\"selection_policy\":{\"id\":\"45d7983a-0ed9-42f9-a10c-8042308ac114\",\"type\":\"UnionRenderers\"}},\"id\":\"a5665c84-8899-41a0-a7ba-4f383a5d2014\",\"type\":\"ColumnDataSource\"},{\"attributes\":{},\"id\":\"441311db-e2d5-45e3-af1f-0e46ce6d879c\",\"type\":\"Selection\"},{\"attributes\":{},\"id\":\"6df29566-8e7d-4c9a-847b-9b976c576bcf\",\"type\":\"LinearScale\"},{\"attributes\":{\"active_drag\":\"auto\",\"active_inspect\":\"auto\",\"active_scroll\":\"auto\",\"active_tap\":\"auto\",\"tools\":[{\"id\":\"01275585-cd24-44fc-8985-e7b6c6af2cc0\",\"type\":\"PanTool\"},{\"id\":\"b962a39b-527c-4f70-bb8f-46db7528f9eb\",\"type\":\"WheelZoomTool\"},{\"id\":\"6b42d472-4283-48e0-81fd-90e4d2edfb74\",\"type\":\"BoxZoomTool\"},{\"id\":\"abb55792-14e5-46ab-b255-6a7bef979c21\",\"type\":\"SaveTool\"},{\"id\":\"bec868e5-e182-41f8-a734-6e89dff7a9d4\",\"type\":\"ResetTool\"},{\"id\":\"f857b30d-7807-43dd-bf59-039a81a393de\",\"type\":\"HelpTool\"}]},\"id\":\"a793c1c2-9124-4704-9129-9c3a6901a5a9\",\"type\":\"Toolbar\"},{\"attributes\":{},\"id\":\"66b3dad0-b72b-410c-8819-fa9a24ea68e4\",\"type\":\"BasicTicker\"},{\"attributes\":{},\"id\":\"bec868e5-e182-41f8-a734-6e89dff7a9d4\",\"type\":\"ResetTool\"},{\"attributes\":{\"source\":{\"id\":\"a5665c84-8899-41a0-a7ba-4f383a5d2014\",\"type\":\"ColumnDataSource\"}},\"id\":\"faf8e7d3-a203-4dcf-9ae2-0b50ec77c438\",\"type\":\"CDSView\"},{\"attributes\":{},\"id\":\"d05b3d77-8b8a-4a8b-8104-7ce2277e821c\",\"type\":\"UnionRenderers\"},{\"attributes\":{\"toolbar\":{\"id\":\"121f81a9-5e59-4e5a-a868-ae3f99256406\",\"type\":\"ProxyToolbar\"},\"toolbar_location\":\"above\"},\"id\":\"e7b9a74a-ce7a-4171-b7d4-8f5722094822\",\"type\":\"ToolbarBox\"},{\"attributes\":{},\"id\":\"c027fff1-57ed-4e55-8dda-4f6530d25b99\",\"type\":\"Selection\"},{\"attributes\":{},\"id\":\"86bcbbae-6850-4f52-9ae5-71ed25245187\",\"type\":\"Selection\"},{\"attributes\":{},\"id\":\"b962a39b-527c-4f70-bb8f-46db7528f9eb\",\"type\":\"WheelZoomTool\"},{\"attributes\":{},\"id\":\"a796b745-05d2-4b12-ac25-424fecdefc9f\",\"type\":\"Selection\"},{\"attributes\":{\"ticker\":null},\"id\":\"e6d68947-24d5-4eb7-9c15-61ac96accd71\",\"type\":\"LogTickFormatter\"},{\"attributes\":{},\"id\":\"1d9ae61b-6d9a-44ac-aace-5b826ace8557\",\"type\":\"SaveTool\"},{\"attributes\":{},\"id\":\"426814e6-efec-4104-9b72-d783fd44da7e\",\"type\":\"UnionRenderers\"},{\"attributes\":{},\"id\":\"498777ce-94f2-4178-8882-63ee85508cd4\",\"type\":\"BasicTickFormatter\"},{\"attributes\":{\"plot\":null,\"text\":\"\"},\"id\":\"7cb623d9-cc4b-4851-9212-468f0c53ec12\",\"type\":\"Title\"},{\"attributes\":{},\"id\":\"0b492a40-f39a-4084-b4e3-c29123a164da\",\"type\":\"Selection\"},{\"attributes\":{\"label\":{\"value\":\"CLIRAD (single-run) - CRD\"},\"renderers\":[{\"id\":\"9cae7b7b-4d2f-4842-b13f-32b2f531b77a\",\"type\":\"GlyphRenderer\"},{\"id\":\"57cbadeb-b8c1-4889-bd6d-9054c12582ee\",\"type\":\"GlyphRenderer\"}]},\"id\":\"dc59e697-e310-4e4a-82a5-539d3753619e\",\"type\":\"LegendItem\"},{\"attributes\":{\"line_alpha\":0.6,\"line_color\":\"#377eb8\",\"line_dash\":[6],\"line_width\":5,\"x\":{\"field\":\"x\"},\"y\":{\"field\":\"y\"}},\"id\":\"c8e32781-32f2-4ad4-8bc2-d473da50bec6\",\"type\":\"Line\"},{\"attributes\":{\"data_source\":{\"id\":\"76f3e858-4f82-4e78-a58c-4849f28ff17f\",\"type\":\"ColumnDataSource\"},\"glyph\":{\"id\":\"c8e32781-32f2-4ad4-8bc2-d473da50bec6\",\"type\":\"Line\"},\"hover_glyph\":null,\"muted_glyph\":null,\"nonselection_glyph\":{\"id\":\"edfb40c1-586f-4f96-b7d1-90c6f516f0c1\",\"type\":\"Line\"},\"selection_glyph\":null,\"view\":{\"id\":\"13e2fef5-1538-49b4-b34e-ad9794d2655f\",\"type\":\"CDSView\"}},\"id\":\"03bcb6ce-e488-44fe-91bd-ffddcafb5aeb\",\"type\":\"GlyphRenderer\"},{\"attributes\":{\"above\":[{\"id\":\"cba86ab3-f7cf-4f82-a67e-2a2e3f578447\",\"type\":\"Legend\"}],\"below\":[{\"id\":\"e5859088-cead-431f-ab74-8f570557580e\",\"type\":\"LinearAxis\"}],\"left\":[{\"id\":\"01e4a26f-70b1-4d35-aa1a-7a2517ec3614\",\"type\":\"LinearAxis\"}],\"plot_width\":300,\"renderers\":[{\"id\":\"e5859088-cead-431f-ab74-8f570557580e\",\"type\":\"LinearAxis\"},{\"id\":\"65ed703d-815f-4e11-9a4d-5a39abf950e5\",\"type\":\"Grid\"},{\"id\":\"01e4a26f-70b1-4d35-aa1a-7a2517ec3614\",\"type\":\"LinearAxis\"},{\"id\":\"085a4d12-38fe-42b4-b481-29d030d4a03f\",\"type\":\"Grid\"},{\"id\":\"9e99645a-2ac0-4f02-9b8e-ed121d4be2fb\",\"type\":\"BoxAnnotation\"},{\"id\":\"03bcb6ce-e488-44fe-91bd-ffddcafb5aeb\",\"type\":\"GlyphRenderer\"},{\"id\":\"9b903c21-e47c-4bfd-92e5-991224d67a69\",\"type\":\"GlyphRenderer\"},{\"id\":\"3f6c2e6f-d88c-4d47-89fe-72d105bc647d\",\"type\":\"GlyphRenderer\"},{\"id\":\"cba86ab3-f7cf-4f82-a67e-2a2e3f578447\",\"type\":\"Legend\"}],\"title\":{\"id\":\"7cb623d9-cc4b-4851-9212-468f0c53ec12\",\"type\":\"Title\"},\"toolbar\":{\"id\":\"a793c1c2-9124-4704-9129-9c3a6901a5a9\",\"type\":\"Toolbar\"},\"toolbar_location\":null,\"x_range\":{\"id\":\"5438ca28-95f5-41c9-9e84-aaa5634785dd\",\"type\":\"Range1d\"},\"x_scale\":{\"id\":\"6df29566-8e7d-4c9a-847b-9b976c576bcf\",\"type\":\"LinearScale\"},\"y_range\":{\"id\":\"e3348c96-7725-4aae-9df2-41f0b3ac0fdd\",\"type\":\"Range1d\"},\"y_scale\":{\"id\":\"37d05f0d-7ea2-4a7b-be78-9649cf65d642\",\"type\":\"LinearScale\"}},\"id\":\"89ac3080-4118-4cb1-9d08-69686d568b6b\",\"subtype\":\"Figure\",\"type\":\"Plot\"},{\"attributes\":{\"axis_label\":\"cooling rate [K/day]\",\"formatter\":{\"id\":\"b642f4d8-a5bf-443e-8fa6-f5a433f8b139\",\"type\":\"BasicTickFormatter\"},\"plot\":{\"id\":\"e97c1036-f986-4ba9-84e1-75eab3087e10\",\"subtype\":\"Figure\",\"type\":\"Plot\"},\"ticker\":{\"id\":\"4ab6ed19-254b-4ac2-8dc3-21b5fe705324\",\"type\":\"BasicTicker\"}},\"id\":\"1d680bee-820d-447f-95be-c514c112e18d\",\"type\":\"LinearAxis\"},{\"attributes\":{\"axis_label\":\"pressure [mb]\",\"formatter\":{\"id\":\"f9a34076-bc0f-446c-8b04-700883cfed13\",\"type\":\"LogTickFormatter\"},\"plot\":{\"id\":\"ae6005c9-8048-4322-b623-3a88808b8451\",\"subtype\":\"Figure\",\"type\":\"Plot\"},\"ticker\":{\"id\":\"f93bbb93-5800-4aaf-8a7a-41d76517ae13\",\"type\":\"LogTicker\"}},\"id\":\"f6544498-bd1c-4427-b351-8975b65d1790\",\"type\":\"LogAxis\"},{\"attributes\":{\"line_alpha\":0.1,\"line_color\":\"#1f77b4\",\"line_dash\":[6],\"line_width\":5,\"x\":{\"field\":\"x\"},\"y\":{\"field\":\"y\"}},\"id\":\"7f56de98-d4f7-428a-b54d-0e949314f238\",\"type\":\"Line\"},{\"attributes\":{\"source\":{\"id\":\"2f0fc283-478c-4d2c-b8fc-66bf02f8bbbd\",\"type\":\"ColumnDataSource\"}},\"id\":\"7c219f53-9e3a-4960-b57b-a2b05fa1c41a\",\"type\":\"CDSView\"},{\"attributes\":{\"num_minor_ticks\":10},\"id\":\"210b4378-fd5d-4ac3-b97a-f38cf848dd11\",\"type\":\"LogTicker\"},{\"attributes\":{},\"id\":\"be7edd89-52ad-47f5-800c-bde7b32972b1\",\"type\":\"LinearScale\"},{\"attributes\":{\"line_alpha\":0.1,\"line_color\":\"#1f77b4\",\"line_dash\":[6],\"line_width\":5,\"x\":{\"field\":\"x\"},\"y\":{\"field\":\"y\"}},\"id\":\"edfb40c1-586f-4f96-b7d1-90c6f516f0c1\",\"type\":\"Line\"},{\"attributes\":{\"callback\":null,\"end\":12.208583273105388,\"start\":-0.6033023020843901},\"id\":\"6766e3e6-f4ca-4da5-b7a2-da89c9371c97\",\"type\":\"Range1d\"},{\"attributes\":{},\"id\":\"2953c1c4-399a-48a8-b8cd-8448e3ca5dfc\",\"type\":\"HelpTool\"},{\"attributes\":{\"label\":{\"value\":\"CRD\"},\"renderers\":[{\"id\":\"9b903c21-e47c-4bfd-92e5-991224d67a69\",\"type\":\"GlyphRenderer\"},{\"id\":\"3f6c2e6f-d88c-4d47-89fe-72d105bc647d\",\"type\":\"GlyphRenderer\"}]},\"id\":\"4a4b04e4-b587-4be4-a79f-86dff0215c55\",\"type\":\"LegendItem\"},{\"attributes\":{},\"id\":\"ebc6da59-6d65-44c8-862a-26815c8e67cf\",\"type\":\"WheelZoomTool\"},{\"attributes\":{},\"id\":\"4ab6ed19-254b-4ac2-8dc3-21b5fe705324\",\"type\":\"BasicTicker\"},{\"attributes\":{\"dimension\":1,\"plot\":{\"id\":\"ae6005c9-8048-4322-b623-3a88808b8451\",\"subtype\":\"Figure\",\"type\":\"Plot\"},\"ticker\":{\"id\":\"f93bbb93-5800-4aaf-8a7a-41d76517ae13\",\"type\":\"LogTicker\"}},\"id\":\"1e014397-b199-4e4c-b169-2cadc972bada\",\"type\":\"Grid\"},{\"attributes\":{},\"id\":\"c6f8be3a-7d93-497b-82b1-07de612925f0\",\"type\":\"LogScale\"},{\"attributes\":{\"label\":{\"value\":\"CLIRAD (single-run)\"},\"renderers\":[{\"id\":\"03bcb6ce-e488-44fe-91bd-ffddcafb5aeb\",\"type\":\"GlyphRenderer\"}]},\"id\":\"bb88441b-6b09-4755-a76f-6834abd6c619\",\"type\":\"LegendItem\"},{\"attributes\":{},\"id\":\"9536ff0b-cefd-497a-85da-07a74f2851f2\",\"type\":\"UnionRenderers\"},{\"attributes\":{\"overlay\":{\"id\":\"96073a69-c026-4e77-81aa-ba093df26777\",\"type\":\"BoxAnnotation\"}},\"id\":\"49167617-cd51-4814-9a21-e2f6b797aa11\",\"type\":\"BoxZoomTool\"},{\"attributes\":{},\"id\":\"de7d24b7-7519-492e-924c-9cec0c68866c\",\"type\":\"ResetTool\"},{\"attributes\":{},\"id\":\"f310d047-01a5-4b8e-9580-7efb78f5d1b7\",\"type\":\"SaveTool\"},{\"attributes\":{\"source\":{\"id\":\"ad588d74-0fac-4fe8-90cb-3cfdb56c79f9\",\"type\":\"ColumnDataSource\"}},\"id\":\"ec9c1d7e-60f7-4800-968d-1be2d877b994\",\"type\":\"CDSView\"},{\"attributes\":{\"active_drag\":\"auto\",\"active_inspect\":\"auto\",\"active_scroll\":\"auto\",\"active_tap\":\"auto\",\"tools\":[{\"id\":\"44dd646f-9798-4478-8557-d683338c0456\",\"type\":\"PanTool\"},{\"id\":\"29ad4d16-b604-4f9a-8685-05017cabd4b2\",\"type\":\"WheelZoomTool\"},{\"id\":\"11fcdecd-41b0-4166-a509-d519c292985a\",\"type\":\"BoxZoomTool\"},{\"id\":\"1d9ae61b-6d9a-44ac-aace-5b826ace8557\",\"type\":\"SaveTool\"},{\"id\":\"4d36f3d4-1990-4f99-b10b-925505ebe677\",\"type\":\"ResetTool\"},{\"id\":\"d88ecae5-94e3-45aa-a140-9cd6c2924a3e\",\"type\":\"HelpTool\"}]},\"id\":\"eaf9b6ad-35dc-40a1-83a3-480ade9b027d\",\"type\":\"Toolbar\"},{\"attributes\":{\"data_source\":{\"id\":\"2f0fc283-478c-4d2c-b8fc-66bf02f8bbbd\",\"type\":\"ColumnDataSource\"},\"glyph\":{\"id\":\"0bdea7ca-fae2-474d-9099-7ceb3383c24b\",\"type\":\"Line\"},\"hover_glyph\":null,\"muted_glyph\":null,\"nonselection_glyph\":{\"id\":\"7f56de98-d4f7-428a-b54d-0e949314f238\",\"type\":\"Line\"},\"selection_glyph\":null,\"view\":{\"id\":\"7c219f53-9e3a-4960-b57b-a2b05fa1c41a\",\"type\":\"CDSView\"}},\"id\":\"5ea64766-eb39-4be4-8b59-e703d4146fd2\",\"type\":\"GlyphRenderer\"},{\"attributes\":{\"axis_label\":\"pressure [mb]\",\"formatter\":{\"id\":\"e6d68947-24d5-4eb7-9c15-61ac96accd71\",\"type\":\"LogTickFormatter\"},\"plot\":{\"id\":\"e97c1036-f986-4ba9-84e1-75eab3087e10\",\"subtype\":\"Figure\",\"type\":\"Plot\"},\"ticker\":{\"id\":\"210b4378-fd5d-4ac3-b97a-f38cf848dd11\",\"type\":\"LogTicker\"}},\"id\":\"78802809-1933-4d89-98ba-a5480af8b9d7\",\"type\":\"LogAxis\"},{\"attributes\":{\"num_minor_ticks\":10},\"id\":\"f93bbb93-5800-4aaf-8a7a-41d76517ae13\",\"type\":\"LogTicker\"},{\"attributes\":{},\"id\":\"44dd646f-9798-4478-8557-d683338c0456\",\"type\":\"PanTool\"},{\"attributes\":{},\"id\":\"665be004-23e5-4d9b-b2db-d4d1858d4b9b\",\"type\":\"PanTool\"},{\"attributes\":{\"items\":[{\"id\":\"e426b2f6-ab1a-4abc-a176-f1b6728b9b0e\",\"type\":\"LegendItem\"},{\"id\":\"c8c0a750-1262-404a-a7af-eab78654a60c\",\"type\":\"LegendItem\"}],\"label_text_font_size\":{\"value\":\"8pt\"},\"location\":\"top_center\",\"orientation\":\"horizontal\",\"plot\":{\"id\":\"e97c1036-f986-4ba9-84e1-75eab3087e10\",\"subtype\":\"Figure\",\"type\":\"Plot\"}},\"id\":\"cc68ccc9-1d9f-4dba-862f-50933193641d\",\"type\":\"Legend\"},{\"attributes\":{\"above\":[{\"id\":\"cc68ccc9-1d9f-4dba-862f-50933193641d\",\"type\":\"Legend\"}],\"below\":[{\"id\":\"1d680bee-820d-447f-95be-c514c112e18d\",\"type\":\"LinearAxis\"}],\"left\":[{\"id\":\"78802809-1933-4d89-98ba-a5480af8b9d7\",\"type\":\"LogAxis\"}],\"plot_width\":300,\"renderers\":[{\"id\":\"1d680bee-820d-447f-95be-c514c112e18d\",\"type\":\"LinearAxis\"},{\"id\":\"580f6b41-e245-4e73-a66f-f88f5fce4e3f\",\"type\":\"Grid\"},{\"id\":\"78802809-1933-4d89-98ba-a5480af8b9d7\",\"type\":\"LogAxis\"},{\"id\":\"fdd7afd7-76de-442f-97c7-71a1da66ee27\",\"type\":\"Grid\"},{\"id\":\"c67c2887-050b-44c1-a44e-16cb05b40105\",\"type\":\"BoxAnnotation\"},{\"id\":\"5ea64766-eb39-4be4-8b59-e703d4146fd2\",\"type\":\"GlyphRenderer\"},{\"id\":\"4233fd45-01bd-4f02-ae0d-19d3acf86dc2\",\"type\":\"GlyphRenderer\"},{\"id\":\"67507dd7-b7fc-407d-9d80-1633cc6b8091\",\"type\":\"GlyphRenderer\"},{\"id\":\"cc68ccc9-1d9f-4dba-862f-50933193641d\",\"type\":\"Legend\"}],\"title\":{\"id\":\"94b78404-fd65-44af-9aa1-75dc57352200\",\"type\":\"Title\"},\"toolbar\":{\"id\":\"eaf9b6ad-35dc-40a1-83a3-480ade9b027d\",\"type\":\"Toolbar\"},\"toolbar_location\":null,\"x_range\":{\"id\":\"6766e3e6-f4ca-4da5-b7a2-da89c9371c97\",\"type\":\"Range1d\"},\"x_scale\":{\"id\":\"be7edd89-52ad-47f5-800c-bde7b32972b1\",\"type\":\"LinearScale\"},\"y_range\":{\"id\":\"e9848a21-f6c2-49bb-b0a6-94bd24792053\",\"type\":\"Range1d\"},\"y_scale\":{\"id\":\"c6f8be3a-7d93-497b-82b1-07de612925f0\",\"type\":\"LogScale\"}},\"id\":\"e97c1036-f986-4ba9-84e1-75eab3087e10\",\"subtype\":\"Figure\",\"type\":\"Plot\"},{\"attributes\":{\"dimension\":1,\"plot\":{\"id\":\"e97c1036-f986-4ba9-84e1-75eab3087e10\",\"subtype\":\"Figure\",\"type\":\"Plot\"},\"ticker\":{\"id\":\"210b4378-fd5d-4ac3-b97a-f38cf848dd11\",\"type\":\"LogTicker\"}},\"id\":\"fdd7afd7-76de-442f-97c7-71a1da66ee27\",\"type\":\"Grid\"},{\"attributes\":{\"plot\":{\"id\":\"e97c1036-f986-4ba9-84e1-75eab3087e10\",\"subtype\":\"Figure\",\"type\":\"Plot\"},\"ticker\":{\"id\":\"4ab6ed19-254b-4ac2-8dc3-21b5fe705324\",\"type\":\"BasicTicker\"}},\"id\":\"580f6b41-e245-4e73-a66f-f88f5fce4e3f\",\"type\":\"Grid\"},{\"attributes\":{\"data_source\":{\"id\":\"a5665c84-8899-41a0-a7ba-4f383a5d2014\",\"type\":\"ColumnDataSource\"},\"glyph\":{\"id\":\"a2ea76a2-995f-4406-9fc0-2dc28147d721\",\"type\":\"Circle\"},\"hover_glyph\":null,\"muted_glyph\":null,\"nonselection_glyph\":{\"id\":\"c85bb4ab-2a96-4d74-a0fd-097f484a6088\",\"type\":\"Circle\"},\"selection_glyph\":null,\"view\":{\"id\":\"faf8e7d3-a203-4dcf-9ae2-0b50ec77c438\",\"type\":\"CDSView\"}},\"id\":\"9cae7b7b-4d2f-4842-b13f-32b2f531b77a\",\"type\":\"GlyphRenderer\"},{\"attributes\":{\"plot\":{\"id\":\"ae6005c9-8048-4322-b623-3a88808b8451\",\"subtype\":\"Figure\",\"type\":\"Plot\"},\"ticker\":{\"id\":\"8b17dd42-9874-485c-a898-cc2a0a67d151\",\"type\":\"BasicTicker\"}},\"id\":\"1abdb559-17e9-4c15-91a3-8dcd65f0367c\",\"type\":\"Grid\"},{\"attributes\":{\"callback\":null,\"data\":{\"x\":{\"__ndarray__\":\"+91suA2FRUDEhDu3BNNCQJGH2RpTtEFAEt02UCgdQEDVxLSQChY8QIhbJRqUKjdAYVUzOB7pMUDTM3KX3QQqQEK9BNB3SCJA6NjTUF6dGkBKgvPiLzsVQL0Sjm8nBhJA/DvUw9qUDUDkg8wWHTEDQPqPmlKB6f4/+3yWOi+sBUBavERq4UMMQLVhH27xnBBAfwWOfm3eE0DummfvB08ZQAaUixg3DCFArKetlIYCJ0Cs7TuihhkoQB+fXFuzhCRAQi/iYYwnIUBZuHizlFYcQC1AvJM7WRhAg3T9xFgsFEA0HebAUMcPQFKxsGLKOwlAuRjZ7ZQ7BUAmhydNp3kAQNl7ZywnsfQ/bePIZtQK5j8GONhrav7QPxDDyUYoicG/tW4zfJCS3r80aRMuziHYv2KS/mjbLl+/fwV3ehhXxT+O1XwUPq7YP7JEdD4ju+w/6QCXA6269j/1X/IRTNf9P3eY3xv76wBA9MudvM6EAUC4nZXZbkcCQJZjjxetTAJAN+UlS5cWAUCXT334HoEAQPbZ2qEuTwBAxddFMwkvAEAgAG4tOAQAQIwWdH+UnP8/BWSLQ0Y//z+ZMGChRAf/P7Wo5GjCDf8/mQ+WHj5C/z+7FkMl7WP/Px29Y3brZP8/oy7TqCBM/z/lglFOVvr+P18JCfCU2P0/cmhc+6zJ/D8DIuChwy/6P76YinnXm/c/Z9o81bPt9T/nsnvwZn70P/MHGE0DxPM/L8l+pxuV8z/YaqQova7zP2CtsiQ0EfQ/P+H9lMkD9T+yagFyKrv2P/6hXMS+pwFA\",\"dtype\":\"float64\",\"shape\":[75]},\"y\":{\"__ndarray__\":\"GhExyth1ND/Sv8nbtpRIP2vylNV0PVE/aTum7souWD/At0SJ8fVgPw3Iuahxymc/MSNhhJWvcD/bTfBN02d3P2zb5nxnaoA/CD5h5MAGhz8NmeH1TyaQP+zrCsc9p5Y/LbKd76fGnz/bLW5ISEmmPww9YvTcQq8/JV2OstnstT8Er5Y7M8G+P0c+r3jqkcU/5h99k6ZBzj88bCIzFzjVP4enV8oyxN0//yH99nXg5D8qOpLLf0jtP5kqGJXUifQ/c9cS8kHP/D+/DpwzojQEQIEmwoanVwxA4lgXt9HgE0BSSZ2AJuIbQAMJih9jjiNA5q4l5INuK0AwTKYKRj0zQNv5fmq8/DpAaCJseHrtQkB/+zpwzoxKQM3MzMzMeFJAZmZmZmZqWEAAAAAAAFxeQM3MzMzMJmJAmpmZmZkfZUBmZmZmZhhoQDMzMzMzEWtAAAAAAAAKbkBmZmZmZoFwQM3MzMzM/XFAMzMzMzN6c0CamZmZmfZ0QAAAAAAAc3ZAZmZmZmbvd0DNzMzMzGt5QDMzMzMz6HpAmpmZmZlkfEAAAAAAAOF9QGZmZmZmXX9AZmZmZuZsgECamZmZGSuBQM3MzMxM6YFAAAAAAICngkAzMzMzs2WDQGZmZmbmI4RAmpmZmRnihEDNzMzMTKCFQAAAAACAXoZAMzMzM7Mch0BmZmZm5tqHQJqZmZkZmYhAzczMzExXiUAAAAAAgBWKQDMzMzOz04pAZmZmZuaRi0CamZmZGVCMQM3MzMxMDo1AAAAAAIDMjUAzMzMzs4qOQGZmZmbmSI9A\",\"dtype\":\"float64\",\"shape\":[75]}},\"selected\":{\"id\":\"21dfbb03-b8a1-4319-a3fa-0e32025313ad\",\"type\":\"Selection\"},\"selection_policy\":{\"id\":\"9536ff0b-cefd-497a-85da-07a74f2851f2\",\"type\":\"UnionRenderers\"}},\"id\":\"2f0fc283-478c-4d2c-b8fc-66bf02f8bbbd\",\"type\":\"ColumnDataSource\"}],\"root_ids\":[\"abe86b7d-d22c-4aef-a4c1-a26341d7cd0e\"]},\"title\":\"Bokeh Application\",\"version\":\"0.12.16\"}};\n",
       "  var render_items = [{\"docid\":\"8590daa6-9dd0-4ba0-be96-9bbcb4421924\",\"elementid\":\"4f62d4f2-202d-42e0-9fa5-99ad1f966353\",\"modelid\":\"abe86b7d-d22c-4aef-a4c1-a26341d7cd0e\"}];\n",
       "  root.Bokeh.embed.embed_items_notebook(docs_json, render_items);\n",
       "\n",
       "  }\n",
       "  if (root.Bokeh !== undefined) {\n",
       "    embed_document(root);\n",
       "  } else {\n",
       "    var attempts = 0;\n",
       "    var timer = setInterval(function(root) {\n",
       "      if (root.Bokeh !== undefined) {\n",
       "        embed_document(root);\n",
       "        clearInterval(timer);\n",
       "      }\n",
       "      attempts++;\n",
       "      if (attempts > 100) {\n",
       "        console.log(\"Bokeh: ERROR: Unable to run BokehJS code because BokehJS library is missing\")\n",
       "        clearInterval(timer);\n",
       "      }\n",
       "    }, 10, root)\n",
       "  }\n",
       "})(window);"
      ],
      "application/vnd.bokehjs_exec.v0+json": ""
     },
     "metadata": {
      "application/vnd.bokehjs_exec.v0+json": {
       "id": "abe86b7d-d22c-4aef-a4c1-a26341d7cd0e"
      }
     },
     "output_type": "display_data"
    },
    {
     "data": {
      "text/markdown": [
       "*FIGURE.* Cooling rates & difference."
      ],
      "text/plain": [
       "<IPython.core.display.Markdown object>"
      ]
     },
     "metadata": {},
     "output_type": "display_data"
    },
    {
     "data": {
      "text/html": [
       "<a id=\"Fluxes._trp.\"></a>"
      ],
      "text/plain": [
       "<IPython.core.display.HTML object>"
      ]
     },
     "metadata": {},
     "output_type": "display_data"
    },
    {
     "data": {
      "text/markdown": [
       "# Fluxes. trp."
      ],
      "text/plain": [
       "<IPython.core.display.Markdown object>"
      ]
     },
     "metadata": {},
     "output_type": "display_data"
    },
    {
     "data": {
      "text/html": [
       "\n",
       "<div class=\"bk-root\">\n",
       "    <div class=\"bk-plotdiv\" id=\"30df2019-a5e5-411f-889a-1279f6b8e869\"></div>\n",
       "</div>"
      ]
     },
     "metadata": {},
     "output_type": "display_data"
    },
    {
     "data": {
      "application/javascript": [
       "(function(root) {\n",
       "  function embed_document(root) {\n",
       "    \n",
       "  var docs_json = {\"ab96bb35-b0ec-445f-a70c-d2df100832aa\":{\"roots\":{\"references\":[{\"attributes\":{},\"id\":\"014fce59-7e32-418b-9c0b-3c722b840ebc\",\"type\":\"CategoricalTicker\"},{\"attributes\":{},\"id\":\"a4334528-7809-4f81-beed-c9bae9b98a80\",\"type\":\"CategoricalTickFormatter\"},{\"attributes\":{},\"id\":\"8a09a40e-6f99-4b24-8801-20f8b6bdfee4\",\"type\":\"HelpTool\"},{\"attributes\":{},\"id\":\"c49878fa-acb3-4da0-bfdc-ea1e5a15965f\",\"type\":\"PanTool\"},{\"attributes\":{\"axis_label\":\"spectral band\",\"formatter\":{\"id\":\"a4334528-7809-4f81-beed-c9bae9b98a80\",\"type\":\"CategoricalTickFormatter\"},\"plot\":{\"id\":\"497e0012-c541-4822-807c-574909c903e9\",\"subtype\":\"Figure\",\"type\":\"Plot\"},\"ticker\":{\"id\":\"014fce59-7e32-418b-9c0b-3c722b840ebc\",\"type\":\"CategoricalTicker\"}},\"id\":\"44ff436a-8a36-496b-b695-b6f47b7c6b2c\",\"type\":\"CategoricalAxis\"},{\"attributes\":{\"plot\":{\"id\":\"1d61f898-5c0a-4095-b581-308ed3516d40\",\"subtype\":\"Figure\",\"type\":\"Plot\"},\"ticker\":{\"id\":\"bcf69b9b-e6d3-45de-9f26-7f7ff360ea09\",\"type\":\"CategoricalTicker\"}},\"id\":\"5b49d146-c0f0-4fb6-a6c5-c972cbb23d9d\",\"type\":\"Grid\"},{\"attributes\":{\"data_source\":{\"id\":\"3740b5ab-b18f-4d79-abf7-7733f0ae798b\",\"type\":\"ColumnDataSource\"},\"glyph\":{\"id\":\"f3bca1f5-0f4a-43b2-ae28-6b3cb37b1a0c\",\"type\":\"VBar\"},\"hover_glyph\":null,\"muted_glyph\":null,\"nonselection_glyph\":{\"id\":\"34c98b88-65b7-4d73-875b-a0dd79a412b2\",\"type\":\"VBar\"},\"selection_glyph\":null,\"view\":{\"id\":\"37e062f9-f0fb-4a67-b0fc-2070ec4d1539\",\"type\":\"CDSView\"}},\"id\":\"c9580de6-6cd1-494e-a139-107f57f9e926\",\"type\":\"GlyphRenderer\"},{\"attributes\":{\"dimension\":1,\"plot\":{\"id\":\"1d61f898-5c0a-4095-b581-308ed3516d40\",\"subtype\":\"Figure\",\"type\":\"Plot\"},\"ticker\":{\"id\":\"1717ba59-9fbe-48e3-8880-f14d79c90e92\",\"type\":\"BasicTicker\"}},\"id\":\"a2141ce4-dfac-4ec5-8ccf-e92c6a0378c6\",\"type\":\"Grid\"},{\"attributes\":{},\"id\":\"064aead3-27fe-434e-943e-7745eac34c10\",\"type\":\"SaveTool\"},{\"attributes\":{},\"id\":\"1717ba59-9fbe-48e3-8880-f14d79c90e92\",\"type\":\"BasicTicker\"},{\"attributes\":{},\"id\":\"513553f9-5de2-4c35-a073-cd0f1a4038eb\",\"type\":\"LinearScale\"},{\"attributes\":{},\"id\":\"bcf69b9b-e6d3-45de-9f26-7f7ff360ea09\",\"type\":\"CategoricalTicker\"},{\"attributes\":{\"plot\":null,\"text\":\"SFC flux. CLIRAD (single-run) - CRD.\"},\"id\":\"5ccfd86f-aab5-4c4f-8839-928e748f6ca6\",\"type\":\"Title\"},{\"attributes\":{},\"id\":\"6b2033e0-ba0a-4a3c-a59c-83b5247f1a52\",\"type\":\"CategoricalScale\"},{\"attributes\":{\"plot\":null,\"text\":\"Atmosphere heating. CLIRAD (single-run) - CRD.\"},\"id\":\"3d74296b-7c04-45ee-bda6-a15523908e73\",\"type\":\"Title\"},{\"attributes\":{},\"id\":\"aed5190a-efd7-440f-956c-97119affe34f\",\"type\":\"LinearScale\"},{\"attributes\":{\"axis_label\":\"flux (W m-2)\",\"formatter\":{\"id\":\"b264ded6-4662-4869-8cbb-bd7dcae08402\",\"type\":\"BasicTickFormatter\"},\"plot\":{\"id\":\"497e0012-c541-4822-807c-574909c903e9\",\"subtype\":\"Figure\",\"type\":\"Plot\"},\"ticker\":{\"id\":\"ab8f608d-adc0-43a9-9b5a-08172acbd2b1\",\"type\":\"BasicTicker\"}},\"id\":\"603736d2-e459-49db-a6e1-1ff531c59a4e\",\"type\":\"LinearAxis\"},{\"attributes\":{},\"id\":\"bced1cb8-277c-4858-87f5-506c79f9cbfa\",\"type\":\"WheelZoomTool\"},{\"attributes\":{\"overlay\":{\"id\":\"51b80625-6edc-4e15-bd13-1dc9c8ff8aa4\",\"type\":\"BoxAnnotation\"}},\"id\":\"7e07f7b9-5dda-4052-a89b-a7127680125e\",\"type\":\"BoxZoomTool\"},{\"attributes\":{\"active_drag\":\"auto\",\"active_inspect\":\"auto\",\"active_scroll\":\"auto\",\"active_tap\":\"auto\",\"tools\":[{\"id\":\"c49878fa-acb3-4da0-bfdc-ea1e5a15965f\",\"type\":\"PanTool\"},{\"id\":\"bced1cb8-277c-4858-87f5-506c79f9cbfa\",\"type\":\"WheelZoomTool\"},{\"id\":\"7e07f7b9-5dda-4052-a89b-a7127680125e\",\"type\":\"BoxZoomTool\"},{\"id\":\"064aead3-27fe-434e-943e-7745eac34c10\",\"type\":\"SaveTool\"},{\"id\":\"4d5a9ff7-377e-481f-a474-7103616f45d0\",\"type\":\"ResetTool\"},{\"id\":\"8a09a40e-6f99-4b24-8801-20f8b6bdfee4\",\"type\":\"HelpTool\"}]},\"id\":\"d5a97f45-e3d7-4523-8129-6d6fd38d8059\",\"type\":\"Toolbar\"},{\"attributes\":{\"active_drag\":\"auto\",\"active_inspect\":\"auto\",\"active_scroll\":\"auto\",\"active_tap\":\"auto\",\"tools\":[{\"id\":\"6c24393c-69c4-468b-a24f-e4b86db643ce\",\"type\":\"PanTool\"},{\"id\":\"75829d3b-6449-48c6-938c-3292558f0d3a\",\"type\":\"WheelZoomTool\"},{\"id\":\"5afa186b-372a-4045-b222-4c5a52229e70\",\"type\":\"BoxZoomTool\"},{\"id\":\"9037df69-ed96-4304-96a2-39196e8fa69b\",\"type\":\"SaveTool\"},{\"id\":\"c534532f-18af-4dfc-9fb2-3f34799e2607\",\"type\":\"ResetTool\"},{\"id\":\"b422a3e5-bb24-4bee-a702-25164cd644fb\",\"type\":\"HelpTool\"}]},\"id\":\"bbad9ed8-6dd9-45da-87c2-7f2f7c1b12f4\",\"type\":\"Toolbar\"},{\"attributes\":{\"callback\":null},\"id\":\"70989a83-82ca-44f0-9041-89c2cfad577e\",\"type\":\"DataRange1d\"},{\"attributes\":{\"callback\":null,\"data\":{\"band\":[\"1\",\"2\",\"3\",\"4\",\"5\",\"6\",\"7\",\"8\",\"9\",\"10\",\"11\"],\"flux\":{\"__ndarray__\":\"AMHG9e/6yj8ARFVMpZ/UP8A1I4PcRdO/wKT4+ITs4T8A9+Y3TDTUPwDo9SfxuaO/gPm7d9SYzj8AbToCuFm8vwAu4dBbPJw/4PGprSLtwT+A9UyK6gi9Pw==\",\"dtype\":\"float64\",\"shape\":[11]}},\"selected\":{\"id\":\"82d0191b-97e8-4d10-9cbf-94fe8c51d61d\",\"type\":\"Selection\"},\"selection_policy\":{\"id\":\"9f37dab9-d72c-4eae-b4ae-d4e4d0ca328f\",\"type\":\"UnionRenderers\"}},\"id\":\"604d9a20-2b11-4f2d-89b8-69b8f39dbe22\",\"type\":\"ColumnDataSource\"},{\"attributes\":{\"axis_label\":\"spectral band\",\"formatter\":{\"id\":\"e328dbec-311d-4e9d-a366-3eaeaa504511\",\"type\":\"CategoricalTickFormatter\"},\"plot\":{\"id\":\"1d61f898-5c0a-4095-b581-308ed3516d40\",\"subtype\":\"Figure\",\"type\":\"Plot\"},\"ticker\":{\"id\":\"bcf69b9b-e6d3-45de-9f26-7f7ff360ea09\",\"type\":\"CategoricalTicker\"}},\"id\":\"2029d094-d105-4f54-af17-9d790f01ec99\",\"type\":\"CategoricalAxis\"},{\"attributes\":{\"callback\":null,\"factors\":[\"1\",\"2\",\"3\",\"4\",\"5\",\"6\",\"7\",\"8\",\"9\",\"10\",\"11\"]},\"id\":\"c7b6d6cc-c1ad-4a75-a370-f02ce47dffca\",\"type\":\"FactorRange\"},{\"attributes\":{\"below\":[{\"id\":\"2029d094-d105-4f54-af17-9d790f01ec99\",\"type\":\"CategoricalAxis\"}],\"left\":[{\"id\":\"7d49c2d7-327c-4401-8f0e-f328a1a9488e\",\"type\":\"LinearAxis\"}],\"plot_height\":300,\"plot_width\":300,\"renderers\":[{\"id\":\"2029d094-d105-4f54-af17-9d790f01ec99\",\"type\":\"CategoricalAxis\"},{\"id\":\"5b49d146-c0f0-4fb6-a6c5-c972cbb23d9d\",\"type\":\"Grid\"},{\"id\":\"7d49c2d7-327c-4401-8f0e-f328a1a9488e\",\"type\":\"LinearAxis\"},{\"id\":\"a2141ce4-dfac-4ec5-8ccf-e92c6a0378c6\",\"type\":\"Grid\"},{\"id\":\"51b80625-6edc-4e15-bd13-1dc9c8ff8aa4\",\"type\":\"BoxAnnotation\"},{\"id\":\"c9580de6-6cd1-494e-a139-107f57f9e926\",\"type\":\"GlyphRenderer\"}],\"title\":{\"id\":\"5ccfd86f-aab5-4c4f-8839-928e748f6ca6\",\"type\":\"Title\"},\"toolbar\":{\"id\":\"d5a97f45-e3d7-4523-8129-6d6fd38d8059\",\"type\":\"Toolbar\"},\"toolbar_location\":null,\"x_range\":{\"id\":\"3b2089ab-b17b-4958-827b-b924c119b45d\",\"type\":\"FactorRange\"},\"x_scale\":{\"id\":\"d6201395-043f-4213-a79d-4e41b03e5c44\",\"type\":\"CategoricalScale\"},\"y_range\":{\"id\":\"70989a83-82ca-44f0-9041-89c2cfad577e\",\"type\":\"DataRange1d\"},\"y_scale\":{\"id\":\"aed5190a-efd7-440f-956c-97119affe34f\",\"type\":\"LinearScale\"}},\"id\":\"1d61f898-5c0a-4095-b581-308ed3516d40\",\"subtype\":\"Figure\",\"type\":\"Plot\"},{\"attributes\":{\"plot\":{\"id\":\"497e0012-c541-4822-807c-574909c903e9\",\"subtype\":\"Figure\",\"type\":\"Plot\"},\"ticker\":{\"id\":\"014fce59-7e32-418b-9c0b-3c722b840ebc\",\"type\":\"CategoricalTicker\"}},\"id\":\"b0dc7f85-242f-4820-83b6-730b965a934c\",\"type\":\"Grid\"},{\"attributes\":{},\"id\":\"b264ded6-4662-4869-8cbb-bd7dcae08402\",\"type\":\"BasicTickFormatter\"},{\"attributes\":{},\"id\":\"ab8f608d-adc0-43a9-9b5a-08172acbd2b1\",\"type\":\"BasicTicker\"},{\"attributes\":{\"axis_label\":\"flux (W m-2)\",\"formatter\":{\"id\":\"bd8787c7-94d1-46c5-85cf-6fcca905664b\",\"type\":\"BasicTickFormatter\"},\"plot\":{\"id\":\"1d61f898-5c0a-4095-b581-308ed3516d40\",\"subtype\":\"Figure\",\"type\":\"Plot\"},\"ticker\":{\"id\":\"1717ba59-9fbe-48e3-8880-f14d79c90e92\",\"type\":\"BasicTicker\"}},\"id\":\"7d49c2d7-327c-4401-8f0e-f328a1a9488e\",\"type\":\"LinearAxis\"},{\"attributes\":{\"below\":[{\"id\":\"44ff436a-8a36-496b-b695-b6f47b7c6b2c\",\"type\":\"CategoricalAxis\"}],\"left\":[{\"id\":\"603736d2-e459-49db-a6e1-1ff531c59a4e\",\"type\":\"LinearAxis\"}],\"plot_height\":300,\"plot_width\":300,\"renderers\":[{\"id\":\"44ff436a-8a36-496b-b695-b6f47b7c6b2c\",\"type\":\"CategoricalAxis\"},{\"id\":\"b0dc7f85-242f-4820-83b6-730b965a934c\",\"type\":\"Grid\"},{\"id\":\"603736d2-e459-49db-a6e1-1ff531c59a4e\",\"type\":\"LinearAxis\"},{\"id\":\"f5ec31b5-1d33-40c2-b750-eeb27c40f6ac\",\"type\":\"Grid\"},{\"id\":\"df77ae27-a788-4405-b4c4-7314cac9f04a\",\"type\":\"BoxAnnotation\"},{\"id\":\"d7d8dfde-d00a-4b6d-9f32-d84211278eb5\",\"type\":\"GlyphRenderer\"}],\"title\":{\"id\":\"3d74296b-7c04-45ee-bda6-a15523908e73\",\"type\":\"Title\"},\"toolbar\":{\"id\":\"bbad9ed8-6dd9-45da-87c2-7f2f7c1b12f4\",\"type\":\"Toolbar\"},\"toolbar_location\":null,\"x_range\":{\"id\":\"c7b6d6cc-c1ad-4a75-a370-f02ce47dffca\",\"type\":\"FactorRange\"},\"x_scale\":{\"id\":\"6b2033e0-ba0a-4a3c-a59c-83b5247f1a52\",\"type\":\"CategoricalScale\"},\"y_range\":{\"id\":\"cb471a3c-867b-4bca-a08b-f2e498a5489b\",\"type\":\"DataRange1d\"},\"y_scale\":{\"id\":\"513553f9-5de2-4c35-a073-cd0f1a4038eb\",\"type\":\"LinearScale\"}},\"id\":\"497e0012-c541-4822-807c-574909c903e9\",\"subtype\":\"Figure\",\"type\":\"Plot\"},{\"attributes\":{},\"id\":\"d6201395-043f-4213-a79d-4e41b03e5c44\",\"type\":\"CategoricalScale\"},{\"attributes\":{\"callback\":null,\"factors\":[\"1\",\"2\",\"3\",\"4\",\"5\",\"6\",\"7\",\"8\",\"9\",\"10\",\"11\"]},\"id\":\"3b2089ab-b17b-4958-827b-b924c119b45d\",\"type\":\"FactorRange\"},{\"attributes\":{\"fill_color\":{\"value\":\"#1f77b4\"},\"line_color\":{\"value\":\"#1f77b4\"},\"top\":{\"field\":\"flux\"},\"width\":{\"value\":0.9},\"x\":{\"field\":\"band\"}},\"id\":\"f3bca1f5-0f4a-43b2-ae28-6b3cb37b1a0c\",\"type\":\"VBar\"},{\"attributes\":{\"callback\":null},\"id\":\"cb471a3c-867b-4bca-a08b-f2e498a5489b\",\"type\":\"DataRange1d\"},{\"attributes\":{},\"id\":\"4d5a9ff7-377e-481f-a474-7103616f45d0\",\"type\":\"ResetTool\"},{\"attributes\":{\"source\":{\"id\":\"3740b5ab-b18f-4d79-abf7-7733f0ae798b\",\"type\":\"ColumnDataSource\"}},\"id\":\"37e062f9-f0fb-4a67-b0fc-2070ec4d1539\",\"type\":\"CDSView\"},{\"attributes\":{},\"id\":\"e5de67ba-5c0d-4a62-9d5d-b90d67ec7ee6\",\"type\":\"HelpTool\"},{\"attributes\":{\"data_source\":{\"id\":\"eedeb67e-a0c8-4dc7-94fe-08f388955150\",\"type\":\"ColumnDataSource\"},\"glyph\":{\"id\":\"73615a71-5a66-439f-8f55-2f26daeddde3\",\"type\":\"VBar\"},\"hover_glyph\":null,\"muted_glyph\":null,\"nonselection_glyph\":{\"id\":\"3a8274c0-74bc-4bfd-ab21-267f2f477d08\",\"type\":\"VBar\"},\"selection_glyph\":null,\"view\":{\"id\":\"67833309-907a-457d-ae6f-782bb4c8887c\",\"type\":\"CDSView\"}},\"id\":\"d7d8dfde-d00a-4b6d-9f32-d84211278eb5\",\"type\":\"GlyphRenderer\"},{\"attributes\":{},\"id\":\"c534532f-18af-4dfc-9fb2-3f34799e2607\",\"type\":\"ResetTool\"},{\"attributes\":{},\"id\":\"bd917f18-a416-4a32-9f3f-423769063661\",\"type\":\"CategoricalTickFormatter\"},{\"attributes\":{\"fill_alpha\":{\"value\":0.1},\"fill_color\":{\"value\":\"#1f77b4\"},\"line_alpha\":{\"value\":0.1},\"line_color\":{\"value\":\"#1f77b4\"},\"top\":{\"field\":\"flux\"},\"width\":{\"value\":0.9},\"x\":{\"field\":\"band\"}},\"id\":\"ac2ebe20-f61b-4795-b875-38fa0ee06a70\",\"type\":\"VBar\"},{\"attributes\":{},\"id\":\"943bea11-826c-4cbe-bd53-afdbe33e5204\",\"type\":\"WheelZoomTool\"},{\"attributes\":{\"children\":[{\"id\":\"cc685a99-1e76-46ff-a5b5-1ae4484590aa\",\"type\":\"Row\"}]},\"id\":\"88e3f5b6-01db-4dfe-bd36-049e9cee6e3d\",\"type\":\"Column\"},{\"attributes\":{},\"id\":\"9037df69-ed96-4304-96a2-39196e8fa69b\",\"type\":\"SaveTool\"},{\"attributes\":{},\"id\":\"b422a3e5-bb24-4bee-a702-25164cd644fb\",\"type\":\"HelpTool\"},{\"attributes\":{},\"id\":\"6c24393c-69c4-468b-a24f-e4b86db643ce\",\"type\":\"PanTool\"},{\"attributes\":{\"tools\":[{\"id\":\"d1ce0776-f0db-4576-aa7a-587663b5bf2f\",\"type\":\"PanTool\"},{\"id\":\"943bea11-826c-4cbe-bd53-afdbe33e5204\",\"type\":\"WheelZoomTool\"},{\"id\":\"d904ed0c-5386-4017-b51e-d05d2e2729ae\",\"type\":\"BoxZoomTool\"},{\"id\":\"3899cf00-729d-42f5-9e4d-4c6d9cd97cd7\",\"type\":\"SaveTool\"},{\"id\":\"a14aaa73-3eb0-490c-a9fc-387ef0ab5797\",\"type\":\"ResetTool\"},{\"id\":\"e5de67ba-5c0d-4a62-9d5d-b90d67ec7ee6\",\"type\":\"HelpTool\"},{\"id\":\"c49878fa-acb3-4da0-bfdc-ea1e5a15965f\",\"type\":\"PanTool\"},{\"id\":\"bced1cb8-277c-4858-87f5-506c79f9cbfa\",\"type\":\"WheelZoomTool\"},{\"id\":\"7e07f7b9-5dda-4052-a89b-a7127680125e\",\"type\":\"BoxZoomTool\"},{\"id\":\"064aead3-27fe-434e-943e-7745eac34c10\",\"type\":\"SaveTool\"},{\"id\":\"4d5a9ff7-377e-481f-a474-7103616f45d0\",\"type\":\"ResetTool\"},{\"id\":\"8a09a40e-6f99-4b24-8801-20f8b6bdfee4\",\"type\":\"HelpTool\"},{\"id\":\"6c24393c-69c4-468b-a24f-e4b86db643ce\",\"type\":\"PanTool\"},{\"id\":\"75829d3b-6449-48c6-938c-3292558f0d3a\",\"type\":\"WheelZoomTool\"},{\"id\":\"5afa186b-372a-4045-b222-4c5a52229e70\",\"type\":\"BoxZoomTool\"},{\"id\":\"9037df69-ed96-4304-96a2-39196e8fa69b\",\"type\":\"SaveTool\"},{\"id\":\"c534532f-18af-4dfc-9fb2-3f34799e2607\",\"type\":\"ResetTool\"},{\"id\":\"b422a3e5-bb24-4bee-a702-25164cd644fb\",\"type\":\"HelpTool\"}]},\"id\":\"1ff7b1e9-0d12-4605-9362-ea1e73be0e38\",\"type\":\"ProxyToolbar\"},{\"attributes\":{\"axis_label\":\"spectral band\",\"formatter\":{\"id\":\"bd917f18-a416-4a32-9f3f-423769063661\",\"type\":\"CategoricalTickFormatter\"},\"plot\":{\"id\":\"df808b61-1133-4db9-abc5-19003b8a8cf9\",\"subtype\":\"Figure\",\"type\":\"Plot\"},\"ticker\":{\"id\":\"8276ba5e-6e0d-4f7c-b7af-5c241f2062f0\",\"type\":\"CategoricalTicker\"}},\"id\":\"8fd0f20a-bb27-48c1-ae6f-86b1e5f1cd40\",\"type\":\"CategoricalAxis\"},{\"attributes\":{\"below\":[{\"id\":\"8fd0f20a-bb27-48c1-ae6f-86b1e5f1cd40\",\"type\":\"CategoricalAxis\"}],\"left\":[{\"id\":\"238d10f7-59ed-41f0-a79d-705872416fcb\",\"type\":\"LinearAxis\"}],\"plot_height\":300,\"plot_width\":300,\"renderers\":[{\"id\":\"8fd0f20a-bb27-48c1-ae6f-86b1e5f1cd40\",\"type\":\"CategoricalAxis\"},{\"id\":\"c9996182-04bf-479f-a76e-f88ab650edfd\",\"type\":\"Grid\"},{\"id\":\"238d10f7-59ed-41f0-a79d-705872416fcb\",\"type\":\"LinearAxis\"},{\"id\":\"cac8f89d-a1b7-4459-a080-cb32d8826f97\",\"type\":\"Grid\"},{\"id\":\"d50fdf8a-f96d-4b93-ae47-f6765a39081e\",\"type\":\"BoxAnnotation\"},{\"id\":\"0cdaf795-e190-4415-b6af-2c1a72c04a11\",\"type\":\"GlyphRenderer\"}],\"title\":{\"id\":\"6f53dc61-12e0-45ee-8f0b-1f3501ec9c31\",\"type\":\"Title\"},\"toolbar\":{\"id\":\"12343b04-1cae-4f1e-87c7-c33addbe1d46\",\"type\":\"Toolbar\"},\"toolbar_location\":null,\"x_range\":{\"id\":\"9dd5d687-e5de-4735-bea3-b1d357b4bd87\",\"type\":\"FactorRange\"},\"x_scale\":{\"id\":\"d3992b19-b3d6-470a-8bdd-2b070eec0d9e\",\"type\":\"CategoricalScale\"},\"y_range\":{\"id\":\"c970d2a9-9fac-4864-864a-13bd4941f4ac\",\"type\":\"DataRange1d\"},\"y_scale\":{\"id\":\"fa142b60-8c1a-43ca-8c25-d5043a7a53dd\",\"type\":\"LinearScale\"}},\"id\":\"df808b61-1133-4db9-abc5-19003b8a8cf9\",\"subtype\":\"Figure\",\"type\":\"Plot\"},{\"attributes\":{\"bottom_units\":\"screen\",\"fill_alpha\":{\"value\":0.5},\"fill_color\":{\"value\":\"lightgrey\"},\"left_units\":\"screen\",\"level\":\"overlay\",\"line_alpha\":{\"value\":1.0},\"line_color\":{\"value\":\"black\"},\"line_dash\":[4,4],\"line_width\":{\"value\":2},\"plot\":null,\"render_mode\":\"css\",\"right_units\":\"screen\",\"top_units\":\"screen\"},\"id\":\"df77ae27-a788-4405-b4c4-7314cac9f04a\",\"type\":\"BoxAnnotation\"},{\"attributes\":{\"fill_color\":{\"value\":\"#1f77b4\"},\"line_color\":{\"value\":\"#1f77b4\"},\"top\":{\"field\":\"flux\"},\"width\":{\"value\":0.9},\"x\":{\"field\":\"band\"}},\"id\":\"306d7064-b2a2-4bdd-9b1a-57a0d82597a7\",\"type\":\"VBar\"},{\"attributes\":{\"callback\":null},\"id\":\"c970d2a9-9fac-4864-864a-13bd4941f4ac\",\"type\":\"DataRange1d\"},{\"attributes\":{},\"id\":\"a14aaa73-3eb0-490c-a9fc-387ef0ab5797\",\"type\":\"ResetTool\"},{\"attributes\":{\"callback\":null,\"data\":{\"band\":[\"1\",\"2\",\"3\",\"4\",\"5\",\"6\",\"7\",\"8\",\"9\",\"10\",\"11\"],\"flux\":{\"__ndarray__\":\"AADADkbs874Ak+S5vg/QPwANMzSeCMq/ABTRr62frj8A8Z2Y9WLjP6As7j8yHd0/gB2NQ/0usj8AQGTbs/iOP0Churn429E/AFDtmpDWiD8AO3arQl6wPw==\",\"dtype\":\"float64\",\"shape\":[11]}},\"selected\":{\"id\":\"a234bc1d-cb90-4935-be33-d07d526766eb\",\"type\":\"Selection\"},\"selection_policy\":{\"id\":\"a1a2b187-870a-4692-8a1d-63cbc4582adf\",\"type\":\"UnionRenderers\"}},\"id\":\"3740b5ab-b18f-4d79-abf7-7733f0ae798b\",\"type\":\"ColumnDataSource\"},{\"attributes\":{},\"id\":\"a234bc1d-cb90-4935-be33-d07d526766eb\",\"type\":\"Selection\"},{\"attributes\":{\"toolbar\":{\"id\":\"1ff7b1e9-0d12-4605-9362-ea1e73be0e38\",\"type\":\"ProxyToolbar\"},\"toolbar_location\":\"above\"},\"id\":\"56d2a8a9-0cf3-4efa-8f6a-eea9a16ff2a4\",\"type\":\"ToolbarBox\"},{\"attributes\":{},\"id\":\"bd8787c7-94d1-46c5-85cf-6fcca905664b\",\"type\":\"BasicTickFormatter\"},{\"attributes\":{},\"id\":\"a1a2b187-870a-4692-8a1d-63cbc4582adf\",\"type\":\"UnionRenderers\"},{\"attributes\":{},\"id\":\"d1ce0776-f0db-4576-aa7a-587663b5bf2f\",\"type\":\"PanTool\"},{\"attributes\":{\"active_drag\":\"auto\",\"active_inspect\":\"auto\",\"active_scroll\":\"auto\",\"active_tap\":\"auto\",\"tools\":[{\"id\":\"d1ce0776-f0db-4576-aa7a-587663b5bf2f\",\"type\":\"PanTool\"},{\"id\":\"943bea11-826c-4cbe-bd53-afdbe33e5204\",\"type\":\"WheelZoomTool\"},{\"id\":\"d904ed0c-5386-4017-b51e-d05d2e2729ae\",\"type\":\"BoxZoomTool\"},{\"id\":\"3899cf00-729d-42f5-9e4d-4c6d9cd97cd7\",\"type\":\"SaveTool\"},{\"id\":\"a14aaa73-3eb0-490c-a9fc-387ef0ab5797\",\"type\":\"ResetTool\"},{\"id\":\"e5de67ba-5c0d-4a62-9d5d-b90d67ec7ee6\",\"type\":\"HelpTool\"}]},\"id\":\"12343b04-1cae-4f1e-87c7-c33addbe1d46\",\"type\":\"Toolbar\"},{\"attributes\":{\"source\":{\"id\":\"eedeb67e-a0c8-4dc7-94fe-08f388955150\",\"type\":\"ColumnDataSource\"}},\"id\":\"67833309-907a-457d-ae6f-782bb4c8887c\",\"type\":\"CDSView\"},{\"attributes\":{\"source\":{\"id\":\"604d9a20-2b11-4f2d-89b8-69b8f39dbe22\",\"type\":\"ColumnDataSource\"}},\"id\":\"33f00517-be34-4033-b7f9-8015857e4fb1\",\"type\":\"CDSView\"},{\"attributes\":{\"fill_color\":{\"value\":\"#1f77b4\"},\"line_color\":{\"value\":\"#1f77b4\"},\"top\":{\"field\":\"flux\"},\"width\":{\"value\":0.9},\"x\":{\"field\":\"band\"}},\"id\":\"73615a71-5a66-439f-8f55-2f26daeddde3\",\"type\":\"VBar\"},{\"attributes\":{\"children\":[{\"id\":\"df808b61-1133-4db9-abc5-19003b8a8cf9\",\"subtype\":\"Figure\",\"type\":\"Plot\"},{\"id\":\"1d61f898-5c0a-4095-b581-308ed3516d40\",\"subtype\":\"Figure\",\"type\":\"Plot\"},{\"id\":\"497e0012-c541-4822-807c-574909c903e9\",\"subtype\":\"Figure\",\"type\":\"Plot\"}]},\"id\":\"cc685a99-1e76-46ff-a5b5-1ae4484590aa\",\"type\":\"Row\"},{\"attributes\":{},\"id\":\"e328dbec-311d-4e9d-a366-3eaeaa504511\",\"type\":\"CategoricalTickFormatter\"},{\"attributes\":{},\"id\":\"d3992b19-b3d6-470a-8bdd-2b070eec0d9e\",\"type\":\"CategoricalScale\"},{\"attributes\":{\"callback\":null,\"factors\":[\"1\",\"2\",\"3\",\"4\",\"5\",\"6\",\"7\",\"8\",\"9\",\"10\",\"11\"]},\"id\":\"9dd5d687-e5de-4735-bea3-b1d357b4bd87\",\"type\":\"FactorRange\"},{\"attributes\":{},\"id\":\"82d0191b-97e8-4d10-9cbf-94fe8c51d61d\",\"type\":\"Selection\"},{\"attributes\":{\"overlay\":{\"id\":\"df77ae27-a788-4405-b4c4-7314cac9f04a\",\"type\":\"BoxAnnotation\"}},\"id\":\"5afa186b-372a-4045-b222-4c5a52229e70\",\"type\":\"BoxZoomTool\"},{\"attributes\":{\"overlay\":{\"id\":\"d50fdf8a-f96d-4b93-ae47-f6765a39081e\",\"type\":\"BoxAnnotation\"}},\"id\":\"d904ed0c-5386-4017-b51e-d05d2e2729ae\",\"type\":\"BoxZoomTool\"},{\"attributes\":{},\"id\":\"8276ba5e-6e0d-4f7c-b7af-5c241f2062f0\",\"type\":\"CategoricalTicker\"},{\"attributes\":{\"data_source\":{\"id\":\"604d9a20-2b11-4f2d-89b8-69b8f39dbe22\",\"type\":\"ColumnDataSource\"},\"glyph\":{\"id\":\"306d7064-b2a2-4bdd-9b1a-57a0d82597a7\",\"type\":\"VBar\"},\"hover_glyph\":null,\"muted_glyph\":null,\"nonselection_glyph\":{\"id\":\"ac2ebe20-f61b-4795-b875-38fa0ee06a70\",\"type\":\"VBar\"},\"selection_glyph\":null,\"view\":{\"id\":\"33f00517-be34-4033-b7f9-8015857e4fb1\",\"type\":\"CDSView\"}},\"id\":\"0cdaf795-e190-4415-b6af-2c1a72c04a11\",\"type\":\"GlyphRenderer\"},{\"attributes\":{},\"id\":\"75829d3b-6449-48c6-938c-3292558f0d3a\",\"type\":\"WheelZoomTool\"},{\"attributes\":{\"bottom_units\":\"screen\",\"fill_alpha\":{\"value\":0.5},\"fill_color\":{\"value\":\"lightgrey\"},\"left_units\":\"screen\",\"level\":\"overlay\",\"line_alpha\":{\"value\":1.0},\"line_color\":{\"value\":\"black\"},\"line_dash\":[4,4],\"line_width\":{\"value\":2},\"plot\":null,\"render_mode\":\"css\",\"right_units\":\"screen\",\"top_units\":\"screen\"},\"id\":\"51b80625-6edc-4e15-bd13-1dc9c8ff8aa4\",\"type\":\"BoxAnnotation\"},{\"attributes\":{\"fill_alpha\":{\"value\":0.1},\"fill_color\":{\"value\":\"#1f77b4\"},\"line_alpha\":{\"value\":0.1},\"line_color\":{\"value\":\"#1f77b4\"},\"top\":{\"field\":\"flux\"},\"width\":{\"value\":0.9},\"x\":{\"field\":\"band\"}},\"id\":\"34c98b88-65b7-4d73-875b-a0dd79a412b2\",\"type\":\"VBar\"},{\"attributes\":{\"callback\":null,\"data\":{\"band\":[\"1\",\"2\",\"3\",\"4\",\"5\",\"6\",\"7\",\"8\",\"9\",\"10\",\"11\"],\"flux\":{\"__ndarray__\":\"AID6S2L7yj8AhLZzzD+yPwC8gsh9Brm/ABW46Y0C4D8gA5fHmpHSvwDp7GRwlN+/gOE/3UCBxT8Atr3dkhzAv0C4FKEiGNC/wG+hI6BfwD9Ab6jOWVWpPw==\",\"dtype\":\"float64\",\"shape\":[11]}},\"selected\":{\"id\":\"00ad70d9-bd89-4f1b-a498-0cb9bdb01f35\",\"type\":\"Selection\"},\"selection_policy\":{\"id\":\"7dda714b-4f55-4853-bb8c-24d8792b93d9\",\"type\":\"UnionRenderers\"}},\"id\":\"eedeb67e-a0c8-4dc7-94fe-08f388955150\",\"type\":\"ColumnDataSource\"},{\"attributes\":{\"plot\":{\"id\":\"df808b61-1133-4db9-abc5-19003b8a8cf9\",\"subtype\":\"Figure\",\"type\":\"Plot\"},\"ticker\":{\"id\":\"8276ba5e-6e0d-4f7c-b7af-5c241f2062f0\",\"type\":\"CategoricalTicker\"}},\"id\":\"c9996182-04bf-479f-a76e-f88ab650edfd\",\"type\":\"Grid\"},{\"attributes\":{\"axis_label\":\"flux (W m-2)\",\"formatter\":{\"id\":\"dacc8ed7-bd3b-4b64-a8ee-03312241d0c8\",\"type\":\"BasicTickFormatter\"},\"plot\":{\"id\":\"df808b61-1133-4db9-abc5-19003b8a8cf9\",\"subtype\":\"Figure\",\"type\":\"Plot\"},\"ticker\":{\"id\":\"db7bd404-ac6d-4492-b908-d288ff6a1ef5\",\"type\":\"BasicTicker\"}},\"id\":\"238d10f7-59ed-41f0-a79d-705872416fcb\",\"type\":\"LinearAxis\"},{\"attributes\":{},\"id\":\"dacc8ed7-bd3b-4b64-a8ee-03312241d0c8\",\"type\":\"BasicTickFormatter\"},{\"attributes\":{\"bottom_units\":\"screen\",\"fill_alpha\":{\"value\":0.5},\"fill_color\":{\"value\":\"lightgrey\"},\"left_units\":\"screen\",\"level\":\"overlay\",\"line_alpha\":{\"value\":1.0},\"line_color\":{\"value\":\"black\"},\"line_dash\":[4,4],\"line_width\":{\"value\":2},\"plot\":null,\"render_mode\":\"css\",\"right_units\":\"screen\",\"top_units\":\"screen\"},\"id\":\"d50fdf8a-f96d-4b93-ae47-f6765a39081e\",\"type\":\"BoxAnnotation\"},{\"attributes\":{},\"id\":\"9f37dab9-d72c-4eae-b4ae-d4e4d0ca328f\",\"type\":\"UnionRenderers\"},{\"attributes\":{\"dimension\":1,\"plot\":{\"id\":\"df808b61-1133-4db9-abc5-19003b8a8cf9\",\"subtype\":\"Figure\",\"type\":\"Plot\"},\"ticker\":{\"id\":\"db7bd404-ac6d-4492-b908-d288ff6a1ef5\",\"type\":\"BasicTicker\"}},\"id\":\"cac8f89d-a1b7-4459-a080-cb32d8826f97\",\"type\":\"Grid\"},{\"attributes\":{},\"id\":\"7dda714b-4f55-4853-bb8c-24d8792b93d9\",\"type\":\"UnionRenderers\"},{\"attributes\":{},\"id\":\"db7bd404-ac6d-4492-b908-d288ff6a1ef5\",\"type\":\"BasicTicker\"},{\"attributes\":{\"fill_alpha\":{\"value\":0.1},\"fill_color\":{\"value\":\"#1f77b4\"},\"line_alpha\":{\"value\":0.1},\"line_color\":{\"value\":\"#1f77b4\"},\"top\":{\"field\":\"flux\"},\"width\":{\"value\":0.9},\"x\":{\"field\":\"band\"}},\"id\":\"3a8274c0-74bc-4bfd-ab21-267f2f477d08\",\"type\":\"VBar\"},{\"attributes\":{},\"id\":\"3899cf00-729d-42f5-9e4d-4c6d9cd97cd7\",\"type\":\"SaveTool\"},{\"attributes\":{},\"id\":\"00ad70d9-bd89-4f1b-a498-0cb9bdb01f35\",\"type\":\"Selection\"},{\"attributes\":{\"children\":[{\"id\":\"56d2a8a9-0cf3-4efa-8f6a-eea9a16ff2a4\",\"type\":\"ToolbarBox\"},{\"id\":\"88e3f5b6-01db-4dfe-bd36-049e9cee6e3d\",\"type\":\"Column\"}]},\"id\":\"d42e4435-70ec-4048-a040-1020c86788aa\",\"type\":\"Column\"},{\"attributes\":{},\"id\":\"fa142b60-8c1a-43ca-8c25-d5043a7a53dd\",\"type\":\"LinearScale\"},{\"attributes\":{\"plot\":null,\"text\":\"TOA flux. CLIRAD (single-run) - CRD.\"},\"id\":\"6f53dc61-12e0-45ee-8f0b-1f3501ec9c31\",\"type\":\"Title\"},{\"attributes\":{\"dimension\":1,\"plot\":{\"id\":\"497e0012-c541-4822-807c-574909c903e9\",\"subtype\":\"Figure\",\"type\":\"Plot\"},\"ticker\":{\"id\":\"ab8f608d-adc0-43a9-9b5a-08172acbd2b1\",\"type\":\"BasicTicker\"}},\"id\":\"f5ec31b5-1d33-40c2-b750-eeb27c40f6ac\",\"type\":\"Grid\"}],\"root_ids\":[\"d42e4435-70ec-4048-a040-1020c86788aa\"]},\"title\":\"Bokeh Application\",\"version\":\"0.12.16\"}};\n",
       "  var render_items = [{\"docid\":\"ab96bb35-b0ec-445f-a70c-d2df100832aa\",\"elementid\":\"30df2019-a5e5-411f-889a-1279f6b8e869\",\"modelid\":\"d42e4435-70ec-4048-a040-1020c86788aa\"}];\n",
       "  root.Bokeh.embed.embed_items_notebook(docs_json, render_items);\n",
       "\n",
       "  }\n",
       "  if (root.Bokeh !== undefined) {\n",
       "    embed_document(root);\n",
       "  } else {\n",
       "    var attempts = 0;\n",
       "    var timer = setInterval(function(root) {\n",
       "      if (root.Bokeh !== undefined) {\n",
       "        embed_document(root);\n",
       "        clearInterval(timer);\n",
       "      }\n",
       "      attempts++;\n",
       "      if (attempts > 100) {\n",
       "        console.log(\"Bokeh: ERROR: Unable to run BokehJS code because BokehJS library is missing\")\n",
       "        clearInterval(timer);\n",
       "      }\n",
       "    }, 10, root)\n",
       "  }\n",
       "})(window);"
      ],
      "application/vnd.bokehjs_exec.v0+json": ""
     },
     "metadata": {
      "application/vnd.bokehjs_exec.v0+json": {
       "id": "d42e4435-70ec-4048-a040-1020c86788aa"
      }
     },
     "output_type": "display_data"
    },
    {
     "data": {
      "text/markdown": [
       "*FIGURE.* Difference between CLIRAD and CRD in TOA, SFC and net atmosphere flux, in each spectral band."
      ],
      "text/plain": [
       "<IPython.core.display.Markdown object>"
      ]
     },
     "metadata": {},
     "output_type": "display_data"
    },
    {
     "data": {
      "text/html": [
       "<div>\n",
       "<style scoped>\n",
       "    .dataframe tbody tr th:only-of-type {\n",
       "        vertical-align: middle;\n",
       "    }\n",
       "\n",
       "    .dataframe tbody tr th {\n",
       "        vertical-align: top;\n",
       "    }\n",
       "\n",
       "    .dataframe thead th {\n",
       "        text-align: right;\n",
       "    }\n",
       "</style>\n",
       "<table border=\"1\" class=\"dataframe\">\n",
       "  <thead>\n",
       "    <tr style=\"text-align: right;\">\n",
       "      <th></th>\n",
       "      <th>OLR flux</th>\n",
       "      <th>SFC flux</th>\n",
       "      <th>ATM heating</th>\n",
       "    </tr>\n",
       "    <tr>\n",
       "      <th>Sum over bands</th>\n",
       "      <th></th>\n",
       "      <th></th>\n",
       "      <th></th>\n",
       "    </tr>\n",
       "  </thead>\n",
       "  <tbody>\n",
       "    <tr>\n",
       "      <th>CLIRAD (single-run) - CRD</th>\n",
       "      <td>1.48</td>\n",
       "      <td>1.61</td>\n",
       "      <td>-0.13</td>\n",
       "    </tr>\n",
       "    <tr>\n",
       "      <th>CRD</th>\n",
       "      <td>-303.40</td>\n",
       "      <td>337.24</td>\n",
       "      <td>-181.37</td>\n",
       "    </tr>\n",
       "  </tbody>\n",
       "</table>\n",
       "</div>"
      ],
      "text/plain": [
       "                           OLR flux  SFC flux  ATM heating\n",
       "Sum over bands                                            \n",
       "CLIRAD (single-run) - CRD      1.48      1.61        -0.13\n",
       "CRD                         -303.40    337.24      -181.37"
      ]
     },
     "metadata": {},
     "output_type": "display_data"
    },
    {
     "data": {
      "text/markdown": [
       "*TABLE.* Difference between CLIRAD and CRD in TOA, SFC and net atmosphere flux, over all spectral bands. CRD's TOA, SFC and net atmosphere flux, over all spectral bands."
      ],
      "text/plain": [
       "<IPython.core.display.Markdown object>"
      ]
     },
     "metadata": {},
     "output_type": "display_data"
    }
   ],
   "source": [
    "def show_html(s):\n",
    "    display.display(display.HTML(s))\n",
    "\n",
    "    \n",
    "def show_markdown(s):\n",
    "    display.display(display.Markdown(s))\n",
    "\n",
    "\n",
    "def script():\n",
    "    \n",
    "    d_atm = {'mls': 'mid-latitude summer',\n",
    "             'saw': 'sub-arctic winter',\n",
    "             'trp': 'tropical'}\n",
    "    \n",
    "    title = ('## Results over entire range of molecules'\n",
    "             ' and spectral bands')\n",
    "    \n",
    "    s_makeup = 'Makeup of atmosphere.'\n",
    "    s_atmpro = '# {}'\n",
    "    s_cool = 'Cooling rates. {}.'\n",
    "    s_flux = 'Fluxes. {}.'\n",
    "    \n",
    "    atmpros = ['mls', 'saw', 'trp']\n",
    "    \n",
    "    # TOC\n",
    "    show_markdown(title)\n",
    "    show_markdown('### Table of Contents')\n",
    "    show_html(climahtml.getHTML_hrefanchor(s_makeup))\n",
    "    for atmpro in atmpros:\n",
    "        show_markdown('**' + d_atm[atmpro] + '**')\n",
    "        show_html(climahtml.getHTML_hrefanchor(s_cool.format(atmpro)))\n",
    "        show_html(climahtml.getHTML_hrefanchor(s_flux.format(atmpro)))\n",
    "\n",
    "        \n",
    "    # Atmosphere makeup\n",
    "    show_html(climahtml.getHTML_idanchor(s_makeup))\n",
    "    show_markdown(climahtml.getMarkdown_sectitle(s_makeup))\n",
    "    show_makeup()\n",
    "        \n",
    "    for atmpro in atmpros:\n",
    "        show_html(climahtml.getHTML_idanchor(s_cool.format(atmpro)))\n",
    "        show_markdown(\n",
    "            climahtml.getMarkdown_sectitle(s_cool.format(atmpro)))\n",
    "        show_cool(atmpro=atmpro)\n",
    "        show_html(climahtml.getHTML_idanchor(s_flux.format(atmpro)))\n",
    "        show_markdown(\n",
    "            climahtml.getMarkdown_sectitle(s_flux.format(atmpro)))\n",
    "        show_hist_flux(atmpro=atmpro)\n",
    "        show_tb_flux(atmpro=atmpro)\n",
    "    \n",
    "    \n",
    "script()  "
   ]
  },
  {
   "cell_type": "code",
   "execution_count": null,
   "metadata": {
    "collapsed": true
   },
   "outputs": [],
   "source": []
  },
  {
   "cell_type": "code",
   "execution_count": 41,
   "metadata": {},
   "outputs": [
    {
     "data": {
      "text/html": [
       "<script>\n",
       "code_show=true; \n",
       "function code_toggle() {\n",
       " if (code_show){\n",
       " $('div.input').hide();\n",
       " } else {\n",
       " $('div.input').show();\n",
       " }\n",
       " code_show = !code_show\n",
       "} \n",
       "$( document ).ready(code_toggle);\n",
       "</script>\n",
       "<form action=\"javascript:code_toggle()\"><input type=\"submit\" value=\"Click here to toggle on/off the raw code.\"></form>"
      ],
      "text/plain": [
       "<IPython.core.display.HTML object>"
      ]
     },
     "execution_count": 41,
     "metadata": {},
     "output_type": "execute_result"
    }
   ],
   "source": [
    "display.HTML('''<script>\n",
    "code_show=true; \n",
    "function code_toggle() {\n",
    " if (code_show){\n",
    " $('div.input').hide();\n",
    " } else {\n",
    " $('div.input').show();\n",
    " }\n",
    " code_show = !code_show\n",
    "} \n",
    "$( document ).ready(code_toggle);\n",
    "</script>\n",
    "<form action=\"javascript:code_toggle()\"><input type=\"submit\" value=\"Click here to toggle on/off the raw code.\"></form>''')"
   ]
  },
  {
   "cell_type": "code",
   "execution_count": null,
   "metadata": {
    "collapsed": true
   },
   "outputs": [],
   "source": []
  }
 ],
 "metadata": {
  "kernelspec": {
   "display_name": "Python 3",
   "language": "python",
   "name": "python3"
  },
  "language_info": {
   "codemirror_mode": {
    "name": "ipython",
    "version": 3
   },
   "file_extension": ".py",
   "mimetype": "text/x-python",
   "name": "python",
   "nbconvert_exporter": "python",
   "pygments_lexer": "ipython3",
   "version": "3.6.1"
  }
 },
 "nbformat": 4,
 "nbformat_minor": 2
}
