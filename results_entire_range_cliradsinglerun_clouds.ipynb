{
 "cells": [
  {
   "cell_type": "code",
   "execution_count": 1,
   "metadata": {
    "collapsed": true
   },
   "outputs": [],
   "source": [
    "import os\n",
    "import ast\n",
    "import json\n",
    "import importlib \n",
    "import itertools\n",
    "import collections\n",
    "import pprint\n",
    "\n",
    "from bokeh.io import output_notebook, show\n",
    "from bokeh.layouts import gridplot\n",
    "from bokeh.plotting import figure\n",
    "from bokeh.models import Range1d, Legend, ColumnDataSource, FactorRange\n",
    "from bokeh.palettes import all_palettes\n",
    "from bokeh.transform import factor_cmap\n",
    "\n",
    "import matplotlib\n",
    "import matplotlib.pyplot as plt\n",
    "import numpy as np\n",
    "import pandas as pd\n",
    "import xarray as xr\n",
    "\n",
    "\n",
    "import climatools.lblnew.bestfit_params as bestfits\n",
    "from climatools.lblnew import setup_bestfit, setup_overlap\n",
    "import climatools.lblnew.pipeline as pipe_lblnew\n",
    "import climatools.cliradlw.setup as setup_cliradlw\n",
    "import climatools.cliradlw.pipeline as pipe_cliradlw\n",
    "\n",
    "import climatools.html.html as climahtml\n",
    "from climatools.lblnew.dataio import *\n",
    "from climatools.plot.plot import *\n",
    "\n",
    "\n",
    "from IPython import display\n",
    "\n",
    "#importlib.reload(bestfits)\n",
    "#importlib.reload(setup_bestfit)\n",
    "#importlib.reload(setup_overlap)\n",
    "#importlib.reload(pipe_lblnew)\n",
    "#importlib.reload(setup_cliradlw)\n",
    "#importlib.reload(pipe_cliradlw)"
   ]
  },
  {
   "cell_type": "code",
   "execution_count": 2,
   "metadata": {
    "scrolled": true
   },
   "outputs": [
    {
     "data": {
      "text/html": [
       "\n",
       "    <div class=\"bk-root\">\n",
       "        <a href=\"https://bokeh.pydata.org\" target=\"_blank\" class=\"bk-logo bk-logo-small bk-logo-notebook\"></a>\n",
       "        <span id=\"e4271da0-2ffb-49ed-be66-c6d366bbaf1e\">Loading BokehJS ...</span>\n",
       "    </div>"
      ]
     },
     "metadata": {},
     "output_type": "display_data"
    },
    {
     "data": {
      "application/javascript": [
       "\n",
       "(function(root) {\n",
       "  function now() {\n",
       "    return new Date();\n",
       "  }\n",
       "\n",
       "  var force = true;\n",
       "\n",
       "  if (typeof (root._bokeh_onload_callbacks) === \"undefined\" || force === true) {\n",
       "    root._bokeh_onload_callbacks = [];\n",
       "    root._bokeh_is_loading = undefined;\n",
       "  }\n",
       "\n",
       "  var JS_MIME_TYPE = 'application/javascript';\n",
       "  var HTML_MIME_TYPE = 'text/html';\n",
       "  var EXEC_MIME_TYPE = 'application/vnd.bokehjs_exec.v0+json';\n",
       "  var CLASS_NAME = 'output_bokeh rendered_html';\n",
       "\n",
       "  /**\n",
       "   * Render data to the DOM node\n",
       "   */\n",
       "  function render(props, node) {\n",
       "    var script = document.createElement(\"script\");\n",
       "    node.appendChild(script);\n",
       "  }\n",
       "\n",
       "  /**\n",
       "   * Handle when an output is cleared or removed\n",
       "   */\n",
       "  function handleClearOutput(event, handle) {\n",
       "    var cell = handle.cell;\n",
       "\n",
       "    var id = cell.output_area._bokeh_element_id;\n",
       "    var server_id = cell.output_area._bokeh_server_id;\n",
       "    // Clean up Bokeh references\n",
       "    if (id !== undefined) {\n",
       "      Bokeh.index[id].model.document.clear();\n",
       "      delete Bokeh.index[id];\n",
       "    }\n",
       "\n",
       "    if (server_id !== undefined) {\n",
       "      // Clean up Bokeh references\n",
       "      var cmd = \"from bokeh.io.state import curstate; print(curstate().uuid_to_server['\" + server_id + \"'].get_sessions()[0].document.roots[0]._id)\";\n",
       "      cell.notebook.kernel.execute(cmd, {\n",
       "        iopub: {\n",
       "          output: function(msg) {\n",
       "            var element_id = msg.content.text.trim();\n",
       "            Bokeh.index[element_id].model.document.clear();\n",
       "            delete Bokeh.index[element_id];\n",
       "          }\n",
       "        }\n",
       "      });\n",
       "      // Destroy server and session\n",
       "      var cmd = \"import bokeh.io.notebook as ion; ion.destroy_server('\" + server_id + \"')\";\n",
       "      cell.notebook.kernel.execute(cmd);\n",
       "    }\n",
       "  }\n",
       "\n",
       "  /**\n",
       "   * Handle when a new output is added\n",
       "   */\n",
       "  function handleAddOutput(event, handle) {\n",
       "    var output_area = handle.output_area;\n",
       "    var output = handle.output;\n",
       "\n",
       "    // limit handleAddOutput to display_data with EXEC_MIME_TYPE content only\n",
       "    if ((output.output_type != \"display_data\") || (!output.data.hasOwnProperty(EXEC_MIME_TYPE))) {\n",
       "      return\n",
       "    }\n",
       "\n",
       "    var toinsert = output_area.element.find(\".\" + CLASS_NAME.split(' ')[0]);\n",
       "\n",
       "    if (output.metadata[EXEC_MIME_TYPE][\"id\"] !== undefined) {\n",
       "      toinsert[toinsert.length - 1].firstChild.textContent = output.data[JS_MIME_TYPE];\n",
       "      // store reference to embed id on output_area\n",
       "      output_area._bokeh_element_id = output.metadata[EXEC_MIME_TYPE][\"id\"];\n",
       "    }\n",
       "    if (output.metadata[EXEC_MIME_TYPE][\"server_id\"] !== undefined) {\n",
       "      var bk_div = document.createElement(\"div\");\n",
       "      bk_div.innerHTML = output.data[HTML_MIME_TYPE];\n",
       "      var script_attrs = bk_div.children[0].attributes;\n",
       "      for (var i = 0; i < script_attrs.length; i++) {\n",
       "        toinsert[toinsert.length - 1].firstChild.setAttribute(script_attrs[i].name, script_attrs[i].value);\n",
       "      }\n",
       "      // store reference to server id on output_area\n",
       "      output_area._bokeh_server_id = output.metadata[EXEC_MIME_TYPE][\"server_id\"];\n",
       "    }\n",
       "  }\n",
       "\n",
       "  function register_renderer(events, OutputArea) {\n",
       "\n",
       "    function append_mime(data, metadata, element) {\n",
       "      // create a DOM node to render to\n",
       "      var toinsert = this.create_output_subarea(\n",
       "        metadata,\n",
       "        CLASS_NAME,\n",
       "        EXEC_MIME_TYPE\n",
       "      );\n",
       "      this.keyboard_manager.register_events(toinsert);\n",
       "      // Render to node\n",
       "      var props = {data: data, metadata: metadata[EXEC_MIME_TYPE]};\n",
       "      render(props, toinsert[toinsert.length - 1]);\n",
       "      element.append(toinsert);\n",
       "      return toinsert\n",
       "    }\n",
       "\n",
       "    /* Handle when an output is cleared or removed */\n",
       "    events.on('clear_output.CodeCell', handleClearOutput);\n",
       "    events.on('delete.Cell', handleClearOutput);\n",
       "\n",
       "    /* Handle when a new output is added */\n",
       "    events.on('output_added.OutputArea', handleAddOutput);\n",
       "\n",
       "    /**\n",
       "     * Register the mime type and append_mime function with output_area\n",
       "     */\n",
       "    OutputArea.prototype.register_mime_type(EXEC_MIME_TYPE, append_mime, {\n",
       "      /* Is output safe? */\n",
       "      safe: true,\n",
       "      /* Index of renderer in `output_area.display_order` */\n",
       "      index: 0\n",
       "    });\n",
       "  }\n",
       "\n",
       "  // register the mime type if in Jupyter Notebook environment and previously unregistered\n",
       "  if (root.Jupyter !== undefined) {\n",
       "    var events = require('base/js/events');\n",
       "    var OutputArea = require('notebook/js/outputarea').OutputArea;\n",
       "\n",
       "    if (OutputArea.prototype.mime_types().indexOf(EXEC_MIME_TYPE) == -1) {\n",
       "      register_renderer(events, OutputArea);\n",
       "    }\n",
       "  }\n",
       "\n",
       "  \n",
       "  if (typeof (root._bokeh_timeout) === \"undefined\" || force === true) {\n",
       "    root._bokeh_timeout = Date.now() + 5000;\n",
       "    root._bokeh_failed_load = false;\n",
       "  }\n",
       "\n",
       "  var NB_LOAD_WARNING = {'data': {'text/html':\n",
       "     \"<div style='background-color: #fdd'>\\n\"+\n",
       "     \"<p>\\n\"+\n",
       "     \"BokehJS does not appear to have successfully loaded. If loading BokehJS from CDN, this \\n\"+\n",
       "     \"may be due to a slow or bad network connection. Possible fixes:\\n\"+\n",
       "     \"</p>\\n\"+\n",
       "     \"<ul>\\n\"+\n",
       "     \"<li>re-rerun `output_notebook()` to attempt to load from CDN again, or</li>\\n\"+\n",
       "     \"<li>use INLINE resources instead, as so:</li>\\n\"+\n",
       "     \"</ul>\\n\"+\n",
       "     \"<code>\\n\"+\n",
       "     \"from bokeh.resources import INLINE\\n\"+\n",
       "     \"output_notebook(resources=INLINE)\\n\"+\n",
       "     \"</code>\\n\"+\n",
       "     \"</div>\"}};\n",
       "\n",
       "  function display_loaded() {\n",
       "    var el = document.getElementById(\"e4271da0-2ffb-49ed-be66-c6d366bbaf1e\");\n",
       "    if (el != null) {\n",
       "      el.textContent = \"BokehJS is loading...\";\n",
       "    }\n",
       "    if (root.Bokeh !== undefined) {\n",
       "      if (el != null) {\n",
       "        el.textContent = \"BokehJS \" + root.Bokeh.version + \" successfully loaded.\";\n",
       "      }\n",
       "    } else if (Date.now() < root._bokeh_timeout) {\n",
       "      setTimeout(display_loaded, 100)\n",
       "    }\n",
       "  }\n",
       "\n",
       "\n",
       "  function run_callbacks() {\n",
       "    try {\n",
       "      root._bokeh_onload_callbacks.forEach(function(callback) { callback() });\n",
       "    }\n",
       "    finally {\n",
       "      delete root._bokeh_onload_callbacks\n",
       "    }\n",
       "    console.info(\"Bokeh: all callbacks have finished\");\n",
       "  }\n",
       "\n",
       "  function load_libs(js_urls, callback) {\n",
       "    root._bokeh_onload_callbacks.push(callback);\n",
       "    if (root._bokeh_is_loading > 0) {\n",
       "      console.log(\"Bokeh: BokehJS is being loaded, scheduling callback at\", now());\n",
       "      return null;\n",
       "    }\n",
       "    if (js_urls == null || js_urls.length === 0) {\n",
       "      run_callbacks();\n",
       "      return null;\n",
       "    }\n",
       "    console.log(\"Bokeh: BokehJS not loaded, scheduling load and callback at\", now());\n",
       "    root._bokeh_is_loading = js_urls.length;\n",
       "    for (var i = 0; i < js_urls.length; i++) {\n",
       "      var url = js_urls[i];\n",
       "      var s = document.createElement('script');\n",
       "      s.src = url;\n",
       "      s.async = false;\n",
       "      s.onreadystatechange = s.onload = function() {\n",
       "        root._bokeh_is_loading--;\n",
       "        if (root._bokeh_is_loading === 0) {\n",
       "          console.log(\"Bokeh: all BokehJS libraries loaded\");\n",
       "          run_callbacks()\n",
       "        }\n",
       "      };\n",
       "      s.onerror = function() {\n",
       "        console.warn(\"failed to load library \" + url);\n",
       "      };\n",
       "      console.log(\"Bokeh: injecting script tag for BokehJS library: \", url);\n",
       "      document.getElementsByTagName(\"head\")[0].appendChild(s);\n",
       "    }\n",
       "  };var element = document.getElementById(\"e4271da0-2ffb-49ed-be66-c6d366bbaf1e\");\n",
       "  if (element == null) {\n",
       "    console.log(\"Bokeh: ERROR: autoload.js configured with elementid 'e4271da0-2ffb-49ed-be66-c6d366bbaf1e' but no matching script tag was found. \")\n",
       "    return false;\n",
       "  }\n",
       "\n",
       "  var js_urls = [\"https://cdn.pydata.org/bokeh/release/bokeh-0.12.16.min.js\", \"https://cdn.pydata.org/bokeh/release/bokeh-widgets-0.12.16.min.js\", \"https://cdn.pydata.org/bokeh/release/bokeh-tables-0.12.16.min.js\", \"https://cdn.pydata.org/bokeh/release/bokeh-gl-0.12.16.min.js\"];\n",
       "\n",
       "  var inline_js = [\n",
       "    function(Bokeh) {\n",
       "      Bokeh.set_log_level(\"info\");\n",
       "    },\n",
       "    \n",
       "    function(Bokeh) {\n",
       "      \n",
       "    },\n",
       "    function(Bokeh) {\n",
       "      console.log(\"Bokeh: injecting CSS: https://cdn.pydata.org/bokeh/release/bokeh-0.12.16.min.css\");\n",
       "      Bokeh.embed.inject_css(\"https://cdn.pydata.org/bokeh/release/bokeh-0.12.16.min.css\");\n",
       "      console.log(\"Bokeh: injecting CSS: https://cdn.pydata.org/bokeh/release/bokeh-widgets-0.12.16.min.css\");\n",
       "      Bokeh.embed.inject_css(\"https://cdn.pydata.org/bokeh/release/bokeh-widgets-0.12.16.min.css\");\n",
       "      console.log(\"Bokeh: injecting CSS: https://cdn.pydata.org/bokeh/release/bokeh-tables-0.12.16.min.css\");\n",
       "      Bokeh.embed.inject_css(\"https://cdn.pydata.org/bokeh/release/bokeh-tables-0.12.16.min.css\");\n",
       "    }\n",
       "  ];\n",
       "\n",
       "  function run_inline_js() {\n",
       "    \n",
       "    if ((root.Bokeh !== undefined) || (force === true)) {\n",
       "      for (var i = 0; i < inline_js.length; i++) {\n",
       "        inline_js[i].call(root, root.Bokeh);\n",
       "      }if (force === true) {\n",
       "        display_loaded();\n",
       "      }} else if (Date.now() < root._bokeh_timeout) {\n",
       "      setTimeout(run_inline_js, 100);\n",
       "    } else if (!root._bokeh_failed_load) {\n",
       "      console.log(\"Bokeh: BokehJS failed to load within specified timeout.\");\n",
       "      root._bokeh_failed_load = true;\n",
       "    } else if (force !== true) {\n",
       "      var cell = $(document.getElementById(\"e4271da0-2ffb-49ed-be66-c6d366bbaf1e\")).parents('.cell').data().cell;\n",
       "      cell.output_area.append_execute_result(NB_LOAD_WARNING)\n",
       "    }\n",
       "\n",
       "  }\n",
       "\n",
       "  if (root._bokeh_is_loading === 0) {\n",
       "    console.log(\"Bokeh: BokehJS loaded, going straight to plotting\");\n",
       "    run_inline_js();\n",
       "  } else {\n",
       "    load_libs(js_urls, function() {\n",
       "      console.log(\"Bokeh: BokehJS plotting callback run at\", now());\n",
       "      run_inline_js();\n",
       "    });\n",
       "  }\n",
       "}(window));"
      ],
      "application/vnd.bokehjs_load.v0+json": "\n(function(root) {\n  function now() {\n    return new Date();\n  }\n\n  var force = true;\n\n  if (typeof (root._bokeh_onload_callbacks) === \"undefined\" || force === true) {\n    root._bokeh_onload_callbacks = [];\n    root._bokeh_is_loading = undefined;\n  }\n\n  \n\n  \n  if (typeof (root._bokeh_timeout) === \"undefined\" || force === true) {\n    root._bokeh_timeout = Date.now() + 5000;\n    root._bokeh_failed_load = false;\n  }\n\n  var NB_LOAD_WARNING = {'data': {'text/html':\n     \"<div style='background-color: #fdd'>\\n\"+\n     \"<p>\\n\"+\n     \"BokehJS does not appear to have successfully loaded. If loading BokehJS from CDN, this \\n\"+\n     \"may be due to a slow or bad network connection. Possible fixes:\\n\"+\n     \"</p>\\n\"+\n     \"<ul>\\n\"+\n     \"<li>re-rerun `output_notebook()` to attempt to load from CDN again, or</li>\\n\"+\n     \"<li>use INLINE resources instead, as so:</li>\\n\"+\n     \"</ul>\\n\"+\n     \"<code>\\n\"+\n     \"from bokeh.resources import INLINE\\n\"+\n     \"output_notebook(resources=INLINE)\\n\"+\n     \"</code>\\n\"+\n     \"</div>\"}};\n\n  function display_loaded() {\n    var el = document.getElementById(\"e4271da0-2ffb-49ed-be66-c6d366bbaf1e\");\n    if (el != null) {\n      el.textContent = \"BokehJS is loading...\";\n    }\n    if (root.Bokeh !== undefined) {\n      if (el != null) {\n        el.textContent = \"BokehJS \" + root.Bokeh.version + \" successfully loaded.\";\n      }\n    } else if (Date.now() < root._bokeh_timeout) {\n      setTimeout(display_loaded, 100)\n    }\n  }\n\n\n  function run_callbacks() {\n    try {\n      root._bokeh_onload_callbacks.forEach(function(callback) { callback() });\n    }\n    finally {\n      delete root._bokeh_onload_callbacks\n    }\n    console.info(\"Bokeh: all callbacks have finished\");\n  }\n\n  function load_libs(js_urls, callback) {\n    root._bokeh_onload_callbacks.push(callback);\n    if (root._bokeh_is_loading > 0) {\n      console.log(\"Bokeh: BokehJS is being loaded, scheduling callback at\", now());\n      return null;\n    }\n    if (js_urls == null || js_urls.length === 0) {\n      run_callbacks();\n      return null;\n    }\n    console.log(\"Bokeh: BokehJS not loaded, scheduling load and callback at\", now());\n    root._bokeh_is_loading = js_urls.length;\n    for (var i = 0; i < js_urls.length; i++) {\n      var url = js_urls[i];\n      var s = document.createElement('script');\n      s.src = url;\n      s.async = false;\n      s.onreadystatechange = s.onload = function() {\n        root._bokeh_is_loading--;\n        if (root._bokeh_is_loading === 0) {\n          console.log(\"Bokeh: all BokehJS libraries loaded\");\n          run_callbacks()\n        }\n      };\n      s.onerror = function() {\n        console.warn(\"failed to load library \" + url);\n      };\n      console.log(\"Bokeh: injecting script tag for BokehJS library: \", url);\n      document.getElementsByTagName(\"head\")[0].appendChild(s);\n    }\n  };var element = document.getElementById(\"e4271da0-2ffb-49ed-be66-c6d366bbaf1e\");\n  if (element == null) {\n    console.log(\"Bokeh: ERROR: autoload.js configured with elementid 'e4271da0-2ffb-49ed-be66-c6d366bbaf1e' but no matching script tag was found. \")\n    return false;\n  }\n\n  var js_urls = [\"https://cdn.pydata.org/bokeh/release/bokeh-0.12.16.min.js\", \"https://cdn.pydata.org/bokeh/release/bokeh-widgets-0.12.16.min.js\", \"https://cdn.pydata.org/bokeh/release/bokeh-tables-0.12.16.min.js\", \"https://cdn.pydata.org/bokeh/release/bokeh-gl-0.12.16.min.js\"];\n\n  var inline_js = [\n    function(Bokeh) {\n      Bokeh.set_log_level(\"info\");\n    },\n    \n    function(Bokeh) {\n      \n    },\n    function(Bokeh) {\n      console.log(\"Bokeh: injecting CSS: https://cdn.pydata.org/bokeh/release/bokeh-0.12.16.min.css\");\n      Bokeh.embed.inject_css(\"https://cdn.pydata.org/bokeh/release/bokeh-0.12.16.min.css\");\n      console.log(\"Bokeh: injecting CSS: https://cdn.pydata.org/bokeh/release/bokeh-widgets-0.12.16.min.css\");\n      Bokeh.embed.inject_css(\"https://cdn.pydata.org/bokeh/release/bokeh-widgets-0.12.16.min.css\");\n      console.log(\"Bokeh: injecting CSS: https://cdn.pydata.org/bokeh/release/bokeh-tables-0.12.16.min.css\");\n      Bokeh.embed.inject_css(\"https://cdn.pydata.org/bokeh/release/bokeh-tables-0.12.16.min.css\");\n    }\n  ];\n\n  function run_inline_js() {\n    \n    if ((root.Bokeh !== undefined) || (force === true)) {\n      for (var i = 0; i < inline_js.length; i++) {\n        inline_js[i].call(root, root.Bokeh);\n      }if (force === true) {\n        display_loaded();\n      }} else if (Date.now() < root._bokeh_timeout) {\n      setTimeout(run_inline_js, 100);\n    } else if (!root._bokeh_failed_load) {\n      console.log(\"Bokeh: BokehJS failed to load within specified timeout.\");\n      root._bokeh_failed_load = true;\n    } else if (force !== true) {\n      var cell = $(document.getElementById(\"e4271da0-2ffb-49ed-be66-c6d366bbaf1e\")).parents('.cell').data().cell;\n      cell.output_area.append_execute_result(NB_LOAD_WARNING)\n    }\n\n  }\n\n  if (root._bokeh_is_loading === 0) {\n    console.log(\"Bokeh: BokehJS loaded, going straight to plotting\");\n    run_inline_js();\n  } else {\n    load_libs(js_urls, function() {\n      console.log(\"Bokeh: BokehJS plotting callback run at\", now());\n      run_inline_js();\n    });\n  }\n}(window));"
     },
     "metadata": {},
     "output_type": "display_data"
    }
   ],
   "source": [
    "output_notebook()"
   ]
  },
  {
   "cell_type": "code",
   "execution_count": 3,
   "metadata": {
    "collapsed": true
   },
   "outputs": [],
   "source": [
    "'''\n",
    "Get the clirad-lw and lblnew `param`s for all spectral bands.  \n",
    "These are returned by functions `clirad_params_atm` and\n",
    "`lblnew_params_atm`, respectively.\n",
    "'''\n",
    "\n",
    "def molecules_byband_atm():\n",
    "    return {1: {'h2o': 'atmpro'},\n",
    "            2: {'h2o': 'atmpro'}, \n",
    "            3: {'co2': 0.0004, 'h2o': 'atmpro', 'n2o': 3.2e-07},\n",
    "            4: {'co2': 0.0004, 'h2o': 'atmpro'},\n",
    "            5: {'co2': 0.0004, 'h2o': 'atmpro'},\n",
    "            6: {'co2': 0.0004, 'h2o': 'atmpro'},\n",
    "            7: {'co2': 0.0004, 'h2o': 'atmpro', 'o3': 'atmpro'},\n",
    "            8: {'h2o': 'atmpro'},\n",
    "            9: {'ch4': 1.8e-06, 'h2o': 'atmpro', 'n2o': 3.2e-07},\n",
    "            10: {'h2o': 'atmpro'},\n",
    "            11: {'co2': 0.0004, 'h2o': 'atmpro'}}\n",
    "\n",
    "\n",
    "def greyabsorbers_by_band_atm():\n",
    "    return {1: {'con': 'atmpro'},\n",
    "            2: {'con': 'atmpro'},\n",
    "            3: {'con': 'atmpro'},\n",
    "            4: {'con': 'atmpro'},\n",
    "            5: {'con': 'atmpro'},\n",
    "            6: {'con': 'atmpro'}, \n",
    "            7: {'con': 'atmpro'},\n",
    "            8: {'con': 'atmpro', 'n2o': 3.2e-7}, \n",
    "            9: {'con': 'atmpro'}, \n",
    "            10: None,\n",
    "            11: None}\n",
    "\n",
    "\n",
    "def clirad_params_atm(atmpro='mls'):\n",
    "    d = {}\n",
    "    for band, molecule in molecules_byband_atm().items():\n",
    "        for param in setup_cliradlw.test_cases():\n",
    "            if [band] == param['band'] and molecule == param['molecule']:\n",
    "                param['atmpro'] = atmpro\n",
    "                d[band] = param\n",
    "                break                \n",
    "    return d\n",
    "\n",
    "\n",
    "def clirad_params_atm_singlerun(atmpro='mls'):\n",
    "    '''\n",
    "    Returns param of clirad-lw run that is equivalent to the total\n",
    "    of all the runs listed in molecules_byband_atm().  In order\n",
    "    for the output to be compatible with clirad_data_atm(), it will\n",
    "    be a list.\n",
    "    '''\n",
    "    param0 = {'band': [1, 2, 3, 4, 5, 6, 7, 8, 9, 10, 11],\n",
    "              'commitnumber': 'a57f933',\n",
    "              'molecule': {'ch4': 1.8e-06,\n",
    "                           'co2': 0.0004,\n",
    "                           'h2o': 'atmpro',\n",
    "                           'n2o': 3.2e-07,\n",
    "                           'o3': 'atmpro'}}\n",
    "    \n",
    "    d_atmpros = {'mls': 294, 'saw': 257, 'trp': 300}\n",
    "    \n",
    "    param = param0.copy()\n",
    "    param['atmpro'] = atmpro\n",
    "    param['tsfc'] = d_atmpros[atmpro]\n",
    "    \n",
    "    d = {}\n",
    "    d['all'] = param\n",
    "    return d\n",
    "\n",
    "\n",
    "def analysis_dirs_atm(atmpro='mls'):\n",
    "    params = clirad_params_atm(atmpro=atmpro)\n",
    "    return {band: pipe_cliradlw.get_analysis_dir(param=param,\n",
    "                                                 setup=setup_cliradlw) \n",
    "            for band, param in params.items()}\n",
    "\n",
    "\n",
    "def lblnew_params_atm(atmpro='mls'):\n",
    "    dirs = analysis_dirs_atm(atmpro=atmpro)\n",
    "    \n",
    "    d = {}\n",
    "    for band, dirname in dirs.items():\n",
    "        with open(os.path.join(dirname, 'param.py'), \n",
    "                  mode='r', encoding='utf-8') as f:\n",
    "            _, l = f.readlines()\n",
    "        \n",
    "        s = l.split('=')[1].strip()\n",
    "        d[band] = ast.literal_eval(s)\n",
    "        \n",
    "    return d\n"
   ]
  },
  {
   "cell_type": "code",
   "execution_count": 4,
   "metadata": {
    "collapsed": true
   },
   "outputs": [],
   "source": [
    "def db_getdir():\n",
    "    atmpro = 'mls'\n",
    "    params = clirad_params_atm_singlerun(atmpro=atmpro)\n",
    "    param = params['all']\n",
    "    \n",
    "    fdir = pipe_cliradlw.get_fortran_dir(param=param, \n",
    "                                         setup=setup_cliradlw)\n",
    "    return fdir\n",
    "\n",
    "\n",
    "def db_ktable():\n",
    "    fdir = db_getdir()    \n",
    "    fpath = os.path.join(fdir, 'ktable.dat')\n",
    "    \n",
    "    df = pd.read_csv(fpath, sep=r'\\s+')\n",
    "    df = df.set_index(['band', 'mid', 'il', 'it', 'g'])\n",
    "    ds = xr.Dataset.from_dataframe(df)\n",
    "    return ds\n",
    "\n",
    "\n",
    "def db_ng_dgs():\n",
    "    fdir = db_getdir()\n",
    "    fpath = os.path.join(fdir, 'ng_dgs.dat')\n",
    "    \n",
    "    df = pd.read_csv(fpath, sep=r'\\s+')\n",
    "    df = df.set_index(['band', 'mid', 'g'])\n",
    "    ds = xr.Dataset.from_dataframe(df)\n",
    "    return ds\n"
   ]
  },
  {
   "cell_type": "code",
   "execution_count": 5,
   "metadata": {
    "collapsed": true
   },
   "outputs": [],
   "source": [
    "def show_makeup():\n",
    "    df = pd.DataFrame()\n",
    "\n",
    "    for band, molecule in molecules_byband_atm().items():\n",
    "        for name, conc in molecule.items():\n",
    "            df.loc[name, band] = str(conc)\n",
    "\n",
    "    df = df.fillna(0)\n",
    "    df.columns.name = 'clirad band'\n",
    "    df.index.name = 'molecule'\n",
    "    \n",
    "    display.display(df)\n",
    "    \n",
    "    display.display(\n",
    "        display.Markdown('*TABLE.* Non-grey absorbers in the atmosphere.'))\n",
    "\n",
    "\n",
    "def show_grey_makeup():\n",
    "    df = pd.DataFrame()\n",
    "    \n",
    "    for band, molecule in greyabsorbers_by_band_atm().items():\n",
    "        if molecule == None:\n",
    "            pass\n",
    "        else:\n",
    "            for name, conc in molecule.items():\n",
    "                df.loc[name, band] = str(conc)\n",
    "                \n",
    "    df = df.fillna(0)\n",
    "    df.columns.name = 'clirad band'\n",
    "    df.index.name = 'absorber'\n",
    "    \n",
    "    display.display(df)\n",
    "    display.display(\n",
    "        display.Markdown('*TABLE.* Grey absorbers in the atmosphere.')\n",
    "    )"
   ]
  },
  {
   "cell_type": "code",
   "execution_count": 6,
   "metadata": {
    "collapsed": true
   },
   "outputs": [],
   "source": [
    "def load_output_file(path_csv):\n",
    "    '''\n",
    "    Load lblnew output .csv file to xarray.Dataset\n",
    "    \n",
    "    Parameters\n",
    "    ----------\n",
    "    path_csv: str\n",
    "              Path to the .csv file to be loaded.\n",
    "    ds: xarray.Dataset\n",
    "        Data in the input file in the form of an xarray.Dataset.\n",
    "    '''\n",
    "    toindex = ['band', 'pressure', 'igg', 'g']    \n",
    "    df = pd.read_csv(path_csv, sep=r'\\s+')\n",
    "    df = df.set_index([i for i in toindex if i in df.columns])\n",
    "    df = df.rename(columns={'sfu': 'flug',\n",
    "                            'sfd': 'fldg',\n",
    "                            'fnet': 'fnetg',\n",
    "                            'coolr': 'coolrg'})\n",
    "    ds = xr.Dataset.from_dataframe(df)\n",
    "\n",
    "    for l in ('level', 'layer'):\n",
    "        if l in ds.data_vars:\n",
    "            if len(ds[l].dims) > 1:\n",
    "                surface = {d: 0 for d in ds.dims if d != 'pressure'}\n",
    "                coord_level = ds[l][surface]\n",
    "                ds.coords[l] = ('pressure', coord_level)\n",
    "            else:\n",
    "                ds.coords[l] = ('pressure', ds[l])\n",
    "    \n",
    "    return ds"
   ]
  },
  {
   "cell_type": "code",
   "execution_count": 7,
   "metadata": {
    "collapsed": true
   },
   "outputs": [],
   "source": [
    "def lblnew_setup(param=None):\n",
    "    if 'ng_refs' in param:\n",
    "        return {'setup': setup_bestfit,\n",
    "                'fname_flux_crd': 'output_flux.dat',\n",
    "                'fname_cool_crd': 'output_coolr.dat',\n",
    "                'fname_flux_wgt': 'output_wfluxg.dat',\n",
    "                'fname_cool_wgt': 'output_wcoolrg.dat'}\n",
    "    else:\n",
    "        return {'setup': setup_overlap,\n",
    "                'fname_flux_crd': 'output_flux.dat',\n",
    "                'fname_cool_crd': 'output_coolr.dat',\n",
    "                'fname_flux_wgt': 'output_wflux.dat',\n",
    "                'fname_cool_wgt': 'output_wcoolr.dat'}\n",
    "\n",
    "    \n",
    "def load_lblnew_data(param):\n",
    "    \n",
    "    fname_dsname = [('fname_flux_crd', 'ds_flux_crd'),\n",
    "                    ('fname_cool_crd', 'ds_cool_crd'),\n",
    "                    ('fname_flux_wgt', 'ds_flux_wgt'),\n",
    "                    ('fname_cool_wgt', 'ds_cool_wgt')]\n",
    "    \n",
    "    d = lblnew_setup(param)\n",
    "    dir_fortran = pipe_lblnew.get_dir_case(param, setup=d['setup'])\n",
    "    \n",
    "    data_dict = {}\n",
    "    for fname, dsname in fname_dsname:\n",
    "        fpath = os.path.join(dir_fortran, d[fname])\n",
    "        data_dict[dsname] = load_output_file(fpath)\n",
    "    return data_dict"
   ]
  },
  {
   "cell_type": "code",
   "execution_count": 8,
   "metadata": {
    "collapsed": true
   },
   "outputs": [],
   "source": [
    "def crd_data_atm(params_atm):\n",
    "    '''\n",
    "    Parameters\n",
    "    ----------\n",
    "    \n",
    "    params_atm: dict\n",
    "                Parameter dictionary for each band.\n",
    "                \n",
    "    d: dict\n",
    "       'flux': xr.Dataset. [pressure, band]\n",
    "               Fluxes.\n",
    "       'cool': xr.Dataset. [pressure, band]\n",
    "               Cooling rate.\n",
    "    \n",
    "    '''\n",
    "    \n",
    "    results_atm = {band: load_lblnew_data(param) \n",
    "                   for band, param in params_atm.items()}\n",
    "    \n",
    "    bands = [band for band, _ in params_atm.items()]\n",
    "    fluxs = [d['ds_flux_crd'] for _, d in results_atm.items()]\n",
    "    cools = [d['ds_cool_crd'] for _, d in results_atm.items()]\n",
    "    \n",
    "    d = {}\n",
    "    d['flux'] = xr.concat(fluxs, dim=bands).rename({'concat_dim': 'band'})\n",
    "    d['cool'] = xr.concat(cools, dim=bands).rename({'concat_dim': 'band'})\n",
    "    return d        \n",
    "        \n",
    "        \n",
    "\n",
    "def clirad_data_atm(params_atm):\n",
    "    \n",
    "    dirnames = [pipe_cliradlw.get_fortran_dir(param,\n",
    "                                              setup=setup_cliradlw)\n",
    "                for _, param in params_atm.items()]\n",
    "    \n",
    "    fpaths_flux = [os.path.join(n, 'output_flux.dat') for n in dirnames]\n",
    "    fpaths_cool = [os.path.join(n, 'output_coolr.dat') for n in dirnames]\n",
    "    \n",
    "    fluxs = [load_output_file(p) for p in fpaths_flux]    \n",
    "    cools = [load_output_file(p) for p in fpaths_cool]\n",
    "    \n",
    "    d = {}\n",
    "    d['flux'] = sum(fluxs)\n",
    "    d['cool'] = sum(cools)\n",
    "    return d\n",
    "\n"
   ]
  },
  {
   "cell_type": "code",
   "execution_count": 9,
   "metadata": {
    "collapsed": true
   },
   "outputs": [],
   "source": [
    "\n",
    "\n",
    "import rtmtools.clirad.sw.wrangle as cliradwrangle\n",
    "\n",
    "import importlib\n",
    "importlib.reload(cliradwrangle)\n",
    "\n",
    "def oldclirad_data_atm():\n",
    "    '''\n",
    "    Load the OLD clirad's results. mls only.\n",
    "    '''\n",
    "    fpath = os.path.join('/chia_cluster/home/jackyu/radiation',\n",
    "                         'clirad-lw',\n",
    "                         'LW',\n",
    "                         'examples',\n",
    "                         'mls75_h2o_atmpro_co2_.0004_o3_atmpro_n2o_3.2e-7_ch4_1.8e-6_H2012',\n",
    "                         'OUTPUT_CLIRAD.dat')\n",
    "    \n",
    "    ds = cliradwrangle.load_OUTPUT_CLIRAD(readfrom=fpath)\n",
    "    \n",
    "    ds_cool = xr.Dataset()\n",
    "    ds_cool.coords['pressure'] = ('pressure', ds['layer_pressure'])\n",
    "    ds_cool.coords['band'] = ('band', ds['spectral_band'])\n",
    "    ds_cool['coolrg'] = (('band', 'pressure'), - ds['heating_rate'])\n",
    "    \n",
    "    ds_flux = xr.Dataset()\n",
    "    ds_flux.coords['pressure'] = ('pressure', ds['level_pressure'])\n",
    "    ds_flux.coords['band'] = ('band', ds['spectral_band'])\n",
    "    ds_flux['flug'] = (('band', 'pressure'), ds['flux_up'])\n",
    "    ds_flux['fldg'] = (('band', 'pressure'), ds['flux_down'])\n",
    "    ds_flux['fnetg'] = (('band', 'pressure'), ds['net_flux'])\n",
    "    \n",
    "    \n",
    "    d = {}\n",
    "    d['cool'] = ds_cool\n",
    "    d['flux'] = ds_flux\n",
    "    return d\n"
   ]
  },
  {
   "cell_type": "code",
   "execution_count": 10,
   "metadata": {
    "collapsed": true
   },
   "outputs": [],
   "source": [
    "def fmt_cool(ds_in):\n",
    "    ds = ds_in.copy(deep=True)\n",
    "    if 'igg' in ds.dims:\n",
    "        ds = ds.sel(igg=1)\n",
    "\n",
    "    if 'g' in ds.dims:\n",
    "        ds = ds.sum('g')\n",
    "            \n",
    "    if 'band' in ds.dims:\n",
    "        try:\n",
    "            ds = ds.squeeze('band')\n",
    "        except ValueError:\n",
    "            ds = ds.sum('band')\n",
    "                \n",
    "    return ds['coolrg']\n",
    "\n",
    "\n",
    "\n",
    "def nice_xlims(pltdata=None, prange=None):\n",
    "    \n",
    "    def get_slice(srs):\n",
    "        return srs.sel(pressure=slice(*prange))\n",
    "    \n",
    "    srss = [d['srs'] for d in pltdata]\n",
    "    vmin = min([get_slice(srs).min() for srs in srss])\n",
    "    vmax = max([get_slice(srs).max() for srs in srss])\n",
    "    dv = (vmax - vmin) * .01\n",
    "    return float(vmin - dv), float(vmax + dv)\n",
    "\n",
    "\n",
    "    \n",
    "def plt_cool_bokeh(pltdata=None, \n",
    "                   y_axis_type='linear', prange=(50, 1050)):\n",
    "    \n",
    "    ymin = 1e-2 \n",
    "    ymax = 1020\n",
    "    \n",
    "    p2 = figure(y_axis_type=y_axis_type, plot_width=300)\n",
    "    xmin, xmax = nice_xlims(pltdata, prange=prange)\n",
    "    \n",
    "    rs = []\n",
    "    for d in pltdata:\n",
    "        rd = []\n",
    "        if 'marker' in d:\n",
    "            r_mark = getattr(p2, d['marker'])(d['srs'].values, \n",
    "                        d['srs'].coords['pressure'].values,\n",
    "                        color=d['color'], alpha=.7)\n",
    "            rd.append(r_mark)\n",
    "        r_line = p2.line(d['srs'].values, \n",
    "                         d['srs'].coords['pressure'].values,\n",
    "                         color=d['color'], alpha=d['alpha'], \n",
    "                         line_width=d['line_width'], \n",
    "                         line_dash=d['line_dash'])\n",
    "        rd.append(r_line)\n",
    "      \n",
    "        rs.append(rd)\n",
    "        \n",
    "    p2.y_range = Range1d(ymax, ymin)  \n",
    "    p2.yaxis.axis_label = 'pressure [mb]'\n",
    "    \n",
    "    p2.x_range = Range1d(xmin, xmax)\n",
    "    p2.xaxis.axis_label = 'cooling rate [K/day]'\n",
    "    \n",
    "    items = [(d['label'], r) for r, d in zip(rs, pltdata)]\n",
    "    legend = Legend(items=items, location=(10, 0))\n",
    "    legend.label_text_font_size = '8pt'\n",
    "    p2.add_layout(legend, 'above')\n",
    "    p2.legend.orientation = 'horizontal'\n",
    "    p2.legend.location = 'top_center'\n",
    "    \n",
    "    return p2"
   ]
  },
  {
   "cell_type": "code",
   "execution_count": 11,
   "metadata": {
    "collapsed": true
   },
   "outputs": [],
   "source": [
    "def pltdata_cool(atmpro='mls'):\n",
    "    \n",
    "    d_clirad_singlerun = clirad_data_atm(\n",
    "        clirad_params_atm_singlerun(atmpro=atmpro))\n",
    "    d_clirad = clirad_data_atm(clirad_params_atm(atmpro=atmpro))\n",
    "    d_crd = crd_data_atm(lblnew_params_atm(atmpro=atmpro))\n",
    "\n",
    "    ds_clirad_singlerun = d_clirad_singlerun['cool']\n",
    "    ds_clirad = d_clirad['cool']\n",
    "    ds_crd = d_crd['cool']\n",
    "\n",
    "    colors = all_palettes['Set1'][4]\n",
    "    \n",
    "    data = [\n",
    "        {'label': 'CLIRAD (single-run)',\n",
    "        'srs': fmt_cool(ds_clirad_singlerun),\n",
    "        'line_dash': 'dashed', 'line_width': 5,\n",
    "        'color': colors[1], 'alpha': .6},\n",
    "        {'label': 'CRD',\n",
    "         'srs': fmt_cool(ds_crd),\n",
    "         'line_dash': 'solid', 'line_width': 1.5,\n",
    "         'marker': 'circle', 'marker_size': 5,\n",
    "         'color': colors[2], 'alpha': 1}\n",
    "    ]\n",
    "#        {'label': 'CLIRAD',\n",
    "#         'srs': fmt_cool(ds_clirad),\n",
    "#         'line_dash': 'dashed', 'line_width': 5,\n",
    "#         'color': colors[0], 'alpha': .6}\n",
    "        \n",
    "\n",
    "    \n",
    "    # include old CLIRAD's results for mls profile\n",
    "    if atmpro == 'mls':\n",
    "        d_oldclirad = oldclirad_data_atm()\n",
    "        ds_oldclirad = d_oldclirad['cool']        \n",
    "        data.append(\n",
    "            {'label': 'old CLIRAD (H2012)',\n",
    "             'srs': fmt_cool(ds_oldclirad),\n",
    "             'line_dash': 'solid', 'line_width': 1.5,\n",
    "             'marker': 'square', 'marker_size': 3,\n",
    "             'color': colors[3], 'alpha': .5})\n",
    "    return data\n",
    "\n",
    "\n",
    "def pltdata_cooldiff(atmpro='mls'):\n",
    "    \n",
    "    d_clirad_singlerun = clirad_data_atm(\n",
    "        clirad_params_atm_singlerun(atmpro=atmpro))\n",
    "    d_clirad = clirad_data_atm(clirad_params_atm(atmpro=atmpro))\n",
    "    d_crd = crd_data_atm(lblnew_params_atm(atmpro=atmpro))\n",
    "    \n",
    "    ds_clirad_singlerun = d_clirad_singlerun['cool']\n",
    "    ds_clirad = d_clirad['cool']\n",
    "    ds_crd = d_crd['cool']\n",
    "    \n",
    "    ds_diff = ds_clirad_singlerun - ds_crd\n",
    "    \n",
    "    colors = all_palettes['Set1'][4]\n",
    "    \n",
    "    data = [\n",
    "        {'label': 'CLIRAD (single-run) - CRD',\n",
    "         'srs': fmt_cool(ds_diff),\n",
    "         'line_dash': 'solid', 'line_width': 1.5, \n",
    "         'marker': 'circle', 'marker_size': 7,\n",
    "         'color': colors[3], 'alpha': .8}\n",
    "    ]\n",
    "    \n",
    "    # include old CLIRAD's results for mls profile\n",
    "    if atmpro == 'mls':\n",
    "        d_oldclirad = oldclirad_data_atm()\n",
    "        ds_oldclirad = d_oldclirad['cool']\n",
    "        ds_oldclirad.coords['pressure'] = ds_crd.coords['pressure']\n",
    "        ds_diff_old = ds_oldclirad.sum('band') - ds_crd.sum('band')\n",
    "        data.append(\n",
    "            {'label': 'old CLIRAD (H2012) - CRD',\n",
    "             'srs': fmt_cool(ds_diff_old),\n",
    "             'line_dash': 'dashed', 'line_width': 4,\n",
    "             'color': colors[1], 'alpha': .5}\n",
    "        )\n",
    "    return data\n",
    "\n",
    "\n",
    "def show_cool(atmpro='mls'):\n",
    "    \n",
    "    data_cool = pltdata_cool(atmpro=atmpro)\n",
    "    p_cool_liny = plt_cool_bokeh(pltdata=data_cool)\n",
    "    p_cool_logy = plt_cool_bokeh(pltdata=data_cool, \n",
    "                                 y_axis_type='log',\n",
    "                                 prange=(.01, 200))\n",
    "    \n",
    "    data_cooldiff = pltdata_cooldiff(atmpro=atmpro)\n",
    "    p_cooldiff_logy = plt_cool_bokeh(pltdata=data_cooldiff,\n",
    "                                     y_axis_type='log',\n",
    "                                     prange=(.01, 200))\n",
    "    \n",
    "    everything = gridplot(p_cool_liny, p_cool_logy, \n",
    "                          p_cooldiff_logy,\n",
    "                          ncols=3)\n",
    "    show(everything)\n",
    "    display.display(\n",
    "        display.Markdown('*FIGURE.* Cooling rates & difference.'))\n",
    "\n",
    "\n",
    "    "
   ]
  },
  {
   "cell_type": "code",
   "execution_count": null,
   "metadata": {
    "collapsed": true
   },
   "outputs": [],
   "source": []
  },
  {
   "cell_type": "code",
   "execution_count": 12,
   "metadata": {
    "collapsed": true,
    "scrolled": false
   },
   "outputs": [],
   "source": [
    "\n",
    "\n",
    "def hist_band_vs_flux(da, title='Title'):\n",
    "       \n",
    "    bands = [str(b.values) for b in da['band']]\n",
    "\n",
    "    source = ColumnDataSource(\n",
    "        data={'band': bands, 'flux': da.values})\n",
    "\n",
    "    p = figure(x_range=bands, title=title)\n",
    "    p.vbar(source=source, x='band', top='flux', width=.9)\n",
    "\n",
    "    p.yaxis.axis_label = 'flux (W m-2)'\n",
    "    p.xaxis.axis_label = 'spectral band'\n",
    "    \n",
    "    return p\n",
    "\n",
    "\n",
    "def show_hist_flux(atmpro='mls'):\n",
    "    ds_crd = crd_data_atm(lblnew_params_atm(atmpro=atmpro))['flux']\n",
    "    ds_clirad = clirad_data_atm(\n",
    "        clirad_params_atm(atmpro=atmpro))['flux']\n",
    "    ds_clirad_singlerun = clirad_data_atm(\n",
    "        clirad_params_atm_singlerun(atmpro=atmpro))['flux']\n",
    "    \n",
    "    ip, varname = 0, 'flug'\n",
    "    da = (ds_clirad_singlerun - ds_crd).isel(pressure=ip)[varname]\n",
    "    p_toa = hist_band_vs_flux(da, \n",
    "        title='TOA flux. CLIRAD (single-run) - CRD.')\n",
    "\n",
    "    ip, varname = -1, 'fldg'\n",
    "    da = (ds_clirad_singlerun - ds_crd).isel(pressure=ip)[varname]\n",
    "    p_sfc = hist_band_vs_flux(da, \n",
    "        title='SFC flux. CLIRAD (single-run) - CRD.')    \n",
    "    \n",
    "    atm_crd = (ds_crd.isel(pressure=0) \n",
    "               - ds_crd.isel(pressure=-1))['fnetg']\n",
    "    atm_clirad_singlerun = (ds_clirad_singlerun.isel(pressure=0) \n",
    "                  - ds_clirad_singlerun.isel(pressure=-1))['fnetg']\n",
    "    da = atm_clirad_singlerun - atm_crd\n",
    "    p_atm = hist_band_vs_flux(da, \n",
    "        title='Atmosphere heating. CLIRAD (single-run) - CRD.')\n",
    "\n",
    "    everything = gridplot(p_toa, p_sfc, p_atm, ncols=3, \n",
    "                          plot_width=300, plot_height=300)\n",
    "    \n",
    "    show(everything)\n",
    "    display.display(\n",
    "        display.Markdown('*FIGURE.* Difference between CLIRAD and CRD'\n",
    "          ' in TOA, SFC and net atmosphere flux,'\n",
    "          ' in each spectral band.'))\n",
    "\n",
    "\n",
    "    \n",
    "def show_tb_flux(atmpro='mls'):\n",
    "    \n",
    "    def fmt(da_in):\n",
    "        da = da_in.copy(deep=True)\n",
    "        if 'igg' in da.dims:\n",
    "            da = da.sel(igg=1)\n",
    "            \n",
    "        if 'g' in da.dims:\n",
    "            da = da.sum('g')\n",
    "        \n",
    "        if 'band' in da.dims:\n",
    "            try:\n",
    "                da = da.squeeze('band')\n",
    "            except ValueError:\n",
    "                da = da.sum('band')\n",
    "                \n",
    "        return da\n",
    "    \n",
    "    ds_crd = crd_data_atm(lblnew_params_atm(atmpro=atmpro))['flux']\n",
    "    olr_crd = ds_crd['flug'].isel(pressure=0)\n",
    "    sfc_crd = ds_crd['fldg'].isel(pressure=-1)\n",
    "    atm_crd = (ds_crd.isel(pressure=0)\n",
    "               - ds_crd.isel(pressure=-1))['fnetg']\n",
    "    \n",
    "    ds_clirad = clirad_data_atm(\n",
    "        clirad_params_atm(atmpro=atmpro))['flux']\n",
    "    olr_clirad = ds_clirad['flug'].isel(pressure=0)\n",
    "    sfc_clirad = ds_clirad['fldg'].isel(pressure=-1)\n",
    "    atm_clirad = (ds_clirad.isel(pressure=0)\n",
    "                  - ds_clirad.isel(pressure=-1))['fnetg']\n",
    "\n",
    "    ds_clirad_singlerun = clirad_data_atm(\n",
    "        clirad_params_atm_singlerun(atmpro=atmpro))['flux']\n",
    "    olr_clirad_singlerun = ds_clirad_singlerun['flug'].isel(pressure=0)\n",
    "    sfc_clirad_singlerun = ds_clirad_singlerun['fldg'].isel(pressure=-1)\n",
    "    atm_clirad_singlerun = (ds_clirad_singlerun.isel(pressure=0)\n",
    "                  - ds_clirad_singlerun.isel(pressure=-1))['fnetg']\n",
    "    \n",
    "    if atmpro == 'mls':\n",
    "        ds_oldclirad = oldclirad_data_atm()['flux']\n",
    "        ds_oldclirad['pressure'] = ds_crd['pressure']\n",
    "        olr_oldclirad = ds_oldclirad['flug'].isel(pressure=0)\n",
    "        sfc_oldclirad = ds_oldclirad['fldg'].isel(pressure=-1)\n",
    "        atm_oldclirad = (ds_oldclirad.isel(pressure=0)\n",
    "                         - ds_oldclirad.isel(pressure=-1))['fnetg']\n",
    "        \n",
    "    \n",
    "    \n",
    "    df = pd.DataFrame()\n",
    "    df.index.name = 'Sum over bands'\n",
    "    \n",
    "    if atmpro == 'mls':\n",
    "        df.loc['old CLIRAD - CRD', \n",
    "               'OLR flux'] = (fmt(olr_oldclirad)\n",
    "                              - fmt(olr_crd)).values\n",
    "        df.loc['old CLIRAD - CRD', \n",
    "               'SFC flux'] = (fmt(sfc_oldclirad)\n",
    "                              - fmt(sfc_crd)).values\n",
    "        df.loc['old CLIRAD - CRD', \n",
    "               'ATM heating'] = (fmt(atm_oldclirad)\n",
    "                                 - fmt(atm_crd)).values\n",
    "    \n",
    "    df.loc['CLIRAD (single-run) - CRD', \n",
    "           'OLR flux'] = (fmt(olr_clirad_singlerun) \n",
    "                          - fmt(olr_crd)).values\n",
    "    df.loc['CLIRAD (single-run) - CRD', \n",
    "           'SFC flux'] = (fmt(sfc_clirad_singlerun) \n",
    "                          - fmt(sfc_crd)).values\n",
    "    df.loc['CLIRAD (single-run) - CRD', \n",
    "           'ATM heating'] = (fmt(atm_clirad_singlerun) \n",
    "                             - fmt(atm_crd)).values\n",
    "\n",
    "    df.loc['CRD', 'OLR flux'] = fmt(olr_crd).values\n",
    "    df.loc['CRD', 'SFC flux'] = fmt(sfc_crd).values\n",
    "    df.loc['CRD', 'ATM heating'] = fmt(atm_crd).values\n",
    "        \n",
    "    df = df.astype('float').round(2)\n",
    "    \n",
    "    display.display(df)\n",
    "    display.display(\n",
    "        display.Markdown('*TABLE.* Difference between CLIRAD and CRD'\n",
    "          ' in TOA, SFC and net atmosphere flux,'\n",
    "          ' over all spectral bands. CRD\\'s'\n",
    "          ' TOA, SFC and net atmosphere flux,'\n",
    "          ' over all spectral bands.'))\n"
   ]
  },
  {
   "cell_type": "code",
   "execution_count": 13,
   "metadata": {
    "scrolled": false
   },
   "outputs": [
    {
     "data": {
      "text/markdown": [
       "## Results over entire range of molecules and spectral bands"
      ],
      "text/plain": [
       "<IPython.core.display.Markdown object>"
      ]
     },
     "metadata": {},
     "output_type": "display_data"
    },
    {
     "data": {
      "text/markdown": [
       "### Table of Contents"
      ],
      "text/plain": [
       "<IPython.core.display.Markdown object>"
      ]
     },
     "metadata": {},
     "output_type": "display_data"
    },
    {
     "data": {
      "text/html": [
       "<a href=\"#Makeup_of_atmosphere.\">Makeup of atmosphere.</a>"
      ],
      "text/plain": [
       "<IPython.core.display.HTML object>"
      ]
     },
     "metadata": {},
     "output_type": "display_data"
    },
    {
     "data": {
      "text/markdown": [
       "**mid-latitude summer**"
      ],
      "text/plain": [
       "<IPython.core.display.Markdown object>"
      ]
     },
     "metadata": {},
     "output_type": "display_data"
    },
    {
     "data": {
      "text/html": [
       "<a href=\"#Cooling_rates._mls.\">Cooling rates. mls.</a>"
      ],
      "text/plain": [
       "<IPython.core.display.HTML object>"
      ]
     },
     "metadata": {},
     "output_type": "display_data"
    },
    {
     "data": {
      "text/html": [
       "<a href=\"#Fluxes._mls.\">Fluxes. mls.</a>"
      ],
      "text/plain": [
       "<IPython.core.display.HTML object>"
      ]
     },
     "metadata": {},
     "output_type": "display_data"
    },
    {
     "data": {
      "text/markdown": [
       "**sub-arctic winter**"
      ],
      "text/plain": [
       "<IPython.core.display.Markdown object>"
      ]
     },
     "metadata": {},
     "output_type": "display_data"
    },
    {
     "data": {
      "text/html": [
       "<a href=\"#Cooling_rates._saw.\">Cooling rates. saw.</a>"
      ],
      "text/plain": [
       "<IPython.core.display.HTML object>"
      ]
     },
     "metadata": {},
     "output_type": "display_data"
    },
    {
     "data": {
      "text/html": [
       "<a href=\"#Fluxes._saw.\">Fluxes. saw.</a>"
      ],
      "text/plain": [
       "<IPython.core.display.HTML object>"
      ]
     },
     "metadata": {},
     "output_type": "display_data"
    },
    {
     "data": {
      "text/markdown": [
       "**tropical**"
      ],
      "text/plain": [
       "<IPython.core.display.Markdown object>"
      ]
     },
     "metadata": {},
     "output_type": "display_data"
    },
    {
     "data": {
      "text/html": [
       "<a href=\"#Cooling_rates._trp.\">Cooling rates. trp.</a>"
      ],
      "text/plain": [
       "<IPython.core.display.HTML object>"
      ]
     },
     "metadata": {},
     "output_type": "display_data"
    },
    {
     "data": {
      "text/html": [
       "<a href=\"#Fluxes._trp.\">Fluxes. trp.</a>"
      ],
      "text/plain": [
       "<IPython.core.display.HTML object>"
      ]
     },
     "metadata": {},
     "output_type": "display_data"
    },
    {
     "data": {
      "text/html": [
       "<a id=\"Makeup_of_atmosphere.\"></a>"
      ],
      "text/plain": [
       "<IPython.core.display.HTML object>"
      ]
     },
     "metadata": {},
     "output_type": "display_data"
    },
    {
     "data": {
      "text/markdown": [
       "# Makeup of atmosphere."
      ],
      "text/plain": [
       "<IPython.core.display.Markdown object>"
      ]
     },
     "metadata": {},
     "output_type": "display_data"
    },
    {
     "data": {
      "text/html": [
       "<div>\n",
       "<style scoped>\n",
       "    .dataframe tbody tr th:only-of-type {\n",
       "        vertical-align: middle;\n",
       "    }\n",
       "\n",
       "    .dataframe tbody tr th {\n",
       "        vertical-align: top;\n",
       "    }\n",
       "\n",
       "    .dataframe thead th {\n",
       "        text-align: right;\n",
       "    }\n",
       "</style>\n",
       "<table border=\"1\" class=\"dataframe\">\n",
       "  <thead>\n",
       "    <tr style=\"text-align: right;\">\n",
       "      <th>clirad band</th>\n",
       "      <th>1</th>\n",
       "      <th>2</th>\n",
       "      <th>3</th>\n",
       "      <th>4</th>\n",
       "      <th>5</th>\n",
       "      <th>6</th>\n",
       "      <th>7</th>\n",
       "      <th>8</th>\n",
       "      <th>9</th>\n",
       "      <th>10</th>\n",
       "      <th>11</th>\n",
       "    </tr>\n",
       "    <tr>\n",
       "      <th>molecule</th>\n",
       "      <th></th>\n",
       "      <th></th>\n",
       "      <th></th>\n",
       "      <th></th>\n",
       "      <th></th>\n",
       "      <th></th>\n",
       "      <th></th>\n",
       "      <th></th>\n",
       "      <th></th>\n",
       "      <th></th>\n",
       "      <th></th>\n",
       "    </tr>\n",
       "  </thead>\n",
       "  <tbody>\n",
       "    <tr>\n",
       "      <th>h2o</th>\n",
       "      <td>atmpro</td>\n",
       "      <td>atmpro</td>\n",
       "      <td>atmpro</td>\n",
       "      <td>atmpro</td>\n",
       "      <td>atmpro</td>\n",
       "      <td>atmpro</td>\n",
       "      <td>atmpro</td>\n",
       "      <td>atmpro</td>\n",
       "      <td>atmpro</td>\n",
       "      <td>atmpro</td>\n",
       "      <td>atmpro</td>\n",
       "    </tr>\n",
       "    <tr>\n",
       "      <th>co2</th>\n",
       "      <td>0</td>\n",
       "      <td>0</td>\n",
       "      <td>0.0004</td>\n",
       "      <td>0.0004</td>\n",
       "      <td>0.0004</td>\n",
       "      <td>0.0004</td>\n",
       "      <td>0.0004</td>\n",
       "      <td>0</td>\n",
       "      <td>0</td>\n",
       "      <td>0</td>\n",
       "      <td>0.0004</td>\n",
       "    </tr>\n",
       "    <tr>\n",
       "      <th>n2o</th>\n",
       "      <td>0</td>\n",
       "      <td>0</td>\n",
       "      <td>3.2e-07</td>\n",
       "      <td>0</td>\n",
       "      <td>0</td>\n",
       "      <td>0</td>\n",
       "      <td>0</td>\n",
       "      <td>0</td>\n",
       "      <td>3.2e-07</td>\n",
       "      <td>0</td>\n",
       "      <td>0</td>\n",
       "    </tr>\n",
       "    <tr>\n",
       "      <th>o3</th>\n",
       "      <td>0</td>\n",
       "      <td>0</td>\n",
       "      <td>0</td>\n",
       "      <td>0</td>\n",
       "      <td>0</td>\n",
       "      <td>0</td>\n",
       "      <td>atmpro</td>\n",
       "      <td>0</td>\n",
       "      <td>0</td>\n",
       "      <td>0</td>\n",
       "      <td>0</td>\n",
       "    </tr>\n",
       "    <tr>\n",
       "      <th>ch4</th>\n",
       "      <td>0</td>\n",
       "      <td>0</td>\n",
       "      <td>0</td>\n",
       "      <td>0</td>\n",
       "      <td>0</td>\n",
       "      <td>0</td>\n",
       "      <td>0</td>\n",
       "      <td>0</td>\n",
       "      <td>1.8e-06</td>\n",
       "      <td>0</td>\n",
       "      <td>0</td>\n",
       "    </tr>\n",
       "  </tbody>\n",
       "</table>\n",
       "</div>"
      ],
      "text/plain": [
       "clirad band      1       2        3       4       5       6       7       8   \\\n",
       "molecule                                                                       \n",
       "h2o          atmpro  atmpro   atmpro  atmpro  atmpro  atmpro  atmpro  atmpro   \n",
       "co2               0       0   0.0004  0.0004  0.0004  0.0004  0.0004       0   \n",
       "n2o               0       0  3.2e-07       0       0       0       0       0   \n",
       "o3                0       0        0       0       0       0  atmpro       0   \n",
       "ch4               0       0        0       0       0       0       0       0   \n",
       "\n",
       "clirad band       9       10      11  \n",
       "molecule                              \n",
       "h2o           atmpro  atmpro  atmpro  \n",
       "co2                0       0  0.0004  \n",
       "n2o          3.2e-07       0       0  \n",
       "o3                 0       0       0  \n",
       "ch4          1.8e-06       0       0  "
      ]
     },
     "metadata": {},
     "output_type": "display_data"
    },
    {
     "data": {
      "text/markdown": [
       "*TABLE.* Non-grey absorbers in the atmosphere."
      ],
      "text/plain": [
       "<IPython.core.display.Markdown object>"
      ]
     },
     "metadata": {},
     "output_type": "display_data"
    },
    {
     "data": {
      "text/html": [
       "<div>\n",
       "<style scoped>\n",
       "    .dataframe tbody tr th:only-of-type {\n",
       "        vertical-align: middle;\n",
       "    }\n",
       "\n",
       "    .dataframe tbody tr th {\n",
       "        vertical-align: top;\n",
       "    }\n",
       "\n",
       "    .dataframe thead th {\n",
       "        text-align: right;\n",
       "    }\n",
       "</style>\n",
       "<table border=\"1\" class=\"dataframe\">\n",
       "  <thead>\n",
       "    <tr style=\"text-align: right;\">\n",
       "      <th>clirad band</th>\n",
       "      <th>1</th>\n",
       "      <th>2</th>\n",
       "      <th>3</th>\n",
       "      <th>4</th>\n",
       "      <th>5</th>\n",
       "      <th>6</th>\n",
       "      <th>7</th>\n",
       "      <th>8</th>\n",
       "      <th>9</th>\n",
       "    </tr>\n",
       "    <tr>\n",
       "      <th>absorber</th>\n",
       "      <th></th>\n",
       "      <th></th>\n",
       "      <th></th>\n",
       "      <th></th>\n",
       "      <th></th>\n",
       "      <th></th>\n",
       "      <th></th>\n",
       "      <th></th>\n",
       "      <th></th>\n",
       "    </tr>\n",
       "  </thead>\n",
       "  <tbody>\n",
       "    <tr>\n",
       "      <th>con</th>\n",
       "      <td>atmpro</td>\n",
       "      <td>atmpro</td>\n",
       "      <td>atmpro</td>\n",
       "      <td>atmpro</td>\n",
       "      <td>atmpro</td>\n",
       "      <td>atmpro</td>\n",
       "      <td>atmpro</td>\n",
       "      <td>atmpro</td>\n",
       "      <td>atmpro</td>\n",
       "    </tr>\n",
       "    <tr>\n",
       "      <th>n2o</th>\n",
       "      <td>0</td>\n",
       "      <td>0</td>\n",
       "      <td>0</td>\n",
       "      <td>0</td>\n",
       "      <td>0</td>\n",
       "      <td>0</td>\n",
       "      <td>0</td>\n",
       "      <td>3.2e-07</td>\n",
       "      <td>0</td>\n",
       "    </tr>\n",
       "  </tbody>\n",
       "</table>\n",
       "</div>"
      ],
      "text/plain": [
       "clirad band       1       2       3       4       5       6       7        8  \\\n",
       "absorber                                                                       \n",
       "con          atmpro  atmpro  atmpro  atmpro  atmpro  atmpro  atmpro   atmpro   \n",
       "n2o               0       0       0       0       0       0       0  3.2e-07   \n",
       "\n",
       "clirad band       9  \n",
       "absorber             \n",
       "con          atmpro  \n",
       "n2o               0  "
      ]
     },
     "metadata": {},
     "output_type": "display_data"
    },
    {
     "data": {
      "text/markdown": [
       "*TABLE.* Grey absorbers in the atmosphere."
      ],
      "text/plain": [
       "<IPython.core.display.Markdown object>"
      ]
     },
     "metadata": {},
     "output_type": "display_data"
    },
    {
     "data": {
      "text/html": [
       "<a id=\"Cooling_rates._mls.\"></a>"
      ],
      "text/plain": [
       "<IPython.core.display.HTML object>"
      ]
     },
     "metadata": {},
     "output_type": "display_data"
    },
    {
     "data": {
      "text/markdown": [
       "# Cooling rates. mls."
      ],
      "text/plain": [
       "<IPython.core.display.Markdown object>"
      ]
     },
     "metadata": {},
     "output_type": "display_data"
    },
    {
     "data": {
      "text/html": [
       "\n",
       "<div class=\"bk-root\">\n",
       "    <div class=\"bk-plotdiv\" id=\"edd6f554-fe1d-4e30-93c3-ffc5095bd377\"></div>\n",
       "</div>"
      ]
     },
     "metadata": {},
     "output_type": "display_data"
    },
    {
     "data": {
      "application/javascript": [
       "(function(root) {\n",
       "  function embed_document(root) {\n",
       "    \n",
       "  var docs_json = {\"ee1d7441-8dd0-4ad4-8927-785b845d8548\":{\"roots\":{\"references\":[{\"attributes\":{\"data_source\":{\"id\":\"5c62bd12-614b-47c7-aacd-8eaede9b80b4\",\"type\":\"ColumnDataSource\"},\"glyph\":{\"id\":\"51a29582-de10-44f2-8ca0-8a6ff3bcd176\",\"type\":\"Square\"},\"hover_glyph\":null,\"muted_glyph\":null,\"nonselection_glyph\":{\"id\":\"3a903983-6dfb-42d6-b471-469ba4902b77\",\"type\":\"Square\"},\"selection_glyph\":null,\"view\":{\"id\":\"095bac85-6a2d-443b-8285-a000c05ada78\",\"type\":\"CDSView\"}},\"id\":\"ff5f6b0c-33ac-4cd6-b0c9-ec1e1f50185a\",\"type\":\"GlyphRenderer\"},{\"attributes\":{\"data_source\":{\"id\":\"55035ad9-e606-435c-8789-8db3524fa89b\",\"type\":\"ColumnDataSource\"},\"glyph\":{\"id\":\"840bf9e5-5721-4e64-8cbb-16da71a3d664\",\"type\":\"Line\"},\"hover_glyph\":null,\"muted_glyph\":null,\"nonselection_glyph\":{\"id\":\"f03a0ecb-f954-41d9-adbb-10bfa50cf0ae\",\"type\":\"Line\"},\"selection_glyph\":null,\"view\":{\"id\":\"954bbb21-5faa-4529-aeaf-bbb6819d59cb\",\"type\":\"CDSView\"}},\"id\":\"f04e0908-ca2a-445f-a4ac-5b2e4f104b2a\",\"type\":\"GlyphRenderer\"},{\"attributes\":{\"label\":{\"value\":\"old CLIRAD (H2012)\"},\"renderers\":[{\"id\":\"ff5f6b0c-33ac-4cd6-b0c9-ec1e1f50185a\",\"type\":\"GlyphRenderer\"},{\"id\":\"d9d6bbb1-cdf6-42f0-a3be-b4d7ee29334c\",\"type\":\"GlyphRenderer\"}]},\"id\":\"249de58a-3562-4992-83d6-7a4dc04b8bb1\",\"type\":\"LegendItem\"},{\"attributes\":{\"overlay\":{\"id\":\"9cab3920-b0ec-4085-8a9a-733193207344\",\"type\":\"BoxAnnotation\"}},\"id\":\"4866f023-0872-4e0e-8786-f340acca2049\",\"type\":\"BoxZoomTool\"},{\"attributes\":{\"fill_alpha\":{\"value\":0.7},\"fill_color\":{\"value\":\"#4daf4a\"},\"line_alpha\":{\"value\":0.7},\"line_color\":{\"value\":\"#4daf4a\"},\"x\":{\"field\":\"x\"},\"y\":{\"field\":\"y\"}},\"id\":\"3ef6339c-28d8-4382-bec4-0caa7b46586e\",\"type\":\"Circle\"},{\"attributes\":{\"line_color\":\"#4daf4a\",\"line_width\":1.5,\"x\":{\"field\":\"x\"},\"y\":{\"field\":\"y\"}},\"id\":\"840bf9e5-5721-4e64-8cbb-16da71a3d664\",\"type\":\"Line\"},{\"attributes\":{},\"id\":\"a4b09d03-f34a-445a-8584-fa7743a4f297\",\"type\":\"ResetTool\"},{\"attributes\":{\"active_drag\":\"auto\",\"active_inspect\":\"auto\",\"active_scroll\":\"auto\",\"active_tap\":\"auto\",\"tools\":[{\"id\":\"74327926-80c5-4c98-8717-0e82d906570e\",\"type\":\"PanTool\"},{\"id\":\"1d9d9d1d-a483-4a62-aeab-8c791542605e\",\"type\":\"WheelZoomTool\"},{\"id\":\"ccc91e90-cd5e-48a0-9fd5-fc91b27a84ee\",\"type\":\"BoxZoomTool\"},{\"id\":\"b56afa91-e775-4277-b38f-61a568a408fc\",\"type\":\"SaveTool\"},{\"id\":\"5148fe30-007b-4373-9857-014e550fb416\",\"type\":\"ResetTool\"},{\"id\":\"e33e9bad-1465-482f-a896-c847df2ef959\",\"type\":\"HelpTool\"}]},\"id\":\"b43a7a80-9610-412b-bd35-b14100add8f4\",\"type\":\"Toolbar\"},{\"attributes\":{\"line_alpha\":0.6,\"line_color\":\"#377eb8\",\"line_dash\":[6],\"line_width\":5,\"x\":{\"field\":\"x\"},\"y\":{\"field\":\"y\"}},\"id\":\"771858df-00f7-46c2-9b9a-f088d92b7a13\",\"type\":\"Line\"},{\"attributes\":{\"plot\":{\"id\":\"2072c054-1319-425b-8782-230de5038992\",\"subtype\":\"Figure\",\"type\":\"Plot\"},\"ticker\":{\"id\":\"f0982813-6e5d-421f-b8d9-aad2eadd95d4\",\"type\":\"BasicTicker\"}},\"id\":\"5ddd7dec-5c08-4728-b297-520903257376\",\"type\":\"Grid\"},{\"attributes\":{\"callback\":null,\"data\":{\"x\":{\"__ndarray__\":\"ExtCRzbZRUDbC+iCixhDQJUMOPE45EFAbS75ur0/QEBqfyI/0UE8QIDlOuXnPjdAj59hPV7rMUAb/dS7X+kpQDvIW8isHiJAJvHyBFs8GkCROFNlS+YUQJ2YxXONvxFAKacsAMpfDUD7/0WFpakDQKMSrzLkIPY/qpoeoPTD+j8JpAMvXVYFQFYp10a7PQtA53DSDej+EEDwl5KKKT4WQHzfLDPlLh5AcF0bN3L0JECuJdHa6fMqQMl/SjxaLCpAD+CQ/IKIJEAa3fIEJYwgQFqHF525/htA5pgudI+qFkAz2ozhk9gRQF7m/MbYYA1AtOWPBpepCUCAZ80BP38EQM8OtRhVmv0/6ERGuVg29T8aw/qXTwXwP+8Zg39lZeY/zwOxox2l3T93Kk6RWMzVP+9PQSvDSMU/BAfbo5nseb+slTSFwrnFP2mVi1Tdl+0/ayDa84y1+j9PEFu17vsBQPL40D/THARAzrsqQryoJ0CaarMMymAhQEF2+eDjN/E/6e4cxZcuIUClEYCupwXrP/oSIsdzlSlA2Nc2nKRbMMC9HRyFj8zav5tNXXeHdMy/hOgQgTGetb82TdIOFWmfP/CORrBG+MA/JkptxXAUzT8a266C5pPTP1MCJh1aJdg/r6Uh1blz3D+lz2K3PEfgP1iAOldwTeI/fxeCUGGj5D8DqDvtNoHnP6y5anmBXOw/vUTvZqMxLUB9S7BtjqH/PwSsXL4qXbw/mijQlI576L8vqgH0oWC4v2B8BY0t7pE/7vg1pcNiuj/uZDihPtDJP+6EJ4wX7+U/\",\"dtype\":\"float64\",\"shape\":[75]},\"y\":{\"__ndarray__\":\"GhExyth1ND/Sv8nbtpRIP2vylNV0PVE/aTum7souWD/At0SJ8fVgPw3Iuahxymc/MSNhhJWvcD/bTfBN02d3P2zb5nxnaoA/CD5h5MAGhz8NmeH1TyaQP+zrCsc9p5Y/LbKd76fGnz/bLW5ISEmmPww9YvTcQq8/JV2OstnstT8Er5Y7M8G+P0c+r3jqkcU/5h99k6ZBzj88bCIzFzjVP4enV8oyxN0//yH99nXg5D8qOpLLf0jtP5kqGJXUifQ/c9cS8kHP/D+/DpwzojQEQIEmwoanVwxA4lgXt9HgE0BSSZ2AJuIbQAMJih9jjiNA5q4l5INuK0AwTKYKRj0zQNv5fmq8/DpAaCJseHrtQkB/+zpwzoxKQM3MzMzMeFJAZmZmZmZqWEAAAAAAAFxeQM3MzMzMJmJAmpmZmZkfZUBmZmZmZhhoQDMzMzMzEWtAAAAAAAAKbkBmZmZmZoFwQM3MzMzM/XFAMzMzMzN6c0CamZmZmfZ0QAAAAAAAc3ZAZmZmZmbvd0DNzMzMzGt5QDMzMzMz6HpAmpmZmZlkfEAAAAAAAOF9QGZmZmZmXX9AZmZmZuZsgECamZmZGSuBQM3MzMxM6YFAAAAAAICngkAzMzMzs2WDQGZmZmbmI4RAmpmZmRnihEDNzMzMTKCFQAAAAACAXoZAMzMzM7Mch0BmZmZm5tqHQJqZmZkZmYhAzczMzExXiUAAAAAAgBWKQDMzMzOz04pAZmZmZuaRi0CamZmZGVCMQM3MzMxMDo1AAAAAAIDMjUAzMzMzs4qOQGZmZmbmSI9A\",\"dtype\":\"float64\",\"shape\":[75]}},\"selected\":{\"id\":\"0b054ee4-e381-4537-9506-b8f3a0eaa2be\",\"type\":\"Selection\"},\"selection_policy\":{\"id\":\"1a1ffb58-9bb7-457b-bb35-86dc3367d892\",\"type\":\"UnionRenderers\"}},\"id\":\"a6194f51-d352-4e4e-8263-80fad36dc594\",\"type\":\"ColumnDataSource\"},{\"attributes\":{\"callback\":null,\"data\":{\"x\":{\"__ndarray__\":\"zhhdnl3RU0CKgDdE+dxEQP6f5duhdUFAMJBr6ewEQkAADxZQyK45QBmX3ka8EDZAjl8alnlwL0CeYJlYHKIqQJoaoQNWxSJAwL4t7BozIUBMkS56I6AXQBxPe4ld/BRAnMjiKz2HCkCJCgdQ/WcBQKJTvluRvOg/j/JpYJwB9j+fcxKIKREEQOwUvOtLFw1AV0At7oRoEkD5lECKxjYXQAdydNQ0jR1ACbyvRZLfI0CO3MmPRGApQCcUNq4qNylA6VN9h30SJECRnP+HbGofQDQKaukXmhlAteFC/mL9E0CTDffT91MQQEkVAKh1YwtAqFesCIQRBkATatBMXLz/P4fvYPUXo/Y/tDrQnFTK8T/fneFQ7xLnP14aDQuCJtc/5BrOx2LRzT+fE4V0bnvHP3ueIXamhrA/cWaxNtALrr92uqPyMJK3P6q5+U821+g/ckrZjXL49z/TaxRJZAUAQPzVLij27QFAige8XqaCAEAv4Q7keaX+P0VyKG35kv0/XHVqXZRQ/T/+RskYEAv9PwKD1IjB3fw/JBko3yJ2/D//mRCM5iX7P/btQHcr5vo/xTCcdQr9+j+f/V+tjrf6P0Wt2HvLrvo/9IV/x6br+z/bYX40veD8P8+HZwkyUvw/CkxgoI8l/D8QA+bsYB78P2eu9w7DDvw/khNJm3qS+j8vZ0xHVJ75Py0d1shscPk/NKgVKiiK+T/NNtzstIr5P4ps72zyaPc/TlSpuPUj9j9S2qZu6gj1P2XVmdu6VPQ/t/WgjjEZ9D+np734CoH0P1P4Q57qwfo/\",\"dtype\":\"float64\",\"shape\":[75]},\"y\":{\"__ndarray__\":\"hLndy31yND/6fmq8dJNIP8n9DkWBPlE/aDum7souWD/b4a/JGvVgP9f34SAhymc/ZvM4DOavcD+z0M5pFmh3PxuC4zJuaoA/xjcUPlsHhz8uHAjJAiaQP9ieWRKgppY/oI7HDFTGnz+a5h2n6EimPzS6g9iZQq8/IuAQqtTstT9SSZ2AJsK+P4nS3uALk8U/ih9j7lpCzj+ASL99HTjVP4enV8oyxN0/ACL99nXg5D9fmEwVjErtPyUGgZVDi/Q/AiuHFtnO/D9OYhBYOTQEQPHSTWIQWAxA4XoUrkfhE0D8qfHSTeIbQMh2vp8ajyNArkfhehRuK0Bcj8L1KDwzQFyPwvUo/DpAPgrXo3DtQkDNzMzMzIxKQClcj8L1eFJAKVyPwvVoWECamZmZmVleQGZmZmZmJmJAAAAAAAAgZUCamZmZmRloQJqZmZmZEWtAmpmZmZkJbkCamZmZmYFwQGZmZmZm/nFAZmZmZmZ6c0BmZmZmZvZ0QDQzMzMzc3ZAAAAAAADwd0AAAAAAAGx5QAAAAAAA6HpAzMzMzMxkfEDMzMzMzOB9QM3MzMzMXH9AzczMzMxsgEAzMzMzMyuBQDMzMzMz6YFAMzMzMzOngkCamZmZmWWDQAAAAAAAJIRAAAAAAADihEAAAAAAAKCFQGZmZmZmXoZAzczMzMwch0DNzMzMzNqHQM3MzMzMmIhAMzMzMzNXiUCamZmZmRWKQAAAAAAA1IpAAAAAAACSi0AAAAAAAFCMQGZmZmZmDo1AzczMzMzMjUDNzMzMzIqOQM3MzMzMSI9A\",\"dtype\":\"float64\",\"shape\":[75]}},\"selected\":{\"id\":\"2cfa8a4b-ed95-488a-9868-53f23502322d\",\"type\":\"Selection\"},\"selection_policy\":{\"id\":\"e7585997-fc6f-4796-99dd-502cbe8aa437\",\"type\":\"UnionRenderers\"}},\"id\":\"73dba348-8436-485b-80c3-64db539d38b3\",\"type\":\"ColumnDataSource\"},{\"attributes\":{\"source\":{\"id\":\"ac512db4-762b-4b0e-806a-09c2a1396603\",\"type\":\"ColumnDataSource\"}},\"id\":\"d24a8168-38f5-4866-a93a-9d878c068189\",\"type\":\"CDSView\"},{\"attributes\":{\"fill_alpha\":{\"value\":0.1},\"fill_color\":{\"value\":\"#1f77b4\"},\"line_alpha\":{\"value\":0.1},\"line_color\":{\"value\":\"#1f77b4\"},\"x\":{\"field\":\"x\"},\"y\":{\"field\":\"y\"}},\"id\":\"28f195e9-6bfa-4e8f-90f0-895d5da63ac3\",\"type\":\"Circle\"},{\"attributes\":{\"bottom_units\":\"screen\",\"fill_alpha\":{\"value\":0.5},\"fill_color\":{\"value\":\"lightgrey\"},\"left_units\":\"screen\",\"level\":\"overlay\",\"line_alpha\":{\"value\":1.0},\"line_color\":{\"value\":\"black\"},\"line_dash\":[4,4],\"line_width\":{\"value\":2},\"plot\":null,\"render_mode\":\"css\",\"right_units\":\"screen\",\"top_units\":\"screen\"},\"id\":\"9cab3920-b0ec-4085-8a9a-733193207344\",\"type\":\"BoxAnnotation\"},{\"attributes\":{\"axis_label\":\"cooling rate [K/day]\",\"formatter\":{\"id\":\"6bde0362-ae7e-4bf4-8fd3-178cc7d94a0b\",\"type\":\"BasicTickFormatter\"},\"plot\":{\"id\":\"2072c054-1319-425b-8782-230de5038992\",\"subtype\":\"Figure\",\"type\":\"Plot\"},\"ticker\":{\"id\":\"f0982813-6e5d-421f-b8d9-aad2eadd95d4\",\"type\":\"BasicTicker\"}},\"id\":\"b2e94173-a1e3-4933-bccc-426b1ff1340c\",\"type\":\"LinearAxis\"},{\"attributes\":{\"data_source\":{\"id\":\"05664ded-14e0-4b50-b80a-7e220c57f5b1\",\"type\":\"ColumnDataSource\"},\"glyph\":{\"id\":\"df5c3762-8f18-4ae3-8a14-5cd2a7a54129\",\"type\":\"Line\"},\"hover_glyph\":null,\"muted_glyph\":null,\"nonselection_glyph\":{\"id\":\"872fcfdc-3127-48f4-bc48-321c2bc50f6c\",\"type\":\"Line\"},\"selection_glyph\":null,\"view\":{\"id\":\"025dca39-7cc5-4efd-93e9-9fd08efb4ae7\",\"type\":\"CDSView\"}},\"id\":\"8d8be95d-78b7-4de1-9d2a-0da0e2603607\",\"type\":\"GlyphRenderer\"},{\"attributes\":{\"callback\":null,\"end\":0.01,\"start\":1020},\"id\":\"879f3cd0-84de-4168-b3fb-3b1cc0d65552\",\"type\":\"Range1d\"},{\"attributes\":{\"callback\":null,\"data\":{\"x\":{\"__ndarray__\":\"cm1sTMT3VEDEyvjosEJHQOKI6DjzCUNArgQWV9awPkB9Lm8XG3M4QEz+Qv6iYzNA7eV8HaPLLkCX1QHyTpMoQFBmYSYetiNAUB04GtGpH0AmFyVE5j8ZQJca9QPGqBNALJP+OOHHDEBNxaf7QF8AQKtislomWuw/cW2dcO6A9T/uJJvfPu0EQIaQLTI/JQ1AxGiII+PmEkCJvfVeuCsYQD6ZBhGbHB9AXQw69DTYJEAsubcwKucqQNuT9D5OmipAJyi3szEJJUBlNebh5WkgQDDcPHBr2xlArtlANXuQFEBdJadFHckQQI2Avh0ZsQtAjYiwt1rsBUCL0SDoVBgAQK6C0nEEjvc/CggLSme58T9sXU2orFPnP0v0JYz9Gdg/vT38vxYczD9nBQTe6kHHP1IhkEXJwKo/8OZnhCVAub+xtVgCpmqzP6DUpY6g0+k/PKK3T1h4+D8RTDjQc1EAQG/dAQs7TwJAQt2eHpPLAEBWEh074x//PyCap9ZSGf4/rEzaTySm/T+7aXhHRmr9P688KeqeNP0/ruZ4EemD/D8olrZcn9T7P0+vNc9hW/s/i9VVL+4P+z+0NzC24uz6P8731Kza8vo/xFf4SHzq+z+gYyHpvHb8P68ROkiFevw/BAjYdCga/D8AUp8VbW77P3JrF/nKmvo/qCQeGfq++T/dplwHJfn4P2G4p+Uva/g/OzZ0RqMZ+D8dmn/iar73P/OuA7Ka8PY/gaaeQHGn9T9hkyjAH1L0P3aZGhdAU/M/n8VP/g7P8j+90HxHNvfyPwhNBtgrqvk/\",\"dtype\":\"float64\",\"shape\":[75]},\"y\":{\"__ndarray__\":\"GhExyth1ND/Sv8nbtpRIP2vylNV0PVE/aTum7souWD/At0SJ8fVgPw3Iuahxymc/MSNhhJWvcD/bTfBN02d3P2zb5nxnaoA/CD5h5MAGhz8NmeH1TyaQP+zrCsc9p5Y/LbKd76fGnz/bLW5ISEmmPww9YvTcQq8/JV2OstnstT8Er5Y7M8G+P0c+r3jqkcU/5h99k6ZBzj88bCIzFzjVP4enV8oyxN0//yH99nXg5D8qOpLLf0jtP5kqGJXUifQ/c9cS8kHP/D+/DpwzojQEQIEmwoanVwxA4lgXt9HgE0BSSZ2AJuIbQAMJih9jjiNA5q4l5INuK0AwTKYKRj0zQNv5fmq8/DpAaCJseHrtQkB/+zpwzoxKQM3MzMzMeFJAZmZmZmZqWEAAAAAAAFxeQM3MzMzMJmJAmpmZmZkfZUBmZmZmZhhoQDMzMzMzEWtAAAAAAAAKbkBmZmZmZoFwQM3MzMzM/XFAMzMzMzN6c0CamZmZmfZ0QAAAAAAAc3ZAZmZmZmbvd0DNzMzMzGt5QDMzMzMz6HpAmpmZmZlkfEAAAAAAAOF9QGZmZmZmXX9AZmZmZuZsgECamZmZGSuBQM3MzMxM6YFAAAAAAICngkAzMzMzs2WDQGZmZmbmI4RAmpmZmRnihEDNzMzMTKCFQAAAAACAXoZAMzMzM7Mch0BmZmZm5tqHQJqZmZkZmYhAzczMzExXiUAAAAAAgBWKQDMzMzOz04pAZmZmZuaRi0CamZmZGVCMQM3MzMxMDo1AAAAAAIDMjUAzMzMzs4qOQGZmZmbmSI9A\",\"dtype\":\"float64\",\"shape\":[75]}},\"selected\":{\"id\":\"cb2e4866-82c9-4801-997d-602f6f96adc6\",\"type\":\"Selection\"},\"selection_policy\":{\"id\":\"0606558f-d69e-430f-ac8c-9a63016c4fe4\",\"type\":\"UnionRenderers\"}},\"id\":\"5d5654ca-5b67-4ceb-8074-901d34d2d663\",\"type\":\"ColumnDataSource\"},{\"attributes\":{\"source\":{\"id\":\"55035ad9-e606-435c-8789-8db3524fa89b\",\"type\":\"ColumnDataSource\"}},\"id\":\"954bbb21-5faa-4529-aeaf-bbb6819d59cb\",\"type\":\"CDSView\"},{\"attributes\":{\"source\":{\"id\":\"a6194f51-d352-4e4e-8263-80fad36dc594\",\"type\":\"ColumnDataSource\"}},\"id\":\"67c6f1fe-9623-4c94-9c77-c736877cef20\",\"type\":\"CDSView\"},{\"attributes\":{},\"id\":\"5d1b8ce9-3f8b-41af-abd5-7b21365780c1\",\"type\":\"LinearScale\"},{\"attributes\":{\"source\":{\"id\":\"5c62bd12-614b-47c7-aacd-8eaede9b80b4\",\"type\":\"ColumnDataSource\"}},\"id\":\"095bac85-6a2d-443b-8285-a000c05ada78\",\"type\":\"CDSView\"},{\"attributes\":{\"source\":{\"id\":\"05664ded-14e0-4b50-b80a-7e220c57f5b1\",\"type\":\"ColumnDataSource\"}},\"id\":\"025dca39-7cc5-4efd-93e9-9fd08efb4ae7\",\"type\":\"CDSView\"},{\"attributes\":{\"data_source\":{\"id\":\"ac512db4-762b-4b0e-806a-09c2a1396603\",\"type\":\"ColumnDataSource\"},\"glyph\":{\"id\":\"94c11802-be59-4f88-90c0-e899283268cf\",\"type\":\"Line\"},\"hover_glyph\":null,\"muted_glyph\":null,\"nonselection_glyph\":{\"id\":\"30e12da7-918b-4485-8a46-fba7c8106a46\",\"type\":\"Line\"},\"selection_glyph\":null,\"view\":{\"id\":\"d24a8168-38f5-4866-a93a-9d878c068189\",\"type\":\"CDSView\"}},\"id\":\"a2950d32-994d-47f1-ab1d-2f20365cfb9d\",\"type\":\"GlyphRenderer\"},{\"attributes\":{\"callback\":null,\"data\":{\"x\":{\"__ndarray__\":\"QEr14GpmEsDQUQomvS0TwECOLtAVRQnAyG4E7w1kFUAwCG6K07rzP2jG3ETKaAVAIDSvE8+a1D84WLw0a3bwP8B2CVgEGd6/gAEb8SXj5T+gXWifLPzZv1BIY1h4OdU/gFTeaCAF0r/AU/RFxYvAP0h4oPen7Ly/wKOQ+b0VoD/gKRbxqoK7vwA09+KM5nu/QBvKVo2Xv78AEqWWOp7Ov3BzIslj9ti/gApK0VUU37/gyd0OWm7ov0D75ws5Mua/wIc6h4XW3r+Q48y885XWvwB/tLThVLC/IP++3wZjwr+A8gVsXEm9vwDRmm/daKO/gI3nfaiUkj/AQE7cYBOdv+BkMo6PXa2/AKoyxVLtcD9A4+/aVS+Av6A9GyNwb46/cNIdfcBUiz8AHIdAy8FcP5BuzJoOMok/b2ce0np0pD8UEyzBK56QP8Beg9VHjZ+/gPKVd3D5n7+AD/jI4QOjv8DcwbQ4Uai/AG61+C87or/ASYzDVZqev2D75C8ty6C/ANT1m/xjlb9Ar8iri82Xv0BrLlVYt5W/ABSboWSMa78ghb8UGtelv0BWMP2VTZ2/AMakubnjcr+ACh1oBKqKv0CiEj/MA5G/AADjcuinMj/Ajj/XEoCaPwDwRGmfKYS/AAyIEFfOZj8AItboev6lP1AvBF6BP7c/QN1dRRBwqj9ACvj956WkP8BM5jLOU7A/kB8XOk4Itz8Ay8mloMS8P8Bl77ruFZ4/QHOrAh4hnz8g3sjPVdmmP/C+80esF7A/gAETBSmitD+gbg0US524P7C02mPse7E/\",\"dtype\":\"float64\",\"shape\":[75]},\"y\":{\"__ndarray__\":\"GhExyth1ND/Sv8nbtpRIP2vylNV0PVE/aTum7souWD/At0SJ8fVgPw3Iuahxymc/MSNhhJWvcD/bTfBN02d3P2zb5nxnaoA/CD5h5MAGhz8NmeH1TyaQP+zrCsc9p5Y/LbKd76fGnz/bLW5ISEmmPww9YvTcQq8/JV2OstnstT8Er5Y7M8G+P0c+r3jqkcU/5h99k6ZBzj88bCIzFzjVP4enV8oyxN0//yH99nXg5D8qOpLLf0jtP5kqGJXUifQ/c9cS8kHP/D+/DpwzojQEQIEmwoanVwxA4lgXt9HgE0BSSZ2AJuIbQAMJih9jjiNA5q4l5INuK0AwTKYKRj0zQNv5fmq8/DpAaCJseHrtQkB/+zpwzoxKQM3MzMzMeFJAZmZmZmZqWEAAAAAAAFxeQM3MzMzMJmJAmpmZmZkfZUBmZmZmZhhoQDMzMzMzEWtAAAAAAAAKbkBmZmZmZoFwQM3MzMzM/XFAMzMzMzN6c0CamZmZmfZ0QAAAAAAAc3ZAZmZmZmbvd0DNzMzMzGt5QDMzMzMz6HpAmpmZmZlkfEAAAAAAAOF9QGZmZmZmXX9AZmZmZuZsgECamZmZGSuBQM3MzMxM6YFAAAAAAICngkAzMzMzs2WDQGZmZmbmI4RAmpmZmRnihEDNzMzMTKCFQAAAAACAXoZAMzMzM7Mch0BmZmZm5tqHQJqZmZkZmYhAzczMzExXiUAAAAAAgBWKQDMzMzOz04pAZmZmZuaRi0CamZmZGVCMQM3MzMxMDo1AAAAAAIDMjUAzMzMzs4qOQGZmZmbmSI9A\",\"dtype\":\"float64\",\"shape\":[75]}},\"selected\":{\"id\":\"876768a3-e97e-4f8f-aaa9-e2f2f3a5f690\",\"type\":\"Selection\"},\"selection_policy\":{\"id\":\"9b1a50fe-f2b4-4cdd-b4dd-c6bdfc1b3f04\",\"type\":\"UnionRenderers\"}},\"id\":\"31173565-5dc9-46d4-bc98-748b16c715b5\",\"type\":\"ColumnDataSource\"},{\"attributes\":{\"label\":{\"value\":\"CLIRAD (single-run)\"},\"renderers\":[{\"id\":\"a2950d32-994d-47f1-ab1d-2f20365cfb9d\",\"type\":\"GlyphRenderer\"}]},\"id\":\"3d79f24e-dd8a-4e59-b1aa-01b5441e52cd\",\"type\":\"LegendItem\"},{\"attributes\":{\"callback\":null,\"data\":{\"x\":{\"__ndarray__\":\"zhhdnl3RU0CKgDdE+dxEQP6f5duhdUFAMJBr6ewEQkAADxZQyK45QBmX3ka8EDZAjl8alnlwL0CeYJlYHKIqQJoaoQNWxSJAwL4t7BozIUBMkS56I6AXQBxPe4ld/BRAnMjiKz2HCkCJCgdQ/WcBQKJTvluRvOg/j/JpYJwB9j+fcxKIKREEQOwUvOtLFw1AV0At7oRoEkD5lECKxjYXQAdydNQ0jR1ACbyvRZLfI0CO3MmPRGApQCcUNq4qNylA6VN9h30SJECRnP+HbGofQDQKaukXmhlAteFC/mL9E0CTDffT91MQQEkVAKh1YwtAqFesCIQRBkATatBMXLz/P4fvYPUXo/Y/tDrQnFTK8T/fneFQ7xLnP14aDQuCJtc/5BrOx2LRzT+fE4V0bnvHP3ueIXamhrA/cWaxNtALrr92uqPyMJK3P6q5+U821+g/ckrZjXL49z/TaxRJZAUAQPzVLij27QFAige8XqaCAEAv4Q7keaX+P0VyKG35kv0/XHVqXZRQ/T/+RskYEAv9PwKD1IjB3fw/JBko3yJ2/D//mRCM5iX7P/btQHcr5vo/xTCcdQr9+j+f/V+tjrf6P0Wt2HvLrvo/9IV/x6br+z/bYX40veD8P8+HZwkyUvw/CkxgoI8l/D8QA+bsYB78P2eu9w7DDvw/khNJm3qS+j8vZ0xHVJ75Py0d1shscPk/NKgVKiiK+T/NNtzstIr5P4ps72zyaPc/TlSpuPUj9j9S2qZu6gj1P2XVmdu6VPQ/t/WgjjEZ9D+np734CoH0P1P4Q57qwfo/\",\"dtype\":\"float64\",\"shape\":[75]},\"y\":{\"__ndarray__\":\"hLndy31yND/6fmq8dJNIP8n9DkWBPlE/aDum7souWD/b4a/JGvVgP9f34SAhymc/ZvM4DOavcD+z0M5pFmh3PxuC4zJuaoA/xjcUPlsHhz8uHAjJAiaQP9ieWRKgppY/oI7HDFTGnz+a5h2n6EimPzS6g9iZQq8/IuAQqtTstT9SSZ2AJsK+P4nS3uALk8U/ih9j7lpCzj+ASL99HTjVP4enV8oyxN0/ACL99nXg5D9fmEwVjErtPyUGgZVDi/Q/AiuHFtnO/D9OYhBYOTQEQPHSTWIQWAxA4XoUrkfhE0D8qfHSTeIbQMh2vp8ajyNArkfhehRuK0Bcj8L1KDwzQFyPwvUo/DpAPgrXo3DtQkDNzMzMzIxKQClcj8L1eFJAKVyPwvVoWECamZmZmVleQGZmZmZmJmJAAAAAAAAgZUCamZmZmRloQJqZmZmZEWtAmpmZmZkJbkCamZmZmYFwQGZmZmZm/nFAZmZmZmZ6c0BmZmZmZvZ0QDQzMzMzc3ZAAAAAAADwd0AAAAAAAGx5QAAAAAAA6HpAzMzMzMxkfEDMzMzMzOB9QM3MzMzMXH9AzczMzMxsgEAzMzMzMyuBQDMzMzMz6YFAMzMzMzOngkCamZmZmWWDQAAAAAAAJIRAAAAAAADihEAAAAAAAKCFQGZmZmZmXoZAzczMzMwch0DNzMzMzNqHQM3MzMzMmIhAMzMzMzNXiUCamZmZmRWKQAAAAAAA1IpAAAAAAACSi0AAAAAAAFCMQGZmZmZmDo1AzczMzMzMjUDNzMzMzIqOQM3MzMzMSI9A\",\"dtype\":\"float64\",\"shape\":[75]}},\"selected\":{\"id\":\"70d191ad-26b7-47bd-b561-7c02ca343698\",\"type\":\"Selection\"},\"selection_policy\":{\"id\":\"9816ebb5-12a9-4e00-bdd3-8975978a5d5e\",\"type\":\"UnionRenderers\"}},\"id\":\"5c62bd12-614b-47c7-aacd-8eaede9b80b4\",\"type\":\"ColumnDataSource\"},{\"attributes\":{},\"id\":\"f0982813-6e5d-421f-b8d9-aad2eadd95d4\",\"type\":\"BasicTicker\"},{\"attributes\":{\"fill_alpha\":{\"value\":0.7},\"fill_color\":{\"value\":\"#984ea3\"},\"line_alpha\":{\"value\":0.7},\"line_color\":{\"value\":\"#984ea3\"},\"x\":{\"field\":\"x\"},\"y\":{\"field\":\"y\"}},\"id\":\"51a29582-de10-44f2-8ca0-8a6ff3bcd176\",\"type\":\"Square\"},{\"attributes\":{\"source\":{\"id\":\"73dba348-8436-485b-80c3-64db539d38b3\",\"type\":\"ColumnDataSource\"}},\"id\":\"39099197-8284-400f-b360-67eafa8be9c0\",\"type\":\"CDSView\"},{\"attributes\":{\"axis_label\":\"pressure [mb]\",\"formatter\":{\"id\":\"2d4daff8-a1f0-4b6c-a89c-51cab5da019a\",\"type\":\"BasicTickFormatter\"},\"plot\":{\"id\":\"2072c054-1319-425b-8782-230de5038992\",\"subtype\":\"Figure\",\"type\":\"Plot\"},\"ticker\":{\"id\":\"eca85d7a-640c-416f-ba8a-8231d62fd383\",\"type\":\"BasicTicker\"}},\"id\":\"74271dfc-14f1-4c21-ad77-297b3c444bf8\",\"type\":\"LinearAxis\"},{\"attributes\":{\"dimension\":1,\"plot\":{\"id\":\"2072c054-1319-425b-8782-230de5038992\",\"subtype\":\"Figure\",\"type\":\"Plot\"},\"ticker\":{\"id\":\"eca85d7a-640c-416f-ba8a-8231d62fd383\",\"type\":\"BasicTicker\"}},\"id\":\"c0dedfcd-cfe3-468f-a74f-52cc5d71c02c\",\"type\":\"Grid\"},{\"attributes\":{\"fill_alpha\":{\"value\":0.1},\"fill_color\":{\"value\":\"#1f77b4\"},\"line_alpha\":{\"value\":0.1},\"line_color\":{\"value\":\"#1f77b4\"},\"x\":{\"field\":\"x\"},\"y\":{\"field\":\"y\"}},\"id\":\"3a903983-6dfb-42d6-b471-469ba4902b77\",\"type\":\"Square\"},{\"attributes\":{\"above\":[{\"id\":\"c37869d1-23b9-4617-81ac-e0dca16c0315\",\"type\":\"Legend\"}],\"below\":[{\"id\":\"733f3893-74ef-475c-8fc8-4d4d9c21238b\",\"type\":\"LinearAxis\"}],\"left\":[{\"id\":\"23ebfa0b-4ff0-415d-97e0-8eb8b798b541\",\"type\":\"LogAxis\"}],\"plot_width\":300,\"renderers\":[{\"id\":\"733f3893-74ef-475c-8fc8-4d4d9c21238b\",\"type\":\"LinearAxis\"},{\"id\":\"1d5610df-23eb-46d7-9859-203fbf90aacb\",\"type\":\"Grid\"},{\"id\":\"23ebfa0b-4ff0-415d-97e0-8eb8b798b541\",\"type\":\"LogAxis\"},{\"id\":\"160f3690-305a-4859-823a-3e5dc8c78560\",\"type\":\"Grid\"},{\"id\":\"e46d34af-9d16-4435-b853-2dc3fd677eee\",\"type\":\"BoxAnnotation\"},{\"id\":\"a2950d32-994d-47f1-ab1d-2f20365cfb9d\",\"type\":\"GlyphRenderer\"},{\"id\":\"cd2b472c-d0d2-419b-b8f0-ae7e80d80ca4\",\"type\":\"GlyphRenderer\"},{\"id\":\"f04e0908-ca2a-445f-a4ac-5b2e4f104b2a\",\"type\":\"GlyphRenderer\"},{\"id\":\"ff5f6b0c-33ac-4cd6-b0c9-ec1e1f50185a\",\"type\":\"GlyphRenderer\"},{\"id\":\"d9d6bbb1-cdf6-42f0-a3be-b4d7ee29334c\",\"type\":\"GlyphRenderer\"},{\"id\":\"c37869d1-23b9-4617-81ac-e0dca16c0315\",\"type\":\"Legend\"}],\"title\":{\"id\":\"069fc52e-a026-4d92-ae6a-b37c3f02145e\",\"type\":\"Title\"},\"toolbar\":{\"id\":\"432a667a-dbc1-426e-b45c-14c4be069586\",\"type\":\"Toolbar\"},\"toolbar_location\":null,\"x_range\":{\"id\":\"f133b68c-f1d1-445a-872f-7f68ecaa9c49\",\"type\":\"Range1d\"},\"x_scale\":{\"id\":\"df376fc4-9763-4cfc-99fb-3ea5bb0d611b\",\"type\":\"LinearScale\"},\"y_range\":{\"id\":\"30e60890-17d2-40e3-a682-1707ebe480cf\",\"type\":\"Range1d\"},\"y_scale\":{\"id\":\"be186072-b061-4d67-9adc-967502dd1fe2\",\"type\":\"LogScale\"}},\"id\":\"99057913-6a48-4729-b611-95527b4e3df6\",\"subtype\":\"Figure\",\"type\":\"Plot\"},{\"attributes\":{\"line_alpha\":0.5,\"line_color\":\"#984ea3\",\"line_width\":1.5,\"x\":{\"field\":\"x\"},\"y\":{\"field\":\"y\"}},\"id\":\"1fe94625-de1d-43f3-a61e-ecbf5a8822f7\",\"type\":\"Line\"},{\"attributes\":{\"line_alpha\":0.1,\"line_color\":\"#1f77b4\",\"line_width\":1.5,\"x\":{\"field\":\"x\"},\"y\":{\"field\":\"y\"}},\"id\":\"3c569766-6508-4438-b418-3235b967a769\",\"type\":\"Line\"},{\"attributes\":{\"callback\":null,\"data\":{\"x\":{\"__ndarray__\":\"cm1sTMT3VEDEyvjosEJHQOKI6DjzCUNArgQWV9awPkB9Lm8XG3M4QEz+Qv6iYzNA7eV8HaPLLkCX1QHyTpMoQFBmYSYetiNAUB04GtGpH0AmFyVE5j8ZQJca9QPGqBNALJP+OOHHDEBNxaf7QF8AQKtislomWuw/cW2dcO6A9T/uJJvfPu0EQIaQLTI/JQ1AxGiII+PmEkCJvfVeuCsYQD6ZBhGbHB9AXQw69DTYJEAsubcwKucqQNuT9D5OmipAJyi3szEJJUBlNebh5WkgQDDcPHBr2xlArtlANXuQFEBdJadFHckQQI2Avh0ZsQtAjYiwt1rsBUCL0SDoVBgAQK6C0nEEjvc/CggLSme58T9sXU2orFPnP0v0JYz9Gdg/vT38vxYczD9nBQTe6kHHP1IhkEXJwKo/8OZnhCVAub+xtVgCpmqzP6DUpY6g0+k/PKK3T1h4+D8RTDjQc1EAQG/dAQs7TwJAQt2eHpPLAEBWEh074x//PyCap9ZSGf4/rEzaTySm/T+7aXhHRmr9P688KeqeNP0/ruZ4EemD/D8olrZcn9T7P0+vNc9hW/s/i9VVL+4P+z+0NzC24uz6P8731Kza8vo/xFf4SHzq+z+gYyHpvHb8P68ROkiFevw/BAjYdCga/D8AUp8VbW77P3JrF/nKmvo/qCQeGfq++T/dplwHJfn4P2G4p+Uva/g/OzZ0RqMZ+D8dmn/iar73P/OuA7Ka8PY/gaaeQHGn9T9hkyjAH1L0P3aZGhdAU/M/n8VP/g7P8j+90HxHNvfyPwhNBtgrqvk/\",\"dtype\":\"float64\",\"shape\":[75]},\"y\":{\"__ndarray__\":\"GhExyth1ND/Sv8nbtpRIP2vylNV0PVE/aTum7souWD/At0SJ8fVgPw3Iuahxymc/MSNhhJWvcD/bTfBN02d3P2zb5nxnaoA/CD5h5MAGhz8NmeH1TyaQP+zrCsc9p5Y/LbKd76fGnz/bLW5ISEmmPww9YvTcQq8/JV2OstnstT8Er5Y7M8G+P0c+r3jqkcU/5h99k6ZBzj88bCIzFzjVP4enV8oyxN0//yH99nXg5D8qOpLLf0jtP5kqGJXUifQ/c9cS8kHP/D+/DpwzojQEQIEmwoanVwxA4lgXt9HgE0BSSZ2AJuIbQAMJih9jjiNA5q4l5INuK0AwTKYKRj0zQNv5fmq8/DpAaCJseHrtQkB/+zpwzoxKQM3MzMzMeFJAZmZmZmZqWEAAAAAAAFxeQM3MzMzMJmJAmpmZmZkfZUBmZmZmZhhoQDMzMzMzEWtAAAAAAAAKbkBmZmZmZoFwQM3MzMzM/XFAMzMzMzN6c0CamZmZmfZ0QAAAAAAAc3ZAZmZmZmbvd0DNzMzMzGt5QDMzMzMz6HpAmpmZmZlkfEAAAAAAAOF9QGZmZmZmXX9AZmZmZuZsgECamZmZGSuBQM3MzMxM6YFAAAAAAICngkAzMzMzs2WDQGZmZmbmI4RAmpmZmRnihEDNzMzMTKCFQAAAAACAXoZAMzMzM7Mch0BmZmZm5tqHQJqZmZkZmYhAzczMzExXiUAAAAAAgBWKQDMzMzOz04pAZmZmZuaRi0CamZmZGVCMQM3MzMxMDo1AAAAAAIDMjUAzMzMzs4qOQGZmZmbmSI9A\",\"dtype\":\"float64\",\"shape\":[75]}},\"selected\":{\"id\":\"838be728-ea2a-4d21-8b3a-165fb546d58d\",\"type\":\"Selection\"},\"selection_policy\":{\"id\":\"5027093c-2809-4765-81e6-7ebd07b3a3a0\",\"type\":\"UnionRenderers\"}},\"id\":\"55f24cbf-01ab-4135-bfad-50d9b1570403\",\"type\":\"ColumnDataSource\"},{\"attributes\":{},\"id\":\"0d0fe2c2-931f-4aa4-ab94-9443a4567340\",\"type\":\"WheelZoomTool\"},{\"attributes\":{\"source\":{\"id\":\"55f24cbf-01ab-4135-bfad-50d9b1570403\",\"type\":\"ColumnDataSource\"}},\"id\":\"a24ae732-2d11-4fd9-9095-c2edbb5f0098\",\"type\":\"CDSView\"},{\"attributes\":{\"data_source\":{\"id\":\"55f24cbf-01ab-4135-bfad-50d9b1570403\",\"type\":\"ColumnDataSource\"},\"glyph\":{\"id\":\"3ef6339c-28d8-4382-bec4-0caa7b46586e\",\"type\":\"Circle\"},\"hover_glyph\":null,\"muted_glyph\":null,\"nonselection_glyph\":{\"id\":\"28f195e9-6bfa-4e8f-90f0-895d5da63ac3\",\"type\":\"Circle\"},\"selection_glyph\":null,\"view\":{\"id\":\"a24ae732-2d11-4fd9-9095-c2edbb5f0098\",\"type\":\"CDSView\"}},\"id\":\"cd2b472c-d0d2-419b-b8f0-ae7e80d80ca4\",\"type\":\"GlyphRenderer\"},{\"attributes\":{},\"id\":\"3b6ef4ec-b6ea-4c87-9d86-ff678cc2251d\",\"type\":\"SaveTool\"},{\"attributes\":{\"callback\":null,\"data\":{\"x\":{\"__ndarray__\":\"cm1sTMT3VEDEyvjosEJHQOKI6DjzCUNArgQWV9awPkB9Lm8XG3M4QEz+Qv6iYzNA7eV8HaPLLkCX1QHyTpMoQFBmYSYetiNAUB04GtGpH0AmFyVE5j8ZQJca9QPGqBNALJP+OOHHDEBNxaf7QF8AQKtislomWuw/cW2dcO6A9T/uJJvfPu0EQIaQLTI/JQ1AxGiII+PmEkCJvfVeuCsYQD6ZBhGbHB9AXQw69DTYJEAsubcwKucqQNuT9D5OmipAJyi3szEJJUBlNebh5WkgQDDcPHBr2xlArtlANXuQFEBdJadFHckQQI2Avh0ZsQtAjYiwt1rsBUCL0SDoVBgAQK6C0nEEjvc/CggLSme58T9sXU2orFPnP0v0JYz9Gdg/vT38vxYczD9nBQTe6kHHP1IhkEXJwKo/8OZnhCVAub+xtVgCpmqzP6DUpY6g0+k/PKK3T1h4+D8RTDjQc1EAQG/dAQs7TwJAQt2eHpPLAEBWEh074x//PyCap9ZSGf4/rEzaTySm/T+7aXhHRmr9P688KeqeNP0/ruZ4EemD/D8olrZcn9T7P0+vNc9hW/s/i9VVL+4P+z+0NzC24uz6P8731Kza8vo/xFf4SHzq+z+gYyHpvHb8P68ROkiFevw/BAjYdCga/D8AUp8VbW77P3JrF/nKmvo/qCQeGfq++T/dplwHJfn4P2G4p+Uva/g/OzZ0RqMZ+D8dmn/iar73P/OuA7Ka8PY/gaaeQHGn9T9hkyjAH1L0P3aZGhdAU/M/n8VP/g7P8j+90HxHNvfyPwhNBtgrqvk/\",\"dtype\":\"float64\",\"shape\":[75]},\"y\":{\"__ndarray__\":\"GhExyth1ND/Sv8nbtpRIP2vylNV0PVE/aTum7souWD/At0SJ8fVgPw3Iuahxymc/MSNhhJWvcD/bTfBN02d3P2zb5nxnaoA/CD5h5MAGhz8NmeH1TyaQP+zrCsc9p5Y/LbKd76fGnz/bLW5ISEmmPww9YvTcQq8/JV2OstnstT8Er5Y7M8G+P0c+r3jqkcU/5h99k6ZBzj88bCIzFzjVP4enV8oyxN0//yH99nXg5D8qOpLLf0jtP5kqGJXUifQ/c9cS8kHP/D+/DpwzojQEQIEmwoanVwxA4lgXt9HgE0BSSZ2AJuIbQAMJih9jjiNA5q4l5INuK0AwTKYKRj0zQNv5fmq8/DpAaCJseHrtQkB/+zpwzoxKQM3MzMzMeFJAZmZmZmZqWEAAAAAAAFxeQM3MzMzMJmJAmpmZmZkfZUBmZmZmZhhoQDMzMzMzEWtAAAAAAAAKbkBmZmZmZoFwQM3MzMzM/XFAMzMzMzN6c0CamZmZmfZ0QAAAAAAAc3ZAZmZmZmbvd0DNzMzMzGt5QDMzMzMz6HpAmpmZmZlkfEAAAAAAAOF9QGZmZmZmXX9AZmZmZuZsgECamZmZGSuBQM3MzMxM6YFAAAAAAICngkAzMzMzs2WDQGZmZmbmI4RAmpmZmRnihEDNzMzMTKCFQAAAAACAXoZAMzMzM7Mch0BmZmZm5tqHQJqZmZkZmYhAzczMzExXiUAAAAAAgBWKQDMzMzOz04pAZmZmZuaRi0CamZmZGVCMQM3MzMxMDo1AAAAAAIDMjUAzMzMzs4qOQGZmZmbmSI9A\",\"dtype\":\"float64\",\"shape\":[75]}},\"selected\":{\"id\":\"a72c5195-023f-4ee0-817b-2bae026ec0a4\",\"type\":\"Selection\"},\"selection_policy\":{\"id\":\"117ab0e5-1596-4581-a9e7-49a07d603ec7\",\"type\":\"UnionRenderers\"}},\"id\":\"55035ad9-e606-435c-8789-8db3524fa89b\",\"type\":\"ColumnDataSource\"},{\"attributes\":{\"data_source\":{\"id\":\"a6194f51-d352-4e4e-8263-80fad36dc594\",\"type\":\"ColumnDataSource\"},\"glyph\":{\"id\":\"771858df-00f7-46c2-9b9a-f088d92b7a13\",\"type\":\"Line\"},\"hover_glyph\":null,\"muted_glyph\":null,\"nonselection_glyph\":{\"id\":\"b0cf1259-8fc5-4b64-9472-dd6fdb4e3485\",\"type\":\"Line\"},\"selection_glyph\":null,\"view\":{\"id\":\"67c6f1fe-9623-4c94-9c77-c736877cef20\",\"type\":\"CDSView\"}},\"id\":\"cea8dc47-284a-495c-9317-9fae19be38c2\",\"type\":\"GlyphRenderer\"},{\"attributes\":{},\"id\":\"eca85d7a-640c-416f-ba8a-8231d62fd383\",\"type\":\"BasicTicker\"},{\"attributes\":{\"label\":{\"value\":\"CRD\"},\"renderers\":[{\"id\":\"cd2b472c-d0d2-419b-b8f0-ae7e80d80ca4\",\"type\":\"GlyphRenderer\"},{\"id\":\"f04e0908-ca2a-445f-a4ac-5b2e4f104b2a\",\"type\":\"GlyphRenderer\"}]},\"id\":\"f591d7bc-0637-4747-945d-fe2c95ffb70c\",\"type\":\"LegendItem\"},{\"attributes\":{},\"id\":\"b4518cd5-9d58-4816-bc18-6b37eea86171\",\"type\":\"PanTool\"},{\"attributes\":{},\"id\":\"a5b32ae9-185d-4360-b088-e6e5bbbd8540\",\"type\":\"HelpTool\"},{\"attributes\":{\"line_alpha\":0.1,\"line_color\":\"#1f77b4\",\"line_width\":1.5,\"x\":{\"field\":\"x\"},\"y\":{\"field\":\"y\"}},\"id\":\"f03a0ecb-f954-41d9-adbb-10bfa50cf0ae\",\"type\":\"Line\"},{\"attributes\":{\"data_source\":{\"id\":\"73dba348-8436-485b-80c3-64db539d38b3\",\"type\":\"ColumnDataSource\"},\"glyph\":{\"id\":\"1fe94625-de1d-43f3-a61e-ecbf5a8822f7\",\"type\":\"Line\"},\"hover_glyph\":null,\"muted_glyph\":null,\"nonselection_glyph\":{\"id\":\"3c569766-6508-4438-b418-3235b967a769\",\"type\":\"Line\"},\"selection_glyph\":null,\"view\":{\"id\":\"39099197-8284-400f-b360-67eafa8be9c0\",\"type\":\"CDSView\"}},\"id\":\"d9d6bbb1-cdf6-42f0-a3be-b4d7ee29334c\",\"type\":\"GlyphRenderer\"},{\"attributes\":{\"source\":{\"id\":\"21536c95-61e4-4254-ae25-526cb4b80e05\",\"type\":\"ColumnDataSource\"}},\"id\":\"a8e6afa0-11ca-45a5-8f29-df0e8bd1f7f2\",\"type\":\"CDSView\"},{\"attributes\":{\"callback\":null,\"end\":13.612143831118798,\"start\":-0.23438533463880004},\"id\":\"f133b68c-f1d1-445a-872f-7f68ecaa9c49\",\"type\":\"Range1d\"},{\"attributes\":{\"plot\":{\"id\":\"99057913-6a48-4729-b611-95527b4e3df6\",\"subtype\":\"Figure\",\"type\":\"Plot\"},\"ticker\":{\"id\":\"01adea7d-714a-43e4-bd61-2d116be4b015\",\"type\":\"BasicTicker\"}},\"id\":\"1d5610df-23eb-46d7-9859-203fbf90aacb\",\"type\":\"Grid\"},{\"attributes\":{\"axis_label\":\"pressure [mb]\",\"formatter\":{\"id\":\"9e22225e-8646-41cb-ba1c-10b8cad17153\",\"type\":\"LogTickFormatter\"},\"plot\":{\"id\":\"99057913-6a48-4729-b611-95527b4e3df6\",\"subtype\":\"Figure\",\"type\":\"Plot\"},\"ticker\":{\"id\":\"7cb19ba5-6065-4cab-9336-2d5126da1791\",\"type\":\"LogTicker\"}},\"id\":\"23ebfa0b-4ff0-415d-97e0-8eb8b798b541\",\"type\":\"LogAxis\"},{\"attributes\":{\"line_alpha\":0.1,\"line_color\":\"#1f77b4\",\"line_dash\":[6],\"line_width\":5,\"x\":{\"field\":\"x\"},\"y\":{\"field\":\"y\"}},\"id\":\"30e12da7-918b-4485-8a46-fba7c8106a46\",\"type\":\"Line\"},{\"attributes\":{\"label\":{\"value\":\"old CLIRAD (H2012)\"},\"renderers\":[{\"id\":\"4d3bde20-c6d0-46ee-be7b-5b8c825b9b02\",\"type\":\"GlyphRenderer\"},{\"id\":\"1d08bef3-6161-4d16-afac-38f1308ccf78\",\"type\":\"GlyphRenderer\"}]},\"id\":\"6612baba-7a92-4f9b-86e9-01d8aa16ed80\",\"type\":\"LegendItem\"},{\"attributes\":{\"line_alpha\":0.6,\"line_color\":\"#377eb8\",\"line_dash\":[6],\"line_width\":5,\"x\":{\"field\":\"x\"},\"y\":{\"field\":\"y\"}},\"id\":\"94c11802-be59-4f88-90c0-e899283268cf\",\"type\":\"Line\"},{\"attributes\":{\"label\":{\"value\":\"CRD\"},\"renderers\":[{\"id\":\"4b506c36-c148-49f2-8031-c7a4e98cc0c0\",\"type\":\"GlyphRenderer\"},{\"id\":\"03f7ded4-4e5e-434c-8779-085feddc6ac8\",\"type\":\"GlyphRenderer\"}]},\"id\":\"477cac2b-9f48-4668-ae64-be71e4c9be87\",\"type\":\"LegendItem\"},{\"attributes\":{\"fill_alpha\":{\"value\":0.1},\"fill_color\":{\"value\":\"#1f77b4\"},\"line_alpha\":{\"value\":0.1},\"line_color\":{\"value\":\"#1f77b4\"},\"x\":{\"field\":\"x\"},\"y\":{\"field\":\"y\"}},\"id\":\"6c670df5-bd1a-48eb-98f9-d771037e8bc8\",\"type\":\"Square\"},{\"attributes\":{\"axis_label\":\"cooling rate [K/day]\",\"formatter\":{\"id\":\"8625c8a9-47df-4805-8a3e-139c8ee2ecd4\",\"type\":\"BasicTickFormatter\"},\"plot\":{\"id\":\"99057913-6a48-4729-b611-95527b4e3df6\",\"subtype\":\"Figure\",\"type\":\"Plot\"},\"ticker\":{\"id\":\"01adea7d-714a-43e4-bd61-2d116be4b015\",\"type\":\"BasicTicker\"}},\"id\":\"733f3893-74ef-475c-8fc8-4d4d9c21238b\",\"type\":\"LinearAxis\"},{\"attributes\":{\"fill_alpha\":{\"value\":0.7},\"fill_color\":{\"value\":\"#984ea3\"},\"line_alpha\":{\"value\":0.7},\"line_color\":{\"value\":\"#984ea3\"},\"x\":{\"field\":\"x\"},\"y\":{\"field\":\"y\"}},\"id\":\"a4058a92-99f0-4117-9dec-033e0a52a840\",\"type\":\"Square\"},{\"attributes\":{},\"id\":\"99b9faa9-2d13-44d6-8a99-de99a6d96703\",\"type\":\"HelpTool\"},{\"attributes\":{},\"id\":\"df376fc4-9763-4cfc-99fb-3ea5bb0d611b\",\"type\":\"LinearScale\"},{\"attributes\":{\"data_source\":{\"id\":\"21536c95-61e4-4254-ae25-526cb4b80e05\",\"type\":\"ColumnDataSource\"},\"glyph\":{\"id\":\"87e4c9c7-b151-4c51-8885-e0abc8b176fb\",\"type\":\"Line\"},\"hover_glyph\":null,\"muted_glyph\":null,\"nonselection_glyph\":{\"id\":\"59d3ddbf-6503-4846-acdb-a50196fe3bb5\",\"type\":\"Line\"},\"selection_glyph\":null,\"view\":{\"id\":\"a8e6afa0-11ca-45a5-8f29-df0e8bd1f7f2\",\"type\":\"CDSView\"}},\"id\":\"1d08bef3-6161-4d16-afac-38f1308ccf78\",\"type\":\"GlyphRenderer\"},{\"attributes\":{\"line_alpha\":0.1,\"line_color\":\"#1f77b4\",\"line_width\":1.5,\"x\":{\"field\":\"x\"},\"y\":{\"field\":\"y\"}},\"id\":\"59d3ddbf-6503-4846-acdb-a50196fe3bb5\",\"type\":\"Line\"},{\"attributes\":{},\"id\":\"be186072-b061-4d67-9adc-967502dd1fe2\",\"type\":\"LogScale\"},{\"attributes\":{},\"id\":\"b558fbf9-8388-44ac-9b52-276f956e5e5d\",\"type\":\"ResetTool\"},{\"attributes\":{\"callback\":null,\"end\":0.01,\"start\":1020},\"id\":\"30e60890-17d2-40e3-a682-1707ebe480cf\",\"type\":\"Range1d\"},{\"attributes\":{\"active_drag\":\"auto\",\"active_inspect\":\"auto\",\"active_scroll\":\"auto\",\"active_tap\":\"auto\",\"tools\":[{\"id\":\"5a2278e0-8f24-4c00-a23c-62f9e5b9fe36\",\"type\":\"PanTool\"},{\"id\":\"44fcc848-0a1d-4478-856b-57dd03aed0b8\",\"type\":\"WheelZoomTool\"},{\"id\":\"9b61ebb4-5881-4bd8-ba99-dca4be171941\",\"type\":\"BoxZoomTool\"},{\"id\":\"33b7e8cf-dbf0-460a-a20e-045c405878ae\",\"type\":\"SaveTool\"},{\"id\":\"b558fbf9-8388-44ac-9b52-276f956e5e5d\",\"type\":\"ResetTool\"},{\"id\":\"99b9faa9-2d13-44d6-8a99-de99a6d96703\",\"type\":\"HelpTool\"}]},\"id\":\"432a667a-dbc1-426e-b45c-14c4be069586\",\"type\":\"Toolbar\"},{\"attributes\":{},\"id\":\"33b7e8cf-dbf0-460a-a20e-045c405878ae\",\"type\":\"SaveTool\"},{\"attributes\":{\"overlay\":{\"id\":\"e46d34af-9d16-4435-b853-2dc3fd677eee\",\"type\":\"BoxAnnotation\"}},\"id\":\"9b61ebb4-5881-4bd8-ba99-dca4be171941\",\"type\":\"BoxZoomTool\"},{\"attributes\":{\"label\":{\"value\":\"CLIRAD (single-run)\"},\"renderers\":[{\"id\":\"cea8dc47-284a-495c-9317-9fae19be38c2\",\"type\":\"GlyphRenderer\"}]},\"id\":\"01e6de0f-c03c-4c16-a132-60ac0995303c\",\"type\":\"LegendItem\"},{\"attributes\":{},\"id\":\"01adea7d-714a-43e4-bd61-2d116be4b015\",\"type\":\"BasicTicker\"},{\"attributes\":{\"bottom_units\":\"screen\",\"fill_alpha\":{\"value\":0.5},\"fill_color\":{\"value\":\"lightgrey\"},\"left_units\":\"screen\",\"level\":\"overlay\",\"line_alpha\":{\"value\":1.0},\"line_color\":{\"value\":\"black\"},\"line_dash\":[4,4],\"line_width\":{\"value\":2},\"plot\":null,\"render_mode\":\"css\",\"right_units\":\"screen\",\"top_units\":\"screen\"},\"id\":\"e46d34af-9d16-4435-b853-2dc3fd677eee\",\"type\":\"BoxAnnotation\"},{\"attributes\":{\"source\":{\"id\":\"a9315119-0f4e-4cd5-bbce-919e4d71da67\",\"type\":\"ColumnDataSource\"}},\"id\":\"4ad7cce7-267a-4555-bf80-64e2b514f4ea\",\"type\":\"CDSView\"},{\"attributes\":{},\"id\":\"44fcc848-0a1d-4478-856b-57dd03aed0b8\",\"type\":\"WheelZoomTool\"},{\"attributes\":{},\"id\":\"5a2278e0-8f24-4c00-a23c-62f9e5b9fe36\",\"type\":\"PanTool\"},{\"attributes\":{\"dimension\":1,\"plot\":{\"id\":\"99057913-6a48-4729-b611-95527b4e3df6\",\"subtype\":\"Figure\",\"type\":\"Plot\"},\"ticker\":{\"id\":\"7cb19ba5-6065-4cab-9336-2d5126da1791\",\"type\":\"LogTicker\"}},\"id\":\"160f3690-305a-4859-823a-3e5dc8c78560\",\"type\":\"Grid\"},{\"attributes\":{\"callback\":null,\"data\":{\"x\":{\"__ndarray__\":\"zhhdnl3RU0CKgDdE+dxEQP6f5duhdUFAMJBr6ewEQkAADxZQyK45QBmX3ka8EDZAjl8alnlwL0CeYJlYHKIqQJoaoQNWxSJAwL4t7BozIUBMkS56I6AXQBxPe4ld/BRAnMjiKz2HCkCJCgdQ/WcBQKJTvluRvOg/j/JpYJwB9j+fcxKIKREEQOwUvOtLFw1AV0At7oRoEkD5lECKxjYXQAdydNQ0jR1ACbyvRZLfI0CO3MmPRGApQCcUNq4qNylA6VN9h30SJECRnP+HbGofQDQKaukXmhlAteFC/mL9E0CTDffT91MQQEkVAKh1YwtAqFesCIQRBkATatBMXLz/P4fvYPUXo/Y/tDrQnFTK8T/fneFQ7xLnP14aDQuCJtc/5BrOx2LRzT+fE4V0bnvHP3ueIXamhrA/cWaxNtALrr92uqPyMJK3P6q5+U821+g/ckrZjXL49z/TaxRJZAUAQPzVLij27QFAige8XqaCAEAv4Q7keaX+P0VyKG35kv0/XHVqXZRQ/T/+RskYEAv9PwKD1IjB3fw/JBko3yJ2/D//mRCM5iX7P/btQHcr5vo/xTCcdQr9+j+f/V+tjrf6P0Wt2HvLrvo/9IV/x6br+z/bYX40veD8P8+HZwkyUvw/CkxgoI8l/D8QA+bsYB78P2eu9w7DDvw/khNJm3qS+j8vZ0xHVJ75Py0d1shscPk/NKgVKiiK+T/NNtzstIr5P4ps72zyaPc/TlSpuPUj9j9S2qZu6gj1P2XVmdu6VPQ/t/WgjjEZ9D+np734CoH0P1P4Q57qwfo/\",\"dtype\":\"float64\",\"shape\":[75]},\"y\":{\"__ndarray__\":\"hLndy31yND/6fmq8dJNIP8n9DkWBPlE/aDum7souWD/b4a/JGvVgP9f34SAhymc/ZvM4DOavcD+z0M5pFmh3PxuC4zJuaoA/xjcUPlsHhz8uHAjJAiaQP9ieWRKgppY/oI7HDFTGnz+a5h2n6EimPzS6g9iZQq8/IuAQqtTstT9SSZ2AJsK+P4nS3uALk8U/ih9j7lpCzj+ASL99HTjVP4enV8oyxN0/ACL99nXg5D9fmEwVjErtPyUGgZVDi/Q/AiuHFtnO/D9OYhBYOTQEQPHSTWIQWAxA4XoUrkfhE0D8qfHSTeIbQMh2vp8ajyNArkfhehRuK0Bcj8L1KDwzQFyPwvUo/DpAPgrXo3DtQkDNzMzMzIxKQClcj8L1eFJAKVyPwvVoWECamZmZmVleQGZmZmZmJmJAAAAAAAAgZUCamZmZmRloQJqZmZmZEWtAmpmZmZkJbkCamZmZmYFwQGZmZmZm/nFAZmZmZmZ6c0BmZmZmZvZ0QDQzMzMzc3ZAAAAAAADwd0AAAAAAAGx5QAAAAAAA6HpAzMzMzMxkfEDMzMzMzOB9QM3MzMzMXH9AzczMzMxsgEAzMzMzMyuBQDMzMzMz6YFAMzMzMzOngkCamZmZmWWDQAAAAAAAJIRAAAAAAADihEAAAAAAAKCFQGZmZmZmXoZAzczMzMwch0DNzMzMzNqHQM3MzMzMmIhAMzMzMzNXiUCamZmZmRWKQAAAAAAA1IpAAAAAAACSi0AAAAAAAFCMQGZmZmZmDo1AzczMzMzMjUDNzMzMzIqOQM3MzMzMSI9A\",\"dtype\":\"float64\",\"shape\":[75]}},\"selected\":{\"id\":\"578ea1b4-5a01-4732-a90b-aa5e041b9397\",\"type\":\"Selection\"},\"selection_policy\":{\"id\":\"3e0d2270-d443-4021-b149-5fbc4c786c32\",\"type\":\"UnionRenderers\"}},\"id\":\"21536c95-61e4-4254-ae25-526cb4b80e05\",\"type\":\"ColumnDataSource\"},{\"attributes\":{\"data_source\":{\"id\":\"a9315119-0f4e-4cd5-bbce-919e4d71da67\",\"type\":\"ColumnDataSource\"},\"glyph\":{\"id\":\"a4058a92-99f0-4117-9dec-033e0a52a840\",\"type\":\"Square\"},\"hover_glyph\":null,\"muted_glyph\":null,\"nonselection_glyph\":{\"id\":\"6c670df5-bd1a-48eb-98f9-d771037e8bc8\",\"type\":\"Square\"},\"selection_glyph\":null,\"view\":{\"id\":\"4ad7cce7-267a-4555-bf80-64e2b514f4ea\",\"type\":\"CDSView\"}},\"id\":\"4d3bde20-c6d0-46ee-be7b-5b8c825b9b02\",\"type\":\"GlyphRenderer\"},{\"attributes\":{\"num_minor_ticks\":10},\"id\":\"7cb19ba5-6065-4cab-9336-2d5126da1791\",\"type\":\"LogTicker\"},{\"attributes\":{\"items\":[{\"id\":\"3d79f24e-dd8a-4e59-b1aa-01b5441e52cd\",\"type\":\"LegendItem\"},{\"id\":\"f591d7bc-0637-4747-945d-fe2c95ffb70c\",\"type\":\"LegendItem\"},{\"id\":\"249de58a-3562-4992-83d6-7a4dc04b8bb1\",\"type\":\"LegendItem\"}],\"label_text_font_size\":{\"value\":\"8pt\"},\"location\":\"top_center\",\"orientation\":\"horizontal\",\"plot\":{\"id\":\"99057913-6a48-4729-b611-95527b4e3df6\",\"subtype\":\"Figure\",\"type\":\"Plot\"}},\"id\":\"c37869d1-23b9-4617-81ac-e0dca16c0315\",\"type\":\"Legend\"},{\"attributes\":{\"line_alpha\":0.5,\"line_color\":\"#984ea3\",\"line_width\":1.5,\"x\":{\"field\":\"x\"},\"y\":{\"field\":\"y\"}},\"id\":\"87e4c9c7-b151-4c51-8885-e0abc8b176fb\",\"type\":\"Line\"},{\"attributes\":{\"above\":[{\"id\":\"30ba5cfe-d47b-4ca9-bbe7-b8333bbb1543\",\"type\":\"Legend\"}],\"below\":[{\"id\":\"b2e94173-a1e3-4933-bccc-426b1ff1340c\",\"type\":\"LinearAxis\"}],\"left\":[{\"id\":\"74271dfc-14f1-4c21-ad77-297b3c444bf8\",\"type\":\"LinearAxis\"}],\"plot_width\":300,\"renderers\":[{\"id\":\"b2e94173-a1e3-4933-bccc-426b1ff1340c\",\"type\":\"LinearAxis\"},{\"id\":\"5ddd7dec-5c08-4728-b297-520903257376\",\"type\":\"Grid\"},{\"id\":\"74271dfc-14f1-4c21-ad77-297b3c444bf8\",\"type\":\"LinearAxis\"},{\"id\":\"c0dedfcd-cfe3-468f-a74f-52cc5d71c02c\",\"type\":\"Grid\"},{\"id\":\"9cab3920-b0ec-4085-8a9a-733193207344\",\"type\":\"BoxAnnotation\"},{\"id\":\"cea8dc47-284a-495c-9317-9fae19be38c2\",\"type\":\"GlyphRenderer\"},{\"id\":\"4b506c36-c148-49f2-8031-c7a4e98cc0c0\",\"type\":\"GlyphRenderer\"},{\"id\":\"03f7ded4-4e5e-434c-8779-085feddc6ac8\",\"type\":\"GlyphRenderer\"},{\"id\":\"4d3bde20-c6d0-46ee-be7b-5b8c825b9b02\",\"type\":\"GlyphRenderer\"},{\"id\":\"1d08bef3-6161-4d16-afac-38f1308ccf78\",\"type\":\"GlyphRenderer\"},{\"id\":\"30ba5cfe-d47b-4ca9-bbe7-b8333bbb1543\",\"type\":\"Legend\"}],\"title\":{\"id\":\"8626a679-f7a7-40b9-aebd-3026cbf22a22\",\"type\":\"Title\"},\"toolbar\":{\"id\":\"b2880e82-41a9-4250-8c14-600222069850\",\"type\":\"Toolbar\"},\"toolbar_location\":null,\"x_range\":{\"id\":\"7d83234a-9447-4cf3-8f95-8e26ddddaeb9\",\"type\":\"Range1d\"},\"x_scale\":{\"id\":\"19a169e8-9f88-458a-a681-4c345a091c45\",\"type\":\"LinearScale\"},\"y_range\":{\"id\":\"879f3cd0-84de-4168-b3fb-3b1cc0d65552\",\"type\":\"Range1d\"},\"y_scale\":{\"id\":\"5d1b8ce9-3f8b-41af-abd5-7b21365780c1\",\"type\":\"LinearScale\"}},\"id\":\"2072c054-1319-425b-8782-230de5038992\",\"subtype\":\"Figure\",\"type\":\"Plot\"},{\"attributes\":{},\"id\":\"8732b649-1709-4c4e-8688-a62e24fa883c\",\"type\":\"UnionRenderers\"},{\"attributes\":{\"axis_label\":\"pressure [mb]\",\"formatter\":{\"id\":\"67546e0f-1cad-447c-9840-e9c1849d15b7\",\"type\":\"LogTickFormatter\"},\"plot\":{\"id\":\"d9371cb3-fd2f-4a8d-b19e-05a511fe131c\",\"subtype\":\"Figure\",\"type\":\"Plot\"},\"ticker\":{\"id\":\"0ff40be1-3d37-4492-a232-8950e2ede092\",\"type\":\"LogTicker\"}},\"id\":\"a9653335-408d-4c4e-b789-75f5f14169fc\",\"type\":\"LogAxis\"},{\"attributes\":{\"data_source\":{\"id\":\"5d5654ca-5b67-4ceb-8074-901d34d2d663\",\"type\":\"ColumnDataSource\"},\"glyph\":{\"id\":\"92beb902-8c68-4d00-a948-4760fdcd3d63\",\"type\":\"Circle\"},\"hover_glyph\":null,\"muted_glyph\":null,\"nonselection_glyph\":{\"id\":\"c1fce4a0-b25c-48b2-8b68-add39c370c69\",\"type\":\"Circle\"},\"selection_glyph\":null,\"view\":{\"id\":\"09e00c2f-bafe-48c7-8cc7-ae9f0af0a151\",\"type\":\"CDSView\"}},\"id\":\"4b506c36-c148-49f2-8031-c7a4e98cc0c0\",\"type\":\"GlyphRenderer\"},{\"attributes\":{\"plot\":null,\"text\":\"\"},\"id\":\"069fc52e-a026-4d92-ae6a-b37c3f02145e\",\"type\":\"Title\"},{\"attributes\":{\"callback\":null,\"data\":{\"x\":{\"__ndarray__\":\"zr+WUVIWRMCg+0KYlaggwN3EB3ukWwLA+oLF7VHq/D9eh5o9sXUOQKs5vzcn2g5AzWQZdWUsBEAmeDKdDGHlP0zhWeAVd+m/rLAUVdi19b9Nekd7a2bxv5Uf+AKJk96/qH/C5Rj9sj941fFMJFPaPzOFVxVEz98/4LQEvhgM1T+wxh/ak0eqPxZzZrU+eM6/tH1fW7F/3r+uWTJG7djevzE4N7u7ts2/2BJR4UI9rD+UA9kyVH+ZP08EhaoAfcu/7gLJ5NYV0L9A2lOGkR+xP1ZZ1WZxGuE/v/lt96HQ4D9cTVu+affQPwNd5pP6+8o/Oen6duLp3T/WV7JmqJvhP34wiptCMdg/9ebZeYvnyz+MUVAP5W3RP5M/4HLNsNQ/4sllhyQuzz+FT5hExlbEPyuPurMhMb0/fjYq6luhtz+odRAI3wi4P0MGLi/mIb4/f/ETIaXpwT/eQyxSrqfKP0e48UyD2cw/fgSDetd1I0CckJ9Km/kaQL5HXOvdwum/pkpDdqbzGkDVwXDg5M7vv2Tr3Onf7iVAQmZOLeMjMsDMzv6e4UMBwARZIb7y6f6/E+RmR9Fp/L9+7vRhPm/6v/AlzNbR0/i/ga5KMO5H+L/XrHVIw5H3vxuR8MAucfa/mJ6P/zn99L8q6u25zkrzv0cres0SdPG/zzG64ZLa7r+0pX0hE3HqvxW35FHeeeS/+L0g/m4uKkB7xcIsjozfPzLkHQbIKvW/Z12DRZzyAMAErmjfKdj1v4WD5mCHC/O/Dmb8w+Io8b89iKvmXHrvvyAV5SNAZe2/\",\"dtype\":\"float64\",\"shape\":[75]},\"y\":{\"__ndarray__\":\"GhExyth1ND/Sv8nbtpRIP2vylNV0PVE/aTum7souWD/At0SJ8fVgPw3Iuahxymc/MSNhhJWvcD/bTfBN02d3P2zb5nxnaoA/CD5h5MAGhz8NmeH1TyaQP+zrCsc9p5Y/LbKd76fGnz/bLW5ISEmmPww9YvTcQq8/JV2OstnstT8Er5Y7M8G+P0c+r3jqkcU/5h99k6ZBzj88bCIzFzjVP4enV8oyxN0//yH99nXg5D8qOpLLf0jtP5kqGJXUifQ/c9cS8kHP/D+/DpwzojQEQIEmwoanVwxA4lgXt9HgE0BSSZ2AJuIbQAMJih9jjiNA5q4l5INuK0AwTKYKRj0zQNv5fmq8/DpAaCJseHrtQkB/+zpwzoxKQM3MzMzMeFJAZmZmZmZqWEAAAAAAAFxeQM3MzMzMJmJAmpmZmZkfZUBmZmZmZhhoQDMzMzMzEWtAAAAAAAAKbkBmZmZmZoFwQM3MzMzM/XFAMzMzMzN6c0CamZmZmfZ0QAAAAAAAc3ZAZmZmZmbvd0DNzMzMzGt5QDMzMzMz6HpAmpmZmZlkfEAAAAAAAOF9QGZmZmZmXX9AZmZmZuZsgECamZmZGSuBQM3MzMxM6YFAAAAAAICngkAzMzMzs2WDQGZmZmbmI4RAmpmZmRnihEDNzMzMTKCFQAAAAACAXoZAMzMzM7Mch0BmZmZm5tqHQJqZmZkZmYhAzczMzExXiUAAAAAAgBWKQDMzMzOz04pAZmZmZuaRi0CamZmZGVCMQM3MzMxMDo1AAAAAAIDMjUAzMzMzs4qOQGZmZmbmSI9A\",\"dtype\":\"float64\",\"shape\":[75]}},\"selected\":{\"id\":\"b5374023-51f0-49cf-bbcc-5bc00c5cad05\",\"type\":\"Selection\"},\"selection_policy\":{\"id\":\"a4ae6bae-ca4b-4f92-af83-14f816238ff8\",\"type\":\"UnionRenderers\"}},\"id\":\"c9d097bf-ce1c-4780-aa56-d5116eacd2a1\",\"type\":\"ColumnDataSource\"},{\"attributes\":{},\"id\":\"0606558f-d69e-430f-ac8c-9a63016c4fe4\",\"type\":\"UnionRenderers\"},{\"attributes\":{},\"id\":\"5027093c-2809-4765-81e6-7ebd07b3a3a0\",\"type\":\"UnionRenderers\"},{\"attributes\":{\"plot\":{\"id\":\"d9371cb3-fd2f-4a8d-b19e-05a511fe131c\",\"subtype\":\"Figure\",\"type\":\"Plot\"},\"ticker\":{\"id\":\"856223c1-58cc-4489-b686-d0985278db9b\",\"type\":\"BasicTicker\"}},\"id\":\"d250f440-8582-42d7-9c80-199f6fcd4fb0\",\"type\":\"Grid\"},{\"attributes\":{},\"id\":\"1d9d9d1d-a483-4a62-aeab-8c791542605e\",\"type\":\"WheelZoomTool\"},{\"attributes\":{\"items\":[{\"id\":\"01e6de0f-c03c-4c16-a132-60ac0995303c\",\"type\":\"LegendItem\"},{\"id\":\"477cac2b-9f48-4668-ae64-be71e4c9be87\",\"type\":\"LegendItem\"},{\"id\":\"6612baba-7a92-4f9b-86e9-01d8aa16ed80\",\"type\":\"LegendItem\"}],\"label_text_font_size\":{\"value\":\"8pt\"},\"location\":\"top_center\",\"orientation\":\"horizontal\",\"plot\":{\"id\":\"2072c054-1319-425b-8782-230de5038992\",\"subtype\":\"Figure\",\"type\":\"Plot\"}},\"id\":\"30ba5cfe-d47b-4ca9-bbe7-b8333bbb1543\",\"type\":\"Legend\"},{\"attributes\":{},\"id\":\"4f05ebdb-4d50-4771-a293-5579a0b808f8\",\"type\":\"UnionRenderers\"},{\"attributes\":{\"source\":{\"id\":\"5d5654ca-5b67-4ceb-8074-901d34d2d663\",\"type\":\"ColumnDataSource\"}},\"id\":\"09e00c2f-bafe-48c7-8cc7-ae9f0af0a151\",\"type\":\"CDSView\"},{\"attributes\":{\"num_minor_ticks\":10},\"id\":\"0ff40be1-3d37-4492-a232-8950e2ede092\",\"type\":\"LogTicker\"},{\"attributes\":{},\"id\":\"117ab0e5-1596-4581-a9e7-49a07d603ec7\",\"type\":\"UnionRenderers\"},{\"attributes\":{},\"id\":\"3e0d2270-d443-4021-b149-5fbc4c786c32\",\"type\":\"UnionRenderers\"},{\"attributes\":{\"fill_alpha\":{\"value\":0.7},\"fill_color\":{\"value\":\"#4daf4a\"},\"line_alpha\":{\"value\":0.7},\"line_color\":{\"value\":\"#4daf4a\"},\"x\":{\"field\":\"x\"},\"y\":{\"field\":\"y\"}},\"id\":\"92beb902-8c68-4d00-a948-4760fdcd3d63\",\"type\":\"Circle\"},{\"attributes\":{\"callback\":null,\"end\":14.906499086864997,\"start\":-16.667529805365},\"id\":\"7d83234a-9447-4cf3-8f95-8e26ddddaeb9\",\"type\":\"Range1d\"},{\"attributes\":{},\"id\":\"2ba4a21e-020d-41ae-8c62-0e916f89b6e3\",\"type\":\"UnionRenderers\"},{\"attributes\":{\"callback\":null,\"data\":{\"x\":{\"__ndarray__\":\"cm1sTMT3VEDEyvjosEJHQOKI6DjzCUNArgQWV9awPkB9Lm8XG3M4QEz+Qv6iYzNA7eV8HaPLLkCX1QHyTpMoQFBmYSYetiNAUB04GtGpH0AmFyVE5j8ZQJca9QPGqBNALJP+OOHHDEBNxaf7QF8AQKtislomWuw/cW2dcO6A9T/uJJvfPu0EQIaQLTI/JQ1AxGiII+PmEkCJvfVeuCsYQD6ZBhGbHB9AXQw69DTYJEAsubcwKucqQNuT9D5OmipAJyi3szEJJUBlNebh5WkgQDDcPHBr2xlArtlANXuQFEBdJadFHckQQI2Avh0ZsQtAjYiwt1rsBUCL0SDoVBgAQK6C0nEEjvc/CggLSme58T9sXU2orFPnP0v0JYz9Gdg/vT38vxYczD9nBQTe6kHHP1IhkEXJwKo/8OZnhCVAub+xtVgCpmqzP6DUpY6g0+k/PKK3T1h4+D8RTDjQc1EAQG/dAQs7TwJAQt2eHpPLAEBWEh074x//PyCap9ZSGf4/rEzaTySm/T+7aXhHRmr9P688KeqeNP0/ruZ4EemD/D8olrZcn9T7P0+vNc9hW/s/i9VVL+4P+z+0NzC24uz6P8731Kza8vo/xFf4SHzq+z+gYyHpvHb8P68ROkiFevw/BAjYdCga/D8AUp8VbW77P3JrF/nKmvo/qCQeGfq++T/dplwHJfn4P2G4p+Uva/g/OzZ0RqMZ+D8dmn/iar73P/OuA7Ka8PY/gaaeQHGn9T9hkyjAH1L0P3aZGhdAU/M/n8VP/g7P8j+90HxHNvfyPwhNBtgrqvk/\",\"dtype\":\"float64\",\"shape\":[75]},\"y\":{\"__ndarray__\":\"GhExyth1ND/Sv8nbtpRIP2vylNV0PVE/aTum7souWD/At0SJ8fVgPw3Iuahxymc/MSNhhJWvcD/bTfBN02d3P2zb5nxnaoA/CD5h5MAGhz8NmeH1TyaQP+zrCsc9p5Y/LbKd76fGnz/bLW5ISEmmPww9YvTcQq8/JV2OstnstT8Er5Y7M8G+P0c+r3jqkcU/5h99k6ZBzj88bCIzFzjVP4enV8oyxN0//yH99nXg5D8qOpLLf0jtP5kqGJXUifQ/c9cS8kHP/D+/DpwzojQEQIEmwoanVwxA4lgXt9HgE0BSSZ2AJuIbQAMJih9jjiNA5q4l5INuK0AwTKYKRj0zQNv5fmq8/DpAaCJseHrtQkB/+zpwzoxKQM3MzMzMeFJAZmZmZmZqWEAAAAAAAFxeQM3MzMzMJmJAmpmZmZkfZUBmZmZmZhhoQDMzMzMzEWtAAAAAAAAKbkBmZmZmZoFwQM3MzMzM/XFAMzMzMzN6c0CamZmZmfZ0QAAAAAAAc3ZAZmZmZmbvd0DNzMzMzGt5QDMzMzMz6HpAmpmZmZlkfEAAAAAAAOF9QGZmZmZmXX9AZmZmZuZsgECamZmZGSuBQM3MzMxM6YFAAAAAAICngkAzMzMzs2WDQGZmZmbmI4RAmpmZmRnihEDNzMzMTKCFQAAAAACAXoZAMzMzM7Mch0BmZmZm5tqHQJqZmZkZmYhAzczMzExXiUAAAAAAgBWKQDMzMzOz04pAZmZmZuaRi0CamZmZGVCMQM3MzMxMDo1AAAAAAIDMjUAzMzMzs4qOQGZmZmbmSI9A\",\"dtype\":\"float64\",\"shape\":[75]}},\"selected\":{\"id\":\"29b878d7-004b-43fb-80f8-1d1b063e7847\",\"type\":\"Selection\"},\"selection_policy\":{\"id\":\"4f05ebdb-4d50-4771-a293-5579a0b808f8\",\"type\":\"UnionRenderers\"}},\"id\":\"de906642-a428-4673-b409-a2f3b1fecb63\",\"type\":\"ColumnDataSource\"},{\"attributes\":{},\"id\":\"74998b7b-a0bc-4783-9705-ab534624c2b1\",\"type\":\"Selection\"},{\"attributes\":{},\"id\":\"838be728-ea2a-4d21-8b3a-165fb546d58d\",\"type\":\"Selection\"},{\"attributes\":{\"active_drag\":\"auto\",\"active_inspect\":\"auto\",\"active_scroll\":\"auto\",\"active_tap\":\"auto\",\"tools\":[{\"id\":\"b4518cd5-9d58-4816-bc18-6b37eea86171\",\"type\":\"PanTool\"},{\"id\":\"0d0fe2c2-931f-4aa4-ab94-9443a4567340\",\"type\":\"WheelZoomTool\"},{\"id\":\"4866f023-0872-4e0e-8786-f340acca2049\",\"type\":\"BoxZoomTool\"},{\"id\":\"3b6ef4ec-b6ea-4c87-9d86-ff678cc2251d\",\"type\":\"SaveTool\"},{\"id\":\"a4b09d03-f34a-445a-8584-fa7743a4f297\",\"type\":\"ResetTool\"},{\"id\":\"a5b32ae9-185d-4360-b088-e6e5bbbd8540\",\"type\":\"HelpTool\"}]},\"id\":\"b2880e82-41a9-4250-8c14-600222069850\",\"type\":\"Toolbar\"},{\"attributes\":{},\"id\":\"29b878d7-004b-43fb-80f8-1d1b063e7847\",\"type\":\"Selection\"},{\"attributes\":{\"source\":{\"id\":\"de906642-a428-4673-b409-a2f3b1fecb63\",\"type\":\"ColumnDataSource\"}},\"id\":\"ee15af21-7bb9-419c-9501-cc468d6d8393\",\"type\":\"CDSView\"},{\"attributes\":{},\"id\":\"578ea1b4-5a01-4732-a90b-aa5e041b9397\",\"type\":\"Selection\"},{\"attributes\":{\"fill_alpha\":{\"value\":0.1},\"fill_color\":{\"value\":\"#1f77b4\"},\"line_alpha\":{\"value\":0.1},\"line_color\":{\"value\":\"#1f77b4\"},\"x\":{\"field\":\"x\"},\"y\":{\"field\":\"y\"}},\"id\":\"c1fce4a0-b25c-48b2-8b68-add39c370c69\",\"type\":\"Circle\"},{\"attributes\":{\"line_color\":\"#4daf4a\",\"line_width\":1.5,\"x\":{\"field\":\"x\"},\"y\":{\"field\":\"y\"}},\"id\":\"5c9df402-f9ab-4f71-87b9-6eaf5aa37de0\",\"type\":\"Line\"},{\"attributes\":{},\"id\":\"a72c5195-023f-4ee0-817b-2bae026ec0a4\",\"type\":\"Selection\"},{\"attributes\":{\"line_alpha\":0.1,\"line_color\":\"#1f77b4\",\"line_width\":1.5,\"x\":{\"field\":\"x\"},\"y\":{\"field\":\"y\"}},\"id\":\"8f4c62a5-1d19-4907-a42d-451747e7831e\",\"type\":\"Line\"},{\"attributes\":{},\"id\":\"19a169e8-9f88-458a-a681-4c345a091c45\",\"type\":\"LinearScale\"},{\"attributes\":{\"dimension\":1,\"plot\":{\"id\":\"d9371cb3-fd2f-4a8d-b19e-05a511fe131c\",\"subtype\":\"Figure\",\"type\":\"Plot\"},\"ticker\":{\"id\":\"0ff40be1-3d37-4492-a232-8950e2ede092\",\"type\":\"LogTicker\"}},\"id\":\"bfe657db-020e-47d6-a7e1-a82b32f4d12f\",\"type\":\"Grid\"},{\"attributes\":{\"callback\":null,\"data\":{\"x\":{\"__ndarray__\":\"zhhdnl3RU0CKgDdE+dxEQP6f5duhdUFAMJBr6ewEQkAADxZQyK45QBmX3ka8EDZAjl8alnlwL0CeYJlYHKIqQJoaoQNWxSJAwL4t7BozIUBMkS56I6AXQBxPe4ld/BRAnMjiKz2HCkCJCgdQ/WcBQKJTvluRvOg/j/JpYJwB9j+fcxKIKREEQOwUvOtLFw1AV0At7oRoEkD5lECKxjYXQAdydNQ0jR1ACbyvRZLfI0CO3MmPRGApQCcUNq4qNylA6VN9h30SJECRnP+HbGofQDQKaukXmhlAteFC/mL9E0CTDffT91MQQEkVAKh1YwtAqFesCIQRBkATatBMXLz/P4fvYPUXo/Y/tDrQnFTK8T/fneFQ7xLnP14aDQuCJtc/5BrOx2LRzT+fE4V0bnvHP3ueIXamhrA/cWaxNtALrr92uqPyMJK3P6q5+U821+g/ckrZjXL49z/TaxRJZAUAQPzVLij27QFAige8XqaCAEAv4Q7keaX+P0VyKG35kv0/XHVqXZRQ/T/+RskYEAv9PwKD1IjB3fw/JBko3yJ2/D//mRCM5iX7P/btQHcr5vo/xTCcdQr9+j+f/V+tjrf6P0Wt2HvLrvo/9IV/x6br+z/bYX40veD8P8+HZwkyUvw/CkxgoI8l/D8QA+bsYB78P2eu9w7DDvw/khNJm3qS+j8vZ0xHVJ75Py0d1shscPk/NKgVKiiK+T/NNtzstIr5P4ps72zyaPc/TlSpuPUj9j9S2qZu6gj1P2XVmdu6VPQ/t/WgjjEZ9D+np734CoH0P1P4Q57qwfo/\",\"dtype\":\"float64\",\"shape\":[75]},\"y\":{\"__ndarray__\":\"hLndy31yND/6fmq8dJNIP8n9DkWBPlE/aDum7souWD/b4a/JGvVgP9f34SAhymc/ZvM4DOavcD+z0M5pFmh3PxuC4zJuaoA/xjcUPlsHhz8uHAjJAiaQP9ieWRKgppY/oI7HDFTGnz+a5h2n6EimPzS6g9iZQq8/IuAQqtTstT9SSZ2AJsK+P4nS3uALk8U/ih9j7lpCzj+ASL99HTjVP4enV8oyxN0/ACL99nXg5D9fmEwVjErtPyUGgZVDi/Q/AiuHFtnO/D9OYhBYOTQEQPHSTWIQWAxA4XoUrkfhE0D8qfHSTeIbQMh2vp8ajyNArkfhehRuK0Bcj8L1KDwzQFyPwvUo/DpAPgrXo3DtQkDNzMzMzIxKQClcj8L1eFJAKVyPwvVoWECamZmZmVleQGZmZmZmJmJAAAAAAAAgZUCamZmZmRloQJqZmZmZEWtAmpmZmZkJbkCamZmZmYFwQGZmZmZm/nFAZmZmZmZ6c0BmZmZmZvZ0QDQzMzMzc3ZAAAAAAADwd0AAAAAAAGx5QAAAAAAA6HpAzMzMzMxkfEDMzMzMzOB9QM3MzMzMXH9AzczMzMxsgEAzMzMzMyuBQDMzMzMz6YFAMzMzMzOngkCamZmZmWWDQAAAAAAAJIRAAAAAAADihEAAAAAAAKCFQGZmZmZmXoZAzczMzMwch0DNzMzMzNqHQM3MzMzMmIhAMzMzMzNXiUCamZmZmRWKQAAAAAAA1IpAAAAAAACSi0AAAAAAAFCMQGZmZmZmDo1AzczMzMzMjUDNzMzMzIqOQM3MzMzMSI9A\",\"dtype\":\"float64\",\"shape\":[75]}},\"selected\":{\"id\":\"21123c9f-39a0-455e-88fc-86e4bd212728\",\"type\":\"Selection\"},\"selection_policy\":{\"id\":\"2ba4a21e-020d-41ae-8c62-0e916f89b6e3\",\"type\":\"UnionRenderers\"}},\"id\":\"a9315119-0f4e-4cd5-bbce-919e4d71da67\",\"type\":\"ColumnDataSource\"},{\"attributes\":{},\"id\":\"8625c8a9-47df-4805-8a3e-139c8ee2ecd4\",\"type\":\"BasicTickFormatter\"},{\"attributes\":{\"data_source\":{\"id\":\"de906642-a428-4673-b409-a2f3b1fecb63\",\"type\":\"ColumnDataSource\"},\"glyph\":{\"id\":\"5c9df402-f9ab-4f71-87b9-6eaf5aa37de0\",\"type\":\"Line\"},\"hover_glyph\":null,\"muted_glyph\":null,\"nonselection_glyph\":{\"id\":\"8f4c62a5-1d19-4907-a42d-451747e7831e\",\"type\":\"Line\"},\"selection_glyph\":null,\"view\":{\"id\":\"ee15af21-7bb9-419c-9501-cc468d6d8393\",\"type\":\"CDSView\"}},\"id\":\"03f7ded4-4e5e-434c-8779-085feddc6ac8\",\"type\":\"GlyphRenderer\"},{\"attributes\":{\"ticker\":null},\"id\":\"9e22225e-8646-41cb-ba1c-10b8cad17153\",\"type\":\"LogTickFormatter\"},{\"attributes\":{\"callback\":null,\"data\":{\"x\":{\"__ndarray__\":\"ExtCRzbZRUDbC+iCixhDQJUMOPE45EFAbS75ur0/QEBqfyI/0UE8QIDlOuXnPjdAj59hPV7rMUAb/dS7X+kpQDvIW8isHiJAJvHyBFs8GkCROFNlS+YUQJ2YxXONvxFAKacsAMpfDUD7/0WFpakDQKMSrzLkIPY/qpoeoPTD+j8JpAMvXVYFQFYp10a7PQtA53DSDej+EEDwl5KKKT4WQHzfLDPlLh5AcF0bN3L0JECuJdHa6fMqQMl/SjxaLCpAD+CQ/IKIJEAa3fIEJYwgQFqHF525/htA5pgudI+qFkAz2ozhk9gRQF7m/MbYYA1AtOWPBpepCUCAZ80BP38EQM8OtRhVmv0/6ERGuVg29T8aw/qXTwXwP+8Zg39lZeY/zwOxox2l3T93Kk6RWMzVP+9PQSvDSMU/BAfbo5nseb+slTSFwrnFP2mVi1Tdl+0/ayDa84y1+j9PEFu17vsBQPL40D/THARAzrsqQryoJ0CaarMMymAhQEF2+eDjN/E/6e4cxZcuIUClEYCupwXrP/oSIsdzlSlA2Nc2nKRbMMC9HRyFj8zav5tNXXeHdMy/hOgQgTGetb82TdIOFWmfP/CORrBG+MA/JkptxXAUzT8a266C5pPTP1MCJh1aJdg/r6Uh1blz3D+lz2K3PEfgP1iAOldwTeI/fxeCUGGj5D8DqDvtNoHnP6y5anmBXOw/vUTvZqMxLUB9S7BtjqH/PwSsXL4qXbw/mijQlI576L8vqgH0oWC4v2B8BY0t7pE/7vg1pcNiuj/uZDihPtDJP+6EJ4wX7+U/\",\"dtype\":\"float64\",\"shape\":[75]},\"y\":{\"__ndarray__\":\"GhExyth1ND/Sv8nbtpRIP2vylNV0PVE/aTum7souWD/At0SJ8fVgPw3Iuahxymc/MSNhhJWvcD/bTfBN02d3P2zb5nxnaoA/CD5h5MAGhz8NmeH1TyaQP+zrCsc9p5Y/LbKd76fGnz/bLW5ISEmmPww9YvTcQq8/JV2OstnstT8Er5Y7M8G+P0c+r3jqkcU/5h99k6ZBzj88bCIzFzjVP4enV8oyxN0//yH99nXg5D8qOpLLf0jtP5kqGJXUifQ/c9cS8kHP/D+/DpwzojQEQIEmwoanVwxA4lgXt9HgE0BSSZ2AJuIbQAMJih9jjiNA5q4l5INuK0AwTKYKRj0zQNv5fmq8/DpAaCJseHrtQkB/+zpwzoxKQM3MzMzMeFJAZmZmZmZqWEAAAAAAAFxeQM3MzMzMJmJAmpmZmZkfZUBmZmZmZhhoQDMzMzMzEWtAAAAAAAAKbkBmZmZmZoFwQM3MzMzM/XFAMzMzMzN6c0CamZmZmfZ0QAAAAAAAc3ZAZmZmZmbvd0DNzMzMzGt5QDMzMzMz6HpAmpmZmZlkfEAAAAAAAOF9QGZmZmZmXX9AZmZmZuZsgECamZmZGSuBQM3MzMxM6YFAAAAAAICngkAzMzMzs2WDQGZmZmbmI4RAmpmZmRnihEDNzMzMTKCFQAAAAACAXoZAMzMzM7Mch0BmZmZm5tqHQJqZmZkZmYhAzczMzExXiUAAAAAAgBWKQDMzMzOz04pAZmZmZuaRi0CamZmZGVCMQM3MzMxMDo1AAAAAAIDMjUAzMzMzs4qOQGZmZmbmSI9A\",\"dtype\":\"float64\",\"shape\":[75]}},\"selected\":{\"id\":\"74998b7b-a0bc-4783-9705-ab534624c2b1\",\"type\":\"Selection\"},\"selection_policy\":{\"id\":\"8732b649-1709-4c4e-8688-a62e24fa883c\",\"type\":\"UnionRenderers\"}},\"id\":\"ac512db4-762b-4b0e-806a-09c2a1396603\",\"type\":\"ColumnDataSource\"},{\"attributes\":{},\"id\":\"21123c9f-39a0-455e-88fc-86e4bd212728\",\"type\":\"Selection\"},{\"attributes\":{},\"id\":\"74327926-80c5-4c98-8717-0e82d906570e\",\"type\":\"PanTool\"},{\"attributes\":{\"children\":[{\"id\":\"2af1cfae-5bf4-44f9-91d8-7ce68613e556\",\"type\":\"Row\"}]},\"id\":\"02bc337f-8051-48ed-9891-90d478c37de0\",\"type\":\"Column\"},{\"attributes\":{},\"id\":\"1750f213-cf2c-4b33-a5aa-83a2af6188b1\",\"type\":\"UnionRenderers\"},{\"attributes\":{},\"id\":\"70d191ad-26b7-47bd-b561-7c02ca343698\",\"type\":\"Selection\"},{\"attributes\":{},\"id\":\"8cb3d69c-6a63-402b-9473-d697ec3005dc\",\"type\":\"LinearScale\"},{\"attributes\":{},\"id\":\"cb2e4866-82c9-4801-997d-602f6f96adc6\",\"type\":\"Selection\"},{\"attributes\":{},\"id\":\"e7585997-fc6f-4796-99dd-502cbe8aa437\",\"type\":\"UnionRenderers\"},{\"attributes\":{\"tools\":[{\"id\":\"b4518cd5-9d58-4816-bc18-6b37eea86171\",\"type\":\"PanTool\"},{\"id\":\"0d0fe2c2-931f-4aa4-ab94-9443a4567340\",\"type\":\"WheelZoomTool\"},{\"id\":\"4866f023-0872-4e0e-8786-f340acca2049\",\"type\":\"BoxZoomTool\"},{\"id\":\"3b6ef4ec-b6ea-4c87-9d86-ff678cc2251d\",\"type\":\"SaveTool\"},{\"id\":\"a4b09d03-f34a-445a-8584-fa7743a4f297\",\"type\":\"ResetTool\"},{\"id\":\"a5b32ae9-185d-4360-b088-e6e5bbbd8540\",\"type\":\"HelpTool\"},{\"id\":\"5a2278e0-8f24-4c00-a23c-62f9e5b9fe36\",\"type\":\"PanTool\"},{\"id\":\"44fcc848-0a1d-4478-856b-57dd03aed0b8\",\"type\":\"WheelZoomTool\"},{\"id\":\"9b61ebb4-5881-4bd8-ba99-dca4be171941\",\"type\":\"BoxZoomTool\"},{\"id\":\"33b7e8cf-dbf0-460a-a20e-045c405878ae\",\"type\":\"SaveTool\"},{\"id\":\"b558fbf9-8388-44ac-9b52-276f956e5e5d\",\"type\":\"ResetTool\"},{\"id\":\"99b9faa9-2d13-44d6-8a99-de99a6d96703\",\"type\":\"HelpTool\"},{\"id\":\"74327926-80c5-4c98-8717-0e82d906570e\",\"type\":\"PanTool\"},{\"id\":\"1d9d9d1d-a483-4a62-aeab-8c791542605e\",\"type\":\"WheelZoomTool\"},{\"id\":\"ccc91e90-cd5e-48a0-9fd5-fc91b27a84ee\",\"type\":\"BoxZoomTool\"},{\"id\":\"b56afa91-e775-4277-b38f-61a568a408fc\",\"type\":\"SaveTool\"},{\"id\":\"5148fe30-007b-4373-9857-014e550fb416\",\"type\":\"ResetTool\"},{\"id\":\"e33e9bad-1465-482f-a896-c847df2ef959\",\"type\":\"HelpTool\"}]},\"id\":\"672d2da9-9f30-431c-b61d-b3988398a335\",\"type\":\"ProxyToolbar\"},{\"attributes\":{\"items\":[{\"id\":\"41fec3a6-e43a-4085-a630-ecc4b537cbc2\",\"type\":\"LegendItem\"},{\"id\":\"f4c3f3c1-dc2a-4845-a485-3af5b7e4c9dc\",\"type\":\"LegendItem\"}],\"label_text_font_size\":{\"value\":\"8pt\"},\"location\":\"top_center\",\"orientation\":\"horizontal\",\"plot\":{\"id\":\"d9371cb3-fd2f-4a8d-b19e-05a511fe131c\",\"subtype\":\"Figure\",\"type\":\"Plot\"}},\"id\":\"183c610b-fed9-4270-a378-bf4872ddba08\",\"type\":\"Legend\"},{\"attributes\":{\"fill_alpha\":{\"value\":0.1},\"fill_color\":{\"value\":\"#1f77b4\"},\"line_alpha\":{\"value\":0.1},\"line_color\":{\"value\":\"#1f77b4\"},\"x\":{\"field\":\"x\"},\"y\":{\"field\":\"y\"}},\"id\":\"21697f1e-b4d5-4173-832e-8337bc990020\",\"type\":\"Circle\"},{\"attributes\":{\"callback\":null,\"end\":0.7043867911736722,\"start\":-1.3773045018954444},\"id\":\"d4ad1364-6dbf-484a-9718-0872adaad969\",\"type\":\"Range1d\"},{\"attributes\":{\"source\":{\"id\":\"c9d097bf-ce1c-4780-aa56-d5116eacd2a1\",\"type\":\"ColumnDataSource\"}},\"id\":\"e7978e04-8027-4e95-9226-ce8e086770cb\",\"type\":\"CDSView\"},{\"attributes\":{\"line_alpha\":0.1,\"line_color\":\"#1f77b4\",\"line_dash\":[6],\"line_width\":4,\"x\":{\"field\":\"x\"},\"y\":{\"field\":\"y\"}},\"id\":\"da21122c-59c6-4c90-8725-debf024ef2c6\",\"type\":\"Line\"},{\"attributes\":{\"line_alpha\":0.5,\"line_color\":\"#377eb8\",\"line_dash\":[6],\"line_width\":4,\"x\":{\"field\":\"x\"},\"y\":{\"field\":\"y\"}},\"id\":\"4f0d9fd3-8496-445d-b299-e35fe51bbf6a\",\"type\":\"Line\"},{\"attributes\":{\"data_source\":{\"id\":\"31173565-5dc9-46d4-bc98-748b16c715b5\",\"type\":\"ColumnDataSource\"},\"glyph\":{\"id\":\"4f0d9fd3-8496-445d-b299-e35fe51bbf6a\",\"type\":\"Line\"},\"hover_glyph\":null,\"muted_glyph\":null,\"nonselection_glyph\":{\"id\":\"da21122c-59c6-4c90-8725-debf024ef2c6\",\"type\":\"Line\"},\"selection_glyph\":null,\"view\":{\"id\":\"34cd8fc5-8021-4a2b-870d-b9a84ec6a87e\",\"type\":\"CDSView\"}},\"id\":\"d2556a60-4a31-426f-a6eb-861a87b8352c\",\"type\":\"GlyphRenderer\"},{\"attributes\":{\"bottom_units\":\"screen\",\"fill_alpha\":{\"value\":0.5},\"fill_color\":{\"value\":\"lightgrey\"},\"left_units\":\"screen\",\"level\":\"overlay\",\"line_alpha\":{\"value\":1.0},\"line_color\":{\"value\":\"black\"},\"line_dash\":[4,4],\"line_width\":{\"value\":2},\"plot\":null,\"render_mode\":\"css\",\"right_units\":\"screen\",\"top_units\":\"screen\"},\"id\":\"170d37fd-403b-4cf5-bfce-8f52329c309c\",\"type\":\"BoxAnnotation\"},{\"attributes\":{},\"id\":\"a843f79c-f3ae-4bdf-ab71-1465a1ec73e4\",\"type\":\"LogScale\"},{\"attributes\":{\"toolbar\":{\"id\":\"672d2da9-9f30-431c-b61d-b3988398a335\",\"type\":\"ProxyToolbar\"},\"toolbar_location\":\"above\"},\"id\":\"d898cd62-9403-4441-87d5-501be7f3b6b0\",\"type\":\"ToolbarBox\"},{\"attributes\":{\"line_alpha\":0.8,\"line_color\":\"#984ea3\",\"line_width\":1.5,\"x\":{\"field\":\"x\"},\"y\":{\"field\":\"y\"}},\"id\":\"df5c3762-8f18-4ae3-8a14-5cd2a7a54129\",\"type\":\"Line\"},{\"attributes\":{},\"id\":\"0b054ee4-e381-4537-9506-b8f3a0eaa2be\",\"type\":\"Selection\"},{\"attributes\":{\"children\":[{\"id\":\"d898cd62-9403-4441-87d5-501be7f3b6b0\",\"type\":\"ToolbarBox\"},{\"id\":\"02bc337f-8051-48ed-9891-90d478c37de0\",\"type\":\"Column\"}]},\"id\":\"84635add-d876-44e2-9f42-fd0897681c39\",\"type\":\"Column\"},{\"attributes\":{\"data_source\":{\"id\":\"c9d097bf-ce1c-4780-aa56-d5116eacd2a1\",\"type\":\"ColumnDataSource\"},\"glyph\":{\"id\":\"c873c075-5bfd-4c58-9062-694b5a66d262\",\"type\":\"Circle\"},\"hover_glyph\":null,\"muted_glyph\":null,\"nonselection_glyph\":{\"id\":\"21697f1e-b4d5-4173-832e-8337bc990020\",\"type\":\"Circle\"},\"selection_glyph\":null,\"view\":{\"id\":\"e7978e04-8027-4e95-9226-ce8e086770cb\",\"type\":\"CDSView\"}},\"id\":\"67c008e9-1d6d-4ca0-8d8f-0c212f7f0f17\",\"type\":\"GlyphRenderer\"},{\"attributes\":{\"plot\":null,\"text\":\"\"},\"id\":\"8626a679-f7a7-40b9-aebd-3026cbf22a22\",\"type\":\"Title\"},{\"attributes\":{},\"id\":\"1a1ffb58-9bb7-457b-bb35-86dc3367d892\",\"type\":\"UnionRenderers\"},{\"attributes\":{},\"id\":\"9816ebb5-12a9-4e00-bdd3-8975978a5d5e\",\"type\":\"UnionRenderers\"},{\"attributes\":{},\"id\":\"5148fe30-007b-4373-9857-014e550fb416\",\"type\":\"ResetTool\"},{\"attributes\":{},\"id\":\"2cfa8a4b-ed95-488a-9868-53f23502322d\",\"type\":\"Selection\"},{\"attributes\":{},\"id\":\"b56afa91-e775-4277-b38f-61a568a408fc\",\"type\":\"SaveTool\"},{\"attributes\":{},\"id\":\"9b1a50fe-f2b4-4cdd-b4dd-c6bdfc1b3f04\",\"type\":\"UnionRenderers\"},{\"attributes\":{},\"id\":\"e33e9bad-1465-482f-a896-c847df2ef959\",\"type\":\"HelpTool\"},{\"attributes\":{},\"id\":\"b5374023-51f0-49cf-bbcc-5bc00c5cad05\",\"type\":\"Selection\"},{\"attributes\":{\"ticker\":null},\"id\":\"67546e0f-1cad-447c-9840-e9c1849d15b7\",\"type\":\"LogTickFormatter\"},{\"attributes\":{\"line_alpha\":0.1,\"line_color\":\"#1f77b4\",\"line_width\":1.5,\"x\":{\"field\":\"x\"},\"y\":{\"field\":\"y\"}},\"id\":\"872fcfdc-3127-48f4-bc48-321c2bc50f6c\",\"type\":\"Line\"},{\"attributes\":{},\"id\":\"0ba5951a-2f8a-4c81-99a7-cbbab66075c5\",\"type\":\"Selection\"},{\"attributes\":{\"plot\":null,\"text\":\"\"},\"id\":\"28a43ead-c99a-48f0-aae6-c01379ecf3bf\",\"type\":\"Title\"},{\"attributes\":{},\"id\":\"856223c1-58cc-4489-b686-d0985278db9b\",\"type\":\"BasicTicker\"},{\"attributes\":{\"source\":{\"id\":\"31173565-5dc9-46d4-bc98-748b16c715b5\",\"type\":\"ColumnDataSource\"}},\"id\":\"34cd8fc5-8021-4a2b-870d-b9a84ec6a87e\",\"type\":\"CDSView\"},{\"attributes\":{\"axis_label\":\"cooling rate [K/day]\",\"formatter\":{\"id\":\"37c6a1d9-d5e3-443f-90b1-ede444a482f4\",\"type\":\"BasicTickFormatter\"},\"plot\":{\"id\":\"d9371cb3-fd2f-4a8d-b19e-05a511fe131c\",\"subtype\":\"Figure\",\"type\":\"Plot\"},\"ticker\":{\"id\":\"856223c1-58cc-4489-b686-d0985278db9b\",\"type\":\"BasicTicker\"}},\"id\":\"b6d0c901-1f2d-47f3-84ef-4041149f7143\",\"type\":\"LinearAxis\"},{\"attributes\":{\"line_alpha\":0.1,\"line_color\":\"#1f77b4\",\"line_dash\":[6],\"line_width\":5,\"x\":{\"field\":\"x\"},\"y\":{\"field\":\"y\"}},\"id\":\"b0cf1259-8fc5-4b64-9472-dd6fdb4e3485\",\"type\":\"Line\"},{\"attributes\":{\"callback\":null,\"end\":0.01,\"start\":1020},\"id\":\"d9d75e99-3794-455f-930d-f74208b45498\",\"type\":\"Range1d\"},{\"attributes\":{\"callback\":null,\"data\":{\"x\":{\"__ndarray__\":\"zr+WUVIWRMCg+0KYlaggwN3EB3ukWwLA+oLF7VHq/D9eh5o9sXUOQKs5vzcn2g5AzWQZdWUsBEAmeDKdDGHlP0zhWeAVd+m/rLAUVdi19b9Nekd7a2bxv5Uf+AKJk96/qH/C5Rj9sj941fFMJFPaPzOFVxVEz98/4LQEvhgM1T+wxh/ak0eqPxZzZrU+eM6/tH1fW7F/3r+uWTJG7djevzE4N7u7ts2/2BJR4UI9rD+UA9kyVH+ZP08EhaoAfcu/7gLJ5NYV0L9A2lOGkR+xP1ZZ1WZxGuE/v/lt96HQ4D9cTVu+affQPwNd5pP6+8o/Oen6duLp3T/WV7JmqJvhP34wiptCMdg/9ebZeYvnyz+MUVAP5W3RP5M/4HLNsNQ/4sllhyQuzz+FT5hExlbEPyuPurMhMb0/fjYq6luhtz+odRAI3wi4P0MGLi/mIb4/f/ETIaXpwT/eQyxSrqfKP0e48UyD2cw/fgSDetd1I0CckJ9Km/kaQL5HXOvdwum/pkpDdqbzGkDVwXDg5M7vv2Tr3Onf7iVAQmZOLeMjMsDMzv6e4UMBwARZIb7y6f6/E+RmR9Fp/L9+7vRhPm/6v/AlzNbR0/i/ga5KMO5H+L/XrHVIw5H3vxuR8MAucfa/mJ6P/zn99L8q6u25zkrzv0cres0SdPG/zzG64ZLa7r+0pX0hE3HqvxW35FHeeeS/+L0g/m4uKkB7xcIsjozfPzLkHQbIKvW/Z12DRZzyAMAErmjfKdj1v4WD5mCHC/O/Dmb8w+Io8b89iKvmXHrvvyAV5SNAZe2/\",\"dtype\":\"float64\",\"shape\":[75]},\"y\":{\"__ndarray__\":\"GhExyth1ND/Sv8nbtpRIP2vylNV0PVE/aTum7souWD/At0SJ8fVgPw3Iuahxymc/MSNhhJWvcD/bTfBN02d3P2zb5nxnaoA/CD5h5MAGhz8NmeH1TyaQP+zrCsc9p5Y/LbKd76fGnz/bLW5ISEmmPww9YvTcQq8/JV2OstnstT8Er5Y7M8G+P0c+r3jqkcU/5h99k6ZBzj88bCIzFzjVP4enV8oyxN0//yH99nXg5D8qOpLLf0jtP5kqGJXUifQ/c9cS8kHP/D+/DpwzojQEQIEmwoanVwxA4lgXt9HgE0BSSZ2AJuIbQAMJih9jjiNA5q4l5INuK0AwTKYKRj0zQNv5fmq8/DpAaCJseHrtQkB/+zpwzoxKQM3MzMzMeFJAZmZmZmZqWEAAAAAAAFxeQM3MzMzMJmJAmpmZmZkfZUBmZmZmZhhoQDMzMzMzEWtAAAAAAAAKbkBmZmZmZoFwQM3MzMzM/XFAMzMzMzN6c0CamZmZmfZ0QAAAAAAAc3ZAZmZmZmbvd0DNzMzMzGt5QDMzMzMz6HpAmpmZmZlkfEAAAAAAAOF9QGZmZmZmXX9AZmZmZuZsgECamZmZGSuBQM3MzMxM6YFAAAAAAICngkAzMzMzs2WDQGZmZmbmI4RAmpmZmRnihEDNzMzMTKCFQAAAAACAXoZAMzMzM7Mch0BmZmZm5tqHQJqZmZkZmYhAzczMzExXiUAAAAAAgBWKQDMzMzOz04pAZmZmZuaRi0CamZmZGVCMQM3MzMxMDo1AAAAAAIDMjUAzMzMzs4qOQGZmZmbmSI9A\",\"dtype\":\"float64\",\"shape\":[75]}},\"selected\":{\"id\":\"0ba5951a-2f8a-4c81-99a7-cbbab66075c5\",\"type\":\"Selection\"},\"selection_policy\":{\"id\":\"1750f213-cf2c-4b33-a5aa-83a2af6188b1\",\"type\":\"UnionRenderers\"}},\"id\":\"05664ded-14e0-4b50-b80a-7e220c57f5b1\",\"type\":\"ColumnDataSource\"},{\"attributes\":{\"children\":[{\"id\":\"2072c054-1319-425b-8782-230de5038992\",\"subtype\":\"Figure\",\"type\":\"Plot\"},{\"id\":\"99057913-6a48-4729-b611-95527b4e3df6\",\"subtype\":\"Figure\",\"type\":\"Plot\"},{\"id\":\"d9371cb3-fd2f-4a8d-b19e-05a511fe131c\",\"subtype\":\"Figure\",\"type\":\"Plot\"}]},\"id\":\"2af1cfae-5bf4-44f9-91d8-7ce68613e556\",\"type\":\"Row\"},{\"attributes\":{},\"id\":\"6bde0362-ae7e-4bf4-8fd3-178cc7d94a0b\",\"type\":\"BasicTickFormatter\"},{\"attributes\":{\"fill_alpha\":{\"value\":0.7},\"fill_color\":{\"value\":\"#984ea3\"},\"line_alpha\":{\"value\":0.7},\"line_color\":{\"value\":\"#984ea3\"},\"x\":{\"field\":\"x\"},\"y\":{\"field\":\"y\"}},\"id\":\"c873c075-5bfd-4c58-9062-694b5a66d262\",\"type\":\"Circle\"},{\"attributes\":{},\"id\":\"876768a3-e97e-4f8f-aaa9-e2f2f3a5f690\",\"type\":\"Selection\"},{\"attributes\":{},\"id\":\"2d4daff8-a1f0-4b6c-a89c-51cab5da019a\",\"type\":\"BasicTickFormatter\"},{\"attributes\":{},\"id\":\"a4ae6bae-ca4b-4f92-af83-14f816238ff8\",\"type\":\"UnionRenderers\"},{\"attributes\":{},\"id\":\"37c6a1d9-d5e3-443f-90b1-ede444a482f4\",\"type\":\"BasicTickFormatter\"},{\"attributes\":{\"above\":[{\"id\":\"183c610b-fed9-4270-a378-bf4872ddba08\",\"type\":\"Legend\"}],\"below\":[{\"id\":\"b6d0c901-1f2d-47f3-84ef-4041149f7143\",\"type\":\"LinearAxis\"}],\"left\":[{\"id\":\"a9653335-408d-4c4e-b789-75f5f14169fc\",\"type\":\"LogAxis\"}],\"plot_width\":300,\"renderers\":[{\"id\":\"b6d0c901-1f2d-47f3-84ef-4041149f7143\",\"type\":\"LinearAxis\"},{\"id\":\"d250f440-8582-42d7-9c80-199f6fcd4fb0\",\"type\":\"Grid\"},{\"id\":\"a9653335-408d-4c4e-b789-75f5f14169fc\",\"type\":\"LogAxis\"},{\"id\":\"bfe657db-020e-47d6-a7e1-a82b32f4d12f\",\"type\":\"Grid\"},{\"id\":\"170d37fd-403b-4cf5-bfce-8f52329c309c\",\"type\":\"BoxAnnotation\"},{\"id\":\"67c008e9-1d6d-4ca0-8d8f-0c212f7f0f17\",\"type\":\"GlyphRenderer\"},{\"id\":\"8d8be95d-78b7-4de1-9d2a-0da0e2603607\",\"type\":\"GlyphRenderer\"},{\"id\":\"d2556a60-4a31-426f-a6eb-861a87b8352c\",\"type\":\"GlyphRenderer\"},{\"id\":\"183c610b-fed9-4270-a378-bf4872ddba08\",\"type\":\"Legend\"}],\"title\":{\"id\":\"28a43ead-c99a-48f0-aae6-c01379ecf3bf\",\"type\":\"Title\"},\"toolbar\":{\"id\":\"b43a7a80-9610-412b-bd35-b14100add8f4\",\"type\":\"Toolbar\"},\"toolbar_location\":null,\"x_range\":{\"id\":\"d4ad1364-6dbf-484a-9718-0872adaad969\",\"type\":\"Range1d\"},\"x_scale\":{\"id\":\"8cb3d69c-6a63-402b-9473-d697ec3005dc\",\"type\":\"LinearScale\"},\"y_range\":{\"id\":\"d9d75e99-3794-455f-930d-f74208b45498\",\"type\":\"Range1d\"},\"y_scale\":{\"id\":\"a843f79c-f3ae-4bdf-ab71-1465a1ec73e4\",\"type\":\"LogScale\"}},\"id\":\"d9371cb3-fd2f-4a8d-b19e-05a511fe131c\",\"subtype\":\"Figure\",\"type\":\"Plot\"},{\"attributes\":{\"label\":{\"value\":\"CLIRAD (single-run) - CRD\"},\"renderers\":[{\"id\":\"67c008e9-1d6d-4ca0-8d8f-0c212f7f0f17\",\"type\":\"GlyphRenderer\"},{\"id\":\"8d8be95d-78b7-4de1-9d2a-0da0e2603607\",\"type\":\"GlyphRenderer\"}]},\"id\":\"41fec3a6-e43a-4085-a630-ecc4b537cbc2\",\"type\":\"LegendItem\"},{\"attributes\":{\"overlay\":{\"id\":\"170d37fd-403b-4cf5-bfce-8f52329c309c\",\"type\":\"BoxAnnotation\"}},\"id\":\"ccc91e90-cd5e-48a0-9fd5-fc91b27a84ee\",\"type\":\"BoxZoomTool\"},{\"attributes\":{\"label\":{\"value\":\"old CLIRAD (H2012) - CRD\"},\"renderers\":[{\"id\":\"d2556a60-4a31-426f-a6eb-861a87b8352c\",\"type\":\"GlyphRenderer\"}]},\"id\":\"f4c3f3c1-dc2a-4845-a485-3af5b7e4c9dc\",\"type\":\"LegendItem\"}],\"root_ids\":[\"84635add-d876-44e2-9f42-fd0897681c39\"]},\"title\":\"Bokeh Application\",\"version\":\"0.12.16\"}};\n",
       "  var render_items = [{\"docid\":\"ee1d7441-8dd0-4ad4-8927-785b845d8548\",\"elementid\":\"edd6f554-fe1d-4e30-93c3-ffc5095bd377\",\"modelid\":\"84635add-d876-44e2-9f42-fd0897681c39\"}];\n",
       "  root.Bokeh.embed.embed_items_notebook(docs_json, render_items);\n",
       "\n",
       "  }\n",
       "  if (root.Bokeh !== undefined) {\n",
       "    embed_document(root);\n",
       "  } else {\n",
       "    var attempts = 0;\n",
       "    var timer = setInterval(function(root) {\n",
       "      if (root.Bokeh !== undefined) {\n",
       "        embed_document(root);\n",
       "        clearInterval(timer);\n",
       "      }\n",
       "      attempts++;\n",
       "      if (attempts > 100) {\n",
       "        console.log(\"Bokeh: ERROR: Unable to run BokehJS code because BokehJS library is missing\")\n",
       "        clearInterval(timer);\n",
       "      }\n",
       "    }, 10, root)\n",
       "  }\n",
       "})(window);"
      ],
      "application/vnd.bokehjs_exec.v0+json": ""
     },
     "metadata": {
      "application/vnd.bokehjs_exec.v0+json": {
       "id": "84635add-d876-44e2-9f42-fd0897681c39"
      }
     },
     "output_type": "display_data"
    },
    {
     "data": {
      "text/markdown": [
       "*FIGURE.* Cooling rates & difference."
      ],
      "text/plain": [
       "<IPython.core.display.Markdown object>"
      ]
     },
     "metadata": {},
     "output_type": "display_data"
    },
    {
     "data": {
      "text/html": [
       "<a id=\"Fluxes._mls.\"></a>"
      ],
      "text/plain": [
       "<IPython.core.display.HTML object>"
      ]
     },
     "metadata": {},
     "output_type": "display_data"
    },
    {
     "data": {
      "text/markdown": [
       "# Fluxes. mls."
      ],
      "text/plain": [
       "<IPython.core.display.Markdown object>"
      ]
     },
     "metadata": {},
     "output_type": "display_data"
    },
    {
     "data": {
      "text/html": [
       "\n",
       "<div class=\"bk-root\">\n",
       "    <div class=\"bk-plotdiv\" id=\"90e28d53-9ce7-4e52-9542-f5dc0710611a\"></div>\n",
       "</div>"
      ]
     },
     "metadata": {},
     "output_type": "display_data"
    },
    {
     "data": {
      "application/javascript": [
       "(function(root) {\n",
       "  function embed_document(root) {\n",
       "    \n",
       "  var docs_json = {\"f24dd72d-edc7-47bb-a7ec-33ed46006ea8\":{\"roots\":{\"references\":[{\"attributes\":{\"axis_label\":\"flux (W m-2)\",\"formatter\":{\"id\":\"c336b530-b93f-46d9-913a-8f3deca5f66f\",\"type\":\"BasicTickFormatter\"},\"plot\":{\"id\":\"2814a707-a5e8-44e6-abec-ef74370538ad\",\"subtype\":\"Figure\",\"type\":\"Plot\"},\"ticker\":{\"id\":\"4ec9c742-442b-4312-9b9f-271be8418ff4\",\"type\":\"BasicTicker\"}},\"id\":\"2537cf0c-0427-4805-a910-160196d8723a\",\"type\":\"LinearAxis\"},{\"attributes\":{\"below\":[{\"id\":\"c0a4023c-03e7-4ab8-8074-e40e50d39219\",\"type\":\"CategoricalAxis\"}],\"left\":[{\"id\":\"41804aec-5c47-4ad7-b300-fab5dd928154\",\"type\":\"LinearAxis\"}],\"plot_height\":300,\"plot_width\":300,\"renderers\":[{\"id\":\"c0a4023c-03e7-4ab8-8074-e40e50d39219\",\"type\":\"CategoricalAxis\"},{\"id\":\"f09cc460-e9ed-4065-8cf9-1fc843892e6e\",\"type\":\"Grid\"},{\"id\":\"41804aec-5c47-4ad7-b300-fab5dd928154\",\"type\":\"LinearAxis\"},{\"id\":\"d3731216-b600-47ba-8ff3-c9c3730b8e0c\",\"type\":\"Grid\"},{\"id\":\"762a8a8b-4d65-41f2-b6f7-555182b746c6\",\"type\":\"BoxAnnotation\"},{\"id\":\"07ce8762-1e46-4e64-a16e-718ec04f1ae2\",\"type\":\"GlyphRenderer\"}],\"title\":{\"id\":\"1d291ff9-cfdc-4957-ad0c-459303fa1aeb\",\"type\":\"Title\"},\"toolbar\":{\"id\":\"75d02d39-3447-417d-b0bc-0882cacc5e02\",\"type\":\"Toolbar\"},\"toolbar_location\":null,\"x_range\":{\"id\":\"fad42b77-2b99-45c1-a619-00fd453f7482\",\"type\":\"FactorRange\"},\"x_scale\":{\"id\":\"8806e92e-f369-407d-82bd-222f18b0df4a\",\"type\":\"CategoricalScale\"},\"y_range\":{\"id\":\"4fab9a01-45a7-435f-b794-3cbf7225c2c6\",\"type\":\"DataRange1d\"},\"y_scale\":{\"id\":\"0ed24b6d-23d9-4beb-9591-a7d0524db590\",\"type\":\"LinearScale\"}},\"id\":\"60b1f78d-7fbd-4273-8a47-1ed5e289cbbc\",\"subtype\":\"Figure\",\"type\":\"Plot\"},{\"attributes\":{},\"id\":\"1f3f5dbc-234e-49b5-b26f-7aafbca15ccf\",\"type\":\"HelpTool\"},{\"attributes\":{\"callback\":null},\"id\":\"4fab9a01-45a7-435f-b794-3cbf7225c2c6\",\"type\":\"DataRange1d\"},{\"attributes\":{},\"id\":\"b6ec46d2-6a7d-49b1-bb44-12bbef60b79e\",\"type\":\"SaveTool\"},{\"attributes\":{},\"id\":\"4ec9c742-442b-4312-9b9f-271be8418ff4\",\"type\":\"BasicTicker\"},{\"attributes\":{\"below\":[{\"id\":\"5fbc7994-3335-4d35-8b63-f0fcf3885ab0\",\"type\":\"CategoricalAxis\"}],\"left\":[{\"id\":\"2537cf0c-0427-4805-a910-160196d8723a\",\"type\":\"LinearAxis\"}],\"plot_height\":300,\"plot_width\":300,\"renderers\":[{\"id\":\"5fbc7994-3335-4d35-8b63-f0fcf3885ab0\",\"type\":\"CategoricalAxis\"},{\"id\":\"92906f26-e17f-4550-b7f9-1263337e3e9e\",\"type\":\"Grid\"},{\"id\":\"2537cf0c-0427-4805-a910-160196d8723a\",\"type\":\"LinearAxis\"},{\"id\":\"e54db351-148b-48ab-ab77-7599dd860eac\",\"type\":\"Grid\"},{\"id\":\"110d2834-df31-422d-b406-99d0f6b67d3c\",\"type\":\"BoxAnnotation\"},{\"id\":\"5bf4c39b-643f-4c09-afc2-3613b070abe4\",\"type\":\"GlyphRenderer\"}],\"title\":{\"id\":\"11eb2b69-5834-44a3-aefd-5ca2ac41e516\",\"type\":\"Title\"},\"toolbar\":{\"id\":\"5689799a-3641-4e86-b192-c72b0cd64f62\",\"type\":\"Toolbar\"},\"toolbar_location\":null,\"x_range\":{\"id\":\"96d6273f-e989-43cc-a288-e874088bf540\",\"type\":\"FactorRange\"},\"x_scale\":{\"id\":\"62b56490-3fef-4691-919d-27cf647e4577\",\"type\":\"CategoricalScale\"},\"y_range\":{\"id\":\"3ca9a5af-7bb5-4d89-a8b9-3a221eb7f18b\",\"type\":\"DataRange1d\"},\"y_scale\":{\"id\":\"d3b7c8dc-3d8b-45a8-821a-1b3114c338e8\",\"type\":\"LinearScale\"}},\"id\":\"2814a707-a5e8-44e6-abec-ef74370538ad\",\"subtype\":\"Figure\",\"type\":\"Plot\"},{\"attributes\":{},\"id\":\"acb5a6ec-4abd-4105-9836-6d050900d82c\",\"type\":\"ResetTool\"},{\"attributes\":{\"callback\":null,\"data\":{\"band\":[\"1\",\"2\",\"3\",\"4\",\"5\",\"6\",\"7\",\"8\",\"9\",\"10\",\"11\"],\"flux\":{\"__ndarray__\":\"gCv2ds+K4j8Ah09bnykiQKyZWlsd4RJAgNOB7sPo3j/AllwgnCrcv3SY9s393S7Agt1VtN6MIsDIoYT0bxL1vz4Fr0yueApAxAgKUfi7+z9Uqp5IByb0Pw==\",\"dtype\":\"float64\",\"shape\":[11]}},\"selected\":{\"id\":\"453c1dce-e7e9-4be8-b45f-c56426f008ee\",\"type\":\"Selection\"},\"selection_policy\":{\"id\":\"a5eccd45-a398-4e8c-88eb-06d995582e54\",\"type\":\"UnionRenderers\"}},\"id\":\"b2bbb189-dfeb-475c-abac-2f028f427ddb\",\"type\":\"ColumnDataSource\"},{\"attributes\":{\"overlay\":{\"id\":\"110d2834-df31-422d-b406-99d0f6b67d3c\",\"type\":\"BoxAnnotation\"}},\"id\":\"bf0aeb12-c117-4113-aae0-dce8007eafc0\",\"type\":\"BoxZoomTool\"},{\"attributes\":{\"callback\":null,\"data\":{\"band\":[\"1\",\"2\",\"3\",\"4\",\"5\",\"6\",\"7\",\"8\",\"9\",\"10\",\"11\"],\"flux\":{\"__ndarray__\":\"AAAAAyUF9r6AU8iVehblP+AybmqgefA/ACwKuyh6sD/mettMhegkQL5OjxJgJkhAhkSQOYUBNUBS7LKpBKktQGAzwAXZUgZAAFijHqLRjT+cBG9Io+L9Pw==\",\"dtype\":\"float64\",\"shape\":[11]}},\"selected\":{\"id\":\"31b24891-55d3-456e-9061-e5ceab4deef0\",\"type\":\"Selection\"},\"selection_policy\":{\"id\":\"b349462a-2e76-4445-9a62-0839efb68c06\",\"type\":\"UnionRenderers\"}},\"id\":\"70105731-a333-4f7d-801b-4459c64730f8\",\"type\":\"ColumnDataSource\"},{\"attributes\":{\"bottom_units\":\"screen\",\"fill_alpha\":{\"value\":0.5},\"fill_color\":{\"value\":\"lightgrey\"},\"left_units\":\"screen\",\"level\":\"overlay\",\"line_alpha\":{\"value\":1.0},\"line_color\":{\"value\":\"black\"},\"line_dash\":[4,4],\"line_width\":{\"value\":2},\"plot\":null,\"render_mode\":\"css\",\"right_units\":\"screen\",\"top_units\":\"screen\"},\"id\":\"110d2834-df31-422d-b406-99d0f6b67d3c\",\"type\":\"BoxAnnotation\"},{\"attributes\":{\"plot\":null,\"text\":\"TOA flux. CLIRAD (single-run) - CRD.\"},\"id\":\"11eb2b69-5834-44a3-aefd-5ca2ac41e516\",\"type\":\"Title\"},{\"attributes\":{\"source\":{\"id\":\"c2203d17-9d6b-4b23-8850-58c188a19042\",\"type\":\"ColumnDataSource\"}},\"id\":\"917319f2-c04b-4451-9419-1c21cb44bbe0\",\"type\":\"CDSView\"},{\"attributes\":{},\"id\":\"62b56490-3fef-4691-919d-27cf647e4577\",\"type\":\"CategoricalScale\"},{\"attributes\":{},\"id\":\"9d302166-9760-4dea-934d-8381972068e8\",\"type\":\"CategoricalTicker\"},{\"attributes\":{\"axis_label\":\"spectral band\",\"formatter\":{\"id\":\"fdb225df-7c44-40a3-abf8-b0439ae3fb5d\",\"type\":\"CategoricalTickFormatter\"},\"plot\":{\"id\":\"2814a707-a5e8-44e6-abec-ef74370538ad\",\"subtype\":\"Figure\",\"type\":\"Plot\"},\"ticker\":{\"id\":\"ee35c566-f61f-436a-8869-38039a2e550e\",\"type\":\"CategoricalTicker\"}},\"id\":\"5fbc7994-3335-4d35-8b63-f0fcf3885ab0\",\"type\":\"CategoricalAxis\"},{\"attributes\":{\"plot\":{\"id\":\"2814a707-a5e8-44e6-abec-ef74370538ad\",\"subtype\":\"Figure\",\"type\":\"Plot\"},\"ticker\":{\"id\":\"ee35c566-f61f-436a-8869-38039a2e550e\",\"type\":\"CategoricalTicker\"}},\"id\":\"92906f26-e17f-4550-b7f9-1263337e3e9e\",\"type\":\"Grid\"},{\"attributes\":{\"axis_label\":\"spectral band\",\"formatter\":{\"id\":\"10f7e729-5e0c-44d2-af1a-9611d5f87633\",\"type\":\"CategoricalTickFormatter\"},\"plot\":{\"id\":\"60b1f78d-7fbd-4273-8a47-1ed5e289cbbc\",\"subtype\":\"Figure\",\"type\":\"Plot\"},\"ticker\":{\"id\":\"9d302166-9760-4dea-934d-8381972068e8\",\"type\":\"CategoricalTicker\"}},\"id\":\"c0a4023c-03e7-4ab8-8074-e40e50d39219\",\"type\":\"CategoricalAxis\"},{\"attributes\":{\"plot\":{\"id\":\"60b1f78d-7fbd-4273-8a47-1ed5e289cbbc\",\"subtype\":\"Figure\",\"type\":\"Plot\"},\"ticker\":{\"id\":\"9d302166-9760-4dea-934d-8381972068e8\",\"type\":\"CategoricalTicker\"}},\"id\":\"f09cc460-e9ed-4065-8cf9-1fc843892e6e\",\"type\":\"Grid\"},{\"attributes\":{},\"id\":\"68dec66d-df8d-4852-b32f-abfd180ef194\",\"type\":\"WheelZoomTool\"},{\"attributes\":{},\"id\":\"8806e92e-f369-407d-82bd-222f18b0df4a\",\"type\":\"CategoricalScale\"},{\"attributes\":{\"callback\":null,\"factors\":[\"1\",\"2\",\"3\",\"4\",\"5\",\"6\",\"7\",\"8\",\"9\",\"10\",\"11\"]},\"id\":\"96d6273f-e989-43cc-a288-e874088bf540\",\"type\":\"FactorRange\"},{\"attributes\":{},\"id\":\"ee35c566-f61f-436a-8869-38039a2e550e\",\"type\":\"CategoricalTicker\"},{\"attributes\":{},\"id\":\"8f7afc51-1683-442d-bdc4-c4a38f16856d\",\"type\":\"PanTool\"},{\"attributes\":{\"dimension\":1,\"plot\":{\"id\":\"2814a707-a5e8-44e6-abec-ef74370538ad\",\"subtype\":\"Figure\",\"type\":\"Plot\"},\"ticker\":{\"id\":\"4ec9c742-442b-4312-9b9f-271be8418ff4\",\"type\":\"BasicTicker\"}},\"id\":\"e54db351-148b-48ab-ab77-7599dd860eac\",\"type\":\"Grid\"},{\"attributes\":{\"callback\":null,\"factors\":[\"1\",\"2\",\"3\",\"4\",\"5\",\"6\",\"7\",\"8\",\"9\",\"10\",\"11\"]},\"id\":\"fad42b77-2b99-45c1-a619-00fd453f7482\",\"type\":\"FactorRange\"},{\"attributes\":{},\"id\":\"8db3b5ec-4a0a-40d4-8acd-690ecbd35bf3\",\"type\":\"BasicTickFormatter\"},{\"attributes\":{\"overlay\":{\"id\":\"762a8a8b-4d65-41f2-b6f7-555182b746c6\",\"type\":\"BoxAnnotation\"}},\"id\":\"afa7bdef-5d48-426e-9e3c-9fdcd9a8ea6b\",\"type\":\"BoxZoomTool\"},{\"attributes\":{\"fill_alpha\":{\"value\":0.1},\"fill_color\":{\"value\":\"#1f77b4\"},\"line_alpha\":{\"value\":0.1},\"line_color\":{\"value\":\"#1f77b4\"},\"top\":{\"field\":\"flux\"},\"width\":{\"value\":0.9},\"x\":{\"field\":\"band\"}},\"id\":\"e6a6f484-9851-4570-9c74-7c556ba91ae7\",\"type\":\"VBar\"},{\"attributes\":{\"fill_color\":{\"value\":\"#1f77b4\"},\"line_color\":{\"value\":\"#1f77b4\"},\"top\":{\"field\":\"flux\"},\"width\":{\"value\":0.9},\"x\":{\"field\":\"band\"}},\"id\":\"1d384259-6f8f-42cf-8481-e7d0430151a7\",\"type\":\"VBar\"},{\"attributes\":{\"plot\":null,\"text\":\"SFC flux. CLIRAD (single-run) - CRD.\"},\"id\":\"1d291ff9-cfdc-4957-ad0c-459303fa1aeb\",\"type\":\"Title\"},{\"attributes\":{\"callback\":null},\"id\":\"3ca9a5af-7bb5-4d89-a8b9-3a221eb7f18b\",\"type\":\"DataRange1d\"},{\"attributes\":{\"active_drag\":\"auto\",\"active_inspect\":\"auto\",\"active_scroll\":\"auto\",\"active_tap\":\"auto\",\"tools\":[{\"id\":\"cbd37a6e-a5af-4156-8b2c-809cc34b4ac3\",\"type\":\"PanTool\"},{\"id\":\"8b330b67-c3c3-448f-b00e-df6da7bf8058\",\"type\":\"WheelZoomTool\"},{\"id\":\"afa7bdef-5d48-426e-9e3c-9fdcd9a8ea6b\",\"type\":\"BoxZoomTool\"},{\"id\":\"b6ec46d2-6a7d-49b1-bb44-12bbef60b79e\",\"type\":\"SaveTool\"},{\"id\":\"6076be2e-da27-473d-8652-26bd1b144316\",\"type\":\"ResetTool\"},{\"id\":\"a73fe6cb-8671-4545-b73c-245949c65c75\",\"type\":\"HelpTool\"}]},\"id\":\"75d02d39-3447-417d-b0bc-0882cacc5e02\",\"type\":\"Toolbar\"},{\"attributes\":{\"active_drag\":\"auto\",\"active_inspect\":\"auto\",\"active_scroll\":\"auto\",\"active_tap\":\"auto\",\"tools\":[{\"id\":\"8f7afc51-1683-442d-bdc4-c4a38f16856d\",\"type\":\"PanTool\"},{\"id\":\"68dec66d-df8d-4852-b32f-abfd180ef194\",\"type\":\"WheelZoomTool\"},{\"id\":\"bf0aeb12-c117-4113-aae0-dce8007eafc0\",\"type\":\"BoxZoomTool\"},{\"id\":\"2a7410c3-ef87-47f0-87cc-61e9d15626c1\",\"type\":\"SaveTool\"},{\"id\":\"acb5a6ec-4abd-4105-9836-6d050900d82c\",\"type\":\"ResetTool\"},{\"id\":\"1f3f5dbc-234e-49b5-b26f-7aafbca15ccf\",\"type\":\"HelpTool\"}]},\"id\":\"5689799a-3641-4e86-b192-c72b0cd64f62\",\"type\":\"Toolbar\"},{\"attributes\":{\"data_source\":{\"id\":\"c2203d17-9d6b-4b23-8850-58c188a19042\",\"type\":\"ColumnDataSource\"},\"glyph\":{\"id\":\"1d384259-6f8f-42cf-8481-e7d0430151a7\",\"type\":\"VBar\"},\"hover_glyph\":null,\"muted_glyph\":null,\"nonselection_glyph\":{\"id\":\"e6a6f484-9851-4570-9c74-7c556ba91ae7\",\"type\":\"VBar\"},\"selection_glyph\":null,\"view\":{\"id\":\"917319f2-c04b-4451-9419-1c21cb44bbe0\",\"type\":\"CDSView\"}},\"id\":\"5bf4c39b-643f-4c09-afc2-3613b070abe4\",\"type\":\"GlyphRenderer\"},{\"attributes\":{},\"id\":\"2a7410c3-ef87-47f0-87cc-61e9d15626c1\",\"type\":\"SaveTool\"},{\"attributes\":{},\"id\":\"d3b7c8dc-3d8b-45a8-821a-1b3114c338e8\",\"type\":\"LinearScale\"},{\"attributes\":{},\"id\":\"0ed24b6d-23d9-4beb-9591-a7d0524db590\",\"type\":\"LinearScale\"},{\"attributes\":{},\"id\":\"9942bf79-4c5b-476c-8228-3e0eea5d3184\",\"type\":\"LinearScale\"},{\"attributes\":{\"callback\":null,\"data\":{\"band\":[\"1\",\"2\",\"3\",\"4\",\"5\",\"6\",\"7\",\"8\",\"9\",\"10\",\"11\"],\"flux\":{\"__ndarray__\":\"gI9QM6SK4j+YHHdKB3sjQMh71cqE/xZAYG/x8J6D4T/6aHHGMAckQPN4Wn7gbkBAJeZZSSt2J0B4YFuatgYrQJ0lEpbCZRhA2P85zJf3+z8XJyl2VQQJQA==\",\"dtype\":\"float64\",\"shape\":[11]}},\"selected\":{\"id\":\"6345c2be-b76e-4659-baf6-41c1a093fec8\",\"type\":\"Selection\"},\"selection_policy\":{\"id\":\"b36d697d-408b-49d8-a35a-ff9bf45cb7a9\",\"type\":\"UnionRenderers\"}},\"id\":\"c2203d17-9d6b-4b23-8850-58c188a19042\",\"type\":\"ColumnDataSource\"},{\"attributes\":{\"plot\":{\"id\":\"fa69f897-5c47-441a-8ce3-0a4fb7817c9d\",\"subtype\":\"Figure\",\"type\":\"Plot\"},\"ticker\":{\"id\":\"2da4b11a-508b-4228-8c7c-d52b15f94fac\",\"type\":\"CategoricalTicker\"}},\"id\":\"989ba558-8103-4b95-b7fd-32f45a431e37\",\"type\":\"Grid\"},{\"attributes\":{},\"id\":\"6076be2e-da27-473d-8652-26bd1b144316\",\"type\":\"ResetTool\"},{\"attributes\":{\"plot\":null,\"text\":\"Atmosphere heating. CLIRAD (single-run) - CRD.\"},\"id\":\"bc9a6abd-ac3f-447b-9e67-24469de1fb09\",\"type\":\"Title\"},{\"attributes\":{},\"id\":\"b349462a-2e76-4445-9a62-0839efb68c06\",\"type\":\"UnionRenderers\"},{\"attributes\":{},\"id\":\"99eb895f-e821-45c0-b3a7-d3b55a8bf03f\",\"type\":\"ResetTool\"},{\"attributes\":{},\"id\":\"a73fe6cb-8671-4545-b73c-245949c65c75\",\"type\":\"HelpTool\"},{\"attributes\":{\"source\":{\"id\":\"b2bbb189-dfeb-475c-abac-2f028f427ddb\",\"type\":\"ColumnDataSource\"}},\"id\":\"9d75cf01-865f-4ede-9cfa-77d7be87961d\",\"type\":\"CDSView\"},{\"attributes\":{\"axis_label\":\"spectral band\",\"formatter\":{\"id\":\"0f3d7421-7d2e-4b81-87ce-3f899d4ecff0\",\"type\":\"CategoricalTickFormatter\"},\"plot\":{\"id\":\"fa69f897-5c47-441a-8ce3-0a4fb7817c9d\",\"subtype\":\"Figure\",\"type\":\"Plot\"},\"ticker\":{\"id\":\"2da4b11a-508b-4228-8c7c-d52b15f94fac\",\"type\":\"CategoricalTicker\"}},\"id\":\"01e06eea-5eaf-4119-a323-7fb70d708fcb\",\"type\":\"CategoricalAxis\"},{\"attributes\":{},\"id\":\"31b24891-55d3-456e-9061-e5ceab4deef0\",\"type\":\"Selection\"},{\"attributes\":{},\"id\":\"4a37fc0f-566b-4a51-b63f-e324d04e9399\",\"type\":\"BasicTicker\"},{\"attributes\":{},\"id\":\"befed038-1149-4125-b10e-9d7874579738\",\"type\":\"SaveTool\"},{\"attributes\":{\"fill_alpha\":{\"value\":0.1},\"fill_color\":{\"value\":\"#1f77b4\"},\"line_alpha\":{\"value\":0.1},\"line_color\":{\"value\":\"#1f77b4\"},\"top\":{\"field\":\"flux\"},\"width\":{\"value\":0.9},\"x\":{\"field\":\"band\"}},\"id\":\"3ce2de37-ade2-46b1-b1d6-09a37d92df5f\",\"type\":\"VBar\"},{\"attributes\":{},\"id\":\"c3affa4d-4d76-4873-b5da-303d6a1b54ab\",\"type\":\"CategoricalScale\"},{\"attributes\":{},\"id\":\"2ae13d92-91ec-4a05-be0f-2d74eaa17bee\",\"type\":\"BasicTickFormatter\"},{\"attributes\":{},\"id\":\"fdb225df-7c44-40a3-abf8-b0439ae3fb5d\",\"type\":\"CategoricalTickFormatter\"},{\"attributes\":{\"active_drag\":\"auto\",\"active_inspect\":\"auto\",\"active_scroll\":\"auto\",\"active_tap\":\"auto\",\"tools\":[{\"id\":\"7b82b4a9-678c-49ea-84eb-badd91c985fa\",\"type\":\"PanTool\"},{\"id\":\"5396c580-d038-4f6c-9eee-d6259f6033f5\",\"type\":\"WheelZoomTool\"},{\"id\":\"6f9286ad-1071-4b36-a450-33ff23b9f67f\",\"type\":\"BoxZoomTool\"},{\"id\":\"befed038-1149-4125-b10e-9d7874579738\",\"type\":\"SaveTool\"},{\"id\":\"99eb895f-e821-45c0-b3a7-d3b55a8bf03f\",\"type\":\"ResetTool\"},{\"id\":\"993608cb-f243-4bed-946e-5d0140ef7651\",\"type\":\"HelpTool\"}]},\"id\":\"ff64d428-91d2-4d56-9f0e-d83bc396ad8e\",\"type\":\"Toolbar\"},{\"attributes\":{\"children\":[{\"id\":\"2814a707-a5e8-44e6-abec-ef74370538ad\",\"subtype\":\"Figure\",\"type\":\"Plot\"},{\"id\":\"60b1f78d-7fbd-4273-8a47-1ed5e289cbbc\",\"subtype\":\"Figure\",\"type\":\"Plot\"},{\"id\":\"fa69f897-5c47-441a-8ce3-0a4fb7817c9d\",\"subtype\":\"Figure\",\"type\":\"Plot\"}]},\"id\":\"00b090fb-d708-4023-a3bd-470312a9f2f0\",\"type\":\"Row\"},{\"attributes\":{},\"id\":\"8b330b67-c3c3-448f-b00e-df6da7bf8058\",\"type\":\"WheelZoomTool\"},{\"attributes\":{\"axis_label\":\"flux (W m-2)\",\"formatter\":{\"id\":\"2ae13d92-91ec-4a05-be0f-2d74eaa17bee\",\"type\":\"BasicTickFormatter\"},\"plot\":{\"id\":\"fa69f897-5c47-441a-8ce3-0a4fb7817c9d\",\"subtype\":\"Figure\",\"type\":\"Plot\"},\"ticker\":{\"id\":\"83295f33-3f31-44f5-8756-5243d5a388d5\",\"type\":\"BasicTicker\"}},\"id\":\"47af3308-0eda-4752-abf7-1d7c16fd1bb3\",\"type\":\"LinearAxis\"},{\"attributes\":{\"toolbar\":{\"id\":\"ea26ab8b-b854-4dce-a90e-8d3f59356942\",\"type\":\"ProxyToolbar\"},\"toolbar_location\":\"above\"},\"id\":\"f2010be6-3319-4e43-b169-e06ace7e159f\",\"type\":\"ToolbarBox\"},{\"attributes\":{},\"id\":\"0f3d7421-7d2e-4b81-87ce-3f899d4ecff0\",\"type\":\"CategoricalTickFormatter\"},{\"attributes\":{\"data_source\":{\"id\":\"b2bbb189-dfeb-475c-abac-2f028f427ddb\",\"type\":\"ColumnDataSource\"},\"glyph\":{\"id\":\"0b027fd7-b2a4-47d3-835d-5b92615d37f3\",\"type\":\"VBar\"},\"hover_glyph\":null,\"muted_glyph\":null,\"nonselection_glyph\":{\"id\":\"048c931e-4189-428b-bdd3-8daf3709c3cf\",\"type\":\"VBar\"},\"selection_glyph\":null,\"view\":{\"id\":\"9d75cf01-865f-4ede-9cfa-77d7be87961d\",\"type\":\"CDSView\"}},\"id\":\"cd9af731-fb73-4d3d-b136-a1cf4af000f8\",\"type\":\"GlyphRenderer\"},{\"attributes\":{\"dimension\":1,\"plot\":{\"id\":\"60b1f78d-7fbd-4273-8a47-1ed5e289cbbc\",\"subtype\":\"Figure\",\"type\":\"Plot\"},\"ticker\":{\"id\":\"4a37fc0f-566b-4a51-b63f-e324d04e9399\",\"type\":\"BasicTicker\"}},\"id\":\"d3731216-b600-47ba-8ff3-c9c3730b8e0c\",\"type\":\"Grid\"},{\"attributes\":{\"callback\":null,\"factors\":[\"1\",\"2\",\"3\",\"4\",\"5\",\"6\",\"7\",\"8\",\"9\",\"10\",\"11\"]},\"id\":\"e737679e-53ee-410b-a29c-386929dc16f9\",\"type\":\"FactorRange\"},{\"attributes\":{},\"id\":\"c336b530-b93f-46d9-913a-8f3deca5f66f\",\"type\":\"BasicTickFormatter\"},{\"attributes\":{},\"id\":\"453c1dce-e7e9-4be8-b45f-c56426f008ee\",\"type\":\"Selection\"},{\"attributes\":{},\"id\":\"10f7e729-5e0c-44d2-af1a-9611d5f87633\",\"type\":\"CategoricalTickFormatter\"},{\"attributes\":{\"tools\":[{\"id\":\"8f7afc51-1683-442d-bdc4-c4a38f16856d\",\"type\":\"PanTool\"},{\"id\":\"68dec66d-df8d-4852-b32f-abfd180ef194\",\"type\":\"WheelZoomTool\"},{\"id\":\"bf0aeb12-c117-4113-aae0-dce8007eafc0\",\"type\":\"BoxZoomTool\"},{\"id\":\"2a7410c3-ef87-47f0-87cc-61e9d15626c1\",\"type\":\"SaveTool\"},{\"id\":\"acb5a6ec-4abd-4105-9836-6d050900d82c\",\"type\":\"ResetTool\"},{\"id\":\"1f3f5dbc-234e-49b5-b26f-7aafbca15ccf\",\"type\":\"HelpTool\"},{\"id\":\"cbd37a6e-a5af-4156-8b2c-809cc34b4ac3\",\"type\":\"PanTool\"},{\"id\":\"8b330b67-c3c3-448f-b00e-df6da7bf8058\",\"type\":\"WheelZoomTool\"},{\"id\":\"afa7bdef-5d48-426e-9e3c-9fdcd9a8ea6b\",\"type\":\"BoxZoomTool\"},{\"id\":\"b6ec46d2-6a7d-49b1-bb44-12bbef60b79e\",\"type\":\"SaveTool\"},{\"id\":\"6076be2e-da27-473d-8652-26bd1b144316\",\"type\":\"ResetTool\"},{\"id\":\"a73fe6cb-8671-4545-b73c-245949c65c75\",\"type\":\"HelpTool\"},{\"id\":\"7b82b4a9-678c-49ea-84eb-badd91c985fa\",\"type\":\"PanTool\"},{\"id\":\"5396c580-d038-4f6c-9eee-d6259f6033f5\",\"type\":\"WheelZoomTool\"},{\"id\":\"6f9286ad-1071-4b36-a450-33ff23b9f67f\",\"type\":\"BoxZoomTool\"},{\"id\":\"befed038-1149-4125-b10e-9d7874579738\",\"type\":\"SaveTool\"},{\"id\":\"99eb895f-e821-45c0-b3a7-d3b55a8bf03f\",\"type\":\"ResetTool\"},{\"id\":\"993608cb-f243-4bed-946e-5d0140ef7651\",\"type\":\"HelpTool\"}]},\"id\":\"ea26ab8b-b854-4dce-a90e-8d3f59356942\",\"type\":\"ProxyToolbar\"},{\"attributes\":{},\"id\":\"cbd37a6e-a5af-4156-8b2c-809cc34b4ac3\",\"type\":\"PanTool\"},{\"attributes\":{},\"id\":\"a5eccd45-a398-4e8c-88eb-06d995582e54\",\"type\":\"UnionRenderers\"},{\"attributes\":{\"below\":[{\"id\":\"01e06eea-5eaf-4119-a323-7fb70d708fcb\",\"type\":\"CategoricalAxis\"}],\"left\":[{\"id\":\"47af3308-0eda-4752-abf7-1d7c16fd1bb3\",\"type\":\"LinearAxis\"}],\"plot_height\":300,\"plot_width\":300,\"renderers\":[{\"id\":\"01e06eea-5eaf-4119-a323-7fb70d708fcb\",\"type\":\"CategoricalAxis\"},{\"id\":\"989ba558-8103-4b95-b7fd-32f45a431e37\",\"type\":\"Grid\"},{\"id\":\"47af3308-0eda-4752-abf7-1d7c16fd1bb3\",\"type\":\"LinearAxis\"},{\"id\":\"f75b4f79-0d27-44e1-ba76-f62bb7cf94e0\",\"type\":\"Grid\"},{\"id\":\"8c3f65a7-9e96-4203-9819-f0868304f6ed\",\"type\":\"BoxAnnotation\"},{\"id\":\"cd9af731-fb73-4d3d-b136-a1cf4af000f8\",\"type\":\"GlyphRenderer\"}],\"title\":{\"id\":\"bc9a6abd-ac3f-447b-9e67-24469de1fb09\",\"type\":\"Title\"},\"toolbar\":{\"id\":\"ff64d428-91d2-4d56-9f0e-d83bc396ad8e\",\"type\":\"Toolbar\"},\"toolbar_location\":null,\"x_range\":{\"id\":\"e737679e-53ee-410b-a29c-386929dc16f9\",\"type\":\"FactorRange\"},\"x_scale\":{\"id\":\"c3affa4d-4d76-4873-b5da-303d6a1b54ab\",\"type\":\"CategoricalScale\"},\"y_range\":{\"id\":\"3210b058-5af8-482e-804b-f3b8d15484f4\",\"type\":\"DataRange1d\"},\"y_scale\":{\"id\":\"9942bf79-4c5b-476c-8228-3e0eea5d3184\",\"type\":\"LinearScale\"}},\"id\":\"fa69f897-5c47-441a-8ce3-0a4fb7817c9d\",\"subtype\":\"Figure\",\"type\":\"Plot\"},{\"attributes\":{\"bottom_units\":\"screen\",\"fill_alpha\":{\"value\":0.5},\"fill_color\":{\"value\":\"lightgrey\"},\"left_units\":\"screen\",\"level\":\"overlay\",\"line_alpha\":{\"value\":1.0},\"line_color\":{\"value\":\"black\"},\"line_dash\":[4,4],\"line_width\":{\"value\":2},\"plot\":null,\"render_mode\":\"css\",\"right_units\":\"screen\",\"top_units\":\"screen\"},\"id\":\"762a8a8b-4d65-41f2-b6f7-555182b746c6\",\"type\":\"BoxAnnotation\"},{\"attributes\":{},\"id\":\"6345c2be-b76e-4659-baf6-41c1a093fec8\",\"type\":\"Selection\"},{\"attributes\":{\"overlay\":{\"id\":\"8c3f65a7-9e96-4203-9819-f0868304f6ed\",\"type\":\"BoxAnnotation\"}},\"id\":\"6f9286ad-1071-4b36-a450-33ff23b9f67f\",\"type\":\"BoxZoomTool\"},{\"attributes\":{},\"id\":\"5396c580-d038-4f6c-9eee-d6259f6033f5\",\"type\":\"WheelZoomTool\"},{\"attributes\":{},\"id\":\"993608cb-f243-4bed-946e-5d0140ef7651\",\"type\":\"HelpTool\"},{\"attributes\":{\"fill_color\":{\"value\":\"#1f77b4\"},\"line_color\":{\"value\":\"#1f77b4\"},\"top\":{\"field\":\"flux\"},\"width\":{\"value\":0.9},\"x\":{\"field\":\"band\"}},\"id\":\"8f5e92aa-e42d-4e46-b9ba-62e168d0a7f0\",\"type\":\"VBar\"},{\"attributes\":{},\"id\":\"2da4b11a-508b-4228-8c7c-d52b15f94fac\",\"type\":\"CategoricalTicker\"},{\"attributes\":{\"fill_color\":{\"value\":\"#1f77b4\"},\"line_color\":{\"value\":\"#1f77b4\"},\"top\":{\"field\":\"flux\"},\"width\":{\"value\":0.9},\"x\":{\"field\":\"band\"}},\"id\":\"0b027fd7-b2a4-47d3-835d-5b92615d37f3\",\"type\":\"VBar\"},{\"attributes\":{},\"id\":\"7b82b4a9-678c-49ea-84eb-badd91c985fa\",\"type\":\"PanTool\"},{\"attributes\":{\"callback\":null},\"id\":\"3210b058-5af8-482e-804b-f3b8d15484f4\",\"type\":\"DataRange1d\"},{\"attributes\":{\"bottom_units\":\"screen\",\"fill_alpha\":{\"value\":0.5},\"fill_color\":{\"value\":\"lightgrey\"},\"left_units\":\"screen\",\"level\":\"overlay\",\"line_alpha\":{\"value\":1.0},\"line_color\":{\"value\":\"black\"},\"line_dash\":[4,4],\"line_width\":{\"value\":2},\"plot\":null,\"render_mode\":\"css\",\"right_units\":\"screen\",\"top_units\":\"screen\"},\"id\":\"8c3f65a7-9e96-4203-9819-f0868304f6ed\",\"type\":\"BoxAnnotation\"},{\"attributes\":{\"fill_alpha\":{\"value\":0.1},\"fill_color\":{\"value\":\"#1f77b4\"},\"line_alpha\":{\"value\":0.1},\"line_color\":{\"value\":\"#1f77b4\"},\"top\":{\"field\":\"flux\"},\"width\":{\"value\":0.9},\"x\":{\"field\":\"band\"}},\"id\":\"048c931e-4189-428b-bdd3-8daf3709c3cf\",\"type\":\"VBar\"},{\"attributes\":{\"dimension\":1,\"plot\":{\"id\":\"fa69f897-5c47-441a-8ce3-0a4fb7817c9d\",\"subtype\":\"Figure\",\"type\":\"Plot\"},\"ticker\":{\"id\":\"83295f33-3f31-44f5-8756-5243d5a388d5\",\"type\":\"BasicTicker\"}},\"id\":\"f75b4f79-0d27-44e1-ba76-f62bb7cf94e0\",\"type\":\"Grid\"},{\"attributes\":{\"children\":[{\"id\":\"f2010be6-3319-4e43-b169-e06ace7e159f\",\"type\":\"ToolbarBox\"},{\"id\":\"5b887ae0-f704-47d4-9e0d-ec158d3c7437\",\"type\":\"Column\"}]},\"id\":\"abd6e9af-8ced-4795-9590-4daec7fa05f6\",\"type\":\"Column\"},{\"attributes\":{\"data_source\":{\"id\":\"70105731-a333-4f7d-801b-4459c64730f8\",\"type\":\"ColumnDataSource\"},\"glyph\":{\"id\":\"8f5e92aa-e42d-4e46-b9ba-62e168d0a7f0\",\"type\":\"VBar\"},\"hover_glyph\":null,\"muted_glyph\":null,\"nonselection_glyph\":{\"id\":\"3ce2de37-ade2-46b1-b1d6-09a37d92df5f\",\"type\":\"VBar\"},\"selection_glyph\":null,\"view\":{\"id\":\"eb2a8ce0-957f-4934-862b-5defcef305af\",\"type\":\"CDSView\"}},\"id\":\"07ce8762-1e46-4e64-a16e-718ec04f1ae2\",\"type\":\"GlyphRenderer\"},{\"attributes\":{},\"id\":\"b36d697d-408b-49d8-a35a-ff9bf45cb7a9\",\"type\":\"UnionRenderers\"},{\"attributes\":{\"children\":[{\"id\":\"00b090fb-d708-4023-a3bd-470312a9f2f0\",\"type\":\"Row\"}]},\"id\":\"5b887ae0-f704-47d4-9e0d-ec158d3c7437\",\"type\":\"Column\"},{\"attributes\":{\"source\":{\"id\":\"70105731-a333-4f7d-801b-4459c64730f8\",\"type\":\"ColumnDataSource\"}},\"id\":\"eb2a8ce0-957f-4934-862b-5defcef305af\",\"type\":\"CDSView\"},{\"attributes\":{},\"id\":\"83295f33-3f31-44f5-8756-5243d5a388d5\",\"type\":\"BasicTicker\"},{\"attributes\":{\"axis_label\":\"flux (W m-2)\",\"formatter\":{\"id\":\"8db3b5ec-4a0a-40d4-8acd-690ecbd35bf3\",\"type\":\"BasicTickFormatter\"},\"plot\":{\"id\":\"60b1f78d-7fbd-4273-8a47-1ed5e289cbbc\",\"subtype\":\"Figure\",\"type\":\"Plot\"},\"ticker\":{\"id\":\"4a37fc0f-566b-4a51-b63f-e324d04e9399\",\"type\":\"BasicTicker\"}},\"id\":\"41804aec-5c47-4ad7-b300-fab5dd928154\",\"type\":\"LinearAxis\"}],\"root_ids\":[\"abd6e9af-8ced-4795-9590-4daec7fa05f6\"]},\"title\":\"Bokeh Application\",\"version\":\"0.12.16\"}};\n",
       "  var render_items = [{\"docid\":\"f24dd72d-edc7-47bb-a7ec-33ed46006ea8\",\"elementid\":\"90e28d53-9ce7-4e52-9542-f5dc0710611a\",\"modelid\":\"abd6e9af-8ced-4795-9590-4daec7fa05f6\"}];\n",
       "  root.Bokeh.embed.embed_items_notebook(docs_json, render_items);\n",
       "\n",
       "  }\n",
       "  if (root.Bokeh !== undefined) {\n",
       "    embed_document(root);\n",
       "  } else {\n",
       "    var attempts = 0;\n",
       "    var timer = setInterval(function(root) {\n",
       "      if (root.Bokeh !== undefined) {\n",
       "        embed_document(root);\n",
       "        clearInterval(timer);\n",
       "      }\n",
       "      attempts++;\n",
       "      if (attempts > 100) {\n",
       "        console.log(\"Bokeh: ERROR: Unable to run BokehJS code because BokehJS library is missing\")\n",
       "        clearInterval(timer);\n",
       "      }\n",
       "    }, 10, root)\n",
       "  }\n",
       "})(window);"
      ],
      "application/vnd.bokehjs_exec.v0+json": ""
     },
     "metadata": {
      "application/vnd.bokehjs_exec.v0+json": {
       "id": "abd6e9af-8ced-4795-9590-4daec7fa05f6"
      }
     },
     "output_type": "display_data"
    },
    {
     "data": {
      "text/markdown": [
       "*FIGURE.* Difference between CLIRAD and CRD in TOA, SFC and net atmosphere flux, in each spectral band."
      ],
      "text/plain": [
       "<IPython.core.display.Markdown object>"
      ]
     },
     "metadata": {},
     "output_type": "display_data"
    },
    {
     "data": {
      "text/html": [
       "<div>\n",
       "<style scoped>\n",
       "    .dataframe tbody tr th:only-of-type {\n",
       "        vertical-align: middle;\n",
       "    }\n",
       "\n",
       "    .dataframe tbody tr th {\n",
       "        vertical-align: top;\n",
       "    }\n",
       "\n",
       "    .dataframe thead th {\n",
       "        text-align: right;\n",
       "    }\n",
       "</style>\n",
       "<table border=\"1\" class=\"dataframe\">\n",
       "  <thead>\n",
       "    <tr style=\"text-align: right;\">\n",
       "      <th></th>\n",
       "      <th>OLR flux</th>\n",
       "      <th>SFC flux</th>\n",
       "      <th>ATM heating</th>\n",
       "    </tr>\n",
       "    <tr>\n",
       "      <th>Sum over bands</th>\n",
       "      <th></th>\n",
       "      <th></th>\n",
       "      <th></th>\n",
       "    </tr>\n",
       "  </thead>\n",
       "  <tbody>\n",
       "    <tr>\n",
       "      <th>old CLIRAD - CRD</th>\n",
       "      <td>0.09</td>\n",
       "      <td>1.54</td>\n",
       "      <td>-1.31</td>\n",
       "    </tr>\n",
       "    <tr>\n",
       "      <th>CLIRAD (single-run) - CRD</th>\n",
       "      <td>95.72</td>\n",
       "      <td>101.02</td>\n",
       "      <td>-5.30</td>\n",
       "    </tr>\n",
       "    <tr>\n",
       "      <th>CRD</th>\n",
       "      <td>-290.39</td>\n",
       "      <td>308.14</td>\n",
       "      <td>-174.89</td>\n",
       "    </tr>\n",
       "  </tbody>\n",
       "</table>\n",
       "</div>"
      ],
      "text/plain": [
       "                           OLR flux  SFC flux  ATM heating\n",
       "Sum over bands                                            \n",
       "old CLIRAD - CRD               0.09      1.54        -1.31\n",
       "CLIRAD (single-run) - CRD     95.72    101.02        -5.30\n",
       "CRD                         -290.39    308.14      -174.89"
      ]
     },
     "metadata": {},
     "output_type": "display_data"
    },
    {
     "data": {
      "text/markdown": [
       "*TABLE.* Difference between CLIRAD and CRD in TOA, SFC and net atmosphere flux, over all spectral bands. CRD's TOA, SFC and net atmosphere flux, over all spectral bands."
      ],
      "text/plain": [
       "<IPython.core.display.Markdown object>"
      ]
     },
     "metadata": {},
     "output_type": "display_data"
    },
    {
     "data": {
      "text/html": [
       "<a id=\"Cooling_rates._saw.\"></a>"
      ],
      "text/plain": [
       "<IPython.core.display.HTML object>"
      ]
     },
     "metadata": {},
     "output_type": "display_data"
    },
    {
     "data": {
      "text/markdown": [
       "# Cooling rates. saw."
      ],
      "text/plain": [
       "<IPython.core.display.Markdown object>"
      ]
     },
     "metadata": {},
     "output_type": "display_data"
    },
    {
     "data": {
      "text/html": [
       "\n",
       "<div class=\"bk-root\">\n",
       "    <div class=\"bk-plotdiv\" id=\"a0a4be4c-2b37-496c-b77a-99175e4ed383\"></div>\n",
       "</div>"
      ]
     },
     "metadata": {},
     "output_type": "display_data"
    },
    {
     "data": {
      "application/javascript": [
       "(function(root) {\n",
       "  function embed_document(root) {\n",
       "    \n",
       "  var docs_json = {\"8c73a6a4-171f-42c3-b7f8-568b4596a101\":{\"roots\":{\"references\":[{\"attributes\":{\"toolbar\":{\"id\":\"8749811f-f82e-47fe-9fca-9bf50845f287\",\"type\":\"ProxyToolbar\"},\"toolbar_location\":\"above\"},\"id\":\"28e01d81-83c2-4c24-be6b-2d3826f254ee\",\"type\":\"ToolbarBox\"},{\"attributes\":{\"label\":{\"value\":\"CRD\"},\"renderers\":[{\"id\":\"a806024b-1dfc-4e61-8a6e-370e27a91f71\",\"type\":\"GlyphRenderer\"},{\"id\":\"a33154c3-a117-4558-9771-6f6521def429\",\"type\":\"GlyphRenderer\"}]},\"id\":\"9a9a4e24-3ed7-4426-a609-177f3bd9cfe0\",\"type\":\"LegendItem\"},{\"attributes\":{},\"id\":\"f0ef7592-9830-4bfa-a4ba-43baa0ed954e\",\"type\":\"SaveTool\"},{\"attributes\":{\"children\":[{\"id\":\"28e01d81-83c2-4c24-be6b-2d3826f254ee\",\"type\":\"ToolbarBox\"},{\"id\":\"c4afb04a-63b6-4185-8e6f-dc9bb478e65e\",\"type\":\"Column\"}]},\"id\":\"56df1437-9fae-4f87-9789-1d91f22ec9e9\",\"type\":\"Column\"},{\"attributes\":{},\"id\":\"0ff43539-3589-4e8a-bca9-7f4cdb1ea43e\",\"type\":\"BasicTickFormatter\"},{\"attributes\":{},\"id\":\"1d05256b-12af-4557-832b-97394fff5ea3\",\"type\":\"ResetTool\"},{\"attributes\":{\"tools\":[{\"id\":\"914fadb9-c2a0-4993-b8b6-3bc0783af1bb\",\"type\":\"PanTool\"},{\"id\":\"0640a9bc-bfa0-4517-b023-42b19f703610\",\"type\":\"WheelZoomTool\"},{\"id\":\"ab1826a3-d90a-4bce-9eb3-9b1d9f550c6b\",\"type\":\"BoxZoomTool\"},{\"id\":\"f0ef7592-9830-4bfa-a4ba-43baa0ed954e\",\"type\":\"SaveTool\"},{\"id\":\"1d05256b-12af-4557-832b-97394fff5ea3\",\"type\":\"ResetTool\"},{\"id\":\"36fc807c-4555-4bad-ad23-21959109a39c\",\"type\":\"HelpTool\"},{\"id\":\"01460b16-54cb-481d-9dba-0afe110cf147\",\"type\":\"PanTool\"},{\"id\":\"2c28762c-18da-4fe9-b2d1-a6eaee5660bf\",\"type\":\"WheelZoomTool\"},{\"id\":\"6d606a96-4842-4607-8204-185fac639a6a\",\"type\":\"BoxZoomTool\"},{\"id\":\"0ff16629-cc3f-4ee4-8ada-04434d020744\",\"type\":\"SaveTool\"},{\"id\":\"a8ec564e-c9bc-4b68-b38d-0ce014ec7c5e\",\"type\":\"ResetTool\"},{\"id\":\"4aa15aa5-2957-46d6-b47a-2d22643a26d1\",\"type\":\"HelpTool\"},{\"id\":\"c524622b-9efa-4c9d-969a-40f08c02cc43\",\"type\":\"PanTool\"},{\"id\":\"bf04e0d1-284a-4d0a-83c2-3703b961d313\",\"type\":\"WheelZoomTool\"},{\"id\":\"22b304ba-af36-4f7b-8326-2170a985c795\",\"type\":\"BoxZoomTool\"},{\"id\":\"cb6ce6a4-a39e-4a2c-87bc-1574eb50b265\",\"type\":\"SaveTool\"},{\"id\":\"b289ad65-9a8d-4a65-9cc4-835ea20bef67\",\"type\":\"ResetTool\"},{\"id\":\"f47398f1-fe3b-4eee-870b-775d27c83da6\",\"type\":\"HelpTool\"}]},\"id\":\"8749811f-f82e-47fe-9fca-9bf50845f287\",\"type\":\"ProxyToolbar\"},{\"attributes\":{\"line_alpha\":0.6,\"line_color\":\"#377eb8\",\"line_dash\":[6],\"line_width\":5,\"x\":{\"field\":\"x\"},\"y\":{\"field\":\"y\"}},\"id\":\"44259a18-b56f-4a70-b920-be816eb9744c\",\"type\":\"Line\"},{\"attributes\":{\"ticker\":null},\"id\":\"ae19912a-b4f9-40ea-89b0-d9a6a8f779f9\",\"type\":\"LogTickFormatter\"},{\"attributes\":{\"label\":{\"value\":\"CLIRAD (single-run)\"},\"renderers\":[{\"id\":\"d0612ec8-1ea7-4d9f-b788-f2818ebbab67\",\"type\":\"GlyphRenderer\"}]},\"id\":\"d75b5ac6-e0cf-44f4-b9bd-926fa95ce40c\",\"type\":\"LegendItem\"},{\"attributes\":{\"data_source\":{\"id\":\"ba493054-868b-418b-ab8b-532bbd1b512f\",\"type\":\"ColumnDataSource\"},\"glyph\":{\"id\":\"44259a18-b56f-4a70-b920-be816eb9744c\",\"type\":\"Line\"},\"hover_glyph\":null,\"muted_glyph\":null,\"nonselection_glyph\":{\"id\":\"2e8d60a4-c42c-4b04-b276-b8938a139191\",\"type\":\"Line\"},\"selection_glyph\":null,\"view\":{\"id\":\"9aab447b-839a-4e05-a7fb-58c2bee90c5a\",\"type\":\"CDSView\"}},\"id\":\"447be28b-1353-4ad0-a6cc-7201689d2420\",\"type\":\"GlyphRenderer\"},{\"attributes\":{},\"id\":\"0c32c288-8ab0-4945-8fc1-b4958f7d3a35\",\"type\":\"UnionRenderers\"},{\"attributes\":{\"bottom_units\":\"screen\",\"fill_alpha\":{\"value\":0.5},\"fill_color\":{\"value\":\"lightgrey\"},\"left_units\":\"screen\",\"level\":\"overlay\",\"line_alpha\":{\"value\":1.0},\"line_color\":{\"value\":\"black\"},\"line_dash\":[4,4],\"line_width\":{\"value\":2},\"plot\":null,\"render_mode\":\"css\",\"right_units\":\"screen\",\"top_units\":\"screen\"},\"id\":\"d2687a95-fb44-47b0-ae2a-f20403e43caf\",\"type\":\"BoxAnnotation\"},{\"attributes\":{\"overlay\":{\"id\":\"d2687a95-fb44-47b0-ae2a-f20403e43caf\",\"type\":\"BoxAnnotation\"}},\"id\":\"ab1826a3-d90a-4bce-9eb3-9b1d9f550c6b\",\"type\":\"BoxZoomTool\"},{\"attributes\":{},\"id\":\"6bc8b4d1-1670-4a25-82dc-ff66ae290b51\",\"type\":\"Selection\"},{\"attributes\":{},\"id\":\"36fc807c-4555-4bad-ad23-21959109a39c\",\"type\":\"HelpTool\"},{\"attributes\":{},\"id\":\"0de95d32-cf47-4146-a17f-e25ea2e81ec0\",\"type\":\"UnionRenderers\"},{\"attributes\":{\"source\":{\"id\":\"ba493054-868b-418b-ab8b-532bbd1b512f\",\"type\":\"ColumnDataSource\"}},\"id\":\"9aab447b-839a-4e05-a7fb-58c2bee90c5a\",\"type\":\"CDSView\"},{\"attributes\":{},\"id\":\"34c05ab1-07e1-4314-a5d7-5f9ef89b2215\",\"type\":\"Selection\"},{\"attributes\":{},\"id\":\"3d700d37-fa54-49ed-b713-d723a661d3ac\",\"type\":\"LinearScale\"},{\"attributes\":{\"data_source\":{\"id\":\"d5c3c5d8-8d54-49fd-8d1d-cc84eff0fe09\",\"type\":\"ColumnDataSource\"},\"glyph\":{\"id\":\"e77d368a-4799-41ad-8d0a-f22e8a5226b4\",\"type\":\"Line\"},\"hover_glyph\":null,\"muted_glyph\":null,\"nonselection_glyph\":{\"id\":\"d6351271-01a6-4d68-9c51-513301bf922b\",\"type\":\"Line\"},\"selection_glyph\":null,\"view\":{\"id\":\"25cb1ed3-dad9-4bb0-8041-478c50fbc8c0\",\"type\":\"CDSView\"}},\"id\":\"1d5575d2-6549-4031-af24-0bd7f302f914\",\"type\":\"GlyphRenderer\"},{\"attributes\":{\"active_drag\":\"auto\",\"active_inspect\":\"auto\",\"active_scroll\":\"auto\",\"active_tap\":\"auto\",\"tools\":[{\"id\":\"c524622b-9efa-4c9d-969a-40f08c02cc43\",\"type\":\"PanTool\"},{\"id\":\"bf04e0d1-284a-4d0a-83c2-3703b961d313\",\"type\":\"WheelZoomTool\"},{\"id\":\"22b304ba-af36-4f7b-8326-2170a985c795\",\"type\":\"BoxZoomTool\"},{\"id\":\"cb6ce6a4-a39e-4a2c-87bc-1574eb50b265\",\"type\":\"SaveTool\"},{\"id\":\"b289ad65-9a8d-4a65-9cc4-835ea20bef67\",\"type\":\"ResetTool\"},{\"id\":\"f47398f1-fe3b-4eee-870b-775d27c83da6\",\"type\":\"HelpTool\"}]},\"id\":\"6cf9852e-9c0f-42d9-8cd8-96142d8f39f3\",\"type\":\"Toolbar\"},{\"attributes\":{\"axis_label\":\"pressure [mb]\",\"formatter\":{\"id\":\"ae19912a-b4f9-40ea-89b0-d9a6a8f779f9\",\"type\":\"LogTickFormatter\"},\"plot\":{\"id\":\"ba23b498-24d2-4181-ab2e-a6a8f7333256\",\"subtype\":\"Figure\",\"type\":\"Plot\"},\"ticker\":{\"id\":\"728ebc6d-e32d-459e-8cab-6ab87b24574a\",\"type\":\"LogTicker\"}},\"id\":\"3793ff38-ec26-46bd-90b6-aa1b17c062be\",\"type\":\"LogAxis\"},{\"attributes\":{\"above\":[{\"id\":\"6bbaaf4d-ae53-4d2f-9bc9-1b14e23a3638\",\"type\":\"Legend\"}],\"below\":[{\"id\":\"25636a4d-455e-49e5-863b-f6e10c7cc89c\",\"type\":\"LinearAxis\"}],\"left\":[{\"id\":\"3793ff38-ec26-46bd-90b6-aa1b17c062be\",\"type\":\"LogAxis\"}],\"plot_width\":300,\"renderers\":[{\"id\":\"25636a4d-455e-49e5-863b-f6e10c7cc89c\",\"type\":\"LinearAxis\"},{\"id\":\"fdb45c88-4c3c-47fc-a11c-fe74c1d224a9\",\"type\":\"Grid\"},{\"id\":\"3793ff38-ec26-46bd-90b6-aa1b17c062be\",\"type\":\"LogAxis\"},{\"id\":\"94080482-f639-42eb-9118-5f2b49d73b57\",\"type\":\"Grid\"},{\"id\":\"38c4bb2e-0f2d-49a0-9154-bdf8973e5e99\",\"type\":\"BoxAnnotation\"},{\"id\":\"85dc4491-679b-41a7-8120-434b98c77057\",\"type\":\"GlyphRenderer\"},{\"id\":\"8524cde4-a5d0-4d2f-9f00-eaa05aec6b81\",\"type\":\"GlyphRenderer\"},{\"id\":\"6bbaaf4d-ae53-4d2f-9bc9-1b14e23a3638\",\"type\":\"Legend\"}],\"title\":{\"id\":\"9f223e5f-8cdb-404c-bd57-25c5a768ad1d\",\"type\":\"Title\"},\"toolbar\":{\"id\":\"6cf9852e-9c0f-42d9-8cd8-96142d8f39f3\",\"type\":\"Toolbar\"},\"toolbar_location\":null,\"x_range\":{\"id\":\"fb041d2a-124c-477f-ae0a-63111ae939dc\",\"type\":\"Range1d\"},\"x_scale\":{\"id\":\"089fa4bf-cc7f-4bfa-a9ac-1565b476a5ea\",\"type\":\"LinearScale\"},\"y_range\":{\"id\":\"5d2a4ac5-bca2-4a8c-8841-69e05eb15afc\",\"type\":\"Range1d\"},\"y_scale\":{\"id\":\"319b58df-bf5a-4eba-9071-4912cf1ea070\",\"type\":\"LogScale\"}},\"id\":\"ba23b498-24d2-4181-ab2e-a6a8f7333256\",\"subtype\":\"Figure\",\"type\":\"Plot\"},{\"attributes\":{\"items\":[{\"id\":\"a7174b1b-5a73-4af3-b739-4632d0c271fa\",\"type\":\"LegendItem\"}],\"label_text_font_size\":{\"value\":\"8pt\"},\"location\":\"top_center\",\"orientation\":\"horizontal\",\"plot\":{\"id\":\"ba23b498-24d2-4181-ab2e-a6a8f7333256\",\"subtype\":\"Figure\",\"type\":\"Plot\"}},\"id\":\"6bbaaf4d-ae53-4d2f-9bc9-1b14e23a3638\",\"type\":\"Legend\"},{\"attributes\":{},\"id\":\"319b58df-bf5a-4eba-9071-4912cf1ea070\",\"type\":\"LogScale\"},{\"attributes\":{\"callback\":null,\"data\":{\"x\":{\"__ndarray__\":\"0CYBcvU5UkCik9zf2GVBQF1VoNfLZ0BAVLxhiVXTPUDD1Wu1wJM6QFJyB025jjdAU6Aw5+b/NECYe1uuDfgyQB6bYtVTbTFAPxYSAF1HMEA00pYVm9QuQLolHbMzgC1AntlwirGsLECv+G9SjE4rQJH6ZLBp0ShAsLZQyPd/JkDyjgyf2PwkQLgyNGsrJyRAA13QbJD6I0C8hy0ilI4kQOVTXCEgcSZAovOGvZSGJUBVc/ZmUOIgQOf/6GHAyRlAcE8fAOBSFEDRur1U//gPQGFD9ZbokghAQsqHuSqSA0C91ci3W0UBQCtRQfvz7/4/kh8pntyB+j9t1/n+4TX1P773MAUjFfI/RgzR+CI28T8hBW8WHK7uPzVKjJfU8uk/0FPt4/z65T/wVYqzMPDhPz7K9C5CXuE/8+hSn9hY4T/9PPCkR6rhP1XsIC599OA/66X1nBCX3z/YbRM56QjcPz4dkSQc/dM/S7Wb8Fq00T+/yQdmX0vcP7TrGf476eM/WqNPJoWO7D9qOH1bcwDzP2bw+R5DQ/Y/RLSuQOQp+D8+aif8yAz5P0Wv6eBKRfk/0i2+IN4R+T/ik8QNFZr4PyS5UD5j/Pc/yJ68zXRG9z/2CHPL54H2P59SOhwKtPU/npkP8dfg9D8NlmVcdQz0P80ugRvuOvM/byxiAHN18j9USVZie8nxP5l9lNXYSPE/OB+F0UYP8T8Y7dsUCTHxP3EBgTHPcPE/bfx15p8S8T8FT+xkGtTuP6mdG7rkxuk/pboqTkHX5D/CrN8qGYngP7R4ZaL+htU/\",\"dtype\":\"float64\",\"shape\":[75]},\"y\":{\"__ndarray__\":\"GhExyth1ND/Sv8nbtpRIP2vylNV0PVE/aTum7souWD/At0SJ8fVgPw3Iuahxymc/MSNhhJWvcD/bTfBN02d3P2zb5nxnaoA/CD5h5MAGhz8NmeH1TyaQP+zrCsc9p5Y/LbKd76fGnz/bLW5ISEmmPww9YvTcQq8/JV2OstnstT8Er5Y7M8G+P0c+r3jqkcU/5h99k6ZBzj88bCIzFzjVP4enV8oyxN0//yH99nXg5D8qOpLLf0jtP5kqGJXUifQ/c9cS8kHP/D+/DpwzojQEQIEmwoanVwxA4lgXt9HgE0BSSZ2AJuIbQAMJih9jjiNA5q4l5INuK0AwTKYKRj0zQNv5fmq8/DpAaCJseHrtQkB/+zpwzoxKQM3MzMzMeFJAZmZmZmZqWEAAAAAAAFxeQM3MzMzMJmJAmpmZmZkfZUBmZmZmZhhoQDMzMzMzEWtAAAAAAAAKbkBmZmZmZoFwQM3MzMzM/XFAMzMzMzN6c0CamZmZmfZ0QAAAAAAAc3ZAZmZmZmbvd0DNzMzMzGt5QDMzMzMz6HpAmpmZmZlkfEAAAAAAAOF9QGZmZmZmXX9AZmZmZuZsgECamZmZGSuBQM3MzMxM6YFAAAAAAICngkAzMzMzs2WDQGZmZmbmI4RAmpmZmRnihEDNzMzMTKCFQAAAAACAXoZAMzMzM7Mch0BmZmZm5tqHQJqZmZkZmYhAzczMzExXiUAAAAAAgBWKQDMzMzOz04pAZmZmZuaRi0CamZmZGVCMQM3MzMxMDo1AAAAAAIDMjUAzMzMzs4qOQGZmZmbmSI9A\",\"dtype\":\"float64\",\"shape\":[75]}},\"selected\":{\"id\":\"cab1faa0-6325-4791-a6d6-88208fecd083\",\"type\":\"Selection\"},\"selection_policy\":{\"id\":\"fcc1cccb-084a-4c44-9162-cbec55d76fae\",\"type\":\"UnionRenderers\"}},\"id\":\"627820e0-638a-483c-96f7-523bba9d99fe\",\"type\":\"ColumnDataSource\"},{\"attributes\":{\"above\":[{\"id\":\"94487004-5e2f-4175-9a8d-9fb3291bf690\",\"type\":\"Legend\"}],\"below\":[{\"id\":\"1b51241a-074c-441e-9744-9855ee0b4b74\",\"type\":\"LinearAxis\"}],\"left\":[{\"id\":\"f206a112-b78a-469e-b1d6-b27b31dac7e1\",\"type\":\"LogAxis\"}],\"plot_width\":300,\"renderers\":[{\"id\":\"1b51241a-074c-441e-9744-9855ee0b4b74\",\"type\":\"LinearAxis\"},{\"id\":\"6161c80d-24e0-4008-96fb-f29662454972\",\"type\":\"Grid\"},{\"id\":\"f206a112-b78a-469e-b1d6-b27b31dac7e1\",\"type\":\"LogAxis\"},{\"id\":\"f7eb6ffb-7d04-4d7f-a9e7-f6d0e9930876\",\"type\":\"Grid\"},{\"id\":\"ce63fac5-26e7-41d5-bf61-181ddfada244\",\"type\":\"BoxAnnotation\"},{\"id\":\"d0612ec8-1ea7-4d9f-b788-f2818ebbab67\",\"type\":\"GlyphRenderer\"},{\"id\":\"a806024b-1dfc-4e61-8a6e-370e27a91f71\",\"type\":\"GlyphRenderer\"},{\"id\":\"a33154c3-a117-4558-9771-6f6521def429\",\"type\":\"GlyphRenderer\"},{\"id\":\"94487004-5e2f-4175-9a8d-9fb3291bf690\",\"type\":\"Legend\"}],\"title\":{\"id\":\"6b460afe-70cc-4da7-a6df-4f5a940cabb9\",\"type\":\"Title\"},\"toolbar\":{\"id\":\"7c2c923a-c0cc-4dd9-abf5-b9ea11f8f5de\",\"type\":\"Toolbar\"},\"toolbar_location\":null,\"x_range\":{\"id\":\"e52150fe-fe06-4548-abc3-a4966bc90030\",\"type\":\"Range1d\"},\"x_scale\":{\"id\":\"3d700d37-fa54-49ed-b713-d723a661d3ac\",\"type\":\"LinearScale\"},\"y_range\":{\"id\":\"a239525c-8034-4099-b0a8-6b73af8e4b07\",\"type\":\"Range1d\"},\"y_scale\":{\"id\":\"58dfddf7-732b-43c1-b59f-856ed7748321\",\"type\":\"LogScale\"}},\"id\":\"5a2d11e7-fb5e-4d62-85b3-0aab8b4fd462\",\"subtype\":\"Figure\",\"type\":\"Plot\"},{\"attributes\":{},\"id\":\"58dfddf7-732b-43c1-b59f-856ed7748321\",\"type\":\"LogScale\"},{\"attributes\":{\"fill_alpha\":{\"value\":0.7},\"fill_color\":{\"value\":\"#4daf4a\"},\"line_alpha\":{\"value\":0.7},\"line_color\":{\"value\":\"#4daf4a\"},\"x\":{\"field\":\"x\"},\"y\":{\"field\":\"y\"}},\"id\":\"ae8ef10d-ac7f-4c4d-8022-2a9a6794bb45\",\"type\":\"Circle\"},{\"attributes\":{\"num_minor_ticks\":10},\"id\":\"728ebc6d-e32d-459e-8cab-6ab87b24574a\",\"type\":\"LogTicker\"},{\"attributes\":{},\"id\":\"d76b3915-5ca4-4df3-93b3-eb3ee5f08053\",\"type\":\"Selection\"},{\"attributes\":{\"source\":{\"id\":\"627820e0-638a-483c-96f7-523bba9d99fe\",\"type\":\"ColumnDataSource\"}},\"id\":\"97f7134c-fd89-4c04-8631-4ea72d7a16bf\",\"type\":\"CDSView\"},{\"attributes\":{\"fill_alpha\":{\"value\":0.1},\"fill_color\":{\"value\":\"#1f77b4\"},\"line_alpha\":{\"value\":0.1},\"line_color\":{\"value\":\"#1f77b4\"},\"x\":{\"field\":\"x\"},\"y\":{\"field\":\"y\"}},\"id\":\"fe766a79-571d-441f-8466-b0839bb58e33\",\"type\":\"Circle\"},{\"attributes\":{\"axis_label\":\"cooling rate [K/day]\",\"formatter\":{\"id\":\"56802e2f-a764-427b-a822-438403a8c9e8\",\"type\":\"BasicTickFormatter\"},\"plot\":{\"id\":\"5a2d11e7-fb5e-4d62-85b3-0aab8b4fd462\",\"subtype\":\"Figure\",\"type\":\"Plot\"},\"ticker\":{\"id\":\"d1a87a6d-d169-4943-8a9c-38e9e5fd3787\",\"type\":\"BasicTicker\"}},\"id\":\"1b51241a-074c-441e-9744-9855ee0b4b74\",\"type\":\"LinearAxis\"},{\"attributes\":{},\"id\":\"74dc7c69-0c3a-4c48-a8f9-0631d495c3ef\",\"type\":\"BasicTicker\"},{\"attributes\":{\"plot\":{\"id\":\"ba23b498-24d2-4181-ab2e-a6a8f7333256\",\"subtype\":\"Figure\",\"type\":\"Plot\"},\"ticker\":{\"id\":\"74dc7c69-0c3a-4c48-a8f9-0631d495c3ef\",\"type\":\"BasicTicker\"}},\"id\":\"fdb45c88-4c3c-47fc-a11c-fe74c1d224a9\",\"type\":\"Grid\"},{\"attributes\":{},\"id\":\"089fa4bf-cc7f-4bfa-a9ac-1565b476a5ea\",\"type\":\"LinearScale\"},{\"attributes\":{\"line_color\":\"#4daf4a\",\"line_width\":1.5,\"x\":{\"field\":\"x\"},\"y\":{\"field\":\"y\"}},\"id\":\"e77d368a-4799-41ad-8d0a-f22e8a5226b4\",\"type\":\"Line\"},{\"attributes\":{},\"id\":\"d1a87a6d-d169-4943-8a9c-38e9e5fd3787\",\"type\":\"BasicTicker\"},{\"attributes\":{\"source\":{\"id\":\"d5c3c5d8-8d54-49fd-8d1d-cc84eff0fe09\",\"type\":\"ColumnDataSource\"}},\"id\":\"25cb1ed3-dad9-4bb0-8041-478c50fbc8c0\",\"type\":\"CDSView\"},{\"attributes\":{\"callback\":null,\"end\":0.01,\"start\":1020},\"id\":\"a239525c-8034-4099-b0a8-6b73af8e4b07\",\"type\":\"Range1d\"},{\"attributes\":{\"line_alpha\":0.1,\"line_color\":\"#1f77b4\",\"line_width\":1.5,\"x\":{\"field\":\"x\"},\"y\":{\"field\":\"y\"}},\"id\":\"997ff32c-0dce-4788-abf9-c293b082d041\",\"type\":\"Line\"},{\"attributes\":{\"line_alpha\":0.1,\"line_color\":\"#1f77b4\",\"line_width\":1.5,\"x\":{\"field\":\"x\"},\"y\":{\"field\":\"y\"}},\"id\":\"d6351271-01a6-4d68-9c51-513301bf922b\",\"type\":\"Line\"},{\"attributes\":{\"callback\":null,\"data\":{\"x\":{\"__ndarray__\":\"0CYBcvU5UkCik9zf2GVBQF1VoNfLZ0BAVLxhiVXTPUDD1Wu1wJM6QFJyB025jjdAU6Aw5+b/NECYe1uuDfgyQB6bYtVTbTFAPxYSAF1HMEA00pYVm9QuQLolHbMzgC1AntlwirGsLECv+G9SjE4rQJH6ZLBp0ShAsLZQyPd/JkDyjgyf2PwkQLgyNGsrJyRAA13QbJD6I0C8hy0ilI4kQOVTXCEgcSZAovOGvZSGJUBVc/ZmUOIgQOf/6GHAyRlAcE8fAOBSFEDRur1U//gPQGFD9ZbokghAQsqHuSqSA0C91ci3W0UBQCtRQfvz7/4/kh8pntyB+j9t1/n+4TX1P773MAUjFfI/RgzR+CI28T8hBW8WHK7uPzVKjJfU8uk/0FPt4/z65T/wVYqzMPDhPz7K9C5CXuE/8+hSn9hY4T/9PPCkR6rhP1XsIC599OA/66X1nBCX3z/YbRM56QjcPz4dkSQc/dM/S7Wb8Fq00T+/yQdmX0vcP7TrGf476eM/WqNPJoWO7D9qOH1bcwDzP2bw+R5DQ/Y/RLSuQOQp+D8+aif8yAz5P0Wv6eBKRfk/0i2+IN4R+T/ik8QNFZr4PyS5UD5j/Pc/yJ68zXRG9z/2CHPL54H2P59SOhwKtPU/npkP8dfg9D8NlmVcdQz0P80ugRvuOvM/byxiAHN18j9USVZie8nxP5l9lNXYSPE/OB+F0UYP8T8Y7dsUCTHxP3EBgTHPcPE/bfx15p8S8T8FT+xkGtTuP6mdG7rkxuk/pboqTkHX5D/CrN8qGYngP7R4ZaL+htU/\",\"dtype\":\"float64\",\"shape\":[75]},\"y\":{\"__ndarray__\":\"GhExyth1ND/Sv8nbtpRIP2vylNV0PVE/aTum7souWD/At0SJ8fVgPw3Iuahxymc/MSNhhJWvcD/bTfBN02d3P2zb5nxnaoA/CD5h5MAGhz8NmeH1TyaQP+zrCsc9p5Y/LbKd76fGnz/bLW5ISEmmPww9YvTcQq8/JV2OstnstT8Er5Y7M8G+P0c+r3jqkcU/5h99k6ZBzj88bCIzFzjVP4enV8oyxN0//yH99nXg5D8qOpLLf0jtP5kqGJXUifQ/c9cS8kHP/D+/DpwzojQEQIEmwoanVwxA4lgXt9HgE0BSSZ2AJuIbQAMJih9jjiNA5q4l5INuK0AwTKYKRj0zQNv5fmq8/DpAaCJseHrtQkB/+zpwzoxKQM3MzMzMeFJAZmZmZmZqWEAAAAAAAFxeQM3MzMzMJmJAmpmZmZkfZUBmZmZmZhhoQDMzMzMzEWtAAAAAAAAKbkBmZmZmZoFwQM3MzMzM/XFAMzMzMzN6c0CamZmZmfZ0QAAAAAAAc3ZAZmZmZmbvd0DNzMzMzGt5QDMzMzMz6HpAmpmZmZlkfEAAAAAAAOF9QGZmZmZmXX9AZmZmZuZsgECamZmZGSuBQM3MzMxM6YFAAAAAAICngkAzMzMzs2WDQGZmZmbmI4RAmpmZmRnihEDNzMzMTKCFQAAAAACAXoZAMzMzM7Mch0BmZmZm5tqHQJqZmZkZmYhAzczMzExXiUAAAAAAgBWKQDMzMzOz04pAZmZmZuaRi0CamZmZGVCMQM3MzMxMDo1AAAAAAIDMjUAzMzMzs4qOQGZmZmbmSI9A\",\"dtype\":\"float64\",\"shape\":[75]}},\"selected\":{\"id\":\"13d25ee9-94ba-438c-9b5e-aa2d0f914731\",\"type\":\"Selection\"},\"selection_policy\":{\"id\":\"8f3565a2-1c17-43e1-af83-12660c49797d\",\"type\":\"UnionRenderers\"}},\"id\":\"d5c3c5d8-8d54-49fd-8d1d-cc84eff0fe09\",\"type\":\"ColumnDataSource\"},{\"attributes\":{\"active_drag\":\"auto\",\"active_inspect\":\"auto\",\"active_scroll\":\"auto\",\"active_tap\":\"auto\",\"tools\":[{\"id\":\"01460b16-54cb-481d-9dba-0afe110cf147\",\"type\":\"PanTool\"},{\"id\":\"2c28762c-18da-4fe9-b2d1-a6eaee5660bf\",\"type\":\"WheelZoomTool\"},{\"id\":\"6d606a96-4842-4607-8204-185fac639a6a\",\"type\":\"BoxZoomTool\"},{\"id\":\"0ff16629-cc3f-4ee4-8ada-04434d020744\",\"type\":\"SaveTool\"},{\"id\":\"a8ec564e-c9bc-4b68-b38d-0ce014ec7c5e\",\"type\":\"ResetTool\"},{\"id\":\"4aa15aa5-2957-46d6-b47a-2d22643a26d1\",\"type\":\"HelpTool\"}]},\"id\":\"7c2c923a-c0cc-4dd9-abf5-b9ea11f8f5de\",\"type\":\"Toolbar\"},{\"attributes\":{\"data_source\":{\"id\":\"627820e0-638a-483c-96f7-523bba9d99fe\",\"type\":\"ColumnDataSource\"},\"glyph\":{\"id\":\"ae8ef10d-ac7f-4c4d-8022-2a9a6794bb45\",\"type\":\"Circle\"},\"hover_glyph\":null,\"muted_glyph\":null,\"nonselection_glyph\":{\"id\":\"fe766a79-571d-441f-8466-b0839bb58e33\",\"type\":\"Circle\"},\"selection_glyph\":null,\"view\":{\"id\":\"97f7134c-fd89-4c04-8631-4ea72d7a16bf\",\"type\":\"CDSView\"}},\"id\":\"6ff45617-4942-4afc-b9dc-383e9350bd14\",\"type\":\"GlyphRenderer\"},{\"attributes\":{\"callback\":null,\"end\":1.0034599294108395,\"start\":-1.6683294842928402},\"id\":\"fb041d2a-124c-477f-ae0a-63111ae939dc\",\"type\":\"Range1d\"},{\"attributes\":{\"items\":[{\"id\":\"d75b5ac6-e0cf-44f4-b9bd-926fa95ce40c\",\"type\":\"LegendItem\"},{\"id\":\"9a9a4e24-3ed7-4426-a609-177f3bd9cfe0\",\"type\":\"LegendItem\"}],\"label_text_font_size\":{\"value\":\"8pt\"},\"location\":\"top_center\",\"orientation\":\"horizontal\",\"plot\":{\"id\":\"5a2d11e7-fb5e-4d62-85b3-0aab8b4fd462\",\"subtype\":\"Figure\",\"type\":\"Plot\"}},\"id\":\"94487004-5e2f-4175-9a8d-9fb3291bf690\",\"type\":\"Legend\"},{\"attributes\":{\"callback\":null,\"end\":16.436129494999037,\"start\":0.38472880768496},\"id\":\"e52150fe-fe06-4548-abc3-a4966bc90030\",\"type\":\"Range1d\"},{\"attributes\":{\"label\":{\"value\":\"CLIRAD (single-run)\"},\"renderers\":[{\"id\":\"447be28b-1353-4ad0-a6cc-7201689d2420\",\"type\":\"GlyphRenderer\"}]},\"id\":\"b8602a68-0369-4cad-a96f-0d315df2880c\",\"type\":\"LegendItem\"},{\"attributes\":{\"plot\":{\"id\":\"5a2d11e7-fb5e-4d62-85b3-0aab8b4fd462\",\"subtype\":\"Figure\",\"type\":\"Plot\"},\"ticker\":{\"id\":\"d1a87a6d-d169-4943-8a9c-38e9e5fd3787\",\"type\":\"BasicTicker\"}},\"id\":\"6161c80d-24e0-4008-96fb-f29662454972\",\"type\":\"Grid\"},{\"attributes\":{\"label\":{\"value\":\"CRD\"},\"renderers\":[{\"id\":\"6ff45617-4942-4afc-b9dc-383e9350bd14\",\"type\":\"GlyphRenderer\"},{\"id\":\"1d5575d2-6549-4031-af24-0bd7f302f914\",\"type\":\"GlyphRenderer\"}]},\"id\":\"b899b81a-47a3-47b5-a730-5de8630d1182\",\"type\":\"LegendItem\"},{\"attributes\":{\"axis_label\":\"cooling rate [K/day]\",\"formatter\":{\"id\":\"0ff43539-3589-4e8a-bca9-7f4cdb1ea43e\",\"type\":\"BasicTickFormatter\"},\"plot\":{\"id\":\"ba23b498-24d2-4181-ab2e-a6a8f7333256\",\"subtype\":\"Figure\",\"type\":\"Plot\"},\"ticker\":{\"id\":\"74dc7c69-0c3a-4c48-a8f9-0631d495c3ef\",\"type\":\"BasicTicker\"}},\"id\":\"25636a4d-455e-49e5-863b-f6e10c7cc89c\",\"type\":\"LinearAxis\"},{\"attributes\":{\"dimension\":1,\"plot\":{\"id\":\"ba23b498-24d2-4181-ab2e-a6a8f7333256\",\"subtype\":\"Figure\",\"type\":\"Plot\"},\"ticker\":{\"id\":\"728ebc6d-e32d-459e-8cab-6ab87b24574a\",\"type\":\"LogTicker\"}},\"id\":\"94080482-f639-42eb-9118-5f2b49d73b57\",\"type\":\"Grid\"},{\"attributes\":{\"above\":[{\"id\":\"a025f86c-c61b-464b-a4dc-6fb82d4acf27\",\"type\":\"Legend\"}],\"below\":[{\"id\":\"fca20992-7b25-4a88-9699-7a5f7b9c0997\",\"type\":\"LinearAxis\"}],\"left\":[{\"id\":\"43190aac-1f30-4218-a7ca-6148fb369b3d\",\"type\":\"LinearAxis\"}],\"plot_width\":300,\"renderers\":[{\"id\":\"fca20992-7b25-4a88-9699-7a5f7b9c0997\",\"type\":\"LinearAxis\"},{\"id\":\"7ebfa02c-f688-46e3-a223-f649fc285d40\",\"type\":\"Grid\"},{\"id\":\"43190aac-1f30-4218-a7ca-6148fb369b3d\",\"type\":\"LinearAxis\"},{\"id\":\"2fa91505-8ff1-46c7-81eb-2825dbc2a58d\",\"type\":\"Grid\"},{\"id\":\"d2687a95-fb44-47b0-ae2a-f20403e43caf\",\"type\":\"BoxAnnotation\"},{\"id\":\"447be28b-1353-4ad0-a6cc-7201689d2420\",\"type\":\"GlyphRenderer\"},{\"id\":\"6ff45617-4942-4afc-b9dc-383e9350bd14\",\"type\":\"GlyphRenderer\"},{\"id\":\"1d5575d2-6549-4031-af24-0bd7f302f914\",\"type\":\"GlyphRenderer\"},{\"id\":\"a025f86c-c61b-464b-a4dc-6fb82d4acf27\",\"type\":\"Legend\"}],\"title\":{\"id\":\"60efe26b-ab70-4bbe-8eb0-01f4f8de2758\",\"type\":\"Title\"},\"toolbar\":{\"id\":\"c589764e-336d-45cb-8ff4-915583f7c4bc\",\"type\":\"Toolbar\"},\"toolbar_location\":null,\"x_range\":{\"id\":\"0ab9b49e-3a32-4c77-a8ac-caa1583aae36\",\"type\":\"Range1d\"},\"x_scale\":{\"id\":\"981d25a6-f19b-42fe-9123-b5a39b840e72\",\"type\":\"LinearScale\"},\"y_range\":{\"id\":\"d80f9402-a306-4225-85fc-b9fc49e16082\",\"type\":\"Range1d\"},\"y_scale\":{\"id\":\"91c4d6c7-1d26-4e64-9353-c8506be3d484\",\"type\":\"LinearScale\"}},\"id\":\"b9b822ed-f957-4c65-89d5-a85428dd1921\",\"subtype\":\"Figure\",\"type\":\"Plot\"},{\"attributes\":{},\"id\":\"4aa15aa5-2957-46d6-b47a-2d22643a26d1\",\"type\":\"HelpTool\"},{\"attributes\":{},\"id\":\"c00e5172-50b0-40ec-b7f6-ff8d709147c5\",\"type\":\"UnionRenderers\"},{\"attributes\":{\"line_alpha\":0.1,\"line_color\":\"#1f77b4\",\"line_dash\":[6],\"line_width\":5,\"x\":{\"field\":\"x\"},\"y\":{\"field\":\"y\"}},\"id\":\"f2948d8a-309e-4af0-ac3e-389cb8c165e5\",\"type\":\"Line\"},{\"attributes\":{\"line_alpha\":0.8,\"line_color\":\"#984ea3\",\"line_width\":1.5,\"x\":{\"field\":\"x\"},\"y\":{\"field\":\"y\"}},\"id\":\"28074440-745e-4091-9e1a-ef1d6d8069f6\",\"type\":\"Line\"},{\"attributes\":{},\"id\":\"53f369b5-d582-4007-8736-eb1ad6823b2c\",\"type\":\"UnionRenderers\"},{\"attributes\":{\"source\":{\"id\":\"dd4debf0-1170-4505-8a34-ed78bab416db\",\"type\":\"ColumnDataSource\"}},\"id\":\"e2c81234-80d6-45d8-b150-4319c09a0023\",\"type\":\"CDSView\"},{\"attributes\":{},\"id\":\"81d8e278-a2a2-4c93-bc01-00d4c46ef2e7\",\"type\":\"BasicTickFormatter\"},{\"attributes\":{\"children\":[{\"id\":\"b9b822ed-f957-4c65-89d5-a85428dd1921\",\"subtype\":\"Figure\",\"type\":\"Plot\"},{\"id\":\"5a2d11e7-fb5e-4d62-85b3-0aab8b4fd462\",\"subtype\":\"Figure\",\"type\":\"Plot\"},{\"id\":\"ba23b498-24d2-4181-ab2e-a6a8f7333256\",\"subtype\":\"Figure\",\"type\":\"Plot\"}]},\"id\":\"7e165a67-d3db-4c6d-8104-61356d950940\",\"type\":\"Row\"},{\"attributes\":{\"fill_alpha\":{\"value\":0.1},\"fill_color\":{\"value\":\"#1f77b4\"},\"line_alpha\":{\"value\":0.1},\"line_color\":{\"value\":\"#1f77b4\"},\"x\":{\"field\":\"x\"},\"y\":{\"field\":\"y\"}},\"id\":\"f606b5b0-41ab-40d1-a137-36d8d5673445\",\"type\":\"Circle\"},{\"attributes\":{\"bottom_units\":\"screen\",\"fill_alpha\":{\"value\":0.5},\"fill_color\":{\"value\":\"lightgrey\"},\"left_units\":\"screen\",\"level\":\"overlay\",\"line_alpha\":{\"value\":1.0},\"line_color\":{\"value\":\"black\"},\"line_dash\":[4,4],\"line_width\":{\"value\":2},\"plot\":null,\"render_mode\":\"css\",\"right_units\":\"screen\",\"top_units\":\"screen\"},\"id\":\"38c4bb2e-0f2d-49a0-9154-bdf8973e5e99\",\"type\":\"BoxAnnotation\"},{\"attributes\":{\"axis_label\":\"pressure [mb]\",\"formatter\":{\"id\":\"8801193c-6c86-441e-930a-ac41a7f0490b\",\"type\":\"BasicTickFormatter\"},\"plot\":{\"id\":\"b9b822ed-f957-4c65-89d5-a85428dd1921\",\"subtype\":\"Figure\",\"type\":\"Plot\"},\"ticker\":{\"id\":\"5fe36ce4-dccb-4dcb-ac37-2f52e2c2d404\",\"type\":\"BasicTicker\"}},\"id\":\"43190aac-1f30-4218-a7ca-6148fb369b3d\",\"type\":\"LinearAxis\"},{\"attributes\":{\"data_source\":{\"id\":\"dd4debf0-1170-4505-8a34-ed78bab416db\",\"type\":\"ColumnDataSource\"},\"glyph\":{\"id\":\"28074440-745e-4091-9e1a-ef1d6d8069f6\",\"type\":\"Line\"},\"hover_glyph\":null,\"muted_glyph\":null,\"nonselection_glyph\":{\"id\":\"997ff32c-0dce-4788-abf9-c293b082d041\",\"type\":\"Line\"},\"selection_glyph\":null,\"view\":{\"id\":\"e2c81234-80d6-45d8-b150-4319c09a0023\",\"type\":\"CDSView\"}},\"id\":\"8524cde4-a5d0-4d2f-9f00-eaa05aec6b81\",\"type\":\"GlyphRenderer\"},{\"attributes\":{},\"id\":\"f7adc50a-269c-48ea-8847-d76a4d34e660\",\"type\":\"UnionRenderers\"},{\"attributes\":{\"line_color\":\"#4daf4a\",\"line_width\":1.5,\"x\":{\"field\":\"x\"},\"y\":{\"field\":\"y\"}},\"id\":\"34e29de1-5795-4826-b7b8-ba1968a1307a\",\"type\":\"Line\"},{\"attributes\":{},\"id\":\"0640a9bc-bfa0-4517-b023-42b19f703610\",\"type\":\"WheelZoomTool\"},{\"attributes\":{},\"id\":\"fcc1cccb-084a-4c44-9162-cbec55d76fae\",\"type\":\"UnionRenderers\"},{\"attributes\":{\"label\":{\"value\":\"CLIRAD (single-run) - CRD\"},\"renderers\":[{\"id\":\"85dc4491-679b-41a7-8120-434b98c77057\",\"type\":\"GlyphRenderer\"},{\"id\":\"8524cde4-a5d0-4d2f-9f00-eaa05aec6b81\",\"type\":\"GlyphRenderer\"}]},\"id\":\"a7174b1b-5a73-4af3-b739-4632d0c271fa\",\"type\":\"LegendItem\"},{\"attributes\":{\"plot\":null,\"text\":\"\"},\"id\":\"60efe26b-ab70-4bbe-8eb0-01f4f8de2758\",\"type\":\"Title\"},{\"attributes\":{\"line_alpha\":0.1,\"line_color\":\"#1f77b4\",\"line_width\":1.5,\"x\":{\"field\":\"x\"},\"y\":{\"field\":\"y\"}},\"id\":\"d86dd272-85b6-419c-b0af-6b0b8d16023b\",\"type\":\"Line\"},{\"attributes\":{},\"id\":\"56802e2f-a764-427b-a822-438403a8c9e8\",\"type\":\"BasicTickFormatter\"},{\"attributes\":{\"active_drag\":\"auto\",\"active_inspect\":\"auto\",\"active_scroll\":\"auto\",\"active_tap\":\"auto\",\"tools\":[{\"id\":\"914fadb9-c2a0-4993-b8b6-3bc0783af1bb\",\"type\":\"PanTool\"},{\"id\":\"0640a9bc-bfa0-4517-b023-42b19f703610\",\"type\":\"WheelZoomTool\"},{\"id\":\"ab1826a3-d90a-4bce-9eb3-9b1d9f550c6b\",\"type\":\"BoxZoomTool\"},{\"id\":\"f0ef7592-9830-4bfa-a4ba-43baa0ed954e\",\"type\":\"SaveTool\"},{\"id\":\"1d05256b-12af-4557-832b-97394fff5ea3\",\"type\":\"ResetTool\"},{\"id\":\"36fc807c-4555-4bad-ad23-21959109a39c\",\"type\":\"HelpTool\"}]},\"id\":\"c589764e-336d-45cb-8ff4-915583f7c4bc\",\"type\":\"Toolbar\"},{\"attributes\":{\"source\":{\"id\":\"93ef2fc2-6203-4ff0-b73e-21b7ccac14b7\",\"type\":\"ColumnDataSource\"}},\"id\":\"5eaa448e-4912-4d97-9bbd-ecbe0e5a2398\",\"type\":\"CDSView\"},{\"attributes\":{},\"id\":\"cab1faa0-6325-4791-a6d6-88208fecd083\",\"type\":\"Selection\"},{\"attributes\":{\"children\":[{\"id\":\"7e165a67-d3db-4c6d-8104-61356d950940\",\"type\":\"Row\"}]},\"id\":\"c4afb04a-63b6-4185-8e6f-dc9bb478e65e\",\"type\":\"Column\"},{\"attributes\":{\"bottom_units\":\"screen\",\"fill_alpha\":{\"value\":0.5},\"fill_color\":{\"value\":\"lightgrey\"},\"left_units\":\"screen\",\"level\":\"overlay\",\"line_alpha\":{\"value\":1.0},\"line_color\":{\"value\":\"black\"},\"line_dash\":[4,4],\"line_width\":{\"value\":2},\"plot\":null,\"render_mode\":\"css\",\"right_units\":\"screen\",\"top_units\":\"screen\"},\"id\":\"ce63fac5-26e7-41d5-bf61-181ddfada244\",\"type\":\"BoxAnnotation\"},{\"attributes\":{},\"id\":\"8f3565a2-1c17-43e1-af83-12660c49797d\",\"type\":\"UnionRenderers\"},{\"attributes\":{\"line_alpha\":0.1,\"line_color\":\"#1f77b4\",\"line_dash\":[6],\"line_width\":5,\"x\":{\"field\":\"x\"},\"y\":{\"field\":\"y\"}},\"id\":\"2e8d60a4-c42c-4b04-b276-b8938a139191\",\"type\":\"Line\"},{\"attributes\":{\"axis_label\":\"pressure [mb]\",\"formatter\":{\"id\":\"bdf0981e-f027-40b7-9f38-5000feed9e1b\",\"type\":\"LogTickFormatter\"},\"plot\":{\"id\":\"5a2d11e7-fb5e-4d62-85b3-0aab8b4fd462\",\"subtype\":\"Figure\",\"type\":\"Plot\"},\"ticker\":{\"id\":\"730a874c-d4f8-467b-90b0-31c8161c2bfe\",\"type\":\"LogTicker\"}},\"id\":\"f206a112-b78a-469e-b1d6-b27b31dac7e1\",\"type\":\"LogAxis\"},{\"attributes\":{\"data_source\":{\"id\":\"d1ec92ed-d4d5-4fe4-bdad-56e5aafe18a7\",\"type\":\"ColumnDataSource\"},\"glyph\":{\"id\":\"0962247e-1d08-4641-a93c-85b1fbc52b74\",\"type\":\"Circle\"},\"hover_glyph\":null,\"muted_glyph\":null,\"nonselection_glyph\":{\"id\":\"f606b5b0-41ab-40d1-a137-36d8d5673445\",\"type\":\"Circle\"},\"selection_glyph\":null,\"view\":{\"id\":\"3f5f3ef6-453a-4d7a-b362-82ec2fbd6a6e\",\"type\":\"CDSView\"}},\"id\":\"85dc4491-679b-41a7-8120-434b98c77057\",\"type\":\"GlyphRenderer\"},{\"attributes\":{},\"id\":\"2c28762c-18da-4fe9-b2d1-a6eaee5660bf\",\"type\":\"WheelZoomTool\"},{\"attributes\":{},\"id\":\"8801193c-6c86-441e-930a-ac41a7f0490b\",\"type\":\"BasicTickFormatter\"},{\"attributes\":{\"callback\":null,\"data\":{\"x\":{\"__ndarray__\":\"0CYBcvU5UkCik9zf2GVBQF1VoNfLZ0BAVLxhiVXTPUDD1Wu1wJM6QFJyB025jjdAU6Aw5+b/NECYe1uuDfgyQB6bYtVTbTFAPxYSAF1HMEA00pYVm9QuQLolHbMzgC1AntlwirGsLECv+G9SjE4rQJH6ZLBp0ShAsLZQyPd/JkDyjgyf2PwkQLgyNGsrJyRAA13QbJD6I0C8hy0ilI4kQOVTXCEgcSZAovOGvZSGJUBVc/ZmUOIgQOf/6GHAyRlAcE8fAOBSFEDRur1U//gPQGFD9ZbokghAQsqHuSqSA0C91ci3W0UBQCtRQfvz7/4/kh8pntyB+j9t1/n+4TX1P773MAUjFfI/RgzR+CI28T8hBW8WHK7uPzVKjJfU8uk/0FPt4/z65T/wVYqzMPDhPz7K9C5CXuE/8+hSn9hY4T/9PPCkR6rhP1XsIC599OA/66X1nBCX3z/YbRM56QjcPz4dkSQc/dM/S7Wb8Fq00T+/yQdmX0vcP7TrGf476eM/WqNPJoWO7D9qOH1bcwDzP2bw+R5DQ/Y/RLSuQOQp+D8+aif8yAz5P0Wv6eBKRfk/0i2+IN4R+T/ik8QNFZr4PyS5UD5j/Pc/yJ68zXRG9z/2CHPL54H2P59SOhwKtPU/npkP8dfg9D8NlmVcdQz0P80ugRvuOvM/byxiAHN18j9USVZie8nxP5l9lNXYSPE/OB+F0UYP8T8Y7dsUCTHxP3EBgTHPcPE/bfx15p8S8T8FT+xkGtTuP6mdG7rkxuk/pboqTkHX5D/CrN8qGYngP7R4ZaL+htU/\",\"dtype\":\"float64\",\"shape\":[75]},\"y\":{\"__ndarray__\":\"GhExyth1ND/Sv8nbtpRIP2vylNV0PVE/aTum7souWD/At0SJ8fVgPw3Iuahxymc/MSNhhJWvcD/bTfBN02d3P2zb5nxnaoA/CD5h5MAGhz8NmeH1TyaQP+zrCsc9p5Y/LbKd76fGnz/bLW5ISEmmPww9YvTcQq8/JV2OstnstT8Er5Y7M8G+P0c+r3jqkcU/5h99k6ZBzj88bCIzFzjVP4enV8oyxN0//yH99nXg5D8qOpLLf0jtP5kqGJXUifQ/c9cS8kHP/D+/DpwzojQEQIEmwoanVwxA4lgXt9HgE0BSSZ2AJuIbQAMJih9jjiNA5q4l5INuK0AwTKYKRj0zQNv5fmq8/DpAaCJseHrtQkB/+zpwzoxKQM3MzMzMeFJAZmZmZmZqWEAAAAAAAFxeQM3MzMzMJmJAmpmZmZkfZUBmZmZmZhhoQDMzMzMzEWtAAAAAAAAKbkBmZmZmZoFwQM3MzMzM/XFAMzMzMzN6c0CamZmZmfZ0QAAAAAAAc3ZAZmZmZmbvd0DNzMzMzGt5QDMzMzMz6HpAmpmZmZlkfEAAAAAAAOF9QGZmZmZmXX9AZmZmZuZsgECamZmZGSuBQM3MzMxM6YFAAAAAAICngkAzMzMzs2WDQGZmZmbmI4RAmpmZmRnihEDNzMzMTKCFQAAAAACAXoZAMzMzM7Mch0BmZmZm5tqHQJqZmZkZmYhAzczMzExXiUAAAAAAgBWKQDMzMzOz04pAZmZmZuaRi0CamZmZGVCMQM3MzMxMDo1AAAAAAIDMjUAzMzMzs4qOQGZmZmbmSI9A\",\"dtype\":\"float64\",\"shape\":[75]}},\"selected\":{\"id\":\"0e08e3c2-d608-4518-abee-1dcb0c180223\",\"type\":\"Selection\"},\"selection_policy\":{\"id\":\"c00e5172-50b0-40ec-b7f6-ff8d709147c5\",\"type\":\"UnionRenderers\"}},\"id\":\"08348352-1e00-4f6e-80aa-226514165885\",\"type\":\"ColumnDataSource\"},{\"attributes\":{\"axis_label\":\"cooling rate [K/day]\",\"formatter\":{\"id\":\"81d8e278-a2a2-4c93-bc01-00d4c46ef2e7\",\"type\":\"BasicTickFormatter\"},\"plot\":{\"id\":\"b9b822ed-f957-4c65-89d5-a85428dd1921\",\"subtype\":\"Figure\",\"type\":\"Plot\"},\"ticker\":{\"id\":\"61fd89a8-3bbe-4f4d-9ad2-3a777f8f8ce6\",\"type\":\"BasicTicker\"}},\"id\":\"fca20992-7b25-4a88-9699-7a5f7b9c0997\",\"type\":\"LinearAxis\"},{\"attributes\":{\"line_alpha\":0.6,\"line_color\":\"#377eb8\",\"line_dash\":[6],\"line_width\":5,\"x\":{\"field\":\"x\"},\"y\":{\"field\":\"y\"}},\"id\":\"059449cc-e04f-4c31-b462-8eac49af6ae0\",\"type\":\"Line\"},{\"attributes\":{\"plot\":null,\"text\":\"\"},\"id\":\"9f223e5f-8cdb-404c-bd57-25c5a768ad1d\",\"type\":\"Title\"},{\"attributes\":{\"overlay\":{\"id\":\"38c4bb2e-0f2d-49a0-9154-bdf8973e5e99\",\"type\":\"BoxAnnotation\"}},\"id\":\"22b304ba-af36-4f7b-8326-2170a985c795\",\"type\":\"BoxZoomTool\"},{\"attributes\":{\"fill_alpha\":{\"value\":0.1},\"fill_color\":{\"value\":\"#1f77b4\"},\"line_alpha\":{\"value\":0.1},\"line_color\":{\"value\":\"#1f77b4\"},\"x\":{\"field\":\"x\"},\"y\":{\"field\":\"y\"}},\"id\":\"4c43eb61-84b4-42d3-afad-18a2364fa333\",\"type\":\"Circle\"},{\"attributes\":{},\"id\":\"bf04e0d1-284a-4d0a-83c2-3703b961d313\",\"type\":\"WheelZoomTool\"},{\"attributes\":{},\"id\":\"981d25a6-f19b-42fe-9123-b5a39b840e72\",\"type\":\"LinearScale\"},{\"attributes\":{\"plot\":null,\"text\":\"\"},\"id\":\"6b460afe-70cc-4da7-a6df-4f5a940cabb9\",\"type\":\"Title\"},{\"attributes\":{\"plot\":{\"id\":\"b9b822ed-f957-4c65-89d5-a85428dd1921\",\"subtype\":\"Figure\",\"type\":\"Plot\"},\"ticker\":{\"id\":\"61fd89a8-3bbe-4f4d-9ad2-3a777f8f8ce6\",\"type\":\"BasicTicker\"}},\"id\":\"7ebfa02c-f688-46e3-a223-f649fc285d40\",\"type\":\"Grid\"},{\"attributes\":{\"num_minor_ticks\":10},\"id\":\"730a874c-d4f8-467b-90b0-31c8161c2bfe\",\"type\":\"LogTicker\"},{\"attributes\":{\"fill_alpha\":{\"value\":0.7},\"fill_color\":{\"value\":\"#984ea3\"},\"line_alpha\":{\"value\":0.7},\"line_color\":{\"value\":\"#984ea3\"},\"x\":{\"field\":\"x\"},\"y\":{\"field\":\"y\"}},\"id\":\"0962247e-1d08-4641-a93c-85b1fbc52b74\",\"type\":\"Circle\"},{\"attributes\":{\"overlay\":{\"id\":\"ce63fac5-26e7-41d5-bf61-181ddfada244\",\"type\":\"BoxAnnotation\"}},\"id\":\"6d606a96-4842-4607-8204-185fac639a6a\",\"type\":\"BoxZoomTool\"},{\"attributes\":{\"source\":{\"id\":\"d1ec92ed-d4d5-4fe4-bdad-56e5aafe18a7\",\"type\":\"ColumnDataSource\"}},\"id\":\"3f5f3ef6-453a-4d7a-b362-82ec2fbd6a6e\",\"type\":\"CDSView\"},{\"attributes\":{},\"id\":\"c524622b-9efa-4c9d-969a-40f08c02cc43\",\"type\":\"PanTool\"},{\"attributes\":{},\"id\":\"91c4d6c7-1d26-4e64-9353-c8506be3d484\",\"type\":\"LinearScale\"},{\"attributes\":{\"callback\":null,\"data\":{\"x\":{\"__ndarray__\":\"Gi8O3yyWQEAqoldVB488QCQYgc7xWz5A3InmClL2PkA7YSQ+awg+QHM5gW1FiztAjcqm2LraN0DSymA1etMzQM7khR9HgjBAgfMpBfRFLUAzAD0UhFUsQG/QeDmg3ixA+MUB7ZW8LUCmiyWF6EItQCpd4VWJqCpABqle6qVQJ0DcdI/aZn8kQOiNeIUY3CJAnBIDdqivIkCJUTpkY8gjQCznjm7uOCZA5dmakxK8JUDuM6plFzohQB6ZSI62ixlA/1GoYjuWE0CWC4L/wQsQQFVotj/FIQtAihnK+ZcyBkCykLhoyIYCQF1TaW7XGQBAvjjKFr3Y/T8wNzwK0sf5PxekxpEAUvU/AUAuLjJ/8j/cfAcVGwzxP6Kmju7HMvA/z4mA4bEa7D+uENOjkRnmP0Gw8fQzNuQ/Cq7b0GtV5D/HtHJZeCTlPwiNrst10+Q/JGbKYqId5D/8T3dtggDjP91LK6lVs98/S0Vx8/eYHUBe5jWs6YoWQFNOHOc5ttg/AI1gUJcfGkDvH8iPKsbgP/QdYfDn9SZABBQvvoR+J8Bou0tseqzOv6bLH2oberu/lypGZnaWdr+SngbTrE20P4TCRHXGicM/qzfSxwrByz/+WEdKZlbRP/IMahwCQNQ/5KjXi3Nk1j+8LgvDig7YP+4BxDMZRNk/2JAOf2xq2j/dw2NP2/fbP7FIuDWOvd4/G7EFc6r/JkDtszqhJi4EQEA2I5l/8ME/AqdyOMWLBUDZlN3jOz7LP0k3Ahb+H8M/qGe/bCdhsT/opzAFk715v+n3r9kUfcG/\",\"dtype\":\"float64\",\"shape\":[75]},\"y\":{\"__ndarray__\":\"GhExyth1ND/Sv8nbtpRIP2vylNV0PVE/aTum7souWD/At0SJ8fVgPw3Iuahxymc/MSNhhJWvcD/bTfBN02d3P2zb5nxnaoA/CD5h5MAGhz8NmeH1TyaQP+zrCsc9p5Y/LbKd76fGnz/bLW5ISEmmPww9YvTcQq8/JV2OstnstT8Er5Y7M8G+P0c+r3jqkcU/5h99k6ZBzj88bCIzFzjVP4enV8oyxN0//yH99nXg5D8qOpLLf0jtP5kqGJXUifQ/c9cS8kHP/D+/DpwzojQEQIEmwoanVwxA4lgXt9HgE0BSSZ2AJuIbQAMJih9jjiNA5q4l5INuK0AwTKYKRj0zQNv5fmq8/DpAaCJseHrtQkB/+zpwzoxKQM3MzMzMeFJAZmZmZmZqWEAAAAAAAFxeQM3MzMzMJmJAmpmZmZkfZUBmZmZmZhhoQDMzMzMzEWtAAAAAAAAKbkBmZmZmZoFwQM3MzMzM/XFAMzMzMzN6c0CamZmZmfZ0QAAAAAAAc3ZAZmZmZmbvd0DNzMzMzGt5QDMzMzMz6HpAmpmZmZlkfEAAAAAAAOF9QGZmZmZmXX9AZmZmZuZsgECamZmZGSuBQM3MzMxM6YFAAAAAAICngkAzMzMzs2WDQGZmZmbmI4RAmpmZmRnihEDNzMzMTKCFQAAAAACAXoZAMzMzM7Mch0BmZmZm5tqHQJqZmZkZmYhAzczMzExXiUAAAAAAgBWKQDMzMzOz04pAZmZmZuaRi0CamZmZGVCMQM3MzMxMDo1AAAAAAIDMjUAzMzMzs4qOQGZmZmbmSI9A\",\"dtype\":\"float64\",\"shape\":[75]}},\"selected\":{\"id\":\"d76b3915-5ca4-4df3-93b3-eb3ee5f08053\",\"type\":\"Selection\"},\"selection_policy\":{\"id\":\"53f369b5-d582-4007-8736-eb1ad6823b2c\",\"type\":\"UnionRenderers\"}},\"id\":\"93ef2fc2-6203-4ff0-b73e-21b7ccac14b7\",\"type\":\"ColumnDataSource\"},{\"attributes\":{},\"id\":\"cb6ce6a4-a39e-4a2c-87bc-1574eb50b265\",\"type\":\"SaveTool\"},{\"attributes\":{\"items\":[{\"id\":\"b8602a68-0369-4cad-a96f-0d315df2880c\",\"type\":\"LegendItem\"},{\"id\":\"b899b81a-47a3-47b5-a730-5de8630d1182\",\"type\":\"LegendItem\"}],\"label_text_font_size\":{\"value\":\"8pt\"},\"location\":\"top_center\",\"orientation\":\"horizontal\",\"plot\":{\"id\":\"b9b822ed-f957-4c65-89d5-a85428dd1921\",\"subtype\":\"Figure\",\"type\":\"Plot\"}},\"id\":\"a025f86c-c61b-464b-a4dc-6fb82d4acf27\",\"type\":\"Legend\"},{\"attributes\":{\"callback\":null,\"data\":{\"x\":{\"__ndarray__\":\"0CYBcvU5UkCik9zf2GVBQF1VoNfLZ0BAVLxhiVXTPUDD1Wu1wJM6QFJyB025jjdAU6Aw5+b/NECYe1uuDfgyQB6bYtVTbTFAPxYSAF1HMEA00pYVm9QuQLolHbMzgC1AntlwirGsLECv+G9SjE4rQJH6ZLBp0ShAsLZQyPd/JkDyjgyf2PwkQLgyNGsrJyRAA13QbJD6I0C8hy0ilI4kQOVTXCEgcSZAovOGvZSGJUBVc/ZmUOIgQOf/6GHAyRlAcE8fAOBSFEDRur1U//gPQGFD9ZbokghAQsqHuSqSA0C91ci3W0UBQCtRQfvz7/4/kh8pntyB+j9t1/n+4TX1P773MAUjFfI/RgzR+CI28T8hBW8WHK7uPzVKjJfU8uk/0FPt4/z65T/wVYqzMPDhPz7K9C5CXuE/8+hSn9hY4T/9PPCkR6rhP1XsIC599OA/66X1nBCX3z/YbRM56QjcPz4dkSQc/dM/S7Wb8Fq00T+/yQdmX0vcP7TrGf476eM/WqNPJoWO7D9qOH1bcwDzP2bw+R5DQ/Y/RLSuQOQp+D8+aif8yAz5P0Wv6eBKRfk/0i2+IN4R+T/ik8QNFZr4PyS5UD5j/Pc/yJ68zXRG9z/2CHPL54H2P59SOhwKtPU/npkP8dfg9D8NlmVcdQz0P80ugRvuOvM/byxiAHN18j9USVZie8nxP5l9lNXYSPE/OB+F0UYP8T8Y7dsUCTHxP3EBgTHPcPE/bfx15p8S8T8FT+xkGtTuP6mdG7rkxuk/pboqTkHX5D/CrN8qGYngP7R4ZaL+htU/\",\"dtype\":\"float64\",\"shape\":[75]},\"y\":{\"__ndarray__\":\"GhExyth1ND/Sv8nbtpRIP2vylNV0PVE/aTum7souWD/At0SJ8fVgPw3Iuahxymc/MSNhhJWvcD/bTfBN02d3P2zb5nxnaoA/CD5h5MAGhz8NmeH1TyaQP+zrCsc9p5Y/LbKd76fGnz/bLW5ISEmmPww9YvTcQq8/JV2OstnstT8Er5Y7M8G+P0c+r3jqkcU/5h99k6ZBzj88bCIzFzjVP4enV8oyxN0//yH99nXg5D8qOpLLf0jtP5kqGJXUifQ/c9cS8kHP/D+/DpwzojQEQIEmwoanVwxA4lgXt9HgE0BSSZ2AJuIbQAMJih9jjiNA5q4l5INuK0AwTKYKRj0zQNv5fmq8/DpAaCJseHrtQkB/+zpwzoxKQM3MzMzMeFJAZmZmZmZqWEAAAAAAAFxeQM3MzMzMJmJAmpmZmZkfZUBmZmZmZhhoQDMzMzMzEWtAAAAAAAAKbkBmZmZmZoFwQM3MzMzM/XFAMzMzMzN6c0CamZmZmfZ0QAAAAAAAc3ZAZmZmZmbvd0DNzMzMzGt5QDMzMzMz6HpAmpmZmZlkfEAAAAAAAOF9QGZmZmZmXX9AZmZmZuZsgECamZmZGSuBQM3MzMxM6YFAAAAAAICngkAzMzMzs2WDQGZmZmbmI4RAmpmZmRnihEDNzMzMTKCFQAAAAACAXoZAMzMzM7Mch0BmZmZm5tqHQJqZmZkZmYhAzczMzExXiUAAAAAAgBWKQDMzMzOz04pAZmZmZuaRi0CamZmZGVCMQM3MzMxMDo1AAAAAAIDMjUAzMzMzs4qOQGZmZmbmSI9A\",\"dtype\":\"float64\",\"shape\":[75]}},\"selected\":{\"id\":\"5c023dce-6be7-4185-85e2-7ba7e9f2525a\",\"type\":\"Selection\"},\"selection_policy\":{\"id\":\"f7adc50a-269c-48ea-8847-d76a4d34e660\",\"type\":\"UnionRenderers\"}},\"id\":\"6bd452e7-8c38-4db5-b5d8-64cf15201862\",\"type\":\"ColumnDataSource\"},{\"attributes\":{},\"id\":\"a8ec564e-c9bc-4b68-b38d-0ce014ec7c5e\",\"type\":\"ResetTool\"},{\"attributes\":{\"source\":{\"id\":\"08348352-1e00-4f6e-80aa-226514165885\",\"type\":\"ColumnDataSource\"}},\"id\":\"6d543911-c8e8-46bd-8f09-3b3150666643\",\"type\":\"CDSView\"},{\"attributes\":{\"callback\":null,\"data\":{\"x\":{\"__ndarray__\":\"iR70BL7dQ8BqFIapqfIYwJeU/AUvnQPAithMGMgv8j/DW8RFVKULQA05zgNh5A9A1FGxi5/WBkA656ngkG3rP7fJlruWYe2/7sfR1y9G+r/6j84KuPjzv0+pijRvMtS/dsUOKUb+4D9vL1krw0XvP4opxlf6ce0/yEq+QcQV2j/yhUYfcVzPv+1MulsuseS/Y6bUbH+u5L8zxma+F8bYv2NctmbZGLy/vyHzCeu+uj84JvCsv/HFPzJlM9DpBK+/L67frpOUx79xWVxGqoSOP6cnCUbldtQ/L3oSAmoD1T94r/sOyxbEP/VYFRmuO7Q/WskIxQO3yj8CfwktwEfSP85irWTs5sk/hTvTVfOQtD+1pP+c0FC7PzoMRBbtysk/A9hM9tN+yD/+6iLBg6XAPxcw5y+Ov7Y/tChGjJnktz9kvhOkhdG7P44FbezE974/t0w+UWhIwT9DZLZDN/DDP0JdNAlzbMc/9YlnRLJ9HEDBadW1M8YUQC0SLyp8OM6/lJiWq8aNFkDkUDInvDrlv+ffgYx/LSRAjepERsGDKsCp4bBJWOL8vwGsi5fs/Pq//XMkl3Qo+b/4KZRAOlX3v9MgqG8qi/W/0lfCdFPO87+2MuE4Tizyv2LPH5UJpPC/yV4zHHaP7r++lEVXpRHsv6RcIJ3P0+m/cBA9wa+157+3sPocCZflv9fWTJDqMuO/Mw3VmMHdJEDCepktRCv3P1Q1uXx+Ze6/lFFviuoE+j/O6fRriwTov9gPmzTl/uS/ss2SYByr4r8SDupQlLzgv6l0PQ+JRd6/\",\"dtype\":\"float64\",\"shape\":[75]},\"y\":{\"__ndarray__\":\"GhExyth1ND/Sv8nbtpRIP2vylNV0PVE/aTum7souWD/At0SJ8fVgPw3Iuahxymc/MSNhhJWvcD/bTfBN02d3P2zb5nxnaoA/CD5h5MAGhz8NmeH1TyaQP+zrCsc9p5Y/LbKd76fGnz/bLW5ISEmmPww9YvTcQq8/JV2OstnstT8Er5Y7M8G+P0c+r3jqkcU/5h99k6ZBzj88bCIzFzjVP4enV8oyxN0//yH99nXg5D8qOpLLf0jtP5kqGJXUifQ/c9cS8kHP/D+/DpwzojQEQIEmwoanVwxA4lgXt9HgE0BSSZ2AJuIbQAMJih9jjiNA5q4l5INuK0AwTKYKRj0zQNv5fmq8/DpAaCJseHrtQkB/+zpwzoxKQM3MzMzMeFJAZmZmZmZqWEAAAAAAAFxeQM3MzMzMJmJAmpmZmZkfZUBmZmZmZhhoQDMzMzMzEWtAAAAAAAAKbkBmZmZmZoFwQM3MzMzM/XFAMzMzMzN6c0CamZmZmfZ0QAAAAAAAc3ZAZmZmZmbvd0DNzMzMzGt5QDMzMzMz6HpAmpmZmZlkfEAAAAAAAOF9QGZmZmZmXX9AZmZmZuZsgECamZmZGSuBQM3MzMxM6YFAAAAAAICngkAzMzMzs2WDQGZmZmbmI4RAmpmZmRnihEDNzMzMTKCFQAAAAACAXoZAMzMzM7Mch0BmZmZm5tqHQJqZmZkZmYhAzczMzExXiUAAAAAAgBWKQDMzMzOz04pAZmZmZuaRi0CamZmZGVCMQM3MzMxMDo1AAAAAAIDMjUAzMzMzs4qOQGZmZmbmSI9A\",\"dtype\":\"float64\",\"shape\":[75]}},\"selected\":{\"id\":\"34c05ab1-07e1-4314-a5d7-5f9ef89b2215\",\"type\":\"Selection\"},\"selection_policy\":{\"id\":\"0de95d32-cf47-4146-a17f-e25ea2e81ec0\",\"type\":\"UnionRenderers\"}},\"id\":\"d1ec92ed-d4d5-4fe4-bdad-56e5aafe18a7\",\"type\":\"ColumnDataSource\"},{\"attributes\":{},\"id\":\"5fe36ce4-dccb-4dcb-ac37-2f52e2c2d404\",\"type\":\"BasicTicker\"},{\"attributes\":{},\"id\":\"f47398f1-fe3b-4eee-870b-775d27c83da6\",\"type\":\"HelpTool\"},{\"attributes\":{\"callback\":null,\"end\":11.731811837980002,\"start\":-11.979571035980001},\"id\":\"0ab9b49e-3a32-4c77-a8ac-caa1583aae36\",\"type\":\"Range1d\"},{\"attributes\":{},\"id\":\"5c023dce-6be7-4185-85e2-7ba7e9f2525a\",\"type\":\"Selection\"},{\"attributes\":{\"data_source\":{\"id\":\"6bd452e7-8c38-4db5-b5d8-64cf15201862\",\"type\":\"ColumnDataSource\"},\"glyph\":{\"id\":\"34e29de1-5795-4826-b7b8-ba1968a1307a\",\"type\":\"Line\"},\"hover_glyph\":null,\"muted_glyph\":null,\"nonselection_glyph\":{\"id\":\"d86dd272-85b6-419c-b0af-6b0b8d16023b\",\"type\":\"Line\"},\"selection_glyph\":null,\"view\":{\"id\":\"f943b7c7-0f20-4410-a986-84d09982d0d8\",\"type\":\"CDSView\"}},\"id\":\"a33154c3-a117-4558-9771-6f6521def429\",\"type\":\"GlyphRenderer\"},{\"attributes\":{},\"id\":\"01460b16-54cb-481d-9dba-0afe110cf147\",\"type\":\"PanTool\"},{\"attributes\":{},\"id\":\"b289ad65-9a8d-4a65-9cc4-835ea20bef67\",\"type\":\"ResetTool\"},{\"attributes\":{},\"id\":\"61fd89a8-3bbe-4f4d-9ad2-3a777f8f8ce6\",\"type\":\"BasicTicker\"},{\"attributes\":{},\"id\":\"0ff16629-cc3f-4ee4-8ada-04434d020744\",\"type\":\"SaveTool\"},{\"attributes\":{\"dimension\":1,\"plot\":{\"id\":\"b9b822ed-f957-4c65-89d5-a85428dd1921\",\"subtype\":\"Figure\",\"type\":\"Plot\"},\"ticker\":{\"id\":\"5fe36ce4-dccb-4dcb-ac37-2f52e2c2d404\",\"type\":\"BasicTicker\"}},\"id\":\"2fa91505-8ff1-46c7-81eb-2825dbc2a58d\",\"type\":\"Grid\"},{\"attributes\":{\"fill_alpha\":{\"value\":0.7},\"fill_color\":{\"value\":\"#4daf4a\"},\"line_alpha\":{\"value\":0.7},\"line_color\":{\"value\":\"#4daf4a\"},\"x\":{\"field\":\"x\"},\"y\":{\"field\":\"y\"}},\"id\":\"9d78d99e-64e7-4d99-919e-0521d853228a\",\"type\":\"Circle\"},{\"attributes\":{},\"id\":\"c4b9a0ba-5180-4890-9ec1-ea1d7daf6549\",\"type\":\"Selection\"},{\"attributes\":{\"callback\":null,\"end\":0.01,\"start\":1020},\"id\":\"d80f9402-a306-4225-85fc-b9fc49e16082\",\"type\":\"Range1d\"},{\"attributes\":{\"dimension\":1,\"plot\":{\"id\":\"5a2d11e7-fb5e-4d62-85b3-0aab8b4fd462\",\"subtype\":\"Figure\",\"type\":\"Plot\"},\"ticker\":{\"id\":\"730a874c-d4f8-467b-90b0-31c8161c2bfe\",\"type\":\"LogTicker\"}},\"id\":\"f7eb6ffb-7d04-4d7f-a9e7-f6d0e9930876\",\"type\":\"Grid\"},{\"attributes\":{\"callback\":null,\"data\":{\"x\":{\"__ndarray__\":\"iR70BL7dQ8BqFIapqfIYwJeU/AUvnQPAithMGMgv8j/DW8RFVKULQA05zgNh5A9A1FGxi5/WBkA656ngkG3rP7fJlruWYe2/7sfR1y9G+r/6j84KuPjzv0+pijRvMtS/dsUOKUb+4D9vL1krw0XvP4opxlf6ce0/yEq+QcQV2j/yhUYfcVzPv+1MulsuseS/Y6bUbH+u5L8zxma+F8bYv2NctmbZGLy/vyHzCeu+uj84JvCsv/HFPzJlM9DpBK+/L67frpOUx79xWVxGqoSOP6cnCUbldtQ/L3oSAmoD1T94r/sOyxbEP/VYFRmuO7Q/WskIxQO3yj8CfwktwEfSP85irWTs5sk/hTvTVfOQtD+1pP+c0FC7PzoMRBbtysk/A9hM9tN+yD/+6iLBg6XAPxcw5y+Ov7Y/tChGjJnktz9kvhOkhdG7P44FbezE974/t0w+UWhIwT9DZLZDN/DDP0JdNAlzbMc/9YlnRLJ9HEDBadW1M8YUQC0SLyp8OM6/lJiWq8aNFkDkUDInvDrlv+ffgYx/LSRAjepERsGDKsCp4bBJWOL8vwGsi5fs/Pq//XMkl3Qo+b/4KZRAOlX3v9MgqG8qi/W/0lfCdFPO87+2MuE4Tizyv2LPH5UJpPC/yV4zHHaP7r++lEVXpRHsv6RcIJ3P0+m/cBA9wa+157+3sPocCZflv9fWTJDqMuO/Mw3VmMHdJEDCepktRCv3P1Q1uXx+Ze6/lFFviuoE+j/O6fRriwTov9gPmzTl/uS/ss2SYByr4r8SDupQlLzgv6l0PQ+JRd6/\",\"dtype\":\"float64\",\"shape\":[75]},\"y\":{\"__ndarray__\":\"GhExyth1ND/Sv8nbtpRIP2vylNV0PVE/aTum7souWD/At0SJ8fVgPw3Iuahxymc/MSNhhJWvcD/bTfBN02d3P2zb5nxnaoA/CD5h5MAGhz8NmeH1TyaQP+zrCsc9p5Y/LbKd76fGnz/bLW5ISEmmPww9YvTcQq8/JV2OstnstT8Er5Y7M8G+P0c+r3jqkcU/5h99k6ZBzj88bCIzFzjVP4enV8oyxN0//yH99nXg5D8qOpLLf0jtP5kqGJXUifQ/c9cS8kHP/D+/DpwzojQEQIEmwoanVwxA4lgXt9HgE0BSSZ2AJuIbQAMJih9jjiNA5q4l5INuK0AwTKYKRj0zQNv5fmq8/DpAaCJseHrtQkB/+zpwzoxKQM3MzMzMeFJAZmZmZmZqWEAAAAAAAFxeQM3MzMzMJmJAmpmZmZkfZUBmZmZmZhhoQDMzMzMzEWtAAAAAAAAKbkBmZmZmZoFwQM3MzMzM/XFAMzMzMzN6c0CamZmZmfZ0QAAAAAAAc3ZAZmZmZmbvd0DNzMzMzGt5QDMzMzMz6HpAmpmZmZlkfEAAAAAAAOF9QGZmZmZmXX9AZmZmZuZsgECamZmZGSuBQM3MzMxM6YFAAAAAAICngkAzMzMzs2WDQGZmZmbmI4RAmpmZmRnihEDNzMzMTKCFQAAAAACAXoZAMzMzM7Mch0BmZmZm5tqHQJqZmZkZmYhAzczMzExXiUAAAAAAgBWKQDMzMzOz04pAZmZmZuaRi0CamZmZGVCMQM3MzMxMDo1AAAAAAIDMjUAzMzMzs4qOQGZmZmbmSI9A\",\"dtype\":\"float64\",\"shape\":[75]}},\"selected\":{\"id\":\"6bc8b4d1-1670-4a25-82dc-ff66ae290b51\",\"type\":\"Selection\"},\"selection_policy\":{\"id\":\"0c32c288-8ab0-4945-8fc1-b4958f7d3a35\",\"type\":\"UnionRenderers\"}},\"id\":\"dd4debf0-1170-4505-8a34-ed78bab416db\",\"type\":\"ColumnDataSource\"},{\"attributes\":{},\"id\":\"914fadb9-c2a0-4993-b8b6-3bc0783af1bb\",\"type\":\"PanTool\"},{\"attributes\":{\"callback\":null,\"end\":0.01,\"start\":1020},\"id\":\"5d2a4ac5-bca2-4a8c-8841-69e05eb15afc\",\"type\":\"Range1d\"},{\"attributes\":{},\"id\":\"13d25ee9-94ba-438c-9b5e-aa2d0f914731\",\"type\":\"Selection\"},{\"attributes\":{\"callback\":null,\"data\":{\"x\":{\"__ndarray__\":\"Gi8O3yyWQEAqoldVB488QCQYgc7xWz5A3InmClL2PkA7YSQ+awg+QHM5gW1FiztAjcqm2LraN0DSymA1etMzQM7khR9HgjBAgfMpBfRFLUAzAD0UhFUsQG/QeDmg3ixA+MUB7ZW8LUCmiyWF6EItQCpd4VWJqCpABqle6qVQJ0DcdI/aZn8kQOiNeIUY3CJAnBIDdqivIkCJUTpkY8gjQCznjm7uOCZA5dmakxK8JUDuM6plFzohQB6ZSI62ixlA/1GoYjuWE0CWC4L/wQsQQFVotj/FIQtAihnK+ZcyBkCykLhoyIYCQF1TaW7XGQBAvjjKFr3Y/T8wNzwK0sf5PxekxpEAUvU/AUAuLjJ/8j/cfAcVGwzxP6Kmju7HMvA/z4mA4bEa7D+uENOjkRnmP0Gw8fQzNuQ/Cq7b0GtV5D/HtHJZeCTlPwiNrst10+Q/JGbKYqId5D/8T3dtggDjP91LK6lVs98/S0Vx8/eYHUBe5jWs6YoWQFNOHOc5ttg/AI1gUJcfGkDvH8iPKsbgP/QdYfDn9SZABBQvvoR+J8Bou0tseqzOv6bLH2oberu/lypGZnaWdr+SngbTrE20P4TCRHXGicM/qzfSxwrByz/+WEdKZlbRP/IMahwCQNQ/5KjXi3Nk1j+8LgvDig7YP+4BxDMZRNk/2JAOf2xq2j/dw2NP2/fbP7FIuDWOvd4/G7EFc6r/JkDtszqhJi4EQEA2I5l/8ME/AqdyOMWLBUDZlN3jOz7LP0k3Ahb+H8M/qGe/bCdhsT/opzAFk715v+n3r9kUfcG/\",\"dtype\":\"float64\",\"shape\":[75]},\"y\":{\"__ndarray__\":\"GhExyth1ND/Sv8nbtpRIP2vylNV0PVE/aTum7souWD/At0SJ8fVgPw3Iuahxymc/MSNhhJWvcD/bTfBN02d3P2zb5nxnaoA/CD5h5MAGhz8NmeH1TyaQP+zrCsc9p5Y/LbKd76fGnz/bLW5ISEmmPww9YvTcQq8/JV2OstnstT8Er5Y7M8G+P0c+r3jqkcU/5h99k6ZBzj88bCIzFzjVP4enV8oyxN0//yH99nXg5D8qOpLLf0jtP5kqGJXUifQ/c9cS8kHP/D+/DpwzojQEQIEmwoanVwxA4lgXt9HgE0BSSZ2AJuIbQAMJih9jjiNA5q4l5INuK0AwTKYKRj0zQNv5fmq8/DpAaCJseHrtQkB/+zpwzoxKQM3MzMzMeFJAZmZmZmZqWEAAAAAAAFxeQM3MzMzMJmJAmpmZmZkfZUBmZmZmZhhoQDMzMzMzEWtAAAAAAAAKbkBmZmZmZoFwQM3MzMzM/XFAMzMzMzN6c0CamZmZmfZ0QAAAAAAAc3ZAZmZmZmbvd0DNzMzMzGt5QDMzMzMz6HpAmpmZmZlkfEAAAAAAAOF9QGZmZmZmXX9AZmZmZuZsgECamZmZGSuBQM3MzMxM6YFAAAAAAICngkAzMzMzs2WDQGZmZmbmI4RAmpmZmRnihEDNzMzMTKCFQAAAAACAXoZAMzMzM7Mch0BmZmZm5tqHQJqZmZkZmYhAzczMzExXiUAAAAAAgBWKQDMzMzOz04pAZmZmZuaRi0CamZmZGVCMQM3MzMxMDo1AAAAAAIDMjUAzMzMzs4qOQGZmZmbmSI9A\",\"dtype\":\"float64\",\"shape\":[75]}},\"selected\":{\"id\":\"c4b9a0ba-5180-4890-9ec1-ea1d7daf6549\",\"type\":\"Selection\"},\"selection_policy\":{\"id\":\"bce80fcb-71b7-43b5-9824-74b39db8d33e\",\"type\":\"UnionRenderers\"}},\"id\":\"ba493054-868b-418b-ab8b-532bbd1b512f\",\"type\":\"ColumnDataSource\"},{\"attributes\":{},\"id\":\"0e08e3c2-d608-4518-abee-1dcb0c180223\",\"type\":\"Selection\"},{\"attributes\":{\"data_source\":{\"id\":\"08348352-1e00-4f6e-80aa-226514165885\",\"type\":\"ColumnDataSource\"},\"glyph\":{\"id\":\"9d78d99e-64e7-4d99-919e-0521d853228a\",\"type\":\"Circle\"},\"hover_glyph\":null,\"muted_glyph\":null,\"nonselection_glyph\":{\"id\":\"4c43eb61-84b4-42d3-afad-18a2364fa333\",\"type\":\"Circle\"},\"selection_glyph\":null,\"view\":{\"id\":\"6d543911-c8e8-46bd-8f09-3b3150666643\",\"type\":\"CDSView\"}},\"id\":\"a806024b-1dfc-4e61-8a6e-370e27a91f71\",\"type\":\"GlyphRenderer\"},{\"attributes\":{},\"id\":\"bce80fcb-71b7-43b5-9824-74b39db8d33e\",\"type\":\"UnionRenderers\"},{\"attributes\":{\"ticker\":null},\"id\":\"bdf0981e-f027-40b7-9f38-5000feed9e1b\",\"type\":\"LogTickFormatter\"},{\"attributes\":{\"data_source\":{\"id\":\"93ef2fc2-6203-4ff0-b73e-21b7ccac14b7\",\"type\":\"ColumnDataSource\"},\"glyph\":{\"id\":\"059449cc-e04f-4c31-b462-8eac49af6ae0\",\"type\":\"Line\"},\"hover_glyph\":null,\"muted_glyph\":null,\"nonselection_glyph\":{\"id\":\"f2948d8a-309e-4af0-ac3e-389cb8c165e5\",\"type\":\"Line\"},\"selection_glyph\":null,\"view\":{\"id\":\"5eaa448e-4912-4d97-9bbd-ecbe0e5a2398\",\"type\":\"CDSView\"}},\"id\":\"d0612ec8-1ea7-4d9f-b788-f2818ebbab67\",\"type\":\"GlyphRenderer\"},{\"attributes\":{\"source\":{\"id\":\"6bd452e7-8c38-4db5-b5d8-64cf15201862\",\"type\":\"ColumnDataSource\"}},\"id\":\"f943b7c7-0f20-4410-a986-84d09982d0d8\",\"type\":\"CDSView\"}],\"root_ids\":[\"56df1437-9fae-4f87-9789-1d91f22ec9e9\"]},\"title\":\"Bokeh Application\",\"version\":\"0.12.16\"}};\n",
       "  var render_items = [{\"docid\":\"8c73a6a4-171f-42c3-b7f8-568b4596a101\",\"elementid\":\"a0a4be4c-2b37-496c-b77a-99175e4ed383\",\"modelid\":\"56df1437-9fae-4f87-9789-1d91f22ec9e9\"}];\n",
       "  root.Bokeh.embed.embed_items_notebook(docs_json, render_items);\n",
       "\n",
       "  }\n",
       "  if (root.Bokeh !== undefined) {\n",
       "    embed_document(root);\n",
       "  } else {\n",
       "    var attempts = 0;\n",
       "    var timer = setInterval(function(root) {\n",
       "      if (root.Bokeh !== undefined) {\n",
       "        embed_document(root);\n",
       "        clearInterval(timer);\n",
       "      }\n",
       "      attempts++;\n",
       "      if (attempts > 100) {\n",
       "        console.log(\"Bokeh: ERROR: Unable to run BokehJS code because BokehJS library is missing\")\n",
       "        clearInterval(timer);\n",
       "      }\n",
       "    }, 10, root)\n",
       "  }\n",
       "})(window);"
      ],
      "application/vnd.bokehjs_exec.v0+json": ""
     },
     "metadata": {
      "application/vnd.bokehjs_exec.v0+json": {
       "id": "56df1437-9fae-4f87-9789-1d91f22ec9e9"
      }
     },
     "output_type": "display_data"
    },
    {
     "data": {
      "text/markdown": [
       "*FIGURE.* Cooling rates & difference."
      ],
      "text/plain": [
       "<IPython.core.display.Markdown object>"
      ]
     },
     "metadata": {},
     "output_type": "display_data"
    },
    {
     "data": {
      "text/html": [
       "<a id=\"Fluxes._saw.\"></a>"
      ],
      "text/plain": [
       "<IPython.core.display.HTML object>"
      ]
     },
     "metadata": {},
     "output_type": "display_data"
    },
    {
     "data": {
      "text/markdown": [
       "# Fluxes. saw."
      ],
      "text/plain": [
       "<IPython.core.display.Markdown object>"
      ]
     },
     "metadata": {},
     "output_type": "display_data"
    },
    {
     "data": {
      "text/html": [
       "\n",
       "<div class=\"bk-root\">\n",
       "    <div class=\"bk-plotdiv\" id=\"d1e94aea-17d2-46e4-9a49-cb62f50fa67a\"></div>\n",
       "</div>"
      ]
     },
     "metadata": {},
     "output_type": "display_data"
    },
    {
     "data": {
      "application/javascript": [
       "(function(root) {\n",
       "  function embed_document(root) {\n",
       "    \n",
       "  var docs_json = {\"d9437c21-b344-46b4-b4dd-c849556f1e53\":{\"roots\":{\"references\":[{\"attributes\":{},\"id\":\"f57578dd-1df0-4471-8950-2c2df552e4e6\",\"type\":\"SaveTool\"},{\"attributes\":{},\"id\":\"bba53ce5-503c-4d2d-b98b-03f86d6ddb73\",\"type\":\"CategoricalTicker\"},{\"attributes\":{\"callback\":null,\"data\":{\"band\":[\"1\",\"2\",\"3\",\"4\",\"5\",\"6\",\"7\",\"8\",\"9\",\"10\",\"11\"],\"flux\":{\"__ndarray__\":\"MBzPZ0C9+z/8t5IdG3koQJZNucK7HBZAwCJNvAM84T+IWB9qNooZQD53gv3XTTBA5FNbRdr5EkCXx/VKtKcXQCo0WliBewxA4rIKmwHOAEAjraU+mG3rPw==\",\"dtype\":\"float64\",\"shape\":[11]}},\"selected\":{\"id\":\"c663e4fc-fd90-4d75-a878-fa07e537f053\",\"type\":\"Selection\"},\"selection_policy\":{\"id\":\"fbfaa5ed-1f18-4aed-8d0f-33e361863cbd\",\"type\":\"UnionRenderers\"}},\"id\":\"103efe2a-a806-4c1d-a91d-6f6cfaa2be9b\",\"type\":\"ColumnDataSource\"},{\"attributes\":{},\"id\":\"74d09b4b-830c-47fb-8081-30e6d18842c8\",\"type\":\"WheelZoomTool\"},{\"attributes\":{\"plot\":{\"id\":\"fdc425c3-cf3e-4bf8-95d5-59f8bea8007a\",\"subtype\":\"Figure\",\"type\":\"Plot\"},\"ticker\":{\"id\":\"bba53ce5-503c-4d2d-b98b-03f86d6ddb73\",\"type\":\"CategoricalTicker\"}},\"id\":\"8a44f61f-285b-444d-90fe-2ed83171f327\",\"type\":\"Grid\"},{\"attributes\":{\"source\":{\"id\":\"d8e4e3dc-2725-49de-8b50-8d77bfb22cb5\",\"type\":\"ColumnDataSource\"}},\"id\":\"cf76663d-5e89-48db-bd85-1cfdeabfe9ff\",\"type\":\"CDSView\"},{\"attributes\":{\"fill_color\":{\"value\":\"#1f77b4\"},\"line_color\":{\"value\":\"#1f77b4\"},\"top\":{\"field\":\"flux\"},\"width\":{\"value\":0.9},\"x\":{\"field\":\"band\"}},\"id\":\"9d52250d-1dc3-4322-a284-34399b7ab335\",\"type\":\"VBar\"},{\"attributes\":{\"below\":[{\"id\":\"0865e03b-167a-4443-877b-f40b795f6328\",\"type\":\"CategoricalAxis\"}],\"left\":[{\"id\":\"8ecfe2a1-97e2-451f-be47-bb1b3f99f9df\",\"type\":\"LinearAxis\"}],\"plot_height\":300,\"plot_width\":300,\"renderers\":[{\"id\":\"0865e03b-167a-4443-877b-f40b795f6328\",\"type\":\"CategoricalAxis\"},{\"id\":\"069bc5c2-876a-4d9a-a84e-6c7d76e3731e\",\"type\":\"Grid\"},{\"id\":\"8ecfe2a1-97e2-451f-be47-bb1b3f99f9df\",\"type\":\"LinearAxis\"},{\"id\":\"e5b79a8f-98ba-4f25-b63e-5dce3d1f2679\",\"type\":\"Grid\"},{\"id\":\"6f2377ab-e4ba-4f95-9a20-fa687f91e959\",\"type\":\"BoxAnnotation\"},{\"id\":\"aa79ee35-0f32-462b-b037-fa94bf6d7c8a\",\"type\":\"GlyphRenderer\"}],\"title\":{\"id\":\"434ed58b-ef5b-4629-a674-03821c5bee08\",\"type\":\"Title\"},\"toolbar\":{\"id\":\"0d84cfa9-2d89-49ca-967c-46613d2a9a0e\",\"type\":\"Toolbar\"},\"toolbar_location\":null,\"x_range\":{\"id\":\"2b265e59-dce3-408a-a3f4-9f6b428e774f\",\"type\":\"FactorRange\"},\"x_scale\":{\"id\":\"fda8f778-4d32-4e66-9bab-c8458c8998ef\",\"type\":\"CategoricalScale\"},\"y_range\":{\"id\":\"bd8b1530-9a7f-4ee4-bd2b-0ababc478ae7\",\"type\":\"DataRange1d\"},\"y_scale\":{\"id\":\"ee671ac7-0498-4fdb-bd16-c116b1c2bc68\",\"type\":\"LinearScale\"}},\"id\":\"a99f9218-bcf0-4c35-bfd5-01aada24bc51\",\"subtype\":\"Figure\",\"type\":\"Plot\"},{\"attributes\":{\"axis_label\":\"spectral band\",\"formatter\":{\"id\":\"af72a821-66db-42b6-ad6f-e6f54a307969\",\"type\":\"CategoricalTickFormatter\"},\"plot\":{\"id\":\"fdc425c3-cf3e-4bf8-95d5-59f8bea8007a\",\"subtype\":\"Figure\",\"type\":\"Plot\"},\"ticker\":{\"id\":\"bba53ce5-503c-4d2d-b98b-03f86d6ddb73\",\"type\":\"CategoricalTicker\"}},\"id\":\"ae89db68-0984-430f-ad06-df4985a04412\",\"type\":\"CategoricalAxis\"},{\"attributes\":{\"plot\":null,\"text\":\"Atmosphere heating. CLIRAD (single-run) - CRD.\"},\"id\":\"434ed58b-ef5b-4629-a674-03821c5bee08\",\"type\":\"Title\"},{\"attributes\":{\"bottom_units\":\"screen\",\"fill_alpha\":{\"value\":0.5},\"fill_color\":{\"value\":\"lightgrey\"},\"left_units\":\"screen\",\"level\":\"overlay\",\"line_alpha\":{\"value\":1.0},\"line_color\":{\"value\":\"black\"},\"line_dash\":[4,4],\"line_width\":{\"value\":2},\"plot\":null,\"render_mode\":\"css\",\"right_units\":\"screen\",\"top_units\":\"screen\"},\"id\":\"57b97c7a-f625-4788-82c9-8fde5628be9b\",\"type\":\"BoxAnnotation\"},{\"attributes\":{},\"id\":\"47c118c9-ea3e-4130-ae8d-652c21ba631e\",\"type\":\"PanTool\"},{\"attributes\":{},\"id\":\"4ad03903-0bdf-4ceb-b072-8ee912d3f066\",\"type\":\"HelpTool\"},{\"attributes\":{},\"id\":\"d718183c-b80f-4d0a-a159-9f908617b8f3\",\"type\":\"BasicTicker\"},{\"attributes\":{\"overlay\":{\"id\":\"57b97c7a-f625-4788-82c9-8fde5628be9b\",\"type\":\"BoxAnnotation\"}},\"id\":\"49185836-b740-4034-88ae-7ba4e10d728b\",\"type\":\"BoxZoomTool\"},{\"attributes\":{\"active_drag\":\"auto\",\"active_inspect\":\"auto\",\"active_scroll\":\"auto\",\"active_tap\":\"auto\",\"tools\":[{\"id\":\"47c118c9-ea3e-4130-ae8d-652c21ba631e\",\"type\":\"PanTool\"},{\"id\":\"74d09b4b-830c-47fb-8081-30e6d18842c8\",\"type\":\"WheelZoomTool\"},{\"id\":\"49185836-b740-4034-88ae-7ba4e10d728b\",\"type\":\"BoxZoomTool\"},{\"id\":\"f57578dd-1df0-4471-8950-2c2df552e4e6\",\"type\":\"SaveTool\"},{\"id\":\"f7df6106-6cad-4992-b1f3-43787c8fb6db\",\"type\":\"ResetTool\"},{\"id\":\"4ad03903-0bdf-4ceb-b072-8ee912d3f066\",\"type\":\"HelpTool\"}]},\"id\":\"fc1a57ea-1f13-4ce1-8898-6ca2642cd1ab\",\"type\":\"Toolbar\"},{\"attributes\":{\"source\":{\"id\":\"103efe2a-a806-4c1d-a91d-6f6cfaa2be9b\",\"type\":\"ColumnDataSource\"}},\"id\":\"b2242e40-3cd1-4d15-8bb6-56f2e6d6e281\",\"type\":\"CDSView\"},{\"attributes\":{},\"id\":\"dee13c80-1e03-4941-9cef-48d6df63ec55\",\"type\":\"CategoricalScale\"},{\"attributes\":{\"data_source\":{\"id\":\"d8e4e3dc-2725-49de-8b50-8d77bfb22cb5\",\"type\":\"ColumnDataSource\"},\"glyph\":{\"id\":\"49f17019-3d7d-4e47-afe1-cf3707333d22\",\"type\":\"VBar\"},\"hover_glyph\":null,\"muted_glyph\":null,\"nonselection_glyph\":{\"id\":\"bc83e88d-b64d-4b6a-986b-3dea0c0dca0d\",\"type\":\"VBar\"},\"selection_glyph\":null,\"view\":{\"id\":\"cf76663d-5e89-48db-bd85-1cfdeabfe9ff\",\"type\":\"CDSView\"}},\"id\":\"c6a10780-c958-4dc6-802c-4228791c94fd\",\"type\":\"GlyphRenderer\"},{\"attributes\":{\"data_source\":{\"id\":\"103efe2a-a806-4c1d-a91d-6f6cfaa2be9b\",\"type\":\"ColumnDataSource\"},\"glyph\":{\"id\":\"9d52250d-1dc3-4322-a284-34399b7ab335\",\"type\":\"VBar\"},\"hover_glyph\":null,\"muted_glyph\":null,\"nonselection_glyph\":{\"id\":\"f4d37d2e-32ef-46aa-9f65-dc6ebefc8343\",\"type\":\"VBar\"},\"selection_glyph\":null,\"view\":{\"id\":\"b2242e40-3cd1-4d15-8bb6-56f2e6d6e281\",\"type\":\"CDSView\"}},\"id\":\"7e379061-fa1e-4c02-8e81-18806df770ed\",\"type\":\"GlyphRenderer\"},{\"attributes\":{},\"id\":\"b7b6acd0-94da-47b4-86ce-eaad704066e3\",\"type\":\"LinearScale\"},{\"attributes\":{\"dimension\":1,\"plot\":{\"id\":\"fdc425c3-cf3e-4bf8-95d5-59f8bea8007a\",\"subtype\":\"Figure\",\"type\":\"Plot\"},\"ticker\":{\"id\":\"d718183c-b80f-4d0a-a159-9f908617b8f3\",\"type\":\"BasicTicker\"}},\"id\":\"72e400f5-de23-42ac-8f34-5999bb8f818c\",\"type\":\"Grid\"},{\"attributes\":{\"bottom_units\":\"screen\",\"fill_alpha\":{\"value\":0.5},\"fill_color\":{\"value\":\"lightgrey\"},\"left_units\":\"screen\",\"level\":\"overlay\",\"line_alpha\":{\"value\":1.0},\"line_color\":{\"value\":\"black\"},\"line_dash\":[4,4],\"line_width\":{\"value\":2},\"plot\":null,\"render_mode\":\"css\",\"right_units\":\"screen\",\"top_units\":\"screen\"},\"id\":\"07993c33-4f18-4e5f-8585-25fed03c575c\",\"type\":\"BoxAnnotation\"},{\"attributes\":{},\"id\":\"16dcc228-a696-4ed9-b227-5600792d8565\",\"type\":\"UnionRenderers\"},{\"attributes\":{},\"id\":\"f7df6106-6cad-4992-b1f3-43787c8fb6db\",\"type\":\"ResetTool\"},{\"attributes\":{\"callback\":null},\"id\":\"c9597082-6b09-4ff2-b7e5-bdefd98b5a86\",\"type\":\"DataRange1d\"},{\"attributes\":{\"callback\":null,\"data\":{\"band\":[\"1\",\"2\",\"3\",\"4\",\"5\",\"6\",\"7\",\"8\",\"9\",\"10\",\"11\"],\"flux\":{\"__ndarray__\":\"ACeD5QDI+z8QFOx9srMBQOCl4L5Ih+m/AEgw7Ghw3D8IK/ts7BsPwNxjM9ExgzDA0HN2+IxQHsBWnUgPx4MPwIAUNsmwhsw/0Ozo7w2U/j+wHOp8GiWdvw==\",\"dtype\":\"float64\",\"shape\":[11]}},\"selected\":{\"id\":\"1d0b1dab-aa5b-4a90-96c9-6362a5620739\",\"type\":\"Selection\"},\"selection_policy\":{\"id\":\"2ab99b5f-d348-49a3-9235-810fe6eb8b06\",\"type\":\"UnionRenderers\"}},\"id\":\"35ac2e9d-8c53-474c-a04f-ea33fcb57bc7\",\"type\":\"ColumnDataSource\"},{\"attributes\":{\"plot\":null,\"text\":\"TOA flux. CLIRAD (single-run) - CRD.\"},\"id\":\"16033ad9-b28b-4032-adc7-4a9c9b4fe341\",\"type\":\"Title\"},{\"attributes\":{\"callback\":null,\"factors\":[\"1\",\"2\",\"3\",\"4\",\"5\",\"6\",\"7\",\"8\",\"9\",\"10\",\"11\"]},\"id\":\"609b543b-b273-459f-a9ed-6deec3d4cf31\",\"type\":\"FactorRange\"},{\"attributes\":{\"fill_alpha\":{\"value\":0.1},\"fill_color\":{\"value\":\"#1f77b4\"},\"line_alpha\":{\"value\":0.1},\"line_color\":{\"value\":\"#1f77b4\"},\"top\":{\"field\":\"flux\"},\"width\":{\"value\":0.9},\"x\":{\"field\":\"band\"}},\"id\":\"f4d37d2e-32ef-46aa-9f65-dc6ebefc8343\",\"type\":\"VBar\"},{\"attributes\":{\"axis_label\":\"flux (W m-2)\",\"formatter\":{\"id\":\"ef3606c2-c4e9-4281-ac04-6b73b627f3aa\",\"type\":\"BasicTickFormatter\"},\"plot\":{\"id\":\"fdc425c3-cf3e-4bf8-95d5-59f8bea8007a\",\"subtype\":\"Figure\",\"type\":\"Plot\"},\"ticker\":{\"id\":\"d718183c-b80f-4d0a-a159-9f908617b8f3\",\"type\":\"BasicTicker\"}},\"id\":\"84d2e657-1acf-4db6-99f3-b30e214771c2\",\"type\":\"LinearAxis\"},{\"attributes\":{\"axis_label\":\"spectral band\",\"formatter\":{\"id\":\"d2a76087-b46a-413c-959b-12b52786cbe1\",\"type\":\"CategoricalTickFormatter\"},\"plot\":{\"id\":\"a99f9218-bcf0-4c35-bfd5-01aada24bc51\",\"subtype\":\"Figure\",\"type\":\"Plot\"},\"ticker\":{\"id\":\"4335f9b4-0cbf-4146-8af2-c8d11151f2be\",\"type\":\"CategoricalTicker\"}},\"id\":\"0865e03b-167a-4443-877b-f40b795f6328\",\"type\":\"CategoricalAxis\"},{\"attributes\":{\"below\":[{\"id\":\"ae89db68-0984-430f-ad06-df4985a04412\",\"type\":\"CategoricalAxis\"}],\"left\":[{\"id\":\"84d2e657-1acf-4db6-99f3-b30e214771c2\",\"type\":\"LinearAxis\"}],\"plot_height\":300,\"plot_width\":300,\"renderers\":[{\"id\":\"ae89db68-0984-430f-ad06-df4985a04412\",\"type\":\"CategoricalAxis\"},{\"id\":\"8a44f61f-285b-444d-90fe-2ed83171f327\",\"type\":\"Grid\"},{\"id\":\"84d2e657-1acf-4db6-99f3-b30e214771c2\",\"type\":\"LinearAxis\"},{\"id\":\"72e400f5-de23-42ac-8f34-5999bb8f818c\",\"type\":\"Grid\"},{\"id\":\"57b97c7a-f625-4788-82c9-8fde5628be9b\",\"type\":\"BoxAnnotation\"},{\"id\":\"7e379061-fa1e-4c02-8e81-18806df770ed\",\"type\":\"GlyphRenderer\"}],\"title\":{\"id\":\"16033ad9-b28b-4032-adc7-4a9c9b4fe341\",\"type\":\"Title\"},\"toolbar\":{\"id\":\"fc1a57ea-1f13-4ce1-8898-6ca2642cd1ab\",\"type\":\"Toolbar\"},\"toolbar_location\":null,\"x_range\":{\"id\":\"609b543b-b273-459f-a9ed-6deec3d4cf31\",\"type\":\"FactorRange\"},\"x_scale\":{\"id\":\"dee13c80-1e03-4941-9cef-48d6df63ec55\",\"type\":\"CategoricalScale\"},\"y_range\":{\"id\":\"c9597082-6b09-4ff2-b7e5-bdefd98b5a86\",\"type\":\"DataRange1d\"},\"y_scale\":{\"id\":\"b7b6acd0-94da-47b4-86ce-eaad704066e3\",\"type\":\"LinearScale\"}},\"id\":\"fdc425c3-cf3e-4bf8-95d5-59f8bea8007a\",\"subtype\":\"Figure\",\"type\":\"Plot\"},{\"attributes\":{},\"id\":\"ed462aec-aa0a-4148-bfab-63fc2677444a\",\"type\":\"PanTool\"},{\"attributes\":{\"fill_alpha\":{\"value\":0.1},\"fill_color\":{\"value\":\"#1f77b4\"},\"line_alpha\":{\"value\":0.1},\"line_color\":{\"value\":\"#1f77b4\"},\"top\":{\"field\":\"flux\"},\"width\":{\"value\":0.9},\"x\":{\"field\":\"band\"}},\"id\":\"bc83e88d-b64d-4b6a-986b-3dea0c0dca0d\",\"type\":\"VBar\"},{\"attributes\":{},\"id\":\"235c0659-6b3a-4a18-bdd5-1f85348e9668\",\"type\":\"ResetTool\"},{\"attributes\":{},\"id\":\"9efd6e40-c8d6-4b5a-a5ea-8c615ea20e0b\",\"type\":\"BasicTicker\"},{\"attributes\":{\"fill_alpha\":{\"value\":0.1},\"fill_color\":{\"value\":\"#1f77b4\"},\"line_alpha\":{\"value\":0.1},\"line_color\":{\"value\":\"#1f77b4\"},\"top\":{\"field\":\"flux\"},\"width\":{\"value\":0.9},\"x\":{\"field\":\"band\"}},\"id\":\"95c45b72-839e-4878-9ecb-dc631159e8ed\",\"type\":\"VBar\"},{\"attributes\":{\"overlay\":{\"id\":\"07993c33-4f18-4e5f-8585-25fed03c575c\",\"type\":\"BoxAnnotation\"}},\"id\":\"3bc6fcbb-31db-4eeb-bc98-861bb53c1782\",\"type\":\"BoxZoomTool\"},{\"attributes\":{\"fill_color\":{\"value\":\"#1f77b4\"},\"line_color\":{\"value\":\"#1f77b4\"},\"top\":{\"field\":\"flux\"},\"width\":{\"value\":0.9},\"x\":{\"field\":\"band\"}},\"id\":\"49f17019-3d7d-4e47-afe1-cf3707333d22\",\"type\":\"VBar\"},{\"attributes\":{\"fill_color\":{\"value\":\"#1f77b4\"},\"line_color\":{\"value\":\"#1f77b4\"},\"top\":{\"field\":\"flux\"},\"width\":{\"value\":0.9},\"x\":{\"field\":\"band\"}},\"id\":\"ffd77a7b-5196-46bc-b4d4-9659ac67cb9b\",\"type\":\"VBar\"},{\"attributes\":{\"children\":[{\"id\":\"fdc425c3-cf3e-4bf8-95d5-59f8bea8007a\",\"subtype\":\"Figure\",\"type\":\"Plot\"},{\"id\":\"27451d95-e0ef-4c59-af12-2ee0e2ea8c7f\",\"subtype\":\"Figure\",\"type\":\"Plot\"},{\"id\":\"a99f9218-bcf0-4c35-bfd5-01aada24bc51\",\"subtype\":\"Figure\",\"type\":\"Plot\"}]},\"id\":\"7200a30b-1dc1-48bb-b05f-0bc64a9b3887\",\"type\":\"Row\"},{\"attributes\":{\"children\":[{\"id\":\"dfc25917-f40c-40fe-90f8-553ef09ae74f\",\"type\":\"ToolbarBox\"},{\"id\":\"53bf9268-70ff-450d-81a7-827c36b00cb7\",\"type\":\"Column\"}]},\"id\":\"1a8fcb31-0ce7-4d80-be77-b3928b263f0b\",\"type\":\"Column\"},{\"attributes\":{},\"id\":\"af72a821-66db-42b6-ad6f-e6f54a307969\",\"type\":\"CategoricalTickFormatter\"},{\"attributes\":{},\"id\":\"d8015dbf-92d3-4ea6-b9b0-5a7a6d6dd512\",\"type\":\"SaveTool\"},{\"attributes\":{},\"id\":\"a6b18869-f159-429d-9574-cd02c89fe3e1\",\"type\":\"CategoricalScale\"},{\"attributes\":{},\"id\":\"abd17659-07c1-46b0-8d3f-b401f9de8918\",\"type\":\"HelpTool\"},{\"attributes\":{\"dimension\":1,\"plot\":{\"id\":\"27451d95-e0ef-4c59-af12-2ee0e2ea8c7f\",\"subtype\":\"Figure\",\"type\":\"Plot\"},\"ticker\":{\"id\":\"e7a253b5-c549-4cc3-a488-541754a01d2c\",\"type\":\"BasicTicker\"}},\"id\":\"25381610-9f0f-4abd-abb4-82b5ee71dcb8\",\"type\":\"Grid\"},{\"attributes\":{},\"id\":\"4335f9b4-0cbf-4146-8af2-c8d11151f2be\",\"type\":\"CategoricalTicker\"},{\"attributes\":{},\"id\":\"75325321-204c-46a5-8a38-49855646fb81\",\"type\":\"WheelZoomTool\"},{\"attributes\":{\"callback\":null},\"id\":\"bd8b1530-9a7f-4ee4-bd2b-0ababc478ae7\",\"type\":\"DataRange1d\"},{\"attributes\":{},\"id\":\"c721fdf3-094e-4430-b2a1-a4da934f28fe\",\"type\":\"HelpTool\"},{\"attributes\":{\"plot\":{\"id\":\"a99f9218-bcf0-4c35-bfd5-01aada24bc51\",\"subtype\":\"Figure\",\"type\":\"Plot\"},\"ticker\":{\"id\":\"4335f9b4-0cbf-4146-8af2-c8d11151f2be\",\"type\":\"CategoricalTicker\"}},\"id\":\"069bc5c2-876a-4d9a-a84e-6c7d76e3731e\",\"type\":\"Grid\"},{\"attributes\":{\"active_drag\":\"auto\",\"active_inspect\":\"auto\",\"active_scroll\":\"auto\",\"active_tap\":\"auto\",\"tools\":[{\"id\":\"ffc958b0-6ab2-4e5f-ad11-ce557b04397b\",\"type\":\"PanTool\"},{\"id\":\"75325321-204c-46a5-8a38-49855646fb81\",\"type\":\"WheelZoomTool\"},{\"id\":\"e5c7b558-bc36-494c-92c7-60dba64909f9\",\"type\":\"BoxZoomTool\"},{\"id\":\"a6c564d9-b387-4bd8-8881-b6fd15168515\",\"type\":\"SaveTool\"},{\"id\":\"235c0659-6b3a-4a18-bdd5-1f85348e9668\",\"type\":\"ResetTool\"},{\"id\":\"c721fdf3-094e-4430-b2a1-a4da934f28fe\",\"type\":\"HelpTool\"}]},\"id\":\"0d84cfa9-2d89-49ca-967c-46613d2a9a0e\",\"type\":\"Toolbar\"},{\"attributes\":{\"plot\":{\"id\":\"27451d95-e0ef-4c59-af12-2ee0e2ea8c7f\",\"subtype\":\"Figure\",\"type\":\"Plot\"},\"ticker\":{\"id\":\"ec021c6d-eead-445b-ade6-208e3de337e7\",\"type\":\"CategoricalTicker\"}},\"id\":\"e519a5d2-ae1c-4c2a-9f16-2ff62f1f9edf\",\"type\":\"Grid\"},{\"attributes\":{\"axis_label\":\"flux (W m-2)\",\"formatter\":{\"id\":\"8b50a644-0b3f-43af-b539-ec567b46bc29\",\"type\":\"BasicTickFormatter\"},\"plot\":{\"id\":\"a99f9218-bcf0-4c35-bfd5-01aada24bc51\",\"subtype\":\"Figure\",\"type\":\"Plot\"},\"ticker\":{\"id\":\"9efd6e40-c8d6-4b5a-a5ea-8c615ea20e0b\",\"type\":\"BasicTicker\"}},\"id\":\"8ecfe2a1-97e2-451f-be47-bb1b3f99f9df\",\"type\":\"LinearAxis\"},{\"attributes\":{\"callback\":null,\"factors\":[\"1\",\"2\",\"3\",\"4\",\"5\",\"6\",\"7\",\"8\",\"9\",\"10\",\"11\"]},\"id\":\"99b305e6-8a06-4a64-bf4e-4b6c0e675f1b\",\"type\":\"FactorRange\"},{\"attributes\":{},\"id\":\"2ab99b5f-d348-49a3-9235-810fe6eb8b06\",\"type\":\"UnionRenderers\"},{\"attributes\":{},\"id\":\"805e8526-1edd-4116-b440-b31f69c79606\",\"type\":\"LinearScale\"},{\"attributes\":{},\"id\":\"a7b163ce-ca56-4bad-92fa-22b0d6da67a8\",\"type\":\"WheelZoomTool\"},{\"attributes\":{},\"id\":\"1d0b1dab-aa5b-4a90-96c9-6362a5620739\",\"type\":\"Selection\"},{\"attributes\":{\"axis_label\":\"flux (W m-2)\",\"formatter\":{\"id\":\"dd79d7aa-1f1c-4efe-9f14-b67905e9a6a8\",\"type\":\"BasicTickFormatter\"},\"plot\":{\"id\":\"27451d95-e0ef-4c59-af12-2ee0e2ea8c7f\",\"subtype\":\"Figure\",\"type\":\"Plot\"},\"ticker\":{\"id\":\"e7a253b5-c549-4cc3-a488-541754a01d2c\",\"type\":\"BasicTicker\"}},\"id\":\"e0acab81-2d7d-4bc9-bf76-8ae9aca5c76b\",\"type\":\"LinearAxis\"},{\"attributes\":{},\"id\":\"c663e4fc-fd90-4d75-a878-fa07e537f053\",\"type\":\"Selection\"},{\"attributes\":{\"active_drag\":\"auto\",\"active_inspect\":\"auto\",\"active_scroll\":\"auto\",\"active_tap\":\"auto\",\"tools\":[{\"id\":\"ed462aec-aa0a-4148-bfab-63fc2677444a\",\"type\":\"PanTool\"},{\"id\":\"a7b163ce-ca56-4bad-92fa-22b0d6da67a8\",\"type\":\"WheelZoomTool\"},{\"id\":\"3bc6fcbb-31db-4eeb-bc98-861bb53c1782\",\"type\":\"BoxZoomTool\"},{\"id\":\"d8015dbf-92d3-4ea6-b9b0-5a7a6d6dd512\",\"type\":\"SaveTool\"},{\"id\":\"78b2863f-a618-4c61-8eb8-d3343e2a8fe7\",\"type\":\"ResetTool\"},{\"id\":\"abd17659-07c1-46b0-8d3f-b401f9de8918\",\"type\":\"HelpTool\"}]},\"id\":\"58e900dd-3973-4e6b-887f-aacad263f6bd\",\"type\":\"Toolbar\"},{\"attributes\":{\"callback\":null,\"factors\":[\"1\",\"2\",\"3\",\"4\",\"5\",\"6\",\"7\",\"8\",\"9\",\"10\",\"11\"]},\"id\":\"2b265e59-dce3-408a-a3f4-9f6b428e774f\",\"type\":\"FactorRange\"},{\"attributes\":{},\"id\":\"da94c3be-7bfd-4061-977d-12ee3ab75976\",\"type\":\"Selection\"},{\"attributes\":{},\"id\":\"31b2b947-249a-474b-9ac1-5f383b766135\",\"type\":\"CategoricalTickFormatter\"},{\"attributes\":{\"data_source\":{\"id\":\"35ac2e9d-8c53-474c-a04f-ea33fcb57bc7\",\"type\":\"ColumnDataSource\"},\"glyph\":{\"id\":\"ffd77a7b-5196-46bc-b4d4-9659ac67cb9b\",\"type\":\"VBar\"},\"hover_glyph\":null,\"muted_glyph\":null,\"nonselection_glyph\":{\"id\":\"95c45b72-839e-4878-9ecb-dc631159e8ed\",\"type\":\"VBar\"},\"selection_glyph\":null,\"view\":{\"id\":\"c9436c83-f23b-47f5-b5e1-48e998193e97\",\"type\":\"CDSView\"}},\"id\":\"aa79ee35-0f32-462b-b037-fa94bf6d7c8a\",\"type\":\"GlyphRenderer\"},{\"attributes\":{},\"id\":\"8b50a644-0b3f-43af-b539-ec567b46bc29\",\"type\":\"BasicTickFormatter\"},{\"attributes\":{\"tools\":[{\"id\":\"47c118c9-ea3e-4130-ae8d-652c21ba631e\",\"type\":\"PanTool\"},{\"id\":\"74d09b4b-830c-47fb-8081-30e6d18842c8\",\"type\":\"WheelZoomTool\"},{\"id\":\"49185836-b740-4034-88ae-7ba4e10d728b\",\"type\":\"BoxZoomTool\"},{\"id\":\"f57578dd-1df0-4471-8950-2c2df552e4e6\",\"type\":\"SaveTool\"},{\"id\":\"f7df6106-6cad-4992-b1f3-43787c8fb6db\",\"type\":\"ResetTool\"},{\"id\":\"4ad03903-0bdf-4ceb-b072-8ee912d3f066\",\"type\":\"HelpTool\"},{\"id\":\"ed462aec-aa0a-4148-bfab-63fc2677444a\",\"type\":\"PanTool\"},{\"id\":\"a7b163ce-ca56-4bad-92fa-22b0d6da67a8\",\"type\":\"WheelZoomTool\"},{\"id\":\"3bc6fcbb-31db-4eeb-bc98-861bb53c1782\",\"type\":\"BoxZoomTool\"},{\"id\":\"d8015dbf-92d3-4ea6-b9b0-5a7a6d6dd512\",\"type\":\"SaveTool\"},{\"id\":\"78b2863f-a618-4c61-8eb8-d3343e2a8fe7\",\"type\":\"ResetTool\"},{\"id\":\"abd17659-07c1-46b0-8d3f-b401f9de8918\",\"type\":\"HelpTool\"},{\"id\":\"ffc958b0-6ab2-4e5f-ad11-ce557b04397b\",\"type\":\"PanTool\"},{\"id\":\"75325321-204c-46a5-8a38-49855646fb81\",\"type\":\"WheelZoomTool\"},{\"id\":\"e5c7b558-bc36-494c-92c7-60dba64909f9\",\"type\":\"BoxZoomTool\"},{\"id\":\"a6c564d9-b387-4bd8-8881-b6fd15168515\",\"type\":\"SaveTool\"},{\"id\":\"235c0659-6b3a-4a18-bdd5-1f85348e9668\",\"type\":\"ResetTool\"},{\"id\":\"c721fdf3-094e-4430-b2a1-a4da934f28fe\",\"type\":\"HelpTool\"}]},\"id\":\"d80f37c0-88ea-4911-bb92-73fbd4a69f7c\",\"type\":\"ProxyToolbar\"},{\"attributes\":{\"below\":[{\"id\":\"c39d1199-a1e2-4167-8129-94abbbd49587\",\"type\":\"CategoricalAxis\"}],\"left\":[{\"id\":\"e0acab81-2d7d-4bc9-bf76-8ae9aca5c76b\",\"type\":\"LinearAxis\"}],\"plot_height\":300,\"plot_width\":300,\"renderers\":[{\"id\":\"c39d1199-a1e2-4167-8129-94abbbd49587\",\"type\":\"CategoricalAxis\"},{\"id\":\"e519a5d2-ae1c-4c2a-9f16-2ff62f1f9edf\",\"type\":\"Grid\"},{\"id\":\"e0acab81-2d7d-4bc9-bf76-8ae9aca5c76b\",\"type\":\"LinearAxis\"},{\"id\":\"25381610-9f0f-4abd-abb4-82b5ee71dcb8\",\"type\":\"Grid\"},{\"id\":\"07993c33-4f18-4e5f-8585-25fed03c575c\",\"type\":\"BoxAnnotation\"},{\"id\":\"c6a10780-c958-4dc6-802c-4228791c94fd\",\"type\":\"GlyphRenderer\"}],\"title\":{\"id\":\"dc7e2ca4-0d32-48f3-b451-dd7568b8ef4a\",\"type\":\"Title\"},\"toolbar\":{\"id\":\"58e900dd-3973-4e6b-887f-aacad263f6bd\",\"type\":\"Toolbar\"},\"toolbar_location\":null,\"x_range\":{\"id\":\"99b305e6-8a06-4a64-bf4e-4b6c0e675f1b\",\"type\":\"FactorRange\"},\"x_scale\":{\"id\":\"a6b18869-f159-429d-9574-cd02c89fe3e1\",\"type\":\"CategoricalScale\"},\"y_range\":{\"id\":\"d553f729-6519-45bb-af42-fff6bbf2fac7\",\"type\":\"DataRange1d\"},\"y_scale\":{\"id\":\"805e8526-1edd-4116-b440-b31f69c79606\",\"type\":\"LinearScale\"}},\"id\":\"27451d95-e0ef-4c59-af12-2ee0e2ea8c7f\",\"subtype\":\"Figure\",\"type\":\"Plot\"},{\"attributes\":{},\"id\":\"ee671ac7-0498-4fdb-bd16-c116b1c2bc68\",\"type\":\"LinearScale\"},{\"attributes\":{},\"id\":\"a6c564d9-b387-4bd8-8881-b6fd15168515\",\"type\":\"SaveTool\"},{\"attributes\":{},\"id\":\"ef3606c2-c4e9-4281-ac04-6b73b627f3aa\",\"type\":\"BasicTickFormatter\"},{\"attributes\":{},\"id\":\"fbfaa5ed-1f18-4aed-8d0f-33e361863cbd\",\"type\":\"UnionRenderers\"},{\"attributes\":{\"children\":[{\"id\":\"7200a30b-1dc1-48bb-b05f-0bc64a9b3887\",\"type\":\"Row\"}]},\"id\":\"53bf9268-70ff-450d-81a7-827c36b00cb7\",\"type\":\"Column\"},{\"attributes\":{\"source\":{\"id\":\"35ac2e9d-8c53-474c-a04f-ea33fcb57bc7\",\"type\":\"ColumnDataSource\"}},\"id\":\"c9436c83-f23b-47f5-b5e1-48e998193e97\",\"type\":\"CDSView\"},{\"attributes\":{\"toolbar\":{\"id\":\"d80f37c0-88ea-4911-bb92-73fbd4a69f7c\",\"type\":\"ProxyToolbar\"},\"toolbar_location\":\"above\"},\"id\":\"dfc25917-f40c-40fe-90f8-553ef09ae74f\",\"type\":\"ToolbarBox\"},{\"attributes\":{\"callback\":null},\"id\":\"d553f729-6519-45bb-af42-fff6bbf2fac7\",\"type\":\"DataRange1d\"},{\"attributes\":{},\"id\":\"78b2863f-a618-4c61-8eb8-d3343e2a8fe7\",\"type\":\"ResetTool\"},{\"attributes\":{\"overlay\":{\"id\":\"6f2377ab-e4ba-4f95-9a20-fa687f91e959\",\"type\":\"BoxAnnotation\"}},\"id\":\"e5c7b558-bc36-494c-92c7-60dba64909f9\",\"type\":\"BoxZoomTool\"},{\"attributes\":{\"bottom_units\":\"screen\",\"fill_alpha\":{\"value\":0.5},\"fill_color\":{\"value\":\"lightgrey\"},\"left_units\":\"screen\",\"level\":\"overlay\",\"line_alpha\":{\"value\":1.0},\"line_color\":{\"value\":\"black\"},\"line_dash\":[4,4],\"line_width\":{\"value\":2},\"plot\":null,\"render_mode\":\"css\",\"right_units\":\"screen\",\"top_units\":\"screen\"},\"id\":\"6f2377ab-e4ba-4f95-9a20-fa687f91e959\",\"type\":\"BoxAnnotation\"},{\"attributes\":{},\"id\":\"e7a253b5-c549-4cc3-a488-541754a01d2c\",\"type\":\"BasicTicker\"},{\"attributes\":{},\"id\":\"ffc958b0-6ab2-4e5f-ad11-ce557b04397b\",\"type\":\"PanTool\"},{\"attributes\":{\"plot\":null,\"text\":\"SFC flux. CLIRAD (single-run) - CRD.\"},\"id\":\"dc7e2ca4-0d32-48f3-b451-dd7568b8ef4a\",\"type\":\"Title\"},{\"attributes\":{},\"id\":\"ec021c6d-eead-445b-ade6-208e3de337e7\",\"type\":\"CategoricalTicker\"},{\"attributes\":{\"axis_label\":\"spectral band\",\"formatter\":{\"id\":\"31b2b947-249a-474b-9ac1-5f383b766135\",\"type\":\"CategoricalTickFormatter\"},\"plot\":{\"id\":\"27451d95-e0ef-4c59-af12-2ee0e2ea8c7f\",\"subtype\":\"Figure\",\"type\":\"Plot\"},\"ticker\":{\"id\":\"ec021c6d-eead-445b-ade6-208e3de337e7\",\"type\":\"CategoricalTicker\"}},\"id\":\"c39d1199-a1e2-4167-8129-94abbbd49587\",\"type\":\"CategoricalAxis\"},{\"attributes\":{},\"id\":\"fda8f778-4d32-4e66-9bab-c8458c8998ef\",\"type\":\"CategoricalScale\"},{\"attributes\":{\"callback\":null,\"data\":{\"band\":[\"1\",\"2\",\"3\",\"4\",\"5\",\"6\",\"7\",\"8\",\"9\",\"10\",\"11\"],\"flux\":{\"__ndarray__\":\"AEDpRe1+Zb/gnbXbLgwkQPy+uFSlTRlAAIvCLooeuD9IBm/+FYwkQLyfCQOFaEBA3khFCDSlKECSblNVy7QjQBSr9TQWswpAAJI+raI/yD8UWGN9wVbsPw==\",\"dtype\":\"float64\",\"shape\":[11]}},\"selected\":{\"id\":\"da94c3be-7bfd-4061-977d-12ee3ab75976\",\"type\":\"Selection\"},\"selection_policy\":{\"id\":\"16dcc228-a696-4ed9-b227-5600792d8565\",\"type\":\"UnionRenderers\"}},\"id\":\"d8e4e3dc-2725-49de-8b50-8d77bfb22cb5\",\"type\":\"ColumnDataSource\"},{\"attributes\":{},\"id\":\"d2a76087-b46a-413c-959b-12b52786cbe1\",\"type\":\"CategoricalTickFormatter\"},{\"attributes\":{},\"id\":\"dd79d7aa-1f1c-4efe-9f14-b67905e9a6a8\",\"type\":\"BasicTickFormatter\"},{\"attributes\":{\"dimension\":1,\"plot\":{\"id\":\"a99f9218-bcf0-4c35-bfd5-01aada24bc51\",\"subtype\":\"Figure\",\"type\":\"Plot\"},\"ticker\":{\"id\":\"9efd6e40-c8d6-4b5a-a5ea-8c615ea20e0b\",\"type\":\"BasicTicker\"}},\"id\":\"e5b79a8f-98ba-4f25-b63e-5dce3d1f2679\",\"type\":\"Grid\"}],\"root_ids\":[\"1a8fcb31-0ce7-4d80-be77-b3928b263f0b\"]},\"title\":\"Bokeh Application\",\"version\":\"0.12.16\"}};\n",
       "  var render_items = [{\"docid\":\"d9437c21-b344-46b4-b4dd-c849556f1e53\",\"elementid\":\"d1e94aea-17d2-46e4-9a49-cb62f50fa67a\",\"modelid\":\"1a8fcb31-0ce7-4d80-be77-b3928b263f0b\"}];\n",
       "  root.Bokeh.embed.embed_items_notebook(docs_json, render_items);\n",
       "\n",
       "  }\n",
       "  if (root.Bokeh !== undefined) {\n",
       "    embed_document(root);\n",
       "  } else {\n",
       "    var attempts = 0;\n",
       "    var timer = setInterval(function(root) {\n",
       "      if (root.Bokeh !== undefined) {\n",
       "        embed_document(root);\n",
       "        clearInterval(timer);\n",
       "      }\n",
       "      attempts++;\n",
       "      if (attempts > 100) {\n",
       "        console.log(\"Bokeh: ERROR: Unable to run BokehJS code because BokehJS library is missing\")\n",
       "        clearInterval(timer);\n",
       "      }\n",
       "    }, 10, root)\n",
       "  }\n",
       "})(window);"
      ],
      "application/vnd.bokehjs_exec.v0+json": ""
     },
     "metadata": {
      "application/vnd.bokehjs_exec.v0+json": {
       "id": "1a8fcb31-0ce7-4d80-be77-b3928b263f0b"
      }
     },
     "output_type": "display_data"
    },
    {
     "data": {
      "text/markdown": [
       "*FIGURE.* Difference between CLIRAD and CRD in TOA, SFC and net atmosphere flux, in each spectral band."
      ],
      "text/plain": [
       "<IPython.core.display.Markdown object>"
      ]
     },
     "metadata": {},
     "output_type": "display_data"
    },
    {
     "data": {
      "text/html": [
       "<div>\n",
       "<style scoped>\n",
       "    .dataframe tbody tr th:only-of-type {\n",
       "        vertical-align: middle;\n",
       "    }\n",
       "\n",
       "    .dataframe tbody tr th {\n",
       "        vertical-align: top;\n",
       "    }\n",
       "\n",
       "    .dataframe thead th {\n",
       "        text-align: right;\n",
       "    }\n",
       "</style>\n",
       "<table border=\"1\" class=\"dataframe\">\n",
       "  <thead>\n",
       "    <tr style=\"text-align: right;\">\n",
       "      <th></th>\n",
       "      <th>OLR flux</th>\n",
       "      <th>SFC flux</th>\n",
       "      <th>ATM heating</th>\n",
       "    </tr>\n",
       "    <tr>\n",
       "      <th>Sum over bands</th>\n",
       "      <th></th>\n",
       "      <th></th>\n",
       "      <th></th>\n",
       "    </tr>\n",
       "  </thead>\n",
       "  <tbody>\n",
       "    <tr>\n",
       "      <th>CLIRAD (single-run) - CRD</th>\n",
       "      <td>59.90</td>\n",
       "      <td>86.12</td>\n",
       "      <td>-26.22</td>\n",
       "    </tr>\n",
       "    <tr>\n",
       "      <th>CRD</th>\n",
       "      <td>-201.06</td>\n",
       "      <td>166.03</td>\n",
       "      <td>-119.67</td>\n",
       "    </tr>\n",
       "  </tbody>\n",
       "</table>\n",
       "</div>"
      ],
      "text/plain": [
       "                           OLR flux  SFC flux  ATM heating\n",
       "Sum over bands                                            \n",
       "CLIRAD (single-run) - CRD     59.90     86.12       -26.22\n",
       "CRD                         -201.06    166.03      -119.67"
      ]
     },
     "metadata": {},
     "output_type": "display_data"
    },
    {
     "data": {
      "text/markdown": [
       "*TABLE.* Difference between CLIRAD and CRD in TOA, SFC and net atmosphere flux, over all spectral bands. CRD's TOA, SFC and net atmosphere flux, over all spectral bands."
      ],
      "text/plain": [
       "<IPython.core.display.Markdown object>"
      ]
     },
     "metadata": {},
     "output_type": "display_data"
    },
    {
     "data": {
      "text/html": [
       "<a id=\"Cooling_rates._trp.\"></a>"
      ],
      "text/plain": [
       "<IPython.core.display.HTML object>"
      ]
     },
     "metadata": {},
     "output_type": "display_data"
    },
    {
     "data": {
      "text/markdown": [
       "# Cooling rates. trp."
      ],
      "text/plain": [
       "<IPython.core.display.Markdown object>"
      ]
     },
     "metadata": {},
     "output_type": "display_data"
    },
    {
     "data": {
      "text/html": [
       "\n",
       "<div class=\"bk-root\">\n",
       "    <div class=\"bk-plotdiv\" id=\"aabe745e-268f-4042-b4c2-b908dbe69d76\"></div>\n",
       "</div>"
      ]
     },
     "metadata": {},
     "output_type": "display_data"
    },
    {
     "data": {
      "application/javascript": [
       "(function(root) {\n",
       "  function embed_document(root) {\n",
       "    \n",
       "  var docs_json = {\"b6002b17-a11a-4667-bc89-4376aab1dbfb\":{\"roots\":{\"references\":[{\"attributes\":{},\"id\":\"b059cafe-606e-4b81-ad6c-86ea70d19148\",\"type\":\"Selection\"},{\"attributes\":{\"callback\":null,\"end\":0.01,\"start\":1020},\"id\":\"66152777-771f-4c3c-9299-d56b94013be7\",\"type\":\"Range1d\"},{\"attributes\":{\"axis_label\":\"pressure [mb]\",\"formatter\":{\"id\":\"c3c744e7-d5e4-421e-b3fd-2a44a81f0a35\",\"type\":\"LogTickFormatter\"},\"plot\":{\"id\":\"317ad3a8-eb37-4002-9415-08189ece0f8e\",\"subtype\":\"Figure\",\"type\":\"Plot\"},\"ticker\":{\"id\":\"36627497-6a4a-4681-83c6-04f097cb762b\",\"type\":\"LogTicker\"}},\"id\":\"4cc93017-ef8c-4cc4-b4ff-9074ebbf02f8\",\"type\":\"LogAxis\"},{\"attributes\":{},\"id\":\"017d6fc8-984b-4049-a382-4674d0a4e8e9\",\"type\":\"BasicTickFormatter\"},{\"attributes\":{},\"id\":\"9f50868a-bf2a-4ca2-9276-987f6bf15152\",\"type\":\"UnionRenderers\"},{\"attributes\":{\"plot\":{\"id\":\"317ad3a8-eb37-4002-9415-08189ece0f8e\",\"subtype\":\"Figure\",\"type\":\"Plot\"},\"ticker\":{\"id\":\"fa837153-7178-4cd0-9c60-74d3fdd082f1\",\"type\":\"BasicTicker\"}},\"id\":\"23e44bda-768e-4b39-9eb6-8fe99a5791cf\",\"type\":\"Grid\"},{\"attributes\":{},\"id\":\"cda346c7-0b27-4758-80e5-baa124b94de0\",\"type\":\"SaveTool\"},{\"attributes\":{},\"id\":\"fa837153-7178-4cd0-9c60-74d3fdd082f1\",\"type\":\"BasicTicker\"},{\"attributes\":{},\"id\":\"4da102e1-16ee-47f0-a70f-9211f13bb061\",\"type\":\"WheelZoomTool\"},{\"attributes\":{},\"id\":\"0074e174-5078-4b80-818c-9a9ca0aec6c6\",\"type\":\"Selection\"},{\"attributes\":{},\"id\":\"4e9b7bdd-1205-4241-a18b-5429bfd028f9\",\"type\":\"UnionRenderers\"},{\"attributes\":{\"line_alpha\":0.6,\"line_color\":\"#377eb8\",\"line_dash\":[6],\"line_width\":5,\"x\":{\"field\":\"x\"},\"y\":{\"field\":\"y\"}},\"id\":\"4d00d043-b0fb-4405-b099-eccf10e84b89\",\"type\":\"Line\"},{\"attributes\":{\"num_minor_ticks\":10},\"id\":\"36627497-6a4a-4681-83c6-04f097cb762b\",\"type\":\"LogTicker\"},{\"attributes\":{},\"id\":\"7ce842a8-f0b9-4784-8ebf-a2a14da9b728\",\"type\":\"Selection\"},{\"attributes\":{\"axis_label\":\"cooling rate [K/day]\",\"formatter\":{\"id\":\"510aab17-b80f-4aea-9887-65c7e525a32b\",\"type\":\"BasicTickFormatter\"},\"plot\":{\"id\":\"317ad3a8-eb37-4002-9415-08189ece0f8e\",\"subtype\":\"Figure\",\"type\":\"Plot\"},\"ticker\":{\"id\":\"fa837153-7178-4cd0-9c60-74d3fdd082f1\",\"type\":\"BasicTicker\"}},\"id\":\"642e6eaa-ecf6-4caa-8d1e-222f51ac608c\",\"type\":\"LinearAxis\"},{\"attributes\":{},\"id\":\"9e190db8-f6e3-47ea-91ba-3c315743b687\",\"type\":\"Selection\"},{\"attributes\":{\"items\":[{\"id\":\"68b06ef1-1cf2-4d2c-94d7-b67120c63658\",\"type\":\"LegendItem\"},{\"id\":\"fea0967e-b123-4a87-b8d0-1070340b315c\",\"type\":\"LegendItem\"}],\"label_text_font_size\":{\"value\":\"8pt\"},\"location\":\"top_center\",\"orientation\":\"horizontal\",\"plot\":{\"id\":\"317ad3a8-eb37-4002-9415-08189ece0f8e\",\"subtype\":\"Figure\",\"type\":\"Plot\"}},\"id\":\"1fb62052-f907-4736-98c9-3c7e537d1c02\",\"type\":\"Legend\"},{\"attributes\":{},\"id\":\"6deb9a83-b3b4-49cf-b6c5-8650cff6590d\",\"type\":\"Selection\"},{\"attributes\":{\"data_source\":{\"id\":\"1dfdd457-a56c-4689-8d46-1519423575dd\",\"type\":\"ColumnDataSource\"},\"glyph\":{\"id\":\"703df54b-0dac-44e9-9424-cc40a7f08a4a\",\"type\":\"Circle\"},\"hover_glyph\":null,\"muted_glyph\":null,\"nonselection_glyph\":{\"id\":\"983b4138-a596-43e7-afbb-62b83b00e049\",\"type\":\"Circle\"},\"selection_glyph\":null,\"view\":{\"id\":\"e1f99b10-9b4e-48da-82fb-6fac85e9ccea\",\"type\":\"CDSView\"}},\"id\":\"b072801d-17a2-4eea-a41e-1e6a8b476e56\",\"type\":\"GlyphRenderer\"},{\"attributes\":{\"ticker\":null},\"id\":\"c3c744e7-d5e4-421e-b3fd-2a44a81f0a35\",\"type\":\"LogTickFormatter\"},{\"attributes\":{},\"id\":\"71310ce3-77ae-4345-8543-e88e0eaabfef\",\"type\":\"UnionRenderers\"},{\"attributes\":{\"plot\":null,\"text\":\"\"},\"id\":\"b4fc69bb-595b-41e3-ae6c-bb793a59de62\",\"type\":\"Title\"},{\"attributes\":{\"source\":{\"id\":\"730bbe0d-77d9-4708-8745-383b82837cdc\",\"type\":\"ColumnDataSource\"}},\"id\":\"e7c46def-7122-44bb-ae77-39bbbd4fcbbf\",\"type\":\"CDSView\"},{\"attributes\":{\"callback\":null,\"data\":{\"x\":{\"__ndarray__\":\"VvpLjfH7Q8CgqqDv7X8gwLhXBTywowLANouKH6xB/D/I1NFFXUAOQLXPNeoQ4Q5AJOIB3FRnBECsw7wB1yHnP+6wnGmQvOe/Tj71Ts/59L8xru1C/Anxv4ZEquYNzd2/WclKNPt0uj8tfa1zuJTeP6s4aMuD3uE/tWrynP9E2D+wemfrTde5P1kG2fHK082/2A3/XDU/379Xg1hZ0Znev6VcQcDRJc2/EJ1ig/ZOeL+u/YwJ6fG1PxQm0wHnk7K/eosKk0LUx78nAQtScja8P0Rnl6lLGeI/mYD4779F4z9caB7oWVzZPwMN94rgJNg/ts6qffAS5T90P+txUYfoP4A4TH5HzeM/FucjfMDY2z9Bc/mh/8jYPy6YQ+oh/tI/e7LhxbxevD9uVUBwn0+hP4KPZWDLMKk/7b6sxq3urj90xDZ9XmywPzWlBsmJybM/0TGN69Hqtz+xn3VDBqjDPwn1Savkm8o/Rr99rzZcJEBvrWPC/7MbQBpOCXvzpfC/JHSFKr0wG0AgxvC7ninzv8RWO6g8FiZAX88pzK0hM8B1SE4DFuIDwPc/xjiU2AHA24P8q0hoAMCQSQMYknP+v+6s/zR2afy/PUbkOMp6+r/NLwH6qHv4v1f4pxJtbPa/N33gpBVZ9L/h81ht3Unyv3bAjGECUvC/+b3M/uAW7r9wJ/zXU+npv/rOORvweOO/YjjtXnQlKkC02hv0lPmRv1urWY2lNPO/yWGLOPh1CsDu/6sNPR/2vyXs7VgaWvO/AgWDm/uI8b9l5FUifEPwv+45CdVo+u6/\",\"dtype\":\"float64\",\"shape\":[75]},\"y\":{\"__ndarray__\":\"GhExyth1ND/Sv8nbtpRIP2vylNV0PVE/aTum7souWD/At0SJ8fVgPw3Iuahxymc/MSNhhJWvcD/bTfBN02d3P2zb5nxnaoA/CD5h5MAGhz8NmeH1TyaQP+zrCsc9p5Y/LbKd76fGnz/bLW5ISEmmPww9YvTcQq8/JV2OstnstT8Er5Y7M8G+P0c+r3jqkcU/5h99k6ZBzj88bCIzFzjVP4enV8oyxN0//yH99nXg5D8qOpLLf0jtP5kqGJXUifQ/c9cS8kHP/D+/DpwzojQEQIEmwoanVwxA4lgXt9HgE0BSSZ2AJuIbQAMJih9jjiNA5q4l5INuK0AwTKYKRj0zQNv5fmq8/DpAaCJseHrtQkB/+zpwzoxKQM3MzMzMeFJAZmZmZmZqWEAAAAAAAFxeQM3MzMzMJmJAmpmZmZkfZUBmZmZmZhhoQDMzMzMzEWtAAAAAAAAKbkBmZmZmZoFwQM3MzMzM/XFAMzMzMzN6c0CamZmZmfZ0QAAAAAAAc3ZAZmZmZmbvd0DNzMzMzGt5QDMzMzMz6HpAmpmZmZlkfEAAAAAAAOF9QGZmZmZmXX9AZmZmZuZsgECamZmZGSuBQM3MzMxM6YFAAAAAAICngkAzMzMzs2WDQGZmZmbmI4RAmpmZmRnihEDNzMzMTKCFQAAAAACAXoZAMzMzM7Mch0BmZmZm5tqHQJqZmZkZmYhAzczMzExXiUAAAAAAgBWKQDMzMzOz04pAZmZmZuaRi0CamZmZGVCMQM3MzMxMDo1AAAAAAIDMjUAzMzMzs4qOQGZmZmbmSI9A\",\"dtype\":\"float64\",\"shape\":[75]}},\"selected\":{\"id\":\"6deb9a83-b3b4-49cf-b6c5-8650cff6590d\",\"type\":\"Selection\"},\"selection_policy\":{\"id\":\"71310ce3-77ae-4345-8543-e88e0eaabfef\",\"type\":\"UnionRenderers\"}},\"id\":\"d2aad502-ce71-49ff-bfd4-0ea4c45ed9eb\",\"type\":\"ColumnDataSource\"},{\"attributes\":{\"children\":[{\"id\":\"ebca2d60-946c-4899-9032-030e10132b7e\",\"type\":\"ToolbarBox\"},{\"id\":\"e2a88c79-eeb6-4da5-9bdc-cd9656f86c06\",\"type\":\"Column\"}]},\"id\":\"2528bf98-20e9-4197-9227-eb8a3b5e138a\",\"type\":\"Column\"},{\"attributes\":{\"callback\":null,\"end\":0.01,\"start\":1020},\"id\":\"1a30f542-383a-4d5c-8f31-64f71131f296\",\"type\":\"Range1d\"},{\"attributes\":{\"callback\":null,\"end\":12.294880163328482,\"start\":-0.57559237107648},\"id\":\"4da69bde-ae6e-422f-a59f-95e1e93f240d\",\"type\":\"Range1d\"},{\"attributes\":{\"label\":{\"value\":\"CLIRAD (single-run)\"},\"renderers\":[{\"id\":\"acf9520b-e25b-454b-b189-b8cd78ca85e9\",\"type\":\"GlyphRenderer\"}]},\"id\":\"ea9d9590-7b3e-408a-a3ec-e75c211d1629\",\"type\":\"LegendItem\"},{\"attributes\":{},\"id\":\"2f750c4b-a7de-4adf-9c87-64209f6e16f5\",\"type\":\"Selection\"},{\"attributes\":{},\"id\":\"bccdbae2-18ab-45d0-88eb-a5e219da14ea\",\"type\":\"UnionRenderers\"},{\"attributes\":{},\"id\":\"adfebcd0-5d24-420f-acf7-73ede09150d1\",\"type\":\"PanTool\"},{\"attributes\":{\"above\":[{\"id\":\"1fb62052-f907-4736-98c9-3c7e537d1c02\",\"type\":\"Legend\"}],\"below\":[{\"id\":\"642e6eaa-ecf6-4caa-8d1e-222f51ac608c\",\"type\":\"LinearAxis\"}],\"left\":[{\"id\":\"4cc93017-ef8c-4cc4-b4ff-9074ebbf02f8\",\"type\":\"LogAxis\"}],\"plot_width\":300,\"renderers\":[{\"id\":\"642e6eaa-ecf6-4caa-8d1e-222f51ac608c\",\"type\":\"LinearAxis\"},{\"id\":\"23e44bda-768e-4b39-9eb6-8fe99a5791cf\",\"type\":\"Grid\"},{\"id\":\"4cc93017-ef8c-4cc4-b4ff-9074ebbf02f8\",\"type\":\"LogAxis\"},{\"id\":\"25758265-8b95-45cd-aeed-5b2685449524\",\"type\":\"Grid\"},{\"id\":\"3e98d395-fc12-475a-86f1-40695c02d95b\",\"type\":\"BoxAnnotation\"},{\"id\":\"5b208f76-9e20-44fc-9410-c2f93cdd14f1\",\"type\":\"GlyphRenderer\"},{\"id\":\"55d2eb74-d203-473c-9975-0c2f53fd2c45\",\"type\":\"GlyphRenderer\"},{\"id\":\"1ba11586-322e-48e2-9b02-3256ab81fca8\",\"type\":\"GlyphRenderer\"},{\"id\":\"1fb62052-f907-4736-98c9-3c7e537d1c02\",\"type\":\"Legend\"}],\"title\":{\"id\":\"1bc1214a-7ded-42f9-aeaa-c94dd0b707ce\",\"type\":\"Title\"},\"toolbar\":{\"id\":\"98c9544d-052d-4f7b-804b-acef6946a87e\",\"type\":\"Toolbar\"},\"toolbar_location\":null,\"x_range\":{\"id\":\"4da69bde-ae6e-422f-a59f-95e1e93f240d\",\"type\":\"Range1d\"},\"x_scale\":{\"id\":\"bddbb0a0-c36e-43c3-93a5-1f103f3c910b\",\"type\":\"LinearScale\"},\"y_range\":{\"id\":\"66152777-771f-4c3c-9299-d56b94013be7\",\"type\":\"Range1d\"},\"y_scale\":{\"id\":\"2055e05e-5ad2-4dd8-a078-ec99c29b9f98\",\"type\":\"LogScale\"}},\"id\":\"317ad3a8-eb37-4002-9415-08189ece0f8e\",\"subtype\":\"Figure\",\"type\":\"Plot\"},{\"attributes\":{},\"id\":\"510aab17-b80f-4aea-9887-65c7e525a32b\",\"type\":\"BasicTickFormatter\"},{\"attributes\":{\"callback\":null,\"data\":{\"x\":{\"__ndarray__\":\"VvpLjfH7Q8CgqqDv7X8gwLhXBTywowLANouKH6xB/D/I1NFFXUAOQLXPNeoQ4Q5AJOIB3FRnBECsw7wB1yHnP+6wnGmQvOe/Tj71Ts/59L8xru1C/Anxv4ZEquYNzd2/WclKNPt0uj8tfa1zuJTeP6s4aMuD3uE/tWrynP9E2D+wemfrTde5P1kG2fHK082/2A3/XDU/379Xg1hZ0Znev6VcQcDRJc2/EJ1ig/ZOeL+u/YwJ6fG1PxQm0wHnk7K/eosKk0LUx78nAQtScja8P0Rnl6lLGeI/mYD4779F4z9caB7oWVzZPwMN94rgJNg/ts6qffAS5T90P+txUYfoP4A4TH5HzeM/FucjfMDY2z9Bc/mh/8jYPy6YQ+oh/tI/e7LhxbxevD9uVUBwn0+hP4KPZWDLMKk/7b6sxq3urj90xDZ9XmywPzWlBsmJybM/0TGN69Hqtz+xn3VDBqjDPwn1Savkm8o/Rr99rzZcJEBvrWPC/7MbQBpOCXvzpfC/JHSFKr0wG0AgxvC7ninzv8RWO6g8FiZAX88pzK0hM8B1SE4DFuIDwPc/xjiU2AHA24P8q0hoAMCQSQMYknP+v+6s/zR2afy/PUbkOMp6+r/NLwH6qHv4v1f4pxJtbPa/N33gpBVZ9L/h81ht3Unyv3bAjGECUvC/+b3M/uAW7r9wJ/zXU+npv/rOORvweOO/YjjtXnQlKkC02hv0lPmRv1urWY2lNPO/yWGLOPh1CsDu/6sNPR/2vyXs7VgaWvO/AgWDm/uI8b9l5FUifEPwv+45CdVo+u6/\",\"dtype\":\"float64\",\"shape\":[75]},\"y\":{\"__ndarray__\":\"GhExyth1ND/Sv8nbtpRIP2vylNV0PVE/aTum7souWD/At0SJ8fVgPw3Iuahxymc/MSNhhJWvcD/bTfBN02d3P2zb5nxnaoA/CD5h5MAGhz8NmeH1TyaQP+zrCsc9p5Y/LbKd76fGnz/bLW5ISEmmPww9YvTcQq8/JV2OstnstT8Er5Y7M8G+P0c+r3jqkcU/5h99k6ZBzj88bCIzFzjVP4enV8oyxN0//yH99nXg5D8qOpLLf0jtP5kqGJXUifQ/c9cS8kHP/D+/DpwzojQEQIEmwoanVwxA4lgXt9HgE0BSSZ2AJuIbQAMJih9jjiNA5q4l5INuK0AwTKYKRj0zQNv5fmq8/DpAaCJseHrtQkB/+zpwzoxKQM3MzMzMeFJAZmZmZmZqWEAAAAAAAFxeQM3MzMzMJmJAmpmZmZkfZUBmZmZmZhhoQDMzMzMzEWtAAAAAAAAKbkBmZmZmZoFwQM3MzMzM/XFAMzMzMzN6c0CamZmZmfZ0QAAAAAAAc3ZAZmZmZmbvd0DNzMzMzGt5QDMzMzMz6HpAmpmZmZlkfEAAAAAAAOF9QGZmZmZmXX9AZmZmZuZsgECamZmZGSuBQM3MzMxM6YFAAAAAAICngkAzMzMzs2WDQGZmZmbmI4RAmpmZmRnihEDNzMzMTKCFQAAAAACAXoZAMzMzM7Mch0BmZmZm5tqHQJqZmZkZmYhAzczMzExXiUAAAAAAgBWKQDMzMzOz04pAZmZmZuaRi0CamZmZGVCMQM3MzMxMDo1AAAAAAIDMjUAzMzMzs4qOQGZmZmbmSI9A\",\"dtype\":\"float64\",\"shape\":[75]}},\"selected\":{\"id\":\"9e190db8-f6e3-47ea-91ba-3c315743b687\",\"type\":\"Selection\"},\"selection_policy\":{\"id\":\"416579e7-5b37-4673-b325-34c87096b73e\",\"type\":\"UnionRenderers\"}},\"id\":\"1dfdd457-a56c-4689-8d46-1519423575dd\",\"type\":\"ColumnDataSource\"},{\"attributes\":{},\"id\":\"86434fd9-1024-4dd9-89c9-0b65dd48c123\",\"type\":\"ResetTool\"},{\"attributes\":{},\"id\":\"bddbb0a0-c36e-43c3-93a5-1f103f3c910b\",\"type\":\"LinearScale\"},{\"attributes\":{\"line_alpha\":0.1,\"line_color\":\"#1f77b4\",\"line_width\":1.5,\"x\":{\"field\":\"x\"},\"y\":{\"field\":\"y\"}},\"id\":\"959ee995-dea3-4e5e-a368-41bf5487c52b\",\"type\":\"Line\"},{\"attributes\":{},\"id\":\"39f60676-e443-4ada-ad47-8a4fb869eb5e\",\"type\":\"UnionRenderers\"},{\"attributes\":{\"bottom_units\":\"screen\",\"fill_alpha\":{\"value\":0.5},\"fill_color\":{\"value\":\"lightgrey\"},\"left_units\":\"screen\",\"level\":\"overlay\",\"line_alpha\":{\"value\":1.0},\"line_color\":{\"value\":\"black\"},\"line_dash\":[4,4],\"line_width\":{\"value\":2},\"plot\":null,\"render_mode\":\"css\",\"right_units\":\"screen\",\"top_units\":\"screen\"},\"id\":\"c2fec8ec-9bec-433c-a122-2dcf7c73577a\",\"type\":\"BoxAnnotation\"},{\"attributes\":{\"data_source\":{\"id\":\"730bbe0d-77d9-4708-8745-383b82837cdc\",\"type\":\"ColumnDataSource\"},\"glyph\":{\"id\":\"a096c211-1ebd-4b59-a9d1-8102411ac207\",\"type\":\"Line\"},\"hover_glyph\":null,\"muted_glyph\":null,\"nonselection_glyph\":{\"id\":\"cb465753-6b51-48fb-b8b3-7b736561e3ec\",\"type\":\"Line\"},\"selection_glyph\":null,\"view\":{\"id\":\"e7c46def-7122-44bb-ae77-39bbbd4fcbbf\",\"type\":\"CDSView\"}},\"id\":\"82ea5057-ed30-42ce-abed-7e2f7d6e501b\",\"type\":\"GlyphRenderer\"},{\"attributes\":{\"ticker\":null},\"id\":\"ab9d9569-1e2e-46eb-8ce7-143ad0114fd6\",\"type\":\"LogTickFormatter\"},{\"attributes\":{},\"id\":\"d3e0f223-08eb-4d53-a8ff-ffe71fdeece8\",\"type\":\"UnionRenderers\"},{\"attributes\":{},\"id\":\"61c28862-f762-4d38-a485-283b28911a5d\",\"type\":\"Selection\"},{\"attributes\":{\"data_source\":{\"id\":\"d2aad502-ce71-49ff-bfd4-0ea4c45ed9eb\",\"type\":\"ColumnDataSource\"},\"glyph\":{\"id\":\"a1aaf32a-f7d3-4e57-a4d1-f6bc91880b07\",\"type\":\"Line\"},\"hover_glyph\":null,\"muted_glyph\":null,\"nonselection_glyph\":{\"id\":\"959ee995-dea3-4e5e-a368-41bf5487c52b\",\"type\":\"Line\"},\"selection_glyph\":null,\"view\":{\"id\":\"594a6755-1e57-4fc5-97a3-bade85eec0f5\",\"type\":\"CDSView\"}},\"id\":\"e3a8acc3-a9cf-4744-a29e-43b99c12bd87\",\"type\":\"GlyphRenderer\"},{\"attributes\":{\"overlay\":{\"id\":\"c2fec8ec-9bec-433c-a122-2dcf7c73577a\",\"type\":\"BoxAnnotation\"}},\"id\":\"aa05a090-e6c1-41c4-a72d-e7a5c068bf00\",\"type\":\"BoxZoomTool\"},{\"attributes\":{},\"id\":\"416579e7-5b37-4673-b325-34c87096b73e\",\"type\":\"UnionRenderers\"},{\"attributes\":{},\"id\":\"f9aa5f82-deb9-4391-b734-10fc03b34875\",\"type\":\"HelpTool\"},{\"attributes\":{\"label\":{\"value\":\"CLIRAD (single-run) - CRD\"},\"renderers\":[{\"id\":\"b072801d-17a2-4eea-a41e-1e6a8b476e56\",\"type\":\"GlyphRenderer\"},{\"id\":\"e3a8acc3-a9cf-4744-a29e-43b99c12bd87\",\"type\":\"GlyphRenderer\"}]},\"id\":\"3f75fb9e-0b2b-4f37-aaf3-8d568244ef9b\",\"type\":\"LegendItem\"},{\"attributes\":{\"line_alpha\":0.8,\"line_color\":\"#984ea3\",\"line_width\":1.5,\"x\":{\"field\":\"x\"},\"y\":{\"field\":\"y\"}},\"id\":\"a1aaf32a-f7d3-4e57-a4d1-f6bc91880b07\",\"type\":\"Line\"},{\"attributes\":{},\"id\":\"984db360-f5be-4e44-9179-58e6c23543cf\",\"type\":\"Selection\"},{\"attributes\":{\"active_drag\":\"auto\",\"active_inspect\":\"auto\",\"active_scroll\":\"auto\",\"active_tap\":\"auto\",\"tools\":[{\"id\":\"b1fad65c-13db-4f0f-b0d2-7af59a7a3933\",\"type\":\"PanTool\"},{\"id\":\"7fdfcc4c-06df-438e-b1ca-5bf4254eed82\",\"type\":\"WheelZoomTool\"},{\"id\":\"a6c11132-77e7-4c1f-909a-f94b3adcbfc2\",\"type\":\"BoxZoomTool\"},{\"id\":\"d9b62e01-3e93-4bed-9f5f-07701bbab3e9\",\"type\":\"SaveTool\"},{\"id\":\"cf32f8b5-1146-4072-999f-b5083d8262bf\",\"type\":\"ResetTool\"},{\"id\":\"0603da77-19dc-4726-8d0f-d0ba24378a10\",\"type\":\"HelpTool\"}]},\"id\":\"98c9544d-052d-4f7b-804b-acef6946a87e\",\"type\":\"Toolbar\"},{\"attributes\":{\"toolbar\":{\"id\":\"527df580-253c-4bc5-aed4-9e744829bf4d\",\"type\":\"ProxyToolbar\"},\"toolbar_location\":\"above\"},\"id\":\"ebca2d60-946c-4899-9032-030e10132b7e\",\"type\":\"ToolbarBox\"},{\"attributes\":{\"plot\":null,\"text\":\"\"},\"id\":\"1882253f-3761-439c-96d7-44c8fc5802cc\",\"type\":\"Title\"},{\"attributes\":{\"fill_alpha\":{\"value\":0.1},\"fill_color\":{\"value\":\"#1f77b4\"},\"line_alpha\":{\"value\":0.1},\"line_color\":{\"value\":\"#1f77b4\"},\"x\":{\"field\":\"x\"},\"y\":{\"field\":\"y\"}},\"id\":\"983b4138-a596-43e7-afbb-62b83b00e049\",\"type\":\"Circle\"},{\"attributes\":{\"source\":{\"id\":\"1dfdd457-a56c-4689-8d46-1519423575dd\",\"type\":\"ColumnDataSource\"}},\"id\":\"e1f99b10-9b4e-48da-82fb-6fac85e9ccea\",\"type\":\"CDSView\"},{\"attributes\":{\"tools\":[{\"id\":\"f85e29d7-97cc-40e4-859f-c5e98197e2b2\",\"type\":\"PanTool\"},{\"id\":\"472081da-589e-4d57-86c7-b6f2ae95176e\",\"type\":\"WheelZoomTool\"},{\"id\":\"d60c0abb-c0d2-4cfa-9668-11a9e438adf9\",\"type\":\"BoxZoomTool\"},{\"id\":\"c74ed5e2-c986-473c-887e-14455316c4dd\",\"type\":\"SaveTool\"},{\"id\":\"45ef391b-3369-4cd6-a99f-d4403ba7dc6d\",\"type\":\"ResetTool\"},{\"id\":\"ce17c532-7397-40e9-9f12-c6a0ef345396\",\"type\":\"HelpTool\"},{\"id\":\"b1fad65c-13db-4f0f-b0d2-7af59a7a3933\",\"type\":\"PanTool\"},{\"id\":\"7fdfcc4c-06df-438e-b1ca-5bf4254eed82\",\"type\":\"WheelZoomTool\"},{\"id\":\"a6c11132-77e7-4c1f-909a-f94b3adcbfc2\",\"type\":\"BoxZoomTool\"},{\"id\":\"d9b62e01-3e93-4bed-9f5f-07701bbab3e9\",\"type\":\"SaveTool\"},{\"id\":\"cf32f8b5-1146-4072-999f-b5083d8262bf\",\"type\":\"ResetTool\"},{\"id\":\"0603da77-19dc-4726-8d0f-d0ba24378a10\",\"type\":\"HelpTool\"},{\"id\":\"adfebcd0-5d24-420f-acf7-73ede09150d1\",\"type\":\"PanTool\"},{\"id\":\"4da102e1-16ee-47f0-a70f-9211f13bb061\",\"type\":\"WheelZoomTool\"},{\"id\":\"aa05a090-e6c1-41c4-a72d-e7a5c068bf00\",\"type\":\"BoxZoomTool\"},{\"id\":\"cda346c7-0b27-4758-80e5-baa124b94de0\",\"type\":\"SaveTool\"},{\"id\":\"86434fd9-1024-4dd9-89c9-0b65dd48c123\",\"type\":\"ResetTool\"},{\"id\":\"f9aa5f82-deb9-4391-b734-10fc03b34875\",\"type\":\"HelpTool\"}]},\"id\":\"527df580-253c-4bc5-aed4-9e744829bf4d\",\"type\":\"ProxyToolbar\"},{\"attributes\":{\"label\":{\"value\":\"CRD\"},\"renderers\":[{\"id\":\"9723f63a-f66c-473b-a312-ab9adccd1c5b\",\"type\":\"GlyphRenderer\"},{\"id\":\"82ea5057-ed30-42ce-abed-7e2f7d6e501b\",\"type\":\"GlyphRenderer\"}]},\"id\":\"fb78f1c0-2c5a-45af-9121-e73f749c5de8\",\"type\":\"LegendItem\"},{\"attributes\":{},\"id\":\"653de421-9c42-442f-9f65-25911a71bc06\",\"type\":\"UnionRenderers\"},{\"attributes\":{},\"id\":\"2055e05e-5ad2-4dd8-a078-ec99c29b9f98\",\"type\":\"LogScale\"},{\"attributes\":{\"plot\":null,\"text\":\"\"},\"id\":\"1bc1214a-7ded-42f9-aeaa-c94dd0b707ce\",\"type\":\"Title\"},{\"attributes\":{},\"id\":\"6971d70c-407d-468a-8415-aa3672682300\",\"type\":\"BasicTickFormatter\"},{\"attributes\":{\"line_alpha\":0.1,\"line_color\":\"#1f77b4\",\"line_width\":1.5,\"x\":{\"field\":\"x\"},\"y\":{\"field\":\"y\"}},\"id\":\"cb465753-6b51-48fb-b8b3-7b736561e3ec\",\"type\":\"Line\"},{\"attributes\":{},\"id\":\"b281f9c4-d1f0-475a-ab40-0cc3888161df\",\"type\":\"BasicTickFormatter\"},{\"attributes\":{\"dimension\":1,\"plot\":{\"id\":\"317ad3a8-eb37-4002-9415-08189ece0f8e\",\"subtype\":\"Figure\",\"type\":\"Plot\"},\"ticker\":{\"id\":\"36627497-6a4a-4681-83c6-04f097cb762b\",\"type\":\"LogTicker\"}},\"id\":\"25758265-8b95-45cd-aeed-5b2685449524\",\"type\":\"Grid\"},{\"attributes\":{\"fill_alpha\":{\"value\":0.7},\"fill_color\":{\"value\":\"#984ea3\"},\"line_alpha\":{\"value\":0.7},\"line_color\":{\"value\":\"#984ea3\"},\"x\":{\"field\":\"x\"},\"y\":{\"field\":\"y\"}},\"id\":\"703df54b-0dac-44e9-9424-cc40a7f08a4a\",\"type\":\"Circle\"},{\"attributes\":{\"fill_alpha\":{\"value\":0.7},\"fill_color\":{\"value\":\"#4daf4a\"},\"line_alpha\":{\"value\":0.7},\"line_color\":{\"value\":\"#4daf4a\"},\"x\":{\"field\":\"x\"},\"y\":{\"field\":\"y\"}},\"id\":\"ce58dad6-70c0-4f36-9636-76a22a84f3ce\",\"type\":\"Circle\"},{\"attributes\":{\"line_color\":\"#4daf4a\",\"line_width\":1.5,\"x\":{\"field\":\"x\"},\"y\":{\"field\":\"y\"}},\"id\":\"698d85c4-dfec-4565-a66d-e3fe6e93c3e6\",\"type\":\"Line\"},{\"attributes\":{\"data_source\":{\"id\":\"60dd0cb0-e34d-4b14-8ed5-57c6ed30f856\",\"type\":\"ColumnDataSource\"},\"glyph\":{\"id\":\"ce58dad6-70c0-4f36-9636-76a22a84f3ce\",\"type\":\"Circle\"},\"hover_glyph\":null,\"muted_glyph\":null,\"nonselection_glyph\":{\"id\":\"d636c3e7-c7ad-47e1-8549-eac17d250a5d\",\"type\":\"Circle\"},\"selection_glyph\":null,\"view\":{\"id\":\"4e6837f3-8a13-44d0-b832-c186eb2c8217\",\"type\":\"CDSView\"}},\"id\":\"55d2eb74-d203-473c-9975-0c2f53fd2c45\",\"type\":\"GlyphRenderer\"},{\"attributes\":{\"above\":[{\"id\":\"42ac8f76-e071-434b-ad46-1f616fac24de\",\"type\":\"Legend\"}],\"below\":[{\"id\":\"53062d1d-a27c-49df-939d-368009ea0bd7\",\"type\":\"LinearAxis\"}],\"left\":[{\"id\":\"cc49093c-6847-486e-b51d-338f64fcf1f6\",\"type\":\"LogAxis\"}],\"plot_width\":300,\"renderers\":[{\"id\":\"53062d1d-a27c-49df-939d-368009ea0bd7\",\"type\":\"LinearAxis\"},{\"id\":\"35de3802-96db-494c-be3e-a857c2154cc7\",\"type\":\"Grid\"},{\"id\":\"cc49093c-6847-486e-b51d-338f64fcf1f6\",\"type\":\"LogAxis\"},{\"id\":\"cd069a6a-cdca-428d-ba85-7d36ccfcc0e1\",\"type\":\"Grid\"},{\"id\":\"c2fec8ec-9bec-433c-a122-2dcf7c73577a\",\"type\":\"BoxAnnotation\"},{\"id\":\"b072801d-17a2-4eea-a41e-1e6a8b476e56\",\"type\":\"GlyphRenderer\"},{\"id\":\"e3a8acc3-a9cf-4744-a29e-43b99c12bd87\",\"type\":\"GlyphRenderer\"},{\"id\":\"42ac8f76-e071-434b-ad46-1f616fac24de\",\"type\":\"Legend\"}],\"title\":{\"id\":\"b4fc69bb-595b-41e3-ae6c-bb793a59de62\",\"type\":\"Title\"},\"toolbar\":{\"id\":\"1b8aac83-eb75-4185-92ab-c8f7064c7176\",\"type\":\"Toolbar\"},\"toolbar_location\":null,\"x_range\":{\"id\":\"7e5a9284-ec7d-44cb-92f0-e9c46eca7984\",\"type\":\"Range1d\"},\"x_scale\":{\"id\":\"9c447066-eb68-4f0f-9234-6b7924c9aee1\",\"type\":\"LinearScale\"},\"y_range\":{\"id\":\"1a30f542-383a-4d5c-8f31-64f71131f296\",\"type\":\"Range1d\"},\"y_scale\":{\"id\":\"fb769816-85e5-481f-a9b4-935adddb7573\",\"type\":\"LogScale\"}},\"id\":\"0439c404-b251-4f5b-9f77-54297b70768b\",\"subtype\":\"Figure\",\"type\":\"Plot\"},{\"attributes\":{\"source\":{\"id\":\"60dd0cb0-e34d-4b14-8ed5-57c6ed30f856\",\"type\":\"ColumnDataSource\"}},\"id\":\"4e6837f3-8a13-44d0-b832-c186eb2c8217\",\"type\":\"CDSView\"},{\"attributes\":{\"line_alpha\":0.1,\"line_color\":\"#1f77b4\",\"line_width\":1.5,\"x\":{\"field\":\"x\"},\"y\":{\"field\":\"y\"}},\"id\":\"8b93082b-e7c1-4f25-bfab-487e8edeceba\",\"type\":\"Line\"},{\"attributes\":{\"above\":[{\"id\":\"18ab8f60-63c8-4e03-9d1a-43f5a5400ca5\",\"type\":\"Legend\"}],\"below\":[{\"id\":\"32686f5b-b21b-4439-a9ec-d117f7f25a88\",\"type\":\"LinearAxis\"}],\"left\":[{\"id\":\"0652dc20-e271-4539-9883-2e2c7d2e9ff3\",\"type\":\"LinearAxis\"}],\"plot_width\":300,\"renderers\":[{\"id\":\"32686f5b-b21b-4439-a9ec-d117f7f25a88\",\"type\":\"LinearAxis\"},{\"id\":\"79cfc2e0-333f-4996-b199-3fb69836313f\",\"type\":\"Grid\"},{\"id\":\"0652dc20-e271-4539-9883-2e2c7d2e9ff3\",\"type\":\"LinearAxis\"},{\"id\":\"af802011-b5f3-44d5-8ba2-5ced9a2a8b72\",\"type\":\"Grid\"},{\"id\":\"ac421a15-00fe-46aa-92b1-75bbecb8cf87\",\"type\":\"BoxAnnotation\"},{\"id\":\"acf9520b-e25b-454b-b189-b8cd78ca85e9\",\"type\":\"GlyphRenderer\"},{\"id\":\"9723f63a-f66c-473b-a312-ab9adccd1c5b\",\"type\":\"GlyphRenderer\"},{\"id\":\"82ea5057-ed30-42ce-abed-7e2f7d6e501b\",\"type\":\"GlyphRenderer\"},{\"id\":\"18ab8f60-63c8-4e03-9d1a-43f5a5400ca5\",\"type\":\"Legend\"}],\"title\":{\"id\":\"1882253f-3761-439c-96d7-44c8fc5802cc\",\"type\":\"Title\"},\"toolbar\":{\"id\":\"38b130aa-8617-4d91-a961-825fa142edf8\",\"type\":\"Toolbar\"},\"toolbar_location\":null,\"x_range\":{\"id\":\"f64f6d5d-7698-48f7-89af-a6aadf05bd60\",\"type\":\"Range1d\"},\"x_scale\":{\"id\":\"4a5580ac-52ab-418b-88ed-2ad235398590\",\"type\":\"LinearScale\"},\"y_range\":{\"id\":\"c0a159bb-cc8b-47f6-9878-81af6fdb951e\",\"type\":\"Range1d\"},\"y_scale\":{\"id\":\"08819693-b548-4b82-9051-2b180abdda0c\",\"type\":\"LinearScale\"}},\"id\":\"eac173a6-250c-468a-bf2d-ef5b06ffbcd6\",\"subtype\":\"Figure\",\"type\":\"Plot\"},{\"attributes\":{\"source\":{\"id\":\"2a2c6327-50bf-4ad3-a861-5b92a6c383d2\",\"type\":\"ColumnDataSource\"}},\"id\":\"ffd764f5-a1e5-4526-8d82-2ee5a66346db\",\"type\":\"CDSView\"},{\"attributes\":{\"data_source\":{\"id\":\"7bcc961f-d03e-4101-bd5f-558c94ec0258\",\"type\":\"ColumnDataSource\"},\"glyph\":{\"id\":\"698d85c4-dfec-4565-a66d-e3fe6e93c3e6\",\"type\":\"Line\"},\"hover_glyph\":null,\"muted_glyph\":null,\"nonselection_glyph\":{\"id\":\"8b93082b-e7c1-4f25-bfab-487e8edeceba\",\"type\":\"Line\"},\"selection_glyph\":null,\"view\":{\"id\":\"897ec3b8-af4a-4029-b875-1506408ce0c5\",\"type\":\"CDSView\"}},\"id\":\"1ba11586-322e-48e2-9b02-3256ab81fca8\",\"type\":\"GlyphRenderer\"},{\"attributes\":{\"callback\":null,\"data\":{\"x\":{\"__ndarray__\":\"R/KIaN7AVEClCeJMyPNGQOvRhpxr30JAptxzhxx4PkA7SssMElA4QK6Bp3CyUDNAsVXpjES9LkBFhUV0+5coQMHYwqbbySNA6f09nM3nH0CaSd/3eYoZQDmgiAOW8BNAPYqARh3eDEBkm4vCgvr+P9D+5tWhQfY/P8DwKRnSAkBq38kb17ILQDT7IWuSsxFAUr2Rjm0FFkAinq3s9XgbQGCHwtYcqSFAG64kT303J0C7dRDneyooQD9JYrbK8yRA9S3bneHhIUAIymSuUMMcQIkHLe6VEBdAAau3cITREkA6CiNvkQIPQJU39ki7IQlAaAvwok1UA0BXLQiS4+L7P0xzDpJ2hPI/NNuPGMbJ5z91mUVYxqfSPxqwUPSxZca/G11peifD3L8QzNj5t2jTvwzOozTL360/SPJ4VI1VzD9KJ0nXEIncP8yDdlvHt+4/Et49nYLW9z++2teD4Jn+P+568eH/bwFALf5D9lmAAkCiZAicVOkCQPPT4jNKxwJAOjp3wTzBAUBSQsKNGisBQG4OmjqJwQBAJ3sZoHFuAEA5Ar0Sdi0AQGy4rw5+9f8/7W4nSrC3/z8mPr8zj4T/P4UYRHCQS/8/embVKYcF/z+5YXG+LLP+P/qb8BVUgf4/KvafTtyO/j/avAK1Ppv+PwJV9VVm2P0/JFtYlU/n/D9sN+q2fiX6Pw44e41PNPc/Opt+Z/wN9T+x3vcSW1vzP9ofvWQJlvI/8sciQQBW8j80sfkQa17yPzg5qng2r/I/Oh14WJBh8z+VZjnpctj0P6CcrSuCqQBA\",\"dtype\":\"float64\",\"shape\":[75]},\"y\":{\"__ndarray__\":\"GhExyth1ND/Sv8nbtpRIP2vylNV0PVE/aTum7souWD/At0SJ8fVgPw3Iuahxymc/MSNhhJWvcD/bTfBN02d3P2zb5nxnaoA/CD5h5MAGhz8NmeH1TyaQP+zrCsc9p5Y/LbKd76fGnz/bLW5ISEmmPww9YvTcQq8/JV2OstnstT8Er5Y7M8G+P0c+r3jqkcU/5h99k6ZBzj88bCIzFzjVP4enV8oyxN0//yH99nXg5D8qOpLLf0jtP5kqGJXUifQ/c9cS8kHP/D+/DpwzojQEQIEmwoanVwxA4lgXt9HgE0BSSZ2AJuIbQAMJih9jjiNA5q4l5INuK0AwTKYKRj0zQNv5fmq8/DpAaCJseHrtQkB/+zpwzoxKQM3MzMzMeFJAZmZmZmZqWEAAAAAAAFxeQM3MzMzMJmJAmpmZmZkfZUBmZmZmZhhoQDMzMzMzEWtAAAAAAAAKbkBmZmZmZoFwQM3MzMzM/XFAMzMzMzN6c0CamZmZmfZ0QAAAAAAAc3ZAZmZmZmbvd0DNzMzMzGt5QDMzMzMz6HpAmpmZmZlkfEAAAAAAAOF9QGZmZmZmXX9AZmZmZuZsgECamZmZGSuBQM3MzMxM6YFAAAAAAICngkAzMzMzs2WDQGZmZmbmI4RAmpmZmRnihEDNzMzMTKCFQAAAAACAXoZAMzMzM7Mch0BmZmZm5tqHQJqZmZkZmYhAzczMzExXiUAAAAAAgBWKQDMzMzOz04pAZmZmZuaRi0CamZmZGVCMQM3MzMxMDo1AAAAAAIDMjUAzMzMzs4qOQGZmZmbmSI9A\",\"dtype\":\"float64\",\"shape\":[75]}},\"selected\":{\"id\":\"2f750c4b-a7de-4adf-9c87-64209f6e16f5\",\"type\":\"Selection\"},\"selection_policy\":{\"id\":\"4e9b7bdd-1205-4241-a18b-5429bfd028f9\",\"type\":\"UnionRenderers\"}},\"id\":\"7bcc961f-d03e-4101-bd5f-558c94ec0258\",\"type\":\"ColumnDataSource\"},{\"attributes\":{\"line_alpha\":0.1,\"line_color\":\"#1f77b4\",\"line_dash\":[6],\"line_width\":5,\"x\":{\"field\":\"x\"},\"y\":{\"field\":\"y\"}},\"id\":\"dd6de38d-aa71-4019-9f2f-4b26a8f0745d\",\"type\":\"Line\"},{\"attributes\":{\"fill_alpha\":{\"value\":0.1},\"fill_color\":{\"value\":\"#1f77b4\"},\"line_alpha\":{\"value\":0.1},\"line_color\":{\"value\":\"#1f77b4\"},\"x\":{\"field\":\"x\"},\"y\":{\"field\":\"y\"}},\"id\":\"d636c3e7-c7ad-47e1-8549-eac17d250a5d\",\"type\":\"Circle\"},{\"attributes\":{\"data_source\":{\"id\":\"2a2c6327-50bf-4ad3-a861-5b92a6c383d2\",\"type\":\"ColumnDataSource\"},\"glyph\":{\"id\":\"4d00d043-b0fb-4405-b099-eccf10e84b89\",\"type\":\"Line\"},\"hover_glyph\":null,\"muted_glyph\":null,\"nonselection_glyph\":{\"id\":\"dd6de38d-aa71-4019-9f2f-4b26a8f0745d\",\"type\":\"Line\"},\"selection_glyph\":null,\"view\":{\"id\":\"ffd764f5-a1e5-4526-8d82-2ee5a66346db\",\"type\":\"CDSView\"}},\"id\":\"5b208f76-9e20-44fc-9410-c2f93cdd14f1\",\"type\":\"GlyphRenderer\"},{\"attributes\":{\"callback\":null,\"data\":{\"x\":{\"__ndarray__\":\"R/KIaN7AVEClCeJMyPNGQOvRhpxr30JAptxzhxx4PkA7SssMElA4QK6Bp3CyUDNAsVXpjES9LkBFhUV0+5coQMHYwqbbySNA6f09nM3nH0CaSd/3eYoZQDmgiAOW8BNAPYqARh3eDEBkm4vCgvr+P9D+5tWhQfY/P8DwKRnSAkBq38kb17ILQDT7IWuSsxFAUr2Rjm0FFkAinq3s9XgbQGCHwtYcqSFAG64kT303J0C7dRDneyooQD9JYrbK8yRA9S3bneHhIUAIymSuUMMcQIkHLe6VEBdAAau3cITREkA6CiNvkQIPQJU39ki7IQlAaAvwok1UA0BXLQiS4+L7P0xzDpJ2hPI/NNuPGMbJ5z91mUVYxqfSPxqwUPSxZca/G11peifD3L8QzNj5t2jTvwzOozTL360/SPJ4VI1VzD9KJ0nXEIncP8yDdlvHt+4/Et49nYLW9z++2teD4Jn+P+568eH/bwFALf5D9lmAAkCiZAicVOkCQPPT4jNKxwJAOjp3wTzBAUBSQsKNGisBQG4OmjqJwQBAJ3sZoHFuAEA5Ar0Sdi0AQGy4rw5+9f8/7W4nSrC3/z8mPr8zj4T/P4UYRHCQS/8/embVKYcF/z+5YXG+LLP+P/qb8BVUgf4/KvafTtyO/j/avAK1Ppv+PwJV9VVm2P0/JFtYlU/n/D9sN+q2fiX6Pw44e41PNPc/Opt+Z/wN9T+x3vcSW1vzP9ofvWQJlvI/8sciQQBW8j80sfkQa17yPzg5qng2r/I/Oh14WJBh8z+VZjnpctj0P6CcrSuCqQBA\",\"dtype\":\"float64\",\"shape\":[75]},\"y\":{\"__ndarray__\":\"GhExyth1ND/Sv8nbtpRIP2vylNV0PVE/aTum7souWD/At0SJ8fVgPw3Iuahxymc/MSNhhJWvcD/bTfBN02d3P2zb5nxnaoA/CD5h5MAGhz8NmeH1TyaQP+zrCsc9p5Y/LbKd76fGnz/bLW5ISEmmPww9YvTcQq8/JV2OstnstT8Er5Y7M8G+P0c+r3jqkcU/5h99k6ZBzj88bCIzFzjVP4enV8oyxN0//yH99nXg5D8qOpLLf0jtP5kqGJXUifQ/c9cS8kHP/D+/DpwzojQEQIEmwoanVwxA4lgXt9HgE0BSSZ2AJuIbQAMJih9jjiNA5q4l5INuK0AwTKYKRj0zQNv5fmq8/DpAaCJseHrtQkB/+zpwzoxKQM3MzMzMeFJAZmZmZmZqWEAAAAAAAFxeQM3MzMzMJmJAmpmZmZkfZUBmZmZmZhhoQDMzMzMzEWtAAAAAAAAKbkBmZmZmZoFwQM3MzMzM/XFAMzMzMzN6c0CamZmZmfZ0QAAAAAAAc3ZAZmZmZmbvd0DNzMzMzGt5QDMzMzMz6HpAmpmZmZlkfEAAAAAAAOF9QGZmZmZmXX9AZmZmZuZsgECamZmZGSuBQM3MzMxM6YFAAAAAAICngkAzMzMzs2WDQGZmZmbmI4RAmpmZmRnihEDNzMzMTKCFQAAAAACAXoZAMzMzM7Mch0BmZmZm5tqHQJqZmZkZmYhAzczMzExXiUAAAAAAgBWKQDMzMzOz04pAZmZmZuaRi0CamZmZGVCMQM3MzMxMDo1AAAAAAIDMjUAzMzMzs4qOQGZmZmbmSI9A\",\"dtype\":\"float64\",\"shape\":[75]}},\"selected\":{\"id\":\"984db360-f5be-4e44-9179-58e6c23543cf\",\"type\":\"Selection\"},\"selection_policy\":{\"id\":\"39f60676-e443-4ada-ad47-8a4fb869eb5e\",\"type\":\"UnionRenderers\"}},\"id\":\"60dd0cb0-e34d-4b14-8ed5-57c6ed30f856\",\"type\":\"ColumnDataSource\"},{\"attributes\":{\"plot\":{\"id\":\"eac173a6-250c-468a-bf2d-ef5b06ffbcd6\",\"subtype\":\"Figure\",\"type\":\"Plot\"},\"ticker\":{\"id\":\"3096a821-f94e-4db1-9e91-9239ae9c52b4\",\"type\":\"BasicTicker\"}},\"id\":\"79cfc2e0-333f-4996-b199-3fb69836313f\",\"type\":\"Grid\"},{\"attributes\":{},\"id\":\"ce17c532-7397-40e9-9f12-c6a0ef345396\",\"type\":\"HelpTool\"},{\"attributes\":{\"callback\":null,\"data\":{\"x\":{\"__ndarray__\":\"OurFQ8uFRUD93vnQzNNCQHB8xpgwtUFArkK2pBseQEDUhIW1HRg8QKU77o3ULDdAHef04YzrMUB+UWHkGAoqQLENKaASTiJAV66AyFmpGkAO3iPn+kcVQPL7HSXFExJAiOAiIMWxDUBYfbtv2E8DQCUbm7vjMP8/lg2PHbnaBUA/GyWLkYEMQAUzkxP0xBBAdczBOHoRFEDsFRjXWI8ZQO+BwY+FNCFAxkFUcHM0J0C4jyO5X1YoQPSiXuiiziRAxwOPk5CCIUAN9qx3KjQdQHP0X2O/UxlAFLu2bjw6FUCjaxNWDhcRQDYZVVpXJgxAGL9awgmZCECJ5n4lRhMEQIyPNFEaa/w/YudQKxPb8j9ahh/9YrjlP4kAbcAjLb8/fPDwSHir1b9iwdALxD7Rv8WuhEpLiLs/AhESY5wI0j80bEs7FFLgPzmsS0p8mPA/MLH2uy9V+T9bRyOmcIcAQEAapiy+GQNA0b4OLU38KEDh7zMIVZQiQM1ZvOyg6PQ/oYigxa0IIkAFfSe/LFnuP2Ha4faeRipA+Z8mmN8TMcDUMYqE/6TdvwE85hZT3c2/dIwZ3RCOsb9ZSb+70Q+xP7JcI9rREMc/84DEw/Mq0j+xx8ARD97YP0RHkQbOKeA/5/F+U41r5D/wkVOPwqLoPxkp0ejHDOs/UvjjK7636z9pR9iVqWHqPyGhvP+u7+o/yAvd6zPHLEBGbye/dBPzPyVwkROF06O/z/35F/hKAcDKdZLljwbOv4pddgh8XKW/doNRz0uJvT++CI4b21PSP0mc1uzP1fE/\",\"dtype\":\"float64\",\"shape\":[75]},\"y\":{\"__ndarray__\":\"GhExyth1ND/Sv8nbtpRIP2vylNV0PVE/aTum7souWD/At0SJ8fVgPw3Iuahxymc/MSNhhJWvcD/bTfBN02d3P2zb5nxnaoA/CD5h5MAGhz8NmeH1TyaQP+zrCsc9p5Y/LbKd76fGnz/bLW5ISEmmPww9YvTcQq8/JV2OstnstT8Er5Y7M8G+P0c+r3jqkcU/5h99k6ZBzj88bCIzFzjVP4enV8oyxN0//yH99nXg5D8qOpLLf0jtP5kqGJXUifQ/c9cS8kHP/D+/DpwzojQEQIEmwoanVwxA4lgXt9HgE0BSSZ2AJuIbQAMJih9jjiNA5q4l5INuK0AwTKYKRj0zQNv5fmq8/DpAaCJseHrtQkB/+zpwzoxKQM3MzMzMeFJAZmZmZmZqWEAAAAAAAFxeQM3MzMzMJmJAmpmZmZkfZUBmZmZmZhhoQDMzMzMzEWtAAAAAAAAKbkBmZmZmZoFwQM3MzMzM/XFAMzMzMzN6c0CamZmZmfZ0QAAAAAAAc3ZAZmZmZmbvd0DNzMzMzGt5QDMzMzMz6HpAmpmZmZlkfEAAAAAAAOF9QGZmZmZmXX9AZmZmZuZsgECamZmZGSuBQM3MzMxM6YFAAAAAAICngkAzMzMzs2WDQGZmZmbmI4RAmpmZmRnihEDNzMzMTKCFQAAAAACAXoZAMzMzM7Mch0BmZmZm5tqHQJqZmZkZmYhAzczMzExXiUAAAAAAgBWKQDMzMzOz04pAZmZmZuaRi0CamZmZGVCMQM3MzMxMDo1AAAAAAIDMjUAzMzMzs4qOQGZmZmbmSI9A\",\"dtype\":\"float64\",\"shape\":[75]}},\"selected\":{\"id\":\"b059cafe-606e-4b81-ad6c-86ea70d19148\",\"type\":\"Selection\"},\"selection_policy\":{\"id\":\"9f50868a-bf2a-4ca2-9276-987f6bf15152\",\"type\":\"UnionRenderers\"}},\"id\":\"caf98348-c7a1-4b24-8892-15ec3c479890\",\"type\":\"ColumnDataSource\"},{\"attributes\":{\"children\":[{\"id\":\"eac173a6-250c-468a-bf2d-ef5b06ffbcd6\",\"subtype\":\"Figure\",\"type\":\"Plot\"},{\"id\":\"317ad3a8-eb37-4002-9415-08189ece0f8e\",\"subtype\":\"Figure\",\"type\":\"Plot\"},{\"id\":\"0439c404-b251-4f5b-9f77-54297b70768b\",\"subtype\":\"Figure\",\"type\":\"Plot\"}]},\"id\":\"884c5a27-af38-439b-9017-16e1e4ce1906\",\"type\":\"Row\"},{\"attributes\":{},\"id\":\"fb769816-85e5-481f-a9b4-935adddb7573\",\"type\":\"LogScale\"},{\"attributes\":{\"dimension\":1,\"plot\":{\"id\":\"0439c404-b251-4f5b-9f77-54297b70768b\",\"subtype\":\"Figure\",\"type\":\"Plot\"},\"ticker\":{\"id\":\"1d7b2cfb-69c1-430d-8653-d9171d309c31\",\"type\":\"LogTicker\"}},\"id\":\"cd069a6a-cdca-428d-ba85-7d36ccfcc0e1\",\"type\":\"Grid\"},{\"attributes\":{\"bottom_units\":\"screen\",\"fill_alpha\":{\"value\":0.5},\"fill_color\":{\"value\":\"lightgrey\"},\"left_units\":\"screen\",\"level\":\"overlay\",\"line_alpha\":{\"value\":1.0},\"line_color\":{\"value\":\"black\"},\"line_dash\":[4,4],\"line_width\":{\"value\":2},\"plot\":null,\"render_mode\":\"css\",\"right_units\":\"screen\",\"top_units\":\"screen\"},\"id\":\"ac421a15-00fe-46aa-92b1-75bbecb8cf87\",\"type\":\"BoxAnnotation\"},{\"attributes\":{\"items\":[{\"id\":\"3f75fb9e-0b2b-4f37-aaf3-8d568244ef9b\",\"type\":\"LegendItem\"}],\"label_text_font_size\":{\"value\":\"8pt\"},\"location\":\"top_center\",\"orientation\":\"horizontal\",\"plot\":{\"id\":\"0439c404-b251-4f5b-9f77-54297b70768b\",\"subtype\":\"Figure\",\"type\":\"Plot\"}},\"id\":\"42ac8f76-e071-434b-ad46-1f616fac24de\",\"type\":\"Legend\"},{\"attributes\":{},\"id\":\"3096a821-f94e-4db1-9e91-9239ae9c52b4\",\"type\":\"BasicTicker\"},{\"attributes\":{},\"id\":\"9c447066-eb68-4f0f-9234-6b7924c9aee1\",\"type\":\"LinearScale\"},{\"attributes\":{},\"id\":\"0c3cdfde-892b-439e-ad84-5eb1f93b67fd\",\"type\":\"BasicTicker\"},{\"attributes\":{},\"id\":\"f85e29d7-97cc-40e4-859f-c5e98197e2b2\",\"type\":\"PanTool\"},{\"attributes\":{\"callback\":null,\"end\":0.7872933986732475,\"start\":-1.331763790835278},\"id\":\"7e5a9284-ec7d-44cb-92f0-e9c46eca7984\",\"type\":\"Range1d\"},{\"attributes\":{\"overlay\":{\"id\":\"ac421a15-00fe-46aa-92b1-75bbecb8cf87\",\"type\":\"BoxAnnotation\"}},\"id\":\"d60c0abb-c0d2-4cfa-9668-11a9e438adf9\",\"type\":\"BoxZoomTool\"},{\"attributes\":{\"axis_label\":\"pressure [mb]\",\"formatter\":{\"id\":\"ab9d9569-1e2e-46eb-8ce7-143ad0114fd6\",\"type\":\"LogTickFormatter\"},\"plot\":{\"id\":\"0439c404-b251-4f5b-9f77-54297b70768b\",\"subtype\":\"Figure\",\"type\":\"Plot\"},\"ticker\":{\"id\":\"1d7b2cfb-69c1-430d-8653-d9171d309c31\",\"type\":\"LogTicker\"}},\"id\":\"cc49093c-6847-486e-b51d-338f64fcf1f6\",\"type\":\"LogAxis\"},{\"attributes\":{},\"id\":\"45ef391b-3369-4cd6-a99f-d4403ba7dc6d\",\"type\":\"ResetTool\"},{\"attributes\":{\"source\":{\"id\":\"d2aad502-ce71-49ff-bfd4-0ea4c45ed9eb\",\"type\":\"ColumnDataSource\"}},\"id\":\"594a6755-1e57-4fc5-97a3-bade85eec0f5\",\"type\":\"CDSView\"},{\"attributes\":{\"axis_label\":\"pressure [mb]\",\"formatter\":{\"id\":\"6971d70c-407d-468a-8415-aa3672682300\",\"type\":\"BasicTickFormatter\"},\"plot\":{\"id\":\"eac173a6-250c-468a-bf2d-ef5b06ffbcd6\",\"subtype\":\"Figure\",\"type\":\"Plot\"},\"ticker\":{\"id\":\"0c3cdfde-892b-439e-ad84-5eb1f93b67fd\",\"type\":\"BasicTicker\"}},\"id\":\"0652dc20-e271-4539-9883-2e2c7d2e9ff3\",\"type\":\"LinearAxis\"},{\"attributes\":{},\"id\":\"e49c2d19-e762-4664-bfdc-0dfdd362f0cd\",\"type\":\"BasicTicker\"},{\"attributes\":{\"active_drag\":\"auto\",\"active_inspect\":\"auto\",\"active_scroll\":\"auto\",\"active_tap\":\"auto\",\"tools\":[{\"id\":\"adfebcd0-5d24-420f-acf7-73ede09150d1\",\"type\":\"PanTool\"},{\"id\":\"4da102e1-16ee-47f0-a70f-9211f13bb061\",\"type\":\"WheelZoomTool\"},{\"id\":\"aa05a090-e6c1-41c4-a72d-e7a5c068bf00\",\"type\":\"BoxZoomTool\"},{\"id\":\"cda346c7-0b27-4758-80e5-baa124b94de0\",\"type\":\"SaveTool\"},{\"id\":\"86434fd9-1024-4dd9-89c9-0b65dd48c123\",\"type\":\"ResetTool\"},{\"id\":\"f9aa5f82-deb9-4391-b734-10fc03b34875\",\"type\":\"HelpTool\"}]},\"id\":\"1b8aac83-eb75-4185-92ab-c8f7064c7176\",\"type\":\"Toolbar\"},{\"attributes\":{},\"id\":\"472081da-589e-4d57-86c7-b6f2ae95176e\",\"type\":\"WheelZoomTool\"},{\"attributes\":{\"dimension\":1,\"plot\":{\"id\":\"eac173a6-250c-468a-bf2d-ef5b06ffbcd6\",\"subtype\":\"Figure\",\"type\":\"Plot\"},\"ticker\":{\"id\":\"0c3cdfde-892b-439e-ad84-5eb1f93b67fd\",\"type\":\"BasicTicker\"}},\"id\":\"af802011-b5f3-44d5-8ba2-5ced9a2a8b72\",\"type\":\"Grid\"},{\"attributes\":{},\"id\":\"4a5580ac-52ab-418b-88ed-2ad235398590\",\"type\":\"LinearScale\"},{\"attributes\":{\"axis_label\":\"cooling rate [K/day]\",\"formatter\":{\"id\":\"b281f9c4-d1f0-475a-ab40-0cc3888161df\",\"type\":\"BasicTickFormatter\"},\"plot\":{\"id\":\"0439c404-b251-4f5b-9f77-54297b70768b\",\"subtype\":\"Figure\",\"type\":\"Plot\"},\"ticker\":{\"id\":\"e49c2d19-e762-4664-bfdc-0dfdd362f0cd\",\"type\":\"BasicTicker\"}},\"id\":\"53062d1d-a27c-49df-939d-368009ea0bd7\",\"type\":\"LinearAxis\"},{\"attributes\":{\"plot\":{\"id\":\"0439c404-b251-4f5b-9f77-54297b70768b\",\"subtype\":\"Figure\",\"type\":\"Plot\"},\"ticker\":{\"id\":\"e49c2d19-e762-4664-bfdc-0dfdd362f0cd\",\"type\":\"BasicTicker\"}},\"id\":\"35de3802-96db-494c-be3e-a857c2154cc7\",\"type\":\"Grid\"},{\"attributes\":{\"label\":{\"value\":\"CRD\"},\"renderers\":[{\"id\":\"55d2eb74-d203-473c-9975-0c2f53fd2c45\",\"type\":\"GlyphRenderer\"},{\"id\":\"1ba11586-322e-48e2-9b02-3256ab81fca8\",\"type\":\"GlyphRenderer\"}]},\"id\":\"fea0967e-b123-4a87-b8d0-1070340b315c\",\"type\":\"LegendItem\"},{\"attributes\":{},\"id\":\"08819693-b548-4b82-9051-2b180abdda0c\",\"type\":\"LinearScale\"},{\"attributes\":{\"axis_label\":\"cooling rate [K/day]\",\"formatter\":{\"id\":\"017d6fc8-984b-4049-a382-4674d0a4e8e9\",\"type\":\"BasicTickFormatter\"},\"plot\":{\"id\":\"eac173a6-250c-468a-bf2d-ef5b06ffbcd6\",\"subtype\":\"Figure\",\"type\":\"Plot\"},\"ticker\":{\"id\":\"3096a821-f94e-4db1-9e91-9239ae9c52b4\",\"type\":\"BasicTicker\"}},\"id\":\"32686f5b-b21b-4439-a9ec-d117f7f25a88\",\"type\":\"LinearAxis\"},{\"attributes\":{\"num_minor_ticks\":10},\"id\":\"1d7b2cfb-69c1-430d-8653-d9171d309c31\",\"type\":\"LogTicker\"},{\"attributes\":{\"children\":[{\"id\":\"884c5a27-af38-439b-9017-16e1e4ce1906\",\"type\":\"Row\"}]},\"id\":\"e2a88c79-eeb6-4da5-9bdc-cd9656f86c06\",\"type\":\"Column\"},{\"attributes\":{},\"id\":\"c74ed5e2-c986-473c-887e-14455316c4dd\",\"type\":\"SaveTool\"},{\"attributes\":{},\"id\":\"d9b62e01-3e93-4bed-9f5f-07701bbab3e9\",\"type\":\"SaveTool\"},{\"attributes\":{},\"id\":\"7fdfcc4c-06df-438e-b1ca-5bf4254eed82\",\"type\":\"WheelZoomTool\"},{\"attributes\":{\"callback\":null,\"data\":{\"x\":{\"__ndarray__\":\"OurFQ8uFRUD93vnQzNNCQHB8xpgwtUFArkK2pBseQEDUhIW1HRg8QKU77o3ULDdAHef04YzrMUB+UWHkGAoqQLENKaASTiJAV66AyFmpGkAO3iPn+kcVQPL7HSXFExJAiOAiIMWxDUBYfbtv2E8DQCUbm7vjMP8/lg2PHbnaBUA/GyWLkYEMQAUzkxP0xBBAdczBOHoRFEDsFRjXWI8ZQO+BwY+FNCFAxkFUcHM0J0C4jyO5X1YoQPSiXuiiziRAxwOPk5CCIUAN9qx3KjQdQHP0X2O/UxlAFLu2bjw6FUCjaxNWDhcRQDYZVVpXJgxAGL9awgmZCECJ5n4lRhMEQIyPNFEaa/w/YudQKxPb8j9ahh/9YrjlP4kAbcAjLb8/fPDwSHir1b9iwdALxD7Rv8WuhEpLiLs/AhESY5wI0j80bEs7FFLgPzmsS0p8mPA/MLH2uy9V+T9bRyOmcIcAQEAapiy+GQNA0b4OLU38KEDh7zMIVZQiQM1ZvOyg6PQ/oYigxa0IIkAFfSe/LFnuP2Ha4faeRipA+Z8mmN8TMcDUMYqE/6TdvwE85hZT3c2/dIwZ3RCOsb9ZSb+70Q+xP7JcI9rREMc/84DEw/Mq0j+xx8ARD97YP0RHkQbOKeA/5/F+U41r5D/wkVOPwqLoPxkp0ejHDOs/UvjjK7636z9pR9iVqWHqPyGhvP+u7+o/yAvd6zPHLEBGbye/dBPzPyVwkROF06O/z/35F/hKAcDKdZLljwbOv4pddgh8XKW/doNRz0uJvT++CI4b21PSP0mc1uzP1fE/\",\"dtype\":\"float64\",\"shape\":[75]},\"y\":{\"__ndarray__\":\"GhExyth1ND/Sv8nbtpRIP2vylNV0PVE/aTum7souWD/At0SJ8fVgPw3Iuahxymc/MSNhhJWvcD/bTfBN02d3P2zb5nxnaoA/CD5h5MAGhz8NmeH1TyaQP+zrCsc9p5Y/LbKd76fGnz/bLW5ISEmmPww9YvTcQq8/JV2OstnstT8Er5Y7M8G+P0c+r3jqkcU/5h99k6ZBzj88bCIzFzjVP4enV8oyxN0//yH99nXg5D8qOpLLf0jtP5kqGJXUifQ/c9cS8kHP/D+/DpwzojQEQIEmwoanVwxA4lgXt9HgE0BSSZ2AJuIbQAMJih9jjiNA5q4l5INuK0AwTKYKRj0zQNv5fmq8/DpAaCJseHrtQkB/+zpwzoxKQM3MzMzMeFJAZmZmZmZqWEAAAAAAAFxeQM3MzMzMJmJAmpmZmZkfZUBmZmZmZhhoQDMzMzMzEWtAAAAAAAAKbkBmZmZmZoFwQM3MzMzM/XFAMzMzMzN6c0CamZmZmfZ0QAAAAAAAc3ZAZmZmZmbvd0DNzMzMzGt5QDMzMzMz6HpAmpmZmZlkfEAAAAAAAOF9QGZmZmZmXX9AZmZmZuZsgECamZmZGSuBQM3MzMxM6YFAAAAAAICngkAzMzMzs2WDQGZmZmbmI4RAmpmZmRnihEDNzMzMTKCFQAAAAACAXoZAMzMzM7Mch0BmZmZm5tqHQJqZmZkZmYhAzczMzExXiUAAAAAAgBWKQDMzMzOz04pAZmZmZuaRi0CamZmZGVCMQM3MzMxMDo1AAAAAAIDMjUAzMzMzs4qOQGZmZmbmSI9A\",\"dtype\":\"float64\",\"shape\":[75]}},\"selected\":{\"id\":\"0074e174-5078-4b80-818c-9a9ca0aec6c6\",\"type\":\"Selection\"},\"selection_policy\":{\"id\":\"d3e0f223-08eb-4d53-a8ff-ffe71fdeece8\",\"type\":\"UnionRenderers\"}},\"id\":\"2a2c6327-50bf-4ad3-a861-5b92a6c383d2\",\"type\":\"ColumnDataSource\"},{\"attributes\":{},\"id\":\"0603da77-19dc-4726-8d0f-d0ba24378a10\",\"type\":\"HelpTool\"},{\"attributes\":{\"callback\":null,\"data\":{\"x\":{\"__ndarray__\":\"R/KIaN7AVEClCeJMyPNGQOvRhpxr30JAptxzhxx4PkA7SssMElA4QK6Bp3CyUDNAsVXpjES9LkBFhUV0+5coQMHYwqbbySNA6f09nM3nH0CaSd/3eYoZQDmgiAOW8BNAPYqARh3eDEBkm4vCgvr+P9D+5tWhQfY/P8DwKRnSAkBq38kb17ILQDT7IWuSsxFAUr2Rjm0FFkAinq3s9XgbQGCHwtYcqSFAG64kT303J0C7dRDneyooQD9JYrbK8yRA9S3bneHhIUAIymSuUMMcQIkHLe6VEBdAAau3cITREkA6CiNvkQIPQJU39ki7IQlAaAvwok1UA0BXLQiS4+L7P0xzDpJ2hPI/NNuPGMbJ5z91mUVYxqfSPxqwUPSxZca/G11peifD3L8QzNj5t2jTvwzOozTL360/SPJ4VI1VzD9KJ0nXEIncP8yDdlvHt+4/Et49nYLW9z++2teD4Jn+P+568eH/bwFALf5D9lmAAkCiZAicVOkCQPPT4jNKxwJAOjp3wTzBAUBSQsKNGisBQG4OmjqJwQBAJ3sZoHFuAEA5Ar0Sdi0AQGy4rw5+9f8/7W4nSrC3/z8mPr8zj4T/P4UYRHCQS/8/embVKYcF/z+5YXG+LLP+P/qb8BVUgf4/KvafTtyO/j/avAK1Ppv+PwJV9VVm2P0/JFtYlU/n/D9sN+q2fiX6Pw44e41PNPc/Opt+Z/wN9T+x3vcSW1vzP9ofvWQJlvI/8sciQQBW8j80sfkQa17yPzg5qng2r/I/Oh14WJBh8z+VZjnpctj0P6CcrSuCqQBA\",\"dtype\":\"float64\",\"shape\":[75]},\"y\":{\"__ndarray__\":\"GhExyth1ND/Sv8nbtpRIP2vylNV0PVE/aTum7souWD/At0SJ8fVgPw3Iuahxymc/MSNhhJWvcD/bTfBN02d3P2zb5nxnaoA/CD5h5MAGhz8NmeH1TyaQP+zrCsc9p5Y/LbKd76fGnz/bLW5ISEmmPww9YvTcQq8/JV2OstnstT8Er5Y7M8G+P0c+r3jqkcU/5h99k6ZBzj88bCIzFzjVP4enV8oyxN0//yH99nXg5D8qOpLLf0jtP5kqGJXUifQ/c9cS8kHP/D+/DpwzojQEQIEmwoanVwxA4lgXt9HgE0BSSZ2AJuIbQAMJih9jjiNA5q4l5INuK0AwTKYKRj0zQNv5fmq8/DpAaCJseHrtQkB/+zpwzoxKQM3MzMzMeFJAZmZmZmZqWEAAAAAAAFxeQM3MzMzMJmJAmpmZmZkfZUBmZmZmZhhoQDMzMzMzEWtAAAAAAAAKbkBmZmZmZoFwQM3MzMzM/XFAMzMzMzN6c0CamZmZmfZ0QAAAAAAAc3ZAZmZmZmbvd0DNzMzMzGt5QDMzMzMz6HpAmpmZmZlkfEAAAAAAAOF9QGZmZmZmXX9AZmZmZuZsgECamZmZGSuBQM3MzMxM6YFAAAAAAICngkAzMzMzs2WDQGZmZmbmI4RAmpmZmRnihEDNzMzMTKCFQAAAAACAXoZAMzMzM7Mch0BmZmZm5tqHQJqZmZkZmYhAzczMzExXiUAAAAAAgBWKQDMzMzOz04pAZmZmZuaRi0CamZmZGVCMQM3MzMxMDo1AAAAAAIDMjUAzMzMzs4qOQGZmZmbmSI9A\",\"dtype\":\"float64\",\"shape\":[75]}},\"selected\":{\"id\":\"61c28862-f762-4d38-a485-283b28911a5d\",\"type\":\"Selection\"},\"selection_policy\":{\"id\":\"bccdbae2-18ab-45d0-88eb-a5e219da14ea\",\"type\":\"UnionRenderers\"}},\"id\":\"a109bb42-6e3f-4624-bfcc-bffa62d2e951\",\"type\":\"ColumnDataSource\"},{\"attributes\":{\"callback\":null,\"end\":14.703734988722598,\"start\":-17.3922975141826},\"id\":\"f64f6d5d-7698-48f7-89af-a6aadf05bd60\",\"type\":\"Range1d\"},{\"attributes\":{\"bottom_units\":\"screen\",\"fill_alpha\":{\"value\":0.5},\"fill_color\":{\"value\":\"lightgrey\"},\"left_units\":\"screen\",\"level\":\"overlay\",\"line_alpha\":{\"value\":1.0},\"line_color\":{\"value\":\"black\"},\"line_dash\":[4,4],\"line_width\":{\"value\":2},\"plot\":null,\"render_mode\":\"css\",\"right_units\":\"screen\",\"top_units\":\"screen\"},\"id\":\"3e98d395-fc12-475a-86f1-40695c02d95b\",\"type\":\"BoxAnnotation\"},{\"attributes\":{\"line_alpha\":0.6,\"line_color\":\"#377eb8\",\"line_dash\":[6],\"line_width\":5,\"x\":{\"field\":\"x\"},\"y\":{\"field\":\"y\"}},\"id\":\"c20ccc66-36b0-464c-805e-aaa33f46e611\",\"type\":\"Line\"},{\"attributes\":{\"source\":{\"id\":\"a109bb42-6e3f-4624-bfcc-bffa62d2e951\",\"type\":\"ColumnDataSource\"}},\"id\":\"204d8661-e479-432f-b531-2144bc046e38\",\"type\":\"CDSView\"},{\"attributes\":{\"active_drag\":\"auto\",\"active_inspect\":\"auto\",\"active_scroll\":\"auto\",\"active_tap\":\"auto\",\"tools\":[{\"id\":\"f85e29d7-97cc-40e4-859f-c5e98197e2b2\",\"type\":\"PanTool\"},{\"id\":\"472081da-589e-4d57-86c7-b6f2ae95176e\",\"type\":\"WheelZoomTool\"},{\"id\":\"d60c0abb-c0d2-4cfa-9668-11a9e438adf9\",\"type\":\"BoxZoomTool\"},{\"id\":\"c74ed5e2-c986-473c-887e-14455316c4dd\",\"type\":\"SaveTool\"},{\"id\":\"45ef391b-3369-4cd6-a99f-d4403ba7dc6d\",\"type\":\"ResetTool\"},{\"id\":\"ce17c532-7397-40e9-9f12-c6a0ef345396\",\"type\":\"HelpTool\"}]},\"id\":\"38b130aa-8617-4d91-a961-825fa142edf8\",\"type\":\"Toolbar\"},{\"attributes\":{\"data_source\":{\"id\":\"a109bb42-6e3f-4624-bfcc-bffa62d2e951\",\"type\":\"ColumnDataSource\"},\"glyph\":{\"id\":\"2fd1a142-a569-4192-b5a7-12ee1e56c78b\",\"type\":\"Circle\"},\"hover_glyph\":null,\"muted_glyph\":null,\"nonselection_glyph\":{\"id\":\"0860bf1b-3a6e-4ca6-87a4-7a0f1e9172fa\",\"type\":\"Circle\"},\"selection_glyph\":null,\"view\":{\"id\":\"204d8661-e479-432f-b531-2144bc046e38\",\"type\":\"CDSView\"}},\"id\":\"9723f63a-f66c-473b-a312-ab9adccd1c5b\",\"type\":\"GlyphRenderer\"},{\"attributes\":{\"overlay\":{\"id\":\"3e98d395-fc12-475a-86f1-40695c02d95b\",\"type\":\"BoxAnnotation\"}},\"id\":\"a6c11132-77e7-4c1f-909a-f94b3adcbfc2\",\"type\":\"BoxZoomTool\"},{\"attributes\":{},\"id\":\"b1fad65c-13db-4f0f-b0d2-7af59a7a3933\",\"type\":\"PanTool\"},{\"attributes\":{\"label\":{\"value\":\"CLIRAD (single-run)\"},\"renderers\":[{\"id\":\"5b208f76-9e20-44fc-9410-c2f93cdd14f1\",\"type\":\"GlyphRenderer\"}]},\"id\":\"68b06ef1-1cf2-4d2c-94d7-b67120c63658\",\"type\":\"LegendItem\"},{\"attributes\":{\"fill_alpha\":{\"value\":0.1},\"fill_color\":{\"value\":\"#1f77b4\"},\"line_alpha\":{\"value\":0.1},\"line_color\":{\"value\":\"#1f77b4\"},\"x\":{\"field\":\"x\"},\"y\":{\"field\":\"y\"}},\"id\":\"0860bf1b-3a6e-4ca6-87a4-7a0f1e9172fa\",\"type\":\"Circle\"},{\"attributes\":{\"source\":{\"id\":\"caf98348-c7a1-4b24-8892-15ec3c479890\",\"type\":\"ColumnDataSource\"}},\"id\":\"9ffd27ca-2487-4b2a-bc0a-11b202d87ced\",\"type\":\"CDSView\"},{\"attributes\":{\"callback\":null,\"end\":0.01,\"start\":1020},\"id\":\"c0a159bb-cc8b-47f6-9878-81af6fdb951e\",\"type\":\"Range1d\"},{\"attributes\":{\"line_color\":\"#4daf4a\",\"line_width\":1.5,\"x\":{\"field\":\"x\"},\"y\":{\"field\":\"y\"}},\"id\":\"a096c211-1ebd-4b59-a9d1-8102411ac207\",\"type\":\"Line\"},{\"attributes\":{\"line_alpha\":0.1,\"line_color\":\"#1f77b4\",\"line_dash\":[6],\"line_width\":5,\"x\":{\"field\":\"x\"},\"y\":{\"field\":\"y\"}},\"id\":\"79a2e5dd-84fa-403d-9bcc-1c39dffc23eb\",\"type\":\"Line\"},{\"attributes\":{\"source\":{\"id\":\"7bcc961f-d03e-4101-bd5f-558c94ec0258\",\"type\":\"ColumnDataSource\"}},\"id\":\"897ec3b8-af4a-4029-b875-1506408ce0c5\",\"type\":\"CDSView\"},{\"attributes\":{\"callback\":null,\"data\":{\"x\":{\"__ndarray__\":\"R/KIaN7AVEClCeJMyPNGQOvRhpxr30JAptxzhxx4PkA7SssMElA4QK6Bp3CyUDNAsVXpjES9LkBFhUV0+5coQMHYwqbbySNA6f09nM3nH0CaSd/3eYoZQDmgiAOW8BNAPYqARh3eDEBkm4vCgvr+P9D+5tWhQfY/P8DwKRnSAkBq38kb17ILQDT7IWuSsxFAUr2Rjm0FFkAinq3s9XgbQGCHwtYcqSFAG64kT303J0C7dRDneyooQD9JYrbK8yRA9S3bneHhIUAIymSuUMMcQIkHLe6VEBdAAau3cITREkA6CiNvkQIPQJU39ki7IQlAaAvwok1UA0BXLQiS4+L7P0xzDpJ2hPI/NNuPGMbJ5z91mUVYxqfSPxqwUPSxZca/G11peifD3L8QzNj5t2jTvwzOozTL360/SPJ4VI1VzD9KJ0nXEIncP8yDdlvHt+4/Et49nYLW9z++2teD4Jn+P+568eH/bwFALf5D9lmAAkCiZAicVOkCQPPT4jNKxwJAOjp3wTzBAUBSQsKNGisBQG4OmjqJwQBAJ3sZoHFuAEA5Ar0Sdi0AQGy4rw5+9f8/7W4nSrC3/z8mPr8zj4T/P4UYRHCQS/8/embVKYcF/z+5YXG+LLP+P/qb8BVUgf4/KvafTtyO/j/avAK1Ppv+PwJV9VVm2P0/JFtYlU/n/D9sN+q2fiX6Pw44e41PNPc/Opt+Z/wN9T+x3vcSW1vzP9ofvWQJlvI/8sciQQBW8j80sfkQa17yPzg5qng2r/I/Oh14WJBh8z+VZjnpctj0P6CcrSuCqQBA\",\"dtype\":\"float64\",\"shape\":[75]},\"y\":{\"__ndarray__\":\"GhExyth1ND/Sv8nbtpRIP2vylNV0PVE/aTum7souWD/At0SJ8fVgPw3Iuahxymc/MSNhhJWvcD/bTfBN02d3P2zb5nxnaoA/CD5h5MAGhz8NmeH1TyaQP+zrCsc9p5Y/LbKd76fGnz/bLW5ISEmmPww9YvTcQq8/JV2OstnstT8Er5Y7M8G+P0c+r3jqkcU/5h99k6ZBzj88bCIzFzjVP4enV8oyxN0//yH99nXg5D8qOpLLf0jtP5kqGJXUifQ/c9cS8kHP/D+/DpwzojQEQIEmwoanVwxA4lgXt9HgE0BSSZ2AJuIbQAMJih9jjiNA5q4l5INuK0AwTKYKRj0zQNv5fmq8/DpAaCJseHrtQkB/+zpwzoxKQM3MzMzMeFJAZmZmZmZqWEAAAAAAAFxeQM3MzMzMJmJAmpmZmZkfZUBmZmZmZhhoQDMzMzMzEWtAAAAAAAAKbkBmZmZmZoFwQM3MzMzM/XFAMzMzMzN6c0CamZmZmfZ0QAAAAAAAc3ZAZmZmZmbvd0DNzMzMzGt5QDMzMzMz6HpAmpmZmZlkfEAAAAAAAOF9QGZmZmZmXX9AZmZmZuZsgECamZmZGSuBQM3MzMxM6YFAAAAAAICngkAzMzMzs2WDQGZmZmbmI4RAmpmZmRnihEDNzMzMTKCFQAAAAACAXoZAMzMzM7Mch0BmZmZm5tqHQJqZmZkZmYhAzczMzExXiUAAAAAAgBWKQDMzMzOz04pAZmZmZuaRi0CamZmZGVCMQM3MzMxMDo1AAAAAAIDMjUAzMzMzs4qOQGZmZmbmSI9A\",\"dtype\":\"float64\",\"shape\":[75]}},\"selected\":{\"id\":\"7ce842a8-f0b9-4784-8ebf-a2a14da9b728\",\"type\":\"Selection\"},\"selection_policy\":{\"id\":\"653de421-9c42-442f-9f65-25911a71bc06\",\"type\":\"UnionRenderers\"}},\"id\":\"730bbe0d-77d9-4708-8745-383b82837cdc\",\"type\":\"ColumnDataSource\"},{\"attributes\":{\"items\":[{\"id\":\"ea9d9590-7b3e-408a-a3ec-e75c211d1629\",\"type\":\"LegendItem\"},{\"id\":\"fb78f1c0-2c5a-45af-9121-e73f749c5de8\",\"type\":\"LegendItem\"}],\"label_text_font_size\":{\"value\":\"8pt\"},\"location\":\"top_center\",\"orientation\":\"horizontal\",\"plot\":{\"id\":\"eac173a6-250c-468a-bf2d-ef5b06ffbcd6\",\"subtype\":\"Figure\",\"type\":\"Plot\"}},\"id\":\"18ab8f60-63c8-4e03-9d1a-43f5a5400ca5\",\"type\":\"Legend\"},{\"attributes\":{},\"id\":\"cf32f8b5-1146-4072-999f-b5083d8262bf\",\"type\":\"ResetTool\"},{\"attributes\":{\"data_source\":{\"id\":\"caf98348-c7a1-4b24-8892-15ec3c479890\",\"type\":\"ColumnDataSource\"},\"glyph\":{\"id\":\"c20ccc66-36b0-464c-805e-aaa33f46e611\",\"type\":\"Line\"},\"hover_glyph\":null,\"muted_glyph\":null,\"nonselection_glyph\":{\"id\":\"79a2e5dd-84fa-403d-9bcc-1c39dffc23eb\",\"type\":\"Line\"},\"selection_glyph\":null,\"view\":{\"id\":\"9ffd27ca-2487-4b2a-bc0a-11b202d87ced\",\"type\":\"CDSView\"}},\"id\":\"acf9520b-e25b-454b-b189-b8cd78ca85e9\",\"type\":\"GlyphRenderer\"},{\"attributes\":{\"fill_alpha\":{\"value\":0.7},\"fill_color\":{\"value\":\"#4daf4a\"},\"line_alpha\":{\"value\":0.7},\"line_color\":{\"value\":\"#4daf4a\"},\"x\":{\"field\":\"x\"},\"y\":{\"field\":\"y\"}},\"id\":\"2fd1a142-a569-4192-b5a7-12ee1e56c78b\",\"type\":\"Circle\"}],\"root_ids\":[\"2528bf98-20e9-4197-9227-eb8a3b5e138a\"]},\"title\":\"Bokeh Application\",\"version\":\"0.12.16\"}};\n",
       "  var render_items = [{\"docid\":\"b6002b17-a11a-4667-bc89-4376aab1dbfb\",\"elementid\":\"aabe745e-268f-4042-b4c2-b908dbe69d76\",\"modelid\":\"2528bf98-20e9-4197-9227-eb8a3b5e138a\"}];\n",
       "  root.Bokeh.embed.embed_items_notebook(docs_json, render_items);\n",
       "\n",
       "  }\n",
       "  if (root.Bokeh !== undefined) {\n",
       "    embed_document(root);\n",
       "  } else {\n",
       "    var attempts = 0;\n",
       "    var timer = setInterval(function(root) {\n",
       "      if (root.Bokeh !== undefined) {\n",
       "        embed_document(root);\n",
       "        clearInterval(timer);\n",
       "      }\n",
       "      attempts++;\n",
       "      if (attempts > 100) {\n",
       "        console.log(\"Bokeh: ERROR: Unable to run BokehJS code because BokehJS library is missing\")\n",
       "        clearInterval(timer);\n",
       "      }\n",
       "    }, 10, root)\n",
       "  }\n",
       "})(window);"
      ],
      "application/vnd.bokehjs_exec.v0+json": ""
     },
     "metadata": {
      "application/vnd.bokehjs_exec.v0+json": {
       "id": "2528bf98-20e9-4197-9227-eb8a3b5e138a"
      }
     },
     "output_type": "display_data"
    },
    {
     "data": {
      "text/markdown": [
       "*FIGURE.* Cooling rates & difference."
      ],
      "text/plain": [
       "<IPython.core.display.Markdown object>"
      ]
     },
     "metadata": {},
     "output_type": "display_data"
    },
    {
     "data": {
      "text/html": [
       "<a id=\"Fluxes._trp.\"></a>"
      ],
      "text/plain": [
       "<IPython.core.display.HTML object>"
      ]
     },
     "metadata": {},
     "output_type": "display_data"
    },
    {
     "data": {
      "text/markdown": [
       "# Fluxes. trp."
      ],
      "text/plain": [
       "<IPython.core.display.Markdown object>"
      ]
     },
     "metadata": {},
     "output_type": "display_data"
    },
    {
     "data": {
      "text/html": [
       "\n",
       "<div class=\"bk-root\">\n",
       "    <div class=\"bk-plotdiv\" id=\"3869dac6-9d52-48d1-a4ba-762cea1bf052\"></div>\n",
       "</div>"
      ]
     },
     "metadata": {},
     "output_type": "display_data"
    },
    {
     "data": {
      "application/javascript": [
       "(function(root) {\n",
       "  function embed_document(root) {\n",
       "    \n",
       "  var docs_json = {\"e60f4ddc-a32d-4342-961b-97855ec6cfc3\":{\"roots\":{\"references\":[{\"attributes\":{\"data_source\":{\"id\":\"3f843eec-3140-4fa9-bb40-a581495f9663\",\"type\":\"ColumnDataSource\"},\"glyph\":{\"id\":\"391e3813-3e10-4e6b-a87d-ca4a61867c35\",\"type\":\"VBar\"},\"hover_glyph\":null,\"muted_glyph\":null,\"nonselection_glyph\":{\"id\":\"e2bd1591-6178-4f34-a66d-4b347f2d2c7f\",\"type\":\"VBar\"},\"selection_glyph\":null,\"view\":{\"id\":\"ec2f909c-60a8-45cb-8c89-eaf8d6f5859d\",\"type\":\"CDSView\"}},\"id\":\"167928c4-9f52-4009-8de6-bbdeb2be0cb4\",\"type\":\"GlyphRenderer\"},{\"attributes\":{\"toolbar\":{\"id\":\"d9f2ad65-3e1f-4ddd-bf95-97dbd9320403\",\"type\":\"ProxyToolbar\"},\"toolbar_location\":\"above\"},\"id\":\"b3ce0d3e-e4b0-4500-9398-dd705cbb3c6a\",\"type\":\"ToolbarBox\"},{\"attributes\":{\"fill_color\":{\"value\":\"#1f77b4\"},\"line_color\":{\"value\":\"#1f77b4\"},\"top\":{\"field\":\"flux\"},\"width\":{\"value\":0.9},\"x\":{\"field\":\"band\"}},\"id\":\"391e3813-3e10-4e6b-a87d-ca4a61867c35\",\"type\":\"VBar\"},{\"attributes\":{\"plot\":null,\"text\":\"TOA flux. CLIRAD (single-run) - CRD.\"},\"id\":\"5a8ac07c-d6a1-43b7-b7ab-b043012861ed\",\"type\":\"Title\"},{\"attributes\":{\"source\":{\"id\":\"3f843eec-3140-4fa9-bb40-a581495f9663\",\"type\":\"ColumnDataSource\"}},\"id\":\"ec2f909c-60a8-45cb-8c89-eaf8d6f5859d\",\"type\":\"CDSView\"},{\"attributes\":{},\"id\":\"6428dbc2-3111-4a72-919d-c0cba3777cf0\",\"type\":\"CategoricalScale\"},{\"attributes\":{\"callback\":null},\"id\":\"54cc28b5-f409-4bc3-9005-6dc4051b5a65\",\"type\":\"DataRange1d\"},{\"attributes\":{\"callback\":null,\"factors\":[\"1\",\"2\",\"3\",\"4\",\"5\",\"6\",\"7\",\"8\",\"9\",\"10\",\"11\"]},\"id\":\"f85247f3-c31a-43fa-b982-b81a33decbfb\",\"type\":\"FactorRange\"},{\"attributes\":{},\"id\":\"ff996bae-385f-4542-a3a9-0294a508697f\",\"type\":\"CategoricalTicker\"},{\"attributes\":{\"axis_label\":\"flux (W m-2)\",\"formatter\":{\"id\":\"9ffb3b38-8e01-4f7c-86b5-f935ea88dd29\",\"type\":\"BasicTickFormatter\"},\"plot\":{\"id\":\"91ef240b-cd6c-4edd-a25c-01c4d48e3621\",\"subtype\":\"Figure\",\"type\":\"Plot\"},\"ticker\":{\"id\":\"f4336fab-36e9-4ba2-a8eb-bde9e1d7b8cd\",\"type\":\"BasicTicker\"}},\"id\":\"dfb0ee61-ecf8-47a1-914d-6de9207bbccc\",\"type\":\"LinearAxis\"},{\"attributes\":{\"callback\":null,\"data\":{\"band\":[\"1\",\"2\",\"3\",\"4\",\"5\",\"6\",\"7\",\"8\",\"9\",\"10\",\"11\"],\"flux\":{\"__ndarray__\":\"gIEi9SJj5D9gL48tsrQiQCTLYXtWTxVAIA7B7eBy6D9YKRWe4VfxPwjRxraxMijAKt8zEqFRH8BQzDaBM8LiP2pHJwEgnRBAuIrN4FIS/T/wLDAa6DD8Pw==\",\"dtype\":\"float64\",\"shape\":[11]}},\"selected\":{\"id\":\"1697c9a8-0721-4cd6-9593-373ed4b0ee66\",\"type\":\"Selection\"},\"selection_policy\":{\"id\":\"77a37fc7-c0f1-490b-bd0c-63ae2dac7eed\",\"type\":\"UnionRenderers\"}},\"id\":\"f361de13-d352-4ad3-a480-61a08c6768d8\",\"type\":\"ColumnDataSource\"},{\"attributes\":{},\"id\":\"f4336fab-36e9-4ba2-a8eb-bde9e1d7b8cd\",\"type\":\"BasicTicker\"},{\"attributes\":{\"data_source\":{\"id\":\"3b6632f4-e297-427c-8cbc-2155ce0edc86\",\"type\":\"ColumnDataSource\"},\"glyph\":{\"id\":\"13127135-10ba-4bf1-9d4a-551742254782\",\"type\":\"VBar\"},\"hover_glyph\":null,\"muted_glyph\":null,\"nonselection_glyph\":{\"id\":\"9f4f858c-68cf-4577-8d8c-47f24d8d3cd8\",\"type\":\"VBar\"},\"selection_glyph\":null,\"view\":{\"id\":\"a7e5439e-031a-47a6-81c8-928a0a213515\",\"type\":\"CDSView\"}},\"id\":\"02101eb6-080e-430f-a703-9e1eedb66ce7\",\"type\":\"GlyphRenderer\"},{\"attributes\":{\"fill_alpha\":{\"value\":0.1},\"fill_color\":{\"value\":\"#1f77b4\"},\"line_alpha\":{\"value\":0.1},\"line_color\":{\"value\":\"#1f77b4\"},\"top\":{\"field\":\"flux\"},\"width\":{\"value\":0.9},\"x\":{\"field\":\"band\"}},\"id\":\"e2bd1591-6178-4f34-a66d-4b347f2d2c7f\",\"type\":\"VBar\"},{\"attributes\":{\"overlay\":{\"id\":\"ed06bf4a-b4ee-4024-b632-8f00434d2274\",\"type\":\"BoxAnnotation\"}},\"id\":\"19809151-95ec-4f39-83fe-4948925c6f47\",\"type\":\"BoxZoomTool\"},{\"attributes\":{\"dimension\":1,\"plot\":{\"id\":\"91ef240b-cd6c-4edd-a25c-01c4d48e3621\",\"subtype\":\"Figure\",\"type\":\"Plot\"},\"ticker\":{\"id\":\"f4336fab-36e9-4ba2-a8eb-bde9e1d7b8cd\",\"type\":\"BasicTicker\"}},\"id\":\"f86b2716-4c2b-4c5c-8516-c09a5c6482f1\",\"type\":\"Grid\"},{\"attributes\":{\"plot\":{\"id\":\"91ef240b-cd6c-4edd-a25c-01c4d48e3621\",\"subtype\":\"Figure\",\"type\":\"Plot\"},\"ticker\":{\"id\":\"ff996bae-385f-4542-a3a9-0294a508697f\",\"type\":\"CategoricalTicker\"}},\"id\":\"31738d57-04d8-4b75-ae9f-41d2739ab338\",\"type\":\"Grid\"},{\"attributes\":{},\"id\":\"43a6c45b-1695-4eea-a9f7-5bbafdd0f135\",\"type\":\"PanTool\"},{\"attributes\":{\"children\":[{\"id\":\"b3ce0d3e-e4b0-4500-9398-dd705cbb3c6a\",\"type\":\"ToolbarBox\"},{\"id\":\"a69ce4b0-be46-41aa-9091-f3b5c2f339d3\",\"type\":\"Column\"}]},\"id\":\"e837101c-26ab-4e1c-9f0c-48e3937b2425\",\"type\":\"Column\"},{\"attributes\":{},\"id\":\"10d87f0c-4fe6-4d57-a2a4-d3b4e6323b42\",\"type\":\"LinearScale\"},{\"attributes\":{\"axis_label\":\"spectral band\",\"formatter\":{\"id\":\"5d24eed2-ce9b-413f-b4bd-55072badfe19\",\"type\":\"CategoricalTickFormatter\"},\"plot\":{\"id\":\"91ef240b-cd6c-4edd-a25c-01c4d48e3621\",\"subtype\":\"Figure\",\"type\":\"Plot\"},\"ticker\":{\"id\":\"ff996bae-385f-4542-a3a9-0294a508697f\",\"type\":\"CategoricalTicker\"}},\"id\":\"d6343ad0-c2df-4f28-b7ab-d3821791f06b\",\"type\":\"CategoricalAxis\"},{\"attributes\":{},\"id\":\"57786823-428f-4ea9-aa50-3ed21d4a5372\",\"type\":\"WheelZoomTool\"},{\"attributes\":{\"active_drag\":\"auto\",\"active_inspect\":\"auto\",\"active_scroll\":\"auto\",\"active_tap\":\"auto\",\"tools\":[{\"id\":\"43a6c45b-1695-4eea-a9f7-5bbafdd0f135\",\"type\":\"PanTool\"},{\"id\":\"57786823-428f-4ea9-aa50-3ed21d4a5372\",\"type\":\"WheelZoomTool\"},{\"id\":\"19809151-95ec-4f39-83fe-4948925c6f47\",\"type\":\"BoxZoomTool\"},{\"id\":\"17352f7f-4cd5-47df-aa8a-bf04e34360e2\",\"type\":\"SaveTool\"},{\"id\":\"df057144-2df9-407c-b588-0db136694021\",\"type\":\"ResetTool\"},{\"id\":\"68f0da15-3cfa-4c29-8d50-697fb89aa7e6\",\"type\":\"HelpTool\"}]},\"id\":\"4654d133-7f5c-41bb-99a6-41d6117e81c5\",\"type\":\"Toolbar\"},{\"attributes\":{},\"id\":\"17268e42-d02e-4dd9-ad92-e63212cc5e89\",\"type\":\"SaveTool\"},{\"attributes\":{\"plot\":null,\"text\":\"Atmosphere heating. CLIRAD (single-run) - CRD.\"},\"id\":\"6be828df-ca50-4a16-9f6f-3af8aa643f96\",\"type\":\"Title\"},{\"attributes\":{},\"id\":\"45e7d461-4913-4add-a6bd-c92efa124a8f\",\"type\":\"ResetTool\"},{\"attributes\":{\"bottom_units\":\"screen\",\"fill_alpha\":{\"value\":0.5},\"fill_color\":{\"value\":\"lightgrey\"},\"left_units\":\"screen\",\"level\":\"overlay\",\"line_alpha\":{\"value\":1.0},\"line_color\":{\"value\":\"black\"},\"line_dash\":[4,4],\"line_width\":{\"value\":2},\"plot\":null,\"render_mode\":\"css\",\"right_units\":\"screen\",\"top_units\":\"screen\"},\"id\":\"d9f9d62a-c8ec-436b-8626-d998918b3403\",\"type\":\"BoxAnnotation\"},{\"attributes\":{},\"id\":\"9ab40b95-b2c4-40e7-9c7f-9dbc19101a7d\",\"type\":\"LinearScale\"},{\"attributes\":{},\"id\":\"77a37fc7-c0f1-490b-bd0c-63ae2dac7eed\",\"type\":\"UnionRenderers\"},{\"attributes\":{\"active_drag\":\"auto\",\"active_inspect\":\"auto\",\"active_scroll\":\"auto\",\"active_tap\":\"auto\",\"tools\":[{\"id\":\"d2ffa113-b168-4ed0-af9f-012a007c006b\",\"type\":\"PanTool\"},{\"id\":\"e82edd52-2aac-4fbc-a4cf-bb165078b77c\",\"type\":\"WheelZoomTool\"},{\"id\":\"2e23c6e5-7aa4-44aa-80a1-f3936f3eb705\",\"type\":\"BoxZoomTool\"},{\"id\":\"3ebcc218-6d12-41fa-83f1-a62ff2798a8a\",\"type\":\"SaveTool\"},{\"id\":\"45e7d461-4913-4add-a6bd-c92efa124a8f\",\"type\":\"ResetTool\"},{\"id\":\"69d01343-da19-4c65-9521-1a32e8c2688c\",\"type\":\"HelpTool\"}]},\"id\":\"610e43d9-0b28-4088-b96b-332d0f34ead2\",\"type\":\"Toolbar\"},{\"attributes\":{},\"id\":\"5baed323-79d4-443e-a712-840dec1695cd\",\"type\":\"UnionRenderers\"},{\"attributes\":{},\"id\":\"8ce11242-c2ef-4884-8c3a-40ed2f95633d\",\"type\":\"WheelZoomTool\"},{\"attributes\":{\"data_source\":{\"id\":\"f361de13-d352-4ad3-a480-61a08c6768d8\",\"type\":\"ColumnDataSource\"},\"glyph\":{\"id\":\"041c12a8-001d-4372-ad3a-405baf8ca6bb\",\"type\":\"VBar\"},\"hover_glyph\":null,\"muted_glyph\":null,\"nonselection_glyph\":{\"id\":\"5eb05ba8-af27-42ed-ad4f-ff4a66247fa8\",\"type\":\"VBar\"},\"selection_glyph\":null,\"view\":{\"id\":\"9d67f95b-0662-4884-9614-9731a5b08040\",\"type\":\"CDSView\"}},\"id\":\"d1578d91-0a2e-4fa0-bbd2-3d7a77d2f276\",\"type\":\"GlyphRenderer\"},{\"attributes\":{\"plot\":{\"id\":\"c897581d-28cc-433d-b8fd-a9d5efbded72\",\"subtype\":\"Figure\",\"type\":\"Plot\"},\"ticker\":{\"id\":\"973e9b8a-1085-4cd7-ae2d-1ad3c1c63393\",\"type\":\"CategoricalTicker\"}},\"id\":\"a39dae26-5c9b-43be-add1-1c57d4056c6f\",\"type\":\"Grid\"},{\"attributes\":{\"callback\":null,\"factors\":[\"1\",\"2\",\"3\",\"4\",\"5\",\"6\",\"7\",\"8\",\"9\",\"10\",\"11\"]},\"id\":\"52581126-7e00-4a03-9ca0-6f709ecc5725\",\"type\":\"FactorRange\"},{\"attributes\":{},\"id\":\"9e7e45e7-1a35-48cf-9eb0-7f0f00df783f\",\"type\":\"CategoricalScale\"},{\"attributes\":{\"callback\":null,\"data\":{\"band\":[\"1\",\"2\",\"3\",\"4\",\"5\",\"6\",\"7\",\"8\",\"9\",\"10\",\"11\"],\"flux\":{\"__ndarray__\":\"wJ22RgRj5D+M7IMsC04jQARC6+HLZBdAMEJcOXtn6j8x7gbRWrElQBhftMcLaUJAIQw89x5uLUD1my4w0FYuQEgIRalzExpAxNWmVgRE/T8k/4KTI3MNQA==\",\"dtype\":\"float64\",\"shape\":[11]}},\"selected\":{\"id\":\"35a92cd6-1b25-4bac-b7c0-2e5f9f1c26ed\",\"type\":\"Selection\"},\"selection_policy\":{\"id\":\"5baed323-79d4-443e-a712-840dec1695cd\",\"type\":\"UnionRenderers\"}},\"id\":\"3f843eec-3140-4fa9-bb40-a581495f9663\",\"type\":\"ColumnDataSource\"},{\"attributes\":{\"children\":[{\"id\":\"61ea4243-f4df-4ec0-af3e-6823d528fc6c\",\"type\":\"Row\"}]},\"id\":\"a69ce4b0-be46-41aa-9091-f3b5c2f339d3\",\"type\":\"Column\"},{\"attributes\":{},\"id\":\"69d01343-da19-4c65-9521-1a32e8c2688c\",\"type\":\"HelpTool\"},{\"attributes\":{},\"id\":\"1697c9a8-0721-4cd6-9593-373ed4b0ee66\",\"type\":\"Selection\"},{\"attributes\":{},\"id\":\"e82edd52-2aac-4fbc-a4cf-bb165078b77c\",\"type\":\"WheelZoomTool\"},{\"attributes\":{},\"id\":\"9ffb3b38-8e01-4f7c-86b5-f935ea88dd29\",\"type\":\"BasicTickFormatter\"},{\"attributes\":{\"below\":[{\"id\":\"463acb0d-9cdb-4a17-8476-030f23e9a00d\",\"type\":\"CategoricalAxis\"}],\"left\":[{\"id\":\"ad88faa0-b982-4679-9885-a86f4c9398f7\",\"type\":\"LinearAxis\"}],\"plot_height\":300,\"plot_width\":300,\"renderers\":[{\"id\":\"463acb0d-9cdb-4a17-8476-030f23e9a00d\",\"type\":\"CategoricalAxis\"},{\"id\":\"a39dae26-5c9b-43be-add1-1c57d4056c6f\",\"type\":\"Grid\"},{\"id\":\"ad88faa0-b982-4679-9885-a86f4c9398f7\",\"type\":\"LinearAxis\"},{\"id\":\"588b8844-d18a-4638-b206-1b9af2fb81a7\",\"type\":\"Grid\"},{\"id\":\"af325b1d-bca2-4485-be14-9f7f7394610b\",\"type\":\"BoxAnnotation\"},{\"id\":\"d1578d91-0a2e-4fa0-bbd2-3d7a77d2f276\",\"type\":\"GlyphRenderer\"}],\"title\":{\"id\":\"6be828df-ca50-4a16-9f6f-3af8aa643f96\",\"type\":\"Title\"},\"toolbar\":{\"id\":\"610e43d9-0b28-4088-b96b-332d0f34ead2\",\"type\":\"Toolbar\"},\"toolbar_location\":null,\"x_range\":{\"id\":\"8d6b8971-83f4-4136-bc78-871036a531cb\",\"type\":\"FactorRange\"},\"x_scale\":{\"id\":\"9e7e45e7-1a35-48cf-9eb0-7f0f00df783f\",\"type\":\"CategoricalScale\"},\"y_range\":{\"id\":\"710b338f-781c-4205-a1fc-fef6817ca37b\",\"type\":\"DataRange1d\"},\"y_scale\":{\"id\":\"a2803203-63b8-4e3e-b640-3360215e07a8\",\"type\":\"LinearScale\"}},\"id\":\"c897581d-28cc-433d-b8fd-a9d5efbded72\",\"subtype\":\"Figure\",\"type\":\"Plot\"},{\"attributes\":{\"fill_alpha\":{\"value\":0.1},\"fill_color\":{\"value\":\"#1f77b4\"},\"line_alpha\":{\"value\":0.1},\"line_color\":{\"value\":\"#1f77b4\"},\"top\":{\"field\":\"flux\"},\"width\":{\"value\":0.9},\"x\":{\"field\":\"band\"}},\"id\":\"5eb05ba8-af27-42ed-ad4f-ff4a66247fa8\",\"type\":\"VBar\"},{\"attributes\":{},\"id\":\"9e2f1f05-eda7-4177-8aec-3d0d8b78f75b\",\"type\":\"ResetTool\"},{\"attributes\":{},\"id\":\"5d24eed2-ce9b-413f-b4bd-55072badfe19\",\"type\":\"CategoricalTickFormatter\"},{\"attributes\":{},\"id\":\"f7a70fe6-1dd9-401e-80c7-85483110f6f9\",\"type\":\"CategoricalTickFormatter\"},{\"attributes\":{\"dimension\":1,\"plot\":{\"id\":\"c897581d-28cc-433d-b8fd-a9d5efbded72\",\"subtype\":\"Figure\",\"type\":\"Plot\"},\"ticker\":{\"id\":\"c76d907b-3be4-4fd1-af6c-c211b93d475f\",\"type\":\"BasicTicker\"}},\"id\":\"588b8844-d18a-4638-b206-1b9af2fb81a7\",\"type\":\"Grid\"},{\"attributes\":{\"fill_color\":{\"value\":\"#1f77b4\"},\"line_color\":{\"value\":\"#1f77b4\"},\"top\":{\"field\":\"flux\"},\"width\":{\"value\":0.9},\"x\":{\"field\":\"band\"}},\"id\":\"13127135-10ba-4bf1-9d4a-551742254782\",\"type\":\"VBar\"},{\"attributes\":{},\"id\":\"973e9b8a-1085-4cd7-ae2d-1ad3c1c63393\",\"type\":\"CategoricalTicker\"},{\"attributes\":{\"source\":{\"id\":\"f361de13-d352-4ad3-a480-61a08c6768d8\",\"type\":\"ColumnDataSource\"}},\"id\":\"9d67f95b-0662-4884-9614-9731a5b08040\",\"type\":\"CDSView\"},{\"attributes\":{\"bottom_units\":\"screen\",\"fill_alpha\":{\"value\":0.5},\"fill_color\":{\"value\":\"lightgrey\"},\"left_units\":\"screen\",\"level\":\"overlay\",\"line_alpha\":{\"value\":1.0},\"line_color\":{\"value\":\"black\"},\"line_dash\":[4,4],\"line_width\":{\"value\":2},\"plot\":null,\"render_mode\":\"css\",\"right_units\":\"screen\",\"top_units\":\"screen\"},\"id\":\"af325b1d-bca2-4485-be14-9f7f7394610b\",\"type\":\"BoxAnnotation\"},{\"attributes\":{\"below\":[{\"id\":\"d6343ad0-c2df-4f28-b7ab-d3821791f06b\",\"type\":\"CategoricalAxis\"}],\"left\":[{\"id\":\"dfb0ee61-ecf8-47a1-914d-6de9207bbccc\",\"type\":\"LinearAxis\"}],\"plot_height\":300,\"plot_width\":300,\"renderers\":[{\"id\":\"d6343ad0-c2df-4f28-b7ab-d3821791f06b\",\"type\":\"CategoricalAxis\"},{\"id\":\"31738d57-04d8-4b75-ae9f-41d2739ab338\",\"type\":\"Grid\"},{\"id\":\"dfb0ee61-ecf8-47a1-914d-6de9207bbccc\",\"type\":\"LinearAxis\"},{\"id\":\"f86b2716-4c2b-4c5c-8516-c09a5c6482f1\",\"type\":\"Grid\"},{\"id\":\"ed06bf4a-b4ee-4024-b632-8f00434d2274\",\"type\":\"BoxAnnotation\"},{\"id\":\"167928c4-9f52-4009-8de6-bbdeb2be0cb4\",\"type\":\"GlyphRenderer\"}],\"title\":{\"id\":\"5a8ac07c-d6a1-43b7-b7ab-b043012861ed\",\"type\":\"Title\"},\"toolbar\":{\"id\":\"4654d133-7f5c-41bb-99a6-41d6117e81c5\",\"type\":\"Toolbar\"},\"toolbar_location\":null,\"x_range\":{\"id\":\"f85247f3-c31a-43fa-b982-b81a33decbfb\",\"type\":\"FactorRange\"},\"x_scale\":{\"id\":\"6428dbc2-3111-4a72-919d-c0cba3777cf0\",\"type\":\"CategoricalScale\"},\"y_range\":{\"id\":\"54cc28b5-f409-4bc3-9005-6dc4051b5a65\",\"type\":\"DataRange1d\"},\"y_scale\":{\"id\":\"10d87f0c-4fe6-4d57-a2a4-d3b4e6323b42\",\"type\":\"LinearScale\"}},\"id\":\"91ef240b-cd6c-4edd-a25c-01c4d48e3621\",\"subtype\":\"Figure\",\"type\":\"Plot\"},{\"attributes\":{},\"id\":\"6650e9a6-fa58-45b5-b469-9d7e526191b4\",\"type\":\"BasicTickFormatter\"},{\"attributes\":{},\"id\":\"c76d907b-3be4-4fd1-af6c-c211b93d475f\",\"type\":\"BasicTicker\"},{\"attributes\":{},\"id\":\"df057144-2df9-407c-b588-0db136694021\",\"type\":\"ResetTool\"},{\"attributes\":{\"plot\":{\"id\":\"61a0ef79-b8fa-498f-871c-6f59113ce1cd\",\"subtype\":\"Figure\",\"type\":\"Plot\"},\"ticker\":{\"id\":\"619cb04e-daf6-47ff-8d59-64ed51d5ccb7\",\"type\":\"CategoricalTicker\"}},\"id\":\"dfc2ff11-6f5e-471f-9a88-efac0bbf6672\",\"type\":\"Grid\"},{\"attributes\":{\"axis_label\":\"flux (W m-2)\",\"formatter\":{\"id\":\"6650e9a6-fa58-45b5-b469-9d7e526191b4\",\"type\":\"BasicTickFormatter\"},\"plot\":{\"id\":\"c897581d-28cc-433d-b8fd-a9d5efbded72\",\"subtype\":\"Figure\",\"type\":\"Plot\"},\"ticker\":{\"id\":\"c76d907b-3be4-4fd1-af6c-c211b93d475f\",\"type\":\"BasicTicker\"}},\"id\":\"ad88faa0-b982-4679-9885-a86f4c9398f7\",\"type\":\"LinearAxis\"},{\"attributes\":{\"overlay\":{\"id\":\"af325b1d-bca2-4485-be14-9f7f7394610b\",\"type\":\"BoxAnnotation\"}},\"id\":\"2e23c6e5-7aa4-44aa-80a1-f3936f3eb705\",\"type\":\"BoxZoomTool\"},{\"attributes\":{\"axis_label\":\"flux (W m-2)\",\"formatter\":{\"id\":\"2efb24c7-8de2-48c1-8322-95b804ae8535\",\"type\":\"BasicTickFormatter\"},\"plot\":{\"id\":\"61a0ef79-b8fa-498f-871c-6f59113ce1cd\",\"subtype\":\"Figure\",\"type\":\"Plot\"},\"ticker\":{\"id\":\"307df0df-d5e5-4698-8d0f-2d3357d9f8e3\",\"type\":\"BasicTicker\"}},\"id\":\"ce2e85d8-9d7a-4387-ba97-f043bab877cb\",\"type\":\"LinearAxis\"},{\"attributes\":{\"source\":{\"id\":\"3b6632f4-e297-427c-8cbc-2155ce0edc86\",\"type\":\"ColumnDataSource\"}},\"id\":\"a7e5439e-031a-47a6-81c8-928a0a213515\",\"type\":\"CDSView\"},{\"attributes\":{},\"id\":\"a2803203-63b8-4e3e-b640-3360215e07a8\",\"type\":\"LinearScale\"},{\"attributes\":{},\"id\":\"35a92cd6-1b25-4bac-b7c0-2e5f9f1c26ed\",\"type\":\"Selection\"},{\"attributes\":{},\"id\":\"0553afad-c466-4cfd-bab3-32faa5f3721e\",\"type\":\"CategoricalScale\"},{\"attributes\":{},\"id\":\"d2ffa113-b168-4ed0-af9f-012a007c006b\",\"type\":\"PanTool\"},{\"attributes\":{\"active_drag\":\"auto\",\"active_inspect\":\"auto\",\"active_scroll\":\"auto\",\"active_tap\":\"auto\",\"tools\":[{\"id\":\"e661d0d4-6b3d-4eb1-8ca3-d84171f5431c\",\"type\":\"PanTool\"},{\"id\":\"8ce11242-c2ef-4884-8c3a-40ed2f95633d\",\"type\":\"WheelZoomTool\"},{\"id\":\"020bdea2-673c-4083-a712-4902d6d79bd0\",\"type\":\"BoxZoomTool\"},{\"id\":\"17268e42-d02e-4dd9-ad92-e63212cc5e89\",\"type\":\"SaveTool\"},{\"id\":\"9e2f1f05-eda7-4177-8aec-3d0d8b78f75b\",\"type\":\"ResetTool\"},{\"id\":\"6fcbbdbd-5ea6-458d-9433-7e5c24d2ca5d\",\"type\":\"HelpTool\"}]},\"id\":\"23bf762c-0fa6-4460-a8de-89f6a190e67b\",\"type\":\"Toolbar\"},{\"attributes\":{\"callback\":null,\"data\":{\"band\":[\"1\",\"2\",\"3\",\"4\",\"5\",\"6\",\"7\",\"8\",\"9\",\"10\",\"11\"],\"flux\":{\"__ndarray__\":\"AADADkbs874AzLT9KyvTP0AlWYejq+A/AMzqVs9Jrz+SMT7MXoYjQMVTjzS4dUhARhBCm3eLNkCdielCrCotQEiX/iWp7AJAAGCq0hbXiD8oqV1dX7X+Pw==\",\"dtype\":\"float64\",\"shape\":[11]}},\"selected\":{\"id\":\"86802461-e0a2-411a-9000-7aecf9314897\",\"type\":\"Selection\"},\"selection_policy\":{\"id\":\"8c4ab735-2666-4675-88d8-843ee017d678\",\"type\":\"UnionRenderers\"}},\"id\":\"3b6632f4-e297-427c-8cbc-2155ce0edc86\",\"type\":\"ColumnDataSource\"},{\"attributes\":{\"tools\":[{\"id\":\"43a6c45b-1695-4eea-a9f7-5bbafdd0f135\",\"type\":\"PanTool\"},{\"id\":\"57786823-428f-4ea9-aa50-3ed21d4a5372\",\"type\":\"WheelZoomTool\"},{\"id\":\"19809151-95ec-4f39-83fe-4948925c6f47\",\"type\":\"BoxZoomTool\"},{\"id\":\"17352f7f-4cd5-47df-aa8a-bf04e34360e2\",\"type\":\"SaveTool\"},{\"id\":\"df057144-2df9-407c-b588-0db136694021\",\"type\":\"ResetTool\"},{\"id\":\"68f0da15-3cfa-4c29-8d50-697fb89aa7e6\",\"type\":\"HelpTool\"},{\"id\":\"e661d0d4-6b3d-4eb1-8ca3-d84171f5431c\",\"type\":\"PanTool\"},{\"id\":\"8ce11242-c2ef-4884-8c3a-40ed2f95633d\",\"type\":\"WheelZoomTool\"},{\"id\":\"020bdea2-673c-4083-a712-4902d6d79bd0\",\"type\":\"BoxZoomTool\"},{\"id\":\"17268e42-d02e-4dd9-ad92-e63212cc5e89\",\"type\":\"SaveTool\"},{\"id\":\"9e2f1f05-eda7-4177-8aec-3d0d8b78f75b\",\"type\":\"ResetTool\"},{\"id\":\"6fcbbdbd-5ea6-458d-9433-7e5c24d2ca5d\",\"type\":\"HelpTool\"},{\"id\":\"d2ffa113-b168-4ed0-af9f-012a007c006b\",\"type\":\"PanTool\"},{\"id\":\"e82edd52-2aac-4fbc-a4cf-bb165078b77c\",\"type\":\"WheelZoomTool\"},{\"id\":\"2e23c6e5-7aa4-44aa-80a1-f3936f3eb705\",\"type\":\"BoxZoomTool\"},{\"id\":\"3ebcc218-6d12-41fa-83f1-a62ff2798a8a\",\"type\":\"SaveTool\"},{\"id\":\"45e7d461-4913-4add-a6bd-c92efa124a8f\",\"type\":\"ResetTool\"},{\"id\":\"69d01343-da19-4c65-9521-1a32e8c2688c\",\"type\":\"HelpTool\"}]},\"id\":\"d9f2ad65-3e1f-4ddd-bf95-97dbd9320403\",\"type\":\"ProxyToolbar\"},{\"attributes\":{\"axis_label\":\"spectral band\",\"formatter\":{\"id\":\"013256df-7eda-4cae-a3ec-68e11472c3d9\",\"type\":\"CategoricalTickFormatter\"},\"plot\":{\"id\":\"61a0ef79-b8fa-498f-871c-6f59113ce1cd\",\"subtype\":\"Figure\",\"type\":\"Plot\"},\"ticker\":{\"id\":\"619cb04e-daf6-47ff-8d59-64ed51d5ccb7\",\"type\":\"CategoricalTicker\"}},\"id\":\"00c93f72-e5a7-43c5-9443-22e8e9da6e37\",\"type\":\"CategoricalAxis\"},{\"attributes\":{\"dimension\":1,\"plot\":{\"id\":\"61a0ef79-b8fa-498f-871c-6f59113ce1cd\",\"subtype\":\"Figure\",\"type\":\"Plot\"},\"ticker\":{\"id\":\"307df0df-d5e5-4698-8d0f-2d3357d9f8e3\",\"type\":\"BasicTicker\"}},\"id\":\"fda707a8-ff5a-4072-a5f3-c9e2fe922e12\",\"type\":\"Grid\"},{\"attributes\":{},\"id\":\"619cb04e-daf6-47ff-8d59-64ed51d5ccb7\",\"type\":\"CategoricalTicker\"},{\"attributes\":{\"children\":[{\"id\":\"91ef240b-cd6c-4edd-a25c-01c4d48e3621\",\"subtype\":\"Figure\",\"type\":\"Plot\"},{\"id\":\"61a0ef79-b8fa-498f-871c-6f59113ce1cd\",\"subtype\":\"Figure\",\"type\":\"Plot\"},{\"id\":\"c897581d-28cc-433d-b8fd-a9d5efbded72\",\"subtype\":\"Figure\",\"type\":\"Plot\"}]},\"id\":\"61ea4243-f4df-4ec0-af3e-6823d528fc6c\",\"type\":\"Row\"},{\"attributes\":{},\"id\":\"e661d0d4-6b3d-4eb1-8ca3-d84171f5431c\",\"type\":\"PanTool\"},{\"attributes\":{},\"id\":\"2efb24c7-8de2-48c1-8322-95b804ae8535\",\"type\":\"BasicTickFormatter\"},{\"attributes\":{},\"id\":\"68f0da15-3cfa-4c29-8d50-697fb89aa7e6\",\"type\":\"HelpTool\"},{\"attributes\":{\"callback\":null},\"id\":\"710b338f-781c-4205-a1fc-fef6817ca37b\",\"type\":\"DataRange1d\"},{\"attributes\":{},\"id\":\"307df0df-d5e5-4698-8d0f-2d3357d9f8e3\",\"type\":\"BasicTicker\"},{\"attributes\":{\"below\":[{\"id\":\"00c93f72-e5a7-43c5-9443-22e8e9da6e37\",\"type\":\"CategoricalAxis\"}],\"left\":[{\"id\":\"ce2e85d8-9d7a-4387-ba97-f043bab877cb\",\"type\":\"LinearAxis\"}],\"plot_height\":300,\"plot_width\":300,\"renderers\":[{\"id\":\"00c93f72-e5a7-43c5-9443-22e8e9da6e37\",\"type\":\"CategoricalAxis\"},{\"id\":\"dfc2ff11-6f5e-471f-9a88-efac0bbf6672\",\"type\":\"Grid\"},{\"id\":\"ce2e85d8-9d7a-4387-ba97-f043bab877cb\",\"type\":\"LinearAxis\"},{\"id\":\"fda707a8-ff5a-4072-a5f3-c9e2fe922e12\",\"type\":\"Grid\"},{\"id\":\"d9f9d62a-c8ec-436b-8626-d998918b3403\",\"type\":\"BoxAnnotation\"},{\"id\":\"02101eb6-080e-430f-a703-9e1eedb66ce7\",\"type\":\"GlyphRenderer\"}],\"title\":{\"id\":\"5a5a4fd3-58ea-493c-b30d-89d03351e70e\",\"type\":\"Title\"},\"toolbar\":{\"id\":\"23bf762c-0fa6-4460-a8de-89f6a190e67b\",\"type\":\"Toolbar\"},\"toolbar_location\":null,\"x_range\":{\"id\":\"52581126-7e00-4a03-9ca0-6f709ecc5725\",\"type\":\"FactorRange\"},\"x_scale\":{\"id\":\"0553afad-c466-4cfd-bab3-32faa5f3721e\",\"type\":\"CategoricalScale\"},\"y_range\":{\"id\":\"3b541c47-754f-48cc-8e3f-e2bc72d2877e\",\"type\":\"DataRange1d\"},\"y_scale\":{\"id\":\"9ab40b95-b2c4-40e7-9c7f-9dbc19101a7d\",\"type\":\"LinearScale\"}},\"id\":\"61a0ef79-b8fa-498f-871c-6f59113ce1cd\",\"subtype\":\"Figure\",\"type\":\"Plot\"},{\"attributes\":{\"fill_alpha\":{\"value\":0.1},\"fill_color\":{\"value\":\"#1f77b4\"},\"line_alpha\":{\"value\":0.1},\"line_color\":{\"value\":\"#1f77b4\"},\"top\":{\"field\":\"flux\"},\"width\":{\"value\":0.9},\"x\":{\"field\":\"band\"}},\"id\":\"9f4f858c-68cf-4577-8d8c-47f24d8d3cd8\",\"type\":\"VBar\"},{\"attributes\":{},\"id\":\"8c4ab735-2666-4675-88d8-843ee017d678\",\"type\":\"UnionRenderers\"},{\"attributes\":{},\"id\":\"013256df-7eda-4cae-a3ec-68e11472c3d9\",\"type\":\"CategoricalTickFormatter\"},{\"attributes\":{},\"id\":\"86802461-e0a2-411a-9000-7aecf9314897\",\"type\":\"Selection\"},{\"attributes\":{\"callback\":null,\"factors\":[\"1\",\"2\",\"3\",\"4\",\"5\",\"6\",\"7\",\"8\",\"9\",\"10\",\"11\"]},\"id\":\"8d6b8971-83f4-4136-bc78-871036a531cb\",\"type\":\"FactorRange\"},{\"attributes\":{\"bottom_units\":\"screen\",\"fill_alpha\":{\"value\":0.5},\"fill_color\":{\"value\":\"lightgrey\"},\"left_units\":\"screen\",\"level\":\"overlay\",\"line_alpha\":{\"value\":1.0},\"line_color\":{\"value\":\"black\"},\"line_dash\":[4,4],\"line_width\":{\"value\":2},\"plot\":null,\"render_mode\":\"css\",\"right_units\":\"screen\",\"top_units\":\"screen\"},\"id\":\"ed06bf4a-b4ee-4024-b632-8f00434d2274\",\"type\":\"BoxAnnotation\"},{\"attributes\":{\"plot\":null,\"text\":\"SFC flux. CLIRAD (single-run) - CRD.\"},\"id\":\"5a5a4fd3-58ea-493c-b30d-89d03351e70e\",\"type\":\"Title\"},{\"attributes\":{\"overlay\":{\"id\":\"d9f9d62a-c8ec-436b-8626-d998918b3403\",\"type\":\"BoxAnnotation\"}},\"id\":\"020bdea2-673c-4083-a712-4902d6d79bd0\",\"type\":\"BoxZoomTool\"},{\"attributes\":{},\"id\":\"6fcbbdbd-5ea6-458d-9433-7e5c24d2ca5d\",\"type\":\"HelpTool\"},{\"attributes\":{},\"id\":\"3ebcc218-6d12-41fa-83f1-a62ff2798a8a\",\"type\":\"SaveTool\"},{\"attributes\":{},\"id\":\"17352f7f-4cd5-47df-aa8a-bf04e34360e2\",\"type\":\"SaveTool\"},{\"attributes\":{\"callback\":null},\"id\":\"3b541c47-754f-48cc-8e3f-e2bc72d2877e\",\"type\":\"DataRange1d\"},{\"attributes\":{\"fill_color\":{\"value\":\"#1f77b4\"},\"line_color\":{\"value\":\"#1f77b4\"},\"top\":{\"field\":\"flux\"},\"width\":{\"value\":0.9},\"x\":{\"field\":\"band\"}},\"id\":\"041c12a8-001d-4372-ad3a-405baf8ca6bb\",\"type\":\"VBar\"},{\"attributes\":{\"axis_label\":\"spectral band\",\"formatter\":{\"id\":\"f7a70fe6-1dd9-401e-80c7-85483110f6f9\",\"type\":\"CategoricalTickFormatter\"},\"plot\":{\"id\":\"c897581d-28cc-433d-b8fd-a9d5efbded72\",\"subtype\":\"Figure\",\"type\":\"Plot\"},\"ticker\":{\"id\":\"973e9b8a-1085-4cd7-ae2d-1ad3c1c63393\",\"type\":\"CategoricalTicker\"}},\"id\":\"463acb0d-9cdb-4a17-8476-030f23e9a00d\",\"type\":\"CategoricalAxis\"}],\"root_ids\":[\"e837101c-26ab-4e1c-9f0c-48e3937b2425\"]},\"title\":\"Bokeh Application\",\"version\":\"0.12.16\"}};\n",
       "  var render_items = [{\"docid\":\"e60f4ddc-a32d-4342-961b-97855ec6cfc3\",\"elementid\":\"3869dac6-9d52-48d1-a4ba-762cea1bf052\",\"modelid\":\"e837101c-26ab-4e1c-9f0c-48e3937b2425\"}];\n",
       "  root.Bokeh.embed.embed_items_notebook(docs_json, render_items);\n",
       "\n",
       "  }\n",
       "  if (root.Bokeh !== undefined) {\n",
       "    embed_document(root);\n",
       "  } else {\n",
       "    var attempts = 0;\n",
       "    var timer = setInterval(function(root) {\n",
       "      if (root.Bokeh !== undefined) {\n",
       "        embed_document(root);\n",
       "        clearInterval(timer);\n",
       "      }\n",
       "      attempts++;\n",
       "      if (attempts > 100) {\n",
       "        console.log(\"Bokeh: ERROR: Unable to run BokehJS code because BokehJS library is missing\")\n",
       "        clearInterval(timer);\n",
       "      }\n",
       "    }, 10, root)\n",
       "  }\n",
       "})(window);"
      ],
      "application/vnd.bokehjs_exec.v0+json": ""
     },
     "metadata": {
      "application/vnd.bokehjs_exec.v0+json": {
       "id": "e837101c-26ab-4e1c-9f0c-48e3937b2425"
      }
     },
     "output_type": "display_data"
    },
    {
     "data": {
      "text/markdown": [
       "*FIGURE.* Difference between CLIRAD and CRD in TOA, SFC and net atmosphere flux, in each spectral band."
      ],
      "text/plain": [
       "<IPython.core.display.Markdown object>"
      ]
     },
     "metadata": {},
     "output_type": "display_data"
    },
    {
     "data": {
      "text/html": [
       "<div>\n",
       "<style scoped>\n",
       "    .dataframe tbody tr th:only-of-type {\n",
       "        vertical-align: middle;\n",
       "    }\n",
       "\n",
       "    .dataframe tbody tr th {\n",
       "        vertical-align: top;\n",
       "    }\n",
       "\n",
       "    .dataframe thead th {\n",
       "        text-align: right;\n",
       "    }\n",
       "</style>\n",
       "<table border=\"1\" class=\"dataframe\">\n",
       "  <thead>\n",
       "    <tr style=\"text-align: right;\">\n",
       "      <th></th>\n",
       "      <th>OLR flux</th>\n",
       "      <th>SFC flux</th>\n",
       "      <th>ATM heating</th>\n",
       "    </tr>\n",
       "    <tr>\n",
       "      <th>Sum over bands</th>\n",
       "      <th></th>\n",
       "      <th></th>\n",
       "      <th></th>\n",
       "    </tr>\n",
       "  </thead>\n",
       "  <tbody>\n",
       "    <tr>\n",
       "      <th>CLIRAD (single-run) - CRD</th>\n",
       "      <td>106.54</td>\n",
       "      <td>100.99</td>\n",
       "      <td>5.56</td>\n",
       "    </tr>\n",
       "    <tr>\n",
       "      <th>CRD</th>\n",
       "      <td>-303.40</td>\n",
       "      <td>337.24</td>\n",
       "      <td>-181.37</td>\n",
       "    </tr>\n",
       "  </tbody>\n",
       "</table>\n",
       "</div>"
      ],
      "text/plain": [
       "                           OLR flux  SFC flux  ATM heating\n",
       "Sum over bands                                            \n",
       "CLIRAD (single-run) - CRD    106.54    100.99         5.56\n",
       "CRD                         -303.40    337.24      -181.37"
      ]
     },
     "metadata": {},
     "output_type": "display_data"
    },
    {
     "data": {
      "text/markdown": [
       "*TABLE.* Difference between CLIRAD and CRD in TOA, SFC and net atmosphere flux, over all spectral bands. CRD's TOA, SFC and net atmosphere flux, over all spectral bands."
      ],
      "text/plain": [
       "<IPython.core.display.Markdown object>"
      ]
     },
     "metadata": {},
     "output_type": "display_data"
    }
   ],
   "source": [
    "def show_html(s):\n",
    "    display.display(display.HTML(s))\n",
    "\n",
    "    \n",
    "def show_markdown(s):\n",
    "    display.display(display.Markdown(s))\n",
    "\n",
    "\n",
    "def script():\n",
    "    \n",
    "    d_atm = {'mls': 'mid-latitude summer',\n",
    "             'saw': 'sub-arctic winter',\n",
    "             'trp': 'tropical'}\n",
    "    \n",
    "    title = ('## Results over entire range of molecules'\n",
    "             ' and spectral bands')\n",
    "    \n",
    "    s_makeup = 'Makeup of atmosphere.'\n",
    "    s_atmpro = '# {}'\n",
    "    s_cool = 'Cooling rates. {}.'\n",
    "    s_flux = 'Fluxes. {}.'\n",
    "    \n",
    "    atmpros = ['mls', 'saw', 'trp']\n",
    "    \n",
    "    # TOC\n",
    "    show_markdown(title)\n",
    "    show_markdown('### Table of Contents')\n",
    "    show_html(climahtml.getHTML_hrefanchor(s_makeup))\n",
    "    for atmpro in atmpros:\n",
    "        show_markdown('**' + d_atm[atmpro] + '**')\n",
    "        show_html(climahtml.getHTML_hrefanchor(s_cool.format(atmpro)))\n",
    "        show_html(climahtml.getHTML_hrefanchor(s_flux.format(atmpro)))\n",
    "\n",
    "        \n",
    "    # Atmosphere makeup\n",
    "    show_html(climahtml.getHTML_idanchor(s_makeup))\n",
    "    show_markdown(climahtml.getMarkdown_sectitle(s_makeup))\n",
    "    show_makeup()\n",
    "    show_grey_makeup()\n",
    "        \n",
    "    for atmpro in atmpros:\n",
    "        show_html(climahtml.getHTML_idanchor(s_cool.format(atmpro)))\n",
    "        show_markdown(\n",
    "            climahtml.getMarkdown_sectitle(s_cool.format(atmpro)))\n",
    "        show_cool(atmpro=atmpro)\n",
    "        show_html(climahtml.getHTML_idanchor(s_flux.format(atmpro)))\n",
    "        show_markdown(\n",
    "            climahtml.getMarkdown_sectitle(s_flux.format(atmpro)))\n",
    "        show_hist_flux(atmpro=atmpro)\n",
    "        show_tb_flux(atmpro=atmpro)\n",
    "    \n",
    "    \n",
    "script()  "
   ]
  },
  {
   "cell_type": "code",
   "execution_count": null,
   "metadata": {
    "collapsed": true
   },
   "outputs": [],
   "source": []
  },
  {
   "cell_type": "code",
   "execution_count": 14,
   "metadata": {},
   "outputs": [
    {
     "data": {
      "text/html": [
       "<script>\n",
       "code_show=true; \n",
       "function code_toggle() {\n",
       " if (code_show){\n",
       " $('div.input').hide();\n",
       " } else {\n",
       " $('div.input').show();\n",
       " }\n",
       " code_show = !code_show\n",
       "} \n",
       "$( document ).ready(code_toggle);\n",
       "</script>\n",
       "<form action=\"javascript:code_toggle()\"><input type=\"submit\" value=\"Click here to toggle on/off the raw code.\"></form>"
      ],
      "text/plain": [
       "<IPython.core.display.HTML object>"
      ]
     },
     "execution_count": 14,
     "metadata": {},
     "output_type": "execute_result"
    }
   ],
   "source": [
    "display.HTML('''<script>\n",
    "code_show=true; \n",
    "function code_toggle() {\n",
    " if (code_show){\n",
    " $('div.input').hide();\n",
    " } else {\n",
    " $('div.input').show();\n",
    " }\n",
    " code_show = !code_show\n",
    "} \n",
    "$( document ).ready(code_toggle);\n",
    "</script>\n",
    "<form action=\"javascript:code_toggle()\"><input type=\"submit\" value=\"Click here to toggle on/off the raw code.\"></form>''')"
   ]
  },
  {
   "cell_type": "code",
   "execution_count": null,
   "metadata": {
    "collapsed": true
   },
   "outputs": [],
   "source": []
  }
 ],
 "metadata": {
  "kernelspec": {
   "display_name": "Python 3",
   "language": "python",
   "name": "python3"
  },
  "language_info": {
   "codemirror_mode": {
    "name": "ipython",
    "version": 3
   },
   "file_extension": ".py",
   "mimetype": "text/x-python",
   "name": "python",
   "nbconvert_exporter": "python",
   "pygments_lexer": "ipython3",
   "version": "3.6.1"
  }
 },
 "nbformat": 4,
 "nbformat_minor": 2
}
