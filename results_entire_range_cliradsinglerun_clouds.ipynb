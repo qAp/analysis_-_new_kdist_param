{
 "cells": [
  {
   "cell_type": "code",
   "execution_count": 1,
   "metadata": {
    "collapsed": true
   },
   "outputs": [],
   "source": [
    "import os\n",
    "import ast\n",
    "import json\n",
    "import importlib \n",
    "import itertools\n",
    "import collections\n",
    "import pprint\n",
    "\n",
    "from bokeh.io import output_notebook, show\n",
    "from bokeh.layouts import gridplot\n",
    "from bokeh.plotting import figure\n",
    "from bokeh.models import Range1d, Legend, ColumnDataSource, FactorRange\n",
    "from bokeh.palettes import all_palettes\n",
    "from bokeh.transform import factor_cmap\n",
    "\n",
    "import matplotlib\n",
    "import matplotlib.pyplot as plt\n",
    "import numpy as np\n",
    "import pandas as pd\n",
    "import xarray as xr\n",
    "\n",
    "\n",
    "import climatools.lblnew.bestfit_params as bestfits\n",
    "from climatools.lblnew import setup_bestfit, setup_overlap\n",
    "import climatools.lblnew.pipeline as pipe_lblnew\n",
    "import climatools.cliradlw.setup as setup_cliradlw\n",
    "import climatools.cliradlw.pipeline as pipe_cliradlw\n",
    "\n",
    "import climatools.html.html as climahtml\n",
    "from climatools.lblnew.dataio import *\n",
    "from climatools.plot.plot import *\n",
    "\n",
    "\n",
    "from IPython import display\n",
    "\n",
    "#importlib.reload(bestfits)\n",
    "#importlib.reload(setup_bestfit)\n",
    "#importlib.reload(setup_overlap)\n",
    "#importlib.reload(pipe_lblnew)\n",
    "#importlib.reload(setup_cliradlw)\n",
    "#importlib.reload(pipe_cliradlw)"
   ]
  },
  {
   "cell_type": "code",
   "execution_count": 2,
   "metadata": {
    "scrolled": true
   },
   "outputs": [
    {
     "data": {
      "text/html": [
       "\n",
       "    <div class=\"bk-root\">\n",
       "        <a href=\"https://bokeh.pydata.org\" target=\"_blank\" class=\"bk-logo bk-logo-small bk-logo-notebook\"></a>\n",
       "        <span id=\"e6bd5e20-5853-439d-808b-571a161e51e9\">Loading BokehJS ...</span>\n",
       "    </div>"
      ]
     },
     "metadata": {},
     "output_type": "display_data"
    },
    {
     "data": {
      "application/javascript": [
       "\n",
       "(function(root) {\n",
       "  function now() {\n",
       "    return new Date();\n",
       "  }\n",
       "\n",
       "  var force = true;\n",
       "\n",
       "  if (typeof (root._bokeh_onload_callbacks) === \"undefined\" || force === true) {\n",
       "    root._bokeh_onload_callbacks = [];\n",
       "    root._bokeh_is_loading = undefined;\n",
       "  }\n",
       "\n",
       "  var JS_MIME_TYPE = 'application/javascript';\n",
       "  var HTML_MIME_TYPE = 'text/html';\n",
       "  var EXEC_MIME_TYPE = 'application/vnd.bokehjs_exec.v0+json';\n",
       "  var CLASS_NAME = 'output_bokeh rendered_html';\n",
       "\n",
       "  /**\n",
       "   * Render data to the DOM node\n",
       "   */\n",
       "  function render(props, node) {\n",
       "    var script = document.createElement(\"script\");\n",
       "    node.appendChild(script);\n",
       "  }\n",
       "\n",
       "  /**\n",
       "   * Handle when an output is cleared or removed\n",
       "   */\n",
       "  function handleClearOutput(event, handle) {\n",
       "    var cell = handle.cell;\n",
       "\n",
       "    var id = cell.output_area._bokeh_element_id;\n",
       "    var server_id = cell.output_area._bokeh_server_id;\n",
       "    // Clean up Bokeh references\n",
       "    if (id !== undefined) {\n",
       "      Bokeh.index[id].model.document.clear();\n",
       "      delete Bokeh.index[id];\n",
       "    }\n",
       "\n",
       "    if (server_id !== undefined) {\n",
       "      // Clean up Bokeh references\n",
       "      var cmd = \"from bokeh.io.state import curstate; print(curstate().uuid_to_server['\" + server_id + \"'].get_sessions()[0].document.roots[0]._id)\";\n",
       "      cell.notebook.kernel.execute(cmd, {\n",
       "        iopub: {\n",
       "          output: function(msg) {\n",
       "            var element_id = msg.content.text.trim();\n",
       "            Bokeh.index[element_id].model.document.clear();\n",
       "            delete Bokeh.index[element_id];\n",
       "          }\n",
       "        }\n",
       "      });\n",
       "      // Destroy server and session\n",
       "      var cmd = \"import bokeh.io.notebook as ion; ion.destroy_server('\" + server_id + \"')\";\n",
       "      cell.notebook.kernel.execute(cmd);\n",
       "    }\n",
       "  }\n",
       "\n",
       "  /**\n",
       "   * Handle when a new output is added\n",
       "   */\n",
       "  function handleAddOutput(event, handle) {\n",
       "    var output_area = handle.output_area;\n",
       "    var output = handle.output;\n",
       "\n",
       "    // limit handleAddOutput to display_data with EXEC_MIME_TYPE content only\n",
       "    if ((output.output_type != \"display_data\") || (!output.data.hasOwnProperty(EXEC_MIME_TYPE))) {\n",
       "      return\n",
       "    }\n",
       "\n",
       "    var toinsert = output_area.element.find(\".\" + CLASS_NAME.split(' ')[0]);\n",
       "\n",
       "    if (output.metadata[EXEC_MIME_TYPE][\"id\"] !== undefined) {\n",
       "      toinsert[toinsert.length - 1].firstChild.textContent = output.data[JS_MIME_TYPE];\n",
       "      // store reference to embed id on output_area\n",
       "      output_area._bokeh_element_id = output.metadata[EXEC_MIME_TYPE][\"id\"];\n",
       "    }\n",
       "    if (output.metadata[EXEC_MIME_TYPE][\"server_id\"] !== undefined) {\n",
       "      var bk_div = document.createElement(\"div\");\n",
       "      bk_div.innerHTML = output.data[HTML_MIME_TYPE];\n",
       "      var script_attrs = bk_div.children[0].attributes;\n",
       "      for (var i = 0; i < script_attrs.length; i++) {\n",
       "        toinsert[toinsert.length - 1].firstChild.setAttribute(script_attrs[i].name, script_attrs[i].value);\n",
       "      }\n",
       "      // store reference to server id on output_area\n",
       "      output_area._bokeh_server_id = output.metadata[EXEC_MIME_TYPE][\"server_id\"];\n",
       "    }\n",
       "  }\n",
       "\n",
       "  function register_renderer(events, OutputArea) {\n",
       "\n",
       "    function append_mime(data, metadata, element) {\n",
       "      // create a DOM node to render to\n",
       "      var toinsert = this.create_output_subarea(\n",
       "        metadata,\n",
       "        CLASS_NAME,\n",
       "        EXEC_MIME_TYPE\n",
       "      );\n",
       "      this.keyboard_manager.register_events(toinsert);\n",
       "      // Render to node\n",
       "      var props = {data: data, metadata: metadata[EXEC_MIME_TYPE]};\n",
       "      render(props, toinsert[toinsert.length - 1]);\n",
       "      element.append(toinsert);\n",
       "      return toinsert\n",
       "    }\n",
       "\n",
       "    /* Handle when an output is cleared or removed */\n",
       "    events.on('clear_output.CodeCell', handleClearOutput);\n",
       "    events.on('delete.Cell', handleClearOutput);\n",
       "\n",
       "    /* Handle when a new output is added */\n",
       "    events.on('output_added.OutputArea', handleAddOutput);\n",
       "\n",
       "    /**\n",
       "     * Register the mime type and append_mime function with output_area\n",
       "     */\n",
       "    OutputArea.prototype.register_mime_type(EXEC_MIME_TYPE, append_mime, {\n",
       "      /* Is output safe? */\n",
       "      safe: true,\n",
       "      /* Index of renderer in `output_area.display_order` */\n",
       "      index: 0\n",
       "    });\n",
       "  }\n",
       "\n",
       "  // register the mime type if in Jupyter Notebook environment and previously unregistered\n",
       "  if (root.Jupyter !== undefined) {\n",
       "    var events = require('base/js/events');\n",
       "    var OutputArea = require('notebook/js/outputarea').OutputArea;\n",
       "\n",
       "    if (OutputArea.prototype.mime_types().indexOf(EXEC_MIME_TYPE) == -1) {\n",
       "      register_renderer(events, OutputArea);\n",
       "    }\n",
       "  }\n",
       "\n",
       "  \n",
       "  if (typeof (root._bokeh_timeout) === \"undefined\" || force === true) {\n",
       "    root._bokeh_timeout = Date.now() + 5000;\n",
       "    root._bokeh_failed_load = false;\n",
       "  }\n",
       "\n",
       "  var NB_LOAD_WARNING = {'data': {'text/html':\n",
       "     \"<div style='background-color: #fdd'>\\n\"+\n",
       "     \"<p>\\n\"+\n",
       "     \"BokehJS does not appear to have successfully loaded. If loading BokehJS from CDN, this \\n\"+\n",
       "     \"may be due to a slow or bad network connection. Possible fixes:\\n\"+\n",
       "     \"</p>\\n\"+\n",
       "     \"<ul>\\n\"+\n",
       "     \"<li>re-rerun `output_notebook()` to attempt to load from CDN again, or</li>\\n\"+\n",
       "     \"<li>use INLINE resources instead, as so:</li>\\n\"+\n",
       "     \"</ul>\\n\"+\n",
       "     \"<code>\\n\"+\n",
       "     \"from bokeh.resources import INLINE\\n\"+\n",
       "     \"output_notebook(resources=INLINE)\\n\"+\n",
       "     \"</code>\\n\"+\n",
       "     \"</div>\"}};\n",
       "\n",
       "  function display_loaded() {\n",
       "    var el = document.getElementById(\"e6bd5e20-5853-439d-808b-571a161e51e9\");\n",
       "    if (el != null) {\n",
       "      el.textContent = \"BokehJS is loading...\";\n",
       "    }\n",
       "    if (root.Bokeh !== undefined) {\n",
       "      if (el != null) {\n",
       "        el.textContent = \"BokehJS \" + root.Bokeh.version + \" successfully loaded.\";\n",
       "      }\n",
       "    } else if (Date.now() < root._bokeh_timeout) {\n",
       "      setTimeout(display_loaded, 100)\n",
       "    }\n",
       "  }\n",
       "\n",
       "\n",
       "  function run_callbacks() {\n",
       "    try {\n",
       "      root._bokeh_onload_callbacks.forEach(function(callback) { callback() });\n",
       "    }\n",
       "    finally {\n",
       "      delete root._bokeh_onload_callbacks\n",
       "    }\n",
       "    console.info(\"Bokeh: all callbacks have finished\");\n",
       "  }\n",
       "\n",
       "  function load_libs(js_urls, callback) {\n",
       "    root._bokeh_onload_callbacks.push(callback);\n",
       "    if (root._bokeh_is_loading > 0) {\n",
       "      console.log(\"Bokeh: BokehJS is being loaded, scheduling callback at\", now());\n",
       "      return null;\n",
       "    }\n",
       "    if (js_urls == null || js_urls.length === 0) {\n",
       "      run_callbacks();\n",
       "      return null;\n",
       "    }\n",
       "    console.log(\"Bokeh: BokehJS not loaded, scheduling load and callback at\", now());\n",
       "    root._bokeh_is_loading = js_urls.length;\n",
       "    for (var i = 0; i < js_urls.length; i++) {\n",
       "      var url = js_urls[i];\n",
       "      var s = document.createElement('script');\n",
       "      s.src = url;\n",
       "      s.async = false;\n",
       "      s.onreadystatechange = s.onload = function() {\n",
       "        root._bokeh_is_loading--;\n",
       "        if (root._bokeh_is_loading === 0) {\n",
       "          console.log(\"Bokeh: all BokehJS libraries loaded\");\n",
       "          run_callbacks()\n",
       "        }\n",
       "      };\n",
       "      s.onerror = function() {\n",
       "        console.warn(\"failed to load library \" + url);\n",
       "      };\n",
       "      console.log(\"Bokeh: injecting script tag for BokehJS library: \", url);\n",
       "      document.getElementsByTagName(\"head\")[0].appendChild(s);\n",
       "    }\n",
       "  };var element = document.getElementById(\"e6bd5e20-5853-439d-808b-571a161e51e9\");\n",
       "  if (element == null) {\n",
       "    console.log(\"Bokeh: ERROR: autoload.js configured with elementid 'e6bd5e20-5853-439d-808b-571a161e51e9' but no matching script tag was found. \")\n",
       "    return false;\n",
       "  }\n",
       "\n",
       "  var js_urls = [\"https://cdn.pydata.org/bokeh/release/bokeh-0.12.16.min.js\", \"https://cdn.pydata.org/bokeh/release/bokeh-widgets-0.12.16.min.js\", \"https://cdn.pydata.org/bokeh/release/bokeh-tables-0.12.16.min.js\", \"https://cdn.pydata.org/bokeh/release/bokeh-gl-0.12.16.min.js\"];\n",
       "\n",
       "  var inline_js = [\n",
       "    function(Bokeh) {\n",
       "      Bokeh.set_log_level(\"info\");\n",
       "    },\n",
       "    \n",
       "    function(Bokeh) {\n",
       "      \n",
       "    },\n",
       "    function(Bokeh) {\n",
       "      console.log(\"Bokeh: injecting CSS: https://cdn.pydata.org/bokeh/release/bokeh-0.12.16.min.css\");\n",
       "      Bokeh.embed.inject_css(\"https://cdn.pydata.org/bokeh/release/bokeh-0.12.16.min.css\");\n",
       "      console.log(\"Bokeh: injecting CSS: https://cdn.pydata.org/bokeh/release/bokeh-widgets-0.12.16.min.css\");\n",
       "      Bokeh.embed.inject_css(\"https://cdn.pydata.org/bokeh/release/bokeh-widgets-0.12.16.min.css\");\n",
       "      console.log(\"Bokeh: injecting CSS: https://cdn.pydata.org/bokeh/release/bokeh-tables-0.12.16.min.css\");\n",
       "      Bokeh.embed.inject_css(\"https://cdn.pydata.org/bokeh/release/bokeh-tables-0.12.16.min.css\");\n",
       "    }\n",
       "  ];\n",
       "\n",
       "  function run_inline_js() {\n",
       "    \n",
       "    if ((root.Bokeh !== undefined) || (force === true)) {\n",
       "      for (var i = 0; i < inline_js.length; i++) {\n",
       "        inline_js[i].call(root, root.Bokeh);\n",
       "      }if (force === true) {\n",
       "        display_loaded();\n",
       "      }} else if (Date.now() < root._bokeh_timeout) {\n",
       "      setTimeout(run_inline_js, 100);\n",
       "    } else if (!root._bokeh_failed_load) {\n",
       "      console.log(\"Bokeh: BokehJS failed to load within specified timeout.\");\n",
       "      root._bokeh_failed_load = true;\n",
       "    } else if (force !== true) {\n",
       "      var cell = $(document.getElementById(\"e6bd5e20-5853-439d-808b-571a161e51e9\")).parents('.cell').data().cell;\n",
       "      cell.output_area.append_execute_result(NB_LOAD_WARNING)\n",
       "    }\n",
       "\n",
       "  }\n",
       "\n",
       "  if (root._bokeh_is_loading === 0) {\n",
       "    console.log(\"Bokeh: BokehJS loaded, going straight to plotting\");\n",
       "    run_inline_js();\n",
       "  } else {\n",
       "    load_libs(js_urls, function() {\n",
       "      console.log(\"Bokeh: BokehJS plotting callback run at\", now());\n",
       "      run_inline_js();\n",
       "    });\n",
       "  }\n",
       "}(window));"
      ],
      "application/vnd.bokehjs_load.v0+json": "\n(function(root) {\n  function now() {\n    return new Date();\n  }\n\n  var force = true;\n\n  if (typeof (root._bokeh_onload_callbacks) === \"undefined\" || force === true) {\n    root._bokeh_onload_callbacks = [];\n    root._bokeh_is_loading = undefined;\n  }\n\n  \n\n  \n  if (typeof (root._bokeh_timeout) === \"undefined\" || force === true) {\n    root._bokeh_timeout = Date.now() + 5000;\n    root._bokeh_failed_load = false;\n  }\n\n  var NB_LOAD_WARNING = {'data': {'text/html':\n     \"<div style='background-color: #fdd'>\\n\"+\n     \"<p>\\n\"+\n     \"BokehJS does not appear to have successfully loaded. If loading BokehJS from CDN, this \\n\"+\n     \"may be due to a slow or bad network connection. Possible fixes:\\n\"+\n     \"</p>\\n\"+\n     \"<ul>\\n\"+\n     \"<li>re-rerun `output_notebook()` to attempt to load from CDN again, or</li>\\n\"+\n     \"<li>use INLINE resources instead, as so:</li>\\n\"+\n     \"</ul>\\n\"+\n     \"<code>\\n\"+\n     \"from bokeh.resources import INLINE\\n\"+\n     \"output_notebook(resources=INLINE)\\n\"+\n     \"</code>\\n\"+\n     \"</div>\"}};\n\n  function display_loaded() {\n    var el = document.getElementById(\"e6bd5e20-5853-439d-808b-571a161e51e9\");\n    if (el != null) {\n      el.textContent = \"BokehJS is loading...\";\n    }\n    if (root.Bokeh !== undefined) {\n      if (el != null) {\n        el.textContent = \"BokehJS \" + root.Bokeh.version + \" successfully loaded.\";\n      }\n    } else if (Date.now() < root._bokeh_timeout) {\n      setTimeout(display_loaded, 100)\n    }\n  }\n\n\n  function run_callbacks() {\n    try {\n      root._bokeh_onload_callbacks.forEach(function(callback) { callback() });\n    }\n    finally {\n      delete root._bokeh_onload_callbacks\n    }\n    console.info(\"Bokeh: all callbacks have finished\");\n  }\n\n  function load_libs(js_urls, callback) {\n    root._bokeh_onload_callbacks.push(callback);\n    if (root._bokeh_is_loading > 0) {\n      console.log(\"Bokeh: BokehJS is being loaded, scheduling callback at\", now());\n      return null;\n    }\n    if (js_urls == null || js_urls.length === 0) {\n      run_callbacks();\n      return null;\n    }\n    console.log(\"Bokeh: BokehJS not loaded, scheduling load and callback at\", now());\n    root._bokeh_is_loading = js_urls.length;\n    for (var i = 0; i < js_urls.length; i++) {\n      var url = js_urls[i];\n      var s = document.createElement('script');\n      s.src = url;\n      s.async = false;\n      s.onreadystatechange = s.onload = function() {\n        root._bokeh_is_loading--;\n        if (root._bokeh_is_loading === 0) {\n          console.log(\"Bokeh: all BokehJS libraries loaded\");\n          run_callbacks()\n        }\n      };\n      s.onerror = function() {\n        console.warn(\"failed to load library \" + url);\n      };\n      console.log(\"Bokeh: injecting script tag for BokehJS library: \", url);\n      document.getElementsByTagName(\"head\")[0].appendChild(s);\n    }\n  };var element = document.getElementById(\"e6bd5e20-5853-439d-808b-571a161e51e9\");\n  if (element == null) {\n    console.log(\"Bokeh: ERROR: autoload.js configured with elementid 'e6bd5e20-5853-439d-808b-571a161e51e9' but no matching script tag was found. \")\n    return false;\n  }\n\n  var js_urls = [\"https://cdn.pydata.org/bokeh/release/bokeh-0.12.16.min.js\", \"https://cdn.pydata.org/bokeh/release/bokeh-widgets-0.12.16.min.js\", \"https://cdn.pydata.org/bokeh/release/bokeh-tables-0.12.16.min.js\", \"https://cdn.pydata.org/bokeh/release/bokeh-gl-0.12.16.min.js\"];\n\n  var inline_js = [\n    function(Bokeh) {\n      Bokeh.set_log_level(\"info\");\n    },\n    \n    function(Bokeh) {\n      \n    },\n    function(Bokeh) {\n      console.log(\"Bokeh: injecting CSS: https://cdn.pydata.org/bokeh/release/bokeh-0.12.16.min.css\");\n      Bokeh.embed.inject_css(\"https://cdn.pydata.org/bokeh/release/bokeh-0.12.16.min.css\");\n      console.log(\"Bokeh: injecting CSS: https://cdn.pydata.org/bokeh/release/bokeh-widgets-0.12.16.min.css\");\n      Bokeh.embed.inject_css(\"https://cdn.pydata.org/bokeh/release/bokeh-widgets-0.12.16.min.css\");\n      console.log(\"Bokeh: injecting CSS: https://cdn.pydata.org/bokeh/release/bokeh-tables-0.12.16.min.css\");\n      Bokeh.embed.inject_css(\"https://cdn.pydata.org/bokeh/release/bokeh-tables-0.12.16.min.css\");\n    }\n  ];\n\n  function run_inline_js() {\n    \n    if ((root.Bokeh !== undefined) || (force === true)) {\n      for (var i = 0; i < inline_js.length; i++) {\n        inline_js[i].call(root, root.Bokeh);\n      }if (force === true) {\n        display_loaded();\n      }} else if (Date.now() < root._bokeh_timeout) {\n      setTimeout(run_inline_js, 100);\n    } else if (!root._bokeh_failed_load) {\n      console.log(\"Bokeh: BokehJS failed to load within specified timeout.\");\n      root._bokeh_failed_load = true;\n    } else if (force !== true) {\n      var cell = $(document.getElementById(\"e6bd5e20-5853-439d-808b-571a161e51e9\")).parents('.cell').data().cell;\n      cell.output_area.append_execute_result(NB_LOAD_WARNING)\n    }\n\n  }\n\n  if (root._bokeh_is_loading === 0) {\n    console.log(\"Bokeh: BokehJS loaded, going straight to plotting\");\n    run_inline_js();\n  } else {\n    load_libs(js_urls, function() {\n      console.log(\"Bokeh: BokehJS plotting callback run at\", now());\n      run_inline_js();\n    });\n  }\n}(window));"
     },
     "metadata": {},
     "output_type": "display_data"
    }
   ],
   "source": [
    "output_notebook()"
   ]
  },
  {
   "cell_type": "code",
   "execution_count": 3,
   "metadata": {
    "collapsed": true
   },
   "outputs": [],
   "source": [
    "'''\n",
    "Get the clirad-lw and lblnew `param`s for all spectral bands.  \n",
    "These are returned by functions `clirad_params_atm` and\n",
    "`lblnew_params_atm`, respectively.\n",
    "'''\n",
    "\n",
    "def molecules_byband_atm():\n",
    "    return {1: {'h2o': 'atmpro'},\n",
    "            2: {'h2o': 'atmpro'}, \n",
    "            3: {'co2': 0.0004, 'h2o': 'atmpro', 'n2o': 3.2e-07},\n",
    "            4: {'co2': 0.0004, 'h2o': 'atmpro'},\n",
    "            5: {'co2': 0.0004, 'h2o': 'atmpro'},\n",
    "            6: {'co2': 0.0004, 'h2o': 'atmpro'},\n",
    "            7: {'co2': 0.0004, 'h2o': 'atmpro', 'o3': 'atmpro'},\n",
    "            8: {'h2o': 'atmpro'},\n",
    "            9: {'ch4': 1.8e-06, 'h2o': 'atmpro', 'n2o': 3.2e-07},\n",
    "            10: {'h2o': 'atmpro'},\n",
    "            11: {'co2': 0.0004, 'h2o': 'atmpro'}}\n",
    "\n",
    "\n",
    "def greyabsorbers_by_band_atm():\n",
    "    return {1: {'con': 'atmpro'},\n",
    "            2: {'con': 'atmpro'},\n",
    "            3: {'con': 'atmpro'},\n",
    "            4: {'con': 'atmpro'},\n",
    "            5: {'con': 'atmpro'},\n",
    "            6: {'con': 'atmpro'}, \n",
    "            7: {'con': 'atmpro'},\n",
    "            8: {'con': 'atmpro', 'n2o': 3.2e-7}, \n",
    "            9: {'con': 'atmpro'}, \n",
    "            10: None,\n",
    "            11: None}\n",
    "\n",
    "\n",
    "def clirad_params_atm(atmpro='mls'):\n",
    "    d = {}\n",
    "    for band, molecule in molecules_byband_atm().items():\n",
    "        for param in setup_cliradlw.test_cases():\n",
    "            if [band] == param['band'] and molecule == param['molecule']:\n",
    "                param['atmpro'] = atmpro\n",
    "                d[band] = param\n",
    "                break                \n",
    "    return d\n",
    "\n",
    "\n",
    "def clirad_params_atm_singlerun(atmpro='mls'):\n",
    "    '''\n",
    "    Returns param of clirad-lw run that is equivalent to the total\n",
    "    of all the runs listed in molecules_byband_atm().  In order\n",
    "    for the output to be compatible with clirad_data_atm(), it will\n",
    "    be a list.\n",
    "    '''\n",
    "    param0 = {'band': [1, 2, 3, 4, 5, 6, 7, 8, 9, 10, 11],\n",
    "              'commitnumber': '692f34b',\n",
    "              'molecule': {'ch4': 1.8e-06,\n",
    "                           'co2': 0.0004,\n",
    "                           'h2o': 'atmpro',\n",
    "                           'n2o': 3.2e-07,\n",
    "                           'o3': 'atmpro'}}\n",
    "    \n",
    "    d_atmpros = {'mls': 294, 'saw': 257, 'trp': 300}\n",
    "    \n",
    "    param = param0.copy()\n",
    "    param['atmpro'] = atmpro\n",
    "    param['tsfc'] = d_atmpros[atmpro]\n",
    "    \n",
    "    d = {}\n",
    "    d['all'] = param\n",
    "    return d\n",
    "\n",
    "\n",
    "def analysis_dirs_atm(atmpro='mls'):\n",
    "    params = clirad_params_atm(atmpro=atmpro)\n",
    "    return {band: pipe_cliradlw.get_analysis_dir(param=param,\n",
    "                                                 setup=setup_cliradlw) \n",
    "            for band, param in params.items()}\n",
    "\n",
    "\n",
    "def lblnew_params_atm(atmpro='mls'):\n",
    "    dirs = analysis_dirs_atm(atmpro=atmpro)\n",
    "    \n",
    "    d = {}\n",
    "    for band, dirname in dirs.items():\n",
    "        with open(os.path.join(dirname, 'param.py'), \n",
    "                  mode='r', encoding='utf-8') as f:\n",
    "            _, l = f.readlines()\n",
    "        \n",
    "        s = l.split('=')[1].strip()\n",
    "        d[band] = ast.literal_eval(s)\n",
    "        \n",
    "    return d\n"
   ]
  },
  {
   "cell_type": "code",
   "execution_count": 4,
   "metadata": {
    "collapsed": true
   },
   "outputs": [],
   "source": [
    "def db_getdir():\n",
    "    atmpro = 'mls'\n",
    "    params = clirad_params_atm_singlerun(atmpro=atmpro)\n",
    "    param = params['all']\n",
    "    \n",
    "    fdir = pipe_cliradlw.get_fortran_dir(param=param, \n",
    "                                         setup=setup_cliradlw)\n",
    "    return fdir\n",
    "\n",
    "\n",
    "def db_ktable():\n",
    "    fdir = db_getdir()    \n",
    "    fpath = os.path.join(fdir, 'ktable.dat')\n",
    "    \n",
    "    df = pd.read_csv(fpath, sep=r'\\s+')\n",
    "    df = df.set_index(['band', 'mid', 'il', 'it', 'g'])\n",
    "    ds = xr.Dataset.from_dataframe(df)\n",
    "    return ds\n",
    "\n",
    "\n",
    "def db_ng_dgs():\n",
    "    fdir = db_getdir()\n",
    "    fpath = os.path.join(fdir, 'ng_dgs.dat')\n",
    "    \n",
    "    df = pd.read_csv(fpath, sep=r'\\s+')\n",
    "    df = df.set_index(['band', 'mid', 'g'])\n",
    "    ds = xr.Dataset.from_dataframe(df)\n",
    "    return ds\n"
   ]
  },
  {
   "cell_type": "code",
   "execution_count": 5,
   "metadata": {
    "collapsed": true
   },
   "outputs": [],
   "source": [
    "def show_makeup():\n",
    "    df = pd.DataFrame()\n",
    "\n",
    "    for band, molecule in molecules_byband_atm().items():\n",
    "        for name, conc in molecule.items():\n",
    "            df.loc[name, band] = str(conc)\n",
    "\n",
    "    df = df.fillna(0)\n",
    "    df.columns.name = 'clirad band'\n",
    "    df.index.name = 'molecule'\n",
    "    \n",
    "    display.display(df)\n",
    "    \n",
    "    display.display(\n",
    "        display.Markdown('*TABLE.* Non-grey absorbers in the atmosphere.'))\n",
    "\n",
    "\n",
    "def show_grey_makeup():\n",
    "    df = pd.DataFrame()\n",
    "    \n",
    "    for band, molecule in greyabsorbers_by_band_atm().items():\n",
    "        if molecule == None:\n",
    "            pass\n",
    "        else:\n",
    "            for name, conc in molecule.items():\n",
    "                df.loc[name, band] = str(conc)\n",
    "                \n",
    "    df = df.fillna(0)\n",
    "    df.columns.name = 'clirad band'\n",
    "    df.index.name = 'absorber'\n",
    "    \n",
    "    display.display(df)\n",
    "    display.display(\n",
    "        display.Markdown('*TABLE.* Grey absorbers in the atmosphere.')\n",
    "    )"
   ]
  },
  {
   "cell_type": "code",
   "execution_count": 6,
   "metadata": {
    "collapsed": true
   },
   "outputs": [],
   "source": [
    "def load_output_file(path_csv):\n",
    "    '''\n",
    "    Load lblnew output .csv file to xarray.Dataset\n",
    "    \n",
    "    Parameters\n",
    "    ----------\n",
    "    path_csv: str\n",
    "              Path to the .csv file to be loaded.\n",
    "    ds: xarray.Dataset\n",
    "        Data in the input file in the form of an xarray.Dataset.\n",
    "    '''\n",
    "    toindex = ['band', 'pressure', 'igg', 'g']    \n",
    "    df = pd.read_csv(path_csv, sep=r'\\s+')\n",
    "    df = df.set_index([i for i in toindex if i in df.columns])\n",
    "    df = df.rename(columns={'sfu': 'flug',\n",
    "                            'sfd': 'fldg',\n",
    "                            'fnet': 'fnetg',\n",
    "                            'coolr': 'coolrg'})\n",
    "    ds = xr.Dataset.from_dataframe(df)\n",
    "\n",
    "    for l in ('level', 'layer'):\n",
    "        if l in ds.data_vars:\n",
    "            if len(ds[l].dims) > 1:\n",
    "                surface = {d: 0 for d in ds.dims if d != 'pressure'}\n",
    "                coord_level = ds[l][surface]\n",
    "                ds.coords[l] = ('pressure', coord_level)\n",
    "            else:\n",
    "                ds.coords[l] = ('pressure', ds[l])\n",
    "    \n",
    "    return ds"
   ]
  },
  {
   "cell_type": "code",
   "execution_count": 7,
   "metadata": {
    "collapsed": true
   },
   "outputs": [],
   "source": [
    "def lblnew_setup(param=None):\n",
    "    if 'ng_refs' in param:\n",
    "        return {'setup': setup_bestfit,\n",
    "                'fname_flux_crd': 'output_flux.dat',\n",
    "                'fname_cool_crd': 'output_coolr.dat',\n",
    "                'fname_flux_wgt': 'output_wfluxg.dat',\n",
    "                'fname_cool_wgt': 'output_wcoolrg.dat'}\n",
    "    else:\n",
    "        return {'setup': setup_overlap,\n",
    "                'fname_flux_crd': 'output_flux.dat',\n",
    "                'fname_cool_crd': 'output_coolr.dat',\n",
    "                'fname_flux_wgt': 'output_wflux.dat',\n",
    "                'fname_cool_wgt': 'output_wcoolr.dat'}\n",
    "\n",
    "    \n",
    "def load_lblnew_data(param):\n",
    "    \n",
    "    fname_dsname = [('fname_flux_crd', 'ds_flux_crd'),\n",
    "                    ('fname_cool_crd', 'ds_cool_crd'),\n",
    "                    ('fname_flux_wgt', 'ds_flux_wgt'),\n",
    "                    ('fname_cool_wgt', 'ds_cool_wgt')]\n",
    "    \n",
    "    d = lblnew_setup(param)\n",
    "    dir_fortran = pipe_lblnew.get_dir_case(param, setup=d['setup'])\n",
    "    \n",
    "    data_dict = {}\n",
    "    for fname, dsname in fname_dsname:\n",
    "        fpath = os.path.join(dir_fortran, d[fname])\n",
    "        data_dict[dsname] = load_output_file(fpath)\n",
    "    return data_dict"
   ]
  },
  {
   "cell_type": "code",
   "execution_count": 8,
   "metadata": {
    "collapsed": true
   },
   "outputs": [],
   "source": [
    "def crd_data_atm(params_atm):\n",
    "    '''\n",
    "    Parameters\n",
    "    ----------\n",
    "    \n",
    "    params_atm: dict\n",
    "                Parameter dictionary for each band.\n",
    "                \n",
    "    d: dict\n",
    "       'flux': xr.Dataset. [pressure, band]\n",
    "               Fluxes.\n",
    "       'cool': xr.Dataset. [pressure, band]\n",
    "               Cooling rate.\n",
    "    \n",
    "    '''\n",
    "    \n",
    "    results_atm = {band: load_lblnew_data(param) \n",
    "                   for band, param in params_atm.items()}\n",
    "    \n",
    "    bands = [band for band, _ in params_atm.items()]\n",
    "    fluxs = [d['ds_flux_crd'] for _, d in results_atm.items()]\n",
    "    cools = [d['ds_cool_crd'] for _, d in results_atm.items()]\n",
    "    \n",
    "    d = {}\n",
    "    d['flux'] = xr.concat(fluxs, dim=bands).rename({'concat_dim': 'band'})\n",
    "    d['cool'] = xr.concat(cools, dim=bands).rename({'concat_dim': 'band'})\n",
    "    return d        \n",
    "        \n",
    "        \n",
    "\n",
    "def clirad_data_atm(params_atm):\n",
    "    \n",
    "    dirnames = [pipe_cliradlw.get_fortran_dir(param,\n",
    "                                              setup=setup_cliradlw)\n",
    "                for _, param in params_atm.items()]\n",
    "    \n",
    "    fpaths_flux = [os.path.join(n, 'output_flux.dat') for n in dirnames]\n",
    "    fpaths_cool = [os.path.join(n, 'output_coolr.dat') for n in dirnames]\n",
    "    \n",
    "    fluxs = [load_output_file(p) for p in fpaths_flux]    \n",
    "    cools = [load_output_file(p) for p in fpaths_cool]\n",
    "    \n",
    "    d = {}\n",
    "    d['flux'] = sum(fluxs)\n",
    "    d['cool'] = sum(cools)\n",
    "    return d\n",
    "\n"
   ]
  },
  {
   "cell_type": "code",
   "execution_count": 9,
   "metadata": {
    "collapsed": true
   },
   "outputs": [],
   "source": [
    "\n",
    "\n",
    "import rtmtools.clirad.sw.wrangle as cliradwrangle\n",
    "\n",
    "import importlib\n",
    "importlib.reload(cliradwrangle)\n",
    "\n",
    "def oldclirad_data_atm():\n",
    "    '''\n",
    "    Load the OLD clirad's results. mls only.\n",
    "    '''\n",
    "    fpath = os.path.join('/chia_cluster/home/jackyu/radiation',\n",
    "                         'clirad-lw',\n",
    "                         'LW',\n",
    "                         'examples',\n",
    "                         'mls75_h2o_atmpro_co2_.0004_o3_atmpro_n2o_3.2e-7_ch4_1.8e-6_H2012',\n",
    "                         'OUTPUT_CLIRAD.dat')\n",
    "    \n",
    "    ds = cliradwrangle.load_OUTPUT_CLIRAD(readfrom=fpath)\n",
    "    \n",
    "    ds_cool = xr.Dataset()\n",
    "    ds_cool.coords['pressure'] = ('pressure', ds['layer_pressure'])\n",
    "    ds_cool.coords['band'] = ('band', ds['spectral_band'])\n",
    "    ds_cool['coolrg'] = (('band', 'pressure'), - ds['heating_rate'])\n",
    "    \n",
    "    ds_flux = xr.Dataset()\n",
    "    ds_flux.coords['pressure'] = ('pressure', ds['level_pressure'])\n",
    "    ds_flux.coords['band'] = ('band', ds['spectral_band'])\n",
    "    ds_flux['flug'] = (('band', 'pressure'), ds['flux_up'])\n",
    "    ds_flux['fldg'] = (('band', 'pressure'), ds['flux_down'])\n",
    "    ds_flux['fnetg'] = (('band', 'pressure'), ds['net_flux'])\n",
    "    \n",
    "    \n",
    "    d = {}\n",
    "    d['cool'] = ds_cool\n",
    "    d['flux'] = ds_flux\n",
    "    return d\n"
   ]
  },
  {
   "cell_type": "code",
   "execution_count": 10,
   "metadata": {
    "collapsed": true
   },
   "outputs": [],
   "source": [
    "def fmt_cool(ds_in):\n",
    "    ds = ds_in.copy(deep=True)\n",
    "    if 'igg' in ds.dims:\n",
    "        ds = ds.sel(igg=1)\n",
    "\n",
    "    if 'g' in ds.dims:\n",
    "        ds = ds.sum('g')\n",
    "            \n",
    "    if 'band' in ds.dims:\n",
    "        try:\n",
    "            ds = ds.squeeze('band')\n",
    "        except ValueError:\n",
    "            ds = ds.sum('band')\n",
    "                \n",
    "    return ds['coolrg']\n",
    "\n",
    "\n",
    "\n",
    "def nice_xlims(pltdata=None, prange=None):\n",
    "    \n",
    "    def get_slice(srs):\n",
    "        return srs.sel(pressure=slice(*prange))\n",
    "    \n",
    "    srss = [d['srs'] for d in pltdata]\n",
    "    vmin = min([get_slice(srs).min() for srs in srss])\n",
    "    vmax = max([get_slice(srs).max() for srs in srss])\n",
    "    dv = (vmax - vmin) * .01\n",
    "    return float(vmin - dv), float(vmax + dv)\n",
    "\n",
    "\n",
    "    \n",
    "def plt_cool_bokeh(pltdata=None, \n",
    "                   y_axis_type='linear', prange=(50, 1050)):\n",
    "    \n",
    "    ymin = 1e-2 \n",
    "    ymax = 1020\n",
    "    \n",
    "    p2 = figure(y_axis_type=y_axis_type, plot_width=300)\n",
    "    xmin, xmax = nice_xlims(pltdata, prange=prange)\n",
    "    \n",
    "    rs = []\n",
    "    for d in pltdata:\n",
    "        rd = []\n",
    "        if 'marker' in d:\n",
    "            r_mark = getattr(p2, d['marker'])(d['srs'].values, \n",
    "                        d['srs'].coords['pressure'].values,\n",
    "                        color=d['color'], alpha=.7)\n",
    "            rd.append(r_mark)\n",
    "        r_line = p2.line(d['srs'].values, \n",
    "                         d['srs'].coords['pressure'].values,\n",
    "                         color=d['color'], alpha=d['alpha'], \n",
    "                         line_width=d['line_width'], \n",
    "                         line_dash=d['line_dash'])\n",
    "        rd.append(r_line)\n",
    "      \n",
    "        rs.append(rd)\n",
    "        \n",
    "    p2.y_range = Range1d(ymax, ymin)  \n",
    "    p2.yaxis.axis_label = 'pressure [mb]'\n",
    "    \n",
    "    p2.x_range = Range1d(xmin, xmax)\n",
    "    p2.xaxis.axis_label = 'cooling rate [K/day]'\n",
    "    \n",
    "    items = [(d['label'], r) for r, d in zip(rs, pltdata)]\n",
    "    legend = Legend(items=items, location=(10, 0))\n",
    "    legend.label_text_font_size = '8pt'\n",
    "    p2.add_layout(legend, 'above')\n",
    "    p2.legend.orientation = 'horizontal'\n",
    "    p2.legend.location = 'top_center'\n",
    "    \n",
    "    return p2"
   ]
  },
  {
   "cell_type": "code",
   "execution_count": 11,
   "metadata": {
    "collapsed": true
   },
   "outputs": [],
   "source": [
    "def pltdata_cool(atmpro='mls'):\n",
    "    \n",
    "    d_clirad_singlerun = clirad_data_atm(\n",
    "        clirad_params_atm_singlerun(atmpro=atmpro))\n",
    "    d_clirad = clirad_data_atm(clirad_params_atm(atmpro=atmpro))\n",
    "    d_crd = crd_data_atm(lblnew_params_atm(atmpro=atmpro))\n",
    "\n",
    "    ds_clirad_singlerun = d_clirad_singlerun['cool']\n",
    "    ds_clirad = d_clirad['cool']\n",
    "    ds_crd = d_crd['cool']\n",
    "\n",
    "    colors = all_palettes['Set1'][4]\n",
    "    \n",
    "    data = [\n",
    "        {'label': 'CLIRAD (single-run)',\n",
    "        'srs': fmt_cool(ds_clirad_singlerun),\n",
    "        'line_dash': 'dashed', 'line_width': 5,\n",
    "        'color': colors[1], 'alpha': .6},\n",
    "        {'label': 'CRD',\n",
    "         'srs': fmt_cool(ds_crd),\n",
    "         'line_dash': 'solid', 'line_width': 1.5,\n",
    "         'marker': 'circle', 'marker_size': 5,\n",
    "         'color': colors[2], 'alpha': 1}\n",
    "    ]\n",
    "#        {'label': 'CLIRAD',\n",
    "#         'srs': fmt_cool(ds_clirad),\n",
    "#         'line_dash': 'dashed', 'line_width': 5,\n",
    "#         'color': colors[0], 'alpha': .6}\n",
    "        \n",
    "\n",
    "    \n",
    "    # include old CLIRAD's results for mls profile\n",
    "    if atmpro == 'mls':\n",
    "        d_oldclirad = oldclirad_data_atm()\n",
    "        ds_oldclirad = d_oldclirad['cool']        \n",
    "        data.append(\n",
    "            {'label': 'old CLIRAD (H2012)',\n",
    "             'srs': fmt_cool(ds_oldclirad),\n",
    "             'line_dash': 'solid', 'line_width': 1.5,\n",
    "             'marker': 'square', 'marker_size': 3,\n",
    "             'color': colors[3], 'alpha': .5})\n",
    "    return data\n",
    "\n",
    "\n",
    "def pltdata_cooldiff(atmpro='mls'):\n",
    "    \n",
    "    d_clirad_singlerun = clirad_data_atm(\n",
    "        clirad_params_atm_singlerun(atmpro=atmpro))\n",
    "    d_clirad = clirad_data_atm(clirad_params_atm(atmpro=atmpro))\n",
    "    d_crd = crd_data_atm(lblnew_params_atm(atmpro=atmpro))\n",
    "    \n",
    "    ds_clirad_singlerun = d_clirad_singlerun['cool']\n",
    "    ds_clirad = d_clirad['cool']\n",
    "    ds_crd = d_crd['cool']\n",
    "    \n",
    "    ds_diff = ds_clirad_singlerun - ds_crd\n",
    "    \n",
    "    colors = all_palettes['Set1'][4]\n",
    "    \n",
    "    data = [\n",
    "        {'label': 'CLIRAD (single-run) - CRD',\n",
    "         'srs': fmt_cool(ds_diff),\n",
    "         'line_dash': 'solid', 'line_width': 1.5, \n",
    "         'marker': 'circle', 'marker_size': 7,\n",
    "         'color': colors[3], 'alpha': .8}\n",
    "    ]\n",
    "    \n",
    "    # include old CLIRAD's results for mls profile\n",
    "    if atmpro == 'mls':\n",
    "        d_oldclirad = oldclirad_data_atm()\n",
    "        ds_oldclirad = d_oldclirad['cool']\n",
    "        ds_oldclirad.coords['pressure'] = ds_crd.coords['pressure']\n",
    "        ds_diff_old = ds_oldclirad.sum('band') - ds_crd.sum('band')\n",
    "        data.append(\n",
    "            {'label': 'old CLIRAD (H2012) - CRD',\n",
    "             'srs': fmt_cool(ds_diff_old),\n",
    "             'line_dash': 'dashed', 'line_width': 4,\n",
    "             'color': colors[1], 'alpha': .5}\n",
    "        )\n",
    "    return data\n",
    "\n",
    "\n",
    "def show_cool(atmpro='mls'):\n",
    "    \n",
    "    data_cool = pltdata_cool(atmpro=atmpro)\n",
    "    p_cool_liny = plt_cool_bokeh(pltdata=data_cool)\n",
    "    p_cool_logy = plt_cool_bokeh(pltdata=data_cool, \n",
    "                                 y_axis_type='log',\n",
    "                                 prange=(.01, 200))\n",
    "    \n",
    "    data_cooldiff = pltdata_cooldiff(atmpro=atmpro)\n",
    "    p_cooldiff_logy = plt_cool_bokeh(pltdata=data_cooldiff,\n",
    "                                     y_axis_type='log',\n",
    "                                     prange=(.01, 200))\n",
    "    \n",
    "    everything = gridplot(p_cool_liny, p_cool_logy, \n",
    "                          p_cooldiff_logy,\n",
    "                          ncols=3)\n",
    "    show(everything)\n",
    "    display.display(\n",
    "        display.Markdown('*FIGURE.* Cooling rates & difference.'))\n",
    "\n",
    "\n",
    "    "
   ]
  },
  {
   "cell_type": "code",
   "execution_count": null,
   "metadata": {
    "collapsed": true
   },
   "outputs": [],
   "source": []
  },
  {
   "cell_type": "code",
   "execution_count": 12,
   "metadata": {
    "collapsed": true,
    "scrolled": false
   },
   "outputs": [],
   "source": [
    "\n",
    "\n",
    "def hist_band_vs_flux(da, title='Title'):\n",
    "       \n",
    "    bands = [str(b.values) for b in da['band']]\n",
    "\n",
    "    source = ColumnDataSource(\n",
    "        data={'band': bands, 'flux': da.values})\n",
    "\n",
    "    p = figure(x_range=bands, title=title)\n",
    "    p.vbar(source=source, x='band', top='flux', width=.9)\n",
    "\n",
    "    p.yaxis.axis_label = 'flux (W m-2)'\n",
    "    p.xaxis.axis_label = 'spectral band'\n",
    "    \n",
    "    return p\n",
    "\n",
    "\n",
    "def show_hist_flux(atmpro='mls'):\n",
    "    ds_crd = crd_data_atm(lblnew_params_atm(atmpro=atmpro))['flux']\n",
    "    ds_clirad = clirad_data_atm(\n",
    "        clirad_params_atm(atmpro=atmpro))['flux']\n",
    "    ds_clirad_singlerun = clirad_data_atm(\n",
    "        clirad_params_atm_singlerun(atmpro=atmpro))['flux']\n",
    "    \n",
    "    ip, varname = 0, 'flug'\n",
    "    da = (ds_clirad_singlerun - ds_crd).isel(pressure=ip)[varname]\n",
    "    p_toa = hist_band_vs_flux(da, \n",
    "        title='TOA flux. CLIRAD (single-run) - CRD.')\n",
    "\n",
    "    ip, varname = -1, 'fldg'\n",
    "    da = (ds_clirad_singlerun - ds_crd).isel(pressure=ip)[varname]\n",
    "    p_sfc = hist_band_vs_flux(da, \n",
    "        title='SFC flux. CLIRAD (single-run) - CRD.')    \n",
    "    \n",
    "    atm_crd = (ds_crd.isel(pressure=0) \n",
    "               - ds_crd.isel(pressure=-1))['fnetg']\n",
    "    atm_clirad_singlerun = (ds_clirad_singlerun.isel(pressure=0) \n",
    "                  - ds_clirad_singlerun.isel(pressure=-1))['fnetg']\n",
    "    da = atm_clirad_singlerun - atm_crd\n",
    "    p_atm = hist_band_vs_flux(da, \n",
    "        title='Atmosphere heating. CLIRAD (single-run) - CRD.')\n",
    "\n",
    "    everything = gridplot(p_toa, p_sfc, p_atm, ncols=3, \n",
    "                          plot_width=300, plot_height=300)\n",
    "    \n",
    "    show(everything)\n",
    "    display.display(\n",
    "        display.Markdown('*FIGURE.* Difference between CLIRAD and CRD'\n",
    "          ' in TOA, SFC and net atmosphere flux,'\n",
    "          ' in each spectral band.'))\n",
    "\n",
    "\n",
    "    \n",
    "def show_tb_flux(atmpro='mls'):\n",
    "    \n",
    "    def fmt(da_in):\n",
    "        da = da_in.copy(deep=True)\n",
    "        if 'igg' in da.dims:\n",
    "            da = da.sel(igg=1)\n",
    "            \n",
    "        if 'g' in da.dims:\n",
    "            da = da.sum('g')\n",
    "        \n",
    "        if 'band' in da.dims:\n",
    "            try:\n",
    "                da = da.squeeze('band')\n",
    "            except ValueError:\n",
    "                da = da.sum('band')\n",
    "                \n",
    "        return da\n",
    "    \n",
    "    ds_crd = crd_data_atm(lblnew_params_atm(atmpro=atmpro))['flux']\n",
    "    olr_crd = ds_crd['flug'].isel(pressure=0)\n",
    "    sfc_crd = ds_crd['fldg'].isel(pressure=-1)\n",
    "    atm_crd = (ds_crd.isel(pressure=0)\n",
    "               - ds_crd.isel(pressure=-1))['fnetg']\n",
    "    \n",
    "    ds_clirad = clirad_data_atm(\n",
    "        clirad_params_atm(atmpro=atmpro))['flux']\n",
    "    olr_clirad = ds_clirad['flug'].isel(pressure=0)\n",
    "    sfc_clirad = ds_clirad['fldg'].isel(pressure=-1)\n",
    "    atm_clirad = (ds_clirad.isel(pressure=0)\n",
    "                  - ds_clirad.isel(pressure=-1))['fnetg']\n",
    "\n",
    "    ds_clirad_singlerun = clirad_data_atm(\n",
    "        clirad_params_atm_singlerun(atmpro=atmpro))['flux']\n",
    "    olr_clirad_singlerun = ds_clirad_singlerun['flug'].isel(pressure=0)\n",
    "    sfc_clirad_singlerun = ds_clirad_singlerun['fldg'].isel(pressure=-1)\n",
    "    atm_clirad_singlerun = (ds_clirad_singlerun.isel(pressure=0)\n",
    "                  - ds_clirad_singlerun.isel(pressure=-1))['fnetg']\n",
    "    \n",
    "    if atmpro == 'mls':\n",
    "        ds_oldclirad = oldclirad_data_atm()['flux']\n",
    "        ds_oldclirad['pressure'] = ds_crd['pressure']\n",
    "        olr_oldclirad = ds_oldclirad['flug'].isel(pressure=0)\n",
    "        sfc_oldclirad = ds_oldclirad['fldg'].isel(pressure=-1)\n",
    "        atm_oldclirad = (ds_oldclirad.isel(pressure=0)\n",
    "                         - ds_oldclirad.isel(pressure=-1))['fnetg']\n",
    "        \n",
    "    \n",
    "    \n",
    "    df = pd.DataFrame()\n",
    "    df.index.name = 'Sum over bands'\n",
    "    \n",
    "    if atmpro == 'mls':\n",
    "        df.loc['old CLIRAD - CRD', \n",
    "               'OLR flux'] = (fmt(olr_oldclirad)\n",
    "                              - fmt(olr_crd)).values\n",
    "        df.loc['old CLIRAD - CRD', \n",
    "               'SFC flux'] = (fmt(sfc_oldclirad)\n",
    "                              - fmt(sfc_crd)).values\n",
    "        df.loc['old CLIRAD - CRD', \n",
    "               'ATM heating'] = (fmt(atm_oldclirad)\n",
    "                                 - fmt(atm_crd)).values\n",
    "    \n",
    "    df.loc['CLIRAD (single-run) - CRD', \n",
    "           'OLR flux'] = (fmt(olr_clirad_singlerun) \n",
    "                          - fmt(olr_crd)).values\n",
    "    df.loc['CLIRAD (single-run) - CRD', \n",
    "           'SFC flux'] = (fmt(sfc_clirad_singlerun) \n",
    "                          - fmt(sfc_crd)).values\n",
    "    df.loc['CLIRAD (single-run) - CRD', \n",
    "           'ATM heating'] = (fmt(atm_clirad_singlerun) \n",
    "                             - fmt(atm_crd)).values\n",
    "\n",
    "    df.loc['CRD', 'OLR flux'] = fmt(olr_crd).values\n",
    "    df.loc['CRD', 'SFC flux'] = fmt(sfc_crd).values\n",
    "    df.loc['CRD', 'ATM heating'] = fmt(atm_crd).values\n",
    "        \n",
    "    df = df.astype('float').round(2)\n",
    "    \n",
    "    display.display(df)\n",
    "    display.display(\n",
    "        display.Markdown('*TABLE.* Difference between CLIRAD and CRD'\n",
    "          ' in TOA, SFC and net atmosphere flux,'\n",
    "          ' over all spectral bands. CRD\\'s'\n",
    "          ' TOA, SFC and net atmosphere flux,'\n",
    "          ' over all spectral bands.'))\n"
   ]
  },
  {
   "cell_type": "code",
   "execution_count": 13,
   "metadata": {
    "scrolled": false
   },
   "outputs": [
    {
     "data": {
      "text/markdown": [
       "## Results over entire range of molecules and spectral bands"
      ],
      "text/plain": [
       "<IPython.core.display.Markdown object>"
      ]
     },
     "metadata": {},
     "output_type": "display_data"
    },
    {
     "data": {
      "text/markdown": [
       "### Table of Contents"
      ],
      "text/plain": [
       "<IPython.core.display.Markdown object>"
      ]
     },
     "metadata": {},
     "output_type": "display_data"
    },
    {
     "data": {
      "text/html": [
       "<a href=\"#Makeup_of_atmosphere.\">Makeup of atmosphere.</a>"
      ],
      "text/plain": [
       "<IPython.core.display.HTML object>"
      ]
     },
     "metadata": {},
     "output_type": "display_data"
    },
    {
     "data": {
      "text/markdown": [
       "**mid-latitude summer**"
      ],
      "text/plain": [
       "<IPython.core.display.Markdown object>"
      ]
     },
     "metadata": {},
     "output_type": "display_data"
    },
    {
     "data": {
      "text/html": [
       "<a href=\"#Cooling_rates._mls.\">Cooling rates. mls.</a>"
      ],
      "text/plain": [
       "<IPython.core.display.HTML object>"
      ]
     },
     "metadata": {},
     "output_type": "display_data"
    },
    {
     "data": {
      "text/html": [
       "<a href=\"#Fluxes._mls.\">Fluxes. mls.</a>"
      ],
      "text/plain": [
       "<IPython.core.display.HTML object>"
      ]
     },
     "metadata": {},
     "output_type": "display_data"
    },
    {
     "data": {
      "text/markdown": [
       "**sub-arctic winter**"
      ],
      "text/plain": [
       "<IPython.core.display.Markdown object>"
      ]
     },
     "metadata": {},
     "output_type": "display_data"
    },
    {
     "data": {
      "text/html": [
       "<a href=\"#Cooling_rates._saw.\">Cooling rates. saw.</a>"
      ],
      "text/plain": [
       "<IPython.core.display.HTML object>"
      ]
     },
     "metadata": {},
     "output_type": "display_data"
    },
    {
     "data": {
      "text/html": [
       "<a href=\"#Fluxes._saw.\">Fluxes. saw.</a>"
      ],
      "text/plain": [
       "<IPython.core.display.HTML object>"
      ]
     },
     "metadata": {},
     "output_type": "display_data"
    },
    {
     "data": {
      "text/markdown": [
       "**tropical**"
      ],
      "text/plain": [
       "<IPython.core.display.Markdown object>"
      ]
     },
     "metadata": {},
     "output_type": "display_data"
    },
    {
     "data": {
      "text/html": [
       "<a href=\"#Cooling_rates._trp.\">Cooling rates. trp.</a>"
      ],
      "text/plain": [
       "<IPython.core.display.HTML object>"
      ]
     },
     "metadata": {},
     "output_type": "display_data"
    },
    {
     "data": {
      "text/html": [
       "<a href=\"#Fluxes._trp.\">Fluxes. trp.</a>"
      ],
      "text/plain": [
       "<IPython.core.display.HTML object>"
      ]
     },
     "metadata": {},
     "output_type": "display_data"
    },
    {
     "data": {
      "text/html": [
       "<a id=\"Makeup_of_atmosphere.\"></a>"
      ],
      "text/plain": [
       "<IPython.core.display.HTML object>"
      ]
     },
     "metadata": {},
     "output_type": "display_data"
    },
    {
     "data": {
      "text/markdown": [
       "# Makeup of atmosphere."
      ],
      "text/plain": [
       "<IPython.core.display.Markdown object>"
      ]
     },
     "metadata": {},
     "output_type": "display_data"
    },
    {
     "data": {
      "text/html": [
       "<div>\n",
       "<style scoped>\n",
       "    .dataframe tbody tr th:only-of-type {\n",
       "        vertical-align: middle;\n",
       "    }\n",
       "\n",
       "    .dataframe tbody tr th {\n",
       "        vertical-align: top;\n",
       "    }\n",
       "\n",
       "    .dataframe thead th {\n",
       "        text-align: right;\n",
       "    }\n",
       "</style>\n",
       "<table border=\"1\" class=\"dataframe\">\n",
       "  <thead>\n",
       "    <tr style=\"text-align: right;\">\n",
       "      <th>clirad band</th>\n",
       "      <th>1</th>\n",
       "      <th>2</th>\n",
       "      <th>3</th>\n",
       "      <th>4</th>\n",
       "      <th>5</th>\n",
       "      <th>6</th>\n",
       "      <th>7</th>\n",
       "      <th>8</th>\n",
       "      <th>9</th>\n",
       "      <th>10</th>\n",
       "      <th>11</th>\n",
       "    </tr>\n",
       "    <tr>\n",
       "      <th>molecule</th>\n",
       "      <th></th>\n",
       "      <th></th>\n",
       "      <th></th>\n",
       "      <th></th>\n",
       "      <th></th>\n",
       "      <th></th>\n",
       "      <th></th>\n",
       "      <th></th>\n",
       "      <th></th>\n",
       "      <th></th>\n",
       "      <th></th>\n",
       "    </tr>\n",
       "  </thead>\n",
       "  <tbody>\n",
       "    <tr>\n",
       "      <th>h2o</th>\n",
       "      <td>atmpro</td>\n",
       "      <td>atmpro</td>\n",
       "      <td>atmpro</td>\n",
       "      <td>atmpro</td>\n",
       "      <td>atmpro</td>\n",
       "      <td>atmpro</td>\n",
       "      <td>atmpro</td>\n",
       "      <td>atmpro</td>\n",
       "      <td>atmpro</td>\n",
       "      <td>atmpro</td>\n",
       "      <td>atmpro</td>\n",
       "    </tr>\n",
       "    <tr>\n",
       "      <th>co2</th>\n",
       "      <td>0</td>\n",
       "      <td>0</td>\n",
       "      <td>0.0004</td>\n",
       "      <td>0.0004</td>\n",
       "      <td>0.0004</td>\n",
       "      <td>0.0004</td>\n",
       "      <td>0.0004</td>\n",
       "      <td>0</td>\n",
       "      <td>0</td>\n",
       "      <td>0</td>\n",
       "      <td>0.0004</td>\n",
       "    </tr>\n",
       "    <tr>\n",
       "      <th>n2o</th>\n",
       "      <td>0</td>\n",
       "      <td>0</td>\n",
       "      <td>3.2e-07</td>\n",
       "      <td>0</td>\n",
       "      <td>0</td>\n",
       "      <td>0</td>\n",
       "      <td>0</td>\n",
       "      <td>0</td>\n",
       "      <td>3.2e-07</td>\n",
       "      <td>0</td>\n",
       "      <td>0</td>\n",
       "    </tr>\n",
       "    <tr>\n",
       "      <th>o3</th>\n",
       "      <td>0</td>\n",
       "      <td>0</td>\n",
       "      <td>0</td>\n",
       "      <td>0</td>\n",
       "      <td>0</td>\n",
       "      <td>0</td>\n",
       "      <td>atmpro</td>\n",
       "      <td>0</td>\n",
       "      <td>0</td>\n",
       "      <td>0</td>\n",
       "      <td>0</td>\n",
       "    </tr>\n",
       "    <tr>\n",
       "      <th>ch4</th>\n",
       "      <td>0</td>\n",
       "      <td>0</td>\n",
       "      <td>0</td>\n",
       "      <td>0</td>\n",
       "      <td>0</td>\n",
       "      <td>0</td>\n",
       "      <td>0</td>\n",
       "      <td>0</td>\n",
       "      <td>1.8e-06</td>\n",
       "      <td>0</td>\n",
       "      <td>0</td>\n",
       "    </tr>\n",
       "  </tbody>\n",
       "</table>\n",
       "</div>"
      ],
      "text/plain": [
       "clirad band      1       2        3       4       5       6       7       8   \\\n",
       "molecule                                                                       \n",
       "h2o          atmpro  atmpro   atmpro  atmpro  atmpro  atmpro  atmpro  atmpro   \n",
       "co2               0       0   0.0004  0.0004  0.0004  0.0004  0.0004       0   \n",
       "n2o               0       0  3.2e-07       0       0       0       0       0   \n",
       "o3                0       0        0       0       0       0  atmpro       0   \n",
       "ch4               0       0        0       0       0       0       0       0   \n",
       "\n",
       "clirad band       9       10      11  \n",
       "molecule                              \n",
       "h2o           atmpro  atmpro  atmpro  \n",
       "co2                0       0  0.0004  \n",
       "n2o          3.2e-07       0       0  \n",
       "o3                 0       0       0  \n",
       "ch4          1.8e-06       0       0  "
      ]
     },
     "metadata": {},
     "output_type": "display_data"
    },
    {
     "data": {
      "text/markdown": [
       "*TABLE.* Non-grey absorbers in the atmosphere."
      ],
      "text/plain": [
       "<IPython.core.display.Markdown object>"
      ]
     },
     "metadata": {},
     "output_type": "display_data"
    },
    {
     "data": {
      "text/html": [
       "<div>\n",
       "<style scoped>\n",
       "    .dataframe tbody tr th:only-of-type {\n",
       "        vertical-align: middle;\n",
       "    }\n",
       "\n",
       "    .dataframe tbody tr th {\n",
       "        vertical-align: top;\n",
       "    }\n",
       "\n",
       "    .dataframe thead th {\n",
       "        text-align: right;\n",
       "    }\n",
       "</style>\n",
       "<table border=\"1\" class=\"dataframe\">\n",
       "  <thead>\n",
       "    <tr style=\"text-align: right;\">\n",
       "      <th>clirad band</th>\n",
       "      <th>1</th>\n",
       "      <th>2</th>\n",
       "      <th>3</th>\n",
       "      <th>4</th>\n",
       "      <th>5</th>\n",
       "      <th>6</th>\n",
       "      <th>7</th>\n",
       "      <th>8</th>\n",
       "      <th>9</th>\n",
       "    </tr>\n",
       "    <tr>\n",
       "      <th>absorber</th>\n",
       "      <th></th>\n",
       "      <th></th>\n",
       "      <th></th>\n",
       "      <th></th>\n",
       "      <th></th>\n",
       "      <th></th>\n",
       "      <th></th>\n",
       "      <th></th>\n",
       "      <th></th>\n",
       "    </tr>\n",
       "  </thead>\n",
       "  <tbody>\n",
       "    <tr>\n",
       "      <th>con</th>\n",
       "      <td>atmpro</td>\n",
       "      <td>atmpro</td>\n",
       "      <td>atmpro</td>\n",
       "      <td>atmpro</td>\n",
       "      <td>atmpro</td>\n",
       "      <td>atmpro</td>\n",
       "      <td>atmpro</td>\n",
       "      <td>atmpro</td>\n",
       "      <td>atmpro</td>\n",
       "    </tr>\n",
       "    <tr>\n",
       "      <th>n2o</th>\n",
       "      <td>0</td>\n",
       "      <td>0</td>\n",
       "      <td>0</td>\n",
       "      <td>0</td>\n",
       "      <td>0</td>\n",
       "      <td>0</td>\n",
       "      <td>0</td>\n",
       "      <td>3.2e-07</td>\n",
       "      <td>0</td>\n",
       "    </tr>\n",
       "  </tbody>\n",
       "</table>\n",
       "</div>"
      ],
      "text/plain": [
       "clirad band       1       2       3       4       5       6       7        8  \\\n",
       "absorber                                                                       \n",
       "con          atmpro  atmpro  atmpro  atmpro  atmpro  atmpro  atmpro   atmpro   \n",
       "n2o               0       0       0       0       0       0       0  3.2e-07   \n",
       "\n",
       "clirad band       9  \n",
       "absorber             \n",
       "con          atmpro  \n",
       "n2o               0  "
      ]
     },
     "metadata": {},
     "output_type": "display_data"
    },
    {
     "data": {
      "text/markdown": [
       "*TABLE.* Grey absorbers in the atmosphere."
      ],
      "text/plain": [
       "<IPython.core.display.Markdown object>"
      ]
     },
     "metadata": {},
     "output_type": "display_data"
    },
    {
     "data": {
      "text/html": [
       "<a id=\"Cooling_rates._mls.\"></a>"
      ],
      "text/plain": [
       "<IPython.core.display.HTML object>"
      ]
     },
     "metadata": {},
     "output_type": "display_data"
    },
    {
     "data": {
      "text/markdown": [
       "# Cooling rates. mls."
      ],
      "text/plain": [
       "<IPython.core.display.Markdown object>"
      ]
     },
     "metadata": {},
     "output_type": "display_data"
    },
    {
     "data": {
      "text/html": [
       "\n",
       "<div class=\"bk-root\">\n",
       "    <div class=\"bk-plotdiv\" id=\"bcf0fa6a-38bf-4172-844b-b3345dcf0ae9\"></div>\n",
       "</div>"
      ]
     },
     "metadata": {},
     "output_type": "display_data"
    },
    {
     "data": {
      "application/javascript": [
       "(function(root) {\n",
       "  function embed_document(root) {\n",
       "    \n",
       "  var docs_json = {\"c5fd4c16-32ed-423f-9e5d-586fbc253e49\":{\"roots\":{\"references\":[{\"attributes\":{\"callback\":null,\"data\":{\"x\":{\"__ndarray__\":\"QEr14GpmEsDQUQomvS0TwECOLtAVRQnAyG4E7w1kFUAwCG6K07rzP2jG3ETKaAVAIDSvE8+a1D84WLw0a3bwP8B2CVgEGd6/gAEb8SXj5T+gXWifLPzZv1BIY1h4OdU/gFTeaCAF0r/AU/RFxYvAP0h4oPen7Ly/wKOQ+b0VoD/gKRbxqoK7vwA09+KM5nu/QBvKVo2Xv78AEqWWOp7Ov3BzIslj9ti/gApK0VUU37/gyd0OWm7ov0D75ws5Mua/wIc6h4XW3r+Q48y885XWvwB/tLThVLC/IP++3wZjwr+A8gVsXEm9vwDRmm/daKO/gI3nfaiUkj/AQE7cYBOdv+BkMo6PXa2/AKoyxVLtcD9A4+/aVS+Av6A9GyNwb46/cNIdfcBUiz8AHIdAy8FcP5BuzJoOMok/b2ce0np0pD8UEyzBK56QP8Beg9VHjZ+/gPKVd3D5n7+AD/jI4QOjv8DcwbQ4Uai/AG61+C87or/ASYzDVZqev2D75C8ty6C/ANT1m/xjlb9Ar8iri82Xv0BrLlVYt5W/ABSboWSMa78ghb8UGtelv0BWMP2VTZ2/AMakubnjcr+ACh1oBKqKv0CiEj/MA5G/AADjcuinMj/Ajj/XEoCaPwDwRGmfKYS/AAyIEFfOZj8AItboev6lP1AvBF6BP7c/QN1dRRBwqj9ACvj956WkP8BM5jLOU7A/kB8XOk4Itz8Ay8mloMS8P8Bl77ruFZ4/QHOrAh4hnz8g3sjPVdmmP/C+80esF7A/gAETBSmitD+gbg0US524P7C02mPse7E/\",\"dtype\":\"float64\",\"shape\":[75]},\"y\":{\"__ndarray__\":\"GhExyth1ND/Sv8nbtpRIP2vylNV0PVE/aTum7souWD/At0SJ8fVgPw3Iuahxymc/MSNhhJWvcD/bTfBN02d3P2zb5nxnaoA/CD5h5MAGhz8NmeH1TyaQP+zrCsc9p5Y/LbKd76fGnz/bLW5ISEmmPww9YvTcQq8/JV2OstnstT8Er5Y7M8G+P0c+r3jqkcU/5h99k6ZBzj88bCIzFzjVP4enV8oyxN0//yH99nXg5D8qOpLLf0jtP5kqGJXUifQ/c9cS8kHP/D+/DpwzojQEQIEmwoanVwxA4lgXt9HgE0BSSZ2AJuIbQAMJih9jjiNA5q4l5INuK0AwTKYKRj0zQNv5fmq8/DpAaCJseHrtQkB/+zpwzoxKQM3MzMzMeFJAZmZmZmZqWEAAAAAAAFxeQM3MzMzMJmJAmpmZmZkfZUBmZmZmZhhoQDMzMzMzEWtAAAAAAAAKbkBmZmZmZoFwQM3MzMzM/XFAMzMzMzN6c0CamZmZmfZ0QAAAAAAAc3ZAZmZmZmbvd0DNzMzMzGt5QDMzMzMz6HpAmpmZmZlkfEAAAAAAAOF9QGZmZmZmXX9AZmZmZuZsgECamZmZGSuBQM3MzMxM6YFAAAAAAICngkAzMzMzs2WDQGZmZmbmI4RAmpmZmRnihEDNzMzMTKCFQAAAAACAXoZAMzMzM7Mch0BmZmZm5tqHQJqZmZkZmYhAzczMzExXiUAAAAAAgBWKQDMzMzOz04pAZmZmZuaRi0CamZmZGVCMQM3MzMxMDo1AAAAAAIDMjUAzMzMzs4qOQGZmZmbmSI9A\",\"dtype\":\"float64\",\"shape\":[75]}},\"selected\":{\"id\":\"5eac8063-7e43-4e02-94ae-23b0dc1942a3\",\"type\":\"Selection\"},\"selection_policy\":{\"id\":\"f8bf3cd6-6d83-461d-b3b6-4cc7181ae472\",\"type\":\"UnionRenderers\"}},\"id\":\"2972e648-9b33-4f45-80ce-107088d7a625\",\"type\":\"ColumnDataSource\"},{\"attributes\":{\"label\":{\"value\":\"CRD\"},\"renderers\":[{\"id\":\"0073178d-d015-4b65-a539-82d8b02e92b3\",\"type\":\"GlyphRenderer\"},{\"id\":\"9ed161db-74c9-4eea-a6dd-d0fa6420983d\",\"type\":\"GlyphRenderer\"}]},\"id\":\"e2f4ee25-422a-4874-b6fb-d074c5e6a444\",\"type\":\"LegendItem\"},{\"attributes\":{\"fill_alpha\":{\"value\":0.7},\"fill_color\":{\"value\":\"#984ea3\"},\"line_alpha\":{\"value\":0.7},\"line_color\":{\"value\":\"#984ea3\"},\"x\":{\"field\":\"x\"},\"y\":{\"field\":\"y\"}},\"id\":\"489733fe-56c5-400d-b180-46a8bb23823d\",\"type\":\"Square\"},{\"attributes\":{\"data_source\":{\"id\":\"c64737b8-8e82-4bac-9426-fe726c1cfca2\",\"type\":\"ColumnDataSource\"},\"glyph\":{\"id\":\"5b51061e-317b-4f43-8205-4258a9bcd298\",\"type\":\"Line\"},\"hover_glyph\":null,\"muted_glyph\":null,\"nonselection_glyph\":{\"id\":\"e3beff61-0637-462b-9f0a-aac037c30e92\",\"type\":\"Line\"},\"selection_glyph\":null,\"view\":{\"id\":\"5059d866-545e-4715-b308-36c159ba4cdc\",\"type\":\"CDSView\"}},\"id\":\"81158dcd-571a-4879-a62f-054bf526f7ce\",\"type\":\"GlyphRenderer\"},{\"attributes\":{\"source\":{\"id\":\"d7846c7f-7b0f-4379-ae4f-9537933a2059\",\"type\":\"ColumnDataSource\"}},\"id\":\"a97e15bd-b38a-41ec-a4a3-d3f1a9196e00\",\"type\":\"CDSView\"},{\"attributes\":{\"callback\":null,\"data\":{\"x\":{\"__ndarray__\":\"cm1sTMT3VEDEyvjosEJHQOKI6DjzCUNArgQWV9awPkB9Lm8XG3M4QEz+Qv6iYzNA7eV8HaPLLkCX1QHyTpMoQFBmYSYetiNAUB04GtGpH0AmFyVE5j8ZQJca9QPGqBNALJP+OOHHDEBNxaf7QF8AQKtislomWuw/cW2dcO6A9T/uJJvfPu0EQIaQLTI/JQ1AxGiII+PmEkCJvfVeuCsYQD6ZBhGbHB9AXQw69DTYJEAsubcwKucqQNuT9D5OmipAJyi3szEJJUBlNebh5WkgQDDcPHBr2xlArtlANXuQFEBdJadFHckQQI2Avh0ZsQtAjYiwt1rsBUCL0SDoVBgAQK6C0nEEjvc/CggLSme58T9sXU2orFPnP0v0JYz9Gdg/vT38vxYczD9nBQTe6kHHP1IhkEXJwKo/8OZnhCVAub+xtVgCpmqzP6DUpY6g0+k/PKK3T1h4+D8RTDjQc1EAQG/dAQs7TwJAQt2eHpPLAEBWEh074x//PyCap9ZSGf4/rEzaTySm/T+7aXhHRmr9P688KeqeNP0/ruZ4EemD/D8olrZcn9T7P0+vNc9hW/s/i9VVL+4P+z+0NzC24uz6P8731Kza8vo/xFf4SHzq+z+gYyHpvHb8P68ROkiFevw/BAjYdCga/D8AUp8VbW77P3JrF/nKmvo/qCQeGfq++T/dplwHJfn4P2G4p+Uva/g/OzZ0RqMZ+D8dmn/iar73P/OuA7Ka8PY/gaaeQHGn9T9hkyjAH1L0P3aZGhdAU/M/n8VP/g7P8j+90HxHNvfyPwhNBtgrqvk/\",\"dtype\":\"float64\",\"shape\":[75]},\"y\":{\"__ndarray__\":\"GhExyth1ND/Sv8nbtpRIP2vylNV0PVE/aTum7souWD/At0SJ8fVgPw3Iuahxymc/MSNhhJWvcD/bTfBN02d3P2zb5nxnaoA/CD5h5MAGhz8NmeH1TyaQP+zrCsc9p5Y/LbKd76fGnz/bLW5ISEmmPww9YvTcQq8/JV2OstnstT8Er5Y7M8G+P0c+r3jqkcU/5h99k6ZBzj88bCIzFzjVP4enV8oyxN0//yH99nXg5D8qOpLLf0jtP5kqGJXUifQ/c9cS8kHP/D+/DpwzojQEQIEmwoanVwxA4lgXt9HgE0BSSZ2AJuIbQAMJih9jjiNA5q4l5INuK0AwTKYKRj0zQNv5fmq8/DpAaCJseHrtQkB/+zpwzoxKQM3MzMzMeFJAZmZmZmZqWEAAAAAAAFxeQM3MzMzMJmJAmpmZmZkfZUBmZmZmZhhoQDMzMzMzEWtAAAAAAAAKbkBmZmZmZoFwQM3MzMzM/XFAMzMzMzN6c0CamZmZmfZ0QAAAAAAAc3ZAZmZmZmbvd0DNzMzMzGt5QDMzMzMz6HpAmpmZmZlkfEAAAAAAAOF9QGZmZmZmXX9AZmZmZuZsgECamZmZGSuBQM3MzMxM6YFAAAAAAICngkAzMzMzs2WDQGZmZmbmI4RAmpmZmRnihEDNzMzMTKCFQAAAAACAXoZAMzMzM7Mch0BmZmZm5tqHQJqZmZkZmYhAzczMzExXiUAAAAAAgBWKQDMzMzOz04pAZmZmZuaRi0CamZmZGVCMQM3MzMxMDo1AAAAAAIDMjUAzMzMzs4qOQGZmZmbmSI9A\",\"dtype\":\"float64\",\"shape\":[75]}},\"selected\":{\"id\":\"90ec0e5f-67e1-4874-aa18-3636e8288750\",\"type\":\"Selection\"},\"selection_policy\":{\"id\":\"e03a076d-47c7-40d3-9b7e-106f2e7f9e6c\",\"type\":\"UnionRenderers\"}},\"id\":\"74e4ad87-c07c-443a-9ab4-2945d07cb4f4\",\"type\":\"ColumnDataSource\"},{\"attributes\":{\"data_source\":{\"id\":\"d7846c7f-7b0f-4379-ae4f-9537933a2059\",\"type\":\"ColumnDataSource\"},\"glyph\":{\"id\":\"489733fe-56c5-400d-b180-46a8bb23823d\",\"type\":\"Square\"},\"hover_glyph\":null,\"muted_glyph\":null,\"nonselection_glyph\":{\"id\":\"13ba944b-527c-4720-b8d4-2c2c56470fd8\",\"type\":\"Square\"},\"selection_glyph\":null,\"view\":{\"id\":\"a97e15bd-b38a-41ec-a4a3-d3f1a9196e00\",\"type\":\"CDSView\"}},\"id\":\"61669b2a-fa92-45b9-885b-dbe2475b09ba\",\"type\":\"GlyphRenderer\"},{\"attributes\":{\"label\":{\"value\":\"CLIRAD (single-run)\"},\"renderers\":[{\"id\":\"1276853b-c449-474b-8893-a706b9a6c59a\",\"type\":\"GlyphRenderer\"}]},\"id\":\"65568c33-0d0c-4bfa-a432-c69333f95e8d\",\"type\":\"LegendItem\"},{\"attributes\":{\"line_alpha\":0.1,\"line_color\":\"#1f77b4\",\"line_dash\":[6],\"line_width\":4,\"x\":{\"field\":\"x\"},\"y\":{\"field\":\"y\"}},\"id\":\"8aae7824-80a8-40fb-b03c-b3ae2b356c8e\",\"type\":\"Line\"},{\"attributes\":{\"data_source\":{\"id\":\"74e4ad87-c07c-443a-9ab4-2945d07cb4f4\",\"type\":\"ColumnDataSource\"},\"glyph\":{\"id\":\"553bd603-bac8-4a73-9a1a-3a2f7d8ebb51\",\"type\":\"Line\"},\"hover_glyph\":null,\"muted_glyph\":null,\"nonselection_glyph\":{\"id\":\"8dfa44f1-3b3c-4769-9cdc-b7363d6cf295\",\"type\":\"Line\"},\"selection_glyph\":null,\"view\":{\"id\":\"0d02dd6c-21ac-4e84-8623-aa9ebfdaa45d\",\"type\":\"CDSView\"}},\"id\":\"9ed161db-74c9-4eea-a6dd-d0fa6420983d\",\"type\":\"GlyphRenderer\"},{\"attributes\":{\"fill_alpha\":{\"value\":0.1},\"fill_color\":{\"value\":\"#1f77b4\"},\"line_alpha\":{\"value\":0.1},\"line_color\":{\"value\":\"#1f77b4\"},\"x\":{\"field\":\"x\"},\"y\":{\"field\":\"y\"}},\"id\":\"881f825f-ab0c-483c-8ef8-1464c3e1d019\",\"type\":\"Circle\"},{\"attributes\":{\"fill_alpha\":{\"value\":0.1},\"fill_color\":{\"value\":\"#1f77b4\"},\"line_alpha\":{\"value\":0.1},\"line_color\":{\"value\":\"#1f77b4\"},\"x\":{\"field\":\"x\"},\"y\":{\"field\":\"y\"}},\"id\":\"13ba944b-527c-4720-b8d4-2c2c56470fd8\",\"type\":\"Square\"},{\"attributes\":{\"line_alpha\":0.1,\"line_color\":\"#1f77b4\",\"line_width\":1.5,\"x\":{\"field\":\"x\"},\"y\":{\"field\":\"y\"}},\"id\":\"e3beff61-0637-462b-9f0a-aac037c30e92\",\"type\":\"Line\"},{\"attributes\":{\"ticker\":null},\"id\":\"126cfa25-aa4b-4a0d-84c7-c5d929b512ff\",\"type\":\"LogTickFormatter\"},{\"attributes\":{\"source\":{\"id\":\"74e4ad87-c07c-443a-9ab4-2945d07cb4f4\",\"type\":\"ColumnDataSource\"}},\"id\":\"0d02dd6c-21ac-4e84-8623-aa9ebfdaa45d\",\"type\":\"CDSView\"},{\"attributes\":{\"data_source\":{\"id\":\"a9c29332-901a-476e-ba09-03cba712e37a\",\"type\":\"ColumnDataSource\"},\"glyph\":{\"id\":\"97a21d07-5126-4f44-b6ba-132d28733593\",\"type\":\"Circle\"},\"hover_glyph\":null,\"muted_glyph\":null,\"nonselection_glyph\":{\"id\":\"881f825f-ab0c-483c-8ef8-1464c3e1d019\",\"type\":\"Circle\"},\"selection_glyph\":null,\"view\":{\"id\":\"637a1793-11ed-457f-996d-6a47535e1095\",\"type\":\"CDSView\"}},\"id\":\"0073178d-d015-4b65-a539-82d8b02e92b3\",\"type\":\"GlyphRenderer\"},{\"attributes\":{\"label\":{\"value\":\"CLIRAD (single-run) - CRD\"},\"renderers\":[{\"id\":\"353c47f7-b86a-4a1d-890e-f2e114954b98\",\"type\":\"GlyphRenderer\"},{\"id\":\"687ab58b-39f1-4a5b-9cdc-3532adb925c4\",\"type\":\"GlyphRenderer\"}]},\"id\":\"e8dcbb81-0e53-4da6-bed1-3dd179693e0e\",\"type\":\"LegendItem\"},{\"attributes\":{\"line_color\":\"#4daf4a\",\"line_width\":1.5,\"x\":{\"field\":\"x\"},\"y\":{\"field\":\"y\"}},\"id\":\"553bd603-bac8-4a73-9a1a-3a2f7d8ebb51\",\"type\":\"Line\"},{\"attributes\":{\"callback\":null,\"data\":{\"x\":{\"__ndarray__\":\"zhhdnl3RU0CKgDdE+dxEQP6f5duhdUFAMJBr6ewEQkAADxZQyK45QBmX3ka8EDZAjl8alnlwL0CeYJlYHKIqQJoaoQNWxSJAwL4t7BozIUBMkS56I6AXQBxPe4ld/BRAnMjiKz2HCkCJCgdQ/WcBQKJTvluRvOg/j/JpYJwB9j+fcxKIKREEQOwUvOtLFw1AV0At7oRoEkD5lECKxjYXQAdydNQ0jR1ACbyvRZLfI0CO3MmPRGApQCcUNq4qNylA6VN9h30SJECRnP+HbGofQDQKaukXmhlAteFC/mL9E0CTDffT91MQQEkVAKh1YwtAqFesCIQRBkATatBMXLz/P4fvYPUXo/Y/tDrQnFTK8T/fneFQ7xLnP14aDQuCJtc/5BrOx2LRzT+fE4V0bnvHP3ueIXamhrA/cWaxNtALrr92uqPyMJK3P6q5+U821+g/ckrZjXL49z/TaxRJZAUAQPzVLij27QFAige8XqaCAEAv4Q7keaX+P0VyKG35kv0/XHVqXZRQ/T/+RskYEAv9PwKD1IjB3fw/JBko3yJ2/D//mRCM5iX7P/btQHcr5vo/xTCcdQr9+j+f/V+tjrf6P0Wt2HvLrvo/9IV/x6br+z/bYX40veD8P8+HZwkyUvw/CkxgoI8l/D8QA+bsYB78P2eu9w7DDvw/khNJm3qS+j8vZ0xHVJ75Py0d1shscPk/NKgVKiiK+T/NNtzstIr5P4ps72zyaPc/TlSpuPUj9j9S2qZu6gj1P2XVmdu6VPQ/t/WgjjEZ9D+np734CoH0P1P4Q57qwfo/\",\"dtype\":\"float64\",\"shape\":[75]},\"y\":{\"__ndarray__\":\"hLndy31yND/6fmq8dJNIP8n9DkWBPlE/aDum7souWD/b4a/JGvVgP9f34SAhymc/ZvM4DOavcD+z0M5pFmh3PxuC4zJuaoA/xjcUPlsHhz8uHAjJAiaQP9ieWRKgppY/oI7HDFTGnz+a5h2n6EimPzS6g9iZQq8/IuAQqtTstT9SSZ2AJsK+P4nS3uALk8U/ih9j7lpCzj+ASL99HTjVP4enV8oyxN0/ACL99nXg5D9fmEwVjErtPyUGgZVDi/Q/AiuHFtnO/D9OYhBYOTQEQPHSTWIQWAxA4XoUrkfhE0D8qfHSTeIbQMh2vp8ajyNArkfhehRuK0Bcj8L1KDwzQFyPwvUo/DpAPgrXo3DtQkDNzMzMzIxKQClcj8L1eFJAKVyPwvVoWECamZmZmVleQGZmZmZmJmJAAAAAAAAgZUCamZmZmRloQJqZmZmZEWtAmpmZmZkJbkCamZmZmYFwQGZmZmZm/nFAZmZmZmZ6c0BmZmZmZvZ0QDQzMzMzc3ZAAAAAAADwd0AAAAAAAGx5QAAAAAAA6HpAzMzMzMxkfEDMzMzMzOB9QM3MzMzMXH9AzczMzMxsgEAzMzMzMyuBQDMzMzMz6YFAMzMzMzOngkCamZmZmWWDQAAAAAAAJIRAAAAAAADihEAAAAAAAKCFQGZmZmZmXoZAzczMzMwch0DNzMzMzNqHQM3MzMzMmIhAMzMzMzNXiUCamZmZmRWKQAAAAAAA1IpAAAAAAACSi0AAAAAAAFCMQGZmZmZmDo1AzczMzMzMjUDNzMzMzIqOQM3MzMzMSI9A\",\"dtype\":\"float64\",\"shape\":[75]}},\"selected\":{\"id\":\"6f0b8656-6042-4619-a498-85fa40c47b6d\",\"type\":\"Selection\"},\"selection_policy\":{\"id\":\"365ab9c8-d630-41c9-ba69-835796570215\",\"type\":\"UnionRenderers\"}},\"id\":\"d7846c7f-7b0f-4379-ae4f-9537933a2059\",\"type\":\"ColumnDataSource\"},{\"attributes\":{\"line_alpha\":0.1,\"line_color\":\"#1f77b4\",\"line_width\":1.5,\"x\":{\"field\":\"x\"},\"y\":{\"field\":\"y\"}},\"id\":\"8dfa44f1-3b3c-4769-9cdc-b7363d6cf295\",\"type\":\"Line\"},{\"attributes\":{},\"id\":\"2ac7b619-c818-4200-be35-fae246f18dea\",\"type\":\"BasicTickFormatter\"},{\"attributes\":{\"label\":{\"value\":\"old CLIRAD (H2012)\"},\"renderers\":[{\"id\":\"61669b2a-fa92-45b9-885b-dbe2475b09ba\",\"type\":\"GlyphRenderer\"},{\"id\":\"81158dcd-571a-4879-a62f-054bf526f7ce\",\"type\":\"GlyphRenderer\"}]},\"id\":\"b086ab0d-9a9f-4882-8a00-a562803d600a\",\"type\":\"LegendItem\"},{\"attributes\":{\"data_source\":{\"id\":\"2972e648-9b33-4f45-80ce-107088d7a625\",\"type\":\"ColumnDataSource\"},\"glyph\":{\"id\":\"704245fa-d799-4cb8-9f0b-47033c7c44da\",\"type\":\"Line\"},\"hover_glyph\":null,\"muted_glyph\":null,\"nonselection_glyph\":{\"id\":\"8aae7824-80a8-40fb-b03c-b3ae2b356c8e\",\"type\":\"Line\"},\"selection_glyph\":null,\"view\":{\"id\":\"9269f76e-3279-458e-aafd-182fdcf555e0\",\"type\":\"CDSView\"}},\"id\":\"9f5c3b39-d47e-47bc-8104-913d8e149d21\",\"type\":\"GlyphRenderer\"},{\"attributes\":{\"line_alpha\":0.5,\"line_color\":\"#984ea3\",\"line_width\":1.5,\"x\":{\"field\":\"x\"},\"y\":{\"field\":\"y\"}},\"id\":\"5b51061e-317b-4f43-8205-4258a9bcd298\",\"type\":\"Line\"},{\"attributes\":{\"callback\":null,\"data\":{\"x\":{\"__ndarray__\":\"zhhdnl3RU0CKgDdE+dxEQP6f5duhdUFAMJBr6ewEQkAADxZQyK45QBmX3ka8EDZAjl8alnlwL0CeYJlYHKIqQJoaoQNWxSJAwL4t7BozIUBMkS56I6AXQBxPe4ld/BRAnMjiKz2HCkCJCgdQ/WcBQKJTvluRvOg/j/JpYJwB9j+fcxKIKREEQOwUvOtLFw1AV0At7oRoEkD5lECKxjYXQAdydNQ0jR1ACbyvRZLfI0CO3MmPRGApQCcUNq4qNylA6VN9h30SJECRnP+HbGofQDQKaukXmhlAteFC/mL9E0CTDffT91MQQEkVAKh1YwtAqFesCIQRBkATatBMXLz/P4fvYPUXo/Y/tDrQnFTK8T/fneFQ7xLnP14aDQuCJtc/5BrOx2LRzT+fE4V0bnvHP3ueIXamhrA/cWaxNtALrr92uqPyMJK3P6q5+U821+g/ckrZjXL49z/TaxRJZAUAQPzVLij27QFAige8XqaCAEAv4Q7keaX+P0VyKG35kv0/XHVqXZRQ/T/+RskYEAv9PwKD1IjB3fw/JBko3yJ2/D//mRCM5iX7P/btQHcr5vo/xTCcdQr9+j+f/V+tjrf6P0Wt2HvLrvo/9IV/x6br+z/bYX40veD8P8+HZwkyUvw/CkxgoI8l/D8QA+bsYB78P2eu9w7DDvw/khNJm3qS+j8vZ0xHVJ75Py0d1shscPk/NKgVKiiK+T/NNtzstIr5P4ps72zyaPc/TlSpuPUj9j9S2qZu6gj1P2XVmdu6VPQ/t/WgjjEZ9D+np734CoH0P1P4Q57qwfo/\",\"dtype\":\"float64\",\"shape\":[75]},\"y\":{\"__ndarray__\":\"hLndy31yND/6fmq8dJNIP8n9DkWBPlE/aDum7souWD/b4a/JGvVgP9f34SAhymc/ZvM4DOavcD+z0M5pFmh3PxuC4zJuaoA/xjcUPlsHhz8uHAjJAiaQP9ieWRKgppY/oI7HDFTGnz+a5h2n6EimPzS6g9iZQq8/IuAQqtTstT9SSZ2AJsK+P4nS3uALk8U/ih9j7lpCzj+ASL99HTjVP4enV8oyxN0/ACL99nXg5D9fmEwVjErtPyUGgZVDi/Q/AiuHFtnO/D9OYhBYOTQEQPHSTWIQWAxA4XoUrkfhE0D8qfHSTeIbQMh2vp8ajyNArkfhehRuK0Bcj8L1KDwzQFyPwvUo/DpAPgrXo3DtQkDNzMzMzIxKQClcj8L1eFJAKVyPwvVoWECamZmZmVleQGZmZmZmJmJAAAAAAAAgZUCamZmZmRloQJqZmZmZEWtAmpmZmZkJbkCamZmZmYFwQGZmZmZm/nFAZmZmZmZ6c0BmZmZmZvZ0QDQzMzMzc3ZAAAAAAADwd0AAAAAAAGx5QAAAAAAA6HpAzMzMzMxkfEDMzMzMzOB9QM3MzMzMXH9AzczMzMxsgEAzMzMzMyuBQDMzMzMz6YFAMzMzMzOngkCamZmZmWWDQAAAAAAAJIRAAAAAAADihEAAAAAAAKCFQGZmZmZmXoZAzczMzMwch0DNzMzMzNqHQM3MzMzMmIhAMzMzMzNXiUCamZmZmRWKQAAAAAAA1IpAAAAAAACSi0AAAAAAAFCMQGZmZmZmDo1AzczMzMzMjUDNzMzMzIqOQM3MzMzMSI9A\",\"dtype\":\"float64\",\"shape\":[75]}},\"selected\":{\"id\":\"efcc44a9-6640-4c5c-b92d-70178c8ea6b3\",\"type\":\"Selection\"},\"selection_policy\":{\"id\":\"6f6a790a-906e-4941-8bec-bf88df40c321\",\"type\":\"UnionRenderers\"}},\"id\":\"c64737b8-8e82-4bac-9426-fe726c1cfca2\",\"type\":\"ColumnDataSource\"},{\"attributes\":{\"label\":{\"value\":\"old CLIRAD (H2012) - CRD\"},\"renderers\":[{\"id\":\"9f5c3b39-d47e-47bc-8104-913d8e149d21\",\"type\":\"GlyphRenderer\"}]},\"id\":\"c2aac133-764e-422e-820c-cc15ef910b94\",\"type\":\"LegendItem\"},{\"attributes\":{\"callback\":null,\"end\":0.01,\"start\":1020},\"id\":\"ccb13ace-6e1d-46a9-91c4-193cf06ecc8c\",\"type\":\"Range1d\"},{\"attributes\":{\"source\":{\"id\":\"2972e648-9b33-4f45-80ce-107088d7a625\",\"type\":\"ColumnDataSource\"}},\"id\":\"9269f76e-3279-458e-aafd-182fdcf555e0\",\"type\":\"CDSView\"},{\"attributes\":{\"line_alpha\":0.5,\"line_color\":\"#377eb8\",\"line_dash\":[6],\"line_width\":4,\"x\":{\"field\":\"x\"},\"y\":{\"field\":\"y\"}},\"id\":\"704245fa-d799-4cb8-9f0b-47033c7c44da\",\"type\":\"Line\"},{\"attributes\":{\"source\":{\"id\":\"c64737b8-8e82-4bac-9426-fe726c1cfca2\",\"type\":\"ColumnDataSource\"}},\"id\":\"5059d866-545e-4715-b308-36c159ba4cdc\",\"type\":\"CDSView\"},{\"attributes\":{\"source\":{\"id\":\"7110576c-67f5-47be-bcb0-9d8ff20fc934\",\"type\":\"ColumnDataSource\"}},\"id\":\"f5da7f66-90fb-40b0-a329-82cfbf197b09\",\"type\":\"CDSView\"},{\"attributes\":{\"plot\":null,\"text\":\"\"},\"id\":\"2476e561-0f86-44f5-aba8-c8955b702a87\",\"type\":\"Title\"},{\"attributes\":{\"source\":{\"id\":\"a9c29332-901a-476e-ba09-03cba712e37a\",\"type\":\"ColumnDataSource\"}},\"id\":\"637a1793-11ed-457f-996d-6a47535e1095\",\"type\":\"CDSView\"},{\"attributes\":{\"fill_alpha\":{\"value\":0.7},\"fill_color\":{\"value\":\"#984ea3\"},\"line_alpha\":{\"value\":0.7},\"line_color\":{\"value\":\"#984ea3\"},\"x\":{\"field\":\"x\"},\"y\":{\"field\":\"y\"}},\"id\":\"b82edfee-28ab-4f3d-a2b0-84a36ffc8aa3\",\"type\":\"Circle\"},{\"attributes\":{\"callback\":null,\"data\":{\"x\":{\"__ndarray__\":\"NOdvazPZRUDc8yShiBhDQKFQzRs25EFAIvT/6ro/QEAeRoCoy0E8QLZUhVbiPjdAZ7gXuVjrMUC8VTzMVOkpQF4/NuWhHiJA8BYaY0U8GkDNGg3QNeYUQAnkw/F3vxFAqRTOLJ9fDUDsrqLZeqkDQJdu+q2NIPY/7iB8GpvD+j/n0SM5LlYFQGooM1yJPQtANXh0Js3+EEAEnLgHDD4WQDnt6GrDLh5Ax7WIfFz0JEB+qL1p0fMqQDwXTBZJLCpAa0Hv1oCIJEAK2kvbM4wgQFYl+hDx/htAnjQ3jNOqFkApWEuc39gRQI9OPP5/YQ1A/SZ6kkGqCUCYtZxizn8EQGh3jDAZm/0/Dbjzub429T+MdA8rDQXwP5MPcA72YeY/6Tv+mreV3T/ey51xZbTVP45R4y85CcU/uHrhZxsJgr9XfVqOi1LFPznA7pYpd+0/IG5ZOx6h+j8wU8dODO8BQBcCko+qCwRAhjH50Ta9JkBxfDnfy/8gQHfqTMSUVfE/f1gp2wT6IEAluOdp3zTrP0r+QvggCSlAGmRyOi67LcDquYJ+q7PZvxJhXxaKYMq/3XjWmyaLsb9an57xl7OnP6OSTuUz58I/H2l4z3T0zj8+od/zB3TUP4UDfFtS7Ng/bBCtp6sa3T8/rjPchYjgPxJpezrueuI/vICJyg665D/aRPf+13jnPzkn8PJfHew/1KOhLYR8K0AtjOowA1YCQHutU0c4fcM/VabNdXAZ3r9uPvnk9gWivzrk2qBTCLI/nHdr+8hdwz8+pWrGoHbPPytZcVH9OOc/\",\"dtype\":\"float64\",\"shape\":[75]},\"y\":{\"__ndarray__\":\"GhExyth1ND/Sv8nbtpRIP2vylNV0PVE/aTum7souWD/At0SJ8fVgPw3Iuahxymc/MSNhhJWvcD/bTfBN02d3P2zb5nxnaoA/CD5h5MAGhz8NmeH1TyaQP+zrCsc9p5Y/LbKd76fGnz/bLW5ISEmmPww9YvTcQq8/JV2OstnstT8Er5Y7M8G+P0c+r3jqkcU/5h99k6ZBzj88bCIzFzjVP4enV8oyxN0//yH99nXg5D8qOpLLf0jtP5kqGJXUifQ/c9cS8kHP/D+/DpwzojQEQIEmwoanVwxA4lgXt9HgE0BSSZ2AJuIbQAMJih9jjiNA5q4l5INuK0AwTKYKRj0zQNv5fmq8/DpAaCJseHrtQkB/+zpwzoxKQM3MzMzMeFJAZmZmZmZqWEAAAAAAAFxeQM3MzMzMJmJAmpmZmZkfZUBmZmZmZhhoQDMzMzMzEWtAAAAAAAAKbkBmZmZmZoFwQM3MzMzM/XFAMzMzMzN6c0CamZmZmfZ0QAAAAAAAc3ZAZmZmZmbvd0DNzMzMzGt5QDMzMzMz6HpAmpmZmZlkfEAAAAAAAOF9QGZmZmZmXX9AZmZmZuZsgECamZmZGSuBQM3MzMxM6YFAAAAAAICngkAzMzMzs2WDQGZmZmbmI4RAmpmZmRnihEDNzMzMTKCFQAAAAACAXoZAMzMzM7Mch0BmZmZm5tqHQJqZmZkZmYhAzczMzExXiUAAAAAAgBWKQDMzMzOz04pAZmZmZuaRi0CamZmZGVCMQM3MzMxMDo1AAAAAAIDMjUAzMzMzs4qOQGZmZmbmSI9A\",\"dtype\":\"float64\",\"shape\":[75]}},\"selected\":{\"id\":\"72374bac-9d29-4065-a0c2-a0a60b66bb85\",\"type\":\"Selection\"},\"selection_policy\":{\"id\":\"b2f5febd-7cc5-4f1b-b64c-e03256631aa0\",\"type\":\"UnionRenderers\"}},\"id\":\"55e5bcf9-9001-44ea-981e-ab2c1166e6b3\",\"type\":\"ColumnDataSource\"},{\"attributes\":{\"callback\":null,\"data\":{\"x\":{\"__ndarray__\":\"sPNoLVUWRMCcW08foaggwBGEs9HRWwLASjme7vfp/D8IvYiIhHUOQGCzEsL62Q5AgyvKUjksBEBVAqijXWDlPx9vshLEd+m/gBl43C629b9d8V/QwWbxv89oEyPhlN6/Xy/web73sj8BTdfvzlHaPwT1hALqzd8/9M16p7IK1T/PPSti1juqP9KBpl9de86/wAg/0V+B3r9bGNJzxdrev2mAtcP0us2/BGqpTognrD98od4Lck6ZP0woHypKgcu/jdf8mBsW0L9AUtKy/CaxPzZJ6gUtHOE/i9eyt8LS4D/BLENqJfzQPx7g3AduBss/hvNM1jbv3T8xkO/p5Z3hP+XS5/pSNNg/G4BFf7vqyz9aF6Nb22zRP9wqupDuqdQ/EzoAdlgPzz9UkjcF4CbEP3CS/rwNsrw/l7drFwL/tj/+RFwacTq3P8hcR0JIHL0/GF8OXS9GwT/2cfDoh9nJP4VKAkn4xss/NHpRClKKIkBNtKvvnjcaQFFftSR8h+m/1B1cooCKGkBUGwklrZ/vv7LW/RqNYiVAd8BQrtWlMMBRoisexSABwHKbARJzp/6/Fz0TmaAo/L+5QqP2RS/6v3klKzD0lfi/okoJr+0L+L9Reynsuln3v80QW7FwP/a/6cPsin3T9L/heoUnKirzv+q22dtTXfG/lciyZ+XD7r/cCMIPcnnqv4hJX9j/uOS/DR3TxE95KEB+/Kr+NtvpP0M5GanzgPS/FRASXs0t/b9VXVB3T+L0vzPrDN26MvK/q1bi3lVj8L8q+F5dxBDuv+RAm15aG+y/\",\"dtype\":\"float64\",\"shape\":[75]},\"y\":{\"__ndarray__\":\"GhExyth1ND/Sv8nbtpRIP2vylNV0PVE/aTum7souWD/At0SJ8fVgPw3Iuahxymc/MSNhhJWvcD/bTfBN02d3P2zb5nxnaoA/CD5h5MAGhz8NmeH1TyaQP+zrCsc9p5Y/LbKd76fGnz/bLW5ISEmmPww9YvTcQq8/JV2OstnstT8Er5Y7M8G+P0c+r3jqkcU/5h99k6ZBzj88bCIzFzjVP4enV8oyxN0//yH99nXg5D8qOpLLf0jtP5kqGJXUifQ/c9cS8kHP/D+/DpwzojQEQIEmwoanVwxA4lgXt9HgE0BSSZ2AJuIbQAMJih9jjiNA5q4l5INuK0AwTKYKRj0zQNv5fmq8/DpAaCJseHrtQkB/+zpwzoxKQM3MzMzMeFJAZmZmZmZqWEAAAAAAAFxeQM3MzMzMJmJAmpmZmZkfZUBmZmZmZhhoQDMzMzMzEWtAAAAAAAAKbkBmZmZmZoFwQM3MzMzM/XFAMzMzMzN6c0CamZmZmfZ0QAAAAAAAc3ZAZmZmZmbvd0DNzMzMzGt5QDMzMzMz6HpAmpmZmZlkfEAAAAAAAOF9QGZmZmZmXX9AZmZmZuZsgECamZmZGSuBQM3MzMxM6YFAAAAAAICngkAzMzMzs2WDQGZmZmbmI4RAmpmZmRnihEDNzMzMTKCFQAAAAACAXoZAMzMzM7Mch0BmZmZm5tqHQJqZmZkZmYhAzczMzExXiUAAAAAAgBWKQDMzMzOz04pAZmZmZuaRi0CamZmZGVCMQM3MzMxMDo1AAAAAAIDMjUAzMzMzs4qOQGZmZmbmSI9A\",\"dtype\":\"float64\",\"shape\":[75]}},\"selected\":{\"id\":\"54c414fe-2c08-43da-a8a6-2079dd2e4f06\",\"type\":\"Selection\"},\"selection_policy\":{\"id\":\"055500f7-5208-4320-b2f4-b2d2a05e59f2\",\"type\":\"UnionRenderers\"}},\"id\":\"49f06e0f-32a8-490d-a09e-6799573df53b\",\"type\":\"ColumnDataSource\"},{\"attributes\":{\"fill_alpha\":{\"value\":0.1},\"fill_color\":{\"value\":\"#1f77b4\"},\"line_alpha\":{\"value\":0.1},\"line_color\":{\"value\":\"#1f77b4\"},\"x\":{\"field\":\"x\"},\"y\":{\"field\":\"y\"}},\"id\":\"aa2e26d4-bf63-4a8f-9bce-dc7173f73589\",\"type\":\"Circle\"},{\"attributes\":{},\"id\":\"72374bac-9d29-4065-a0c2-a0a60b66bb85\",\"type\":\"Selection\"},{\"attributes\":{},\"id\":\"b2f5febd-7cc5-4f1b-b64c-e03256631aa0\",\"type\":\"UnionRenderers\"},{\"attributes\":{\"data_source\":{\"id\":\"3447ac35-67c3-4f66-a731-7230d54b283d\",\"type\":\"ColumnDataSource\"},\"glyph\":{\"id\":\"c3d1d567-f51c-4523-a155-d4a716ce3d1a\",\"type\":\"Line\"},\"hover_glyph\":null,\"muted_glyph\":null,\"nonselection_glyph\":{\"id\":\"03e8e0fd-a00b-443b-ba75-2472936f8f6e\",\"type\":\"Line\"},\"selection_glyph\":null,\"view\":{\"id\":\"57e85835-ae65-4838-a885-4e92768f19de\",\"type\":\"CDSView\"}},\"id\":\"1276853b-c449-474b-8893-a706b9a6c59a\",\"type\":\"GlyphRenderer\"},{\"attributes\":{\"line_alpha\":0.1,\"line_color\":\"#1f77b4\",\"line_dash\":[6],\"line_width\":5,\"x\":{\"field\":\"x\"},\"y\":{\"field\":\"y\"}},\"id\":\"03e8e0fd-a00b-443b-ba75-2472936f8f6e\",\"type\":\"Line\"},{\"attributes\":{\"active_drag\":\"auto\",\"active_inspect\":\"auto\",\"active_scroll\":\"auto\",\"active_tap\":\"auto\",\"tools\":[{\"id\":\"55f6aa4f-0f8a-45db-895c-6e4b4804ca19\",\"type\":\"PanTool\"},{\"id\":\"48c9d666-8c33-476e-adde-4b177bbba2d1\",\"type\":\"WheelZoomTool\"},{\"id\":\"ce792394-5e90-49a3-bbb9-248f12911cfc\",\"type\":\"BoxZoomTool\"},{\"id\":\"2be17e3d-9204-4363-898b-1a5491df6c83\",\"type\":\"SaveTool\"},{\"id\":\"ff12d149-2b1f-4572-ad7d-a6bd2322e9a4\",\"type\":\"ResetTool\"},{\"id\":\"bb428ae3-4eff-4b6b-b999-29544ac66b94\",\"type\":\"HelpTool\"}]},\"id\":\"a4280dfb-7422-4a75-9e73-427ef1213f8b\",\"type\":\"Toolbar\"},{\"attributes\":{\"items\":[{\"id\":\"e2947faf-bd8e-4fc9-976f-e74b1bff7d94\",\"type\":\"LegendItem\"},{\"id\":\"e143841e-bc7f-4839-a172-6908686de6d5\",\"type\":\"LegendItem\"},{\"id\":\"e38ba01d-a848-4571-b0cb-9c162df18705\",\"type\":\"LegendItem\"}],\"label_text_font_size\":{\"value\":\"8pt\"},\"location\":\"top_center\",\"orientation\":\"horizontal\",\"plot\":{\"id\":\"5ca3e69c-3d41-48d7-92b6-51434a7c367a\",\"subtype\":\"Figure\",\"type\":\"Plot\"}},\"id\":\"24bd5ed9-574e-4e8a-81e6-6821bef43f99\",\"type\":\"Legend\"},{\"attributes\":{\"above\":[{\"id\":\"24bd5ed9-574e-4e8a-81e6-6821bef43f99\",\"type\":\"Legend\"}],\"below\":[{\"id\":\"2d3002af-c3cd-4bd6-844f-a19f8da547ed\",\"type\":\"LinearAxis\"}],\"left\":[{\"id\":\"c97b6dae-ab38-4858-9f77-ba515bd90a69\",\"type\":\"LinearAxis\"}],\"plot_width\":300,\"renderers\":[{\"id\":\"2d3002af-c3cd-4bd6-844f-a19f8da547ed\",\"type\":\"LinearAxis\"},{\"id\":\"c1f51019-1d97-439d-b99e-0515cca60195\",\"type\":\"Grid\"},{\"id\":\"c97b6dae-ab38-4858-9f77-ba515bd90a69\",\"type\":\"LinearAxis\"},{\"id\":\"664c1b62-c3dc-4c5a-9252-3bba90eb6315\",\"type\":\"Grid\"},{\"id\":\"6ff35f67-b78b-4998-a320-618624030ee9\",\"type\":\"BoxAnnotation\"},{\"id\":\"18a5f0da-89d0-48e2-a463-bf7c0d681f2b\",\"type\":\"GlyphRenderer\"},{\"id\":\"1ef7ea55-6bc2-43f1-943e-ff5658229bb6\",\"type\":\"GlyphRenderer\"},{\"id\":\"0986aada-6f40-4159-bec1-cec9012c18b9\",\"type\":\"GlyphRenderer\"},{\"id\":\"318d5c3e-5c29-4f13-8299-3345efafaa65\",\"type\":\"GlyphRenderer\"},{\"id\":\"1f926f8e-6a1a-4e6f-a03a-ebfa6171ddf3\",\"type\":\"GlyphRenderer\"},{\"id\":\"24bd5ed9-574e-4e8a-81e6-6821bef43f99\",\"type\":\"Legend\"}],\"title\":{\"id\":\"2476e561-0f86-44f5-aba8-c8955b702a87\",\"type\":\"Title\"},\"toolbar\":{\"id\":\"a4280dfb-7422-4a75-9e73-427ef1213f8b\",\"type\":\"Toolbar\"},\"toolbar_location\":null,\"x_range\":{\"id\":\"9db951aa-dc78-4238-9b84-ae0c4e65e02b\",\"type\":\"Range1d\"},\"x_scale\":{\"id\":\"0598eae3-edbe-44b2-9821-ce3ccffd07bf\",\"type\":\"LinearScale\"},\"y_range\":{\"id\":\"7866ee86-7530-419f-bfb5-44c886eb8540\",\"type\":\"Range1d\"},\"y_scale\":{\"id\":\"5a1a36ba-2a1c-45f7-95d7-82d4bd805f6f\",\"type\":\"LinearScale\"}},\"id\":\"5ca3e69c-3d41-48d7-92b6-51434a7c367a\",\"subtype\":\"Figure\",\"type\":\"Plot\"},{\"attributes\":{\"line_alpha\":0.6,\"line_color\":\"#377eb8\",\"line_dash\":[6],\"line_width\":5,\"x\":{\"field\":\"x\"},\"y\":{\"field\":\"y\"}},\"id\":\"6750cef5-990a-4ae0-a7f5-7bf3dc8e8bdf\",\"type\":\"Line\"},{\"attributes\":{\"callback\":null,\"end\":0.01,\"start\":1020},\"id\":\"7866ee86-7530-419f-bfb5-44c886eb8540\",\"type\":\"Range1d\"},{\"attributes\":{\"plot\":null,\"text\":\"\"},\"id\":\"923e2056-5de4-40eb-9026-b88dd3d32796\",\"type\":\"Title\"},{\"attributes\":{},\"id\":\"5a1a36ba-2a1c-45f7-95d7-82d4bd805f6f\",\"type\":\"LinearScale\"},{\"attributes\":{\"callback\":null,\"data\":{\"x\":{\"__ndarray__\":\"zhhdnl3RU0CKgDdE+dxEQP6f5duhdUFAMJBr6ewEQkAADxZQyK45QBmX3ka8EDZAjl8alnlwL0CeYJlYHKIqQJoaoQNWxSJAwL4t7BozIUBMkS56I6AXQBxPe4ld/BRAnMjiKz2HCkCJCgdQ/WcBQKJTvluRvOg/j/JpYJwB9j+fcxKIKREEQOwUvOtLFw1AV0At7oRoEkD5lECKxjYXQAdydNQ0jR1ACbyvRZLfI0CO3MmPRGApQCcUNq4qNylA6VN9h30SJECRnP+HbGofQDQKaukXmhlAteFC/mL9E0CTDffT91MQQEkVAKh1YwtAqFesCIQRBkATatBMXLz/P4fvYPUXo/Y/tDrQnFTK8T/fneFQ7xLnP14aDQuCJtc/5BrOx2LRzT+fE4V0bnvHP3ueIXamhrA/cWaxNtALrr92uqPyMJK3P6q5+U821+g/ckrZjXL49z/TaxRJZAUAQPzVLij27QFAige8XqaCAEAv4Q7keaX+P0VyKG35kv0/XHVqXZRQ/T/+RskYEAv9PwKD1IjB3fw/JBko3yJ2/D//mRCM5iX7P/btQHcr5vo/xTCcdQr9+j+f/V+tjrf6P0Wt2HvLrvo/9IV/x6br+z/bYX40veD8P8+HZwkyUvw/CkxgoI8l/D8QA+bsYB78P2eu9w7DDvw/khNJm3qS+j8vZ0xHVJ75Py0d1shscPk/NKgVKiiK+T/NNtzstIr5P4ps72zyaPc/TlSpuPUj9j9S2qZu6gj1P2XVmdu6VPQ/t/WgjjEZ9D+np734CoH0P1P4Q57qwfo/\",\"dtype\":\"float64\",\"shape\":[75]},\"y\":{\"__ndarray__\":\"hLndy31yND/6fmq8dJNIP8n9DkWBPlE/aDum7souWD/b4a/JGvVgP9f34SAhymc/ZvM4DOavcD+z0M5pFmh3PxuC4zJuaoA/xjcUPlsHhz8uHAjJAiaQP9ieWRKgppY/oI7HDFTGnz+a5h2n6EimPzS6g9iZQq8/IuAQqtTstT9SSZ2AJsK+P4nS3uALk8U/ih9j7lpCzj+ASL99HTjVP4enV8oyxN0/ACL99nXg5D9fmEwVjErtPyUGgZVDi/Q/AiuHFtnO/D9OYhBYOTQEQPHSTWIQWAxA4XoUrkfhE0D8qfHSTeIbQMh2vp8ajyNArkfhehRuK0Bcj8L1KDwzQFyPwvUo/DpAPgrXo3DtQkDNzMzMzIxKQClcj8L1eFJAKVyPwvVoWECamZmZmVleQGZmZmZmJmJAAAAAAAAgZUCamZmZmRloQJqZmZmZEWtAmpmZmZkJbkCamZmZmYFwQGZmZmZm/nFAZmZmZmZ6c0BmZmZmZvZ0QDQzMzMzc3ZAAAAAAADwd0AAAAAAAGx5QAAAAAAA6HpAzMzMzMxkfEDMzMzMzOB9QM3MzMzMXH9AzczMzMxsgEAzMzMzMyuBQDMzMzMz6YFAMzMzMzOngkCamZmZmWWDQAAAAAAAJIRAAAAAAADihEAAAAAAAKCFQGZmZmZmXoZAzczMzMwch0DNzMzMzNqHQM3MzMzMmIhAMzMzMzNXiUCamZmZmRWKQAAAAAAA1IpAAAAAAACSi0AAAAAAAFCMQGZmZmZmDo1AzczMzMzMjUDNzMzMzIqOQM3MzMzMSI9A\",\"dtype\":\"float64\",\"shape\":[75]}},\"selected\":{\"id\":\"bcccb201-6e83-4d26-9b63-d0afd2c0f70d\",\"type\":\"Selection\"},\"selection_policy\":{\"id\":\"59d348d4-3417-49bf-972f-2230d8caff76\",\"type\":\"UnionRenderers\"}},\"id\":\"931d931a-3195-46ed-9b51-05fdd2456452\",\"type\":\"ColumnDataSource\"},{\"attributes\":{},\"id\":\"8639b7b3-9aef-4272-be90-74725ac6fcc0\",\"type\":\"UnionRenderers\"},{\"attributes\":{\"children\":[{\"id\":\"e683325e-e0f4-480c-bd45-a30fa5cfa97f\",\"type\":\"Row\"}]},\"id\":\"74e72a5a-b235-4f37-be73-dab7be79faca\",\"type\":\"Column\"},{\"attributes\":{\"plot\":{\"id\":\"5ca3e69c-3d41-48d7-92b6-51434a7c367a\",\"subtype\":\"Figure\",\"type\":\"Plot\"},\"ticker\":{\"id\":\"6c140eb6-0a23-431b-9d32-4c5fca6bab07\",\"type\":\"BasicTicker\"}},\"id\":\"c1f51019-1d97-439d-b99e-0515cca60195\",\"type\":\"Grid\"},{\"attributes\":{\"line_color\":\"#4daf4a\",\"line_width\":1.5,\"x\":{\"field\":\"x\"},\"y\":{\"field\":\"y\"}},\"id\":\"f2ab6f2c-b3a7-4efe-961c-2d30fdb39785\",\"type\":\"Line\"},{\"attributes\":{\"line_alpha\":0.6,\"line_color\":\"#377eb8\",\"line_dash\":[6],\"line_width\":5,\"x\":{\"field\":\"x\"},\"y\":{\"field\":\"y\"}},\"id\":\"c3d1d567-f51c-4523-a155-d4a716ce3d1a\",\"type\":\"Line\"},{\"attributes\":{\"axis_label\":\"cooling rate [K/day]\",\"formatter\":{\"id\":\"622d1e89-821d-4af7-a47c-41d81d81a927\",\"type\":\"BasicTickFormatter\"},\"plot\":{\"id\":\"5ca3e69c-3d41-48d7-92b6-51434a7c367a\",\"subtype\":\"Figure\",\"type\":\"Plot\"},\"ticker\":{\"id\":\"6c140eb6-0a23-431b-9d32-4c5fca6bab07\",\"type\":\"BasicTicker\"}},\"id\":\"2d3002af-c3cd-4bd6-844f-a19f8da547ed\",\"type\":\"LinearAxis\"},{\"attributes\":{},\"id\":\"288864e9-9da3-4274-bdf0-42a4efbdb2f1\",\"type\":\"UnionRenderers\"},{\"attributes\":{\"source\":{\"id\":\"55e5bcf9-9001-44ea-981e-ab2c1166e6b3\",\"type\":\"ColumnDataSource\"}},\"id\":\"3f5a72fa-925e-4993-ac41-06380c9ac03b\",\"type\":\"CDSView\"},{\"attributes\":{\"line_alpha\":0.1,\"line_color\":\"#1f77b4\",\"line_width\":1.5,\"x\":{\"field\":\"x\"},\"y\":{\"field\":\"y\"}},\"id\":\"8e9b56b5-5f57-4612-a736-8927b074653b\",\"type\":\"Line\"},{\"attributes\":{},\"id\":\"a7f322b6-4429-4f6d-9687-437365a34c1b\",\"type\":\"SaveTool\"},{\"attributes\":{},\"id\":\"622d1e89-821d-4af7-a47c-41d81d81a927\",\"type\":\"BasicTickFormatter\"},{\"attributes\":{\"callback\":null,\"data\":{\"x\":{\"__ndarray__\":\"cm1sTMT3VEDEyvjosEJHQOKI6DjzCUNArgQWV9awPkB9Lm8XG3M4QEz+Qv6iYzNA7eV8HaPLLkCX1QHyTpMoQFBmYSYetiNAUB04GtGpH0AmFyVE5j8ZQJca9QPGqBNALJP+OOHHDEBNxaf7QF8AQKtislomWuw/cW2dcO6A9T/uJJvfPu0EQIaQLTI/JQ1AxGiII+PmEkCJvfVeuCsYQD6ZBhGbHB9AXQw69DTYJEAsubcwKucqQNuT9D5OmipAJyi3szEJJUBlNebh5WkgQDDcPHBr2xlArtlANXuQFEBdJadFHckQQI2Avh0ZsQtAjYiwt1rsBUCL0SDoVBgAQK6C0nEEjvc/CggLSme58T9sXU2orFPnP0v0JYz9Gdg/vT38vxYczD9nBQTe6kHHP1IhkEXJwKo/8OZnhCVAub+xtVgCpmqzP6DUpY6g0+k/PKK3T1h4+D8RTDjQc1EAQG/dAQs7TwJAQt2eHpPLAEBWEh074x//PyCap9ZSGf4/rEzaTySm/T+7aXhHRmr9P688KeqeNP0/ruZ4EemD/D8olrZcn9T7P0+vNc9hW/s/i9VVL+4P+z+0NzC24uz6P8731Kza8vo/xFf4SHzq+z+gYyHpvHb8P68ROkiFevw/BAjYdCga/D8AUp8VbW77P3JrF/nKmvo/qCQeGfq++T/dplwHJfn4P2G4p+Uva/g/OzZ0RqMZ+D8dmn/iar73P/OuA7Ka8PY/gaaeQHGn9T9hkyjAH1L0P3aZGhdAU/M/n8VP/g7P8j+90HxHNvfyPwhNBtgrqvk/\",\"dtype\":\"float64\",\"shape\":[75]},\"y\":{\"__ndarray__\":\"GhExyth1ND/Sv8nbtpRIP2vylNV0PVE/aTum7souWD/At0SJ8fVgPw3Iuahxymc/MSNhhJWvcD/bTfBN02d3P2zb5nxnaoA/CD5h5MAGhz8NmeH1TyaQP+zrCsc9p5Y/LbKd76fGnz/bLW5ISEmmPww9YvTcQq8/JV2OstnstT8Er5Y7M8G+P0c+r3jqkcU/5h99k6ZBzj88bCIzFzjVP4enV8oyxN0//yH99nXg5D8qOpLLf0jtP5kqGJXUifQ/c9cS8kHP/D+/DpwzojQEQIEmwoanVwxA4lgXt9HgE0BSSZ2AJuIbQAMJih9jjiNA5q4l5INuK0AwTKYKRj0zQNv5fmq8/DpAaCJseHrtQkB/+zpwzoxKQM3MzMzMeFJAZmZmZmZqWEAAAAAAAFxeQM3MzMzMJmJAmpmZmZkfZUBmZmZmZhhoQDMzMzMzEWtAAAAAAAAKbkBmZmZmZoFwQM3MzMzM/XFAMzMzMzN6c0CamZmZmfZ0QAAAAAAAc3ZAZmZmZmbvd0DNzMzMzGt5QDMzMzMz6HpAmpmZmZlkfEAAAAAAAOF9QGZmZmZmXX9AZmZmZuZsgECamZmZGSuBQM3MzMxM6YFAAAAAAICngkAzMzMzs2WDQGZmZmbmI4RAmpmZmRnihEDNzMzMTKCFQAAAAACAXoZAMzMzM7Mch0BmZmZm5tqHQJqZmZkZmYhAzczMzExXiUAAAAAAgBWKQDMzMzOz04pAZmZmZuaRi0CamZmZGVCMQM3MzMxMDo1AAAAAAIDMjUAzMzMzs4qOQGZmZmbmSI9A\",\"dtype\":\"float64\",\"shape\":[75]}},\"selected\":{\"id\":\"e5630c90-990f-4b71-a7e4-40419dc721a6\",\"type\":\"Selection\"},\"selection_policy\":{\"id\":\"1d1f2a2e-5afe-481f-a134-056616512d65\",\"type\":\"UnionRenderers\"}},\"id\":\"bce6af5f-2836-43b0-adc9-a39cb38f0eae\",\"type\":\"ColumnDataSource\"},{\"attributes\":{},\"id\":\"365ab9c8-d630-41c9-ba69-835796570215\",\"type\":\"UnionRenderers\"},{\"attributes\":{},\"id\":\"c1f95d80-2533-4613-89c8-c8aacab59bcb\",\"type\":\"UnionRenderers\"},{\"attributes\":{},\"id\":\"5f1cb6df-6987-47c4-84d6-1585f49265ff\",\"type\":\"BasicTicker\"},{\"attributes\":{},\"id\":\"90ec0e5f-67e1-4874-aa18-3636e8288750\",\"type\":\"Selection\"},{\"attributes\":{\"dimension\":1,\"plot\":{\"id\":\"5ca3e69c-3d41-48d7-92b6-51434a7c367a\",\"subtype\":\"Figure\",\"type\":\"Plot\"},\"ticker\":{\"id\":\"d06c122d-4dca-4b5b-a30a-21e696e059ec\",\"type\":\"BasicTicker\"}},\"id\":\"664c1b62-c3dc-4c5a-9252-3bba90eb6315\",\"type\":\"Grid\"},{\"attributes\":{},\"id\":\"55f6aa4f-0f8a-45db-895c-6e4b4804ca19\",\"type\":\"PanTool\"},{\"attributes\":{\"data_source\":{\"id\":\"7110576c-67f5-47be-bcb0-9d8ff20fc934\",\"type\":\"ColumnDataSource\"},\"glyph\":{\"id\":\"3191b001-72d3-4655-8483-0d7d95cf3797\",\"type\":\"Line\"},\"hover_glyph\":null,\"muted_glyph\":null,\"nonselection_glyph\":{\"id\":\"5afc9f27-7bd0-4950-beea-78130b1301f3\",\"type\":\"Line\"},\"selection_glyph\":null,\"view\":{\"id\":\"f5da7f66-90fb-40b0-a329-82cfbf197b09\",\"type\":\"CDSView\"}},\"id\":\"687ab58b-39f1-4a5b-9cdc-3532adb925c4\",\"type\":\"GlyphRenderer\"},{\"attributes\":{\"children\":[{\"id\":\"5ca3e69c-3d41-48d7-92b6-51434a7c367a\",\"subtype\":\"Figure\",\"type\":\"Plot\"},{\"id\":\"0f716dec-017a-4d71-a227-d61d100ab0b1\",\"subtype\":\"Figure\",\"type\":\"Plot\"},{\"id\":\"675d2d16-cab2-48ad-9517-f2c59a24f084\",\"subtype\":\"Figure\",\"type\":\"Plot\"}]},\"id\":\"e683325e-e0f4-480c-bd45-a30fa5cfa97f\",\"type\":\"Row\"},{\"attributes\":{\"data_source\":{\"id\":\"46a7602c-2037-41c8-bbff-bfc22dc5410e\",\"type\":\"ColumnDataSource\"},\"glyph\":{\"id\":\"f2ab6f2c-b3a7-4efe-961c-2d30fdb39785\",\"type\":\"Line\"},\"hover_glyph\":null,\"muted_glyph\":null,\"nonselection_glyph\":{\"id\":\"8e9b56b5-5f57-4612-a736-8927b074653b\",\"type\":\"Line\"},\"selection_glyph\":null,\"view\":{\"id\":\"9d10d6cb-7f35-4269-81f8-7c52edbee586\",\"type\":\"CDSView\"}},\"id\":\"0986aada-6f40-4159-bec1-cec9012c18b9\",\"type\":\"GlyphRenderer\"},{\"attributes\":{},\"id\":\"866a2d88-5b01-4fd4-8d92-d91fc4df042b\",\"type\":\"UnionRenderers\"},{\"attributes\":{\"callback\":null,\"end\":14.02928377009,\"start\":-15.151674899090004},\"id\":\"9db951aa-dc78-4238-9b84-ae0c4e65e02b\",\"type\":\"Range1d\"},{\"attributes\":{\"overlay\":{\"id\":\"6ff35f67-b78b-4998-a320-618624030ee9\",\"type\":\"BoxAnnotation\"}},\"id\":\"ce792394-5e90-49a3-bbb9-248f12911cfc\",\"type\":\"BoxZoomTool\"},{\"attributes\":{\"axis_label\":\"pressure [mb]\",\"formatter\":{\"id\":\"2ac7b619-c818-4200-be35-fae246f18dea\",\"type\":\"BasicTickFormatter\"},\"plot\":{\"id\":\"5ca3e69c-3d41-48d7-92b6-51434a7c367a\",\"subtype\":\"Figure\",\"type\":\"Plot\"},\"ticker\":{\"id\":\"d06c122d-4dca-4b5b-a30a-21e696e059ec\",\"type\":\"BasicTicker\"}},\"id\":\"c97b6dae-ab38-4858-9f77-ba515bd90a69\",\"type\":\"LinearAxis\"},{\"attributes\":{},\"id\":\"bcccb201-6e83-4d26-9b63-d0afd2c0f70d\",\"type\":\"Selection\"},{\"attributes\":{\"bottom_units\":\"screen\",\"fill_alpha\":{\"value\":0.5},\"fill_color\":{\"value\":\"lightgrey\"},\"left_units\":\"screen\",\"level\":\"overlay\",\"line_alpha\":{\"value\":1.0},\"line_color\":{\"value\":\"black\"},\"line_dash\":[4,4],\"line_width\":{\"value\":2},\"plot\":null,\"render_mode\":\"css\",\"right_units\":\"screen\",\"top_units\":\"screen\"},\"id\":\"b1bde6dc-529f-4f2b-b332-252f83ca710e\",\"type\":\"BoxAnnotation\"},{\"attributes\":{\"source\":{\"id\":\"bce6af5f-2836-43b0-adc9-a39cb38f0eae\",\"type\":\"ColumnDataSource\"}},\"id\":\"58e9653c-efec-4be3-bdba-35d829365e4f\",\"type\":\"CDSView\"},{\"attributes\":{\"num_minor_ticks\":10},\"id\":\"3b3db6c8-9455-447a-b9e7-15a96a9be349\",\"type\":\"LogTicker\"},{\"attributes\":{},\"id\":\"76cffa7a-7a68-45f2-a8de-6fbd77127db3\",\"type\":\"PanTool\"},{\"attributes\":{},\"id\":\"b1598efb-0683-4fa4-ada4-e9b0bfb05b68\",\"type\":\"Selection\"},{\"attributes\":{},\"id\":\"0598eae3-edbe-44b2-9821-ce3ccffd07bf\",\"type\":\"LinearScale\"},{\"attributes\":{},\"id\":\"59d348d4-3417-49bf-972f-2230d8caff76\",\"type\":\"UnionRenderers\"},{\"attributes\":{\"callback\":null,\"end\":0.7043876163771923,\"start\":-1.377387847450964},\"id\":\"a167fd83-2689-41ea-a4d5-9d2ba4316c72\",\"type\":\"Range1d\"},{\"attributes\":{\"bottom_units\":\"screen\",\"fill_alpha\":{\"value\":0.5},\"fill_color\":{\"value\":\"lightgrey\"},\"left_units\":\"screen\",\"level\":\"overlay\",\"line_alpha\":{\"value\":1.0},\"line_color\":{\"value\":\"black\"},\"line_dash\":[4,4],\"line_width\":{\"value\":2},\"plot\":null,\"render_mode\":\"css\",\"right_units\":\"screen\",\"top_units\":\"screen\"},\"id\":\"adf459e3-792f-4e73-8525-59dc8595d741\",\"type\":\"BoxAnnotation\"},{\"attributes\":{},\"id\":\"ff12d149-2b1f-4572-ad7d-a6bd2322e9a4\",\"type\":\"ResetTool\"},{\"attributes\":{},\"id\":\"6f6a790a-906e-4941-8bec-bf88df40c321\",\"type\":\"UnionRenderers\"},{\"attributes\":{},\"id\":\"2be17e3d-9204-4363-898b-1a5491df6c83\",\"type\":\"SaveTool\"},{\"attributes\":{\"tools\":[{\"id\":\"55f6aa4f-0f8a-45db-895c-6e4b4804ca19\",\"type\":\"PanTool\"},{\"id\":\"48c9d666-8c33-476e-adde-4b177bbba2d1\",\"type\":\"WheelZoomTool\"},{\"id\":\"ce792394-5e90-49a3-bbb9-248f12911cfc\",\"type\":\"BoxZoomTool\"},{\"id\":\"2be17e3d-9204-4363-898b-1a5491df6c83\",\"type\":\"SaveTool\"},{\"id\":\"ff12d149-2b1f-4572-ad7d-a6bd2322e9a4\",\"type\":\"ResetTool\"},{\"id\":\"bb428ae3-4eff-4b6b-b999-29544ac66b94\",\"type\":\"HelpTool\"},{\"id\":\"79f6c380-a8f6-4680-97d5-676714491fb1\",\"type\":\"PanTool\"},{\"id\":\"dadb6762-0831-4909-a821-df535000d65a\",\"type\":\"WheelZoomTool\"},{\"id\":\"72f3223a-778d-461e-b8be-5b0f84aabe4b\",\"type\":\"BoxZoomTool\"},{\"id\":\"085605bd-7741-4110-9332-71f4e3bf0b02\",\"type\":\"SaveTool\"},{\"id\":\"ede3ba56-96a8-43d7-997b-8b6b6e2e07f5\",\"type\":\"ResetTool\"},{\"id\":\"7c5cae87-7583-475b-833b-98bbc19ad487\",\"type\":\"HelpTool\"},{\"id\":\"76cffa7a-7a68-45f2-a8de-6fbd77127db3\",\"type\":\"PanTool\"},{\"id\":\"b4c8e958-9745-4550-a756-dc6de98c59d0\",\"type\":\"WheelZoomTool\"},{\"id\":\"38143ab5-269f-4b8a-a7e8-67c2bad3c094\",\"type\":\"BoxZoomTool\"},{\"id\":\"a7f322b6-4429-4f6d-9687-437365a34c1b\",\"type\":\"SaveTool\"},{\"id\":\"96700417-9a76-481e-adfd-10e9d11467e5\",\"type\":\"ResetTool\"},{\"id\":\"39f0fbd6-9045-4744-807e-c57d26eb774d\",\"type\":\"HelpTool\"}]},\"id\":\"40ef0566-81c4-497b-b55f-e0d0bbbbcc3c\",\"type\":\"ProxyToolbar\"},{\"attributes\":{},\"id\":\"48c9d666-8c33-476e-adde-4b177bbba2d1\",\"type\":\"WheelZoomTool\"},{\"attributes\":{\"axis_label\":\"cooling rate [K/day]\",\"formatter\":{\"id\":\"f7246303-f3d5-49f6-b4f6-5afe6bc6750f\",\"type\":\"BasicTickFormatter\"},\"plot\":{\"id\":\"675d2d16-cab2-48ad-9517-f2c59a24f084\",\"subtype\":\"Figure\",\"type\":\"Plot\"},\"ticker\":{\"id\":\"5f1cb6df-6987-47c4-84d6-1585f49265ff\",\"type\":\"BasicTicker\"}},\"id\":\"4242a7b7-4402-4bba-a77a-e3bffb7b5ba7\",\"type\":\"LinearAxis\"},{\"attributes\":{},\"id\":\"085605bd-7741-4110-9332-71f4e3bf0b02\",\"type\":\"SaveTool\"},{\"attributes\":{\"dimension\":1,\"plot\":{\"id\":\"675d2d16-cab2-48ad-9517-f2c59a24f084\",\"subtype\":\"Figure\",\"type\":\"Plot\"},\"ticker\":{\"id\":\"3b3db6c8-9455-447a-b9e7-15a96a9be349\",\"type\":\"LogTicker\"}},\"id\":\"45b8915c-b3d7-4e29-8766-c7d426b48f8c\",\"type\":\"Grid\"},{\"attributes\":{\"callback\":null,\"data\":{\"x\":{\"__ndarray__\":\"sPNoLVUWRMCcW08foaggwBGEs9HRWwLASjme7vfp/D8IvYiIhHUOQGCzEsL62Q5AgyvKUjksBEBVAqijXWDlPx9vshLEd+m/gBl43C629b9d8V/QwWbxv89oEyPhlN6/Xy/web73sj8BTdfvzlHaPwT1hALqzd8/9M16p7IK1T/PPSti1juqP9KBpl9de86/wAg/0V+B3r9bGNJzxdrev2mAtcP0us2/BGqpTognrD98od4Lck6ZP0woHypKgcu/jdf8mBsW0L9AUtKy/CaxPzZJ6gUtHOE/i9eyt8LS4D/BLENqJfzQPx7g3AduBss/hvNM1jbv3T8xkO/p5Z3hP+XS5/pSNNg/G4BFf7vqyz9aF6Nb22zRP9wqupDuqdQ/EzoAdlgPzz9UkjcF4CbEP3CS/rwNsrw/l7drFwL/tj/+RFwacTq3P8hcR0JIHL0/GF8OXS9GwT/2cfDoh9nJP4VKAkn4xss/NHpRClKKIkBNtKvvnjcaQFFftSR8h+m/1B1cooCKGkBUGwklrZ/vv7LW/RqNYiVAd8BQrtWlMMBRoisexSABwHKbARJzp/6/Fz0TmaAo/L+5QqP2RS/6v3klKzD0lfi/okoJr+0L+L9Reynsuln3v80QW7FwP/a/6cPsin3T9L/heoUnKirzv+q22dtTXfG/lciyZ+XD7r/cCMIPcnnqv4hJX9j/uOS/DR3TxE95KEB+/Kr+NtvpP0M5GanzgPS/FRASXs0t/b9VXVB3T+L0vzPrDN26MvK/q1bi3lVj8L8q+F5dxBDuv+RAm15aG+y/\",\"dtype\":\"float64\",\"shape\":[75]},\"y\":{\"__ndarray__\":\"GhExyth1ND/Sv8nbtpRIP2vylNV0PVE/aTum7souWD/At0SJ8fVgPw3Iuahxymc/MSNhhJWvcD/bTfBN02d3P2zb5nxnaoA/CD5h5MAGhz8NmeH1TyaQP+zrCsc9p5Y/LbKd76fGnz/bLW5ISEmmPww9YvTcQq8/JV2OstnstT8Er5Y7M8G+P0c+r3jqkcU/5h99k6ZBzj88bCIzFzjVP4enV8oyxN0//yH99nXg5D8qOpLLf0jtP5kqGJXUifQ/c9cS8kHP/D+/DpwzojQEQIEmwoanVwxA4lgXt9HgE0BSSZ2AJuIbQAMJih9jjiNA5q4l5INuK0AwTKYKRj0zQNv5fmq8/DpAaCJseHrtQkB/+zpwzoxKQM3MzMzMeFJAZmZmZmZqWEAAAAAAAFxeQM3MzMzMJmJAmpmZmZkfZUBmZmZmZhhoQDMzMzMzEWtAAAAAAAAKbkBmZmZmZoFwQM3MzMzM/XFAMzMzMzN6c0CamZmZmfZ0QAAAAAAAc3ZAZmZmZmbvd0DNzMzMzGt5QDMzMzMz6HpAmpmZmZlkfEAAAAAAAOF9QGZmZmZmXX9AZmZmZuZsgECamZmZGSuBQM3MzMxM6YFAAAAAAICngkAzMzMzs2WDQGZmZmbmI4RAmpmZmRnihEDNzMzMTKCFQAAAAACAXoZAMzMzM7Mch0BmZmZm5tqHQJqZmZkZmYhAzczMzExXiUAAAAAAgBWKQDMzMzOz04pAZmZmZuaRi0CamZmZGVCMQM3MzMxMDo1AAAAAAIDMjUAzMzMzs4qOQGZmZmbmSI9A\",\"dtype\":\"float64\",\"shape\":[75]}},\"selected\":{\"id\":\"2e826721-dc16-4745-8e86-935a77ad8e2d\",\"type\":\"Selection\"},\"selection_policy\":{\"id\":\"c1f95d80-2533-4613-89c8-c8aacab59bcb\",\"type\":\"UnionRenderers\"}},\"id\":\"7110576c-67f5-47be-bcb0-9d8ff20fc934\",\"type\":\"ColumnDataSource\"},{\"attributes\":{},\"id\":\"54c414fe-2c08-43da-a8a6-2079dd2e4f06\",\"type\":\"Selection\"},{\"attributes\":{},\"id\":\"e03a076d-47c7-40d3-9b7e-106f2e7f9e6c\",\"type\":\"UnionRenderers\"},{\"attributes\":{\"items\":[{\"id\":\"e8dcbb81-0e53-4da6-bed1-3dd179693e0e\",\"type\":\"LegendItem\"},{\"id\":\"c2aac133-764e-422e-820c-cc15ef910b94\",\"type\":\"LegendItem\"}],\"label_text_font_size\":{\"value\":\"8pt\"},\"location\":\"top_center\",\"orientation\":\"horizontal\",\"plot\":{\"id\":\"675d2d16-cab2-48ad-9517-f2c59a24f084\",\"subtype\":\"Figure\",\"type\":\"Plot\"}},\"id\":\"798b5803-d82a-47e1-831c-5d751c3a61ed\",\"type\":\"Legend\"},{\"attributes\":{\"data_source\":{\"id\":\"bce6af5f-2836-43b0-adc9-a39cb38f0eae\",\"type\":\"ColumnDataSource\"},\"glyph\":{\"id\":\"e97a8936-0639-4e5f-a2d2-aab6c62961e8\",\"type\":\"Circle\"},\"hover_glyph\":null,\"muted_glyph\":null,\"nonselection_glyph\":{\"id\":\"edfd4084-fbaf-4475-a2f3-0f90a71808ba\",\"type\":\"Circle\"},\"selection_glyph\":null,\"view\":{\"id\":\"58e9653c-efec-4be3-bdba-35d829365e4f\",\"type\":\"CDSView\"}},\"id\":\"1ef7ea55-6bc2-43f1-943e-ff5658229bb6\",\"type\":\"GlyphRenderer\"},{\"attributes\":{\"axis_label\":\"pressure [mb]\",\"formatter\":{\"id\":\"94dad0bd-bd66-45fd-9fac-d2a5c2204767\",\"type\":\"LogTickFormatter\"},\"plot\":{\"id\":\"675d2d16-cab2-48ad-9517-f2c59a24f084\",\"subtype\":\"Figure\",\"type\":\"Plot\"},\"ticker\":{\"id\":\"3b3db6c8-9455-447a-b9e7-15a96a9be349\",\"type\":\"LogTicker\"}},\"id\":\"f6bdf533-9fdd-404e-b392-86e79f349da0\",\"type\":\"LogAxis\"},{\"attributes\":{\"callback\":null,\"end\":0.01,\"start\":1020},\"id\":\"6b33f301-8d6a-4550-a2e3-ebb0bb337459\",\"type\":\"Range1d\"},{\"attributes\":{},\"id\":\"d06c122d-4dca-4b5b-a30a-21e696e059ec\",\"type\":\"BasicTicker\"},{\"attributes\":{\"line_alpha\":0.8,\"line_color\":\"#984ea3\",\"line_width\":1.5,\"x\":{\"field\":\"x\"},\"y\":{\"field\":\"y\"}},\"id\":\"3191b001-72d3-4655-8483-0d7d95cf3797\",\"type\":\"Line\"},{\"attributes\":{\"active_drag\":\"auto\",\"active_inspect\":\"auto\",\"active_scroll\":\"auto\",\"active_tap\":\"auto\",\"tools\":[{\"id\":\"76cffa7a-7a68-45f2-a8de-6fbd77127db3\",\"type\":\"PanTool\"},{\"id\":\"b4c8e958-9745-4550-a756-dc6de98c59d0\",\"type\":\"WheelZoomTool\"},{\"id\":\"38143ab5-269f-4b8a-a7e8-67c2bad3c094\",\"type\":\"BoxZoomTool\"},{\"id\":\"a7f322b6-4429-4f6d-9687-437365a34c1b\",\"type\":\"SaveTool\"},{\"id\":\"96700417-9a76-481e-adfd-10e9d11467e5\",\"type\":\"ResetTool\"},{\"id\":\"39f0fbd6-9045-4744-807e-c57d26eb774d\",\"type\":\"HelpTool\"}]},\"id\":\"355aac2c-258b-4229-9ef0-735ae9641e26\",\"type\":\"Toolbar\"},{\"attributes\":{},\"id\":\"e5630c90-990f-4b71-a7e4-40419dc721a6\",\"type\":\"Selection\"},{\"attributes\":{},\"id\":\"39f0fbd6-9045-4744-807e-c57d26eb774d\",\"type\":\"HelpTool\"},{\"attributes\":{},\"id\":\"b69731d2-fb11-4d2e-b668-03975e7e6938\",\"type\":\"Selection\"},{\"attributes\":{\"bottom_units\":\"screen\",\"fill_alpha\":{\"value\":0.5},\"fill_color\":{\"value\":\"lightgrey\"},\"left_units\":\"screen\",\"level\":\"overlay\",\"line_alpha\":{\"value\":1.0},\"line_color\":{\"value\":\"black\"},\"line_dash\":[4,4],\"line_width\":{\"value\":2},\"plot\":null,\"render_mode\":\"css\",\"right_units\":\"screen\",\"top_units\":\"screen\"},\"id\":\"6ff35f67-b78b-4998-a320-618624030ee9\",\"type\":\"BoxAnnotation\"},{\"attributes\":{},\"id\":\"2a241b0a-4a16-4e0b-a4dc-3cd61419d685\",\"type\":\"LogScale\"},{\"attributes\":{\"line_alpha\":0.1,\"line_color\":\"#1f77b4\",\"line_width\":1.5,\"x\":{\"field\":\"x\"},\"y\":{\"field\":\"y\"}},\"id\":\"5afc9f27-7bd0-4950-beea-78130b1301f3\",\"type\":\"Line\"},{\"attributes\":{},\"id\":\"9271b23f-6575-40ea-ad22-33d1624bf68a\",\"type\":\"Selection\"},{\"attributes\":{},\"id\":\"96700417-9a76-481e-adfd-10e9d11467e5\",\"type\":\"ResetTool\"},{\"attributes\":{},\"id\":\"7c5cae87-7583-475b-833b-98bbc19ad487\",\"type\":\"HelpTool\"},{\"attributes\":{\"line_alpha\":0.1,\"line_color\":\"#1f77b4\",\"line_dash\":[6],\"line_width\":5,\"x\":{\"field\":\"x\"},\"y\":{\"field\":\"y\"}},\"id\":\"2324a5bc-52ee-4e37-832a-660ff5f82396\",\"type\":\"Line\"},{\"attributes\":{\"ticker\":null},\"id\":\"94dad0bd-bd66-45fd-9fac-d2a5c2204767\",\"type\":\"LogTickFormatter\"},{\"attributes\":{},\"id\":\"dadb6762-0831-4909-a821-df535000d65a\",\"type\":\"WheelZoomTool\"},{\"attributes\":{},\"id\":\"efcc44a9-6640-4c5c-b92d-70178c8ea6b3\",\"type\":\"Selection\"},{\"attributes\":{},\"id\":\"055500f7-5208-4320-b2f4-b2d2a05e59f2\",\"type\":\"UnionRenderers\"},{\"attributes\":{\"overlay\":{\"id\":\"b1bde6dc-529f-4f2b-b332-252f83ca710e\",\"type\":\"BoxAnnotation\"}},\"id\":\"38143ab5-269f-4b8a-a7e8-67c2bad3c094\",\"type\":\"BoxZoomTool\"},{\"attributes\":{\"source\":{\"id\":\"46a7602c-2037-41c8-bbff-bfc22dc5410e\",\"type\":\"ColumnDataSource\"}},\"id\":\"9d10d6cb-7f35-4269-81f8-7c52edbee586\",\"type\":\"CDSView\"},{\"attributes\":{},\"id\":\"f7246303-f3d5-49f6-b4f6-5afe6bc6750f\",\"type\":\"BasicTickFormatter\"},{\"attributes\":{},\"id\":\"ede3ba56-96a8-43d7-997b-8b6b6e2e07f5\",\"type\":\"ResetTool\"},{\"attributes\":{},\"id\":\"64fe0ddb-2ece-4b0d-aa8d-ecdc13cf3750\",\"type\":\"LinearScale\"},{\"attributes\":{},\"id\":\"1d1f2a2e-5afe-481f-a134-056616512d65\",\"type\":\"UnionRenderers\"},{\"attributes\":{\"overlay\":{\"id\":\"adf459e3-792f-4e73-8525-59dc8595d741\",\"type\":\"BoxAnnotation\"}},\"id\":\"72f3223a-778d-461e-b8be-5b0f84aabe4b\",\"type\":\"BoxZoomTool\"},{\"attributes\":{\"callback\":null,\"data\":{\"x\":{\"__ndarray__\":\"cm1sTMT3VEDEyvjosEJHQOKI6DjzCUNArgQWV9awPkB9Lm8XG3M4QEz+Qv6iYzNA7eV8HaPLLkCX1QHyTpMoQFBmYSYetiNAUB04GtGpH0AmFyVE5j8ZQJca9QPGqBNALJP+OOHHDEBNxaf7QF8AQKtislomWuw/cW2dcO6A9T/uJJvfPu0EQIaQLTI/JQ1AxGiII+PmEkCJvfVeuCsYQD6ZBhGbHB9AXQw69DTYJEAsubcwKucqQNuT9D5OmipAJyi3szEJJUBlNebh5WkgQDDcPHBr2xlArtlANXuQFEBdJadFHckQQI2Avh0ZsQtAjYiwt1rsBUCL0SDoVBgAQK6C0nEEjvc/CggLSme58T9sXU2orFPnP0v0JYz9Gdg/vT38vxYczD9nBQTe6kHHP1IhkEXJwKo/8OZnhCVAub+xtVgCpmqzP6DUpY6g0+k/PKK3T1h4+D8RTDjQc1EAQG/dAQs7TwJAQt2eHpPLAEBWEh074x//PyCap9ZSGf4/rEzaTySm/T+7aXhHRmr9P688KeqeNP0/ruZ4EemD/D8olrZcn9T7P0+vNc9hW/s/i9VVL+4P+z+0NzC24uz6P8731Kza8vo/xFf4SHzq+z+gYyHpvHb8P68ROkiFevw/BAjYdCga/D8AUp8VbW77P3JrF/nKmvo/qCQeGfq++T/dplwHJfn4P2G4p+Uva/g/OzZ0RqMZ+D8dmn/iar73P/OuA7Ka8PY/gaaeQHGn9T9hkyjAH1L0P3aZGhdAU/M/n8VP/g7P8j+90HxHNvfyPwhNBtgrqvk/\",\"dtype\":\"float64\",\"shape\":[75]},\"y\":{\"__ndarray__\":\"GhExyth1ND/Sv8nbtpRIP2vylNV0PVE/aTum7souWD/At0SJ8fVgPw3Iuahxymc/MSNhhJWvcD/bTfBN02d3P2zb5nxnaoA/CD5h5MAGhz8NmeH1TyaQP+zrCsc9p5Y/LbKd76fGnz/bLW5ISEmmPww9YvTcQq8/JV2OstnstT8Er5Y7M8G+P0c+r3jqkcU/5h99k6ZBzj88bCIzFzjVP4enV8oyxN0//yH99nXg5D8qOpLLf0jtP5kqGJXUifQ/c9cS8kHP/D+/DpwzojQEQIEmwoanVwxA4lgXt9HgE0BSSZ2AJuIbQAMJih9jjiNA5q4l5INuK0AwTKYKRj0zQNv5fmq8/DpAaCJseHrtQkB/+zpwzoxKQM3MzMzMeFJAZmZmZmZqWEAAAAAAAFxeQM3MzMzMJmJAmpmZmZkfZUBmZmZmZhhoQDMzMzMzEWtAAAAAAAAKbkBmZmZmZoFwQM3MzMzM/XFAMzMzMzN6c0CamZmZmfZ0QAAAAAAAc3ZAZmZmZmbvd0DNzMzMzGt5QDMzMzMz6HpAmpmZmZlkfEAAAAAAAOF9QGZmZmZmXX9AZmZmZuZsgECamZmZGSuBQM3MzMxM6YFAAAAAAICngkAzMzMzs2WDQGZmZmbmI4RAmpmZmRnihEDNzMzMTKCFQAAAAACAXoZAMzMzM7Mch0BmZmZm5tqHQJqZmZkZmYhAzczMzExXiUAAAAAAgBWKQDMzMzOz04pAZmZmZuaRi0CamZmZGVCMQM3MzMxMDo1AAAAAAIDMjUAzMzMzs4qOQGZmZmbmSI9A\",\"dtype\":\"float64\",\"shape\":[75]}},\"selected\":{\"id\":\"2ff4def9-7ad6-4abd-9b38-79a3115362eb\",\"type\":\"Selection\"},\"selection_policy\":{\"id\":\"866a2d88-5b01-4fd4-8d92-d91fc4df042b\",\"type\":\"UnionRenderers\"}},\"id\":\"46a7602c-2037-41c8-bbff-bfc22dc5410e\",\"type\":\"ColumnDataSource\"},{\"attributes\":{},\"id\":\"41984d7f-c1fd-40b1-a88d-1548b684adce\",\"type\":\"BasicTickFormatter\"},{\"attributes\":{\"toolbar\":{\"id\":\"40ef0566-81c4-497b-b55f-e0d0bbbbcc3c\",\"type\":\"ProxyToolbar\"},\"toolbar_location\":\"above\"},\"id\":\"e7bea905-72b3-4c4a-9156-9d032c51a938\",\"type\":\"ToolbarBox\"},{\"attributes\":{},\"id\":\"6c140eb6-0a23-431b-9d32-4c5fca6bab07\",\"type\":\"BasicTicker\"},{\"attributes\":{\"plot\":null,\"text\":\"\"},\"id\":\"2e848f8e-d446-4eae-a443-9c079e75ba57\",\"type\":\"Title\"},{\"attributes\":{\"fill_alpha\":{\"value\":0.7},\"fill_color\":{\"value\":\"#4daf4a\"},\"line_alpha\":{\"value\":0.7},\"line_color\":{\"value\":\"#4daf4a\"},\"x\":{\"field\":\"x\"},\"y\":{\"field\":\"y\"}},\"id\":\"e97a8936-0639-4e5f-a2d2-aab6c62961e8\",\"type\":\"Circle\"},{\"attributes\":{\"callback\":null,\"data\":{\"x\":{\"__ndarray__\":\"NOdvazPZRUDc8yShiBhDQKFQzRs25EFAIvT/6ro/QEAeRoCoy0E8QLZUhVbiPjdAZ7gXuVjrMUC8VTzMVOkpQF4/NuWhHiJA8BYaY0U8GkDNGg3QNeYUQAnkw/F3vxFAqRTOLJ9fDUDsrqLZeqkDQJdu+q2NIPY/7iB8GpvD+j/n0SM5LlYFQGooM1yJPQtANXh0Js3+EEAEnLgHDD4WQDnt6GrDLh5Ax7WIfFz0JEB+qL1p0fMqQDwXTBZJLCpAa0Hv1oCIJEAK2kvbM4wgQFYl+hDx/htAnjQ3jNOqFkApWEuc39gRQI9OPP5/YQ1A/SZ6kkGqCUCYtZxizn8EQGh3jDAZm/0/Dbjzub429T+MdA8rDQXwP5MPcA72YeY/6Tv+mreV3T/ey51xZbTVP45R4y85CcU/uHrhZxsJgr9XfVqOi1LFPznA7pYpd+0/IG5ZOx6h+j8wU8dODO8BQBcCko+qCwRAhjH50Ta9JkBxfDnfy/8gQHfqTMSUVfE/f1gp2wT6IEAluOdp3zTrP0r+QvggCSlAGmRyOi67LcDquYJ+q7PZvxJhXxaKYMq/3XjWmyaLsb9an57xl7OnP6OSTuUz58I/H2l4z3T0zj8+od/zB3TUP4UDfFtS7Ng/bBCtp6sa3T8/rjPchYjgPxJpezrueuI/vICJyg665D/aRPf+13jnPzkn8PJfHew/1KOhLYR8K0AtjOowA1YCQHutU0c4fcM/VabNdXAZ3r9uPvnk9gWivzrk2qBTCLI/nHdr+8hdwz8+pWrGoHbPPytZcVH9OOc/\",\"dtype\":\"float64\",\"shape\":[75]},\"y\":{\"__ndarray__\":\"GhExyth1ND/Sv8nbtpRIP2vylNV0PVE/aTum7souWD/At0SJ8fVgPw3Iuahxymc/MSNhhJWvcD/bTfBN02d3P2zb5nxnaoA/CD5h5MAGhz8NmeH1TyaQP+zrCsc9p5Y/LbKd76fGnz/bLW5ISEmmPww9YvTcQq8/JV2OstnstT8Er5Y7M8G+P0c+r3jqkcU/5h99k6ZBzj88bCIzFzjVP4enV8oyxN0//yH99nXg5D8qOpLLf0jtP5kqGJXUifQ/c9cS8kHP/D+/DpwzojQEQIEmwoanVwxA4lgXt9HgE0BSSZ2AJuIbQAMJih9jjiNA5q4l5INuK0AwTKYKRj0zQNv5fmq8/DpAaCJseHrtQkB/+zpwzoxKQM3MzMzMeFJAZmZmZmZqWEAAAAAAAFxeQM3MzMzMJmJAmpmZmZkfZUBmZmZmZhhoQDMzMzMzEWtAAAAAAAAKbkBmZmZmZoFwQM3MzMzM/XFAMzMzMzN6c0CamZmZmfZ0QAAAAAAAc3ZAZmZmZmbvd0DNzMzMzGt5QDMzMzMz6HpAmpmZmZlkfEAAAAAAAOF9QGZmZmZmXX9AZmZmZuZsgECamZmZGSuBQM3MzMxM6YFAAAAAAICngkAzMzMzs2WDQGZmZmbmI4RAmpmZmRnihEDNzMzMTKCFQAAAAACAXoZAMzMzM7Mch0BmZmZm5tqHQJqZmZkZmYhAzczMzExXiUAAAAAAgBWKQDMzMzOz04pAZmZmZuaRi0CamZmZGVCMQM3MzMxMDo1AAAAAAIDMjUAzMzMzs4qOQGZmZmbmSI9A\",\"dtype\":\"float64\",\"shape\":[75]}},\"selected\":{\"id\":\"b69731d2-fb11-4d2e-b668-03975e7e6938\",\"type\":\"Selection\"},\"selection_policy\":{\"id\":\"8639b7b3-9aef-4272-be90-74725ac6fcc0\",\"type\":\"UnionRenderers\"}},\"id\":\"3447ac35-67c3-4f66-a731-7230d54b283d\",\"type\":\"ColumnDataSource\"},{\"attributes\":{},\"id\":\"2ff4def9-7ad6-4abd-9b38-79a3115362eb\",\"type\":\"Selection\"},{\"attributes\":{},\"id\":\"2e826721-dc16-4745-8e86-935a77ad8e2d\",\"type\":\"Selection\"},{\"attributes\":{\"plot\":{\"id\":\"675d2d16-cab2-48ad-9517-f2c59a24f084\",\"subtype\":\"Figure\",\"type\":\"Plot\"},\"ticker\":{\"id\":\"5f1cb6df-6987-47c4-84d6-1585f49265ff\",\"type\":\"BasicTicker\"}},\"id\":\"e7a3e30b-1276-4dce-bb45-5e8a754ca846\",\"type\":\"Grid\"},{\"attributes\":{\"children\":[{\"id\":\"e7bea905-72b3-4c4a-9156-9d032c51a938\",\"type\":\"ToolbarBox\"},{\"id\":\"74e72a5a-b235-4f37-be73-dab7be79faca\",\"type\":\"Column\"}]},\"id\":\"39fb7645-09a5-455a-902c-7fd458782178\",\"type\":\"Column\"},{\"attributes\":{},\"id\":\"6f0b8656-6042-4619-a498-85fa40c47b6d\",\"type\":\"Selection\"},{\"attributes\":{},\"id\":\"f8bf3cd6-6d83-461d-b3b6-4cc7181ae472\",\"type\":\"UnionRenderers\"},{\"attributes\":{},\"id\":\"b4c8e958-9745-4550-a756-dc6de98c59d0\",\"type\":\"WheelZoomTool\"},{\"attributes\":{\"source\":{\"id\":\"49f06e0f-32a8-490d-a09e-6799573df53b\",\"type\":\"ColumnDataSource\"}},\"id\":\"7b54a1ae-d656-4e3d-a62b-649f5bd6527a\",\"type\":\"CDSView\"},{\"attributes\":{},\"id\":\"bb428ae3-4eff-4b6b-b999-29544ac66b94\",\"type\":\"HelpTool\"},{\"attributes\":{\"data_source\":{\"id\":\"49f06e0f-32a8-490d-a09e-6799573df53b\",\"type\":\"ColumnDataSource\"},\"glyph\":{\"id\":\"b82edfee-28ab-4f3d-a2b0-84a36ffc8aa3\",\"type\":\"Circle\"},\"hover_glyph\":null,\"muted_glyph\":null,\"nonselection_glyph\":{\"id\":\"aa2e26d4-bf63-4a8f-9bce-dc7173f73589\",\"type\":\"Circle\"},\"selection_glyph\":null,\"view\":{\"id\":\"7b54a1ae-d656-4e3d-a62b-649f5bd6527a\",\"type\":\"CDSView\"}},\"id\":\"353c47f7-b86a-4a1d-890e-f2e114954b98\",\"type\":\"GlyphRenderer\"},{\"attributes\":{\"fill_alpha\":{\"value\":0.1},\"fill_color\":{\"value\":\"#1f77b4\"},\"line_alpha\":{\"value\":0.1},\"line_color\":{\"value\":\"#1f77b4\"},\"x\":{\"field\":\"x\"},\"y\":{\"field\":\"y\"}},\"id\":\"edfd4084-fbaf-4475-a2f3-0f90a71808ba\",\"type\":\"Circle\"},{\"attributes\":{},\"id\":\"0abb015e-194e-4160-86bb-04bbf8ceabf0\",\"type\":\"UnionRenderers\"},{\"attributes\":{},\"id\":\"5eac8063-7e43-4e02-94ae-23b0dc1942a3\",\"type\":\"Selection\"},{\"attributes\":{\"fill_alpha\":{\"value\":0.1},\"fill_color\":{\"value\":\"#1f77b4\"},\"line_alpha\":{\"value\":0.1},\"line_color\":{\"value\":\"#1f77b4\"},\"x\":{\"field\":\"x\"},\"y\":{\"field\":\"y\"}},\"id\":\"e575663c-2080-4557-a4ac-28c367857f30\",\"type\":\"Square\"},{\"attributes\":{\"active_drag\":\"auto\",\"active_inspect\":\"auto\",\"active_scroll\":\"auto\",\"active_tap\":\"auto\",\"tools\":[{\"id\":\"79f6c380-a8f6-4680-97d5-676714491fb1\",\"type\":\"PanTool\"},{\"id\":\"dadb6762-0831-4909-a821-df535000d65a\",\"type\":\"WheelZoomTool\"},{\"id\":\"72f3223a-778d-461e-b8be-5b0f84aabe4b\",\"type\":\"BoxZoomTool\"},{\"id\":\"085605bd-7741-4110-9332-71f4e3bf0b02\",\"type\":\"SaveTool\"},{\"id\":\"ede3ba56-96a8-43d7-997b-8b6b6e2e07f5\",\"type\":\"ResetTool\"},{\"id\":\"7c5cae87-7583-475b-833b-98bbc19ad487\",\"type\":\"HelpTool\"}]},\"id\":\"5d0d0ba2-97cd-45f8-aff6-6fda911457d6\",\"type\":\"Toolbar\"},{\"attributes\":{\"fill_alpha\":{\"value\":0.7},\"fill_color\":{\"value\":\"#984ea3\"},\"line_alpha\":{\"value\":0.7},\"line_color\":{\"value\":\"#984ea3\"},\"x\":{\"field\":\"x\"},\"y\":{\"field\":\"y\"}},\"id\":\"69e07003-1e76-463d-82c9-97a31ee77811\",\"type\":\"Square\"},{\"attributes\":{\"line_alpha\":0.5,\"line_color\":\"#984ea3\",\"line_width\":1.5,\"x\":{\"field\":\"x\"},\"y\":{\"field\":\"y\"}},\"id\":\"5cbed0f9-4ee1-4872-9b2c-f91e15172d18\",\"type\":\"Line\"},{\"attributes\":{\"source\":{\"id\":\"c686aa6c-0bd8-467d-baeb-235a6ed652ee\",\"type\":\"ColumnDataSource\"}},\"id\":\"9f3bf0a4-f3de-4aa3-b125-a9e2eed71e84\",\"type\":\"CDSView\"},{\"attributes\":{\"label\":{\"value\":\"CRD\"},\"renderers\":[{\"id\":\"1ef7ea55-6bc2-43f1-943e-ff5658229bb6\",\"type\":\"GlyphRenderer\"},{\"id\":\"0986aada-6f40-4159-bec1-cec9012c18b9\",\"type\":\"GlyphRenderer\"}]},\"id\":\"e143841e-bc7f-4839-a172-6908686de6d5\",\"type\":\"LegendItem\"},{\"attributes\":{\"axis_label\":\"pressure [mb]\",\"formatter\":{\"id\":\"126cfa25-aa4b-4a0d-84c7-c5d929b512ff\",\"type\":\"LogTickFormatter\"},\"plot\":{\"id\":\"0f716dec-017a-4d71-a227-d61d100ab0b1\",\"subtype\":\"Figure\",\"type\":\"Plot\"},\"ticker\":{\"id\":\"b98a4b4f-dd68-41ab-92c8-4614a24a07b8\",\"type\":\"LogTicker\"}},\"id\":\"3c39f068-e42c-40d2-85cf-c20e171bf90f\",\"type\":\"LogAxis\"},{\"attributes\":{\"axis_label\":\"cooling rate [K/day]\",\"formatter\":{\"id\":\"41984d7f-c1fd-40b1-a88d-1548b684adce\",\"type\":\"BasicTickFormatter\"},\"plot\":{\"id\":\"0f716dec-017a-4d71-a227-d61d100ab0b1\",\"subtype\":\"Figure\",\"type\":\"Plot\"},\"ticker\":{\"id\":\"1f6ef956-db6a-45de-b640-3745d1d53618\",\"type\":\"BasicTicker\"}},\"id\":\"00313f53-fec4-404a-855d-3d90af6a791d\",\"type\":\"LinearAxis\"},{\"attributes\":{},\"id\":\"20dced56-b986-4bff-bb47-b5096755f531\",\"type\":\"LogScale\"},{\"attributes\":{\"callback\":null,\"data\":{\"x\":{\"__ndarray__\":\"zhhdnl3RU0CKgDdE+dxEQP6f5duhdUFAMJBr6ewEQkAADxZQyK45QBmX3ka8EDZAjl8alnlwL0CeYJlYHKIqQJoaoQNWxSJAwL4t7BozIUBMkS56I6AXQBxPe4ld/BRAnMjiKz2HCkCJCgdQ/WcBQKJTvluRvOg/j/JpYJwB9j+fcxKIKREEQOwUvOtLFw1AV0At7oRoEkD5lECKxjYXQAdydNQ0jR1ACbyvRZLfI0CO3MmPRGApQCcUNq4qNylA6VN9h30SJECRnP+HbGofQDQKaukXmhlAteFC/mL9E0CTDffT91MQQEkVAKh1YwtAqFesCIQRBkATatBMXLz/P4fvYPUXo/Y/tDrQnFTK8T/fneFQ7xLnP14aDQuCJtc/5BrOx2LRzT+fE4V0bnvHP3ueIXamhrA/cWaxNtALrr92uqPyMJK3P6q5+U821+g/ckrZjXL49z/TaxRJZAUAQPzVLij27QFAige8XqaCAEAv4Q7keaX+P0VyKG35kv0/XHVqXZRQ/T/+RskYEAv9PwKD1IjB3fw/JBko3yJ2/D//mRCM5iX7P/btQHcr5vo/xTCcdQr9+j+f/V+tjrf6P0Wt2HvLrvo/9IV/x6br+z/bYX40veD8P8+HZwkyUvw/CkxgoI8l/D8QA+bsYB78P2eu9w7DDvw/khNJm3qS+j8vZ0xHVJ75Py0d1shscPk/NKgVKiiK+T/NNtzstIr5P4ps72zyaPc/TlSpuPUj9j9S2qZu6gj1P2XVmdu6VPQ/t/WgjjEZ9D+np734CoH0P1P4Q57qwfo/\",\"dtype\":\"float64\",\"shape\":[75]},\"y\":{\"__ndarray__\":\"hLndy31yND/6fmq8dJNIP8n9DkWBPlE/aDum7souWD/b4a/JGvVgP9f34SAhymc/ZvM4DOavcD+z0M5pFmh3PxuC4zJuaoA/xjcUPlsHhz8uHAjJAiaQP9ieWRKgppY/oI7HDFTGnz+a5h2n6EimPzS6g9iZQq8/IuAQqtTstT9SSZ2AJsK+P4nS3uALk8U/ih9j7lpCzj+ASL99HTjVP4enV8oyxN0/ACL99nXg5D9fmEwVjErtPyUGgZVDi/Q/AiuHFtnO/D9OYhBYOTQEQPHSTWIQWAxA4XoUrkfhE0D8qfHSTeIbQMh2vp8ajyNArkfhehRuK0Bcj8L1KDwzQFyPwvUo/DpAPgrXo3DtQkDNzMzMzIxKQClcj8L1eFJAKVyPwvVoWECamZmZmVleQGZmZmZmJmJAAAAAAAAgZUCamZmZmRloQJqZmZmZEWtAmpmZmZkJbkCamZmZmYFwQGZmZmZm/nFAZmZmZmZ6c0BmZmZmZvZ0QDQzMzMzc3ZAAAAAAADwd0AAAAAAAGx5QAAAAAAA6HpAzMzMzMxkfEDMzMzMzOB9QM3MzMzMXH9AzczMzMxsgEAzMzMzMyuBQDMzMzMz6YFAMzMzMzOngkCamZmZmWWDQAAAAAAAJIRAAAAAAADihEAAAAAAAKCFQGZmZmZmXoZAzczMzMwch0DNzMzMzNqHQM3MzMzMmIhAMzMzMzNXiUCamZmZmRWKQAAAAAAA1IpAAAAAAACSi0AAAAAAAFCMQGZmZmZmDo1AzczMzMzMjUDNzMzMzIqOQM3MzMzMSI9A\",\"dtype\":\"float64\",\"shape\":[75]}},\"selected\":{\"id\":\"9271b23f-6575-40ea-ad22-33d1624bf68a\",\"type\":\"Selection\"},\"selection_policy\":{\"id\":\"288864e9-9da3-4274-bdf0-42a4efbdb2f1\",\"type\":\"UnionRenderers\"}},\"id\":\"c686aa6c-0bd8-467d-baeb-235a6ed652ee\",\"type\":\"ColumnDataSource\"},{\"attributes\":{},\"id\":\"1f6ef956-db6a-45de-b640-3745d1d53618\",\"type\":\"BasicTicker\"},{\"attributes\":{\"callback\":null,\"end\":13.6119554909648,\"start\":-0.23438346988480005},\"id\":\"b3ca27d3-a6a9-4f80-9e27-d1b445a91ae9\",\"type\":\"Range1d\"},{\"attributes\":{},\"id\":\"79f6c380-a8f6-4680-97d5-676714491fb1\",\"type\":\"PanTool\"},{\"attributes\":{\"label\":{\"value\":\"CLIRAD (single-run)\"},\"renderers\":[{\"id\":\"18a5f0da-89d0-48e2-a463-bf7c0d681f2b\",\"type\":\"GlyphRenderer\"}]},\"id\":\"e2947faf-bd8e-4fc9-976f-e74b1bff7d94\",\"type\":\"LegendItem\"},{\"attributes\":{\"label\":{\"value\":\"old CLIRAD (H2012)\"},\"renderers\":[{\"id\":\"318d5c3e-5c29-4f13-8299-3345efafaa65\",\"type\":\"GlyphRenderer\"},{\"id\":\"1f926f8e-6a1a-4e6f-a03a-ebfa6171ddf3\",\"type\":\"GlyphRenderer\"}]},\"id\":\"e38ba01d-a848-4571-b0cb-9c162df18705\",\"type\":\"LegendItem\"},{\"attributes\":{\"above\":[{\"id\":\"798b5803-d82a-47e1-831c-5d751c3a61ed\",\"type\":\"Legend\"}],\"below\":[{\"id\":\"4242a7b7-4402-4bba-a77a-e3bffb7b5ba7\",\"type\":\"LinearAxis\"}],\"left\":[{\"id\":\"f6bdf533-9fdd-404e-b392-86e79f349da0\",\"type\":\"LogAxis\"}],\"plot_width\":300,\"renderers\":[{\"id\":\"4242a7b7-4402-4bba-a77a-e3bffb7b5ba7\",\"type\":\"LinearAxis\"},{\"id\":\"e7a3e30b-1276-4dce-bb45-5e8a754ca846\",\"type\":\"Grid\"},{\"id\":\"f6bdf533-9fdd-404e-b392-86e79f349da0\",\"type\":\"LogAxis\"},{\"id\":\"45b8915c-b3d7-4e29-8766-c7d426b48f8c\",\"type\":\"Grid\"},{\"id\":\"b1bde6dc-529f-4f2b-b332-252f83ca710e\",\"type\":\"BoxAnnotation\"},{\"id\":\"353c47f7-b86a-4a1d-890e-f2e114954b98\",\"type\":\"GlyphRenderer\"},{\"id\":\"687ab58b-39f1-4a5b-9cdc-3532adb925c4\",\"type\":\"GlyphRenderer\"},{\"id\":\"9f5c3b39-d47e-47bc-8104-913d8e149d21\",\"type\":\"GlyphRenderer\"},{\"id\":\"798b5803-d82a-47e1-831c-5d751c3a61ed\",\"type\":\"Legend\"}],\"title\":{\"id\":\"923e2056-5de4-40eb-9026-b88dd3d32796\",\"type\":\"Title\"},\"toolbar\":{\"id\":\"355aac2c-258b-4229-9ef0-735ae9641e26\",\"type\":\"Toolbar\"},\"toolbar_location\":null,\"x_range\":{\"id\":\"a167fd83-2689-41ea-a4d5-9d2ba4316c72\",\"type\":\"Range1d\"},\"x_scale\":{\"id\":\"64fe0ddb-2ece-4b0d-aa8d-ecdc13cf3750\",\"type\":\"LinearScale\"},\"y_range\":{\"id\":\"ccb13ace-6e1d-46a9-91c4-193cf06ecc8c\",\"type\":\"Range1d\"},\"y_scale\":{\"id\":\"2a241b0a-4a16-4e0b-a4dc-3cd61419d685\",\"type\":\"LogScale\"}},\"id\":\"675d2d16-cab2-48ad-9517-f2c59a24f084\",\"subtype\":\"Figure\",\"type\":\"Plot\"},{\"attributes\":{\"source\":{\"id\":\"931d931a-3195-46ed-9b51-05fdd2456452\",\"type\":\"ColumnDataSource\"}},\"id\":\"1c73bb13-a119-48bb-a34d-a0b247ff4315\",\"type\":\"CDSView\"},{\"attributes\":{\"callback\":null,\"data\":{\"x\":{\"__ndarray__\":\"cm1sTMT3VEDEyvjosEJHQOKI6DjzCUNArgQWV9awPkB9Lm8XG3M4QEz+Qv6iYzNA7eV8HaPLLkCX1QHyTpMoQFBmYSYetiNAUB04GtGpH0AmFyVE5j8ZQJca9QPGqBNALJP+OOHHDEBNxaf7QF8AQKtislomWuw/cW2dcO6A9T/uJJvfPu0EQIaQLTI/JQ1AxGiII+PmEkCJvfVeuCsYQD6ZBhGbHB9AXQw69DTYJEAsubcwKucqQNuT9D5OmipAJyi3szEJJUBlNebh5WkgQDDcPHBr2xlArtlANXuQFEBdJadFHckQQI2Avh0ZsQtAjYiwt1rsBUCL0SDoVBgAQK6C0nEEjvc/CggLSme58T9sXU2orFPnP0v0JYz9Gdg/vT38vxYczD9nBQTe6kHHP1IhkEXJwKo/8OZnhCVAub+xtVgCpmqzP6DUpY6g0+k/PKK3T1h4+D8RTDjQc1EAQG/dAQs7TwJAQt2eHpPLAEBWEh074x//PyCap9ZSGf4/rEzaTySm/T+7aXhHRmr9P688KeqeNP0/ruZ4EemD/D8olrZcn9T7P0+vNc9hW/s/i9VVL+4P+z+0NzC24uz6P8731Kza8vo/xFf4SHzq+z+gYyHpvHb8P68ROkiFevw/BAjYdCga/D8AUp8VbW77P3JrF/nKmvo/qCQeGfq++T/dplwHJfn4P2G4p+Uva/g/OzZ0RqMZ+D8dmn/iar73P/OuA7Ka8PY/gaaeQHGn9T9hkyjAH1L0P3aZGhdAU/M/n8VP/g7P8j+90HxHNvfyPwhNBtgrqvk/\",\"dtype\":\"float64\",\"shape\":[75]},\"y\":{\"__ndarray__\":\"GhExyth1ND/Sv8nbtpRIP2vylNV0PVE/aTum7souWD/At0SJ8fVgPw3Iuahxymc/MSNhhJWvcD/bTfBN02d3P2zb5nxnaoA/CD5h5MAGhz8NmeH1TyaQP+zrCsc9p5Y/LbKd76fGnz/bLW5ISEmmPww9YvTcQq8/JV2OstnstT8Er5Y7M8G+P0c+r3jqkcU/5h99k6ZBzj88bCIzFzjVP4enV8oyxN0//yH99nXg5D8qOpLLf0jtP5kqGJXUifQ/c9cS8kHP/D+/DpwzojQEQIEmwoanVwxA4lgXt9HgE0BSSZ2AJuIbQAMJih9jjiNA5q4l5INuK0AwTKYKRj0zQNv5fmq8/DpAaCJseHrtQkB/+zpwzoxKQM3MzMzMeFJAZmZmZmZqWEAAAAAAAFxeQM3MzMzMJmJAmpmZmZkfZUBmZmZmZhhoQDMzMzMzEWtAAAAAAAAKbkBmZmZmZoFwQM3MzMzM/XFAMzMzMzN6c0CamZmZmfZ0QAAAAAAAc3ZAZmZmZmbvd0DNzMzMzGt5QDMzMzMz6HpAmpmZmZlkfEAAAAAAAOF9QGZmZmZmXX9AZmZmZuZsgECamZmZGSuBQM3MzMxM6YFAAAAAAICngkAzMzMzs2WDQGZmZmbmI4RAmpmZmRnihEDNzMzMTKCFQAAAAACAXoZAMzMzM7Mch0BmZmZm5tqHQJqZmZkZmYhAzczMzExXiUAAAAAAgBWKQDMzMzOz04pAZmZmZuaRi0CamZmZGVCMQM3MzMxMDo1AAAAAAIDMjUAzMzMzs4qOQGZmZmbmSI9A\",\"dtype\":\"float64\",\"shape\":[75]}},\"selected\":{\"id\":\"b1598efb-0683-4fa4-ada4-e9b0bfb05b68\",\"type\":\"Selection\"},\"selection_policy\":{\"id\":\"0abb015e-194e-4160-86bb-04bbf8ceabf0\",\"type\":\"UnionRenderers\"}},\"id\":\"a9c29332-901a-476e-ba09-03cba712e37a\",\"type\":\"ColumnDataSource\"},{\"attributes\":{\"num_minor_ticks\":10},\"id\":\"b98a4b4f-dd68-41ab-92c8-4614a24a07b8\",\"type\":\"LogTicker\"},{\"attributes\":{\"plot\":{\"id\":\"0f716dec-017a-4d71-a227-d61d100ab0b1\",\"subtype\":\"Figure\",\"type\":\"Plot\"},\"ticker\":{\"id\":\"1f6ef956-db6a-45de-b640-3745d1d53618\",\"type\":\"BasicTicker\"}},\"id\":\"8d7a168a-64f0-4cd3-abed-2da0ab9793b2\",\"type\":\"Grid\"},{\"attributes\":{},\"id\":\"98c08d9a-131c-4806-b531-c0845a95e80e\",\"type\":\"LinearScale\"},{\"attributes\":{\"fill_alpha\":{\"value\":0.7},\"fill_color\":{\"value\":\"#4daf4a\"},\"line_alpha\":{\"value\":0.7},\"line_color\":{\"value\":\"#4daf4a\"},\"x\":{\"field\":\"x\"},\"y\":{\"field\":\"y\"}},\"id\":\"97a21d07-5126-4f44-b6ba-132d28733593\",\"type\":\"Circle\"},{\"attributes\":{\"source\":{\"id\":\"3447ac35-67c3-4f66-a731-7230d54b283d\",\"type\":\"ColumnDataSource\"}},\"id\":\"57e85835-ae65-4838-a885-4e92768f19de\",\"type\":\"CDSView\"},{\"attributes\":{\"above\":[{\"id\":\"57112a31-2141-45d4-b233-80ddcb75c3f0\",\"type\":\"Legend\"}],\"below\":[{\"id\":\"00313f53-fec4-404a-855d-3d90af6a791d\",\"type\":\"LinearAxis\"}],\"left\":[{\"id\":\"3c39f068-e42c-40d2-85cf-c20e171bf90f\",\"type\":\"LogAxis\"}],\"plot_width\":300,\"renderers\":[{\"id\":\"00313f53-fec4-404a-855d-3d90af6a791d\",\"type\":\"LinearAxis\"},{\"id\":\"8d7a168a-64f0-4cd3-abed-2da0ab9793b2\",\"type\":\"Grid\"},{\"id\":\"3c39f068-e42c-40d2-85cf-c20e171bf90f\",\"type\":\"LogAxis\"},{\"id\":\"81bf01c9-3d10-43a6-aa72-5b01762443b0\",\"type\":\"Grid\"},{\"id\":\"adf459e3-792f-4e73-8525-59dc8595d741\",\"type\":\"BoxAnnotation\"},{\"id\":\"1276853b-c449-474b-8893-a706b9a6c59a\",\"type\":\"GlyphRenderer\"},{\"id\":\"0073178d-d015-4b65-a539-82d8b02e92b3\",\"type\":\"GlyphRenderer\"},{\"id\":\"9ed161db-74c9-4eea-a6dd-d0fa6420983d\",\"type\":\"GlyphRenderer\"},{\"id\":\"61669b2a-fa92-45b9-885b-dbe2475b09ba\",\"type\":\"GlyphRenderer\"},{\"id\":\"81158dcd-571a-4879-a62f-054bf526f7ce\",\"type\":\"GlyphRenderer\"},{\"id\":\"57112a31-2141-45d4-b233-80ddcb75c3f0\",\"type\":\"Legend\"}],\"title\":{\"id\":\"2e848f8e-d446-4eae-a443-9c079e75ba57\",\"type\":\"Title\"},\"toolbar\":{\"id\":\"5d0d0ba2-97cd-45f8-aff6-6fda911457d6\",\"type\":\"Toolbar\"},\"toolbar_location\":null,\"x_range\":{\"id\":\"b3ca27d3-a6a9-4f80-9e27-d1b445a91ae9\",\"type\":\"Range1d\"},\"x_scale\":{\"id\":\"98c08d9a-131c-4806-b531-c0845a95e80e\",\"type\":\"LinearScale\"},\"y_range\":{\"id\":\"6b33f301-8d6a-4550-a2e3-ebb0bb337459\",\"type\":\"Range1d\"},\"y_scale\":{\"id\":\"20dced56-b986-4bff-bb47-b5096755f531\",\"type\":\"LogScale\"}},\"id\":\"0f716dec-017a-4d71-a227-d61d100ab0b1\",\"subtype\":\"Figure\",\"type\":\"Plot\"},{\"attributes\":{\"data_source\":{\"id\":\"931d931a-3195-46ed-9b51-05fdd2456452\",\"type\":\"ColumnDataSource\"},\"glyph\":{\"id\":\"69e07003-1e76-463d-82c9-97a31ee77811\",\"type\":\"Square\"},\"hover_glyph\":null,\"muted_glyph\":null,\"nonselection_glyph\":{\"id\":\"e575663c-2080-4557-a4ac-28c367857f30\",\"type\":\"Square\"},\"selection_glyph\":null,\"view\":{\"id\":\"1c73bb13-a119-48bb-a34d-a0b247ff4315\",\"type\":\"CDSView\"}},\"id\":\"318d5c3e-5c29-4f13-8299-3345efafaa65\",\"type\":\"GlyphRenderer\"},{\"attributes\":{\"data_source\":{\"id\":\"55e5bcf9-9001-44ea-981e-ab2c1166e6b3\",\"type\":\"ColumnDataSource\"},\"glyph\":{\"id\":\"6750cef5-990a-4ae0-a7f5-7bf3dc8e8bdf\",\"type\":\"Line\"},\"hover_glyph\":null,\"muted_glyph\":null,\"nonselection_glyph\":{\"id\":\"2324a5bc-52ee-4e37-832a-660ff5f82396\",\"type\":\"Line\"},\"selection_glyph\":null,\"view\":{\"id\":\"3f5a72fa-925e-4993-ac41-06380c9ac03b\",\"type\":\"CDSView\"}},\"id\":\"18a5f0da-89d0-48e2-a463-bf7c0d681f2b\",\"type\":\"GlyphRenderer\"},{\"attributes\":{\"dimension\":1,\"plot\":{\"id\":\"0f716dec-017a-4d71-a227-d61d100ab0b1\",\"subtype\":\"Figure\",\"type\":\"Plot\"},\"ticker\":{\"id\":\"b98a4b4f-dd68-41ab-92c8-4614a24a07b8\",\"type\":\"LogTicker\"}},\"id\":\"81bf01c9-3d10-43a6-aa72-5b01762443b0\",\"type\":\"Grid\"},{\"attributes\":{\"line_alpha\":0.1,\"line_color\":\"#1f77b4\",\"line_width\":1.5,\"x\":{\"field\":\"x\"},\"y\":{\"field\":\"y\"}},\"id\":\"a8a8c85f-d321-4fe3-8d07-ff9a077247e3\",\"type\":\"Line\"},{\"attributes\":{\"data_source\":{\"id\":\"c686aa6c-0bd8-467d-baeb-235a6ed652ee\",\"type\":\"ColumnDataSource\"},\"glyph\":{\"id\":\"5cbed0f9-4ee1-4872-9b2c-f91e15172d18\",\"type\":\"Line\"},\"hover_glyph\":null,\"muted_glyph\":null,\"nonselection_glyph\":{\"id\":\"a8a8c85f-d321-4fe3-8d07-ff9a077247e3\",\"type\":\"Line\"},\"selection_glyph\":null,\"view\":{\"id\":\"9f3bf0a4-f3de-4aa3-b125-a9e2eed71e84\",\"type\":\"CDSView\"}},\"id\":\"1f926f8e-6a1a-4e6f-a03a-ebfa6171ddf3\",\"type\":\"GlyphRenderer\"},{\"attributes\":{\"items\":[{\"id\":\"65568c33-0d0c-4bfa-a432-c69333f95e8d\",\"type\":\"LegendItem\"},{\"id\":\"e2f4ee25-422a-4874-b6fb-d074c5e6a444\",\"type\":\"LegendItem\"},{\"id\":\"b086ab0d-9a9f-4882-8a00-a562803d600a\",\"type\":\"LegendItem\"}],\"label_text_font_size\":{\"value\":\"8pt\"},\"location\":\"top_center\",\"orientation\":\"horizontal\",\"plot\":{\"id\":\"0f716dec-017a-4d71-a227-d61d100ab0b1\",\"subtype\":\"Figure\",\"type\":\"Plot\"}},\"id\":\"57112a31-2141-45d4-b233-80ddcb75c3f0\",\"type\":\"Legend\"}],\"root_ids\":[\"39fb7645-09a5-455a-902c-7fd458782178\"]},\"title\":\"Bokeh Application\",\"version\":\"0.12.16\"}};\n",
       "  var render_items = [{\"docid\":\"c5fd4c16-32ed-423f-9e5d-586fbc253e49\",\"elementid\":\"bcf0fa6a-38bf-4172-844b-b3345dcf0ae9\",\"modelid\":\"39fb7645-09a5-455a-902c-7fd458782178\"}];\n",
       "  root.Bokeh.embed.embed_items_notebook(docs_json, render_items);\n",
       "\n",
       "  }\n",
       "  if (root.Bokeh !== undefined) {\n",
       "    embed_document(root);\n",
       "  } else {\n",
       "    var attempts = 0;\n",
       "    var timer = setInterval(function(root) {\n",
       "      if (root.Bokeh !== undefined) {\n",
       "        embed_document(root);\n",
       "        clearInterval(timer);\n",
       "      }\n",
       "      attempts++;\n",
       "      if (attempts > 100) {\n",
       "        console.log(\"Bokeh: ERROR: Unable to run BokehJS code because BokehJS library is missing\")\n",
       "        clearInterval(timer);\n",
       "      }\n",
       "    }, 10, root)\n",
       "  }\n",
       "})(window);"
      ],
      "application/vnd.bokehjs_exec.v0+json": ""
     },
     "metadata": {
      "application/vnd.bokehjs_exec.v0+json": {
       "id": "39fb7645-09a5-455a-902c-7fd458782178"
      }
     },
     "output_type": "display_data"
    },
    {
     "data": {
      "text/markdown": [
       "*FIGURE.* Cooling rates & difference."
      ],
      "text/plain": [
       "<IPython.core.display.Markdown object>"
      ]
     },
     "metadata": {},
     "output_type": "display_data"
    },
    {
     "data": {
      "text/html": [
       "<a id=\"Fluxes._mls.\"></a>"
      ],
      "text/plain": [
       "<IPython.core.display.HTML object>"
      ]
     },
     "metadata": {},
     "output_type": "display_data"
    },
    {
     "data": {
      "text/markdown": [
       "# Fluxes. mls."
      ],
      "text/plain": [
       "<IPython.core.display.Markdown object>"
      ]
     },
     "metadata": {},
     "output_type": "display_data"
    },
    {
     "data": {
      "text/html": [
       "\n",
       "<div class=\"bk-root\">\n",
       "    <div class=\"bk-plotdiv\" id=\"40a9476b-2bcd-481f-b36b-6594e3d52446\"></div>\n",
       "</div>"
      ]
     },
     "metadata": {},
     "output_type": "display_data"
    },
    {
     "data": {
      "application/javascript": [
       "(function(root) {\n",
       "  function embed_document(root) {\n",
       "    \n",
       "  var docs_json = {\"527beebd-929f-4b72-8da5-6c5d71092fad\":{\"roots\":{\"references\":[{\"attributes\":{},\"id\":\"b0c56f4e-3a9d-449f-982e-028f90e77f6e\",\"type\":\"SaveTool\"},{\"attributes\":{\"plot\":{\"id\":\"e2367963-1bcc-4ec1-9e8d-485b348751d8\",\"subtype\":\"Figure\",\"type\":\"Plot\"},\"ticker\":{\"id\":\"43d6454e-0780-424c-88e8-4c5089746ed0\",\"type\":\"CategoricalTicker\"}},\"id\":\"b9203be4-c968-4531-a734-37bc86bcb1d2\",\"type\":\"Grid\"},{\"attributes\":{},\"id\":\"c014bd1b-bc3d-4ee6-a459-b6ba4cb0f6ae\",\"type\":\"CategoricalScale\"},{\"attributes\":{\"fill_color\":{\"value\":\"#1f77b4\"},\"line_color\":{\"value\":\"#1f77b4\"},\"top\":{\"field\":\"flux\"},\"width\":{\"value\":0.9},\"x\":{\"field\":\"band\"}},\"id\":\"8080310e-229c-4098-9301-69b72dc3dd75\",\"type\":\"VBar\"},{\"attributes\":{\"dimension\":1,\"plot\":{\"id\":\"e2367963-1bcc-4ec1-9e8d-485b348751d8\",\"subtype\":\"Figure\",\"type\":\"Plot\"},\"ticker\":{\"id\":\"ca02bd4d-ba7b-4596-8b45-e0448f57f339\",\"type\":\"BasicTicker\"}},\"id\":\"ee5f1668-f759-4833-93f6-ae447cb95996\",\"type\":\"Grid\"},{\"attributes\":{\"dimension\":1,\"plot\":{\"id\":\"a37219b9-ca1d-4fe6-8ab1-ea26425c85a2\",\"subtype\":\"Figure\",\"type\":\"Plot\"},\"ticker\":{\"id\":\"2399aba1-b1fa-47fd-b8fb-d6cde87c2caa\",\"type\":\"BasicTicker\"}},\"id\":\"21b7b51d-3a8e-435e-8868-56d5dc37e219\",\"type\":\"Grid\"},{\"attributes\":{},\"id\":\"cf188747-6d2d-4cce-8fbb-aa972d1257d7\",\"type\":\"SaveTool\"},{\"attributes\":{},\"id\":\"43d6454e-0780-424c-88e8-4c5089746ed0\",\"type\":\"CategoricalTicker\"},{\"attributes\":{},\"id\":\"781dd030-d29a-4d1f-bdba-10626dc3b631\",\"type\":\"ResetTool\"},{\"attributes\":{},\"id\":\"04f1319e-0654-43dc-878c-0a11b4f89664\",\"type\":\"BasicTickFormatter\"},{\"attributes\":{\"axis_label\":\"flux (W m-2)\",\"formatter\":{\"id\":\"649f35cd-4b45-43f3-90ad-89727ef1d91d\",\"type\":\"BasicTickFormatter\"},\"plot\":{\"id\":\"e2367963-1bcc-4ec1-9e8d-485b348751d8\",\"subtype\":\"Figure\",\"type\":\"Plot\"},\"ticker\":{\"id\":\"ca02bd4d-ba7b-4596-8b45-e0448f57f339\",\"type\":\"BasicTicker\"}},\"id\":\"134c9b05-02fe-4440-9065-6a5f1938588a\",\"type\":\"LinearAxis\"},{\"attributes\":{\"bottom_units\":\"screen\",\"fill_alpha\":{\"value\":0.5},\"fill_color\":{\"value\":\"lightgrey\"},\"left_units\":\"screen\",\"level\":\"overlay\",\"line_alpha\":{\"value\":1.0},\"line_color\":{\"value\":\"black\"},\"line_dash\":[4,4],\"line_width\":{\"value\":2},\"plot\":null,\"render_mode\":\"css\",\"right_units\":\"screen\",\"top_units\":\"screen\"},\"id\":\"1d9710f4-8e45-4144-8b03-84945790a17e\",\"type\":\"BoxAnnotation\"},{\"attributes\":{\"data_source\":{\"id\":\"166ca946-8842-4f65-a8ba-4bef75df7c14\",\"type\":\"ColumnDataSource\"},\"glyph\":{\"id\":\"80ed0205-6861-458e-8d76-a28bd1a3c284\",\"type\":\"VBar\"},\"hover_glyph\":null,\"muted_glyph\":null,\"nonselection_glyph\":{\"id\":\"f139c4c0-bbe6-4d4f-a1f3-a8b4379d5cec\",\"type\":\"VBar\"},\"selection_glyph\":null,\"view\":{\"id\":\"d5b21def-6496-41e0-9ecb-95641e5f876d\",\"type\":\"CDSView\"}},\"id\":\"7755f034-d360-47f9-bacf-fad05272941f\",\"type\":\"GlyphRenderer\"},{\"attributes\":{\"active_drag\":\"auto\",\"active_inspect\":\"auto\",\"active_scroll\":\"auto\",\"active_tap\":\"auto\",\"tools\":[{\"id\":\"de57ccab-8b7c-422b-b358-c09b11f2362b\",\"type\":\"PanTool\"},{\"id\":\"15eb8a3c-ffad-4f6f-aec3-b45e040c48c0\",\"type\":\"WheelZoomTool\"},{\"id\":\"c35df071-e141-4106-bef7-a0c9f75958cc\",\"type\":\"BoxZoomTool\"},{\"id\":\"b0c56f4e-3a9d-449f-982e-028f90e77f6e\",\"type\":\"SaveTool\"},{\"id\":\"781dd030-d29a-4d1f-bdba-10626dc3b631\",\"type\":\"ResetTool\"},{\"id\":\"967184a7-f936-479e-a253-c18e8ba447dd\",\"type\":\"HelpTool\"}]},\"id\":\"1b5cc918-124f-48ff-b75f-052bd5f50553\",\"type\":\"Toolbar\"},{\"attributes\":{\"axis_label\":\"spectral band\",\"formatter\":{\"id\":\"c6bb0934-3ec2-48d1-a918-eaf3a983d01a\",\"type\":\"CategoricalTickFormatter\"},\"plot\":{\"id\":\"e2367963-1bcc-4ec1-9e8d-485b348751d8\",\"subtype\":\"Figure\",\"type\":\"Plot\"},\"ticker\":{\"id\":\"43d6454e-0780-424c-88e8-4c5089746ed0\",\"type\":\"CategoricalTicker\"}},\"id\":\"711f8ca4-fb36-48ca-a4e5-857ad22b36b2\",\"type\":\"CategoricalAxis\"},{\"attributes\":{\"callback\":null,\"data\":{\"band\":[\"1\",\"2\",\"3\",\"4\",\"5\",\"6\",\"7\",\"8\",\"9\",\"10\",\"11\"],\"flux\":{\"__ndarray__\":\"wAciizRx4j+Q3nAfuW0jQDhlbr4R7RZA4AfnU8cq4T8+LNSa5lUjQCMVxhaCMkBAgm+aPjuQJ0A4mE2AYSkrQLFjEuRWzxdANEIuJ1cn/T9AvtXft8awPw==\",\"dtype\":\"float64\",\"shape\":[11]}},\"selected\":{\"id\":\"5033c641-0bd2-4d84-bbcf-d351d07e0581\",\"type\":\"Selection\"},\"selection_policy\":{\"id\":\"298cb85b-a70d-4542-af47-3b1524734143\",\"type\":\"UnionRenderers\"}},\"id\":\"b614c496-1010-45fc-970e-cde41282b1a9\",\"type\":\"ColumnDataSource\"},{\"attributes\":{\"callback\":null,\"data\":{\"band\":[\"1\",\"2\",\"3\",\"4\",\"5\",\"6\",\"7\",\"8\",\"9\",\"10\",\"11\"],\"flux\":{\"__ndarray__\":\"wKPHzl9x4j8kWXZ3UxwiQEA7xx3CzhJAgINWN0k53j/QOmV/6inkv3puDRHcNS/AxJlfzQGyIsCgKr3bYbj1v+AZS/1hoAlAOH+XQrXr/D8AZ1U6DnKtPw==\",\"dtype\":\"float64\",\"shape\":[11]}},\"selected\":{\"id\":\"e397477a-bcd0-4e2d-b6c8-44e1b8d86bfd\",\"type\":\"Selection\"},\"selection_policy\":{\"id\":\"7348d7da-b7d2-4ad3-884d-c4421faf9420\",\"type\":\"UnionRenderers\"}},\"id\":\"07edfdd6-4b14-4f37-83a7-76c0de9d18ab\",\"type\":\"ColumnDataSource\"},{\"attributes\":{},\"id\":\"9ed539c8-3f4f-437b-b55f-1190ee13569b\",\"type\":\"LinearScale\"},{\"attributes\":{},\"id\":\"de57ccab-8b7c-422b-b358-c09b11f2362b\",\"type\":\"PanTool\"},{\"attributes\":{},\"id\":\"649f35cd-4b45-43f3-90ad-89727ef1d91d\",\"type\":\"BasicTickFormatter\"},{\"attributes\":{},\"id\":\"2399aba1-b1fa-47fd-b8fb-d6cde87c2caa\",\"type\":\"BasicTicker\"},{\"attributes\":{\"data_source\":{\"id\":\"b614c496-1010-45fc-970e-cde41282b1a9\",\"type\":\"ColumnDataSource\"},\"glyph\":{\"id\":\"8080310e-229c-4098-9301-69b72dc3dd75\",\"type\":\"VBar\"},\"hover_glyph\":null,\"muted_glyph\":null,\"nonselection_glyph\":{\"id\":\"0086e470-23f0-47ae-9209-efb1fa514e58\",\"type\":\"VBar\"},\"selection_glyph\":null,\"view\":{\"id\":\"0361e95c-b324-405a-a795-b5e0c03aaf85\",\"type\":\"CDSView\"}},\"id\":\"dbeb9f56-300c-4761-b3c7-913ae2a00663\",\"type\":\"GlyphRenderer\"},{\"attributes\":{},\"id\":\"ca02bd4d-ba7b-4596-8b45-e0448f57f339\",\"type\":\"BasicTicker\"},{\"attributes\":{},\"id\":\"15eb8a3c-ffad-4f6f-aec3-b45e040c48c0\",\"type\":\"WheelZoomTool\"},{\"attributes\":{},\"id\":\"8ff73f38-9793-46aa-8c10-4a54dd78d341\",\"type\":\"ResetTool\"},{\"attributes\":{\"callback\":null},\"id\":\"74c00da7-6604-4146-9c57-424145c3409d\",\"type\":\"DataRange1d\"},{\"attributes\":{\"fill_color\":{\"value\":\"#1f77b4\"},\"line_color\":{\"value\":\"#1f77b4\"},\"top\":{\"field\":\"flux\"},\"width\":{\"value\":0.9},\"x\":{\"field\":\"band\"}},\"id\":\"80ed0205-6861-458e-8d76-a28bd1a3c284\",\"type\":\"VBar\"},{\"attributes\":{\"below\":[{\"id\":\"711f8ca4-fb36-48ca-a4e5-857ad22b36b2\",\"type\":\"CategoricalAxis\"}],\"left\":[{\"id\":\"134c9b05-02fe-4440-9065-6a5f1938588a\",\"type\":\"LinearAxis\"}],\"plot_height\":300,\"plot_width\":300,\"renderers\":[{\"id\":\"711f8ca4-fb36-48ca-a4e5-857ad22b36b2\",\"type\":\"CategoricalAxis\"},{\"id\":\"b9203be4-c968-4531-a734-37bc86bcb1d2\",\"type\":\"Grid\"},{\"id\":\"134c9b05-02fe-4440-9065-6a5f1938588a\",\"type\":\"LinearAxis\"},{\"id\":\"ee5f1668-f759-4833-93f6-ae447cb95996\",\"type\":\"Grid\"},{\"id\":\"1d9710f4-8e45-4144-8b03-84945790a17e\",\"type\":\"BoxAnnotation\"},{\"id\":\"dbeb9f56-300c-4761-b3c7-913ae2a00663\",\"type\":\"GlyphRenderer\"}],\"title\":{\"id\":\"0dfc995b-3fc6-48b7-9661-62fb91ef54f6\",\"type\":\"Title\"},\"toolbar\":{\"id\":\"1b5cc918-124f-48ff-b75f-052bd5f50553\",\"type\":\"Toolbar\"},\"toolbar_location\":null,\"x_range\":{\"id\":\"7aa8378d-b270-4940-a197-5f60e1875ed4\",\"type\":\"FactorRange\"},\"x_scale\":{\"id\":\"c014bd1b-bc3d-4ee6-a459-b6ba4cb0f6ae\",\"type\":\"CategoricalScale\"},\"y_range\":{\"id\":\"74c00da7-6604-4146-9c57-424145c3409d\",\"type\":\"DataRange1d\"},\"y_scale\":{\"id\":\"9ed539c8-3f4f-437b-b55f-1190ee13569b\",\"type\":\"LinearScale\"}},\"id\":\"e2367963-1bcc-4ec1-9e8d-485b348751d8\",\"subtype\":\"Figure\",\"type\":\"Plot\"},{\"attributes\":{\"axis_label\":\"flux (W m-2)\",\"formatter\":{\"id\":\"04f1319e-0654-43dc-878c-0a11b4f89664\",\"type\":\"BasicTickFormatter\"},\"plot\":{\"id\":\"a37219b9-ca1d-4fe6-8ab1-ea26425c85a2\",\"subtype\":\"Figure\",\"type\":\"Plot\"},\"ticker\":{\"id\":\"2399aba1-b1fa-47fd-b8fb-d6cde87c2caa\",\"type\":\"BasicTicker\"}},\"id\":\"2fb788ae-11db-4a8c-801a-1a6b8bc99739\",\"type\":\"LinearAxis\"},{\"attributes\":{},\"id\":\"967184a7-f936-479e-a253-c18e8ba447dd\",\"type\":\"HelpTool\"},{\"attributes\":{\"below\":[{\"id\":\"d3eb738c-e007-4734-a454-872cd128af0e\",\"type\":\"CategoricalAxis\"}],\"left\":[{\"id\":\"2fb788ae-11db-4a8c-801a-1a6b8bc99739\",\"type\":\"LinearAxis\"}],\"plot_height\":300,\"plot_width\":300,\"renderers\":[{\"id\":\"d3eb738c-e007-4734-a454-872cd128af0e\",\"type\":\"CategoricalAxis\"},{\"id\":\"15fbe188-a9cc-485d-8378-a6d1fd8b096c\",\"type\":\"Grid\"},{\"id\":\"2fb788ae-11db-4a8c-801a-1a6b8bc99739\",\"type\":\"LinearAxis\"},{\"id\":\"21b7b51d-3a8e-435e-8868-56d5dc37e219\",\"type\":\"Grid\"},{\"id\":\"ea8d5554-90fb-4627-81f2-7fb5e30c6954\",\"type\":\"BoxAnnotation\"},{\"id\":\"7755f034-d360-47f9-bacf-fad05272941f\",\"type\":\"GlyphRenderer\"}],\"title\":{\"id\":\"e8490415-f0ee-4cb8-8aba-4a5431f6b5a9\",\"type\":\"Title\"},\"toolbar\":{\"id\":\"0fd896a0-36db-4b5b-aa25-82e6c079b74d\",\"type\":\"Toolbar\"},\"toolbar_location\":null,\"x_range\":{\"id\":\"c560b598-7887-4e24-8932-6cd32c03431d\",\"type\":\"FactorRange\"},\"x_scale\":{\"id\":\"fdf66a03-bb07-4a25-ab61-21c734e73988\",\"type\":\"CategoricalScale\"},\"y_range\":{\"id\":\"1006964b-5529-4b86-90c2-4935fa802f15\",\"type\":\"DataRange1d\"},\"y_scale\":{\"id\":\"80983c27-a98e-479a-9e58-67600b4d2261\",\"type\":\"LinearScale\"}},\"id\":\"a37219b9-ca1d-4fe6-8ab1-ea26425c85a2\",\"subtype\":\"Figure\",\"type\":\"Plot\"},{\"attributes\":{\"plot\":{\"id\":\"a37219b9-ca1d-4fe6-8ab1-ea26425c85a2\",\"subtype\":\"Figure\",\"type\":\"Plot\"},\"ticker\":{\"id\":\"198c11ee-55aa-4762-8b5a-8e4f0c8af729\",\"type\":\"CategoricalTicker\"}},\"id\":\"15fbe188-a9cc-485d-8378-a6d1fd8b096c\",\"type\":\"Grid\"},{\"attributes\":{\"source\":{\"id\":\"b614c496-1010-45fc-970e-cde41282b1a9\",\"type\":\"ColumnDataSource\"}},\"id\":\"0361e95c-b324-405a-a795-b5e0c03aaf85\",\"type\":\"CDSView\"},{\"attributes\":{\"callback\":null,\"factors\":[\"1\",\"2\",\"3\",\"4\",\"5\",\"6\",\"7\",\"8\",\"9\",\"10\",\"11\"]},\"id\":\"7aa8378d-b270-4940-a197-5f60e1875ed4\",\"type\":\"FactorRange\"},{\"attributes\":{\"overlay\":{\"id\":\"1d9710f4-8e45-4144-8b03-84945790a17e\",\"type\":\"BoxAnnotation\"}},\"id\":\"c35df071-e141-4106-bef7-a0c9f75958cc\",\"type\":\"BoxZoomTool\"},{\"attributes\":{},\"id\":\"e9e445b6-8a23-451a-8a3a-e15f5426833e\",\"type\":\"WheelZoomTool\"},{\"attributes\":{\"plot\":null,\"text\":\"TOA flux. CLIRAD (single-run) - CRD.\"},\"id\":\"0dfc995b-3fc6-48b7-9661-62fb91ef54f6\",\"type\":\"Title\"},{\"attributes\":{\"fill_alpha\":{\"value\":0.1},\"fill_color\":{\"value\":\"#1f77b4\"},\"line_alpha\":{\"value\":0.1},\"line_color\":{\"value\":\"#1f77b4\"},\"top\":{\"field\":\"flux\"},\"width\":{\"value\":0.9},\"x\":{\"field\":\"band\"}},\"id\":\"0086e470-23f0-47ae-9209-efb1fa514e58\",\"type\":\"VBar\"},{\"attributes\":{\"source\":{\"id\":\"166ca946-8842-4f65-a8ba-4bef75df7c14\",\"type\":\"ColumnDataSource\"}},\"id\":\"d5b21def-6496-41e0-9ecb-95641e5f876d\",\"type\":\"CDSView\"},{\"attributes\":{},\"id\":\"005e5192-fbcb-40fc-81ae-d4acda6dd6a7\",\"type\":\"PanTool\"},{\"attributes\":{\"fill_alpha\":{\"value\":0.1},\"fill_color\":{\"value\":\"#1f77b4\"},\"line_alpha\":{\"value\":0.1},\"line_color\":{\"value\":\"#1f77b4\"},\"top\":{\"field\":\"flux\"},\"width\":{\"value\":0.9},\"x\":{\"field\":\"band\"}},\"id\":\"f139c4c0-bbe6-4d4f-a1f3-a8b4379d5cec\",\"type\":\"VBar\"},{\"attributes\":{},\"id\":\"8b8115a8-d5dd-4598-9122-cb55dba20a77\",\"type\":\"HelpTool\"},{\"attributes\":{\"bottom_units\":\"screen\",\"fill_alpha\":{\"value\":0.5},\"fill_color\":{\"value\":\"lightgrey\"},\"left_units\":\"screen\",\"level\":\"overlay\",\"line_alpha\":{\"value\":1.0},\"line_color\":{\"value\":\"black\"},\"line_dash\":[4,4],\"line_width\":{\"value\":2},\"plot\":null,\"render_mode\":\"css\",\"right_units\":\"screen\",\"top_units\":\"screen\"},\"id\":\"ea8d5554-90fb-4627-81f2-7fb5e30c6954\",\"type\":\"BoxAnnotation\"},{\"attributes\":{\"plot\":null,\"text\":\"SFC flux. CLIRAD (single-run) - CRD.\"},\"id\":\"e8490415-f0ee-4cb8-8aba-4a5431f6b5a9\",\"type\":\"Title\"},{\"attributes\":{\"callback\":null},\"id\":\"1006964b-5529-4b86-90c2-4935fa802f15\",\"type\":\"DataRange1d\"},{\"attributes\":{\"below\":[{\"id\":\"e7f4e343-8ce4-4b8d-8819-d3260354b680\",\"type\":\"CategoricalAxis\"}],\"left\":[{\"id\":\"891eafd0-69c3-4fa9-a909-6b2260363e5e\",\"type\":\"LinearAxis\"}],\"plot_height\":300,\"plot_width\":300,\"renderers\":[{\"id\":\"e7f4e343-8ce4-4b8d-8819-d3260354b680\",\"type\":\"CategoricalAxis\"},{\"id\":\"2a4c3bb9-1b25-497e-a5f5-3c9ec28fceee\",\"type\":\"Grid\"},{\"id\":\"891eafd0-69c3-4fa9-a909-6b2260363e5e\",\"type\":\"LinearAxis\"},{\"id\":\"7dc5c5fd-f683-4561-8d88-4188c4ddb785\",\"type\":\"Grid\"},{\"id\":\"07c3d24a-a992-420e-9992-402b51c693a3\",\"type\":\"BoxAnnotation\"},{\"id\":\"e1f9cb7b-6e26-4a0c-a5d4-8b3281738b17\",\"type\":\"GlyphRenderer\"}],\"title\":{\"id\":\"5f09a614-956f-403a-8a92-d0cbb628e809\",\"type\":\"Title\"},\"toolbar\":{\"id\":\"d2fabd15-7fa7-4da6-95d0-2c085e9e137a\",\"type\":\"Toolbar\"},\"toolbar_location\":null,\"x_range\":{\"id\":\"1a8fcabc-d843-49b5-bc3d-8d0a608e0786\",\"type\":\"FactorRange\"},\"x_scale\":{\"id\":\"c36e1d4d-9f7c-4eef-b06c-a29d1bf8b814\",\"type\":\"CategoricalScale\"},\"y_range\":{\"id\":\"ef227f29-f4c8-435e-a621-58f9c7cf0fde\",\"type\":\"DataRange1d\"},\"y_scale\":{\"id\":\"b3b2e177-21e0-4636-b939-ba2759e693ae\",\"type\":\"LinearScale\"}},\"id\":\"b560da69-6cf9-4402-9a75-3abcbc5ecebf\",\"subtype\":\"Figure\",\"type\":\"Plot\"},{\"attributes\":{},\"id\":\"80983c27-a98e-479a-9e58-67600b4d2261\",\"type\":\"LinearScale\"},{\"attributes\":{\"overlay\":{\"id\":\"07c3d24a-a992-420e-9992-402b51c693a3\",\"type\":\"BoxAnnotation\"}},\"id\":\"8cd253b2-b6f4-4bc2-88af-c6493355cd6a\",\"type\":\"BoxZoomTool\"},{\"attributes\":{},\"id\":\"f45b130d-06fa-4e54-a367-f8da1ac368ae\",\"type\":\"WheelZoomTool\"},{\"attributes\":{\"active_drag\":\"auto\",\"active_inspect\":\"auto\",\"active_scroll\":\"auto\",\"active_tap\":\"auto\",\"tools\":[{\"id\":\"005e5192-fbcb-40fc-81ae-d4acda6dd6a7\",\"type\":\"PanTool\"},{\"id\":\"e9e445b6-8a23-451a-8a3a-e15f5426833e\",\"type\":\"WheelZoomTool\"},{\"id\":\"ebd1c0b0-7c36-4374-a969-42a4012574ed\",\"type\":\"BoxZoomTool\"},{\"id\":\"cf188747-6d2d-4cce-8fbb-aa972d1257d7\",\"type\":\"SaveTool\"},{\"id\":\"8ff73f38-9793-46aa-8c10-4a54dd78d341\",\"type\":\"ResetTool\"},{\"id\":\"8b8115a8-d5dd-4598-9122-cb55dba20a77\",\"type\":\"HelpTool\"}]},\"id\":\"0fd896a0-36db-4b5b-aa25-82e6c079b74d\",\"type\":\"Toolbar\"},{\"attributes\":{\"plot\":{\"id\":\"b560da69-6cf9-4402-9a75-3abcbc5ecebf\",\"subtype\":\"Figure\",\"type\":\"Plot\"},\"ticker\":{\"id\":\"22899bd8-7eab-43ed-9c57-930c4564fdfe\",\"type\":\"CategoricalTicker\"}},\"id\":\"2a4c3bb9-1b25-497e-a5f5-3c9ec28fceee\",\"type\":\"Grid\"},{\"attributes\":{\"axis_label\":\"spectral band\",\"formatter\":{\"id\":\"1b66e077-a220-4ac7-99d9-94beef1a9c7a\",\"type\":\"CategoricalTickFormatter\"},\"plot\":{\"id\":\"a37219b9-ca1d-4fe6-8ab1-ea26425c85a2\",\"subtype\":\"Figure\",\"type\":\"Plot\"},\"ticker\":{\"id\":\"198c11ee-55aa-4762-8b5a-8e4f0c8af729\",\"type\":\"CategoricalTicker\"}},\"id\":\"d3eb738c-e007-4734-a454-872cd128af0e\",\"type\":\"CategoricalAxis\"},{\"attributes\":{\"source\":{\"id\":\"07edfdd6-4b14-4f37-83a7-76c0de9d18ab\",\"type\":\"ColumnDataSource\"}},\"id\":\"318ae168-2a2a-4ce7-9e53-b22487b52e66\",\"type\":\"CDSView\"},{\"attributes\":{},\"id\":\"68535800-c9c9-4557-9756-ad3469e8dcc0\",\"type\":\"UnionRenderers\"},{\"attributes\":{\"callback\":null},\"id\":\"ef227f29-f4c8-435e-a621-58f9c7cf0fde\",\"type\":\"DataRange1d\"},{\"attributes\":{\"callback\":null,\"factors\":[\"1\",\"2\",\"3\",\"4\",\"5\",\"6\",\"7\",\"8\",\"9\",\"10\",\"11\"]},\"id\":\"c560b598-7887-4e24-8932-6cd32c03431d\",\"type\":\"FactorRange\"},{\"attributes\":{},\"id\":\"e397477a-bcd0-4e2d-b6c8-44e1b8d86bfd\",\"type\":\"Selection\"},{\"attributes\":{},\"id\":\"1a3d3aa6-60bc-4612-b210-6089b250d8a8\",\"type\":\"PanTool\"},{\"attributes\":{},\"id\":\"1b66e077-a220-4ac7-99d9-94beef1a9c7a\",\"type\":\"CategoricalTickFormatter\"},{\"attributes\":{},\"id\":\"22899bd8-7eab-43ed-9c57-930c4564fdfe\",\"type\":\"CategoricalTicker\"},{\"attributes\":{},\"id\":\"298cb85b-a70d-4542-af47-3b1524734143\",\"type\":\"UnionRenderers\"},{\"attributes\":{\"children\":[{\"id\":\"99731cc1-2079-43bc-919d-2ccdebb319c3\",\"type\":\"Row\"}]},\"id\":\"fff385d6-95a4-425d-9ca0-87c530137660\",\"type\":\"Column\"},{\"attributes\":{},\"id\":\"fdf66a03-bb07-4a25-ab61-21c734e73988\",\"type\":\"CategoricalScale\"},{\"attributes\":{\"axis_label\":\"spectral band\",\"formatter\":{\"id\":\"58e8aad1-74b8-4521-a409-911571b967c1\",\"type\":\"CategoricalTickFormatter\"},\"plot\":{\"id\":\"b560da69-6cf9-4402-9a75-3abcbc5ecebf\",\"subtype\":\"Figure\",\"type\":\"Plot\"},\"ticker\":{\"id\":\"22899bd8-7eab-43ed-9c57-930c4564fdfe\",\"type\":\"CategoricalTicker\"}},\"id\":\"e7f4e343-8ce4-4b8d-8819-d3260354b680\",\"type\":\"CategoricalAxis\"},{\"attributes\":{},\"id\":\"5033c641-0bd2-4d84-bbcf-d351d07e0581\",\"type\":\"Selection\"},{\"attributes\":{\"tools\":[{\"id\":\"de57ccab-8b7c-422b-b358-c09b11f2362b\",\"type\":\"PanTool\"},{\"id\":\"15eb8a3c-ffad-4f6f-aec3-b45e040c48c0\",\"type\":\"WheelZoomTool\"},{\"id\":\"c35df071-e141-4106-bef7-a0c9f75958cc\",\"type\":\"BoxZoomTool\"},{\"id\":\"b0c56f4e-3a9d-449f-982e-028f90e77f6e\",\"type\":\"SaveTool\"},{\"id\":\"781dd030-d29a-4d1f-bdba-10626dc3b631\",\"type\":\"ResetTool\"},{\"id\":\"967184a7-f936-479e-a253-c18e8ba447dd\",\"type\":\"HelpTool\"},{\"id\":\"005e5192-fbcb-40fc-81ae-d4acda6dd6a7\",\"type\":\"PanTool\"},{\"id\":\"e9e445b6-8a23-451a-8a3a-e15f5426833e\",\"type\":\"WheelZoomTool\"},{\"id\":\"ebd1c0b0-7c36-4374-a969-42a4012574ed\",\"type\":\"BoxZoomTool\"},{\"id\":\"cf188747-6d2d-4cce-8fbb-aa972d1257d7\",\"type\":\"SaveTool\"},{\"id\":\"8ff73f38-9793-46aa-8c10-4a54dd78d341\",\"type\":\"ResetTool\"},{\"id\":\"8b8115a8-d5dd-4598-9122-cb55dba20a77\",\"type\":\"HelpTool\"},{\"id\":\"1a3d3aa6-60bc-4612-b210-6089b250d8a8\",\"type\":\"PanTool\"},{\"id\":\"f45b130d-06fa-4e54-a367-f8da1ac368ae\",\"type\":\"WheelZoomTool\"},{\"id\":\"8cd253b2-b6f4-4bc2-88af-c6493355cd6a\",\"type\":\"BoxZoomTool\"},{\"id\":\"ccc68937-1bc8-4f6a-91b1-b51da7f6d899\",\"type\":\"SaveTool\"},{\"id\":\"298e893c-a0a0-483c-982a-e7462f7ff16a\",\"type\":\"ResetTool\"},{\"id\":\"71d162e1-dc08-4fd8-9299-ff148309b5e5\",\"type\":\"HelpTool\"}]},\"id\":\"060bfecd-e931-40fd-b452-db92735e2478\",\"type\":\"ProxyToolbar\"},{\"attributes\":{},\"id\":\"c36e1d4d-9f7c-4eef-b06c-a29d1bf8b814\",\"type\":\"CategoricalScale\"},{\"attributes\":{},\"id\":\"b3b2e177-21e0-4636-b939-ba2759e693ae\",\"type\":\"LinearScale\"},{\"attributes\":{},\"id\":\"7348d7da-b7d2-4ad3-884d-c4421faf9420\",\"type\":\"UnionRenderers\"},{\"attributes\":{\"bottom_units\":\"screen\",\"fill_alpha\":{\"value\":0.5},\"fill_color\":{\"value\":\"lightgrey\"},\"left_units\":\"screen\",\"level\":\"overlay\",\"line_alpha\":{\"value\":1.0},\"line_color\":{\"value\":\"black\"},\"line_dash\":[4,4],\"line_width\":{\"value\":2},\"plot\":null,\"render_mode\":\"css\",\"right_units\":\"screen\",\"top_units\":\"screen\"},\"id\":\"07c3d24a-a992-420e-9992-402b51c693a3\",\"type\":\"BoxAnnotation\"},{\"attributes\":{},\"id\":\"58e8aad1-74b8-4521-a409-911571b967c1\",\"type\":\"CategoricalTickFormatter\"},{\"attributes\":{\"children\":[{\"id\":\"e2367963-1bcc-4ec1-9e8d-485b348751d8\",\"subtype\":\"Figure\",\"type\":\"Plot\"},{\"id\":\"a37219b9-ca1d-4fe6-8ab1-ea26425c85a2\",\"subtype\":\"Figure\",\"type\":\"Plot\"},{\"id\":\"b560da69-6cf9-4402-9a75-3abcbc5ecebf\",\"subtype\":\"Figure\",\"type\":\"Plot\"}]},\"id\":\"99731cc1-2079-43bc-919d-2ccdebb319c3\",\"type\":\"Row\"},{\"attributes\":{},\"id\":\"f1eeac97-5ca6-466f-8f54-1eb0d7d7b168\",\"type\":\"BasicTickFormatter\"},{\"attributes\":{\"fill_alpha\":{\"value\":0.1},\"fill_color\":{\"value\":\"#1f77b4\"},\"line_alpha\":{\"value\":0.1},\"line_color\":{\"value\":\"#1f77b4\"},\"top\":{\"field\":\"flux\"},\"width\":{\"value\":0.9},\"x\":{\"field\":\"band\"}},\"id\":\"b5089597-ea5d-4fe8-9375-a03aa3982bc7\",\"type\":\"VBar\"},{\"attributes\":{},\"id\":\"298e893c-a0a0-483c-982a-e7462f7ff16a\",\"type\":\"ResetTool\"},{\"attributes\":{\"dimension\":1,\"plot\":{\"id\":\"b560da69-6cf9-4402-9a75-3abcbc5ecebf\",\"subtype\":\"Figure\",\"type\":\"Plot\"},\"ticker\":{\"id\":\"40469622-3f7a-47be-b8ef-fb175da3373a\",\"type\":\"BasicTicker\"}},\"id\":\"7dc5c5fd-f683-4561-8d88-4188c4ddb785\",\"type\":\"Grid\"},{\"attributes\":{},\"id\":\"198c11ee-55aa-4762-8b5a-8e4f0c8af729\",\"type\":\"CategoricalTicker\"},{\"attributes\":{\"data_source\":{\"id\":\"07edfdd6-4b14-4f37-83a7-76c0de9d18ab\",\"type\":\"ColumnDataSource\"},\"glyph\":{\"id\":\"74548adf-58e3-44be-a45b-ea03b1768242\",\"type\":\"VBar\"},\"hover_glyph\":null,\"muted_glyph\":null,\"nonselection_glyph\":{\"id\":\"b5089597-ea5d-4fe8-9375-a03aa3982bc7\",\"type\":\"VBar\"},\"selection_glyph\":null,\"view\":{\"id\":\"318ae168-2a2a-4ce7-9e53-b22487b52e66\",\"type\":\"CDSView\"}},\"id\":\"e1f9cb7b-6e26-4a0c-a5d4-8b3281738b17\",\"type\":\"GlyphRenderer\"},{\"attributes\":{\"plot\":null,\"text\":\"Atmosphere heating. CLIRAD (single-run) - CRD.\"},\"id\":\"5f09a614-956f-403a-8a92-d0cbb628e809\",\"type\":\"Title\"},{\"attributes\":{\"toolbar\":{\"id\":\"060bfecd-e931-40fd-b452-db92735e2478\",\"type\":\"ProxyToolbar\"},\"toolbar_location\":\"above\"},\"id\":\"c4abb1b8-6b9d-41fc-abe5-2bd0a00beef9\",\"type\":\"ToolbarBox\"},{\"attributes\":{\"callback\":null,\"data\":{\"band\":[\"1\",\"2\",\"3\",\"4\",\"5\",\"6\",\"7\",\"8\",\"9\",\"10\",\"11\"],\"flux\":{\"__ndarray__\":\"AAAAAyUF9r4AHvruVhblP+DQzf5AefA/AGx0zk9xsD8grTHohJgkQMOeGz/5/0dArmr/uR4hNUAsNYzMbeAtQJihuONN/gVAAGgdjq7SjT8AcGzRXW2APw==\",\"dtype\":\"float64\",\"shape\":[11]}},\"selected\":{\"id\":\"6169e385-99ae-4bf2-8f4e-2d168f5620bf\",\"type\":\"Selection\"},\"selection_policy\":{\"id\":\"68535800-c9c9-4557-9756-ad3469e8dcc0\",\"type\":\"UnionRenderers\"}},\"id\":\"166ca946-8842-4f65-a8ba-4bef75df7c14\",\"type\":\"ColumnDataSource\"},{\"attributes\":{\"axis_label\":\"flux (W m-2)\",\"formatter\":{\"id\":\"f1eeac97-5ca6-466f-8f54-1eb0d7d7b168\",\"type\":\"BasicTickFormatter\"},\"plot\":{\"id\":\"b560da69-6cf9-4402-9a75-3abcbc5ecebf\",\"subtype\":\"Figure\",\"type\":\"Plot\"},\"ticker\":{\"id\":\"40469622-3f7a-47be-b8ef-fb175da3373a\",\"type\":\"BasicTicker\"}},\"id\":\"891eafd0-69c3-4fa9-a909-6b2260363e5e\",\"type\":\"LinearAxis\"},{\"attributes\":{\"children\":[{\"id\":\"c4abb1b8-6b9d-41fc-abe5-2bd0a00beef9\",\"type\":\"ToolbarBox\"},{\"id\":\"fff385d6-95a4-425d-9ca0-87c530137660\",\"type\":\"Column\"}]},\"id\":\"b24bbebd-e933-486f-bfe5-d9f74273947c\",\"type\":\"Column\"},{\"attributes\":{\"callback\":null,\"factors\":[\"1\",\"2\",\"3\",\"4\",\"5\",\"6\",\"7\",\"8\",\"9\",\"10\",\"11\"]},\"id\":\"1a8fcabc-d843-49b5-bc3d-8d0a608e0786\",\"type\":\"FactorRange\"},{\"attributes\":{},\"id\":\"ccc68937-1bc8-4f6a-91b1-b51da7f6d899\",\"type\":\"SaveTool\"},{\"attributes\":{\"active_drag\":\"auto\",\"active_inspect\":\"auto\",\"active_scroll\":\"auto\",\"active_tap\":\"auto\",\"tools\":[{\"id\":\"1a3d3aa6-60bc-4612-b210-6089b250d8a8\",\"type\":\"PanTool\"},{\"id\":\"f45b130d-06fa-4e54-a367-f8da1ac368ae\",\"type\":\"WheelZoomTool\"},{\"id\":\"8cd253b2-b6f4-4bc2-88af-c6493355cd6a\",\"type\":\"BoxZoomTool\"},{\"id\":\"ccc68937-1bc8-4f6a-91b1-b51da7f6d899\",\"type\":\"SaveTool\"},{\"id\":\"298e893c-a0a0-483c-982a-e7462f7ff16a\",\"type\":\"ResetTool\"},{\"id\":\"71d162e1-dc08-4fd8-9299-ff148309b5e5\",\"type\":\"HelpTool\"}]},\"id\":\"d2fabd15-7fa7-4da6-95d0-2c085e9e137a\",\"type\":\"Toolbar\"},{\"attributes\":{\"overlay\":{\"id\":\"ea8d5554-90fb-4627-81f2-7fb5e30c6954\",\"type\":\"BoxAnnotation\"}},\"id\":\"ebd1c0b0-7c36-4374-a969-42a4012574ed\",\"type\":\"BoxZoomTool\"},{\"attributes\":{},\"id\":\"40469622-3f7a-47be-b8ef-fb175da3373a\",\"type\":\"BasicTicker\"},{\"attributes\":{\"fill_color\":{\"value\":\"#1f77b4\"},\"line_color\":{\"value\":\"#1f77b4\"},\"top\":{\"field\":\"flux\"},\"width\":{\"value\":0.9},\"x\":{\"field\":\"band\"}},\"id\":\"74548adf-58e3-44be-a45b-ea03b1768242\",\"type\":\"VBar\"},{\"attributes\":{},\"id\":\"6169e385-99ae-4bf2-8f4e-2d168f5620bf\",\"type\":\"Selection\"},{\"attributes\":{},\"id\":\"c6bb0934-3ec2-48d1-a918-eaf3a983d01a\",\"type\":\"CategoricalTickFormatter\"},{\"attributes\":{},\"id\":\"71d162e1-dc08-4fd8-9299-ff148309b5e5\",\"type\":\"HelpTool\"}],\"root_ids\":[\"b24bbebd-e933-486f-bfe5-d9f74273947c\"]},\"title\":\"Bokeh Application\",\"version\":\"0.12.16\"}};\n",
       "  var render_items = [{\"docid\":\"527beebd-929f-4b72-8da5-6c5d71092fad\",\"elementid\":\"40a9476b-2bcd-481f-b36b-6594e3d52446\",\"modelid\":\"b24bbebd-e933-486f-bfe5-d9f74273947c\"}];\n",
       "  root.Bokeh.embed.embed_items_notebook(docs_json, render_items);\n",
       "\n",
       "  }\n",
       "  if (root.Bokeh !== undefined) {\n",
       "    embed_document(root);\n",
       "  } else {\n",
       "    var attempts = 0;\n",
       "    var timer = setInterval(function(root) {\n",
       "      if (root.Bokeh !== undefined) {\n",
       "        embed_document(root);\n",
       "        clearInterval(timer);\n",
       "      }\n",
       "      attempts++;\n",
       "      if (attempts > 100) {\n",
       "        console.log(\"Bokeh: ERROR: Unable to run BokehJS code because BokehJS library is missing\")\n",
       "        clearInterval(timer);\n",
       "      }\n",
       "    }, 10, root)\n",
       "  }\n",
       "})(window);"
      ],
      "application/vnd.bokehjs_exec.v0+json": ""
     },
     "metadata": {
      "application/vnd.bokehjs_exec.v0+json": {
       "id": "b24bbebd-e933-486f-bfe5-d9f74273947c"
      }
     },
     "output_type": "display_data"
    },
    {
     "data": {
      "text/markdown": [
       "*FIGURE.* Difference between CLIRAD and CRD in TOA, SFC and net atmosphere flux, in each spectral band."
      ],
      "text/plain": [
       "<IPython.core.display.Markdown object>"
      ]
     },
     "metadata": {},
     "output_type": "display_data"
    },
    {
     "data": {
      "text/html": [
       "<div>\n",
       "<style scoped>\n",
       "    .dataframe tbody tr th:only-of-type {\n",
       "        vertical-align: middle;\n",
       "    }\n",
       "\n",
       "    .dataframe tbody tr th {\n",
       "        vertical-align: top;\n",
       "    }\n",
       "\n",
       "    .dataframe thead th {\n",
       "        text-align: right;\n",
       "    }\n",
       "</style>\n",
       "<table border=\"1\" class=\"dataframe\">\n",
       "  <thead>\n",
       "    <tr style=\"text-align: right;\">\n",
       "      <th></th>\n",
       "      <th>OLR flux</th>\n",
       "      <th>SFC flux</th>\n",
       "      <th>ATM heating</th>\n",
       "    </tr>\n",
       "    <tr>\n",
       "      <th>Sum over bands</th>\n",
       "      <th></th>\n",
       "      <th></th>\n",
       "      <th></th>\n",
       "    </tr>\n",
       "  </thead>\n",
       "  <tbody>\n",
       "    <tr>\n",
       "      <th>old CLIRAD - CRD</th>\n",
       "      <td>0.09</td>\n",
       "      <td>1.54</td>\n",
       "      <td>-1.31</td>\n",
       "    </tr>\n",
       "    <tr>\n",
       "      <th>CLIRAD (single-run) - CRD</th>\n",
       "      <td>91.82</td>\n",
       "      <td>98.89</td>\n",
       "      <td>-7.07</td>\n",
       "    </tr>\n",
       "    <tr>\n",
       "      <th>CRD</th>\n",
       "      <td>-290.39</td>\n",
       "      <td>308.14</td>\n",
       "      <td>-174.89</td>\n",
       "    </tr>\n",
       "  </tbody>\n",
       "</table>\n",
       "</div>"
      ],
      "text/plain": [
       "                           OLR flux  SFC flux  ATM heating\n",
       "Sum over bands                                            \n",
       "old CLIRAD - CRD               0.09      1.54        -1.31\n",
       "CLIRAD (single-run) - CRD     91.82     98.89        -7.07\n",
       "CRD                         -290.39    308.14      -174.89"
      ]
     },
     "metadata": {},
     "output_type": "display_data"
    },
    {
     "data": {
      "text/markdown": [
       "*TABLE.* Difference between CLIRAD and CRD in TOA, SFC and net atmosphere flux, over all spectral bands. CRD's TOA, SFC and net atmosphere flux, over all spectral bands."
      ],
      "text/plain": [
       "<IPython.core.display.Markdown object>"
      ]
     },
     "metadata": {},
     "output_type": "display_data"
    },
    {
     "data": {
      "text/html": [
       "<a id=\"Cooling_rates._saw.\"></a>"
      ],
      "text/plain": [
       "<IPython.core.display.HTML object>"
      ]
     },
     "metadata": {},
     "output_type": "display_data"
    },
    {
     "data": {
      "text/markdown": [
       "# Cooling rates. saw."
      ],
      "text/plain": [
       "<IPython.core.display.Markdown object>"
      ]
     },
     "metadata": {},
     "output_type": "display_data"
    },
    {
     "data": {
      "text/html": [
       "\n",
       "<div class=\"bk-root\">\n",
       "    <div class=\"bk-plotdiv\" id=\"f8aa15a1-a337-4457-ac20-86de901eb2da\"></div>\n",
       "</div>"
      ]
     },
     "metadata": {},
     "output_type": "display_data"
    },
    {
     "data": {
      "application/javascript": [
       "(function(root) {\n",
       "  function embed_document(root) {\n",
       "    \n",
       "  var docs_json = {\"d8f9ae61-e8ec-4510-982c-3b7f5610e2e2\":{\"roots\":{\"references\":[{\"attributes\":{\"callback\":null,\"data\":{\"x\":{\"__ndarray__\":\"0CYBcvU5UkCik9zf2GVBQF1VoNfLZ0BAVLxhiVXTPUDD1Wu1wJM6QFJyB025jjdAU6Aw5+b/NECYe1uuDfgyQB6bYtVTbTFAPxYSAF1HMEA00pYVm9QuQLolHbMzgC1AntlwirGsLECv+G9SjE4rQJH6ZLBp0ShAsLZQyPd/JkDyjgyf2PwkQLgyNGsrJyRAA13QbJD6I0C8hy0ilI4kQOVTXCEgcSZAovOGvZSGJUBVc/ZmUOIgQOf/6GHAyRlAcE8fAOBSFEDRur1U//gPQGFD9ZbokghAQsqHuSqSA0C91ci3W0UBQCtRQfvz7/4/kh8pntyB+j9t1/n+4TX1P773MAUjFfI/RgzR+CI28T8hBW8WHK7uPzVKjJfU8uk/0FPt4/z65T/wVYqzMPDhPz7K9C5CXuE/8+hSn9hY4T/9PPCkR6rhP1XsIC599OA/66X1nBCX3z/YbRM56QjcPz4dkSQc/dM/S7Wb8Fq00T+/yQdmX0vcP7TrGf476eM/WqNPJoWO7D9qOH1bcwDzP2bw+R5DQ/Y/RLSuQOQp+D8+aif8yAz5P0Wv6eBKRfk/0i2+IN4R+T/ik8QNFZr4PyS5UD5j/Pc/yJ68zXRG9z/2CHPL54H2P59SOhwKtPU/npkP8dfg9D8NlmVcdQz0P80ugRvuOvM/byxiAHN18j9USVZie8nxP5l9lNXYSPE/OB+F0UYP8T8Y7dsUCTHxP3EBgTHPcPE/bfx15p8S8T8FT+xkGtTuP6mdG7rkxuk/pboqTkHX5D/CrN8qGYngP7R4ZaL+htU/\",\"dtype\":\"float64\",\"shape\":[75]},\"y\":{\"__ndarray__\":\"GhExyth1ND/Sv8nbtpRIP2vylNV0PVE/aTum7souWD/At0SJ8fVgPw3Iuahxymc/MSNhhJWvcD/bTfBN02d3P2zb5nxnaoA/CD5h5MAGhz8NmeH1TyaQP+zrCsc9p5Y/LbKd76fGnz/bLW5ISEmmPww9YvTcQq8/JV2OstnstT8Er5Y7M8G+P0c+r3jqkcU/5h99k6ZBzj88bCIzFzjVP4enV8oyxN0//yH99nXg5D8qOpLLf0jtP5kqGJXUifQ/c9cS8kHP/D+/DpwzojQEQIEmwoanVwxA4lgXt9HgE0BSSZ2AJuIbQAMJih9jjiNA5q4l5INuK0AwTKYKRj0zQNv5fmq8/DpAaCJseHrtQkB/+zpwzoxKQM3MzMzMeFJAZmZmZmZqWEAAAAAAAFxeQM3MzMzMJmJAmpmZmZkfZUBmZmZmZhhoQDMzMzMzEWtAAAAAAAAKbkBmZmZmZoFwQM3MzMzM/XFAMzMzMzN6c0CamZmZmfZ0QAAAAAAAc3ZAZmZmZmbvd0DNzMzMzGt5QDMzMzMz6HpAmpmZmZlkfEAAAAAAAOF9QGZmZmZmXX9AZmZmZuZsgECamZmZGSuBQM3MzMxM6YFAAAAAAICngkAzMzMzs2WDQGZmZmbmI4RAmpmZmRnihEDNzMzMTKCFQAAAAACAXoZAMzMzM7Mch0BmZmZm5tqHQJqZmZkZmYhAzczMzExXiUAAAAAAgBWKQDMzMzOz04pAZmZmZuaRi0CamZmZGVCMQM3MzMxMDo1AAAAAAIDMjUAzMzMzs4qOQGZmZmbmSI9A\",\"dtype\":\"float64\",\"shape\":[75]}},\"selected\":{\"id\":\"36065fbd-2f40-4251-b4da-54d38228254b\",\"type\":\"Selection\"},\"selection_policy\":{\"id\":\"6874aae1-055e-4a3b-a1fa-cb5682713e99\",\"type\":\"UnionRenderers\"}},\"id\":\"c3c05c20-025d-4484-bc10-59a93bb634fe\",\"type\":\"ColumnDataSource\"},{\"attributes\":{\"fill_alpha\":{\"value\":0.1},\"fill_color\":{\"value\":\"#1f77b4\"},\"line_alpha\":{\"value\":0.1},\"line_color\":{\"value\":\"#1f77b4\"},\"x\":{\"field\":\"x\"},\"y\":{\"field\":\"y\"}},\"id\":\"d58072ab-dd10-4c52-abc9-6e1ba51da999\",\"type\":\"Circle\"},{\"attributes\":{\"data_source\":{\"id\":\"c3c05c20-025d-4484-bc10-59a93bb634fe\",\"type\":\"ColumnDataSource\"},\"glyph\":{\"id\":\"d8ba37a4-cfca-4b8b-9b2a-ceaad9446354\",\"type\":\"Circle\"},\"hover_glyph\":null,\"muted_glyph\":null,\"nonselection_glyph\":{\"id\":\"d58072ab-dd10-4c52-abc9-6e1ba51da999\",\"type\":\"Circle\"},\"selection_glyph\":null,\"view\":{\"id\":\"a9d11c13-5e12-4120-9a74-317a3d2b6709\",\"type\":\"CDSView\"}},\"id\":\"06248340-1abd-419f-98fc-5fd9defe3d6e\",\"type\":\"GlyphRenderer\"},{\"attributes\":{\"overlay\":{\"id\":\"5e8f7a95-b645-49b5-bcdb-50c25d0c547c\",\"type\":\"BoxAnnotation\"}},\"id\":\"7853c2a9-25a2-495a-b4e5-d6d005c6743a\",\"type\":\"BoxZoomTool\"},{\"attributes\":{\"callback\":null,\"end\":11.4793147302343,\"start\":-11.084269745204299},\"id\":\"5faf8d43-3a46-47a4-ad1d-b0a54770d804\",\"type\":\"Range1d\"},{\"attributes\":{\"label\":{\"value\":\"CLIRAD (single-run)\"},\"renderers\":[{\"id\":\"9b6bbad0-8261-47a7-8927-7657f214c7cc\",\"type\":\"GlyphRenderer\"}]},\"id\":\"f4cd902d-9629-4e2b-acbb-1464a2c78dc0\",\"type\":\"LegendItem\"},{\"attributes\":{\"callback\":null,\"end\":0.01,\"start\":1020},\"id\":\"c90d0dc7-0b8e-4a8e-a656-bb719e9c4b0b\",\"type\":\"Range1d\"},{\"attributes\":{\"callback\":null,\"end\":0.01,\"start\":1020},\"id\":\"c2219311-70cd-4741-a742-31ca41c9c43f\",\"type\":\"Range1d\"},{\"attributes\":{},\"id\":\"07cb992d-a446-4a9a-abec-cf0287785910\",\"type\":\"WheelZoomTool\"},{\"attributes\":{\"dimension\":1,\"plot\":{\"id\":\"d0e39c50-f1d9-42e6-86b6-c20ea9a4596e\",\"subtype\":\"Figure\",\"type\":\"Plot\"},\"ticker\":{\"id\":\"b7fa3440-2fa9-4ea3-84bc-17bfe9c3a690\",\"type\":\"BasicTicker\"}},\"id\":\"16305bd0-24a6-4820-bb92-13896ae50a28\",\"type\":\"Grid\"},{\"attributes\":{\"callback\":null,\"end\":0.01,\"start\":1020},\"id\":\"e1e5598f-2b9f-4f4a-8ded-ecea9d72bbe2\",\"type\":\"Range1d\"},{\"attributes\":{},\"id\":\"f1b5fd07-906c-4d0d-b3b6-00647419e46f\",\"type\":\"ResetTool\"},{\"attributes\":{\"callback\":null,\"end\":1.003365853007001,\"start\":-1.6684061262609995},\"id\":\"e4340950-36f6-4b5a-b615-3f00ca9b5a30\",\"type\":\"Range1d\"},{\"attributes\":{\"axis_label\":\"cooling rate [K/day]\",\"formatter\":{\"id\":\"86e6cf1c-0a8d-44cb-b5c6-4faf5e88a613\",\"type\":\"BasicTickFormatter\"},\"plot\":{\"id\":\"d0e39c50-f1d9-42e6-86b6-c20ea9a4596e\",\"subtype\":\"Figure\",\"type\":\"Plot\"},\"ticker\":{\"id\":\"e88513b3-4505-4f0a-b7a3-6028ab25042d\",\"type\":\"BasicTicker\"}},\"id\":\"ebef245c-a2d4-41b1-b156-5feb7d427dfe\",\"type\":\"LinearAxis\"},{\"attributes\":{},\"id\":\"a481a61a-fb0d-40c6-b41e-aa060b44ca56\",\"type\":\"PanTool\"},{\"attributes\":{\"line_alpha\":0.6,\"line_color\":\"#377eb8\",\"line_dash\":[6],\"line_width\":5,\"x\":{\"field\":\"x\"},\"y\":{\"field\":\"y\"}},\"id\":\"2990017e-7514-4619-96c0-a2bc432fb108\",\"type\":\"Line\"},{\"attributes\":{\"above\":[{\"id\":\"0272bb73-f86c-46f6-bc56-34820caf3706\",\"type\":\"Legend\"}],\"below\":[{\"id\":\"7becff4b-e6ab-42eb-bb0b-09f9686eedf1\",\"type\":\"LinearAxis\"}],\"left\":[{\"id\":\"db47ae3a-bab5-46c5-9c28-9581621f6c09\",\"type\":\"LogAxis\"}],\"plot_width\":300,\"renderers\":[{\"id\":\"7becff4b-e6ab-42eb-bb0b-09f9686eedf1\",\"type\":\"LinearAxis\"},{\"id\":\"400b03de-697f-4863-8665-5bb3620a247c\",\"type\":\"Grid\"},{\"id\":\"db47ae3a-bab5-46c5-9c28-9581621f6c09\",\"type\":\"LogAxis\"},{\"id\":\"9d16b0d9-9d1d-4e13-8717-8eac5d3c6c97\",\"type\":\"Grid\"},{\"id\":\"7e6af263-c44f-4087-b702-8dda51254932\",\"type\":\"BoxAnnotation\"},{\"id\":\"9b6bbad0-8261-47a7-8927-7657f214c7cc\",\"type\":\"GlyphRenderer\"},{\"id\":\"380fb246-5cb2-489c-ac06-0232def4324e\",\"type\":\"GlyphRenderer\"},{\"id\":\"14c35666-f9e9-47c5-93e9-fac566f88e4e\",\"type\":\"GlyphRenderer\"},{\"id\":\"0272bb73-f86c-46f6-bc56-34820caf3706\",\"type\":\"Legend\"}],\"title\":{\"id\":\"5c2d699c-5081-4442-8be3-37c07b894dcc\",\"type\":\"Title\"},\"toolbar\":{\"id\":\"1931a9ed-8cdc-40f5-981e-f12d5bcb522d\",\"type\":\"Toolbar\"},\"toolbar_location\":null,\"x_range\":{\"id\":\"d45bb639-88a7-42e2-98b9-d688113059d1\",\"type\":\"Range1d\"},\"x_scale\":{\"id\":\"3b2045a3-4c5d-496c-ad91-3a8a526c34ac\",\"type\":\"LinearScale\"},\"y_range\":{\"id\":\"e1e5598f-2b9f-4f4a-8ded-ecea9d72bbe2\",\"type\":\"Range1d\"},\"y_scale\":{\"id\":\"c69b9e20-43a3-4a83-8b07-28ea04815c8d\",\"type\":\"LogScale\"}},\"id\":\"00e8f7c7-7b37-4a2a-9a78-c1931c86f378\",\"subtype\":\"Figure\",\"type\":\"Plot\"},{\"attributes\":{\"callback\":null,\"data\":{\"x\":{\"__ndarray__\":\"SQyxGSuWQEBhQffNA488QKxYHyvuWz5ALd+LPE72PkAjPx9ZZwg+QNPUOHFBiztAdD7apLbaN0CUAB7KddMzQCB9YltCgjBARzfA8+lFLUCVYMR0eVUsQPWQG/yU3ixA9TTT5Im8LUC0oTM23EItQD7sOnN9qCpARCjvnZpQJ0Dpxgc0XH8kQF05m48O3CJAcIA1UZ+vIkC2ZdsUW8gjQESvg9LmOCZAQ8FJRw28JUCNP/OKFjohQKBWWMq+ixlAeMTfjE2WE0D29TYz2QsQQFfTYo/zIQtAz/zmdr8yBkC/s/pA4IYCQJIvt3jcGQBAxNjeiKnY/T+1pMwBqMf5P/QRV1O7UfU//ahsYLh+8j+JHeyEQAvxP+C69j5iMfA/Dz2v62MW7D+D4/RmZxPmP/Vt11oWLuQ/n6DY8DxL5D9m6KOqWhflP2n4D0uUwuQ/UJ1jq5cI5D+nEwtxYubiPxCGaHXEbt8/tjBXe+JzHEDvWiXEkxMWQNc6TnKT8tg/IFJZ+rPZGUCltgtSXurgP79KgxcmhCZAlfxsweK5JcC/dnZFmM/Nvyzn5qKkC7q/lCPA4WGtKb+ZCA8rwJ21P5zDa9WeK8Q/pVLfncZdzD88FkOIF6PRP/FnUxGJi9Q/b13z452u1j9gGBCgdlbYP4V+RqNriNk/6m77f4yp2j/bHECmCTDcP6+F9j0s7N4/TAWNP2cPJkACPpWMyVoGQNTTi0YsFcQ/PLjOzoivBUD7L4Sj+oPMP36J1ChBOcQ/Wrm1fPJLsz9QEbx8U5c0Py13T1ulvMC/\",\"dtype\":\"float64\",\"shape\":[75]},\"y\":{\"__ndarray__\":\"GhExyth1ND/Sv8nbtpRIP2vylNV0PVE/aTum7souWD/At0SJ8fVgPw3Iuahxymc/MSNhhJWvcD/bTfBN02d3P2zb5nxnaoA/CD5h5MAGhz8NmeH1TyaQP+zrCsc9p5Y/LbKd76fGnz/bLW5ISEmmPww9YvTcQq8/JV2OstnstT8Er5Y7M8G+P0c+r3jqkcU/5h99k6ZBzj88bCIzFzjVP4enV8oyxN0//yH99nXg5D8qOpLLf0jtP5kqGJXUifQ/c9cS8kHP/D+/DpwzojQEQIEmwoanVwxA4lgXt9HgE0BSSZ2AJuIbQAMJih9jjiNA5q4l5INuK0AwTKYKRj0zQNv5fmq8/DpAaCJseHrtQkB/+zpwzoxKQM3MzMzMeFJAZmZmZmZqWEAAAAAAAFxeQM3MzMzMJmJAmpmZmZkfZUBmZmZmZhhoQDMzMzMzEWtAAAAAAAAKbkBmZmZmZoFwQM3MzMzM/XFAMzMzMzN6c0CamZmZmfZ0QAAAAAAAc3ZAZmZmZmbvd0DNzMzMzGt5QDMzMzMz6HpAmpmZmZlkfEAAAAAAAOF9QGZmZmZmXX9AZmZmZuZsgECamZmZGSuBQM3MzMxM6YFAAAAAAICngkAzMzMzs2WDQGZmZmbmI4RAmpmZmRnihEDNzMzMTKCFQAAAAACAXoZAMzMzM7Mch0BmZmZm5tqHQJqZmZkZmYhAzczMzExXiUAAAAAAgBWKQDMzMzOz04pAZmZmZuaRi0CamZmZGVCMQM3MzMxMDo1AAAAAAIDMjUAzMzMzs4qOQGZmZmbmSI9A\",\"dtype\":\"float64\",\"shape\":[75]}},\"selected\":{\"id\":\"0a595343-2bec-44a9-bfcd-7b57e088a3d5\",\"type\":\"Selection\"},\"selection_policy\":{\"id\":\"0a0ee124-b677-4ea6-8446-02828d46e3b1\",\"type\":\"UnionRenderers\"}},\"id\":\"97c02296-9b4e-4ad6-a578-d1345fdd8dfc\",\"type\":\"ColumnDataSource\"},{\"attributes\":{\"items\":[{\"id\":\"0065b6cf-f415-490a-befb-2d3a86c23b69\",\"type\":\"LegendItem\"},{\"id\":\"eef68033-3b8f-4272-9e87-d9a813deb38b\",\"type\":\"LegendItem\"}],\"label_text_font_size\":{\"value\":\"8pt\"},\"location\":\"top_center\",\"orientation\":\"horizontal\",\"plot\":{\"id\":\"d0e39c50-f1d9-42e6-86b6-c20ea9a4596e\",\"subtype\":\"Figure\",\"type\":\"Plot\"}},\"id\":\"f1b58521-65e0-41aa-913f-f516c9fca2bb\",\"type\":\"Legend\"},{\"attributes\":{\"callback\":null,\"data\":{\"x\":{\"__ndarray__\":\"SQyxGSuWQEBhQffNA488QKxYHyvuWz5ALd+LPE72PkAjPx9ZZwg+QNPUOHFBiztAdD7apLbaN0CUAB7KddMzQCB9YltCgjBARzfA8+lFLUCVYMR0eVUsQPWQG/yU3ixA9TTT5Im8LUC0oTM23EItQD7sOnN9qCpARCjvnZpQJ0Dpxgc0XH8kQF05m48O3CJAcIA1UZ+vIkC2ZdsUW8gjQESvg9LmOCZAQ8FJRw28JUCNP/OKFjohQKBWWMq+ixlAeMTfjE2WE0D29TYz2QsQQFfTYo/zIQtAz/zmdr8yBkC/s/pA4IYCQJIvt3jcGQBAxNjeiKnY/T+1pMwBqMf5P/QRV1O7UfU//ahsYLh+8j+JHeyEQAvxP+C69j5iMfA/Dz2v62MW7D+D4/RmZxPmP/Vt11oWLuQ/n6DY8DxL5D9m6KOqWhflP2n4D0uUwuQ/UJ1jq5cI5D+nEwtxYubiPxCGaHXEbt8/tjBXe+JzHEDvWiXEkxMWQNc6TnKT8tg/IFJZ+rPZGUCltgtSXurgP79KgxcmhCZAlfxsweK5JcC/dnZFmM/Nvyzn5qKkC7q/lCPA4WGtKb+ZCA8rwJ21P5zDa9WeK8Q/pVLfncZdzD88FkOIF6PRP/FnUxGJi9Q/b13z452u1j9gGBCgdlbYP4V+RqNriNk/6m77f4yp2j/bHECmCTDcP6+F9j0s7N4/TAWNP2cPJkACPpWMyVoGQNTTi0YsFcQ/PLjOzoivBUD7L4Sj+oPMP36J1ChBOcQ/Wrm1fPJLsz9QEbx8U5c0Py13T1ulvMC/\",\"dtype\":\"float64\",\"shape\":[75]},\"y\":{\"__ndarray__\":\"GhExyth1ND/Sv8nbtpRIP2vylNV0PVE/aTum7souWD/At0SJ8fVgPw3Iuahxymc/MSNhhJWvcD/bTfBN02d3P2zb5nxnaoA/CD5h5MAGhz8NmeH1TyaQP+zrCsc9p5Y/LbKd76fGnz/bLW5ISEmmPww9YvTcQq8/JV2OstnstT8Er5Y7M8G+P0c+r3jqkcU/5h99k6ZBzj88bCIzFzjVP4enV8oyxN0//yH99nXg5D8qOpLLf0jtP5kqGJXUifQ/c9cS8kHP/D+/DpwzojQEQIEmwoanVwxA4lgXt9HgE0BSSZ2AJuIbQAMJih9jjiNA5q4l5INuK0AwTKYKRj0zQNv5fmq8/DpAaCJseHrtQkB/+zpwzoxKQM3MzMzMeFJAZmZmZmZqWEAAAAAAAFxeQM3MzMzMJmJAmpmZmZkfZUBmZmZmZhhoQDMzMzMzEWtAAAAAAAAKbkBmZmZmZoFwQM3MzMzM/XFAMzMzMzN6c0CamZmZmfZ0QAAAAAAAc3ZAZmZmZmbvd0DNzMzMzGt5QDMzMzMz6HpAmpmZmZlkfEAAAAAAAOF9QGZmZmZmXX9AZmZmZuZsgECamZmZGSuBQM3MzMxM6YFAAAAAAICngkAzMzMzs2WDQGZmZmbmI4RAmpmZmRnihEDNzMzMTKCFQAAAAACAXoZAMzMzM7Mch0BmZmZm5tqHQJqZmZkZmYhAzczMzExXiUAAAAAAgBWKQDMzMzOz04pAZmZmZuaRi0CamZmZGVCMQM3MzMxMDo1AAAAAAIDMjUAzMzMzs4qOQGZmZmbmSI9A\",\"dtype\":\"float64\",\"shape\":[75]}},\"selected\":{\"id\":\"20b112cb-b131-4b88-83bf-001e6003552f\",\"type\":\"Selection\"},\"selection_policy\":{\"id\":\"668a5674-9415-4755-a6ed-528a7ec2008c\",\"type\":\"UnionRenderers\"}},\"id\":\"3a1d7784-b18b-4694-9608-e1f4b655f1db\",\"type\":\"ColumnDataSource\"},{\"attributes\":{\"source\":{\"id\":\"c3c05c20-025d-4484-bc10-59a93bb634fe\",\"type\":\"ColumnDataSource\"}},\"id\":\"a9d11c13-5e12-4120-9a74-317a3d2b6709\",\"type\":\"CDSView\"},{\"attributes\":{},\"id\":\"2759b25d-e77f-4a3a-8857-6fb2d702b937\",\"type\":\"LinearScale\"},{\"attributes\":{\"label\":{\"value\":\"CRD\"},\"renderers\":[{\"id\":\"380fb246-5cb2-489c-ac06-0232def4324e\",\"type\":\"GlyphRenderer\"},{\"id\":\"14c35666-f9e9-47c5-93e9-fac566f88e4e\",\"type\":\"GlyphRenderer\"}]},\"id\":\"2a891074-d86e-4344-9827-f247950b046e\",\"type\":\"LegendItem\"},{\"attributes\":{},\"id\":\"b7fa3440-2fa9-4ea3-84bc-17bfe9c3a690\",\"type\":\"BasicTicker\"},{\"attributes\":{},\"id\":\"d5f07df2-521d-40d3-84e5-0fb01590d169\",\"type\":\"SaveTool\"},{\"attributes\":{\"bottom_units\":\"screen\",\"fill_alpha\":{\"value\":0.5},\"fill_color\":{\"value\":\"lightgrey\"},\"left_units\":\"screen\",\"level\":\"overlay\",\"line_alpha\":{\"value\":1.0},\"line_color\":{\"value\":\"black\"},\"line_dash\":[4,4],\"line_width\":{\"value\":2},\"plot\":null,\"render_mode\":\"css\",\"right_units\":\"screen\",\"top_units\":\"screen\"},\"id\":\"5e8f7a95-b645-49b5-bcdb-50c25d0c547c\",\"type\":\"BoxAnnotation\"},{\"attributes\":{\"data_source\":{\"id\":\"3a1d7784-b18b-4694-9608-e1f4b655f1db\",\"type\":\"ColumnDataSource\"},\"glyph\":{\"id\":\"2990017e-7514-4619-96c0-a2bc432fb108\",\"type\":\"Line\"},\"hover_glyph\":null,\"muted_glyph\":null,\"nonselection_glyph\":{\"id\":\"5588a2de-6df9-4742-aab3-3eebe1ac0a94\",\"type\":\"Line\"},\"selection_glyph\":null,\"view\":{\"id\":\"3f979af8-9ec5-47c4-ba65-7c4e8602c249\",\"type\":\"CDSView\"}},\"id\":\"cc0f504e-a9e6-4398-96f2-34536b3c70f6\",\"type\":\"GlyphRenderer\"},{\"attributes\":{\"items\":[{\"id\":\"a0b876a1-3617-45bb-88d8-7e32a78e7ff1\",\"type\":\"LegendItem\"}],\"label_text_font_size\":{\"value\":\"8pt\"},\"location\":\"top_center\",\"orientation\":\"horizontal\",\"plot\":{\"id\":\"1fed8ace-b48c-4d9d-8888-771ceaebe60e\",\"subtype\":\"Figure\",\"type\":\"Plot\"}},\"id\":\"f746d826-e865-40ec-b2de-47d518e37231\",\"type\":\"Legend\"},{\"attributes\":{\"source\":{\"id\":\"3a1d7784-b18b-4694-9608-e1f4b655f1db\",\"type\":\"ColumnDataSource\"}},\"id\":\"3f979af8-9ec5-47c4-ba65-7c4e8602c249\",\"type\":\"CDSView\"},{\"attributes\":{\"plot\":{\"id\":\"d0e39c50-f1d9-42e6-86b6-c20ea9a4596e\",\"subtype\":\"Figure\",\"type\":\"Plot\"},\"ticker\":{\"id\":\"e88513b3-4505-4f0a-b7a3-6028ab25042d\",\"type\":\"BasicTicker\"}},\"id\":\"9564c9d7-7861-43b9-8ef4-f1aa2c37f933\",\"type\":\"Grid\"},{\"attributes\":{\"line_color\":\"#4daf4a\",\"line_width\":1.5,\"x\":{\"field\":\"x\"},\"y\":{\"field\":\"y\"}},\"id\":\"d696f4c3-2f90-438f-8c65-4cfcbde4098b\",\"type\":\"Line\"},{\"attributes\":{\"active_drag\":\"auto\",\"active_inspect\":\"auto\",\"active_scroll\":\"auto\",\"active_tap\":\"auto\",\"tools\":[{\"id\":\"a481a61a-fb0d-40c6-b41e-aa060b44ca56\",\"type\":\"PanTool\"},{\"id\":\"07cb992d-a446-4a9a-abec-cf0287785910\",\"type\":\"WheelZoomTool\"},{\"id\":\"7853c2a9-25a2-495a-b4e5-d6d005c6743a\",\"type\":\"BoxZoomTool\"},{\"id\":\"d5f07df2-521d-40d3-84e5-0fb01590d169\",\"type\":\"SaveTool\"},{\"id\":\"f1b5fd07-906c-4d0d-b3b6-00647419e46f\",\"type\":\"ResetTool\"},{\"id\":\"b3ad76a0-de57-4f67-a699-f4d0cb5b8fd9\",\"type\":\"HelpTool\"}]},\"id\":\"4b425ff7-3b89-4dfa-9c46-95cc413fd8ed\",\"type\":\"Toolbar\"},{\"attributes\":{\"ticker\":null},\"id\":\"2eb7b5b9-3495-4f2a-a886-33b8504a1738\",\"type\":\"LogTickFormatter\"},{\"attributes\":{\"axis_label\":\"pressure [mb]\",\"formatter\":{\"id\":\"4af93964-85f7-431c-8684-c7839a5f453c\",\"type\":\"BasicTickFormatter\"},\"plot\":{\"id\":\"d0e39c50-f1d9-42e6-86b6-c20ea9a4596e\",\"subtype\":\"Figure\",\"type\":\"Plot\"},\"ticker\":{\"id\":\"b7fa3440-2fa9-4ea3-84bc-17bfe9c3a690\",\"type\":\"BasicTicker\"}},\"id\":\"e207df05-17bb-496c-aa99-175f03338c43\",\"type\":\"LinearAxis\"},{\"attributes\":{\"line_alpha\":0.1,\"line_color\":\"#1f77b4\",\"line_width\":1.5,\"x\":{\"field\":\"x\"},\"y\":{\"field\":\"y\"}},\"id\":\"e40f59fe-de9e-4b54-8975-392a3c7ce61d\",\"type\":\"Line\"},{\"attributes\":{},\"id\":\"85ddcbd1-54a2-4ed1-8d14-f5931ca9c53f\",\"type\":\"LinearScale\"},{\"attributes\":{\"line_alpha\":0.1,\"line_color\":\"#1f77b4\",\"line_dash\":[6],\"line_width\":5,\"x\":{\"field\":\"x\"},\"y\":{\"field\":\"y\"}},\"id\":\"5588a2de-6df9-4742-aab3-3eebe1ac0a94\",\"type\":\"Line\"},{\"attributes\":{\"callback\":null,\"data\":{\"x\":{\"__ndarray__\":\"0CYBcvU5UkCik9zf2GVBQF1VoNfLZ0BAVLxhiVXTPUDD1Wu1wJM6QFJyB025jjdAU6Aw5+b/NECYe1uuDfgyQB6bYtVTbTFAPxYSAF1HMEA00pYVm9QuQLolHbMzgC1AntlwirGsLECv+G9SjE4rQJH6ZLBp0ShAsLZQyPd/JkDyjgyf2PwkQLgyNGsrJyRAA13QbJD6I0C8hy0ilI4kQOVTXCEgcSZAovOGvZSGJUBVc/ZmUOIgQOf/6GHAyRlAcE8fAOBSFEDRur1U//gPQGFD9ZbokghAQsqHuSqSA0C91ci3W0UBQCtRQfvz7/4/kh8pntyB+j9t1/n+4TX1P773MAUjFfI/RgzR+CI28T8hBW8WHK7uPzVKjJfU8uk/0FPt4/z65T/wVYqzMPDhPz7K9C5CXuE/8+hSn9hY4T/9PPCkR6rhP1XsIC599OA/66X1nBCX3z/YbRM56QjcPz4dkSQc/dM/S7Wb8Fq00T+/yQdmX0vcP7TrGf476eM/WqNPJoWO7D9qOH1bcwDzP2bw+R5DQ/Y/RLSuQOQp+D8+aif8yAz5P0Wv6eBKRfk/0i2+IN4R+T/ik8QNFZr4PyS5UD5j/Pc/yJ68zXRG9z/2CHPL54H2P59SOhwKtPU/npkP8dfg9D8NlmVcdQz0P80ugRvuOvM/byxiAHN18j9USVZie8nxP5l9lNXYSPE/OB+F0UYP8T8Y7dsUCTHxP3EBgTHPcPE/bfx15p8S8T8FT+xkGtTuP6mdG7rkxuk/pboqTkHX5D/CrN8qGYngP7R4ZaL+htU/\",\"dtype\":\"float64\",\"shape\":[75]},\"y\":{\"__ndarray__\":\"GhExyth1ND/Sv8nbtpRIP2vylNV0PVE/aTum7souWD/At0SJ8fVgPw3Iuahxymc/MSNhhJWvcD/bTfBN02d3P2zb5nxnaoA/CD5h5MAGhz8NmeH1TyaQP+zrCsc9p5Y/LbKd76fGnz/bLW5ISEmmPww9YvTcQq8/JV2OstnstT8Er5Y7M8G+P0c+r3jqkcU/5h99k6ZBzj88bCIzFzjVP4enV8oyxN0//yH99nXg5D8qOpLLf0jtP5kqGJXUifQ/c9cS8kHP/D+/DpwzojQEQIEmwoanVwxA4lgXt9HgE0BSSZ2AJuIbQAMJih9jjiNA5q4l5INuK0AwTKYKRj0zQNv5fmq8/DpAaCJseHrtQkB/+zpwzoxKQM3MzMzMeFJAZmZmZmZqWEAAAAAAAFxeQM3MzMzMJmJAmpmZmZkfZUBmZmZmZhhoQDMzMzMzEWtAAAAAAAAKbkBmZmZmZoFwQM3MzMzM/XFAMzMzMzN6c0CamZmZmfZ0QAAAAAAAc3ZAZmZmZmbvd0DNzMzMzGt5QDMzMzMz6HpAmpmZmZlkfEAAAAAAAOF9QGZmZmZmXX9AZmZmZuZsgECamZmZGSuBQM3MzMxM6YFAAAAAAICngkAzMzMzs2WDQGZmZmbmI4RAmpmZmRnihEDNzMzMTKCFQAAAAACAXoZAMzMzM7Mch0BmZmZm5tqHQJqZmZkZmYhAzczMzExXiUAAAAAAgBWKQDMzMzOz04pAZmZmZuaRi0CamZmZGVCMQM3MzMxMDo1AAAAAAIDMjUAzMzMzs4qOQGZmZmbmSI9A\",\"dtype\":\"float64\",\"shape\":[75]}},\"selected\":{\"id\":\"dc869853-1c1b-4d2d-8cbb-78d43540e3e1\",\"type\":\"Selection\"},\"selection_policy\":{\"id\":\"2eb80fbe-731b-4a1f-9b80-3cc056984f1b\",\"type\":\"UnionRenderers\"}},\"id\":\"309f0100-5868-47a5-be1a-7ac30a5460da\",\"type\":\"ColumnDataSource\"},{\"attributes\":{},\"id\":\"e88513b3-4505-4f0a-b7a3-6028ab25042d\",\"type\":\"BasicTicker\"},{\"attributes\":{\"active_drag\":\"auto\",\"active_inspect\":\"auto\",\"active_scroll\":\"auto\",\"active_tap\":\"auto\",\"tools\":[{\"id\":\"3a853415-dd76-4094-b098-182d4684a5c7\",\"type\":\"PanTool\"},{\"id\":\"577adfcc-0d3f-4716-ac54-df47c3779581\",\"type\":\"WheelZoomTool\"},{\"id\":\"c0b444ac-ec0a-4066-b87d-32699c5e43cd\",\"type\":\"BoxZoomTool\"},{\"id\":\"8c0067bf-f1fa-44ac-8728-89b8883f1641\",\"type\":\"SaveTool\"},{\"id\":\"712ce4b9-2f24-48b3-b374-d38d1c66f12d\",\"type\":\"ResetTool\"},{\"id\":\"9b47c9db-92fa-4db0-8fd6-4d8075eb54e2\",\"type\":\"HelpTool\"}]},\"id\":\"f83244d3-acee-4b46-808c-bae0c37ae9b2\",\"type\":\"Toolbar\"},{\"attributes\":{\"fill_alpha\":{\"value\":0.7},\"fill_color\":{\"value\":\"#4daf4a\"},\"line_alpha\":{\"value\":0.7},\"line_color\":{\"value\":\"#4daf4a\"},\"x\":{\"field\":\"x\"},\"y\":{\"field\":\"y\"}},\"id\":\"d8ba37a4-cfca-4b8b-9b2a-ceaad9446354\",\"type\":\"Circle\"},{\"attributes\":{\"data_source\":{\"id\":\"309f0100-5868-47a5-be1a-7ac30a5460da\",\"type\":\"ColumnDataSource\"},\"glyph\":{\"id\":\"d696f4c3-2f90-438f-8c65-4cfcbde4098b\",\"type\":\"Line\"},\"hover_glyph\":null,\"muted_glyph\":null,\"nonselection_glyph\":{\"id\":\"e40f59fe-de9e-4b54-8975-392a3c7ce61d\",\"type\":\"Line\"},\"selection_glyph\":null,\"view\":{\"id\":\"c669d801-220d-4feb-bf2c-b2951148d0e4\",\"type\":\"CDSView\"}},\"id\":\"bda4b856-70d8-4bb5-a6ac-fe7133e1795e\",\"type\":\"GlyphRenderer\"},{\"attributes\":{},\"id\":\"b3ad76a0-de57-4f67-a699-f4d0cb5b8fd9\",\"type\":\"HelpTool\"},{\"attributes\":{\"active_drag\":\"auto\",\"active_inspect\":\"auto\",\"active_scroll\":\"auto\",\"active_tap\":\"auto\",\"tools\":[{\"id\":\"c0af8752-398b-4a7f-9e10-365b1842e584\",\"type\":\"PanTool\"},{\"id\":\"548fc34c-c5cb-41ff-9090-f8a3032d510c\",\"type\":\"WheelZoomTool\"},{\"id\":\"77cf8375-e6cf-49c3-a527-dba143181a54\",\"type\":\"BoxZoomTool\"},{\"id\":\"bc8b4836-c597-4d61-a5aa-bcde740d883b\",\"type\":\"SaveTool\"},{\"id\":\"4affb52b-2f5f-459c-b9f4-1726d8507d47\",\"type\":\"ResetTool\"},{\"id\":\"18cb6b2f-93b5-49e4-9230-21bfdc56bd12\",\"type\":\"HelpTool\"}]},\"id\":\"1931a9ed-8cdc-40f5-981e-f12d5bcb522d\",\"type\":\"Toolbar\"},{\"attributes\":{},\"id\":\"371e8aec-7600-4f01-bde0-bd171ba90b4f\",\"type\":\"LogScale\"},{\"attributes\":{\"overlay\":{\"id\":\"7e6af263-c44f-4087-b702-8dda51254932\",\"type\":\"BoxAnnotation\"}},\"id\":\"77cf8375-e6cf-49c3-a527-dba143181a54\",\"type\":\"BoxZoomTool\"},{\"attributes\":{},\"id\":\"0a0ee124-b677-4ea6-8446-02828d46e3b1\",\"type\":\"UnionRenderers\"},{\"attributes\":{\"dimension\":1,\"plot\":{\"id\":\"00e8f7c7-7b37-4a2a-9a78-c1931c86f378\",\"subtype\":\"Figure\",\"type\":\"Plot\"},\"ticker\":{\"id\":\"ffeae612-a527-451e-b874-319cc29181e7\",\"type\":\"LogTicker\"}},\"id\":\"9d16b0d9-9d1d-4e13-8717-8eac5d3c6c97\",\"type\":\"Grid\"},{\"attributes\":{},\"id\":\"3b2045a3-4c5d-496c-ad91-3a8a526c34ac\",\"type\":\"LinearScale\"},{\"attributes\":{\"fill_alpha\":{\"value\":0.7},\"fill_color\":{\"value\":\"#4daf4a\"},\"line_alpha\":{\"value\":0.7},\"line_color\":{\"value\":\"#4daf4a\"},\"x\":{\"field\":\"x\"},\"y\":{\"field\":\"y\"}},\"id\":\"5b1d591c-e43e-4cf4-a39e-caa6cd5d2916\",\"type\":\"Circle\"},{\"attributes\":{\"fill_alpha\":{\"value\":0.1},\"fill_color\":{\"value\":\"#1f77b4\"},\"line_alpha\":{\"value\":0.1},\"line_color\":{\"value\":\"#1f77b4\"},\"x\":{\"field\":\"x\"},\"y\":{\"field\":\"y\"}},\"id\":\"27d73231-3f6a-4862-b73e-24e1d4b50efb\",\"type\":\"Circle\"},{\"attributes\":{\"bottom_units\":\"screen\",\"fill_alpha\":{\"value\":0.5},\"fill_color\":{\"value\":\"lightgrey\"},\"left_units\":\"screen\",\"level\":\"overlay\",\"line_alpha\":{\"value\":1.0},\"line_color\":{\"value\":\"black\"},\"line_dash\":[4,4],\"line_width\":{\"value\":2},\"plot\":null,\"render_mode\":\"css\",\"right_units\":\"screen\",\"top_units\":\"screen\"},\"id\":\"7e6af263-c44f-4087-b702-8dda51254932\",\"type\":\"BoxAnnotation\"},{\"attributes\":{\"axis_label\":\"cooling rate [K/day]\",\"formatter\":{\"id\":\"e15e5089-5b02-4af6-b275-b702267453be\",\"type\":\"BasicTickFormatter\"},\"plot\":{\"id\":\"00e8f7c7-7b37-4a2a-9a78-c1931c86f378\",\"subtype\":\"Figure\",\"type\":\"Plot\"},\"ticker\":{\"id\":\"4f59c9f5-4f39-43c9-a8d1-7cad8881932c\",\"type\":\"BasicTicker\"}},\"id\":\"7becff4b-e6ab-42eb-bb0b-09f9686eedf1\",\"type\":\"LinearAxis\"},{\"attributes\":{\"data_source\":{\"id\":\"d7d38c14-81d9-4b3b-8b2a-27ad0bcdd7e2\",\"type\":\"ColumnDataSource\"},\"glyph\":{\"id\":\"5b1d591c-e43e-4cf4-a39e-caa6cd5d2916\",\"type\":\"Circle\"},\"hover_glyph\":null,\"muted_glyph\":null,\"nonselection_glyph\":{\"id\":\"34b3cbb9-c5ea-462a-8bc2-f40b4f516806\",\"type\":\"Circle\"},\"selection_glyph\":null,\"view\":{\"id\":\"d17041f4-cb14-4302-bf39-66cb236d06ff\",\"type\":\"CDSView\"}},\"id\":\"380fb246-5cb2-489c-ac06-0232def4324e\",\"type\":\"GlyphRenderer\"},{\"attributes\":{\"callback\":null,\"data\":{\"x\":{\"__ndarray__\":\"WkFRyr/dQ8CRlwfHt/IYwF2QCiFMnQPAqy2iMosv8j8DS5sdNaULQAkUiyFB5A9AGfFM7X3WBkCFn1B4A23rP7C/A0AvYu2/xqkfY4BG+r/4jJMGDfnzv3qYMuDWM9S/XbUlpoX94D9dkDo8/kTvP78aXy08ce0/ajLOs1oU2j+KAjLBGl/Pv6+Vj7nNseS/K8mtuRGv5L+6QESqIcfYvwBQUmynHLy/zNBm4US8uj/YDTP/iPHFP3ykVMjLAK+/I1/xZ06Sx79JGjGwEbOOP61/bMNXeNQ/ZZT56qUE1T8b4B2TSBjEP7Xf0GJPPLQ/gsmtVWe2yj8cNUsLGEfSP7nRMHHC5Mk/Ucu5eVaJtD93r0mbJ0O7PyCuhJm/v8k/+qQHH5xtyD9NNqrN2ozAP7wdFV+hfrY/XL0tjCKTtz9YW50tmGi7P6FgeOe4cL4/ZCmjcz30wD/xcgVSt4fDP6HRrqFQ48Y/YnVNzJxYG0BT3sTN3U4UQCM5yxPJv82/s12PVeNHFkAtuu5kiBblv7IMpLO9uyNAHtOCSR+/KMAVOdYEvMb8v7cdGCsF5vq/0zvNi6sS+b9ZoxMLOUD3v7JAo2PvdvW/dLQA+ru6879nQ2LpIRnyv6N45dcnkfC/g4Ql8GBq7r/tH8Nor+3rv1ceX2Wmsem/aaHGwB+W5787hIzx8Xrlv1i4LYybG+O/ZmFcZX7tI0Dwjk4EioT7P+8NX1FT3O2/DnQnt3FM+j8EQwu8G7Pnv0p75m+UuOS/ewOU/sJt4r9BFXBAhobgv0s0DVBR5d2/\",\"dtype\":\"float64\",\"shape\":[75]},\"y\":{\"__ndarray__\":\"GhExyth1ND/Sv8nbtpRIP2vylNV0PVE/aTum7souWD/At0SJ8fVgPw3Iuahxymc/MSNhhJWvcD/bTfBN02d3P2zb5nxnaoA/CD5h5MAGhz8NmeH1TyaQP+zrCsc9p5Y/LbKd76fGnz/bLW5ISEmmPww9YvTcQq8/JV2OstnstT8Er5Y7M8G+P0c+r3jqkcU/5h99k6ZBzj88bCIzFzjVP4enV8oyxN0//yH99nXg5D8qOpLLf0jtP5kqGJXUifQ/c9cS8kHP/D+/DpwzojQEQIEmwoanVwxA4lgXt9HgE0BSSZ2AJuIbQAMJih9jjiNA5q4l5INuK0AwTKYKRj0zQNv5fmq8/DpAaCJseHrtQkB/+zpwzoxKQM3MzMzMeFJAZmZmZmZqWEAAAAAAAFxeQM3MzMzMJmJAmpmZmZkfZUBmZmZmZhhoQDMzMzMzEWtAAAAAAAAKbkBmZmZmZoFwQM3MzMzM/XFAMzMzMzN6c0CamZmZmfZ0QAAAAAAAc3ZAZmZmZmbvd0DNzMzMzGt5QDMzMzMz6HpAmpmZmZlkfEAAAAAAAOF9QGZmZmZmXX9AZmZmZuZsgECamZmZGSuBQM3MzMxM6YFAAAAAAICngkAzMzMzs2WDQGZmZmbmI4RAmpmZmRnihEDNzMzMTKCFQAAAAACAXoZAMzMzM7Mch0BmZmZm5tqHQJqZmZkZmYhAzczMzExXiUAAAAAAgBWKQDMzMzOz04pAZmZmZuaRi0CamZmZGVCMQM3MzMxMDo1AAAAAAIDMjUAzMzMzs4qOQGZmZmbmSI9A\",\"dtype\":\"float64\",\"shape\":[75]}},\"selected\":{\"id\":\"310c7414-c09e-4272-8512-e92b07a753f2\",\"type\":\"Selection\"},\"selection_policy\":{\"id\":\"faf91ebe-b13b-4032-a8a0-aa72ebbd0ff5\",\"type\":\"UnionRenderers\"}},\"id\":\"df66a663-02e3-4e86-9045-62d003e193c5\",\"type\":\"ColumnDataSource\"},{\"attributes\":{\"data_source\":{\"id\":\"63d566c8-f532-4134-90c8-95e35eb8a928\",\"type\":\"ColumnDataSource\"},\"glyph\":{\"id\":\"251f19e9-c756-4984-9267-4531c356558d\",\"type\":\"Line\"},\"hover_glyph\":null,\"muted_glyph\":null,\"nonselection_glyph\":{\"id\":\"fd4d751f-290d-49b2-97d2-ba4256a98a7a\",\"type\":\"Line\"},\"selection_glyph\":null,\"view\":{\"id\":\"0560d67e-3b52-4625-94ee-6ab913e4b24c\",\"type\":\"CDSView\"}},\"id\":\"14c35666-f9e9-47c5-93e9-fac566f88e4e\",\"type\":\"GlyphRenderer\"},{\"attributes\":{},\"id\":\"548fc34c-c5cb-41ff-9090-f8a3032d510c\",\"type\":\"WheelZoomTool\"},{\"attributes\":{},\"id\":\"c69b9e20-43a3-4a83-8b07-28ea04815c8d\",\"type\":\"LogScale\"},{\"attributes\":{\"axis_label\":\"pressure [mb]\",\"formatter\":{\"id\":\"2eb7b5b9-3495-4f2a-a886-33b8504a1738\",\"type\":\"LogTickFormatter\"},\"plot\":{\"id\":\"00e8f7c7-7b37-4a2a-9a78-c1931c86f378\",\"subtype\":\"Figure\",\"type\":\"Plot\"},\"ticker\":{\"id\":\"ffeae612-a527-451e-b874-319cc29181e7\",\"type\":\"LogTicker\"}},\"id\":\"db47ae3a-bab5-46c5-9c28-9581621f6c09\",\"type\":\"LogAxis\"},{\"attributes\":{},\"id\":\"4affb52b-2f5f-459c-b9f4-1726d8507d47\",\"type\":\"ResetTool\"},{\"attributes\":{\"source\":{\"id\":\"63d566c8-f532-4134-90c8-95e35eb8a928\",\"type\":\"ColumnDataSource\"}},\"id\":\"0560d67e-3b52-4625-94ee-6ab913e4b24c\",\"type\":\"CDSView\"},{\"attributes\":{\"line_alpha\":0.1,\"line_color\":\"#1f77b4\",\"line_width\":1.5,\"x\":{\"field\":\"x\"},\"y\":{\"field\":\"y\"}},\"id\":\"fd4d751f-290d-49b2-97d2-ba4256a98a7a\",\"type\":\"Line\"},{\"attributes\":{\"num_minor_ticks\":10},\"id\":\"ffeae612-a527-451e-b874-319cc29181e7\",\"type\":\"LogTicker\"},{\"attributes\":{},\"id\":\"3a853415-dd76-4094-b098-182d4684a5c7\",\"type\":\"PanTool\"},{\"attributes\":{\"label\":{\"value\":\"CRD\"},\"renderers\":[{\"id\":\"06248340-1abd-419f-98fc-5fd9defe3d6e\",\"type\":\"GlyphRenderer\"},{\"id\":\"bda4b856-70d8-4bb5-a6ac-fe7133e1795e\",\"type\":\"GlyphRenderer\"}]},\"id\":\"eef68033-3b8f-4272-9e87-d9a813deb38b\",\"type\":\"LegendItem\"},{\"attributes\":{\"data_source\":{\"id\":\"97c02296-9b4e-4ad6-a578-d1345fdd8dfc\",\"type\":\"ColumnDataSource\"},\"glyph\":{\"id\":\"d4b5df63-993a-4425-acfe-295261a202a1\",\"type\":\"Line\"},\"hover_glyph\":null,\"muted_glyph\":null,\"nonselection_glyph\":{\"id\":\"69f7a5a0-38eb-4d6d-b8ba-a982dd936aea\",\"type\":\"Line\"},\"selection_glyph\":null,\"view\":{\"id\":\"c82ba357-bc62-4da7-a779-87dafba3e900\",\"type\":\"CDSView\"}},\"id\":\"9b6bbad0-8261-47a7-8927-7657f214c7cc\",\"type\":\"GlyphRenderer\"},{\"attributes\":{\"axis_label\":\"cooling rate [K/day]\",\"formatter\":{\"id\":\"f96fd42f-716d-4d27-aef7-9a0016dcbebc\",\"type\":\"BasicTickFormatter\"},\"plot\":{\"id\":\"1fed8ace-b48c-4d9d-8888-771ceaebe60e\",\"subtype\":\"Figure\",\"type\":\"Plot\"},\"ticker\":{\"id\":\"3fb8dc41-974b-4a82-87c0-6bf515b963f9\",\"type\":\"BasicTicker\"}},\"id\":\"35d0065a-aac8-4b35-8c09-61723d70ba04\",\"type\":\"LinearAxis\"},{\"attributes\":{},\"id\":\"18cb6b2f-93b5-49e4-9230-21bfdc56bd12\",\"type\":\"HelpTool\"},{\"attributes\":{\"line_color\":\"#4daf4a\",\"line_width\":1.5,\"x\":{\"field\":\"x\"},\"y\":{\"field\":\"y\"}},\"id\":\"251f19e9-c756-4984-9267-4531c356558d\",\"type\":\"Line\"},{\"attributes\":{},\"id\":\"bc8b4836-c597-4d61-a5aa-bcde740d883b\",\"type\":\"SaveTool\"},{\"attributes\":{\"axis_label\":\"pressure [mb]\",\"formatter\":{\"id\":\"0d9d4af4-a4e1-44ae-a296-87018b800aef\",\"type\":\"LogTickFormatter\"},\"plot\":{\"id\":\"1fed8ace-b48c-4d9d-8888-771ceaebe60e\",\"subtype\":\"Figure\",\"type\":\"Plot\"},\"ticker\":{\"id\":\"6223288d-9ee1-4648-b8e8-eaa8e0cfe3ec\",\"type\":\"LogTicker\"}},\"id\":\"238ffb73-25c9-42c3-9edc-094b085b7522\",\"type\":\"LogAxis\"},{\"attributes\":{},\"id\":\"c0af8752-398b-4a7f-9e10-365b1842e584\",\"type\":\"PanTool\"},{\"attributes\":{\"bottom_units\":\"screen\",\"fill_alpha\":{\"value\":0.5},\"fill_color\":{\"value\":\"lightgrey\"},\"left_units\":\"screen\",\"level\":\"overlay\",\"line_alpha\":{\"value\":1.0},\"line_color\":{\"value\":\"black\"},\"line_dash\":[4,4],\"line_width\":{\"value\":2},\"plot\":null,\"render_mode\":\"css\",\"right_units\":\"screen\",\"top_units\":\"screen\"},\"id\":\"dcbf1309-ad77-443f-9591-25962a9ad854\",\"type\":\"BoxAnnotation\"},{\"attributes\":{},\"id\":\"712ce4b9-2f24-48b3-b374-d38d1c66f12d\",\"type\":\"ResetTool\"},{\"attributes\":{},\"id\":\"4f59c9f5-4f39-43c9-a8d1-7cad8881932c\",\"type\":\"BasicTicker\"},{\"attributes\":{\"fill_alpha\":{\"value\":0.7},\"fill_color\":{\"value\":\"#984ea3\"},\"line_alpha\":{\"value\":0.7},\"line_color\":{\"value\":\"#984ea3\"},\"x\":{\"field\":\"x\"},\"y\":{\"field\":\"y\"}},\"id\":\"0777d555-6e73-4896-aefd-69682ac290c5\",\"type\":\"Circle\"},{\"attributes\":{\"items\":[{\"id\":\"f4cd902d-9629-4e2b-acbb-1464a2c78dc0\",\"type\":\"LegendItem\"},{\"id\":\"2a891074-d86e-4344-9827-f247950b046e\",\"type\":\"LegendItem\"}],\"label_text_font_size\":{\"value\":\"8pt\"},\"location\":\"top_center\",\"orientation\":\"horizontal\",\"plot\":{\"id\":\"00e8f7c7-7b37-4a2a-9a78-c1931c86f378\",\"subtype\":\"Figure\",\"type\":\"Plot\"}},\"id\":\"0272bb73-f86c-46f6-bc56-34820caf3706\",\"type\":\"Legend\"},{\"attributes\":{\"callback\":null,\"data\":{\"x\":{\"__ndarray__\":\"0CYBcvU5UkCik9zf2GVBQF1VoNfLZ0BAVLxhiVXTPUDD1Wu1wJM6QFJyB025jjdAU6Aw5+b/NECYe1uuDfgyQB6bYtVTbTFAPxYSAF1HMEA00pYVm9QuQLolHbMzgC1AntlwirGsLECv+G9SjE4rQJH6ZLBp0ShAsLZQyPd/JkDyjgyf2PwkQLgyNGsrJyRAA13QbJD6I0C8hy0ilI4kQOVTXCEgcSZAovOGvZSGJUBVc/ZmUOIgQOf/6GHAyRlAcE8fAOBSFEDRur1U//gPQGFD9ZbokghAQsqHuSqSA0C91ci3W0UBQCtRQfvz7/4/kh8pntyB+j9t1/n+4TX1P773MAUjFfI/RgzR+CI28T8hBW8WHK7uPzVKjJfU8uk/0FPt4/z65T/wVYqzMPDhPz7K9C5CXuE/8+hSn9hY4T/9PPCkR6rhP1XsIC599OA/66X1nBCX3z/YbRM56QjcPz4dkSQc/dM/S7Wb8Fq00T+/yQdmX0vcP7TrGf476eM/WqNPJoWO7D9qOH1bcwDzP2bw+R5DQ/Y/RLSuQOQp+D8+aif8yAz5P0Wv6eBKRfk/0i2+IN4R+T/ik8QNFZr4PyS5UD5j/Pc/yJ68zXRG9z/2CHPL54H2P59SOhwKtPU/npkP8dfg9D8NlmVcdQz0P80ugRvuOvM/byxiAHN18j9USVZie8nxP5l9lNXYSPE/OB+F0UYP8T8Y7dsUCTHxP3EBgTHPcPE/bfx15p8S8T8FT+xkGtTuP6mdG7rkxuk/pboqTkHX5D/CrN8qGYngP7R4ZaL+htU/\",\"dtype\":\"float64\",\"shape\":[75]},\"y\":{\"__ndarray__\":\"GhExyth1ND/Sv8nbtpRIP2vylNV0PVE/aTum7souWD/At0SJ8fVgPw3Iuahxymc/MSNhhJWvcD/bTfBN02d3P2zb5nxnaoA/CD5h5MAGhz8NmeH1TyaQP+zrCsc9p5Y/LbKd76fGnz/bLW5ISEmmPww9YvTcQq8/JV2OstnstT8Er5Y7M8G+P0c+r3jqkcU/5h99k6ZBzj88bCIzFzjVP4enV8oyxN0//yH99nXg5D8qOpLLf0jtP5kqGJXUifQ/c9cS8kHP/D+/DpwzojQEQIEmwoanVwxA4lgXt9HgE0BSSZ2AJuIbQAMJih9jjiNA5q4l5INuK0AwTKYKRj0zQNv5fmq8/DpAaCJseHrtQkB/+zpwzoxKQM3MzMzMeFJAZmZmZmZqWEAAAAAAAFxeQM3MzMzMJmJAmpmZmZkfZUBmZmZmZhhoQDMzMzMzEWtAAAAAAAAKbkBmZmZmZoFwQM3MzMzM/XFAMzMzMzN6c0CamZmZmfZ0QAAAAAAAc3ZAZmZmZmbvd0DNzMzMzGt5QDMzMzMz6HpAmpmZmZlkfEAAAAAAAOF9QGZmZmZmXX9AZmZmZuZsgECamZmZGSuBQM3MzMxM6YFAAAAAAICngkAzMzMzs2WDQGZmZmbmI4RAmpmZmRnihEDNzMzMTKCFQAAAAACAXoZAMzMzM7Mch0BmZmZm5tqHQJqZmZkZmYhAzczMzExXiUAAAAAAgBWKQDMzMzOz04pAZmZmZuaRi0CamZmZGVCMQM3MzMxMDo1AAAAAAIDMjUAzMzMzs4qOQGZmZmbmSI9A\",\"dtype\":\"float64\",\"shape\":[75]}},\"selected\":{\"id\":\"c1c89859-a8e5-4027-884d-e611342054a6\",\"type\":\"Selection\"},\"selection_policy\":{\"id\":\"540379fc-5ed3-4cea-a7b8-ee27fe828087\",\"type\":\"UnionRenderers\"}},\"id\":\"d7d38c14-81d9-4b3b-8b2a-27ad0bcdd7e2\",\"type\":\"ColumnDataSource\"},{\"attributes\":{\"num_minor_ticks\":10},\"id\":\"6223288d-9ee1-4648-b8e8-eaa8e0cfe3ec\",\"type\":\"LogTicker\"},{\"attributes\":{},\"id\":\"0a595343-2bec-44a9-bfcd-7b57e088a3d5\",\"type\":\"Selection\"},{\"attributes\":{},\"id\":\"9b47c9db-92fa-4db0-8fd6-4d8075eb54e2\",\"type\":\"HelpTool\"},{\"attributes\":{\"callback\":null,\"end\":16.436129494999037,\"start\":0.38472880768496},\"id\":\"d45bb639-88a7-42e2-98b9-d688113059d1\",\"type\":\"Range1d\"},{\"attributes\":{\"fill_alpha\":{\"value\":0.1},\"fill_color\":{\"value\":\"#1f77b4\"},\"line_alpha\":{\"value\":0.1},\"line_color\":{\"value\":\"#1f77b4\"},\"x\":{\"field\":\"x\"},\"y\":{\"field\":\"y\"}},\"id\":\"34b3cbb9-c5ea-462a-8bc2-f40b4f516806\",\"type\":\"Circle\"},{\"attributes\":{},\"id\":\"3fb8dc41-974b-4a82-87c0-6bf515b963f9\",\"type\":\"BasicTicker\"},{\"attributes\":{\"data_source\":{\"id\":\"df66a663-02e3-4e86-9045-62d003e193c5\",\"type\":\"ColumnDataSource\"},\"glyph\":{\"id\":\"0777d555-6e73-4896-aefd-69682ac290c5\",\"type\":\"Circle\"},\"hover_glyph\":null,\"muted_glyph\":null,\"nonselection_glyph\":{\"id\":\"27d73231-3f6a-4862-b73e-24e1d4b50efb\",\"type\":\"Circle\"},\"selection_glyph\":null,\"view\":{\"id\":\"99cc3aa1-23f5-4dbb-b33e-a47ee80ef431\",\"type\":\"CDSView\"}},\"id\":\"5798ed3d-e8e1-4118-8f2d-5cda3afebc7c\",\"type\":\"GlyphRenderer\"},{\"attributes\":{},\"id\":\"577adfcc-0d3f-4716-ac54-df47c3779581\",\"type\":\"WheelZoomTool\"},{\"attributes\":{\"source\":{\"id\":\"97c02296-9b4e-4ad6-a578-d1345fdd8dfc\",\"type\":\"ColumnDataSource\"}},\"id\":\"c82ba357-bc62-4da7-a779-87dafba3e900\",\"type\":\"CDSView\"},{\"attributes\":{\"callback\":null,\"data\":{\"x\":{\"__ndarray__\":\"0CYBcvU5UkCik9zf2GVBQF1VoNfLZ0BAVLxhiVXTPUDD1Wu1wJM6QFJyB025jjdAU6Aw5+b/NECYe1uuDfgyQB6bYtVTbTFAPxYSAF1HMEA00pYVm9QuQLolHbMzgC1AntlwirGsLECv+G9SjE4rQJH6ZLBp0ShAsLZQyPd/JkDyjgyf2PwkQLgyNGsrJyRAA13QbJD6I0C8hy0ilI4kQOVTXCEgcSZAovOGvZSGJUBVc/ZmUOIgQOf/6GHAyRlAcE8fAOBSFEDRur1U//gPQGFD9ZbokghAQsqHuSqSA0C91ci3W0UBQCtRQfvz7/4/kh8pntyB+j9t1/n+4TX1P773MAUjFfI/RgzR+CI28T8hBW8WHK7uPzVKjJfU8uk/0FPt4/z65T/wVYqzMPDhPz7K9C5CXuE/8+hSn9hY4T/9PPCkR6rhP1XsIC599OA/66X1nBCX3z/YbRM56QjcPz4dkSQc/dM/S7Wb8Fq00T+/yQdmX0vcP7TrGf476eM/WqNPJoWO7D9qOH1bcwDzP2bw+R5DQ/Y/RLSuQOQp+D8+aif8yAz5P0Wv6eBKRfk/0i2+IN4R+T/ik8QNFZr4PyS5UD5j/Pc/yJ68zXRG9z/2CHPL54H2P59SOhwKtPU/npkP8dfg9D8NlmVcdQz0P80ugRvuOvM/byxiAHN18j9USVZie8nxP5l9lNXYSPE/OB+F0UYP8T8Y7dsUCTHxP3EBgTHPcPE/bfx15p8S8T8FT+xkGtTuP6mdG7rkxuk/pboqTkHX5D/CrN8qGYngP7R4ZaL+htU/\",\"dtype\":\"float64\",\"shape\":[75]},\"y\":{\"__ndarray__\":\"GhExyth1ND/Sv8nbtpRIP2vylNV0PVE/aTum7souWD/At0SJ8fVgPw3Iuahxymc/MSNhhJWvcD/bTfBN02d3P2zb5nxnaoA/CD5h5MAGhz8NmeH1TyaQP+zrCsc9p5Y/LbKd76fGnz/bLW5ISEmmPww9YvTcQq8/JV2OstnstT8Er5Y7M8G+P0c+r3jqkcU/5h99k6ZBzj88bCIzFzjVP4enV8oyxN0//yH99nXg5D8qOpLLf0jtP5kqGJXUifQ/c9cS8kHP/D+/DpwzojQEQIEmwoanVwxA4lgXt9HgE0BSSZ2AJuIbQAMJih9jjiNA5q4l5INuK0AwTKYKRj0zQNv5fmq8/DpAaCJseHrtQkB/+zpwzoxKQM3MzMzMeFJAZmZmZmZqWEAAAAAAAFxeQM3MzMzMJmJAmpmZmZkfZUBmZmZmZhhoQDMzMzMzEWtAAAAAAAAKbkBmZmZmZoFwQM3MzMzM/XFAMzMzMzN6c0CamZmZmfZ0QAAAAAAAc3ZAZmZmZmbvd0DNzMzMzGt5QDMzMzMz6HpAmpmZmZlkfEAAAAAAAOF9QGZmZmZmXX9AZmZmZuZsgECamZmZGSuBQM3MzMxM6YFAAAAAAICngkAzMzMzs2WDQGZmZmbmI4RAmpmZmRnihEDNzMzMTKCFQAAAAACAXoZAMzMzM7Mch0BmZmZm5tqHQJqZmZkZmYhAzczMzExXiUAAAAAAgBWKQDMzMzOz04pAZmZmZuaRi0CamZmZGVCMQM3MzMxMDo1AAAAAAIDMjUAzMzMzs4qOQGZmZmbmSI9A\",\"dtype\":\"float64\",\"shape\":[75]}},\"selected\":{\"id\":\"64e0460a-c387-4ad3-926a-6028cdb87326\",\"type\":\"Selection\"},\"selection_policy\":{\"id\":\"6d8ad2b3-90cc-4a5f-a84f-b488dc01637c\",\"type\":\"UnionRenderers\"}},\"id\":\"63d566c8-f532-4134-90c8-95e35eb8a928\",\"type\":\"ColumnDataSource\"},{\"attributes\":{},\"id\":\"8c0067bf-f1fa-44ac-8728-89b8883f1641\",\"type\":\"SaveTool\"},{\"attributes\":{\"dimension\":1,\"plot\":{\"id\":\"1fed8ace-b48c-4d9d-8888-771ceaebe60e\",\"subtype\":\"Figure\",\"type\":\"Plot\"},\"ticker\":{\"id\":\"6223288d-9ee1-4648-b8e8-eaa8e0cfe3ec\",\"type\":\"LogTicker\"}},\"id\":\"f3124642-76d3-47c3-b72c-7f260c8eb59b\",\"type\":\"Grid\"},{\"attributes\":{\"line_alpha\":0.6,\"line_color\":\"#377eb8\",\"line_dash\":[6],\"line_width\":5,\"x\":{\"field\":\"x\"},\"y\":{\"field\":\"y\"}},\"id\":\"d4b5df63-993a-4425-acfe-295261a202a1\",\"type\":\"Line\"},{\"attributes\":{\"plot\":{\"id\":\"00e8f7c7-7b37-4a2a-9a78-c1931c86f378\",\"subtype\":\"Figure\",\"type\":\"Plot\"},\"ticker\":{\"id\":\"4f59c9f5-4f39-43c9-a8d1-7cad8881932c\",\"type\":\"BasicTicker\"}},\"id\":\"400b03de-697f-4863-8665-5bb3620a247c\",\"type\":\"Grid\"},{\"attributes\":{\"plot\":{\"id\":\"1fed8ace-b48c-4d9d-8888-771ceaebe60e\",\"subtype\":\"Figure\",\"type\":\"Plot\"},\"ticker\":{\"id\":\"3fb8dc41-974b-4a82-87c0-6bf515b963f9\",\"type\":\"BasicTicker\"}},\"id\":\"9df7ec5a-3e47-4c8b-8f02-6ff79d4dab6e\",\"type\":\"Grid\"},{\"attributes\":{\"source\":{\"id\":\"d7d38c14-81d9-4b3b-8b2a-27ad0bcdd7e2\",\"type\":\"ColumnDataSource\"}},\"id\":\"d17041f4-cb14-4302-bf39-66cb236d06ff\",\"type\":\"CDSView\"},{\"attributes\":{\"line_alpha\":0.1,\"line_color\":\"#1f77b4\",\"line_dash\":[6],\"line_width\":5,\"x\":{\"field\":\"x\"},\"y\":{\"field\":\"y\"}},\"id\":\"69f7a5a0-38eb-4d6d-b8ba-a982dd936aea\",\"type\":\"Line\"},{\"attributes\":{\"overlay\":{\"id\":\"dcbf1309-ad77-443f-9591-25962a9ad854\",\"type\":\"BoxAnnotation\"}},\"id\":\"c0b444ac-ec0a-4066-b87d-32699c5e43cd\",\"type\":\"BoxZoomTool\"},{\"attributes\":{\"children\":[{\"id\":\"d0e39c50-f1d9-42e6-86b6-c20ea9a4596e\",\"subtype\":\"Figure\",\"type\":\"Plot\"},{\"id\":\"00e8f7c7-7b37-4a2a-9a78-c1931c86f378\",\"subtype\":\"Figure\",\"type\":\"Plot\"},{\"id\":\"1fed8ace-b48c-4d9d-8888-771ceaebe60e\",\"subtype\":\"Figure\",\"type\":\"Plot\"}]},\"id\":\"dd22f3b3-ec3e-4bae-9dcd-1591675e640a\",\"type\":\"Row\"},{\"attributes\":{},\"id\":\"540379fc-5ed3-4cea-a7b8-ee27fe828087\",\"type\":\"UnionRenderers\"},{\"attributes\":{\"children\":[{\"id\":\"dd22f3b3-ec3e-4bae-9dcd-1591675e640a\",\"type\":\"Row\"}]},\"id\":\"5bc1b68e-a2aa-4293-9167-c06e4723a2ae\",\"type\":\"Column\"},{\"attributes\":{},\"id\":\"4af93964-85f7-431c-8684-c7839a5f453c\",\"type\":\"BasicTickFormatter\"},{\"attributes\":{\"plot\":null,\"text\":\"\"},\"id\":\"2a187197-0742-4d19-ae07-c377d49a344f\",\"type\":\"Title\"},{\"attributes\":{},\"id\":\"e15e5089-5b02-4af6-b275-b702267453be\",\"type\":\"BasicTickFormatter\"},{\"attributes\":{},\"id\":\"ac0f0384-0f62-40b0-805c-5343cb5e5481\",\"type\":\"UnionRenderers\"},{\"attributes\":{\"source\":{\"id\":\"df66a663-02e3-4e86-9045-62d003e193c5\",\"type\":\"ColumnDataSource\"}},\"id\":\"99cc3aa1-23f5-4dbb-b33e-a47ee80ef431\",\"type\":\"CDSView\"},{\"attributes\":{},\"id\":\"fa6e399b-404f-4930-b7a9-0a9d272e2740\",\"type\":\"Selection\"},{\"attributes\":{\"label\":{\"value\":\"CLIRAD (single-run) - CRD\"},\"renderers\":[{\"id\":\"5798ed3d-e8e1-4118-8f2d-5cda3afebc7c\",\"type\":\"GlyphRenderer\"},{\"id\":\"93340f02-1cdf-4029-ae63-f29960f9738c\",\"type\":\"GlyphRenderer\"}]},\"id\":\"a0b876a1-3617-45bb-88d8-7e32a78e7ff1\",\"type\":\"LegendItem\"},{\"attributes\":{},\"id\":\"668a5674-9415-4755-a6ed-528a7ec2008c\",\"type\":\"UnionRenderers\"},{\"attributes\":{\"data_source\":{\"id\":\"b5e86dfc-a106-4d40-9fb2-260296069c87\",\"type\":\"ColumnDataSource\"},\"glyph\":{\"id\":\"a079142f-874b-4a03-91ca-bfef1a763ec9\",\"type\":\"Line\"},\"hover_glyph\":null,\"muted_glyph\":null,\"nonselection_glyph\":{\"id\":\"a6a0985d-bb6b-4891-8349-220018a55a21\",\"type\":\"Line\"},\"selection_glyph\":null,\"view\":{\"id\":\"5c62c213-5d7f-4187-b5ea-d65812539637\",\"type\":\"CDSView\"}},\"id\":\"93340f02-1cdf-4029-ae63-f29960f9738c\",\"type\":\"GlyphRenderer\"},{\"attributes\":{},\"id\":\"c1c89859-a8e5-4027-884d-e611342054a6\",\"type\":\"Selection\"},{\"attributes\":{},\"id\":\"36065fbd-2f40-4251-b4da-54d38228254b\",\"type\":\"Selection\"},{\"attributes\":{\"ticker\":null},\"id\":\"0d9d4af4-a4e1-44ae-a296-87018b800aef\",\"type\":\"LogTickFormatter\"},{\"attributes\":{},\"id\":\"86e6cf1c-0a8d-44cb-b5c6-4faf5e88a613\",\"type\":\"BasicTickFormatter\"},{\"attributes\":{\"plot\":null,\"text\":\"\"},\"id\":\"acb5fc82-0e4b-44af-9248-b2bd3b8cb13b\",\"type\":\"Title\"},{\"attributes\":{\"line_alpha\":0.8,\"line_color\":\"#984ea3\",\"line_width\":1.5,\"x\":{\"field\":\"x\"},\"y\":{\"field\":\"y\"}},\"id\":\"a079142f-874b-4a03-91ca-bfef1a763ec9\",\"type\":\"Line\"},{\"attributes\":{},\"id\":\"310c7414-c09e-4272-8512-e92b07a753f2\",\"type\":\"Selection\"},{\"attributes\":{},\"id\":\"20b112cb-b131-4b88-83bf-001e6003552f\",\"type\":\"Selection\"},{\"attributes\":{\"line_alpha\":0.1,\"line_color\":\"#1f77b4\",\"line_width\":1.5,\"x\":{\"field\":\"x\"},\"y\":{\"field\":\"y\"}},\"id\":\"a6a0985d-bb6b-4891-8349-220018a55a21\",\"type\":\"Line\"},{\"attributes\":{\"above\":[{\"id\":\"f1b58521-65e0-41aa-913f-f516c9fca2bb\",\"type\":\"Legend\"}],\"below\":[{\"id\":\"ebef245c-a2d4-41b1-b156-5feb7d427dfe\",\"type\":\"LinearAxis\"}],\"left\":[{\"id\":\"e207df05-17bb-496c-aa99-175f03338c43\",\"type\":\"LinearAxis\"}],\"plot_width\":300,\"renderers\":[{\"id\":\"ebef245c-a2d4-41b1-b156-5feb7d427dfe\",\"type\":\"LinearAxis\"},{\"id\":\"9564c9d7-7861-43b9-8ef4-f1aa2c37f933\",\"type\":\"Grid\"},{\"id\":\"e207df05-17bb-496c-aa99-175f03338c43\",\"type\":\"LinearAxis\"},{\"id\":\"16305bd0-24a6-4820-bb92-13896ae50a28\",\"type\":\"Grid\"},{\"id\":\"5e8f7a95-b645-49b5-bcdb-50c25d0c547c\",\"type\":\"BoxAnnotation\"},{\"id\":\"cc0f504e-a9e6-4398-96f2-34536b3c70f6\",\"type\":\"GlyphRenderer\"},{\"id\":\"06248340-1abd-419f-98fc-5fd9defe3d6e\",\"type\":\"GlyphRenderer\"},{\"id\":\"bda4b856-70d8-4bb5-a6ac-fe7133e1795e\",\"type\":\"GlyphRenderer\"},{\"id\":\"f1b58521-65e0-41aa-913f-f516c9fca2bb\",\"type\":\"Legend\"}],\"title\":{\"id\":\"acb5fc82-0e4b-44af-9248-b2bd3b8cb13b\",\"type\":\"Title\"},\"toolbar\":{\"id\":\"4b425ff7-3b89-4dfa-9c46-95cc413fd8ed\",\"type\":\"Toolbar\"},\"toolbar_location\":null,\"x_range\":{\"id\":\"5faf8d43-3a46-47a4-ad1d-b0a54770d804\",\"type\":\"Range1d\"},\"x_scale\":{\"id\":\"85ddcbd1-54a2-4ed1-8d14-f5931ca9c53f\",\"type\":\"LinearScale\"},\"y_range\":{\"id\":\"c2219311-70cd-4741-a742-31ca41c9c43f\",\"type\":\"Range1d\"},\"y_scale\":{\"id\":\"2759b25d-e77f-4a3a-8857-6fb2d702b937\",\"type\":\"LinearScale\"}},\"id\":\"d0e39c50-f1d9-42e6-86b6-c20ea9a4596e\",\"subtype\":\"Figure\",\"type\":\"Plot\"},{\"attributes\":{},\"id\":\"6874aae1-055e-4a3b-a1fa-cb5682713e99\",\"type\":\"UnionRenderers\"},{\"attributes\":{},\"id\":\"2eb80fbe-731b-4a1f-9b80-3cc056984f1b\",\"type\":\"UnionRenderers\"},{\"attributes\":{\"children\":[{\"id\":\"076c4179-9120-4a06-84dd-54198eb0be6b\",\"type\":\"ToolbarBox\"},{\"id\":\"5bc1b68e-a2aa-4293-9167-c06e4723a2ae\",\"type\":\"Column\"}]},\"id\":\"c4e4ca2f-1225-4add-bd8c-f6c932cf8890\",\"type\":\"Column\"},{\"attributes\":{\"source\":{\"id\":\"b5e86dfc-a106-4d40-9fb2-260296069c87\",\"type\":\"ColumnDataSource\"}},\"id\":\"5c62c213-5d7f-4187-b5ea-d65812539637\",\"type\":\"CDSView\"},{\"attributes\":{\"label\":{\"value\":\"CLIRAD (single-run)\"},\"renderers\":[{\"id\":\"cc0f504e-a9e6-4398-96f2-34536b3c70f6\",\"type\":\"GlyphRenderer\"}]},\"id\":\"0065b6cf-f415-490a-befb-2d3a86c23b69\",\"type\":\"LegendItem\"},{\"attributes\":{},\"id\":\"f96fd42f-716d-4d27-aef7-9a0016dcbebc\",\"type\":\"BasicTickFormatter\"},{\"attributes\":{},\"id\":\"faf91ebe-b13b-4032-a8a0-aa72ebbd0ff5\",\"type\":\"UnionRenderers\"},{\"attributes\":{},\"id\":\"64e0460a-c387-4ad3-926a-6028cdb87326\",\"type\":\"Selection\"},{\"attributes\":{\"callback\":null,\"data\":{\"x\":{\"__ndarray__\":\"WkFRyr/dQ8CRlwfHt/IYwF2QCiFMnQPAqy2iMosv8j8DS5sdNaULQAkUiyFB5A9AGfFM7X3WBkCFn1B4A23rP7C/A0AvYu2/xqkfY4BG+r/4jJMGDfnzv3qYMuDWM9S/XbUlpoX94D9dkDo8/kTvP78aXy08ce0/ajLOs1oU2j+KAjLBGl/Pv6+Vj7nNseS/K8mtuRGv5L+6QESqIcfYvwBQUmynHLy/zNBm4US8uj/YDTP/iPHFP3ykVMjLAK+/I1/xZ06Sx79JGjGwEbOOP61/bMNXeNQ/ZZT56qUE1T8b4B2TSBjEP7Xf0GJPPLQ/gsmtVWe2yj8cNUsLGEfSP7nRMHHC5Mk/Ucu5eVaJtD93r0mbJ0O7PyCuhJm/v8k/+qQHH5xtyD9NNqrN2ozAP7wdFV+hfrY/XL0tjCKTtz9YW50tmGi7P6FgeOe4cL4/ZCmjcz30wD/xcgVSt4fDP6HRrqFQ48Y/YnVNzJxYG0BT3sTN3U4UQCM5yxPJv82/s12PVeNHFkAtuu5kiBblv7IMpLO9uyNAHtOCSR+/KMAVOdYEvMb8v7cdGCsF5vq/0zvNi6sS+b9ZoxMLOUD3v7JAo2PvdvW/dLQA+ru6879nQ2LpIRnyv6N45dcnkfC/g4Ql8GBq7r/tH8Nor+3rv1ceX2Wmsem/aaHGwB+W5787hIzx8Xrlv1i4LYybG+O/ZmFcZX7tI0Dwjk4EioT7P+8NX1FT3O2/DnQnt3FM+j8EQwu8G7Pnv0p75m+UuOS/ewOU/sJt4r9BFXBAhobgv0s0DVBR5d2/\",\"dtype\":\"float64\",\"shape\":[75]},\"y\":{\"__ndarray__\":\"GhExyth1ND/Sv8nbtpRIP2vylNV0PVE/aTum7souWD/At0SJ8fVgPw3Iuahxymc/MSNhhJWvcD/bTfBN02d3P2zb5nxnaoA/CD5h5MAGhz8NmeH1TyaQP+zrCsc9p5Y/LbKd76fGnz/bLW5ISEmmPww9YvTcQq8/JV2OstnstT8Er5Y7M8G+P0c+r3jqkcU/5h99k6ZBzj88bCIzFzjVP4enV8oyxN0//yH99nXg5D8qOpLLf0jtP5kqGJXUifQ/c9cS8kHP/D+/DpwzojQEQIEmwoanVwxA4lgXt9HgE0BSSZ2AJuIbQAMJih9jjiNA5q4l5INuK0AwTKYKRj0zQNv5fmq8/DpAaCJseHrtQkB/+zpwzoxKQM3MzMzMeFJAZmZmZmZqWEAAAAAAAFxeQM3MzMzMJmJAmpmZmZkfZUBmZmZmZhhoQDMzMzMzEWtAAAAAAAAKbkBmZmZmZoFwQM3MzMzM/XFAMzMzMzN6c0CamZmZmfZ0QAAAAAAAc3ZAZmZmZmbvd0DNzMzMzGt5QDMzMzMz6HpAmpmZmZlkfEAAAAAAAOF9QGZmZmZmXX9AZmZmZuZsgECamZmZGSuBQM3MzMxM6YFAAAAAAICngkAzMzMzs2WDQGZmZmbmI4RAmpmZmRnihEDNzMzMTKCFQAAAAACAXoZAMzMzM7Mch0BmZmZm5tqHQJqZmZkZmYhAzczMzExXiUAAAAAAgBWKQDMzMzOz04pAZmZmZuaRi0CamZmZGVCMQM3MzMxMDo1AAAAAAIDMjUAzMzMzs4qOQGZmZmbmSI9A\",\"dtype\":\"float64\",\"shape\":[75]}},\"selected\":{\"id\":\"fa6e399b-404f-4930-b7a9-0a9d272e2740\",\"type\":\"Selection\"},\"selection_policy\":{\"id\":\"ac0f0384-0f62-40b0-805c-5343cb5e5481\",\"type\":\"UnionRenderers\"}},\"id\":\"b5e86dfc-a106-4d40-9fb2-260296069c87\",\"type\":\"ColumnDataSource\"},{\"attributes\":{\"tools\":[{\"id\":\"a481a61a-fb0d-40c6-b41e-aa060b44ca56\",\"type\":\"PanTool\"},{\"id\":\"07cb992d-a446-4a9a-abec-cf0287785910\",\"type\":\"WheelZoomTool\"},{\"id\":\"7853c2a9-25a2-495a-b4e5-d6d005c6743a\",\"type\":\"BoxZoomTool\"},{\"id\":\"d5f07df2-521d-40d3-84e5-0fb01590d169\",\"type\":\"SaveTool\"},{\"id\":\"f1b5fd07-906c-4d0d-b3b6-00647419e46f\",\"type\":\"ResetTool\"},{\"id\":\"b3ad76a0-de57-4f67-a699-f4d0cb5b8fd9\",\"type\":\"HelpTool\"},{\"id\":\"c0af8752-398b-4a7f-9e10-365b1842e584\",\"type\":\"PanTool\"},{\"id\":\"548fc34c-c5cb-41ff-9090-f8a3032d510c\",\"type\":\"WheelZoomTool\"},{\"id\":\"77cf8375-e6cf-49c3-a527-dba143181a54\",\"type\":\"BoxZoomTool\"},{\"id\":\"bc8b4836-c597-4d61-a5aa-bcde740d883b\",\"type\":\"SaveTool\"},{\"id\":\"4affb52b-2f5f-459c-b9f4-1726d8507d47\",\"type\":\"ResetTool\"},{\"id\":\"18cb6b2f-93b5-49e4-9230-21bfdc56bd12\",\"type\":\"HelpTool\"},{\"id\":\"3a853415-dd76-4094-b098-182d4684a5c7\",\"type\":\"PanTool\"},{\"id\":\"577adfcc-0d3f-4716-ac54-df47c3779581\",\"type\":\"WheelZoomTool\"},{\"id\":\"c0b444ac-ec0a-4066-b87d-32699c5e43cd\",\"type\":\"BoxZoomTool\"},{\"id\":\"8c0067bf-f1fa-44ac-8728-89b8883f1641\",\"type\":\"SaveTool\"},{\"id\":\"712ce4b9-2f24-48b3-b374-d38d1c66f12d\",\"type\":\"ResetTool\"},{\"id\":\"9b47c9db-92fa-4db0-8fd6-4d8075eb54e2\",\"type\":\"HelpTool\"}]},\"id\":\"b3a53263-e3e1-47fb-be60-de45662a1d25\",\"type\":\"ProxyToolbar\"},{\"attributes\":{\"plot\":null,\"text\":\"\"},\"id\":\"5c2d699c-5081-4442-8be3-37c07b894dcc\",\"type\":\"Title\"},{\"attributes\":{\"toolbar\":{\"id\":\"b3a53263-e3e1-47fb-be60-de45662a1d25\",\"type\":\"ProxyToolbar\"},\"toolbar_location\":\"above\"},\"id\":\"076c4179-9120-4a06-84dd-54198eb0be6b\",\"type\":\"ToolbarBox\"},{\"attributes\":{},\"id\":\"dc869853-1c1b-4d2d-8cbb-78d43540e3e1\",\"type\":\"Selection\"},{\"attributes\":{},\"id\":\"6d8ad2b3-90cc-4a5f-a84f-b488dc01637c\",\"type\":\"UnionRenderers\"},{\"attributes\":{},\"id\":\"a69792b1-8bd1-4b69-8467-5566891ca3cc\",\"type\":\"LinearScale\"},{\"attributes\":{\"above\":[{\"id\":\"f746d826-e865-40ec-b2de-47d518e37231\",\"type\":\"Legend\"}],\"below\":[{\"id\":\"35d0065a-aac8-4b35-8c09-61723d70ba04\",\"type\":\"LinearAxis\"}],\"left\":[{\"id\":\"238ffb73-25c9-42c3-9edc-094b085b7522\",\"type\":\"LogAxis\"}],\"plot_width\":300,\"renderers\":[{\"id\":\"35d0065a-aac8-4b35-8c09-61723d70ba04\",\"type\":\"LinearAxis\"},{\"id\":\"9df7ec5a-3e47-4c8b-8f02-6ff79d4dab6e\",\"type\":\"Grid\"},{\"id\":\"238ffb73-25c9-42c3-9edc-094b085b7522\",\"type\":\"LogAxis\"},{\"id\":\"f3124642-76d3-47c3-b72c-7f260c8eb59b\",\"type\":\"Grid\"},{\"id\":\"dcbf1309-ad77-443f-9591-25962a9ad854\",\"type\":\"BoxAnnotation\"},{\"id\":\"5798ed3d-e8e1-4118-8f2d-5cda3afebc7c\",\"type\":\"GlyphRenderer\"},{\"id\":\"93340f02-1cdf-4029-ae63-f29960f9738c\",\"type\":\"GlyphRenderer\"},{\"id\":\"f746d826-e865-40ec-b2de-47d518e37231\",\"type\":\"Legend\"}],\"title\":{\"id\":\"2a187197-0742-4d19-ae07-c377d49a344f\",\"type\":\"Title\"},\"toolbar\":{\"id\":\"f83244d3-acee-4b46-808c-bae0c37ae9b2\",\"type\":\"Toolbar\"},\"toolbar_location\":null,\"x_range\":{\"id\":\"e4340950-36f6-4b5a-b615-3f00ca9b5a30\",\"type\":\"Range1d\"},\"x_scale\":{\"id\":\"a69792b1-8bd1-4b69-8467-5566891ca3cc\",\"type\":\"LinearScale\"},\"y_range\":{\"id\":\"c90d0dc7-0b8e-4a8e-a656-bb719e9c4b0b\",\"type\":\"Range1d\"},\"y_scale\":{\"id\":\"371e8aec-7600-4f01-bde0-bd171ba90b4f\",\"type\":\"LogScale\"}},\"id\":\"1fed8ace-b48c-4d9d-8888-771ceaebe60e\",\"subtype\":\"Figure\",\"type\":\"Plot\"},{\"attributes\":{\"source\":{\"id\":\"309f0100-5868-47a5-be1a-7ac30a5460da\",\"type\":\"ColumnDataSource\"}},\"id\":\"c669d801-220d-4feb-bf2c-b2951148d0e4\",\"type\":\"CDSView\"}],\"root_ids\":[\"c4e4ca2f-1225-4add-bd8c-f6c932cf8890\"]},\"title\":\"Bokeh Application\",\"version\":\"0.12.16\"}};\n",
       "  var render_items = [{\"docid\":\"d8f9ae61-e8ec-4510-982c-3b7f5610e2e2\",\"elementid\":\"f8aa15a1-a337-4457-ac20-86de901eb2da\",\"modelid\":\"c4e4ca2f-1225-4add-bd8c-f6c932cf8890\"}];\n",
       "  root.Bokeh.embed.embed_items_notebook(docs_json, render_items);\n",
       "\n",
       "  }\n",
       "  if (root.Bokeh !== undefined) {\n",
       "    embed_document(root);\n",
       "  } else {\n",
       "    var attempts = 0;\n",
       "    var timer = setInterval(function(root) {\n",
       "      if (root.Bokeh !== undefined) {\n",
       "        embed_document(root);\n",
       "        clearInterval(timer);\n",
       "      }\n",
       "      attempts++;\n",
       "      if (attempts > 100) {\n",
       "        console.log(\"Bokeh: ERROR: Unable to run BokehJS code because BokehJS library is missing\")\n",
       "        clearInterval(timer);\n",
       "      }\n",
       "    }, 10, root)\n",
       "  }\n",
       "})(window);"
      ],
      "application/vnd.bokehjs_exec.v0+json": ""
     },
     "metadata": {
      "application/vnd.bokehjs_exec.v0+json": {
       "id": "c4e4ca2f-1225-4add-bd8c-f6c932cf8890"
      }
     },
     "output_type": "display_data"
    },
    {
     "data": {
      "text/markdown": [
       "*FIGURE.* Cooling rates & difference."
      ],
      "text/plain": [
       "<IPython.core.display.Markdown object>"
      ]
     },
     "metadata": {},
     "output_type": "display_data"
    },
    {
     "data": {
      "text/html": [
       "<a id=\"Fluxes._saw.\"></a>"
      ],
      "text/plain": [
       "<IPython.core.display.HTML object>"
      ]
     },
     "metadata": {},
     "output_type": "display_data"
    },
    {
     "data": {
      "text/markdown": [
       "# Fluxes. saw."
      ],
      "text/plain": [
       "<IPython.core.display.Markdown object>"
      ]
     },
     "metadata": {},
     "output_type": "display_data"
    },
    {
     "data": {
      "text/html": [
       "\n",
       "<div class=\"bk-root\">\n",
       "    <div class=\"bk-plotdiv\" id=\"40d708cd-6966-4eed-b316-e71e4be9dfc6\"></div>\n",
       "</div>"
      ]
     },
     "metadata": {},
     "output_type": "display_data"
    },
    {
     "data": {
      "application/javascript": [
       "(function(root) {\n",
       "  function embed_document(root) {\n",
       "    \n",
       "  var docs_json = {\"cba0abac-0945-4d09-953b-86c3b640c3de\":{\"roots\":{\"references\":[{\"attributes\":{},\"id\":\"dca0ec95-1fcf-428e-93ac-5006eb5c06ba\",\"type\":\"CategoricalScale\"},{\"attributes\":{\"fill_alpha\":{\"value\":0.1},\"fill_color\":{\"value\":\"#1f77b4\"},\"line_alpha\":{\"value\":0.1},\"line_color\":{\"value\":\"#1f77b4\"},\"top\":{\"field\":\"flux\"},\"width\":{\"value\":0.9},\"x\":{\"field\":\"band\"}},\"id\":\"d23e13e7-d2f6-415d-baff-5857d79a2013\",\"type\":\"VBar\"},{\"attributes\":{\"below\":[{\"id\":\"cb04ca00-414f-469b-b16a-799a20cf61c0\",\"type\":\"CategoricalAxis\"}],\"left\":[{\"id\":\"3746d02e-d4e8-45ce-a86d-879e511c980c\",\"type\":\"LinearAxis\"}],\"plot_height\":300,\"plot_width\":300,\"renderers\":[{\"id\":\"cb04ca00-414f-469b-b16a-799a20cf61c0\",\"type\":\"CategoricalAxis\"},{\"id\":\"c440eb2e-fad6-4b61-a30b-db850e703e71\",\"type\":\"Grid\"},{\"id\":\"3746d02e-d4e8-45ce-a86d-879e511c980c\",\"type\":\"LinearAxis\"},{\"id\":\"3d10013f-2fc3-404d-be22-b5711ab441f4\",\"type\":\"Grid\"},{\"id\":\"84af3b6b-8bd6-42d5-9f00-4cadcc7b872d\",\"type\":\"BoxAnnotation\"},{\"id\":\"2d06e065-0271-4882-97a2-733db0496e92\",\"type\":\"GlyphRenderer\"}],\"title\":{\"id\":\"9c11912e-e283-48aa-8e2e-0317a7a090e1\",\"type\":\"Title\"},\"toolbar\":{\"id\":\"3a4f362e-3d29-42e3-8545-6770a91061d1\",\"type\":\"Toolbar\"},\"toolbar_location\":null,\"x_range\":{\"id\":\"6d39400c-1197-437b-b40d-108a06e31ce9\",\"type\":\"FactorRange\"},\"x_scale\":{\"id\":\"aac305bf-b3ce-42d3-9c73-2182c39df151\",\"type\":\"CategoricalScale\"},\"y_range\":{\"id\":\"1d505e5f-98fc-4b8a-8ec5-709d7ea07a8c\",\"type\":\"DataRange1d\"},\"y_scale\":{\"id\":\"03ed8e55-03b4-4234-82ce-382dc9f67017\",\"type\":\"LinearScale\"}},\"id\":\"703a93c0-fa2c-49a1-9733-dbee2ba48285\",\"subtype\":\"Figure\",\"type\":\"Plot\"},{\"attributes\":{},\"id\":\"2a578702-63ae-4c1c-862d-ab890fc8cc1f\",\"type\":\"CategoricalTicker\"},{\"attributes\":{},\"id\":\"e2db2876-bb3e-4416-8f25-3a5e004e387b\",\"type\":\"LinearScale\"},{\"attributes\":{},\"id\":\"108f472f-3ce5-473c-a29e-fe4f5534fb96\",\"type\":\"WheelZoomTool\"},{\"attributes\":{\"axis_label\":\"flux (W m-2)\",\"formatter\":{\"id\":\"a433ed0b-a0e4-44de-ae50-69d688f85d33\",\"type\":\"BasicTickFormatter\"},\"plot\":{\"id\":\"0a489425-cf1b-4dbd-8fb6-5b01393bc6b2\",\"subtype\":\"Figure\",\"type\":\"Plot\"},\"ticker\":{\"id\":\"988653f1-97c1-450f-aeec-748ff22aefa4\",\"type\":\"BasicTicker\"}},\"id\":\"41bbfa5e-87d7-40d5-8dd1-d098b8fec607\",\"type\":\"LinearAxis\"},{\"attributes\":{\"source\":{\"id\":\"452cb620-c50d-474e-9042-1de5c1256a73\",\"type\":\"ColumnDataSource\"}},\"id\":\"b47d977c-c5b8-466e-aa65-6a077b93338a\",\"type\":\"CDSView\"},{\"attributes\":{\"data_source\":{\"id\":\"452cb620-c50d-474e-9042-1de5c1256a73\",\"type\":\"ColumnDataSource\"},\"glyph\":{\"id\":\"fded7014-675b-4736-a0ce-ab35f5457bd6\",\"type\":\"VBar\"},\"hover_glyph\":null,\"muted_glyph\":null,\"nonselection_glyph\":{\"id\":\"d23e13e7-d2f6-415d-baff-5857d79a2013\",\"type\":\"VBar\"},\"selection_glyph\":null,\"view\":{\"id\":\"b47d977c-c5b8-466e-aa65-6a077b93338a\",\"type\":\"CDSView\"}},\"id\":\"6ee9dc02-e5dd-4760-913a-4f87ac315a3a\",\"type\":\"GlyphRenderer\"},{\"attributes\":{\"axis_label\":\"spectral band\",\"formatter\":{\"id\":\"10c524da-cd29-4b4b-9978-a404e6da8680\",\"type\":\"CategoricalTickFormatter\"},\"plot\":{\"id\":\"0a489425-cf1b-4dbd-8fb6-5b01393bc6b2\",\"subtype\":\"Figure\",\"type\":\"Plot\"},\"ticker\":{\"id\":\"2a578702-63ae-4c1c-862d-ab890fc8cc1f\",\"type\":\"CategoricalTicker\"}},\"id\":\"b4f08d62-1d92-4ac3-ac74-c6d7a3e96d67\",\"type\":\"CategoricalAxis\"},{\"attributes\":{\"fill_color\":{\"value\":\"#1f77b4\"},\"line_color\":{\"value\":\"#1f77b4\"},\"top\":{\"field\":\"flux\"},\"width\":{\"value\":0.9},\"x\":{\"field\":\"band\"}},\"id\":\"fded7014-675b-4736-a0ce-ab35f5457bd6\",\"type\":\"VBar\"},{\"attributes\":{\"plot\":null,\"text\":\"TOA flux. CLIRAD (single-run) - CRD.\"},\"id\":\"ce5b6439-bf01-4ae8-b729-17b9ef8953ed\",\"type\":\"Title\"},{\"attributes\":{\"below\":[{\"id\":\"f5448006-fb76-40b4-9970-bc88c131b21b\",\"type\":\"CategoricalAxis\"}],\"left\":[{\"id\":\"b6b274bf-513d-4901-b9da-2f1537c67148\",\"type\":\"LinearAxis\"}],\"plot_height\":300,\"plot_width\":300,\"renderers\":[{\"id\":\"f5448006-fb76-40b4-9970-bc88c131b21b\",\"type\":\"CategoricalAxis\"},{\"id\":\"3a91f6df-c582-4347-8660-d9dcc8359b31\",\"type\":\"Grid\"},{\"id\":\"b6b274bf-513d-4901-b9da-2f1537c67148\",\"type\":\"LinearAxis\"},{\"id\":\"4919d742-1c84-44ee-bef6-5a5480887110\",\"type\":\"Grid\"},{\"id\":\"5b7f35f2-a6f4-4782-9a97-7f6f8c5db1c2\",\"type\":\"BoxAnnotation\"},{\"id\":\"425c21d9-745b-40c9-9090-91da103efc60\",\"type\":\"GlyphRenderer\"}],\"title\":{\"id\":\"ce5b6439-bf01-4ae8-b729-17b9ef8953ed\",\"type\":\"Title\"},\"toolbar\":{\"id\":\"b41889e2-e9e6-4bed-8506-f2757085621d\",\"type\":\"Toolbar\"},\"toolbar_location\":null,\"x_range\":{\"id\":\"fec337b9-ccc6-44b9-bc03-23004e63ddad\",\"type\":\"FactorRange\"},\"x_scale\":{\"id\":\"f3cbbced-f008-4463-9e78-74504f724a7f\",\"type\":\"CategoricalScale\"},\"y_range\":{\"id\":\"8febd2c0-b68b-4781-8037-00c8b6e614cc\",\"type\":\"DataRange1d\"},\"y_scale\":{\"id\":\"b22bc715-9246-4ec3-8d23-57d3d3fa20f6\",\"type\":\"LinearScale\"}},\"id\":\"6c95c187-f3a0-43c5-9f49-2c54d8510959\",\"subtype\":\"Figure\",\"type\":\"Plot\"},{\"attributes\":{\"active_drag\":\"auto\",\"active_inspect\":\"auto\",\"active_scroll\":\"auto\",\"active_tap\":\"auto\",\"tools\":[{\"id\":\"6a352bfc-a0c9-40d7-a2ad-71691bff111a\",\"type\":\"PanTool\"},{\"id\":\"108f472f-3ce5-473c-a29e-fe4f5534fb96\",\"type\":\"WheelZoomTool\"},{\"id\":\"0bc596e5-b6a2-4f7f-8479-bcd5c3b2d10d\",\"type\":\"BoxZoomTool\"},{\"id\":\"185efef6-f294-43a9-8389-31b4c09c1ee1\",\"type\":\"SaveTool\"},{\"id\":\"f0f757b4-ca37-4c27-9fa4-365f6e086651\",\"type\":\"ResetTool\"},{\"id\":\"2b2e76ee-e315-4066-83d7-f2ac48ae7a69\",\"type\":\"HelpTool\"}]},\"id\":\"82ce7e59-ecdc-401c-bf5a-95001e105632\",\"type\":\"Toolbar\"},{\"attributes\":{\"callback\":null,\"data\":{\"band\":[\"1\",\"2\",\"3\",\"4\",\"5\",\"6\",\"7\",\"8\",\"9\",\"10\",\"11\"],\"flux\":{\"__ndarray__\":\"cJfeQHmm+z+ws0NXfXkBQPAT1t91Cuq/ADXEl9rJ2z9mKkDrTB8QwA+0ZW0RpzDAWGRLweB3HsBmS8Hgu6kPwOB2sFEYjMY/VEF8yKqU/z+AJgqhQRKPPw==\",\"dtype\":\"float64\",\"shape\":[11]}},\"selected\":{\"id\":\"40e4b7f9-1914-42fb-bbf8-8107928cf6d0\",\"type\":\"Selection\"},\"selection_policy\":{\"id\":\"9a7a46fd-9f54-459b-ae47-9aa9d74d1c1f\",\"type\":\"UnionRenderers\"}},\"id\":\"e3561572-d62e-4041-8177-fa773dccee6e\",\"type\":\"ColumnDataSource\"},{\"attributes\":{\"plot\":null,\"text\":\"SFC flux. CLIRAD (single-run) - CRD.\"},\"id\":\"9b7c459e-5b74-4dfd-9067-c7b41aaa6fb3\",\"type\":\"Title\"},{\"attributes\":{\"dimension\":1,\"plot\":{\"id\":\"0a489425-cf1b-4dbd-8fb6-5b01393bc6b2\",\"subtype\":\"Figure\",\"type\":\"Plot\"},\"ticker\":{\"id\":\"988653f1-97c1-450f-aeec-748ff22aefa4\",\"type\":\"BasicTicker\"}},\"id\":\"fe2cdf69-59d2-41b6-8efe-5ebfc2abacce\",\"type\":\"Grid\"},{\"attributes\":{},\"id\":\"5a2f8249-bbb5-4c25-a37b-ec4d6e9f38fe\",\"type\":\"BasicTickFormatter\"},{\"attributes\":{\"overlay\":{\"id\":\"e1ea49ec-bbc1-4b47-8959-84c4569e4ee6\",\"type\":\"BoxAnnotation\"}},\"id\":\"0bc596e5-b6a2-4f7f-8479-bcd5c3b2d10d\",\"type\":\"BoxZoomTool\"},{\"attributes\":{},\"id\":\"54f04528-9590-44dc-9813-f9de7886f0b8\",\"type\":\"CategoricalTickFormatter\"},{\"attributes\":{},\"id\":\"6a352bfc-a0c9-40d7-a2ad-71691bff111a\",\"type\":\"PanTool\"},{\"attributes\":{\"callback\":null,\"data\":{\"band\":[\"1\",\"2\",\"3\",\"4\",\"5\",\"6\",\"7\",\"8\",\"9\",\"10\",\"11\"],\"flux\":{\"__ndarray__\":\"AEDpRe1+Zb/0FADjGQwkQKQ33EduTRlAADaSBOEKuD8AFX30PFIkQHDUwEXdU0BA3uy02mjFKEBqBytnUtEjQGCdCIeDWQpAgBL1gk9zyD8Ad2DnQ6NtPw==\",\"dtype\":\"float64\",\"shape\":[11]}},\"selected\":{\"id\":\"fde8d025-4bf7-4dfa-b0ab-308283576159\",\"type\":\"Selection\"},\"selection_policy\":{\"id\":\"4a8dc59e-cfb2-48e2-a013-ce376917c97f\",\"type\":\"UnionRenderers\"}},\"id\":\"452cb620-c50d-474e-9042-1de5c1256a73\",\"type\":\"ColumnDataSource\"},{\"attributes\":{\"bottom_units\":\"screen\",\"fill_alpha\":{\"value\":0.5},\"fill_color\":{\"value\":\"lightgrey\"},\"left_units\":\"screen\",\"level\":\"overlay\",\"line_alpha\":{\"value\":1.0},\"line_color\":{\"value\":\"black\"},\"line_dash\":[4,4],\"line_width\":{\"value\":2},\"plot\":null,\"render_mode\":\"css\",\"right_units\":\"screen\",\"top_units\":\"screen\"},\"id\":\"e1ea49ec-bbc1-4b47-8959-84c4569e4ee6\",\"type\":\"BoxAnnotation\"},{\"attributes\":{},\"id\":\"988653f1-97c1-450f-aeec-748ff22aefa4\",\"type\":\"BasicTicker\"},{\"attributes\":{\"plot\":{\"id\":\"0a489425-cf1b-4dbd-8fb6-5b01393bc6b2\",\"subtype\":\"Figure\",\"type\":\"Plot\"},\"ticker\":{\"id\":\"2a578702-63ae-4c1c-862d-ab890fc8cc1f\",\"type\":\"CategoricalTicker\"}},\"id\":\"379c33ad-410a-42c5-9873-d7e8cc8cd7bb\",\"type\":\"Grid\"},{\"attributes\":{\"callback\":null,\"factors\":[\"1\",\"2\",\"3\",\"4\",\"5\",\"6\",\"7\",\"8\",\"9\",\"10\",\"11\"]},\"id\":\"f9ccb06e-62b6-4594-94a4-bbd1d8903f18\",\"type\":\"FactorRange\"},{\"attributes\":{\"callback\":null},\"id\":\"d510b77a-e0a8-4371-8d2a-acdc34796912\",\"type\":\"DataRange1d\"},{\"attributes\":{\"callback\":null,\"factors\":[\"1\",\"2\",\"3\",\"4\",\"5\",\"6\",\"7\",\"8\",\"9\",\"10\",\"11\"]},\"id\":\"fec337b9-ccc6-44b9-bc03-23004e63ddad\",\"type\":\"FactorRange\"},{\"attributes\":{},\"id\":\"185efef6-f294-43a9-8389-31b4c09c1ee1\",\"type\":\"SaveTool\"},{\"attributes\":{\"callback\":null,\"data\":{\"band\":[\"1\",\"2\",\"3\",\"4\",\"5\",\"6\",\"7\",\"8\",\"9\",\"10\",\"11\"],\"flux\":{\"__ndarray__\":\"kBK7treb+z/MNczQeGooQPCHn/8eDBZAIBlW8Ubm4D+odoapLYUYQMi44uKoADBAqanAJPASE0CYVek4yM0XQGz0xTlFwgtABvde14pRAUCAbxLeeT2TPw==\",\"dtype\":\"float64\",\"shape\":[11]}},\"selected\":{\"id\":\"14d24c51-eb53-42d0-9a70-f6d311b870a6\",\"type\":\"Selection\"},\"selection_policy\":{\"id\":\"26f3cf45-d6f1-4a06-adcc-a0c06ffca989\",\"type\":\"UnionRenderers\"}},\"id\":\"044aafc1-e771-42f0-ac36-1b4411fb4937\",\"type\":\"ColumnDataSource\"},{\"attributes\":{\"below\":[{\"id\":\"b4f08d62-1d92-4ac3-ac74-c6d7a3e96d67\",\"type\":\"CategoricalAxis\"}],\"left\":[{\"id\":\"41bbfa5e-87d7-40d5-8dd1-d098b8fec607\",\"type\":\"LinearAxis\"}],\"plot_height\":300,\"plot_width\":300,\"renderers\":[{\"id\":\"b4f08d62-1d92-4ac3-ac74-c6d7a3e96d67\",\"type\":\"CategoricalAxis\"},{\"id\":\"379c33ad-410a-42c5-9873-d7e8cc8cd7bb\",\"type\":\"Grid\"},{\"id\":\"41bbfa5e-87d7-40d5-8dd1-d098b8fec607\",\"type\":\"LinearAxis\"},{\"id\":\"fe2cdf69-59d2-41b6-8efe-5ebfc2abacce\",\"type\":\"Grid\"},{\"id\":\"e1ea49ec-bbc1-4b47-8959-84c4569e4ee6\",\"type\":\"BoxAnnotation\"},{\"id\":\"6ee9dc02-e5dd-4760-913a-4f87ac315a3a\",\"type\":\"GlyphRenderer\"}],\"title\":{\"id\":\"9b7c459e-5b74-4dfd-9067-c7b41aaa6fb3\",\"type\":\"Title\"},\"toolbar\":{\"id\":\"82ce7e59-ecdc-401c-bf5a-95001e105632\",\"type\":\"Toolbar\"},\"toolbar_location\":null,\"x_range\":{\"id\":\"f9ccb06e-62b6-4594-94a4-bbd1d8903f18\",\"type\":\"FactorRange\"},\"x_scale\":{\"id\":\"dca0ec95-1fcf-428e-93ac-5006eb5c06ba\",\"type\":\"CategoricalScale\"},\"y_range\":{\"id\":\"d510b77a-e0a8-4371-8d2a-acdc34796912\",\"type\":\"DataRange1d\"},\"y_scale\":{\"id\":\"e2db2876-bb3e-4416-8f25-3a5e004e387b\",\"type\":\"LinearScale\"}},\"id\":\"0a489425-cf1b-4dbd-8fb6-5b01393bc6b2\",\"subtype\":\"Figure\",\"type\":\"Plot\"},{\"attributes\":{\"plot\":null,\"text\":\"Atmosphere heating. CLIRAD (single-run) - CRD.\"},\"id\":\"9c11912e-e283-48aa-8e2e-0317a7a090e1\",\"type\":\"Title\"},{\"attributes\":{},\"id\":\"f3cbbced-f008-4463-9e78-74504f724a7f\",\"type\":\"CategoricalScale\"},{\"attributes\":{\"callback\":null},\"id\":\"1d505e5f-98fc-4b8a-8ec5-709d7ea07a8c\",\"type\":\"DataRange1d\"},{\"attributes\":{\"active_drag\":\"auto\",\"active_inspect\":\"auto\",\"active_scroll\":\"auto\",\"active_tap\":\"auto\",\"tools\":[{\"id\":\"705ca454-28e1-488c-a1d1-b3ad4eb39ccf\",\"type\":\"PanTool\"},{\"id\":\"ee90e672-b24e-470d-a50e-361b8cd7a90b\",\"type\":\"WheelZoomTool\"},{\"id\":\"517f242f-bcb6-46e9-a82b-756280ab72d7\",\"type\":\"BoxZoomTool\"},{\"id\":\"8971a17a-84bf-4c80-826f-9f033e596eaf\",\"type\":\"SaveTool\"},{\"id\":\"dc1d82ff-aab7-406b-99a8-26154cf44cce\",\"type\":\"ResetTool\"},{\"id\":\"addf53f1-16af-4960-8bdc-45b17530f5d0\",\"type\":\"HelpTool\"}]},\"id\":\"3a4f362e-3d29-42e3-8545-6770a91061d1\",\"type\":\"Toolbar\"},{\"attributes\":{},\"id\":\"2b2e76ee-e315-4066-83d7-f2ac48ae7a69\",\"type\":\"HelpTool\"},{\"attributes\":{\"axis_label\":\"flux (W m-2)\",\"formatter\":{\"id\":\"4e3f9eff-0a58-4ed6-b989-a4f3e66954a0\",\"type\":\"BasicTickFormatter\"},\"plot\":{\"id\":\"6c95c187-f3a0-43c5-9f49-2c54d8510959\",\"subtype\":\"Figure\",\"type\":\"Plot\"},\"ticker\":{\"id\":\"bf111b1f-cb6a-4d24-a91f-ac15520aa000\",\"type\":\"BasicTicker\"}},\"id\":\"b6b274bf-513d-4901-b9da-2f1537c67148\",\"type\":\"LinearAxis\"},{\"attributes\":{},\"id\":\"03ed8e55-03b4-4234-82ce-382dc9f67017\",\"type\":\"LinearScale\"},{\"attributes\":{\"overlay\":{\"id\":\"5b7f35f2-a6f4-4782-9a97-7f6f8c5db1c2\",\"type\":\"BoxAnnotation\"}},\"id\":\"81d60789-6b9f-4af7-8d2f-986ad96b15ac\",\"type\":\"BoxZoomTool\"},{\"attributes\":{\"axis_label\":\"flux (W m-2)\",\"formatter\":{\"id\":\"5a2f8249-bbb5-4c25-a37b-ec4d6e9f38fe\",\"type\":\"BasicTickFormatter\"},\"plot\":{\"id\":\"703a93c0-fa2c-49a1-9733-dbee2ba48285\",\"subtype\":\"Figure\",\"type\":\"Plot\"},\"ticker\":{\"id\":\"b5f4fb46-0602-4c3e-9909-96432d496d32\",\"type\":\"BasicTicker\"}},\"id\":\"3746d02e-d4e8-45ce-a86d-879e511c980c\",\"type\":\"LinearAxis\"},{\"attributes\":{\"plot\":{\"id\":\"703a93c0-fa2c-49a1-9733-dbee2ba48285\",\"subtype\":\"Figure\",\"type\":\"Plot\"},\"ticker\":{\"id\":\"53f4d481-2928-419c-89f2-1cf38c2f2bb6\",\"type\":\"CategoricalTicker\"}},\"id\":\"c440eb2e-fad6-4b61-a30b-db850e703e71\",\"type\":\"Grid\"},{\"attributes\":{\"axis_label\":\"spectral band\",\"formatter\":{\"id\":\"54f04528-9590-44dc-9813-f9de7886f0b8\",\"type\":\"CategoricalTickFormatter\"},\"plot\":{\"id\":\"703a93c0-fa2c-49a1-9733-dbee2ba48285\",\"subtype\":\"Figure\",\"type\":\"Plot\"},\"ticker\":{\"id\":\"53f4d481-2928-419c-89f2-1cf38c2f2bb6\",\"type\":\"CategoricalTicker\"}},\"id\":\"cb04ca00-414f-469b-b16a-799a20cf61c0\",\"type\":\"CategoricalAxis\"},{\"attributes\":{},\"id\":\"53f4d481-2928-419c-89f2-1cf38c2f2bb6\",\"type\":\"CategoricalTicker\"},{\"attributes\":{\"fill_alpha\":{\"value\":0.1},\"fill_color\":{\"value\":\"#1f77b4\"},\"line_alpha\":{\"value\":0.1},\"line_color\":{\"value\":\"#1f77b4\"},\"top\":{\"field\":\"flux\"},\"width\":{\"value\":0.9},\"x\":{\"field\":\"band\"}},\"id\":\"a29707c0-209c-4620-bfab-5dba852bc6f7\",\"type\":\"VBar\"},{\"attributes\":{\"source\":{\"id\":\"044aafc1-e771-42f0-ac36-1b4411fb4937\",\"type\":\"ColumnDataSource\"}},\"id\":\"f6c4ec15-0b20-49ac-afa6-a3a659eaa726\",\"type\":\"CDSView\"},{\"attributes\":{},\"id\":\"b5f4fb46-0602-4c3e-9909-96432d496d32\",\"type\":\"BasicTicker\"},{\"attributes\":{\"dimension\":1,\"plot\":{\"id\":\"703a93c0-fa2c-49a1-9733-dbee2ba48285\",\"subtype\":\"Figure\",\"type\":\"Plot\"},\"ticker\":{\"id\":\"b5f4fb46-0602-4c3e-9909-96432d496d32\",\"type\":\"BasicTicker\"}},\"id\":\"3d10013f-2fc3-404d-be22-b5711ab441f4\",\"type\":\"Grid\"},{\"attributes\":{},\"id\":\"4e3f9eff-0a58-4ed6-b989-a4f3e66954a0\",\"type\":\"BasicTickFormatter\"},{\"attributes\":{},\"id\":\"0807c29b-8158-433a-8cae-68eff0df1203\",\"type\":\"ResetTool\"},{\"attributes\":{\"fill_color\":{\"value\":\"#1f77b4\"},\"line_color\":{\"value\":\"#1f77b4\"},\"top\":{\"field\":\"flux\"},\"width\":{\"value\":0.9},\"x\":{\"field\":\"band\"}},\"id\":\"760d145a-d8c3-49d8-90d4-2b2450f57fdd\",\"type\":\"VBar\"},{\"attributes\":{\"children\":[{\"id\":\"6c95c187-f3a0-43c5-9f49-2c54d8510959\",\"subtype\":\"Figure\",\"type\":\"Plot\"},{\"id\":\"0a489425-cf1b-4dbd-8fb6-5b01393bc6b2\",\"subtype\":\"Figure\",\"type\":\"Plot\"},{\"id\":\"703a93c0-fa2c-49a1-9733-dbee2ba48285\",\"subtype\":\"Figure\",\"type\":\"Plot\"}]},\"id\":\"08a0574b-ad26-4931-9f93-f1819760a3b0\",\"type\":\"Row\"},{\"attributes\":{\"bottom_units\":\"screen\",\"fill_alpha\":{\"value\":0.5},\"fill_color\":{\"value\":\"lightgrey\"},\"left_units\":\"screen\",\"level\":\"overlay\",\"line_alpha\":{\"value\":1.0},\"line_color\":{\"value\":\"black\"},\"line_dash\":[4,4],\"line_width\":{\"value\":2},\"plot\":null,\"render_mode\":\"css\",\"right_units\":\"screen\",\"top_units\":\"screen\"},\"id\":\"84af3b6b-8bd6-42d5-9f00-4cadcc7b872d\",\"type\":\"BoxAnnotation\"},{\"attributes\":{},\"id\":\"bf111b1f-cb6a-4d24-a91f-ac15520aa000\",\"type\":\"BasicTicker\"},{\"attributes\":{},\"id\":\"705ca454-28e1-488c-a1d1-b3ad4eb39ccf\",\"type\":\"PanTool\"},{\"attributes\":{},\"id\":\"b22bc715-9246-4ec3-8d23-57d3d3fa20f6\",\"type\":\"LinearScale\"},{\"attributes\":{\"data_source\":{\"id\":\"e3561572-d62e-4041-8177-fa773dccee6e\",\"type\":\"ColumnDataSource\"},\"glyph\":{\"id\":\"760d145a-d8c3-49d8-90d4-2b2450f57fdd\",\"type\":\"VBar\"},\"hover_glyph\":null,\"muted_glyph\":null,\"nonselection_glyph\":{\"id\":\"a29707c0-209c-4620-bfab-5dba852bc6f7\",\"type\":\"VBar\"},\"selection_glyph\":null,\"view\":{\"id\":\"7508c594-dd6f-4647-bcc7-de5f5cd61a8b\",\"type\":\"CDSView\"}},\"id\":\"2d06e065-0271-4882-97a2-733db0496e92\",\"type\":\"GlyphRenderer\"},{\"attributes\":{},\"id\":\"ee90e672-b24e-470d-a50e-361b8cd7a90b\",\"type\":\"WheelZoomTool\"},{\"attributes\":{},\"id\":\"2cba605e-1459-4d5a-98d4-cca45604d8e4\",\"type\":\"CategoricalTicker\"},{\"attributes\":{\"overlay\":{\"id\":\"84af3b6b-8bd6-42d5-9f00-4cadcc7b872d\",\"type\":\"BoxAnnotation\"}},\"id\":\"517f242f-bcb6-46e9-a82b-756280ab72d7\",\"type\":\"BoxZoomTool\"},{\"attributes\":{},\"id\":\"6465f8db-49dd-4b9e-8d66-bde59472374f\",\"type\":\"WheelZoomTool\"},{\"attributes\":{},\"id\":\"8971a17a-84bf-4c80-826f-9f033e596eaf\",\"type\":\"SaveTool\"},{\"attributes\":{},\"id\":\"dc1d82ff-aab7-406b-99a8-26154cf44cce\",\"type\":\"ResetTool\"},{\"attributes\":{},\"id\":\"addf53f1-16af-4960-8bdc-45b17530f5d0\",\"type\":\"HelpTool\"},{\"attributes\":{\"dimension\":1,\"plot\":{\"id\":\"6c95c187-f3a0-43c5-9f49-2c54d8510959\",\"subtype\":\"Figure\",\"type\":\"Plot\"},\"ticker\":{\"id\":\"bf111b1f-cb6a-4d24-a91f-ac15520aa000\",\"type\":\"BasicTicker\"}},\"id\":\"4919d742-1c84-44ee-bef6-5a5480887110\",\"type\":\"Grid\"},{\"attributes\":{},\"id\":\"14d24c51-eb53-42d0-9a70-f6d311b870a6\",\"type\":\"Selection\"},{\"attributes\":{},\"id\":\"b21d2757-d8b3-407e-a926-ab23caf6e8f4\",\"type\":\"CategoricalTickFormatter\"},{\"attributes\":{\"source\":{\"id\":\"e3561572-d62e-4041-8177-fa773dccee6e\",\"type\":\"ColumnDataSource\"}},\"id\":\"7508c594-dd6f-4647-bcc7-de5f5cd61a8b\",\"type\":\"CDSView\"},{\"attributes\":{\"active_drag\":\"auto\",\"active_inspect\":\"auto\",\"active_scroll\":\"auto\",\"active_tap\":\"auto\",\"tools\":[{\"id\":\"f2ff7830-06b1-417d-9a5c-6972a2a5d5a0\",\"type\":\"PanTool\"},{\"id\":\"6465f8db-49dd-4b9e-8d66-bde59472374f\",\"type\":\"WheelZoomTool\"},{\"id\":\"81d60789-6b9f-4af7-8d2f-986ad96b15ac\",\"type\":\"BoxZoomTool\"},{\"id\":\"30fe279f-2d30-4c9d-b223-38371aeec037\",\"type\":\"SaveTool\"},{\"id\":\"0807c29b-8158-433a-8cae-68eff0df1203\",\"type\":\"ResetTool\"},{\"id\":\"f8956cf4-d174-4224-8583-3fd64adbad58\",\"type\":\"HelpTool\"}]},\"id\":\"b41889e2-e9e6-4bed-8506-f2757085621d\",\"type\":\"Toolbar\"},{\"attributes\":{\"children\":[{\"id\":\"08a0574b-ad26-4931-9f93-f1819760a3b0\",\"type\":\"Row\"}]},\"id\":\"d4cd2c1d-9e39-40d8-b6bb-85553a322e76\",\"type\":\"Column\"},{\"attributes\":{},\"id\":\"40e4b7f9-1914-42fb-bbf8-8107928cf6d0\",\"type\":\"Selection\"},{\"attributes\":{},\"id\":\"10c524da-cd29-4b4b-9978-a404e6da8680\",\"type\":\"CategoricalTickFormatter\"},{\"attributes\":{},\"id\":\"26f3cf45-d6f1-4a06-adcc-a0c06ffca989\",\"type\":\"UnionRenderers\"},{\"attributes\":{\"callback\":null},\"id\":\"8febd2c0-b68b-4781-8037-00c8b6e614cc\",\"type\":\"DataRange1d\"},{\"attributes\":{},\"id\":\"4a8dc59e-cfb2-48e2-a013-ce376917c97f\",\"type\":\"UnionRenderers\"},{\"attributes\":{},\"id\":\"a433ed0b-a0e4-44de-ae50-69d688f85d33\",\"type\":\"BasicTickFormatter\"},{\"attributes\":{\"bottom_units\":\"screen\",\"fill_alpha\":{\"value\":0.5},\"fill_color\":{\"value\":\"lightgrey\"},\"left_units\":\"screen\",\"level\":\"overlay\",\"line_alpha\":{\"value\":1.0},\"line_color\":{\"value\":\"black\"},\"line_dash\":[4,4],\"line_width\":{\"value\":2},\"plot\":null,\"render_mode\":\"css\",\"right_units\":\"screen\",\"top_units\":\"screen\"},\"id\":\"5b7f35f2-a6f4-4782-9a97-7f6f8c5db1c2\",\"type\":\"BoxAnnotation\"},{\"attributes\":{},\"id\":\"fde8d025-4bf7-4dfa-b0ab-308283576159\",\"type\":\"Selection\"},{\"attributes\":{},\"id\":\"9a7a46fd-9f54-459b-ae47-9aa9d74d1c1f\",\"type\":\"UnionRenderers\"},{\"attributes\":{\"toolbar\":{\"id\":\"8acd9136-1029-4ccb-b8d2-d2faea529c6e\",\"type\":\"ProxyToolbar\"},\"toolbar_location\":\"above\"},\"id\":\"6291df94-2c89-40e1-9aa4-ab60c52a7210\",\"type\":\"ToolbarBox\"},{\"attributes\":{},\"id\":\"f2ff7830-06b1-417d-9a5c-6972a2a5d5a0\",\"type\":\"PanTool\"},{\"attributes\":{\"tools\":[{\"id\":\"f2ff7830-06b1-417d-9a5c-6972a2a5d5a0\",\"type\":\"PanTool\"},{\"id\":\"6465f8db-49dd-4b9e-8d66-bde59472374f\",\"type\":\"WheelZoomTool\"},{\"id\":\"81d60789-6b9f-4af7-8d2f-986ad96b15ac\",\"type\":\"BoxZoomTool\"},{\"id\":\"30fe279f-2d30-4c9d-b223-38371aeec037\",\"type\":\"SaveTool\"},{\"id\":\"0807c29b-8158-433a-8cae-68eff0df1203\",\"type\":\"ResetTool\"},{\"id\":\"f8956cf4-d174-4224-8583-3fd64adbad58\",\"type\":\"HelpTool\"},{\"id\":\"6a352bfc-a0c9-40d7-a2ad-71691bff111a\",\"type\":\"PanTool\"},{\"id\":\"108f472f-3ce5-473c-a29e-fe4f5534fb96\",\"type\":\"WheelZoomTool\"},{\"id\":\"0bc596e5-b6a2-4f7f-8479-bcd5c3b2d10d\",\"type\":\"BoxZoomTool\"},{\"id\":\"185efef6-f294-43a9-8389-31b4c09c1ee1\",\"type\":\"SaveTool\"},{\"id\":\"f0f757b4-ca37-4c27-9fa4-365f6e086651\",\"type\":\"ResetTool\"},{\"id\":\"2b2e76ee-e315-4066-83d7-f2ac48ae7a69\",\"type\":\"HelpTool\"},{\"id\":\"705ca454-28e1-488c-a1d1-b3ad4eb39ccf\",\"type\":\"PanTool\"},{\"id\":\"ee90e672-b24e-470d-a50e-361b8cd7a90b\",\"type\":\"WheelZoomTool\"},{\"id\":\"517f242f-bcb6-46e9-a82b-756280ab72d7\",\"type\":\"BoxZoomTool\"},{\"id\":\"8971a17a-84bf-4c80-826f-9f033e596eaf\",\"type\":\"SaveTool\"},{\"id\":\"dc1d82ff-aab7-406b-99a8-26154cf44cce\",\"type\":\"ResetTool\"},{\"id\":\"addf53f1-16af-4960-8bdc-45b17530f5d0\",\"type\":\"HelpTool\"}]},\"id\":\"8acd9136-1029-4ccb-b8d2-d2faea529c6e\",\"type\":\"ProxyToolbar\"},{\"attributes\":{\"callback\":null,\"factors\":[\"1\",\"2\",\"3\",\"4\",\"5\",\"6\",\"7\",\"8\",\"9\",\"10\",\"11\"]},\"id\":\"6d39400c-1197-437b-b40d-108a06e31ce9\",\"type\":\"FactorRange\"},{\"attributes\":{\"children\":[{\"id\":\"6291df94-2c89-40e1-9aa4-ab60c52a7210\",\"type\":\"ToolbarBox\"},{\"id\":\"d4cd2c1d-9e39-40d8-b6bb-85553a322e76\",\"type\":\"Column\"}]},\"id\":\"123f118b-ee24-43d5-8b6e-72f9e8d06e0b\",\"type\":\"Column\"},{\"attributes\":{\"fill_alpha\":{\"value\":0.1},\"fill_color\":{\"value\":\"#1f77b4\"},\"line_alpha\":{\"value\":0.1},\"line_color\":{\"value\":\"#1f77b4\"},\"top\":{\"field\":\"flux\"},\"width\":{\"value\":0.9},\"x\":{\"field\":\"band\"}},\"id\":\"9915e5b2-0ec8-4769-9c9c-10732027a97c\",\"type\":\"VBar\"},{\"attributes\":{\"axis_label\":\"spectral band\",\"formatter\":{\"id\":\"b21d2757-d8b3-407e-a926-ab23caf6e8f4\",\"type\":\"CategoricalTickFormatter\"},\"plot\":{\"id\":\"6c95c187-f3a0-43c5-9f49-2c54d8510959\",\"subtype\":\"Figure\",\"type\":\"Plot\"},\"ticker\":{\"id\":\"2cba605e-1459-4d5a-98d4-cca45604d8e4\",\"type\":\"CategoricalTicker\"}},\"id\":\"f5448006-fb76-40b4-9970-bc88c131b21b\",\"type\":\"CategoricalAxis\"},{\"attributes\":{\"fill_color\":{\"value\":\"#1f77b4\"},\"line_color\":{\"value\":\"#1f77b4\"},\"top\":{\"field\":\"flux\"},\"width\":{\"value\":0.9},\"x\":{\"field\":\"band\"}},\"id\":\"081494d7-9aa9-4ded-a4b4-437bb96656e9\",\"type\":\"VBar\"},{\"attributes\":{},\"id\":\"f8956cf4-d174-4224-8583-3fd64adbad58\",\"type\":\"HelpTool\"},{\"attributes\":{},\"id\":\"aac305bf-b3ce-42d3-9c73-2182c39df151\",\"type\":\"CategoricalScale\"},{\"attributes\":{},\"id\":\"30fe279f-2d30-4c9d-b223-38371aeec037\",\"type\":\"SaveTool\"},{\"attributes\":{},\"id\":\"f0f757b4-ca37-4c27-9fa4-365f6e086651\",\"type\":\"ResetTool\"},{\"attributes\":{\"plot\":{\"id\":\"6c95c187-f3a0-43c5-9f49-2c54d8510959\",\"subtype\":\"Figure\",\"type\":\"Plot\"},\"ticker\":{\"id\":\"2cba605e-1459-4d5a-98d4-cca45604d8e4\",\"type\":\"CategoricalTicker\"}},\"id\":\"3a91f6df-c582-4347-8660-d9dcc8359b31\",\"type\":\"Grid\"},{\"attributes\":{\"data_source\":{\"id\":\"044aafc1-e771-42f0-ac36-1b4411fb4937\",\"type\":\"ColumnDataSource\"},\"glyph\":{\"id\":\"081494d7-9aa9-4ded-a4b4-437bb96656e9\",\"type\":\"VBar\"},\"hover_glyph\":null,\"muted_glyph\":null,\"nonselection_glyph\":{\"id\":\"9915e5b2-0ec8-4769-9c9c-10732027a97c\",\"type\":\"VBar\"},\"selection_glyph\":null,\"view\":{\"id\":\"f6c4ec15-0b20-49ac-afa6-a3a659eaa726\",\"type\":\"CDSView\"}},\"id\":\"425c21d9-745b-40c9-9090-91da103efc60\",\"type\":\"GlyphRenderer\"}],\"root_ids\":[\"123f118b-ee24-43d5-8b6e-72f9e8d06e0b\"]},\"title\":\"Bokeh Application\",\"version\":\"0.12.16\"}};\n",
       "  var render_items = [{\"docid\":\"cba0abac-0945-4d09-953b-86c3b640c3de\",\"elementid\":\"40d708cd-6966-4eed-b316-e71e4be9dfc6\",\"modelid\":\"123f118b-ee24-43d5-8b6e-72f9e8d06e0b\"}];\n",
       "  root.Bokeh.embed.embed_items_notebook(docs_json, render_items);\n",
       "\n",
       "  }\n",
       "  if (root.Bokeh !== undefined) {\n",
       "    embed_document(root);\n",
       "  } else {\n",
       "    var attempts = 0;\n",
       "    var timer = setInterval(function(root) {\n",
       "      if (root.Bokeh !== undefined) {\n",
       "        embed_document(root);\n",
       "        clearInterval(timer);\n",
       "      }\n",
       "      attempts++;\n",
       "      if (attempts > 100) {\n",
       "        console.log(\"Bokeh: ERROR: Unable to run BokehJS code because BokehJS library is missing\")\n",
       "        clearInterval(timer);\n",
       "      }\n",
       "    }, 10, root)\n",
       "  }\n",
       "})(window);"
      ],
      "application/vnd.bokehjs_exec.v0+json": ""
     },
     "metadata": {
      "application/vnd.bokehjs_exec.v0+json": {
       "id": "123f118b-ee24-43d5-8b6e-72f9e8d06e0b"
      }
     },
     "output_type": "display_data"
    },
    {
     "data": {
      "text/markdown": [
       "*FIGURE.* Difference between CLIRAD and CRD in TOA, SFC and net atmosphere flux, in each spectral band."
      ],
      "text/plain": [
       "<IPython.core.display.Markdown object>"
      ]
     },
     "metadata": {},
     "output_type": "display_data"
    },
    {
     "data": {
      "text/html": [
       "<div>\n",
       "<style scoped>\n",
       "    .dataframe tbody tr th:only-of-type {\n",
       "        vertical-align: middle;\n",
       "    }\n",
       "\n",
       "    .dataframe tbody tr th {\n",
       "        vertical-align: top;\n",
       "    }\n",
       "\n",
       "    .dataframe thead th {\n",
       "        text-align: right;\n",
       "    }\n",
       "</style>\n",
       "<table border=\"1\" class=\"dataframe\">\n",
       "  <thead>\n",
       "    <tr style=\"text-align: right;\">\n",
       "      <th></th>\n",
       "      <th>OLR flux</th>\n",
       "      <th>SFC flux</th>\n",
       "      <th>ATM heating</th>\n",
       "    </tr>\n",
       "    <tr>\n",
       "      <th>Sum over bands</th>\n",
       "      <th></th>\n",
       "      <th></th>\n",
       "      <th></th>\n",
       "    </tr>\n",
       "  </thead>\n",
       "  <tbody>\n",
       "    <tr>\n",
       "      <th>CLIRAD (single-run) - CRD</th>\n",
       "      <td>58.48</td>\n",
       "      <td>85.04</td>\n",
       "      <td>-26.56</td>\n",
       "    </tr>\n",
       "    <tr>\n",
       "      <th>CRD</th>\n",
       "      <td>-201.06</td>\n",
       "      <td>166.03</td>\n",
       "      <td>-119.67</td>\n",
       "    </tr>\n",
       "  </tbody>\n",
       "</table>\n",
       "</div>"
      ],
      "text/plain": [
       "                           OLR flux  SFC flux  ATM heating\n",
       "Sum over bands                                            \n",
       "CLIRAD (single-run) - CRD     58.48     85.04       -26.56\n",
       "CRD                         -201.06    166.03      -119.67"
      ]
     },
     "metadata": {},
     "output_type": "display_data"
    },
    {
     "data": {
      "text/markdown": [
       "*TABLE.* Difference between CLIRAD and CRD in TOA, SFC and net atmosphere flux, over all spectral bands. CRD's TOA, SFC and net atmosphere flux, over all spectral bands."
      ],
      "text/plain": [
       "<IPython.core.display.Markdown object>"
      ]
     },
     "metadata": {},
     "output_type": "display_data"
    },
    {
     "data": {
      "text/html": [
       "<a id=\"Cooling_rates._trp.\"></a>"
      ],
      "text/plain": [
       "<IPython.core.display.HTML object>"
      ]
     },
     "metadata": {},
     "output_type": "display_data"
    },
    {
     "data": {
      "text/markdown": [
       "# Cooling rates. trp."
      ],
      "text/plain": [
       "<IPython.core.display.Markdown object>"
      ]
     },
     "metadata": {},
     "output_type": "display_data"
    },
    {
     "data": {
      "text/html": [
       "\n",
       "<div class=\"bk-root\">\n",
       "    <div class=\"bk-plotdiv\" id=\"35f59531-f6d3-4485-a7df-6f804f06184c\"></div>\n",
       "</div>"
      ]
     },
     "metadata": {},
     "output_type": "display_data"
    },
    {
     "data": {
      "application/javascript": [
       "(function(root) {\n",
       "  function embed_document(root) {\n",
       "    \n",
       "  var docs_json = {\"7099172d-500a-44eb-a81c-7ee24528f064\":{\"roots\":{\"references\":[{\"attributes\":{\"callback\":null,\"data\":{\"x\":{\"__ndarray__\":\"ZzdTqPT7Q8AbqIxD+n8gwOY3MbngowLAcWW2oUxB/D+QlW1ZLkAOQFcdT9bi4A5AqW7RqCdnBED94FDJJSHnP1XE+k4+vee/A+9ujyT69L+V7KdBUArxvz760eNXzt2/0LKTbOtvuj9EWzgdeZPeP3O7BL/n3eE/mPcmbdZD2D9bBRVM/dK5P6wfbeDE1c2/3LasBRpA379A1N7+nZrev/rQ0B1oJ82/+Poz6PeMeL/Y/M1A3fC1P6Bzhq54jbK/doeEzsbLx7+pMaEhwFO8P34s1nAJHuI/xOEqWhxL4z+edCVWPGnZPzVxNE2TNdg/GLSi+7Ac5T/o3tQ7T5HoPz3QkldX1+M/6J43Po3q2z9drmKQydHYP+NcZ3Nt99I/TvlpFUgMvD/IHBBOpF2gP2/XYKvR8qc/zoZORaJdrT9AqOeEoOiuP4bjd336l7I/zguEb6J0tj/dFl3CrsDCP8XJONEDbck/HTllfalpI0ASnmUOJe8aQGC9V90Qh/C/zE2kUKfDGkDdfsTgthLzv5yHQXHNgiVAskJ6EIuKMcDCx+vg+7YDwPhwoDuVrgHAwFaHcEw+AMCNioBkgyH+v/Iy839vHPy/VHsKIaQ1+r/KwPkENED4v5+LrcEuO/a/iaDFrd0x9L9AjAP0aizyvyridJKtPvC/s2ymdS0H7r+77fAGef7pv4XugZAh0+O/ueqFdFRlKEBtPi4g5hHUP5pihQVql/K/MX4qRzlKB8Dns4M8rvv0vz4SYYkoYvK/PnODiwyw8L8mPXpuogjvvyiELBDfp+2/\",\"dtype\":\"float64\",\"shape\":[75]},\"y\":{\"__ndarray__\":\"GhExyth1ND/Sv8nbtpRIP2vylNV0PVE/aTum7souWD/At0SJ8fVgPw3Iuahxymc/MSNhhJWvcD/bTfBN02d3P2zb5nxnaoA/CD5h5MAGhz8NmeH1TyaQP+zrCsc9p5Y/LbKd76fGnz/bLW5ISEmmPww9YvTcQq8/JV2OstnstT8Er5Y7M8G+P0c+r3jqkcU/5h99k6ZBzj88bCIzFzjVP4enV8oyxN0//yH99nXg5D8qOpLLf0jtP5kqGJXUifQ/c9cS8kHP/D+/DpwzojQEQIEmwoanVwxA4lgXt9HgE0BSSZ2AJuIbQAMJih9jjiNA5q4l5INuK0AwTKYKRj0zQNv5fmq8/DpAaCJseHrtQkB/+zpwzoxKQM3MzMzMeFJAZmZmZmZqWEAAAAAAAFxeQM3MzMzMJmJAmpmZmZkfZUBmZmZmZhhoQDMzMzMzEWtAAAAAAAAKbkBmZmZmZoFwQM3MzMzM/XFAMzMzMzN6c0CamZmZmfZ0QAAAAAAAc3ZAZmZmZmbvd0DNzMzMzGt5QDMzMzMz6HpAmpmZmZlkfEAAAAAAAOF9QGZmZmZmXX9AZmZmZuZsgECamZmZGSuBQM3MzMxM6YFAAAAAAICngkAzMzMzs2WDQGZmZmbmI4RAmpmZmRnihEDNzMzMTKCFQAAAAACAXoZAMzMzM7Mch0BmZmZm5tqHQJqZmZkZmYhAzczMzExXiUAAAAAAgBWKQDMzMzOz04pAZmZmZuaRi0CamZmZGVCMQM3MzMxMDo1AAAAAAIDMjUAzMzMzs4qOQGZmZmbmSI9A\",\"dtype\":\"float64\",\"shape\":[75]}},\"selected\":{\"id\":\"841ebcc7-3fb6-4722-9eb6-bd05f761da3a\",\"type\":\"Selection\"},\"selection_policy\":{\"id\":\"13f113b1-4483-48f7-8e43-00993b57e37e\",\"type\":\"UnionRenderers\"}},\"id\":\"eecd4f18-3b40-4f87-bd8c-759d0044db72\",\"type\":\"ColumnDataSource\"},{\"attributes\":{\"overlay\":{\"id\":\"548d4ccd-5033-4689-bb0b-5b13eb75f9b9\",\"type\":\"BoxAnnotation\"}},\"id\":\"fba23b56-b9b4-48d4-9b5c-820b6f1ac354\",\"type\":\"BoxZoomTool\"},{\"attributes\":{},\"id\":\"10abc040-a491-44df-85c8-02c945032f2e\",\"type\":\"SaveTool\"},{\"attributes\":{\"callback\":null,\"end\":0.01,\"start\":1020},\"id\":\"1bcbb1f7-1d31-497b-9ec3-a1baafd2cb7b\",\"type\":\"Range1d\"},{\"attributes\":{},\"id\":\"f5f232cc-062c-427d-ad01-02c23667a19c\",\"type\":\"ResetTool\"},{\"attributes\":{},\"id\":\"4454ac8c-be18-4863-9157-0a1d72f53df2\",\"type\":\"PanTool\"},{\"attributes\":{\"callback\":null,\"data\":{\"x\":{\"__ndarray__\":\"Ka2+KMiFRUCe3/67ydNCQG2+85AttUFAgKHHqBgeQEDv/PjXFxg8QFdlccvOLDdAr9iOO4frMUBTk9rQDQoqQHss08EHTiJAKUJieESpGkB0TnXn5UcVQJaAS4WwExJA1CfloZyxDUAa2eyEsE8DQIpcabWVMP8/Mp+V95PaBUCThyoGb4EMQDiSHkTkxBBA5PE27msRFEDesL8MTI8ZQBxESzZ/NCFAm6cnsGs0J0C0EZKhXVYoQFo8BcWvziRA1xuhgrKCIUDOTuuunzQdQBjNRxxXVBlAOwf9++c6FUBl3PN83BcRQLrFnLJtKAxAcLjY4XmbCEBkTvmXxRUEQGrb1z0icPw/VdXVW4bf8j/pI1T0x7zlP1wT/ORREr8/yN4OdRXA1b94yBZwA13Rv8FSAnBO6bo//Unm8nrW0T8pDvNzEjPgPx7AklVjhfA/zx42xMw9+T/NvhEu+3gAQIkHBR/QBgNAqTj2+r8JKEAy6DSu5zEiQIbqbYqDB/U/dfWv2CLSIUCIC4B1/IbuPzYL6L8vsylAmCbuuHn5LsBCLHZxLkzcvw1MiURjPcu/KdLn3BKdqL+VOevzvDC2P6Ush4IHeck/lawrI4w/0z++g97l4svZP7UghqhKjOA/Q6u0Qf255D8zYf6Bp93oP63lAIdxM+s/lUkKtXHH6z8egeNmhEzqP5WBdIp9leo/Ib51ARQHK0BNbgOb1F/4PwD5K4QMCja/cTQyTXI+/L+gFVBcGerEv4S+SdJ7Q5M/40+lZx6MxT8HIPHHhlDVPyv3RM8Uf/I/\",\"dtype\":\"float64\",\"shape\":[75]},\"y\":{\"__ndarray__\":\"GhExyth1ND/Sv8nbtpRIP2vylNV0PVE/aTum7souWD/At0SJ8fVgPw3Iuahxymc/MSNhhJWvcD/bTfBN02d3P2zb5nxnaoA/CD5h5MAGhz8NmeH1TyaQP+zrCsc9p5Y/LbKd76fGnz/bLW5ISEmmPww9YvTcQq8/JV2OstnstT8Er5Y7M8G+P0c+r3jqkcU/5h99k6ZBzj88bCIzFzjVP4enV8oyxN0//yH99nXg5D8qOpLLf0jtP5kqGJXUifQ/c9cS8kHP/D+/DpwzojQEQIEmwoanVwxA4lgXt9HgE0BSSZ2AJuIbQAMJih9jjiNA5q4l5INuK0AwTKYKRj0zQNv5fmq8/DpAaCJseHrtQkB/+zpwzoxKQM3MzMzMeFJAZmZmZmZqWEAAAAAAAFxeQM3MzMzMJmJAmpmZmZkfZUBmZmZmZhhoQDMzMzMzEWtAAAAAAAAKbkBmZmZmZoFwQM3MzMzM/XFAMzMzMzN6c0CamZmZmfZ0QAAAAAAAc3ZAZmZmZmbvd0DNzMzMzGt5QDMzMzMz6HpAmpmZmZlkfEAAAAAAAOF9QGZmZmZmXX9AZmZmZuZsgECamZmZGSuBQM3MzMxM6YFAAAAAAICngkAzMzMzs2WDQGZmZmbmI4RAmpmZmRnihEDNzMzMTKCFQAAAAACAXoZAMzMzM7Mch0BmZmZm5tqHQJqZmZkZmYhAzczMzExXiUAAAAAAgBWKQDMzMzOz04pAZmZmZuaRi0CamZmZGVCMQM3MzMxMDo1AAAAAAIDMjUAzMzMzs4qOQGZmZmbmSI9A\",\"dtype\":\"float64\",\"shape\":[75]}},\"selected\":{\"id\":\"2448e0b1-bd83-4cd6-b84d-c69954a91824\",\"type\":\"Selection\"},\"selection_policy\":{\"id\":\"a4a7939b-0bfe-4d92-af1d-e83b17dd1486\",\"type\":\"UnionRenderers\"}},\"id\":\"b858d1bb-9f4b-43c9-bd88-753e050e779c\",\"type\":\"ColumnDataSource\"},{\"attributes\":{\"dimension\":1,\"plot\":{\"id\":\"65a17435-2d9e-49ef-b48c-9a0c25363206\",\"subtype\":\"Figure\",\"type\":\"Plot\"},\"ticker\":{\"id\":\"1badd29f-f6fa-4545-b25a-bcda9f6fcdf3\",\"type\":\"BasicTicker\"}},\"id\":\"6401556e-5e36-4c9d-af2c-bb16d2fe30cf\",\"type\":\"Grid\"},{\"attributes\":{},\"id\":\"1badd29f-f6fa-4545-b25a-bcda9f6fcdf3\",\"type\":\"BasicTicker\"},{\"attributes\":{\"label\":{\"value\":\"CRD\"},\"renderers\":[{\"id\":\"d9c2634d-951b-41ec-8ea7-77c6627822df\",\"type\":\"GlyphRenderer\"},{\"id\":\"d4e90cba-b484-4039-a1e9-287c97b7086d\",\"type\":\"GlyphRenderer\"}]},\"id\":\"f804ee28-7483-4ac6-8027-55f868c9d5a2\",\"type\":\"LegendItem\"},{\"attributes\":{\"above\":[{\"id\":\"4e83d39c-a5b8-4178-b4fd-b8b47cb4fd3a\",\"type\":\"Legend\"}],\"below\":[{\"id\":\"a4ce630c-ca3d-48f0-8549-4a13fe748a5d\",\"type\":\"LinearAxis\"}],\"left\":[{\"id\":\"5b9b9718-ca30-476d-8c0d-af8f75f0bc53\",\"type\":\"LinearAxis\"}],\"plot_width\":300,\"renderers\":[{\"id\":\"a4ce630c-ca3d-48f0-8549-4a13fe748a5d\",\"type\":\"LinearAxis\"},{\"id\":\"3a07b888-de77-456e-bbeb-0318f406c235\",\"type\":\"Grid\"},{\"id\":\"5b9b9718-ca30-476d-8c0d-af8f75f0bc53\",\"type\":\"LinearAxis\"},{\"id\":\"6401556e-5e36-4c9d-af2c-bb16d2fe30cf\",\"type\":\"Grid\"},{\"id\":\"548d4ccd-5033-4689-bb0b-5b13eb75f9b9\",\"type\":\"BoxAnnotation\"},{\"id\":\"70b597b1-b81a-4e4a-86a0-e3f8421e64d5\",\"type\":\"GlyphRenderer\"},{\"id\":\"5fe92497-1dc7-4d9f-af25-98547d0c3d55\",\"type\":\"GlyphRenderer\"},{\"id\":\"520a2ac9-55a5-44f2-b9dd-a7b79704d167\",\"type\":\"GlyphRenderer\"},{\"id\":\"4e83d39c-a5b8-4178-b4fd-b8b47cb4fd3a\",\"type\":\"Legend\"}],\"title\":{\"id\":\"8234d28b-be86-488a-a443-854b94c5a832\",\"type\":\"Title\"},\"toolbar\":{\"id\":\"d3b59e60-018f-4ad8-aeaa-6abe05633643\",\"type\":\"Toolbar\"},\"toolbar_location\":null,\"x_range\":{\"id\":\"b933747c-985f-4abc-8542-4ad544d3c267\",\"type\":\"Range1d\"},\"x_scale\":{\"id\":\"e6752a7a-0461-444c-87c7-5b75336377f6\",\"type\":\"LinearScale\"},\"y_range\":{\"id\":\"1bcbb1f7-1d31-497b-9ec3-a1baafd2cb7b\",\"type\":\"Range1d\"},\"y_scale\":{\"id\":\"9b35a075-28e2-425b-9531-a8967058faf6\",\"type\":\"LinearScale\"}},\"id\":\"65a17435-2d9e-49ef-b48c-9a0c25363206\",\"subtype\":\"Figure\",\"type\":\"Plot\"},{\"attributes\":{},\"id\":\"574fabbd-d254-4e0e-9107-4127df805df6\",\"type\":\"WheelZoomTool\"},{\"attributes\":{},\"id\":\"6d95f0f7-d406-4c11-ba85-66bb6e2d5c73\",\"type\":\"PanTool\"},{\"attributes\":{\"num_minor_ticks\":10},\"id\":\"29c7ff7d-a786-47c8-ae6b-8d921e448866\",\"type\":\"LogTicker\"},{\"attributes\":{\"above\":[{\"id\":\"374da8ea-4dd3-41e1-8a43-54dda40e44d5\",\"type\":\"Legend\"}],\"below\":[{\"id\":\"56d1dc8c-ef6f-4705-9a7e-a97a35e1a1e6\",\"type\":\"LinearAxis\"}],\"left\":[{\"id\":\"93b4b1b4-221c-4cc1-b82f-9135ce282d18\",\"type\":\"LogAxis\"}],\"plot_width\":300,\"renderers\":[{\"id\":\"56d1dc8c-ef6f-4705-9a7e-a97a35e1a1e6\",\"type\":\"LinearAxis\"},{\"id\":\"0a47f352-8316-4d4d-8bb4-50971bf31af9\",\"type\":\"Grid\"},{\"id\":\"93b4b1b4-221c-4cc1-b82f-9135ce282d18\",\"type\":\"LogAxis\"},{\"id\":\"df6145ac-af87-4c18-b877-42bc36bdbf7b\",\"type\":\"Grid\"},{\"id\":\"3c25b004-192e-4608-b20c-86111f997c34\",\"type\":\"BoxAnnotation\"},{\"id\":\"895369fa-750a-4265-99fb-361e5ec7b67b\",\"type\":\"GlyphRenderer\"},{\"id\":\"d9c2634d-951b-41ec-8ea7-77c6627822df\",\"type\":\"GlyphRenderer\"},{\"id\":\"d4e90cba-b484-4039-a1e9-287c97b7086d\",\"type\":\"GlyphRenderer\"},{\"id\":\"374da8ea-4dd3-41e1-8a43-54dda40e44d5\",\"type\":\"Legend\"}],\"title\":{\"id\":\"ac535db3-3d34-4b24-9c13-e11094f64236\",\"type\":\"Title\"},\"toolbar\":{\"id\":\"eb623109-4c21-4052-a473-4c8b1f42ba49\",\"type\":\"Toolbar\"},\"toolbar_location\":null,\"x_range\":{\"id\":\"830873b0-c062-42b0-b950-8072be828c03\",\"type\":\"Range1d\"},\"x_scale\":{\"id\":\"0d02f58e-c6af-4be8-be13-e4e03eb37844\",\"type\":\"LinearScale\"},\"y_range\":{\"id\":\"a73f453e-9999-4f06-9700-2d76e9e2c4ab\",\"type\":\"Range1d\"},\"y_scale\":{\"id\":\"90ff2cfd-8bf5-4353-b45d-ff2f142a4600\",\"type\":\"LogScale\"}},\"id\":\"c32dba62-0c9d-452a-8463-ea8a937881cd\",\"subtype\":\"Figure\",\"type\":\"Plot\"},{\"attributes\":{},\"id\":\"d42b99fd-b5cb-497b-a796-fd86592fd071\",\"type\":\"WheelZoomTool\"},{\"attributes\":{\"label\":{\"value\":\"CLIRAD (single-run)\"},\"renderers\":[{\"id\":\"70b597b1-b81a-4e4a-86a0-e3f8421e64d5\",\"type\":\"GlyphRenderer\"}]},\"id\":\"b5955698-503f-4344-8042-adf3f617532c\",\"type\":\"LegendItem\"},{\"attributes\":{\"dimension\":1,\"plot\":{\"id\":\"c32dba62-0c9d-452a-8463-ea8a937881cd\",\"subtype\":\"Figure\",\"type\":\"Plot\"},\"ticker\":{\"id\":\"29c7ff7d-a786-47c8-ae6b-8d921e448866\",\"type\":\"LogTicker\"}},\"id\":\"df6145ac-af87-4c18-b877-42bc36bdbf7b\",\"type\":\"Grid\"},{\"attributes\":{\"overlay\":{\"id\":\"3c25b004-192e-4608-b20c-86111f997c34\",\"type\":\"BoxAnnotation\"}},\"id\":\"4b26a040-b191-42a5-a0f0-528bc1eb717e\",\"type\":\"BoxZoomTool\"},{\"attributes\":{\"items\":[{\"id\":\"b5955698-503f-4344-8042-adf3f617532c\",\"type\":\"LegendItem\"},{\"id\":\"18028f36-80ef-4ada-8487-73904d2a3e71\",\"type\":\"LegendItem\"}],\"label_text_font_size\":{\"value\":\"8pt\"},\"location\":\"top_center\",\"orientation\":\"horizontal\",\"plot\":{\"id\":\"65a17435-2d9e-49ef-b48c-9a0c25363206\",\"subtype\":\"Figure\",\"type\":\"Plot\"}},\"id\":\"4e83d39c-a5b8-4178-b4fd-b8b47cb4fd3a\",\"type\":\"Legend\"},{\"attributes\":{\"source\":{\"id\":\"d601ed85-5af9-4c04-8ecc-484a8e72d730\",\"type\":\"ColumnDataSource\"}},\"id\":\"53388b42-bdff-41f6-a327-153305dc0e6e\",\"type\":\"CDSView\"},{\"attributes\":{\"bottom_units\":\"screen\",\"fill_alpha\":{\"value\":0.5},\"fill_color\":{\"value\":\"lightgrey\"},\"left_units\":\"screen\",\"level\":\"overlay\",\"line_alpha\":{\"value\":1.0},\"line_color\":{\"value\":\"black\"},\"line_dash\":[4,4],\"line_width\":{\"value\":2},\"plot\":null,\"render_mode\":\"css\",\"right_units\":\"screen\",\"top_units\":\"screen\"},\"id\":\"548d4ccd-5033-4689-bb0b-5b13eb75f9b9\",\"type\":\"BoxAnnotation\"},{\"attributes\":{\"data_source\":{\"id\":\"d601ed85-5af9-4c04-8ecc-484a8e72d730\",\"type\":\"ColumnDataSource\"},\"glyph\":{\"id\":\"2a10e9aa-8ca1-4369-977b-ac02bdedafc6\",\"type\":\"Line\"},\"hover_glyph\":null,\"muted_glyph\":null,\"nonselection_glyph\":{\"id\":\"4e80c921-dedb-49df-8910-2e39f4a11b09\",\"type\":\"Line\"},\"selection_glyph\":null,\"view\":{\"id\":\"53388b42-bdff-41f6-a327-153305dc0e6e\",\"type\":\"CDSView\"}},\"id\":\"520a2ac9-55a5-44f2-b9dd-a7b79704d167\",\"type\":\"GlyphRenderer\"},{\"attributes\":{\"axis_label\":\"cooling rate [K/day]\",\"formatter\":{\"id\":\"cb330145-6450-465b-8fff-09513f6416b5\",\"type\":\"BasicTickFormatter\"},\"plot\":{\"id\":\"c32dba62-0c9d-452a-8463-ea8a937881cd\",\"subtype\":\"Figure\",\"type\":\"Plot\"},\"ticker\":{\"id\":\"1b11d0fa-3ea3-4e75-be9d-d072c4fea947\",\"type\":\"BasicTicker\"}},\"id\":\"56d1dc8c-ef6f-4705-9a7e-a97a35e1a1e6\",\"type\":\"LinearAxis\"},{\"attributes\":{\"plot\":{\"id\":\"c32dba62-0c9d-452a-8463-ea8a937881cd\",\"subtype\":\"Figure\",\"type\":\"Plot\"},\"ticker\":{\"id\":\"1b11d0fa-3ea3-4e75-be9d-d072c4fea947\",\"type\":\"BasicTicker\"}},\"id\":\"0a47f352-8316-4d4d-8bb4-50971bf31af9\",\"type\":\"Grid\"},{\"attributes\":{},\"id\":\"e6752a7a-0461-444c-87c7-5b75336377f6\",\"type\":\"LinearScale\"},{\"attributes\":{\"active_drag\":\"auto\",\"active_inspect\":\"auto\",\"active_scroll\":\"auto\",\"active_tap\":\"auto\",\"tools\":[{\"id\":\"6d95f0f7-d406-4c11-ba85-66bb6e2d5c73\",\"type\":\"PanTool\"},{\"id\":\"d42b99fd-b5cb-497b-a796-fd86592fd071\",\"type\":\"WheelZoomTool\"},{\"id\":\"4b26a040-b191-42a5-a0f0-528bc1eb717e\",\"type\":\"BoxZoomTool\"},{\"id\":\"9eca69b0-b457-42ce-9f35-a15534fa30a7\",\"type\":\"SaveTool\"},{\"id\":\"62be8f1f-9990-4107-a0be-8c9de23f8cf3\",\"type\":\"ResetTool\"},{\"id\":\"eaefceac-c9db-417d-acb2-23a6f0e3b6fd\",\"type\":\"HelpTool\"}]},\"id\":\"eb623109-4c21-4052-a473-4c8b1f42ba49\",\"type\":\"Toolbar\"},{\"attributes\":{},\"id\":\"1b11d0fa-3ea3-4e75-be9d-d072c4fea947\",\"type\":\"BasicTicker\"},{\"attributes\":{},\"id\":\"42f057d9-2df5-4515-a305-eee0749290cd\",\"type\":\"HelpTool\"},{\"attributes\":{},\"id\":\"9b35a075-28e2-425b-9531-a8967058faf6\",\"type\":\"LinearScale\"},{\"attributes\":{\"label\":{\"value\":\"CLIRAD (single-run)\"},\"renderers\":[{\"id\":\"895369fa-750a-4265-99fb-361e5ec7b67b\",\"type\":\"GlyphRenderer\"}]},\"id\":\"5ab6b005-dbc2-469d-a06e-f3aa2f66dff4\",\"type\":\"LegendItem\"},{\"attributes\":{\"active_drag\":\"auto\",\"active_inspect\":\"auto\",\"active_scroll\":\"auto\",\"active_tap\":\"auto\",\"tools\":[{\"id\":\"4454ac8c-be18-4863-9157-0a1d72f53df2\",\"type\":\"PanTool\"},{\"id\":\"574fabbd-d254-4e0e-9107-4127df805df6\",\"type\":\"WheelZoomTool\"},{\"id\":\"fba23b56-b9b4-48d4-9b5c-820b6f1ac354\",\"type\":\"BoxZoomTool\"},{\"id\":\"10abc040-a491-44df-85c8-02c945032f2e\",\"type\":\"SaveTool\"},{\"id\":\"f5f232cc-062c-427d-ad01-02c23667a19c\",\"type\":\"ResetTool\"},{\"id\":\"42f057d9-2df5-4515-a305-eee0749290cd\",\"type\":\"HelpTool\"}]},\"id\":\"d3b59e60-018f-4ad8-aeaa-6abe05633643\",\"type\":\"Toolbar\"},{\"attributes\":{},\"id\":\"3394edd2-2ed5-44ec-b127-eebe61c000e5\",\"type\":\"BasicTicker\"},{\"attributes\":{\"axis_label\":\"cooling rate [K/day]\",\"formatter\":{\"id\":\"a4b72ff4-9b44-4717-9d17-331cd99fa5a2\",\"type\":\"BasicTickFormatter\"},\"plot\":{\"id\":\"65a17435-2d9e-49ef-b48c-9a0c25363206\",\"subtype\":\"Figure\",\"type\":\"Plot\"},\"ticker\":{\"id\":\"3394edd2-2ed5-44ec-b127-eebe61c000e5\",\"type\":\"BasicTicker\"}},\"id\":\"a4ce630c-ca3d-48f0-8549-4a13fe748a5d\",\"type\":\"LinearAxis\"},{\"attributes\":{\"callback\":null,\"end\":13.803835319394901,\"start\":-15.777267606084898},\"id\":\"b933747c-985f-4abc-8542-4ad544d3c267\",\"type\":\"Range1d\"},{\"attributes\":{},\"id\":\"eaefceac-c9db-417d-acb2-23a6f0e3b6fd\",\"type\":\"HelpTool\"},{\"attributes\":{\"label\":{\"value\":\"CRD\"},\"renderers\":[{\"id\":\"5fe92497-1dc7-4d9f-af25-98547d0c3d55\",\"type\":\"GlyphRenderer\"},{\"id\":\"520a2ac9-55a5-44f2-b9dd-a7b79704d167\",\"type\":\"GlyphRenderer\"}]},\"id\":\"18028f36-80ef-4ada-8487-73904d2a3e71\",\"type\":\"LegendItem\"},{\"attributes\":{\"plot\":{\"id\":\"65a17435-2d9e-49ef-b48c-9a0c25363206\",\"subtype\":\"Figure\",\"type\":\"Plot\"},\"ticker\":{\"id\":\"3394edd2-2ed5-44ec-b127-eebe61c000e5\",\"type\":\"BasicTicker\"}},\"id\":\"3a07b888-de77-456e-bbeb-0318f406c235\",\"type\":\"Grid\"},{\"attributes\":{\"axis_label\":\"pressure [mb]\",\"formatter\":{\"id\":\"37f816f1-9e4f-4bd3-a044-c63bede4136e\",\"type\":\"LogTickFormatter\"},\"plot\":{\"id\":\"c32dba62-0c9d-452a-8463-ea8a937881cd\",\"subtype\":\"Figure\",\"type\":\"Plot\"},\"ticker\":{\"id\":\"29c7ff7d-a786-47c8-ae6b-8d921e448866\",\"type\":\"LogTicker\"}},\"id\":\"93b4b1b4-221c-4cc1-b82f-9135ce282d18\",\"type\":\"LogAxis\"},{\"attributes\":{\"axis_label\":\"pressure [mb]\",\"formatter\":{\"id\":\"972373b0-1ad1-4ea8-a51c-044fad56879c\",\"type\":\"BasicTickFormatter\"},\"plot\":{\"id\":\"65a17435-2d9e-49ef-b48c-9a0c25363206\",\"subtype\":\"Figure\",\"type\":\"Plot\"},\"ticker\":{\"id\":\"1badd29f-f6fa-4545-b25a-bcda9f6fcdf3\",\"type\":\"BasicTicker\"}},\"id\":\"5b9b9718-ca30-476d-8c0d-af8f75f0bc53\",\"type\":\"LinearAxis\"},{\"attributes\":{\"line_alpha\":0.1,\"line_color\":\"#1f77b4\",\"line_dash\":[6],\"line_width\":5,\"x\":{\"field\":\"x\"},\"y\":{\"field\":\"y\"}},\"id\":\"2a1d9e63-ca8c-4c62-a7df-c8efbebd7c28\",\"type\":\"Line\"},{\"attributes\":{},\"id\":\"0d02f58e-c6af-4be8-be13-e4e03eb37844\",\"type\":\"LinearScale\"},{\"attributes\":{},\"id\":\"90ff2cfd-8bf5-4353-b45d-ff2f142a4600\",\"type\":\"LogScale\"},{\"attributes\":{},\"id\":\"9eca69b0-b457-42ce-9f35-a15534fa30a7\",\"type\":\"SaveTool\"},{\"attributes\":{\"line_alpha\":0.6,\"line_color\":\"#377eb8\",\"line_dash\":[6],\"line_width\":5,\"x\":{\"field\":\"x\"},\"y\":{\"field\":\"y\"}},\"id\":\"d1fdffd5-b7ea-4f55-8c16-29edb4ef00e0\",\"type\":\"Line\"},{\"attributes\":{\"items\":[{\"id\":\"5ab6b005-dbc2-469d-a06e-f3aa2f66dff4\",\"type\":\"LegendItem\"},{\"id\":\"f804ee28-7483-4ac6-8027-55f868c9d5a2\",\"type\":\"LegendItem\"}],\"label_text_font_size\":{\"value\":\"8pt\"},\"location\":\"top_center\",\"orientation\":\"horizontal\",\"plot\":{\"id\":\"c32dba62-0c9d-452a-8463-ea8a937881cd\",\"subtype\":\"Figure\",\"type\":\"Plot\"}},\"id\":\"374da8ea-4dd3-41e1-8a43-54dda40e44d5\",\"type\":\"Legend\"},{\"attributes\":{\"source\":{\"id\":\"8e8d58f8-686b-4023-a756-de7be51b1e84\",\"type\":\"ColumnDataSource\"}},\"id\":\"7e20a89a-7c86-4b46-a48d-4e8a665fcece\",\"type\":\"CDSView\"},{\"attributes\":{\"source\":{\"id\":\"87c69ff1-328d-4adf-9184-15563aa81b17\",\"type\":\"ColumnDataSource\"}},\"id\":\"66ef2079-9766-4efe-9200-62ac2e8e7eef\",\"type\":\"CDSView\"},{\"attributes\":{},\"id\":\"82624f58-b545-4cb7-bb88-3a0e7c56d3ff\",\"type\":\"HelpTool\"},{\"attributes\":{\"callback\":null,\"data\":{\"x\":{\"__ndarray__\":\"ZzdTqPT7Q8AbqIxD+n8gwOY3MbngowLAcWW2oUxB/D+QlW1ZLkAOQFcdT9bi4A5AqW7RqCdnBED94FDJJSHnP1XE+k4+vee/A+9ujyT69L+V7KdBUArxvz760eNXzt2/0LKTbOtvuj9EWzgdeZPeP3O7BL/n3eE/mPcmbdZD2D9bBRVM/dK5P6wfbeDE1c2/3LasBRpA379A1N7+nZrev/rQ0B1oJ82/+Poz6PeMeL/Y/M1A3fC1P6Bzhq54jbK/doeEzsbLx7+pMaEhwFO8P34s1nAJHuI/xOEqWhxL4z+edCVWPGnZPzVxNE2TNdg/GLSi+7Ac5T/o3tQ7T5HoPz3QkldX1+M/6J43Po3q2z9drmKQydHYP+NcZ3Nt99I/TvlpFUgMvD/IHBBOpF2gP2/XYKvR8qc/zoZORaJdrT9AqOeEoOiuP4bjd336l7I/zguEb6J0tj/dFl3CrsDCP8XJONEDbck/HTllfalpI0ASnmUOJe8aQGC9V90Qh/C/zE2kUKfDGkDdfsTgthLzv5yHQXHNgiVAskJ6EIuKMcDCx+vg+7YDwPhwoDuVrgHAwFaHcEw+AMCNioBkgyH+v/Iy839vHPy/VHsKIaQ1+r/KwPkENED4v5+LrcEuO/a/iaDFrd0x9L9AjAP0aizyvyridJKtPvC/s2ymdS0H7r+77fAGef7pv4XugZAh0+O/ueqFdFRlKEBtPi4g5hHUP5pihQVql/K/MX4qRzlKB8Dns4M8rvv0vz4SYYkoYvK/PnODiwyw8L8mPXpuogjvvyiELBDfp+2/\",\"dtype\":\"float64\",\"shape\":[75]},\"y\":{\"__ndarray__\":\"GhExyth1ND/Sv8nbtpRIP2vylNV0PVE/aTum7souWD/At0SJ8fVgPw3Iuahxymc/MSNhhJWvcD/bTfBN02d3P2zb5nxnaoA/CD5h5MAGhz8NmeH1TyaQP+zrCsc9p5Y/LbKd76fGnz/bLW5ISEmmPww9YvTcQq8/JV2OstnstT8Er5Y7M8G+P0c+r3jqkcU/5h99k6ZBzj88bCIzFzjVP4enV8oyxN0//yH99nXg5D8qOpLLf0jtP5kqGJXUifQ/c9cS8kHP/D+/DpwzojQEQIEmwoanVwxA4lgXt9HgE0BSSZ2AJuIbQAMJih9jjiNA5q4l5INuK0AwTKYKRj0zQNv5fmq8/DpAaCJseHrtQkB/+zpwzoxKQM3MzMzMeFJAZmZmZmZqWEAAAAAAAFxeQM3MzMzMJmJAmpmZmZkfZUBmZmZmZhhoQDMzMzMzEWtAAAAAAAAKbkBmZmZmZoFwQM3MzMzM/XFAMzMzMzN6c0CamZmZmfZ0QAAAAAAAc3ZAZmZmZmbvd0DNzMzMzGt5QDMzMzMz6HpAmpmZmZlkfEAAAAAAAOF9QGZmZmZmXX9AZmZmZuZsgECamZmZGSuBQM3MzMxM6YFAAAAAAICngkAzMzMzs2WDQGZmZmbmI4RAmpmZmRnihEDNzMzMTKCFQAAAAACAXoZAMzMzM7Mch0BmZmZm5tqHQJqZmZkZmYhAzczMzExXiUAAAAAAgBWKQDMzMzOz04pAZmZmZuaRi0CamZmZGVCMQM3MzMxMDo1AAAAAAIDMjUAzMzMzs4qOQGZmZmbmSI9A\",\"dtype\":\"float64\",\"shape\":[75]}},\"selected\":{\"id\":\"a110725d-670a-49e4-ac80-0c00ae9e7185\",\"type\":\"Selection\"},\"selection_policy\":{\"id\":\"c85faac8-faed-4b1c-8aa9-e9b76278832d\",\"type\":\"UnionRenderers\"}},\"id\":\"7d53456a-6166-4b76-af8a-81791ded8bb4\",\"type\":\"ColumnDataSource\"},{\"attributes\":{},\"id\":\"2b87edb7-e0fe-4652-ad6c-090a8ee47654\",\"type\":\"BasicTicker\"},{\"attributes\":{},\"id\":\"bad6d1c4-c3c7-47c7-b487-46e6213df25a\",\"type\":\"PanTool\"},{\"attributes\":{\"num_minor_ticks\":10},\"id\":\"5f727ddb-6068-4097-9e2a-cf70783f05b6\",\"type\":\"LogTicker\"},{\"attributes\":{\"dimension\":1,\"plot\":{\"id\":\"1ef9eaaf-ff1a-4236-84aa-8ab3ba543cb9\",\"subtype\":\"Figure\",\"type\":\"Plot\"},\"ticker\":{\"id\":\"5f727ddb-6068-4097-9e2a-cf70783f05b6\",\"type\":\"LogTicker\"}},\"id\":\"a67d581c-caf7-4cec-8a1e-927971e763b1\",\"type\":\"Grid\"},{\"attributes\":{\"data_source\":{\"id\":\"eecd4f18-3b40-4f87-bd8c-759d0044db72\",\"type\":\"ColumnDataSource\"},\"glyph\":{\"id\":\"7a2c5958-dd80-45ac-b9e9-da2479331d33\",\"type\":\"Circle\"},\"hover_glyph\":null,\"muted_glyph\":null,\"nonselection_glyph\":{\"id\":\"1e6a9209-bfda-4039-b396-455030b02fb0\",\"type\":\"Circle\"},\"selection_glyph\":null,\"view\":{\"id\":\"d19c27d9-a8eb-40b8-a2f6-881ccf3427df\",\"type\":\"CDSView\"}},\"id\":\"2666d6b1-4b77-453e-802d-2dce0c30ebb9\",\"type\":\"GlyphRenderer\"},{\"attributes\":{\"fill_alpha\":{\"value\":0.7},\"fill_color\":{\"value\":\"#4daf4a\"},\"line_alpha\":{\"value\":0.7},\"line_color\":{\"value\":\"#4daf4a\"},\"x\":{\"field\":\"x\"},\"y\":{\"field\":\"y\"}},\"id\":\"e271a437-f573-4831-a44a-bca3220ec93e\",\"type\":\"Circle\"},{\"attributes\":{},\"id\":\"ac20e12f-d9b8-4963-8a96-e3d5ca6bf113\",\"type\":\"WheelZoomTool\"},{\"attributes\":{\"ticker\":null},\"id\":\"37f816f1-9e4f-4bd3-a044-c63bede4136e\",\"type\":\"LogTickFormatter\"},{\"attributes\":{},\"id\":\"fe6a3c9e-dc1d-4572-af7f-d11bef8333dd\",\"type\":\"LinearScale\"},{\"attributes\":{\"line_alpha\":0.1,\"line_color\":\"#1f77b4\",\"line_dash\":[6],\"line_width\":5,\"x\":{\"field\":\"x\"},\"y\":{\"field\":\"y\"}},\"id\":\"22217854-d551-4b51-8a07-8408d4a2fe9e\",\"type\":\"Line\"},{\"attributes\":{\"fill_alpha\":{\"value\":0.7},\"fill_color\":{\"value\":\"#984ea3\"},\"line_alpha\":{\"value\":0.7},\"line_color\":{\"value\":\"#984ea3\"},\"x\":{\"field\":\"x\"},\"y\":{\"field\":\"y\"}},\"id\":\"7a2c5958-dd80-45ac-b9e9-da2479331d33\",\"type\":\"Circle\"},{\"attributes\":{\"callback\":null,\"end\":0.01,\"start\":1020},\"id\":\"7cae1917-92cf-44f5-9cbd-bbf22481987a\",\"type\":\"Range1d\"},{\"attributes\":{\"line_alpha\":0.6,\"line_color\":\"#377eb8\",\"line_dash\":[6],\"line_width\":5,\"x\":{\"field\":\"x\"},\"y\":{\"field\":\"y\"}},\"id\":\"b21ed51d-0e03-477b-a33d-5491e293ab20\",\"type\":\"Line\"},{\"attributes\":{\"plot\":{\"id\":\"1ef9eaaf-ff1a-4236-84aa-8ab3ba543cb9\",\"subtype\":\"Figure\",\"type\":\"Plot\"},\"ticker\":{\"id\":\"2b87edb7-e0fe-4652-ad6c-090a8ee47654\",\"type\":\"BasicTicker\"}},\"id\":\"641ece17-e994-490d-b5da-4356bc89545c\",\"type\":\"Grid\"},{\"attributes\":{\"above\":[{\"id\":\"45779add-9897-4ef3-8d63-5c7d4a167ac4\",\"type\":\"Legend\"}],\"below\":[{\"id\":\"1f259f66-d7f1-4f18-ad60-a7809cc6ce47\",\"type\":\"LinearAxis\"}],\"left\":[{\"id\":\"e947b2fe-a532-4747-bcd3-d91d08593fc5\",\"type\":\"LogAxis\"}],\"plot_width\":300,\"renderers\":[{\"id\":\"1f259f66-d7f1-4f18-ad60-a7809cc6ce47\",\"type\":\"LinearAxis\"},{\"id\":\"641ece17-e994-490d-b5da-4356bc89545c\",\"type\":\"Grid\"},{\"id\":\"e947b2fe-a532-4747-bcd3-d91d08593fc5\",\"type\":\"LogAxis\"},{\"id\":\"a67d581c-caf7-4cec-8a1e-927971e763b1\",\"type\":\"Grid\"},{\"id\":\"75d7d90f-9922-4094-926c-e2b29d11f889\",\"type\":\"BoxAnnotation\"},{\"id\":\"2666d6b1-4b77-453e-802d-2dce0c30ebb9\",\"type\":\"GlyphRenderer\"},{\"id\":\"22f2db67-58ca-4e1e-a550-e8c567a94082\",\"type\":\"GlyphRenderer\"},{\"id\":\"45779add-9897-4ef3-8d63-5c7d4a167ac4\",\"type\":\"Legend\"}],\"title\":{\"id\":\"a237548d-d5b6-4a48-8566-4432e2265513\",\"type\":\"Title\"},\"toolbar\":{\"id\":\"58632baf-d892-446c-a766-8bd60ddc34d0\",\"type\":\"Toolbar\"},\"toolbar_location\":null,\"x_range\":{\"id\":\"40a6ccf6-420a-436a-8ced-82ab8c7ed8bf\",\"type\":\"Range1d\"},\"x_scale\":{\"id\":\"fe6a3c9e-dc1d-4572-af7f-d11bef8333dd\",\"type\":\"LinearScale\"},\"y_range\":{\"id\":\"7cae1917-92cf-44f5-9cbd-bbf22481987a\",\"type\":\"Range1d\"},\"y_scale\":{\"id\":\"348a08c8-dc81-42a4-ad7b-08fcec70f8fd\",\"type\":\"LogScale\"}},\"id\":\"1ef9eaaf-ff1a-4236-84aa-8ab3ba543cb9\",\"subtype\":\"Figure\",\"type\":\"Plot\"},{\"attributes\":{\"line_color\":\"#4daf4a\",\"line_width\":1.5,\"x\":{\"field\":\"x\"},\"y\":{\"field\":\"y\"}},\"id\":\"9c82c453-7dd5-40c7-a3f5-e37573fe1965\",\"type\":\"Line\"},{\"attributes\":{\"data_source\":{\"id\":\"7d53456a-6166-4b76-af8a-81791ded8bb4\",\"type\":\"ColumnDataSource\"},\"glyph\":{\"id\":\"31b56dba-1a72-423e-b4e8-212b5b4da394\",\"type\":\"Line\"},\"hover_glyph\":null,\"muted_glyph\":null,\"nonselection_glyph\":{\"id\":\"d19511c2-4499-43b3-8272-90426085a280\",\"type\":\"Line\"},\"selection_glyph\":null,\"view\":{\"id\":\"8e5ace3c-79ad-48d1-8f42-b7165a48c726\",\"type\":\"CDSView\"}},\"id\":\"22f2db67-58ca-4e1e-a550-e8c567a94082\",\"type\":\"GlyphRenderer\"},{\"attributes\":{\"bottom_units\":\"screen\",\"fill_alpha\":{\"value\":0.5},\"fill_color\":{\"value\":\"lightgrey\"},\"left_units\":\"screen\",\"level\":\"overlay\",\"line_alpha\":{\"value\":1.0},\"line_color\":{\"value\":\"black\"},\"line_dash\":[4,4],\"line_width\":{\"value\":2},\"plot\":null,\"render_mode\":\"css\",\"right_units\":\"screen\",\"top_units\":\"screen\"},\"id\":\"75d7d90f-9922-4094-926c-e2b29d11f889\",\"type\":\"BoxAnnotation\"},{\"attributes\":{\"data_source\":{\"id\":\"3ef4b273-e23e-4da1-864c-275a3ceac7ff\",\"type\":\"ColumnDataSource\"},\"glyph\":{\"id\":\"e271a437-f573-4831-a44a-bca3220ec93e\",\"type\":\"Circle\"},\"hover_glyph\":null,\"muted_glyph\":null,\"nonselection_glyph\":{\"id\":\"2b00bca6-6064-4e84-975c-1ec33926fd05\",\"type\":\"Circle\"},\"selection_glyph\":null,\"view\":{\"id\":\"90dcc4db-2078-442a-916d-3986e830e885\",\"type\":\"CDSView\"}},\"id\":\"d9c2634d-951b-41ec-8ea7-77c6627822df\",\"type\":\"GlyphRenderer\"},{\"attributes\":{\"items\":[{\"id\":\"73d106c1-6589-4a33-9ef1-c6992923b49c\",\"type\":\"LegendItem\"}],\"label_text_font_size\":{\"value\":\"8pt\"},\"location\":\"top_center\",\"orientation\":\"horizontal\",\"plot\":{\"id\":\"1ef9eaaf-ff1a-4236-84aa-8ab3ba543cb9\",\"subtype\":\"Figure\",\"type\":\"Plot\"}},\"id\":\"45779add-9897-4ef3-8d63-5c7d4a167ac4\",\"type\":\"Legend\"},{\"attributes\":{},\"id\":\"3c5fe07e-ab1b-4fd5-851c-4e17146a76ff\",\"type\":\"Selection\"},{\"attributes\":{\"callback\":null,\"end\":0.7885260568903912,\"start\":-1.3318581028536913},\"id\":\"40a6ccf6-420a-436a-8ced-82ab8c7ed8bf\",\"type\":\"Range1d\"},{\"attributes\":{\"callback\":null,\"end\":12.294864042536679,\"start\":-0.5755922114646799},\"id\":\"830873b0-c062-42b0-b950-8072be828c03\",\"type\":\"Range1d\"},{\"attributes\":{\"source\":{\"id\":\"eecd4f18-3b40-4f87-bd8c-759d0044db72\",\"type\":\"ColumnDataSource\"}},\"id\":\"d19c27d9-a8eb-40b8-a2f6-881ccf3427df\",\"type\":\"CDSView\"},{\"attributes\":{\"line_alpha\":0.8,\"line_color\":\"#984ea3\",\"line_width\":1.5,\"x\":{\"field\":\"x\"},\"y\":{\"field\":\"y\"}},\"id\":\"31b56dba-1a72-423e-b4e8-212b5b4da394\",\"type\":\"Line\"},{\"attributes\":{},\"id\":\"c3d0ede7-c608-468f-85cf-a69699edd84b\",\"type\":\"UnionRenderers\"},{\"attributes\":{\"source\":{\"id\":\"3ef4b273-e23e-4da1-864c-275a3ceac7ff\",\"type\":\"ColumnDataSource\"}},\"id\":\"90dcc4db-2078-442a-916d-3986e830e885\",\"type\":\"CDSView\"},{\"attributes\":{\"line_alpha\":0.1,\"line_color\":\"#1f77b4\",\"line_width\":1.5,\"x\":{\"field\":\"x\"},\"y\":{\"field\":\"y\"}},\"id\":\"d19511c2-4499-43b3-8272-90426085a280\",\"type\":\"Line\"},{\"attributes\":{\"fill_alpha\":{\"value\":0.1},\"fill_color\":{\"value\":\"#1f77b4\"},\"line_alpha\":{\"value\":0.1},\"line_color\":{\"value\":\"#1f77b4\"},\"x\":{\"field\":\"x\"},\"y\":{\"field\":\"y\"}},\"id\":\"1e6a9209-bfda-4039-b396-455030b02fb0\",\"type\":\"Circle\"},{\"attributes\":{\"data_source\":{\"id\":\"87c69ff1-328d-4adf-9184-15563aa81b17\",\"type\":\"ColumnDataSource\"},\"glyph\":{\"id\":\"9c82c453-7dd5-40c7-a3f5-e37573fe1965\",\"type\":\"Line\"},\"hover_glyph\":null,\"muted_glyph\":null,\"nonselection_glyph\":{\"id\":\"a36cea8b-31c5-4a79-a9a6-41bbf175a588\",\"type\":\"Line\"},\"selection_glyph\":null,\"view\":{\"id\":\"66ef2079-9766-4efe-9200-62ac2e8e7eef\",\"type\":\"CDSView\"}},\"id\":\"d4e90cba-b484-4039-a1e9-287c97b7086d\",\"type\":\"GlyphRenderer\"},{\"attributes\":{},\"id\":\"348a08c8-dc81-42a4-ad7b-08fcec70f8fd\",\"type\":\"LogScale\"},{\"attributes\":{\"overlay\":{\"id\":\"75d7d90f-9922-4094-926c-e2b29d11f889\",\"type\":\"BoxAnnotation\"}},\"id\":\"1846c0c5-013b-47d9-b0b7-a8b353ee363b\",\"type\":\"BoxZoomTool\"},{\"attributes\":{},\"id\":\"29dc56d0-e5b9-4e85-b6cc-2be1f6d84519\",\"type\":\"ResetTool\"},{\"attributes\":{\"callback\":null,\"data\":{\"x\":{\"__ndarray__\":\"R/KIaN7AVEClCeJMyPNGQOvRhpxr30JAptxzhxx4PkA7SssMElA4QK6Bp3CyUDNAsVXpjES9LkBFhUV0+5coQMHYwqbbySNA6f09nM3nH0CaSd/3eYoZQDmgiAOW8BNAPYqARh3eDEBkm4vCgvr+P9D+5tWhQfY/P8DwKRnSAkBq38kb17ILQDT7IWuSsxFAUr2Rjm0FFkAinq3s9XgbQGCHwtYcqSFAG64kT303J0C7dRDneyooQD9JYrbK8yRA9S3bneHhIUAIymSuUMMcQIkHLe6VEBdAAau3cITREkA6CiNvkQIPQJU39ki7IQlAaAvwok1UA0BXLQiS4+L7P0xzDpJ2hPI/NNuPGMbJ5z91mUVYxqfSPxqwUPSxZca/G11peifD3L8QzNj5t2jTvwzOozTL360/SPJ4VI1VzD9KJ0nXEIncP8yDdlvHt+4/Et49nYLW9z++2teD4Jn+P+568eH/bwFALf5D9lmAAkCiZAicVOkCQPPT4jNKxwJAOjp3wTzBAUBSQsKNGisBQG4OmjqJwQBAJ3sZoHFuAEA5Ar0Sdi0AQGy4rw5+9f8/7W4nSrC3/z8mPr8zj4T/P4UYRHCQS/8/embVKYcF/z+5YXG+LLP+P/qb8BVUgf4/KvafTtyO/j/avAK1Ppv+PwJV9VVm2P0/JFtYlU/n/D9sN+q2fiX6Pw44e41PNPc/Opt+Z/wN9T+x3vcSW1vzP9ofvWQJlvI/8sciQQBW8j80sfkQa17yPzg5qng2r/I/Oh14WJBh8z+VZjnpctj0P6CcrSuCqQBA\",\"dtype\":\"float64\",\"shape\":[75]},\"y\":{\"__ndarray__\":\"GhExyth1ND/Sv8nbtpRIP2vylNV0PVE/aTum7souWD/At0SJ8fVgPw3Iuahxymc/MSNhhJWvcD/bTfBN02d3P2zb5nxnaoA/CD5h5MAGhz8NmeH1TyaQP+zrCsc9p5Y/LbKd76fGnz/bLW5ISEmmPww9YvTcQq8/JV2OstnstT8Er5Y7M8G+P0c+r3jqkcU/5h99k6ZBzj88bCIzFzjVP4enV8oyxN0//yH99nXg5D8qOpLLf0jtP5kqGJXUifQ/c9cS8kHP/D+/DpwzojQEQIEmwoanVwxA4lgXt9HgE0BSSZ2AJuIbQAMJih9jjiNA5q4l5INuK0AwTKYKRj0zQNv5fmq8/DpAaCJseHrtQkB/+zpwzoxKQM3MzMzMeFJAZmZmZmZqWEAAAAAAAFxeQM3MzMzMJmJAmpmZmZkfZUBmZmZmZhhoQDMzMzMzEWtAAAAAAAAKbkBmZmZmZoFwQM3MzMzM/XFAMzMzMzN6c0CamZmZmfZ0QAAAAAAAc3ZAZmZmZmbvd0DNzMzMzGt5QDMzMzMz6HpAmpmZmZlkfEAAAAAAAOF9QGZmZmZmXX9AZmZmZuZsgECamZmZGSuBQM3MzMxM6YFAAAAAAICngkAzMzMzs2WDQGZmZmbmI4RAmpmZmRnihEDNzMzMTKCFQAAAAACAXoZAMzMzM7Mch0BmZmZm5tqHQJqZmZkZmYhAzczMzExXiUAAAAAAgBWKQDMzMzOz04pAZmZmZuaRi0CamZmZGVCMQM3MzMxMDo1AAAAAAIDMjUAzMzMzs4qOQGZmZmbmSI9A\",\"dtype\":\"float64\",\"shape\":[75]}},\"selected\":{\"id\":\"ab8f8c42-e142-4520-9423-132a260df312\",\"type\":\"Selection\"},\"selection_policy\":{\"id\":\"9bb342e3-88b2-4a04-97a0-74d90db74c6e\",\"type\":\"UnionRenderers\"}},\"id\":\"87c69ff1-328d-4adf-9184-15563aa81b17\",\"type\":\"ColumnDataSource\"},{\"attributes\":{\"line_alpha\":0.1,\"line_color\":\"#1f77b4\",\"line_width\":1.5,\"x\":{\"field\":\"x\"},\"y\":{\"field\":\"y\"}},\"id\":\"a36cea8b-31c5-4a79-a9a6-41bbf175a588\",\"type\":\"Line\"},{\"attributes\":{\"data_source\":{\"id\":\"8e8d58f8-686b-4023-a756-de7be51b1e84\",\"type\":\"ColumnDataSource\"},\"glyph\":{\"id\":\"b21ed51d-0e03-477b-a33d-5491e293ab20\",\"type\":\"Line\"},\"hover_glyph\":null,\"muted_glyph\":null,\"nonselection_glyph\":{\"id\":\"22217854-d551-4b51-8a07-8408d4a2fe9e\",\"type\":\"Line\"},\"selection_glyph\":null,\"view\":{\"id\":\"7e20a89a-7c86-4b46-a48d-4e8a665fcece\",\"type\":\"CDSView\"}},\"id\":\"895369fa-750a-4265-99fb-361e5ec7b67b\",\"type\":\"GlyphRenderer\"},{\"attributes\":{\"axis_label\":\"pressure [mb]\",\"formatter\":{\"id\":\"29870d1a-37cf-486d-9e31-3075bc9bded5\",\"type\":\"LogTickFormatter\"},\"plot\":{\"id\":\"1ef9eaaf-ff1a-4236-84aa-8ab3ba543cb9\",\"subtype\":\"Figure\",\"type\":\"Plot\"},\"ticker\":{\"id\":\"5f727ddb-6068-4097-9e2a-cf70783f05b6\",\"type\":\"LogTicker\"}},\"id\":\"e947b2fe-a532-4747-bcd3-d91d08593fc5\",\"type\":\"LogAxis\"},{\"attributes\":{},\"id\":\"e9d499d1-5c39-428b-aa1e-a8d4344a48ed\",\"type\":\"SaveTool\"},{\"attributes\":{\"callback\":null,\"data\":{\"x\":{\"__ndarray__\":\"R/KIaN7AVEClCeJMyPNGQOvRhpxr30JAptxzhxx4PkA7SssMElA4QK6Bp3CyUDNAsVXpjES9LkBFhUV0+5coQMHYwqbbySNA6f09nM3nH0CaSd/3eYoZQDmgiAOW8BNAPYqARh3eDEBkm4vCgvr+P9D+5tWhQfY/P8DwKRnSAkBq38kb17ILQDT7IWuSsxFAUr2Rjm0FFkAinq3s9XgbQGCHwtYcqSFAG64kT303J0C7dRDneyooQD9JYrbK8yRA9S3bneHhIUAIymSuUMMcQIkHLe6VEBdAAau3cITREkA6CiNvkQIPQJU39ki7IQlAaAvwok1UA0BXLQiS4+L7P0xzDpJ2hPI/NNuPGMbJ5z91mUVYxqfSPxqwUPSxZca/G11peifD3L8QzNj5t2jTvwzOozTL360/SPJ4VI1VzD9KJ0nXEIncP8yDdlvHt+4/Et49nYLW9z++2teD4Jn+P+568eH/bwFALf5D9lmAAkCiZAicVOkCQPPT4jNKxwJAOjp3wTzBAUBSQsKNGisBQG4OmjqJwQBAJ3sZoHFuAEA5Ar0Sdi0AQGy4rw5+9f8/7W4nSrC3/z8mPr8zj4T/P4UYRHCQS/8/embVKYcF/z+5YXG+LLP+P/qb8BVUgf4/KvafTtyO/j/avAK1Ppv+PwJV9VVm2P0/JFtYlU/n/D9sN+q2fiX6Pw44e41PNPc/Opt+Z/wN9T+x3vcSW1vzP9ofvWQJlvI/8sciQQBW8j80sfkQa17yPzg5qng2r/I/Oh14WJBh8z+VZjnpctj0P6CcrSuCqQBA\",\"dtype\":\"float64\",\"shape\":[75]},\"y\":{\"__ndarray__\":\"GhExyth1ND/Sv8nbtpRIP2vylNV0PVE/aTum7souWD/At0SJ8fVgPw3Iuahxymc/MSNhhJWvcD/bTfBN02d3P2zb5nxnaoA/CD5h5MAGhz8NmeH1TyaQP+zrCsc9p5Y/LbKd76fGnz/bLW5ISEmmPww9YvTcQq8/JV2OstnstT8Er5Y7M8G+P0c+r3jqkcU/5h99k6ZBzj88bCIzFzjVP4enV8oyxN0//yH99nXg5D8qOpLLf0jtP5kqGJXUifQ/c9cS8kHP/D+/DpwzojQEQIEmwoanVwxA4lgXt9HgE0BSSZ2AJuIbQAMJih9jjiNA5q4l5INuK0AwTKYKRj0zQNv5fmq8/DpAaCJseHrtQkB/+zpwzoxKQM3MzMzMeFJAZmZmZmZqWEAAAAAAAFxeQM3MzMzMJmJAmpmZmZkfZUBmZmZmZhhoQDMzMzMzEWtAAAAAAAAKbkBmZmZmZoFwQM3MzMzM/XFAMzMzMzN6c0CamZmZmfZ0QAAAAAAAc3ZAZmZmZmbvd0DNzMzMzGt5QDMzMzMz6HpAmpmZmZlkfEAAAAAAAOF9QGZmZmZmXX9AZmZmZuZsgECamZmZGSuBQM3MzMxM6YFAAAAAAICngkAzMzMzs2WDQGZmZmbmI4RAmpmZmRnihEDNzMzMTKCFQAAAAACAXoZAMzMzM7Mch0BmZmZm5tqHQJqZmZkZmYhAzczMzExXiUAAAAAAgBWKQDMzMzOz04pAZmZmZuaRi0CamZmZGVCMQM3MzMxMDo1AAAAAAIDMjUAzMzMzs4qOQGZmZmbmSI9A\",\"dtype\":\"float64\",\"shape\":[75]}},\"selected\":{\"id\":\"5c44769e-5392-41d1-b2cd-dc2dc4b15e50\",\"type\":\"Selection\"},\"selection_policy\":{\"id\":\"881b9b0b-fa58-48fd-ad37-de6ff1393917\",\"type\":\"UnionRenderers\"}},\"id\":\"3ef4b273-e23e-4da1-864c-275a3ceac7ff\",\"type\":\"ColumnDataSource\"},{\"attributes\":{\"source\":{\"id\":\"7d53456a-6166-4b76-af8a-81791ded8bb4\",\"type\":\"ColumnDataSource\"}},\"id\":\"8e5ace3c-79ad-48d1-8f42-b7165a48c726\",\"type\":\"CDSView\"},{\"attributes\":{\"fill_alpha\":{\"value\":0.1},\"fill_color\":{\"value\":\"#1f77b4\"},\"line_alpha\":{\"value\":0.1},\"line_color\":{\"value\":\"#1f77b4\"},\"x\":{\"field\":\"x\"},\"y\":{\"field\":\"y\"}},\"id\":\"2b00bca6-6064-4e84-975c-1ec33926fd05\",\"type\":\"Circle\"},{\"attributes\":{\"axis_label\":\"cooling rate [K/day]\",\"formatter\":{\"id\":\"2d3ed9aa-1f3f-4908-af79-f9168948e2ee\",\"type\":\"BasicTickFormatter\"},\"plot\":{\"id\":\"1ef9eaaf-ff1a-4236-84aa-8ab3ba543cb9\",\"subtype\":\"Figure\",\"type\":\"Plot\"},\"ticker\":{\"id\":\"2b87edb7-e0fe-4652-ad6c-090a8ee47654\",\"type\":\"BasicTicker\"}},\"id\":\"1f259f66-d7f1-4f18-ad60-a7809cc6ce47\",\"type\":\"LinearAxis\"},{\"attributes\":{\"bottom_units\":\"screen\",\"fill_alpha\":{\"value\":0.5},\"fill_color\":{\"value\":\"lightgrey\"},\"left_units\":\"screen\",\"level\":\"overlay\",\"line_alpha\":{\"value\":1.0},\"line_color\":{\"value\":\"black\"},\"line_dash\":[4,4],\"line_width\":{\"value\":2},\"plot\":null,\"render_mode\":\"css\",\"right_units\":\"screen\",\"top_units\":\"screen\"},\"id\":\"3c25b004-192e-4608-b20c-86111f997c34\",\"type\":\"BoxAnnotation\"},{\"attributes\":{\"active_drag\":\"auto\",\"active_inspect\":\"auto\",\"active_scroll\":\"auto\",\"active_tap\":\"auto\",\"tools\":[{\"id\":\"bad6d1c4-c3c7-47c7-b487-46e6213df25a\",\"type\":\"PanTool\"},{\"id\":\"ac20e12f-d9b8-4963-8a96-e3d5ca6bf113\",\"type\":\"WheelZoomTool\"},{\"id\":\"1846c0c5-013b-47d9-b0b7-a8b353ee363b\",\"type\":\"BoxZoomTool\"},{\"id\":\"e9d499d1-5c39-428b-aa1e-a8d4344a48ed\",\"type\":\"SaveTool\"},{\"id\":\"29dc56d0-e5b9-4e85-b6cc-2be1f6d84519\",\"type\":\"ResetTool\"},{\"id\":\"82624f58-b545-4cb7-bb88-3a0e7c56d3ff\",\"type\":\"HelpTool\"}]},\"id\":\"58632baf-d892-446c-a766-8bd60ddc34d0\",\"type\":\"Toolbar\"},{\"attributes\":{},\"id\":\"62be8f1f-9990-4107-a0be-8c9de23f8cf3\",\"type\":\"ResetTool\"},{\"attributes\":{\"data_source\":{\"id\":\"5622d818-0527-4ec0-82bd-68077657cf9b\",\"type\":\"ColumnDataSource\"},\"glyph\":{\"id\":\"e7c6a25d-2785-4ae3-85c1-648ee370d352\",\"type\":\"Circle\"},\"hover_glyph\":null,\"muted_glyph\":null,\"nonselection_glyph\":{\"id\":\"5428a6d7-9eee-4c4e-ac62-f786b2140c8a\",\"type\":\"Circle\"},\"selection_glyph\":null,\"view\":{\"id\":\"549b6691-64ba-4f03-8101-21d814b63608\",\"type\":\"CDSView\"}},\"id\":\"5fe92497-1dc7-4d9f-af25-98547d0c3d55\",\"type\":\"GlyphRenderer\"},{\"attributes\":{},\"id\":\"d38ba560-8be8-4815-8bfe-eab2b0118da4\",\"type\":\"Selection\"},{\"attributes\":{\"callback\":null,\"data\":{\"x\":{\"__ndarray__\":\"Ka2+KMiFRUCe3/67ydNCQG2+85AttUFAgKHHqBgeQEDv/PjXFxg8QFdlccvOLDdAr9iOO4frMUBTk9rQDQoqQHss08EHTiJAKUJieESpGkB0TnXn5UcVQJaAS4WwExJA1CfloZyxDUAa2eyEsE8DQIpcabWVMP8/Mp+V95PaBUCThyoGb4EMQDiSHkTkxBBA5PE27msRFEDesL8MTI8ZQBxESzZ/NCFAm6cnsGs0J0C0EZKhXVYoQFo8BcWvziRA1xuhgrKCIUDOTuuunzQdQBjNRxxXVBlAOwf9++c6FUBl3PN83BcRQLrFnLJtKAxAcLjY4XmbCEBkTvmXxRUEQGrb1z0icPw/VdXVW4bf8j/pI1T0x7zlP1wT/ORREr8/yN4OdRXA1b94yBZwA13Rv8FSAnBO6bo//Unm8nrW0T8pDvNzEjPgPx7AklVjhfA/zx42xMw9+T/NvhEu+3gAQIkHBR/QBgNAqTj2+r8JKEAy6DSu5zEiQIbqbYqDB/U/dfWv2CLSIUCIC4B1/IbuPzYL6L8vsylAmCbuuHn5LsBCLHZxLkzcvw1MiURjPcu/KdLn3BKdqL+VOevzvDC2P6Ush4IHeck/lawrI4w/0z++g97l4svZP7UghqhKjOA/Q6u0Qf255D8zYf6Bp93oP63lAIdxM+s/lUkKtXHH6z8egeNmhEzqP5WBdIp9leo/Ib51ARQHK0BNbgOb1F/4PwD5K4QMCja/cTQyTXI+/L+gFVBcGerEv4S+SdJ7Q5M/40+lZx6MxT8HIPHHhlDVPyv3RM8Uf/I/\",\"dtype\":\"float64\",\"shape\":[75]},\"y\":{\"__ndarray__\":\"GhExyth1ND/Sv8nbtpRIP2vylNV0PVE/aTum7souWD/At0SJ8fVgPw3Iuahxymc/MSNhhJWvcD/bTfBN02d3P2zb5nxnaoA/CD5h5MAGhz8NmeH1TyaQP+zrCsc9p5Y/LbKd76fGnz/bLW5ISEmmPww9YvTcQq8/JV2OstnstT8Er5Y7M8G+P0c+r3jqkcU/5h99k6ZBzj88bCIzFzjVP4enV8oyxN0//yH99nXg5D8qOpLLf0jtP5kqGJXUifQ/c9cS8kHP/D+/DpwzojQEQIEmwoanVwxA4lgXt9HgE0BSSZ2AJuIbQAMJih9jjiNA5q4l5INuK0AwTKYKRj0zQNv5fmq8/DpAaCJseHrtQkB/+zpwzoxKQM3MzMzMeFJAZmZmZmZqWEAAAAAAAFxeQM3MzMzMJmJAmpmZmZkfZUBmZmZmZhhoQDMzMzMzEWtAAAAAAAAKbkBmZmZmZoFwQM3MzMzM/XFAMzMzMzN6c0CamZmZmfZ0QAAAAAAAc3ZAZmZmZmbvd0DNzMzMzGt5QDMzMzMz6HpAmpmZmZlkfEAAAAAAAOF9QGZmZmZmXX9AZmZmZuZsgECamZmZGSuBQM3MzMxM6YFAAAAAAICngkAzMzMzs2WDQGZmZmbmI4RAmpmZmRnihEDNzMzMTKCFQAAAAACAXoZAMzMzM7Mch0BmZmZm5tqHQJqZmZkZmYhAzczMzExXiUAAAAAAgBWKQDMzMzOz04pAZmZmZuaRi0CamZmZGVCMQM3MzMxMDo1AAAAAAIDMjUAzMzMzs4qOQGZmZmbmSI9A\",\"dtype\":\"float64\",\"shape\":[75]}},\"selected\":{\"id\":\"3c5fe07e-ab1b-4fd5-851c-4e17146a76ff\",\"type\":\"Selection\"},\"selection_policy\":{\"id\":\"c3d0ede7-c608-468f-85cf-a69699edd84b\",\"type\":\"UnionRenderers\"}},\"id\":\"8e8d58f8-686b-4023-a756-de7be51b1e84\",\"type\":\"ColumnDataSource\"},{\"attributes\":{\"plot\":null,\"text\":\"\"},\"id\":\"a237548d-d5b6-4a48-8566-4432e2265513\",\"type\":\"Title\"},{\"attributes\":{},\"id\":\"5c44769e-5392-41d1-b2cd-dc2dc4b15e50\",\"type\":\"Selection\"},{\"attributes\":{\"tools\":[{\"id\":\"4454ac8c-be18-4863-9157-0a1d72f53df2\",\"type\":\"PanTool\"},{\"id\":\"574fabbd-d254-4e0e-9107-4127df805df6\",\"type\":\"WheelZoomTool\"},{\"id\":\"fba23b56-b9b4-48d4-9b5c-820b6f1ac354\",\"type\":\"BoxZoomTool\"},{\"id\":\"10abc040-a491-44df-85c8-02c945032f2e\",\"type\":\"SaveTool\"},{\"id\":\"f5f232cc-062c-427d-ad01-02c23667a19c\",\"type\":\"ResetTool\"},{\"id\":\"42f057d9-2df5-4515-a305-eee0749290cd\",\"type\":\"HelpTool\"},{\"id\":\"6d95f0f7-d406-4c11-ba85-66bb6e2d5c73\",\"type\":\"PanTool\"},{\"id\":\"d42b99fd-b5cb-497b-a796-fd86592fd071\",\"type\":\"WheelZoomTool\"},{\"id\":\"4b26a040-b191-42a5-a0f0-528bc1eb717e\",\"type\":\"BoxZoomTool\"},{\"id\":\"9eca69b0-b457-42ce-9f35-a15534fa30a7\",\"type\":\"SaveTool\"},{\"id\":\"62be8f1f-9990-4107-a0be-8c9de23f8cf3\",\"type\":\"ResetTool\"},{\"id\":\"eaefceac-c9db-417d-acb2-23a6f0e3b6fd\",\"type\":\"HelpTool\"},{\"id\":\"bad6d1c4-c3c7-47c7-b487-46e6213df25a\",\"type\":\"PanTool\"},{\"id\":\"ac20e12f-d9b8-4963-8a96-e3d5ca6bf113\",\"type\":\"WheelZoomTool\"},{\"id\":\"1846c0c5-013b-47d9-b0b7-a8b353ee363b\",\"type\":\"BoxZoomTool\"},{\"id\":\"e9d499d1-5c39-428b-aa1e-a8d4344a48ed\",\"type\":\"SaveTool\"},{\"id\":\"29dc56d0-e5b9-4e85-b6cc-2be1f6d84519\",\"type\":\"ResetTool\"},{\"id\":\"82624f58-b545-4cb7-bb88-3a0e7c56d3ff\",\"type\":\"HelpTool\"}]},\"id\":\"30f4c328-eaac-48ab-8d2d-68ee912ce7f8\",\"type\":\"ProxyToolbar\"},{\"attributes\":{\"callback\":null,\"end\":0.01,\"start\":1020},\"id\":\"a73f453e-9999-4f06-9700-2d76e9e2c4ab\",\"type\":\"Range1d\"},{\"attributes\":{\"toolbar\":{\"id\":\"30f4c328-eaac-48ab-8d2d-68ee912ce7f8\",\"type\":\"ProxyToolbar\"},\"toolbar_location\":\"above\"},\"id\":\"5e2829d6-b3c5-4b7e-b83e-13f77110e107\",\"type\":\"ToolbarBox\"},{\"attributes\":{\"label\":{\"value\":\"CLIRAD (single-run) - CRD\"},\"renderers\":[{\"id\":\"2666d6b1-4b77-453e-802d-2dce0c30ebb9\",\"type\":\"GlyphRenderer\"},{\"id\":\"22f2db67-58ca-4e1e-a550-e8c567a94082\",\"type\":\"GlyphRenderer\"}]},\"id\":\"73d106c1-6589-4a33-9ef1-c6992923b49c\",\"type\":\"LegendItem\"},{\"attributes\":{},\"id\":\"9bb342e3-88b2-4a04-97a0-74d90db74c6e\",\"type\":\"UnionRenderers\"},{\"attributes\":{},\"id\":\"a110725d-670a-49e4-ac80-0c00ae9e7185\",\"type\":\"Selection\"},{\"attributes\":{},\"id\":\"972373b0-1ad1-4ea8-a51c-044fad56879c\",\"type\":\"BasicTickFormatter\"},{\"attributes\":{\"fill_alpha\":{\"value\":0.1},\"fill_color\":{\"value\":\"#1f77b4\"},\"line_alpha\":{\"value\":0.1},\"line_color\":{\"value\":\"#1f77b4\"},\"x\":{\"field\":\"x\"},\"y\":{\"field\":\"y\"}},\"id\":\"5428a6d7-9eee-4c4e-ac62-f786b2140c8a\",\"type\":\"Circle\"},{\"attributes\":{},\"id\":\"881b9b0b-fa58-48fd-ad37-de6ff1393917\",\"type\":\"UnionRenderers\"},{\"attributes\":{\"children\":[{\"id\":\"c928efbf-6e6f-4050-9876-6787fd349e96\",\"type\":\"Row\"}]},\"id\":\"5da853ad-1676-449f-9d22-36eba9f651bc\",\"type\":\"Column\"},{\"attributes\":{},\"id\":\"2448e0b1-bd83-4cd6-b84d-c69954a91824\",\"type\":\"Selection\"},{\"attributes\":{\"children\":[{\"id\":\"5e2829d6-b3c5-4b7e-b83e-13f77110e107\",\"type\":\"ToolbarBox\"},{\"id\":\"5da853ad-1676-449f-9d22-36eba9f651bc\",\"type\":\"Column\"}]},\"id\":\"b55f2ae7-c123-41bd-889c-a1be3a0646b2\",\"type\":\"Column\"},{\"attributes\":{\"source\":{\"id\":\"b858d1bb-9f4b-43c9-bd88-753e050e779c\",\"type\":\"ColumnDataSource\"}},\"id\":\"8ce6b7aa-8246-4467-9c98-01f264107b4d\",\"type\":\"CDSView\"},{\"attributes\":{},\"id\":\"13f113b1-4483-48f7-8e43-00993b57e37e\",\"type\":\"UnionRenderers\"},{\"attributes\":{\"ticker\":null},\"id\":\"29870d1a-37cf-486d-9e31-3075bc9bded5\",\"type\":\"LogTickFormatter\"},{\"attributes\":{},\"id\":\"e955033c-cc4c-4d35-aabc-5a6c7dfee9d6\",\"type\":\"UnionRenderers\"},{\"attributes\":{},\"id\":\"c85faac8-faed-4b1c-8aa9-e9b76278832d\",\"type\":\"UnionRenderers\"},{\"attributes\":{\"line_alpha\":0.1,\"line_color\":\"#1f77b4\",\"line_width\":1.5,\"x\":{\"field\":\"x\"},\"y\":{\"field\":\"y\"}},\"id\":\"4e80c921-dedb-49df-8910-2e39f4a11b09\",\"type\":\"Line\"},{\"attributes\":{\"line_color\":\"#4daf4a\",\"line_width\":1.5,\"x\":{\"field\":\"x\"},\"y\":{\"field\":\"y\"}},\"id\":\"2a10e9aa-8ca1-4369-977b-ac02bdedafc6\",\"type\":\"Line\"},{\"attributes\":{},\"id\":\"a4a7939b-0bfe-4d92-af1d-e83b17dd1486\",\"type\":\"UnionRenderers\"},{\"attributes\":{},\"id\":\"a4b72ff4-9b44-4717-9d17-331cd99fa5a2\",\"type\":\"BasicTickFormatter\"},{\"attributes\":{\"plot\":null,\"text\":\"\"},\"id\":\"ac535db3-3d34-4b24-9c13-e11094f64236\",\"type\":\"Title\"},{\"attributes\":{\"plot\":null,\"text\":\"\"},\"id\":\"8234d28b-be86-488a-a443-854b94c5a832\",\"type\":\"Title\"},{\"attributes\":{},\"id\":\"ab8f8c42-e142-4520-9423-132a260df312\",\"type\":\"Selection\"},{\"attributes\":{},\"id\":\"539992f1-7a48-4148-890b-8616a7a0a685\",\"type\":\"Selection\"},{\"attributes\":{\"children\":[{\"id\":\"65a17435-2d9e-49ef-b48c-9a0c25363206\",\"subtype\":\"Figure\",\"type\":\"Plot\"},{\"id\":\"c32dba62-0c9d-452a-8463-ea8a937881cd\",\"subtype\":\"Figure\",\"type\":\"Plot\"},{\"id\":\"1ef9eaaf-ff1a-4236-84aa-8ab3ba543cb9\",\"subtype\":\"Figure\",\"type\":\"Plot\"}]},\"id\":\"c928efbf-6e6f-4050-9876-6787fd349e96\",\"type\":\"Row\"},{\"attributes\":{\"data_source\":{\"id\":\"b858d1bb-9f4b-43c9-bd88-753e050e779c\",\"type\":\"ColumnDataSource\"},\"glyph\":{\"id\":\"d1fdffd5-b7ea-4f55-8c16-29edb4ef00e0\",\"type\":\"Line\"},\"hover_glyph\":null,\"muted_glyph\":null,\"nonselection_glyph\":{\"id\":\"2a1d9e63-ca8c-4c62-a7df-c8efbebd7c28\",\"type\":\"Line\"},\"selection_glyph\":null,\"view\":{\"id\":\"8ce6b7aa-8246-4467-9c98-01f264107b4d\",\"type\":\"CDSView\"}},\"id\":\"70b597b1-b81a-4e4a-86a0-e3f8421e64d5\",\"type\":\"GlyphRenderer\"},{\"attributes\":{},\"id\":\"5896c701-849a-4d45-b555-57babb146770\",\"type\":\"UnionRenderers\"},{\"attributes\":{},\"id\":\"841ebcc7-3fb6-4722-9eb6-bd05f761da3a\",\"type\":\"Selection\"},{\"attributes\":{\"source\":{\"id\":\"5622d818-0527-4ec0-82bd-68077657cf9b\",\"type\":\"ColumnDataSource\"}},\"id\":\"549b6691-64ba-4f03-8101-21d814b63608\",\"type\":\"CDSView\"},{\"attributes\":{\"callback\":null,\"data\":{\"x\":{\"__ndarray__\":\"R/KIaN7AVEClCeJMyPNGQOvRhpxr30JAptxzhxx4PkA7SssMElA4QK6Bp3CyUDNAsVXpjES9LkBFhUV0+5coQMHYwqbbySNA6f09nM3nH0CaSd/3eYoZQDmgiAOW8BNAPYqARh3eDEBkm4vCgvr+P9D+5tWhQfY/P8DwKRnSAkBq38kb17ILQDT7IWuSsxFAUr2Rjm0FFkAinq3s9XgbQGCHwtYcqSFAG64kT303J0C7dRDneyooQD9JYrbK8yRA9S3bneHhIUAIymSuUMMcQIkHLe6VEBdAAau3cITREkA6CiNvkQIPQJU39ki7IQlAaAvwok1UA0BXLQiS4+L7P0xzDpJ2hPI/NNuPGMbJ5z91mUVYxqfSPxqwUPSxZca/G11peifD3L8QzNj5t2jTvwzOozTL360/SPJ4VI1VzD9KJ0nXEIncP8yDdlvHt+4/Et49nYLW9z++2teD4Jn+P+568eH/bwFALf5D9lmAAkCiZAicVOkCQPPT4jNKxwJAOjp3wTzBAUBSQsKNGisBQG4OmjqJwQBAJ3sZoHFuAEA5Ar0Sdi0AQGy4rw5+9f8/7W4nSrC3/z8mPr8zj4T/P4UYRHCQS/8/embVKYcF/z+5YXG+LLP+P/qb8BVUgf4/KvafTtyO/j/avAK1Ppv+PwJV9VVm2P0/JFtYlU/n/D9sN+q2fiX6Pw44e41PNPc/Opt+Z/wN9T+x3vcSW1vzP9ofvWQJlvI/8sciQQBW8j80sfkQa17yPzg5qng2r/I/Oh14WJBh8z+VZjnpctj0P6CcrSuCqQBA\",\"dtype\":\"float64\",\"shape\":[75]},\"y\":{\"__ndarray__\":\"GhExyth1ND/Sv8nbtpRIP2vylNV0PVE/aTum7souWD/At0SJ8fVgPw3Iuahxymc/MSNhhJWvcD/bTfBN02d3P2zb5nxnaoA/CD5h5MAGhz8NmeH1TyaQP+zrCsc9p5Y/LbKd76fGnz/bLW5ISEmmPww9YvTcQq8/JV2OstnstT8Er5Y7M8G+P0c+r3jqkcU/5h99k6ZBzj88bCIzFzjVP4enV8oyxN0//yH99nXg5D8qOpLLf0jtP5kqGJXUifQ/c9cS8kHP/D+/DpwzojQEQIEmwoanVwxA4lgXt9HgE0BSSZ2AJuIbQAMJih9jjiNA5q4l5INuK0AwTKYKRj0zQNv5fmq8/DpAaCJseHrtQkB/+zpwzoxKQM3MzMzMeFJAZmZmZmZqWEAAAAAAAFxeQM3MzMzMJmJAmpmZmZkfZUBmZmZmZhhoQDMzMzMzEWtAAAAAAAAKbkBmZmZmZoFwQM3MzMzM/XFAMzMzMzN6c0CamZmZmfZ0QAAAAAAAc3ZAZmZmZmbvd0DNzMzMzGt5QDMzMzMz6HpAmpmZmZlkfEAAAAAAAOF9QGZmZmZmXX9AZmZmZuZsgECamZmZGSuBQM3MzMxM6YFAAAAAAICngkAzMzMzs2WDQGZmZmbmI4RAmpmZmRnihEDNzMzMTKCFQAAAAACAXoZAMzMzM7Mch0BmZmZm5tqHQJqZmZkZmYhAzczMzExXiUAAAAAAgBWKQDMzMzOz04pAZmZmZuaRi0CamZmZGVCMQM3MzMxMDo1AAAAAAIDMjUAzMzMzs4qOQGZmZmbmSI9A\",\"dtype\":\"float64\",\"shape\":[75]}},\"selected\":{\"id\":\"d38ba560-8be8-4815-8bfe-eab2b0118da4\",\"type\":\"Selection\"},\"selection_policy\":{\"id\":\"5896c701-849a-4d45-b555-57babb146770\",\"type\":\"UnionRenderers\"}},\"id\":\"d601ed85-5af9-4c04-8ecc-484a8e72d730\",\"type\":\"ColumnDataSource\"},{\"attributes\":{\"fill_alpha\":{\"value\":0.7},\"fill_color\":{\"value\":\"#4daf4a\"},\"line_alpha\":{\"value\":0.7},\"line_color\":{\"value\":\"#4daf4a\"},\"x\":{\"field\":\"x\"},\"y\":{\"field\":\"y\"}},\"id\":\"e7c6a25d-2785-4ae3-85c1-648ee370d352\",\"type\":\"Circle\"},{\"attributes\":{},\"id\":\"2d3ed9aa-1f3f-4908-af79-f9168948e2ee\",\"type\":\"BasicTickFormatter\"},{\"attributes\":{},\"id\":\"cb330145-6450-465b-8fff-09513f6416b5\",\"type\":\"BasicTickFormatter\"},{\"attributes\":{\"callback\":null,\"data\":{\"x\":{\"__ndarray__\":\"R/KIaN7AVEClCeJMyPNGQOvRhpxr30JAptxzhxx4PkA7SssMElA4QK6Bp3CyUDNAsVXpjES9LkBFhUV0+5coQMHYwqbbySNA6f09nM3nH0CaSd/3eYoZQDmgiAOW8BNAPYqARh3eDEBkm4vCgvr+P9D+5tWhQfY/P8DwKRnSAkBq38kb17ILQDT7IWuSsxFAUr2Rjm0FFkAinq3s9XgbQGCHwtYcqSFAG64kT303J0C7dRDneyooQD9JYrbK8yRA9S3bneHhIUAIymSuUMMcQIkHLe6VEBdAAau3cITREkA6CiNvkQIPQJU39ki7IQlAaAvwok1UA0BXLQiS4+L7P0xzDpJ2hPI/NNuPGMbJ5z91mUVYxqfSPxqwUPSxZca/G11peifD3L8QzNj5t2jTvwzOozTL360/SPJ4VI1VzD9KJ0nXEIncP8yDdlvHt+4/Et49nYLW9z++2teD4Jn+P+568eH/bwFALf5D9lmAAkCiZAicVOkCQPPT4jNKxwJAOjp3wTzBAUBSQsKNGisBQG4OmjqJwQBAJ3sZoHFuAEA5Ar0Sdi0AQGy4rw5+9f8/7W4nSrC3/z8mPr8zj4T/P4UYRHCQS/8/embVKYcF/z+5YXG+LLP+P/qb8BVUgf4/KvafTtyO/j/avAK1Ppv+PwJV9VVm2P0/JFtYlU/n/D9sN+q2fiX6Pw44e41PNPc/Opt+Z/wN9T+x3vcSW1vzP9ofvWQJlvI/8sciQQBW8j80sfkQa17yPzg5qng2r/I/Oh14WJBh8z+VZjnpctj0P6CcrSuCqQBA\",\"dtype\":\"float64\",\"shape\":[75]},\"y\":{\"__ndarray__\":\"GhExyth1ND/Sv8nbtpRIP2vylNV0PVE/aTum7souWD/At0SJ8fVgPw3Iuahxymc/MSNhhJWvcD/bTfBN02d3P2zb5nxnaoA/CD5h5MAGhz8NmeH1TyaQP+zrCsc9p5Y/LbKd76fGnz/bLW5ISEmmPww9YvTcQq8/JV2OstnstT8Er5Y7M8G+P0c+r3jqkcU/5h99k6ZBzj88bCIzFzjVP4enV8oyxN0//yH99nXg5D8qOpLLf0jtP5kqGJXUifQ/c9cS8kHP/D+/DpwzojQEQIEmwoanVwxA4lgXt9HgE0BSSZ2AJuIbQAMJih9jjiNA5q4l5INuK0AwTKYKRj0zQNv5fmq8/DpAaCJseHrtQkB/+zpwzoxKQM3MzMzMeFJAZmZmZmZqWEAAAAAAAFxeQM3MzMzMJmJAmpmZmZkfZUBmZmZmZhhoQDMzMzMzEWtAAAAAAAAKbkBmZmZmZoFwQM3MzMzM/XFAMzMzMzN6c0CamZmZmfZ0QAAAAAAAc3ZAZmZmZmbvd0DNzMzMzGt5QDMzMzMz6HpAmpmZmZlkfEAAAAAAAOF9QGZmZmZmXX9AZmZmZuZsgECamZmZGSuBQM3MzMxM6YFAAAAAAICngkAzMzMzs2WDQGZmZmbmI4RAmpmZmRnihEDNzMzMTKCFQAAAAACAXoZAMzMzM7Mch0BmZmZm5tqHQJqZmZkZmYhAzczMzExXiUAAAAAAgBWKQDMzMzOz04pAZmZmZuaRi0CamZmZGVCMQM3MzMxMDo1AAAAAAIDMjUAzMzMzs4qOQGZmZmbmSI9A\",\"dtype\":\"float64\",\"shape\":[75]}},\"selected\":{\"id\":\"539992f1-7a48-4148-890b-8616a7a0a685\",\"type\":\"Selection\"},\"selection_policy\":{\"id\":\"e955033c-cc4c-4d35-aabc-5a6c7dfee9d6\",\"type\":\"UnionRenderers\"}},\"id\":\"5622d818-0527-4ec0-82bd-68077657cf9b\",\"type\":\"ColumnDataSource\"}],\"root_ids\":[\"b55f2ae7-c123-41bd-889c-a1be3a0646b2\"]},\"title\":\"Bokeh Application\",\"version\":\"0.12.16\"}};\n",
       "  var render_items = [{\"docid\":\"7099172d-500a-44eb-a81c-7ee24528f064\",\"elementid\":\"35f59531-f6d3-4485-a7df-6f804f06184c\",\"modelid\":\"b55f2ae7-c123-41bd-889c-a1be3a0646b2\"}];\n",
       "  root.Bokeh.embed.embed_items_notebook(docs_json, render_items);\n",
       "\n",
       "  }\n",
       "  if (root.Bokeh !== undefined) {\n",
       "    embed_document(root);\n",
       "  } else {\n",
       "    var attempts = 0;\n",
       "    var timer = setInterval(function(root) {\n",
       "      if (root.Bokeh !== undefined) {\n",
       "        embed_document(root);\n",
       "        clearInterval(timer);\n",
       "      }\n",
       "      attempts++;\n",
       "      if (attempts > 100) {\n",
       "        console.log(\"Bokeh: ERROR: Unable to run BokehJS code because BokehJS library is missing\")\n",
       "        clearInterval(timer);\n",
       "      }\n",
       "    }, 10, root)\n",
       "  }\n",
       "})(window);"
      ],
      "application/vnd.bokehjs_exec.v0+json": ""
     },
     "metadata": {
      "application/vnd.bokehjs_exec.v0+json": {
       "id": "b55f2ae7-c123-41bd-889c-a1be3a0646b2"
      }
     },
     "output_type": "display_data"
    },
    {
     "data": {
      "text/markdown": [
       "*FIGURE.* Cooling rates & difference."
      ],
      "text/plain": [
       "<IPython.core.display.Markdown object>"
      ]
     },
     "metadata": {},
     "output_type": "display_data"
    },
    {
     "data": {
      "text/html": [
       "<a id=\"Fluxes._trp.\"></a>"
      ],
      "text/plain": [
       "<IPython.core.display.HTML object>"
      ]
     },
     "metadata": {},
     "output_type": "display_data"
    },
    {
     "data": {
      "text/markdown": [
       "# Fluxes. trp."
      ],
      "text/plain": [
       "<IPython.core.display.Markdown object>"
      ]
     },
     "metadata": {},
     "output_type": "display_data"
    },
    {
     "data": {
      "text/html": [
       "\n",
       "<div class=\"bk-root\">\n",
       "    <div class=\"bk-plotdiv\" id=\"4befa596-c0a5-4dcb-b603-e6bc2460cdd8\"></div>\n",
       "</div>"
      ]
     },
     "metadata": {},
     "output_type": "display_data"
    },
    {
     "data": {
      "application/javascript": [
       "(function(root) {\n",
       "  function embed_document(root) {\n",
       "    \n",
       "  var docs_json = {\"bc99b6ec-2f6b-4aff-8999-f4db80418e44\":{\"roots\":{\"references\":[{\"attributes\":{\"dimension\":1,\"plot\":{\"id\":\"64207171-adfe-4f32-912e-d4c16fabe1e7\",\"subtype\":\"Figure\",\"type\":\"Plot\"},\"ticker\":{\"id\":\"737ce9e1-9e63-459f-9d64-da3a7567f97e\",\"type\":\"BasicTicker\"}},\"id\":\"0f522747-20f8-4577-8679-c1da613d815a\",\"type\":\"Grid\"},{\"attributes\":{\"active_drag\":\"auto\",\"active_inspect\":\"auto\",\"active_scroll\":\"auto\",\"active_tap\":\"auto\",\"tools\":[{\"id\":\"d50b995a-e1f1-4370-85bb-07194d6dd0b4\",\"type\":\"PanTool\"},{\"id\":\"ddb941f9-b605-4074-832a-9e47f57dde33\",\"type\":\"WheelZoomTool\"},{\"id\":\"27a459cb-4bde-47ff-8b75-c52b349f69bd\",\"type\":\"BoxZoomTool\"},{\"id\":\"fcc0516a-b651-4e5a-8105-6f7b2b154c99\",\"type\":\"SaveTool\"},{\"id\":\"f230ff47-afdc-4a31-b82d-73521a12c0f0\",\"type\":\"ResetTool\"},{\"id\":\"8811ee33-db9d-4160-af4a-c22a8ba8a4c0\",\"type\":\"HelpTool\"}]},\"id\":\"7a6080c7-24ae-4833-a186-b422864affb7\",\"type\":\"Toolbar\"},{\"attributes\":{},\"id\":\"f15269b5-8488-4577-a9a7-ee4e05510ad9\",\"type\":\"LinearScale\"},{\"attributes\":{},\"id\":\"0c02b243-1778-49a5-9d62-aabf9340de3e\",\"type\":\"SaveTool\"},{\"attributes\":{\"callback\":null,\"factors\":[\"1\",\"2\",\"3\",\"4\",\"5\",\"6\",\"7\",\"8\",\"9\",\"10\",\"11\"]},\"id\":\"77ac36b7-98c4-431a-a9f0-c2a1c5dc77c2\",\"type\":\"FactorRange\"},{\"attributes\":{\"axis_label\":\"flux (W m-2)\",\"formatter\":{\"id\":\"b325d5fb-c075-4034-88a6-e856ac26b3aa\",\"type\":\"BasicTickFormatter\"},\"plot\":{\"id\":\"64207171-adfe-4f32-912e-d4c16fabe1e7\",\"subtype\":\"Figure\",\"type\":\"Plot\"},\"ticker\":{\"id\":\"737ce9e1-9e63-459f-9d64-da3a7567f97e\",\"type\":\"BasicTicker\"}},\"id\":\"14428c68-1a57-4858-935e-700ebb26fcf9\",\"type\":\"LinearAxis\"},{\"attributes\":{},\"id\":\"b325d5fb-c075-4034-88a6-e856ac26b3aa\",\"type\":\"BasicTickFormatter\"},{\"attributes\":{\"callback\":null,\"data\":{\"band\":[\"1\",\"2\",\"3\",\"4\",\"5\",\"6\",\"7\",\"8\",\"9\",\"10\",\"11\"],\"flux\":{\"__ndarray__\":\"gNDQP8FF5D/8JeKt8z8jQCBgrdo1URdAsMagE0IH6j/nc+52vfQkQLyzdtuFKEJAHxoWo66NLUCamT7gJnwuQOGGKdvRcRlADFZBsbqa/j+A9UyK6gi9Pw==\",\"dtype\":\"float64\",\"shape\":[11]}},\"selected\":{\"id\":\"93839115-27c5-4cdb-a32c-eea672913d9d\",\"type\":\"Selection\"},\"selection_policy\":{\"id\":\"8a424924-f26e-4897-8531-f47be51c85bb\",\"type\":\"UnionRenderers\"}},\"id\":\"0e28aebb-62ce-470d-9132-541058d716eb\",\"type\":\"ColumnDataSource\"},{\"attributes\":{\"fill_alpha\":{\"value\":0.1},\"fill_color\":{\"value\":\"#1f77b4\"},\"line_alpha\":{\"value\":0.1},\"line_color\":{\"value\":\"#1f77b4\"},\"top\":{\"field\":\"flux\"},\"width\":{\"value\":0.9},\"x\":{\"field\":\"band\"}},\"id\":\"5c3511f9-1aa3-4c78-b9a6-f4691ef0c582\",\"type\":\"VBar\"},{\"attributes\":{},\"id\":\"da5883c5-5ef2-4af6-b6f1-49f6a74c24fa\",\"type\":\"BasicTickFormatter\"},{\"attributes\":{\"plot\":{\"id\":\"108e7705-710e-4d92-a990-5e3b288ea003\",\"subtype\":\"Figure\",\"type\":\"Plot\"},\"ticker\":{\"id\":\"41f19a60-7a1d-46c4-9e02-4b0575431f76\",\"type\":\"CategoricalTicker\"}},\"id\":\"84506835-80e4-4e28-b58a-38e279655524\",\"type\":\"Grid\"},{\"attributes\":{},\"id\":\"f230ff47-afdc-4a31-b82d-73521a12c0f0\",\"type\":\"ResetTool\"},{\"attributes\":{},\"id\":\"d40b5b00-a8e6-41d6-8662-78d12ddec00f\",\"type\":\"CategoricalTickFormatter\"},{\"attributes\":{},\"id\":\"f72c95fa-2f18-4419-b501-0bcd5e6887ac\",\"type\":\"CategoricalScale\"},{\"attributes\":{\"axis_label\":\"spectral band\",\"formatter\":{\"id\":\"d40b5b00-a8e6-41d6-8662-78d12ddec00f\",\"type\":\"CategoricalTickFormatter\"},\"plot\":{\"id\":\"64207171-adfe-4f32-912e-d4c16fabe1e7\",\"subtype\":\"Figure\",\"type\":\"Plot\"},\"ticker\":{\"id\":\"f294a079-5330-4fef-ae16-ac1694924f1e\",\"type\":\"CategoricalTicker\"}},\"id\":\"eddf6bfe-8b2c-46dd-990b-40d0629ab926\",\"type\":\"CategoricalAxis\"},{\"attributes\":{\"plot\":{\"id\":\"64207171-adfe-4f32-912e-d4c16fabe1e7\",\"subtype\":\"Figure\",\"type\":\"Plot\"},\"ticker\":{\"id\":\"f294a079-5330-4fef-ae16-ac1694924f1e\",\"type\":\"CategoricalTicker\"}},\"id\":\"ea62d931-3b54-4bcf-8807-fd5736d822f0\",\"type\":\"Grid\"},{\"attributes\":{},\"id\":\"ddb941f9-b605-4074-832a-9e47f57dde33\",\"type\":\"WheelZoomTool\"},{\"attributes\":{},\"id\":\"8811ee33-db9d-4160-af4a-c22a8ba8a4c0\",\"type\":\"HelpTool\"},{\"attributes\":{\"callback\":null},\"id\":\"112e18ea-f5d0-4633-a203-07ab27fb4f42\",\"type\":\"DataRange1d\"},{\"attributes\":{\"overlay\":{\"id\":\"99ecd33e-0850-46f4-9bd0-95e66d613a94\",\"type\":\"BoxAnnotation\"}},\"id\":\"27a459cb-4bde-47ff-8b75-c52b349f69bd\",\"type\":\"BoxZoomTool\"},{\"attributes\":{\"children\":[{\"id\":\"dfb05097-ca5c-4a41-bbed-04bc128c088f\",\"subtype\":\"Figure\",\"type\":\"Plot\"},{\"id\":\"108e7705-710e-4d92-a990-5e3b288ea003\",\"subtype\":\"Figure\",\"type\":\"Plot\"},{\"id\":\"64207171-adfe-4f32-912e-d4c16fabe1e7\",\"subtype\":\"Figure\",\"type\":\"Plot\"}]},\"id\":\"9c95c4b3-d894-4143-bf83-53333a3d5687\",\"type\":\"Row\"},{\"attributes\":{\"children\":[{\"id\":\"9c95c4b3-d894-4143-bf83-53333a3d5687\",\"type\":\"Row\"}]},\"id\":\"742df317-82b5-42cf-b065-dcf82e97a176\",\"type\":\"Column\"},{\"attributes\":{\"axis_label\":\"spectral band\",\"formatter\":{\"id\":\"d0d1feb6-990b-4751-8820-db3880ab9f17\",\"type\":\"CategoricalTickFormatter\"},\"plot\":{\"id\":\"108e7705-710e-4d92-a990-5e3b288ea003\",\"subtype\":\"Figure\",\"type\":\"Plot\"},\"ticker\":{\"id\":\"41f19a60-7a1d-46c4-9e02-4b0575431f76\",\"type\":\"CategoricalTicker\"}},\"id\":\"fa8ede07-f5ab-416b-908b-b5211c4ccf3a\",\"type\":\"CategoricalAxis\"},{\"attributes\":{\"callback\":null,\"factors\":[\"1\",\"2\",\"3\",\"4\",\"5\",\"6\",\"7\",\"8\",\"9\",\"10\",\"11\"]},\"id\":\"771ffc9c-22c0-4676-ae1b-4605af2fd643\",\"type\":\"FactorRange\"},{\"attributes\":{},\"id\":\"d50b995a-e1f1-4370-85bb-07194d6dd0b4\",\"type\":\"PanTool\"},{\"attributes\":{\"axis_label\":\"flux (W m-2)\",\"formatter\":{\"id\":\"0e353d3f-6a32-48c5-8875-a78506e59be0\",\"type\":\"BasicTickFormatter\"},\"plot\":{\"id\":\"108e7705-710e-4d92-a990-5e3b288ea003\",\"subtype\":\"Figure\",\"type\":\"Plot\"},\"ticker\":{\"id\":\"acebefc6-62c7-4521-871b-e217860c4009\",\"type\":\"BasicTicker\"}},\"id\":\"9ec7b873-3743-4c19-ab1d-877834dd80b8\",\"type\":\"LinearAxis\"},{\"attributes\":{\"dimension\":1,\"plot\":{\"id\":\"108e7705-710e-4d92-a990-5e3b288ea003\",\"subtype\":\"Figure\",\"type\":\"Plot\"},\"ticker\":{\"id\":\"acebefc6-62c7-4521-871b-e217860c4009\",\"type\":\"BasicTicker\"}},\"id\":\"5e2e610b-a684-45ee-a914-a7d74028dd9a\",\"type\":\"Grid\"},{\"attributes\":{\"data_source\":{\"id\":\"365d4a76-7f60-41e2-b51b-0ec164db3e03\",\"type\":\"ColumnDataSource\"},\"glyph\":{\"id\":\"7ce6142e-c342-47e7-9b96-0aa61925d74d\",\"type\":\"VBar\"},\"hover_glyph\":null,\"muted_glyph\":null,\"nonselection_glyph\":{\"id\":\"e146005a-72ef-4c18-9b5e-4965aa311ec2\",\"type\":\"VBar\"},\"selection_glyph\":null,\"view\":{\"id\":\"2fbabb5b-8f66-47d3-8307-05d8c3370d30\",\"type\":\"CDSView\"}},\"id\":\"7e231752-3841-4c88-8efb-ae27922a4b6d\",\"type\":\"GlyphRenderer\"},{\"attributes\":{},\"id\":\"e7695f36-1374-4a5a-b18c-cd7bf7edcd45\",\"type\":\"LinearScale\"},{\"attributes\":{\"source\":{\"id\":\"365d4a76-7f60-41e2-b51b-0ec164db3e03\",\"type\":\"ColumnDataSource\"}},\"id\":\"2fbabb5b-8f66-47d3-8307-05d8c3370d30\",\"type\":\"CDSView\"},{\"attributes\":{\"fill_alpha\":{\"value\":0.1},\"fill_color\":{\"value\":\"#1f77b4\"},\"line_alpha\":{\"value\":0.1},\"line_color\":{\"value\":\"#1f77b4\"},\"top\":{\"field\":\"flux\"},\"width\":{\"value\":0.9},\"x\":{\"field\":\"band\"}},\"id\":\"e146005a-72ef-4c18-9b5e-4965aa311ec2\",\"type\":\"VBar\"},{\"attributes\":{\"active_drag\":\"auto\",\"active_inspect\":\"auto\",\"active_scroll\":\"auto\",\"active_tap\":\"auto\",\"tools\":[{\"id\":\"f791feb0-929b-41f3-af10-1ea82eb37ad2\",\"type\":\"PanTool\"},{\"id\":\"3413fbf4-9e90-4cf6-9950-af71244f98b2\",\"type\":\"WheelZoomTool\"},{\"id\":\"63c78002-1ad0-49c8-95b5-2305ce412389\",\"type\":\"BoxZoomTool\"},{\"id\":\"89a24f9d-ebf0-4cdf-ad32-5f01dcefbaf0\",\"type\":\"SaveTool\"},{\"id\":\"86b00c17-8322-4bd7-a788-16fafba90d36\",\"type\":\"ResetTool\"},{\"id\":\"3fb46ba2-1b4e-4fca-a5e7-0daa71ec13bc\",\"type\":\"HelpTool\"}]},\"id\":\"5b160bd8-1b2c-4a9d-9bf1-495595ea73d0\",\"type\":\"Toolbar\"},{\"attributes\":{\"below\":[{\"id\":\"fa8ede07-f5ab-416b-908b-b5211c4ccf3a\",\"type\":\"CategoricalAxis\"}],\"left\":[{\"id\":\"9ec7b873-3743-4c19-ab1d-877834dd80b8\",\"type\":\"LinearAxis\"}],\"plot_height\":300,\"plot_width\":300,\"renderers\":[{\"id\":\"fa8ede07-f5ab-416b-908b-b5211c4ccf3a\",\"type\":\"CategoricalAxis\"},{\"id\":\"84506835-80e4-4e28-b58a-38e279655524\",\"type\":\"Grid\"},{\"id\":\"9ec7b873-3743-4c19-ab1d-877834dd80b8\",\"type\":\"LinearAxis\"},{\"id\":\"5e2e610b-a684-45ee-a914-a7d74028dd9a\",\"type\":\"Grid\"},{\"id\":\"65d51d8c-412b-41a6-8921-54aaa8ee5e6f\",\"type\":\"BoxAnnotation\"},{\"id\":\"e971810f-74ba-40c4-b815-c32cfe1f1648\",\"type\":\"GlyphRenderer\"}],\"title\":{\"id\":\"828c99b4-8a5f-415f-a16a-8262d7932b0f\",\"type\":\"Title\"},\"toolbar\":{\"id\":\"5b160bd8-1b2c-4a9d-9bf1-495595ea73d0\",\"type\":\"Toolbar\"},\"toolbar_location\":null,\"x_range\":{\"id\":\"77ac36b7-98c4-431a-a9f0-c2a1c5dc77c2\",\"type\":\"FactorRange\"},\"x_scale\":{\"id\":\"4d69293c-7286-42a4-9762-f02fd6153dc3\",\"type\":\"CategoricalScale\"},\"y_range\":{\"id\":\"a7650e96-f7fb-4b2d-9155-ba308c2742be\",\"type\":\"DataRange1d\"},\"y_scale\":{\"id\":\"f15269b5-8488-4577-a9a7-ee4e05510ad9\",\"type\":\"LinearScale\"}},\"id\":\"108e7705-710e-4d92-a990-5e3b288ea003\",\"subtype\":\"Figure\",\"type\":\"Plot\"},{\"attributes\":{\"bottom_units\":\"screen\",\"fill_alpha\":{\"value\":0.5},\"fill_color\":{\"value\":\"lightgrey\"},\"left_units\":\"screen\",\"level\":\"overlay\",\"line_alpha\":{\"value\":1.0},\"line_color\":{\"value\":\"black\"},\"line_dash\":[4,4],\"line_width\":{\"value\":2},\"plot\":null,\"render_mode\":\"css\",\"right_units\":\"screen\",\"top_units\":\"screen\"},\"id\":\"99ecd33e-0850-46f4-9bd0-95e66d613a94\",\"type\":\"BoxAnnotation\"},{\"attributes\":{\"callback\":null},\"id\":\"a7650e96-f7fb-4b2d-9155-ba308c2742be\",\"type\":\"DataRange1d\"},{\"attributes\":{\"plot\":null,\"text\":\"SFC flux. CLIRAD (single-run) - CRD.\"},\"id\":\"828c99b4-8a5f-415f-a16a-8262d7932b0f\",\"type\":\"Title\"},{\"attributes\":{},\"id\":\"737ce9e1-9e63-459f-9d64-da3a7567f97e\",\"type\":\"BasicTicker\"},{\"attributes\":{},\"id\":\"fcc0516a-b651-4e5a-8105-6f7b2b154c99\",\"type\":\"SaveTool\"},{\"attributes\":{},\"id\":\"41f19a60-7a1d-46c4-9e02-4b0575431f76\",\"type\":\"CategoricalTicker\"},{\"attributes\":{},\"id\":\"4d69293c-7286-42a4-9762-f02fd6153dc3\",\"type\":\"CategoricalScale\"},{\"attributes\":{\"fill_color\":{\"value\":\"#1f77b4\"},\"line_color\":{\"value\":\"#1f77b4\"},\"top\":{\"field\":\"flux\"},\"width\":{\"value\":0.9},\"x\":{\"field\":\"band\"}},\"id\":\"f614e887-5f64-403e-8f81-be4b10c7d762\",\"type\":\"VBar\"},{\"attributes\":{},\"id\":\"f294a079-5330-4fef-ae16-ac1694924f1e\",\"type\":\"CategoricalTicker\"},{\"attributes\":{\"plot\":null,\"text\":\"Atmosphere heating. CLIRAD (single-run) - CRD.\"},\"id\":\"b7918054-13e9-4145-b199-499bf85ab721\",\"type\":\"Title\"},{\"attributes\":{},\"id\":\"acebefc6-62c7-4521-871b-e217860c4009\",\"type\":\"BasicTicker\"},{\"attributes\":{\"fill_color\":{\"value\":\"#1f77b4\"},\"line_color\":{\"value\":\"#1f77b4\"},\"top\":{\"field\":\"flux\"},\"width\":{\"value\":0.9},\"x\":{\"field\":\"band\"}},\"id\":\"7ce6142e-c342-47e7-9b96-0aa61925d74d\",\"type\":\"VBar\"},{\"attributes\":{},\"id\":\"3fb46ba2-1b4e-4fca-a5e7-0daa71ec13bc\",\"type\":\"HelpTool\"},{\"attributes\":{},\"id\":\"8a424924-f26e-4897-8531-f47be51c85bb\",\"type\":\"UnionRenderers\"},{\"attributes\":{\"source\":{\"id\":\"48f42c30-bf0e-46f2-85eb-971185eb8e07\",\"type\":\"ColumnDataSource\"}},\"id\":\"dc3c3531-8a53-411a-b150-03aa75740ec3\",\"type\":\"CDSView\"},{\"attributes\":{\"children\":[{\"id\":\"9bb8f455-ca04-4014-bf40-3cf150779f86\",\"type\":\"ToolbarBox\"},{\"id\":\"742df317-82b5-42cf-b065-dcf82e97a176\",\"type\":\"Column\"}]},\"id\":\"ce774bda-8b0f-4fa6-a3f1-4908419ab3e2\",\"type\":\"Column\"},{\"attributes\":{},\"id\":\"c159d259-22f0-486e-84c4-ca55a204bf73\",\"type\":\"BasicTicker\"},{\"attributes\":{\"axis_label\":\"flux (W m-2)\",\"formatter\":{\"id\":\"da5883c5-5ef2-4af6-b6f1-49f6a74c24fa\",\"type\":\"BasicTickFormatter\"},\"plot\":{\"id\":\"dfb05097-ca5c-4a41-bbed-04bc128c088f\",\"subtype\":\"Figure\",\"type\":\"Plot\"},\"ticker\":{\"id\":\"c159d259-22f0-486e-84c4-ca55a204bf73\",\"type\":\"BasicTicker\"}},\"id\":\"79fcabbf-e754-4108-b42b-15bf90f9ad17\",\"type\":\"LinearAxis\"},{\"attributes\":{\"dimension\":1,\"plot\":{\"id\":\"dfb05097-ca5c-4a41-bbed-04bc128c088f\",\"subtype\":\"Figure\",\"type\":\"Plot\"},\"ticker\":{\"id\":\"c159d259-22f0-486e-84c4-ca55a204bf73\",\"type\":\"BasicTicker\"}},\"id\":\"c7df0cd1-c4a1-4bee-ab42-863e294c7f13\",\"type\":\"Grid\"},{\"attributes\":{\"fill_color\":{\"value\":\"#1f77b4\"},\"line_color\":{\"value\":\"#1f77b4\"},\"top\":{\"field\":\"flux\"},\"width\":{\"value\":0.9},\"x\":{\"field\":\"band\"}},\"id\":\"7381a2ef-ba20-4379-9a05-16858a4181e0\",\"type\":\"VBar\"},{\"attributes\":{\"source\":{\"id\":\"0e28aebb-62ce-470d-9132-541058d716eb\",\"type\":\"ColumnDataSource\"}},\"id\":\"66efeb2a-ae8b-49b5-9e72-92e6cddc84f8\",\"type\":\"CDSView\"},{\"attributes\":{\"below\":[{\"id\":\"eddf6bfe-8b2c-46dd-990b-40d0629ab926\",\"type\":\"CategoricalAxis\"}],\"left\":[{\"id\":\"14428c68-1a57-4858-935e-700ebb26fcf9\",\"type\":\"LinearAxis\"}],\"plot_height\":300,\"plot_width\":300,\"renderers\":[{\"id\":\"eddf6bfe-8b2c-46dd-990b-40d0629ab926\",\"type\":\"CategoricalAxis\"},{\"id\":\"ea62d931-3b54-4bcf-8807-fd5736d822f0\",\"type\":\"Grid\"},{\"id\":\"14428c68-1a57-4858-935e-700ebb26fcf9\",\"type\":\"LinearAxis\"},{\"id\":\"0f522747-20f8-4577-8679-c1da613d815a\",\"type\":\"Grid\"},{\"id\":\"99ecd33e-0850-46f4-9bd0-95e66d613a94\",\"type\":\"BoxAnnotation\"},{\"id\":\"7e231752-3841-4c88-8efb-ae27922a4b6d\",\"type\":\"GlyphRenderer\"}],\"title\":{\"id\":\"b7918054-13e9-4145-b199-499bf85ab721\",\"type\":\"Title\"},\"toolbar\":{\"id\":\"7a6080c7-24ae-4833-a186-b422864affb7\",\"type\":\"Toolbar\"},\"toolbar_location\":null,\"x_range\":{\"id\":\"771ffc9c-22c0-4676-ae1b-4605af2fd643\",\"type\":\"FactorRange\"},\"x_scale\":{\"id\":\"f72c95fa-2f18-4419-b501-0bcd5e6887ac\",\"type\":\"CategoricalScale\"},\"y_range\":{\"id\":\"112e18ea-f5d0-4633-a203-07ab27fb4f42\",\"type\":\"DataRange1d\"},\"y_scale\":{\"id\":\"e7695f36-1374-4a5a-b18c-cd7bf7edcd45\",\"type\":\"LinearScale\"}},\"id\":\"64207171-adfe-4f32-912e-d4c16fabe1e7\",\"subtype\":\"Figure\",\"type\":\"Plot\"},{\"attributes\":{\"active_drag\":\"auto\",\"active_inspect\":\"auto\",\"active_scroll\":\"auto\",\"active_tap\":\"auto\",\"tools\":[{\"id\":\"712c98a8-9d5d-4435-b3ef-0dea86f3b076\",\"type\":\"PanTool\"},{\"id\":\"edf9302d-4d4f-4e66-a34b-ab0856e627c3\",\"type\":\"WheelZoomTool\"},{\"id\":\"25678313-0659-4d56-9e67-aa71b7aca80c\",\"type\":\"BoxZoomTool\"},{\"id\":\"0c02b243-1778-49a5-9d62-aabf9340de3e\",\"type\":\"SaveTool\"},{\"id\":\"3c6a7496-1982-4fba-87dd-9d056291db42\",\"type\":\"ResetTool\"},{\"id\":\"ad03b8ef-f570-4170-b4a9-b5f61216a8c7\",\"type\":\"HelpTool\"}]},\"id\":\"0cf1ba5e-96c2-401f-937c-d3303380b51e\",\"type\":\"Toolbar\"},{\"attributes\":{},\"id\":\"7a6b0c2c-2626-4303-9174-08cfeceb0e1d\",\"type\":\"UnionRenderers\"},{\"attributes\":{},\"id\":\"f791feb0-929b-41f3-af10-1ea82eb37ad2\",\"type\":\"PanTool\"},{\"attributes\":{},\"id\":\"ad03b8ef-f570-4170-b4a9-b5f61216a8c7\",\"type\":\"HelpTool\"},{\"attributes\":{\"bottom_units\":\"screen\",\"fill_alpha\":{\"value\":0.5},\"fill_color\":{\"value\":\"lightgrey\"},\"left_units\":\"screen\",\"level\":\"overlay\",\"line_alpha\":{\"value\":1.0},\"line_color\":{\"value\":\"black\"},\"line_dash\":[4,4],\"line_width\":{\"value\":2},\"plot\":null,\"render_mode\":\"css\",\"right_units\":\"screen\",\"top_units\":\"screen\"},\"id\":\"65d51d8c-412b-41a6-8921-54aaa8ee5e6f\",\"type\":\"BoxAnnotation\"},{\"attributes\":{\"overlay\":{\"id\":\"33a0850a-d614-4eb8-92cb-f90d7b8ba37e\",\"type\":\"BoxAnnotation\"}},\"id\":\"25678313-0659-4d56-9e67-aa71b7aca80c\",\"type\":\"BoxZoomTool\"},{\"attributes\":{},\"id\":\"0092cb99-93ad-4a5d-a9bd-3b6252c5ff65\",\"type\":\"Selection\"},{\"attributes\":{\"callback\":null,\"data\":{\"band\":[\"1\",\"2\",\"3\",\"4\",\"5\",\"6\",\"7\",\"8\",\"9\",\"10\",\"11\"],\"flux\":{\"__ndarray__\":\"QMBd1d1F5D9A7Dt1m6YiQBgAkRvROxVAICRNtJIT6D8AmdDJ9/HrP6CGJdTCjyjAfgYvVcScH8AAkpT0MHThPxk/nqdLIBBAZBiQIAlp/j9Ab6jOWVWpPw==\",\"dtype\":\"float64\",\"shape\":[11]}},\"selected\":{\"id\":\"80441409-756a-4ea1-b393-d1a6cb851c1e\",\"type\":\"Selection\"},\"selection_policy\":{\"id\":\"6ec2b9de-e19d-4f9e-ab99-cfd574938b3f\",\"type\":\"UnionRenderers\"}},\"id\":\"365d4a76-7f60-41e2-b51b-0ec164db3e03\",\"type\":\"ColumnDataSource\"},{\"attributes\":{},\"id\":\"6ec2b9de-e19d-4f9e-ab99-cfd574938b3f\",\"type\":\"UnionRenderers\"},{\"attributes\":{\"data_source\":{\"id\":\"48f42c30-bf0e-46f2-85eb-971185eb8e07\",\"type\":\"ColumnDataSource\"},\"glyph\":{\"id\":\"7381a2ef-ba20-4379-9a05-16858a4181e0\",\"type\":\"VBar\"},\"hover_glyph\":null,\"muted_glyph\":null,\"nonselection_glyph\":{\"id\":\"5c3511f9-1aa3-4c78-b9a6-f4691ef0c582\",\"type\":\"VBar\"},\"selection_glyph\":null,\"view\":{\"id\":\"dc3c3531-8a53-411a-b150-03aa75740ec3\",\"type\":\"CDSView\"}},\"id\":\"e971810f-74ba-40c4-b815-c32cfe1f1648\",\"type\":\"GlyphRenderer\"},{\"attributes\":{\"plot\":null,\"text\":\"TOA flux. CLIRAD (single-run) - CRD.\"},\"id\":\"6b93d36d-f583-4819-be16-682f72add57a\",\"type\":\"Title\"},{\"attributes\":{},\"id\":\"10450ce9-ee66-44fd-8d9e-f6cae41ff9a8\",\"type\":\"CategoricalTicker\"},{\"attributes\":{},\"id\":\"9d51fe3c-fe68-48aa-bdf6-ce7d4a1b8250\",\"type\":\"CategoricalScale\"},{\"attributes\":{},\"id\":\"3413fbf4-9e90-4cf6-9950-af71244f98b2\",\"type\":\"WheelZoomTool\"},{\"attributes\":{\"fill_alpha\":{\"value\":0.1},\"fill_color\":{\"value\":\"#1f77b4\"},\"line_alpha\":{\"value\":0.1},\"line_color\":{\"value\":\"#1f77b4\"},\"top\":{\"field\":\"flux\"},\"width\":{\"value\":0.9},\"x\":{\"field\":\"band\"}},\"id\":\"77369564-3f75-49c1-95d7-358446fbb78f\",\"type\":\"VBar\"},{\"attributes\":{\"toolbar\":{\"id\":\"fa207c13-8e86-4c72-8cbd-8b851bccbb16\",\"type\":\"ProxyToolbar\"},\"toolbar_location\":\"above\"},\"id\":\"9bb8f455-ca04-4014-bf40-3cf150779f86\",\"type\":\"ToolbarBox\"},{\"attributes\":{\"plot\":{\"id\":\"dfb05097-ca5c-4a41-bbed-04bc128c088f\",\"subtype\":\"Figure\",\"type\":\"Plot\"},\"ticker\":{\"id\":\"10450ce9-ee66-44fd-8d9e-f6cae41ff9a8\",\"type\":\"CategoricalTicker\"}},\"id\":\"319c0946-70be-45b1-95a8-04c20f1a0d2e\",\"type\":\"Grid\"},{\"attributes\":{},\"id\":\"80441409-756a-4ea1-b393-d1a6cb851c1e\",\"type\":\"Selection\"},{\"attributes\":{},\"id\":\"3c6a7496-1982-4fba-87dd-9d056291db42\",\"type\":\"ResetTool\"},{\"attributes\":{},\"id\":\"93839115-27c5-4cdb-a32c-eea672913d9d\",\"type\":\"Selection\"},{\"attributes\":{\"callback\":null},\"id\":\"5fb711ed-3e82-4fd4-8e48-05a9201cd030\",\"type\":\"DataRange1d\"},{\"attributes\":{},\"id\":\"86b00c17-8322-4bd7-a788-16fafba90d36\",\"type\":\"ResetTool\"},{\"attributes\":{},\"id\":\"89a24f9d-ebf0-4cdf-ad32-5f01dcefbaf0\",\"type\":\"SaveTool\"},{\"attributes\":{\"axis_label\":\"spectral band\",\"formatter\":{\"id\":\"27464240-8fe9-4a6d-a5e1-4cc5f8f84857\",\"type\":\"CategoricalTickFormatter\"},\"plot\":{\"id\":\"dfb05097-ca5c-4a41-bbed-04bc128c088f\",\"subtype\":\"Figure\",\"type\":\"Plot\"},\"ticker\":{\"id\":\"10450ce9-ee66-44fd-8d9e-f6cae41ff9a8\",\"type\":\"CategoricalTicker\"}},\"id\":\"3b5de183-eabb-44a4-be09-7fd9924c6a3a\",\"type\":\"CategoricalAxis\"},{\"attributes\":{\"data_source\":{\"id\":\"0e28aebb-62ce-470d-9132-541058d716eb\",\"type\":\"ColumnDataSource\"},\"glyph\":{\"id\":\"f614e887-5f64-403e-8f81-be4b10c7d762\",\"type\":\"VBar\"},\"hover_glyph\":null,\"muted_glyph\":null,\"nonselection_glyph\":{\"id\":\"77369564-3f75-49c1-95d7-358446fbb78f\",\"type\":\"VBar\"},\"selection_glyph\":null,\"view\":{\"id\":\"66efeb2a-ae8b-49b5-9e72-92e6cddc84f8\",\"type\":\"CDSView\"}},\"id\":\"d45df460-c64e-4467-95d8-7a3a2995764b\",\"type\":\"GlyphRenderer\"},{\"attributes\":{},\"id\":\"0e353d3f-6a32-48c5-8875-a78506e59be0\",\"type\":\"BasicTickFormatter\"},{\"attributes\":{},\"id\":\"712c98a8-9d5d-4435-b3ef-0dea86f3b076\",\"type\":\"PanTool\"},{\"attributes\":{},\"id\":\"27464240-8fe9-4a6d-a5e1-4cc5f8f84857\",\"type\":\"CategoricalTickFormatter\"},{\"attributes\":{\"bottom_units\":\"screen\",\"fill_alpha\":{\"value\":0.5},\"fill_color\":{\"value\":\"lightgrey\"},\"left_units\":\"screen\",\"level\":\"overlay\",\"line_alpha\":{\"value\":1.0},\"line_color\":{\"value\":\"black\"},\"line_dash\":[4,4],\"line_width\":{\"value\":2},\"plot\":null,\"render_mode\":\"css\",\"right_units\":\"screen\",\"top_units\":\"screen\"},\"id\":\"33a0850a-d614-4eb8-92cb-f90d7b8ba37e\",\"type\":\"BoxAnnotation\"},{\"attributes\":{},\"id\":\"294ec471-b00d-4e52-bb0e-9105c1f658c3\",\"type\":\"LinearScale\"},{\"attributes\":{\"callback\":null,\"factors\":[\"1\",\"2\",\"3\",\"4\",\"5\",\"6\",\"7\",\"8\",\"9\",\"10\",\"11\"]},\"id\":\"3ac4c03e-620f-4008-bc3e-d7e8d95b5c6e\",\"type\":\"FactorRange\"},{\"attributes\":{\"tools\":[{\"id\":\"712c98a8-9d5d-4435-b3ef-0dea86f3b076\",\"type\":\"PanTool\"},{\"id\":\"edf9302d-4d4f-4e66-a34b-ab0856e627c3\",\"type\":\"WheelZoomTool\"},{\"id\":\"25678313-0659-4d56-9e67-aa71b7aca80c\",\"type\":\"BoxZoomTool\"},{\"id\":\"0c02b243-1778-49a5-9d62-aabf9340de3e\",\"type\":\"SaveTool\"},{\"id\":\"3c6a7496-1982-4fba-87dd-9d056291db42\",\"type\":\"ResetTool\"},{\"id\":\"ad03b8ef-f570-4170-b4a9-b5f61216a8c7\",\"type\":\"HelpTool\"},{\"id\":\"f791feb0-929b-41f3-af10-1ea82eb37ad2\",\"type\":\"PanTool\"},{\"id\":\"3413fbf4-9e90-4cf6-9950-af71244f98b2\",\"type\":\"WheelZoomTool\"},{\"id\":\"63c78002-1ad0-49c8-95b5-2305ce412389\",\"type\":\"BoxZoomTool\"},{\"id\":\"89a24f9d-ebf0-4cdf-ad32-5f01dcefbaf0\",\"type\":\"SaveTool\"},{\"id\":\"86b00c17-8322-4bd7-a788-16fafba90d36\",\"type\":\"ResetTool\"},{\"id\":\"3fb46ba2-1b4e-4fca-a5e7-0daa71ec13bc\",\"type\":\"HelpTool\"},{\"id\":\"d50b995a-e1f1-4370-85bb-07194d6dd0b4\",\"type\":\"PanTool\"},{\"id\":\"ddb941f9-b605-4074-832a-9e47f57dde33\",\"type\":\"WheelZoomTool\"},{\"id\":\"27a459cb-4bde-47ff-8b75-c52b349f69bd\",\"type\":\"BoxZoomTool\"},{\"id\":\"fcc0516a-b651-4e5a-8105-6f7b2b154c99\",\"type\":\"SaveTool\"},{\"id\":\"f230ff47-afdc-4a31-b82d-73521a12c0f0\",\"type\":\"ResetTool\"},{\"id\":\"8811ee33-db9d-4160-af4a-c22a8ba8a4c0\",\"type\":\"HelpTool\"}]},\"id\":\"fa207c13-8e86-4c72-8cbd-8b851bccbb16\",\"type\":\"ProxyToolbar\"},{\"attributes\":{\"callback\":null,\"data\":{\"band\":[\"1\",\"2\",\"3\",\"4\",\"5\",\"6\",\"7\",\"8\",\"9\",\"10\",\"11\"],\"flux\":{\"__ndarray__\":\"AADADkbs874AW0HTEivTP4AfnE8dq+A/ACw+PiE7rz/qVzofnjUjQHdSX5Z2TEhAll72RgiuNkDfpdQl42QtQCCl2TwOowJAAGCq0hbXiD8AO3arQl6wPw==\",\"dtype\":\"float64\",\"shape\":[11]}},\"selected\":{\"id\":\"0092cb99-93ad-4a5d-a9bd-3b6252c5ff65\",\"type\":\"Selection\"},\"selection_policy\":{\"id\":\"7a6b0c2c-2626-4303-9174-08cfeceb0e1d\",\"type\":\"UnionRenderers\"}},\"id\":\"48f42c30-bf0e-46f2-85eb-971185eb8e07\",\"type\":\"ColumnDataSource\"},{\"attributes\":{\"overlay\":{\"id\":\"65d51d8c-412b-41a6-8921-54aaa8ee5e6f\",\"type\":\"BoxAnnotation\"}},\"id\":\"63c78002-1ad0-49c8-95b5-2305ce412389\",\"type\":\"BoxZoomTool\"},{\"attributes\":{\"below\":[{\"id\":\"3b5de183-eabb-44a4-be09-7fd9924c6a3a\",\"type\":\"CategoricalAxis\"}],\"left\":[{\"id\":\"79fcabbf-e754-4108-b42b-15bf90f9ad17\",\"type\":\"LinearAxis\"}],\"plot_height\":300,\"plot_width\":300,\"renderers\":[{\"id\":\"3b5de183-eabb-44a4-be09-7fd9924c6a3a\",\"type\":\"CategoricalAxis\"},{\"id\":\"319c0946-70be-45b1-95a8-04c20f1a0d2e\",\"type\":\"Grid\"},{\"id\":\"79fcabbf-e754-4108-b42b-15bf90f9ad17\",\"type\":\"LinearAxis\"},{\"id\":\"c7df0cd1-c4a1-4bee-ab42-863e294c7f13\",\"type\":\"Grid\"},{\"id\":\"33a0850a-d614-4eb8-92cb-f90d7b8ba37e\",\"type\":\"BoxAnnotation\"},{\"id\":\"d45df460-c64e-4467-95d8-7a3a2995764b\",\"type\":\"GlyphRenderer\"}],\"title\":{\"id\":\"6b93d36d-f583-4819-be16-682f72add57a\",\"type\":\"Title\"},\"toolbar\":{\"id\":\"0cf1ba5e-96c2-401f-937c-d3303380b51e\",\"type\":\"Toolbar\"},\"toolbar_location\":null,\"x_range\":{\"id\":\"3ac4c03e-620f-4008-bc3e-d7e8d95b5c6e\",\"type\":\"FactorRange\"},\"x_scale\":{\"id\":\"9d51fe3c-fe68-48aa-bdf6-ce7d4a1b8250\",\"type\":\"CategoricalScale\"},\"y_range\":{\"id\":\"5fb711ed-3e82-4fd4-8e48-05a9201cd030\",\"type\":\"DataRange1d\"},\"y_scale\":{\"id\":\"294ec471-b00d-4e52-bb0e-9105c1f658c3\",\"type\":\"LinearScale\"}},\"id\":\"dfb05097-ca5c-4a41-bbed-04bc128c088f\",\"subtype\":\"Figure\",\"type\":\"Plot\"},{\"attributes\":{},\"id\":\"edf9302d-4d4f-4e66-a34b-ab0856e627c3\",\"type\":\"WheelZoomTool\"},{\"attributes\":{},\"id\":\"d0d1feb6-990b-4751-8820-db3880ab9f17\",\"type\":\"CategoricalTickFormatter\"}],\"root_ids\":[\"ce774bda-8b0f-4fa6-a3f1-4908419ab3e2\"]},\"title\":\"Bokeh Application\",\"version\":\"0.12.16\"}};\n",
       "  var render_items = [{\"docid\":\"bc99b6ec-2f6b-4aff-8999-f4db80418e44\",\"elementid\":\"4befa596-c0a5-4dcb-b603-e6bc2460cdd8\",\"modelid\":\"ce774bda-8b0f-4fa6-a3f1-4908419ab3e2\"}];\n",
       "  root.Bokeh.embed.embed_items_notebook(docs_json, render_items);\n",
       "\n",
       "  }\n",
       "  if (root.Bokeh !== undefined) {\n",
       "    embed_document(root);\n",
       "  } else {\n",
       "    var attempts = 0;\n",
       "    var timer = setInterval(function(root) {\n",
       "      if (root.Bokeh !== undefined) {\n",
       "        embed_document(root);\n",
       "        clearInterval(timer);\n",
       "      }\n",
       "      attempts++;\n",
       "      if (attempts > 100) {\n",
       "        console.log(\"Bokeh: ERROR: Unable to run BokehJS code because BokehJS library is missing\")\n",
       "        clearInterval(timer);\n",
       "      }\n",
       "    }, 10, root)\n",
       "  }\n",
       "})(window);"
      ],
      "application/vnd.bokehjs_exec.v0+json": ""
     },
     "metadata": {
      "application/vnd.bokehjs_exec.v0+json": {
       "id": "ce774bda-8b0f-4fa6-a3f1-4908419ab3e2"
      }
     },
     "output_type": "display_data"
    },
    {
     "data": {
      "text/markdown": [
       "*FIGURE.* Difference between CLIRAD and CRD in TOA, SFC and net atmosphere flux, in each spectral band."
      ],
      "text/plain": [
       "<IPython.core.display.Markdown object>"
      ]
     },
     "metadata": {},
     "output_type": "display_data"
    },
    {
     "data": {
      "text/html": [
       "<div>\n",
       "<style scoped>\n",
       "    .dataframe tbody tr th:only-of-type {\n",
       "        vertical-align: middle;\n",
       "    }\n",
       "\n",
       "    .dataframe tbody tr th {\n",
       "        vertical-align: top;\n",
       "    }\n",
       "\n",
       "    .dataframe thead th {\n",
       "        text-align: right;\n",
       "    }\n",
       "</style>\n",
       "<table border=\"1\" class=\"dataframe\">\n",
       "  <thead>\n",
       "    <tr style=\"text-align: right;\">\n",
       "      <th></th>\n",
       "      <th>OLR flux</th>\n",
       "      <th>SFC flux</th>\n",
       "      <th>ATM heating</th>\n",
       "    </tr>\n",
       "    <tr>\n",
       "      <th>Sum over bands</th>\n",
       "      <th></th>\n",
       "      <th></th>\n",
       "      <th></th>\n",
       "    </tr>\n",
       "  </thead>\n",
       "  <tbody>\n",
       "    <tr>\n",
       "      <th>CLIRAD (single-run) - CRD</th>\n",
       "      <td>102.1</td>\n",
       "      <td>98.87</td>\n",
       "      <td>3.24</td>\n",
       "    </tr>\n",
       "    <tr>\n",
       "      <th>CRD</th>\n",
       "      <td>-303.4</td>\n",
       "      <td>337.24</td>\n",
       "      <td>-181.37</td>\n",
       "    </tr>\n",
       "  </tbody>\n",
       "</table>\n",
       "</div>"
      ],
      "text/plain": [
       "                           OLR flux  SFC flux  ATM heating\n",
       "Sum over bands                                            \n",
       "CLIRAD (single-run) - CRD     102.1     98.87         3.24\n",
       "CRD                          -303.4    337.24      -181.37"
      ]
     },
     "metadata": {},
     "output_type": "display_data"
    },
    {
     "data": {
      "text/markdown": [
       "*TABLE.* Difference between CLIRAD and CRD in TOA, SFC and net atmosphere flux, over all spectral bands. CRD's TOA, SFC and net atmosphere flux, over all spectral bands."
      ],
      "text/plain": [
       "<IPython.core.display.Markdown object>"
      ]
     },
     "metadata": {},
     "output_type": "display_data"
    }
   ],
   "source": [
    "def show_html(s):\n",
    "    display.display(display.HTML(s))\n",
    "\n",
    "    \n",
    "def show_markdown(s):\n",
    "    display.display(display.Markdown(s))\n",
    "\n",
    "\n",
    "def script():\n",
    "    \n",
    "    d_atm = {'mls': 'mid-latitude summer',\n",
    "             'saw': 'sub-arctic winter',\n",
    "             'trp': 'tropical'}\n",
    "    \n",
    "    title = ('## Results over entire range of molecules'\n",
    "             ' and spectral bands')\n",
    "    \n",
    "    s_makeup = 'Makeup of atmosphere.'\n",
    "    s_atmpro = '# {}'\n",
    "    s_cool = 'Cooling rates. {}.'\n",
    "    s_flux = 'Fluxes. {}.'\n",
    "    \n",
    "    atmpros = ['mls', 'saw', 'trp']\n",
    "    \n",
    "    # TOC\n",
    "    show_markdown(title)\n",
    "    show_markdown('### Table of Contents')\n",
    "    show_html(climahtml.getHTML_hrefanchor(s_makeup))\n",
    "    for atmpro in atmpros:\n",
    "        show_markdown('**' + d_atm[atmpro] + '**')\n",
    "        show_html(climahtml.getHTML_hrefanchor(s_cool.format(atmpro)))\n",
    "        show_html(climahtml.getHTML_hrefanchor(s_flux.format(atmpro)))\n",
    "\n",
    "        \n",
    "    # Atmosphere makeup\n",
    "    show_html(climahtml.getHTML_idanchor(s_makeup))\n",
    "    show_markdown(climahtml.getMarkdown_sectitle(s_makeup))\n",
    "    show_makeup()\n",
    "    show_grey_makeup()\n",
    "        \n",
    "    for atmpro in atmpros:\n",
    "        show_html(climahtml.getHTML_idanchor(s_cool.format(atmpro)))\n",
    "        show_markdown(\n",
    "            climahtml.getMarkdown_sectitle(s_cool.format(atmpro)))\n",
    "        show_cool(atmpro=atmpro)\n",
    "        show_html(climahtml.getHTML_idanchor(s_flux.format(atmpro)))\n",
    "        show_markdown(\n",
    "            climahtml.getMarkdown_sectitle(s_flux.format(atmpro)))\n",
    "        show_hist_flux(atmpro=atmpro)\n",
    "        show_tb_flux(atmpro=atmpro)\n",
    "    \n",
    "    \n",
    "script()  "
   ]
  },
  {
   "cell_type": "code",
   "execution_count": null,
   "metadata": {
    "collapsed": true
   },
   "outputs": [],
   "source": []
  },
  {
   "cell_type": "code",
   "execution_count": 14,
   "metadata": {},
   "outputs": [
    {
     "data": {
      "text/html": [
       "<script>\n",
       "code_show=true; \n",
       "function code_toggle() {\n",
       " if (code_show){\n",
       " $('div.input').hide();\n",
       " } else {\n",
       " $('div.input').show();\n",
       " }\n",
       " code_show = !code_show\n",
       "} \n",
       "$( document ).ready(code_toggle);\n",
       "</script>\n",
       "<form action=\"javascript:code_toggle()\"><input type=\"submit\" value=\"Click here to toggle on/off the raw code.\"></form>"
      ],
      "text/plain": [
       "<IPython.core.display.HTML object>"
      ]
     },
     "execution_count": 14,
     "metadata": {},
     "output_type": "execute_result"
    }
   ],
   "source": [
    "display.HTML('''<script>\n",
    "code_show=true; \n",
    "function code_toggle() {\n",
    " if (code_show){\n",
    " $('div.input').hide();\n",
    " } else {\n",
    " $('div.input').show();\n",
    " }\n",
    " code_show = !code_show\n",
    "} \n",
    "$( document ).ready(code_toggle);\n",
    "</script>\n",
    "<form action=\"javascript:code_toggle()\"><input type=\"submit\" value=\"Click here to toggle on/off the raw code.\"></form>''')"
   ]
  },
  {
   "cell_type": "code",
   "execution_count": null,
   "metadata": {
    "collapsed": true
   },
   "outputs": [],
   "source": []
  }
 ],
 "metadata": {
  "kernelspec": {
   "display_name": "Python 3",
   "language": "python",
   "name": "python3"
  },
  "language_info": {
   "codemirror_mode": {
    "name": "ipython",
    "version": 3
   },
   "file_extension": ".py",
   "mimetype": "text/x-python",
   "name": "python",
   "nbconvert_exporter": "python",
   "pygments_lexer": "ipython3",
   "version": "3.6.1"
  }
 },
 "nbformat": 4,
 "nbformat_minor": 2
}
