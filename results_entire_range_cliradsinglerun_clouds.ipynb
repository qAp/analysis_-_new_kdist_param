{
 "cells": [
  {
   "cell_type": "code",
   "execution_count": 863,
   "metadata": {
    "collapsed": true
   },
   "outputs": [],
   "source": [
    "import os\n",
    "import ast\n",
    "import json\n",
    "import importlib \n",
    "import itertools\n",
    "import collections\n",
    "import pprint\n",
    "\n",
    "from bokeh.io import output_notebook, show\n",
    "from bokeh.layouts import gridplot\n",
    "from bokeh.plotting import figure\n",
    "from bokeh.models import Range1d, Legend, ColumnDataSource, FactorRange\n",
    "from bokeh.palettes import all_palettes\n",
    "from bokeh.transform import factor_cmap\n",
    "\n",
    "import matplotlib\n",
    "import matplotlib.pyplot as plt\n",
    "import numpy as np\n",
    "import pandas as pd\n",
    "import xarray as xr\n",
    "\n",
    "\n",
    "import climatools.lblnew.bestfit_params as bestfits\n",
    "from climatools.lblnew import setup_bestfit, setup_overlap\n",
    "import climatools.lblnew.pipeline as pipe_lblnew\n",
    "import climatools.cliradlw.setup as setup_cliradlw\n",
    "import climatools.cliradlw.pipeline as pipe_cliradlw\n",
    "\n",
    "import climatools.html.html as climahtml\n",
    "from climatools.lblnew.dataio import *\n",
    "from climatools.plot.plot import *\n",
    "\n",
    "\n",
    "from IPython import display\n",
    "\n",
    "#importlib.reload(bestfits)\n",
    "#importlib.reload(setup_bestfit)\n",
    "#importlib.reload(setup_overlap)\n",
    "#importlib.reload(pipe_lblnew)\n",
    "#importlib.reload(setup_cliradlw)\n",
    "#importlib.reload(pipe_cliradlw)"
   ]
  },
  {
   "cell_type": "code",
   "execution_count": 864,
   "metadata": {
    "scrolled": true
   },
   "outputs": [
    {
     "data": {
      "text/html": [
       "\n",
       "    <div class=\"bk-root\">\n",
       "        <a href=\"https://bokeh.pydata.org\" target=\"_blank\" class=\"bk-logo bk-logo-small bk-logo-notebook\"></a>\n",
       "        <span id=\"4f421b38-2a89-41d4-be47-1ecc0b2f9d5d\">Loading BokehJS ...</span>\n",
       "    </div>"
      ]
     },
     "metadata": {},
     "output_type": "display_data"
    },
    {
     "data": {
      "application/javascript": [
       "\n",
       "(function(root) {\n",
       "  function now() {\n",
       "    return new Date();\n",
       "  }\n",
       "\n",
       "  var force = true;\n",
       "\n",
       "  if (typeof (root._bokeh_onload_callbacks) === \"undefined\" || force === true) {\n",
       "    root._bokeh_onload_callbacks = [];\n",
       "    root._bokeh_is_loading = undefined;\n",
       "  }\n",
       "\n",
       "  var JS_MIME_TYPE = 'application/javascript';\n",
       "  var HTML_MIME_TYPE = 'text/html';\n",
       "  var EXEC_MIME_TYPE = 'application/vnd.bokehjs_exec.v0+json';\n",
       "  var CLASS_NAME = 'output_bokeh rendered_html';\n",
       "\n",
       "  /**\n",
       "   * Render data to the DOM node\n",
       "   */\n",
       "  function render(props, node) {\n",
       "    var script = document.createElement(\"script\");\n",
       "    node.appendChild(script);\n",
       "  }\n",
       "\n",
       "  /**\n",
       "   * Handle when an output is cleared or removed\n",
       "   */\n",
       "  function handleClearOutput(event, handle) {\n",
       "    var cell = handle.cell;\n",
       "\n",
       "    var id = cell.output_area._bokeh_element_id;\n",
       "    var server_id = cell.output_area._bokeh_server_id;\n",
       "    // Clean up Bokeh references\n",
       "    if (id !== undefined) {\n",
       "      Bokeh.index[id].model.document.clear();\n",
       "      delete Bokeh.index[id];\n",
       "    }\n",
       "\n",
       "    if (server_id !== undefined) {\n",
       "      // Clean up Bokeh references\n",
       "      var cmd = \"from bokeh.io.state import curstate; print(curstate().uuid_to_server['\" + server_id + \"'].get_sessions()[0].document.roots[0]._id)\";\n",
       "      cell.notebook.kernel.execute(cmd, {\n",
       "        iopub: {\n",
       "          output: function(msg) {\n",
       "            var element_id = msg.content.text.trim();\n",
       "            Bokeh.index[element_id].model.document.clear();\n",
       "            delete Bokeh.index[element_id];\n",
       "          }\n",
       "        }\n",
       "      });\n",
       "      // Destroy server and session\n",
       "      var cmd = \"import bokeh.io.notebook as ion; ion.destroy_server('\" + server_id + \"')\";\n",
       "      cell.notebook.kernel.execute(cmd);\n",
       "    }\n",
       "  }\n",
       "\n",
       "  /**\n",
       "   * Handle when a new output is added\n",
       "   */\n",
       "  function handleAddOutput(event, handle) {\n",
       "    var output_area = handle.output_area;\n",
       "    var output = handle.output;\n",
       "\n",
       "    // limit handleAddOutput to display_data with EXEC_MIME_TYPE content only\n",
       "    if ((output.output_type != \"display_data\") || (!output.data.hasOwnProperty(EXEC_MIME_TYPE))) {\n",
       "      return\n",
       "    }\n",
       "\n",
       "    var toinsert = output_area.element.find(\".\" + CLASS_NAME.split(' ')[0]);\n",
       "\n",
       "    if (output.metadata[EXEC_MIME_TYPE][\"id\"] !== undefined) {\n",
       "      toinsert[toinsert.length - 1].firstChild.textContent = output.data[JS_MIME_TYPE];\n",
       "      // store reference to embed id on output_area\n",
       "      output_area._bokeh_element_id = output.metadata[EXEC_MIME_TYPE][\"id\"];\n",
       "    }\n",
       "    if (output.metadata[EXEC_MIME_TYPE][\"server_id\"] !== undefined) {\n",
       "      var bk_div = document.createElement(\"div\");\n",
       "      bk_div.innerHTML = output.data[HTML_MIME_TYPE];\n",
       "      var script_attrs = bk_div.children[0].attributes;\n",
       "      for (var i = 0; i < script_attrs.length; i++) {\n",
       "        toinsert[toinsert.length - 1].firstChild.setAttribute(script_attrs[i].name, script_attrs[i].value);\n",
       "      }\n",
       "      // store reference to server id on output_area\n",
       "      output_area._bokeh_server_id = output.metadata[EXEC_MIME_TYPE][\"server_id\"];\n",
       "    }\n",
       "  }\n",
       "\n",
       "  function register_renderer(events, OutputArea) {\n",
       "\n",
       "    function append_mime(data, metadata, element) {\n",
       "      // create a DOM node to render to\n",
       "      var toinsert = this.create_output_subarea(\n",
       "        metadata,\n",
       "        CLASS_NAME,\n",
       "        EXEC_MIME_TYPE\n",
       "      );\n",
       "      this.keyboard_manager.register_events(toinsert);\n",
       "      // Render to node\n",
       "      var props = {data: data, metadata: metadata[EXEC_MIME_TYPE]};\n",
       "      render(props, toinsert[toinsert.length - 1]);\n",
       "      element.append(toinsert);\n",
       "      return toinsert\n",
       "    }\n",
       "\n",
       "    /* Handle when an output is cleared or removed */\n",
       "    events.on('clear_output.CodeCell', handleClearOutput);\n",
       "    events.on('delete.Cell', handleClearOutput);\n",
       "\n",
       "    /* Handle when a new output is added */\n",
       "    events.on('output_added.OutputArea', handleAddOutput);\n",
       "\n",
       "    /**\n",
       "     * Register the mime type and append_mime function with output_area\n",
       "     */\n",
       "    OutputArea.prototype.register_mime_type(EXEC_MIME_TYPE, append_mime, {\n",
       "      /* Is output safe? */\n",
       "      safe: true,\n",
       "      /* Index of renderer in `output_area.display_order` */\n",
       "      index: 0\n",
       "    });\n",
       "  }\n",
       "\n",
       "  // register the mime type if in Jupyter Notebook environment and previously unregistered\n",
       "  if (root.Jupyter !== undefined) {\n",
       "    var events = require('base/js/events');\n",
       "    var OutputArea = require('notebook/js/outputarea').OutputArea;\n",
       "\n",
       "    if (OutputArea.prototype.mime_types().indexOf(EXEC_MIME_TYPE) == -1) {\n",
       "      register_renderer(events, OutputArea);\n",
       "    }\n",
       "  }\n",
       "\n",
       "  \n",
       "  if (typeof (root._bokeh_timeout) === \"undefined\" || force === true) {\n",
       "    root._bokeh_timeout = Date.now() + 5000;\n",
       "    root._bokeh_failed_load = false;\n",
       "  }\n",
       "\n",
       "  var NB_LOAD_WARNING = {'data': {'text/html':\n",
       "     \"<div style='background-color: #fdd'>\\n\"+\n",
       "     \"<p>\\n\"+\n",
       "     \"BokehJS does not appear to have successfully loaded. If loading BokehJS from CDN, this \\n\"+\n",
       "     \"may be due to a slow or bad network connection. Possible fixes:\\n\"+\n",
       "     \"</p>\\n\"+\n",
       "     \"<ul>\\n\"+\n",
       "     \"<li>re-rerun `output_notebook()` to attempt to load from CDN again, or</li>\\n\"+\n",
       "     \"<li>use INLINE resources instead, as so:</li>\\n\"+\n",
       "     \"</ul>\\n\"+\n",
       "     \"<code>\\n\"+\n",
       "     \"from bokeh.resources import INLINE\\n\"+\n",
       "     \"output_notebook(resources=INLINE)\\n\"+\n",
       "     \"</code>\\n\"+\n",
       "     \"</div>\"}};\n",
       "\n",
       "  function display_loaded() {\n",
       "    var el = document.getElementById(\"4f421b38-2a89-41d4-be47-1ecc0b2f9d5d\");\n",
       "    if (el != null) {\n",
       "      el.textContent = \"BokehJS is loading...\";\n",
       "    }\n",
       "    if (root.Bokeh !== undefined) {\n",
       "      if (el != null) {\n",
       "        el.textContent = \"BokehJS \" + root.Bokeh.version + \" successfully loaded.\";\n",
       "      }\n",
       "    } else if (Date.now() < root._bokeh_timeout) {\n",
       "      setTimeout(display_loaded, 100)\n",
       "    }\n",
       "  }\n",
       "\n",
       "\n",
       "  function run_callbacks() {\n",
       "    try {\n",
       "      root._bokeh_onload_callbacks.forEach(function(callback) { callback() });\n",
       "    }\n",
       "    finally {\n",
       "      delete root._bokeh_onload_callbacks\n",
       "    }\n",
       "    console.info(\"Bokeh: all callbacks have finished\");\n",
       "  }\n",
       "\n",
       "  function load_libs(js_urls, callback) {\n",
       "    root._bokeh_onload_callbacks.push(callback);\n",
       "    if (root._bokeh_is_loading > 0) {\n",
       "      console.log(\"Bokeh: BokehJS is being loaded, scheduling callback at\", now());\n",
       "      return null;\n",
       "    }\n",
       "    if (js_urls == null || js_urls.length === 0) {\n",
       "      run_callbacks();\n",
       "      return null;\n",
       "    }\n",
       "    console.log(\"Bokeh: BokehJS not loaded, scheduling load and callback at\", now());\n",
       "    root._bokeh_is_loading = js_urls.length;\n",
       "    for (var i = 0; i < js_urls.length; i++) {\n",
       "      var url = js_urls[i];\n",
       "      var s = document.createElement('script');\n",
       "      s.src = url;\n",
       "      s.async = false;\n",
       "      s.onreadystatechange = s.onload = function() {\n",
       "        root._bokeh_is_loading--;\n",
       "        if (root._bokeh_is_loading === 0) {\n",
       "          console.log(\"Bokeh: all BokehJS libraries loaded\");\n",
       "          run_callbacks()\n",
       "        }\n",
       "      };\n",
       "      s.onerror = function() {\n",
       "        console.warn(\"failed to load library \" + url);\n",
       "      };\n",
       "      console.log(\"Bokeh: injecting script tag for BokehJS library: \", url);\n",
       "      document.getElementsByTagName(\"head\")[0].appendChild(s);\n",
       "    }\n",
       "  };var element = document.getElementById(\"4f421b38-2a89-41d4-be47-1ecc0b2f9d5d\");\n",
       "  if (element == null) {\n",
       "    console.log(\"Bokeh: ERROR: autoload.js configured with elementid '4f421b38-2a89-41d4-be47-1ecc0b2f9d5d' but no matching script tag was found. \")\n",
       "    return false;\n",
       "  }\n",
       "\n",
       "  var js_urls = [\"https://cdn.pydata.org/bokeh/release/bokeh-0.12.16.min.js\", \"https://cdn.pydata.org/bokeh/release/bokeh-widgets-0.12.16.min.js\", \"https://cdn.pydata.org/bokeh/release/bokeh-tables-0.12.16.min.js\", \"https://cdn.pydata.org/bokeh/release/bokeh-gl-0.12.16.min.js\"];\n",
       "\n",
       "  var inline_js = [\n",
       "    function(Bokeh) {\n",
       "      Bokeh.set_log_level(\"info\");\n",
       "    },\n",
       "    \n",
       "    function(Bokeh) {\n",
       "      \n",
       "    },\n",
       "    function(Bokeh) {\n",
       "      console.log(\"Bokeh: injecting CSS: https://cdn.pydata.org/bokeh/release/bokeh-0.12.16.min.css\");\n",
       "      Bokeh.embed.inject_css(\"https://cdn.pydata.org/bokeh/release/bokeh-0.12.16.min.css\");\n",
       "      console.log(\"Bokeh: injecting CSS: https://cdn.pydata.org/bokeh/release/bokeh-widgets-0.12.16.min.css\");\n",
       "      Bokeh.embed.inject_css(\"https://cdn.pydata.org/bokeh/release/bokeh-widgets-0.12.16.min.css\");\n",
       "      console.log(\"Bokeh: injecting CSS: https://cdn.pydata.org/bokeh/release/bokeh-tables-0.12.16.min.css\");\n",
       "      Bokeh.embed.inject_css(\"https://cdn.pydata.org/bokeh/release/bokeh-tables-0.12.16.min.css\");\n",
       "    }\n",
       "  ];\n",
       "\n",
       "  function run_inline_js() {\n",
       "    \n",
       "    if ((root.Bokeh !== undefined) || (force === true)) {\n",
       "      for (var i = 0; i < inline_js.length; i++) {\n",
       "        inline_js[i].call(root, root.Bokeh);\n",
       "      }if (force === true) {\n",
       "        display_loaded();\n",
       "      }} else if (Date.now() < root._bokeh_timeout) {\n",
       "      setTimeout(run_inline_js, 100);\n",
       "    } else if (!root._bokeh_failed_load) {\n",
       "      console.log(\"Bokeh: BokehJS failed to load within specified timeout.\");\n",
       "      root._bokeh_failed_load = true;\n",
       "    } else if (force !== true) {\n",
       "      var cell = $(document.getElementById(\"4f421b38-2a89-41d4-be47-1ecc0b2f9d5d\")).parents('.cell').data().cell;\n",
       "      cell.output_area.append_execute_result(NB_LOAD_WARNING)\n",
       "    }\n",
       "\n",
       "  }\n",
       "\n",
       "  if (root._bokeh_is_loading === 0) {\n",
       "    console.log(\"Bokeh: BokehJS loaded, going straight to plotting\");\n",
       "    run_inline_js();\n",
       "  } else {\n",
       "    load_libs(js_urls, function() {\n",
       "      console.log(\"Bokeh: BokehJS plotting callback run at\", now());\n",
       "      run_inline_js();\n",
       "    });\n",
       "  }\n",
       "}(window));"
      ],
      "application/vnd.bokehjs_load.v0+json": "\n(function(root) {\n  function now() {\n    return new Date();\n  }\n\n  var force = true;\n\n  if (typeof (root._bokeh_onload_callbacks) === \"undefined\" || force === true) {\n    root._bokeh_onload_callbacks = [];\n    root._bokeh_is_loading = undefined;\n  }\n\n  \n\n  \n  if (typeof (root._bokeh_timeout) === \"undefined\" || force === true) {\n    root._bokeh_timeout = Date.now() + 5000;\n    root._bokeh_failed_load = false;\n  }\n\n  var NB_LOAD_WARNING = {'data': {'text/html':\n     \"<div style='background-color: #fdd'>\\n\"+\n     \"<p>\\n\"+\n     \"BokehJS does not appear to have successfully loaded. If loading BokehJS from CDN, this \\n\"+\n     \"may be due to a slow or bad network connection. Possible fixes:\\n\"+\n     \"</p>\\n\"+\n     \"<ul>\\n\"+\n     \"<li>re-rerun `output_notebook()` to attempt to load from CDN again, or</li>\\n\"+\n     \"<li>use INLINE resources instead, as so:</li>\\n\"+\n     \"</ul>\\n\"+\n     \"<code>\\n\"+\n     \"from bokeh.resources import INLINE\\n\"+\n     \"output_notebook(resources=INLINE)\\n\"+\n     \"</code>\\n\"+\n     \"</div>\"}};\n\n  function display_loaded() {\n    var el = document.getElementById(\"4f421b38-2a89-41d4-be47-1ecc0b2f9d5d\");\n    if (el != null) {\n      el.textContent = \"BokehJS is loading...\";\n    }\n    if (root.Bokeh !== undefined) {\n      if (el != null) {\n        el.textContent = \"BokehJS \" + root.Bokeh.version + \" successfully loaded.\";\n      }\n    } else if (Date.now() < root._bokeh_timeout) {\n      setTimeout(display_loaded, 100)\n    }\n  }\n\n\n  function run_callbacks() {\n    try {\n      root._bokeh_onload_callbacks.forEach(function(callback) { callback() });\n    }\n    finally {\n      delete root._bokeh_onload_callbacks\n    }\n    console.info(\"Bokeh: all callbacks have finished\");\n  }\n\n  function load_libs(js_urls, callback) {\n    root._bokeh_onload_callbacks.push(callback);\n    if (root._bokeh_is_loading > 0) {\n      console.log(\"Bokeh: BokehJS is being loaded, scheduling callback at\", now());\n      return null;\n    }\n    if (js_urls == null || js_urls.length === 0) {\n      run_callbacks();\n      return null;\n    }\n    console.log(\"Bokeh: BokehJS not loaded, scheduling load and callback at\", now());\n    root._bokeh_is_loading = js_urls.length;\n    for (var i = 0; i < js_urls.length; i++) {\n      var url = js_urls[i];\n      var s = document.createElement('script');\n      s.src = url;\n      s.async = false;\n      s.onreadystatechange = s.onload = function() {\n        root._bokeh_is_loading--;\n        if (root._bokeh_is_loading === 0) {\n          console.log(\"Bokeh: all BokehJS libraries loaded\");\n          run_callbacks()\n        }\n      };\n      s.onerror = function() {\n        console.warn(\"failed to load library \" + url);\n      };\n      console.log(\"Bokeh: injecting script tag for BokehJS library: \", url);\n      document.getElementsByTagName(\"head\")[0].appendChild(s);\n    }\n  };var element = document.getElementById(\"4f421b38-2a89-41d4-be47-1ecc0b2f9d5d\");\n  if (element == null) {\n    console.log(\"Bokeh: ERROR: autoload.js configured with elementid '4f421b38-2a89-41d4-be47-1ecc0b2f9d5d' but no matching script tag was found. \")\n    return false;\n  }\n\n  var js_urls = [\"https://cdn.pydata.org/bokeh/release/bokeh-0.12.16.min.js\", \"https://cdn.pydata.org/bokeh/release/bokeh-widgets-0.12.16.min.js\", \"https://cdn.pydata.org/bokeh/release/bokeh-tables-0.12.16.min.js\", \"https://cdn.pydata.org/bokeh/release/bokeh-gl-0.12.16.min.js\"];\n\n  var inline_js = [\n    function(Bokeh) {\n      Bokeh.set_log_level(\"info\");\n    },\n    \n    function(Bokeh) {\n      \n    },\n    function(Bokeh) {\n      console.log(\"Bokeh: injecting CSS: https://cdn.pydata.org/bokeh/release/bokeh-0.12.16.min.css\");\n      Bokeh.embed.inject_css(\"https://cdn.pydata.org/bokeh/release/bokeh-0.12.16.min.css\");\n      console.log(\"Bokeh: injecting CSS: https://cdn.pydata.org/bokeh/release/bokeh-widgets-0.12.16.min.css\");\n      Bokeh.embed.inject_css(\"https://cdn.pydata.org/bokeh/release/bokeh-widgets-0.12.16.min.css\");\n      console.log(\"Bokeh: injecting CSS: https://cdn.pydata.org/bokeh/release/bokeh-tables-0.12.16.min.css\");\n      Bokeh.embed.inject_css(\"https://cdn.pydata.org/bokeh/release/bokeh-tables-0.12.16.min.css\");\n    }\n  ];\n\n  function run_inline_js() {\n    \n    if ((root.Bokeh !== undefined) || (force === true)) {\n      for (var i = 0; i < inline_js.length; i++) {\n        inline_js[i].call(root, root.Bokeh);\n      }if (force === true) {\n        display_loaded();\n      }} else if (Date.now() < root._bokeh_timeout) {\n      setTimeout(run_inline_js, 100);\n    } else if (!root._bokeh_failed_load) {\n      console.log(\"Bokeh: BokehJS failed to load within specified timeout.\");\n      root._bokeh_failed_load = true;\n    } else if (force !== true) {\n      var cell = $(document.getElementById(\"4f421b38-2a89-41d4-be47-1ecc0b2f9d5d\")).parents('.cell').data().cell;\n      cell.output_area.append_execute_result(NB_LOAD_WARNING)\n    }\n\n  }\n\n  if (root._bokeh_is_loading === 0) {\n    console.log(\"Bokeh: BokehJS loaded, going straight to plotting\");\n    run_inline_js();\n  } else {\n    load_libs(js_urls, function() {\n      console.log(\"Bokeh: BokehJS plotting callback run at\", now());\n      run_inline_js();\n    });\n  }\n}(window));"
     },
     "metadata": {},
     "output_type": "display_data"
    }
   ],
   "source": [
    "output_notebook()"
   ]
  },
  {
   "cell_type": "code",
   "execution_count": 865,
   "metadata": {
    "collapsed": true
   },
   "outputs": [],
   "source": [
    "'''\n",
    "Get the clirad-lw and lblnew `param`s for all spectral bands.  \n",
    "These are returned by functions `clirad_params_atm` and\n",
    "`lblnew_params_atm`, respectively.\n",
    "'''\n",
    "\n",
    "def molecules_byband_atm():\n",
    "    return {1: {'h2o': 'atmpro'},\n",
    "            2: {'h2o': 'atmpro'}, \n",
    "            3: {'co2': 0.0004, 'h2o': 'atmpro', 'n2o': 3.2e-07},\n",
    "            4: {'co2': 0.0004, 'h2o': 'atmpro'},\n",
    "            5: {'co2': 0.0004, 'h2o': 'atmpro'},\n",
    "            6: {'co2': 0.0004, 'h2o': 'atmpro'},\n",
    "            7: {'co2': 0.0004, 'h2o': 'atmpro', 'o3': 'atmpro'},\n",
    "            8: {'h2o': 'atmpro'},\n",
    "            9: {'ch4': 1.8e-06, 'h2o': 'atmpro', 'n2o': 3.2e-07},\n",
    "            10: {'h2o': 'atmpro'},\n",
    "            11: {'co2': 0.0004, 'h2o': 'atmpro'}}\n",
    "\n",
    "\n",
    "def greyabsorbers_by_band_atm():\n",
    "    return {1: {'con': 'atmpro'},\n",
    "            2: {'con': 'atmpro'},\n",
    "            3: {'con': 'atmpro'},\n",
    "            4: {'con': 'atmpro'},\n",
    "            5: {'con': 'atmpro'},\n",
    "            6: {'con': 'atmpro'}, \n",
    "            7: {'con': 'atmpro'},\n",
    "            8: {'con': 'atmpro', 'n2o': 3.2e-7}, \n",
    "            9: {'con': 'atmpro'}, \n",
    "            10: None,\n",
    "            11: None}\n",
    "\n",
    "\n",
    "def clirad_params_atm(atmpro='mls'):\n",
    "    d = {}\n",
    "    for band, molecule in molecules_byband_atm().items():\n",
    "        for param in setup_cliradlw.test_cases():\n",
    "            if [band] == param['band'] and molecule == param['molecule']:\n",
    "                param['atmpro'] = atmpro\n",
    "                d[band] = param\n",
    "                break                \n",
    "    return d\n",
    "\n",
    "\n",
    "def clirad_params_atm_singlerun(atmpro='mls'):\n",
    "    '''\n",
    "    Returns param of clirad-lw run that is equivalent to the total\n",
    "    of all the runs listed in molecules_byband_atm().  In order\n",
    "    for the output to be compatible with clirad_data_atm(), it will\n",
    "    be a list.\n",
    "    '''\n",
    "    param0 = {'band': [1, 2, 3, 4, 5, 6, 7, 8, 9, 10, 11],\n",
    "              'commitnumber': '692f34b',\n",
    "              'molecule': {'ch4': 1.8e-06,\n",
    "                           'co2': 0.0004,\n",
    "                           'h2o': 'atmpro',\n",
    "                           'n2o': 3.2e-07,\n",
    "                           'o3': 'atmpro'}}\n",
    "    \n",
    "    d_atmpros = {'mls': 294, 'saw': 257, 'trp': 300}\n",
    "    \n",
    "    param = param0.copy()\n",
    "    param['atmpro'] = atmpro\n",
    "    param['tsfc'] = d_atmpros[atmpro]\n",
    "    \n",
    "    d = {}\n",
    "    d['all'] = param\n",
    "    return d\n",
    "\n",
    "\n",
    "def analysis_dirs_atm(atmpro='mls'):\n",
    "    params = clirad_params_atm(atmpro=atmpro)\n",
    "    return {band: pipe_cliradlw.get_analysis_dir(param=param,\n",
    "                                                 setup=setup_cliradlw) \n",
    "            for band, param in params.items()}\n",
    "\n",
    "\n",
    "def lblnew_params_atm(atmpro='mls'):\n",
    "    dirs = analysis_dirs_atm(atmpro=atmpro)\n",
    "    \n",
    "    d = {}\n",
    "    for band, dirname in dirs.items():\n",
    "        with open(os.path.join(dirname, 'param.py'), \n",
    "                  mode='r', encoding='utf-8') as f:\n",
    "            _, l = f.readlines()\n",
    "        \n",
    "        s = l.split('=')[1].strip()\n",
    "        d[band] = ast.literal_eval(s)\n",
    "        \n",
    "    return d\n"
   ]
  },
  {
   "cell_type": "code",
   "execution_count": 866,
   "metadata": {
    "collapsed": true
   },
   "outputs": [],
   "source": [
    "def db_getdir():\n",
    "    atmpro = 'mls'\n",
    "    params = clirad_params_atm_singlerun(atmpro=atmpro)\n",
    "    param = params['all']\n",
    "    \n",
    "    fdir = pipe_cliradlw.get_fortran_dir(param=param, \n",
    "                                         setup=setup_cliradlw)\n",
    "    return fdir\n",
    "\n",
    "\n",
    "def db_ktable():\n",
    "    fdir = db_getdir()    \n",
    "    fpath = os.path.join(fdir, 'ktable.dat')\n",
    "    \n",
    "    df = pd.read_csv(fpath, sep=r'\\s+')\n",
    "    df = df.set_index(['band', 'mid', 'il', 'it', 'g'])\n",
    "    ds = xr.Dataset.from_dataframe(df)\n",
    "    return ds\n",
    "\n",
    "\n",
    "def db_ng_dgs():\n",
    "    fdir = db_getdir()\n",
    "    fpath = os.path.join(fdir, 'ng_dgs.dat')\n",
    "    \n",
    "    df = pd.read_csv(fpath, sep=r'\\s+')\n",
    "    df = df.set_index(['band', 'mid', 'g'])\n",
    "    ds = xr.Dataset.from_dataframe(df)\n",
    "    return ds\n"
   ]
  },
  {
   "cell_type": "code",
   "execution_count": 867,
   "metadata": {
    "collapsed": true
   },
   "outputs": [],
   "source": [
    "def show_makeup():\n",
    "    df = pd.DataFrame()\n",
    "\n",
    "    for band, molecule in molecules_byband_atm().items():\n",
    "        for name, conc in molecule.items():\n",
    "            df.loc[name, band] = str(conc)\n",
    "\n",
    "    df = df.fillna(0)\n",
    "    df.columns.name = 'clirad band'\n",
    "    df.index.name = 'molecule'\n",
    "    \n",
    "    display.display(df)\n",
    "    \n",
    "    display.display(\n",
    "        display.Markdown('*TABLE.* Non-grey absorbers in the atmosphere.'))\n",
    "\n",
    "\n",
    "def show_grey_makeup():\n",
    "    df = pd.DataFrame()\n",
    "    \n",
    "    for band, molecule in greyabsorbers_by_band_atm().items():\n",
    "        if molecule == None:\n",
    "            pass\n",
    "        else:\n",
    "            for name, conc in molecule.items():\n",
    "                df.loc[name, band] = str(conc)\n",
    "                \n",
    "    df = df.fillna(0)\n",
    "    df.columns.name = 'clirad band'\n",
    "    df.index.name = 'absorber'\n",
    "    \n",
    "    display.display(df)\n",
    "    display.display(\n",
    "        display.Markdown('*TABLE.* Grey absorbers in the atmosphere.')\n",
    "    )"
   ]
  },
  {
   "cell_type": "code",
   "execution_count": 868,
   "metadata": {
    "collapsed": true
   },
   "outputs": [],
   "source": [
    "def load_output_file(path_csv):\n",
    "    '''\n",
    "    Load lblnew output .csv file to xarray.Dataset\n",
    "    \n",
    "    Parameters\n",
    "    ----------\n",
    "    path_csv: str\n",
    "              Path to the .csv file to be loaded.\n",
    "    ds: xarray.Dataset\n",
    "        Data in the input file in the form of an xarray.Dataset.\n",
    "    '''\n",
    "    toindex = ['band', 'pressure', 'igg', 'g']    \n",
    "    df = pd.read_csv(path_csv, sep=r'\\s+')\n",
    "    df = df.set_index([i for i in toindex if i in df.columns])\n",
    "    df = df.rename(columns={'sfu': 'flug',\n",
    "                            'sfd': 'fldg',\n",
    "                            'fnet': 'fnetg',\n",
    "                            'coolr': 'coolrg'})\n",
    "    ds = xr.Dataset.from_dataframe(df)\n",
    "\n",
    "    for l in ('level', 'layer'):\n",
    "        if l in ds.data_vars:\n",
    "            if len(ds[l].dims) > 1:\n",
    "                surface = {d: 0 for d in ds.dims if d != 'pressure'}\n",
    "                coord_level = ds[l][surface]\n",
    "                ds.coords[l] = ('pressure', coord_level)\n",
    "            else:\n",
    "                ds.coords[l] = ('pressure', ds[l])\n",
    "    \n",
    "    return ds"
   ]
  },
  {
   "cell_type": "code",
   "execution_count": 869,
   "metadata": {
    "collapsed": true
   },
   "outputs": [],
   "source": [
    "def lblnew_setup(param=None):\n",
    "    if 'ng_refs' in param:\n",
    "        return {'setup': setup_bestfit,\n",
    "                'fname_flux_crd': 'output_flux.dat',\n",
    "                'fname_cool_crd': 'output_coolr.dat',\n",
    "                'fname_flux_wgt': 'output_wfluxg.dat',\n",
    "                'fname_cool_wgt': 'output_wcoolrg.dat'}\n",
    "    else:\n",
    "        return {'setup': setup_overlap,\n",
    "                'fname_flux_crd': 'output_flux.dat',\n",
    "                'fname_cool_crd': 'output_coolr.dat',\n",
    "                'fname_flux_wgt': 'output_wflux.dat',\n",
    "                'fname_cool_wgt': 'output_wcoolr.dat'}\n",
    "\n",
    "    \n",
    "def load_lblnew_data(param):\n",
    "    \n",
    "    fname_dsname = [('fname_flux_crd', 'ds_flux_crd'),\n",
    "                    ('fname_cool_crd', 'ds_cool_crd'),\n",
    "                    ('fname_flux_wgt', 'ds_flux_wgt'),\n",
    "                    ('fname_cool_wgt', 'ds_cool_wgt')]\n",
    "    \n",
    "    d = lblnew_setup(param)\n",
    "    dir_fortran = pipe_lblnew.get_dir_case(param, setup=d['setup'])\n",
    "    \n",
    "    data_dict = {}\n",
    "    for fname, dsname in fname_dsname:\n",
    "        fpath = os.path.join(dir_fortran, d[fname])\n",
    "        data_dict[dsname] = load_output_file(fpath)\n",
    "    return data_dict"
   ]
  },
  {
   "cell_type": "code",
   "execution_count": 870,
   "metadata": {
    "collapsed": true
   },
   "outputs": [],
   "source": [
    "def crd_data_atm(params_atm):\n",
    "    '''\n",
    "    Parameters\n",
    "    ----------\n",
    "    \n",
    "    params_atm: dict\n",
    "                Parameter dictionary for each band.\n",
    "                \n",
    "    d: dict\n",
    "       'flux': xr.Dataset. [pressure, band]\n",
    "               Fluxes.\n",
    "       'cool': xr.Dataset. [pressure, band]\n",
    "               Cooling rate.\n",
    "    \n",
    "    '''\n",
    "    \n",
    "    results_atm = {band: load_lblnew_data(param) \n",
    "                   for band, param in params_atm.items()}\n",
    "    \n",
    "    bands = [band for band, _ in params_atm.items()]\n",
    "    fluxs = [d['ds_flux_crd'] for _, d in results_atm.items()]\n",
    "    cools = [d['ds_cool_crd'] for _, d in results_atm.items()]\n",
    "    \n",
    "    d = {}\n",
    "    d['flux'] = xr.concat(fluxs, dim=bands).rename({'concat_dim': 'band'})\n",
    "    d['cool'] = xr.concat(cools, dim=bands).rename({'concat_dim': 'band'})\n",
    "    return d        \n",
    "        \n",
    "        \n",
    "\n",
    "def clirad_data_atm(params_atm):\n",
    "    \n",
    "    dirnames = [pipe_cliradlw.get_fortran_dir(param,\n",
    "                                              setup=setup_cliradlw)\n",
    "                for _, param in params_atm.items()]\n",
    "    \n",
    "    fpaths_flux = [os.path.join(n, 'output_flux.dat') for n in dirnames]\n",
    "    fpaths_cool = [os.path.join(n, 'output_coolr.dat') for n in dirnames]\n",
    "    \n",
    "    fluxs = [load_output_file(p) for p in fpaths_flux]    \n",
    "    cools = [load_output_file(p) for p in fpaths_cool]\n",
    "    \n",
    "    d = {}\n",
    "    d['flux'] = sum(fluxs)\n",
    "    d['cool'] = sum(cools)\n",
    "    return d\n",
    "\n"
   ]
  },
  {
   "cell_type": "code",
   "execution_count": 871,
   "metadata": {
    "collapsed": true
   },
   "outputs": [],
   "source": [
    "\n",
    "\n",
    "import rtmtools.clirad.sw.wrangle as cliradwrangle\n",
    "\n",
    "import importlib\n",
    "importlib.reload(cliradwrangle)\n",
    "\n",
    "def oldclirad_data_atm():\n",
    "    '''\n",
    "    Load the OLD clirad's results. mls only.\n",
    "    '''\n",
    "    fpath = os.path.join('/chia_cluster/home/jackyu/radiation',\n",
    "                         'clirad-lw',\n",
    "                         'LW',\n",
    "                         'examples',\n",
    "                         'mls75_h2o_atmpro_co2_.0004_o3_atmpro_n2o_3.2e-7_ch4_1.8e-6_H2012',\n",
    "                         'OUTPUT_CLIRAD.dat')\n",
    "    \n",
    "    ds = cliradwrangle.load_OUTPUT_CLIRAD(readfrom=fpath)\n",
    "    \n",
    "    ds_cool = xr.Dataset()\n",
    "    ds_cool.coords['pressure'] = ('pressure', ds['layer_pressure'])\n",
    "    ds_cool.coords['band'] = ('band', ds['spectral_band'])\n",
    "    ds_cool['coolrg'] = (('band', 'pressure'), - ds['heating_rate'])\n",
    "    \n",
    "    ds_flux = xr.Dataset()\n",
    "    ds_flux.coords['pressure'] = ('pressure', ds['level_pressure'])\n",
    "    ds_flux.coords['band'] = ('band', ds['spectral_band'])\n",
    "    ds_flux['flug'] = (('band', 'pressure'), ds['flux_up'])\n",
    "    ds_flux['fldg'] = (('band', 'pressure'), ds['flux_down'])\n",
    "    ds_flux['fnetg'] = (('band', 'pressure'), ds['net_flux'])\n",
    "    \n",
    "    \n",
    "    d = {}\n",
    "    d['cool'] = ds_cool\n",
    "    d['flux'] = ds_flux\n",
    "    return d\n"
   ]
  },
  {
   "cell_type": "code",
   "execution_count": 872,
   "metadata": {
    "collapsed": true
   },
   "outputs": [],
   "source": [
    "def fmt_cool(ds_in):\n",
    "    ds = ds_in.copy(deep=True)\n",
    "    if 'igg' in ds.dims:\n",
    "        ds = ds.sel(igg=1)\n",
    "\n",
    "    if 'g' in ds.dims:\n",
    "        ds = ds.sum('g')\n",
    "            \n",
    "    if 'band' in ds.dims:\n",
    "        try:\n",
    "            ds = ds.squeeze('band')\n",
    "        except ValueError:\n",
    "            ds = ds.sum('band')\n",
    "                \n",
    "    return ds['coolrg']\n",
    "\n",
    "\n",
    "\n",
    "def nice_xlims(pltdata=None, prange=None):\n",
    "    \n",
    "    def get_slice(srs):\n",
    "        return srs.sel(pressure=slice(*prange))\n",
    "    \n",
    "    srss = [d['srs'] for d in pltdata]\n",
    "    vmin = min([get_slice(srs).min() for srs in srss])\n",
    "    vmax = max([get_slice(srs).max() for srs in srss])\n",
    "    dv = (vmax - vmin) * .01\n",
    "    return float(vmin - dv), float(vmax + dv)\n",
    "\n",
    "\n",
    "    \n",
    "def plt_cool_bokeh(pltdata=None, \n",
    "                   y_axis_type='linear', prange=(50, 1050)):\n",
    "    \n",
    "    ymin = 1e-2 \n",
    "    ymax = 1020\n",
    "    \n",
    "    p2 = figure(y_axis_type=y_axis_type, plot_width=300)\n",
    "    xmin, xmax = nice_xlims(pltdata, prange=prange)\n",
    "    \n",
    "    rs = []\n",
    "    for d in pltdata:\n",
    "        rd = []\n",
    "        if 'marker' in d:\n",
    "            r_mark = getattr(p2, d['marker'])(d['srs'].values, \n",
    "                        d['srs'].coords['pressure'].values,\n",
    "                        color=d['color'], alpha=.7)\n",
    "            rd.append(r_mark)\n",
    "        r_line = p2.line(d['srs'].values, \n",
    "                         d['srs'].coords['pressure'].values,\n",
    "                         color=d['color'], alpha=d['alpha'], \n",
    "                         line_width=d['line_width'], \n",
    "                         line_dash=d['line_dash'])\n",
    "        rd.append(r_line)\n",
    "      \n",
    "        rs.append(rd)\n",
    "        \n",
    "    p2.y_range = Range1d(ymax, ymin)  \n",
    "    p2.yaxis.axis_label = 'pressure [mb]'\n",
    "    \n",
    "    p2.x_range = Range1d(xmin, xmax)\n",
    "    p2.xaxis.axis_label = 'cooling rate [K/day]'\n",
    "    \n",
    "    items = [(d['label'], r) for r, d in zip(rs, pltdata)]\n",
    "    legend = Legend(items=items, location=(10, 0))\n",
    "    legend.label_text_font_size = '8pt'\n",
    "    p2.add_layout(legend, 'above')\n",
    "    p2.legend.orientation = 'horizontal'\n",
    "    p2.legend.location = 'top_center'\n",
    "    \n",
    "    return p2"
   ]
  },
  {
   "cell_type": "code",
   "execution_count": 873,
   "metadata": {
    "collapsed": true
   },
   "outputs": [],
   "source": [
    "def pltdata_cool(atmpro='mls'):\n",
    "    \n",
    "    d_clirad_singlerun = clirad_data_atm(\n",
    "        clirad_params_atm_singlerun(atmpro=atmpro))\n",
    "    d_clirad = clirad_data_atm(clirad_params_atm(atmpro=atmpro))\n",
    "    d_crd = crd_data_atm(lblnew_params_atm(atmpro=atmpro))\n",
    "\n",
    "    ds_clirad_singlerun = d_clirad_singlerun['cool']\n",
    "    ds_clirad = d_clirad['cool']\n",
    "    ds_crd = d_crd['cool']\n",
    "\n",
    "    colors = all_palettes['Set1'][4]\n",
    "    \n",
    "    data = [\n",
    "        {'label': 'CLIRAD (single-run)',\n",
    "        'srs': fmt_cool(ds_clirad_singlerun),\n",
    "        'line_dash': 'dashed', 'line_width': 5,\n",
    "        'color': colors[1], 'alpha': .6},\n",
    "        {'label': 'CRD',\n",
    "         'srs': fmt_cool(ds_crd),\n",
    "         'line_dash': 'solid', 'line_width': 1.5,\n",
    "         'marker': 'circle', 'marker_size': 5,\n",
    "         'color': colors[2], 'alpha': 1}\n",
    "    ]\n",
    "#        {'label': 'CLIRAD',\n",
    "#         'srs': fmt_cool(ds_clirad),\n",
    "#         'line_dash': 'dashed', 'line_width': 5,\n",
    "#         'color': colors[0], 'alpha': .6}\n",
    "        \n",
    "\n",
    "    \n",
    "    # include old CLIRAD's results for mls profile\n",
    "    if atmpro == 'mls':\n",
    "        d_oldclirad = oldclirad_data_atm()\n",
    "        ds_oldclirad = d_oldclirad['cool']        \n",
    "        data.append(\n",
    "            {'label': 'old CLIRAD (H2012)',\n",
    "             'srs': fmt_cool(ds_oldclirad),\n",
    "             'line_dash': 'solid', 'line_width': 1.5,\n",
    "             'marker': 'square', 'marker_size': 3,\n",
    "             'color': colors[3], 'alpha': .5})\n",
    "    return data\n",
    "\n",
    "\n",
    "def pltdata_cooldiff(atmpro='mls'):\n",
    "    \n",
    "    d_clirad_singlerun = clirad_data_atm(\n",
    "        clirad_params_atm_singlerun(atmpro=atmpro))\n",
    "    d_clirad = clirad_data_atm(clirad_params_atm(atmpro=atmpro))\n",
    "    d_crd = crd_data_atm(lblnew_params_atm(atmpro=atmpro))\n",
    "    \n",
    "    ds_clirad_singlerun = d_clirad_singlerun['cool']\n",
    "    ds_clirad = d_clirad['cool']\n",
    "    ds_crd = d_crd['cool']\n",
    "    \n",
    "    ds_diff = ds_clirad_singlerun - ds_crd\n",
    "    \n",
    "    colors = all_palettes['Set1'][4]\n",
    "    \n",
    "    data = [\n",
    "        {'label': 'CLIRAD (single-run) - CRD',\n",
    "         'srs': fmt_cool(ds_diff),\n",
    "         'line_dash': 'solid', 'line_width': 1.5, \n",
    "         'marker': 'circle', 'marker_size': 7,\n",
    "         'color': colors[3], 'alpha': .8}\n",
    "    ]\n",
    "    \n",
    "    # include old CLIRAD's results for mls profile\n",
    "    if atmpro == 'mls':\n",
    "        d_oldclirad = oldclirad_data_atm()\n",
    "        ds_oldclirad = d_oldclirad['cool']\n",
    "        ds_oldclirad.coords['pressure'] = ds_crd.coords['pressure']\n",
    "        ds_diff_old = ds_oldclirad.sum('band') - ds_crd.sum('band')\n",
    "        data.append(\n",
    "            {'label': 'old CLIRAD (H2012) - CRD',\n",
    "             'srs': fmt_cool(ds_diff_old),\n",
    "             'line_dash': 'dashed', 'line_width': 4,\n",
    "             'color': colors[1], 'alpha': .5}\n",
    "        )\n",
    "    return data\n",
    "\n",
    "\n",
    "def show_cool(atmpro='mls'):\n",
    "    \n",
    "    data_cool = pltdata_cool(atmpro=atmpro)\n",
    "    p_cool_liny = plt_cool_bokeh(pltdata=data_cool)\n",
    "    p_cool_logy = plt_cool_bokeh(pltdata=data_cool, \n",
    "                                 y_axis_type='log',\n",
    "                                 prange=(.01, 200))\n",
    "    \n",
    "    data_cooldiff = pltdata_cooldiff(atmpro=atmpro)\n",
    "    p_cooldiff_logy = plt_cool_bokeh(pltdata=data_cooldiff,\n",
    "                                     y_axis_type='log',\n",
    "                                     prange=(.01, 200))\n",
    "    \n",
    "    everything = gridplot(p_cool_liny, p_cool_logy, \n",
    "                          p_cooldiff_logy,\n",
    "                          ncols=3)\n",
    "    show(everything)\n",
    "    display.display(\n",
    "        display.Markdown('*FIGURE.* Cooling rates & difference.'))\n",
    "\n",
    "\n",
    "    "
   ]
  },
  {
   "cell_type": "code",
   "execution_count": null,
   "metadata": {
    "collapsed": true
   },
   "outputs": [],
   "source": []
  },
  {
   "cell_type": "code",
   "execution_count": 874,
   "metadata": {
    "collapsed": true,
    "scrolled": false
   },
   "outputs": [],
   "source": [
    "\n",
    "\n",
    "def hist_band_vs_flux(da, title='Title'):\n",
    "       \n",
    "    bands = [str(b.values) for b in da['band']]\n",
    "\n",
    "    source = ColumnDataSource(\n",
    "        data={'band': bands, 'flux': da.values})\n",
    "\n",
    "    p = figure(x_range=bands, title=title)\n",
    "    p.vbar(source=source, x='band', top='flux', width=.9)\n",
    "\n",
    "    p.yaxis.axis_label = 'flux (W m-2)'\n",
    "    p.xaxis.axis_label = 'spectral band'\n",
    "    \n",
    "    return p\n",
    "\n",
    "\n",
    "def show_hist_flux(atmpro='mls'):\n",
    "    ds_crd = crd_data_atm(lblnew_params_atm(atmpro=atmpro))['flux']\n",
    "    ds_clirad = clirad_data_atm(\n",
    "        clirad_params_atm(atmpro=atmpro))['flux']\n",
    "    ds_clirad_singlerun = clirad_data_atm(\n",
    "        clirad_params_atm_singlerun(atmpro=atmpro))['flux']\n",
    "    \n",
    "    ip, varname = 0, 'flug'\n",
    "    da = (ds_clirad_singlerun - ds_crd).isel(pressure=ip)[varname]\n",
    "    p_toa = hist_band_vs_flux(da, \n",
    "        title='TOA flux. CLIRAD (single-run) - CRD.')\n",
    "\n",
    "    ip, varname = -1, 'fldg'\n",
    "    da = (ds_clirad_singlerun - ds_crd).isel(pressure=ip)[varname]\n",
    "    p_sfc = hist_band_vs_flux(da, \n",
    "        title='SFC flux. CLIRAD (single-run) - CRD.')    \n",
    "    \n",
    "    atm_crd = (ds_crd.isel(pressure=0) \n",
    "               - ds_crd.isel(pressure=-1))['fnetg']\n",
    "    atm_clirad_singlerun = (ds_clirad_singlerun.isel(pressure=0) \n",
    "                  - ds_clirad_singlerun.isel(pressure=-1))['fnetg']\n",
    "    da = atm_clirad_singlerun - atm_crd\n",
    "    p_atm = hist_band_vs_flux(da, \n",
    "        title='Atmosphere heating. CLIRAD (single-run) - CRD.')\n",
    "\n",
    "    everything = gridplot(p_toa, p_sfc, p_atm, ncols=3, \n",
    "                          plot_width=300, plot_height=300)\n",
    "    \n",
    "    show(everything)\n",
    "    display.display(\n",
    "        display.Markdown('*FIGURE.* Difference between CLIRAD and CRD'\n",
    "          ' in TOA, SFC and net atmosphere flux,'\n",
    "          ' in each spectral band.'))\n",
    "\n",
    "\n",
    "    \n",
    "def show_tb_flux(atmpro='mls'):\n",
    "    \n",
    "    def fmt(da_in):\n",
    "        da = da_in.copy(deep=True)\n",
    "        if 'igg' in da.dims:\n",
    "            da = da.sel(igg=1)\n",
    "            \n",
    "        if 'g' in da.dims:\n",
    "            da = da.sum('g')\n",
    "        \n",
    "        if 'band' in da.dims:\n",
    "            try:\n",
    "                da = da.squeeze('band')\n",
    "            except ValueError:\n",
    "                da = da.sum('band')\n",
    "                \n",
    "        return da\n",
    "    \n",
    "    ds_crd = crd_data_atm(lblnew_params_atm(atmpro=atmpro))['flux']\n",
    "    olr_crd = ds_crd['flug'].isel(pressure=0)\n",
    "    sfc_crd = ds_crd['fldg'].isel(pressure=-1)\n",
    "    atm_crd = (ds_crd.isel(pressure=0)\n",
    "               - ds_crd.isel(pressure=-1))['fnetg']\n",
    "    \n",
    "    ds_clirad = clirad_data_atm(\n",
    "        clirad_params_atm(atmpro=atmpro))['flux']\n",
    "    olr_clirad = ds_clirad['flug'].isel(pressure=0)\n",
    "    sfc_clirad = ds_clirad['fldg'].isel(pressure=-1)\n",
    "    atm_clirad = (ds_clirad.isel(pressure=0)\n",
    "                  - ds_clirad.isel(pressure=-1))['fnetg']\n",
    "\n",
    "    ds_clirad_singlerun = clirad_data_atm(\n",
    "        clirad_params_atm_singlerun(atmpro=atmpro))['flux']\n",
    "    olr_clirad_singlerun = ds_clirad_singlerun['flug'].isel(pressure=0)\n",
    "    sfc_clirad_singlerun = ds_clirad_singlerun['fldg'].isel(pressure=-1)\n",
    "    atm_clirad_singlerun = (ds_clirad_singlerun.isel(pressure=0)\n",
    "                  - ds_clirad_singlerun.isel(pressure=-1))['fnetg']\n",
    "    \n",
    "    if atmpro == 'mls':\n",
    "        ds_oldclirad = oldclirad_data_atm()['flux']\n",
    "        ds_oldclirad['pressure'] = ds_crd['pressure']\n",
    "        olr_oldclirad = ds_oldclirad['flug'].isel(pressure=0)\n",
    "        sfc_oldclirad = ds_oldclirad['fldg'].isel(pressure=-1)\n",
    "        atm_oldclirad = (ds_oldclirad.isel(pressure=0)\n",
    "                         - ds_oldclirad.isel(pressure=-1))['fnetg']\n",
    "        \n",
    "    \n",
    "    \n",
    "    df = pd.DataFrame()\n",
    "    df.index.name = 'Sum over bands'\n",
    "    \n",
    "    if atmpro == 'mls':\n",
    "        df.loc['old CLIRAD - CRD', \n",
    "               'OLR flux'] = (fmt(olr_oldclirad)\n",
    "                              - fmt(olr_crd)).values\n",
    "        df.loc['old CLIRAD - CRD', \n",
    "               'SFC flux'] = (fmt(sfc_oldclirad)\n",
    "                              - fmt(sfc_crd)).values\n",
    "        df.loc['old CLIRAD - CRD', \n",
    "               'ATM heating'] = (fmt(atm_oldclirad)\n",
    "                                 - fmt(atm_crd)).values\n",
    "    \n",
    "    df.loc['CLIRAD (single-run) - CRD', \n",
    "           'OLR flux'] = (fmt(olr_clirad_singlerun) \n",
    "                          - fmt(olr_crd)).values\n",
    "    df.loc['CLIRAD (single-run) - CRD', \n",
    "           'SFC flux'] = (fmt(sfc_clirad_singlerun) \n",
    "                          - fmt(sfc_crd)).values\n",
    "    df.loc['CLIRAD (single-run) - CRD', \n",
    "           'ATM heating'] = (fmt(atm_clirad_singlerun) \n",
    "                             - fmt(atm_crd)).values\n",
    "\n",
    "    df.loc['CRD', 'OLR flux'] = fmt(olr_crd).values\n",
    "    df.loc['CRD', 'SFC flux'] = fmt(sfc_crd).values\n",
    "    df.loc['CRD', 'ATM heating'] = fmt(atm_crd).values\n",
    "        \n",
    "    df = df.astype('float').round(2)\n",
    "    \n",
    "    display.display(df)\n",
    "    display.display(\n",
    "        display.Markdown('*TABLE.* Difference between CLIRAD and CRD'\n",
    "          ' in TOA, SFC and net atmosphere flux,'\n",
    "          ' over all spectral bands. CRD\\'s'\n",
    "          ' TOA, SFC and net atmosphere flux,'\n",
    "          ' over all spectral bands.'))\n"
   ]
  },
  {
   "cell_type": "code",
   "execution_count": 875,
   "metadata": {
    "scrolled": false
   },
   "outputs": [
    {
     "data": {
      "text/markdown": [
       "## Results over entire range of molecules and spectral bands"
      ],
      "text/plain": [
       "<IPython.core.display.Markdown object>"
      ]
     },
     "metadata": {},
     "output_type": "display_data"
    },
    {
     "data": {
      "text/markdown": [
       "### Table of Contents"
      ],
      "text/plain": [
       "<IPython.core.display.Markdown object>"
      ]
     },
     "metadata": {},
     "output_type": "display_data"
    },
    {
     "data": {
      "text/html": [
       "<a href=\"#Makeup_of_atmosphere.\">Makeup of atmosphere.</a>"
      ],
      "text/plain": [
       "<IPython.core.display.HTML object>"
      ]
     },
     "metadata": {},
     "output_type": "display_data"
    },
    {
     "data": {
      "text/markdown": [
       "**mid-latitude summer**"
      ],
      "text/plain": [
       "<IPython.core.display.Markdown object>"
      ]
     },
     "metadata": {},
     "output_type": "display_data"
    },
    {
     "data": {
      "text/html": [
       "<a href=\"#Cooling_rates._mls.\">Cooling rates. mls.</a>"
      ],
      "text/plain": [
       "<IPython.core.display.HTML object>"
      ]
     },
     "metadata": {},
     "output_type": "display_data"
    },
    {
     "data": {
      "text/html": [
       "<a href=\"#Fluxes._mls.\">Fluxes. mls.</a>"
      ],
      "text/plain": [
       "<IPython.core.display.HTML object>"
      ]
     },
     "metadata": {},
     "output_type": "display_data"
    },
    {
     "data": {
      "text/markdown": [
       "**sub-arctic winter**"
      ],
      "text/plain": [
       "<IPython.core.display.Markdown object>"
      ]
     },
     "metadata": {},
     "output_type": "display_data"
    },
    {
     "data": {
      "text/html": [
       "<a href=\"#Cooling_rates._saw.\">Cooling rates. saw.</a>"
      ],
      "text/plain": [
       "<IPython.core.display.HTML object>"
      ]
     },
     "metadata": {},
     "output_type": "display_data"
    },
    {
     "data": {
      "text/html": [
       "<a href=\"#Fluxes._saw.\">Fluxes. saw.</a>"
      ],
      "text/plain": [
       "<IPython.core.display.HTML object>"
      ]
     },
     "metadata": {},
     "output_type": "display_data"
    },
    {
     "data": {
      "text/markdown": [
       "**tropical**"
      ],
      "text/plain": [
       "<IPython.core.display.Markdown object>"
      ]
     },
     "metadata": {},
     "output_type": "display_data"
    },
    {
     "data": {
      "text/html": [
       "<a href=\"#Cooling_rates._trp.\">Cooling rates. trp.</a>"
      ],
      "text/plain": [
       "<IPython.core.display.HTML object>"
      ]
     },
     "metadata": {},
     "output_type": "display_data"
    },
    {
     "data": {
      "text/html": [
       "<a href=\"#Fluxes._trp.\">Fluxes. trp.</a>"
      ],
      "text/plain": [
       "<IPython.core.display.HTML object>"
      ]
     },
     "metadata": {},
     "output_type": "display_data"
    },
    {
     "data": {
      "text/html": [
       "<a id=\"Makeup_of_atmosphere.\"></a>"
      ],
      "text/plain": [
       "<IPython.core.display.HTML object>"
      ]
     },
     "metadata": {},
     "output_type": "display_data"
    },
    {
     "data": {
      "text/markdown": [
       "# Makeup of atmosphere."
      ],
      "text/plain": [
       "<IPython.core.display.Markdown object>"
      ]
     },
     "metadata": {},
     "output_type": "display_data"
    },
    {
     "data": {
      "text/html": [
       "<div>\n",
       "<style scoped>\n",
       "    .dataframe tbody tr th:only-of-type {\n",
       "        vertical-align: middle;\n",
       "    }\n",
       "\n",
       "    .dataframe tbody tr th {\n",
       "        vertical-align: top;\n",
       "    }\n",
       "\n",
       "    .dataframe thead th {\n",
       "        text-align: right;\n",
       "    }\n",
       "</style>\n",
       "<table border=\"1\" class=\"dataframe\">\n",
       "  <thead>\n",
       "    <tr style=\"text-align: right;\">\n",
       "      <th>clirad band</th>\n",
       "      <th>1</th>\n",
       "      <th>2</th>\n",
       "      <th>3</th>\n",
       "      <th>4</th>\n",
       "      <th>5</th>\n",
       "      <th>6</th>\n",
       "      <th>7</th>\n",
       "      <th>8</th>\n",
       "      <th>9</th>\n",
       "      <th>10</th>\n",
       "      <th>11</th>\n",
       "    </tr>\n",
       "    <tr>\n",
       "      <th>molecule</th>\n",
       "      <th></th>\n",
       "      <th></th>\n",
       "      <th></th>\n",
       "      <th></th>\n",
       "      <th></th>\n",
       "      <th></th>\n",
       "      <th></th>\n",
       "      <th></th>\n",
       "      <th></th>\n",
       "      <th></th>\n",
       "      <th></th>\n",
       "    </tr>\n",
       "  </thead>\n",
       "  <tbody>\n",
       "    <tr>\n",
       "      <th>h2o</th>\n",
       "      <td>atmpro</td>\n",
       "      <td>atmpro</td>\n",
       "      <td>atmpro</td>\n",
       "      <td>atmpro</td>\n",
       "      <td>atmpro</td>\n",
       "      <td>atmpro</td>\n",
       "      <td>atmpro</td>\n",
       "      <td>atmpro</td>\n",
       "      <td>atmpro</td>\n",
       "      <td>atmpro</td>\n",
       "      <td>atmpro</td>\n",
       "    </tr>\n",
       "    <tr>\n",
       "      <th>co2</th>\n",
       "      <td>0</td>\n",
       "      <td>0</td>\n",
       "      <td>0.0004</td>\n",
       "      <td>0.0004</td>\n",
       "      <td>0.0004</td>\n",
       "      <td>0.0004</td>\n",
       "      <td>0.0004</td>\n",
       "      <td>0</td>\n",
       "      <td>0</td>\n",
       "      <td>0</td>\n",
       "      <td>0.0004</td>\n",
       "    </tr>\n",
       "    <tr>\n",
       "      <th>n2o</th>\n",
       "      <td>0</td>\n",
       "      <td>0</td>\n",
       "      <td>3.2e-07</td>\n",
       "      <td>0</td>\n",
       "      <td>0</td>\n",
       "      <td>0</td>\n",
       "      <td>0</td>\n",
       "      <td>0</td>\n",
       "      <td>3.2e-07</td>\n",
       "      <td>0</td>\n",
       "      <td>0</td>\n",
       "    </tr>\n",
       "    <tr>\n",
       "      <th>o3</th>\n",
       "      <td>0</td>\n",
       "      <td>0</td>\n",
       "      <td>0</td>\n",
       "      <td>0</td>\n",
       "      <td>0</td>\n",
       "      <td>0</td>\n",
       "      <td>atmpro</td>\n",
       "      <td>0</td>\n",
       "      <td>0</td>\n",
       "      <td>0</td>\n",
       "      <td>0</td>\n",
       "    </tr>\n",
       "    <tr>\n",
       "      <th>ch4</th>\n",
       "      <td>0</td>\n",
       "      <td>0</td>\n",
       "      <td>0</td>\n",
       "      <td>0</td>\n",
       "      <td>0</td>\n",
       "      <td>0</td>\n",
       "      <td>0</td>\n",
       "      <td>0</td>\n",
       "      <td>1.8e-06</td>\n",
       "      <td>0</td>\n",
       "      <td>0</td>\n",
       "    </tr>\n",
       "  </tbody>\n",
       "</table>\n",
       "</div>"
      ],
      "text/plain": [
       "clirad band      1       2        3       4       5       6       7       8   \\\n",
       "molecule                                                                       \n",
       "h2o          atmpro  atmpro   atmpro  atmpro  atmpro  atmpro  atmpro  atmpro   \n",
       "co2               0       0   0.0004  0.0004  0.0004  0.0004  0.0004       0   \n",
       "n2o               0       0  3.2e-07       0       0       0       0       0   \n",
       "o3                0       0        0       0       0       0  atmpro       0   \n",
       "ch4               0       0        0       0       0       0       0       0   \n",
       "\n",
       "clirad band       9       10      11  \n",
       "molecule                              \n",
       "h2o           atmpro  atmpro  atmpro  \n",
       "co2                0       0  0.0004  \n",
       "n2o          3.2e-07       0       0  \n",
       "o3                 0       0       0  \n",
       "ch4          1.8e-06       0       0  "
      ]
     },
     "metadata": {},
     "output_type": "display_data"
    },
    {
     "data": {
      "text/markdown": [
       "*TABLE.* Non-grey absorbers in the atmosphere."
      ],
      "text/plain": [
       "<IPython.core.display.Markdown object>"
      ]
     },
     "metadata": {},
     "output_type": "display_data"
    },
    {
     "data": {
      "text/html": [
       "<div>\n",
       "<style scoped>\n",
       "    .dataframe tbody tr th:only-of-type {\n",
       "        vertical-align: middle;\n",
       "    }\n",
       "\n",
       "    .dataframe tbody tr th {\n",
       "        vertical-align: top;\n",
       "    }\n",
       "\n",
       "    .dataframe thead th {\n",
       "        text-align: right;\n",
       "    }\n",
       "</style>\n",
       "<table border=\"1\" class=\"dataframe\">\n",
       "  <thead>\n",
       "    <tr style=\"text-align: right;\">\n",
       "      <th>clirad band</th>\n",
       "      <th>1</th>\n",
       "      <th>2</th>\n",
       "      <th>3</th>\n",
       "      <th>4</th>\n",
       "      <th>5</th>\n",
       "      <th>6</th>\n",
       "      <th>7</th>\n",
       "      <th>8</th>\n",
       "      <th>9</th>\n",
       "    </tr>\n",
       "    <tr>\n",
       "      <th>absorber</th>\n",
       "      <th></th>\n",
       "      <th></th>\n",
       "      <th></th>\n",
       "      <th></th>\n",
       "      <th></th>\n",
       "      <th></th>\n",
       "      <th></th>\n",
       "      <th></th>\n",
       "      <th></th>\n",
       "    </tr>\n",
       "  </thead>\n",
       "  <tbody>\n",
       "    <tr>\n",
       "      <th>con</th>\n",
       "      <td>atmpro</td>\n",
       "      <td>atmpro</td>\n",
       "      <td>atmpro</td>\n",
       "      <td>atmpro</td>\n",
       "      <td>atmpro</td>\n",
       "      <td>atmpro</td>\n",
       "      <td>atmpro</td>\n",
       "      <td>atmpro</td>\n",
       "      <td>atmpro</td>\n",
       "    </tr>\n",
       "    <tr>\n",
       "      <th>n2o</th>\n",
       "      <td>0</td>\n",
       "      <td>0</td>\n",
       "      <td>0</td>\n",
       "      <td>0</td>\n",
       "      <td>0</td>\n",
       "      <td>0</td>\n",
       "      <td>0</td>\n",
       "      <td>3.2e-07</td>\n",
       "      <td>0</td>\n",
       "    </tr>\n",
       "  </tbody>\n",
       "</table>\n",
       "</div>"
      ],
      "text/plain": [
       "clirad band       1       2       3       4       5       6       7        8  \\\n",
       "absorber                                                                       \n",
       "con          atmpro  atmpro  atmpro  atmpro  atmpro  atmpro  atmpro   atmpro   \n",
       "n2o               0       0       0       0       0       0       0  3.2e-07   \n",
       "\n",
       "clirad band       9  \n",
       "absorber             \n",
       "con          atmpro  \n",
       "n2o               0  "
      ]
     },
     "metadata": {},
     "output_type": "display_data"
    },
    {
     "data": {
      "text/markdown": [
       "*TABLE.* Grey absorbers in the atmosphere."
      ],
      "text/plain": [
       "<IPython.core.display.Markdown object>"
      ]
     },
     "metadata": {},
     "output_type": "display_data"
    },
    {
     "data": {
      "text/html": [
       "<a id=\"Cooling_rates._mls.\"></a>"
      ],
      "text/plain": [
       "<IPython.core.display.HTML object>"
      ]
     },
     "metadata": {},
     "output_type": "display_data"
    },
    {
     "data": {
      "text/markdown": [
       "# Cooling rates. mls."
      ],
      "text/plain": [
       "<IPython.core.display.Markdown object>"
      ]
     },
     "metadata": {},
     "output_type": "display_data"
    },
    {
     "data": {
      "text/html": [
       "\n",
       "<div class=\"bk-root\">\n",
       "    <div class=\"bk-plotdiv\" id=\"92c794a2-f73d-46b3-826a-bbdc18863c00\"></div>\n",
       "</div>"
      ]
     },
     "metadata": {},
     "output_type": "display_data"
    },
    {
     "data": {
      "application/javascript": [
       "(function(root) {\n",
       "  function embed_document(root) {\n",
       "    \n",
       "  var docs_json = {\"214ae504-ef83-430f-b2ff-d350ddc1ebf2\":{\"roots\":{\"references\":[{\"attributes\":{},\"id\":\"c5526c4d-8786-436b-a682-5ec70396b537\",\"type\":\"UnionRenderers\"},{\"attributes\":{\"overlay\":{\"id\":\"aae58c96-aa46-4b6d-8baa-1eab80d7a475\",\"type\":\"BoxAnnotation\"}},\"id\":\"3d019771-b225-48b6-b79f-5902301a248d\",\"type\":\"BoxZoomTool\"},{\"attributes\":{},\"id\":\"53360f12-b58d-41e8-be35-14860f04ad2d\",\"type\":\"WheelZoomTool\"},{\"attributes\":{},\"id\":\"ce05fa67-c245-498e-a36d-095e1deab69e\",\"type\":\"LogScale\"},{\"attributes\":{\"children\":[{\"id\":\"5ff95d43-646a-4e43-84fa-9704eeb063db\",\"type\":\"Row\"}]},\"id\":\"4daa4fef-631f-4c66-b3c9-80823c22617a\",\"type\":\"Column\"},{\"attributes\":{\"items\":[{\"id\":\"0924f26c-a4b2-48ed-9f39-b35cc6349ed9\",\"type\":\"LegendItem\"},{\"id\":\"2d2d2e6b-558f-461a-8e4b-a47032096387\",\"type\":\"LegendItem\"}],\"label_text_font_size\":{\"value\":\"8pt\"},\"location\":\"top_center\",\"orientation\":\"horizontal\",\"plot\":{\"id\":\"d4d9f9a6-1015-4af0-8b90-c41959754bc5\",\"subtype\":\"Figure\",\"type\":\"Plot\"}},\"id\":\"a49f0532-c692-41c9-a5e9-a71573f5f772\",\"type\":\"Legend\"},{\"attributes\":{},\"id\":\"fc10890c-a3cf-4284-9072-13bb2551a7ca\",\"type\":\"Selection\"},{\"attributes\":{},\"id\":\"a91008d5-8b64-47da-aa3c-65f4a8048bfc\",\"type\":\"Selection\"},{\"attributes\":{\"dimension\":1,\"plot\":{\"id\":\"30336495-5abd-4cf0-bf6b-ec8e8c063141\",\"subtype\":\"Figure\",\"type\":\"Plot\"},\"ticker\":{\"id\":\"8c6a6410-e0ed-4e08-940c-9812a8ccbf17\",\"type\":\"BasicTicker\"}},\"id\":\"5ef4072f-5c7d-4066-81c2-21c4eaafecf3\",\"type\":\"Grid\"},{\"attributes\":{},\"id\":\"174451d2-bdff-487c-ac0e-161f98a7aa6a\",\"type\":\"UnionRenderers\"},{\"attributes\":{\"data_source\":{\"id\":\"df298aa1-d171-46d2-b27e-0c2e5e700fac\",\"type\":\"ColumnDataSource\"},\"glyph\":{\"id\":\"78141a2d-d8eb-40d6-9e46-cba9087de0e3\",\"type\":\"Line\"},\"hover_glyph\":null,\"muted_glyph\":null,\"nonselection_glyph\":{\"id\":\"520b1eae-da20-4978-915b-91ba3d0905cd\",\"type\":\"Line\"},\"selection_glyph\":null,\"view\":{\"id\":\"5028379a-d9a7-405b-817a-312131223c2b\",\"type\":\"CDSView\"}},\"id\":\"a6abe8b2-8db7-4dff-9c8c-a73635102f04\",\"type\":\"GlyphRenderer\"},{\"attributes\":{},\"id\":\"be26d4d3-c03a-467b-b11b-ba35cba6aada\",\"type\":\"Selection\"},{\"attributes\":{\"callback\":null,\"end\":0.7323360194662635,\"start\":-1.576281364019664},\"id\":\"b98610aa-3cf5-45e7-a7dc-dd3b0e05a468\",\"type\":\"Range1d\"},{\"attributes\":{},\"id\":\"fbeafcc0-e2d0-47ba-abe3-b9989c99ca07\",\"type\":\"UnionRenderers\"},{\"attributes\":{\"above\":[{\"id\":\"a49f0532-c692-41c9-a5e9-a71573f5f772\",\"type\":\"Legend\"}],\"below\":[{\"id\":\"86d0ae8e-a2d8-47e1-9b35-961bb4f18120\",\"type\":\"LinearAxis\"}],\"left\":[{\"id\":\"5f876ad9-3fb9-4689-ab78-0ab697d19c0f\",\"type\":\"LogAxis\"}],\"plot_width\":300,\"renderers\":[{\"id\":\"86d0ae8e-a2d8-47e1-9b35-961bb4f18120\",\"type\":\"LinearAxis\"},{\"id\":\"db99e2ce-ca7b-434c-bed8-e654f2a3893d\",\"type\":\"Grid\"},{\"id\":\"5f876ad9-3fb9-4689-ab78-0ab697d19c0f\",\"type\":\"LogAxis\"},{\"id\":\"de8b210a-3f12-46cb-9c28-597cfdf6b99c\",\"type\":\"Grid\"},{\"id\":\"1431201f-e466-4107-bc19-a83da8add8be\",\"type\":\"BoxAnnotation\"},{\"id\":\"6ce72676-1f6b-4c57-b4b7-0c2827d19994\",\"type\":\"GlyphRenderer\"},{\"id\":\"94728b2d-45d2-406e-9f26-c7a21466c1cd\",\"type\":\"GlyphRenderer\"},{\"id\":\"15d7b639-9ba5-4259-a4c7-7ab8abbd3648\",\"type\":\"GlyphRenderer\"},{\"id\":\"a49f0532-c692-41c9-a5e9-a71573f5f772\",\"type\":\"Legend\"}],\"title\":{\"id\":\"136b9dc1-307e-4c11-a2c6-bcc25f30ab97\",\"type\":\"Title\"},\"toolbar\":{\"id\":\"e1232a01-ae24-4706-a481-a1a0eae9b469\",\"type\":\"Toolbar\"},\"toolbar_location\":null,\"x_range\":{\"id\":\"b98610aa-3cf5-45e7-a7dc-dd3b0e05a468\",\"type\":\"Range1d\"},\"x_scale\":{\"id\":\"e369567e-ad09-4eef-9a82-05f6ee23a4d6\",\"type\":\"LinearScale\"},\"y_range\":{\"id\":\"f10ac40b-e4aa-4557-9612-27eb92f400b1\",\"type\":\"Range1d\"},\"y_scale\":{\"id\":\"c1a041d9-5bb7-4318-b230-4ab391347810\",\"type\":\"LogScale\"}},\"id\":\"d4d9f9a6-1015-4af0-8b90-c41959754bc5\",\"subtype\":\"Figure\",\"type\":\"Plot\"},{\"attributes\":{},\"id\":\"e59594b6-4d75-48bb-89d2-bcdd2636e978\",\"type\":\"Selection\"},{\"attributes\":{\"dimension\":1,\"plot\":{\"id\":\"d4d9f9a6-1015-4af0-8b90-c41959754bc5\",\"subtype\":\"Figure\",\"type\":\"Plot\"},\"ticker\":{\"id\":\"4d2b0cdd-2d86-462f-b0e0-b3e546b3c68e\",\"type\":\"LogTicker\"}},\"id\":\"de8b210a-3f12-46cb-9c28-597cfdf6b99c\",\"type\":\"Grid\"},{\"attributes\":{\"tools\":[{\"id\":\"5877fe65-bb39-46cb-96e8-fc6d0faa4b41\",\"type\":\"PanTool\"},{\"id\":\"53360f12-b58d-41e8-be35-14860f04ad2d\",\"type\":\"WheelZoomTool\"},{\"id\":\"3d019771-b225-48b6-b79f-5902301a248d\",\"type\":\"BoxZoomTool\"},{\"id\":\"29550f69-c9b0-4c6d-8528-b16aef1b42a4\",\"type\":\"SaveTool\"},{\"id\":\"4e9cc611-74da-40c4-aec0-802b0423c459\",\"type\":\"ResetTool\"},{\"id\":\"cdb9c4dd-6ba7-48be-8748-0e8e8be14967\",\"type\":\"HelpTool\"},{\"id\":\"308c2348-e412-43b4-a92f-836f4cecbebd\",\"type\":\"PanTool\"},{\"id\":\"9e666565-a01a-4310-b841-4f0d7c86641b\",\"type\":\"WheelZoomTool\"},{\"id\":\"b2919043-cda6-4368-ab95-331810665285\",\"type\":\"BoxZoomTool\"},{\"id\":\"b4b6000b-40b4-498e-8d13-b9a2a747253a\",\"type\":\"SaveTool\"},{\"id\":\"e20595c4-38e2-4388-b1b1-30a4ae8ee17f\",\"type\":\"ResetTool\"},{\"id\":\"c88c3d34-3948-4116-b743-a525b22c062c\",\"type\":\"HelpTool\"},{\"id\":\"57d37c78-a439-4655-81b6-bc22de888d78\",\"type\":\"PanTool\"},{\"id\":\"0ef6e7cd-ca07-452e-928c-8341eb27e085\",\"type\":\"WheelZoomTool\"},{\"id\":\"1f0b3b7b-5191-41d1-9496-1cbdf6eb2bef\",\"type\":\"BoxZoomTool\"},{\"id\":\"dca65dcc-e35e-4e98-b99d-306002bee57d\",\"type\":\"SaveTool\"},{\"id\":\"a9b7f948-5753-49cf-9150-78e503089b88\",\"type\":\"ResetTool\"},{\"id\":\"39f52c5d-bedb-4105-93fc-520b5e9532d6\",\"type\":\"HelpTool\"}]},\"id\":\"f6e37d3a-b693-4ed9-950a-247b4a357476\",\"type\":\"ProxyToolbar\"},{\"attributes\":{\"above\":[{\"id\":\"9fc0d3b5-8836-4a3c-b7cb-5882a91faf26\",\"type\":\"Legend\"}],\"below\":[{\"id\":\"7e4f4ad5-c504-4de4-ad8b-415d82d99f20\",\"type\":\"LinearAxis\"}],\"left\":[{\"id\":\"1f964089-c2a3-41cd-b83f-4305f7e47560\",\"type\":\"LogAxis\"}],\"plot_width\":300,\"renderers\":[{\"id\":\"7e4f4ad5-c504-4de4-ad8b-415d82d99f20\",\"type\":\"LinearAxis\"},{\"id\":\"4ca77361-6d3e-4080-94df-8c999bf24aad\",\"type\":\"Grid\"},{\"id\":\"1f964089-c2a3-41cd-b83f-4305f7e47560\",\"type\":\"LogAxis\"},{\"id\":\"75c09132-b9fd-44d9-8bd1-39b88fdb3800\",\"type\":\"Grid\"},{\"id\":\"5ce3e9bc-4e96-42b3-ace6-8158f9b794d9\",\"type\":\"BoxAnnotation\"},{\"id\":\"f1ce0644-a4ff-4bca-b32a-cac18a705e8c\",\"type\":\"GlyphRenderer\"},{\"id\":\"aab1dc0c-1d74-4ebb-8da2-c48bcae569f7\",\"type\":\"GlyphRenderer\"},{\"id\":\"b8aed6e2-5811-4a5c-8291-fa17482d2a4c\",\"type\":\"GlyphRenderer\"},{\"id\":\"52c94267-557e-4fc8-912f-e6500fc0de47\",\"type\":\"GlyphRenderer\"},{\"id\":\"7e0e3aea-34a6-4be1-b347-9592d115e265\",\"type\":\"GlyphRenderer\"},{\"id\":\"9fc0d3b5-8836-4a3c-b7cb-5882a91faf26\",\"type\":\"Legend\"}],\"title\":{\"id\":\"d4f0a5cd-88fa-4866-ac17-1fab8e9ac044\",\"type\":\"Title\"},\"toolbar\":{\"id\":\"b948ede1-f334-4e1e-a968-357dff72e113\",\"type\":\"Toolbar\"},\"toolbar_location\":null,\"x_range\":{\"id\":\"95d9b60c-b539-4140-b5b0-9d530575df37\",\"type\":\"Range1d\"},\"x_scale\":{\"id\":\"c09e6c6d-d145-417c-ac9d-cb2c8d7ca270\",\"type\":\"LinearScale\"},\"y_range\":{\"id\":\"59605ee0-94b7-444c-bff3-b61802539bbe\",\"type\":\"Range1d\"},\"y_scale\":{\"id\":\"ce05fa67-c245-498e-a36d-095e1deab69e\",\"type\":\"LogScale\"}},\"id\":\"b7e2416d-eae2-40fb-a108-332ebfa5dd8f\",\"subtype\":\"Figure\",\"type\":\"Plot\"},{\"attributes\":{\"children\":[{\"id\":\"1cc66e8f-e1e7-453a-95d3-e1a355d5a368\",\"type\":\"ToolbarBox\"},{\"id\":\"4daa4fef-631f-4c66-b3c9-80823c22617a\",\"type\":\"Column\"}]},\"id\":\"3a261ba7-c06b-4cf9-b216-323c0fd70656\",\"type\":\"Column\"},{\"attributes\":{},\"id\":\"3c90086e-4499-40d2-8db0-6a2db5c7d4f3\",\"type\":\"Selection\"},{\"attributes\":{},\"id\":\"4e890b9f-cde4-4ba9-9d27-8f85f7c4aadf\",\"type\":\"UnionRenderers\"},{\"attributes\":{},\"id\":\"333b9cf1-5e3b-46db-a8af-de27c3091d59\",\"type\":\"BasicTickFormatter\"},{\"attributes\":{\"axis_label\":\"cooling rate [K/day]\",\"formatter\":{\"id\":\"d00e6cb0-6ec4-4297-862d-bb0f37e4f799\",\"type\":\"BasicTickFormatter\"},\"plot\":{\"id\":\"b7e2416d-eae2-40fb-a108-332ebfa5dd8f\",\"subtype\":\"Figure\",\"type\":\"Plot\"},\"ticker\":{\"id\":\"24719d12-0675-411e-b5f5-6e6ce9dec11b\",\"type\":\"BasicTicker\"}},\"id\":\"7e4f4ad5-c504-4de4-ad8b-415d82d99f20\",\"type\":\"LinearAxis\"},{\"attributes\":{\"line_alpha\":0.8,\"line_color\":\"#984ea3\",\"line_width\":1.5,\"x\":{\"field\":\"x\"},\"y\":{\"field\":\"y\"}},\"id\":\"523b5ee4-1327-494b-b588-6b8d36497ade\",\"type\":\"Line\"},{\"attributes\":{\"line_alpha\":0.1,\"line_color\":\"#1f77b4\",\"line_dash\":[6],\"line_width\":5,\"x\":{\"field\":\"x\"},\"y\":{\"field\":\"y\"}},\"id\":\"63b0b02a-ef87-4914-8b0c-a1ea2a140339\",\"type\":\"Line\"},{\"attributes\":{\"plot\":null,\"text\":\"\"},\"id\":\"136b9dc1-307e-4c11-a2c6-bcc25f30ab97\",\"type\":\"Title\"},{\"attributes\":{\"toolbar\":{\"id\":\"f6e37d3a-b693-4ed9-950a-247b4a357476\",\"type\":\"ProxyToolbar\"},\"toolbar_location\":\"above\"},\"id\":\"1cc66e8f-e1e7-453a-95d3-e1a355d5a368\",\"type\":\"ToolbarBox\"},{\"attributes\":{\"callback\":null,\"data\":{\"x\":{\"__ndarray__\":\"sPNoLVUWRMCcW08foaggwBGEs9HRWwLASjme7vfp/D8IvYiIhHUOQGCzEsL62Q5AgyvKUjksBEBVAqijXWDlPx9vshLEd+m/gBl43C629b9d8V/QwWbxv89oEyPhlN6/Xy/web73sj8BTdfvzlHaPwT1hALqzd8/9M16p7IK1T/PPSti1juqP9KBpl9de86/wAg/0V+B3r9bGNJzxdrev2mAtcP0us2/BGqpTognrD98od4Lck6ZP0woHypKgcu/jdf8mBsW0L9AUtKy/CaxPzZJ6gUtHOE/i9eyt8LS4D/BLENqJfzQPx7g3AduBss/hvNM1jbv3T8xkO/p5Z3hP+XS5/pSNNg/G4BFf7vqyz9aF6Nb22zRP9wqupDuqdQ/EzoAdlgPzz9UkjcF4CbEP3CS/rwNsrw/l7drFwL/tj/+RFwacTq3P8hcR0JIHL0/GF8OXS9GwT/2cfDoh9nJP4VKAkn4xss/NHpRClKKIkBNtKvvnjcaQFFftSR8h+m/1B1cooCKGkBUGwklrZ/vv7LW/RqNYiVAd8BQrtWlMMBRoisexSABwHKbARJzp/6/Fz0TmaAo/L+5QqP2RS/6v3klKzD0lfi/okoJr+0L+L9Reynsuln3v80QW7FwP/a/6cPsin3T9L/heoUnKirzv+q22dtTXfG/lciyZ+XD7r/cCMIPcnnqv4hJX9j/uOS/DR3TxE95KEB+/Kr+NtvpP0M5GanzgPS/FRASXs0t/b9VXVB3T+L0vzPrDN26MvK/q1bi3lVj8L8q+F5dxBDuv+RAm15aG+y/\",\"dtype\":\"float64\",\"shape\":[75]},\"y\":{\"__ndarray__\":\"GhExyth1ND/Sv8nbtpRIP2vylNV0PVE/aTum7souWD/At0SJ8fVgPw3Iuahxymc/MSNhhJWvcD/bTfBN02d3P2zb5nxnaoA/CD5h5MAGhz8NmeH1TyaQP+zrCsc9p5Y/LbKd76fGnz/bLW5ISEmmPww9YvTcQq8/JV2OstnstT8Er5Y7M8G+P0c+r3jqkcU/5h99k6ZBzj88bCIzFzjVP4enV8oyxN0//yH99nXg5D8qOpLLf0jtP5kqGJXUifQ/c9cS8kHP/D+/DpwzojQEQIEmwoanVwxA4lgXt9HgE0BSSZ2AJuIbQAMJih9jjiNA5q4l5INuK0AwTKYKRj0zQNv5fmq8/DpAaCJseHrtQkB/+zpwzoxKQM3MzMzMeFJAZmZmZmZqWEAAAAAAAFxeQM3MzMzMJmJAmpmZmZkfZUBmZmZmZhhoQDMzMzMzEWtAAAAAAAAKbkBmZmZmZoFwQM3MzMzM/XFAMzMzMzN6c0CamZmZmfZ0QAAAAAAAc3ZAZmZmZmbvd0DNzMzMzGt5QDMzMzMz6HpAmpmZmZlkfEAAAAAAAOF9QGZmZmZmXX9AZmZmZuZsgECamZmZGSuBQM3MzMxM6YFAAAAAAICngkAzMzMzs2WDQGZmZmbmI4RAmpmZmRnihEDNzMzMTKCFQAAAAACAXoZAMzMzM7Mch0BmZmZm5tqHQJqZmZkZmYhAzczMzExXiUAAAAAAgBWKQDMzMzOz04pAZmZmZuaRi0CamZmZGVCMQM3MzMxMDo1AAAAAAIDMjUAzMzMzs4qOQGZmZmbmSI9A\",\"dtype\":\"float64\",\"shape\":[75]}},\"selected\":{\"id\":\"34dadff0-e254-47af-b013-3e811002c0ef\",\"type\":\"Selection\"},\"selection_policy\":{\"id\":\"052bdf00-bd10-4791-94be-c1a1e889b62b\",\"type\":\"UnionRenderers\"}},\"id\":\"382721dc-c390-4326-8612-c10da60997c6\",\"type\":\"ColumnDataSource\"},{\"attributes\":{},\"id\":\"c7b56a73-3797-4051-9182-e959fc6cb2e3\",\"type\":\"UnionRenderers\"},{\"attributes\":{},\"id\":\"34dadff0-e254-47af-b013-3e811002c0ef\",\"type\":\"Selection\"},{\"attributes\":{\"ticker\":null},\"id\":\"94966fdd-c2de-49a6-956d-f16bc000f06c\",\"type\":\"LogTickFormatter\"},{\"attributes\":{},\"id\":\"e0edca81-dc60-4e70-b56b-83405022ea72\",\"type\":\"Selection\"},{\"attributes\":{\"plot\":null,\"text\":\"\"},\"id\":\"d4f0a5cd-88fa-4866-ac17-1fab8e9ac044\",\"type\":\"Title\"},{\"attributes\":{\"ticker\":null},\"id\":\"cab5dbf4-c9dd-4ca9-ac59-db2e12e0eef4\",\"type\":\"LogTickFormatter\"},{\"attributes\":{},\"id\":\"eee905ab-ead9-4834-af33-a344e1abcc42\",\"type\":\"UnionRenderers\"},{\"attributes\":{\"source\":{\"id\":\"6232af15-dc20-488f-80e0-9ed2c452c369\",\"type\":\"ColumnDataSource\"}},\"id\":\"1d1213b9-bd8a-494b-acd1-c79bd31c05b1\",\"type\":\"CDSView\"},{\"attributes\":{},\"id\":\"6d952057-fcc5-43c0-b03d-25cae20f2a2e\",\"type\":\"UnionRenderers\"},{\"attributes\":{},\"id\":\"f1b5ece1-48ff-4a18-80d9-539f315ac1d7\",\"type\":\"Selection\"},{\"attributes\":{},\"id\":\"5877fe65-bb39-46cb-96e8-fc6d0faa4b41\",\"type\":\"PanTool\"},{\"attributes\":{},\"id\":\"d00e6cb0-6ec4-4297-862d-bb0f37e4f799\",\"type\":\"BasicTickFormatter\"},{\"attributes\":{\"line_alpha\":0.5,\"line_color\":\"#377eb8\",\"line_dash\":[6],\"line_width\":4,\"x\":{\"field\":\"x\"},\"y\":{\"field\":\"y\"}},\"id\":\"6d86b923-0504-4e6b-929c-0d3999f14d40\",\"type\":\"Line\"},{\"attributes\":{},\"id\":\"2bccdc09-7b3f-4140-91ee-db2ff5fd88be\",\"type\":\"BasicTickFormatter\"},{\"attributes\":{\"axis_label\":\"cooling rate [K/day]\",\"formatter\":{\"id\":\"0e0ae4cd-c4ce-4c8d-8eb9-88e767f8f52b\",\"type\":\"BasicTickFormatter\"},\"plot\":{\"id\":\"30336495-5abd-4cf0-bf6b-ec8e8c063141\",\"subtype\":\"Figure\",\"type\":\"Plot\"},\"ticker\":{\"id\":\"8204592f-2d8a-4db1-9f09-e121dd605ed7\",\"type\":\"BasicTicker\"}},\"id\":\"a0c06e3f-d9f5-4fb6-a302-a225e41bf3cd\",\"type\":\"LinearAxis\"},{\"attributes\":{\"dimension\":1,\"plot\":{\"id\":\"b7e2416d-eae2-40fb-a108-332ebfa5dd8f\",\"subtype\":\"Figure\",\"type\":\"Plot\"},\"ticker\":{\"id\":\"a17a8750-2d4a-4eb0-ae9c-33ac985e2813\",\"type\":\"LogTicker\"}},\"id\":\"75c09132-b9fd-44d9-8bd1-39b88fdb3800\",\"type\":\"Grid\"},{\"attributes\":{},\"id\":\"3f439c62-90d5-49cc-8e3b-af6cbcce7b4f\",\"type\":\"Selection\"},{\"attributes\":{\"label\":{\"value\":\"CLIRAD (single-run) - CRD\"},\"renderers\":[{\"id\":\"6ce72676-1f6b-4c57-b4b7-0c2827d19994\",\"type\":\"GlyphRenderer\"},{\"id\":\"94728b2d-45d2-406e-9f26-c7a21466c1cd\",\"type\":\"GlyphRenderer\"}]},\"id\":\"0924f26c-a4b2-48ed-9f39-b35cc6349ed9\",\"type\":\"LegendItem\"},{\"attributes\":{\"active_drag\":\"auto\",\"active_inspect\":\"auto\",\"active_scroll\":\"auto\",\"active_tap\":\"auto\",\"tools\":[{\"id\":\"5877fe65-bb39-46cb-96e8-fc6d0faa4b41\",\"type\":\"PanTool\"},{\"id\":\"53360f12-b58d-41e8-be35-14860f04ad2d\",\"type\":\"WheelZoomTool\"},{\"id\":\"3d019771-b225-48b6-b79f-5902301a248d\",\"type\":\"BoxZoomTool\"},{\"id\":\"29550f69-c9b0-4c6d-8528-b16aef1b42a4\",\"type\":\"SaveTool\"},{\"id\":\"4e9cc611-74da-40c4-aec0-802b0423c459\",\"type\":\"ResetTool\"},{\"id\":\"cdb9c4dd-6ba7-48be-8748-0e8e8be14967\",\"type\":\"HelpTool\"}]},\"id\":\"72e0b0d0-d1e1-45ee-98d4-41a4f153ea36\",\"type\":\"Toolbar\"},{\"attributes\":{\"above\":[{\"id\":\"5ea1a4fe-a9e0-41c4-853e-7955db26209f\",\"type\":\"Legend\"}],\"below\":[{\"id\":\"a0c06e3f-d9f5-4fb6-a302-a225e41bf3cd\",\"type\":\"LinearAxis\"}],\"left\":[{\"id\":\"fefac28d-cd7b-4334-9462-9f6938773133\",\"type\":\"LinearAxis\"}],\"plot_width\":300,\"renderers\":[{\"id\":\"a0c06e3f-d9f5-4fb6-a302-a225e41bf3cd\",\"type\":\"LinearAxis\"},{\"id\":\"1ab86157-a02e-4531-8cdb-81efcb1a9003\",\"type\":\"Grid\"},{\"id\":\"fefac28d-cd7b-4334-9462-9f6938773133\",\"type\":\"LinearAxis\"},{\"id\":\"5ef4072f-5c7d-4066-81c2-21c4eaafecf3\",\"type\":\"Grid\"},{\"id\":\"aae58c96-aa46-4b6d-8baa-1eab80d7a475\",\"type\":\"BoxAnnotation\"},{\"id\":\"a6abe8b2-8db7-4dff-9c8c-a73635102f04\",\"type\":\"GlyphRenderer\"},{\"id\":\"bc4534cb-d95b-4f2d-8edf-57b574455756\",\"type\":\"GlyphRenderer\"},{\"id\":\"a55da5c2-aeb9-42c4-bb9c-ae7a7f0e5c45\",\"type\":\"GlyphRenderer\"},{\"id\":\"991b0d34-61df-44b6-807d-daeb4fe61204\",\"type\":\"GlyphRenderer\"},{\"id\":\"fed392a2-9b4f-447d-931f-733ec526ef4b\",\"type\":\"GlyphRenderer\"},{\"id\":\"5ea1a4fe-a9e0-41c4-853e-7955db26209f\",\"type\":\"Legend\"}],\"title\":{\"id\":\"12f1ae53-8e6d-4003-a46c-d03bc208de79\",\"type\":\"Title\"},\"toolbar\":{\"id\":\"72e0b0d0-d1e1-45ee-98d4-41a4f153ea36\",\"type\":\"Toolbar\"},\"toolbar_location\":null,\"x_range\":{\"id\":\"a7064818-ffec-45a5-8d41-f7c66b2311e7\",\"type\":\"Range1d\"},\"x_scale\":{\"id\":\"bdac6e24-1a2a-4461-aec3-9fb997f30360\",\"type\":\"LinearScale\"},\"y_range\":{\"id\":\"543401c4-a59d-4dd4-9d46-0de06cad133e\",\"type\":\"Range1d\"},\"y_scale\":{\"id\":\"218d4fbb-97fc-4fb5-9bd4-6fe4eb037f9a\",\"type\":\"LinearScale\"}},\"id\":\"30336495-5abd-4cf0-bf6b-ec8e8c063141\",\"subtype\":\"Figure\",\"type\":\"Plot\"},{\"attributes\":{\"data_source\":{\"id\":\"330d5c10-7543-45dd-83b3-e6ea03cd98a1\",\"type\":\"ColumnDataSource\"},\"glyph\":{\"id\":\"6d86b923-0504-4e6b-929c-0d3999f14d40\",\"type\":\"Line\"},\"hover_glyph\":null,\"muted_glyph\":null,\"nonselection_glyph\":{\"id\":\"c424eedc-90d6-4792-8e81-cc8227b3b595\",\"type\":\"Line\"},\"selection_glyph\":null,\"view\":{\"id\":\"22242c45-a3e0-4c10-b5da-c858c7f2a4d6\",\"type\":\"CDSView\"}},\"id\":\"15d7b639-9ba5-4259-a4c7-7ab8abbd3648\",\"type\":\"GlyphRenderer\"},{\"attributes\":{},\"id\":\"c1078c7d-0e6a-4948-b75f-e2525ac4e1eb\",\"type\":\"Selection\"},{\"attributes\":{},\"id\":\"c09e6c6d-d145-417c-ac9d-cb2c8d7ca270\",\"type\":\"LinearScale\"},{\"attributes\":{\"source\":{\"id\":\"382721dc-c390-4326-8612-c10da60997c6\",\"type\":\"ColumnDataSource\"}},\"id\":\"225c0c0c-769b-4cf4-8320-06586f1ef43f\",\"type\":\"CDSView\"},{\"attributes\":{\"label\":{\"value\":\"old CLIRAD (H2012) - CRD\"},\"renderers\":[{\"id\":\"15d7b639-9ba5-4259-a4c7-7ab8abbd3648\",\"type\":\"GlyphRenderer\"}]},\"id\":\"2d2d2e6b-558f-461a-8e4b-a47032096387\",\"type\":\"LegendItem\"},{\"attributes\":{},\"id\":\"c1a041d9-5bb7-4318-b230-4ab391347810\",\"type\":\"LogScale\"},{\"attributes\":{\"fill_alpha\":{\"value\":0.1},\"fill_color\":{\"value\":\"#1f77b4\"},\"line_alpha\":{\"value\":0.1},\"line_color\":{\"value\":\"#1f77b4\"},\"x\":{\"field\":\"x\"},\"y\":{\"field\":\"y\"}},\"id\":\"3d316344-80bc-4404-a0c7-efa91d0b878f\",\"type\":\"Circle\"},{\"attributes\":{},\"id\":\"bdac6e24-1a2a-4461-aec3-9fb997f30360\",\"type\":\"LinearScale\"},{\"attributes\":{\"line_alpha\":0.1,\"line_color\":\"#1f77b4\",\"line_dash\":[6],\"line_width\":4,\"x\":{\"field\":\"x\"},\"y\":{\"field\":\"y\"}},\"id\":\"c424eedc-90d6-4792-8e81-cc8227b3b595\",\"type\":\"Line\"},{\"attributes\":{\"label\":{\"value\":\"CRD\"},\"renderers\":[{\"id\":\"bc4534cb-d95b-4f2d-8edf-57b574455756\",\"type\":\"GlyphRenderer\"},{\"id\":\"a55da5c2-aeb9-42c4-bb9c-ae7a7f0e5c45\",\"type\":\"GlyphRenderer\"}]},\"id\":\"0031973b-817c-4ba6-aa4d-3cfa2554d37f\",\"type\":\"LegendItem\"},{\"attributes\":{\"line_alpha\":0.1,\"line_color\":\"#1f77b4\",\"line_width\":1.5,\"x\":{\"field\":\"x\"},\"y\":{\"field\":\"y\"}},\"id\":\"d1e1eb61-464c-47e6-a65c-0ab5998435e6\",\"type\":\"Line\"},{\"attributes\":{\"callback\":null,\"data\":{\"x\":{\"__ndarray__\":\"EFTPEMULEsBY5Soo7NcRwOAih0PfTQnAcLzxlkslFUAgkIluU6TzP+gpDdzLdwVAICHKUKVt1T+Ik7s3hMbwP6AHr9TDy9y/ECnbDOK15j+w2qv7vfbXvzCQ/22EH9Y/ABwN6PuE1b8w8RgTZ5TNP8ZxqdeCOdI/WPaTJPMAyz/gCWaNx9zKv4Bz2SfMkLG/QNDU2Dvrw7/gjDvG8ELPv3BfAcZ9A9W/QPE2M06U4r+4EtXbvdv4v8CHA9UM1vO/wNkC+csj1L9A31CHx4DGv4BAVcDWEKk/AJyjBEwOpL8A2K0iJHelvwAHMEdHKYW/QAFQrblkpT+AYHxUdJWePwCcnL/AFYO/AIDdMF2+IL9AoMQ3Xs6Hv8CEJWa/IIk/SHjx3bH7mD9glt/hXwibv4AXhtbv81c/0ZPByHVmuD+ZIBKsyEuxPwB7VdwaDKi/AMK2wPlcpL+A1M+Jt0OhvwBblecIUqS/AOzlE2F5m79AcNDuEvKUv8BO6MRU/Ja/ALSuiFPKhL8ASGwETKOKvwCIZggV2Yi/AB5fgpVndD+A7LY9mXWhv8C4xgD0L5O/ALuUgd63fD8AAPReZ8gCPwB4gQY0fE+/gN8kEc8Okj9ggdWOaw6mPwButB7pzIA/QJoEKHMXlz9A3ZOmSfmuP0CC+mOR17o/8L5CjVu4sD8gd3D5DeiqP4BAGGl6MbI/oBQpEQTvtT+AoHD36662PwCQysucWWu/gOgg5EKCgD+gmD6me76hPwAZquxAgK4/MDP40Wo1tD/gyKr9n0C3P9Ci4ei4h7S/\",\"dtype\":\"float64\",\"shape\":[75]},\"y\":{\"__ndarray__\":\"GhExyth1ND/Sv8nbtpRIP2vylNV0PVE/aTum7souWD/At0SJ8fVgPw3Iuahxymc/MSNhhJWvcD/bTfBN02d3P2zb5nxnaoA/CD5h5MAGhz8NmeH1TyaQP+zrCsc9p5Y/LbKd76fGnz/bLW5ISEmmPww9YvTcQq8/JV2OstnstT8Er5Y7M8G+P0c+r3jqkcU/5h99k6ZBzj88bCIzFzjVP4enV8oyxN0//yH99nXg5D8qOpLLf0jtP5kqGJXUifQ/c9cS8kHP/D+/DpwzojQEQIEmwoanVwxA4lgXt9HgE0BSSZ2AJuIbQAMJih9jjiNA5q4l5INuK0AwTKYKRj0zQNv5fmq8/DpAaCJseHrtQkB/+zpwzoxKQM3MzMzMeFJAZmZmZmZqWEAAAAAAAFxeQM3MzMzMJmJAmpmZmZkfZUBmZmZmZhhoQDMzMzMzEWtAAAAAAAAKbkBmZmZmZoFwQM3MzMzM/XFAMzMzMzN6c0CamZmZmfZ0QAAAAAAAc3ZAZmZmZmbvd0DNzMzMzGt5QDMzMzMz6HpAmpmZmZlkfEAAAAAAAOF9QGZmZmZmXX9AZmZmZuZsgECamZmZGSuBQM3MzMxM6YFAAAAAAICngkAzMzMzs2WDQGZmZmbmI4RAmpmZmRnihEDNzMzMTKCFQAAAAACAXoZAMzMzM7Mch0BmZmZm5tqHQJqZmZkZmYhAzczMzExXiUAAAAAAgBWKQDMzMzOz04pAZmZmZuaRi0CamZmZGVCMQM3MzMxMDo1AAAAAAIDMjUAzMzMzs4qOQGZmZmbmSI9A\",\"dtype\":\"float64\",\"shape\":[75]}},\"selected\":{\"id\":\"e97f7c22-2861-4a6a-bd17-465bffd9ad90\",\"type\":\"Selection\"},\"selection_policy\":{\"id\":\"acb77d2c-5a3a-4780-8703-e22b83b86168\",\"type\":\"UnionRenderers\"}},\"id\":\"330d5c10-7543-45dd-83b3-e6ea03cd98a1\",\"type\":\"ColumnDataSource\"},{\"attributes\":{\"callback\":null,\"end\":13.6119554909648,\"start\":-0.23438346988480005},\"id\":\"95d9b60c-b539-4140-b5b0-9d530575df37\",\"type\":\"Range1d\"},{\"attributes\":{},\"id\":\"e6b9328c-682a-42fb-bef3-cd143841c1cc\",\"type\":\"Selection\"},{\"attributes\":{\"plot\":{\"id\":\"30336495-5abd-4cf0-bf6b-ec8e8c063141\",\"subtype\":\"Figure\",\"type\":\"Plot\"},\"ticker\":{\"id\":\"8204592f-2d8a-4db1-9f09-e121dd605ed7\",\"type\":\"BasicTicker\"}},\"id\":\"1ab86157-a02e-4531-8cdb-81efcb1a9003\",\"type\":\"Grid\"},{\"attributes\":{\"axis_label\":\"pressure [mb]\",\"formatter\":{\"id\":\"2bccdc09-7b3f-4140-91ee-db2ff5fd88be\",\"type\":\"BasicTickFormatter\"},\"plot\":{\"id\":\"30336495-5abd-4cf0-bf6b-ec8e8c063141\",\"subtype\":\"Figure\",\"type\":\"Plot\"},\"ticker\":{\"id\":\"8c6a6410-e0ed-4e08-940c-9812a8ccbf17\",\"type\":\"BasicTicker\"}},\"id\":\"fefac28d-cd7b-4334-9462-9f6938773133\",\"type\":\"LinearAxis\"},{\"attributes\":{},\"id\":\"e96d40db-36c9-4bdb-9329-9633e4a9d140\",\"type\":\"UnionRenderers\"},{\"attributes\":{\"plot\":null,\"text\":\"\"},\"id\":\"12f1ae53-8e6d-4003-a46c-d03bc208de79\",\"type\":\"Title\"},{\"attributes\":{},\"id\":\"8c6a6410-e0ed-4e08-940c-9812a8ccbf17\",\"type\":\"BasicTicker\"},{\"attributes\":{\"data_source\":{\"id\":\"382721dc-c390-4326-8612-c10da60997c6\",\"type\":\"ColumnDataSource\"},\"glyph\":{\"id\":\"523b5ee4-1327-494b-b588-6b8d36497ade\",\"type\":\"Line\"},\"hover_glyph\":null,\"muted_glyph\":null,\"nonselection_glyph\":{\"id\":\"d1e1eb61-464c-47e6-a65c-0ab5998435e6\",\"type\":\"Line\"},\"selection_glyph\":null,\"view\":{\"id\":\"225c0c0c-769b-4cf4-8320-06586f1ef43f\",\"type\":\"CDSView\"}},\"id\":\"94728b2d-45d2-406e-9f26-c7a21466c1cd\",\"type\":\"GlyphRenderer\"},{\"attributes\":{\"fill_alpha\":{\"value\":0.7},\"fill_color\":{\"value\":\"#984ea3\"},\"line_alpha\":{\"value\":0.7},\"line_color\":{\"value\":\"#984ea3\"},\"x\":{\"field\":\"x\"},\"y\":{\"field\":\"y\"}},\"id\":\"09c3b806-558d-4c6c-a2bd-936f867fac78\",\"type\":\"Circle\"},{\"attributes\":{},\"id\":\"8204592f-2d8a-4db1-9f09-e121dd605ed7\",\"type\":\"BasicTicker\"},{\"attributes\":{\"data_source\":{\"id\":\"6232af15-dc20-488f-80e0-9ed2c452c369\",\"type\":\"ColumnDataSource\"},\"glyph\":{\"id\":\"09c3b806-558d-4c6c-a2bd-936f867fac78\",\"type\":\"Circle\"},\"hover_glyph\":null,\"muted_glyph\":null,\"nonselection_glyph\":{\"id\":\"3d316344-80bc-4404-a0c7-efa91d0b878f\",\"type\":\"Circle\"},\"selection_glyph\":null,\"view\":{\"id\":\"1d1213b9-bd8a-494b-acd1-c79bd31c05b1\",\"type\":\"CDSView\"}},\"id\":\"6ce72676-1f6b-4c57-b4b7-0c2827d19994\",\"type\":\"GlyphRenderer\"},{\"attributes\":{\"source\":{\"id\":\"330d5c10-7543-45dd-83b3-e6ea03cd98a1\",\"type\":\"ColumnDataSource\"}},\"id\":\"22242c45-a3e0-4c10-b5da-c858c7f2a4d6\",\"type\":\"CDSView\"},{\"attributes\":{},\"id\":\"218d4fbb-97fc-4fb5-9bd4-6fe4eb037f9a\",\"type\":\"LinearScale\"},{\"attributes\":{},\"id\":\"e369567e-ad09-4eef-9a82-05f6ee23a4d6\",\"type\":\"LinearScale\"},{\"attributes\":{\"source\":{\"id\":\"39c24c23-3a62-464e-bd00-0b79bec49de9\",\"type\":\"ColumnDataSource\"}},\"id\":\"a0c50c49-568c-47f4-a234-7094e8f20d62\",\"type\":\"CDSView\"},{\"attributes\":{},\"id\":\"c4c5fd7d-bb0a-4440-902a-8e2e9f986590\",\"type\":\"UnionRenderers\"},{\"attributes\":{\"bottom_units\":\"screen\",\"fill_alpha\":{\"value\":0.5},\"fill_color\":{\"value\":\"lightgrey\"},\"left_units\":\"screen\",\"level\":\"overlay\",\"line_alpha\":{\"value\":1.0},\"line_color\":{\"value\":\"black\"},\"line_dash\":[4,4],\"line_width\":{\"value\":2},\"plot\":null,\"render_mode\":\"css\",\"right_units\":\"screen\",\"top_units\":\"screen\"},\"id\":\"5ce3e9bc-4e96-42b3-ace6-8158f9b794d9\",\"type\":\"BoxAnnotation\"},{\"attributes\":{},\"id\":\"eb95c704-74f3-47d5-8ab5-191500f75dfd\",\"type\":\"UnionRenderers\"},{\"attributes\":{},\"id\":\"308c2348-e412-43b4-a92f-836f4cecbebd\",\"type\":\"PanTool\"},{\"attributes\":{\"active_drag\":\"auto\",\"active_inspect\":\"auto\",\"active_scroll\":\"auto\",\"active_tap\":\"auto\",\"tools\":[{\"id\":\"57d37c78-a439-4655-81b6-bc22de888d78\",\"type\":\"PanTool\"},{\"id\":\"0ef6e7cd-ca07-452e-928c-8341eb27e085\",\"type\":\"WheelZoomTool\"},{\"id\":\"1f0b3b7b-5191-41d1-9496-1cbdf6eb2bef\",\"type\":\"BoxZoomTool\"},{\"id\":\"dca65dcc-e35e-4e98-b99d-306002bee57d\",\"type\":\"SaveTool\"},{\"id\":\"a9b7f948-5753-49cf-9150-78e503089b88\",\"type\":\"ResetTool\"},{\"id\":\"39f52c5d-bedb-4105-93fc-520b5e9532d6\",\"type\":\"HelpTool\"}]},\"id\":\"e1232a01-ae24-4706-a481-a1a0eae9b469\",\"type\":\"Toolbar\"},{\"attributes\":{\"callback\":null,\"end\":0.01,\"start\":1020},\"id\":\"543401c4-a59d-4dd4-9d46-0de06cad133e\",\"type\":\"Range1d\"},{\"attributes\":{\"line_alpha\":0.1,\"line_color\":\"#1f77b4\",\"line_width\":1.5,\"x\":{\"field\":\"x\"},\"y\":{\"field\":\"y\"}},\"id\":\"df776f08-fd94-49ce-8123-d7cb29fae5e2\",\"type\":\"Line\"},{\"attributes\":{\"data_source\":{\"id\":\"610c8b2f-be52-425c-b468-4a1c6709fed6\",\"type\":\"ColumnDataSource\"},\"glyph\":{\"id\":\"702f0385-3707-4167-95e2-675886765336\",\"type\":\"Line\"},\"hover_glyph\":null,\"muted_glyph\":null,\"nonselection_glyph\":{\"id\":\"63b0b02a-ef87-4914-8b0c-a1ea2a140339\",\"type\":\"Line\"},\"selection_glyph\":null,\"view\":{\"id\":\"db7d0cf2-1840-4833-b027-82adc7163887\",\"type\":\"CDSView\"}},\"id\":\"f1ce0644-a4ff-4bca-b32a-cac18a705e8c\",\"type\":\"GlyphRenderer\"},{\"attributes\":{\"fill_alpha\":{\"value\":0.7},\"fill_color\":{\"value\":\"#984ea3\"},\"line_alpha\":{\"value\":0.7},\"line_color\":{\"value\":\"#984ea3\"},\"x\":{\"field\":\"x\"},\"y\":{\"field\":\"y\"}},\"id\":\"0bf21180-8a2b-4437-98eb-82cf595da877\",\"type\":\"Square\"},{\"attributes\":{\"source\":{\"id\":\"5a0e7dac-eb3c-4e82-8f78-9a4afd1246f2\",\"type\":\"ColumnDataSource\"}},\"id\":\"a32cd2bd-b9b5-44f2-b1e5-b7b5786b1aab\",\"type\":\"CDSView\"},{\"attributes\":{\"label\":{\"value\":\"CRD\"},\"renderers\":[{\"id\":\"aab1dc0c-1d74-4ebb-8da2-c48bcae569f7\",\"type\":\"GlyphRenderer\"},{\"id\":\"b8aed6e2-5811-4a5c-8291-fa17482d2a4c\",\"type\":\"GlyphRenderer\"}]},\"id\":\"a30e44f4-06a9-43c9-a299-73457573c64b\",\"type\":\"LegendItem\"},{\"attributes\":{\"source\":{\"id\":\"610c8b2f-be52-425c-b468-4a1c6709fed6\",\"type\":\"ColumnDataSource\"}},\"id\":\"db7d0cf2-1840-4833-b027-82adc7163887\",\"type\":\"CDSView\"},{\"attributes\":{\"data_source\":{\"id\":\"39c24c23-3a62-464e-bd00-0b79bec49de9\",\"type\":\"ColumnDataSource\"},\"glyph\":{\"id\":\"0449205d-636f-4d37-b29b-14772fba54fd\",\"type\":\"Line\"},\"hover_glyph\":null,\"muted_glyph\":null,\"nonselection_glyph\":{\"id\":\"df776f08-fd94-49ce-8123-d7cb29fae5e2\",\"type\":\"Line\"},\"selection_glyph\":null,\"view\":{\"id\":\"a0c50c49-568c-47f4-a234-7094e8f20d62\",\"type\":\"CDSView\"}},\"id\":\"fed392a2-9b4f-447d-931f-733ec526ef4b\",\"type\":\"GlyphRenderer\"},{\"attributes\":{\"items\":[{\"id\":\"5a18c38d-dde9-4dca-8fd7-b65d77cfbe19\",\"type\":\"LegendItem\"},{\"id\":\"a30e44f4-06a9-43c9-a299-73457573c64b\",\"type\":\"LegendItem\"},{\"id\":\"1c24e710-700c-42fe-94e8-5e4d19bc1f1f\",\"type\":\"LegendItem\"}],\"label_text_font_size\":{\"value\":\"8pt\"},\"location\":\"top_center\",\"orientation\":\"horizontal\",\"plot\":{\"id\":\"b7e2416d-eae2-40fb-a108-332ebfa5dd8f\",\"subtype\":\"Figure\",\"type\":\"Plot\"}},\"id\":\"9fc0d3b5-8836-4a3c-b7cb-5882a91faf26\",\"type\":\"Legend\"},{\"attributes\":{\"callback\":null,\"data\":{\"x\":{\"__ndarray__\":\"cm1sTMT3VEDEyvjosEJHQOKI6DjzCUNArgQWV9awPkB9Lm8XG3M4QEz+Qv6iYzNA7eV8HaPLLkCX1QHyTpMoQFBmYSYetiNAUB04GtGpH0AmFyVE5j8ZQJca9QPGqBNALJP+OOHHDEBNxaf7QF8AQKtislomWuw/cW2dcO6A9T/uJJvfPu0EQIaQLTI/JQ1AxGiII+PmEkCJvfVeuCsYQD6ZBhGbHB9AXQw69DTYJEAsubcwKucqQNuT9D5OmipAJyi3szEJJUBlNebh5WkgQDDcPHBr2xlArtlANXuQFEBdJadFHckQQI2Avh0ZsQtAjYiwt1rsBUCL0SDoVBgAQK6C0nEEjvc/CggLSme58T9sXU2orFPnP0v0JYz9Gdg/vT38vxYczD9nBQTe6kHHP1IhkEXJwKo/8OZnhCVAub+xtVgCpmqzP6DUpY6g0+k/PKK3T1h4+D8RTDjQc1EAQG/dAQs7TwJAQt2eHpPLAEBWEh074x//PyCap9ZSGf4/rEzaTySm/T+7aXhHRmr9P688KeqeNP0/ruZ4EemD/D8olrZcn9T7P0+vNc9hW/s/i9VVL+4P+z+0NzC24uz6P8731Kza8vo/xFf4SHzq+z+gYyHpvHb8P68ROkiFevw/BAjYdCga/D8AUp8VbW77P3JrF/nKmvo/qCQeGfq++T/dplwHJfn4P2G4p+Uva/g/OzZ0RqMZ+D8dmn/iar73P/OuA7Ka8PY/gaaeQHGn9T9hkyjAH1L0P3aZGhdAU/M/n8VP/g7P8j+90HxHNvfyPwhNBtgrqvk/\",\"dtype\":\"float64\",\"shape\":[75]},\"y\":{\"__ndarray__\":\"GhExyth1ND/Sv8nbtpRIP2vylNV0PVE/aTum7souWD/At0SJ8fVgPw3Iuahxymc/MSNhhJWvcD/bTfBN02d3P2zb5nxnaoA/CD5h5MAGhz8NmeH1TyaQP+zrCsc9p5Y/LbKd76fGnz/bLW5ISEmmPww9YvTcQq8/JV2OstnstT8Er5Y7M8G+P0c+r3jqkcU/5h99k6ZBzj88bCIzFzjVP4enV8oyxN0//yH99nXg5D8qOpLLf0jtP5kqGJXUifQ/c9cS8kHP/D+/DpwzojQEQIEmwoanVwxA4lgXt9HgE0BSSZ2AJuIbQAMJih9jjiNA5q4l5INuK0AwTKYKRj0zQNv5fmq8/DpAaCJseHrtQkB/+zpwzoxKQM3MzMzMeFJAZmZmZmZqWEAAAAAAAFxeQM3MzMzMJmJAmpmZmZkfZUBmZmZmZhhoQDMzMzMzEWtAAAAAAAAKbkBmZmZmZoFwQM3MzMzM/XFAMzMzMzN6c0CamZmZmfZ0QAAAAAAAc3ZAZmZmZmbvd0DNzMzMzGt5QDMzMzMz6HpAmpmZmZlkfEAAAAAAAOF9QGZmZmZmXX9AZmZmZuZsgECamZmZGSuBQM3MzMxM6YFAAAAAAICngkAzMzMzs2WDQGZmZmbmI4RAmpmZmRnihEDNzMzMTKCFQAAAAACAXoZAMzMzM7Mch0BmZmZm5tqHQJqZmZkZmYhAzczMzExXiUAAAAAAgBWKQDMzMzOz04pAZmZmZuaRi0CamZmZGVCMQM3MzMxMDo1AAAAAAIDMjUAzMzMzs4qOQGZmZmbmSI9A\",\"dtype\":\"float64\",\"shape\":[75]}},\"selected\":{\"id\":\"be26d4d3-c03a-467b-b11b-ba35cba6aada\",\"type\":\"Selection\"},\"selection_policy\":{\"id\":\"c7b56a73-3797-4051-9182-e959fc6cb2e3\",\"type\":\"UnionRenderers\"}},\"id\":\"3afba4ae-4aac-452c-9920-833269b9a07f\",\"type\":\"ColumnDataSource\"},{\"attributes\":{\"label\":{\"value\":\"CLIRAD (single-run)\"},\"renderers\":[{\"id\":\"f1ce0644-a4ff-4bca-b32a-cac18a705e8c\",\"type\":\"GlyphRenderer\"}]},\"id\":\"5a18c38d-dde9-4dca-8fd7-b65d77cfbe19\",\"type\":\"LegendItem\"},{\"attributes\":{\"data_source\":{\"id\":\"5a0e7dac-eb3c-4e82-8f78-9a4afd1246f2\",\"type\":\"ColumnDataSource\"},\"glyph\":{\"id\":\"6b2d944c-a5d9-4119-8e30-a39acad958ac\",\"type\":\"Circle\"},\"hover_glyph\":null,\"muted_glyph\":null,\"nonselection_glyph\":{\"id\":\"0addeaa7-c2bd-40e0-aee0-c2cc42d360b4\",\"type\":\"Circle\"},\"selection_glyph\":null,\"view\":{\"id\":\"a32cd2bd-b9b5-44f2-b1e5-b7b5786b1aab\",\"type\":\"CDSView\"}},\"id\":\"aab1dc0c-1d74-4ebb-8da2-c48bcae569f7\",\"type\":\"GlyphRenderer\"},{\"attributes\":{\"fill_alpha\":{\"value\":0.7},\"fill_color\":{\"value\":\"#4daf4a\"},\"line_alpha\":{\"value\":0.7},\"line_color\":{\"value\":\"#4daf4a\"},\"x\":{\"field\":\"x\"},\"y\":{\"field\":\"y\"}},\"id\":\"6b2d944c-a5d9-4119-8e30-a39acad958ac\",\"type\":\"Circle\"},{\"attributes\":{\"callback\":null,\"data\":{\"x\":{\"__ndarray__\":\"cm1sTMT3VEDEyvjosEJHQOKI6DjzCUNArgQWV9awPkB9Lm8XG3M4QEz+Qv6iYzNA7eV8HaPLLkCX1QHyTpMoQFBmYSYetiNAUB04GtGpH0AmFyVE5j8ZQJca9QPGqBNALJP+OOHHDEBNxaf7QF8AQKtislomWuw/cW2dcO6A9T/uJJvfPu0EQIaQLTI/JQ1AxGiII+PmEkCJvfVeuCsYQD6ZBhGbHB9AXQw69DTYJEAsubcwKucqQNuT9D5OmipAJyi3szEJJUBlNebh5WkgQDDcPHBr2xlArtlANXuQFEBdJadFHckQQI2Avh0ZsQtAjYiwt1rsBUCL0SDoVBgAQK6C0nEEjvc/CggLSme58T9sXU2orFPnP0v0JYz9Gdg/vT38vxYczD9nBQTe6kHHP1IhkEXJwKo/8OZnhCVAub+xtVgCpmqzP6DUpY6g0+k/PKK3T1h4+D8RTDjQc1EAQG/dAQs7TwJAQt2eHpPLAEBWEh074x//PyCap9ZSGf4/rEzaTySm/T+7aXhHRmr9P688KeqeNP0/ruZ4EemD/D8olrZcn9T7P0+vNc9hW/s/i9VVL+4P+z+0NzC24uz6P8731Kza8vo/xFf4SHzq+z+gYyHpvHb8P68ROkiFevw/BAjYdCga/D8AUp8VbW77P3JrF/nKmvo/qCQeGfq++T/dplwHJfn4P2G4p+Uva/g/OzZ0RqMZ+D8dmn/iar73P/OuA7Ka8PY/gaaeQHGn9T9hkyjAH1L0P3aZGhdAU/M/n8VP/g7P8j+90HxHNvfyPwhNBtgrqvk/\",\"dtype\":\"float64\",\"shape\":[75]},\"y\":{\"__ndarray__\":\"GhExyth1ND/Sv8nbtpRIP2vylNV0PVE/aTum7souWD/At0SJ8fVgPw3Iuahxymc/MSNhhJWvcD/bTfBN02d3P2zb5nxnaoA/CD5h5MAGhz8NmeH1TyaQP+zrCsc9p5Y/LbKd76fGnz/bLW5ISEmmPww9YvTcQq8/JV2OstnstT8Er5Y7M8G+P0c+r3jqkcU/5h99k6ZBzj88bCIzFzjVP4enV8oyxN0//yH99nXg5D8qOpLLf0jtP5kqGJXUifQ/c9cS8kHP/D+/DpwzojQEQIEmwoanVwxA4lgXt9HgE0BSSZ2AJuIbQAMJih9jjiNA5q4l5INuK0AwTKYKRj0zQNv5fmq8/DpAaCJseHrtQkB/+zpwzoxKQM3MzMzMeFJAZmZmZmZqWEAAAAAAAFxeQM3MzMzMJmJAmpmZmZkfZUBmZmZmZhhoQDMzMzMzEWtAAAAAAAAKbkBmZmZmZoFwQM3MzMzM/XFAMzMzMzN6c0CamZmZmfZ0QAAAAAAAc3ZAZmZmZmbvd0DNzMzMzGt5QDMzMzMz6HpAmpmZmZlkfEAAAAAAAOF9QGZmZmZmXX9AZmZmZuZsgECamZmZGSuBQM3MzMxM6YFAAAAAAICngkAzMzMzs2WDQGZmZmbmI4RAmpmZmRnihEDNzMzMTKCFQAAAAACAXoZAMzMzM7Mch0BmZmZm5tqHQJqZmZkZmYhAzczMzExXiUAAAAAAgBWKQDMzMzOz04pAZmZmZuaRi0CamZmZGVCMQM3MzMxMDo1AAAAAAIDMjUAzMzMzs4qOQGZmZmbmSI9A\",\"dtype\":\"float64\",\"shape\":[75]}},\"selected\":{\"id\":\"a91008d5-8b64-47da-aa3c-65f4a8048bfc\",\"type\":\"Selection\"},\"selection_policy\":{\"id\":\"c5526c4d-8786-436b-a682-5ec70396b537\",\"type\":\"UnionRenderers\"}},\"id\":\"5a0e7dac-eb3c-4e82-8f78-9a4afd1246f2\",\"type\":\"ColumnDataSource\"},{\"attributes\":{},\"id\":\"15e81581-41af-41a5-9f4a-83a3decd091c\",\"type\":\"BasicTicker\"},{\"attributes\":{\"active_drag\":\"auto\",\"active_inspect\":\"auto\",\"active_scroll\":\"auto\",\"active_tap\":\"auto\",\"tools\":[{\"id\":\"308c2348-e412-43b4-a92f-836f4cecbebd\",\"type\":\"PanTool\"},{\"id\":\"9e666565-a01a-4310-b841-4f0d7c86641b\",\"type\":\"WheelZoomTool\"},{\"id\":\"b2919043-cda6-4368-ab95-331810665285\",\"type\":\"BoxZoomTool\"},{\"id\":\"b4b6000b-40b4-498e-8d13-b9a2a747253a\",\"type\":\"SaveTool\"},{\"id\":\"e20595c4-38e2-4388-b1b1-30a4ae8ee17f\",\"type\":\"ResetTool\"},{\"id\":\"c88c3d34-3948-4116-b743-a525b22c062c\",\"type\":\"HelpTool\"}]},\"id\":\"b948ede1-f334-4e1e-a968-357dff72e113\",\"type\":\"Toolbar\"},{\"attributes\":{\"callback\":null,\"end\":0.01,\"start\":1020},\"id\":\"f10ac40b-e4aa-4557-9612-27eb92f400b1\",\"type\":\"Range1d\"},{\"attributes\":{\"data_source\":{\"id\":\"d926d8f6-8252-4090-acd1-0da0b3da493f\",\"type\":\"ColumnDataSource\"},\"glyph\":{\"id\":\"0bf21180-8a2b-4437-98eb-82cf595da877\",\"type\":\"Square\"},\"hover_glyph\":null,\"muted_glyph\":null,\"nonselection_glyph\":{\"id\":\"6742601f-0720-4f4e-ba7d-99f0979ae115\",\"type\":\"Square\"},\"selection_glyph\":null,\"view\":{\"id\":\"3f95f9e8-216e-48d3-95df-835eef5a8ad7\",\"type\":\"CDSView\"}},\"id\":\"52c94267-557e-4fc8-912f-e6500fc0de47\",\"type\":\"GlyphRenderer\"},{\"attributes\":{\"line_alpha\":0.5,\"line_color\":\"#984ea3\",\"line_width\":1.5,\"x\":{\"field\":\"x\"},\"y\":{\"field\":\"y\"}},\"id\":\"606b11f3-2237-490f-81ea-cb3e72e2c173\",\"type\":\"Line\"},{\"attributes\":{\"callback\":null,\"end\":14.02928377009,\"start\":-15.151674899090004},\"id\":\"a7064818-ffec-45a5-8d41-f7c66b2311e7\",\"type\":\"Range1d\"},{\"attributes\":{},\"id\":\"2db732ed-69ab-452c-85f9-45755f3b17c6\",\"type\":\"UnionRenderers\"},{\"attributes\":{\"callback\":null,\"data\":{\"x\":{\"__ndarray__\":\"NOdvazPZRUDc8yShiBhDQKFQzRs25EFAIvT/6ro/QEAeRoCoy0E8QLZUhVbiPjdAZ7gXuVjrMUC8VTzMVOkpQF4/NuWhHiJA8BYaY0U8GkDNGg3QNeYUQAnkw/F3vxFAqRTOLJ9fDUDsrqLZeqkDQJdu+q2NIPY/7iB8GpvD+j/n0SM5LlYFQGooM1yJPQtANXh0Js3+EEAEnLgHDD4WQDnt6GrDLh5Ax7WIfFz0JEB+qL1p0fMqQDwXTBZJLCpAa0Hv1oCIJEAK2kvbM4wgQFYl+hDx/htAnjQ3jNOqFkApWEuc39gRQI9OPP5/YQ1A/SZ6kkGqCUCYtZxizn8EQGh3jDAZm/0/Dbjzub429T+MdA8rDQXwP5MPcA72YeY/6Tv+mreV3T/ey51xZbTVP45R4y85CcU/uHrhZxsJgr9XfVqOi1LFPznA7pYpd+0/IG5ZOx6h+j8wU8dODO8BQBcCko+qCwRAhjH50Ta9JkBxfDnfy/8gQHfqTMSUVfE/f1gp2wT6IEAluOdp3zTrP0r+QvggCSlAGmRyOi67LcDquYJ+q7PZvxJhXxaKYMq/3XjWmyaLsb9an57xl7OnP6OSTuUz58I/H2l4z3T0zj8+od/zB3TUP4UDfFtS7Ng/bBCtp6sa3T8/rjPchYjgPxJpezrueuI/vICJyg665D/aRPf+13jnPzkn8PJfHew/1KOhLYR8K0AtjOowA1YCQHutU0c4fcM/VabNdXAZ3r9uPvnk9gWivzrk2qBTCLI/nHdr+8hdwz8+pWrGoHbPPytZcVH9OOc/\",\"dtype\":\"float64\",\"shape\":[75]},\"y\":{\"__ndarray__\":\"GhExyth1ND/Sv8nbtpRIP2vylNV0PVE/aTum7souWD/At0SJ8fVgPw3Iuahxymc/MSNhhJWvcD/bTfBN02d3P2zb5nxnaoA/CD5h5MAGhz8NmeH1TyaQP+zrCsc9p5Y/LbKd76fGnz/bLW5ISEmmPww9YvTcQq8/JV2OstnstT8Er5Y7M8G+P0c+r3jqkcU/5h99k6ZBzj88bCIzFzjVP4enV8oyxN0//yH99nXg5D8qOpLLf0jtP5kqGJXUifQ/c9cS8kHP/D+/DpwzojQEQIEmwoanVwxA4lgXt9HgE0BSSZ2AJuIbQAMJih9jjiNA5q4l5INuK0AwTKYKRj0zQNv5fmq8/DpAaCJseHrtQkB/+zpwzoxKQM3MzMzMeFJAZmZmZmZqWEAAAAAAAFxeQM3MzMzMJmJAmpmZmZkfZUBmZmZmZhhoQDMzMzMzEWtAAAAAAAAKbkBmZmZmZoFwQM3MzMzM/XFAMzMzMzN6c0CamZmZmfZ0QAAAAAAAc3ZAZmZmZmbvd0DNzMzMzGt5QDMzMzMz6HpAmpmZmZlkfEAAAAAAAOF9QGZmZmZmXX9AZmZmZuZsgECamZmZGSuBQM3MzMxM6YFAAAAAAICngkAzMzMzs2WDQGZmZmbmI4RAmpmZmRnihEDNzMzMTKCFQAAAAACAXoZAMzMzM7Mch0BmZmZm5tqHQJqZmZkZmYhAzczMzExXiUAAAAAAgBWKQDMzMzOz04pAZmZmZuaRi0CamZmZGVCMQM3MzMxMDo1AAAAAAIDMjUAzMzMzs4qOQGZmZmbmSI9A\",\"dtype\":\"float64\",\"shape\":[75]}},\"selected\":{\"id\":\"c1078c7d-0e6a-4948-b75f-e2525ac4e1eb\",\"type\":\"Selection\"},\"selection_policy\":{\"id\":\"e96d40db-36c9-4bdb-9329-9633e4a9d140\",\"type\":\"UnionRenderers\"}},\"id\":\"df298aa1-d171-46d2-b27e-0c2e5e700fac\",\"type\":\"ColumnDataSource\"},{\"attributes\":{\"fill_alpha\":{\"value\":0.1},\"fill_color\":{\"value\":\"#1f77b4\"},\"line_alpha\":{\"value\":0.1},\"line_color\":{\"value\":\"#1f77b4\"},\"x\":{\"field\":\"x\"},\"y\":{\"field\":\"y\"}},\"id\":\"0addeaa7-c2bd-40e0-aee0-c2cc42d360b4\",\"type\":\"Circle\"},{\"attributes\":{},\"id\":\"cdb9c4dd-6ba7-48be-8748-0e8e8be14967\",\"type\":\"HelpTool\"},{\"attributes\":{\"line_alpha\":0.6,\"line_color\":\"#377eb8\",\"line_dash\":[6],\"line_width\":5,\"x\":{\"field\":\"x\"},\"y\":{\"field\":\"y\"}},\"id\":\"78141a2d-d8eb-40d6-9e46-cba9087de0e3\",\"type\":\"Line\"},{\"attributes\":{\"fill_alpha\":{\"value\":0.1},\"fill_color\":{\"value\":\"#1f77b4\"},\"line_alpha\":{\"value\":0.1},\"line_color\":{\"value\":\"#1f77b4\"},\"x\":{\"field\":\"x\"},\"y\":{\"field\":\"y\"}},\"id\":\"6742601f-0720-4f4e-ba7d-99f0979ae115\",\"type\":\"Square\"},{\"attributes\":{},\"id\":\"4e9cc611-74da-40c4-aec0-802b0423c459\",\"type\":\"ResetTool\"},{\"attributes\":{\"source\":{\"id\":\"d926d8f6-8252-4090-acd1-0da0b3da493f\",\"type\":\"ColumnDataSource\"}},\"id\":\"3f95f9e8-216e-48d3-95df-835eef5a8ad7\",\"type\":\"CDSView\"},{\"attributes\":{\"source\":{\"id\":\"00d40344-af60-4b7e-91a2-a2ef16257b5f\",\"type\":\"ColumnDataSource\"}},\"id\":\"e5446dc2-0a1b-4148-8fca-292f73a941ab\",\"type\":\"CDSView\"},{\"attributes\":{\"source\":{\"id\":\"3afba4ae-4aac-452c-9920-833269b9a07f\",\"type\":\"ColumnDataSource\"}},\"id\":\"37956894-817b-4ff3-bf16-e36a93469628\",\"type\":\"CDSView\"},{\"attributes\":{\"label\":{\"value\":\"old CLIRAD (H2012)\"},\"renderers\":[{\"id\":\"991b0d34-61df-44b6-807d-daeb4fe61204\",\"type\":\"GlyphRenderer\"},{\"id\":\"fed392a2-9b4f-447d-931f-733ec526ef4b\",\"type\":\"GlyphRenderer\"}]},\"id\":\"417c9e08-f1f4-4ac6-9609-a724033ba29c\",\"type\":\"LegendItem\"},{\"attributes\":{},\"id\":\"29550f69-c9b0-4c6d-8528-b16aef1b42a4\",\"type\":\"SaveTool\"},{\"attributes\":{\"line_alpha\":0.1,\"line_color\":\"#1f77b4\",\"line_width\":1.5,\"x\":{\"field\":\"x\"},\"y\":{\"field\":\"y\"}},\"id\":\"c9d6379f-1dd4-48cd-ac64-9458ce0c5d0b\",\"type\":\"Line\"},{\"attributes\":{\"label\":{\"value\":\"CLIRAD (single-run)\"},\"renderers\":[{\"id\":\"a6abe8b2-8db7-4dff-9c8c-a73635102f04\",\"type\":\"GlyphRenderer\"}]},\"id\":\"4c12f74d-b1bd-429a-ba78-7bd8c71fd715\",\"type\":\"LegendItem\"},{\"attributes\":{},\"id\":\"9e666565-a01a-4310-b841-4f0d7c86641b\",\"type\":\"WheelZoomTool\"},{\"attributes\":{\"line_alpha\":0.1,\"line_color\":\"#1f77b4\",\"line_dash\":[6],\"line_width\":5,\"x\":{\"field\":\"x\"},\"y\":{\"field\":\"y\"}},\"id\":\"520b1eae-da20-4978-915b-91ba3d0905cd\",\"type\":\"Line\"},{\"attributes\":{\"line_alpha\":0.1,\"line_color\":\"#1f77b4\",\"line_width\":1.5,\"x\":{\"field\":\"x\"},\"y\":{\"field\":\"y\"}},\"id\":\"4265628c-b57b-4023-8f83-c3e6f06cd7ca\",\"type\":\"Line\"},{\"attributes\":{\"label\":{\"value\":\"old CLIRAD (H2012)\"},\"renderers\":[{\"id\":\"52c94267-557e-4fc8-912f-e6500fc0de47\",\"type\":\"GlyphRenderer\"},{\"id\":\"7e0e3aea-34a6-4be1-b347-9592d115e265\",\"type\":\"GlyphRenderer\"}]},\"id\":\"1c24e710-700c-42fe-94e8-5e4d19bc1f1f\",\"type\":\"LegendItem\"},{\"attributes\":{\"data_source\":{\"id\":\"00d40344-af60-4b7e-91a2-a2ef16257b5f\",\"type\":\"ColumnDataSource\"},\"glyph\":{\"id\":\"606b11f3-2237-490f-81ea-cb3e72e2c173\",\"type\":\"Line\"},\"hover_glyph\":null,\"muted_glyph\":null,\"nonselection_glyph\":{\"id\":\"c9d6379f-1dd4-48cd-ac64-9458ce0c5d0b\",\"type\":\"Line\"},\"selection_glyph\":null,\"view\":{\"id\":\"e5446dc2-0a1b-4148-8fca-292f73a941ab\",\"type\":\"CDSView\"}},\"id\":\"7e0e3aea-34a6-4be1-b347-9592d115e265\",\"type\":\"GlyphRenderer\"},{\"attributes\":{\"data_source\":{\"id\":\"3afba4ae-4aac-452c-9920-833269b9a07f\",\"type\":\"ColumnDataSource\"},\"glyph\":{\"id\":\"05b22bd9-747c-4c69-9cf8-f35adab2a38c\",\"type\":\"Line\"},\"hover_glyph\":null,\"muted_glyph\":null,\"nonselection_glyph\":{\"id\":\"4265628c-b57b-4023-8f83-c3e6f06cd7ca\",\"type\":\"Line\"},\"selection_glyph\":null,\"view\":{\"id\":\"37956894-817b-4ff3-bf16-e36a93469628\",\"type\":\"CDSView\"}},\"id\":\"b8aed6e2-5811-4a5c-8291-fa17482d2a4c\",\"type\":\"GlyphRenderer\"},{\"attributes\":{\"source\":{\"id\":\"df298aa1-d171-46d2-b27e-0c2e5e700fac\",\"type\":\"ColumnDataSource\"}},\"id\":\"5028379a-d9a7-405b-817a-312131223c2b\",\"type\":\"CDSView\"},{\"attributes\":{\"callback\":null,\"data\":{\"x\":{\"__ndarray__\":\"MXhf+wfXU0AZbvNjswdFQLQWsEQVdUFA5TlpnhT9QUB/x1dOYK05QImjxHmcEjZA9jYDSBB3L0AISPl4H6wqQBPuuwfAzyJAOcHprUZAIUB7WWpkesAXQJoT1Uq+ChVArO/8u0EXCkBgVNlshzgCQMeNQ+Nzu/I/POwv1Qzh+D9QxMRmcj8DQOrE7tC4mAxAQsLBRIlHEkAi4cPYoDEXQEeDpjRjzB1ASZ0GEfCuI0DVFj11sssnQOMiVKSMHyhAWRHvUxNoJEDo8cjD4g8gQLGGvR2NDRpAdpI3nV5oFECtyWH9Lp4QQIZQd9bvmwtAkshlnu1BBkBMysnQf1UAQHZJU/DYZ/c/HoEhV+G48T/rSm4vc/TmP3EgV4cD49g/xmy6+4w7zz+bEsjh3uDDPw5SRMRogKs/4GPKdPc1a78lazVXN1vCP/B84ODeUug/LOyxgXDV9z+/DBHyZAwAQAOIY+fy/QFAahF3XKCUAECV0GHvGsz+P+X4k4Nhvf0/RO/IqI98/T8rkW+v/zT9P59vGMDsAv0/zEX7plCY/D/E3siS8kj7P2yUMv+hDvs/RmrXDaYs+z+c9f5GCO36P58nVCbr7vo/Qus8hbcy/D+rD5hFMCf9P4t6dxofnPw/bRp4QYZ2/D/q8NNiN2b8P5YTVw9ESPw/l1Dy0X/K+j+WKih3ZdD5P2k8OYxHjvk/hceGh5N4+T8lpPahWSn5P6vJnePt4vY/UuhmxnXI9T8miFqdE+D0Pz7qfx5CR/Q/0khvq2US9D9LfVdHQGv0P9syeEmwYfg/\",\"dtype\":\"float64\",\"shape\":[75]},\"y\":{\"__ndarray__\":\"hLndy31yND/6fmq8dJNIP8n9DkWBPlE/aDum7souWD/b4a/JGvVgP9f34SAhymc/ZvM4DOavcD+z0M5pFmh3PxuC4zJuaoA/xjcUPlsHhz8uHAjJAiaQP9ieWRKgppY/oI7HDFTGnz+a5h2n6EimPzS6g9iZQq8/IuAQqtTstT9SSZ2AJsK+P4nS3uALk8U/ih9j7lpCzj+ASL99HTjVP4enV8oyxN0/ACL99nXg5D9fmEwVjErtPyUGgZVDi/Q/AiuHFtnO/D9OYhBYOTQEQPHSTWIQWAxA4XoUrkfhE0D8qfHSTeIbQMh2vp8ajyNArkfhehRuK0Bcj8L1KDwzQFyPwvUo/DpAPgrXo3DtQkDNzMzMzIxKQClcj8L1eFJAKVyPwvVoWECamZmZmVleQGZmZmZmJmJAAAAAAAAgZUCamZmZmRloQJqZmZmZEWtAmpmZmZkJbkCamZmZmYFwQGZmZmZm/nFAZmZmZmZ6c0BmZmZmZvZ0QDQzMzMzc3ZAAAAAAADwd0AAAAAAAGx5QAAAAAAA6HpAzMzMzMxkfEDMzMzMzOB9QM3MzMzMXH9AzczMzMxsgEAzMzMzMyuBQDMzMzMz6YFAMzMzMzOngkCamZmZmWWDQAAAAAAAJIRAAAAAAADihEAAAAAAAKCFQGZmZmZmXoZAzczMzMwch0DNzMzMzNqHQM3MzMzMmIhAMzMzMzNXiUCamZmZmRWKQAAAAAAA1IpAAAAAAACSi0AAAAAAAFCMQGZmZmZmDo1AzczMzMzMjUDNzMzMzIqOQM3MzMzMSI9A\",\"dtype\":\"float64\",\"shape\":[75]}},\"selected\":{\"id\":\"e59594b6-4d75-48bb-89d2-bcdd2636e978\",\"type\":\"Selection\"},\"selection_policy\":{\"id\":\"4e890b9f-cde4-4ba9-9d27-8f85f7c4aadf\",\"type\":\"UnionRenderers\"}},\"id\":\"d926d8f6-8252-4090-acd1-0da0b3da493f\",\"type\":\"ColumnDataSource\"},{\"attributes\":{\"callback\":null,\"data\":{\"x\":{\"__ndarray__\":\"MXhf+wfXU0AZbvNjswdFQLQWsEQVdUFA5TlpnhT9QUB/x1dOYK05QImjxHmcEjZA9jYDSBB3L0AISPl4H6wqQBPuuwfAzyJAOcHprUZAIUB7WWpkesAXQJoT1Uq+ChVArO/8u0EXCkBgVNlshzgCQMeNQ+Nzu/I/POwv1Qzh+D9QxMRmcj8DQOrE7tC4mAxAQsLBRIlHEkAi4cPYoDEXQEeDpjRjzB1ASZ0GEfCuI0DVFj11sssnQOMiVKSMHyhAWRHvUxNoJEDo8cjD4g8gQLGGvR2NDRpAdpI3nV5oFECtyWH9Lp4QQIZQd9bvmwtAkshlnu1BBkBMysnQf1UAQHZJU/DYZ/c/HoEhV+G48T/rSm4vc/TmP3EgV4cD49g/xmy6+4w7zz+bEsjh3uDDPw5SRMRogKs/4GPKdPc1a78lazVXN1vCP/B84ODeUug/LOyxgXDV9z+/DBHyZAwAQAOIY+fy/QFAahF3XKCUAECV0GHvGsz+P+X4k4Nhvf0/RO/IqI98/T8rkW+v/zT9P59vGMDsAv0/zEX7plCY/D/E3siS8kj7P2yUMv+hDvs/RmrXDaYs+z+c9f5GCO36P58nVCbr7vo/Qus8hbcy/D+rD5hFMCf9P4t6dxofnPw/bRp4QYZ2/D/q8NNiN2b8P5YTVw9ESPw/l1Dy0X/K+j+WKih3ZdD5P2k8OYxHjvk/hceGh5N4+T8lpPahWSn5P6vJnePt4vY/UuhmxnXI9T8miFqdE+D0Pz7qfx5CR/Q/0khvq2US9D9LfVdHQGv0P9syeEmwYfg/\",\"dtype\":\"float64\",\"shape\":[75]},\"y\":{\"__ndarray__\":\"hLndy31yND/6fmq8dJNIP8n9DkWBPlE/aDum7souWD/b4a/JGvVgP9f34SAhymc/ZvM4DOavcD+z0M5pFmh3PxuC4zJuaoA/xjcUPlsHhz8uHAjJAiaQP9ieWRKgppY/oI7HDFTGnz+a5h2n6EimPzS6g9iZQq8/IuAQqtTstT9SSZ2AJsK+P4nS3uALk8U/ih9j7lpCzj+ASL99HTjVP4enV8oyxN0/ACL99nXg5D9fmEwVjErtPyUGgZVDi/Q/AiuHFtnO/D9OYhBYOTQEQPHSTWIQWAxA4XoUrkfhE0D8qfHSTeIbQMh2vp8ajyNArkfhehRuK0Bcj8L1KDwzQFyPwvUo/DpAPgrXo3DtQkDNzMzMzIxKQClcj8L1eFJAKVyPwvVoWECamZmZmVleQGZmZmZmJmJAAAAAAAAgZUCamZmZmRloQJqZmZmZEWtAmpmZmZkJbkCamZmZmYFwQGZmZmZm/nFAZmZmZmZ6c0BmZmZmZvZ0QDQzMzMzc3ZAAAAAAADwd0AAAAAAAGx5QAAAAAAA6HpAzMzMzMxkfEDMzMzMzOB9QM3MzMzMXH9AzczMzMxsgEAzMzMzMyuBQDMzMzMz6YFAMzMzMzOngkCamZmZmWWDQAAAAAAAJIRAAAAAAADihEAAAAAAAKCFQGZmZmZmXoZAzczMzMwch0DNzMzMzNqHQM3MzMzMmIhAMzMzMzNXiUCamZmZmRWKQAAAAAAA1IpAAAAAAACSi0AAAAAAAFCMQGZmZmZmDo1AzczMzMzMjUDNzMzMzIqOQM3MzMzMSI9A\",\"dtype\":\"float64\",\"shape\":[75]}},\"selected\":{\"id\":\"f1b5ece1-48ff-4a18-80d9-539f315ac1d7\",\"type\":\"Selection\"},\"selection_policy\":{\"id\":\"fbeafcc0-e2d0-47ba-abe3-b9989c99ca07\",\"type\":\"UnionRenderers\"}},\"id\":\"00d40344-af60-4b7e-91a2-a2ef16257b5f\",\"type\":\"ColumnDataSource\"},{\"attributes\":{\"items\":[{\"id\":\"4c12f74d-b1bd-429a-ba78-7bd8c71fd715\",\"type\":\"LegendItem\"},{\"id\":\"0031973b-817c-4ba6-aa4d-3cfa2554d37f\",\"type\":\"LegendItem\"},{\"id\":\"417c9e08-f1f4-4ac6-9609-a724033ba29c\",\"type\":\"LegendItem\"}],\"label_text_font_size\":{\"value\":\"8pt\"},\"location\":\"top_center\",\"orientation\":\"horizontal\",\"plot\":{\"id\":\"30336495-5abd-4cf0-bf6b-ec8e8c063141\",\"subtype\":\"Figure\",\"type\":\"Plot\"}},\"id\":\"5ea1a4fe-a9e0-41c4-853e-7955db26209f\",\"type\":\"Legend\"},{\"attributes\":{\"line_color\":\"#4daf4a\",\"line_width\":1.5,\"x\":{\"field\":\"x\"},\"y\":{\"field\":\"y\"}},\"id\":\"05b22bd9-747c-4c69-9cf8-f35adab2a38c\",\"type\":\"Line\"},{\"attributes\":{\"axis_label\":\"cooling rate [K/day]\",\"formatter\":{\"id\":\"333b9cf1-5e3b-46db-a8af-de27c3091d59\",\"type\":\"BasicTickFormatter\"},\"plot\":{\"id\":\"d4d9f9a6-1015-4af0-8b90-c41959754bc5\",\"subtype\":\"Figure\",\"type\":\"Plot\"},\"ticker\":{\"id\":\"15e81581-41af-41a5-9f4a-83a3decd091c\",\"type\":\"BasicTicker\"}},\"id\":\"86d0ae8e-a2d8-47e1-9b35-961bb4f18120\",\"type\":\"LinearAxis\"},{\"attributes\":{\"axis_label\":\"pressure [mb]\",\"formatter\":{\"id\":\"94966fdd-c2de-49a6-956d-f16bc000f06c\",\"type\":\"LogTickFormatter\"},\"plot\":{\"id\":\"b7e2416d-eae2-40fb-a108-332ebfa5dd8f\",\"subtype\":\"Figure\",\"type\":\"Plot\"},\"ticker\":{\"id\":\"a17a8750-2d4a-4eb0-ae9c-33ac985e2813\",\"type\":\"LogTicker\"}},\"id\":\"1f964089-c2a3-41cd-b83f-4305f7e47560\",\"type\":\"LogAxis\"},{\"attributes\":{\"line_alpha\":0.6,\"line_color\":\"#377eb8\",\"line_dash\":[6],\"line_width\":5,\"x\":{\"field\":\"x\"},\"y\":{\"field\":\"y\"}},\"id\":\"702f0385-3707-4167-95e2-675886765336\",\"type\":\"Line\"},{\"attributes\":{},\"id\":\"e20595c4-38e2-4388-b1b1-30a4ae8ee17f\",\"type\":\"ResetTool\"},{\"attributes\":{\"plot\":{\"id\":\"b7e2416d-eae2-40fb-a108-332ebfa5dd8f\",\"subtype\":\"Figure\",\"type\":\"Plot\"},\"ticker\":{\"id\":\"24719d12-0675-411e-b5f5-6e6ce9dec11b\",\"type\":\"BasicTicker\"}},\"id\":\"4ca77361-6d3e-4080-94df-8c999bf24aad\",\"type\":\"Grid\"},{\"attributes\":{\"callback\":null,\"data\":{\"x\":{\"__ndarray__\":\"MXhf+wfXU0AZbvNjswdFQLQWsEQVdUFA5TlpnhT9QUB/x1dOYK05QImjxHmcEjZA9jYDSBB3L0AISPl4H6wqQBPuuwfAzyJAOcHprUZAIUB7WWpkesAXQJoT1Uq+ChVArO/8u0EXCkBgVNlshzgCQMeNQ+Nzu/I/POwv1Qzh+D9QxMRmcj8DQOrE7tC4mAxAQsLBRIlHEkAi4cPYoDEXQEeDpjRjzB1ASZ0GEfCuI0DVFj11sssnQOMiVKSMHyhAWRHvUxNoJEDo8cjD4g8gQLGGvR2NDRpAdpI3nV5oFECtyWH9Lp4QQIZQd9bvmwtAkshlnu1BBkBMysnQf1UAQHZJU/DYZ/c/HoEhV+G48T/rSm4vc/TmP3EgV4cD49g/xmy6+4w7zz+bEsjh3uDDPw5SRMRogKs/4GPKdPc1a78lazVXN1vCP/B84ODeUug/LOyxgXDV9z+/DBHyZAwAQAOIY+fy/QFAahF3XKCUAECV0GHvGsz+P+X4k4Nhvf0/RO/IqI98/T8rkW+v/zT9P59vGMDsAv0/zEX7plCY/D/E3siS8kj7P2yUMv+hDvs/RmrXDaYs+z+c9f5GCO36P58nVCbr7vo/Qus8hbcy/D+rD5hFMCf9P4t6dxofnPw/bRp4QYZ2/D/q8NNiN2b8P5YTVw9ESPw/l1Dy0X/K+j+WKih3ZdD5P2k8OYxHjvk/hceGh5N4+T8lpPahWSn5P6vJnePt4vY/UuhmxnXI9T8miFqdE+D0Pz7qfx5CR/Q/0khvq2US9D9LfVdHQGv0P9syeEmwYfg/\",\"dtype\":\"float64\",\"shape\":[75]},\"y\":{\"__ndarray__\":\"hLndy31yND/6fmq8dJNIP8n9DkWBPlE/aDum7souWD/b4a/JGvVgP9f34SAhymc/ZvM4DOavcD+z0M5pFmh3PxuC4zJuaoA/xjcUPlsHhz8uHAjJAiaQP9ieWRKgppY/oI7HDFTGnz+a5h2n6EimPzS6g9iZQq8/IuAQqtTstT9SSZ2AJsK+P4nS3uALk8U/ih9j7lpCzj+ASL99HTjVP4enV8oyxN0/ACL99nXg5D9fmEwVjErtPyUGgZVDi/Q/AiuHFtnO/D9OYhBYOTQEQPHSTWIQWAxA4XoUrkfhE0D8qfHSTeIbQMh2vp8ajyNArkfhehRuK0Bcj8L1KDwzQFyPwvUo/DpAPgrXo3DtQkDNzMzMzIxKQClcj8L1eFJAKVyPwvVoWECamZmZmVleQGZmZmZmJmJAAAAAAAAgZUCamZmZmRloQJqZmZmZEWtAmpmZmZkJbkCamZmZmYFwQGZmZmZm/nFAZmZmZmZ6c0BmZmZmZvZ0QDQzMzMzc3ZAAAAAAADwd0AAAAAAAGx5QAAAAAAA6HpAzMzMzMxkfEDMzMzMzOB9QM3MzMzMXH9AzczMzMxsgEAzMzMzMyuBQDMzMzMz6YFAMzMzMzOngkCamZmZmWWDQAAAAAAAJIRAAAAAAADihEAAAAAAAKCFQGZmZmZmXoZAzczMzMwch0DNzMzMzNqHQM3MzMzMmIhAMzMzMzNXiUCamZmZmRWKQAAAAAAA1IpAAAAAAACSi0AAAAAAAFCMQGZmZmZmDo1AzczMzMzMjUDNzMzMzIqOQM3MzMzMSI9A\",\"dtype\":\"float64\",\"shape\":[75]}},\"selected\":{\"id\":\"85e9a316-c095-4bd7-afdb-2aa9df483954\",\"type\":\"Selection\"},\"selection_policy\":{\"id\":\"2db732ed-69ab-452c-85f9-45755f3b17c6\",\"type\":\"UnionRenderers\"}},\"id\":\"4573fa9f-4a98-47ad-bd32-7e448b90fd58\",\"type\":\"ColumnDataSource\"},{\"attributes\":{\"callback\":null,\"data\":{\"x\":{\"__ndarray__\":\"NOdvazPZRUDc8yShiBhDQKFQzRs25EFAIvT/6ro/QEAeRoCoy0E8QLZUhVbiPjdAZ7gXuVjrMUC8VTzMVOkpQF4/NuWhHiJA8BYaY0U8GkDNGg3QNeYUQAnkw/F3vxFAqRTOLJ9fDUDsrqLZeqkDQJdu+q2NIPY/7iB8GpvD+j/n0SM5LlYFQGooM1yJPQtANXh0Js3+EEAEnLgHDD4WQDnt6GrDLh5Ax7WIfFz0JEB+qL1p0fMqQDwXTBZJLCpAa0Hv1oCIJEAK2kvbM4wgQFYl+hDx/htAnjQ3jNOqFkApWEuc39gRQI9OPP5/YQ1A/SZ6kkGqCUCYtZxizn8EQGh3jDAZm/0/Dbjzub429T+MdA8rDQXwP5MPcA72YeY/6Tv+mreV3T/ey51xZbTVP45R4y85CcU/uHrhZxsJgr9XfVqOi1LFPznA7pYpd+0/IG5ZOx6h+j8wU8dODO8BQBcCko+qCwRAhjH50Ta9JkBxfDnfy/8gQHfqTMSUVfE/f1gp2wT6IEAluOdp3zTrP0r+QvggCSlAGmRyOi67LcDquYJ+q7PZvxJhXxaKYMq/3XjWmyaLsb9an57xl7OnP6OSTuUz58I/H2l4z3T0zj8+od/zB3TUP4UDfFtS7Ng/bBCtp6sa3T8/rjPchYjgPxJpezrueuI/vICJyg665D/aRPf+13jnPzkn8PJfHew/1KOhLYR8K0AtjOowA1YCQHutU0c4fcM/VabNdXAZ3r9uPvnk9gWivzrk2qBTCLI/nHdr+8hdwz8+pWrGoHbPPytZcVH9OOc/\",\"dtype\":\"float64\",\"shape\":[75]},\"y\":{\"__ndarray__\":\"GhExyth1ND/Sv8nbtpRIP2vylNV0PVE/aTum7souWD/At0SJ8fVgPw3Iuahxymc/MSNhhJWvcD/bTfBN02d3P2zb5nxnaoA/CD5h5MAGhz8NmeH1TyaQP+zrCsc9p5Y/LbKd76fGnz/bLW5ISEmmPww9YvTcQq8/JV2OstnstT8Er5Y7M8G+P0c+r3jqkcU/5h99k6ZBzj88bCIzFzjVP4enV8oyxN0//yH99nXg5D8qOpLLf0jtP5kqGJXUifQ/c9cS8kHP/D+/DpwzojQEQIEmwoanVwxA4lgXt9HgE0BSSZ2AJuIbQAMJih9jjiNA5q4l5INuK0AwTKYKRj0zQNv5fmq8/DpAaCJseHrtQkB/+zpwzoxKQM3MzMzMeFJAZmZmZmZqWEAAAAAAAFxeQM3MzMzMJmJAmpmZmZkfZUBmZmZmZhhoQDMzMzMzEWtAAAAAAAAKbkBmZmZmZoFwQM3MzMzM/XFAMzMzMzN6c0CamZmZmfZ0QAAAAAAAc3ZAZmZmZmbvd0DNzMzMzGt5QDMzMzMz6HpAmpmZmZlkfEAAAAAAAOF9QGZmZmZmXX9AZmZmZuZsgECamZmZGSuBQM3MzMxM6YFAAAAAAICngkAzMzMzs2WDQGZmZmbmI4RAmpmZmRnihEDNzMzMTKCFQAAAAACAXoZAMzMzM7Mch0BmZmZm5tqHQJqZmZkZmYhAzczMzExXiUAAAAAAgBWKQDMzMzOz04pAZmZmZuaRi0CamZmZGVCMQM3MzMxMDo1AAAAAAIDMjUAzMzMzs4qOQGZmZmbmSI9A\",\"dtype\":\"float64\",\"shape\":[75]}},\"selected\":{\"id\":\"3c90086e-4499-40d2-8db0-6a2db5c7d4f3\",\"type\":\"Selection\"},\"selection_policy\":{\"id\":\"eee905ab-ead9-4834-af33-a344e1abcc42\",\"type\":\"UnionRenderers\"}},\"id\":\"610c8b2f-be52-425c-b468-4a1c6709fed6\",\"type\":\"ColumnDataSource\"},{\"attributes\":{\"num_minor_ticks\":10},\"id\":\"4d2b0cdd-2d86-462f-b0e0-b3e546b3c68e\",\"type\":\"LogTicker\"},{\"attributes\":{\"num_minor_ticks\":10},\"id\":\"a17a8750-2d4a-4eb0-ae9c-33ac985e2813\",\"type\":\"LogTicker\"},{\"attributes\":{\"fill_alpha\":{\"value\":0.7},\"fill_color\":{\"value\":\"#4daf4a\"},\"line_alpha\":{\"value\":0.7},\"line_color\":{\"value\":\"#4daf4a\"},\"x\":{\"field\":\"x\"},\"y\":{\"field\":\"y\"}},\"id\":\"9f9b3f4f-aeee-4a6d-9b18-c29a4555d113\",\"type\":\"Circle\"},{\"attributes\":{\"data_source\":{\"id\":\"a008d8b6-c5d4-47ab-aa99-2cf447ee9f16\",\"type\":\"ColumnDataSource\"},\"glyph\":{\"id\":\"155c78f5-8398-4b2f-ae2d-12424aed318a\",\"type\":\"Line\"},\"hover_glyph\":null,\"muted_glyph\":null,\"nonselection_glyph\":{\"id\":\"40858137-296f-420a-b830-1ff33cf3ac9a\",\"type\":\"Line\"},\"selection_glyph\":null,\"view\":{\"id\":\"ad1dc584-4e1d-4f7c-981d-a0f20c77f642\",\"type\":\"CDSView\"}},\"id\":\"a55da5c2-aeb9-42c4-bb9c-ae7a7f0e5c45\",\"type\":\"GlyphRenderer\"},{\"attributes\":{\"callback\":null,\"end\":0.01,\"start\":1020},\"id\":\"59605ee0-94b7-444c-bff3-b61802539bbe\",\"type\":\"Range1d\"},{\"attributes\":{\"fill_alpha\":{\"value\":0.1},\"fill_color\":{\"value\":\"#1f77b4\"},\"line_alpha\":{\"value\":0.1},\"line_color\":{\"value\":\"#1f77b4\"},\"x\":{\"field\":\"x\"},\"y\":{\"field\":\"y\"}},\"id\":\"f07c1d63-d06a-402f-918b-406949a4412e\",\"type\":\"Circle\"},{\"attributes\":{\"fill_alpha\":{\"value\":0.7},\"fill_color\":{\"value\":\"#984ea3\"},\"line_alpha\":{\"value\":0.7},\"line_color\":{\"value\":\"#984ea3\"},\"x\":{\"field\":\"x\"},\"y\":{\"field\":\"y\"}},\"id\":\"66a8eaf8-e534-40c9-a383-61f722bf5043\",\"type\":\"Square\"},{\"attributes\":{},\"id\":\"c88c3d34-3948-4116-b743-a525b22c062c\",\"type\":\"HelpTool\"},{\"attributes\":{\"line_color\":\"#4daf4a\",\"line_width\":1.5,\"x\":{\"field\":\"x\"},\"y\":{\"field\":\"y\"}},\"id\":\"155c78f5-8398-4b2f-ae2d-12424aed318a\",\"type\":\"Line\"},{\"attributes\":{},\"id\":\"acb77d2c-5a3a-4780-8703-e22b83b86168\",\"type\":\"UnionRenderers\"},{\"attributes\":{\"callback\":null,\"data\":{\"x\":{\"__ndarray__\":\"sPNoLVUWRMCcW08foaggwBGEs9HRWwLASjme7vfp/D8IvYiIhHUOQGCzEsL62Q5AgyvKUjksBEBVAqijXWDlPx9vshLEd+m/gBl43C629b9d8V/QwWbxv89oEyPhlN6/Xy/web73sj8BTdfvzlHaPwT1hALqzd8/9M16p7IK1T/PPSti1juqP9KBpl9de86/wAg/0V+B3r9bGNJzxdrev2mAtcP0us2/BGqpTognrD98od4Lck6ZP0woHypKgcu/jdf8mBsW0L9AUtKy/CaxPzZJ6gUtHOE/i9eyt8LS4D/BLENqJfzQPx7g3AduBss/hvNM1jbv3T8xkO/p5Z3hP+XS5/pSNNg/G4BFf7vqyz9aF6Nb22zRP9wqupDuqdQ/EzoAdlgPzz9UkjcF4CbEP3CS/rwNsrw/l7drFwL/tj/+RFwacTq3P8hcR0JIHL0/GF8OXS9GwT/2cfDoh9nJP4VKAkn4xss/NHpRClKKIkBNtKvvnjcaQFFftSR8h+m/1B1cooCKGkBUGwklrZ/vv7LW/RqNYiVAd8BQrtWlMMBRoisexSABwHKbARJzp/6/Fz0TmaAo/L+5QqP2RS/6v3klKzD0lfi/okoJr+0L+L9Reynsuln3v80QW7FwP/a/6cPsin3T9L/heoUnKirzv+q22dtTXfG/lciyZ+XD7r/cCMIPcnnqv4hJX9j/uOS/DR3TxE95KEB+/Kr+NtvpP0M5GanzgPS/FRASXs0t/b9VXVB3T+L0vzPrDN26MvK/q1bi3lVj8L8q+F5dxBDuv+RAm15aG+y/\",\"dtype\":\"float64\",\"shape\":[75]},\"y\":{\"__ndarray__\":\"GhExyth1ND/Sv8nbtpRIP2vylNV0PVE/aTum7souWD/At0SJ8fVgPw3Iuahxymc/MSNhhJWvcD/bTfBN02d3P2zb5nxnaoA/CD5h5MAGhz8NmeH1TyaQP+zrCsc9p5Y/LbKd76fGnz/bLW5ISEmmPww9YvTcQq8/JV2OstnstT8Er5Y7M8G+P0c+r3jqkcU/5h99k6ZBzj88bCIzFzjVP4enV8oyxN0//yH99nXg5D8qOpLLf0jtP5kqGJXUifQ/c9cS8kHP/D+/DpwzojQEQIEmwoanVwxA4lgXt9HgE0BSSZ2AJuIbQAMJih9jjiNA5q4l5INuK0AwTKYKRj0zQNv5fmq8/DpAaCJseHrtQkB/+zpwzoxKQM3MzMzMeFJAZmZmZmZqWEAAAAAAAFxeQM3MzMzMJmJAmpmZmZkfZUBmZmZmZhhoQDMzMzMzEWtAAAAAAAAKbkBmZmZmZoFwQM3MzMzM/XFAMzMzMzN6c0CamZmZmfZ0QAAAAAAAc3ZAZmZmZmbvd0DNzMzMzGt5QDMzMzMz6HpAmpmZmZlkfEAAAAAAAOF9QGZmZmZmXX9AZmZmZuZsgECamZmZGSuBQM3MzMxM6YFAAAAAAICngkAzMzMzs2WDQGZmZmbmI4RAmpmZmRnihEDNzMzMTKCFQAAAAACAXoZAMzMzM7Mch0BmZmZm5tqHQJqZmZkZmYhAzczMzExXiUAAAAAAgBWKQDMzMzOz04pAZmZmZuaRi0CamZmZGVCMQM3MzMxMDo1AAAAAAIDMjUAzMzMzs4qOQGZmZmbmSI9A\",\"dtype\":\"float64\",\"shape\":[75]}},\"selected\":{\"id\":\"e0edca81-dc60-4e70-b56b-83405022ea72\",\"type\":\"Selection\"},\"selection_policy\":{\"id\":\"6d952057-fcc5-43c0-b03d-25cae20f2a2e\",\"type\":\"UnionRenderers\"}},\"id\":\"6232af15-dc20-488f-80e0-9ed2c452c369\",\"type\":\"ColumnDataSource\"},{\"attributes\":{},\"id\":\"052bdf00-bd10-4791-94be-c1a1e889b62b\",\"type\":\"UnionRenderers\"},{\"attributes\":{},\"id\":\"0ef6e7cd-ca07-452e-928c-8341eb27e085\",\"type\":\"WheelZoomTool\"},{\"attributes\":{},\"id\":\"24719d12-0675-411e-b5f5-6e6ce9dec11b\",\"type\":\"BasicTicker\"},{\"attributes\":{\"plot\":{\"id\":\"d4d9f9a6-1015-4af0-8b90-c41959754bc5\",\"subtype\":\"Figure\",\"type\":\"Plot\"},\"ticker\":{\"id\":\"15e81581-41af-41a5-9f4a-83a3decd091c\",\"type\":\"BasicTicker\"}},\"id\":\"db99e2ce-ca7b-434c-bed8-e654f2a3893d\",\"type\":\"Grid\"},{\"attributes\":{},\"id\":\"a9b7f948-5753-49cf-9150-78e503089b88\",\"type\":\"ResetTool\"},{\"attributes\":{\"data_source\":{\"id\":\"bad231cc-bc76-4521-8420-d9a63cb12812\",\"type\":\"ColumnDataSource\"},\"glyph\":{\"id\":\"9f9b3f4f-aeee-4a6d-9b18-c29a4555d113\",\"type\":\"Circle\"},\"hover_glyph\":null,\"muted_glyph\":null,\"nonselection_glyph\":{\"id\":\"f07c1d63-d06a-402f-918b-406949a4412e\",\"type\":\"Circle\"},\"selection_glyph\":null,\"view\":{\"id\":\"565b5652-f74c-4a72-8adf-40e34309882d\",\"type\":\"CDSView\"}},\"id\":\"bc4534cb-d95b-4f2d-8edf-57b574455756\",\"type\":\"GlyphRenderer\"},{\"attributes\":{},\"id\":\"0e0ae4cd-c4ce-4c8d-8eb9-88e767f8f52b\",\"type\":\"BasicTickFormatter\"},{\"attributes\":{\"source\":{\"id\":\"bad231cc-bc76-4521-8420-d9a63cb12812\",\"type\":\"ColumnDataSource\"}},\"id\":\"565b5652-f74c-4a72-8adf-40e34309882d\",\"type\":\"CDSView\"},{\"attributes\":{\"fill_alpha\":{\"value\":0.1},\"fill_color\":{\"value\":\"#1f77b4\"},\"line_alpha\":{\"value\":0.1},\"line_color\":{\"value\":\"#1f77b4\"},\"x\":{\"field\":\"x\"},\"y\":{\"field\":\"y\"}},\"id\":\"8a9336ea-c241-4a60-bfa6-84a57ac09441\",\"type\":\"Square\"},{\"attributes\":{},\"id\":\"dca65dcc-e35e-4e98-b99d-306002bee57d\",\"type\":\"SaveTool\"},{\"attributes\":{\"line_alpha\":0.1,\"line_color\":\"#1f77b4\",\"line_width\":1.5,\"x\":{\"field\":\"x\"},\"y\":{\"field\":\"y\"}},\"id\":\"40858137-296f-420a-b830-1ff33cf3ac9a\",\"type\":\"Line\"},{\"attributes\":{\"callback\":null,\"data\":{\"x\":{\"__ndarray__\":\"cm1sTMT3VEDEyvjosEJHQOKI6DjzCUNArgQWV9awPkB9Lm8XG3M4QEz+Qv6iYzNA7eV8HaPLLkCX1QHyTpMoQFBmYSYetiNAUB04GtGpH0AmFyVE5j8ZQJca9QPGqBNALJP+OOHHDEBNxaf7QF8AQKtislomWuw/cW2dcO6A9T/uJJvfPu0EQIaQLTI/JQ1AxGiII+PmEkCJvfVeuCsYQD6ZBhGbHB9AXQw69DTYJEAsubcwKucqQNuT9D5OmipAJyi3szEJJUBlNebh5WkgQDDcPHBr2xlArtlANXuQFEBdJadFHckQQI2Avh0ZsQtAjYiwt1rsBUCL0SDoVBgAQK6C0nEEjvc/CggLSme58T9sXU2orFPnP0v0JYz9Gdg/vT38vxYczD9nBQTe6kHHP1IhkEXJwKo/8OZnhCVAub+xtVgCpmqzP6DUpY6g0+k/PKK3T1h4+D8RTDjQc1EAQG/dAQs7TwJAQt2eHpPLAEBWEh074x//PyCap9ZSGf4/rEzaTySm/T+7aXhHRmr9P688KeqeNP0/ruZ4EemD/D8olrZcn9T7P0+vNc9hW/s/i9VVL+4P+z+0NzC24uz6P8731Kza8vo/xFf4SHzq+z+gYyHpvHb8P68ROkiFevw/BAjYdCga/D8AUp8VbW77P3JrF/nKmvo/qCQeGfq++T/dplwHJfn4P2G4p+Uva/g/OzZ0RqMZ+D8dmn/iar73P/OuA7Ka8PY/gaaeQHGn9T9hkyjAH1L0P3aZGhdAU/M/n8VP/g7P8j+90HxHNvfyPwhNBtgrqvk/\",\"dtype\":\"float64\",\"shape\":[75]},\"y\":{\"__ndarray__\":\"GhExyth1ND/Sv8nbtpRIP2vylNV0PVE/aTum7souWD/At0SJ8fVgPw3Iuahxymc/MSNhhJWvcD/bTfBN02d3P2zb5nxnaoA/CD5h5MAGhz8NmeH1TyaQP+zrCsc9p5Y/LbKd76fGnz/bLW5ISEmmPww9YvTcQq8/JV2OstnstT8Er5Y7M8G+P0c+r3jqkcU/5h99k6ZBzj88bCIzFzjVP4enV8oyxN0//yH99nXg5D8qOpLLf0jtP5kqGJXUifQ/c9cS8kHP/D+/DpwzojQEQIEmwoanVwxA4lgXt9HgE0BSSZ2AJuIbQAMJih9jjiNA5q4l5INuK0AwTKYKRj0zQNv5fmq8/DpAaCJseHrtQkB/+zpwzoxKQM3MzMzMeFJAZmZmZmZqWEAAAAAAAFxeQM3MzMzMJmJAmpmZmZkfZUBmZmZmZhhoQDMzMzMzEWtAAAAAAAAKbkBmZmZmZoFwQM3MzMzM/XFAMzMzMzN6c0CamZmZmfZ0QAAAAAAAc3ZAZmZmZmbvd0DNzMzMzGt5QDMzMzMz6HpAmpmZmZlkfEAAAAAAAOF9QGZmZmZmXX9AZmZmZuZsgECamZmZGSuBQM3MzMxM6YFAAAAAAICngkAzMzMzs2WDQGZmZmbmI4RAmpmZmRnihEDNzMzMTKCFQAAAAACAXoZAMzMzM7Mch0BmZmZm5tqHQJqZmZkZmYhAzczMzExXiUAAAAAAgBWKQDMzMzOz04pAZmZmZuaRi0CamZmZGVCMQM3MzMxMDo1AAAAAAIDMjUAzMzMzs4qOQGZmZmbmSI9A\",\"dtype\":\"float64\",\"shape\":[75]}},\"selected\":{\"id\":\"e6b9328c-682a-42fb-bef3-cd143841c1cc\",\"type\":\"Selection\"},\"selection_policy\":{\"id\":\"eb95c704-74f3-47d5-8ab5-191500f75dfd\",\"type\":\"UnionRenderers\"}},\"id\":\"a008d8b6-c5d4-47ab-aa99-2cf447ee9f16\",\"type\":\"ColumnDataSource\"},{\"attributes\":{\"overlay\":{\"id\":\"1431201f-e466-4107-bc19-a83da8add8be\",\"type\":\"BoxAnnotation\"}},\"id\":\"1f0b3b7b-5191-41d1-9496-1cbdf6eb2bef\",\"type\":\"BoxZoomTool\"},{\"attributes\":{\"axis_label\":\"pressure [mb]\",\"formatter\":{\"id\":\"cab5dbf4-c9dd-4ca9-ac59-db2e12e0eef4\",\"type\":\"LogTickFormatter\"},\"plot\":{\"id\":\"d4d9f9a6-1015-4af0-8b90-c41959754bc5\",\"subtype\":\"Figure\",\"type\":\"Plot\"},\"ticker\":{\"id\":\"4d2b0cdd-2d86-462f-b0e0-b3e546b3c68e\",\"type\":\"LogTicker\"}},\"id\":\"5f876ad9-3fb9-4689-ab78-0ab697d19c0f\",\"type\":\"LogAxis\"},{\"attributes\":{\"overlay\":{\"id\":\"5ce3e9bc-4e96-42b3-ace6-8158f9b794d9\",\"type\":\"BoxAnnotation\"}},\"id\":\"b2919043-cda6-4368-ab95-331810665285\",\"type\":\"BoxZoomTool\"},{\"attributes\":{\"data_source\":{\"id\":\"4573fa9f-4a98-47ad-bd32-7e448b90fd58\",\"type\":\"ColumnDataSource\"},\"glyph\":{\"id\":\"66a8eaf8-e534-40c9-a383-61f722bf5043\",\"type\":\"Square\"},\"hover_glyph\":null,\"muted_glyph\":null,\"nonselection_glyph\":{\"id\":\"8a9336ea-c241-4a60-bfa6-84a57ac09441\",\"type\":\"Square\"},\"selection_glyph\":null,\"view\":{\"id\":\"02697e1e-b064-44a2-b4bf-6c43c29962ae\",\"type\":\"CDSView\"}},\"id\":\"991b0d34-61df-44b6-807d-daeb4fe61204\",\"type\":\"GlyphRenderer\"},{\"attributes\":{\"source\":{\"id\":\"4573fa9f-4a98-47ad-bd32-7e448b90fd58\",\"type\":\"ColumnDataSource\"}},\"id\":\"02697e1e-b064-44a2-b4bf-6c43c29962ae\",\"type\":\"CDSView\"},{\"attributes\":{\"source\":{\"id\":\"a008d8b6-c5d4-47ab-aa99-2cf447ee9f16\",\"type\":\"ColumnDataSource\"}},\"id\":\"ad1dc584-4e1d-4f7c-981d-a0f20c77f642\",\"type\":\"CDSView\"},{\"attributes\":{},\"id\":\"85e9a316-c095-4bd7-afdb-2aa9df483954\",\"type\":\"Selection\"},{\"attributes\":{},\"id\":\"e97f7c22-2861-4a6a-bd17-465bffd9ad90\",\"type\":\"Selection\"},{\"attributes\":{\"bottom_units\":\"screen\",\"fill_alpha\":{\"value\":0.5},\"fill_color\":{\"value\":\"lightgrey\"},\"left_units\":\"screen\",\"level\":\"overlay\",\"line_alpha\":{\"value\":1.0},\"line_color\":{\"value\":\"black\"},\"line_dash\":[4,4],\"line_width\":{\"value\":2},\"plot\":null,\"render_mode\":\"css\",\"right_units\":\"screen\",\"top_units\":\"screen\"},\"id\":\"aae58c96-aa46-4b6d-8baa-1eab80d7a475\",\"type\":\"BoxAnnotation\"},{\"attributes\":{\"line_alpha\":0.5,\"line_color\":\"#984ea3\",\"line_width\":1.5,\"x\":{\"field\":\"x\"},\"y\":{\"field\":\"y\"}},\"id\":\"0449205d-636f-4d37-b29b-14772fba54fd\",\"type\":\"Line\"},{\"attributes\":{\"callback\":null,\"data\":{\"x\":{\"__ndarray__\":\"MXhf+wfXU0AZbvNjswdFQLQWsEQVdUFA5TlpnhT9QUB/x1dOYK05QImjxHmcEjZA9jYDSBB3L0AISPl4H6wqQBPuuwfAzyJAOcHprUZAIUB7WWpkesAXQJoT1Uq+ChVArO/8u0EXCkBgVNlshzgCQMeNQ+Nzu/I/POwv1Qzh+D9QxMRmcj8DQOrE7tC4mAxAQsLBRIlHEkAi4cPYoDEXQEeDpjRjzB1ASZ0GEfCuI0DVFj11sssnQOMiVKSMHyhAWRHvUxNoJEDo8cjD4g8gQLGGvR2NDRpAdpI3nV5oFECtyWH9Lp4QQIZQd9bvmwtAkshlnu1BBkBMysnQf1UAQHZJU/DYZ/c/HoEhV+G48T/rSm4vc/TmP3EgV4cD49g/xmy6+4w7zz+bEsjh3uDDPw5SRMRogKs/4GPKdPc1a78lazVXN1vCP/B84ODeUug/LOyxgXDV9z+/DBHyZAwAQAOIY+fy/QFAahF3XKCUAECV0GHvGsz+P+X4k4Nhvf0/RO/IqI98/T8rkW+v/zT9P59vGMDsAv0/zEX7plCY/D/E3siS8kj7P2yUMv+hDvs/RmrXDaYs+z+c9f5GCO36P58nVCbr7vo/Qus8hbcy/D+rD5hFMCf9P4t6dxofnPw/bRp4QYZ2/D/q8NNiN2b8P5YTVw9ESPw/l1Dy0X/K+j+WKih3ZdD5P2k8OYxHjvk/hceGh5N4+T8lpPahWSn5P6vJnePt4vY/UuhmxnXI9T8miFqdE+D0Pz7qfx5CR/Q/0khvq2US9D9LfVdHQGv0P9syeEmwYfg/\",\"dtype\":\"float64\",\"shape\":[75]},\"y\":{\"__ndarray__\":\"hLndy31yND/6fmq8dJNIP8n9DkWBPlE/aDum7souWD/b4a/JGvVgP9f34SAhymc/ZvM4DOavcD+z0M5pFmh3PxuC4zJuaoA/xjcUPlsHhz8uHAjJAiaQP9ieWRKgppY/oI7HDFTGnz+a5h2n6EimPzS6g9iZQq8/IuAQqtTstT9SSZ2AJsK+P4nS3uALk8U/ih9j7lpCzj+ASL99HTjVP4enV8oyxN0/ACL99nXg5D9fmEwVjErtPyUGgZVDi/Q/AiuHFtnO/D9OYhBYOTQEQPHSTWIQWAxA4XoUrkfhE0D8qfHSTeIbQMh2vp8ajyNArkfhehRuK0Bcj8L1KDwzQFyPwvUo/DpAPgrXo3DtQkDNzMzMzIxKQClcj8L1eFJAKVyPwvVoWECamZmZmVleQGZmZmZmJmJAAAAAAAAgZUCamZmZmRloQJqZmZmZEWtAmpmZmZkJbkCamZmZmYFwQGZmZmZm/nFAZmZmZmZ6c0BmZmZmZvZ0QDQzMzMzc3ZAAAAAAADwd0AAAAAAAGx5QAAAAAAA6HpAzMzMzMxkfEDMzMzMzOB9QM3MzMzMXH9AzczMzMxsgEAzMzMzMyuBQDMzMzMz6YFAMzMzMzOngkCamZmZmWWDQAAAAAAAJIRAAAAAAADihEAAAAAAAKCFQGZmZmZmXoZAzczMzMwch0DNzMzMzNqHQM3MzMzMmIhAMzMzMzNXiUCamZmZmRWKQAAAAAAA1IpAAAAAAACSi0AAAAAAAFCMQGZmZmZmDo1AzczMzMzMjUDNzMzMzIqOQM3MzMzMSI9A\",\"dtype\":\"float64\",\"shape\":[75]}},\"selected\":{\"id\":\"fc10890c-a3cf-4284-9072-13bb2551a7ca\",\"type\":\"Selection\"},\"selection_policy\":{\"id\":\"174451d2-bdff-487c-ac0e-161f98a7aa6a\",\"type\":\"UnionRenderers\"}},\"id\":\"39c24c23-3a62-464e-bd00-0b79bec49de9\",\"type\":\"ColumnDataSource\"},{\"attributes\":{\"children\":[{\"id\":\"30336495-5abd-4cf0-bf6b-ec8e8c063141\",\"subtype\":\"Figure\",\"type\":\"Plot\"},{\"id\":\"b7e2416d-eae2-40fb-a108-332ebfa5dd8f\",\"subtype\":\"Figure\",\"type\":\"Plot\"},{\"id\":\"d4d9f9a6-1015-4af0-8b90-c41959754bc5\",\"subtype\":\"Figure\",\"type\":\"Plot\"}]},\"id\":\"5ff95d43-646a-4e43-84fa-9704eeb063db\",\"type\":\"Row\"},{\"attributes\":{},\"id\":\"b4b6000b-40b4-498e-8d13-b9a2a747253a\",\"type\":\"SaveTool\"},{\"attributes\":{},\"id\":\"57d37c78-a439-4655-81b6-bc22de888d78\",\"type\":\"PanTool\"},{\"attributes\":{\"callback\":null,\"data\":{\"x\":{\"__ndarray__\":\"cm1sTMT3VEDEyvjosEJHQOKI6DjzCUNArgQWV9awPkB9Lm8XG3M4QEz+Qv6iYzNA7eV8HaPLLkCX1QHyTpMoQFBmYSYetiNAUB04GtGpH0AmFyVE5j8ZQJca9QPGqBNALJP+OOHHDEBNxaf7QF8AQKtislomWuw/cW2dcO6A9T/uJJvfPu0EQIaQLTI/JQ1AxGiII+PmEkCJvfVeuCsYQD6ZBhGbHB9AXQw69DTYJEAsubcwKucqQNuT9D5OmipAJyi3szEJJUBlNebh5WkgQDDcPHBr2xlArtlANXuQFEBdJadFHckQQI2Avh0ZsQtAjYiwt1rsBUCL0SDoVBgAQK6C0nEEjvc/CggLSme58T9sXU2orFPnP0v0JYz9Gdg/vT38vxYczD9nBQTe6kHHP1IhkEXJwKo/8OZnhCVAub+xtVgCpmqzP6DUpY6g0+k/PKK3T1h4+D8RTDjQc1EAQG/dAQs7TwJAQt2eHpPLAEBWEh074x//PyCap9ZSGf4/rEzaTySm/T+7aXhHRmr9P688KeqeNP0/ruZ4EemD/D8olrZcn9T7P0+vNc9hW/s/i9VVL+4P+z+0NzC24uz6P8731Kza8vo/xFf4SHzq+z+gYyHpvHb8P68ROkiFevw/BAjYdCga/D8AUp8VbW77P3JrF/nKmvo/qCQeGfq++T/dplwHJfn4P2G4p+Uva/g/OzZ0RqMZ+D8dmn/iar73P/OuA7Ka8PY/gaaeQHGn9T9hkyjAH1L0P3aZGhdAU/M/n8VP/g7P8j+90HxHNvfyPwhNBtgrqvk/\",\"dtype\":\"float64\",\"shape\":[75]},\"y\":{\"__ndarray__\":\"GhExyth1ND/Sv8nbtpRIP2vylNV0PVE/aTum7souWD/At0SJ8fVgPw3Iuahxymc/MSNhhJWvcD/bTfBN02d3P2zb5nxnaoA/CD5h5MAGhz8NmeH1TyaQP+zrCsc9p5Y/LbKd76fGnz/bLW5ISEmmPww9YvTcQq8/JV2OstnstT8Er5Y7M8G+P0c+r3jqkcU/5h99k6ZBzj88bCIzFzjVP4enV8oyxN0//yH99nXg5D8qOpLLf0jtP5kqGJXUifQ/c9cS8kHP/D+/DpwzojQEQIEmwoanVwxA4lgXt9HgE0BSSZ2AJuIbQAMJih9jjiNA5q4l5INuK0AwTKYKRj0zQNv5fmq8/DpAaCJseHrtQkB/+zpwzoxKQM3MzMzMeFJAZmZmZmZqWEAAAAAAAFxeQM3MzMzMJmJAmpmZmZkfZUBmZmZmZhhoQDMzMzMzEWtAAAAAAAAKbkBmZmZmZoFwQM3MzMzM/XFAMzMzMzN6c0CamZmZmfZ0QAAAAAAAc3ZAZmZmZmbvd0DNzMzMzGt5QDMzMzMz6HpAmpmZmZlkfEAAAAAAAOF9QGZmZmZmXX9AZmZmZuZsgECamZmZGSuBQM3MzMxM6YFAAAAAAICngkAzMzMzs2WDQGZmZmbmI4RAmpmZmRnihEDNzMzMTKCFQAAAAACAXoZAMzMzM7Mch0BmZmZm5tqHQJqZmZkZmYhAzczMzExXiUAAAAAAgBWKQDMzMzOz04pAZmZmZuaRi0CamZmZGVCMQM3MzMxMDo1AAAAAAIDMjUAzMzMzs4qOQGZmZmbmSI9A\",\"dtype\":\"float64\",\"shape\":[75]}},\"selected\":{\"id\":\"3f439c62-90d5-49cc-8e3b-af6cbcce7b4f\",\"type\":\"Selection\"},\"selection_policy\":{\"id\":\"c4c5fd7d-bb0a-4440-902a-8e2e9f986590\",\"type\":\"UnionRenderers\"}},\"id\":\"bad231cc-bc76-4521-8420-d9a63cb12812\",\"type\":\"ColumnDataSource\"},{\"attributes\":{},\"id\":\"39f52c5d-bedb-4105-93fc-520b5e9532d6\",\"type\":\"HelpTool\"},{\"attributes\":{\"bottom_units\":\"screen\",\"fill_alpha\":{\"value\":0.5},\"fill_color\":{\"value\":\"lightgrey\"},\"left_units\":\"screen\",\"level\":\"overlay\",\"line_alpha\":{\"value\":1.0},\"line_color\":{\"value\":\"black\"},\"line_dash\":[4,4],\"line_width\":{\"value\":2},\"plot\":null,\"render_mode\":\"css\",\"right_units\":\"screen\",\"top_units\":\"screen\"},\"id\":\"1431201f-e466-4107-bc19-a83da8add8be\",\"type\":\"BoxAnnotation\"}],\"root_ids\":[\"3a261ba7-c06b-4cf9-b216-323c0fd70656\"]},\"title\":\"Bokeh Application\",\"version\":\"0.12.16\"}};\n",
       "  var render_items = [{\"docid\":\"214ae504-ef83-430f-b2ff-d350ddc1ebf2\",\"elementid\":\"92c794a2-f73d-46b3-826a-bbdc18863c00\",\"modelid\":\"3a261ba7-c06b-4cf9-b216-323c0fd70656\"}];\n",
       "  root.Bokeh.embed.embed_items_notebook(docs_json, render_items);\n",
       "\n",
       "  }\n",
       "  if (root.Bokeh !== undefined) {\n",
       "    embed_document(root);\n",
       "  } else {\n",
       "    var attempts = 0;\n",
       "    var timer = setInterval(function(root) {\n",
       "      if (root.Bokeh !== undefined) {\n",
       "        embed_document(root);\n",
       "        clearInterval(timer);\n",
       "      }\n",
       "      attempts++;\n",
       "      if (attempts > 100) {\n",
       "        console.log(\"Bokeh: ERROR: Unable to run BokehJS code because BokehJS library is missing\")\n",
       "        clearInterval(timer);\n",
       "      }\n",
       "    }, 10, root)\n",
       "  }\n",
       "})(window);"
      ],
      "application/vnd.bokehjs_exec.v0+json": ""
     },
     "metadata": {
      "application/vnd.bokehjs_exec.v0+json": {
       "id": "3a261ba7-c06b-4cf9-b216-323c0fd70656"
      }
     },
     "output_type": "display_data"
    },
    {
     "data": {
      "text/markdown": [
       "*FIGURE.* Cooling rates & difference."
      ],
      "text/plain": [
       "<IPython.core.display.Markdown object>"
      ]
     },
     "metadata": {},
     "output_type": "display_data"
    },
    {
     "data": {
      "text/html": [
       "<a id=\"Fluxes._mls.\"></a>"
      ],
      "text/plain": [
       "<IPython.core.display.HTML object>"
      ]
     },
     "metadata": {},
     "output_type": "display_data"
    },
    {
     "data": {
      "text/markdown": [
       "# Fluxes. mls."
      ],
      "text/plain": [
       "<IPython.core.display.Markdown object>"
      ]
     },
     "metadata": {},
     "output_type": "display_data"
    },
    {
     "data": {
      "text/html": [
       "\n",
       "<div class=\"bk-root\">\n",
       "    <div class=\"bk-plotdiv\" id=\"d495cb67-4112-462b-b1fd-eef9e6134c76\"></div>\n",
       "</div>"
      ]
     },
     "metadata": {},
     "output_type": "display_data"
    },
    {
     "data": {
      "application/javascript": [
       "(function(root) {\n",
       "  function embed_document(root) {\n",
       "    \n",
       "  var docs_json = {\"9cea0071-4d08-4c71-9c74-31a31f23106b\":{\"roots\":{\"references\":[{\"attributes\":{\"bottom_units\":\"screen\",\"fill_alpha\":{\"value\":0.5},\"fill_color\":{\"value\":\"lightgrey\"},\"left_units\":\"screen\",\"level\":\"overlay\",\"line_alpha\":{\"value\":1.0},\"line_color\":{\"value\":\"black\"},\"line_dash\":[4,4],\"line_width\":{\"value\":2},\"plot\":null,\"render_mode\":\"css\",\"right_units\":\"screen\",\"top_units\":\"screen\"},\"id\":\"31c7f4b1-b6e8-4b7e-89d4-4d5f974e8851\",\"type\":\"BoxAnnotation\"},{\"attributes\":{\"callback\":null,\"factors\":[\"1\",\"2\",\"3\",\"4\",\"5\",\"6\",\"7\",\"8\",\"9\",\"10\",\"11\"]},\"id\":\"74ae67d8-3cd6-49b3-990c-a0fe142c842a\",\"type\":\"FactorRange\"},{\"attributes\":{},\"id\":\"d40a0eae-fbc9-4a7a-9e6c-936c6ec32a9c\",\"type\":\"UnionRenderers\"},{\"attributes\":{},\"id\":\"833a1f2c-de8d-4560-bec6-11fbb66f2402\",\"type\":\"BasicTickFormatter\"},{\"attributes\":{\"tools\":[{\"id\":\"aafd3257-a600-4296-b183-f9218c8faac4\",\"type\":\"PanTool\"},{\"id\":\"ebd3152b-d1fc-4948-b02c-7409387dfd91\",\"type\":\"WheelZoomTool\"},{\"id\":\"d1f2298f-dcbc-4ada-bdf8-2e8a346e7710\",\"type\":\"BoxZoomTool\"},{\"id\":\"c10c4f9d-26ce-4687-a775-b1910f012390\",\"type\":\"SaveTool\"},{\"id\":\"b75af080-8883-42c5-9e43-389231fdf0a3\",\"type\":\"ResetTool\"},{\"id\":\"48f009a5-76ba-4932-8158-6e654247c6df\",\"type\":\"HelpTool\"},{\"id\":\"321516c7-ec4d-41cc-84c0-b344b0b7469f\",\"type\":\"PanTool\"},{\"id\":\"00e79ad6-dc48-49c8-9ba8-6e840a84de12\",\"type\":\"WheelZoomTool\"},{\"id\":\"a647a5cb-b2fe-41d4-8f93-a09ebb0e760b\",\"type\":\"BoxZoomTool\"},{\"id\":\"676aa1b5-f91e-40e6-876d-1c781f64f3e2\",\"type\":\"SaveTool\"},{\"id\":\"41c7d542-95fc-4bb8-b17d-4a5d3392d683\",\"type\":\"ResetTool\"},{\"id\":\"4210ed77-eeff-4849-a8c8-8fba3c951562\",\"type\":\"HelpTool\"},{\"id\":\"35a52933-aa2d-4b14-96cd-39fae5a827d1\",\"type\":\"PanTool\"},{\"id\":\"7d3988f3-8b85-412d-bbc6-6ac4ed1200b8\",\"type\":\"WheelZoomTool\"},{\"id\":\"c6c04ed9-4227-4443-a05a-642b5376bae8\",\"type\":\"BoxZoomTool\"},{\"id\":\"97a382fb-6b6b-4306-9283-a21d2b1d2489\",\"type\":\"SaveTool\"},{\"id\":\"e86c97be-fdea-4b64-93c6-6ccfd4f74f58\",\"type\":\"ResetTool\"},{\"id\":\"9e342c07-825d-41f8-bcff-3f3620c68e8d\",\"type\":\"HelpTool\"}]},\"id\":\"ced566ea-b86d-4d6f-838f-ba652cb1628d\",\"type\":\"ProxyToolbar\"},{\"attributes\":{\"dimension\":1,\"plot\":{\"id\":\"4ba22dcd-66b6-4ca8-b046-0cfa33d33cc5\",\"subtype\":\"Figure\",\"type\":\"Plot\"},\"ticker\":{\"id\":\"fd8baba6-ca52-41af-b02a-19a62db6d716\",\"type\":\"BasicTicker\"}},\"id\":\"4ae5cc11-37ce-4008-b26e-90e6ad7b2b6b\",\"type\":\"Grid\"},{\"attributes\":{\"plot\":null,\"text\":\"SFC flux. CLIRAD (single-run) - CRD.\"},\"id\":\"93672acd-abe6-4f00-900a-c0e212485ba9\",\"type\":\"Title\"},{\"attributes\":{\"bottom_units\":\"screen\",\"fill_alpha\":{\"value\":0.5},\"fill_color\":{\"value\":\"lightgrey\"},\"left_units\":\"screen\",\"level\":\"overlay\",\"line_alpha\":{\"value\":1.0},\"line_color\":{\"value\":\"black\"},\"line_dash\":[4,4],\"line_width\":{\"value\":2},\"plot\":null,\"render_mode\":\"css\",\"right_units\":\"screen\",\"top_units\":\"screen\"},\"id\":\"6a2b0f91-67a1-4b4f-98dc-61bc3bb37278\",\"type\":\"BoxAnnotation\"},{\"attributes\":{},\"id\":\"70ebeac7-4ee3-41b6-b7da-fdc2368453a5\",\"type\":\"CategoricalTicker\"},{\"attributes\":{},\"id\":\"96e1fbcb-18bd-4308-9841-f8d11d1a67f1\",\"type\":\"CategoricalScale\"},{\"attributes\":{},\"id\":\"5cb99cff-120a-4a65-b7f2-e3288ba62bd2\",\"type\":\"BasicTickFormatter\"},{\"attributes\":{\"data_source\":{\"id\":\"29a6560d-ae51-46ae-b153-547e00010e90\",\"type\":\"ColumnDataSource\"},\"glyph\":{\"id\":\"dfaa5cc5-36e6-4280-86d6-f1a3f19822fc\",\"type\":\"VBar\"},\"hover_glyph\":null,\"muted_glyph\":null,\"nonselection_glyph\":{\"id\":\"6d18e453-377b-40c8-b007-f91be1a0eaa1\",\"type\":\"VBar\"},\"selection_glyph\":null,\"view\":{\"id\":\"de197e78-acd9-4709-a2d5-4a8c9105c191\",\"type\":\"CDSView\"}},\"id\":\"7f87a59e-4fbe-48a2-a9ef-6660eb11ed55\",\"type\":\"GlyphRenderer\"},{\"attributes\":{\"active_drag\":\"auto\",\"active_inspect\":\"auto\",\"active_scroll\":\"auto\",\"active_tap\":\"auto\",\"tools\":[{\"id\":\"aafd3257-a600-4296-b183-f9218c8faac4\",\"type\":\"PanTool\"},{\"id\":\"ebd3152b-d1fc-4948-b02c-7409387dfd91\",\"type\":\"WheelZoomTool\"},{\"id\":\"d1f2298f-dcbc-4ada-bdf8-2e8a346e7710\",\"type\":\"BoxZoomTool\"},{\"id\":\"c10c4f9d-26ce-4687-a775-b1910f012390\",\"type\":\"SaveTool\"},{\"id\":\"b75af080-8883-42c5-9e43-389231fdf0a3\",\"type\":\"ResetTool\"},{\"id\":\"48f009a5-76ba-4932-8158-6e654247c6df\",\"type\":\"HelpTool\"}]},\"id\":\"42527d6d-eba8-4999-9aca-6b89f2d85cd4\",\"type\":\"Toolbar\"},{\"attributes\":{\"axis_label\":\"spectral band\",\"formatter\":{\"id\":\"28ffb42b-9faa-468f-9812-7761ad0c59c4\",\"type\":\"CategoricalTickFormatter\"},\"plot\":{\"id\":\"df04f0b7-34e5-46da-a270-1884e0a3c804\",\"subtype\":\"Figure\",\"type\":\"Plot\"},\"ticker\":{\"id\":\"4d806542-e96e-4399-b980-8a23b1ddd2fa\",\"type\":\"CategoricalTicker\"}},\"id\":\"70ff8adb-ef01-4e97-aa57-5e49cc22f6bd\",\"type\":\"CategoricalAxis\"},{\"attributes\":{\"axis_label\":\"flux (W m-2)\",\"formatter\":{\"id\":\"781b8e3d-0874-4930-a9b7-783ad8d221f2\",\"type\":\"BasicTickFormatter\"},\"plot\":{\"id\":\"07e032b7-4e8a-4299-b533-c77089a5e344\",\"subtype\":\"Figure\",\"type\":\"Plot\"},\"ticker\":{\"id\":\"dbdd6a60-6b7e-4e72-a7b8-d465629573d1\",\"type\":\"BasicTicker\"}},\"id\":\"2ca29545-4f8a-4a42-ae1d-068d70c8ad4f\",\"type\":\"LinearAxis\"},{\"attributes\":{\"callback\":null,\"factors\":[\"1\",\"2\",\"3\",\"4\",\"5\",\"6\",\"7\",\"8\",\"9\",\"10\",\"11\"]},\"id\":\"04ffff77-8365-4180-8c60-5e7ad08fe4db\",\"type\":\"FactorRange\"},{\"attributes\":{},\"id\":\"4d806542-e96e-4399-b980-8a23b1ddd2fa\",\"type\":\"CategoricalTicker\"},{\"attributes\":{\"fill_color\":{\"value\":\"#1f77b4\"},\"line_color\":{\"value\":\"#1f77b4\"},\"top\":{\"field\":\"flux\"},\"width\":{\"value\":0.9},\"x\":{\"field\":\"band\"}},\"id\":\"97ac4b77-0b94-4b02-8319-a353047d5142\",\"type\":\"VBar\"},{\"attributes\":{\"axis_label\":\"flux (W m-2)\",\"formatter\":{\"id\":\"5cb99cff-120a-4a65-b7f2-e3288ba62bd2\",\"type\":\"BasicTickFormatter\"},\"plot\":{\"id\":\"4ba22dcd-66b6-4ca8-b046-0cfa33d33cc5\",\"subtype\":\"Figure\",\"type\":\"Plot\"},\"ticker\":{\"id\":\"fd8baba6-ca52-41af-b02a-19a62db6d716\",\"type\":\"BasicTicker\"}},\"id\":\"8c9b21ef-a306-4b9a-9796-ae804d200b32\",\"type\":\"LinearAxis\"},{\"attributes\":{},\"id\":\"63303a81-d3e3-4eab-acf4-f4482041403d\",\"type\":\"LinearScale\"},{\"attributes\":{},\"id\":\"35a52933-aa2d-4b14-96cd-39fae5a827d1\",\"type\":\"PanTool\"},{\"attributes\":{\"callback\":null},\"id\":\"6c5e5cb7-11f8-49c4-ab91-04be575509b9\",\"type\":\"DataRange1d\"},{\"attributes\":{},\"id\":\"2b7628f4-14dd-4495-a103-64089d317eff\",\"type\":\"UnionRenderers\"},{\"attributes\":{\"overlay\":{\"id\":\"31c7f4b1-b6e8-4b7e-89d4-4d5f974e8851\",\"type\":\"BoxAnnotation\"}},\"id\":\"c6c04ed9-4227-4443-a05a-642b5376bae8\",\"type\":\"BoxZoomTool\"},{\"attributes\":{},\"id\":\"fe9dca0f-533f-475e-ab45-641b7201a5a5\",\"type\":\"LinearScale\"},{\"attributes\":{},\"id\":\"ba4e0d40-8972-400f-801a-472b9188079e\",\"type\":\"UnionRenderers\"},{\"attributes\":{},\"id\":\"fd8baba6-ca52-41af-b02a-19a62db6d716\",\"type\":\"BasicTicker\"},{\"attributes\":{\"overlay\":{\"id\":\"6a2b0f91-67a1-4b4f-98dc-61bc3bb37278\",\"type\":\"BoxAnnotation\"}},\"id\":\"d1f2298f-dcbc-4ada-bdf8-2e8a346e7710\",\"type\":\"BoxZoomTool\"},{\"attributes\":{\"source\":{\"id\":\"29a6560d-ae51-46ae-b153-547e00010e90\",\"type\":\"ColumnDataSource\"}},\"id\":\"de197e78-acd9-4709-a2d5-4a8c9105c191\",\"type\":\"CDSView\"},{\"attributes\":{},\"id\":\"781b8e3d-0874-4930-a9b7-783ad8d221f2\",\"type\":\"BasicTickFormatter\"},{\"attributes\":{\"dimension\":1,\"plot\":{\"id\":\"df04f0b7-34e5-46da-a270-1884e0a3c804\",\"subtype\":\"Figure\",\"type\":\"Plot\"},\"ticker\":{\"id\":\"82f34573-e6aa-4846-ad52-e8fc612ccf57\",\"type\":\"BasicTicker\"}},\"id\":\"404b6774-6b75-4d3d-9fc4-51c73efeeb31\",\"type\":\"Grid\"},{\"attributes\":{},\"id\":\"0ca11942-2c3c-4a98-b657-347562b72ad5\",\"type\":\"CategoricalScale\"},{\"attributes\":{\"source\":{\"id\":\"3b2c196f-63bb-45cf-8306-48ba2b2f41b9\",\"type\":\"ColumnDataSource\"}},\"id\":\"6a59e0a8-3159-4c23-b3a3-06cd1164b2fd\",\"type\":\"CDSView\"},{\"attributes\":{},\"id\":\"82f34573-e6aa-4846-ad52-e8fc612ccf57\",\"type\":\"BasicTicker\"},{\"attributes\":{\"axis_label\":\"spectral band\",\"formatter\":{\"id\":\"96ab044a-f1fc-46de-93e9-935210b0c996\",\"type\":\"CategoricalTickFormatter\"},\"plot\":{\"id\":\"07e032b7-4e8a-4299-b533-c77089a5e344\",\"subtype\":\"Figure\",\"type\":\"Plot\"},\"ticker\":{\"id\":\"70ebeac7-4ee3-41b6-b7da-fdc2368453a5\",\"type\":\"CategoricalTicker\"}},\"id\":\"847bdb46-e42f-4455-8802-b3fd2988d0cc\",\"type\":\"CategoricalAxis\"},{\"attributes\":{\"plot\":{\"id\":\"4ba22dcd-66b6-4ca8-b046-0cfa33d33cc5\",\"subtype\":\"Figure\",\"type\":\"Plot\"},\"ticker\":{\"id\":\"d27bfbe6-0f3b-4069-aaea-7e794cde321a\",\"type\":\"CategoricalTicker\"}},\"id\":\"5413d084-c3cf-4b2d-8fb2-6ffc9b7dc44e\",\"type\":\"Grid\"},{\"attributes\":{\"callback\":null,\"data\":{\"band\":[\"1\",\"2\",\"3\",\"4\",\"5\",\"6\",\"7\",\"8\",\"9\",\"10\",\"11\"],\"flux\":{\"__ndarray__\":\"AAAAAyUF9r4AHvruVhblP+DQzf5AefA/AGx0zk9xsD8grTHohJgkQMOeGz/5/0dArmr/uR4hNUAsNYzMbeAtQJihuONN/gVAAGgdjq7SjT8AcGzRXW2APw==\",\"dtype\":\"float64\",\"shape\":[11]}},\"selected\":{\"id\":\"1129847a-b843-445c-994e-0a2431bbc81f\",\"type\":\"Selection\"},\"selection_policy\":{\"id\":\"d40a0eae-fbc9-4a7a-9e6c-936c6ec32a9c\",\"type\":\"UnionRenderers\"}},\"id\":\"29a6560d-ae51-46ae-b153-547e00010e90\",\"type\":\"ColumnDataSource\"},{\"attributes\":{\"callback\":null,\"factors\":[\"1\",\"2\",\"3\",\"4\",\"5\",\"6\",\"7\",\"8\",\"9\",\"10\",\"11\"]},\"id\":\"d45a5776-43b3-4ced-9595-d0889239fc84\",\"type\":\"FactorRange\"},{\"attributes\":{},\"id\":\"d27bfbe6-0f3b-4069-aaea-7e794cde321a\",\"type\":\"CategoricalTicker\"},{\"attributes\":{},\"id\":\"97a382fb-6b6b-4306-9283-a21d2b1d2489\",\"type\":\"SaveTool\"},{\"attributes\":{\"data_source\":{\"id\":\"3b2c196f-63bb-45cf-8306-48ba2b2f41b9\",\"type\":\"ColumnDataSource\"},\"glyph\":{\"id\":\"4f79b030-77bf-4322-bb50-0c96b591d7d9\",\"type\":\"VBar\"},\"hover_glyph\":null,\"muted_glyph\":null,\"nonselection_glyph\":{\"id\":\"d8a6b949-f7e8-423d-b89e-79674ac1c712\",\"type\":\"VBar\"},\"selection_glyph\":null,\"view\":{\"id\":\"6a59e0a8-3159-4c23-b3a3-06cd1164b2fd\",\"type\":\"CDSView\"}},\"id\":\"a3a3091b-6180-49da-9468-d19725d05cea\",\"type\":\"GlyphRenderer\"},{\"attributes\":{\"toolbar\":{\"id\":\"ced566ea-b86d-4d6f-838f-ba652cb1628d\",\"type\":\"ProxyToolbar\"},\"toolbar_location\":\"above\"},\"id\":\"62f3f50c-1e1e-4fbb-ae77-e34bc779a8e2\",\"type\":\"ToolbarBox\"},{\"attributes\":{},\"id\":\"50221a5c-e3dd-47f2-a846-cb91408670a5\",\"type\":\"LinearScale\"},{\"attributes\":{},\"id\":\"952dd226-4514-4c8a-9fa7-589f28014940\",\"type\":\"CategoricalTickFormatter\"},{\"attributes\":{\"below\":[{\"id\":\"70ff8adb-ef01-4e97-aa57-5e49cc22f6bd\",\"type\":\"CategoricalAxis\"}],\"left\":[{\"id\":\"63b787e6-5961-44c3-b5c2-8386c02be238\",\"type\":\"LinearAxis\"}],\"plot_height\":300,\"plot_width\":300,\"renderers\":[{\"id\":\"70ff8adb-ef01-4e97-aa57-5e49cc22f6bd\",\"type\":\"CategoricalAxis\"},{\"id\":\"1b00e546-b29e-4b3e-b12b-5bea182d2702\",\"type\":\"Grid\"},{\"id\":\"63b787e6-5961-44c3-b5c2-8386c02be238\",\"type\":\"LinearAxis\"},{\"id\":\"404b6774-6b75-4d3d-9fc4-51c73efeeb31\",\"type\":\"Grid\"},{\"id\":\"6414db47-b8a3-49ca-8a15-8541a385acd4\",\"type\":\"BoxAnnotation\"},{\"id\":\"7f87a59e-4fbe-48a2-a9ef-6660eb11ed55\",\"type\":\"GlyphRenderer\"}],\"title\":{\"id\":\"93672acd-abe6-4f00-900a-c0e212485ba9\",\"type\":\"Title\"},\"toolbar\":{\"id\":\"8284da2b-3a60-43fa-b6ed-0c9dae48c436\",\"type\":\"Toolbar\"},\"toolbar_location\":null,\"x_range\":{\"id\":\"74ae67d8-3cd6-49b3-990c-a0fe142c842a\",\"type\":\"FactorRange\"},\"x_scale\":{\"id\":\"96e1fbcb-18bd-4308-9841-f8d11d1a67f1\",\"type\":\"CategoricalScale\"},\"y_range\":{\"id\":\"6c5e5cb7-11f8-49c4-ab91-04be575509b9\",\"type\":\"DataRange1d\"},\"y_scale\":{\"id\":\"63303a81-d3e3-4eab-acf4-f4482041403d\",\"type\":\"LinearScale\"}},\"id\":\"df04f0b7-34e5-46da-a270-1884e0a3c804\",\"subtype\":\"Figure\",\"type\":\"Plot\"},{\"attributes\":{\"callback\":null},\"id\":\"d54b0f71-82e5-4b07-8065-5ea1d3abd784\",\"type\":\"DataRange1d\"},{\"attributes\":{\"plot\":null,\"text\":\"Atmosphere heating. CLIRAD (single-run) - CRD.\"},\"id\":\"471d8a3f-6202-46d5-97b1-953b47052a95\",\"type\":\"Title\"},{\"attributes\":{\"fill_alpha\":{\"value\":0.1},\"fill_color\":{\"value\":\"#1f77b4\"},\"line_alpha\":{\"value\":0.1},\"line_color\":{\"value\":\"#1f77b4\"},\"top\":{\"field\":\"flux\"},\"width\":{\"value\":0.9},\"x\":{\"field\":\"band\"}},\"id\":\"d8a6b949-f7e8-423d-b89e-79674ac1c712\",\"type\":\"VBar\"},{\"attributes\":{},\"id\":\"96ab044a-f1fc-46de-93e9-935210b0c996\",\"type\":\"CategoricalTickFormatter\"},{\"attributes\":{\"children\":[{\"id\":\"4ba22dcd-66b6-4ca8-b046-0cfa33d33cc5\",\"subtype\":\"Figure\",\"type\":\"Plot\"},{\"id\":\"df04f0b7-34e5-46da-a270-1884e0a3c804\",\"subtype\":\"Figure\",\"type\":\"Plot\"},{\"id\":\"07e032b7-4e8a-4299-b533-c77089a5e344\",\"subtype\":\"Figure\",\"type\":\"Plot\"}]},\"id\":\"648614b7-9e6f-48c7-9961-5c21bfacf98b\",\"type\":\"Row\"},{\"attributes\":{\"plot\":{\"id\":\"07e032b7-4e8a-4299-b533-c77089a5e344\",\"subtype\":\"Figure\",\"type\":\"Plot\"},\"ticker\":{\"id\":\"70ebeac7-4ee3-41b6-b7da-fdc2368453a5\",\"type\":\"CategoricalTicker\"}},\"id\":\"86ca1599-6dd2-41cd-bbf0-852ae1372c74\",\"type\":\"Grid\"},{\"attributes\":{},\"id\":\"03f73b22-fa2d-4065-8fb0-c3ebb59361b1\",\"type\":\"CategoricalScale\"},{\"attributes\":{},\"id\":\"738b0581-fe5e-4ca3-996e-68ade39d201c\",\"type\":\"Selection\"},{\"attributes\":{\"plot\":{\"id\":\"df04f0b7-34e5-46da-a270-1884e0a3c804\",\"subtype\":\"Figure\",\"type\":\"Plot\"},\"ticker\":{\"id\":\"4d806542-e96e-4399-b980-8a23b1ddd2fa\",\"type\":\"CategoricalTicker\"}},\"id\":\"1b00e546-b29e-4b3e-b12b-5bea182d2702\",\"type\":\"Grid\"},{\"attributes\":{},\"id\":\"e86c97be-fdea-4b64-93c6-6ccfd4f74f58\",\"type\":\"ResetTool\"},{\"attributes\":{},\"id\":\"1129847a-b843-445c-994e-0a2431bbc81f\",\"type\":\"Selection\"},{\"attributes\":{},\"id\":\"7d3988f3-8b85-412d-bbc6-6ac4ed1200b8\",\"type\":\"WheelZoomTool\"},{\"attributes\":{\"below\":[{\"id\":\"847bdb46-e42f-4455-8802-b3fd2988d0cc\",\"type\":\"CategoricalAxis\"}],\"left\":[{\"id\":\"2ca29545-4f8a-4a42-ae1d-068d70c8ad4f\",\"type\":\"LinearAxis\"}],\"plot_height\":300,\"plot_width\":300,\"renderers\":[{\"id\":\"847bdb46-e42f-4455-8802-b3fd2988d0cc\",\"type\":\"CategoricalAxis\"},{\"id\":\"86ca1599-6dd2-41cd-bbf0-852ae1372c74\",\"type\":\"Grid\"},{\"id\":\"2ca29545-4f8a-4a42-ae1d-068d70c8ad4f\",\"type\":\"LinearAxis\"},{\"id\":\"25cbf29a-d7e0-4dad-a0c5-326da16c08a6\",\"type\":\"Grid\"},{\"id\":\"31c7f4b1-b6e8-4b7e-89d4-4d5f974e8851\",\"type\":\"BoxAnnotation\"},{\"id\":\"a3a3091b-6180-49da-9468-d19725d05cea\",\"type\":\"GlyphRenderer\"}],\"title\":{\"id\":\"471d8a3f-6202-46d5-97b1-953b47052a95\",\"type\":\"Title\"},\"toolbar\":{\"id\":\"d48145b7-87bb-49f4-b189-1d2d5b9e4d23\",\"type\":\"Toolbar\"},\"toolbar_location\":null,\"x_range\":{\"id\":\"d45a5776-43b3-4ced-9595-d0889239fc84\",\"type\":\"FactorRange\"},\"x_scale\":{\"id\":\"0ca11942-2c3c-4a98-b657-347562b72ad5\",\"type\":\"CategoricalScale\"},\"y_range\":{\"id\":\"0856da2a-d0ad-4360-a84b-5933756db9e3\",\"type\":\"DataRange1d\"},\"y_scale\":{\"id\":\"fe9dca0f-533f-475e-ab45-641b7201a5a5\",\"type\":\"LinearScale\"}},\"id\":\"07e032b7-4e8a-4299-b533-c77089a5e344\",\"subtype\":\"Figure\",\"type\":\"Plot\"},{\"attributes\":{\"children\":[{\"id\":\"62f3f50c-1e1e-4fbb-ae77-e34bc779a8e2\",\"type\":\"ToolbarBox\"},{\"id\":\"04b8b632-47ca-4ffa-9b1c-726d7988acbc\",\"type\":\"Column\"}]},\"id\":\"7064d3f3-57b0-417c-a189-c4681c72078b\",\"type\":\"Column\"},{\"attributes\":{\"callback\":null},\"id\":\"0856da2a-d0ad-4360-a84b-5933756db9e3\",\"type\":\"DataRange1d\"},{\"attributes\":{\"active_drag\":\"auto\",\"active_inspect\":\"auto\",\"active_scroll\":\"auto\",\"active_tap\":\"auto\",\"tools\":[{\"id\":\"321516c7-ec4d-41cc-84c0-b344b0b7469f\",\"type\":\"PanTool\"},{\"id\":\"00e79ad6-dc48-49c8-9ba8-6e840a84de12\",\"type\":\"WheelZoomTool\"},{\"id\":\"a647a5cb-b2fe-41d4-8f93-a09ebb0e760b\",\"type\":\"BoxZoomTool\"},{\"id\":\"676aa1b5-f91e-40e6-876d-1c781f64f3e2\",\"type\":\"SaveTool\"},{\"id\":\"41c7d542-95fc-4bb8-b17d-4a5d3392d683\",\"type\":\"ResetTool\"},{\"id\":\"4210ed77-eeff-4849-a8c8-8fba3c951562\",\"type\":\"HelpTool\"}]},\"id\":\"8284da2b-3a60-43fa-b6ed-0c9dae48c436\",\"type\":\"Toolbar\"},{\"attributes\":{},\"id\":\"dbdd6a60-6b7e-4e72-a7b8-d465629573d1\",\"type\":\"BasicTicker\"},{\"attributes\":{},\"id\":\"c10c4f9d-26ce-4687-a775-b1910f012390\",\"type\":\"SaveTool\"},{\"attributes\":{},\"id\":\"28ffb42b-9faa-468f-9812-7761ad0c59c4\",\"type\":\"CategoricalTickFormatter\"},{\"attributes\":{\"fill_color\":{\"value\":\"#1f77b4\"},\"line_color\":{\"value\":\"#1f77b4\"},\"top\":{\"field\":\"flux\"},\"width\":{\"value\":0.9},\"x\":{\"field\":\"band\"}},\"id\":\"4f79b030-77bf-4322-bb50-0c96b591d7d9\",\"type\":\"VBar\"},{\"attributes\":{\"fill_alpha\":{\"value\":0.1},\"fill_color\":{\"value\":\"#1f77b4\"},\"line_alpha\":{\"value\":0.1},\"line_color\":{\"value\":\"#1f77b4\"},\"top\":{\"field\":\"flux\"},\"width\":{\"value\":0.9},\"x\":{\"field\":\"band\"}},\"id\":\"5222adb7-7647-4960-9f34-995ec7a4234c\",\"type\":\"VBar\"},{\"attributes\":{},\"id\":\"b75af080-8883-42c5-9e43-389231fdf0a3\",\"type\":\"ResetTool\"},{\"attributes\":{\"bottom_units\":\"screen\",\"fill_alpha\":{\"value\":0.5},\"fill_color\":{\"value\":\"lightgrey\"},\"left_units\":\"screen\",\"level\":\"overlay\",\"line_alpha\":{\"value\":1.0},\"line_color\":{\"value\":\"black\"},\"line_dash\":[4,4],\"line_width\":{\"value\":2},\"plot\":null,\"render_mode\":\"css\",\"right_units\":\"screen\",\"top_units\":\"screen\"},\"id\":\"6414db47-b8a3-49ca-8a15-8541a385acd4\",\"type\":\"BoxAnnotation\"},{\"attributes\":{\"axis_label\":\"flux (W m-2)\",\"formatter\":{\"id\":\"833a1f2c-de8d-4560-bec6-11fbb66f2402\",\"type\":\"BasicTickFormatter\"},\"plot\":{\"id\":\"df04f0b7-34e5-46da-a270-1884e0a3c804\",\"subtype\":\"Figure\",\"type\":\"Plot\"},\"ticker\":{\"id\":\"82f34573-e6aa-4846-ad52-e8fc612ccf57\",\"type\":\"BasicTicker\"}},\"id\":\"63b787e6-5961-44c3-b5c2-8386c02be238\",\"type\":\"LinearAxis\"},{\"attributes\":{\"active_drag\":\"auto\",\"active_inspect\":\"auto\",\"active_scroll\":\"auto\",\"active_tap\":\"auto\",\"tools\":[{\"id\":\"35a52933-aa2d-4b14-96cd-39fae5a827d1\",\"type\":\"PanTool\"},{\"id\":\"7d3988f3-8b85-412d-bbc6-6ac4ed1200b8\",\"type\":\"WheelZoomTool\"},{\"id\":\"c6c04ed9-4227-4443-a05a-642b5376bae8\",\"type\":\"BoxZoomTool\"},{\"id\":\"97a382fb-6b6b-4306-9283-a21d2b1d2489\",\"type\":\"SaveTool\"},{\"id\":\"e86c97be-fdea-4b64-93c6-6ccfd4f74f58\",\"type\":\"ResetTool\"},{\"id\":\"9e342c07-825d-41f8-bcff-3f3620c68e8d\",\"type\":\"HelpTool\"}]},\"id\":\"d48145b7-87bb-49f4-b189-1d2d5b9e4d23\",\"type\":\"Toolbar\"},{\"attributes\":{\"children\":[{\"id\":\"648614b7-9e6f-48c7-9961-5c21bfacf98b\",\"type\":\"Row\"}]},\"id\":\"04b8b632-47ca-4ffa-9b1c-726d7988acbc\",\"type\":\"Column\"},{\"attributes\":{},\"id\":\"48f009a5-76ba-4932-8158-6e654247c6df\",\"type\":\"HelpTool\"},{\"attributes\":{\"plot\":null,\"text\":\"TOA flux. CLIRAD (single-run) - CRD.\"},\"id\":\"bbf405c4-b4e4-46bd-9237-2281a41949a3\",\"type\":\"Title\"},{\"attributes\":{\"fill_color\":{\"value\":\"#1f77b4\"},\"line_color\":{\"value\":\"#1f77b4\"},\"top\":{\"field\":\"flux\"},\"width\":{\"value\":0.9},\"x\":{\"field\":\"band\"}},\"id\":\"dfaa5cc5-36e6-4280-86d6-f1a3f19822fc\",\"type\":\"VBar\"},{\"attributes\":{\"axis_label\":\"spectral band\",\"formatter\":{\"id\":\"952dd226-4514-4c8a-9fa7-589f28014940\",\"type\":\"CategoricalTickFormatter\"},\"plot\":{\"id\":\"4ba22dcd-66b6-4ca8-b046-0cfa33d33cc5\",\"subtype\":\"Figure\",\"type\":\"Plot\"},\"ticker\":{\"id\":\"d27bfbe6-0f3b-4069-aaea-7e794cde321a\",\"type\":\"CategoricalTicker\"}},\"id\":\"6c18bf0b-daec-46e2-a9c0-00fd39e0ca2e\",\"type\":\"CategoricalAxis\"},{\"attributes\":{\"dimension\":1,\"plot\":{\"id\":\"07e032b7-4e8a-4299-b533-c77089a5e344\",\"subtype\":\"Figure\",\"type\":\"Plot\"},\"ticker\":{\"id\":\"dbdd6a60-6b7e-4e72-a7b8-d465629573d1\",\"type\":\"BasicTicker\"}},\"id\":\"25cbf29a-d7e0-4dad-a0c5-326da16c08a6\",\"type\":\"Grid\"},{\"attributes\":{},\"id\":\"9e342c07-825d-41f8-bcff-3f3620c68e8d\",\"type\":\"HelpTool\"},{\"attributes\":{\"callback\":null,\"data\":{\"band\":[\"1\",\"2\",\"3\",\"4\",\"5\",\"6\",\"7\",\"8\",\"9\",\"10\",\"11\"],\"flux\":{\"__ndarray__\":\"wAciizRx4j+Q3nAfuW0jQDhlbr4R7RZA4AfnU8cq4T8+LNSa5lUjQCMVxhaCMkBAgm+aPjuQJ0A4mE2AYSkrQLFjEuRWzxdANEIuJ1cn/T9AvtXft8awPw==\",\"dtype\":\"float64\",\"shape\":[11]}},\"selected\":{\"id\":\"738b0581-fe5e-4ca3-996e-68ade39d201c\",\"type\":\"Selection\"},\"selection_policy\":{\"id\":\"ba4e0d40-8972-400f-801a-472b9188079e\",\"type\":\"UnionRenderers\"}},\"id\":\"1d819d0d-03cf-481b-b1b0-d25e511bc94b\",\"type\":\"ColumnDataSource\"},{\"attributes\":{\"below\":[{\"id\":\"6c18bf0b-daec-46e2-a9c0-00fd39e0ca2e\",\"type\":\"CategoricalAxis\"}],\"left\":[{\"id\":\"8c9b21ef-a306-4b9a-9796-ae804d200b32\",\"type\":\"LinearAxis\"}],\"plot_height\":300,\"plot_width\":300,\"renderers\":[{\"id\":\"6c18bf0b-daec-46e2-a9c0-00fd39e0ca2e\",\"type\":\"CategoricalAxis\"},{\"id\":\"5413d084-c3cf-4b2d-8fb2-6ffc9b7dc44e\",\"type\":\"Grid\"},{\"id\":\"8c9b21ef-a306-4b9a-9796-ae804d200b32\",\"type\":\"LinearAxis\"},{\"id\":\"4ae5cc11-37ce-4008-b26e-90e6ad7b2b6b\",\"type\":\"Grid\"},{\"id\":\"6a2b0f91-67a1-4b4f-98dc-61bc3bb37278\",\"type\":\"BoxAnnotation\"},{\"id\":\"e34cabaf-f48d-4dd4-889f-db0baaa4a932\",\"type\":\"GlyphRenderer\"}],\"title\":{\"id\":\"bbf405c4-b4e4-46bd-9237-2281a41949a3\",\"type\":\"Title\"},\"toolbar\":{\"id\":\"42527d6d-eba8-4999-9aca-6b89f2d85cd4\",\"type\":\"Toolbar\"},\"toolbar_location\":null,\"x_range\":{\"id\":\"04ffff77-8365-4180-8c60-5e7ad08fe4db\",\"type\":\"FactorRange\"},\"x_scale\":{\"id\":\"03f73b22-fa2d-4065-8fb0-c3ebb59361b1\",\"type\":\"CategoricalScale\"},\"y_range\":{\"id\":\"d54b0f71-82e5-4b07-8065-5ea1d3abd784\",\"type\":\"DataRange1d\"},\"y_scale\":{\"id\":\"50221a5c-e3dd-47f2-a846-cb91408670a5\",\"type\":\"LinearScale\"}},\"id\":\"4ba22dcd-66b6-4ca8-b046-0cfa33d33cc5\",\"subtype\":\"Figure\",\"type\":\"Plot\"},{\"attributes\":{},\"id\":\"00e79ad6-dc48-49c8-9ba8-6e840a84de12\",\"type\":\"WheelZoomTool\"},{\"attributes\":{\"data_source\":{\"id\":\"1d819d0d-03cf-481b-b1b0-d25e511bc94b\",\"type\":\"ColumnDataSource\"},\"glyph\":{\"id\":\"97ac4b77-0b94-4b02-8319-a353047d5142\",\"type\":\"VBar\"},\"hover_glyph\":null,\"muted_glyph\":null,\"nonselection_glyph\":{\"id\":\"5222adb7-7647-4960-9f34-995ec7a4234c\",\"type\":\"VBar\"},\"selection_glyph\":null,\"view\":{\"id\":\"9fd04cd0-874e-4d08-8613-3f56d4d3c699\",\"type\":\"CDSView\"}},\"id\":\"e34cabaf-f48d-4dd4-889f-db0baaa4a932\",\"type\":\"GlyphRenderer\"},{\"attributes\":{},\"id\":\"321516c7-ec4d-41cc-84c0-b344b0b7469f\",\"type\":\"PanTool\"},{\"attributes\":{\"callback\":null,\"data\":{\"band\":[\"1\",\"2\",\"3\",\"4\",\"5\",\"6\",\"7\",\"8\",\"9\",\"10\",\"11\"],\"flux\":{\"__ndarray__\":\"wKPHzl9x4j8kWXZ3UxwiQEA7xx3CzhJAgINWN0k53j/QOmV/6inkv3puDRHcNS/AxJlfzQGyIsCgKr3bYbj1v+AZS/1hoAlAOH+XQrXr/D8AZ1U6DnKtPw==\",\"dtype\":\"float64\",\"shape\":[11]}},\"selected\":{\"id\":\"f8f6d014-22b0-4941-9475-7113892e8263\",\"type\":\"Selection\"},\"selection_policy\":{\"id\":\"2b7628f4-14dd-4495-a103-64089d317eff\",\"type\":\"UnionRenderers\"}},\"id\":\"3b2c196f-63bb-45cf-8306-48ba2b2f41b9\",\"type\":\"ColumnDataSource\"},{\"attributes\":{},\"id\":\"f8f6d014-22b0-4941-9475-7113892e8263\",\"type\":\"Selection\"},{\"attributes\":{},\"id\":\"aafd3257-a600-4296-b183-f9218c8faac4\",\"type\":\"PanTool\"},{\"attributes\":{},\"id\":\"4210ed77-eeff-4849-a8c8-8fba3c951562\",\"type\":\"HelpTool\"},{\"attributes\":{},\"id\":\"676aa1b5-f91e-40e6-876d-1c781f64f3e2\",\"type\":\"SaveTool\"},{\"attributes\":{\"fill_alpha\":{\"value\":0.1},\"fill_color\":{\"value\":\"#1f77b4\"},\"line_alpha\":{\"value\":0.1},\"line_color\":{\"value\":\"#1f77b4\"},\"top\":{\"field\":\"flux\"},\"width\":{\"value\":0.9},\"x\":{\"field\":\"band\"}},\"id\":\"6d18e453-377b-40c8-b007-f91be1a0eaa1\",\"type\":\"VBar\"},{\"attributes\":{},\"id\":\"ebd3152b-d1fc-4948-b02c-7409387dfd91\",\"type\":\"WheelZoomTool\"},{\"attributes\":{\"source\":{\"id\":\"1d819d0d-03cf-481b-b1b0-d25e511bc94b\",\"type\":\"ColumnDataSource\"}},\"id\":\"9fd04cd0-874e-4d08-8613-3f56d4d3c699\",\"type\":\"CDSView\"},{\"attributes\":{},\"id\":\"41c7d542-95fc-4bb8-b17d-4a5d3392d683\",\"type\":\"ResetTool\"},{\"attributes\":{\"overlay\":{\"id\":\"6414db47-b8a3-49ca-8a15-8541a385acd4\",\"type\":\"BoxAnnotation\"}},\"id\":\"a647a5cb-b2fe-41d4-8f93-a09ebb0e760b\",\"type\":\"BoxZoomTool\"}],\"root_ids\":[\"7064d3f3-57b0-417c-a189-c4681c72078b\"]},\"title\":\"Bokeh Application\",\"version\":\"0.12.16\"}};\n",
       "  var render_items = [{\"docid\":\"9cea0071-4d08-4c71-9c74-31a31f23106b\",\"elementid\":\"d495cb67-4112-462b-b1fd-eef9e6134c76\",\"modelid\":\"7064d3f3-57b0-417c-a189-c4681c72078b\"}];\n",
       "  root.Bokeh.embed.embed_items_notebook(docs_json, render_items);\n",
       "\n",
       "  }\n",
       "  if (root.Bokeh !== undefined) {\n",
       "    embed_document(root);\n",
       "  } else {\n",
       "    var attempts = 0;\n",
       "    var timer = setInterval(function(root) {\n",
       "      if (root.Bokeh !== undefined) {\n",
       "        embed_document(root);\n",
       "        clearInterval(timer);\n",
       "      }\n",
       "      attempts++;\n",
       "      if (attempts > 100) {\n",
       "        console.log(\"Bokeh: ERROR: Unable to run BokehJS code because BokehJS library is missing\")\n",
       "        clearInterval(timer);\n",
       "      }\n",
       "    }, 10, root)\n",
       "  }\n",
       "})(window);"
      ],
      "application/vnd.bokehjs_exec.v0+json": ""
     },
     "metadata": {
      "application/vnd.bokehjs_exec.v0+json": {
       "id": "7064d3f3-57b0-417c-a189-c4681c72078b"
      }
     },
     "output_type": "display_data"
    },
    {
     "data": {
      "text/markdown": [
       "*FIGURE.* Difference between CLIRAD and CRD in TOA, SFC and net atmosphere flux, in each spectral band."
      ],
      "text/plain": [
       "<IPython.core.display.Markdown object>"
      ]
     },
     "metadata": {},
     "output_type": "display_data"
    },
    {
     "data": {
      "text/html": [
       "<div>\n",
       "<style scoped>\n",
       "    .dataframe tbody tr th:only-of-type {\n",
       "        vertical-align: middle;\n",
       "    }\n",
       "\n",
       "    .dataframe tbody tr th {\n",
       "        vertical-align: top;\n",
       "    }\n",
       "\n",
       "    .dataframe thead th {\n",
       "        text-align: right;\n",
       "    }\n",
       "</style>\n",
       "<table border=\"1\" class=\"dataframe\">\n",
       "  <thead>\n",
       "    <tr style=\"text-align: right;\">\n",
       "      <th></th>\n",
       "      <th>OLR flux</th>\n",
       "      <th>SFC flux</th>\n",
       "      <th>ATM heating</th>\n",
       "    </tr>\n",
       "    <tr>\n",
       "      <th>Sum over bands</th>\n",
       "      <th></th>\n",
       "      <th></th>\n",
       "      <th></th>\n",
       "    </tr>\n",
       "  </thead>\n",
       "  <tbody>\n",
       "    <tr>\n",
       "      <th>old CLIRAD - CRD</th>\n",
       "      <td>0.14</td>\n",
       "      <td>2.01</td>\n",
       "      <td>-1.73</td>\n",
       "    </tr>\n",
       "    <tr>\n",
       "      <th>CLIRAD (single-run) - CRD</th>\n",
       "      <td>91.82</td>\n",
       "      <td>98.89</td>\n",
       "      <td>-7.07</td>\n",
       "    </tr>\n",
       "    <tr>\n",
       "      <th>CRD</th>\n",
       "      <td>-290.39</td>\n",
       "      <td>308.14</td>\n",
       "      <td>-174.89</td>\n",
       "    </tr>\n",
       "  </tbody>\n",
       "</table>\n",
       "</div>"
      ],
      "text/plain": [
       "                           OLR flux  SFC flux  ATM heating\n",
       "Sum over bands                                            \n",
       "old CLIRAD - CRD               0.14      2.01        -1.73\n",
       "CLIRAD (single-run) - CRD     91.82     98.89        -7.07\n",
       "CRD                         -290.39    308.14      -174.89"
      ]
     },
     "metadata": {},
     "output_type": "display_data"
    },
    {
     "data": {
      "text/markdown": [
       "*TABLE.* Difference between CLIRAD and CRD in TOA, SFC and net atmosphere flux, over all spectral bands. CRD's TOA, SFC and net atmosphere flux, over all spectral bands."
      ],
      "text/plain": [
       "<IPython.core.display.Markdown object>"
      ]
     },
     "metadata": {},
     "output_type": "display_data"
    },
    {
     "data": {
      "text/html": [
       "<a id=\"Cooling_rates._saw.\"></a>"
      ],
      "text/plain": [
       "<IPython.core.display.HTML object>"
      ]
     },
     "metadata": {},
     "output_type": "display_data"
    },
    {
     "data": {
      "text/markdown": [
       "# Cooling rates. saw."
      ],
      "text/plain": [
       "<IPython.core.display.Markdown object>"
      ]
     },
     "metadata": {},
     "output_type": "display_data"
    },
    {
     "data": {
      "text/html": [
       "\n",
       "<div class=\"bk-root\">\n",
       "    <div class=\"bk-plotdiv\" id=\"fba5150f-e53e-446e-94b0-f0b8ab163d2e\"></div>\n",
       "</div>"
      ]
     },
     "metadata": {},
     "output_type": "display_data"
    },
    {
     "data": {
      "application/javascript": [
       "(function(root) {\n",
       "  function embed_document(root) {\n",
       "    \n",
       "  var docs_json = {\"d7d39f37-4e85-4257-8f44-d87f90df3ab7\":{\"roots\":{\"references\":[{\"attributes\":{\"items\":[{\"id\":\"0af95d91-9788-4345-8265-51ad146fef98\",\"type\":\"LegendItem\"},{\"id\":\"855935d3-3c61-43d1-8de1-648bcbed9e24\",\"type\":\"LegendItem\"}],\"label_text_font_size\":{\"value\":\"8pt\"},\"location\":\"top_center\",\"orientation\":\"horizontal\",\"plot\":{\"id\":\"318b30be-a0b3-4b5d-86a3-8e0858d34ecf\",\"subtype\":\"Figure\",\"type\":\"Plot\"}},\"id\":\"0a0fe573-1ab0-4ed5-90ff-299b1bac533b\",\"type\":\"Legend\"},{\"attributes\":{\"callback\":null,\"end\":11.4793147302343,\"start\":-11.084269745204299},\"id\":\"f916996e-ef56-4237-88d5-c8c3531887bf\",\"type\":\"Range1d\"},{\"attributes\":{},\"id\":\"babc9508-09d0-46fa-80e6-1a5fe3fa1fa8\",\"type\":\"BasicTickFormatter\"},{\"attributes\":{},\"id\":\"c84524a8-7e5c-4ef2-bbdc-6c5f5b998c03\",\"type\":\"UnionRenderers\"},{\"attributes\":{\"ticker\":null},\"id\":\"a849c28a-2589-4eae-81ef-64df528caa64\",\"type\":\"LogTickFormatter\"},{\"attributes\":{},\"id\":\"ef6d9ced-f2b4-4397-a60c-defdfb37ae85\",\"type\":\"Selection\"},{\"attributes\":{},\"id\":\"fe4465ab-3949-4522-95d2-4a00dce267d8\",\"type\":\"UnionRenderers\"},{\"attributes\":{\"line_alpha\":0.8,\"line_color\":\"#984ea3\",\"line_width\":1.5,\"x\":{\"field\":\"x\"},\"y\":{\"field\":\"y\"}},\"id\":\"6024f55d-2c88-4574-bc2b-2edbeeb0fecb\",\"type\":\"Line\"},{\"attributes\":{},\"id\":\"17364ef8-f033-4a2a-884c-ce85d3371003\",\"type\":\"Selection\"},{\"attributes\":{},\"id\":\"67776d80-30d2-4eab-8fc8-847c8b2990f0\",\"type\":\"Selection\"},{\"attributes\":{\"line_alpha\":0.1,\"line_color\":\"#1f77b4\",\"line_width\":1.5,\"x\":{\"field\":\"x\"},\"y\":{\"field\":\"y\"}},\"id\":\"3cd8da50-fb27-47c5-b4a6-c355869be5a5\",\"type\":\"Line\"},{\"attributes\":{},\"id\":\"9fda9bdd-7940-4a85-a25e-09a3e2dfa6c5\",\"type\":\"UnionRenderers\"},{\"attributes\":{\"plot\":null,\"text\":\"\"},\"id\":\"c116f3e2-dce0-4593-a088-130a9ced9edf\",\"type\":\"Title\"},{\"attributes\":{},\"id\":\"71d1ad6f-4ad3-49a0-9db1-d6f470e68566\",\"type\":\"UnionRenderers\"},{\"attributes\":{\"source\":{\"id\":\"30e878a7-7241-4fec-ba92-a5e3237e9bc1\",\"type\":\"ColumnDataSource\"}},\"id\":\"0525b149-391b-47dd-ad9b-ebd51b9a6e26\",\"type\":\"CDSView\"},{\"attributes\":{},\"id\":\"89e59a79-47ed-4009-a912-150b4b93ec7c\",\"type\":\"Selection\"},{\"attributes\":{\"label\":{\"value\":\"CLIRAD (single-run) - CRD\"},\"renderers\":[{\"id\":\"7db9c4ed-c6ad-466f-a434-978687538898\",\"type\":\"GlyphRenderer\"},{\"id\":\"18377b92-0f1c-4b35-ad3a-e226dfe9254d\",\"type\":\"GlyphRenderer\"}]},\"id\":\"ec6ea585-57de-47e1-898f-cdebe0a54799\",\"type\":\"LegendItem\"},{\"attributes\":{\"plot\":null,\"text\":\"\"},\"id\":\"8c1ce8ed-b5b7-4c84-bd53-13023d71d8d4\",\"type\":\"Title\"},{\"attributes\":{\"callback\":null,\"end\":0.01,\"start\":1020},\"id\":\"623d152d-16c2-4bcf-823e-299620684ddf\",\"type\":\"Range1d\"},{\"attributes\":{},\"id\":\"267f841e-f5b4-43be-a3ad-03ab78547fd1\",\"type\":\"Selection\"},{\"attributes\":{},\"id\":\"11f99849-e741-4eaa-b95c-3d2bef82ee13\",\"type\":\"UnionRenderers\"},{\"attributes\":{\"children\":[{\"id\":\"318b30be-a0b3-4b5d-86a3-8e0858d34ecf\",\"subtype\":\"Figure\",\"type\":\"Plot\"},{\"id\":\"33734012-a1ff-4c7f-a92a-a901dd5c01ec\",\"subtype\":\"Figure\",\"type\":\"Plot\"},{\"id\":\"1538a362-1cf0-4fd9-b2db-074cbf7c0f5f\",\"subtype\":\"Figure\",\"type\":\"Plot\"}]},\"id\":\"cec954f3-17a3-4d7d-8a70-3d2f7eb6d74c\",\"type\":\"Row\"},{\"attributes\":{},\"id\":\"f622f0ca-2f52-4677-8795-f68e9bfee47f\",\"type\":\"LinearScale\"},{\"attributes\":{\"children\":[{\"id\":\"cec954f3-17a3-4d7d-8a70-3d2f7eb6d74c\",\"type\":\"Row\"}]},\"id\":\"7e10ff8b-3f3f-4d14-9fd3-40276ce5dda3\",\"type\":\"Column\"},{\"attributes\":{\"data_source\":{\"id\":\"30e878a7-7241-4fec-ba92-a5e3237e9bc1\",\"type\":\"ColumnDataSource\"},\"glyph\":{\"id\":\"6024f55d-2c88-4574-bc2b-2edbeeb0fecb\",\"type\":\"Line\"},\"hover_glyph\":null,\"muted_glyph\":null,\"nonselection_glyph\":{\"id\":\"3cd8da50-fb27-47c5-b4a6-c355869be5a5\",\"type\":\"Line\"},\"selection_glyph\":null,\"view\":{\"id\":\"0525b149-391b-47dd-ad9b-ebd51b9a6e26\",\"type\":\"CDSView\"}},\"id\":\"18377b92-0f1c-4b35-ad3a-e226dfe9254d\",\"type\":\"GlyphRenderer\"},{\"attributes\":{\"plot\":{\"id\":\"1538a362-1cf0-4fd9-b2db-074cbf7c0f5f\",\"subtype\":\"Figure\",\"type\":\"Plot\"},\"ticker\":{\"id\":\"8f8abee3-c53b-4d8e-8a1a-2d390a0bef6d\",\"type\":\"BasicTicker\"}},\"id\":\"02c93de8-1bea-492e-b5c2-c97d6fa90c40\",\"type\":\"Grid\"},{\"attributes\":{\"children\":[{\"id\":\"22ec9883-5845-485e-b2fb-087a21f5792c\",\"type\":\"ToolbarBox\"},{\"id\":\"7e10ff8b-3f3f-4d14-9fd3-40276ce5dda3\",\"type\":\"Column\"}]},\"id\":\"ad2088df-e935-48c8-99fa-dca07b335051\",\"type\":\"Column\"},{\"attributes\":{\"callback\":null,\"end\":1.003365853007001,\"start\":-1.6684061262609995},\"id\":\"cc123e71-9291-475a-9483-2951d2a6ef98\",\"type\":\"Range1d\"},{\"attributes\":{},\"id\":\"0ad320e8-9bb8-4120-9eaa-5af6beb9760a\",\"type\":\"Selection\"},{\"attributes\":{\"callback\":null,\"data\":{\"x\":{\"__ndarray__\":\"WkFRyr/dQ8CRlwfHt/IYwF2QCiFMnQPAqy2iMosv8j8DS5sdNaULQAkUiyFB5A9AGfFM7X3WBkCFn1B4A23rP7C/A0AvYu2/xqkfY4BG+r/4jJMGDfnzv3qYMuDWM9S/XbUlpoX94D9dkDo8/kTvP78aXy08ce0/ajLOs1oU2j+KAjLBGl/Pv6+Vj7nNseS/K8mtuRGv5L+6QESqIcfYvwBQUmynHLy/zNBm4US8uj/YDTP/iPHFP3ykVMjLAK+/I1/xZ06Sx79JGjGwEbOOP61/bMNXeNQ/ZZT56qUE1T8b4B2TSBjEP7Xf0GJPPLQ/gsmtVWe2yj8cNUsLGEfSP7nRMHHC5Mk/Ucu5eVaJtD93r0mbJ0O7PyCuhJm/v8k/+qQHH5xtyD9NNqrN2ozAP7wdFV+hfrY/XL0tjCKTtz9YW50tmGi7P6FgeOe4cL4/ZCmjcz30wD/xcgVSt4fDP6HRrqFQ48Y/YnVNzJxYG0BT3sTN3U4UQCM5yxPJv82/s12PVeNHFkAtuu5kiBblv7IMpLO9uyNAHtOCSR+/KMAVOdYEvMb8v7cdGCsF5vq/0zvNi6sS+b9ZoxMLOUD3v7JAo2PvdvW/dLQA+ru6879nQ2LpIRnyv6N45dcnkfC/g4Ql8GBq7r/tH8Nor+3rv1ceX2Wmsem/aaHGwB+W5787hIzx8Xrlv1i4LYybG+O/ZmFcZX7tI0Dwjk4EioT7P+8NX1FT3O2/DnQnt3FM+j8EQwu8G7Pnv0p75m+UuOS/ewOU/sJt4r9BFXBAhobgv0s0DVBR5d2/\",\"dtype\":\"float64\",\"shape\":[75]},\"y\":{\"__ndarray__\":\"GhExyth1ND/Sv8nbtpRIP2vylNV0PVE/aTum7souWD/At0SJ8fVgPw3Iuahxymc/MSNhhJWvcD/bTfBN02d3P2zb5nxnaoA/CD5h5MAGhz8NmeH1TyaQP+zrCsc9p5Y/LbKd76fGnz/bLW5ISEmmPww9YvTcQq8/JV2OstnstT8Er5Y7M8G+P0c+r3jqkcU/5h99k6ZBzj88bCIzFzjVP4enV8oyxN0//yH99nXg5D8qOpLLf0jtP5kqGJXUifQ/c9cS8kHP/D+/DpwzojQEQIEmwoanVwxA4lgXt9HgE0BSSZ2AJuIbQAMJih9jjiNA5q4l5INuK0AwTKYKRj0zQNv5fmq8/DpAaCJseHrtQkB/+zpwzoxKQM3MzMzMeFJAZmZmZmZqWEAAAAAAAFxeQM3MzMzMJmJAmpmZmZkfZUBmZmZmZhhoQDMzMzMzEWtAAAAAAAAKbkBmZmZmZoFwQM3MzMzM/XFAMzMzMzN6c0CamZmZmfZ0QAAAAAAAc3ZAZmZmZmbvd0DNzMzMzGt5QDMzMzMz6HpAmpmZmZlkfEAAAAAAAOF9QGZmZmZmXX9AZmZmZuZsgECamZmZGSuBQM3MzMxM6YFAAAAAAICngkAzMzMzs2WDQGZmZmbmI4RAmpmZmRnihEDNzMzMTKCFQAAAAACAXoZAMzMzM7Mch0BmZmZm5tqHQJqZmZkZmYhAzczMzExXiUAAAAAAgBWKQDMzMzOz04pAZmZmZuaRi0CamZmZGVCMQM3MzMxMDo1AAAAAAIDMjUAzMzMzs4qOQGZmZmbmSI9A\",\"dtype\":\"float64\",\"shape\":[75]}},\"selected\":{\"id\":\"8c83aefc-c625-43a0-b527-50da469ed5c1\",\"type\":\"Selection\"},\"selection_policy\":{\"id\":\"11f99849-e741-4eaa-b95c-3d2bef82ee13\",\"type\":\"UnionRenderers\"}},\"id\":\"926a66db-bdf8-475a-bffa-b59da84fc554\",\"type\":\"ColumnDataSource\"},{\"attributes\":{\"items\":[{\"id\":\"ec6ea585-57de-47e1-898f-cdebe0a54799\",\"type\":\"LegendItem\"}],\"label_text_font_size\":{\"value\":\"8pt\"},\"location\":\"top_center\",\"orientation\":\"horizontal\",\"plot\":{\"id\":\"1538a362-1cf0-4fd9-b2db-074cbf7c0f5f\",\"subtype\":\"Figure\",\"type\":\"Plot\"}},\"id\":\"bb386dc7-9fa5-45ab-b602-76eefc434790\",\"type\":\"Legend\"},{\"attributes\":{\"callback\":null,\"end\":0.01,\"start\":1020},\"id\":\"408be10f-44d3-43fc-ac40-0e3ba9407718\",\"type\":\"Range1d\"},{\"attributes\":{\"fill_alpha\":{\"value\":0.1},\"fill_color\":{\"value\":\"#1f77b4\"},\"line_alpha\":{\"value\":0.1},\"line_color\":{\"value\":\"#1f77b4\"},\"x\":{\"field\":\"x\"},\"y\":{\"field\":\"y\"}},\"id\":\"d8a0885a-6ea7-492c-85a8-aab063d4970d\",\"type\":\"Circle\"},{\"attributes\":{\"overlay\":{\"id\":\"7eb1fe8d-5795-4fd6-b5fb-3dad59428af7\",\"type\":\"BoxAnnotation\"}},\"id\":\"b179635f-501b-4432-8f04-ce0e646c666f\",\"type\":\"BoxZoomTool\"},{\"attributes\":{\"source\":{\"id\":\"926a66db-bdf8-475a-bffa-b59da84fc554\",\"type\":\"ColumnDataSource\"}},\"id\":\"26890e01-fae8-4cc4-939b-ed036b757e86\",\"type\":\"CDSView\"},{\"attributes\":{\"num_minor_ticks\":10},\"id\":\"daededa1-c974-4003-9331-4bfaa51ad3ca\",\"type\":\"LogTicker\"},{\"attributes\":{},\"id\":\"332d5cc7-5a9e-4ee4-a737-db5c99935dc7\",\"type\":\"BasicTickFormatter\"},{\"attributes\":{\"label\":{\"value\":\"CLIRAD (single-run)\"},\"renderers\":[{\"id\":\"9a841cbb-3acf-4b88-9f9e-191e9829cf98\",\"type\":\"GlyphRenderer\"}]},\"id\":\"7623dde0-cbc8-47bc-bfbe-d489d9d7fa08\",\"type\":\"LegendItem\"},{\"attributes\":{},\"id\":\"23e5a64d-102d-4623-9fbc-02d2e5245142\",\"type\":\"PanTool\"},{\"attributes\":{\"bottom_units\":\"screen\",\"fill_alpha\":{\"value\":0.5},\"fill_color\":{\"value\":\"lightgrey\"},\"left_units\":\"screen\",\"level\":\"overlay\",\"line_alpha\":{\"value\":1.0},\"line_color\":{\"value\":\"black\"},\"line_dash\":[4,4],\"line_width\":{\"value\":2},\"plot\":null,\"render_mode\":\"css\",\"right_units\":\"screen\",\"top_units\":\"screen\"},\"id\":\"452b1ffb-a750-4cd5-94bf-b57997ce0cd5\",\"type\":\"BoxAnnotation\"},{\"attributes\":{},\"id\":\"b5d35837-cfc6-45e3-b382-bea9af612b06\",\"type\":\"LogScale\"},{\"attributes\":{},\"id\":\"3fbfd1d3-0a89-4e70-8e7e-234c7da98852\",\"type\":\"WheelZoomTool\"},{\"attributes\":{\"data_source\":{\"id\":\"609ec1e1-696c-4479-87b4-ba5a919133e5\",\"type\":\"ColumnDataSource\"},\"glyph\":{\"id\":\"04c6085b-39ac-4c85-bfcd-9dd84da93000\",\"type\":\"Line\"},\"hover_glyph\":null,\"muted_glyph\":null,\"nonselection_glyph\":{\"id\":\"ff47bb17-f6c0-47f1-8b2b-6a888a36b493\",\"type\":\"Line\"},\"selection_glyph\":null,\"view\":{\"id\":\"6d6cc3e0-95ee-4963-936e-b5aa2add3ba6\",\"type\":\"CDSView\"}},\"id\":\"1f138138-4340-4799-a868-1378cf4b29aa\",\"type\":\"GlyphRenderer\"},{\"attributes\":{},\"id\":\"f8c5aa7c-03bc-4397-b2f6-53597b995e76\",\"type\":\"LinearScale\"},{\"attributes\":{\"axis_label\":\"pressure [mb]\",\"formatter\":{\"id\":\"1fdb5e01-bdba-4e4b-a44d-301a9f4f713d\",\"type\":\"LogTickFormatter\"},\"plot\":{\"id\":\"1538a362-1cf0-4fd9-b2db-074cbf7c0f5f\",\"subtype\":\"Figure\",\"type\":\"Plot\"},\"ticker\":{\"id\":\"daededa1-c974-4003-9331-4bfaa51ad3ca\",\"type\":\"LogTicker\"}},\"id\":\"c46e6af5-4e5d-444c-a9fa-44ef76e83338\",\"type\":\"LogAxis\"},{\"attributes\":{},\"id\":\"52238f7f-a14e-4ba6-94cd-3c9ee1fcde52\",\"type\":\"SaveTool\"},{\"attributes\":{\"callback\":null,\"data\":{\"x\":{\"__ndarray__\":\"WkFRyr/dQ8CRlwfHt/IYwF2QCiFMnQPAqy2iMosv8j8DS5sdNaULQAkUiyFB5A9AGfFM7X3WBkCFn1B4A23rP7C/A0AvYu2/xqkfY4BG+r/4jJMGDfnzv3qYMuDWM9S/XbUlpoX94D9dkDo8/kTvP78aXy08ce0/ajLOs1oU2j+KAjLBGl/Pv6+Vj7nNseS/K8mtuRGv5L+6QESqIcfYvwBQUmynHLy/zNBm4US8uj/YDTP/iPHFP3ykVMjLAK+/I1/xZ06Sx79JGjGwEbOOP61/bMNXeNQ/ZZT56qUE1T8b4B2TSBjEP7Xf0GJPPLQ/gsmtVWe2yj8cNUsLGEfSP7nRMHHC5Mk/Ucu5eVaJtD93r0mbJ0O7PyCuhJm/v8k/+qQHH5xtyD9NNqrN2ozAP7wdFV+hfrY/XL0tjCKTtz9YW50tmGi7P6FgeOe4cL4/ZCmjcz30wD/xcgVSt4fDP6HRrqFQ48Y/YnVNzJxYG0BT3sTN3U4UQCM5yxPJv82/s12PVeNHFkAtuu5kiBblv7IMpLO9uyNAHtOCSR+/KMAVOdYEvMb8v7cdGCsF5vq/0zvNi6sS+b9ZoxMLOUD3v7JAo2PvdvW/dLQA+ru6879nQ2LpIRnyv6N45dcnkfC/g4Ql8GBq7r/tH8Nor+3rv1ceX2Wmsem/aaHGwB+W5787hIzx8Xrlv1i4LYybG+O/ZmFcZX7tI0Dwjk4EioT7P+8NX1FT3O2/DnQnt3FM+j8EQwu8G7Pnv0p75m+UuOS/ewOU/sJt4r9BFXBAhobgv0s0DVBR5d2/\",\"dtype\":\"float64\",\"shape\":[75]},\"y\":{\"__ndarray__\":\"GhExyth1ND/Sv8nbtpRIP2vylNV0PVE/aTum7souWD/At0SJ8fVgPw3Iuahxymc/MSNhhJWvcD/bTfBN02d3P2zb5nxnaoA/CD5h5MAGhz8NmeH1TyaQP+zrCsc9p5Y/LbKd76fGnz/bLW5ISEmmPww9YvTcQq8/JV2OstnstT8Er5Y7M8G+P0c+r3jqkcU/5h99k6ZBzj88bCIzFzjVP4enV8oyxN0//yH99nXg5D8qOpLLf0jtP5kqGJXUifQ/c9cS8kHP/D+/DpwzojQEQIEmwoanVwxA4lgXt9HgE0BSSZ2AJuIbQAMJih9jjiNA5q4l5INuK0AwTKYKRj0zQNv5fmq8/DpAaCJseHrtQkB/+zpwzoxKQM3MzMzMeFJAZmZmZmZqWEAAAAAAAFxeQM3MzMzMJmJAmpmZmZkfZUBmZmZmZhhoQDMzMzMzEWtAAAAAAAAKbkBmZmZmZoFwQM3MzMzM/XFAMzMzMzN6c0CamZmZmfZ0QAAAAAAAc3ZAZmZmZmbvd0DNzMzMzGt5QDMzMzMz6HpAmpmZmZlkfEAAAAAAAOF9QGZmZmZmXX9AZmZmZuZsgECamZmZGSuBQM3MzMxM6YFAAAAAAICngkAzMzMzs2WDQGZmZmbmI4RAmpmZmRnihEDNzMzMTKCFQAAAAACAXoZAMzMzM7Mch0BmZmZm5tqHQJqZmZkZmYhAzczMzExXiUAAAAAAgBWKQDMzMzOz04pAZmZmZuaRi0CamZmZGVCMQM3MzMxMDo1AAAAAAIDMjUAzMzMzs4qOQGZmZmbmSI9A\",\"dtype\":\"float64\",\"shape\":[75]}},\"selected\":{\"id\":\"67776d80-30d2-4eab-8fc8-847c8b2990f0\",\"type\":\"Selection\"},\"selection_policy\":{\"id\":\"9fda9bdd-7940-4a85-a25e-09a3e2dfa6c5\",\"type\":\"UnionRenderers\"}},\"id\":\"30e878a7-7241-4fec-ba92-a5e3237e9bc1\",\"type\":\"ColumnDataSource\"},{\"attributes\":{},\"id\":\"8f8abee3-c53b-4d8e-8a1a-2d390a0bef6d\",\"type\":\"BasicTicker\"},{\"attributes\":{},\"id\":\"4689e2b0-bf34-4c8e-8079-f7f2dff09376\",\"type\":\"UnionRenderers\"},{\"attributes\":{},\"id\":\"63d430e3-28ff-4995-8b9e-3bd67266602d\",\"type\":\"ResetTool\"},{\"attributes\":{},\"id\":\"1979ab25-8d79-40b4-927b-38c9e15335c2\",\"type\":\"HelpTool\"},{\"attributes\":{},\"id\":\"6ca8edca-01a2-4bc5-bf5c-14d2936399d1\",\"type\":\"Selection\"},{\"attributes\":{\"overlay\":{\"id\":\"452b1ffb-a750-4cd5-94bf-b57997ce0cd5\",\"type\":\"BoxAnnotation\"}},\"id\":\"9b748ab0-bc27-4001-8583-13b92d097e06\",\"type\":\"BoxZoomTool\"},{\"attributes\":{\"bottom_units\":\"screen\",\"fill_alpha\":{\"value\":0.5},\"fill_color\":{\"value\":\"lightgrey\"},\"left_units\":\"screen\",\"level\":\"overlay\",\"line_alpha\":{\"value\":1.0},\"line_color\":{\"value\":\"black\"},\"line_dash\":[4,4],\"line_width\":{\"value\":2},\"plot\":null,\"render_mode\":\"css\",\"right_units\":\"screen\",\"top_units\":\"screen\"},\"id\":\"7eb1fe8d-5795-4fd6-b5fb-3dad59428af7\",\"type\":\"BoxAnnotation\"},{\"attributes\":{},\"id\":\"bab1f3ec-ae0d-40f5-b1f5-060fdc10dbed\",\"type\":\"SaveTool\"},{\"attributes\":{},\"id\":\"6a0fea9c-5ac9-41b0-8af9-f27564514194\",\"type\":\"HelpTool\"},{\"attributes\":{},\"id\":\"88416ac0-9ac7-450b-80ff-352d6ccef62d\",\"type\":\"PanTool\"},{\"attributes\":{},\"id\":\"404d998b-6f1b-4284-a86b-7eb51952cee4\",\"type\":\"WheelZoomTool\"},{\"attributes\":{\"label\":{\"value\":\"CRD\"},\"renderers\":[{\"id\":\"1e4045c6-4e54-4d98-83c9-7b9a28a9d782\",\"type\":\"GlyphRenderer\"},{\"id\":\"4187eafc-69b3-4e1a-9bb2-b433ce0a304a\",\"type\":\"GlyphRenderer\"}]},\"id\":\"8f2b7885-fa4f-49ea-9746-4834e6583761\",\"type\":\"LegendItem\"},{\"attributes\":{\"dimension\":1,\"plot\":{\"id\":\"1538a362-1cf0-4fd9-b2db-074cbf7c0f5f\",\"subtype\":\"Figure\",\"type\":\"Plot\"},\"ticker\":{\"id\":\"daededa1-c974-4003-9331-4bfaa51ad3ca\",\"type\":\"LogTicker\"}},\"id\":\"b963a272-b736-400c-8c48-cf6eccf15958\",\"type\":\"Grid\"},{\"attributes\":{\"above\":[{\"id\":\"bb386dc7-9fa5-45ab-b602-76eefc434790\",\"type\":\"Legend\"}],\"below\":[{\"id\":\"5308dff2-6720-4efe-a84d-75f17e253df6\",\"type\":\"LinearAxis\"}],\"left\":[{\"id\":\"c46e6af5-4e5d-444c-a9fa-44ef76e83338\",\"type\":\"LogAxis\"}],\"plot_width\":300,\"renderers\":[{\"id\":\"5308dff2-6720-4efe-a84d-75f17e253df6\",\"type\":\"LinearAxis\"},{\"id\":\"02c93de8-1bea-492e-b5c2-c97d6fa90c40\",\"type\":\"Grid\"},{\"id\":\"c46e6af5-4e5d-444c-a9fa-44ef76e83338\",\"type\":\"LogAxis\"},{\"id\":\"b963a272-b736-400c-8c48-cf6eccf15958\",\"type\":\"Grid\"},{\"id\":\"7eb1fe8d-5795-4fd6-b5fb-3dad59428af7\",\"type\":\"BoxAnnotation\"},{\"id\":\"7db9c4ed-c6ad-466f-a434-978687538898\",\"type\":\"GlyphRenderer\"},{\"id\":\"18377b92-0f1c-4b35-ad3a-e226dfe9254d\",\"type\":\"GlyphRenderer\"},{\"id\":\"bb386dc7-9fa5-45ab-b602-76eefc434790\",\"type\":\"Legend\"}],\"title\":{\"id\":\"40385660-5975-4713-a7dd-55e306ab06b7\",\"type\":\"Title\"},\"toolbar\":{\"id\":\"57bc7fbc-0410-4784-8b15-29f5e9757740\",\"type\":\"Toolbar\"},\"toolbar_location\":null,\"x_range\":{\"id\":\"cc123e71-9291-475a-9483-2951d2a6ef98\",\"type\":\"Range1d\"},\"x_scale\":{\"id\":\"f8c5aa7c-03bc-4397-b2f6-53597b995e76\",\"type\":\"LinearScale\"},\"y_range\":{\"id\":\"408be10f-44d3-43fc-ac40-0e3ba9407718\",\"type\":\"Range1d\"},\"y_scale\":{\"id\":\"b5d35837-cfc6-45e3-b382-bea9af612b06\",\"type\":\"LogScale\"}},\"id\":\"1538a362-1cf0-4fd9-b2db-074cbf7c0f5f\",\"subtype\":\"Figure\",\"type\":\"Plot\"},{\"attributes\":{\"active_drag\":\"auto\",\"active_inspect\":\"auto\",\"active_scroll\":\"auto\",\"active_tap\":\"auto\",\"tools\":[{\"id\":\"23e5a64d-102d-4623-9fbc-02d2e5245142\",\"type\":\"PanTool\"},{\"id\":\"3fbfd1d3-0a89-4e70-8e7e-234c7da98852\",\"type\":\"WheelZoomTool\"},{\"id\":\"b179635f-501b-4432-8f04-ce0e646c666f\",\"type\":\"BoxZoomTool\"},{\"id\":\"bab1f3ec-ae0d-40f5-b1f5-060fdc10dbed\",\"type\":\"SaveTool\"},{\"id\":\"63d430e3-28ff-4995-8b9e-3bd67266602d\",\"type\":\"ResetTool\"},{\"id\":\"1979ab25-8d79-40b4-927b-38c9e15335c2\",\"type\":\"HelpTool\"}]},\"id\":\"57bc7fbc-0410-4784-8b15-29f5e9757740\",\"type\":\"Toolbar\"},{\"attributes\":{},\"id\":\"2bc18e69-cc2f-4f35-9a78-413daf092261\",\"type\":\"UnionRenderers\"},{\"attributes\":{\"data_source\":{\"id\":\"926a66db-bdf8-475a-bffa-b59da84fc554\",\"type\":\"ColumnDataSource\"},\"glyph\":{\"id\":\"2a6ef45b-db43-42c6-96c2-6c3e7c3a43ee\",\"type\":\"Circle\"},\"hover_glyph\":null,\"muted_glyph\":null,\"nonselection_glyph\":{\"id\":\"d8a0885a-6ea7-492c-85a8-aab063d4970d\",\"type\":\"Circle\"},\"selection_glyph\":null,\"view\":{\"id\":\"26890e01-fae8-4cc4-939b-ed036b757e86\",\"type\":\"CDSView\"}},\"id\":\"7db9c4ed-c6ad-466f-a434-978687538898\",\"type\":\"GlyphRenderer\"},{\"attributes\":{},\"id\":\"8368d805-43c6-4f5c-b0af-83a317045af0\",\"type\":\"BasicTicker\"},{\"attributes\":{\"fill_alpha\":{\"value\":0.7},\"fill_color\":{\"value\":\"#984ea3\"},\"line_alpha\":{\"value\":0.7},\"line_color\":{\"value\":\"#984ea3\"},\"x\":{\"field\":\"x\"},\"y\":{\"field\":\"y\"}},\"id\":\"2a6ef45b-db43-42c6-96c2-6c3e7c3a43ee\",\"type\":\"Circle\"},{\"attributes\":{\"axis_label\":\"cooling rate [K/day]\",\"formatter\":{\"id\":\"b9a95819-5b6d-4049-b704-d6e28583dd98\",\"type\":\"BasicTickFormatter\"},\"plot\":{\"id\":\"1538a362-1cf0-4fd9-b2db-074cbf7c0f5f\",\"subtype\":\"Figure\",\"type\":\"Plot\"},\"ticker\":{\"id\":\"8f8abee3-c53b-4d8e-8a1a-2d390a0bef6d\",\"type\":\"BasicTicker\"}},\"id\":\"5308dff2-6720-4efe-a84d-75f17e253df6\",\"type\":\"LinearAxis\"},{\"attributes\":{},\"id\":\"8a242d35-15ab-4d90-b4ff-52ed80a34e15\",\"type\":\"UnionRenderers\"},{\"attributes\":{\"callback\":null,\"data\":{\"x\":{\"__ndarray__\":\"SQyxGSuWQEBhQffNA488QKxYHyvuWz5ALd+LPE72PkAjPx9ZZwg+QNPUOHFBiztAdD7apLbaN0CUAB7KddMzQCB9YltCgjBARzfA8+lFLUCVYMR0eVUsQPWQG/yU3ixA9TTT5Im8LUC0oTM23EItQD7sOnN9qCpARCjvnZpQJ0Dpxgc0XH8kQF05m48O3CJAcIA1UZ+vIkC2ZdsUW8gjQESvg9LmOCZAQ8FJRw28JUCNP/OKFjohQKBWWMq+ixlAeMTfjE2WE0D29TYz2QsQQFfTYo/zIQtAz/zmdr8yBkC/s/pA4IYCQJIvt3jcGQBAxNjeiKnY/T+1pMwBqMf5P/QRV1O7UfU//ahsYLh+8j+JHeyEQAvxP+C69j5iMfA/Dz2v62MW7D+D4/RmZxPmP/Vt11oWLuQ/n6DY8DxL5D9m6KOqWhflP2n4D0uUwuQ/UJ1jq5cI5D+nEwtxYubiPxCGaHXEbt8/tjBXe+JzHEDvWiXEkxMWQNc6TnKT8tg/IFJZ+rPZGUCltgtSXurgP79KgxcmhCZAlfxsweK5JcC/dnZFmM/Nvyzn5qKkC7q/lCPA4WGtKb+ZCA8rwJ21P5zDa9WeK8Q/pVLfncZdzD88FkOIF6PRP/FnUxGJi9Q/b13z452u1j9gGBCgdlbYP4V+RqNriNk/6m77f4yp2j/bHECmCTDcP6+F9j0s7N4/TAWNP2cPJkACPpWMyVoGQNTTi0YsFcQ/PLjOzoivBUD7L4Sj+oPMP36J1ChBOcQ/Wrm1fPJLsz9QEbx8U5c0Py13T1ulvMC/\",\"dtype\":\"float64\",\"shape\":[75]},\"y\":{\"__ndarray__\":\"GhExyth1ND/Sv8nbtpRIP2vylNV0PVE/aTum7souWD/At0SJ8fVgPw3Iuahxymc/MSNhhJWvcD/bTfBN02d3P2zb5nxnaoA/CD5h5MAGhz8NmeH1TyaQP+zrCsc9p5Y/LbKd76fGnz/bLW5ISEmmPww9YvTcQq8/JV2OstnstT8Er5Y7M8G+P0c+r3jqkcU/5h99k6ZBzj88bCIzFzjVP4enV8oyxN0//yH99nXg5D8qOpLLf0jtP5kqGJXUifQ/c9cS8kHP/D+/DpwzojQEQIEmwoanVwxA4lgXt9HgE0BSSZ2AJuIbQAMJih9jjiNA5q4l5INuK0AwTKYKRj0zQNv5fmq8/DpAaCJseHrtQkB/+zpwzoxKQM3MzMzMeFJAZmZmZmZqWEAAAAAAAFxeQM3MzMzMJmJAmpmZmZkfZUBmZmZmZhhoQDMzMzMzEWtAAAAAAAAKbkBmZmZmZoFwQM3MzMzM/XFAMzMzMzN6c0CamZmZmfZ0QAAAAAAAc3ZAZmZmZmbvd0DNzMzMzGt5QDMzMzMz6HpAmpmZmZlkfEAAAAAAAOF9QGZmZmZmXX9AZmZmZuZsgECamZmZGSuBQM3MzMxM6YFAAAAAAICngkAzMzMzs2WDQGZmZmbmI4RAmpmZmRnihEDNzMzMTKCFQAAAAACAXoZAMzMzM7Mch0BmZmZm5tqHQJqZmZkZmYhAzczMzExXiUAAAAAAgBWKQDMzMzOz04pAZmZmZuaRi0CamZmZGVCMQM3MzMxMDo1AAAAAAIDMjUAzMzMzs4qOQGZmZmbmSI9A\",\"dtype\":\"float64\",\"shape\":[75]}},\"selected\":{\"id\":\"ef6d9ced-f2b4-4397-a60c-defdfb37ae85\",\"type\":\"Selection\"},\"selection_policy\":{\"id\":\"71d1ad6f-4ad3-49a0-9db1-d6f470e68566\",\"type\":\"UnionRenderers\"}},\"id\":\"609ec1e1-696c-4479-87b4-ba5a919133e5\",\"type\":\"ColumnDataSource\"},{\"attributes\":{},\"id\":\"ad0bbfa1-5a70-4e74-9560-69d745180407\",\"type\":\"ResetTool\"},{\"attributes\":{\"line_alpha\":0.6,\"line_color\":\"#377eb8\",\"line_dash\":[6],\"line_width\":5,\"x\":{\"field\":\"x\"},\"y\":{\"field\":\"y\"}},\"id\":\"04c6085b-39ac-4c85-bfcd-9dd84da93000\",\"type\":\"Line\"},{\"attributes\":{\"line_alpha\":0.1,\"line_color\":\"#1f77b4\",\"line_dash\":[6],\"line_width\":5,\"x\":{\"field\":\"x\"},\"y\":{\"field\":\"y\"}},\"id\":\"ff47bb17-f6c0-47f1-8b2b-6a888a36b493\",\"type\":\"Line\"},{\"attributes\":{\"active_drag\":\"auto\",\"active_inspect\":\"auto\",\"active_scroll\":\"auto\",\"active_tap\":\"auto\",\"tools\":[{\"id\":\"88416ac0-9ac7-450b-80ff-352d6ccef62d\",\"type\":\"PanTool\"},{\"id\":\"404d998b-6f1b-4284-a86b-7eb51952cee4\",\"type\":\"WheelZoomTool\"},{\"id\":\"9b748ab0-bc27-4001-8583-13b92d097e06\",\"type\":\"BoxZoomTool\"},{\"id\":\"52238f7f-a14e-4ba6-94cd-3c9ee1fcde52\",\"type\":\"SaveTool\"},{\"id\":\"ad0bbfa1-5a70-4e74-9560-69d745180407\",\"type\":\"ResetTool\"},{\"id\":\"6a0fea9c-5ac9-41b0-8af9-f27564514194\",\"type\":\"HelpTool\"}]},\"id\":\"9aeb4dcc-c6b2-4d2a-8fc4-dd913249f918\",\"type\":\"Toolbar\"},{\"attributes\":{\"data_source\":{\"id\":\"02968636-e14a-4274-bf86-01c11aeb5f77\",\"type\":\"ColumnDataSource\"},\"glyph\":{\"id\":\"4ba76809-150d-482f-a3b9-b06074c940fd\",\"type\":\"Line\"},\"hover_glyph\":null,\"muted_glyph\":null,\"nonselection_glyph\":{\"id\":\"22f55e1f-0a55-4d88-99fa-5de15e149d57\",\"type\":\"Line\"},\"selection_glyph\":null,\"view\":{\"id\":\"61ac1c54-6182-4969-8519-6cebdb2163c2\",\"type\":\"CDSView\"}},\"id\":\"9a841cbb-3acf-4b88-9f9e-191e9829cf98\",\"type\":\"GlyphRenderer\"},{\"attributes\":{\"source\":{\"id\":\"be42d511-b173-4a1c-90d2-2b78ac5dcfb0\",\"type\":\"ColumnDataSource\"}},\"id\":\"0fec7d39-cc87-4754-9e31-b4b593532ecf\",\"type\":\"CDSView\"},{\"attributes\":{\"callback\":null,\"end\":0.01,\"start\":1020},\"id\":\"8913dd9d-655a-4406-ae8e-c6a83d834cc6\",\"type\":\"Range1d\"},{\"attributes\":{\"source\":{\"id\":\"5cf8a4d4-4362-438f-8860-129300bf424f\",\"type\":\"ColumnDataSource\"}},\"id\":\"933b5664-19ee-4712-ad15-102c96f1722f\",\"type\":\"CDSView\"},{\"attributes\":{\"ticker\":null},\"id\":\"1fdb5e01-bdba-4e4b-a44d-301a9f4f713d\",\"type\":\"LogTickFormatter\"},{\"attributes\":{\"tools\":[{\"id\":\"88416ac0-9ac7-450b-80ff-352d6ccef62d\",\"type\":\"PanTool\"},{\"id\":\"404d998b-6f1b-4284-a86b-7eb51952cee4\",\"type\":\"WheelZoomTool\"},{\"id\":\"9b748ab0-bc27-4001-8583-13b92d097e06\",\"type\":\"BoxZoomTool\"},{\"id\":\"52238f7f-a14e-4ba6-94cd-3c9ee1fcde52\",\"type\":\"SaveTool\"},{\"id\":\"ad0bbfa1-5a70-4e74-9560-69d745180407\",\"type\":\"ResetTool\"},{\"id\":\"6a0fea9c-5ac9-41b0-8af9-f27564514194\",\"type\":\"HelpTool\"},{\"id\":\"9fff2caf-33fd-435d-80ff-bd273378e073\",\"type\":\"PanTool\"},{\"id\":\"6a7e857b-1e84-4396-bd4a-47139696a3f7\",\"type\":\"WheelZoomTool\"},{\"id\":\"61acb0f2-c735-4f19-97fc-34578a23b4ed\",\"type\":\"BoxZoomTool\"},{\"id\":\"731c0b2d-ec48-413a-b2c2-e2d0791b6285\",\"type\":\"SaveTool\"},{\"id\":\"dc7ba205-a87b-4e8e-866a-5b0e02bd3b10\",\"type\":\"ResetTool\"},{\"id\":\"6aa2da7e-4f83-4af4-b2d5-e356068cb7b4\",\"type\":\"HelpTool\"},{\"id\":\"23e5a64d-102d-4623-9fbc-02d2e5245142\",\"type\":\"PanTool\"},{\"id\":\"3fbfd1d3-0a89-4e70-8e7e-234c7da98852\",\"type\":\"WheelZoomTool\"},{\"id\":\"b179635f-501b-4432-8f04-ce0e646c666f\",\"type\":\"BoxZoomTool\"},{\"id\":\"bab1f3ec-ae0d-40f5-b1f5-060fdc10dbed\",\"type\":\"SaveTool\"},{\"id\":\"63d430e3-28ff-4995-8b9e-3bd67266602d\",\"type\":\"ResetTool\"},{\"id\":\"1979ab25-8d79-40b4-927b-38c9e15335c2\",\"type\":\"HelpTool\"}]},\"id\":\"1b00159d-e31c-4fa1-9ca0-604ac2bf3262\",\"type\":\"ProxyToolbar\"},{\"attributes\":{\"source\":{\"id\":\"02968636-e14a-4274-bf86-01c11aeb5f77\",\"type\":\"ColumnDataSource\"}},\"id\":\"61ac1c54-6182-4969-8519-6cebdb2163c2\",\"type\":\"CDSView\"},{\"attributes\":{},\"id\":\"8c83aefc-c625-43a0-b527-50da469ed5c1\",\"type\":\"Selection\"},{\"attributes\":{\"line_color\":\"#4daf4a\",\"line_width\":1.5,\"x\":{\"field\":\"x\"},\"y\":{\"field\":\"y\"}},\"id\":\"d506b889-2d88-4e33-8867-8884b6cdbd93\",\"type\":\"Line\"},{\"attributes\":{\"callback\":null,\"data\":{\"x\":{\"__ndarray__\":\"0CYBcvU5UkCik9zf2GVBQF1VoNfLZ0BAVLxhiVXTPUDD1Wu1wJM6QFJyB025jjdAU6Aw5+b/NECYe1uuDfgyQB6bYtVTbTFAPxYSAF1HMEA00pYVm9QuQLolHbMzgC1AntlwirGsLECv+G9SjE4rQJH6ZLBp0ShAsLZQyPd/JkDyjgyf2PwkQLgyNGsrJyRAA13QbJD6I0C8hy0ilI4kQOVTXCEgcSZAovOGvZSGJUBVc/ZmUOIgQOf/6GHAyRlAcE8fAOBSFEDRur1U//gPQGFD9ZbokghAQsqHuSqSA0C91ci3W0UBQCtRQfvz7/4/kh8pntyB+j9t1/n+4TX1P773MAUjFfI/RgzR+CI28T8hBW8WHK7uPzVKjJfU8uk/0FPt4/z65T/wVYqzMPDhPz7K9C5CXuE/8+hSn9hY4T/9PPCkR6rhP1XsIC599OA/66X1nBCX3z/YbRM56QjcPz4dkSQc/dM/S7Wb8Fq00T+/yQdmX0vcP7TrGf476eM/WqNPJoWO7D9qOH1bcwDzP2bw+R5DQ/Y/RLSuQOQp+D8+aif8yAz5P0Wv6eBKRfk/0i2+IN4R+T/ik8QNFZr4PyS5UD5j/Pc/yJ68zXRG9z/2CHPL54H2P59SOhwKtPU/npkP8dfg9D8NlmVcdQz0P80ugRvuOvM/byxiAHN18j9USVZie8nxP5l9lNXYSPE/OB+F0UYP8T8Y7dsUCTHxP3EBgTHPcPE/bfx15p8S8T8FT+xkGtTuP6mdG7rkxuk/pboqTkHX5D/CrN8qGYngP7R4ZaL+htU/\",\"dtype\":\"float64\",\"shape\":[75]},\"y\":{\"__ndarray__\":\"GhExyth1ND/Sv8nbtpRIP2vylNV0PVE/aTum7souWD/At0SJ8fVgPw3Iuahxymc/MSNhhJWvcD/bTfBN02d3P2zb5nxnaoA/CD5h5MAGhz8NmeH1TyaQP+zrCsc9p5Y/LbKd76fGnz/bLW5ISEmmPww9YvTcQq8/JV2OstnstT8Er5Y7M8G+P0c+r3jqkcU/5h99k6ZBzj88bCIzFzjVP4enV8oyxN0//yH99nXg5D8qOpLLf0jtP5kqGJXUifQ/c9cS8kHP/D+/DpwzojQEQIEmwoanVwxA4lgXt9HgE0BSSZ2AJuIbQAMJih9jjiNA5q4l5INuK0AwTKYKRj0zQNv5fmq8/DpAaCJseHrtQkB/+zpwzoxKQM3MzMzMeFJAZmZmZmZqWEAAAAAAAFxeQM3MzMzMJmJAmpmZmZkfZUBmZmZmZhhoQDMzMzMzEWtAAAAAAAAKbkBmZmZmZoFwQM3MzMzM/XFAMzMzMzN6c0CamZmZmfZ0QAAAAAAAc3ZAZmZmZmbvd0DNzMzMzGt5QDMzMzMz6HpAmpmZmZlkfEAAAAAAAOF9QGZmZmZmXX9AZmZmZuZsgECamZmZGSuBQM3MzMxM6YFAAAAAAICngkAzMzMzs2WDQGZmZmbmI4RAmpmZmRnihEDNzMzMTKCFQAAAAACAXoZAMzMzM7Mch0BmZmZm5tqHQJqZmZkZmYhAzczMzExXiUAAAAAAgBWKQDMzMzOz04pAZmZmZuaRi0CamZmZGVCMQM3MzMxMDo1AAAAAAIDMjUAzMzMzs4qOQGZmZmbmSI9A\",\"dtype\":\"float64\",\"shape\":[75]}},\"selected\":{\"id\":\"267f841e-f5b4-43be-a3ad-03ab78547fd1\",\"type\":\"Selection\"},\"selection_policy\":{\"id\":\"8a242d35-15ab-4d90-b4ff-52ed80a34e15\",\"type\":\"UnionRenderers\"}},\"id\":\"5cf8a4d4-4362-438f-8860-129300bf424f\",\"type\":\"ColumnDataSource\"},{\"attributes\":{\"data_source\":{\"id\":\"be42d511-b173-4a1c-90d2-2b78ac5dcfb0\",\"type\":\"ColumnDataSource\"},\"glyph\":{\"id\":\"d506b889-2d88-4e33-8867-8884b6cdbd93\",\"type\":\"Line\"},\"hover_glyph\":null,\"muted_glyph\":null,\"nonselection_glyph\":{\"id\":\"c11b6954-b33e-407c-9fb5-42c30c9b1624\",\"type\":\"Line\"},\"selection_glyph\":null,\"view\":{\"id\":\"0fec7d39-cc87-4754-9e31-b4b593532ecf\",\"type\":\"CDSView\"}},\"id\":\"4187eafc-69b3-4e1a-9bb2-b433ce0a304a\",\"type\":\"GlyphRenderer\"},{\"attributes\":{\"fill_alpha\":{\"value\":0.1},\"fill_color\":{\"value\":\"#1f77b4\"},\"line_alpha\":{\"value\":0.1},\"line_color\":{\"value\":\"#1f77b4\"},\"x\":{\"field\":\"x\"},\"y\":{\"field\":\"y\"}},\"id\":\"5c48a7e3-af2c-46cd-bd25-80e4349ea989\",\"type\":\"Circle\"},{\"attributes\":{\"line_alpha\":0.1,\"line_color\":\"#1f77b4\",\"line_width\":1.5,\"x\":{\"field\":\"x\"},\"y\":{\"field\":\"y\"}},\"id\":\"c11b6954-b33e-407c-9fb5-42c30c9b1624\",\"type\":\"Line\"},{\"attributes\":{\"fill_alpha\":{\"value\":0.7},\"fill_color\":{\"value\":\"#4daf4a\"},\"line_alpha\":{\"value\":0.7},\"line_color\":{\"value\":\"#4daf4a\"},\"x\":{\"field\":\"x\"},\"y\":{\"field\":\"y\"}},\"id\":\"7b7335ae-9944-4ad4-b4a5-772b7d3f1453\",\"type\":\"Circle\"},{\"attributes\":{\"line_alpha\":0.1,\"line_color\":\"#1f77b4\",\"line_dash\":[6],\"line_width\":5,\"x\":{\"field\":\"x\"},\"y\":{\"field\":\"y\"}},\"id\":\"22f55e1f-0a55-4d88-99fa-5de15e149d57\",\"type\":\"Line\"},{\"attributes\":{\"toolbar\":{\"id\":\"1b00159d-e31c-4fa1-9ca0-604ac2bf3262\",\"type\":\"ProxyToolbar\"},\"toolbar_location\":\"above\"},\"id\":\"22ec9883-5845-485e-b2fb-087a21f5792c\",\"type\":\"ToolbarBox\"},{\"attributes\":{\"data_source\":{\"id\":\"5cf8a4d4-4362-438f-8860-129300bf424f\",\"type\":\"ColumnDataSource\"},\"glyph\":{\"id\":\"7b7335ae-9944-4ad4-b4a5-772b7d3f1453\",\"type\":\"Circle\"},\"hover_glyph\":null,\"muted_glyph\":null,\"nonselection_glyph\":{\"id\":\"5c48a7e3-af2c-46cd-bd25-80e4349ea989\",\"type\":\"Circle\"},\"selection_glyph\":null,\"view\":{\"id\":\"933b5664-19ee-4712-ad15-102c96f1722f\",\"type\":\"CDSView\"}},\"id\":\"1e4045c6-4e54-4d98-83c9-7b9a28a9d782\",\"type\":\"GlyphRenderer\"},{\"attributes\":{\"callback\":null,\"data\":{\"x\":{\"__ndarray__\":\"0CYBcvU5UkCik9zf2GVBQF1VoNfLZ0BAVLxhiVXTPUDD1Wu1wJM6QFJyB025jjdAU6Aw5+b/NECYe1uuDfgyQB6bYtVTbTFAPxYSAF1HMEA00pYVm9QuQLolHbMzgC1AntlwirGsLECv+G9SjE4rQJH6ZLBp0ShAsLZQyPd/JkDyjgyf2PwkQLgyNGsrJyRAA13QbJD6I0C8hy0ilI4kQOVTXCEgcSZAovOGvZSGJUBVc/ZmUOIgQOf/6GHAyRlAcE8fAOBSFEDRur1U//gPQGFD9ZbokghAQsqHuSqSA0C91ci3W0UBQCtRQfvz7/4/kh8pntyB+j9t1/n+4TX1P773MAUjFfI/RgzR+CI28T8hBW8WHK7uPzVKjJfU8uk/0FPt4/z65T/wVYqzMPDhPz7K9C5CXuE/8+hSn9hY4T/9PPCkR6rhP1XsIC599OA/66X1nBCX3z/YbRM56QjcPz4dkSQc/dM/S7Wb8Fq00T+/yQdmX0vcP7TrGf476eM/WqNPJoWO7D9qOH1bcwDzP2bw+R5DQ/Y/RLSuQOQp+D8+aif8yAz5P0Wv6eBKRfk/0i2+IN4R+T/ik8QNFZr4PyS5UD5j/Pc/yJ68zXRG9z/2CHPL54H2P59SOhwKtPU/npkP8dfg9D8NlmVcdQz0P80ugRvuOvM/byxiAHN18j9USVZie8nxP5l9lNXYSPE/OB+F0UYP8T8Y7dsUCTHxP3EBgTHPcPE/bfx15p8S8T8FT+xkGtTuP6mdG7rkxuk/pboqTkHX5D/CrN8qGYngP7R4ZaL+htU/\",\"dtype\":\"float64\",\"shape\":[75]},\"y\":{\"__ndarray__\":\"GhExyth1ND/Sv8nbtpRIP2vylNV0PVE/aTum7souWD/At0SJ8fVgPw3Iuahxymc/MSNhhJWvcD/bTfBN02d3P2zb5nxnaoA/CD5h5MAGhz8NmeH1TyaQP+zrCsc9p5Y/LbKd76fGnz/bLW5ISEmmPww9YvTcQq8/JV2OstnstT8Er5Y7M8G+P0c+r3jqkcU/5h99k6ZBzj88bCIzFzjVP4enV8oyxN0//yH99nXg5D8qOpLLf0jtP5kqGJXUifQ/c9cS8kHP/D+/DpwzojQEQIEmwoanVwxA4lgXt9HgE0BSSZ2AJuIbQAMJih9jjiNA5q4l5INuK0AwTKYKRj0zQNv5fmq8/DpAaCJseHrtQkB/+zpwzoxKQM3MzMzMeFJAZmZmZmZqWEAAAAAAAFxeQM3MzMzMJmJAmpmZmZkfZUBmZmZmZhhoQDMzMzMzEWtAAAAAAAAKbkBmZmZmZoFwQM3MzMzM/XFAMzMzMzN6c0CamZmZmfZ0QAAAAAAAc3ZAZmZmZmbvd0DNzMzMzGt5QDMzMzMz6HpAmpmZmZlkfEAAAAAAAOF9QGZmZmZmXX9AZmZmZuZsgECamZmZGSuBQM3MzMxM6YFAAAAAAICngkAzMzMzs2WDQGZmZmbmI4RAmpmZmRnihEDNzMzMTKCFQAAAAACAXoZAMzMzM7Mch0BmZmZm5tqHQJqZmZkZmYhAzczMzExXiUAAAAAAgBWKQDMzMzOz04pAZmZmZuaRi0CamZmZGVCMQM3MzMxMDo1AAAAAAIDMjUAzMzMzs4qOQGZmZmbmSI9A\",\"dtype\":\"float64\",\"shape\":[75]}},\"selected\":{\"id\":\"6ca8edca-01a2-4bc5-bf5c-14d2936399d1\",\"type\":\"Selection\"},\"selection_policy\":{\"id\":\"4689e2b0-bf34-4c8e-8079-f7f2dff09376\",\"type\":\"UnionRenderers\"}},\"id\":\"be42d511-b173-4a1c-90d2-2b78ac5dcfb0\",\"type\":\"ColumnDataSource\"},{\"attributes\":{\"items\":[{\"id\":\"7623dde0-cbc8-47bc-bfbe-d489d9d7fa08\",\"type\":\"LegendItem\"},{\"id\":\"8f2b7885-fa4f-49ea-9746-4834e6583761\",\"type\":\"LegendItem\"}],\"label_text_font_size\":{\"value\":\"8pt\"},\"location\":\"top_center\",\"orientation\":\"horizontal\",\"plot\":{\"id\":\"33734012-a1ff-4c7f-a92a-a901dd5c01ec\",\"subtype\":\"Figure\",\"type\":\"Plot\"}},\"id\":\"87615fb4-9153-4345-8482-1d16cd22fb6f\",\"type\":\"Legend\"},{\"attributes\":{\"above\":[{\"id\":\"0a0fe573-1ab0-4ed5-90ff-299b1bac533b\",\"type\":\"Legend\"}],\"below\":[{\"id\":\"7c30b265-6799-4685-b364-4e98444a6aa2\",\"type\":\"LinearAxis\"}],\"left\":[{\"id\":\"1aa114f2-490f-4632-9d38-729acf67acb2\",\"type\":\"LinearAxis\"}],\"plot_width\":300,\"renderers\":[{\"id\":\"7c30b265-6799-4685-b364-4e98444a6aa2\",\"type\":\"LinearAxis\"},{\"id\":\"13df8ddd-ff78-4c81-8f0c-bc50d9c11b9b\",\"type\":\"Grid\"},{\"id\":\"1aa114f2-490f-4632-9d38-729acf67acb2\",\"type\":\"LinearAxis\"},{\"id\":\"81134bf8-c909-4482-a9dd-a1289ddda28c\",\"type\":\"Grid\"},{\"id\":\"452b1ffb-a750-4cd5-94bf-b57997ce0cd5\",\"type\":\"BoxAnnotation\"},{\"id\":\"1f138138-4340-4799-a868-1378cf4b29aa\",\"type\":\"GlyphRenderer\"},{\"id\":\"ad95c080-a662-4b13-8642-eb4acaec3798\",\"type\":\"GlyphRenderer\"},{\"id\":\"05ea75da-bfc8-4eba-98ff-be4b88d1deb1\",\"type\":\"GlyphRenderer\"},{\"id\":\"0a0fe573-1ab0-4ed5-90ff-299b1bac533b\",\"type\":\"Legend\"}],\"title\":{\"id\":\"c116f3e2-dce0-4593-a088-130a9ced9edf\",\"type\":\"Title\"},\"toolbar\":{\"id\":\"9aeb4dcc-c6b2-4d2a-8fc4-dd913249f918\",\"type\":\"Toolbar\"},\"toolbar_location\":null,\"x_range\":{\"id\":\"f916996e-ef56-4237-88d5-c8c3531887bf\",\"type\":\"Range1d\"},\"x_scale\":{\"id\":\"f622f0ca-2f52-4677-8795-f68e9bfee47f\",\"type\":\"LinearScale\"},\"y_range\":{\"id\":\"623d152d-16c2-4bcf-823e-299620684ddf\",\"type\":\"Range1d\"},\"y_scale\":{\"id\":\"081d0156-8524-4fc2-82fe-87a7f7a3b40b\",\"type\":\"LinearScale\"}},\"id\":\"318b30be-a0b3-4b5d-86a3-8e0858d34ecf\",\"subtype\":\"Figure\",\"type\":\"Plot\"},{\"attributes\":{\"callback\":null,\"end\":16.436129494999037,\"start\":0.38472880768496},\"id\":\"d0cf3abd-774f-456d-95d5-697ef4e5c301\",\"type\":\"Range1d\"},{\"attributes\":{\"plot\":null,\"text\":\"\"},\"id\":\"40385660-5975-4713-a7dd-55e306ab06b7\",\"type\":\"Title\"},{\"attributes\":{\"callback\":null,\"data\":{\"x\":{\"__ndarray__\":\"SQyxGSuWQEBhQffNA488QKxYHyvuWz5ALd+LPE72PkAjPx9ZZwg+QNPUOHFBiztAdD7apLbaN0CUAB7KddMzQCB9YltCgjBARzfA8+lFLUCVYMR0eVUsQPWQG/yU3ixA9TTT5Im8LUC0oTM23EItQD7sOnN9qCpARCjvnZpQJ0Dpxgc0XH8kQF05m48O3CJAcIA1UZ+vIkC2ZdsUW8gjQESvg9LmOCZAQ8FJRw28JUCNP/OKFjohQKBWWMq+ixlAeMTfjE2WE0D29TYz2QsQQFfTYo/zIQtAz/zmdr8yBkC/s/pA4IYCQJIvt3jcGQBAxNjeiKnY/T+1pMwBqMf5P/QRV1O7UfU//ahsYLh+8j+JHeyEQAvxP+C69j5iMfA/Dz2v62MW7D+D4/RmZxPmP/Vt11oWLuQ/n6DY8DxL5D9m6KOqWhflP2n4D0uUwuQ/UJ1jq5cI5D+nEwtxYubiPxCGaHXEbt8/tjBXe+JzHEDvWiXEkxMWQNc6TnKT8tg/IFJZ+rPZGUCltgtSXurgP79KgxcmhCZAlfxsweK5JcC/dnZFmM/Nvyzn5qKkC7q/lCPA4WGtKb+ZCA8rwJ21P5zDa9WeK8Q/pVLfncZdzD88FkOIF6PRP/FnUxGJi9Q/b13z452u1j9gGBCgdlbYP4V+RqNriNk/6m77f4yp2j/bHECmCTDcP6+F9j0s7N4/TAWNP2cPJkACPpWMyVoGQNTTi0YsFcQ/PLjOzoivBUD7L4Sj+oPMP36J1ChBOcQ/Wrm1fPJLsz9QEbx8U5c0Py13T1ulvMC/\",\"dtype\":\"float64\",\"shape\":[75]},\"y\":{\"__ndarray__\":\"GhExyth1ND/Sv8nbtpRIP2vylNV0PVE/aTum7souWD/At0SJ8fVgPw3Iuahxymc/MSNhhJWvcD/bTfBN02d3P2zb5nxnaoA/CD5h5MAGhz8NmeH1TyaQP+zrCsc9p5Y/LbKd76fGnz/bLW5ISEmmPww9YvTcQq8/JV2OstnstT8Er5Y7M8G+P0c+r3jqkcU/5h99k6ZBzj88bCIzFzjVP4enV8oyxN0//yH99nXg5D8qOpLLf0jtP5kqGJXUifQ/c9cS8kHP/D+/DpwzojQEQIEmwoanVwxA4lgXt9HgE0BSSZ2AJuIbQAMJih9jjiNA5q4l5INuK0AwTKYKRj0zQNv5fmq8/DpAaCJseHrtQkB/+zpwzoxKQM3MzMzMeFJAZmZmZmZqWEAAAAAAAFxeQM3MzMzMJmJAmpmZmZkfZUBmZmZmZhhoQDMzMzMzEWtAAAAAAAAKbkBmZmZmZoFwQM3MzMzM/XFAMzMzMzN6c0CamZmZmfZ0QAAAAAAAc3ZAZmZmZmbvd0DNzMzMzGt5QDMzMzMz6HpAmpmZmZlkfEAAAAAAAOF9QGZmZmZmXX9AZmZmZuZsgECamZmZGSuBQM3MzMxM6YFAAAAAAICngkAzMzMzs2WDQGZmZmbmI4RAmpmZmRnihEDNzMzMTKCFQAAAAACAXoZAMzMzM7Mch0BmZmZm5tqHQJqZmZkZmYhAzczMzExXiUAAAAAAgBWKQDMzMzOz04pAZmZmZuaRi0CamZmZGVCMQM3MzMxMDo1AAAAAAIDMjUAzMzMzs4qOQGZmZmbmSI9A\",\"dtype\":\"float64\",\"shape\":[75]}},\"selected\":{\"id\":\"0ad320e8-9bb8-4120-9eaa-5af6beb9760a\",\"type\":\"Selection\"},\"selection_policy\":{\"id\":\"2bc18e69-cc2f-4f35-9a78-413daf092261\",\"type\":\"UnionRenderers\"}},\"id\":\"02968636-e14a-4274-bf86-01c11aeb5f77\",\"type\":\"ColumnDataSource\"},{\"attributes\":{\"fill_alpha\":{\"value\":0.7},\"fill_color\":{\"value\":\"#4daf4a\"},\"line_alpha\":{\"value\":0.7},\"line_color\":{\"value\":\"#4daf4a\"},\"x\":{\"field\":\"x\"},\"y\":{\"field\":\"y\"}},\"id\":\"52e066a9-2b45-4780-b8b3-1e4e9c0c56a3\",\"type\":\"Circle\"},{\"attributes\":{\"source\":{\"id\":\"609ec1e1-696c-4479-87b4-ba5a919133e5\",\"type\":\"ColumnDataSource\"}},\"id\":\"6d6cc3e0-95ee-4963-936e-b5aa2add3ba6\",\"type\":\"CDSView\"},{\"attributes\":{\"above\":[{\"id\":\"87615fb4-9153-4345-8482-1d16cd22fb6f\",\"type\":\"Legend\"}],\"below\":[{\"id\":\"9df38bfc-789d-4798-a741-bb03540f5641\",\"type\":\"LinearAxis\"}],\"left\":[{\"id\":\"eae64d60-23df-47ce-a851-5bfdc89579e9\",\"type\":\"LogAxis\"}],\"plot_width\":300,\"renderers\":[{\"id\":\"9df38bfc-789d-4798-a741-bb03540f5641\",\"type\":\"LinearAxis\"},{\"id\":\"7250ab9f-3765-4ddd-9b72-15630d654dda\",\"type\":\"Grid\"},{\"id\":\"eae64d60-23df-47ce-a851-5bfdc89579e9\",\"type\":\"LogAxis\"},{\"id\":\"fa4619cb-e596-488b-9802-985e6d8f5150\",\"type\":\"Grid\"},{\"id\":\"46e7e5d2-5978-4a66-9caa-961c0020371e\",\"type\":\"BoxAnnotation\"},{\"id\":\"9a841cbb-3acf-4b88-9f9e-191e9829cf98\",\"type\":\"GlyphRenderer\"},{\"id\":\"1e4045c6-4e54-4d98-83c9-7b9a28a9d782\",\"type\":\"GlyphRenderer\"},{\"id\":\"4187eafc-69b3-4e1a-9bb2-b433ce0a304a\",\"type\":\"GlyphRenderer\"},{\"id\":\"87615fb4-9153-4345-8482-1d16cd22fb6f\",\"type\":\"Legend\"}],\"title\":{\"id\":\"8c1ce8ed-b5b7-4c84-bd53-13023d71d8d4\",\"type\":\"Title\"},\"toolbar\":{\"id\":\"ecec15c8-6fd0-450e-be96-2971c9bfa3a7\",\"type\":\"Toolbar\"},\"toolbar_location\":null,\"x_range\":{\"id\":\"d0cf3abd-774f-456d-95d5-697ef4e5c301\",\"type\":\"Range1d\"},\"x_scale\":{\"id\":\"086ab597-c6a2-4209-af40-f145d04f4d43\",\"type\":\"LinearScale\"},\"y_range\":{\"id\":\"8913dd9d-655a-4406-ae8e-c6a83d834cc6\",\"type\":\"Range1d\"},\"y_scale\":{\"id\":\"4d04cce7-f3a8-40a8-b9a4-8f2fcaf3f484\",\"type\":\"LogScale\"}},\"id\":\"33734012-a1ff-4c7f-a92a-a901dd5c01ec\",\"subtype\":\"Figure\",\"type\":\"Plot\"},{\"attributes\":{\"source\":{\"id\":\"9e0ca537-dd8f-4c0c-8191-a020c6ecf602\",\"type\":\"ColumnDataSource\"}},\"id\":\"f9f1f58f-3787-46f9-9f08-e30766d581f2\",\"type\":\"CDSView\"},{\"attributes\":{\"plot\":{\"id\":\"33734012-a1ff-4c7f-a92a-a901dd5c01ec\",\"subtype\":\"Figure\",\"type\":\"Plot\"},\"ticker\":{\"id\":\"b8ab8eba-eb69-44a6-b876-9c693ae1b1ca\",\"type\":\"BasicTicker\"}},\"id\":\"7250ab9f-3765-4ddd-9b72-15630d654dda\",\"type\":\"Grid\"},{\"attributes\":{\"callback\":null,\"data\":{\"x\":{\"__ndarray__\":\"0CYBcvU5UkCik9zf2GVBQF1VoNfLZ0BAVLxhiVXTPUDD1Wu1wJM6QFJyB025jjdAU6Aw5+b/NECYe1uuDfgyQB6bYtVTbTFAPxYSAF1HMEA00pYVm9QuQLolHbMzgC1AntlwirGsLECv+G9SjE4rQJH6ZLBp0ShAsLZQyPd/JkDyjgyf2PwkQLgyNGsrJyRAA13QbJD6I0C8hy0ilI4kQOVTXCEgcSZAovOGvZSGJUBVc/ZmUOIgQOf/6GHAyRlAcE8fAOBSFEDRur1U//gPQGFD9ZbokghAQsqHuSqSA0C91ci3W0UBQCtRQfvz7/4/kh8pntyB+j9t1/n+4TX1P773MAUjFfI/RgzR+CI28T8hBW8WHK7uPzVKjJfU8uk/0FPt4/z65T/wVYqzMPDhPz7K9C5CXuE/8+hSn9hY4T/9PPCkR6rhP1XsIC599OA/66X1nBCX3z/YbRM56QjcPz4dkSQc/dM/S7Wb8Fq00T+/yQdmX0vcP7TrGf476eM/WqNPJoWO7D9qOH1bcwDzP2bw+R5DQ/Y/RLSuQOQp+D8+aif8yAz5P0Wv6eBKRfk/0i2+IN4R+T/ik8QNFZr4PyS5UD5j/Pc/yJ68zXRG9z/2CHPL54H2P59SOhwKtPU/npkP8dfg9D8NlmVcdQz0P80ugRvuOvM/byxiAHN18j9USVZie8nxP5l9lNXYSPE/OB+F0UYP8T8Y7dsUCTHxP3EBgTHPcPE/bfx15p8S8T8FT+xkGtTuP6mdG7rkxuk/pboqTkHX5D/CrN8qGYngP7R4ZaL+htU/\",\"dtype\":\"float64\",\"shape\":[75]},\"y\":{\"__ndarray__\":\"GhExyth1ND/Sv8nbtpRIP2vylNV0PVE/aTum7souWD/At0SJ8fVgPw3Iuahxymc/MSNhhJWvcD/bTfBN02d3P2zb5nxnaoA/CD5h5MAGhz8NmeH1TyaQP+zrCsc9p5Y/LbKd76fGnz/bLW5ISEmmPww9YvTcQq8/JV2OstnstT8Er5Y7M8G+P0c+r3jqkcU/5h99k6ZBzj88bCIzFzjVP4enV8oyxN0//yH99nXg5D8qOpLLf0jtP5kqGJXUifQ/c9cS8kHP/D+/DpwzojQEQIEmwoanVwxA4lgXt9HgE0BSSZ2AJuIbQAMJih9jjiNA5q4l5INuK0AwTKYKRj0zQNv5fmq8/DpAaCJseHrtQkB/+zpwzoxKQM3MzMzMeFJAZmZmZmZqWEAAAAAAAFxeQM3MzMzMJmJAmpmZmZkfZUBmZmZmZhhoQDMzMzMzEWtAAAAAAAAKbkBmZmZmZoFwQM3MzMzM/XFAMzMzMzN6c0CamZmZmfZ0QAAAAAAAc3ZAZmZmZmbvd0DNzMzMzGt5QDMzMzMz6HpAmpmZmZlkfEAAAAAAAOF9QGZmZmZmXX9AZmZmZuZsgECamZmZGSuBQM3MzMxM6YFAAAAAAICngkAzMzMzs2WDQGZmZmbmI4RAmpmZmRnihEDNzMzMTKCFQAAAAACAXoZAMzMzM7Mch0BmZmZm5tqHQJqZmZkZmYhAzczMzExXiUAAAAAAgBWKQDMzMzOz04pAZmZmZuaRi0CamZmZGVCMQM3MzMxMDo1AAAAAAIDMjUAzMzMzs4qOQGZmZmbmSI9A\",\"dtype\":\"float64\",\"shape\":[75]}},\"selected\":{\"id\":\"89e59a79-47ed-4009-a912-150b4b93ec7c\",\"type\":\"Selection\"},\"selection_policy\":{\"id\":\"c84524a8-7e5c-4ef2-bbdc-6c5f5b998c03\",\"type\":\"UnionRenderers\"}},\"id\":\"9e0ca537-dd8f-4c0c-8191-a020c6ecf602\",\"type\":\"ColumnDataSource\"},{\"attributes\":{\"line_color\":\"#4daf4a\",\"line_width\":1.5,\"x\":{\"field\":\"x\"},\"y\":{\"field\":\"y\"}},\"id\":\"434be571-2bfb-485a-9a37-a0677ea83cf1\",\"type\":\"Line\"},{\"attributes\":{},\"id\":\"c5b1beca-3a5f-40cc-8679-38cc462538a1\",\"type\":\"BasicTickFormatter\"},{\"attributes\":{\"axis_label\":\"pressure [mb]\",\"formatter\":{\"id\":\"babc9508-09d0-46fa-80e6-1a5fe3fa1fa8\",\"type\":\"BasicTickFormatter\"},\"plot\":{\"id\":\"318b30be-a0b3-4b5d-86a3-8e0858d34ecf\",\"subtype\":\"Figure\",\"type\":\"Plot\"},\"ticker\":{\"id\":\"8368d805-43c6-4f5c-b0af-83a317045af0\",\"type\":\"BasicTicker\"}},\"id\":\"1aa114f2-490f-4632-9d38-729acf67acb2\",\"type\":\"LinearAxis\"},{\"attributes\":{\"line_alpha\":0.1,\"line_color\":\"#1f77b4\",\"line_width\":1.5,\"x\":{\"field\":\"x\"},\"y\":{\"field\":\"y\"}},\"id\":\"2fe9796b-756a-45ab-a6db-afc945ec9924\",\"type\":\"Line\"},{\"attributes\":{\"axis_label\":\"cooling rate [K/day]\",\"formatter\":{\"id\":\"c5b1beca-3a5f-40cc-8679-38cc462538a1\",\"type\":\"BasicTickFormatter\"},\"plot\":{\"id\":\"33734012-a1ff-4c7f-a92a-a901dd5c01ec\",\"subtype\":\"Figure\",\"type\":\"Plot\"},\"ticker\":{\"id\":\"b8ab8eba-eb69-44a6-b876-9c693ae1b1ca\",\"type\":\"BasicTicker\"}},\"id\":\"9df38bfc-789d-4798-a741-bb03540f5641\",\"type\":\"LinearAxis\"},{\"attributes\":{},\"id\":\"4d04cce7-f3a8-40a8-b9a4-8f2fcaf3f484\",\"type\":\"LogScale\"},{\"attributes\":{\"num_minor_ticks\":10},\"id\":\"e456583e-b728-4c22-b26f-fac9d01dd161\",\"type\":\"LogTicker\"},{\"attributes\":{\"data_source\":{\"id\":\"9e0ca537-dd8f-4c0c-8191-a020c6ecf602\",\"type\":\"ColumnDataSource\"},\"glyph\":{\"id\":\"52e066a9-2b45-4780-b8b3-1e4e9c0c56a3\",\"type\":\"Circle\"},\"hover_glyph\":null,\"muted_glyph\":null,\"nonselection_glyph\":{\"id\":\"dbaeb6a0-d704-46f3-9436-b7f97af8b12d\",\"type\":\"Circle\"},\"selection_glyph\":null,\"view\":{\"id\":\"f9f1f58f-3787-46f9-9f08-e30766d581f2\",\"type\":\"CDSView\"}},\"id\":\"ad95c080-a662-4b13-8642-eb4acaec3798\",\"type\":\"GlyphRenderer\"},{\"attributes\":{},\"id\":\"9fff2caf-33fd-435d-80ff-bd273378e073\",\"type\":\"PanTool\"},{\"attributes\":{},\"id\":\"dc7ba205-a87b-4e8e-866a-5b0e02bd3b10\",\"type\":\"ResetTool\"},{\"attributes\":{\"label\":{\"value\":\"CLIRAD (single-run)\"},\"renderers\":[{\"id\":\"1f138138-4340-4799-a868-1378cf4b29aa\",\"type\":\"GlyphRenderer\"}]},\"id\":\"0af95d91-9788-4345-8265-51ad146fef98\",\"type\":\"LegendItem\"},{\"attributes\":{},\"id\":\"6aa2da7e-4f83-4af4-b2d5-e356068cb7b4\",\"type\":\"HelpTool\"},{\"attributes\":{\"active_drag\":\"auto\",\"active_inspect\":\"auto\",\"active_scroll\":\"auto\",\"active_tap\":\"auto\",\"tools\":[{\"id\":\"9fff2caf-33fd-435d-80ff-bd273378e073\",\"type\":\"PanTool\"},{\"id\":\"6a7e857b-1e84-4396-bd4a-47139696a3f7\",\"type\":\"WheelZoomTool\"},{\"id\":\"61acb0f2-c735-4f19-97fc-34578a23b4ed\",\"type\":\"BoxZoomTool\"},{\"id\":\"731c0b2d-ec48-413a-b2c2-e2d0791b6285\",\"type\":\"SaveTool\"},{\"id\":\"dc7ba205-a87b-4e8e-866a-5b0e02bd3b10\",\"type\":\"ResetTool\"},{\"id\":\"6aa2da7e-4f83-4af4-b2d5-e356068cb7b4\",\"type\":\"HelpTool\"}]},\"id\":\"ecec15c8-6fd0-450e-be96-2971c9bfa3a7\",\"type\":\"Toolbar\"},{\"attributes\":{},\"id\":\"6a7e857b-1e84-4396-bd4a-47139696a3f7\",\"type\":\"WheelZoomTool\"},{\"attributes\":{\"plot\":{\"id\":\"318b30be-a0b3-4b5d-86a3-8e0858d34ecf\",\"subtype\":\"Figure\",\"type\":\"Plot\"},\"ticker\":{\"id\":\"2fdbcec1-f3bf-4ee9-82b6-9ce4c7933f4a\",\"type\":\"BasicTicker\"}},\"id\":\"13df8ddd-ff78-4c81-8f0c-bc50d9c11b9b\",\"type\":\"Grid\"},{\"attributes\":{},\"id\":\"086ab597-c6a2-4209-af40-f145d04f4d43\",\"type\":\"LinearScale\"},{\"attributes\":{},\"id\":\"731c0b2d-ec48-413a-b2c2-e2d0791b6285\",\"type\":\"SaveTool\"},{\"attributes\":{\"overlay\":{\"id\":\"46e7e5d2-5978-4a66-9caa-961c0020371e\",\"type\":\"BoxAnnotation\"}},\"id\":\"61acb0f2-c735-4f19-97fc-34578a23b4ed\",\"type\":\"BoxZoomTool\"},{\"attributes\":{\"axis_label\":\"cooling rate [K/day]\",\"formatter\":{\"id\":\"332d5cc7-5a9e-4ee4-a737-db5c99935dc7\",\"type\":\"BasicTickFormatter\"},\"plot\":{\"id\":\"318b30be-a0b3-4b5d-86a3-8e0858d34ecf\",\"subtype\":\"Figure\",\"type\":\"Plot\"},\"ticker\":{\"id\":\"2fdbcec1-f3bf-4ee9-82b6-9ce4c7933f4a\",\"type\":\"BasicTicker\"}},\"id\":\"7c30b265-6799-4685-b364-4e98444a6aa2\",\"type\":\"LinearAxis\"},{\"attributes\":{},\"id\":\"b9a95819-5b6d-4049-b704-d6e28583dd98\",\"type\":\"BasicTickFormatter\"},{\"attributes\":{\"label\":{\"value\":\"CRD\"},\"renderers\":[{\"id\":\"ad95c080-a662-4b13-8642-eb4acaec3798\",\"type\":\"GlyphRenderer\"},{\"id\":\"05ea75da-bfc8-4eba-98ff-be4b88d1deb1\",\"type\":\"GlyphRenderer\"}]},\"id\":\"855935d3-3c61-43d1-8de1-648bcbed9e24\",\"type\":\"LegendItem\"},{\"attributes\":{},\"id\":\"2fdbcec1-f3bf-4ee9-82b6-9ce4c7933f4a\",\"type\":\"BasicTicker\"},{\"attributes\":{\"bottom_units\":\"screen\",\"fill_alpha\":{\"value\":0.5},\"fill_color\":{\"value\":\"lightgrey\"},\"left_units\":\"screen\",\"level\":\"overlay\",\"line_alpha\":{\"value\":1.0},\"line_color\":{\"value\":\"black\"},\"line_dash\":[4,4],\"line_width\":{\"value\":2},\"plot\":null,\"render_mode\":\"css\",\"right_units\":\"screen\",\"top_units\":\"screen\"},\"id\":\"46e7e5d2-5978-4a66-9caa-961c0020371e\",\"type\":\"BoxAnnotation\"},{\"attributes\":{\"line_alpha\":0.6,\"line_color\":\"#377eb8\",\"line_dash\":[6],\"line_width\":5,\"x\":{\"field\":\"x\"},\"y\":{\"field\":\"y\"}},\"id\":\"4ba76809-150d-482f-a3b9-b06074c940fd\",\"type\":\"Line\"},{\"attributes\":{\"dimension\":1,\"plot\":{\"id\":\"318b30be-a0b3-4b5d-86a3-8e0858d34ecf\",\"subtype\":\"Figure\",\"type\":\"Plot\"},\"ticker\":{\"id\":\"8368d805-43c6-4f5c-b0af-83a317045af0\",\"type\":\"BasicTicker\"}},\"id\":\"81134bf8-c909-4482-a9dd-a1289ddda28c\",\"type\":\"Grid\"},{\"attributes\":{\"dimension\":1,\"plot\":{\"id\":\"33734012-a1ff-4c7f-a92a-a901dd5c01ec\",\"subtype\":\"Figure\",\"type\":\"Plot\"},\"ticker\":{\"id\":\"e456583e-b728-4c22-b26f-fac9d01dd161\",\"type\":\"LogTicker\"}},\"id\":\"fa4619cb-e596-488b-9802-985e6d8f5150\",\"type\":\"Grid\"},{\"attributes\":{\"source\":{\"id\":\"2c7b36f7-0014-4ca6-a277-a5cdeb8c9ce1\",\"type\":\"ColumnDataSource\"}},\"id\":\"a836ef3d-6d83-467d-92fd-fcb3ab045066\",\"type\":\"CDSView\"},{\"attributes\":{},\"id\":\"081d0156-8524-4fc2-82fe-87a7f7a3b40b\",\"type\":\"LinearScale\"},{\"attributes\":{\"callback\":null,\"data\":{\"x\":{\"__ndarray__\":\"0CYBcvU5UkCik9zf2GVBQF1VoNfLZ0BAVLxhiVXTPUDD1Wu1wJM6QFJyB025jjdAU6Aw5+b/NECYe1uuDfgyQB6bYtVTbTFAPxYSAF1HMEA00pYVm9QuQLolHbMzgC1AntlwirGsLECv+G9SjE4rQJH6ZLBp0ShAsLZQyPd/JkDyjgyf2PwkQLgyNGsrJyRAA13QbJD6I0C8hy0ilI4kQOVTXCEgcSZAovOGvZSGJUBVc/ZmUOIgQOf/6GHAyRlAcE8fAOBSFEDRur1U//gPQGFD9ZbokghAQsqHuSqSA0C91ci3W0UBQCtRQfvz7/4/kh8pntyB+j9t1/n+4TX1P773MAUjFfI/RgzR+CI28T8hBW8WHK7uPzVKjJfU8uk/0FPt4/z65T/wVYqzMPDhPz7K9C5CXuE/8+hSn9hY4T/9PPCkR6rhP1XsIC599OA/66X1nBCX3z/YbRM56QjcPz4dkSQc/dM/S7Wb8Fq00T+/yQdmX0vcP7TrGf476eM/WqNPJoWO7D9qOH1bcwDzP2bw+R5DQ/Y/RLSuQOQp+D8+aif8yAz5P0Wv6eBKRfk/0i2+IN4R+T/ik8QNFZr4PyS5UD5j/Pc/yJ68zXRG9z/2CHPL54H2P59SOhwKtPU/npkP8dfg9D8NlmVcdQz0P80ugRvuOvM/byxiAHN18j9USVZie8nxP5l9lNXYSPE/OB+F0UYP8T8Y7dsUCTHxP3EBgTHPcPE/bfx15p8S8T8FT+xkGtTuP6mdG7rkxuk/pboqTkHX5D/CrN8qGYngP7R4ZaL+htU/\",\"dtype\":\"float64\",\"shape\":[75]},\"y\":{\"__ndarray__\":\"GhExyth1ND/Sv8nbtpRIP2vylNV0PVE/aTum7souWD/At0SJ8fVgPw3Iuahxymc/MSNhhJWvcD/bTfBN02d3P2zb5nxnaoA/CD5h5MAGhz8NmeH1TyaQP+zrCsc9p5Y/LbKd76fGnz/bLW5ISEmmPww9YvTcQq8/JV2OstnstT8Er5Y7M8G+P0c+r3jqkcU/5h99k6ZBzj88bCIzFzjVP4enV8oyxN0//yH99nXg5D8qOpLLf0jtP5kqGJXUifQ/c9cS8kHP/D+/DpwzojQEQIEmwoanVwxA4lgXt9HgE0BSSZ2AJuIbQAMJih9jjiNA5q4l5INuK0AwTKYKRj0zQNv5fmq8/DpAaCJseHrtQkB/+zpwzoxKQM3MzMzMeFJAZmZmZmZqWEAAAAAAAFxeQM3MzMzMJmJAmpmZmZkfZUBmZmZmZhhoQDMzMzMzEWtAAAAAAAAKbkBmZmZmZoFwQM3MzMzM/XFAMzMzMzN6c0CamZmZmfZ0QAAAAAAAc3ZAZmZmZmbvd0DNzMzMzGt5QDMzMzMz6HpAmpmZmZlkfEAAAAAAAOF9QGZmZmZmXX9AZmZmZuZsgECamZmZGSuBQM3MzMxM6YFAAAAAAICngkAzMzMzs2WDQGZmZmbmI4RAmpmZmRnihEDNzMzMTKCFQAAAAACAXoZAMzMzM7Mch0BmZmZm5tqHQJqZmZkZmYhAzczMzExXiUAAAAAAgBWKQDMzMzOz04pAZmZmZuaRi0CamZmZGVCMQM3MzMxMDo1AAAAAAIDMjUAzMzMzs4qOQGZmZmbmSI9A\",\"dtype\":\"float64\",\"shape\":[75]}},\"selected\":{\"id\":\"17364ef8-f033-4a2a-884c-ce85d3371003\",\"type\":\"Selection\"},\"selection_policy\":{\"id\":\"fe4465ab-3949-4522-95d2-4a00dce267d8\",\"type\":\"UnionRenderers\"}},\"id\":\"2c7b36f7-0014-4ca6-a277-a5cdeb8c9ce1\",\"type\":\"ColumnDataSource\"},{\"attributes\":{\"data_source\":{\"id\":\"2c7b36f7-0014-4ca6-a277-a5cdeb8c9ce1\",\"type\":\"ColumnDataSource\"},\"glyph\":{\"id\":\"434be571-2bfb-485a-9a37-a0677ea83cf1\",\"type\":\"Line\"},\"hover_glyph\":null,\"muted_glyph\":null,\"nonselection_glyph\":{\"id\":\"2fe9796b-756a-45ab-a6db-afc945ec9924\",\"type\":\"Line\"},\"selection_glyph\":null,\"view\":{\"id\":\"a836ef3d-6d83-467d-92fd-fcb3ab045066\",\"type\":\"CDSView\"}},\"id\":\"05ea75da-bfc8-4eba-98ff-be4b88d1deb1\",\"type\":\"GlyphRenderer\"},{\"attributes\":{\"axis_label\":\"pressure [mb]\",\"formatter\":{\"id\":\"a849c28a-2589-4eae-81ef-64df528caa64\",\"type\":\"LogTickFormatter\"},\"plot\":{\"id\":\"33734012-a1ff-4c7f-a92a-a901dd5c01ec\",\"subtype\":\"Figure\",\"type\":\"Plot\"},\"ticker\":{\"id\":\"e456583e-b728-4c22-b26f-fac9d01dd161\",\"type\":\"LogTicker\"}},\"id\":\"eae64d60-23df-47ce-a851-5bfdc89579e9\",\"type\":\"LogAxis\"},{\"attributes\":{},\"id\":\"b8ab8eba-eb69-44a6-b876-9c693ae1b1ca\",\"type\":\"BasicTicker\"},{\"attributes\":{\"fill_alpha\":{\"value\":0.1},\"fill_color\":{\"value\":\"#1f77b4\"},\"line_alpha\":{\"value\":0.1},\"line_color\":{\"value\":\"#1f77b4\"},\"x\":{\"field\":\"x\"},\"y\":{\"field\":\"y\"}},\"id\":\"dbaeb6a0-d704-46f3-9436-b7f97af8b12d\",\"type\":\"Circle\"}],\"root_ids\":[\"ad2088df-e935-48c8-99fa-dca07b335051\"]},\"title\":\"Bokeh Application\",\"version\":\"0.12.16\"}};\n",
       "  var render_items = [{\"docid\":\"d7d39f37-4e85-4257-8f44-d87f90df3ab7\",\"elementid\":\"fba5150f-e53e-446e-94b0-f0b8ab163d2e\",\"modelid\":\"ad2088df-e935-48c8-99fa-dca07b335051\"}];\n",
       "  root.Bokeh.embed.embed_items_notebook(docs_json, render_items);\n",
       "\n",
       "  }\n",
       "  if (root.Bokeh !== undefined) {\n",
       "    embed_document(root);\n",
       "  } else {\n",
       "    var attempts = 0;\n",
       "    var timer = setInterval(function(root) {\n",
       "      if (root.Bokeh !== undefined) {\n",
       "        embed_document(root);\n",
       "        clearInterval(timer);\n",
       "      }\n",
       "      attempts++;\n",
       "      if (attempts > 100) {\n",
       "        console.log(\"Bokeh: ERROR: Unable to run BokehJS code because BokehJS library is missing\")\n",
       "        clearInterval(timer);\n",
       "      }\n",
       "    }, 10, root)\n",
       "  }\n",
       "})(window);"
      ],
      "application/vnd.bokehjs_exec.v0+json": ""
     },
     "metadata": {
      "application/vnd.bokehjs_exec.v0+json": {
       "id": "ad2088df-e935-48c8-99fa-dca07b335051"
      }
     },
     "output_type": "display_data"
    },
    {
     "data": {
      "text/markdown": [
       "*FIGURE.* Cooling rates & difference."
      ],
      "text/plain": [
       "<IPython.core.display.Markdown object>"
      ]
     },
     "metadata": {},
     "output_type": "display_data"
    },
    {
     "data": {
      "text/html": [
       "<a id=\"Fluxes._saw.\"></a>"
      ],
      "text/plain": [
       "<IPython.core.display.HTML object>"
      ]
     },
     "metadata": {},
     "output_type": "display_data"
    },
    {
     "data": {
      "text/markdown": [
       "# Fluxes. saw."
      ],
      "text/plain": [
       "<IPython.core.display.Markdown object>"
      ]
     },
     "metadata": {},
     "output_type": "display_data"
    },
    {
     "data": {
      "text/html": [
       "\n",
       "<div class=\"bk-root\">\n",
       "    <div class=\"bk-plotdiv\" id=\"c1839cdd-6232-4887-bfc8-0c57616cc8a2\"></div>\n",
       "</div>"
      ]
     },
     "metadata": {},
     "output_type": "display_data"
    },
    {
     "data": {
      "application/javascript": [
       "(function(root) {\n",
       "  function embed_document(root) {\n",
       "    \n",
       "  var docs_json = {\"1b39d749-1460-46f5-a83a-20ccb2e2d639\":{\"roots\":{\"references\":[{\"attributes\":{},\"id\":\"da777b5b-21fb-4b44-9a06-d42bde25ebb4\",\"type\":\"CategoricalTicker\"},{\"attributes\":{},\"id\":\"6cac0ff1-8ec1-45d2-85bb-f3722c819bc9\",\"type\":\"HelpTool\"},{\"attributes\":{\"below\":[{\"id\":\"75f306f0-b1b5-4595-960c-f47c213098c2\",\"type\":\"CategoricalAxis\"}],\"left\":[{\"id\":\"f50d6f18-4f82-41ea-b192-4b65661e4ec0\",\"type\":\"LinearAxis\"}],\"plot_height\":300,\"plot_width\":300,\"renderers\":[{\"id\":\"75f306f0-b1b5-4595-960c-f47c213098c2\",\"type\":\"CategoricalAxis\"},{\"id\":\"f96b6e86-802f-4daf-861e-0a5391e8df0d\",\"type\":\"Grid\"},{\"id\":\"f50d6f18-4f82-41ea-b192-4b65661e4ec0\",\"type\":\"LinearAxis\"},{\"id\":\"8bb00a77-28f8-49d6-87fa-2d6098378f3c\",\"type\":\"Grid\"},{\"id\":\"913b30d8-abd8-466e-9e86-7e374accb9f9\",\"type\":\"BoxAnnotation\"},{\"id\":\"20a05534-a9bf-4276-94d6-cc0de69f591c\",\"type\":\"GlyphRenderer\"}],\"title\":{\"id\":\"26b0c31e-216e-4fb2-92ec-8840df661282\",\"type\":\"Title\"},\"toolbar\":{\"id\":\"ddd51e73-4baa-4504-8538-bce1a49089f1\",\"type\":\"Toolbar\"},\"toolbar_location\":null,\"x_range\":{\"id\":\"530043fb-8d8c-4c4b-983d-c35fd337486b\",\"type\":\"FactorRange\"},\"x_scale\":{\"id\":\"97541066-bb9c-4303-85c1-66a9635635c5\",\"type\":\"CategoricalScale\"},\"y_range\":{\"id\":\"478260a6-eb8e-4814-91d5-50dbbdcd05cf\",\"type\":\"DataRange1d\"},\"y_scale\":{\"id\":\"fcf0086e-054d-4a7d-be43-958675caca30\",\"type\":\"LinearScale\"}},\"id\":\"18af60ad-533f-488c-a5e1-c1d9877fe03b\",\"subtype\":\"Figure\",\"type\":\"Plot\"},{\"attributes\":{\"fill_alpha\":{\"value\":0.1},\"fill_color\":{\"value\":\"#1f77b4\"},\"line_alpha\":{\"value\":0.1},\"line_color\":{\"value\":\"#1f77b4\"},\"top\":{\"field\":\"flux\"},\"width\":{\"value\":0.9},\"x\":{\"field\":\"band\"}},\"id\":\"041cfdf5-6230-4725-a09e-b964e14b2089\",\"type\":\"VBar\"},{\"attributes\":{},\"id\":\"7e0189ab-0ad1-41b2-8264-8015a763d6f9\",\"type\":\"CategoricalScale\"},{\"attributes\":{},\"id\":\"47e5cba2-68b9-48b9-b72a-0d4a630301ec\",\"type\":\"SaveTool\"},{\"attributes\":{\"plot\":null,\"text\":\"SFC flux. CLIRAD (single-run) - CRD.\"},\"id\":\"645b8eca-81cc-49ff-8710-17be739db03d\",\"type\":\"Title\"},{\"attributes\":{\"callback\":null,\"data\":{\"band\":[\"1\",\"2\",\"3\",\"4\",\"5\",\"6\",\"7\",\"8\",\"9\",\"10\",\"11\"],\"flux\":{\"__ndarray__\":\"kBK7treb+z/MNczQeGooQPCHn/8eDBZAIBlW8Ubm4D+odoapLYUYQMi44uKoADBAqanAJPASE0CYVek4yM0XQGz0xTlFwgtABvde14pRAUCAbxLeeT2TPw==\",\"dtype\":\"float64\",\"shape\":[11]}},\"selected\":{\"id\":\"095a866e-6999-48fb-9bd6-2dd3a7113908\",\"type\":\"Selection\"},\"selection_policy\":{\"id\":\"1cf31eb2-1f54-45ac-b923-b0ded8520f7e\",\"type\":\"UnionRenderers\"}},\"id\":\"4887342c-d69a-4b44-958c-09fbb2bab7c7\",\"type\":\"ColumnDataSource\"},{\"attributes\":{\"axis_label\":\"spectral band\",\"formatter\":{\"id\":\"65b59fd7-fd1d-4cf1-aa35-ef0a6cdb8111\",\"type\":\"CategoricalTickFormatter\"},\"plot\":{\"id\":\"18af60ad-533f-488c-a5e1-c1d9877fe03b\",\"subtype\":\"Figure\",\"type\":\"Plot\"},\"ticker\":{\"id\":\"b3053ed4-86a9-4aae-b82e-94a6dfc18190\",\"type\":\"CategoricalTicker\"}},\"id\":\"75f306f0-b1b5-4595-960c-f47c213098c2\",\"type\":\"CategoricalAxis\"},{\"attributes\":{\"dimension\":1,\"plot\":{\"id\":\"d511f96b-3523-4ac9-bc2c-13912d92e651\",\"subtype\":\"Figure\",\"type\":\"Plot\"},\"ticker\":{\"id\":\"6d070ee8-96a1-4eb6-895e-2ad810d2bc90\",\"type\":\"BasicTicker\"}},\"id\":\"0a3e9232-8a0d-4a0e-97f7-2979d3bc3eb2\",\"type\":\"Grid\"},{\"attributes\":{},\"id\":\"97541066-bb9c-4303-85c1-66a9635635c5\",\"type\":\"CategoricalScale\"},{\"attributes\":{\"source\":{\"id\":\"2109d863-d710-4f04-868a-391625bb7c8e\",\"type\":\"ColumnDataSource\"}},\"id\":\"2a9178af-3ab1-4633-a749-c2b5389eead2\",\"type\":\"CDSView\"},{\"attributes\":{\"active_drag\":\"auto\",\"active_inspect\":\"auto\",\"active_scroll\":\"auto\",\"active_tap\":\"auto\",\"tools\":[{\"id\":\"c561ba6d-7396-4673-b2b5-a9056aacb966\",\"type\":\"PanTool\"},{\"id\":\"65e37571-0a3a-4bf5-aac2-cf2db424584a\",\"type\":\"WheelZoomTool\"},{\"id\":\"ad3b5ee6-0409-483e-ace3-1d2e36453643\",\"type\":\"BoxZoomTool\"},{\"id\":\"47e5cba2-68b9-48b9-b72a-0d4a630301ec\",\"type\":\"SaveTool\"},{\"id\":\"27c69ef8-bfa2-425a-8b22-9ecc150e4ab6\",\"type\":\"ResetTool\"},{\"id\":\"6cac0ff1-8ec1-45d2-85bb-f3722c819bc9\",\"type\":\"HelpTool\"}]},\"id\":\"c59d9ef6-173a-4965-8104-598be4a865ca\",\"type\":\"Toolbar\"},{\"attributes\":{},\"id\":\"fcf0086e-054d-4a7d-be43-958675caca30\",\"type\":\"LinearScale\"},{\"attributes\":{\"below\":[{\"id\":\"faf46135-53ad-48de-b1e7-3ff34b2df50f\",\"type\":\"CategoricalAxis\"}],\"left\":[{\"id\":\"ae20a717-55a4-4c8b-b64d-8cdd07a9e6be\",\"type\":\"LinearAxis\"}],\"plot_height\":300,\"plot_width\":300,\"renderers\":[{\"id\":\"faf46135-53ad-48de-b1e7-3ff34b2df50f\",\"type\":\"CategoricalAxis\"},{\"id\":\"7376bb48-9624-497a-a683-7631eb934bc4\",\"type\":\"Grid\"},{\"id\":\"ae20a717-55a4-4c8b-b64d-8cdd07a9e6be\",\"type\":\"LinearAxis\"},{\"id\":\"0a3e9232-8a0d-4a0e-97f7-2979d3bc3eb2\",\"type\":\"Grid\"},{\"id\":\"74e32286-4a33-4708-a12c-b6dd9ca0b764\",\"type\":\"BoxAnnotation\"},{\"id\":\"1f63c27b-6f39-4213-991f-eadc34b0d363\",\"type\":\"GlyphRenderer\"}],\"title\":{\"id\":\"645b8eca-81cc-49ff-8710-17be739db03d\",\"type\":\"Title\"},\"toolbar\":{\"id\":\"c59d9ef6-173a-4965-8104-598be4a865ca\",\"type\":\"Toolbar\"},\"toolbar_location\":null,\"x_range\":{\"id\":\"a3aad35b-d8c1-41b8-a25d-e61a310cc557\",\"type\":\"FactorRange\"},\"x_scale\":{\"id\":\"7e0189ab-0ad1-41b2-8264-8015a763d6f9\",\"type\":\"CategoricalScale\"},\"y_range\":{\"id\":\"f9532781-e1c7-44ab-a3b4-252f33780807\",\"type\":\"DataRange1d\"},\"y_scale\":{\"id\":\"a025ef5e-fa3a-47fe-8c9a-d15ab5ab6e2c\",\"type\":\"LinearScale\"}},\"id\":\"d511f96b-3523-4ac9-bc2c-13912d92e651\",\"subtype\":\"Figure\",\"type\":\"Plot\"},{\"attributes\":{},\"id\":\"65e37571-0a3a-4bf5-aac2-cf2db424584a\",\"type\":\"WheelZoomTool\"},{\"attributes\":{\"overlay\":{\"id\":\"74e32286-4a33-4708-a12c-b6dd9ca0b764\",\"type\":\"BoxAnnotation\"}},\"id\":\"ad3b5ee6-0409-483e-ace3-1d2e36453643\",\"type\":\"BoxZoomTool\"},{\"attributes\":{},\"id\":\"6d070ee8-96a1-4eb6-895e-2ad810d2bc90\",\"type\":\"BasicTicker\"},{\"attributes\":{\"callback\":null,\"data\":{\"band\":[\"1\",\"2\",\"3\",\"4\",\"5\",\"6\",\"7\",\"8\",\"9\",\"10\",\"11\"],\"flux\":{\"__ndarray__\":\"cJfeQHmm+z+ws0NXfXkBQPAT1t91Cuq/ADXEl9rJ2z9mKkDrTB8QwA+0ZW0RpzDAWGRLweB3HsBmS8Hgu6kPwOB2sFEYjMY/VEF8yKqU/z+AJgqhQRKPPw==\",\"dtype\":\"float64\",\"shape\":[11]}},\"selected\":{\"id\":\"09843af5-438f-41ce-ade0-d523c4d404d5\",\"type\":\"Selection\"},\"selection_policy\":{\"id\":\"0a7bd155-c425-4855-af99-63a083580a58\",\"type\":\"UnionRenderers\"}},\"id\":\"21e98dc4-f521-431a-849f-3be160db0442\",\"type\":\"ColumnDataSource\"},{\"attributes\":{},\"id\":\"e5eefb7d-1a35-4adc-b249-9a36baa30c3f\",\"type\":\"BasicTickFormatter\"},{\"attributes\":{},\"id\":\"27c69ef8-bfa2-425a-8b22-9ecc150e4ab6\",\"type\":\"ResetTool\"},{\"attributes\":{\"callback\":null},\"id\":\"f9532781-e1c7-44ab-a3b4-252f33780807\",\"type\":\"DataRange1d\"},{\"attributes\":{\"axis_label\":\"flux (W m-2)\",\"formatter\":{\"id\":\"5f59cb7c-3b78-40c3-a84b-8dc8fdfbc39c\",\"type\":\"BasicTickFormatter\"},\"plot\":{\"id\":\"d511f96b-3523-4ac9-bc2c-13912d92e651\",\"subtype\":\"Figure\",\"type\":\"Plot\"},\"ticker\":{\"id\":\"6d070ee8-96a1-4eb6-895e-2ad810d2bc90\",\"type\":\"BasicTicker\"}},\"id\":\"ae20a717-55a4-4c8b-b64d-8cdd07a9e6be\",\"type\":\"LinearAxis\"},{\"attributes\":{},\"id\":\"a025ef5e-fa3a-47fe-8c9a-d15ab5ab6e2c\",\"type\":\"LinearScale\"},{\"attributes\":{\"fill_color\":{\"value\":\"#1f77b4\"},\"line_color\":{\"value\":\"#1f77b4\"},\"top\":{\"field\":\"flux\"},\"width\":{\"value\":0.9},\"x\":{\"field\":\"band\"}},\"id\":\"98cc9bfe-ed86-40e1-89f0-8fdba8cdb5d9\",\"type\":\"VBar\"},{\"attributes\":{},\"id\":\"c561ba6d-7396-4673-b2b5-a9056aacb966\",\"type\":\"PanTool\"},{\"attributes\":{\"callback\":null,\"factors\":[\"1\",\"2\",\"3\",\"4\",\"5\",\"6\",\"7\",\"8\",\"9\",\"10\",\"11\"]},\"id\":\"a3aad35b-d8c1-41b8-a25d-e61a310cc557\",\"type\":\"FactorRange\"},{\"attributes\":{\"plot\":{\"id\":\"d511f96b-3523-4ac9-bc2c-13912d92e651\",\"subtype\":\"Figure\",\"type\":\"Plot\"},\"ticker\":{\"id\":\"da777b5b-21fb-4b44-9a06-d42bde25ebb4\",\"type\":\"CategoricalTicker\"}},\"id\":\"7376bb48-9624-497a-a683-7631eb934bc4\",\"type\":\"Grid\"},{\"attributes\":{\"axis_label\":\"spectral band\",\"formatter\":{\"id\":\"7cbe0e6b-3360-4036-b00d-7d495d87d77c\",\"type\":\"CategoricalTickFormatter\"},\"plot\":{\"id\":\"d511f96b-3523-4ac9-bc2c-13912d92e651\",\"subtype\":\"Figure\",\"type\":\"Plot\"},\"ticker\":{\"id\":\"da777b5b-21fb-4b44-9a06-d42bde25ebb4\",\"type\":\"CategoricalTicker\"}},\"id\":\"faf46135-53ad-48de-b1e7-3ff34b2df50f\",\"type\":\"CategoricalAxis\"},{\"attributes\":{},\"id\":\"1869eef6-058c-44df-9f25-b11e8fe3b409\",\"type\":\"Selection\"},{\"attributes\":{\"fill_color\":{\"value\":\"#1f77b4\"},\"line_color\":{\"value\":\"#1f77b4\"},\"top\":{\"field\":\"flux\"},\"width\":{\"value\":0.9},\"x\":{\"field\":\"band\"}},\"id\":\"4c143984-c4a4-4369-a6bb-7a8e6f977a9a\",\"type\":\"VBar\"},{\"attributes\":{},\"id\":\"09843af5-438f-41ce-ade0-d523c4d404d5\",\"type\":\"Selection\"},{\"attributes\":{\"below\":[{\"id\":\"df6dea95-4332-41fc-b1a3-b6a92877fdf5\",\"type\":\"CategoricalAxis\"}],\"left\":[{\"id\":\"655894d7-f064-4a88-9fb8-00a9ba55e111\",\"type\":\"LinearAxis\"}],\"plot_height\":300,\"plot_width\":300,\"renderers\":[{\"id\":\"df6dea95-4332-41fc-b1a3-b6a92877fdf5\",\"type\":\"CategoricalAxis\"},{\"id\":\"698e92a6-e0b1-4d53-9dac-b1f55e25dd00\",\"type\":\"Grid\"},{\"id\":\"655894d7-f064-4a88-9fb8-00a9ba55e111\",\"type\":\"LinearAxis\"},{\"id\":\"25c50f2f-1750-4fe9-acf9-76c71f9b9b1e\",\"type\":\"Grid\"},{\"id\":\"74c136fe-94a3-4df9-a6d9-102667869825\",\"type\":\"BoxAnnotation\"},{\"id\":\"50682387-0be3-4177-9795-398e0e5f72b2\",\"type\":\"GlyphRenderer\"}],\"title\":{\"id\":\"dbbfb627-c4c8-4be4-9f8b-0f734873d4bc\",\"type\":\"Title\"},\"toolbar\":{\"id\":\"0cbbc6c8-119d-46c4-a73b-bf0fe38794da\",\"type\":\"Toolbar\"},\"toolbar_location\":null,\"x_range\":{\"id\":\"310c614e-6ae8-42e9-acb1-0f5446e3e52e\",\"type\":\"FactorRange\"},\"x_scale\":{\"id\":\"7f821cca-0d32-44c1-b364-40494c57918a\",\"type\":\"CategoricalScale\"},\"y_range\":{\"id\":\"20fae90f-8363-45e0-af09-08d3316506ed\",\"type\":\"DataRange1d\"},\"y_scale\":{\"id\":\"4a2a5b47-ca46-43c7-b923-db020472d84d\",\"type\":\"LinearScale\"}},\"id\":\"1a3ff70a-0459-4cf3-af17-d06ea51db7d0\",\"subtype\":\"Figure\",\"type\":\"Plot\"},{\"attributes\":{\"fill_color\":{\"value\":\"#1f77b4\"},\"line_color\":{\"value\":\"#1f77b4\"},\"top\":{\"field\":\"flux\"},\"width\":{\"value\":0.9},\"x\":{\"field\":\"band\"}},\"id\":\"ab264852-6875-4d0a-a637-2e0b246b1750\",\"type\":\"VBar\"},{\"attributes\":{},\"id\":\"4a2a5b47-ca46-43c7-b923-db020472d84d\",\"type\":\"LinearScale\"},{\"attributes\":{},\"id\":\"43a1e476-3cda-489b-a23d-2a5b46945ccd\",\"type\":\"BasicTicker\"},{\"attributes\":{},\"id\":\"1cf31eb2-1f54-45ac-b923-b0ded8520f7e\",\"type\":\"UnionRenderers\"},{\"attributes\":{},\"id\":\"5f59cb7c-3b78-40c3-a84b-8dc8fdfbc39c\",\"type\":\"BasicTickFormatter\"},{\"attributes\":{},\"id\":\"98cfd26e-2b53-4261-a3db-97e0f128a7bb\",\"type\":\"WheelZoomTool\"},{\"attributes\":{},\"id\":\"c373a825-a6d9-4da3-b123-3ec5980715f4\",\"type\":\"ResetTool\"},{\"attributes\":{\"overlay\":{\"id\":\"74c136fe-94a3-4df9-a6d9-102667869825\",\"type\":\"BoxAnnotation\"}},\"id\":\"05efb006-6c96-4a28-816b-c2371d3b4858\",\"type\":\"BoxZoomTool\"},{\"attributes\":{\"data_source\":{\"id\":\"21e98dc4-f521-431a-849f-3be160db0442\",\"type\":\"ColumnDataSource\"},\"glyph\":{\"id\":\"ab264852-6875-4d0a-a637-2e0b246b1750\",\"type\":\"VBar\"},\"hover_glyph\":null,\"muted_glyph\":null,\"nonselection_glyph\":{\"id\":\"968af509-ded7-4950-9f97-e59fcfe5c785\",\"type\":\"VBar\"},\"selection_glyph\":null,\"view\":{\"id\":\"8a5f0e42-c0d2-4a24-9d61-d978eaa63abd\",\"type\":\"CDSView\"}},\"id\":\"50682387-0be3-4177-9795-398e0e5f72b2\",\"type\":\"GlyphRenderer\"},{\"attributes\":{\"overlay\":{\"id\":\"913b30d8-abd8-466e-9e86-7e374accb9f9\",\"type\":\"BoxAnnotation\"}},\"id\":\"5e77662c-9979-45ba-ad5a-472f93411070\",\"type\":\"BoxZoomTool\"},{\"attributes\":{},\"id\":\"65b59fd7-fd1d-4cf1-aa35-ef0a6cdb8111\",\"type\":\"CategoricalTickFormatter\"},{\"attributes\":{},\"id\":\"7f821cca-0d32-44c1-b364-40494c57918a\",\"type\":\"CategoricalScale\"},{\"attributes\":{\"source\":{\"id\":\"4887342c-d69a-4b44-958c-09fbb2bab7c7\",\"type\":\"ColumnDataSource\"}},\"id\":\"55226900-cb00-41fa-8318-105184bea9fd\",\"type\":\"CDSView\"},{\"attributes\":{},\"id\":\"9315043d-b590-4792-80fe-607fb17928f3\",\"type\":\"SaveTool\"},{\"attributes\":{},\"id\":\"b3053ed4-86a9-4aae-b82e-94a6dfc18190\",\"type\":\"CategoricalTicker\"},{\"attributes\":{},\"id\":\"83bf4116-a364-4f68-9b6e-5d20f8c7616a\",\"type\":\"ResetTool\"},{\"attributes\":{},\"id\":\"2f50d069-0bc4-4a4d-9551-5d0b5a67972a\",\"type\":\"WheelZoomTool\"},{\"attributes\":{\"bottom_units\":\"screen\",\"fill_alpha\":{\"value\":0.5},\"fill_color\":{\"value\":\"lightgrey\"},\"left_units\":\"screen\",\"level\":\"overlay\",\"line_alpha\":{\"value\":1.0},\"line_color\":{\"value\":\"black\"},\"line_dash\":[4,4],\"line_width\":{\"value\":2},\"plot\":null,\"render_mode\":\"css\",\"right_units\":\"screen\",\"top_units\":\"screen\"},\"id\":\"74e32286-4a33-4708-a12c-b6dd9ca0b764\",\"type\":\"BoxAnnotation\"},{\"attributes\":{\"callback\":null},\"id\":\"20fae90f-8363-45e0-af09-08d3316506ed\",\"type\":\"DataRange1d\"},{\"attributes\":{\"bottom_units\":\"screen\",\"fill_alpha\":{\"value\":0.5},\"fill_color\":{\"value\":\"lightgrey\"},\"left_units\":\"screen\",\"level\":\"overlay\",\"line_alpha\":{\"value\":1.0},\"line_color\":{\"value\":\"black\"},\"line_dash\":[4,4],\"line_width\":{\"value\":2},\"plot\":null,\"render_mode\":\"css\",\"right_units\":\"screen\",\"top_units\":\"screen\"},\"id\":\"913b30d8-abd8-466e-9e86-7e374accb9f9\",\"type\":\"BoxAnnotation\"},{\"attributes\":{\"data_source\":{\"id\":\"4887342c-d69a-4b44-958c-09fbb2bab7c7\",\"type\":\"ColumnDataSource\"},\"glyph\":{\"id\":\"4c143984-c4a4-4369-a6bb-7a8e6f977a9a\",\"type\":\"VBar\"},\"hover_glyph\":null,\"muted_glyph\":null,\"nonselection_glyph\":{\"id\":\"65159e34-6bc5-4083-bfa3-f66f69c3d81c\",\"type\":\"VBar\"},\"selection_glyph\":null,\"view\":{\"id\":\"55226900-cb00-41fa-8318-105184bea9fd\",\"type\":\"CDSView\"}},\"id\":\"20a05534-a9bf-4276-94d6-cc0de69f591c\",\"type\":\"GlyphRenderer\"},{\"attributes\":{\"axis_label\":\"flux (W m-2)\",\"formatter\":{\"id\":\"a45c5c6e-6f59-4c35-94c4-80fbcb864284\",\"type\":\"BasicTickFormatter\"},\"plot\":{\"id\":\"18af60ad-533f-488c-a5e1-c1d9877fe03b\",\"subtype\":\"Figure\",\"type\":\"Plot\"},\"ticker\":{\"id\":\"43a1e476-3cda-489b-a23d-2a5b46945ccd\",\"type\":\"BasicTicker\"}},\"id\":\"f50d6f18-4f82-41ea-b192-4b65661e4ec0\",\"type\":\"LinearAxis\"},{\"attributes\":{\"callback\":null},\"id\":\"478260a6-eb8e-4814-91d5-50dbbdcd05cf\",\"type\":\"DataRange1d\"},{\"attributes\":{\"children\":[{\"id\":\"e973b37f-446f-4233-987c-14574b142885\",\"type\":\"Row\"}]},\"id\":\"9effc188-b262-4818-97e3-71691444c24a\",\"type\":\"Column\"},{\"attributes\":{\"source\":{\"id\":\"21e98dc4-f521-431a-849f-3be160db0442\",\"type\":\"ColumnDataSource\"}},\"id\":\"8a5f0e42-c0d2-4a24-9d61-d978eaa63abd\",\"type\":\"CDSView\"},{\"attributes\":{},\"id\":\"095a866e-6999-48fb-9bd6-2dd3a7113908\",\"type\":\"Selection\"},{\"attributes\":{},\"id\":\"3407c5f9-5a89-4fe5-8828-37b2812ad48f\",\"type\":\"UnionRenderers\"},{\"attributes\":{\"plot\":null,\"text\":\"Atmosphere heating. CLIRAD (single-run) - CRD.\"},\"id\":\"dbbfb627-c4c8-4be4-9f8b-0f734873d4bc\",\"type\":\"Title\"},{\"attributes\":{},\"id\":\"471a5261-9b64-4fde-8fa7-7f2b8079030b\",\"type\":\"CategoricalTicker\"},{\"attributes\":{\"dimension\":1,\"plot\":{\"id\":\"1a3ff70a-0459-4cf3-af17-d06ea51db7d0\",\"subtype\":\"Figure\",\"type\":\"Plot\"},\"ticker\":{\"id\":\"3f5b46df-48c5-4da0-b789-d837d316e447\",\"type\":\"BasicTicker\"}},\"id\":\"25c50f2f-1750-4fe9-acf9-76c71f9b9b1e\",\"type\":\"Grid\"},{\"attributes\":{\"data_source\":{\"id\":\"2109d863-d710-4f04-868a-391625bb7c8e\",\"type\":\"ColumnDataSource\"},\"glyph\":{\"id\":\"98cc9bfe-ed86-40e1-89f0-8fdba8cdb5d9\",\"type\":\"VBar\"},\"hover_glyph\":null,\"muted_glyph\":null,\"nonselection_glyph\":{\"id\":\"041cfdf5-6230-4725-a09e-b964e14b2089\",\"type\":\"VBar\"},\"selection_glyph\":null,\"view\":{\"id\":\"2a9178af-3ab1-4633-a749-c2b5389eead2\",\"type\":\"CDSView\"}},\"id\":\"1f63c27b-6f39-4213-991f-eadc34b0d363\",\"type\":\"GlyphRenderer\"},{\"attributes\":{},\"id\":\"7cbe0e6b-3360-4036-b00d-7d495d87d77c\",\"type\":\"CategoricalTickFormatter\"},{\"attributes\":{\"plot\":{\"id\":\"18af60ad-533f-488c-a5e1-c1d9877fe03b\",\"subtype\":\"Figure\",\"type\":\"Plot\"},\"ticker\":{\"id\":\"b3053ed4-86a9-4aae-b82e-94a6dfc18190\",\"type\":\"CategoricalTicker\"}},\"id\":\"f96b6e86-802f-4daf-861e-0a5391e8df0d\",\"type\":\"Grid\"},{\"attributes\":{},\"id\":\"3f5b46df-48c5-4da0-b789-d837d316e447\",\"type\":\"BasicTicker\"},{\"attributes\":{\"active_drag\":\"auto\",\"active_inspect\":\"auto\",\"active_scroll\":\"auto\",\"active_tap\":\"auto\",\"tools\":[{\"id\":\"35281a34-5a8c-4e6f-a381-b83d353b087a\",\"type\":\"PanTool\"},{\"id\":\"98cfd26e-2b53-4261-a3db-97e0f128a7bb\",\"type\":\"WheelZoomTool\"},{\"id\":\"5e77662c-9979-45ba-ad5a-472f93411070\",\"type\":\"BoxZoomTool\"},{\"id\":\"b40f70ca-4604-4878-978e-f0d38a00b0fa\",\"type\":\"SaveTool\"},{\"id\":\"83bf4116-a364-4f68-9b6e-5d20f8c7616a\",\"type\":\"ResetTool\"},{\"id\":\"ff107a54-2fa8-43a9-bed4-d5afe093425d\",\"type\":\"HelpTool\"}]},\"id\":\"ddd51e73-4baa-4504-8538-bce1a49089f1\",\"type\":\"Toolbar\"},{\"attributes\":{},\"id\":\"a36646cb-4983-4bef-9b43-298c09ee5b6a\",\"type\":\"PanTool\"},{\"attributes\":{\"active_drag\":\"auto\",\"active_inspect\":\"auto\",\"active_scroll\":\"auto\",\"active_tap\":\"auto\",\"tools\":[{\"id\":\"a36646cb-4983-4bef-9b43-298c09ee5b6a\",\"type\":\"PanTool\"},{\"id\":\"2f50d069-0bc4-4a4d-9551-5d0b5a67972a\",\"type\":\"WheelZoomTool\"},{\"id\":\"05efb006-6c96-4a28-816b-c2371d3b4858\",\"type\":\"BoxZoomTool\"},{\"id\":\"9315043d-b590-4792-80fe-607fb17928f3\",\"type\":\"SaveTool\"},{\"id\":\"c373a825-a6d9-4da3-b123-3ec5980715f4\",\"type\":\"ResetTool\"},{\"id\":\"c85a7dec-4466-4658-8ebb-96c2fab96253\",\"type\":\"HelpTool\"}]},\"id\":\"0cbbc6c8-119d-46c4-a73b-bf0fe38794da\",\"type\":\"Toolbar\"},{\"attributes\":{},\"id\":\"c85a7dec-4466-4658-8ebb-96c2fab96253\",\"type\":\"HelpTool\"},{\"attributes\":{\"plot\":{\"id\":\"1a3ff70a-0459-4cf3-af17-d06ea51db7d0\",\"subtype\":\"Figure\",\"type\":\"Plot\"},\"ticker\":{\"id\":\"471a5261-9b64-4fde-8fa7-7f2b8079030b\",\"type\":\"CategoricalTicker\"}},\"id\":\"698e92a6-e0b1-4d53-9dac-b1f55e25dd00\",\"type\":\"Grid\"},{\"attributes\":{},\"id\":\"2c3f4ff9-51f8-4ea1-9647-aa872eade1e2\",\"type\":\"CategoricalTickFormatter\"},{\"attributes\":{\"callback\":null,\"factors\":[\"1\",\"2\",\"3\",\"4\",\"5\",\"6\",\"7\",\"8\",\"9\",\"10\",\"11\"]},\"id\":\"530043fb-8d8c-4c4b-983d-c35fd337486b\",\"type\":\"FactorRange\"},{\"attributes\":{},\"id\":\"0a7bd155-c425-4855-af99-63a083580a58\",\"type\":\"UnionRenderers\"},{\"attributes\":{\"children\":[{\"id\":\"7ae2d9bc-ecff-4708-90c9-14991084faa8\",\"type\":\"ToolbarBox\"},{\"id\":\"9effc188-b262-4818-97e3-71691444c24a\",\"type\":\"Column\"}]},\"id\":\"5d9bc256-d142-4666-afda-86a8fe023241\",\"type\":\"Column\"},{\"attributes\":{\"dimension\":1,\"plot\":{\"id\":\"18af60ad-533f-488c-a5e1-c1d9877fe03b\",\"subtype\":\"Figure\",\"type\":\"Plot\"},\"ticker\":{\"id\":\"43a1e476-3cda-489b-a23d-2a5b46945ccd\",\"type\":\"BasicTicker\"}},\"id\":\"8bb00a77-28f8-49d6-87fa-2d6098378f3c\",\"type\":\"Grid\"},{\"attributes\":{\"axis_label\":\"flux (W m-2)\",\"formatter\":{\"id\":\"e5eefb7d-1a35-4adc-b249-9a36baa30c3f\",\"type\":\"BasicTickFormatter\"},\"plot\":{\"id\":\"1a3ff70a-0459-4cf3-af17-d06ea51db7d0\",\"subtype\":\"Figure\",\"type\":\"Plot\"},\"ticker\":{\"id\":\"3f5b46df-48c5-4da0-b789-d837d316e447\",\"type\":\"BasicTicker\"}},\"id\":\"655894d7-f064-4a88-9fb8-00a9ba55e111\",\"type\":\"LinearAxis\"},{\"attributes\":{},\"id\":\"b40f70ca-4604-4878-978e-f0d38a00b0fa\",\"type\":\"SaveTool\"},{\"attributes\":{\"children\":[{\"id\":\"18af60ad-533f-488c-a5e1-c1d9877fe03b\",\"subtype\":\"Figure\",\"type\":\"Plot\"},{\"id\":\"d511f96b-3523-4ac9-bc2c-13912d92e651\",\"subtype\":\"Figure\",\"type\":\"Plot\"},{\"id\":\"1a3ff70a-0459-4cf3-af17-d06ea51db7d0\",\"subtype\":\"Figure\",\"type\":\"Plot\"}]},\"id\":\"e973b37f-446f-4233-987c-14574b142885\",\"type\":\"Row\"},{\"attributes\":{\"callback\":null,\"factors\":[\"1\",\"2\",\"3\",\"4\",\"5\",\"6\",\"7\",\"8\",\"9\",\"10\",\"11\"]},\"id\":\"310c614e-6ae8-42e9-acb1-0f5446e3e52e\",\"type\":\"FactorRange\"},{\"attributes\":{\"callback\":null,\"data\":{\"band\":[\"1\",\"2\",\"3\",\"4\",\"5\",\"6\",\"7\",\"8\",\"9\",\"10\",\"11\"],\"flux\":{\"__ndarray__\":\"AEDpRe1+Zb/0FADjGQwkQKQ33EduTRlAADaSBOEKuD8AFX30PFIkQHDUwEXdU0BA3uy02mjFKEBqBytnUtEjQGCdCIeDWQpAgBL1gk9zyD8Ad2DnQ6NtPw==\",\"dtype\":\"float64\",\"shape\":[11]}},\"selected\":{\"id\":\"1869eef6-058c-44df-9f25-b11e8fe3b409\",\"type\":\"Selection\"},\"selection_policy\":{\"id\":\"3407c5f9-5a89-4fe5-8828-37b2812ad48f\",\"type\":\"UnionRenderers\"}},\"id\":\"2109d863-d710-4f04-868a-391625bb7c8e\",\"type\":\"ColumnDataSource\"},{\"attributes\":{},\"id\":\"ff107a54-2fa8-43a9-bed4-d5afe093425d\",\"type\":\"HelpTool\"},{\"attributes\":{},\"id\":\"35281a34-5a8c-4e6f-a381-b83d353b087a\",\"type\":\"PanTool\"},{\"attributes\":{\"tools\":[{\"id\":\"35281a34-5a8c-4e6f-a381-b83d353b087a\",\"type\":\"PanTool\"},{\"id\":\"98cfd26e-2b53-4261-a3db-97e0f128a7bb\",\"type\":\"WheelZoomTool\"},{\"id\":\"5e77662c-9979-45ba-ad5a-472f93411070\",\"type\":\"BoxZoomTool\"},{\"id\":\"b40f70ca-4604-4878-978e-f0d38a00b0fa\",\"type\":\"SaveTool\"},{\"id\":\"83bf4116-a364-4f68-9b6e-5d20f8c7616a\",\"type\":\"ResetTool\"},{\"id\":\"ff107a54-2fa8-43a9-bed4-d5afe093425d\",\"type\":\"HelpTool\"},{\"id\":\"c561ba6d-7396-4673-b2b5-a9056aacb966\",\"type\":\"PanTool\"},{\"id\":\"65e37571-0a3a-4bf5-aac2-cf2db424584a\",\"type\":\"WheelZoomTool\"},{\"id\":\"ad3b5ee6-0409-483e-ace3-1d2e36453643\",\"type\":\"BoxZoomTool\"},{\"id\":\"47e5cba2-68b9-48b9-b72a-0d4a630301ec\",\"type\":\"SaveTool\"},{\"id\":\"27c69ef8-bfa2-425a-8b22-9ecc150e4ab6\",\"type\":\"ResetTool\"},{\"id\":\"6cac0ff1-8ec1-45d2-85bb-f3722c819bc9\",\"type\":\"HelpTool\"},{\"id\":\"a36646cb-4983-4bef-9b43-298c09ee5b6a\",\"type\":\"PanTool\"},{\"id\":\"2f50d069-0bc4-4a4d-9551-5d0b5a67972a\",\"type\":\"WheelZoomTool\"},{\"id\":\"05efb006-6c96-4a28-816b-c2371d3b4858\",\"type\":\"BoxZoomTool\"},{\"id\":\"9315043d-b590-4792-80fe-607fb17928f3\",\"type\":\"SaveTool\"},{\"id\":\"c373a825-a6d9-4da3-b123-3ec5980715f4\",\"type\":\"ResetTool\"},{\"id\":\"c85a7dec-4466-4658-8ebb-96c2fab96253\",\"type\":\"HelpTool\"}]},\"id\":\"48134e42-458e-479d-9623-48ebdb9cbd94\",\"type\":\"ProxyToolbar\"},{\"attributes\":{\"toolbar\":{\"id\":\"48134e42-458e-479d-9623-48ebdb9cbd94\",\"type\":\"ProxyToolbar\"},\"toolbar_location\":\"above\"},\"id\":\"7ae2d9bc-ecff-4708-90c9-14991084faa8\",\"type\":\"ToolbarBox\"},{\"attributes\":{\"plot\":null,\"text\":\"TOA flux. CLIRAD (single-run) - CRD.\"},\"id\":\"26b0c31e-216e-4fb2-92ec-8840df661282\",\"type\":\"Title\"},{\"attributes\":{\"fill_alpha\":{\"value\":0.1},\"fill_color\":{\"value\":\"#1f77b4\"},\"line_alpha\":{\"value\":0.1},\"line_color\":{\"value\":\"#1f77b4\"},\"top\":{\"field\":\"flux\"},\"width\":{\"value\":0.9},\"x\":{\"field\":\"band\"}},\"id\":\"968af509-ded7-4950-9f97-e59fcfe5c785\",\"type\":\"VBar\"},{\"attributes\":{\"bottom_units\":\"screen\",\"fill_alpha\":{\"value\":0.5},\"fill_color\":{\"value\":\"lightgrey\"},\"left_units\":\"screen\",\"level\":\"overlay\",\"line_alpha\":{\"value\":1.0},\"line_color\":{\"value\":\"black\"},\"line_dash\":[4,4],\"line_width\":{\"value\":2},\"plot\":null,\"render_mode\":\"css\",\"right_units\":\"screen\",\"top_units\":\"screen\"},\"id\":\"74c136fe-94a3-4df9-a6d9-102667869825\",\"type\":\"BoxAnnotation\"},{\"attributes\":{\"axis_label\":\"spectral band\",\"formatter\":{\"id\":\"2c3f4ff9-51f8-4ea1-9647-aa872eade1e2\",\"type\":\"CategoricalTickFormatter\"},\"plot\":{\"id\":\"1a3ff70a-0459-4cf3-af17-d06ea51db7d0\",\"subtype\":\"Figure\",\"type\":\"Plot\"},\"ticker\":{\"id\":\"471a5261-9b64-4fde-8fa7-7f2b8079030b\",\"type\":\"CategoricalTicker\"}},\"id\":\"df6dea95-4332-41fc-b1a3-b6a92877fdf5\",\"type\":\"CategoricalAxis\"},{\"attributes\":{},\"id\":\"a45c5c6e-6f59-4c35-94c4-80fbcb864284\",\"type\":\"BasicTickFormatter\"},{\"attributes\":{\"fill_alpha\":{\"value\":0.1},\"fill_color\":{\"value\":\"#1f77b4\"},\"line_alpha\":{\"value\":0.1},\"line_color\":{\"value\":\"#1f77b4\"},\"top\":{\"field\":\"flux\"},\"width\":{\"value\":0.9},\"x\":{\"field\":\"band\"}},\"id\":\"65159e34-6bc5-4083-bfa3-f66f69c3d81c\",\"type\":\"VBar\"}],\"root_ids\":[\"5d9bc256-d142-4666-afda-86a8fe023241\"]},\"title\":\"Bokeh Application\",\"version\":\"0.12.16\"}};\n",
       "  var render_items = [{\"docid\":\"1b39d749-1460-46f5-a83a-20ccb2e2d639\",\"elementid\":\"c1839cdd-6232-4887-bfc8-0c57616cc8a2\",\"modelid\":\"5d9bc256-d142-4666-afda-86a8fe023241\"}];\n",
       "  root.Bokeh.embed.embed_items_notebook(docs_json, render_items);\n",
       "\n",
       "  }\n",
       "  if (root.Bokeh !== undefined) {\n",
       "    embed_document(root);\n",
       "  } else {\n",
       "    var attempts = 0;\n",
       "    var timer = setInterval(function(root) {\n",
       "      if (root.Bokeh !== undefined) {\n",
       "        embed_document(root);\n",
       "        clearInterval(timer);\n",
       "      }\n",
       "      attempts++;\n",
       "      if (attempts > 100) {\n",
       "        console.log(\"Bokeh: ERROR: Unable to run BokehJS code because BokehJS library is missing\")\n",
       "        clearInterval(timer);\n",
       "      }\n",
       "    }, 10, root)\n",
       "  }\n",
       "})(window);"
      ],
      "application/vnd.bokehjs_exec.v0+json": ""
     },
     "metadata": {
      "application/vnd.bokehjs_exec.v0+json": {
       "id": "5d9bc256-d142-4666-afda-86a8fe023241"
      }
     },
     "output_type": "display_data"
    },
    {
     "data": {
      "text/markdown": [
       "*FIGURE.* Difference between CLIRAD and CRD in TOA, SFC and net atmosphere flux, in each spectral band."
      ],
      "text/plain": [
       "<IPython.core.display.Markdown object>"
      ]
     },
     "metadata": {},
     "output_type": "display_data"
    },
    {
     "data": {
      "text/html": [
       "<div>\n",
       "<style scoped>\n",
       "    .dataframe tbody tr th:only-of-type {\n",
       "        vertical-align: middle;\n",
       "    }\n",
       "\n",
       "    .dataframe tbody tr th {\n",
       "        vertical-align: top;\n",
       "    }\n",
       "\n",
       "    .dataframe thead th {\n",
       "        text-align: right;\n",
       "    }\n",
       "</style>\n",
       "<table border=\"1\" class=\"dataframe\">\n",
       "  <thead>\n",
       "    <tr style=\"text-align: right;\">\n",
       "      <th></th>\n",
       "      <th>OLR flux</th>\n",
       "      <th>SFC flux</th>\n",
       "      <th>ATM heating</th>\n",
       "    </tr>\n",
       "    <tr>\n",
       "      <th>Sum over bands</th>\n",
       "      <th></th>\n",
       "      <th></th>\n",
       "      <th></th>\n",
       "    </tr>\n",
       "  </thead>\n",
       "  <tbody>\n",
       "    <tr>\n",
       "      <th>CLIRAD (single-run) - CRD</th>\n",
       "      <td>58.48</td>\n",
       "      <td>85.04</td>\n",
       "      <td>-26.56</td>\n",
       "    </tr>\n",
       "    <tr>\n",
       "      <th>CRD</th>\n",
       "      <td>-201.06</td>\n",
       "      <td>166.03</td>\n",
       "      <td>-119.67</td>\n",
       "    </tr>\n",
       "  </tbody>\n",
       "</table>\n",
       "</div>"
      ],
      "text/plain": [
       "                           OLR flux  SFC flux  ATM heating\n",
       "Sum over bands                                            \n",
       "CLIRAD (single-run) - CRD     58.48     85.04       -26.56\n",
       "CRD                         -201.06    166.03      -119.67"
      ]
     },
     "metadata": {},
     "output_type": "display_data"
    },
    {
     "data": {
      "text/markdown": [
       "*TABLE.* Difference between CLIRAD and CRD in TOA, SFC and net atmosphere flux, over all spectral bands. CRD's TOA, SFC and net atmosphere flux, over all spectral bands."
      ],
      "text/plain": [
       "<IPython.core.display.Markdown object>"
      ]
     },
     "metadata": {},
     "output_type": "display_data"
    },
    {
     "data": {
      "text/html": [
       "<a id=\"Cooling_rates._trp.\"></a>"
      ],
      "text/plain": [
       "<IPython.core.display.HTML object>"
      ]
     },
     "metadata": {},
     "output_type": "display_data"
    },
    {
     "data": {
      "text/markdown": [
       "# Cooling rates. trp."
      ],
      "text/plain": [
       "<IPython.core.display.Markdown object>"
      ]
     },
     "metadata": {},
     "output_type": "display_data"
    },
    {
     "data": {
      "text/html": [
       "\n",
       "<div class=\"bk-root\">\n",
       "    <div class=\"bk-plotdiv\" id=\"b384f1e9-2408-4a82-9aa4-0abade733355\"></div>\n",
       "</div>"
      ]
     },
     "metadata": {},
     "output_type": "display_data"
    },
    {
     "data": {
      "application/javascript": [
       "(function(root) {\n",
       "  function embed_document(root) {\n",
       "    \n",
       "  var docs_json = {\"811dd757-430c-4f1a-9574-4e56ff31d26f\":{\"roots\":{\"references\":[{\"attributes\":{\"label\":{\"value\":\"CLIRAD (single-run)\"},\"renderers\":[{\"id\":\"32f11792-f74d-4633-b5dc-a502ee73af0d\",\"type\":\"GlyphRenderer\"}]},\"id\":\"8351af5e-8e8b-45de-af31-45c52b86fec1\",\"type\":\"LegendItem\"},{\"attributes\":{},\"id\":\"56b7b633-740f-4f7f-919c-d5735deafc75\",\"type\":\"UnionRenderers\"},{\"attributes\":{},\"id\":\"df93c1de-717a-4809-90fd-40a1e29edc54\",\"type\":\"HelpTool\"},{\"attributes\":{\"dimension\":1,\"plot\":{\"id\":\"060163ad-d69e-4aef-ba7d-4b6c0d6b5720\",\"subtype\":\"Figure\",\"type\":\"Plot\"},\"ticker\":{\"id\":\"9078815f-4d81-4afb-83c3-191c67a6b624\",\"type\":\"LogTicker\"}},\"id\":\"54604072-9daa-4105-a8a4-2ca65d644478\",\"type\":\"Grid\"},{\"attributes\":{},\"id\":\"0cb94b9c-8166-44e2-890a-bb273c034d83\",\"type\":\"SaveTool\"},{\"attributes\":{\"overlay\":{\"id\":\"2ef4089e-7093-481f-a52a-563fb11fe4f8\",\"type\":\"BoxAnnotation\"}},\"id\":\"b768728f-3155-4288-8fa4-f996d602a83b\",\"type\":\"BoxZoomTool\"},{\"attributes\":{},\"id\":\"d98ed2fc-7666-40e5-827e-d81a4ce50b30\",\"type\":\"LogScale\"},{\"attributes\":{\"axis_label\":\"pressure [mb]\",\"formatter\":{\"id\":\"74cf0404-6e21-4008-9c93-46a296ebf6c0\",\"type\":\"LogTickFormatter\"},\"plot\":{\"id\":\"060163ad-d69e-4aef-ba7d-4b6c0d6b5720\",\"subtype\":\"Figure\",\"type\":\"Plot\"},\"ticker\":{\"id\":\"9078815f-4d81-4afb-83c3-191c67a6b624\",\"type\":\"LogTicker\"}},\"id\":\"6b9648f2-06a2-40cc-b458-93950646ca09\",\"type\":\"LogAxis\"},{\"attributes\":{\"callback\":null,\"data\":{\"x\":{\"__ndarray__\":\"R/KIaN7AVEClCeJMyPNGQOvRhpxr30JAptxzhxx4PkA7SssMElA4QK6Bp3CyUDNAsVXpjES9LkBFhUV0+5coQMHYwqbbySNA6f09nM3nH0CaSd/3eYoZQDmgiAOW8BNAPYqARh3eDEBkm4vCgvr+P9D+5tWhQfY/P8DwKRnSAkBq38kb17ILQDT7IWuSsxFAUr2Rjm0FFkAinq3s9XgbQGCHwtYcqSFAG64kT303J0C7dRDneyooQD9JYrbK8yRA9S3bneHhIUAIymSuUMMcQIkHLe6VEBdAAau3cITREkA6CiNvkQIPQJU39ki7IQlAaAvwok1UA0BXLQiS4+L7P0xzDpJ2hPI/NNuPGMbJ5z91mUVYxqfSPxqwUPSxZca/G11peifD3L8QzNj5t2jTvwzOozTL360/SPJ4VI1VzD9KJ0nXEIncP8yDdlvHt+4/Et49nYLW9z++2teD4Jn+P+568eH/bwFALf5D9lmAAkCiZAicVOkCQPPT4jNKxwJAOjp3wTzBAUBSQsKNGisBQG4OmjqJwQBAJ3sZoHFuAEA5Ar0Sdi0AQGy4rw5+9f8/7W4nSrC3/z8mPr8zj4T/P4UYRHCQS/8/embVKYcF/z+5YXG+LLP+P/qb8BVUgf4/KvafTtyO/j/avAK1Ppv+PwJV9VVm2P0/JFtYlU/n/D9sN+q2fiX6Pw44e41PNPc/Opt+Z/wN9T+x3vcSW1vzP9ofvWQJlvI/8sciQQBW8j80sfkQa17yPzg5qng2r/I/Oh14WJBh8z+VZjnpctj0P6CcrSuCqQBA\",\"dtype\":\"float64\",\"shape\":[75]},\"y\":{\"__ndarray__\":\"GhExyth1ND/Sv8nbtpRIP2vylNV0PVE/aTum7souWD/At0SJ8fVgPw3Iuahxymc/MSNhhJWvcD/bTfBN02d3P2zb5nxnaoA/CD5h5MAGhz8NmeH1TyaQP+zrCsc9p5Y/LbKd76fGnz/bLW5ISEmmPww9YvTcQq8/JV2OstnstT8Er5Y7M8G+P0c+r3jqkcU/5h99k6ZBzj88bCIzFzjVP4enV8oyxN0//yH99nXg5D8qOpLLf0jtP5kqGJXUifQ/c9cS8kHP/D+/DpwzojQEQIEmwoanVwxA4lgXt9HgE0BSSZ2AJuIbQAMJih9jjiNA5q4l5INuK0AwTKYKRj0zQNv5fmq8/DpAaCJseHrtQkB/+zpwzoxKQM3MzMzMeFJAZmZmZmZqWEAAAAAAAFxeQM3MzMzMJmJAmpmZmZkfZUBmZmZmZhhoQDMzMzMzEWtAAAAAAAAKbkBmZmZmZoFwQM3MzMzM/XFAMzMzMzN6c0CamZmZmfZ0QAAAAAAAc3ZAZmZmZmbvd0DNzMzMzGt5QDMzMzMz6HpAmpmZmZlkfEAAAAAAAOF9QGZmZmZmXX9AZmZmZuZsgECamZmZGSuBQM3MzMxM6YFAAAAAAICngkAzMzMzs2WDQGZmZmbmI4RAmpmZmRnihEDNzMzMTKCFQAAAAACAXoZAMzMzM7Mch0BmZmZm5tqHQJqZmZkZmYhAzczMzExXiUAAAAAAgBWKQDMzMzOz04pAZmZmZuaRi0CamZmZGVCMQM3MzMxMDo1AAAAAAIDMjUAzMzMzs4qOQGZmZmbmSI9A\",\"dtype\":\"float64\",\"shape\":[75]}},\"selected\":{\"id\":\"e0afae92-5582-4d31-983f-73c05056bac1\",\"type\":\"Selection\"},\"selection_policy\":{\"id\":\"56b7b633-740f-4f7f-919c-d5735deafc75\",\"type\":\"UnionRenderers\"}},\"id\":\"b1654bbc-3732-461b-8730-fdcf539faf1d\",\"type\":\"ColumnDataSource\"},{\"attributes\":{\"ticker\":null},\"id\":\"4446d148-5c53-45c8-ba80-313375d7b01a\",\"type\":\"LogTickFormatter\"},{\"attributes\":{\"line_alpha\":0.1,\"line_color\":\"#1f77b4\",\"line_width\":1.5,\"x\":{\"field\":\"x\"},\"y\":{\"field\":\"y\"}},\"id\":\"5fb8836b-6845-4422-b02f-04b8e5b0525f\",\"type\":\"Line\"},{\"attributes\":{\"plot\":null,\"text\":\"\"},\"id\":\"b39b058b-bd32-431d-819f-458d7ee6603f\",\"type\":\"Title\"},{\"attributes\":{\"line_color\":\"#4daf4a\",\"line_width\":1.5,\"x\":{\"field\":\"x\"},\"y\":{\"field\":\"y\"}},\"id\":\"c084d7fe-18eb-4203-9272-734293046115\",\"type\":\"Line\"},{\"attributes\":{},\"id\":\"f870d8b6-f291-4862-8454-b4250862ac91\",\"type\":\"ResetTool\"},{\"attributes\":{\"callback\":null,\"end\":0.01,\"start\":1020},\"id\":\"b41cf39f-c9d9-414e-b43b-b9c4346b5279\",\"type\":\"Range1d\"},{\"attributes\":{},\"id\":\"50ac1aab-f79b-4897-b525-6a6f15b0d8d1\",\"type\":\"BasicTicker\"},{\"attributes\":{},\"id\":\"b17fbec9-8d75-4777-8040-a297d86d0d5f\",\"type\":\"BasicTickFormatter\"},{\"attributes\":{},\"id\":\"627d0437-51e0-45c7-b729-ed435663815d\",\"type\":\"PanTool\"},{\"attributes\":{\"items\":[{\"id\":\"e3cfabe4-ff88-44a2-999c-fbd6957b2e0a\",\"type\":\"LegendItem\"}],\"label_text_font_size\":{\"value\":\"8pt\"},\"location\":\"top_center\",\"orientation\":\"horizontal\",\"plot\":{\"id\":\"060163ad-d69e-4aef-ba7d-4b6c0d6b5720\",\"subtype\":\"Figure\",\"type\":\"Plot\"}},\"id\":\"e9f7163e-34b0-4c7b-ac7d-67bcda11df02\",\"type\":\"Legend\"},{\"attributes\":{\"axis_label\":\"pressure [mb]\",\"formatter\":{\"id\":\"0e89be13-7af6-40c5-866f-768b0e9fac08\",\"type\":\"BasicTickFormatter\"},\"plot\":{\"id\":\"d00fae65-cefe-4ebc-a5db-a2d4b501b895\",\"subtype\":\"Figure\",\"type\":\"Plot\"},\"ticker\":{\"id\":\"b814bdd0-5017-4e90-9dd1-be0751ad485c\",\"type\":\"BasicTicker\"}},\"id\":\"9594bef8-8008-422b-844d-0e08eeef96db\",\"type\":\"LinearAxis\"},{\"attributes\":{},\"id\":\"dd8cd9bc-ae63-40a2-8cb2-b181e68c9c8e\",\"type\":\"WheelZoomTool\"},{\"attributes\":{},\"id\":\"1622edb6-8153-4a35-aba2-99492573eb95\",\"type\":\"UnionRenderers\"},{\"attributes\":{},\"id\":\"9f04d328-e476-4ff1-82da-45eef852e800\",\"type\":\"UnionRenderers\"},{\"attributes\":{},\"id\":\"1aad5e16-8bb0-4c26-a765-935c4d469b55\",\"type\":\"UnionRenderers\"},{\"attributes\":{},\"id\":\"aa7bd368-1380-4b22-8366-8d4de3653767\",\"type\":\"WheelZoomTool\"},{\"attributes\":{},\"id\":\"229875a1-6bd7-4210-8edd-fad0ac01a596\",\"type\":\"LinearScale\"},{\"attributes\":{\"plot\":{\"id\":\"060163ad-d69e-4aef-ba7d-4b6c0d6b5720\",\"subtype\":\"Figure\",\"type\":\"Plot\"},\"ticker\":{\"id\":\"50ac1aab-f79b-4897-b525-6a6f15b0d8d1\",\"type\":\"BasicTicker\"}},\"id\":\"8a9f77f6-1932-4e6f-a6ae-16efc6bcad06\",\"type\":\"Grid\"},{\"attributes\":{\"data_source\":{\"id\":\"b1654bbc-3732-461b-8730-fdcf539faf1d\",\"type\":\"ColumnDataSource\"},\"glyph\":{\"id\":\"c084d7fe-18eb-4203-9272-734293046115\",\"type\":\"Line\"},\"hover_glyph\":null,\"muted_glyph\":null,\"nonselection_glyph\":{\"id\":\"ae7de985-885b-441a-91c3-7afc484338d8\",\"type\":\"Line\"},\"selection_glyph\":null,\"view\":{\"id\":\"12a2d35a-3a92-491b-acf4-00eb56b24278\",\"type\":\"CDSView\"}},\"id\":\"f78061ee-dd6f-4607-8f2f-3e13c2ac49e4\",\"type\":\"GlyphRenderer\"},{\"attributes\":{\"plot\":{\"id\":\"d00fae65-cefe-4ebc-a5db-a2d4b501b895\",\"subtype\":\"Figure\",\"type\":\"Plot\"},\"ticker\":{\"id\":\"cb6616b4-c7ce-4a1a-b0d1-64b7d42fe2cc\",\"type\":\"BasicTicker\"}},\"id\":\"f4e25d70-27d0-4ea5-b60b-9d6a54b66b41\",\"type\":\"Grid\"},{\"attributes\":{\"fill_alpha\":{\"value\":0.7},\"fill_color\":{\"value\":\"#4daf4a\"},\"line_alpha\":{\"value\":0.7},\"line_color\":{\"value\":\"#4daf4a\"},\"x\":{\"field\":\"x\"},\"y\":{\"field\":\"y\"}},\"id\":\"d50d1394-e707-4d31-8823-c577f570980e\",\"type\":\"Circle\"},{\"attributes\":{\"num_minor_ticks\":10},\"id\":\"9078815f-4d81-4afb-83c3-191c67a6b624\",\"type\":\"LogTicker\"},{\"attributes\":{\"data_source\":{\"id\":\"e84e69f3-65b6-4075-84f0-2c70e3156046\",\"type\":\"ColumnDataSource\"},\"glyph\":{\"id\":\"d50d1394-e707-4d31-8823-c577f570980e\",\"type\":\"Circle\"},\"hover_glyph\":null,\"muted_glyph\":null,\"nonselection_glyph\":{\"id\":\"328867ab-1c72-49fa-8370-3c7f9cdc2c53\",\"type\":\"Circle\"},\"selection_glyph\":null,\"view\":{\"id\":\"96f17e07-78e6-4cc4-bc42-593d5c014b5a\",\"type\":\"CDSView\"}},\"id\":\"3c63e341-419e-4d23-b83f-e558544924d4\",\"type\":\"GlyphRenderer\"},{\"attributes\":{},\"id\":\"cb6616b4-c7ce-4a1a-b0d1-64b7d42fe2cc\",\"type\":\"BasicTicker\"},{\"attributes\":{\"bottom_units\":\"screen\",\"fill_alpha\":{\"value\":0.5},\"fill_color\":{\"value\":\"lightgrey\"},\"left_units\":\"screen\",\"level\":\"overlay\",\"line_alpha\":{\"value\":1.0},\"line_color\":{\"value\":\"black\"},\"line_dash\":[4,4],\"line_width\":{\"value\":2},\"plot\":null,\"render_mode\":\"css\",\"right_units\":\"screen\",\"top_units\":\"screen\"},\"id\":\"2ef4089e-7093-481f-a52a-563fb11fe4f8\",\"type\":\"BoxAnnotation\"},{\"attributes\":{},\"id\":\"f594387c-4664-48db-b947-1c8d23823d19\",\"type\":\"BasicTickFormatter\"},{\"attributes\":{},\"id\":\"4b783111-80e9-4a36-9b4c-77253cd294e6\",\"type\":\"PanTool\"},{\"attributes\":{\"axis_label\":\"cooling rate [K/day]\",\"formatter\":{\"id\":\"2af893fe-1a6c-405b-9012-b18e3aa054e7\",\"type\":\"BasicTickFormatter\"},\"plot\":{\"id\":\"060163ad-d69e-4aef-ba7d-4b6c0d6b5720\",\"subtype\":\"Figure\",\"type\":\"Plot\"},\"ticker\":{\"id\":\"50ac1aab-f79b-4897-b525-6a6f15b0d8d1\",\"type\":\"BasicTicker\"}},\"id\":\"2fe63880-e9c3-4f1d-8898-bda0f67ea506\",\"type\":\"LinearAxis\"},{\"attributes\":{},\"id\":\"e0afae92-5582-4d31-983f-73c05056bac1\",\"type\":\"Selection\"},{\"attributes\":{\"callback\":null,\"data\":{\"x\":{\"__ndarray__\":\"ZzdTqPT7Q8AbqIxD+n8gwOY3MbngowLAcWW2oUxB/D+QlW1ZLkAOQFcdT9bi4A5AqW7RqCdnBED94FDJJSHnP1XE+k4+vee/A+9ujyT69L+V7KdBUArxvz760eNXzt2/0LKTbOtvuj9EWzgdeZPeP3O7BL/n3eE/mPcmbdZD2D9bBRVM/dK5P6wfbeDE1c2/3LasBRpA379A1N7+nZrev/rQ0B1oJ82/+Poz6PeMeL/Y/M1A3fC1P6Bzhq54jbK/doeEzsbLx7+pMaEhwFO8P34s1nAJHuI/xOEqWhxL4z+edCVWPGnZPzVxNE2TNdg/GLSi+7Ac5T/o3tQ7T5HoPz3QkldX1+M/6J43Po3q2z9drmKQydHYP+NcZ3Nt99I/TvlpFUgMvD/IHBBOpF2gP2/XYKvR8qc/zoZORaJdrT9AqOeEoOiuP4bjd336l7I/zguEb6J0tj/dFl3CrsDCP8XJONEDbck/HTllfalpI0ASnmUOJe8aQGC9V90Qh/C/zE2kUKfDGkDdfsTgthLzv5yHQXHNgiVAskJ6EIuKMcDCx+vg+7YDwPhwoDuVrgHAwFaHcEw+AMCNioBkgyH+v/Iy839vHPy/VHsKIaQ1+r/KwPkENED4v5+LrcEuO/a/iaDFrd0x9L9AjAP0aizyvyridJKtPvC/s2ymdS0H7r+77fAGef7pv4XugZAh0+O/ueqFdFRlKEBtPi4g5hHUP5pihQVql/K/MX4qRzlKB8Dns4M8rvv0vz4SYYkoYvK/PnODiwyw8L8mPXpuogjvvyiELBDfp+2/\",\"dtype\":\"float64\",\"shape\":[75]},\"y\":{\"__ndarray__\":\"GhExyth1ND/Sv8nbtpRIP2vylNV0PVE/aTum7souWD/At0SJ8fVgPw3Iuahxymc/MSNhhJWvcD/bTfBN02d3P2zb5nxnaoA/CD5h5MAGhz8NmeH1TyaQP+zrCsc9p5Y/LbKd76fGnz/bLW5ISEmmPww9YvTcQq8/JV2OstnstT8Er5Y7M8G+P0c+r3jqkcU/5h99k6ZBzj88bCIzFzjVP4enV8oyxN0//yH99nXg5D8qOpLLf0jtP5kqGJXUifQ/c9cS8kHP/D+/DpwzojQEQIEmwoanVwxA4lgXt9HgE0BSSZ2AJuIbQAMJih9jjiNA5q4l5INuK0AwTKYKRj0zQNv5fmq8/DpAaCJseHrtQkB/+zpwzoxKQM3MzMzMeFJAZmZmZmZqWEAAAAAAAFxeQM3MzMzMJmJAmpmZmZkfZUBmZmZmZhhoQDMzMzMzEWtAAAAAAAAKbkBmZmZmZoFwQM3MzMzM/XFAMzMzMzN6c0CamZmZmfZ0QAAAAAAAc3ZAZmZmZmbvd0DNzMzMzGt5QDMzMzMz6HpAmpmZmZlkfEAAAAAAAOF9QGZmZmZmXX9AZmZmZuZsgECamZmZGSuBQM3MzMxM6YFAAAAAAICngkAzMzMzs2WDQGZmZmbmI4RAmpmZmRnihEDNzMzMTKCFQAAAAACAXoZAMzMzM7Mch0BmZmZm5tqHQJqZmZkZmYhAzczMzExXiUAAAAAAgBWKQDMzMzOz04pAZmZmZuaRi0CamZmZGVCMQM3MzMxMDo1AAAAAAIDMjUAzMzMzs4qOQGZmZmbmSI9A\",\"dtype\":\"float64\",\"shape\":[75]}},\"selected\":{\"id\":\"1a518803-5543-4efd-ada9-89919f64b943\",\"type\":\"Selection\"},\"selection_policy\":{\"id\":\"37819b8c-e59c-477d-b3ae-62420d84da10\",\"type\":\"UnionRenderers\"}},\"id\":\"5eb45795-6f3d-41bd-9f88-68af9bcf1054\",\"type\":\"ColumnDataSource\"},{\"attributes\":{\"callback\":null,\"data\":{\"x\":{\"__ndarray__\":\"R/KIaN7AVEClCeJMyPNGQOvRhpxr30JAptxzhxx4PkA7SssMElA4QK6Bp3CyUDNAsVXpjES9LkBFhUV0+5coQMHYwqbbySNA6f09nM3nH0CaSd/3eYoZQDmgiAOW8BNAPYqARh3eDEBkm4vCgvr+P9D+5tWhQfY/P8DwKRnSAkBq38kb17ILQDT7IWuSsxFAUr2Rjm0FFkAinq3s9XgbQGCHwtYcqSFAG64kT303J0C7dRDneyooQD9JYrbK8yRA9S3bneHhIUAIymSuUMMcQIkHLe6VEBdAAau3cITREkA6CiNvkQIPQJU39ki7IQlAaAvwok1UA0BXLQiS4+L7P0xzDpJ2hPI/NNuPGMbJ5z91mUVYxqfSPxqwUPSxZca/G11peifD3L8QzNj5t2jTvwzOozTL360/SPJ4VI1VzD9KJ0nXEIncP8yDdlvHt+4/Et49nYLW9z++2teD4Jn+P+568eH/bwFALf5D9lmAAkCiZAicVOkCQPPT4jNKxwJAOjp3wTzBAUBSQsKNGisBQG4OmjqJwQBAJ3sZoHFuAEA5Ar0Sdi0AQGy4rw5+9f8/7W4nSrC3/z8mPr8zj4T/P4UYRHCQS/8/embVKYcF/z+5YXG+LLP+P/qb8BVUgf4/KvafTtyO/j/avAK1Ppv+PwJV9VVm2P0/JFtYlU/n/D9sN+q2fiX6Pw44e41PNPc/Opt+Z/wN9T+x3vcSW1vzP9ofvWQJlvI/8sciQQBW8j80sfkQa17yPzg5qng2r/I/Oh14WJBh8z+VZjnpctj0P6CcrSuCqQBA\",\"dtype\":\"float64\",\"shape\":[75]},\"y\":{\"__ndarray__\":\"GhExyth1ND/Sv8nbtpRIP2vylNV0PVE/aTum7souWD/At0SJ8fVgPw3Iuahxymc/MSNhhJWvcD/bTfBN02d3P2zb5nxnaoA/CD5h5MAGhz8NmeH1TyaQP+zrCsc9p5Y/LbKd76fGnz/bLW5ISEmmPww9YvTcQq8/JV2OstnstT8Er5Y7M8G+P0c+r3jqkcU/5h99k6ZBzj88bCIzFzjVP4enV8oyxN0//yH99nXg5D8qOpLLf0jtP5kqGJXUifQ/c9cS8kHP/D+/DpwzojQEQIEmwoanVwxA4lgXt9HgE0BSSZ2AJuIbQAMJih9jjiNA5q4l5INuK0AwTKYKRj0zQNv5fmq8/DpAaCJseHrtQkB/+zpwzoxKQM3MzMzMeFJAZmZmZmZqWEAAAAAAAFxeQM3MzMzMJmJAmpmZmZkfZUBmZmZmZhhoQDMzMzMzEWtAAAAAAAAKbkBmZmZmZoFwQM3MzMzM/XFAMzMzMzN6c0CamZmZmfZ0QAAAAAAAc3ZAZmZmZmbvd0DNzMzMzGt5QDMzMzMz6HpAmpmZmZlkfEAAAAAAAOF9QGZmZmZmXX9AZmZmZuZsgECamZmZGSuBQM3MzMxM6YFAAAAAAICngkAzMzMzs2WDQGZmZmbmI4RAmpmZmRnihEDNzMzMTKCFQAAAAACAXoZAMzMzM7Mch0BmZmZm5tqHQJqZmZkZmYhAzczMzExXiUAAAAAAgBWKQDMzMzOz04pAZmZmZuaRi0CamZmZGVCMQM3MzMxMDo1AAAAAAIDMjUAzMzMzs4qOQGZmZmbmSI9A\",\"dtype\":\"float64\",\"shape\":[75]}},\"selected\":{\"id\":\"67d959db-ec4a-4d95-836e-afcce152f135\",\"type\":\"Selection\"},\"selection_policy\":{\"id\":\"1622edb6-8153-4a35-aba2-99492573eb95\",\"type\":\"UnionRenderers\"}},\"id\":\"e84e69f3-65b6-4075-84f0-2c70e3156046\",\"type\":\"ColumnDataSource\"},{\"attributes\":{\"overlay\":{\"id\":\"6e4ad395-f667-4661-a984-59f87fd9491d\",\"type\":\"BoxAnnotation\"}},\"id\":\"6e3d9a84-bc8a-4ad6-95e3-614074e2ef82\",\"type\":\"BoxZoomTool\"},{\"attributes\":{},\"id\":\"39df42f5-e8ec-4efe-9043-2249d1b388cd\",\"type\":\"LinearScale\"},{\"attributes\":{\"fill_alpha\":{\"value\":0.1},\"fill_color\":{\"value\":\"#1f77b4\"},\"line_alpha\":{\"value\":0.1},\"line_color\":{\"value\":\"#1f77b4\"},\"x\":{\"field\":\"x\"},\"y\":{\"field\":\"y\"}},\"id\":\"328867ab-1c72-49fa-8370-3c7f9cdc2c53\",\"type\":\"Circle\"},{\"attributes\":{\"callback\":null,\"data\":{\"x\":{\"__ndarray__\":\"ZzdTqPT7Q8AbqIxD+n8gwOY3MbngowLAcWW2oUxB/D+QlW1ZLkAOQFcdT9bi4A5AqW7RqCdnBED94FDJJSHnP1XE+k4+vee/A+9ujyT69L+V7KdBUArxvz760eNXzt2/0LKTbOtvuj9EWzgdeZPeP3O7BL/n3eE/mPcmbdZD2D9bBRVM/dK5P6wfbeDE1c2/3LasBRpA379A1N7+nZrev/rQ0B1oJ82/+Poz6PeMeL/Y/M1A3fC1P6Bzhq54jbK/doeEzsbLx7+pMaEhwFO8P34s1nAJHuI/xOEqWhxL4z+edCVWPGnZPzVxNE2TNdg/GLSi+7Ac5T/o3tQ7T5HoPz3QkldX1+M/6J43Po3q2z9drmKQydHYP+NcZ3Nt99I/TvlpFUgMvD/IHBBOpF2gP2/XYKvR8qc/zoZORaJdrT9AqOeEoOiuP4bjd336l7I/zguEb6J0tj/dFl3CrsDCP8XJONEDbck/HTllfalpI0ASnmUOJe8aQGC9V90Qh/C/zE2kUKfDGkDdfsTgthLzv5yHQXHNgiVAskJ6EIuKMcDCx+vg+7YDwPhwoDuVrgHAwFaHcEw+AMCNioBkgyH+v/Iy839vHPy/VHsKIaQ1+r/KwPkENED4v5+LrcEuO/a/iaDFrd0x9L9AjAP0aizyvyridJKtPvC/s2ymdS0H7r+77fAGef7pv4XugZAh0+O/ueqFdFRlKEBtPi4g5hHUP5pihQVql/K/MX4qRzlKB8Dns4M8rvv0vz4SYYkoYvK/PnODiwyw8L8mPXpuogjvvyiELBDfp+2/\",\"dtype\":\"float64\",\"shape\":[75]},\"y\":{\"__ndarray__\":\"GhExyth1ND/Sv8nbtpRIP2vylNV0PVE/aTum7souWD/At0SJ8fVgPw3Iuahxymc/MSNhhJWvcD/bTfBN02d3P2zb5nxnaoA/CD5h5MAGhz8NmeH1TyaQP+zrCsc9p5Y/LbKd76fGnz/bLW5ISEmmPww9YvTcQq8/JV2OstnstT8Er5Y7M8G+P0c+r3jqkcU/5h99k6ZBzj88bCIzFzjVP4enV8oyxN0//yH99nXg5D8qOpLLf0jtP5kqGJXUifQ/c9cS8kHP/D+/DpwzojQEQIEmwoanVwxA4lgXt9HgE0BSSZ2AJuIbQAMJih9jjiNA5q4l5INuK0AwTKYKRj0zQNv5fmq8/DpAaCJseHrtQkB/+zpwzoxKQM3MzMzMeFJAZmZmZmZqWEAAAAAAAFxeQM3MzMzMJmJAmpmZmZkfZUBmZmZmZhhoQDMzMzMzEWtAAAAAAAAKbkBmZmZmZoFwQM3MzMzM/XFAMzMzMzN6c0CamZmZmfZ0QAAAAAAAc3ZAZmZmZmbvd0DNzMzMzGt5QDMzMzMz6HpAmpmZmZlkfEAAAAAAAOF9QGZmZmZmXX9AZmZmZuZsgECamZmZGSuBQM3MzMxM6YFAAAAAAICngkAzMzMzs2WDQGZmZmbmI4RAmpmZmRnihEDNzMzMTKCFQAAAAACAXoZAMzMzM7Mch0BmZmZm5tqHQJqZmZkZmYhAzczMzExXiUAAAAAAgBWKQDMzMzOz04pAZmZmZuaRi0CamZmZGVCMQM3MzMxMDo1AAAAAAIDMjUAzMzMzs4qOQGZmZmbmSI9A\",\"dtype\":\"float64\",\"shape\":[75]}},\"selected\":{\"id\":\"81409892-31e3-4b13-8607-93b8f195eab4\",\"type\":\"Selection\"},\"selection_policy\":{\"id\":\"962e9433-b09e-4bd8-ac84-579d3a211678\",\"type\":\"UnionRenderers\"}},\"id\":\"be17dfda-dc6d-491b-80b8-9fbf901cd8d1\",\"type\":\"ColumnDataSource\"},{\"attributes\":{\"line_alpha\":0.8,\"line_color\":\"#984ea3\",\"line_width\":1.5,\"x\":{\"field\":\"x\"},\"y\":{\"field\":\"y\"}},\"id\":\"659630cc-fef9-4fe0-a149-a210619be7c5\",\"type\":\"Line\"},{\"attributes\":{},\"id\":\"96e739a0-2388-4eaa-8217-489cf17d9f3b\",\"type\":\"Selection\"},{\"attributes\":{},\"id\":\"41fa3ff4-798d-43d9-8348-2bd3798e0c6b\",\"type\":\"HelpTool\"},{\"attributes\":{\"above\":[{\"id\":\"2cf30a6a-1215-4e59-ad0d-7cebe264daf0\",\"type\":\"Legend\"}],\"below\":[{\"id\":\"f58659dd-54b0-46a7-a3fc-54e5388f86a4\",\"type\":\"LinearAxis\"}],\"left\":[{\"id\":\"9594bef8-8008-422b-844d-0e08eeef96db\",\"type\":\"LinearAxis\"}],\"plot_width\":300,\"renderers\":[{\"id\":\"f58659dd-54b0-46a7-a3fc-54e5388f86a4\",\"type\":\"LinearAxis\"},{\"id\":\"f4e25d70-27d0-4ea5-b60b-9d6a54b66b41\",\"type\":\"Grid\"},{\"id\":\"9594bef8-8008-422b-844d-0e08eeef96db\",\"type\":\"LinearAxis\"},{\"id\":\"10b44788-be55-4bed-8025-0de6a73afe02\",\"type\":\"Grid\"},{\"id\":\"2ef4089e-7093-481f-a52a-563fb11fe4f8\",\"type\":\"BoxAnnotation\"},{\"id\":\"f304547c-e9e6-43fe-8548-a86037ca000a\",\"type\":\"GlyphRenderer\"},{\"id\":\"ac859362-8047-47bc-b599-4946b6933829\",\"type\":\"GlyphRenderer\"},{\"id\":\"7ddb907d-8c86-44a8-bb36-c51dfa66f0d8\",\"type\":\"GlyphRenderer\"},{\"id\":\"2cf30a6a-1215-4e59-ad0d-7cebe264daf0\",\"type\":\"Legend\"}],\"title\":{\"id\":\"89c4d968-8be4-4017-a91d-56644e821494\",\"type\":\"Title\"},\"toolbar\":{\"id\":\"152aee94-a853-4f38-90b8-7a006aa6fd35\",\"type\":\"Toolbar\"},\"toolbar_location\":null,\"x_range\":{\"id\":\"b49bf1ca-71c0-45b4-bd41-3b363fc3fcc4\",\"type\":\"Range1d\"},\"x_scale\":{\"id\":\"4afd66c8-c16a-48c6-9663-15ea7f3d8d0e\",\"type\":\"LinearScale\"},\"y_range\":{\"id\":\"b41cf39f-c9d9-414e-b43b-b9c4346b5279\",\"type\":\"Range1d\"},\"y_scale\":{\"id\":\"39df42f5-e8ec-4efe-9043-2249d1b388cd\",\"type\":\"LinearScale\"}},\"id\":\"d00fae65-cefe-4ebc-a5db-a2d4b501b895\",\"subtype\":\"Figure\",\"type\":\"Plot\"},{\"attributes\":{\"fill_alpha\":{\"value\":0.1},\"fill_color\":{\"value\":\"#1f77b4\"},\"line_alpha\":{\"value\":0.1},\"line_color\":{\"value\":\"#1f77b4\"},\"x\":{\"field\":\"x\"},\"y\":{\"field\":\"y\"}},\"id\":\"14b6ca0b-64d9-479b-a813-f8289037c6a0\",\"type\":\"Circle\"},{\"attributes\":{\"line_alpha\":0.1,\"line_color\":\"#1f77b4\",\"line_width\":1.5,\"x\":{\"field\":\"x\"},\"y\":{\"field\":\"y\"}},\"id\":\"ae7de985-885b-441a-91c3-7afc484338d8\",\"type\":\"Line\"},{\"attributes\":{\"data_source\":{\"id\":\"5eb45795-6f3d-41bd-9f88-68af9bcf1054\",\"type\":\"ColumnDataSource\"},\"glyph\":{\"id\":\"fbbe14ac-b01f-4e21-8b3d-cfa3fc647ae6\",\"type\":\"Circle\"},\"hover_glyph\":null,\"muted_glyph\":null,\"nonselection_glyph\":{\"id\":\"14b6ca0b-64d9-479b-a813-f8289037c6a0\",\"type\":\"Circle\"},\"selection_glyph\":null,\"view\":{\"id\":\"13247ff5-b9bb-4e49-afa2-ca8a3141ac78\",\"type\":\"CDSView\"}},\"id\":\"5a448c41-e75c-4a21-a50f-1545c52532b5\",\"type\":\"GlyphRenderer\"},{\"attributes\":{\"overlay\":{\"id\":\"fd2ff61f-3f35-49c5-a391-7dc419615075\",\"type\":\"BoxAnnotation\"}},\"id\":\"88de2bda-011a-48d7-85a5-dd158065e7e4\",\"type\":\"BoxZoomTool\"},{\"attributes\":{},\"id\":\"4ea39d9e-6220-4952-bc75-68c609a37124\",\"type\":\"SaveTool\"},{\"attributes\":{},\"id\":\"d35898e3-2c9a-40a8-a317-ab07a4a148ca\",\"type\":\"ResetTool\"},{\"attributes\":{\"data_source\":{\"id\":\"be17dfda-dc6d-491b-80b8-9fbf901cd8d1\",\"type\":\"ColumnDataSource\"},\"glyph\":{\"id\":\"659630cc-fef9-4fe0-a149-a210619be7c5\",\"type\":\"Line\"},\"hover_glyph\":null,\"muted_glyph\":null,\"nonselection_glyph\":{\"id\":\"5fb8836b-6845-4422-b02f-04b8e5b0525f\",\"type\":\"Line\"},\"selection_glyph\":null,\"view\":{\"id\":\"84f6cfad-70b4-45f4-9a81-ef2797bd3c3f\",\"type\":\"CDSView\"}},\"id\":\"0dadb7df-b709-4c32-9ffb-11c4f022ed28\",\"type\":\"GlyphRenderer\"},{\"attributes\":{},\"id\":\"e595d77c-505b-4048-a0ec-5b6626580422\",\"type\":\"WheelZoomTool\"},{\"attributes\":{},\"id\":\"67d959db-ec4a-4d95-836e-afcce152f135\",\"type\":\"Selection\"},{\"attributes\":{\"fill_alpha\":{\"value\":0.7},\"fill_color\":{\"value\":\"#984ea3\"},\"line_alpha\":{\"value\":0.7},\"line_color\":{\"value\":\"#984ea3\"},\"x\":{\"field\":\"x\"},\"y\":{\"field\":\"y\"}},\"id\":\"fbbe14ac-b01f-4e21-8b3d-cfa3fc647ae6\",\"type\":\"Circle\"},{\"attributes\":{\"axis_label\":\"cooling rate [K/day]\",\"formatter\":{\"id\":\"b17fbec9-8d75-4777-8040-a297d86d0d5f\",\"type\":\"BasicTickFormatter\"},\"plot\":{\"id\":\"d00fae65-cefe-4ebc-a5db-a2d4b501b895\",\"subtype\":\"Figure\",\"type\":\"Plot\"},\"ticker\":{\"id\":\"cb6616b4-c7ce-4a1a-b0d1-64b7d42fe2cc\",\"type\":\"BasicTicker\"}},\"id\":\"f58659dd-54b0-46a7-a3fc-54e5388f86a4\",\"type\":\"LinearAxis\"},{\"attributes\":{},\"id\":\"55564c06-a51b-45f1-bd90-804c0e355574\",\"type\":\"SaveTool\"},{\"attributes\":{\"line_alpha\":0.1,\"line_color\":\"#1f77b4\",\"line_dash\":[6],\"line_width\":5,\"x\":{\"field\":\"x\"},\"y\":{\"field\":\"y\"}},\"id\":\"749eb954-1c7a-4610-a043-ecafa6061291\",\"type\":\"Line\"},{\"attributes\":{},\"id\":\"369b2f1e-c0a4-445a-98b4-1f2798c21e16\",\"type\":\"HelpTool\"},{\"attributes\":{},\"id\":\"b0d863af-370f-409f-8ed8-60755d0c0b75\",\"type\":\"ResetTool\"},{\"attributes\":{\"active_drag\":\"auto\",\"active_inspect\":\"auto\",\"active_scroll\":\"auto\",\"active_tap\":\"auto\",\"tools\":[{\"id\":\"4b783111-80e9-4a36-9b4c-77253cd294e6\",\"type\":\"PanTool\"},{\"id\":\"dd8cd9bc-ae63-40a2-8cb2-b181e68c9c8e\",\"type\":\"WheelZoomTool\"},{\"id\":\"b768728f-3155-4288-8fa4-f996d602a83b\",\"type\":\"BoxZoomTool\"},{\"id\":\"0cb94b9c-8166-44e2-890a-bb273c034d83\",\"type\":\"SaveTool\"},{\"id\":\"f870d8b6-f291-4862-8454-b4250862ac91\",\"type\":\"ResetTool\"},{\"id\":\"df93c1de-717a-4809-90fd-40a1e29edc54\",\"type\":\"HelpTool\"}]},\"id\":\"152aee94-a853-4f38-90b8-7a006aa6fd35\",\"type\":\"Toolbar\"},{\"attributes\":{\"callback\":null,\"end\":0.01,\"start\":1020},\"id\":\"e58e8228-c253-40ac-b6f1-81392399918c\",\"type\":\"Range1d\"},{\"attributes\":{},\"id\":\"035024c4-3ac2-4d27-8b7c-ccdab899c939\",\"type\":\"Selection\"},{\"attributes\":{\"label\":{\"value\":\"CRD\"},\"renderers\":[{\"id\":\"3c63e341-419e-4d23-b83f-e558544924d4\",\"type\":\"GlyphRenderer\"},{\"id\":\"f78061ee-dd6f-4607-8f2f-3e13c2ac49e4\",\"type\":\"GlyphRenderer\"}]},\"id\":\"1901e28d-42af-4bf2-8209-effae6a85693\",\"type\":\"LegendItem\"},{\"attributes\":{},\"id\":\"ed94eba9-9538-4b2b-ade9-68c28b5b5b23\",\"type\":\"UnionRenderers\"},{\"attributes\":{\"source\":{\"id\":\"5eb45795-6f3d-41bd-9f88-68af9bcf1054\",\"type\":\"ColumnDataSource\"}},\"id\":\"13247ff5-b9bb-4e49-afa2-ca8a3141ac78\",\"type\":\"CDSView\"},{\"attributes\":{\"items\":[{\"id\":\"a3f0be37-79af-4aba-987d-e922a8d97be1\",\"type\":\"LegendItem\"},{\"id\":\"719dc167-13d0-4c2d-8f2f-3a86c34fd40a\",\"type\":\"LegendItem\"}],\"label_text_font_size\":{\"value\":\"8pt\"},\"location\":\"top_center\",\"orientation\":\"horizontal\",\"plot\":{\"id\":\"d00fae65-cefe-4ebc-a5db-a2d4b501b895\",\"subtype\":\"Figure\",\"type\":\"Plot\"}},\"id\":\"2cf30a6a-1215-4e59-ad0d-7cebe264daf0\",\"type\":\"Legend\"},{\"attributes\":{\"bottom_units\":\"screen\",\"fill_alpha\":{\"value\":0.5},\"fill_color\":{\"value\":\"lightgrey\"},\"left_units\":\"screen\",\"level\":\"overlay\",\"line_alpha\":{\"value\":1.0},\"line_color\":{\"value\":\"black\"},\"line_dash\":[4,4],\"line_width\":{\"value\":2},\"plot\":null,\"render_mode\":\"css\",\"right_units\":\"screen\",\"top_units\":\"screen\"},\"id\":\"6e4ad395-f667-4661-a984-59f87fd9491d\",\"type\":\"BoxAnnotation\"},{\"attributes\":{\"items\":[{\"id\":\"8351af5e-8e8b-45de-af31-45c52b86fec1\",\"type\":\"LegendItem\"},{\"id\":\"1901e28d-42af-4bf2-8209-effae6a85693\",\"type\":\"LegendItem\"}],\"label_text_font_size\":{\"value\":\"8pt\"},\"location\":\"top_center\",\"orientation\":\"horizontal\",\"plot\":{\"id\":\"9b16fd37-2837-4da2-a62a-806cf7ebbdc8\",\"subtype\":\"Figure\",\"type\":\"Plot\"}},\"id\":\"eb900e88-7c5c-419b-b3a8-8883c7ebadc2\",\"type\":\"Legend\"},{\"attributes\":{\"callback\":null,\"data\":{\"x\":{\"__ndarray__\":\"Ka2+KMiFRUCe3/67ydNCQG2+85AttUFAgKHHqBgeQEDv/PjXFxg8QFdlccvOLDdAr9iOO4frMUBTk9rQDQoqQHss08EHTiJAKUJieESpGkB0TnXn5UcVQJaAS4WwExJA1CfloZyxDUAa2eyEsE8DQIpcabWVMP8/Mp+V95PaBUCThyoGb4EMQDiSHkTkxBBA5PE27msRFEDesL8MTI8ZQBxESzZ/NCFAm6cnsGs0J0C0EZKhXVYoQFo8BcWvziRA1xuhgrKCIUDOTuuunzQdQBjNRxxXVBlAOwf9++c6FUBl3PN83BcRQLrFnLJtKAxAcLjY4XmbCEBkTvmXxRUEQGrb1z0icPw/VdXVW4bf8j/pI1T0x7zlP1wT/ORREr8/yN4OdRXA1b94yBZwA13Rv8FSAnBO6bo//Unm8nrW0T8pDvNzEjPgPx7AklVjhfA/zx42xMw9+T/NvhEu+3gAQIkHBR/QBgNAqTj2+r8JKEAy6DSu5zEiQIbqbYqDB/U/dfWv2CLSIUCIC4B1/IbuPzYL6L8vsylAmCbuuHn5LsBCLHZxLkzcvw1MiURjPcu/KdLn3BKdqL+VOevzvDC2P6Ush4IHeck/lawrI4w/0z++g97l4svZP7UghqhKjOA/Q6u0Qf255D8zYf6Bp93oP63lAIdxM+s/lUkKtXHH6z8egeNmhEzqP5WBdIp9leo/Ib51ARQHK0BNbgOb1F/4PwD5K4QMCja/cTQyTXI+/L+gFVBcGerEv4S+SdJ7Q5M/40+lZx6MxT8HIPHHhlDVPyv3RM8Uf/I/\",\"dtype\":\"float64\",\"shape\":[75]},\"y\":{\"__ndarray__\":\"GhExyth1ND/Sv8nbtpRIP2vylNV0PVE/aTum7souWD/At0SJ8fVgPw3Iuahxymc/MSNhhJWvcD/bTfBN02d3P2zb5nxnaoA/CD5h5MAGhz8NmeH1TyaQP+zrCsc9p5Y/LbKd76fGnz/bLW5ISEmmPww9YvTcQq8/JV2OstnstT8Er5Y7M8G+P0c+r3jqkcU/5h99k6ZBzj88bCIzFzjVP4enV8oyxN0//yH99nXg5D8qOpLLf0jtP5kqGJXUifQ/c9cS8kHP/D+/DpwzojQEQIEmwoanVwxA4lgXt9HgE0BSSZ2AJuIbQAMJih9jjiNA5q4l5INuK0AwTKYKRj0zQNv5fmq8/DpAaCJseHrtQkB/+zpwzoxKQM3MzMzMeFJAZmZmZmZqWEAAAAAAAFxeQM3MzMzMJmJAmpmZmZkfZUBmZmZmZhhoQDMzMzMzEWtAAAAAAAAKbkBmZmZmZoFwQM3MzMzM/XFAMzMzMzN6c0CamZmZmfZ0QAAAAAAAc3ZAZmZmZmbvd0DNzMzMzGt5QDMzMzMz6HpAmpmZmZlkfEAAAAAAAOF9QGZmZmZmXX9AZmZmZuZsgECamZmZGSuBQM3MzMxM6YFAAAAAAICngkAzMzMzs2WDQGZmZmbmI4RAmpmZmRnihEDNzMzMTKCFQAAAAACAXoZAMzMzM7Mch0BmZmZm5tqHQJqZmZkZmYhAzczMzExXiUAAAAAAgBWKQDMzMzOz04pAZmZmZuaRi0CamZmZGVCMQM3MzMxMDo1AAAAAAIDMjUAzMzMzs4qOQGZmZmbmSI9A\",\"dtype\":\"float64\",\"shape\":[75]}},\"selected\":{\"id\":\"c8021718-f302-4f56-81c8-aaa13d54f237\",\"type\":\"Selection\"},\"selection_policy\":{\"id\":\"d655e587-c843-4846-a6c4-44b111de7814\",\"type\":\"UnionRenderers\"}},\"id\":\"64f199e0-ece2-4c80-909e-034ff33530eb\",\"type\":\"ColumnDataSource\"},{\"attributes\":{\"fill_alpha\":{\"value\":0.1},\"fill_color\":{\"value\":\"#1f77b4\"},\"line_alpha\":{\"value\":0.1},\"line_color\":{\"value\":\"#1f77b4\"},\"x\":{\"field\":\"x\"},\"y\":{\"field\":\"y\"}},\"id\":\"ea71f851-f102-432e-b31d-717ccbaa4155\",\"type\":\"Circle\"},{\"attributes\":{\"source\":{\"id\":\"e84e69f3-65b6-4075-84f0-2c70e3156046\",\"type\":\"ColumnDataSource\"}},\"id\":\"96f17e07-78e6-4cc4-bc42-593d5c014b5a\",\"type\":\"CDSView\"},{\"attributes\":{\"plot\":{\"id\":\"9b16fd37-2837-4da2-a62a-806cf7ebbdc8\",\"subtype\":\"Figure\",\"type\":\"Plot\"},\"ticker\":{\"id\":\"556cfff8-aa87-4cdd-bec0-2b56f91c9722\",\"type\":\"BasicTicker\"}},\"id\":\"25676d01-2453-4751-b31f-93c7eadca9e7\",\"type\":\"Grid\"},{\"attributes\":{},\"id\":\"d655e587-c843-4846-a6c4-44b111de7814\",\"type\":\"UnionRenderers\"},{\"attributes\":{\"callback\":null,\"end\":0.01,\"start\":1020},\"id\":\"79b9f84f-18ff-467e-ad09-ed2ad94db182\",\"type\":\"Range1d\"},{\"attributes\":{\"axis_label\":\"pressure [mb]\",\"formatter\":{\"id\":\"4446d148-5c53-45c8-ba80-313375d7b01a\",\"type\":\"LogTickFormatter\"},\"plot\":{\"id\":\"9b16fd37-2837-4da2-a62a-806cf7ebbdc8\",\"subtype\":\"Figure\",\"type\":\"Plot\"},\"ticker\":{\"id\":\"ca8e427f-c615-4412-9627-18538b0bc181\",\"type\":\"LogTicker\"}},\"id\":\"2af3e8dc-a39e-4ebc-92c8-2c7a8bc6df93\",\"type\":\"LogAxis\"},{\"attributes\":{\"source\":{\"id\":\"d95913ed-3631-416b-8ee8-2faf4b5b9429\",\"type\":\"ColumnDataSource\"}},\"id\":\"f0924533-2703-4a49-8c78-633be341c62d\",\"type\":\"CDSView\"},{\"attributes\":{\"dimension\":1,\"plot\":{\"id\":\"9b16fd37-2837-4da2-a62a-806cf7ebbdc8\",\"subtype\":\"Figure\",\"type\":\"Plot\"},\"ticker\":{\"id\":\"ca8e427f-c615-4412-9627-18538b0bc181\",\"type\":\"LogTicker\"}},\"id\":\"3e16f661-fc9c-4644-93db-5a7dc0da0d36\",\"type\":\"Grid\"},{\"attributes\":{\"callback\":null,\"data\":{\"x\":{\"__ndarray__\":\"Ka2+KMiFRUCe3/67ydNCQG2+85AttUFAgKHHqBgeQEDv/PjXFxg8QFdlccvOLDdAr9iOO4frMUBTk9rQDQoqQHss08EHTiJAKUJieESpGkB0TnXn5UcVQJaAS4WwExJA1CfloZyxDUAa2eyEsE8DQIpcabWVMP8/Mp+V95PaBUCThyoGb4EMQDiSHkTkxBBA5PE27msRFEDesL8MTI8ZQBxESzZ/NCFAm6cnsGs0J0C0EZKhXVYoQFo8BcWvziRA1xuhgrKCIUDOTuuunzQdQBjNRxxXVBlAOwf9++c6FUBl3PN83BcRQLrFnLJtKAxAcLjY4XmbCEBkTvmXxRUEQGrb1z0icPw/VdXVW4bf8j/pI1T0x7zlP1wT/ORREr8/yN4OdRXA1b94yBZwA13Rv8FSAnBO6bo//Unm8nrW0T8pDvNzEjPgPx7AklVjhfA/zx42xMw9+T/NvhEu+3gAQIkHBR/QBgNAqTj2+r8JKEAy6DSu5zEiQIbqbYqDB/U/dfWv2CLSIUCIC4B1/IbuPzYL6L8vsylAmCbuuHn5LsBCLHZxLkzcvw1MiURjPcu/KdLn3BKdqL+VOevzvDC2P6Ush4IHeck/lawrI4w/0z++g97l4svZP7UghqhKjOA/Q6u0Qf255D8zYf6Bp93oP63lAIdxM+s/lUkKtXHH6z8egeNmhEzqP5WBdIp9leo/Ib51ARQHK0BNbgOb1F/4PwD5K4QMCja/cTQyTXI+/L+gFVBcGerEv4S+SdJ7Q5M/40+lZx6MxT8HIPHHhlDVPyv3RM8Uf/I/\",\"dtype\":\"float64\",\"shape\":[75]},\"y\":{\"__ndarray__\":\"GhExyth1ND/Sv8nbtpRIP2vylNV0PVE/aTum7souWD/At0SJ8fVgPw3Iuahxymc/MSNhhJWvcD/bTfBN02d3P2zb5nxnaoA/CD5h5MAGhz8NmeH1TyaQP+zrCsc9p5Y/LbKd76fGnz/bLW5ISEmmPww9YvTcQq8/JV2OstnstT8Er5Y7M8G+P0c+r3jqkcU/5h99k6ZBzj88bCIzFzjVP4enV8oyxN0//yH99nXg5D8qOpLLf0jtP5kqGJXUifQ/c9cS8kHP/D+/DpwzojQEQIEmwoanVwxA4lgXt9HgE0BSSZ2AJuIbQAMJih9jjiNA5q4l5INuK0AwTKYKRj0zQNv5fmq8/DpAaCJseHrtQkB/+zpwzoxKQM3MzMzMeFJAZmZmZmZqWEAAAAAAAFxeQM3MzMzMJmJAmpmZmZkfZUBmZmZmZhhoQDMzMzMzEWtAAAAAAAAKbkBmZmZmZoFwQM3MzMzM/XFAMzMzMzN6c0CamZmZmfZ0QAAAAAAAc3ZAZmZmZmbvd0DNzMzMzGt5QDMzMzMz6HpAmpmZmZlkfEAAAAAAAOF9QGZmZmZmXX9AZmZmZuZsgECamZmZGSuBQM3MzMxM6YFAAAAAAICngkAzMzMzs2WDQGZmZmbmI4RAmpmZmRnihEDNzMzMTKCFQAAAAACAXoZAMzMzM7Mch0BmZmZm5tqHQJqZmZkZmYhAzczMzExXiUAAAAAAgBWKQDMzMzOz04pAZmZmZuaRi0CamZmZGVCMQM3MzMxMDo1AAAAAAIDMjUAzMzMzs4qOQGZmZmbmSI9A\",\"dtype\":\"float64\",\"shape\":[75]}},\"selected\":{\"id\":\"96e739a0-2388-4eaa-8217-489cf17d9f3b\",\"type\":\"Selection\"},\"selection_policy\":{\"id\":\"9f04d328-e476-4ff1-82da-45eef852e800\",\"type\":\"UnionRenderers\"}},\"id\":\"d95913ed-3631-416b-8ee8-2faf4b5b9429\",\"type\":\"ColumnDataSource\"},{\"attributes\":{\"num_minor_ticks\":10},\"id\":\"ca8e427f-c615-4412-9627-18538b0bc181\",\"type\":\"LogTicker\"},{\"attributes\":{\"children\":[{\"id\":\"b8c7643f-7420-410c-9ea6-3b5b1b9fbab3\",\"type\":\"ToolbarBox\"},{\"id\":\"3ed66ffa-1190-4e37-94a2-0d3074d163a4\",\"type\":\"Column\"}]},\"id\":\"035b9496-2817-4034-88cc-b439c20d8b5a\",\"type\":\"Column\"},{\"attributes\":{\"children\":[{\"id\":\"d00fae65-cefe-4ebc-a5db-a2d4b501b895\",\"subtype\":\"Figure\",\"type\":\"Plot\"},{\"id\":\"9b16fd37-2837-4da2-a62a-806cf7ebbdc8\",\"subtype\":\"Figure\",\"type\":\"Plot\"},{\"id\":\"060163ad-d69e-4aef-ba7d-4b6c0d6b5720\",\"subtype\":\"Figure\",\"type\":\"Plot\"}]},\"id\":\"e50edc2a-d2aa-42e7-9325-eac78cc61b70\",\"type\":\"Row\"},{\"attributes\":{},\"id\":\"962e9433-b09e-4bd8-ac84-579d3a211678\",\"type\":\"UnionRenderers\"},{\"attributes\":{\"active_drag\":\"auto\",\"active_inspect\":\"auto\",\"active_scroll\":\"auto\",\"active_tap\":\"auto\",\"tools\":[{\"id\":\"2842d663-a890-4741-a92e-5b658d56cb4d\",\"type\":\"PanTool\"},{\"id\":\"e595d77c-505b-4048-a0ec-5b6626580422\",\"type\":\"WheelZoomTool\"},{\"id\":\"88de2bda-011a-48d7-85a5-dd158065e7e4\",\"type\":\"BoxZoomTool\"},{\"id\":\"4ea39d9e-6220-4952-bc75-68c609a37124\",\"type\":\"SaveTool\"},{\"id\":\"d35898e3-2c9a-40a8-a317-ab07a4a148ca\",\"type\":\"ResetTool\"},{\"id\":\"41fa3ff4-798d-43d9-8348-2bd3798e0c6b\",\"type\":\"HelpTool\"}]},\"id\":\"2f6f7d15-8d95-429c-a38b-5930ea54572c\",\"type\":\"Toolbar\"},{\"attributes\":{\"line_alpha\":0.1,\"line_color\":\"#1f77b4\",\"line_dash\":[6],\"line_width\":5,\"x\":{\"field\":\"x\"},\"y\":{\"field\":\"y\"}},\"id\":\"d80c5f17-4284-4d64-979b-36f0c0a6bebb\",\"type\":\"Line\"},{\"attributes\":{\"bottom_units\":\"screen\",\"fill_alpha\":{\"value\":0.5},\"fill_color\":{\"value\":\"lightgrey\"},\"left_units\":\"screen\",\"level\":\"overlay\",\"line_alpha\":{\"value\":1.0},\"line_color\":{\"value\":\"black\"},\"line_dash\":[4,4],\"line_width\":{\"value\":2},\"plot\":null,\"render_mode\":\"css\",\"right_units\":\"screen\",\"top_units\":\"screen\"},\"id\":\"fd2ff61f-3f35-49c5-a391-7dc419615075\",\"type\":\"BoxAnnotation\"},{\"attributes\":{},\"id\":\"4afd66c8-c16a-48c6-9663-15ea7f3d8d0e\",\"type\":\"LinearScale\"},{\"attributes\":{\"fill_alpha\":{\"value\":0.7},\"fill_color\":{\"value\":\"#4daf4a\"},\"line_alpha\":{\"value\":0.7},\"line_color\":{\"value\":\"#4daf4a\"},\"x\":{\"field\":\"x\"},\"y\":{\"field\":\"y\"}},\"id\":\"a5f01c27-5583-4875-82f9-cfd7acffb893\",\"type\":\"Circle\"},{\"attributes\":{\"plot\":null,\"text\":\"\"},\"id\":\"b947dab6-d661-43ea-8575-c37935694bb9\",\"type\":\"Title\"},{\"attributes\":{\"above\":[{\"id\":\"eb900e88-7c5c-419b-b3a8-8883c7ebadc2\",\"type\":\"Legend\"}],\"below\":[{\"id\":\"e5bf2a2f-edce-4eb6-b600-6a62585d1309\",\"type\":\"LinearAxis\"}],\"left\":[{\"id\":\"2af3e8dc-a39e-4ebc-92c8-2c7a8bc6df93\",\"type\":\"LogAxis\"}],\"plot_width\":300,\"renderers\":[{\"id\":\"e5bf2a2f-edce-4eb6-b600-6a62585d1309\",\"type\":\"LinearAxis\"},{\"id\":\"25676d01-2453-4751-b31f-93c7eadca9e7\",\"type\":\"Grid\"},{\"id\":\"2af3e8dc-a39e-4ebc-92c8-2c7a8bc6df93\",\"type\":\"LogAxis\"},{\"id\":\"3e16f661-fc9c-4644-93db-5a7dc0da0d36\",\"type\":\"Grid\"},{\"id\":\"fd2ff61f-3f35-49c5-a391-7dc419615075\",\"type\":\"BoxAnnotation\"},{\"id\":\"32f11792-f74d-4633-b5dc-a502ee73af0d\",\"type\":\"GlyphRenderer\"},{\"id\":\"3c63e341-419e-4d23-b83f-e558544924d4\",\"type\":\"GlyphRenderer\"},{\"id\":\"f78061ee-dd6f-4607-8f2f-3e13c2ac49e4\",\"type\":\"GlyphRenderer\"},{\"id\":\"eb900e88-7c5c-419b-b3a8-8883c7ebadc2\",\"type\":\"Legend\"}],\"title\":{\"id\":\"b39b058b-bd32-431d-819f-458d7ee6603f\",\"type\":\"Title\"},\"toolbar\":{\"id\":\"2f6f7d15-8d95-429c-a38b-5930ea54572c\",\"type\":\"Toolbar\"},\"toolbar_location\":null,\"x_range\":{\"id\":\"6abce1a9-34f4-426a-9af7-e34d0328a33f\",\"type\":\"Range1d\"},\"x_scale\":{\"id\":\"0c5a9e62-343b-444e-9ae8-89f1ae5a5d00\",\"type\":\"LinearScale\"},\"y_range\":{\"id\":\"e58e8228-c253-40ac-b6f1-81392399918c\",\"type\":\"Range1d\"},\"y_scale\":{\"id\":\"78149349-9f1e-44b0-93c5-b23ecc8959c4\",\"type\":\"LogScale\"}},\"id\":\"9b16fd37-2837-4da2-a62a-806cf7ebbdc8\",\"subtype\":\"Figure\",\"type\":\"Plot\"},{\"attributes\":{\"callback\":null,\"data\":{\"x\":{\"__ndarray__\":\"R/KIaN7AVEClCeJMyPNGQOvRhpxr30JAptxzhxx4PkA7SssMElA4QK6Bp3CyUDNAsVXpjES9LkBFhUV0+5coQMHYwqbbySNA6f09nM3nH0CaSd/3eYoZQDmgiAOW8BNAPYqARh3eDEBkm4vCgvr+P9D+5tWhQfY/P8DwKRnSAkBq38kb17ILQDT7IWuSsxFAUr2Rjm0FFkAinq3s9XgbQGCHwtYcqSFAG64kT303J0C7dRDneyooQD9JYrbK8yRA9S3bneHhIUAIymSuUMMcQIkHLe6VEBdAAau3cITREkA6CiNvkQIPQJU39ki7IQlAaAvwok1UA0BXLQiS4+L7P0xzDpJ2hPI/NNuPGMbJ5z91mUVYxqfSPxqwUPSxZca/G11peifD3L8QzNj5t2jTvwzOozTL360/SPJ4VI1VzD9KJ0nXEIncP8yDdlvHt+4/Et49nYLW9z++2teD4Jn+P+568eH/bwFALf5D9lmAAkCiZAicVOkCQPPT4jNKxwJAOjp3wTzBAUBSQsKNGisBQG4OmjqJwQBAJ3sZoHFuAEA5Ar0Sdi0AQGy4rw5+9f8/7W4nSrC3/z8mPr8zj4T/P4UYRHCQS/8/embVKYcF/z+5YXG+LLP+P/qb8BVUgf4/KvafTtyO/j/avAK1Ppv+PwJV9VVm2P0/JFtYlU/n/D9sN+q2fiX6Pw44e41PNPc/Opt+Z/wN9T+x3vcSW1vzP9ofvWQJlvI/8sciQQBW8j80sfkQa17yPzg5qng2r/I/Oh14WJBh8z+VZjnpctj0P6CcrSuCqQBA\",\"dtype\":\"float64\",\"shape\":[75]},\"y\":{\"__ndarray__\":\"GhExyth1ND/Sv8nbtpRIP2vylNV0PVE/aTum7souWD/At0SJ8fVgPw3Iuahxymc/MSNhhJWvcD/bTfBN02d3P2zb5nxnaoA/CD5h5MAGhz8NmeH1TyaQP+zrCsc9p5Y/LbKd76fGnz/bLW5ISEmmPww9YvTcQq8/JV2OstnstT8Er5Y7M8G+P0c+r3jqkcU/5h99k6ZBzj88bCIzFzjVP4enV8oyxN0//yH99nXg5D8qOpLLf0jtP5kqGJXUifQ/c9cS8kHP/D+/DpwzojQEQIEmwoanVwxA4lgXt9HgE0BSSZ2AJuIbQAMJih9jjiNA5q4l5INuK0AwTKYKRj0zQNv5fmq8/DpAaCJseHrtQkB/+zpwzoxKQM3MzMzMeFJAZmZmZmZqWEAAAAAAAFxeQM3MzMzMJmJAmpmZmZkfZUBmZmZmZhhoQDMzMzMzEWtAAAAAAAAKbkBmZmZmZoFwQM3MzMzM/XFAMzMzMzN6c0CamZmZmfZ0QAAAAAAAc3ZAZmZmZmbvd0DNzMzMzGt5QDMzMzMz6HpAmpmZmZlkfEAAAAAAAOF9QGZmZmZmXX9AZmZmZuZsgECamZmZGSuBQM3MzMxM6YFAAAAAAICngkAzMzMzs2WDQGZmZmbmI4RAmpmZmRnihEDNzMzMTKCFQAAAAACAXoZAMzMzM7Mch0BmZmZm5tqHQJqZmZkZmYhAzczMzExXiUAAAAAAgBWKQDMzMzOz04pAZmZmZuaRi0CamZmZGVCMQM3MzMxMDo1AAAAAAIDMjUAzMzMzs4qOQGZmZmbmSI9A\",\"dtype\":\"float64\",\"shape\":[75]}},\"selected\":{\"id\":\"035024c4-3ac2-4d27-8b7c-ccdab899c939\",\"type\":\"Selection\"},\"selection_policy\":{\"id\":\"1aad5e16-8bb0-4c26-a765-935c4d469b55\",\"type\":\"UnionRenderers\"}},\"id\":\"c66a6d91-a1de-420a-8081-9b42585d841e\",\"type\":\"ColumnDataSource\"},{\"attributes\":{},\"id\":\"78149349-9f1e-44b0-93c5-b23ecc8959c4\",\"type\":\"LogScale\"},{\"attributes\":{\"label\":{\"value\":\"CLIRAD (single-run) - CRD\"},\"renderers\":[{\"id\":\"5a448c41-e75c-4a21-a50f-1545c52532b5\",\"type\":\"GlyphRenderer\"},{\"id\":\"0dadb7df-b709-4c32-9ffb-11c4f022ed28\",\"type\":\"GlyphRenderer\"}]},\"id\":\"e3cfabe4-ff88-44a2-999c-fbd6957b2e0a\",\"type\":\"LegendItem\"},{\"attributes\":{},\"id\":\"81409892-31e3-4b13-8607-93b8f195eab4\",\"type\":\"Selection\"},{\"attributes\":{},\"id\":\"37819b8c-e59c-477d-b3ae-62420d84da10\",\"type\":\"UnionRenderers\"},{\"attributes\":{\"source\":{\"id\":\"b1654bbc-3732-461b-8730-fdcf539faf1d\",\"type\":\"ColumnDataSource\"}},\"id\":\"12a2d35a-3a92-491b-acf4-00eb56b24278\",\"type\":\"CDSView\"},{\"attributes\":{\"source\":{\"id\":\"be17dfda-dc6d-491b-80b8-9fbf901cd8d1\",\"type\":\"ColumnDataSource\"}},\"id\":\"84f6cfad-70b4-45f4-9a81-ef2797bd3c3f\",\"type\":\"CDSView\"},{\"attributes\":{},\"id\":\"b814bdd0-5017-4e90-9dd1-be0751ad485c\",\"type\":\"BasicTicker\"},{\"attributes\":{\"source\":{\"id\":\"c66a6d91-a1de-420a-8081-9b42585d841e\",\"type\":\"ColumnDataSource\"}},\"id\":\"976ac947-c186-4baf-8783-95ba611ed715\",\"type\":\"CDSView\"},{\"attributes\":{},\"id\":\"762e2771-6ae7-4948-953e-410f6f707292\",\"type\":\"Selection\"},{\"attributes\":{\"active_drag\":\"auto\",\"active_inspect\":\"auto\",\"active_scroll\":\"auto\",\"active_tap\":\"auto\",\"tools\":[{\"id\":\"627d0437-51e0-45c7-b729-ed435663815d\",\"type\":\"PanTool\"},{\"id\":\"aa7bd368-1380-4b22-8366-8d4de3653767\",\"type\":\"WheelZoomTool\"},{\"id\":\"6e3d9a84-bc8a-4ad6-95e3-614074e2ef82\",\"type\":\"BoxZoomTool\"},{\"id\":\"55564c06-a51b-45f1-bd90-804c0e355574\",\"type\":\"SaveTool\"},{\"id\":\"b0d863af-370f-409f-8ed8-60755d0c0b75\",\"type\":\"ResetTool\"},{\"id\":\"369b2f1e-c0a4-445a-98b4-1f2798c21e16\",\"type\":\"HelpTool\"}]},\"id\":\"90e10b9d-eb36-4789-8160-f3dc3bdcbe2f\",\"type\":\"Toolbar\"},{\"attributes\":{\"callback\":null,\"end\":0.7885260568903912,\"start\":-1.3318581028536913},\"id\":\"39594ac8-ac33-4045-ac5e-fd8e7da05bd4\",\"type\":\"Range1d\"},{\"attributes\":{},\"id\":\"0e89be13-7af6-40c5-866f-768b0e9fac08\",\"type\":\"BasicTickFormatter\"},{\"attributes\":{\"children\":[{\"id\":\"e50edc2a-d2aa-42e7-9325-eac78cc61b70\",\"type\":\"Row\"}]},\"id\":\"3ed66ffa-1190-4e37-94a2-0d3074d163a4\",\"type\":\"Column\"},{\"attributes\":{\"above\":[{\"id\":\"e9f7163e-34b0-4c7b-ac7d-67bcda11df02\",\"type\":\"Legend\"}],\"below\":[{\"id\":\"2fe63880-e9c3-4f1d-8898-bda0f67ea506\",\"type\":\"LinearAxis\"}],\"left\":[{\"id\":\"6b9648f2-06a2-40cc-b458-93950646ca09\",\"type\":\"LogAxis\"}],\"plot_width\":300,\"renderers\":[{\"id\":\"2fe63880-e9c3-4f1d-8898-bda0f67ea506\",\"type\":\"LinearAxis\"},{\"id\":\"8a9f77f6-1932-4e6f-a6ae-16efc6bcad06\",\"type\":\"Grid\"},{\"id\":\"6b9648f2-06a2-40cc-b458-93950646ca09\",\"type\":\"LogAxis\"},{\"id\":\"54604072-9daa-4105-a8a4-2ca65d644478\",\"type\":\"Grid\"},{\"id\":\"6e4ad395-f667-4661-a984-59f87fd9491d\",\"type\":\"BoxAnnotation\"},{\"id\":\"5a448c41-e75c-4a21-a50f-1545c52532b5\",\"type\":\"GlyphRenderer\"},{\"id\":\"0dadb7df-b709-4c32-9ffb-11c4f022ed28\",\"type\":\"GlyphRenderer\"},{\"id\":\"e9f7163e-34b0-4c7b-ac7d-67bcda11df02\",\"type\":\"Legend\"}],\"title\":{\"id\":\"b947dab6-d661-43ea-8575-c37935694bb9\",\"type\":\"Title\"},\"toolbar\":{\"id\":\"90e10b9d-eb36-4789-8160-f3dc3bdcbe2f\",\"type\":\"Toolbar\"},\"toolbar_location\":null,\"x_range\":{\"id\":\"39594ac8-ac33-4045-ac5e-fd8e7da05bd4\",\"type\":\"Range1d\"},\"x_scale\":{\"id\":\"229875a1-6bd7-4210-8edd-fad0ac01a596\",\"type\":\"LinearScale\"},\"y_range\":{\"id\":\"79b9f84f-18ff-467e-ad09-ed2ad94db182\",\"type\":\"Range1d\"},\"y_scale\":{\"id\":\"d98ed2fc-7666-40e5-827e-d81a4ce50b30\",\"type\":\"LogScale\"}},\"id\":\"060163ad-d69e-4aef-ba7d-4b6c0d6b5720\",\"subtype\":\"Figure\",\"type\":\"Plot\"},{\"attributes\":{\"tools\":[{\"id\":\"4b783111-80e9-4a36-9b4c-77253cd294e6\",\"type\":\"PanTool\"},{\"id\":\"dd8cd9bc-ae63-40a2-8cb2-b181e68c9c8e\",\"type\":\"WheelZoomTool\"},{\"id\":\"b768728f-3155-4288-8fa4-f996d602a83b\",\"type\":\"BoxZoomTool\"},{\"id\":\"0cb94b9c-8166-44e2-890a-bb273c034d83\",\"type\":\"SaveTool\"},{\"id\":\"f870d8b6-f291-4862-8454-b4250862ac91\",\"type\":\"ResetTool\"},{\"id\":\"df93c1de-717a-4809-90fd-40a1e29edc54\",\"type\":\"HelpTool\"},{\"id\":\"2842d663-a890-4741-a92e-5b658d56cb4d\",\"type\":\"PanTool\"},{\"id\":\"e595d77c-505b-4048-a0ec-5b6626580422\",\"type\":\"WheelZoomTool\"},{\"id\":\"88de2bda-011a-48d7-85a5-dd158065e7e4\",\"type\":\"BoxZoomTool\"},{\"id\":\"4ea39d9e-6220-4952-bc75-68c609a37124\",\"type\":\"SaveTool\"},{\"id\":\"d35898e3-2c9a-40a8-a317-ab07a4a148ca\",\"type\":\"ResetTool\"},{\"id\":\"41fa3ff4-798d-43d9-8348-2bd3798e0c6b\",\"type\":\"HelpTool\"},{\"id\":\"627d0437-51e0-45c7-b729-ed435663815d\",\"type\":\"PanTool\"},{\"id\":\"aa7bd368-1380-4b22-8366-8d4de3653767\",\"type\":\"WheelZoomTool\"},{\"id\":\"6e3d9a84-bc8a-4ad6-95e3-614074e2ef82\",\"type\":\"BoxZoomTool\"},{\"id\":\"55564c06-a51b-45f1-bd90-804c0e355574\",\"type\":\"SaveTool\"},{\"id\":\"b0d863af-370f-409f-8ed8-60755d0c0b75\",\"type\":\"ResetTool\"},{\"id\":\"369b2f1e-c0a4-445a-98b4-1f2798c21e16\",\"type\":\"HelpTool\"}]},\"id\":\"68abba87-52a0-4be4-a45d-f48884e31559\",\"type\":\"ProxyToolbar\"},{\"attributes\":{\"data_source\":{\"id\":\"791e1063-7aa1-41b7-814b-3f186458ab3a\",\"type\":\"ColumnDataSource\"},\"glyph\":{\"id\":\"a5f01c27-5583-4875-82f9-cfd7acffb893\",\"type\":\"Circle\"},\"hover_glyph\":null,\"muted_glyph\":null,\"nonselection_glyph\":{\"id\":\"ea71f851-f102-432e-b31d-717ccbaa4155\",\"type\":\"Circle\"},\"selection_glyph\":null,\"view\":{\"id\":\"1d1fe787-b753-4c45-8aee-6c3d624e25e0\",\"type\":\"CDSView\"}},\"id\":\"ac859362-8047-47bc-b599-4946b6933829\",\"type\":\"GlyphRenderer\"},{\"attributes\":{\"data_source\":{\"id\":\"d95913ed-3631-416b-8ee8-2faf4b5b9429\",\"type\":\"ColumnDataSource\"},\"glyph\":{\"id\":\"16c42777-6dc3-4c89-a354-3337a125493b\",\"type\":\"Line\"},\"hover_glyph\":null,\"muted_glyph\":null,\"nonselection_glyph\":{\"id\":\"749eb954-1c7a-4610-a043-ecafa6061291\",\"type\":\"Line\"},\"selection_glyph\":null,\"view\":{\"id\":\"f0924533-2703-4a49-8c78-633be341c62d\",\"type\":\"CDSView\"}},\"id\":\"32f11792-f74d-4633-b5dc-a502ee73af0d\",\"type\":\"GlyphRenderer\"},{\"attributes\":{\"data_source\":{\"id\":\"64f199e0-ece2-4c80-909e-034ff33530eb\",\"type\":\"ColumnDataSource\"},\"glyph\":{\"id\":\"0234985c-2948-4fbd-b617-feae5134aa7f\",\"type\":\"Line\"},\"hover_glyph\":null,\"muted_glyph\":null,\"nonselection_glyph\":{\"id\":\"d80c5f17-4284-4d64-979b-36f0c0a6bebb\",\"type\":\"Line\"},\"selection_glyph\":null,\"view\":{\"id\":\"38cdebbc-0871-4685-a1b2-43fefeffc396\",\"type\":\"CDSView\"}},\"id\":\"f304547c-e9e6-43fe-8548-a86037ca000a\",\"type\":\"GlyphRenderer\"},{\"attributes\":{\"line_alpha\":0.6,\"line_color\":\"#377eb8\",\"line_dash\":[6],\"line_width\":5,\"x\":{\"field\":\"x\"},\"y\":{\"field\":\"y\"}},\"id\":\"16c42777-6dc3-4c89-a354-3337a125493b\",\"type\":\"Line\"},{\"attributes\":{\"ticker\":null},\"id\":\"74cf0404-6e21-4008-9c93-46a296ebf6c0\",\"type\":\"LogTickFormatter\"},{\"attributes\":{\"callback\":null,\"end\":13.803835319394901,\"start\":-15.777267606084898},\"id\":\"b49bf1ca-71c0-45b4-bd41-3b363fc3fcc4\",\"type\":\"Range1d\"},{\"attributes\":{},\"id\":\"1a518803-5543-4efd-ada9-89919f64b943\",\"type\":\"Selection\"},{\"attributes\":{\"line_color\":\"#4daf4a\",\"line_width\":1.5,\"x\":{\"field\":\"x\"},\"y\":{\"field\":\"y\"}},\"id\":\"cdd8a687-2f95-48c6-91bc-66308098ed08\",\"type\":\"Line\"},{\"attributes\":{},\"id\":\"556cfff8-aa87-4cdd-bec0-2b56f91c9722\",\"type\":\"BasicTicker\"},{\"attributes\":{\"callback\":null,\"end\":12.294864042536679,\"start\":-0.5755922114646799},\"id\":\"6abce1a9-34f4-426a-9af7-e34d0328a33f\",\"type\":\"Range1d\"},{\"attributes\":{\"line_alpha\":0.1,\"line_color\":\"#1f77b4\",\"line_width\":1.5,\"x\":{\"field\":\"x\"},\"y\":{\"field\":\"y\"}},\"id\":\"f3c181ee-ee8a-4a37-94b4-d13f4b16aaa3\",\"type\":\"Line\"},{\"attributes\":{},\"id\":\"c8021718-f302-4f56-81c8-aaa13d54f237\",\"type\":\"Selection\"},{\"attributes\":{\"data_source\":{\"id\":\"c66a6d91-a1de-420a-8081-9b42585d841e\",\"type\":\"ColumnDataSource\"},\"glyph\":{\"id\":\"cdd8a687-2f95-48c6-91bc-66308098ed08\",\"type\":\"Line\"},\"hover_glyph\":null,\"muted_glyph\":null,\"nonselection_glyph\":{\"id\":\"f3c181ee-ee8a-4a37-94b4-d13f4b16aaa3\",\"type\":\"Line\"},\"selection_glyph\":null,\"view\":{\"id\":\"976ac947-c186-4baf-8783-95ba611ed715\",\"type\":\"CDSView\"}},\"id\":\"7ddb907d-8c86-44a8-bb36-c51dfa66f0d8\",\"type\":\"GlyphRenderer\"},{\"attributes\":{\"line_alpha\":0.6,\"line_color\":\"#377eb8\",\"line_dash\":[6],\"line_width\":5,\"x\":{\"field\":\"x\"},\"y\":{\"field\":\"y\"}},\"id\":\"0234985c-2948-4fbd-b617-feae5134aa7f\",\"type\":\"Line\"},{\"attributes\":{\"axis_label\":\"cooling rate [K/day]\",\"formatter\":{\"id\":\"f594387c-4664-48db-b947-1c8d23823d19\",\"type\":\"BasicTickFormatter\"},\"plot\":{\"id\":\"9b16fd37-2837-4da2-a62a-806cf7ebbdc8\",\"subtype\":\"Figure\",\"type\":\"Plot\"},\"ticker\":{\"id\":\"556cfff8-aa87-4cdd-bec0-2b56f91c9722\",\"type\":\"BasicTicker\"}},\"id\":\"e5bf2a2f-edce-4eb6-b600-6a62585d1309\",\"type\":\"LinearAxis\"},{\"attributes\":{\"callback\":null,\"data\":{\"x\":{\"__ndarray__\":\"R/KIaN7AVEClCeJMyPNGQOvRhpxr30JAptxzhxx4PkA7SssMElA4QK6Bp3CyUDNAsVXpjES9LkBFhUV0+5coQMHYwqbbySNA6f09nM3nH0CaSd/3eYoZQDmgiAOW8BNAPYqARh3eDEBkm4vCgvr+P9D+5tWhQfY/P8DwKRnSAkBq38kb17ILQDT7IWuSsxFAUr2Rjm0FFkAinq3s9XgbQGCHwtYcqSFAG64kT303J0C7dRDneyooQD9JYrbK8yRA9S3bneHhIUAIymSuUMMcQIkHLe6VEBdAAau3cITREkA6CiNvkQIPQJU39ki7IQlAaAvwok1UA0BXLQiS4+L7P0xzDpJ2hPI/NNuPGMbJ5z91mUVYxqfSPxqwUPSxZca/G11peifD3L8QzNj5t2jTvwzOozTL360/SPJ4VI1VzD9KJ0nXEIncP8yDdlvHt+4/Et49nYLW9z++2teD4Jn+P+568eH/bwFALf5D9lmAAkCiZAicVOkCQPPT4jNKxwJAOjp3wTzBAUBSQsKNGisBQG4OmjqJwQBAJ3sZoHFuAEA5Ar0Sdi0AQGy4rw5+9f8/7W4nSrC3/z8mPr8zj4T/P4UYRHCQS/8/embVKYcF/z+5YXG+LLP+P/qb8BVUgf4/KvafTtyO/j/avAK1Ppv+PwJV9VVm2P0/JFtYlU/n/D9sN+q2fiX6Pw44e41PNPc/Opt+Z/wN9T+x3vcSW1vzP9ofvWQJlvI/8sciQQBW8j80sfkQa17yPzg5qng2r/I/Oh14WJBh8z+VZjnpctj0P6CcrSuCqQBA\",\"dtype\":\"float64\",\"shape\":[75]},\"y\":{\"__ndarray__\":\"GhExyth1ND/Sv8nbtpRIP2vylNV0PVE/aTum7souWD/At0SJ8fVgPw3Iuahxymc/MSNhhJWvcD/bTfBN02d3P2zb5nxnaoA/CD5h5MAGhz8NmeH1TyaQP+zrCsc9p5Y/LbKd76fGnz/bLW5ISEmmPww9YvTcQq8/JV2OstnstT8Er5Y7M8G+P0c+r3jqkcU/5h99k6ZBzj88bCIzFzjVP4enV8oyxN0//yH99nXg5D8qOpLLf0jtP5kqGJXUifQ/c9cS8kHP/D+/DpwzojQEQIEmwoanVwxA4lgXt9HgE0BSSZ2AJuIbQAMJih9jjiNA5q4l5INuK0AwTKYKRj0zQNv5fmq8/DpAaCJseHrtQkB/+zpwzoxKQM3MzMzMeFJAZmZmZmZqWEAAAAAAAFxeQM3MzMzMJmJAmpmZmZkfZUBmZmZmZhhoQDMzMzMzEWtAAAAAAAAKbkBmZmZmZoFwQM3MzMzM/XFAMzMzMzN6c0CamZmZmfZ0QAAAAAAAc3ZAZmZmZmbvd0DNzMzMzGt5QDMzMzMz6HpAmpmZmZlkfEAAAAAAAOF9QGZmZmZmXX9AZmZmZuZsgECamZmZGSuBQM3MzMxM6YFAAAAAAICngkAzMzMzs2WDQGZmZmbmI4RAmpmZmRnihEDNzMzMTKCFQAAAAACAXoZAMzMzM7Mch0BmZmZm5tqHQJqZmZkZmYhAzczMzExXiUAAAAAAgBWKQDMzMzOz04pAZmZmZuaRi0CamZmZGVCMQM3MzMxMDo1AAAAAAIDMjUAzMzMzs4qOQGZmZmbmSI9A\",\"dtype\":\"float64\",\"shape\":[75]}},\"selected\":{\"id\":\"762e2771-6ae7-4948-953e-410f6f707292\",\"type\":\"Selection\"},\"selection_policy\":{\"id\":\"ed94eba9-9538-4b2b-ade9-68c28b5b5b23\",\"type\":\"UnionRenderers\"}},\"id\":\"791e1063-7aa1-41b7-814b-3f186458ab3a\",\"type\":\"ColumnDataSource\"},{\"attributes\":{\"dimension\":1,\"plot\":{\"id\":\"d00fae65-cefe-4ebc-a5db-a2d4b501b895\",\"subtype\":\"Figure\",\"type\":\"Plot\"},\"ticker\":{\"id\":\"b814bdd0-5017-4e90-9dd1-be0751ad485c\",\"type\":\"BasicTicker\"}},\"id\":\"10b44788-be55-4bed-8025-0de6a73afe02\",\"type\":\"Grid\"},{\"attributes\":{},\"id\":\"0c5a9e62-343b-444e-9ae8-89f1ae5a5d00\",\"type\":\"LinearScale\"},{\"attributes\":{\"source\":{\"id\":\"64f199e0-ece2-4c80-909e-034ff33530eb\",\"type\":\"ColumnDataSource\"}},\"id\":\"38cdebbc-0871-4685-a1b2-43fefeffc396\",\"type\":\"CDSView\"},{\"attributes\":{\"label\":{\"value\":\"CRD\"},\"renderers\":[{\"id\":\"ac859362-8047-47bc-b599-4946b6933829\",\"type\":\"GlyphRenderer\"},{\"id\":\"7ddb907d-8c86-44a8-bb36-c51dfa66f0d8\",\"type\":\"GlyphRenderer\"}]},\"id\":\"719dc167-13d0-4c2d-8f2f-3a86c34fd40a\",\"type\":\"LegendItem\"},{\"attributes\":{},\"id\":\"2af893fe-1a6c-405b-9012-b18e3aa054e7\",\"type\":\"BasicTickFormatter\"},{\"attributes\":{\"toolbar\":{\"id\":\"68abba87-52a0-4be4-a45d-f48884e31559\",\"type\":\"ProxyToolbar\"},\"toolbar_location\":\"above\"},\"id\":\"b8c7643f-7420-410c-9ea6-3b5b1b9fbab3\",\"type\":\"ToolbarBox\"},{\"attributes\":{},\"id\":\"2842d663-a890-4741-a92e-5b658d56cb4d\",\"type\":\"PanTool\"},{\"attributes\":{\"label\":{\"value\":\"CLIRAD (single-run)\"},\"renderers\":[{\"id\":\"f304547c-e9e6-43fe-8548-a86037ca000a\",\"type\":\"GlyphRenderer\"}]},\"id\":\"a3f0be37-79af-4aba-987d-e922a8d97be1\",\"type\":\"LegendItem\"},{\"attributes\":{\"source\":{\"id\":\"791e1063-7aa1-41b7-814b-3f186458ab3a\",\"type\":\"ColumnDataSource\"}},\"id\":\"1d1fe787-b753-4c45-8aee-6c3d624e25e0\",\"type\":\"CDSView\"},{\"attributes\":{\"plot\":null,\"text\":\"\"},\"id\":\"89c4d968-8be4-4017-a91d-56644e821494\",\"type\":\"Title\"}],\"root_ids\":[\"035b9496-2817-4034-88cc-b439c20d8b5a\"]},\"title\":\"Bokeh Application\",\"version\":\"0.12.16\"}};\n",
       "  var render_items = [{\"docid\":\"811dd757-430c-4f1a-9574-4e56ff31d26f\",\"elementid\":\"b384f1e9-2408-4a82-9aa4-0abade733355\",\"modelid\":\"035b9496-2817-4034-88cc-b439c20d8b5a\"}];\n",
       "  root.Bokeh.embed.embed_items_notebook(docs_json, render_items);\n",
       "\n",
       "  }\n",
       "  if (root.Bokeh !== undefined) {\n",
       "    embed_document(root);\n",
       "  } else {\n",
       "    var attempts = 0;\n",
       "    var timer = setInterval(function(root) {\n",
       "      if (root.Bokeh !== undefined) {\n",
       "        embed_document(root);\n",
       "        clearInterval(timer);\n",
       "      }\n",
       "      attempts++;\n",
       "      if (attempts > 100) {\n",
       "        console.log(\"Bokeh: ERROR: Unable to run BokehJS code because BokehJS library is missing\")\n",
       "        clearInterval(timer);\n",
       "      }\n",
       "    }, 10, root)\n",
       "  }\n",
       "})(window);"
      ],
      "application/vnd.bokehjs_exec.v0+json": ""
     },
     "metadata": {
      "application/vnd.bokehjs_exec.v0+json": {
       "id": "035b9496-2817-4034-88cc-b439c20d8b5a"
      }
     },
     "output_type": "display_data"
    },
    {
     "data": {
      "text/markdown": [
       "*FIGURE.* Cooling rates & difference."
      ],
      "text/plain": [
       "<IPython.core.display.Markdown object>"
      ]
     },
     "metadata": {},
     "output_type": "display_data"
    },
    {
     "data": {
      "text/html": [
       "<a id=\"Fluxes._trp.\"></a>"
      ],
      "text/plain": [
       "<IPython.core.display.HTML object>"
      ]
     },
     "metadata": {},
     "output_type": "display_data"
    },
    {
     "data": {
      "text/markdown": [
       "# Fluxes. trp."
      ],
      "text/plain": [
       "<IPython.core.display.Markdown object>"
      ]
     },
     "metadata": {},
     "output_type": "display_data"
    },
    {
     "data": {
      "text/html": [
       "\n",
       "<div class=\"bk-root\">\n",
       "    <div class=\"bk-plotdiv\" id=\"b0fef9f8-d5fe-4bd1-9c39-e9009684b379\"></div>\n",
       "</div>"
      ]
     },
     "metadata": {},
     "output_type": "display_data"
    },
    {
     "data": {
      "application/javascript": [
       "(function(root) {\n",
       "  function embed_document(root) {\n",
       "    \n",
       "  var docs_json = {\"b8c061b7-4438-41d3-91bd-a209c909ad87\":{\"roots\":{\"references\":[{\"attributes\":{\"axis_label\":\"flux (W m-2)\",\"formatter\":{\"id\":\"744b7f30-02f6-4b12-a44b-00cc889861b2\",\"type\":\"BasicTickFormatter\"},\"plot\":{\"id\":\"e8650a06-a7d8-43a8-82af-bbc41f8787cb\",\"subtype\":\"Figure\",\"type\":\"Plot\"},\"ticker\":{\"id\":\"4efe573c-1233-4c8a-8d8b-949457043cef\",\"type\":\"BasicTicker\"}},\"id\":\"44c2a9b6-a82c-43e0-a979-90937360bbc6\",\"type\":\"LinearAxis\"},{\"attributes\":{\"axis_label\":\"spectral band\",\"formatter\":{\"id\":\"cc1ecbf0-3934-48b8-a4b2-dad24d271edc\",\"type\":\"CategoricalTickFormatter\"},\"plot\":{\"id\":\"936f0f65-1296-4d44-bd74-4be2dda71426\",\"subtype\":\"Figure\",\"type\":\"Plot\"},\"ticker\":{\"id\":\"cdeaf155-b8a7-4a48-a815-c39f863f6a65\",\"type\":\"CategoricalTicker\"}},\"id\":\"98e9bbd6-4883-41a1-8f72-4386b70c3aeb\",\"type\":\"CategoricalAxis\"},{\"attributes\":{},\"id\":\"fa61eebf-2e06-4419-826e-8fbb06ba835e\",\"type\":\"BasicTicker\"},{\"attributes\":{\"callback\":null,\"data\":{\"band\":[\"1\",\"2\",\"3\",\"4\",\"5\",\"6\",\"7\",\"8\",\"9\",\"10\",\"11\"],\"flux\":{\"__ndarray__\":\"gNDQP8FF5D/8JeKt8z8jQCBgrdo1URdAsMagE0IH6j/nc+52vfQkQLyzdtuFKEJAHxoWo66NLUCamT7gJnwuQOGGKdvRcRlADFZBsbqa/j+A9UyK6gi9Pw==\",\"dtype\":\"float64\",\"shape\":[11]}},\"selected\":{\"id\":\"a57e191d-5022-4a99-a073-14acb4415681\",\"type\":\"Selection\"},\"selection_policy\":{\"id\":\"5f71cd75-3837-4e9e-8c72-04efb77edc6f\",\"type\":\"UnionRenderers\"}},\"id\":\"047f0c5f-ab4c-4360-b782-5dcbb43b9f62\",\"type\":\"ColumnDataSource\"},{\"attributes\":{\"fill_alpha\":{\"value\":0.1},\"fill_color\":{\"value\":\"#1f77b4\"},\"line_alpha\":{\"value\":0.1},\"line_color\":{\"value\":\"#1f77b4\"},\"top\":{\"field\":\"flux\"},\"width\":{\"value\":0.9},\"x\":{\"field\":\"band\"}},\"id\":\"806a61f9-afd8-4e55-924b-324a40f144d2\",\"type\":\"VBar\"},{\"attributes\":{},\"id\":\"bede7568-767b-4b30-a8f3-3df44bc970c9\",\"type\":\"WheelZoomTool\"},{\"attributes\":{\"active_drag\":\"auto\",\"active_inspect\":\"auto\",\"active_scroll\":\"auto\",\"active_tap\":\"auto\",\"tools\":[{\"id\":\"cf37d100-a45f-4d09-a9b4-23bf18926901\",\"type\":\"PanTool\"},{\"id\":\"bede7568-767b-4b30-a8f3-3df44bc970c9\",\"type\":\"WheelZoomTool\"},{\"id\":\"7fff98f6-8db9-4a93-a10f-6339f142120f\",\"type\":\"BoxZoomTool\"},{\"id\":\"7404b98d-9276-4248-a403-9ac906d35b1c\",\"type\":\"SaveTool\"},{\"id\":\"e097d3ba-7be5-4145-ab64-c336b9c72d6d\",\"type\":\"ResetTool\"},{\"id\":\"66acf9ef-e709-485a-9666-be7bec8039e2\",\"type\":\"HelpTool\"}]},\"id\":\"e811b1c7-d0f9-4e42-9053-3d3299566606\",\"type\":\"Toolbar\"},{\"attributes\":{},\"id\":\"c6e8d214-d426-4247-b49d-ae7d18470eed\",\"type\":\"LinearScale\"},{\"attributes\":{\"plot\":null,\"text\":\"SFC flux. CLIRAD (single-run) - CRD.\"},\"id\":\"14232a79-4602-4a4a-8a21-50c5bad497d1\",\"type\":\"Title\"},{\"attributes\":{\"below\":[{\"id\":\"98e9bbd6-4883-41a1-8f72-4386b70c3aeb\",\"type\":\"CategoricalAxis\"}],\"left\":[{\"id\":\"44b1d18e-b1db-4f19-8afc-8e0ee15b40d3\",\"type\":\"LinearAxis\"}],\"plot_height\":300,\"plot_width\":300,\"renderers\":[{\"id\":\"98e9bbd6-4883-41a1-8f72-4386b70c3aeb\",\"type\":\"CategoricalAxis\"},{\"id\":\"3cf3a487-b002-47b1-a861-bfd2249edff5\",\"type\":\"Grid\"},{\"id\":\"44b1d18e-b1db-4f19-8afc-8e0ee15b40d3\",\"type\":\"LinearAxis\"},{\"id\":\"cc02d5fb-baa2-4c7b-842a-da96333a30f6\",\"type\":\"Grid\"},{\"id\":\"db4b7e87-45ff-4783-9822-e83b0e78f71d\",\"type\":\"BoxAnnotation\"},{\"id\":\"4a3a2657-103b-4332-aa28-9a9e417885a5\",\"type\":\"GlyphRenderer\"}],\"title\":{\"id\":\"14232a79-4602-4a4a-8a21-50c5bad497d1\",\"type\":\"Title\"},\"toolbar\":{\"id\":\"e811b1c7-d0f9-4e42-9053-3d3299566606\",\"type\":\"Toolbar\"},\"toolbar_location\":null,\"x_range\":{\"id\":\"54ce126c-084e-4abe-b671-b0776b9fd45d\",\"type\":\"FactorRange\"},\"x_scale\":{\"id\":\"0b543aaf-478e-4700-9b1e-fd39027aa2fa\",\"type\":\"CategoricalScale\"},\"y_range\":{\"id\":\"d08bcb6e-7696-4fcb-b3d2-cbc528020690\",\"type\":\"DataRange1d\"},\"y_scale\":{\"id\":\"bf966413-72ef-40b8-a0c3-beee75b6119f\",\"type\":\"LinearScale\"}},\"id\":\"936f0f65-1296-4d44-bd74-4be2dda71426\",\"subtype\":\"Figure\",\"type\":\"Plot\"},{\"attributes\":{\"data_source\":{\"id\":\"f246e5e0-f63e-4c99-9b4e-341b8720db15\",\"type\":\"ColumnDataSource\"},\"glyph\":{\"id\":\"4f52e96e-6d6d-4bca-bad0-3ee31844e82a\",\"type\":\"VBar\"},\"hover_glyph\":null,\"muted_glyph\":null,\"nonselection_glyph\":{\"id\":\"806a61f9-afd8-4e55-924b-324a40f144d2\",\"type\":\"VBar\"},\"selection_glyph\":null,\"view\":{\"id\":\"156ec1ba-1c39-4ec9-b33a-6a23ae740985\",\"type\":\"CDSView\"}},\"id\":\"4a3a2657-103b-4332-aa28-9a9e417885a5\",\"type\":\"GlyphRenderer\"},{\"attributes\":{\"axis_label\":\"flux (W m-2)\",\"formatter\":{\"id\":\"b298c67c-1d0f-4f41-b014-cb92a2921d7b\",\"type\":\"BasicTickFormatter\"},\"plot\":{\"id\":\"936f0f65-1296-4d44-bd74-4be2dda71426\",\"subtype\":\"Figure\",\"type\":\"Plot\"},\"ticker\":{\"id\":\"fa61eebf-2e06-4419-826e-8fbb06ba835e\",\"type\":\"BasicTicker\"}},\"id\":\"44b1d18e-b1db-4f19-8afc-8e0ee15b40d3\",\"type\":\"LinearAxis\"},{\"attributes\":{},\"id\":\"4efe573c-1233-4c8a-8d8b-949457043cef\",\"type\":\"BasicTicker\"},{\"attributes\":{\"source\":{\"id\":\"f246e5e0-f63e-4c99-9b4e-341b8720db15\",\"type\":\"ColumnDataSource\"}},\"id\":\"156ec1ba-1c39-4ec9-b33a-6a23ae740985\",\"type\":\"CDSView\"},{\"attributes\":{},\"id\":\"e097d3ba-7be5-4145-ab64-c336b9c72d6d\",\"type\":\"ResetTool\"},{\"attributes\":{\"dimension\":1,\"plot\":{\"id\":\"936f0f65-1296-4d44-bd74-4be2dda71426\",\"subtype\":\"Figure\",\"type\":\"Plot\"},\"ticker\":{\"id\":\"fa61eebf-2e06-4419-826e-8fbb06ba835e\",\"type\":\"BasicTicker\"}},\"id\":\"cc02d5fb-baa2-4c7b-842a-da96333a30f6\",\"type\":\"Grid\"},{\"attributes\":{},\"id\":\"0028f700-51fc-4536-9cb7-7e91c4930b73\",\"type\":\"ResetTool\"},{\"attributes\":{\"plot\":{\"id\":\"936f0f65-1296-4d44-bd74-4be2dda71426\",\"subtype\":\"Figure\",\"type\":\"Plot\"},\"ticker\":{\"id\":\"cdeaf155-b8a7-4a48-a815-c39f863f6a65\",\"type\":\"CategoricalTicker\"}},\"id\":\"3cf3a487-b002-47b1-a861-bfd2249edff5\",\"type\":\"Grid\"},{\"attributes\":{},\"id\":\"b8620638-f630-40fd-8a3c-e9603f5c77e3\",\"type\":\"BasicTickFormatter\"},{\"attributes\":{},\"id\":\"bf966413-72ef-40b8-a0c3-beee75b6119f\",\"type\":\"LinearScale\"},{\"attributes\":{\"callback\":null,\"data\":{\"band\":[\"1\",\"2\",\"3\",\"4\",\"5\",\"6\",\"7\",\"8\",\"9\",\"10\",\"11\"],\"flux\":{\"__ndarray__\":\"QMBd1d1F5D9A7Dt1m6YiQBgAkRvROxVAICRNtJIT6D8AmdDJ9/HrP6CGJdTCjyjAfgYvVcScH8AAkpT0MHThPxk/nqdLIBBAZBiQIAlp/j9Ab6jOWVWpPw==\",\"dtype\":\"float64\",\"shape\":[11]}},\"selected\":{\"id\":\"beecb4df-d1f1-4d21-97fe-4b07c615269a\",\"type\":\"Selection\"},\"selection_policy\":{\"id\":\"b6172703-1dc4-43fb-b4fd-f74d5890675c\",\"type\":\"UnionRenderers\"}},\"id\":\"15dbbca2-58e9-479f-a486-f94c3925e658\",\"type\":\"ColumnDataSource\"},{\"attributes\":{},\"id\":\"cdeaf155-b8a7-4a48-a815-c39f863f6a65\",\"type\":\"CategoricalTicker\"},{\"attributes\":{},\"id\":\"cf37d100-a45f-4d09-a9b4-23bf18926901\",\"type\":\"PanTool\"},{\"attributes\":{},\"id\":\"308b8188-9d15-4403-9c93-b54163705641\",\"type\":\"CategoricalScale\"},{\"attributes\":{\"fill_color\":{\"value\":\"#1f77b4\"},\"line_color\":{\"value\":\"#1f77b4\"},\"top\":{\"field\":\"flux\"},\"width\":{\"value\":0.9},\"x\":{\"field\":\"band\"}},\"id\":\"4f52e96e-6d6d-4bca-bad0-3ee31844e82a\",\"type\":\"VBar\"},{\"attributes\":{},\"id\":\"e05ece0f-934d-4827-ac1f-58f7a4fd8141\",\"type\":\"SaveTool\"},{\"attributes\":{\"callback\":null,\"factors\":[\"1\",\"2\",\"3\",\"4\",\"5\",\"6\",\"7\",\"8\",\"9\",\"10\",\"11\"]},\"id\":\"54ce126c-084e-4abe-b671-b0776b9fd45d\",\"type\":\"FactorRange\"},{\"attributes\":{\"overlay\":{\"id\":\"db4b7e87-45ff-4783-9822-e83b0e78f71d\",\"type\":\"BoxAnnotation\"}},\"id\":\"7fff98f6-8db9-4a93-a10f-6339f142120f\",\"type\":\"BoxZoomTool\"},{\"attributes\":{\"bottom_units\":\"screen\",\"fill_alpha\":{\"value\":0.5},\"fill_color\":{\"value\":\"lightgrey\"},\"left_units\":\"screen\",\"level\":\"overlay\",\"line_alpha\":{\"value\":1.0},\"line_color\":{\"value\":\"black\"},\"line_dash\":[4,4],\"line_width\":{\"value\":2},\"plot\":null,\"render_mode\":\"css\",\"right_units\":\"screen\",\"top_units\":\"screen\"},\"id\":\"3582c92b-5ea3-4404-8974-25984015e969\",\"type\":\"BoxAnnotation\"},{\"attributes\":{},\"id\":\"ca9e145d-dcc5-40e1-bf42-a2a41cfc93e3\",\"type\":\"WheelZoomTool\"},{\"attributes\":{\"plot\":{\"id\":\"e8650a06-a7d8-43a8-82af-bbc41f8787cb\",\"subtype\":\"Figure\",\"type\":\"Plot\"},\"ticker\":{\"id\":\"8e90c180-ff5b-4d1c-ae45-e84a2fb13014\",\"type\":\"CategoricalTicker\"}},\"id\":\"bbfaf493-e69c-4b27-88d4-97271ed3f8a3\",\"type\":\"Grid\"},{\"attributes\":{},\"id\":\"8e90c180-ff5b-4d1c-ae45-e84a2fb13014\",\"type\":\"CategoricalTicker\"},{\"attributes\":{\"callback\":null,\"data\":{\"band\":[\"1\",\"2\",\"3\",\"4\",\"5\",\"6\",\"7\",\"8\",\"9\",\"10\",\"11\"],\"flux\":{\"__ndarray__\":\"AADADkbs874AW0HTEivTP4AfnE8dq+A/ACw+PiE7rz/qVzofnjUjQHdSX5Z2TEhAll72RgiuNkDfpdQl42QtQCCl2TwOowJAAGCq0hbXiD8AO3arQl6wPw==\",\"dtype\":\"float64\",\"shape\":[11]}},\"selected\":{\"id\":\"de95521f-f0da-4ac1-831c-39ac5d269349\",\"type\":\"Selection\"},\"selection_policy\":{\"id\":\"f5debe60-dde6-4658-8251-bd415f21b20f\",\"type\":\"UnionRenderers\"}},\"id\":\"f246e5e0-f63e-4c99-9b4e-341b8720db15\",\"type\":\"ColumnDataSource\"},{\"attributes\":{\"callback\":null},\"id\":\"b273c89e-d9a6-4116-887b-feae2acc1680\",\"type\":\"DataRange1d\"},{\"attributes\":{\"fill_alpha\":{\"value\":0.1},\"fill_color\":{\"value\":\"#1f77b4\"},\"line_alpha\":{\"value\":0.1},\"line_color\":{\"value\":\"#1f77b4\"},\"top\":{\"field\":\"flux\"},\"width\":{\"value\":0.9},\"x\":{\"field\":\"band\"}},\"id\":\"d9fe2a9a-2154-4b5e-95a9-d7422588b503\",\"type\":\"VBar\"},{\"attributes\":{},\"id\":\"bd3d8640-1178-4d69-95a7-b2a29c7b5828\",\"type\":\"HelpTool\"},{\"attributes\":{},\"id\":\"7404b98d-9276-4248-a403-9ac906d35b1c\",\"type\":\"SaveTool\"},{\"attributes\":{\"callback\":null},\"id\":\"d08bcb6e-7696-4fcb-b3d2-cbc528020690\",\"type\":\"DataRange1d\"},{\"attributes\":{\"fill_color\":{\"value\":\"#1f77b4\"},\"line_color\":{\"value\":\"#1f77b4\"},\"top\":{\"field\":\"flux\"},\"width\":{\"value\":0.9},\"x\":{\"field\":\"band\"}},\"id\":\"792a9618-e4b9-4376-997a-a1d3bf772b00\",\"type\":\"VBar\"},{\"attributes\":{\"source\":{\"id\":\"047f0c5f-ab4c-4360-b782-5dcbb43b9f62\",\"type\":\"ColumnDataSource\"}},\"id\":\"b288eabb-0566-474c-8f24-a654989d1efa\",\"type\":\"CDSView\"},{\"attributes\":{\"callback\":null,\"factors\":[\"1\",\"2\",\"3\",\"4\",\"5\",\"6\",\"7\",\"8\",\"9\",\"10\",\"11\"]},\"id\":\"2e44fd91-ea9f-4b81-9e14-e1ae151201fc\",\"type\":\"FactorRange\"},{\"attributes\":{},\"id\":\"0b543aaf-478e-4700-9b1e-fd39027aa2fa\",\"type\":\"CategoricalScale\"},{\"attributes\":{},\"id\":\"66acf9ef-e709-485a-9666-be7bec8039e2\",\"type\":\"HelpTool\"},{\"attributes\":{\"dimension\":1,\"plot\":{\"id\":\"e8650a06-a7d8-43a8-82af-bbc41f8787cb\",\"subtype\":\"Figure\",\"type\":\"Plot\"},\"ticker\":{\"id\":\"4efe573c-1233-4c8a-8d8b-949457043cef\",\"type\":\"BasicTicker\"}},\"id\":\"64d12bdc-e779-4b5d-9596-e32b417f9315\",\"type\":\"Grid\"},{\"attributes\":{\"axis_label\":\"spectral band\",\"formatter\":{\"id\":\"e9413725-814e-45d8-a94a-cda3601ddd4b\",\"type\":\"CategoricalTickFormatter\"},\"plot\":{\"id\":\"e8650a06-a7d8-43a8-82af-bbc41f8787cb\",\"subtype\":\"Figure\",\"type\":\"Plot\"},\"ticker\":{\"id\":\"8e90c180-ff5b-4d1c-ae45-e84a2fb13014\",\"type\":\"CategoricalTicker\"}},\"id\":\"db30e25b-d7a6-41d3-8902-adfaa9141d38\",\"type\":\"CategoricalAxis\"},{\"attributes\":{},\"id\":\"30531525-d39c-4a1f-b175-9bb46125b616\",\"type\":\"PanTool\"},{\"attributes\":{\"overlay\":{\"id\":\"3582c92b-5ea3-4404-8974-25984015e969\",\"type\":\"BoxAnnotation\"}},\"id\":\"38df77c7-9af5-4685-b35f-f8abc74e180e\",\"type\":\"BoxZoomTool\"},{\"attributes\":{},\"id\":\"ab83c660-3573-41e3-8fcd-a807b26e8cbe\",\"type\":\"PanTool\"},{\"attributes\":{\"below\":[{\"id\":\"db30e25b-d7a6-41d3-8902-adfaa9141d38\",\"type\":\"CategoricalAxis\"}],\"left\":[{\"id\":\"44c2a9b6-a82c-43e0-a979-90937360bbc6\",\"type\":\"LinearAxis\"}],\"plot_height\":300,\"plot_width\":300,\"renderers\":[{\"id\":\"db30e25b-d7a6-41d3-8902-adfaa9141d38\",\"type\":\"CategoricalAxis\"},{\"id\":\"bbfaf493-e69c-4b27-88d4-97271ed3f8a3\",\"type\":\"Grid\"},{\"id\":\"44c2a9b6-a82c-43e0-a979-90937360bbc6\",\"type\":\"LinearAxis\"},{\"id\":\"64d12bdc-e779-4b5d-9596-e32b417f9315\",\"type\":\"Grid\"},{\"id\":\"3582c92b-5ea3-4404-8974-25984015e969\",\"type\":\"BoxAnnotation\"},{\"id\":\"b7f870a1-6e11-4fe9-adc9-1c647a19e454\",\"type\":\"GlyphRenderer\"}],\"title\":{\"id\":\"237d285d-f92d-4bdd-b16b-25a8c2b8d173\",\"type\":\"Title\"},\"toolbar\":{\"id\":\"f890e110-4f7d-4832-b29f-d7341b2c7bc7\",\"type\":\"Toolbar\"},\"toolbar_location\":null,\"x_range\":{\"id\":\"2e44fd91-ea9f-4b81-9e14-e1ae151201fc\",\"type\":\"FactorRange\"},\"x_scale\":{\"id\":\"308b8188-9d15-4403-9c93-b54163705641\",\"type\":\"CategoricalScale\"},\"y_range\":{\"id\":\"b273c89e-d9a6-4116-887b-feae2acc1680\",\"type\":\"DataRange1d\"},\"y_scale\":{\"id\":\"c6e8d214-d426-4247-b49d-ae7d18470eed\",\"type\":\"LinearScale\"}},\"id\":\"e8650a06-a7d8-43a8-82af-bbc41f8787cb\",\"subtype\":\"Figure\",\"type\":\"Plot\"},{\"attributes\":{\"source\":{\"id\":\"15dbbca2-58e9-479f-a486-f94c3925e658\",\"type\":\"ColumnDataSource\"}},\"id\":\"83cf3c33-d360-4f51-a7be-d20d080a7bb2\",\"type\":\"CDSView\"},{\"attributes\":{\"overlay\":{\"id\":\"f88c195c-0f97-42e4-bc9d-9aa4e55cf16e\",\"type\":\"BoxAnnotation\"}},\"id\":\"4761394c-a8d7-429e-ba5d-e2baded707f2\",\"type\":\"BoxZoomTool\"},{\"attributes\":{},\"id\":\"81ad2dab-4b7f-4848-9208-b9e835f2313c\",\"type\":\"HelpTool\"},{\"attributes\":{},\"id\":\"33e13efd-3cd5-467e-a687-0b594b6b7467\",\"type\":\"LinearScale\"},{\"attributes\":{},\"id\":\"de95521f-f0da-4ac1-831c-39ac5d269349\",\"type\":\"Selection\"},{\"attributes\":{\"plot\":null,\"text\":\"Atmosphere heating. CLIRAD (single-run) - CRD.\"},\"id\":\"f49c989b-2b51-40d2-b44c-762a4ab64476\",\"type\":\"Title\"},{\"attributes\":{},\"id\":\"a59339fe-3579-4276-a730-5e7a216e72ef\",\"type\":\"CategoricalTicker\"},{\"attributes\":{\"children\":[{\"id\":\"e8650a06-a7d8-43a8-82af-bbc41f8787cb\",\"subtype\":\"Figure\",\"type\":\"Plot\"},{\"id\":\"936f0f65-1296-4d44-bd74-4be2dda71426\",\"subtype\":\"Figure\",\"type\":\"Plot\"},{\"id\":\"a574fff2-8bda-4d26-9d31-fec65669bd33\",\"subtype\":\"Figure\",\"type\":\"Plot\"}]},\"id\":\"c282f8a4-0a3d-4721-af96-d36cc6df8dba\",\"type\":\"Row\"},{\"attributes\":{\"plot\":null,\"text\":\"TOA flux. CLIRAD (single-run) - CRD.\"},\"id\":\"237d285d-f92d-4bdd-b16b-25a8c2b8d173\",\"type\":\"Title\"},{\"attributes\":{\"dimension\":1,\"plot\":{\"id\":\"a574fff2-8bda-4d26-9d31-fec65669bd33\",\"subtype\":\"Figure\",\"type\":\"Plot\"},\"ticker\":{\"id\":\"d28ccb77-73b2-4f88-b30a-74fdea338781\",\"type\":\"BasicTicker\"}},\"id\":\"0e6d6874-882e-4102-9cd3-956cf252adaf\",\"type\":\"Grid\"},{\"attributes\":{\"bottom_units\":\"screen\",\"fill_alpha\":{\"value\":0.5},\"fill_color\":{\"value\":\"lightgrey\"},\"left_units\":\"screen\",\"level\":\"overlay\",\"line_alpha\":{\"value\":1.0},\"line_color\":{\"value\":\"black\"},\"line_dash\":[4,4],\"line_width\":{\"value\":2},\"plot\":null,\"render_mode\":\"css\",\"right_units\":\"screen\",\"top_units\":\"screen\"},\"id\":\"f88c195c-0f97-42e4-bc9d-9aa4e55cf16e\",\"type\":\"BoxAnnotation\"},{\"attributes\":{\"data_source\":{\"id\":\"047f0c5f-ab4c-4360-b782-5dcbb43b9f62\",\"type\":\"ColumnDataSource\"},\"glyph\":{\"id\":\"792a9618-e4b9-4376-997a-a1d3bf772b00\",\"type\":\"VBar\"},\"hover_glyph\":null,\"muted_glyph\":null,\"nonselection_glyph\":{\"id\":\"d9fe2a9a-2154-4b5e-95a9-d7422588b503\",\"type\":\"VBar\"},\"selection_glyph\":null,\"view\":{\"id\":\"b288eabb-0566-474c-8f24-a654989d1efa\",\"type\":\"CDSView\"}},\"id\":\"b7f870a1-6e11-4fe9-adc9-1c647a19e454\",\"type\":\"GlyphRenderer\"},{\"attributes\":{\"plot\":{\"id\":\"a574fff2-8bda-4d26-9d31-fec65669bd33\",\"subtype\":\"Figure\",\"type\":\"Plot\"},\"ticker\":{\"id\":\"a59339fe-3579-4276-a730-5e7a216e72ef\",\"type\":\"CategoricalTicker\"}},\"id\":\"ce3cbc71-caf6-42b5-95a9-d0923420af52\",\"type\":\"Grid\"},{\"attributes\":{\"active_drag\":\"auto\",\"active_inspect\":\"auto\",\"active_scroll\":\"auto\",\"active_tap\":\"auto\",\"tools\":[{\"id\":\"ab83c660-3573-41e3-8fcd-a807b26e8cbe\",\"type\":\"PanTool\"},{\"id\":\"ddf4edc1-0733-4a37-9377-79195e656a4f\",\"type\":\"WheelZoomTool\"},{\"id\":\"4761394c-a8d7-429e-ba5d-e2baded707f2\",\"type\":\"BoxZoomTool\"},{\"id\":\"a541f3d7-e980-463c-a214-927a2f671d71\",\"type\":\"SaveTool\"},{\"id\":\"73886052-c7b4-4f2f-aefa-3ec4b83f33a8\",\"type\":\"ResetTool\"},{\"id\":\"81ad2dab-4b7f-4848-9208-b9e835f2313c\",\"type\":\"HelpTool\"}]},\"id\":\"600bd051-4e43-4f36-93a8-8458ae442e23\",\"type\":\"Toolbar\"},{\"attributes\":{\"children\":[{\"id\":\"f6d6fddc-5e49-4122-94e3-7a27dfd5c4ad\",\"type\":\"ToolbarBox\"},{\"id\":\"c54d0e4d-8c21-49e7-b351-b21d293f4168\",\"type\":\"Column\"}]},\"id\":\"3ab6f65a-d5fb-4a67-9222-c50efa1e4e61\",\"type\":\"Column\"},{\"attributes\":{\"active_drag\":\"auto\",\"active_inspect\":\"auto\",\"active_scroll\":\"auto\",\"active_tap\":\"auto\",\"tools\":[{\"id\":\"30531525-d39c-4a1f-b175-9bb46125b616\",\"type\":\"PanTool\"},{\"id\":\"ca9e145d-dcc5-40e1-bf42-a2a41cfc93e3\",\"type\":\"WheelZoomTool\"},{\"id\":\"38df77c7-9af5-4685-b35f-f8abc74e180e\",\"type\":\"BoxZoomTool\"},{\"id\":\"e05ece0f-934d-4827-ac1f-58f7a4fd8141\",\"type\":\"SaveTool\"},{\"id\":\"0028f700-51fc-4536-9cb7-7e91c4930b73\",\"type\":\"ResetTool\"},{\"id\":\"bd3d8640-1178-4d69-95a7-b2a29c7b5828\",\"type\":\"HelpTool\"}]},\"id\":\"f890e110-4f7d-4832-b29f-d7341b2c7bc7\",\"type\":\"Toolbar\"},{\"attributes\":{\"bottom_units\":\"screen\",\"fill_alpha\":{\"value\":0.5},\"fill_color\":{\"value\":\"lightgrey\"},\"left_units\":\"screen\",\"level\":\"overlay\",\"line_alpha\":{\"value\":1.0},\"line_color\":{\"value\":\"black\"},\"line_dash\":[4,4],\"line_width\":{\"value\":2},\"plot\":null,\"render_mode\":\"css\",\"right_units\":\"screen\",\"top_units\":\"screen\"},\"id\":\"db4b7e87-45ff-4783-9822-e83b0e78f71d\",\"type\":\"BoxAnnotation\"},{\"attributes\":{},\"id\":\"6bd418f8-1fa2-41a9-8c6f-38deb0352294\",\"type\":\"CategoricalScale\"},{\"attributes\":{},\"id\":\"e9413725-814e-45d8-a94a-cda3601ddd4b\",\"type\":\"CategoricalTickFormatter\"},{\"attributes\":{\"callback\":null,\"factors\":[\"1\",\"2\",\"3\",\"4\",\"5\",\"6\",\"7\",\"8\",\"9\",\"10\",\"11\"]},\"id\":\"1a1ef827-a381-40e2-9a18-bb163ffb7fd0\",\"type\":\"FactorRange\"},{\"attributes\":{},\"id\":\"b6172703-1dc4-43fb-b4fd-f74d5890675c\",\"type\":\"UnionRenderers\"},{\"attributes\":{},\"id\":\"d28ccb77-73b2-4f88-b30a-74fdea338781\",\"type\":\"BasicTicker\"},{\"attributes\":{\"axis_label\":\"flux (W m-2)\",\"formatter\":{\"id\":\"b8620638-f630-40fd-8a3c-e9603f5c77e3\",\"type\":\"BasicTickFormatter\"},\"plot\":{\"id\":\"a574fff2-8bda-4d26-9d31-fec65669bd33\",\"subtype\":\"Figure\",\"type\":\"Plot\"},\"ticker\":{\"id\":\"d28ccb77-73b2-4f88-b30a-74fdea338781\",\"type\":\"BasicTicker\"}},\"id\":\"8df532f1-1291-4b1d-9c1f-65edd848583e\",\"type\":\"LinearAxis\"},{\"attributes\":{\"below\":[{\"id\":\"ae8520b6-a05d-44dd-a1cc-3785ab7b5028\",\"type\":\"CategoricalAxis\"}],\"left\":[{\"id\":\"8df532f1-1291-4b1d-9c1f-65edd848583e\",\"type\":\"LinearAxis\"}],\"plot_height\":300,\"plot_width\":300,\"renderers\":[{\"id\":\"ae8520b6-a05d-44dd-a1cc-3785ab7b5028\",\"type\":\"CategoricalAxis\"},{\"id\":\"ce3cbc71-caf6-42b5-95a9-d0923420af52\",\"type\":\"Grid\"},{\"id\":\"8df532f1-1291-4b1d-9c1f-65edd848583e\",\"type\":\"LinearAxis\"},{\"id\":\"0e6d6874-882e-4102-9cd3-956cf252adaf\",\"type\":\"Grid\"},{\"id\":\"f88c195c-0f97-42e4-bc9d-9aa4e55cf16e\",\"type\":\"BoxAnnotation\"},{\"id\":\"b2f65248-96a3-4ee0-bd54-c9a7355949c5\",\"type\":\"GlyphRenderer\"}],\"title\":{\"id\":\"f49c989b-2b51-40d2-b44c-762a4ab64476\",\"type\":\"Title\"},\"toolbar\":{\"id\":\"600bd051-4e43-4f36-93a8-8458ae442e23\",\"type\":\"Toolbar\"},\"toolbar_location\":null,\"x_range\":{\"id\":\"1a1ef827-a381-40e2-9a18-bb163ffb7fd0\",\"type\":\"FactorRange\"},\"x_scale\":{\"id\":\"6bd418f8-1fa2-41a9-8c6f-38deb0352294\",\"type\":\"CategoricalScale\"},\"y_range\":{\"id\":\"95f994aa-f420-4750-aba2-6b07d91187f9\",\"type\":\"DataRange1d\"},\"y_scale\":{\"id\":\"33e13efd-3cd5-467e-a687-0b594b6b7467\",\"type\":\"LinearScale\"}},\"id\":\"a574fff2-8bda-4d26-9d31-fec65669bd33\",\"subtype\":\"Figure\",\"type\":\"Plot\"},{\"attributes\":{},\"id\":\"f5debe60-dde6-4658-8251-bd415f21b20f\",\"type\":\"UnionRenderers\"},{\"attributes\":{},\"id\":\"beecb4df-d1f1-4d21-97fe-4b07c615269a\",\"type\":\"Selection\"},{\"attributes\":{},\"id\":\"744b7f30-02f6-4b12-a44b-00cc889861b2\",\"type\":\"BasicTickFormatter\"},{\"attributes\":{\"toolbar\":{\"id\":\"010a827b-abd7-4ecd-be23-26b48feb8317\",\"type\":\"ProxyToolbar\"},\"toolbar_location\":\"above\"},\"id\":\"f6d6fddc-5e49-4122-94e3-7a27dfd5c4ad\",\"type\":\"ToolbarBox\"},{\"attributes\":{},\"id\":\"ddf4edc1-0733-4a37-9377-79195e656a4f\",\"type\":\"WheelZoomTool\"},{\"attributes\":{\"children\":[{\"id\":\"c282f8a4-0a3d-4721-af96-d36cc6df8dba\",\"type\":\"Row\"}]},\"id\":\"c54d0e4d-8c21-49e7-b351-b21d293f4168\",\"type\":\"Column\"},{\"attributes\":{},\"id\":\"a541f3d7-e980-463c-a214-927a2f671d71\",\"type\":\"SaveTool\"},{\"attributes\":{},\"id\":\"cc1ecbf0-3934-48b8-a4b2-dad24d271edc\",\"type\":\"CategoricalTickFormatter\"},{\"attributes\":{},\"id\":\"73886052-c7b4-4f2f-aefa-3ec4b83f33a8\",\"type\":\"ResetTool\"},{\"attributes\":{},\"id\":\"f365564b-5730-4c39-b836-76d9ca432adc\",\"type\":\"CategoricalTickFormatter\"},{\"attributes\":{},\"id\":\"a57e191d-5022-4a99-a073-14acb4415681\",\"type\":\"Selection\"},{\"attributes\":{\"fill_alpha\":{\"value\":0.1},\"fill_color\":{\"value\":\"#1f77b4\"},\"line_alpha\":{\"value\":0.1},\"line_color\":{\"value\":\"#1f77b4\"},\"top\":{\"field\":\"flux\"},\"width\":{\"value\":0.9},\"x\":{\"field\":\"band\"}},\"id\":\"7247fba7-b021-4148-9a5d-8f320a97594d\",\"type\":\"VBar\"},{\"attributes\":{\"data_source\":{\"id\":\"15dbbca2-58e9-479f-a486-f94c3925e658\",\"type\":\"ColumnDataSource\"},\"glyph\":{\"id\":\"cd9b4391-a5e5-4f5e-9b70-2112e5428a34\",\"type\":\"VBar\"},\"hover_glyph\":null,\"muted_glyph\":null,\"nonselection_glyph\":{\"id\":\"7247fba7-b021-4148-9a5d-8f320a97594d\",\"type\":\"VBar\"},\"selection_glyph\":null,\"view\":{\"id\":\"83cf3c33-d360-4f51-a7be-d20d080a7bb2\",\"type\":\"CDSView\"}},\"id\":\"b2f65248-96a3-4ee0-bd54-c9a7355949c5\",\"type\":\"GlyphRenderer\"},{\"attributes\":{},\"id\":\"5f71cd75-3837-4e9e-8c72-04efb77edc6f\",\"type\":\"UnionRenderers\"},{\"attributes\":{},\"id\":\"b298c67c-1d0f-4f41-b014-cb92a2921d7b\",\"type\":\"BasicTickFormatter\"},{\"attributes\":{\"fill_color\":{\"value\":\"#1f77b4\"},\"line_color\":{\"value\":\"#1f77b4\"},\"top\":{\"field\":\"flux\"},\"width\":{\"value\":0.9},\"x\":{\"field\":\"band\"}},\"id\":\"cd9b4391-a5e5-4f5e-9b70-2112e5428a34\",\"type\":\"VBar\"},{\"attributes\":{\"callback\":null},\"id\":\"95f994aa-f420-4750-aba2-6b07d91187f9\",\"type\":\"DataRange1d\"},{\"attributes\":{\"axis_label\":\"spectral band\",\"formatter\":{\"id\":\"f365564b-5730-4c39-b836-76d9ca432adc\",\"type\":\"CategoricalTickFormatter\"},\"plot\":{\"id\":\"a574fff2-8bda-4d26-9d31-fec65669bd33\",\"subtype\":\"Figure\",\"type\":\"Plot\"},\"ticker\":{\"id\":\"a59339fe-3579-4276-a730-5e7a216e72ef\",\"type\":\"CategoricalTicker\"}},\"id\":\"ae8520b6-a05d-44dd-a1cc-3785ab7b5028\",\"type\":\"CategoricalAxis\"},{\"attributes\":{\"tools\":[{\"id\":\"30531525-d39c-4a1f-b175-9bb46125b616\",\"type\":\"PanTool\"},{\"id\":\"ca9e145d-dcc5-40e1-bf42-a2a41cfc93e3\",\"type\":\"WheelZoomTool\"},{\"id\":\"38df77c7-9af5-4685-b35f-f8abc74e180e\",\"type\":\"BoxZoomTool\"},{\"id\":\"e05ece0f-934d-4827-ac1f-58f7a4fd8141\",\"type\":\"SaveTool\"},{\"id\":\"0028f700-51fc-4536-9cb7-7e91c4930b73\",\"type\":\"ResetTool\"},{\"id\":\"bd3d8640-1178-4d69-95a7-b2a29c7b5828\",\"type\":\"HelpTool\"},{\"id\":\"cf37d100-a45f-4d09-a9b4-23bf18926901\",\"type\":\"PanTool\"},{\"id\":\"bede7568-767b-4b30-a8f3-3df44bc970c9\",\"type\":\"WheelZoomTool\"},{\"id\":\"7fff98f6-8db9-4a93-a10f-6339f142120f\",\"type\":\"BoxZoomTool\"},{\"id\":\"7404b98d-9276-4248-a403-9ac906d35b1c\",\"type\":\"SaveTool\"},{\"id\":\"e097d3ba-7be5-4145-ab64-c336b9c72d6d\",\"type\":\"ResetTool\"},{\"id\":\"66acf9ef-e709-485a-9666-be7bec8039e2\",\"type\":\"HelpTool\"},{\"id\":\"ab83c660-3573-41e3-8fcd-a807b26e8cbe\",\"type\":\"PanTool\"},{\"id\":\"ddf4edc1-0733-4a37-9377-79195e656a4f\",\"type\":\"WheelZoomTool\"},{\"id\":\"4761394c-a8d7-429e-ba5d-e2baded707f2\",\"type\":\"BoxZoomTool\"},{\"id\":\"a541f3d7-e980-463c-a214-927a2f671d71\",\"type\":\"SaveTool\"},{\"id\":\"73886052-c7b4-4f2f-aefa-3ec4b83f33a8\",\"type\":\"ResetTool\"},{\"id\":\"81ad2dab-4b7f-4848-9208-b9e835f2313c\",\"type\":\"HelpTool\"}]},\"id\":\"010a827b-abd7-4ecd-be23-26b48feb8317\",\"type\":\"ProxyToolbar\"}],\"root_ids\":[\"3ab6f65a-d5fb-4a67-9222-c50efa1e4e61\"]},\"title\":\"Bokeh Application\",\"version\":\"0.12.16\"}};\n",
       "  var render_items = [{\"docid\":\"b8c061b7-4438-41d3-91bd-a209c909ad87\",\"elementid\":\"b0fef9f8-d5fe-4bd1-9c39-e9009684b379\",\"modelid\":\"3ab6f65a-d5fb-4a67-9222-c50efa1e4e61\"}];\n",
       "  root.Bokeh.embed.embed_items_notebook(docs_json, render_items);\n",
       "\n",
       "  }\n",
       "  if (root.Bokeh !== undefined) {\n",
       "    embed_document(root);\n",
       "  } else {\n",
       "    var attempts = 0;\n",
       "    var timer = setInterval(function(root) {\n",
       "      if (root.Bokeh !== undefined) {\n",
       "        embed_document(root);\n",
       "        clearInterval(timer);\n",
       "      }\n",
       "      attempts++;\n",
       "      if (attempts > 100) {\n",
       "        console.log(\"Bokeh: ERROR: Unable to run BokehJS code because BokehJS library is missing\")\n",
       "        clearInterval(timer);\n",
       "      }\n",
       "    }, 10, root)\n",
       "  }\n",
       "})(window);"
      ],
      "application/vnd.bokehjs_exec.v0+json": ""
     },
     "metadata": {
      "application/vnd.bokehjs_exec.v0+json": {
       "id": "3ab6f65a-d5fb-4a67-9222-c50efa1e4e61"
      }
     },
     "output_type": "display_data"
    },
    {
     "data": {
      "text/markdown": [
       "*FIGURE.* Difference between CLIRAD and CRD in TOA, SFC and net atmosphere flux, in each spectral band."
      ],
      "text/plain": [
       "<IPython.core.display.Markdown object>"
      ]
     },
     "metadata": {},
     "output_type": "display_data"
    },
    {
     "data": {
      "text/html": [
       "<div>\n",
       "<style scoped>\n",
       "    .dataframe tbody tr th:only-of-type {\n",
       "        vertical-align: middle;\n",
       "    }\n",
       "\n",
       "    .dataframe tbody tr th {\n",
       "        vertical-align: top;\n",
       "    }\n",
       "\n",
       "    .dataframe thead th {\n",
       "        text-align: right;\n",
       "    }\n",
       "</style>\n",
       "<table border=\"1\" class=\"dataframe\">\n",
       "  <thead>\n",
       "    <tr style=\"text-align: right;\">\n",
       "      <th></th>\n",
       "      <th>OLR flux</th>\n",
       "      <th>SFC flux</th>\n",
       "      <th>ATM heating</th>\n",
       "    </tr>\n",
       "    <tr>\n",
       "      <th>Sum over bands</th>\n",
       "      <th></th>\n",
       "      <th></th>\n",
       "      <th></th>\n",
       "    </tr>\n",
       "  </thead>\n",
       "  <tbody>\n",
       "    <tr>\n",
       "      <th>CLIRAD (single-run) - CRD</th>\n",
       "      <td>102.1</td>\n",
       "      <td>98.87</td>\n",
       "      <td>3.24</td>\n",
       "    </tr>\n",
       "    <tr>\n",
       "      <th>CRD</th>\n",
       "      <td>-303.4</td>\n",
       "      <td>337.24</td>\n",
       "      <td>-181.37</td>\n",
       "    </tr>\n",
       "  </tbody>\n",
       "</table>\n",
       "</div>"
      ],
      "text/plain": [
       "                           OLR flux  SFC flux  ATM heating\n",
       "Sum over bands                                            \n",
       "CLIRAD (single-run) - CRD     102.1     98.87         3.24\n",
       "CRD                          -303.4    337.24      -181.37"
      ]
     },
     "metadata": {},
     "output_type": "display_data"
    },
    {
     "data": {
      "text/markdown": [
       "*TABLE.* Difference between CLIRAD and CRD in TOA, SFC and net atmosphere flux, over all spectral bands. CRD's TOA, SFC and net atmosphere flux, over all spectral bands."
      ],
      "text/plain": [
       "<IPython.core.display.Markdown object>"
      ]
     },
     "metadata": {},
     "output_type": "display_data"
    }
   ],
   "source": [
    "def show_html(s):\n",
    "    display.display(display.HTML(s))\n",
    "\n",
    "    \n",
    "def show_markdown(s):\n",
    "    display.display(display.Markdown(s))\n",
    "\n",
    "\n",
    "def script():\n",
    "    \n",
    "    d_atm = {'mls': 'mid-latitude summer',\n",
    "             'saw': 'sub-arctic winter',\n",
    "             'trp': 'tropical'}\n",
    "    \n",
    "    title = ('## Results over entire range of molecules'\n",
    "             ' and spectral bands')\n",
    "    \n",
    "    s_makeup = 'Makeup of atmosphere.'\n",
    "    s_atmpro = '# {}'\n",
    "    s_cool = 'Cooling rates. {}.'\n",
    "    s_flux = 'Fluxes. {}.'\n",
    "    \n",
    "    atmpros = ['mls', 'saw', 'trp']\n",
    "    \n",
    "    # TOC\n",
    "    show_markdown(title)\n",
    "    show_markdown('### Table of Contents')\n",
    "    show_html(climahtml.getHTML_hrefanchor(s_makeup))\n",
    "    for atmpro in atmpros:\n",
    "        show_markdown('**' + d_atm[atmpro] + '**')\n",
    "        show_html(climahtml.getHTML_hrefanchor(s_cool.format(atmpro)))\n",
    "        show_html(climahtml.getHTML_hrefanchor(s_flux.format(atmpro)))\n",
    "\n",
    "        \n",
    "    # Atmosphere makeup\n",
    "    show_html(climahtml.getHTML_idanchor(s_makeup))\n",
    "    show_markdown(climahtml.getMarkdown_sectitle(s_makeup))\n",
    "    show_makeup()\n",
    "    show_grey_makeup()\n",
    "        \n",
    "    for atmpro in atmpros:\n",
    "        show_html(climahtml.getHTML_idanchor(s_cool.format(atmpro)))\n",
    "        show_markdown(\n",
    "            climahtml.getMarkdown_sectitle(s_cool.format(atmpro)))\n",
    "        show_cool(atmpro=atmpro)\n",
    "        show_html(climahtml.getHTML_idanchor(s_flux.format(atmpro)))\n",
    "        show_markdown(\n",
    "            climahtml.getMarkdown_sectitle(s_flux.format(atmpro)))\n",
    "        show_hist_flux(atmpro=atmpro)\n",
    "        show_tb_flux(atmpro=atmpro)\n",
    "    \n",
    "    \n",
    "script()  "
   ]
  },
  {
   "cell_type": "code",
   "execution_count": null,
   "metadata": {
    "collapsed": true
   },
   "outputs": [],
   "source": []
  },
  {
   "cell_type": "code",
   "execution_count": 876,
   "metadata": {},
   "outputs": [
    {
     "data": {
      "text/html": [
       "<script>\n",
       "code_show=true; \n",
       "function code_toggle() {\n",
       " if (code_show){\n",
       " $('div.input').hide();\n",
       " } else {\n",
       " $('div.input').show();\n",
       " }\n",
       " code_show = !code_show\n",
       "} \n",
       "$( document ).ready(code_toggle);\n",
       "</script>\n",
       "<form action=\"javascript:code_toggle()\"><input type=\"submit\" value=\"Click here to toggle on/off the raw code.\"></form>"
      ],
      "text/plain": [
       "<IPython.core.display.HTML object>"
      ]
     },
     "execution_count": 876,
     "metadata": {},
     "output_type": "execute_result"
    }
   ],
   "source": [
    "display.HTML('''<script>\n",
    "code_show=true; \n",
    "function code_toggle() {\n",
    " if (code_show){\n",
    " $('div.input').hide();\n",
    " } else {\n",
    " $('div.input').show();\n",
    " }\n",
    " code_show = !code_show\n",
    "} \n",
    "$( document ).ready(code_toggle);\n",
    "</script>\n",
    "<form action=\"javascript:code_toggle()\"><input type=\"submit\" value=\"Click here to toggle on/off the raw code.\"></form>''')"
   ]
  },
  {
   "cell_type": "code",
   "execution_count": null,
   "metadata": {
    "collapsed": true
   },
   "outputs": [],
   "source": []
  }
 ],
 "metadata": {
  "kernelspec": {
   "display_name": "Python 3",
   "language": "python",
   "name": "python3"
  },
  "language_info": {
   "codemirror_mode": {
    "name": "ipython",
    "version": 3
   },
   "file_extension": ".py",
   "mimetype": "text/x-python",
   "name": "python",
   "nbconvert_exporter": "python",
   "pygments_lexer": "ipython3",
   "version": "3.6.1"
  }
 },
 "nbformat": 4,
 "nbformat_minor": 2
}
